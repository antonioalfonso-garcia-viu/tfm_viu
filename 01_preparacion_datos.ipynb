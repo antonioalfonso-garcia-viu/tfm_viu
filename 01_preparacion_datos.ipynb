{
 "cells": [
  {
   "cell_type": "markdown",
   "metadata": {},
   "source": [
    "### Importar librerías"
   ]
  },
  {
   "cell_type": "code",
   "execution_count": null,
   "metadata": {},
   "outputs": [],
   "source": [
    "import numpy as np\n",
    "import pandas as pd\n",
    "import datetime\n",
    "import re\n",
    "\n",
    "# importar fichero con utilidades propias\n",
    "from commons import myfunctions as myfunc\n",
    "\n",
    "start_time = datetime.datetime.now()"
   ]
  },
  {
   "cell_type": "markdown",
   "metadata": {},
   "source": [
    "### Variables globales"
   ]
  },
  {
   "cell_type": "code",
   "execution_count": null,
   "metadata": {},
   "outputs": [],
   "source": [
    "myfunc.reset_vars()\n",
    "myfunc.NOTEBK_FILENAME = myfunc.get_nb_name()\n",
    "\n",
    "myfunc.check_enviroment(myfunc.DATA_DIR, myfunc.CFDNA_DIR, myfunc.GENCODE_DIR, myfunc.H5_DIR, myfunc.LOG_DIR, myfunc.CSV_DIR, myfunc.MODEL_DIR, myfunc.EXEC_DIR, myfunc.MET_DIR)\n",
    "\n",
    "myfunc.print_vars()"
   ]
  },
  {
   "cell_type": "markdown",
   "metadata": {},
   "source": [
    "### 1.- Unión de los ficheros con los distintos tipos de cáncer en uno."
   ]
  },
  {
   "cell_type": "code",
   "execution_count": null,
   "metadata": {},
   "outputs": [],
   "source": [
    "myfunc.verbose(\"Inicio de unión de ficheros\")\n",
    "\n",
    "# dataframe con columnas/características\n",
    "df_r = pd.DataFrame()\n",
    "\n",
    "# dataframe con etiquetas/target/tipos de cáncer\n",
    "df_c = pd.DataFrame()\n",
    "\n",
    "unir_columnas=[\"id\", \"Chr\", \"Start\", \"End\", \"Strand\", \"Length\"]\n",
    "\n",
    "for target1 in myfunc.TARGET_MAPPING:\n",
    "    myfunc.verbose(f\"Tratando el fichero '{target1}'\")\n",
    "\n",
    "    fichero1='GSE202988_5hmC_ReadCount_BinnedGenome_'+target1+'.txt'\n",
    "    df_tmp=myfunc.read_data_file(fichero1, myfunc.CFDNA_DIR, myfunc.N_ROWS)\n",
    "\n",
    "    df_c=myfunc.add_target_row(df_tmp, df_c, target1, unir_columnas)\n",
    "\n",
    "    if df_r.empty:\n",
    "        df_r = df_tmp.copy()\n",
    "    else:\n",
    "        df_r = df_r.merge(df_tmp, on=unir_columnas, how=\"outer\")\n",
    "    \n",
    "    myfunc.verbose(f\"Antes de unir df_tmp : (row,cols) -> {df_tmp.shape}\")\n",
    "    myfunc.verbose(f\"Después de unir df_r : (row,cols) -> {df_r.shape}\")\n",
    "    myfunc.verbose(f\"Después de unir df_c : (row,cols) -> {df_c.shape}\")\n",
    "\n",
    "myfunc.verbose(\"Fin unión de ficheros\")"
   ]
  },
  {
   "cell_type": "markdown",
   "metadata": {},
   "source": [
    "Visualizar el dataframe, eliminar muestra atipica Z82 y guardarlo en un fichero h5"
   ]
  },
  {
   "cell_type": "code",
   "execution_count": null,
   "metadata": {},
   "outputs": [],
   "source": [
    "display(df_r)\n",
    "display(df_r.shape)\n",
    "df_r.drop([\"Z82\"], axis=1, inplace=True)\n",
    "display(df_r.shape)\n",
    "\n",
    "myfunc.save_df_to_h5(df_r, \"files_joined\", myfunc.H5_DIR)\n"
   ]
  },
  {
   "cell_type": "markdown",
   "metadata": {},
   "source": [
    "Visualizar el dataframe de la clase, eliminar la muestra Z82"
   ]
  },
  {
   "cell_type": "code",
   "execution_count": null,
   "metadata": {},
   "outputs": [],
   "source": [
    "display(df_c)\n",
    "display(df_c[\"Z82\"])\n",
    "display(df_c.shape)\n",
    "df_c.drop(\"Z82\", axis=1, inplace=True)\n",
    "display(df_c.shape)\n"
   ]
  },
  {
   "cell_type": "markdown",
   "metadata": {},
   "source": [
    "Trasponer el dataframe de clases para tener asociado el id de la muestra al tipo de cáncer.\n",
    "\n",
    "Ver información del contenido del dataframe y guardarlo en un fichero."
   ]
  },
  {
   "cell_type": "code",
   "execution_count": null,
   "metadata": {},
   "outputs": [],
   "source": [
    "quitar_columnas = [\"Chr\", \"Start\", \"End\", \"Strand\", \"Length\"]\n",
    "df_c.drop(quitar_columnas, axis=1, inplace=True)\n",
    "\n",
    "df_c.set_index('id', inplace=True)\n",
    "\n",
    "df_c = df_c.transpose()\n",
    "\n",
    "myfunc.save_df_to_h5(df_c, \"classes_by_id_string\", myfunc.H5_DIR)\n",
    "myfunc.verbose(f\"Cantidad de muestras de cáncer agrupado por el nombre.\")\n",
    "myfunc.verbose(df_c.groupby(\"target\").size())\n",
    "\n",
    "df_c['target'] = df_c['target'].map(myfunc.TARGET_MAPPING)\n",
    "\n",
    "myfunc.save_df_to_h5(df_c, \"classes_by_id\", myfunc.H5_DIR)\n",
    "myfunc.verbose(f\"Cantidad de muestras de cáncer agrupado por el identificador.\")\n",
    "myfunc.verbose(df_c.groupby(\"target\").size())\n"
   ]
  },
  {
   "cell_type": "markdown",
   "metadata": {},
   "source": [
    "### 2.- Generar fichero de genes"
   ]
  },
  {
   "cell_type": "markdown",
   "metadata": {},
   "source": [
    "Selecccionar las lineas que nos interesa del fichero de genes.\n",
    "\n",
    "Aquellas que 'feature_type == \"transcript\" and chromosome_name != \"chrX\" and chromosome_name != \"chrY\" and chromosome_name != \"chrM\"'"
   ]
  },
  {
   "cell_type": "code",
   "execution_count": null,
   "metadata": {},
   "outputs": [],
   "source": [
    "df_g = pd.DataFrame()\n",
    "\n",
    "fichero1=\"gencode.v44.primary_assembly.annotation.gtf\"\n",
    "df_tmp=myfunc.read_gtf_file(fichero1, myfunc.GENCODE_DIR, myfunc.N_ROWS)\n",
    "myfunc.verbose(f\"Shape : (row,cols) -> {df_tmp.shape}\")\n",
    "\n",
    "df_tmp = df_tmp[df_tmp['chromosome_name'].str.startswith('chr')].query('feature_type == \"transcript\" and chromosome_name != \"chrX\" and chromosome_name != \"chrY\" and chromosome_name != \"chrM\"')\n",
    "\n",
    "display(df_tmp)\n"
   ]
  },
  {
   "cell_type": "markdown",
   "metadata": {},
   "source": [
    "Finalmente se seleccionan las lineas de genes tipo \"protein_coding\""
   ]
  },
  {
   "cell_type": "code",
   "execution_count": null,
   "metadata": {},
   "outputs": [],
   "source": [
    "\n",
    "# Función para extraer valores de la columna 'attributes', pero sólo el primero que encuentra.\n",
    "def extraer_atributo(valor_atributo, atributo):\n",
    "    match = re.search(rf'{atributo} [\"\\']?(.*?)[\\'\"]?(;|$)', valor_atributo)\n",
    "    if match:\n",
    "        return match.group(1)\n",
    "    else:\n",
    "        return None\n",
    "\n",
    "# sólo se obtienen los atributos que interesan del fichero\n",
    "atributos = ['gene_id','transcript_id','gene_type','gene_name','transcript_type']\n",
    "\n",
    "for atrib1 in atributos:\n",
    "    df_tmp[atrib1] = df_tmp['attributes'].apply(lambda x: extraer_atributo(x, atrib1))\n",
    "\n",
    "df_tmp = df_tmp[df_tmp['chromosome_name'].str.startswith('chr')].query('gene_type == \"protein_coding\"')\n",
    "\n",
    "display(df_tmp)\n"
   ]
  },
  {
   "cell_type": "markdown",
   "metadata": {},
   "source": [
    "Guardar en un fichero los datos que interesan de los genes, como su id y las posiciones que ocupa."
   ]
  },
  {
   "cell_type": "code",
   "execution_count": null,
   "metadata": {},
   "outputs": [],
   "source": [
    "\n",
    "quitar_columnas = [\"annotation_source\",\"feature_type\",\"score\",\"genomic_strand\",\"genomic_phase\",\"attributes\"]\n",
    "\n",
    "df_tmp.drop(quitar_columnas, axis=1, inplace=True)\n",
    "\n",
    "\n",
    "df_min=pd.DataFrame(df_tmp.groupby(['gene_id','gene_name','chromosome_name'])['genomic_start_location'].min())\n",
    "df_max=pd.DataFrame(df_tmp.groupby(['gene_id','gene_name','chromosome_name'])['genomic_end_location'].max())\n",
    "\n",
    "df_tmp1 = df_min.merge(df_max, left_index=True, right_index=True).sort_values(['chromosome_name','genomic_start_location']).reset_index()\n",
    "\n",
    "df_tmp1 = df_tmp1.rename({'chromosome_name': 'gChr', 'genomic_start_location': 'gStart', 'genomic_end_location': 'gEnd'}, axis='columns')\n",
    "\n",
    "display(df_tmp1)\n",
    "\n",
    "myfunc.save_df_to_h5(df_tmp1.sort_values(['gChr','gStart']), 'transcript.protein_coding', myfunc.H5_DIR)\n"
   ]
  },
  {
   "cell_type": "markdown",
   "metadata": {},
   "source": [
    "### 3.- Generar fichero con los valores en las posiciones de los genes."
   ]
  },
  {
   "cell_type": "markdown",
   "metadata": {},
   "source": [
    "Leer los ficheros preparados de datos y genes."
   ]
  },
  {
   "cell_type": "code",
   "execution_count": null,
   "metadata": {},
   "outputs": [],
   "source": [
    "df1 = myfunc.read_h5_to_df(\"files_joined\", myfunc.H5_DIR)[[\"id\",\"Chr\",\"Start\",\"End\"]]\n",
    "\n",
    "df2 = myfunc.read_h5_to_df(\"transcript.protein_coding\", myfunc.H5_DIR)\n",
    "\n",
    "#  al ser 1-based, se resta uno para comparar con las posiciones de los bines que son 0-based\n",
    "df2['gStart'] = df2['gStart'] - 1\n",
    "df2['gEnd'] = df2['gEnd']\n",
    "\n",
    "display(df1[df1.Start == 0])\n",
    "display(df2[df2.gene_name == \"MKKS\"])"
   ]
  },
  {
   "cell_type": "markdown",
   "metadata": {},
   "source": [
    "Preparar fichero de datos generando columna con posiciones de los bines por cada cromosoma.\n",
    "\n",
    "A modo informativo se cuenta el número de genes y de genes x cromosoma\n"
   ]
  },
  {
   "cell_type": "code",
   "execution_count": null,
   "metadata": {},
   "outputs": [],
   "source": [
    "# Función para extraer el número de la cadena y ordenar por el número\n",
    "def extract_number_bin(s):\n",
    "    return int(s.replace(\"bin\", \"\"))\n",
    "\n",
    "def extract_number_chr(s):\n",
    "    return int(s.replace(\"chr\", \"\"))\n",
    "\n",
    "df1['chr_number'] = df1['Chr'].apply(extract_number_chr)\n",
    "df1['pos_number'] = (1+df1['Start']/5000).astype(\"Int64\")\n",
    "\n",
    "print(\"distinct Chr\",df2[\"gChr\"].unique().size)\n",
    "print(\"\\ndistinct gene_id\",df2[\"gene_id\"].unique().size)\n",
    "\n",
    "print(\"\\nFilas con gen_id duplicado:\")\n",
    "df_repe1=df2[df2[\"gene_id\"].duplicated()].sort_values(by=\"gene_name\")\n",
    "display(df_repe1)\n",
    "\n",
    "print(\"distinct gene_name\",df2[\"gene_name\"].unique().size)\n",
    "\n",
    "print(\"\\nFilas con gen_name duplicado:\")\n",
    "df_repe1=df2[df2[\"gene_name\"].duplicated()].sort_values(by=\"gene_name\")\n",
    "display(df2[df2.gene_name.isin(df_repe1[\"gene_name\"])])\n",
    "\n",
    "df2['chr_number'] = df2['gChr'].apply(extract_number_chr)\n",
    "display(display(df2.sort_values(by=[\"chr_number\",\"gStart\"])))\n"
   ]
  },
  {
   "cell_type": "markdown",
   "metadata": {},
   "source": [
    "Buscar cada gen en que bin se encuentra. \n",
    "\n",
    "Con la posición inicial y final, se divide por 5k que es la agrupación en el fichero de datos."
   ]
  },
  {
   "cell_type": "code",
   "execution_count": null,
   "metadata": {},
   "outputs": [],
   "source": [
    "\n",
    "df3 = df2.copy()\n",
    "df3['gStart_bin'] = 1 + df3['gStart'].astype('int64')//5000\n",
    "df3['gEnd_bin'] =1 + df3['gEnd'].astype('int64')//5000\n",
    "\n",
    "# Función para generar la secuencia de números\n",
    "def generate_sequence(row):\n",
    "    return list(range(row['gStart_bin'], row['gEnd_bin'] + 1))\n",
    "\n",
    "# Aplicar la función y crear una nueva columna 'sequence' en el DataFrame\n",
    "df3['sequence'] = df3.apply(generate_sequence, axis=1)\n",
    "\n",
    "df3 = df3.sort_values(by=[\"chr_number\",\"gStart\"])\n",
    "display(df3)\n",
    "\n",
    "display(df3[df3.gene_id == \"ENSG00000188976.11\"])"
   ]
  },
  {
   "cell_type": "markdown",
   "metadata": {},
   "source": [
    "Eliminar duplicados si los hubiera"
   ]
  },
  {
   "cell_type": "code",
   "execution_count": null,
   "metadata": {},
   "outputs": [],
   "source": [
    "\n",
    "columns_to_keep = ['gChr', 'gene_id', 'chr_number','sequence']\n",
    "\n",
    "# Aplicar explode para desglosar la lista de números en filas separadas\n",
    "df4 = df3[columns_to_keep].explode('sequence', ignore_index=True)\n",
    "\n",
    "# Renombrar las columnas del nuevo DataFrame\n",
    "df4.columns = ['gChr', 'gene_id', 'chr_number', 'pos_number']\n",
    "\n",
    "display(df4.sort_values(by=[\"chr_number\",\"pos_number\"]))\n",
    "\n",
    "df4.drop_duplicates(inplace=True)\n",
    "display(df4.sort_values(by=[\"chr_number\",\"pos_number\"]))\n"
   ]
  },
  {
   "cell_type": "markdown",
   "metadata": {},
   "source": [
    "Visualizar el dataframe original con las posiciones para cada cromosoma"
   ]
  },
  {
   "cell_type": "code",
   "execution_count": null,
   "metadata": {},
   "outputs": [],
   "source": [
    "\n",
    "display(df1.sort_values(by=[\"chr_number\",\"pos_number\"]))"
   ]
  },
  {
   "cell_type": "markdown",
   "metadata": {},
   "source": [
    "Se cruzan el dataset datos y el generado con los genes.\n",
    "\n",
    "De esta forma se obtiene cada gen que bines abarca."
   ]
  },
  {
   "cell_type": "code",
   "execution_count": null,
   "metadata": {},
   "outputs": [],
   "source": [
    "df1['chr_number'] = df1['chr_number'].astype('int64')\n",
    "df1['pos_number'] = df1['pos_number'].astype('int64')\n",
    "df4['chr_number'] = df4['chr_number'].astype('int64')\n",
    "df4['pos_number'] = df4['pos_number'].astype('int64')\n",
    "\n",
    "display(df1[df1.Chr==\"chr2\"])\n",
    "display(df4[df4.gChr==\"chr2\"])\n",
    "\n",
    "data = pd.merge(df1, df4, on=['chr_number','pos_number'], how='inner') \n",
    "result3 = data.sort_values(by=[\"chr_number\",\"pos_number\"])\n",
    "display(result3)\n",
    "\n",
    "myfunc.save_df_to_h5(result3, 'bines_transcript_e', myfunc.H5_DIR)\n"
   ]
  },
  {
   "cell_type": "markdown",
   "metadata": {},
   "source": [
    "Seleccionar las filas del fichero completo de datos y hacer un merge con el fichero de genes (con la posición del bin en el que está)"
   ]
  },
  {
   "cell_type": "code",
   "execution_count": null,
   "metadata": {},
   "outputs": [],
   "source": [
    "df1 = myfunc.read_h5_to_df(\"files_joined\", myfunc.H5_DIR)\n",
    "display(result3)\n",
    "\n",
    "df2 = result3[[\"Chr\",\"id\",\"gene_id\"]]\n",
    "\n",
    "display(df1)\n",
    "display(df2)\n",
    "\n",
    "df3 = df1.merge(df2, on=[\"Chr\",\"id\"], how=\"inner\")\n",
    "display(df3)\n"
   ]
  },
  {
   "cell_type": "markdown",
   "metadata": {},
   "source": [
    "Eliminar columnas innecesarias"
   ]
  },
  {
   "cell_type": "code",
   "execution_count": null,
   "metadata": {},
   "outputs": [],
   "source": [
    "columnas1 = list(df3.columns)\n",
    "print(columnas1)\n",
    "columnas1.remove(\"Start\")\n",
    "columnas1.remove(\"End\")\n",
    "columnas1.remove(\"Strand\")\n",
    "columnas1.remove(\"Length\")\n",
    "columnas1.remove(\"id\")\n",
    "columnas1.remove(\"Chr\")\n",
    "print(columnas1)\n",
    "df4 = df3[columnas1]\n",
    "display(df4.sort_values(by=\"gene_id\").head(33))\n",
    "display(df4[df4.gene_id==\"ENSG00000188976.11\"].sort_values(by=\"gene_id\").head(33))"
   ]
  },
  {
   "cell_type": "markdown",
   "metadata": {},
   "source": [
    "Calcular la media de las medidas de los bines por gen de cada muestra"
   ]
  },
  {
   "cell_type": "code",
   "execution_count": null,
   "metadata": {},
   "outputs": [],
   "source": [
    "\n",
    "df_min1=pd.DataFrame(df4.groupby(['gene_id']).mean(numeric_only=True))\n",
    "display(df_min1)\n"
   ]
  },
  {
   "cell_type": "markdown",
   "metadata": {},
   "source": [
    "Se traspone el dataframe."
   ]
  },
  {
   "cell_type": "code",
   "execution_count": null,
   "metadata": {},
   "outputs": [],
   "source": [
    "df_t = df_min1.transpose()\n",
    "\n",
    "display(df_t)\n",
    "\n",
    "if myfunc.SHOW_DISPLAYS:\n",
    "    display(df_t.shape)\n",
    "    display(df_t.dtypes)\n"
   ]
  },
  {
   "cell_type": "markdown",
   "metadata": {},
   "source": [
    "Se eliminan las columnas con varianza cero/valores constantes."
   ]
  },
  {
   "cell_type": "code",
   "execution_count": null,
   "metadata": {},
   "outputs": [],
   "source": [
    "varianza0 = np.var(df_t, axis=0)\n",
    "columnas_var0 = varianza0[varianza0 != 0].index\n",
    "df_t = df_t[columnas_var0]\n",
    "display(df_t.shape)"
   ]
  },
  {
   "cell_type": "markdown",
   "metadata": {},
   "source": [
    "Se guarda un ficheros con los genes, otro fichero con los genes mas el nombre del tipo de cáncer y otro con los genes y el identificador del cáncer."
   ]
  },
  {
   "cell_type": "code",
   "execution_count": null,
   "metadata": {},
   "outputs": [],
   "source": [
    "\n",
    "myfunc.save_df_to_h5(df_t, \"rows_transpose_by_gene_id\", myfunc.H5_DIR)\n",
    "\n",
    "df_s = myfunc.read_h5_to_df(\"classes_by_id_string\", myfunc.H5_DIR)\n",
    "\n",
    "df_new = df_t.merge(df_s, left_index=True, right_index=True)\n",
    "df_new.index.name = \"id\"\n",
    "display(df_new.reset_index())\n",
    "\n",
    "if myfunc.SHOW_DISPLAYS:\n",
    "    display(df_new.shape)\n",
    "    display(df_new.dtypes)\n",
    "\n",
    "myfunc.save_df_to_h5(df_new, \"rows_transpose_by_gene_id_with_target_str\", myfunc.H5_DIR)\n",
    "\n",
    "df_s = myfunc.read_h5_to_df(\"classes_by_id\", myfunc.H5_DIR)\n",
    "df_new = df_t.merge(df_s, left_index=True, right_index=True)\n",
    "df_new.index.name = \"id\"\n",
    "display(df_new.reset_index())\n",
    "\n",
    "if myfunc.SHOW_DISPLAYS:\n",
    "    display(df_new.shape)\n",
    "    display(df_new.dtypes)\n",
    "\n",
    "myfunc.save_df_to_h5(df_new, \"rows_transpose_by_gene_id_with_target_num\", myfunc.H5_DIR)\n"
   ]
  },
  {
   "cell_type": "markdown",
   "metadata": {},
   "source": [
    "### 4.- Normalización de los datos\n",
    "\n",
    "Se normalizan los datos y se guarda el fichero normalizado con el identificador del tipo de cáncer"
   ]
  },
  {
   "cell_type": "code",
   "execution_count": null,
   "metadata": {},
   "outputs": [],
   "source": [
    "from sklearn.preprocessing import RobustScaler\n",
    "\n",
    "normalizer = RobustScaler(with_centering=True, with_scaling=True)\n",
    "\n",
    "df_n = pd.DataFrame(normalizer.fit_transform(df_t), columns=df_t.columns, index=df_t.index)\n",
    "\n",
    "display(df_n)\n",
    "display(df_n.shape)\n",
    "\n",
    "df_new = df_n.merge(df_s, left_index=True, right_index=True)\n",
    "\n",
    "display(df_new.shape)\n",
    "display(df_new)\n",
    "\n",
    "myfunc.save_df_to_h5(df_new, \"rows_transpose_norm_by_gene_id_with_target_num\", myfunc.H5_DIR)\n"
   ]
  },
  {
   "cell_type": "markdown",
   "metadata": {},
   "source": [
    "### 5.- Generar los siguientes ficheros con muestras balanceadas."
   ]
  },
  {
   "cell_type": "markdown",
   "metadata": {},
   "source": [
    "Leer fichero con los datos a balancear"
   ]
  },
  {
   "cell_type": "code",
   "execution_count": null,
   "metadata": {},
   "outputs": [],
   "source": [
    "df_t = myfunc.read_h5_to_df(\"rows_transpose_norm_by_gene_id_with_target_num\", myfunc.H5_DIR)"
   ]
  },
  {
   "cell_type": "markdown",
   "metadata": {},
   "source": [
    "#### 5.1.\tClasificación binaria con submuestreo de datos"
   ]
  },
  {
   "cell_type": "markdown",
   "metadata": {},
   "source": [
    "\n",
    "##### 221 de control + 37 muestras de los 6 tipos de cáncer (total 222 muestras).\n",
    "\n",
    "El identificador de este conjunto de datos es \"bin_s\" y sólo contiene muestras reales.\n",
    "\n",
    "Se crea el fichero con 222 muestras normalizadas para utilizar en la clasificación binaria. Adicionalmente se crea un fichero de test para hacer pruebas de ejecución."
   ]
  },
  {
   "cell_type": "code",
   "execution_count": null,
   "metadata": {},
   "outputs": [],
   "source": [
    "np.random.seed(42)\n",
    "\n",
    "display(df_t.groupby(\"target\").size())\n",
    "display(df_t.shape)\n",
    "n_target_0 = df_t[df_t.target==0].groupby(\"target\").size()[0]\n",
    "n_target_1 = df_t.shape[0] - n_target_0\n",
    "\n",
    "df_concat = pd.DataFrame()\n",
    "\n",
    "for class1 in myfunc.TARGET_MAPPING.values():\n",
    "    if class1 == 0:\n",
    "        # incluir todas las filas del target 0\n",
    "        df_tmp = df_t[df_t.target==class1].sample(n_target_0, random_state=42)\n",
    "        df_tmp.target = 0\n",
    "    else:\n",
    "        # incluir un numero constante de filas\n",
    "        df_tmp = df_t[df_t.target==class1].sample(37, random_state=42)\n",
    "\n",
    "    if df_concat.empty:\n",
    "        df_concat = df_tmp.copy()\n",
    "    else:\n",
    "        df_concat  = pd.concat([df_concat, df_tmp], axis = 0)\n",
    "\n",
    "display(df_concat.groupby(\"target\").size())\n",
    "\n",
    "df_concat.loc[df_concat['target'] != 0, 'target'] = 1\n",
    "\n",
    "myfunc.verbose(\"Muestras balanceadas entre cancerosas y sanas.\")\n",
    "display(df_concat.groupby(\"target\").size())\n",
    "\n",
    "display(df_concat)\n",
    "myfunc.save_df_to_h5(df_concat, \"rows_transpose_norm_by_gene_id_with_target_num_bin_s\", myfunc.H5_DIR)\n",
    "myfunc.save_df_to_h5(df_concat, \"rows_transpose_norm_by_gene_id_with_target_num_bin_s_test\", myfunc.H5_DIR)"
   ]
  },
  {
   "cell_type": "markdown",
   "metadata": {},
   "source": [
    "#### 5.2.\tClasificación binaria con submuestreo + sobremuestreo\n"
   ]
  },
  {
   "cell_type": "markdown",
   "metadata": {},
   "source": [
    "\n",
    "##### 221 de control + 139 muestras sintéticas (total 360 muestras) + 60 muestras de los 6 tipos de cáncer (total 360 muestras)\n",
    "\n",
    "El identificador de este conjunto de datos es \"bin_m\" y contiene muestras reales y sintéticas. \n",
    "\n",
    "Se crea el fichero con 360 muestras normalizadas para utilizar en la clasificación binaria. Adicionalmente se crea un fichero de test para hacer pruebas de ejecución."
   ]
  },
  {
   "cell_type": "code",
   "execution_count": null,
   "metadata": {},
   "outputs": [],
   "source": [
    "from imblearn.over_sampling import SMOTE\n",
    "\n",
    "np.random.seed(42)\n",
    "\n",
    "df_t2 =df_t.copy()\n",
    "\n",
    "muestras_por_target=df_t2.groupby(by=\"target\").size()\n",
    "\n",
    "df_concat = pd.DataFrame()\n",
    "\n",
    "X = df_t2.drop(columns=\"target\")\n",
    "y = df_t2[\"target\"]\n",
    "display(X.shape)\n",
    "for class1 in myfunc.TARGET_MAPPING.values():\n",
    "\n",
    "    n_muestras=muestras_por_target[class1]\n",
    "    print(\"muestras clase \",class1,\":\",n_muestras)\n",
    "\n",
    "    if class1 == 0:\n",
    "        smote = SMOTE(sampling_strategy={class1: 360}, random_state=42)\n",
    "        X_resampled, y_resampled = smote.fit_resample(X, y)\n",
    "        # concatenar con la clase\n",
    "        df_tmp = pd.concat([X_resampled, y_resampled], axis=1)\n",
    "        # se conservan las muestras de esa clase\n",
    "        df_tmp = df_tmp[df_tmp.target==class1]\n",
    "    else:\n",
    "        if n_muestras <= 60:\n",
    "            smote = SMOTE(sampling_strategy={class1: 60}, random_state=42)\n",
    "            X_resampled, y_resampled = smote.fit_resample(X, y)\n",
    "            # concatenat con la clase\n",
    "            df_tmp = pd.concat([X_resampled, y_resampled], axis=1)\n",
    "            # se conservan las muestras de esa clase\n",
    "            df_tmp = df_tmp[df_tmp.target==class1]\n",
    "        else:\n",
    "            # como hay más muestras, se hace submuestreo\n",
    "            df_tmp = df_t[df_t.target==class1].sample(60, random_state=42)\n",
    "\n",
    "    if df_concat.empty:\n",
    "        df_concat = df_tmp.copy()\n",
    "    else:\n",
    "        df_concat  = pd.concat([df_concat, df_tmp], axis = 0)\n",
    "\n",
    "display(df_concat.groupby(\"target\").size())\n",
    "\n",
    "df_concat.loc[df_concat['target'] != 0, 'target'] = 1\n",
    "\n",
    "myfunc.verbose(\"Muestras balanceadas entre cancerosas y sanas.\")\n",
    "display(df_concat.groupby(\"target\").size())\n",
    "\n",
    "display(df_concat)\n",
    "display(df_concat.dtypes)\n",
    "myfunc.save_df_to_h5(df_concat, \"rows_transpose_norm_by_gene_id_with_target_num_bin_m\", myfunc.H5_DIR)\n",
    "myfunc.save_df_to_h5(df_concat, \"rows_transpose_norm_by_gene_id_with_target_num_bin_m_test\", myfunc.H5_DIR)\n"
   ]
  },
  {
   "cell_type": "markdown",
   "metadata": {},
   "source": [
    "#### 5.3.\tClasificación multicáncer con submuestreo de datos"
   ]
  },
  {
   "cell_type": "markdown",
   "metadata": {},
   "source": [
    "\n",
    "##### 37 muestras de cada tipo, control + 6 tipos cáncer\n",
    "\n",
    "El identificador de este conjunto de datos es \"mul_s\" y solo contiene muestras reales. \n",
    "\n",
    "Se crea el fichero con 259 muestras normalizadas para utilizar en la clasificación multicáncer. Adicionalmente se crea un fichero de test para hacer pruebas de ejecución."
   ]
  },
  {
   "cell_type": "code",
   "execution_count": null,
   "metadata": {},
   "outputs": [],
   "source": [
    "np.random.seed(42)\n",
    "\n",
    "df_t2 = df_t.copy()\n",
    "display(df_t2.groupby(\"target\").size())\n",
    "display(df_t2.shape)\n",
    "\n",
    "df_concat = pd.DataFrame()\n",
    "\n",
    "for class1 in myfunc.TARGET_MAPPING.values():\n",
    "    df_tmp = df_t2[df_t2.target==class1].sample(37, random_state=42)\n",
    "\n",
    "    if df_concat.empty:\n",
    "        df_concat = df_tmp.copy()\n",
    "    else:\n",
    "        df_concat  = pd.concat([df_concat, df_tmp], axis = 0)\n",
    "\n",
    "myfunc.verbose(\"Muestras balanceadas por tipo de cáncer.\")\n",
    "display(df_concat.groupby(\"target\").size())\n",
    "\n",
    "display(df_concat)\n",
    "myfunc.save_df_to_h5(df_concat, \"rows_transpose_norm_by_gene_id_with_target_num_mul_s\", myfunc.H5_DIR)\n",
    "myfunc.save_df_to_h5(df_concat, \"rows_transpose_norm_by_gene_id_with_target_num_mul_s_test\", myfunc.H5_DIR)"
   ]
  },
  {
   "cell_type": "markdown",
   "metadata": {},
   "source": [
    "#### 5.4. Clasificación multicáncer con submuestreo + sobremuestreo"
   ]
  },
  {
   "cell_type": "markdown",
   "metadata": {},
   "source": [
    "\n",
    "##### 62 muestras de cada tipo, control + 6 tipos cáncer\n",
    "\n",
    "El identificador de este conjunto de datos es \"mul_m\" y contiene muestras reales y sintéticas. \n",
    "\n",
    "Se crea el fichero con 434 muestras normalizadas para utilizar en la clasificación multicáncer. Adicionalmente se crea un fichero de test para hacer pruebas de ejecución."
   ]
  },
  {
   "cell_type": "code",
   "execution_count": null,
   "metadata": {},
   "outputs": [],
   "source": [
    "from imblearn.over_sampling import SMOTE\n",
    "\n",
    "np.random.seed(42)\n",
    "\n",
    "df_t2 = df_t.copy()\n",
    "display(df_t2.groupby(\"target\").size())\n",
    "\n",
    "muestras_por_target=df_t2.groupby(by=\"target\").size()\n",
    "\n",
    "df_concat = pd.DataFrame()\n",
    "\n",
    "X = df_t2.drop(columns=\"target\")\n",
    "y = df_t2[\"target\"]\n",
    "for class1 in myfunc.TARGET_MAPPING.values():\n",
    "\n",
    "    n_muestras=muestras_por_target[class1]\n",
    "    print(\"muestras clase \",class1,\":\",n_muestras)\n",
    "\n",
    "    if class1 == 0:\n",
    "        df_tmp = df_t2[df_t2.target==class1].sample(62, random_state=42)\n",
    "    else:\n",
    "        if n_muestras <= 62:\n",
    "            smote = SMOTE(sampling_strategy={class1: 62}, random_state=42)\n",
    "            X_resampled, y_resampled = smote.fit_resample(X, y)\n",
    "            # concatenar con la clase\n",
    "            df_tmp = pd.concat([X_resampled, y_resampled], axis=1)\n",
    "            # se conservan las muestras de esa clase\n",
    "            df_tmp = df_tmp[df_tmp.target==class1]\n",
    "        else:\n",
    "            # como hay más muestras, se hace submuestreo\n",
    "            df_tmp = df_t2[df_t2.target==class1].sample(62, random_state=42)\n",
    "\n",
    "    if df_concat.empty:\n",
    "        df_concat = df_tmp.copy()\n",
    "    else:\n",
    "        df_concat  = pd.concat([df_concat, df_tmp], axis = 0)\n",
    "\n",
    "myfunc.verbose(\"Muestras balanceadas por tipo de cáncer.\")\n",
    "display(df_concat.groupby(\"target\").size())\n",
    "\n",
    "display(df_concat)\n",
    "myfunc.save_df_to_h5(df_concat, \"rows_transpose_norm_by_gene_id_with_target_num_mul_m\", myfunc.H5_DIR)\n",
    "myfunc.save_df_to_h5(df_concat, \"rows_transpose_norm_by_gene_id_with_target_num_mul_m_test\", myfunc.H5_DIR)"
   ]
  },
  {
   "cell_type": "markdown",
   "metadata": {},
   "source": [
    "El resto de muestras quedan en este fichero serán solo las de tipo 0 y tipo 6 que no han sido vistas por ningún modelo."
   ]
  },
  {
   "cell_type": "code",
   "execution_count": null,
   "metadata": {},
   "outputs": [],
   "source": [
    "np.random.seed(42)\n",
    "df_resto = myfunc.read_h5_to_df(\"rows_transpose_norm_by_gene_id_with_target_num\", myfunc.H5_DIR)\n",
    "display(df_resto.shape)\n",
    "\n",
    "muestras_por_target=df_resto.groupby(by=\"target\").size()\n",
    "for class1 in myfunc.TARGET_MAPPING.values():\n",
    "\n",
    "    n_muestras=muestras_por_target[class1]\n",
    "\n",
    "    if n_muestras <= 62:\n",
    "        df_tmp = df_resto[df_resto.target==class1].sample(n_muestras, random_state=42)\n",
    "        print(f\"quedan muestras clase {class1}: {n_muestras} - {df_tmp.shape[0]} = {n_muestras - df_tmp.shape[0]}\")\n",
    "    else:\n",
    "        df_tmp = df_resto[df_resto.target==class1].sample(62, random_state=42)\n",
    "        print(f\"quedan muestras clase {class1}: {n_muestras} - {df_tmp.shape[0]} = {n_muestras - df_tmp.shape[0]}\")\n",
    "\n",
    "    #  resto de muestras\n",
    "    df_resto = df_resto[~df_resto.index.isin(df_tmp.index)]\n",
    "\n",
    "display(df_resto.groupby(\"target\").size())\n",
    "myfunc.save_df_to_h5(df_resto, \"rows_transpose_norm_by_gene_id_with_target_num_resto\", myfunc.H5_DIR)"
   ]
  },
  {
   "cell_type": "markdown",
   "metadata": {},
   "source": [
    "#### 5.5.\tClasificación multicáncer con todas las muestras\n",
    "\n",
    "##### todas las muestras de cada tipo\n"
   ]
  },
  {
   "cell_type": "code",
   "execution_count": null,
   "metadata": {},
   "outputs": [],
   "source": [
    "np.random.seed(42)\n",
    "\n",
    "df_t2 = df_t.copy()\n",
    "display(df_t2.groupby(\"target\").size())\n",
    "display(df_t2.shape)\n",
    "\n",
    "\n",
    "display(df_t2)\n",
    "myfunc.save_df_to_h5(df_t2, \"rows_transpose_norm_by_gene_id_with_target_num_ori_w\", myfunc.H5_DIR)\n",
    "myfunc.save_df_to_h5(df_t2, \"rows_transpose_norm_by_gene_id_with_target_num_ori_w_test\", myfunc.H5_DIR)"
   ]
  },
  {
   "cell_type": "markdown",
   "metadata": {},
   "source": [
    "### Finalización del playbook"
   ]
  },
  {
   "cell_type": "code",
   "execution_count": null,
   "metadata": {},
   "outputs": [],
   "source": [
    "end_time = datetime.datetime.now()\n",
    "total_time = end_time - start_time\n",
    "myfunc.verbose(f\"Notebook ha tardado {total_time} segundos\")"
   ]
  }
 ],
 "metadata": {
  "kernelspec": {
   "display_name": "Python 3 (ipykernel)",
   "language": "python",
   "name": "python3"
  },
  "language_info": {
   "codemirror_mode": {
    "name": "ipython",
    "version": 3
   },
   "file_extension": ".py",
   "mimetype": "text/x-python",
   "name": "python",
   "nbconvert_exporter": "python",
   "pygments_lexer": "ipython3",
   "version": "3.10.11"
  }
 },
 "nbformat": 4,
 "nbformat_minor": 2
}
