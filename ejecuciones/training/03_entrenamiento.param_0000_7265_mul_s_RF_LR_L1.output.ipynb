{
 "cells": [
  {
   "cell_type": "markdown",
   "id": "1b2ec810",
   "metadata": {
    "papermill": {
     "duration": 0.008419,
     "end_time": "2023-10-30T16:45:14.022623",
     "exception": false,
     "start_time": "2023-10-30T16:45:14.014204",
     "status": "completed"
    },
    "tags": []
   },
   "source": [
    "##### Inicio"
   ]
  },
  {
   "cell_type": "markdown",
   "id": "3251be54",
   "metadata": {
    "papermill": {
     "duration": 0.007435,
     "end_time": "2023-10-30T16:45:14.034770",
     "exception": false,
     "start_time": "2023-10-30T16:45:14.027335",
     "status": "completed"
    },
    "tags": []
   },
   "source": [
    "#### Carga de datos"
   ]
  },
  {
   "cell_type": "code",
   "execution_count": 1,
   "id": "218397d6",
   "metadata": {
    "execution": {
     "iopub.execute_input": "2023-10-30T16:45:14.048766Z",
     "iopub.status.busy": "2023-10-30T16:45:14.048064Z",
     "iopub.status.idle": "2023-10-30T16:45:15.198035Z",
     "shell.execute_reply": "2023-10-30T16:45:15.197422Z"
    },
    "papermill": {
     "duration": 1.161194,
     "end_time": "2023-10-30T16:45:15.199492",
     "exception": false,
     "start_time": "2023-10-30T16:45:14.038298",
     "status": "completed"
    },
    "tags": []
   },
   "outputs": [
    {
     "name": "stdout",
     "output_type": "stream",
     "text": [
      "CPU_COUNT: 16; NODE: enderlab; sys.version: 3.10.11 (main, May 16 2023, 00:28:57) [GCC 11.2.0]\n",
      "LOKY_MAX_CPU_COUNT is not set.\n",
      "OMP_NUM_THREADS is not set.\n"
     ]
    }
   ],
   "source": [
    "import os\n",
    "import numpy as np\n",
    "import pandas as pd\n",
    "import datetime\n",
    "import sklearn\n",
    "import logging\n",
    "import warnings\n",
    "\n",
    "from sklearn.pipeline import Pipeline\n",
    "from sklearn.model_selection import RandomizedSearchCV, KFold, cross_val_score, train_test_split\n",
    "from sklearn.metrics import accuracy_score, confusion_matrix, classification_report, roc_auc_score\n",
    "\n",
    "#  cargar algoritmos para aprendizaje supervisado\n",
    "from sklearn.feature_selection import SelectKBest, f_classif, SelectFromModel, mutual_info_classif\n",
    "from sklearn.svm import SVC\n",
    "from sklearn.ensemble import RandomForestClassifier\n",
    "from sklearn.linear_model import LogisticRegression,LogisticRegressionCV\n",
    "\n",
    "# importar fichero con utilidades propias\n",
    "from commons import myfunctions as myfunc\n"
   ]
  },
  {
   "cell_type": "markdown",
   "id": "049b1be9",
   "metadata": {
    "papermill": {
     "duration": 0.003615,
     "end_time": "2023-10-30T16:45:15.207170",
     "exception": false,
     "start_time": "2023-10-30T16:45:15.203555",
     "status": "completed"
    },
    "tags": []
   },
   "source": [
    "#### Parámetros a utilizar en el entrenamiento.\n",
    "\n",
    "Se indican los 3 algoritmos de *selección de características* (eval_selector_xxx) y los 3 algoritmos para la _clasificación_ (eval_clasifier_xxx)\n",
    "\n",
    "En *param_distributions* se indicar los parámetros que utilizan los algoritmos en la función RandomSearchCV.\n",
    "\n",
    "Esta celda tiene la etiqueta **parameters** que servirá para poder lanzar los entrenamientos con la utilidad **papermill** pasándole un fichero con los parámetros. Los nuevos parámetros se situarán tras esta celda para tener prevalencia."
   ]
  },
  {
   "cell_type": "code",
   "execution_count": 2,
   "id": "6c492690",
   "metadata": {
    "execution": {
     "iopub.execute_input": "2023-10-30T16:45:15.215541Z",
     "iopub.status.busy": "2023-10-30T16:45:15.215119Z",
     "iopub.status.idle": "2023-10-30T16:45:15.223692Z",
     "shell.execute_reply": "2023-10-30T16:45:15.223145Z"
    },
    "papermill": {
     "duration": 0.014309,
     "end_time": "2023-10-30T16:45:15.224940",
     "exception": false,
     "start_time": "2023-10-30T16:45:15.210631",
     "status": "completed"
    },
    "tags": [
     "parameters"
    ]
   },
   "outputs": [
    {
     "name": "stdout",
     "output_type": "stream",
     "text": [
      "20231030T174515 : enderlab : INFO : Utilizando parámetros de mul_m\n"
     ]
    }
   ],
   "source": [
    "#  Parametros para el entrenamiento\n",
    "\n",
    "SEMILLA=        42\n",
    "M_TIPO=         \"mul_m\"\n",
    "M_SELECT=       \"MI\"\n",
    "M_CLASIF=       \"SVM\"\n",
    "R_FICHERO=      \"resultados\"\n",
    "M_FICHERO=      \"metricas\"\n",
    "PRE_DATA_FILE=  \"rows_transpose_norm_by_gene_id_with_target_num_\"\n",
    "SCORING=        \"roc_auc_ovr\" \n",
    "MAX_ITERS=      100\n",
    "\n",
    "def mutual_info_classif_state(X, y):\n",
    "    return mutual_info_classif(X, y, random_state=SEMILLA)\n",
    "\n",
    "eval_selector_mi = \"SelectKBest(score_func=mutual_info_classif_state)\"\n",
    "eval_selector_rf=  \"SelectFromModel(estimator=RandomForestClassifier(random_state=SEMILLA), threshold=-np.inf)\"\n",
    "eval_selector_anova=  \"SelectKBest(score_func=f_classif)\"\n",
    "\n",
    "eval_clasifier_svm= \"SVC(probability=True, random_state=SEMILLA)\"\n",
    "eval_clasifier_rf= \"RandomForestClassifier(random_state=SEMILLA)\"\n",
    "eval_clasifier_lr= \"LogisticRegressionCV(random_state=SEMILLA)\"\n",
    "\n",
    "if M_TIPO.startswith(\"bin_m\"):\n",
    "    myfunc.verbose(f\"Utilizando parámetros de {M_TIPO}\")\n",
    "    eval_selector = eval_selector_mi\n",
    "    eval_clasifier = eval_clasifier_svm\n",
    "\n",
    "    SEMILLA = 6578\n",
    "    M_SELECT = \"MI\"\n",
    "    M_CLASIF = \"SVM\"\n",
    "    param_distributions = {'selector__k': [1000], \n",
    "         'clasifier__kernel': ['rbf'], 'clasifier__gamma': [0.01], 'clasifier__C': [100]}\n",
    "elif M_TIPO.startswith(\"bin_s\"):\n",
    "    myfunc.verbose(f\"Utilizando parámetros de {M_TIPO}\")\n",
    "    eval_selector = eval_selector_rf\n",
    "    eval_clasifier = eval_clasifier_lr\n",
    "\n",
    "    SEMILLA = 6191\n",
    "    M_SELECT = \"RF\"\n",
    "    M_CLASIF = \"LR_L2\"\n",
    "    param_distributions = {'selector__max_features': [1000], 'selector__estimator__n_estimators': [200], \n",
    "        'clasifier__solver': ['lbfgs'], 'clasifier__penalty': ['l2'], 'clasifier__max_iter': [10000]}\n",
    "\n",
    "elif M_TIPO.startswith(\"mul_m\"):\n",
    "    myfunc.verbose(f\"Utilizando parámetros de {M_TIPO}\")\n",
    " \n",
    "    eval_selector = eval_selector_rf\n",
    "    eval_clasifier = eval_clasifier_lr\n",
    "\n",
    "    SEMILLA = 6191\n",
    "    M_SELECT = \"RF\"\n",
    "    M_CLASIF = \"LR_L2\"\n",
    "    param_distributions = {'selector__max_features': [1000], 'selector__estimator__n_estimators': [400], \n",
    "        'clasifier__solver': ['lbfgs'], 'clasifier__penalty': ['l2'], 'clasifier__max_iter': [10000]}\n",
    "\n",
    "else:\n",
    "    # M_TIPO.startswith(\"mul_s\"):\n",
    "    myfunc.verbose(f\"Utilizando parámetros de {M_TIPO}\")\n",
    "    eval_selector = eval_selector_anova\n",
    "    eval_clasifier = eval_clasifier_lr\n",
    "\n",
    "    SEMILLA = 1860\n",
    "    M_SELECT = \"ANOVA\"\n",
    "    M_CLASIF = \"LR_L2\"\n",
    "    param_distributions = {'selector__k': [1000], \n",
    "        'clasifier__solver': ['saga'], 'clasifier__penalty': ['l2'], 'clasifier__max_iter': [10000]}\n",
    "\n"
   ]
  },
  {
   "cell_type": "code",
   "execution_count": 3,
   "id": "ad71b8ac",
   "metadata": {
    "execution": {
     "iopub.execute_input": "2023-10-30T16:45:15.233314Z",
     "iopub.status.busy": "2023-10-30T16:45:15.232863Z",
     "iopub.status.idle": "2023-10-30T16:45:15.236891Z",
     "shell.execute_reply": "2023-10-30T16:45:15.236357Z"
    },
    "papermill": {
     "duration": 0.009656,
     "end_time": "2023-10-30T16:45:15.238217",
     "exception": false,
     "start_time": "2023-10-30T16:45:15.228561",
     "status": "completed"
    },
    "tags": [
     "injected-parameters"
    ]
   },
   "outputs": [],
   "source": [
    "# Parameters\n",
    "M_TIPO = \"mul_s\"\n",
    "M_SELECT = \"RF\"\n",
    "M_CLASIF = \"LR_L1\"\n",
    "P_FICHERO = \"param_0000_7265_mul_s_RF_LR_L1.yaml\"\n",
    "R_FICHERO = \"resultados_7265\"\n",
    "M_FICHERO = \"metricas_7265\"\n",
    "PRE_DATA_FILE = \"rows_transpose_norm_by_gene_id_with_target_num_\"\n",
    "SCORING = \"roc_auc_ovr\"\n",
    "SEMILLA = 7265\n",
    "MAX_ITERS = 500\n",
    "eval_selector = \"SelectFromModel(estimator=RandomForestClassifier(random_state=SEMILLA), threshold=-np.inf)\"\n",
    "eval_clasifier = \"LogisticRegressionCV(random_state=SEMILLA)\"\n",
    "param_distributions = {\n",
    "    \"selector__max_features\": [500],\n",
    "    \"selector__estimator__n_estimators\": [100],\n",
    "    \"clasifier__solver\": [\"saga\"],\n",
    "    \"clasifier__penalty\": [\"l1\"],\n",
    "    \"clasifier__max_iter\": [10000],\n",
    "}\n"
   ]
  },
  {
   "cell_type": "code",
   "execution_count": 4,
   "id": "eb58ed08",
   "metadata": {
    "execution": {
     "iopub.execute_input": "2023-10-30T16:45:15.246692Z",
     "iopub.status.busy": "2023-10-30T16:45:15.246205Z",
     "iopub.status.idle": "2023-10-30T16:45:15.249461Z",
     "shell.execute_reply": "2023-10-30T16:45:15.248937Z"
    },
    "papermill": {
     "duration": 0.008882,
     "end_time": "2023-10-30T16:45:15.250685",
     "exception": false,
     "start_time": "2023-10-30T16:45:15.241803",
     "status": "completed"
    },
    "tags": []
   },
   "outputs": [],
   "source": [
    "DATA_FILE = PRE_DATA_FILE + M_TIPO\n",
    "\n",
    "# si viene \"None\" en el parámetro max_depth, se le quitan las comillas para que no sea entendido por el algoritmo como un texto\n",
    "if \"clasifier__max_depth\" in param_distributions:\n",
    "    param_distributions['clasifier__max_depth'] = [None if x == 'None' else x for x in param_distributions['clasifier__max_depth']]"
   ]
  },
  {
   "cell_type": "markdown",
   "id": "b4d1127b",
   "metadata": {
    "papermill": {
     "duration": 0.007509,
     "end_time": "2023-10-30T16:45:15.261727",
     "exception": false,
     "start_time": "2023-10-30T16:45:15.254218",
     "status": "completed"
    },
    "tags": []
   },
   "source": [
    "Asignar los algoritmos que se utilizarán en la función RandomSearchCV"
   ]
  },
  {
   "cell_type": "code",
   "execution_count": 5,
   "id": "eb830eff",
   "metadata": {
    "execution": {
     "iopub.execute_input": "2023-10-30T16:45:15.275387Z",
     "iopub.status.busy": "2023-10-30T16:45:15.274923Z",
     "iopub.status.idle": "2023-10-30T16:45:15.277889Z",
     "shell.execute_reply": "2023-10-30T16:45:15.277354Z"
    },
    "papermill": {
     "duration": 0.012035,
     "end_time": "2023-10-30T16:45:15.279107",
     "exception": false,
     "start_time": "2023-10-30T16:45:15.267072",
     "status": "completed"
    },
    "tags": []
   },
   "outputs": [],
   "source": [
    "algor_selector=eval(eval_selector)\n",
    "algor_clasifier=eval(eval_clasifier)"
   ]
  },
  {
   "cell_type": "markdown",
   "id": "ae59de9c",
   "metadata": {
    "papermill": {
     "duration": 0.003579,
     "end_time": "2023-10-30T16:45:15.286275",
     "exception": false,
     "start_time": "2023-10-30T16:45:15.282696",
     "status": "completed"
    },
    "tags": []
   },
   "source": [
    "#### Comprobar el entorno y leer fichero de muestras"
   ]
  },
  {
   "cell_type": "code",
   "execution_count": 6,
   "id": "1ee6ff70",
   "metadata": {
    "execution": {
     "iopub.execute_input": "2023-10-30T16:45:15.295052Z",
     "iopub.status.busy": "2023-10-30T16:45:15.294759Z",
     "iopub.status.idle": "2023-10-30T16:45:15.472560Z",
     "shell.execute_reply": "2023-10-30T16:45:15.471948Z"
    },
    "papermill": {
     "duration": 0.183694,
     "end_time": "2023-10-30T16:45:15.473994",
     "exception": false,
     "start_time": "2023-10-30T16:45:15.290300",
     "status": "completed"
    },
    "tags": []
   },
   "outputs": [
    {
     "name": "stdout",
     "output_type": "stream",
     "text": [
      "20231030T174515 : enderlab : INFO : Encontrada carpeta DATA_DIR=../tfm_git/datos\n",
      "20231030T174515 : enderlab : INFO : Encontrada carpeta CFDNA_DIR=../tfm_git/datos/cfDNA_5hmC\n",
      "20231030T174515 : enderlab : INFO : Encontrada carpeta GENCODE_DIR=../tfm_git/datos/gencode\n",
      "20231030T174515 : enderlab : INFO : Encontrada carpeta H5_DIR=../tfm_git/datos/h5\n",
      "20231030T174515 : enderlab : INFO : Encontrada carpeta LOG_DIR=../tfm_git/datos/logs\n",
      "20231030T174515 : enderlab : INFO : Encontrada carpeta CSV_DIR=../tfm_git/datos/csv\n",
      "20231030T174515 : enderlab : INFO : Encontrada carpeta MODEL_DIR=../tfm_git/ejecuciones/modelos\n",
      "20231030T174515 : enderlab : INFO : Encontrada carpeta EXEC_DIR=../tfm_git/ejecuciones\n",
      "20231030T174515 : enderlab : INFO : Encontrada carpeta MET_DIR=../tfm_git/ejecuciones/metricas\n",
      "20231030T174515 : enderlab : INFO : Inicio leer fichero h5 ../tfm_git/datos/h5/rows_transpose_norm_by_gene_id_with_target_num_mul_s.h5\n",
      "20231030T174515 : enderlab : INFO : Leyendo clave /df\n"
     ]
    },
    {
     "name": "stdout",
     "output_type": "stream",
     "text": [
      "20231030T174515 : enderlab : INFO : Tamaño (259, 18876)\n",
      "20231030T174515 : enderlab : INFO : Fin leer fichero h5 ../tfm_git/datos/h5/rows_transpose_norm_by_gene_id_with_target_num_mul_s.h5\n"
     ]
    },
    {
     "data": {
      "text/plain": [
       "target\n",
       "0    37\n",
       "1    37\n",
       "2    37\n",
       "3    37\n",
       "4    37\n",
       "5    37\n",
       "6    37\n",
       "dtype: int64"
      ]
     },
     "metadata": {},
     "output_type": "display_data"
    },
    {
     "name": "stdout",
     "output_type": "stream",
     "text": [
      "Shape df: (259, 18876)\n",
      "Shape X_train: (207, 18875)\n",
      "Shape X_test: (52, 18875)\n"
     ]
    }
   ],
   "source": [
    "start_time = datetime.datetime.now()\n",
    "\n",
    "myfunc.reset_vars()\n",
    "\n",
    "myfunc.NOTEBK_FILENAME = myfunc.get_nb_name()\n",
    "\n",
    "myfunc.check_enviroment(myfunc.DATA_DIR, myfunc.CFDNA_DIR, myfunc.GENCODE_DIR, myfunc.H5_DIR, myfunc.LOG_DIR, myfunc.CSV_DIR, myfunc.MODEL_DIR, myfunc.EXEC_DIR, myfunc.MET_DIR)\n",
    "\n",
    "# Leer fichero con las muestras\n",
    "df_t = myfunc.read_h5_to_df(DATA_FILE, myfunc.H5_DIR)\n",
    "display(df_t.groupby(\"target\").size())\n",
    "print(\"Shape df:\",df_t.shape)\n",
    "\n",
    "# Separar caracteristicas/genes de las etiquetas/tipos de cáncer\n",
    "X = df_t.iloc[:, :-1]  # Todas las columnas excepto la última\n",
    "y = df_t.iloc[:, -1]  # La última columna contiene los identificadores de los tipos de cáncer\n",
    "\n",
    "#  Crear el conjunto de datos de entrenamiento y de pruebas, y se fija la semilla para siempre coger el mismo juego de muestras\n",
    "X_train, X_test, y_train, y_test = train_test_split(X, y, test_size=0.2, shuffle=True, random_state=42)\n",
    "print(\"Shape X_train:\",X_train.shape)\n",
    "print(\"Shape X_test:\",X_test.shape)\n"
   ]
  },
  {
   "cell_type": "markdown",
   "id": "08759f47",
   "metadata": {
    "papermill": {
     "duration": 0.004035,
     "end_time": "2023-10-30T16:45:15.482591",
     "exception": false,
     "start_time": "2023-10-30T16:45:15.478556",
     "status": "completed"
    },
    "tags": []
   },
   "source": [
    "#### Selección de características y clasificación."
   ]
  },
  {
   "cell_type": "code",
   "execution_count": 7,
   "id": "f8883bee",
   "metadata": {
    "execution": {
     "iopub.execute_input": "2023-10-30T16:45:15.491907Z",
     "iopub.status.busy": "2023-10-30T16:45:15.491396Z",
     "iopub.status.idle": "2023-10-30T16:51:53.878185Z",
     "shell.execute_reply": "2023-10-30T16:51:53.876899Z"
    },
    "papermill": {
     "duration": 398.398288,
     "end_time": "2023-10-30T16:51:53.884786",
     "exception": false,
     "start_time": "2023-10-30T16:45:15.486498",
     "status": "completed"
    },
    "tags": []
   },
   "outputs": [
    {
     "name": "stdout",
     "output_type": "stream",
     "text": [
      "20231030T174515 : enderlab : INFO : Iniciando entrenamiento\n",
      "num_iter: 1 , max_iter: 1\n"
     ]
    },
    {
     "name": "stdout",
     "output_type": "stream",
     "text": [
      "Fitting 5 folds for each of 1 candidates, totalling 5 fits\n"
     ]
    },
    {
     "name": "stdout",
     "output_type": "stream",
     "text": [
      "Mejores Hiperparámetros: {'selector__max_features': 500, 'selector__estimator__n_estimators': 100, 'clasifier__solver': 'saga', 'clasifier__penalty': 'l1', 'clasifier__max_iter': 10000}\n",
      "Mejor Puntuación: 0.7938\n",
      "20231030T175153 : enderlab : INFO : Fin entrenamiento\n"
     ]
    }
   ],
   "source": [
    "myfunc.verbose(\"Iniciando entrenamiento\")\n",
    "\n",
    "kf = KFold(n_splits=5, shuffle=True, random_state=SEMILLA)\n",
    "\n",
    "# Crear el pipeline para el flujo de tareas\n",
    "tasks_pipeline = Pipeline([\n",
    "    ('selector', algor_selector),\n",
    "    ('clasifier', algor_clasifier)\n",
    "])\n",
    "\n",
    "# MAX_ITERS puede limitar el número de iteraciones si son excesivas para las combinaciones de parámetros buscando un óptimo local, \n",
    "# sino funcionaría como GridSearchCV al revisar todas las cominaciones de los parámetros\n",
    "num_iteraciones = 1\n",
    "num_iteraciones = num_iteraciones * np.prod([len(elemento1) for _, elemento1 in param_distributions.items()])\n",
    "max_iteraciones = num_iteraciones if num_iteraciones <= MAX_ITERS else MAX_ITERS\n",
    "print(\"num_iter:\",num_iteraciones,\", max_iter:\",max_iteraciones)\n",
    "\n",
    "random_search = RandomizedSearchCV(\n",
    "    tasks_pipeline, \n",
    "    param_distributions, \n",
    "    n_iter=max_iteraciones,\n",
    "    scoring=SCORING,\n",
    "    cv=kf,\n",
    "    verbose=3, \n",
    "    random_state=SEMILLA, \n",
    "    n_jobs=-1\n",
    "    )\n",
    "\n",
    "# Entrenar el modelo\n",
    "random_search.fit(X_train, y_train)\n",
    "\n",
    "# Ver los mejores hiperparámetros encontrados\n",
    "print(f'Mejores Hiperparámetros: {random_search.best_params_}')\n",
    "print(f'Mejor Puntuación: {random_search.best_score_:.4f}')\n",
    "\n",
    "# Nos quedamos con el mejor modelo para ver las métricas\n",
    "mejor_modelo = random_search.best_estimator_\n",
    "\n",
    "myfunc.verbose(\"Fin entrenamiento\")"
   ]
  },
  {
   "cell_type": "markdown",
   "id": "24fcde57",
   "metadata": {
    "papermill": {
     "duration": 0.00421,
     "end_time": "2023-10-30T16:51:53.893507",
     "exception": false,
     "start_time": "2023-10-30T16:51:53.889297",
     "status": "completed"
    },
    "tags": []
   },
   "source": [
    "#### Guardar modelo"
   ]
  },
  {
   "cell_type": "code",
   "execution_count": 8,
   "id": "b8b371eb",
   "metadata": {
    "execution": {
     "iopub.execute_input": "2023-10-30T16:51:53.904734Z",
     "iopub.status.busy": "2023-10-30T16:51:53.904312Z",
     "iopub.status.idle": "2023-10-30T16:51:53.960856Z",
     "shell.execute_reply": "2023-10-30T16:51:53.960277Z"
    },
    "papermill": {
     "duration": 0.063996,
     "end_time": "2023-10-30T16:51:53.962226",
     "exception": false,
     "start_time": "2023-10-30T16:51:53.898230",
     "status": "completed"
    },
    "tags": []
   },
   "outputs": [
    {
     "name": "stdout",
     "output_type": "stream",
     "text": [
      "20231030T175153 : enderlab : INFO : Inicio guardar fichero ../tfm_git/ejecuciones/modelos/modelo_7265_mul_s_RF_LR_L1.pkl\n",
      "20231030T175153 : enderlab : INFO : Fin guardar fichero ../tfm_git/ejecuciones/modelos/modelo_7265_mul_s_RF_LR_L1.pkl\n"
     ]
    }
   ],
   "source": [
    "fichero_modelo = str.replace(\"modelo_\"+str(SEMILLA).zfill(4)+\"_\"+M_TIPO+\"_\"+M_SELECT+\"_\"+M_CLASIF+\".pkl\", \" \", \"_\")\n",
    "\n",
    "myfunc.save_modelo(mejor_modelo, myfunc.MODEL_DIR, fichero_modelo)"
   ]
  },
  {
   "cell_type": "markdown",
   "id": "af92f210",
   "metadata": {
    "papermill": {
     "duration": 0.004471,
     "end_time": "2023-10-30T16:51:53.971166",
     "exception": false,
     "start_time": "2023-10-30T16:51:53.966695",
     "status": "completed"
    },
    "tags": []
   },
   "source": [
    "#### Ver resultados del las iteraciones hechas por RandomSearchCV"
   ]
  },
  {
   "cell_type": "code",
   "execution_count": 9,
   "id": "3c6234da",
   "metadata": {
    "execution": {
     "iopub.execute_input": "2023-10-30T16:51:53.980803Z",
     "iopub.status.busy": "2023-10-30T16:51:53.980207Z",
     "iopub.status.idle": "2023-10-30T16:51:53.988273Z",
     "shell.execute_reply": "2023-10-30T16:51:53.987714Z"
    },
    "papermill": {
     "duration": 0.014209,
     "end_time": "2023-10-30T16:51:53.989568",
     "exception": false,
     "start_time": "2023-10-30T16:51:53.975359",
     "status": "completed"
    },
    "tags": []
   },
   "outputs": [
    {
     "name": "stdout",
     "output_type": "stream",
     "text": [
      "20231030T175153 : enderlab : INFO : Inicio ver resultados\n",
      "Mejores Hiperparámetros: {'selector__max_features': 500, 'selector__estimator__n_estimators': 100, 'clasifier__solver': 'saga', 'clasifier__penalty': 'l1', 'clasifier__max_iter': 10000}\n",
      "Mejores puntuaciones: 0.7938 | Params: {'selector__max_features': 500, 'selector__estimator__n_estimators': 100, 'clasifier__solver': 'saga', 'clasifier__penalty': 'l1', 'clasifier__max_iter': 10000}\n",
      "Media de las puntuaciones: 0.7938 | Params: {'selector__max_features': 500, 'selector__estimator__n_estimators': 100, 'clasifier__solver': 'saga', 'clasifier__penalty': 'l1', 'clasifier__max_iter': 10000}\n",
      "20231030T175153 : enderlab : INFO : Fin resultados\n"
     ]
    }
   ],
   "source": [
    "myfunc.ver_resultados_search(random_search)"
   ]
  },
  {
   "cell_type": "markdown",
   "id": "a7590e71",
   "metadata": {
    "papermill": {
     "duration": 0.004418,
     "end_time": "2023-10-30T16:51:53.998337",
     "exception": false,
     "start_time": "2023-10-30T16:51:53.993919",
     "status": "completed"
    },
    "tags": []
   },
   "source": [
    "#### Ver métricas del mejor modelo"
   ]
  },
  {
   "cell_type": "code",
   "execution_count": 10,
   "id": "d8b60d33",
   "metadata": {
    "execution": {
     "iopub.execute_input": "2023-10-30T16:51:54.008143Z",
     "iopub.status.busy": "2023-10-30T16:51:54.007751Z",
     "iopub.status.idle": "2023-10-30T16:51:54.785310Z",
     "shell.execute_reply": "2023-10-30T16:51:54.784692Z"
    },
    "papermill": {
     "duration": 0.783919,
     "end_time": "2023-10-30T16:51:54.786631",
     "exception": false,
     "start_time": "2023-10-30T16:51:54.002712",
     "status": "completed"
    },
    "tags": []
   },
   "outputs": [
    {
     "name": "stdout",
     "output_type": "stream",
     "text": [
      "20231030T175154 : enderlab : INFO : Inicio ver métricas multiclase\n"
     ]
    },
    {
     "name": "stdout",
     "output_type": "stream",
     "text": [
      "              precision    recall  f1-score   support\n",
      "\n",
      "           0       0.00      0.00      0.00        11\n",
      "           1       0.60      0.38      0.46         8\n",
      "           2       0.25      0.25      0.25         8\n",
      "           3       0.10      0.20      0.13         5\n",
      "           4       0.45      0.62      0.53         8\n",
      "           5       0.83      0.83      0.83         6\n",
      "           6       0.11      0.17      0.13         6\n",
      "\n",
      "    accuracy                           0.33        52\n",
      "   macro avg       0.34      0.35      0.33        52\n",
      "weighted avg       0.32      0.33      0.31        52\n",
      "\n",
      "\n",
      "\n",
      "           Exactitud: 0.326923\n",
      "   Precisión (media): 0.335570\n",
      "      Recall (media): 0.350000\n",
      "    F1-score (media): 0.333979\n",
      "\n",
      "\n",
      "AUC para el tipo de cáncer 0-Control.... 0.4080\n",
      "AUC para el tipo de cáncer 1-Bladder.... 0.7585\n",
      "AUC para el tipo de cáncer 2-Breast..... 0.7017\n",
      "AUC para el tipo de cáncer 3-Colorectal. 0.5277\n",
      "AUC para el tipo de cáncer 4-Kidney..... 0.8352\n",
      "AUC para el tipo de cáncer 5-Lung....... 0.9130\n",
      "AUC para el tipo de cáncer 6-Prostate... 0.7138\n",
      "\n",
      "Media de AUC: 0.6940\n"
     ]
    },
    {
     "data": {
      "image/png": "[encoded data removed]",
      "text/plain": [
       "<Figure size 1000x600 with 1 Axes>"
      ]
     },
     "metadata": {},
     "output_type": "display_data"
    },
    {
     "name": "stdout",
     "output_type": "stream",
     "text": [
      "\n",
      "\n"
     ]
    },
    {
     "data": {
      "image/png": "[encoded data removed]",
      "text/plain": [
       "<Figure size 800x400 with 2 Axes>"
      ]
     },
     "metadata": {},
     "output_type": "display_data"
    },
    {
     "name": "stdout",
     "output_type": "stream",
     "text": [
      "\n",
      "\n",
      "Puntuación Jaccard para el cáncer tipo 0-Control.... 0.0000\n",
      "Puntuación Jaccard para el cáncer tipo 1-Bladder.... 0.3000\n",
      "Puntuación Jaccard para el cáncer tipo 2-Breast..... 0.1429\n",
      "Puntuación Jaccard para el cáncer tipo 3-Colorectal. 0.0714\n",
      "Puntuación Jaccard para el cáncer tipo 4-Kidney..... 0.3571\n",
      "Puntuación Jaccard para el cáncer tipo 5-Lung....... 0.7143\n",
      "Puntuación Jaccard para el cáncer tipo 6-Prostate... 0.0714\n",
      "\n",
      "Media de la puntuación de Jaccard: 0.2367\n"
     ]
    }
   ],
   "source": [
    "if M_TIPO.startswith(\"bin\"):\n",
    "    myfunc.ver_metricas(mejor_modelo, X_test, y_test)\n",
    "else:\n",
    "    myfunc.ver_metricas_multi(mejor_modelo, X_test, y_test)\n"
   ]
  },
  {
   "cell_type": "markdown",
   "id": "9ef3e9de",
   "metadata": {
    "papermill": {
     "duration": 0.006009,
     "end_time": "2023-10-30T16:51:54.799029",
     "exception": false,
     "start_time": "2023-10-30T16:51:54.793020",
     "status": "completed"
    },
    "tags": []
   },
   "source": [
    "#### Finalización del notebook"
   ]
  },
  {
   "cell_type": "code",
   "execution_count": 11,
   "id": "3a577d04",
   "metadata": {
    "execution": {
     "iopub.execute_input": "2023-10-30T16:51:54.812225Z",
     "iopub.status.busy": "2023-10-30T16:51:54.811623Z",
     "iopub.status.idle": "2023-10-30T16:51:54.815568Z",
     "shell.execute_reply": "2023-10-30T16:51:54.815010Z"
    },
    "papermill": {
     "duration": 0.011857,
     "end_time": "2023-10-30T16:51:54.816880",
     "exception": false,
     "start_time": "2023-10-30T16:51:54.805023",
     "status": "completed"
    },
    "tags": []
   },
   "outputs": [
    {
     "name": "stdout",
     "output_type": "stream",
     "text": [
      "20231030T175154 : enderlab : INFO : Notebook ha tardado 399 seconds\n"
     ]
    }
   ],
   "source": [
    "end_time = datetime.datetime.now()\n",
    "total_time = end_time - start_time\n",
    "myfunc.verbose(f\"Notebook ha tardado {total_time.seconds} seconds\")"
   ]
  },
  {
   "cell_type": "markdown",
   "id": "0e6be249",
   "metadata": {
    "papermill": {
     "duration": 0.005776,
     "end_time": "2023-10-30T16:51:54.828376",
     "exception": false,
     "start_time": "2023-10-30T16:51:54.822600",
     "status": "completed"
    },
    "tags": []
   },
   "source": [
    "#### Guardar métricas"
   ]
  },
  {
   "cell_type": "code",
   "execution_count": 12,
   "id": "bc5561d0",
   "metadata": {
    "execution": {
     "iopub.execute_input": "2023-10-30T16:51:54.841188Z",
     "iopub.status.busy": "2023-10-30T16:51:54.840814Z",
     "iopub.status.idle": "2023-10-30T16:51:55.199143Z",
     "shell.execute_reply": "2023-10-30T16:51:55.198553Z"
    },
    "papermill": {
     "duration": 0.366124,
     "end_time": "2023-10-30T16:51:55.200463",
     "exception": false,
     "start_time": "2023-10-30T16:51:54.834339",
     "status": "completed"
    },
    "tags": []
   },
   "outputs": [
    {
     "name": "stdout",
     "output_type": "stream",
     "text": [
      "20231030T175154 : enderlab : INFO : Inicio guardar métricas multiclase\n",
      "20231030T175154 : enderlab : INFO : Inicio leer fichero ../tfm_git/ejecuciones/metricas/metricas_7265.csv\n",
      "20231030T175154 : enderlab : INFO : Fin leer fichero ../tfm_git/ejecuciones/metricas/metricas_7265.csv\n"
     ]
    },
    {
     "name": "stdout",
     "output_type": "stream",
     "text": [
      "20231030T175155 : enderlab : INFO : Inicio guardar fichero ../tfm_git/ejecuciones/metricas/metricas_7265.csv\n",
      "20231030T175155 : enderlab : INFO : Fichero borrado ../tfm_git/ejecuciones/metricas/metricas_7265.csv\n",
      "20231030T175155 : enderlab : INFO : Fin guardar fichero ../tfm_git/ejecuciones/metricas/metricas_7265.csv\n",
      "20231030T175155 : enderlab : INFO : Fin guardar métricas multiclase\n",
      "20231030T175155 : enderlab : INFO : Inicio leer fichero ../tfm_git/ejecuciones/metricas/metricas_7265.csv\n",
      "20231030T175155 : enderlab : INFO : Fin leer fichero ../tfm_git/ejecuciones/metricas/metricas_7265.csv\n"
     ]
    },
    {
     "data": {
      "text/html": [
       "<div>\n",
       "<style scoped>\n",
       "    .dataframe tbody tr th:only-of-type {\n",
       "        vertical-align: middle;\n",
       "    }\n",
       "\n",
       "    .dataframe tbody tr th {\n",
       "        vertical-align: top;\n",
       "    }\n",
       "\n",
       "    .dataframe thead th {\n",
       "        text-align: right;\n",
       "    }\n",
       "</style>\n",
       "<table border=\"1\" class=\"dataframe\">\n",
       "  <thead>\n",
       "    <tr style=\"text-align: right;\">\n",
       "      <th></th>\n",
       "      <th>tipo</th>\n",
       "      <th>select</th>\n",
       "      <th>clasific</th>\n",
       "      <th>semilla</th>\n",
       "      <th>accuracy</th>\n",
       "      <th>precision</th>\n",
       "      <th>recall</th>\n",
       "      <th>f1_score</th>\n",
       "      <th>roc_auc</th>\n",
       "      <th>hostname</th>\n",
       "      <th>total_time_sec</th>\n",
       "      <th>datetime</th>\n",
       "      <th>fichero_modelo</th>\n",
       "      <th>params</th>\n",
       "      <th>shape</th>\n",
       "      <th>features</th>\n",
       "      <th>roc_auc_ovr</th>\n",
       "      <th>indices_auc</th>\n",
       "      <th>indices_jaccard</th>\n",
       "    </tr>\n",
       "  </thead>\n",
       "  <tbody>\n",
       "    <tr>\n",
       "      <th>0</th>\n",
       "      <td>mul_s</td>\n",
       "      <td>RF</td>\n",
       "      <td>LR_L1</td>\n",
       "      <td>7265</td>\n",
       "      <td>0.326923</td>\n",
       "      <td>0.335570</td>\n",
       "      <td>0.350000</td>\n",
       "      <td>0.333979</td>\n",
       "      <td>NaN</td>\n",
       "      <td>enderlab</td>\n",
       "      <td>399</td>\n",
       "      <td>2023-10-30 17:51:55.141198</td>\n",
       "      <td>modelo_7265_mul_s_RF_LR_L1.pkl</td>\n",
       "      <td>{'selector__max_features': 500, 'selector__est...</td>\n",
       "      <td>X_test:(52, 18875)</td>\n",
       "      <td>['ENSG00000005187.12', 'ENSG00000005206.17', '...</td>\n",
       "      <td>0.693987</td>\n",
       "      <td>[0.4079822616407982, 0.7585227272727273, 0.701...</td>\n",
       "      <td>[0.0, 0.3, 0.14285714285714285, 0.071428571428...</td>\n",
       "    </tr>\n",
       "    <tr>\n",
       "      <th>0</th>\n",
       "      <td>mul_s</td>\n",
       "      <td>RF</td>\n",
       "      <td>LR_EN</td>\n",
       "      <td>7265</td>\n",
       "      <td>0.403846</td>\n",
       "      <td>0.450680</td>\n",
       "      <td>0.385281</td>\n",
       "      <td>0.400797</td>\n",
       "      <td>NaN</td>\n",
       "      <td>enderlab</td>\n",
       "      <td>355</td>\n",
       "      <td>2023-10-30 17:45:08.456847</td>\n",
       "      <td>modelo_7265_mul_s_RF_LR_EN.pkl</td>\n",
       "      <td>{'selector__max_features': 500, 'selector__est...</td>\n",
       "      <td>X_test:(52, 18875)</td>\n",
       "      <td>['ENSG00000000938.13', 'ENSG00000004455.18', '...</td>\n",
       "      <td>0.737086</td>\n",
       "      <td>[0.5587583148558759, 0.7642045454545454, 0.625...</td>\n",
       "      <td>[0.25, 0.5, 0.09090909090909091, 0.0, 0.7, 0.4...</td>\n",
       "    </tr>\n",
       "    <tr>\n",
       "      <th>0</th>\n",
       "      <td>mul_s</td>\n",
       "      <td>MI</td>\n",
       "      <td>SVM</td>\n",
       "      <td>7265</td>\n",
       "      <td>0.403846</td>\n",
       "      <td>0.438889</td>\n",
       "      <td>0.416450</td>\n",
       "      <td>0.409891</td>\n",
       "      <td>NaN</td>\n",
       "      <td>enderlab</td>\n",
       "      <td>206</td>\n",
       "      <td>2023-10-30 17:39:05.382448</td>\n",
       "      <td>modelo_7265_mul_s_MI_SVM.pkl</td>\n",
       "      <td>{'selector__k': 1000, 'clasifier__kernel': 'rb...</td>\n",
       "      <td>X_test:(52, 18875)</td>\n",
       "      <td>['ENSG00000003137.9', 'ENSG00000005238.20', 'E...</td>\n",
       "      <td>0.770091</td>\n",
       "      <td>[0.5787139689578714, 0.846590909090909, 0.6704...</td>\n",
       "      <td>[0.14285714285714285, 0.4, 0.0625, 0.166666666...</td>\n",
       "    </tr>\n",
       "  </tbody>\n",
       "</table>\n",
       "</div>"
      ],
      "text/plain": [
       "    tipo select clasific  semilla  accuracy  precision    recall  f1_score  \\\n",
       "0  mul_s     RF    LR_L1     7265  0.326923   0.335570  0.350000  0.333979   \n",
       "0  mul_s     RF    LR_EN     7265  0.403846   0.450680  0.385281  0.400797   \n",
       "0  mul_s     MI      SVM     7265  0.403846   0.438889  0.416450  0.409891   \n",
       "\n",
       "   roc_auc  hostname  total_time_sec                    datetime  \\\n",
       "0      NaN  enderlab             399  2023-10-30 17:51:55.141198   \n",
       "0      NaN  enderlab             355  2023-10-30 17:45:08.456847   \n",
       "0      NaN  enderlab             206  2023-10-30 17:39:05.382448   \n",
       "\n",
       "                   fichero_modelo  \\\n",
       "0  modelo_7265_mul_s_RF_LR_L1.pkl   \n",
       "0  modelo_7265_mul_s_RF_LR_EN.pkl   \n",
       "0    modelo_7265_mul_s_MI_SVM.pkl   \n",
       "\n",
       "                                              params               shape  \\\n",
       "0  {'selector__max_features': 500, 'selector__est...  X_test:(52, 18875)   \n",
       "0  {'selector__max_features': 500, 'selector__est...  X_test:(52, 18875)   \n",
       "0  {'selector__k': 1000, 'clasifier__kernel': 'rb...  X_test:(52, 18875)   \n",
       "\n",
       "                                            features  roc_auc_ovr  \\\n",
       "0  ['ENSG00000005187.12', 'ENSG00000005206.17', '...     0.693987   \n",
       "0  ['ENSG00000000938.13', 'ENSG00000004455.18', '...     0.737086   \n",
       "0  ['ENSG00000003137.9', 'ENSG00000005238.20', 'E...     0.770091   \n",
       "\n",
       "                                         indices_auc  \\\n",
       "0  [0.4079822616407982, 0.7585227272727273, 0.701...   \n",
       "0  [0.5587583148558759, 0.7642045454545454, 0.625...   \n",
       "0  [0.5787139689578714, 0.846590909090909, 0.6704...   \n",
       "\n",
       "                                     indices_jaccard  \n",
       "0  [0.0, 0.3, 0.14285714285714285, 0.071428571428...  \n",
       "0  [0.25, 0.5, 0.09090909090909091, 0.0, 0.7, 0.4...  \n",
       "0  [0.14285714285714285, 0.4, 0.0625, 0.166666666...  "
      ]
     },
     "metadata": {},
     "output_type": "display_data"
    }
   ],
   "source": [
    "if M_TIPO.startswith(\"bin\"):\n",
    "    myfunc.save_metricas_to_csv(random_search, X_test, y_test, M_TIPO, M_SELECT, M_CLASIF, total_time, SEMILLA, myfunc.MET_DIR, M_FICHERO, fichero_modelo)\n",
    "else:\n",
    "    myfunc.save_metricas_multi_to_csv(random_search, X_test, y_test, M_TIPO, M_SELECT, M_CLASIF, total_time, SEMILLA, myfunc.MET_DIR, M_FICHERO, fichero_modelo)\n",
    "\n",
    "df1=myfunc.read_metricas_to_df(myfunc.MET_DIR,M_FICHERO)\n",
    "\n",
    "display(df1.sort_values(\"datetime\", ascending=False)[:3])\n"
   ]
  },
  {
   "cell_type": "markdown",
   "id": "34dae408",
   "metadata": {
    "papermill": {
     "duration": 0.006237,
     "end_time": "2023-10-30T16:51:55.213404",
     "exception": false,
     "start_time": "2023-10-30T16:51:55.207167",
     "status": "completed"
    },
    "tags": []
   },
   "source": [
    "#### Guardar resultados"
   ]
  },
  {
   "cell_type": "code",
   "execution_count": 13,
   "id": "956b08cb",
   "metadata": {
    "execution": {
     "iopub.execute_input": "2023-10-30T16:51:55.228065Z",
     "iopub.status.busy": "2023-10-30T16:51:55.227541Z",
     "iopub.status.idle": "2023-10-30T16:51:55.237052Z",
     "shell.execute_reply": "2023-10-30T16:51:55.236500Z"
    },
    "papermill": {
     "duration": 0.018624,
     "end_time": "2023-10-30T16:51:55.238288",
     "exception": false,
     "start_time": "2023-10-30T16:51:55.219664",
     "status": "completed"
    },
    "tags": []
   },
   "outputs": [
    {
     "name": "stdout",
     "output_type": "stream",
     "text": [
      "20231030T175155 : enderlab : INFO : Inicio guardar resultados\n",
      "20231030T175155 : enderlab : INFO : Inicio guardar fichero ../tfm_git/ejecuciones/metricas/resultados_7265_mul_s-RF-LR_L1.csv\n",
      "20231030T175155 : enderlab : INFO : Fin guardar fichero ../tfm_git/ejecuciones/metricas/resultados_7265_mul_s-RF-LR_L1.csv\n",
      "20231030T175155 : enderlab : INFO : Fin guardar resultados\n"
     ]
    }
   ],
   "source": [
    "fichero_resultados=R_FICHERO+\"_\"+M_TIPO+\"-\"+M_SELECT+\"-\"+M_CLASIF+\".csv\"\n",
    "myfunc.save_resultados_to_csv(M_TIPO, M_SELECT, M_CLASIF,  random_search, myfunc.MET_DIR, fichero_resultados)\n"
   ]
  }
 ],
 "metadata": {
  "kernelspec": {
   "display_name": "Python 3 (ipykernel)",
   "language": "python",
   "name": "python3"
  },
  "language_info": {
   "codemirror_mode": {
    "name": "ipython",
    "version": 3
   },
   "file_extension": ".py",
   "mimetype": "text/x-python",
   "name": "python",
   "nbconvert_exporter": "python",
   "pygments_lexer": "ipython3",
   "version": "3.10.11"
  },
  "papermill": {
   "default_parameters": {},
   "duration": 405.046014,
   "end_time": "2023-10-30T16:51:57.862108",
   "environment_variables": {},
   "exception": null,
   "input_path": "03_entrenamiento.ipynb",
   "output_path": "ejecuciones/training/03_entrenamiento.20231030T174512.param_0000_7265_mul_s_RF_LR_L1.output.ipynb",
   "parameters": {
    "MAX_ITERS": 500,
    "M_CLASIF": "LR_L1",
    "M_FICHERO": "metricas_7265",
    "M_SELECT": "RF",
    "M_TIPO": "mul_s",
    "PRE_DATA_FILE": "rows_transpose_norm_by_gene_id_with_target_num_",
    "P_FICHERO": "param_0000_7265_mul_s_RF_LR_L1.yaml",
    "R_FICHERO": "resultados_7265",
    "SCORING": "roc_auc_ovr",
    "SEMILLA": 7265,
    "eval_clasifier": "LogisticRegressionCV(random_state=SEMILLA)",
    "eval_selector": "SelectFromModel(estimator=RandomForestClassifier(random_state=SEMILLA), threshold=-np.inf)",
    "param_distributions": {
     "clasifier__max_iter": [
      10000
     ],
     "clasifier__penalty": [
      "l1"
     ],
     "clasifier__solver": [
      "saga"
     ],
     "selector__estimator__n_estimators": [
      100
     ],
     "selector__max_features": [
      500
     ]
    }
   },
   "start_time": "2023-10-30T16:45:12.816094",
   "version": "2.4.0"
  }
 },
 "nbformat": 4,
 "nbformat_minor": 5
}