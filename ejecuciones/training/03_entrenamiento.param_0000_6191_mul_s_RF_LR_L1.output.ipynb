{
 "cells": [
  {
   "cell_type": "markdown",
   "id": "3ed29576",
   "metadata": {
    "papermill": {
     "duration": 0.003111,
     "end_time": "2023-10-30T11:27:25.164754",
     "exception": false,
     "start_time": "2023-10-30T11:27:25.161643",
     "status": "completed"
    },
    "tags": []
   },
   "source": [
    "##### Inicio"
   ]
  },
  {
   "cell_type": "markdown",
   "id": "dd7ecceb",
   "metadata": {
    "papermill": {
     "duration": 0.002362,
     "end_time": "2023-10-30T11:27:25.169626",
     "exception": false,
     "start_time": "2023-10-30T11:27:25.167264",
     "status": "completed"
    },
    "tags": []
   },
   "source": [
    "#### Carga de datos"
   ]
  },
  {
   "cell_type": "code",
   "execution_count": 1,
   "id": "200d50c8",
   "metadata": {
    "execution": {
     "iopub.execute_input": "2023-10-30T11:27:25.175640Z",
     "iopub.status.busy": "2023-10-30T11:27:25.175394Z",
     "iopub.status.idle": "2023-10-30T11:27:26.039811Z",
     "shell.execute_reply": "2023-10-30T11:27:26.039260Z"
    },
    "papermill": {
     "duration": 0.869243,
     "end_time": "2023-10-30T11:27:26.041224",
     "exception": false,
     "start_time": "2023-10-30T11:27:25.171981",
     "status": "completed"
    },
    "tags": []
   },
   "outputs": [
    {
     "name": "stdout",
     "output_type": "stream",
     "text": [
      "CPU_COUNT: 8; NODE: amilcar22; sys.version: 3.10.12 (main, Jul  5 2023, 19:22:19) [GCC 11.2.0]\n",
      "LOKY_MAX_CPU_COUNT: 6\n",
      "OMP_NUM_THREADS: 2\n"
     ]
    }
   ],
   "source": [
    "import os\n",
    "import numpy as np\n",
    "import pandas as pd\n",
    "import datetime\n",
    "import sklearn\n",
    "import logging\n",
    "import warnings\n",
    "\n",
    "from sklearn.pipeline import Pipeline\n",
    "from sklearn.model_selection import RandomizedSearchCV, KFold, cross_val_score, train_test_split\n",
    "from sklearn.metrics import accuracy_score, confusion_matrix, classification_report, roc_auc_score\n",
    "\n",
    "#  cargar algoritmos para aprendizaje supervisado\n",
    "from sklearn.feature_selection import SelectKBest, f_classif, SelectFromModel, mutual_info_classif\n",
    "from sklearn.svm import SVC\n",
    "from sklearn.ensemble import RandomForestClassifier\n",
    "from sklearn.linear_model import LogisticRegression,LogisticRegressionCV\n",
    "\n",
    "# importar fichero con utilidades propias\n",
    "from commons import myfunctions as myfunc\n"
   ]
  },
  {
   "cell_type": "markdown",
   "id": "9e631856",
   "metadata": {
    "papermill": {
     "duration": 0.002575,
     "end_time": "2023-10-30T11:27:26.046723",
     "exception": false,
     "start_time": "2023-10-30T11:27:26.044148",
     "status": "completed"
    },
    "tags": []
   },
   "source": [
    "#### Parámetros a utilizar en el entrenamiento.\n",
    "\n",
    "Se indican los 3 algoritmos de *selección de características* (eval_selector_xxx) y los 3 algoritmos para la _clasificación_ (eval_clasifier_xxx)\n",
    "\n",
    "En *param_distributions* se indicar los parámetros que utilizan los algoritmos en la función RandomSearchCV.\n",
    "\n",
    "Esta celda tiene la etiqueta **parameters** que servirá para poder lanzar los entrenamientos con la utilidad **papermill** pasándole un fichero con los parámetros. Los nuevos parámetros se situarán tras esta celda para tener prevalencia."
   ]
  },
  {
   "cell_type": "code",
   "execution_count": 2,
   "id": "f88a2242",
   "metadata": {
    "execution": {
     "iopub.execute_input": "2023-10-30T11:27:26.052653Z",
     "iopub.status.busy": "2023-10-30T11:27:26.052358Z",
     "iopub.status.idle": "2023-10-30T11:27:26.059243Z",
     "shell.execute_reply": "2023-10-30T11:27:26.058665Z"
    },
    "papermill": {
     "duration": 0.011222,
     "end_time": "2023-10-30T11:27:26.060432",
     "exception": false,
     "start_time": "2023-10-30T11:27:26.049210",
     "status": "completed"
    },
    "tags": [
     "parameters"
    ]
   },
   "outputs": [
    {
     "name": "stdout",
     "output_type": "stream",
     "text": [
      "20231030T122726 : amilcar22 : INFO : Utilizando parámetros de mul_m\n"
     ]
    }
   ],
   "source": [
    "#  Parametros para el entrenamiento\n",
    "\n",
    "SEMILLA=        42\n",
    "M_TIPO=         \"mul_m\"\n",
    "M_SELECT=       \"MI\"\n",
    "M_CLASIF=       \"SVM\"\n",
    "R_FICHERO=      \"resultados\"\n",
    "M_FICHERO=      \"metricas\"\n",
    "PRE_DATA_FILE=  \"rows_transpose_norm_by_gene_id_with_target_num_\"\n",
    "SCORING=        \"roc_auc_ovr\" \n",
    "MAX_ITERS=      100\n",
    "\n",
    "def mutual_info_classif_state(X, y):\n",
    "    return mutual_info_classif(X, y, random_state=SEMILLA)\n",
    "\n",
    "eval_selector_mi = \"SelectKBest(score_func=mutual_info_classif_state)\"\n",
    "eval_selector_rf=  \"SelectFromModel(estimator=RandomForestClassifier(random_state=SEMILLA), threshold=-np.inf)\"\n",
    "eval_selector_anova=  \"SelectKBest(score_func=f_classif)\"\n",
    "\n",
    "eval_clasifier_svm= \"SVC(probability=True, random_state=SEMILLA)\"\n",
    "eval_clasifier_rf= \"RandomForestClassifier(random_state=SEMILLA)\"\n",
    "eval_clasifier_lr= \"LogisticRegressionCV(random_state=SEMILLA)\"\n",
    "\n",
    "if M_TIPO.startswith(\"bin_m\"):\n",
    "    myfunc.verbose(f\"Utilizando parámetros de {M_TIPO}\")\n",
    "    eval_selector = eval_selector_mi\n",
    "    eval_clasifier = eval_clasifier_svm\n",
    "\n",
    "    SEMILLA = 6578\n",
    "    M_SELECT = \"MI\"\n",
    "    M_CLASIF = \"SVM\"\n",
    "    param_distributions = {'selector__k': [1000], \n",
    "         'clasifier__kernel': ['rbf'], 'clasifier__gamma': [0.01], 'clasifier__C': [100]}\n",
    "elif M_TIPO.startswith(\"bin_s\"):\n",
    "    myfunc.verbose(f\"Utilizando parámetros de {M_TIPO}\")\n",
    "    eval_selector = eval_selector_rf\n",
    "    eval_clasifier = eval_clasifier_lr\n",
    "\n",
    "    SEMILLA = 6191\n",
    "    M_SELECT = \"RF\"\n",
    "    M_CLASIF = \"LR_L2\"\n",
    "    param_distributions = {'selector__max_features': [1000], 'selector__estimator__n_estimators': [200], \n",
    "        'clasifier__solver': ['lbfgs'], 'clasifier__penalty': ['l2'], 'clasifier__max_iter': [10000]}\n",
    "\n",
    "elif M_TIPO.startswith(\"mul_m\"):\n",
    "    myfunc.verbose(f\"Utilizando parámetros de {M_TIPO}\")\n",
    " \n",
    "    eval_selector = eval_selector_rf\n",
    "    eval_clasifier = eval_clasifier_lr\n",
    "\n",
    "    SEMILLA = 6191\n",
    "    M_SELECT = \"RF\"\n",
    "    M_CLASIF = \"LR_L2\"\n",
    "    param_distributions = {'selector__max_features': [1000], 'selector__estimator__n_estimators': [400], \n",
    "        'clasifier__solver': ['lbfgs'], 'clasifier__penalty': ['l2'], 'clasifier__max_iter': [10000]}\n",
    "\n",
    "else:\n",
    "    # M_TIPO.startswith(\"mul_s\"):\n",
    "    myfunc.verbose(f\"Utilizando parámetros de {M_TIPO}\")\n",
    "    eval_selector = eval_selector_anova\n",
    "    eval_clasifier = eval_clasifier_lr\n",
    "\n",
    "    SEMILLA = 1860\n",
    "    M_SELECT = \"ANOVA\"\n",
    "    M_CLASIF = \"LR_L2\"\n",
    "    param_distributions = {'selector__k': [1000], \n",
    "        'clasifier__solver': ['saga'], 'clasifier__penalty': ['l2'], 'clasifier__max_iter': [10000]}\n",
    "\n"
   ]
  },
  {
   "cell_type": "code",
   "execution_count": 3,
   "id": "2c209d41",
   "metadata": {
    "execution": {
     "iopub.execute_input": "2023-10-30T11:27:26.066409Z",
     "iopub.status.busy": "2023-10-30T11:27:26.066223Z",
     "iopub.status.idle": "2023-10-30T11:27:26.069743Z",
     "shell.execute_reply": "2023-10-30T11:27:26.069269Z"
    },
    "papermill": {
     "duration": 0.007885,
     "end_time": "2023-10-30T11:27:26.070907",
     "exception": false,
     "start_time": "2023-10-30T11:27:26.063022",
     "status": "completed"
    },
    "tags": [
     "injected-parameters"
    ]
   },
   "outputs": [],
   "source": [
    "# Parameters\n",
    "M_TIPO = \"mul_s\"\n",
    "M_SELECT = \"RF\"\n",
    "M_CLASIF = \"LR_L1\"\n",
    "P_FICHERO = \"param_0000_6191_mul_s_RF_LR_L1.yaml\"\n",
    "R_FICHERO = \"resultados_6191\"\n",
    "M_FICHERO = \"metricas_6191\"\n",
    "PRE_DATA_FILE = \"rows_transpose_norm_by_gene_id_with_target_num_\"\n",
    "SCORING = \"roc_auc_ovr\"\n",
    "SEMILLA = 6191\n",
    "MAX_ITERS = 500\n",
    "eval_selector = \"SelectFromModel(estimator=RandomForestClassifier(random_state=SEMILLA), threshold=-np.inf)\"\n",
    "eval_clasifier = \"LogisticRegressionCV(random_state=SEMILLA)\"\n",
    "param_distributions = {\n",
    "    \"selector__max_features\": [500],\n",
    "    \"selector__estimator__n_estimators\": [100],\n",
    "    \"clasifier__solver\": [\"saga\"],\n",
    "    \"clasifier__penalty\": [\"l1\"],\n",
    "    \"clasifier__max_iter\": [10000],\n",
    "}\n"
   ]
  },
  {
   "cell_type": "code",
   "execution_count": 4,
   "id": "add7e219",
   "metadata": {
    "execution": {
     "iopub.execute_input": "2023-10-30T11:27:26.076946Z",
     "iopub.status.busy": "2023-10-30T11:27:26.076768Z",
     "iopub.status.idle": "2023-10-30T11:27:26.079799Z",
     "shell.execute_reply": "2023-10-30T11:27:26.079309Z"
    },
    "papermill": {
     "duration": 0.00741,
     "end_time": "2023-10-30T11:27:26.080940",
     "exception": false,
     "start_time": "2023-10-30T11:27:26.073530",
     "status": "completed"
    },
    "tags": []
   },
   "outputs": [],
   "source": [
    "DATA_FILE = PRE_DATA_FILE + M_TIPO\n",
    "\n",
    "# si viene \"None\" en el parámetro max_depth, se le quitan las comillas para que no sea entendido por el algoritmo como un texto\n",
    "if \"clasifier__max_depth\" in param_distributions:\n",
    "    param_distributions['clasifier__max_depth'] = [None if x == 'None' else x for x in param_distributions['clasifier__max_depth']]"
   ]
  },
  {
   "cell_type": "markdown",
   "id": "6f177907",
   "metadata": {
    "papermill": {
     "duration": 0.002785,
     "end_time": "2023-10-30T11:27:26.086287",
     "exception": false,
     "start_time": "2023-10-30T11:27:26.083502",
     "status": "completed"
    },
    "tags": []
   },
   "source": [
    "Asignar los algoritmos que se utilizarán en la función RandomSearchCV"
   ]
  },
  {
   "cell_type": "code",
   "execution_count": 5,
   "id": "9ac1bafa",
   "metadata": {
    "execution": {
     "iopub.execute_input": "2023-10-30T11:27:26.092577Z",
     "iopub.status.busy": "2023-10-30T11:27:26.092392Z",
     "iopub.status.idle": "2023-10-30T11:27:26.095312Z",
     "shell.execute_reply": "2023-10-30T11:27:26.094763Z"
    },
    "papermill": {
     "duration": 0.00763,
     "end_time": "2023-10-30T11:27:26.096639",
     "exception": false,
     "start_time": "2023-10-30T11:27:26.089009",
     "status": "completed"
    },
    "tags": []
   },
   "outputs": [],
   "source": [
    "algor_selector=eval(eval_selector)\n",
    "algor_clasifier=eval(eval_clasifier)"
   ]
  },
  {
   "cell_type": "markdown",
   "id": "311924a4",
   "metadata": {
    "papermill": {
     "duration": 0.003224,
     "end_time": "2023-10-30T11:27:26.103056",
     "exception": false,
     "start_time": "2023-10-30T11:27:26.099832",
     "status": "completed"
    },
    "tags": []
   },
   "source": [
    "#### Comprobar el entorno y leer fichero de muestras"
   ]
  },
  {
   "cell_type": "code",
   "execution_count": 6,
   "id": "9c583521",
   "metadata": {
    "execution": {
     "iopub.execute_input": "2023-10-30T11:27:26.110340Z",
     "iopub.status.busy": "2023-10-30T11:27:26.110160Z",
     "iopub.status.idle": "2023-10-30T11:27:26.234857Z",
     "shell.execute_reply": "2023-10-30T11:27:26.234281Z"
    },
    "papermill": {
     "duration": 0.129988,
     "end_time": "2023-10-30T11:27:26.236250",
     "exception": false,
     "start_time": "2023-10-30T11:27:26.106262",
     "status": "completed"
    },
    "tags": []
   },
   "outputs": [
    {
     "name": "stdout",
     "output_type": "stream",
     "text": [
      "20231030T122726 : amilcar22 : INFO : Encontrada carpeta DATA_DIR=../tfm_git/datos\n",
      "20231030T122726 : amilcar22 : INFO : Encontrada carpeta CFDNA_DIR=../tfm_git/datos/cfDNA_5hmC\n",
      "20231030T122726 : amilcar22 : INFO : Encontrada carpeta GENCODE_DIR=../tfm_git/datos/gencode\n",
      "20231030T122726 : amilcar22 : INFO : Encontrada carpeta H5_DIR=../tfm_git/datos/h5\n",
      "20231030T122726 : amilcar22 : INFO : Encontrada carpeta LOG_DIR=../tfm_git/datos/logs\n",
      "20231030T122726 : amilcar22 : INFO : Encontrada carpeta CSV_DIR=../tfm_git/datos/csv\n",
      "20231030T122726 : amilcar22 : INFO : Encontrada carpeta MODEL_DIR=../tfm_git/ejecuciones/modelos\n",
      "20231030T122726 : amilcar22 : INFO : Encontrada carpeta EXEC_DIR=../tfm_git/ejecuciones\n",
      "20231030T122726 : amilcar22 : INFO : Encontrada carpeta MET_DIR=../tfm_git/ejecuciones/metricas\n",
      "20231030T122726 : amilcar22 : INFO : Inicio leer fichero h5 ../tfm_git/datos/h5/rows_transpose_norm_by_gene_id_with_target_num_mul_s.h5\n",
      "20231030T122726 : amilcar22 : INFO : Leyendo clave /df\n",
      "20231030T122726 : amilcar22 : INFO : Tamaño (259, 18876)\n",
      "20231030T122726 : amilcar22 : INFO : Fin leer fichero h5 ../tfm_git/datos/h5/rows_transpose_norm_by_gene_id_with_target_num_mul_s.h5\n"
     ]
    },
    {
     "data": {
      "text/plain": [
       "target\n",
       "0    37\n",
       "1    37\n",
       "2    37\n",
       "3    37\n",
       "4    37\n",
       "5    37\n",
       "6    37\n",
       "dtype: int64"
      ]
     },
     "metadata": {},
     "output_type": "display_data"
    },
    {
     "name": "stdout",
     "output_type": "stream",
     "text": [
      "Shape df: (259, 18876)\n",
      "Shape X_train: (207, 18875)\n",
      "Shape X_test: (52, 18875)\n"
     ]
    }
   ],
   "source": [
    "start_time = datetime.datetime.now()\n",
    "\n",
    "myfunc.reset_vars()\n",
    "\n",
    "myfunc.NOTEBK_FILENAME = myfunc.get_nb_name()\n",
    "\n",
    "myfunc.check_enviroment(myfunc.DATA_DIR, myfunc.CFDNA_DIR, myfunc.GENCODE_DIR, myfunc.H5_DIR, myfunc.LOG_DIR, myfunc.CSV_DIR, myfunc.MODEL_DIR, myfunc.EXEC_DIR, myfunc.MET_DIR)\n",
    "\n",
    "# Leer fichero con las muestras\n",
    "df_t = myfunc.read_h5_to_df(DATA_FILE, myfunc.H5_DIR)\n",
    "display(df_t.groupby(\"target\").size())\n",
    "print(\"Shape df:\",df_t.shape)\n",
    "\n",
    "# Separar caracteristicas/genes de las etiquetas/tipos de cáncer\n",
    "X = df_t.iloc[:, :-1]  # Todas las columnas excepto la última\n",
    "y = df_t.iloc[:, -1]  # La última columna contiene los identificadores de los tipos de cáncer\n",
    "\n",
    "#  Crear el conjunto de datos de entrenamiento y de pruebas, y se fija la semilla para siempre coger el mismo juego de muestras\n",
    "X_train, X_test, y_train, y_test = train_test_split(X, y, test_size=0.2, shuffle=True, random_state=42)\n",
    "print(\"Shape X_train:\",X_train.shape)\n",
    "print(\"Shape X_test:\",X_test.shape)\n"
   ]
  },
  {
   "cell_type": "markdown",
   "id": "7f0da37a",
   "metadata": {
    "papermill": {
     "duration": 0.00293,
     "end_time": "2023-10-30T11:27:26.242520",
     "exception": false,
     "start_time": "2023-10-30T11:27:26.239590",
     "status": "completed"
    },
    "tags": []
   },
   "source": [
    "#### Selección de características y clasificación."
   ]
  },
  {
   "cell_type": "code",
   "execution_count": 7,
   "id": "9e4408db",
   "metadata": {
    "execution": {
     "iopub.execute_input": "2023-10-30T11:27:26.248998Z",
     "iopub.status.busy": "2023-10-30T11:27:26.248801Z",
     "iopub.status.idle": "2023-10-30T11:36:10.303997Z",
     "shell.execute_reply": "2023-10-30T11:36:10.303435Z"
    },
    "papermill": {
     "duration": 524.059776,
     "end_time": "2023-10-30T11:36:10.305211",
     "exception": false,
     "start_time": "2023-10-30T11:27:26.245435",
     "status": "completed"
    },
    "tags": []
   },
   "outputs": [
    {
     "name": "stdout",
     "output_type": "stream",
     "text": [
      "20231030T122726 : amilcar22 : INFO : Iniciando entrenamiento\n",
      "num_iter: 1 , max_iter: 1\n"
     ]
    },
    {
     "name": "stdout",
     "output_type": "stream",
     "text": [
      "Fitting 5 folds for each of 1 candidates, totalling 5 fits\n"
     ]
    },
    {
     "name": "stdout",
     "output_type": "stream",
     "text": [
      "[CV 3/5] END clasifier__max_iter=10000, clasifier__penalty=l1, clasifier__solver=saga, selector__estimator__n_estimators=100, selector__max_features=500;, score=0.672 total time= 3.3min\n"
     ]
    },
    {
     "name": "stdout",
     "output_type": "stream",
     "text": [
      "[CV 2/5] END clasifier__max_iter=10000, clasifier__penalty=l1, clasifier__solver=saga, selector__estimator__n_estimators=100, selector__max_features=500;, score=0.719 total time= 3.4min\n"
     ]
    },
    {
     "name": "stdout",
     "output_type": "stream",
     "text": [
      "[CV 1/5] END clasifier__max_iter=10000, clasifier__penalty=l1, clasifier__solver=saga, selector__estimator__n_estimators=100, selector__max_features=500;, score=0.808 total time= 3.4min\n"
     ]
    },
    {
     "name": "stdout",
     "output_type": "stream",
     "text": [
      "Mejores Hiperparámetros: {'selector__max_features': 500, 'selector__estimator__n_estimators': 100, 'clasifier__solver': 'saga', 'clasifier__penalty': 'l1', 'clasifier__max_iter': 10000}\n",
      "Mejor Puntuación: 0.7427\n",
      "20231030T123610 : amilcar22 : INFO : Fin entrenamiento\n"
     ]
    }
   ],
   "source": [
    "myfunc.verbose(\"Iniciando entrenamiento\")\n",
    "\n",
    "kf = KFold(n_splits=5, shuffle=True, random_state=SEMILLA)\n",
    "\n",
    "# Crear el pipeline para el flujo de tareas\n",
    "tasks_pipeline = Pipeline([\n",
    "    ('selector', algor_selector),\n",
    "    ('clasifier', algor_clasifier)\n",
    "])\n",
    "\n",
    "# MAX_ITERS puede limitar el número de iteraciones si son excesivas para las combinaciones de parámetros buscando un óptimo local, \n",
    "# sino funcionaría como GridSearchCV al revisar todas las cominaciones de los parámetros\n",
    "num_iteraciones = 1\n",
    "num_iteraciones = num_iteraciones * np.prod([len(elemento1) for _, elemento1 in param_distributions.items()])\n",
    "max_iteraciones = num_iteraciones if num_iteraciones <= MAX_ITERS else MAX_ITERS\n",
    "print(\"num_iter:\",num_iteraciones,\", max_iter:\",max_iteraciones)\n",
    "\n",
    "random_search = RandomizedSearchCV(\n",
    "    tasks_pipeline, \n",
    "    param_distributions, \n",
    "    n_iter=max_iteraciones,\n",
    "    scoring=SCORING,\n",
    "    cv=kf,\n",
    "    verbose=3, \n",
    "    random_state=SEMILLA, \n",
    "    n_jobs=-1\n",
    "    )\n",
    "\n",
    "# Entrenar el modelo\n",
    "random_search.fit(X_train, y_train)\n",
    "\n",
    "# Ver los mejores hiperparámetros encontrados\n",
    "print(f'Mejores Hiperparámetros: {random_search.best_params_}')\n",
    "print(f'Mejor Puntuación: {random_search.best_score_:.4f}')\n",
    "\n",
    "# Nos quedamos con el mejor modelo para ver las métricas\n",
    "mejor_modelo = random_search.best_estimator_\n",
    "\n",
    "myfunc.verbose(\"Fin entrenamiento\")"
   ]
  },
  {
   "cell_type": "markdown",
   "id": "af1732b2",
   "metadata": {
    "papermill": {
     "duration": 0.002934,
     "end_time": "2023-10-30T11:36:10.311513",
     "exception": false,
     "start_time": "2023-10-30T11:36:10.308579",
     "status": "completed"
    },
    "tags": []
   },
   "source": [
    "#### Guardar modelo"
   ]
  },
  {
   "cell_type": "code",
   "execution_count": 8,
   "id": "125f3795",
   "metadata": {
    "execution": {
     "iopub.execute_input": "2023-10-30T11:36:10.318360Z",
     "iopub.status.busy": "2023-10-30T11:36:10.318170Z",
     "iopub.status.idle": "2023-10-30T11:36:10.360038Z",
     "shell.execute_reply": "2023-10-30T11:36:10.359430Z"
    },
    "papermill": {
     "duration": 0.046888,
     "end_time": "2023-10-30T11:36:10.361336",
     "exception": false,
     "start_time": "2023-10-30T11:36:10.314448",
     "status": "completed"
    },
    "tags": []
   },
   "outputs": [
    {
     "name": "stdout",
     "output_type": "stream",
     "text": [
      "20231030T123610 : amilcar22 : INFO : Inicio guardar fichero ../tfm_git/ejecuciones/modelos/modelo_6191_mul_s_RF_LR_L1.pkl\n",
      "20231030T123610 : amilcar22 : INFO : Fin guardar fichero ../tfm_git/ejecuciones/modelos/modelo_6191_mul_s_RF_LR_L1.pkl\n"
     ]
    }
   ],
   "source": [
    "fichero_modelo = str.replace(\"modelo_\"+str(SEMILLA).zfill(4)+\"_\"+M_TIPO+\"_\"+M_SELECT+\"_\"+M_CLASIF+\".pkl\", \" \", \"_\")\n",
    "\n",
    "myfunc.save_modelo(mejor_modelo, myfunc.MODEL_DIR, fichero_modelo)"
   ]
  },
  {
   "cell_type": "markdown",
   "id": "0c3cb421",
   "metadata": {
    "papermill": {
     "duration": 0.003013,
     "end_time": "2023-10-30T11:36:10.367648",
     "exception": false,
     "start_time": "2023-10-30T11:36:10.364635",
     "status": "completed"
    },
    "tags": []
   },
   "source": [
    "#### Ver resultados del las iteraciones hechas por RandomSearchCV"
   ]
  },
  {
   "cell_type": "code",
   "execution_count": 9,
   "id": "0ff74c2d",
   "metadata": {
    "execution": {
     "iopub.execute_input": "2023-10-30T11:36:10.374573Z",
     "iopub.status.busy": "2023-10-30T11:36:10.374359Z",
     "iopub.status.idle": "2023-10-30T11:36:10.380392Z",
     "shell.execute_reply": "2023-10-30T11:36:10.379917Z"
    },
    "papermill": {
     "duration": 0.010954,
     "end_time": "2023-10-30T11:36:10.381632",
     "exception": false,
     "start_time": "2023-10-30T11:36:10.370678",
     "status": "completed"
    },
    "tags": []
   },
   "outputs": [
    {
     "name": "stdout",
     "output_type": "stream",
     "text": [
      "20231030T123610 : amilcar22 : INFO : Inicio ver resultados\n",
      "Mejores Hiperparámetros: {'selector__max_features': 500, 'selector__estimator__n_estimators': 100, 'clasifier__solver': 'saga', 'clasifier__penalty': 'l1', 'clasifier__max_iter': 10000}\n",
      "Mejores puntuaciones: 0.7427 | Params: {'selector__max_features': 500, 'selector__estimator__n_estimators': 100, 'clasifier__solver': 'saga', 'clasifier__penalty': 'l1', 'clasifier__max_iter': 10000}\n",
      "Media de las puntuaciones: 0.7427 | Params: {'selector__max_features': 500, 'selector__estimator__n_estimators': 100, 'clasifier__solver': 'saga', 'clasifier__penalty': 'l1', 'clasifier__max_iter': 10000}\n",
      "20231030T123610 : amilcar22 : INFO : Fin resultados\n"
     ]
    }
   ],
   "source": [
    "myfunc.ver_resultados_search(random_search)"
   ]
  },
  {
   "cell_type": "markdown",
   "id": "8b83893d",
   "metadata": {
    "papermill": {
     "duration": 0.003088,
     "end_time": "2023-10-30T11:36:10.387906",
     "exception": false,
     "start_time": "2023-10-30T11:36:10.384818",
     "status": "completed"
    },
    "tags": []
   },
   "source": [
    "#### Ver métricas del mejor modelo"
   ]
  },
  {
   "cell_type": "code",
   "execution_count": 10,
   "id": "1174be75",
   "metadata": {
    "execution": {
     "iopub.execute_input": "2023-10-30T11:36:10.395008Z",
     "iopub.status.busy": "2023-10-30T11:36:10.394792Z",
     "iopub.status.idle": "2023-10-30T11:36:11.055459Z",
     "shell.execute_reply": "2023-10-30T11:36:11.054921Z"
    },
    "papermill": {
     "duration": 0.6659,
     "end_time": "2023-10-30T11:36:11.056808",
     "exception": false,
     "start_time": "2023-10-30T11:36:10.390908",
     "status": "completed"
    },
    "tags": []
   },
   "outputs": [
    {
     "name": "stdout",
     "output_type": "stream",
     "text": [
      "20231030T123610 : amilcar22 : INFO : Inicio ver métricas multiclase\n"
     ]
    },
    {
     "name": "stdout",
     "output_type": "stream",
     "text": [
      "              precision    recall  f1-score   support\n",
      "\n",
      "           0       0.20      0.09      0.13        11\n",
      "           1       0.57      0.50      0.53         8\n",
      "           2       0.40      0.25      0.31         8\n",
      "           3       0.27      0.60      0.37         5\n",
      "           4       0.75      0.75      0.75         8\n",
      "           5       0.20      0.17      0.18         6\n",
      "           6       0.27      0.50      0.35         6\n",
      "\n",
      "    accuracy                           0.38        52\n",
      "   macro avg       0.38      0.41      0.38        52\n",
      "weighted avg       0.39      0.38      0.37        52\n",
      "\n",
      "\n",
      "\n",
      "           Exactitud: 0.384615\n",
      "   Precisión (media): 0.380983\n",
      "      Recall (media): 0.408225\n",
      "    F1-score (media): 0.375112\n",
      "\n",
      "\n",
      "AUC para el tipo de cáncer 0-Control.... 0.4346\n",
      "AUC para el tipo de cáncer 1-Bladder.... 0.8494\n",
      "AUC para el tipo de cáncer 2-Breast..... 0.7727\n",
      "AUC para el tipo de cáncer 3-Colorectal. 0.7277\n",
      "AUC para el tipo de cáncer 4-Kidney..... 0.9176\n",
      "AUC para el tipo de cáncer 5-Lung....... 0.7899\n",
      "AUC para el tipo de cáncer 6-Prostate... 0.8188\n",
      "\n",
      "Media de AUC: 0.7587\n"
     ]
    },
    {
     "data": {
      "image/png": "[encoded data removed]",
      "text/plain": [
       "<Figure size 1000x600 with 1 Axes>"
      ]
     },
     "metadata": {},
     "output_type": "display_data"
    },
    {
     "name": "stdout",
     "output_type": "stream",
     "text": [
      "\n",
      "\n"
     ]
    },
    {
     "data": {
      "image/png": "[encoded data removed]",
      "text/plain": [
       "<Figure size 800x400 with 2 Axes>"
      ]
     },
     "metadata": {},
     "output_type": "display_data"
    },
    {
     "name": "stdout",
     "output_type": "stream",
     "text": [
      "\n",
      "\n",
      "Puntuación Jaccard para el cáncer tipo 0-Control.... 0.0667\n",
      "Puntuación Jaccard para el cáncer tipo 1-Bladder.... 0.3636\n",
      "Puntuación Jaccard para el cáncer tipo 2-Breast..... 0.1818\n",
      "Puntuación Jaccard para el cáncer tipo 3-Colorectal. 0.2308\n",
      "Puntuación Jaccard para el cáncer tipo 4-Kidney..... 0.6000\n",
      "Puntuación Jaccard para el cáncer tipo 5-Lung....... 0.1000\n",
      "Puntuación Jaccard para el cáncer tipo 6-Prostate... 0.2143\n",
      "\n",
      "Media de la puntuación de Jaccard: 0.2510\n"
     ]
    }
   ],
   "source": [
    "if M_TIPO.startswith(\"bin\"):\n",
    "    myfunc.ver_metricas(mejor_modelo, X_test, y_test)\n",
    "else:\n",
    "    myfunc.ver_metricas_multi(mejor_modelo, X_test, y_test)\n"
   ]
  },
  {
   "cell_type": "markdown",
   "id": "d5fafd14",
   "metadata": {
    "papermill": {
     "duration": 0.004165,
     "end_time": "2023-10-30T11:36:11.065747",
     "exception": false,
     "start_time": "2023-10-30T11:36:11.061582",
     "status": "completed"
    },
    "tags": []
   },
   "source": [
    "#### Finalización del notebook"
   ]
  },
  {
   "cell_type": "code",
   "execution_count": 11,
   "id": "1af98454",
   "metadata": {
    "execution": {
     "iopub.execute_input": "2023-10-30T11:36:11.074793Z",
     "iopub.status.busy": "2023-10-30T11:36:11.074586Z",
     "iopub.status.idle": "2023-10-30T11:36:11.078088Z",
     "shell.execute_reply": "2023-10-30T11:36:11.077607Z"
    },
    "papermill": {
     "duration": 0.009394,
     "end_time": "2023-10-30T11:36:11.079192",
     "exception": false,
     "start_time": "2023-10-30T11:36:11.069798",
     "status": "completed"
    },
    "tags": []
   },
   "outputs": [
    {
     "name": "stdout",
     "output_type": "stream",
     "text": [
      "20231030T123611 : amilcar22 : INFO : Notebook ha tardado 524 seconds\n"
     ]
    }
   ],
   "source": [
    "end_time = datetime.datetime.now()\n",
    "total_time = end_time - start_time\n",
    "myfunc.verbose(f\"Notebook ha tardado {total_time.seconds} seconds\")"
   ]
  },
  {
   "cell_type": "markdown",
   "id": "806df87c",
   "metadata": {
    "papermill": {
     "duration": 0.004178,
     "end_time": "2023-10-30T11:36:11.087615",
     "exception": false,
     "start_time": "2023-10-30T11:36:11.083437",
     "status": "completed"
    },
    "tags": []
   },
   "source": [
    "#### Guardar métricas"
   ]
  },
  {
   "cell_type": "code",
   "execution_count": 12,
   "id": "d2d95740",
   "metadata": {
    "execution": {
     "iopub.execute_input": "2023-10-30T11:36:11.096554Z",
     "iopub.status.busy": "2023-10-30T11:36:11.096389Z",
     "iopub.status.idle": "2023-10-30T11:36:11.375959Z",
     "shell.execute_reply": "2023-10-30T11:36:11.375468Z"
    },
    "papermill": {
     "duration": 0.285606,
     "end_time": "2023-10-30T11:36:11.377308",
     "exception": false,
     "start_time": "2023-10-30T11:36:11.091702",
     "status": "completed"
    },
    "tags": []
   },
   "outputs": [
    {
     "name": "stdout",
     "output_type": "stream",
     "text": [
      "20231030T123611 : amilcar22 : INFO : Inicio guardar métricas multiclase\n",
      "20231030T123611 : amilcar22 : INFO : Inicio leer fichero ../tfm_git/ejecuciones/metricas/metricas_6191.csv\n",
      "20231030T123611 : amilcar22 : INFO : Fin leer fichero ../tfm_git/ejecuciones/metricas/metricas_6191.csv\n"
     ]
    },
    {
     "name": "stdout",
     "output_type": "stream",
     "text": [
      "20231030T123611 : amilcar22 : INFO : Inicio guardar fichero ../tfm_git/ejecuciones/metricas/metricas_6191.csv\n",
      "20231030T123611 : amilcar22 : INFO : Fichero borrado ../tfm_git/ejecuciones/metricas/metricas_6191.csv\n",
      "20231030T123611 : amilcar22 : INFO : Fin guardar fichero ../tfm_git/ejecuciones/metricas/metricas_6191.csv\n",
      "20231030T123611 : amilcar22 : INFO : Fin guardar métricas multiclase\n",
      "20231030T123611 : amilcar22 : INFO : Inicio leer fichero ../tfm_git/ejecuciones/metricas/metricas_6191.csv\n",
      "20231030T123611 : amilcar22 : INFO : Fin leer fichero ../tfm_git/ejecuciones/metricas/metricas_6191.csv\n"
     ]
    },
    {
     "data": {
      "text/html": [
       "<div>\n",
       "<style scoped>\n",
       "    .dataframe tbody tr th:only-of-type {\n",
       "        vertical-align: middle;\n",
       "    }\n",
       "\n",
       "    .dataframe tbody tr th {\n",
       "        vertical-align: top;\n",
       "    }\n",
       "\n",
       "    .dataframe thead th {\n",
       "        text-align: right;\n",
       "    }\n",
       "</style>\n",
       "<table border=\"1\" class=\"dataframe\">\n",
       "  <thead>\n",
       "    <tr style=\"text-align: right;\">\n",
       "      <th></th>\n",
       "      <th>tipo</th>\n",
       "      <th>select</th>\n",
       "      <th>clasific</th>\n",
       "      <th>semilla</th>\n",
       "      <th>accuracy</th>\n",
       "      <th>precision</th>\n",
       "      <th>recall</th>\n",
       "      <th>f1_score</th>\n",
       "      <th>roc_auc</th>\n",
       "      <th>hostname</th>\n",
       "      <th>total_time_sec</th>\n",
       "      <th>datetime</th>\n",
       "      <th>fichero_modelo</th>\n",
       "      <th>params</th>\n",
       "      <th>shape</th>\n",
       "      <th>features</th>\n",
       "      <th>roc_auc_ovr</th>\n",
       "      <th>indices_auc</th>\n",
       "      <th>indices_jaccard</th>\n",
       "    </tr>\n",
       "  </thead>\n",
       "  <tbody>\n",
       "    <tr>\n",
       "      <th>0</th>\n",
       "      <td>mul_s</td>\n",
       "      <td>RF</td>\n",
       "      <td>LR_L1</td>\n",
       "      <td>6191</td>\n",
       "      <td>0.384615</td>\n",
       "      <td>0.380983</td>\n",
       "      <td>0.408225</td>\n",
       "      <td>0.375112</td>\n",
       "      <td>NaN</td>\n",
       "      <td>amilcar22</td>\n",
       "      <td>524</td>\n",
       "      <td>2023-10-30 12:36:11.341846</td>\n",
       "      <td>modelo_6191_mul_s_RF_LR_L1.pkl</td>\n",
       "      <td>{'selector__max_features': 500, 'selector__est...</td>\n",
       "      <td>X_test:(52, 18875)</td>\n",
       "      <td>['ENSG00000005073.6', 'ENSG00000006659.13', 'E...</td>\n",
       "      <td>0.758674</td>\n",
       "      <td>[0.434589800443459, 0.8494318181818181, 0.7727...</td>\n",
       "      <td>[0.06666666666666667, 0.36363636363636365, 0.1...</td>\n",
       "    </tr>\n",
       "    <tr>\n",
       "      <th>0</th>\n",
       "      <td>mul_s</td>\n",
       "      <td>RF</td>\n",
       "      <td>LR_EN</td>\n",
       "      <td>6191</td>\n",
       "      <td>0.288462</td>\n",
       "      <td>0.294383</td>\n",
       "      <td>0.286797</td>\n",
       "      <td>0.263456</td>\n",
       "      <td>NaN</td>\n",
       "      <td>amilcar22</td>\n",
       "      <td>450</td>\n",
       "      <td>2023-10-30 12:27:20.059003</td>\n",
       "      <td>modelo_6191_mul_s_RF_LR_EN.pkl</td>\n",
       "      <td>{'selector__max_features': 500, 'selector__est...</td>\n",
       "      <td>X_test:(52, 18875)</td>\n",
       "      <td>['ENSG00000003137.9', 'ENSG00000005381.9', 'EN...</td>\n",
       "      <td>0.769604</td>\n",
       "      <td>[0.5454545454545454, 0.8607954545454545, 0.758...</td>\n",
       "      <td>[0.06666666666666667, 0.1111111111111111, 0.12...</td>\n",
       "    </tr>\n",
       "    <tr>\n",
       "      <th>0</th>\n",
       "      <td>mul_s</td>\n",
       "      <td>MI</td>\n",
       "      <td>SVM</td>\n",
       "      <td>6191</td>\n",
       "      <td>0.461538</td>\n",
       "      <td>0.468975</td>\n",
       "      <td>0.465152</td>\n",
       "      <td>0.454242</td>\n",
       "      <td>NaN</td>\n",
       "      <td>amilcar22</td>\n",
       "      <td>191</td>\n",
       "      <td>2023-10-30 12:19:43.070965</td>\n",
       "      <td>modelo_6191_mul_s_MI_SVM.pkl</td>\n",
       "      <td>{'selector__k': 1000, 'clasifier__kernel': 'rb...</td>\n",
       "      <td>X_test:(52, 18875)</td>\n",
       "      <td>['ENSG00000003137.9', 'ENSG00000004864.14', 'E...</td>\n",
       "      <td>0.776523</td>\n",
       "      <td>[0.5698447893569845, 0.8721590909090909, 0.644...</td>\n",
       "      <td>[0.21428571428571427, 0.3333333333333333, 0.13...</td>\n",
       "    </tr>\n",
       "  </tbody>\n",
       "</table>\n",
       "</div>"
      ],
      "text/plain": [
       "    tipo select clasific  semilla  accuracy  precision    recall  f1_score  \\\n",
       "0  mul_s     RF    LR_L1     6191  0.384615   0.380983  0.408225  0.375112   \n",
       "0  mul_s     RF    LR_EN     6191  0.288462   0.294383  0.286797  0.263456   \n",
       "0  mul_s     MI      SVM     6191  0.461538   0.468975  0.465152  0.454242   \n",
       "\n",
       "   roc_auc   hostname  total_time_sec                    datetime  \\\n",
       "0      NaN  amilcar22             524  2023-10-30 12:36:11.341846   \n",
       "0      NaN  amilcar22             450  2023-10-30 12:27:20.059003   \n",
       "0      NaN  amilcar22             191  2023-10-30 12:19:43.070965   \n",
       "\n",
       "                   fichero_modelo  \\\n",
       "0  modelo_6191_mul_s_RF_LR_L1.pkl   \n",
       "0  modelo_6191_mul_s_RF_LR_EN.pkl   \n",
       "0    modelo_6191_mul_s_MI_SVM.pkl   \n",
       "\n",
       "                                              params               shape  \\\n",
       "0  {'selector__max_features': 500, 'selector__est...  X_test:(52, 18875)   \n",
       "0  {'selector__max_features': 500, 'selector__est...  X_test:(52, 18875)   \n",
       "0  {'selector__k': 1000, 'clasifier__kernel': 'rb...  X_test:(52, 18875)   \n",
       "\n",
       "                                            features  roc_auc_ovr  \\\n",
       "0  ['ENSG00000005073.6', 'ENSG00000006659.13', 'E...     0.758674   \n",
       "0  ['ENSG00000003137.9', 'ENSG00000005381.9', 'EN...     0.769604   \n",
       "0  ['ENSG00000003137.9', 'ENSG00000004864.14', 'E...     0.776523   \n",
       "\n",
       "                                         indices_auc  \\\n",
       "0  [0.434589800443459, 0.8494318181818181, 0.7727...   \n",
       "0  [0.5454545454545454, 0.8607954545454545, 0.758...   \n",
       "0  [0.5698447893569845, 0.8721590909090909, 0.644...   \n",
       "\n",
       "                                     indices_jaccard  \n",
       "0  [0.06666666666666667, 0.36363636363636365, 0.1...  \n",
       "0  [0.06666666666666667, 0.1111111111111111, 0.12...  \n",
       "0  [0.21428571428571427, 0.3333333333333333, 0.13...  "
      ]
     },
     "metadata": {},
     "output_type": "display_data"
    }
   ],
   "source": [
    "if M_TIPO.startswith(\"bin\"):\n",
    "    myfunc.save_metricas_to_csv(random_search, X_test, y_test, M_TIPO, M_SELECT, M_CLASIF, total_time, SEMILLA, myfunc.MET_DIR, M_FICHERO, fichero_modelo)\n",
    "else:\n",
    "    myfunc.save_metricas_multi_to_csv(random_search, X_test, y_test, M_TIPO, M_SELECT, M_CLASIF, total_time, SEMILLA, myfunc.MET_DIR, M_FICHERO, fichero_modelo)\n",
    "\n",
    "df1=myfunc.read_metricas_to_df(myfunc.MET_DIR,M_FICHERO)\n",
    "\n",
    "display(df1.sort_values(\"datetime\", ascending=False)[:3])\n"
   ]
  },
  {
   "cell_type": "markdown",
   "id": "224a234a",
   "metadata": {
    "papermill": {
     "duration": 0.004523,
     "end_time": "2023-10-30T11:36:11.386858",
     "exception": false,
     "start_time": "2023-10-30T11:36:11.382335",
     "status": "completed"
    },
    "tags": []
   },
   "source": [
    "#### Guardar resultados"
   ]
  },
  {
   "cell_type": "code",
   "execution_count": 13,
   "id": "7885d09b",
   "metadata": {
    "execution": {
     "iopub.execute_input": "2023-10-30T11:36:11.396443Z",
     "iopub.status.busy": "2023-10-30T11:36:11.396245Z",
     "iopub.status.idle": "2023-10-30T11:36:11.404749Z",
     "shell.execute_reply": "2023-10-30T11:36:11.404145Z"
    },
    "papermill": {
     "duration": 0.014715,
     "end_time": "2023-10-30T11:36:11.405932",
     "exception": false,
     "start_time": "2023-10-30T11:36:11.391217",
     "status": "completed"
    },
    "tags": []
   },
   "outputs": [
    {
     "name": "stdout",
     "output_type": "stream",
     "text": [
      "20231030T123611 : amilcar22 : INFO : Inicio guardar resultados\n",
      "20231030T123611 : amilcar22 : INFO : Inicio guardar fichero ../tfm_git/ejecuciones/metricas/resultados_6191_mul_s-RF-LR_L1.csv\n",
      "20231030T123611 : amilcar22 : INFO : Fin guardar fichero ../tfm_git/ejecuciones/metricas/resultados_6191_mul_s-RF-LR_L1.csv\n",
      "20231030T123611 : amilcar22 : INFO : Fin guardar resultados\n"
     ]
    }
   ],
   "source": [
    "fichero_resultados=R_FICHERO+\"_\"+M_TIPO+\"-\"+M_SELECT+\"-\"+M_CLASIF+\".csv\"\n",
    "myfunc.save_resultados_to_csv(M_TIPO, M_SELECT, M_CLASIF,  random_search, myfunc.MET_DIR, fichero_resultados)\n"
   ]
  }
 ],
 "metadata": {
  "kernelspec": {
   "display_name": "Python 3 (ipykernel)",
   "language": "python",
   "name": "python3"
  },
  "language_info": {
   "codemirror_mode": {
    "name": "ipython",
    "version": 3
   },
   "file_extension": ".py",
   "mimetype": "text/x-python",
   "name": "python",
   "nbconvert_exporter": "python",
   "pygments_lexer": "ipython3",
   "version": "3.10.12"
  },
  "papermill": {
   "default_parameters": {},
   "duration": 529.776131,
   "end_time": "2023-10-30T11:36:14.029369",
   "environment_variables": {},
   "exception": null,
   "input_path": "03_entrenamiento.ipynb",
   "output_path": "ejecuciones/training/03_entrenamiento.20231030T122723.param_0000_6191_mul_s_RF_LR_L1.output.ipynb",
   "parameters": {
    "MAX_ITERS": 500,
    "M_CLASIF": "LR_L1",
    "M_FICHERO": "metricas_6191",
    "M_SELECT": "RF",
    "M_TIPO": "mul_s",
    "PRE_DATA_FILE": "rows_transpose_norm_by_gene_id_with_target_num_",
    "P_FICHERO": "param_0000_6191_mul_s_RF_LR_L1.yaml",
    "R_FICHERO": "resultados_6191",
    "SCORING": "roc_auc_ovr",
    "SEMILLA": 6191,
    "eval_clasifier": "LogisticRegressionCV(random_state=SEMILLA)",
    "eval_selector": "SelectFromModel(estimator=RandomForestClassifier(random_state=SEMILLA), threshold=-np.inf)",
    "param_distributions": {
     "clasifier__max_iter": [
      10000
     ],
     "clasifier__penalty": [
      "l1"
     ],
     "clasifier__solver": [
      "saga"
     ],
     "selector__estimator__n_estimators": [
      100
     ],
     "selector__max_features": [
      500
     ]
    }
   },
   "start_time": "2023-10-30T11:27:24.253238",
   "version": "2.4.0"
  }
 },
 "nbformat": 4,
 "nbformat_minor": 5
}