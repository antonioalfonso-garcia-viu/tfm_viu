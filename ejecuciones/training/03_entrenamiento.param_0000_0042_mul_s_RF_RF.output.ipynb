{
 "cells": [
  {
   "cell_type": "markdown",
   "id": "40ba6203",
   "metadata": {
    "papermill": {
     "duration": 0.00443,
     "end_time": "2023-10-27T23:23:56.975569",
     "exception": false,
     "start_time": "2023-10-27T23:23:56.971139",
     "status": "completed"
    },
    "tags": []
   },
   "source": [
    "##### Inicio"
   ]
  },
  {
   "cell_type": "markdown",
   "id": "0472512b",
   "metadata": {
    "papermill": {
     "duration": 0.003617,
     "end_time": "2023-10-27T23:23:56.983024",
     "exception": false,
     "start_time": "2023-10-27T23:23:56.979407",
     "status": "completed"
    },
    "tags": []
   },
   "source": [
    "#### Carga de datos"
   ]
  },
  {
   "cell_type": "code",
   "execution_count": 1,
   "id": "38f5ad3e",
   "metadata": {
    "execution": {
     "iopub.execute_input": "2023-10-27T23:23:56.991444Z",
     "iopub.status.busy": "2023-10-27T23:23:56.991196Z",
     "iopub.status.idle": "2023-10-27T23:23:57.864305Z",
     "shell.execute_reply": "2023-10-27T23:23:57.863726Z"
    },
    "papermill": {
     "duration": 0.878966,
     "end_time": "2023-10-27T23:23:57.865619",
     "exception": false,
     "start_time": "2023-10-27T23:23:56.986653",
     "status": "completed"
    },
    "tags": []
   },
   "outputs": [
    {
     "name": "stdout",
     "output_type": "stream",
     "text": [
      "CPU_COUNT: 8; NODE: amilcar22; sys.version: 3.10.12 (main, Jul  5 2023, 19:22:19) [GCC 11.2.0]\n",
      "LOKY_MAX_CPU_COUNT: 6\n",
      "OMP_NUM_THREADS: 2\n"
     ]
    }
   ],
   "source": [
    "import os\n",
    "import numpy as np\n",
    "import pandas as pd\n",
    "import datetime\n",
    "import sklearn\n",
    "import logging\n",
    "import warnings\n",
    "\n",
    "from sklearn.pipeline import Pipeline\n",
    "from sklearn.model_selection import RandomizedSearchCV, KFold, cross_val_score, train_test_split\n",
    "from sklearn.metrics import accuracy_score, confusion_matrix, classification_report, roc_auc_score\n",
    "\n",
    "#  cargar algoritmos para aprendizaje supervisado\n",
    "from sklearn.feature_selection import SelectKBest, f_classif, SelectFromModel, mutual_info_classif\n",
    "from sklearn.svm import SVC\n",
    "from sklearn.ensemble import RandomForestClassifier\n",
    "from sklearn.linear_model import LogisticRegression,LogisticRegressionCV\n",
    "\n",
    "# importar fichero con utilidades propias\n",
    "from commons import myfunctions as myfunc\n"
   ]
  },
  {
   "cell_type": "markdown",
   "id": "5742081e",
   "metadata": {
    "papermill": {
     "duration": 0.002709,
     "end_time": "2023-10-27T23:23:57.871449",
     "exception": false,
     "start_time": "2023-10-27T23:23:57.868740",
     "status": "completed"
    },
    "tags": []
   },
   "source": [
    "#### Parámetros a utilizar en el entrenamiento.\n",
    "\n",
    "Se indican los 3 algoritmos de *selección de características* (eval_selector_xxx) y los 3 algoritmos para la _clasificación_ (eval_clasifier_xxx)\n",
    "\n",
    "En *param_distributions* se indicar los parámetros que utilizan los algoritmos en la función RandomSearchCV.\n",
    "\n",
    "Esta celda tiene la etiqueta **parameters** que servirá para poder lanzar los entrenamientos con la utilidad **papermill** pasándole un fichero con los parámetros. Los nuevos parámetros se situarán tras esta celda para tener prevalencia."
   ]
  },
  {
   "cell_type": "code",
   "execution_count": 2,
   "id": "d1b64290",
   "metadata": {
    "execution": {
     "iopub.execute_input": "2023-10-27T23:23:57.877645Z",
     "iopub.status.busy": "2023-10-27T23:23:57.877363Z",
     "iopub.status.idle": "2023-10-27T23:23:57.884174Z",
     "shell.execute_reply": "2023-10-27T23:23:57.883673Z"
    },
    "papermill": {
     "duration": 0.011461,
     "end_time": "2023-10-27T23:23:57.885454",
     "exception": false,
     "start_time": "2023-10-27T23:23:57.873993",
     "status": "completed"
    },
    "tags": [
     "parameters"
    ]
   },
   "outputs": [
    {
     "name": "stdout",
     "output_type": "stream",
     "text": [
      "20231028T012357 : amilcar22 : INFO : Utilizando parámetros de mul_m\n"
     ]
    }
   ],
   "source": [
    "#  Parametros para el entrenamiento\n",
    "\n",
    "SEMILLA=        42\n",
    "M_TIPO=         \"mul_m\"\n",
    "M_SELECT=       \"MI\"\n",
    "M_CLASIF=       \"SVM\"\n",
    "R_FICHERO=      \"resultados\"\n",
    "M_FICHERO=      \"metricas\"\n",
    "PRE_DATA_FILE=  \"rows_transpose_norm_by_gene_id_with_target_num_\"\n",
    "SCORING=        \"roc_auc_ovr\" \n",
    "MAX_ITERS=      100\n",
    "\n",
    "def mutual_info_classif_state(X, y):\n",
    "    return mutual_info_classif(X, y, random_state=SEMILLA)\n",
    "\n",
    "eval_selector_mi = \"SelectKBest(score_func=mutual_info_classif_state)\"\n",
    "eval_selector_rf=  \"SelectFromModel(estimator=RandomForestClassifier(random_state=SEMILLA), threshold=-np.inf)\"\n",
    "eval_selector_anova=  \"SelectKBest(score_func=f_classif)\"\n",
    "\n",
    "eval_clasifier_svm= \"SVC(probability=True, random_state=SEMILLA)\"\n",
    "eval_clasifier_rf= \"RandomForestClassifier(random_state=SEMILLA)\"\n",
    "eval_clasifier_lr= \"LogisticRegressionCV(random_state=SEMILLA)\"\n",
    "\n",
    "if M_TIPO.startswith(\"bin_m\"):\n",
    "    myfunc.verbose(f\"Utilizando parámetros de {M_TIPO}\")\n",
    "    eval_selector = eval_selector_mi\n",
    "    eval_clasifier = eval_clasifier_svm\n",
    "\n",
    "    SEMILLA = 6578\n",
    "    M_SELECT = \"MI\"\n",
    "    M_CLASIF = \"SVM\"\n",
    "    param_distributions = {'selector__k': [1000], \n",
    "         'clasifier__kernel': ['rbf'], 'clasifier__gamma': [0.01], 'clasifier__C': [100]}\n",
    "elif M_TIPO.startswith(\"bin_s\"):\n",
    "    myfunc.verbose(f\"Utilizando parámetros de {M_TIPO}\")\n",
    "    eval_selector = eval_selector_rf\n",
    "    eval_clasifier = eval_clasifier_lr\n",
    "\n",
    "    SEMILLA = 6191\n",
    "    M_SELECT = \"RF\"\n",
    "    M_CLASIF = \"LR_L2\"\n",
    "    param_distributions = {'selector__max_features': [1000], 'selector__estimator__n_estimators': [200], \n",
    "        'clasifier__solver': ['lbfgs'], 'clasifier__penalty': ['l2'], 'clasifier__max_iter': [10000]}\n",
    "\n",
    "elif M_TIPO.startswith(\"mul_m\"):\n",
    "    myfunc.verbose(f\"Utilizando parámetros de {M_TIPO}\")\n",
    " \n",
    "    eval_selector = eval_selector_rf\n",
    "    eval_clasifier = eval_clasifier_lr\n",
    "\n",
    "    SEMILLA = 6191\n",
    "    M_SELECT = \"RF\"\n",
    "    M_CLASIF = \"LR_L2\"\n",
    "    param_distributions = {'selector__max_features': [1000], 'selector__estimator__n_estimators': [400], \n",
    "        'clasifier__solver': ['lbfgs'], 'clasifier__penalty': ['l2'], 'clasifier__max_iter': [10000]}\n",
    "\n",
    "else:\n",
    "    # M_TIPO.startswith(\"mul_s\"):\n",
    "    myfunc.verbose(f\"Utilizando parámetros de {M_TIPO}\")\n",
    "    eval_selector = eval_selector_anova\n",
    "    eval_clasifier = eval_clasifier_lr\n",
    "\n",
    "    SEMILLA = 1860\n",
    "    M_SELECT = \"ANOVA\"\n",
    "    M_CLASIF = \"LR_L2\"\n",
    "    param_distributions = {'selector__k': [1000], \n",
    "        'clasifier__solver': ['saga'], 'clasifier__penalty': ['l2'], 'clasifier__max_iter': [10000]}\n",
    "\n"
   ]
  },
  {
   "cell_type": "code",
   "execution_count": 3,
   "id": "42ad4946",
   "metadata": {
    "execution": {
     "iopub.execute_input": "2023-10-27T23:23:57.891737Z",
     "iopub.status.busy": "2023-10-27T23:23:57.891554Z",
     "iopub.status.idle": "2023-10-27T23:23:57.895184Z",
     "shell.execute_reply": "2023-10-27T23:23:57.894736Z"
    },
    "papermill": {
     "duration": 0.008097,
     "end_time": "2023-10-27T23:23:57.896344",
     "exception": false,
     "start_time": "2023-10-27T23:23:57.888247",
     "status": "completed"
    },
    "tags": [
     "injected-parameters"
    ]
   },
   "outputs": [],
   "source": [
    "# Parameters\n",
    "M_TIPO = \"mul_s\"\n",
    "M_SELECT = \"RF\"\n",
    "M_CLASIF = \"RF\"\n",
    "P_FICHERO = \"param_0000_0042_mul_s_RF_RF.yaml\"\n",
    "R_FICHERO = \"resultados_0042\"\n",
    "M_FICHERO = \"metricas_0042\"\n",
    "PRE_DATA_FILE = \"rows_transpose_norm_by_gene_id_with_target_num_\"\n",
    "SCORING = \"roc_auc_ovr\"\n",
    "SEMILLA = 42\n",
    "MAX_ITERS = 500\n",
    "eval_selector = \"SelectFromModel(estimator=RandomForestClassifier(random_state=SEMILLA), threshold=-np.inf)\"\n",
    "eval_clasifier = \"RandomForestClassifier(random_state=SEMILLA)\"\n",
    "param_distributions = {\n",
    "    \"selector__max_features\": [1000],\n",
    "    \"selector__estimator__n_estimators\": [100],\n",
    "    \"clasifier__n_estimators\": [200],\n",
    "    \"clasifier__min_samples_split\": [10],\n",
    "    \"clasifier__min_samples_leaf\": [5],\n",
    "    \"clasifier__max_features\": [1000],\n",
    "    \"clasifier__max_depth\": [10],\n",
    "    \"clasifier__bootstrap\": [True],\n",
    "}\n"
   ]
  },
  {
   "cell_type": "code",
   "execution_count": 4,
   "id": "4f19a327",
   "metadata": {
    "execution": {
     "iopub.execute_input": "2023-10-27T23:23:57.902361Z",
     "iopub.status.busy": "2023-10-27T23:23:57.902180Z",
     "iopub.status.idle": "2023-10-27T23:23:57.905206Z",
     "shell.execute_reply": "2023-10-27T23:23:57.904680Z"
    },
    "papermill": {
     "duration": 0.007495,
     "end_time": "2023-10-27T23:23:57.906459",
     "exception": false,
     "start_time": "2023-10-27T23:23:57.898964",
     "status": "completed"
    },
    "tags": []
   },
   "outputs": [],
   "source": [
    "DATA_FILE = PRE_DATA_FILE + M_TIPO\n",
    "\n",
    "# si viene \"None\" en el parámetro max_depth, se le quitan las comillas para que no sea entendido por el algoritmo como un texto\n",
    "if \"clasifier__max_depth\" in param_distributions:\n",
    "    param_distributions['clasifier__max_depth'] = [None if x == 'None' else x for x in param_distributions['clasifier__max_depth']]"
   ]
  },
  {
   "cell_type": "markdown",
   "id": "3ffa6d37",
   "metadata": {
    "papermill": {
     "duration": 0.002612,
     "end_time": "2023-10-27T23:23:57.911884",
     "exception": false,
     "start_time": "2023-10-27T23:23:57.909272",
     "status": "completed"
    },
    "tags": []
   },
   "source": [
    "Asignar los algoritmos que se utilizarán en la función RandomSearchCV"
   ]
  },
  {
   "cell_type": "code",
   "execution_count": 5,
   "id": "3ebe2448",
   "metadata": {
    "execution": {
     "iopub.execute_input": "2023-10-27T23:23:57.917931Z",
     "iopub.status.busy": "2023-10-27T23:23:57.917749Z",
     "iopub.status.idle": "2023-10-27T23:23:57.920436Z",
     "shell.execute_reply": "2023-10-27T23:23:57.919993Z"
    },
    "papermill": {
     "duration": 0.007065,
     "end_time": "2023-10-27T23:23:57.921616",
     "exception": false,
     "start_time": "2023-10-27T23:23:57.914551",
     "status": "completed"
    },
    "tags": []
   },
   "outputs": [],
   "source": [
    "algor_selector=eval(eval_selector)\n",
    "algor_clasifier=eval(eval_clasifier)"
   ]
  },
  {
   "cell_type": "markdown",
   "id": "b5f90cef",
   "metadata": {
    "papermill": {
     "duration": 0.002652,
     "end_time": "2023-10-27T23:23:57.927088",
     "exception": false,
     "start_time": "2023-10-27T23:23:57.924436",
     "status": "completed"
    },
    "tags": []
   },
   "source": [
    "#### Comprobar el entorno y leer fichero de muestras"
   ]
  },
  {
   "cell_type": "code",
   "execution_count": 6,
   "id": "b72d28d3",
   "metadata": {
    "execution": {
     "iopub.execute_input": "2023-10-27T23:23:57.933360Z",
     "iopub.status.busy": "2023-10-27T23:23:57.932938Z",
     "iopub.status.idle": "2023-10-27T23:23:58.058816Z",
     "shell.execute_reply": "2023-10-27T23:23:58.058225Z"
    },
    "papermill": {
     "duration": 0.13054,
     "end_time": "2023-10-27T23:23:58.060252",
     "exception": false,
     "start_time": "2023-10-27T23:23:57.929712",
     "status": "completed"
    },
    "tags": []
   },
   "outputs": [
    {
     "name": "stdout",
     "output_type": "stream",
     "text": [
      "20231028T012357 : amilcar22 : INFO : Encontrada carpeta DATA_DIR=../tfm_git/datos\n",
      "20231028T012357 : amilcar22 : INFO : Encontrada carpeta CFDNA_DIR=../tfm_git/datos/cfDNA_5hmC\n",
      "20231028T012357 : amilcar22 : INFO : Encontrada carpeta GENCODE_DIR=../tfm_git/datos/gencode\n",
      "20231028T012357 : amilcar22 : INFO : Encontrada carpeta H5_DIR=../tfm_git/datos/h5\n",
      "20231028T012357 : amilcar22 : INFO : Encontrada carpeta LOG_DIR=../tfm_git/datos/logs\n",
      "20231028T012357 : amilcar22 : INFO : Encontrada carpeta CSV_DIR=../tfm_git/datos/csv\n",
      "20231028T012357 : amilcar22 : INFO : Encontrada carpeta MODEL_DIR=../tfm_git/ejecuciones/modelos\n",
      "20231028T012357 : amilcar22 : INFO : Encontrada carpeta EXEC_DIR=../tfm_git/ejecuciones\n",
      "20231028T012357 : amilcar22 : INFO : Encontrada carpeta MET_DIR=../tfm_git/ejecuciones/metricas\n",
      "20231028T012357 : amilcar22 : INFO : Inicio leer fichero h5 ../tfm_git/datos/h5/rows_transpose_norm_by_gene_id_with_target_num_mul_s.h5\n",
      "20231028T012357 : amilcar22 : INFO : Leyendo clave /df\n",
      "20231028T012358 : amilcar22 : INFO : Tamaño (259, 18876)\n",
      "20231028T012358 : amilcar22 : INFO : Fin leer fichero h5 ../tfm_git/datos/h5/rows_transpose_norm_by_gene_id_with_target_num_mul_s.h5\n"
     ]
    },
    {
     "data": {
      "text/plain": [
       "target\n",
       "0    37\n",
       "1    37\n",
       "2    37\n",
       "3    37\n",
       "4    37\n",
       "5    37\n",
       "6    37\n",
       "dtype: int64"
      ]
     },
     "metadata": {},
     "output_type": "display_data"
    },
    {
     "name": "stdout",
     "output_type": "stream",
     "text": [
      "Shape df: (259, 18876)\n",
      "Shape X_train: (207, 18875)\n",
      "Shape X_test: (52, 18875)\n"
     ]
    }
   ],
   "source": [
    "start_time = datetime.datetime.now()\n",
    "\n",
    "myfunc.reset_vars()\n",
    "\n",
    "myfunc.NOTEBK_FILENAME = myfunc.get_nb_name()\n",
    "\n",
    "myfunc.check_enviroment(myfunc.DATA_DIR, myfunc.CFDNA_DIR, myfunc.GENCODE_DIR, myfunc.H5_DIR, myfunc.LOG_DIR, myfunc.CSV_DIR, myfunc.MODEL_DIR, myfunc.EXEC_DIR, myfunc.MET_DIR)\n",
    "\n",
    "# Leer fichero con las muestras\n",
    "df_t = myfunc.read_h5_to_df(DATA_FILE, myfunc.H5_DIR)\n",
    "display(df_t.groupby(\"target\").size())\n",
    "print(\"Shape df:\",df_t.shape)\n",
    "\n",
    "# Separar caracteristicas/genes de las etiquetas/tipos de cáncer\n",
    "X = df_t.iloc[:, :-1]  # Todas las columnas excepto la última\n",
    "y = df_t.iloc[:, -1]  # La última columna contiene los identificadores de los tipos de cáncer\n",
    "\n",
    "#  Crear el conjunto de datos de entrenamiento y de pruebas\n",
    "X_train, X_test, y_train, y_test = train_test_split(X, y, test_size=0.2, shuffle=True, random_state=SEMILLA)\n",
    "print(\"Shape X_train:\",X_train.shape)\n",
    "print(\"Shape X_test:\",X_test.shape)\n"
   ]
  },
  {
   "cell_type": "markdown",
   "id": "a792d220",
   "metadata": {
    "papermill": {
     "duration": 0.002817,
     "end_time": "2023-10-27T23:23:58.066512",
     "exception": false,
     "start_time": "2023-10-27T23:23:58.063695",
     "status": "completed"
    },
    "tags": []
   },
   "source": [
    "#### Selección de características y clasificación."
   ]
  },
  {
   "cell_type": "code",
   "execution_count": 7,
   "id": "efac2bb1",
   "metadata": {
    "execution": {
     "iopub.execute_input": "2023-10-27T23:23:58.073041Z",
     "iopub.status.busy": "2023-10-27T23:23:58.072838Z",
     "iopub.status.idle": "2023-10-27T23:24:21.715569Z",
     "shell.execute_reply": "2023-10-27T23:24:21.714917Z"
    },
    "papermill": {
     "duration": 23.647669,
     "end_time": "2023-10-27T23:24:21.716981",
     "exception": false,
     "start_time": "2023-10-27T23:23:58.069312",
     "status": "completed"
    },
    "tags": []
   },
   "outputs": [
    {
     "name": "stdout",
     "output_type": "stream",
     "text": [
      "20231028T012358 : amilcar22 : INFO : Iniciando entrenamiento\n",
      "num_iter: 1 , max_iter: 1\n"
     ]
    },
    {
     "name": "stdout",
     "output_type": "stream",
     "text": [
      "Fitting 5 folds for each of 1 candidates, totalling 5 fits\n"
     ]
    },
    {
     "name": "stdout",
     "output_type": "stream",
     "text": [
      "Mejores Hiperparámetros: {'selector__max_features': 1000, 'selector__estimator__n_estimators': 100, 'clasifier__n_estimators': 200, 'clasifier__min_samples_split': 10, 'clasifier__min_samples_leaf': 5, 'clasifier__max_features': 1000, 'clasifier__max_depth': 10, 'clasifier__bootstrap': True}\n",
      "Mejor Puntuación: 0.7740\n",
      "20231028T012421 : amilcar22 : INFO : Fin entrenamiento\n"
     ]
    }
   ],
   "source": [
    "myfunc.verbose(\"Iniciando entrenamiento\")\n",
    "\n",
    "kf = KFold(n_splits=5, shuffle=True, random_state=SEMILLA)\n",
    "\n",
    "# Crear el pipeline para el flujo de tareas\n",
    "tasks_pipeline = Pipeline([\n",
    "    ('selector', algor_selector),\n",
    "    ('clasifier', algor_clasifier)\n",
    "])\n",
    "\n",
    "# MAX_ITERS puede limitar el número de iteraciones si son excesivas para las combinaciones de parámetros buscando un óptimo local, \n",
    "# sino funcionaría como GridSearchCV al revisar todas las cominaciones de los parámetros\n",
    "num_iteraciones = 1\n",
    "num_iteraciones = num_iteraciones * np.prod([len(elemento1) for _, elemento1 in param_distributions.items()])\n",
    "max_iteraciones = num_iteraciones if num_iteraciones <= MAX_ITERS else MAX_ITERS\n",
    "print(\"num_iter:\",num_iteraciones,\", max_iter:\",max_iteraciones)\n",
    "\n",
    "random_search = RandomizedSearchCV(\n",
    "    tasks_pipeline, \n",
    "    param_distributions, \n",
    "    n_iter=max_iteraciones,\n",
    "    scoring=SCORING,\n",
    "    cv=kf,\n",
    "    verbose=3, \n",
    "    random_state=SEMILLA, \n",
    "    n_jobs=-1\n",
    "    )\n",
    "\n",
    "# Entrenar el modelo\n",
    "random_search.fit(X_train, y_train)\n",
    "\n",
    "# Ver los mejores hiperparámetros encontrados\n",
    "print(f'Mejores Hiperparámetros: {random_search.best_params_}')\n",
    "print(f'Mejor Puntuación: {random_search.best_score_:.4f}')\n",
    "\n",
    "# Nos quedamos con el mejor modelo para ver las métricas\n",
    "mejor_modelo = random_search.best_estimator_\n",
    "\n",
    "myfunc.verbose(\"Fin entrenamiento\")"
   ]
  },
  {
   "cell_type": "markdown",
   "id": "b4050fc5",
   "metadata": {
    "papermill": {
     "duration": 0.00297,
     "end_time": "2023-10-27T23:24:21.723743",
     "exception": false,
     "start_time": "2023-10-27T23:24:21.720773",
     "status": "completed"
    },
    "tags": []
   },
   "source": [
    "#### Guardar modelo"
   ]
  },
  {
   "cell_type": "code",
   "execution_count": 8,
   "id": "3c18a2bc",
   "metadata": {
    "execution": {
     "iopub.execute_input": "2023-10-27T23:24:21.730604Z",
     "iopub.status.busy": "2023-10-27T23:24:21.730378Z",
     "iopub.status.idle": "2023-10-27T23:24:21.830894Z",
     "shell.execute_reply": "2023-10-27T23:24:21.830293Z"
    },
    "papermill": {
     "duration": 0.105504,
     "end_time": "2023-10-27T23:24:21.832170",
     "exception": false,
     "start_time": "2023-10-27T23:24:21.726666",
     "status": "completed"
    },
    "tags": []
   },
   "outputs": [
    {
     "name": "stdout",
     "output_type": "stream",
     "text": [
      "20231028T012421 : amilcar22 : INFO : Inicio guardar fichero ../tfm_git/ejecuciones/modelos/modelo_0042_mul_s_RF_RF.pkl\n",
      "20231028T012421 : amilcar22 : INFO : Fin guardar fichero ../tfm_git/ejecuciones/modelos/modelo_0042_mul_s_RF_RF.pkl\n"
     ]
    }
   ],
   "source": [
    "fichero_modelo = str.replace(\"modelo_\"+str(SEMILLA).zfill(4)+\"_\"+M_TIPO+\"_\"+M_SELECT+\"_\"+M_CLASIF+\".pkl\", \" \", \"_\")\n",
    "\n",
    "myfunc.save_modelo(mejor_modelo, myfunc.MODEL_DIR, fichero_modelo)"
   ]
  },
  {
   "cell_type": "markdown",
   "id": "940fd7d9",
   "metadata": {
    "papermill": {
     "duration": 0.003083,
     "end_time": "2023-10-27T23:24:21.838608",
     "exception": false,
     "start_time": "2023-10-27T23:24:21.835525",
     "status": "completed"
    },
    "tags": []
   },
   "source": [
    "#### Ver resultados del las iteraciones hechas por RandomSearchCV"
   ]
  },
  {
   "cell_type": "code",
   "execution_count": 9,
   "id": "741fd1ac",
   "metadata": {
    "execution": {
     "iopub.execute_input": "2023-10-27T23:24:21.845473Z",
     "iopub.status.busy": "2023-10-27T23:24:21.845266Z",
     "iopub.status.idle": "2023-10-27T23:24:21.851116Z",
     "shell.execute_reply": "2023-10-27T23:24:21.850624Z"
    },
    "papermill": {
     "duration": 0.010677,
     "end_time": "2023-10-27T23:24:21.852264",
     "exception": false,
     "start_time": "2023-10-27T23:24:21.841587",
     "status": "completed"
    },
    "tags": []
   },
   "outputs": [
    {
     "name": "stdout",
     "output_type": "stream",
     "text": [
      "20231028T012421 : amilcar22 : INFO : Inicio ver resultados\n",
      "Mejores Hiperparámetros: {'selector__max_features': 1000, 'selector__estimator__n_estimators': 100, 'clasifier__n_estimators': 200, 'clasifier__min_samples_split': 10, 'clasifier__min_samples_leaf': 5, 'clasifier__max_features': 1000, 'clasifier__max_depth': 10, 'clasifier__bootstrap': True}\n",
      "Mejores puntuaciones: 0.7740 | Params: {'selector__max_features': 1000, 'selector__estimator__n_estimators': 100, 'clasifier__n_estimators': 200, 'clasifier__min_samples_split': 10, 'clasifier__min_samples_leaf': 5, 'clasifier__max_features': 1000, 'clasifier__max_depth': 10, 'clasifier__bootstrap': True}\n",
      "Media de las puntuaciones: 0.7740 | Params: {'selector__max_features': 1000, 'selector__estimator__n_estimators': 100, 'clasifier__n_estimators': 200, 'clasifier__min_samples_split': 10, 'clasifier__min_samples_leaf': 5, 'clasifier__max_features': 1000, 'clasifier__max_depth': 10, 'clasifier__bootstrap': True}\n",
      "20231028T012421 : amilcar22 : INFO : Fin resultados\n"
     ]
    }
   ],
   "source": [
    "myfunc.ver_resultados_search(random_search)"
   ]
  },
  {
   "cell_type": "markdown",
   "id": "aad157a1",
   "metadata": {
    "papermill": {
     "duration": 0.003104,
     "end_time": "2023-10-27T23:24:21.858451",
     "exception": false,
     "start_time": "2023-10-27T23:24:21.855347",
     "status": "completed"
    },
    "tags": []
   },
   "source": [
    "#### Ver métricas del mejor modelo"
   ]
  },
  {
   "cell_type": "code",
   "execution_count": 10,
   "id": "9f9c5e07",
   "metadata": {
    "execution": {
     "iopub.execute_input": "2023-10-27T23:24:21.865316Z",
     "iopub.status.busy": "2023-10-27T23:24:21.865149Z",
     "iopub.status.idle": "2023-10-27T23:24:22.557449Z",
     "shell.execute_reply": "2023-10-27T23:24:22.557000Z"
    },
    "papermill": {
     "duration": 0.69724,
     "end_time": "2023-10-27T23:24:22.558776",
     "exception": false,
     "start_time": "2023-10-27T23:24:21.861536",
     "status": "completed"
    },
    "tags": []
   },
   "outputs": [
    {
     "name": "stdout",
     "output_type": "stream",
     "text": [
      "20231028T012421 : amilcar22 : INFO : Inicio ver métricas multiclase\n"
     ]
    },
    {
     "name": "stdout",
     "output_type": "stream",
     "text": [
      "              precision    recall  f1-score   support\n",
      "\n",
      "           0       0.50      0.09      0.15        11\n",
      "           1       0.57      0.50      0.53         8\n",
      "           2       0.57      0.50      0.53         8\n",
      "           3       0.00      0.00      0.00         5\n",
      "           4       0.70      0.88      0.78         8\n",
      "           5       0.38      0.50      0.43         6\n",
      "           6       0.40      0.67      0.50         6\n",
      "\n",
      "    accuracy                           0.44        52\n",
      "   macro avg       0.45      0.45      0.42        52\n",
      "weighted avg       0.48      0.44      0.42        52\n",
      "\n",
      "\n",
      "\n",
      "           Exactitud: 0.442308\n",
      "   Precisión (media): 0.445408\n",
      "      Recall (media): 0.447511\n",
      "    F1-score (media): 0.418123\n",
      "\n",
      "\n",
      "AUC para el tipo de cáncer 0-Control.... 0.4789\n",
      "AUC para el tipo de cáncer 1-Bladder.... 0.8239\n",
      "AUC para el tipo de cáncer 2-Breast..... 0.7358\n",
      "AUC para el tipo de cáncer 3-Colorectal. 0.7745\n",
      "AUC para el tipo de cáncer 4-Kidney..... 0.9545\n",
      "AUC para el tipo de cáncer 5-Lung....... 0.7826\n",
      "AUC para el tipo de cáncer 6-Prostate... 0.8080\n",
      "\n",
      "Media de AUC: 0.7655\n"
     ]
    },
    {
     "data": {
      "image/png": "[encoded data removed]",
      "text/plain": [
       "<Figure size 1000x600 with 1 Axes>"
      ]
     },
     "metadata": {},
     "output_type": "display_data"
    },
    {
     "name": "stdout",
     "output_type": "stream",
     "text": [
      "\n",
      "\n"
     ]
    },
    {
     "data": {
      "image/png": "[encoded data removed]",
      "text/plain": [
       "<Figure size 800x400 with 2 Axes>"
      ]
     },
     "metadata": {},
     "output_type": "display_data"
    },
    {
     "name": "stdout",
     "output_type": "stream",
     "text": [
      "\n",
      "\n",
      "Puntuación Jaccard para el cáncer tipo 0-Control.... 0.0833\n",
      "Puntuación Jaccard para el cáncer tipo 1-Bladder.... 0.3636\n",
      "Puntuación Jaccard para el cáncer tipo 2-Breast..... 0.3636\n",
      "Puntuación Jaccard para el cáncer tipo 3-Colorectal. 0.0000\n",
      "Puntuación Jaccard para el cáncer tipo 4-Kidney..... 0.6364\n",
      "Puntuación Jaccard para el cáncer tipo 5-Lung....... 0.2727\n",
      "Puntuación Jaccard para el cáncer tipo 6-Prostate... 0.3333\n",
      "\n",
      "Media de la puntuación de Jaccard: 0.2933\n"
     ]
    }
   ],
   "source": [
    "if M_TIPO.startswith(\"bin\"):\n",
    "    myfunc.ver_metricas(mejor_modelo, X_test, y_test)\n",
    "else:\n",
    "    myfunc.ver_metricas_multi(mejor_modelo, X_test, y_test)\n"
   ]
  },
  {
   "cell_type": "markdown",
   "id": "b6a60d56",
   "metadata": {
    "papermill": {
     "duration": 0.004189,
     "end_time": "2023-10-27T23:24:22.567672",
     "exception": false,
     "start_time": "2023-10-27T23:24:22.563483",
     "status": "completed"
    },
    "tags": []
   },
   "source": [
    "#### Finalización del notebook"
   ]
  },
  {
   "cell_type": "code",
   "execution_count": 11,
   "id": "e6b27211",
   "metadata": {
    "execution": {
     "iopub.execute_input": "2023-10-27T23:24:22.576948Z",
     "iopub.status.busy": "2023-10-27T23:24:22.576737Z",
     "iopub.status.idle": "2023-10-27T23:24:22.579972Z",
     "shell.execute_reply": "2023-10-27T23:24:22.579545Z"
    },
    "papermill": {
     "duration": 0.00932,
     "end_time": "2023-10-27T23:24:22.581211",
     "exception": false,
     "start_time": "2023-10-27T23:24:22.571891",
     "status": "completed"
    },
    "tags": []
   },
   "outputs": [
    {
     "name": "stdout",
     "output_type": "stream",
     "text": [
      "20231028T012422 : amilcar22 : INFO : Notebook ha tardado 24 seconds\n"
     ]
    }
   ],
   "source": [
    "end_time = datetime.datetime.now()\n",
    "total_time = end_time - start_time\n",
    "myfunc.verbose(f\"Notebook ha tardado {total_time.seconds} seconds\")"
   ]
  },
  {
   "cell_type": "markdown",
   "id": "44646f76",
   "metadata": {
    "papermill": {
     "duration": 0.004139,
     "end_time": "2023-10-27T23:24:22.589741",
     "exception": false,
     "start_time": "2023-10-27T23:24:22.585602",
     "status": "completed"
    },
    "tags": []
   },
   "source": [
    "#### Guardar métricas"
   ]
  },
  {
   "cell_type": "code",
   "execution_count": 12,
   "id": "9e35131a",
   "metadata": {
    "execution": {
     "iopub.execute_input": "2023-10-27T23:24:22.598787Z",
     "iopub.status.busy": "2023-10-27T23:24:22.598623Z",
     "iopub.status.idle": "2023-10-27T23:24:22.943572Z",
     "shell.execute_reply": "2023-10-27T23:24:22.943051Z"
    },
    "papermill": {
     "duration": 0.35107,
     "end_time": "2023-10-27T23:24:22.944999",
     "exception": false,
     "start_time": "2023-10-27T23:24:22.593929",
     "status": "completed"
    },
    "tags": []
   },
   "outputs": [
    {
     "name": "stdout",
     "output_type": "stream",
     "text": [
      "20231028T012422 : amilcar22 : INFO : Inicio guardar métricas multiclase\n",
      "20231028T012422 : amilcar22 : INFO : Inicio leer fichero ../tfm_git/ejecuciones/metricas/metricas_0042.csv\n",
      "20231028T012422 : amilcar22 : INFO : Fin leer fichero ../tfm_git/ejecuciones/metricas/metricas_0042.csv\n"
     ]
    },
    {
     "name": "stdout",
     "output_type": "stream",
     "text": [
      "20231028T012422 : amilcar22 : INFO : Inicio guardar fichero ../tfm_git/ejecuciones/metricas/metricas_0042.csv\n",
      "20231028T012422 : amilcar22 : INFO : Fichero borrado ../tfm_git/ejecuciones/metricas/metricas_0042.csv\n",
      "20231028T012422 : amilcar22 : INFO : Fin guardar fichero ../tfm_git/ejecuciones/metricas/metricas_0042.csv\n",
      "20231028T012422 : amilcar22 : INFO : Fin guardar métricas multiclase\n",
      "20231028T012422 : amilcar22 : INFO : Inicio leer fichero ../tfm_git/ejecuciones/metricas/metricas_0042.csv\n",
      "20231028T012422 : amilcar22 : INFO : Fin leer fichero ../tfm_git/ejecuciones/metricas/metricas_0042.csv\n"
     ]
    },
    {
     "data": {
      "text/html": [
       "<div>\n",
       "<style scoped>\n",
       "    .dataframe tbody tr th:only-of-type {\n",
       "        vertical-align: middle;\n",
       "    }\n",
       "\n",
       "    .dataframe tbody tr th {\n",
       "        vertical-align: top;\n",
       "    }\n",
       "\n",
       "    .dataframe thead th {\n",
       "        text-align: right;\n",
       "    }\n",
       "</style>\n",
       "<table border=\"1\" class=\"dataframe\">\n",
       "  <thead>\n",
       "    <tr style=\"text-align: right;\">\n",
       "      <th></th>\n",
       "      <th>tipo</th>\n",
       "      <th>select</th>\n",
       "      <th>clasific</th>\n",
       "      <th>accuracy</th>\n",
       "      <th>precision</th>\n",
       "      <th>recall</th>\n",
       "      <th>f1_score</th>\n",
       "      <th>roc_auc</th>\n",
       "      <th>roc_auc_ovr</th>\n",
       "      <th>hostname</th>\n",
       "      <th>total_time_sec</th>\n",
       "      <th>datetime</th>\n",
       "      <th>fichero_modelo</th>\n",
       "      <th>params</th>\n",
       "      <th>shape</th>\n",
       "      <th>features</th>\n",
       "      <th>semilla</th>\n",
       "      <th>indices_auc</th>\n",
       "      <th>indices_jaccard</th>\n",
       "    </tr>\n",
       "  </thead>\n",
       "  <tbody>\n",
       "    <tr>\n",
       "      <th>0</th>\n",
       "      <td>mul_s</td>\n",
       "      <td>RF</td>\n",
       "      <td>RF</td>\n",
       "      <td>0.442308</td>\n",
       "      <td>0.445408</td>\n",
       "      <td>0.447511</td>\n",
       "      <td>0.418123</td>\n",
       "      <td>NaN</td>\n",
       "      <td>0.765455</td>\n",
       "      <td>amilcar22</td>\n",
       "      <td>24</td>\n",
       "      <td>2023-10-28 01:24:22.892897</td>\n",
       "      <td>modelo_0042_mul_s_RF_RF.pkl</td>\n",
       "      <td>{'selector__max_features': 1000, 'selector__es...</td>\n",
       "      <td>X_test:(52, 18875)</td>\n",
       "      <td>['ENSG00000000938.13', 'ENSG00000001460.18', '...</td>\n",
       "      <td>42.0</td>\n",
       "      <td>[0.4789356984478936, 0.8238636363636365, 0.735...</td>\n",
       "      <td>[0.08333333333333333, 0.36363636363636365, 0.3...</td>\n",
       "    </tr>\n",
       "    <tr>\n",
       "      <th>0</th>\n",
       "      <td>mul_s</td>\n",
       "      <td>RF</td>\n",
       "      <td>LR_L2</td>\n",
       "      <td>0.461538</td>\n",
       "      <td>0.479592</td>\n",
       "      <td>0.461472</td>\n",
       "      <td>0.455955</td>\n",
       "      <td>NaN</td>\n",
       "      <td>0.822704</td>\n",
       "      <td>amilcar22</td>\n",
       "      <td>17</td>\n",
       "      <td>2023-10-28 01:23:51.825485</td>\n",
       "      <td>modelo_0042_mul_s_RF_LR_L2.pkl</td>\n",
       "      <td>{'selector__max_features': 500, 'selector__est...</td>\n",
       "      <td>X_test:(52, 18875)</td>\n",
       "      <td>['ENSG00000002587.10', 'ENSG00000002919.15', '...</td>\n",
       "      <td>42.0</td>\n",
       "      <td>[0.7450110864745011, 0.8238636363636364, 0.752...</td>\n",
       "      <td>[0.26666666666666666, 0.5, 0.07692307692307693...</td>\n",
       "    </tr>\n",
       "    <tr>\n",
       "      <th>0</th>\n",
       "      <td>mul_s</td>\n",
       "      <td>RF</td>\n",
       "      <td>LR_L1</td>\n",
       "      <td>0.442308</td>\n",
       "      <td>0.503989</td>\n",
       "      <td>0.454329</td>\n",
       "      <td>0.453483</td>\n",
       "      <td>NaN</td>\n",
       "      <td>0.793476</td>\n",
       "      <td>amilcar22</td>\n",
       "      <td>540</td>\n",
       "      <td>2023-10-28 01:23:27.936872</td>\n",
       "      <td>modelo_0042_mul_s_RF_LR_L1.pkl</td>\n",
       "      <td>{'selector__max_features': 500, 'selector__est...</td>\n",
       "      <td>X_test:(52, 18875)</td>\n",
       "      <td>['ENSG00000000938.13', 'ENSG00000002587.10', '...</td>\n",
       "      <td>42.0</td>\n",
       "      <td>[0.5875831485587584, 0.7386363636363636, 0.696...</td>\n",
       "      <td>[0.2222222222222222, 0.4, 0.08333333333333333,...</td>\n",
       "    </tr>\n",
       "  </tbody>\n",
       "</table>\n",
       "</div>"
      ],
      "text/plain": [
       "    tipo select clasific  accuracy  precision    recall  f1_score  roc_auc  \\\n",
       "0  mul_s     RF       RF  0.442308   0.445408  0.447511  0.418123      NaN   \n",
       "0  mul_s     RF    LR_L2  0.461538   0.479592  0.461472  0.455955      NaN   \n",
       "0  mul_s     RF    LR_L1  0.442308   0.503989  0.454329  0.453483      NaN   \n",
       "\n",
       "   roc_auc_ovr   hostname  total_time_sec                    datetime  \\\n",
       "0     0.765455  amilcar22              24  2023-10-28 01:24:22.892897   \n",
       "0     0.822704  amilcar22              17  2023-10-28 01:23:51.825485   \n",
       "0     0.793476  amilcar22             540  2023-10-28 01:23:27.936872   \n",
       "\n",
       "                   fichero_modelo  \\\n",
       "0     modelo_0042_mul_s_RF_RF.pkl   \n",
       "0  modelo_0042_mul_s_RF_LR_L2.pkl   \n",
       "0  modelo_0042_mul_s_RF_LR_L1.pkl   \n",
       "\n",
       "                                              params               shape  \\\n",
       "0  {'selector__max_features': 1000, 'selector__es...  X_test:(52, 18875)   \n",
       "0  {'selector__max_features': 500, 'selector__est...  X_test:(52, 18875)   \n",
       "0  {'selector__max_features': 500, 'selector__est...  X_test:(52, 18875)   \n",
       "\n",
       "                                            features  semilla  \\\n",
       "0  ['ENSG00000000938.13', 'ENSG00000001460.18', '...     42.0   \n",
       "0  ['ENSG00000002587.10', 'ENSG00000002919.15', '...     42.0   \n",
       "0  ['ENSG00000000938.13', 'ENSG00000002587.10', '...     42.0   \n",
       "\n",
       "                                         indices_auc  \\\n",
       "0  [0.4789356984478936, 0.8238636363636365, 0.735...   \n",
       "0  [0.7450110864745011, 0.8238636363636364, 0.752...   \n",
       "0  [0.5875831485587584, 0.7386363636363636, 0.696...   \n",
       "\n",
       "                                     indices_jaccard  \n",
       "0  [0.08333333333333333, 0.36363636363636365, 0.3...  \n",
       "0  [0.26666666666666666, 0.5, 0.07692307692307693...  \n",
       "0  [0.2222222222222222, 0.4, 0.08333333333333333,...  "
      ]
     },
     "metadata": {},
     "output_type": "display_data"
    }
   ],
   "source": [
    "if M_TIPO.startswith(\"bin\"):\n",
    "    myfunc.save_metricas_to_csv(random_search, X_test, y_test, M_TIPO, M_SELECT, M_CLASIF, total_time, SEMILLA, myfunc.MET_DIR, M_FICHERO, fichero_modelo)\n",
    "else:\n",
    "    myfunc.save_metricas_multi_to_csv(random_search, X_test, y_test, M_TIPO, M_SELECT, M_CLASIF, total_time, SEMILLA, myfunc.MET_DIR, M_FICHERO, fichero_modelo)\n",
    "\n",
    "df1=myfunc.read_metricas_to_df(myfunc.MET_DIR,M_FICHERO)\n",
    "\n",
    "display(df1.sort_values(\"datetime\", ascending=False)[:3])\n"
   ]
  },
  {
   "cell_type": "markdown",
   "id": "f540bb2c",
   "metadata": {
    "papermill": {
     "duration": 0.004496,
     "end_time": "2023-10-27T23:24:22.954636",
     "exception": false,
     "start_time": "2023-10-27T23:24:22.950140",
     "status": "completed"
    },
    "tags": []
   },
   "source": [
    "#### Guardar resultados"
   ]
  },
  {
   "cell_type": "code",
   "execution_count": 13,
   "id": "3d391ef7",
   "metadata": {
    "execution": {
     "iopub.execute_input": "2023-10-27T23:24:22.964385Z",
     "iopub.status.busy": "2023-10-27T23:24:22.964177Z",
     "iopub.status.idle": "2023-10-27T23:24:22.972897Z",
     "shell.execute_reply": "2023-10-27T23:24:22.972313Z"
    },
    "papermill": {
     "duration": 0.015075,
     "end_time": "2023-10-27T23:24:22.974151",
     "exception": false,
     "start_time": "2023-10-27T23:24:22.959076",
     "status": "completed"
    },
    "tags": []
   },
   "outputs": [
    {
     "name": "stdout",
     "output_type": "stream",
     "text": [
      "20231028T012422 : amilcar22 : INFO : Inicio guardar resultados\n",
      "20231028T012422 : amilcar22 : INFO : Inicio guardar fichero ../tfm_git/ejecuciones/metricas/resultados_0042_mul_s-RF-RF.csv\n",
      "20231028T012422 : amilcar22 : INFO : Fin guardar fichero ../tfm_git/ejecuciones/metricas/resultados_0042_mul_s-RF-RF.csv\n",
      "20231028T012422 : amilcar22 : INFO : Fin guardar resultados\n"
     ]
    }
   ],
   "source": [
    "fichero_resultados=R_FICHERO+\"_\"+M_TIPO+\"-\"+M_SELECT+\"-\"+M_CLASIF+\".csv\"\n",
    "myfunc.save_resultados_to_csv(M_TIPO, M_SELECT, M_CLASIF,  random_search, myfunc.MET_DIR, fichero_resultados)\n"
   ]
  }
 ],
 "metadata": {
  "kernelspec": {
   "display_name": "Python 3 (ipykernel)",
   "language": "python",
   "name": "python3"
  },
  "language_info": {
   "codemirror_mode": {
    "name": "ipython",
    "version": 3
   },
   "file_extension": ".py",
   "mimetype": "text/x-python",
   "name": "python",
   "nbconvert_exporter": "python",
   "pygments_lexer": "ipython3",
   "version": "3.10.12"
  },
  "papermill": {
   "default_parameters": {},
   "duration": 29.548663,
   "end_time": "2023-10-27T23:24:25.596300",
   "environment_variables": {},
   "exception": null,
   "input_path": "03_entrenamiento.ipynb",
   "output_path": "ejecuciones/training/03_entrenamiento.20231028T012355.param_0000_0042_mul_s_RF_RF.output.ipynb",
   "parameters": {
    "MAX_ITERS": 500,
    "M_CLASIF": "RF",
    "M_FICHERO": "metricas_0042",
    "M_SELECT": "RF",
    "M_TIPO": "mul_s",
    "PRE_DATA_FILE": "rows_transpose_norm_by_gene_id_with_target_num_",
    "P_FICHERO": "param_0000_0042_mul_s_RF_RF.yaml",
    "R_FICHERO": "resultados_0042",
    "SCORING": "roc_auc_ovr",
    "SEMILLA": 42,
    "eval_clasifier": "RandomForestClassifier(random_state=SEMILLA)",
    "eval_selector": "SelectFromModel(estimator=RandomForestClassifier(random_state=SEMILLA), threshold=-np.inf)",
    "param_distributions": {
     "clasifier__bootstrap": [
      true
     ],
     "clasifier__max_depth": [
      10
     ],
     "clasifier__max_features": [
      1000
     ],
     "clasifier__min_samples_leaf": [
      5
     ],
     "clasifier__min_samples_split": [
      10
     ],
     "clasifier__n_estimators": [
      200
     ],
     "selector__estimator__n_estimators": [
      100
     ],
     "selector__max_features": [
      1000
     ]
    }
   },
   "start_time": "2023-10-27T23:23:56.047637",
   "version": "2.4.0"
  }
 },
 "nbformat": 4,
 "nbformat_minor": 5
}