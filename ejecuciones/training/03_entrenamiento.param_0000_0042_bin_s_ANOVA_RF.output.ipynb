{
 "cells": [
  {
   "cell_type": "markdown",
   "id": "8c69b0f9",
   "metadata": {
    "papermill": {
     "duration": 0.003311,
     "end_time": "2023-10-27T17:27:27.001119",
     "exception": false,
     "start_time": "2023-10-27T17:27:26.997808",
     "status": "completed"
    },
    "tags": []
   },
   "source": [
    "##### Inicio"
   ]
  },
  {
   "cell_type": "markdown",
   "id": "c62a26f5",
   "metadata": {
    "papermill": {
     "duration": 0.002631,
     "end_time": "2023-10-27T17:27:27.006283",
     "exception": false,
     "start_time": "2023-10-27T17:27:27.003652",
     "status": "completed"
    },
    "tags": []
   },
   "source": [
    "#### Carga de datos"
   ]
  },
  {
   "cell_type": "code",
   "execution_count": 1,
   "id": "6817a3ca",
   "metadata": {
    "execution": {
     "iopub.execute_input": "2023-10-27T17:27:27.012805Z",
     "iopub.status.busy": "2023-10-27T17:27:27.012559Z",
     "iopub.status.idle": "2023-10-27T17:27:27.882251Z",
     "shell.execute_reply": "2023-10-27T17:27:27.881617Z"
    },
    "papermill": {
     "duration": 0.874585,
     "end_time": "2023-10-27T17:27:27.883578",
     "exception": false,
     "start_time": "2023-10-27T17:27:27.008993",
     "status": "completed"
    },
    "tags": []
   },
   "outputs": [
    {
     "name": "stdout",
     "output_type": "stream",
     "text": [
      "CPU_COUNT: 8; NODE: amilcar22; sys.version: 3.10.12 (main, Jul  5 2023, 19:22:19) [GCC 11.2.0]\n",
      "LOKY_MAX_CPU_COUNT: 6\n",
      "OMP_NUM_THREADS: 2\n"
     ]
    }
   ],
   "source": [
    "import os\n",
    "import numpy as np\n",
    "import pandas as pd\n",
    "import datetime\n",
    "import sklearn\n",
    "import logging\n",
    "import warnings\n",
    "\n",
    "from sklearn.pipeline import Pipeline\n",
    "from sklearn.model_selection import RandomizedSearchCV, KFold, cross_val_score, train_test_split\n",
    "from sklearn.metrics import accuracy_score, confusion_matrix, classification_report, roc_auc_score\n",
    "\n",
    "#  cargar algoritmos para aprendizaje supervisado\n",
    "from sklearn.feature_selection import SelectKBest, f_classif, SelectFromModel, mutual_info_classif\n",
    "from sklearn.svm import SVC\n",
    "from sklearn.ensemble import RandomForestClassifier\n",
    "from sklearn.linear_model import LogisticRegression,LogisticRegressionCV\n",
    "\n",
    "# importar fichero con utilidades propias\n",
    "from commons import myfunctions as myfunc\n"
   ]
  },
  {
   "cell_type": "markdown",
   "id": "02b2358b",
   "metadata": {
    "papermill": {
     "duration": 0.002526,
     "end_time": "2023-10-27T17:27:27.888999",
     "exception": false,
     "start_time": "2023-10-27T17:27:27.886473",
     "status": "completed"
    },
    "tags": []
   },
   "source": [
    "#### Parámetros a utilizar en el entrenamiento.\n",
    "\n",
    "Se indican los 3 algoritmos de *selección de características* (eval_selector_xxx) y los 3 algoritmos para la _clasificación_ (eval_clasifier_xxx)\n",
    "\n",
    "En *param_distributions* se indicar los parámetros que utilizan los algoritmos en la función RandomSearchCV.\n",
    "\n",
    "Esta celda tiene la etiqueta **parameters** que servirá para poder lanzar los entrenamientos con la utilidad **papermill** pasándole un fichero con los parámetros. Los nuevos parámetros se situarán tras esta celda para tener prevalencia."
   ]
  },
  {
   "cell_type": "code",
   "execution_count": 2,
   "id": "820450e7",
   "metadata": {
    "execution": {
     "iopub.execute_input": "2023-10-27T17:27:27.895002Z",
     "iopub.status.busy": "2023-10-27T17:27:27.894698Z",
     "iopub.status.idle": "2023-10-27T17:27:27.901838Z",
     "shell.execute_reply": "2023-10-27T17:27:27.901341Z"
    },
    "papermill": {
     "duration": 0.011592,
     "end_time": "2023-10-27T17:27:27.903054",
     "exception": false,
     "start_time": "2023-10-27T17:27:27.891462",
     "status": "completed"
    },
    "tags": [
     "parameters"
    ]
   },
   "outputs": [
    {
     "name": "stdout",
     "output_type": "stream",
     "text": [
      "20231027T192727 : amilcar22 : INFO : Utilizando parámetros de mul_m\n"
     ]
    }
   ],
   "source": [
    "#  Parametros para el entrenamiento\n",
    "\n",
    "SEMILLA=        42\n",
    "M_TIPO=         \"mul_m\"\n",
    "M_SELECT=       \"MI\"\n",
    "M_CLASIF=       \"SVM\"\n",
    "R_FICHERO=      \"resultados\"\n",
    "M_FICHERO=      \"metricas\"\n",
    "PRE_DATA_FILE=  \"rows_transpose_norm_by_gene_id_with_target_num_\"\n",
    "SCORING=        \"roc_auc_ovr\" \n",
    "MAX_ITERS=      100\n",
    "\n",
    "def mutual_info_classif_state(X, y):\n",
    "    return mutual_info_classif(X, y, random_state=SEMILLA)\n",
    "\n",
    "eval_selector_mi = \"SelectKBest(score_func=mutual_info_classif_state)\"\n",
    "eval_selector_rf=  \"SelectFromModel(estimator=RandomForestClassifier(random_state=SEMILLA), threshold=-np.inf)\"\n",
    "eval_selector_anova=  \"SelectKBest(score_func=f_classif)\"\n",
    "\n",
    "eval_clasifier_svm= \"SVC(probability=True, random_state=SEMILLA)\"\n",
    "eval_clasifier_rf= \"RandomForestClassifier(random_state=SEMILLA)\"\n",
    "eval_clasifier_lr= \"LogisticRegressionCV(random_state=SEMILLA)\"\n",
    "\n",
    "if M_TIPO.startswith(\"bin_m\"):\n",
    "    myfunc.verbose(f\"Utilizando parámetros de {M_TIPO}\")\n",
    "    eval_selector = eval_selector_mi\n",
    "    eval_clasifier = eval_clasifier_svm\n",
    "\n",
    "    SEMILLA = 6578\n",
    "    M_SELECT = \"MI\"\n",
    "    M_CLASIF = \"SVM\"\n",
    "    param_distributions = {'selector__k': [1000], \n",
    "         'clasifier__kernel': ['rbf'], 'clasifier__gamma': [0.01], 'clasifier__C': [100]}\n",
    "elif M_TIPO.startswith(\"bin_s\"):\n",
    "    myfunc.verbose(f\"Utilizando parámetros de {M_TIPO}\")\n",
    "    eval_selector = eval_selector_rf\n",
    "    eval_clasifier = eval_clasifier_lr\n",
    "\n",
    "    SEMILLA = 6191\n",
    "    M_SELECT = \"RF\"\n",
    "    M_CLASIF = \"LR_L2\"\n",
    "    param_distributions = {'selector__max_features': [1000], 'selector__estimator__n_estimators': [200], \n",
    "        'clasifier__solver': ['lbfgs'], 'clasifier__penalty': ['l2'], 'clasifier__max_iter': [10000]}\n",
    "\n",
    "elif M_TIPO.startswith(\"mul_m\"):\n",
    "    myfunc.verbose(f\"Utilizando parámetros de {M_TIPO}\")\n",
    " \n",
    "    eval_selector = eval_selector_rf\n",
    "    eval_clasifier = eval_clasifier_lr\n",
    "\n",
    "    SEMILLA = 6191\n",
    "    M_SELECT = \"RF\"\n",
    "    M_CLASIF = \"LR_L2\"\n",
    "    param_distributions = {'selector__max_features': [1000], 'selector__estimator__n_estimators': [400], \n",
    "        'clasifier__solver': ['lbfgs'], 'clasifier__penalty': ['l2'], 'clasifier__max_iter': [10000]}\n",
    "\n",
    "else:\n",
    "    # M_TIPO.startswith(\"mul_s\"):\n",
    "    myfunc.verbose(f\"Utilizando parámetros de {M_TIPO}\")\n",
    "    eval_selector = eval_selector_anova\n",
    "    eval_clasifier = eval_clasifier_lr\n",
    "\n",
    "    SEMILLA = 1860\n",
    "    M_SELECT = \"ANOVA\"\n",
    "    M_CLASIF = \"LR_L2\"\n",
    "    param_distributions = {'selector__k': [1000], \n",
    "        'clasifier__solver': ['saga'], 'clasifier__penalty': ['l2'], 'clasifier__max_iter': [10000]}\n",
    "\n"
   ]
  },
  {
   "cell_type": "code",
   "execution_count": 3,
   "id": "5426eb6f",
   "metadata": {
    "execution": {
     "iopub.execute_input": "2023-10-27T17:27:27.909304Z",
     "iopub.status.busy": "2023-10-27T17:27:27.909105Z",
     "iopub.status.idle": "2023-10-27T17:27:27.912781Z",
     "shell.execute_reply": "2023-10-27T17:27:27.912196Z"
    },
    "papermill": {
     "duration": 0.008148,
     "end_time": "2023-10-27T17:27:27.914022",
     "exception": false,
     "start_time": "2023-10-27T17:27:27.905874",
     "status": "completed"
    },
    "tags": [
     "injected-parameters"
    ]
   },
   "outputs": [],
   "source": [
    "# Parameters\n",
    "M_TIPO = \"bin_s\"\n",
    "M_SELECT = \"ANOVA\"\n",
    "M_CLASIF = \"RF\"\n",
    "P_FICHERO = \"param_0000_0042_bin_s_ANOVA_RF.yaml\"\n",
    "R_FICHERO = \"resultados_0042\"\n",
    "M_FICHERO = \"metricas_0042\"\n",
    "PRE_DATA_FILE = \"rows_transpose_norm_by_gene_id_with_target_num_\"\n",
    "SCORING = \"roc_auc_ovr\"\n",
    "SEMILLA = 42\n",
    "MAX_ITERS = 500\n",
    "eval_selector = \"SelectKBest(score_func=f_classif)\"\n",
    "eval_clasifier = \"RandomForestClassifier(random_state=SEMILLA)\"\n",
    "param_distributions = {\n",
    "    \"selector__k\": [150],\n",
    "    \"clasifier__n_estimators\": [50],\n",
    "    \"clasifier__min_samples_split\": [20],\n",
    "    \"clasifier__min_samples_leaf\": [5],\n",
    "    \"clasifier__max_features\": [\"sqrt\"],\n",
    "    \"clasifier__max_depth\": [\"None\"],\n",
    "    \"clasifier__bootstrap\": [True],\n",
    "}\n"
   ]
  },
  {
   "cell_type": "code",
   "execution_count": 4,
   "id": "ebe0cefe",
   "metadata": {
    "execution": {
     "iopub.execute_input": "2023-10-27T17:27:27.920278Z",
     "iopub.status.busy": "2023-10-27T17:27:27.920108Z",
     "iopub.status.idle": "2023-10-27T17:27:27.923100Z",
     "shell.execute_reply": "2023-10-27T17:27:27.922626Z"
    },
    "papermill": {
     "duration": 0.007527,
     "end_time": "2023-10-27T17:27:27.924330",
     "exception": false,
     "start_time": "2023-10-27T17:27:27.916803",
     "status": "completed"
    },
    "tags": []
   },
   "outputs": [],
   "source": [
    "DATA_FILE = PRE_DATA_FILE + M_TIPO\n",
    "\n",
    "# si viene \"None\" en el parámetro max_depth, se le quitan las comillas para que no sea entendido por el algoritmo como un texto\n",
    "if \"clasifier__max_depth\" in param_distributions:\n",
    "    param_distributions['clasifier__max_depth'] = [None if x == 'None' else x for x in param_distributions['clasifier__max_depth']]"
   ]
  },
  {
   "cell_type": "markdown",
   "id": "c3eea916",
   "metadata": {
    "papermill": {
     "duration": 0.002598,
     "end_time": "2023-10-27T17:27:27.929726",
     "exception": false,
     "start_time": "2023-10-27T17:27:27.927128",
     "status": "completed"
    },
    "tags": []
   },
   "source": [
    "Asignar los algoritmos que se utilizarán en la función RandomSearchCV"
   ]
  },
  {
   "cell_type": "code",
   "execution_count": 5,
   "id": "378b081f",
   "metadata": {
    "execution": {
     "iopub.execute_input": "2023-10-27T17:27:27.935712Z",
     "iopub.status.busy": "2023-10-27T17:27:27.935532Z",
     "iopub.status.idle": "2023-10-27T17:27:27.938262Z",
     "shell.execute_reply": "2023-10-27T17:27:27.937720Z"
    },
    "papermill": {
     "duration": 0.007124,
     "end_time": "2023-10-27T17:27:27.939499",
     "exception": false,
     "start_time": "2023-10-27T17:27:27.932375",
     "status": "completed"
    },
    "tags": []
   },
   "outputs": [],
   "source": [
    "algor_selector=eval(eval_selector)\n",
    "algor_clasifier=eval(eval_clasifier)"
   ]
  },
  {
   "cell_type": "markdown",
   "id": "0d261b02",
   "metadata": {
    "papermill": {
     "duration": 0.003266,
     "end_time": "2023-10-27T17:27:27.946002",
     "exception": false,
     "start_time": "2023-10-27T17:27:27.942736",
     "status": "completed"
    },
    "tags": []
   },
   "source": [
    "#### Comprobar el entorno y leer fichero de muestras"
   ]
  },
  {
   "cell_type": "code",
   "execution_count": 6,
   "id": "a2115243",
   "metadata": {
    "execution": {
     "iopub.execute_input": "2023-10-27T17:27:27.953321Z",
     "iopub.status.busy": "2023-10-27T17:27:27.953129Z",
     "iopub.status.idle": "2023-10-27T17:27:28.119593Z",
     "shell.execute_reply": "2023-10-27T17:27:28.119026Z"
    },
    "papermill": {
     "duration": 0.171674,
     "end_time": "2023-10-27T17:27:28.120907",
     "exception": false,
     "start_time": "2023-10-27T17:27:27.949233",
     "status": "completed"
    },
    "tags": []
   },
   "outputs": [
    {
     "name": "stdout",
     "output_type": "stream",
     "text": [
      "20231027T192727 : amilcar22 : INFO : Encontrada carpeta DATA_DIR=../tfm_git/datos\n",
      "20231027T192727 : amilcar22 : INFO : Encontrada carpeta CFDNA_DIR=../tfm_git/datos/cfDNA_5hmC\n",
      "20231027T192727 : amilcar22 : INFO : Encontrada carpeta GENCODE_DIR=../tfm_git/datos/gencode\n",
      "20231027T192727 : amilcar22 : INFO : Encontrada carpeta H5_DIR=../tfm_git/datos/h5\n",
      "20231027T192727 : amilcar22 : INFO : Encontrada carpeta LOG_DIR=../tfm_git/datos/logs\n",
      "20231027T192727 : amilcar22 : INFO : Encontrada carpeta CSV_DIR=../tfm_git/datos/csv\n",
      "20231027T192727 : amilcar22 : INFO : Encontrada carpeta MODEL_DIR=../tfm_git/ejecuciones/modelos\n",
      "20231027T192727 : amilcar22 : INFO : Encontrada carpeta EXEC_DIR=../tfm_git/ejecuciones\n",
      "20231027T192727 : amilcar22 : INFO : Encontrada carpeta MET_DIR=../tfm_git/ejecuciones/metricas\n",
      "20231027T192727 : amilcar22 : INFO : Inicio leer fichero h5 ../tfm_git/datos/h5/rows_transpose_norm_by_gene_id_with_target_num_bin_s.h5\n",
      "20231027T192727 : amilcar22 : INFO : Leyendo clave /df\n",
      "20231027T192728 : amilcar22 : INFO : Tamaño (443, 18876)\n",
      "20231027T192728 : amilcar22 : INFO : Fin leer fichero h5 ../tfm_git/datos/h5/rows_transpose_norm_by_gene_id_with_target_num_bin_s.h5\n"
     ]
    },
    {
     "data": {
      "text/plain": [
       "target\n",
       "0    221\n",
       "1    222\n",
       "dtype: int64"
      ]
     },
     "metadata": {},
     "output_type": "display_data"
    },
    {
     "name": "stdout",
     "output_type": "stream",
     "text": [
      "Shape df: (443, 18876)\n"
     ]
    },
    {
     "name": "stdout",
     "output_type": "stream",
     "text": [
      "Shape X_train: (354, 18875)\n",
      "Shape X_test: (89, 18875)\n"
     ]
    }
   ],
   "source": [
    "start_time = datetime.datetime.now()\n",
    "\n",
    "myfunc.reset_vars()\n",
    "\n",
    "myfunc.NOTEBK_FILENAME = myfunc.get_nb_name()\n",
    "\n",
    "myfunc.check_enviroment(myfunc.DATA_DIR, myfunc.CFDNA_DIR, myfunc.GENCODE_DIR, myfunc.H5_DIR, myfunc.LOG_DIR, myfunc.CSV_DIR, myfunc.MODEL_DIR, myfunc.EXEC_DIR, myfunc.MET_DIR)\n",
    "\n",
    "# Leer fichero con las muestras\n",
    "df_t = myfunc.read_h5_to_df(DATA_FILE, myfunc.H5_DIR)\n",
    "display(df_t.groupby(\"target\").size())\n",
    "print(\"Shape df:\",df_t.shape)\n",
    "\n",
    "# Separar caracteristicas/genes de las etiquetas/tipos de cáncer\n",
    "X = df_t.iloc[:, :-1]  # Todas las columnas excepto la última\n",
    "y = df_t.iloc[:, -1]  # La última columna contiene los identificadores de los tipos de cáncer\n",
    "\n",
    "#  Crear el conjunto de datos de entrenamiento y de pruebas\n",
    "X_train, X_test, y_train, y_test = train_test_split(X, y, test_size=0.2, shuffle=True, random_state=SEMILLA)\n",
    "print(\"Shape X_train:\",X_train.shape)\n",
    "print(\"Shape X_test:\",X_test.shape)\n"
   ]
  },
  {
   "cell_type": "markdown",
   "id": "44be2ede",
   "metadata": {
    "papermill": {
     "duration": 0.002846,
     "end_time": "2023-10-27T17:27:28.127214",
     "exception": false,
     "start_time": "2023-10-27T17:27:28.124368",
     "status": "completed"
    },
    "tags": []
   },
   "source": [
    "#### Selección de características y clasificación."
   ]
  },
  {
   "cell_type": "code",
   "execution_count": 7,
   "id": "8c952420",
   "metadata": {
    "execution": {
     "iopub.execute_input": "2023-10-27T17:27:28.133859Z",
     "iopub.status.busy": "2023-10-27T17:27:28.133659Z",
     "iopub.status.idle": "2023-10-27T17:27:30.249255Z",
     "shell.execute_reply": "2023-10-27T17:27:30.248644Z"
    },
    "papermill": {
     "duration": 2.120445,
     "end_time": "2023-10-27T17:27:30.250537",
     "exception": false,
     "start_time": "2023-10-27T17:27:28.130092",
     "status": "completed"
    },
    "tags": []
   },
   "outputs": [
    {
     "name": "stdout",
     "output_type": "stream",
     "text": [
      "20231027T192728 : amilcar22 : INFO : Iniciando entrenamiento\n",
      "num_iter: 1 , max_iter: 1\n",
      "Fitting 5 folds for each of 1 candidates, totalling 5 fits\n"
     ]
    },
    {
     "name": "stderr",
     "output_type": "stream",
     "text": [
      "/home/antonio/miniconda3/lib/python3.10/site-packages/sklearn/feature_selection/_univariate_selection.py:112: UserWarning: Features [ 2010  2222  2265  2266  2553  2803  3492  5668  5803  6053  6984  8314\n",
      "  8510  9490 11021 11022 11565 11613 11943 12249 12831 12888 13225 13235\n",
      " 13259 13836 14000 14245 14451 14735 14789 14941 14995 15515 15824 15881\n",
      " 15979 16018 16260 16262 16267 16268 16278 16279 16281 16287 16294 16313\n",
      " 16630 16667 16679 16687 16701 16906 16968 17047 17091 17093 17231 17264\n",
      " 17274 17300 17312 17644 17679 18421 18530 18592 18608 18868] are constant.\n",
      "  warnings.warn(\"Features %s are constant.\" % constant_features_idx, UserWarning)\n",
      "/home/antonio/miniconda3/lib/python3.10/site-packages/sklearn/feature_selection/_univariate_selection.py:113: RuntimeWarning: invalid value encountered in divide\n",
      "  f = msb / msw\n",
      "/home/antonio/miniconda3/lib/python3.10/site-packages/sklearn/feature_selection/_univariate_selection.py:112: UserWarning: Features [ 2222  2265  2266  2803  3415  3492  5668  5803  6053  8314  8510  9490\n",
      " 10475 11021 11565 11613 11943 12249 12831 13047 13235 13522 13836 13959\n",
      " 14000 14245 14789 15397 15515 15824 15881 16018 16262 16267 16268 16313\n",
      " 16318 16322 16323 16630 16679 16701 16906 16968 17047 17091 17231 17264\n",
      " 17274 17300 17312 17540 17566 17741 18421 18608 18698 18868] are constant.\n",
      "  warnings.warn(\"Features %s are constant.\" % constant_features_idx, UserWarning)\n",
      "/home/antonio/miniconda3/lib/python3.10/site-packages/sklearn/feature_selection/_univariate_selection.py:113: RuntimeWarning: invalid value encountered in divide\n",
      "  f = msb / msw\n",
      "/home/antonio/miniconda3/lib/python3.10/site-packages/sklearn/feature_selection/_univariate_selection.py:112: UserWarning: Features [ 1508  1733  2222  2265  2266  2803  3492  4306  5533  5668  5803  6053\n",
      "  7416  8314  8401  8510  9490 11020 11021 11565 11613 11943 11996 12249\n",
      " 12831 13235 13836 14000 14244 14245 14480 14789 15183 15401 15515 15563\n",
      " 15824 15881 16018 16262 16267 16268 16276 16313 16522 16630 16679 16701\n",
      " 16819 16906 16956 16968 17047 17091 17231 17264 17274 17300 17312 18350\n",
      " 18374 18421 18486 18608 18692 18868] are constant.\n",
      "  warnings.warn(\"Features %s are constant.\" % constant_features_idx, UserWarning)\n",
      "/home/antonio/miniconda3/lib/python3.10/site-packages/sklearn/feature_selection/_univariate_selection.py:113: RuntimeWarning: invalid value encountered in divide\n",
      "  f = msb / msw\n"
     ]
    },
    {
     "name": "stderr",
     "output_type": "stream",
     "text": [
      "/home/antonio/miniconda3/lib/python3.10/site-packages/sklearn/feature_selection/_univariate_selection.py:112: UserWarning: Features [ 1017  1846  2222  2265  2266  2725  2803  2833  3492  4075  5668  5803\n",
      "  6053  8314  8510  9090  9490 11021 11562 11565 11613 11943 12249 12831\n",
      " 12973 13235 13836 14000 14015 14245 14789 14795 15515 15785 15824 15881\n",
      " 16018 16262 16267 16268 16313 16372 16630 16679 16701 16905 16906 16968\n",
      " 17047 17091 17231 17264 17274 17300 17312 17418 18288 18405 18421 18608\n",
      " 18868] are constant.\n",
      "  warnings.warn(\"Features %s are constant.\" % constant_features_idx, UserWarning)\n",
      "/home/antonio/miniconda3/lib/python3.10/site-packages/sklearn/feature_selection/_univariate_selection.py:113: RuntimeWarning: invalid value encountered in divide\n",
      "  f = msb / msw\n",
      "/home/antonio/miniconda3/lib/python3.10/site-packages/sklearn/feature_selection/_univariate_selection.py:112: UserWarning: Features [  298  2222  2265  2266  2803  2896  3492  5668  5803  6053  8314  8510\n",
      "  8513  9232  9490 11021 11565 11613 11943 12249 12480 12831 13235 13300\n",
      " 13836 13848 14000 14245 14789 14794 15515 15824 15881 16018 16262 16267\n",
      " 16268 16277 16312 16313 16630 16679 16701 16731 16870 16906 16968 17024\n",
      " 17047 17091 17123 17231 17264 17273 17274 17300 17312 17963 18375 18421\n",
      " 18546 18608 18868] are constant.\n",
      "  warnings.warn(\"Features %s are constant.\" % constant_features_idx, UserWarning)\n",
      "/home/antonio/miniconda3/lib/python3.10/site-packages/sklearn/feature_selection/_univariate_selection.py:113: RuntimeWarning: invalid value encountered in divide\n",
      "  f = msb / msw\n"
     ]
    },
    {
     "name": "stdout",
     "output_type": "stream",
     "text": [
      "Mejores Hiperparámetros: {'selector__k': 150, 'clasifier__n_estimators': 50, 'clasifier__min_samples_split': 20, 'clasifier__min_samples_leaf': 5, 'clasifier__max_features': 'sqrt', 'clasifier__max_depth': None, 'clasifier__bootstrap': True}\n",
      "Mejor Puntuación: 0.7380\n",
      "20231027T192730 : amilcar22 : INFO : Fin entrenamiento\n"
     ]
    },
    {
     "name": "stderr",
     "output_type": "stream",
     "text": [
      "/home/antonio/miniconda3/lib/python3.10/site-packages/sklearn/feature_selection/_univariate_selection.py:112: UserWarning: Features [ 2222  2265  2266  2803  3492  5668  5803  6053  8314  8510  9490 11021\n",
      " 11565 11613 11943 12249 12831 13235 13836 14000 14245 14789 15515 15824\n",
      " 15881 16018 16262 16267 16268 16313 16630 16679 16701 16906 16968 17047\n",
      " 17091 17231 17264 17274 17300 17312 18421 18608 18868] are constant.\n",
      "  warnings.warn(\"Features %s are constant.\" % constant_features_idx, UserWarning)\n",
      "/home/antonio/miniconda3/lib/python3.10/site-packages/sklearn/feature_selection/_univariate_selection.py:113: RuntimeWarning: invalid value encountered in divide\n",
      "  f = msb / msw\n"
     ]
    }
   ],
   "source": [
    "myfunc.verbose(\"Iniciando entrenamiento\")\n",
    "\n",
    "kf = KFold(n_splits=5, shuffle=True, random_state=SEMILLA)\n",
    "\n",
    "# Crear el pipeline para el flujo de tareas\n",
    "tasks_pipeline = Pipeline([\n",
    "    ('selector', algor_selector),\n",
    "    ('clasifier', algor_clasifier)\n",
    "])\n",
    "\n",
    "# MAX_ITERS puede limitar el número de iteraciones si son excesivas para las combinaciones de parámetros buscando un óptimo local, \n",
    "# sino funcionaría como GridSearchCV al revisar todas las cominaciones de los parámetros\n",
    "num_iteraciones = 1\n",
    "num_iteraciones = num_iteraciones * np.prod([len(elemento1) for _, elemento1 in param_distributions.items()])\n",
    "max_iteraciones = num_iteraciones if num_iteraciones <= MAX_ITERS else MAX_ITERS\n",
    "print(\"num_iter:\",num_iteraciones,\", max_iter:\",max_iteraciones)\n",
    "\n",
    "random_search = RandomizedSearchCV(\n",
    "    tasks_pipeline, \n",
    "    param_distributions, \n",
    "    n_iter=max_iteraciones,\n",
    "    scoring=SCORING,\n",
    "    cv=kf,\n",
    "    verbose=3, \n",
    "    random_state=SEMILLA, \n",
    "    n_jobs=-1\n",
    "    )\n",
    "\n",
    "# Entrenar el modelo\n",
    "random_search.fit(X_train, y_train)\n",
    "\n",
    "# Ver los mejores hiperparámetros encontrados\n",
    "print(f'Mejores Hiperparámetros: {random_search.best_params_}')\n",
    "print(f'Mejor Puntuación: {random_search.best_score_:.4f}')\n",
    "\n",
    "# Nos quedamos con el mejor modelo para ver las métricas\n",
    "mejor_modelo = random_search.best_estimator_\n",
    "\n",
    "myfunc.verbose(\"Fin entrenamiento\")"
   ]
  },
  {
   "cell_type": "markdown",
   "id": "5b0230bc",
   "metadata": {
    "papermill": {
     "duration": 0.003027,
     "end_time": "2023-10-27T17:27:30.257491",
     "exception": false,
     "start_time": "2023-10-27T17:27:30.254464",
     "status": "completed"
    },
    "tags": []
   },
   "source": [
    "#### Guardar modelo"
   ]
  },
  {
   "cell_type": "code",
   "execution_count": 8,
   "id": "f567106f",
   "metadata": {
    "execution": {
     "iopub.execute_input": "2023-10-27T17:27:30.264541Z",
     "iopub.status.busy": "2023-10-27T17:27:30.264344Z",
     "iopub.status.idle": "2023-10-27T17:27:30.286301Z",
     "shell.execute_reply": "2023-10-27T17:27:30.285761Z"
    },
    "papermill": {
     "duration": 0.027062,
     "end_time": "2023-10-27T17:27:30.287586",
     "exception": false,
     "start_time": "2023-10-27T17:27:30.260524",
     "status": "completed"
    },
    "tags": []
   },
   "outputs": [
    {
     "name": "stdout",
     "output_type": "stream",
     "text": [
      "20231027T192730 : amilcar22 : INFO : Inicio guardar fichero ../tfm_git/ejecuciones/modelos/modelo_0042_bin_s_ANOVA_RF.pkl\n",
      "20231027T192730 : amilcar22 : INFO : Fin guardar fichero ../tfm_git/ejecuciones/modelos/modelo_0042_bin_s_ANOVA_RF.pkl\n"
     ]
    }
   ],
   "source": [
    "fichero_modelo = str.replace(\"modelo_\"+str(SEMILLA).zfill(4)+\"_\"+M_TIPO+\"_\"+M_SELECT+\"_\"+M_CLASIF+\".pkl\", \" \", \"_\")\n",
    "\n",
    "myfunc.save_modelo(mejor_modelo, myfunc.MODEL_DIR, fichero_modelo)"
   ]
  },
  {
   "cell_type": "markdown",
   "id": "1000c59f",
   "metadata": {
    "papermill": {
     "duration": 0.003168,
     "end_time": "2023-10-27T17:27:30.294148",
     "exception": false,
     "start_time": "2023-10-27T17:27:30.290980",
     "status": "completed"
    },
    "tags": []
   },
   "source": [
    "#### Ver resultados del las iteraciones hechas por RandomSearchCV"
   ]
  },
  {
   "cell_type": "code",
   "execution_count": 9,
   "id": "076910bc",
   "metadata": {
    "execution": {
     "iopub.execute_input": "2023-10-27T17:27:30.301138Z",
     "iopub.status.busy": "2023-10-27T17:27:30.300947Z",
     "iopub.status.idle": "2023-10-27T17:27:30.306469Z",
     "shell.execute_reply": "2023-10-27T17:27:30.306045Z"
    },
    "papermill": {
     "duration": 0.01049,
     "end_time": "2023-10-27T17:27:30.307712",
     "exception": false,
     "start_time": "2023-10-27T17:27:30.297222",
     "status": "completed"
    },
    "tags": []
   },
   "outputs": [
    {
     "name": "stdout",
     "output_type": "stream",
     "text": [
      "20231027T192730 : amilcar22 : INFO : Inicio ver resultados\n",
      "Mejores Hiperparámetros: {'selector__k': 150, 'clasifier__n_estimators': 50, 'clasifier__min_samples_split': 20, 'clasifier__min_samples_leaf': 5, 'clasifier__max_features': 'sqrt', 'clasifier__max_depth': None, 'clasifier__bootstrap': True}\n",
      "Mejores puntuaciones: 0.7380 | Params: {'selector__k': 150, 'clasifier__n_estimators': 50, 'clasifier__min_samples_split': 20, 'clasifier__min_samples_leaf': 5, 'clasifier__max_features': 'sqrt', 'clasifier__max_depth': None, 'clasifier__bootstrap': True}\n",
      "Media de las puntuaciones: 0.7380 | Params: {'selector__k': 150, 'clasifier__n_estimators': 50, 'clasifier__min_samples_split': 20, 'clasifier__min_samples_leaf': 5, 'clasifier__max_features': 'sqrt', 'clasifier__max_depth': None, 'clasifier__bootstrap': True}\n",
      "20231027T192730 : amilcar22 : INFO : Fin resultados\n"
     ]
    }
   ],
   "source": [
    "myfunc.ver_resultados_search(random_search)"
   ]
  },
  {
   "cell_type": "markdown",
   "id": "dc5e8b4f",
   "metadata": {
    "papermill": {
     "duration": 0.003209,
     "end_time": "2023-10-27T17:27:30.314382",
     "exception": false,
     "start_time": "2023-10-27T17:27:30.311173",
     "status": "completed"
    },
    "tags": []
   },
   "source": [
    "#### Ver métricas del mejor modelo"
   ]
  },
  {
   "cell_type": "code",
   "execution_count": 10,
   "id": "5166fb91",
   "metadata": {
    "execution": {
     "iopub.execute_input": "2023-10-27T17:27:30.321526Z",
     "iopub.status.busy": "2023-10-27T17:27:30.321345Z",
     "iopub.status.idle": "2023-10-27T17:27:30.737028Z",
     "shell.execute_reply": "2023-10-27T17:27:30.736396Z"
    },
    "papermill": {
     "duration": 0.420553,
     "end_time": "2023-10-27T17:27:30.738168",
     "exception": false,
     "start_time": "2023-10-27T17:27:30.317615",
     "status": "completed"
    },
    "tags": []
   },
   "outputs": [
    {
     "name": "stdout",
     "output_type": "stream",
     "text": [
      "20231027T192730 : amilcar22 : INFO : Inicio ver métricas\n"
     ]
    },
    {
     "name": "stdout",
     "output_type": "stream",
     "text": [
      "              precision    recall  f1-score   support\n",
      "\n",
      "           0       0.61      0.67      0.64        46\n",
      "           1       0.61      0.53      0.57        43\n",
      "\n",
      "    accuracy                           0.61        89\n",
      "   macro avg       0.61      0.60      0.60        89\n",
      "weighted avg       0.61      0.61      0.60        89\n",
      "\n"
     ]
    },
    {
     "name": "stdout",
     "output_type": "stream",
     "text": [
      "\n",
      "\n",
      "   Exactitud: 0.6067\n",
      "   Precisión: 0.6066\n",
      "Sensibilidad: 0.6044\n",
      "    F1-score: 0.6035\n",
      "     AUC ROC: 0.6921\n"
     ]
    },
    {
     "data": {
      "image/png": "[encoded data removed]",
      "text/plain": [
       "<Figure size 300x100 with 2 Axes>"
      ]
     },
     "metadata": {},
     "output_type": "display_data"
    },
    {
     "data": {
      "image/png": "[encoded data removed]",
      "text/plain": [
       "<Figure size 800x500 with 1 Axes>"
      ]
     },
     "metadata": {},
     "output_type": "display_data"
    },
    {
     "name": "stdout",
     "output_type": "stream",
     "text": [
      "20231027T192730 : amilcar22 : INFO : Fin ver métricas\n"
     ]
    }
   ],
   "source": [
    "if M_TIPO.startswith(\"bin\"):\n",
    "    myfunc.ver_metricas(mejor_modelo, X_test, y_test)\n",
    "else:\n",
    "    myfunc.ver_metricas_multi(mejor_modelo, X_test, y_test)\n"
   ]
  },
  {
   "cell_type": "markdown",
   "id": "9cd6bbd5",
   "metadata": {
    "papermill": {
     "duration": 0.003782,
     "end_time": "2023-10-27T17:27:30.746157",
     "exception": false,
     "start_time": "2023-10-27T17:27:30.742375",
     "status": "completed"
    },
    "tags": []
   },
   "source": [
    "#### Finalización del notebook"
   ]
  },
  {
   "cell_type": "code",
   "execution_count": 11,
   "id": "f674bafb",
   "metadata": {
    "execution": {
     "iopub.execute_input": "2023-10-27T17:27:30.754656Z",
     "iopub.status.busy": "2023-10-27T17:27:30.754467Z",
     "iopub.status.idle": "2023-10-27T17:27:30.757748Z",
     "shell.execute_reply": "2023-10-27T17:27:30.757149Z"
    },
    "papermill": {
     "duration": 0.008806,
     "end_time": "2023-10-27T17:27:30.758862",
     "exception": false,
     "start_time": "2023-10-27T17:27:30.750056",
     "status": "completed"
    },
    "tags": []
   },
   "outputs": [
    {
     "name": "stdout",
     "output_type": "stream",
     "text": [
      "20231027T192730 : amilcar22 : INFO : Notebook ha tardado 2 seconds\n"
     ]
    }
   ],
   "source": [
    "end_time = datetime.datetime.now()\n",
    "total_time = end_time - start_time\n",
    "myfunc.verbose(f\"Notebook ha tardado {total_time.seconds} seconds\")"
   ]
  },
  {
   "cell_type": "markdown",
   "id": "6aeba836",
   "metadata": {
    "papermill": {
     "duration": 0.00382,
     "end_time": "2023-10-27T17:27:30.766548",
     "exception": false,
     "start_time": "2023-10-27T17:27:30.762728",
     "status": "completed"
    },
    "tags": []
   },
   "source": [
    "#### Guardar métricas"
   ]
  },
  {
   "cell_type": "code",
   "execution_count": 12,
   "id": "25eb029d",
   "metadata": {
    "execution": {
     "iopub.execute_input": "2023-10-27T17:27:30.774993Z",
     "iopub.status.busy": "2023-10-27T17:27:30.774817Z",
     "iopub.status.idle": "2023-10-27T17:27:30.965135Z",
     "shell.execute_reply": "2023-10-27T17:27:30.964653Z"
    },
    "papermill": {
     "duration": 0.195856,
     "end_time": "2023-10-27T17:27:30.966300",
     "exception": false,
     "start_time": "2023-10-27T17:27:30.770444",
     "status": "completed"
    },
    "tags": []
   },
   "outputs": [
    {
     "name": "stdout",
     "output_type": "stream",
     "text": [
      "20231027T192730 : amilcar22 : INFO : Inicio guardar métricas\n",
      "20231027T192730 : amilcar22 : INFO : Inicio leer fichero ../tfm_git/ejecuciones/metricas/metricas_0042.csv\n",
      "20231027T192730 : amilcar22 : INFO : Fin leer fichero ../tfm_git/ejecuciones/metricas/metricas_0042.csv\n",
      "20231027T192730 : amilcar22 : INFO : Inicio guardar fichero ../tfm_git/ejecuciones/metricas/metricas_0042.csv\n",
      "20231027T192730 : amilcar22 : INFO : Fichero borrado ../tfm_git/ejecuciones/metricas/metricas_0042.csv\n"
     ]
    },
    {
     "name": "stdout",
     "output_type": "stream",
     "text": [
      "20231027T192730 : amilcar22 : INFO : Fin guardar fichero ../tfm_git/ejecuciones/metricas/metricas_0042.csv\n",
      "20231027T192730 : amilcar22 : INFO : Fin guardar métricas\n",
      "20231027T192730 : amilcar22 : INFO : Inicio leer fichero ../tfm_git/ejecuciones/metricas/metricas_0042.csv\n",
      "20231027T192730 : amilcar22 : INFO : Fin leer fichero ../tfm_git/ejecuciones/metricas/metricas_0042.csv\n"
     ]
    },
    {
     "data": {
      "text/html": [
       "<div>\n",
       "<style scoped>\n",
       "    .dataframe tbody tr th:only-of-type {\n",
       "        vertical-align: middle;\n",
       "    }\n",
       "\n",
       "    .dataframe tbody tr th {\n",
       "        vertical-align: top;\n",
       "    }\n",
       "\n",
       "    .dataframe thead th {\n",
       "        text-align: right;\n",
       "    }\n",
       "</style>\n",
       "<table border=\"1\" class=\"dataframe\">\n",
       "  <thead>\n",
       "    <tr style=\"text-align: right;\">\n",
       "      <th></th>\n",
       "      <th>tipo</th>\n",
       "      <th>select</th>\n",
       "      <th>clasific</th>\n",
       "      <th>accuracy</th>\n",
       "      <th>precision</th>\n",
       "      <th>recall</th>\n",
       "      <th>f1_score</th>\n",
       "      <th>roc_auc</th>\n",
       "      <th>roc_auc_ovr</th>\n",
       "      <th>hostname</th>\n",
       "      <th>total_time_sec</th>\n",
       "      <th>datetime</th>\n",
       "      <th>fichero_modelo</th>\n",
       "      <th>params</th>\n",
       "      <th>shape</th>\n",
       "      <th>features</th>\n",
       "      <th>semilla</th>\n",
       "    </tr>\n",
       "  </thead>\n",
       "  <tbody>\n",
       "    <tr>\n",
       "      <th>0</th>\n",
       "      <td>bin_s</td>\n",
       "      <td>ANOVA</td>\n",
       "      <td>RF</td>\n",
       "      <td>0.606742</td>\n",
       "      <td>0.606553</td>\n",
       "      <td>0.604398</td>\n",
       "      <td>0.603538</td>\n",
       "      <td>0.692113</td>\n",
       "      <td>NaN</td>\n",
       "      <td>amilcar22</td>\n",
       "      <td>2</td>\n",
       "      <td>2023-10-27 19:27:30.926857</td>\n",
       "      <td>modelo_0042_bin_s_ANOVA_RF.pkl</td>\n",
       "      <td>{'selector__k': 150, 'clasifier__n_estimators'...</td>\n",
       "      <td>X_test:(89, 18875)</td>\n",
       "      <td>['ENSG00000000971.17', 'ENSG00000002587.10', '...</td>\n",
       "      <td>42.0</td>\n",
       "    </tr>\n",
       "    <tr>\n",
       "      <th>0</th>\n",
       "      <td>bin_s</td>\n",
       "      <td>ANOVA</td>\n",
       "      <td>LR_L2</td>\n",
       "      <td>0.752809</td>\n",
       "      <td>0.757277</td>\n",
       "      <td>0.750253</td>\n",
       "      <td>0.750255</td>\n",
       "      <td>0.800303</td>\n",
       "      <td>NaN</td>\n",
       "      <td>amilcar22</td>\n",
       "      <td>7</td>\n",
       "      <td>2023-10-27 19:27:21.863811</td>\n",
       "      <td>modelo_0042_bin_s_ANOVA_LR_L2.pkl</td>\n",
       "      <td>{'selector__k': 1000, 'clasifier__solver': 'lb...</td>\n",
       "      <td>X_test:(89, 18875)</td>\n",
       "      <td>['ENSG00000000938.13', 'ENSG00000000971.17', '...</td>\n",
       "      <td>42.0</td>\n",
       "    </tr>\n",
       "    <tr>\n",
       "      <th>0</th>\n",
       "      <td>bin_s</td>\n",
       "      <td>ANOVA</td>\n",
       "      <td>LR_L1</td>\n",
       "      <td>0.674157</td>\n",
       "      <td>0.675439</td>\n",
       "      <td>0.671891</td>\n",
       "      <td>0.671503</td>\n",
       "      <td>0.770981</td>\n",
       "      <td>NaN</td>\n",
       "      <td>amilcar22</td>\n",
       "      <td>106</td>\n",
       "      <td>2023-10-27 19:27:08.211697</td>\n",
       "      <td>modelo_0042_bin_s_ANOVA_LR_L1.pkl</td>\n",
       "      <td>{'selector__k': 200, 'clasifier__solver': 'sag...</td>\n",
       "      <td>X_test:(89, 18875)</td>\n",
       "      <td>['ENSG00000000971.17', 'ENSG00000002587.10', '...</td>\n",
       "      <td>42.0</td>\n",
       "    </tr>\n",
       "  </tbody>\n",
       "</table>\n",
       "</div>"
      ],
      "text/plain": [
       "    tipo select clasific  accuracy  precision    recall  f1_score   roc_auc  \\\n",
       "0  bin_s  ANOVA       RF  0.606742   0.606553  0.604398  0.603538  0.692113   \n",
       "0  bin_s  ANOVA    LR_L2  0.752809   0.757277  0.750253  0.750255  0.800303   \n",
       "0  bin_s  ANOVA    LR_L1  0.674157   0.675439  0.671891  0.671503  0.770981   \n",
       "\n",
       "   roc_auc_ovr   hostname  total_time_sec                    datetime  \\\n",
       "0          NaN  amilcar22               2  2023-10-27 19:27:30.926857   \n",
       "0          NaN  amilcar22               7  2023-10-27 19:27:21.863811   \n",
       "0          NaN  amilcar22             106  2023-10-27 19:27:08.211697   \n",
       "\n",
       "                      fichero_modelo  \\\n",
       "0     modelo_0042_bin_s_ANOVA_RF.pkl   \n",
       "0  modelo_0042_bin_s_ANOVA_LR_L2.pkl   \n",
       "0  modelo_0042_bin_s_ANOVA_LR_L1.pkl   \n",
       "\n",
       "                                              params               shape  \\\n",
       "0  {'selector__k': 150, 'clasifier__n_estimators'...  X_test:(89, 18875)   \n",
       "0  {'selector__k': 1000, 'clasifier__solver': 'lb...  X_test:(89, 18875)   \n",
       "0  {'selector__k': 200, 'clasifier__solver': 'sag...  X_test:(89, 18875)   \n",
       "\n",
       "                                            features  semilla  \n",
       "0  ['ENSG00000000971.17', 'ENSG00000002587.10', '...     42.0  \n",
       "0  ['ENSG00000000938.13', 'ENSG00000000971.17', '...     42.0  \n",
       "0  ['ENSG00000000971.17', 'ENSG00000002587.10', '...     42.0  "
      ]
     },
     "metadata": {},
     "output_type": "display_data"
    }
   ],
   "source": [
    "if M_TIPO.startswith(\"bin\"):\n",
    "    myfunc.save_metricas_to_csv(random_search, X_test, y_test, M_TIPO, M_SELECT, M_CLASIF, total_time, SEMILLA, myfunc.MET_DIR, M_FICHERO, fichero_modelo)\n",
    "else:\n",
    "    myfunc.save_metricas_multi_to_csv(random_search, X_test, y_test, M_TIPO, M_SELECT, M_CLASIF, total_time, SEMILLA, myfunc.MET_DIR, M_FICHERO, fichero_modelo)\n",
    "\n",
    "df1=myfunc.read_metricas_to_df(myfunc.MET_DIR,M_FICHERO)\n",
    "\n",
    "display(df1.sort_values(\"datetime\", ascending=False)[:3])\n"
   ]
  },
  {
   "cell_type": "markdown",
   "id": "97aefb11",
   "metadata": {
    "papermill": {
     "duration": 0.004102,
     "end_time": "2023-10-27T17:27:30.974894",
     "exception": false,
     "start_time": "2023-10-27T17:27:30.970792",
     "status": "completed"
    },
    "tags": []
   },
   "source": [
    "#### Guardar resultados"
   ]
  },
  {
   "cell_type": "code",
   "execution_count": 13,
   "id": "38cbd63c",
   "metadata": {
    "execution": {
     "iopub.execute_input": "2023-10-27T17:27:30.983856Z",
     "iopub.status.busy": "2023-10-27T17:27:30.983668Z",
     "iopub.status.idle": "2023-10-27T17:27:30.991681Z",
     "shell.execute_reply": "2023-10-27T17:27:30.991178Z"
    },
    "papermill": {
     "duration": 0.013873,
     "end_time": "2023-10-27T17:27:30.992845",
     "exception": false,
     "start_time": "2023-10-27T17:27:30.978972",
     "status": "completed"
    },
    "tags": []
   },
   "outputs": [
    {
     "name": "stdout",
     "output_type": "stream",
     "text": [
      "20231027T192730 : amilcar22 : INFO : Inicio guardar resultados\n",
      "20231027T192730 : amilcar22 : INFO : Inicio guardar fichero ../tfm_git/ejecuciones/metricas/resultados_0042_bin_s-ANOVA-RF.csv\n",
      "20231027T192730 : amilcar22 : INFO : Fin guardar fichero ../tfm_git/ejecuciones/metricas/resultados_0042_bin_s-ANOVA-RF.csv\n",
      "20231027T192730 : amilcar22 : INFO : Fin guardar resultados\n"
     ]
    }
   ],
   "source": [
    "fichero_resultados=R_FICHERO+\"_\"+M_TIPO+\"-\"+M_SELECT+\"-\"+M_CLASIF+\".csv\"\n",
    "myfunc.save_resultados_to_csv(M_TIPO, M_SELECT, M_CLASIF,  random_search, myfunc.MET_DIR, fichero_resultados)\n"
   ]
  }
 ],
 "metadata": {
  "kernelspec": {
   "display_name": "Python 3 (ipykernel)",
   "language": "python",
   "name": "python3"
  },
  "language_info": {
   "codemirror_mode": {
    "name": "ipython",
    "version": 3
   },
   "file_extension": ".py",
   "mimetype": "text/x-python",
   "name": "python",
   "nbconvert_exporter": "python",
   "pygments_lexer": "ipython3",
   "version": "3.10.12"
  },
  "papermill": {
   "default_parameters": {},
   "duration": 7.533859,
   "end_time": "2023-10-27T17:27:33.613530",
   "environment_variables": {},
   "exception": null,
   "input_path": "03_entrenamiento.ipynb",
   "output_path": "ejecuciones/training/03_entrenamiento.20231027T192725.param_0000_0042_bin_s_ANOVA_RF.output.ipynb",
   "parameters": {
    "MAX_ITERS": 500,
    "M_CLASIF": "RF",
    "M_FICHERO": "metricas_0042",
    "M_SELECT": "ANOVA",
    "M_TIPO": "bin_s",
    "PRE_DATA_FILE": "rows_transpose_norm_by_gene_id_with_target_num_",
    "P_FICHERO": "param_0000_0042_bin_s_ANOVA_RF.yaml",
    "R_FICHERO": "resultados_0042",
    "SCORING": "roc_auc_ovr",
    "SEMILLA": 42,
    "eval_clasifier": "RandomForestClassifier(random_state=SEMILLA)",
    "eval_selector": "SelectKBest(score_func=f_classif)",
    "param_distributions": {
     "clasifier__bootstrap": [
      true
     ],
     "clasifier__max_depth": [
      "None"
     ],
     "clasifier__max_features": [
      "sqrt"
     ],
     "clasifier__min_samples_leaf": [
      5
     ],
     "clasifier__min_samples_split": [
      20
     ],
     "clasifier__n_estimators": [
      50
     ],
     "selector__k": [
      150
     ]
    }
   },
   "start_time": "2023-10-27T17:27:26.079671",
   "version": "2.4.0"
  }
 },
 "nbformat": 4,
 "nbformat_minor": 5
}