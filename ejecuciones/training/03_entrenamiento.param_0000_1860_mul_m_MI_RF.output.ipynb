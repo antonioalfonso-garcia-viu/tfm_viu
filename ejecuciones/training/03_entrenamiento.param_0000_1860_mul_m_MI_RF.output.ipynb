{
 "cells": [
  {
   "cell_type": "markdown",
   "id": "f42747dd",
   "metadata": {
    "papermill": {
     "duration": 0.002097,
     "end_time": "2023-10-29T23:09:17.902203",
     "exception": false,
     "start_time": "2023-10-29T23:09:17.900106",
     "status": "completed"
    },
    "tags": []
   },
   "source": [
    "##### Inicio"
   ]
  },
  {
   "cell_type": "markdown",
   "id": "4039fa54",
   "metadata": {
    "papermill": {
     "duration": 0.0,
     "end_time": "2023-10-29T23:09:17.902203",
     "exception": false,
     "start_time": "2023-10-29T23:09:17.902203",
     "status": "completed"
    },
    "tags": []
   },
   "source": [
    "#### Carga de datos"
   ]
  },
  {
   "cell_type": "code",
   "execution_count": 1,
   "id": "3de55490",
   "metadata": {
    "execution": {
     "iopub.execute_input": "2023-10-29T23:09:17.916290Z",
     "iopub.status.busy": "2023-10-29T23:09:17.916290Z",
     "iopub.status.idle": "2023-10-29T23:09:19.089923Z",
     "shell.execute_reply": "2023-10-29T23:09:19.089923Z"
    },
    "papermill": {
     "duration": 1.173633,
     "end_time": "2023-10-29T23:09:19.089923",
     "exception": false,
     "start_time": "2023-10-29T23:09:17.916290",
     "status": "completed"
    },
    "tags": []
   },
   "outputs": [
    {
     "name": "stdout",
     "output_type": "stream",
     "text": [
      "CPU_COUNT: 24; NODE: amilcar32; sys.version: 3.10.12 | packaged by Anaconda, Inc. | (main, Jul  5 2023, 19:09:20) [MSC v.1916 64 bit (AMD64)]\n",
      "LOKY_MAX_CPU_COUNT is not set.\n",
      "OMP_NUM_THREADS is not set.\n"
     ]
    }
   ],
   "source": [
    "import os\n",
    "import numpy as np\n",
    "import pandas as pd\n",
    "import datetime\n",
    "import sklearn\n",
    "import logging\n",
    "import warnings\n",
    "\n",
    "from sklearn.pipeline import Pipeline\n",
    "from sklearn.model_selection import RandomizedSearchCV, KFold, cross_val_score, train_test_split\n",
    "from sklearn.metrics import accuracy_score, confusion_matrix, classification_report, roc_auc_score\n",
    "\n",
    "#  cargar algoritmos para aprendizaje supervisado\n",
    "from sklearn.feature_selection import SelectKBest, f_classif, SelectFromModel, mutual_info_classif\n",
    "from sklearn.svm import SVC\n",
    "from sklearn.ensemble import RandomForestClassifier\n",
    "from sklearn.linear_model import LogisticRegression,LogisticRegressionCV\n",
    "\n",
    "# importar fichero con utilidades propias\n",
    "from commons import myfunctions as myfunc\n"
   ]
  },
  {
   "cell_type": "markdown",
   "id": "cb30ac2f",
   "metadata": {
    "papermill": {
     "duration": 0.010087,
     "end_time": "2023-10-29T23:09:19.104980",
     "exception": false,
     "start_time": "2023-10-29T23:09:19.094893",
     "status": "completed"
    },
    "tags": []
   },
   "source": [
    "#### Parámetros a utilizar en el entrenamiento.\n",
    "\n",
    "Se indican los 3 algoritmos de *selección de características* (eval_selector_xxx) y los 3 algoritmos para la _clasificación_ (eval_clasifier_xxx)\n",
    "\n",
    "En *param_distributions* se indicar los parámetros que utilizan los algoritmos en la función RandomSearchCV.\n",
    "\n",
    "Esta celda tiene la etiqueta **parameters** que servirá para poder lanzar los entrenamientos con la utilidad **papermill** pasándole un fichero con los parámetros. Los nuevos parámetros se situarán tras esta celda para tener prevalencia."
   ]
  },
  {
   "cell_type": "code",
   "execution_count": 2,
   "id": "7ac771f1",
   "metadata": {
    "execution": {
     "iopub.execute_input": "2023-10-29T23:09:19.106038Z",
     "iopub.status.busy": "2023-10-29T23:09:19.106038Z",
     "iopub.status.idle": "2023-10-29T23:09:19.137532Z",
     "shell.execute_reply": "2023-10-29T23:09:19.137532Z"
    },
    "papermill": {
     "duration": 0.031494,
     "end_time": "2023-10-29T23:09:19.137532",
     "exception": false,
     "start_time": "2023-10-29T23:09:19.106038",
     "status": "completed"
    },
    "tags": [
     "parameters"
    ]
   },
   "outputs": [
    {
     "name": "stdout",
     "output_type": "stream",
     "text": [
      "20231030T000919 : amilcar32 : INFO : Utilizando parámetros de mul_m\n"
     ]
    }
   ],
   "source": [
    "#  Parametros para el entrenamiento\n",
    "\n",
    "SEMILLA=        42\n",
    "M_TIPO=         \"mul_m\"\n",
    "M_SELECT=       \"MI\"\n",
    "M_CLASIF=       \"SVM\"\n",
    "R_FICHERO=      \"resultados\"\n",
    "M_FICHERO=      \"metricas\"\n",
    "PRE_DATA_FILE=  \"rows_transpose_norm_by_gene_id_with_target_num_\"\n",
    "SCORING=        \"roc_auc_ovr\" \n",
    "MAX_ITERS=      100\n",
    "\n",
    "def mutual_info_classif_state(X, y):\n",
    "    return mutual_info_classif(X, y, random_state=SEMILLA)\n",
    "\n",
    "eval_selector_mi = \"SelectKBest(score_func=mutual_info_classif_state)\"\n",
    "eval_selector_rf=  \"SelectFromModel(estimator=RandomForestClassifier(random_state=SEMILLA), threshold=-np.inf)\"\n",
    "eval_selector_anova=  \"SelectKBest(score_func=f_classif)\"\n",
    "\n",
    "eval_clasifier_svm= \"SVC(probability=True, random_state=SEMILLA)\"\n",
    "eval_clasifier_rf= \"RandomForestClassifier(random_state=SEMILLA)\"\n",
    "eval_clasifier_lr= \"LogisticRegressionCV(random_state=SEMILLA)\"\n",
    "\n",
    "if M_TIPO.startswith(\"bin_m\"):\n",
    "    myfunc.verbose(f\"Utilizando parámetros de {M_TIPO}\")\n",
    "    eval_selector = eval_selector_mi\n",
    "    eval_clasifier = eval_clasifier_svm\n",
    "\n",
    "    SEMILLA = 6578\n",
    "    M_SELECT = \"MI\"\n",
    "    M_CLASIF = \"SVM\"\n",
    "    param_distributions = {'selector__k': [1000], \n",
    "         'clasifier__kernel': ['rbf'], 'clasifier__gamma': [0.01], 'clasifier__C': [100]}\n",
    "elif M_TIPO.startswith(\"bin_s\"):\n",
    "    myfunc.verbose(f\"Utilizando parámetros de {M_TIPO}\")\n",
    "    eval_selector = eval_selector_rf\n",
    "    eval_clasifier = eval_clasifier_lr\n",
    "\n",
    "    SEMILLA = 6191\n",
    "    M_SELECT = \"RF\"\n",
    "    M_CLASIF = \"LR_L2\"\n",
    "    param_distributions = {'selector__max_features': [1000], 'selector__estimator__n_estimators': [200], \n",
    "        'clasifier__solver': ['lbfgs'], 'clasifier__penalty': ['l2'], 'clasifier__max_iter': [10000]}\n",
    "\n",
    "elif M_TIPO.startswith(\"mul_m\"):\n",
    "    myfunc.verbose(f\"Utilizando parámetros de {M_TIPO}\")\n",
    " \n",
    "    eval_selector = eval_selector_rf\n",
    "    eval_clasifier = eval_clasifier_lr\n",
    "\n",
    "    SEMILLA = 6191\n",
    "    M_SELECT = \"RF\"\n",
    "    M_CLASIF = \"LR_L2\"\n",
    "    param_distributions = {'selector__max_features': [1000], 'selector__estimator__n_estimators': [400], \n",
    "        'clasifier__solver': ['lbfgs'], 'clasifier__penalty': ['l2'], 'clasifier__max_iter': [10000]}\n",
    "\n",
    "else:\n",
    "    # M_TIPO.startswith(\"mul_s\"):\n",
    "    myfunc.verbose(f\"Utilizando parámetros de {M_TIPO}\")\n",
    "    eval_selector = eval_selector_anova\n",
    "    eval_clasifier = eval_clasifier_lr\n",
    "\n",
    "    SEMILLA = 1860\n",
    "    M_SELECT = \"ANOVA\"\n",
    "    M_CLASIF = \"LR_L2\"\n",
    "    param_distributions = {'selector__k': [1000], \n",
    "        'clasifier__solver': ['saga'], 'clasifier__penalty': ['l2'], 'clasifier__max_iter': [10000]}\n",
    "\n"
   ]
  },
  {
   "cell_type": "code",
   "execution_count": 3,
   "id": "52db5ae4",
   "metadata": {
    "execution": {
     "iopub.execute_input": "2023-10-29T23:09:19.153003Z",
     "iopub.status.busy": "2023-10-29T23:09:19.153003Z",
     "iopub.status.idle": "2023-10-29T23:09:19.168788Z",
     "shell.execute_reply": "2023-10-29T23:09:19.168788Z"
    },
    "papermill": {
     "duration": 0.031256,
     "end_time": "2023-10-29T23:09:19.168788",
     "exception": false,
     "start_time": "2023-10-29T23:09:19.137532",
     "status": "completed"
    },
    "tags": [
     "injected-parameters"
    ]
   },
   "outputs": [],
   "source": [
    "# Parameters\n",
    "M_TIPO = \"mul_m\"\n",
    "M_SELECT = \"MI\"\n",
    "M_CLASIF = \"RF\"\n",
    "P_FICHERO = \"param_0000_1860_mul_m_MI_RF.yaml\"\n",
    "R_FICHERO = \"resultados_1860\"\n",
    "M_FICHERO = \"metricas_1860\"\n",
    "PRE_DATA_FILE = \"rows_transpose_norm_by_gene_id_with_target_num_\"\n",
    "SCORING = \"roc_auc_ovr\"\n",
    "SEMILLA = 1860\n",
    "MAX_ITERS = 500\n",
    "eval_selector = \"SelectKBest(score_func=mutual_info_classif_state)\"\n",
    "eval_clasifier = \"RandomForestClassifier(random_state=SEMILLA)\"\n",
    "param_distributions = {\n",
    "    \"selector__k\": [1000],\n",
    "    \"clasifier__n_estimators\": [200],\n",
    "    \"clasifier__min_samples_split\": [10],\n",
    "    \"clasifier__min_samples_leaf\": [5],\n",
    "    \"clasifier__max_features\": [500],\n",
    "    \"clasifier__max_depth\": [10],\n",
    "    \"clasifier__bootstrap\": [True],\n",
    "}\n"
   ]
  },
  {
   "cell_type": "code",
   "execution_count": 4,
   "id": "9779e4ee",
   "metadata": {
    "execution": {
     "iopub.execute_input": "2023-10-29T23:09:19.184194Z",
     "iopub.status.busy": "2023-10-29T23:09:19.184194Z",
     "iopub.status.idle": "2023-10-29T23:09:19.199879Z",
     "shell.execute_reply": "2023-10-29T23:09:19.199879Z"
    },
    "papermill": {
     "duration": 0.031091,
     "end_time": "2023-10-29T23:09:19.199879",
     "exception": false,
     "start_time": "2023-10-29T23:09:19.168788",
     "status": "completed"
    },
    "tags": []
   },
   "outputs": [],
   "source": [
    "DATA_FILE = PRE_DATA_FILE + M_TIPO\n",
    "\n",
    "# si viene \"None\" en el parámetro max_depth, se le quitan las comillas para que no sea entendido por el algoritmo como un texto\n",
    "if \"clasifier__max_depth\" in param_distributions:\n",
    "    param_distributions['clasifier__max_depth'] = [None if x == 'None' else x for x in param_distributions['clasifier__max_depth']]"
   ]
  },
  {
   "cell_type": "markdown",
   "id": "fbd283bd",
   "metadata": {
    "papermill": {
     "duration": 0.0,
     "end_time": "2023-10-29T23:09:19.199879",
     "exception": false,
     "start_time": "2023-10-29T23:09:19.199879",
     "status": "completed"
    },
    "tags": []
   },
   "source": [
    "Asignar los algoritmos que se utilizarán en la función RandomSearchCV"
   ]
  },
  {
   "cell_type": "code",
   "execution_count": 5,
   "id": "c7585bf2",
   "metadata": {
    "execution": {
     "iopub.execute_input": "2023-10-29T23:09:19.218325Z",
     "iopub.status.busy": "2023-10-29T23:09:19.218325Z",
     "iopub.status.idle": "2023-10-29T23:09:19.231620Z",
     "shell.execute_reply": "2023-10-29T23:09:19.231620Z"
    },
    "papermill": {
     "duration": 0.013295,
     "end_time": "2023-10-29T23:09:19.231620",
     "exception": false,
     "start_time": "2023-10-29T23:09:19.218325",
     "status": "completed"
    },
    "tags": []
   },
   "outputs": [],
   "source": [
    "algor_selector=eval(eval_selector)\n",
    "algor_clasifier=eval(eval_clasifier)"
   ]
  },
  {
   "cell_type": "markdown",
   "id": "96481438",
   "metadata": {
    "papermill": {
     "duration": 0.0,
     "end_time": "2023-10-29T23:09:19.231620",
     "exception": false,
     "start_time": "2023-10-29T23:09:19.231620",
     "status": "completed"
    },
    "tags": []
   },
   "source": [
    "#### Comprobar el entorno y leer fichero de muestras"
   ]
  },
  {
   "cell_type": "code",
   "execution_count": 6,
   "id": "e7777ca1",
   "metadata": {
    "execution": {
     "iopub.execute_input": "2023-10-29T23:09:19.231620Z",
     "iopub.status.busy": "2023-10-29T23:09:19.231620Z",
     "iopub.status.idle": "2023-10-29T23:09:19.419422Z",
     "shell.execute_reply": "2023-10-29T23:09:19.419422Z"
    },
    "papermill": {
     "duration": 0.187802,
     "end_time": "2023-10-29T23:09:19.419422",
     "exception": false,
     "start_time": "2023-10-29T23:09:19.231620",
     "status": "completed"
    },
    "tags": []
   },
   "outputs": [
    {
     "name": "stdout",
     "output_type": "stream",
     "text": [
      "20231030T000919 : amilcar32 : INFO : Encontrada carpeta DATA_DIR=..\\tfm_viu\\datos\n",
      "20231030T000919 : amilcar32 : INFO : Encontrada carpeta CFDNA_DIR=..\\tfm_viu\\datos\\cfDNA_5hmC\n",
      "20231030T000919 : amilcar32 : INFO : Encontrada carpeta GENCODE_DIR=..\\tfm_viu\\datos\\gencode\n",
      "20231030T000919 : amilcar32 : INFO : Encontrada carpeta H5_DIR=..\\tfm_viu\\datos\\h5\n",
      "20231030T000919 : amilcar32 : INFO : Encontrada carpeta LOG_DIR=..\\tfm_viu\\datos\\logs\n",
      "20231030T000919 : amilcar32 : INFO : Encontrada carpeta CSV_DIR=..\\tfm_viu\\datos\\csv\n",
      "20231030T000919 : amilcar32 : INFO : Encontrada carpeta MODEL_DIR=..\\tfm_viu\\ejecuciones\\modelos\n",
      "20231030T000919 : amilcar32 : INFO : Encontrada carpeta EXEC_DIR=..\\tfm_viu\\ejecuciones\n",
      "20231030T000919 : amilcar32 : INFO : Encontrada carpeta MET_DIR=..\\tfm_viu\\ejecuciones\\metricas\n",
      "20231030T000919 : amilcar32 : INFO : Inicio leer fichero h5 ..\\tfm_viu\\datos\\h5\\rows_transpose_norm_by_gene_id_with_target_num_mul_m.h5\n",
      "20231030T000919 : amilcar32 : INFO : Leyendo clave /df\n"
     ]
    },
    {
     "name": "stdout",
     "output_type": "stream",
     "text": [
      "20231030T000919 : amilcar32 : INFO : Tamaño (434, 18876)\n",
      "20231030T000919 : amilcar32 : INFO : Fin leer fichero h5 ..\\tfm_viu\\datos\\h5\\rows_transpose_norm_by_gene_id_with_target_num_mul_m.h5\n"
     ]
    },
    {
     "data": {
      "text/plain": [
       "target\n",
       "0    62\n",
       "1    62\n",
       "2    62\n",
       "3    62\n",
       "4    62\n",
       "5    62\n",
       "6    62\n",
       "dtype: int64"
      ]
     },
     "metadata": {},
     "output_type": "display_data"
    },
    {
     "name": "stdout",
     "output_type": "stream",
     "text": [
      "Shape df: (434, 18876)\n",
      "Shape X_train: (347, 18875)\n",
      "Shape X_test: (87, 18875)\n"
     ]
    }
   ],
   "source": [
    "start_time = datetime.datetime.now()\n",
    "\n",
    "myfunc.reset_vars()\n",
    "\n",
    "myfunc.NOTEBK_FILENAME = myfunc.get_nb_name()\n",
    "\n",
    "myfunc.check_enviroment(myfunc.DATA_DIR, myfunc.CFDNA_DIR, myfunc.GENCODE_DIR, myfunc.H5_DIR, myfunc.LOG_DIR, myfunc.CSV_DIR, myfunc.MODEL_DIR, myfunc.EXEC_DIR, myfunc.MET_DIR)\n",
    "\n",
    "# Leer fichero con las muestras\n",
    "df_t = myfunc.read_h5_to_df(DATA_FILE, myfunc.H5_DIR)\n",
    "display(df_t.groupby(\"target\").size())\n",
    "print(\"Shape df:\",df_t.shape)\n",
    "\n",
    "# Separar caracteristicas/genes de las etiquetas/tipos de cáncer\n",
    "X = df_t.iloc[:, :-1]  # Todas las columnas excepto la última\n",
    "y = df_t.iloc[:, -1]  # La última columna contiene los identificadores de los tipos de cáncer\n",
    "\n",
    "#  Crear el conjunto de datos de entrenamiento y de pruebas, y se fija la semilla para siempre coger el mismo juego de muestras\n",
    "X_train, X_test, y_train, y_test = train_test_split(X, y, test_size=0.2, shuffle=True, random_state=42)\n",
    "print(\"Shape X_train:\",X_train.shape)\n",
    "print(\"Shape X_test:\",X_test.shape)\n"
   ]
  },
  {
   "cell_type": "markdown",
   "id": "e63c2f76",
   "metadata": {
    "papermill": {
     "duration": 0.015426,
     "end_time": "2023-10-29T23:09:19.529591",
     "exception": false,
     "start_time": "2023-10-29T23:09:19.514165",
     "status": "completed"
    },
    "tags": []
   },
   "source": [
    "#### Selección de características y clasificación."
   ]
  },
  {
   "cell_type": "code",
   "execution_count": 7,
   "id": "08de432b",
   "metadata": {
    "execution": {
     "iopub.execute_input": "2023-10-29T23:09:19.529591Z",
     "iopub.status.busy": "2023-10-29T23:09:19.529591Z",
     "iopub.status.idle": "2023-10-29T23:15:45.466100Z",
     "shell.execute_reply": "2023-10-29T23:15:45.466100Z"
    },
    "papermill": {
     "duration": 385.936509,
     "end_time": "2023-10-29T23:15:45.466100",
     "exception": false,
     "start_time": "2023-10-29T23:09:19.529591",
     "status": "completed"
    },
    "tags": []
   },
   "outputs": [
    {
     "name": "stdout",
     "output_type": "stream",
     "text": [
      "20231030T000919 : amilcar32 : INFO : Iniciando entrenamiento\n",
      "num_iter: 1 , max_iter: 1\n"
     ]
    },
    {
     "name": "stdout",
     "output_type": "stream",
     "text": [
      "Fitting 5 folds for each of 1 candidates, totalling 5 fits\n"
     ]
    },
    {
     "name": "stdout",
     "output_type": "stream",
     "text": [
      "Mejores Hiperparámetros: {'selector__k': 1000, 'clasifier__n_estimators': 200, 'clasifier__min_samples_split': 10, 'clasifier__min_samples_leaf': 5, 'clasifier__max_features': 500, 'clasifier__max_depth': 10, 'clasifier__bootstrap': True}\n",
      "Mejor Puntuación: 0.8190\n",
      "20231030T001545 : amilcar32 : INFO : Fin entrenamiento\n"
     ]
    }
   ],
   "source": [
    "myfunc.verbose(\"Iniciando entrenamiento\")\n",
    "\n",
    "kf = KFold(n_splits=5, shuffle=True, random_state=SEMILLA)\n",
    "\n",
    "# Crear el pipeline para el flujo de tareas\n",
    "tasks_pipeline = Pipeline([\n",
    "    ('selector', algor_selector),\n",
    "    ('clasifier', algor_clasifier)\n",
    "])\n",
    "\n",
    "# MAX_ITERS puede limitar el número de iteraciones si son excesivas para las combinaciones de parámetros buscando un óptimo local, \n",
    "# sino funcionaría como GridSearchCV al revisar todas las cominaciones de los parámetros\n",
    "num_iteraciones = 1\n",
    "num_iteraciones = num_iteraciones * np.prod([len(elemento1) for _, elemento1 in param_distributions.items()])\n",
    "max_iteraciones = num_iteraciones if num_iteraciones <= MAX_ITERS else MAX_ITERS\n",
    "print(\"num_iter:\",num_iteraciones,\", max_iter:\",max_iteraciones)\n",
    "\n",
    "random_search = RandomizedSearchCV(\n",
    "    tasks_pipeline, \n",
    "    param_distributions, \n",
    "    n_iter=max_iteraciones,\n",
    "    scoring=SCORING,\n",
    "    cv=kf,\n",
    "    verbose=3, \n",
    "    random_state=SEMILLA, \n",
    "    n_jobs=-1\n",
    "    )\n",
    "\n",
    "# Entrenar el modelo\n",
    "random_search.fit(X_train, y_train)\n",
    "\n",
    "# Ver los mejores hiperparámetros encontrados\n",
    "print(f'Mejores Hiperparámetros: {random_search.best_params_}')\n",
    "print(f'Mejor Puntuación: {random_search.best_score_:.4f}')\n",
    "\n",
    "# Nos quedamos con el mejor modelo para ver las métricas\n",
    "mejor_modelo = random_search.best_estimator_\n",
    "\n",
    "myfunc.verbose(\"Fin entrenamiento\")"
   ]
  },
  {
   "cell_type": "markdown",
   "id": "921c7437",
   "metadata": {
    "papermill": {
     "duration": 0.0,
     "end_time": "2023-10-29T23:15:45.481738",
     "exception": false,
     "start_time": "2023-10-29T23:15:45.481738",
     "status": "completed"
    },
    "tags": []
   },
   "source": [
    "#### Guardar modelo"
   ]
  },
  {
   "cell_type": "code",
   "execution_count": 8,
   "id": "26b8851b",
   "metadata": {
    "execution": {
     "iopub.execute_input": "2023-10-29T23:15:45.497348Z",
     "iopub.status.busy": "2023-10-29T23:15:45.497348Z",
     "iopub.status.idle": "2023-10-29T23:15:45.700568Z",
     "shell.execute_reply": "2023-10-29T23:15:45.700568Z"
    },
    "papermill": {
     "duration": 0.21883,
     "end_time": "2023-10-29T23:15:45.700568",
     "exception": false,
     "start_time": "2023-10-29T23:15:45.481738",
     "status": "completed"
    },
    "tags": []
   },
   "outputs": [
    {
     "name": "stdout",
     "output_type": "stream",
     "text": [
      "20231030T001545 : amilcar32 : INFO : Inicio guardar fichero ..\\tfm_viu\\ejecuciones\\modelos\\modelo_1860_mul_m_MI_RF.pkl\n"
     ]
    },
    {
     "name": "stdout",
     "output_type": "stream",
     "text": [
      "20231030T001545 : amilcar32 : INFO : Fin guardar fichero ..\\tfm_viu\\ejecuciones\\modelos\\modelo_1860_mul_m_MI_RF.pkl\n"
     ]
    }
   ],
   "source": [
    "fichero_modelo = str.replace(\"modelo_\"+str(SEMILLA).zfill(4)+\"_\"+M_TIPO+\"_\"+M_SELECT+\"_\"+M_CLASIF+\".pkl\", \" \", \"_\")\n",
    "\n",
    "myfunc.save_modelo(mejor_modelo, myfunc.MODEL_DIR, fichero_modelo)"
   ]
  },
  {
   "cell_type": "markdown",
   "id": "71f14a70",
   "metadata": {
    "papermill": {
     "duration": 0.015621,
     "end_time": "2023-10-29T23:15:45.731727",
     "exception": false,
     "start_time": "2023-10-29T23:15:45.716106",
     "status": "completed"
    },
    "tags": []
   },
   "source": [
    "#### Ver resultados del las iteraciones hechas por RandomSearchCV"
   ]
  },
  {
   "cell_type": "code",
   "execution_count": 9,
   "id": "df485108",
   "metadata": {
    "execution": {
     "iopub.execute_input": "2023-10-29T23:15:45.747347Z",
     "iopub.status.busy": "2023-10-29T23:15:45.747347Z",
     "iopub.status.idle": "2023-10-29T23:15:45.763004Z",
     "shell.execute_reply": "2023-10-29T23:15:45.763004Z"
    },
    "papermill": {
     "duration": 0.031277,
     "end_time": "2023-10-29T23:15:45.763004",
     "exception": false,
     "start_time": "2023-10-29T23:15:45.731727",
     "status": "completed"
    },
    "tags": []
   },
   "outputs": [
    {
     "name": "stdout",
     "output_type": "stream",
     "text": [
      "20231030T001545 : amilcar32 : INFO : Inicio ver resultados\n",
      "Mejores Hiperparámetros: {'selector__k': 1000, 'clasifier__n_estimators': 200, 'clasifier__min_samples_split': 10, 'clasifier__min_samples_leaf': 5, 'clasifier__max_features': 500, 'clasifier__max_depth': 10, 'clasifier__bootstrap': True}\n",
      "Mejores puntuaciones: 0.8190 | Params: {'selector__k': 1000, 'clasifier__n_estimators': 200, 'clasifier__min_samples_split': 10, 'clasifier__min_samples_leaf': 5, 'clasifier__max_features': 500, 'clasifier__max_depth': 10, 'clasifier__bootstrap': True}\n",
      "Media de las puntuaciones: 0.8190 | Params: {'selector__k': 1000, 'clasifier__n_estimators': 200, 'clasifier__min_samples_split': 10, 'clasifier__min_samples_leaf': 5, 'clasifier__max_features': 500, 'clasifier__max_depth': 10, 'clasifier__bootstrap': True}\n",
      "20231030T001545 : amilcar32 : INFO : Fin resultados\n"
     ]
    }
   ],
   "source": [
    "myfunc.ver_resultados_search(random_search)"
   ]
  },
  {
   "cell_type": "markdown",
   "id": "2aac7f58",
   "metadata": {
    "papermill": {
     "duration": 0.015621,
     "end_time": "2023-10-29T23:15:45.794233",
     "exception": false,
     "start_time": "2023-10-29T23:15:45.778612",
     "status": "completed"
    },
    "tags": []
   },
   "source": [
    "#### Ver métricas del mejor modelo"
   ]
  },
  {
   "cell_type": "code",
   "execution_count": 10,
   "id": "2e14d604",
   "metadata": {
    "execution": {
     "iopub.execute_input": "2023-10-29T23:15:45.809842Z",
     "iopub.status.busy": "2023-10-29T23:15:45.809842Z",
     "iopub.status.idle": "2023-10-29T23:15:47.156624Z",
     "shell.execute_reply": "2023-10-29T23:15:47.156624Z"
    },
    "papermill": {
     "duration": 1.362391,
     "end_time": "2023-10-29T23:15:47.156624",
     "exception": false,
     "start_time": "2023-10-29T23:15:45.794233",
     "status": "completed"
    },
    "tags": []
   },
   "outputs": [
    {
     "name": "stdout",
     "output_type": "stream",
     "text": [
      "20231030T001545 : amilcar32 : INFO : Inicio ver métricas multiclase\n"
     ]
    },
    {
     "name": "stdout",
     "output_type": "stream",
     "text": [
      "              precision    recall  f1-score   support\n",
      "\n",
      "           0       0.40      0.12      0.19        16\n",
      "           1       0.53      0.60      0.56        15\n",
      "           2       0.33      0.27      0.30        11\n",
      "           3       0.27      0.80      0.40         5\n",
      "           4       0.48      0.77      0.59        13\n",
      "           5       0.57      0.44      0.50         9\n",
      "           6       0.69      0.50      0.58        18\n",
      "\n",
      "    accuracy                           0.47        87\n",
      "   macro avg       0.47      0.50      0.45        87\n",
      "weighted avg       0.50      0.47      0.45        87\n",
      "\n",
      "\n",
      "\n",
      "           Exactitud: 0.471264\n",
      "   Precisión (media): 0.467048\n",
      "      Recall (media): 0.501629\n",
      "    F1-score (media): 0.445980\n",
      "\n",
      "\n",
      "AUC para el tipo de cáncer 0-Control.... 0.5933\n",
      "AUC para el tipo de cáncer 1-Bladder.... 0.8491\n",
      "AUC para el tipo de cáncer 2-Breast..... 0.7524\n",
      "AUC para el tipo de cáncer 3-Colorectal. 0.8854\n",
      "AUC para el tipo de cáncer 4-Kidney..... 0.8285\n",
      "AUC para el tipo de cáncer 5-Lung....... 0.8419\n",
      "AUC para el tipo de cáncer 6-Prostate... 0.8164\n",
      "\n",
      "Media de AUC: 0.7953\n"
     ]
    },
    {
     "data": {
      "image/png": "[encoded data removed]",
      "text/plain": [
       "<Figure size 1000x600 with 1 Axes>"
      ]
     },
     "metadata": {},
     "output_type": "display_data"
    },
    {
     "name": "stdout",
     "output_type": "stream",
     "text": [
      "\n",
      "\n"
     ]
    },
    {
     "data": {
      "image/png": "[encoded data removed]",
      "text/plain": [
       "<Figure size 800x400 with 2 Axes>"
      ]
     },
     "metadata": {},
     "output_type": "display_data"
    },
    {
     "name": "stdout",
     "output_type": "stream",
     "text": [
      "\n",
      "\n",
      "Puntuación Jaccard para el cáncer tipo 0-Control.... 0.1053\n",
      "Puntuación Jaccard para el cáncer tipo 1-Bladder.... 0.3913\n",
      "Puntuación Jaccard para el cáncer tipo 2-Breast..... 0.1765\n",
      "Puntuación Jaccard para el cáncer tipo 3-Colorectal. 0.2500\n",
      "Puntuación Jaccard para el cáncer tipo 4-Kidney..... 0.4167\n",
      "Puntuación Jaccard para el cáncer tipo 5-Lung....... 0.3333\n",
      "Puntuación Jaccard para el cáncer tipo 6-Prostate... 0.4091\n",
      "\n",
      "Media de la puntuación de Jaccard: 0.2974\n"
     ]
    }
   ],
   "source": [
    "if M_TIPO.startswith(\"bin\"):\n",
    "    myfunc.ver_metricas(mejor_modelo, X_test, y_test)\n",
    "else:\n",
    "    myfunc.ver_metricas_multi(mejor_modelo, X_test, y_test)\n"
   ]
  },
  {
   "cell_type": "markdown",
   "id": "ea613d01",
   "metadata": {
    "papermill": {
     "duration": 0.015692,
     "end_time": "2023-10-29T23:15:47.172316",
     "exception": false,
     "start_time": "2023-10-29T23:15:47.156624",
     "status": "completed"
    },
    "tags": []
   },
   "source": [
    "#### Finalización del notebook"
   ]
  },
  {
   "cell_type": "code",
   "execution_count": 11,
   "id": "b8cb70f1",
   "metadata": {
    "execution": {
     "iopub.execute_input": "2023-10-29T23:15:47.203897Z",
     "iopub.status.busy": "2023-10-29T23:15:47.203897Z",
     "iopub.status.idle": "2023-10-29T23:15:47.219709Z",
     "shell.execute_reply": "2023-10-29T23:15:47.219709Z"
    },
    "papermill": {
     "duration": 0.031767,
     "end_time": "2023-10-29T23:15:47.219709",
     "exception": false,
     "start_time": "2023-10-29T23:15:47.187942",
     "status": "completed"
    },
    "tags": []
   },
   "outputs": [
    {
     "name": "stdout",
     "output_type": "stream",
     "text": [
      "20231030T001547 : amilcar32 : INFO : Notebook ha tardado 387 seconds\n"
     ]
    }
   ],
   "source": [
    "end_time = datetime.datetime.now()\n",
    "total_time = end_time - start_time\n",
    "myfunc.verbose(f\"Notebook ha tardado {total_time.seconds} seconds\")"
   ]
  },
  {
   "cell_type": "markdown",
   "id": "5a13cdb4",
   "metadata": {
    "papermill": {
     "duration": 0.015459,
     "end_time": "2023-10-29T23:15:47.235168",
     "exception": false,
     "start_time": "2023-10-29T23:15:47.219709",
     "status": "completed"
    },
    "tags": []
   },
   "source": [
    "#### Guardar métricas"
   ]
  },
  {
   "cell_type": "code",
   "execution_count": 12,
   "id": "8788032a",
   "metadata": {
    "execution": {
     "iopub.execute_input": "2023-10-29T23:15:47.266477Z",
     "iopub.status.busy": "2023-10-29T23:15:47.266477Z",
     "iopub.status.idle": "2023-10-29T23:15:47.752637Z",
     "shell.execute_reply": "2023-10-29T23:15:47.752637Z"
    },
    "papermill": {
     "duration": 0.501761,
     "end_time": "2023-10-29T23:15:47.752637",
     "exception": false,
     "start_time": "2023-10-29T23:15:47.250876",
     "status": "completed"
    },
    "tags": []
   },
   "outputs": [
    {
     "name": "stdout",
     "output_type": "stream",
     "text": [
      "20231030T001547 : amilcar32 : INFO : Inicio guardar métricas multiclase\n",
      "20231030T001547 : amilcar32 : INFO : Inicio leer fichero ..\\tfm_viu\\ejecuciones\\metricas\\metricas_1860.csv\n",
      "20231030T001547 : amilcar32 : INFO : Fin leer fichero ..\\tfm_viu\\ejecuciones\\metricas\\metricas_1860.csv\n"
     ]
    },
    {
     "name": "stdout",
     "output_type": "stream",
     "text": [
      "20231030T001547 : amilcar32 : INFO : Inicio guardar fichero ..\\tfm_viu\\ejecuciones\\metricas\\metricas_1860.csv\n",
      "20231030T001547 : amilcar32 : INFO : Fichero borrado ..\\tfm_viu\\ejecuciones\\metricas\\metricas_1860.csv\n",
      "20231030T001547 : amilcar32 : INFO : Fin guardar fichero ..\\tfm_viu\\ejecuciones\\metricas\\metricas_1860.csv\n",
      "20231030T001547 : amilcar32 : INFO : Fin guardar métricas multiclase\n",
      "20231030T001547 : amilcar32 : INFO : Inicio leer fichero ..\\tfm_viu\\ejecuciones\\metricas\\metricas_1860.csv\n",
      "20231030T001547 : amilcar32 : INFO : Fin leer fichero ..\\tfm_viu\\ejecuciones\\metricas\\metricas_1860.csv\n"
     ]
    },
    {
     "data": {
      "text/html": [
       "<div>\n",
       "<style scoped>\n",
       "    .dataframe tbody tr th:only-of-type {\n",
       "        vertical-align: middle;\n",
       "    }\n",
       "\n",
       "    .dataframe tbody tr th {\n",
       "        vertical-align: top;\n",
       "    }\n",
       "\n",
       "    .dataframe thead th {\n",
       "        text-align: right;\n",
       "    }\n",
       "</style>\n",
       "<table border=\"1\" class=\"dataframe\">\n",
       "  <thead>\n",
       "    <tr style=\"text-align: right;\">\n",
       "      <th></th>\n",
       "      <th>tipo</th>\n",
       "      <th>select</th>\n",
       "      <th>clasific</th>\n",
       "      <th>semilla</th>\n",
       "      <th>accuracy</th>\n",
       "      <th>precision</th>\n",
       "      <th>recall</th>\n",
       "      <th>f1_score</th>\n",
       "      <th>roc_auc</th>\n",
       "      <th>hostname</th>\n",
       "      <th>total_time_sec</th>\n",
       "      <th>datetime</th>\n",
       "      <th>fichero_modelo</th>\n",
       "      <th>params</th>\n",
       "      <th>shape</th>\n",
       "      <th>features</th>\n",
       "      <th>roc_auc_ovr</th>\n",
       "      <th>indices_auc</th>\n",
       "      <th>indices_jaccard</th>\n",
       "    </tr>\n",
       "  </thead>\n",
       "  <tbody>\n",
       "    <tr>\n",
       "      <th>0</th>\n",
       "      <td>mul_m</td>\n",
       "      <td>MI</td>\n",
       "      <td>RF</td>\n",
       "      <td>1860</td>\n",
       "      <td>0.471264</td>\n",
       "      <td>0.467048</td>\n",
       "      <td>0.501629</td>\n",
       "      <td>0.445980</td>\n",
       "      <td>NaN</td>\n",
       "      <td>amilcar32</td>\n",
       "      <td>387</td>\n",
       "      <td>2023-10-30 00:15:47.658693</td>\n",
       "      <td>modelo_1860_mul_m_MI_RF.pkl</td>\n",
       "      <td>{'selector__k': 1000, 'clasifier__n_estimators...</td>\n",
       "      <td>X_test:(87, 18875)</td>\n",
       "      <td>['ENSG00000001084.13', 'ENSG00000001460.18', '...</td>\n",
       "      <td>0.795276</td>\n",
       "      <td>[0.5933098591549295, 0.8490740740740741, 0.752...</td>\n",
       "      <td>[0.10526315789473684, 0.391304347826087, 0.176...</td>\n",
       "    </tr>\n",
       "    <tr>\n",
       "      <th>0</th>\n",
       "      <td>mul_m</td>\n",
       "      <td>MI</td>\n",
       "      <td>LR_L2</td>\n",
       "      <td>1860</td>\n",
       "      <td>0.597701</td>\n",
       "      <td>0.594024</td>\n",
       "      <td>0.587465</td>\n",
       "      <td>0.581919</td>\n",
       "      <td>NaN</td>\n",
       "      <td>amilcar32</td>\n",
       "      <td>340</td>\n",
       "      <td>2023-10-30 00:09:14.143402</td>\n",
       "      <td>modelo_1860_mul_m_MI_LR_L2.pkl</td>\n",
       "      <td>{'selector__k': 1000, 'clasifier__solver': 'lb...</td>\n",
       "      <td>X_test:(87, 18875)</td>\n",
       "      <td>['ENSG00000001084.13', 'ENSG00000001460.18', '...</td>\n",
       "      <td>0.893220</td>\n",
       "      <td>[0.8899647887323943, 0.8768518518518519, 0.819...</td>\n",
       "      <td>[0.5263157894736842, 0.4, 0.17647058823529413,...</td>\n",
       "    </tr>\n",
       "    <tr>\n",
       "      <th>0</th>\n",
       "      <td>mul_m</td>\n",
       "      <td>MI</td>\n",
       "      <td>LR_L1</td>\n",
       "      <td>1860</td>\n",
       "      <td>0.620690</td>\n",
       "      <td>0.623135</td>\n",
       "      <td>0.623103</td>\n",
       "      <td>0.604178</td>\n",
       "      <td>NaN</td>\n",
       "      <td>amilcar32</td>\n",
       "      <td>2496</td>\n",
       "      <td>2023-10-30 00:03:28.126213</td>\n",
       "      <td>modelo_1860_mul_m_MI_LR_L1.pkl</td>\n",
       "      <td>{'selector__k': 1000, 'clasifier__solver': 'sa...</td>\n",
       "      <td>X_test:(87, 18875)</td>\n",
       "      <td>['ENSG00000001084.13', 'ENSG00000001460.18', '...</td>\n",
       "      <td>0.888644</td>\n",
       "      <td>[0.9128521126760563, 0.8796296296296297, 0.797...</td>\n",
       "      <td>[0.5, 0.5263157894736842, 0.17647058823529413,...</td>\n",
       "    </tr>\n",
       "  </tbody>\n",
       "</table>\n",
       "</div>"
      ],
      "text/plain": [
       "    tipo select clasific  semilla  accuracy  precision    recall  f1_score  \\\n",
       "0  mul_m     MI       RF     1860  0.471264   0.467048  0.501629  0.445980   \n",
       "0  mul_m     MI    LR_L2     1860  0.597701   0.594024  0.587465  0.581919   \n",
       "0  mul_m     MI    LR_L1     1860  0.620690   0.623135  0.623103  0.604178   \n",
       "\n",
       "   roc_auc   hostname  total_time_sec                    datetime  \\\n",
       "0      NaN  amilcar32             387  2023-10-30 00:15:47.658693   \n",
       "0      NaN  amilcar32             340  2023-10-30 00:09:14.143402   \n",
       "0      NaN  amilcar32            2496  2023-10-30 00:03:28.126213   \n",
       "\n",
       "                   fichero_modelo  \\\n",
       "0     modelo_1860_mul_m_MI_RF.pkl   \n",
       "0  modelo_1860_mul_m_MI_LR_L2.pkl   \n",
       "0  modelo_1860_mul_m_MI_LR_L1.pkl   \n",
       "\n",
       "                                              params               shape  \\\n",
       "0  {'selector__k': 1000, 'clasifier__n_estimators...  X_test:(87, 18875)   \n",
       "0  {'selector__k': 1000, 'clasifier__solver': 'lb...  X_test:(87, 18875)   \n",
       "0  {'selector__k': 1000, 'clasifier__solver': 'sa...  X_test:(87, 18875)   \n",
       "\n",
       "                                            features  roc_auc_ovr  \\\n",
       "0  ['ENSG00000001084.13', 'ENSG00000001460.18', '...     0.795276   \n",
       "0  ['ENSG00000001084.13', 'ENSG00000001460.18', '...     0.893220   \n",
       "0  ['ENSG00000001084.13', 'ENSG00000001460.18', '...     0.888644   \n",
       "\n",
       "                                         indices_auc  \\\n",
       "0  [0.5933098591549295, 0.8490740740740741, 0.752...   \n",
       "0  [0.8899647887323943, 0.8768518518518519, 0.819...   \n",
       "0  [0.9128521126760563, 0.8796296296296297, 0.797...   \n",
       "\n",
       "                                     indices_jaccard  \n",
       "0  [0.10526315789473684, 0.391304347826087, 0.176...  \n",
       "0  [0.5263157894736842, 0.4, 0.17647058823529413,...  \n",
       "0  [0.5, 0.5263157894736842, 0.17647058823529413,...  "
      ]
     },
     "metadata": {},
     "output_type": "display_data"
    }
   ],
   "source": [
    "if M_TIPO.startswith(\"bin\"):\n",
    "    myfunc.save_metricas_to_csv(random_search, X_test, y_test, M_TIPO, M_SELECT, M_CLASIF, total_time, SEMILLA, myfunc.MET_DIR, M_FICHERO, fichero_modelo)\n",
    "else:\n",
    "    myfunc.save_metricas_multi_to_csv(random_search, X_test, y_test, M_TIPO, M_SELECT, M_CLASIF, total_time, SEMILLA, myfunc.MET_DIR, M_FICHERO, fichero_modelo)\n",
    "\n",
    "df1=myfunc.read_metricas_to_df(myfunc.MET_DIR,M_FICHERO)\n",
    "\n",
    "display(df1.sort_values(\"datetime\", ascending=False)[:3])\n"
   ]
  },
  {
   "cell_type": "markdown",
   "id": "4b402d69",
   "metadata": {
    "papermill": {
     "duration": 0.017735,
     "end_time": "2023-10-29T23:15:47.785900",
     "exception": false,
     "start_time": "2023-10-29T23:15:47.768165",
     "status": "completed"
    },
    "tags": []
   },
   "source": [
    "#### Guardar resultados"
   ]
  },
  {
   "cell_type": "code",
   "execution_count": 13,
   "id": "2c02aebe",
   "metadata": {
    "execution": {
     "iopub.execute_input": "2023-10-29T23:15:47.831335Z",
     "iopub.status.busy": "2023-10-29T23:15:47.831335Z",
     "iopub.status.idle": "2023-10-29T23:15:47.862596Z",
     "shell.execute_reply": "2023-10-29T23:15:47.862596Z"
    },
    "papermill": {
     "duration": 0.062608,
     "end_time": "2023-10-29T23:15:47.862596",
     "exception": false,
     "start_time": "2023-10-29T23:15:47.799988",
     "status": "completed"
    },
    "tags": []
   },
   "outputs": [
    {
     "name": "stdout",
     "output_type": "stream",
     "text": [
      "20231030T001547 : amilcar32 : INFO : Inicio guardar resultados\n",
      "20231030T001547 : amilcar32 : INFO : Inicio guardar fichero ..\\tfm_viu\\ejecuciones\\metricas\\resultados_1860_mul_m-MI-RF.csv\n"
     ]
    },
    {
     "name": "stdout",
     "output_type": "stream",
     "text": [
      "20231030T001547 : amilcar32 : INFO : Fin guardar fichero ..\\tfm_viu\\ejecuciones\\metricas\\resultados_1860_mul_m-MI-RF.csv\n",
      "20231030T001547 : amilcar32 : INFO : Fin guardar resultados\n"
     ]
    }
   ],
   "source": [
    "fichero_resultados=R_FICHERO+\"_\"+M_TIPO+\"-\"+M_SELECT+\"-\"+M_CLASIF+\".csv\"\n",
    "myfunc.save_resultados_to_csv(M_TIPO, M_SELECT, M_CLASIF,  random_search, myfunc.MET_DIR, fichero_resultados)\n"
   ]
  }
 ],
 "metadata": {
  "kernelspec": {
   "display_name": "Python 3 (ipykernel)",
   "language": "python",
   "name": "python3"
  },
  "language_info": {
   "codemirror_mode": {
    "name": "ipython",
    "version": 3
   },
   "file_extension": ".py",
   "mimetype": "text/x-python",
   "name": "python",
   "nbconvert_exporter": "python",
   "pygments_lexer": "ipython3",
   "version": "3.10.12"
  },
  "papermill": {
   "default_parameters": {},
   "duration": 392.811734,
   "end_time": "2023-10-29T23:15:48.897764",
   "environment_variables": {},
   "exception": null,
   "input_path": "03_entrenamiento.ipynb",
   "output_path": "ejecuciones\\training\\03_entrenamiento.20231030T_00915.param_0000_1860_mul_m_MI_RF.output.ipynb",
   "parameters": {
    "MAX_ITERS": 500,
    "M_CLASIF": "RF",
    "M_FICHERO": "metricas_1860",
    "M_SELECT": "MI",
    "M_TIPO": "mul_m",
    "PRE_DATA_FILE": "rows_transpose_norm_by_gene_id_with_target_num_",
    "P_FICHERO": "param_0000_1860_mul_m_MI_RF.yaml",
    "R_FICHERO": "resultados_1860",
    "SCORING": "roc_auc_ovr",
    "SEMILLA": 1860,
    "eval_clasifier": "RandomForestClassifier(random_state=SEMILLA)",
    "eval_selector": "SelectKBest(score_func=mutual_info_classif_state)",
    "param_distributions": {
     "clasifier__bootstrap": [
      true
     ],
     "clasifier__max_depth": [
      10
     ],
     "clasifier__max_features": [
      500
     ],
     "clasifier__min_samples_leaf": [
      5
     ],
     "clasifier__min_samples_split": [
      10
     ],
     "clasifier__n_estimators": [
      200
     ],
     "selector__k": [
      1000
     ]
    }
   },
   "start_time": "2023-10-29T23:09:16.086030",
   "version": "2.4.0"
  }
 },
 "nbformat": 4,
 "nbformat_minor": 5
}