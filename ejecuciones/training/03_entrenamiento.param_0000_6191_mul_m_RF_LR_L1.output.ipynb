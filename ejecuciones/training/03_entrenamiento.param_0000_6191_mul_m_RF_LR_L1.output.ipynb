{
 "cells": [
  {
   "cell_type": "markdown",
   "id": "bb70fc1b",
   "metadata": {
    "papermill": {
     "duration": 0.004356,
     "end_time": "2023-10-30T09:03:08.749572",
     "exception": false,
     "start_time": "2023-10-30T09:03:08.745216",
     "status": "completed"
    },
    "tags": []
   },
   "source": [
    "##### Inicio"
   ]
  },
  {
   "cell_type": "markdown",
   "id": "251f8d30",
   "metadata": {
    "papermill": {
     "duration": 0.006691,
     "end_time": "2023-10-30T09:03:08.760085",
     "exception": false,
     "start_time": "2023-10-30T09:03:08.753394",
     "status": "completed"
    },
    "tags": []
   },
   "source": [
    "#### Carga de datos"
   ]
  },
  {
   "cell_type": "code",
   "execution_count": 1,
   "id": "b36f5107",
   "metadata": {
    "execution": {
     "iopub.execute_input": "2023-10-30T09:03:08.776026Z",
     "iopub.status.busy": "2023-10-30T09:03:08.775788Z",
     "iopub.status.idle": "2023-10-30T09:03:09.639007Z",
     "shell.execute_reply": "2023-10-30T09:03:09.638456Z"
    },
    "papermill": {
     "duration": 0.869363,
     "end_time": "2023-10-30T09:03:09.640236",
     "exception": false,
     "start_time": "2023-10-30T09:03:08.770873",
     "status": "completed"
    },
    "tags": []
   },
   "outputs": [
    {
     "name": "stdout",
     "output_type": "stream",
     "text": [
      "CPU_COUNT: 8; NODE: amilcar22; sys.version: 3.10.12 (main, Jul  5 2023, 19:22:19) [GCC 11.2.0]\n",
      "LOKY_MAX_CPU_COUNT: 6\n",
      "OMP_NUM_THREADS: 2\n"
     ]
    }
   ],
   "source": [
    "import os\n",
    "import numpy as np\n",
    "import pandas as pd\n",
    "import datetime\n",
    "import sklearn\n",
    "import logging\n",
    "import warnings\n",
    "\n",
    "from sklearn.pipeline import Pipeline\n",
    "from sklearn.model_selection import RandomizedSearchCV, KFold, cross_val_score, train_test_split\n",
    "from sklearn.metrics import accuracy_score, confusion_matrix, classification_report, roc_auc_score\n",
    "\n",
    "#  cargar algoritmos para aprendizaje supervisado\n",
    "from sklearn.feature_selection import SelectKBest, f_classif, SelectFromModel, mutual_info_classif\n",
    "from sklearn.svm import SVC\n",
    "from sklearn.ensemble import RandomForestClassifier\n",
    "from sklearn.linear_model import LogisticRegression,LogisticRegressionCV\n",
    "\n",
    "# importar fichero con utilidades propias\n",
    "from commons import myfunctions as myfunc\n"
   ]
  },
  {
   "cell_type": "markdown",
   "id": "cc0ace8b",
   "metadata": {
    "papermill": {
     "duration": 0.002573,
     "end_time": "2023-10-30T09:03:09.645690",
     "exception": false,
     "start_time": "2023-10-30T09:03:09.643117",
     "status": "completed"
    },
    "tags": []
   },
   "source": [
    "#### Parámetros a utilizar en el entrenamiento.\n",
    "\n",
    "Se indican los 3 algoritmos de *selección de características* (eval_selector_xxx) y los 3 algoritmos para la _clasificación_ (eval_clasifier_xxx)\n",
    "\n",
    "En *param_distributions* se indicar los parámetros que utilizan los algoritmos en la función RandomSearchCV.\n",
    "\n",
    "Esta celda tiene la etiqueta **parameters** que servirá para poder lanzar los entrenamientos con la utilidad **papermill** pasándole un fichero con los parámetros. Los nuevos parámetros se situarán tras esta celda para tener prevalencia."
   ]
  },
  {
   "cell_type": "code",
   "execution_count": 2,
   "id": "72855170",
   "metadata": {
    "execution": {
     "iopub.execute_input": "2023-10-30T09:03:09.660558Z",
     "iopub.status.busy": "2023-10-30T09:03:09.660220Z",
     "iopub.status.idle": "2023-10-30T09:03:09.667417Z",
     "shell.execute_reply": "2023-10-30T09:03:09.666936Z"
    },
    "papermill": {
     "duration": 0.020445,
     "end_time": "2023-10-30T09:03:09.668591",
     "exception": false,
     "start_time": "2023-10-30T09:03:09.648146",
     "status": "completed"
    },
    "tags": [
     "parameters"
    ]
   },
   "outputs": [
    {
     "name": "stdout",
     "output_type": "stream",
     "text": [
      "20231030T100309 : amilcar22 : INFO : Utilizando parámetros de mul_m\n"
     ]
    }
   ],
   "source": [
    "#  Parametros para el entrenamiento\n",
    "\n",
    "SEMILLA=        42\n",
    "M_TIPO=         \"mul_m\"\n",
    "M_SELECT=       \"MI\"\n",
    "M_CLASIF=       \"SVM\"\n",
    "R_FICHERO=      \"resultados\"\n",
    "M_FICHERO=      \"metricas\"\n",
    "PRE_DATA_FILE=  \"rows_transpose_norm_by_gene_id_with_target_num_\"\n",
    "SCORING=        \"roc_auc_ovr\" \n",
    "MAX_ITERS=      100\n",
    "\n",
    "def mutual_info_classif_state(X, y):\n",
    "    return mutual_info_classif(X, y, random_state=SEMILLA)\n",
    "\n",
    "eval_selector_mi = \"SelectKBest(score_func=mutual_info_classif_state)\"\n",
    "eval_selector_rf=  \"SelectFromModel(estimator=RandomForestClassifier(random_state=SEMILLA), threshold=-np.inf)\"\n",
    "eval_selector_anova=  \"SelectKBest(score_func=f_classif)\"\n",
    "\n",
    "eval_clasifier_svm= \"SVC(probability=True, random_state=SEMILLA)\"\n",
    "eval_clasifier_rf= \"RandomForestClassifier(random_state=SEMILLA)\"\n",
    "eval_clasifier_lr= \"LogisticRegressionCV(random_state=SEMILLA)\"\n",
    "\n",
    "if M_TIPO.startswith(\"bin_m\"):\n",
    "    myfunc.verbose(f\"Utilizando parámetros de {M_TIPO}\")\n",
    "    eval_selector = eval_selector_mi\n",
    "    eval_clasifier = eval_clasifier_svm\n",
    "\n",
    "    SEMILLA = 6578\n",
    "    M_SELECT = \"MI\"\n",
    "    M_CLASIF = \"SVM\"\n",
    "    param_distributions = {'selector__k': [1000], \n",
    "         'clasifier__kernel': ['rbf'], 'clasifier__gamma': [0.01], 'clasifier__C': [100]}\n",
    "elif M_TIPO.startswith(\"bin_s\"):\n",
    "    myfunc.verbose(f\"Utilizando parámetros de {M_TIPO}\")\n",
    "    eval_selector = eval_selector_rf\n",
    "    eval_clasifier = eval_clasifier_lr\n",
    "\n",
    "    SEMILLA = 6191\n",
    "    M_SELECT = \"RF\"\n",
    "    M_CLASIF = \"LR_L2\"\n",
    "    param_distributions = {'selector__max_features': [1000], 'selector__estimator__n_estimators': [200], \n",
    "        'clasifier__solver': ['lbfgs'], 'clasifier__penalty': ['l2'], 'clasifier__max_iter': [10000]}\n",
    "\n",
    "elif M_TIPO.startswith(\"mul_m\"):\n",
    "    myfunc.verbose(f\"Utilizando parámetros de {M_TIPO}\")\n",
    " \n",
    "    eval_selector = eval_selector_rf\n",
    "    eval_clasifier = eval_clasifier_lr\n",
    "\n",
    "    SEMILLA = 6191\n",
    "    M_SELECT = \"RF\"\n",
    "    M_CLASIF = \"LR_L2\"\n",
    "    param_distributions = {'selector__max_features': [1000], 'selector__estimator__n_estimators': [400], \n",
    "        'clasifier__solver': ['lbfgs'], 'clasifier__penalty': ['l2'], 'clasifier__max_iter': [10000]}\n",
    "\n",
    "else:\n",
    "    # M_TIPO.startswith(\"mul_s\"):\n",
    "    myfunc.verbose(f\"Utilizando parámetros de {M_TIPO}\")\n",
    "    eval_selector = eval_selector_anova\n",
    "    eval_clasifier = eval_clasifier_lr\n",
    "\n",
    "    SEMILLA = 1860\n",
    "    M_SELECT = \"ANOVA\"\n",
    "    M_CLASIF = \"LR_L2\"\n",
    "    param_distributions = {'selector__k': [1000], \n",
    "        'clasifier__solver': ['saga'], 'clasifier__penalty': ['l2'], 'clasifier__max_iter': [10000]}\n",
    "\n"
   ]
  },
  {
   "cell_type": "code",
   "execution_count": 3,
   "id": "f15e6f55",
   "metadata": {
    "execution": {
     "iopub.execute_input": "2023-10-30T09:03:09.674566Z",
     "iopub.status.busy": "2023-10-30T09:03:09.674393Z",
     "iopub.status.idle": "2023-10-30T09:03:09.677815Z",
     "shell.execute_reply": "2023-10-30T09:03:09.677329Z"
    },
    "papermill": {
     "duration": 0.00762,
     "end_time": "2023-10-30T09:03:09.678948",
     "exception": false,
     "start_time": "2023-10-30T09:03:09.671328",
     "status": "completed"
    },
    "tags": [
     "injected-parameters"
    ]
   },
   "outputs": [],
   "source": [
    "# Parameters\n",
    "M_TIPO = \"mul_m\"\n",
    "M_SELECT = \"RF\"\n",
    "M_CLASIF = \"LR_L1\"\n",
    "P_FICHERO = \"param_0000_6191_mul_m_RF_LR_L1.yaml\"\n",
    "R_FICHERO = \"resultados_6191\"\n",
    "M_FICHERO = \"metricas_6191\"\n",
    "PRE_DATA_FILE = \"rows_transpose_norm_by_gene_id_with_target_num_\"\n",
    "SCORING = \"roc_auc_ovr\"\n",
    "SEMILLA = 6191\n",
    "MAX_ITERS = 500\n",
    "eval_selector = \"SelectFromModel(estimator=RandomForestClassifier(random_state=SEMILLA), threshold=-np.inf)\"\n",
    "eval_clasifier = \"LogisticRegressionCV(random_state=SEMILLA)\"\n",
    "param_distributions = {\n",
    "    \"selector__max_features\": [1000],\n",
    "    \"selector__estimator__n_estimators\": [400],\n",
    "    \"clasifier__solver\": [\"saga\"],\n",
    "    \"clasifier__penalty\": [\"l1\"],\n",
    "    \"clasifier__max_iter\": [10000],\n",
    "}\n"
   ]
  },
  {
   "cell_type": "code",
   "execution_count": 4,
   "id": "f0769bda",
   "metadata": {
    "execution": {
     "iopub.execute_input": "2023-10-30T09:03:09.685002Z",
     "iopub.status.busy": "2023-10-30T09:03:09.684839Z",
     "iopub.status.idle": "2023-10-30T09:03:09.687680Z",
     "shell.execute_reply": "2023-10-30T09:03:09.687169Z"
    },
    "papermill": {
     "duration": 0.007284,
     "end_time": "2023-10-30T09:03:09.688918",
     "exception": false,
     "start_time": "2023-10-30T09:03:09.681634",
     "status": "completed"
    },
    "tags": []
   },
   "outputs": [],
   "source": [
    "DATA_FILE = PRE_DATA_FILE + M_TIPO\n",
    "\n",
    "# si viene \"None\" en el parámetro max_depth, se le quitan las comillas para que no sea entendido por el algoritmo como un texto\n",
    "if \"clasifier__max_depth\" in param_distributions:\n",
    "    param_distributions['clasifier__max_depth'] = [None if x == 'None' else x for x in param_distributions['clasifier__max_depth']]"
   ]
  },
  {
   "cell_type": "markdown",
   "id": "67497f7b",
   "metadata": {
    "papermill": {
     "duration": 0.002655,
     "end_time": "2023-10-30T09:03:09.694317",
     "exception": false,
     "start_time": "2023-10-30T09:03:09.691662",
     "status": "completed"
    },
    "tags": []
   },
   "source": [
    "Asignar los algoritmos que se utilizarán en la función RandomSearchCV"
   ]
  },
  {
   "cell_type": "code",
   "execution_count": 5,
   "id": "ee1cecde",
   "metadata": {
    "execution": {
     "iopub.execute_input": "2023-10-30T09:03:09.700348Z",
     "iopub.status.busy": "2023-10-30T09:03:09.700185Z",
     "iopub.status.idle": "2023-10-30T09:03:09.703225Z",
     "shell.execute_reply": "2023-10-30T09:03:09.702561Z"
    },
    "papermill": {
     "duration": 0.007684,
     "end_time": "2023-10-30T09:03:09.704717",
     "exception": false,
     "start_time": "2023-10-30T09:03:09.697033",
     "status": "completed"
    },
    "tags": []
   },
   "outputs": [],
   "source": [
    "algor_selector=eval(eval_selector)\n",
    "algor_clasifier=eval(eval_clasifier)"
   ]
  },
  {
   "cell_type": "markdown",
   "id": "ff57a309",
   "metadata": {
    "papermill": {
     "duration": 0.003733,
     "end_time": "2023-10-30T09:03:09.712122",
     "exception": false,
     "start_time": "2023-10-30T09:03:09.708389",
     "status": "completed"
    },
    "tags": []
   },
   "source": [
    "#### Comprobar el entorno y leer fichero de muestras"
   ]
  },
  {
   "cell_type": "code",
   "execution_count": 6,
   "id": "7be824fb",
   "metadata": {
    "execution": {
     "iopub.execute_input": "2023-10-30T09:03:09.719949Z",
     "iopub.status.busy": "2023-10-30T09:03:09.719755Z",
     "iopub.status.idle": "2023-10-30T09:03:09.882991Z",
     "shell.execute_reply": "2023-10-30T09:03:09.882476Z"
    },
    "papermill": {
     "duration": 0.168454,
     "end_time": "2023-10-30T09:03:09.884175",
     "exception": false,
     "start_time": "2023-10-30T09:03:09.715721",
     "status": "completed"
    },
    "tags": []
   },
   "outputs": [
    {
     "name": "stdout",
     "output_type": "stream",
     "text": [
      "20231030T100309 : amilcar22 : INFO : Encontrada carpeta DATA_DIR=../tfm_git/datos\n",
      "20231030T100309 : amilcar22 : INFO : Encontrada carpeta CFDNA_DIR=../tfm_git/datos/cfDNA_5hmC\n",
      "20231030T100309 : amilcar22 : INFO : Encontrada carpeta GENCODE_DIR=../tfm_git/datos/gencode\n",
      "20231030T100309 : amilcar22 : INFO : Encontrada carpeta H5_DIR=../tfm_git/datos/h5\n",
      "20231030T100309 : amilcar22 : INFO : Encontrada carpeta LOG_DIR=../tfm_git/datos/logs\n",
      "20231030T100309 : amilcar22 : INFO : Encontrada carpeta CSV_DIR=../tfm_git/datos/csv\n",
      "20231030T100309 : amilcar22 : INFO : Encontrada carpeta MODEL_DIR=../tfm_git/ejecuciones/modelos\n",
      "20231030T100309 : amilcar22 : INFO : Encontrada carpeta EXEC_DIR=../tfm_git/ejecuciones\n",
      "20231030T100309 : amilcar22 : INFO : Encontrada carpeta MET_DIR=../tfm_git/ejecuciones/metricas\n",
      "20231030T100309 : amilcar22 : INFO : Inicio leer fichero h5 ../tfm_git/datos/h5/rows_transpose_norm_by_gene_id_with_target_num_mul_m.h5\n",
      "20231030T100309 : amilcar22 : INFO : Leyendo clave /df\n",
      "20231030T100309 : amilcar22 : INFO : Tamaño (434, 18876)\n",
      "20231030T100309 : amilcar22 : INFO : Fin leer fichero h5 ../tfm_git/datos/h5/rows_transpose_norm_by_gene_id_with_target_num_mul_m.h5\n"
     ]
    },
    {
     "data": {
      "text/plain": [
       "target\n",
       "0    62\n",
       "1    62\n",
       "2    62\n",
       "3    62\n",
       "4    62\n",
       "5    62\n",
       "6    62\n",
       "dtype: int64"
      ]
     },
     "metadata": {},
     "output_type": "display_data"
    },
    {
     "name": "stdout",
     "output_type": "stream",
     "text": [
      "Shape df: (434, 18876)\n"
     ]
    },
    {
     "name": "stdout",
     "output_type": "stream",
     "text": [
      "Shape X_train: (347, 18875)\n",
      "Shape X_test: (87, 18875)\n"
     ]
    }
   ],
   "source": [
    "start_time = datetime.datetime.now()\n",
    "\n",
    "myfunc.reset_vars()\n",
    "\n",
    "myfunc.NOTEBK_FILENAME = myfunc.get_nb_name()\n",
    "\n",
    "myfunc.check_enviroment(myfunc.DATA_DIR, myfunc.CFDNA_DIR, myfunc.GENCODE_DIR, myfunc.H5_DIR, myfunc.LOG_DIR, myfunc.CSV_DIR, myfunc.MODEL_DIR, myfunc.EXEC_DIR, myfunc.MET_DIR)\n",
    "\n",
    "# Leer fichero con las muestras\n",
    "df_t = myfunc.read_h5_to_df(DATA_FILE, myfunc.H5_DIR)\n",
    "display(df_t.groupby(\"target\").size())\n",
    "print(\"Shape df:\",df_t.shape)\n",
    "\n",
    "# Separar caracteristicas/genes de las etiquetas/tipos de cáncer\n",
    "X = df_t.iloc[:, :-1]  # Todas las columnas excepto la última\n",
    "y = df_t.iloc[:, -1]  # La última columna contiene los identificadores de los tipos de cáncer\n",
    "\n",
    "#  Crear el conjunto de datos de entrenamiento y de pruebas, y se fija la semilla para siempre coger el mismo juego de muestras\n",
    "X_train, X_test, y_train, y_test = train_test_split(X, y, test_size=0.2, shuffle=True, random_state=42)\n",
    "print(\"Shape X_train:\",X_train.shape)\n",
    "print(\"Shape X_test:\",X_test.shape)\n"
   ]
  },
  {
   "cell_type": "markdown",
   "id": "948d54d8",
   "metadata": {
    "papermill": {
     "duration": 0.002843,
     "end_time": "2023-10-30T09:03:09.890325",
     "exception": false,
     "start_time": "2023-10-30T09:03:09.887482",
     "status": "completed"
    },
    "tags": []
   },
   "source": [
    "#### Selección de características y clasificación."
   ]
  },
  {
   "cell_type": "code",
   "execution_count": 7,
   "id": "babbf9fb",
   "metadata": {
    "execution": {
     "iopub.execute_input": "2023-10-30T09:03:09.896842Z",
     "iopub.status.busy": "2023-10-30T09:03:09.896646Z",
     "iopub.status.idle": "2023-10-30T09:36:40.704613Z",
     "shell.execute_reply": "2023-10-30T09:36:40.703944Z"
    },
    "papermill": {
     "duration": 2010.81526,
     "end_time": "2023-10-30T09:36:40.708420",
     "exception": false,
     "start_time": "2023-10-30T09:03:09.893160",
     "status": "completed"
    },
    "tags": []
   },
   "outputs": [
    {
     "name": "stdout",
     "output_type": "stream",
     "text": [
      "20231030T100309 : amilcar22 : INFO : Iniciando entrenamiento\n",
      "num_iter: 1 , max_iter: 1\n",
      "Fitting 5 folds for each of 1 candidates, totalling 5 fits\n"
     ]
    },
    {
     "name": "stdout",
     "output_type": "stream",
     "text": [
      "[CV 4/5] END clasifier__max_iter=10000, clasifier__penalty=l1, clasifier__solver=saga, selector__estimator__n_estimators=400, selector__max_features=1000;, score=0.846 total time=12.6min\n"
     ]
    },
    {
     "name": "stdout",
     "output_type": "stream",
     "text": [
      "[CV 2/5] END clasifier__max_iter=10000, clasifier__penalty=l1, clasifier__solver=saga, selector__estimator__n_estimators=400, selector__max_features=1000;, score=0.889 total time=13.4min\n"
     ]
    },
    {
     "name": "stdout",
     "output_type": "stream",
     "text": [
      "[CV 1/5] END clasifier__max_iter=10000, clasifier__penalty=l1, clasifier__solver=saga, selector__estimator__n_estimators=400, selector__max_features=1000;, score=0.868 total time=13.8min\n"
     ]
    },
    {
     "name": "stdout",
     "output_type": "stream",
     "text": [
      "[CV 5/5] END clasifier__max_iter=10000, clasifier__penalty=l1, clasifier__solver=saga, selector__estimator__n_estimators=400, selector__max_features=1000;, score=0.872 total time=16.6min\n"
     ]
    },
    {
     "name": "stdout",
     "output_type": "stream",
     "text": [
      "[CV 3/5] END clasifier__max_iter=10000, clasifier__penalty=l1, clasifier__solver=saga, selector__estimator__n_estimators=400, selector__max_features=1000;, score=0.870 total time=18.3min\n"
     ]
    },
    {
     "name": "stdout",
     "output_type": "stream",
     "text": [
      "Mejores Hiperparámetros: {'selector__max_features': 1000, 'selector__estimator__n_estimators': 400, 'clasifier__solver': 'saga', 'clasifier__penalty': 'l1', 'clasifier__max_iter': 10000}\n",
      "Mejor Puntuación: 0.8689\n",
      "20231030T103640 : amilcar22 : INFO : Fin entrenamiento\n"
     ]
    }
   ],
   "source": [
    "myfunc.verbose(\"Iniciando entrenamiento\")\n",
    "\n",
    "kf = KFold(n_splits=5, shuffle=True, random_state=SEMILLA)\n",
    "\n",
    "# Crear el pipeline para el flujo de tareas\n",
    "tasks_pipeline = Pipeline([\n",
    "    ('selector', algor_selector),\n",
    "    ('clasifier', algor_clasifier)\n",
    "])\n",
    "\n",
    "# MAX_ITERS puede limitar el número de iteraciones si son excesivas para las combinaciones de parámetros buscando un óptimo local, \n",
    "# sino funcionaría como GridSearchCV al revisar todas las cominaciones de los parámetros\n",
    "num_iteraciones = 1\n",
    "num_iteraciones = num_iteraciones * np.prod([len(elemento1) for _, elemento1 in param_distributions.items()])\n",
    "max_iteraciones = num_iteraciones if num_iteraciones <= MAX_ITERS else MAX_ITERS\n",
    "print(\"num_iter:\",num_iteraciones,\", max_iter:\",max_iteraciones)\n",
    "\n",
    "random_search = RandomizedSearchCV(\n",
    "    tasks_pipeline, \n",
    "    param_distributions, \n",
    "    n_iter=max_iteraciones,\n",
    "    scoring=SCORING,\n",
    "    cv=kf,\n",
    "    verbose=3, \n",
    "    random_state=SEMILLA, \n",
    "    n_jobs=-1\n",
    "    )\n",
    "\n",
    "# Entrenar el modelo\n",
    "random_search.fit(X_train, y_train)\n",
    "\n",
    "# Ver los mejores hiperparámetros encontrados\n",
    "print(f'Mejores Hiperparámetros: {random_search.best_params_}')\n",
    "print(f'Mejor Puntuación: {random_search.best_score_:.4f}')\n",
    "\n",
    "# Nos quedamos con el mejor modelo para ver las métricas\n",
    "mejor_modelo = random_search.best_estimator_\n",
    "\n",
    "myfunc.verbose(\"Fin entrenamiento\")"
   ]
  },
  {
   "cell_type": "markdown",
   "id": "58192b8e",
   "metadata": {
    "papermill": {
     "duration": 0.003107,
     "end_time": "2023-10-30T09:36:40.714770",
     "exception": false,
     "start_time": "2023-10-30T09:36:40.711663",
     "status": "completed"
    },
    "tags": []
   },
   "source": [
    "#### Guardar modelo"
   ]
  },
  {
   "cell_type": "code",
   "execution_count": 8,
   "id": "7a663d1f",
   "metadata": {
    "execution": {
     "iopub.execute_input": "2023-10-30T09:36:40.722085Z",
     "iopub.status.busy": "2023-10-30T09:36:40.721860Z",
     "iopub.status.idle": "2023-10-30T09:36:40.854212Z",
     "shell.execute_reply": "2023-10-30T09:36:40.853725Z"
    },
    "papermill": {
     "duration": 0.137537,
     "end_time": "2023-10-30T09:36:40.855442",
     "exception": false,
     "start_time": "2023-10-30T09:36:40.717905",
     "status": "completed"
    },
    "tags": []
   },
   "outputs": [
    {
     "name": "stdout",
     "output_type": "stream",
     "text": [
      "20231030T103640 : amilcar22 : INFO : Inicio guardar fichero ../tfm_git/ejecuciones/modelos/modelo_6191_mul_m_RF_LR_L1.pkl\n",
      "20231030T103640 : amilcar22 : INFO : Fin guardar fichero ../tfm_git/ejecuciones/modelos/modelo_6191_mul_m_RF_LR_L1.pkl\n"
     ]
    }
   ],
   "source": [
    "fichero_modelo = str.replace(\"modelo_\"+str(SEMILLA).zfill(4)+\"_\"+M_TIPO+\"_\"+M_SELECT+\"_\"+M_CLASIF+\".pkl\", \" \", \"_\")\n",
    "\n",
    "myfunc.save_modelo(mejor_modelo, myfunc.MODEL_DIR, fichero_modelo)"
   ]
  },
  {
   "cell_type": "markdown",
   "id": "92ea5122",
   "metadata": {
    "papermill": {
     "duration": 0.003219,
     "end_time": "2023-10-30T09:36:40.862344",
     "exception": false,
     "start_time": "2023-10-30T09:36:40.859125",
     "status": "completed"
    },
    "tags": []
   },
   "source": [
    "#### Ver resultados del las iteraciones hechas por RandomSearchCV"
   ]
  },
  {
   "cell_type": "code",
   "execution_count": 9,
   "id": "6eba1e57",
   "metadata": {
    "execution": {
     "iopub.execute_input": "2023-10-30T09:36:40.869365Z",
     "iopub.status.busy": "2023-10-30T09:36:40.869166Z",
     "iopub.status.idle": "2023-10-30T09:36:40.875064Z",
     "shell.execute_reply": "2023-10-30T09:36:40.874661Z"
    },
    "papermill": {
     "duration": 0.010809,
     "end_time": "2023-10-30T09:36:40.876239",
     "exception": false,
     "start_time": "2023-10-30T09:36:40.865430",
     "status": "completed"
    },
    "tags": []
   },
   "outputs": [
    {
     "name": "stdout",
     "output_type": "stream",
     "text": [
      "20231030T103640 : amilcar22 : INFO : Inicio ver resultados\n",
      "Mejores Hiperparámetros: {'selector__max_features': 1000, 'selector__estimator__n_estimators': 400, 'clasifier__solver': 'saga', 'clasifier__penalty': 'l1', 'clasifier__max_iter': 10000}\n",
      "Mejores puntuaciones: 0.8689 | Params: {'selector__max_features': 1000, 'selector__estimator__n_estimators': 400, 'clasifier__solver': 'saga', 'clasifier__penalty': 'l1', 'clasifier__max_iter': 10000}\n",
      "Media de las puntuaciones: 0.8689 | Params: {'selector__max_features': 1000, 'selector__estimator__n_estimators': 400, 'clasifier__solver': 'saga', 'clasifier__penalty': 'l1', 'clasifier__max_iter': 10000}\n",
      "20231030T103640 : amilcar22 : INFO : Fin resultados\n"
     ]
    }
   ],
   "source": [
    "myfunc.ver_resultados_search(random_search)"
   ]
  },
  {
   "cell_type": "markdown",
   "id": "0ac4d497",
   "metadata": {
    "papermill": {
     "duration": 0.00324,
     "end_time": "2023-10-30T09:36:40.882955",
     "exception": false,
     "start_time": "2023-10-30T09:36:40.879715",
     "status": "completed"
    },
    "tags": []
   },
   "source": [
    "#### Ver métricas del mejor modelo"
   ]
  },
  {
   "cell_type": "code",
   "execution_count": 10,
   "id": "48aaa043",
   "metadata": {
    "execution": {
     "iopub.execute_input": "2023-10-30T09:36:40.890088Z",
     "iopub.status.busy": "2023-10-30T09:36:40.889895Z",
     "iopub.status.idle": "2023-10-30T09:36:41.819331Z",
     "shell.execute_reply": "2023-10-30T09:36:41.818814Z"
    },
    "papermill": {
     "duration": 0.934493,
     "end_time": "2023-10-30T09:36:41.820623",
     "exception": false,
     "start_time": "2023-10-30T09:36:40.886130",
     "status": "completed"
    },
    "tags": []
   },
   "outputs": [
    {
     "name": "stdout",
     "output_type": "stream",
     "text": [
      "20231030T103640 : amilcar22 : INFO : Inicio ver métricas multiclase\n"
     ]
    },
    {
     "name": "stdout",
     "output_type": "stream",
     "text": [
      "              precision    recall  f1-score   support\n",
      "\n",
      "           0       0.40      0.25      0.31        16\n",
      "           1       0.69      0.60      0.64        15\n",
      "           2       0.28      0.45      0.34        11\n",
      "           3       0.43      0.60      0.50         5\n",
      "           4       0.62      0.62      0.62        13\n",
      "           5       0.60      0.67      0.63         9\n",
      "           6       0.62      0.56      0.59        18\n",
      "\n",
      "    accuracy                           0.52        87\n",
      "   macro avg       0.52      0.53      0.52        87\n",
      "weighted avg       0.54      0.52      0.52        87\n",
      "\n",
      "\n",
      "\n",
      "           Exactitud: 0.517241\n",
      "   Precisión (media): 0.519863\n",
      "      Recall (media): 0.534593\n",
      "    F1-score (media): 0.518654\n",
      "\n",
      "\n",
      "AUC para el tipo de cáncer 0-Control.... 0.7121\n",
      "AUC para el tipo de cáncer 1-Bladder.... 0.8796\n",
      "AUC para el tipo de cáncer 2-Breast..... 0.6890\n",
      "AUC para el tipo de cáncer 3-Colorectal. 0.7878\n",
      "AUC para el tipo de cáncer 4-Kidney..... 0.8898\n",
      "AUC para el tipo de cáncer 5-Lung....... 0.9516\n",
      "AUC para el tipo de cáncer 6-Prostate... 0.8519\n",
      "\n",
      "Media de AUC: 0.8231\n"
     ]
    },
    {
     "data": {
      "image/png": "[encoded data removed]",
      "text/plain": [
       "<Figure size 1000x600 with 1 Axes>"
      ]
     },
     "metadata": {},
     "output_type": "display_data"
    },
    {
     "name": "stdout",
     "output_type": "stream",
     "text": [
      "\n",
      "\n"
     ]
    },
    {
     "data": {
      "image/png": "[encoded data removed]",
      "text/plain": [
       "<Figure size 800x400 with 2 Axes>"
      ]
     },
     "metadata": {},
     "output_type": "display_data"
    },
    {
     "name": "stdout",
     "output_type": "stream",
     "text": [
      "\n",
      "\n",
      "Puntuación Jaccard para el cáncer tipo 0-Control.... 0.1818\n",
      "Puntuación Jaccard para el cáncer tipo 1-Bladder.... 0.4737\n",
      "Puntuación Jaccard para el cáncer tipo 2-Breast..... 0.2083\n",
      "Puntuación Jaccard para el cáncer tipo 3-Colorectal. 0.3333\n",
      "Puntuación Jaccard para el cáncer tipo 4-Kidney..... 0.4444\n",
      "Puntuación Jaccard para el cáncer tipo 5-Lung....... 0.4615\n",
      "Puntuación Jaccard para el cáncer tipo 6-Prostate... 0.4167\n",
      "\n",
      "Media de la puntuación de Jaccard: 0.3600\n"
     ]
    }
   ],
   "source": [
    "if M_TIPO.startswith(\"bin\"):\n",
    "    myfunc.ver_metricas(mejor_modelo, X_test, y_test)\n",
    "else:\n",
    "    myfunc.ver_metricas_multi(mejor_modelo, X_test, y_test)\n"
   ]
  },
  {
   "cell_type": "markdown",
   "id": "35f27ae0",
   "metadata": {
    "papermill": {
     "duration": 0.004277,
     "end_time": "2023-10-30T09:36:41.829628",
     "exception": false,
     "start_time": "2023-10-30T09:36:41.825351",
     "status": "completed"
    },
    "tags": []
   },
   "source": [
    "#### Finalización del notebook"
   ]
  },
  {
   "cell_type": "code",
   "execution_count": 11,
   "id": "92535cfe",
   "metadata": {
    "execution": {
     "iopub.execute_input": "2023-10-30T09:36:41.838955Z",
     "iopub.status.busy": "2023-10-30T09:36:41.838745Z",
     "iopub.status.idle": "2023-10-30T09:36:41.841919Z",
     "shell.execute_reply": "2023-10-30T09:36:41.841415Z"
    },
    "papermill": {
     "duration": 0.009256,
     "end_time": "2023-10-30T09:36:41.843125",
     "exception": false,
     "start_time": "2023-10-30T09:36:41.833869",
     "status": "completed"
    },
    "tags": []
   },
   "outputs": [
    {
     "name": "stdout",
     "output_type": "stream",
     "text": [
      "20231030T103641 : amilcar22 : INFO : Notebook ha tardado 2012 seconds\n"
     ]
    }
   ],
   "source": [
    "end_time = datetime.datetime.now()\n",
    "total_time = end_time - start_time\n",
    "myfunc.verbose(f\"Notebook ha tardado {total_time.seconds} seconds\")"
   ]
  },
  {
   "cell_type": "markdown",
   "id": "61398f97",
   "metadata": {
    "papermill": {
     "duration": 0.004263,
     "end_time": "2023-10-30T09:36:41.851932",
     "exception": false,
     "start_time": "2023-10-30T09:36:41.847669",
     "status": "completed"
    },
    "tags": []
   },
   "source": [
    "#### Guardar métricas"
   ]
  },
  {
   "cell_type": "code",
   "execution_count": 12,
   "id": "33fa538e",
   "metadata": {
    "execution": {
     "iopub.execute_input": "2023-10-30T09:36:41.861318Z",
     "iopub.status.busy": "2023-10-30T09:36:41.861119Z",
     "iopub.status.idle": "2023-10-30T09:36:42.643633Z",
     "shell.execute_reply": "2023-10-30T09:36:42.643076Z"
    },
    "papermill": {
     "duration": 0.788533,
     "end_time": "2023-10-30T09:36:42.644788",
     "exception": false,
     "start_time": "2023-10-30T09:36:41.856255",
     "status": "completed"
    },
    "tags": []
   },
   "outputs": [
    {
     "name": "stdout",
     "output_type": "stream",
     "text": [
      "20231030T103642 : amilcar22 : INFO : Inicio guardar métricas multiclase\n",
      "20231030T103642 : amilcar22 : INFO : Inicio leer fichero ../tfm_git/ejecuciones/metricas/metricas_6191.csv\n",
      "20231030T103642 : amilcar22 : INFO : Fin leer fichero ../tfm_git/ejecuciones/metricas/metricas_6191.csv\n"
     ]
    },
    {
     "name": "stdout",
     "output_type": "stream",
     "text": [
      "20231030T103642 : amilcar22 : INFO : Inicio guardar fichero ../tfm_git/ejecuciones/metricas/metricas_6191.csv\n",
      "20231030T103642 : amilcar22 : INFO : Fichero borrado ../tfm_git/ejecuciones/metricas/metricas_6191.csv\n",
      "20231030T103642 : amilcar22 : INFO : Fin guardar fichero ../tfm_git/ejecuciones/metricas/metricas_6191.csv\n",
      "20231030T103642 : amilcar22 : INFO : Fin guardar métricas multiclase\n",
      "20231030T103642 : amilcar22 : INFO : Inicio leer fichero ../tfm_git/ejecuciones/metricas/metricas_6191.csv\n",
      "20231030T103642 : amilcar22 : INFO : Fin leer fichero ../tfm_git/ejecuciones/metricas/metricas_6191.csv\n"
     ]
    },
    {
     "data": {
      "text/html": [
       "<div>\n",
       "<style scoped>\n",
       "    .dataframe tbody tr th:only-of-type {\n",
       "        vertical-align: middle;\n",
       "    }\n",
       "\n",
       "    .dataframe tbody tr th {\n",
       "        vertical-align: top;\n",
       "    }\n",
       "\n",
       "    .dataframe thead th {\n",
       "        text-align: right;\n",
       "    }\n",
       "</style>\n",
       "<table border=\"1\" class=\"dataframe\">\n",
       "  <thead>\n",
       "    <tr style=\"text-align: right;\">\n",
       "      <th></th>\n",
       "      <th>tipo</th>\n",
       "      <th>select</th>\n",
       "      <th>clasific</th>\n",
       "      <th>semilla</th>\n",
       "      <th>accuracy</th>\n",
       "      <th>precision</th>\n",
       "      <th>recall</th>\n",
       "      <th>f1_score</th>\n",
       "      <th>roc_auc</th>\n",
       "      <th>hostname</th>\n",
       "      <th>total_time_sec</th>\n",
       "      <th>datetime</th>\n",
       "      <th>fichero_modelo</th>\n",
       "      <th>params</th>\n",
       "      <th>shape</th>\n",
       "      <th>features</th>\n",
       "      <th>roc_auc_ovr</th>\n",
       "      <th>indices_auc</th>\n",
       "      <th>indices_jaccard</th>\n",
       "    </tr>\n",
       "  </thead>\n",
       "  <tbody>\n",
       "    <tr>\n",
       "      <th>0</th>\n",
       "      <td>mul_m</td>\n",
       "      <td>RF</td>\n",
       "      <td>LR_L1</td>\n",
       "      <td>6191</td>\n",
       "      <td>0.517241</td>\n",
       "      <td>0.519863</td>\n",
       "      <td>0.534593</td>\n",
       "      <td>0.518654</td>\n",
       "      <td>NaN</td>\n",
       "      <td>amilcar22</td>\n",
       "      <td>2012</td>\n",
       "      <td>2023-10-30 10:36:42.613722</td>\n",
       "      <td>modelo_6191_mul_m_RF_LR_L1.pkl</td>\n",
       "      <td>{'selector__max_features': 1000, 'selector__es...</td>\n",
       "      <td>X_test:(87, 18875)</td>\n",
       "      <td>['ENSG00000000938.13', 'ENSG00000002587.10', '...</td>\n",
       "      <td>0.823116</td>\n",
       "      <td>[0.7121478873239436, 0.8796296296296297, 0.688...</td>\n",
       "      <td>[0.18181818181818182, 0.47368421052631576, 0.2...</td>\n",
       "    </tr>\n",
       "    <tr>\n",
       "      <th>0</th>\n",
       "      <td>mul_m</td>\n",
       "      <td>RF</td>\n",
       "      <td>LR_EN</td>\n",
       "      <td>6191</td>\n",
       "      <td>0.574713</td>\n",
       "      <td>0.593421</td>\n",
       "      <td>0.580837</td>\n",
       "      <td>0.572806</td>\n",
       "      <td>NaN</td>\n",
       "      <td>amilcar22</td>\n",
       "      <td>1869</td>\n",
       "      <td>2023-10-30 10:03:03.638639</td>\n",
       "      <td>modelo_6191_mul_m_RF_LR_EN.pkl</td>\n",
       "      <td>{'selector__max_features': 1000, 'selector__es...</td>\n",
       "      <td>X_test:(87, 18875)</td>\n",
       "      <td>['ENSG00000000938.13', 'ENSG00000002587.10', '...</td>\n",
       "      <td>0.848677</td>\n",
       "      <td>[0.75, 0.889814814814815, 0.702153110047847, 0...</td>\n",
       "      <td>[0.30434782608695654, 0.6666666666666666, 0.28...</td>\n",
       "    </tr>\n",
       "    <tr>\n",
       "      <th>0</th>\n",
       "      <td>mul_m</td>\n",
       "      <td>MI</td>\n",
       "      <td>SVM</td>\n",
       "      <td>6191</td>\n",
       "      <td>0.528736</td>\n",
       "      <td>0.544686</td>\n",
       "      <td>0.564630</td>\n",
       "      <td>0.539103</td>\n",
       "      <td>NaN</td>\n",
       "      <td>amilcar22</td>\n",
       "      <td>204</td>\n",
       "      <td>2023-10-30 09:31:47.374685</td>\n",
       "      <td>modelo_6191_mul_m_MI_SVM.pkl</td>\n",
       "      <td>{'selector__k': 1000, 'clasifier__kernel': 'rb...</td>\n",
       "      <td>X_test:(87, 18875)</td>\n",
       "      <td>['ENSG00000001084.13', 'ENSG00000001460.18', '...</td>\n",
       "      <td>0.836317</td>\n",
       "      <td>[0.7816901408450705, 0.8425925925925926, 0.721...</td>\n",
       "      <td>[0.19047619047619047, 0.4, 0.23809523809523808...</td>\n",
       "    </tr>\n",
       "  </tbody>\n",
       "</table>\n",
       "</div>"
      ],
      "text/plain": [
       "    tipo select clasific  semilla  accuracy  precision    recall  f1_score  \\\n",
       "0  mul_m     RF    LR_L1     6191  0.517241   0.519863  0.534593  0.518654   \n",
       "0  mul_m     RF    LR_EN     6191  0.574713   0.593421  0.580837  0.572806   \n",
       "0  mul_m     MI      SVM     6191  0.528736   0.544686  0.564630  0.539103   \n",
       "\n",
       "   roc_auc   hostname  total_time_sec                    datetime  \\\n",
       "0      NaN  amilcar22            2012  2023-10-30 10:36:42.613722   \n",
       "0      NaN  amilcar22            1869  2023-10-30 10:03:03.638639   \n",
       "0      NaN  amilcar22             204  2023-10-30 09:31:47.374685   \n",
       "\n",
       "                   fichero_modelo  \\\n",
       "0  modelo_6191_mul_m_RF_LR_L1.pkl   \n",
       "0  modelo_6191_mul_m_RF_LR_EN.pkl   \n",
       "0    modelo_6191_mul_m_MI_SVM.pkl   \n",
       "\n",
       "                                              params               shape  \\\n",
       "0  {'selector__max_features': 1000, 'selector__es...  X_test:(87, 18875)   \n",
       "0  {'selector__max_features': 1000, 'selector__es...  X_test:(87, 18875)   \n",
       "0  {'selector__k': 1000, 'clasifier__kernel': 'rb...  X_test:(87, 18875)   \n",
       "\n",
       "                                            features  roc_auc_ovr  \\\n",
       "0  ['ENSG00000000938.13', 'ENSG00000002587.10', '...     0.823116   \n",
       "0  ['ENSG00000000938.13', 'ENSG00000002587.10', '...     0.848677   \n",
       "0  ['ENSG00000001084.13', 'ENSG00000001460.18', '...     0.836317   \n",
       "\n",
       "                                         indices_auc  \\\n",
       "0  [0.7121478873239436, 0.8796296296296297, 0.688...   \n",
       "0  [0.75, 0.889814814814815, 0.702153110047847, 0...   \n",
       "0  [0.7816901408450705, 0.8425925925925926, 0.721...   \n",
       "\n",
       "                                     indices_jaccard  \n",
       "0  [0.18181818181818182, 0.47368421052631576, 0.2...  \n",
       "0  [0.30434782608695654, 0.6666666666666666, 0.28...  \n",
       "0  [0.19047619047619047, 0.4, 0.23809523809523808...  "
      ]
     },
     "metadata": {},
     "output_type": "display_data"
    }
   ],
   "source": [
    "if M_TIPO.startswith(\"bin\"):\n",
    "    myfunc.save_metricas_to_csv(random_search, X_test, y_test, M_TIPO, M_SELECT, M_CLASIF, total_time, SEMILLA, myfunc.MET_DIR, M_FICHERO, fichero_modelo)\n",
    "else:\n",
    "    myfunc.save_metricas_multi_to_csv(random_search, X_test, y_test, M_TIPO, M_SELECT, M_CLASIF, total_time, SEMILLA, myfunc.MET_DIR, M_FICHERO, fichero_modelo)\n",
    "\n",
    "df1=myfunc.read_metricas_to_df(myfunc.MET_DIR,M_FICHERO)\n",
    "\n",
    "display(df1.sort_values(\"datetime\", ascending=False)[:3])\n"
   ]
  },
  {
   "cell_type": "markdown",
   "id": "443a8d7d",
   "metadata": {
    "papermill": {
     "duration": 0.004623,
     "end_time": "2023-10-30T09:36:42.654828",
     "exception": false,
     "start_time": "2023-10-30T09:36:42.650205",
     "status": "completed"
    },
    "tags": []
   },
   "source": [
    "#### Guardar resultados"
   ]
  },
  {
   "cell_type": "code",
   "execution_count": 13,
   "id": "86710568",
   "metadata": {
    "execution": {
     "iopub.execute_input": "2023-10-30T09:36:42.664834Z",
     "iopub.status.busy": "2023-10-30T09:36:42.664617Z",
     "iopub.status.idle": "2023-10-30T09:36:42.673172Z",
     "shell.execute_reply": "2023-10-30T09:36:42.672761Z"
    },
    "papermill": {
     "duration": 0.014929,
     "end_time": "2023-10-30T09:36:42.674261",
     "exception": false,
     "start_time": "2023-10-30T09:36:42.659332",
     "status": "completed"
    },
    "tags": []
   },
   "outputs": [
    {
     "name": "stdout",
     "output_type": "stream",
     "text": [
      "20231030T103642 : amilcar22 : INFO : Inicio guardar resultados\n",
      "20231030T103642 : amilcar22 : INFO : Inicio guardar fichero ../tfm_git/ejecuciones/metricas/resultados_6191_mul_m-RF-LR_L1.csv\n",
      "20231030T103642 : amilcar22 : INFO : Fin guardar fichero ../tfm_git/ejecuciones/metricas/resultados_6191_mul_m-RF-LR_L1.csv\n",
      "20231030T103642 : amilcar22 : INFO : Fin guardar resultados\n"
     ]
    }
   ],
   "source": [
    "fichero_resultados=R_FICHERO+\"_\"+M_TIPO+\"-\"+M_SELECT+\"-\"+M_CLASIF+\".csv\"\n",
    "myfunc.save_resultados_to_csv(M_TIPO, M_SELECT, M_CLASIF,  random_search, myfunc.MET_DIR, fichero_resultados)\n"
   ]
  }
 ],
 "metadata": {
  "kernelspec": {
   "display_name": "Python 3 (ipykernel)",
   "language": "python",
   "name": "python3"
  },
  "language_info": {
   "codemirror_mode": {
    "name": "ipython",
    "version": 3
   },
   "file_extension": ".py",
   "mimetype": "text/x-python",
   "name": "python",
   "nbconvert_exporter": "python",
   "pygments_lexer": "ipython3",
   "version": "3.10.12"
  },
  "papermill": {
   "default_parameters": {},
   "duration": 2017.464398,
   "end_time": "2023-10-30T09:36:45.297520",
   "environment_variables": {},
   "exception": null,
   "input_path": "03_entrenamiento.ipynb",
   "output_path": "ejecuciones/training/03_entrenamiento.20231030T100307.param_0000_6191_mul_m_RF_LR_L1.output.ipynb",
   "parameters": {
    "MAX_ITERS": 500,
    "M_CLASIF": "LR_L1",
    "M_FICHERO": "metricas_6191",
    "M_SELECT": "RF",
    "M_TIPO": "mul_m",
    "PRE_DATA_FILE": "rows_transpose_norm_by_gene_id_with_target_num_",
    "P_FICHERO": "param_0000_6191_mul_m_RF_LR_L1.yaml",
    "R_FICHERO": "resultados_6191",
    "SCORING": "roc_auc_ovr",
    "SEMILLA": 6191,
    "eval_clasifier": "LogisticRegressionCV(random_state=SEMILLA)",
    "eval_selector": "SelectFromModel(estimator=RandomForestClassifier(random_state=SEMILLA), threshold=-np.inf)",
    "param_distributions": {
     "clasifier__max_iter": [
      10000
     ],
     "clasifier__penalty": [
      "l1"
     ],
     "clasifier__solver": [
      "saga"
     ],
     "selector__estimator__n_estimators": [
      400
     ],
     "selector__max_features": [
      1000
     ]
    }
   },
   "start_time": "2023-10-30T09:03:07.833122",
   "version": "2.4.0"
  }
 },
 "nbformat": 4,
 "nbformat_minor": 5
}