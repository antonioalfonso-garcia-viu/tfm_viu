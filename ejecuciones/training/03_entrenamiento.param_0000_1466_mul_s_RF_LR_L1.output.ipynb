{
 "cells": [
  {
   "cell_type": "markdown",
   "id": "2756a527",
   "metadata": {
    "papermill": {
     "duration": 0.004368,
     "end_time": "2023-10-30T04:22:48.162989",
     "exception": false,
     "start_time": "2023-10-30T04:22:48.158621",
     "status": "completed"
    },
    "tags": []
   },
   "source": [
    "##### Inicio"
   ]
  },
  {
   "cell_type": "markdown",
   "id": "378fa1a2",
   "metadata": {
    "papermill": {
     "duration": 0.003526,
     "end_time": "2023-10-30T04:22:48.170370",
     "exception": false,
     "start_time": "2023-10-30T04:22:48.166844",
     "status": "completed"
    },
    "tags": []
   },
   "source": [
    "#### Carga de datos"
   ]
  },
  {
   "cell_type": "code",
   "execution_count": 1,
   "id": "0092fa0a",
   "metadata": {
    "execution": {
     "iopub.execute_input": "2023-10-30T04:22:48.178864Z",
     "iopub.status.busy": "2023-10-30T04:22:48.178634Z",
     "iopub.status.idle": "2023-10-30T04:22:49.052974Z",
     "shell.execute_reply": "2023-10-30T04:22:49.052435Z"
    },
    "papermill": {
     "duration": 0.880342,
     "end_time": "2023-10-30T04:22:49.054341",
     "exception": false,
     "start_time": "2023-10-30T04:22:48.173999",
     "status": "completed"
    },
    "tags": []
   },
   "outputs": [
    {
     "name": "stdout",
     "output_type": "stream",
     "text": [
      "CPU_COUNT: 8; NODE: amilcar22; sys.version: 3.10.12 (main, Jul  5 2023, 19:22:19) [GCC 11.2.0]\n",
      "LOKY_MAX_CPU_COUNT: 6\n",
      "OMP_NUM_THREADS: 2\n"
     ]
    }
   ],
   "source": [
    "import os\n",
    "import numpy as np\n",
    "import pandas as pd\n",
    "import datetime\n",
    "import sklearn\n",
    "import logging\n",
    "import warnings\n",
    "\n",
    "from sklearn.pipeline import Pipeline\n",
    "from sklearn.model_selection import RandomizedSearchCV, KFold, cross_val_score, train_test_split\n",
    "from sklearn.metrics import accuracy_score, confusion_matrix, classification_report, roc_auc_score\n",
    "\n",
    "#  cargar algoritmos para aprendizaje supervisado\n",
    "from sklearn.feature_selection import SelectKBest, f_classif, SelectFromModel, mutual_info_classif\n",
    "from sklearn.svm import SVC\n",
    "from sklearn.ensemble import RandomForestClassifier\n",
    "from sklearn.linear_model import LogisticRegression,LogisticRegressionCV\n",
    "\n",
    "# importar fichero con utilidades propias\n",
    "from commons import myfunctions as myfunc\n"
   ]
  },
  {
   "cell_type": "markdown",
   "id": "58672ad7",
   "metadata": {
    "papermill": {
     "duration": 0.002635,
     "end_time": "2023-10-30T04:22:49.060006",
     "exception": false,
     "start_time": "2023-10-30T04:22:49.057371",
     "status": "completed"
    },
    "tags": []
   },
   "source": [
    "#### Parámetros a utilizar en el entrenamiento.\n",
    "\n",
    "Se indican los 3 algoritmos de *selección de características* (eval_selector_xxx) y los 3 algoritmos para la _clasificación_ (eval_clasifier_xxx)\n",
    "\n",
    "En *param_distributions* se indicar los parámetros que utilizan los algoritmos en la función RandomSearchCV.\n",
    "\n",
    "Esta celda tiene la etiqueta **parameters** que servirá para poder lanzar los entrenamientos con la utilidad **papermill** pasándole un fichero con los parámetros. Los nuevos parámetros se situarán tras esta celda para tener prevalencia."
   ]
  },
  {
   "cell_type": "code",
   "execution_count": 2,
   "id": "25957ac4",
   "metadata": {
    "execution": {
     "iopub.execute_input": "2023-10-30T04:22:49.066011Z",
     "iopub.status.busy": "2023-10-30T04:22:49.065740Z",
     "iopub.status.idle": "2023-10-30T04:22:49.072741Z",
     "shell.execute_reply": "2023-10-30T04:22:49.072267Z"
    },
    "papermill": {
     "duration": 0.01134,
     "end_time": "2023-10-30T04:22:49.073856",
     "exception": false,
     "start_time": "2023-10-30T04:22:49.062516",
     "status": "completed"
    },
    "tags": [
     "parameters"
    ]
   },
   "outputs": [
    {
     "name": "stdout",
     "output_type": "stream",
     "text": [
      "20231030T052249 : amilcar22 : INFO : Utilizando parámetros de mul_m\n"
     ]
    }
   ],
   "source": [
    "#  Parametros para el entrenamiento\n",
    "\n",
    "SEMILLA=        42\n",
    "M_TIPO=         \"mul_m\"\n",
    "M_SELECT=       \"MI\"\n",
    "M_CLASIF=       \"SVM\"\n",
    "R_FICHERO=      \"resultados\"\n",
    "M_FICHERO=      \"metricas\"\n",
    "PRE_DATA_FILE=  \"rows_transpose_norm_by_gene_id_with_target_num_\"\n",
    "SCORING=        \"roc_auc_ovr\" \n",
    "MAX_ITERS=      100\n",
    "\n",
    "def mutual_info_classif_state(X, y):\n",
    "    return mutual_info_classif(X, y, random_state=SEMILLA)\n",
    "\n",
    "eval_selector_mi = \"SelectKBest(score_func=mutual_info_classif_state)\"\n",
    "eval_selector_rf=  \"SelectFromModel(estimator=RandomForestClassifier(random_state=SEMILLA), threshold=-np.inf)\"\n",
    "eval_selector_anova=  \"SelectKBest(score_func=f_classif)\"\n",
    "\n",
    "eval_clasifier_svm= \"SVC(probability=True, random_state=SEMILLA)\"\n",
    "eval_clasifier_rf= \"RandomForestClassifier(random_state=SEMILLA)\"\n",
    "eval_clasifier_lr= \"LogisticRegressionCV(random_state=SEMILLA)\"\n",
    "\n",
    "if M_TIPO.startswith(\"bin_m\"):\n",
    "    myfunc.verbose(f\"Utilizando parámetros de {M_TIPO}\")\n",
    "    eval_selector = eval_selector_mi\n",
    "    eval_clasifier = eval_clasifier_svm\n",
    "\n",
    "    SEMILLA = 6578\n",
    "    M_SELECT = \"MI\"\n",
    "    M_CLASIF = \"SVM\"\n",
    "    param_distributions = {'selector__k': [1000], \n",
    "         'clasifier__kernel': ['rbf'], 'clasifier__gamma': [0.01], 'clasifier__C': [100]}\n",
    "elif M_TIPO.startswith(\"bin_s\"):\n",
    "    myfunc.verbose(f\"Utilizando parámetros de {M_TIPO}\")\n",
    "    eval_selector = eval_selector_rf\n",
    "    eval_clasifier = eval_clasifier_lr\n",
    "\n",
    "    SEMILLA = 6191\n",
    "    M_SELECT = \"RF\"\n",
    "    M_CLASIF = \"LR_L2\"\n",
    "    param_distributions = {'selector__max_features': [1000], 'selector__estimator__n_estimators': [200], \n",
    "        'clasifier__solver': ['lbfgs'], 'clasifier__penalty': ['l2'], 'clasifier__max_iter': [10000]}\n",
    "\n",
    "elif M_TIPO.startswith(\"mul_m\"):\n",
    "    myfunc.verbose(f\"Utilizando parámetros de {M_TIPO}\")\n",
    " \n",
    "    eval_selector = eval_selector_rf\n",
    "    eval_clasifier = eval_clasifier_lr\n",
    "\n",
    "    SEMILLA = 6191\n",
    "    M_SELECT = \"RF\"\n",
    "    M_CLASIF = \"LR_L2\"\n",
    "    param_distributions = {'selector__max_features': [1000], 'selector__estimator__n_estimators': [400], \n",
    "        'clasifier__solver': ['lbfgs'], 'clasifier__penalty': ['l2'], 'clasifier__max_iter': [10000]}\n",
    "\n",
    "else:\n",
    "    # M_TIPO.startswith(\"mul_s\"):\n",
    "    myfunc.verbose(f\"Utilizando parámetros de {M_TIPO}\")\n",
    "    eval_selector = eval_selector_anova\n",
    "    eval_clasifier = eval_clasifier_lr\n",
    "\n",
    "    SEMILLA = 1860\n",
    "    M_SELECT = \"ANOVA\"\n",
    "    M_CLASIF = \"LR_L2\"\n",
    "    param_distributions = {'selector__k': [1000], \n",
    "        'clasifier__solver': ['saga'], 'clasifier__penalty': ['l2'], 'clasifier__max_iter': [10000]}\n",
    "\n"
   ]
  },
  {
   "cell_type": "code",
   "execution_count": 3,
   "id": "9da5ba0c",
   "metadata": {
    "execution": {
     "iopub.execute_input": "2023-10-30T04:22:49.080055Z",
     "iopub.status.busy": "2023-10-30T04:22:49.079885Z",
     "iopub.status.idle": "2023-10-30T04:22:49.083352Z",
     "shell.execute_reply": "2023-10-30T04:22:49.082835Z"
    },
    "papermill": {
     "duration": 0.00785,
     "end_time": "2023-10-30T04:22:49.084577",
     "exception": false,
     "start_time": "2023-10-30T04:22:49.076727",
     "status": "completed"
    },
    "tags": [
     "injected-parameters"
    ]
   },
   "outputs": [],
   "source": [
    "# Parameters\n",
    "M_TIPO = \"mul_s\"\n",
    "M_SELECT = \"RF\"\n",
    "M_CLASIF = \"LR_L1\"\n",
    "P_FICHERO = \"param_0000_1466_mul_s_RF_LR_L1.yaml\"\n",
    "R_FICHERO = \"resultados_1466\"\n",
    "M_FICHERO = \"metricas_1466\"\n",
    "PRE_DATA_FILE = \"rows_transpose_norm_by_gene_id_with_target_num_\"\n",
    "SCORING = \"roc_auc_ovr\"\n",
    "SEMILLA = 1466\n",
    "MAX_ITERS = 500\n",
    "eval_selector = \"SelectFromModel(estimator=RandomForestClassifier(random_state=SEMILLA), threshold=-np.inf)\"\n",
    "eval_clasifier = \"LogisticRegressionCV(random_state=SEMILLA)\"\n",
    "param_distributions = {\n",
    "    \"selector__max_features\": [500],\n",
    "    \"selector__estimator__n_estimators\": [100],\n",
    "    \"clasifier__solver\": [\"saga\"],\n",
    "    \"clasifier__penalty\": [\"l1\"],\n",
    "    \"clasifier__max_iter\": [10000],\n",
    "}\n"
   ]
  },
  {
   "cell_type": "code",
   "execution_count": 4,
   "id": "0cbe1d7d",
   "metadata": {
    "execution": {
     "iopub.execute_input": "2023-10-30T04:22:49.090456Z",
     "iopub.status.busy": "2023-10-30T04:22:49.090281Z",
     "iopub.status.idle": "2023-10-30T04:22:49.093230Z",
     "shell.execute_reply": "2023-10-30T04:22:49.092761Z"
    },
    "papermill": {
     "duration": 0.007213,
     "end_time": "2023-10-30T04:22:49.094429",
     "exception": false,
     "start_time": "2023-10-30T04:22:49.087216",
     "status": "completed"
    },
    "tags": []
   },
   "outputs": [],
   "source": [
    "DATA_FILE = PRE_DATA_FILE + M_TIPO\n",
    "\n",
    "# si viene \"None\" en el parámetro max_depth, se le quitan las comillas para que no sea entendido por el algoritmo como un texto\n",
    "if \"clasifier__max_depth\" in param_distributions:\n",
    "    param_distributions['clasifier__max_depth'] = [None if x == 'None' else x for x in param_distributions['clasifier__max_depth']]"
   ]
  },
  {
   "cell_type": "markdown",
   "id": "6862e1b7",
   "metadata": {
    "papermill": {
     "duration": 0.002788,
     "end_time": "2023-10-30T04:22:49.100154",
     "exception": false,
     "start_time": "2023-10-30T04:22:49.097366",
     "status": "completed"
    },
    "tags": []
   },
   "source": [
    "Asignar los algoritmos que se utilizarán en la función RandomSearchCV"
   ]
  },
  {
   "cell_type": "code",
   "execution_count": 5,
   "id": "c28b8e4a",
   "metadata": {
    "execution": {
     "iopub.execute_input": "2023-10-30T04:22:49.106499Z",
     "iopub.status.busy": "2023-10-30T04:22:49.106332Z",
     "iopub.status.idle": "2023-10-30T04:22:49.109055Z",
     "shell.execute_reply": "2023-10-30T04:22:49.108539Z"
    },
    "papermill": {
     "duration": 0.007311,
     "end_time": "2023-10-30T04:22:49.110326",
     "exception": false,
     "start_time": "2023-10-30T04:22:49.103015",
     "status": "completed"
    },
    "tags": []
   },
   "outputs": [],
   "source": [
    "algor_selector=eval(eval_selector)\n",
    "algor_clasifier=eval(eval_clasifier)"
   ]
  },
  {
   "cell_type": "markdown",
   "id": "cb0332cb",
   "metadata": {
    "papermill": {
     "duration": 0.003352,
     "end_time": "2023-10-30T04:22:49.117020",
     "exception": false,
     "start_time": "2023-10-30T04:22:49.113668",
     "status": "completed"
    },
    "tags": []
   },
   "source": [
    "#### Comprobar el entorno y leer fichero de muestras"
   ]
  },
  {
   "cell_type": "code",
   "execution_count": 6,
   "id": "d3ae221b",
   "metadata": {
    "execution": {
     "iopub.execute_input": "2023-10-30T04:22:49.124511Z",
     "iopub.status.busy": "2023-10-30T04:22:49.124322Z",
     "iopub.status.idle": "2023-10-30T04:22:49.252973Z",
     "shell.execute_reply": "2023-10-30T04:22:49.252359Z"
    },
    "papermill": {
     "duration": 0.133994,
     "end_time": "2023-10-30T04:22:49.254326",
     "exception": false,
     "start_time": "2023-10-30T04:22:49.120332",
     "status": "completed"
    },
    "tags": []
   },
   "outputs": [
    {
     "name": "stdout",
     "output_type": "stream",
     "text": [
      "20231030T052249 : amilcar22 : INFO : Encontrada carpeta DATA_DIR=../tfm_git/datos\n",
      "20231030T052249 : amilcar22 : INFO : Encontrada carpeta CFDNA_DIR=../tfm_git/datos/cfDNA_5hmC\n",
      "20231030T052249 : amilcar22 : INFO : Encontrada carpeta GENCODE_DIR=../tfm_git/datos/gencode\n",
      "20231030T052249 : amilcar22 : INFO : Encontrada carpeta H5_DIR=../tfm_git/datos/h5\n",
      "20231030T052249 : amilcar22 : INFO : Encontrada carpeta LOG_DIR=../tfm_git/datos/logs\n",
      "20231030T052249 : amilcar22 : INFO : Encontrada carpeta CSV_DIR=../tfm_git/datos/csv\n",
      "20231030T052249 : amilcar22 : INFO : Encontrada carpeta MODEL_DIR=../tfm_git/ejecuciones/modelos\n",
      "20231030T052249 : amilcar22 : INFO : Encontrada carpeta EXEC_DIR=../tfm_git/ejecuciones\n",
      "20231030T052249 : amilcar22 : INFO : Encontrada carpeta MET_DIR=../tfm_git/ejecuciones/metricas\n",
      "20231030T052249 : amilcar22 : INFO : Inicio leer fichero h5 ../tfm_git/datos/h5/rows_transpose_norm_by_gene_id_with_target_num_mul_s.h5\n",
      "20231030T052249 : amilcar22 : INFO : Leyendo clave /df\n",
      "20231030T052249 : amilcar22 : INFO : Tamaño (259, 18876)\n",
      "20231030T052249 : amilcar22 : INFO : Fin leer fichero h5 ../tfm_git/datos/h5/rows_transpose_norm_by_gene_id_with_target_num_mul_s.h5\n"
     ]
    },
    {
     "data": {
      "text/plain": [
       "target\n",
       "0    37\n",
       "1    37\n",
       "2    37\n",
       "3    37\n",
       "4    37\n",
       "5    37\n",
       "6    37\n",
       "dtype: int64"
      ]
     },
     "metadata": {},
     "output_type": "display_data"
    },
    {
     "name": "stdout",
     "output_type": "stream",
     "text": [
      "Shape df: (259, 18876)\n",
      "Shape X_train: (207, 18875)\n",
      "Shape X_test: (52, 18875)\n"
     ]
    }
   ],
   "source": [
    "start_time = datetime.datetime.now()\n",
    "\n",
    "myfunc.reset_vars()\n",
    "\n",
    "myfunc.NOTEBK_FILENAME = myfunc.get_nb_name()\n",
    "\n",
    "myfunc.check_enviroment(myfunc.DATA_DIR, myfunc.CFDNA_DIR, myfunc.GENCODE_DIR, myfunc.H5_DIR, myfunc.LOG_DIR, myfunc.CSV_DIR, myfunc.MODEL_DIR, myfunc.EXEC_DIR, myfunc.MET_DIR)\n",
    "\n",
    "# Leer fichero con las muestras\n",
    "df_t = myfunc.read_h5_to_df(DATA_FILE, myfunc.H5_DIR)\n",
    "display(df_t.groupby(\"target\").size())\n",
    "print(\"Shape df:\",df_t.shape)\n",
    "\n",
    "# Separar caracteristicas/genes de las etiquetas/tipos de cáncer\n",
    "X = df_t.iloc[:, :-1]  # Todas las columnas excepto la última\n",
    "y = df_t.iloc[:, -1]  # La última columna contiene los identificadores de los tipos de cáncer\n",
    "\n",
    "#  Crear el conjunto de datos de entrenamiento y de pruebas, y se fija la semilla para siempre coger el mismo juego de muestras\n",
    "X_train, X_test, y_train, y_test = train_test_split(X, y, test_size=0.2, shuffle=True, random_state=42)\n",
    "print(\"Shape X_train:\",X_train.shape)\n",
    "print(\"Shape X_test:\",X_test.shape)\n"
   ]
  },
  {
   "cell_type": "markdown",
   "id": "437d9f83",
   "metadata": {
    "papermill": {
     "duration": 0.002652,
     "end_time": "2023-10-30T04:22:49.260174",
     "exception": false,
     "start_time": "2023-10-30T04:22:49.257522",
     "status": "completed"
    },
    "tags": []
   },
   "source": [
    "#### Selección de características y clasificación."
   ]
  },
  {
   "cell_type": "code",
   "execution_count": 7,
   "id": "68e5c70f",
   "metadata": {
    "execution": {
     "iopub.execute_input": "2023-10-30T04:22:49.266536Z",
     "iopub.status.busy": "2023-10-30T04:22:49.266340Z",
     "iopub.status.idle": "2023-10-30T04:31:30.129557Z",
     "shell.execute_reply": "2023-10-30T04:31:30.128983Z"
    },
    "papermill": {
     "duration": 520.868013,
     "end_time": "2023-10-30T04:31:30.130893",
     "exception": false,
     "start_time": "2023-10-30T04:22:49.262880",
     "status": "completed"
    },
    "tags": []
   },
   "outputs": [
    {
     "name": "stdout",
     "output_type": "stream",
     "text": [
      "20231030T052249 : amilcar22 : INFO : Iniciando entrenamiento\n",
      "num_iter: 1 , max_iter: 1\n"
     ]
    },
    {
     "name": "stdout",
     "output_type": "stream",
     "text": [
      "Fitting 5 folds for each of 1 candidates, totalling 5 fits\n"
     ]
    },
    {
     "name": "stdout",
     "output_type": "stream",
     "text": [
      "[CV 1/5] END clasifier__max_iter=10000, clasifier__penalty=l1, clasifier__solver=saga, selector__estimator__n_estimators=100, selector__max_features=500;, score=0.690 total time= 3.0min\n"
     ]
    },
    {
     "name": "stdout",
     "output_type": "stream",
     "text": [
      "[CV 3/5] END clasifier__max_iter=10000, clasifier__penalty=l1, clasifier__solver=saga, selector__estimator__n_estimators=100, selector__max_features=500;, score=0.766 total time= 3.6min\n"
     ]
    },
    {
     "name": "stdout",
     "output_type": "stream",
     "text": [
      "Mejores Hiperparámetros: {'selector__max_features': 500, 'selector__estimator__n_estimators': 100, 'clasifier__solver': 'saga', 'clasifier__penalty': 'l1', 'clasifier__max_iter': 10000}\n",
      "Mejor Puntuación: 0.7581\n",
      "20231030T053130 : amilcar22 : INFO : Fin entrenamiento\n"
     ]
    }
   ],
   "source": [
    "myfunc.verbose(\"Iniciando entrenamiento\")\n",
    "\n",
    "kf = KFold(n_splits=5, shuffle=True, random_state=SEMILLA)\n",
    "\n",
    "# Crear el pipeline para el flujo de tareas\n",
    "tasks_pipeline = Pipeline([\n",
    "    ('selector', algor_selector),\n",
    "    ('clasifier', algor_clasifier)\n",
    "])\n",
    "\n",
    "# MAX_ITERS puede limitar el número de iteraciones si son excesivas para las combinaciones de parámetros buscando un óptimo local, \n",
    "# sino funcionaría como GridSearchCV al revisar todas las cominaciones de los parámetros\n",
    "num_iteraciones = 1\n",
    "num_iteraciones = num_iteraciones * np.prod([len(elemento1) for _, elemento1 in param_distributions.items()])\n",
    "max_iteraciones = num_iteraciones if num_iteraciones <= MAX_ITERS else MAX_ITERS\n",
    "print(\"num_iter:\",num_iteraciones,\", max_iter:\",max_iteraciones)\n",
    "\n",
    "random_search = RandomizedSearchCV(\n",
    "    tasks_pipeline, \n",
    "    param_distributions, \n",
    "    n_iter=max_iteraciones,\n",
    "    scoring=SCORING,\n",
    "    cv=kf,\n",
    "    verbose=3, \n",
    "    random_state=SEMILLA, \n",
    "    n_jobs=-1\n",
    "    )\n",
    "\n",
    "# Entrenar el modelo\n",
    "random_search.fit(X_train, y_train)\n",
    "\n",
    "# Ver los mejores hiperparámetros encontrados\n",
    "print(f'Mejores Hiperparámetros: {random_search.best_params_}')\n",
    "print(f'Mejor Puntuación: {random_search.best_score_:.4f}')\n",
    "\n",
    "# Nos quedamos con el mejor modelo para ver las métricas\n",
    "mejor_modelo = random_search.best_estimator_\n",
    "\n",
    "myfunc.verbose(\"Fin entrenamiento\")"
   ]
  },
  {
   "cell_type": "markdown",
   "id": "ba1e160a",
   "metadata": {
    "papermill": {
     "duration": 0.002981,
     "end_time": "2023-10-30T04:31:30.137072",
     "exception": false,
     "start_time": "2023-10-30T04:31:30.134091",
     "status": "completed"
    },
    "tags": []
   },
   "source": [
    "#### Guardar modelo"
   ]
  },
  {
   "cell_type": "code",
   "execution_count": 8,
   "id": "a9bad676",
   "metadata": {
    "execution": {
     "iopub.execute_input": "2023-10-30T04:31:30.144019Z",
     "iopub.status.busy": "2023-10-30T04:31:30.143793Z",
     "iopub.status.idle": "2023-10-30T04:31:30.186072Z",
     "shell.execute_reply": "2023-10-30T04:31:30.185530Z"
    },
    "papermill": {
     "duration": 0.047404,
     "end_time": "2023-10-30T04:31:30.187437",
     "exception": false,
     "start_time": "2023-10-30T04:31:30.140033",
     "status": "completed"
    },
    "tags": []
   },
   "outputs": [
    {
     "name": "stdout",
     "output_type": "stream",
     "text": [
      "20231030T053130 : amilcar22 : INFO : Inicio guardar fichero ../tfm_git/ejecuciones/modelos/modelo_1466_mul_s_RF_LR_L1.pkl\n",
      "20231030T053130 : amilcar22 : INFO : Fin guardar fichero ../tfm_git/ejecuciones/modelos/modelo_1466_mul_s_RF_LR_L1.pkl\n"
     ]
    }
   ],
   "source": [
    "fichero_modelo = str.replace(\"modelo_\"+str(SEMILLA).zfill(4)+\"_\"+M_TIPO+\"_\"+M_SELECT+\"_\"+M_CLASIF+\".pkl\", \" \", \"_\")\n",
    "\n",
    "myfunc.save_modelo(mejor_modelo, myfunc.MODEL_DIR, fichero_modelo)"
   ]
  },
  {
   "cell_type": "markdown",
   "id": "f3628c12",
   "metadata": {
    "papermill": {
     "duration": 0.003114,
     "end_time": "2023-10-30T04:31:30.193884",
     "exception": false,
     "start_time": "2023-10-30T04:31:30.190770",
     "status": "completed"
    },
    "tags": []
   },
   "source": [
    "#### Ver resultados del las iteraciones hechas por RandomSearchCV"
   ]
  },
  {
   "cell_type": "code",
   "execution_count": 9,
   "id": "bf28deaa",
   "metadata": {
    "execution": {
     "iopub.execute_input": "2023-10-30T04:31:30.200850Z",
     "iopub.status.busy": "2023-10-30T04:31:30.200603Z",
     "iopub.status.idle": "2023-10-30T04:31:30.206879Z",
     "shell.execute_reply": "2023-10-30T04:31:30.206413Z"
    },
    "papermill": {
     "duration": 0.011184,
     "end_time": "2023-10-30T04:31:30.208085",
     "exception": false,
     "start_time": "2023-10-30T04:31:30.196901",
     "status": "completed"
    },
    "tags": []
   },
   "outputs": [
    {
     "name": "stdout",
     "output_type": "stream",
     "text": [
      "20231030T053130 : amilcar22 : INFO : Inicio ver resultados\n",
      "Mejores Hiperparámetros: {'selector__max_features': 500, 'selector__estimator__n_estimators': 100, 'clasifier__solver': 'saga', 'clasifier__penalty': 'l1', 'clasifier__max_iter': 10000}\n",
      "Mejores puntuaciones: 0.7581 | Params: {'selector__max_features': 500, 'selector__estimator__n_estimators': 100, 'clasifier__solver': 'saga', 'clasifier__penalty': 'l1', 'clasifier__max_iter': 10000}\n",
      "Media de las puntuaciones: 0.7581 | Params: {'selector__max_features': 500, 'selector__estimator__n_estimators': 100, 'clasifier__solver': 'saga', 'clasifier__penalty': 'l1', 'clasifier__max_iter': 10000}\n",
      "20231030T053130 : amilcar22 : INFO : Fin resultados\n"
     ]
    }
   ],
   "source": [
    "myfunc.ver_resultados_search(random_search)"
   ]
  },
  {
   "cell_type": "markdown",
   "id": "14ed42ed",
   "metadata": {
    "papermill": {
     "duration": 0.003101,
     "end_time": "2023-10-30T04:31:30.214543",
     "exception": false,
     "start_time": "2023-10-30T04:31:30.211442",
     "status": "completed"
    },
    "tags": []
   },
   "source": [
    "#### Ver métricas del mejor modelo"
   ]
  },
  {
   "cell_type": "code",
   "execution_count": 10,
   "id": "991a9535",
   "metadata": {
    "execution": {
     "iopub.execute_input": "2023-10-30T04:31:30.221506Z",
     "iopub.status.busy": "2023-10-30T04:31:30.221307Z",
     "iopub.status.idle": "2023-10-30T04:31:30.864114Z",
     "shell.execute_reply": "2023-10-30T04:31:30.863620Z"
    },
    "papermill": {
     "duration": 0.647742,
     "end_time": "2023-10-30T04:31:30.865383",
     "exception": false,
     "start_time": "2023-10-30T04:31:30.217641",
     "status": "completed"
    },
    "tags": []
   },
   "outputs": [
    {
     "name": "stdout",
     "output_type": "stream",
     "text": [
      "20231030T053130 : amilcar22 : INFO : Inicio ver métricas multiclase\n"
     ]
    },
    {
     "name": "stdout",
     "output_type": "stream",
     "text": [
      "              precision    recall  f1-score   support\n",
      "\n",
      "           0       0.25      0.18      0.21        11\n",
      "           1       0.80      0.50      0.62         8\n",
      "           2       0.40      0.25      0.31         8\n",
      "           3       0.00      0.00      0.00         5\n",
      "           4       0.64      0.88      0.74         8\n",
      "           5       0.67      0.67      0.67         6\n",
      "           6       0.40      0.67      0.50         6\n",
      "\n",
      "    accuracy                           0.44        52\n",
      "   macro avg       0.45      0.45      0.43        52\n",
      "weighted avg       0.46      0.44      0.43        52\n",
      "\n",
      "\n",
      "\n",
      "           Exactitud: 0.442308\n",
      "   Precisión (media): 0.450433\n",
      "      Recall (media): 0.448593\n",
      "    F1-score (media): 0.433873\n",
      "\n",
      "\n",
      "AUC para el tipo de cáncer 0-Control.... 0.6341\n",
      "AUC para el tipo de cáncer 1-Bladder.... 0.8608\n",
      "AUC para el tipo de cáncer 2-Breast..... 0.7642\n",
      "AUC para el tipo de cáncer 3-Colorectal. 0.6383\n",
      "AUC para el tipo de cáncer 4-Kidney..... 0.9602\n",
      "AUC para el tipo de cáncer 5-Lung....... 0.9529\n",
      "AUC para el tipo de cáncer 6-Prostate... 0.8841\n",
      "\n",
      "Media de AUC: 0.8135\n"
     ]
    },
    {
     "data": {
      "image/png": "[encoded data removed]",
      "text/plain": [
       "<Figure size 1000x600 with 1 Axes>"
      ]
     },
     "metadata": {},
     "output_type": "display_data"
    },
    {
     "name": "stdout",
     "output_type": "stream",
     "text": [
      "\n",
      "\n"
     ]
    },
    {
     "data": {
      "image/png": "[encoded data removed]",
      "text/plain": [
       "<Figure size 800x400 with 2 Axes>"
      ]
     },
     "metadata": {},
     "output_type": "display_data"
    },
    {
     "name": "stdout",
     "output_type": "stream",
     "text": [
      "\n",
      "\n",
      "Puntuación Jaccard para el cáncer tipo 0-Control.... 0.1176\n",
      "Puntuación Jaccard para el cáncer tipo 1-Bladder.... 0.4444\n",
      "Puntuación Jaccard para el cáncer tipo 2-Breast..... 0.1818\n",
      "Puntuación Jaccard para el cáncer tipo 3-Colorectal. 0.0000\n",
      "Puntuación Jaccard para el cáncer tipo 4-Kidney..... 0.5833\n",
      "Puntuación Jaccard para el cáncer tipo 5-Lung....... 0.5000\n",
      "Puntuación Jaccard para el cáncer tipo 6-Prostate... 0.3333\n",
      "\n",
      "Media de la puntuación de Jaccard: 0.3087\n"
     ]
    }
   ],
   "source": [
    "if M_TIPO.startswith(\"bin\"):\n",
    "    myfunc.ver_metricas(mejor_modelo, X_test, y_test)\n",
    "else:\n",
    "    myfunc.ver_metricas_multi(mejor_modelo, X_test, y_test)\n"
   ]
  },
  {
   "cell_type": "markdown",
   "id": "4e26b552",
   "metadata": {
    "papermill": {
     "duration": 0.004191,
     "end_time": "2023-10-30T04:31:30.874610",
     "exception": false,
     "start_time": "2023-10-30T04:31:30.870419",
     "status": "completed"
    },
    "tags": []
   },
   "source": [
    "#### Finalización del notebook"
   ]
  },
  {
   "cell_type": "code",
   "execution_count": 11,
   "id": "99b90467",
   "metadata": {
    "execution": {
     "iopub.execute_input": "2023-10-30T04:31:30.883760Z",
     "iopub.status.busy": "2023-10-30T04:31:30.883555Z",
     "iopub.status.idle": "2023-10-30T04:31:30.886751Z",
     "shell.execute_reply": "2023-10-30T04:31:30.886318Z"
    },
    "papermill": {
     "duration": 0.009042,
     "end_time": "2023-10-30T04:31:30.887893",
     "exception": false,
     "start_time": "2023-10-30T04:31:30.878851",
     "status": "completed"
    },
    "tags": []
   },
   "outputs": [
    {
     "name": "stdout",
     "output_type": "stream",
     "text": [
      "20231030T053130 : amilcar22 : INFO : Notebook ha tardado 521 seconds\n"
     ]
    }
   ],
   "source": [
    "end_time = datetime.datetime.now()\n",
    "total_time = end_time - start_time\n",
    "myfunc.verbose(f\"Notebook ha tardado {total_time.seconds} seconds\")"
   ]
  },
  {
   "cell_type": "markdown",
   "id": "590facac",
   "metadata": {
    "papermill": {
     "duration": 0.00435,
     "end_time": "2023-10-30T04:31:30.896860",
     "exception": false,
     "start_time": "2023-10-30T04:31:30.892510",
     "status": "completed"
    },
    "tags": []
   },
   "source": [
    "#### Guardar métricas"
   ]
  },
  {
   "cell_type": "code",
   "execution_count": 12,
   "id": "ab653a8c",
   "metadata": {
    "execution": {
     "iopub.execute_input": "2023-10-30T04:31:30.905870Z",
     "iopub.status.busy": "2023-10-30T04:31:30.905691Z",
     "iopub.status.idle": "2023-10-30T04:31:31.198646Z",
     "shell.execute_reply": "2023-10-30T04:31:31.198101Z"
    },
    "papermill": {
     "duration": 0.29922,
     "end_time": "2023-10-30T04:31:31.200223",
     "exception": false,
     "start_time": "2023-10-30T04:31:30.901003",
     "status": "completed"
    },
    "tags": []
   },
   "outputs": [
    {
     "name": "stdout",
     "output_type": "stream",
     "text": [
      "20231030T053130 : amilcar22 : INFO : Inicio guardar métricas multiclase\n",
      "20231030T053130 : amilcar22 : INFO : Inicio leer fichero ../tfm_git/ejecuciones/metricas/metricas_1466.csv\n",
      "20231030T053130 : amilcar22 : INFO : Fin leer fichero ../tfm_git/ejecuciones/metricas/metricas_1466.csv\n"
     ]
    },
    {
     "name": "stdout",
     "output_type": "stream",
     "text": [
      "[CV 5/5] END clasifier__max_iter=10000, clasifier__penalty=l1, clasifier__solver=saga, selector__estimator__n_estimators=100, selector__max_features=500;, score=0.743 total time= 3.7min\n"
     ]
    },
    {
     "name": "stdout",
     "output_type": "stream",
     "text": [
      "20231030T053131 : amilcar22 : INFO : Inicio guardar fichero ../tfm_git/ejecuciones/metricas/metricas_1466.csv\n",
      "20231030T053131 : amilcar22 : INFO : Fichero borrado ../tfm_git/ejecuciones/metricas/metricas_1466.csv\n",
      "20231030T053131 : amilcar22 : INFO : Fin guardar fichero ../tfm_git/ejecuciones/metricas/metricas_1466.csv\n",
      "20231030T053131 : amilcar22 : INFO : Fin guardar métricas multiclase\n",
      "20231030T053131 : amilcar22 : INFO : Inicio leer fichero ../tfm_git/ejecuciones/metricas/metricas_1466.csv\n",
      "20231030T053131 : amilcar22 : INFO : Fin leer fichero ../tfm_git/ejecuciones/metricas/metricas_1466.csv\n"
     ]
    },
    {
     "data": {
      "text/html": [
       "<div>\n",
       "<style scoped>\n",
       "    .dataframe tbody tr th:only-of-type {\n",
       "        vertical-align: middle;\n",
       "    }\n",
       "\n",
       "    .dataframe tbody tr th {\n",
       "        vertical-align: top;\n",
       "    }\n",
       "\n",
       "    .dataframe thead th {\n",
       "        text-align: right;\n",
       "    }\n",
       "</style>\n",
       "<table border=\"1\" class=\"dataframe\">\n",
       "  <thead>\n",
       "    <tr style=\"text-align: right;\">\n",
       "      <th></th>\n",
       "      <th>tipo</th>\n",
       "      <th>select</th>\n",
       "      <th>clasific</th>\n",
       "      <th>semilla</th>\n",
       "      <th>accuracy</th>\n",
       "      <th>precision</th>\n",
       "      <th>recall</th>\n",
       "      <th>f1_score</th>\n",
       "      <th>roc_auc</th>\n",
       "      <th>hostname</th>\n",
       "      <th>total_time_sec</th>\n",
       "      <th>datetime</th>\n",
       "      <th>fichero_modelo</th>\n",
       "      <th>params</th>\n",
       "      <th>shape</th>\n",
       "      <th>features</th>\n",
       "      <th>roc_auc_ovr</th>\n",
       "      <th>indices_auc</th>\n",
       "      <th>indices_jaccard</th>\n",
       "    </tr>\n",
       "  </thead>\n",
       "  <tbody>\n",
       "    <tr>\n",
       "      <th>0</th>\n",
       "      <td>mul_s</td>\n",
       "      <td>RF</td>\n",
       "      <td>LR_L1</td>\n",
       "      <td>1466</td>\n",
       "      <td>0.442308</td>\n",
       "      <td>0.450433</td>\n",
       "      <td>0.448593</td>\n",
       "      <td>0.433873</td>\n",
       "      <td>NaN</td>\n",
       "      <td>amilcar22</td>\n",
       "      <td>521</td>\n",
       "      <td>2023-10-30 05:31:31.161663</td>\n",
       "      <td>modelo_1466_mul_s_RF_LR_L1.pkl</td>\n",
       "      <td>{'selector__max_features': 500, 'selector__est...</td>\n",
       "      <td>X_test:(52, 18875)</td>\n",
       "      <td>['ENSG00000005513.10', 'ENSG00000010165.20', '...</td>\n",
       "      <td>0.813518</td>\n",
       "      <td>[0.6341463414634146, 0.8607954545454546, 0.764...</td>\n",
       "      <td>[0.11764705882352941, 0.4444444444444444, 0.18...</td>\n",
       "    </tr>\n",
       "    <tr>\n",
       "      <th>0</th>\n",
       "      <td>mul_s</td>\n",
       "      <td>RF</td>\n",
       "      <td>LR_EN</td>\n",
       "      <td>1466</td>\n",
       "      <td>0.403846</td>\n",
       "      <td>0.457483</td>\n",
       "      <td>0.417641</td>\n",
       "      <td>0.410678</td>\n",
       "      <td>NaN</td>\n",
       "      <td>amilcar22</td>\n",
       "      <td>448</td>\n",
       "      <td>2023-10-30 05:22:43.042929</td>\n",
       "      <td>modelo_1466_mul_s_RF_LR_EN.pkl</td>\n",
       "      <td>{'selector__max_features': 500, 'selector__est...</td>\n",
       "      <td>X_test:(52, 18875)</td>\n",
       "      <td>['ENSG00000000938.13', 'ENSG00000005513.10', '...</td>\n",
       "      <td>0.785003</td>\n",
       "      <td>[0.516629711751663, 0.8409090909090909, 0.7670...</td>\n",
       "      <td>[0.125, 0.5, 0.15384615384615385, 0.0714285714...</td>\n",
       "    </tr>\n",
       "    <tr>\n",
       "      <th>0</th>\n",
       "      <td>mul_s</td>\n",
       "      <td>MI</td>\n",
       "      <td>SVM</td>\n",
       "      <td>1466</td>\n",
       "      <td>0.403846</td>\n",
       "      <td>0.409070</td>\n",
       "      <td>0.416450</td>\n",
       "      <td>0.397716</td>\n",
       "      <td>NaN</td>\n",
       "      <td>amilcar22</td>\n",
       "      <td>190</td>\n",
       "      <td>2023-10-30 05:15:07.998642</td>\n",
       "      <td>modelo_1466_mul_s_MI_SVM.pkl</td>\n",
       "      <td>{'selector__k': 1000, 'clasifier__kernel': 'rb...</td>\n",
       "      <td>X_test:(52, 18875)</td>\n",
       "      <td>['ENSG00000003137.9', 'ENSG00000005513.10', 'E...</td>\n",
       "      <td>0.761388</td>\n",
       "      <td>[0.5321507760532151, 0.8494318181818181, 0.664...</td>\n",
       "      <td>[0.13333333333333333, 0.4444444444444444, 0.0,...</td>\n",
       "    </tr>\n",
       "  </tbody>\n",
       "</table>\n",
       "</div>"
      ],
      "text/plain": [
       "    tipo select clasific  semilla  accuracy  precision    recall  f1_score  \\\n",
       "0  mul_s     RF    LR_L1     1466  0.442308   0.450433  0.448593  0.433873   \n",
       "0  mul_s     RF    LR_EN     1466  0.403846   0.457483  0.417641  0.410678   \n",
       "0  mul_s     MI      SVM     1466  0.403846   0.409070  0.416450  0.397716   \n",
       "\n",
       "   roc_auc   hostname  total_time_sec                    datetime  \\\n",
       "0      NaN  amilcar22             521  2023-10-30 05:31:31.161663   \n",
       "0      NaN  amilcar22             448  2023-10-30 05:22:43.042929   \n",
       "0      NaN  amilcar22             190  2023-10-30 05:15:07.998642   \n",
       "\n",
       "                   fichero_modelo  \\\n",
       "0  modelo_1466_mul_s_RF_LR_L1.pkl   \n",
       "0  modelo_1466_mul_s_RF_LR_EN.pkl   \n",
       "0    modelo_1466_mul_s_MI_SVM.pkl   \n",
       "\n",
       "                                              params               shape  \\\n",
       "0  {'selector__max_features': 500, 'selector__est...  X_test:(52, 18875)   \n",
       "0  {'selector__max_features': 500, 'selector__est...  X_test:(52, 18875)   \n",
       "0  {'selector__k': 1000, 'clasifier__kernel': 'rb...  X_test:(52, 18875)   \n",
       "\n",
       "                                            features  roc_auc_ovr  \\\n",
       "0  ['ENSG00000005513.10', 'ENSG00000010165.20', '...     0.813518   \n",
       "0  ['ENSG00000000938.13', 'ENSG00000005513.10', '...     0.785003   \n",
       "0  ['ENSG00000003137.9', 'ENSG00000005513.10', 'E...     0.761388   \n",
       "\n",
       "                                         indices_auc  \\\n",
       "0  [0.6341463414634146, 0.8607954545454546, 0.764...   \n",
       "0  [0.516629711751663, 0.8409090909090909, 0.7670...   \n",
       "0  [0.5321507760532151, 0.8494318181818181, 0.664...   \n",
       "\n",
       "                                     indices_jaccard  \n",
       "0  [0.11764705882352941, 0.4444444444444444, 0.18...  \n",
       "0  [0.125, 0.5, 0.15384615384615385, 0.0714285714...  \n",
       "0  [0.13333333333333333, 0.4444444444444444, 0.0,...  "
      ]
     },
     "metadata": {},
     "output_type": "display_data"
    }
   ],
   "source": [
    "if M_TIPO.startswith(\"bin\"):\n",
    "    myfunc.save_metricas_to_csv(random_search, X_test, y_test, M_TIPO, M_SELECT, M_CLASIF, total_time, SEMILLA, myfunc.MET_DIR, M_FICHERO, fichero_modelo)\n",
    "else:\n",
    "    myfunc.save_metricas_multi_to_csv(random_search, X_test, y_test, M_TIPO, M_SELECT, M_CLASIF, total_time, SEMILLA, myfunc.MET_DIR, M_FICHERO, fichero_modelo)\n",
    "\n",
    "df1=myfunc.read_metricas_to_df(myfunc.MET_DIR,M_FICHERO)\n",
    "\n",
    "display(df1.sort_values(\"datetime\", ascending=False)[:3])\n"
   ]
  },
  {
   "cell_type": "markdown",
   "id": "3cfaf3fa",
   "metadata": {
    "papermill": {
     "duration": 0.007754,
     "end_time": "2023-10-30T04:31:31.216358",
     "exception": false,
     "start_time": "2023-10-30T04:31:31.208604",
     "status": "completed"
    },
    "tags": []
   },
   "source": [
    "#### Guardar resultados"
   ]
  },
  {
   "cell_type": "code",
   "execution_count": 13,
   "id": "e918d5ab",
   "metadata": {
    "execution": {
     "iopub.execute_input": "2023-10-30T04:31:31.226790Z",
     "iopub.status.busy": "2023-10-30T04:31:31.226340Z",
     "iopub.status.idle": "2023-10-30T04:31:31.234934Z",
     "shell.execute_reply": "2023-10-30T04:31:31.234369Z"
    },
    "papermill": {
     "duration": 0.015079,
     "end_time": "2023-10-30T04:31:31.236046",
     "exception": false,
     "start_time": "2023-10-30T04:31:31.220967",
     "status": "completed"
    },
    "tags": []
   },
   "outputs": [
    {
     "name": "stdout",
     "output_type": "stream",
     "text": [
      "20231030T053131 : amilcar22 : INFO : Inicio guardar resultados\n",
      "20231030T053131 : amilcar22 : INFO : Inicio guardar fichero ../tfm_git/ejecuciones/metricas/resultados_1466_mul_s-RF-LR_L1.csv\n",
      "20231030T053131 : amilcar22 : INFO : Fin guardar fichero ../tfm_git/ejecuciones/metricas/resultados_1466_mul_s-RF-LR_L1.csv\n",
      "20231030T053131 : amilcar22 : INFO : Fin guardar resultados\n"
     ]
    }
   ],
   "source": [
    "fichero_resultados=R_FICHERO+\"_\"+M_TIPO+\"-\"+M_SELECT+\"-\"+M_CLASIF+\".csv\"\n",
    "myfunc.save_resultados_to_csv(M_TIPO, M_SELECT, M_CLASIF,  random_search, myfunc.MET_DIR, fichero_resultados)\n"
   ]
  }
 ],
 "metadata": {
  "kernelspec": {
   "display_name": "Python 3 (ipykernel)",
   "language": "python",
   "name": "python3"
  },
  "language_info": {
   "codemirror_mode": {
    "name": "ipython",
    "version": 3
   },
   "file_extension": ".py",
   "mimetype": "text/x-python",
   "name": "python",
   "nbconvert_exporter": "python",
   "pygments_lexer": "ipython3",
   "version": "3.10.12"
  },
  "papermill": {
   "default_parameters": {},
   "duration": 526.615258,
   "end_time": "2023-10-30T04:31:33.860197",
   "environment_variables": {},
   "exception": null,
   "input_path": "03_entrenamiento.ipynb",
   "output_path": "ejecuciones/training/03_entrenamiento.20231030T052246.param_0000_1466_mul_s_RF_LR_L1.output.ipynb",
   "parameters": {
    "MAX_ITERS": 500,
    "M_CLASIF": "LR_L1",
    "M_FICHERO": "metricas_1466",
    "M_SELECT": "RF",
    "M_TIPO": "mul_s",
    "PRE_DATA_FILE": "rows_transpose_norm_by_gene_id_with_target_num_",
    "P_FICHERO": "param_0000_1466_mul_s_RF_LR_L1.yaml",
    "R_FICHERO": "resultados_1466",
    "SCORING": "roc_auc_ovr",
    "SEMILLA": 1466,
    "eval_clasifier": "LogisticRegressionCV(random_state=SEMILLA)",
    "eval_selector": "SelectFromModel(estimator=RandomForestClassifier(random_state=SEMILLA), threshold=-np.inf)",
    "param_distributions": {
     "clasifier__max_iter": [
      10000
     ],
     "clasifier__penalty": [
      "l1"
     ],
     "clasifier__solver": [
      "saga"
     ],
     "selector__estimator__n_estimators": [
      100
     ],
     "selector__max_features": [
      500
     ]
    }
   },
   "start_time": "2023-10-30T04:22:47.244939",
   "version": "2.4.0"
  }
 },
 "nbformat": 4,
 "nbformat_minor": 5
}