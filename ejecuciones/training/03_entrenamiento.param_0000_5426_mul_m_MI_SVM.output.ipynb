{
 "cells": [
  {
   "cell_type": "markdown",
   "id": "eb8a1ca8",
   "metadata": {
    "papermill": {
     "duration": 0.0,
     "end_time": "2023-10-30T08:39:55.463818",
     "exception": false,
     "start_time": "2023-10-30T08:39:55.463818",
     "status": "completed"
    },
    "tags": []
   },
   "source": [
    "##### Inicio"
   ]
  },
  {
   "cell_type": "markdown",
   "id": "568e9d65",
   "metadata": {
    "papermill": {
     "duration": 0.002586,
     "end_time": "2023-10-30T08:39:55.481851",
     "exception": false,
     "start_time": "2023-10-30T08:39:55.479265",
     "status": "completed"
    },
    "tags": []
   },
   "source": [
    "#### Carga de datos"
   ]
  },
  {
   "cell_type": "code",
   "execution_count": 1,
   "id": "bd72b783",
   "metadata": {
    "execution": {
     "iopub.execute_input": "2023-10-30T08:39:55.481851Z",
     "iopub.status.busy": "2023-10-30T08:39:55.481851Z",
     "iopub.status.idle": "2023-10-30T08:39:56.642788Z",
     "shell.execute_reply": "2023-10-30T08:39:56.642788Z"
    },
    "papermill": {
     "duration": 1.160937,
     "end_time": "2023-10-30T08:39:56.642788",
     "exception": false,
     "start_time": "2023-10-30T08:39:55.481851",
     "status": "completed"
    },
    "tags": []
   },
   "outputs": [
    {
     "name": "stdout",
     "output_type": "stream",
     "text": [
      "CPU_COUNT: 24; NODE: amilcar32; sys.version: 3.10.12 | packaged by Anaconda, Inc. | (main, Jul  5 2023, 19:09:20) [MSC v.1916 64 bit (AMD64)]\n",
      "LOKY_MAX_CPU_COUNT is not set.\n",
      "OMP_NUM_THREADS is not set.\n"
     ]
    }
   ],
   "source": [
    "import os\n",
    "import numpy as np\n",
    "import pandas as pd\n",
    "import datetime\n",
    "import sklearn\n",
    "import logging\n",
    "import warnings\n",
    "\n",
    "from sklearn.pipeline import Pipeline\n",
    "from sklearn.model_selection import RandomizedSearchCV, KFold, cross_val_score, train_test_split\n",
    "from sklearn.metrics import accuracy_score, confusion_matrix, classification_report, roc_auc_score\n",
    "\n",
    "#  cargar algoritmos para aprendizaje supervisado\n",
    "from sklearn.feature_selection import SelectKBest, f_classif, SelectFromModel, mutual_info_classif\n",
    "from sklearn.svm import SVC\n",
    "from sklearn.ensemble import RandomForestClassifier\n",
    "from sklearn.linear_model import LogisticRegression,LogisticRegressionCV\n",
    "\n",
    "# importar fichero con utilidades propias\n",
    "from commons import myfunctions as myfunc\n"
   ]
  },
  {
   "cell_type": "markdown",
   "id": "93692a69",
   "metadata": {
    "papermill": {
     "duration": 0.0,
     "end_time": "2023-10-30T08:39:56.645431",
     "exception": false,
     "start_time": "2023-10-30T08:39:56.645431",
     "status": "completed"
    },
    "tags": []
   },
   "source": [
    "#### Parámetros a utilizar en el entrenamiento.\n",
    "\n",
    "Se indican los 3 algoritmos de *selección de características* (eval_selector_xxx) y los 3 algoritmos para la _clasificación_ (eval_clasifier_xxx)\n",
    "\n",
    "En *param_distributions* se indicar los parámetros que utilizan los algoritmos en la función RandomSearchCV.\n",
    "\n",
    "Esta celda tiene la etiqueta **parameters** que servirá para poder lanzar los entrenamientos con la utilidad **papermill** pasándole un fichero con los parámetros. Los nuevos parámetros se situarán tras esta celda para tener prevalencia."
   ]
  },
  {
   "cell_type": "code",
   "execution_count": 2,
   "id": "55f57a24",
   "metadata": {
    "execution": {
     "iopub.execute_input": "2023-10-30T08:39:56.655445Z",
     "iopub.status.busy": "2023-10-30T08:39:56.655445Z",
     "iopub.status.idle": "2023-10-30T08:39:56.674088Z",
     "shell.execute_reply": "2023-10-30T08:39:56.674088Z"
    },
    "papermill": {
     "duration": 0.028657,
     "end_time": "2023-10-30T08:39:56.674088",
     "exception": false,
     "start_time": "2023-10-30T08:39:56.645431",
     "status": "completed"
    },
    "tags": [
     "parameters"
    ]
   },
   "outputs": [
    {
     "name": "stdout",
     "output_type": "stream",
     "text": [
      "20231030T093956 : amilcar32 : INFO : Utilizando parámetros de mul_m\n"
     ]
    }
   ],
   "source": [
    "#  Parametros para el entrenamiento\n",
    "\n",
    "SEMILLA=        42\n",
    "M_TIPO=         \"mul_m\"\n",
    "M_SELECT=       \"MI\"\n",
    "M_CLASIF=       \"SVM\"\n",
    "R_FICHERO=      \"resultados\"\n",
    "M_FICHERO=      \"metricas\"\n",
    "PRE_DATA_FILE=  \"rows_transpose_norm_by_gene_id_with_target_num_\"\n",
    "SCORING=        \"roc_auc_ovr\" \n",
    "MAX_ITERS=      100\n",
    "\n",
    "def mutual_info_classif_state(X, y):\n",
    "    return mutual_info_classif(X, y, random_state=SEMILLA)\n",
    "\n",
    "eval_selector_mi = \"SelectKBest(score_func=mutual_info_classif_state)\"\n",
    "eval_selector_rf=  \"SelectFromModel(estimator=RandomForestClassifier(random_state=SEMILLA), threshold=-np.inf)\"\n",
    "eval_selector_anova=  \"SelectKBest(score_func=f_classif)\"\n",
    "\n",
    "eval_clasifier_svm= \"SVC(probability=True, random_state=SEMILLA)\"\n",
    "eval_clasifier_rf= \"RandomForestClassifier(random_state=SEMILLA)\"\n",
    "eval_clasifier_lr= \"LogisticRegressionCV(random_state=SEMILLA)\"\n",
    "\n",
    "if M_TIPO.startswith(\"bin_m\"):\n",
    "    myfunc.verbose(f\"Utilizando parámetros de {M_TIPO}\")\n",
    "    eval_selector = eval_selector_mi\n",
    "    eval_clasifier = eval_clasifier_svm\n",
    "\n",
    "    SEMILLA = 6578\n",
    "    M_SELECT = \"MI\"\n",
    "    M_CLASIF = \"SVM\"\n",
    "    param_distributions = {'selector__k': [1000], \n",
    "         'clasifier__kernel': ['rbf'], 'clasifier__gamma': [0.01], 'clasifier__C': [100]}\n",
    "elif M_TIPO.startswith(\"bin_s\"):\n",
    "    myfunc.verbose(f\"Utilizando parámetros de {M_TIPO}\")\n",
    "    eval_selector = eval_selector_rf\n",
    "    eval_clasifier = eval_clasifier_lr\n",
    "\n",
    "    SEMILLA = 6191\n",
    "    M_SELECT = \"RF\"\n",
    "    M_CLASIF = \"LR_L2\"\n",
    "    param_distributions = {'selector__max_features': [1000], 'selector__estimator__n_estimators': [200], \n",
    "        'clasifier__solver': ['lbfgs'], 'clasifier__penalty': ['l2'], 'clasifier__max_iter': [10000]}\n",
    "\n",
    "elif M_TIPO.startswith(\"mul_m\"):\n",
    "    myfunc.verbose(f\"Utilizando parámetros de {M_TIPO}\")\n",
    " \n",
    "    eval_selector = eval_selector_rf\n",
    "    eval_clasifier = eval_clasifier_lr\n",
    "\n",
    "    SEMILLA = 6191\n",
    "    M_SELECT = \"RF\"\n",
    "    M_CLASIF = \"LR_L2\"\n",
    "    param_distributions = {'selector__max_features': [1000], 'selector__estimator__n_estimators': [400], \n",
    "        'clasifier__solver': ['lbfgs'], 'clasifier__penalty': ['l2'], 'clasifier__max_iter': [10000]}\n",
    "\n",
    "else:\n",
    "    # M_TIPO.startswith(\"mul_s\"):\n",
    "    myfunc.verbose(f\"Utilizando parámetros de {M_TIPO}\")\n",
    "    eval_selector = eval_selector_anova\n",
    "    eval_clasifier = eval_clasifier_lr\n",
    "\n",
    "    SEMILLA = 1860\n",
    "    M_SELECT = \"ANOVA\"\n",
    "    M_CLASIF = \"LR_L2\"\n",
    "    param_distributions = {'selector__k': [1000], \n",
    "        'clasifier__solver': ['saga'], 'clasifier__penalty': ['l2'], 'clasifier__max_iter': [10000]}\n",
    "\n"
   ]
  },
  {
   "cell_type": "code",
   "execution_count": 3,
   "id": "aa9e787e",
   "metadata": {
    "execution": {
     "iopub.execute_input": "2023-10-30T08:39:56.674088Z",
     "iopub.status.busy": "2023-10-30T08:39:56.674088Z",
     "iopub.status.idle": "2023-10-30T08:39:56.689712Z",
     "shell.execute_reply": "2023-10-30T08:39:56.689712Z"
    },
    "papermill": {
     "duration": 0.015624,
     "end_time": "2023-10-30T08:39:56.689712",
     "exception": false,
     "start_time": "2023-10-30T08:39:56.674088",
     "status": "completed"
    },
    "tags": [
     "injected-parameters"
    ]
   },
   "outputs": [],
   "source": [
    "# Parameters\n",
    "M_TIPO = \"mul_m\"\n",
    "M_SELECT = \"MI\"\n",
    "M_CLASIF = \"SVM\"\n",
    "P_FICHERO = \"param_0000_5426_mul_m_MI_SVM.yaml\"\n",
    "R_FICHERO = \"resultados_5426\"\n",
    "M_FICHERO = \"metricas_5426\"\n",
    "PRE_DATA_FILE = \"rows_transpose_norm_by_gene_id_with_target_num_\"\n",
    "SCORING = \"roc_auc_ovr\"\n",
    "SEMILLA = 5426\n",
    "MAX_ITERS = 500\n",
    "eval_selector = \"SelectKBest(score_func=mutual_info_classif_state)\"\n",
    "eval_clasifier = \"SVC(probability=True, random_state=SEMILLA)\"\n",
    "param_distributions = {\n",
    "    \"selector__k\": [1000],\n",
    "    \"clasifier__kernel\": [\"rbf\"],\n",
    "    \"clasifier__gamma\": [0.001],\n",
    "    \"clasifier__C\": [100],\n",
    "}\n"
   ]
  },
  {
   "cell_type": "code",
   "execution_count": 4,
   "id": "3645a073",
   "metadata": {
    "execution": {
     "iopub.execute_input": "2023-10-30T08:39:56.689712Z",
     "iopub.status.busy": "2023-10-30T08:39:56.689712Z",
     "iopub.status.idle": "2023-10-30T08:39:56.705338Z",
     "shell.execute_reply": "2023-10-30T08:39:56.705338Z"
    },
    "papermill": {
     "duration": 0.015626,
     "end_time": "2023-10-30T08:39:56.705338",
     "exception": false,
     "start_time": "2023-10-30T08:39:56.689712",
     "status": "completed"
    },
    "tags": []
   },
   "outputs": [],
   "source": [
    "DATA_FILE = PRE_DATA_FILE + M_TIPO\n",
    "\n",
    "# si viene \"None\" en el parámetro max_depth, se le quitan las comillas para que no sea entendido por el algoritmo como un texto\n",
    "if \"clasifier__max_depth\" in param_distributions:\n",
    "    param_distributions['clasifier__max_depth'] = [None if x == 'None' else x for x in param_distributions['clasifier__max_depth']]"
   ]
  },
  {
   "cell_type": "markdown",
   "id": "8ca36868",
   "metadata": {
    "papermill": {
     "duration": 0.0,
     "end_time": "2023-10-30T08:39:56.705338",
     "exception": false,
     "start_time": "2023-10-30T08:39:56.705338",
     "status": "completed"
    },
    "tags": []
   },
   "source": [
    "Asignar los algoritmos que se utilizarán en la función RandomSearchCV"
   ]
  },
  {
   "cell_type": "code",
   "execution_count": 5,
   "id": "31de1acf",
   "metadata": {
    "execution": {
     "iopub.execute_input": "2023-10-30T08:39:56.720961Z",
     "iopub.status.busy": "2023-10-30T08:39:56.720961Z",
     "iopub.status.idle": "2023-10-30T08:39:56.736662Z",
     "shell.execute_reply": "2023-10-30T08:39:56.736662Z"
    },
    "papermill": {
     "duration": 0.031324,
     "end_time": "2023-10-30T08:39:56.736662",
     "exception": false,
     "start_time": "2023-10-30T08:39:56.705338",
     "status": "completed"
    },
    "tags": []
   },
   "outputs": [],
   "source": [
    "algor_selector=eval(eval_selector)\n",
    "algor_clasifier=eval(eval_clasifier)"
   ]
  },
  {
   "cell_type": "markdown",
   "id": "458d0839",
   "metadata": {
    "papermill": {
     "duration": 0.0,
     "end_time": "2023-10-30T08:39:56.738765",
     "exception": false,
     "start_time": "2023-10-30T08:39:56.738765",
     "status": "completed"
    },
    "tags": []
   },
   "source": [
    "#### Comprobar el entorno y leer fichero de muestras"
   ]
  },
  {
   "cell_type": "code",
   "execution_count": 6,
   "id": "79d1ae25",
   "metadata": {
    "execution": {
     "iopub.execute_input": "2023-10-30T08:39:56.738765Z",
     "iopub.status.busy": "2023-10-30T08:39:56.738765Z",
     "iopub.status.idle": "2023-10-30T08:39:56.925957Z",
     "shell.execute_reply": "2023-10-30T08:39:56.925957Z"
    },
    "papermill": {
     "duration": 0.187192,
     "end_time": "2023-10-30T08:39:56.925957",
     "exception": false,
     "start_time": "2023-10-30T08:39:56.738765",
     "status": "completed"
    },
    "tags": []
   },
   "outputs": [
    {
     "name": "stdout",
     "output_type": "stream",
     "text": [
      "20231030T093956 : amilcar32 : INFO : Encontrada carpeta DATA_DIR=..\\tfm_viu\\datos\n",
      "20231030T093956 : amilcar32 : INFO : Encontrada carpeta CFDNA_DIR=..\\tfm_viu\\datos\\cfDNA_5hmC\n",
      "20231030T093956 : amilcar32 : INFO : Encontrada carpeta GENCODE_DIR=..\\tfm_viu\\datos\\gencode\n",
      "20231030T093956 : amilcar32 : INFO : Encontrada carpeta H5_DIR=..\\tfm_viu\\datos\\h5\n",
      "20231030T093956 : amilcar32 : INFO : Encontrada carpeta LOG_DIR=..\\tfm_viu\\datos\\logs\n",
      "20231030T093956 : amilcar32 : INFO : Encontrada carpeta CSV_DIR=..\\tfm_viu\\datos\\csv\n",
      "20231030T093956 : amilcar32 : INFO : Encontrada carpeta MODEL_DIR=..\\tfm_viu\\ejecuciones\\modelos\n",
      "20231030T093956 : amilcar32 : INFO : Encontrada carpeta EXEC_DIR=..\\tfm_viu\\ejecuciones\n",
      "20231030T093956 : amilcar32 : INFO : Encontrada carpeta MET_DIR=..\\tfm_viu\\ejecuciones\\metricas\n",
      "20231030T093956 : amilcar32 : INFO : Inicio leer fichero h5 ..\\tfm_viu\\datos\\h5\\rows_transpose_norm_by_gene_id_with_target_num_mul_m.h5\n",
      "20231030T093956 : amilcar32 : INFO : Leyendo clave /df\n"
     ]
    },
    {
     "name": "stdout",
     "output_type": "stream",
     "text": [
      "20231030T093956 : amilcar32 : INFO : Tamaño (434, 18876)\n",
      "20231030T093956 : amilcar32 : INFO : Fin leer fichero h5 ..\\tfm_viu\\datos\\h5\\rows_transpose_norm_by_gene_id_with_target_num_mul_m.h5\n"
     ]
    },
    {
     "data": {
      "text/plain": [
       "target\n",
       "0    62\n",
       "1    62\n",
       "2    62\n",
       "3    62\n",
       "4    62\n",
       "5    62\n",
       "6    62\n",
       "dtype: int64"
      ]
     },
     "metadata": {},
     "output_type": "display_data"
    },
    {
     "name": "stdout",
     "output_type": "stream",
     "text": [
      "Shape df: (434, 18876)\n",
      "Shape X_train: (347, 18875)\n",
      "Shape X_test: (87, 18875)\n"
     ]
    }
   ],
   "source": [
    "start_time = datetime.datetime.now()\n",
    "\n",
    "myfunc.reset_vars()\n",
    "\n",
    "myfunc.NOTEBK_FILENAME = myfunc.get_nb_name()\n",
    "\n",
    "myfunc.check_enviroment(myfunc.DATA_DIR, myfunc.CFDNA_DIR, myfunc.GENCODE_DIR, myfunc.H5_DIR, myfunc.LOG_DIR, myfunc.CSV_DIR, myfunc.MODEL_DIR, myfunc.EXEC_DIR, myfunc.MET_DIR)\n",
    "\n",
    "# Leer fichero con las muestras\n",
    "df_t = myfunc.read_h5_to_df(DATA_FILE, myfunc.H5_DIR)\n",
    "display(df_t.groupby(\"target\").size())\n",
    "print(\"Shape df:\",df_t.shape)\n",
    "\n",
    "# Separar caracteristicas/genes de las etiquetas/tipos de cáncer\n",
    "X = df_t.iloc[:, :-1]  # Todas las columnas excepto la última\n",
    "y = df_t.iloc[:, -1]  # La última columna contiene los identificadores de los tipos de cáncer\n",
    "\n",
    "#  Crear el conjunto de datos de entrenamiento y de pruebas, y se fija la semilla para siempre coger el mismo juego de muestras\n",
    "X_train, X_test, y_train, y_test = train_test_split(X, y, test_size=0.2, shuffle=True, random_state=42)\n",
    "print(\"Shape X_train:\",X_train.shape)\n",
    "print(\"Shape X_test:\",X_test.shape)\n"
   ]
  },
  {
   "cell_type": "markdown",
   "id": "dc857890",
   "metadata": {
    "papermill": {
     "duration": 0.0,
     "end_time": "2023-10-30T08:39:56.925957",
     "exception": false,
     "start_time": "2023-10-30T08:39:56.925957",
     "status": "completed"
    },
    "tags": []
   },
   "source": [
    "#### Selección de características y clasificación."
   ]
  },
  {
   "cell_type": "code",
   "execution_count": 7,
   "id": "5016a842",
   "metadata": {
    "execution": {
     "iopub.execute_input": "2023-10-30T08:39:56.939045Z",
     "iopub.status.busy": "2023-10-30T08:39:56.939045Z",
     "iopub.status.idle": "2023-10-30T08:44:48.203448Z",
     "shell.execute_reply": "2023-10-30T08:44:48.203448Z"
    },
    "papermill": {
     "duration": 291.281586,
     "end_time": "2023-10-30T08:44:48.207543",
     "exception": false,
     "start_time": "2023-10-30T08:39:56.925957",
     "status": "completed"
    },
    "tags": []
   },
   "outputs": [
    {
     "name": "stdout",
     "output_type": "stream",
     "text": [
      "20231030T093956 : amilcar32 : INFO : Iniciando entrenamiento\n",
      "num_iter: 1 , max_iter: 1\n"
     ]
    },
    {
     "name": "stdout",
     "output_type": "stream",
     "text": [
      "Fitting 5 folds for each of 1 candidates, totalling 5 fits\n"
     ]
    },
    {
     "name": "stdout",
     "output_type": "stream",
     "text": [
      "Mejores Hiperparámetros: {'selector__k': 1000, 'clasifier__kernel': 'rbf', 'clasifier__gamma': 0.001, 'clasifier__C': 100}\n",
      "Mejor Puntuación: 0.8495\n",
      "20231030T094448 : amilcar32 : INFO : Fin entrenamiento\n"
     ]
    }
   ],
   "source": [
    "myfunc.verbose(\"Iniciando entrenamiento\")\n",
    "\n",
    "kf = KFold(n_splits=5, shuffle=True, random_state=SEMILLA)\n",
    "\n",
    "# Crear el pipeline para el flujo de tareas\n",
    "tasks_pipeline = Pipeline([\n",
    "    ('selector', algor_selector),\n",
    "    ('clasifier', algor_clasifier)\n",
    "])\n",
    "\n",
    "# MAX_ITERS puede limitar el número de iteraciones si son excesivas para las combinaciones de parámetros buscando un óptimo local, \n",
    "# sino funcionaría como GridSearchCV al revisar todas las cominaciones de los parámetros\n",
    "num_iteraciones = 1\n",
    "num_iteraciones = num_iteraciones * np.prod([len(elemento1) for _, elemento1 in param_distributions.items()])\n",
    "max_iteraciones = num_iteraciones if num_iteraciones <= MAX_ITERS else MAX_ITERS\n",
    "print(\"num_iter:\",num_iteraciones,\", max_iter:\",max_iteraciones)\n",
    "\n",
    "random_search = RandomizedSearchCV(\n",
    "    tasks_pipeline, \n",
    "    param_distributions, \n",
    "    n_iter=max_iteraciones,\n",
    "    scoring=SCORING,\n",
    "    cv=kf,\n",
    "    verbose=3, \n",
    "    random_state=SEMILLA, \n",
    "    n_jobs=-1\n",
    "    )\n",
    "\n",
    "# Entrenar el modelo\n",
    "random_search.fit(X_train, y_train)\n",
    "\n",
    "# Ver los mejores hiperparámetros encontrados\n",
    "print(f'Mejores Hiperparámetros: {random_search.best_params_}')\n",
    "print(f'Mejor Puntuación: {random_search.best_score_:.4f}')\n",
    "\n",
    "# Nos quedamos con el mejor modelo para ver las métricas\n",
    "mejor_modelo = random_search.best_estimator_\n",
    "\n",
    "myfunc.verbose(\"Fin entrenamiento\")"
   ]
  },
  {
   "cell_type": "markdown",
   "id": "c3b824e4",
   "metadata": {
    "papermill": {
     "duration": 0.01573,
     "end_time": "2023-10-30T08:44:48.235368",
     "exception": false,
     "start_time": "2023-10-30T08:44:48.219638",
     "status": "completed"
    },
    "tags": []
   },
   "source": [
    "#### Guardar modelo"
   ]
  },
  {
   "cell_type": "code",
   "execution_count": 8,
   "id": "5741c040",
   "metadata": {
    "execution": {
     "iopub.execute_input": "2023-10-30T08:44:48.251560Z",
     "iopub.status.busy": "2023-10-30T08:44:48.251560Z",
     "iopub.status.idle": "2023-10-30T08:44:48.267285Z",
     "shell.execute_reply": "2023-10-30T08:44:48.267285Z"
    },
    "papermill": {
     "duration": 0.029818,
     "end_time": "2023-10-30T08:44:48.267285",
     "exception": false,
     "start_time": "2023-10-30T08:44:48.237467",
     "status": "completed"
    },
    "tags": []
   },
   "outputs": [
    {
     "name": "stdout",
     "output_type": "stream",
     "text": [
      "20231030T094448 : amilcar32 : INFO : Inicio guardar fichero ..\\tfm_viu\\ejecuciones\\modelos\\modelo_5426_mul_m_MI_SVM.pkl\n",
      "20231030T094448 : amilcar32 : INFO : Fin guardar fichero ..\\tfm_viu\\ejecuciones\\modelos\\modelo_5426_mul_m_MI_SVM.pkl\n"
     ]
    }
   ],
   "source": [
    "fichero_modelo = str.replace(\"modelo_\"+str(SEMILLA).zfill(4)+\"_\"+M_TIPO+\"_\"+M_SELECT+\"_\"+M_CLASIF+\".pkl\", \" \", \"_\")\n",
    "\n",
    "myfunc.save_modelo(mejor_modelo, myfunc.MODEL_DIR, fichero_modelo)"
   ]
  },
  {
   "cell_type": "markdown",
   "id": "2bcd9096",
   "metadata": {
    "papermill": {
     "duration": 0.015619,
     "end_time": "2023-10-30T08:44:48.282904",
     "exception": false,
     "start_time": "2023-10-30T08:44:48.267285",
     "status": "completed"
    },
    "tags": []
   },
   "source": [
    "#### Ver resultados del las iteraciones hechas por RandomSearchCV"
   ]
  },
  {
   "cell_type": "code",
   "execution_count": 9,
   "id": "4ae854d9",
   "metadata": {
    "execution": {
     "iopub.execute_input": "2023-10-30T08:44:48.307619Z",
     "iopub.status.busy": "2023-10-30T08:44:48.307619Z",
     "iopub.status.idle": "2023-10-30T08:44:48.330529Z",
     "shell.execute_reply": "2023-10-30T08:44:48.330529Z"
    },
    "papermill": {
     "duration": 0.047625,
     "end_time": "2023-10-30T08:44:48.330529",
     "exception": false,
     "start_time": "2023-10-30T08:44:48.282904",
     "status": "completed"
    },
    "tags": []
   },
   "outputs": [
    {
     "name": "stdout",
     "output_type": "stream",
     "text": [
      "20231030T094448 : amilcar32 : INFO : Inicio ver resultados\n",
      "Mejores Hiperparámetros: {'selector__k': 1000, 'clasifier__kernel': 'rbf', 'clasifier__gamma': 0.001, 'clasifier__C': 100}\n",
      "Mejores puntuaciones: 0.8495 | Params: {'selector__k': 1000, 'clasifier__kernel': 'rbf', 'clasifier__gamma': 0.001, 'clasifier__C': 100}\n",
      "Media de las puntuaciones: 0.8495 | Params: {'selector__k': 1000, 'clasifier__kernel': 'rbf', 'clasifier__gamma': 0.001, 'clasifier__C': 100}\n",
      "20231030T094448 : amilcar32 : INFO : Fin resultados\n"
     ]
    }
   ],
   "source": [
    "myfunc.ver_resultados_search(random_search)"
   ]
  },
  {
   "cell_type": "markdown",
   "id": "90dbc5d6",
   "metadata": {
    "papermill": {
     "duration": 0.0,
     "end_time": "2023-10-30T08:44:48.346004",
     "exception": false,
     "start_time": "2023-10-30T08:44:48.346004",
     "status": "completed"
    },
    "tags": []
   },
   "source": [
    "#### Ver métricas del mejor modelo"
   ]
  },
  {
   "cell_type": "code",
   "execution_count": 10,
   "id": "a4a39da1",
   "metadata": {
    "execution": {
     "iopub.execute_input": "2023-10-30T08:44:48.366734Z",
     "iopub.status.busy": "2023-10-30T08:44:48.366734Z",
     "iopub.status.idle": "2023-10-30T08:44:49.983231Z",
     "shell.execute_reply": "2023-10-30T08:44:49.983231Z"
    },
    "papermill": {
     "duration": 1.616497,
     "end_time": "2023-10-30T08:44:49.983231",
     "exception": false,
     "start_time": "2023-10-30T08:44:48.366734",
     "status": "completed"
    },
    "tags": []
   },
   "outputs": [
    {
     "name": "stdout",
     "output_type": "stream",
     "text": [
      "20231030T094448 : amilcar32 : INFO : Inicio ver métricas multiclase\n"
     ]
    },
    {
     "name": "stdout",
     "output_type": "stream",
     "text": [
      "              precision    recall  f1-score   support\n",
      "\n",
      "           0       0.50      0.25      0.33        16\n",
      "           1       0.67      0.53      0.59        15\n",
      "           2       0.23      0.27      0.25        11\n",
      "           3       0.57      0.80      0.67         5\n",
      "           4       0.56      0.69      0.62        13\n",
      "           5       0.56      0.56      0.56         9\n",
      "           6       0.55      0.67      0.60        18\n",
      "\n",
      "    accuracy                           0.52        87\n",
      "   macro avg       0.52      0.54      0.52        87\n",
      "weighted avg       0.52      0.52      0.51        87\n",
      "\n",
      "\n",
      "\n",
      "           Exactitud: 0.517241\n",
      "   Precisión (media): 0.518911\n",
      "      Recall (media): 0.538656\n",
      "    F1-score (media): 0.516977\n",
      "\n",
      "\n",
      "AUC para el tipo de cáncer 0-Control.... 0.8169\n",
      "AUC para el tipo de cáncer 1-Bladder.... 0.8093\n",
      "AUC para el tipo de cáncer 2-Breast..... 0.7237\n",
      "AUC para el tipo de cáncer 3-Colorectal. 0.8488\n",
      "AUC para el tipo de cáncer 4-Kidney..... 0.8015\n",
      "AUC para el tipo de cáncer 5-Lung....... 0.9074\n",
      "AUC para el tipo de cáncer 6-Prostate... 0.8792\n",
      "\n",
      "Media de AUC: 0.8267\n"
     ]
    },
    {
     "data": {
      "image/png": "[encoded data removed]",
      "text/plain": [
       "<Figure size 1000x600 with 1 Axes>"
      ]
     },
     "metadata": {},
     "output_type": "display_data"
    },
    {
     "name": "stdout",
     "output_type": "stream",
     "text": [
      "\n",
      "\n"
     ]
    },
    {
     "data": {
      "image/png": "[encoded data removed]",
      "text/plain": [
       "<Figure size 800x400 with 2 Axes>"
      ]
     },
     "metadata": {},
     "output_type": "display_data"
    },
    {
     "name": "stdout",
     "output_type": "stream",
     "text": [
      "\n",
      "\n",
      "Puntuación Jaccard para el cáncer tipo 0-Control.... 0.2000\n",
      "Puntuación Jaccard para el cáncer tipo 1-Bladder.... 0.4211\n",
      "Puntuación Jaccard para el cáncer tipo 2-Breast..... 0.1429\n",
      "Puntuación Jaccard para el cáncer tipo 3-Colorectal. 0.5000\n",
      "Puntuación Jaccard para el cáncer tipo 4-Kidney..... 0.4500\n",
      "Puntuación Jaccard para el cáncer tipo 5-Lung....... 0.3846\n",
      "Puntuación Jaccard para el cáncer tipo 6-Prostate... 0.4286\n",
      "\n",
      "Media de la puntuación de Jaccard: 0.3610\n"
     ]
    }
   ],
   "source": [
    "if M_TIPO.startswith(\"bin\"):\n",
    "    myfunc.ver_metricas(mejor_modelo, X_test, y_test)\n",
    "else:\n",
    "    myfunc.ver_metricas_multi(mejor_modelo, X_test, y_test)\n"
   ]
  },
  {
   "cell_type": "markdown",
   "id": "ac4c628c",
   "metadata": {
    "papermill": {
     "duration": 0.014676,
     "end_time": "2023-10-30T08:44:50.014886",
     "exception": false,
     "start_time": "2023-10-30T08:44:50.000210",
     "status": "completed"
    },
    "tags": []
   },
   "source": [
    "#### Finalización del notebook"
   ]
  },
  {
   "cell_type": "code",
   "execution_count": 11,
   "id": "f5f5ac22",
   "metadata": {
    "execution": {
     "iopub.execute_input": "2023-10-30T08:44:50.030599Z",
     "iopub.status.busy": "2023-10-30T08:44:50.030599Z",
     "iopub.status.idle": "2023-10-30T08:44:50.046337Z",
     "shell.execute_reply": "2023-10-30T08:44:50.046337Z"
    },
    "papermill": {
     "duration": 0.015738,
     "end_time": "2023-10-30T08:44:50.046337",
     "exception": false,
     "start_time": "2023-10-30T08:44:50.030599",
     "status": "completed"
    },
    "tags": []
   },
   "outputs": [
    {
     "name": "stdout",
     "output_type": "stream",
     "text": [
      "20231030T094450 : amilcar32 : INFO : Notebook ha tardado 293 seconds\n"
     ]
    }
   ],
   "source": [
    "end_time = datetime.datetime.now()\n",
    "total_time = end_time - start_time\n",
    "myfunc.verbose(f\"Notebook ha tardado {total_time.seconds} seconds\")"
   ]
  },
  {
   "cell_type": "markdown",
   "id": "4a5468c5",
   "metadata": {
    "papermill": {
     "duration": 0.015509,
     "end_time": "2023-10-30T08:44:50.061846",
     "exception": false,
     "start_time": "2023-10-30T08:44:50.046337",
     "status": "completed"
    },
    "tags": []
   },
   "source": [
    "#### Guardar métricas"
   ]
  },
  {
   "cell_type": "code",
   "execution_count": 12,
   "id": "7dcf5743",
   "metadata": {
    "execution": {
     "iopub.execute_input": "2023-10-30T08:44:50.093107Z",
     "iopub.status.busy": "2023-10-30T08:44:50.093107Z",
     "iopub.status.idle": "2023-10-30T08:44:50.597393Z",
     "shell.execute_reply": "2023-10-30T08:44:50.597393Z"
    },
    "papermill": {
     "duration": 0.519924,
     "end_time": "2023-10-30T08:44:50.597393",
     "exception": false,
     "start_time": "2023-10-30T08:44:50.077469",
     "status": "completed"
    },
    "tags": []
   },
   "outputs": [
    {
     "name": "stdout",
     "output_type": "stream",
     "text": [
      "20231030T094450 : amilcar32 : INFO : Inicio guardar métricas multiclase\n",
      "20231030T094450 : amilcar32 : INFO : Inicio leer fichero ..\\tfm_viu\\ejecuciones\\metricas\\metricas_5426.csv\n",
      "20231030T094450 : amilcar32 : INFO : Fin leer fichero ..\\tfm_viu\\ejecuciones\\metricas\\metricas_5426.csv\n"
     ]
    },
    {
     "name": "stdout",
     "output_type": "stream",
     "text": [
      "20231030T094450 : amilcar32 : INFO : Inicio guardar fichero ..\\tfm_viu\\ejecuciones\\metricas\\metricas_5426.csv\n",
      "20231030T094450 : amilcar32 : INFO : Fichero borrado ..\\tfm_viu\\ejecuciones\\metricas\\metricas_5426.csv\n",
      "20231030T094450 : amilcar32 : INFO : Fin guardar fichero ..\\tfm_viu\\ejecuciones\\metricas\\metricas_5426.csv\n",
      "20231030T094450 : amilcar32 : INFO : Fin guardar métricas multiclase\n",
      "20231030T094450 : amilcar32 : INFO : Inicio leer fichero ..\\tfm_viu\\ejecuciones\\metricas\\metricas_5426.csv\n",
      "20231030T094450 : amilcar32 : INFO : Fin leer fichero ..\\tfm_viu\\ejecuciones\\metricas\\metricas_5426.csv\n"
     ]
    },
    {
     "data": {
      "text/html": [
       "<div>\n",
       "<style scoped>\n",
       "    .dataframe tbody tr th:only-of-type {\n",
       "        vertical-align: middle;\n",
       "    }\n",
       "\n",
       "    .dataframe tbody tr th {\n",
       "        vertical-align: top;\n",
       "    }\n",
       "\n",
       "    .dataframe thead th {\n",
       "        text-align: right;\n",
       "    }\n",
       "</style>\n",
       "<table border=\"1\" class=\"dataframe\">\n",
       "  <thead>\n",
       "    <tr style=\"text-align: right;\">\n",
       "      <th></th>\n",
       "      <th>tipo</th>\n",
       "      <th>select</th>\n",
       "      <th>clasific</th>\n",
       "      <th>semilla</th>\n",
       "      <th>accuracy</th>\n",
       "      <th>precision</th>\n",
       "      <th>recall</th>\n",
       "      <th>f1_score</th>\n",
       "      <th>roc_auc</th>\n",
       "      <th>hostname</th>\n",
       "      <th>total_time_sec</th>\n",
       "      <th>datetime</th>\n",
       "      <th>fichero_modelo</th>\n",
       "      <th>params</th>\n",
       "      <th>shape</th>\n",
       "      <th>features</th>\n",
       "      <th>roc_auc_ovr</th>\n",
       "      <th>indices_auc</th>\n",
       "      <th>indices_jaccard</th>\n",
       "    </tr>\n",
       "  </thead>\n",
       "  <tbody>\n",
       "    <tr>\n",
       "      <th>0</th>\n",
       "      <td>mul_m</td>\n",
       "      <td>MI</td>\n",
       "      <td>SVM</td>\n",
       "      <td>5426</td>\n",
       "      <td>0.517241</td>\n",
       "      <td>0.518911</td>\n",
       "      <td>0.538656</td>\n",
       "      <td>0.516977</td>\n",
       "      <td>NaN</td>\n",
       "      <td>amilcar32</td>\n",
       "      <td>293</td>\n",
       "      <td>2023-10-30 09:44:50.519058</td>\n",
       "      <td>modelo_5426_mul_m_MI_SVM.pkl</td>\n",
       "      <td>{'selector__k': 1000, 'clasifier__kernel': 'rb...</td>\n",
       "      <td>X_test:(87, 18875)</td>\n",
       "      <td>['ENSG00000001460.18', 'ENSG00000004660.15', '...</td>\n",
       "      <td>0.826674</td>\n",
       "      <td>[0.8169014084507042, 0.8092592592592592, 0.723...</td>\n",
       "      <td>[0.2, 0.42105263157894735, 0.14285714285714285...</td>\n",
       "    </tr>\n",
       "    <tr>\n",
       "      <th>0</th>\n",
       "      <td>mul_m</td>\n",
       "      <td>MI</td>\n",
       "      <td>RF</td>\n",
       "      <td>5426</td>\n",
       "      <td>0.425287</td>\n",
       "      <td>0.434134</td>\n",
       "      <td>0.447949</td>\n",
       "      <td>0.400020</td>\n",
       "      <td>NaN</td>\n",
       "      <td>amilcar32</td>\n",
       "      <td>376</td>\n",
       "      <td>2023-10-30 09:39:51.703645</td>\n",
       "      <td>modelo_5426_mul_m_MI_RF.pkl</td>\n",
       "      <td>{'selector__k': 1000, 'clasifier__n_estimators...</td>\n",
       "      <td>X_test:(87, 18875)</td>\n",
       "      <td>['ENSG00000001460.18', 'ENSG00000004660.15', '...</td>\n",
       "      <td>0.778884</td>\n",
       "      <td>[0.6285211267605634, 0.8462962962962963, 0.730...</td>\n",
       "      <td>[0.1111111111111111, 0.2631578947368421, 0.25,...</td>\n",
       "    </tr>\n",
       "    <tr>\n",
       "      <th>0</th>\n",
       "      <td>mul_m</td>\n",
       "      <td>MI</td>\n",
       "      <td>LR_L2</td>\n",
       "      <td>5426</td>\n",
       "      <td>0.632184</td>\n",
       "      <td>0.643937</td>\n",
       "      <td>0.672003</td>\n",
       "      <td>0.633671</td>\n",
       "      <td>NaN</td>\n",
       "      <td>amilcar32</td>\n",
       "      <td>303</td>\n",
       "      <td>2023-10-30 09:33:29.230110</td>\n",
       "      <td>modelo_5426_mul_m_MI_LR_L2.pkl</td>\n",
       "      <td>{'selector__k': 1000, 'clasifier__solver': 'lb...</td>\n",
       "      <td>X_test:(87, 18875)</td>\n",
       "      <td>['ENSG00000001460.18', 'ENSG00000004660.15', '...</td>\n",
       "      <td>0.898159</td>\n",
       "      <td>[0.880281690140845, 0.875, 0.8361244019138756,...</td>\n",
       "      <td>[0.5555555555555556, 0.5294117647058824, 0.235...</td>\n",
       "    </tr>\n",
       "  </tbody>\n",
       "</table>\n",
       "</div>"
      ],
      "text/plain": [
       "    tipo select clasific  semilla  accuracy  precision    recall  f1_score  \\\n",
       "0  mul_m     MI      SVM     5426  0.517241   0.518911  0.538656  0.516977   \n",
       "0  mul_m     MI       RF     5426  0.425287   0.434134  0.447949  0.400020   \n",
       "0  mul_m     MI    LR_L2     5426  0.632184   0.643937  0.672003  0.633671   \n",
       "\n",
       "   roc_auc   hostname  total_time_sec                    datetime  \\\n",
       "0      NaN  amilcar32             293  2023-10-30 09:44:50.519058   \n",
       "0      NaN  amilcar32             376  2023-10-30 09:39:51.703645   \n",
       "0      NaN  amilcar32             303  2023-10-30 09:33:29.230110   \n",
       "\n",
       "                   fichero_modelo  \\\n",
       "0    modelo_5426_mul_m_MI_SVM.pkl   \n",
       "0     modelo_5426_mul_m_MI_RF.pkl   \n",
       "0  modelo_5426_mul_m_MI_LR_L2.pkl   \n",
       "\n",
       "                                              params               shape  \\\n",
       "0  {'selector__k': 1000, 'clasifier__kernel': 'rb...  X_test:(87, 18875)   \n",
       "0  {'selector__k': 1000, 'clasifier__n_estimators...  X_test:(87, 18875)   \n",
       "0  {'selector__k': 1000, 'clasifier__solver': 'lb...  X_test:(87, 18875)   \n",
       "\n",
       "                                            features  roc_auc_ovr  \\\n",
       "0  ['ENSG00000001460.18', 'ENSG00000004660.15', '...     0.826674   \n",
       "0  ['ENSG00000001460.18', 'ENSG00000004660.15', '...     0.778884   \n",
       "0  ['ENSG00000001460.18', 'ENSG00000004660.15', '...     0.898159   \n",
       "\n",
       "                                         indices_auc  \\\n",
       "0  [0.8169014084507042, 0.8092592592592592, 0.723...   \n",
       "0  [0.6285211267605634, 0.8462962962962963, 0.730...   \n",
       "0  [0.880281690140845, 0.875, 0.8361244019138756,...   \n",
       "\n",
       "                                     indices_jaccard  \n",
       "0  [0.2, 0.42105263157894735, 0.14285714285714285...  \n",
       "0  [0.1111111111111111, 0.2631578947368421, 0.25,...  \n",
       "0  [0.5555555555555556, 0.5294117647058824, 0.235...  "
      ]
     },
     "metadata": {},
     "output_type": "display_data"
    }
   ],
   "source": [
    "if M_TIPO.startswith(\"bin\"):\n",
    "    myfunc.save_metricas_to_csv(random_search, X_test, y_test, M_TIPO, M_SELECT, M_CLASIF, total_time, SEMILLA, myfunc.MET_DIR, M_FICHERO, fichero_modelo)\n",
    "else:\n",
    "    myfunc.save_metricas_multi_to_csv(random_search, X_test, y_test, M_TIPO, M_SELECT, M_CLASIF, total_time, SEMILLA, myfunc.MET_DIR, M_FICHERO, fichero_modelo)\n",
    "\n",
    "df1=myfunc.read_metricas_to_df(myfunc.MET_DIR,M_FICHERO)\n",
    "\n",
    "display(df1.sort_values(\"datetime\", ascending=False)[:3])\n"
   ]
  },
  {
   "cell_type": "markdown",
   "id": "a01fc529",
   "metadata": {
    "papermill": {
     "duration": 0.016169,
     "end_time": "2023-10-30T08:44:50.613562",
     "exception": false,
     "start_time": "2023-10-30T08:44:50.597393",
     "status": "completed"
    },
    "tags": []
   },
   "source": [
    "#### Guardar resultados"
   ]
  },
  {
   "cell_type": "code",
   "execution_count": 13,
   "id": "db013ef7",
   "metadata": {
    "execution": {
     "iopub.execute_input": "2023-10-30T08:44:50.629145Z",
     "iopub.status.busy": "2023-10-30T08:44:50.629145Z",
     "iopub.status.idle": "2023-10-30T08:44:50.660555Z",
     "shell.execute_reply": "2023-10-30T08:44:50.660555Z"
    },
    "papermill": {
     "duration": 0.03141,
     "end_time": "2023-10-30T08:44:50.660555",
     "exception": false,
     "start_time": "2023-10-30T08:44:50.629145",
     "status": "completed"
    },
    "tags": []
   },
   "outputs": [
    {
     "name": "stdout",
     "output_type": "stream",
     "text": [
      "20231030T094450 : amilcar32 : INFO : Inicio guardar resultados\n",
      "20231030T094450 : amilcar32 : INFO : Inicio guardar fichero ..\\tfm_viu\\ejecuciones\\metricas\\resultados_5426_mul_m-MI-SVM.csv\n",
      "20231030T094450 : amilcar32 : INFO : Fin guardar fichero ..\\tfm_viu\\ejecuciones\\metricas\\resultados_5426_mul_m-MI-SVM.csv\n",
      "20231030T094450 : amilcar32 : INFO : Fin guardar resultados\n"
     ]
    }
   ],
   "source": [
    "fichero_resultados=R_FICHERO+\"_\"+M_TIPO+\"-\"+M_SELECT+\"-\"+M_CLASIF+\".csv\"\n",
    "myfunc.save_resultados_to_csv(M_TIPO, M_SELECT, M_CLASIF,  random_search, myfunc.MET_DIR, fichero_resultados)\n"
   ]
  }
 ],
 "metadata": {
  "kernelspec": {
   "display_name": "Python 3 (ipykernel)",
   "language": "python",
   "name": "python3"
  },
  "language_info": {
   "codemirror_mode": {
    "name": "ipython",
    "version": 3
   },
   "file_extension": ".py",
   "mimetype": "text/x-python",
   "name": "python",
   "nbconvert_exporter": "python",
   "pygments_lexer": "ipython3",
   "version": "3.10.12"
  },
  "papermill": {
   "default_parameters": {},
   "duration": 298.058913,
   "end_time": "2023-10-30T08:44:51.698511",
   "environment_variables": {},
   "exception": null,
   "input_path": "03_entrenamiento.ipynb",
   "output_path": "ejecuciones\\training\\03_entrenamiento.20231030T_93952.param_0000_5426_mul_m_MI_SVM.output.ipynb",
   "parameters": {
    "MAX_ITERS": 500,
    "M_CLASIF": "SVM",
    "M_FICHERO": "metricas_5426",
    "M_SELECT": "MI",
    "M_TIPO": "mul_m",
    "PRE_DATA_FILE": "rows_transpose_norm_by_gene_id_with_target_num_",
    "P_FICHERO": "param_0000_5426_mul_m_MI_SVM.yaml",
    "R_FICHERO": "resultados_5426",
    "SCORING": "roc_auc_ovr",
    "SEMILLA": 5426,
    "eval_clasifier": "SVC(probability=True, random_state=SEMILLA)",
    "eval_selector": "SelectKBest(score_func=mutual_info_classif_state)",
    "param_distributions": {
     "clasifier__C": [
      100
     ],
     "clasifier__gamma": [
      0.001
     ],
     "clasifier__kernel": [
      "rbf"
     ],
     "selector__k": [
      1000
     ]
    }
   },
   "start_time": "2023-10-30T08:39:53.639598",
   "version": "2.4.0"
  }
 },
 "nbformat": 4,
 "nbformat_minor": 5
}