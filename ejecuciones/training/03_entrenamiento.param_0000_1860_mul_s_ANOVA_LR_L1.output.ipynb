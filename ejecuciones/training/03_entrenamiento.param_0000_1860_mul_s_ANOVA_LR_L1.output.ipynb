{
 "cells": [
  {
   "cell_type": "markdown",
   "id": "bb9dfe50",
   "metadata": {
    "papermill": {
     "duration": 0.0,
     "end_time": "2023-10-30T01:10:04.162636",
     "exception": false,
     "start_time": "2023-10-30T01:10:04.162636",
     "status": "completed"
    },
    "tags": []
   },
   "source": [
    "##### Inicio"
   ]
  },
  {
   "cell_type": "markdown",
   "id": "fc4f0ec4",
   "metadata": {
    "papermill": {
     "duration": 0.0,
     "end_time": "2023-10-30T01:10:04.162636",
     "exception": false,
     "start_time": "2023-10-30T01:10:04.162636",
     "status": "completed"
    },
    "tags": []
   },
   "source": [
    "#### Carga de datos"
   ]
  },
  {
   "cell_type": "code",
   "execution_count": 1,
   "id": "9e9ac735",
   "metadata": {
    "execution": {
     "iopub.execute_input": "2023-10-30T01:10:04.178334Z",
     "iopub.status.busy": "2023-10-30T01:10:04.178334Z",
     "iopub.status.idle": "2023-10-30T01:10:05.336600Z",
     "shell.execute_reply": "2023-10-30T01:10:05.336600Z"
    },
    "papermill": {
     "duration": 1.173964,
     "end_time": "2023-10-30T01:10:05.336600",
     "exception": false,
     "start_time": "2023-10-30T01:10:04.162636",
     "status": "completed"
    },
    "tags": []
   },
   "outputs": [
    {
     "name": "stdout",
     "output_type": "stream",
     "text": [
      "CPU_COUNT: 24; NODE: amilcar32; sys.version: 3.10.12 | packaged by Anaconda, Inc. | (main, Jul  5 2023, 19:09:20) [MSC v.1916 64 bit (AMD64)]\n",
      "LOKY_MAX_CPU_COUNT is not set.\n",
      "OMP_NUM_THREADS is not set.\n"
     ]
    }
   ],
   "source": [
    "import os\n",
    "import numpy as np\n",
    "import pandas as pd\n",
    "import datetime\n",
    "import sklearn\n",
    "import logging\n",
    "import warnings\n",
    "\n",
    "from sklearn.pipeline import Pipeline\n",
    "from sklearn.model_selection import RandomizedSearchCV, KFold, cross_val_score, train_test_split\n",
    "from sklearn.metrics import accuracy_score, confusion_matrix, classification_report, roc_auc_score\n",
    "\n",
    "#  cargar algoritmos para aprendizaje supervisado\n",
    "from sklearn.feature_selection import SelectKBest, f_classif, SelectFromModel, mutual_info_classif\n",
    "from sklearn.svm import SVC\n",
    "from sklearn.ensemble import RandomForestClassifier\n",
    "from sklearn.linear_model import LogisticRegression,LogisticRegressionCV\n",
    "\n",
    "# importar fichero con utilidades propias\n",
    "from commons import myfunctions as myfunc\n"
   ]
  },
  {
   "cell_type": "markdown",
   "id": "15e4fef7",
   "metadata": {
    "papermill": {
     "duration": 0.015625,
     "end_time": "2023-10-30T01:10:05.445983",
     "exception": false,
     "start_time": "2023-10-30T01:10:05.430358",
     "status": "completed"
    },
    "tags": []
   },
   "source": [
    "#### Parámetros a utilizar en el entrenamiento.\n",
    "\n",
    "Se indican los 3 algoritmos de *selección de características* (eval_selector_xxx) y los 3 algoritmos para la _clasificación_ (eval_clasifier_xxx)\n",
    "\n",
    "En *param_distributions* se indicar los parámetros que utilizan los algoritmos en la función RandomSearchCV.\n",
    "\n",
    "Esta celda tiene la etiqueta **parameters** que servirá para poder lanzar los entrenamientos con la utilidad **papermill** pasándole un fichero con los parámetros. Los nuevos parámetros se situarán tras esta celda para tener prevalencia."
   ]
  },
  {
   "cell_type": "code",
   "execution_count": 2,
   "id": "d6b21792",
   "metadata": {
    "execution": {
     "iopub.execute_input": "2023-10-30T01:10:05.445983Z",
     "iopub.status.busy": "2023-10-30T01:10:05.445983Z",
     "iopub.status.idle": "2023-10-30T01:10:05.477226Z",
     "shell.execute_reply": "2023-10-30T01:10:05.477226Z"
    },
    "papermill": {
     "duration": 0.031243,
     "end_time": "2023-10-30T01:10:05.477226",
     "exception": false,
     "start_time": "2023-10-30T01:10:05.445983",
     "status": "completed"
    },
    "tags": [
     "parameters"
    ]
   },
   "outputs": [
    {
     "name": "stdout",
     "output_type": "stream",
     "text": [
      "20231030T021005 : amilcar32 : INFO : Utilizando parámetros de mul_m\n"
     ]
    }
   ],
   "source": [
    "#  Parametros para el entrenamiento\n",
    "\n",
    "SEMILLA=        42\n",
    "M_TIPO=         \"mul_m\"\n",
    "M_SELECT=       \"MI\"\n",
    "M_CLASIF=       \"SVM\"\n",
    "R_FICHERO=      \"resultados\"\n",
    "M_FICHERO=      \"metricas\"\n",
    "PRE_DATA_FILE=  \"rows_transpose_norm_by_gene_id_with_target_num_\"\n",
    "SCORING=        \"roc_auc_ovr\" \n",
    "MAX_ITERS=      100\n",
    "\n",
    "def mutual_info_classif_state(X, y):\n",
    "    return mutual_info_classif(X, y, random_state=SEMILLA)\n",
    "\n",
    "eval_selector_mi = \"SelectKBest(score_func=mutual_info_classif_state)\"\n",
    "eval_selector_rf=  \"SelectFromModel(estimator=RandomForestClassifier(random_state=SEMILLA), threshold=-np.inf)\"\n",
    "eval_selector_anova=  \"SelectKBest(score_func=f_classif)\"\n",
    "\n",
    "eval_clasifier_svm= \"SVC(probability=True, random_state=SEMILLA)\"\n",
    "eval_clasifier_rf= \"RandomForestClassifier(random_state=SEMILLA)\"\n",
    "eval_clasifier_lr= \"LogisticRegressionCV(random_state=SEMILLA)\"\n",
    "\n",
    "if M_TIPO.startswith(\"bin_m\"):\n",
    "    myfunc.verbose(f\"Utilizando parámetros de {M_TIPO}\")\n",
    "    eval_selector = eval_selector_mi\n",
    "    eval_clasifier = eval_clasifier_svm\n",
    "\n",
    "    SEMILLA = 6578\n",
    "    M_SELECT = \"MI\"\n",
    "    M_CLASIF = \"SVM\"\n",
    "    param_distributions = {'selector__k': [1000], \n",
    "         'clasifier__kernel': ['rbf'], 'clasifier__gamma': [0.01], 'clasifier__C': [100]}\n",
    "elif M_TIPO.startswith(\"bin_s\"):\n",
    "    myfunc.verbose(f\"Utilizando parámetros de {M_TIPO}\")\n",
    "    eval_selector = eval_selector_rf\n",
    "    eval_clasifier = eval_clasifier_lr\n",
    "\n",
    "    SEMILLA = 6191\n",
    "    M_SELECT = \"RF\"\n",
    "    M_CLASIF = \"LR_L2\"\n",
    "    param_distributions = {'selector__max_features': [1000], 'selector__estimator__n_estimators': [200], \n",
    "        'clasifier__solver': ['lbfgs'], 'clasifier__penalty': ['l2'], 'clasifier__max_iter': [10000]}\n",
    "\n",
    "elif M_TIPO.startswith(\"mul_m\"):\n",
    "    myfunc.verbose(f\"Utilizando parámetros de {M_TIPO}\")\n",
    " \n",
    "    eval_selector = eval_selector_rf\n",
    "    eval_clasifier = eval_clasifier_lr\n",
    "\n",
    "    SEMILLA = 6191\n",
    "    M_SELECT = \"RF\"\n",
    "    M_CLASIF = \"LR_L2\"\n",
    "    param_distributions = {'selector__max_features': [1000], 'selector__estimator__n_estimators': [400], \n",
    "        'clasifier__solver': ['lbfgs'], 'clasifier__penalty': ['l2'], 'clasifier__max_iter': [10000]}\n",
    "\n",
    "else:\n",
    "    # M_TIPO.startswith(\"mul_s\"):\n",
    "    myfunc.verbose(f\"Utilizando parámetros de {M_TIPO}\")\n",
    "    eval_selector = eval_selector_anova\n",
    "    eval_clasifier = eval_clasifier_lr\n",
    "\n",
    "    SEMILLA = 1860\n",
    "    M_SELECT = \"ANOVA\"\n",
    "    M_CLASIF = \"LR_L2\"\n",
    "    param_distributions = {'selector__k': [1000], \n",
    "        'clasifier__solver': ['saga'], 'clasifier__penalty': ['l2'], 'clasifier__max_iter': [10000]}\n",
    "\n"
   ]
  },
  {
   "cell_type": "code",
   "execution_count": 3,
   "id": "c4be10eb",
   "metadata": {
    "execution": {
     "iopub.execute_input": "2023-10-30T01:10:05.477226Z",
     "iopub.status.busy": "2023-10-30T01:10:05.477226Z",
     "iopub.status.idle": "2023-10-30T01:10:05.492860Z",
     "shell.execute_reply": "2023-10-30T01:10:05.492860Z"
    },
    "papermill": {
     "duration": 0.015634,
     "end_time": "2023-10-30T01:10:05.492860",
     "exception": false,
     "start_time": "2023-10-30T01:10:05.477226",
     "status": "completed"
    },
    "tags": [
     "injected-parameters"
    ]
   },
   "outputs": [],
   "source": [
    "# Parameters\n",
    "M_TIPO = \"mul_s\"\n",
    "M_SELECT = \"ANOVA\"\n",
    "M_CLASIF = \"LR_L1\"\n",
    "P_FICHERO = \"param_0000_1860_mul_s_ANOVA_LR_L1.yaml\"\n",
    "R_FICHERO = \"resultados_1860\"\n",
    "M_FICHERO = \"metricas_1860\"\n",
    "PRE_DATA_FILE = \"rows_transpose_norm_by_gene_id_with_target_num_\"\n",
    "SCORING = \"roc_auc_ovr\"\n",
    "SEMILLA = 1860\n",
    "MAX_ITERS = 500\n",
    "eval_selector = \"SelectKBest(score_func=f_classif)\"\n",
    "eval_clasifier = \"LogisticRegressionCV(random_state=SEMILLA)\"\n",
    "param_distributions = {\n",
    "    \"selector__k\": [1000],\n",
    "    \"clasifier__solver\": [\"saga\"],\n",
    "    \"clasifier__penalty\": [\"l1\"],\n",
    "    \"clasifier__max_iter\": [10000],\n",
    "}\n"
   ]
  },
  {
   "cell_type": "code",
   "execution_count": 4,
   "id": "17bda2f8",
   "metadata": {
    "execution": {
     "iopub.execute_input": "2023-10-30T01:10:05.492860Z",
     "iopub.status.busy": "2023-10-30T01:10:05.492860Z",
     "iopub.status.idle": "2023-10-30T01:10:05.508550Z",
     "shell.execute_reply": "2023-10-30T01:10:05.508550Z"
    },
    "papermill": {
     "duration": 0.01569,
     "end_time": "2023-10-30T01:10:05.508550",
     "exception": false,
     "start_time": "2023-10-30T01:10:05.492860",
     "status": "completed"
    },
    "tags": []
   },
   "outputs": [],
   "source": [
    "DATA_FILE = PRE_DATA_FILE + M_TIPO\n",
    "\n",
    "# si viene \"None\" en el parámetro max_depth, se le quitan las comillas para que no sea entendido por el algoritmo como un texto\n",
    "if \"clasifier__max_depth\" in param_distributions:\n",
    "    param_distributions['clasifier__max_depth'] = [None if x == 'None' else x for x in param_distributions['clasifier__max_depth']]"
   ]
  },
  {
   "cell_type": "markdown",
   "id": "8b6f5f34",
   "metadata": {
    "papermill": {
     "duration": 0.0,
     "end_time": "2023-10-30T01:10:05.508550",
     "exception": false,
     "start_time": "2023-10-30T01:10:05.508550",
     "status": "completed"
    },
    "tags": []
   },
   "source": [
    "Asignar los algoritmos que se utilizarán en la función RandomSearchCV"
   ]
  },
  {
   "cell_type": "code",
   "execution_count": 5,
   "id": "43ec06e6",
   "metadata": {
    "execution": {
     "iopub.execute_input": "2023-10-30T01:10:05.508550Z",
     "iopub.status.busy": "2023-10-30T01:10:05.508550Z",
     "iopub.status.idle": "2023-10-30T01:10:05.539737Z",
     "shell.execute_reply": "2023-10-30T01:10:05.539737Z"
    },
    "papermill": {
     "duration": 0.031187,
     "end_time": "2023-10-30T01:10:05.539737",
     "exception": false,
     "start_time": "2023-10-30T01:10:05.508550",
     "status": "completed"
    },
    "tags": []
   },
   "outputs": [],
   "source": [
    "algor_selector=eval(eval_selector)\n",
    "algor_clasifier=eval(eval_clasifier)"
   ]
  },
  {
   "cell_type": "markdown",
   "id": "ea8c97e1",
   "metadata": {
    "papermill": {
     "duration": 0.0,
     "end_time": "2023-10-30T01:10:05.539737",
     "exception": false,
     "start_time": "2023-10-30T01:10:05.539737",
     "status": "completed"
    },
    "tags": []
   },
   "source": [
    "#### Comprobar el entorno y leer fichero de muestras"
   ]
  },
  {
   "cell_type": "code",
   "execution_count": 6,
   "id": "4f4ab93d",
   "metadata": {
    "execution": {
     "iopub.execute_input": "2023-10-30T01:10:05.555424Z",
     "iopub.status.busy": "2023-10-30T01:10:05.555424Z",
     "iopub.status.idle": "2023-10-30T01:10:05.680349Z",
     "shell.execute_reply": "2023-10-30T01:10:05.680349Z"
    },
    "papermill": {
     "duration": 0.140612,
     "end_time": "2023-10-30T01:10:05.680349",
     "exception": false,
     "start_time": "2023-10-30T01:10:05.539737",
     "status": "completed"
    },
    "tags": []
   },
   "outputs": [
    {
     "name": "stdout",
     "output_type": "stream",
     "text": [
      "20231030T021005 : amilcar32 : INFO : Encontrada carpeta DATA_DIR=..\\tfm_viu\\datos\n",
      "20231030T021005 : amilcar32 : INFO : Encontrada carpeta CFDNA_DIR=..\\tfm_viu\\datos\\cfDNA_5hmC\n",
      "20231030T021005 : amilcar32 : INFO : Encontrada carpeta GENCODE_DIR=..\\tfm_viu\\datos\\gencode\n",
      "20231030T021005 : amilcar32 : INFO : Encontrada carpeta H5_DIR=..\\tfm_viu\\datos\\h5\n",
      "20231030T021005 : amilcar32 : INFO : Encontrada carpeta LOG_DIR=..\\tfm_viu\\datos\\logs\n",
      "20231030T021005 : amilcar32 : INFO : Encontrada carpeta CSV_DIR=..\\tfm_viu\\datos\\csv\n",
      "20231030T021005 : amilcar32 : INFO : Encontrada carpeta MODEL_DIR=..\\tfm_viu\\ejecuciones\\modelos\n",
      "20231030T021005 : amilcar32 : INFO : Encontrada carpeta EXEC_DIR=..\\tfm_viu\\ejecuciones\n",
      "20231030T021005 : amilcar32 : INFO : Encontrada carpeta MET_DIR=..\\tfm_viu\\ejecuciones\\metricas\n",
      "20231030T021005 : amilcar32 : INFO : Inicio leer fichero h5 ..\\tfm_viu\\datos\\h5\\rows_transpose_norm_by_gene_id_with_target_num_mul_s.h5\n",
      "20231030T021005 : amilcar32 : INFO : Leyendo clave /df\n",
      "20231030T021005 : amilcar32 : INFO : Tamaño (259, 18876)\n",
      "20231030T021005 : amilcar32 : INFO : Fin leer fichero h5 ..\\tfm_viu\\datos\\h5\\rows_transpose_norm_by_gene_id_with_target_num_mul_s.h5\n"
     ]
    },
    {
     "data": {
      "text/plain": [
       "target\n",
       "0    37\n",
       "1    37\n",
       "2    37\n",
       "3    37\n",
       "4    37\n",
       "5    37\n",
       "6    37\n",
       "dtype: int64"
      ]
     },
     "metadata": {},
     "output_type": "display_data"
    },
    {
     "name": "stdout",
     "output_type": "stream",
     "text": [
      "Shape df: (259, 18876)\n",
      "Shape X_train: (207, 18875)\n",
      "Shape X_test: (52, 18875)\n"
     ]
    }
   ],
   "source": [
    "start_time = datetime.datetime.now()\n",
    "\n",
    "myfunc.reset_vars()\n",
    "\n",
    "myfunc.NOTEBK_FILENAME = myfunc.get_nb_name()\n",
    "\n",
    "myfunc.check_enviroment(myfunc.DATA_DIR, myfunc.CFDNA_DIR, myfunc.GENCODE_DIR, myfunc.H5_DIR, myfunc.LOG_DIR, myfunc.CSV_DIR, myfunc.MODEL_DIR, myfunc.EXEC_DIR, myfunc.MET_DIR)\n",
    "\n",
    "# Leer fichero con las muestras\n",
    "df_t = myfunc.read_h5_to_df(DATA_FILE, myfunc.H5_DIR)\n",
    "display(df_t.groupby(\"target\").size())\n",
    "print(\"Shape df:\",df_t.shape)\n",
    "\n",
    "# Separar caracteristicas/genes de las etiquetas/tipos de cáncer\n",
    "X = df_t.iloc[:, :-1]  # Todas las columnas excepto la última\n",
    "y = df_t.iloc[:, -1]  # La última columna contiene los identificadores de los tipos de cáncer\n",
    "\n",
    "#  Crear el conjunto de datos de entrenamiento y de pruebas, y se fija la semilla para siempre coger el mismo juego de muestras\n",
    "X_train, X_test, y_train, y_test = train_test_split(X, y, test_size=0.2, shuffle=True, random_state=42)\n",
    "print(\"Shape X_train:\",X_train.shape)\n",
    "print(\"Shape X_test:\",X_test.shape)\n"
   ]
  },
  {
   "cell_type": "markdown",
   "id": "577068ff",
   "metadata": {
    "papermill": {
     "duration": 0.0,
     "end_time": "2023-10-30T01:10:05.680349",
     "exception": false,
     "start_time": "2023-10-30T01:10:05.680349",
     "status": "completed"
    },
    "tags": []
   },
   "source": [
    "#### Selección de características y clasificación."
   ]
  },
  {
   "cell_type": "code",
   "execution_count": 7,
   "id": "b714a3a3",
   "metadata": {
    "execution": {
     "iopub.execute_input": "2023-10-30T01:10:05.695976Z",
     "iopub.status.busy": "2023-10-30T01:10:05.695976Z",
     "iopub.status.idle": "2023-10-30T01:34:20.453415Z",
     "shell.execute_reply": "2023-10-30T01:34:20.453415Z"
    },
    "papermill": {
     "duration": 1454.773066,
     "end_time": "2023-10-30T01:34:20.453415",
     "exception": false,
     "start_time": "2023-10-30T01:10:05.680349",
     "status": "completed"
    },
    "tags": []
   },
   "outputs": [
    {
     "name": "stdout",
     "output_type": "stream",
     "text": [
      "20231030T021005 : amilcar32 : INFO : Iniciando entrenamiento\n",
      "num_iter: 1 , max_iter: 1\n",
      "Fitting 5 folds for each of 1 candidates, totalling 5 fits\n"
     ]
    },
    {
     "name": "stderr",
     "output_type": "stream",
     "text": [
      "C:\\Users\\viu\\miniconda3\\lib\\site-packages\\sklearn\\feature_selection\\_univariate_selection.py:112: UserWarning: Features [  298  1508  1733  1846  2010  2222  2265  2266  2553  2688  2802  2803\n",
      "  2833  2896  3248  3415  3492  4075  5803  6053  6981  6984  7418  8508\n",
      "  8510  8513  8890  9087  9490 10475 11020 11613 11943 12249 12480 12831\n",
      " 13235 13259 13836 13959 14000 14015 14244 14245 14451 14789 14795 14941\n",
      " 15515 15563 15824 15874 16258 16267 16268 16281 16287 16313 16323 16350\n",
      " 16372 16630 16701 16905 16906 16968 17047 17091 17093 17231 17264 17274\n",
      " 17300 17312 17540 18350 18368 18374 18375 18405 18486 18592 18692 18868] are constant.\n",
      "  warnings.warn(\"Features %s are constant.\" % constant_features_idx, UserWarning)\n",
      "C:\\Users\\viu\\miniconda3\\lib\\site-packages\\sklearn\\feature_selection\\_univariate_selection.py:113: RuntimeWarning: invalid value encountered in divide\n",
      "  f = msb / msw\n"
     ]
    },
    {
     "name": "stdout",
     "output_type": "stream",
     "text": [
      "Mejores Hiperparámetros: {'selector__k': 1000, 'clasifier__solver': 'saga', 'clasifier__penalty': 'l1', 'clasifier__max_iter': 10000}\n",
      "Mejor Puntuación: 0.7914\n",
      "20231030T023420 : amilcar32 : INFO : Fin entrenamiento\n"
     ]
    }
   ],
   "source": [
    "myfunc.verbose(\"Iniciando entrenamiento\")\n",
    "\n",
    "kf = KFold(n_splits=5, shuffle=True, random_state=SEMILLA)\n",
    "\n",
    "# Crear el pipeline para el flujo de tareas\n",
    "tasks_pipeline = Pipeline([\n",
    "    ('selector', algor_selector),\n",
    "    ('clasifier', algor_clasifier)\n",
    "])\n",
    "\n",
    "# MAX_ITERS puede limitar el número de iteraciones si son excesivas para las combinaciones de parámetros buscando un óptimo local, \n",
    "# sino funcionaría como GridSearchCV al revisar todas las cominaciones de los parámetros\n",
    "num_iteraciones = 1\n",
    "num_iteraciones = num_iteraciones * np.prod([len(elemento1) for _, elemento1 in param_distributions.items()])\n",
    "max_iteraciones = num_iteraciones if num_iteraciones <= MAX_ITERS else MAX_ITERS\n",
    "print(\"num_iter:\",num_iteraciones,\", max_iter:\",max_iteraciones)\n",
    "\n",
    "random_search = RandomizedSearchCV(\n",
    "    tasks_pipeline, \n",
    "    param_distributions, \n",
    "    n_iter=max_iteraciones,\n",
    "    scoring=SCORING,\n",
    "    cv=kf,\n",
    "    verbose=3, \n",
    "    random_state=SEMILLA, \n",
    "    n_jobs=-1\n",
    "    )\n",
    "\n",
    "# Entrenar el modelo\n",
    "random_search.fit(X_train, y_train)\n",
    "\n",
    "# Ver los mejores hiperparámetros encontrados\n",
    "print(f'Mejores Hiperparámetros: {random_search.best_params_}')\n",
    "print(f'Mejor Puntuación: {random_search.best_score_:.4f}')\n",
    "\n",
    "# Nos quedamos con el mejor modelo para ver las métricas\n",
    "mejor_modelo = random_search.best_estimator_\n",
    "\n",
    "myfunc.verbose(\"Fin entrenamiento\")"
   ]
  },
  {
   "cell_type": "markdown",
   "id": "d002230a",
   "metadata": {
    "papermill": {
     "duration": 0.015623,
     "end_time": "2023-10-30T01:34:20.469038",
     "exception": false,
     "start_time": "2023-10-30T01:34:20.453415",
     "status": "completed"
    },
    "tags": []
   },
   "source": [
    "#### Guardar modelo"
   ]
  },
  {
   "cell_type": "code",
   "execution_count": 8,
   "id": "b8227a76",
   "metadata": {
    "execution": {
     "iopub.execute_input": "2023-10-30T01:34:20.469038Z",
     "iopub.status.busy": "2023-10-30T01:34:20.469038Z",
     "iopub.status.idle": "2023-10-30T01:34:20.500288Z",
     "shell.execute_reply": "2023-10-30T01:34:20.500288Z"
    },
    "papermill": {
     "duration": 0.03125,
     "end_time": "2023-10-30T01:34:20.500288",
     "exception": false,
     "start_time": "2023-10-30T01:34:20.469038",
     "status": "completed"
    },
    "tags": []
   },
   "outputs": [
    {
     "name": "stdout",
     "output_type": "stream",
     "text": [
      "20231030T023420 : amilcar32 : INFO : Inicio guardar fichero ..\\tfm_viu\\ejecuciones\\modelos\\modelo_1860_mul_s_ANOVA_LR_L1.pkl\n",
      "20231030T023420 : amilcar32 : INFO : Fin guardar fichero ..\\tfm_viu\\ejecuciones\\modelos\\modelo_1860_mul_s_ANOVA_LR_L1.pkl\n"
     ]
    }
   ],
   "source": [
    "fichero_modelo = str.replace(\"modelo_\"+str(SEMILLA).zfill(4)+\"_\"+M_TIPO+\"_\"+M_SELECT+\"_\"+M_CLASIF+\".pkl\", \" \", \"_\")\n",
    "\n",
    "myfunc.save_modelo(mejor_modelo, myfunc.MODEL_DIR, fichero_modelo)"
   ]
  },
  {
   "cell_type": "markdown",
   "id": "439485e0",
   "metadata": {
    "papermill": {
     "duration": 0.015636,
     "end_time": "2023-10-30T01:34:20.515924",
     "exception": false,
     "start_time": "2023-10-30T01:34:20.500288",
     "status": "completed"
    },
    "tags": []
   },
   "source": [
    "#### Ver resultados del las iteraciones hechas por RandomSearchCV"
   ]
  },
  {
   "cell_type": "code",
   "execution_count": 9,
   "id": "247ab5fe",
   "metadata": {
    "execution": {
     "iopub.execute_input": "2023-10-30T01:34:20.531613Z",
     "iopub.status.busy": "2023-10-30T01:34:20.531613Z",
     "iopub.status.idle": "2023-10-30T01:34:20.547329Z",
     "shell.execute_reply": "2023-10-30T01:34:20.547329Z"
    },
    "papermill": {
     "duration": 0.025799,
     "end_time": "2023-10-30T01:34:20.547329",
     "exception": false,
     "start_time": "2023-10-30T01:34:20.521530",
     "status": "completed"
    },
    "tags": []
   },
   "outputs": [
    {
     "name": "stdout",
     "output_type": "stream",
     "text": [
      "20231030T023420 : amilcar32 : INFO : Inicio ver resultados\n",
      "Mejores Hiperparámetros: {'selector__k': 1000, 'clasifier__solver': 'saga', 'clasifier__penalty': 'l1', 'clasifier__max_iter': 10000}\n",
      "Mejores puntuaciones: 0.7914 | Params: {'selector__k': 1000, 'clasifier__solver': 'saga', 'clasifier__penalty': 'l1', 'clasifier__max_iter': 10000}\n",
      "Media de las puntuaciones: 0.7914 | Params: {'selector__k': 1000, 'clasifier__solver': 'saga', 'clasifier__penalty': 'l1', 'clasifier__max_iter': 10000}\n",
      "20231030T023420 : amilcar32 : INFO : Fin resultados\n"
     ]
    }
   ],
   "source": [
    "myfunc.ver_resultados_search(random_search)"
   ]
  },
  {
   "cell_type": "markdown",
   "id": "d3830296",
   "metadata": {
    "papermill": {
     "duration": 0.0,
     "end_time": "2023-10-30T01:34:20.562963",
     "exception": false,
     "start_time": "2023-10-30T01:34:20.562963",
     "status": "completed"
    },
    "tags": []
   },
   "source": [
    "#### Ver métricas del mejor modelo"
   ]
  },
  {
   "cell_type": "code",
   "execution_count": 10,
   "id": "43a96955",
   "metadata": {
    "execution": {
     "iopub.execute_input": "2023-10-30T01:34:20.594213Z",
     "iopub.status.busy": "2023-10-30T01:34:20.594213Z",
     "iopub.status.idle": "2023-10-30T01:34:21.875881Z",
     "shell.execute_reply": "2023-10-30T01:34:21.875881Z"
    },
    "papermill": {
     "duration": 1.297292,
     "end_time": "2023-10-30T01:34:21.875881",
     "exception": false,
     "start_time": "2023-10-30T01:34:20.578589",
     "status": "completed"
    },
    "tags": []
   },
   "outputs": [
    {
     "name": "stdout",
     "output_type": "stream",
     "text": [
      "20231030T023420 : amilcar32 : INFO : Inicio ver métricas multiclase\n"
     ]
    },
    {
     "name": "stdout",
     "output_type": "stream",
     "text": [
      "              precision    recall  f1-score   support\n",
      "\n",
      "           0       0.56      0.45      0.50        11\n",
      "           1       0.60      0.38      0.46         8\n",
      "           2       0.17      0.12      0.14         8\n",
      "           3       0.00      0.00      0.00         5\n",
      "           4       0.80      1.00      0.89         8\n",
      "           5       0.43      0.50      0.46         6\n",
      "           6       0.50      0.83      0.62         6\n",
      "\n",
      "    accuracy                           0.48        52\n",
      "   macro avg       0.44      0.47      0.44        52\n",
      "weighted avg       0.47      0.48      0.46        52\n",
      "\n",
      "\n",
      "\n",
      "           Exactitud: 0.480769\n",
      "   Precisión (media): 0.435828\n",
      "      Recall (media): 0.469697\n",
      "    F1-score (media): 0.439975\n",
      "\n",
      "\n",
      "AUC para el tipo de cáncer 0-Control.... 0.6053\n",
      "AUC para el tipo de cáncer 1-Bladder.... 0.8608\n",
      "AUC para el tipo de cáncer 2-Breast..... 0.7216\n",
      "AUC para el tipo de cáncer 3-Colorectal. 0.6638\n",
      "AUC para el tipo de cáncer 4-Kidney..... 0.9545\n",
      "AUC para el tipo de cáncer 5-Lung....... 0.8841\n",
      "AUC para el tipo de cáncer 6-Prostate... 0.9674\n",
      "\n",
      "Media de AUC: 0.8082\n"
     ]
    },
    {
     "data": {
      "image/png": "[encoded data removed]",
      "text/plain": [
       "<Figure size 1000x600 with 1 Axes>"
      ]
     },
     "metadata": {},
     "output_type": "display_data"
    },
    {
     "name": "stdout",
     "output_type": "stream",
     "text": [
      "\n",
      "\n"
     ]
    },
    {
     "data": {
      "image/png": "[encoded data removed]",
      "text/plain": [
       "<Figure size 800x400 with 2 Axes>"
      ]
     },
     "metadata": {},
     "output_type": "display_data"
    },
    {
     "name": "stdout",
     "output_type": "stream",
     "text": [
      "\n",
      "\n",
      "Puntuación Jaccard para el cáncer tipo 0-Control.... 0.3333\n",
      "Puntuación Jaccard para el cáncer tipo 1-Bladder.... 0.3000\n",
      "Puntuación Jaccard para el cáncer tipo 2-Breast..... 0.0769\n",
      "Puntuación Jaccard para el cáncer tipo 3-Colorectal. 0.0000\n",
      "Puntuación Jaccard para el cáncer tipo 4-Kidney..... 0.8000\n",
      "Puntuación Jaccard para el cáncer tipo 5-Lung....... 0.3000\n",
      "Puntuación Jaccard para el cáncer tipo 6-Prostate... 0.4545\n",
      "\n",
      "Media de la puntuación de Jaccard: 0.3235\n"
     ]
    }
   ],
   "source": [
    "if M_TIPO.startswith(\"bin\"):\n",
    "    myfunc.ver_metricas(mejor_modelo, X_test, y_test)\n",
    "else:\n",
    "    myfunc.ver_metricas_multi(mejor_modelo, X_test, y_test)\n"
   ]
  },
  {
   "cell_type": "markdown",
   "id": "d7e30f03",
   "metadata": {
    "papermill": {
     "duration": 0.015644,
     "end_time": "2023-10-30T01:34:21.907133",
     "exception": false,
     "start_time": "2023-10-30T01:34:21.891489",
     "status": "completed"
    },
    "tags": []
   },
   "source": [
    "#### Finalización del notebook"
   ]
  },
  {
   "cell_type": "code",
   "execution_count": 11,
   "id": "a44fd5f5",
   "metadata": {
    "execution": {
     "iopub.execute_input": "2023-10-30T01:34:21.928252Z",
     "iopub.status.busy": "2023-10-30T01:34:21.928252Z",
     "iopub.status.idle": "2023-10-30T01:34:21.938339Z",
     "shell.execute_reply": "2023-10-30T01:34:21.938339Z"
    },
    "papermill": {
     "duration": 0.015597,
     "end_time": "2023-10-30T01:34:21.938339",
     "exception": false,
     "start_time": "2023-10-30T01:34:21.922742",
     "status": "completed"
    },
    "tags": []
   },
   "outputs": [
    {
     "name": "stdout",
     "output_type": "stream",
     "text": [
      "20231030T023421 : amilcar32 : INFO : Notebook ha tardado 1456 seconds\n"
     ]
    }
   ],
   "source": [
    "end_time = datetime.datetime.now()\n",
    "total_time = end_time - start_time\n",
    "myfunc.verbose(f\"Notebook ha tardado {total_time.seconds} seconds\")"
   ]
  },
  {
   "cell_type": "markdown",
   "id": "33da81ab",
   "metadata": {
    "papermill": {
     "duration": 0.015619,
     "end_time": "2023-10-30T01:34:21.969681",
     "exception": false,
     "start_time": "2023-10-30T01:34:21.954062",
     "status": "completed"
    },
    "tags": []
   },
   "source": [
    "#### Guardar métricas"
   ]
  },
  {
   "cell_type": "code",
   "execution_count": 12,
   "id": "f6aa0fd4",
   "metadata": {
    "execution": {
     "iopub.execute_input": "2023-10-30T01:34:21.985310Z",
     "iopub.status.busy": "2023-10-30T01:34:21.985310Z",
     "iopub.status.idle": "2023-10-30T01:34:22.518228Z",
     "shell.execute_reply": "2023-10-30T01:34:22.518228Z"
    },
    "papermill": {
     "duration": 0.548547,
     "end_time": "2023-10-30T01:34:22.518228",
     "exception": false,
     "start_time": "2023-10-30T01:34:21.969681",
     "status": "completed"
    },
    "tags": []
   },
   "outputs": [
    {
     "name": "stdout",
     "output_type": "stream",
     "text": [
      "20231030T023421 : amilcar32 : INFO : Inicio guardar métricas multiclase\n",
      "20231030T023421 : amilcar32 : INFO : Inicio leer fichero ..\\tfm_viu\\ejecuciones\\metricas\\metricas_1860.csv\n",
      "20231030T023422 : amilcar32 : INFO : Fin leer fichero ..\\tfm_viu\\ejecuciones\\metricas\\metricas_1860.csv\n"
     ]
    },
    {
     "name": "stdout",
     "output_type": "stream",
     "text": [
      "20231030T023422 : amilcar32 : INFO : Inicio guardar fichero ..\\tfm_viu\\ejecuciones\\metricas\\metricas_1860.csv\n",
      "20231030T023422 : amilcar32 : INFO : Fichero borrado ..\\tfm_viu\\ejecuciones\\metricas\\metricas_1860.csv\n",
      "20231030T023422 : amilcar32 : INFO : Fin guardar fichero ..\\tfm_viu\\ejecuciones\\metricas\\metricas_1860.csv\n",
      "20231030T023422 : amilcar32 : INFO : Fin guardar métricas multiclase\n",
      "20231030T023422 : amilcar32 : INFO : Inicio leer fichero ..\\tfm_viu\\ejecuciones\\metricas\\metricas_1860.csv\n",
      "20231030T023422 : amilcar32 : INFO : Fin leer fichero ..\\tfm_viu\\ejecuciones\\metricas\\metricas_1860.csv\n"
     ]
    },
    {
     "data": {
      "text/html": [
       "<div>\n",
       "<style scoped>\n",
       "    .dataframe tbody tr th:only-of-type {\n",
       "        vertical-align: middle;\n",
       "    }\n",
       "\n",
       "    .dataframe tbody tr th {\n",
       "        vertical-align: top;\n",
       "    }\n",
       "\n",
       "    .dataframe thead th {\n",
       "        text-align: right;\n",
       "    }\n",
       "</style>\n",
       "<table border=\"1\" class=\"dataframe\">\n",
       "  <thead>\n",
       "    <tr style=\"text-align: right;\">\n",
       "      <th></th>\n",
       "      <th>tipo</th>\n",
       "      <th>select</th>\n",
       "      <th>clasific</th>\n",
       "      <th>semilla</th>\n",
       "      <th>accuracy</th>\n",
       "      <th>precision</th>\n",
       "      <th>recall</th>\n",
       "      <th>f1_score</th>\n",
       "      <th>roc_auc</th>\n",
       "      <th>hostname</th>\n",
       "      <th>total_time_sec</th>\n",
       "      <th>datetime</th>\n",
       "      <th>fichero_modelo</th>\n",
       "      <th>params</th>\n",
       "      <th>shape</th>\n",
       "      <th>features</th>\n",
       "      <th>roc_auc_ovr</th>\n",
       "      <th>indices_auc</th>\n",
       "      <th>indices_jaccard</th>\n",
       "    </tr>\n",
       "  </thead>\n",
       "  <tbody>\n",
       "    <tr>\n",
       "      <th>0</th>\n",
       "      <td>mul_s</td>\n",
       "      <td>ANOVA</td>\n",
       "      <td>LR_L1</td>\n",
       "      <td>1860</td>\n",
       "      <td>0.480769</td>\n",
       "      <td>0.435828</td>\n",
       "      <td>0.469697</td>\n",
       "      <td>0.439975</td>\n",
       "      <td>NaN</td>\n",
       "      <td>amilcar32</td>\n",
       "      <td>1456</td>\n",
       "      <td>2023-10-30 02:34:22.392999</td>\n",
       "      <td>modelo_1860_mul_s_ANOVA_LR_L1.pkl</td>\n",
       "      <td>{'selector__k': 1000, 'clasifier__solver': 'sa...</td>\n",
       "      <td>X_test:(52, 18875)</td>\n",
       "      <td>['ENSG00000000938.13', 'ENSG00000002834.19', '...</td>\n",
       "      <td>0.808219</td>\n",
       "      <td>[0.6053215077605322, 0.8607954545454545, 0.721...</td>\n",
       "      <td>[0.3333333333333333, 0.3, 0.07692307692307693,...</td>\n",
       "    </tr>\n",
       "    <tr>\n",
       "      <th>0</th>\n",
       "      <td>mul_s</td>\n",
       "      <td>ANOVA</td>\n",
       "      <td>LR_EN</td>\n",
       "      <td>1860</td>\n",
       "      <td>0.557692</td>\n",
       "      <td>0.546429</td>\n",
       "      <td>0.573268</td>\n",
       "      <td>0.538235</td>\n",
       "      <td>NaN</td>\n",
       "      <td>amilcar32</td>\n",
       "      <td>1225</td>\n",
       "      <td>2023-10-30 02:10:00.196603</td>\n",
       "      <td>modelo_1860_mul_s_ANOVA_LR_EN.pkl</td>\n",
       "      <td>{'selector__k': 1000, 'clasifier__solver': 'sa...</td>\n",
       "      <td>X_test:(52, 18875)</td>\n",
       "      <td>['ENSG00000000938.13', 'ENSG00000002834.19', '...</td>\n",
       "      <td>0.836390</td>\n",
       "      <td>[0.6341463414634146, 0.8948863636363635, 0.732...</td>\n",
       "      <td>[0.3125, 0.3333333333333333, 0.181818181818181...</td>\n",
       "    </tr>\n",
       "    <tr>\n",
       "      <th>0</th>\n",
       "      <td>mul_m</td>\n",
       "      <td>RF</td>\n",
       "      <td>SVM</td>\n",
       "      <td>1860</td>\n",
       "      <td>0.425287</td>\n",
       "      <td>0.397698</td>\n",
       "      <td>0.466966</td>\n",
       "      <td>0.418521</td>\n",
       "      <td>NaN</td>\n",
       "      <td>amilcar32</td>\n",
       "      <td>61</td>\n",
       "      <td>2023-10-30 01:49:28.841686</td>\n",
       "      <td>modelo_1860_mul_m_RF_SVM.pkl</td>\n",
       "      <td>{'selector__max_features': 200, 'selector__est...</td>\n",
       "      <td>X_test:(87, 18875)</td>\n",
       "      <td>['ENSG00000005381.9', 'ENSG00000011600.12', 'E...</td>\n",
       "      <td>0.818138</td>\n",
       "      <td>[0.6170774647887324, 0.8888888888888888, 0.717...</td>\n",
       "      <td>[0.0, 0.45, 0.2, 0.21428571428571427, 0.35, 0....</td>\n",
       "    </tr>\n",
       "  </tbody>\n",
       "</table>\n",
       "</div>"
      ],
      "text/plain": [
       "    tipo select clasific  semilla  accuracy  precision    recall  f1_score  \\\n",
       "0  mul_s  ANOVA    LR_L1     1860  0.480769   0.435828  0.469697  0.439975   \n",
       "0  mul_s  ANOVA    LR_EN     1860  0.557692   0.546429  0.573268  0.538235   \n",
       "0  mul_m     RF      SVM     1860  0.425287   0.397698  0.466966  0.418521   \n",
       "\n",
       "   roc_auc   hostname  total_time_sec                    datetime  \\\n",
       "0      NaN  amilcar32            1456  2023-10-30 02:34:22.392999   \n",
       "0      NaN  amilcar32            1225  2023-10-30 02:10:00.196603   \n",
       "0      NaN  amilcar32              61  2023-10-30 01:49:28.841686   \n",
       "\n",
       "                      fichero_modelo  \\\n",
       "0  modelo_1860_mul_s_ANOVA_LR_L1.pkl   \n",
       "0  modelo_1860_mul_s_ANOVA_LR_EN.pkl   \n",
       "0       modelo_1860_mul_m_RF_SVM.pkl   \n",
       "\n",
       "                                              params               shape  \\\n",
       "0  {'selector__k': 1000, 'clasifier__solver': 'sa...  X_test:(52, 18875)   \n",
       "0  {'selector__k': 1000, 'clasifier__solver': 'sa...  X_test:(52, 18875)   \n",
       "0  {'selector__max_features': 200, 'selector__est...  X_test:(87, 18875)   \n",
       "\n",
       "                                            features  roc_auc_ovr  \\\n",
       "0  ['ENSG00000000938.13', 'ENSG00000002834.19', '...     0.808219   \n",
       "0  ['ENSG00000000938.13', 'ENSG00000002834.19', '...     0.836390   \n",
       "0  ['ENSG00000005381.9', 'ENSG00000011600.12', 'E...     0.818138   \n",
       "\n",
       "                                         indices_auc  \\\n",
       "0  [0.6053215077605322, 0.8607954545454545, 0.721...   \n",
       "0  [0.6341463414634146, 0.8948863636363635, 0.732...   \n",
       "0  [0.6170774647887324, 0.8888888888888888, 0.717...   \n",
       "\n",
       "                                     indices_jaccard  \n",
       "0  [0.3333333333333333, 0.3, 0.07692307692307693,...  \n",
       "0  [0.3125, 0.3333333333333333, 0.181818181818181...  \n",
       "0  [0.0, 0.45, 0.2, 0.21428571428571427, 0.35, 0....  "
      ]
     },
     "metadata": {},
     "output_type": "display_data"
    }
   ],
   "source": [
    "if M_TIPO.startswith(\"bin\"):\n",
    "    myfunc.save_metricas_to_csv(random_search, X_test, y_test, M_TIPO, M_SELECT, M_CLASIF, total_time, SEMILLA, myfunc.MET_DIR, M_FICHERO, fichero_modelo)\n",
    "else:\n",
    "    myfunc.save_metricas_multi_to_csv(random_search, X_test, y_test, M_TIPO, M_SELECT, M_CLASIF, total_time, SEMILLA, myfunc.MET_DIR, M_FICHERO, fichero_modelo)\n",
    "\n",
    "df1=myfunc.read_metricas_to_df(myfunc.MET_DIR,M_FICHERO)\n",
    "\n",
    "display(df1.sort_values(\"datetime\", ascending=False)[:3])\n"
   ]
  },
  {
   "cell_type": "markdown",
   "id": "2ec24440",
   "metadata": {
    "papermill": {
     "duration": 0.015616,
     "end_time": "2023-10-30T01:34:22.549569",
     "exception": false,
     "start_time": "2023-10-30T01:34:22.533953",
     "status": "completed"
    },
    "tags": []
   },
   "source": [
    "#### Guardar resultados"
   ]
  },
  {
   "cell_type": "code",
   "execution_count": 13,
   "id": "4f292f27",
   "metadata": {
    "execution": {
     "iopub.execute_input": "2023-10-30T01:34:22.580818Z",
     "iopub.status.busy": "2023-10-30T01:34:22.580818Z",
     "iopub.status.idle": "2023-10-30T01:34:22.611989Z",
     "shell.execute_reply": "2023-10-30T01:34:22.611989Z"
    },
    "papermill": {
     "duration": 0.046794,
     "end_time": "2023-10-30T01:34:22.611989",
     "exception": false,
     "start_time": "2023-10-30T01:34:22.565195",
     "status": "completed"
    },
    "tags": []
   },
   "outputs": [
    {
     "name": "stdout",
     "output_type": "stream",
     "text": [
      "20231030T023422 : amilcar32 : INFO : Inicio guardar resultados\n",
      "20231030T023422 : amilcar32 : INFO : Inicio guardar fichero ..\\tfm_viu\\ejecuciones\\metricas\\resultados_1860_mul_s-ANOVA-LR_L1.csv\n",
      "20231030T023422 : amilcar32 : INFO : Fin guardar fichero ..\\tfm_viu\\ejecuciones\\metricas\\resultados_1860_mul_s-ANOVA-LR_L1.csv\n",
      "20231030T023422 : amilcar32 : INFO : Fin guardar resultados\n"
     ]
    }
   ],
   "source": [
    "fichero_resultados=R_FICHERO+\"_\"+M_TIPO+\"-\"+M_SELECT+\"-\"+M_CLASIF+\".csv\"\n",
    "myfunc.save_resultados_to_csv(M_TIPO, M_SELECT, M_CLASIF,  random_search, myfunc.MET_DIR, fichero_resultados)\n"
   ]
  }
 ],
 "metadata": {
  "kernelspec": {
   "display_name": "Python 3 (ipykernel)",
   "language": "python",
   "name": "python3"
  },
  "language_info": {
   "codemirror_mode": {
    "name": "ipython",
    "version": 3
   },
   "file_extension": ".py",
   "mimetype": "text/x-python",
   "name": "python",
   "nbconvert_exporter": "python",
   "pygments_lexer": "ipython3",
   "version": "3.10.12"
  },
  "papermill": {
   "default_parameters": {},
   "duration": 1461.070129,
   "end_time": "2023-10-30T01:34:23.412866",
   "environment_variables": {},
   "exception": null,
   "input_path": "03_entrenamiento.ipynb",
   "output_path": "ejecuciones\\training\\03_entrenamiento.20231030T_21001.param_0000_1860_mul_s_ANOVA_LR_L1.output.ipynb",
   "parameters": {
    "MAX_ITERS": 500,
    "M_CLASIF": "LR_L1",
    "M_FICHERO": "metricas_1860",
    "M_SELECT": "ANOVA",
    "M_TIPO": "mul_s",
    "PRE_DATA_FILE": "rows_transpose_norm_by_gene_id_with_target_num_",
    "P_FICHERO": "param_0000_1860_mul_s_ANOVA_LR_L1.yaml",
    "R_FICHERO": "resultados_1860",
    "SCORING": "roc_auc_ovr",
    "SEMILLA": 1860,
    "eval_clasifier": "LogisticRegressionCV(random_state=SEMILLA)",
    "eval_selector": "SelectKBest(score_func=f_classif)",
    "param_distributions": {
     "clasifier__max_iter": [
      10000
     ],
     "clasifier__penalty": [
      "l1"
     ],
     "clasifier__solver": [
      "saga"
     ],
     "selector__k": [
      1000
     ]
    }
   },
   "start_time": "2023-10-30T01:10:02.342737",
   "version": "2.4.0"
  }
 },
 "nbformat": 4,
 "nbformat_minor": 5
}