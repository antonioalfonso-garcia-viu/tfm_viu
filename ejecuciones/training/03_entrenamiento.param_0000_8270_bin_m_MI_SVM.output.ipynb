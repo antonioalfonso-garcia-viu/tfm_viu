{
 "cells": [
  {
   "cell_type": "markdown",
   "id": "238fe678",
   "metadata": {
    "papermill": {
     "duration": 0.005399,
     "end_time": "2023-10-29T19:41:00.629837",
     "exception": false,
     "start_time": "2023-10-29T19:41:00.624438",
     "status": "completed"
    },
    "tags": []
   },
   "source": [
    "##### Inicio"
   ]
  },
  {
   "cell_type": "markdown",
   "id": "b2e635e3",
   "metadata": {
    "papermill": {
     "duration": 0.003358,
     "end_time": "2023-10-29T19:41:00.636871",
     "exception": false,
     "start_time": "2023-10-29T19:41:00.633513",
     "status": "completed"
    },
    "tags": []
   },
   "source": [
    "#### Carga de datos"
   ]
  },
  {
   "cell_type": "code",
   "execution_count": 1,
   "id": "258f9c3b",
   "metadata": {
    "execution": {
     "iopub.execute_input": "2023-10-29T19:41:00.644992Z",
     "iopub.status.busy": "2023-10-29T19:41:00.644393Z",
     "iopub.status.idle": "2023-10-29T19:41:01.759389Z",
     "shell.execute_reply": "2023-10-29T19:41:01.758778Z"
    },
    "papermill": {
     "duration": 1.120725,
     "end_time": "2023-10-29T19:41:01.760916",
     "exception": false,
     "start_time": "2023-10-29T19:41:00.640191",
     "status": "completed"
    },
    "tags": []
   },
   "outputs": [
    {
     "name": "stdout",
     "output_type": "stream",
     "text": [
      "CPU_COUNT: 16; NODE: enderlab; sys.version: 3.10.11 (main, May 16 2023, 00:28:57) [GCC 11.2.0]\n",
      "LOKY_MAX_CPU_COUNT is not set.\n",
      "OMP_NUM_THREADS is not set.\n"
     ]
    }
   ],
   "source": [
    "import os\n",
    "import numpy as np\n",
    "import pandas as pd\n",
    "import datetime\n",
    "import sklearn\n",
    "import logging\n",
    "import warnings\n",
    "\n",
    "from sklearn.pipeline import Pipeline\n",
    "from sklearn.model_selection import RandomizedSearchCV, KFold, cross_val_score, train_test_split\n",
    "from sklearn.metrics import accuracy_score, confusion_matrix, classification_report, roc_auc_score\n",
    "\n",
    "#  cargar algoritmos para aprendizaje supervisado\n",
    "from sklearn.feature_selection import SelectKBest, f_classif, SelectFromModel, mutual_info_classif\n",
    "from sklearn.svm import SVC\n",
    "from sklearn.ensemble import RandomForestClassifier\n",
    "from sklearn.linear_model import LogisticRegression,LogisticRegressionCV\n",
    "\n",
    "# importar fichero con utilidades propias\n",
    "from commons import myfunctions as myfunc\n"
   ]
  },
  {
   "cell_type": "markdown",
   "id": "92e9c4b4",
   "metadata": {
    "papermill": {
     "duration": 0.003578,
     "end_time": "2023-10-29T19:41:01.768501",
     "exception": false,
     "start_time": "2023-10-29T19:41:01.764923",
     "status": "completed"
    },
    "tags": []
   },
   "source": [
    "#### Parámetros a utilizar en el entrenamiento.\n",
    "\n",
    "Se indican los 3 algoritmos de *selección de características* (eval_selector_xxx) y los 3 algoritmos para la _clasificación_ (eval_clasifier_xxx)\n",
    "\n",
    "En *param_distributions* se indicar los parámetros que utilizan los algoritmos en la función RandomSearchCV.\n",
    "\n",
    "Esta celda tiene la etiqueta **parameters** que servirá para poder lanzar los entrenamientos con la utilidad **papermill** pasándole un fichero con los parámetros. Los nuevos parámetros se situarán tras esta celda para tener prevalencia."
   ]
  },
  {
   "cell_type": "code",
   "execution_count": 2,
   "id": "7eb8f41f",
   "metadata": {
    "execution": {
     "iopub.execute_input": "2023-10-29T19:41:01.776640Z",
     "iopub.status.busy": "2023-10-29T19:41:01.776326Z",
     "iopub.status.idle": "2023-10-29T19:41:01.784783Z",
     "shell.execute_reply": "2023-10-29T19:41:01.784246Z"
    },
    "papermill": {
     "duration": 0.014048,
     "end_time": "2023-10-29T19:41:01.786017",
     "exception": false,
     "start_time": "2023-10-29T19:41:01.771969",
     "status": "completed"
    },
    "tags": [
     "parameters"
    ]
   },
   "outputs": [
    {
     "name": "stdout",
     "output_type": "stream",
     "text": [
      "20231029T204101 : enderlab : INFO : Utilizando parámetros de mul_m\n"
     ]
    }
   ],
   "source": [
    "#  Parametros para el entrenamiento\n",
    "\n",
    "SEMILLA=        42\n",
    "M_TIPO=         \"mul_m\"\n",
    "M_SELECT=       \"MI\"\n",
    "M_CLASIF=       \"SVM\"\n",
    "R_FICHERO=      \"resultados\"\n",
    "M_FICHERO=      \"metricas\"\n",
    "PRE_DATA_FILE=  \"rows_transpose_norm_by_gene_id_with_target_num_\"\n",
    "SCORING=        \"roc_auc_ovr\" \n",
    "MAX_ITERS=      100\n",
    "\n",
    "def mutual_info_classif_state(X, y):\n",
    "    return mutual_info_classif(X, y, random_state=SEMILLA)\n",
    "\n",
    "eval_selector_mi = \"SelectKBest(score_func=mutual_info_classif_state)\"\n",
    "eval_selector_rf=  \"SelectFromModel(estimator=RandomForestClassifier(random_state=SEMILLA), threshold=-np.inf)\"\n",
    "eval_selector_anova=  \"SelectKBest(score_func=f_classif)\"\n",
    "\n",
    "eval_clasifier_svm= \"SVC(probability=True, random_state=SEMILLA)\"\n",
    "eval_clasifier_rf= \"RandomForestClassifier(random_state=SEMILLA)\"\n",
    "eval_clasifier_lr= \"LogisticRegressionCV(random_state=SEMILLA)\"\n",
    "\n",
    "if M_TIPO.startswith(\"bin_m\"):\n",
    "    myfunc.verbose(f\"Utilizando parámetros de {M_TIPO}\")\n",
    "    eval_selector = eval_selector_mi\n",
    "    eval_clasifier = eval_clasifier_svm\n",
    "\n",
    "    SEMILLA = 6578\n",
    "    M_SELECT = \"MI\"\n",
    "    M_CLASIF = \"SVM\"\n",
    "    param_distributions = {'selector__k': [1000], \n",
    "         'clasifier__kernel': ['rbf'], 'clasifier__gamma': [0.01], 'clasifier__C': [100]}\n",
    "elif M_TIPO.startswith(\"bin_s\"):\n",
    "    myfunc.verbose(f\"Utilizando parámetros de {M_TIPO}\")\n",
    "    eval_selector = eval_selector_rf\n",
    "    eval_clasifier = eval_clasifier_lr\n",
    "\n",
    "    SEMILLA = 6191\n",
    "    M_SELECT = \"RF\"\n",
    "    M_CLASIF = \"LR_L2\"\n",
    "    param_distributions = {'selector__max_features': [1000], 'selector__estimator__n_estimators': [200], \n",
    "        'clasifier__solver': ['lbfgs'], 'clasifier__penalty': ['l2'], 'clasifier__max_iter': [10000]}\n",
    "\n",
    "elif M_TIPO.startswith(\"mul_m\"):\n",
    "    myfunc.verbose(f\"Utilizando parámetros de {M_TIPO}\")\n",
    " \n",
    "    eval_selector = eval_selector_rf\n",
    "    eval_clasifier = eval_clasifier_lr\n",
    "\n",
    "    SEMILLA = 6191\n",
    "    M_SELECT = \"RF\"\n",
    "    M_CLASIF = \"LR_L2\"\n",
    "    param_distributions = {'selector__max_features': [1000], 'selector__estimator__n_estimators': [400], \n",
    "        'clasifier__solver': ['lbfgs'], 'clasifier__penalty': ['l2'], 'clasifier__max_iter': [10000]}\n",
    "\n",
    "else:\n",
    "    # M_TIPO.startswith(\"mul_s\"):\n",
    "    myfunc.verbose(f\"Utilizando parámetros de {M_TIPO}\")\n",
    "    eval_selector = eval_selector_anova\n",
    "    eval_clasifier = eval_clasifier_lr\n",
    "\n",
    "    SEMILLA = 1860\n",
    "    M_SELECT = \"ANOVA\"\n",
    "    M_CLASIF = \"LR_L2\"\n",
    "    param_distributions = {'selector__k': [1000], \n",
    "        'clasifier__solver': ['saga'], 'clasifier__penalty': ['l2'], 'clasifier__max_iter': [10000]}\n",
    "\n"
   ]
  },
  {
   "cell_type": "code",
   "execution_count": 3,
   "id": "653dad04",
   "metadata": {
    "execution": {
     "iopub.execute_input": "2023-10-29T19:41:01.794526Z",
     "iopub.status.busy": "2023-10-29T19:41:01.794117Z",
     "iopub.status.idle": "2023-10-29T19:41:01.797976Z",
     "shell.execute_reply": "2023-10-29T19:41:01.797457Z"
    },
    "papermill": {
     "duration": 0.009571,
     "end_time": "2023-10-29T19:41:01.799125",
     "exception": false,
     "start_time": "2023-10-29T19:41:01.789554",
     "status": "completed"
    },
    "tags": [
     "injected-parameters"
    ]
   },
   "outputs": [],
   "source": [
    "# Parameters\n",
    "M_TIPO = \"bin_m\"\n",
    "M_SELECT = \"MI\"\n",
    "M_CLASIF = \"SVM\"\n",
    "P_FICHERO = \"param_0000_8270_bin_m_MI_SVM.yaml\"\n",
    "R_FICHERO = \"resultados_8270\"\n",
    "M_FICHERO = \"metricas_8270\"\n",
    "PRE_DATA_FILE = \"rows_transpose_norm_by_gene_id_with_target_num_\"\n",
    "SCORING = \"roc_auc_ovr\"\n",
    "SEMILLA = 8270\n",
    "MAX_ITERS = 500\n",
    "eval_selector = \"SelectKBest(score_func=mutual_info_classif_state)\"\n",
    "eval_clasifier = \"SVC(probability=True, random_state=SEMILLA)\"\n",
    "param_distributions = {\n",
    "    \"selector__k\": [1000],\n",
    "    \"clasifier__kernel\": [\"rbf\"],\n",
    "    \"clasifier__gamma\": [0.01],\n",
    "    \"clasifier__C\": [100],\n",
    "}\n"
   ]
  },
  {
   "cell_type": "code",
   "execution_count": 4,
   "id": "12901f0f",
   "metadata": {
    "execution": {
     "iopub.execute_input": "2023-10-29T19:41:01.807365Z",
     "iopub.status.busy": "2023-10-29T19:41:01.806946Z",
     "iopub.status.idle": "2023-10-29T19:41:01.810197Z",
     "shell.execute_reply": "2023-10-29T19:41:01.809680Z"
    },
    "papermill": {
     "duration": 0.008833,
     "end_time": "2023-10-29T19:41:01.811403",
     "exception": false,
     "start_time": "2023-10-29T19:41:01.802570",
     "status": "completed"
    },
    "tags": []
   },
   "outputs": [],
   "source": [
    "DATA_FILE = PRE_DATA_FILE + M_TIPO\n",
    "\n",
    "# si viene \"None\" en el parámetro max_depth, se le quitan las comillas para que no sea entendido por el algoritmo como un texto\n",
    "if \"clasifier__max_depth\" in param_distributions:\n",
    "    param_distributions['clasifier__max_depth'] = [None if x == 'None' else x for x in param_distributions['clasifier__max_depth']]"
   ]
  },
  {
   "cell_type": "markdown",
   "id": "71c99094",
   "metadata": {
    "papermill": {
     "duration": 0.003531,
     "end_time": "2023-10-29T19:41:01.818522",
     "exception": false,
     "start_time": "2023-10-29T19:41:01.814991",
     "status": "completed"
    },
    "tags": []
   },
   "source": [
    "Asignar los algoritmos que se utilizarán en la función RandomSearchCV"
   ]
  },
  {
   "cell_type": "code",
   "execution_count": 5,
   "id": "09ec90f1",
   "metadata": {
    "execution": {
     "iopub.execute_input": "2023-10-29T19:41:01.826832Z",
     "iopub.status.busy": "2023-10-29T19:41:01.826361Z",
     "iopub.status.idle": "2023-10-29T19:41:01.829280Z",
     "shell.execute_reply": "2023-10-29T19:41:01.828753Z"
    },
    "papermill": {
     "duration": 0.008341,
     "end_time": "2023-10-29T19:41:01.830502",
     "exception": false,
     "start_time": "2023-10-29T19:41:01.822161",
     "status": "completed"
    },
    "tags": []
   },
   "outputs": [],
   "source": [
    "algor_selector=eval(eval_selector)\n",
    "algor_clasifier=eval(eval_clasifier)"
   ]
  },
  {
   "cell_type": "markdown",
   "id": "783531f0",
   "metadata": {
    "papermill": {
     "duration": 0.0038,
     "end_time": "2023-10-29T19:41:01.837869",
     "exception": false,
     "start_time": "2023-10-29T19:41:01.834069",
     "status": "completed"
    },
    "tags": []
   },
   "source": [
    "#### Comprobar el entorno y leer fichero de muestras"
   ]
  },
  {
   "cell_type": "code",
   "execution_count": 6,
   "id": "0154541a",
   "metadata": {
    "execution": {
     "iopub.execute_input": "2023-10-29T19:41:01.846288Z",
     "iopub.status.busy": "2023-10-29T19:41:01.845879Z",
     "iopub.status.idle": "2023-10-29T19:41:02.165786Z",
     "shell.execute_reply": "2023-10-29T19:41:02.165143Z"
    },
    "papermill": {
     "duration": 0.325788,
     "end_time": "2023-10-29T19:41:02.167249",
     "exception": false,
     "start_time": "2023-10-29T19:41:01.841461",
     "status": "completed"
    },
    "tags": []
   },
   "outputs": [
    {
     "name": "stdout",
     "output_type": "stream",
     "text": [
      "20231029T204101 : enderlab : INFO : Encontrada carpeta DATA_DIR=../tfm_git/datos\n",
      "20231029T204101 : enderlab : INFO : Encontrada carpeta CFDNA_DIR=../tfm_git/datos/cfDNA_5hmC\n",
      "20231029T204101 : enderlab : INFO : Encontrada carpeta GENCODE_DIR=../tfm_git/datos/gencode\n",
      "20231029T204101 : enderlab : INFO : Encontrada carpeta H5_DIR=../tfm_git/datos/h5\n",
      "20231029T204101 : enderlab : INFO : Encontrada carpeta LOG_DIR=../tfm_git/datos/logs\n",
      "20231029T204101 : enderlab : INFO : Encontrada carpeta CSV_DIR=../tfm_git/datos/csv\n",
      "20231029T204101 : enderlab : INFO : Encontrada carpeta MODEL_DIR=../tfm_git/ejecuciones/modelos\n",
      "20231029T204101 : enderlab : INFO : Encontrada carpeta EXEC_DIR=../tfm_git/ejecuciones\n",
      "20231029T204101 : enderlab : INFO : Encontrada carpeta MET_DIR=../tfm_git/ejecuciones/metricas\n",
      "20231029T204101 : enderlab : INFO : Inicio leer fichero h5 ../tfm_git/datos/h5/rows_transpose_norm_by_gene_id_with_target_num_bin_m.h5\n",
      "20231029T204101 : enderlab : INFO : Leyendo clave /df\n"
     ]
    },
    {
     "name": "stdout",
     "output_type": "stream",
     "text": [
      "20231029T204102 : enderlab : INFO : Tamaño (720, 18876)\n",
      "20231029T204102 : enderlab : INFO : Fin leer fichero h5 ../tfm_git/datos/h5/rows_transpose_norm_by_gene_id_with_target_num_bin_m.h5\n"
     ]
    },
    {
     "data": {
      "text/plain": [
       "target\n",
       "0    360\n",
       "1    360\n",
       "dtype: int64"
      ]
     },
     "metadata": {},
     "output_type": "display_data"
    },
    {
     "name": "stdout",
     "output_type": "stream",
     "text": [
      "Shape df: (720, 18876)\n",
      "Shape X_train: (576, 18875)\n",
      "Shape X_test: (144, 18875)\n"
     ]
    }
   ],
   "source": [
    "start_time = datetime.datetime.now()\n",
    "\n",
    "myfunc.reset_vars()\n",
    "\n",
    "myfunc.NOTEBK_FILENAME = myfunc.get_nb_name()\n",
    "\n",
    "myfunc.check_enviroment(myfunc.DATA_DIR, myfunc.CFDNA_DIR, myfunc.GENCODE_DIR, myfunc.H5_DIR, myfunc.LOG_DIR, myfunc.CSV_DIR, myfunc.MODEL_DIR, myfunc.EXEC_DIR, myfunc.MET_DIR)\n",
    "\n",
    "# Leer fichero con las muestras\n",
    "df_t = myfunc.read_h5_to_df(DATA_FILE, myfunc.H5_DIR)\n",
    "display(df_t.groupby(\"target\").size())\n",
    "print(\"Shape df:\",df_t.shape)\n",
    "\n",
    "# Separar caracteristicas/genes de las etiquetas/tipos de cáncer\n",
    "X = df_t.iloc[:, :-1]  # Todas las columnas excepto la última\n",
    "y = df_t.iloc[:, -1]  # La última columna contiene los identificadores de los tipos de cáncer\n",
    "\n",
    "#  Crear el conjunto de datos de entrenamiento y de pruebas, y se fija la semilla para siempre coger el mismo juego de muestras\n",
    "X_train, X_test, y_train, y_test = train_test_split(X, y, test_size=0.2, shuffle=True, random_state=42)\n",
    "print(\"Shape X_train:\",X_train.shape)\n",
    "print(\"Shape X_test:\",X_test.shape)\n"
   ]
  },
  {
   "cell_type": "markdown",
   "id": "aef8a2b9",
   "metadata": {
    "papermill": {
     "duration": 0.004122,
     "end_time": "2023-10-29T19:41:02.176255",
     "exception": false,
     "start_time": "2023-10-29T19:41:02.172133",
     "status": "completed"
    },
    "tags": []
   },
   "source": [
    "#### Selección de características y clasificación."
   ]
  },
  {
   "cell_type": "code",
   "execution_count": 7,
   "id": "4c024d38",
   "metadata": {
    "execution": {
     "iopub.execute_input": "2023-10-29T19:41:02.185704Z",
     "iopub.status.busy": "2023-10-29T19:41:02.185215Z",
     "iopub.status.idle": "2023-10-29T19:43:04.236092Z",
     "shell.execute_reply": "2023-10-29T19:43:04.235178Z"
    },
    "papermill": {
     "duration": 122.061261,
     "end_time": "2023-10-29T19:43:04.241489",
     "exception": false,
     "start_time": "2023-10-29T19:41:02.180228",
     "status": "completed"
    },
    "tags": []
   },
   "outputs": [
    {
     "name": "stdout",
     "output_type": "stream",
     "text": [
      "20231029T204102 : enderlab : INFO : Iniciando entrenamiento\n",
      "num_iter: 1 , max_iter: 1\n",
      "Fitting 5 folds for each of 1 candidates, totalling 5 fits\n"
     ]
    },
    {
     "name": "stdout",
     "output_type": "stream",
     "text": [
      "Mejores Hiperparámetros: {'selector__k': 1000, 'clasifier__kernel': 'rbf', 'clasifier__gamma': 0.01, 'clasifier__C': 100}\n",
      "Mejor Puntuación: 0.8827\n",
      "20231029T204304 : enderlab : INFO : Fin entrenamiento\n"
     ]
    }
   ],
   "source": [
    "myfunc.verbose(\"Iniciando entrenamiento\")\n",
    "\n",
    "kf = KFold(n_splits=5, shuffle=True, random_state=SEMILLA)\n",
    "\n",
    "# Crear el pipeline para el flujo de tareas\n",
    "tasks_pipeline = Pipeline([\n",
    "    ('selector', algor_selector),\n",
    "    ('clasifier', algor_clasifier)\n",
    "])\n",
    "\n",
    "# MAX_ITERS puede limitar el número de iteraciones si son excesivas para las combinaciones de parámetros buscando un óptimo local, \n",
    "# sino funcionaría como GridSearchCV al revisar todas las cominaciones de los parámetros\n",
    "num_iteraciones = 1\n",
    "num_iteraciones = num_iteraciones * np.prod([len(elemento1) for _, elemento1 in param_distributions.items()])\n",
    "max_iteraciones = num_iteraciones if num_iteraciones <= MAX_ITERS else MAX_ITERS\n",
    "print(\"num_iter:\",num_iteraciones,\", max_iter:\",max_iteraciones)\n",
    "\n",
    "random_search = RandomizedSearchCV(\n",
    "    tasks_pipeline, \n",
    "    param_distributions, \n",
    "    n_iter=max_iteraciones,\n",
    "    scoring=SCORING,\n",
    "    cv=kf,\n",
    "    verbose=3, \n",
    "    random_state=SEMILLA, \n",
    "    n_jobs=-1\n",
    "    )\n",
    "\n",
    "# Entrenar el modelo\n",
    "random_search.fit(X_train, y_train)\n",
    "\n",
    "# Ver los mejores hiperparámetros encontrados\n",
    "print(f'Mejores Hiperparámetros: {random_search.best_params_}')\n",
    "print(f'Mejor Puntuación: {random_search.best_score_:.4f}')\n",
    "\n",
    "# Nos quedamos con el mejor modelo para ver las métricas\n",
    "mejor_modelo = random_search.best_estimator_\n",
    "\n",
    "myfunc.verbose(\"Fin entrenamiento\")"
   ]
  },
  {
   "cell_type": "markdown",
   "id": "f233fe14",
   "metadata": {
    "papermill": {
     "duration": 0.003902,
     "end_time": "2023-10-29T19:43:04.249537",
     "exception": false,
     "start_time": "2023-10-29T19:43:04.245635",
     "status": "completed"
    },
    "tags": []
   },
   "source": [
    "#### Guardar modelo"
   ]
  },
  {
   "cell_type": "code",
   "execution_count": 8,
   "id": "ad9a2de0",
   "metadata": {
    "execution": {
     "iopub.execute_input": "2023-10-29T19:43:04.258883Z",
     "iopub.status.busy": "2023-10-29T19:43:04.258520Z",
     "iopub.status.idle": "2023-10-29T19:43:04.270630Z",
     "shell.execute_reply": "2023-10-29T19:43:04.269993Z"
    },
    "papermill": {
     "duration": 0.018557,
     "end_time": "2023-10-29T19:43:04.271953",
     "exception": false,
     "start_time": "2023-10-29T19:43:04.253396",
     "status": "completed"
    },
    "tags": []
   },
   "outputs": [
    {
     "name": "stdout",
     "output_type": "stream",
     "text": [
      "20231029T204304 : enderlab : INFO : Inicio guardar fichero ../tfm_git/ejecuciones/modelos/modelo_8270_bin_m_MI_SVM.pkl\n",
      "20231029T204304 : enderlab : INFO : Fin guardar fichero ../tfm_git/ejecuciones/modelos/modelo_8270_bin_m_MI_SVM.pkl\n"
     ]
    }
   ],
   "source": [
    "fichero_modelo = str.replace(\"modelo_\"+str(SEMILLA).zfill(4)+\"_\"+M_TIPO+\"_\"+M_SELECT+\"_\"+M_CLASIF+\".pkl\", \" \", \"_\")\n",
    "\n",
    "myfunc.save_modelo(mejor_modelo, myfunc.MODEL_DIR, fichero_modelo)"
   ]
  },
  {
   "cell_type": "markdown",
   "id": "fc9d4873",
   "metadata": {
    "papermill": {
     "duration": 0.004189,
     "end_time": "2023-10-29T19:43:04.280455",
     "exception": false,
     "start_time": "2023-10-29T19:43:04.276266",
     "status": "completed"
    },
    "tags": []
   },
   "source": [
    "#### Ver resultados del las iteraciones hechas por RandomSearchCV"
   ]
  },
  {
   "cell_type": "code",
   "execution_count": 9,
   "id": "ae6f5002",
   "metadata": {
    "execution": {
     "iopub.execute_input": "2023-10-29T19:43:04.292035Z",
     "iopub.status.busy": "2023-10-29T19:43:04.291382Z",
     "iopub.status.idle": "2023-10-29T19:43:04.300228Z",
     "shell.execute_reply": "2023-10-29T19:43:04.299594Z"
    },
    "papermill": {
     "duration": 0.015842,
     "end_time": "2023-10-29T19:43:04.301580",
     "exception": false,
     "start_time": "2023-10-29T19:43:04.285738",
     "status": "completed"
    },
    "tags": []
   },
   "outputs": [
    {
     "name": "stdout",
     "output_type": "stream",
     "text": [
      "20231029T204304 : enderlab : INFO : Inicio ver resultados\n",
      "Mejores Hiperparámetros: {'selector__k': 1000, 'clasifier__kernel': 'rbf', 'clasifier__gamma': 0.01, 'clasifier__C': 100}\n",
      "Mejores puntuaciones: 0.8827 | Params: {'selector__k': 1000, 'clasifier__kernel': 'rbf', 'clasifier__gamma': 0.01, 'clasifier__C': 100}\n",
      "Media de las puntuaciones: 0.8827 | Params: {'selector__k': 1000, 'clasifier__kernel': 'rbf', 'clasifier__gamma': 0.01, 'clasifier__C': 100}\n",
      "20231029T204304 : enderlab : INFO : Fin resultados\n"
     ]
    }
   ],
   "source": [
    "myfunc.ver_resultados_search(random_search)"
   ]
  },
  {
   "cell_type": "markdown",
   "id": "8be887f6",
   "metadata": {
    "papermill": {
     "duration": 0.004245,
     "end_time": "2023-10-29T19:43:04.310238",
     "exception": false,
     "start_time": "2023-10-29T19:43:04.305993",
     "status": "completed"
    },
    "tags": []
   },
   "source": [
    "#### Ver métricas del mejor modelo"
   ]
  },
  {
   "cell_type": "code",
   "execution_count": 10,
   "id": "661eea4f",
   "metadata": {
    "execution": {
     "iopub.execute_input": "2023-10-29T19:43:04.319890Z",
     "iopub.status.busy": "2023-10-29T19:43:04.319279Z",
     "iopub.status.idle": "2023-10-29T19:43:04.929973Z",
     "shell.execute_reply": "2023-10-29T19:43:04.929362Z"
    },
    "papermill": {
     "duration": 0.617087,
     "end_time": "2023-10-29T19:43:04.931420",
     "exception": false,
     "start_time": "2023-10-29T19:43:04.314333",
     "status": "completed"
    },
    "tags": []
   },
   "outputs": [
    {
     "name": "stdout",
     "output_type": "stream",
     "text": [
      "20231029T204304 : enderlab : INFO : Inicio ver métricas\n"
     ]
    },
    {
     "name": "stdout",
     "output_type": "stream",
     "text": [
      "              precision    recall  f1-score   support\n",
      "\n",
      "           0       0.87      0.83      0.85        82\n",
      "           1       0.79      0.84      0.81        62\n",
      "\n",
      "    accuracy                           0.83       144\n",
      "   macro avg       0.83      0.83      0.83       144\n",
      "weighted avg       0.84      0.83      0.83       144\n",
      "\n",
      "\n",
      "\n",
      "   Exactitud: 0.8333\n",
      "   Precisión: 0.8298\n",
      "Sensibilidad: 0.8340\n",
      "    F1-score: 0.8313\n",
      "     AUC ROC: 0.9270\n"
     ]
    },
    {
     "data": {
      "image/png": "[encoded data removed]",
      "text/plain": [
       "<Figure size 300x100 with 2 Axes>"
      ]
     },
     "metadata": {},
     "output_type": "display_data"
    },
    {
     "data": {
      "image/png": "[encoded data removed]",
      "text/plain": [
       "<Figure size 800x500 with 1 Axes>"
      ]
     },
     "metadata": {},
     "output_type": "display_data"
    },
    {
     "name": "stdout",
     "output_type": "stream",
     "text": [
      "20231029T204304 : enderlab : INFO : Fin ver métricas\n"
     ]
    }
   ],
   "source": [
    "if M_TIPO.startswith(\"bin\"):\n",
    "    myfunc.ver_metricas(mejor_modelo, X_test, y_test)\n",
    "else:\n",
    "    myfunc.ver_metricas_multi(mejor_modelo, X_test, y_test)\n"
   ]
  },
  {
   "cell_type": "markdown",
   "id": "08adc865",
   "metadata": {
    "papermill": {
     "duration": 0.005048,
     "end_time": "2023-10-29T19:43:04.942122",
     "exception": false,
     "start_time": "2023-10-29T19:43:04.937074",
     "status": "completed"
    },
    "tags": []
   },
   "source": [
    "#### Finalización del notebook"
   ]
  },
  {
   "cell_type": "code",
   "execution_count": 11,
   "id": "1d00a63e",
   "metadata": {
    "execution": {
     "iopub.execute_input": "2023-10-29T19:43:04.953511Z",
     "iopub.status.busy": "2023-10-29T19:43:04.952821Z",
     "iopub.status.idle": "2023-10-29T19:43:04.956546Z",
     "shell.execute_reply": "2023-10-29T19:43:04.956076Z"
    },
    "papermill": {
     "duration": 0.010574,
     "end_time": "2023-10-29T19:43:04.957726",
     "exception": false,
     "start_time": "2023-10-29T19:43:04.947152",
     "status": "completed"
    },
    "tags": []
   },
   "outputs": [
    {
     "name": "stdout",
     "output_type": "stream",
     "text": [
      "20231029T204304 : enderlab : INFO : Notebook ha tardado 123 seconds\n"
     ]
    }
   ],
   "source": [
    "end_time = datetime.datetime.now()\n",
    "total_time = end_time - start_time\n",
    "myfunc.verbose(f\"Notebook ha tardado {total_time.seconds} seconds\")"
   ]
  },
  {
   "cell_type": "markdown",
   "id": "633cb183",
   "metadata": {
    "papermill": {
     "duration": 0.004887,
     "end_time": "2023-10-29T19:43:04.967566",
     "exception": false,
     "start_time": "2023-10-29T19:43:04.962679",
     "status": "completed"
    },
    "tags": []
   },
   "source": [
    "#### Guardar métricas"
   ]
  },
  {
   "cell_type": "code",
   "execution_count": 12,
   "id": "d07a8eb4",
   "metadata": {
    "execution": {
     "iopub.execute_input": "2023-10-29T19:43:04.978839Z",
     "iopub.status.busy": "2023-10-29T19:43:04.978331Z",
     "iopub.status.idle": "2023-10-29T19:43:05.298596Z",
     "shell.execute_reply": "2023-10-29T19:43:05.298010Z"
    },
    "papermill": {
     "duration": 0.327479,
     "end_time": "2023-10-29T19:43:05.299937",
     "exception": false,
     "start_time": "2023-10-29T19:43:04.972458",
     "status": "completed"
    },
    "tags": []
   },
   "outputs": [
    {
     "name": "stdout",
     "output_type": "stream",
     "text": [
      "20231029T204304 : enderlab : INFO : Inicio guardar métricas\n",
      "20231029T204304 : enderlab : INFO : Inicio leer fichero ../tfm_git/ejecuciones/metricas/metricas_8270.csv\n",
      "20231029T204304 : enderlab : INFO : Fin leer fichero ../tfm_git/ejecuciones/metricas/metricas_8270.csv\n"
     ]
    },
    {
     "name": "stdout",
     "output_type": "stream",
     "text": [
      "20231029T204305 : enderlab : INFO : Inicio guardar fichero ../tfm_git/ejecuciones/metricas/metricas_8270.csv\n",
      "20231029T204305 : enderlab : INFO : Fichero borrado ../tfm_git/ejecuciones/metricas/metricas_8270.csv\n",
      "20231029T204305 : enderlab : INFO : Fin guardar fichero ../tfm_git/ejecuciones/metricas/metricas_8270.csv\n",
      "20231029T204305 : enderlab : INFO : Fin guardar métricas\n",
      "20231029T204305 : enderlab : INFO : Inicio leer fichero ../tfm_git/ejecuciones/metricas/metricas_8270.csv\n",
      "20231029T204305 : enderlab : INFO : Fin leer fichero ../tfm_git/ejecuciones/metricas/metricas_8270.csv\n"
     ]
    },
    {
     "data": {
      "text/html": [
       "<div>\n",
       "<style scoped>\n",
       "    .dataframe tbody tr th:only-of-type {\n",
       "        vertical-align: middle;\n",
       "    }\n",
       "\n",
       "    .dataframe tbody tr th {\n",
       "        vertical-align: top;\n",
       "    }\n",
       "\n",
       "    .dataframe thead th {\n",
       "        text-align: right;\n",
       "    }\n",
       "</style>\n",
       "<table border=\"1\" class=\"dataframe\">\n",
       "  <thead>\n",
       "    <tr style=\"text-align: right;\">\n",
       "      <th></th>\n",
       "      <th>tipo</th>\n",
       "      <th>select</th>\n",
       "      <th>clasific</th>\n",
       "      <th>semilla</th>\n",
       "      <th>accuracy</th>\n",
       "      <th>precision</th>\n",
       "      <th>recall</th>\n",
       "      <th>f1_score</th>\n",
       "      <th>roc_auc</th>\n",
       "      <th>hostname</th>\n",
       "      <th>total_time_sec</th>\n",
       "      <th>datetime</th>\n",
       "      <th>fichero_modelo</th>\n",
       "      <th>params</th>\n",
       "      <th>shape</th>\n",
       "      <th>features</th>\n",
       "    </tr>\n",
       "  </thead>\n",
       "  <tbody>\n",
       "    <tr>\n",
       "      <th>0</th>\n",
       "      <td>bin_m</td>\n",
       "      <td>MI</td>\n",
       "      <td>SVM</td>\n",
       "      <td>8270</td>\n",
       "      <td>0.833333</td>\n",
       "      <td>0.829837</td>\n",
       "      <td>0.833989</td>\n",
       "      <td>0.831250</td>\n",
       "      <td>0.927026</td>\n",
       "      <td>enderlab</td>\n",
       "      <td>123</td>\n",
       "      <td>2023-10-29 20:43:05.263118</td>\n",
       "      <td>modelo_8270_bin_m_MI_SVM.pkl</td>\n",
       "      <td>{'selector__k': 1000, 'clasifier__kernel': 'rb...</td>\n",
       "      <td>X_test:(144, 18875)</td>\n",
       "      <td>['ENSG00000002330.14', 'ENSG00000004864.14', '...</td>\n",
       "    </tr>\n",
       "    <tr>\n",
       "      <th>0</th>\n",
       "      <td>bin_m</td>\n",
       "      <td>MI</td>\n",
       "      <td>RF</td>\n",
       "      <td>8270</td>\n",
       "      <td>0.791667</td>\n",
       "      <td>0.787569</td>\n",
       "      <td>0.787569</td>\n",
       "      <td>0.787569</td>\n",
       "      <td>0.882376</td>\n",
       "      <td>enderlab</td>\n",
       "      <td>277</td>\n",
       "      <td>2023-10-29 20:40:55.103345</td>\n",
       "      <td>modelo_8270_bin_m_MI_RF.pkl</td>\n",
       "      <td>{'selector__k': 1000, 'clasifier__n_estimators...</td>\n",
       "      <td>X_test:(144, 18875)</td>\n",
       "      <td>['ENSG00000002330.14', 'ENSG00000004864.14', '...</td>\n",
       "    </tr>\n",
       "    <tr>\n",
       "      <th>0</th>\n",
       "      <td>bin_m</td>\n",
       "      <td>MI</td>\n",
       "      <td>LR_L2</td>\n",
       "      <td>8270</td>\n",
       "      <td>0.861111</td>\n",
       "      <td>0.859524</td>\n",
       "      <td>0.856412</td>\n",
       "      <td>0.857792</td>\n",
       "      <td>0.910700</td>\n",
       "      <td>enderlab</td>\n",
       "      <td>127</td>\n",
       "      <td>2023-10-29 20:36:10.539829</td>\n",
       "      <td>modelo_8270_bin_m_MI_LR_L2.pkl</td>\n",
       "      <td>{'selector__k': 1000, 'clasifier__solver': 'lb...</td>\n",
       "      <td>X_test:(144, 18875)</td>\n",
       "      <td>['ENSG00000002330.14', 'ENSG00000004864.14', '...</td>\n",
       "    </tr>\n",
       "  </tbody>\n",
       "</table>\n",
       "</div>"
      ],
      "text/plain": [
       "    tipo select clasific  semilla  accuracy  precision    recall  f1_score  \\\n",
       "0  bin_m     MI      SVM     8270  0.833333   0.829837  0.833989  0.831250   \n",
       "0  bin_m     MI       RF     8270  0.791667   0.787569  0.787569  0.787569   \n",
       "0  bin_m     MI    LR_L2     8270  0.861111   0.859524  0.856412  0.857792   \n",
       "\n",
       "    roc_auc  hostname  total_time_sec                    datetime  \\\n",
       "0  0.927026  enderlab             123  2023-10-29 20:43:05.263118   \n",
       "0  0.882376  enderlab             277  2023-10-29 20:40:55.103345   \n",
       "0  0.910700  enderlab             127  2023-10-29 20:36:10.539829   \n",
       "\n",
       "                   fichero_modelo  \\\n",
       "0    modelo_8270_bin_m_MI_SVM.pkl   \n",
       "0     modelo_8270_bin_m_MI_RF.pkl   \n",
       "0  modelo_8270_bin_m_MI_LR_L2.pkl   \n",
       "\n",
       "                                              params                shape  \\\n",
       "0  {'selector__k': 1000, 'clasifier__kernel': 'rb...  X_test:(144, 18875)   \n",
       "0  {'selector__k': 1000, 'clasifier__n_estimators...  X_test:(144, 18875)   \n",
       "0  {'selector__k': 1000, 'clasifier__solver': 'lb...  X_test:(144, 18875)   \n",
       "\n",
       "                                            features  \n",
       "0  ['ENSG00000002330.14', 'ENSG00000004864.14', '...  \n",
       "0  ['ENSG00000002330.14', 'ENSG00000004864.14', '...  \n",
       "0  ['ENSG00000002330.14', 'ENSG00000004864.14', '...  "
      ]
     },
     "metadata": {},
     "output_type": "display_data"
    }
   ],
   "source": [
    "if M_TIPO.startswith(\"bin\"):\n",
    "    myfunc.save_metricas_to_csv(random_search, X_test, y_test, M_TIPO, M_SELECT, M_CLASIF, total_time, SEMILLA, myfunc.MET_DIR, M_FICHERO, fichero_modelo)\n",
    "else:\n",
    "    myfunc.save_metricas_multi_to_csv(random_search, X_test, y_test, M_TIPO, M_SELECT, M_CLASIF, total_time, SEMILLA, myfunc.MET_DIR, M_FICHERO, fichero_modelo)\n",
    "\n",
    "df1=myfunc.read_metricas_to_df(myfunc.MET_DIR,M_FICHERO)\n",
    "\n",
    "display(df1.sort_values(\"datetime\", ascending=False)[:3])\n"
   ]
  },
  {
   "cell_type": "markdown",
   "id": "3d0c2bdc",
   "metadata": {
    "papermill": {
     "duration": 0.005437,
     "end_time": "2023-10-29T19:43:05.311203",
     "exception": false,
     "start_time": "2023-10-29T19:43:05.305766",
     "status": "completed"
    },
    "tags": []
   },
   "source": [
    "#### Guardar resultados"
   ]
  },
  {
   "cell_type": "code",
   "execution_count": 13,
   "id": "f4f9c6c0",
   "metadata": {
    "execution": {
     "iopub.execute_input": "2023-10-29T19:43:05.324252Z",
     "iopub.status.busy": "2023-10-29T19:43:05.323642Z",
     "iopub.status.idle": "2023-10-29T19:43:05.333056Z",
     "shell.execute_reply": "2023-10-29T19:43:05.332483Z"
    },
    "papermill": {
     "duration": 0.018023,
     "end_time": "2023-10-29T19:43:05.334437",
     "exception": false,
     "start_time": "2023-10-29T19:43:05.316414",
     "status": "completed"
    },
    "tags": []
   },
   "outputs": [
    {
     "name": "stdout",
     "output_type": "stream",
     "text": [
      "20231029T204305 : enderlab : INFO : Inicio guardar resultados\n",
      "20231029T204305 : enderlab : INFO : Inicio guardar fichero ../tfm_git/ejecuciones/metricas/resultados_8270_bin_m-MI-SVM.csv\n",
      "20231029T204305 : enderlab : INFO : Fin guardar fichero ../tfm_git/ejecuciones/metricas/resultados_8270_bin_m-MI-SVM.csv\n",
      "20231029T204305 : enderlab : INFO : Fin guardar resultados\n"
     ]
    }
   ],
   "source": [
    "fichero_resultados=R_FICHERO+\"_\"+M_TIPO+\"-\"+M_SELECT+\"-\"+M_CLASIF+\".csv\"\n",
    "myfunc.save_resultados_to_csv(M_TIPO, M_SELECT, M_CLASIF,  random_search, myfunc.MET_DIR, fichero_resultados)\n"
   ]
  }
 ],
 "metadata": {
  "kernelspec": {
   "display_name": "Python 3 (ipykernel)",
   "language": "python",
   "name": "python3"
  },
  "language_info": {
   "codemirror_mode": {
    "name": "ipython",
    "version": 3
   },
   "file_extension": ".py",
   "mimetype": "text/x-python",
   "name": "python",
   "nbconvert_exporter": "python",
   "pygments_lexer": "ipython3",
   "version": "3.10.11"
  },
  "papermill": {
   "default_parameters": {},
   "duration": 128.520759,
   "end_time": "2023-10-29T19:43:07.956585",
   "environment_variables": {},
   "exception": null,
   "input_path": "03_entrenamiento.ipynb",
   "output_path": "ejecuciones/training/03_entrenamiento.20231029T204058.param_0000_8270_bin_m_MI_SVM.output.ipynb",
   "parameters": {
    "MAX_ITERS": 500,
    "M_CLASIF": "SVM",
    "M_FICHERO": "metricas_8270",
    "M_SELECT": "MI",
    "M_TIPO": "bin_m",
    "PRE_DATA_FILE": "rows_transpose_norm_by_gene_id_with_target_num_",
    "P_FICHERO": "param_0000_8270_bin_m_MI_SVM.yaml",
    "R_FICHERO": "resultados_8270",
    "SCORING": "roc_auc_ovr",
    "SEMILLA": 8270,
    "eval_clasifier": "SVC(probability=True, random_state=SEMILLA)",
    "eval_selector": "SelectKBest(score_func=mutual_info_classif_state)",
    "param_distributions": {
     "clasifier__C": [
      100
     ],
     "clasifier__gamma": [
      0.01
     ],
     "clasifier__kernel": [
      "rbf"
     ],
     "selector__k": [
      1000
     ]
    }
   },
   "start_time": "2023-10-29T19:40:59.435826",
   "version": "2.4.0"
  }
 },
 "nbformat": 4,
 "nbformat_minor": 5
}