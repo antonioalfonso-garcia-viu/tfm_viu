{
 "cells": [
  {
   "cell_type": "markdown",
   "id": "c7180119",
   "metadata": {
    "papermill": {
     "duration": 0.008702,
     "end_time": "2023-10-30T17:13:26.894146",
     "exception": false,
     "start_time": "2023-10-30T17:13:26.885444",
     "status": "completed"
    },
    "tags": []
   },
   "source": [
    "##### Inicio"
   ]
  },
  {
   "cell_type": "markdown",
   "id": "78ded8ae",
   "metadata": {
    "papermill": {
     "duration": 0.003363,
     "end_time": "2023-10-30T17:13:26.902880",
     "exception": false,
     "start_time": "2023-10-30T17:13:26.899517",
     "status": "completed"
    },
    "tags": []
   },
   "source": [
    "#### Carga de datos"
   ]
  },
  {
   "cell_type": "code",
   "execution_count": 1,
   "id": "d9977dd7",
   "metadata": {
    "execution": {
     "iopub.execute_input": "2023-10-30T17:13:26.916282Z",
     "iopub.status.busy": "2023-10-30T17:13:26.915279Z",
     "iopub.status.idle": "2023-10-30T17:13:28.101735Z",
     "shell.execute_reply": "2023-10-30T17:13:28.101735Z"
    },
    "papermill": {
     "duration": 1.193847,
     "end_time": "2023-10-30T17:13:28.102727",
     "exception": false,
     "start_time": "2023-10-30T17:13:26.908880",
     "status": "completed"
    },
    "tags": []
   },
   "outputs": [
    {
     "name": "stdout",
     "output_type": "stream",
     "text": [
      "CPU_COUNT: 24; NODE: amilcar32; sys.version: 3.10.12 | packaged by Anaconda, Inc. | (main, Jul  5 2023, 19:09:20) [MSC v.1916 64 bit (AMD64)]\n",
      "LOKY_MAX_CPU_COUNT is not set.\n",
      "OMP_NUM_THREADS is not set.\n"
     ]
    }
   ],
   "source": [
    "import os\n",
    "import numpy as np\n",
    "import pandas as pd\n",
    "import datetime\n",
    "import sklearn\n",
    "import logging\n",
    "import warnings\n",
    "\n",
    "from sklearn.pipeline import Pipeline\n",
    "from sklearn.model_selection import RandomizedSearchCV, KFold, cross_val_score, train_test_split\n",
    "from sklearn.metrics import accuracy_score, confusion_matrix, classification_report, roc_auc_score\n",
    "\n",
    "#  cargar algoritmos para aprendizaje supervisado\n",
    "from sklearn.feature_selection import SelectKBest, f_classif, SelectFromModel, mutual_info_classif\n",
    "from sklearn.svm import SVC\n",
    "from sklearn.ensemble import RandomForestClassifier\n",
    "from sklearn.linear_model import LogisticRegression,LogisticRegressionCV\n",
    "\n",
    "# importar fichero con utilidades propias\n",
    "from commons import myfunctions as myfunc\n"
   ]
  },
  {
   "cell_type": "markdown",
   "id": "c8838f8f",
   "metadata": {
    "papermill": {
     "duration": 0.002992,
     "end_time": "2023-10-30T17:13:28.108726",
     "exception": false,
     "start_time": "2023-10-30T17:13:28.105734",
     "status": "completed"
    },
    "tags": []
   },
   "source": [
    "#### Parámetros a utilizar en el entrenamiento.\n",
    "\n",
    "Se indican los 3 algoritmos de *selección de características* (eval_selector_xxx) y los 3 algoritmos para la _clasificación_ (eval_clasifier_xxx)\n",
    "\n",
    "En *param_distributions* se indicar los parámetros que utilizan los algoritmos en la función RandomSearchCV.\n",
    "\n",
    "Esta celda tiene la etiqueta **parameters** que servirá para poder lanzar los entrenamientos con la utilidad **papermill** pasándole un fichero con los parámetros. Los nuevos parámetros se situarán tras esta celda para tener prevalencia."
   ]
  },
  {
   "cell_type": "code",
   "execution_count": 2,
   "id": "2a39c286",
   "metadata": {
    "execution": {
     "iopub.execute_input": "2023-10-30T17:13:28.115301Z",
     "iopub.status.busy": "2023-10-30T17:13:28.115301Z",
     "iopub.status.idle": "2023-10-30T17:13:28.133209Z",
     "shell.execute_reply": "2023-10-30T17:13:28.133209Z"
    },
    "papermill": {
     "duration": 0.023969,
     "end_time": "2023-10-30T17:13:28.135209",
     "exception": false,
     "start_time": "2023-10-30T17:13:28.111240",
     "status": "completed"
    },
    "tags": [
     "parameters"
    ]
   },
   "outputs": [
    {
     "name": "stdout",
     "output_type": "stream",
     "text": [
      "20231030T181328 : amilcar32 : INFO : Utilizando parámetros de mul_m\n"
     ]
    }
   ],
   "source": [
    "#  Parametros para el entrenamiento\n",
    "\n",
    "SEMILLA=        42\n",
    "M_TIPO=         \"mul_m\"\n",
    "M_SELECT=       \"MI\"\n",
    "M_CLASIF=       \"SVM\"\n",
    "R_FICHERO=      \"resultados\"\n",
    "M_FICHERO=      \"metricas\"\n",
    "PRE_DATA_FILE=  \"rows_transpose_norm_by_gene_id_with_target_num_\"\n",
    "SCORING=        \"roc_auc_ovr\" \n",
    "MAX_ITERS=      100\n",
    "\n",
    "def mutual_info_classif_state(X, y):\n",
    "    return mutual_info_classif(X, y, random_state=SEMILLA)\n",
    "\n",
    "eval_selector_mi = \"SelectKBest(score_func=mutual_info_classif_state)\"\n",
    "eval_selector_rf=  \"SelectFromModel(estimator=RandomForestClassifier(random_state=SEMILLA), threshold=-np.inf)\"\n",
    "eval_selector_anova=  \"SelectKBest(score_func=f_classif)\"\n",
    "\n",
    "eval_clasifier_svm= \"SVC(probability=True, random_state=SEMILLA)\"\n",
    "eval_clasifier_rf= \"RandomForestClassifier(random_state=SEMILLA)\"\n",
    "eval_clasifier_lr= \"LogisticRegressionCV(random_state=SEMILLA)\"\n",
    "\n",
    "if M_TIPO.startswith(\"bin_m\"):\n",
    "    myfunc.verbose(f\"Utilizando parámetros de {M_TIPO}\")\n",
    "    eval_selector = eval_selector_mi\n",
    "    eval_clasifier = eval_clasifier_svm\n",
    "\n",
    "    SEMILLA = 6578\n",
    "    M_SELECT = \"MI\"\n",
    "    M_CLASIF = \"SVM\"\n",
    "    param_distributions = {'selector__k': [1000], \n",
    "         'clasifier__kernel': ['rbf'], 'clasifier__gamma': [0.01], 'clasifier__C': [100]}\n",
    "elif M_TIPO.startswith(\"bin_s\"):\n",
    "    myfunc.verbose(f\"Utilizando parámetros de {M_TIPO}\")\n",
    "    eval_selector = eval_selector_rf\n",
    "    eval_clasifier = eval_clasifier_lr\n",
    "\n",
    "    SEMILLA = 6191\n",
    "    M_SELECT = \"RF\"\n",
    "    M_CLASIF = \"LR_L2\"\n",
    "    param_distributions = {'selector__max_features': [1000], 'selector__estimator__n_estimators': [200], \n",
    "        'clasifier__solver': ['lbfgs'], 'clasifier__penalty': ['l2'], 'clasifier__max_iter': [10000]}\n",
    "\n",
    "elif M_TIPO.startswith(\"mul_m\"):\n",
    "    myfunc.verbose(f\"Utilizando parámetros de {M_TIPO}\")\n",
    " \n",
    "    eval_selector = eval_selector_rf\n",
    "    eval_clasifier = eval_clasifier_lr\n",
    "\n",
    "    SEMILLA = 6191\n",
    "    M_SELECT = \"RF\"\n",
    "    M_CLASIF = \"LR_L2\"\n",
    "    param_distributions = {'selector__max_features': [1000], 'selector__estimator__n_estimators': [400], \n",
    "        'clasifier__solver': ['lbfgs'], 'clasifier__penalty': ['l2'], 'clasifier__max_iter': [10000]}\n",
    "\n",
    "else:\n",
    "    # M_TIPO.startswith(\"mul_s\"):\n",
    "    myfunc.verbose(f\"Utilizando parámetros de {M_TIPO}\")\n",
    "    eval_selector = eval_selector_anova\n",
    "    eval_clasifier = eval_clasifier_lr\n",
    "\n",
    "    SEMILLA = 1860\n",
    "    M_SELECT = \"ANOVA\"\n",
    "    M_CLASIF = \"LR_L2\"\n",
    "    param_distributions = {'selector__k': [1000], \n",
    "        'clasifier__solver': ['saga'], 'clasifier__penalty': ['l2'], 'clasifier__max_iter': [10000]}\n",
    "\n"
   ]
  },
  {
   "cell_type": "code",
   "execution_count": 3,
   "id": "70f4e07c",
   "metadata": {
    "execution": {
     "iopub.execute_input": "2023-10-30T17:13:28.147604Z",
     "iopub.status.busy": "2023-10-30T17:13:28.147604Z",
     "iopub.status.idle": "2023-10-30T17:13:28.170679Z",
     "shell.execute_reply": "2023-10-30T17:13:28.170679Z"
    },
    "papermill": {
     "duration": 0.034862,
     "end_time": "2023-10-30T17:13:28.175232",
     "exception": false,
     "start_time": "2023-10-30T17:13:28.140370",
     "status": "completed"
    },
    "tags": [
     "injected-parameters"
    ]
   },
   "outputs": [],
   "source": [
    "# Parameters\n",
    "M_TIPO = \"mul_m\"\n",
    "M_SELECT = \"RF\"\n",
    "M_CLASIF = \"LR_L2\"\n",
    "P_FICHERO = \"param_0000_6578_mul_m_RF_LR_L2.yaml\"\n",
    "R_FICHERO = \"resultados_6578\"\n",
    "M_FICHERO = \"metricas_6578\"\n",
    "PRE_DATA_FILE = \"rows_transpose_norm_by_gene_id_with_target_num_\"\n",
    "SCORING = \"roc_auc_ovr\"\n",
    "SEMILLA = 6578\n",
    "MAX_ITERS = 500\n",
    "eval_selector = \"SelectFromModel(estimator=RandomForestClassifier(random_state=SEMILLA), threshold=-np.inf)\"\n",
    "eval_clasifier = \"LogisticRegressionCV(random_state=SEMILLA)\"\n",
    "param_distributions = {\n",
    "    \"selector__max_features\": [1000],\n",
    "    \"selector__estimator__n_estimators\": [400],\n",
    "    \"clasifier__solver\": [\"lbfgs\"],\n",
    "    \"clasifier__penalty\": [\"l2\"],\n",
    "    \"clasifier__max_iter\": [10000],\n",
    "}\n"
   ]
  },
  {
   "cell_type": "code",
   "execution_count": 4,
   "id": "6801b280",
   "metadata": {
    "execution": {
     "iopub.execute_input": "2023-10-30T17:13:28.191402Z",
     "iopub.status.busy": "2023-10-30T17:13:28.190392Z",
     "iopub.status.idle": "2023-10-30T17:13:28.202329Z",
     "shell.execute_reply": "2023-10-30T17:13:28.201327Z"
    },
    "papermill": {
     "duration": 0.02257,
     "end_time": "2023-10-30T17:13:28.204328",
     "exception": false,
     "start_time": "2023-10-30T17:13:28.181758",
     "status": "completed"
    },
    "tags": []
   },
   "outputs": [],
   "source": [
    "DATA_FILE = PRE_DATA_FILE + M_TIPO\n",
    "\n",
    "# si viene \"None\" en el parámetro max_depth, se le quitan las comillas para que no sea entendido por el algoritmo como un texto\n",
    "if \"clasifier__max_depth\" in param_distributions:\n",
    "    param_distributions['clasifier__max_depth'] = [None if x == 'None' else x for x in param_distributions['clasifier__max_depth']]"
   ]
  },
  {
   "cell_type": "markdown",
   "id": "e6ffad4d",
   "metadata": {
    "papermill": {
     "duration": 0.00672,
     "end_time": "2023-10-30T17:13:28.218440",
     "exception": false,
     "start_time": "2023-10-30T17:13:28.211720",
     "status": "completed"
    },
    "tags": []
   },
   "source": [
    "Asignar los algoritmos que se utilizarán en la función RandomSearchCV"
   ]
  },
  {
   "cell_type": "code",
   "execution_count": 5,
   "id": "247c896e",
   "metadata": {
    "execution": {
     "iopub.execute_input": "2023-10-30T17:13:28.228461Z",
     "iopub.status.busy": "2023-10-30T17:13:28.227462Z",
     "iopub.status.idle": "2023-10-30T17:13:28.231573Z",
     "shell.execute_reply": "2023-10-30T17:13:28.231573Z"
    },
    "papermill": {
     "duration": 0.010612,
     "end_time": "2023-10-30T17:13:28.233575",
     "exception": false,
     "start_time": "2023-10-30T17:13:28.222963",
     "status": "completed"
    },
    "tags": []
   },
   "outputs": [],
   "source": [
    "algor_selector=eval(eval_selector)\n",
    "algor_clasifier=eval(eval_clasifier)"
   ]
  },
  {
   "cell_type": "markdown",
   "id": "e05667e1",
   "metadata": {
    "papermill": {
     "duration": 0.000992,
     "end_time": "2023-10-30T17:13:28.237574",
     "exception": false,
     "start_time": "2023-10-30T17:13:28.236582",
     "status": "completed"
    },
    "tags": []
   },
   "source": [
    "#### Comprobar el entorno y leer fichero de muestras"
   ]
  },
  {
   "cell_type": "code",
   "execution_count": 6,
   "id": "4eb54696",
   "metadata": {
    "execution": {
     "iopub.execute_input": "2023-10-30T17:13:28.240095Z",
     "iopub.status.busy": "2023-10-30T17:13:28.240095Z",
     "iopub.status.idle": "2023-10-30T17:13:28.415723Z",
     "shell.execute_reply": "2023-10-30T17:13:28.415723Z"
    },
    "papermill": {
     "duration": 0.176628,
     "end_time": "2023-10-30T17:13:28.416723",
     "exception": false,
     "start_time": "2023-10-30T17:13:28.240095",
     "status": "completed"
    },
    "tags": []
   },
   "outputs": [
    {
     "name": "stdout",
     "output_type": "stream",
     "text": [
      "20231030T181328 : amilcar32 : INFO : Encontrada carpeta DATA_DIR=..\\tfm_viu\\datos\n",
      "20231030T181328 : amilcar32 : INFO : Encontrada carpeta CFDNA_DIR=..\\tfm_viu\\datos\\cfDNA_5hmC\n",
      "20231030T181328 : amilcar32 : INFO : Encontrada carpeta GENCODE_DIR=..\\tfm_viu\\datos\\gencode\n",
      "20231030T181328 : amilcar32 : INFO : Encontrada carpeta H5_DIR=..\\tfm_viu\\datos\\h5\n",
      "20231030T181328 : amilcar32 : INFO : Encontrada carpeta LOG_DIR=..\\tfm_viu\\datos\\logs\n",
      "20231030T181328 : amilcar32 : INFO : Encontrada carpeta CSV_DIR=..\\tfm_viu\\datos\\csv\n",
      "20231030T181328 : amilcar32 : INFO : Encontrada carpeta MODEL_DIR=..\\tfm_viu\\ejecuciones\\modelos\n",
      "20231030T181328 : amilcar32 : INFO : Encontrada carpeta EXEC_DIR=..\\tfm_viu\\ejecuciones\n",
      "20231030T181328 : amilcar32 : INFO : Encontrada carpeta MET_DIR=..\\tfm_viu\\ejecuciones\\metricas\n",
      "20231030T181328 : amilcar32 : INFO : Inicio leer fichero h5 ..\\tfm_viu\\datos\\h5\\rows_transpose_norm_by_gene_id_with_target_num_mul_m.h5\n",
      "20231030T181328 : amilcar32 : INFO : Leyendo clave /df\n"
     ]
    },
    {
     "name": "stdout",
     "output_type": "stream",
     "text": [
      "20231030T181328 : amilcar32 : INFO : Tamaño (434, 18876)\n",
      "20231030T181328 : amilcar32 : INFO : Fin leer fichero h5 ..\\tfm_viu\\datos\\h5\\rows_transpose_norm_by_gene_id_with_target_num_mul_m.h5\n"
     ]
    },
    {
     "data": {
      "text/plain": [
       "target\n",
       "0    62\n",
       "1    62\n",
       "2    62\n",
       "3    62\n",
       "4    62\n",
       "5    62\n",
       "6    62\n",
       "dtype: int64"
      ]
     },
     "metadata": {},
     "output_type": "display_data"
    },
    {
     "name": "stdout",
     "output_type": "stream",
     "text": [
      "Shape df: (434, 18876)\n",
      "Shape X_train: (347, 18875)\n",
      "Shape X_test: (87, 18875)\n"
     ]
    }
   ],
   "source": [
    "start_time = datetime.datetime.now()\n",
    "\n",
    "myfunc.reset_vars()\n",
    "\n",
    "myfunc.NOTEBK_FILENAME = myfunc.get_nb_name()\n",
    "\n",
    "myfunc.check_enviroment(myfunc.DATA_DIR, myfunc.CFDNA_DIR, myfunc.GENCODE_DIR, myfunc.H5_DIR, myfunc.LOG_DIR, myfunc.CSV_DIR, myfunc.MODEL_DIR, myfunc.EXEC_DIR, myfunc.MET_DIR)\n",
    "\n",
    "# Leer fichero con las muestras\n",
    "df_t = myfunc.read_h5_to_df(DATA_FILE, myfunc.H5_DIR)\n",
    "display(df_t.groupby(\"target\").size())\n",
    "print(\"Shape df:\",df_t.shape)\n",
    "\n",
    "# Separar caracteristicas/genes de las etiquetas/tipos de cáncer\n",
    "X = df_t.iloc[:, :-1]  # Todas las columnas excepto la última\n",
    "y = df_t.iloc[:, -1]  # La última columna contiene los identificadores de los tipos de cáncer\n",
    "\n",
    "#  Crear el conjunto de datos de entrenamiento y de pruebas, y se fija la semilla para siempre coger el mismo juego de muestras\n",
    "X_train, X_test, y_train, y_test = train_test_split(X, y, test_size=0.2, shuffle=True, random_state=42)\n",
    "print(\"Shape X_train:\",X_train.shape)\n",
    "print(\"Shape X_test:\",X_test.shape)\n"
   ]
  },
  {
   "cell_type": "markdown",
   "id": "db7abf14",
   "metadata": {
    "papermill": {
     "duration": 0.002954,
     "end_time": "2023-10-30T17:13:28.423245",
     "exception": false,
     "start_time": "2023-10-30T17:13:28.420291",
     "status": "completed"
    },
    "tags": []
   },
   "source": [
    "#### Selección de características y clasificación."
   ]
  },
  {
   "cell_type": "code",
   "execution_count": 7,
   "id": "152e69ed",
   "metadata": {
    "execution": {
     "iopub.execute_input": "2023-10-30T17:13:28.431756Z",
     "iopub.status.busy": "2023-10-30T17:13:28.430750Z",
     "iopub.status.idle": "2023-10-30T17:14:19.418570Z",
     "shell.execute_reply": "2023-10-30T17:14:19.418570Z"
    },
    "papermill": {
     "duration": 50.992829,
     "end_time": "2023-10-30T17:14:19.420074",
     "exception": false,
     "start_time": "2023-10-30T17:13:28.427245",
     "status": "completed"
    },
    "tags": []
   },
   "outputs": [
    {
     "name": "stdout",
     "output_type": "stream",
     "text": [
      "20231030T181328 : amilcar32 : INFO : Iniciando entrenamiento\n",
      "num_iter: 1 , max_iter: 1\n",
      "Fitting 5 folds for each of 1 candidates, totalling 5 fits\n"
     ]
    },
    {
     "name": "stdout",
     "output_type": "stream",
     "text": [
      "Mejores Hiperparámetros: {'selector__max_features': 1000, 'selector__estimator__n_estimators': 400, 'clasifier__solver': 'lbfgs', 'clasifier__penalty': 'l2', 'clasifier__max_iter': 10000}\n",
      "Mejor Puntuación: 0.8737\n",
      "20231030T181419 : amilcar32 : INFO : Fin entrenamiento\n"
     ]
    }
   ],
   "source": [
    "myfunc.verbose(\"Iniciando entrenamiento\")\n",
    "\n",
    "kf = KFold(n_splits=5, shuffle=True, random_state=SEMILLA)\n",
    "\n",
    "# Crear el pipeline para el flujo de tareas\n",
    "tasks_pipeline = Pipeline([\n",
    "    ('selector', algor_selector),\n",
    "    ('clasifier', algor_clasifier)\n",
    "])\n",
    "\n",
    "# MAX_ITERS puede limitar el número de iteraciones si son excesivas para las combinaciones de parámetros buscando un óptimo local, \n",
    "# sino funcionaría como GridSearchCV al revisar todas las cominaciones de los parámetros\n",
    "num_iteraciones = 1\n",
    "num_iteraciones = num_iteraciones * np.prod([len(elemento1) for _, elemento1 in param_distributions.items()])\n",
    "max_iteraciones = num_iteraciones if num_iteraciones <= MAX_ITERS else MAX_ITERS\n",
    "print(\"num_iter:\",num_iteraciones,\", max_iter:\",max_iteraciones)\n",
    "\n",
    "random_search = RandomizedSearchCV(\n",
    "    tasks_pipeline, \n",
    "    param_distributions, \n",
    "    n_iter=max_iteraciones,\n",
    "    scoring=SCORING,\n",
    "    cv=kf,\n",
    "    verbose=3, \n",
    "    random_state=SEMILLA, \n",
    "    n_jobs=-1\n",
    "    )\n",
    "\n",
    "# Entrenar el modelo\n",
    "random_search.fit(X_train, y_train)\n",
    "\n",
    "# Ver los mejores hiperparámetros encontrados\n",
    "print(f'Mejores Hiperparámetros: {random_search.best_params_}')\n",
    "print(f'Mejor Puntuación: {random_search.best_score_:.4f}')\n",
    "\n",
    "# Nos quedamos con el mejor modelo para ver las métricas\n",
    "mejor_modelo = random_search.best_estimator_\n",
    "\n",
    "myfunc.verbose(\"Fin entrenamiento\")"
   ]
  },
  {
   "cell_type": "markdown",
   "id": "5197289b",
   "metadata": {
    "papermill": {
     "duration": 0.004001,
     "end_time": "2023-10-30T17:14:19.429078",
     "exception": false,
     "start_time": "2023-10-30T17:14:19.425077",
     "status": "completed"
    },
    "tags": []
   },
   "source": [
    "#### Guardar modelo"
   ]
  },
  {
   "cell_type": "code",
   "execution_count": 8,
   "id": "61eb7877",
   "metadata": {
    "execution": {
     "iopub.execute_input": "2023-10-30T17:14:19.436349Z",
     "iopub.status.busy": "2023-10-30T17:14:19.436349Z",
     "iopub.status.idle": "2023-10-30T17:14:19.588133Z",
     "shell.execute_reply": "2023-10-30T17:14:19.588133Z"
    },
    "papermill": {
     "duration": 0.156785,
     "end_time": "2023-10-30T17:14:19.589134",
     "exception": false,
     "start_time": "2023-10-30T17:14:19.432349",
     "status": "completed"
    },
    "tags": []
   },
   "outputs": [
    {
     "name": "stdout",
     "output_type": "stream",
     "text": [
      "20231030T181419 : amilcar32 : INFO : Inicio guardar fichero ..\\tfm_viu\\ejecuciones\\modelos\\modelo_6578_mul_m_RF_LR_L2.pkl\n",
      "20231030T181419 : amilcar32 : INFO : Fin guardar fichero ..\\tfm_viu\\ejecuciones\\modelos\\modelo_6578_mul_m_RF_LR_L2.pkl\n"
     ]
    }
   ],
   "source": [
    "fichero_modelo = str.replace(\"modelo_\"+str(SEMILLA).zfill(4)+\"_\"+M_TIPO+\"_\"+M_SELECT+\"_\"+M_CLASIF+\".pkl\", \" \", \"_\")\n",
    "\n",
    "myfunc.save_modelo(mejor_modelo, myfunc.MODEL_DIR, fichero_modelo)"
   ]
  },
  {
   "cell_type": "markdown",
   "id": "fccadf7c",
   "metadata": {
    "papermill": {
     "duration": 0.003992,
     "end_time": "2023-10-30T17:14:19.597146",
     "exception": false,
     "start_time": "2023-10-30T17:14:19.593154",
     "status": "completed"
    },
    "tags": []
   },
   "source": [
    "#### Ver resultados del las iteraciones hechas por RandomSearchCV"
   ]
  },
  {
   "cell_type": "code",
   "execution_count": 9,
   "id": "3dc3f658",
   "metadata": {
    "execution": {
     "iopub.execute_input": "2023-10-30T17:14:19.604173Z",
     "iopub.status.busy": "2023-10-30T17:14:19.604173Z",
     "iopub.status.idle": "2023-10-30T17:14:19.620469Z",
     "shell.execute_reply": "2023-10-30T17:14:19.619964Z"
    },
    "papermill": {
     "duration": 0.022336,
     "end_time": "2023-10-30T17:14:19.622482",
     "exception": false,
     "start_time": "2023-10-30T17:14:19.600146",
     "status": "completed"
    },
    "tags": []
   },
   "outputs": [
    {
     "name": "stdout",
     "output_type": "stream",
     "text": [
      "20231030T181419 : amilcar32 : INFO : Inicio ver resultados\n",
      "Mejores Hiperparámetros: {'selector__max_features': 1000, 'selector__estimator__n_estimators': 400, 'clasifier__solver': 'lbfgs', 'clasifier__penalty': 'l2', 'clasifier__max_iter': 10000}\n",
      "Mejores puntuaciones: 0.8737 | Params: {'selector__max_features': 1000, 'selector__estimator__n_estimators': 400, 'clasifier__solver': 'lbfgs', 'clasifier__penalty': 'l2', 'clasifier__max_iter': 10000}\n",
      "Media de las puntuaciones: 0.8737 | Params: {'selector__max_features': 1000, 'selector__estimator__n_estimators': 400, 'clasifier__solver': 'lbfgs', 'clasifier__penalty': 'l2', 'clasifier__max_iter': 10000}\n",
      "20231030T181419 : amilcar32 : INFO : Fin resultados\n"
     ]
    }
   ],
   "source": [
    "myfunc.ver_resultados_search(random_search)"
   ]
  },
  {
   "cell_type": "markdown",
   "id": "61078d59",
   "metadata": {
    "papermill": {
     "duration": 0.004508,
     "end_time": "2023-10-30T17:14:19.630990",
     "exception": false,
     "start_time": "2023-10-30T17:14:19.626482",
     "status": "completed"
    },
    "tags": []
   },
   "source": [
    "#### Ver métricas del mejor modelo"
   ]
  },
  {
   "cell_type": "code",
   "execution_count": 10,
   "id": "cbd43404",
   "metadata": {
    "execution": {
     "iopub.execute_input": "2023-10-30T17:14:19.638048Z",
     "iopub.status.busy": "2023-10-30T17:14:19.638048Z",
     "iopub.status.idle": "2023-10-30T17:14:20.420442Z",
     "shell.execute_reply": "2023-10-30T17:14:20.419875Z"
    },
    "papermill": {
     "duration": 0.787497,
     "end_time": "2023-10-30T17:14:20.421496",
     "exception": false,
     "start_time": "2023-10-30T17:14:19.633999",
     "status": "completed"
    },
    "tags": []
   },
   "outputs": [
    {
     "name": "stdout",
     "output_type": "stream",
     "text": [
      "20231030T181419 : amilcar32 : INFO : Inicio ver métricas multiclase\n"
     ]
    },
    {
     "name": "stdout",
     "output_type": "stream",
     "text": [
      "              precision    recall  f1-score   support\n",
      "\n",
      "           0       0.57      0.50      0.53        16\n",
      "           1       0.67      0.67      0.67        15\n",
      "           2       0.50      0.27      0.35        11\n",
      "           3       0.20      0.60      0.30         5\n",
      "           4       0.78      0.54      0.64        13\n",
      "           5       0.80      0.89      0.84         9\n",
      "           6       0.67      0.67      0.67        18\n",
      "\n",
      "    accuracy                           0.59        87\n",
      "   macro avg       0.60      0.59      0.57        87\n",
      "weighted avg       0.63      0.59      0.60        87\n",
      "\n",
      "\n",
      "\n",
      "           Exactitud: 0.586207\n",
      "   Precisión (media): 0.597506\n",
      "      Recall (media): 0.590487\n",
      "    F1-score (media): 0.571154\n",
      "\n",
      "\n",
      "AUC para el tipo de cáncer 0-Control.... 0.8248\n",
      "AUC para el tipo de cáncer 1-Bladder.... 0.8843\n",
      "AUC para el tipo de cáncer 2-Breast..... 0.7081\n",
      "AUC para el tipo de cáncer 3-Colorectal. 0.8683\n",
      "AUC para el tipo de cáncer 4-Kidney..... 0.9252\n",
      "AUC para el tipo de cáncer 5-Lung....... 0.9815\n",
      "AUC para el tipo de cáncer 6-Prostate... 0.8527\n",
      "\n",
      "Media de AUC: 0.8635\n"
     ]
    },
    {
     "data": {
      "image/png": "[encoded data removed]",
      "text/plain": [
       "<Figure size 1000x600 with 1 Axes>"
      ]
     },
     "metadata": {},
     "output_type": "display_data"
    },
    {
     "name": "stdout",
     "output_type": "stream",
     "text": [
      "\n",
      "\n"
     ]
    },
    {
     "data": {
      "image/png": "[encoded data removed]",
      "text/plain": [
       "<Figure size 800x400 with 2 Axes>"
      ]
     },
     "metadata": {},
     "output_type": "display_data"
    },
    {
     "name": "stdout",
     "output_type": "stream",
     "text": [
      "\n",
      "\n",
      "Puntuación Jaccard para el cáncer tipo 0-Control.... 0.3636\n",
      "Puntuación Jaccard para el cáncer tipo 1-Bladder.... 0.5000\n",
      "Puntuación Jaccard para el cáncer tipo 2-Breast..... 0.2143\n",
      "Puntuación Jaccard para el cáncer tipo 3-Colorectal. 0.1765\n",
      "Puntuación Jaccard para el cáncer tipo 4-Kidney..... 0.4667\n",
      "Puntuación Jaccard para el cáncer tipo 5-Lung....... 0.7273\n",
      "Puntuación Jaccard para el cáncer tipo 6-Prostate... 0.5000\n",
      "\n",
      "Media de la puntuación de Jaccard: 0.4212\n"
     ]
    }
   ],
   "source": [
    "if M_TIPO.startswith(\"bin\"):\n",
    "    myfunc.ver_metricas(mejor_modelo, X_test, y_test)\n",
    "else:\n",
    "    myfunc.ver_metricas_multi(mejor_modelo, X_test, y_test)\n"
   ]
  },
  {
   "cell_type": "markdown",
   "id": "11284ea4",
   "metadata": {
    "papermill": {
     "duration": 0.005073,
     "end_time": "2023-10-30T17:14:20.431527",
     "exception": false,
     "start_time": "2023-10-30T17:14:20.426454",
     "status": "completed"
    },
    "tags": []
   },
   "source": [
    "#### Finalización del notebook"
   ]
  },
  {
   "cell_type": "code",
   "execution_count": 11,
   "id": "8d5b6201",
   "metadata": {
    "execution": {
     "iopub.execute_input": "2023-10-30T17:14:20.442132Z",
     "iopub.status.busy": "2023-10-30T17:14:20.441132Z",
     "iopub.status.idle": "2023-10-30T17:14:20.451320Z",
     "shell.execute_reply": "2023-10-30T17:14:20.451320Z"
    },
    "papermill": {
     "duration": 0.015788,
     "end_time": "2023-10-30T17:14:20.452320",
     "exception": false,
     "start_time": "2023-10-30T17:14:20.436532",
     "status": "completed"
    },
    "tags": []
   },
   "outputs": [
    {
     "name": "stdout",
     "output_type": "stream",
     "text": [
      "20231030T181420 : amilcar32 : INFO : Notebook ha tardado 52 seconds\n"
     ]
    }
   ],
   "source": [
    "end_time = datetime.datetime.now()\n",
    "total_time = end_time - start_time\n",
    "myfunc.verbose(f\"Notebook ha tardado {total_time.seconds} seconds\")"
   ]
  },
  {
   "cell_type": "markdown",
   "id": "e28ad4d9",
   "metadata": {
    "papermill": {
     "duration": 0.005364,
     "end_time": "2023-10-30T17:14:20.462684",
     "exception": false,
     "start_time": "2023-10-30T17:14:20.457320",
     "status": "completed"
    },
    "tags": []
   },
   "source": [
    "#### Guardar métricas"
   ]
  },
  {
   "cell_type": "code",
   "execution_count": 12,
   "id": "23137f56",
   "metadata": {
    "execution": {
     "iopub.execute_input": "2023-10-30T17:14:20.475503Z",
     "iopub.status.busy": "2023-10-30T17:14:20.475503Z",
     "iopub.status.idle": "2023-10-30T17:14:21.148654Z",
     "shell.execute_reply": "2023-10-30T17:14:21.148654Z"
    },
    "papermill": {
     "duration": 0.687485,
     "end_time": "2023-10-30T17:14:21.150169",
     "exception": false,
     "start_time": "2023-10-30T17:14:20.462684",
     "status": "completed"
    },
    "tags": []
   },
   "outputs": [
    {
     "name": "stdout",
     "output_type": "stream",
     "text": [
      "20231030T181420 : amilcar32 : INFO : Inicio guardar métricas multiclase\n"
     ]
    },
    {
     "name": "stdout",
     "output_type": "stream",
     "text": [
      "20231030T181420 : amilcar32 : INFO : Inicio leer fichero ..\\tfm_viu\\ejecuciones\\metricas\\metricas_6578.csv\n",
      "20231030T181420 : amilcar32 : INFO : Fin leer fichero ..\\tfm_viu\\ejecuciones\\metricas\\metricas_6578.csv\n"
     ]
    },
    {
     "name": "stdout",
     "output_type": "stream",
     "text": [
      "20231030T181421 : amilcar32 : INFO : Inicio guardar fichero ..\\tfm_viu\\ejecuciones\\metricas\\metricas_6578.csv\n",
      "20231030T181421 : amilcar32 : INFO : Fichero borrado ..\\tfm_viu\\ejecuciones\\metricas\\metricas_6578.csv\n",
      "20231030T181421 : amilcar32 : INFO : Fin guardar fichero ..\\tfm_viu\\ejecuciones\\metricas\\metricas_6578.csv\n",
      "20231030T181421 : amilcar32 : INFO : Fin guardar métricas multiclase\n",
      "20231030T181421 : amilcar32 : INFO : Inicio leer fichero ..\\tfm_viu\\ejecuciones\\metricas\\metricas_6578.csv\n",
      "20231030T181421 : amilcar32 : INFO : Fin leer fichero ..\\tfm_viu\\ejecuciones\\metricas\\metricas_6578.csv\n"
     ]
    },
    {
     "data": {
      "text/html": [
       "<div>\n",
       "<style scoped>\n",
       "    .dataframe tbody tr th:only-of-type {\n",
       "        vertical-align: middle;\n",
       "    }\n",
       "\n",
       "    .dataframe tbody tr th {\n",
       "        vertical-align: top;\n",
       "    }\n",
       "\n",
       "    .dataframe thead th {\n",
       "        text-align: right;\n",
       "    }\n",
       "</style>\n",
       "<table border=\"1\" class=\"dataframe\">\n",
       "  <thead>\n",
       "    <tr style=\"text-align: right;\">\n",
       "      <th></th>\n",
       "      <th>tipo</th>\n",
       "      <th>select</th>\n",
       "      <th>clasific</th>\n",
       "      <th>semilla</th>\n",
       "      <th>accuracy</th>\n",
       "      <th>precision</th>\n",
       "      <th>recall</th>\n",
       "      <th>f1_score</th>\n",
       "      <th>roc_auc</th>\n",
       "      <th>hostname</th>\n",
       "      <th>total_time_sec</th>\n",
       "      <th>datetime</th>\n",
       "      <th>fichero_modelo</th>\n",
       "      <th>params</th>\n",
       "      <th>shape</th>\n",
       "      <th>features</th>\n",
       "      <th>roc_auc_ovr</th>\n",
       "      <th>indices_auc</th>\n",
       "      <th>indices_jaccard</th>\n",
       "    </tr>\n",
       "  </thead>\n",
       "  <tbody>\n",
       "    <tr>\n",
       "      <th>0</th>\n",
       "      <td>mul_m</td>\n",
       "      <td>RF</td>\n",
       "      <td>LR_L2</td>\n",
       "      <td>6578</td>\n",
       "      <td>0.586207</td>\n",
       "      <td>0.597506</td>\n",
       "      <td>0.590487</td>\n",
       "      <td>0.571154</td>\n",
       "      <td>NaN</td>\n",
       "      <td>amilcar32</td>\n",
       "      <td>52</td>\n",
       "      <td>2023-10-30 18:14:21.109524</td>\n",
       "      <td>modelo_6578_mul_m_RF_LR_L2.pkl</td>\n",
       "      <td>{'selector__max_features': 1000, 'selector__es...</td>\n",
       "      <td>X_test:(87, 18875)</td>\n",
       "      <td>['ENSG00000000971.17', 'ENSG00000003137.9', 'E...</td>\n",
       "      <td>0.863543</td>\n",
       "      <td>[0.8248239436619719, 0.8842592592592591, 0.708...</td>\n",
       "      <td>[0.36363636363636365, 0.5, 0.21428571428571427...</td>\n",
       "    </tr>\n",
       "    <tr>\n",
       "      <th>0</th>\n",
       "      <td>mul_m</td>\n",
       "      <td>RF</td>\n",
       "      <td>LR_L1</td>\n",
       "      <td>6578</td>\n",
       "      <td>0.494253</td>\n",
       "      <td>0.499733</td>\n",
       "      <td>0.487755</td>\n",
       "      <td>0.475506</td>\n",
       "      <td>NaN</td>\n",
       "      <td>amilcar32</td>\n",
       "      <td>1018</td>\n",
       "      <td>2023-10-30 18:13:23.620333</td>\n",
       "      <td>modelo_6578_mul_m_RF_LR_L1.pkl</td>\n",
       "      <td>{'selector__max_features': 1000, 'selector__es...</td>\n",
       "      <td>X_test:(87, 18875)</td>\n",
       "      <td>['ENSG00000000971.17', 'ENSG00000003137.9', 'E...</td>\n",
       "      <td>0.837072</td>\n",
       "      <td>[0.7579225352112676, 0.8675925925925927, 0.691...</td>\n",
       "      <td>[0.22727272727272727, 0.47368421052631576, 0.1...</td>\n",
       "    </tr>\n",
       "    <tr>\n",
       "      <th>0</th>\n",
       "      <td>mul_m</td>\n",
       "      <td>RF</td>\n",
       "      <td>LR_EN</td>\n",
       "      <td>6578</td>\n",
       "      <td>0.574713</td>\n",
       "      <td>0.565620</td>\n",
       "      <td>0.583619</td>\n",
       "      <td>0.555161</td>\n",
       "      <td>NaN</td>\n",
       "      <td>amilcar32</td>\n",
       "      <td>881</td>\n",
       "      <td>2023-10-30 17:56:19.277788</td>\n",
       "      <td>modelo_6578_mul_m_RF_LR_EN.pkl</td>\n",
       "      <td>{'selector__max_features': 1000, 'selector__es...</td>\n",
       "      <td>X_test:(87, 18875)</td>\n",
       "      <td>['ENSG00000000971.17', 'ENSG00000003137.9', 'E...</td>\n",
       "      <td>0.854496</td>\n",
       "      <td>[0.789612676056338, 0.8685185185185185, 0.7057...</td>\n",
       "      <td>[0.2727272727272727, 0.5, 0.2, 0.2, 0.53333333...</td>\n",
       "    </tr>\n",
       "  </tbody>\n",
       "</table>\n",
       "</div>"
      ],
      "text/plain": [
       "    tipo select clasific  semilla  accuracy  precision    recall  f1_score  \\\n",
       "0  mul_m     RF    LR_L2     6578  0.586207   0.597506  0.590487  0.571154   \n",
       "0  mul_m     RF    LR_L1     6578  0.494253   0.499733  0.487755  0.475506   \n",
       "0  mul_m     RF    LR_EN     6578  0.574713   0.565620  0.583619  0.555161   \n",
       "\n",
       "   roc_auc   hostname  total_time_sec                    datetime  \\\n",
       "0      NaN  amilcar32              52  2023-10-30 18:14:21.109524   \n",
       "0      NaN  amilcar32            1018  2023-10-30 18:13:23.620333   \n",
       "0      NaN  amilcar32             881  2023-10-30 17:56:19.277788   \n",
       "\n",
       "                   fichero_modelo  \\\n",
       "0  modelo_6578_mul_m_RF_LR_L2.pkl   \n",
       "0  modelo_6578_mul_m_RF_LR_L1.pkl   \n",
       "0  modelo_6578_mul_m_RF_LR_EN.pkl   \n",
       "\n",
       "                                              params               shape  \\\n",
       "0  {'selector__max_features': 1000, 'selector__es...  X_test:(87, 18875)   \n",
       "0  {'selector__max_features': 1000, 'selector__es...  X_test:(87, 18875)   \n",
       "0  {'selector__max_features': 1000, 'selector__es...  X_test:(87, 18875)   \n",
       "\n",
       "                                            features  roc_auc_ovr  \\\n",
       "0  ['ENSG00000000971.17', 'ENSG00000003137.9', 'E...     0.863543   \n",
       "0  ['ENSG00000000971.17', 'ENSG00000003137.9', 'E...     0.837072   \n",
       "0  ['ENSG00000000971.17', 'ENSG00000003137.9', 'E...     0.854496   \n",
       "\n",
       "                                         indices_auc  \\\n",
       "0  [0.8248239436619719, 0.8842592592592591, 0.708...   \n",
       "0  [0.7579225352112676, 0.8675925925925927, 0.691...   \n",
       "0  [0.789612676056338, 0.8685185185185185, 0.7057...   \n",
       "\n",
       "                                     indices_jaccard  \n",
       "0  [0.36363636363636365, 0.5, 0.21428571428571427...  \n",
       "0  [0.22727272727272727, 0.47368421052631576, 0.1...  \n",
       "0  [0.2727272727272727, 0.5, 0.2, 0.2, 0.53333333...  "
      ]
     },
     "metadata": {},
     "output_type": "display_data"
    }
   ],
   "source": [
    "if M_TIPO.startswith(\"bin\"):\n",
    "    myfunc.save_metricas_to_csv(random_search, X_test, y_test, M_TIPO, M_SELECT, M_CLASIF, total_time, SEMILLA, myfunc.MET_DIR, M_FICHERO, fichero_modelo)\n",
    "else:\n",
    "    myfunc.save_metricas_multi_to_csv(random_search, X_test, y_test, M_TIPO, M_SELECT, M_CLASIF, total_time, SEMILLA, myfunc.MET_DIR, M_FICHERO, fichero_modelo)\n",
    "\n",
    "df1=myfunc.read_metricas_to_df(myfunc.MET_DIR,M_FICHERO)\n",
    "\n",
    "display(df1.sort_values(\"datetime\", ascending=False)[:3])\n"
   ]
  },
  {
   "cell_type": "markdown",
   "id": "273e55c4",
   "metadata": {
    "papermill": {
     "duration": 0.004993,
     "end_time": "2023-10-30T17:14:21.160178",
     "exception": false,
     "start_time": "2023-10-30T17:14:21.155185",
     "status": "completed"
    },
    "tags": []
   },
   "source": [
    "#### Guardar resultados"
   ]
  },
  {
   "cell_type": "code",
   "execution_count": 13,
   "id": "76adbabc",
   "metadata": {
    "execution": {
     "iopub.execute_input": "2023-10-30T17:14:21.171428Z",
     "iopub.status.busy": "2023-10-30T17:14:21.170423Z",
     "iopub.status.idle": "2023-10-30T17:14:21.185803Z",
     "shell.execute_reply": "2023-10-30T17:14:21.185803Z"
    },
    "papermill": {
     "duration": 0.025567,
     "end_time": "2023-10-30T17:14:21.187878",
     "exception": false,
     "start_time": "2023-10-30T17:14:21.162311",
     "status": "completed"
    },
    "tags": []
   },
   "outputs": [
    {
     "name": "stdout",
     "output_type": "stream",
     "text": [
      "20231030T181421 : amilcar32 : INFO : Inicio guardar resultados\n",
      "20231030T181421 : amilcar32 : INFO : Inicio guardar fichero ..\\tfm_viu\\ejecuciones\\metricas\\resultados_6578_mul_m-RF-LR_L2.csv\n",
      "20231030T181421 : amilcar32 : INFO : Fin guardar fichero ..\\tfm_viu\\ejecuciones\\metricas\\resultados_6578_mul_m-RF-LR_L2.csv\n",
      "20231030T181421 : amilcar32 : INFO : Fin guardar resultados\n"
     ]
    }
   ],
   "source": [
    "fichero_resultados=R_FICHERO+\"_\"+M_TIPO+\"-\"+M_SELECT+\"-\"+M_CLASIF+\".csv\"\n",
    "myfunc.save_resultados_to_csv(M_TIPO, M_SELECT, M_CLASIF,  random_search, myfunc.MET_DIR, fichero_resultados)\n"
   ]
  }
 ],
 "metadata": {
  "kernelspec": {
   "display_name": "Python 3 (ipykernel)",
   "language": "python",
   "name": "python3"
  },
  "language_info": {
   "codemirror_mode": {
    "name": "ipython",
    "version": 3
   },
   "file_extension": ".py",
   "mimetype": "text/x-python",
   "name": "python",
   "nbconvert_exporter": "python",
   "pygments_lexer": "ipython3",
   "version": "3.10.12"
  },
  "papermill": {
   "default_parameters": {},
   "duration": 56.724425,
   "end_time": "2023-10-30T17:14:21.753555",
   "environment_variables": {},
   "exception": null,
   "input_path": "03_entrenamiento.ipynb",
   "output_path": "ejecuciones\\training\\03_entrenamiento.20231030T181324.param_0000_6578_mul_m_RF_LR_L2.output.ipynb",
   "parameters": {
    "MAX_ITERS": 500,
    "M_CLASIF": "LR_L2",
    "M_FICHERO": "metricas_6578",
    "M_SELECT": "RF",
    "M_TIPO": "mul_m",
    "PRE_DATA_FILE": "rows_transpose_norm_by_gene_id_with_target_num_",
    "P_FICHERO": "param_0000_6578_mul_m_RF_LR_L2.yaml",
    "R_FICHERO": "resultados_6578",
    "SCORING": "roc_auc_ovr",
    "SEMILLA": 6578,
    "eval_clasifier": "LogisticRegressionCV(random_state=SEMILLA)",
    "eval_selector": "SelectFromModel(estimator=RandomForestClassifier(random_state=SEMILLA), threshold=-np.inf)",
    "param_distributions": {
     "clasifier__max_iter": [
      10000
     ],
     "clasifier__penalty": [
      "l2"
     ],
     "clasifier__solver": [
      "lbfgs"
     ],
     "selector__estimator__n_estimators": [
      400
     ],
     "selector__max_features": [
      1000
     ]
    }
   },
   "start_time": "2023-10-30T17:13:25.029130",
   "version": "2.4.0"
  }
 },
 "nbformat": 4,
 "nbformat_minor": 5
}