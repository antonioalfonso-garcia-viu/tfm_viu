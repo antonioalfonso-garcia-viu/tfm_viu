{
 "cells": [
  {
   "cell_type": "markdown",
   "id": "a353e10e",
   "metadata": {
    "papermill": {
     "duration": 0.005371,
     "end_time": "2023-10-30T15:12:10.762559",
     "exception": false,
     "start_time": "2023-10-30T15:12:10.757188",
     "status": "completed"
    },
    "tags": []
   },
   "source": [
    "##### Inicio"
   ]
  },
  {
   "cell_type": "markdown",
   "id": "912cd783",
   "metadata": {
    "papermill": {
     "duration": 0.003372,
     "end_time": "2023-10-30T15:12:10.769613",
     "exception": false,
     "start_time": "2023-10-30T15:12:10.766241",
     "status": "completed"
    },
    "tags": []
   },
   "source": [
    "#### Carga de datos"
   ]
  },
  {
   "cell_type": "code",
   "execution_count": 1,
   "id": "35f349d1",
   "metadata": {
    "execution": {
     "iopub.execute_input": "2023-10-30T15:12:10.777782Z",
     "iopub.status.busy": "2023-10-30T15:12:10.777173Z",
     "iopub.status.idle": "2023-10-30T15:12:11.888904Z",
     "shell.execute_reply": "2023-10-30T15:12:11.888234Z"
    },
    "papermill": {
     "duration": 1.117355,
     "end_time": "2023-10-30T15:12:11.890350",
     "exception": false,
     "start_time": "2023-10-30T15:12:10.772995",
     "status": "completed"
    },
    "tags": []
   },
   "outputs": [
    {
     "name": "stdout",
     "output_type": "stream",
     "text": [
      "CPU_COUNT: 16; NODE: enderlab; sys.version: 3.10.11 (main, May 16 2023, 00:28:57) [GCC 11.2.0]\n",
      "LOKY_MAX_CPU_COUNT is not set.\n",
      "OMP_NUM_THREADS is not set.\n"
     ]
    }
   ],
   "source": [
    "import os\n",
    "import numpy as np\n",
    "import pandas as pd\n",
    "import datetime\n",
    "import sklearn\n",
    "import logging\n",
    "import warnings\n",
    "\n",
    "from sklearn.pipeline import Pipeline\n",
    "from sklearn.model_selection import RandomizedSearchCV, KFold, cross_val_score, train_test_split\n",
    "from sklearn.metrics import accuracy_score, confusion_matrix, classification_report, roc_auc_score\n",
    "\n",
    "#  cargar algoritmos para aprendizaje supervisado\n",
    "from sklearn.feature_selection import SelectKBest, f_classif, SelectFromModel, mutual_info_classif\n",
    "from sklearn.svm import SVC\n",
    "from sklearn.ensemble import RandomForestClassifier\n",
    "from sklearn.linear_model import LogisticRegression,LogisticRegressionCV\n",
    "\n",
    "# importar fichero con utilidades propias\n",
    "from commons import myfunctions as myfunc\n"
   ]
  },
  {
   "cell_type": "markdown",
   "id": "798b26e0",
   "metadata": {
    "papermill": {
     "duration": 0.003677,
     "end_time": "2023-10-30T15:12:11.898126",
     "exception": false,
     "start_time": "2023-10-30T15:12:11.894449",
     "status": "completed"
    },
    "tags": []
   },
   "source": [
    "#### Parámetros a utilizar en el entrenamiento.\n",
    "\n",
    "Se indican los 3 algoritmos de *selección de características* (eval_selector_xxx) y los 3 algoritmos para la _clasificación_ (eval_clasifier_xxx)\n",
    "\n",
    "En *param_distributions* se indicar los parámetros que utilizan los algoritmos en la función RandomSearchCV.\n",
    "\n",
    "Esta celda tiene la etiqueta **parameters** que servirá para poder lanzar los entrenamientos con la utilidad **papermill** pasándole un fichero con los parámetros. Los nuevos parámetros se situarán tras esta celda para tener prevalencia."
   ]
  },
  {
   "cell_type": "code",
   "execution_count": 2,
   "id": "e0a5b4c1",
   "metadata": {
    "execution": {
     "iopub.execute_input": "2023-10-30T15:12:11.908207Z",
     "iopub.status.busy": "2023-10-30T15:12:11.907631Z",
     "iopub.status.idle": "2023-10-30T15:12:11.916426Z",
     "shell.execute_reply": "2023-10-30T15:12:11.915881Z"
    },
    "papermill": {
     "duration": 0.01446,
     "end_time": "2023-10-30T15:12:11.917627",
     "exception": false,
     "start_time": "2023-10-30T15:12:11.903167",
     "status": "completed"
    },
    "tags": [
     "parameters"
    ]
   },
   "outputs": [
    {
     "name": "stdout",
     "output_type": "stream",
     "text": [
      "20231030T161211 : enderlab : INFO : Utilizando parámetros de mul_m\n"
     ]
    }
   ],
   "source": [
    "#  Parametros para el entrenamiento\n",
    "\n",
    "SEMILLA=        42\n",
    "M_TIPO=         \"mul_m\"\n",
    "M_SELECT=       \"MI\"\n",
    "M_CLASIF=       \"SVM\"\n",
    "R_FICHERO=      \"resultados\"\n",
    "M_FICHERO=      \"metricas\"\n",
    "PRE_DATA_FILE=  \"rows_transpose_norm_by_gene_id_with_target_num_\"\n",
    "SCORING=        \"roc_auc_ovr\" \n",
    "MAX_ITERS=      100\n",
    "\n",
    "def mutual_info_classif_state(X, y):\n",
    "    return mutual_info_classif(X, y, random_state=SEMILLA)\n",
    "\n",
    "eval_selector_mi = \"SelectKBest(score_func=mutual_info_classif_state)\"\n",
    "eval_selector_rf=  \"SelectFromModel(estimator=RandomForestClassifier(random_state=SEMILLA), threshold=-np.inf)\"\n",
    "eval_selector_anova=  \"SelectKBest(score_func=f_classif)\"\n",
    "\n",
    "eval_clasifier_svm= \"SVC(probability=True, random_state=SEMILLA)\"\n",
    "eval_clasifier_rf= \"RandomForestClassifier(random_state=SEMILLA)\"\n",
    "eval_clasifier_lr= \"LogisticRegressionCV(random_state=SEMILLA)\"\n",
    "\n",
    "if M_TIPO.startswith(\"bin_m\"):\n",
    "    myfunc.verbose(f\"Utilizando parámetros de {M_TIPO}\")\n",
    "    eval_selector = eval_selector_mi\n",
    "    eval_clasifier = eval_clasifier_svm\n",
    "\n",
    "    SEMILLA = 6578\n",
    "    M_SELECT = \"MI\"\n",
    "    M_CLASIF = \"SVM\"\n",
    "    param_distributions = {'selector__k': [1000], \n",
    "         'clasifier__kernel': ['rbf'], 'clasifier__gamma': [0.01], 'clasifier__C': [100]}\n",
    "elif M_TIPO.startswith(\"bin_s\"):\n",
    "    myfunc.verbose(f\"Utilizando parámetros de {M_TIPO}\")\n",
    "    eval_selector = eval_selector_rf\n",
    "    eval_clasifier = eval_clasifier_lr\n",
    "\n",
    "    SEMILLA = 6191\n",
    "    M_SELECT = \"RF\"\n",
    "    M_CLASIF = \"LR_L2\"\n",
    "    param_distributions = {'selector__max_features': [1000], 'selector__estimator__n_estimators': [200], \n",
    "        'clasifier__solver': ['lbfgs'], 'clasifier__penalty': ['l2'], 'clasifier__max_iter': [10000]}\n",
    "\n",
    "elif M_TIPO.startswith(\"mul_m\"):\n",
    "    myfunc.verbose(f\"Utilizando parámetros de {M_TIPO}\")\n",
    " \n",
    "    eval_selector = eval_selector_rf\n",
    "    eval_clasifier = eval_clasifier_lr\n",
    "\n",
    "    SEMILLA = 6191\n",
    "    M_SELECT = \"RF\"\n",
    "    M_CLASIF = \"LR_L2\"\n",
    "    param_distributions = {'selector__max_features': [1000], 'selector__estimator__n_estimators': [400], \n",
    "        'clasifier__solver': ['lbfgs'], 'clasifier__penalty': ['l2'], 'clasifier__max_iter': [10000]}\n",
    "\n",
    "else:\n",
    "    # M_TIPO.startswith(\"mul_s\"):\n",
    "    myfunc.verbose(f\"Utilizando parámetros de {M_TIPO}\")\n",
    "    eval_selector = eval_selector_anova\n",
    "    eval_clasifier = eval_clasifier_lr\n",
    "\n",
    "    SEMILLA = 1860\n",
    "    M_SELECT = \"ANOVA\"\n",
    "    M_CLASIF = \"LR_L2\"\n",
    "    param_distributions = {'selector__k': [1000], \n",
    "        'clasifier__solver': ['saga'], 'clasifier__penalty': ['l2'], 'clasifier__max_iter': [10000]}\n",
    "\n"
   ]
  },
  {
   "cell_type": "code",
   "execution_count": 3,
   "id": "95fd0d36",
   "metadata": {
    "execution": {
     "iopub.execute_input": "2023-10-30T15:12:11.925887Z",
     "iopub.status.busy": "2023-10-30T15:12:11.925432Z",
     "iopub.status.idle": "2023-10-30T15:12:11.929535Z",
     "shell.execute_reply": "2023-10-30T15:12:11.929002Z"
    },
    "papermill": {
     "duration": 0.009554,
     "end_time": "2023-10-30T15:12:11.930785",
     "exception": false,
     "start_time": "2023-10-30T15:12:11.921231",
     "status": "completed"
    },
    "tags": [
     "injected-parameters"
    ]
   },
   "outputs": [],
   "source": [
    "# Parameters\n",
    "M_TIPO = \"mul_m\"\n",
    "M_SELECT = \"RF\"\n",
    "M_CLASIF = \"RF\"\n",
    "P_FICHERO = \"param_0000_7265_mul_m_RF_RF.yaml\"\n",
    "R_FICHERO = \"resultados_7265\"\n",
    "M_FICHERO = \"metricas_7265\"\n",
    "PRE_DATA_FILE = \"rows_transpose_norm_by_gene_id_with_target_num_\"\n",
    "SCORING = \"roc_auc_ovr\"\n",
    "SEMILLA = 7265\n",
    "MAX_ITERS = 500\n",
    "eval_selector = \"SelectFromModel(estimator=RandomForestClassifier(random_state=SEMILLA), threshold=-np.inf)\"\n",
    "eval_clasifier = \"RandomForestClassifier(random_state=SEMILLA)\"\n",
    "param_distributions = {\n",
    "    \"selector__max_features\": [500],\n",
    "    \"selector__estimator__n_estimators\": [200],\n",
    "    \"clasifier__n_estimators\": [400],\n",
    "    \"clasifier__min_samples_split\": [10],\n",
    "    \"clasifier__min_samples_leaf\": [5],\n",
    "    \"clasifier__max_features\": [200],\n",
    "    \"clasifier__max_depth\": [20],\n",
    "    \"clasifier__bootstrap\": [True],\n",
    "}\n"
   ]
  },
  {
   "cell_type": "code",
   "execution_count": 4,
   "id": "c89cb7ee",
   "metadata": {
    "execution": {
     "iopub.execute_input": "2023-10-30T15:12:11.939276Z",
     "iopub.status.busy": "2023-10-30T15:12:11.938785Z",
     "iopub.status.idle": "2023-10-30T15:12:11.942051Z",
     "shell.execute_reply": "2023-10-30T15:12:11.941541Z"
    },
    "papermill": {
     "duration": 0.008979,
     "end_time": "2023-10-30T15:12:11.943275",
     "exception": false,
     "start_time": "2023-10-30T15:12:11.934296",
     "status": "completed"
    },
    "tags": []
   },
   "outputs": [],
   "source": [
    "DATA_FILE = PRE_DATA_FILE + M_TIPO\n",
    "\n",
    "# si viene \"None\" en el parámetro max_depth, se le quitan las comillas para que no sea entendido por el algoritmo como un texto\n",
    "if \"clasifier__max_depth\" in param_distributions:\n",
    "    param_distributions['clasifier__max_depth'] = [None if x == 'None' else x for x in param_distributions['clasifier__max_depth']]"
   ]
  },
  {
   "cell_type": "markdown",
   "id": "0cb61830",
   "metadata": {
    "papermill": {
     "duration": 0.003756,
     "end_time": "2023-10-30T15:12:11.950786",
     "exception": false,
     "start_time": "2023-10-30T15:12:11.947030",
     "status": "completed"
    },
    "tags": []
   },
   "source": [
    "Asignar los algoritmos que se utilizarán en la función RandomSearchCV"
   ]
  },
  {
   "cell_type": "code",
   "execution_count": 5,
   "id": "f370aa34",
   "metadata": {
    "execution": {
     "iopub.execute_input": "2023-10-30T15:12:11.959098Z",
     "iopub.status.busy": "2023-10-30T15:12:11.958627Z",
     "iopub.status.idle": "2023-10-30T15:12:11.962153Z",
     "shell.execute_reply": "2023-10-30T15:12:11.961644Z"
    },
    "papermill": {
     "duration": 0.00887,
     "end_time": "2023-10-30T15:12:11.963331",
     "exception": false,
     "start_time": "2023-10-30T15:12:11.954461",
     "status": "completed"
    },
    "tags": []
   },
   "outputs": [],
   "source": [
    "algor_selector=eval(eval_selector)\n",
    "algor_clasifier=eval(eval_clasifier)"
   ]
  },
  {
   "cell_type": "markdown",
   "id": "6873e979",
   "metadata": {
    "papermill": {
     "duration": 0.003647,
     "end_time": "2023-10-30T15:12:11.970533",
     "exception": false,
     "start_time": "2023-10-30T15:12:11.966886",
     "status": "completed"
    },
    "tags": []
   },
   "source": [
    "#### Comprobar el entorno y leer fichero de muestras"
   ]
  },
  {
   "cell_type": "code",
   "execution_count": 6,
   "id": "a8fed8f1",
   "metadata": {
    "execution": {
     "iopub.execute_input": "2023-10-30T15:12:11.979630Z",
     "iopub.status.busy": "2023-10-30T15:12:11.979120Z",
     "iopub.status.idle": "2023-10-30T15:12:12.226807Z",
     "shell.execute_reply": "2023-10-30T15:12:12.226159Z"
    },
    "papermill": {
     "duration": 0.254096,
     "end_time": "2023-10-30T15:12:12.228224",
     "exception": false,
     "start_time": "2023-10-30T15:12:11.974128",
     "status": "completed"
    },
    "tags": []
   },
   "outputs": [
    {
     "name": "stdout",
     "output_type": "stream",
     "text": [
      "20231030T161211 : enderlab : INFO : Encontrada carpeta DATA_DIR=../tfm_git/datos\n",
      "20231030T161211 : enderlab : INFO : Encontrada carpeta CFDNA_DIR=../tfm_git/datos/cfDNA_5hmC\n",
      "20231030T161211 : enderlab : INFO : Encontrada carpeta GENCODE_DIR=../tfm_git/datos/gencode\n",
      "20231030T161211 : enderlab : INFO : Encontrada carpeta H5_DIR=../tfm_git/datos/h5\n",
      "20231030T161211 : enderlab : INFO : Encontrada carpeta LOG_DIR=../tfm_git/datos/logs\n",
      "20231030T161211 : enderlab : INFO : Encontrada carpeta CSV_DIR=../tfm_git/datos/csv\n",
      "20231030T161211 : enderlab : INFO : Encontrada carpeta MODEL_DIR=../tfm_git/ejecuciones/modelos\n",
      "20231030T161211 : enderlab : INFO : Encontrada carpeta EXEC_DIR=../tfm_git/ejecuciones\n",
      "20231030T161211 : enderlab : INFO : Encontrada carpeta MET_DIR=../tfm_git/ejecuciones/metricas\n",
      "20231030T161211 : enderlab : INFO : Inicio leer fichero h5 ../tfm_git/datos/h5/rows_transpose_norm_by_gene_id_with_target_num_mul_m.h5\n",
      "20231030T161212 : enderlab : INFO : Leyendo clave /df\n"
     ]
    },
    {
     "name": "stdout",
     "output_type": "stream",
     "text": [
      "20231030T161212 : enderlab : INFO : Tamaño (434, 18876)\n",
      "20231030T161212 : enderlab : INFO : Fin leer fichero h5 ../tfm_git/datos/h5/rows_transpose_norm_by_gene_id_with_target_num_mul_m.h5\n"
     ]
    },
    {
     "data": {
      "text/plain": [
       "target\n",
       "0    62\n",
       "1    62\n",
       "2    62\n",
       "3    62\n",
       "4    62\n",
       "5    62\n",
       "6    62\n",
       "dtype: int64"
      ]
     },
     "metadata": {},
     "output_type": "display_data"
    },
    {
     "name": "stdout",
     "output_type": "stream",
     "text": [
      "Shape df: (434, 18876)\n"
     ]
    },
    {
     "name": "stdout",
     "output_type": "stream",
     "text": [
      "Shape X_train: (347, 18875)\n",
      "Shape X_test: (87, 18875)\n"
     ]
    }
   ],
   "source": [
    "start_time = datetime.datetime.now()\n",
    "\n",
    "myfunc.reset_vars()\n",
    "\n",
    "myfunc.NOTEBK_FILENAME = myfunc.get_nb_name()\n",
    "\n",
    "myfunc.check_enviroment(myfunc.DATA_DIR, myfunc.CFDNA_DIR, myfunc.GENCODE_DIR, myfunc.H5_DIR, myfunc.LOG_DIR, myfunc.CSV_DIR, myfunc.MODEL_DIR, myfunc.EXEC_DIR, myfunc.MET_DIR)\n",
    "\n",
    "# Leer fichero con las muestras\n",
    "df_t = myfunc.read_h5_to_df(DATA_FILE, myfunc.H5_DIR)\n",
    "display(df_t.groupby(\"target\").size())\n",
    "print(\"Shape df:\",df_t.shape)\n",
    "\n",
    "# Separar caracteristicas/genes de las etiquetas/tipos de cáncer\n",
    "X = df_t.iloc[:, :-1]  # Todas las columnas excepto la última\n",
    "y = df_t.iloc[:, -1]  # La última columna contiene los identificadores de los tipos de cáncer\n",
    "\n",
    "#  Crear el conjunto de datos de entrenamiento y de pruebas, y se fija la semilla para siempre coger el mismo juego de muestras\n",
    "X_train, X_test, y_train, y_test = train_test_split(X, y, test_size=0.2, shuffle=True, random_state=42)\n",
    "print(\"Shape X_train:\",X_train.shape)\n",
    "print(\"Shape X_test:\",X_test.shape)\n"
   ]
  },
  {
   "cell_type": "markdown",
   "id": "ae21a4dd",
   "metadata": {
    "papermill": {
     "duration": 0.004105,
     "end_time": "2023-10-30T15:12:12.237502",
     "exception": false,
     "start_time": "2023-10-30T15:12:12.233397",
     "status": "completed"
    },
    "tags": []
   },
   "source": [
    "#### Selección de características y clasificación."
   ]
  },
  {
   "cell_type": "code",
   "execution_count": 7,
   "id": "6ef56b8b",
   "metadata": {
    "execution": {
     "iopub.execute_input": "2023-10-30T15:12:12.247021Z",
     "iopub.status.busy": "2023-10-30T15:12:12.246432Z",
     "iopub.status.idle": "2023-10-30T15:12:41.027903Z",
     "shell.execute_reply": "2023-10-30T15:12:41.026996Z"
    },
    "papermill": {
     "duration": 28.78802,
     "end_time": "2023-10-30T15:12:41.029494",
     "exception": false,
     "start_time": "2023-10-30T15:12:12.241474",
     "status": "completed"
    },
    "tags": []
   },
   "outputs": [
    {
     "name": "stdout",
     "output_type": "stream",
     "text": [
      "20231030T161212 : enderlab : INFO : Iniciando entrenamiento\n",
      "num_iter: 1 , max_iter: 1\n",
      "Fitting 5 folds for each of 1 candidates, totalling 5 fits\n"
     ]
    },
    {
     "name": "stdout",
     "output_type": "stream",
     "text": [
      "Mejores Hiperparámetros: {'selector__max_features': 500, 'selector__estimator__n_estimators': 200, 'clasifier__n_estimators': 400, 'clasifier__min_samples_split': 10, 'clasifier__min_samples_leaf': 5, 'clasifier__max_features': 200, 'clasifier__max_depth': 20, 'clasifier__bootstrap': True}\n",
      "Mejor Puntuación: 0.8262\n",
      "20231030T161241 : enderlab : INFO : Fin entrenamiento\n"
     ]
    }
   ],
   "source": [
    "myfunc.verbose(\"Iniciando entrenamiento\")\n",
    "\n",
    "kf = KFold(n_splits=5, shuffle=True, random_state=SEMILLA)\n",
    "\n",
    "# Crear el pipeline para el flujo de tareas\n",
    "tasks_pipeline = Pipeline([\n",
    "    ('selector', algor_selector),\n",
    "    ('clasifier', algor_clasifier)\n",
    "])\n",
    "\n",
    "# MAX_ITERS puede limitar el número de iteraciones si son excesivas para las combinaciones de parámetros buscando un óptimo local, \n",
    "# sino funcionaría como GridSearchCV al revisar todas las cominaciones de los parámetros\n",
    "num_iteraciones = 1\n",
    "num_iteraciones = num_iteraciones * np.prod([len(elemento1) for _, elemento1 in param_distributions.items()])\n",
    "max_iteraciones = num_iteraciones if num_iteraciones <= MAX_ITERS else MAX_ITERS\n",
    "print(\"num_iter:\",num_iteraciones,\", max_iter:\",max_iteraciones)\n",
    "\n",
    "random_search = RandomizedSearchCV(\n",
    "    tasks_pipeline, \n",
    "    param_distributions, \n",
    "    n_iter=max_iteraciones,\n",
    "    scoring=SCORING,\n",
    "    cv=kf,\n",
    "    verbose=3, \n",
    "    random_state=SEMILLA, \n",
    "    n_jobs=-1\n",
    "    )\n",
    "\n",
    "# Entrenar el modelo\n",
    "random_search.fit(X_train, y_train)\n",
    "\n",
    "# Ver los mejores hiperparámetros encontrados\n",
    "print(f'Mejores Hiperparámetros: {random_search.best_params_}')\n",
    "print(f'Mejor Puntuación: {random_search.best_score_:.4f}')\n",
    "\n",
    "# Nos quedamos con el mejor modelo para ver las métricas\n",
    "mejor_modelo = random_search.best_estimator_\n",
    "\n",
    "myfunc.verbose(\"Fin entrenamiento\")"
   ]
  },
  {
   "cell_type": "markdown",
   "id": "9d90c093",
   "metadata": {
    "papermill": {
     "duration": 0.004293,
     "end_time": "2023-10-30T15:12:41.038594",
     "exception": false,
     "start_time": "2023-10-30T15:12:41.034301",
     "status": "completed"
    },
    "tags": []
   },
   "source": [
    "#### Guardar modelo"
   ]
  },
  {
   "cell_type": "code",
   "execution_count": 8,
   "id": "116bb6ca",
   "metadata": {
    "execution": {
     "iopub.execute_input": "2023-10-30T15:12:41.048204Z",
     "iopub.status.busy": "2023-10-30T15:12:41.047836Z",
     "iopub.status.idle": "2023-10-30T15:12:41.278872Z",
     "shell.execute_reply": "2023-10-30T15:12:41.278258Z"
    },
    "papermill": {
     "duration": 0.237606,
     "end_time": "2023-10-30T15:12:41.280296",
     "exception": false,
     "start_time": "2023-10-30T15:12:41.042690",
     "status": "completed"
    },
    "tags": []
   },
   "outputs": [
    {
     "name": "stdout",
     "output_type": "stream",
     "text": [
      "20231030T161241 : enderlab : INFO : Inicio guardar fichero ../tfm_git/ejecuciones/modelos/modelo_7265_mul_m_RF_RF.pkl\n"
     ]
    },
    {
     "name": "stdout",
     "output_type": "stream",
     "text": [
      "20231030T161241 : enderlab : INFO : Fin guardar fichero ../tfm_git/ejecuciones/modelos/modelo_7265_mul_m_RF_RF.pkl\n"
     ]
    }
   ],
   "source": [
    "fichero_modelo = str.replace(\"modelo_\"+str(SEMILLA).zfill(4)+\"_\"+M_TIPO+\"_\"+M_SELECT+\"_\"+M_CLASIF+\".pkl\", \" \", \"_\")\n",
    "\n",
    "myfunc.save_modelo(mejor_modelo, myfunc.MODEL_DIR, fichero_modelo)"
   ]
  },
  {
   "cell_type": "markdown",
   "id": "7c1fcb9d",
   "metadata": {
    "papermill": {
     "duration": 0.004436,
     "end_time": "2023-10-30T15:12:41.289392",
     "exception": false,
     "start_time": "2023-10-30T15:12:41.284956",
     "status": "completed"
    },
    "tags": []
   },
   "source": [
    "#### Ver resultados del las iteraciones hechas por RandomSearchCV"
   ]
  },
  {
   "cell_type": "code",
   "execution_count": 9,
   "id": "70ab79be",
   "metadata": {
    "execution": {
     "iopub.execute_input": "2023-10-30T15:12:41.299114Z",
     "iopub.status.busy": "2023-10-30T15:12:41.298648Z",
     "iopub.status.idle": "2023-10-30T15:12:41.305782Z",
     "shell.execute_reply": "2023-10-30T15:12:41.305237Z"
    },
    "papermill": {
     "duration": 0.013416,
     "end_time": "2023-10-30T15:12:41.307036",
     "exception": false,
     "start_time": "2023-10-30T15:12:41.293620",
     "status": "completed"
    },
    "tags": []
   },
   "outputs": [
    {
     "name": "stdout",
     "output_type": "stream",
     "text": [
      "20231030T161241 : enderlab : INFO : Inicio ver resultados\n",
      "Mejores Hiperparámetros: {'selector__max_features': 500, 'selector__estimator__n_estimators': 200, 'clasifier__n_estimators': 400, 'clasifier__min_samples_split': 10, 'clasifier__min_samples_leaf': 5, 'clasifier__max_features': 200, 'clasifier__max_depth': 20, 'clasifier__bootstrap': True}\n",
      "Mejores puntuaciones: 0.8262 | Params: {'selector__max_features': 500, 'selector__estimator__n_estimators': 200, 'clasifier__n_estimators': 400, 'clasifier__min_samples_split': 10, 'clasifier__min_samples_leaf': 5, 'clasifier__max_features': 200, 'clasifier__max_depth': 20, 'clasifier__bootstrap': True}\n",
      "Media de las puntuaciones: 0.8262 | Params: {'selector__max_features': 500, 'selector__estimator__n_estimators': 200, 'clasifier__n_estimators': 400, 'clasifier__min_samples_split': 10, 'clasifier__min_samples_leaf': 5, 'clasifier__max_features': 200, 'clasifier__max_depth': 20, 'clasifier__bootstrap': True}\n",
      "20231030T161241 : enderlab : INFO : Fin resultados\n"
     ]
    }
   ],
   "source": [
    "myfunc.ver_resultados_search(random_search)"
   ]
  },
  {
   "cell_type": "markdown",
   "id": "d7a5a7c3",
   "metadata": {
    "papermill": {
     "duration": 0.004257,
     "end_time": "2023-10-30T15:12:41.315647",
     "exception": false,
     "start_time": "2023-10-30T15:12:41.311390",
     "status": "completed"
    },
    "tags": []
   },
   "source": [
    "#### Ver métricas del mejor modelo"
   ]
  },
  {
   "cell_type": "code",
   "execution_count": 10,
   "id": "465c23db",
   "metadata": {
    "execution": {
     "iopub.execute_input": "2023-10-30T15:12:41.343724Z",
     "iopub.status.busy": "2023-10-30T15:12:41.343250Z",
     "iopub.status.idle": "2023-10-30T15:12:42.290724Z",
     "shell.execute_reply": "2023-10-30T15:12:42.290119Z"
    },
    "papermill": {
     "duration": 0.958046,
     "end_time": "2023-10-30T15:12:42.292278",
     "exception": false,
     "start_time": "2023-10-30T15:12:41.334232",
     "status": "completed"
    },
    "tags": []
   },
   "outputs": [
    {
     "name": "stdout",
     "output_type": "stream",
     "text": [
      "20231030T161241 : enderlab : INFO : Inicio ver métricas multiclase\n"
     ]
    },
    {
     "name": "stderr",
     "output_type": "stream",
     "text": [
      "/home/expsiviu/miniconda3/envs/viu/lib/python3.10/site-packages/sklearn/metrics/_classification.py:1469: UndefinedMetricWarning: Precision and F-score are ill-defined and being set to 0.0 in labels with no predicted samples. Use `zero_division` parameter to control this behavior.\n",
      "  _warn_prf(average, modifier, msg_start, len(result))\n",
      "/home/expsiviu/miniconda3/envs/viu/lib/python3.10/site-packages/sklearn/metrics/_classification.py:1469: UndefinedMetricWarning: Precision and F-score are ill-defined and being set to 0.0 in labels with no predicted samples. Use `zero_division` parameter to control this behavior.\n",
      "  _warn_prf(average, modifier, msg_start, len(result))\n",
      "/home/expsiviu/miniconda3/envs/viu/lib/python3.10/site-packages/sklearn/metrics/_classification.py:1469: UndefinedMetricWarning: Precision and F-score are ill-defined and being set to 0.0 in labels with no predicted samples. Use `zero_division` parameter to control this behavior.\n",
      "  _warn_prf(average, modifier, msg_start, len(result))\n",
      "/home/expsiviu/miniconda3/envs/viu/lib/python3.10/site-packages/sklearn/metrics/_classification.py:1469: UndefinedMetricWarning: Precision is ill-defined and being set to 0.0 in labels with no predicted samples. Use `zero_division` parameter to control this behavior.\n",
      "  _warn_prf(average, modifier, msg_start, len(result))\n"
     ]
    },
    {
     "name": "stdout",
     "output_type": "stream",
     "text": [
      "              precision    recall  f1-score   support\n",
      "\n",
      "           0       0.00      0.00      0.00        16\n",
      "           1       0.62      0.53      0.57        15\n",
      "           2       0.40      0.36      0.38        11\n",
      "           3       0.33      0.80      0.47         5\n",
      "           4       0.43      0.69      0.53        13\n",
      "           5       0.64      0.78      0.70         9\n",
      "           6       0.50      0.56      0.53        18\n",
      "\n",
      "    accuracy                           0.48        87\n",
      "   macro avg       0.42      0.53      0.45        87\n",
      "weighted avg       0.41      0.48      0.43        87\n",
      "\n",
      "\n",
      "\n",
      "           Exactitud: 0.482759\n",
      "   Precisión (media): 0.416236\n",
      "      Recall (media): 0.531802\n",
      "    F1-score (media): 0.454100\n",
      "\n",
      "\n",
      "AUC para el tipo de cáncer 0-Control.... 0.6364\n",
      "AUC para el tipo de cáncer 1-Bladder.... 0.8704\n",
      "AUC para el tipo de cáncer 2-Breast..... 0.8469\n",
      "AUC para el tipo de cáncer 3-Colorectal. 0.8512\n",
      "AUC para el tipo de cáncer 4-Kidney..... 0.8472\n",
      "AUC para el tipo de cáncer 5-Lung....... 0.9031\n",
      "AUC para el tipo de cáncer 6-Prostate... 0.8527\n",
      "\n",
      "Media de AUC: 0.8297\n"
     ]
    },
    {
     "data": {
      "image/png": "[encoded data removed]",
      "text/plain": [
       "<Figure size 1000x600 with 1 Axes>"
      ]
     },
     "metadata": {},
     "output_type": "display_data"
    },
    {
     "name": "stdout",
     "output_type": "stream",
     "text": [
      "\n",
      "\n"
     ]
    },
    {
     "data": {
      "image/png": "[encoded data removed]",
      "text/plain": [
       "<Figure size 800x400 with 2 Axes>"
      ]
     },
     "metadata": {},
     "output_type": "display_data"
    },
    {
     "name": "stdout",
     "output_type": "stream",
     "text": [
      "\n",
      "\n",
      "Puntuación Jaccard para el cáncer tipo 0-Control.... 0.0000\n",
      "Puntuación Jaccard para el cáncer tipo 1-Bladder.... 0.4000\n",
      "Puntuación Jaccard para el cáncer tipo 2-Breast..... 0.2353\n",
      "Puntuación Jaccard para el cáncer tipo 3-Colorectal. 0.3077\n",
      "Puntuación Jaccard para el cáncer tipo 4-Kidney..... 0.3600\n",
      "Puntuación Jaccard para el cáncer tipo 5-Lung....... 0.5385\n",
      "Puntuación Jaccard para el cáncer tipo 6-Prostate... 0.3571\n",
      "\n",
      "Media de la puntuación de Jaccard: 0.3141\n"
     ]
    }
   ],
   "source": [
    "if M_TIPO.startswith(\"bin\"):\n",
    "    myfunc.ver_metricas(mejor_modelo, X_test, y_test)\n",
    "else:\n",
    "    myfunc.ver_metricas_multi(mejor_modelo, X_test, y_test)\n"
   ]
  },
  {
   "cell_type": "markdown",
   "id": "c3ddfe1a",
   "metadata": {
    "papermill": {
     "duration": 0.006006,
     "end_time": "2023-10-30T15:12:42.305312",
     "exception": false,
     "start_time": "2023-10-30T15:12:42.299306",
     "status": "completed"
    },
    "tags": []
   },
   "source": [
    "#### Finalización del notebook"
   ]
  },
  {
   "cell_type": "code",
   "execution_count": 11,
   "id": "a340a8c0",
   "metadata": {
    "execution": {
     "iopub.execute_input": "2023-10-30T15:12:42.318440Z",
     "iopub.status.busy": "2023-10-30T15:12:42.317852Z",
     "iopub.status.idle": "2023-10-30T15:12:42.321566Z",
     "shell.execute_reply": "2023-10-30T15:12:42.321027Z"
    },
    "papermill": {
     "duration": 0.011518,
     "end_time": "2023-10-30T15:12:42.322783",
     "exception": false,
     "start_time": "2023-10-30T15:12:42.311265",
     "status": "completed"
    },
    "tags": []
   },
   "outputs": [
    {
     "name": "stdout",
     "output_type": "stream",
     "text": [
      "20231030T161242 : enderlab : INFO : Notebook ha tardado 30 seconds\n"
     ]
    }
   ],
   "source": [
    "end_time = datetime.datetime.now()\n",
    "total_time = end_time - start_time\n",
    "myfunc.verbose(f\"Notebook ha tardado {total_time.seconds} seconds\")"
   ]
  },
  {
   "cell_type": "markdown",
   "id": "b91fc32d",
   "metadata": {
    "papermill": {
     "duration": 0.005859,
     "end_time": "2023-10-30T15:12:42.334462",
     "exception": false,
     "start_time": "2023-10-30T15:12:42.328603",
     "status": "completed"
    },
    "tags": []
   },
   "source": [
    "#### Guardar métricas"
   ]
  },
  {
   "cell_type": "code",
   "execution_count": 12,
   "id": "4b85a54a",
   "metadata": {
    "execution": {
     "iopub.execute_input": "2023-10-30T15:12:42.347512Z",
     "iopub.status.busy": "2023-10-30T15:12:42.347149Z",
     "iopub.status.idle": "2023-10-30T15:12:42.904310Z",
     "shell.execute_reply": "2023-10-30T15:12:42.903752Z"
    },
    "papermill": {
     "duration": 0.565173,
     "end_time": "2023-10-30T15:12:42.905709",
     "exception": false,
     "start_time": "2023-10-30T15:12:42.340536",
     "status": "completed"
    },
    "tags": []
   },
   "outputs": [
    {
     "name": "stdout",
     "output_type": "stream",
     "text": [
      "20231030T161242 : enderlab : INFO : Inicio guardar métricas multiclase\n",
      "20231030T161242 : enderlab : INFO : Inicio leer fichero ../tfm_git/ejecuciones/metricas/metricas_7265.csv\n",
      "20231030T161242 : enderlab : INFO : Fin leer fichero ../tfm_git/ejecuciones/metricas/metricas_7265.csv\n"
     ]
    },
    {
     "name": "stdout",
     "output_type": "stream",
     "text": [
      "20231030T161242 : enderlab : INFO : Inicio guardar fichero ../tfm_git/ejecuciones/metricas/metricas_7265.csv\n",
      "20231030T161242 : enderlab : INFO : Fichero borrado ../tfm_git/ejecuciones/metricas/metricas_7265.csv\n",
      "20231030T161242 : enderlab : INFO : Fin guardar fichero ../tfm_git/ejecuciones/metricas/metricas_7265.csv\n",
      "20231030T161242 : enderlab : INFO : Fin guardar métricas multiclase\n",
      "20231030T161242 : enderlab : INFO : Inicio leer fichero ../tfm_git/ejecuciones/metricas/metricas_7265.csv\n",
      "20231030T161242 : enderlab : INFO : Fin leer fichero ../tfm_git/ejecuciones/metricas/metricas_7265.csv\n"
     ]
    },
    {
     "name": "stderr",
     "output_type": "stream",
     "text": [
      "/home/expsiviu/miniconda3/envs/viu/lib/python3.10/site-packages/sklearn/metrics/_classification.py:1469: UndefinedMetricWarning: Precision is ill-defined and being set to 0.0 in labels with no predicted samples. Use `zero_division` parameter to control this behavior.\n",
      "  _warn_prf(average, modifier, msg_start, len(result))\n"
     ]
    },
    {
     "data": {
      "text/html": [
       "<div>\n",
       "<style scoped>\n",
       "    .dataframe tbody tr th:only-of-type {\n",
       "        vertical-align: middle;\n",
       "    }\n",
       "\n",
       "    .dataframe tbody tr th {\n",
       "        vertical-align: top;\n",
       "    }\n",
       "\n",
       "    .dataframe thead th {\n",
       "        text-align: right;\n",
       "    }\n",
       "</style>\n",
       "<table border=\"1\" class=\"dataframe\">\n",
       "  <thead>\n",
       "    <tr style=\"text-align: right;\">\n",
       "      <th></th>\n",
       "      <th>tipo</th>\n",
       "      <th>select</th>\n",
       "      <th>clasific</th>\n",
       "      <th>semilla</th>\n",
       "      <th>accuracy</th>\n",
       "      <th>precision</th>\n",
       "      <th>recall</th>\n",
       "      <th>f1_score</th>\n",
       "      <th>roc_auc</th>\n",
       "      <th>hostname</th>\n",
       "      <th>total_time_sec</th>\n",
       "      <th>datetime</th>\n",
       "      <th>fichero_modelo</th>\n",
       "      <th>params</th>\n",
       "      <th>shape</th>\n",
       "      <th>features</th>\n",
       "      <th>roc_auc_ovr</th>\n",
       "      <th>indices_auc</th>\n",
       "      <th>indices_jaccard</th>\n",
       "    </tr>\n",
       "  </thead>\n",
       "  <tbody>\n",
       "    <tr>\n",
       "      <th>0</th>\n",
       "      <td>mul_m</td>\n",
       "      <td>RF</td>\n",
       "      <td>RF</td>\n",
       "      <td>7265</td>\n",
       "      <td>0.482759</td>\n",
       "      <td>0.416236</td>\n",
       "      <td>0.531802</td>\n",
       "      <td>0.454100</td>\n",
       "      <td>NaN</td>\n",
       "      <td>enderlab</td>\n",
       "      <td>30</td>\n",
       "      <td>2023-10-30 16:12:42.854969</td>\n",
       "      <td>modelo_7265_mul_m_RF_RF.pkl</td>\n",
       "      <td>{'selector__max_features': 500, 'selector__est...</td>\n",
       "      <td>X_test:(87, 18875)</td>\n",
       "      <td>['ENSG00000001084.13', 'ENSG00000006659.13', '...</td>\n",
       "      <td>0.829701</td>\n",
       "      <td>[0.636443661971831, 0.8703703703703702, 0.8468...</td>\n",
       "      <td>[0.0, 0.4, 0.23529411764705882, 0.307692307692...</td>\n",
       "    </tr>\n",
       "    <tr>\n",
       "      <th>0</th>\n",
       "      <td>mul_m</td>\n",
       "      <td>RF</td>\n",
       "      <td>LR_L2</td>\n",
       "      <td>7265</td>\n",
       "      <td>0.597701</td>\n",
       "      <td>0.603459</td>\n",
       "      <td>0.623576</td>\n",
       "      <td>0.588851</td>\n",
       "      <td>NaN</td>\n",
       "      <td>enderlab</td>\n",
       "      <td>45</td>\n",
       "      <td>2023-10-30 16:12:05.196603</td>\n",
       "      <td>modelo_7265_mul_m_RF_LR_L2.pkl</td>\n",
       "      <td>{'selector__max_features': 1000, 'selector__es...</td>\n",
       "      <td>X_test:(87, 18875)</td>\n",
       "      <td>['ENSG00000000938.13', 'ENSG00000001084.13', '...</td>\n",
       "      <td>0.876023</td>\n",
       "      <td>[0.8820422535211268, 0.8916666666666666, 0.770...</td>\n",
       "      <td>[0.36363636363636365, 0.5294117647058824, 0.2,...</td>\n",
       "    </tr>\n",
       "    <tr>\n",
       "      <th>0</th>\n",
       "      <td>mul_m</td>\n",
       "      <td>RF</td>\n",
       "      <td>LR_L1</td>\n",
       "      <td>7265</td>\n",
       "      <td>0.586207</td>\n",
       "      <td>0.583403</td>\n",
       "      <td>0.620127</td>\n",
       "      <td>0.574900</td>\n",
       "      <td>NaN</td>\n",
       "      <td>enderlab</td>\n",
       "      <td>1724</td>\n",
       "      <td>2023-10-30 16:11:12.016643</td>\n",
       "      <td>modelo_7265_mul_m_RF_LR_L1.pkl</td>\n",
       "      <td>{'selector__max_features': 1000, 'selector__es...</td>\n",
       "      <td>X_test:(87, 18875)</td>\n",
       "      <td>['ENSG00000000938.13', 'ENSG00000001084.13', '...</td>\n",
       "      <td>0.851490</td>\n",
       "      <td>[0.8336267605633803, 0.8925925925925926, 0.721...</td>\n",
       "      <td>[0.3157894736842105, 0.5, 0.16666666666666666,...</td>\n",
       "    </tr>\n",
       "  </tbody>\n",
       "</table>\n",
       "</div>"
      ],
      "text/plain": [
       "    tipo select clasific  semilla  accuracy  precision    recall  f1_score  \\\n",
       "0  mul_m     RF       RF     7265  0.482759   0.416236  0.531802  0.454100   \n",
       "0  mul_m     RF    LR_L2     7265  0.597701   0.603459  0.623576  0.588851   \n",
       "0  mul_m     RF    LR_L1     7265  0.586207   0.583403  0.620127  0.574900   \n",
       "\n",
       "   roc_auc  hostname  total_time_sec                    datetime  \\\n",
       "0      NaN  enderlab              30  2023-10-30 16:12:42.854969   \n",
       "0      NaN  enderlab              45  2023-10-30 16:12:05.196603   \n",
       "0      NaN  enderlab            1724  2023-10-30 16:11:12.016643   \n",
       "\n",
       "                   fichero_modelo  \\\n",
       "0     modelo_7265_mul_m_RF_RF.pkl   \n",
       "0  modelo_7265_mul_m_RF_LR_L2.pkl   \n",
       "0  modelo_7265_mul_m_RF_LR_L1.pkl   \n",
       "\n",
       "                                              params               shape  \\\n",
       "0  {'selector__max_features': 500, 'selector__est...  X_test:(87, 18875)   \n",
       "0  {'selector__max_features': 1000, 'selector__es...  X_test:(87, 18875)   \n",
       "0  {'selector__max_features': 1000, 'selector__es...  X_test:(87, 18875)   \n",
       "\n",
       "                                            features  roc_auc_ovr  \\\n",
       "0  ['ENSG00000001084.13', 'ENSG00000006659.13', '...     0.829701   \n",
       "0  ['ENSG00000000938.13', 'ENSG00000001084.13', '...     0.876023   \n",
       "0  ['ENSG00000000938.13', 'ENSG00000001084.13', '...     0.851490   \n",
       "\n",
       "                                         indices_auc  \\\n",
       "0  [0.636443661971831, 0.8703703703703702, 0.8468...   \n",
       "0  [0.8820422535211268, 0.8916666666666666, 0.770...   \n",
       "0  [0.8336267605633803, 0.8925925925925926, 0.721...   \n",
       "\n",
       "                                     indices_jaccard  \n",
       "0  [0.0, 0.4, 0.23529411764705882, 0.307692307692...  \n",
       "0  [0.36363636363636365, 0.5294117647058824, 0.2,...  \n",
       "0  [0.3157894736842105, 0.5, 0.16666666666666666,...  "
      ]
     },
     "metadata": {},
     "output_type": "display_data"
    }
   ],
   "source": [
    "if M_TIPO.startswith(\"bin\"):\n",
    "    myfunc.save_metricas_to_csv(random_search, X_test, y_test, M_TIPO, M_SELECT, M_CLASIF, total_time, SEMILLA, myfunc.MET_DIR, M_FICHERO, fichero_modelo)\n",
    "else:\n",
    "    myfunc.save_metricas_multi_to_csv(random_search, X_test, y_test, M_TIPO, M_SELECT, M_CLASIF, total_time, SEMILLA, myfunc.MET_DIR, M_FICHERO, fichero_modelo)\n",
    "\n",
    "df1=myfunc.read_metricas_to_df(myfunc.MET_DIR,M_FICHERO)\n",
    "\n",
    "display(df1.sort_values(\"datetime\", ascending=False)[:3])\n"
   ]
  },
  {
   "cell_type": "markdown",
   "id": "2310ea72",
   "metadata": {
    "papermill": {
     "duration": 0.006559,
     "end_time": "2023-10-30T15:12:42.919144",
     "exception": false,
     "start_time": "2023-10-30T15:12:42.912585",
     "status": "completed"
    },
    "tags": []
   },
   "source": [
    "#### Guardar resultados"
   ]
  },
  {
   "cell_type": "code",
   "execution_count": 13,
   "id": "e343c9d2",
   "metadata": {
    "execution": {
     "iopub.execute_input": "2023-10-30T15:12:42.933090Z",
     "iopub.status.busy": "2023-10-30T15:12:42.932610Z",
     "iopub.status.idle": "2023-10-30T15:12:42.941583Z",
     "shell.execute_reply": "2023-10-30T15:12:42.941006Z"
    },
    "papermill": {
     "duration": 0.017235,
     "end_time": "2023-10-30T15:12:42.942783",
     "exception": false,
     "start_time": "2023-10-30T15:12:42.925548",
     "status": "completed"
    },
    "tags": []
   },
   "outputs": [
    {
     "name": "stdout",
     "output_type": "stream",
     "text": [
      "20231030T161242 : enderlab : INFO : Inicio guardar resultados\n",
      "20231030T161242 : enderlab : INFO : Inicio guardar fichero ../tfm_git/ejecuciones/metricas/resultados_7265_mul_m-RF-RF.csv\n",
      "20231030T161242 : enderlab : INFO : Fin guardar fichero ../tfm_git/ejecuciones/metricas/resultados_7265_mul_m-RF-RF.csv\n",
      "20231030T161242 : enderlab : INFO : Fin guardar resultados\n"
     ]
    }
   ],
   "source": [
    "fichero_resultados=R_FICHERO+\"_\"+M_TIPO+\"-\"+M_SELECT+\"-\"+M_CLASIF+\".csv\"\n",
    "myfunc.save_resultados_to_csv(M_TIPO, M_SELECT, M_CLASIF,  random_search, myfunc.MET_DIR, fichero_resultados)\n"
   ]
  }
 ],
 "metadata": {
  "kernelspec": {
   "display_name": "Python 3 (ipykernel)",
   "language": "python",
   "name": "python3"
  },
  "language_info": {
   "codemirror_mode": {
    "name": "ipython",
    "version": 3
   },
   "file_extension": ".py",
   "mimetype": "text/x-python",
   "name": "python",
   "nbconvert_exporter": "python",
   "pygments_lexer": "ipython3",
   "version": "3.10.11"
  },
  "papermill": {
   "default_parameters": {},
   "duration": 35.996966,
   "end_time": "2023-10-30T15:12:45.567567",
   "environment_variables": {},
   "exception": null,
   "input_path": "03_entrenamiento.ipynb",
   "output_path": "ejecuciones/training/03_entrenamiento.20231030T161209.param_0000_7265_mul_m_RF_RF.output.ipynb",
   "parameters": {
    "MAX_ITERS": 500,
    "M_CLASIF": "RF",
    "M_FICHERO": "metricas_7265",
    "M_SELECT": "RF",
    "M_TIPO": "mul_m",
    "PRE_DATA_FILE": "rows_transpose_norm_by_gene_id_with_target_num_",
    "P_FICHERO": "param_0000_7265_mul_m_RF_RF.yaml",
    "R_FICHERO": "resultados_7265",
    "SCORING": "roc_auc_ovr",
    "SEMILLA": 7265,
    "eval_clasifier": "RandomForestClassifier(random_state=SEMILLA)",
    "eval_selector": "SelectFromModel(estimator=RandomForestClassifier(random_state=SEMILLA), threshold=-np.inf)",
    "param_distributions": {
     "clasifier__bootstrap": [
      true
     ],
     "clasifier__max_depth": [
      20
     ],
     "clasifier__max_features": [
      200
     ],
     "clasifier__min_samples_leaf": [
      5
     ],
     "clasifier__min_samples_split": [
      10
     ],
     "clasifier__n_estimators": [
      400
     ],
     "selector__estimator__n_estimators": [
      200
     ],
     "selector__max_features": [
      500
     ]
    }
   },
   "start_time": "2023-10-30T15:12:09.570601",
   "version": "2.4.0"
  }
 },
 "nbformat": 4,
 "nbformat_minor": 5
}