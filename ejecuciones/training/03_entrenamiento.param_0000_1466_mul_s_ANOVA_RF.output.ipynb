{
 "cells": [
  {
   "cell_type": "markdown",
   "id": "09392acb",
   "metadata": {
    "papermill": {
     "duration": 0.00421,
     "end_time": "2023-10-30T03:20:44.611844",
     "exception": false,
     "start_time": "2023-10-30T03:20:44.607634",
     "status": "completed"
    },
    "tags": []
   },
   "source": [
    "##### Inicio"
   ]
  },
  {
   "cell_type": "markdown",
   "id": "40b993dd",
   "metadata": {
    "papermill": {
     "duration": 0.003406,
     "end_time": "2023-10-30T03:20:44.618940",
     "exception": false,
     "start_time": "2023-10-30T03:20:44.615534",
     "status": "completed"
    },
    "tags": []
   },
   "source": [
    "#### Carga de datos"
   ]
  },
  {
   "cell_type": "code",
   "execution_count": 1,
   "id": "a82f385e",
   "metadata": {
    "execution": {
     "iopub.execute_input": "2023-10-30T03:20:44.627386Z",
     "iopub.status.busy": "2023-10-30T03:20:44.627146Z",
     "iopub.status.idle": "2023-10-30T03:20:45.489669Z",
     "shell.execute_reply": "2023-10-30T03:20:45.489141Z"
    },
    "papermill": {
     "duration": 0.868462,
     "end_time": "2023-10-30T03:20:45.490929",
     "exception": false,
     "start_time": "2023-10-30T03:20:44.622467",
     "status": "completed"
    },
    "tags": []
   },
   "outputs": [
    {
     "name": "stdout",
     "output_type": "stream",
     "text": [
      "CPU_COUNT: 8; NODE: amilcar22; sys.version: 3.10.12 (main, Jul  5 2023, 19:22:19) [GCC 11.2.0]\n",
      "LOKY_MAX_CPU_COUNT: 6\n",
      "OMP_NUM_THREADS: 2\n"
     ]
    }
   ],
   "source": [
    "import os\n",
    "import numpy as np\n",
    "import pandas as pd\n",
    "import datetime\n",
    "import sklearn\n",
    "import logging\n",
    "import warnings\n",
    "\n",
    "from sklearn.pipeline import Pipeline\n",
    "from sklearn.model_selection import RandomizedSearchCV, KFold, cross_val_score, train_test_split\n",
    "from sklearn.metrics import accuracy_score, confusion_matrix, classification_report, roc_auc_score\n",
    "\n",
    "#  cargar algoritmos para aprendizaje supervisado\n",
    "from sklearn.feature_selection import SelectKBest, f_classif, SelectFromModel, mutual_info_classif\n",
    "from sklearn.svm import SVC\n",
    "from sklearn.ensemble import RandomForestClassifier\n",
    "from sklearn.linear_model import LogisticRegression,LogisticRegressionCV\n",
    "\n",
    "# importar fichero con utilidades propias\n",
    "from commons import myfunctions as myfunc\n"
   ]
  },
  {
   "cell_type": "markdown",
   "id": "80b804e7",
   "metadata": {
    "papermill": {
     "duration": 0.002681,
     "end_time": "2023-10-30T03:20:45.496798",
     "exception": false,
     "start_time": "2023-10-30T03:20:45.494117",
     "status": "completed"
    },
    "tags": []
   },
   "source": [
    "#### Parámetros a utilizar en el entrenamiento.\n",
    "\n",
    "Se indican los 3 algoritmos de *selección de características* (eval_selector_xxx) y los 3 algoritmos para la _clasificación_ (eval_clasifier_xxx)\n",
    "\n",
    "En *param_distributions* se indicar los parámetros que utilizan los algoritmos en la función RandomSearchCV.\n",
    "\n",
    "Esta celda tiene la etiqueta **parameters** que servirá para poder lanzar los entrenamientos con la utilidad **papermill** pasándole un fichero con los parámetros. Los nuevos parámetros se situarán tras esta celda para tener prevalencia."
   ]
  },
  {
   "cell_type": "code",
   "execution_count": 2,
   "id": "f6186668",
   "metadata": {
    "execution": {
     "iopub.execute_input": "2023-10-30T03:20:45.502730Z",
     "iopub.status.busy": "2023-10-30T03:20:45.502430Z",
     "iopub.status.idle": "2023-10-30T03:20:45.509271Z",
     "shell.execute_reply": "2023-10-30T03:20:45.508862Z"
    },
    "papermill": {
     "duration": 0.011152,
     "end_time": "2023-10-30T03:20:45.510407",
     "exception": false,
     "start_time": "2023-10-30T03:20:45.499255",
     "status": "completed"
    },
    "tags": [
     "parameters"
    ]
   },
   "outputs": [
    {
     "name": "stdout",
     "output_type": "stream",
     "text": [
      "20231030T042045 : amilcar22 : INFO : Utilizando parámetros de mul_m\n"
     ]
    }
   ],
   "source": [
    "#  Parametros para el entrenamiento\n",
    "\n",
    "SEMILLA=        42\n",
    "M_TIPO=         \"mul_m\"\n",
    "M_SELECT=       \"MI\"\n",
    "M_CLASIF=       \"SVM\"\n",
    "R_FICHERO=      \"resultados\"\n",
    "M_FICHERO=      \"metricas\"\n",
    "PRE_DATA_FILE=  \"rows_transpose_norm_by_gene_id_with_target_num_\"\n",
    "SCORING=        \"roc_auc_ovr\" \n",
    "MAX_ITERS=      100\n",
    "\n",
    "def mutual_info_classif_state(X, y):\n",
    "    return mutual_info_classif(X, y, random_state=SEMILLA)\n",
    "\n",
    "eval_selector_mi = \"SelectKBest(score_func=mutual_info_classif_state)\"\n",
    "eval_selector_rf=  \"SelectFromModel(estimator=RandomForestClassifier(random_state=SEMILLA), threshold=-np.inf)\"\n",
    "eval_selector_anova=  \"SelectKBest(score_func=f_classif)\"\n",
    "\n",
    "eval_clasifier_svm= \"SVC(probability=True, random_state=SEMILLA)\"\n",
    "eval_clasifier_rf= \"RandomForestClassifier(random_state=SEMILLA)\"\n",
    "eval_clasifier_lr= \"LogisticRegressionCV(random_state=SEMILLA)\"\n",
    "\n",
    "if M_TIPO.startswith(\"bin_m\"):\n",
    "    myfunc.verbose(f\"Utilizando parámetros de {M_TIPO}\")\n",
    "    eval_selector = eval_selector_mi\n",
    "    eval_clasifier = eval_clasifier_svm\n",
    "\n",
    "    SEMILLA = 6578\n",
    "    M_SELECT = \"MI\"\n",
    "    M_CLASIF = \"SVM\"\n",
    "    param_distributions = {'selector__k': [1000], \n",
    "         'clasifier__kernel': ['rbf'], 'clasifier__gamma': [0.01], 'clasifier__C': [100]}\n",
    "elif M_TIPO.startswith(\"bin_s\"):\n",
    "    myfunc.verbose(f\"Utilizando parámetros de {M_TIPO}\")\n",
    "    eval_selector = eval_selector_rf\n",
    "    eval_clasifier = eval_clasifier_lr\n",
    "\n",
    "    SEMILLA = 6191\n",
    "    M_SELECT = \"RF\"\n",
    "    M_CLASIF = \"LR_L2\"\n",
    "    param_distributions = {'selector__max_features': [1000], 'selector__estimator__n_estimators': [200], \n",
    "        'clasifier__solver': ['lbfgs'], 'clasifier__penalty': ['l2'], 'clasifier__max_iter': [10000]}\n",
    "\n",
    "elif M_TIPO.startswith(\"mul_m\"):\n",
    "    myfunc.verbose(f\"Utilizando parámetros de {M_TIPO}\")\n",
    " \n",
    "    eval_selector = eval_selector_rf\n",
    "    eval_clasifier = eval_clasifier_lr\n",
    "\n",
    "    SEMILLA = 6191\n",
    "    M_SELECT = \"RF\"\n",
    "    M_CLASIF = \"LR_L2\"\n",
    "    param_distributions = {'selector__max_features': [1000], 'selector__estimator__n_estimators': [400], \n",
    "        'clasifier__solver': ['lbfgs'], 'clasifier__penalty': ['l2'], 'clasifier__max_iter': [10000]}\n",
    "\n",
    "else:\n",
    "    # M_TIPO.startswith(\"mul_s\"):\n",
    "    myfunc.verbose(f\"Utilizando parámetros de {M_TIPO}\")\n",
    "    eval_selector = eval_selector_anova\n",
    "    eval_clasifier = eval_clasifier_lr\n",
    "\n",
    "    SEMILLA = 1860\n",
    "    M_SELECT = \"ANOVA\"\n",
    "    M_CLASIF = \"LR_L2\"\n",
    "    param_distributions = {'selector__k': [1000], \n",
    "        'clasifier__solver': ['saga'], 'clasifier__penalty': ['l2'], 'clasifier__max_iter': [10000]}\n",
    "\n"
   ]
  },
  {
   "cell_type": "code",
   "execution_count": 3,
   "id": "5d165ab6",
   "metadata": {
    "execution": {
     "iopub.execute_input": "2023-10-30T03:20:45.516668Z",
     "iopub.status.busy": "2023-10-30T03:20:45.516468Z",
     "iopub.status.idle": "2023-10-30T03:20:45.520201Z",
     "shell.execute_reply": "2023-10-30T03:20:45.519773Z"
    },
    "papermill": {
     "duration": 0.008134,
     "end_time": "2023-10-30T03:20:45.521366",
     "exception": false,
     "start_time": "2023-10-30T03:20:45.513232",
     "status": "completed"
    },
    "tags": [
     "injected-parameters"
    ]
   },
   "outputs": [],
   "source": [
    "# Parameters\n",
    "M_TIPO = \"mul_s\"\n",
    "M_SELECT = \"ANOVA\"\n",
    "M_CLASIF = \"RF\"\n",
    "P_FICHERO = \"param_0000_1466_mul_s_ANOVA_RF.yaml\"\n",
    "R_FICHERO = \"resultados_1466\"\n",
    "M_FICHERO = \"metricas_1466\"\n",
    "PRE_DATA_FILE = \"rows_transpose_norm_by_gene_id_with_target_num_\"\n",
    "SCORING = \"roc_auc_ovr\"\n",
    "SEMILLA = 1466\n",
    "MAX_ITERS = 500\n",
    "eval_selector = \"SelectKBest(score_func=f_classif)\"\n",
    "eval_clasifier = \"RandomForestClassifier(random_state=SEMILLA)\"\n",
    "param_distributions = {\n",
    "    \"selector__k\": [500],\n",
    "    \"clasifier__n_estimators\": [200],\n",
    "    \"clasifier__min_samples_split\": [10],\n",
    "    \"clasifier__min_samples_leaf\": [5],\n",
    "    \"clasifier__max_features\": [200],\n",
    "    \"clasifier__max_depth\": [10],\n",
    "    \"clasifier__bootstrap\": [True],\n",
    "}\n"
   ]
  },
  {
   "cell_type": "code",
   "execution_count": 4,
   "id": "b7be898e",
   "metadata": {
    "execution": {
     "iopub.execute_input": "2023-10-30T03:20:45.527463Z",
     "iopub.status.busy": "2023-10-30T03:20:45.527276Z",
     "iopub.status.idle": "2023-10-30T03:20:45.530198Z",
     "shell.execute_reply": "2023-10-30T03:20:45.529762Z"
    },
    "papermill": {
     "duration": 0.007227,
     "end_time": "2023-10-30T03:20:45.531342",
     "exception": false,
     "start_time": "2023-10-30T03:20:45.524115",
     "status": "completed"
    },
    "tags": []
   },
   "outputs": [],
   "source": [
    "DATA_FILE = PRE_DATA_FILE + M_TIPO\n",
    "\n",
    "# si viene \"None\" en el parámetro max_depth, se le quitan las comillas para que no sea entendido por el algoritmo como un texto\n",
    "if \"clasifier__max_depth\" in param_distributions:\n",
    "    param_distributions['clasifier__max_depth'] = [None if x == 'None' else x for x in param_distributions['clasifier__max_depth']]"
   ]
  },
  {
   "cell_type": "markdown",
   "id": "2667b3d3",
   "metadata": {
    "papermill": {
     "duration": 0.002724,
     "end_time": "2023-10-30T03:20:45.536916",
     "exception": false,
     "start_time": "2023-10-30T03:20:45.534192",
     "status": "completed"
    },
    "tags": []
   },
   "source": [
    "Asignar los algoritmos que se utilizarán en la función RandomSearchCV"
   ]
  },
  {
   "cell_type": "code",
   "execution_count": 5,
   "id": "fdf4db72",
   "metadata": {
    "execution": {
     "iopub.execute_input": "2023-10-30T03:20:45.543199Z",
     "iopub.status.busy": "2023-10-30T03:20:45.543029Z",
     "iopub.status.idle": "2023-10-30T03:20:45.545700Z",
     "shell.execute_reply": "2023-10-30T03:20:45.545234Z"
    },
    "papermill": {
     "duration": 0.007206,
     "end_time": "2023-10-30T03:20:45.546963",
     "exception": false,
     "start_time": "2023-10-30T03:20:45.539757",
     "status": "completed"
    },
    "tags": []
   },
   "outputs": [],
   "source": [
    "algor_selector=eval(eval_selector)\n",
    "algor_clasifier=eval(eval_clasifier)"
   ]
  },
  {
   "cell_type": "markdown",
   "id": "d881dd7e",
   "metadata": {
    "papermill": {
     "duration": 0.00327,
     "end_time": "2023-10-30T03:20:45.553519",
     "exception": false,
     "start_time": "2023-10-30T03:20:45.550249",
     "status": "completed"
    },
    "tags": []
   },
   "source": [
    "#### Comprobar el entorno y leer fichero de muestras"
   ]
  },
  {
   "cell_type": "code",
   "execution_count": 6,
   "id": "c5c16e9b",
   "metadata": {
    "execution": {
     "iopub.execute_input": "2023-10-30T03:20:45.561196Z",
     "iopub.status.busy": "2023-10-30T03:20:45.561018Z",
     "iopub.status.idle": "2023-10-30T03:20:45.686389Z",
     "shell.execute_reply": "2023-10-30T03:20:45.685879Z"
    },
    "papermill": {
     "duration": 0.130769,
     "end_time": "2023-10-30T03:20:45.687751",
     "exception": false,
     "start_time": "2023-10-30T03:20:45.556982",
     "status": "completed"
    },
    "tags": []
   },
   "outputs": [
    {
     "name": "stdout",
     "output_type": "stream",
     "text": [
      "20231030T042045 : amilcar22 : INFO : Encontrada carpeta DATA_DIR=../tfm_git/datos\n",
      "20231030T042045 : amilcar22 : INFO : Encontrada carpeta CFDNA_DIR=../tfm_git/datos/cfDNA_5hmC\n",
      "20231030T042045 : amilcar22 : INFO : Encontrada carpeta GENCODE_DIR=../tfm_git/datos/gencode\n",
      "20231030T042045 : amilcar22 : INFO : Encontrada carpeta H5_DIR=../tfm_git/datos/h5\n",
      "20231030T042045 : amilcar22 : INFO : Encontrada carpeta LOG_DIR=../tfm_git/datos/logs\n",
      "20231030T042045 : amilcar22 : INFO : Encontrada carpeta CSV_DIR=../tfm_git/datos/csv\n",
      "20231030T042045 : amilcar22 : INFO : Encontrada carpeta MODEL_DIR=../tfm_git/ejecuciones/modelos\n",
      "20231030T042045 : amilcar22 : INFO : Encontrada carpeta EXEC_DIR=../tfm_git/ejecuciones\n",
      "20231030T042045 : amilcar22 : INFO : Encontrada carpeta MET_DIR=../tfm_git/ejecuciones/metricas\n",
      "20231030T042045 : amilcar22 : INFO : Inicio leer fichero h5 ../tfm_git/datos/h5/rows_transpose_norm_by_gene_id_with_target_num_mul_s.h5\n",
      "20231030T042045 : amilcar22 : INFO : Leyendo clave /df\n",
      "20231030T042045 : amilcar22 : INFO : Tamaño (259, 18876)\n",
      "20231030T042045 : amilcar22 : INFO : Fin leer fichero h5 ../tfm_git/datos/h5/rows_transpose_norm_by_gene_id_with_target_num_mul_s.h5\n"
     ]
    },
    {
     "data": {
      "text/plain": [
       "target\n",
       "0    37\n",
       "1    37\n",
       "2    37\n",
       "3    37\n",
       "4    37\n",
       "5    37\n",
       "6    37\n",
       "dtype: int64"
      ]
     },
     "metadata": {},
     "output_type": "display_data"
    },
    {
     "name": "stdout",
     "output_type": "stream",
     "text": [
      "Shape df: (259, 18876)\n",
      "Shape X_train: (207, 18875)\n",
      "Shape X_test: (52, 18875)\n"
     ]
    }
   ],
   "source": [
    "start_time = datetime.datetime.now()\n",
    "\n",
    "myfunc.reset_vars()\n",
    "\n",
    "myfunc.NOTEBK_FILENAME = myfunc.get_nb_name()\n",
    "\n",
    "myfunc.check_enviroment(myfunc.DATA_DIR, myfunc.CFDNA_DIR, myfunc.GENCODE_DIR, myfunc.H5_DIR, myfunc.LOG_DIR, myfunc.CSV_DIR, myfunc.MODEL_DIR, myfunc.EXEC_DIR, myfunc.MET_DIR)\n",
    "\n",
    "# Leer fichero con las muestras\n",
    "df_t = myfunc.read_h5_to_df(DATA_FILE, myfunc.H5_DIR)\n",
    "display(df_t.groupby(\"target\").size())\n",
    "print(\"Shape df:\",df_t.shape)\n",
    "\n",
    "# Separar caracteristicas/genes de las etiquetas/tipos de cáncer\n",
    "X = df_t.iloc[:, :-1]  # Todas las columnas excepto la última\n",
    "y = df_t.iloc[:, -1]  # La última columna contiene los identificadores de los tipos de cáncer\n",
    "\n",
    "#  Crear el conjunto de datos de entrenamiento y de pruebas, y se fija la semilla para siempre coger el mismo juego de muestras\n",
    "X_train, X_test, y_train, y_test = train_test_split(X, y, test_size=0.2, shuffle=True, random_state=42)\n",
    "print(\"Shape X_train:\",X_train.shape)\n",
    "print(\"Shape X_test:\",X_test.shape)\n"
   ]
  },
  {
   "cell_type": "markdown",
   "id": "6420e0d0",
   "metadata": {
    "papermill": {
     "duration": 0.003029,
     "end_time": "2023-10-30T03:20:45.694202",
     "exception": false,
     "start_time": "2023-10-30T03:20:45.691173",
     "status": "completed"
    },
    "tags": []
   },
   "source": [
    "#### Selección de características y clasificación."
   ]
  },
  {
   "cell_type": "code",
   "execution_count": 7,
   "id": "9a599deb",
   "metadata": {
    "execution": {
     "iopub.execute_input": "2023-10-30T03:20:45.700853Z",
     "iopub.status.busy": "2023-10-30T03:20:45.700656Z",
     "iopub.status.idle": "2023-10-30T03:20:52.075565Z",
     "shell.execute_reply": "2023-10-30T03:20:52.074859Z"
    },
    "papermill": {
     "duration": 6.379729,
     "end_time": "2023-10-30T03:20:52.076925",
     "exception": false,
     "start_time": "2023-10-30T03:20:45.697196",
     "status": "completed"
    },
    "tags": []
   },
   "outputs": [
    {
     "name": "stdout",
     "output_type": "stream",
     "text": [
      "20231030T042045 : amilcar22 : INFO : Iniciando entrenamiento\n",
      "num_iter: 1 , max_iter: 1\n"
     ]
    },
    {
     "name": "stdout",
     "output_type": "stream",
     "text": [
      "Fitting 5 folds for each of 1 candidates, totalling 5 fits\n"
     ]
    },
    {
     "name": "stderr",
     "output_type": "stream",
     "text": [
      "/home/antonio/miniconda3/lib/python3.10/site-packages/sklearn/feature_selection/_univariate_selection.py:112: UserWarning: Features [  298  1017  1508  1733  1846  2010  2222  2265  2266  2553  2688  2802\n",
      "  2803  2833  2896  2937  3248  3415  3492  3804  4075  5803  6053  6981\n",
      "  6984  6988  7416  7418  8508  8510  8513  8890  9087  9490 10035 10475\n",
      " 11020 11613 11943 11996 12249 12433 12480 12831 12869 12940 13047 13235\n",
      " 13259 13836 13848 13860 13959 14000 14015 14244 14245 14451 14789 14795\n",
      " 14941 15515 15563 15824 15874 16258 16262 16267 16268 16281 16287 16313\n",
      " 16323 16350 16372 16630 16701 16905 16906 16968 17024 17047 17091 17093\n",
      " 17231 17264 17274 17300 17312 17540 18350 18368 18374 18375 18405 18421\n",
      " 18486 18592 18692 18868] are constant.\n",
      "  warnings.warn(\"Features %s are constant.\" % constant_features_idx, UserWarning)\n",
      "/home/antonio/miniconda3/lib/python3.10/site-packages/sklearn/feature_selection/_univariate_selection.py:113: RuntimeWarning: invalid value encountered in divide\n",
      "  f = msb / msw\n",
      "/home/antonio/miniconda3/lib/python3.10/site-packages/sklearn/feature_selection/_univariate_selection.py:112: UserWarning: Features [  298  1508  1733  1846  2010  2222  2265  2266  2273  2553  2688  2802\n",
      "  2803  2833  2896  3248  3415  3492  4075  5490  5803  6053  6981  6984\n",
      "  7418  8508  8510  8513  8890  9087  9490 10475 11020 11021 11022 11565\n",
      " 11613 11943 12249 12480 12518 12831 13235 13259 13836 13959 14000 14015\n",
      " 14244 14245 14451 14789 14795 14941 15397 15401 15515 15563 15785 15824\n",
      " 15874 16258 16267 16268 16281 16287 16294 16313 16322 16323 16339 16347\n",
      " 16350 16372 16565 16630 16701 16870 16905 16906 16956 16968 17047 17055\n",
      " 17075 17091 17093 17231 17264 17274 17300 17312 17540 17741 18153 18241\n",
      " 18245 18350 18368 18374 18375 18381 18405 18486 18592 18608 18692 18698\n",
      " 18868] are constant.\n",
      "  warnings.warn(\"Features %s are constant.\" % constant_features_idx, UserWarning)\n",
      "/home/antonio/miniconda3/lib/python3.10/site-packages/sklearn/feature_selection/_univariate_selection.py:113: RuntimeWarning: invalid value encountered in divide\n",
      "  f = msb / msw\n",
      "/home/antonio/miniconda3/lib/python3.10/site-packages/sklearn/feature_selection/_univariate_selection.py:112: UserWarning: Features [   93   298  1508  1733  1846  2010  2222  2265  2266  2553  2688  2802\n",
      "  2803  2833  2896  3248  3415  3492  4075  4306  5533  5803  6053  6981\n",
      "  6984  7418  8508  8510  8513  8791  8890  9087  9490 10475 11020 11613\n",
      " 11943 12249 12480 12831 13235 13259 13836 13959 14000 14015 14244 14245\n",
      " 14451 14789 14795 14924 14941 15515 15516 15563 15824 15874 16205 16237\n",
      " 16258 16267 16268 16281 16287 16312 16313 16323 16350 16372 16520 16630\n",
      " 16679 16701 16731 16905 16906 16968 17047 17091 17093 17120 17231 17264\n",
      " 17274 17300 17312 17540 17566 17679 18288 18350 18368 18374 18375 18405\n",
      " 18486 18592 18692 18868] are constant.\n",
      "  warnings.warn(\"Features %s are constant.\" % constant_features_idx, UserWarning)\n",
      "/home/antonio/miniconda3/lib/python3.10/site-packages/sklearn/feature_selection/_univariate_selection.py:113: RuntimeWarning: invalid value encountered in divide\n",
      "  f = msb / msw\n"
     ]
    },
    {
     "name": "stderr",
     "output_type": "stream",
     "text": [
      "/home/antonio/miniconda3/lib/python3.10/site-packages/sklearn/feature_selection/_univariate_selection.py:112: UserWarning: Features [  298  1085  1508  1733  1846  2006  2010  2222  2265  2266  2553  2555\n",
      "  2688  2802  2803  2833  2896  2957  3248  3415  3492  4075  5668  5803\n",
      "  6053  6981  6984  7418  8314  8508  8510  8511  8512  8513  8890  9087\n",
      "  9090  9490 10475 10477 11020 11562 11613 11943 12249 12421 12480 12489\n",
      " 12831 12973 13225 13235 13259 13300 13577 13836 13959 14000 14015 14244\n",
      " 14245 14451 14789 14794 14795 14941 15071 15515 15563 15824 15874 16018\n",
      " 16235 16258 16267 16268 16276 16277 16281 16287 16313 16318 16323 16350\n",
      " 16372 16519 16630 16701 16704 16905 16906 16968 17047 17091 17093 17231\n",
      " 17264 17269 17273 17274 17300 17312 17520 17540 17963 18350 18368 18374\n",
      " 18375 18405 18486 18530 18592 18692 18868] are constant.\n",
      "  warnings.warn(\"Features %s are constant.\" % constant_features_idx, UserWarning)\n",
      "/home/antonio/miniconda3/lib/python3.10/site-packages/sklearn/feature_selection/_univariate_selection.py:113: RuntimeWarning: invalid value encountered in divide\n",
      "  f = msb / msw\n",
      "/home/antonio/miniconda3/lib/python3.10/site-packages/sklearn/feature_selection/_univariate_selection.py:112: UserWarning: Features [  298  1508  1733  1846  2010  2222  2265  2266  2553  2688  2725  2802\n",
      "  2803  2833  2896  3248  3415  3492  4075  5803  6053  6981  6984  7418\n",
      "  8508  8510  8513  8890  9087  9490 10475 11020 11260 11613 11943 12249\n",
      " 12480 12831 12888 13235 13259 13836 13841 13959 14000 14015 14244 14245\n",
      " 14451 14559 14735 14789 14795 14941 15183 15515 15563 15824 15874 15881\n",
      " 15979 16244 16245 16258 16260 16267 16268 16278 16279 16281 16287 16313\n",
      " 16323 16327 16349 16350 16372 16373 16630 16667 16687 16701 16819 16905\n",
      " 16906 16968 17047 17091 17093 17231 17264 17274 17300 17312 17418 17540\n",
      " 17644 17948 18350 18368 18374 18375 18405 18486 18592 18679 18692 18868] are constant.\n",
      "  warnings.warn(\"Features %s are constant.\" % constant_features_idx, UserWarning)\n",
      "/home/antonio/miniconda3/lib/python3.10/site-packages/sklearn/feature_selection/_univariate_selection.py:113: RuntimeWarning: invalid value encountered in divide\n",
      "  f = msb / msw\n"
     ]
    },
    {
     "name": "stderr",
     "output_type": "stream",
     "text": [
      "/home/antonio/miniconda3/lib/python3.10/site-packages/sklearn/feature_selection/_univariate_selection.py:112: UserWarning: Features [  298  1508  1733  1846  2010  2222  2265  2266  2553  2688  2802  2803\n",
      "  2833  2896  3248  3415  3492  4075  5803  6053  6981  6984  7418  8508\n",
      "  8510  8513  8890  9087  9490 10475 11020 11613 11943 12249 12480 12831\n",
      " 13235 13259 13836 13959 14000 14015 14244 14245 14451 14789 14795 14941\n",
      " 15515 15563 15824 15874 16258 16267 16268 16281 16287 16313 16323 16350\n",
      " 16372 16630 16701 16905 16906 16968 17047 17091 17093 17231 17264 17274\n",
      " 17300 17312 17540 18350 18368 18374 18375 18405 18486 18592 18692 18868] are constant.\n",
      "  warnings.warn(\"Features %s are constant.\" % constant_features_idx, UserWarning)\n",
      "/home/antonio/miniconda3/lib/python3.10/site-packages/sklearn/feature_selection/_univariate_selection.py:113: RuntimeWarning: invalid value encountered in divide\n",
      "  f = msb / msw\n"
     ]
    },
    {
     "name": "stdout",
     "output_type": "stream",
     "text": [
      "Mejores Hiperparámetros: {'selector__k': 500, 'clasifier__n_estimators': 200, 'clasifier__min_samples_split': 10, 'clasifier__min_samples_leaf': 5, 'clasifier__max_features': 200, 'clasifier__max_depth': 10, 'clasifier__bootstrap': True}\n",
      "Mejor Puntuación: 0.7523\n",
      "20231030T042052 : amilcar22 : INFO : Fin entrenamiento\n"
     ]
    }
   ],
   "source": [
    "myfunc.verbose(\"Iniciando entrenamiento\")\n",
    "\n",
    "kf = KFold(n_splits=5, shuffle=True, random_state=SEMILLA)\n",
    "\n",
    "# Crear el pipeline para el flujo de tareas\n",
    "tasks_pipeline = Pipeline([\n",
    "    ('selector', algor_selector),\n",
    "    ('clasifier', algor_clasifier)\n",
    "])\n",
    "\n",
    "# MAX_ITERS puede limitar el número de iteraciones si son excesivas para las combinaciones de parámetros buscando un óptimo local, \n",
    "# sino funcionaría como GridSearchCV al revisar todas las cominaciones de los parámetros\n",
    "num_iteraciones = 1\n",
    "num_iteraciones = num_iteraciones * np.prod([len(elemento1) for _, elemento1 in param_distributions.items()])\n",
    "max_iteraciones = num_iteraciones if num_iteraciones <= MAX_ITERS else MAX_ITERS\n",
    "print(\"num_iter:\",num_iteraciones,\", max_iter:\",max_iteraciones)\n",
    "\n",
    "random_search = RandomizedSearchCV(\n",
    "    tasks_pipeline, \n",
    "    param_distributions, \n",
    "    n_iter=max_iteraciones,\n",
    "    scoring=SCORING,\n",
    "    cv=kf,\n",
    "    verbose=3, \n",
    "    random_state=SEMILLA, \n",
    "    n_jobs=-1\n",
    "    )\n",
    "\n",
    "# Entrenar el modelo\n",
    "random_search.fit(X_train, y_train)\n",
    "\n",
    "# Ver los mejores hiperparámetros encontrados\n",
    "print(f'Mejores Hiperparámetros: {random_search.best_params_}')\n",
    "print(f'Mejor Puntuación: {random_search.best_score_:.4f}')\n",
    "\n",
    "# Nos quedamos con el mejor modelo para ver las métricas\n",
    "mejor_modelo = random_search.best_estimator_\n",
    "\n",
    "myfunc.verbose(\"Fin entrenamiento\")"
   ]
  },
  {
   "cell_type": "markdown",
   "id": "ef018a2c",
   "metadata": {
    "papermill": {
     "duration": 0.003032,
     "end_time": "2023-10-30T03:20:52.083365",
     "exception": false,
     "start_time": "2023-10-30T03:20:52.080333",
     "status": "completed"
    },
    "tags": []
   },
   "source": [
    "#### Guardar modelo"
   ]
  },
  {
   "cell_type": "code",
   "execution_count": 8,
   "id": "d4ba8d44",
   "metadata": {
    "execution": {
     "iopub.execute_input": "2023-10-30T03:20:52.090404Z",
     "iopub.status.busy": "2023-10-30T03:20:52.090198Z",
     "iopub.status.idle": "2023-10-30T03:20:52.155738Z",
     "shell.execute_reply": "2023-10-30T03:20:52.155089Z"
    },
    "papermill": {
     "duration": 0.070743,
     "end_time": "2023-10-30T03:20:52.157094",
     "exception": false,
     "start_time": "2023-10-30T03:20:52.086351",
     "status": "completed"
    },
    "tags": []
   },
   "outputs": [
    {
     "name": "stdout",
     "output_type": "stream",
     "text": [
      "20231030T042052 : amilcar22 : INFO : Inicio guardar fichero ../tfm_git/ejecuciones/modelos/modelo_1466_mul_s_ANOVA_RF.pkl\n",
      "20231030T042052 : amilcar22 : INFO : Fin guardar fichero ../tfm_git/ejecuciones/modelos/modelo_1466_mul_s_ANOVA_RF.pkl\n"
     ]
    }
   ],
   "source": [
    "fichero_modelo = str.replace(\"modelo_\"+str(SEMILLA).zfill(4)+\"_\"+M_TIPO+\"_\"+M_SELECT+\"_\"+M_CLASIF+\".pkl\", \" \", \"_\")\n",
    "\n",
    "myfunc.save_modelo(mejor_modelo, myfunc.MODEL_DIR, fichero_modelo)"
   ]
  },
  {
   "cell_type": "markdown",
   "id": "68023ed1",
   "metadata": {
    "papermill": {
     "duration": 0.003303,
     "end_time": "2023-10-30T03:20:52.163665",
     "exception": false,
     "start_time": "2023-10-30T03:20:52.160362",
     "status": "completed"
    },
    "tags": []
   },
   "source": [
    "#### Ver resultados del las iteraciones hechas por RandomSearchCV"
   ]
  },
  {
   "cell_type": "code",
   "execution_count": 9,
   "id": "aa5e53b0",
   "metadata": {
    "execution": {
     "iopub.execute_input": "2023-10-30T03:20:52.170641Z",
     "iopub.status.busy": "2023-10-30T03:20:52.170441Z",
     "iopub.status.idle": "2023-10-30T03:20:52.176519Z",
     "shell.execute_reply": "2023-10-30T03:20:52.175993Z"
    },
    "papermill": {
     "duration": 0.01104,
     "end_time": "2023-10-30T03:20:52.177752",
     "exception": false,
     "start_time": "2023-10-30T03:20:52.166712",
     "status": "completed"
    },
    "tags": []
   },
   "outputs": [
    {
     "name": "stdout",
     "output_type": "stream",
     "text": [
      "20231030T042052 : amilcar22 : INFO : Inicio ver resultados\n",
      "Mejores Hiperparámetros: {'selector__k': 500, 'clasifier__n_estimators': 200, 'clasifier__min_samples_split': 10, 'clasifier__min_samples_leaf': 5, 'clasifier__max_features': 200, 'clasifier__max_depth': 10, 'clasifier__bootstrap': True}\n",
      "Mejores puntuaciones: 0.7523 | Params: {'selector__k': 500, 'clasifier__n_estimators': 200, 'clasifier__min_samples_split': 10, 'clasifier__min_samples_leaf': 5, 'clasifier__max_features': 200, 'clasifier__max_depth': 10, 'clasifier__bootstrap': True}\n",
      "Media de las puntuaciones: 0.7523 | Params: {'selector__k': 500, 'clasifier__n_estimators': 200, 'clasifier__min_samples_split': 10, 'clasifier__min_samples_leaf': 5, 'clasifier__max_features': 200, 'clasifier__max_depth': 10, 'clasifier__bootstrap': True}\n",
      "20231030T042052 : amilcar22 : INFO : Fin resultados\n"
     ]
    }
   ],
   "source": [
    "myfunc.ver_resultados_search(random_search)"
   ]
  },
  {
   "cell_type": "markdown",
   "id": "074a9dff",
   "metadata": {
    "papermill": {
     "duration": 0.003182,
     "end_time": "2023-10-30T03:20:52.184391",
     "exception": false,
     "start_time": "2023-10-30T03:20:52.181209",
     "status": "completed"
    },
    "tags": []
   },
   "source": [
    "#### Ver métricas del mejor modelo"
   ]
  },
  {
   "cell_type": "code",
   "execution_count": 10,
   "id": "fbd8bda1",
   "metadata": {
    "execution": {
     "iopub.execute_input": "2023-10-30T03:20:52.191704Z",
     "iopub.status.busy": "2023-10-30T03:20:52.191519Z",
     "iopub.status.idle": "2023-10-30T03:20:52.817201Z",
     "shell.execute_reply": "2023-10-30T03:20:52.816647Z"
    },
    "papermill": {
     "duration": 0.630818,
     "end_time": "2023-10-30T03:20:52.818509",
     "exception": false,
     "start_time": "2023-10-30T03:20:52.187691",
     "status": "completed"
    },
    "tags": []
   },
   "outputs": [
    {
     "name": "stdout",
     "output_type": "stream",
     "text": [
      "20231030T042052 : amilcar22 : INFO : Inicio ver métricas multiclase\n"
     ]
    },
    {
     "name": "stdout",
     "output_type": "stream",
     "text": [
      "              precision    recall  f1-score   support\n",
      "\n",
      "           0       0.17      0.09      0.12        11\n",
      "           1       0.50      0.50      0.50         8\n",
      "           2       0.00      0.00      0.00         8\n",
      "           3       0.11      0.20      0.14         5\n",
      "           4       0.78      0.88      0.82         8\n",
      "           5       0.00      0.00      0.00         6\n",
      "           6       0.11      0.17      0.13         6\n",
      "\n",
      "    accuracy                           0.27        52\n",
      "   macro avg       0.24      0.26      0.25        52\n",
      "weighted avg       0.26      0.27      0.26        52\n",
      "\n",
      "\n",
      "\n",
      "           Exactitud: 0.269231\n",
      "   Precisión (media): 0.238095\n",
      "      Recall (media): 0.261797\n",
      "    F1-score (media): 0.245338\n",
      "\n",
      "\n",
      "AUC para el tipo de cáncer 0-Control.... 0.4080\n",
      "AUC para el tipo de cáncer 1-Bladder.... 0.8125\n",
      "AUC para el tipo de cáncer 2-Breast..... 0.6790\n",
      "AUC para el tipo de cáncer 3-Colorectal. 0.7277\n",
      "AUC para el tipo de cáncer 4-Kidney..... 0.9688\n",
      "AUC para el tipo de cáncer 5-Lung....... 0.6341\n",
      "AUC para el tipo de cáncer 6-Prostate... 0.7210\n"
     ]
    },
    {
     "name": "stdout",
     "output_type": "stream",
     "text": [
      "\n",
      "Media de AUC: 0.7073\n"
     ]
    },
    {
     "data": {
      "image/png": "[encoded data removed]",
      "text/plain": [
       "<Figure size 1000x600 with 1 Axes>"
      ]
     },
     "metadata": {},
     "output_type": "display_data"
    },
    {
     "name": "stdout",
     "output_type": "stream",
     "text": [
      "\n",
      "\n"
     ]
    },
    {
     "data": {
      "image/png": "[encoded data removed]",
      "text/plain": [
       "<Figure size 800x400 with 2 Axes>"
      ]
     },
     "metadata": {},
     "output_type": "display_data"
    },
    {
     "name": "stdout",
     "output_type": "stream",
     "text": [
      "\n",
      "\n",
      "Puntuación Jaccard para el cáncer tipo 0-Control.... 0.0625\n",
      "Puntuación Jaccard para el cáncer tipo 1-Bladder.... 0.3333\n",
      "Puntuación Jaccard para el cáncer tipo 2-Breast..... 0.0000\n",
      "Puntuación Jaccard para el cáncer tipo 3-Colorectal. 0.0769\n",
      "Puntuación Jaccard para el cáncer tipo 4-Kidney..... 0.7000\n",
      "Puntuación Jaccard para el cáncer tipo 5-Lung....... 0.0000\n",
      "Puntuación Jaccard para el cáncer tipo 6-Prostate... 0.0714\n",
      "\n",
      "Media de la puntuación de Jaccard: 0.1777\n"
     ]
    }
   ],
   "source": [
    "if M_TIPO.startswith(\"bin\"):\n",
    "    myfunc.ver_metricas(mejor_modelo, X_test, y_test)\n",
    "else:\n",
    "    myfunc.ver_metricas_multi(mejor_modelo, X_test, y_test)\n"
   ]
  },
  {
   "cell_type": "markdown",
   "id": "ed766a83",
   "metadata": {
    "papermill": {
     "duration": 0.004133,
     "end_time": "2023-10-30T03:20:52.827176",
     "exception": false,
     "start_time": "2023-10-30T03:20:52.823043",
     "status": "completed"
    },
    "tags": []
   },
   "source": [
    "#### Finalización del notebook"
   ]
  },
  {
   "cell_type": "code",
   "execution_count": 11,
   "id": "63c2cb12",
   "metadata": {
    "execution": {
     "iopub.execute_input": "2023-10-30T03:20:52.836546Z",
     "iopub.status.busy": "2023-10-30T03:20:52.836350Z",
     "iopub.status.idle": "2023-10-30T03:20:52.839728Z",
     "shell.execute_reply": "2023-10-30T03:20:52.839251Z"
    },
    "papermill": {
     "duration": 0.009356,
     "end_time": "2023-10-30T03:20:52.840875",
     "exception": false,
     "start_time": "2023-10-30T03:20:52.831519",
     "status": "completed"
    },
    "tags": []
   },
   "outputs": [
    {
     "name": "stdout",
     "output_type": "stream",
     "text": [
      "20231030T042052 : amilcar22 : INFO : Notebook ha tardado 7 seconds\n"
     ]
    }
   ],
   "source": [
    "end_time = datetime.datetime.now()\n",
    "total_time = end_time - start_time\n",
    "myfunc.verbose(f\"Notebook ha tardado {total_time.seconds} seconds\")"
   ]
  },
  {
   "cell_type": "markdown",
   "id": "e1f3ae12",
   "metadata": {
    "papermill": {
     "duration": 0.004255,
     "end_time": "2023-10-30T03:20:52.849420",
     "exception": false,
     "start_time": "2023-10-30T03:20:52.845165",
     "status": "completed"
    },
    "tags": []
   },
   "source": [
    "#### Guardar métricas"
   ]
  },
  {
   "cell_type": "code",
   "execution_count": 12,
   "id": "d8e22acd",
   "metadata": {
    "execution": {
     "iopub.execute_input": "2023-10-30T03:20:52.858685Z",
     "iopub.status.busy": "2023-10-30T03:20:52.858505Z",
     "iopub.status.idle": "2023-10-30T03:20:53.083702Z",
     "shell.execute_reply": "2023-10-30T03:20:53.083218Z"
    },
    "papermill": {
     "duration": 0.231164,
     "end_time": "2023-10-30T03:20:53.084918",
     "exception": false,
     "start_time": "2023-10-30T03:20:52.853754",
     "status": "completed"
    },
    "tags": []
   },
   "outputs": [
    {
     "name": "stdout",
     "output_type": "stream",
     "text": [
      "20231030T042052 : amilcar22 : INFO : Inicio guardar métricas multiclase\n",
      "20231030T042052 : amilcar22 : INFO : Inicio leer fichero ../tfm_git/ejecuciones/metricas/metricas_1466.csv\n",
      "20231030T042052 : amilcar22 : INFO : Fin leer fichero ../tfm_git/ejecuciones/metricas/metricas_1466.csv\n"
     ]
    },
    {
     "name": "stdout",
     "output_type": "stream",
     "text": [
      "20231030T042053 : amilcar22 : INFO : Inicio guardar fichero ../tfm_git/ejecuciones/metricas/metricas_1466.csv\n",
      "20231030T042053 : amilcar22 : INFO : Fichero borrado ../tfm_git/ejecuciones/metricas/metricas_1466.csv\n"
     ]
    },
    {
     "name": "stdout",
     "output_type": "stream",
     "text": [
      "20231030T042053 : amilcar22 : INFO : Fin guardar fichero ../tfm_git/ejecuciones/metricas/metricas_1466.csv\n",
      "20231030T042053 : amilcar22 : INFO : Fin guardar métricas multiclase\n",
      "20231030T042053 : amilcar22 : INFO : Inicio leer fichero ../tfm_git/ejecuciones/metricas/metricas_1466.csv\n",
      "20231030T042053 : amilcar22 : INFO : Fin leer fichero ../tfm_git/ejecuciones/metricas/metricas_1466.csv\n"
     ]
    },
    {
     "data": {
      "text/html": [
       "<div>\n",
       "<style scoped>\n",
       "    .dataframe tbody tr th:only-of-type {\n",
       "        vertical-align: middle;\n",
       "    }\n",
       "\n",
       "    .dataframe tbody tr th {\n",
       "        vertical-align: top;\n",
       "    }\n",
       "\n",
       "    .dataframe thead th {\n",
       "        text-align: right;\n",
       "    }\n",
       "</style>\n",
       "<table border=\"1\" class=\"dataframe\">\n",
       "  <thead>\n",
       "    <tr style=\"text-align: right;\">\n",
       "      <th></th>\n",
       "      <th>tipo</th>\n",
       "      <th>select</th>\n",
       "      <th>clasific</th>\n",
       "      <th>semilla</th>\n",
       "      <th>accuracy</th>\n",
       "      <th>precision</th>\n",
       "      <th>recall</th>\n",
       "      <th>f1_score</th>\n",
       "      <th>roc_auc</th>\n",
       "      <th>hostname</th>\n",
       "      <th>total_time_sec</th>\n",
       "      <th>datetime</th>\n",
       "      <th>fichero_modelo</th>\n",
       "      <th>params</th>\n",
       "      <th>shape</th>\n",
       "      <th>features</th>\n",
       "      <th>roc_auc_ovr</th>\n",
       "      <th>indices_auc</th>\n",
       "      <th>indices_jaccard</th>\n",
       "    </tr>\n",
       "  </thead>\n",
       "  <tbody>\n",
       "    <tr>\n",
       "      <th>0</th>\n",
       "      <td>mul_s</td>\n",
       "      <td>ANOVA</td>\n",
       "      <td>RF</td>\n",
       "      <td>1466</td>\n",
       "      <td>0.269231</td>\n",
       "      <td>0.238095</td>\n",
       "      <td>0.261797</td>\n",
       "      <td>0.245338</td>\n",
       "      <td>NaN</td>\n",
       "      <td>amilcar22</td>\n",
       "      <td>7</td>\n",
       "      <td>2023-10-30 04:20:53.049731</td>\n",
       "      <td>modelo_1466_mul_s_ANOVA_RF.pkl</td>\n",
       "      <td>{'selector__k': 500, 'clasifier__n_estimators'...</td>\n",
       "      <td>X_test:(52, 18875)</td>\n",
       "      <td>['ENSG00000000938.13', 'ENSG00000002919.15', '...</td>\n",
       "      <td>0.707277</td>\n",
       "      <td>[0.4079822616407982, 0.8125, 0.678977272727272...</td>\n",
       "      <td>[0.0625, 0.3333333333333333, 0.0, 0.0769230769...</td>\n",
       "    </tr>\n",
       "    <tr>\n",
       "      <th>0</th>\n",
       "      <td>mul_s</td>\n",
       "      <td>ANOVA</td>\n",
       "      <td>LR_L2</td>\n",
       "      <td>1466</td>\n",
       "      <td>0.576923</td>\n",
       "      <td>0.595563</td>\n",
       "      <td>0.591126</td>\n",
       "      <td>0.559642</td>\n",
       "      <td>NaN</td>\n",
       "      <td>amilcar22</td>\n",
       "      <td>622</td>\n",
       "      <td>2023-10-30 04:20:39.481744</td>\n",
       "      <td>modelo_1466_mul_s_ANOVA_LR_L2.pkl</td>\n",
       "      <td>{'selector__k': 1000, 'clasifier__solver': 'sa...</td>\n",
       "      <td>X_test:(52, 18875)</td>\n",
       "      <td>['ENSG00000000938.13', 'ENSG00000002834.19', '...</td>\n",
       "      <td>0.840903</td>\n",
       "      <td>[0.6452328159645233, 0.9034090909090908, 0.735...</td>\n",
       "      <td>[0.3125, 0.375, 0.2727272727272727, 0.3, 0.727...</td>\n",
       "    </tr>\n",
       "    <tr>\n",
       "      <th>0</th>\n",
       "      <td>mul_s</td>\n",
       "      <td>ANOVA</td>\n",
       "      <td>LR_L1</td>\n",
       "      <td>1466</td>\n",
       "      <td>0.480769</td>\n",
       "      <td>0.429334</td>\n",
       "      <td>0.469697</td>\n",
       "      <td>0.434723</td>\n",
       "      <td>NaN</td>\n",
       "      <td>amilcar22</td>\n",
       "      <td>1172</td>\n",
       "      <td>2023-10-30 04:10:10.652248</td>\n",
       "      <td>modelo_1466_mul_s_ANOVA_LR_L1.pkl</td>\n",
       "      <td>{'selector__k': 1000, 'clasifier__solver': 'sa...</td>\n",
       "      <td>X_test:(52, 18875)</td>\n",
       "      <td>['ENSG00000000938.13', 'ENSG00000002834.19', '...</td>\n",
       "      <td>0.808219</td>\n",
       "      <td>[0.6053215077605322, 0.8607954545454545, 0.721...</td>\n",
       "      <td>[0.3333333333333333, 0.3, 0.07692307692307693,...</td>\n",
       "    </tr>\n",
       "  </tbody>\n",
       "</table>\n",
       "</div>"
      ],
      "text/plain": [
       "    tipo select clasific  semilla  accuracy  precision    recall  f1_score  \\\n",
       "0  mul_s  ANOVA       RF     1466  0.269231   0.238095  0.261797  0.245338   \n",
       "0  mul_s  ANOVA    LR_L2     1466  0.576923   0.595563  0.591126  0.559642   \n",
       "0  mul_s  ANOVA    LR_L1     1466  0.480769   0.429334  0.469697  0.434723   \n",
       "\n",
       "   roc_auc   hostname  total_time_sec                    datetime  \\\n",
       "0      NaN  amilcar22               7  2023-10-30 04:20:53.049731   \n",
       "0      NaN  amilcar22             622  2023-10-30 04:20:39.481744   \n",
       "0      NaN  amilcar22            1172  2023-10-30 04:10:10.652248   \n",
       "\n",
       "                      fichero_modelo  \\\n",
       "0     modelo_1466_mul_s_ANOVA_RF.pkl   \n",
       "0  modelo_1466_mul_s_ANOVA_LR_L2.pkl   \n",
       "0  modelo_1466_mul_s_ANOVA_LR_L1.pkl   \n",
       "\n",
       "                                              params               shape  \\\n",
       "0  {'selector__k': 500, 'clasifier__n_estimators'...  X_test:(52, 18875)   \n",
       "0  {'selector__k': 1000, 'clasifier__solver': 'sa...  X_test:(52, 18875)   \n",
       "0  {'selector__k': 1000, 'clasifier__solver': 'sa...  X_test:(52, 18875)   \n",
       "\n",
       "                                            features  roc_auc_ovr  \\\n",
       "0  ['ENSG00000000938.13', 'ENSG00000002919.15', '...     0.707277   \n",
       "0  ['ENSG00000000938.13', 'ENSG00000002834.19', '...     0.840903   \n",
       "0  ['ENSG00000000938.13', 'ENSG00000002834.19', '...     0.808219   \n",
       "\n",
       "                                         indices_auc  \\\n",
       "0  [0.4079822616407982, 0.8125, 0.678977272727272...   \n",
       "0  [0.6452328159645233, 0.9034090909090908, 0.735...   \n",
       "0  [0.6053215077605322, 0.8607954545454545, 0.721...   \n",
       "\n",
       "                                     indices_jaccard  \n",
       "0  [0.0625, 0.3333333333333333, 0.0, 0.0769230769...  \n",
       "0  [0.3125, 0.375, 0.2727272727272727, 0.3, 0.727...  \n",
       "0  [0.3333333333333333, 0.3, 0.07692307692307693,...  "
      ]
     },
     "metadata": {},
     "output_type": "display_data"
    }
   ],
   "source": [
    "if M_TIPO.startswith(\"bin\"):\n",
    "    myfunc.save_metricas_to_csv(random_search, X_test, y_test, M_TIPO, M_SELECT, M_CLASIF, total_time, SEMILLA, myfunc.MET_DIR, M_FICHERO, fichero_modelo)\n",
    "else:\n",
    "    myfunc.save_metricas_multi_to_csv(random_search, X_test, y_test, M_TIPO, M_SELECT, M_CLASIF, total_time, SEMILLA, myfunc.MET_DIR, M_FICHERO, fichero_modelo)\n",
    "\n",
    "df1=myfunc.read_metricas_to_df(myfunc.MET_DIR,M_FICHERO)\n",
    "\n",
    "display(df1.sort_values(\"datetime\", ascending=False)[:3])\n"
   ]
  },
  {
   "cell_type": "markdown",
   "id": "905824d7",
   "metadata": {
    "papermill": {
     "duration": 0.004426,
     "end_time": "2023-10-30T03:20:53.094173",
     "exception": false,
     "start_time": "2023-10-30T03:20:53.089747",
     "status": "completed"
    },
    "tags": []
   },
   "source": [
    "#### Guardar resultados"
   ]
  },
  {
   "cell_type": "code",
   "execution_count": 13,
   "id": "9cc2e776",
   "metadata": {
    "execution": {
     "iopub.execute_input": "2023-10-30T03:20:53.104009Z",
     "iopub.status.busy": "2023-10-30T03:20:53.103803Z",
     "iopub.status.idle": "2023-10-30T03:20:53.112541Z",
     "shell.execute_reply": "2023-10-30T03:20:53.112121Z"
    },
    "papermill": {
     "duration": 0.01509,
     "end_time": "2023-10-30T03:20:53.113756",
     "exception": false,
     "start_time": "2023-10-30T03:20:53.098666",
     "status": "completed"
    },
    "tags": []
   },
   "outputs": [
    {
     "name": "stdout",
     "output_type": "stream",
     "text": [
      "20231030T042053 : amilcar22 : INFO : Inicio guardar resultados\n",
      "20231030T042053 : amilcar22 : INFO : Inicio guardar fichero ../tfm_git/ejecuciones/metricas/resultados_1466_mul_s-ANOVA-RF.csv\n",
      "20231030T042053 : amilcar22 : INFO : Fin guardar fichero ../tfm_git/ejecuciones/metricas/resultados_1466_mul_s-ANOVA-RF.csv\n",
      "20231030T042053 : amilcar22 : INFO : Fin guardar resultados\n"
     ]
    }
   ],
   "source": [
    "fichero_resultados=R_FICHERO+\"_\"+M_TIPO+\"-\"+M_SELECT+\"-\"+M_CLASIF+\".csv\"\n",
    "myfunc.save_resultados_to_csv(M_TIPO, M_SELECT, M_CLASIF,  random_search, myfunc.MET_DIR, fichero_resultados)\n"
   ]
  }
 ],
 "metadata": {
  "kernelspec": {
   "display_name": "Python 3 (ipykernel)",
   "language": "python",
   "name": "python3"
  },
  "language_info": {
   "codemirror_mode": {
    "name": "ipython",
    "version": 3
   },
   "file_extension": ".py",
   "mimetype": "text/x-python",
   "name": "python",
   "nbconvert_exporter": "python",
   "pygments_lexer": "ipython3",
   "version": "3.10.12"
  },
  "papermill": {
   "default_parameters": {},
   "duration": 12.045066,
   "end_time": "2023-10-30T03:20:55.735258",
   "environment_variables": {},
   "exception": null,
   "input_path": "03_entrenamiento.ipynb",
   "output_path": "ejecuciones/training/03_entrenamiento.20231030T042043.param_0000_1466_mul_s_ANOVA_RF.output.ipynb",
   "parameters": {
    "MAX_ITERS": 500,
    "M_CLASIF": "RF",
    "M_FICHERO": "metricas_1466",
    "M_SELECT": "ANOVA",
    "M_TIPO": "mul_s",
    "PRE_DATA_FILE": "rows_transpose_norm_by_gene_id_with_target_num_",
    "P_FICHERO": "param_0000_1466_mul_s_ANOVA_RF.yaml",
    "R_FICHERO": "resultados_1466",
    "SCORING": "roc_auc_ovr",
    "SEMILLA": 1466,
    "eval_clasifier": "RandomForestClassifier(random_state=SEMILLA)",
    "eval_selector": "SelectKBest(score_func=f_classif)",
    "param_distributions": {
     "clasifier__bootstrap": [
      true
     ],
     "clasifier__max_depth": [
      10
     ],
     "clasifier__max_features": [
      200
     ],
     "clasifier__min_samples_leaf": [
      5
     ],
     "clasifier__min_samples_split": [
      10
     ],
     "clasifier__n_estimators": [
      200
     ],
     "selector__k": [
      500
     ]
    }
   },
   "start_time": "2023-10-30T03:20:43.690192",
   "version": "2.4.0"
  }
 },
 "nbformat": 4,
 "nbformat_minor": 5
}