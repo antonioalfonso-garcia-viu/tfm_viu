{
 "cells": [
  {
   "cell_type": "markdown",
   "id": "a0426502",
   "metadata": {
    "papermill": {
     "duration": 0.005489,
     "end_time": "2023-10-30T01:12:40.858900",
     "exception": false,
     "start_time": "2023-10-30T01:12:40.853411",
     "status": "completed"
    },
    "tags": []
   },
   "source": [
    "##### Inicio"
   ]
  },
  {
   "cell_type": "markdown",
   "id": "58ba11b3",
   "metadata": {
    "papermill": {
     "duration": 0.003327,
     "end_time": "2023-10-30T01:12:40.865916",
     "exception": false,
     "start_time": "2023-10-30T01:12:40.862589",
     "status": "completed"
    },
    "tags": []
   },
   "source": [
    "#### Carga de datos"
   ]
  },
  {
   "cell_type": "code",
   "execution_count": 1,
   "id": "44d783e5",
   "metadata": {
    "execution": {
     "iopub.execute_input": "2023-10-30T01:12:40.873904Z",
     "iopub.status.busy": "2023-10-30T01:12:40.873472Z",
     "iopub.status.idle": "2023-10-30T01:12:41.975497Z",
     "shell.execute_reply": "2023-10-30T01:12:41.974872Z"
    },
    "papermill": {
     "duration": 1.107628,
     "end_time": "2023-10-30T01:12:41.976938",
     "exception": false,
     "start_time": "2023-10-30T01:12:40.869310",
     "status": "completed"
    },
    "tags": []
   },
   "outputs": [
    {
     "name": "stdout",
     "output_type": "stream",
     "text": [
      "CPU_COUNT: 16; NODE: enderlab; sys.version: 3.10.11 (main, May 16 2023, 00:28:57) [GCC 11.2.0]\n",
      "LOKY_MAX_CPU_COUNT is not set.\n",
      "OMP_NUM_THREADS is not set.\n"
     ]
    }
   ],
   "source": [
    "import os\n",
    "import numpy as np\n",
    "import pandas as pd\n",
    "import datetime\n",
    "import sklearn\n",
    "import logging\n",
    "import warnings\n",
    "\n",
    "from sklearn.pipeline import Pipeline\n",
    "from sklearn.model_selection import RandomizedSearchCV, KFold, cross_val_score, train_test_split\n",
    "from sklearn.metrics import accuracy_score, confusion_matrix, classification_report, roc_auc_score\n",
    "\n",
    "#  cargar algoritmos para aprendizaje supervisado\n",
    "from sklearn.feature_selection import SelectKBest, f_classif, SelectFromModel, mutual_info_classif\n",
    "from sklearn.svm import SVC\n",
    "from sklearn.ensemble import RandomForestClassifier\n",
    "from sklearn.linear_model import LogisticRegression,LogisticRegressionCV\n",
    "\n",
    "# importar fichero con utilidades propias\n",
    "from commons import myfunctions as myfunc\n"
   ]
  },
  {
   "cell_type": "markdown",
   "id": "6f839dd1",
   "metadata": {
    "papermill": {
     "duration": 0.003688,
     "end_time": "2023-10-30T01:12:41.984597",
     "exception": false,
     "start_time": "2023-10-30T01:12:41.980909",
     "status": "completed"
    },
    "tags": []
   },
   "source": [
    "#### Parámetros a utilizar en el entrenamiento.\n",
    "\n",
    "Se indican los 3 algoritmos de *selección de características* (eval_selector_xxx) y los 3 algoritmos para la _clasificación_ (eval_clasifier_xxx)\n",
    "\n",
    "En *param_distributions* se indicar los parámetros que utilizan los algoritmos en la función RandomSearchCV.\n",
    "\n",
    "Esta celda tiene la etiqueta **parameters** que servirá para poder lanzar los entrenamientos con la utilidad **papermill** pasándole un fichero con los parámetros. Los nuevos parámetros se situarán tras esta celda para tener prevalencia."
   ]
  },
  {
   "cell_type": "code",
   "execution_count": 2,
   "id": "32b4f5e0",
   "metadata": {
    "execution": {
     "iopub.execute_input": "2023-10-30T01:12:41.992815Z",
     "iopub.status.busy": "2023-10-30T01:12:41.992491Z",
     "iopub.status.idle": "2023-10-30T01:12:42.000967Z",
     "shell.execute_reply": "2023-10-30T01:12:42.000442Z"
    },
    "papermill": {
     "duration": 0.014157,
     "end_time": "2023-10-30T01:12:42.002205",
     "exception": false,
     "start_time": "2023-10-30T01:12:41.988048",
     "status": "completed"
    },
    "tags": [
     "parameters"
    ]
   },
   "outputs": [
    {
     "name": "stdout",
     "output_type": "stream",
     "text": [
      "20231030T021241 : enderlab : INFO : Utilizando parámetros de mul_m\n"
     ]
    }
   ],
   "source": [
    "#  Parametros para el entrenamiento\n",
    "\n",
    "SEMILLA=        42\n",
    "M_TIPO=         \"mul_m\"\n",
    "M_SELECT=       \"MI\"\n",
    "M_CLASIF=       \"SVM\"\n",
    "R_FICHERO=      \"resultados\"\n",
    "M_FICHERO=      \"metricas\"\n",
    "PRE_DATA_FILE=  \"rows_transpose_norm_by_gene_id_with_target_num_\"\n",
    "SCORING=        \"roc_auc_ovr\" \n",
    "MAX_ITERS=      100\n",
    "\n",
    "def mutual_info_classif_state(X, y):\n",
    "    return mutual_info_classif(X, y, random_state=SEMILLA)\n",
    "\n",
    "eval_selector_mi = \"SelectKBest(score_func=mutual_info_classif_state)\"\n",
    "eval_selector_rf=  \"SelectFromModel(estimator=RandomForestClassifier(random_state=SEMILLA), threshold=-np.inf)\"\n",
    "eval_selector_anova=  \"SelectKBest(score_func=f_classif)\"\n",
    "\n",
    "eval_clasifier_svm= \"SVC(probability=True, random_state=SEMILLA)\"\n",
    "eval_clasifier_rf= \"RandomForestClassifier(random_state=SEMILLA)\"\n",
    "eval_clasifier_lr= \"LogisticRegressionCV(random_state=SEMILLA)\"\n",
    "\n",
    "if M_TIPO.startswith(\"bin_m\"):\n",
    "    myfunc.verbose(f\"Utilizando parámetros de {M_TIPO}\")\n",
    "    eval_selector = eval_selector_mi\n",
    "    eval_clasifier = eval_clasifier_svm\n",
    "\n",
    "    SEMILLA = 6578\n",
    "    M_SELECT = \"MI\"\n",
    "    M_CLASIF = \"SVM\"\n",
    "    param_distributions = {'selector__k': [1000], \n",
    "         'clasifier__kernel': ['rbf'], 'clasifier__gamma': [0.01], 'clasifier__C': [100]}\n",
    "elif M_TIPO.startswith(\"bin_s\"):\n",
    "    myfunc.verbose(f\"Utilizando parámetros de {M_TIPO}\")\n",
    "    eval_selector = eval_selector_rf\n",
    "    eval_clasifier = eval_clasifier_lr\n",
    "\n",
    "    SEMILLA = 6191\n",
    "    M_SELECT = \"RF\"\n",
    "    M_CLASIF = \"LR_L2\"\n",
    "    param_distributions = {'selector__max_features': [1000], 'selector__estimator__n_estimators': [200], \n",
    "        'clasifier__solver': ['lbfgs'], 'clasifier__penalty': ['l2'], 'clasifier__max_iter': [10000]}\n",
    "\n",
    "elif M_TIPO.startswith(\"mul_m\"):\n",
    "    myfunc.verbose(f\"Utilizando parámetros de {M_TIPO}\")\n",
    " \n",
    "    eval_selector = eval_selector_rf\n",
    "    eval_clasifier = eval_clasifier_lr\n",
    "\n",
    "    SEMILLA = 6191\n",
    "    M_SELECT = \"RF\"\n",
    "    M_CLASIF = \"LR_L2\"\n",
    "    param_distributions = {'selector__max_features': [1000], 'selector__estimator__n_estimators': [400], \n",
    "        'clasifier__solver': ['lbfgs'], 'clasifier__penalty': ['l2'], 'clasifier__max_iter': [10000]}\n",
    "\n",
    "else:\n",
    "    # M_TIPO.startswith(\"mul_s\"):\n",
    "    myfunc.verbose(f\"Utilizando parámetros de {M_TIPO}\")\n",
    "    eval_selector = eval_selector_anova\n",
    "    eval_clasifier = eval_clasifier_lr\n",
    "\n",
    "    SEMILLA = 1860\n",
    "    M_SELECT = \"ANOVA\"\n",
    "    M_CLASIF = \"LR_L2\"\n",
    "    param_distributions = {'selector__k': [1000], \n",
    "        'clasifier__solver': ['saga'], 'clasifier__penalty': ['l2'], 'clasifier__max_iter': [10000]}\n",
    "\n"
   ]
  },
  {
   "cell_type": "code",
   "execution_count": 3,
   "id": "85a02adc",
   "metadata": {
    "execution": {
     "iopub.execute_input": "2023-10-30T01:12:42.010461Z",
     "iopub.status.busy": "2023-10-30T01:12:42.010008Z",
     "iopub.status.idle": "2023-10-30T01:12:42.014169Z",
     "shell.execute_reply": "2023-10-30T01:12:42.013640Z"
    },
    "papermill": {
     "duration": 0.009468,
     "end_time": "2023-10-30T01:12:42.015312",
     "exception": false,
     "start_time": "2023-10-30T01:12:42.005844",
     "status": "completed"
    },
    "tags": [
     "injected-parameters"
    ]
   },
   "outputs": [],
   "source": [
    "# Parameters\n",
    "M_TIPO = \"mul_s\"\n",
    "M_SELECT = \"MI\"\n",
    "M_CLASIF = \"RF\"\n",
    "P_FICHERO = \"param_0000_8270_mul_s_MI_RF.yaml\"\n",
    "R_FICHERO = \"resultados_8270\"\n",
    "M_FICHERO = \"metricas_8270\"\n",
    "PRE_DATA_FILE = \"rows_transpose_norm_by_gene_id_with_target_num_\"\n",
    "SCORING = \"roc_auc_ovr\"\n",
    "SEMILLA = 8270\n",
    "MAX_ITERS = 500\n",
    "eval_selector = \"SelectKBest(score_func=mutual_info_classif_state)\"\n",
    "eval_clasifier = \"RandomForestClassifier(random_state=SEMILLA)\"\n",
    "param_distributions = {\n",
    "    \"selector__k\": [500],\n",
    "    \"clasifier__n_estimators\": [400],\n",
    "    \"clasifier__min_samples_split\": [10],\n",
    "    \"clasifier__min_samples_leaf\": [5],\n",
    "    \"clasifier__max_features\": [500],\n",
    "    \"clasifier__max_depth\": [30],\n",
    "    \"clasifier__bootstrap\": [True],\n",
    "}\n"
   ]
  },
  {
   "cell_type": "code",
   "execution_count": 4,
   "id": "5b5bdd0f",
   "metadata": {
    "execution": {
     "iopub.execute_input": "2023-10-30T01:12:42.023725Z",
     "iopub.status.busy": "2023-10-30T01:12:42.023262Z",
     "iopub.status.idle": "2023-10-30T01:12:42.026461Z",
     "shell.execute_reply": "2023-10-30T01:12:42.025951Z"
    },
    "papermill": {
     "duration": 0.008863,
     "end_time": "2023-10-30T01:12:42.027659",
     "exception": false,
     "start_time": "2023-10-30T01:12:42.018796",
     "status": "completed"
    },
    "tags": []
   },
   "outputs": [],
   "source": [
    "DATA_FILE = PRE_DATA_FILE + M_TIPO\n",
    "\n",
    "# si viene \"None\" en el parámetro max_depth, se le quitan las comillas para que no sea entendido por el algoritmo como un texto\n",
    "if \"clasifier__max_depth\" in param_distributions:\n",
    "    param_distributions['clasifier__max_depth'] = [None if x == 'None' else x for x in param_distributions['clasifier__max_depth']]"
   ]
  },
  {
   "cell_type": "markdown",
   "id": "6d3591ce",
   "metadata": {
    "papermill": {
     "duration": 0.003512,
     "end_time": "2023-10-30T01:12:42.034688",
     "exception": false,
     "start_time": "2023-10-30T01:12:42.031176",
     "status": "completed"
    },
    "tags": []
   },
   "source": [
    "Asignar los algoritmos que se utilizarán en la función RandomSearchCV"
   ]
  },
  {
   "cell_type": "code",
   "execution_count": 5,
   "id": "b1133162",
   "metadata": {
    "execution": {
     "iopub.execute_input": "2023-10-30T01:12:42.042864Z",
     "iopub.status.busy": "2023-10-30T01:12:42.042504Z",
     "iopub.status.idle": "2023-10-30T01:12:42.045309Z",
     "shell.execute_reply": "2023-10-30T01:12:42.044815Z"
    },
    "papermill": {
     "duration": 0.008242,
     "end_time": "2023-10-30T01:12:42.046516",
     "exception": false,
     "start_time": "2023-10-30T01:12:42.038274",
     "status": "completed"
    },
    "tags": []
   },
   "outputs": [],
   "source": [
    "algor_selector=eval(eval_selector)\n",
    "algor_clasifier=eval(eval_clasifier)"
   ]
  },
  {
   "cell_type": "markdown",
   "id": "133981b7",
   "metadata": {
    "papermill": {
     "duration": 0.003876,
     "end_time": "2023-10-30T01:12:42.053918",
     "exception": false,
     "start_time": "2023-10-30T01:12:42.050042",
     "status": "completed"
    },
    "tags": []
   },
   "source": [
    "#### Comprobar el entorno y leer fichero de muestras"
   ]
  },
  {
   "cell_type": "code",
   "execution_count": 6,
   "id": "e4a44d52",
   "metadata": {
    "execution": {
     "iopub.execute_input": "2023-10-30T01:12:42.062108Z",
     "iopub.status.busy": "2023-10-30T01:12:42.061768Z",
     "iopub.status.idle": "2023-10-30T01:12:42.241941Z",
     "shell.execute_reply": "2023-10-30T01:12:42.241327Z"
    },
    "papermill": {
     "duration": 0.185843,
     "end_time": "2023-10-30T01:12:42.243335",
     "exception": false,
     "start_time": "2023-10-30T01:12:42.057492",
     "status": "completed"
    },
    "tags": []
   },
   "outputs": [
    {
     "name": "stdout",
     "output_type": "stream",
     "text": [
      "20231030T021242 : enderlab : INFO : Encontrada carpeta DATA_DIR=../tfm_git/datos\n",
      "20231030T021242 : enderlab : INFO : Encontrada carpeta CFDNA_DIR=../tfm_git/datos/cfDNA_5hmC\n",
      "20231030T021242 : enderlab : INFO : Encontrada carpeta GENCODE_DIR=../tfm_git/datos/gencode\n",
      "20231030T021242 : enderlab : INFO : Encontrada carpeta H5_DIR=../tfm_git/datos/h5\n",
      "20231030T021242 : enderlab : INFO : Encontrada carpeta LOG_DIR=../tfm_git/datos/logs\n",
      "20231030T021242 : enderlab : INFO : Encontrada carpeta CSV_DIR=../tfm_git/datos/csv\n",
      "20231030T021242 : enderlab : INFO : Encontrada carpeta MODEL_DIR=../tfm_git/ejecuciones/modelos\n",
      "20231030T021242 : enderlab : INFO : Encontrada carpeta EXEC_DIR=../tfm_git/ejecuciones\n",
      "20231030T021242 : enderlab : INFO : Encontrada carpeta MET_DIR=../tfm_git/ejecuciones/metricas\n",
      "20231030T021242 : enderlab : INFO : Inicio leer fichero h5 ../tfm_git/datos/h5/rows_transpose_norm_by_gene_id_with_target_num_mul_s.h5\n",
      "20231030T021242 : enderlab : INFO : Leyendo clave /df\n"
     ]
    },
    {
     "name": "stdout",
     "output_type": "stream",
     "text": [
      "20231030T021242 : enderlab : INFO : Tamaño (259, 18876)\n",
      "20231030T021242 : enderlab : INFO : Fin leer fichero h5 ../tfm_git/datos/h5/rows_transpose_norm_by_gene_id_with_target_num_mul_s.h5\n"
     ]
    },
    {
     "data": {
      "text/plain": [
       "target\n",
       "0    37\n",
       "1    37\n",
       "2    37\n",
       "3    37\n",
       "4    37\n",
       "5    37\n",
       "6    37\n",
       "dtype: int64"
      ]
     },
     "metadata": {},
     "output_type": "display_data"
    },
    {
     "name": "stdout",
     "output_type": "stream",
     "text": [
      "Shape df: (259, 18876)\n"
     ]
    },
    {
     "name": "stdout",
     "output_type": "stream",
     "text": [
      "Shape X_train: (207, 18875)\n",
      "Shape X_test: (52, 18875)\n"
     ]
    }
   ],
   "source": [
    "start_time = datetime.datetime.now()\n",
    "\n",
    "myfunc.reset_vars()\n",
    "\n",
    "myfunc.NOTEBK_FILENAME = myfunc.get_nb_name()\n",
    "\n",
    "myfunc.check_enviroment(myfunc.DATA_DIR, myfunc.CFDNA_DIR, myfunc.GENCODE_DIR, myfunc.H5_DIR, myfunc.LOG_DIR, myfunc.CSV_DIR, myfunc.MODEL_DIR, myfunc.EXEC_DIR, myfunc.MET_DIR)\n",
    "\n",
    "# Leer fichero con las muestras\n",
    "df_t = myfunc.read_h5_to_df(DATA_FILE, myfunc.H5_DIR)\n",
    "display(df_t.groupby(\"target\").size())\n",
    "print(\"Shape df:\",df_t.shape)\n",
    "\n",
    "# Separar caracteristicas/genes de las etiquetas/tipos de cáncer\n",
    "X = df_t.iloc[:, :-1]  # Todas las columnas excepto la última\n",
    "y = df_t.iloc[:, -1]  # La última columna contiene los identificadores de los tipos de cáncer\n",
    "\n",
    "#  Crear el conjunto de datos de entrenamiento y de pruebas, y se fija la semilla para siempre coger el mismo juego de muestras\n",
    "X_train, X_test, y_train, y_test = train_test_split(X, y, test_size=0.2, shuffle=True, random_state=42)\n",
    "print(\"Shape X_train:\",X_train.shape)\n",
    "print(\"Shape X_test:\",X_test.shape)\n"
   ]
  },
  {
   "cell_type": "markdown",
   "id": "143eeb76",
   "metadata": {
    "papermill": {
     "duration": 0.004134,
     "end_time": "2023-10-30T01:12:42.252660",
     "exception": false,
     "start_time": "2023-10-30T01:12:42.248526",
     "status": "completed"
    },
    "tags": []
   },
   "source": [
    "#### Selección de características y clasificación."
   ]
  },
  {
   "cell_type": "code",
   "execution_count": 7,
   "id": "fccd4b61",
   "metadata": {
    "execution": {
     "iopub.execute_input": "2023-10-30T01:12:42.262009Z",
     "iopub.status.busy": "2023-10-30T01:12:42.261487Z",
     "iopub.status.idle": "2023-10-30T01:16:32.507889Z",
     "shell.execute_reply": "2023-10-30T01:16:32.505071Z"
    },
    "papermill": {
     "duration": 230.254486,
     "end_time": "2023-10-30T01:16:32.511212",
     "exception": false,
     "start_time": "2023-10-30T01:12:42.256726",
     "status": "completed"
    },
    "tags": []
   },
   "outputs": [
    {
     "name": "stdout",
     "output_type": "stream",
     "text": [
      "20231030T021242 : enderlab : INFO : Iniciando entrenamiento\n",
      "num_iter: 1 , max_iter: 1\n"
     ]
    },
    {
     "name": "stdout",
     "output_type": "stream",
     "text": [
      "Fitting 5 folds for each of 1 candidates, totalling 5 fits\n"
     ]
    },
    {
     "name": "stdout",
     "output_type": "stream",
     "text": [
      "Mejores Hiperparámetros: {'selector__k': 500, 'clasifier__n_estimators': 400, 'clasifier__min_samples_split': 10, 'clasifier__min_samples_leaf': 5, 'clasifier__max_features': 500, 'clasifier__max_depth': 30, 'clasifier__bootstrap': True}\n",
      "Mejor Puntuación: 0.7259\n",
      "20231030T021632 : enderlab : INFO : Fin entrenamiento\n"
     ]
    }
   ],
   "source": [
    "myfunc.verbose(\"Iniciando entrenamiento\")\n",
    "\n",
    "kf = KFold(n_splits=5, shuffle=True, random_state=SEMILLA)\n",
    "\n",
    "# Crear el pipeline para el flujo de tareas\n",
    "tasks_pipeline = Pipeline([\n",
    "    ('selector', algor_selector),\n",
    "    ('clasifier', algor_clasifier)\n",
    "])\n",
    "\n",
    "# MAX_ITERS puede limitar el número de iteraciones si son excesivas para las combinaciones de parámetros buscando un óptimo local, \n",
    "# sino funcionaría como GridSearchCV al revisar todas las cominaciones de los parámetros\n",
    "num_iteraciones = 1\n",
    "num_iteraciones = num_iteraciones * np.prod([len(elemento1) for _, elemento1 in param_distributions.items()])\n",
    "max_iteraciones = num_iteraciones if num_iteraciones <= MAX_ITERS else MAX_ITERS\n",
    "print(\"num_iter:\",num_iteraciones,\", max_iter:\",max_iteraciones)\n",
    "\n",
    "random_search = RandomizedSearchCV(\n",
    "    tasks_pipeline, \n",
    "    param_distributions, \n",
    "    n_iter=max_iteraciones,\n",
    "    scoring=SCORING,\n",
    "    cv=kf,\n",
    "    verbose=3, \n",
    "    random_state=SEMILLA, \n",
    "    n_jobs=-1\n",
    "    )\n",
    "\n",
    "# Entrenar el modelo\n",
    "random_search.fit(X_train, y_train)\n",
    "\n",
    "# Ver los mejores hiperparámetros encontrados\n",
    "print(f'Mejores Hiperparámetros: {random_search.best_params_}')\n",
    "print(f'Mejor Puntuación: {random_search.best_score_:.4f}')\n",
    "\n",
    "# Nos quedamos con el mejor modelo para ver las métricas\n",
    "mejor_modelo = random_search.best_estimator_\n",
    "\n",
    "myfunc.verbose(\"Fin entrenamiento\")"
   ]
  },
  {
   "cell_type": "markdown",
   "id": "89447a6b",
   "metadata": {
    "papermill": {
     "duration": 0.004008,
     "end_time": "2023-10-30T01:16:32.519553",
     "exception": false,
     "start_time": "2023-10-30T01:16:32.515545",
     "status": "completed"
    },
    "tags": []
   },
   "source": [
    "#### Guardar modelo"
   ]
  },
  {
   "cell_type": "code",
   "execution_count": 8,
   "id": "63eb83f6",
   "metadata": {
    "execution": {
     "iopub.execute_input": "2023-10-30T01:16:32.528959Z",
     "iopub.status.busy": "2023-10-30T01:16:32.528686Z",
     "iopub.status.idle": "2023-10-30T01:16:32.680289Z",
     "shell.execute_reply": "2023-10-30T01:16:32.679683Z"
    },
    "papermill": {
     "duration": 0.158072,
     "end_time": "2023-10-30T01:16:32.681609",
     "exception": false,
     "start_time": "2023-10-30T01:16:32.523537",
     "status": "completed"
    },
    "tags": []
   },
   "outputs": [
    {
     "name": "stdout",
     "output_type": "stream",
     "text": [
      "20231030T021632 : enderlab : INFO : Inicio guardar fichero ../tfm_git/ejecuciones/modelos/modelo_8270_mul_s_MI_RF.pkl\n",
      "20231030T021632 : enderlab : INFO : Fin guardar fichero ../tfm_git/ejecuciones/modelos/modelo_8270_mul_s_MI_RF.pkl\n"
     ]
    }
   ],
   "source": [
    "fichero_modelo = str.replace(\"modelo_\"+str(SEMILLA).zfill(4)+\"_\"+M_TIPO+\"_\"+M_SELECT+\"_\"+M_CLASIF+\".pkl\", \" \", \"_\")\n",
    "\n",
    "myfunc.save_modelo(mejor_modelo, myfunc.MODEL_DIR, fichero_modelo)"
   ]
  },
  {
   "cell_type": "markdown",
   "id": "1e62ba6e",
   "metadata": {
    "papermill": {
     "duration": 0.004196,
     "end_time": "2023-10-30T01:16:32.690831",
     "exception": false,
     "start_time": "2023-10-30T01:16:32.686635",
     "status": "completed"
    },
    "tags": []
   },
   "source": [
    "#### Ver resultados del las iteraciones hechas por RandomSearchCV"
   ]
  },
  {
   "cell_type": "code",
   "execution_count": 9,
   "id": "056e6dd8",
   "metadata": {
    "execution": {
     "iopub.execute_input": "2023-10-30T01:16:32.702396Z",
     "iopub.status.busy": "2023-10-30T01:16:32.701926Z",
     "iopub.status.idle": "2023-10-30T01:16:32.708984Z",
     "shell.execute_reply": "2023-10-30T01:16:32.708441Z"
    },
    "papermill": {
     "duration": 0.014267,
     "end_time": "2023-10-30T01:16:32.710274",
     "exception": false,
     "start_time": "2023-10-30T01:16:32.696007",
     "status": "completed"
    },
    "tags": []
   },
   "outputs": [
    {
     "name": "stdout",
     "output_type": "stream",
     "text": [
      "20231030T021632 : enderlab : INFO : Inicio ver resultados\n",
      "Mejores Hiperparámetros: {'selector__k': 500, 'clasifier__n_estimators': 400, 'clasifier__min_samples_split': 10, 'clasifier__min_samples_leaf': 5, 'clasifier__max_features': 500, 'clasifier__max_depth': 30, 'clasifier__bootstrap': True}\n",
      "Mejores puntuaciones: 0.7259 | Params: {'selector__k': 500, 'clasifier__n_estimators': 400, 'clasifier__min_samples_split': 10, 'clasifier__min_samples_leaf': 5, 'clasifier__max_features': 500, 'clasifier__max_depth': 30, 'clasifier__bootstrap': True}\n",
      "Media de las puntuaciones: 0.7259 | Params: {'selector__k': 500, 'clasifier__n_estimators': 400, 'clasifier__min_samples_split': 10, 'clasifier__min_samples_leaf': 5, 'clasifier__max_features': 500, 'clasifier__max_depth': 30, 'clasifier__bootstrap': True}\n",
      "20231030T021632 : enderlab : INFO : Fin resultados\n"
     ]
    }
   ],
   "source": [
    "myfunc.ver_resultados_search(random_search)"
   ]
  },
  {
   "cell_type": "markdown",
   "id": "df18ce0f",
   "metadata": {
    "papermill": {
     "duration": 0.004146,
     "end_time": "2023-10-30T01:16:32.718705",
     "exception": false,
     "start_time": "2023-10-30T01:16:32.714559",
     "status": "completed"
    },
    "tags": []
   },
   "source": [
    "#### Ver métricas del mejor modelo"
   ]
  },
  {
   "cell_type": "code",
   "execution_count": 10,
   "id": "0cb3ca2a",
   "metadata": {
    "execution": {
     "iopub.execute_input": "2023-10-30T01:16:32.728174Z",
     "iopub.status.busy": "2023-10-30T01:16:32.727778Z",
     "iopub.status.idle": "2023-10-30T01:16:33.511613Z",
     "shell.execute_reply": "2023-10-30T01:16:33.510943Z"
    },
    "papermill": {
     "duration": 0.79009,
     "end_time": "2023-10-30T01:16:33.512939",
     "exception": false,
     "start_time": "2023-10-30T01:16:32.722849",
     "status": "completed"
    },
    "tags": []
   },
   "outputs": [
    {
     "name": "stdout",
     "output_type": "stream",
     "text": [
      "20231030T021632 : enderlab : INFO : Inicio ver métricas multiclase\n"
     ]
    },
    {
     "name": "stdout",
     "output_type": "stream",
     "text": [
      "              precision    recall  f1-score   support\n",
      "\n",
      "           0       0.25      0.09      0.13        11\n",
      "           1       0.45      0.62      0.53         8\n",
      "           2       0.11      0.12      0.12         8\n",
      "           3       0.12      0.20      0.15         5\n",
      "           4       0.70      0.88      0.78         8\n",
      "           5       0.33      0.17      0.22         6\n",
      "           6       0.29      0.33      0.31         6\n",
      "\n",
      "    accuracy                           0.35        52\n",
      "   macro avg       0.32      0.35      0.32        52\n",
      "weighted avg       0.33      0.35      0.32        52\n",
      "\n",
      "\n",
      "\n",
      "           Exactitud: 0.346154\n",
      "   Precisión (media): 0.322815\n",
      "      Recall (media): 0.345130\n",
      "    F1-score (media): 0.319834\n",
      "\n",
      "\n",
      "AUC para el tipo de cáncer 0-Control.... 0.4523\n",
      "AUC para el tipo de cáncer 1-Bladder.... 0.7898\n",
      "AUC para el tipo de cáncer 2-Breast..... 0.6420\n",
      "AUC para el tipo de cáncer 3-Colorectal. 0.8298\n",
      "AUC para el tipo de cáncer 4-Kidney..... 0.9545\n",
      "AUC para el tipo de cáncer 5-Lung....... 0.6196\n",
      "AUC para el tipo de cáncer 6-Prostate... 0.6703\n",
      "\n",
      "Media de AUC: 0.7083\n"
     ]
    },
    {
     "data": {
      "image/png": "[encoded data removed]",
      "text/plain": [
       "<Figure size 1000x600 with 1 Axes>"
      ]
     },
     "metadata": {},
     "output_type": "display_data"
    },
    {
     "name": "stdout",
     "output_type": "stream",
     "text": [
      "\n",
      "\n"
     ]
    },
    {
     "data": {
      "image/png": "[encoded data removed]",
      "text/plain": [
       "<Figure size 800x400 with 2 Axes>"
      ]
     },
     "metadata": {},
     "output_type": "display_data"
    },
    {
     "name": "stdout",
     "output_type": "stream",
     "text": [
      "\n",
      "\n",
      "Puntuación Jaccard para el cáncer tipo 0-Control.... 0.0714\n",
      "Puntuación Jaccard para el cáncer tipo 1-Bladder.... 0.3571\n",
      "Puntuación Jaccard para el cáncer tipo 2-Breast..... 0.0625\n",
      "Puntuación Jaccard para el cáncer tipo 3-Colorectal. 0.0833\n",
      "Puntuación Jaccard para el cáncer tipo 4-Kidney..... 0.6364\n",
      "Puntuación Jaccard para el cáncer tipo 5-Lung....... 0.1250\n",
      "Puntuación Jaccard para el cáncer tipo 6-Prostate... 0.1818\n",
      "\n",
      "Media de la puntuación de Jaccard: 0.2168\n"
     ]
    }
   ],
   "source": [
    "if M_TIPO.startswith(\"bin\"):\n",
    "    myfunc.ver_metricas(mejor_modelo, X_test, y_test)\n",
    "else:\n",
    "    myfunc.ver_metricas_multi(mejor_modelo, X_test, y_test)\n"
   ]
  },
  {
   "cell_type": "markdown",
   "id": "9284f882",
   "metadata": {
    "papermill": {
     "duration": 0.005867,
     "end_time": "2023-10-30T01:16:33.525546",
     "exception": false,
     "start_time": "2023-10-30T01:16:33.519679",
     "status": "completed"
    },
    "tags": []
   },
   "source": [
    "#### Finalización del notebook"
   ]
  },
  {
   "cell_type": "code",
   "execution_count": 11,
   "id": "608cb237",
   "metadata": {
    "execution": {
     "iopub.execute_input": "2023-10-30T01:16:33.538518Z",
     "iopub.status.busy": "2023-10-30T01:16:33.537857Z",
     "iopub.status.idle": "2023-10-30T01:16:33.541861Z",
     "shell.execute_reply": "2023-10-30T01:16:33.541328Z"
    },
    "papermill": {
     "duration": 0.011847,
     "end_time": "2023-10-30T01:16:33.543053",
     "exception": false,
     "start_time": "2023-10-30T01:16:33.531206",
     "status": "completed"
    },
    "tags": []
   },
   "outputs": [
    {
     "name": "stdout",
     "output_type": "stream",
     "text": [
      "20231030T021633 : enderlab : INFO : Notebook ha tardado 231 seconds\n"
     ]
    }
   ],
   "source": [
    "end_time = datetime.datetime.now()\n",
    "total_time = end_time - start_time\n",
    "myfunc.verbose(f\"Notebook ha tardado {total_time.seconds} seconds\")"
   ]
  },
  {
   "cell_type": "markdown",
   "id": "350b3063",
   "metadata": {
    "papermill": {
     "duration": 0.005638,
     "end_time": "2023-10-30T01:16:33.554423",
     "exception": false,
     "start_time": "2023-10-30T01:16:33.548785",
     "status": "completed"
    },
    "tags": []
   },
   "source": [
    "#### Guardar métricas"
   ]
  },
  {
   "cell_type": "code",
   "execution_count": 12,
   "id": "b66a4f5a",
   "metadata": {
    "execution": {
     "iopub.execute_input": "2023-10-30T01:16:33.566941Z",
     "iopub.status.busy": "2023-10-30T01:16:33.566433Z",
     "iopub.status.idle": "2023-10-30T01:16:33.887961Z",
     "shell.execute_reply": "2023-10-30T01:16:33.887405Z"
    },
    "papermill": {
     "duration": 0.329172,
     "end_time": "2023-10-30T01:16:33.889227",
     "exception": false,
     "start_time": "2023-10-30T01:16:33.560055",
     "status": "completed"
    },
    "tags": []
   },
   "outputs": [
    {
     "name": "stdout",
     "output_type": "stream",
     "text": [
      "20231030T021633 : enderlab : INFO : Inicio guardar métricas multiclase\n",
      "20231030T021633 : enderlab : INFO : Inicio leer fichero ../tfm_git/ejecuciones/metricas/metricas_8270.csv\n",
      "20231030T021633 : enderlab : INFO : Fin leer fichero ../tfm_git/ejecuciones/metricas/metricas_8270.csv\n"
     ]
    },
    {
     "name": "stdout",
     "output_type": "stream",
     "text": [
      "20231030T021633 : enderlab : INFO : Inicio guardar fichero ../tfm_git/ejecuciones/metricas/metricas_8270.csv\n",
      "20231030T021633 : enderlab : INFO : Fichero borrado ../tfm_git/ejecuciones/metricas/metricas_8270.csv\n",
      "20231030T021633 : enderlab : INFO : Fin guardar fichero ../tfm_git/ejecuciones/metricas/metricas_8270.csv\n",
      "20231030T021633 : enderlab : INFO : Fin guardar métricas multiclase\n",
      "20231030T021633 : enderlab : INFO : Inicio leer fichero ../tfm_git/ejecuciones/metricas/metricas_8270.csv\n",
      "20231030T021633 : enderlab : INFO : Fin leer fichero ../tfm_git/ejecuciones/metricas/metricas_8270.csv\n"
     ]
    },
    {
     "data": {
      "text/html": [
       "<div>\n",
       "<style scoped>\n",
       "    .dataframe tbody tr th:only-of-type {\n",
       "        vertical-align: middle;\n",
       "    }\n",
       "\n",
       "    .dataframe tbody tr th {\n",
       "        vertical-align: top;\n",
       "    }\n",
       "\n",
       "    .dataframe thead th {\n",
       "        text-align: right;\n",
       "    }\n",
       "</style>\n",
       "<table border=\"1\" class=\"dataframe\">\n",
       "  <thead>\n",
       "    <tr style=\"text-align: right;\">\n",
       "      <th></th>\n",
       "      <th>tipo</th>\n",
       "      <th>select</th>\n",
       "      <th>clasific</th>\n",
       "      <th>semilla</th>\n",
       "      <th>accuracy</th>\n",
       "      <th>precision</th>\n",
       "      <th>recall</th>\n",
       "      <th>f1_score</th>\n",
       "      <th>roc_auc</th>\n",
       "      <th>hostname</th>\n",
       "      <th>total_time_sec</th>\n",
       "      <th>datetime</th>\n",
       "      <th>fichero_modelo</th>\n",
       "      <th>params</th>\n",
       "      <th>shape</th>\n",
       "      <th>features</th>\n",
       "      <th>roc_auc_ovr</th>\n",
       "      <th>indices_auc</th>\n",
       "      <th>indices_jaccard</th>\n",
       "    </tr>\n",
       "  </thead>\n",
       "  <tbody>\n",
       "    <tr>\n",
       "      <th>0</th>\n",
       "      <td>mul_s</td>\n",
       "      <td>MI</td>\n",
       "      <td>RF</td>\n",
       "      <td>8270</td>\n",
       "      <td>0.346154</td>\n",
       "      <td>0.322815</td>\n",
       "      <td>0.345130</td>\n",
       "      <td>0.319834</td>\n",
       "      <td>NaN</td>\n",
       "      <td>enderlab</td>\n",
       "      <td>231</td>\n",
       "      <td>2023-10-30 02:16:33.835372</td>\n",
       "      <td>modelo_8270_mul_s_MI_RF.pkl</td>\n",
       "      <td>{'selector__k': 500, 'clasifier__n_estimators'...</td>\n",
       "      <td>X_test:(52, 18875)</td>\n",
       "      <td>['ENSG00000005513.10', 'ENSG00000006453.14', '...</td>\n",
       "      <td>0.708333</td>\n",
       "      <td>[0.4523281596452328, 0.7897727272727273, 0.642...</td>\n",
       "      <td>[0.07142857142857142, 0.35714285714285715, 0.0...</td>\n",
       "    </tr>\n",
       "    <tr>\n",
       "      <th>0</th>\n",
       "      <td>mul_s</td>\n",
       "      <td>MI</td>\n",
       "      <td>LR_L2</td>\n",
       "      <td>8270</td>\n",
       "      <td>0.480769</td>\n",
       "      <td>0.547619</td>\n",
       "      <td>0.505628</td>\n",
       "      <td>0.473750</td>\n",
       "      <td>NaN</td>\n",
       "      <td>enderlab</td>\n",
       "      <td>433</td>\n",
       "      <td>2023-10-30 02:12:35.299998</td>\n",
       "      <td>modelo_8270_mul_s_MI_LR_L2.pkl</td>\n",
       "      <td>{'selector__k': 500, 'clasifier__solver': 'sag...</td>\n",
       "      <td>X_test:(52, 18875)</td>\n",
       "      <td>['ENSG00000005513.10', 'ENSG00000006453.14', '...</td>\n",
       "      <td>0.824742</td>\n",
       "      <td>[0.6496674057649667, 0.9119318181818181, 0.718...</td>\n",
       "      <td>[0.23076923076923078, 0.375, 0.076923076923076...</td>\n",
       "    </tr>\n",
       "    <tr>\n",
       "      <th>0</th>\n",
       "      <td>mul_s</td>\n",
       "      <td>MI</td>\n",
       "      <td>LR_L1</td>\n",
       "      <td>8270</td>\n",
       "      <td>0.500000</td>\n",
       "      <td>0.549567</td>\n",
       "      <td>0.523485</td>\n",
       "      <td>0.493587</td>\n",
       "      <td>NaN</td>\n",
       "      <td>enderlab</td>\n",
       "      <td>690</td>\n",
       "      <td>2023-10-30 01:44:32.923359</td>\n",
       "      <td>modelo_8270_mul_s_MI_LR_L1.pkl</td>\n",
       "      <td>{'selector__k': 500, 'clasifier__solver': 'sag...</td>\n",
       "      <td>X_test:(52, 18875)</td>\n",
       "      <td>['ENSG00000005513.10', 'ENSG00000006453.14', '...</td>\n",
       "      <td>0.817589</td>\n",
       "      <td>[0.6341463414634146, 0.9090909090909091, 0.710...</td>\n",
       "      <td>[0.23076923076923078, 0.5, 0.07692307692307693...</td>\n",
       "    </tr>\n",
       "  </tbody>\n",
       "</table>\n",
       "</div>"
      ],
      "text/plain": [
       "    tipo select clasific  semilla  accuracy  precision    recall  f1_score  \\\n",
       "0  mul_s     MI       RF     8270  0.346154   0.322815  0.345130  0.319834   \n",
       "0  mul_s     MI    LR_L2     8270  0.480769   0.547619  0.505628  0.473750   \n",
       "0  mul_s     MI    LR_L1     8270  0.500000   0.549567  0.523485  0.493587   \n",
       "\n",
       "   roc_auc  hostname  total_time_sec                    datetime  \\\n",
       "0      NaN  enderlab             231  2023-10-30 02:16:33.835372   \n",
       "0      NaN  enderlab             433  2023-10-30 02:12:35.299998   \n",
       "0      NaN  enderlab             690  2023-10-30 01:44:32.923359   \n",
       "\n",
       "                   fichero_modelo  \\\n",
       "0     modelo_8270_mul_s_MI_RF.pkl   \n",
       "0  modelo_8270_mul_s_MI_LR_L2.pkl   \n",
       "0  modelo_8270_mul_s_MI_LR_L1.pkl   \n",
       "\n",
       "                                              params               shape  \\\n",
       "0  {'selector__k': 500, 'clasifier__n_estimators'...  X_test:(52, 18875)   \n",
       "0  {'selector__k': 500, 'clasifier__solver': 'sag...  X_test:(52, 18875)   \n",
       "0  {'selector__k': 500, 'clasifier__solver': 'sag...  X_test:(52, 18875)   \n",
       "\n",
       "                                            features  roc_auc_ovr  \\\n",
       "0  ['ENSG00000005513.10', 'ENSG00000006453.14', '...     0.708333   \n",
       "0  ['ENSG00000005513.10', 'ENSG00000006453.14', '...     0.824742   \n",
       "0  ['ENSG00000005513.10', 'ENSG00000006453.14', '...     0.817589   \n",
       "\n",
       "                                         indices_auc  \\\n",
       "0  [0.4523281596452328, 0.7897727272727273, 0.642...   \n",
       "0  [0.6496674057649667, 0.9119318181818181, 0.718...   \n",
       "0  [0.6341463414634146, 0.9090909090909091, 0.710...   \n",
       "\n",
       "                                     indices_jaccard  \n",
       "0  [0.07142857142857142, 0.35714285714285715, 0.0...  \n",
       "0  [0.23076923076923078, 0.375, 0.076923076923076...  \n",
       "0  [0.23076923076923078, 0.5, 0.07692307692307693...  "
      ]
     },
     "metadata": {},
     "output_type": "display_data"
    }
   ],
   "source": [
    "if M_TIPO.startswith(\"bin\"):\n",
    "    myfunc.save_metricas_to_csv(random_search, X_test, y_test, M_TIPO, M_SELECT, M_CLASIF, total_time, SEMILLA, myfunc.MET_DIR, M_FICHERO, fichero_modelo)\n",
    "else:\n",
    "    myfunc.save_metricas_multi_to_csv(random_search, X_test, y_test, M_TIPO, M_SELECT, M_CLASIF, total_time, SEMILLA, myfunc.MET_DIR, M_FICHERO, fichero_modelo)\n",
    "\n",
    "df1=myfunc.read_metricas_to_df(myfunc.MET_DIR,M_FICHERO)\n",
    "\n",
    "display(df1.sort_values(\"datetime\", ascending=False)[:3])\n"
   ]
  },
  {
   "cell_type": "markdown",
   "id": "4720340e",
   "metadata": {
    "papermill": {
     "duration": 0.006329,
     "end_time": "2023-10-30T01:16:33.902457",
     "exception": false,
     "start_time": "2023-10-30T01:16:33.896128",
     "status": "completed"
    },
    "tags": []
   },
   "source": [
    "#### Guardar resultados"
   ]
  },
  {
   "cell_type": "code",
   "execution_count": 13,
   "id": "88483ab9",
   "metadata": {
    "execution": {
     "iopub.execute_input": "2023-10-30T01:16:33.915917Z",
     "iopub.status.busy": "2023-10-30T01:16:33.915321Z",
     "iopub.status.idle": "2023-10-30T01:16:33.924407Z",
     "shell.execute_reply": "2023-10-30T01:16:33.923889Z"
    },
    "papermill": {
     "duration": 0.017034,
     "end_time": "2023-10-30T01:16:33.925572",
     "exception": false,
     "start_time": "2023-10-30T01:16:33.908538",
     "status": "completed"
    },
    "tags": []
   },
   "outputs": [
    {
     "name": "stdout",
     "output_type": "stream",
     "text": [
      "20231030T021633 : enderlab : INFO : Inicio guardar resultados\n",
      "20231030T021633 : enderlab : INFO : Inicio guardar fichero ../tfm_git/ejecuciones/metricas/resultados_8270_mul_s-MI-RF.csv\n",
      "20231030T021633 : enderlab : INFO : Fin guardar fichero ../tfm_git/ejecuciones/metricas/resultados_8270_mul_s-MI-RF.csv\n",
      "20231030T021633 : enderlab : INFO : Fin guardar resultados\n"
     ]
    }
   ],
   "source": [
    "fichero_resultados=R_FICHERO+\"_\"+M_TIPO+\"-\"+M_SELECT+\"-\"+M_CLASIF+\".csv\"\n",
    "myfunc.save_resultados_to_csv(M_TIPO, M_SELECT, M_CLASIF,  random_search, myfunc.MET_DIR, fichero_resultados)\n"
   ]
  }
 ],
 "metadata": {
  "kernelspec": {
   "display_name": "Python 3 (ipykernel)",
   "language": "python",
   "name": "python3"
  },
  "language_info": {
   "codemirror_mode": {
    "name": "ipython",
    "version": 3
   },
   "file_extension": ".py",
   "mimetype": "text/x-python",
   "name": "python",
   "nbconvert_exporter": "python",
   "pygments_lexer": "ipython3",
   "version": "3.10.11"
  },
  "papermill": {
   "default_parameters": {},
   "duration": 236.876169,
   "end_time": "2023-10-30T01:16:36.548472",
   "environment_variables": {},
   "exception": null,
   "input_path": "03_entrenamiento.ipynb",
   "output_path": "ejecuciones/training/03_entrenamiento.20231030T021239.param_0000_8270_mul_s_MI_RF.output.ipynb",
   "parameters": {
    "MAX_ITERS": 500,
    "M_CLASIF": "RF",
    "M_FICHERO": "metricas_8270",
    "M_SELECT": "MI",
    "M_TIPO": "mul_s",
    "PRE_DATA_FILE": "rows_transpose_norm_by_gene_id_with_target_num_",
    "P_FICHERO": "param_0000_8270_mul_s_MI_RF.yaml",
    "R_FICHERO": "resultados_8270",
    "SCORING": "roc_auc_ovr",
    "SEMILLA": 8270,
    "eval_clasifier": "RandomForestClassifier(random_state=SEMILLA)",
    "eval_selector": "SelectKBest(score_func=mutual_info_classif_state)",
    "param_distributions": {
     "clasifier__bootstrap": [
      true
     ],
     "clasifier__max_depth": [
      30
     ],
     "clasifier__max_features": [
      500
     ],
     "clasifier__min_samples_leaf": [
      5
     ],
     "clasifier__min_samples_split": [
      10
     ],
     "clasifier__n_estimators": [
      400
     ],
     "selector__k": [
      500
     ]
    }
   },
   "start_time": "2023-10-30T01:12:39.672303",
   "version": "2.4.0"
  }
 },
 "nbformat": 4,
 "nbformat_minor": 5
}