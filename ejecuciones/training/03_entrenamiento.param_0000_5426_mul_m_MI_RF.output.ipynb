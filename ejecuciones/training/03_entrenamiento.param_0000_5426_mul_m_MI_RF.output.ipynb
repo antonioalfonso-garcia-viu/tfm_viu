{
 "cells": [
  {
   "cell_type": "markdown",
   "id": "26c6949d",
   "metadata": {
    "papermill": {
     "duration": 0.0,
     "end_time": "2023-10-30T08:33:33.112324",
     "exception": false,
     "start_time": "2023-10-30T08:33:33.112324",
     "status": "completed"
    },
    "tags": []
   },
   "source": [
    "##### Inicio"
   ]
  },
  {
   "cell_type": "markdown",
   "id": "7789322a",
   "metadata": {
    "papermill": {
     "duration": 0.01549,
     "end_time": "2023-10-30T08:33:33.127814",
     "exception": false,
     "start_time": "2023-10-30T08:33:33.112324",
     "status": "completed"
    },
    "tags": []
   },
   "source": [
    "#### Carga de datos"
   ]
  },
  {
   "cell_type": "code",
   "execution_count": 1,
   "id": "a632f86e",
   "metadata": {
    "execution": {
     "iopub.execute_input": "2023-10-30T08:33:33.127814Z",
     "iopub.status.busy": "2023-10-30T08:33:33.127814Z",
     "iopub.status.idle": "2023-10-30T08:33:34.291465Z",
     "shell.execute_reply": "2023-10-30T08:33:34.291465Z"
    },
    "papermill": {
     "duration": 1.163651,
     "end_time": "2023-10-30T08:33:34.291465",
     "exception": false,
     "start_time": "2023-10-30T08:33:33.127814",
     "status": "completed"
    },
    "tags": []
   },
   "outputs": [
    {
     "name": "stdout",
     "output_type": "stream",
     "text": [
      "CPU_COUNT: 24; NODE: amilcar32; sys.version: 3.10.12 | packaged by Anaconda, Inc. | (main, Jul  5 2023, 19:09:20) [MSC v.1916 64 bit (AMD64)]\n",
      "LOKY_MAX_CPU_COUNT is not set.\n",
      "OMP_NUM_THREADS is not set.\n"
     ]
    }
   ],
   "source": [
    "import os\n",
    "import numpy as np\n",
    "import pandas as pd\n",
    "import datetime\n",
    "import sklearn\n",
    "import logging\n",
    "import warnings\n",
    "\n",
    "from sklearn.pipeline import Pipeline\n",
    "from sklearn.model_selection import RandomizedSearchCV, KFold, cross_val_score, train_test_split\n",
    "from sklearn.metrics import accuracy_score, confusion_matrix, classification_report, roc_auc_score\n",
    "\n",
    "#  cargar algoritmos para aprendizaje supervisado\n",
    "from sklearn.feature_selection import SelectKBest, f_classif, SelectFromModel, mutual_info_classif\n",
    "from sklearn.svm import SVC\n",
    "from sklearn.ensemble import RandomForestClassifier\n",
    "from sklearn.linear_model import LogisticRegression,LogisticRegressionCV\n",
    "\n",
    "# importar fichero con utilidades propias\n",
    "from commons import myfunctions as myfunc\n"
   ]
  },
  {
   "cell_type": "markdown",
   "id": "d9669ebf",
   "metadata": {
    "papermill": {
     "duration": 0.0,
     "end_time": "2023-10-30T08:33:34.294738",
     "exception": false,
     "start_time": "2023-10-30T08:33:34.294738",
     "status": "completed"
    },
    "tags": []
   },
   "source": [
    "#### Parámetros a utilizar en el entrenamiento.\n",
    "\n",
    "Se indican los 3 algoritmos de *selección de características* (eval_selector_xxx) y los 3 algoritmos para la _clasificación_ (eval_clasifier_xxx)\n",
    "\n",
    "En *param_distributions* se indicar los parámetros que utilizan los algoritmos en la función RandomSearchCV.\n",
    "\n",
    "Esta celda tiene la etiqueta **parameters** que servirá para poder lanzar los entrenamientos con la utilidad **papermill** pasándole un fichero con los parámetros. Los nuevos parámetros se situarán tras esta celda para tener prevalencia."
   ]
  },
  {
   "cell_type": "code",
   "execution_count": 2,
   "id": "d07fb2d8",
   "metadata": {
    "execution": {
     "iopub.execute_input": "2023-10-30T08:33:34.307418Z",
     "iopub.status.busy": "2023-10-30T08:33:34.307418Z",
     "iopub.status.idle": "2023-10-30T08:33:34.323136Z",
     "shell.execute_reply": "2023-10-30T08:33:34.323136Z"
    },
    "papermill": {
     "duration": 0.028398,
     "end_time": "2023-10-30T08:33:34.323136",
     "exception": false,
     "start_time": "2023-10-30T08:33:34.294738",
     "status": "completed"
    },
    "tags": [
     "parameters"
    ]
   },
   "outputs": [
    {
     "name": "stdout",
     "output_type": "stream",
     "text": [
      "20231030T093334 : amilcar32 : INFO : Utilizando parámetros de mul_m\n"
     ]
    }
   ],
   "source": [
    "#  Parametros para el entrenamiento\n",
    "\n",
    "SEMILLA=        42\n",
    "M_TIPO=         \"mul_m\"\n",
    "M_SELECT=       \"MI\"\n",
    "M_CLASIF=       \"SVM\"\n",
    "R_FICHERO=      \"resultados\"\n",
    "M_FICHERO=      \"metricas\"\n",
    "PRE_DATA_FILE=  \"rows_transpose_norm_by_gene_id_with_target_num_\"\n",
    "SCORING=        \"roc_auc_ovr\" \n",
    "MAX_ITERS=      100\n",
    "\n",
    "def mutual_info_classif_state(X, y):\n",
    "    return mutual_info_classif(X, y, random_state=SEMILLA)\n",
    "\n",
    "eval_selector_mi = \"SelectKBest(score_func=mutual_info_classif_state)\"\n",
    "eval_selector_rf=  \"SelectFromModel(estimator=RandomForestClassifier(random_state=SEMILLA), threshold=-np.inf)\"\n",
    "eval_selector_anova=  \"SelectKBest(score_func=f_classif)\"\n",
    "\n",
    "eval_clasifier_svm= \"SVC(probability=True, random_state=SEMILLA)\"\n",
    "eval_clasifier_rf= \"RandomForestClassifier(random_state=SEMILLA)\"\n",
    "eval_clasifier_lr= \"LogisticRegressionCV(random_state=SEMILLA)\"\n",
    "\n",
    "if M_TIPO.startswith(\"bin_m\"):\n",
    "    myfunc.verbose(f\"Utilizando parámetros de {M_TIPO}\")\n",
    "    eval_selector = eval_selector_mi\n",
    "    eval_clasifier = eval_clasifier_svm\n",
    "\n",
    "    SEMILLA = 6578\n",
    "    M_SELECT = \"MI\"\n",
    "    M_CLASIF = \"SVM\"\n",
    "    param_distributions = {'selector__k': [1000], \n",
    "         'clasifier__kernel': ['rbf'], 'clasifier__gamma': [0.01], 'clasifier__C': [100]}\n",
    "elif M_TIPO.startswith(\"bin_s\"):\n",
    "    myfunc.verbose(f\"Utilizando parámetros de {M_TIPO}\")\n",
    "    eval_selector = eval_selector_rf\n",
    "    eval_clasifier = eval_clasifier_lr\n",
    "\n",
    "    SEMILLA = 6191\n",
    "    M_SELECT = \"RF\"\n",
    "    M_CLASIF = \"LR_L2\"\n",
    "    param_distributions = {'selector__max_features': [1000], 'selector__estimator__n_estimators': [200], \n",
    "        'clasifier__solver': ['lbfgs'], 'clasifier__penalty': ['l2'], 'clasifier__max_iter': [10000]}\n",
    "\n",
    "elif M_TIPO.startswith(\"mul_m\"):\n",
    "    myfunc.verbose(f\"Utilizando parámetros de {M_TIPO}\")\n",
    " \n",
    "    eval_selector = eval_selector_rf\n",
    "    eval_clasifier = eval_clasifier_lr\n",
    "\n",
    "    SEMILLA = 6191\n",
    "    M_SELECT = \"RF\"\n",
    "    M_CLASIF = \"LR_L2\"\n",
    "    param_distributions = {'selector__max_features': [1000], 'selector__estimator__n_estimators': [400], \n",
    "        'clasifier__solver': ['lbfgs'], 'clasifier__penalty': ['l2'], 'clasifier__max_iter': [10000]}\n",
    "\n",
    "else:\n",
    "    # M_TIPO.startswith(\"mul_s\"):\n",
    "    myfunc.verbose(f\"Utilizando parámetros de {M_TIPO}\")\n",
    "    eval_selector = eval_selector_anova\n",
    "    eval_clasifier = eval_clasifier_lr\n",
    "\n",
    "    SEMILLA = 1860\n",
    "    M_SELECT = \"ANOVA\"\n",
    "    M_CLASIF = \"LR_L2\"\n",
    "    param_distributions = {'selector__k': [1000], \n",
    "        'clasifier__solver': ['saga'], 'clasifier__penalty': ['l2'], 'clasifier__max_iter': [10000]}\n",
    "\n"
   ]
  },
  {
   "cell_type": "code",
   "execution_count": 3,
   "id": "c45d334a",
   "metadata": {
    "execution": {
     "iopub.execute_input": "2023-10-30T08:33:34.323136Z",
     "iopub.status.busy": "2023-10-30T08:33:34.323136Z",
     "iopub.status.idle": "2023-10-30T08:33:34.338774Z",
     "shell.execute_reply": "2023-10-30T08:33:34.338774Z"
    },
    "papermill": {
     "duration": 0.017226,
     "end_time": "2023-10-30T08:33:34.340362",
     "exception": false,
     "start_time": "2023-10-30T08:33:34.323136",
     "status": "completed"
    },
    "tags": [
     "injected-parameters"
    ]
   },
   "outputs": [],
   "source": [
    "# Parameters\n",
    "M_TIPO = \"mul_m\"\n",
    "M_SELECT = \"MI\"\n",
    "M_CLASIF = \"RF\"\n",
    "P_FICHERO = \"param_0000_5426_mul_m_MI_RF.yaml\"\n",
    "R_FICHERO = \"resultados_5426\"\n",
    "M_FICHERO = \"metricas_5426\"\n",
    "PRE_DATA_FILE = \"rows_transpose_norm_by_gene_id_with_target_num_\"\n",
    "SCORING = \"roc_auc_ovr\"\n",
    "SEMILLA = 5426\n",
    "MAX_ITERS = 500\n",
    "eval_selector = \"SelectKBest(score_func=mutual_info_classif_state)\"\n",
    "eval_clasifier = \"RandomForestClassifier(random_state=SEMILLA)\"\n",
    "param_distributions = {\n",
    "    \"selector__k\": [1000],\n",
    "    \"clasifier__n_estimators\": [200],\n",
    "    \"clasifier__min_samples_split\": [10],\n",
    "    \"clasifier__min_samples_leaf\": [5],\n",
    "    \"clasifier__max_features\": [500],\n",
    "    \"clasifier__max_depth\": [10],\n",
    "    \"clasifier__bootstrap\": [True],\n",
    "}\n"
   ]
  },
  {
   "cell_type": "code",
   "execution_count": 4,
   "id": "ee9b6f06",
   "metadata": {
    "execution": {
     "iopub.execute_input": "2023-10-30T08:33:34.340362Z",
     "iopub.status.busy": "2023-10-30T08:33:34.340362Z",
     "iopub.status.idle": "2023-10-30T08:33:34.354957Z",
     "shell.execute_reply": "2023-10-30T08:33:34.354957Z"
    },
    "papermill": {
     "duration": 0.014595,
     "end_time": "2023-10-30T08:33:34.354957",
     "exception": false,
     "start_time": "2023-10-30T08:33:34.340362",
     "status": "completed"
    },
    "tags": []
   },
   "outputs": [],
   "source": [
    "DATA_FILE = PRE_DATA_FILE + M_TIPO\n",
    "\n",
    "# si viene \"None\" en el parámetro max_depth, se le quitan las comillas para que no sea entendido por el algoritmo como un texto\n",
    "if \"clasifier__max_depth\" in param_distributions:\n",
    "    param_distributions['clasifier__max_depth'] = [None if x == 'None' else x for x in param_distributions['clasifier__max_depth']]"
   ]
  },
  {
   "cell_type": "markdown",
   "id": "3718503d",
   "metadata": {
    "papermill": {
     "duration": 0.0,
     "end_time": "2023-10-30T08:33:34.354957",
     "exception": false,
     "start_time": "2023-10-30T08:33:34.354957",
     "status": "completed"
    },
    "tags": []
   },
   "source": [
    "Asignar los algoritmos que se utilizarán en la función RandomSearchCV"
   ]
  },
  {
   "cell_type": "code",
   "execution_count": 5,
   "id": "81158f81",
   "metadata": {
    "execution": {
     "iopub.execute_input": "2023-10-30T08:33:34.354957Z",
     "iopub.status.busy": "2023-10-30T08:33:34.354957Z",
     "iopub.status.idle": "2023-10-30T08:33:34.370595Z",
     "shell.execute_reply": "2023-10-30T08:33:34.370595Z"
    },
    "papermill": {
     "duration": 0.015638,
     "end_time": "2023-10-30T08:33:34.370595",
     "exception": false,
     "start_time": "2023-10-30T08:33:34.354957",
     "status": "completed"
    },
    "tags": []
   },
   "outputs": [],
   "source": [
    "algor_selector=eval(eval_selector)\n",
    "algor_clasifier=eval(eval_clasifier)"
   ]
  },
  {
   "cell_type": "markdown",
   "id": "7e0e124e",
   "metadata": {
    "papermill": {
     "duration": 0.0,
     "end_time": "2023-10-30T08:33:34.370595",
     "exception": false,
     "start_time": "2023-10-30T08:33:34.370595",
     "status": "completed"
    },
    "tags": []
   },
   "source": [
    "#### Comprobar el entorno y leer fichero de muestras"
   ]
  },
  {
   "cell_type": "code",
   "execution_count": 6,
   "id": "a78a48a0",
   "metadata": {
    "execution": {
     "iopub.execute_input": "2023-10-30T08:33:34.370595Z",
     "iopub.status.busy": "2023-10-30T08:33:34.370595Z",
     "iopub.status.idle": "2023-10-30T08:33:34.559592Z",
     "shell.execute_reply": "2023-10-30T08:33:34.559592Z"
    },
    "papermill": {
     "duration": 0.188997,
     "end_time": "2023-10-30T08:33:34.559592",
     "exception": false,
     "start_time": "2023-10-30T08:33:34.370595",
     "status": "completed"
    },
    "tags": []
   },
   "outputs": [
    {
     "name": "stdout",
     "output_type": "stream",
     "text": [
      "20231030T093334 : amilcar32 : INFO : Encontrada carpeta DATA_DIR=..\\tfm_viu\\datos\n",
      "20231030T093334 : amilcar32 : INFO : Encontrada carpeta CFDNA_DIR=..\\tfm_viu\\datos\\cfDNA_5hmC\n",
      "20231030T093334 : amilcar32 : INFO : Encontrada carpeta GENCODE_DIR=..\\tfm_viu\\datos\\gencode\n",
      "20231030T093334 : amilcar32 : INFO : Encontrada carpeta H5_DIR=..\\tfm_viu\\datos\\h5\n",
      "20231030T093334 : amilcar32 : INFO : Encontrada carpeta LOG_DIR=..\\tfm_viu\\datos\\logs\n",
      "20231030T093334 : amilcar32 : INFO : Encontrada carpeta CSV_DIR=..\\tfm_viu\\datos\\csv\n",
      "20231030T093334 : amilcar32 : INFO : Encontrada carpeta MODEL_DIR=..\\tfm_viu\\ejecuciones\\modelos\n",
      "20231030T093334 : amilcar32 : INFO : Encontrada carpeta EXEC_DIR=..\\tfm_viu\\ejecuciones\n",
      "20231030T093334 : amilcar32 : INFO : Encontrada carpeta MET_DIR=..\\tfm_viu\\ejecuciones\\metricas\n",
      "20231030T093334 : amilcar32 : INFO : Inicio leer fichero h5 ..\\tfm_viu\\datos\\h5\\rows_transpose_norm_by_gene_id_with_target_num_mul_m.h5\n",
      "20231030T093334 : amilcar32 : INFO : Leyendo clave /df\n"
     ]
    },
    {
     "name": "stdout",
     "output_type": "stream",
     "text": [
      "20231030T093334 : amilcar32 : INFO : Tamaño (434, 18876)\n",
      "20231030T093334 : amilcar32 : INFO : Fin leer fichero h5 ..\\tfm_viu\\datos\\h5\\rows_transpose_norm_by_gene_id_with_target_num_mul_m.h5\n"
     ]
    },
    {
     "data": {
      "text/plain": [
       "target\n",
       "0    62\n",
       "1    62\n",
       "2    62\n",
       "3    62\n",
       "4    62\n",
       "5    62\n",
       "6    62\n",
       "dtype: int64"
      ]
     },
     "metadata": {},
     "output_type": "display_data"
    },
    {
     "name": "stdout",
     "output_type": "stream",
     "text": [
      "Shape df: (434, 18876)\n",
      "Shape X_train: (347, 18875)\n",
      "Shape X_test: (87, 18875)\n"
     ]
    }
   ],
   "source": [
    "start_time = datetime.datetime.now()\n",
    "\n",
    "myfunc.reset_vars()\n",
    "\n",
    "myfunc.NOTEBK_FILENAME = myfunc.get_nb_name()\n",
    "\n",
    "myfunc.check_enviroment(myfunc.DATA_DIR, myfunc.CFDNA_DIR, myfunc.GENCODE_DIR, myfunc.H5_DIR, myfunc.LOG_DIR, myfunc.CSV_DIR, myfunc.MODEL_DIR, myfunc.EXEC_DIR, myfunc.MET_DIR)\n",
    "\n",
    "# Leer fichero con las muestras\n",
    "df_t = myfunc.read_h5_to_df(DATA_FILE, myfunc.H5_DIR)\n",
    "display(df_t.groupby(\"target\").size())\n",
    "print(\"Shape df:\",df_t.shape)\n",
    "\n",
    "# Separar caracteristicas/genes de las etiquetas/tipos de cáncer\n",
    "X = df_t.iloc[:, :-1]  # Todas las columnas excepto la última\n",
    "y = df_t.iloc[:, -1]  # La última columna contiene los identificadores de los tipos de cáncer\n",
    "\n",
    "#  Crear el conjunto de datos de entrenamiento y de pruebas, y se fija la semilla para siempre coger el mismo juego de muestras\n",
    "X_train, X_test, y_train, y_test = train_test_split(X, y, test_size=0.2, shuffle=True, random_state=42)\n",
    "print(\"Shape X_train:\",X_train.shape)\n",
    "print(\"Shape X_test:\",X_test.shape)\n"
   ]
  },
  {
   "cell_type": "markdown",
   "id": "170470cc",
   "metadata": {
    "papermill": {
     "duration": 0.0,
     "end_time": "2023-10-30T08:33:34.559592",
     "exception": false,
     "start_time": "2023-10-30T08:33:34.559592",
     "status": "completed"
    },
    "tags": []
   },
   "source": [
    "#### Selección de características y clasificación."
   ]
  },
  {
   "cell_type": "code",
   "execution_count": 7,
   "id": "74fb79c6",
   "metadata": {
    "execution": {
     "iopub.execute_input": "2023-10-30T08:33:34.575310Z",
     "iopub.status.busy": "2023-10-30T08:33:34.575310Z",
     "iopub.status.idle": "2023-10-30T08:39:49.356670Z",
     "shell.execute_reply": "2023-10-30T08:39:49.356670Z"
    },
    "papermill": {
     "duration": 374.797078,
     "end_time": "2023-10-30T08:39:49.356670",
     "exception": false,
     "start_time": "2023-10-30T08:33:34.559592",
     "status": "completed"
    },
    "tags": []
   },
   "outputs": [
    {
     "name": "stdout",
     "output_type": "stream",
     "text": [
      "20231030T093334 : amilcar32 : INFO : Iniciando entrenamiento\n",
      "num_iter: 1 , max_iter: 1\n",
      "Fitting 5 folds for each of 1 candidates, totalling 5 fits\n"
     ]
    },
    {
     "name": "stdout",
     "output_type": "stream",
     "text": [
      "Mejores Hiperparámetros: {'selector__k': 1000, 'clasifier__n_estimators': 200, 'clasifier__min_samples_split': 10, 'clasifier__min_samples_leaf': 5, 'clasifier__max_features': 500, 'clasifier__max_depth': 10, 'clasifier__bootstrap': True}\n",
      "Mejor Puntuación: 0.7987\n",
      "20231030T093949 : amilcar32 : INFO : Fin entrenamiento\n"
     ]
    }
   ],
   "source": [
    "myfunc.verbose(\"Iniciando entrenamiento\")\n",
    "\n",
    "kf = KFold(n_splits=5, shuffle=True, random_state=SEMILLA)\n",
    "\n",
    "# Crear el pipeline para el flujo de tareas\n",
    "tasks_pipeline = Pipeline([\n",
    "    ('selector', algor_selector),\n",
    "    ('clasifier', algor_clasifier)\n",
    "])\n",
    "\n",
    "# MAX_ITERS puede limitar el número de iteraciones si son excesivas para las combinaciones de parámetros buscando un óptimo local, \n",
    "# sino funcionaría como GridSearchCV al revisar todas las cominaciones de los parámetros\n",
    "num_iteraciones = 1\n",
    "num_iteraciones = num_iteraciones * np.prod([len(elemento1) for _, elemento1 in param_distributions.items()])\n",
    "max_iteraciones = num_iteraciones if num_iteraciones <= MAX_ITERS else MAX_ITERS\n",
    "print(\"num_iter:\",num_iteraciones,\", max_iter:\",max_iteraciones)\n",
    "\n",
    "random_search = RandomizedSearchCV(\n",
    "    tasks_pipeline, \n",
    "    param_distributions, \n",
    "    n_iter=max_iteraciones,\n",
    "    scoring=SCORING,\n",
    "    cv=kf,\n",
    "    verbose=3, \n",
    "    random_state=SEMILLA, \n",
    "    n_jobs=-1\n",
    "    )\n",
    "\n",
    "# Entrenar el modelo\n",
    "random_search.fit(X_train, y_train)\n",
    "\n",
    "# Ver los mejores hiperparámetros encontrados\n",
    "print(f'Mejores Hiperparámetros: {random_search.best_params_}')\n",
    "print(f'Mejor Puntuación: {random_search.best_score_:.4f}')\n",
    "\n",
    "# Nos quedamos con el mejor modelo para ver las métricas\n",
    "mejor_modelo = random_search.best_estimator_\n",
    "\n",
    "myfunc.verbose(\"Fin entrenamiento\")"
   ]
  },
  {
   "cell_type": "markdown",
   "id": "a5542bc9",
   "metadata": {
    "papermill": {
     "duration": 0.015682,
     "end_time": "2023-10-30T08:39:49.387990",
     "exception": false,
     "start_time": "2023-10-30T08:39:49.372308",
     "status": "completed"
    },
    "tags": []
   },
   "source": [
    "#### Guardar modelo"
   ]
  },
  {
   "cell_type": "code",
   "execution_count": 8,
   "id": "95c87ebf",
   "metadata": {
    "execution": {
     "iopub.execute_input": "2023-10-30T08:39:49.403704Z",
     "iopub.status.busy": "2023-10-30T08:39:49.403704Z",
     "iopub.status.idle": "2023-10-30T08:39:49.498175Z",
     "shell.execute_reply": "2023-10-30T08:39:49.498175Z"
    },
    "papermill": {
     "duration": 0.110185,
     "end_time": "2023-10-30T08:39:49.498175",
     "exception": false,
     "start_time": "2023-10-30T08:39:49.387990",
     "status": "completed"
    },
    "tags": []
   },
   "outputs": [
    {
     "name": "stdout",
     "output_type": "stream",
     "text": [
      "20231030T093949 : amilcar32 : INFO : Inicio guardar fichero ..\\tfm_viu\\ejecuciones\\modelos\\modelo_5426_mul_m_MI_RF.pkl\n",
      "20231030T093949 : amilcar32 : INFO : Fin guardar fichero ..\\tfm_viu\\ejecuciones\\modelos\\modelo_5426_mul_m_MI_RF.pkl\n"
     ]
    }
   ],
   "source": [
    "fichero_modelo = str.replace(\"modelo_\"+str(SEMILLA).zfill(4)+\"_\"+M_TIPO+\"_\"+M_SELECT+\"_\"+M_CLASIF+\".pkl\", \" \", \"_\")\n",
    "\n",
    "myfunc.save_modelo(mejor_modelo, myfunc.MODEL_DIR, fichero_modelo)"
   ]
  },
  {
   "cell_type": "markdown",
   "id": "6b8a6cc0",
   "metadata": {
    "papermill": {
     "duration": 0.015592,
     "end_time": "2023-10-30T08:39:49.513767",
     "exception": false,
     "start_time": "2023-10-30T08:39:49.498175",
     "status": "completed"
    },
    "tags": []
   },
   "source": [
    "#### Ver resultados del las iteraciones hechas por RandomSearchCV"
   ]
  },
  {
   "cell_type": "code",
   "execution_count": 9,
   "id": "51800fb4",
   "metadata": {
    "execution": {
     "iopub.execute_input": "2023-10-30T08:39:49.527469Z",
     "iopub.status.busy": "2023-10-30T08:39:49.527469Z",
     "iopub.status.idle": "2023-10-30T08:39:49.545342Z",
     "shell.execute_reply": "2023-10-30T08:39:49.545342Z"
    },
    "papermill": {
     "duration": 0.031575,
     "end_time": "2023-10-30T08:39:49.545342",
     "exception": false,
     "start_time": "2023-10-30T08:39:49.513767",
     "status": "completed"
    },
    "tags": []
   },
   "outputs": [
    {
     "name": "stdout",
     "output_type": "stream",
     "text": [
      "20231030T093949 : amilcar32 : INFO : Inicio ver resultados\n",
      "Mejores Hiperparámetros: {'selector__k': 1000, 'clasifier__n_estimators': 200, 'clasifier__min_samples_split': 10, 'clasifier__min_samples_leaf': 5, 'clasifier__max_features': 500, 'clasifier__max_depth': 10, 'clasifier__bootstrap': True}\n",
      "Mejores puntuaciones: 0.7987 | Params: {'selector__k': 1000, 'clasifier__n_estimators': 200, 'clasifier__min_samples_split': 10, 'clasifier__min_samples_leaf': 5, 'clasifier__max_features': 500, 'clasifier__max_depth': 10, 'clasifier__bootstrap': True}\n",
      "Media de las puntuaciones: 0.7987 | Params: {'selector__k': 1000, 'clasifier__n_estimators': 200, 'clasifier__min_samples_split': 10, 'clasifier__min_samples_leaf': 5, 'clasifier__max_features': 500, 'clasifier__max_depth': 10, 'clasifier__bootstrap': True}\n",
      "20231030T093949 : amilcar32 : INFO : Fin resultados\n"
     ]
    }
   ],
   "source": [
    "myfunc.ver_resultados_search(random_search)"
   ]
  },
  {
   "cell_type": "markdown",
   "id": "3562e158",
   "metadata": {
    "papermill": {
     "duration": 0.0,
     "end_time": "2023-10-30T08:39:49.560873",
     "exception": false,
     "start_time": "2023-10-30T08:39:49.560873",
     "status": "completed"
    },
    "tags": []
   },
   "source": [
    "#### Ver métricas del mejor modelo"
   ]
  },
  {
   "cell_type": "code",
   "execution_count": 10,
   "id": "343ab629",
   "metadata": {
    "execution": {
     "iopub.execute_input": "2023-10-30T08:39:49.592108Z",
     "iopub.status.busy": "2023-10-30T08:39:49.592108Z",
     "iopub.status.idle": "2023-10-30T08:39:51.103533Z",
     "shell.execute_reply": "2023-10-30T08:39:51.103533Z"
    },
    "papermill": {
     "duration": 1.527026,
     "end_time": "2023-10-30T08:39:51.103533",
     "exception": false,
     "start_time": "2023-10-30T08:39:49.576507",
     "status": "completed"
    },
    "tags": []
   },
   "outputs": [
    {
     "name": "stdout",
     "output_type": "stream",
     "text": [
      "20231030T093949 : amilcar32 : INFO : Inicio ver métricas multiclase\n"
     ]
    },
    {
     "name": "stdout",
     "output_type": "stream",
     "text": [
      "              precision    recall  f1-score   support\n",
      "\n",
      "           0       0.50      0.12      0.20        16\n",
      "           1       0.56      0.33      0.42        15\n",
      "           2       0.44      0.36      0.40        11\n",
      "           3       0.20      0.60      0.30         5\n",
      "           4       0.48      0.77      0.59        13\n",
      "           5       0.33      0.44      0.38         9\n",
      "           6       0.53      0.50      0.51        18\n",
      "\n",
      "    accuracy                           0.43        87\n",
      "   macro avg       0.43      0.45      0.40        87\n",
      "weighted avg       0.47      0.43      0.41        87\n",
      "\n",
      "\n",
      "\n",
      "           Exactitud: 0.425287\n",
      "   Precisión (media): 0.434134\n",
      "      Recall (media): 0.447949\n",
      "    F1-score (media): 0.400020\n",
      "\n",
      "\n",
      "AUC para el tipo de cáncer 0-Control.... 0.6285\n",
      "AUC para el tipo de cáncer 1-Bladder.... 0.8463\n",
      "AUC para el tipo de cáncer 2-Breast..... 0.7309\n",
      "AUC para el tipo de cáncer 3-Colorectal. 0.8390\n",
      "AUC para el tipo de cáncer 4-Kidney..... 0.8067\n",
      "AUC para el tipo de cáncer 5-Lung....... 0.7949\n",
      "AUC para el tipo de cáncer 6-Prostate... 0.8060\n",
      "\n",
      "Media de AUC: 0.7789\n"
     ]
    },
    {
     "data": {
      "image/png": "[encoded data removed]",
      "text/plain": [
       "<Figure size 1000x600 with 1 Axes>"
      ]
     },
     "metadata": {},
     "output_type": "display_data"
    },
    {
     "name": "stdout",
     "output_type": "stream",
     "text": [
      "\n",
      "\n"
     ]
    },
    {
     "data": {
      "image/png": "[encoded data removed]",
      "text/plain": [
       "<Figure size 800x400 with 2 Axes>"
      ]
     },
     "metadata": {},
     "output_type": "display_data"
    },
    {
     "name": "stdout",
     "output_type": "stream",
     "text": [
      "\n",
      "\n",
      "Puntuación Jaccard para el cáncer tipo 0-Control.... 0.1111\n",
      "Puntuación Jaccard para el cáncer tipo 1-Bladder.... 0.2632\n",
      "Puntuación Jaccard para el cáncer tipo 2-Breast..... 0.2500\n",
      "Puntuación Jaccard para el cáncer tipo 3-Colorectal. 0.1765\n",
      "Puntuación Jaccard para el cáncer tipo 4-Kidney..... 0.4167\n",
      "Puntuación Jaccard para el cáncer tipo 5-Lung....... 0.2353\n",
      "Puntuación Jaccard para el cáncer tipo 6-Prostate... 0.3462\n",
      "\n",
      "Media de la puntuación de Jaccard: 0.2570\n"
     ]
    }
   ],
   "source": [
    "if M_TIPO.startswith(\"bin\"):\n",
    "    myfunc.ver_metricas(mejor_modelo, X_test, y_test)\n",
    "else:\n",
    "    myfunc.ver_metricas_multi(mejor_modelo, X_test, y_test)\n"
   ]
  },
  {
   "cell_type": "markdown",
   "id": "b8c8731f",
   "metadata": {
    "papermill": {
     "duration": 0.017821,
     "end_time": "2023-10-30T08:39:51.136805",
     "exception": false,
     "start_time": "2023-10-30T08:39:51.118984",
     "status": "completed"
    },
    "tags": []
   },
   "source": [
    "#### Finalización del notebook"
   ]
  },
  {
   "cell_type": "code",
   "execution_count": 11,
   "id": "648033e8",
   "metadata": {
    "execution": {
     "iopub.execute_input": "2023-10-30T08:39:51.166619Z",
     "iopub.status.busy": "2023-10-30T08:39:51.166619Z",
     "iopub.status.idle": "2023-10-30T08:39:51.198017Z",
     "shell.execute_reply": "2023-10-30T08:39:51.198017Z"
    },
    "papermill": {
     "duration": 0.047126,
     "end_time": "2023-10-30T08:39:51.198017",
     "exception": false,
     "start_time": "2023-10-30T08:39:51.150891",
     "status": "completed"
    },
    "tags": []
   },
   "outputs": [
    {
     "name": "stdout",
     "output_type": "stream",
     "text": [
      "20231030T093951 : amilcar32 : INFO : Notebook ha tardado 376 seconds\n"
     ]
    }
   ],
   "source": [
    "end_time = datetime.datetime.now()\n",
    "total_time = end_time - start_time\n",
    "myfunc.verbose(f\"Notebook ha tardado {total_time.seconds} seconds\")"
   ]
  },
  {
   "cell_type": "markdown",
   "id": "8df285a6",
   "metadata": {
    "papermill": {
     "duration": 0.016178,
     "end_time": "2023-10-30T08:39:51.229657",
     "exception": false,
     "start_time": "2023-10-30T08:39:51.213479",
     "status": "completed"
    },
    "tags": []
   },
   "source": [
    "#### Guardar métricas"
   ]
  },
  {
   "cell_type": "code",
   "execution_count": 12,
   "id": "a51021a8",
   "metadata": {
    "execution": {
     "iopub.execute_input": "2023-10-30T08:39:51.245366Z",
     "iopub.status.busy": "2023-10-30T08:39:51.245366Z",
     "iopub.status.idle": "2023-10-30T08:39:51.813771Z",
     "shell.execute_reply": "2023-10-30T08:39:51.813771Z"
    },
    "papermill": {
     "duration": 0.584114,
     "end_time": "2023-10-30T08:39:51.813771",
     "exception": false,
     "start_time": "2023-10-30T08:39:51.229657",
     "status": "completed"
    },
    "tags": []
   },
   "outputs": [
    {
     "name": "stdout",
     "output_type": "stream",
     "text": [
      "20231030T093951 : amilcar32 : INFO : Inicio guardar métricas multiclase\n",
      "20231030T093951 : amilcar32 : INFO : Inicio leer fichero ..\\tfm_viu\\ejecuciones\\metricas\\metricas_5426.csv\n",
      "20231030T093951 : amilcar32 : INFO : Fin leer fichero ..\\tfm_viu\\ejecuciones\\metricas\\metricas_5426.csv\n"
     ]
    },
    {
     "name": "stdout",
     "output_type": "stream",
     "text": [
      "20231030T093951 : amilcar32 : INFO : Inicio guardar fichero ..\\tfm_viu\\ejecuciones\\metricas\\metricas_5426.csv\n",
      "20231030T093951 : amilcar32 : INFO : Fichero borrado ..\\tfm_viu\\ejecuciones\\metricas\\metricas_5426.csv\n",
      "20231030T093951 : amilcar32 : INFO : Fin guardar fichero ..\\tfm_viu\\ejecuciones\\metricas\\metricas_5426.csv\n",
      "20231030T093951 : amilcar32 : INFO : Fin guardar métricas multiclase\n",
      "20231030T093951 : amilcar32 : INFO : Inicio leer fichero ..\\tfm_viu\\ejecuciones\\metricas\\metricas_5426.csv\n",
      "20231030T093951 : amilcar32 : INFO : Fin leer fichero ..\\tfm_viu\\ejecuciones\\metricas\\metricas_5426.csv\n"
     ]
    },
    {
     "data": {
      "text/html": [
       "<div>\n",
       "<style scoped>\n",
       "    .dataframe tbody tr th:only-of-type {\n",
       "        vertical-align: middle;\n",
       "    }\n",
       "\n",
       "    .dataframe tbody tr th {\n",
       "        vertical-align: top;\n",
       "    }\n",
       "\n",
       "    .dataframe thead th {\n",
       "        text-align: right;\n",
       "    }\n",
       "</style>\n",
       "<table border=\"1\" class=\"dataframe\">\n",
       "  <thead>\n",
       "    <tr style=\"text-align: right;\">\n",
       "      <th></th>\n",
       "      <th>tipo</th>\n",
       "      <th>select</th>\n",
       "      <th>clasific</th>\n",
       "      <th>semilla</th>\n",
       "      <th>accuracy</th>\n",
       "      <th>precision</th>\n",
       "      <th>recall</th>\n",
       "      <th>f1_score</th>\n",
       "      <th>roc_auc</th>\n",
       "      <th>hostname</th>\n",
       "      <th>total_time_sec</th>\n",
       "      <th>datetime</th>\n",
       "      <th>fichero_modelo</th>\n",
       "      <th>params</th>\n",
       "      <th>shape</th>\n",
       "      <th>features</th>\n",
       "      <th>roc_auc_ovr</th>\n",
       "      <th>indices_auc</th>\n",
       "      <th>indices_jaccard</th>\n",
       "    </tr>\n",
       "  </thead>\n",
       "  <tbody>\n",
       "    <tr>\n",
       "      <th>0</th>\n",
       "      <td>mul_m</td>\n",
       "      <td>MI</td>\n",
       "      <td>RF</td>\n",
       "      <td>5426</td>\n",
       "      <td>0.425287</td>\n",
       "      <td>0.434134</td>\n",
       "      <td>0.447949</td>\n",
       "      <td>0.400020</td>\n",
       "      <td>NaN</td>\n",
       "      <td>amilcar32</td>\n",
       "      <td>376</td>\n",
       "      <td>2023-10-30 09:39:51.703645</td>\n",
       "      <td>modelo_5426_mul_m_MI_RF.pkl</td>\n",
       "      <td>{'selector__k': 1000, 'clasifier__n_estimators...</td>\n",
       "      <td>X_test:(87, 18875)</td>\n",
       "      <td>['ENSG00000001460.18', 'ENSG00000004660.15', '...</td>\n",
       "      <td>0.778884</td>\n",
       "      <td>[0.6285211267605634, 0.8462962962962963, 0.730...</td>\n",
       "      <td>[0.1111111111111111, 0.2631578947368421, 0.25,...</td>\n",
       "    </tr>\n",
       "    <tr>\n",
       "      <th>0</th>\n",
       "      <td>mul_m</td>\n",
       "      <td>MI</td>\n",
       "      <td>LR_L2</td>\n",
       "      <td>5426</td>\n",
       "      <td>0.632184</td>\n",
       "      <td>0.643937</td>\n",
       "      <td>0.672003</td>\n",
       "      <td>0.633671</td>\n",
       "      <td>NaN</td>\n",
       "      <td>amilcar32</td>\n",
       "      <td>303</td>\n",
       "      <td>2023-10-30 09:33:29.230110</td>\n",
       "      <td>modelo_5426_mul_m_MI_LR_L2.pkl</td>\n",
       "      <td>{'selector__k': 1000, 'clasifier__solver': 'lb...</td>\n",
       "      <td>X_test:(87, 18875)</td>\n",
       "      <td>['ENSG00000001460.18', 'ENSG00000004660.15', '...</td>\n",
       "      <td>0.898159</td>\n",
       "      <td>[0.880281690140845, 0.875, 0.8361244019138756,...</td>\n",
       "      <td>[0.5555555555555556, 0.5294117647058824, 0.235...</td>\n",
       "    </tr>\n",
       "    <tr>\n",
       "      <th>0</th>\n",
       "      <td>mul_m</td>\n",
       "      <td>MI</td>\n",
       "      <td>LR_L1</td>\n",
       "      <td>5426</td>\n",
       "      <td>0.620690</td>\n",
       "      <td>0.611944</td>\n",
       "      <td>0.636090</td>\n",
       "      <td>0.608750</td>\n",
       "      <td>NaN</td>\n",
       "      <td>amilcar32</td>\n",
       "      <td>3225</td>\n",
       "      <td>2023-10-30 09:28:20.528087</td>\n",
       "      <td>modelo_5426_mul_m_MI_LR_L1.pkl</td>\n",
       "      <td>{'selector__k': 1000, 'clasifier__solver': 'sa...</td>\n",
       "      <td>X_test:(87, 18875)</td>\n",
       "      <td>['ENSG00000001460.18', 'ENSG00000004660.15', '...</td>\n",
       "      <td>0.893968</td>\n",
       "      <td>[0.897887323943662, 0.8777777777777779, 0.8313...</td>\n",
       "      <td>[0.5, 0.5555555555555556, 0.25, 0.363636363636...</td>\n",
       "    </tr>\n",
       "  </tbody>\n",
       "</table>\n",
       "</div>"
      ],
      "text/plain": [
       "    tipo select clasific  semilla  accuracy  precision    recall  f1_score  \\\n",
       "0  mul_m     MI       RF     5426  0.425287   0.434134  0.447949  0.400020   \n",
       "0  mul_m     MI    LR_L2     5426  0.632184   0.643937  0.672003  0.633671   \n",
       "0  mul_m     MI    LR_L1     5426  0.620690   0.611944  0.636090  0.608750   \n",
       "\n",
       "   roc_auc   hostname  total_time_sec                    datetime  \\\n",
       "0      NaN  amilcar32             376  2023-10-30 09:39:51.703645   \n",
       "0      NaN  amilcar32             303  2023-10-30 09:33:29.230110   \n",
       "0      NaN  amilcar32            3225  2023-10-30 09:28:20.528087   \n",
       "\n",
       "                   fichero_modelo  \\\n",
       "0     modelo_5426_mul_m_MI_RF.pkl   \n",
       "0  modelo_5426_mul_m_MI_LR_L2.pkl   \n",
       "0  modelo_5426_mul_m_MI_LR_L1.pkl   \n",
       "\n",
       "                                              params               shape  \\\n",
       "0  {'selector__k': 1000, 'clasifier__n_estimators...  X_test:(87, 18875)   \n",
       "0  {'selector__k': 1000, 'clasifier__solver': 'lb...  X_test:(87, 18875)   \n",
       "0  {'selector__k': 1000, 'clasifier__solver': 'sa...  X_test:(87, 18875)   \n",
       "\n",
       "                                            features  roc_auc_ovr  \\\n",
       "0  ['ENSG00000001460.18', 'ENSG00000004660.15', '...     0.778884   \n",
       "0  ['ENSG00000001460.18', 'ENSG00000004660.15', '...     0.898159   \n",
       "0  ['ENSG00000001460.18', 'ENSG00000004660.15', '...     0.893968   \n",
       "\n",
       "                                         indices_auc  \\\n",
       "0  [0.6285211267605634, 0.8462962962962963, 0.730...   \n",
       "0  [0.880281690140845, 0.875, 0.8361244019138756,...   \n",
       "0  [0.897887323943662, 0.8777777777777779, 0.8313...   \n",
       "\n",
       "                                     indices_jaccard  \n",
       "0  [0.1111111111111111, 0.2631578947368421, 0.25,...  \n",
       "0  [0.5555555555555556, 0.5294117647058824, 0.235...  \n",
       "0  [0.5, 0.5555555555555556, 0.25, 0.363636363636...  "
      ]
     },
     "metadata": {},
     "output_type": "display_data"
    }
   ],
   "source": [
    "if M_TIPO.startswith(\"bin\"):\n",
    "    myfunc.save_metricas_to_csv(random_search, X_test, y_test, M_TIPO, M_SELECT, M_CLASIF, total_time, SEMILLA, myfunc.MET_DIR, M_FICHERO, fichero_modelo)\n",
    "else:\n",
    "    myfunc.save_metricas_multi_to_csv(random_search, X_test, y_test, M_TIPO, M_SELECT, M_CLASIF, total_time, SEMILLA, myfunc.MET_DIR, M_FICHERO, fichero_modelo)\n",
    "\n",
    "df1=myfunc.read_metricas_to_df(myfunc.MET_DIR,M_FICHERO)\n",
    "\n",
    "display(df1.sort_values(\"datetime\", ascending=False)[:3])\n"
   ]
  },
  {
   "cell_type": "markdown",
   "id": "96c6cce5",
   "metadata": {
    "papermill": {
     "duration": 0.014079,
     "end_time": "2023-10-30T08:39:51.845089",
     "exception": false,
     "start_time": "2023-10-30T08:39:51.831010",
     "status": "completed"
    },
    "tags": []
   },
   "source": [
    "#### Guardar resultados"
   ]
  },
  {
   "cell_type": "code",
   "execution_count": 13,
   "id": "86106a3a",
   "metadata": {
    "execution": {
     "iopub.execute_input": "2023-10-30T08:39:51.860809Z",
     "iopub.status.busy": "2023-10-30T08:39:51.860809Z",
     "iopub.status.idle": "2023-10-30T08:39:51.892145Z",
     "shell.execute_reply": "2023-10-30T08:39:51.892145Z"
    },
    "papermill": {
     "duration": 0.047056,
     "end_time": "2023-10-30T08:39:51.892145",
     "exception": false,
     "start_time": "2023-10-30T08:39:51.845089",
     "status": "completed"
    },
    "tags": []
   },
   "outputs": [
    {
     "name": "stdout",
     "output_type": "stream",
     "text": [
      "20231030T093951 : amilcar32 : INFO : Inicio guardar resultados\n",
      "20231030T093951 : amilcar32 : INFO : Inicio guardar fichero ..\\tfm_viu\\ejecuciones\\metricas\\resultados_5426_mul_m-MI-RF.csv\n",
      "20231030T093951 : amilcar32 : INFO : Fin guardar fichero ..\\tfm_viu\\ejecuciones\\metricas\\resultados_5426_mul_m-MI-RF.csv\n",
      "20231030T093951 : amilcar32 : INFO : Fin guardar resultados\n"
     ]
    }
   ],
   "source": [
    "fichero_resultados=R_FICHERO+\"_\"+M_TIPO+\"-\"+M_SELECT+\"-\"+M_CLASIF+\".csv\"\n",
    "myfunc.save_resultados_to_csv(M_TIPO, M_SELECT, M_CLASIF,  random_search, myfunc.MET_DIR, fichero_resultados)\n"
   ]
  }
 ],
 "metadata": {
  "kernelspec": {
   "display_name": "Python 3 (ipykernel)",
   "language": "python",
   "name": "python3"
  },
  "language_info": {
   "codemirror_mode": {
    "name": "ipython",
    "version": 3
   },
   "file_extension": ".py",
   "mimetype": "text/x-python",
   "name": "python",
   "nbconvert_exporter": "python",
   "pygments_lexer": "ipython3",
   "version": "3.10.12"
  },
  "papermill": {
   "default_parameters": {},
   "duration": 381.376435,
   "end_time": "2023-10-30T08:39:52.696255",
   "environment_variables": {},
   "exception": null,
   "input_path": "03_entrenamiento.ipynb",
   "output_path": "ejecuciones\\training\\03_entrenamiento.20231030T_93330.param_0000_5426_mul_m_MI_RF.output.ipynb",
   "parameters": {
    "MAX_ITERS": 500,
    "M_CLASIF": "RF",
    "M_FICHERO": "metricas_5426",
    "M_SELECT": "MI",
    "M_TIPO": "mul_m",
    "PRE_DATA_FILE": "rows_transpose_norm_by_gene_id_with_target_num_",
    "P_FICHERO": "param_0000_5426_mul_m_MI_RF.yaml",
    "R_FICHERO": "resultados_5426",
    "SCORING": "roc_auc_ovr",
    "SEMILLA": 5426,
    "eval_clasifier": "RandomForestClassifier(random_state=SEMILLA)",
    "eval_selector": "SelectKBest(score_func=mutual_info_classif_state)",
    "param_distributions": {
     "clasifier__bootstrap": [
      true
     ],
     "clasifier__max_depth": [
      10
     ],
     "clasifier__max_features": [
      500
     ],
     "clasifier__min_samples_leaf": [
      5
     ],
     "clasifier__min_samples_split": [
      10
     ],
     "clasifier__n_estimators": [
      200
     ],
     "selector__k": [
      1000
     ]
    }
   },
   "start_time": "2023-10-30T08:33:31.319820",
   "version": "2.4.0"
  }
 },
 "nbformat": 4,
 "nbformat_minor": 5
}