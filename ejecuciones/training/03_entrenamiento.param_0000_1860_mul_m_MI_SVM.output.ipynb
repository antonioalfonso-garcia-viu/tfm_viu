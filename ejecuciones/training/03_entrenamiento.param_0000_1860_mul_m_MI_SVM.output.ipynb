{
 "cells": [
  {
   "cell_type": "markdown",
   "id": "e6763986",
   "metadata": {
    "papermill": {
     "duration": 0.0,
     "end_time": "2023-10-29T23:15:51.651226",
     "exception": false,
     "start_time": "2023-10-29T23:15:51.651226",
     "status": "completed"
    },
    "tags": []
   },
   "source": [
    "##### Inicio"
   ]
  },
  {
   "cell_type": "markdown",
   "id": "29723e33",
   "metadata": {
    "papermill": {
     "duration": 0.0,
     "end_time": "2023-10-29T23:15:51.651226",
     "exception": false,
     "start_time": "2023-10-29T23:15:51.651226",
     "status": "completed"
    },
    "tags": []
   },
   "source": [
    "#### Carga de datos"
   ]
  },
  {
   "cell_type": "code",
   "execution_count": 1,
   "id": "e48345c4",
   "metadata": {
    "execution": {
     "iopub.execute_input": "2023-10-29T23:15:51.666857Z",
     "iopub.status.busy": "2023-10-29T23:15:51.666857Z",
     "iopub.status.idle": "2023-10-29T23:15:52.810404Z",
     "shell.execute_reply": "2023-10-29T23:15:52.810404Z"
    },
    "papermill": {
     "duration": 1.159178,
     "end_time": "2023-10-29T23:15:52.810404",
     "exception": false,
     "start_time": "2023-10-29T23:15:51.651226",
     "status": "completed"
    },
    "tags": []
   },
   "outputs": [
    {
     "name": "stdout",
     "output_type": "stream",
     "text": [
      "CPU_COUNT: 24; NODE: amilcar32; sys.version: 3.10.12 | packaged by Anaconda, Inc. | (main, Jul  5 2023, 19:09:20) [MSC v.1916 64 bit (AMD64)]\n",
      "LOKY_MAX_CPU_COUNT is not set.\n",
      "OMP_NUM_THREADS is not set.\n"
     ]
    }
   ],
   "source": [
    "import os\n",
    "import numpy as np\n",
    "import pandas as pd\n",
    "import datetime\n",
    "import sklearn\n",
    "import logging\n",
    "import warnings\n",
    "\n",
    "from sklearn.pipeline import Pipeline\n",
    "from sklearn.model_selection import RandomizedSearchCV, KFold, cross_val_score, train_test_split\n",
    "from sklearn.metrics import accuracy_score, confusion_matrix, classification_report, roc_auc_score\n",
    "\n",
    "#  cargar algoritmos para aprendizaje supervisado\n",
    "from sklearn.feature_selection import SelectKBest, f_classif, SelectFromModel, mutual_info_classif\n",
    "from sklearn.svm import SVC\n",
    "from sklearn.ensemble import RandomForestClassifier\n",
    "from sklearn.linear_model import LogisticRegression,LogisticRegressionCV\n",
    "\n",
    "# importar fichero con utilidades propias\n",
    "from commons import myfunctions as myfunc\n"
   ]
  },
  {
   "cell_type": "markdown",
   "id": "92c49aa6",
   "metadata": {
    "papermill": {
     "duration": 0.0,
     "end_time": "2023-10-29T23:15:52.810404",
     "exception": false,
     "start_time": "2023-10-29T23:15:52.810404",
     "status": "completed"
    },
    "tags": []
   },
   "source": [
    "#### Parámetros a utilizar en el entrenamiento.\n",
    "\n",
    "Se indican los 3 algoritmos de *selección de características* (eval_selector_xxx) y los 3 algoritmos para la _clasificación_ (eval_clasifier_xxx)\n",
    "\n",
    "En *param_distributions* se indicar los parámetros que utilizan los algoritmos en la función RandomSearchCV.\n",
    "\n",
    "Esta celda tiene la etiqueta **parameters** que servirá para poder lanzar los entrenamientos con la utilidad **papermill** pasándole un fichero con los parámetros. Los nuevos parámetros se situarán tras esta celda para tener prevalencia."
   ]
  },
  {
   "cell_type": "code",
   "execution_count": 2,
   "id": "9041473e",
   "metadata": {
    "execution": {
     "iopub.execute_input": "2023-10-29T23:15:52.810404Z",
     "iopub.status.busy": "2023-10-29T23:15:52.810404Z",
     "iopub.status.idle": "2023-10-29T23:15:52.841745Z",
     "shell.execute_reply": "2023-10-29T23:15:52.841745Z"
    },
    "papermill": {
     "duration": 0.031341,
     "end_time": "2023-10-29T23:15:52.841745",
     "exception": false,
     "start_time": "2023-10-29T23:15:52.810404",
     "status": "completed"
    },
    "tags": [
     "parameters"
    ]
   },
   "outputs": [
    {
     "name": "stdout",
     "output_type": "stream",
     "text": [
      "20231030T001552 : amilcar32 : INFO : Utilizando parámetros de mul_m\n"
     ]
    }
   ],
   "source": [
    "#  Parametros para el entrenamiento\n",
    "\n",
    "SEMILLA=        42\n",
    "M_TIPO=         \"mul_m\"\n",
    "M_SELECT=       \"MI\"\n",
    "M_CLASIF=       \"SVM\"\n",
    "R_FICHERO=      \"resultados\"\n",
    "M_FICHERO=      \"metricas\"\n",
    "PRE_DATA_FILE=  \"rows_transpose_norm_by_gene_id_with_target_num_\"\n",
    "SCORING=        \"roc_auc_ovr\" \n",
    "MAX_ITERS=      100\n",
    "\n",
    "def mutual_info_classif_state(X, y):\n",
    "    return mutual_info_classif(X, y, random_state=SEMILLA)\n",
    "\n",
    "eval_selector_mi = \"SelectKBest(score_func=mutual_info_classif_state)\"\n",
    "eval_selector_rf=  \"SelectFromModel(estimator=RandomForestClassifier(random_state=SEMILLA), threshold=-np.inf)\"\n",
    "eval_selector_anova=  \"SelectKBest(score_func=f_classif)\"\n",
    "\n",
    "eval_clasifier_svm= \"SVC(probability=True, random_state=SEMILLA)\"\n",
    "eval_clasifier_rf= \"RandomForestClassifier(random_state=SEMILLA)\"\n",
    "eval_clasifier_lr= \"LogisticRegressionCV(random_state=SEMILLA)\"\n",
    "\n",
    "if M_TIPO.startswith(\"bin_m\"):\n",
    "    myfunc.verbose(f\"Utilizando parámetros de {M_TIPO}\")\n",
    "    eval_selector = eval_selector_mi\n",
    "    eval_clasifier = eval_clasifier_svm\n",
    "\n",
    "    SEMILLA = 6578\n",
    "    M_SELECT = \"MI\"\n",
    "    M_CLASIF = \"SVM\"\n",
    "    param_distributions = {'selector__k': [1000], \n",
    "         'clasifier__kernel': ['rbf'], 'clasifier__gamma': [0.01], 'clasifier__C': [100]}\n",
    "elif M_TIPO.startswith(\"bin_s\"):\n",
    "    myfunc.verbose(f\"Utilizando parámetros de {M_TIPO}\")\n",
    "    eval_selector = eval_selector_rf\n",
    "    eval_clasifier = eval_clasifier_lr\n",
    "\n",
    "    SEMILLA = 6191\n",
    "    M_SELECT = \"RF\"\n",
    "    M_CLASIF = \"LR_L2\"\n",
    "    param_distributions = {'selector__max_features': [1000], 'selector__estimator__n_estimators': [200], \n",
    "        'clasifier__solver': ['lbfgs'], 'clasifier__penalty': ['l2'], 'clasifier__max_iter': [10000]}\n",
    "\n",
    "elif M_TIPO.startswith(\"mul_m\"):\n",
    "    myfunc.verbose(f\"Utilizando parámetros de {M_TIPO}\")\n",
    " \n",
    "    eval_selector = eval_selector_rf\n",
    "    eval_clasifier = eval_clasifier_lr\n",
    "\n",
    "    SEMILLA = 6191\n",
    "    M_SELECT = \"RF\"\n",
    "    M_CLASIF = \"LR_L2\"\n",
    "    param_distributions = {'selector__max_features': [1000], 'selector__estimator__n_estimators': [400], \n",
    "        'clasifier__solver': ['lbfgs'], 'clasifier__penalty': ['l2'], 'clasifier__max_iter': [10000]}\n",
    "\n",
    "else:\n",
    "    # M_TIPO.startswith(\"mul_s\"):\n",
    "    myfunc.verbose(f\"Utilizando parámetros de {M_TIPO}\")\n",
    "    eval_selector = eval_selector_anova\n",
    "    eval_clasifier = eval_clasifier_lr\n",
    "\n",
    "    SEMILLA = 1860\n",
    "    M_SELECT = \"ANOVA\"\n",
    "    M_CLASIF = \"LR_L2\"\n",
    "    param_distributions = {'selector__k': [1000], \n",
    "        'clasifier__solver': ['saga'], 'clasifier__penalty': ['l2'], 'clasifier__max_iter': [10000]}\n",
    "\n"
   ]
  },
  {
   "cell_type": "code",
   "execution_count": 3,
   "id": "721f638f",
   "metadata": {
    "execution": {
     "iopub.execute_input": "2023-10-29T23:15:52.841745Z",
     "iopub.status.busy": "2023-10-29T23:15:52.841745Z",
     "iopub.status.idle": "2023-10-29T23:15:52.857371Z",
     "shell.execute_reply": "2023-10-29T23:15:52.857371Z"
    },
    "papermill": {
     "duration": 0.015626,
     "end_time": "2023-10-29T23:15:52.857371",
     "exception": false,
     "start_time": "2023-10-29T23:15:52.841745",
     "status": "completed"
    },
    "tags": [
     "injected-parameters"
    ]
   },
   "outputs": [],
   "source": [
    "# Parameters\n",
    "M_TIPO = \"mul_m\"\n",
    "M_SELECT = \"MI\"\n",
    "M_CLASIF = \"SVM\"\n",
    "P_FICHERO = \"param_0000_1860_mul_m_MI_SVM.yaml\"\n",
    "R_FICHERO = \"resultados_1860\"\n",
    "M_FICHERO = \"metricas_1860\"\n",
    "PRE_DATA_FILE = \"rows_transpose_norm_by_gene_id_with_target_num_\"\n",
    "SCORING = \"roc_auc_ovr\"\n",
    "SEMILLA = 1860\n",
    "MAX_ITERS = 500\n",
    "eval_selector = \"SelectKBest(score_func=mutual_info_classif_state)\"\n",
    "eval_clasifier = \"SVC(probability=True, random_state=SEMILLA)\"\n",
    "param_distributions = {\n",
    "    \"selector__k\": [1000],\n",
    "    \"clasifier__kernel\": [\"rbf\"],\n",
    "    \"clasifier__gamma\": [0.001],\n",
    "    \"clasifier__C\": [100],\n",
    "}\n"
   ]
  },
  {
   "cell_type": "code",
   "execution_count": 4,
   "id": "16f1148a",
   "metadata": {
    "execution": {
     "iopub.execute_input": "2023-10-29T23:15:52.857371Z",
     "iopub.status.busy": "2023-10-29T23:15:52.857371Z",
     "iopub.status.idle": "2023-10-29T23:15:52.872979Z",
     "shell.execute_reply": "2023-10-29T23:15:52.872979Z"
    },
    "papermill": {
     "duration": 0.015608,
     "end_time": "2023-10-29T23:15:52.872979",
     "exception": false,
     "start_time": "2023-10-29T23:15:52.857371",
     "status": "completed"
    },
    "tags": []
   },
   "outputs": [],
   "source": [
    "DATA_FILE = PRE_DATA_FILE + M_TIPO\n",
    "\n",
    "# si viene \"None\" en el parámetro max_depth, se le quitan las comillas para que no sea entendido por el algoritmo como un texto\n",
    "if \"clasifier__max_depth\" in param_distributions:\n",
    "    param_distributions['clasifier__max_depth'] = [None if x == 'None' else x for x in param_distributions['clasifier__max_depth']]"
   ]
  },
  {
   "cell_type": "markdown",
   "id": "227f7791",
   "metadata": {
    "papermill": {
     "duration": 0.0,
     "end_time": "2023-10-29T23:15:52.872979",
     "exception": false,
     "start_time": "2023-10-29T23:15:52.872979",
     "status": "completed"
    },
    "tags": []
   },
   "source": [
    "Asignar los algoritmos que se utilizarán en la función RandomSearchCV"
   ]
  },
  {
   "cell_type": "code",
   "execution_count": 5,
   "id": "442ec632",
   "metadata": {
    "execution": {
     "iopub.execute_input": "2023-10-29T23:15:52.888615Z",
     "iopub.status.busy": "2023-10-29T23:15:52.888615Z",
     "iopub.status.idle": "2023-10-29T23:15:52.904252Z",
     "shell.execute_reply": "2023-10-29T23:15:52.904252Z"
    },
    "papermill": {
     "duration": 0.031273,
     "end_time": "2023-10-29T23:15:52.904252",
     "exception": false,
     "start_time": "2023-10-29T23:15:52.872979",
     "status": "completed"
    },
    "tags": []
   },
   "outputs": [],
   "source": [
    "algor_selector=eval(eval_selector)\n",
    "algor_clasifier=eval(eval_clasifier)"
   ]
  },
  {
   "cell_type": "markdown",
   "id": "f26bf2c5",
   "metadata": {
    "papermill": {
     "duration": 0.015628,
     "end_time": "2023-10-29T23:15:52.919880",
     "exception": false,
     "start_time": "2023-10-29T23:15:52.904252",
     "status": "completed"
    },
    "tags": []
   },
   "source": [
    "#### Comprobar el entorno y leer fichero de muestras"
   ]
  },
  {
   "cell_type": "code",
   "execution_count": 6,
   "id": "e40a8a52",
   "metadata": {
    "execution": {
     "iopub.execute_input": "2023-10-29T23:15:52.934798Z",
     "iopub.status.busy": "2023-10-29T23:15:52.934798Z",
     "iopub.status.idle": "2023-10-29T23:15:53.108184Z",
     "shell.execute_reply": "2023-10-29T23:15:53.108184Z"
    },
    "papermill": {
     "duration": 0.183478,
     "end_time": "2023-10-29T23:15:53.108184",
     "exception": false,
     "start_time": "2023-10-29T23:15:52.924706",
     "status": "completed"
    },
    "tags": []
   },
   "outputs": [
    {
     "name": "stdout",
     "output_type": "stream",
     "text": [
      "20231030T001552 : amilcar32 : INFO : Encontrada carpeta DATA_DIR=..\\tfm_viu\\datos\n",
      "20231030T001552 : amilcar32 : INFO : Encontrada carpeta CFDNA_DIR=..\\tfm_viu\\datos\\cfDNA_5hmC\n",
      "20231030T001552 : amilcar32 : INFO : Encontrada carpeta GENCODE_DIR=..\\tfm_viu\\datos\\gencode\n",
      "20231030T001552 : amilcar32 : INFO : Encontrada carpeta H5_DIR=..\\tfm_viu\\datos\\h5\n",
      "20231030T001552 : amilcar32 : INFO : Encontrada carpeta LOG_DIR=..\\tfm_viu\\datos\\logs\n",
      "20231030T001552 : amilcar32 : INFO : Encontrada carpeta CSV_DIR=..\\tfm_viu\\datos\\csv\n",
      "20231030T001552 : amilcar32 : INFO : Encontrada carpeta MODEL_DIR=..\\tfm_viu\\ejecuciones\\modelos\n",
      "20231030T001552 : amilcar32 : INFO : Encontrada carpeta EXEC_DIR=..\\tfm_viu\\ejecuciones\n",
      "20231030T001552 : amilcar32 : INFO : Encontrada carpeta MET_DIR=..\\tfm_viu\\ejecuciones\\metricas\n",
      "20231030T001552 : amilcar32 : INFO : Inicio leer fichero h5 ..\\tfm_viu\\datos\\h5\\rows_transpose_norm_by_gene_id_with_target_num_mul_m.h5\n",
      "20231030T001552 : amilcar32 : INFO : Leyendo clave /df\n"
     ]
    },
    {
     "name": "stdout",
     "output_type": "stream",
     "text": [
      "20231030T001553 : amilcar32 : INFO : Tamaño (434, 18876)\n",
      "20231030T001553 : amilcar32 : INFO : Fin leer fichero h5 ..\\tfm_viu\\datos\\h5\\rows_transpose_norm_by_gene_id_with_target_num_mul_m.h5\n"
     ]
    },
    {
     "data": {
      "text/plain": [
       "target\n",
       "0    62\n",
       "1    62\n",
       "2    62\n",
       "3    62\n",
       "4    62\n",
       "5    62\n",
       "6    62\n",
       "dtype: int64"
      ]
     },
     "metadata": {},
     "output_type": "display_data"
    },
    {
     "name": "stdout",
     "output_type": "stream",
     "text": [
      "Shape df: (434, 18876)\n",
      "Shape X_train: (347, 18875)\n",
      "Shape X_test: (87, 18875)\n"
     ]
    }
   ],
   "source": [
    "start_time = datetime.datetime.now()\n",
    "\n",
    "myfunc.reset_vars()\n",
    "\n",
    "myfunc.NOTEBK_FILENAME = myfunc.get_nb_name()\n",
    "\n",
    "myfunc.check_enviroment(myfunc.DATA_DIR, myfunc.CFDNA_DIR, myfunc.GENCODE_DIR, myfunc.H5_DIR, myfunc.LOG_DIR, myfunc.CSV_DIR, myfunc.MODEL_DIR, myfunc.EXEC_DIR, myfunc.MET_DIR)\n",
    "\n",
    "# Leer fichero con las muestras\n",
    "df_t = myfunc.read_h5_to_df(DATA_FILE, myfunc.H5_DIR)\n",
    "display(df_t.groupby(\"target\").size())\n",
    "print(\"Shape df:\",df_t.shape)\n",
    "\n",
    "# Separar caracteristicas/genes de las etiquetas/tipos de cáncer\n",
    "X = df_t.iloc[:, :-1]  # Todas las columnas excepto la última\n",
    "y = df_t.iloc[:, -1]  # La última columna contiene los identificadores de los tipos de cáncer\n",
    "\n",
    "#  Crear el conjunto de datos de entrenamiento y de pruebas, y se fija la semilla para siempre coger el mismo juego de muestras\n",
    "X_train, X_test, y_train, y_test = train_test_split(X, y, test_size=0.2, shuffle=True, random_state=42)\n",
    "print(\"Shape X_train:\",X_train.shape)\n",
    "print(\"Shape X_test:\",X_test.shape)\n"
   ]
  },
  {
   "cell_type": "markdown",
   "id": "967fba3d",
   "metadata": {
    "papermill": {
     "duration": 0.0,
     "end_time": "2023-10-29T23:15:53.108184",
     "exception": false,
     "start_time": "2023-10-29T23:15:53.108184",
     "status": "completed"
    },
    "tags": []
   },
   "source": [
    "#### Selección de características y clasificación."
   ]
  },
  {
   "cell_type": "code",
   "execution_count": 7,
   "id": "d5d45c54",
   "metadata": {
    "execution": {
     "iopub.execute_input": "2023-10-29T23:15:53.123813Z",
     "iopub.status.busy": "2023-10-29T23:15:53.123813Z",
     "iopub.status.idle": "2023-10-29T23:20:42.501277Z",
     "shell.execute_reply": "2023-10-29T23:20:42.501277Z"
    },
    "papermill": {
     "duration": 289.393093,
     "end_time": "2023-10-29T23:20:42.501277",
     "exception": false,
     "start_time": "2023-10-29T23:15:53.108184",
     "status": "completed"
    },
    "tags": []
   },
   "outputs": [
    {
     "name": "stdout",
     "output_type": "stream",
     "text": [
      "20231030T001553 : amilcar32 : INFO : Iniciando entrenamiento\n",
      "num_iter: 1 , max_iter: 1\n",
      "Fitting 5 folds for each of 1 candidates, totalling 5 fits\n"
     ]
    },
    {
     "name": "stdout",
     "output_type": "stream",
     "text": [
      "Mejores Hiperparámetros: {'selector__k': 1000, 'clasifier__kernel': 'rbf', 'clasifier__gamma': 0.001, 'clasifier__C': 100}\n",
      "Mejor Puntuación: 0.8713\n",
      "20231030T002042 : amilcar32 : INFO : Fin entrenamiento\n"
     ]
    }
   ],
   "source": [
    "myfunc.verbose(\"Iniciando entrenamiento\")\n",
    "\n",
    "kf = KFold(n_splits=5, shuffle=True, random_state=SEMILLA)\n",
    "\n",
    "# Crear el pipeline para el flujo de tareas\n",
    "tasks_pipeline = Pipeline([\n",
    "    ('selector', algor_selector),\n",
    "    ('clasifier', algor_clasifier)\n",
    "])\n",
    "\n",
    "# MAX_ITERS puede limitar el número de iteraciones si son excesivas para las combinaciones de parámetros buscando un óptimo local, \n",
    "# sino funcionaría como GridSearchCV al revisar todas las cominaciones de los parámetros\n",
    "num_iteraciones = 1\n",
    "num_iteraciones = num_iteraciones * np.prod([len(elemento1) for _, elemento1 in param_distributions.items()])\n",
    "max_iteraciones = num_iteraciones if num_iteraciones <= MAX_ITERS else MAX_ITERS\n",
    "print(\"num_iter:\",num_iteraciones,\", max_iter:\",max_iteraciones)\n",
    "\n",
    "random_search = RandomizedSearchCV(\n",
    "    tasks_pipeline, \n",
    "    param_distributions, \n",
    "    n_iter=max_iteraciones,\n",
    "    scoring=SCORING,\n",
    "    cv=kf,\n",
    "    verbose=3, \n",
    "    random_state=SEMILLA, \n",
    "    n_jobs=-1\n",
    "    )\n",
    "\n",
    "# Entrenar el modelo\n",
    "random_search.fit(X_train, y_train)\n",
    "\n",
    "# Ver los mejores hiperparámetros encontrados\n",
    "print(f'Mejores Hiperparámetros: {random_search.best_params_}')\n",
    "print(f'Mejor Puntuación: {random_search.best_score_:.4f}')\n",
    "\n",
    "# Nos quedamos con el mejor modelo para ver las métricas\n",
    "mejor_modelo = random_search.best_estimator_\n",
    "\n",
    "myfunc.verbose(\"Fin entrenamiento\")"
   ]
  },
  {
   "cell_type": "markdown",
   "id": "e60f8fe9",
   "metadata": {
    "papermill": {
     "duration": 0.015623,
     "end_time": "2023-10-29T23:20:42.532521",
     "exception": false,
     "start_time": "2023-10-29T23:20:42.516898",
     "status": "completed"
    },
    "tags": []
   },
   "source": [
    "#### Guardar modelo"
   ]
  },
  {
   "cell_type": "code",
   "execution_count": 8,
   "id": "871ecc93",
   "metadata": {
    "execution": {
     "iopub.execute_input": "2023-10-29T23:20:42.548134Z",
     "iopub.status.busy": "2023-10-29T23:20:42.548134Z",
     "iopub.status.idle": "2023-10-29T23:20:42.579467Z",
     "shell.execute_reply": "2023-10-29T23:20:42.579467Z"
    },
    "papermill": {
     "duration": 0.046946,
     "end_time": "2023-10-29T23:20:42.579467",
     "exception": false,
     "start_time": "2023-10-29T23:20:42.532521",
     "status": "completed"
    },
    "tags": []
   },
   "outputs": [
    {
     "name": "stdout",
     "output_type": "stream",
     "text": [
      "20231030T002042 : amilcar32 : INFO : Inicio guardar fichero ..\\tfm_viu\\ejecuciones\\modelos\\modelo_1860_mul_m_MI_SVM.pkl\n",
      "20231030T002042 : amilcar32 : INFO : Fin guardar fichero ..\\tfm_viu\\ejecuciones\\modelos\\modelo_1860_mul_m_MI_SVM.pkl\n"
     ]
    }
   ],
   "source": [
    "fichero_modelo = str.replace(\"modelo_\"+str(SEMILLA).zfill(4)+\"_\"+M_TIPO+\"_\"+M_SELECT+\"_\"+M_CLASIF+\".pkl\", \" \", \"_\")\n",
    "\n",
    "myfunc.save_modelo(mejor_modelo, myfunc.MODEL_DIR, fichero_modelo)"
   ]
  },
  {
   "cell_type": "markdown",
   "id": "e287b661",
   "metadata": {
    "papermill": {
     "duration": 0.015543,
     "end_time": "2023-10-29T23:20:42.595010",
     "exception": false,
     "start_time": "2023-10-29T23:20:42.579467",
     "status": "completed"
    },
    "tags": []
   },
   "source": [
    "#### Ver resultados del las iteraciones hechas por RandomSearchCV"
   ]
  },
  {
   "cell_type": "code",
   "execution_count": 9,
   "id": "2caa144d",
   "metadata": {
    "execution": {
     "iopub.execute_input": "2023-10-29T23:20:42.610647Z",
     "iopub.status.busy": "2023-10-29T23:20:42.610647Z",
     "iopub.status.idle": "2023-10-29T23:20:42.626275Z",
     "shell.execute_reply": "2023-10-29T23:20:42.626275Z"
    },
    "papermill": {
     "duration": 0.031265,
     "end_time": "2023-10-29T23:20:42.626275",
     "exception": false,
     "start_time": "2023-10-29T23:20:42.595010",
     "status": "completed"
    },
    "tags": []
   },
   "outputs": [
    {
     "name": "stdout",
     "output_type": "stream",
     "text": [
      "20231030T002042 : amilcar32 : INFO : Inicio ver resultados\n",
      "Mejores Hiperparámetros: {'selector__k': 1000, 'clasifier__kernel': 'rbf', 'clasifier__gamma': 0.001, 'clasifier__C': 100}\n",
      "Mejores puntuaciones: 0.8713 | Params: {'selector__k': 1000, 'clasifier__kernel': 'rbf', 'clasifier__gamma': 0.001, 'clasifier__C': 100}\n",
      "Media de las puntuaciones: 0.8713 | Params: {'selector__k': 1000, 'clasifier__kernel': 'rbf', 'clasifier__gamma': 0.001, 'clasifier__C': 100}\n",
      "20231030T002042 : amilcar32 : INFO : Fin resultados\n"
     ]
    }
   ],
   "source": [
    "myfunc.ver_resultados_search(random_search)"
   ]
  },
  {
   "cell_type": "markdown",
   "id": "2752f38a",
   "metadata": {
    "papermill": {
     "duration": 0.015624,
     "end_time": "2023-10-29T23:20:42.657521",
     "exception": false,
     "start_time": "2023-10-29T23:20:42.641897",
     "status": "completed"
    },
    "tags": []
   },
   "source": [
    "#### Ver métricas del mejor modelo"
   ]
  },
  {
   "cell_type": "code",
   "execution_count": 10,
   "id": "ea6b0997",
   "metadata": {
    "execution": {
     "iopub.execute_input": "2023-10-29T23:20:42.673143Z",
     "iopub.status.busy": "2023-10-29T23:20:42.673143Z",
     "iopub.status.idle": "2023-10-29T23:20:44.255269Z",
     "shell.execute_reply": "2023-10-29T23:20:44.255269Z"
    },
    "papermill": {
     "duration": 1.597748,
     "end_time": "2023-10-29T23:20:44.255269",
     "exception": false,
     "start_time": "2023-10-29T23:20:42.657521",
     "status": "completed"
    },
    "tags": []
   },
   "outputs": [
    {
     "name": "stdout",
     "output_type": "stream",
     "text": [
      "20231030T002042 : amilcar32 : INFO : Inicio ver métricas multiclase\n"
     ]
    },
    {
     "name": "stdout",
     "output_type": "stream",
     "text": [
      "              precision    recall  f1-score   support\n",
      "\n",
      "           0       0.50      0.38      0.43        16\n",
      "           1       0.73      0.53      0.62        15\n",
      "           2       0.33      0.27      0.30        11\n",
      "           3       0.50      0.60      0.55         5\n",
      "           4       0.53      0.69      0.60        13\n",
      "           5       0.86      0.67      0.75         9\n",
      "           6       0.48      0.67      0.56        18\n",
      "\n",
      "    accuracy                           0.54        87\n",
      "   macro avg       0.56      0.54      0.54        87\n",
      "weighted avg       0.56      0.54      0.54        87\n",
      "\n",
      "\n",
      "\n",
      "           Exactitud: 0.540230\n",
      "   Precisión (media): 0.561023\n",
      "      Recall (media): 0.543815\n",
      "    F1-score (media): 0.542507\n",
      "\n",
      "\n",
      "AUC para el tipo de cáncer 0-Control.... 0.7782\n",
      "AUC para el tipo de cáncer 1-Bladder.... 0.8231\n",
      "AUC para el tipo de cáncer 2-Breast..... 0.7428\n",
      "AUC para el tipo de cáncer 3-Colorectal. 0.8902\n",
      "AUC para el tipo de cáncer 4-Kidney..... 0.8004\n",
      "AUC para el tipo de cáncer 5-Lung....... 0.8803\n",
      "AUC para el tipo de cáncer 6-Prostate... 0.8833\n",
      "\n",
      "Media de AUC: 0.8283\n"
     ]
    },
    {
     "data": {
      "image/png": "[encoded data removed]",
      "text/plain": [
       "<Figure size 1000x600 with 1 Axes>"
      ]
     },
     "metadata": {},
     "output_type": "display_data"
    },
    {
     "name": "stdout",
     "output_type": "stream",
     "text": [
      "\n",
      "\n"
     ]
    },
    {
     "data": {
      "image/png": "[encoded data removed]",
      "text/plain": [
       "<Figure size 800x400 with 2 Axes>"
      ]
     },
     "metadata": {},
     "output_type": "display_data"
    },
    {
     "name": "stdout",
     "output_type": "stream",
     "text": [
      "\n",
      "\n",
      "Puntuación Jaccard para el cáncer tipo 0-Control.... 0.2727\n",
      "Puntuación Jaccard para el cáncer tipo 1-Bladder.... 0.4444\n",
      "Puntuación Jaccard para el cáncer tipo 2-Breast..... 0.1765\n",
      "Puntuación Jaccard para el cáncer tipo 3-Colorectal. 0.3750\n",
      "Puntuación Jaccard para el cáncer tipo 4-Kidney..... 0.4286\n",
      "Puntuación Jaccard para el cáncer tipo 5-Lung....... 0.6000\n",
      "Puntuación Jaccard para el cáncer tipo 6-Prostate... 0.3871\n",
      "\n",
      "Media de la puntuación de Jaccard: 0.3835\n"
     ]
    }
   ],
   "source": [
    "if M_TIPO.startswith(\"bin\"):\n",
    "    myfunc.ver_metricas(mejor_modelo, X_test, y_test)\n",
    "else:\n",
    "    myfunc.ver_metricas_multi(mejor_modelo, X_test, y_test)\n"
   ]
  },
  {
   "cell_type": "markdown",
   "id": "04071651",
   "metadata": {
    "papermill": {
     "duration": 0.015628,
     "end_time": "2023-10-29T23:20:44.286363",
     "exception": false,
     "start_time": "2023-10-29T23:20:44.270735",
     "status": "completed"
    },
    "tags": []
   },
   "source": [
    "#### Finalización del notebook"
   ]
  },
  {
   "cell_type": "code",
   "execution_count": 11,
   "id": "79ef2f1b",
   "metadata": {
    "execution": {
     "iopub.execute_input": "2023-10-29T23:20:44.319187Z",
     "iopub.status.busy": "2023-10-29T23:20:44.319187Z",
     "iopub.status.idle": "2023-10-29T23:20:44.333771Z",
     "shell.execute_reply": "2023-10-29T23:20:44.333771Z"
    },
    "papermill": {
     "duration": 0.03178,
     "end_time": "2023-10-29T23:20:44.333771",
     "exception": false,
     "start_time": "2023-10-29T23:20:44.301991",
     "status": "completed"
    },
    "tags": []
   },
   "outputs": [
    {
     "name": "stdout",
     "output_type": "stream",
     "text": [
      "20231030T002044 : amilcar32 : INFO : Notebook ha tardado 291 seconds\n"
     ]
    }
   ],
   "source": [
    "end_time = datetime.datetime.now()\n",
    "total_time = end_time - start_time\n",
    "myfunc.verbose(f\"Notebook ha tardado {total_time.seconds} seconds\")"
   ]
  },
  {
   "cell_type": "markdown",
   "id": "a85f8c03",
   "metadata": {
    "papermill": {
     "duration": 0.015625,
     "end_time": "2023-10-29T23:20:44.365107",
     "exception": false,
     "start_time": "2023-10-29T23:20:44.349482",
     "status": "completed"
    },
    "tags": []
   },
   "source": [
    "#### Guardar métricas"
   ]
  },
  {
   "cell_type": "code",
   "execution_count": 12,
   "id": "4f4c69c7",
   "metadata": {
    "execution": {
     "iopub.execute_input": "2023-10-29T23:20:44.380730Z",
     "iopub.status.busy": "2023-10-29T23:20:44.380730Z",
     "iopub.status.idle": "2023-10-29T23:20:44.945888Z",
     "shell.execute_reply": "2023-10-29T23:20:44.945888Z"
    },
    "papermill": {
     "duration": 0.565158,
     "end_time": "2023-10-29T23:20:44.945888",
     "exception": false,
     "start_time": "2023-10-29T23:20:44.380730",
     "status": "completed"
    },
    "tags": []
   },
   "outputs": [
    {
     "name": "stdout",
     "output_type": "stream",
     "text": [
      "20231030T002044 : amilcar32 : INFO : Inicio guardar métricas multiclase\n",
      "20231030T002044 : amilcar32 : INFO : Inicio leer fichero ..\\tfm_viu\\ejecuciones\\metricas\\metricas_1860.csv\n",
      "20231030T002044 : amilcar32 : INFO : Fin leer fichero ..\\tfm_viu\\ejecuciones\\metricas\\metricas_1860.csv\n"
     ]
    },
    {
     "name": "stdout",
     "output_type": "stream",
     "text": [
      "20231030T002044 : amilcar32 : INFO : Inicio guardar fichero ..\\tfm_viu\\ejecuciones\\metricas\\metricas_1860.csv\n",
      "20231030T002044 : amilcar32 : INFO : Fichero borrado ..\\tfm_viu\\ejecuciones\\metricas\\metricas_1860.csv\n",
      "20231030T002044 : amilcar32 : INFO : Fin guardar fichero ..\\tfm_viu\\ejecuciones\\metricas\\metricas_1860.csv\n",
      "20231030T002044 : amilcar32 : INFO : Fin guardar métricas multiclase\n",
      "20231030T002044 : amilcar32 : INFO : Inicio leer fichero ..\\tfm_viu\\ejecuciones\\metricas\\metricas_1860.csv\n",
      "20231030T002044 : amilcar32 : INFO : Fin leer fichero ..\\tfm_viu\\ejecuciones\\metricas\\metricas_1860.csv\n"
     ]
    },
    {
     "data": {
      "text/html": [
       "<div>\n",
       "<style scoped>\n",
       "    .dataframe tbody tr th:only-of-type {\n",
       "        vertical-align: middle;\n",
       "    }\n",
       "\n",
       "    .dataframe tbody tr th {\n",
       "        vertical-align: top;\n",
       "    }\n",
       "\n",
       "    .dataframe thead th {\n",
       "        text-align: right;\n",
       "    }\n",
       "</style>\n",
       "<table border=\"1\" class=\"dataframe\">\n",
       "  <thead>\n",
       "    <tr style=\"text-align: right;\">\n",
       "      <th></th>\n",
       "      <th>tipo</th>\n",
       "      <th>select</th>\n",
       "      <th>clasific</th>\n",
       "      <th>semilla</th>\n",
       "      <th>accuracy</th>\n",
       "      <th>precision</th>\n",
       "      <th>recall</th>\n",
       "      <th>f1_score</th>\n",
       "      <th>roc_auc</th>\n",
       "      <th>hostname</th>\n",
       "      <th>total_time_sec</th>\n",
       "      <th>datetime</th>\n",
       "      <th>fichero_modelo</th>\n",
       "      <th>params</th>\n",
       "      <th>shape</th>\n",
       "      <th>features</th>\n",
       "      <th>roc_auc_ovr</th>\n",
       "      <th>indices_auc</th>\n",
       "      <th>indices_jaccard</th>\n",
       "    </tr>\n",
       "  </thead>\n",
       "  <tbody>\n",
       "    <tr>\n",
       "      <th>0</th>\n",
       "      <td>mul_m</td>\n",
       "      <td>MI</td>\n",
       "      <td>SVM</td>\n",
       "      <td>1860</td>\n",
       "      <td>0.540230</td>\n",
       "      <td>0.561023</td>\n",
       "      <td>0.543815</td>\n",
       "      <td>0.542507</td>\n",
       "      <td>NaN</td>\n",
       "      <td>amilcar32</td>\n",
       "      <td>291</td>\n",
       "      <td>2023-10-30 00:20:44.851399</td>\n",
       "      <td>modelo_1860_mul_m_MI_SVM.pkl</td>\n",
       "      <td>{'selector__k': 1000, 'clasifier__kernel': 'rb...</td>\n",
       "      <td>X_test:(87, 18875)</td>\n",
       "      <td>['ENSG00000001084.13', 'ENSG00000001460.18', '...</td>\n",
       "      <td>0.828342</td>\n",
       "      <td>[0.778169014084507, 0.8231481481481482, 0.7428...</td>\n",
       "      <td>[0.2727272727272727, 0.4444444444444444, 0.176...</td>\n",
       "    </tr>\n",
       "    <tr>\n",
       "      <th>0</th>\n",
       "      <td>mul_m</td>\n",
       "      <td>MI</td>\n",
       "      <td>RF</td>\n",
       "      <td>1860</td>\n",
       "      <td>0.471264</td>\n",
       "      <td>0.467048</td>\n",
       "      <td>0.501629</td>\n",
       "      <td>0.445980</td>\n",
       "      <td>NaN</td>\n",
       "      <td>amilcar32</td>\n",
       "      <td>387</td>\n",
       "      <td>2023-10-30 00:15:47.658693</td>\n",
       "      <td>modelo_1860_mul_m_MI_RF.pkl</td>\n",
       "      <td>{'selector__k': 1000, 'clasifier__n_estimators...</td>\n",
       "      <td>X_test:(87, 18875)</td>\n",
       "      <td>['ENSG00000001084.13', 'ENSG00000001460.18', '...</td>\n",
       "      <td>0.795276</td>\n",
       "      <td>[0.5933098591549295, 0.8490740740740741, 0.752...</td>\n",
       "      <td>[0.10526315789473684, 0.391304347826087, 0.176...</td>\n",
       "    </tr>\n",
       "    <tr>\n",
       "      <th>0</th>\n",
       "      <td>mul_m</td>\n",
       "      <td>MI</td>\n",
       "      <td>LR_L2</td>\n",
       "      <td>1860</td>\n",
       "      <td>0.597701</td>\n",
       "      <td>0.594024</td>\n",
       "      <td>0.587465</td>\n",
       "      <td>0.581919</td>\n",
       "      <td>NaN</td>\n",
       "      <td>amilcar32</td>\n",
       "      <td>340</td>\n",
       "      <td>2023-10-30 00:09:14.143402</td>\n",
       "      <td>modelo_1860_mul_m_MI_LR_L2.pkl</td>\n",
       "      <td>{'selector__k': 1000, 'clasifier__solver': 'lb...</td>\n",
       "      <td>X_test:(87, 18875)</td>\n",
       "      <td>['ENSG00000001084.13', 'ENSG00000001460.18', '...</td>\n",
       "      <td>0.893220</td>\n",
       "      <td>[0.8899647887323943, 0.8768518518518519, 0.819...</td>\n",
       "      <td>[0.5263157894736842, 0.4, 0.17647058823529413,...</td>\n",
       "    </tr>\n",
       "  </tbody>\n",
       "</table>\n",
       "</div>"
      ],
      "text/plain": [
       "    tipo select clasific  semilla  accuracy  precision    recall  f1_score  \\\n",
       "0  mul_m     MI      SVM     1860  0.540230   0.561023  0.543815  0.542507   \n",
       "0  mul_m     MI       RF     1860  0.471264   0.467048  0.501629  0.445980   \n",
       "0  mul_m     MI    LR_L2     1860  0.597701   0.594024  0.587465  0.581919   \n",
       "\n",
       "   roc_auc   hostname  total_time_sec                    datetime  \\\n",
       "0      NaN  amilcar32             291  2023-10-30 00:20:44.851399   \n",
       "0      NaN  amilcar32             387  2023-10-30 00:15:47.658693   \n",
       "0      NaN  amilcar32             340  2023-10-30 00:09:14.143402   \n",
       "\n",
       "                   fichero_modelo  \\\n",
       "0    modelo_1860_mul_m_MI_SVM.pkl   \n",
       "0     modelo_1860_mul_m_MI_RF.pkl   \n",
       "0  modelo_1860_mul_m_MI_LR_L2.pkl   \n",
       "\n",
       "                                              params               shape  \\\n",
       "0  {'selector__k': 1000, 'clasifier__kernel': 'rb...  X_test:(87, 18875)   \n",
       "0  {'selector__k': 1000, 'clasifier__n_estimators...  X_test:(87, 18875)   \n",
       "0  {'selector__k': 1000, 'clasifier__solver': 'lb...  X_test:(87, 18875)   \n",
       "\n",
       "                                            features  roc_auc_ovr  \\\n",
       "0  ['ENSG00000001084.13', 'ENSG00000001460.18', '...     0.828342   \n",
       "0  ['ENSG00000001084.13', 'ENSG00000001460.18', '...     0.795276   \n",
       "0  ['ENSG00000001084.13', 'ENSG00000001460.18', '...     0.893220   \n",
       "\n",
       "                                         indices_auc  \\\n",
       "0  [0.778169014084507, 0.8231481481481482, 0.7428...   \n",
       "0  [0.5933098591549295, 0.8490740740740741, 0.752...   \n",
       "0  [0.8899647887323943, 0.8768518518518519, 0.819...   \n",
       "\n",
       "                                     indices_jaccard  \n",
       "0  [0.2727272727272727, 0.4444444444444444, 0.176...  \n",
       "0  [0.10526315789473684, 0.391304347826087, 0.176...  \n",
       "0  [0.5263157894736842, 0.4, 0.17647058823529413,...  "
      ]
     },
     "metadata": {},
     "output_type": "display_data"
    }
   ],
   "source": [
    "if M_TIPO.startswith(\"bin\"):\n",
    "    myfunc.save_metricas_to_csv(random_search, X_test, y_test, M_TIPO, M_SELECT, M_CLASIF, total_time, SEMILLA, myfunc.MET_DIR, M_FICHERO, fichero_modelo)\n",
    "else:\n",
    "    myfunc.save_metricas_multi_to_csv(random_search, X_test, y_test, M_TIPO, M_SELECT, M_CLASIF, total_time, SEMILLA, myfunc.MET_DIR, M_FICHERO, fichero_modelo)\n",
    "\n",
    "df1=myfunc.read_metricas_to_df(myfunc.MET_DIR,M_FICHERO)\n",
    "\n",
    "display(df1.sort_values(\"datetime\", ascending=False)[:3])\n"
   ]
  },
  {
   "cell_type": "markdown",
   "id": "3707fcb4",
   "metadata": {
    "papermill": {
     "duration": 0.015629,
     "end_time": "2023-10-29T23:20:44.977073",
     "exception": false,
     "start_time": "2023-10-29T23:20:44.961444",
     "status": "completed"
    },
    "tags": []
   },
   "source": [
    "#### Guardar resultados"
   ]
  },
  {
   "cell_type": "code",
   "execution_count": 13,
   "id": "3bc2b2df",
   "metadata": {
    "execution": {
     "iopub.execute_input": "2023-10-29T23:20:45.008308Z",
     "iopub.status.busy": "2023-10-29T23:20:45.008308Z",
     "iopub.status.idle": "2023-10-29T23:20:45.024824Z",
     "shell.execute_reply": "2023-10-29T23:20:45.024824Z"
    },
    "papermill": {
     "duration": 0.032132,
     "end_time": "2023-10-29T23:20:45.024824",
     "exception": false,
     "start_time": "2023-10-29T23:20:44.992692",
     "status": "completed"
    },
    "tags": []
   },
   "outputs": [
    {
     "name": "stdout",
     "output_type": "stream",
     "text": [
      "20231030T002045 : amilcar32 : INFO : Inicio guardar resultados\n",
      "20231030T002045 : amilcar32 : INFO : Inicio guardar fichero ..\\tfm_viu\\ejecuciones\\metricas\\resultados_1860_mul_m-MI-SVM.csv\n",
      "20231030T002045 : amilcar32 : INFO : Fin guardar fichero ..\\tfm_viu\\ejecuciones\\metricas\\resultados_1860_mul_m-MI-SVM.csv\n",
      "20231030T002045 : amilcar32 : INFO : Fin guardar resultados\n"
     ]
    }
   ],
   "source": [
    "fichero_resultados=R_FICHERO+\"_\"+M_TIPO+\"-\"+M_SELECT+\"-\"+M_CLASIF+\".csv\"\n",
    "myfunc.save_resultados_to_csv(M_TIPO, M_SELECT, M_CLASIF,  random_search, myfunc.MET_DIR, fichero_resultados)\n"
   ]
  }
 ],
 "metadata": {
  "kernelspec": {
   "display_name": "Python 3 (ipykernel)",
   "language": "python",
   "name": "python3"
  },
  "language_info": {
   "codemirror_mode": {
    "name": "ipython",
    "version": 3
   },
   "file_extension": ".py",
   "mimetype": "text/x-python",
   "name": "python",
   "nbconvert_exporter": "python",
   "pygments_lexer": "ipython3",
   "version": "3.10.12"
  },
  "papermill": {
   "default_parameters": {},
   "duration": 296.220983,
   "end_time": "2023-10-29T23:20:46.057357",
   "environment_variables": {},
   "exception": null,
   "input_path": "03_entrenamiento.ipynb",
   "output_path": "ejecuciones\\training\\03_entrenamiento.20231030T_01549.param_0000_1860_mul_m_MI_SVM.output.ipynb",
   "parameters": {
    "MAX_ITERS": 500,
    "M_CLASIF": "SVM",
    "M_FICHERO": "metricas_1860",
    "M_SELECT": "MI",
    "M_TIPO": "mul_m",
    "PRE_DATA_FILE": "rows_transpose_norm_by_gene_id_with_target_num_",
    "P_FICHERO": "param_0000_1860_mul_m_MI_SVM.yaml",
    "R_FICHERO": "resultados_1860",
    "SCORING": "roc_auc_ovr",
    "SEMILLA": 1860,
    "eval_clasifier": "SVC(probability=True, random_state=SEMILLA)",
    "eval_selector": "SelectKBest(score_func=mutual_info_classif_state)",
    "param_distributions": {
     "clasifier__C": [
      100
     ],
     "clasifier__gamma": [
      0.001
     ],
     "clasifier__kernel": [
      "rbf"
     ],
     "selector__k": [
      1000
     ]
    }
   },
   "start_time": "2023-10-29T23:15:49.836374",
   "version": "2.4.0"
  }
 },
 "nbformat": 4,
 "nbformat_minor": 5
}