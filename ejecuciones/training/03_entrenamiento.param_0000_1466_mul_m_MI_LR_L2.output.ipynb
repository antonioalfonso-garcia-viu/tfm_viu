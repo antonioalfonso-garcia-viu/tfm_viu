{
 "cells": [
  {
   "cell_type": "markdown",
   "id": "0861a9e1",
   "metadata": {
    "papermill": {
     "duration": 0.004306,
     "end_time": "2023-10-30T01:09:46.829103",
     "exception": false,
     "start_time": "2023-10-30T01:09:46.824797",
     "status": "completed"
    },
    "tags": []
   },
   "source": [
    "##### Inicio"
   ]
  },
  {
   "cell_type": "markdown",
   "id": "be9abb65",
   "metadata": {
    "papermill": {
     "duration": 0.003537,
     "end_time": "2023-10-30T01:09:46.836465",
     "exception": false,
     "start_time": "2023-10-30T01:09:46.832928",
     "status": "completed"
    },
    "tags": []
   },
   "source": [
    "#### Carga de datos"
   ]
  },
  {
   "cell_type": "code",
   "execution_count": 1,
   "id": "b456c165",
   "metadata": {
    "execution": {
     "iopub.execute_input": "2023-10-30T01:09:46.845026Z",
     "iopub.status.busy": "2023-10-30T01:09:46.844777Z",
     "iopub.status.idle": "2023-10-30T01:09:47.707813Z",
     "shell.execute_reply": "2023-10-30T01:09:47.707247Z"
    },
    "papermill": {
     "duration": 0.869046,
     "end_time": "2023-10-30T01:09:47.709135",
     "exception": false,
     "start_time": "2023-10-30T01:09:46.840089",
     "status": "completed"
    },
    "tags": []
   },
   "outputs": [
    {
     "name": "stdout",
     "output_type": "stream",
     "text": [
      "CPU_COUNT: 8; NODE: amilcar22; sys.version: 3.10.12 (main, Jul  5 2023, 19:22:19) [GCC 11.2.0]\n",
      "LOKY_MAX_CPU_COUNT: 6\n",
      "OMP_NUM_THREADS: 2\n"
     ]
    }
   ],
   "source": [
    "import os\n",
    "import numpy as np\n",
    "import pandas as pd\n",
    "import datetime\n",
    "import sklearn\n",
    "import logging\n",
    "import warnings\n",
    "\n",
    "from sklearn.pipeline import Pipeline\n",
    "from sklearn.model_selection import RandomizedSearchCV, KFold, cross_val_score, train_test_split\n",
    "from sklearn.metrics import accuracy_score, confusion_matrix, classification_report, roc_auc_score\n",
    "\n",
    "#  cargar algoritmos para aprendizaje supervisado\n",
    "from sklearn.feature_selection import SelectKBest, f_classif, SelectFromModel, mutual_info_classif\n",
    "from sklearn.svm import SVC\n",
    "from sklearn.ensemble import RandomForestClassifier\n",
    "from sklearn.linear_model import LogisticRegression,LogisticRegressionCV\n",
    "\n",
    "# importar fichero con utilidades propias\n",
    "from commons import myfunctions as myfunc\n"
   ]
  },
  {
   "cell_type": "markdown",
   "id": "d635c265",
   "metadata": {
    "papermill": {
     "duration": 0.002661,
     "end_time": "2023-10-30T01:09:47.714712",
     "exception": false,
     "start_time": "2023-10-30T01:09:47.712051",
     "status": "completed"
    },
    "tags": []
   },
   "source": [
    "#### Parámetros a utilizar en el entrenamiento.\n",
    "\n",
    "Se indican los 3 algoritmos de *selección de características* (eval_selector_xxx) y los 3 algoritmos para la _clasificación_ (eval_clasifier_xxx)\n",
    "\n",
    "En *param_distributions* se indicar los parámetros que utilizan los algoritmos en la función RandomSearchCV.\n",
    "\n",
    "Esta celda tiene la etiqueta **parameters** que servirá para poder lanzar los entrenamientos con la utilidad **papermill** pasándole un fichero con los parámetros. Los nuevos parámetros se situarán tras esta celda para tener prevalencia."
   ]
  },
  {
   "cell_type": "code",
   "execution_count": 2,
   "id": "d9d41d6c",
   "metadata": {
    "execution": {
     "iopub.execute_input": "2023-10-30T01:09:47.720747Z",
     "iopub.status.busy": "2023-10-30T01:09:47.720461Z",
     "iopub.status.idle": "2023-10-30T01:09:47.727302Z",
     "shell.execute_reply": "2023-10-30T01:09:47.726884Z"
    },
    "papermill": {
     "duration": 0.011189,
     "end_time": "2023-10-30T01:09:47.728458",
     "exception": false,
     "start_time": "2023-10-30T01:09:47.717269",
     "status": "completed"
    },
    "tags": [
     "parameters"
    ]
   },
   "outputs": [
    {
     "name": "stdout",
     "output_type": "stream",
     "text": [
      "20231030T020947 : amilcar22 : INFO : Utilizando parámetros de mul_m\n"
     ]
    }
   ],
   "source": [
    "#  Parametros para el entrenamiento\n",
    "\n",
    "SEMILLA=        42\n",
    "M_TIPO=         \"mul_m\"\n",
    "M_SELECT=       \"MI\"\n",
    "M_CLASIF=       \"SVM\"\n",
    "R_FICHERO=      \"resultados\"\n",
    "M_FICHERO=      \"metricas\"\n",
    "PRE_DATA_FILE=  \"rows_transpose_norm_by_gene_id_with_target_num_\"\n",
    "SCORING=        \"roc_auc_ovr\" \n",
    "MAX_ITERS=      100\n",
    "\n",
    "def mutual_info_classif_state(X, y):\n",
    "    return mutual_info_classif(X, y, random_state=SEMILLA)\n",
    "\n",
    "eval_selector_mi = \"SelectKBest(score_func=mutual_info_classif_state)\"\n",
    "eval_selector_rf=  \"SelectFromModel(estimator=RandomForestClassifier(random_state=SEMILLA), threshold=-np.inf)\"\n",
    "eval_selector_anova=  \"SelectKBest(score_func=f_classif)\"\n",
    "\n",
    "eval_clasifier_svm= \"SVC(probability=True, random_state=SEMILLA)\"\n",
    "eval_clasifier_rf= \"RandomForestClassifier(random_state=SEMILLA)\"\n",
    "eval_clasifier_lr= \"LogisticRegressionCV(random_state=SEMILLA)\"\n",
    "\n",
    "if M_TIPO.startswith(\"bin_m\"):\n",
    "    myfunc.verbose(f\"Utilizando parámetros de {M_TIPO}\")\n",
    "    eval_selector = eval_selector_mi\n",
    "    eval_clasifier = eval_clasifier_svm\n",
    "\n",
    "    SEMILLA = 6578\n",
    "    M_SELECT = \"MI\"\n",
    "    M_CLASIF = \"SVM\"\n",
    "    param_distributions = {'selector__k': [1000], \n",
    "         'clasifier__kernel': ['rbf'], 'clasifier__gamma': [0.01], 'clasifier__C': [100]}\n",
    "elif M_TIPO.startswith(\"bin_s\"):\n",
    "    myfunc.verbose(f\"Utilizando parámetros de {M_TIPO}\")\n",
    "    eval_selector = eval_selector_rf\n",
    "    eval_clasifier = eval_clasifier_lr\n",
    "\n",
    "    SEMILLA = 6191\n",
    "    M_SELECT = \"RF\"\n",
    "    M_CLASIF = \"LR_L2\"\n",
    "    param_distributions = {'selector__max_features': [1000], 'selector__estimator__n_estimators': [200], \n",
    "        'clasifier__solver': ['lbfgs'], 'clasifier__penalty': ['l2'], 'clasifier__max_iter': [10000]}\n",
    "\n",
    "elif M_TIPO.startswith(\"mul_m\"):\n",
    "    myfunc.verbose(f\"Utilizando parámetros de {M_TIPO}\")\n",
    " \n",
    "    eval_selector = eval_selector_rf\n",
    "    eval_clasifier = eval_clasifier_lr\n",
    "\n",
    "    SEMILLA = 6191\n",
    "    M_SELECT = \"RF\"\n",
    "    M_CLASIF = \"LR_L2\"\n",
    "    param_distributions = {'selector__max_features': [1000], 'selector__estimator__n_estimators': [400], \n",
    "        'clasifier__solver': ['lbfgs'], 'clasifier__penalty': ['l2'], 'clasifier__max_iter': [10000]}\n",
    "\n",
    "else:\n",
    "    # M_TIPO.startswith(\"mul_s\"):\n",
    "    myfunc.verbose(f\"Utilizando parámetros de {M_TIPO}\")\n",
    "    eval_selector = eval_selector_anova\n",
    "    eval_clasifier = eval_clasifier_lr\n",
    "\n",
    "    SEMILLA = 1860\n",
    "    M_SELECT = \"ANOVA\"\n",
    "    M_CLASIF = \"LR_L2\"\n",
    "    param_distributions = {'selector__k': [1000], \n",
    "        'clasifier__solver': ['saga'], 'clasifier__penalty': ['l2'], 'clasifier__max_iter': [10000]}\n",
    "\n"
   ]
  },
  {
   "cell_type": "code",
   "execution_count": 3,
   "id": "bcf4300b",
   "metadata": {
    "execution": {
     "iopub.execute_input": "2023-10-30T01:09:47.734463Z",
     "iopub.status.busy": "2023-10-30T01:09:47.734270Z",
     "iopub.status.idle": "2023-10-30T01:09:47.737654Z",
     "shell.execute_reply": "2023-10-30T01:09:47.737193Z"
    },
    "papermill": {
     "duration": 0.007717,
     "end_time": "2023-10-30T01:09:47.738918",
     "exception": false,
     "start_time": "2023-10-30T01:09:47.731201",
     "status": "completed"
    },
    "tags": [
     "injected-parameters"
    ]
   },
   "outputs": [],
   "source": [
    "# Parameters\n",
    "M_TIPO = \"mul_m\"\n",
    "M_SELECT = \"MI\"\n",
    "M_CLASIF = \"LR_L2\"\n",
    "P_FICHERO = \"param_0000_1466_mul_m_MI_LR_L2.yaml\"\n",
    "R_FICHERO = \"resultados_1466\"\n",
    "M_FICHERO = \"metricas_1466\"\n",
    "PRE_DATA_FILE = \"rows_transpose_norm_by_gene_id_with_target_num_\"\n",
    "SCORING = \"roc_auc_ovr\"\n",
    "SEMILLA = 1466\n",
    "MAX_ITERS = 500\n",
    "eval_selector = \"SelectKBest(score_func=mutual_info_classif_state)\"\n",
    "eval_clasifier = \"LogisticRegressionCV(random_state=SEMILLA)\"\n",
    "param_distributions = {\n",
    "    \"selector__k\": [1000],\n",
    "    \"clasifier__solver\": [\"lbfgs\"],\n",
    "    \"clasifier__penalty\": [\"l2\"],\n",
    "    \"clasifier__max_iter\": [10000],\n",
    "}\n"
   ]
  },
  {
   "cell_type": "code",
   "execution_count": 4,
   "id": "ba398a15",
   "metadata": {
    "execution": {
     "iopub.execute_input": "2023-10-30T01:09:47.744949Z",
     "iopub.status.busy": "2023-10-30T01:09:47.744756Z",
     "iopub.status.idle": "2023-10-30T01:09:47.748017Z",
     "shell.execute_reply": "2023-10-30T01:09:47.747458Z"
    },
    "papermill": {
     "duration": 0.007692,
     "end_time": "2023-10-30T01:09:47.749317",
     "exception": false,
     "start_time": "2023-10-30T01:09:47.741625",
     "status": "completed"
    },
    "tags": []
   },
   "outputs": [],
   "source": [
    "DATA_FILE = PRE_DATA_FILE + M_TIPO\n",
    "\n",
    "# si viene \"None\" en el parámetro max_depth, se le quitan las comillas para que no sea entendido por el algoritmo como un texto\n",
    "if \"clasifier__max_depth\" in param_distributions:\n",
    "    param_distributions['clasifier__max_depth'] = [None if x == 'None' else x for x in param_distributions['clasifier__max_depth']]"
   ]
  },
  {
   "cell_type": "markdown",
   "id": "b1df1a57",
   "metadata": {
    "papermill": {
     "duration": 0.002834,
     "end_time": "2023-10-30T01:09:47.755040",
     "exception": false,
     "start_time": "2023-10-30T01:09:47.752206",
     "status": "completed"
    },
    "tags": []
   },
   "source": [
    "Asignar los algoritmos que se utilizarán en la función RandomSearchCV"
   ]
  },
  {
   "cell_type": "code",
   "execution_count": 5,
   "id": "046b1b35",
   "metadata": {
    "execution": {
     "iopub.execute_input": "2023-10-30T01:09:47.761418Z",
     "iopub.status.busy": "2023-10-30T01:09:47.761251Z",
     "iopub.status.idle": "2023-10-30T01:09:47.763831Z",
     "shell.execute_reply": "2023-10-30T01:09:47.763354Z"
    },
    "papermill": {
     "duration": 0.007174,
     "end_time": "2023-10-30T01:09:47.765094",
     "exception": false,
     "start_time": "2023-10-30T01:09:47.757920",
     "status": "completed"
    },
    "tags": []
   },
   "outputs": [],
   "source": [
    "algor_selector=eval(eval_selector)\n",
    "algor_clasifier=eval(eval_clasifier)"
   ]
  },
  {
   "cell_type": "markdown",
   "id": "e112f5d7",
   "metadata": {
    "papermill": {
     "duration": 0.003258,
     "end_time": "2023-10-30T01:09:47.771543",
     "exception": false,
     "start_time": "2023-10-30T01:09:47.768285",
     "status": "completed"
    },
    "tags": []
   },
   "source": [
    "#### Comprobar el entorno y leer fichero de muestras"
   ]
  },
  {
   "cell_type": "code",
   "execution_count": 6,
   "id": "1c1fd648",
   "metadata": {
    "execution": {
     "iopub.execute_input": "2023-10-30T01:09:47.778793Z",
     "iopub.status.busy": "2023-10-30T01:09:47.778606Z",
     "iopub.status.idle": "2023-10-30T01:09:47.939787Z",
     "shell.execute_reply": "2023-10-30T01:09:47.939291Z"
    },
    "papermill": {
     "duration": 0.166335,
     "end_time": "2023-10-30T01:09:47.941093",
     "exception": false,
     "start_time": "2023-10-30T01:09:47.774758",
     "status": "completed"
    },
    "tags": []
   },
   "outputs": [
    {
     "name": "stdout",
     "output_type": "stream",
     "text": [
      "20231030T020947 : amilcar22 : INFO : Encontrada carpeta DATA_DIR=../tfm_git/datos\n",
      "20231030T020947 : amilcar22 : INFO : Encontrada carpeta CFDNA_DIR=../tfm_git/datos/cfDNA_5hmC\n",
      "20231030T020947 : amilcar22 : INFO : Encontrada carpeta GENCODE_DIR=../tfm_git/datos/gencode\n",
      "20231030T020947 : amilcar22 : INFO : Encontrada carpeta H5_DIR=../tfm_git/datos/h5\n",
      "20231030T020947 : amilcar22 : INFO : Encontrada carpeta LOG_DIR=../tfm_git/datos/logs\n",
      "20231030T020947 : amilcar22 : INFO : Encontrada carpeta CSV_DIR=../tfm_git/datos/csv\n",
      "20231030T020947 : amilcar22 : INFO : Encontrada carpeta MODEL_DIR=../tfm_git/ejecuciones/modelos\n",
      "20231030T020947 : amilcar22 : INFO : Encontrada carpeta EXEC_DIR=../tfm_git/ejecuciones\n",
      "20231030T020947 : amilcar22 : INFO : Encontrada carpeta MET_DIR=../tfm_git/ejecuciones/metricas\n",
      "20231030T020947 : amilcar22 : INFO : Inicio leer fichero h5 ../tfm_git/datos/h5/rows_transpose_norm_by_gene_id_with_target_num_mul_m.h5\n",
      "20231030T020947 : amilcar22 : INFO : Leyendo clave /df\n",
      "20231030T020947 : amilcar22 : INFO : Tamaño (434, 18876)\n",
      "20231030T020947 : amilcar22 : INFO : Fin leer fichero h5 ../tfm_git/datos/h5/rows_transpose_norm_by_gene_id_with_target_num_mul_m.h5\n"
     ]
    },
    {
     "data": {
      "text/plain": [
       "target\n",
       "0    62\n",
       "1    62\n",
       "2    62\n",
       "3    62\n",
       "4    62\n",
       "5    62\n",
       "6    62\n",
       "dtype: int64"
      ]
     },
     "metadata": {},
     "output_type": "display_data"
    },
    {
     "name": "stdout",
     "output_type": "stream",
     "text": [
      "Shape df: (434, 18876)\n"
     ]
    },
    {
     "name": "stdout",
     "output_type": "stream",
     "text": [
      "Shape X_train: (347, 18875)\n",
      "Shape X_test: (87, 18875)\n"
     ]
    }
   ],
   "source": [
    "start_time = datetime.datetime.now()\n",
    "\n",
    "myfunc.reset_vars()\n",
    "\n",
    "myfunc.NOTEBK_FILENAME = myfunc.get_nb_name()\n",
    "\n",
    "myfunc.check_enviroment(myfunc.DATA_DIR, myfunc.CFDNA_DIR, myfunc.GENCODE_DIR, myfunc.H5_DIR, myfunc.LOG_DIR, myfunc.CSV_DIR, myfunc.MODEL_DIR, myfunc.EXEC_DIR, myfunc.MET_DIR)\n",
    "\n",
    "# Leer fichero con las muestras\n",
    "df_t = myfunc.read_h5_to_df(DATA_FILE, myfunc.H5_DIR)\n",
    "display(df_t.groupby(\"target\").size())\n",
    "print(\"Shape df:\",df_t.shape)\n",
    "\n",
    "# Separar caracteristicas/genes de las etiquetas/tipos de cáncer\n",
    "X = df_t.iloc[:, :-1]  # Todas las columnas excepto la última\n",
    "y = df_t.iloc[:, -1]  # La última columna contiene los identificadores de los tipos de cáncer\n",
    "\n",
    "#  Crear el conjunto de datos de entrenamiento y de pruebas, y se fija la semilla para siempre coger el mismo juego de muestras\n",
    "X_train, X_test, y_train, y_test = train_test_split(X, y, test_size=0.2, shuffle=True, random_state=42)\n",
    "print(\"Shape X_train:\",X_train.shape)\n",
    "print(\"Shape X_test:\",X_test.shape)\n"
   ]
  },
  {
   "cell_type": "markdown",
   "id": "95671bdd",
   "metadata": {
    "papermill": {
     "duration": 0.00282,
     "end_time": "2023-10-30T01:09:47.947269",
     "exception": false,
     "start_time": "2023-10-30T01:09:47.944449",
     "status": "completed"
    },
    "tags": []
   },
   "source": [
    "#### Selección de características y clasificación."
   ]
  },
  {
   "cell_type": "code",
   "execution_count": 7,
   "id": "85972560",
   "metadata": {
    "execution": {
     "iopub.execute_input": "2023-10-30T01:09:47.953718Z",
     "iopub.status.busy": "2023-10-30T01:09:47.953522Z",
     "iopub.status.idle": "2023-10-30T01:13:49.639696Z",
     "shell.execute_reply": "2023-10-30T01:13:49.638982Z"
    },
    "papermill": {
     "duration": 241.693413,
     "end_time": "2023-10-30T01:13:49.643465",
     "exception": false,
     "start_time": "2023-10-30T01:09:47.950052",
     "status": "completed"
    },
    "tags": []
   },
   "outputs": [
    {
     "name": "stdout",
     "output_type": "stream",
     "text": [
      "20231030T020947 : amilcar22 : INFO : Iniciando entrenamiento\n",
      "num_iter: 1 , max_iter: 1\n",
      "Fitting 5 folds for each of 1 candidates, totalling 5 fits\n"
     ]
    },
    {
     "name": "stdout",
     "output_type": "stream",
     "text": [
      "Mejores Hiperparámetros: {'selector__k': 1000, 'clasifier__solver': 'lbfgs', 'clasifier__penalty': 'l2', 'clasifier__max_iter': 10000}\n",
      "Mejor Puntuación: 0.8604\n",
      "20231030T021349 : amilcar22 : INFO : Fin entrenamiento\n"
     ]
    }
   ],
   "source": [
    "myfunc.verbose(\"Iniciando entrenamiento\")\n",
    "\n",
    "kf = KFold(n_splits=5, shuffle=True, random_state=SEMILLA)\n",
    "\n",
    "# Crear el pipeline para el flujo de tareas\n",
    "tasks_pipeline = Pipeline([\n",
    "    ('selector', algor_selector),\n",
    "    ('clasifier', algor_clasifier)\n",
    "])\n",
    "\n",
    "# MAX_ITERS puede limitar el número de iteraciones si son excesivas para las combinaciones de parámetros buscando un óptimo local, \n",
    "# sino funcionaría como GridSearchCV al revisar todas las cominaciones de los parámetros\n",
    "num_iteraciones = 1\n",
    "num_iteraciones = num_iteraciones * np.prod([len(elemento1) for _, elemento1 in param_distributions.items()])\n",
    "max_iteraciones = num_iteraciones if num_iteraciones <= MAX_ITERS else MAX_ITERS\n",
    "print(\"num_iter:\",num_iteraciones,\", max_iter:\",max_iteraciones)\n",
    "\n",
    "random_search = RandomizedSearchCV(\n",
    "    tasks_pipeline, \n",
    "    param_distributions, \n",
    "    n_iter=max_iteraciones,\n",
    "    scoring=SCORING,\n",
    "    cv=kf,\n",
    "    verbose=3, \n",
    "    random_state=SEMILLA, \n",
    "    n_jobs=-1\n",
    "    )\n",
    "\n",
    "# Entrenar el modelo\n",
    "random_search.fit(X_train, y_train)\n",
    "\n",
    "# Ver los mejores hiperparámetros encontrados\n",
    "print(f'Mejores Hiperparámetros: {random_search.best_params_}')\n",
    "print(f'Mejor Puntuación: {random_search.best_score_:.4f}')\n",
    "\n",
    "# Nos quedamos con el mejor modelo para ver las métricas\n",
    "mejor_modelo = random_search.best_estimator_\n",
    "\n",
    "myfunc.verbose(\"Fin entrenamiento\")"
   ]
  },
  {
   "cell_type": "markdown",
   "id": "91250f07",
   "metadata": {
    "papermill": {
     "duration": 0.003034,
     "end_time": "2023-10-30T01:13:49.649920",
     "exception": false,
     "start_time": "2023-10-30T01:13:49.646886",
     "status": "completed"
    },
    "tags": []
   },
   "source": [
    "#### Guardar modelo"
   ]
  },
  {
   "cell_type": "code",
   "execution_count": 8,
   "id": "f4197b17",
   "metadata": {
    "execution": {
     "iopub.execute_input": "2023-10-30T01:13:49.656860Z",
     "iopub.status.busy": "2023-10-30T01:13:49.656626Z",
     "iopub.status.idle": "2023-10-30T01:13:49.666646Z",
     "shell.execute_reply": "2023-10-30T01:13:49.666127Z"
    },
    "papermill": {
     "duration": 0.014939,
     "end_time": "2023-10-30T01:13:49.667887",
     "exception": false,
     "start_time": "2023-10-30T01:13:49.652948",
     "status": "completed"
    },
    "tags": []
   },
   "outputs": [
    {
     "name": "stdout",
     "output_type": "stream",
     "text": [
      "20231030T021349 : amilcar22 : INFO : Inicio guardar fichero ../tfm_git/ejecuciones/modelos/modelo_1466_mul_m_MI_LR_L2.pkl\n",
      "20231030T021349 : amilcar22 : INFO : Fin guardar fichero ../tfm_git/ejecuciones/modelos/modelo_1466_mul_m_MI_LR_L2.pkl\n"
     ]
    }
   ],
   "source": [
    "fichero_modelo = str.replace(\"modelo_\"+str(SEMILLA).zfill(4)+\"_\"+M_TIPO+\"_\"+M_SELECT+\"_\"+M_CLASIF+\".pkl\", \" \", \"_\")\n",
    "\n",
    "myfunc.save_modelo(mejor_modelo, myfunc.MODEL_DIR, fichero_modelo)"
   ]
  },
  {
   "cell_type": "markdown",
   "id": "b9fb97ce",
   "metadata": {
    "papermill": {
     "duration": 0.003123,
     "end_time": "2023-10-30T01:13:49.674306",
     "exception": false,
     "start_time": "2023-10-30T01:13:49.671183",
     "status": "completed"
    },
    "tags": []
   },
   "source": [
    "#### Ver resultados del las iteraciones hechas por RandomSearchCV"
   ]
  },
  {
   "cell_type": "code",
   "execution_count": 9,
   "id": "4bcc9742",
   "metadata": {
    "execution": {
     "iopub.execute_input": "2023-10-30T01:13:49.681219Z",
     "iopub.status.busy": "2023-10-30T01:13:49.680996Z",
     "iopub.status.idle": "2023-10-30T01:13:49.687186Z",
     "shell.execute_reply": "2023-10-30T01:13:49.686690Z"
    },
    "papermill": {
     "duration": 0.010982,
     "end_time": "2023-10-30T01:13:49.688362",
     "exception": false,
     "start_time": "2023-10-30T01:13:49.677380",
     "status": "completed"
    },
    "tags": []
   },
   "outputs": [
    {
     "name": "stdout",
     "output_type": "stream",
     "text": [
      "20231030T021349 : amilcar22 : INFO : Inicio ver resultados\n",
      "Mejores Hiperparámetros: {'selector__k': 1000, 'clasifier__solver': 'lbfgs', 'clasifier__penalty': 'l2', 'clasifier__max_iter': 10000}\n",
      "Mejores puntuaciones: 0.8604 | Params: {'selector__k': 1000, 'clasifier__solver': 'lbfgs', 'clasifier__penalty': 'l2', 'clasifier__max_iter': 10000}\n",
      "Media de las puntuaciones: 0.8604 | Params: {'selector__k': 1000, 'clasifier__solver': 'lbfgs', 'clasifier__penalty': 'l2', 'clasifier__max_iter': 10000}\n",
      "20231030T021349 : amilcar22 : INFO : Fin resultados\n"
     ]
    }
   ],
   "source": [
    "myfunc.ver_resultados_search(random_search)"
   ]
  },
  {
   "cell_type": "markdown",
   "id": "3d41826c",
   "metadata": {
    "papermill": {
     "duration": 0.003156,
     "end_time": "2023-10-30T01:13:49.694767",
     "exception": false,
     "start_time": "2023-10-30T01:13:49.691611",
     "status": "completed"
    },
    "tags": []
   },
   "source": [
    "#### Ver métricas del mejor modelo"
   ]
  },
  {
   "cell_type": "code",
   "execution_count": 10,
   "id": "fa9aa814",
   "metadata": {
    "execution": {
     "iopub.execute_input": "2023-10-30T01:13:49.701918Z",
     "iopub.status.busy": "2023-10-30T01:13:49.701710Z",
     "iopub.status.idle": "2023-10-30T01:13:50.344646Z",
     "shell.execute_reply": "2023-10-30T01:13:50.344136Z"
    },
    "papermill": {
     "duration": 0.648039,
     "end_time": "2023-10-30T01:13:50.345970",
     "exception": false,
     "start_time": "2023-10-30T01:13:49.697931",
     "status": "completed"
    },
    "tags": []
   },
   "outputs": [
    {
     "name": "stdout",
     "output_type": "stream",
     "text": [
      "20231030T021349 : amilcar22 : INFO : Inicio ver métricas multiclase\n",
      "              precision    recall  f1-score   support\n",
      "\n",
      "           0       0.62      0.50      0.55        16\n",
      "           1       0.64      0.60      0.62        15\n",
      "           2       0.36      0.36      0.36        11\n",
      "           3       0.44      0.80      0.57         5\n",
      "           4       0.73      0.62      0.67        13\n",
      "           5       0.60      0.67      0.63         9\n",
      "           6       0.63      0.67      0.65        18\n",
      "\n",
      "    accuracy                           0.59        87\n",
      "   macro avg       0.58      0.60      0.58        87\n",
      "weighted avg       0.60      0.59      0.59        87\n",
      "\n"
     ]
    },
    {
     "name": "stdout",
     "output_type": "stream",
     "text": [
      "\n",
      "\n",
      "           Exactitud: 0.586207\n",
      "   Precisión (media): 0.575025\n",
      "      Recall (media): 0.601765\n",
      "    F1-score (media): 0.579196\n",
      "\n",
      "\n",
      "AUC para el tipo de cáncer 0-Control.... 0.8565\n",
      "AUC para el tipo de cáncer 1-Bladder.... 0.8731\n",
      "AUC para el tipo de cáncer 2-Breast..... 0.8050\n",
      "AUC para el tipo de cáncer 3-Colorectal. 0.9561\n",
      "AUC para el tipo de cáncer 4-Kidney..... 0.8534\n",
      "AUC para el tipo de cáncer 5-Lung....... 0.9145\n",
      "AUC para el tipo de cáncer 6-Prostate... 0.8969\n",
      "\n",
      "Media de AUC: 0.8794\n"
     ]
    },
    {
     "data": {
      "image/png": "[encoded data removed]",
      "text/plain": [
       "<Figure size 1000x600 with 1 Axes>"
      ]
     },
     "metadata": {},
     "output_type": "display_data"
    },
    {
     "name": "stdout",
     "output_type": "stream",
     "text": [
      "\n",
      "\n"
     ]
    },
    {
     "data": {
      "image/png": "[encoded data removed]",
      "text/plain": [
       "<Figure size 800x400 with 2 Axes>"
      ]
     },
     "metadata": {},
     "output_type": "display_data"
    },
    {
     "name": "stdout",
     "output_type": "stream",
     "text": [
      "\n",
      "\n",
      "Puntuación Jaccard para el cáncer tipo 0-Control.... 0.3810\n",
      "Puntuación Jaccard para el cáncer tipo 1-Bladder.... 0.4500\n",
      "Puntuación Jaccard para el cáncer tipo 2-Breast..... 0.2222\n",
      "Puntuación Jaccard para el cáncer tipo 3-Colorectal. 0.4000\n",
      "Puntuación Jaccard para el cáncer tipo 4-Kidney..... 0.5000\n",
      "Puntuación Jaccard para el cáncer tipo 5-Lung....... 0.4615\n",
      "Puntuación Jaccard para el cáncer tipo 6-Prostate... 0.4800\n",
      "\n",
      "Media de la puntuación de Jaccard: 0.4135\n"
     ]
    }
   ],
   "source": [
    "if M_TIPO.startswith(\"bin\"):\n",
    "    myfunc.ver_metricas(mejor_modelo, X_test, y_test)\n",
    "else:\n",
    "    myfunc.ver_metricas_multi(mejor_modelo, X_test, y_test)\n"
   ]
  },
  {
   "cell_type": "markdown",
   "id": "b02e7d1d",
   "metadata": {
    "papermill": {
     "duration": 0.004119,
     "end_time": "2023-10-30T01:13:50.354750",
     "exception": false,
     "start_time": "2023-10-30T01:13:50.350631",
     "status": "completed"
    },
    "tags": []
   },
   "source": [
    "#### Finalización del notebook"
   ]
  },
  {
   "cell_type": "code",
   "execution_count": 11,
   "id": "b3476c37",
   "metadata": {
    "execution": {
     "iopub.execute_input": "2023-10-30T01:13:50.363840Z",
     "iopub.status.busy": "2023-10-30T01:13:50.363614Z",
     "iopub.status.idle": "2023-10-30T01:13:50.367536Z",
     "shell.execute_reply": "2023-10-30T01:13:50.367105Z"
    },
    "papermill": {
     "duration": 0.00974,
     "end_time": "2023-10-30T01:13:50.368557",
     "exception": false,
     "start_time": "2023-10-30T01:13:50.358817",
     "status": "completed"
    },
    "tags": []
   },
   "outputs": [
    {
     "name": "stdout",
     "output_type": "stream",
     "text": [
      "20231030T021350 : amilcar22 : INFO : Notebook ha tardado 242 seconds\n"
     ]
    }
   ],
   "source": [
    "end_time = datetime.datetime.now()\n",
    "total_time = end_time - start_time\n",
    "myfunc.verbose(f\"Notebook ha tardado {total_time.seconds} seconds\")"
   ]
  },
  {
   "cell_type": "markdown",
   "id": "bc6f3d97",
   "metadata": {
    "papermill": {
     "duration": 0.004073,
     "end_time": "2023-10-30T01:13:50.376804",
     "exception": false,
     "start_time": "2023-10-30T01:13:50.372731",
     "status": "completed"
    },
    "tags": []
   },
   "source": [
    "#### Guardar métricas"
   ]
  },
  {
   "cell_type": "code",
   "execution_count": 12,
   "id": "e6b74fd8",
   "metadata": {
    "execution": {
     "iopub.execute_input": "2023-10-30T01:13:50.385681Z",
     "iopub.status.busy": "2023-10-30T01:13:50.385479Z",
     "iopub.status.idle": "2023-10-30T01:13:50.571059Z",
     "shell.execute_reply": "2023-10-30T01:13:50.570547Z"
    },
    "papermill": {
     "duration": 0.191467,
     "end_time": "2023-10-30T01:13:50.572279",
     "exception": false,
     "start_time": "2023-10-30T01:13:50.380812",
     "status": "completed"
    },
    "tags": []
   },
   "outputs": [
    {
     "name": "stdout",
     "output_type": "stream",
     "text": [
      "20231030T021350 : amilcar22 : INFO : Inicio guardar métricas multiclase\n",
      "20231030T021350 : amilcar22 : INFO : Inicio leer fichero ../tfm_git/ejecuciones/metricas/metricas_1466.csv\n",
      "20231030T021350 : amilcar22 : INFO : Fin leer fichero ../tfm_git/ejecuciones/metricas/metricas_1466.csv\n",
      "20231030T021350 : amilcar22 : INFO : Inicio guardar fichero ../tfm_git/ejecuciones/metricas/metricas_1466.csv\n"
     ]
    },
    {
     "name": "stdout",
     "output_type": "stream",
     "text": [
      "20231030T021350 : amilcar22 : INFO : Fichero borrado ../tfm_git/ejecuciones/metricas/metricas_1466.csv\n",
      "20231030T021350 : amilcar22 : INFO : Fin guardar fichero ../tfm_git/ejecuciones/metricas/metricas_1466.csv\n",
      "20231030T021350 : amilcar22 : INFO : Fin guardar métricas multiclase\n",
      "20231030T021350 : amilcar22 : INFO : Inicio leer fichero ../tfm_git/ejecuciones/metricas/metricas_1466.csv\n",
      "20231030T021350 : amilcar22 : INFO : Fin leer fichero ../tfm_git/ejecuciones/metricas/metricas_1466.csv\n"
     ]
    },
    {
     "data": {
      "text/html": [
       "<div>\n",
       "<style scoped>\n",
       "    .dataframe tbody tr th:only-of-type {\n",
       "        vertical-align: middle;\n",
       "    }\n",
       "\n",
       "    .dataframe tbody tr th {\n",
       "        vertical-align: top;\n",
       "    }\n",
       "\n",
       "    .dataframe thead th {\n",
       "        text-align: right;\n",
       "    }\n",
       "</style>\n",
       "<table border=\"1\" class=\"dataframe\">\n",
       "  <thead>\n",
       "    <tr style=\"text-align: right;\">\n",
       "      <th></th>\n",
       "      <th>tipo</th>\n",
       "      <th>select</th>\n",
       "      <th>clasific</th>\n",
       "      <th>semilla</th>\n",
       "      <th>accuracy</th>\n",
       "      <th>precision</th>\n",
       "      <th>recall</th>\n",
       "      <th>f1_score</th>\n",
       "      <th>roc_auc</th>\n",
       "      <th>hostname</th>\n",
       "      <th>total_time_sec</th>\n",
       "      <th>datetime</th>\n",
       "      <th>fichero_modelo</th>\n",
       "      <th>params</th>\n",
       "      <th>shape</th>\n",
       "      <th>features</th>\n",
       "      <th>roc_auc_ovr</th>\n",
       "      <th>indices_auc</th>\n",
       "      <th>indices_jaccard</th>\n",
       "    </tr>\n",
       "  </thead>\n",
       "  <tbody>\n",
       "    <tr>\n",
       "      <th>0</th>\n",
       "      <td>mul_m</td>\n",
       "      <td>MI</td>\n",
       "      <td>LR_L2</td>\n",
       "      <td>1466</td>\n",
       "      <td>0.586207</td>\n",
       "      <td>0.575025</td>\n",
       "      <td>0.601765</td>\n",
       "      <td>0.579196</td>\n",
       "      <td>NaN</td>\n",
       "      <td>amilcar22</td>\n",
       "      <td>242</td>\n",
       "      <td>2023-10-30 02:13:50.541373</td>\n",
       "      <td>modelo_1466_mul_m_MI_LR_L2.pkl</td>\n",
       "      <td>{'selector__k': 1000, 'clasifier__solver': 'lb...</td>\n",
       "      <td>X_test:(87, 18875)</td>\n",
       "      <td>['ENSG00000001084.13', 'ENSG00000001460.18', '...</td>\n",
       "      <td>0.879383</td>\n",
       "      <td>[0.8565140845070423, 0.8731481481481482, 0.805...</td>\n",
       "      <td>[0.38095238095238093, 0.45, 0.2222222222222222...</td>\n",
       "    </tr>\n",
       "    <tr>\n",
       "      <th>0</th>\n",
       "      <td>mul_m</td>\n",
       "      <td>MI</td>\n",
       "      <td>LR_L1</td>\n",
       "      <td>1466</td>\n",
       "      <td>0.620690</td>\n",
       "      <td>0.622900</td>\n",
       "      <td>0.655900</td>\n",
       "      <td>0.620816</td>\n",
       "      <td>NaN</td>\n",
       "      <td>amilcar22</td>\n",
       "      <td>2203</td>\n",
       "      <td>2023-10-30 02:09:41.741808</td>\n",
       "      <td>modelo_1466_mul_m_MI_LR_L1.pkl</td>\n",
       "      <td>{'selector__k': 1000, 'clasifier__solver': 'sa...</td>\n",
       "      <td>X_test:(87, 18875)</td>\n",
       "      <td>['ENSG00000001084.13', 'ENSG00000001460.18', '...</td>\n",
       "      <td>0.881516</td>\n",
       "      <td>[0.8362676056338028, 0.8777777777777779, 0.811...</td>\n",
       "      <td>[0.4444444444444444, 0.5555555555555556, 0.277...</td>\n",
       "    </tr>\n",
       "    <tr>\n",
       "      <th>0</th>\n",
       "      <td>mul_m</td>\n",
       "      <td>MI</td>\n",
       "      <td>LR_EN</td>\n",
       "      <td>1466</td>\n",
       "      <td>0.597701</td>\n",
       "      <td>0.601871</td>\n",
       "      <td>0.630336</td>\n",
       "      <td>0.606017</td>\n",
       "      <td>NaN</td>\n",
       "      <td>amilcar22</td>\n",
       "      <td>2131</td>\n",
       "      <td>2023-10-30 01:32:52.085728</td>\n",
       "      <td>modelo_1466_mul_m_MI_LR_EN.pkl</td>\n",
       "      <td>{'selector__k': 1000, 'clasifier__solver': 'sa...</td>\n",
       "      <td>X_test:(87, 18875)</td>\n",
       "      <td>['ENSG00000001084.13', 'ENSG00000001460.18', '...</td>\n",
       "      <td>0.883588</td>\n",
       "      <td>[0.8459507042253521, 0.8842592592592593, 0.806...</td>\n",
       "      <td>[0.4, 0.5, 0.21052631578947367, 0.625, 0.47058...</td>\n",
       "    </tr>\n",
       "  </tbody>\n",
       "</table>\n",
       "</div>"
      ],
      "text/plain": [
       "    tipo select clasific  semilla  accuracy  precision    recall  f1_score  \\\n",
       "0  mul_m     MI    LR_L2     1466  0.586207   0.575025  0.601765  0.579196   \n",
       "0  mul_m     MI    LR_L1     1466  0.620690   0.622900  0.655900  0.620816   \n",
       "0  mul_m     MI    LR_EN     1466  0.597701   0.601871  0.630336  0.606017   \n",
       "\n",
       "   roc_auc   hostname  total_time_sec                    datetime  \\\n",
       "0      NaN  amilcar22             242  2023-10-30 02:13:50.541373   \n",
       "0      NaN  amilcar22            2203  2023-10-30 02:09:41.741808   \n",
       "0      NaN  amilcar22            2131  2023-10-30 01:32:52.085728   \n",
       "\n",
       "                   fichero_modelo  \\\n",
       "0  modelo_1466_mul_m_MI_LR_L2.pkl   \n",
       "0  modelo_1466_mul_m_MI_LR_L1.pkl   \n",
       "0  modelo_1466_mul_m_MI_LR_EN.pkl   \n",
       "\n",
       "                                              params               shape  \\\n",
       "0  {'selector__k': 1000, 'clasifier__solver': 'lb...  X_test:(87, 18875)   \n",
       "0  {'selector__k': 1000, 'clasifier__solver': 'sa...  X_test:(87, 18875)   \n",
       "0  {'selector__k': 1000, 'clasifier__solver': 'sa...  X_test:(87, 18875)   \n",
       "\n",
       "                                            features  roc_auc_ovr  \\\n",
       "0  ['ENSG00000001084.13', 'ENSG00000001460.18', '...     0.879383   \n",
       "0  ['ENSG00000001084.13', 'ENSG00000001460.18', '...     0.881516   \n",
       "0  ['ENSG00000001084.13', 'ENSG00000001460.18', '...     0.883588   \n",
       "\n",
       "                                         indices_auc  \\\n",
       "0  [0.8565140845070423, 0.8731481481481482, 0.805...   \n",
       "0  [0.8362676056338028, 0.8777777777777779, 0.811...   \n",
       "0  [0.8459507042253521, 0.8842592592592593, 0.806...   \n",
       "\n",
       "                                     indices_jaccard  \n",
       "0  [0.38095238095238093, 0.45, 0.2222222222222222...  \n",
       "0  [0.4444444444444444, 0.5555555555555556, 0.277...  \n",
       "0  [0.4, 0.5, 0.21052631578947367, 0.625, 0.47058...  "
      ]
     },
     "metadata": {},
     "output_type": "display_data"
    }
   ],
   "source": [
    "if M_TIPO.startswith(\"bin\"):\n",
    "    myfunc.save_metricas_to_csv(random_search, X_test, y_test, M_TIPO, M_SELECT, M_CLASIF, total_time, SEMILLA, myfunc.MET_DIR, M_FICHERO, fichero_modelo)\n",
    "else:\n",
    "    myfunc.save_metricas_multi_to_csv(random_search, X_test, y_test, M_TIPO, M_SELECT, M_CLASIF, total_time, SEMILLA, myfunc.MET_DIR, M_FICHERO, fichero_modelo)\n",
    "\n",
    "df1=myfunc.read_metricas_to_df(myfunc.MET_DIR,M_FICHERO)\n",
    "\n",
    "display(df1.sort_values(\"datetime\", ascending=False)[:3])\n"
   ]
  },
  {
   "cell_type": "markdown",
   "id": "e65aad72",
   "metadata": {
    "papermill": {
     "duration": 0.004498,
     "end_time": "2023-10-30T01:13:50.581768",
     "exception": false,
     "start_time": "2023-10-30T01:13:50.577270",
     "status": "completed"
    },
    "tags": []
   },
   "source": [
    "#### Guardar resultados"
   ]
  },
  {
   "cell_type": "code",
   "execution_count": 13,
   "id": "bc4281f9",
   "metadata": {
    "execution": {
     "iopub.execute_input": "2023-10-30T01:13:50.591367Z",
     "iopub.status.busy": "2023-10-30T01:13:50.591136Z",
     "iopub.status.idle": "2023-10-30T01:13:50.600154Z",
     "shell.execute_reply": "2023-10-30T01:13:50.599672Z"
    },
    "papermill": {
     "duration": 0.015185,
     "end_time": "2023-10-30T01:13:50.601277",
     "exception": false,
     "start_time": "2023-10-30T01:13:50.586092",
     "status": "completed"
    },
    "tags": []
   },
   "outputs": [
    {
     "name": "stdout",
     "output_type": "stream",
     "text": [
      "20231030T021350 : amilcar22 : INFO : Inicio guardar resultados\n",
      "20231030T021350 : amilcar22 : INFO : Inicio guardar fichero ../tfm_git/ejecuciones/metricas/resultados_1466_mul_m-MI-LR_L2.csv\n",
      "20231030T021350 : amilcar22 : INFO : Fin guardar fichero ../tfm_git/ejecuciones/metricas/resultados_1466_mul_m-MI-LR_L2.csv\n",
      "20231030T021350 : amilcar22 : INFO : Fin guardar resultados\n"
     ]
    }
   ],
   "source": [
    "fichero_resultados=R_FICHERO+\"_\"+M_TIPO+\"-\"+M_SELECT+\"-\"+M_CLASIF+\".csv\"\n",
    "myfunc.save_resultados_to_csv(M_TIPO, M_SELECT, M_CLASIF,  random_search, myfunc.MET_DIR, fichero_resultados)\n"
   ]
  }
 ],
 "metadata": {
  "kernelspec": {
   "display_name": "Python 3 (ipykernel)",
   "language": "python",
   "name": "python3"
  },
  "language_info": {
   "codemirror_mode": {
    "name": "ipython",
    "version": 3
   },
   "file_extension": ".py",
   "mimetype": "text/x-python",
   "name": "python",
   "nbconvert_exporter": "python",
   "pygments_lexer": "ipython3",
   "version": "3.10.12"
  },
  "papermill": {
   "default_parameters": {},
   "duration": 247.312823,
   "end_time": "2023-10-30T01:13:53.223794",
   "environment_variables": {},
   "exception": null,
   "input_path": "03_entrenamiento.ipynb",
   "output_path": "ejecuciones/training/03_entrenamiento.20231030T020945.param_0000_1466_mul_m_MI_LR_L2.output.ipynb",
   "parameters": {
    "MAX_ITERS": 500,
    "M_CLASIF": "LR_L2",
    "M_FICHERO": "metricas_1466",
    "M_SELECT": "MI",
    "M_TIPO": "mul_m",
    "PRE_DATA_FILE": "rows_transpose_norm_by_gene_id_with_target_num_",
    "P_FICHERO": "param_0000_1466_mul_m_MI_LR_L2.yaml",
    "R_FICHERO": "resultados_1466",
    "SCORING": "roc_auc_ovr",
    "SEMILLA": 1466,
    "eval_clasifier": "LogisticRegressionCV(random_state=SEMILLA)",
    "eval_selector": "SelectKBest(score_func=mutual_info_classif_state)",
    "param_distributions": {
     "clasifier__max_iter": [
      10000
     ],
     "clasifier__penalty": [
      "l2"
     ],
     "clasifier__solver": [
      "lbfgs"
     ],
     "selector__k": [
      1000
     ]
    }
   },
   "start_time": "2023-10-30T01:09:45.910971",
   "version": "2.4.0"
  }
 },
 "nbformat": 4,
 "nbformat_minor": 5
}