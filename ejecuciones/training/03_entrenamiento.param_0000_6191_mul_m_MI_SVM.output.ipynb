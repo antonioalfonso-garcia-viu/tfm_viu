{
 "cells": [
  {
   "cell_type": "markdown",
   "id": "ccf6ef49",
   "metadata": {
    "papermill": {
     "duration": 0.003473,
     "end_time": "2023-10-30T08:28:21.941917",
     "exception": false,
     "start_time": "2023-10-30T08:28:21.938444",
     "status": "completed"
    },
    "tags": []
   },
   "source": [
    "##### Inicio"
   ]
  },
  {
   "cell_type": "markdown",
   "id": "d6f9c6b1",
   "metadata": {
    "papermill": {
     "duration": 0.00267,
     "end_time": "2023-10-30T08:28:21.947528",
     "exception": false,
     "start_time": "2023-10-30T08:28:21.944858",
     "status": "completed"
    },
    "tags": []
   },
   "source": [
    "#### Carga de datos"
   ]
  },
  {
   "cell_type": "code",
   "execution_count": 1,
   "id": "527d2b8f",
   "metadata": {
    "execution": {
     "iopub.execute_input": "2023-10-30T08:28:21.954129Z",
     "iopub.status.busy": "2023-10-30T08:28:21.953894Z",
     "iopub.status.idle": "2023-10-30T08:28:22.818760Z",
     "shell.execute_reply": "2023-10-30T08:28:22.818217Z"
    },
    "papermill": {
     "duration": 0.869673,
     "end_time": "2023-10-30T08:28:22.819953",
     "exception": false,
     "start_time": "2023-10-30T08:28:21.950280",
     "status": "completed"
    },
    "tags": []
   },
   "outputs": [
    {
     "name": "stdout",
     "output_type": "stream",
     "text": [
      "CPU_COUNT: 8; NODE: amilcar22; sys.version: 3.10.12 (main, Jul  5 2023, 19:22:19) [GCC 11.2.0]\n",
      "LOKY_MAX_CPU_COUNT: 6\n",
      "OMP_NUM_THREADS: 2\n"
     ]
    }
   ],
   "source": [
    "import os\n",
    "import numpy as np\n",
    "import pandas as pd\n",
    "import datetime\n",
    "import sklearn\n",
    "import logging\n",
    "import warnings\n",
    "\n",
    "from sklearn.pipeline import Pipeline\n",
    "from sklearn.model_selection import RandomizedSearchCV, KFold, cross_val_score, train_test_split\n",
    "from sklearn.metrics import accuracy_score, confusion_matrix, classification_report, roc_auc_score\n",
    "\n",
    "#  cargar algoritmos para aprendizaje supervisado\n",
    "from sklearn.feature_selection import SelectKBest, f_classif, SelectFromModel, mutual_info_classif\n",
    "from sklearn.svm import SVC\n",
    "from sklearn.ensemble import RandomForestClassifier\n",
    "from sklearn.linear_model import LogisticRegression,LogisticRegressionCV\n",
    "\n",
    "# importar fichero con utilidades propias\n",
    "from commons import myfunctions as myfunc\n"
   ]
  },
  {
   "cell_type": "markdown",
   "id": "d2677b14",
   "metadata": {
    "papermill": {
     "duration": 0.002605,
     "end_time": "2023-10-30T08:28:22.825404",
     "exception": false,
     "start_time": "2023-10-30T08:28:22.822799",
     "status": "completed"
    },
    "tags": []
   },
   "source": [
    "#### Parámetros a utilizar en el entrenamiento.\n",
    "\n",
    "Se indican los 3 algoritmos de *selección de características* (eval_selector_xxx) y los 3 algoritmos para la _clasificación_ (eval_clasifier_xxx)\n",
    "\n",
    "En *param_distributions* se indicar los parámetros que utilizan los algoritmos en la función RandomSearchCV.\n",
    "\n",
    "Esta celda tiene la etiqueta **parameters** que servirá para poder lanzar los entrenamientos con la utilidad **papermill** pasándole un fichero con los parámetros. Los nuevos parámetros se situarán tras esta celda para tener prevalencia."
   ]
  },
  {
   "cell_type": "code",
   "execution_count": 2,
   "id": "64ee2621",
   "metadata": {
    "execution": {
     "iopub.execute_input": "2023-10-30T08:28:22.831313Z",
     "iopub.status.busy": "2023-10-30T08:28:22.831042Z",
     "iopub.status.idle": "2023-10-30T08:28:22.837901Z",
     "shell.execute_reply": "2023-10-30T08:28:22.837414Z"
    },
    "papermill": {
     "duration": 0.011294,
     "end_time": "2023-10-30T08:28:22.839103",
     "exception": false,
     "start_time": "2023-10-30T08:28:22.827809",
     "status": "completed"
    },
    "tags": [
     "parameters"
    ]
   },
   "outputs": [
    {
     "name": "stdout",
     "output_type": "stream",
     "text": [
      "20231030T092822 : amilcar22 : INFO : Utilizando parámetros de mul_m\n"
     ]
    }
   ],
   "source": [
    "#  Parametros para el entrenamiento\n",
    "\n",
    "SEMILLA=        42\n",
    "M_TIPO=         \"mul_m\"\n",
    "M_SELECT=       \"MI\"\n",
    "M_CLASIF=       \"SVM\"\n",
    "R_FICHERO=      \"resultados\"\n",
    "M_FICHERO=      \"metricas\"\n",
    "PRE_DATA_FILE=  \"rows_transpose_norm_by_gene_id_with_target_num_\"\n",
    "SCORING=        \"roc_auc_ovr\" \n",
    "MAX_ITERS=      100\n",
    "\n",
    "def mutual_info_classif_state(X, y):\n",
    "    return mutual_info_classif(X, y, random_state=SEMILLA)\n",
    "\n",
    "eval_selector_mi = \"SelectKBest(score_func=mutual_info_classif_state)\"\n",
    "eval_selector_rf=  \"SelectFromModel(estimator=RandomForestClassifier(random_state=SEMILLA), threshold=-np.inf)\"\n",
    "eval_selector_anova=  \"SelectKBest(score_func=f_classif)\"\n",
    "\n",
    "eval_clasifier_svm= \"SVC(probability=True, random_state=SEMILLA)\"\n",
    "eval_clasifier_rf= \"RandomForestClassifier(random_state=SEMILLA)\"\n",
    "eval_clasifier_lr= \"LogisticRegressionCV(random_state=SEMILLA)\"\n",
    "\n",
    "if M_TIPO.startswith(\"bin_m\"):\n",
    "    myfunc.verbose(f\"Utilizando parámetros de {M_TIPO}\")\n",
    "    eval_selector = eval_selector_mi\n",
    "    eval_clasifier = eval_clasifier_svm\n",
    "\n",
    "    SEMILLA = 6578\n",
    "    M_SELECT = \"MI\"\n",
    "    M_CLASIF = \"SVM\"\n",
    "    param_distributions = {'selector__k': [1000], \n",
    "         'clasifier__kernel': ['rbf'], 'clasifier__gamma': [0.01], 'clasifier__C': [100]}\n",
    "elif M_TIPO.startswith(\"bin_s\"):\n",
    "    myfunc.verbose(f\"Utilizando parámetros de {M_TIPO}\")\n",
    "    eval_selector = eval_selector_rf\n",
    "    eval_clasifier = eval_clasifier_lr\n",
    "\n",
    "    SEMILLA = 6191\n",
    "    M_SELECT = \"RF\"\n",
    "    M_CLASIF = \"LR_L2\"\n",
    "    param_distributions = {'selector__max_features': [1000], 'selector__estimator__n_estimators': [200], \n",
    "        'clasifier__solver': ['lbfgs'], 'clasifier__penalty': ['l2'], 'clasifier__max_iter': [10000]}\n",
    "\n",
    "elif M_TIPO.startswith(\"mul_m\"):\n",
    "    myfunc.verbose(f\"Utilizando parámetros de {M_TIPO}\")\n",
    " \n",
    "    eval_selector = eval_selector_rf\n",
    "    eval_clasifier = eval_clasifier_lr\n",
    "\n",
    "    SEMILLA = 6191\n",
    "    M_SELECT = \"RF\"\n",
    "    M_CLASIF = \"LR_L2\"\n",
    "    param_distributions = {'selector__max_features': [1000], 'selector__estimator__n_estimators': [400], \n",
    "        'clasifier__solver': ['lbfgs'], 'clasifier__penalty': ['l2'], 'clasifier__max_iter': [10000]}\n",
    "\n",
    "else:\n",
    "    # M_TIPO.startswith(\"mul_s\"):\n",
    "    myfunc.verbose(f\"Utilizando parámetros de {M_TIPO}\")\n",
    "    eval_selector = eval_selector_anova\n",
    "    eval_clasifier = eval_clasifier_lr\n",
    "\n",
    "    SEMILLA = 1860\n",
    "    M_SELECT = \"ANOVA\"\n",
    "    M_CLASIF = \"LR_L2\"\n",
    "    param_distributions = {'selector__k': [1000], \n",
    "        'clasifier__solver': ['saga'], 'clasifier__penalty': ['l2'], 'clasifier__max_iter': [10000]}\n",
    "\n"
   ]
  },
  {
   "cell_type": "code",
   "execution_count": 3,
   "id": "bf7decea",
   "metadata": {
    "execution": {
     "iopub.execute_input": "2023-10-30T08:28:22.845104Z",
     "iopub.status.busy": "2023-10-30T08:28:22.844913Z",
     "iopub.status.idle": "2023-10-30T08:28:22.848336Z",
     "shell.execute_reply": "2023-10-30T08:28:22.847855Z"
    },
    "papermill": {
     "duration": 0.007707,
     "end_time": "2023-10-30T08:28:22.849547",
     "exception": false,
     "start_time": "2023-10-30T08:28:22.841840",
     "status": "completed"
    },
    "tags": [
     "injected-parameters"
    ]
   },
   "outputs": [],
   "source": [
    "# Parameters\n",
    "M_TIPO = \"mul_m\"\n",
    "M_SELECT = \"MI\"\n",
    "M_CLASIF = \"SVM\"\n",
    "P_FICHERO = \"param_0000_6191_mul_m_MI_SVM.yaml\"\n",
    "R_FICHERO = \"resultados_6191\"\n",
    "M_FICHERO = \"metricas_6191\"\n",
    "PRE_DATA_FILE = \"rows_transpose_norm_by_gene_id_with_target_num_\"\n",
    "SCORING = \"roc_auc_ovr\"\n",
    "SEMILLA = 6191\n",
    "MAX_ITERS = 500\n",
    "eval_selector = \"SelectKBest(score_func=mutual_info_classif_state)\"\n",
    "eval_clasifier = \"SVC(probability=True, random_state=SEMILLA)\"\n",
    "param_distributions = {\n",
    "    \"selector__k\": [1000],\n",
    "    \"clasifier__kernel\": [\"rbf\"],\n",
    "    \"clasifier__gamma\": [0.001],\n",
    "    \"clasifier__C\": [100],\n",
    "}\n"
   ]
  },
  {
   "cell_type": "code",
   "execution_count": 4,
   "id": "0165675b",
   "metadata": {
    "execution": {
     "iopub.execute_input": "2023-10-30T08:28:22.855639Z",
     "iopub.status.busy": "2023-10-30T08:28:22.855468Z",
     "iopub.status.idle": "2023-10-30T08:28:22.858444Z",
     "shell.execute_reply": "2023-10-30T08:28:22.857884Z"
    },
    "papermill": {
     "duration": 0.00739,
     "end_time": "2023-10-30T08:28:22.859707",
     "exception": false,
     "start_time": "2023-10-30T08:28:22.852317",
     "status": "completed"
    },
    "tags": []
   },
   "outputs": [],
   "source": [
    "DATA_FILE = PRE_DATA_FILE + M_TIPO\n",
    "\n",
    "# si viene \"None\" en el parámetro max_depth, se le quitan las comillas para que no sea entendido por el algoritmo como un texto\n",
    "if \"clasifier__max_depth\" in param_distributions:\n",
    "    param_distributions['clasifier__max_depth'] = [None if x == 'None' else x for x in param_distributions['clasifier__max_depth']]"
   ]
  },
  {
   "cell_type": "markdown",
   "id": "fa277c67",
   "metadata": {
    "papermill": {
     "duration": 0.002872,
     "end_time": "2023-10-30T08:28:22.865518",
     "exception": false,
     "start_time": "2023-10-30T08:28:22.862646",
     "status": "completed"
    },
    "tags": []
   },
   "source": [
    "Asignar los algoritmos que se utilizarán en la función RandomSearchCV"
   ]
  },
  {
   "cell_type": "code",
   "execution_count": 5,
   "id": "fa9d0d49",
   "metadata": {
    "execution": {
     "iopub.execute_input": "2023-10-30T08:28:22.874201Z",
     "iopub.status.busy": "2023-10-30T08:28:22.873978Z",
     "iopub.status.idle": "2023-10-30T08:28:22.877146Z",
     "shell.execute_reply": "2023-10-30T08:28:22.876534Z"
    },
    "papermill": {
     "duration": 0.009141,
     "end_time": "2023-10-30T08:28:22.878483",
     "exception": false,
     "start_time": "2023-10-30T08:28:22.869342",
     "status": "completed"
    },
    "tags": []
   },
   "outputs": [],
   "source": [
    "algor_selector=eval(eval_selector)\n",
    "algor_clasifier=eval(eval_clasifier)"
   ]
  },
  {
   "cell_type": "markdown",
   "id": "548eec5b",
   "metadata": {
    "papermill": {
     "duration": 0.003346,
     "end_time": "2023-10-30T08:28:22.885129",
     "exception": false,
     "start_time": "2023-10-30T08:28:22.881783",
     "status": "completed"
    },
    "tags": []
   },
   "source": [
    "#### Comprobar el entorno y leer fichero de muestras"
   ]
  },
  {
   "cell_type": "code",
   "execution_count": 6,
   "id": "2c70e2e9",
   "metadata": {
    "execution": {
     "iopub.execute_input": "2023-10-30T08:28:22.893001Z",
     "iopub.status.busy": "2023-10-30T08:28:22.892801Z",
     "iopub.status.idle": "2023-10-30T08:28:23.057564Z",
     "shell.execute_reply": "2023-10-30T08:28:23.057039Z"
    },
    "papermill": {
     "duration": 0.170142,
     "end_time": "2023-10-30T08:28:23.058839",
     "exception": false,
     "start_time": "2023-10-30T08:28:22.888697",
     "status": "completed"
    },
    "tags": []
   },
   "outputs": [
    {
     "name": "stdout",
     "output_type": "stream",
     "text": [
      "20231030T092822 : amilcar22 : INFO : Encontrada carpeta DATA_DIR=../tfm_git/datos\n",
      "20231030T092822 : amilcar22 : INFO : Encontrada carpeta CFDNA_DIR=../tfm_git/datos/cfDNA_5hmC\n",
      "20231030T092822 : amilcar22 : INFO : Encontrada carpeta GENCODE_DIR=../tfm_git/datos/gencode\n",
      "20231030T092822 : amilcar22 : INFO : Encontrada carpeta H5_DIR=../tfm_git/datos/h5\n",
      "20231030T092822 : amilcar22 : INFO : Encontrada carpeta LOG_DIR=../tfm_git/datos/logs\n",
      "20231030T092822 : amilcar22 : INFO : Encontrada carpeta CSV_DIR=../tfm_git/datos/csv\n",
      "20231030T092822 : amilcar22 : INFO : Encontrada carpeta MODEL_DIR=../tfm_git/ejecuciones/modelos\n",
      "20231030T092822 : amilcar22 : INFO : Encontrada carpeta EXEC_DIR=../tfm_git/ejecuciones\n",
      "20231030T092822 : amilcar22 : INFO : Encontrada carpeta MET_DIR=../tfm_git/ejecuciones/metricas\n",
      "20231030T092822 : amilcar22 : INFO : Inicio leer fichero h5 ../tfm_git/datos/h5/rows_transpose_norm_by_gene_id_with_target_num_mul_m.h5\n",
      "20231030T092822 : amilcar22 : INFO : Leyendo clave /df\n",
      "20231030T092823 : amilcar22 : INFO : Tamaño (434, 18876)\n",
      "20231030T092823 : amilcar22 : INFO : Fin leer fichero h5 ../tfm_git/datos/h5/rows_transpose_norm_by_gene_id_with_target_num_mul_m.h5\n"
     ]
    },
    {
     "data": {
      "text/plain": [
       "target\n",
       "0    62\n",
       "1    62\n",
       "2    62\n",
       "3    62\n",
       "4    62\n",
       "5    62\n",
       "6    62\n",
       "dtype: int64"
      ]
     },
     "metadata": {},
     "output_type": "display_data"
    },
    {
     "name": "stdout",
     "output_type": "stream",
     "text": [
      "Shape df: (434, 18876)\n"
     ]
    },
    {
     "name": "stdout",
     "output_type": "stream",
     "text": [
      "Shape X_train: (347, 18875)\n",
      "Shape X_test: (87, 18875)\n"
     ]
    }
   ],
   "source": [
    "start_time = datetime.datetime.now()\n",
    "\n",
    "myfunc.reset_vars()\n",
    "\n",
    "myfunc.NOTEBK_FILENAME = myfunc.get_nb_name()\n",
    "\n",
    "myfunc.check_enviroment(myfunc.DATA_DIR, myfunc.CFDNA_DIR, myfunc.GENCODE_DIR, myfunc.H5_DIR, myfunc.LOG_DIR, myfunc.CSV_DIR, myfunc.MODEL_DIR, myfunc.EXEC_DIR, myfunc.MET_DIR)\n",
    "\n",
    "# Leer fichero con las muestras\n",
    "df_t = myfunc.read_h5_to_df(DATA_FILE, myfunc.H5_DIR)\n",
    "display(df_t.groupby(\"target\").size())\n",
    "print(\"Shape df:\",df_t.shape)\n",
    "\n",
    "# Separar caracteristicas/genes de las etiquetas/tipos de cáncer\n",
    "X = df_t.iloc[:, :-1]  # Todas las columnas excepto la última\n",
    "y = df_t.iloc[:, -1]  # La última columna contiene los identificadores de los tipos de cáncer\n",
    "\n",
    "#  Crear el conjunto de datos de entrenamiento y de pruebas, y se fija la semilla para siempre coger el mismo juego de muestras\n",
    "X_train, X_test, y_train, y_test = train_test_split(X, y, test_size=0.2, shuffle=True, random_state=42)\n",
    "print(\"Shape X_train:\",X_train.shape)\n",
    "print(\"Shape X_test:\",X_test.shape)\n"
   ]
  },
  {
   "cell_type": "markdown",
   "id": "fe255021",
   "metadata": {
    "papermill": {
     "duration": 0.008569,
     "end_time": "2023-10-30T08:28:23.070906",
     "exception": false,
     "start_time": "2023-10-30T08:28:23.062337",
     "status": "completed"
    },
    "tags": []
   },
   "source": [
    "#### Selección de características y clasificación."
   ]
  },
  {
   "cell_type": "code",
   "execution_count": 7,
   "id": "9b7ec4e4",
   "metadata": {
    "execution": {
     "iopub.execute_input": "2023-10-30T08:28:23.077943Z",
     "iopub.status.busy": "2023-10-30T08:28:23.077711Z",
     "iopub.status.idle": "2023-10-30T08:31:46.473622Z",
     "shell.execute_reply": "2023-10-30T08:31:46.472902Z"
    },
    "papermill": {
     "duration": 203.403331,
     "end_time": "2023-10-30T08:31:46.477418",
     "exception": false,
     "start_time": "2023-10-30T08:28:23.074087",
     "status": "completed"
    },
    "tags": []
   },
   "outputs": [
    {
     "name": "stdout",
     "output_type": "stream",
     "text": [
      "20231030T092823 : amilcar22 : INFO : Iniciando entrenamiento\n",
      "num_iter: 1 , max_iter: 1\n",
      "Fitting 5 folds for each of 1 candidates, totalling 5 fits\n"
     ]
    },
    {
     "name": "stdout",
     "output_type": "stream",
     "text": [
      "Mejores Hiperparámetros: {'selector__k': 1000, 'clasifier__kernel': 'rbf', 'clasifier__gamma': 0.001, 'clasifier__C': 100}\n",
      "Mejor Puntuación: 0.8633\n",
      "20231030T093146 : amilcar22 : INFO : Fin entrenamiento\n"
     ]
    }
   ],
   "source": [
    "myfunc.verbose(\"Iniciando entrenamiento\")\n",
    "\n",
    "kf = KFold(n_splits=5, shuffle=True, random_state=SEMILLA)\n",
    "\n",
    "# Crear el pipeline para el flujo de tareas\n",
    "tasks_pipeline = Pipeline([\n",
    "    ('selector', algor_selector),\n",
    "    ('clasifier', algor_clasifier)\n",
    "])\n",
    "\n",
    "# MAX_ITERS puede limitar el número de iteraciones si son excesivas para las combinaciones de parámetros buscando un óptimo local, \n",
    "# sino funcionaría como GridSearchCV al revisar todas las cominaciones de los parámetros\n",
    "num_iteraciones = 1\n",
    "num_iteraciones = num_iteraciones * np.prod([len(elemento1) for _, elemento1 in param_distributions.items()])\n",
    "max_iteraciones = num_iteraciones if num_iteraciones <= MAX_ITERS else MAX_ITERS\n",
    "print(\"num_iter:\",num_iteraciones,\", max_iter:\",max_iteraciones)\n",
    "\n",
    "random_search = RandomizedSearchCV(\n",
    "    tasks_pipeline, \n",
    "    param_distributions, \n",
    "    n_iter=max_iteraciones,\n",
    "    scoring=SCORING,\n",
    "    cv=kf,\n",
    "    verbose=3, \n",
    "    random_state=SEMILLA, \n",
    "    n_jobs=-1\n",
    "    )\n",
    "\n",
    "# Entrenar el modelo\n",
    "random_search.fit(X_train, y_train)\n",
    "\n",
    "# Ver los mejores hiperparámetros encontrados\n",
    "print(f'Mejores Hiperparámetros: {random_search.best_params_}')\n",
    "print(f'Mejor Puntuación: {random_search.best_score_:.4f}')\n",
    "\n",
    "# Nos quedamos con el mejor modelo para ver las métricas\n",
    "mejor_modelo = random_search.best_estimator_\n",
    "\n",
    "myfunc.verbose(\"Fin entrenamiento\")"
   ]
  },
  {
   "cell_type": "markdown",
   "id": "6e014ec3",
   "metadata": {
    "papermill": {
     "duration": 0.003072,
     "end_time": "2023-10-30T08:31:46.483346",
     "exception": false,
     "start_time": "2023-10-30T08:31:46.480274",
     "status": "completed"
    },
    "tags": []
   },
   "source": [
    "#### Guardar modelo"
   ]
  },
  {
   "cell_type": "code",
   "execution_count": 8,
   "id": "0717687a",
   "metadata": {
    "execution": {
     "iopub.execute_input": "2023-10-30T08:31:46.489949Z",
     "iopub.status.busy": "2023-10-30T08:31:46.489742Z",
     "iopub.status.idle": "2023-10-30T08:31:46.498779Z",
     "shell.execute_reply": "2023-10-30T08:31:46.498312Z"
    },
    "papermill": {
     "duration": 0.013828,
     "end_time": "2023-10-30T08:31:46.499991",
     "exception": false,
     "start_time": "2023-10-30T08:31:46.486163",
     "status": "completed"
    },
    "tags": []
   },
   "outputs": [
    {
     "name": "stdout",
     "output_type": "stream",
     "text": [
      "20231030T093146 : amilcar22 : INFO : Inicio guardar fichero ../tfm_git/ejecuciones/modelos/modelo_6191_mul_m_MI_SVM.pkl\n",
      "20231030T093146 : amilcar22 : INFO : Fin guardar fichero ../tfm_git/ejecuciones/modelos/modelo_6191_mul_m_MI_SVM.pkl\n"
     ]
    }
   ],
   "source": [
    "fichero_modelo = str.replace(\"modelo_\"+str(SEMILLA).zfill(4)+\"_\"+M_TIPO+\"_\"+M_SELECT+\"_\"+M_CLASIF+\".pkl\", \" \", \"_\")\n",
    "\n",
    "myfunc.save_modelo(mejor_modelo, myfunc.MODEL_DIR, fichero_modelo)"
   ]
  },
  {
   "cell_type": "markdown",
   "id": "1c3652c7",
   "metadata": {
    "papermill": {
     "duration": 0.002924,
     "end_time": "2023-10-30T08:31:46.506101",
     "exception": false,
     "start_time": "2023-10-30T08:31:46.503177",
     "status": "completed"
    },
    "tags": []
   },
   "source": [
    "#### Ver resultados del las iteraciones hechas por RandomSearchCV"
   ]
  },
  {
   "cell_type": "code",
   "execution_count": 9,
   "id": "94692912",
   "metadata": {
    "execution": {
     "iopub.execute_input": "2023-10-30T08:31:46.512786Z",
     "iopub.status.busy": "2023-10-30T08:31:46.512552Z",
     "iopub.status.idle": "2023-10-30T08:31:46.518260Z",
     "shell.execute_reply": "2023-10-30T08:31:46.517751Z"
    },
    "papermill": {
     "duration": 0.010334,
     "end_time": "2023-10-30T08:31:46.519370",
     "exception": false,
     "start_time": "2023-10-30T08:31:46.509036",
     "status": "completed"
    },
    "tags": []
   },
   "outputs": [
    {
     "name": "stdout",
     "output_type": "stream",
     "text": [
      "20231030T093146 : amilcar22 : INFO : Inicio ver resultados\n",
      "Mejores Hiperparámetros: {'selector__k': 1000, 'clasifier__kernel': 'rbf', 'clasifier__gamma': 0.001, 'clasifier__C': 100}\n",
      "Mejores puntuaciones: 0.8633 | Params: {'selector__k': 1000, 'clasifier__kernel': 'rbf', 'clasifier__gamma': 0.001, 'clasifier__C': 100}\n",
      "Media de las puntuaciones: 0.8633 | Params: {'selector__k': 1000, 'clasifier__kernel': 'rbf', 'clasifier__gamma': 0.001, 'clasifier__C': 100}\n",
      "20231030T093146 : amilcar22 : INFO : Fin resultados\n"
     ]
    }
   ],
   "source": [
    "myfunc.ver_resultados_search(random_search)"
   ]
  },
  {
   "cell_type": "markdown",
   "id": "9232987a",
   "metadata": {
    "papermill": {
     "duration": 0.003005,
     "end_time": "2023-10-30T08:31:46.525398",
     "exception": false,
     "start_time": "2023-10-30T08:31:46.522393",
     "status": "completed"
    },
    "tags": []
   },
   "source": [
    "#### Ver métricas del mejor modelo"
   ]
  },
  {
   "cell_type": "code",
   "execution_count": 10,
   "id": "b4b1fc1e",
   "metadata": {
    "execution": {
     "iopub.execute_input": "2023-10-30T08:31:46.532203Z",
     "iopub.status.busy": "2023-10-30T08:31:46.532006Z",
     "iopub.status.idle": "2023-10-30T08:31:47.152017Z",
     "shell.execute_reply": "2023-10-30T08:31:47.151580Z"
    },
    "papermill": {
     "duration": 0.624978,
     "end_time": "2023-10-30T08:31:47.153273",
     "exception": false,
     "start_time": "2023-10-30T08:31:46.528295",
     "status": "completed"
    },
    "tags": []
   },
   "outputs": [
    {
     "name": "stdout",
     "output_type": "stream",
     "text": [
      "20231030T093146 : amilcar22 : INFO : Inicio ver métricas multiclase\n"
     ]
    },
    {
     "name": "stdout",
     "output_type": "stream",
     "text": [
      "              precision    recall  f1-score   support\n",
      "\n",
      "           0       0.44      0.25      0.32        16\n",
      "           1       0.62      0.53      0.57        15\n",
      "           2       0.33      0.45      0.38        11\n",
      "           3       0.44      0.80      0.57         5\n",
      "           4       0.56      0.69      0.62        13\n",
      "           5       0.86      0.67      0.75         9\n",
      "           6       0.56      0.56      0.56        18\n",
      "\n",
      "    accuracy                           0.53        87\n",
      "   macro avg       0.54      0.56      0.54        87\n",
      "weighted avg       0.54      0.53      0.52        87\n",
      "\n",
      "\n",
      "\n",
      "           Exactitud: 0.528736\n",
      "   Precisión (media): 0.544686\n",
      "      Recall (media): 0.564630\n",
      "    F1-score (media): 0.539103\n",
      "\n",
      "\n",
      "AUC para el tipo de cáncer 0-Control.... 0.7817\n",
      "AUC para el tipo de cáncer 1-Bladder.... 0.8426\n",
      "AUC para el tipo de cáncer 2-Breast..... 0.7213\n",
      "AUC para el tipo de cáncer 3-Colorectal. 0.8902\n",
      "AUC para el tipo de cáncer 4-Kidney..... 0.8139\n",
      "AUC para el tipo de cáncer 5-Lung....... 0.9373\n",
      "AUC para el tipo de cáncer 6-Prostate... 0.8671\n"
     ]
    },
    {
     "name": "stdout",
     "output_type": "stream",
     "text": [
      "\n",
      "Media de AUC: 0.8363\n"
     ]
    },
    {
     "data": {
      "image/png": "[encoded data removed]",
      "text/plain": [
       "<Figure size 1000x600 with 1 Axes>"
      ]
     },
     "metadata": {},
     "output_type": "display_data"
    },
    {
     "name": "stdout",
     "output_type": "stream",
     "text": [
      "\n",
      "\n"
     ]
    },
    {
     "data": {
      "image/png": "[encoded data removed]",
      "text/plain": [
       "<Figure size 800x400 with 2 Axes>"
      ]
     },
     "metadata": {},
     "output_type": "display_data"
    },
    {
     "name": "stdout",
     "output_type": "stream",
     "text": [
      "\n",
      "\n",
      "Puntuación Jaccard para el cáncer tipo 0-Control.... 0.1905\n",
      "Puntuación Jaccard para el cáncer tipo 1-Bladder.... 0.4000\n",
      "Puntuación Jaccard para el cáncer tipo 2-Breast..... 0.2381\n",
      "Puntuación Jaccard para el cáncer tipo 3-Colorectal. 0.4000\n",
      "Puntuación Jaccard para el cáncer tipo 4-Kidney..... 0.4500\n",
      "Puntuación Jaccard para el cáncer tipo 5-Lung....... 0.6000\n",
      "Puntuación Jaccard para el cáncer tipo 6-Prostate... 0.3846\n",
      "\n",
      "Media de la puntuación de Jaccard: 0.3805\n"
     ]
    }
   ],
   "source": [
    "if M_TIPO.startswith(\"bin\"):\n",
    "    myfunc.ver_metricas(mejor_modelo, X_test, y_test)\n",
    "else:\n",
    "    myfunc.ver_metricas_multi(mejor_modelo, X_test, y_test)\n"
   ]
  },
  {
   "cell_type": "markdown",
   "id": "67a0204e",
   "metadata": {
    "papermill": {
     "duration": 0.004092,
     "end_time": "2023-10-30T08:31:47.162118",
     "exception": false,
     "start_time": "2023-10-30T08:31:47.158026",
     "status": "completed"
    },
    "tags": []
   },
   "source": [
    "#### Finalización del notebook"
   ]
  },
  {
   "cell_type": "code",
   "execution_count": 11,
   "id": "05d7c5b5",
   "metadata": {
    "execution": {
     "iopub.execute_input": "2023-10-30T08:31:47.171078Z",
     "iopub.status.busy": "2023-10-30T08:31:47.170899Z",
     "iopub.status.idle": "2023-10-30T08:31:47.174115Z",
     "shell.execute_reply": "2023-10-30T08:31:47.173678Z"
    },
    "papermill": {
     "duration": 0.009115,
     "end_time": "2023-10-30T08:31:47.175236",
     "exception": false,
     "start_time": "2023-10-30T08:31:47.166121",
     "status": "completed"
    },
    "tags": []
   },
   "outputs": [
    {
     "name": "stdout",
     "output_type": "stream",
     "text": [
      "20231030T093147 : amilcar22 : INFO : Notebook ha tardado 204 seconds\n"
     ]
    }
   ],
   "source": [
    "end_time = datetime.datetime.now()\n",
    "total_time = end_time - start_time\n",
    "myfunc.verbose(f\"Notebook ha tardado {total_time.seconds} seconds\")"
   ]
  },
  {
   "cell_type": "markdown",
   "id": "f0f10a54",
   "metadata": {
    "papermill": {
     "duration": 0.004117,
     "end_time": "2023-10-30T08:31:47.183849",
     "exception": false,
     "start_time": "2023-10-30T08:31:47.179732",
     "status": "completed"
    },
    "tags": []
   },
   "source": [
    "#### Guardar métricas"
   ]
  },
  {
   "cell_type": "code",
   "execution_count": 12,
   "id": "f82594c6",
   "metadata": {
    "execution": {
     "iopub.execute_input": "2023-10-30T08:31:47.192812Z",
     "iopub.status.busy": "2023-10-30T08:31:47.192654Z",
     "iopub.status.idle": "2023-10-30T08:31:47.403484Z",
     "shell.execute_reply": "2023-10-30T08:31:47.402959Z"
    },
    "papermill": {
     "duration": 0.216888,
     "end_time": "2023-10-30T08:31:47.404787",
     "exception": false,
     "start_time": "2023-10-30T08:31:47.187899",
     "status": "completed"
    },
    "tags": []
   },
   "outputs": [
    {
     "name": "stdout",
     "output_type": "stream",
     "text": [
      "20231030T093147 : amilcar22 : INFO : Inicio guardar métricas multiclase\n",
      "20231030T093147 : amilcar22 : INFO : Inicio leer fichero ../tfm_git/ejecuciones/metricas/metricas_6191.csv\n",
      "20231030T093147 : amilcar22 : INFO : Fin leer fichero ../tfm_git/ejecuciones/metricas/metricas_6191.csv\n"
     ]
    },
    {
     "name": "stdout",
     "output_type": "stream",
     "text": [
      "20231030T093147 : amilcar22 : INFO : Inicio guardar fichero ../tfm_git/ejecuciones/metricas/metricas_6191.csv\n",
      "20231030T093147 : amilcar22 : INFO : Fichero borrado ../tfm_git/ejecuciones/metricas/metricas_6191.csv\n",
      "20231030T093147 : amilcar22 : INFO : Fin guardar fichero ../tfm_git/ejecuciones/metricas/metricas_6191.csv\n",
      "20231030T093147 : amilcar22 : INFO : Fin guardar métricas multiclase\n",
      "20231030T093147 : amilcar22 : INFO : Inicio leer fichero ../tfm_git/ejecuciones/metricas/metricas_6191.csv\n",
      "20231030T093147 : amilcar22 : INFO : Fin leer fichero ../tfm_git/ejecuciones/metricas/metricas_6191.csv\n"
     ]
    },
    {
     "data": {
      "text/html": [
       "<div>\n",
       "<style scoped>\n",
       "    .dataframe tbody tr th:only-of-type {\n",
       "        vertical-align: middle;\n",
       "    }\n",
       "\n",
       "    .dataframe tbody tr th {\n",
       "        vertical-align: top;\n",
       "    }\n",
       "\n",
       "    .dataframe thead th {\n",
       "        text-align: right;\n",
       "    }\n",
       "</style>\n",
       "<table border=\"1\" class=\"dataframe\">\n",
       "  <thead>\n",
       "    <tr style=\"text-align: right;\">\n",
       "      <th></th>\n",
       "      <th>tipo</th>\n",
       "      <th>select</th>\n",
       "      <th>clasific</th>\n",
       "      <th>semilla</th>\n",
       "      <th>accuracy</th>\n",
       "      <th>precision</th>\n",
       "      <th>recall</th>\n",
       "      <th>f1_score</th>\n",
       "      <th>roc_auc</th>\n",
       "      <th>hostname</th>\n",
       "      <th>total_time_sec</th>\n",
       "      <th>datetime</th>\n",
       "      <th>fichero_modelo</th>\n",
       "      <th>params</th>\n",
       "      <th>shape</th>\n",
       "      <th>features</th>\n",
       "      <th>roc_auc_ovr</th>\n",
       "      <th>indices_auc</th>\n",
       "      <th>indices_jaccard</th>\n",
       "    </tr>\n",
       "  </thead>\n",
       "  <tbody>\n",
       "    <tr>\n",
       "      <th>0</th>\n",
       "      <td>mul_m</td>\n",
       "      <td>MI</td>\n",
       "      <td>SVM</td>\n",
       "      <td>6191</td>\n",
       "      <td>0.528736</td>\n",
       "      <td>0.544686</td>\n",
       "      <td>0.564630</td>\n",
       "      <td>0.539103</td>\n",
       "      <td>NaN</td>\n",
       "      <td>amilcar22</td>\n",
       "      <td>204</td>\n",
       "      <td>2023-10-30 09:31:47.374685</td>\n",
       "      <td>modelo_6191_mul_m_MI_SVM.pkl</td>\n",
       "      <td>{'selector__k': 1000, 'clasifier__kernel': 'rb...</td>\n",
       "      <td>X_test:(87, 18875)</td>\n",
       "      <td>['ENSG00000001084.13', 'ENSG00000001460.18', '...</td>\n",
       "      <td>0.836317</td>\n",
       "      <td>[0.7816901408450705, 0.8425925925925926, 0.721...</td>\n",
       "      <td>[0.19047619047619047, 0.4, 0.23809523809523808...</td>\n",
       "    </tr>\n",
       "    <tr>\n",
       "      <th>0</th>\n",
       "      <td>mul_m</td>\n",
       "      <td>MI</td>\n",
       "      <td>RF</td>\n",
       "      <td>6191</td>\n",
       "      <td>0.459770</td>\n",
       "      <td>0.461438</td>\n",
       "      <td>0.509106</td>\n",
       "      <td>0.443402</td>\n",
       "      <td>NaN</td>\n",
       "      <td>amilcar22</td>\n",
       "      <td>224</td>\n",
       "      <td>2023-10-30 09:28:16.857615</td>\n",
       "      <td>modelo_6191_mul_m_MI_RF.pkl</td>\n",
       "      <td>{'selector__k': 1000, 'clasifier__n_estimators...</td>\n",
       "      <td>X_test:(87, 18875)</td>\n",
       "      <td>['ENSG00000001084.13', 'ENSG00000001460.18', '...</td>\n",
       "      <td>0.793344</td>\n",
       "      <td>[0.6056338028169015, 0.8601851851851853, 0.729...</td>\n",
       "      <td>[0.05263157894736842, 0.5, 0.26666666666666666...</td>\n",
       "    </tr>\n",
       "    <tr>\n",
       "      <th>0</th>\n",
       "      <td>mul_m</td>\n",
       "      <td>MI</td>\n",
       "      <td>LR_L2</td>\n",
       "      <td>6191</td>\n",
       "      <td>0.597701</td>\n",
       "      <td>0.587563</td>\n",
       "      <td>0.603046</td>\n",
       "      <td>0.586714</td>\n",
       "      <td>NaN</td>\n",
       "      <td>amilcar22</td>\n",
       "      <td>244</td>\n",
       "      <td>2023-10-30 09:24:26.305576</td>\n",
       "      <td>modelo_6191_mul_m_MI_LR_L2.pkl</td>\n",
       "      <td>{'selector__k': 1000, 'clasifier__solver': 'lb...</td>\n",
       "      <td>X_test:(87, 18875)</td>\n",
       "      <td>['ENSG00000001084.13', 'ENSG00000001460.18', '...</td>\n",
       "      <td>0.893352</td>\n",
       "      <td>[0.8776408450704225, 0.8861111111111111, 0.819...</td>\n",
       "      <td>[0.42857142857142855, 0.47368421052631576, 0.3...</td>\n",
       "    </tr>\n",
       "  </tbody>\n",
       "</table>\n",
       "</div>"
      ],
      "text/plain": [
       "    tipo select clasific  semilla  accuracy  precision    recall  f1_score  \\\n",
       "0  mul_m     MI      SVM     6191  0.528736   0.544686  0.564630  0.539103   \n",
       "0  mul_m     MI       RF     6191  0.459770   0.461438  0.509106  0.443402   \n",
       "0  mul_m     MI    LR_L2     6191  0.597701   0.587563  0.603046  0.586714   \n",
       "\n",
       "   roc_auc   hostname  total_time_sec                    datetime  \\\n",
       "0      NaN  amilcar22             204  2023-10-30 09:31:47.374685   \n",
       "0      NaN  amilcar22             224  2023-10-30 09:28:16.857615   \n",
       "0      NaN  amilcar22             244  2023-10-30 09:24:26.305576   \n",
       "\n",
       "                   fichero_modelo  \\\n",
       "0    modelo_6191_mul_m_MI_SVM.pkl   \n",
       "0     modelo_6191_mul_m_MI_RF.pkl   \n",
       "0  modelo_6191_mul_m_MI_LR_L2.pkl   \n",
       "\n",
       "                                              params               shape  \\\n",
       "0  {'selector__k': 1000, 'clasifier__kernel': 'rb...  X_test:(87, 18875)   \n",
       "0  {'selector__k': 1000, 'clasifier__n_estimators...  X_test:(87, 18875)   \n",
       "0  {'selector__k': 1000, 'clasifier__solver': 'lb...  X_test:(87, 18875)   \n",
       "\n",
       "                                            features  roc_auc_ovr  \\\n",
       "0  ['ENSG00000001084.13', 'ENSG00000001460.18', '...     0.836317   \n",
       "0  ['ENSG00000001084.13', 'ENSG00000001460.18', '...     0.793344   \n",
       "0  ['ENSG00000001084.13', 'ENSG00000001460.18', '...     0.893352   \n",
       "\n",
       "                                         indices_auc  \\\n",
       "0  [0.7816901408450705, 0.8425925925925926, 0.721...   \n",
       "0  [0.6056338028169015, 0.8601851851851853, 0.729...   \n",
       "0  [0.8776408450704225, 0.8861111111111111, 0.819...   \n",
       "\n",
       "                                     indices_jaccard  \n",
       "0  [0.19047619047619047, 0.4, 0.23809523809523808...  \n",
       "0  [0.05263157894736842, 0.5, 0.26666666666666666...  \n",
       "0  [0.42857142857142855, 0.47368421052631576, 0.3...  "
      ]
     },
     "metadata": {},
     "output_type": "display_data"
    }
   ],
   "source": [
    "if M_TIPO.startswith(\"bin\"):\n",
    "    myfunc.save_metricas_to_csv(random_search, X_test, y_test, M_TIPO, M_SELECT, M_CLASIF, total_time, SEMILLA, myfunc.MET_DIR, M_FICHERO, fichero_modelo)\n",
    "else:\n",
    "    myfunc.save_metricas_multi_to_csv(random_search, X_test, y_test, M_TIPO, M_SELECT, M_CLASIF, total_time, SEMILLA, myfunc.MET_DIR, M_FICHERO, fichero_modelo)\n",
    "\n",
    "df1=myfunc.read_metricas_to_df(myfunc.MET_DIR,M_FICHERO)\n",
    "\n",
    "display(df1.sort_values(\"datetime\", ascending=False)[:3])\n"
   ]
  },
  {
   "cell_type": "markdown",
   "id": "eb7ae7b6",
   "metadata": {
    "papermill": {
     "duration": 0.004354,
     "end_time": "2023-10-30T08:31:47.414202",
     "exception": false,
     "start_time": "2023-10-30T08:31:47.409848",
     "status": "completed"
    },
    "tags": []
   },
   "source": [
    "#### Guardar resultados"
   ]
  },
  {
   "cell_type": "code",
   "execution_count": 13,
   "id": "1ca36394",
   "metadata": {
    "execution": {
     "iopub.execute_input": "2023-10-30T08:31:47.423808Z",
     "iopub.status.busy": "2023-10-30T08:31:47.423618Z",
     "iopub.status.idle": "2023-10-30T08:31:47.431746Z",
     "shell.execute_reply": "2023-10-30T08:31:47.431211Z"
    },
    "papermill": {
     "duration": 0.014512,
     "end_time": "2023-10-30T08:31:47.433027",
     "exception": false,
     "start_time": "2023-10-30T08:31:47.418515",
     "status": "completed"
    },
    "tags": []
   },
   "outputs": [
    {
     "name": "stdout",
     "output_type": "stream",
     "text": [
      "20231030T093147 : amilcar22 : INFO : Inicio guardar resultados\n",
      "20231030T093147 : amilcar22 : INFO : Inicio guardar fichero ../tfm_git/ejecuciones/metricas/resultados_6191_mul_m-MI-SVM.csv\n",
      "20231030T093147 : amilcar22 : INFO : Fin guardar fichero ../tfm_git/ejecuciones/metricas/resultados_6191_mul_m-MI-SVM.csv\n",
      "20231030T093147 : amilcar22 : INFO : Fin guardar resultados\n"
     ]
    }
   ],
   "source": [
    "fichero_resultados=R_FICHERO+\"_\"+M_TIPO+\"-\"+M_SELECT+\"-\"+M_CLASIF+\".csv\"\n",
    "myfunc.save_resultados_to_csv(M_TIPO, M_SELECT, M_CLASIF,  random_search, myfunc.MET_DIR, fichero_resultados)\n"
   ]
  }
 ],
 "metadata": {
  "kernelspec": {
   "display_name": "Python 3 (ipykernel)",
   "language": "python",
   "name": "python3"
  },
  "language_info": {
   "codemirror_mode": {
    "name": "ipython",
    "version": 3
   },
   "file_extension": ".py",
   "mimetype": "text/x-python",
   "name": "python",
   "nbconvert_exporter": "python",
   "pygments_lexer": "ipython3",
   "version": "3.10.12"
  },
  "papermill": {
   "default_parameters": {},
   "duration": 209.028573,
   "end_time": "2023-10-30T08:31:50.054743",
   "environment_variables": {},
   "exception": null,
   "input_path": "03_entrenamiento.ipynb",
   "output_path": "ejecuciones/training/03_entrenamiento.20231030T092820.param_0000_6191_mul_m_MI_SVM.output.ipynb",
   "parameters": {
    "MAX_ITERS": 500,
    "M_CLASIF": "SVM",
    "M_FICHERO": "metricas_6191",
    "M_SELECT": "MI",
    "M_TIPO": "mul_m",
    "PRE_DATA_FILE": "rows_transpose_norm_by_gene_id_with_target_num_",
    "P_FICHERO": "param_0000_6191_mul_m_MI_SVM.yaml",
    "R_FICHERO": "resultados_6191",
    "SCORING": "roc_auc_ovr",
    "SEMILLA": 6191,
    "eval_clasifier": "SVC(probability=True, random_state=SEMILLA)",
    "eval_selector": "SelectKBest(score_func=mutual_info_classif_state)",
    "param_distributions": {
     "clasifier__C": [
      100
     ],
     "clasifier__gamma": [
      0.001
     ],
     "clasifier__kernel": [
      "rbf"
     ],
     "selector__k": [
      1000
     ]
    }
   },
   "start_time": "2023-10-30T08:28:21.026170",
   "version": "2.4.0"
  }
 },
 "nbformat": 4,
 "nbformat_minor": 5
}