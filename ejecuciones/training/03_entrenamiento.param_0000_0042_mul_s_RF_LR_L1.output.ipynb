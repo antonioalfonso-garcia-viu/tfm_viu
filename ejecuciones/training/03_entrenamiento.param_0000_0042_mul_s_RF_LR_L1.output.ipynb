{
 "cells": [
  {
   "cell_type": "markdown",
   "id": "2d10ec82",
   "metadata": {
    "papermill": {
     "duration": 0.004179,
     "end_time": "2023-10-27T23:14:26.684420",
     "exception": false,
     "start_time": "2023-10-27T23:14:26.680241",
     "status": "completed"
    },
    "tags": []
   },
   "source": [
    "##### Inicio"
   ]
  },
  {
   "cell_type": "markdown",
   "id": "1c5d9707",
   "metadata": {
    "papermill": {
     "duration": 0.003378,
     "end_time": "2023-10-27T23:14:26.691460",
     "exception": false,
     "start_time": "2023-10-27T23:14:26.688082",
     "status": "completed"
    },
    "tags": []
   },
   "source": [
    "#### Carga de datos"
   ]
  },
  {
   "cell_type": "code",
   "execution_count": 1,
   "id": "24122e91",
   "metadata": {
    "execution": {
     "iopub.execute_input": "2023-10-27T23:14:26.699551Z",
     "iopub.status.busy": "2023-10-27T23:14:26.699313Z",
     "iopub.status.idle": "2023-10-27T23:14:27.573551Z",
     "shell.execute_reply": "2023-10-27T23:14:27.572897Z"
    },
    "papermill": {
     "duration": 0.879928,
     "end_time": "2023-10-27T23:14:27.574870",
     "exception": false,
     "start_time": "2023-10-27T23:14:26.694942",
     "status": "completed"
    },
    "tags": []
   },
   "outputs": [
    {
     "name": "stdout",
     "output_type": "stream",
     "text": [
      "CPU_COUNT: 8; NODE: amilcar22; sys.version: 3.10.12 (main, Jul  5 2023, 19:22:19) [GCC 11.2.0]\n",
      "LOKY_MAX_CPU_COUNT: 6\n",
      "OMP_NUM_THREADS: 2\n"
     ]
    }
   ],
   "source": [
    "import os\n",
    "import numpy as np\n",
    "import pandas as pd\n",
    "import datetime\n",
    "import sklearn\n",
    "import logging\n",
    "import warnings\n",
    "\n",
    "from sklearn.pipeline import Pipeline\n",
    "from sklearn.model_selection import RandomizedSearchCV, KFold, cross_val_score, train_test_split\n",
    "from sklearn.metrics import accuracy_score, confusion_matrix, classification_report, roc_auc_score\n",
    "\n",
    "#  cargar algoritmos para aprendizaje supervisado\n",
    "from sklearn.feature_selection import SelectKBest, f_classif, SelectFromModel, mutual_info_classif\n",
    "from sklearn.svm import SVC\n",
    "from sklearn.ensemble import RandomForestClassifier\n",
    "from sklearn.linear_model import LogisticRegression,LogisticRegressionCV\n",
    "\n",
    "# importar fichero con utilidades propias\n",
    "from commons import myfunctions as myfunc\n"
   ]
  },
  {
   "cell_type": "markdown",
   "id": "fd4c24f7",
   "metadata": {
    "papermill": {
     "duration": 0.002578,
     "end_time": "2023-10-27T23:14:27.580365",
     "exception": false,
     "start_time": "2023-10-27T23:14:27.577787",
     "status": "completed"
    },
    "tags": []
   },
   "source": [
    "#### Parámetros a utilizar en el entrenamiento.\n",
    "\n",
    "Se indican los 3 algoritmos de *selección de características* (eval_selector_xxx) y los 3 algoritmos para la _clasificación_ (eval_clasifier_xxx)\n",
    "\n",
    "En *param_distributions* se indicar los parámetros que utilizan los algoritmos en la función RandomSearchCV.\n",
    "\n",
    "Esta celda tiene la etiqueta **parameters** que servirá para poder lanzar los entrenamientos con la utilidad **papermill** pasándole un fichero con los parámetros. Los nuevos parámetros se situarán tras esta celda para tener prevalencia."
   ]
  },
  {
   "cell_type": "code",
   "execution_count": 2,
   "id": "87cc2d32",
   "metadata": {
    "execution": {
     "iopub.execute_input": "2023-10-27T23:14:27.586549Z",
     "iopub.status.busy": "2023-10-27T23:14:27.586301Z",
     "iopub.status.idle": "2023-10-27T23:14:27.592975Z",
     "shell.execute_reply": "2023-10-27T23:14:27.592359Z"
    },
    "papermill": {
     "duration": 0.011281,
     "end_time": "2023-10-27T23:14:27.594110",
     "exception": false,
     "start_time": "2023-10-27T23:14:27.582829",
     "status": "completed"
    },
    "tags": [
     "parameters"
    ]
   },
   "outputs": [
    {
     "name": "stdout",
     "output_type": "stream",
     "text": [
      "20231028T011427 : amilcar22 : INFO : Utilizando parámetros de mul_m\n"
     ]
    }
   ],
   "source": [
    "#  Parametros para el entrenamiento\n",
    "\n",
    "SEMILLA=        42\n",
    "M_TIPO=         \"mul_m\"\n",
    "M_SELECT=       \"MI\"\n",
    "M_CLASIF=       \"SVM\"\n",
    "R_FICHERO=      \"resultados\"\n",
    "M_FICHERO=      \"metricas\"\n",
    "PRE_DATA_FILE=  \"rows_transpose_norm_by_gene_id_with_target_num_\"\n",
    "SCORING=        \"roc_auc_ovr\" \n",
    "MAX_ITERS=      100\n",
    "\n",
    "def mutual_info_classif_state(X, y):\n",
    "    return mutual_info_classif(X, y, random_state=SEMILLA)\n",
    "\n",
    "eval_selector_mi = \"SelectKBest(score_func=mutual_info_classif_state)\"\n",
    "eval_selector_rf=  \"SelectFromModel(estimator=RandomForestClassifier(random_state=SEMILLA), threshold=-np.inf)\"\n",
    "eval_selector_anova=  \"SelectKBest(score_func=f_classif)\"\n",
    "\n",
    "eval_clasifier_svm= \"SVC(probability=True, random_state=SEMILLA)\"\n",
    "eval_clasifier_rf= \"RandomForestClassifier(random_state=SEMILLA)\"\n",
    "eval_clasifier_lr= \"LogisticRegressionCV(random_state=SEMILLA)\"\n",
    "\n",
    "if M_TIPO.startswith(\"bin_m\"):\n",
    "    myfunc.verbose(f\"Utilizando parámetros de {M_TIPO}\")\n",
    "    eval_selector = eval_selector_mi\n",
    "    eval_clasifier = eval_clasifier_svm\n",
    "\n",
    "    SEMILLA = 6578\n",
    "    M_SELECT = \"MI\"\n",
    "    M_CLASIF = \"SVM\"\n",
    "    param_distributions = {'selector__k': [1000], \n",
    "         'clasifier__kernel': ['rbf'], 'clasifier__gamma': [0.01], 'clasifier__C': [100]}\n",
    "elif M_TIPO.startswith(\"bin_s\"):\n",
    "    myfunc.verbose(f\"Utilizando parámetros de {M_TIPO}\")\n",
    "    eval_selector = eval_selector_rf\n",
    "    eval_clasifier = eval_clasifier_lr\n",
    "\n",
    "    SEMILLA = 6191\n",
    "    M_SELECT = \"RF\"\n",
    "    M_CLASIF = \"LR_L2\"\n",
    "    param_distributions = {'selector__max_features': [1000], 'selector__estimator__n_estimators': [200], \n",
    "        'clasifier__solver': ['lbfgs'], 'clasifier__penalty': ['l2'], 'clasifier__max_iter': [10000]}\n",
    "\n",
    "elif M_TIPO.startswith(\"mul_m\"):\n",
    "    myfunc.verbose(f\"Utilizando parámetros de {M_TIPO}\")\n",
    " \n",
    "    eval_selector = eval_selector_rf\n",
    "    eval_clasifier = eval_clasifier_lr\n",
    "\n",
    "    SEMILLA = 6191\n",
    "    M_SELECT = \"RF\"\n",
    "    M_CLASIF = \"LR_L2\"\n",
    "    param_distributions = {'selector__max_features': [1000], 'selector__estimator__n_estimators': [400], \n",
    "        'clasifier__solver': ['lbfgs'], 'clasifier__penalty': ['l2'], 'clasifier__max_iter': [10000]}\n",
    "\n",
    "else:\n",
    "    # M_TIPO.startswith(\"mul_s\"):\n",
    "    myfunc.verbose(f\"Utilizando parámetros de {M_TIPO}\")\n",
    "    eval_selector = eval_selector_anova\n",
    "    eval_clasifier = eval_clasifier_lr\n",
    "\n",
    "    SEMILLA = 1860\n",
    "    M_SELECT = \"ANOVA\"\n",
    "    M_CLASIF = \"LR_L2\"\n",
    "    param_distributions = {'selector__k': [1000], \n",
    "        'clasifier__solver': ['saga'], 'clasifier__penalty': ['l2'], 'clasifier__max_iter': [10000]}\n",
    "\n"
   ]
  },
  {
   "cell_type": "code",
   "execution_count": 3,
   "id": "a08826f9",
   "metadata": {
    "execution": {
     "iopub.execute_input": "2023-10-27T23:14:27.600108Z",
     "iopub.status.busy": "2023-10-27T23:14:27.599887Z",
     "iopub.status.idle": "2023-10-27T23:14:27.603244Z",
     "shell.execute_reply": "2023-10-27T23:14:27.602838Z"
    },
    "papermill": {
     "duration": 0.007668,
     "end_time": "2023-10-27T23:14:27.604422",
     "exception": false,
     "start_time": "2023-10-27T23:14:27.596754",
     "status": "completed"
    },
    "tags": [
     "injected-parameters"
    ]
   },
   "outputs": [],
   "source": [
    "# Parameters\n",
    "M_TIPO = \"mul_s\"\n",
    "M_SELECT = \"RF\"\n",
    "M_CLASIF = \"LR_L1\"\n",
    "P_FICHERO = \"param_0000_0042_mul_s_RF_LR_L1.yaml\"\n",
    "R_FICHERO = \"resultados_0042\"\n",
    "M_FICHERO = \"metricas_0042\"\n",
    "PRE_DATA_FILE = \"rows_transpose_norm_by_gene_id_with_target_num_\"\n",
    "SCORING = \"roc_auc_ovr\"\n",
    "SEMILLA = 42\n",
    "MAX_ITERS = 500\n",
    "eval_selector = \"SelectFromModel(estimator=RandomForestClassifier(random_state=SEMILLA), threshold=-np.inf)\"\n",
    "eval_clasifier = \"LogisticRegressionCV(random_state=SEMILLA)\"\n",
    "param_distributions = {\n",
    "    \"selector__max_features\": [500],\n",
    "    \"selector__estimator__n_estimators\": [100],\n",
    "    \"clasifier__solver\": [\"saga\"],\n",
    "    \"clasifier__penalty\": [\"l1\"],\n",
    "    \"clasifier__max_iter\": [10000],\n",
    "}\n"
   ]
  },
  {
   "cell_type": "code",
   "execution_count": 4,
   "id": "e5eda1a8",
   "metadata": {
    "execution": {
     "iopub.execute_input": "2023-10-27T23:14:27.610380Z",
     "iopub.status.busy": "2023-10-27T23:14:27.610188Z",
     "iopub.status.idle": "2023-10-27T23:14:27.613176Z",
     "shell.execute_reply": "2023-10-27T23:14:27.612641Z"
    },
    "papermill": {
     "duration": 0.007393,
     "end_time": "2023-10-27T23:14:27.614368",
     "exception": false,
     "start_time": "2023-10-27T23:14:27.606975",
     "status": "completed"
    },
    "tags": []
   },
   "outputs": [],
   "source": [
    "DATA_FILE = PRE_DATA_FILE + M_TIPO\n",
    "\n",
    "# si viene \"None\" en el parámetro max_depth, se le quitan las comillas para que no sea entendido por el algoritmo como un texto\n",
    "if \"clasifier__max_depth\" in param_distributions:\n",
    "    param_distributions['clasifier__max_depth'] = [None if x == 'None' else x for x in param_distributions['clasifier__max_depth']]"
   ]
  },
  {
   "cell_type": "markdown",
   "id": "ab7a1303",
   "metadata": {
    "papermill": {
     "duration": 0.002715,
     "end_time": "2023-10-27T23:14:27.619882",
     "exception": false,
     "start_time": "2023-10-27T23:14:27.617167",
     "status": "completed"
    },
    "tags": []
   },
   "source": [
    "Asignar los algoritmos que se utilizarán en la función RandomSearchCV"
   ]
  },
  {
   "cell_type": "code",
   "execution_count": 5,
   "id": "73bfeadc",
   "metadata": {
    "execution": {
     "iopub.execute_input": "2023-10-27T23:14:27.626182Z",
     "iopub.status.busy": "2023-10-27T23:14:27.626017Z",
     "iopub.status.idle": "2023-10-27T23:14:27.628877Z",
     "shell.execute_reply": "2023-10-27T23:14:27.628279Z"
    },
    "papermill": {
     "duration": 0.007633,
     "end_time": "2023-10-27T23:14:27.630297",
     "exception": false,
     "start_time": "2023-10-27T23:14:27.622664",
     "status": "completed"
    },
    "tags": []
   },
   "outputs": [],
   "source": [
    "algor_selector=eval(eval_selector)\n",
    "algor_clasifier=eval(eval_clasifier)"
   ]
  },
  {
   "cell_type": "markdown",
   "id": "2c202c85",
   "metadata": {
    "papermill": {
     "duration": 0.003452,
     "end_time": "2023-10-27T23:14:27.637208",
     "exception": false,
     "start_time": "2023-10-27T23:14:27.633756",
     "status": "completed"
    },
    "tags": []
   },
   "source": [
    "#### Comprobar el entorno y leer fichero de muestras"
   ]
  },
  {
   "cell_type": "code",
   "execution_count": 6,
   "id": "8ad24628",
   "metadata": {
    "execution": {
     "iopub.execute_input": "2023-10-27T23:14:27.644796Z",
     "iopub.status.busy": "2023-10-27T23:14:27.644612Z",
     "iopub.status.idle": "2023-10-27T23:14:27.775817Z",
     "shell.execute_reply": "2023-10-27T23:14:27.775146Z"
    },
    "papermill": {
     "duration": 0.136463,
     "end_time": "2023-10-27T23:14:27.777092",
     "exception": false,
     "start_time": "2023-10-27T23:14:27.640629",
     "status": "completed"
    },
    "tags": []
   },
   "outputs": [
    {
     "name": "stdout",
     "output_type": "stream",
     "text": [
      "20231028T011427 : amilcar22 : INFO : Encontrada carpeta DATA_DIR=../tfm_git/datos\n",
      "20231028T011427 : amilcar22 : INFO : Encontrada carpeta CFDNA_DIR=../tfm_git/datos/cfDNA_5hmC\n",
      "20231028T011427 : amilcar22 : INFO : Encontrada carpeta GENCODE_DIR=../tfm_git/datos/gencode\n",
      "20231028T011427 : amilcar22 : INFO : Encontrada carpeta H5_DIR=../tfm_git/datos/h5\n",
      "20231028T011427 : amilcar22 : INFO : Encontrada carpeta LOG_DIR=../tfm_git/datos/logs\n",
      "20231028T011427 : amilcar22 : INFO : Encontrada carpeta CSV_DIR=../tfm_git/datos/csv\n",
      "20231028T011427 : amilcar22 : INFO : Encontrada carpeta MODEL_DIR=../tfm_git/ejecuciones/modelos\n",
      "20231028T011427 : amilcar22 : INFO : Encontrada carpeta EXEC_DIR=../tfm_git/ejecuciones\n",
      "20231028T011427 : amilcar22 : INFO : Encontrada carpeta MET_DIR=../tfm_git/ejecuciones/metricas\n",
      "20231028T011427 : amilcar22 : INFO : Inicio leer fichero h5 ../tfm_git/datos/h5/rows_transpose_norm_by_gene_id_with_target_num_mul_s.h5\n",
      "20231028T011427 : amilcar22 : INFO : Leyendo clave /df\n",
      "20231028T011427 : amilcar22 : INFO : Tamaño (259, 18876)\n",
      "20231028T011427 : amilcar22 : INFO : Fin leer fichero h5 ../tfm_git/datos/h5/rows_transpose_norm_by_gene_id_with_target_num_mul_s.h5\n"
     ]
    },
    {
     "data": {
      "text/plain": [
       "target\n",
       "0    37\n",
       "1    37\n",
       "2    37\n",
       "3    37\n",
       "4    37\n",
       "5    37\n",
       "6    37\n",
       "dtype: int64"
      ]
     },
     "metadata": {},
     "output_type": "display_data"
    },
    {
     "name": "stdout",
     "output_type": "stream",
     "text": [
      "Shape df: (259, 18876)\n"
     ]
    },
    {
     "name": "stdout",
     "output_type": "stream",
     "text": [
      "Shape X_train: (207, 18875)\n",
      "Shape X_test: (52, 18875)\n"
     ]
    }
   ],
   "source": [
    "start_time = datetime.datetime.now()\n",
    "\n",
    "myfunc.reset_vars()\n",
    "\n",
    "myfunc.NOTEBK_FILENAME = myfunc.get_nb_name()\n",
    "\n",
    "myfunc.check_enviroment(myfunc.DATA_DIR, myfunc.CFDNA_DIR, myfunc.GENCODE_DIR, myfunc.H5_DIR, myfunc.LOG_DIR, myfunc.CSV_DIR, myfunc.MODEL_DIR, myfunc.EXEC_DIR, myfunc.MET_DIR)\n",
    "\n",
    "# Leer fichero con las muestras\n",
    "df_t = myfunc.read_h5_to_df(DATA_FILE, myfunc.H5_DIR)\n",
    "display(df_t.groupby(\"target\").size())\n",
    "print(\"Shape df:\",df_t.shape)\n",
    "\n",
    "# Separar caracteristicas/genes de las etiquetas/tipos de cáncer\n",
    "X = df_t.iloc[:, :-1]  # Todas las columnas excepto la última\n",
    "y = df_t.iloc[:, -1]  # La última columna contiene los identificadores de los tipos de cáncer\n",
    "\n",
    "#  Crear el conjunto de datos de entrenamiento y de pruebas\n",
    "X_train, X_test, y_train, y_test = train_test_split(X, y, test_size=0.2, shuffle=True, random_state=SEMILLA)\n",
    "print(\"Shape X_train:\",X_train.shape)\n",
    "print(\"Shape X_test:\",X_test.shape)\n"
   ]
  },
  {
   "cell_type": "markdown",
   "id": "076f6af8",
   "metadata": {
    "papermill": {
     "duration": 0.002749,
     "end_time": "2023-10-27T23:14:27.783133",
     "exception": false,
     "start_time": "2023-10-27T23:14:27.780384",
     "status": "completed"
    },
    "tags": []
   },
   "source": [
    "#### Selección de características y clasificación."
   ]
  },
  {
   "cell_type": "code",
   "execution_count": 7,
   "id": "a393be38",
   "metadata": {
    "execution": {
     "iopub.execute_input": "2023-10-27T23:14:27.789627Z",
     "iopub.status.busy": "2023-10-27T23:14:27.789428Z",
     "iopub.status.idle": "2023-10-27T23:23:26.881990Z",
     "shell.execute_reply": "2023-10-27T23:23:26.881312Z"
    },
    "papermill": {
     "duration": 539.099936,
     "end_time": "2023-10-27T23:23:26.885872",
     "exception": false,
     "start_time": "2023-10-27T23:14:27.785936",
     "status": "completed"
    },
    "tags": []
   },
   "outputs": [
    {
     "name": "stdout",
     "output_type": "stream",
     "text": [
      "20231028T011427 : amilcar22 : INFO : Iniciando entrenamiento\n",
      "num_iter: 1 , max_iter: 1\n"
     ]
    },
    {
     "name": "stdout",
     "output_type": "stream",
     "text": [
      "Fitting 5 folds for each of 1 candidates, totalling 5 fits\n"
     ]
    },
    {
     "name": "stdout",
     "output_type": "stream",
     "text": [
      "[CV 2/5] END clasifier__max_iter=10000, clasifier__penalty=l1, clasifier__solver=saga, selector__estimator__n_estimators=100, selector__max_features=500;, score=0.815 total time= 3.1min\n"
     ]
    },
    {
     "name": "stdout",
     "output_type": "stream",
     "text": [
      "[CV 1/5] END clasifier__max_iter=10000, clasifier__penalty=l1, clasifier__solver=saga, selector__estimator__n_estimators=100, selector__max_features=500;, score=0.848 total time= 3.4min\n"
     ]
    },
    {
     "name": "stdout",
     "output_type": "stream",
     "text": [
      "[CV 3/5] END clasifier__max_iter=10000, clasifier__penalty=l1, clasifier__solver=saga, selector__estimator__n_estimators=100, selector__max_features=500;, score=0.832 total time= 3.4min\n"
     ]
    },
    {
     "name": "stdout",
     "output_type": "stream",
     "text": [
      "Mejores Hiperparámetros: {'selector__max_features': 500, 'selector__estimator__n_estimators': 100, 'clasifier__solver': 'saga', 'clasifier__penalty': 'l1', 'clasifier__max_iter': 10000}\n",
      "Mejor Puntuación: 0.7720\n",
      "20231028T012326 : amilcar22 : INFO : Fin entrenamiento\n"
     ]
    }
   ],
   "source": [
    "myfunc.verbose(\"Iniciando entrenamiento\")\n",
    "\n",
    "kf = KFold(n_splits=5, shuffle=True, random_state=SEMILLA)\n",
    "\n",
    "# Crear el pipeline para el flujo de tareas\n",
    "tasks_pipeline = Pipeline([\n",
    "    ('selector', algor_selector),\n",
    "    ('clasifier', algor_clasifier)\n",
    "])\n",
    "\n",
    "# MAX_ITERS puede limitar el número de iteraciones si son excesivas para las combinaciones de parámetros buscando un óptimo local, \n",
    "# sino funcionaría como GridSearchCV al revisar todas las cominaciones de los parámetros\n",
    "num_iteraciones = 1\n",
    "num_iteraciones = num_iteraciones * np.prod([len(elemento1) for _, elemento1 in param_distributions.items()])\n",
    "max_iteraciones = num_iteraciones if num_iteraciones <= MAX_ITERS else MAX_ITERS\n",
    "print(\"num_iter:\",num_iteraciones,\", max_iter:\",max_iteraciones)\n",
    "\n",
    "random_search = RandomizedSearchCV(\n",
    "    tasks_pipeline, \n",
    "    param_distributions, \n",
    "    n_iter=max_iteraciones,\n",
    "    scoring=SCORING,\n",
    "    cv=kf,\n",
    "    verbose=3, \n",
    "    random_state=SEMILLA, \n",
    "    n_jobs=-1\n",
    "    )\n",
    "\n",
    "# Entrenar el modelo\n",
    "random_search.fit(X_train, y_train)\n",
    "\n",
    "# Ver los mejores hiperparámetros encontrados\n",
    "print(f'Mejores Hiperparámetros: {random_search.best_params_}')\n",
    "print(f'Mejor Puntuación: {random_search.best_score_:.4f}')\n",
    "\n",
    "# Nos quedamos con el mejor modelo para ver las métricas\n",
    "mejor_modelo = random_search.best_estimator_\n",
    "\n",
    "myfunc.verbose(\"Fin entrenamiento\")"
   ]
  },
  {
   "cell_type": "markdown",
   "id": "61d6ff62",
   "metadata": {
    "papermill": {
     "duration": 0.003052,
     "end_time": "2023-10-27T23:23:26.892119",
     "exception": false,
     "start_time": "2023-10-27T23:23:26.889067",
     "status": "completed"
    },
    "tags": []
   },
   "source": [
    "#### Guardar modelo"
   ]
  },
  {
   "cell_type": "code",
   "execution_count": 8,
   "id": "c52b9d95",
   "metadata": {
    "execution": {
     "iopub.execute_input": "2023-10-27T23:23:26.899433Z",
     "iopub.status.busy": "2023-10-27T23:23:26.899243Z",
     "iopub.status.idle": "2023-10-27T23:23:26.941430Z",
     "shell.execute_reply": "2023-10-27T23:23:26.940824Z"
    },
    "papermill": {
     "duration": 0.047592,
     "end_time": "2023-10-27T23:23:26.942797",
     "exception": false,
     "start_time": "2023-10-27T23:23:26.895205",
     "status": "completed"
    },
    "tags": []
   },
   "outputs": [
    {
     "name": "stdout",
     "output_type": "stream",
     "text": [
      "20231028T012326 : amilcar22 : INFO : Inicio guardar fichero ../tfm_git/ejecuciones/modelos/modelo_0042_mul_s_RF_LR_L1.pkl\n",
      "20231028T012326 : amilcar22 : INFO : Fin guardar fichero ../tfm_git/ejecuciones/modelos/modelo_0042_mul_s_RF_LR_L1.pkl\n"
     ]
    }
   ],
   "source": [
    "fichero_modelo = str.replace(\"modelo_\"+str(SEMILLA).zfill(4)+\"_\"+M_TIPO+\"_\"+M_SELECT+\"_\"+M_CLASIF+\".pkl\", \" \", \"_\")\n",
    "\n",
    "myfunc.save_modelo(mejor_modelo, myfunc.MODEL_DIR, fichero_modelo)"
   ]
  },
  {
   "cell_type": "markdown",
   "id": "9468b79b",
   "metadata": {
    "papermill": {
     "duration": 0.003402,
     "end_time": "2023-10-27T23:23:26.949620",
     "exception": false,
     "start_time": "2023-10-27T23:23:26.946218",
     "status": "completed"
    },
    "tags": []
   },
   "source": [
    "#### Ver resultados del las iteraciones hechas por RandomSearchCV"
   ]
  },
  {
   "cell_type": "code",
   "execution_count": 9,
   "id": "2704f238",
   "metadata": {
    "execution": {
     "iopub.execute_input": "2023-10-27T23:23:26.956717Z",
     "iopub.status.busy": "2023-10-27T23:23:26.956524Z",
     "iopub.status.idle": "2023-10-27T23:23:26.962949Z",
     "shell.execute_reply": "2023-10-27T23:23:26.962373Z"
    },
    "papermill": {
     "duration": 0.011461,
     "end_time": "2023-10-27T23:23:26.964227",
     "exception": false,
     "start_time": "2023-10-27T23:23:26.952766",
     "status": "completed"
    },
    "tags": []
   },
   "outputs": [
    {
     "name": "stdout",
     "output_type": "stream",
     "text": [
      "20231028T012326 : amilcar22 : INFO : Inicio ver resultados\n",
      "Mejores Hiperparámetros: {'selector__max_features': 500, 'selector__estimator__n_estimators': 100, 'clasifier__solver': 'saga', 'clasifier__penalty': 'l1', 'clasifier__max_iter': 10000}\n",
      "Mejores puntuaciones: 0.7720 | Params: {'selector__max_features': 500, 'selector__estimator__n_estimators': 100, 'clasifier__solver': 'saga', 'clasifier__penalty': 'l1', 'clasifier__max_iter': 10000}\n",
      "Media de las puntuaciones: 0.7720 | Params: {'selector__max_features': 500, 'selector__estimator__n_estimators': 100, 'clasifier__solver': 'saga', 'clasifier__penalty': 'l1', 'clasifier__max_iter': 10000}\n",
      "20231028T012326 : amilcar22 : INFO : Fin resultados\n"
     ]
    }
   ],
   "source": [
    "myfunc.ver_resultados_search(random_search)"
   ]
  },
  {
   "cell_type": "markdown",
   "id": "e492fa03",
   "metadata": {
    "papermill": {
     "duration": 0.003659,
     "end_time": "2023-10-27T23:23:26.971722",
     "exception": false,
     "start_time": "2023-10-27T23:23:26.968063",
     "status": "completed"
    },
    "tags": []
   },
   "source": [
    "#### Ver métricas del mejor modelo"
   ]
  },
  {
   "cell_type": "code",
   "execution_count": 10,
   "id": "ceab8b71",
   "metadata": {
    "execution": {
     "iopub.execute_input": "2023-10-27T23:23:26.979849Z",
     "iopub.status.busy": "2023-10-27T23:23:26.979673Z",
     "iopub.status.idle": "2023-10-27T23:23:27.637577Z",
     "shell.execute_reply": "2023-10-27T23:23:27.637133Z"
    },
    "papermill": {
     "duration": 0.663445,
     "end_time": "2023-10-27T23:23:27.638844",
     "exception": false,
     "start_time": "2023-10-27T23:23:26.975399",
     "status": "completed"
    },
    "tags": []
   },
   "outputs": [
    {
     "name": "stdout",
     "output_type": "stream",
     "text": [
      "20231028T012326 : amilcar22 : INFO : Inicio ver métricas multiclase\n"
     ]
    },
    {
     "name": "stdout",
     "output_type": "stream",
     "text": [
      "              precision    recall  f1-score   support\n",
      "\n",
      "           0       0.36      0.36      0.36        11\n",
      "           1       0.67      0.50      0.57         8\n",
      "           2       0.20      0.12      0.15         8\n",
      "           3       0.25      0.40      0.31         5\n",
      "           4       0.71      0.62      0.67         8\n",
      "           5       1.00      0.50      0.67         6\n",
      "           6       0.33      0.67      0.44         6\n",
      "\n",
      "    accuracy                           0.44        52\n",
      "   macro avg       0.50      0.45      0.45        52\n",
      "weighted avg       0.50      0.44      0.45        52\n",
      "\n",
      "\n",
      "\n",
      "           Exactitud: 0.442308\n",
      "   Precisión (media): 0.503989\n",
      "      Recall (media): 0.454329\n",
      "    F1-score (media): 0.453483\n",
      "\n",
      "\n",
      "AUC para el tipo de cáncer 0-Control.... 0.5876\n",
      "AUC para el tipo de cáncer 1-Bladder.... 0.7386\n",
      "AUC para el tipo de cáncer 2-Breast..... 0.6960\n",
      "AUC para el tipo de cáncer 3-Colorectal. 0.8128\n",
      "AUC para el tipo de cáncer 4-Kidney..... 0.9403\n",
      "AUC para el tipo de cáncer 5-Lung....... 0.9674\n",
      "AUC para el tipo de cáncer 6-Prostate... 0.8116\n",
      "\n",
      "Media de AUC: 0.7935\n"
     ]
    },
    {
     "data": {
      "image/png": "[encoded data removed]",
      "text/plain": [
       "<Figure size 1000x600 with 1 Axes>"
      ]
     },
     "metadata": {},
     "output_type": "display_data"
    },
    {
     "name": "stdout",
     "output_type": "stream",
     "text": [
      "\n",
      "\n"
     ]
    },
    {
     "data": {
      "image/png": "[encoded data removed]",
      "text/plain": [
       "<Figure size 800x400 with 2 Axes>"
      ]
     },
     "metadata": {},
     "output_type": "display_data"
    },
    {
     "name": "stdout",
     "output_type": "stream",
     "text": [
      "\n",
      "\n",
      "Puntuación Jaccard para el cáncer tipo 0-Control.... 0.2222\n",
      "Puntuación Jaccard para el cáncer tipo 1-Bladder.... 0.4000\n",
      "Puntuación Jaccard para el cáncer tipo 2-Breast..... 0.0833\n",
      "Puntuación Jaccard para el cáncer tipo 3-Colorectal. 0.1818\n",
      "Puntuación Jaccard para el cáncer tipo 4-Kidney..... 0.5000\n",
      "Puntuación Jaccard para el cáncer tipo 5-Lung....... 0.5000\n",
      "Puntuación Jaccard para el cáncer tipo 6-Prostate... 0.2857\n",
      "\n",
      "Media de la puntuación de Jaccard: 0.3104\n"
     ]
    }
   ],
   "source": [
    "if M_TIPO.startswith(\"bin\"):\n",
    "    myfunc.ver_metricas(mejor_modelo, X_test, y_test)\n",
    "else:\n",
    "    myfunc.ver_metricas_multi(mejor_modelo, X_test, y_test)\n"
   ]
  },
  {
   "cell_type": "markdown",
   "id": "1d2b0c9c",
   "metadata": {
    "papermill": {
     "duration": 0.004279,
     "end_time": "2023-10-27T23:23:27.648267",
     "exception": false,
     "start_time": "2023-10-27T23:23:27.643988",
     "status": "completed"
    },
    "tags": []
   },
   "source": [
    "#### Finalización del notebook"
   ]
  },
  {
   "cell_type": "code",
   "execution_count": 11,
   "id": "838e095b",
   "metadata": {
    "execution": {
     "iopub.execute_input": "2023-10-27T23:23:27.657546Z",
     "iopub.status.busy": "2023-10-27T23:23:27.657335Z",
     "iopub.status.idle": "2023-10-27T23:23:27.660807Z",
     "shell.execute_reply": "2023-10-27T23:23:27.660346Z"
    },
    "papermill": {
     "duration": 0.009556,
     "end_time": "2023-10-27T23:23:27.662007",
     "exception": false,
     "start_time": "2023-10-27T23:23:27.652451",
     "status": "completed"
    },
    "tags": []
   },
   "outputs": [
    {
     "name": "stdout",
     "output_type": "stream",
     "text": [
      "20231028T012327 : amilcar22 : INFO : Notebook ha tardado 540 seconds\n"
     ]
    }
   ],
   "source": [
    "end_time = datetime.datetime.now()\n",
    "total_time = end_time - start_time\n",
    "myfunc.verbose(f\"Notebook ha tardado {total_time.seconds} seconds\")"
   ]
  },
  {
   "cell_type": "markdown",
   "id": "1098a550",
   "metadata": {
    "papermill": {
     "duration": 0.004426,
     "end_time": "2023-10-27T23:23:27.671070",
     "exception": false,
     "start_time": "2023-10-27T23:23:27.666644",
     "status": "completed"
    },
    "tags": []
   },
   "source": [
    "#### Guardar métricas"
   ]
  },
  {
   "cell_type": "code",
   "execution_count": 12,
   "id": "aab002dd",
   "metadata": {
    "execution": {
     "iopub.execute_input": "2023-10-27T23:23:27.680304Z",
     "iopub.status.busy": "2023-10-27T23:23:27.680110Z",
     "iopub.status.idle": "2023-10-27T23:23:27.986558Z",
     "shell.execute_reply": "2023-10-27T23:23:27.986020Z"
    },
    "papermill": {
     "duration": 0.31259,
     "end_time": "2023-10-27T23:23:27.987908",
     "exception": false,
     "start_time": "2023-10-27T23:23:27.675318",
     "status": "completed"
    },
    "tags": []
   },
   "outputs": [
    {
     "name": "stdout",
     "output_type": "stream",
     "text": [
      "20231028T012327 : amilcar22 : INFO : Inicio guardar métricas multiclase\n",
      "20231028T012327 : amilcar22 : INFO : Inicio leer fichero ../tfm_git/ejecuciones/metricas/metricas_0042.csv\n",
      "20231028T012327 : amilcar22 : INFO : Fin leer fichero ../tfm_git/ejecuciones/metricas/metricas_0042.csv\n"
     ]
    },
    {
     "name": "stdout",
     "output_type": "stream",
     "text": [
      "20231028T012327 : amilcar22 : INFO : Inicio guardar fichero ../tfm_git/ejecuciones/metricas/metricas_0042.csv\n",
      "20231028T012327 : amilcar22 : INFO : Fichero borrado ../tfm_git/ejecuciones/metricas/metricas_0042.csv\n",
      "20231028T012327 : amilcar22 : INFO : Fin guardar fichero ../tfm_git/ejecuciones/metricas/metricas_0042.csv\n",
      "20231028T012327 : amilcar22 : INFO : Fin guardar métricas multiclase\n",
      "20231028T012327 : amilcar22 : INFO : Inicio leer fichero ../tfm_git/ejecuciones/metricas/metricas_0042.csv\n",
      "20231028T012327 : amilcar22 : INFO : Fin leer fichero ../tfm_git/ejecuciones/metricas/metricas_0042.csv\n"
     ]
    },
    {
     "data": {
      "text/html": [
       "<div>\n",
       "<style scoped>\n",
       "    .dataframe tbody tr th:only-of-type {\n",
       "        vertical-align: middle;\n",
       "    }\n",
       "\n",
       "    .dataframe tbody tr th {\n",
       "        vertical-align: top;\n",
       "    }\n",
       "\n",
       "    .dataframe thead th {\n",
       "        text-align: right;\n",
       "    }\n",
       "</style>\n",
       "<table border=\"1\" class=\"dataframe\">\n",
       "  <thead>\n",
       "    <tr style=\"text-align: right;\">\n",
       "      <th></th>\n",
       "      <th>tipo</th>\n",
       "      <th>select</th>\n",
       "      <th>clasific</th>\n",
       "      <th>accuracy</th>\n",
       "      <th>precision</th>\n",
       "      <th>recall</th>\n",
       "      <th>f1_score</th>\n",
       "      <th>roc_auc</th>\n",
       "      <th>roc_auc_ovr</th>\n",
       "      <th>hostname</th>\n",
       "      <th>total_time_sec</th>\n",
       "      <th>datetime</th>\n",
       "      <th>fichero_modelo</th>\n",
       "      <th>params</th>\n",
       "      <th>shape</th>\n",
       "      <th>features</th>\n",
       "      <th>semilla</th>\n",
       "      <th>indices_auc</th>\n",
       "      <th>indices_jaccard</th>\n",
       "    </tr>\n",
       "  </thead>\n",
       "  <tbody>\n",
       "    <tr>\n",
       "      <th>0</th>\n",
       "      <td>mul_s</td>\n",
       "      <td>RF</td>\n",
       "      <td>LR_L1</td>\n",
       "      <td>0.442308</td>\n",
       "      <td>0.503989</td>\n",
       "      <td>0.454329</td>\n",
       "      <td>0.453483</td>\n",
       "      <td>NaN</td>\n",
       "      <td>0.793476</td>\n",
       "      <td>amilcar22</td>\n",
       "      <td>540</td>\n",
       "      <td>2023-10-28 01:23:27.936872</td>\n",
       "      <td>modelo_0042_mul_s_RF_LR_L1.pkl</td>\n",
       "      <td>{'selector__max_features': 500, 'selector__est...</td>\n",
       "      <td>X_test:(52, 18875)</td>\n",
       "      <td>['ENSG00000000938.13', 'ENSG00000002587.10', '...</td>\n",
       "      <td>42.0</td>\n",
       "      <td>[0.5875831485587584, 0.7386363636363636, 0.696...</td>\n",
       "      <td>[0.2222222222222222, 0.4, 0.08333333333333333,...</td>\n",
       "    </tr>\n",
       "    <tr>\n",
       "      <th>0</th>\n",
       "      <td>mul_s</td>\n",
       "      <td>RF</td>\n",
       "      <td>LR_EN</td>\n",
       "      <td>0.442308</td>\n",
       "      <td>0.437497</td>\n",
       "      <td>0.448593</td>\n",
       "      <td>0.431504</td>\n",
       "      <td>NaN</td>\n",
       "      <td>0.798915</td>\n",
       "      <td>amilcar22</td>\n",
       "      <td>447</td>\n",
       "      <td>2023-10-28 01:14:21.551207</td>\n",
       "      <td>modelo_0042_mul_s_RF_LR_EN.pkl</td>\n",
       "      <td>{'selector__max_features': 500, 'selector__est...</td>\n",
       "      <td>X_test:(52, 18875)</td>\n",
       "      <td>['ENSG00000002919.15', 'ENSG00000007237.19', '...</td>\n",
       "      <td>42.0</td>\n",
       "      <td>[0.6008869179600886, 0.8892045454545455, 0.713...</td>\n",
       "      <td>[0.1111111111111111, 0.5555555555555556, 0.153...</td>\n",
       "    </tr>\n",
       "    <tr>\n",
       "      <th>0</th>\n",
       "      <td>mul_s</td>\n",
       "      <td>MI</td>\n",
       "      <td>SVM</td>\n",
       "      <td>0.403846</td>\n",
       "      <td>0.400665</td>\n",
       "      <td>0.421320</td>\n",
       "      <td>0.397621</td>\n",
       "      <td>NaN</td>\n",
       "      <td>0.762944</td>\n",
       "      <td>amilcar22</td>\n",
       "      <td>191</td>\n",
       "      <td>2023-10-28 01:06:47.596314</td>\n",
       "      <td>modelo_0042_mul_s_MI_SVM.pkl</td>\n",
       "      <td>{'selector__k': 1000, 'clasifier__kernel': 'rb...</td>\n",
       "      <td>X_test:(52, 18875)</td>\n",
       "      <td>['ENSG00000003137.9', 'ENSG00000004939.16', 'E...</td>\n",
       "      <td>42.0</td>\n",
       "      <td>[0.5321507760532151, 0.8636363636363638, 0.647...</td>\n",
       "      <td>[0.06666666666666667, 0.4, 0.06666666666666667...</td>\n",
       "    </tr>\n",
       "  </tbody>\n",
       "</table>\n",
       "</div>"
      ],
      "text/plain": [
       "    tipo select clasific  accuracy  precision    recall  f1_score  roc_auc  \\\n",
       "0  mul_s     RF    LR_L1  0.442308   0.503989  0.454329  0.453483      NaN   \n",
       "0  mul_s     RF    LR_EN  0.442308   0.437497  0.448593  0.431504      NaN   \n",
       "0  mul_s     MI      SVM  0.403846   0.400665  0.421320  0.397621      NaN   \n",
       "\n",
       "   roc_auc_ovr   hostname  total_time_sec                    datetime  \\\n",
       "0     0.793476  amilcar22             540  2023-10-28 01:23:27.936872   \n",
       "0     0.798915  amilcar22             447  2023-10-28 01:14:21.551207   \n",
       "0     0.762944  amilcar22             191  2023-10-28 01:06:47.596314   \n",
       "\n",
       "                   fichero_modelo  \\\n",
       "0  modelo_0042_mul_s_RF_LR_L1.pkl   \n",
       "0  modelo_0042_mul_s_RF_LR_EN.pkl   \n",
       "0    modelo_0042_mul_s_MI_SVM.pkl   \n",
       "\n",
       "                                              params               shape  \\\n",
       "0  {'selector__max_features': 500, 'selector__est...  X_test:(52, 18875)   \n",
       "0  {'selector__max_features': 500, 'selector__est...  X_test:(52, 18875)   \n",
       "0  {'selector__k': 1000, 'clasifier__kernel': 'rb...  X_test:(52, 18875)   \n",
       "\n",
       "                                            features  semilla  \\\n",
       "0  ['ENSG00000000938.13', 'ENSG00000002587.10', '...     42.0   \n",
       "0  ['ENSG00000002919.15', 'ENSG00000007237.19', '...     42.0   \n",
       "0  ['ENSG00000003137.9', 'ENSG00000004939.16', 'E...     42.0   \n",
       "\n",
       "                                         indices_auc  \\\n",
       "0  [0.5875831485587584, 0.7386363636363636, 0.696...   \n",
       "0  [0.6008869179600886, 0.8892045454545455, 0.713...   \n",
       "0  [0.5321507760532151, 0.8636363636363638, 0.647...   \n",
       "\n",
       "                                     indices_jaccard  \n",
       "0  [0.2222222222222222, 0.4, 0.08333333333333333,...  \n",
       "0  [0.1111111111111111, 0.5555555555555556, 0.153...  \n",
       "0  [0.06666666666666667, 0.4, 0.06666666666666667...  "
      ]
     },
     "metadata": {},
     "output_type": "display_data"
    }
   ],
   "source": [
    "if M_TIPO.startswith(\"bin\"):\n",
    "    myfunc.save_metricas_to_csv(random_search, X_test, y_test, M_TIPO, M_SELECT, M_CLASIF, total_time, SEMILLA, myfunc.MET_DIR, M_FICHERO, fichero_modelo)\n",
    "else:\n",
    "    myfunc.save_metricas_multi_to_csv(random_search, X_test, y_test, M_TIPO, M_SELECT, M_CLASIF, total_time, SEMILLA, myfunc.MET_DIR, M_FICHERO, fichero_modelo)\n",
    "\n",
    "df1=myfunc.read_metricas_to_df(myfunc.MET_DIR,M_FICHERO)\n",
    "\n",
    "display(df1.sort_values(\"datetime\", ascending=False)[:3])\n"
   ]
  },
  {
   "cell_type": "markdown",
   "id": "0558357f",
   "metadata": {
    "papermill": {
     "duration": 0.004515,
     "end_time": "2023-10-27T23:23:27.997623",
     "exception": false,
     "start_time": "2023-10-27T23:23:27.993108",
     "status": "completed"
    },
    "tags": []
   },
   "source": [
    "#### Guardar resultados"
   ]
  },
  {
   "cell_type": "code",
   "execution_count": 13,
   "id": "873cc7ff",
   "metadata": {
    "execution": {
     "iopub.execute_input": "2023-10-27T23:23:28.007330Z",
     "iopub.status.busy": "2023-10-27T23:23:28.007125Z",
     "iopub.status.idle": "2023-10-27T23:23:28.015521Z",
     "shell.execute_reply": "2023-10-27T23:23:28.015080Z"
    },
    "papermill": {
     "duration": 0.014699,
     "end_time": "2023-10-27T23:23:28.016746",
     "exception": false,
     "start_time": "2023-10-27T23:23:28.002047",
     "status": "completed"
    },
    "tags": []
   },
   "outputs": [
    {
     "name": "stdout",
     "output_type": "stream",
     "text": [
      "20231028T012328 : amilcar22 : INFO : Inicio guardar resultados\n",
      "20231028T012328 : amilcar22 : INFO : Inicio guardar fichero ../tfm_git/ejecuciones/metricas/resultados_0042_mul_s-RF-LR_L1.csv\n",
      "20231028T012328 : amilcar22 : INFO : Fin guardar fichero ../tfm_git/ejecuciones/metricas/resultados_0042_mul_s-RF-LR_L1.csv\n",
      "20231028T012328 : amilcar22 : INFO : Fin guardar resultados\n"
     ]
    }
   ],
   "source": [
    "fichero_resultados=R_FICHERO+\"_\"+M_TIPO+\"-\"+M_SELECT+\"-\"+M_CLASIF+\".csv\"\n",
    "myfunc.save_resultados_to_csv(M_TIPO, M_SELECT, M_CLASIF,  random_search, myfunc.MET_DIR, fichero_resultados)\n"
   ]
  }
 ],
 "metadata": {
  "kernelspec": {
   "display_name": "Python 3 (ipykernel)",
   "language": "python",
   "name": "python3"
  },
  "language_info": {
   "codemirror_mode": {
    "name": "ipython",
    "version": 3
   },
   "file_extension": ".py",
   "mimetype": "text/x-python",
   "name": "python",
   "nbconvert_exporter": "python",
   "pygments_lexer": "ipython3",
   "version": "3.10.12"
  },
  "papermill": {
   "default_parameters": {},
   "duration": 544.879265,
   "end_time": "2023-10-27T23:23:30.638310",
   "environment_variables": {},
   "exception": null,
   "input_path": "03_entrenamiento.ipynb",
   "output_path": "ejecuciones/training/03_entrenamiento.20231028T011425.param_0000_0042_mul_s_RF_LR_L1.output.ipynb",
   "parameters": {
    "MAX_ITERS": 500,
    "M_CLASIF": "LR_L1",
    "M_FICHERO": "metricas_0042",
    "M_SELECT": "RF",
    "M_TIPO": "mul_s",
    "PRE_DATA_FILE": "rows_transpose_norm_by_gene_id_with_target_num_",
    "P_FICHERO": "param_0000_0042_mul_s_RF_LR_L1.yaml",
    "R_FICHERO": "resultados_0042",
    "SCORING": "roc_auc_ovr",
    "SEMILLA": 42,
    "eval_clasifier": "LogisticRegressionCV(random_state=SEMILLA)",
    "eval_selector": "SelectFromModel(estimator=RandomForestClassifier(random_state=SEMILLA), threshold=-np.inf)",
    "param_distributions": {
     "clasifier__max_iter": [
      10000
     ],
     "clasifier__penalty": [
      "l1"
     ],
     "clasifier__solver": [
      "saga"
     ],
     "selector__estimator__n_estimators": [
      100
     ],
     "selector__max_features": [
      500
     ]
    }
   },
   "start_time": "2023-10-27T23:14:25.759045",
   "version": "2.4.0"
  }
 },
 "nbformat": 4,
 "nbformat_minor": 5
}