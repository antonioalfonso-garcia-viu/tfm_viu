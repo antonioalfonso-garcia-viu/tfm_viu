{
 "cells": [
  {
   "cell_type": "markdown",
   "id": "fd9772f4",
   "metadata": {
    "papermill": {
     "duration": 0.004403,
     "end_time": "2023-10-30T01:13:55.652705",
     "exception": false,
     "start_time": "2023-10-30T01:13:55.648302",
     "status": "completed"
    },
    "tags": []
   },
   "source": [
    "##### Inicio"
   ]
  },
  {
   "cell_type": "markdown",
   "id": "a3009987",
   "metadata": {
    "papermill": {
     "duration": 0.003568,
     "end_time": "2023-10-30T01:13:55.660119",
     "exception": false,
     "start_time": "2023-10-30T01:13:55.656551",
     "status": "completed"
    },
    "tags": []
   },
   "source": [
    "#### Carga de datos"
   ]
  },
  {
   "cell_type": "code",
   "execution_count": 1,
   "id": "7aa18190",
   "metadata": {
    "execution": {
     "iopub.execute_input": "2023-10-30T01:13:55.668815Z",
     "iopub.status.busy": "2023-10-30T01:13:55.668548Z",
     "iopub.status.idle": "2023-10-30T01:13:56.541216Z",
     "shell.execute_reply": "2023-10-30T01:13:56.540557Z"
    },
    "papermill": {
     "duration": 0.878751,
     "end_time": "2023-10-30T01:13:56.542513",
     "exception": false,
     "start_time": "2023-10-30T01:13:55.663762",
     "status": "completed"
    },
    "tags": []
   },
   "outputs": [
    {
     "name": "stdout",
     "output_type": "stream",
     "text": [
      "CPU_COUNT: 8; NODE: amilcar22; sys.version: 3.10.12 (main, Jul  5 2023, 19:22:19) [GCC 11.2.0]\n",
      "LOKY_MAX_CPU_COUNT: 6\n",
      "OMP_NUM_THREADS: 2\n"
     ]
    }
   ],
   "source": [
    "import os\n",
    "import numpy as np\n",
    "import pandas as pd\n",
    "import datetime\n",
    "import sklearn\n",
    "import logging\n",
    "import warnings\n",
    "\n",
    "from sklearn.pipeline import Pipeline\n",
    "from sklearn.model_selection import RandomizedSearchCV, KFold, cross_val_score, train_test_split\n",
    "from sklearn.metrics import accuracy_score, confusion_matrix, classification_report, roc_auc_score\n",
    "\n",
    "#  cargar algoritmos para aprendizaje supervisado\n",
    "from sklearn.feature_selection import SelectKBest, f_classif, SelectFromModel, mutual_info_classif\n",
    "from sklearn.svm import SVC\n",
    "from sklearn.ensemble import RandomForestClassifier\n",
    "from sklearn.linear_model import LogisticRegression,LogisticRegressionCV\n",
    "\n",
    "# importar fichero con utilidades propias\n",
    "from commons import myfunctions as myfunc\n"
   ]
  },
  {
   "cell_type": "markdown",
   "id": "be84b09c",
   "metadata": {
    "papermill": {
     "duration": 0.002528,
     "end_time": "2023-10-30T01:13:56.547963",
     "exception": false,
     "start_time": "2023-10-30T01:13:56.545435",
     "status": "completed"
    },
    "tags": []
   },
   "source": [
    "#### Parámetros a utilizar en el entrenamiento.\n",
    "\n",
    "Se indican los 3 algoritmos de *selección de características* (eval_selector_xxx) y los 3 algoritmos para la _clasificación_ (eval_clasifier_xxx)\n",
    "\n",
    "En *param_distributions* se indicar los parámetros que utilizan los algoritmos en la función RandomSearchCV.\n",
    "\n",
    "Esta celda tiene la etiqueta **parameters** que servirá para poder lanzar los entrenamientos con la utilidad **papermill** pasándole un fichero con los parámetros. Los nuevos parámetros se situarán tras esta celda para tener prevalencia."
   ]
  },
  {
   "cell_type": "code",
   "execution_count": 2,
   "id": "3f2acb23",
   "metadata": {
    "execution": {
     "iopub.execute_input": "2023-10-30T01:13:56.553979Z",
     "iopub.status.busy": "2023-10-30T01:13:56.553707Z",
     "iopub.status.idle": "2023-10-30T01:13:56.560758Z",
     "shell.execute_reply": "2023-10-30T01:13:56.560187Z"
    },
    "papermill": {
     "duration": 0.011389,
     "end_time": "2023-10-30T01:13:56.561856",
     "exception": false,
     "start_time": "2023-10-30T01:13:56.550467",
     "status": "completed"
    },
    "tags": [
     "parameters"
    ]
   },
   "outputs": [
    {
     "name": "stdout",
     "output_type": "stream",
     "text": [
      "20231030T021356 : amilcar22 : INFO : Utilizando parámetros de mul_m\n"
     ]
    }
   ],
   "source": [
    "#  Parametros para el entrenamiento\n",
    "\n",
    "SEMILLA=        42\n",
    "M_TIPO=         \"mul_m\"\n",
    "M_SELECT=       \"MI\"\n",
    "M_CLASIF=       \"SVM\"\n",
    "R_FICHERO=      \"resultados\"\n",
    "M_FICHERO=      \"metricas\"\n",
    "PRE_DATA_FILE=  \"rows_transpose_norm_by_gene_id_with_target_num_\"\n",
    "SCORING=        \"roc_auc_ovr\" \n",
    "MAX_ITERS=      100\n",
    "\n",
    "def mutual_info_classif_state(X, y):\n",
    "    return mutual_info_classif(X, y, random_state=SEMILLA)\n",
    "\n",
    "eval_selector_mi = \"SelectKBest(score_func=mutual_info_classif_state)\"\n",
    "eval_selector_rf=  \"SelectFromModel(estimator=RandomForestClassifier(random_state=SEMILLA), threshold=-np.inf)\"\n",
    "eval_selector_anova=  \"SelectKBest(score_func=f_classif)\"\n",
    "\n",
    "eval_clasifier_svm= \"SVC(probability=True, random_state=SEMILLA)\"\n",
    "eval_clasifier_rf= \"RandomForestClassifier(random_state=SEMILLA)\"\n",
    "eval_clasifier_lr= \"LogisticRegressionCV(random_state=SEMILLA)\"\n",
    "\n",
    "if M_TIPO.startswith(\"bin_m\"):\n",
    "    myfunc.verbose(f\"Utilizando parámetros de {M_TIPO}\")\n",
    "    eval_selector = eval_selector_mi\n",
    "    eval_clasifier = eval_clasifier_svm\n",
    "\n",
    "    SEMILLA = 6578\n",
    "    M_SELECT = \"MI\"\n",
    "    M_CLASIF = \"SVM\"\n",
    "    param_distributions = {'selector__k': [1000], \n",
    "         'clasifier__kernel': ['rbf'], 'clasifier__gamma': [0.01], 'clasifier__C': [100]}\n",
    "elif M_TIPO.startswith(\"bin_s\"):\n",
    "    myfunc.verbose(f\"Utilizando parámetros de {M_TIPO}\")\n",
    "    eval_selector = eval_selector_rf\n",
    "    eval_clasifier = eval_clasifier_lr\n",
    "\n",
    "    SEMILLA = 6191\n",
    "    M_SELECT = \"RF\"\n",
    "    M_CLASIF = \"LR_L2\"\n",
    "    param_distributions = {'selector__max_features': [1000], 'selector__estimator__n_estimators': [200], \n",
    "        'clasifier__solver': ['lbfgs'], 'clasifier__penalty': ['l2'], 'clasifier__max_iter': [10000]}\n",
    "\n",
    "elif M_TIPO.startswith(\"mul_m\"):\n",
    "    myfunc.verbose(f\"Utilizando parámetros de {M_TIPO}\")\n",
    " \n",
    "    eval_selector = eval_selector_rf\n",
    "    eval_clasifier = eval_clasifier_lr\n",
    "\n",
    "    SEMILLA = 6191\n",
    "    M_SELECT = \"RF\"\n",
    "    M_CLASIF = \"LR_L2\"\n",
    "    param_distributions = {'selector__max_features': [1000], 'selector__estimator__n_estimators': [400], \n",
    "        'clasifier__solver': ['lbfgs'], 'clasifier__penalty': ['l2'], 'clasifier__max_iter': [10000]}\n",
    "\n",
    "else:\n",
    "    # M_TIPO.startswith(\"mul_s\"):\n",
    "    myfunc.verbose(f\"Utilizando parámetros de {M_TIPO}\")\n",
    "    eval_selector = eval_selector_anova\n",
    "    eval_clasifier = eval_clasifier_lr\n",
    "\n",
    "    SEMILLA = 1860\n",
    "    M_SELECT = \"ANOVA\"\n",
    "    M_CLASIF = \"LR_L2\"\n",
    "    param_distributions = {'selector__k': [1000], \n",
    "        'clasifier__solver': ['saga'], 'clasifier__penalty': ['l2'], 'clasifier__max_iter': [10000]}\n",
    "\n"
   ]
  },
  {
   "cell_type": "code",
   "execution_count": 3,
   "id": "79c1d366",
   "metadata": {
    "execution": {
     "iopub.execute_input": "2023-10-30T01:13:56.567845Z",
     "iopub.status.busy": "2023-10-30T01:13:56.567651Z",
     "iopub.status.idle": "2023-10-30T01:13:56.571156Z",
     "shell.execute_reply": "2023-10-30T01:13:56.570727Z"
    },
    "papermill": {
     "duration": 0.007815,
     "end_time": "2023-10-30T01:13:56.572297",
     "exception": false,
     "start_time": "2023-10-30T01:13:56.564482",
     "status": "completed"
    },
    "tags": [
     "injected-parameters"
    ]
   },
   "outputs": [],
   "source": [
    "# Parameters\n",
    "M_TIPO = \"mul_m\"\n",
    "M_SELECT = \"MI\"\n",
    "M_CLASIF = \"RF\"\n",
    "P_FICHERO = \"param_0000_1466_mul_m_MI_RF.yaml\"\n",
    "R_FICHERO = \"resultados_1466\"\n",
    "M_FICHERO = \"metricas_1466\"\n",
    "PRE_DATA_FILE = \"rows_transpose_norm_by_gene_id_with_target_num_\"\n",
    "SCORING = \"roc_auc_ovr\"\n",
    "SEMILLA = 1466\n",
    "MAX_ITERS = 500\n",
    "eval_selector = \"SelectKBest(score_func=mutual_info_classif_state)\"\n",
    "eval_clasifier = \"RandomForestClassifier(random_state=SEMILLA)\"\n",
    "param_distributions = {\n",
    "    \"selector__k\": [1000],\n",
    "    \"clasifier__n_estimators\": [200],\n",
    "    \"clasifier__min_samples_split\": [10],\n",
    "    \"clasifier__min_samples_leaf\": [5],\n",
    "    \"clasifier__max_features\": [500],\n",
    "    \"clasifier__max_depth\": [10],\n",
    "    \"clasifier__bootstrap\": [True],\n",
    "}\n"
   ]
  },
  {
   "cell_type": "code",
   "execution_count": 4,
   "id": "586f589a",
   "metadata": {
    "execution": {
     "iopub.execute_input": "2023-10-30T01:13:56.578274Z",
     "iopub.status.busy": "2023-10-30T01:13:56.578083Z",
     "iopub.status.idle": "2023-10-30T01:13:56.581119Z",
     "shell.execute_reply": "2023-10-30T01:13:56.580593Z"
    },
    "papermill": {
     "duration": 0.007404,
     "end_time": "2023-10-30T01:13:56.582299",
     "exception": false,
     "start_time": "2023-10-30T01:13:56.574895",
     "status": "completed"
    },
    "tags": []
   },
   "outputs": [],
   "source": [
    "DATA_FILE = PRE_DATA_FILE + M_TIPO\n",
    "\n",
    "# si viene \"None\" en el parámetro max_depth, se le quitan las comillas para que no sea entendido por el algoritmo como un texto\n",
    "if \"clasifier__max_depth\" in param_distributions:\n",
    "    param_distributions['clasifier__max_depth'] = [None if x == 'None' else x for x in param_distributions['clasifier__max_depth']]"
   ]
  },
  {
   "cell_type": "markdown",
   "id": "dff7fc15",
   "metadata": {
    "papermill": {
     "duration": 0.002753,
     "end_time": "2023-10-30T01:13:56.587874",
     "exception": false,
     "start_time": "2023-10-30T01:13:56.585121",
     "status": "completed"
    },
    "tags": []
   },
   "source": [
    "Asignar los algoritmos que se utilizarán en la función RandomSearchCV"
   ]
  },
  {
   "cell_type": "code",
   "execution_count": 5,
   "id": "f46e5653",
   "metadata": {
    "execution": {
     "iopub.execute_input": "2023-10-30T01:13:56.594202Z",
     "iopub.status.busy": "2023-10-30T01:13:56.594037Z",
     "iopub.status.idle": "2023-10-30T01:13:56.596789Z",
     "shell.execute_reply": "2023-10-30T01:13:56.596214Z"
    },
    "papermill": {
     "duration": 0.007405,
     "end_time": "2023-10-30T01:13:56.598098",
     "exception": false,
     "start_time": "2023-10-30T01:13:56.590693",
     "status": "completed"
    },
    "tags": []
   },
   "outputs": [],
   "source": [
    "algor_selector=eval(eval_selector)\n",
    "algor_clasifier=eval(eval_clasifier)"
   ]
  },
  {
   "cell_type": "markdown",
   "id": "91fdea8b",
   "metadata": {
    "papermill": {
     "duration": 0.003267,
     "end_time": "2023-10-30T01:13:56.604625",
     "exception": false,
     "start_time": "2023-10-30T01:13:56.601358",
     "status": "completed"
    },
    "tags": []
   },
   "source": [
    "#### Comprobar el entorno y leer fichero de muestras"
   ]
  },
  {
   "cell_type": "code",
   "execution_count": 6,
   "id": "ba9700ac",
   "metadata": {
    "execution": {
     "iopub.execute_input": "2023-10-30T01:13:56.611965Z",
     "iopub.status.busy": "2023-10-30T01:13:56.611782Z",
     "iopub.status.idle": "2023-10-30T01:13:56.771401Z",
     "shell.execute_reply": "2023-10-30T01:13:56.770882Z"
    },
    "papermill": {
     "duration": 0.16489,
     "end_time": "2023-10-30T01:13:56.772741",
     "exception": false,
     "start_time": "2023-10-30T01:13:56.607851",
     "status": "completed"
    },
    "tags": []
   },
   "outputs": [
    {
     "name": "stdout",
     "output_type": "stream",
     "text": [
      "20231030T021356 : amilcar22 : INFO : Encontrada carpeta DATA_DIR=../tfm_git/datos\n",
      "20231030T021356 : amilcar22 : INFO : Encontrada carpeta CFDNA_DIR=../tfm_git/datos/cfDNA_5hmC\n",
      "20231030T021356 : amilcar22 : INFO : Encontrada carpeta GENCODE_DIR=../tfm_git/datos/gencode\n",
      "20231030T021356 : amilcar22 : INFO : Encontrada carpeta H5_DIR=../tfm_git/datos/h5\n",
      "20231030T021356 : amilcar22 : INFO : Encontrada carpeta LOG_DIR=../tfm_git/datos/logs\n",
      "20231030T021356 : amilcar22 : INFO : Encontrada carpeta CSV_DIR=../tfm_git/datos/csv\n",
      "20231030T021356 : amilcar22 : INFO : Encontrada carpeta MODEL_DIR=../tfm_git/ejecuciones/modelos\n",
      "20231030T021356 : amilcar22 : INFO : Encontrada carpeta EXEC_DIR=../tfm_git/ejecuciones\n",
      "20231030T021356 : amilcar22 : INFO : Encontrada carpeta MET_DIR=../tfm_git/ejecuciones/metricas\n",
      "20231030T021356 : amilcar22 : INFO : Inicio leer fichero h5 ../tfm_git/datos/h5/rows_transpose_norm_by_gene_id_with_target_num_mul_m.h5\n",
      "20231030T021356 : amilcar22 : INFO : Leyendo clave /df\n",
      "20231030T021356 : amilcar22 : INFO : Tamaño (434, 18876)\n",
      "20231030T021356 : amilcar22 : INFO : Fin leer fichero h5 ../tfm_git/datos/h5/rows_transpose_norm_by_gene_id_with_target_num_mul_m.h5\n"
     ]
    },
    {
     "data": {
      "text/plain": [
       "target\n",
       "0    62\n",
       "1    62\n",
       "2    62\n",
       "3    62\n",
       "4    62\n",
       "5    62\n",
       "6    62\n",
       "dtype: int64"
      ]
     },
     "metadata": {},
     "output_type": "display_data"
    },
    {
     "name": "stdout",
     "output_type": "stream",
     "text": [
      "Shape df: (434, 18876)\n"
     ]
    },
    {
     "name": "stdout",
     "output_type": "stream",
     "text": [
      "Shape X_train: (347, 18875)\n",
      "Shape X_test: (87, 18875)\n"
     ]
    }
   ],
   "source": [
    "start_time = datetime.datetime.now()\n",
    "\n",
    "myfunc.reset_vars()\n",
    "\n",
    "myfunc.NOTEBK_FILENAME = myfunc.get_nb_name()\n",
    "\n",
    "myfunc.check_enviroment(myfunc.DATA_DIR, myfunc.CFDNA_DIR, myfunc.GENCODE_DIR, myfunc.H5_DIR, myfunc.LOG_DIR, myfunc.CSV_DIR, myfunc.MODEL_DIR, myfunc.EXEC_DIR, myfunc.MET_DIR)\n",
    "\n",
    "# Leer fichero con las muestras\n",
    "df_t = myfunc.read_h5_to_df(DATA_FILE, myfunc.H5_DIR)\n",
    "display(df_t.groupby(\"target\").size())\n",
    "print(\"Shape df:\",df_t.shape)\n",
    "\n",
    "# Separar caracteristicas/genes de las etiquetas/tipos de cáncer\n",
    "X = df_t.iloc[:, :-1]  # Todas las columnas excepto la última\n",
    "y = df_t.iloc[:, -1]  # La última columna contiene los identificadores de los tipos de cáncer\n",
    "\n",
    "#  Crear el conjunto de datos de entrenamiento y de pruebas, y se fija la semilla para siempre coger el mismo juego de muestras\n",
    "X_train, X_test, y_train, y_test = train_test_split(X, y, test_size=0.2, shuffle=True, random_state=42)\n",
    "print(\"Shape X_train:\",X_train.shape)\n",
    "print(\"Shape X_test:\",X_test.shape)\n"
   ]
  },
  {
   "cell_type": "markdown",
   "id": "c27d9062",
   "metadata": {
    "papermill": {
     "duration": 0.002905,
     "end_time": "2023-10-30T01:13:56.779004",
     "exception": false,
     "start_time": "2023-10-30T01:13:56.776099",
     "status": "completed"
    },
    "tags": []
   },
   "source": [
    "#### Selección de características y clasificación."
   ]
  },
  {
   "cell_type": "code",
   "execution_count": 7,
   "id": "4fd48797",
   "metadata": {
    "execution": {
     "iopub.execute_input": "2023-10-30T01:13:56.785463Z",
     "iopub.status.busy": "2023-10-30T01:13:56.785264Z",
     "iopub.status.idle": "2023-10-30T01:17:39.515628Z",
     "shell.execute_reply": "2023-10-30T01:17:39.515000Z"
    },
    "papermill": {
     "duration": 222.737416,
     "end_time": "2023-10-30T01:17:39.519252",
     "exception": false,
     "start_time": "2023-10-30T01:13:56.781836",
     "status": "completed"
    },
    "tags": []
   },
   "outputs": [
    {
     "name": "stdout",
     "output_type": "stream",
     "text": [
      "20231030T021356 : amilcar22 : INFO : Iniciando entrenamiento\n",
      "num_iter: 1 , max_iter: 1\n",
      "Fitting 5 folds for each of 1 candidates, totalling 5 fits\n"
     ]
    },
    {
     "name": "stdout",
     "output_type": "stream",
     "text": [
      "Mejores Hiperparámetros: {'selector__k': 1000, 'clasifier__n_estimators': 200, 'clasifier__min_samples_split': 10, 'clasifier__min_samples_leaf': 5, 'clasifier__max_features': 500, 'clasifier__max_depth': 10, 'clasifier__bootstrap': True}\n",
      "Mejor Puntuación: 0.8033\n",
      "20231030T021739 : amilcar22 : INFO : Fin entrenamiento\n"
     ]
    }
   ],
   "source": [
    "myfunc.verbose(\"Iniciando entrenamiento\")\n",
    "\n",
    "kf = KFold(n_splits=5, shuffle=True, random_state=SEMILLA)\n",
    "\n",
    "# Crear el pipeline para el flujo de tareas\n",
    "tasks_pipeline = Pipeline([\n",
    "    ('selector', algor_selector),\n",
    "    ('clasifier', algor_clasifier)\n",
    "])\n",
    "\n",
    "# MAX_ITERS puede limitar el número de iteraciones si son excesivas para las combinaciones de parámetros buscando un óptimo local, \n",
    "# sino funcionaría como GridSearchCV al revisar todas las cominaciones de los parámetros\n",
    "num_iteraciones = 1\n",
    "num_iteraciones = num_iteraciones * np.prod([len(elemento1) for _, elemento1 in param_distributions.items()])\n",
    "max_iteraciones = num_iteraciones if num_iteraciones <= MAX_ITERS else MAX_ITERS\n",
    "print(\"num_iter:\",num_iteraciones,\", max_iter:\",max_iteraciones)\n",
    "\n",
    "random_search = RandomizedSearchCV(\n",
    "    tasks_pipeline, \n",
    "    param_distributions, \n",
    "    n_iter=max_iteraciones,\n",
    "    scoring=SCORING,\n",
    "    cv=kf,\n",
    "    verbose=3, \n",
    "    random_state=SEMILLA, \n",
    "    n_jobs=-1\n",
    "    )\n",
    "\n",
    "# Entrenar el modelo\n",
    "random_search.fit(X_train, y_train)\n",
    "\n",
    "# Ver los mejores hiperparámetros encontrados\n",
    "print(f'Mejores Hiperparámetros: {random_search.best_params_}')\n",
    "print(f'Mejor Puntuación: {random_search.best_score_:.4f}')\n",
    "\n",
    "# Nos quedamos con el mejor modelo para ver las métricas\n",
    "mejor_modelo = random_search.best_estimator_\n",
    "\n",
    "myfunc.verbose(\"Fin entrenamiento\")"
   ]
  },
  {
   "cell_type": "markdown",
   "id": "84d422fb",
   "metadata": {
    "papermill": {
     "duration": 0.003008,
     "end_time": "2023-10-30T01:17:39.525366",
     "exception": false,
     "start_time": "2023-10-30T01:17:39.522358",
     "status": "completed"
    },
    "tags": []
   },
   "source": [
    "#### Guardar modelo"
   ]
  },
  {
   "cell_type": "code",
   "execution_count": 8,
   "id": "6095f571",
   "metadata": {
    "execution": {
     "iopub.execute_input": "2023-10-30T01:17:39.532124Z",
     "iopub.status.busy": "2023-10-30T01:17:39.531919Z",
     "iopub.status.idle": "2023-10-30T01:17:39.597416Z",
     "shell.execute_reply": "2023-10-30T01:17:39.596820Z"
    },
    "papermill": {
     "duration": 0.07051,
     "end_time": "2023-10-30T01:17:39.598791",
     "exception": false,
     "start_time": "2023-10-30T01:17:39.528281",
     "status": "completed"
    },
    "tags": []
   },
   "outputs": [
    {
     "name": "stdout",
     "output_type": "stream",
     "text": [
      "20231030T021739 : amilcar22 : INFO : Inicio guardar fichero ../tfm_git/ejecuciones/modelos/modelo_1466_mul_m_MI_RF.pkl\n",
      "20231030T021739 : amilcar22 : INFO : Fin guardar fichero ../tfm_git/ejecuciones/modelos/modelo_1466_mul_m_MI_RF.pkl\n"
     ]
    }
   ],
   "source": [
    "fichero_modelo = str.replace(\"modelo_\"+str(SEMILLA).zfill(4)+\"_\"+M_TIPO+\"_\"+M_SELECT+\"_\"+M_CLASIF+\".pkl\", \" \", \"_\")\n",
    "\n",
    "myfunc.save_modelo(mejor_modelo, myfunc.MODEL_DIR, fichero_modelo)"
   ]
  },
  {
   "cell_type": "markdown",
   "id": "1108caa6",
   "metadata": {
    "papermill": {
     "duration": 0.003111,
     "end_time": "2023-10-30T01:17:39.605253",
     "exception": false,
     "start_time": "2023-10-30T01:17:39.602142",
     "status": "completed"
    },
    "tags": []
   },
   "source": [
    "#### Ver resultados del las iteraciones hechas por RandomSearchCV"
   ]
  },
  {
   "cell_type": "code",
   "execution_count": 9,
   "id": "3bccac60",
   "metadata": {
    "execution": {
     "iopub.execute_input": "2023-10-30T01:17:39.612084Z",
     "iopub.status.busy": "2023-10-30T01:17:39.611887Z",
     "iopub.status.idle": "2023-10-30T01:17:39.617739Z",
     "shell.execute_reply": "2023-10-30T01:17:39.617332Z"
    },
    "papermill": {
     "duration": 0.010691,
     "end_time": "2023-10-30T01:17:39.618919",
     "exception": false,
     "start_time": "2023-10-30T01:17:39.608228",
     "status": "completed"
    },
    "tags": []
   },
   "outputs": [
    {
     "name": "stdout",
     "output_type": "stream",
     "text": [
      "20231030T021739 : amilcar22 : INFO : Inicio ver resultados\n",
      "Mejores Hiperparámetros: {'selector__k': 1000, 'clasifier__n_estimators': 200, 'clasifier__min_samples_split': 10, 'clasifier__min_samples_leaf': 5, 'clasifier__max_features': 500, 'clasifier__max_depth': 10, 'clasifier__bootstrap': True}\n",
      "Mejores puntuaciones: 0.8033 | Params: {'selector__k': 1000, 'clasifier__n_estimators': 200, 'clasifier__min_samples_split': 10, 'clasifier__min_samples_leaf': 5, 'clasifier__max_features': 500, 'clasifier__max_depth': 10, 'clasifier__bootstrap': True}\n",
      "Media de las puntuaciones: 0.8033 | Params: {'selector__k': 1000, 'clasifier__n_estimators': 200, 'clasifier__min_samples_split': 10, 'clasifier__min_samples_leaf': 5, 'clasifier__max_features': 500, 'clasifier__max_depth': 10, 'clasifier__bootstrap': True}\n",
      "20231030T021739 : amilcar22 : INFO : Fin resultados\n"
     ]
    }
   ],
   "source": [
    "myfunc.ver_resultados_search(random_search)"
   ]
  },
  {
   "cell_type": "markdown",
   "id": "97059afc",
   "metadata": {
    "papermill": {
     "duration": 0.003159,
     "end_time": "2023-10-30T01:17:39.625354",
     "exception": false,
     "start_time": "2023-10-30T01:17:39.622195",
     "status": "completed"
    },
    "tags": []
   },
   "source": [
    "#### Ver métricas del mejor modelo"
   ]
  },
  {
   "cell_type": "code",
   "execution_count": 10,
   "id": "e17dab16",
   "metadata": {
    "execution": {
     "iopub.execute_input": "2023-10-30T01:17:39.632360Z",
     "iopub.status.busy": "2023-10-30T01:17:39.632180Z",
     "iopub.status.idle": "2023-10-30T01:17:40.263896Z",
     "shell.execute_reply": "2023-10-30T01:17:40.263426Z"
    },
    "papermill": {
     "duration": 0.636687,
     "end_time": "2023-10-30T01:17:40.265208",
     "exception": false,
     "start_time": "2023-10-30T01:17:39.628521",
     "status": "completed"
    },
    "tags": []
   },
   "outputs": [
    {
     "name": "stdout",
     "output_type": "stream",
     "text": [
      "20231030T021739 : amilcar22 : INFO : Inicio ver métricas multiclase\n"
     ]
    },
    {
     "name": "stdout",
     "output_type": "stream",
     "text": [
      "              precision    recall  f1-score   support\n",
      "\n",
      "           0       0.40      0.12      0.19        16\n",
      "           1       0.60      0.40      0.48        15\n",
      "           2       0.50      0.36      0.42        11\n",
      "           3       0.25      0.80      0.38         5\n",
      "           4       0.39      0.69      0.50        13\n",
      "           5       0.42      0.56      0.48         9\n",
      "           6       0.62      0.44      0.52        18\n",
      "\n",
      "    accuracy                           0.44        87\n",
      "   macro avg       0.45      0.48      0.42        87\n",
      "weighted avg       0.48      0.44      0.42        87\n",
      "\n",
      "\n",
      "\n",
      "           Exactitud: 0.436782\n",
      "   Precisión (media): 0.453337\n",
      "      Recall (media): 0.482992\n",
      "    F1-score (media): 0.423543\n",
      "\n",
      "\n",
      "AUC para el tipo de cáncer 0-Control.... 0.5651\n",
      "AUC para el tipo de cáncer 1-Bladder.... 0.8315\n",
      "AUC para el tipo de cáncer 2-Breast..... 0.7141\n",
      "AUC para el tipo de cáncer 3-Colorectal. 0.8683\n",
      "AUC para el tipo de cáncer 4-Kidney..... 0.8129\n",
      "AUC para el tipo de cáncer 5-Lung....... 0.7877\n",
      "AUC para el tipo de cáncer 6-Prostate... 0.8205\n"
     ]
    },
    {
     "name": "stdout",
     "output_type": "stream",
     "text": [
      "\n",
      "Media de AUC: 0.7714\n"
     ]
    },
    {
     "data": {
      "image/png": "[encoded data removed]",
      "text/plain": [
       "<Figure size 1000x600 with 1 Axes>"
      ]
     },
     "metadata": {},
     "output_type": "display_data"
    },
    {
     "name": "stdout",
     "output_type": "stream",
     "text": [
      "\n",
      "\n"
     ]
    },
    {
     "data": {
      "image/png": "[encoded data removed]",
      "text/plain": [
       "<Figure size 800x400 with 2 Axes>"
      ]
     },
     "metadata": {},
     "output_type": "display_data"
    },
    {
     "name": "stdout",
     "output_type": "stream",
     "text": [
      "\n",
      "\n",
      "Puntuación Jaccard para el cáncer tipo 0-Control.... 0.1053\n",
      "Puntuación Jaccard para el cáncer tipo 1-Bladder.... 0.3158\n",
      "Puntuación Jaccard para el cáncer tipo 2-Breast..... 0.2667\n",
      "Puntuación Jaccard para el cáncer tipo 3-Colorectal. 0.2353\n",
      "Puntuación Jaccard para el cáncer tipo 4-Kidney..... 0.3333\n",
      "Puntuación Jaccard para el cáncer tipo 5-Lung....... 0.3125\n",
      "Puntuación Jaccard para el cáncer tipo 6-Prostate... 0.3478\n",
      "\n",
      "Media de la puntuación de Jaccard: 0.2738\n"
     ]
    }
   ],
   "source": [
    "if M_TIPO.startswith(\"bin\"):\n",
    "    myfunc.ver_metricas(mejor_modelo, X_test, y_test)\n",
    "else:\n",
    "    myfunc.ver_metricas_multi(mejor_modelo, X_test, y_test)\n"
   ]
  },
  {
   "cell_type": "markdown",
   "id": "93cc06b8",
   "metadata": {
    "papermill": {
     "duration": 0.004135,
     "end_time": "2023-10-30T01:17:40.273799",
     "exception": false,
     "start_time": "2023-10-30T01:17:40.269664",
     "status": "completed"
    },
    "tags": []
   },
   "source": [
    "#### Finalización del notebook"
   ]
  },
  {
   "cell_type": "code",
   "execution_count": 11,
   "id": "d787e315",
   "metadata": {
    "execution": {
     "iopub.execute_input": "2023-10-30T01:17:40.282893Z",
     "iopub.status.busy": "2023-10-30T01:17:40.282697Z",
     "iopub.status.idle": "2023-10-30T01:17:40.286359Z",
     "shell.execute_reply": "2023-10-30T01:17:40.285931Z"
    },
    "papermill": {
     "duration": 0.009467,
     "end_time": "2023-10-30T01:17:40.287403",
     "exception": false,
     "start_time": "2023-10-30T01:17:40.277936",
     "status": "completed"
    },
    "tags": []
   },
   "outputs": [
    {
     "name": "stdout",
     "output_type": "stream",
     "text": [
      "20231030T021740 : amilcar22 : INFO : Notebook ha tardado 223 seconds\n"
     ]
    }
   ],
   "source": [
    "end_time = datetime.datetime.now()\n",
    "total_time = end_time - start_time\n",
    "myfunc.verbose(f\"Notebook ha tardado {total_time.seconds} seconds\")"
   ]
  },
  {
   "cell_type": "markdown",
   "id": "ada00186",
   "metadata": {
    "papermill": {
     "duration": 0.004158,
     "end_time": "2023-10-30T01:17:40.295877",
     "exception": false,
     "start_time": "2023-10-30T01:17:40.291719",
     "status": "completed"
    },
    "tags": []
   },
   "source": [
    "#### Guardar métricas"
   ]
  },
  {
   "cell_type": "code",
   "execution_count": 12,
   "id": "82f47201",
   "metadata": {
    "execution": {
     "iopub.execute_input": "2023-10-30T01:17:40.305080Z",
     "iopub.status.busy": "2023-10-30T01:17:40.304895Z",
     "iopub.status.idle": "2023-10-30T01:17:40.530447Z",
     "shell.execute_reply": "2023-10-30T01:17:40.529977Z"
    },
    "papermill": {
     "duration": 0.23149,
     "end_time": "2023-10-30T01:17:40.531587",
     "exception": false,
     "start_time": "2023-10-30T01:17:40.300097",
     "status": "completed"
    },
    "tags": []
   },
   "outputs": [
    {
     "name": "stdout",
     "output_type": "stream",
     "text": [
      "20231030T021740 : amilcar22 : INFO : Inicio guardar métricas multiclase\n",
      "20231030T021740 : amilcar22 : INFO : Inicio leer fichero ../tfm_git/ejecuciones/metricas/metricas_1466.csv\n",
      "20231030T021740 : amilcar22 : INFO : Fin leer fichero ../tfm_git/ejecuciones/metricas/metricas_1466.csv\n"
     ]
    },
    {
     "name": "stdout",
     "output_type": "stream",
     "text": [
      "20231030T021740 : amilcar22 : INFO : Inicio guardar fichero ../tfm_git/ejecuciones/metricas/metricas_1466.csv\n",
      "20231030T021740 : amilcar22 : INFO : Fichero borrado ../tfm_git/ejecuciones/metricas/metricas_1466.csv\n"
     ]
    },
    {
     "name": "stdout",
     "output_type": "stream",
     "text": [
      "20231030T021740 : amilcar22 : INFO : Fin guardar fichero ../tfm_git/ejecuciones/metricas/metricas_1466.csv\n",
      "20231030T021740 : amilcar22 : INFO : Fin guardar métricas multiclase\n",
      "20231030T021740 : amilcar22 : INFO : Inicio leer fichero ../tfm_git/ejecuciones/metricas/metricas_1466.csv\n",
      "20231030T021740 : amilcar22 : INFO : Fin leer fichero ../tfm_git/ejecuciones/metricas/metricas_1466.csv\n"
     ]
    },
    {
     "data": {
      "text/html": [
       "<div>\n",
       "<style scoped>\n",
       "    .dataframe tbody tr th:only-of-type {\n",
       "        vertical-align: middle;\n",
       "    }\n",
       "\n",
       "    .dataframe tbody tr th {\n",
       "        vertical-align: top;\n",
       "    }\n",
       "\n",
       "    .dataframe thead th {\n",
       "        text-align: right;\n",
       "    }\n",
       "</style>\n",
       "<table border=\"1\" class=\"dataframe\">\n",
       "  <thead>\n",
       "    <tr style=\"text-align: right;\">\n",
       "      <th></th>\n",
       "      <th>tipo</th>\n",
       "      <th>select</th>\n",
       "      <th>clasific</th>\n",
       "      <th>semilla</th>\n",
       "      <th>accuracy</th>\n",
       "      <th>precision</th>\n",
       "      <th>recall</th>\n",
       "      <th>f1_score</th>\n",
       "      <th>roc_auc</th>\n",
       "      <th>hostname</th>\n",
       "      <th>total_time_sec</th>\n",
       "      <th>datetime</th>\n",
       "      <th>fichero_modelo</th>\n",
       "      <th>params</th>\n",
       "      <th>shape</th>\n",
       "      <th>features</th>\n",
       "      <th>roc_auc_ovr</th>\n",
       "      <th>indices_auc</th>\n",
       "      <th>indices_jaccard</th>\n",
       "    </tr>\n",
       "  </thead>\n",
       "  <tbody>\n",
       "    <tr>\n",
       "      <th>0</th>\n",
       "      <td>mul_m</td>\n",
       "      <td>MI</td>\n",
       "      <td>RF</td>\n",
       "      <td>1466</td>\n",
       "      <td>0.436782</td>\n",
       "      <td>0.453337</td>\n",
       "      <td>0.482992</td>\n",
       "      <td>0.423543</td>\n",
       "      <td>NaN</td>\n",
       "      <td>amilcar22</td>\n",
       "      <td>223</td>\n",
       "      <td>2023-10-30 02:17:40.501231</td>\n",
       "      <td>modelo_1466_mul_m_MI_RF.pkl</td>\n",
       "      <td>{'selector__k': 1000, 'clasifier__n_estimators...</td>\n",
       "      <td>X_test:(87, 18875)</td>\n",
       "      <td>['ENSG00000001084.13', 'ENSG00000001460.18', '...</td>\n",
       "      <td>0.771446</td>\n",
       "      <td>[0.5651408450704225, 0.8314814814814814, 0.714...</td>\n",
       "      <td>[0.10526315789473684, 0.3157894736842105, 0.26...</td>\n",
       "    </tr>\n",
       "    <tr>\n",
       "      <th>0</th>\n",
       "      <td>mul_m</td>\n",
       "      <td>MI</td>\n",
       "      <td>LR_L2</td>\n",
       "      <td>1466</td>\n",
       "      <td>0.586207</td>\n",
       "      <td>0.575025</td>\n",
       "      <td>0.601765</td>\n",
       "      <td>0.579196</td>\n",
       "      <td>NaN</td>\n",
       "      <td>amilcar22</td>\n",
       "      <td>242</td>\n",
       "      <td>2023-10-30 02:13:50.541373</td>\n",
       "      <td>modelo_1466_mul_m_MI_LR_L2.pkl</td>\n",
       "      <td>{'selector__k': 1000, 'clasifier__solver': 'lb...</td>\n",
       "      <td>X_test:(87, 18875)</td>\n",
       "      <td>['ENSG00000001084.13', 'ENSG00000001460.18', '...</td>\n",
       "      <td>0.879383</td>\n",
       "      <td>[0.8565140845070423, 0.8731481481481482, 0.805...</td>\n",
       "      <td>[0.38095238095238093, 0.45, 0.2222222222222222...</td>\n",
       "    </tr>\n",
       "    <tr>\n",
       "      <th>0</th>\n",
       "      <td>mul_m</td>\n",
       "      <td>MI</td>\n",
       "      <td>LR_L1</td>\n",
       "      <td>1466</td>\n",
       "      <td>0.620690</td>\n",
       "      <td>0.622900</td>\n",
       "      <td>0.655900</td>\n",
       "      <td>0.620816</td>\n",
       "      <td>NaN</td>\n",
       "      <td>amilcar22</td>\n",
       "      <td>2203</td>\n",
       "      <td>2023-10-30 02:09:41.741808</td>\n",
       "      <td>modelo_1466_mul_m_MI_LR_L1.pkl</td>\n",
       "      <td>{'selector__k': 1000, 'clasifier__solver': 'sa...</td>\n",
       "      <td>X_test:(87, 18875)</td>\n",
       "      <td>['ENSG00000001084.13', 'ENSG00000001460.18', '...</td>\n",
       "      <td>0.881516</td>\n",
       "      <td>[0.8362676056338028, 0.8777777777777779, 0.811...</td>\n",
       "      <td>[0.4444444444444444, 0.5555555555555556, 0.277...</td>\n",
       "    </tr>\n",
       "  </tbody>\n",
       "</table>\n",
       "</div>"
      ],
      "text/plain": [
       "    tipo select clasific  semilla  accuracy  precision    recall  f1_score  \\\n",
       "0  mul_m     MI       RF     1466  0.436782   0.453337  0.482992  0.423543   \n",
       "0  mul_m     MI    LR_L2     1466  0.586207   0.575025  0.601765  0.579196   \n",
       "0  mul_m     MI    LR_L1     1466  0.620690   0.622900  0.655900  0.620816   \n",
       "\n",
       "   roc_auc   hostname  total_time_sec                    datetime  \\\n",
       "0      NaN  amilcar22             223  2023-10-30 02:17:40.501231   \n",
       "0      NaN  amilcar22             242  2023-10-30 02:13:50.541373   \n",
       "0      NaN  amilcar22            2203  2023-10-30 02:09:41.741808   \n",
       "\n",
       "                   fichero_modelo  \\\n",
       "0     modelo_1466_mul_m_MI_RF.pkl   \n",
       "0  modelo_1466_mul_m_MI_LR_L2.pkl   \n",
       "0  modelo_1466_mul_m_MI_LR_L1.pkl   \n",
       "\n",
       "                                              params               shape  \\\n",
       "0  {'selector__k': 1000, 'clasifier__n_estimators...  X_test:(87, 18875)   \n",
       "0  {'selector__k': 1000, 'clasifier__solver': 'lb...  X_test:(87, 18875)   \n",
       "0  {'selector__k': 1000, 'clasifier__solver': 'sa...  X_test:(87, 18875)   \n",
       "\n",
       "                                            features  roc_auc_ovr  \\\n",
       "0  ['ENSG00000001084.13', 'ENSG00000001460.18', '...     0.771446   \n",
       "0  ['ENSG00000001084.13', 'ENSG00000001460.18', '...     0.879383   \n",
       "0  ['ENSG00000001084.13', 'ENSG00000001460.18', '...     0.881516   \n",
       "\n",
       "                                         indices_auc  \\\n",
       "0  [0.5651408450704225, 0.8314814814814814, 0.714...   \n",
       "0  [0.8565140845070423, 0.8731481481481482, 0.805...   \n",
       "0  [0.8362676056338028, 0.8777777777777779, 0.811...   \n",
       "\n",
       "                                     indices_jaccard  \n",
       "0  [0.10526315789473684, 0.3157894736842105, 0.26...  \n",
       "0  [0.38095238095238093, 0.45, 0.2222222222222222...  \n",
       "0  [0.4444444444444444, 0.5555555555555556, 0.277...  "
      ]
     },
     "metadata": {},
     "output_type": "display_data"
    }
   ],
   "source": [
    "if M_TIPO.startswith(\"bin\"):\n",
    "    myfunc.save_metricas_to_csv(random_search, X_test, y_test, M_TIPO, M_SELECT, M_CLASIF, total_time, SEMILLA, myfunc.MET_DIR, M_FICHERO, fichero_modelo)\n",
    "else:\n",
    "    myfunc.save_metricas_multi_to_csv(random_search, X_test, y_test, M_TIPO, M_SELECT, M_CLASIF, total_time, SEMILLA, myfunc.MET_DIR, M_FICHERO, fichero_modelo)\n",
    "\n",
    "df1=myfunc.read_metricas_to_df(myfunc.MET_DIR,M_FICHERO)\n",
    "\n",
    "display(df1.sort_values(\"datetime\", ascending=False)[:3])\n"
   ]
  },
  {
   "cell_type": "markdown",
   "id": "e7d36297",
   "metadata": {
    "papermill": {
     "duration": 0.004468,
     "end_time": "2023-10-30T01:17:40.540809",
     "exception": false,
     "start_time": "2023-10-30T01:17:40.536341",
     "status": "completed"
    },
    "tags": []
   },
   "source": [
    "#### Guardar resultados"
   ]
  },
  {
   "cell_type": "code",
   "execution_count": 13,
   "id": "89a02db5",
   "metadata": {
    "execution": {
     "iopub.execute_input": "2023-10-30T01:17:40.550525Z",
     "iopub.status.busy": "2023-10-30T01:17:40.550326Z",
     "iopub.status.idle": "2023-10-30T01:17:40.558981Z",
     "shell.execute_reply": "2023-10-30T01:17:40.558457Z"
    },
    "papermill": {
     "duration": 0.01487,
     "end_time": "2023-10-30T01:17:40.560196",
     "exception": false,
     "start_time": "2023-10-30T01:17:40.545326",
     "status": "completed"
    },
    "tags": []
   },
   "outputs": [
    {
     "name": "stdout",
     "output_type": "stream",
     "text": [
      "20231030T021740 : amilcar22 : INFO : Inicio guardar resultados\n",
      "20231030T021740 : amilcar22 : INFO : Inicio guardar fichero ../tfm_git/ejecuciones/metricas/resultados_1466_mul_m-MI-RF.csv\n",
      "20231030T021740 : amilcar22 : INFO : Fin guardar fichero ../tfm_git/ejecuciones/metricas/resultados_1466_mul_m-MI-RF.csv\n",
      "20231030T021740 : amilcar22 : INFO : Fin guardar resultados\n"
     ]
    }
   ],
   "source": [
    "fichero_resultados=R_FICHERO+\"_\"+M_TIPO+\"-\"+M_SELECT+\"-\"+M_CLASIF+\".csv\"\n",
    "myfunc.save_resultados_to_csv(M_TIPO, M_SELECT, M_CLASIF,  random_search, myfunc.MET_DIR, fichero_resultados)\n"
   ]
  }
 ],
 "metadata": {
  "kernelspec": {
   "display_name": "Python 3 (ipykernel)",
   "language": "python",
   "name": "python3"
  },
  "language_info": {
   "codemirror_mode": {
    "name": "ipython",
    "version": 3
   },
   "file_extension": ".py",
   "mimetype": "text/x-python",
   "name": "python",
   "nbconvert_exporter": "python",
   "pygments_lexer": "ipython3",
   "version": "3.10.12"
  },
  "papermill": {
   "default_parameters": {},
   "duration": 228.444524,
   "end_time": "2023-10-30T01:17:43.182309",
   "environment_variables": {},
   "exception": null,
   "input_path": "03_entrenamiento.ipynb",
   "output_path": "ejecuciones/training/03_entrenamiento.20231030T021354.param_0000_1466_mul_m_MI_RF.output.ipynb",
   "parameters": {
    "MAX_ITERS": 500,
    "M_CLASIF": "RF",
    "M_FICHERO": "metricas_1466",
    "M_SELECT": "MI",
    "M_TIPO": "mul_m",
    "PRE_DATA_FILE": "rows_transpose_norm_by_gene_id_with_target_num_",
    "P_FICHERO": "param_0000_1466_mul_m_MI_RF.yaml",
    "R_FICHERO": "resultados_1466",
    "SCORING": "roc_auc_ovr",
    "SEMILLA": 1466,
    "eval_clasifier": "RandomForestClassifier(random_state=SEMILLA)",
    "eval_selector": "SelectKBest(score_func=mutual_info_classif_state)",
    "param_distributions": {
     "clasifier__bootstrap": [
      true
     ],
     "clasifier__max_depth": [
      10
     ],
     "clasifier__max_features": [
      500
     ],
     "clasifier__min_samples_leaf": [
      5
     ],
     "clasifier__min_samples_split": [
      10
     ],
     "clasifier__n_estimators": [
      200
     ],
     "selector__k": [
      1000
     ]
    }
   },
   "start_time": "2023-10-30T01:13:54.737785",
   "version": "2.4.0"
  }
 },
 "nbformat": 4,
 "nbformat_minor": 5
}