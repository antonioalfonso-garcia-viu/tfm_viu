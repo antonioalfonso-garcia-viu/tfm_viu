{
 "cells": [
  {
   "cell_type": "markdown",
   "id": "c0cc8141",
   "metadata": {
    "papermill": {
     "duration": 0.004573,
     "end_time": "2023-10-27T20:20:27.644836",
     "exception": false,
     "start_time": "2023-10-27T20:20:27.640263",
     "status": "completed"
    },
    "tags": []
   },
   "source": [
    "##### Inicio"
   ]
  },
  {
   "cell_type": "markdown",
   "id": "51e60474",
   "metadata": {
    "papermill": {
     "duration": 0.003726,
     "end_time": "2023-10-27T20:20:27.652593",
     "exception": false,
     "start_time": "2023-10-27T20:20:27.648867",
     "status": "completed"
    },
    "tags": []
   },
   "source": [
    "#### Carga de datos"
   ]
  },
  {
   "cell_type": "code",
   "execution_count": 1,
   "id": "f2eca98e",
   "metadata": {
    "execution": {
     "iopub.execute_input": "2023-10-27T20:20:27.661641Z",
     "iopub.status.busy": "2023-10-27T20:20:27.661197Z",
     "iopub.status.idle": "2023-10-27T20:20:28.534500Z",
     "shell.execute_reply": "2023-10-27T20:20:28.533876Z"
    },
    "papermill": {
     "duration": 0.879353,
     "end_time": "2023-10-27T20:20:28.535832",
     "exception": false,
     "start_time": "2023-10-27T20:20:27.656479",
     "status": "completed"
    },
    "tags": []
   },
   "outputs": [
    {
     "name": "stdout",
     "output_type": "stream",
     "text": [
      "CPU_COUNT: 8; NODE: amilcar22; sys.version: 3.10.12 (main, Jul  5 2023, 19:22:19) [GCC 11.2.0]\n",
      "LOKY_MAX_CPU_COUNT: 6\n",
      "OMP_NUM_THREADS: 2\n"
     ]
    }
   ],
   "source": [
    "import os\n",
    "import numpy as np\n",
    "import pandas as pd\n",
    "import datetime\n",
    "import sklearn\n",
    "import logging\n",
    "import warnings\n",
    "\n",
    "from sklearn.pipeline import Pipeline\n",
    "from sklearn.model_selection import RandomizedSearchCV, KFold, cross_val_score, train_test_split\n",
    "from sklearn.metrics import accuracy_score, confusion_matrix, classification_report, roc_auc_score\n",
    "\n",
    "#  cargar algoritmos para aprendizaje supervisado\n",
    "from sklearn.feature_selection import SelectKBest, f_classif, SelectFromModel, mutual_info_classif\n",
    "from sklearn.svm import SVC\n",
    "from sklearn.ensemble import RandomForestClassifier\n",
    "from sklearn.linear_model import LogisticRegression,LogisticRegressionCV\n",
    "\n",
    "# importar fichero con utilidades propias\n",
    "from commons import myfunctions as myfunc\n"
   ]
  },
  {
   "cell_type": "markdown",
   "id": "9d982432",
   "metadata": {
    "papermill": {
     "duration": 0.00249,
     "end_time": "2023-10-27T20:20:28.541181",
     "exception": false,
     "start_time": "2023-10-27T20:20:28.538691",
     "status": "completed"
    },
    "tags": []
   },
   "source": [
    "#### Parámetros a utilizar en el entrenamiento.\n",
    "\n",
    "Se indican los 3 algoritmos de *selección de características* (eval_selector_xxx) y los 3 algoritmos para la _clasificación_ (eval_clasifier_xxx)\n",
    "\n",
    "En *param_distributions* se indicar los parámetros que utilizan los algoritmos en la función RandomSearchCV.\n",
    "\n",
    "Esta celda tiene la etiqueta **parameters** que servirá para poder lanzar los entrenamientos con la utilidad **papermill** pasándole un fichero con los parámetros. Los nuevos parámetros se situarán tras esta celda para tener prevalencia."
   ]
  },
  {
   "cell_type": "code",
   "execution_count": 2,
   "id": "d3245908",
   "metadata": {
    "execution": {
     "iopub.execute_input": "2023-10-27T20:20:28.547178Z",
     "iopub.status.busy": "2023-10-27T20:20:28.546867Z",
     "iopub.status.idle": "2023-10-27T20:20:28.553857Z",
     "shell.execute_reply": "2023-10-27T20:20:28.553439Z"
    },
    "papermill": {
     "duration": 0.011442,
     "end_time": "2023-10-27T20:20:28.555061",
     "exception": false,
     "start_time": "2023-10-27T20:20:28.543619",
     "status": "completed"
    },
    "tags": [
     "parameters"
    ]
   },
   "outputs": [
    {
     "name": "stdout",
     "output_type": "stream",
     "text": [
      "20231027T222028 : amilcar22 : INFO : Utilizando parámetros de mul_m\n"
     ]
    }
   ],
   "source": [
    "#  Parametros para el entrenamiento\n",
    "\n",
    "SEMILLA=        42\n",
    "M_TIPO=         \"mul_m\"\n",
    "M_SELECT=       \"MI\"\n",
    "M_CLASIF=       \"SVM\"\n",
    "R_FICHERO=      \"resultados\"\n",
    "M_FICHERO=      \"metricas\"\n",
    "PRE_DATA_FILE=  \"rows_transpose_norm_by_gene_id_with_target_num_\"\n",
    "SCORING=        \"roc_auc_ovr\" \n",
    "MAX_ITERS=      100\n",
    "\n",
    "def mutual_info_classif_state(X, y):\n",
    "    return mutual_info_classif(X, y, random_state=SEMILLA)\n",
    "\n",
    "eval_selector_mi = \"SelectKBest(score_func=mutual_info_classif_state)\"\n",
    "eval_selector_rf=  \"SelectFromModel(estimator=RandomForestClassifier(random_state=SEMILLA), threshold=-np.inf)\"\n",
    "eval_selector_anova=  \"SelectKBest(score_func=f_classif)\"\n",
    "\n",
    "eval_clasifier_svm= \"SVC(probability=True, random_state=SEMILLA)\"\n",
    "eval_clasifier_rf= \"RandomForestClassifier(random_state=SEMILLA)\"\n",
    "eval_clasifier_lr= \"LogisticRegressionCV(random_state=SEMILLA)\"\n",
    "\n",
    "if M_TIPO.startswith(\"bin_m\"):\n",
    "    myfunc.verbose(f\"Utilizando parámetros de {M_TIPO}\")\n",
    "    eval_selector = eval_selector_mi\n",
    "    eval_clasifier = eval_clasifier_svm\n",
    "\n",
    "    SEMILLA = 6578\n",
    "    M_SELECT = \"MI\"\n",
    "    M_CLASIF = \"SVM\"\n",
    "    param_distributions = {'selector__k': [1000], \n",
    "         'clasifier__kernel': ['rbf'], 'clasifier__gamma': [0.01], 'clasifier__C': [100]}\n",
    "elif M_TIPO.startswith(\"bin_s\"):\n",
    "    myfunc.verbose(f\"Utilizando parámetros de {M_TIPO}\")\n",
    "    eval_selector = eval_selector_rf\n",
    "    eval_clasifier = eval_clasifier_lr\n",
    "\n",
    "    SEMILLA = 6191\n",
    "    M_SELECT = \"RF\"\n",
    "    M_CLASIF = \"LR_L2\"\n",
    "    param_distributions = {'selector__max_features': [1000], 'selector__estimator__n_estimators': [200], \n",
    "        'clasifier__solver': ['lbfgs'], 'clasifier__penalty': ['l2'], 'clasifier__max_iter': [10000]}\n",
    "\n",
    "elif M_TIPO.startswith(\"mul_m\"):\n",
    "    myfunc.verbose(f\"Utilizando parámetros de {M_TIPO}\")\n",
    " \n",
    "    eval_selector = eval_selector_rf\n",
    "    eval_clasifier = eval_clasifier_lr\n",
    "\n",
    "    SEMILLA = 6191\n",
    "    M_SELECT = \"RF\"\n",
    "    M_CLASIF = \"LR_L2\"\n",
    "    param_distributions = {'selector__max_features': [1000], 'selector__estimator__n_estimators': [400], \n",
    "        'clasifier__solver': ['lbfgs'], 'clasifier__penalty': ['l2'], 'clasifier__max_iter': [10000]}\n",
    "\n",
    "else:\n",
    "    # M_TIPO.startswith(\"mul_s\"):\n",
    "    myfunc.verbose(f\"Utilizando parámetros de {M_TIPO}\")\n",
    "    eval_selector = eval_selector_anova\n",
    "    eval_clasifier = eval_clasifier_lr\n",
    "\n",
    "    SEMILLA = 1860\n",
    "    M_SELECT = \"ANOVA\"\n",
    "    M_CLASIF = \"LR_L2\"\n",
    "    param_distributions = {'selector__k': [1000], \n",
    "        'clasifier__solver': ['saga'], 'clasifier__penalty': ['l2'], 'clasifier__max_iter': [10000]}\n",
    "\n"
   ]
  },
  {
   "cell_type": "code",
   "execution_count": 3,
   "id": "9333e1f5",
   "metadata": {
    "execution": {
     "iopub.execute_input": "2023-10-27T20:20:28.561343Z",
     "iopub.status.busy": "2023-10-27T20:20:28.561122Z",
     "iopub.status.idle": "2023-10-27T20:20:28.564729Z",
     "shell.execute_reply": "2023-10-27T20:20:28.564220Z"
    },
    "papermill": {
     "duration": 0.008076,
     "end_time": "2023-10-27T20:20:28.565935",
     "exception": false,
     "start_time": "2023-10-27T20:20:28.557859",
     "status": "completed"
    },
    "tags": [
     "injected-parameters"
    ]
   },
   "outputs": [],
   "source": [
    "# Parameters\n",
    "M_TIPO = \"mul_m\"\n",
    "M_SELECT = \"MI\"\n",
    "M_CLASIF = \"SVM\"\n",
    "P_FICHERO = \"param_0000_0042_mul_m_MI_SVM.yaml\"\n",
    "R_FICHERO = \"resultados_0042\"\n",
    "M_FICHERO = \"metricas_0042\"\n",
    "PRE_DATA_FILE = \"rows_transpose_norm_by_gene_id_with_target_num_\"\n",
    "SCORING = \"roc_auc_ovr\"\n",
    "SEMILLA = 42\n",
    "MAX_ITERS = 500\n",
    "eval_selector = \"SelectKBest(score_func=mutual_info_classif_state)\"\n",
    "eval_clasifier = \"SVC(probability=True, random_state=SEMILLA)\"\n",
    "param_distributions = {\n",
    "    \"selector__k\": [1000],\n",
    "    \"clasifier__kernel\": [\"rbf\"],\n",
    "    \"clasifier__gamma\": [0.001],\n",
    "    \"clasifier__C\": [100],\n",
    "}\n"
   ]
  },
  {
   "cell_type": "code",
   "execution_count": 4,
   "id": "bd8b9868",
   "metadata": {
    "execution": {
     "iopub.execute_input": "2023-10-27T20:20:28.572233Z",
     "iopub.status.busy": "2023-10-27T20:20:28.572007Z",
     "iopub.status.idle": "2023-10-27T20:20:28.574982Z",
     "shell.execute_reply": "2023-10-27T20:20:28.574562Z"
    },
    "papermill": {
     "duration": 0.007475,
     "end_time": "2023-10-27T20:20:28.576173",
     "exception": false,
     "start_time": "2023-10-27T20:20:28.568698",
     "status": "completed"
    },
    "tags": []
   },
   "outputs": [],
   "source": [
    "DATA_FILE = PRE_DATA_FILE + M_TIPO\n",
    "\n",
    "# si viene \"None\" en el parámetro max_depth, se le quitan las comillas para que no sea entendido por el algoritmo como un texto\n",
    "if \"clasifier__max_depth\" in param_distributions:\n",
    "    param_distributions['clasifier__max_depth'] = [None if x == 'None' else x for x in param_distributions['clasifier__max_depth']]"
   ]
  },
  {
   "cell_type": "markdown",
   "id": "e95522e0",
   "metadata": {
    "papermill": {
     "duration": 0.002624,
     "end_time": "2023-10-27T20:20:28.581579",
     "exception": false,
     "start_time": "2023-10-27T20:20:28.578955",
     "status": "completed"
    },
    "tags": []
   },
   "source": [
    "Asignar los algoritmos que se utilizarán en la función RandomSearchCV"
   ]
  },
  {
   "cell_type": "code",
   "execution_count": 5,
   "id": "246788fc",
   "metadata": {
    "execution": {
     "iopub.execute_input": "2023-10-27T20:20:28.587472Z",
     "iopub.status.busy": "2023-10-27T20:20:28.587284Z",
     "iopub.status.idle": "2023-10-27T20:20:28.589989Z",
     "shell.execute_reply": "2023-10-27T20:20:28.589427Z"
    },
    "papermill": {
     "duration": 0.007025,
     "end_time": "2023-10-27T20:20:28.591207",
     "exception": false,
     "start_time": "2023-10-27T20:20:28.584182",
     "status": "completed"
    },
    "tags": []
   },
   "outputs": [],
   "source": [
    "algor_selector=eval(eval_selector)\n",
    "algor_clasifier=eval(eval_clasifier)"
   ]
  },
  {
   "cell_type": "markdown",
   "id": "44d2a0c6",
   "metadata": {
    "papermill": {
     "duration": 0.002729,
     "end_time": "2023-10-27T20:20:28.596757",
     "exception": false,
     "start_time": "2023-10-27T20:20:28.594028",
     "status": "completed"
    },
    "tags": []
   },
   "source": [
    "#### Comprobar el entorno y leer fichero de muestras"
   ]
  },
  {
   "cell_type": "code",
   "execution_count": 6,
   "id": "1181c256",
   "metadata": {
    "execution": {
     "iopub.execute_input": "2023-10-27T20:20:28.602688Z",
     "iopub.status.busy": "2023-10-27T20:20:28.602497Z",
     "iopub.status.idle": "2023-10-27T20:20:28.758080Z",
     "shell.execute_reply": "2023-10-27T20:20:28.757512Z"
    },
    "papermill": {
     "duration": 0.160116,
     "end_time": "2023-10-27T20:20:28.759408",
     "exception": false,
     "start_time": "2023-10-27T20:20:28.599292",
     "status": "completed"
    },
    "tags": []
   },
   "outputs": [
    {
     "name": "stdout",
     "output_type": "stream",
     "text": [
      "20231027T222028 : amilcar22 : INFO : Encontrada carpeta DATA_DIR=../tfm_git/datos\n",
      "20231027T222028 : amilcar22 : INFO : Encontrada carpeta CFDNA_DIR=../tfm_git/datos/cfDNA_5hmC\n",
      "20231027T222028 : amilcar22 : INFO : Encontrada carpeta GENCODE_DIR=../tfm_git/datos/gencode\n",
      "20231027T222028 : amilcar22 : INFO : Encontrada carpeta H5_DIR=../tfm_git/datos/h5\n",
      "20231027T222028 : amilcar22 : INFO : Encontrada carpeta LOG_DIR=../tfm_git/datos/logs\n",
      "20231027T222028 : amilcar22 : INFO : Encontrada carpeta CSV_DIR=../tfm_git/datos/csv\n",
      "20231027T222028 : amilcar22 : INFO : Encontrada carpeta MODEL_DIR=../tfm_git/ejecuciones/modelos\n",
      "20231027T222028 : amilcar22 : INFO : Encontrada carpeta EXEC_DIR=../tfm_git/ejecuciones\n",
      "20231027T222028 : amilcar22 : INFO : Encontrada carpeta MET_DIR=../tfm_git/ejecuciones/metricas\n",
      "20231027T222028 : amilcar22 : INFO : Inicio leer fichero h5 ../tfm_git/datos/h5/rows_transpose_norm_by_gene_id_with_target_num_mul_m.h5\n",
      "20231027T222028 : amilcar22 : INFO : Leyendo clave /df\n",
      "20231027T222028 : amilcar22 : INFO : Tamaño (434, 18876)\n",
      "20231027T222028 : amilcar22 : INFO : Fin leer fichero h5 ../tfm_git/datos/h5/rows_transpose_norm_by_gene_id_with_target_num_mul_m.h5\n"
     ]
    },
    {
     "data": {
      "text/plain": [
       "target\n",
       "0    62\n",
       "1    62\n",
       "2    62\n",
       "3    62\n",
       "4    62\n",
       "5    62\n",
       "6    62\n",
       "dtype: int64"
      ]
     },
     "metadata": {},
     "output_type": "display_data"
    },
    {
     "name": "stdout",
     "output_type": "stream",
     "text": [
      "Shape df: (434, 18876)\n"
     ]
    },
    {
     "name": "stdout",
     "output_type": "stream",
     "text": [
      "Shape X_train: (347, 18875)\n",
      "Shape X_test: (87, 18875)\n"
     ]
    }
   ],
   "source": [
    "start_time = datetime.datetime.now()\n",
    "\n",
    "myfunc.reset_vars()\n",
    "\n",
    "myfunc.NOTEBK_FILENAME = myfunc.get_nb_name()\n",
    "\n",
    "myfunc.check_enviroment(myfunc.DATA_DIR, myfunc.CFDNA_DIR, myfunc.GENCODE_DIR, myfunc.H5_DIR, myfunc.LOG_DIR, myfunc.CSV_DIR, myfunc.MODEL_DIR, myfunc.EXEC_DIR, myfunc.MET_DIR)\n",
    "\n",
    "# Leer fichero con las muestras\n",
    "df_t = myfunc.read_h5_to_df(DATA_FILE, myfunc.H5_DIR)\n",
    "display(df_t.groupby(\"target\").size())\n",
    "print(\"Shape df:\",df_t.shape)\n",
    "\n",
    "# Separar caracteristicas/genes de las etiquetas/tipos de cáncer\n",
    "X = df_t.iloc[:, :-1]  # Todas las columnas excepto la última\n",
    "y = df_t.iloc[:, -1]  # La última columna contiene los identificadores de los tipos de cáncer\n",
    "\n",
    "#  Crear el conjunto de datos de entrenamiento y de pruebas\n",
    "X_train, X_test, y_train, y_test = train_test_split(X, y, test_size=0.2, shuffle=True, random_state=SEMILLA)\n",
    "print(\"Shape X_train:\",X_train.shape)\n",
    "print(\"Shape X_test:\",X_test.shape)\n"
   ]
  },
  {
   "cell_type": "markdown",
   "id": "e6953d57",
   "metadata": {
    "papermill": {
     "duration": 0.002925,
     "end_time": "2023-10-27T20:20:28.765874",
     "exception": false,
     "start_time": "2023-10-27T20:20:28.762949",
     "status": "completed"
    },
    "tags": []
   },
   "source": [
    "#### Selección de características y clasificación."
   ]
  },
  {
   "cell_type": "code",
   "execution_count": 7,
   "id": "4560bc64",
   "metadata": {
    "execution": {
     "iopub.execute_input": "2023-10-27T20:20:28.772424Z",
     "iopub.status.busy": "2023-10-27T20:20:28.772225Z",
     "iopub.status.idle": "2023-10-27T20:23:52.420221Z",
     "shell.execute_reply": "2023-10-27T20:23:52.419572Z"
    },
    "papermill": {
     "duration": 203.655012,
     "end_time": "2023-10-27T20:23:52.423770",
     "exception": false,
     "start_time": "2023-10-27T20:20:28.768758",
     "status": "completed"
    },
    "tags": []
   },
   "outputs": [
    {
     "name": "stdout",
     "output_type": "stream",
     "text": [
      "20231027T222028 : amilcar22 : INFO : Iniciando entrenamiento\n",
      "num_iter: 1 , max_iter: 1\n",
      "Fitting 5 folds for each of 1 candidates, totalling 5 fits\n"
     ]
    },
    {
     "name": "stdout",
     "output_type": "stream",
     "text": [
      "Mejores Hiperparámetros: {'selector__k': 1000, 'clasifier__kernel': 'rbf', 'clasifier__gamma': 0.001, 'clasifier__C': 100}\n",
      "Mejor Puntuación: 0.8743\n",
      "20231027T222352 : amilcar22 : INFO : Fin entrenamiento\n"
     ]
    }
   ],
   "source": [
    "myfunc.verbose(\"Iniciando entrenamiento\")\n",
    "\n",
    "kf = KFold(n_splits=5, shuffle=True, random_state=SEMILLA)\n",
    "\n",
    "# Crear el pipeline para el flujo de tareas\n",
    "tasks_pipeline = Pipeline([\n",
    "    ('selector', algor_selector),\n",
    "    ('clasifier', algor_clasifier)\n",
    "])\n",
    "\n",
    "# MAX_ITERS puede limitar el número de iteraciones si son excesivas para las combinaciones de parámetros buscando un óptimo local, \n",
    "# sino funcionaría como GridSearchCV al revisar todas las cominaciones de los parámetros\n",
    "num_iteraciones = 1\n",
    "num_iteraciones = num_iteraciones * np.prod([len(elemento1) for _, elemento1 in param_distributions.items()])\n",
    "max_iteraciones = num_iteraciones if num_iteraciones <= MAX_ITERS else MAX_ITERS\n",
    "print(\"num_iter:\",num_iteraciones,\", max_iter:\",max_iteraciones)\n",
    "\n",
    "random_search = RandomizedSearchCV(\n",
    "    tasks_pipeline, \n",
    "    param_distributions, \n",
    "    n_iter=max_iteraciones,\n",
    "    scoring=SCORING,\n",
    "    cv=kf,\n",
    "    verbose=3, \n",
    "    random_state=SEMILLA, \n",
    "    n_jobs=-1\n",
    "    )\n",
    "\n",
    "# Entrenar el modelo\n",
    "random_search.fit(X_train, y_train)\n",
    "\n",
    "# Ver los mejores hiperparámetros encontrados\n",
    "print(f'Mejores Hiperparámetros: {random_search.best_params_}')\n",
    "print(f'Mejor Puntuación: {random_search.best_score_:.4f}')\n",
    "\n",
    "# Nos quedamos con el mejor modelo para ver las métricas\n",
    "mejor_modelo = random_search.best_estimator_\n",
    "\n",
    "myfunc.verbose(\"Fin entrenamiento\")"
   ]
  },
  {
   "cell_type": "markdown",
   "id": "07687cef",
   "metadata": {
    "papermill": {
     "duration": 0.002987,
     "end_time": "2023-10-27T20:23:52.429839",
     "exception": false,
     "start_time": "2023-10-27T20:23:52.426852",
     "status": "completed"
    },
    "tags": []
   },
   "source": [
    "#### Guardar modelo"
   ]
  },
  {
   "cell_type": "code",
   "execution_count": 8,
   "id": "9c3ff0b8",
   "metadata": {
    "execution": {
     "iopub.execute_input": "2023-10-27T20:23:52.436657Z",
     "iopub.status.busy": "2023-10-27T20:23:52.436458Z",
     "iopub.status.idle": "2023-10-27T20:23:52.445360Z",
     "shell.execute_reply": "2023-10-27T20:23:52.444767Z"
    },
    "papermill": {
     "duration": 0.013958,
     "end_time": "2023-10-27T20:23:52.446737",
     "exception": false,
     "start_time": "2023-10-27T20:23:52.432779",
     "status": "completed"
    },
    "tags": []
   },
   "outputs": [
    {
     "name": "stdout",
     "output_type": "stream",
     "text": [
      "20231027T222352 : amilcar22 : INFO : Inicio guardar fichero ../tfm_git/ejecuciones/modelos/modelo_0042_mul_m_MI_SVM.pkl\n",
      "20231027T222352 : amilcar22 : INFO : Fin guardar fichero ../tfm_git/ejecuciones/modelos/modelo_0042_mul_m_MI_SVM.pkl\n"
     ]
    }
   ],
   "source": [
    "fichero_modelo = str.replace(\"modelo_\"+str(SEMILLA).zfill(4)+\"_\"+M_TIPO+\"_\"+M_SELECT+\"_\"+M_CLASIF+\".pkl\", \" \", \"_\")\n",
    "\n",
    "myfunc.save_modelo(mejor_modelo, myfunc.MODEL_DIR, fichero_modelo)"
   ]
  },
  {
   "cell_type": "markdown",
   "id": "5593a666",
   "metadata": {
    "papermill": {
     "duration": 0.003208,
     "end_time": "2023-10-27T20:23:52.453505",
     "exception": false,
     "start_time": "2023-10-27T20:23:52.450297",
     "status": "completed"
    },
    "tags": []
   },
   "source": [
    "#### Ver resultados del las iteraciones hechas por RandomSearchCV"
   ]
  },
  {
   "cell_type": "code",
   "execution_count": 9,
   "id": "82bc4c45",
   "metadata": {
    "execution": {
     "iopub.execute_input": "2023-10-27T20:23:52.460567Z",
     "iopub.status.busy": "2023-10-27T20:23:52.460379Z",
     "iopub.status.idle": "2023-10-27T20:23:52.466131Z",
     "shell.execute_reply": "2023-10-27T20:23:52.465703Z"
    },
    "papermill": {
     "duration": 0.010567,
     "end_time": "2023-10-27T20:23:52.467334",
     "exception": false,
     "start_time": "2023-10-27T20:23:52.456767",
     "status": "completed"
    },
    "tags": []
   },
   "outputs": [
    {
     "name": "stdout",
     "output_type": "stream",
     "text": [
      "20231027T222352 : amilcar22 : INFO : Inicio ver resultados\n",
      "Mejores Hiperparámetros: {'selector__k': 1000, 'clasifier__kernel': 'rbf', 'clasifier__gamma': 0.001, 'clasifier__C': 100}\n",
      "Mejores puntuaciones: 0.8743 | Params: {'selector__k': 1000, 'clasifier__kernel': 'rbf', 'clasifier__gamma': 0.001, 'clasifier__C': 100}\n",
      "Media de las puntuaciones: 0.8743 | Params: {'selector__k': 1000, 'clasifier__kernel': 'rbf', 'clasifier__gamma': 0.001, 'clasifier__C': 100}\n",
      "20231027T222352 : amilcar22 : INFO : Fin resultados\n"
     ]
    }
   ],
   "source": [
    "myfunc.ver_resultados_search(random_search)"
   ]
  },
  {
   "cell_type": "markdown",
   "id": "c100626c",
   "metadata": {
    "papermill": {
     "duration": 0.003133,
     "end_time": "2023-10-27T20:23:52.473768",
     "exception": false,
     "start_time": "2023-10-27T20:23:52.470635",
     "status": "completed"
    },
    "tags": []
   },
   "source": [
    "#### Ver métricas del mejor modelo"
   ]
  },
  {
   "cell_type": "code",
   "execution_count": 10,
   "id": "5ccf4447",
   "metadata": {
    "execution": {
     "iopub.execute_input": "2023-10-27T20:23:52.480802Z",
     "iopub.status.busy": "2023-10-27T20:23:52.480608Z",
     "iopub.status.idle": "2023-10-27T20:23:53.095675Z",
     "shell.execute_reply": "2023-10-27T20:23:53.095152Z"
    },
    "papermill": {
     "duration": 0.620074,
     "end_time": "2023-10-27T20:23:53.096941",
     "exception": false,
     "start_time": "2023-10-27T20:23:52.476867",
     "status": "completed"
    },
    "tags": []
   },
   "outputs": [
    {
     "name": "stdout",
     "output_type": "stream",
     "text": [
      "20231027T222352 : amilcar22 : INFO : Inicio ver métricas multiclase\n"
     ]
    },
    {
     "name": "stdout",
     "output_type": "stream",
     "text": [
      "              precision    recall  f1-score   support\n",
      "\n",
      "           0       0.50      0.38      0.43        16\n",
      "           1       0.73      0.53      0.62        15\n",
      "           2       0.36      0.45      0.40        11\n",
      "           3       0.57      0.80      0.67         5\n",
      "           4       0.56      0.69      0.62        13\n",
      "           5       0.78      0.78      0.78         9\n",
      "           6       0.56      0.56      0.56        18\n",
      "\n",
      "    accuracy                           0.56        87\n",
      "   macro avg       0.58      0.60      0.58        87\n",
      "weighted avg       0.57      0.56      0.56        87\n",
      "\n",
      "\n",
      "\n",
      "           Exactitud: 0.563218\n",
      "   Precisión (media): 0.578811\n",
      "      Recall (media): 0.598360\n",
      "    F1-score (media): 0.580664\n",
      "\n",
      "\n",
      "AUC para el tipo de cáncer 0-Control.... 0.8125\n",
      "AUC para el tipo de cáncer 1-Bladder.... 0.8148\n",
      "AUC para el tipo de cáncer 2-Breast..... 0.7117\n",
      "AUC para el tipo de cáncer 3-Colorectal. 0.8902\n",
      "AUC para el tipo de cáncer 4-Kidney..... 0.8056\n",
      "AUC para el tipo de cáncer 5-Lung....... 0.9444\n",
      "AUC para el tipo de cáncer 6-Prostate... 0.8728\n",
      "\n",
      "Media de AUC: 0.8360\n"
     ]
    },
    {
     "data": {
      "image/png": "[encoded data removed]",
      "text/plain": [
       "<Figure size 1000x600 with 1 Axes>"
      ]
     },
     "metadata": {},
     "output_type": "display_data"
    },
    {
     "name": "stdout",
     "output_type": "stream",
     "text": [
      "\n",
      "\n"
     ]
    },
    {
     "data": {
      "image/png": "[encoded data removed]",
      "text/plain": [
       "<Figure size 800x400 with 2 Axes>"
      ]
     },
     "metadata": {},
     "output_type": "display_data"
    },
    {
     "name": "stdout",
     "output_type": "stream",
     "text": [
      "\n",
      "\n",
      "Puntuación Jaccard para el cáncer tipo 0-Control.... 0.2727\n",
      "Puntuación Jaccard para el cáncer tipo 1-Bladder.... 0.4444\n",
      "Puntuación Jaccard para el cáncer tipo 2-Breast..... 0.2500\n",
      "Puntuación Jaccard para el cáncer tipo 3-Colorectal. 0.5000\n",
      "Puntuación Jaccard para el cáncer tipo 4-Kidney..... 0.4500\n",
      "Puntuación Jaccard para el cáncer tipo 5-Lung....... 0.6364\n",
      "Puntuación Jaccard para el cáncer tipo 6-Prostate... 0.3846\n",
      "\n",
      "Media de la puntuación de Jaccard: 0.4197\n"
     ]
    }
   ],
   "source": [
    "if M_TIPO.startswith(\"bin\"):\n",
    "    myfunc.ver_metricas(mejor_modelo, X_test, y_test)\n",
    "else:\n",
    "    myfunc.ver_metricas_multi(mejor_modelo, X_test, y_test)\n"
   ]
  },
  {
   "cell_type": "markdown",
   "id": "34a9ed5b",
   "metadata": {
    "papermill": {
     "duration": 0.004224,
     "end_time": "2023-10-27T20:23:53.105866",
     "exception": false,
     "start_time": "2023-10-27T20:23:53.101642",
     "status": "completed"
    },
    "tags": []
   },
   "source": [
    "#### Finalización del notebook"
   ]
  },
  {
   "cell_type": "code",
   "execution_count": 11,
   "id": "658157dd",
   "metadata": {
    "execution": {
     "iopub.execute_input": "2023-10-27T20:23:53.114949Z",
     "iopub.status.busy": "2023-10-27T20:23:53.114763Z",
     "iopub.status.idle": "2023-10-27T20:23:53.118171Z",
     "shell.execute_reply": "2023-10-27T20:23:53.117602Z"
    },
    "papermill": {
     "duration": 0.009479,
     "end_time": "2023-10-27T20:23:53.119414",
     "exception": false,
     "start_time": "2023-10-27T20:23:53.109935",
     "status": "completed"
    },
    "tags": []
   },
   "outputs": [
    {
     "name": "stdout",
     "output_type": "stream",
     "text": [
      "20231027T222353 : amilcar22 : INFO : Notebook ha tardado 204 seconds\n"
     ]
    }
   ],
   "source": [
    "end_time = datetime.datetime.now()\n",
    "total_time = end_time - start_time\n",
    "myfunc.verbose(f\"Notebook ha tardado {total_time.seconds} seconds\")"
   ]
  },
  {
   "cell_type": "markdown",
   "id": "08000a4f",
   "metadata": {
    "papermill": {
     "duration": 0.004833,
     "end_time": "2023-10-27T20:23:53.129170",
     "exception": false,
     "start_time": "2023-10-27T20:23:53.124337",
     "status": "completed"
    },
    "tags": []
   },
   "source": [
    "#### Guardar métricas"
   ]
  },
  {
   "cell_type": "code",
   "execution_count": 12,
   "id": "91142bf7",
   "metadata": {
    "execution": {
     "iopub.execute_input": "2023-10-27T20:23:53.139816Z",
     "iopub.status.busy": "2023-10-27T20:23:53.139624Z",
     "iopub.status.idle": "2023-10-27T20:23:53.375821Z",
     "shell.execute_reply": "2023-10-27T20:23:53.375215Z"
    },
    "papermill": {
     "duration": 0.243089,
     "end_time": "2023-10-27T20:23:53.377127",
     "exception": false,
     "start_time": "2023-10-27T20:23:53.134038",
     "status": "completed"
    },
    "tags": []
   },
   "outputs": [
    {
     "name": "stdout",
     "output_type": "stream",
     "text": [
      "20231027T222353 : amilcar22 : INFO : Inicio guardar métricas multiclase\n",
      "20231027T222353 : amilcar22 : INFO : Inicio leer fichero ../tfm_git/ejecuciones/metricas/metricas_0042.csv\n",
      "20231027T222353 : amilcar22 : INFO : Fin leer fichero ../tfm_git/ejecuciones/metricas/metricas_0042.csv\n"
     ]
    },
    {
     "name": "stdout",
     "output_type": "stream",
     "text": [
      "20231027T222353 : amilcar22 : INFO : Inicio guardar fichero ../tfm_git/ejecuciones/metricas/metricas_0042.csv\n",
      "20231027T222353 : amilcar22 : INFO : Fichero borrado ../tfm_git/ejecuciones/metricas/metricas_0042.csv\n"
     ]
    },
    {
     "name": "stdout",
     "output_type": "stream",
     "text": [
      "20231027T222353 : amilcar22 : INFO : Fin guardar fichero ../tfm_git/ejecuciones/metricas/metricas_0042.csv\n",
      "20231027T222353 : amilcar22 : INFO : Fin guardar métricas multiclase\n",
      "20231027T222353 : amilcar22 : INFO : Inicio leer fichero ../tfm_git/ejecuciones/metricas/metricas_0042.csv\n",
      "20231027T222353 : amilcar22 : INFO : Fin leer fichero ../tfm_git/ejecuciones/metricas/metricas_0042.csv\n"
     ]
    },
    {
     "data": {
      "text/html": [
       "<div>\n",
       "<style scoped>\n",
       "    .dataframe tbody tr th:only-of-type {\n",
       "        vertical-align: middle;\n",
       "    }\n",
       "\n",
       "    .dataframe tbody tr th {\n",
       "        vertical-align: top;\n",
       "    }\n",
       "\n",
       "    .dataframe thead th {\n",
       "        text-align: right;\n",
       "    }\n",
       "</style>\n",
       "<table border=\"1\" class=\"dataframe\">\n",
       "  <thead>\n",
       "    <tr style=\"text-align: right;\">\n",
       "      <th></th>\n",
       "      <th>tipo</th>\n",
       "      <th>select</th>\n",
       "      <th>clasific</th>\n",
       "      <th>accuracy</th>\n",
       "      <th>precision</th>\n",
       "      <th>recall</th>\n",
       "      <th>f1_score</th>\n",
       "      <th>roc_auc</th>\n",
       "      <th>roc_auc_ovr</th>\n",
       "      <th>hostname</th>\n",
       "      <th>total_time_sec</th>\n",
       "      <th>datetime</th>\n",
       "      <th>fichero_modelo</th>\n",
       "      <th>params</th>\n",
       "      <th>shape</th>\n",
       "      <th>features</th>\n",
       "      <th>semilla</th>\n",
       "      <th>indices_auc</th>\n",
       "      <th>indices_jaccard</th>\n",
       "    </tr>\n",
       "  </thead>\n",
       "  <tbody>\n",
       "    <tr>\n",
       "      <th>0</th>\n",
       "      <td>mul_m</td>\n",
       "      <td>MI</td>\n",
       "      <td>SVM</td>\n",
       "      <td>0.563218</td>\n",
       "      <td>0.578811</td>\n",
       "      <td>0.598360</td>\n",
       "      <td>0.580664</td>\n",
       "      <td>NaN</td>\n",
       "      <td>0.836018</td>\n",
       "      <td>amilcar22</td>\n",
       "      <td>204</td>\n",
       "      <td>2023-10-27 22:23:53.329578</td>\n",
       "      <td>modelo_0042_mul_m_MI_SVM.pkl</td>\n",
       "      <td>{'selector__k': 1000, 'clasifier__kernel': 'rb...</td>\n",
       "      <td>X_test:(87, 18875)</td>\n",
       "      <td>['ENSG00000001084.13', 'ENSG00000001460.18', '...</td>\n",
       "      <td>42.0</td>\n",
       "      <td>[0.8125, 0.8148148148148148, 0.711722488038277...</td>\n",
       "      <td>[0.2727272727272727, 0.4444444444444444, 0.25,...</td>\n",
       "    </tr>\n",
       "    <tr>\n",
       "      <th>0</th>\n",
       "      <td>mul_m</td>\n",
       "      <td>MI</td>\n",
       "      <td>RF</td>\n",
       "      <td>0.448276</td>\n",
       "      <td>0.400874</td>\n",
       "      <td>0.477545</td>\n",
       "      <td>0.418321</td>\n",
       "      <td>NaN</td>\n",
       "      <td>0.811033</td>\n",
       "      <td>amilcar22</td>\n",
       "      <td>224</td>\n",
       "      <td>2023-10-27 22:20:22.517088</td>\n",
       "      <td>modelo_0042_mul_m_MI_RF.pkl</td>\n",
       "      <td>{'selector__k': 1000, 'clasifier__n_estimators...</td>\n",
       "      <td>X_test:(87, 18875)</td>\n",
       "      <td>['ENSG00000001084.13', 'ENSG00000001460.18', '...</td>\n",
       "      <td>42.0</td>\n",
       "      <td>[0.6487676056338029, 0.862037037037037, 0.7595...</td>\n",
       "      <td>[0.0, 0.5, 0.15789473684210525, 0.157894736842...</td>\n",
       "    </tr>\n",
       "    <tr>\n",
       "      <th>0</th>\n",
       "      <td>mul_m</td>\n",
       "      <td>MI</td>\n",
       "      <td>LR_L2</td>\n",
       "      <td>0.632184</td>\n",
       "      <td>0.627073</td>\n",
       "      <td>0.642836</td>\n",
       "      <td>0.621351</td>\n",
       "      <td>NaN</td>\n",
       "      <td>0.896325</td>\n",
       "      <td>amilcar22</td>\n",
       "      <td>249</td>\n",
       "      <td>2023-10-27 22:16:31.466388</td>\n",
       "      <td>modelo_0042_mul_m_MI_LR_L2.pkl</td>\n",
       "      <td>{'selector__k': 1000, 'clasifier__solver': 'lb...</td>\n",
       "      <td>X_test:(87, 18875)</td>\n",
       "      <td>['ENSG00000001084.13', 'ENSG00000001460.18', '...</td>\n",
       "      <td>42.0</td>\n",
       "      <td>[0.8855633802816901, 0.875, 0.8265550239234449...</td>\n",
       "      <td>[0.55, 0.42105263157894735, 0.2352941176470588...</td>\n",
       "    </tr>\n",
       "  </tbody>\n",
       "</table>\n",
       "</div>"
      ],
      "text/plain": [
       "    tipo select clasific  accuracy  precision    recall  f1_score  roc_auc  \\\n",
       "0  mul_m     MI      SVM  0.563218   0.578811  0.598360  0.580664      NaN   \n",
       "0  mul_m     MI       RF  0.448276   0.400874  0.477545  0.418321      NaN   \n",
       "0  mul_m     MI    LR_L2  0.632184   0.627073  0.642836  0.621351      NaN   \n",
       "\n",
       "   roc_auc_ovr   hostname  total_time_sec                    datetime  \\\n",
       "0     0.836018  amilcar22             204  2023-10-27 22:23:53.329578   \n",
       "0     0.811033  amilcar22             224  2023-10-27 22:20:22.517088   \n",
       "0     0.896325  amilcar22             249  2023-10-27 22:16:31.466388   \n",
       "\n",
       "                   fichero_modelo  \\\n",
       "0    modelo_0042_mul_m_MI_SVM.pkl   \n",
       "0     modelo_0042_mul_m_MI_RF.pkl   \n",
       "0  modelo_0042_mul_m_MI_LR_L2.pkl   \n",
       "\n",
       "                                              params               shape  \\\n",
       "0  {'selector__k': 1000, 'clasifier__kernel': 'rb...  X_test:(87, 18875)   \n",
       "0  {'selector__k': 1000, 'clasifier__n_estimators...  X_test:(87, 18875)   \n",
       "0  {'selector__k': 1000, 'clasifier__solver': 'lb...  X_test:(87, 18875)   \n",
       "\n",
       "                                            features  semilla  \\\n",
       "0  ['ENSG00000001084.13', 'ENSG00000001460.18', '...     42.0   \n",
       "0  ['ENSG00000001084.13', 'ENSG00000001460.18', '...     42.0   \n",
       "0  ['ENSG00000001084.13', 'ENSG00000001460.18', '...     42.0   \n",
       "\n",
       "                                         indices_auc  \\\n",
       "0  [0.8125, 0.8148148148148148, 0.711722488038277...   \n",
       "0  [0.6487676056338029, 0.862037037037037, 0.7595...   \n",
       "0  [0.8855633802816901, 0.875, 0.8265550239234449...   \n",
       "\n",
       "                                     indices_jaccard  \n",
       "0  [0.2727272727272727, 0.4444444444444444, 0.25,...  \n",
       "0  [0.0, 0.5, 0.15789473684210525, 0.157894736842...  \n",
       "0  [0.55, 0.42105263157894735, 0.2352941176470588...  "
      ]
     },
     "metadata": {},
     "output_type": "display_data"
    }
   ],
   "source": [
    "if M_TIPO.startswith(\"bin\"):\n",
    "    myfunc.save_metricas_to_csv(random_search, X_test, y_test, M_TIPO, M_SELECT, M_CLASIF, total_time, SEMILLA, myfunc.MET_DIR, M_FICHERO, fichero_modelo)\n",
    "else:\n",
    "    myfunc.save_metricas_multi_to_csv(random_search, X_test, y_test, M_TIPO, M_SELECT, M_CLASIF, total_time, SEMILLA, myfunc.MET_DIR, M_FICHERO, fichero_modelo)\n",
    "\n",
    "df1=myfunc.read_metricas_to_df(myfunc.MET_DIR,M_FICHERO)\n",
    "\n",
    "display(df1.sort_values(\"datetime\", ascending=False)[:3])\n"
   ]
  },
  {
   "cell_type": "markdown",
   "id": "8ad7685b",
   "metadata": {
    "papermill": {
     "duration": 0.004509,
     "end_time": "2023-10-27T20:23:53.386735",
     "exception": false,
     "start_time": "2023-10-27T20:23:53.382226",
     "status": "completed"
    },
    "tags": []
   },
   "source": [
    "#### Guardar resultados"
   ]
  },
  {
   "cell_type": "code",
   "execution_count": 13,
   "id": "9d0d334e",
   "metadata": {
    "execution": {
     "iopub.execute_input": "2023-10-27T20:23:53.396457Z",
     "iopub.status.busy": "2023-10-27T20:23:53.396250Z",
     "iopub.status.idle": "2023-10-27T20:23:53.404579Z",
     "shell.execute_reply": "2023-10-27T20:23:53.404033Z"
    },
    "papermill": {
     "duration": 0.014733,
     "end_time": "2023-10-27T20:23:53.405853",
     "exception": false,
     "start_time": "2023-10-27T20:23:53.391120",
     "status": "completed"
    },
    "tags": []
   },
   "outputs": [
    {
     "name": "stdout",
     "output_type": "stream",
     "text": [
      "20231027T222353 : amilcar22 : INFO : Inicio guardar resultados\n",
      "20231027T222353 : amilcar22 : INFO : Inicio guardar fichero ../tfm_git/ejecuciones/metricas/resultados_0042_mul_m-MI-SVM.csv\n",
      "20231027T222353 : amilcar22 : INFO : Fin guardar fichero ../tfm_git/ejecuciones/metricas/resultados_0042_mul_m-MI-SVM.csv\n",
      "20231027T222353 : amilcar22 : INFO : Fin guardar resultados\n"
     ]
    }
   ],
   "source": [
    "fichero_resultados=R_FICHERO+\"_\"+M_TIPO+\"-\"+M_SELECT+\"-\"+M_CLASIF+\".csv\"\n",
    "myfunc.save_resultados_to_csv(M_TIPO, M_SELECT, M_CLASIF,  random_search, myfunc.MET_DIR, fichero_resultados)\n"
   ]
  }
 ],
 "metadata": {
  "kernelspec": {
   "display_name": "Python 3 (ipykernel)",
   "language": "python",
   "name": "python3"
  },
  "language_info": {
   "codemirror_mode": {
    "name": "ipython",
    "version": 3
   },
   "file_extension": ".py",
   "mimetype": "text/x-python",
   "name": "python",
   "nbconvert_exporter": "python",
   "pygments_lexer": "ipython3",
   "version": "3.10.12"
  },
  "papermill": {
   "default_parameters": {},
   "duration": 209.310898,
   "end_time": "2023-10-27T20:23:56.028311",
   "environment_variables": {},
   "exception": null,
   "input_path": "03_entrenamiento.ipynb",
   "output_path": "ejecuciones/training/03_entrenamiento.20231027T222026.param_0000_0042_mul_m_MI_SVM.output.ipynb",
   "parameters": {
    "MAX_ITERS": 500,
    "M_CLASIF": "SVM",
    "M_FICHERO": "metricas_0042",
    "M_SELECT": "MI",
    "M_TIPO": "mul_m",
    "PRE_DATA_FILE": "rows_transpose_norm_by_gene_id_with_target_num_",
    "P_FICHERO": "param_0000_0042_mul_m_MI_SVM.yaml",
    "R_FICHERO": "resultados_0042",
    "SCORING": "roc_auc_ovr",
    "SEMILLA": 42,
    "eval_clasifier": "SVC(probability=True, random_state=SEMILLA)",
    "eval_selector": "SelectKBest(score_func=mutual_info_classif_state)",
    "param_distributions": {
     "clasifier__C": [
      100
     ],
     "clasifier__gamma": [
      0.001
     ],
     "clasifier__kernel": [
      "rbf"
     ],
     "selector__k": [
      1000
     ]
    }
   },
   "start_time": "2023-10-27T20:20:26.717413",
   "version": "2.4.0"
  }
 },
 "nbformat": 4,
 "nbformat_minor": 5
}