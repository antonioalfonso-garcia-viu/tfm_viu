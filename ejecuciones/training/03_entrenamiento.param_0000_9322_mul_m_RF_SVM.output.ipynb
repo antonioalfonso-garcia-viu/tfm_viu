{
 "cells": [
  {
   "cell_type": "markdown",
   "id": "97cab439",
   "metadata": {
    "papermill": {
     "duration": 0.005452,
     "end_time": "2023-10-30T06:04:15.833657",
     "exception": false,
     "start_time": "2023-10-30T06:04:15.828205",
     "status": "completed"
    },
    "tags": []
   },
   "source": [
    "##### Inicio"
   ]
  },
  {
   "cell_type": "markdown",
   "id": "8ef63529",
   "metadata": {
    "papermill": {
     "duration": 0.003379,
     "end_time": "2023-10-30T06:04:15.840778",
     "exception": false,
     "start_time": "2023-10-30T06:04:15.837399",
     "status": "completed"
    },
    "tags": []
   },
   "source": [
    "#### Carga de datos"
   ]
  },
  {
   "cell_type": "code",
   "execution_count": 1,
   "id": "c6393fde",
   "metadata": {
    "execution": {
     "iopub.execute_input": "2023-10-30T06:04:15.849014Z",
     "iopub.status.busy": "2023-10-30T06:04:15.848394Z",
     "iopub.status.idle": "2023-10-30T06:04:16.951955Z",
     "shell.execute_reply": "2023-10-30T06:04:16.951354Z"
    },
    "papermill": {
     "duration": 1.109364,
     "end_time": "2023-10-30T06:04:16.953476",
     "exception": false,
     "start_time": "2023-10-30T06:04:15.844112",
     "status": "completed"
    },
    "tags": []
   },
   "outputs": [
    {
     "name": "stdout",
     "output_type": "stream",
     "text": [
      "CPU_COUNT: 16; NODE: enderlab; sys.version: 3.10.11 (main, May 16 2023, 00:28:57) [GCC 11.2.0]\n",
      "LOKY_MAX_CPU_COUNT is not set.\n",
      "OMP_NUM_THREADS is not set.\n"
     ]
    }
   ],
   "source": [
    "import os\n",
    "import numpy as np\n",
    "import pandas as pd\n",
    "import datetime\n",
    "import sklearn\n",
    "import logging\n",
    "import warnings\n",
    "\n",
    "from sklearn.pipeline import Pipeline\n",
    "from sklearn.model_selection import RandomizedSearchCV, KFold, cross_val_score, train_test_split\n",
    "from sklearn.metrics import accuracy_score, confusion_matrix, classification_report, roc_auc_score\n",
    "\n",
    "#  cargar algoritmos para aprendizaje supervisado\n",
    "from sklearn.feature_selection import SelectKBest, f_classif, SelectFromModel, mutual_info_classif\n",
    "from sklearn.svm import SVC\n",
    "from sklearn.ensemble import RandomForestClassifier\n",
    "from sklearn.linear_model import LogisticRegression,LogisticRegressionCV\n",
    "\n",
    "# importar fichero con utilidades propias\n",
    "from commons import myfunctions as myfunc\n"
   ]
  },
  {
   "cell_type": "markdown",
   "id": "d5f94c53",
   "metadata": {
    "papermill": {
     "duration": 0.003562,
     "end_time": "2023-10-30T06:04:16.961226",
     "exception": false,
     "start_time": "2023-10-30T06:04:16.957664",
     "status": "completed"
    },
    "tags": []
   },
   "source": [
    "#### Parámetros a utilizar en el entrenamiento.\n",
    "\n",
    "Se indican los 3 algoritmos de *selección de características* (eval_selector_xxx) y los 3 algoritmos para la _clasificación_ (eval_clasifier_xxx)\n",
    "\n",
    "En *param_distributions* se indicar los parámetros que utilizan los algoritmos en la función RandomSearchCV.\n",
    "\n",
    "Esta celda tiene la etiqueta **parameters** que servirá para poder lanzar los entrenamientos con la utilidad **papermill** pasándole un fichero con los parámetros. Los nuevos parámetros se situarán tras esta celda para tener prevalencia."
   ]
  },
  {
   "cell_type": "code",
   "execution_count": 2,
   "id": "f3dfc697",
   "metadata": {
    "execution": {
     "iopub.execute_input": "2023-10-30T06:04:16.969543Z",
     "iopub.status.busy": "2023-10-30T06:04:16.969117Z",
     "iopub.status.idle": "2023-10-30T06:04:16.977513Z",
     "shell.execute_reply": "2023-10-30T06:04:16.976964Z"
    },
    "papermill": {
     "duration": 0.014129,
     "end_time": "2023-10-30T06:04:16.978800",
     "exception": false,
     "start_time": "2023-10-30T06:04:16.964671",
     "status": "completed"
    },
    "tags": [
     "parameters"
    ]
   },
   "outputs": [
    {
     "name": "stdout",
     "output_type": "stream",
     "text": [
      "20231030T070416 : enderlab : INFO : Utilizando parámetros de mul_m\n"
     ]
    }
   ],
   "source": [
    "#  Parametros para el entrenamiento\n",
    "\n",
    "SEMILLA=        42\n",
    "M_TIPO=         \"mul_m\"\n",
    "M_SELECT=       \"MI\"\n",
    "M_CLASIF=       \"SVM\"\n",
    "R_FICHERO=      \"resultados\"\n",
    "M_FICHERO=      \"metricas\"\n",
    "PRE_DATA_FILE=  \"rows_transpose_norm_by_gene_id_with_target_num_\"\n",
    "SCORING=        \"roc_auc_ovr\" \n",
    "MAX_ITERS=      100\n",
    "\n",
    "def mutual_info_classif_state(X, y):\n",
    "    return mutual_info_classif(X, y, random_state=SEMILLA)\n",
    "\n",
    "eval_selector_mi = \"SelectKBest(score_func=mutual_info_classif_state)\"\n",
    "eval_selector_rf=  \"SelectFromModel(estimator=RandomForestClassifier(random_state=SEMILLA), threshold=-np.inf)\"\n",
    "eval_selector_anova=  \"SelectKBest(score_func=f_classif)\"\n",
    "\n",
    "eval_clasifier_svm= \"SVC(probability=True, random_state=SEMILLA)\"\n",
    "eval_clasifier_rf= \"RandomForestClassifier(random_state=SEMILLA)\"\n",
    "eval_clasifier_lr= \"LogisticRegressionCV(random_state=SEMILLA)\"\n",
    "\n",
    "if M_TIPO.startswith(\"bin_m\"):\n",
    "    myfunc.verbose(f\"Utilizando parámetros de {M_TIPO}\")\n",
    "    eval_selector = eval_selector_mi\n",
    "    eval_clasifier = eval_clasifier_svm\n",
    "\n",
    "    SEMILLA = 6578\n",
    "    M_SELECT = \"MI\"\n",
    "    M_CLASIF = \"SVM\"\n",
    "    param_distributions = {'selector__k': [1000], \n",
    "         'clasifier__kernel': ['rbf'], 'clasifier__gamma': [0.01], 'clasifier__C': [100]}\n",
    "elif M_TIPO.startswith(\"bin_s\"):\n",
    "    myfunc.verbose(f\"Utilizando parámetros de {M_TIPO}\")\n",
    "    eval_selector = eval_selector_rf\n",
    "    eval_clasifier = eval_clasifier_lr\n",
    "\n",
    "    SEMILLA = 6191\n",
    "    M_SELECT = \"RF\"\n",
    "    M_CLASIF = \"LR_L2\"\n",
    "    param_distributions = {'selector__max_features': [1000], 'selector__estimator__n_estimators': [200], \n",
    "        'clasifier__solver': ['lbfgs'], 'clasifier__penalty': ['l2'], 'clasifier__max_iter': [10000]}\n",
    "\n",
    "elif M_TIPO.startswith(\"mul_m\"):\n",
    "    myfunc.verbose(f\"Utilizando parámetros de {M_TIPO}\")\n",
    " \n",
    "    eval_selector = eval_selector_rf\n",
    "    eval_clasifier = eval_clasifier_lr\n",
    "\n",
    "    SEMILLA = 6191\n",
    "    M_SELECT = \"RF\"\n",
    "    M_CLASIF = \"LR_L2\"\n",
    "    param_distributions = {'selector__max_features': [1000], 'selector__estimator__n_estimators': [400], \n",
    "        'clasifier__solver': ['lbfgs'], 'clasifier__penalty': ['l2'], 'clasifier__max_iter': [10000]}\n",
    "\n",
    "else:\n",
    "    # M_TIPO.startswith(\"mul_s\"):\n",
    "    myfunc.verbose(f\"Utilizando parámetros de {M_TIPO}\")\n",
    "    eval_selector = eval_selector_anova\n",
    "    eval_clasifier = eval_clasifier_lr\n",
    "\n",
    "    SEMILLA = 1860\n",
    "    M_SELECT = \"ANOVA\"\n",
    "    M_CLASIF = \"LR_L2\"\n",
    "    param_distributions = {'selector__k': [1000], \n",
    "        'clasifier__solver': ['saga'], 'clasifier__penalty': ['l2'], 'clasifier__max_iter': [10000]}\n",
    "\n"
   ]
  },
  {
   "cell_type": "code",
   "execution_count": 3,
   "id": "f51b0851",
   "metadata": {
    "execution": {
     "iopub.execute_input": "2023-10-30T06:04:16.986907Z",
     "iopub.status.busy": "2023-10-30T06:04:16.986507Z",
     "iopub.status.idle": "2023-10-30T06:04:16.990564Z",
     "shell.execute_reply": "2023-10-30T06:04:16.989960Z"
    },
    "papermill": {
     "duration": 0.009592,
     "end_time": "2023-10-30T06:04:16.991916",
     "exception": false,
     "start_time": "2023-10-30T06:04:16.982324",
     "status": "completed"
    },
    "tags": [
     "injected-parameters"
    ]
   },
   "outputs": [],
   "source": [
    "# Parameters\n",
    "M_TIPO = \"mul_m\"\n",
    "M_SELECT = \"RF\"\n",
    "M_CLASIF = \"SVM\"\n",
    "P_FICHERO = \"param_0000_9322_mul_m_RF_SVM.yaml\"\n",
    "R_FICHERO = \"resultados_9322\"\n",
    "M_FICHERO = \"metricas_9322\"\n",
    "PRE_DATA_FILE = \"rows_transpose_norm_by_gene_id_with_target_num_\"\n",
    "SCORING = \"roc_auc_ovr\"\n",
    "SEMILLA = 9322\n",
    "MAX_ITERS = 500\n",
    "eval_selector = \"SelectFromModel(estimator=RandomForestClassifier(random_state=SEMILLA), threshold=-np.inf)\"\n",
    "eval_clasifier = \"SVC(probability=True, random_state=SEMILLA)\"\n",
    "param_distributions = {\n",
    "    \"selector__max_features\": [200],\n",
    "    \"selector__estimator__n_estimators\": [400],\n",
    "    \"clasifier__kernel\": [\"rbf\"],\n",
    "    \"clasifier__gamma\": [0.01],\n",
    "    \"clasifier__C\": [10],\n",
    "}\n"
   ]
  },
  {
   "cell_type": "code",
   "execution_count": 4,
   "id": "bb20722a",
   "metadata": {
    "execution": {
     "iopub.execute_input": "2023-10-30T06:04:17.000247Z",
     "iopub.status.busy": "2023-10-30T06:04:16.999770Z",
     "iopub.status.idle": "2023-10-30T06:04:17.003232Z",
     "shell.execute_reply": "2023-10-30T06:04:17.002604Z"
    },
    "papermill": {
     "duration": 0.008973,
     "end_time": "2023-10-30T06:04:17.004532",
     "exception": false,
     "start_time": "2023-10-30T06:04:16.995559",
     "status": "completed"
    },
    "tags": []
   },
   "outputs": [],
   "source": [
    "DATA_FILE = PRE_DATA_FILE + M_TIPO\n",
    "\n",
    "# si viene \"None\" en el parámetro max_depth, se le quitan las comillas para que no sea entendido por el algoritmo como un texto\n",
    "if \"clasifier__max_depth\" in param_distributions:\n",
    "    param_distributions['clasifier__max_depth'] = [None if x == 'None' else x for x in param_distributions['clasifier__max_depth']]"
   ]
  },
  {
   "cell_type": "markdown",
   "id": "a7853070",
   "metadata": {
    "papermill": {
     "duration": 0.003671,
     "end_time": "2023-10-30T06:04:17.011714",
     "exception": false,
     "start_time": "2023-10-30T06:04:17.008043",
     "status": "completed"
    },
    "tags": []
   },
   "source": [
    "Asignar los algoritmos que se utilizarán en la función RandomSearchCV"
   ]
  },
  {
   "cell_type": "code",
   "execution_count": 5,
   "id": "30e853a9",
   "metadata": {
    "execution": {
     "iopub.execute_input": "2023-10-30T06:04:17.020363Z",
     "iopub.status.busy": "2023-10-30T06:04:17.019876Z",
     "iopub.status.idle": "2023-10-30T06:04:17.022808Z",
     "shell.execute_reply": "2023-10-30T06:04:17.022292Z"
    },
    "papermill": {
     "duration": 0.008737,
     "end_time": "2023-10-30T06:04:17.024149",
     "exception": false,
     "start_time": "2023-10-30T06:04:17.015412",
     "status": "completed"
    },
    "tags": []
   },
   "outputs": [],
   "source": [
    "algor_selector=eval(eval_selector)\n",
    "algor_clasifier=eval(eval_clasifier)"
   ]
  },
  {
   "cell_type": "markdown",
   "id": "c99a5b99",
   "metadata": {
    "papermill": {
     "duration": 0.00376,
     "end_time": "2023-10-30T06:04:17.031537",
     "exception": false,
     "start_time": "2023-10-30T06:04:17.027777",
     "status": "completed"
    },
    "tags": []
   },
   "source": [
    "#### Comprobar el entorno y leer fichero de muestras"
   ]
  },
  {
   "cell_type": "code",
   "execution_count": 6,
   "id": "67c37dd8",
   "metadata": {
    "execution": {
     "iopub.execute_input": "2023-10-30T06:04:17.039917Z",
     "iopub.status.busy": "2023-10-30T06:04:17.039510Z",
     "iopub.status.idle": "2023-10-30T06:04:17.265324Z",
     "shell.execute_reply": "2023-10-30T06:04:17.264758Z"
    },
    "papermill": {
     "duration": 0.231568,
     "end_time": "2023-10-30T06:04:17.266724",
     "exception": false,
     "start_time": "2023-10-30T06:04:17.035156",
     "status": "completed"
    },
    "tags": []
   },
   "outputs": [
    {
     "name": "stdout",
     "output_type": "stream",
     "text": [
      "20231030T070417 : enderlab : INFO : Encontrada carpeta DATA_DIR=../tfm_git/datos\n",
      "20231030T070417 : enderlab : INFO : Encontrada carpeta CFDNA_DIR=../tfm_git/datos/cfDNA_5hmC\n",
      "20231030T070417 : enderlab : INFO : Encontrada carpeta GENCODE_DIR=../tfm_git/datos/gencode\n",
      "20231030T070417 : enderlab : INFO : Encontrada carpeta H5_DIR=../tfm_git/datos/h5\n",
      "20231030T070417 : enderlab : INFO : Encontrada carpeta LOG_DIR=../tfm_git/datos/logs\n",
      "20231030T070417 : enderlab : INFO : Encontrada carpeta CSV_DIR=../tfm_git/datos/csv\n",
      "20231030T070417 : enderlab : INFO : Encontrada carpeta MODEL_DIR=../tfm_git/ejecuciones/modelos\n",
      "20231030T070417 : enderlab : INFO : Encontrada carpeta EXEC_DIR=../tfm_git/ejecuciones\n",
      "20231030T070417 : enderlab : INFO : Encontrada carpeta MET_DIR=../tfm_git/ejecuciones/metricas\n",
      "20231030T070417 : enderlab : INFO : Inicio leer fichero h5 ../tfm_git/datos/h5/rows_transpose_norm_by_gene_id_with_target_num_mul_m.h5\n",
      "20231030T070417 : enderlab : INFO : Leyendo clave /df\n"
     ]
    },
    {
     "name": "stdout",
     "output_type": "stream",
     "text": [
      "20231030T070417 : enderlab : INFO : Tamaño (434, 18876)\n",
      "20231030T070417 : enderlab : INFO : Fin leer fichero h5 ../tfm_git/datos/h5/rows_transpose_norm_by_gene_id_with_target_num_mul_m.h5\n"
     ]
    },
    {
     "data": {
      "text/plain": [
       "target\n",
       "0    62\n",
       "1    62\n",
       "2    62\n",
       "3    62\n",
       "4    62\n",
       "5    62\n",
       "6    62\n",
       "dtype: int64"
      ]
     },
     "metadata": {},
     "output_type": "display_data"
    },
    {
     "name": "stdout",
     "output_type": "stream",
     "text": [
      "Shape df: (434, 18876)\n"
     ]
    },
    {
     "name": "stdout",
     "output_type": "stream",
     "text": [
      "Shape X_train: (347, 18875)\n",
      "Shape X_test: (87, 18875)\n"
     ]
    }
   ],
   "source": [
    "start_time = datetime.datetime.now()\n",
    "\n",
    "myfunc.reset_vars()\n",
    "\n",
    "myfunc.NOTEBK_FILENAME = myfunc.get_nb_name()\n",
    "\n",
    "myfunc.check_enviroment(myfunc.DATA_DIR, myfunc.CFDNA_DIR, myfunc.GENCODE_DIR, myfunc.H5_DIR, myfunc.LOG_DIR, myfunc.CSV_DIR, myfunc.MODEL_DIR, myfunc.EXEC_DIR, myfunc.MET_DIR)\n",
    "\n",
    "# Leer fichero con las muestras\n",
    "df_t = myfunc.read_h5_to_df(DATA_FILE, myfunc.H5_DIR)\n",
    "display(df_t.groupby(\"target\").size())\n",
    "print(\"Shape df:\",df_t.shape)\n",
    "\n",
    "# Separar caracteristicas/genes de las etiquetas/tipos de cáncer\n",
    "X = df_t.iloc[:, :-1]  # Todas las columnas excepto la última\n",
    "y = df_t.iloc[:, -1]  # La última columna contiene los identificadores de los tipos de cáncer\n",
    "\n",
    "#  Crear el conjunto de datos de entrenamiento y de pruebas, y se fija la semilla para siempre coger el mismo juego de muestras\n",
    "X_train, X_test, y_train, y_test = train_test_split(X, y, test_size=0.2, shuffle=True, random_state=42)\n",
    "print(\"Shape X_train:\",X_train.shape)\n",
    "print(\"Shape X_test:\",X_test.shape)\n"
   ]
  },
  {
   "cell_type": "markdown",
   "id": "c533bb13",
   "metadata": {
    "papermill": {
     "duration": 0.004051,
     "end_time": "2023-10-30T06:04:17.275162",
     "exception": false,
     "start_time": "2023-10-30T06:04:17.271111",
     "status": "completed"
    },
    "tags": []
   },
   "source": [
    "#### Selección de características y clasificación."
   ]
  },
  {
   "cell_type": "code",
   "execution_count": 7,
   "id": "4d2a87cf",
   "metadata": {
    "execution": {
     "iopub.execute_input": "2023-10-30T06:04:17.284295Z",
     "iopub.status.busy": "2023-10-30T06:04:17.283806Z",
     "iopub.status.idle": "2023-10-30T06:04:37.676621Z",
     "shell.execute_reply": "2023-10-30T06:04:37.675303Z"
    },
    "papermill": {
     "duration": 20.399067,
     "end_time": "2023-10-30T06:04:37.678170",
     "exception": false,
     "start_time": "2023-10-30T06:04:17.279103",
     "status": "completed"
    },
    "tags": []
   },
   "outputs": [
    {
     "name": "stdout",
     "output_type": "stream",
     "text": [
      "20231030T070417 : enderlab : INFO : Iniciando entrenamiento\n",
      "num_iter: 1 , max_iter: 1\n",
      "Fitting 5 folds for each of 1 candidates, totalling 5 fits\n"
     ]
    },
    {
     "name": "stdout",
     "output_type": "stream",
     "text": [
      "Mejores Hiperparámetros: {'selector__max_features': 200, 'selector__estimator__n_estimators': 400, 'clasifier__kernel': 'rbf', 'clasifier__gamma': 0.01, 'clasifier__C': 10}\n",
      "Mejor Puntuación: 0.8467\n",
      "20231030T070437 : enderlab : INFO : Fin entrenamiento\n"
     ]
    }
   ],
   "source": [
    "myfunc.verbose(\"Iniciando entrenamiento\")\n",
    "\n",
    "kf = KFold(n_splits=5, shuffle=True, random_state=SEMILLA)\n",
    "\n",
    "# Crear el pipeline para el flujo de tareas\n",
    "tasks_pipeline = Pipeline([\n",
    "    ('selector', algor_selector),\n",
    "    ('clasifier', algor_clasifier)\n",
    "])\n",
    "\n",
    "# MAX_ITERS puede limitar el número de iteraciones si son excesivas para las combinaciones de parámetros buscando un óptimo local, \n",
    "# sino funcionaría como GridSearchCV al revisar todas las cominaciones de los parámetros\n",
    "num_iteraciones = 1\n",
    "num_iteraciones = num_iteraciones * np.prod([len(elemento1) for _, elemento1 in param_distributions.items()])\n",
    "max_iteraciones = num_iteraciones if num_iteraciones <= MAX_ITERS else MAX_ITERS\n",
    "print(\"num_iter:\",num_iteraciones,\", max_iter:\",max_iteraciones)\n",
    "\n",
    "random_search = RandomizedSearchCV(\n",
    "    tasks_pipeline, \n",
    "    param_distributions, \n",
    "    n_iter=max_iteraciones,\n",
    "    scoring=SCORING,\n",
    "    cv=kf,\n",
    "    verbose=3, \n",
    "    random_state=SEMILLA, \n",
    "    n_jobs=-1\n",
    "    )\n",
    "\n",
    "# Entrenar el modelo\n",
    "random_search.fit(X_train, y_train)\n",
    "\n",
    "# Ver los mejores hiperparámetros encontrados\n",
    "print(f'Mejores Hiperparámetros: {random_search.best_params_}')\n",
    "print(f'Mejor Puntuación: {random_search.best_score_:.4f}')\n",
    "\n",
    "# Nos quedamos con el mejor modelo para ver las métricas\n",
    "mejor_modelo = random_search.best_estimator_\n",
    "\n",
    "myfunc.verbose(\"Fin entrenamiento\")"
   ]
  },
  {
   "cell_type": "markdown",
   "id": "75a21dc2",
   "metadata": {
    "papermill": {
     "duration": 0.004261,
     "end_time": "2023-10-30T06:04:37.687634",
     "exception": false,
     "start_time": "2023-10-30T06:04:37.683373",
     "status": "completed"
    },
    "tags": []
   },
   "source": [
    "#### Guardar modelo"
   ]
  },
  {
   "cell_type": "code",
   "execution_count": 8,
   "id": "b967b038",
   "metadata": {
    "execution": {
     "iopub.execute_input": "2023-10-30T06:04:37.698164Z",
     "iopub.status.busy": "2023-10-30T06:04:37.697746Z",
     "iopub.status.idle": "2023-10-30T06:04:37.859692Z",
     "shell.execute_reply": "2023-10-30T06:04:37.859087Z"
    },
    "papermill": {
     "duration": 0.169236,
     "end_time": "2023-10-30T06:04:37.860962",
     "exception": false,
     "start_time": "2023-10-30T06:04:37.691726",
     "status": "completed"
    },
    "tags": []
   },
   "outputs": [
    {
     "name": "stdout",
     "output_type": "stream",
     "text": [
      "20231030T070437 : enderlab : INFO : Inicio guardar fichero ../tfm_git/ejecuciones/modelos/modelo_9322_mul_m_RF_SVM.pkl\n",
      "20231030T070437 : enderlab : INFO : Fin guardar fichero ../tfm_git/ejecuciones/modelos/modelo_9322_mul_m_RF_SVM.pkl\n"
     ]
    }
   ],
   "source": [
    "fichero_modelo = str.replace(\"modelo_\"+str(SEMILLA).zfill(4)+\"_\"+M_TIPO+\"_\"+M_SELECT+\"_\"+M_CLASIF+\".pkl\", \" \", \"_\")\n",
    "\n",
    "myfunc.save_modelo(mejor_modelo, myfunc.MODEL_DIR, fichero_modelo)"
   ]
  },
  {
   "cell_type": "markdown",
   "id": "90bd37ab",
   "metadata": {
    "papermill": {
     "duration": 0.004361,
     "end_time": "2023-10-30T06:04:37.870029",
     "exception": false,
     "start_time": "2023-10-30T06:04:37.865668",
     "status": "completed"
    },
    "tags": []
   },
   "source": [
    "#### Ver resultados del las iteraciones hechas por RandomSearchCV"
   ]
  },
  {
   "cell_type": "code",
   "execution_count": 9,
   "id": "e2069668",
   "metadata": {
    "execution": {
     "iopub.execute_input": "2023-10-30T06:04:37.879539Z",
     "iopub.status.busy": "2023-10-30T06:04:37.879110Z",
     "iopub.status.idle": "2023-10-30T06:04:37.886562Z",
     "shell.execute_reply": "2023-10-30T06:04:37.885997Z"
    },
    "papermill": {
     "duration": 0.013572,
     "end_time": "2023-10-30T06:04:37.887754",
     "exception": false,
     "start_time": "2023-10-30T06:04:37.874182",
     "status": "completed"
    },
    "tags": []
   },
   "outputs": [
    {
     "name": "stdout",
     "output_type": "stream",
     "text": [
      "20231030T070437 : enderlab : INFO : Inicio ver resultados\n",
      "Mejores Hiperparámetros: {'selector__max_features': 200, 'selector__estimator__n_estimators': 400, 'clasifier__kernel': 'rbf', 'clasifier__gamma': 0.01, 'clasifier__C': 10}\n",
      "Mejores puntuaciones: 0.8467 | Params: {'selector__max_features': 200, 'selector__estimator__n_estimators': 400, 'clasifier__kernel': 'rbf', 'clasifier__gamma': 0.01, 'clasifier__C': 10}\n",
      "Media de las puntuaciones: 0.8467 | Params: {'selector__max_features': 200, 'selector__estimator__n_estimators': 400, 'clasifier__kernel': 'rbf', 'clasifier__gamma': 0.01, 'clasifier__C': 10}\n",
      "20231030T070437 : enderlab : INFO : Fin resultados\n"
     ]
    }
   ],
   "source": [
    "myfunc.ver_resultados_search(random_search)"
   ]
  },
  {
   "cell_type": "markdown",
   "id": "5b384992",
   "metadata": {
    "papermill": {
     "duration": 0.00432,
     "end_time": "2023-10-30T06:04:37.896287",
     "exception": false,
     "start_time": "2023-10-30T06:04:37.891967",
     "status": "completed"
    },
    "tags": []
   },
   "source": [
    "#### Ver métricas del mejor modelo"
   ]
  },
  {
   "cell_type": "code",
   "execution_count": 10,
   "id": "67bcc773",
   "metadata": {
    "execution": {
     "iopub.execute_input": "2023-10-30T06:04:37.906078Z",
     "iopub.status.busy": "2023-10-30T06:04:37.905697Z",
     "iopub.status.idle": "2023-10-30T06:04:39.087302Z",
     "shell.execute_reply": "2023-10-30T06:04:39.086686Z"
    },
    "papermill": {
     "duration": 1.188148,
     "end_time": "2023-10-30T06:04:39.088798",
     "exception": false,
     "start_time": "2023-10-30T06:04:37.900650",
     "status": "completed"
    },
    "tags": []
   },
   "outputs": [
    {
     "name": "stdout",
     "output_type": "stream",
     "text": [
      "20231030T070437 : enderlab : INFO : Inicio ver métricas multiclase\n"
     ]
    },
    {
     "name": "stdout",
     "output_type": "stream",
     "text": [
      "              precision    recall  f1-score   support\n",
      "\n",
      "           0       0.33      0.12      0.18        16\n",
      "           1       0.75      0.60      0.67        15\n",
      "           2       0.40      0.36      0.38        11\n",
      "           3       0.31      0.80      0.44         5\n",
      "           4       0.50      0.62      0.55        13\n",
      "           5       0.58      0.78      0.67         9\n",
      "           6       0.50      0.50      0.50        18\n",
      "\n",
      "    accuracy                           0.49        87\n",
      "   macro avg       0.48      0.54      0.48        87\n",
      "weighted avg       0.50      0.49      0.48        87\n",
      "\n",
      "\n",
      "\n",
      "           Exactitud: 0.494253\n",
      "   Precisión (media): 0.482051\n",
      "      Recall (media): 0.540257\n",
      "    F1-score (media): 0.484610\n",
      "\n",
      "\n",
      "AUC para el tipo de cáncer 0-Control.... 0.6734\n",
      "AUC para el tipo de cáncer 1-Bladder.... 0.8778\n",
      "AUC para el tipo de cáncer 2-Breast..... 0.7297\n",
      "AUC para el tipo de cáncer 3-Colorectal. 0.8780\n",
      "AUC para el tipo de cáncer 4-Kidney..... 0.8295\n",
      "AUC para el tipo de cáncer 5-Lung....... 0.9359\n",
      "AUC para el tipo de cáncer 6-Prostate... 0.8205\n",
      "\n",
      "Media de AUC: 0.8207\n"
     ]
    },
    {
     "data": {
      "image/png": "[encoded data removed]",
      "text/plain": [
       "<Figure size 1000x600 with 1 Axes>"
      ]
     },
     "metadata": {},
     "output_type": "display_data"
    },
    {
     "name": "stdout",
     "output_type": "stream",
     "text": [
      "\n",
      "\n"
     ]
    },
    {
     "data": {
      "image/png": "[encoded data removed]",
      "text/plain": [
       "<Figure size 800x400 with 2 Axes>"
      ]
     },
     "metadata": {},
     "output_type": "display_data"
    },
    {
     "name": "stdout",
     "output_type": "stream",
     "text": [
      "\n",
      "\n",
      "Puntuación Jaccard para el cáncer tipo 0-Control.... 0.1000\n",
      "Puntuación Jaccard para el cáncer tipo 1-Bladder.... 0.5000\n",
      "Puntuación Jaccard para el cáncer tipo 2-Breast..... 0.2353\n",
      "Puntuación Jaccard para el cáncer tipo 3-Colorectal. 0.2857\n",
      "Puntuación Jaccard para el cáncer tipo 4-Kidney..... 0.3810\n",
      "Puntuación Jaccard para el cáncer tipo 5-Lung....... 0.5000\n",
      "Puntuación Jaccard para el cáncer tipo 6-Prostate... 0.3333\n",
      "\n",
      "Media de la puntuación de Jaccard: 0.3336\n"
     ]
    }
   ],
   "source": [
    "if M_TIPO.startswith(\"bin\"):\n",
    "    myfunc.ver_metricas(mejor_modelo, X_test, y_test)\n",
    "else:\n",
    "    myfunc.ver_metricas_multi(mejor_modelo, X_test, y_test)\n"
   ]
  },
  {
   "cell_type": "markdown",
   "id": "686e78d9",
   "metadata": {
    "papermill": {
     "duration": 0.008252,
     "end_time": "2023-10-30T06:04:39.103720",
     "exception": false,
     "start_time": "2023-10-30T06:04:39.095468",
     "status": "completed"
    },
    "tags": []
   },
   "source": [
    "#### Finalización del notebook"
   ]
  },
  {
   "cell_type": "code",
   "execution_count": 11,
   "id": "d0e07da5",
   "metadata": {
    "execution": {
     "iopub.execute_input": "2023-10-30T06:04:39.117976Z",
     "iopub.status.busy": "2023-10-30T06:04:39.117558Z",
     "iopub.status.idle": "2023-10-30T06:04:39.121382Z",
     "shell.execute_reply": "2023-10-30T06:04:39.120841Z"
    },
    "papermill": {
     "duration": 0.012276,
     "end_time": "2023-10-30T06:04:39.122661",
     "exception": false,
     "start_time": "2023-10-30T06:04:39.110385",
     "status": "completed"
    },
    "tags": []
   },
   "outputs": [
    {
     "name": "stdout",
     "output_type": "stream",
     "text": [
      "20231030T070439 : enderlab : INFO : Notebook ha tardado 22 seconds\n"
     ]
    }
   ],
   "source": [
    "end_time = datetime.datetime.now()\n",
    "total_time = end_time - start_time\n",
    "myfunc.verbose(f\"Notebook ha tardado {total_time.seconds} seconds\")"
   ]
  },
  {
   "cell_type": "markdown",
   "id": "f874c0b5",
   "metadata": {
    "papermill": {
     "duration": 0.006089,
     "end_time": "2023-10-30T06:04:39.134918",
     "exception": false,
     "start_time": "2023-10-30T06:04:39.128829",
     "status": "completed"
    },
    "tags": []
   },
   "source": [
    "#### Guardar métricas"
   ]
  },
  {
   "cell_type": "code",
   "execution_count": 12,
   "id": "00d6495e",
   "metadata": {
    "execution": {
     "iopub.execute_input": "2023-10-30T06:04:39.148017Z",
     "iopub.status.busy": "2023-10-30T06:04:39.147501Z",
     "iopub.status.idle": "2023-10-30T06:04:40.201594Z",
     "shell.execute_reply": "2023-10-30T06:04:40.200979Z"
    },
    "papermill": {
     "duration": 1.061987,
     "end_time": "2023-10-30T06:04:40.202967",
     "exception": false,
     "start_time": "2023-10-30T06:04:39.140980",
     "status": "completed"
    },
    "tags": []
   },
   "outputs": [
    {
     "name": "stdout",
     "output_type": "stream",
     "text": [
      "20231030T070439 : enderlab : INFO : Inicio guardar métricas multiclase\n",
      "20231030T070439 : enderlab : INFO : Inicio leer fichero ../tfm_git/ejecuciones/metricas/metricas_9322.csv\n",
      "20231030T070439 : enderlab : INFO : Fin leer fichero ../tfm_git/ejecuciones/metricas/metricas_9322.csv\n"
     ]
    },
    {
     "name": "stdout",
     "output_type": "stream",
     "text": [
      "20231030T070440 : enderlab : INFO : Inicio guardar fichero ../tfm_git/ejecuciones/metricas/metricas_9322.csv\n",
      "20231030T070440 : enderlab : INFO : Fichero borrado ../tfm_git/ejecuciones/metricas/metricas_9322.csv\n",
      "20231030T070440 : enderlab : INFO : Fin guardar fichero ../tfm_git/ejecuciones/metricas/metricas_9322.csv\n",
      "20231030T070440 : enderlab : INFO : Fin guardar métricas multiclase\n",
      "20231030T070440 : enderlab : INFO : Inicio leer fichero ../tfm_git/ejecuciones/metricas/metricas_9322.csv\n",
      "20231030T070440 : enderlab : INFO : Fin leer fichero ../tfm_git/ejecuciones/metricas/metricas_9322.csv\n"
     ]
    },
    {
     "data": {
      "text/html": [
       "<div>\n",
       "<style scoped>\n",
       "    .dataframe tbody tr th:only-of-type {\n",
       "        vertical-align: middle;\n",
       "    }\n",
       "\n",
       "    .dataframe tbody tr th {\n",
       "        vertical-align: top;\n",
       "    }\n",
       "\n",
       "    .dataframe thead th {\n",
       "        text-align: right;\n",
       "    }\n",
       "</style>\n",
       "<table border=\"1\" class=\"dataframe\">\n",
       "  <thead>\n",
       "    <tr style=\"text-align: right;\">\n",
       "      <th></th>\n",
       "      <th>tipo</th>\n",
       "      <th>select</th>\n",
       "      <th>clasific</th>\n",
       "      <th>semilla</th>\n",
       "      <th>accuracy</th>\n",
       "      <th>precision</th>\n",
       "      <th>recall</th>\n",
       "      <th>f1_score</th>\n",
       "      <th>roc_auc</th>\n",
       "      <th>hostname</th>\n",
       "      <th>total_time_sec</th>\n",
       "      <th>datetime</th>\n",
       "      <th>fichero_modelo</th>\n",
       "      <th>params</th>\n",
       "      <th>shape</th>\n",
       "      <th>features</th>\n",
       "      <th>roc_auc_ovr</th>\n",
       "      <th>indices_auc</th>\n",
       "      <th>indices_jaccard</th>\n",
       "    </tr>\n",
       "  </thead>\n",
       "  <tbody>\n",
       "    <tr>\n",
       "      <th>0</th>\n",
       "      <td>mul_m</td>\n",
       "      <td>RF</td>\n",
       "      <td>SVM</td>\n",
       "      <td>9322</td>\n",
       "      <td>0.494253</td>\n",
       "      <td>0.482051</td>\n",
       "      <td>0.540257</td>\n",
       "      <td>0.484610</td>\n",
       "      <td>NaN</td>\n",
       "      <td>enderlab</td>\n",
       "      <td>22</td>\n",
       "      <td>2023-10-30 07:04:40.152677</td>\n",
       "      <td>modelo_9322_mul_m_RF_SVM.pkl</td>\n",
       "      <td>{'selector__max_features': 200, 'selector__est...</td>\n",
       "      <td>X_test:(87, 18875)</td>\n",
       "      <td>['ENSG00000007237.19', 'ENSG00000011600.12', '...</td>\n",
       "      <td>0.820682</td>\n",
       "      <td>[0.6734154929577465, 0.8777777777777778, 0.729...</td>\n",
       "      <td>[0.1, 0.5, 0.23529411764705882, 0.285714285714...</td>\n",
       "    </tr>\n",
       "    <tr>\n",
       "      <th>0</th>\n",
       "      <td>mul_m</td>\n",
       "      <td>RF</td>\n",
       "      <td>RF</td>\n",
       "      <td>9322</td>\n",
       "      <td>0.528736</td>\n",
       "      <td>0.449888</td>\n",
       "      <td>0.576823</td>\n",
       "      <td>0.499954</td>\n",
       "      <td>NaN</td>\n",
       "      <td>enderlab</td>\n",
       "      <td>30</td>\n",
       "      <td>2023-10-30 07:04:10.289999</td>\n",
       "      <td>modelo_9322_mul_m_RF_RF.pkl</td>\n",
       "      <td>{'selector__max_features': 500, 'selector__est...</td>\n",
       "      <td>X_test:(87, 18875)</td>\n",
       "      <td>['ENSG00000005381.9', 'ENSG00000006327.14', 'E...</td>\n",
       "      <td>0.848286</td>\n",
       "      <td>[0.6998239436619718, 0.8805555555555555, 0.874...</td>\n",
       "      <td>[0.0, 0.47619047619047616, 0.3333333333333333,...</td>\n",
       "    </tr>\n",
       "    <tr>\n",
       "      <th>0</th>\n",
       "      <td>mul_m</td>\n",
       "      <td>RF</td>\n",
       "      <td>LR_L2</td>\n",
       "      <td>9322</td>\n",
       "      <td>0.620690</td>\n",
       "      <td>0.640512</td>\n",
       "      <td>0.640744</td>\n",
       "      <td>0.619943</td>\n",
       "      <td>NaN</td>\n",
       "      <td>enderlab</td>\n",
       "      <td>45</td>\n",
       "      <td>2023-10-30 07:03:32.527151</td>\n",
       "      <td>modelo_9322_mul_m_RF_LR_L2.pkl</td>\n",
       "      <td>{'selector__max_features': 1000, 'selector__es...</td>\n",
       "      <td>X_test:(87, 18875)</td>\n",
       "      <td>['ENSG00000004799.8', 'ENSG00000006327.14', 'E...</td>\n",
       "      <td>0.873449</td>\n",
       "      <td>[0.7913732394366197, 0.9037037037037037, 0.769...</td>\n",
       "      <td>[0.35, 0.5789473684210527, 0.2777777777777778,...</td>\n",
       "    </tr>\n",
       "  </tbody>\n",
       "</table>\n",
       "</div>"
      ],
      "text/plain": [
       "    tipo select clasific  semilla  accuracy  precision    recall  f1_score  \\\n",
       "0  mul_m     RF      SVM     9322  0.494253   0.482051  0.540257  0.484610   \n",
       "0  mul_m     RF       RF     9322  0.528736   0.449888  0.576823  0.499954   \n",
       "0  mul_m     RF    LR_L2     9322  0.620690   0.640512  0.640744  0.619943   \n",
       "\n",
       "   roc_auc  hostname  total_time_sec                    datetime  \\\n",
       "0      NaN  enderlab              22  2023-10-30 07:04:40.152677   \n",
       "0      NaN  enderlab              30  2023-10-30 07:04:10.289999   \n",
       "0      NaN  enderlab              45  2023-10-30 07:03:32.527151   \n",
       "\n",
       "                   fichero_modelo  \\\n",
       "0    modelo_9322_mul_m_RF_SVM.pkl   \n",
       "0     modelo_9322_mul_m_RF_RF.pkl   \n",
       "0  modelo_9322_mul_m_RF_LR_L2.pkl   \n",
       "\n",
       "                                              params               shape  \\\n",
       "0  {'selector__max_features': 200, 'selector__est...  X_test:(87, 18875)   \n",
       "0  {'selector__max_features': 500, 'selector__est...  X_test:(87, 18875)   \n",
       "0  {'selector__max_features': 1000, 'selector__es...  X_test:(87, 18875)   \n",
       "\n",
       "                                            features  roc_auc_ovr  \\\n",
       "0  ['ENSG00000007237.19', 'ENSG00000011600.12', '...     0.820682   \n",
       "0  ['ENSG00000005381.9', 'ENSG00000006327.14', 'E...     0.848286   \n",
       "0  ['ENSG00000004799.8', 'ENSG00000006327.14', 'E...     0.873449   \n",
       "\n",
       "                                         indices_auc  \\\n",
       "0  [0.6734154929577465, 0.8777777777777778, 0.729...   \n",
       "0  [0.6998239436619718, 0.8805555555555555, 0.874...   \n",
       "0  [0.7913732394366197, 0.9037037037037037, 0.769...   \n",
       "\n",
       "                                     indices_jaccard  \n",
       "0  [0.1, 0.5, 0.23529411764705882, 0.285714285714...  \n",
       "0  [0.0, 0.47619047619047616, 0.3333333333333333,...  \n",
       "0  [0.35, 0.5789473684210527, 0.2777777777777778,...  "
      ]
     },
     "metadata": {},
     "output_type": "display_data"
    }
   ],
   "source": [
    "if M_TIPO.startswith(\"bin\"):\n",
    "    myfunc.save_metricas_to_csv(random_search, X_test, y_test, M_TIPO, M_SELECT, M_CLASIF, total_time, SEMILLA, myfunc.MET_DIR, M_FICHERO, fichero_modelo)\n",
    "else:\n",
    "    myfunc.save_metricas_multi_to_csv(random_search, X_test, y_test, M_TIPO, M_SELECT, M_CLASIF, total_time, SEMILLA, myfunc.MET_DIR, M_FICHERO, fichero_modelo)\n",
    "\n",
    "df1=myfunc.read_metricas_to_df(myfunc.MET_DIR,M_FICHERO)\n",
    "\n",
    "display(df1.sort_values(\"datetime\", ascending=False)[:3])\n"
   ]
  },
  {
   "cell_type": "markdown",
   "id": "38aefc37",
   "metadata": {
    "papermill": {
     "duration": 0.006322,
     "end_time": "2023-10-30T06:04:40.216230",
     "exception": false,
     "start_time": "2023-10-30T06:04:40.209908",
     "status": "completed"
    },
    "tags": []
   },
   "source": [
    "#### Guardar resultados"
   ]
  },
  {
   "cell_type": "code",
   "execution_count": 13,
   "id": "5cbc2560",
   "metadata": {
    "execution": {
     "iopub.execute_input": "2023-10-30T06:04:40.229974Z",
     "iopub.status.busy": "2023-10-30T06:04:40.229448Z",
     "iopub.status.idle": "2023-10-30T06:04:40.238607Z",
     "shell.execute_reply": "2023-10-30T06:04:40.238063Z"
    },
    "papermill": {
     "duration": 0.017306,
     "end_time": "2023-10-30T06:04:40.239801",
     "exception": false,
     "start_time": "2023-10-30T06:04:40.222495",
     "status": "completed"
    },
    "tags": []
   },
   "outputs": [
    {
     "name": "stdout",
     "output_type": "stream",
     "text": [
      "20231030T070440 : enderlab : INFO : Inicio guardar resultados\n",
      "20231030T070440 : enderlab : INFO : Inicio guardar fichero ../tfm_git/ejecuciones/metricas/resultados_9322_mul_m-RF-SVM.csv\n",
      "20231030T070440 : enderlab : INFO : Fin guardar fichero ../tfm_git/ejecuciones/metricas/resultados_9322_mul_m-RF-SVM.csv\n",
      "20231030T070440 : enderlab : INFO : Fin guardar resultados\n"
     ]
    }
   ],
   "source": [
    "fichero_resultados=R_FICHERO+\"_\"+M_TIPO+\"-\"+M_SELECT+\"-\"+M_CLASIF+\".csv\"\n",
    "myfunc.save_resultados_to_csv(M_TIPO, M_SELECT, M_CLASIF,  random_search, myfunc.MET_DIR, fichero_resultados)\n"
   ]
  }
 ],
 "metadata": {
  "kernelspec": {
   "display_name": "Python 3 (ipykernel)",
   "language": "python",
   "name": "python3"
  },
  "language_info": {
   "codemirror_mode": {
    "name": "ipython",
    "version": 3
   },
   "file_extension": ".py",
   "mimetype": "text/x-python",
   "name": "python",
   "nbconvert_exporter": "python",
   "pygments_lexer": "ipython3",
   "version": "3.10.11"
  },
  "papermill": {
   "default_parameters": {},
   "duration": 28.215926,
   "end_time": "2023-10-30T06:04:42.862184",
   "environment_variables": {},
   "exception": null,
   "input_path": "03_entrenamiento.ipynb",
   "output_path": "ejecuciones/training/03_entrenamiento.20231030T070414.param_0000_9322_mul_m_RF_SVM.output.ipynb",
   "parameters": {
    "MAX_ITERS": 500,
    "M_CLASIF": "SVM",
    "M_FICHERO": "metricas_9322",
    "M_SELECT": "RF",
    "M_TIPO": "mul_m",
    "PRE_DATA_FILE": "rows_transpose_norm_by_gene_id_with_target_num_",
    "P_FICHERO": "param_0000_9322_mul_m_RF_SVM.yaml",
    "R_FICHERO": "resultados_9322",
    "SCORING": "roc_auc_ovr",
    "SEMILLA": 9322,
    "eval_clasifier": "SVC(probability=True, random_state=SEMILLA)",
    "eval_selector": "SelectFromModel(estimator=RandomForestClassifier(random_state=SEMILLA), threshold=-np.inf)",
    "param_distributions": {
     "clasifier__C": [
      10
     ],
     "clasifier__gamma": [
      0.01
     ],
     "clasifier__kernel": [
      "rbf"
     ],
     "selector__estimator__n_estimators": [
      400
     ],
     "selector__max_features": [
      200
     ]
    }
   },
   "start_time": "2023-10-30T06:04:14.646258",
   "version": "2.4.0"
  }
 },
 "nbformat": 4,
 "nbformat_minor": 5
}