{
 "cells": [
  {
   "cell_type": "markdown",
   "id": "239b5a43",
   "metadata": {
    "papermill": {
     "duration": 0.0,
     "end_time": "2023-10-29T20:01:03.679381",
     "exception": false,
     "start_time": "2023-10-29T20:01:03.679381",
     "status": "completed"
    },
    "tags": []
   },
   "source": [
    "##### Inicio"
   ]
  },
  {
   "cell_type": "markdown",
   "id": "5ffd809f",
   "metadata": {
    "papermill": {
     "duration": 0.0,
     "end_time": "2023-10-29T20:01:03.679381",
     "exception": false,
     "start_time": "2023-10-29T20:01:03.679381",
     "status": "completed"
    },
    "tags": []
   },
   "source": [
    "#### Carga de datos"
   ]
  },
  {
   "cell_type": "code",
   "execution_count": 1,
   "id": "924765a1",
   "metadata": {
    "execution": {
     "iopub.execute_input": "2023-10-29T20:01:03.694806Z",
     "iopub.status.busy": "2023-10-29T20:01:03.694806Z",
     "iopub.status.idle": "2023-10-29T20:01:04.835368Z",
     "shell.execute_reply": "2023-10-29T20:01:04.835368Z"
    },
    "papermill": {
     "duration": 1.140562,
     "end_time": "2023-10-29T20:01:04.835368",
     "exception": false,
     "start_time": "2023-10-29T20:01:03.694806",
     "status": "completed"
    },
    "tags": []
   },
   "outputs": [
    {
     "name": "stdout",
     "output_type": "stream",
     "text": [
      "CPU_COUNT: 24; NODE: amilcar32; sys.version: 3.10.12 | packaged by Anaconda, Inc. | (main, Jul  5 2023, 19:09:20) [MSC v.1916 64 bit (AMD64)]\n",
      "LOKY_MAX_CPU_COUNT is not set.\n",
      "OMP_NUM_THREADS is not set.\n"
     ]
    }
   ],
   "source": [
    "import os\n",
    "import numpy as np\n",
    "import pandas as pd\n",
    "import datetime\n",
    "import sklearn\n",
    "import logging\n",
    "import warnings\n",
    "\n",
    "from sklearn.pipeline import Pipeline\n",
    "from sklearn.model_selection import RandomizedSearchCV, KFold, cross_val_score, train_test_split\n",
    "from sklearn.metrics import accuracy_score, confusion_matrix, classification_report, roc_auc_score\n",
    "\n",
    "#  cargar algoritmos para aprendizaje supervisado\n",
    "from sklearn.feature_selection import SelectKBest, f_classif, SelectFromModel, mutual_info_classif\n",
    "from sklearn.svm import SVC\n",
    "from sklearn.ensemble import RandomForestClassifier\n",
    "from sklearn.linear_model import LogisticRegression,LogisticRegressionCV\n",
    "\n",
    "# importar fichero con utilidades propias\n",
    "from commons import myfunctions as myfunc\n"
   ]
  },
  {
   "cell_type": "markdown",
   "id": "ef20a6d2",
   "metadata": {
    "papermill": {
     "duration": 0.0,
     "end_time": "2023-10-29T20:01:04.835368",
     "exception": false,
     "start_time": "2023-10-29T20:01:04.835368",
     "status": "completed"
    },
    "tags": []
   },
   "source": [
    "#### Parámetros a utilizar en el entrenamiento.\n",
    "\n",
    "Se indican los 3 algoritmos de *selección de características* (eval_selector_xxx) y los 3 algoritmos para la _clasificación_ (eval_clasifier_xxx)\n",
    "\n",
    "En *param_distributions* se indicar los parámetros que utilizan los algoritmos en la función RandomSearchCV.\n",
    "\n",
    "Esta celda tiene la etiqueta **parameters** que servirá para poder lanzar los entrenamientos con la utilidad **papermill** pasándole un fichero con los parámetros. Los nuevos parámetros se situarán tras esta celda para tener prevalencia."
   ]
  },
  {
   "cell_type": "code",
   "execution_count": 2,
   "id": "4d0de0f5",
   "metadata": {
    "execution": {
     "iopub.execute_input": "2023-10-29T20:01:04.835368Z",
     "iopub.status.busy": "2023-10-29T20:01:04.835368Z",
     "iopub.status.idle": "2023-10-29T20:01:04.866701Z",
     "shell.execute_reply": "2023-10-29T20:01:04.866701Z"
    },
    "papermill": {
     "duration": 0.031333,
     "end_time": "2023-10-29T20:01:04.866701",
     "exception": false,
     "start_time": "2023-10-29T20:01:04.835368",
     "status": "completed"
    },
    "tags": [
     "parameters"
    ]
   },
   "outputs": [
    {
     "name": "stdout",
     "output_type": "stream",
     "text": [
      "20231029T210104 : amilcar32 : INFO : Utilizando parámetros de mul_m\n"
     ]
    }
   ],
   "source": [
    "#  Parametros para el entrenamiento\n",
    "\n",
    "SEMILLA=        42\n",
    "M_TIPO=         \"mul_m\"\n",
    "M_SELECT=       \"MI\"\n",
    "M_CLASIF=       \"SVM\"\n",
    "R_FICHERO=      \"resultados\"\n",
    "M_FICHERO=      \"metricas\"\n",
    "PRE_DATA_FILE=  \"rows_transpose_norm_by_gene_id_with_target_num_\"\n",
    "SCORING=        \"roc_auc_ovr\" \n",
    "MAX_ITERS=      100\n",
    "\n",
    "def mutual_info_classif_state(X, y):\n",
    "    return mutual_info_classif(X, y, random_state=SEMILLA)\n",
    "\n",
    "eval_selector_mi = \"SelectKBest(score_func=mutual_info_classif_state)\"\n",
    "eval_selector_rf=  \"SelectFromModel(estimator=RandomForestClassifier(random_state=SEMILLA), threshold=-np.inf)\"\n",
    "eval_selector_anova=  \"SelectKBest(score_func=f_classif)\"\n",
    "\n",
    "eval_clasifier_svm= \"SVC(probability=True, random_state=SEMILLA)\"\n",
    "eval_clasifier_rf= \"RandomForestClassifier(random_state=SEMILLA)\"\n",
    "eval_clasifier_lr= \"LogisticRegressionCV(random_state=SEMILLA)\"\n",
    "\n",
    "if M_TIPO.startswith(\"bin_m\"):\n",
    "    myfunc.verbose(f\"Utilizando parámetros de {M_TIPO}\")\n",
    "    eval_selector = eval_selector_mi\n",
    "    eval_clasifier = eval_clasifier_svm\n",
    "\n",
    "    SEMILLA = 6578\n",
    "    M_SELECT = \"MI\"\n",
    "    M_CLASIF = \"SVM\"\n",
    "    param_distributions = {'selector__k': [1000], \n",
    "         'clasifier__kernel': ['rbf'], 'clasifier__gamma': [0.01], 'clasifier__C': [100]}\n",
    "elif M_TIPO.startswith(\"bin_s\"):\n",
    "    myfunc.verbose(f\"Utilizando parámetros de {M_TIPO}\")\n",
    "    eval_selector = eval_selector_rf\n",
    "    eval_clasifier = eval_clasifier_lr\n",
    "\n",
    "    SEMILLA = 6191\n",
    "    M_SELECT = \"RF\"\n",
    "    M_CLASIF = \"LR_L2\"\n",
    "    param_distributions = {'selector__max_features': [1000], 'selector__estimator__n_estimators': [200], \n",
    "        'clasifier__solver': ['lbfgs'], 'clasifier__penalty': ['l2'], 'clasifier__max_iter': [10000]}\n",
    "\n",
    "elif M_TIPO.startswith(\"mul_m\"):\n",
    "    myfunc.verbose(f\"Utilizando parámetros de {M_TIPO}\")\n",
    " \n",
    "    eval_selector = eval_selector_rf\n",
    "    eval_clasifier = eval_clasifier_lr\n",
    "\n",
    "    SEMILLA = 6191\n",
    "    M_SELECT = \"RF\"\n",
    "    M_CLASIF = \"LR_L2\"\n",
    "    param_distributions = {'selector__max_features': [1000], 'selector__estimator__n_estimators': [400], \n",
    "        'clasifier__solver': ['lbfgs'], 'clasifier__penalty': ['l2'], 'clasifier__max_iter': [10000]}\n",
    "\n",
    "else:\n",
    "    # M_TIPO.startswith(\"mul_s\"):\n",
    "    myfunc.verbose(f\"Utilizando parámetros de {M_TIPO}\")\n",
    "    eval_selector = eval_selector_anova\n",
    "    eval_clasifier = eval_clasifier_lr\n",
    "\n",
    "    SEMILLA = 1860\n",
    "    M_SELECT = \"ANOVA\"\n",
    "    M_CLASIF = \"LR_L2\"\n",
    "    param_distributions = {'selector__k': [1000], \n",
    "        'clasifier__solver': ['saga'], 'clasifier__penalty': ['l2'], 'clasifier__max_iter': [10000]}\n",
    "\n"
   ]
  },
  {
   "cell_type": "code",
   "execution_count": 3,
   "id": "acfa794f",
   "metadata": {
    "execution": {
     "iopub.execute_input": "2023-10-29T20:01:04.866701Z",
     "iopub.status.busy": "2023-10-29T20:01:04.866701Z",
     "iopub.status.idle": "2023-10-29T20:01:04.882322Z",
     "shell.execute_reply": "2023-10-29T20:01:04.882322Z"
    },
    "papermill": {
     "duration": 0.015621,
     "end_time": "2023-10-29T20:01:04.882322",
     "exception": false,
     "start_time": "2023-10-29T20:01:04.866701",
     "status": "completed"
    },
    "tags": [
     "injected-parameters"
    ]
   },
   "outputs": [],
   "source": [
    "# Parameters\n",
    "M_TIPO = \"bin_s\"\n",
    "M_SELECT = \"MI\"\n",
    "M_CLASIF = \"RF\"\n",
    "P_FICHERO = \"param_0000_1860_bin_s_MI_RF.yaml\"\n",
    "R_FICHERO = \"resultados_1860\"\n",
    "M_FICHERO = \"metricas_1860\"\n",
    "PRE_DATA_FILE = \"rows_transpose_norm_by_gene_id_with_target_num_\"\n",
    "SCORING = \"roc_auc_ovr\"\n",
    "SEMILLA = 1860\n",
    "MAX_ITERS = 500\n",
    "eval_selector = \"SelectKBest(score_func=mutual_info_classif_state)\"\n",
    "eval_clasifier = \"RandomForestClassifier(random_state=SEMILLA)\"\n",
    "param_distributions = {\n",
    "    \"selector__k\": [200],\n",
    "    \"clasifier__n_estimators\": [200],\n",
    "    \"clasifier__min_samples_split\": [20],\n",
    "    \"clasifier__min_samples_leaf\": [5],\n",
    "    \"clasifier__max_features\": [1000],\n",
    "    \"clasifier__max_depth\": [20],\n",
    "    \"clasifier__bootstrap\": [True],\n",
    "}\n"
   ]
  },
  {
   "cell_type": "code",
   "execution_count": 4,
   "id": "8deffcae",
   "metadata": {
    "execution": {
     "iopub.execute_input": "2023-10-29T20:01:04.882322Z",
     "iopub.status.busy": "2023-10-29T20:01:04.882322Z",
     "iopub.status.idle": "2023-10-29T20:01:04.897909Z",
     "shell.execute_reply": "2023-10-29T20:01:04.897909Z"
    },
    "papermill": {
     "duration": 0.015587,
     "end_time": "2023-10-29T20:01:04.897909",
     "exception": false,
     "start_time": "2023-10-29T20:01:04.882322",
     "status": "completed"
    },
    "tags": []
   },
   "outputs": [],
   "source": [
    "DATA_FILE = PRE_DATA_FILE + M_TIPO\n",
    "\n",
    "# si viene \"None\" en el parámetro max_depth, se le quitan las comillas para que no sea entendido por el algoritmo como un texto\n",
    "if \"clasifier__max_depth\" in param_distributions:\n",
    "    param_distributions['clasifier__max_depth'] = [None if x == 'None' else x for x in param_distributions['clasifier__max_depth']]"
   ]
  },
  {
   "cell_type": "markdown",
   "id": "ac37ea8c",
   "metadata": {
    "papermill": {
     "duration": 0.0,
     "end_time": "2023-10-29T20:01:04.897909",
     "exception": false,
     "start_time": "2023-10-29T20:01:04.897909",
     "status": "completed"
    },
    "tags": []
   },
   "source": [
    "Asignar los algoritmos que se utilizarán en la función RandomSearchCV"
   ]
  },
  {
   "cell_type": "code",
   "execution_count": 5,
   "id": "2260920a",
   "metadata": {
    "execution": {
     "iopub.execute_input": "2023-10-29T20:01:04.913566Z",
     "iopub.status.busy": "2023-10-29T20:01:04.913566Z",
     "iopub.status.idle": "2023-10-29T20:01:04.929201Z",
     "shell.execute_reply": "2023-10-29T20:01:04.929201Z"
    },
    "papermill": {
     "duration": 0.031292,
     "end_time": "2023-10-29T20:01:04.929201",
     "exception": false,
     "start_time": "2023-10-29T20:01:04.897909",
     "status": "completed"
    },
    "tags": []
   },
   "outputs": [],
   "source": [
    "algor_selector=eval(eval_selector)\n",
    "algor_clasifier=eval(eval_clasifier)"
   ]
  },
  {
   "cell_type": "markdown",
   "id": "a69f9aaf",
   "metadata": {
    "papermill": {
     "duration": 0.0,
     "end_time": "2023-10-29T20:01:04.929201",
     "exception": false,
     "start_time": "2023-10-29T20:01:04.929201",
     "status": "completed"
    },
    "tags": []
   },
   "source": [
    "#### Comprobar el entorno y leer fichero de muestras"
   ]
  },
  {
   "cell_type": "code",
   "execution_count": 6,
   "id": "0504d01d",
   "metadata": {
    "execution": {
     "iopub.execute_input": "2023-10-29T20:01:04.944812Z",
     "iopub.status.busy": "2023-10-29T20:01:04.944812Z",
     "iopub.status.idle": "2023-10-29T20:01:05.116692Z",
     "shell.execute_reply": "2023-10-29T20:01:05.116692Z"
    },
    "papermill": {
     "duration": 0.17188,
     "end_time": "2023-10-29T20:01:05.116692",
     "exception": false,
     "start_time": "2023-10-29T20:01:04.944812",
     "status": "completed"
    },
    "tags": []
   },
   "outputs": [
    {
     "name": "stdout",
     "output_type": "stream",
     "text": [
      "20231029T210104 : amilcar32 : INFO : Encontrada carpeta DATA_DIR=..\\tfm_viu\\datos\n",
      "20231029T210104 : amilcar32 : INFO : Encontrada carpeta CFDNA_DIR=..\\tfm_viu\\datos\\cfDNA_5hmC\n",
      "20231029T210104 : amilcar32 : INFO : Encontrada carpeta GENCODE_DIR=..\\tfm_viu\\datos\\gencode\n",
      "20231029T210104 : amilcar32 : INFO : Encontrada carpeta H5_DIR=..\\tfm_viu\\datos\\h5\n",
      "20231029T210104 : amilcar32 : INFO : Encontrada carpeta LOG_DIR=..\\tfm_viu\\datos\\logs\n",
      "20231029T210104 : amilcar32 : INFO : Encontrada carpeta CSV_DIR=..\\tfm_viu\\datos\\csv\n",
      "20231029T210104 : amilcar32 : INFO : Encontrada carpeta MODEL_DIR=..\\tfm_viu\\ejecuciones\\modelos\n",
      "20231029T210104 : amilcar32 : INFO : Encontrada carpeta EXEC_DIR=..\\tfm_viu\\ejecuciones\n",
      "20231029T210104 : amilcar32 : INFO : Encontrada carpeta MET_DIR=..\\tfm_viu\\ejecuciones\\metricas\n",
      "20231029T210104 : amilcar32 : INFO : Inicio leer fichero h5 ..\\tfm_viu\\datos\\h5\\rows_transpose_norm_by_gene_id_with_target_num_bin_s.h5\n",
      "20231029T210104 : amilcar32 : INFO : Leyendo clave /df\n"
     ]
    },
    {
     "name": "stdout",
     "output_type": "stream",
     "text": [
      "20231029T210105 : amilcar32 : INFO : Tamaño (443, 18876)\n",
      "20231029T210105 : amilcar32 : INFO : Fin leer fichero h5 ..\\tfm_viu\\datos\\h5\\rows_transpose_norm_by_gene_id_with_target_num_bin_s.h5\n"
     ]
    },
    {
     "data": {
      "text/plain": [
       "target\n",
       "0    221\n",
       "1    222\n",
       "dtype: int64"
      ]
     },
     "metadata": {},
     "output_type": "display_data"
    },
    {
     "name": "stdout",
     "output_type": "stream",
     "text": [
      "Shape df: (443, 18876)\n",
      "Shape X_train: (354, 18875)\n",
      "Shape X_test: (89, 18875)\n"
     ]
    }
   ],
   "source": [
    "start_time = datetime.datetime.now()\n",
    "\n",
    "myfunc.reset_vars()\n",
    "\n",
    "myfunc.NOTEBK_FILENAME = myfunc.get_nb_name()\n",
    "\n",
    "myfunc.check_enviroment(myfunc.DATA_DIR, myfunc.CFDNA_DIR, myfunc.GENCODE_DIR, myfunc.H5_DIR, myfunc.LOG_DIR, myfunc.CSV_DIR, myfunc.MODEL_DIR, myfunc.EXEC_DIR, myfunc.MET_DIR)\n",
    "\n",
    "# Leer fichero con las muestras\n",
    "df_t = myfunc.read_h5_to_df(DATA_FILE, myfunc.H5_DIR)\n",
    "display(df_t.groupby(\"target\").size())\n",
    "print(\"Shape df:\",df_t.shape)\n",
    "\n",
    "# Separar caracteristicas/genes de las etiquetas/tipos de cáncer\n",
    "X = df_t.iloc[:, :-1]  # Todas las columnas excepto la última\n",
    "y = df_t.iloc[:, -1]  # La última columna contiene los identificadores de los tipos de cáncer\n",
    "\n",
    "#  Crear el conjunto de datos de entrenamiento y de pruebas, y se fija la semilla para siempre coger el mismo juego de muestras\n",
    "X_train, X_test, y_train, y_test = train_test_split(X, y, test_size=0.2, shuffle=True, random_state=42)\n",
    "print(\"Shape X_train:\",X_train.shape)\n",
    "print(\"Shape X_test:\",X_test.shape)\n"
   ]
  },
  {
   "cell_type": "markdown",
   "id": "daf4b71d",
   "metadata": {
    "papermill": {
     "duration": 0.0,
     "end_time": "2023-10-29T20:01:05.116692",
     "exception": false,
     "start_time": "2023-10-29T20:01:05.116692",
     "status": "completed"
    },
    "tags": []
   },
   "source": [
    "#### Selección de características y clasificación."
   ]
  },
  {
   "cell_type": "code",
   "execution_count": 7,
   "id": "f4a4940d",
   "metadata": {
    "execution": {
     "iopub.execute_input": "2023-10-29T20:01:05.132314Z",
     "iopub.status.busy": "2023-10-29T20:01:05.132314Z",
     "iopub.status.idle": "2023-10-29T20:03:36.311456Z",
     "shell.execute_reply": "2023-10-29T20:03:36.311456Z"
    },
    "papermill": {
     "duration": 151.194764,
     "end_time": "2023-10-29T20:03:36.311456",
     "exception": false,
     "start_time": "2023-10-29T20:01:05.116692",
     "status": "completed"
    },
    "tags": []
   },
   "outputs": [
    {
     "name": "stdout",
     "output_type": "stream",
     "text": [
      "20231029T210105 : amilcar32 : INFO : Iniciando entrenamiento\n",
      "num_iter: 1 , max_iter: 1\n"
     ]
    },
    {
     "name": "stdout",
     "output_type": "stream",
     "text": [
      "Fitting 5 folds for each of 1 candidates, totalling 5 fits\n"
     ]
    },
    {
     "name": "stdout",
     "output_type": "stream",
     "text": [
      "Mejores Hiperparámetros: {'selector__k': 200, 'clasifier__n_estimators': 200, 'clasifier__min_samples_split': 20, 'clasifier__min_samples_leaf': 5, 'clasifier__max_features': 1000, 'clasifier__max_depth': 20, 'clasifier__bootstrap': True}\n",
      "Mejor Puntuación: 0.6984\n",
      "20231029T210336 : amilcar32 : INFO : Fin entrenamiento\n"
     ]
    }
   ],
   "source": [
    "myfunc.verbose(\"Iniciando entrenamiento\")\n",
    "\n",
    "kf = KFold(n_splits=5, shuffle=True, random_state=SEMILLA)\n",
    "\n",
    "# Crear el pipeline para el flujo de tareas\n",
    "tasks_pipeline = Pipeline([\n",
    "    ('selector', algor_selector),\n",
    "    ('clasifier', algor_clasifier)\n",
    "])\n",
    "\n",
    "# MAX_ITERS puede limitar el número de iteraciones si son excesivas para las combinaciones de parámetros buscando un óptimo local, \n",
    "# sino funcionaría como GridSearchCV al revisar todas las cominaciones de los parámetros\n",
    "num_iteraciones = 1\n",
    "num_iteraciones = num_iteraciones * np.prod([len(elemento1) for _, elemento1 in param_distributions.items()])\n",
    "max_iteraciones = num_iteraciones if num_iteraciones <= MAX_ITERS else MAX_ITERS\n",
    "print(\"num_iter:\",num_iteraciones,\", max_iter:\",max_iteraciones)\n",
    "\n",
    "random_search = RandomizedSearchCV(\n",
    "    tasks_pipeline, \n",
    "    param_distributions, \n",
    "    n_iter=max_iteraciones,\n",
    "    scoring=SCORING,\n",
    "    cv=kf,\n",
    "    verbose=3, \n",
    "    random_state=SEMILLA, \n",
    "    n_jobs=-1\n",
    "    )\n",
    "\n",
    "# Entrenar el modelo\n",
    "random_search.fit(X_train, y_train)\n",
    "\n",
    "# Ver los mejores hiperparámetros encontrados\n",
    "print(f'Mejores Hiperparámetros: {random_search.best_params_}')\n",
    "print(f'Mejor Puntuación: {random_search.best_score_:.4f}')\n",
    "\n",
    "# Nos quedamos con el mejor modelo para ver las métricas\n",
    "mejor_modelo = random_search.best_estimator_\n",
    "\n",
    "myfunc.verbose(\"Fin entrenamiento\")"
   ]
  },
  {
   "cell_type": "markdown",
   "id": "c5a02e09",
   "metadata": {
    "papermill": {
     "duration": 0.015623,
     "end_time": "2023-10-29T20:03:36.342704",
     "exception": false,
     "start_time": "2023-10-29T20:03:36.327081",
     "status": "completed"
    },
    "tags": []
   },
   "source": [
    "#### Guardar modelo"
   ]
  },
  {
   "cell_type": "code",
   "execution_count": 8,
   "id": "0aeccf97",
   "metadata": {
    "execution": {
     "iopub.execute_input": "2023-10-29T20:03:36.358329Z",
     "iopub.status.busy": "2023-10-29T20:03:36.358329Z",
     "iopub.status.idle": "2023-10-29T20:03:36.561567Z",
     "shell.execute_reply": "2023-10-29T20:03:36.561567Z"
    },
    "papermill": {
     "duration": 0.203238,
     "end_time": "2023-10-29T20:03:36.561567",
     "exception": false,
     "start_time": "2023-10-29T20:03:36.358329",
     "status": "completed"
    },
    "tags": []
   },
   "outputs": [
    {
     "name": "stdout",
     "output_type": "stream",
     "text": [
      "20231029T210336 : amilcar32 : INFO : Inicio guardar fichero ..\\tfm_viu\\ejecuciones\\modelos\\modelo_1860_bin_s_MI_RF.pkl\n"
     ]
    },
    {
     "name": "stdout",
     "output_type": "stream",
     "text": [
      "20231029T210336 : amilcar32 : INFO : Fin guardar fichero ..\\tfm_viu\\ejecuciones\\modelos\\modelo_1860_bin_s_MI_RF.pkl\n"
     ]
    }
   ],
   "source": [
    "fichero_modelo = str.replace(\"modelo_\"+str(SEMILLA).zfill(4)+\"_\"+M_TIPO+\"_\"+M_SELECT+\"_\"+M_CLASIF+\".pkl\", \" \", \"_\")\n",
    "\n",
    "myfunc.save_modelo(mejor_modelo, myfunc.MODEL_DIR, fichero_modelo)"
   ]
  },
  {
   "cell_type": "markdown",
   "id": "11aae6e5",
   "metadata": {
    "papermill": {
     "duration": 0.015628,
     "end_time": "2023-10-29T20:03:36.592694",
     "exception": false,
     "start_time": "2023-10-29T20:03:36.577066",
     "status": "completed"
    },
    "tags": []
   },
   "source": [
    "#### Ver resultados del las iteraciones hechas por RandomSearchCV"
   ]
  },
  {
   "cell_type": "code",
   "execution_count": 9,
   "id": "cfc64d85",
   "metadata": {
    "execution": {
     "iopub.execute_input": "2023-10-29T20:03:36.608323Z",
     "iopub.status.busy": "2023-10-29T20:03:36.608323Z",
     "iopub.status.idle": "2023-10-29T20:03:36.639730Z",
     "shell.execute_reply": "2023-10-29T20:03:36.639730Z"
    },
    "papermill": {
     "duration": 0.047036,
     "end_time": "2023-10-29T20:03:36.639730",
     "exception": false,
     "start_time": "2023-10-29T20:03:36.592694",
     "status": "completed"
    },
    "tags": []
   },
   "outputs": [
    {
     "name": "stdout",
     "output_type": "stream",
     "text": [
      "20231029T210336 : amilcar32 : INFO : Inicio ver resultados\n",
      "Mejores Hiperparámetros: {'selector__k': 200, 'clasifier__n_estimators': 200, 'clasifier__min_samples_split': 20, 'clasifier__min_samples_leaf': 5, 'clasifier__max_features': 1000, 'clasifier__max_depth': 20, 'clasifier__bootstrap': True}\n",
      "Mejores puntuaciones: 0.6984 | Params: {'selector__k': 200, 'clasifier__n_estimators': 200, 'clasifier__min_samples_split': 20, 'clasifier__min_samples_leaf': 5, 'clasifier__max_features': 1000, 'clasifier__max_depth': 20, 'clasifier__bootstrap': True}\n",
      "Media de las puntuaciones: 0.6984 | Params: {'selector__k': 200, 'clasifier__n_estimators': 200, 'clasifier__min_samples_split': 20, 'clasifier__min_samples_leaf': 5, 'clasifier__max_features': 1000, 'clasifier__max_depth': 20, 'clasifier__bootstrap': True}\n",
      "20231029T210336 : amilcar32 : INFO : Fin resultados\n"
     ]
    }
   ],
   "source": [
    "myfunc.ver_resultados_search(random_search)"
   ]
  },
  {
   "cell_type": "markdown",
   "id": "906c27a2",
   "metadata": {
    "papermill": {
     "duration": 0.015628,
     "end_time": "2023-10-29T20:03:36.670828",
     "exception": false,
     "start_time": "2023-10-29T20:03:36.655200",
     "status": "completed"
    },
    "tags": []
   },
   "source": [
    "#### Ver métricas del mejor modelo"
   ]
  },
  {
   "cell_type": "code",
   "execution_count": 10,
   "id": "ac230e9a",
   "metadata": {
    "execution": {
     "iopub.execute_input": "2023-10-29T20:03:36.686454Z",
     "iopub.status.busy": "2023-10-29T20:03:36.686454Z",
     "iopub.status.idle": "2023-10-29T20:03:37.688847Z",
     "shell.execute_reply": "2023-10-29T20:03:37.688847Z"
    },
    "papermill": {
     "duration": 1.002393,
     "end_time": "2023-10-29T20:03:37.688847",
     "exception": false,
     "start_time": "2023-10-29T20:03:36.686454",
     "status": "completed"
    },
    "tags": []
   },
   "outputs": [
    {
     "name": "stdout",
     "output_type": "stream",
     "text": [
      "20231029T210336 : amilcar32 : INFO : Inicio ver métricas\n"
     ]
    },
    {
     "name": "stdout",
     "output_type": "stream",
     "text": [
      "              precision    recall  f1-score   support\n",
      "\n",
      "           0       0.57      0.63      0.60        46\n",
      "           1       0.55      0.49      0.52        43\n",
      "\n",
      "    accuracy                           0.56        89\n",
      "   macro avg       0.56      0.56      0.56        89\n",
      "weighted avg       0.56      0.56      0.56        89\n",
      "\n",
      "\n",
      "\n",
      "   Exactitud: 0.5618\n",
      "   Precisión: 0.5606\n",
      "Sensibilidad: 0.5594\n",
      "    F1-score: 0.5582\n",
      "     AUC ROC: 0.6638\n"
     ]
    },
    {
     "data": {
      "image/png": "[encoded data removed]",
      "text/plain": [
       "<Figure size 300x100 with 2 Axes>"
      ]
     },
     "metadata": {},
     "output_type": "display_data"
    },
    {
     "data": {
      "image/png": "[encoded data removed]",
      "text/plain": [
       "<Figure size 800x500 with 1 Axes>"
      ]
     },
     "metadata": {},
     "output_type": "display_data"
    },
    {
     "name": "stdout",
     "output_type": "stream",
     "text": [
      "20231029T210337 : amilcar32 : INFO : Fin ver métricas\n"
     ]
    }
   ],
   "source": [
    "if M_TIPO.startswith(\"bin\"):\n",
    "    myfunc.ver_metricas(mejor_modelo, X_test, y_test)\n",
    "else:\n",
    "    myfunc.ver_metricas_multi(mejor_modelo, X_test, y_test)\n"
   ]
  },
  {
   "cell_type": "markdown",
   "id": "91c475fc",
   "metadata": {
    "papermill": {
     "duration": 0.0,
     "end_time": "2023-10-29T20:03:37.706419",
     "exception": false,
     "start_time": "2023-10-29T20:03:37.706419",
     "status": "completed"
    },
    "tags": []
   },
   "source": [
    "#### Finalización del notebook"
   ]
  },
  {
   "cell_type": "code",
   "execution_count": 11,
   "id": "5eb921c1",
   "metadata": {
    "execution": {
     "iopub.execute_input": "2023-10-29T20:03:37.720516Z",
     "iopub.status.busy": "2023-10-29T20:03:37.720516Z",
     "iopub.status.idle": "2023-10-29T20:03:37.752006Z",
     "shell.execute_reply": "2023-10-29T20:03:37.752006Z"
    },
    "papermill": {
     "duration": 0.03149,
     "end_time": "2023-10-29T20:03:37.752006",
     "exception": false,
     "start_time": "2023-10-29T20:03:37.720516",
     "status": "completed"
    },
    "tags": []
   },
   "outputs": [
    {
     "name": "stdout",
     "output_type": "stream",
     "text": [
      "20231029T210337 : amilcar32 : INFO : Notebook ha tardado 152 seconds\n"
     ]
    }
   ],
   "source": [
    "end_time = datetime.datetime.now()\n",
    "total_time = end_time - start_time\n",
    "myfunc.verbose(f\"Notebook ha tardado {total_time.seconds} seconds\")"
   ]
  },
  {
   "cell_type": "markdown",
   "id": "f8028cb9",
   "metadata": {
    "papermill": {
     "duration": 0.015619,
     "end_time": "2023-10-29T20:03:37.783112",
     "exception": false,
     "start_time": "2023-10-29T20:03:37.767493",
     "status": "completed"
    },
    "tags": []
   },
   "source": [
    "#### Guardar métricas"
   ]
  },
  {
   "cell_type": "code",
   "execution_count": 12,
   "id": "fc3d97ac",
   "metadata": {
    "execution": {
     "iopub.execute_input": "2023-10-29T20:03:37.814357Z",
     "iopub.status.busy": "2023-10-29T20:03:37.814357Z",
     "iopub.status.idle": "2023-10-29T20:03:38.317134Z",
     "shell.execute_reply": "2023-10-29T20:03:38.317134Z"
    },
    "papermill": {
     "duration": 0.518396,
     "end_time": "2023-10-29T20:03:38.317134",
     "exception": false,
     "start_time": "2023-10-29T20:03:37.798738",
     "status": "completed"
    },
    "tags": []
   },
   "outputs": [
    {
     "name": "stdout",
     "output_type": "stream",
     "text": [
      "20231029T210337 : amilcar32 : INFO : Inicio guardar métricas\n",
      "20231029T210337 : amilcar32 : INFO : Inicio leer fichero ..\\tfm_viu\\ejecuciones\\metricas\\metricas_1860.csv\n",
      "20231029T210337 : amilcar32 : INFO : Fin leer fichero ..\\tfm_viu\\ejecuciones\\metricas\\metricas_1860.csv\n"
     ]
    },
    {
     "name": "stdout",
     "output_type": "stream",
     "text": [
      "20231029T210338 : amilcar32 : INFO : Inicio guardar fichero ..\\tfm_viu\\ejecuciones\\metricas\\metricas_1860.csv\n",
      "20231029T210338 : amilcar32 : INFO : Fichero borrado ..\\tfm_viu\\ejecuciones\\metricas\\metricas_1860.csv\n",
      "20231029T210338 : amilcar32 : INFO : Fin guardar fichero ..\\tfm_viu\\ejecuciones\\metricas\\metricas_1860.csv\n",
      "20231029T210338 : amilcar32 : INFO : Fin guardar métricas\n",
      "20231029T210338 : amilcar32 : INFO : Inicio leer fichero ..\\tfm_viu\\ejecuciones\\metricas\\metricas_1860.csv\n",
      "20231029T210338 : amilcar32 : INFO : Fin leer fichero ..\\tfm_viu\\ejecuciones\\metricas\\metricas_1860.csv\n"
     ]
    },
    {
     "data": {
      "text/html": [
       "<div>\n",
       "<style scoped>\n",
       "    .dataframe tbody tr th:only-of-type {\n",
       "        vertical-align: middle;\n",
       "    }\n",
       "\n",
       "    .dataframe tbody tr th {\n",
       "        vertical-align: top;\n",
       "    }\n",
       "\n",
       "    .dataframe thead th {\n",
       "        text-align: right;\n",
       "    }\n",
       "</style>\n",
       "<table border=\"1\" class=\"dataframe\">\n",
       "  <thead>\n",
       "    <tr style=\"text-align: right;\">\n",
       "      <th></th>\n",
       "      <th>tipo</th>\n",
       "      <th>select</th>\n",
       "      <th>clasific</th>\n",
       "      <th>semilla</th>\n",
       "      <th>accuracy</th>\n",
       "      <th>precision</th>\n",
       "      <th>recall</th>\n",
       "      <th>f1_score</th>\n",
       "      <th>roc_auc</th>\n",
       "      <th>hostname</th>\n",
       "      <th>total_time_sec</th>\n",
       "      <th>datetime</th>\n",
       "      <th>fichero_modelo</th>\n",
       "      <th>params</th>\n",
       "      <th>shape</th>\n",
       "      <th>features</th>\n",
       "    </tr>\n",
       "  </thead>\n",
       "  <tbody>\n",
       "    <tr>\n",
       "      <th>0</th>\n",
       "      <td>bin_s</td>\n",
       "      <td>MI</td>\n",
       "      <td>RF</td>\n",
       "      <td>1860</td>\n",
       "      <td>0.561798</td>\n",
       "      <td>0.560630</td>\n",
       "      <td>0.559403</td>\n",
       "      <td>0.558228</td>\n",
       "      <td>0.663802</td>\n",
       "      <td>amilcar32</td>\n",
       "      <td>152</td>\n",
       "      <td>2023-10-29 21:03:38.222552</td>\n",
       "      <td>modelo_1860_bin_s_MI_RF.pkl</td>\n",
       "      <td>{'selector__k': 200, 'clasifier__n_estimators'...</td>\n",
       "      <td>X_test:(89, 18875)</td>\n",
       "      <td>['ENSG00000003402.21', 'ENSG00000006712.15', '...</td>\n",
       "    </tr>\n",
       "    <tr>\n",
       "      <th>0</th>\n",
       "      <td>bin_s</td>\n",
       "      <td>MI</td>\n",
       "      <td>LR_L2</td>\n",
       "      <td>1860</td>\n",
       "      <td>0.662921</td>\n",
       "      <td>0.662602</td>\n",
       "      <td>0.661780</td>\n",
       "      <td>0.661854</td>\n",
       "      <td>0.752781</td>\n",
       "      <td>amilcar32</td>\n",
       "      <td>277</td>\n",
       "      <td>2023-10-29 21:00:59.767475</td>\n",
       "      <td>modelo_1860_bin_s_MI_LR_L2.pkl</td>\n",
       "      <td>{'selector__k': 500, 'clasifier__solver': 'sag...</td>\n",
       "      <td>X_test:(89, 18875)</td>\n",
       "      <td>['ENSG00000002933.9', 'ENSG00000003402.21', 'E...</td>\n",
       "    </tr>\n",
       "    <tr>\n",
       "      <th>0</th>\n",
       "      <td>bin_s</td>\n",
       "      <td>MI</td>\n",
       "      <td>LR_L1</td>\n",
       "      <td>1860</td>\n",
       "      <td>0.674157</td>\n",
       "      <td>0.674235</td>\n",
       "      <td>0.672649</td>\n",
       "      <td>0.672670</td>\n",
       "      <td>0.759353</td>\n",
       "      <td>amilcar32</td>\n",
       "      <td>590</td>\n",
       "      <td>2023-10-29 20:56:16.448006</td>\n",
       "      <td>modelo_1860_bin_s_MI_LR_L1.pkl</td>\n",
       "      <td>{'selector__k': 1000, 'clasifier__solver': 'sa...</td>\n",
       "      <td>X_test:(89, 18875)</td>\n",
       "      <td>['ENSG00000002933.9', 'ENSG00000003402.21', 'E...</td>\n",
       "    </tr>\n",
       "  </tbody>\n",
       "</table>\n",
       "</div>"
      ],
      "text/plain": [
       "    tipo select clasific  semilla  accuracy  precision    recall  f1_score  \\\n",
       "0  bin_s     MI       RF     1860  0.561798   0.560630  0.559403  0.558228   \n",
       "0  bin_s     MI    LR_L2     1860  0.662921   0.662602  0.661780  0.661854   \n",
       "0  bin_s     MI    LR_L1     1860  0.674157   0.674235  0.672649  0.672670   \n",
       "\n",
       "    roc_auc   hostname  total_time_sec                    datetime  \\\n",
       "0  0.663802  amilcar32             152  2023-10-29 21:03:38.222552   \n",
       "0  0.752781  amilcar32             277  2023-10-29 21:00:59.767475   \n",
       "0  0.759353  amilcar32             590  2023-10-29 20:56:16.448006   \n",
       "\n",
       "                   fichero_modelo  \\\n",
       "0     modelo_1860_bin_s_MI_RF.pkl   \n",
       "0  modelo_1860_bin_s_MI_LR_L2.pkl   \n",
       "0  modelo_1860_bin_s_MI_LR_L1.pkl   \n",
       "\n",
       "                                              params               shape  \\\n",
       "0  {'selector__k': 200, 'clasifier__n_estimators'...  X_test:(89, 18875)   \n",
       "0  {'selector__k': 500, 'clasifier__solver': 'sag...  X_test:(89, 18875)   \n",
       "0  {'selector__k': 1000, 'clasifier__solver': 'sa...  X_test:(89, 18875)   \n",
       "\n",
       "                                            features  \n",
       "0  ['ENSG00000003402.21', 'ENSG00000006712.15', '...  \n",
       "0  ['ENSG00000002933.9', 'ENSG00000003402.21', 'E...  \n",
       "0  ['ENSG00000002933.9', 'ENSG00000003402.21', 'E...  "
      ]
     },
     "metadata": {},
     "output_type": "display_data"
    }
   ],
   "source": [
    "if M_TIPO.startswith(\"bin\"):\n",
    "    myfunc.save_metricas_to_csv(random_search, X_test, y_test, M_TIPO, M_SELECT, M_CLASIF, total_time, SEMILLA, myfunc.MET_DIR, M_FICHERO, fichero_modelo)\n",
    "else:\n",
    "    myfunc.save_metricas_multi_to_csv(random_search, X_test, y_test, M_TIPO, M_SELECT, M_CLASIF, total_time, SEMILLA, myfunc.MET_DIR, M_FICHERO, fichero_modelo)\n",
    "\n",
    "df1=myfunc.read_metricas_to_df(myfunc.MET_DIR,M_FICHERO)\n",
    "\n",
    "display(df1.sort_values(\"datetime\", ascending=False)[:3])\n"
   ]
  },
  {
   "cell_type": "markdown",
   "id": "91c73498",
   "metadata": {
    "papermill": {
     "duration": 0.0,
     "end_time": "2023-10-29T20:03:38.332590",
     "exception": false,
     "start_time": "2023-10-29T20:03:38.332590",
     "status": "completed"
    },
    "tags": []
   },
   "source": [
    "#### Guardar resultados"
   ]
  },
  {
   "cell_type": "code",
   "execution_count": 13,
   "id": "61b80021",
   "metadata": {
    "execution": {
     "iopub.execute_input": "2023-10-29T20:03:38.363842Z",
     "iopub.status.busy": "2023-10-29T20:03:38.363842Z",
     "iopub.status.idle": "2023-10-29T20:03:38.410874Z",
     "shell.execute_reply": "2023-10-29T20:03:38.410874Z"
    },
    "papermill": {
     "duration": 0.062666,
     "end_time": "2023-10-29T20:03:38.410874",
     "exception": false,
     "start_time": "2023-10-29T20:03:38.348208",
     "status": "completed"
    },
    "tags": []
   },
   "outputs": [
    {
     "name": "stdout",
     "output_type": "stream",
     "text": [
      "20231029T210338 : amilcar32 : INFO : Inicio guardar resultados\n",
      "20231029T210338 : amilcar32 : INFO : Inicio guardar fichero ..\\tfm_viu\\ejecuciones\\metricas\\resultados_1860_bin_s-MI-RF.csv\n",
      "20231029T210338 : amilcar32 : INFO : Fin guardar fichero ..\\tfm_viu\\ejecuciones\\metricas\\resultados_1860_bin_s-MI-RF.csv\n",
      "20231029T210338 : amilcar32 : INFO : Fin guardar resultados\n"
     ]
    }
   ],
   "source": [
    "fichero_resultados=R_FICHERO+\"_\"+M_TIPO+\"-\"+M_SELECT+\"-\"+M_CLASIF+\".csv\"\n",
    "myfunc.save_resultados_to_csv(M_TIPO, M_SELECT, M_CLASIF,  random_search, myfunc.MET_DIR, fichero_resultados)\n"
   ]
  }
 ],
 "metadata": {
  "kernelspec": {
   "display_name": "Python 3 (ipykernel)",
   "language": "python",
   "name": "python3"
  },
  "language_info": {
   "codemirror_mode": {
    "name": "ipython",
    "version": 3
   },
   "file_extension": ".py",
   "mimetype": "text/x-python",
   "name": "python",
   "nbconvert_exporter": "python",
   "pygments_lexer": "ipython3",
   "version": "3.10.12"
  },
  "papermill": {
   "default_parameters": {},
   "duration": 157.563574,
   "end_time": "2023-10-29T20:03:39.427020",
   "environment_variables": {},
   "exception": null,
   "input_path": "03_entrenamiento.ipynb",
   "output_path": "ejecuciones\\training\\03_entrenamiento.20231029T210101.param_0000_1860_bin_s_MI_RF.output.ipynb",
   "parameters": {
    "MAX_ITERS": 500,
    "M_CLASIF": "RF",
    "M_FICHERO": "metricas_1860",
    "M_SELECT": "MI",
    "M_TIPO": "bin_s",
    "PRE_DATA_FILE": "rows_transpose_norm_by_gene_id_with_target_num_",
    "P_FICHERO": "param_0000_1860_bin_s_MI_RF.yaml",
    "R_FICHERO": "resultados_1860",
    "SCORING": "roc_auc_ovr",
    "SEMILLA": 1860,
    "eval_clasifier": "RandomForestClassifier(random_state=SEMILLA)",
    "eval_selector": "SelectKBest(score_func=mutual_info_classif_state)",
    "param_distributions": {
     "clasifier__bootstrap": [
      true
     ],
     "clasifier__max_depth": [
      20
     ],
     "clasifier__max_features": [
      1000
     ],
     "clasifier__min_samples_leaf": [
      5
     ],
     "clasifier__min_samples_split": [
      20
     ],
     "clasifier__n_estimators": [
      200
     ],
     "selector__k": [
      200
     ]
    }
   },
   "start_time": "2023-10-29T20:01:01.863446",
   "version": "2.4.0"
  }
 },
 "nbformat": 4,
 "nbformat_minor": 5
}