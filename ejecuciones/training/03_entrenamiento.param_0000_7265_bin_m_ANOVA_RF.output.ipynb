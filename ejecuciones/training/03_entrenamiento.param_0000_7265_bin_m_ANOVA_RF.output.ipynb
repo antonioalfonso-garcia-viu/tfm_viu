{
 "cells": [
  {
   "cell_type": "markdown",
   "id": "424f7bc7",
   "metadata": {
    "papermill": {
     "duration": 0.0056,
     "end_time": "2023-10-30T10:44:11.725495",
     "exception": false,
     "start_time": "2023-10-30T10:44:11.719895",
     "status": "completed"
    },
    "tags": []
   },
   "source": [
    "##### Inicio"
   ]
  },
  {
   "cell_type": "markdown",
   "id": "695b4e26",
   "metadata": {
    "papermill": {
     "duration": 0.00353,
     "end_time": "2023-10-30T10:44:11.733072",
     "exception": false,
     "start_time": "2023-10-30T10:44:11.729542",
     "status": "completed"
    },
    "tags": []
   },
   "source": [
    "#### Carga de datos"
   ]
  },
  {
   "cell_type": "code",
   "execution_count": 1,
   "id": "c12a79e5",
   "metadata": {
    "execution": {
     "iopub.execute_input": "2023-10-30T10:44:11.741511Z",
     "iopub.status.busy": "2023-10-30T10:44:11.741055Z",
     "iopub.status.idle": "2023-10-30T10:44:12.869365Z",
     "shell.execute_reply": "2023-10-30T10:44:12.868721Z"
    },
    "papermill": {
     "duration": 1.134145,
     "end_time": "2023-10-30T10:44:12.870824",
     "exception": false,
     "start_time": "2023-10-30T10:44:11.736679",
     "status": "completed"
    },
    "tags": []
   },
   "outputs": [
    {
     "name": "stdout",
     "output_type": "stream",
     "text": [
      "CPU_COUNT: 16; NODE: enderlab; sys.version: 3.10.11 (main, May 16 2023, 00:28:57) [GCC 11.2.0]\n",
      "LOKY_MAX_CPU_COUNT is not set.\n",
      "OMP_NUM_THREADS is not set.\n"
     ]
    }
   ],
   "source": [
    "import os\n",
    "import numpy as np\n",
    "import pandas as pd\n",
    "import datetime\n",
    "import sklearn\n",
    "import logging\n",
    "import warnings\n",
    "\n",
    "from sklearn.pipeline import Pipeline\n",
    "from sklearn.model_selection import RandomizedSearchCV, KFold, cross_val_score, train_test_split\n",
    "from sklearn.metrics import accuracy_score, confusion_matrix, classification_report, roc_auc_score\n",
    "\n",
    "#  cargar algoritmos para aprendizaje supervisado\n",
    "from sklearn.feature_selection import SelectKBest, f_classif, SelectFromModel, mutual_info_classif\n",
    "from sklearn.svm import SVC\n",
    "from sklearn.ensemble import RandomForestClassifier\n",
    "from sklearn.linear_model import LogisticRegression,LogisticRegressionCV\n",
    "\n",
    "# importar fichero con utilidades propias\n",
    "from commons import myfunctions as myfunc\n"
   ]
  },
  {
   "cell_type": "markdown",
   "id": "1c32c54e",
   "metadata": {
    "papermill": {
     "duration": 0.003685,
     "end_time": "2023-10-30T10:44:12.878506",
     "exception": false,
     "start_time": "2023-10-30T10:44:12.874821",
     "status": "completed"
    },
    "tags": []
   },
   "source": [
    "#### Parámetros a utilizar en el entrenamiento.\n",
    "\n",
    "Se indican los 3 algoritmos de *selección de características* (eval_selector_xxx) y los 3 algoritmos para la _clasificación_ (eval_clasifier_xxx)\n",
    "\n",
    "En *param_distributions* se indicar los parámetros que utilizan los algoritmos en la función RandomSearchCV.\n",
    "\n",
    "Esta celda tiene la etiqueta **parameters** que servirá para poder lanzar los entrenamientos con la utilidad **papermill** pasándole un fichero con los parámetros. Los nuevos parámetros se situarán tras esta celda para tener prevalencia."
   ]
  },
  {
   "cell_type": "code",
   "execution_count": 2,
   "id": "272157bb",
   "metadata": {
    "execution": {
     "iopub.execute_input": "2023-10-30T10:44:12.886821Z",
     "iopub.status.busy": "2023-10-30T10:44:12.886491Z",
     "iopub.status.idle": "2023-10-30T10:44:12.894932Z",
     "shell.execute_reply": "2023-10-30T10:44:12.894367Z"
    },
    "papermill": {
     "duration": 0.01415,
     "end_time": "2023-10-30T10:44:12.896140",
     "exception": false,
     "start_time": "2023-10-30T10:44:12.881990",
     "status": "completed"
    },
    "tags": [
     "parameters"
    ]
   },
   "outputs": [
    {
     "name": "stdout",
     "output_type": "stream",
     "text": [
      "20231030T114412 : enderlab : INFO : Utilizando parámetros de mul_m\n"
     ]
    }
   ],
   "source": [
    "#  Parametros para el entrenamiento\n",
    "\n",
    "SEMILLA=        42\n",
    "M_TIPO=         \"mul_m\"\n",
    "M_SELECT=       \"MI\"\n",
    "M_CLASIF=       \"SVM\"\n",
    "R_FICHERO=      \"resultados\"\n",
    "M_FICHERO=      \"metricas\"\n",
    "PRE_DATA_FILE=  \"rows_transpose_norm_by_gene_id_with_target_num_\"\n",
    "SCORING=        \"roc_auc_ovr\" \n",
    "MAX_ITERS=      100\n",
    "\n",
    "def mutual_info_classif_state(X, y):\n",
    "    return mutual_info_classif(X, y, random_state=SEMILLA)\n",
    "\n",
    "eval_selector_mi = \"SelectKBest(score_func=mutual_info_classif_state)\"\n",
    "eval_selector_rf=  \"SelectFromModel(estimator=RandomForestClassifier(random_state=SEMILLA), threshold=-np.inf)\"\n",
    "eval_selector_anova=  \"SelectKBest(score_func=f_classif)\"\n",
    "\n",
    "eval_clasifier_svm= \"SVC(probability=True, random_state=SEMILLA)\"\n",
    "eval_clasifier_rf= \"RandomForestClassifier(random_state=SEMILLA)\"\n",
    "eval_clasifier_lr= \"LogisticRegressionCV(random_state=SEMILLA)\"\n",
    "\n",
    "if M_TIPO.startswith(\"bin_m\"):\n",
    "    myfunc.verbose(f\"Utilizando parámetros de {M_TIPO}\")\n",
    "    eval_selector = eval_selector_mi\n",
    "    eval_clasifier = eval_clasifier_svm\n",
    "\n",
    "    SEMILLA = 6578\n",
    "    M_SELECT = \"MI\"\n",
    "    M_CLASIF = \"SVM\"\n",
    "    param_distributions = {'selector__k': [1000], \n",
    "         'clasifier__kernel': ['rbf'], 'clasifier__gamma': [0.01], 'clasifier__C': [100]}\n",
    "elif M_TIPO.startswith(\"bin_s\"):\n",
    "    myfunc.verbose(f\"Utilizando parámetros de {M_TIPO}\")\n",
    "    eval_selector = eval_selector_rf\n",
    "    eval_clasifier = eval_clasifier_lr\n",
    "\n",
    "    SEMILLA = 6191\n",
    "    M_SELECT = \"RF\"\n",
    "    M_CLASIF = \"LR_L2\"\n",
    "    param_distributions = {'selector__max_features': [1000], 'selector__estimator__n_estimators': [200], \n",
    "        'clasifier__solver': ['lbfgs'], 'clasifier__penalty': ['l2'], 'clasifier__max_iter': [10000]}\n",
    "\n",
    "elif M_TIPO.startswith(\"mul_m\"):\n",
    "    myfunc.verbose(f\"Utilizando parámetros de {M_TIPO}\")\n",
    " \n",
    "    eval_selector = eval_selector_rf\n",
    "    eval_clasifier = eval_clasifier_lr\n",
    "\n",
    "    SEMILLA = 6191\n",
    "    M_SELECT = \"RF\"\n",
    "    M_CLASIF = \"LR_L2\"\n",
    "    param_distributions = {'selector__max_features': [1000], 'selector__estimator__n_estimators': [400], \n",
    "        'clasifier__solver': ['lbfgs'], 'clasifier__penalty': ['l2'], 'clasifier__max_iter': [10000]}\n",
    "\n",
    "else:\n",
    "    # M_TIPO.startswith(\"mul_s\"):\n",
    "    myfunc.verbose(f\"Utilizando parámetros de {M_TIPO}\")\n",
    "    eval_selector = eval_selector_anova\n",
    "    eval_clasifier = eval_clasifier_lr\n",
    "\n",
    "    SEMILLA = 1860\n",
    "    M_SELECT = \"ANOVA\"\n",
    "    M_CLASIF = \"LR_L2\"\n",
    "    param_distributions = {'selector__k': [1000], \n",
    "        'clasifier__solver': ['saga'], 'clasifier__penalty': ['l2'], 'clasifier__max_iter': [10000]}\n",
    "\n"
   ]
  },
  {
   "cell_type": "code",
   "execution_count": 3,
   "id": "2303bf03",
   "metadata": {
    "execution": {
     "iopub.execute_input": "2023-10-30T10:44:12.904550Z",
     "iopub.status.busy": "2023-10-30T10:44:12.904122Z",
     "iopub.status.idle": "2023-10-30T10:44:12.908272Z",
     "shell.execute_reply": "2023-10-30T10:44:12.907738Z"
    },
    "papermill": {
     "duration": 0.009646,
     "end_time": "2023-10-30T10:44:12.909482",
     "exception": false,
     "start_time": "2023-10-30T10:44:12.899836",
     "status": "completed"
    },
    "tags": [
     "injected-parameters"
    ]
   },
   "outputs": [],
   "source": [
    "# Parameters\n",
    "M_TIPO = \"bin_m\"\n",
    "M_SELECT = \"ANOVA\"\n",
    "M_CLASIF = \"RF\"\n",
    "P_FICHERO = \"param_0000_7265_bin_m_ANOVA_RF.yaml\"\n",
    "R_FICHERO = \"resultados_7265\"\n",
    "M_FICHERO = \"metricas_7265\"\n",
    "PRE_DATA_FILE = \"rows_transpose_norm_by_gene_id_with_target_num_\"\n",
    "SCORING = \"roc_auc_ovr\"\n",
    "SEMILLA = 7265\n",
    "MAX_ITERS = 500\n",
    "eval_selector = \"SelectKBest(score_func=f_classif)\"\n",
    "eval_clasifier = \"RandomForestClassifier(random_state=SEMILLA)\"\n",
    "param_distributions = {\n",
    "    \"selector__k\": [500],\n",
    "    \"clasifier__n_estimators\": [200],\n",
    "    \"clasifier__min_samples_split\": [10],\n",
    "    \"clasifier__min_samples_leaf\": [5],\n",
    "    \"clasifier__max_features\": [100],\n",
    "    \"clasifier__max_depth\": [10],\n",
    "    \"clasifier__bootstrap\": [True],\n",
    "}\n"
   ]
  },
  {
   "cell_type": "code",
   "execution_count": 4,
   "id": "2c0ad4b2",
   "metadata": {
    "execution": {
     "iopub.execute_input": "2023-10-30T10:44:12.917747Z",
     "iopub.status.busy": "2023-10-30T10:44:12.917266Z",
     "iopub.status.idle": "2023-10-30T10:44:12.920545Z",
     "shell.execute_reply": "2023-10-30T10:44:12.920011Z"
    },
    "papermill": {
     "duration": 0.008807,
     "end_time": "2023-10-30T10:44:12.921797",
     "exception": false,
     "start_time": "2023-10-30T10:44:12.912990",
     "status": "completed"
    },
    "tags": []
   },
   "outputs": [],
   "source": [
    "DATA_FILE = PRE_DATA_FILE + M_TIPO\n",
    "\n",
    "# si viene \"None\" en el parámetro max_depth, se le quitan las comillas para que no sea entendido por el algoritmo como un texto\n",
    "if \"clasifier__max_depth\" in param_distributions:\n",
    "    param_distributions['clasifier__max_depth'] = [None if x == 'None' else x for x in param_distributions['clasifier__max_depth']]"
   ]
  },
  {
   "cell_type": "markdown",
   "id": "32932554",
   "metadata": {
    "papermill": {
     "duration": 0.003776,
     "end_time": "2023-10-30T10:44:12.929159",
     "exception": false,
     "start_time": "2023-10-30T10:44:12.925383",
     "status": "completed"
    },
    "tags": []
   },
   "source": [
    "Asignar los algoritmos que se utilizarán en la función RandomSearchCV"
   ]
  },
  {
   "cell_type": "code",
   "execution_count": 5,
   "id": "60fd5b0b",
   "metadata": {
    "execution": {
     "iopub.execute_input": "2023-10-30T10:44:12.937651Z",
     "iopub.status.busy": "2023-10-30T10:44:12.937141Z",
     "iopub.status.idle": "2023-10-30T10:44:12.940157Z",
     "shell.execute_reply": "2023-10-30T10:44:12.939624Z"
    },
    "papermill": {
     "duration": 0.008523,
     "end_time": "2023-10-30T10:44:12.941321",
     "exception": false,
     "start_time": "2023-10-30T10:44:12.932798",
     "status": "completed"
    },
    "tags": []
   },
   "outputs": [],
   "source": [
    "algor_selector=eval(eval_selector)\n",
    "algor_clasifier=eval(eval_clasifier)"
   ]
  },
  {
   "cell_type": "markdown",
   "id": "0eece46e",
   "metadata": {
    "papermill": {
     "duration": 0.003759,
     "end_time": "2023-10-30T10:44:12.948627",
     "exception": false,
     "start_time": "2023-10-30T10:44:12.944868",
     "status": "completed"
    },
    "tags": []
   },
   "source": [
    "#### Comprobar el entorno y leer fichero de muestras"
   ]
  },
  {
   "cell_type": "code",
   "execution_count": 6,
   "id": "b4a9358e",
   "metadata": {
    "execution": {
     "iopub.execute_input": "2023-10-30T10:44:12.957437Z",
     "iopub.status.busy": "2023-10-30T10:44:12.956927Z",
     "iopub.status.idle": "2023-10-30T10:44:13.273033Z",
     "shell.execute_reply": "2023-10-30T10:44:13.272442Z"
    },
    "papermill": {
     "duration": 0.321811,
     "end_time": "2023-10-30T10:44:13.274346",
     "exception": false,
     "start_time": "2023-10-30T10:44:12.952535",
     "status": "completed"
    },
    "tags": []
   },
   "outputs": [
    {
     "name": "stdout",
     "output_type": "stream",
     "text": [
      "20231030T114412 : enderlab : INFO : Encontrada carpeta DATA_DIR=../tfm_git/datos\n",
      "20231030T114412 : enderlab : INFO : Encontrada carpeta CFDNA_DIR=../tfm_git/datos/cfDNA_5hmC\n",
      "20231030T114412 : enderlab : INFO : Encontrada carpeta GENCODE_DIR=../tfm_git/datos/gencode\n",
      "20231030T114412 : enderlab : INFO : Encontrada carpeta H5_DIR=../tfm_git/datos/h5\n",
      "20231030T114412 : enderlab : INFO : Encontrada carpeta LOG_DIR=../tfm_git/datos/logs\n",
      "20231030T114412 : enderlab : INFO : Encontrada carpeta CSV_DIR=../tfm_git/datos/csv\n",
      "20231030T114412 : enderlab : INFO : Encontrada carpeta MODEL_DIR=../tfm_git/ejecuciones/modelos\n",
      "20231030T114412 : enderlab : INFO : Encontrada carpeta EXEC_DIR=../tfm_git/ejecuciones\n",
      "20231030T114412 : enderlab : INFO : Encontrada carpeta MET_DIR=../tfm_git/ejecuciones/metricas\n",
      "20231030T114412 : enderlab : INFO : Inicio leer fichero h5 ../tfm_git/datos/h5/rows_transpose_norm_by_gene_id_with_target_num_bin_m.h5\n",
      "20231030T114412 : enderlab : INFO : Leyendo clave /df\n"
     ]
    },
    {
     "name": "stdout",
     "output_type": "stream",
     "text": [
      "20231030T114413 : enderlab : INFO : Tamaño (720, 18876)\n",
      "20231030T114413 : enderlab : INFO : Fin leer fichero h5 ../tfm_git/datos/h5/rows_transpose_norm_by_gene_id_with_target_num_bin_m.h5\n"
     ]
    },
    {
     "data": {
      "text/plain": [
       "target\n",
       "0    360\n",
       "1    360\n",
       "dtype: int64"
      ]
     },
     "metadata": {},
     "output_type": "display_data"
    },
    {
     "name": "stdout",
     "output_type": "stream",
     "text": [
      "Shape df: (720, 18876)\n",
      "Shape X_train: (576, 18875)\n",
      "Shape X_test: (144, 18875)\n"
     ]
    }
   ],
   "source": [
    "start_time = datetime.datetime.now()\n",
    "\n",
    "myfunc.reset_vars()\n",
    "\n",
    "myfunc.NOTEBK_FILENAME = myfunc.get_nb_name()\n",
    "\n",
    "myfunc.check_enviroment(myfunc.DATA_DIR, myfunc.CFDNA_DIR, myfunc.GENCODE_DIR, myfunc.H5_DIR, myfunc.LOG_DIR, myfunc.CSV_DIR, myfunc.MODEL_DIR, myfunc.EXEC_DIR, myfunc.MET_DIR)\n",
    "\n",
    "# Leer fichero con las muestras\n",
    "df_t = myfunc.read_h5_to_df(DATA_FILE, myfunc.H5_DIR)\n",
    "display(df_t.groupby(\"target\").size())\n",
    "print(\"Shape df:\",df_t.shape)\n",
    "\n",
    "# Separar caracteristicas/genes de las etiquetas/tipos de cáncer\n",
    "X = df_t.iloc[:, :-1]  # Todas las columnas excepto la última\n",
    "y = df_t.iloc[:, -1]  # La última columna contiene los identificadores de los tipos de cáncer\n",
    "\n",
    "#  Crear el conjunto de datos de entrenamiento y de pruebas, y se fija la semilla para siempre coger el mismo juego de muestras\n",
    "X_train, X_test, y_train, y_test = train_test_split(X, y, test_size=0.2, shuffle=True, random_state=42)\n",
    "print(\"Shape X_train:\",X_train.shape)\n",
    "print(\"Shape X_test:\",X_test.shape)\n"
   ]
  },
  {
   "cell_type": "markdown",
   "id": "3c8117e1",
   "metadata": {
    "papermill": {
     "duration": 0.004018,
     "end_time": "2023-10-30T10:44:13.283256",
     "exception": false,
     "start_time": "2023-10-30T10:44:13.279238",
     "status": "completed"
    },
    "tags": []
   },
   "source": [
    "#### Selección de características y clasificación."
   ]
  },
  {
   "cell_type": "code",
   "execution_count": 7,
   "id": "c3352115",
   "metadata": {
    "execution": {
     "iopub.execute_input": "2023-10-30T10:44:13.292312Z",
     "iopub.status.busy": "2023-10-30T10:44:13.291778Z",
     "iopub.status.idle": "2023-10-30T10:44:23.548682Z",
     "shell.execute_reply": "2023-10-30T10:44:23.547517Z"
    },
    "papermill": {
     "duration": 10.263234,
     "end_time": "2023-10-30T10:44:23.550375",
     "exception": false,
     "start_time": "2023-10-30T10:44:13.287141",
     "status": "completed"
    },
    "tags": []
   },
   "outputs": [
    {
     "name": "stdout",
     "output_type": "stream",
     "text": [
      "20231030T114413 : enderlab : INFO : Iniciando entrenamiento\n",
      "num_iter: 1 , max_iter: 1\n",
      "Fitting 5 folds for each of 1 candidates, totalling 5 fits\n"
     ]
    },
    {
     "name": "stderr",
     "output_type": "stream",
     "text": [
      "/home/expsiviu/miniconda3/envs/viu/lib/python3.10/site-packages/sklearn/feature_selection/_univariate_selection.py:112: UserWarning: Features [ 2265  2266  2271  2803  2896  5405  5533  5803  8513  9490 11943 12831\n",
      " 13836 13848 13959 14244 14789 15183 15515 15785 15824 16268 16287 16313\n",
      " 16323 16679 16687 16701 16870 16906 17024 17231 17312 17418 18530] are constant.\n",
      "  warnings.warn(\"Features %s are constant.\" % constant_features_idx, UserWarning)\n",
      "/home/expsiviu/miniconda3/envs/viu/lib/python3.10/site-packages/sklearn/feature_selection/_univariate_selection.py:113: RuntimeWarning: invalid value encountered in true_divide\n",
      "  f = msb / msw\n",
      "/home/expsiviu/miniconda3/envs/viu/lib/python3.10/site-packages/sklearn/feature_selection/_univariate_selection.py:112: UserWarning: Features [  298  1733  2265  2266  2803  2896  5668  5803  6053  6984  8513  9490\n",
      " 10475 11260 11943 12249 12831 13259 13300 13836 13848 14559 15183 15401\n",
      " 15515 15824 16018 16268 16287 16313 16323 16679 16870 16906 17024 17231\n",
      " 17540 18530 18546] are constant.\n",
      "  warnings.warn(\"Features %s are constant.\" % constant_features_idx, UserWarning)\n",
      "/home/expsiviu/miniconda3/envs/viu/lib/python3.10/site-packages/sklearn/feature_selection/_univariate_selection.py:113: RuntimeWarning: invalid value encountered in true_divide\n",
      "  f = msb / msw\n",
      "/home/expsiviu/miniconda3/envs/viu/lib/python3.10/site-packages/sklearn/feature_selection/_univariate_selection.py:112: UserWarning: Features [ 2010  2222  2265  2266  2803  2896  5803  8513  9490 11022 11943 12831\n",
      " 12888 13235 13836 13848 14245 15183 15515 15824 16268 16287 16312 16313\n",
      " 16323 16630 16667 16679 16731 16870 16906 16956 16968 17024 17055 17075\n",
      " 17091 17231 17566 17679 18530] are constant.\n",
      "  warnings.warn(\"Features %s are constant.\" % constant_features_idx, UserWarning)\n",
      "/home/expsiviu/miniconda3/envs/viu/lib/python3.10/site-packages/sklearn/feature_selection/_univariate_selection.py:113: RuntimeWarning: invalid value encountered in true_divide\n",
      "  f = msb / msw\n",
      "/home/expsiviu/miniconda3/envs/viu/lib/python3.10/site-packages/sklearn/feature_selection/_univariate_selection.py:112: UserWarning: Features [ 2265  2266  2803  2896  3248  5803  7416  8513  9490 11943 12831 13836\n",
      " 13848 13860 15183 15515 15824 15881 16262 16268 16278 16279 16287 16313\n",
      " 16323 16679 16870 16906 17024 17231 18530 18608] are constant.\n",
      "  warnings.warn(\"Features %s are constant.\" % constant_features_idx, UserWarning)\n",
      "/home/expsiviu/miniconda3/envs/viu/lib/python3.10/site-packages/sklearn/feature_selection/_univariate_selection.py:113: RuntimeWarning: invalid value encountered in true_divide\n",
      "  f = msb / msw\n",
      "/home/expsiviu/miniconda3/envs/viu/lib/python3.10/site-packages/sklearn/feature_selection/_univariate_selection.py:112: UserWarning: Features [ 2265  2266  2803  2896  3415  4306  5803  8513  9490 11943 12831 13047\n",
      " 13836 13848 14735 15183 15515 15824 16260 16267 16268 16287 16313 16322\n",
      " 16323 16679 16870 16906 17024 17231 18530 18868] are constant.\n",
      "  warnings.warn(\"Features %s are constant.\" % constant_features_idx, UserWarning)\n",
      "/home/expsiviu/miniconda3/envs/viu/lib/python3.10/site-packages/sklearn/feature_selection/_univariate_selection.py:113: RuntimeWarning: invalid value encountered in true_divide\n",
      "  f = msb / msw\n"
     ]
    },
    {
     "name": "stderr",
     "output_type": "stream",
     "text": [
      "/home/expsiviu/miniconda3/envs/viu/lib/python3.10/site-packages/sklearn/feature_selection/_univariate_selection.py:112: UserWarning: Features [ 2265  2266  2803  2896  5803  8513  9490 11943 12831 13836 13848 15183\n",
      " 15515 15824 16268 16287 16313 16323 16679 16870 16906 17024 17231 18530] are constant.\n",
      "  warnings.warn(\"Features %s are constant.\" % constant_features_idx, UserWarning)\n",
      "/home/expsiviu/miniconda3/envs/viu/lib/python3.10/site-packages/sklearn/feature_selection/_univariate_selection.py:113: RuntimeWarning: invalid value encountered in true_divide\n",
      "  f = msb / msw\n"
     ]
    },
    {
     "name": "stdout",
     "output_type": "stream",
     "text": [
      "Mejores Hiperparámetros: {'selector__k': 500, 'clasifier__n_estimators': 200, 'clasifier__min_samples_split': 10, 'clasifier__min_samples_leaf': 5, 'clasifier__max_features': 100, 'clasifier__max_depth': 10, 'clasifier__bootstrap': True}\n",
      "Mejor Puntuación: 0.8361\n",
      "20231030T114423 : enderlab : INFO : Fin entrenamiento\n"
     ]
    }
   ],
   "source": [
    "myfunc.verbose(\"Iniciando entrenamiento\")\n",
    "\n",
    "kf = KFold(n_splits=5, shuffle=True, random_state=SEMILLA)\n",
    "\n",
    "# Crear el pipeline para el flujo de tareas\n",
    "tasks_pipeline = Pipeline([\n",
    "    ('selector', algor_selector),\n",
    "    ('clasifier', algor_clasifier)\n",
    "])\n",
    "\n",
    "# MAX_ITERS puede limitar el número de iteraciones si son excesivas para las combinaciones de parámetros buscando un óptimo local, \n",
    "# sino funcionaría como GridSearchCV al revisar todas las cominaciones de los parámetros\n",
    "num_iteraciones = 1\n",
    "num_iteraciones = num_iteraciones * np.prod([len(elemento1) for _, elemento1 in param_distributions.items()])\n",
    "max_iteraciones = num_iteraciones if num_iteraciones <= MAX_ITERS else MAX_ITERS\n",
    "print(\"num_iter:\",num_iteraciones,\", max_iter:\",max_iteraciones)\n",
    "\n",
    "random_search = RandomizedSearchCV(\n",
    "    tasks_pipeline, \n",
    "    param_distributions, \n",
    "    n_iter=max_iteraciones,\n",
    "    scoring=SCORING,\n",
    "    cv=kf,\n",
    "    verbose=3, \n",
    "    random_state=SEMILLA, \n",
    "    n_jobs=-1\n",
    "    )\n",
    "\n",
    "# Entrenar el modelo\n",
    "random_search.fit(X_train, y_train)\n",
    "\n",
    "# Ver los mejores hiperparámetros encontrados\n",
    "print(f'Mejores Hiperparámetros: {random_search.best_params_}')\n",
    "print(f'Mejor Puntuación: {random_search.best_score_:.4f}')\n",
    "\n",
    "# Nos quedamos con el mejor modelo para ver las métricas\n",
    "mejor_modelo = random_search.best_estimator_\n",
    "\n",
    "myfunc.verbose(\"Fin entrenamiento\")"
   ]
  },
  {
   "cell_type": "markdown",
   "id": "1991d999",
   "metadata": {
    "papermill": {
     "duration": 0.004426,
     "end_time": "2023-10-30T10:44:23.559691",
     "exception": false,
     "start_time": "2023-10-30T10:44:23.555265",
     "status": "completed"
    },
    "tags": []
   },
   "source": [
    "#### Guardar modelo"
   ]
  },
  {
   "cell_type": "code",
   "execution_count": 8,
   "id": "7b23c0d8",
   "metadata": {
    "execution": {
     "iopub.execute_input": "2023-10-30T10:44:23.570226Z",
     "iopub.status.busy": "2023-10-30T10:44:23.569627Z",
     "iopub.status.idle": "2023-10-30T10:44:23.652585Z",
     "shell.execute_reply": "2023-10-30T10:44:23.652019Z"
    },
    "papermill": {
     "duration": 0.090207,
     "end_time": "2023-10-30T10:44:23.654010",
     "exception": false,
     "start_time": "2023-10-30T10:44:23.563803",
     "status": "completed"
    },
    "tags": []
   },
   "outputs": [
    {
     "name": "stdout",
     "output_type": "stream",
     "text": [
      "20231030T114423 : enderlab : INFO : Inicio guardar fichero ../tfm_git/ejecuciones/modelos/modelo_7265_bin_m_ANOVA_RF.pkl\n",
      "20231030T114423 : enderlab : INFO : Fin guardar fichero ../tfm_git/ejecuciones/modelos/modelo_7265_bin_m_ANOVA_RF.pkl\n"
     ]
    }
   ],
   "source": [
    "fichero_modelo = str.replace(\"modelo_\"+str(SEMILLA).zfill(4)+\"_\"+M_TIPO+\"_\"+M_SELECT+\"_\"+M_CLASIF+\".pkl\", \" \", \"_\")\n",
    "\n",
    "myfunc.save_modelo(mejor_modelo, myfunc.MODEL_DIR, fichero_modelo)"
   ]
  },
  {
   "cell_type": "markdown",
   "id": "396fa28d",
   "metadata": {
    "papermill": {
     "duration": 0.004333,
     "end_time": "2023-10-30T10:44:23.662785",
     "exception": false,
     "start_time": "2023-10-30T10:44:23.658452",
     "status": "completed"
    },
    "tags": []
   },
   "source": [
    "#### Ver resultados del las iteraciones hechas por RandomSearchCV"
   ]
  },
  {
   "cell_type": "code",
   "execution_count": 9,
   "id": "35e5cfb3",
   "metadata": {
    "execution": {
     "iopub.execute_input": "2023-10-30T10:44:23.672351Z",
     "iopub.status.busy": "2023-10-30T10:44:23.671928Z",
     "iopub.status.idle": "2023-10-30T10:44:23.679822Z",
     "shell.execute_reply": "2023-10-30T10:44:23.679269Z"
    },
    "papermill": {
     "duration": 0.014168,
     "end_time": "2023-10-30T10:44:23.681172",
     "exception": false,
     "start_time": "2023-10-30T10:44:23.667004",
     "status": "completed"
    },
    "tags": []
   },
   "outputs": [
    {
     "name": "stdout",
     "output_type": "stream",
     "text": [
      "20231030T114423 : enderlab : INFO : Inicio ver resultados\n",
      "Mejores Hiperparámetros: {'selector__k': 500, 'clasifier__n_estimators': 200, 'clasifier__min_samples_split': 10, 'clasifier__min_samples_leaf': 5, 'clasifier__max_features': 100, 'clasifier__max_depth': 10, 'clasifier__bootstrap': True}\n",
      "Mejores puntuaciones: 0.8361 | Params: {'selector__k': 500, 'clasifier__n_estimators': 200, 'clasifier__min_samples_split': 10, 'clasifier__min_samples_leaf': 5, 'clasifier__max_features': 100, 'clasifier__max_depth': 10, 'clasifier__bootstrap': True}\n",
      "Media de las puntuaciones: 0.8361 | Params: {'selector__k': 500, 'clasifier__n_estimators': 200, 'clasifier__min_samples_split': 10, 'clasifier__min_samples_leaf': 5, 'clasifier__max_features': 100, 'clasifier__max_depth': 10, 'clasifier__bootstrap': True}\n",
      "20231030T114423 : enderlab : INFO : Fin resultados\n"
     ]
    }
   ],
   "source": [
    "myfunc.ver_resultados_search(random_search)"
   ]
  },
  {
   "cell_type": "markdown",
   "id": "8e0239fb",
   "metadata": {
    "papermill": {
     "duration": 0.004281,
     "end_time": "2023-10-30T10:44:23.689761",
     "exception": false,
     "start_time": "2023-10-30T10:44:23.685480",
     "status": "completed"
    },
    "tags": []
   },
   "source": [
    "#### Ver métricas del mejor modelo"
   ]
  },
  {
   "cell_type": "code",
   "execution_count": 10,
   "id": "8900e9c1",
   "metadata": {
    "execution": {
     "iopub.execute_input": "2023-10-30T10:44:23.699703Z",
     "iopub.status.busy": "2023-10-30T10:44:23.699067Z",
     "iopub.status.idle": "2023-10-30T10:44:24.235383Z",
     "shell.execute_reply": "2023-10-30T10:44:24.234805Z"
    },
    "papermill": {
     "duration": 0.54259,
     "end_time": "2023-10-30T10:44:24.236712",
     "exception": false,
     "start_time": "2023-10-30T10:44:23.694122",
     "status": "completed"
    },
    "tags": []
   },
   "outputs": [
    {
     "name": "stdout",
     "output_type": "stream",
     "text": [
      "20231030T114423 : enderlab : INFO : Inicio ver métricas\n"
     ]
    },
    {
     "name": "stdout",
     "output_type": "stream",
     "text": [
      "              precision    recall  f1-score   support\n",
      "\n",
      "           0       0.84      0.83      0.83        82\n",
      "           1       0.78      0.79      0.78        62\n",
      "\n",
      "    accuracy                           0.81       144\n",
      "   macro avg       0.81      0.81      0.81       144\n",
      "weighted avg       0.81      0.81      0.81       144\n",
      "\n",
      "\n",
      "\n",
      "   Exactitud: 0.8125\n",
      "   Precisión: 0.8086\n",
      "Sensibilidad: 0.8098\n",
      "    F1-score: 0.8092\n",
      "     AUC ROC: 0.8830\n"
     ]
    },
    {
     "data": {
      "image/png": "[encoded data removed]",
      "text/plain": [
       "<Figure size 300x100 with 2 Axes>"
      ]
     },
     "metadata": {},
     "output_type": "display_data"
    },
    {
     "data": {
      "image/png": "[encoded data removed]",
      "text/plain": [
       "<Figure size 800x500 with 1 Axes>"
      ]
     },
     "metadata": {},
     "output_type": "display_data"
    },
    {
     "name": "stdout",
     "output_type": "stream",
     "text": [
      "20231030T114424 : enderlab : INFO : Fin ver métricas\n"
     ]
    }
   ],
   "source": [
    "if M_TIPO.startswith(\"bin\"):\n",
    "    myfunc.ver_metricas(mejor_modelo, X_test, y_test)\n",
    "else:\n",
    "    myfunc.ver_metricas_multi(mejor_modelo, X_test, y_test)\n"
   ]
  },
  {
   "cell_type": "markdown",
   "id": "30137734",
   "metadata": {
    "papermill": {
     "duration": 0.00531,
     "end_time": "2023-10-30T10:44:24.247820",
     "exception": false,
     "start_time": "2023-10-30T10:44:24.242510",
     "status": "completed"
    },
    "tags": []
   },
   "source": [
    "#### Finalización del notebook"
   ]
  },
  {
   "cell_type": "code",
   "execution_count": 11,
   "id": "f008de80",
   "metadata": {
    "execution": {
     "iopub.execute_input": "2023-10-30T10:44:24.262459Z",
     "iopub.status.busy": "2023-10-30T10:44:24.261854Z",
     "iopub.status.idle": "2023-10-30T10:44:24.265886Z",
     "shell.execute_reply": "2023-10-30T10:44:24.265327Z"
    },
    "papermill": {
     "duration": 0.012122,
     "end_time": "2023-10-30T10:44:24.267253",
     "exception": false,
     "start_time": "2023-10-30T10:44:24.255131",
     "status": "completed"
    },
    "tags": []
   },
   "outputs": [
    {
     "name": "stdout",
     "output_type": "stream",
     "text": [
      "20231030T114424 : enderlab : INFO : Notebook ha tardado 11 seconds\n"
     ]
    }
   ],
   "source": [
    "end_time = datetime.datetime.now()\n",
    "total_time = end_time - start_time\n",
    "myfunc.verbose(f\"Notebook ha tardado {total_time.seconds} seconds\")"
   ]
  },
  {
   "cell_type": "markdown",
   "id": "951ce4e5",
   "metadata": {
    "papermill": {
     "duration": 0.005163,
     "end_time": "2023-10-30T10:44:24.277565",
     "exception": false,
     "start_time": "2023-10-30T10:44:24.272402",
     "status": "completed"
    },
    "tags": []
   },
   "source": [
    "#### Guardar métricas"
   ]
  },
  {
   "cell_type": "code",
   "execution_count": 12,
   "id": "1cd67f89",
   "metadata": {
    "execution": {
     "iopub.execute_input": "2023-10-30T10:44:24.289382Z",
     "iopub.status.busy": "2023-10-30T10:44:24.288983Z",
     "iopub.status.idle": "2023-10-30T10:44:24.546601Z",
     "shell.execute_reply": "2023-10-30T10:44:24.546037Z"
    },
    "papermill": {
     "duration": 0.265015,
     "end_time": "2023-10-30T10:44:24.547909",
     "exception": false,
     "start_time": "2023-10-30T10:44:24.282894",
     "status": "completed"
    },
    "tags": []
   },
   "outputs": [
    {
     "name": "stdout",
     "output_type": "stream",
     "text": [
      "20231030T114424 : enderlab : INFO : Inicio guardar métricas\n",
      "20231030T114424 : enderlab : INFO : Inicio leer fichero ../tfm_git/ejecuciones/metricas/metricas_7265.csv\n",
      "20231030T114424 : enderlab : INFO : Fin leer fichero ../tfm_git/ejecuciones/metricas/metricas_7265.csv\n"
     ]
    },
    {
     "name": "stdout",
     "output_type": "stream",
     "text": [
      "20231030T114424 : enderlab : INFO : Inicio guardar fichero ../tfm_git/ejecuciones/metricas/metricas_7265.csv\n",
      "20231030T114424 : enderlab : INFO : Fichero borrado ../tfm_git/ejecuciones/metricas/metricas_7265.csv\n",
      "20231030T114424 : enderlab : INFO : Fin guardar fichero ../tfm_git/ejecuciones/metricas/metricas_7265.csv\n",
      "20231030T114424 : enderlab : INFO : Fin guardar métricas\n",
      "20231030T114424 : enderlab : INFO : Inicio leer fichero ../tfm_git/ejecuciones/metricas/metricas_7265.csv\n",
      "20231030T114424 : enderlab : INFO : Fin leer fichero ../tfm_git/ejecuciones/metricas/metricas_7265.csv\n"
     ]
    },
    {
     "data": {
      "text/html": [
       "<div>\n",
       "<style scoped>\n",
       "    .dataframe tbody tr th:only-of-type {\n",
       "        vertical-align: middle;\n",
       "    }\n",
       "\n",
       "    .dataframe tbody tr th {\n",
       "        vertical-align: top;\n",
       "    }\n",
       "\n",
       "    .dataframe thead th {\n",
       "        text-align: right;\n",
       "    }\n",
       "</style>\n",
       "<table border=\"1\" class=\"dataframe\">\n",
       "  <thead>\n",
       "    <tr style=\"text-align: right;\">\n",
       "      <th></th>\n",
       "      <th>tipo</th>\n",
       "      <th>select</th>\n",
       "      <th>clasific</th>\n",
       "      <th>semilla</th>\n",
       "      <th>accuracy</th>\n",
       "      <th>precision</th>\n",
       "      <th>recall</th>\n",
       "      <th>f1_score</th>\n",
       "      <th>roc_auc</th>\n",
       "      <th>hostname</th>\n",
       "      <th>total_time_sec</th>\n",
       "      <th>datetime</th>\n",
       "      <th>fichero_modelo</th>\n",
       "      <th>params</th>\n",
       "      <th>shape</th>\n",
       "      <th>features</th>\n",
       "    </tr>\n",
       "  </thead>\n",
       "  <tbody>\n",
       "    <tr>\n",
       "      <th>0</th>\n",
       "      <td>bin_m</td>\n",
       "      <td>ANOVA</td>\n",
       "      <td>RF</td>\n",
       "      <td>7265</td>\n",
       "      <td>0.812500</td>\n",
       "      <td>0.808642</td>\n",
       "      <td>0.809795</td>\n",
       "      <td>0.809178</td>\n",
       "      <td>0.882966</td>\n",
       "      <td>enderlab</td>\n",
       "      <td>11</td>\n",
       "      <td>2023-10-30 11:44:24.517695</td>\n",
       "      <td>modelo_7265_bin_m_ANOVA_RF.pkl</td>\n",
       "      <td>{'selector__k': 500, 'clasifier__n_estimators'...</td>\n",
       "      <td>X_test:(144, 18875)</td>\n",
       "      <td>['ENSG00000000971.17', 'ENSG00000001626.18', '...</td>\n",
       "    </tr>\n",
       "    <tr>\n",
       "      <th>0</th>\n",
       "      <td>bin_m</td>\n",
       "      <td>ANOVA</td>\n",
       "      <td>LR_L2</td>\n",
       "      <td>7265</td>\n",
       "      <td>0.861111</td>\n",
       "      <td>0.858379</td>\n",
       "      <td>0.858379</td>\n",
       "      <td>0.858379</td>\n",
       "      <td>0.914634</td>\n",
       "      <td>enderlab</td>\n",
       "      <td>7</td>\n",
       "      <td>2023-10-30 11:44:06.177307</td>\n",
       "      <td>modelo_7265_bin_m_ANOVA_LR_L2.pkl</td>\n",
       "      <td>{'selector__k': 500, 'clasifier__solver': 'lbf...</td>\n",
       "      <td>X_test:(144, 18875)</td>\n",
       "      <td>['ENSG00000000971.17', 'ENSG00000001626.18', '...</td>\n",
       "    </tr>\n",
       "    <tr>\n",
       "      <th>0</th>\n",
       "      <td>bin_m</td>\n",
       "      <td>ANOVA</td>\n",
       "      <td>LR_L1</td>\n",
       "      <td>7265</td>\n",
       "      <td>0.854167</td>\n",
       "      <td>0.851768</td>\n",
       "      <td>0.850315</td>\n",
       "      <td>0.850998</td>\n",
       "      <td>0.910700</td>\n",
       "      <td>enderlab</td>\n",
       "      <td>261</td>\n",
       "      <td>2023-10-30 11:43:52.041215</td>\n",
       "      <td>modelo_7265_bin_m_ANOVA_LR_L1.pkl</td>\n",
       "      <td>{'selector__k': 500, 'clasifier__solver': 'sag...</td>\n",
       "      <td>X_test:(144, 18875)</td>\n",
       "      <td>['ENSG00000000971.17', 'ENSG00000001626.18', '...</td>\n",
       "    </tr>\n",
       "  </tbody>\n",
       "</table>\n",
       "</div>"
      ],
      "text/plain": [
       "    tipo select clasific  semilla  accuracy  precision    recall  f1_score  \\\n",
       "0  bin_m  ANOVA       RF     7265  0.812500   0.808642  0.809795  0.809178   \n",
       "0  bin_m  ANOVA    LR_L2     7265  0.861111   0.858379  0.858379  0.858379   \n",
       "0  bin_m  ANOVA    LR_L1     7265  0.854167   0.851768  0.850315  0.850998   \n",
       "\n",
       "    roc_auc  hostname  total_time_sec                    datetime  \\\n",
       "0  0.882966  enderlab              11  2023-10-30 11:44:24.517695   \n",
       "0  0.914634  enderlab               7  2023-10-30 11:44:06.177307   \n",
       "0  0.910700  enderlab             261  2023-10-30 11:43:52.041215   \n",
       "\n",
       "                      fichero_modelo  \\\n",
       "0     modelo_7265_bin_m_ANOVA_RF.pkl   \n",
       "0  modelo_7265_bin_m_ANOVA_LR_L2.pkl   \n",
       "0  modelo_7265_bin_m_ANOVA_LR_L1.pkl   \n",
       "\n",
       "                                              params                shape  \\\n",
       "0  {'selector__k': 500, 'clasifier__n_estimators'...  X_test:(144, 18875)   \n",
       "0  {'selector__k': 500, 'clasifier__solver': 'lbf...  X_test:(144, 18875)   \n",
       "0  {'selector__k': 500, 'clasifier__solver': 'sag...  X_test:(144, 18875)   \n",
       "\n",
       "                                            features  \n",
       "0  ['ENSG00000000971.17', 'ENSG00000001626.18', '...  \n",
       "0  ['ENSG00000000971.17', 'ENSG00000001626.18', '...  \n",
       "0  ['ENSG00000000971.17', 'ENSG00000001626.18', '...  "
      ]
     },
     "metadata": {},
     "output_type": "display_data"
    }
   ],
   "source": [
    "if M_TIPO.startswith(\"bin\"):\n",
    "    myfunc.save_metricas_to_csv(random_search, X_test, y_test, M_TIPO, M_SELECT, M_CLASIF, total_time, SEMILLA, myfunc.MET_DIR, M_FICHERO, fichero_modelo)\n",
    "else:\n",
    "    myfunc.save_metricas_multi_to_csv(random_search, X_test, y_test, M_TIPO, M_SELECT, M_CLASIF, total_time, SEMILLA, myfunc.MET_DIR, M_FICHERO, fichero_modelo)\n",
    "\n",
    "df1=myfunc.read_metricas_to_df(myfunc.MET_DIR,M_FICHERO)\n",
    "\n",
    "display(df1.sort_values(\"datetime\", ascending=False)[:3])\n"
   ]
  },
  {
   "cell_type": "markdown",
   "id": "7ea9095c",
   "metadata": {
    "papermill": {
     "duration": 0.005686,
     "end_time": "2023-10-30T10:44:24.559663",
     "exception": false,
     "start_time": "2023-10-30T10:44:24.553977",
     "status": "completed"
    },
    "tags": []
   },
   "source": [
    "#### Guardar resultados"
   ]
  },
  {
   "cell_type": "code",
   "execution_count": 13,
   "id": "b76e3b3f",
   "metadata": {
    "execution": {
     "iopub.execute_input": "2023-10-30T10:44:24.571881Z",
     "iopub.status.busy": "2023-10-30T10:44:24.571477Z",
     "iopub.status.idle": "2023-10-30T10:44:24.580660Z",
     "shell.execute_reply": "2023-10-30T10:44:24.580108Z"
    },
    "papermill": {
     "duration": 0.016766,
     "end_time": "2023-10-30T10:44:24.582022",
     "exception": false,
     "start_time": "2023-10-30T10:44:24.565256",
     "status": "completed"
    },
    "tags": []
   },
   "outputs": [
    {
     "name": "stdout",
     "output_type": "stream",
     "text": [
      "20231030T114424 : enderlab : INFO : Inicio guardar resultados\n",
      "20231030T114424 : enderlab : INFO : Inicio guardar fichero ../tfm_git/ejecuciones/metricas/resultados_7265_bin_m-ANOVA-RF.csv\n",
      "20231030T114424 : enderlab : INFO : Fin guardar fichero ../tfm_git/ejecuciones/metricas/resultados_7265_bin_m-ANOVA-RF.csv\n",
      "20231030T114424 : enderlab : INFO : Fin guardar resultados\n"
     ]
    }
   ],
   "source": [
    "fichero_resultados=R_FICHERO+\"_\"+M_TIPO+\"-\"+M_SELECT+\"-\"+M_CLASIF+\".csv\"\n",
    "myfunc.save_resultados_to_csv(M_TIPO, M_SELECT, M_CLASIF,  random_search, myfunc.MET_DIR, fichero_resultados)\n"
   ]
  }
 ],
 "metadata": {
  "kernelspec": {
   "display_name": "Python 3 (ipykernel)",
   "language": "python",
   "name": "python3"
  },
  "language_info": {
   "codemirror_mode": {
    "name": "ipython",
    "version": 3
   },
   "file_extension": ".py",
   "mimetype": "text/x-python",
   "name": "python",
   "nbconvert_exporter": "python",
   "pygments_lexer": "ipython3",
   "version": "3.10.11"
  },
  "papermill": {
   "default_parameters": {},
   "duration": 16.66367,
   "end_time": "2023-10-30T10:44:27.204580",
   "environment_variables": {},
   "exception": null,
   "input_path": "03_entrenamiento.ipynb",
   "output_path": "ejecuciones/training/03_entrenamiento.20231030T114410.param_0000_7265_bin_m_ANOVA_RF.output.ipynb",
   "parameters": {
    "MAX_ITERS": 500,
    "M_CLASIF": "RF",
    "M_FICHERO": "metricas_7265",
    "M_SELECT": "ANOVA",
    "M_TIPO": "bin_m",
    "PRE_DATA_FILE": "rows_transpose_norm_by_gene_id_with_target_num_",
    "P_FICHERO": "param_0000_7265_bin_m_ANOVA_RF.yaml",
    "R_FICHERO": "resultados_7265",
    "SCORING": "roc_auc_ovr",
    "SEMILLA": 7265,
    "eval_clasifier": "RandomForestClassifier(random_state=SEMILLA)",
    "eval_selector": "SelectKBest(score_func=f_classif)",
    "param_distributions": {
     "clasifier__bootstrap": [
      true
     ],
     "clasifier__max_depth": [
      10
     ],
     "clasifier__max_features": [
      100
     ],
     "clasifier__min_samples_leaf": [
      5
     ],
     "clasifier__min_samples_split": [
      10
     ],
     "clasifier__n_estimators": [
      200
     ],
     "selector__k": [
      500
     ]
    }
   },
   "start_time": "2023-10-30T10:44:10.540910",
   "version": "2.4.0"
  }
 },
 "nbformat": 4,
 "nbformat_minor": 5
}