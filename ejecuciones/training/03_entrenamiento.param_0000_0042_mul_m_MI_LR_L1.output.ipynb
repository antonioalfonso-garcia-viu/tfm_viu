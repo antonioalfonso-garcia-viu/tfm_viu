{
 "cells": [
  {
   "cell_type": "markdown",
   "id": "0f35bb9e",
   "metadata": {
    "papermill": {
     "duration": 0.003093,
     "end_time": "2023-10-27T19:38:25.039555",
     "exception": false,
     "start_time": "2023-10-27T19:38:25.036462",
     "status": "completed"
    },
    "tags": []
   },
   "source": [
    "##### Inicio"
   ]
  },
  {
   "cell_type": "markdown",
   "id": "ceb8cf2a",
   "metadata": {
    "papermill": {
     "duration": 0.002345,
     "end_time": "2023-10-27T19:38:25.044532",
     "exception": false,
     "start_time": "2023-10-27T19:38:25.042187",
     "status": "completed"
    },
    "tags": []
   },
   "source": [
    "#### Carga de datos"
   ]
  },
  {
   "cell_type": "code",
   "execution_count": 1,
   "id": "9a4da474",
   "metadata": {
    "execution": {
     "iopub.execute_input": "2023-10-27T19:38:25.050401Z",
     "iopub.status.busy": "2023-10-27T19:38:25.050183Z",
     "iopub.status.idle": "2023-10-27T19:38:25.912570Z",
     "shell.execute_reply": "2023-10-27T19:38:25.912000Z"
    },
    "papermill": {
     "duration": 0.867016,
     "end_time": "2023-10-27T19:38:25.913907",
     "exception": false,
     "start_time": "2023-10-27T19:38:25.046891",
     "status": "completed"
    },
    "tags": []
   },
   "outputs": [
    {
     "name": "stdout",
     "output_type": "stream",
     "text": [
      "CPU_COUNT: 8; NODE: amilcar22; sys.version: 3.10.12 (main, Jul  5 2023, 19:22:19) [GCC 11.2.0]\n",
      "LOKY_MAX_CPU_COUNT: 6\n",
      "OMP_NUM_THREADS: 2\n"
     ]
    }
   ],
   "source": [
    "import os\n",
    "import numpy as np\n",
    "import pandas as pd\n",
    "import datetime\n",
    "import sklearn\n",
    "import logging\n",
    "import warnings\n",
    "\n",
    "from sklearn.pipeline import Pipeline\n",
    "from sklearn.model_selection import RandomizedSearchCV, KFold, cross_val_score, train_test_split\n",
    "from sklearn.metrics import accuracy_score, confusion_matrix, classification_report, roc_auc_score\n",
    "\n",
    "#  cargar algoritmos para aprendizaje supervisado\n",
    "from sklearn.feature_selection import SelectKBest, f_classif, SelectFromModel, mutual_info_classif\n",
    "from sklearn.svm import SVC\n",
    "from sklearn.ensemble import RandomForestClassifier\n",
    "from sklearn.linear_model import LogisticRegression,LogisticRegressionCV\n",
    "\n",
    "# importar fichero con utilidades propias\n",
    "from commons import myfunctions as myfunc\n"
   ]
  },
  {
   "cell_type": "markdown",
   "id": "0bbe8546",
   "metadata": {
    "papermill": {
     "duration": 0.002556,
     "end_time": "2023-10-27T19:38:25.919516",
     "exception": false,
     "start_time": "2023-10-27T19:38:25.916960",
     "status": "completed"
    },
    "tags": []
   },
   "source": [
    "#### Parámetros a utilizar en el entrenamiento.\n",
    "\n",
    "Se indican los 3 algoritmos de *selección de características* (eval_selector_xxx) y los 3 algoritmos para la _clasificación_ (eval_clasifier_xxx)\n",
    "\n",
    "En *param_distributions* se indicar los parámetros que utilizan los algoritmos en la función RandomSearchCV.\n",
    "\n",
    "Esta celda tiene la etiqueta **parameters** que servirá para poder lanzar los entrenamientos con la utilidad **papermill** pasándole un fichero con los parámetros. Los nuevos parámetros se situarán tras esta celda para tener prevalencia."
   ]
  },
  {
   "cell_type": "code",
   "execution_count": 2,
   "id": "cfc685bf",
   "metadata": {
    "execution": {
     "iopub.execute_input": "2023-10-27T19:38:25.925582Z",
     "iopub.status.busy": "2023-10-27T19:38:25.925266Z",
     "iopub.status.idle": "2023-10-27T19:38:25.932259Z",
     "shell.execute_reply": "2023-10-27T19:38:25.931803Z"
    },
    "papermill": {
     "duration": 0.011463,
     "end_time": "2023-10-27T19:38:25.933490",
     "exception": false,
     "start_time": "2023-10-27T19:38:25.922027",
     "status": "completed"
    },
    "tags": [
     "parameters"
    ]
   },
   "outputs": [
    {
     "name": "stdout",
     "output_type": "stream",
     "text": [
      "20231027T213825 : amilcar22 : INFO : Utilizando parámetros de mul_m\n"
     ]
    }
   ],
   "source": [
    "#  Parametros para el entrenamiento\n",
    "\n",
    "SEMILLA=        42\n",
    "M_TIPO=         \"mul_m\"\n",
    "M_SELECT=       \"MI\"\n",
    "M_CLASIF=       \"SVM\"\n",
    "R_FICHERO=      \"resultados\"\n",
    "M_FICHERO=      \"metricas\"\n",
    "PRE_DATA_FILE=  \"rows_transpose_norm_by_gene_id_with_target_num_\"\n",
    "SCORING=        \"roc_auc_ovr\" \n",
    "MAX_ITERS=      100\n",
    "\n",
    "def mutual_info_classif_state(X, y):\n",
    "    return mutual_info_classif(X, y, random_state=SEMILLA)\n",
    "\n",
    "eval_selector_mi = \"SelectKBest(score_func=mutual_info_classif_state)\"\n",
    "eval_selector_rf=  \"SelectFromModel(estimator=RandomForestClassifier(random_state=SEMILLA), threshold=-np.inf)\"\n",
    "eval_selector_anova=  \"SelectKBest(score_func=f_classif)\"\n",
    "\n",
    "eval_clasifier_svm= \"SVC(probability=True, random_state=SEMILLA)\"\n",
    "eval_clasifier_rf= \"RandomForestClassifier(random_state=SEMILLA)\"\n",
    "eval_clasifier_lr= \"LogisticRegressionCV(random_state=SEMILLA)\"\n",
    "\n",
    "if M_TIPO.startswith(\"bin_m\"):\n",
    "    myfunc.verbose(f\"Utilizando parámetros de {M_TIPO}\")\n",
    "    eval_selector = eval_selector_mi\n",
    "    eval_clasifier = eval_clasifier_svm\n",
    "\n",
    "    SEMILLA = 6578\n",
    "    M_SELECT = \"MI\"\n",
    "    M_CLASIF = \"SVM\"\n",
    "    param_distributions = {'selector__k': [1000], \n",
    "         'clasifier__kernel': ['rbf'], 'clasifier__gamma': [0.01], 'clasifier__C': [100]}\n",
    "elif M_TIPO.startswith(\"bin_s\"):\n",
    "    myfunc.verbose(f\"Utilizando parámetros de {M_TIPO}\")\n",
    "    eval_selector = eval_selector_rf\n",
    "    eval_clasifier = eval_clasifier_lr\n",
    "\n",
    "    SEMILLA = 6191\n",
    "    M_SELECT = \"RF\"\n",
    "    M_CLASIF = \"LR_L2\"\n",
    "    param_distributions = {'selector__max_features': [1000], 'selector__estimator__n_estimators': [200], \n",
    "        'clasifier__solver': ['lbfgs'], 'clasifier__penalty': ['l2'], 'clasifier__max_iter': [10000]}\n",
    "\n",
    "elif M_TIPO.startswith(\"mul_m\"):\n",
    "    myfunc.verbose(f\"Utilizando parámetros de {M_TIPO}\")\n",
    " \n",
    "    eval_selector = eval_selector_rf\n",
    "    eval_clasifier = eval_clasifier_lr\n",
    "\n",
    "    SEMILLA = 6191\n",
    "    M_SELECT = \"RF\"\n",
    "    M_CLASIF = \"LR_L2\"\n",
    "    param_distributions = {'selector__max_features': [1000], 'selector__estimator__n_estimators': [400], \n",
    "        'clasifier__solver': ['lbfgs'], 'clasifier__penalty': ['l2'], 'clasifier__max_iter': [10000]}\n",
    "\n",
    "else:\n",
    "    # M_TIPO.startswith(\"mul_s\"):\n",
    "    myfunc.verbose(f\"Utilizando parámetros de {M_TIPO}\")\n",
    "    eval_selector = eval_selector_anova\n",
    "    eval_clasifier = eval_clasifier_lr\n",
    "\n",
    "    SEMILLA = 1860\n",
    "    M_SELECT = \"ANOVA\"\n",
    "    M_CLASIF = \"LR_L2\"\n",
    "    param_distributions = {'selector__k': [1000], \n",
    "        'clasifier__solver': ['saga'], 'clasifier__penalty': ['l2'], 'clasifier__max_iter': [10000]}\n",
    "\n"
   ]
  },
  {
   "cell_type": "code",
   "execution_count": 3,
   "id": "1e8dc3bc",
   "metadata": {
    "execution": {
     "iopub.execute_input": "2023-10-27T19:38:25.939533Z",
     "iopub.status.busy": "2023-10-27T19:38:25.939344Z",
     "iopub.status.idle": "2023-10-27T19:38:25.942830Z",
     "shell.execute_reply": "2023-10-27T19:38:25.942313Z"
    },
    "papermill": {
     "duration": 0.007799,
     "end_time": "2023-10-27T19:38:25.944083",
     "exception": false,
     "start_time": "2023-10-27T19:38:25.936284",
     "status": "completed"
    },
    "tags": [
     "injected-parameters"
    ]
   },
   "outputs": [],
   "source": [
    "# Parameters\n",
    "M_TIPO = \"mul_m\"\n",
    "M_SELECT = \"MI\"\n",
    "M_CLASIF = \"LR_L1\"\n",
    "P_FICHERO = \"param_0000_0042_mul_m_MI_LR_L1.yaml\"\n",
    "R_FICHERO = \"resultados_0042\"\n",
    "M_FICHERO = \"metricas_0042\"\n",
    "PRE_DATA_FILE = \"rows_transpose_norm_by_gene_id_with_target_num_\"\n",
    "SCORING = \"roc_auc_ovr\"\n",
    "SEMILLA = 42\n",
    "MAX_ITERS = 500\n",
    "eval_selector = \"SelectKBest(score_func=mutual_info_classif_state)\"\n",
    "eval_clasifier = \"LogisticRegressionCV(random_state=SEMILLA)\"\n",
    "param_distributions = {\n",
    "    \"selector__k\": [1000],\n",
    "    \"clasifier__solver\": [\"saga\"],\n",
    "    \"clasifier__penalty\": [\"l1\"],\n",
    "    \"clasifier__max_iter\": [10000],\n",
    "}\n"
   ]
  },
  {
   "cell_type": "code",
   "execution_count": 4,
   "id": "d54c7c22",
   "metadata": {
    "execution": {
     "iopub.execute_input": "2023-10-27T19:38:25.950242Z",
     "iopub.status.busy": "2023-10-27T19:38:25.950055Z",
     "iopub.status.idle": "2023-10-27T19:38:25.952929Z",
     "shell.execute_reply": "2023-10-27T19:38:25.952443Z"
    },
    "papermill": {
     "duration": 0.007312,
     "end_time": "2023-10-27T19:38:25.954181",
     "exception": false,
     "start_time": "2023-10-27T19:38:25.946869",
     "status": "completed"
    },
    "tags": []
   },
   "outputs": [],
   "source": [
    "DATA_FILE = PRE_DATA_FILE + M_TIPO\n",
    "\n",
    "# si viene \"None\" en el parámetro max_depth, se le quitan las comillas para que no sea entendido por el algoritmo como un texto\n",
    "if \"clasifier__max_depth\" in param_distributions:\n",
    "    param_distributions['clasifier__max_depth'] = [None if x == 'None' else x for x in param_distributions['clasifier__max_depth']]"
   ]
  },
  {
   "cell_type": "markdown",
   "id": "7642796e",
   "metadata": {
    "papermill": {
     "duration": 0.002716,
     "end_time": "2023-10-27T19:38:25.959750",
     "exception": false,
     "start_time": "2023-10-27T19:38:25.957034",
     "status": "completed"
    },
    "tags": []
   },
   "source": [
    "Asignar los algoritmos que se utilizarán en la función RandomSearchCV"
   ]
  },
  {
   "cell_type": "code",
   "execution_count": 5,
   "id": "7135ac57",
   "metadata": {
    "execution": {
     "iopub.execute_input": "2023-10-27T19:38:25.965985Z",
     "iopub.status.busy": "2023-10-27T19:38:25.965824Z",
     "iopub.status.idle": "2023-10-27T19:38:25.968534Z",
     "shell.execute_reply": "2023-10-27T19:38:25.968045Z"
    },
    "papermill": {
     "duration": 0.007283,
     "end_time": "2023-10-27T19:38:25.969826",
     "exception": false,
     "start_time": "2023-10-27T19:38:25.962543",
     "status": "completed"
    },
    "tags": []
   },
   "outputs": [],
   "source": [
    "algor_selector=eval(eval_selector)\n",
    "algor_clasifier=eval(eval_clasifier)"
   ]
  },
  {
   "cell_type": "markdown",
   "id": "a626c76c",
   "metadata": {
    "papermill": {
     "duration": 0.00329,
     "end_time": "2023-10-27T19:38:25.976349",
     "exception": false,
     "start_time": "2023-10-27T19:38:25.973059",
     "status": "completed"
    },
    "tags": []
   },
   "source": [
    "#### Comprobar el entorno y leer fichero de muestras"
   ]
  },
  {
   "cell_type": "code",
   "execution_count": 6,
   "id": "dbde9954",
   "metadata": {
    "execution": {
     "iopub.execute_input": "2023-10-27T19:38:25.984262Z",
     "iopub.status.busy": "2023-10-27T19:38:25.983833Z",
     "iopub.status.idle": "2023-10-27T19:38:26.146360Z",
     "shell.execute_reply": "2023-10-27T19:38:26.145873Z"
    },
    "papermill": {
     "duration": 0.167913,
     "end_time": "2023-10-27T19:38:26.147698",
     "exception": false,
     "start_time": "2023-10-27T19:38:25.979785",
     "status": "completed"
    },
    "tags": []
   },
   "outputs": [
    {
     "name": "stdout",
     "output_type": "stream",
     "text": [
      "20231027T213825 : amilcar22 : INFO : Encontrada carpeta DATA_DIR=../tfm_git/datos\n",
      "20231027T213825 : amilcar22 : INFO : Encontrada carpeta CFDNA_DIR=../tfm_git/datos/cfDNA_5hmC\n",
      "20231027T213825 : amilcar22 : INFO : Encontrada carpeta GENCODE_DIR=../tfm_git/datos/gencode\n",
      "20231027T213825 : amilcar22 : INFO : Encontrada carpeta H5_DIR=../tfm_git/datos/h5\n",
      "20231027T213825 : amilcar22 : INFO : Encontrada carpeta LOG_DIR=../tfm_git/datos/logs\n",
      "20231027T213825 : amilcar22 : INFO : Encontrada carpeta CSV_DIR=../tfm_git/datos/csv\n",
      "20231027T213825 : amilcar22 : INFO : Encontrada carpeta MODEL_DIR=../tfm_git/ejecuciones/modelos\n",
      "20231027T213825 : amilcar22 : INFO : Encontrada carpeta EXEC_DIR=../tfm_git/ejecuciones\n",
      "20231027T213825 : amilcar22 : INFO : Encontrada carpeta MET_DIR=../tfm_git/ejecuciones/metricas\n",
      "20231027T213825 : amilcar22 : INFO : Inicio leer fichero h5 ../tfm_git/datos/h5/rows_transpose_norm_by_gene_id_with_target_num_mul_m.h5\n",
      "20231027T213826 : amilcar22 : INFO : Leyendo clave /df\n",
      "20231027T213826 : amilcar22 : INFO : Tamaño (434, 18876)\n",
      "20231027T213826 : amilcar22 : INFO : Fin leer fichero h5 ../tfm_git/datos/h5/rows_transpose_norm_by_gene_id_with_target_num_mul_m.h5\n"
     ]
    },
    {
     "data": {
      "text/plain": [
       "target\n",
       "0    62\n",
       "1    62\n",
       "2    62\n",
       "3    62\n",
       "4    62\n",
       "5    62\n",
       "6    62\n",
       "dtype: int64"
      ]
     },
     "metadata": {},
     "output_type": "display_data"
    },
    {
     "name": "stdout",
     "output_type": "stream",
     "text": [
      "Shape df: (434, 18876)\n"
     ]
    },
    {
     "name": "stdout",
     "output_type": "stream",
     "text": [
      "Shape X_train: (347, 18875)\n",
      "Shape X_test: (87, 18875)\n"
     ]
    }
   ],
   "source": [
    "start_time = datetime.datetime.now()\n",
    "\n",
    "myfunc.reset_vars()\n",
    "\n",
    "myfunc.NOTEBK_FILENAME = myfunc.get_nb_name()\n",
    "\n",
    "myfunc.check_enviroment(myfunc.DATA_DIR, myfunc.CFDNA_DIR, myfunc.GENCODE_DIR, myfunc.H5_DIR, myfunc.LOG_DIR, myfunc.CSV_DIR, myfunc.MODEL_DIR, myfunc.EXEC_DIR, myfunc.MET_DIR)\n",
    "\n",
    "# Leer fichero con las muestras\n",
    "df_t = myfunc.read_h5_to_df(DATA_FILE, myfunc.H5_DIR)\n",
    "display(df_t.groupby(\"target\").size())\n",
    "print(\"Shape df:\",df_t.shape)\n",
    "\n",
    "# Separar caracteristicas/genes de las etiquetas/tipos de cáncer\n",
    "X = df_t.iloc[:, :-1]  # Todas las columnas excepto la última\n",
    "y = df_t.iloc[:, -1]  # La última columna contiene los identificadores de los tipos de cáncer\n",
    "\n",
    "#  Crear el conjunto de datos de entrenamiento y de pruebas\n",
    "X_train, X_test, y_train, y_test = train_test_split(X, y, test_size=0.2, shuffle=True, random_state=SEMILLA)\n",
    "print(\"Shape X_train:\",X_train.shape)\n",
    "print(\"Shape X_test:\",X_test.shape)\n"
   ]
  },
  {
   "cell_type": "markdown",
   "id": "8505e531",
   "metadata": {
    "papermill": {
     "duration": 0.002856,
     "end_time": "2023-10-27T19:38:26.153869",
     "exception": false,
     "start_time": "2023-10-27T19:38:26.151013",
     "status": "completed"
    },
    "tags": []
   },
   "source": [
    "#### Selección de características y clasificación."
   ]
  },
  {
   "cell_type": "code",
   "execution_count": 7,
   "id": "a35fd6b4",
   "metadata": {
    "execution": {
     "iopub.execute_input": "2023-10-27T19:38:26.160443Z",
     "iopub.status.busy": "2023-10-27T19:38:26.160242Z",
     "iopub.status.idle": "2023-10-27T20:12:14.407106Z",
     "shell.execute_reply": "2023-10-27T20:12:14.406433Z"
    },
    "papermill": {
     "duration": 2028.254122,
     "end_time": "2023-10-27T20:12:14.410880",
     "exception": false,
     "start_time": "2023-10-27T19:38:26.156758",
     "status": "completed"
    },
    "tags": []
   },
   "outputs": [
    {
     "name": "stdout",
     "output_type": "stream",
     "text": [
      "20231027T213826 : amilcar22 : INFO : Iniciando entrenamiento\n",
      "num_iter: 1 , max_iter: 1\n",
      "Fitting 5 folds for each of 1 candidates, totalling 5 fits\n"
     ]
    },
    {
     "name": "stdout",
     "output_type": "stream",
     "text": [
      "[CV 3/5] END clasifier__max_iter=10000, clasifier__penalty=l1, clasifier__solver=saga, selector__k=1000;, score=0.888 total time=15.5min\n"
     ]
    },
    {
     "name": "stdout",
     "output_type": "stream",
     "text": [
      "[CV 4/5] END clasifier__max_iter=10000, clasifier__penalty=l1, clasifier__solver=saga, selector__k=1000;, score=0.888 total time=15.9min\n"
     ]
    },
    {
     "name": "stdout",
     "output_type": "stream",
     "text": [
      "[CV 1/5] END clasifier__max_iter=10000, clasifier__penalty=l1, clasifier__solver=saga, selector__k=1000;, score=0.868 total time=16.0min\n"
     ]
    },
    {
     "name": "stdout",
     "output_type": "stream",
     "text": [
      "[CV 5/5] END clasifier__max_iter=10000, clasifier__penalty=l1, clasifier__solver=saga, selector__k=1000;, score=0.852 total time=16.4min\n"
     ]
    },
    {
     "name": "stdout",
     "output_type": "stream",
     "text": [
      "[CV 2/5] END clasifier__max_iter=10000, clasifier__penalty=l1, clasifier__solver=saga, selector__k=1000;, score=0.915 total time=18.5min\n"
     ]
    },
    {
     "name": "stdout",
     "output_type": "stream",
     "text": [
      "Mejores Hiperparámetros: {'selector__k': 1000, 'clasifier__solver': 'saga', 'clasifier__penalty': 'l1', 'clasifier__max_iter': 10000}\n",
      "Mejor Puntuación: 0.8822\n",
      "20231027T221214 : amilcar22 : INFO : Fin entrenamiento\n"
     ]
    }
   ],
   "source": [
    "myfunc.verbose(\"Iniciando entrenamiento\")\n",
    "\n",
    "kf = KFold(n_splits=5, shuffle=True, random_state=SEMILLA)\n",
    "\n",
    "# Crear el pipeline para el flujo de tareas\n",
    "tasks_pipeline = Pipeline([\n",
    "    ('selector', algor_selector),\n",
    "    ('clasifier', algor_clasifier)\n",
    "])\n",
    "\n",
    "# MAX_ITERS puede limitar el número de iteraciones si son excesivas para las combinaciones de parámetros buscando un óptimo local, \n",
    "# sino funcionaría como GridSearchCV al revisar todas las cominaciones de los parámetros\n",
    "num_iteraciones = 1\n",
    "num_iteraciones = num_iteraciones * np.prod([len(elemento1) for _, elemento1 in param_distributions.items()])\n",
    "max_iteraciones = num_iteraciones if num_iteraciones <= MAX_ITERS else MAX_ITERS\n",
    "print(\"num_iter:\",num_iteraciones,\", max_iter:\",max_iteraciones)\n",
    "\n",
    "random_search = RandomizedSearchCV(\n",
    "    tasks_pipeline, \n",
    "    param_distributions, \n",
    "    n_iter=max_iteraciones,\n",
    "    scoring=SCORING,\n",
    "    cv=kf,\n",
    "    verbose=3, \n",
    "    random_state=SEMILLA, \n",
    "    n_jobs=-1\n",
    "    )\n",
    "\n",
    "# Entrenar el modelo\n",
    "random_search.fit(X_train, y_train)\n",
    "\n",
    "# Ver los mejores hiperparámetros encontrados\n",
    "print(f'Mejores Hiperparámetros: {random_search.best_params_}')\n",
    "print(f'Mejor Puntuación: {random_search.best_score_:.4f}')\n",
    "\n",
    "# Nos quedamos con el mejor modelo para ver las métricas\n",
    "mejor_modelo = random_search.best_estimator_\n",
    "\n",
    "myfunc.verbose(\"Fin entrenamiento\")"
   ]
  },
  {
   "cell_type": "markdown",
   "id": "a40d9b0d",
   "metadata": {
    "papermill": {
     "duration": 0.003035,
     "end_time": "2023-10-27T20:12:14.417080",
     "exception": false,
     "start_time": "2023-10-27T20:12:14.414045",
     "status": "completed"
    },
    "tags": []
   },
   "source": [
    "#### Guardar modelo"
   ]
  },
  {
   "cell_type": "code",
   "execution_count": 8,
   "id": "c6602276",
   "metadata": {
    "execution": {
     "iopub.execute_input": "2023-10-27T20:12:14.424262Z",
     "iopub.status.busy": "2023-10-27T20:12:14.424036Z",
     "iopub.status.idle": "2023-10-27T20:12:14.434449Z",
     "shell.execute_reply": "2023-10-27T20:12:14.433896Z"
    },
    "papermill": {
     "duration": 0.015538,
     "end_time": "2023-10-27T20:12:14.435755",
     "exception": false,
     "start_time": "2023-10-27T20:12:14.420217",
     "status": "completed"
    },
    "tags": []
   },
   "outputs": [
    {
     "name": "stdout",
     "output_type": "stream",
     "text": [
      "20231027T221214 : amilcar22 : INFO : Inicio guardar fichero ../tfm_git/ejecuciones/modelos/modelo_0042_mul_m_MI_LR_L1.pkl\n",
      "20231027T221214 : amilcar22 : INFO : Fin guardar fichero ../tfm_git/ejecuciones/modelos/modelo_0042_mul_m_MI_LR_L1.pkl\n"
     ]
    }
   ],
   "source": [
    "fichero_modelo = str.replace(\"modelo_\"+str(SEMILLA).zfill(4)+\"_\"+M_TIPO+\"_\"+M_SELECT+\"_\"+M_CLASIF+\".pkl\", \" \", \"_\")\n",
    "\n",
    "myfunc.save_modelo(mejor_modelo, myfunc.MODEL_DIR, fichero_modelo)"
   ]
  },
  {
   "cell_type": "markdown",
   "id": "9f5bf91b",
   "metadata": {
    "papermill": {
     "duration": 0.003171,
     "end_time": "2023-10-27T20:12:14.442437",
     "exception": false,
     "start_time": "2023-10-27T20:12:14.439266",
     "status": "completed"
    },
    "tags": []
   },
   "source": [
    "#### Ver resultados del las iteraciones hechas por RandomSearchCV"
   ]
  },
  {
   "cell_type": "code",
   "execution_count": 9,
   "id": "59ab9bdb",
   "metadata": {
    "execution": {
     "iopub.execute_input": "2023-10-27T20:12:14.449582Z",
     "iopub.status.busy": "2023-10-27T20:12:14.449362Z",
     "iopub.status.idle": "2023-10-27T20:12:14.455356Z",
     "shell.execute_reply": "2023-10-27T20:12:14.454928Z"
    },
    "papermill": {
     "duration": 0.010991,
     "end_time": "2023-10-27T20:12:14.456568",
     "exception": false,
     "start_time": "2023-10-27T20:12:14.445577",
     "status": "completed"
    },
    "tags": []
   },
   "outputs": [
    {
     "name": "stdout",
     "output_type": "stream",
     "text": [
      "20231027T221214 : amilcar22 : INFO : Inicio ver resultados\n",
      "Mejores Hiperparámetros: {'selector__k': 1000, 'clasifier__solver': 'saga', 'clasifier__penalty': 'l1', 'clasifier__max_iter': 10000}\n",
      "Mejores puntuaciones: 0.8822 | Params: {'selector__k': 1000, 'clasifier__solver': 'saga', 'clasifier__penalty': 'l1', 'clasifier__max_iter': 10000}\n",
      "Media de las puntuaciones: 0.8822 | Params: {'selector__k': 1000, 'clasifier__solver': 'saga', 'clasifier__penalty': 'l1', 'clasifier__max_iter': 10000}\n",
      "20231027T221214 : amilcar22 : INFO : Fin resultados\n"
     ]
    }
   ],
   "source": [
    "myfunc.ver_resultados_search(random_search)"
   ]
  },
  {
   "cell_type": "markdown",
   "id": "8548244a",
   "metadata": {
    "papermill": {
     "duration": 0.003292,
     "end_time": "2023-10-27T20:12:14.463261",
     "exception": false,
     "start_time": "2023-10-27T20:12:14.459969",
     "status": "completed"
    },
    "tags": []
   },
   "source": [
    "#### Ver métricas del mejor modelo"
   ]
  },
  {
   "cell_type": "code",
   "execution_count": 10,
   "id": "4560f68b",
   "metadata": {
    "execution": {
     "iopub.execute_input": "2023-10-27T20:12:14.470519Z",
     "iopub.status.busy": "2023-10-27T20:12:14.470325Z",
     "iopub.status.idle": "2023-10-27T20:12:15.118693Z",
     "shell.execute_reply": "2023-10-27T20:12:15.118173Z"
    },
    "papermill": {
     "duration": 0.653533,
     "end_time": "2023-10-27T20:12:15.119998",
     "exception": false,
     "start_time": "2023-10-27T20:12:14.466465",
     "status": "completed"
    },
    "tags": []
   },
   "outputs": [
    {
     "name": "stdout",
     "output_type": "stream",
     "text": [
      "20231027T221214 : amilcar22 : INFO : Inicio ver métricas multiclase\n"
     ]
    },
    {
     "name": "stdout",
     "output_type": "stream",
     "text": [
      "              precision    recall  f1-score   support\n",
      "\n",
      "           0       0.77      0.62      0.69        16\n",
      "           1       0.75      0.60      0.67        15\n",
      "           2       0.40      0.36      0.38        11\n",
      "           3       0.42      1.00      0.59         5\n",
      "           4       0.57      0.62      0.59        13\n",
      "           5       0.86      0.67      0.75         9\n",
      "           6       0.68      0.72      0.70        18\n",
      "\n",
      "    accuracy                           0.63        87\n",
      "   macro avg       0.64      0.66      0.62        87\n",
      "weighted avg       0.66      0.63      0.64        87\n",
      "\n",
      "\n",
      "\n",
      "           Exactitud: 0.632184\n",
      "   Precisión (media): 0.635526\n",
      "      Recall (media): 0.656130\n",
      "    F1-score (media): 0.624401\n",
      "\n",
      "\n",
      "AUC para el tipo de cáncer 0-Control.... 0.8935\n",
      "AUC para el tipo de cáncer 1-Bladder.... 0.8852\n",
      "AUC para el tipo de cáncer 2-Breast..... 0.8098\n",
      "AUC para el tipo de cáncer 3-Colorectal. 0.9902\n",
      "AUC para el tipo de cáncer 4-Kidney..... 0.8358\n",
      "AUC para el tipo de cáncer 5-Lung....... 0.9772\n",
      "AUC para el tipo de cáncer 6-Prostate... 0.8824\n",
      "\n",
      "Media de AUC: 0.8963\n"
     ]
    },
    {
     "data": {
      "image/png": "[encoded data removed]",
      "text/plain": [
       "<Figure size 1000x600 with 1 Axes>"
      ]
     },
     "metadata": {},
     "output_type": "display_data"
    },
    {
     "name": "stdout",
     "output_type": "stream",
     "text": [
      "\n",
      "\n"
     ]
    },
    {
     "data": {
      "image/png": "[encoded data removed]",
      "text/plain": [
       "<Figure size 800x400 with 2 Axes>"
      ]
     },
     "metadata": {},
     "output_type": "display_data"
    },
    {
     "name": "stdout",
     "output_type": "stream",
     "text": [
      "\n",
      "\n",
      "Puntuación Jaccard para el cáncer tipo 0-Control.... 0.5263\n",
      "Puntuación Jaccard para el cáncer tipo 1-Bladder.... 0.5000\n",
      "Puntuación Jaccard para el cáncer tipo 2-Breast..... 0.2353\n",
      "Puntuación Jaccard para el cáncer tipo 3-Colorectal. 0.4167\n",
      "Puntuación Jaccard para el cáncer tipo 4-Kidney..... 0.4211\n",
      "Puntuación Jaccard para el cáncer tipo 5-Lung....... 0.6000\n",
      "Puntuación Jaccard para el cáncer tipo 6-Prostate... 0.5417\n",
      "\n",
      "Media de la puntuación de Jaccard: 0.4630\n"
     ]
    }
   ],
   "source": [
    "if M_TIPO.startswith(\"bin\"):\n",
    "    myfunc.ver_metricas(mejor_modelo, X_test, y_test)\n",
    "else:\n",
    "    myfunc.ver_metricas_multi(mejor_modelo, X_test, y_test)\n"
   ]
  },
  {
   "cell_type": "markdown",
   "id": "9fadb585",
   "metadata": {
    "papermill": {
     "duration": 0.004346,
     "end_time": "2023-10-27T20:12:15.129307",
     "exception": false,
     "start_time": "2023-10-27T20:12:15.124961",
     "status": "completed"
    },
    "tags": []
   },
   "source": [
    "#### Finalización del notebook"
   ]
  },
  {
   "cell_type": "code",
   "execution_count": 11,
   "id": "8073e7d5",
   "metadata": {
    "execution": {
     "iopub.execute_input": "2023-10-27T20:12:15.138728Z",
     "iopub.status.busy": "2023-10-27T20:12:15.138484Z",
     "iopub.status.idle": "2023-10-27T20:12:15.141826Z",
     "shell.execute_reply": "2023-10-27T20:12:15.141388Z"
    },
    "papermill": {
     "duration": 0.009412,
     "end_time": "2023-10-27T20:12:15.142974",
     "exception": false,
     "start_time": "2023-10-27T20:12:15.133562",
     "status": "completed"
    },
    "tags": []
   },
   "outputs": [
    {
     "name": "stdout",
     "output_type": "stream",
     "text": [
      "20231027T221215 : amilcar22 : INFO : Notebook ha tardado 2029 seconds\n"
     ]
    }
   ],
   "source": [
    "end_time = datetime.datetime.now()\n",
    "total_time = end_time - start_time\n",
    "myfunc.verbose(f\"Notebook ha tardado {total_time.seconds} seconds\")"
   ]
  },
  {
   "cell_type": "markdown",
   "id": "d2a36602",
   "metadata": {
    "papermill": {
     "duration": 0.004275,
     "end_time": "2023-10-27T20:12:15.151857",
     "exception": false,
     "start_time": "2023-10-27T20:12:15.147582",
     "status": "completed"
    },
    "tags": []
   },
   "source": [
    "#### Guardar métricas"
   ]
  },
  {
   "cell_type": "code",
   "execution_count": 12,
   "id": "6c95e078",
   "metadata": {
    "execution": {
     "iopub.execute_input": "2023-10-27T20:12:15.161354Z",
     "iopub.status.busy": "2023-10-27T20:12:15.161155Z",
     "iopub.status.idle": "2023-10-27T20:12:15.368667Z",
     "shell.execute_reply": "2023-10-27T20:12:15.368151Z"
    },
    "papermill": {
     "duration": 0.214889,
     "end_time": "2023-10-27T20:12:15.371066",
     "exception": false,
     "start_time": "2023-10-27T20:12:15.156177",
     "status": "completed"
    },
    "tags": []
   },
   "outputs": [
    {
     "name": "stdout",
     "output_type": "stream",
     "text": [
      "20231027T221215 : amilcar22 : INFO : Inicio guardar métricas multiclase\n",
      "20231027T221215 : amilcar22 : INFO : Inicio leer fichero ../tfm_git/ejecuciones/metricas/metricas_0042.csv\n",
      "20231027T221215 : amilcar22 : INFO : Fin leer fichero ../tfm_git/ejecuciones/metricas/metricas_0042.csv\n"
     ]
    },
    {
     "name": "stdout",
     "output_type": "stream",
     "text": [
      "20231027T221215 : amilcar22 : INFO : Inicio guardar fichero ../tfm_git/ejecuciones/metricas/metricas_0042.csv\n",
      "20231027T221215 : amilcar22 : INFO : Fichero borrado ../tfm_git/ejecuciones/metricas/metricas_0042.csv\n"
     ]
    },
    {
     "name": "stdout",
     "output_type": "stream",
     "text": [
      "20231027T221215 : amilcar22 : INFO : Fin guardar fichero ../tfm_git/ejecuciones/metricas/metricas_0042.csv\n",
      "20231027T221215 : amilcar22 : INFO : Fin guardar métricas multiclase\n",
      "20231027T221215 : amilcar22 : INFO : Inicio leer fichero ../tfm_git/ejecuciones/metricas/metricas_0042.csv\n",
      "20231027T221215 : amilcar22 : INFO : Fin leer fichero ../tfm_git/ejecuciones/metricas/metricas_0042.csv\n"
     ]
    },
    {
     "data": {
      "text/html": [
       "<div>\n",
       "<style scoped>\n",
       "    .dataframe tbody tr th:only-of-type {\n",
       "        vertical-align: middle;\n",
       "    }\n",
       "\n",
       "    .dataframe tbody tr th {\n",
       "        vertical-align: top;\n",
       "    }\n",
       "\n",
       "    .dataframe thead th {\n",
       "        text-align: right;\n",
       "    }\n",
       "</style>\n",
       "<table border=\"1\" class=\"dataframe\">\n",
       "  <thead>\n",
       "    <tr style=\"text-align: right;\">\n",
       "      <th></th>\n",
       "      <th>tipo</th>\n",
       "      <th>select</th>\n",
       "      <th>clasific</th>\n",
       "      <th>accuracy</th>\n",
       "      <th>precision</th>\n",
       "      <th>recall</th>\n",
       "      <th>f1_score</th>\n",
       "      <th>roc_auc</th>\n",
       "      <th>roc_auc_ovr</th>\n",
       "      <th>hostname</th>\n",
       "      <th>total_time_sec</th>\n",
       "      <th>datetime</th>\n",
       "      <th>fichero_modelo</th>\n",
       "      <th>params</th>\n",
       "      <th>shape</th>\n",
       "      <th>features</th>\n",
       "      <th>semilla</th>\n",
       "      <th>indices_auc</th>\n",
       "      <th>indices_jaccard</th>\n",
       "    </tr>\n",
       "  </thead>\n",
       "  <tbody>\n",
       "    <tr>\n",
       "      <th>0</th>\n",
       "      <td>mul_m</td>\n",
       "      <td>MI</td>\n",
       "      <td>LR_L1</td>\n",
       "      <td>0.632184</td>\n",
       "      <td>0.635526</td>\n",
       "      <td>0.656130</td>\n",
       "      <td>0.624401</td>\n",
       "      <td>NaN</td>\n",
       "      <td>0.896305</td>\n",
       "      <td>amilcar22</td>\n",
       "      <td>2029</td>\n",
       "      <td>2023-10-27 22:12:15.322539</td>\n",
       "      <td>modelo_0042_mul_m_MI_LR_L1.pkl</td>\n",
       "      <td>{'selector__k': 1000, 'clasifier__solver': 'sa...</td>\n",
       "      <td>X_test:(87, 18875)</td>\n",
       "      <td>['ENSG00000001084.13', 'ENSG00000001460.18', '...</td>\n",
       "      <td>42.0</td>\n",
       "      <td>[0.8934859154929577, 0.8851851851851852, 0.809...</td>\n",
       "      <td>[0.5263157894736842, 0.5, 0.23529411764705882,...</td>\n",
       "    </tr>\n",
       "    <tr>\n",
       "      <th>0</th>\n",
       "      <td>mul_m</td>\n",
       "      <td>MI</td>\n",
       "      <td>LR_EN</td>\n",
       "      <td>0.632184</td>\n",
       "      <td>0.635591</td>\n",
       "      <td>0.657122</td>\n",
       "      <td>0.628271</td>\n",
       "      <td>NaN</td>\n",
       "      <td>0.899159</td>\n",
       "      <td>amilcar22</td>\n",
       "      <td>1851</td>\n",
       "      <td>2023-10-27 21:38:19.893219</td>\n",
       "      <td>modelo_0042_mul_m_MI_LR_EN.pkl</td>\n",
       "      <td>{'selector__k': 1000, 'clasifier__solver': 'sa...</td>\n",
       "      <td>X_test:(87, 18875)</td>\n",
       "      <td>['ENSG00000001084.13', 'ENSG00000001460.18', '...</td>\n",
       "      <td>42.0</td>\n",
       "      <td>[0.8873239436619718, 0.8787037037037037, 0.820...</td>\n",
       "      <td>[0.5789473684210527, 0.5, 0.2222222222222222, ...</td>\n",
       "    </tr>\n",
       "    <tr>\n",
       "      <th>0</th>\n",
       "      <td>mul_m</td>\n",
       "      <td>ANOVA</td>\n",
       "      <td>SVM</td>\n",
       "      <td>0.448276</td>\n",
       "      <td>0.466514</td>\n",
       "      <td>0.477284</td>\n",
       "      <td>0.454199</td>\n",
       "      <td>NaN</td>\n",
       "      <td>0.819710</td>\n",
       "      <td>amilcar22</td>\n",
       "      <td>3</td>\n",
       "      <td>2023-10-27 21:07:22.134502</td>\n",
       "      <td>modelo_0042_mul_m_ANOVA_SVM.pkl</td>\n",
       "      <td>{'selector__k': 500, 'clasifier__kernel': 'rbf...</td>\n",
       "      <td>X_test:(87, 18875)</td>\n",
       "      <td>['ENSG00000000938.13', 'ENSG00000004660.15', '...</td>\n",
       "      <td>42.0</td>\n",
       "      <td>[0.7227112676056338, 0.8833333333333333, 0.605...</td>\n",
       "      <td>[0.17391304347826086, 0.42105263157894735, 0.1...</td>\n",
       "    </tr>\n",
       "  </tbody>\n",
       "</table>\n",
       "</div>"
      ],
      "text/plain": [
       "    tipo select clasific  accuracy  precision    recall  f1_score  roc_auc  \\\n",
       "0  mul_m     MI    LR_L1  0.632184   0.635526  0.656130  0.624401      NaN   \n",
       "0  mul_m     MI    LR_EN  0.632184   0.635591  0.657122  0.628271      NaN   \n",
       "0  mul_m  ANOVA      SVM  0.448276   0.466514  0.477284  0.454199      NaN   \n",
       "\n",
       "   roc_auc_ovr   hostname  total_time_sec                    datetime  \\\n",
       "0     0.896305  amilcar22            2029  2023-10-27 22:12:15.322539   \n",
       "0     0.899159  amilcar22            1851  2023-10-27 21:38:19.893219   \n",
       "0     0.819710  amilcar22               3  2023-10-27 21:07:22.134502   \n",
       "\n",
       "                    fichero_modelo  \\\n",
       "0   modelo_0042_mul_m_MI_LR_L1.pkl   \n",
       "0   modelo_0042_mul_m_MI_LR_EN.pkl   \n",
       "0  modelo_0042_mul_m_ANOVA_SVM.pkl   \n",
       "\n",
       "                                              params               shape  \\\n",
       "0  {'selector__k': 1000, 'clasifier__solver': 'sa...  X_test:(87, 18875)   \n",
       "0  {'selector__k': 1000, 'clasifier__solver': 'sa...  X_test:(87, 18875)   \n",
       "0  {'selector__k': 500, 'clasifier__kernel': 'rbf...  X_test:(87, 18875)   \n",
       "\n",
       "                                            features  semilla  \\\n",
       "0  ['ENSG00000001084.13', 'ENSG00000001460.18', '...     42.0   \n",
       "0  ['ENSG00000001084.13', 'ENSG00000001460.18', '...     42.0   \n",
       "0  ['ENSG00000000938.13', 'ENSG00000004660.15', '...     42.0   \n",
       "\n",
       "                                         indices_auc  \\\n",
       "0  [0.8934859154929577, 0.8851851851851852, 0.809...   \n",
       "0  [0.8873239436619718, 0.8787037037037037, 0.820...   \n",
       "0  [0.7227112676056338, 0.8833333333333333, 0.605...   \n",
       "\n",
       "                                     indices_jaccard  \n",
       "0  [0.5263157894736842, 0.5, 0.23529411764705882,...  \n",
       "0  [0.5789473684210527, 0.5, 0.2222222222222222, ...  \n",
       "0  [0.17391304347826086, 0.42105263157894735, 0.1...  "
      ]
     },
     "metadata": {},
     "output_type": "display_data"
    }
   ],
   "source": [
    "if M_TIPO.startswith(\"bin\"):\n",
    "    myfunc.save_metricas_to_csv(random_search, X_test, y_test, M_TIPO, M_SELECT, M_CLASIF, total_time, SEMILLA, myfunc.MET_DIR, M_FICHERO, fichero_modelo)\n",
    "else:\n",
    "    myfunc.save_metricas_multi_to_csv(random_search, X_test, y_test, M_TIPO, M_SELECT, M_CLASIF, total_time, SEMILLA, myfunc.MET_DIR, M_FICHERO, fichero_modelo)\n",
    "\n",
    "df1=myfunc.read_metricas_to_df(myfunc.MET_DIR,M_FICHERO)\n",
    "\n",
    "display(df1.sort_values(\"datetime\", ascending=False)[:3])\n"
   ]
  },
  {
   "cell_type": "markdown",
   "id": "49e4b774",
   "metadata": {
    "papermill": {
     "duration": 0.006691,
     "end_time": "2023-10-27T20:12:15.389058",
     "exception": false,
     "start_time": "2023-10-27T20:12:15.382367",
     "status": "completed"
    },
    "tags": []
   },
   "source": [
    "#### Guardar resultados"
   ]
  },
  {
   "cell_type": "code",
   "execution_count": 13,
   "id": "a4a23a72",
   "metadata": {
    "execution": {
     "iopub.execute_input": "2023-10-27T20:12:15.399032Z",
     "iopub.status.busy": "2023-10-27T20:12:15.398800Z",
     "iopub.status.idle": "2023-10-27T20:12:15.407338Z",
     "shell.execute_reply": "2023-10-27T20:12:15.406894Z"
    },
    "papermill": {
     "duration": 0.015028,
     "end_time": "2023-10-27T20:12:15.408585",
     "exception": false,
     "start_time": "2023-10-27T20:12:15.393557",
     "status": "completed"
    },
    "tags": []
   },
   "outputs": [
    {
     "name": "stdout",
     "output_type": "stream",
     "text": [
      "20231027T221215 : amilcar22 : INFO : Inicio guardar resultados\n",
      "20231027T221215 : amilcar22 : INFO : Inicio guardar fichero ../tfm_git/ejecuciones/metricas/resultados_0042_mul_m-MI-LR_L1.csv\n",
      "20231027T221215 : amilcar22 : INFO : Fin guardar fichero ../tfm_git/ejecuciones/metricas/resultados_0042_mul_m-MI-LR_L1.csv\n",
      "20231027T221215 : amilcar22 : INFO : Fin guardar resultados\n"
     ]
    }
   ],
   "source": [
    "fichero_resultados=R_FICHERO+\"_\"+M_TIPO+\"-\"+M_SELECT+\"-\"+M_CLASIF+\".csv\"\n",
    "myfunc.save_resultados_to_csv(M_TIPO, M_SELECT, M_CLASIF,  random_search, myfunc.MET_DIR, fichero_resultados)\n"
   ]
  }
 ],
 "metadata": {
  "kernelspec": {
   "display_name": "Python 3 (ipykernel)",
   "language": "python",
   "name": "python3"
  },
  "language_info": {
   "codemirror_mode": {
    "name": "ipython",
    "version": 3
   },
   "file_extension": ".py",
   "mimetype": "text/x-python",
   "name": "python",
   "nbconvert_exporter": "python",
   "pygments_lexer": "ipython3",
   "version": "3.10.12"
  },
  "papermill": {
   "default_parameters": {},
   "duration": 2033.916069,
   "end_time": "2023-10-27T20:12:18.032781",
   "environment_variables": {},
   "exception": null,
   "input_path": "03_entrenamiento.ipynb",
   "output_path": "ejecuciones/training/03_entrenamiento.20231027T213823.param_0000_0042_mul_m_MI_LR_L1.output.ipynb",
   "parameters": {
    "MAX_ITERS": 500,
    "M_CLASIF": "LR_L1",
    "M_FICHERO": "metricas_0042",
    "M_SELECT": "MI",
    "M_TIPO": "mul_m",
    "PRE_DATA_FILE": "rows_transpose_norm_by_gene_id_with_target_num_",
    "P_FICHERO": "param_0000_0042_mul_m_MI_LR_L1.yaml",
    "R_FICHERO": "resultados_0042",
    "SCORING": "roc_auc_ovr",
    "SEMILLA": 42,
    "eval_clasifier": "LogisticRegressionCV(random_state=SEMILLA)",
    "eval_selector": "SelectKBest(score_func=mutual_info_classif_state)",
    "param_distributions": {
     "clasifier__max_iter": [
      10000
     ],
     "clasifier__penalty": [
      "l1"
     ],
     "clasifier__solver": [
      "saga"
     ],
     "selector__k": [
      1000
     ]
    }
   },
   "start_time": "2023-10-27T19:38:24.116712",
   "version": "2.4.0"
  }
 },
 "nbformat": 4,
 "nbformat_minor": 5
}