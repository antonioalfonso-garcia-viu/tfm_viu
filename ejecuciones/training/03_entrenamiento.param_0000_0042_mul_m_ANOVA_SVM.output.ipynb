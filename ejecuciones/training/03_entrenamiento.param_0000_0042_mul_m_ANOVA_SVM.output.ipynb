{
 "cells": [
  {
   "cell_type": "markdown",
   "id": "dab30427",
   "metadata": {
    "papermill": {
     "duration": 0.004322,
     "end_time": "2023-10-27T19:07:17.857164",
     "exception": false,
     "start_time": "2023-10-27T19:07:17.852842",
     "status": "completed"
    },
    "tags": []
   },
   "source": [
    "##### Inicio"
   ]
  },
  {
   "cell_type": "markdown",
   "id": "89c6fda6",
   "metadata": {
    "papermill": {
     "duration": 0.003532,
     "end_time": "2023-10-27T19:07:17.864494",
     "exception": false,
     "start_time": "2023-10-27T19:07:17.860962",
     "status": "completed"
    },
    "tags": []
   },
   "source": [
    "#### Carga de datos"
   ]
  },
  {
   "cell_type": "code",
   "execution_count": 1,
   "id": "e3882913",
   "metadata": {
    "execution": {
     "iopub.execute_input": "2023-10-27T19:07:17.873063Z",
     "iopub.status.busy": "2023-10-27T19:07:17.872781Z",
     "iopub.status.idle": "2023-10-27T19:07:18.741427Z",
     "shell.execute_reply": "2023-10-27T19:07:18.740836Z"
    },
    "papermill": {
     "duration": 0.874739,
     "end_time": "2023-10-27T19:07:18.742835",
     "exception": false,
     "start_time": "2023-10-27T19:07:17.868096",
     "status": "completed"
    },
    "tags": []
   },
   "outputs": [
    {
     "name": "stdout",
     "output_type": "stream",
     "text": [
      "CPU_COUNT: 8; NODE: amilcar22; sys.version: 3.10.12 (main, Jul  5 2023, 19:22:19) [GCC 11.2.0]\n",
      "LOKY_MAX_CPU_COUNT: 6\n",
      "OMP_NUM_THREADS: 2\n"
     ]
    }
   ],
   "source": [
    "import os\n",
    "import numpy as np\n",
    "import pandas as pd\n",
    "import datetime\n",
    "import sklearn\n",
    "import logging\n",
    "import warnings\n",
    "\n",
    "from sklearn.pipeline import Pipeline\n",
    "from sklearn.model_selection import RandomizedSearchCV, KFold, cross_val_score, train_test_split\n",
    "from sklearn.metrics import accuracy_score, confusion_matrix, classification_report, roc_auc_score\n",
    "\n",
    "#  cargar algoritmos para aprendizaje supervisado\n",
    "from sklearn.feature_selection import SelectKBest, f_classif, SelectFromModel, mutual_info_classif\n",
    "from sklearn.svm import SVC\n",
    "from sklearn.ensemble import RandomForestClassifier\n",
    "from sklearn.linear_model import LogisticRegression,LogisticRegressionCV\n",
    "\n",
    "# importar fichero con utilidades propias\n",
    "from commons import myfunctions as myfunc\n"
   ]
  },
  {
   "cell_type": "markdown",
   "id": "98339e32",
   "metadata": {
    "papermill": {
     "duration": 0.002605,
     "end_time": "2023-10-27T19:07:18.748379",
     "exception": false,
     "start_time": "2023-10-27T19:07:18.745774",
     "status": "completed"
    },
    "tags": []
   },
   "source": [
    "#### Parámetros a utilizar en el entrenamiento.\n",
    "\n",
    "Se indican los 3 algoritmos de *selección de características* (eval_selector_xxx) y los 3 algoritmos para la _clasificación_ (eval_clasifier_xxx)\n",
    "\n",
    "En *param_distributions* se indicar los parámetros que utilizan los algoritmos en la función RandomSearchCV.\n",
    "\n",
    "Esta celda tiene la etiqueta **parameters** que servirá para poder lanzar los entrenamientos con la utilidad **papermill** pasándole un fichero con los parámetros. Los nuevos parámetros se situarán tras esta celda para tener prevalencia."
   ]
  },
  {
   "cell_type": "code",
   "execution_count": 2,
   "id": "3e5b82c2",
   "metadata": {
    "execution": {
     "iopub.execute_input": "2023-10-27T19:07:18.754482Z",
     "iopub.status.busy": "2023-10-27T19:07:18.754239Z",
     "iopub.status.idle": "2023-10-27T19:07:18.760783Z",
     "shell.execute_reply": "2023-10-27T19:07:18.760328Z"
    },
    "papermill": {
     "duration": 0.011149,
     "end_time": "2023-10-27T19:07:18.762001",
     "exception": false,
     "start_time": "2023-10-27T19:07:18.750852",
     "status": "completed"
    },
    "tags": [
     "parameters"
    ]
   },
   "outputs": [
    {
     "name": "stdout",
     "output_type": "stream",
     "text": [
      "20231027T210718 : amilcar22 : INFO : Utilizando parámetros de mul_m\n"
     ]
    }
   ],
   "source": [
    "#  Parametros para el entrenamiento\n",
    "\n",
    "SEMILLA=        42\n",
    "M_TIPO=         \"mul_m\"\n",
    "M_SELECT=       \"MI\"\n",
    "M_CLASIF=       \"SVM\"\n",
    "R_FICHERO=      \"resultados\"\n",
    "M_FICHERO=      \"metricas\"\n",
    "PRE_DATA_FILE=  \"rows_transpose_norm_by_gene_id_with_target_num_\"\n",
    "SCORING=        \"roc_auc_ovr\" \n",
    "MAX_ITERS=      100\n",
    "\n",
    "def mutual_info_classif_state(X, y):\n",
    "    return mutual_info_classif(X, y, random_state=SEMILLA)\n",
    "\n",
    "eval_selector_mi = \"SelectKBest(score_func=mutual_info_classif_state)\"\n",
    "eval_selector_rf=  \"SelectFromModel(estimator=RandomForestClassifier(random_state=SEMILLA), threshold=-np.inf)\"\n",
    "eval_selector_anova=  \"SelectKBest(score_func=f_classif)\"\n",
    "\n",
    "eval_clasifier_svm= \"SVC(probability=True, random_state=SEMILLA)\"\n",
    "eval_clasifier_rf= \"RandomForestClassifier(random_state=SEMILLA)\"\n",
    "eval_clasifier_lr= \"LogisticRegressionCV(random_state=SEMILLA)\"\n",
    "\n",
    "if M_TIPO.startswith(\"bin_m\"):\n",
    "    myfunc.verbose(f\"Utilizando parámetros de {M_TIPO}\")\n",
    "    eval_selector = eval_selector_mi\n",
    "    eval_clasifier = eval_clasifier_svm\n",
    "\n",
    "    SEMILLA = 6578\n",
    "    M_SELECT = \"MI\"\n",
    "    M_CLASIF = \"SVM\"\n",
    "    param_distributions = {'selector__k': [1000], \n",
    "         'clasifier__kernel': ['rbf'], 'clasifier__gamma': [0.01], 'clasifier__C': [100]}\n",
    "elif M_TIPO.startswith(\"bin_s\"):\n",
    "    myfunc.verbose(f\"Utilizando parámetros de {M_TIPO}\")\n",
    "    eval_selector = eval_selector_rf\n",
    "    eval_clasifier = eval_clasifier_lr\n",
    "\n",
    "    SEMILLA = 6191\n",
    "    M_SELECT = \"RF\"\n",
    "    M_CLASIF = \"LR_L2\"\n",
    "    param_distributions = {'selector__max_features': [1000], 'selector__estimator__n_estimators': [200], \n",
    "        'clasifier__solver': ['lbfgs'], 'clasifier__penalty': ['l2'], 'clasifier__max_iter': [10000]}\n",
    "\n",
    "elif M_TIPO.startswith(\"mul_m\"):\n",
    "    myfunc.verbose(f\"Utilizando parámetros de {M_TIPO}\")\n",
    " \n",
    "    eval_selector = eval_selector_rf\n",
    "    eval_clasifier = eval_clasifier_lr\n",
    "\n",
    "    SEMILLA = 6191\n",
    "    M_SELECT = \"RF\"\n",
    "    M_CLASIF = \"LR_L2\"\n",
    "    param_distributions = {'selector__max_features': [1000], 'selector__estimator__n_estimators': [400], \n",
    "        'clasifier__solver': ['lbfgs'], 'clasifier__penalty': ['l2'], 'clasifier__max_iter': [10000]}\n",
    "\n",
    "else:\n",
    "    # M_TIPO.startswith(\"mul_s\"):\n",
    "    myfunc.verbose(f\"Utilizando parámetros de {M_TIPO}\")\n",
    "    eval_selector = eval_selector_anova\n",
    "    eval_clasifier = eval_clasifier_lr\n",
    "\n",
    "    SEMILLA = 1860\n",
    "    M_SELECT = \"ANOVA\"\n",
    "    M_CLASIF = \"LR_L2\"\n",
    "    param_distributions = {'selector__k': [1000], \n",
    "        'clasifier__solver': ['saga'], 'clasifier__penalty': ['l2'], 'clasifier__max_iter': [10000]}\n",
    "\n"
   ]
  },
  {
   "cell_type": "code",
   "execution_count": 3,
   "id": "d45ab292",
   "metadata": {
    "execution": {
     "iopub.execute_input": "2023-10-27T19:07:18.768135Z",
     "iopub.status.busy": "2023-10-27T19:07:18.767922Z",
     "iopub.status.idle": "2023-10-27T19:07:18.771542Z",
     "shell.execute_reply": "2023-10-27T19:07:18.771049Z"
    },
    "papermill": {
     "duration": 0.008042,
     "end_time": "2023-10-27T19:07:18.772793",
     "exception": false,
     "start_time": "2023-10-27T19:07:18.764751",
     "status": "completed"
    },
    "tags": [
     "injected-parameters"
    ]
   },
   "outputs": [],
   "source": [
    "# Parameters\n",
    "M_TIPO = \"mul_m\"\n",
    "M_SELECT = \"ANOVA\"\n",
    "M_CLASIF = \"SVM\"\n",
    "P_FICHERO = \"param_0000_0042_mul_m_ANOVA_SVM.yaml\"\n",
    "R_FICHERO = \"resultados_0042\"\n",
    "M_FICHERO = \"metricas_0042\"\n",
    "PRE_DATA_FILE = \"rows_transpose_norm_by_gene_id_with_target_num_\"\n",
    "SCORING = \"roc_auc_ovr\"\n",
    "SEMILLA = 42\n",
    "MAX_ITERS = 500\n",
    "eval_selector = \"SelectKBest(score_func=f_classif)\"\n",
    "eval_clasifier = \"SVC(probability=True, random_state=SEMILLA)\"\n",
    "param_distributions = {\n",
    "    \"selector__k\": [500],\n",
    "    \"clasifier__kernel\": [\"rbf\"],\n",
    "    \"clasifier__gamma\": [0.01],\n",
    "    \"clasifier__C\": [100],\n",
    "}\n"
   ]
  },
  {
   "cell_type": "code",
   "execution_count": 4,
   "id": "ac68902b",
   "metadata": {
    "execution": {
     "iopub.execute_input": "2023-10-27T19:07:18.778989Z",
     "iopub.status.busy": "2023-10-27T19:07:18.778815Z",
     "iopub.status.idle": "2023-10-27T19:07:18.781737Z",
     "shell.execute_reply": "2023-10-27T19:07:18.781235Z"
    },
    "papermill": {
     "duration": 0.007397,
     "end_time": "2023-10-27T19:07:18.782958",
     "exception": false,
     "start_time": "2023-10-27T19:07:18.775561",
     "status": "completed"
    },
    "tags": []
   },
   "outputs": [],
   "source": [
    "DATA_FILE = PRE_DATA_FILE + M_TIPO\n",
    "\n",
    "# si viene \"None\" en el parámetro max_depth, se le quitan las comillas para que no sea entendido por el algoritmo como un texto\n",
    "if \"clasifier__max_depth\" in param_distributions:\n",
    "    param_distributions['clasifier__max_depth'] = [None if x == 'None' else x for x in param_distributions['clasifier__max_depth']]"
   ]
  },
  {
   "cell_type": "markdown",
   "id": "263d1733",
   "metadata": {
    "papermill": {
     "duration": 0.002824,
     "end_time": "2023-10-27T19:07:18.788689",
     "exception": false,
     "start_time": "2023-10-27T19:07:18.785865",
     "status": "completed"
    },
    "tags": []
   },
   "source": [
    "Asignar los algoritmos que se utilizarán en la función RandomSearchCV"
   ]
  },
  {
   "cell_type": "code",
   "execution_count": 5,
   "id": "31bc9e34",
   "metadata": {
    "execution": {
     "iopub.execute_input": "2023-10-27T19:07:18.795158Z",
     "iopub.status.busy": "2023-10-27T19:07:18.794996Z",
     "iopub.status.idle": "2023-10-27T19:07:18.797717Z",
     "shell.execute_reply": "2023-10-27T19:07:18.797210Z"
    },
    "papermill": {
     "duration": 0.007381,
     "end_time": "2023-10-27T19:07:18.799025",
     "exception": false,
     "start_time": "2023-10-27T19:07:18.791644",
     "status": "completed"
    },
    "tags": []
   },
   "outputs": [],
   "source": [
    "algor_selector=eval(eval_selector)\n",
    "algor_clasifier=eval(eval_clasifier)"
   ]
  },
  {
   "cell_type": "markdown",
   "id": "6ee45849",
   "metadata": {
    "papermill": {
     "duration": 0.003373,
     "end_time": "2023-10-27T19:07:18.805756",
     "exception": false,
     "start_time": "2023-10-27T19:07:18.802383",
     "status": "completed"
    },
    "tags": []
   },
   "source": [
    "#### Comprobar el entorno y leer fichero de muestras"
   ]
  },
  {
   "cell_type": "code",
   "execution_count": 6,
   "id": "7e724fc0",
   "metadata": {
    "execution": {
     "iopub.execute_input": "2023-10-27T19:07:18.813271Z",
     "iopub.status.busy": "2023-10-27T19:07:18.813080Z",
     "iopub.status.idle": "2023-10-27T19:07:18.977148Z",
     "shell.execute_reply": "2023-10-27T19:07:18.976626Z"
    },
    "papermill": {
     "duration": 0.169392,
     "end_time": "2023-10-27T19:07:18.978550",
     "exception": false,
     "start_time": "2023-10-27T19:07:18.809158",
     "status": "completed"
    },
    "tags": []
   },
   "outputs": [
    {
     "name": "stdout",
     "output_type": "stream",
     "text": [
      "20231027T210718 : amilcar22 : INFO : Encontrada carpeta DATA_DIR=../tfm_git/datos\n",
      "20231027T210718 : amilcar22 : INFO : Encontrada carpeta CFDNA_DIR=../tfm_git/datos/cfDNA_5hmC\n",
      "20231027T210718 : amilcar22 : INFO : Encontrada carpeta GENCODE_DIR=../tfm_git/datos/gencode\n",
      "20231027T210718 : amilcar22 : INFO : Encontrada carpeta H5_DIR=../tfm_git/datos/h5\n",
      "20231027T210718 : amilcar22 : INFO : Encontrada carpeta LOG_DIR=../tfm_git/datos/logs\n",
      "20231027T210718 : amilcar22 : INFO : Encontrada carpeta CSV_DIR=../tfm_git/datos/csv\n",
      "20231027T210718 : amilcar22 : INFO : Encontrada carpeta MODEL_DIR=../tfm_git/ejecuciones/modelos\n",
      "20231027T210718 : amilcar22 : INFO : Encontrada carpeta EXEC_DIR=../tfm_git/ejecuciones\n",
      "20231027T210718 : amilcar22 : INFO : Encontrada carpeta MET_DIR=../tfm_git/ejecuciones/metricas\n",
      "20231027T210718 : amilcar22 : INFO : Inicio leer fichero h5 ../tfm_git/datos/h5/rows_transpose_norm_by_gene_id_with_target_num_mul_m.h5\n",
      "20231027T210718 : amilcar22 : INFO : Leyendo clave /df\n",
      "20231027T210718 : amilcar22 : INFO : Tamaño (434, 18876)\n",
      "20231027T210718 : amilcar22 : INFO : Fin leer fichero h5 ../tfm_git/datos/h5/rows_transpose_norm_by_gene_id_with_target_num_mul_m.h5\n"
     ]
    },
    {
     "data": {
      "text/plain": [
       "target\n",
       "0    62\n",
       "1    62\n",
       "2    62\n",
       "3    62\n",
       "4    62\n",
       "5    62\n",
       "6    62\n",
       "dtype: int64"
      ]
     },
     "metadata": {},
     "output_type": "display_data"
    },
    {
     "name": "stdout",
     "output_type": "stream",
     "text": [
      "Shape df: (434, 18876)\n"
     ]
    },
    {
     "name": "stdout",
     "output_type": "stream",
     "text": [
      "Shape X_train: (347, 18875)\n",
      "Shape X_test: (87, 18875)\n"
     ]
    }
   ],
   "source": [
    "start_time = datetime.datetime.now()\n",
    "\n",
    "myfunc.reset_vars()\n",
    "\n",
    "myfunc.NOTEBK_FILENAME = myfunc.get_nb_name()\n",
    "\n",
    "myfunc.check_enviroment(myfunc.DATA_DIR, myfunc.CFDNA_DIR, myfunc.GENCODE_DIR, myfunc.H5_DIR, myfunc.LOG_DIR, myfunc.CSV_DIR, myfunc.MODEL_DIR, myfunc.EXEC_DIR, myfunc.MET_DIR)\n",
    "\n",
    "# Leer fichero con las muestras\n",
    "df_t = myfunc.read_h5_to_df(DATA_FILE, myfunc.H5_DIR)\n",
    "display(df_t.groupby(\"target\").size())\n",
    "print(\"Shape df:\",df_t.shape)\n",
    "\n",
    "# Separar caracteristicas/genes de las etiquetas/tipos de cáncer\n",
    "X = df_t.iloc[:, :-1]  # Todas las columnas excepto la última\n",
    "y = df_t.iloc[:, -1]  # La última columna contiene los identificadores de los tipos de cáncer\n",
    "\n",
    "#  Crear el conjunto de datos de entrenamiento y de pruebas\n",
    "X_train, X_test, y_train, y_test = train_test_split(X, y, test_size=0.2, shuffle=True, random_state=SEMILLA)\n",
    "print(\"Shape X_train:\",X_train.shape)\n",
    "print(\"Shape X_test:\",X_test.shape)\n"
   ]
  },
  {
   "cell_type": "markdown",
   "id": "0d4faeeb",
   "metadata": {
    "papermill": {
     "duration": 0.002827,
     "end_time": "2023-10-27T19:07:18.984739",
     "exception": false,
     "start_time": "2023-10-27T19:07:18.981912",
     "status": "completed"
    },
    "tags": []
   },
   "source": [
    "#### Selección de características y clasificación."
   ]
  },
  {
   "cell_type": "code",
   "execution_count": 7,
   "id": "66b69825",
   "metadata": {
    "execution": {
     "iopub.execute_input": "2023-10-27T19:07:18.991285Z",
     "iopub.status.busy": "2023-10-27T19:07:18.991086Z",
     "iopub.status.idle": "2023-10-27T19:07:21.242539Z",
     "shell.execute_reply": "2023-10-27T19:07:21.241897Z"
    },
    "papermill": {
     "duration": 2.256159,
     "end_time": "2023-10-27T19:07:21.243817",
     "exception": false,
     "start_time": "2023-10-27T19:07:18.987658",
     "status": "completed"
    },
    "tags": []
   },
   "outputs": [
    {
     "name": "stdout",
     "output_type": "stream",
     "text": [
      "20231027T210718 : amilcar22 : INFO : Iniciando entrenamiento\n",
      "num_iter: 1 , max_iter: 1\n",
      "Fitting 5 folds for each of 1 candidates, totalling 5 fits\n"
     ]
    },
    {
     "name": "stderr",
     "output_type": "stream",
     "text": [
      "/home/antonio/miniconda3/lib/python3.10/site-packages/sklearn/feature_selection/_univariate_selection.py:112: UserWarning: Features [  298  1508  1733  2010  2265  2266  2553  2803  2896  3415  4075  5668\n",
      "  5803  6984  7416  8791  9087  9490 10475 11020 11260 11613 11943 12249\n",
      " 12480 12831 13836 13848 13959 14015 14795 14941 15397 15401 15515 15563\n",
      " 15824 16018 16258 16276 16313 16323 16339 16372 16522 16701 16870 16905\n",
      " 16906 17024 17093 17231 17274 17418 17540 18368 18374 18405 18608 18693] are constant.\n",
      "  warnings.warn(\"Features %s are constant.\" % constant_features_idx, UserWarning)\n",
      "/home/antonio/miniconda3/lib/python3.10/site-packages/sklearn/feature_selection/_univariate_selection.py:113: RuntimeWarning: invalid value encountered in divide\n",
      "  f = msb / msw\n",
      "/home/antonio/miniconda3/lib/python3.10/site-packages/sklearn/feature_selection/_univariate_selection.py:112: UserWarning: Features [  298  1508  1733  2010  2265  2266  2553  2688  2803  2896  3415  4075\n",
      "  5803  6981  6984  6993  7416  7418  8791  9087  9490 10035 10475 11020\n",
      " 11022 11613 11943 12249 12480 12831 13836 13848 13959 14015 14244 14795\n",
      " 14941 15397 15515 15563 15824 16276 16278 16279 16281 16313 16323 16339\n",
      " 16372 16520 16701 16870 16905 16906 17024 17093 17231 17274 18368 18374\n",
      " 18405 18608] are constant.\n",
      "  warnings.warn(\"Features %s are constant.\" % constant_features_idx, UserWarning)\n",
      "/home/antonio/miniconda3/lib/python3.10/site-packages/sklearn/feature_selection/_univariate_selection.py:113: RuntimeWarning: invalid value encountered in divide\n",
      "  f = msb / msw\n",
      "/home/antonio/miniconda3/lib/python3.10/site-packages/sklearn/feature_selection/_univariate_selection.py:112: UserWarning: Features [  298  1508  1733  1846  2010  2222  2265  2266  2553  2803  2896  3415\n",
      "  3492  4075  5803  6984  7416  8513  8791  9087  9490 10475 11020 11613\n",
      " 11943 12249 12433 12480 12831 13235 13836 13848 13860 13959 14000 14015\n",
      " 14735 14795 14941 15397 15515 15563 15824 16237 16260 16267 16276 16313\n",
      " 16323 16339 16372 16630 16701 16819 16870 16905 16906 16968 17024 17047\n",
      " 17091 17093 17231 17274 18368 18374 18405 18608 18868] are constant.\n",
      "  warnings.warn(\"Features %s are constant.\" % constant_features_idx, UserWarning)\n",
      "/home/antonio/miniconda3/lib/python3.10/site-packages/sklearn/feature_selection/_univariate_selection.py:113: RuntimeWarning: invalid value encountered in divide\n",
      "  f = msb / msw\n"
     ]
    },
    {
     "name": "stderr",
     "output_type": "stream",
     "text": [
      "/home/antonio/miniconda3/lib/python3.10/site-packages/sklearn/feature_selection/_univariate_selection.py:112: UserWarning: Features [  298   912  1508  1733  2010  2265  2266  2553  2803  2896  3415  4075\n",
      "  5803  6053  6984  7416  8791  9087  9490 10475 11020 11613 11943 12249\n",
      " 12480 12518 12831 12888 13047 13300 13836 13848 13959 14015 14789 14795\n",
      " 14941 15397 15515 15563 15824 15881 16276 16313 16323 16339 16372 16701\n",
      " 16870 16905 16906 17024 17093 17231 17274 17312 18245 18288 18368 18374\n",
      " 18405 18546 18608] are constant.\n",
      "  warnings.warn(\"Features %s are constant.\" % constant_features_idx, UserWarning)\n",
      "/home/antonio/miniconda3/lib/python3.10/site-packages/sklearn/feature_selection/_univariate_selection.py:113: RuntimeWarning: invalid value encountered in divide\n",
      "  f = msb / msw\n",
      "/home/antonio/miniconda3/lib/python3.10/site-packages/sklearn/feature_selection/_univariate_selection.py:112: UserWarning: Features [  298  1508  1733  2010  2265  2266  2553  2803  2896  3248  3415  4075\n",
      "  5533  5803  6984  7416  8508  8510  8791  9087  9490 10475 11020 11562\n",
      " 11613 11943 12249 12480 12831 13836 13848 13959 14015 14245 14795 14941\n",
      " 15183 15397 15515 15516 15563 15824 16262 16268 16276 16287 16313 16323\n",
      " 16339 16372 16679 16701 16704 16870 16905 16906 16956 17024 17093 17231\n",
      " 17264 17274 17566 18241 18255 18368 18374 18405 18530 18608] are constant.\n",
      "  warnings.warn(\"Features %s are constant.\" % constant_features_idx, UserWarning)\n",
      "/home/antonio/miniconda3/lib/python3.10/site-packages/sklearn/feature_selection/_univariate_selection.py:113: RuntimeWarning: invalid value encountered in divide\n",
      "  f = msb / msw\n"
     ]
    },
    {
     "name": "stderr",
     "output_type": "stream",
     "text": [
      "/home/antonio/miniconda3/lib/python3.10/site-packages/sklearn/feature_selection/_univariate_selection.py:112: UserWarning: Features [  298  1508  1733  2010  2265  2266  2553  2803  2896  3415  4075  5803\n",
      "  6984  7416  8791  9087  9490 10475 11020 11613 11943 12249 12480 12831\n",
      " 13836 13848 13959 14015 14795 14941 15397 15515 15563 15824 16276 16313\n",
      " 16323 16339 16372 16701 16870 16905 16906 17024 17093 17231 17274 18368\n",
      " 18374 18405 18608] are constant.\n",
      "  warnings.warn(\"Features %s are constant.\" % constant_features_idx, UserWarning)\n",
      "/home/antonio/miniconda3/lib/python3.10/site-packages/sklearn/feature_selection/_univariate_selection.py:113: RuntimeWarning: invalid value encountered in divide\n",
      "  f = msb / msw\n"
     ]
    },
    {
     "name": "stdout",
     "output_type": "stream",
     "text": [
      "Mejores Hiperparámetros: {'selector__k': 500, 'clasifier__kernel': 'rbf', 'clasifier__gamma': 0.01, 'clasifier__C': 100}\n",
      "Mejor Puntuación: 0.8564\n",
      "20231027T210721 : amilcar22 : INFO : Fin entrenamiento\n"
     ]
    }
   ],
   "source": [
    "myfunc.verbose(\"Iniciando entrenamiento\")\n",
    "\n",
    "kf = KFold(n_splits=5, shuffle=True, random_state=SEMILLA)\n",
    "\n",
    "# Crear el pipeline para el flujo de tareas\n",
    "tasks_pipeline = Pipeline([\n",
    "    ('selector', algor_selector),\n",
    "    ('clasifier', algor_clasifier)\n",
    "])\n",
    "\n",
    "# MAX_ITERS puede limitar el número de iteraciones si son excesivas para las combinaciones de parámetros buscando un óptimo local, \n",
    "# sino funcionaría como GridSearchCV al revisar todas las cominaciones de los parámetros\n",
    "num_iteraciones = 1\n",
    "num_iteraciones = num_iteraciones * np.prod([len(elemento1) for _, elemento1 in param_distributions.items()])\n",
    "max_iteraciones = num_iteraciones if num_iteraciones <= MAX_ITERS else MAX_ITERS\n",
    "print(\"num_iter:\",num_iteraciones,\", max_iter:\",max_iteraciones)\n",
    "\n",
    "random_search = RandomizedSearchCV(\n",
    "    tasks_pipeline, \n",
    "    param_distributions, \n",
    "    n_iter=max_iteraciones,\n",
    "    scoring=SCORING,\n",
    "    cv=kf,\n",
    "    verbose=3, \n",
    "    random_state=SEMILLA, \n",
    "    n_jobs=-1\n",
    "    )\n",
    "\n",
    "# Entrenar el modelo\n",
    "random_search.fit(X_train, y_train)\n",
    "\n",
    "# Ver los mejores hiperparámetros encontrados\n",
    "print(f'Mejores Hiperparámetros: {random_search.best_params_}')\n",
    "print(f'Mejor Puntuación: {random_search.best_score_:.4f}')\n",
    "\n",
    "# Nos quedamos con el mejor modelo para ver las métricas\n",
    "mejor_modelo = random_search.best_estimator_\n",
    "\n",
    "myfunc.verbose(\"Fin entrenamiento\")"
   ]
  },
  {
   "cell_type": "markdown",
   "id": "f470e763",
   "metadata": {
    "papermill": {
     "duration": 0.00311,
     "end_time": "2023-10-27T19:07:21.250649",
     "exception": false,
     "start_time": "2023-10-27T19:07:21.247539",
     "status": "completed"
    },
    "tags": []
   },
   "source": [
    "#### Guardar modelo"
   ]
  },
  {
   "cell_type": "code",
   "execution_count": 8,
   "id": "d549bfad",
   "metadata": {
    "execution": {
     "iopub.execute_input": "2023-10-27T19:07:21.257739Z",
     "iopub.status.busy": "2023-10-27T19:07:21.257540Z",
     "iopub.status.idle": "2023-10-27T19:07:21.265662Z",
     "shell.execute_reply": "2023-10-27T19:07:21.265160Z"
    },
    "papermill": {
     "duration": 0.013233,
     "end_time": "2023-10-27T19:07:21.266927",
     "exception": false,
     "start_time": "2023-10-27T19:07:21.253694",
     "status": "completed"
    },
    "tags": []
   },
   "outputs": [
    {
     "name": "stdout",
     "output_type": "stream",
     "text": [
      "20231027T210721 : amilcar22 : INFO : Inicio guardar fichero ../tfm_git/ejecuciones/modelos/modelo_0042_mul_m_ANOVA_SVM.pkl\n",
      "20231027T210721 : amilcar22 : INFO : Fin guardar fichero ../tfm_git/ejecuciones/modelos/modelo_0042_mul_m_ANOVA_SVM.pkl\n"
     ]
    }
   ],
   "source": [
    "fichero_modelo = str.replace(\"modelo_\"+str(SEMILLA).zfill(4)+\"_\"+M_TIPO+\"_\"+M_SELECT+\"_\"+M_CLASIF+\".pkl\", \" \", \"_\")\n",
    "\n",
    "myfunc.save_modelo(mejor_modelo, myfunc.MODEL_DIR, fichero_modelo)"
   ]
  },
  {
   "cell_type": "markdown",
   "id": "fb9dbf53",
   "metadata": {
    "papermill": {
     "duration": 0.003659,
     "end_time": "2023-10-27T19:07:21.274092",
     "exception": false,
     "start_time": "2023-10-27T19:07:21.270433",
     "status": "completed"
    },
    "tags": []
   },
   "source": [
    "#### Ver resultados del las iteraciones hechas por RandomSearchCV"
   ]
  },
  {
   "cell_type": "code",
   "execution_count": 9,
   "id": "983c6506",
   "metadata": {
    "execution": {
     "iopub.execute_input": "2023-10-27T19:07:21.281131Z",
     "iopub.status.busy": "2023-10-27T19:07:21.280934Z",
     "iopub.status.idle": "2023-10-27T19:07:21.286687Z",
     "shell.execute_reply": "2023-10-27T19:07:21.286201Z"
    },
    "papermill": {
     "duration": 0.010697,
     "end_time": "2023-10-27T19:07:21.287893",
     "exception": false,
     "start_time": "2023-10-27T19:07:21.277196",
     "status": "completed"
    },
    "tags": []
   },
   "outputs": [
    {
     "name": "stdout",
     "output_type": "stream",
     "text": [
      "20231027T210721 : amilcar22 : INFO : Inicio ver resultados\n",
      "Mejores Hiperparámetros: {'selector__k': 500, 'clasifier__kernel': 'rbf', 'clasifier__gamma': 0.01, 'clasifier__C': 100}\n",
      "Mejores puntuaciones: 0.8564 | Params: {'selector__k': 500, 'clasifier__kernel': 'rbf', 'clasifier__gamma': 0.01, 'clasifier__C': 100}\n",
      "Media de las puntuaciones: 0.8564 | Params: {'selector__k': 500, 'clasifier__kernel': 'rbf', 'clasifier__gamma': 0.01, 'clasifier__C': 100}\n",
      "20231027T210721 : amilcar22 : INFO : Fin resultados\n"
     ]
    }
   ],
   "source": [
    "myfunc.ver_resultados_search(random_search)"
   ]
  },
  {
   "cell_type": "markdown",
   "id": "eae17e88",
   "metadata": {
    "papermill": {
     "duration": 0.003724,
     "end_time": "2023-10-27T19:07:21.295315",
     "exception": false,
     "start_time": "2023-10-27T19:07:21.291591",
     "status": "completed"
    },
    "tags": []
   },
   "source": [
    "#### Ver métricas del mejor modelo"
   ]
  },
  {
   "cell_type": "code",
   "execution_count": 10,
   "id": "14775c1a",
   "metadata": {
    "execution": {
     "iopub.execute_input": "2023-10-27T19:07:21.303429Z",
     "iopub.status.busy": "2023-10-27T19:07:21.303244Z",
     "iopub.status.idle": "2023-10-27T19:07:21.918301Z",
     "shell.execute_reply": "2023-10-27T19:07:21.917779Z"
    },
    "papermill": {
     "duration": 0.620551,
     "end_time": "2023-10-27T19:07:21.919612",
     "exception": false,
     "start_time": "2023-10-27T19:07:21.299061",
     "status": "completed"
    },
    "tags": []
   },
   "outputs": [
    {
     "name": "stdout",
     "output_type": "stream",
     "text": [
      "20231027T210721 : amilcar22 : INFO : Inicio ver métricas multiclase\n"
     ]
    },
    {
     "name": "stdout",
     "output_type": "stream",
     "text": [
      "              precision    recall  f1-score   support\n",
      "\n",
      "           0       0.36      0.25      0.30        16\n",
      "           1       0.67      0.53      0.59        15\n",
      "           2       0.24      0.36      0.29        11\n",
      "           3       0.25      0.60      0.35         5\n",
      "           4       0.50      0.54      0.52        13\n",
      "           5       0.67      0.67      0.67         9\n",
      "           6       0.58      0.39      0.47        18\n",
      "\n",
      "    accuracy                           0.45        87\n",
      "   macro avg       0.47      0.48      0.45        87\n",
      "weighted avg       0.49      0.45      0.46        87\n",
      "\n"
     ]
    },
    {
     "name": "stdout",
     "output_type": "stream",
     "text": [
      "\n",
      "\n",
      "           Exactitud: 0.448276\n",
      "   Precisión (media): 0.466514\n",
      "      Recall (media): 0.477284\n",
      "    F1-score (media): 0.454199\n",
      "\n",
      "\n",
      "AUC para el tipo de cáncer 0-Control.... 0.7227\n",
      "AUC para el tipo de cáncer 1-Bladder.... 0.8833\n",
      "AUC para el tipo de cáncer 2-Breast..... 0.6053\n",
      "AUC para el tipo de cáncer 3-Colorectal. 0.9049\n",
      "AUC para el tipo de cáncer 4-Kidney..... 0.8347\n",
      "AUC para el tipo de cáncer 5-Lung....... 0.9473\n",
      "AUC para el tipo de cáncer 6-Prostate... 0.8398\n",
      "\n",
      "Media de AUC: 0.8197\n"
     ]
    },
    {
     "data": {
      "image/png": "[encoded data removed]",
      "text/plain": [
       "<Figure size 1000x600 with 1 Axes>"
      ]
     },
     "metadata": {},
     "output_type": "display_data"
    },
    {
     "name": "stdout",
     "output_type": "stream",
     "text": [
      "\n",
      "\n"
     ]
    },
    {
     "data": {
      "image/png": "[encoded data removed]",
      "text/plain": [
       "<Figure size 800x400 with 2 Axes>"
      ]
     },
     "metadata": {},
     "output_type": "display_data"
    },
    {
     "name": "stdout",
     "output_type": "stream",
     "text": [
      "\n",
      "\n",
      "Puntuación Jaccard para el cáncer tipo 0-Control.... 0.1739\n",
      "Puntuación Jaccard para el cáncer tipo 1-Bladder.... 0.4211\n",
      "Puntuación Jaccard para el cáncer tipo 2-Breast..... 0.1667\n",
      "Puntuación Jaccard para el cáncer tipo 3-Colorectal. 0.2143\n",
      "Puntuación Jaccard para el cáncer tipo 4-Kidney..... 0.3500\n",
      "Puntuación Jaccard para el cáncer tipo 5-Lung....... 0.5000\n",
      "Puntuación Jaccard para el cáncer tipo 6-Prostate... 0.3043\n",
      "\n",
      "Media de la puntuación de Jaccard: 0.3043\n"
     ]
    }
   ],
   "source": [
    "if M_TIPO.startswith(\"bin\"):\n",
    "    myfunc.ver_metricas(mejor_modelo, X_test, y_test)\n",
    "else:\n",
    "    myfunc.ver_metricas_multi(mejor_modelo, X_test, y_test)\n"
   ]
  },
  {
   "cell_type": "markdown",
   "id": "4f9bdc11",
   "metadata": {
    "papermill": {
     "duration": 0.004301,
     "end_time": "2023-10-27T19:07:21.929050",
     "exception": false,
     "start_time": "2023-10-27T19:07:21.924749",
     "status": "completed"
    },
    "tags": []
   },
   "source": [
    "#### Finalización del notebook"
   ]
  },
  {
   "cell_type": "code",
   "execution_count": 11,
   "id": "0ec3bd39",
   "metadata": {
    "execution": {
     "iopub.execute_input": "2023-10-27T19:07:21.938499Z",
     "iopub.status.busy": "2023-10-27T19:07:21.938303Z",
     "iopub.status.idle": "2023-10-27T19:07:21.941583Z",
     "shell.execute_reply": "2023-10-27T19:07:21.941135Z"
    },
    "papermill": {
     "duration": 0.009447,
     "end_time": "2023-10-27T19:07:21.942822",
     "exception": false,
     "start_time": "2023-10-27T19:07:21.933375",
     "status": "completed"
    },
    "tags": []
   },
   "outputs": [
    {
     "name": "stdout",
     "output_type": "stream",
     "text": [
      "20231027T210721 : amilcar22 : INFO : Notebook ha tardado 3 seconds\n"
     ]
    }
   ],
   "source": [
    "end_time = datetime.datetime.now()\n",
    "total_time = end_time - start_time\n",
    "myfunc.verbose(f\"Notebook ha tardado {total_time.seconds} seconds\")"
   ]
  },
  {
   "cell_type": "markdown",
   "id": "68ca05d1",
   "metadata": {
    "papermill": {
     "duration": 0.004501,
     "end_time": "2023-10-27T19:07:21.951912",
     "exception": false,
     "start_time": "2023-10-27T19:07:21.947411",
     "status": "completed"
    },
    "tags": []
   },
   "source": [
    "#### Guardar métricas"
   ]
  },
  {
   "cell_type": "code",
   "execution_count": 12,
   "id": "1179242f",
   "metadata": {
    "execution": {
     "iopub.execute_input": "2023-10-27T19:07:21.961348Z",
     "iopub.status.busy": "2023-10-27T19:07:21.961176Z",
     "iopub.status.idle": "2023-10-27T19:07:22.179256Z",
     "shell.execute_reply": "2023-10-27T19:07:22.178757Z"
    },
    "papermill": {
     "duration": 0.224374,
     "end_time": "2023-10-27T19:07:22.180640",
     "exception": false,
     "start_time": "2023-10-27T19:07:21.956266",
     "status": "completed"
    },
    "tags": []
   },
   "outputs": [
    {
     "name": "stdout",
     "output_type": "stream",
     "text": [
      "20231027T210721 : amilcar22 : INFO : Inicio guardar métricas multiclase\n",
      "20231027T210721 : amilcar22 : INFO : Inicio leer fichero ../tfm_git/ejecuciones/metricas/metricas_0042.csv\n",
      "20231027T210721 : amilcar22 : INFO : Fin leer fichero ../tfm_git/ejecuciones/metricas/metricas_0042.csv\n"
     ]
    },
    {
     "name": "stdout",
     "output_type": "stream",
     "text": [
      "20231027T210722 : amilcar22 : INFO : Inicio guardar fichero ../tfm_git/ejecuciones/metricas/metricas_0042.csv\n",
      "20231027T210722 : amilcar22 : INFO : Fichero borrado ../tfm_git/ejecuciones/metricas/metricas_0042.csv\n"
     ]
    },
    {
     "name": "stdout",
     "output_type": "stream",
     "text": [
      "20231027T210722 : amilcar22 : INFO : Fin guardar fichero ../tfm_git/ejecuciones/metricas/metricas_0042.csv\n",
      "20231027T210722 : amilcar22 : INFO : Fin guardar métricas multiclase\n",
      "20231027T210722 : amilcar22 : INFO : Inicio leer fichero ../tfm_git/ejecuciones/metricas/metricas_0042.csv\n"
     ]
    },
    {
     "name": "stdout",
     "output_type": "stream",
     "text": [
      "20231027T210722 : amilcar22 : INFO : Fin leer fichero ../tfm_git/ejecuciones/metricas/metricas_0042.csv\n"
     ]
    },
    {
     "data": {
      "text/html": [
       "<div>\n",
       "<style scoped>\n",
       "    .dataframe tbody tr th:only-of-type {\n",
       "        vertical-align: middle;\n",
       "    }\n",
       "\n",
       "    .dataframe tbody tr th {\n",
       "        vertical-align: top;\n",
       "    }\n",
       "\n",
       "    .dataframe thead th {\n",
       "        text-align: right;\n",
       "    }\n",
       "</style>\n",
       "<table border=\"1\" class=\"dataframe\">\n",
       "  <thead>\n",
       "    <tr style=\"text-align: right;\">\n",
       "      <th></th>\n",
       "      <th>tipo</th>\n",
       "      <th>select</th>\n",
       "      <th>clasific</th>\n",
       "      <th>accuracy</th>\n",
       "      <th>precision</th>\n",
       "      <th>recall</th>\n",
       "      <th>f1_score</th>\n",
       "      <th>roc_auc</th>\n",
       "      <th>roc_auc_ovr</th>\n",
       "      <th>hostname</th>\n",
       "      <th>total_time_sec</th>\n",
       "      <th>datetime</th>\n",
       "      <th>fichero_modelo</th>\n",
       "      <th>params</th>\n",
       "      <th>shape</th>\n",
       "      <th>features</th>\n",
       "      <th>semilla</th>\n",
       "      <th>indices_auc</th>\n",
       "      <th>indices_jaccard</th>\n",
       "    </tr>\n",
       "  </thead>\n",
       "  <tbody>\n",
       "    <tr>\n",
       "      <th>0</th>\n",
       "      <td>mul_m</td>\n",
       "      <td>ANOVA</td>\n",
       "      <td>SVM</td>\n",
       "      <td>0.448276</td>\n",
       "      <td>0.466514</td>\n",
       "      <td>0.477284</td>\n",
       "      <td>0.454199</td>\n",
       "      <td>NaN</td>\n",
       "      <td>0.819710</td>\n",
       "      <td>amilcar22</td>\n",
       "      <td>3</td>\n",
       "      <td>2023-10-27 21:07:22.134502</td>\n",
       "      <td>modelo_0042_mul_m_ANOVA_SVM.pkl</td>\n",
       "      <td>{'selector__k': 500, 'clasifier__kernel': 'rbf...</td>\n",
       "      <td>X_test:(87, 18875)</td>\n",
       "      <td>['ENSG00000000938.13', 'ENSG00000004660.15', '...</td>\n",
       "      <td>42.0</td>\n",
       "      <td>[0.7227112676056338, 0.8833333333333333, 0.605...</td>\n",
       "      <td>[0.17391304347826086, 0.42105263157894735, 0.1...</td>\n",
       "    </tr>\n",
       "    <tr>\n",
       "      <th>0</th>\n",
       "      <td>mul_m</td>\n",
       "      <td>ANOVA</td>\n",
       "      <td>RF</td>\n",
       "      <td>0.459770</td>\n",
       "      <td>0.426110</td>\n",
       "      <td>0.478370</td>\n",
       "      <td>0.426223</td>\n",
       "      <td>NaN</td>\n",
       "      <td>0.788915</td>\n",
       "      <td>amilcar22</td>\n",
       "      <td>20</td>\n",
       "      <td>2023-10-27 21:07:12.732441</td>\n",
       "      <td>modelo_0042_mul_m_ANOVA_RF.pkl</td>\n",
       "      <td>{'selector__k': 1000, 'clasifier__n_estimators...</td>\n",
       "      <td>X_test:(87, 18875)</td>\n",
       "      <td>['ENSG00000000938.13', 'ENSG00000002919.15', '...</td>\n",
       "      <td>42.0</td>\n",
       "      <td>[0.6029929577464789, 0.8638888888888889, 0.668...</td>\n",
       "      <td>[0.05263157894736842, 0.45454545454545453, 0.1...</td>\n",
       "    </tr>\n",
       "    <tr>\n",
       "      <th>0</th>\n",
       "      <td>mul_m</td>\n",
       "      <td>ANOVA</td>\n",
       "      <td>LR_L2</td>\n",
       "      <td>0.574713</td>\n",
       "      <td>0.575394</td>\n",
       "      <td>0.599781</td>\n",
       "      <td>0.570721</td>\n",
       "      <td>NaN</td>\n",
       "      <td>0.871233</td>\n",
       "      <td>amilcar22</td>\n",
       "      <td>52</td>\n",
       "      <td>2023-10-27 21:06:46.275663</td>\n",
       "      <td>modelo_0042_mul_m_ANOVA_LR_L2.pkl</td>\n",
       "      <td>{'selector__k': 1000, 'clasifier__solver': 'lb...</td>\n",
       "      <td>X_test:(87, 18875)</td>\n",
       "      <td>['ENSG00000000938.13', 'ENSG00000002919.15', '...</td>\n",
       "      <td>42.0</td>\n",
       "      <td>[0.7790492957746479, 0.8796296296296297, 0.785...</td>\n",
       "      <td>[0.3, 0.5, 0.21052631578947367, 0.333333333333...</td>\n",
       "    </tr>\n",
       "  </tbody>\n",
       "</table>\n",
       "</div>"
      ],
      "text/plain": [
       "    tipo select clasific  accuracy  precision    recall  f1_score  roc_auc  \\\n",
       "0  mul_m  ANOVA      SVM  0.448276   0.466514  0.477284  0.454199      NaN   \n",
       "0  mul_m  ANOVA       RF  0.459770   0.426110  0.478370  0.426223      NaN   \n",
       "0  mul_m  ANOVA    LR_L2  0.574713   0.575394  0.599781  0.570721      NaN   \n",
       "\n",
       "   roc_auc_ovr   hostname  total_time_sec                    datetime  \\\n",
       "0     0.819710  amilcar22               3  2023-10-27 21:07:22.134502   \n",
       "0     0.788915  amilcar22              20  2023-10-27 21:07:12.732441   \n",
       "0     0.871233  amilcar22              52  2023-10-27 21:06:46.275663   \n",
       "\n",
       "                      fichero_modelo  \\\n",
       "0    modelo_0042_mul_m_ANOVA_SVM.pkl   \n",
       "0     modelo_0042_mul_m_ANOVA_RF.pkl   \n",
       "0  modelo_0042_mul_m_ANOVA_LR_L2.pkl   \n",
       "\n",
       "                                              params               shape  \\\n",
       "0  {'selector__k': 500, 'clasifier__kernel': 'rbf...  X_test:(87, 18875)   \n",
       "0  {'selector__k': 1000, 'clasifier__n_estimators...  X_test:(87, 18875)   \n",
       "0  {'selector__k': 1000, 'clasifier__solver': 'lb...  X_test:(87, 18875)   \n",
       "\n",
       "                                            features  semilla  \\\n",
       "0  ['ENSG00000000938.13', 'ENSG00000004660.15', '...     42.0   \n",
       "0  ['ENSG00000000938.13', 'ENSG00000002919.15', '...     42.0   \n",
       "0  ['ENSG00000000938.13', 'ENSG00000002919.15', '...     42.0   \n",
       "\n",
       "                                         indices_auc  \\\n",
       "0  [0.7227112676056338, 0.8833333333333333, 0.605...   \n",
       "0  [0.6029929577464789, 0.8638888888888889, 0.668...   \n",
       "0  [0.7790492957746479, 0.8796296296296297, 0.785...   \n",
       "\n",
       "                                     indices_jaccard  \n",
       "0  [0.17391304347826086, 0.42105263157894735, 0.1...  \n",
       "0  [0.05263157894736842, 0.45454545454545453, 0.1...  \n",
       "0  [0.3, 0.5, 0.21052631578947367, 0.333333333333...  "
      ]
     },
     "metadata": {},
     "output_type": "display_data"
    }
   ],
   "source": [
    "if M_TIPO.startswith(\"bin\"):\n",
    "    myfunc.save_metricas_to_csv(random_search, X_test, y_test, M_TIPO, M_SELECT, M_CLASIF, total_time, SEMILLA, myfunc.MET_DIR, M_FICHERO, fichero_modelo)\n",
    "else:\n",
    "    myfunc.save_metricas_multi_to_csv(random_search, X_test, y_test, M_TIPO, M_SELECT, M_CLASIF, total_time, SEMILLA, myfunc.MET_DIR, M_FICHERO, fichero_modelo)\n",
    "\n",
    "df1=myfunc.read_metricas_to_df(myfunc.MET_DIR,M_FICHERO)\n",
    "\n",
    "display(df1.sort_values(\"datetime\", ascending=False)[:3])\n"
   ]
  },
  {
   "cell_type": "markdown",
   "id": "a8d6dbf5",
   "metadata": {
    "papermill": {
     "duration": 0.004627,
     "end_time": "2023-10-27T19:07:22.190554",
     "exception": false,
     "start_time": "2023-10-27T19:07:22.185927",
     "status": "completed"
    },
    "tags": []
   },
   "source": [
    "#### Guardar resultados"
   ]
  },
  {
   "cell_type": "code",
   "execution_count": 13,
   "id": "af0c23b3",
   "metadata": {
    "execution": {
     "iopub.execute_input": "2023-10-27T19:07:22.200574Z",
     "iopub.status.busy": "2023-10-27T19:07:22.200371Z",
     "iopub.status.idle": "2023-10-27T19:07:22.208883Z",
     "shell.execute_reply": "2023-10-27T19:07:22.208294Z"
    },
    "papermill": {
     "duration": 0.015013,
     "end_time": "2023-10-27T19:07:22.210163",
     "exception": false,
     "start_time": "2023-10-27T19:07:22.195150",
     "status": "completed"
    },
    "tags": []
   },
   "outputs": [
    {
     "name": "stdout",
     "output_type": "stream",
     "text": [
      "20231027T210722 : amilcar22 : INFO : Inicio guardar resultados\n",
      "20231027T210722 : amilcar22 : INFO : Inicio guardar fichero ../tfm_git/ejecuciones/metricas/resultados_0042_mul_m-ANOVA-SVM.csv\n",
      "20231027T210722 : amilcar22 : INFO : Fin guardar fichero ../tfm_git/ejecuciones/metricas/resultados_0042_mul_m-ANOVA-SVM.csv\n",
      "20231027T210722 : amilcar22 : INFO : Fin guardar resultados\n"
     ]
    }
   ],
   "source": [
    "fichero_resultados=R_FICHERO+\"_\"+M_TIPO+\"-\"+M_SELECT+\"-\"+M_CLASIF+\".csv\"\n",
    "myfunc.save_resultados_to_csv(M_TIPO, M_SELECT, M_CLASIF,  random_search, myfunc.MET_DIR, fichero_resultados)\n"
   ]
  }
 ],
 "metadata": {
  "kernelspec": {
   "display_name": "Python 3 (ipykernel)",
   "language": "python",
   "name": "python3"
  },
  "language_info": {
   "codemirror_mode": {
    "name": "ipython",
    "version": 3
   },
   "file_extension": ".py",
   "mimetype": "text/x-python",
   "name": "python",
   "nbconvert_exporter": "python",
   "pygments_lexer": "ipython3",
   "version": "3.10.12"
  },
  "papermill": {
   "default_parameters": {},
   "duration": 7.903461,
   "end_time": "2023-10-27T19:07:24.831796",
   "environment_variables": {},
   "exception": null,
   "input_path": "03_entrenamiento.ipynb",
   "output_path": "ejecuciones/training/03_entrenamiento.20231027T210716.param_0000_0042_mul_m_ANOVA_SVM.output.ipynb",
   "parameters": {
    "MAX_ITERS": 500,
    "M_CLASIF": "SVM",
    "M_FICHERO": "metricas_0042",
    "M_SELECT": "ANOVA",
    "M_TIPO": "mul_m",
    "PRE_DATA_FILE": "rows_transpose_norm_by_gene_id_with_target_num_",
    "P_FICHERO": "param_0000_0042_mul_m_ANOVA_SVM.yaml",
    "R_FICHERO": "resultados_0042",
    "SCORING": "roc_auc_ovr",
    "SEMILLA": 42,
    "eval_clasifier": "SVC(probability=True, random_state=SEMILLA)",
    "eval_selector": "SelectKBest(score_func=f_classif)",
    "param_distributions": {
     "clasifier__C": [
      100
     ],
     "clasifier__gamma": [
      0.01
     ],
     "clasifier__kernel": [
      "rbf"
     ],
     "selector__k": [
      500
     ]
    }
   },
   "start_time": "2023-10-27T19:07:16.928335",
   "version": "2.4.0"
  }
 },
 "nbformat": 4,
 "nbformat_minor": 5
}