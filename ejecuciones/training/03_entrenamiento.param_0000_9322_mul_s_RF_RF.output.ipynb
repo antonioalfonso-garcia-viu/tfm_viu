{
 "cells": [
  {
   "cell_type": "markdown",
   "id": "9afb3bf7",
   "metadata": {
    "papermill": {
     "duration": 0.005312,
     "end_time": "2023-10-30T21:16:12.755343",
     "exception": false,
     "start_time": "2023-10-30T21:16:12.750031",
     "status": "completed"
    },
    "tags": []
   },
   "source": [
    "##### Inicio"
   ]
  },
  {
   "cell_type": "markdown",
   "id": "c07152ec",
   "metadata": {
    "papermill": {
     "duration": 0.003385,
     "end_time": "2023-10-30T21:16:12.762530",
     "exception": false,
     "start_time": "2023-10-30T21:16:12.759145",
     "status": "completed"
    },
    "tags": []
   },
   "source": [
    "#### Carga de datos"
   ]
  },
  {
   "cell_type": "code",
   "execution_count": 1,
   "id": "1c827406",
   "metadata": {
    "execution": {
     "iopub.execute_input": "2023-10-30T21:16:12.771720Z",
     "iopub.status.busy": "2023-10-30T21:16:12.771066Z",
     "iopub.status.idle": "2023-10-30T21:16:13.903936Z",
     "shell.execute_reply": "2023-10-30T21:16:13.903275Z"
    },
    "papermill": {
     "duration": 1.139354,
     "end_time": "2023-10-30T21:16:13.905298",
     "exception": false,
     "start_time": "2023-10-30T21:16:12.765944",
     "status": "completed"
    },
    "tags": []
   },
   "outputs": [
    {
     "name": "stdout",
     "output_type": "stream",
     "text": [
      "CPU_COUNT: 16; NODE: enderlab; sys.version: 3.10.11 (main, May 16 2023, 00:28:57) [GCC 11.2.0]\n",
      "LOKY_MAX_CPU_COUNT is not set.\n",
      "OMP_NUM_THREADS is not set.\n"
     ]
    }
   ],
   "source": [
    "import os\n",
    "import numpy as np\n",
    "import pandas as pd\n",
    "import datetime\n",
    "import sklearn\n",
    "import logging\n",
    "import warnings\n",
    "\n",
    "from sklearn.pipeline import Pipeline\n",
    "from sklearn.model_selection import RandomizedSearchCV, KFold, cross_val_score, train_test_split\n",
    "from sklearn.metrics import accuracy_score, confusion_matrix, classification_report, roc_auc_score\n",
    "\n",
    "#  cargar algoritmos para aprendizaje supervisado\n",
    "from sklearn.feature_selection import SelectKBest, f_classif, SelectFromModel, mutual_info_classif\n",
    "from sklearn.svm import SVC\n",
    "from sklearn.ensemble import RandomForestClassifier\n",
    "from sklearn.linear_model import LogisticRegression,LogisticRegressionCV\n",
    "\n",
    "# importar fichero con utilidades propias\n",
    "from commons import myfunctions as myfunc\n"
   ]
  },
  {
   "cell_type": "markdown",
   "id": "71bfd954",
   "metadata": {
    "papermill": {
     "duration": 0.003763,
     "end_time": "2023-10-30T21:16:13.912940",
     "exception": false,
     "start_time": "2023-10-30T21:16:13.909177",
     "status": "completed"
    },
    "tags": []
   },
   "source": [
    "#### Parámetros a utilizar en el entrenamiento.\n",
    "\n",
    "Se indican los 3 algoritmos de *selección de características* (eval_selector_xxx) y los 3 algoritmos para la _clasificación_ (eval_clasifier_xxx)\n",
    "\n",
    "En *param_distributions* se indicar los parámetros que utilizan los algoritmos en la función RandomSearchCV.\n",
    "\n",
    "Esta celda tiene la etiqueta **parameters** que servirá para poder lanzar los entrenamientos con la utilidad **papermill** pasándole un fichero con los parámetros. Los nuevos parámetros se situarán tras esta celda para tener prevalencia."
   ]
  },
  {
   "cell_type": "code",
   "execution_count": 2,
   "id": "50740f3a",
   "metadata": {
    "execution": {
     "iopub.execute_input": "2023-10-30T21:16:13.921457Z",
     "iopub.status.busy": "2023-10-30T21:16:13.921046Z",
     "iopub.status.idle": "2023-10-30T21:16:13.929591Z",
     "shell.execute_reply": "2023-10-30T21:16:13.929057Z"
    },
    "papermill": {
     "duration": 0.014466,
     "end_time": "2023-10-30T21:16:13.930821",
     "exception": false,
     "start_time": "2023-10-30T21:16:13.916355",
     "status": "completed"
    },
    "tags": [
     "parameters"
    ]
   },
   "outputs": [
    {
     "name": "stdout",
     "output_type": "stream",
     "text": [
      "20231030T221613 : enderlab : INFO : Utilizando parámetros de mul_m\n"
     ]
    }
   ],
   "source": [
    "#  Parametros para el entrenamiento\n",
    "\n",
    "SEMILLA=        42\n",
    "M_TIPO=         \"mul_m\"\n",
    "M_SELECT=       \"MI\"\n",
    "M_CLASIF=       \"SVM\"\n",
    "R_FICHERO=      \"resultados\"\n",
    "M_FICHERO=      \"metricas\"\n",
    "PRE_DATA_FILE=  \"rows_transpose_norm_by_gene_id_with_target_num_\"\n",
    "SCORING=        \"roc_auc_ovr\" \n",
    "MAX_ITERS=      100\n",
    "\n",
    "def mutual_info_classif_state(X, y):\n",
    "    return mutual_info_classif(X, y, random_state=SEMILLA)\n",
    "\n",
    "eval_selector_mi = \"SelectKBest(score_func=mutual_info_classif_state)\"\n",
    "eval_selector_rf=  \"SelectFromModel(estimator=RandomForestClassifier(random_state=SEMILLA), threshold=-np.inf)\"\n",
    "eval_selector_anova=  \"SelectKBest(score_func=f_classif)\"\n",
    "\n",
    "eval_clasifier_svm= \"SVC(probability=True, random_state=SEMILLA)\"\n",
    "eval_clasifier_rf= \"RandomForestClassifier(random_state=SEMILLA)\"\n",
    "eval_clasifier_lr= \"LogisticRegressionCV(random_state=SEMILLA)\"\n",
    "\n",
    "if M_TIPO.startswith(\"bin_m\"):\n",
    "    myfunc.verbose(f\"Utilizando parámetros de {M_TIPO}\")\n",
    "    eval_selector = eval_selector_mi\n",
    "    eval_clasifier = eval_clasifier_svm\n",
    "\n",
    "    SEMILLA = 6578\n",
    "    M_SELECT = \"MI\"\n",
    "    M_CLASIF = \"SVM\"\n",
    "    param_distributions = {'selector__k': [1000], \n",
    "         'clasifier__kernel': ['rbf'], 'clasifier__gamma': [0.01], 'clasifier__C': [100]}\n",
    "elif M_TIPO.startswith(\"bin_s\"):\n",
    "    myfunc.verbose(f\"Utilizando parámetros de {M_TIPO}\")\n",
    "    eval_selector = eval_selector_rf\n",
    "    eval_clasifier = eval_clasifier_lr\n",
    "\n",
    "    SEMILLA = 6191\n",
    "    M_SELECT = \"RF\"\n",
    "    M_CLASIF = \"LR_L2\"\n",
    "    param_distributions = {'selector__max_features': [1000], 'selector__estimator__n_estimators': [200], \n",
    "        'clasifier__solver': ['lbfgs'], 'clasifier__penalty': ['l2'], 'clasifier__max_iter': [10000]}\n",
    "\n",
    "elif M_TIPO.startswith(\"mul_m\"):\n",
    "    myfunc.verbose(f\"Utilizando parámetros de {M_TIPO}\")\n",
    " \n",
    "    eval_selector = eval_selector_rf\n",
    "    eval_clasifier = eval_clasifier_lr\n",
    "\n",
    "    SEMILLA = 6191\n",
    "    M_SELECT = \"RF\"\n",
    "    M_CLASIF = \"LR_L2\"\n",
    "    param_distributions = {'selector__max_features': [1000], 'selector__estimator__n_estimators': [400], \n",
    "        'clasifier__solver': ['lbfgs'], 'clasifier__penalty': ['l2'], 'clasifier__max_iter': [10000]}\n",
    "\n",
    "else:\n",
    "    # M_TIPO.startswith(\"mul_s\"):\n",
    "    myfunc.verbose(f\"Utilizando parámetros de {M_TIPO}\")\n",
    "    eval_selector = eval_selector_anova\n",
    "    eval_clasifier = eval_clasifier_lr\n",
    "\n",
    "    SEMILLA = 1860\n",
    "    M_SELECT = \"ANOVA\"\n",
    "    M_CLASIF = \"LR_L2\"\n",
    "    param_distributions = {'selector__k': [1000], \n",
    "        'clasifier__solver': ['saga'], 'clasifier__penalty': ['l2'], 'clasifier__max_iter': [10000]}\n",
    "\n"
   ]
  },
  {
   "cell_type": "code",
   "execution_count": 3,
   "id": "92f73c1f",
   "metadata": {
    "execution": {
     "iopub.execute_input": "2023-10-30T21:16:13.939217Z",
     "iopub.status.busy": "2023-10-30T21:16:13.938740Z",
     "iopub.status.idle": "2023-10-30T21:16:13.942965Z",
     "shell.execute_reply": "2023-10-30T21:16:13.942442Z"
    },
    "papermill": {
     "duration": 0.009633,
     "end_time": "2023-10-30T21:16:13.944146",
     "exception": false,
     "start_time": "2023-10-30T21:16:13.934513",
     "status": "completed"
    },
    "tags": [
     "injected-parameters"
    ]
   },
   "outputs": [],
   "source": [
    "# Parameters\n",
    "M_TIPO = \"mul_s\"\n",
    "M_SELECT = \"RF\"\n",
    "M_CLASIF = \"RF\"\n",
    "P_FICHERO = \"param_0000_9322_mul_s_RF_RF.yaml\"\n",
    "R_FICHERO = \"resultados_9322\"\n",
    "M_FICHERO = \"metricas_9322\"\n",
    "PRE_DATA_FILE = \"rows_transpose_norm_by_gene_id_with_target_num_\"\n",
    "SCORING = \"roc_auc_ovr\"\n",
    "SEMILLA = 9322\n",
    "MAX_ITERS = 500\n",
    "eval_selector = \"SelectFromModel(estimator=RandomForestClassifier(random_state=SEMILLA), threshold=-np.inf)\"\n",
    "eval_clasifier = \"RandomForestClassifier(random_state=SEMILLA)\"\n",
    "param_distributions = {\n",
    "    \"selector__max_features\": [1000],\n",
    "    \"selector__estimator__n_estimators\": [100],\n",
    "    \"clasifier__n_estimators\": [200],\n",
    "    \"clasifier__min_samples_split\": [10],\n",
    "    \"clasifier__min_samples_leaf\": [5],\n",
    "    \"clasifier__max_features\": [1000],\n",
    "    \"clasifier__max_depth\": [10],\n",
    "    \"clasifier__bootstrap\": [True],\n",
    "}\n"
   ]
  },
  {
   "cell_type": "code",
   "execution_count": 4,
   "id": "ea87164e",
   "metadata": {
    "execution": {
     "iopub.execute_input": "2023-10-30T21:16:13.952312Z",
     "iopub.status.busy": "2023-10-30T21:16:13.951867Z",
     "iopub.status.idle": "2023-10-30T21:16:13.955089Z",
     "shell.execute_reply": "2023-10-30T21:16:13.954569Z"
    },
    "papermill": {
     "duration": 0.009733,
     "end_time": "2023-10-30T21:16:13.957382",
     "exception": false,
     "start_time": "2023-10-30T21:16:13.947649",
     "status": "completed"
    },
    "tags": []
   },
   "outputs": [],
   "source": [
    "DATA_FILE = PRE_DATA_FILE + M_TIPO\n",
    "\n",
    "# si viene \"None\" en el parámetro max_depth, se le quitan las comillas para que no sea entendido por el algoritmo como un texto\n",
    "if \"clasifier__max_depth\" in param_distributions:\n",
    "    param_distributions['clasifier__max_depth'] = [None if x == 'None' else x for x in param_distributions['clasifier__max_depth']]"
   ]
  },
  {
   "cell_type": "markdown",
   "id": "b744f9a4",
   "metadata": {
    "papermill": {
     "duration": 0.003496,
     "end_time": "2023-10-30T21:16:13.964397",
     "exception": false,
     "start_time": "2023-10-30T21:16:13.960901",
     "status": "completed"
    },
    "tags": []
   },
   "source": [
    "Asignar los algoritmos que se utilizarán en la función RandomSearchCV"
   ]
  },
  {
   "cell_type": "code",
   "execution_count": 5,
   "id": "c4603cdd",
   "metadata": {
    "execution": {
     "iopub.execute_input": "2023-10-30T21:16:13.972605Z",
     "iopub.status.busy": "2023-10-30T21:16:13.972137Z",
     "iopub.status.idle": "2023-10-30T21:16:13.974950Z",
     "shell.execute_reply": "2023-10-30T21:16:13.974444Z"
    },
    "papermill": {
     "duration": 0.008163,
     "end_time": "2023-10-30T21:16:13.976140",
     "exception": false,
     "start_time": "2023-10-30T21:16:13.967977",
     "status": "completed"
    },
    "tags": []
   },
   "outputs": [],
   "source": [
    "algor_selector=eval(eval_selector)\n",
    "algor_clasifier=eval(eval_clasifier)"
   ]
  },
  {
   "cell_type": "markdown",
   "id": "8508caaf",
   "metadata": {
    "papermill": {
     "duration": 0.003726,
     "end_time": "2023-10-30T21:16:13.983383",
     "exception": false,
     "start_time": "2023-10-30T21:16:13.979657",
     "status": "completed"
    },
    "tags": []
   },
   "source": [
    "#### Comprobar el entorno y leer fichero de muestras"
   ]
  },
  {
   "cell_type": "code",
   "execution_count": 6,
   "id": "a43e1a0b",
   "metadata": {
    "execution": {
     "iopub.execute_input": "2023-10-30T21:16:13.991671Z",
     "iopub.status.busy": "2023-10-30T21:16:13.991194Z",
     "iopub.status.idle": "2023-10-30T21:16:14.173572Z",
     "shell.execute_reply": "2023-10-30T21:16:14.172937Z"
    },
    "papermill": {
     "duration": 0.188109,
     "end_time": "2023-10-30T21:16:14.175046",
     "exception": false,
     "start_time": "2023-10-30T21:16:13.986937",
     "status": "completed"
    },
    "tags": []
   },
   "outputs": [
    {
     "name": "stdout",
     "output_type": "stream",
     "text": [
      "20231030T221613 : enderlab : INFO : Encontrada carpeta DATA_DIR=../tfm_git/datos\n",
      "20231030T221613 : enderlab : INFO : Encontrada carpeta CFDNA_DIR=../tfm_git/datos/cfDNA_5hmC\n",
      "20231030T221613 : enderlab : INFO : Encontrada carpeta GENCODE_DIR=../tfm_git/datos/gencode\n",
      "20231030T221613 : enderlab : INFO : Encontrada carpeta H5_DIR=../tfm_git/datos/h5\n",
      "20231030T221613 : enderlab : INFO : Encontrada carpeta LOG_DIR=../tfm_git/datos/logs\n",
      "20231030T221613 : enderlab : INFO : Encontrada carpeta CSV_DIR=../tfm_git/datos/csv\n",
      "20231030T221613 : enderlab : INFO : Encontrada carpeta MODEL_DIR=../tfm_git/ejecuciones/modelos\n",
      "20231030T221613 : enderlab : INFO : Encontrada carpeta EXEC_DIR=../tfm_git/ejecuciones\n",
      "20231030T221613 : enderlab : INFO : Encontrada carpeta MET_DIR=../tfm_git/ejecuciones/metricas\n",
      "20231030T221613 : enderlab : INFO : Inicio leer fichero h5 ../tfm_git/datos/h5/rows_transpose_norm_by_gene_id_with_target_num_mul_s.h5\n",
      "20231030T221614 : enderlab : INFO : Leyendo clave /df\n"
     ]
    },
    {
     "name": "stdout",
     "output_type": "stream",
     "text": [
      "20231030T221614 : enderlab : INFO : Tamaño (259, 18876)\n",
      "20231030T221614 : enderlab : INFO : Fin leer fichero h5 ../tfm_git/datos/h5/rows_transpose_norm_by_gene_id_with_target_num_mul_s.h5\n"
     ]
    },
    {
     "data": {
      "text/plain": [
       "target\n",
       "0    37\n",
       "1    37\n",
       "2    37\n",
       "3    37\n",
       "4    37\n",
       "5    37\n",
       "6    37\n",
       "dtype: int64"
      ]
     },
     "metadata": {},
     "output_type": "display_data"
    },
    {
     "name": "stdout",
     "output_type": "stream",
     "text": [
      "Shape df: (259, 18876)\n"
     ]
    },
    {
     "name": "stdout",
     "output_type": "stream",
     "text": [
      "Shape X_train: (207, 18875)\n",
      "Shape X_test: (52, 18875)\n"
     ]
    }
   ],
   "source": [
    "start_time = datetime.datetime.now()\n",
    "\n",
    "myfunc.reset_vars()\n",
    "\n",
    "myfunc.NOTEBK_FILENAME = myfunc.get_nb_name()\n",
    "\n",
    "myfunc.check_enviroment(myfunc.DATA_DIR, myfunc.CFDNA_DIR, myfunc.GENCODE_DIR, myfunc.H5_DIR, myfunc.LOG_DIR, myfunc.CSV_DIR, myfunc.MODEL_DIR, myfunc.EXEC_DIR, myfunc.MET_DIR)\n",
    "\n",
    "# Leer fichero con las muestras\n",
    "df_t = myfunc.read_h5_to_df(DATA_FILE, myfunc.H5_DIR)\n",
    "display(df_t.groupby(\"target\").size())\n",
    "print(\"Shape df:\",df_t.shape)\n",
    "\n",
    "# Separar caracteristicas/genes de las etiquetas/tipos de cáncer\n",
    "X = df_t.iloc[:, :-1]  # Todas las columnas excepto la última\n",
    "y = df_t.iloc[:, -1]  # La última columna contiene los identificadores de los tipos de cáncer\n",
    "\n",
    "#  Crear el conjunto de datos de entrenamiento y de pruebas, y se fija la semilla para siempre coger el mismo juego de muestras\n",
    "X_train, X_test, y_train, y_test = train_test_split(X, y, test_size=0.2, shuffle=True, random_state=42)\n",
    "print(\"Shape X_train:\",X_train.shape)\n",
    "print(\"Shape X_test:\",X_test.shape)\n"
   ]
  },
  {
   "cell_type": "markdown",
   "id": "53a01eab",
   "metadata": {
    "papermill": {
     "duration": 0.004724,
     "end_time": "2023-10-30T21:16:14.184844",
     "exception": false,
     "start_time": "2023-10-30T21:16:14.180120",
     "status": "completed"
    },
    "tags": []
   },
   "source": [
    "#### Selección de características y clasificación."
   ]
  },
  {
   "cell_type": "code",
   "execution_count": 7,
   "id": "ef11761b",
   "metadata": {
    "execution": {
     "iopub.execute_input": "2023-10-30T21:16:14.194437Z",
     "iopub.status.busy": "2023-10-30T21:16:14.193881Z",
     "iopub.status.idle": "2023-10-30T21:16:42.032630Z",
     "shell.execute_reply": "2023-10-30T21:16:42.031374Z"
    },
    "papermill": {
     "duration": 27.845445,
     "end_time": "2023-10-30T21:16:42.034390",
     "exception": false,
     "start_time": "2023-10-30T21:16:14.188945",
     "status": "completed"
    },
    "tags": []
   },
   "outputs": [
    {
     "name": "stdout",
     "output_type": "stream",
     "text": [
      "20231030T221614 : enderlab : INFO : Iniciando entrenamiento\n",
      "num_iter: 1 , max_iter: 1\n"
     ]
    },
    {
     "name": "stdout",
     "output_type": "stream",
     "text": [
      "Fitting 5 folds for each of 1 candidates, totalling 5 fits\n"
     ]
    },
    {
     "name": "stdout",
     "output_type": "stream",
     "text": [
      "Mejores Hiperparámetros: {'selector__max_features': 1000, 'selector__estimator__n_estimators': 100, 'clasifier__n_estimators': 200, 'clasifier__min_samples_split': 10, 'clasifier__min_samples_leaf': 5, 'clasifier__max_features': 1000, 'clasifier__max_depth': 10, 'clasifier__bootstrap': True}\n",
      "Mejor Puntuación: 0.7765\n",
      "20231030T221642 : enderlab : INFO : Fin entrenamiento\n"
     ]
    }
   ],
   "source": [
    "myfunc.verbose(\"Iniciando entrenamiento\")\n",
    "\n",
    "kf = KFold(n_splits=5, shuffle=True, random_state=SEMILLA)\n",
    "\n",
    "# Crear el pipeline para el flujo de tareas\n",
    "tasks_pipeline = Pipeline([\n",
    "    ('selector', algor_selector),\n",
    "    ('clasifier', algor_clasifier)\n",
    "])\n",
    "\n",
    "# MAX_ITERS puede limitar el número de iteraciones si son excesivas para las combinaciones de parámetros buscando un óptimo local, \n",
    "# sino funcionaría como GridSearchCV al revisar todas las cominaciones de los parámetros\n",
    "num_iteraciones = 1\n",
    "num_iteraciones = num_iteraciones * np.prod([len(elemento1) for _, elemento1 in param_distributions.items()])\n",
    "max_iteraciones = num_iteraciones if num_iteraciones <= MAX_ITERS else MAX_ITERS\n",
    "print(\"num_iter:\",num_iteraciones,\", max_iter:\",max_iteraciones)\n",
    "\n",
    "random_search = RandomizedSearchCV(\n",
    "    tasks_pipeline, \n",
    "    param_distributions, \n",
    "    n_iter=max_iteraciones,\n",
    "    scoring=SCORING,\n",
    "    cv=kf,\n",
    "    verbose=3, \n",
    "    random_state=SEMILLA, \n",
    "    n_jobs=-1\n",
    "    )\n",
    "\n",
    "# Entrenar el modelo\n",
    "random_search.fit(X_train, y_train)\n",
    "\n",
    "# Ver los mejores hiperparámetros encontrados\n",
    "print(f'Mejores Hiperparámetros: {random_search.best_params_}')\n",
    "print(f'Mejor Puntuación: {random_search.best_score_:.4f}')\n",
    "\n",
    "# Nos quedamos con el mejor modelo para ver las métricas\n",
    "mejor_modelo = random_search.best_estimator_\n",
    "\n",
    "myfunc.verbose(\"Fin entrenamiento\")"
   ]
  },
  {
   "cell_type": "markdown",
   "id": "a2fb9412",
   "metadata": {
    "papermill": {
     "duration": 0.006736,
     "end_time": "2023-10-30T21:16:42.045763",
     "exception": false,
     "start_time": "2023-10-30T21:16:42.039027",
     "status": "completed"
    },
    "tags": []
   },
   "source": [
    "#### Guardar modelo"
   ]
  },
  {
   "cell_type": "code",
   "execution_count": 8,
   "id": "359c7a71",
   "metadata": {
    "execution": {
     "iopub.execute_input": "2023-10-30T21:16:42.057087Z",
     "iopub.status.busy": "2023-10-30T21:16:42.056667Z",
     "iopub.status.idle": "2023-10-30T21:16:42.190917Z",
     "shell.execute_reply": "2023-10-30T21:16:42.190282Z"
    },
    "papermill": {
     "duration": 0.142487,
     "end_time": "2023-10-30T21:16:42.192802",
     "exception": false,
     "start_time": "2023-10-30T21:16:42.050315",
     "status": "completed"
    },
    "tags": []
   },
   "outputs": [
    {
     "name": "stdout",
     "output_type": "stream",
     "text": [
      "20231030T221642 : enderlab : INFO : Inicio guardar fichero ../tfm_git/ejecuciones/modelos/modelo_9322_mul_s_RF_RF.pkl\n",
      "20231030T221642 : enderlab : INFO : Fin guardar fichero ../tfm_git/ejecuciones/modelos/modelo_9322_mul_s_RF_RF.pkl\n"
     ]
    }
   ],
   "source": [
    "fichero_modelo = str.replace(\"modelo_\"+str(SEMILLA).zfill(4)+\"_\"+M_TIPO+\"_\"+M_SELECT+\"_\"+M_CLASIF+\".pkl\", \" \", \"_\")\n",
    "\n",
    "myfunc.save_modelo(mejor_modelo, myfunc.MODEL_DIR, fichero_modelo)"
   ]
  },
  {
   "cell_type": "markdown",
   "id": "437b653f",
   "metadata": {
    "papermill": {
     "duration": 0.004866,
     "end_time": "2023-10-30T21:16:42.202479",
     "exception": false,
     "start_time": "2023-10-30T21:16:42.197613",
     "status": "completed"
    },
    "tags": []
   },
   "source": [
    "#### Ver resultados del las iteraciones hechas por RandomSearchCV"
   ]
  },
  {
   "cell_type": "code",
   "execution_count": 9,
   "id": "87306d32",
   "metadata": {
    "execution": {
     "iopub.execute_input": "2023-10-30T21:16:42.213134Z",
     "iopub.status.busy": "2023-10-30T21:16:42.212587Z",
     "iopub.status.idle": "2023-10-30T21:16:42.223139Z",
     "shell.execute_reply": "2023-10-30T21:16:42.222386Z"
    },
    "papermill": {
     "duration": 0.017926,
     "end_time": "2023-10-30T21:16:42.224616",
     "exception": false,
     "start_time": "2023-10-30T21:16:42.206690",
     "status": "completed"
    },
    "tags": []
   },
   "outputs": [
    {
     "name": "stdout",
     "output_type": "stream",
     "text": [
      "20231030T221642 : enderlab : INFO : Inicio ver resultados\n",
      "Mejores Hiperparámetros: {'selector__max_features': 1000, 'selector__estimator__n_estimators': 100, 'clasifier__n_estimators': 200, 'clasifier__min_samples_split': 10, 'clasifier__min_samples_leaf': 5, 'clasifier__max_features': 1000, 'clasifier__max_depth': 10, 'clasifier__bootstrap': True}\n",
      "Mejores puntuaciones: 0.7765 | Params: {'selector__max_features': 1000, 'selector__estimator__n_estimators': 100, 'clasifier__n_estimators': 200, 'clasifier__min_samples_split': 10, 'clasifier__min_samples_leaf': 5, 'clasifier__max_features': 1000, 'clasifier__max_depth': 10, 'clasifier__bootstrap': True}\n",
      "Media de las puntuaciones: 0.7765 | Params: {'selector__max_features': 1000, 'selector__estimator__n_estimators': 100, 'clasifier__n_estimators': 200, 'clasifier__min_samples_split': 10, 'clasifier__min_samples_leaf': 5, 'clasifier__max_features': 1000, 'clasifier__max_depth': 10, 'clasifier__bootstrap': True}\n",
      "20231030T221642 : enderlab : INFO : Fin resultados\n"
     ]
    }
   ],
   "source": [
    "myfunc.ver_resultados_search(random_search)"
   ]
  },
  {
   "cell_type": "markdown",
   "id": "bd1d72e4",
   "metadata": {
    "papermill": {
     "duration": 0.004472,
     "end_time": "2023-10-30T21:16:42.233570",
     "exception": false,
     "start_time": "2023-10-30T21:16:42.229098",
     "status": "completed"
    },
    "tags": []
   },
   "source": [
    "#### Ver métricas del mejor modelo"
   ]
  },
  {
   "cell_type": "code",
   "execution_count": 10,
   "id": "99ce5a30",
   "metadata": {
    "execution": {
     "iopub.execute_input": "2023-10-30T21:16:42.244390Z",
     "iopub.status.busy": "2023-10-30T21:16:42.243572Z",
     "iopub.status.idle": "2023-10-30T21:16:43.101425Z",
     "shell.execute_reply": "2023-10-30T21:16:43.100820Z"
    },
    "papermill": {
     "duration": 0.864743,
     "end_time": "2023-10-30T21:16:43.102744",
     "exception": false,
     "start_time": "2023-10-30T21:16:42.238001",
     "status": "completed"
    },
    "tags": []
   },
   "outputs": [
    {
     "name": "stdout",
     "output_type": "stream",
     "text": [
      "20231030T221642 : enderlab : INFO : Inicio ver métricas multiclase\n"
     ]
    },
    {
     "name": "stdout",
     "output_type": "stream",
     "text": [
      "              precision    recall  f1-score   support\n",
      "\n",
      "           0       0.33      0.09      0.14        11\n",
      "           1       0.56      0.62      0.59         8\n",
      "           2       0.60      0.38      0.46         8\n",
      "           3       0.00      0.00      0.00         5\n",
      "           4       0.75      0.75      0.75         8\n",
      "           5       0.20      0.17      0.18         6\n",
      "           6       0.21      0.50      0.30         6\n",
      "\n",
      "    accuracy                           0.37        52\n",
      "   macro avg       0.38      0.36      0.35        52\n",
      "weighted avg       0.41      0.37      0.36        52\n",
      "\n",
      "\n",
      "\n",
      "           Exactitud: 0.365385\n",
      "   Precisión (media): 0.379025\n",
      "      Recall (media): 0.358225\n",
      "    F1-score (media): 0.346350\n",
      "\n",
      "\n",
      "AUC para el tipo de cáncer 0-Control.... 0.5078\n",
      "AUC para el tipo de cáncer 1-Bladder.... 0.8125\n",
      "AUC para el tipo de cáncer 2-Breast..... 0.7045\n",
      "AUC para el tipo de cáncer 3-Colorectal. 0.7277\n",
      "AUC para el tipo de cáncer 4-Kidney..... 0.9631\n",
      "AUC para el tipo de cáncer 5-Lung....... 0.7464\n",
      "AUC para el tipo de cáncer 6-Prostate... 0.8116\n",
      "\n",
      "Media de AUC: 0.7534\n"
     ]
    },
    {
     "data": {
      "image/png": "[encoded data removed]",
      "text/plain": [
       "<Figure size 1000x600 with 1 Axes>"
      ]
     },
     "metadata": {},
     "output_type": "display_data"
    },
    {
     "name": "stdout",
     "output_type": "stream",
     "text": [
      "\n",
      "\n"
     ]
    },
    {
     "data": {
      "image/png": "[encoded data removed]",
      "text/plain": [
       "<Figure size 800x400 with 2 Axes>"
      ]
     },
     "metadata": {},
     "output_type": "display_data"
    },
    {
     "name": "stdout",
     "output_type": "stream",
     "text": [
      "\n",
      "\n",
      "Puntuación Jaccard para el cáncer tipo 0-Control.... 0.0769\n",
      "Puntuación Jaccard para el cáncer tipo 1-Bladder.... 0.4167\n",
      "Puntuación Jaccard para el cáncer tipo 2-Breast..... 0.3000\n",
      "Puntuación Jaccard para el cáncer tipo 3-Colorectal. 0.0000\n",
      "Puntuación Jaccard para el cáncer tipo 4-Kidney..... 0.6000\n",
      "Puntuación Jaccard para el cáncer tipo 5-Lung....... 0.1000\n",
      "Puntuación Jaccard para el cáncer tipo 6-Prostate... 0.1765\n",
      "\n",
      "Media de la puntuación de Jaccard: 0.2386\n"
     ]
    }
   ],
   "source": [
    "if M_TIPO.startswith(\"bin\"):\n",
    "    myfunc.ver_metricas(mejor_modelo, X_test, y_test)\n",
    "else:\n",
    "    myfunc.ver_metricas_multi(mejor_modelo, X_test, y_test)\n"
   ]
  },
  {
   "cell_type": "markdown",
   "id": "2ec3a477",
   "metadata": {
    "papermill": {
     "duration": 0.00583,
     "end_time": "2023-10-30T21:16:43.114934",
     "exception": false,
     "start_time": "2023-10-30T21:16:43.109104",
     "status": "completed"
    },
    "tags": []
   },
   "source": [
    "#### Finalización del notebook"
   ]
  },
  {
   "cell_type": "code",
   "execution_count": 11,
   "id": "63fff214",
   "metadata": {
    "execution": {
     "iopub.execute_input": "2023-10-30T21:16:43.127893Z",
     "iopub.status.busy": "2023-10-30T21:16:43.127374Z",
     "iopub.status.idle": "2023-10-30T21:16:43.131263Z",
     "shell.execute_reply": "2023-10-30T21:16:43.130711Z"
    },
    "papermill": {
     "duration": 0.01201,
     "end_time": "2023-10-30T21:16:43.132754",
     "exception": false,
     "start_time": "2023-10-30T21:16:43.120744",
     "status": "completed"
    },
    "tags": []
   },
   "outputs": [
    {
     "name": "stdout",
     "output_type": "stream",
     "text": [
      "20231030T221643 : enderlab : INFO : Notebook ha tardado 29 seconds\n"
     ]
    }
   ],
   "source": [
    "end_time = datetime.datetime.now()\n",
    "total_time = end_time - start_time\n",
    "myfunc.verbose(f\"Notebook ha tardado {total_time.seconds} seconds\")"
   ]
  },
  {
   "cell_type": "markdown",
   "id": "c21d046e",
   "metadata": {
    "papermill": {
     "duration": 0.005823,
     "end_time": "2023-10-30T21:16:43.144438",
     "exception": false,
     "start_time": "2023-10-30T21:16:43.138615",
     "status": "completed"
    },
    "tags": []
   },
   "source": [
    "#### Guardar métricas"
   ]
  },
  {
   "cell_type": "code",
   "execution_count": 12,
   "id": "1da318fa",
   "metadata": {
    "execution": {
     "iopub.execute_input": "2023-10-30T21:16:43.160870Z",
     "iopub.status.busy": "2023-10-30T21:16:43.160342Z",
     "iopub.status.idle": "2023-10-30T21:16:43.567790Z",
     "shell.execute_reply": "2023-10-30T21:16:43.567055Z"
    },
    "papermill": {
     "duration": 0.418867,
     "end_time": "2023-10-30T21:16:43.569171",
     "exception": false,
     "start_time": "2023-10-30T21:16:43.150304",
     "status": "completed"
    },
    "tags": []
   },
   "outputs": [
    {
     "name": "stdout",
     "output_type": "stream",
     "text": [
      "20231030T221643 : enderlab : INFO : Inicio guardar métricas multiclase\n",
      "20231030T221643 : enderlab : INFO : Inicio leer fichero ../tfm_git/ejecuciones/metricas/metricas_9322.csv\n",
      "20231030T221643 : enderlab : INFO : Fin leer fichero ../tfm_git/ejecuciones/metricas/metricas_9322.csv\n"
     ]
    },
    {
     "name": "stdout",
     "output_type": "stream",
     "text": [
      "20231030T221643 : enderlab : INFO : Inicio guardar fichero ../tfm_git/ejecuciones/metricas/metricas_9322.csv\n",
      "20231030T221643 : enderlab : INFO : Fichero borrado ../tfm_git/ejecuciones/metricas/metricas_9322.csv\n",
      "20231030T221643 : enderlab : INFO : Fin guardar fichero ../tfm_git/ejecuciones/metricas/metricas_9322.csv\n",
      "20231030T221643 : enderlab : INFO : Fin guardar métricas multiclase\n",
      "20231030T221643 : enderlab : INFO : Inicio leer fichero ../tfm_git/ejecuciones/metricas/metricas_9322.csv\n",
      "20231030T221643 : enderlab : INFO : Fin leer fichero ../tfm_git/ejecuciones/metricas/metricas_9322.csv\n"
     ]
    },
    {
     "data": {
      "text/html": [
       "<div>\n",
       "<style scoped>\n",
       "    .dataframe tbody tr th:only-of-type {\n",
       "        vertical-align: middle;\n",
       "    }\n",
       "\n",
       "    .dataframe tbody tr th {\n",
       "        vertical-align: top;\n",
       "    }\n",
       "\n",
       "    .dataframe thead th {\n",
       "        text-align: right;\n",
       "    }\n",
       "</style>\n",
       "<table border=\"1\" class=\"dataframe\">\n",
       "  <thead>\n",
       "    <tr style=\"text-align: right;\">\n",
       "      <th></th>\n",
       "      <th>tipo</th>\n",
       "      <th>select</th>\n",
       "      <th>clasific</th>\n",
       "      <th>semilla</th>\n",
       "      <th>accuracy</th>\n",
       "      <th>precision</th>\n",
       "      <th>recall</th>\n",
       "      <th>f1_score</th>\n",
       "      <th>roc_auc</th>\n",
       "      <th>hostname</th>\n",
       "      <th>total_time_sec</th>\n",
       "      <th>datetime</th>\n",
       "      <th>fichero_modelo</th>\n",
       "      <th>params</th>\n",
       "      <th>shape</th>\n",
       "      <th>features</th>\n",
       "      <th>roc_auc_ovr</th>\n",
       "      <th>indices_auc</th>\n",
       "      <th>indices_jaccard</th>\n",
       "    </tr>\n",
       "  </thead>\n",
       "  <tbody>\n",
       "    <tr>\n",
       "      <th>0</th>\n",
       "      <td>mul_s</td>\n",
       "      <td>RF</td>\n",
       "      <td>RF</td>\n",
       "      <td>9322</td>\n",
       "      <td>0.365385</td>\n",
       "      <td>0.379025</td>\n",
       "      <td>0.358225</td>\n",
       "      <td>0.346350</td>\n",
       "      <td>NaN</td>\n",
       "      <td>enderlab</td>\n",
       "      <td>29</td>\n",
       "      <td>2023-10-30 22:16:43.509060</td>\n",
       "      <td>modelo_9322_mul_s_RF_RF.pkl</td>\n",
       "      <td>{'selector__max_features': 1000, 'selector__es...</td>\n",
       "      <td>X_test:(52, 18875)</td>\n",
       "      <td>['ENSG00000001084.13', 'ENSG00000002933.9', 'E...</td>\n",
       "      <td>0.753358</td>\n",
       "      <td>[0.5077605321507761, 0.8125, 0.704545454545454...</td>\n",
       "      <td>[0.07692307692307693, 0.4166666666666667, 0.3,...</td>\n",
       "    </tr>\n",
       "    <tr>\n",
       "      <th>0</th>\n",
       "      <td>mul_s</td>\n",
       "      <td>RF</td>\n",
       "      <td>SVM</td>\n",
       "      <td>9322</td>\n",
       "      <td>0.442308</td>\n",
       "      <td>0.438828</td>\n",
       "      <td>0.452273</td>\n",
       "      <td>0.420256</td>\n",
       "      <td>NaN</td>\n",
       "      <td>enderlab</td>\n",
       "      <td>5</td>\n",
       "      <td>2023-10-30 08:41:04.895231</td>\n",
       "      <td>modelo_9322_mul_s_RF_SVM.pkl</td>\n",
       "      <td>{'selector__max_features': 200, 'selector__est...</td>\n",
       "      <td>X_test:(52, 18875)</td>\n",
       "      <td>['ENSG00000006071.16', 'ENSG00000006534.17', '...</td>\n",
       "      <td>0.771847</td>\n",
       "      <td>[0.5875831485587583, 0.8096590909090908, 0.721...</td>\n",
       "      <td>[0.07692307692307693, 0.4444444444444444, 0.25...</td>\n",
       "    </tr>\n",
       "    <tr>\n",
       "      <th>0</th>\n",
       "      <td>mul_s</td>\n",
       "      <td>RF</td>\n",
       "      <td>LR_L2</td>\n",
       "      <td>9322</td>\n",
       "      <td>0.365385</td>\n",
       "      <td>0.368707</td>\n",
       "      <td>0.359307</td>\n",
       "      <td>0.350288</td>\n",
       "      <td>NaN</td>\n",
       "      <td>enderlab</td>\n",
       "      <td>15</td>\n",
       "      <td>2023-10-30 08:40:52.330706</td>\n",
       "      <td>modelo_9322_mul_s_RF_LR_L2.pkl</td>\n",
       "      <td>{'selector__max_features': 500, 'selector__est...</td>\n",
       "      <td>X_test:(52, 18875)</td>\n",
       "      <td>['ENSG00000002549.13', 'ENSG00000006071.16', '...</td>\n",
       "      <td>0.794527</td>\n",
       "      <td>[0.6119733924611973, 0.8011363636363636, 0.764...</td>\n",
       "      <td>[0.10526315789473684, 0.3333333333333333, 0.15...</td>\n",
       "    </tr>\n",
       "  </tbody>\n",
       "</table>\n",
       "</div>"
      ],
      "text/plain": [
       "    tipo select clasific  semilla  accuracy  precision    recall  f1_score  \\\n",
       "0  mul_s     RF       RF     9322  0.365385   0.379025  0.358225  0.346350   \n",
       "0  mul_s     RF      SVM     9322  0.442308   0.438828  0.452273  0.420256   \n",
       "0  mul_s     RF    LR_L2     9322  0.365385   0.368707  0.359307  0.350288   \n",
       "\n",
       "   roc_auc  hostname  total_time_sec                    datetime  \\\n",
       "0      NaN  enderlab              29  2023-10-30 22:16:43.509060   \n",
       "0      NaN  enderlab               5  2023-10-30 08:41:04.895231   \n",
       "0      NaN  enderlab              15  2023-10-30 08:40:52.330706   \n",
       "\n",
       "                   fichero_modelo  \\\n",
       "0     modelo_9322_mul_s_RF_RF.pkl   \n",
       "0    modelo_9322_mul_s_RF_SVM.pkl   \n",
       "0  modelo_9322_mul_s_RF_LR_L2.pkl   \n",
       "\n",
       "                                              params               shape  \\\n",
       "0  {'selector__max_features': 1000, 'selector__es...  X_test:(52, 18875)   \n",
       "0  {'selector__max_features': 200, 'selector__est...  X_test:(52, 18875)   \n",
       "0  {'selector__max_features': 500, 'selector__est...  X_test:(52, 18875)   \n",
       "\n",
       "                                            features  roc_auc_ovr  \\\n",
       "0  ['ENSG00000001084.13', 'ENSG00000002933.9', 'E...     0.753358   \n",
       "0  ['ENSG00000006071.16', 'ENSG00000006534.17', '...     0.771847   \n",
       "0  ['ENSG00000002549.13', 'ENSG00000006071.16', '...     0.794527   \n",
       "\n",
       "                                         indices_auc  \\\n",
       "0  [0.5077605321507761, 0.8125, 0.704545454545454...   \n",
       "0  [0.5875831485587583, 0.8096590909090908, 0.721...   \n",
       "0  [0.6119733924611973, 0.8011363636363636, 0.764...   \n",
       "\n",
       "                                     indices_jaccard  \n",
       "0  [0.07692307692307693, 0.4166666666666667, 0.3,...  \n",
       "0  [0.07692307692307693, 0.4444444444444444, 0.25...  \n",
       "0  [0.10526315789473684, 0.3333333333333333, 0.15...  "
      ]
     },
     "metadata": {},
     "output_type": "display_data"
    }
   ],
   "source": [
    "if M_TIPO.startswith(\"bin\"):\n",
    "    myfunc.save_metricas_to_csv(random_search, X_test, y_test, M_TIPO, M_SELECT, M_CLASIF, total_time, SEMILLA, myfunc.MET_DIR, M_FICHERO, fichero_modelo)\n",
    "else:\n",
    "    myfunc.save_metricas_multi_to_csv(random_search, X_test, y_test, M_TIPO, M_SELECT, M_CLASIF, total_time, SEMILLA, myfunc.MET_DIR, M_FICHERO, fichero_modelo)\n",
    "\n",
    "df1=myfunc.read_metricas_to_df(myfunc.MET_DIR,M_FICHERO)\n",
    "\n",
    "display(df1.sort_values(\"datetime\", ascending=False)[:3])\n"
   ]
  },
  {
   "cell_type": "markdown",
   "id": "fad7328b",
   "metadata": {
    "papermill": {
     "duration": 0.00683,
     "end_time": "2023-10-30T21:16:43.582751",
     "exception": false,
     "start_time": "2023-10-30T21:16:43.575921",
     "status": "completed"
    },
    "tags": []
   },
   "source": [
    "#### Guardar resultados"
   ]
  },
  {
   "cell_type": "code",
   "execution_count": 13,
   "id": "362e874b",
   "metadata": {
    "execution": {
     "iopub.execute_input": "2023-10-30T21:16:43.596584Z",
     "iopub.status.busy": "2023-10-30T21:16:43.596048Z",
     "iopub.status.idle": "2023-10-30T21:16:43.605751Z",
     "shell.execute_reply": "2023-10-30T21:16:43.605192Z"
    },
    "papermill": {
     "duration": 0.018039,
     "end_time": "2023-10-30T21:16:43.607043",
     "exception": false,
     "start_time": "2023-10-30T21:16:43.589004",
     "status": "completed"
    },
    "tags": []
   },
   "outputs": [
    {
     "name": "stdout",
     "output_type": "stream",
     "text": [
      "20231030T221643 : enderlab : INFO : Inicio guardar resultados\n",
      "20231030T221643 : enderlab : INFO : Inicio guardar fichero ../tfm_git/ejecuciones/metricas/resultados_9322_mul_s-RF-RF.csv\n",
      "20231030T221643 : enderlab : INFO : Fin guardar fichero ../tfm_git/ejecuciones/metricas/resultados_9322_mul_s-RF-RF.csv\n",
      "20231030T221643 : enderlab : INFO : Fin guardar resultados\n"
     ]
    }
   ],
   "source": [
    "fichero_resultados=R_FICHERO+\"_\"+M_TIPO+\"-\"+M_SELECT+\"-\"+M_CLASIF+\".csv\"\n",
    "myfunc.save_resultados_to_csv(M_TIPO, M_SELECT, M_CLASIF,  random_search, myfunc.MET_DIR, fichero_resultados)\n"
   ]
  }
 ],
 "metadata": {
  "kernelspec": {
   "display_name": "Python 3 (ipykernel)",
   "language": "python",
   "name": "python3"
  },
  "language_info": {
   "codemirror_mode": {
    "name": "ipython",
    "version": 3
   },
   "file_extension": ".py",
   "mimetype": "text/x-python",
   "name": "python",
   "nbconvert_exporter": "python",
   "pygments_lexer": "ipython3",
   "version": "3.10.11"
  },
  "papermill": {
   "default_parameters": {},
   "duration": 34.704721,
   "end_time": "2023-10-30T21:16:46.233440",
   "environment_variables": {},
   "exception": null,
   "input_path": "03_entrenamiento.ipynb",
   "output_path": "ejecuciones/training/03_entrenamiento..param_0000_9322_mul_s_RF_RF.output.ipynb",
   "parameters": {
    "MAX_ITERS": 500,
    "M_CLASIF": "RF",
    "M_FICHERO": "metricas_9322",
    "M_SELECT": "RF",
    "M_TIPO": "mul_s",
    "PRE_DATA_FILE": "rows_transpose_norm_by_gene_id_with_target_num_",
    "P_FICHERO": "param_0000_9322_mul_s_RF_RF.yaml",
    "R_FICHERO": "resultados_9322",
    "SCORING": "roc_auc_ovr",
    "SEMILLA": 9322,
    "eval_clasifier": "RandomForestClassifier(random_state=SEMILLA)",
    "eval_selector": "SelectFromModel(estimator=RandomForestClassifier(random_state=SEMILLA), threshold=-np.inf)",
    "param_distributions": {
     "clasifier__bootstrap": [
      true
     ],
     "clasifier__max_depth": [
      10
     ],
     "clasifier__max_features": [
      1000
     ],
     "clasifier__min_samples_leaf": [
      5
     ],
     "clasifier__min_samples_split": [
      10
     ],
     "clasifier__n_estimators": [
      200
     ],
     "selector__estimator__n_estimators": [
      100
     ],
     "selector__max_features": [
      1000
     ]
    }
   },
   "start_time": "2023-10-30T21:16:11.528719",
   "version": "2.4.0"
  }
 },
 "nbformat": 4,
 "nbformat_minor": 5
}