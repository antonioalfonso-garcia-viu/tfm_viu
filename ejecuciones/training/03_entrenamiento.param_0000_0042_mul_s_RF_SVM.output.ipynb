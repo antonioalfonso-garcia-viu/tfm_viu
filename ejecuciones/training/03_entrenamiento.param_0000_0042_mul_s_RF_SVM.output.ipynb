{
 "cells": [
  {
   "cell_type": "markdown",
   "id": "f8c69584",
   "metadata": {
    "papermill": {
     "duration": 0.004347,
     "end_time": "2023-10-27T23:24:28.020634",
     "exception": false,
     "start_time": "2023-10-27T23:24:28.016287",
     "status": "completed"
    },
    "tags": []
   },
   "source": [
    "##### Inicio"
   ]
  },
  {
   "cell_type": "markdown",
   "id": "97d334af",
   "metadata": {
    "papermill": {
     "duration": 0.003497,
     "end_time": "2023-10-27T23:24:28.027931",
     "exception": false,
     "start_time": "2023-10-27T23:24:28.024434",
     "status": "completed"
    },
    "tags": []
   },
   "source": [
    "#### Carga de datos"
   ]
  },
  {
   "cell_type": "code",
   "execution_count": 1,
   "id": "fcff25d0",
   "metadata": {
    "execution": {
     "iopub.execute_input": "2023-10-27T23:24:28.036468Z",
     "iopub.status.busy": "2023-10-27T23:24:28.036231Z",
     "iopub.status.idle": "2023-10-27T23:24:28.905824Z",
     "shell.execute_reply": "2023-10-27T23:24:28.905203Z"
    },
    "papermill": {
     "duration": 0.875677,
     "end_time": "2023-10-27T23:24:28.907214",
     "exception": false,
     "start_time": "2023-10-27T23:24:28.031537",
     "status": "completed"
    },
    "tags": []
   },
   "outputs": [
    {
     "name": "stdout",
     "output_type": "stream",
     "text": [
      "CPU_COUNT: 8; NODE: amilcar22; sys.version: 3.10.12 (main, Jul  5 2023, 19:22:19) [GCC 11.2.0]\n",
      "LOKY_MAX_CPU_COUNT: 6\n",
      "OMP_NUM_THREADS: 2\n"
     ]
    }
   ],
   "source": [
    "import os\n",
    "import numpy as np\n",
    "import pandas as pd\n",
    "import datetime\n",
    "import sklearn\n",
    "import logging\n",
    "import warnings\n",
    "\n",
    "from sklearn.pipeline import Pipeline\n",
    "from sklearn.model_selection import RandomizedSearchCV, KFold, cross_val_score, train_test_split\n",
    "from sklearn.metrics import accuracy_score, confusion_matrix, classification_report, roc_auc_score\n",
    "\n",
    "#  cargar algoritmos para aprendizaje supervisado\n",
    "from sklearn.feature_selection import SelectKBest, f_classif, SelectFromModel, mutual_info_classif\n",
    "from sklearn.svm import SVC\n",
    "from sklearn.ensemble import RandomForestClassifier\n",
    "from sklearn.linear_model import LogisticRegression,LogisticRegressionCV\n",
    "\n",
    "# importar fichero con utilidades propias\n",
    "from commons import myfunctions as myfunc\n"
   ]
  },
  {
   "cell_type": "markdown",
   "id": "034c6995",
   "metadata": {
    "papermill": {
     "duration": 0.002565,
     "end_time": "2023-10-27T23:24:28.912599",
     "exception": false,
     "start_time": "2023-10-27T23:24:28.910034",
     "status": "completed"
    },
    "tags": []
   },
   "source": [
    "#### Parámetros a utilizar en el entrenamiento.\n",
    "\n",
    "Se indican los 3 algoritmos de *selección de características* (eval_selector_xxx) y los 3 algoritmos para la _clasificación_ (eval_clasifier_xxx)\n",
    "\n",
    "En *param_distributions* se indicar los parámetros que utilizan los algoritmos en la función RandomSearchCV.\n",
    "\n",
    "Esta celda tiene la etiqueta **parameters** que servirá para poder lanzar los entrenamientos con la utilidad **papermill** pasándole un fichero con los parámetros. Los nuevos parámetros se situarán tras esta celda para tener prevalencia."
   ]
  },
  {
   "cell_type": "code",
   "execution_count": 2,
   "id": "90a1df3e",
   "metadata": {
    "execution": {
     "iopub.execute_input": "2023-10-27T23:24:28.918453Z",
     "iopub.status.busy": "2023-10-27T23:24:28.918208Z",
     "iopub.status.idle": "2023-10-27T23:24:28.924955Z",
     "shell.execute_reply": "2023-10-27T23:24:28.924442Z"
    },
    "papermill": {
     "duration": 0.011077,
     "end_time": "2023-10-27T23:24:28.926087",
     "exception": false,
     "start_time": "2023-10-27T23:24:28.915010",
     "status": "completed"
    },
    "tags": [
     "parameters"
    ]
   },
   "outputs": [
    {
     "name": "stdout",
     "output_type": "stream",
     "text": [
      "20231028T012428 : amilcar22 : INFO : Utilizando parámetros de mul_m\n"
     ]
    }
   ],
   "source": [
    "#  Parametros para el entrenamiento\n",
    "\n",
    "SEMILLA=        42\n",
    "M_TIPO=         \"mul_m\"\n",
    "M_SELECT=       \"MI\"\n",
    "M_CLASIF=       \"SVM\"\n",
    "R_FICHERO=      \"resultados\"\n",
    "M_FICHERO=      \"metricas\"\n",
    "PRE_DATA_FILE=  \"rows_transpose_norm_by_gene_id_with_target_num_\"\n",
    "SCORING=        \"roc_auc_ovr\" \n",
    "MAX_ITERS=      100\n",
    "\n",
    "def mutual_info_classif_state(X, y):\n",
    "    return mutual_info_classif(X, y, random_state=SEMILLA)\n",
    "\n",
    "eval_selector_mi = \"SelectKBest(score_func=mutual_info_classif_state)\"\n",
    "eval_selector_rf=  \"SelectFromModel(estimator=RandomForestClassifier(random_state=SEMILLA), threshold=-np.inf)\"\n",
    "eval_selector_anova=  \"SelectKBest(score_func=f_classif)\"\n",
    "\n",
    "eval_clasifier_svm= \"SVC(probability=True, random_state=SEMILLA)\"\n",
    "eval_clasifier_rf= \"RandomForestClassifier(random_state=SEMILLA)\"\n",
    "eval_clasifier_lr= \"LogisticRegressionCV(random_state=SEMILLA)\"\n",
    "\n",
    "if M_TIPO.startswith(\"bin_m\"):\n",
    "    myfunc.verbose(f\"Utilizando parámetros de {M_TIPO}\")\n",
    "    eval_selector = eval_selector_mi\n",
    "    eval_clasifier = eval_clasifier_svm\n",
    "\n",
    "    SEMILLA = 6578\n",
    "    M_SELECT = \"MI\"\n",
    "    M_CLASIF = \"SVM\"\n",
    "    param_distributions = {'selector__k': [1000], \n",
    "         'clasifier__kernel': ['rbf'], 'clasifier__gamma': [0.01], 'clasifier__C': [100]}\n",
    "elif M_TIPO.startswith(\"bin_s\"):\n",
    "    myfunc.verbose(f\"Utilizando parámetros de {M_TIPO}\")\n",
    "    eval_selector = eval_selector_rf\n",
    "    eval_clasifier = eval_clasifier_lr\n",
    "\n",
    "    SEMILLA = 6191\n",
    "    M_SELECT = \"RF\"\n",
    "    M_CLASIF = \"LR_L2\"\n",
    "    param_distributions = {'selector__max_features': [1000], 'selector__estimator__n_estimators': [200], \n",
    "        'clasifier__solver': ['lbfgs'], 'clasifier__penalty': ['l2'], 'clasifier__max_iter': [10000]}\n",
    "\n",
    "elif M_TIPO.startswith(\"mul_m\"):\n",
    "    myfunc.verbose(f\"Utilizando parámetros de {M_TIPO}\")\n",
    " \n",
    "    eval_selector = eval_selector_rf\n",
    "    eval_clasifier = eval_clasifier_lr\n",
    "\n",
    "    SEMILLA = 6191\n",
    "    M_SELECT = \"RF\"\n",
    "    M_CLASIF = \"LR_L2\"\n",
    "    param_distributions = {'selector__max_features': [1000], 'selector__estimator__n_estimators': [400], \n",
    "        'clasifier__solver': ['lbfgs'], 'clasifier__penalty': ['l2'], 'clasifier__max_iter': [10000]}\n",
    "\n",
    "else:\n",
    "    # M_TIPO.startswith(\"mul_s\"):\n",
    "    myfunc.verbose(f\"Utilizando parámetros de {M_TIPO}\")\n",
    "    eval_selector = eval_selector_anova\n",
    "    eval_clasifier = eval_clasifier_lr\n",
    "\n",
    "    SEMILLA = 1860\n",
    "    M_SELECT = \"ANOVA\"\n",
    "    M_CLASIF = \"LR_L2\"\n",
    "    param_distributions = {'selector__k': [1000], \n",
    "        'clasifier__solver': ['saga'], 'clasifier__penalty': ['l2'], 'clasifier__max_iter': [10000]}\n",
    "\n"
   ]
  },
  {
   "cell_type": "code",
   "execution_count": 3,
   "id": "256f6f01",
   "metadata": {
    "execution": {
     "iopub.execute_input": "2023-10-27T23:24:28.932201Z",
     "iopub.status.busy": "2023-10-27T23:24:28.931849Z",
     "iopub.status.idle": "2023-10-27T23:24:28.935235Z",
     "shell.execute_reply": "2023-10-27T23:24:28.934806Z"
    },
    "papermill": {
     "duration": 0.00767,
     "end_time": "2023-10-27T23:24:28.936378",
     "exception": false,
     "start_time": "2023-10-27T23:24:28.928708",
     "status": "completed"
    },
    "tags": [
     "injected-parameters"
    ]
   },
   "outputs": [],
   "source": [
    "# Parameters\n",
    "M_TIPO = \"mul_s\"\n",
    "M_SELECT = \"RF\"\n",
    "M_CLASIF = \"SVM\"\n",
    "P_FICHERO = \"param_0000_0042_mul_s_RF_SVM.yaml\"\n",
    "R_FICHERO = \"resultados_0042\"\n",
    "M_FICHERO = \"metricas_0042\"\n",
    "PRE_DATA_FILE = \"rows_transpose_norm_by_gene_id_with_target_num_\"\n",
    "SCORING = \"roc_auc_ovr\"\n",
    "SEMILLA = 42\n",
    "MAX_ITERS = 500\n",
    "eval_selector = \"SelectFromModel(estimator=RandomForestClassifier(random_state=SEMILLA), threshold=-np.inf)\"\n",
    "eval_clasifier = \"SVC(probability=True, random_state=SEMILLA)\"\n",
    "param_distributions = {\n",
    "    \"selector__max_features\": [200],\n",
    "    \"selector__estimator__n_estimators\": [100],\n",
    "    \"clasifier__kernel\": [\"rbf\"],\n",
    "    \"clasifier__gamma\": [0.01],\n",
    "    \"clasifier__C\": [10],\n",
    "}\n"
   ]
  },
  {
   "cell_type": "code",
   "execution_count": 4,
   "id": "499b5429",
   "metadata": {
    "execution": {
     "iopub.execute_input": "2023-10-27T23:24:28.942253Z",
     "iopub.status.busy": "2023-10-27T23:24:28.942106Z",
     "iopub.status.idle": "2023-10-27T23:24:28.944991Z",
     "shell.execute_reply": "2023-10-27T23:24:28.944567Z"
    },
    "papermill": {
     "duration": 0.007343,
     "end_time": "2023-10-27T23:24:28.946273",
     "exception": false,
     "start_time": "2023-10-27T23:24:28.938930",
     "status": "completed"
    },
    "tags": []
   },
   "outputs": [],
   "source": [
    "DATA_FILE = PRE_DATA_FILE + M_TIPO\n",
    "\n",
    "# si viene \"None\" en el parámetro max_depth, se le quitan las comillas para que no sea entendido por el algoritmo como un texto\n",
    "if \"clasifier__max_depth\" in param_distributions:\n",
    "    param_distributions['clasifier__max_depth'] = [None if x == 'None' else x for x in param_distributions['clasifier__max_depth']]"
   ]
  },
  {
   "cell_type": "markdown",
   "id": "a1a59fa1",
   "metadata": {
    "papermill": {
     "duration": 0.002704,
     "end_time": "2023-10-27T23:24:28.951734",
     "exception": false,
     "start_time": "2023-10-27T23:24:28.949030",
     "status": "completed"
    },
    "tags": []
   },
   "source": [
    "Asignar los algoritmos que se utilizarán en la función RandomSearchCV"
   ]
  },
  {
   "cell_type": "code",
   "execution_count": 5,
   "id": "2fdebb5a",
   "metadata": {
    "execution": {
     "iopub.execute_input": "2023-10-27T23:24:28.958034Z",
     "iopub.status.busy": "2023-10-27T23:24:28.957873Z",
     "iopub.status.idle": "2023-10-27T23:24:28.960618Z",
     "shell.execute_reply": "2023-10-27T23:24:28.960056Z"
    },
    "papermill": {
     "duration": 0.007432,
     "end_time": "2023-10-27T23:24:28.961968",
     "exception": false,
     "start_time": "2023-10-27T23:24:28.954536",
     "status": "completed"
    },
    "tags": []
   },
   "outputs": [],
   "source": [
    "algor_selector=eval(eval_selector)\n",
    "algor_clasifier=eval(eval_clasifier)"
   ]
  },
  {
   "cell_type": "markdown",
   "id": "f6b70f9d",
   "metadata": {
    "papermill": {
     "duration": 0.003234,
     "end_time": "2023-10-27T23:24:28.968431",
     "exception": false,
     "start_time": "2023-10-27T23:24:28.965197",
     "status": "completed"
    },
    "tags": []
   },
   "source": [
    "#### Comprobar el entorno y leer fichero de muestras"
   ]
  },
  {
   "cell_type": "code",
   "execution_count": 6,
   "id": "4c464548",
   "metadata": {
    "execution": {
     "iopub.execute_input": "2023-10-27T23:24:28.975870Z",
     "iopub.status.busy": "2023-10-27T23:24:28.975540Z",
     "iopub.status.idle": "2023-10-27T23:24:29.103123Z",
     "shell.execute_reply": "2023-10-27T23:24:29.102438Z"
    },
    "papermill": {
     "duration": 0.132976,
     "end_time": "2023-10-27T23:24:29.104602",
     "exception": false,
     "start_time": "2023-10-27T23:24:28.971626",
     "status": "completed"
    },
    "tags": []
   },
   "outputs": [
    {
     "name": "stdout",
     "output_type": "stream",
     "text": [
      "20231028T012428 : amilcar22 : INFO : Encontrada carpeta DATA_DIR=../tfm_git/datos\n",
      "20231028T012428 : amilcar22 : INFO : Encontrada carpeta CFDNA_DIR=../tfm_git/datos/cfDNA_5hmC\n",
      "20231028T012428 : amilcar22 : INFO : Encontrada carpeta GENCODE_DIR=../tfm_git/datos/gencode\n",
      "20231028T012428 : amilcar22 : INFO : Encontrada carpeta H5_DIR=../tfm_git/datos/h5\n",
      "20231028T012428 : amilcar22 : INFO : Encontrada carpeta LOG_DIR=../tfm_git/datos/logs\n",
      "20231028T012428 : amilcar22 : INFO : Encontrada carpeta CSV_DIR=../tfm_git/datos/csv\n",
      "20231028T012428 : amilcar22 : INFO : Encontrada carpeta MODEL_DIR=../tfm_git/ejecuciones/modelos\n",
      "20231028T012428 : amilcar22 : INFO : Encontrada carpeta EXEC_DIR=../tfm_git/ejecuciones\n",
      "20231028T012428 : amilcar22 : INFO : Encontrada carpeta MET_DIR=../tfm_git/ejecuciones/metricas\n",
      "20231028T012428 : amilcar22 : INFO : Inicio leer fichero h5 ../tfm_git/datos/h5/rows_transpose_norm_by_gene_id_with_target_num_mul_s.h5\n",
      "20231028T012429 : amilcar22 : INFO : Leyendo clave /df\n",
      "20231028T012429 : amilcar22 : INFO : Tamaño (259, 18876)\n",
      "20231028T012429 : amilcar22 : INFO : Fin leer fichero h5 ../tfm_git/datos/h5/rows_transpose_norm_by_gene_id_with_target_num_mul_s.h5\n"
     ]
    },
    {
     "data": {
      "text/plain": [
       "target\n",
       "0    37\n",
       "1    37\n",
       "2    37\n",
       "3    37\n",
       "4    37\n",
       "5    37\n",
       "6    37\n",
       "dtype: int64"
      ]
     },
     "metadata": {},
     "output_type": "display_data"
    },
    {
     "name": "stdout",
     "output_type": "stream",
     "text": [
      "Shape df: (259, 18876)\n",
      "Shape X_train: (207, 18875)\n",
      "Shape X_test: (52, 18875)\n"
     ]
    }
   ],
   "source": [
    "start_time = datetime.datetime.now()\n",
    "\n",
    "myfunc.reset_vars()\n",
    "\n",
    "myfunc.NOTEBK_FILENAME = myfunc.get_nb_name()\n",
    "\n",
    "myfunc.check_enviroment(myfunc.DATA_DIR, myfunc.CFDNA_DIR, myfunc.GENCODE_DIR, myfunc.H5_DIR, myfunc.LOG_DIR, myfunc.CSV_DIR, myfunc.MODEL_DIR, myfunc.EXEC_DIR, myfunc.MET_DIR)\n",
    "\n",
    "# Leer fichero con las muestras\n",
    "df_t = myfunc.read_h5_to_df(DATA_FILE, myfunc.H5_DIR)\n",
    "display(df_t.groupby(\"target\").size())\n",
    "print(\"Shape df:\",df_t.shape)\n",
    "\n",
    "# Separar caracteristicas/genes de las etiquetas/tipos de cáncer\n",
    "X = df_t.iloc[:, :-1]  # Todas las columnas excepto la última\n",
    "y = df_t.iloc[:, -1]  # La última columna contiene los identificadores de los tipos de cáncer\n",
    "\n",
    "#  Crear el conjunto de datos de entrenamiento y de pruebas\n",
    "X_train, X_test, y_train, y_test = train_test_split(X, y, test_size=0.2, shuffle=True, random_state=SEMILLA)\n",
    "print(\"Shape X_train:\",X_train.shape)\n",
    "print(\"Shape X_test:\",X_test.shape)\n"
   ]
  },
  {
   "cell_type": "markdown",
   "id": "d467c746",
   "metadata": {
    "papermill": {
     "duration": 0.002754,
     "end_time": "2023-10-27T23:24:29.110499",
     "exception": false,
     "start_time": "2023-10-27T23:24:29.107745",
     "status": "completed"
    },
    "tags": []
   },
   "source": [
    "#### Selección de características y clasificación."
   ]
  },
  {
   "cell_type": "code",
   "execution_count": 7,
   "id": "22d79d65",
   "metadata": {
    "execution": {
     "iopub.execute_input": "2023-10-27T23:24:29.116934Z",
     "iopub.status.busy": "2023-10-27T23:24:29.116760Z",
     "iopub.status.idle": "2023-10-27T23:24:33.202509Z",
     "shell.execute_reply": "2023-10-27T23:24:33.201812Z"
    },
    "papermill": {
     "duration": 4.090677,
     "end_time": "2023-10-27T23:24:33.203938",
     "exception": false,
     "start_time": "2023-10-27T23:24:29.113261",
     "status": "completed"
    },
    "tags": []
   },
   "outputs": [
    {
     "name": "stdout",
     "output_type": "stream",
     "text": [
      "20231028T012429 : amilcar22 : INFO : Iniciando entrenamiento\n",
      "num_iter: 1 , max_iter: 1\n"
     ]
    },
    {
     "name": "stdout",
     "output_type": "stream",
     "text": [
      "Fitting 5 folds for each of 1 candidates, totalling 5 fits\n"
     ]
    },
    {
     "name": "stdout",
     "output_type": "stream",
     "text": [
      "Mejores Hiperparámetros: {'selector__max_features': 200, 'selector__estimator__n_estimators': 100, 'clasifier__kernel': 'rbf', 'clasifier__gamma': 0.01, 'clasifier__C': 10}\n",
      "Mejor Puntuación: 0.7986\n",
      "20231028T012433 : amilcar22 : INFO : Fin entrenamiento\n"
     ]
    }
   ],
   "source": [
    "myfunc.verbose(\"Iniciando entrenamiento\")\n",
    "\n",
    "kf = KFold(n_splits=5, shuffle=True, random_state=SEMILLA)\n",
    "\n",
    "# Crear el pipeline para el flujo de tareas\n",
    "tasks_pipeline = Pipeline([\n",
    "    ('selector', algor_selector),\n",
    "    ('clasifier', algor_clasifier)\n",
    "])\n",
    "\n",
    "# MAX_ITERS puede limitar el número de iteraciones si son excesivas para las combinaciones de parámetros buscando un óptimo local, \n",
    "# sino funcionaría como GridSearchCV al revisar todas las cominaciones de los parámetros\n",
    "num_iteraciones = 1\n",
    "num_iteraciones = num_iteraciones * np.prod([len(elemento1) for _, elemento1 in param_distributions.items()])\n",
    "max_iteraciones = num_iteraciones if num_iteraciones <= MAX_ITERS else MAX_ITERS\n",
    "print(\"num_iter:\",num_iteraciones,\", max_iter:\",max_iteraciones)\n",
    "\n",
    "random_search = RandomizedSearchCV(\n",
    "    tasks_pipeline, \n",
    "    param_distributions, \n",
    "    n_iter=max_iteraciones,\n",
    "    scoring=SCORING,\n",
    "    cv=kf,\n",
    "    verbose=3, \n",
    "    random_state=SEMILLA, \n",
    "    n_jobs=-1\n",
    "    )\n",
    "\n",
    "# Entrenar el modelo\n",
    "random_search.fit(X_train, y_train)\n",
    "\n",
    "# Ver los mejores hiperparámetros encontrados\n",
    "print(f'Mejores Hiperparámetros: {random_search.best_params_}')\n",
    "print(f'Mejor Puntuación: {random_search.best_score_:.4f}')\n",
    "\n",
    "# Nos quedamos con el mejor modelo para ver las métricas\n",
    "mejor_modelo = random_search.best_estimator_\n",
    "\n",
    "myfunc.verbose(\"Fin entrenamiento\")"
   ]
  },
  {
   "cell_type": "markdown",
   "id": "a809221f",
   "metadata": {
    "papermill": {
     "duration": 0.002956,
     "end_time": "2023-10-27T23:24:33.210372",
     "exception": false,
     "start_time": "2023-10-27T23:24:33.207416",
     "status": "completed"
    },
    "tags": []
   },
   "source": [
    "#### Guardar modelo"
   ]
  },
  {
   "cell_type": "code",
   "execution_count": 8,
   "id": "7b049555",
   "metadata": {
    "execution": {
     "iopub.execute_input": "2023-10-27T23:24:33.217155Z",
     "iopub.status.busy": "2023-10-27T23:24:33.216972Z",
     "iopub.status.idle": "2023-10-27T23:24:33.258066Z",
     "shell.execute_reply": "2023-10-27T23:24:33.257535Z"
    },
    "papermill": {
     "duration": 0.046155,
     "end_time": "2023-10-27T23:24:33.259455",
     "exception": false,
     "start_time": "2023-10-27T23:24:33.213300",
     "status": "completed"
    },
    "tags": []
   },
   "outputs": [
    {
     "name": "stdout",
     "output_type": "stream",
     "text": [
      "20231028T012433 : amilcar22 : INFO : Inicio guardar fichero ../tfm_git/ejecuciones/modelos/modelo_0042_mul_s_RF_SVM.pkl\n",
      "20231028T012433 : amilcar22 : INFO : Fin guardar fichero ../tfm_git/ejecuciones/modelos/modelo_0042_mul_s_RF_SVM.pkl\n"
     ]
    }
   ],
   "source": [
    "fichero_modelo = str.replace(\"modelo_\"+str(SEMILLA).zfill(4)+\"_\"+M_TIPO+\"_\"+M_SELECT+\"_\"+M_CLASIF+\".pkl\", \" \", \"_\")\n",
    "\n",
    "myfunc.save_modelo(mejor_modelo, myfunc.MODEL_DIR, fichero_modelo)"
   ]
  },
  {
   "cell_type": "markdown",
   "id": "789480f6",
   "metadata": {
    "papermill": {
     "duration": 0.003349,
     "end_time": "2023-10-27T23:24:33.266075",
     "exception": false,
     "start_time": "2023-10-27T23:24:33.262726",
     "status": "completed"
    },
    "tags": []
   },
   "source": [
    "#### Ver resultados del las iteraciones hechas por RandomSearchCV"
   ]
  },
  {
   "cell_type": "code",
   "execution_count": 9,
   "id": "8eda115e",
   "metadata": {
    "execution": {
     "iopub.execute_input": "2023-10-27T23:24:33.272863Z",
     "iopub.status.busy": "2023-10-27T23:24:33.272641Z",
     "iopub.status.idle": "2023-10-27T23:24:33.278413Z",
     "shell.execute_reply": "2023-10-27T23:24:33.277946Z"
    },
    "papermill": {
     "duration": 0.01066,
     "end_time": "2023-10-27T23:24:33.279707",
     "exception": false,
     "start_time": "2023-10-27T23:24:33.269047",
     "status": "completed"
    },
    "tags": []
   },
   "outputs": [
    {
     "name": "stdout",
     "output_type": "stream",
     "text": [
      "20231028T012433 : amilcar22 : INFO : Inicio ver resultados\n",
      "Mejores Hiperparámetros: {'selector__max_features': 200, 'selector__estimator__n_estimators': 100, 'clasifier__kernel': 'rbf', 'clasifier__gamma': 0.01, 'clasifier__C': 10}\n",
      "Mejores puntuaciones: 0.7986 | Params: {'selector__max_features': 200, 'selector__estimator__n_estimators': 100, 'clasifier__kernel': 'rbf', 'clasifier__gamma': 0.01, 'clasifier__C': 10}\n",
      "Media de las puntuaciones: 0.7986 | Params: {'selector__max_features': 200, 'selector__estimator__n_estimators': 100, 'clasifier__kernel': 'rbf', 'clasifier__gamma': 0.01, 'clasifier__C': 10}\n",
      "20231028T012433 : amilcar22 : INFO : Fin resultados\n"
     ]
    }
   ],
   "source": [
    "myfunc.ver_resultados_search(random_search)"
   ]
  },
  {
   "cell_type": "markdown",
   "id": "885921ad",
   "metadata": {
    "papermill": {
     "duration": 0.003231,
     "end_time": "2023-10-27T23:24:33.286287",
     "exception": false,
     "start_time": "2023-10-27T23:24:33.283056",
     "status": "completed"
    },
    "tags": []
   },
   "source": [
    "#### Ver métricas del mejor modelo"
   ]
  },
  {
   "cell_type": "code",
   "execution_count": 10,
   "id": "cadd7de0",
   "metadata": {
    "execution": {
     "iopub.execute_input": "2023-10-27T23:24:33.293577Z",
     "iopub.status.busy": "2023-10-27T23:24:33.293395Z",
     "iopub.status.idle": "2023-10-27T23:24:33.949084Z",
     "shell.execute_reply": "2023-10-27T23:24:33.948545Z"
    },
    "papermill": {
     "duration": 0.660903,
     "end_time": "2023-10-27T23:24:33.950509",
     "exception": false,
     "start_time": "2023-10-27T23:24:33.289606",
     "status": "completed"
    },
    "tags": []
   },
   "outputs": [
    {
     "name": "stdout",
     "output_type": "stream",
     "text": [
      "20231028T012433 : amilcar22 : INFO : Inicio ver métricas multiclase\n"
     ]
    },
    {
     "name": "stdout",
     "output_type": "stream",
     "text": [
      "              precision    recall  f1-score   support\n",
      "\n",
      "           0       0.60      0.27      0.37        11\n",
      "           1       0.83      0.62      0.71         8\n",
      "           2       0.20      0.12      0.15         8\n",
      "           3       0.14      0.20      0.17         5\n",
      "           4       0.50      0.75      0.60         8\n",
      "           5       0.80      0.67      0.73         6\n",
      "           6       0.33      0.67      0.44         6\n",
      "\n",
      "    accuracy                           0.46        52\n",
      "   macro avg       0.49      0.47      0.45        52\n",
      "weighted avg       0.51      0.46      0.46        52\n",
      "\n",
      "\n",
      "\n",
      "           Exactitud: 0.461538\n",
      "   Precisión (media): 0.487075\n",
      "      Recall (media): 0.472294\n",
      "    F1-score (media): 0.454502\n",
      "\n",
      "\n",
      "AUC para el tipo de cáncer 0-Control.... 0.6297\n",
      "AUC para el tipo de cáncer 1-Bladder.... 0.7159\n",
      "AUC para el tipo de cáncer 2-Breast..... 0.6477\n",
      "AUC para el tipo de cáncer 3-Colorectal. 0.7319\n",
      "AUC para el tipo de cáncer 4-Kidney..... 0.9716\n",
      "AUC para el tipo de cáncer 5-Lung....... 0.8297\n",
      "AUC para el tipo de cáncer 6-Prostate... 0.7681\n",
      "\n",
      "Media de AUC: 0.7564\n"
     ]
    },
    {
     "data": {
      "image/png": "[encoded data removed]",
      "text/plain": [
       "<Figure size 1000x600 with 1 Axes>"
      ]
     },
     "metadata": {},
     "output_type": "display_data"
    },
    {
     "name": "stdout",
     "output_type": "stream",
     "text": [
      "\n",
      "\n"
     ]
    },
    {
     "data": {
      "image/png": "[encoded data removed]",
      "text/plain": [
       "<Figure size 800x400 with 2 Axes>"
      ]
     },
     "metadata": {},
     "output_type": "display_data"
    },
    {
     "name": "stdout",
     "output_type": "stream",
     "text": [
      "\n",
      "\n",
      "Puntuación Jaccard para el cáncer tipo 0-Control.... 0.2308\n",
      "Puntuación Jaccard para el cáncer tipo 1-Bladder.... 0.5556\n",
      "Puntuación Jaccard para el cáncer tipo 2-Breast..... 0.0833\n",
      "Puntuación Jaccard para el cáncer tipo 3-Colorectal. 0.0909\n",
      "Puntuación Jaccard para el cáncer tipo 4-Kidney..... 0.4286\n",
      "Puntuación Jaccard para el cáncer tipo 5-Lung....... 0.5714\n",
      "Puntuación Jaccard para el cáncer tipo 6-Prostate... 0.2857\n",
      "\n",
      "Media de la puntuación de Jaccard: 0.3209\n"
     ]
    }
   ],
   "source": [
    "if M_TIPO.startswith(\"bin\"):\n",
    "    myfunc.ver_metricas(mejor_modelo, X_test, y_test)\n",
    "else:\n",
    "    myfunc.ver_metricas_multi(mejor_modelo, X_test, y_test)\n"
   ]
  },
  {
   "cell_type": "markdown",
   "id": "c9514f44",
   "metadata": {
    "papermill": {
     "duration": 0.004147,
     "end_time": "2023-10-27T23:24:33.959394",
     "exception": false,
     "start_time": "2023-10-27T23:24:33.955247",
     "status": "completed"
    },
    "tags": []
   },
   "source": [
    "#### Finalización del notebook"
   ]
  },
  {
   "cell_type": "code",
   "execution_count": 11,
   "id": "1945c638",
   "metadata": {
    "execution": {
     "iopub.execute_input": "2023-10-27T23:24:33.968492Z",
     "iopub.status.busy": "2023-10-27T23:24:33.968294Z",
     "iopub.status.idle": "2023-10-27T23:24:33.971612Z",
     "shell.execute_reply": "2023-10-27T23:24:33.971172Z"
    },
    "papermill": {
     "duration": 0.009248,
     "end_time": "2023-10-27T23:24:33.972790",
     "exception": false,
     "start_time": "2023-10-27T23:24:33.963542",
     "status": "completed"
    },
    "tags": []
   },
   "outputs": [
    {
     "name": "stdout",
     "output_type": "stream",
     "text": [
      "20231028T012433 : amilcar22 : INFO : Notebook ha tardado 4 seconds\n"
     ]
    }
   ],
   "source": [
    "end_time = datetime.datetime.now()\n",
    "total_time = end_time - start_time\n",
    "myfunc.verbose(f\"Notebook ha tardado {total_time.seconds} seconds\")"
   ]
  },
  {
   "cell_type": "markdown",
   "id": "f2155722",
   "metadata": {
    "papermill": {
     "duration": 0.004098,
     "end_time": "2023-10-27T23:24:33.981282",
     "exception": false,
     "start_time": "2023-10-27T23:24:33.977184",
     "status": "completed"
    },
    "tags": []
   },
   "source": [
    "#### Guardar métricas"
   ]
  },
  {
   "cell_type": "code",
   "execution_count": 12,
   "id": "fcc57386",
   "metadata": {
    "execution": {
     "iopub.execute_input": "2023-10-27T23:24:33.990342Z",
     "iopub.status.busy": "2023-10-27T23:24:33.990160Z",
     "iopub.status.idle": "2023-10-27T23:24:34.303207Z",
     "shell.execute_reply": "2023-10-27T23:24:34.302717Z"
    },
    "papermill": {
     "duration": 0.31911,
     "end_time": "2023-10-27T23:24:34.304559",
     "exception": false,
     "start_time": "2023-10-27T23:24:33.985449",
     "status": "completed"
    },
    "tags": []
   },
   "outputs": [
    {
     "name": "stdout",
     "output_type": "stream",
     "text": [
      "20231028T012434 : amilcar22 : INFO : Inicio guardar métricas multiclase\n",
      "20231028T012434 : amilcar22 : INFO : Inicio leer fichero ../tfm_git/ejecuciones/metricas/metricas_0042.csv\n",
      "20231028T012434 : amilcar22 : INFO : Fin leer fichero ../tfm_git/ejecuciones/metricas/metricas_0042.csv\n"
     ]
    },
    {
     "name": "stdout",
     "output_type": "stream",
     "text": [
      "20231028T012434 : amilcar22 : INFO : Inicio guardar fichero ../tfm_git/ejecuciones/metricas/metricas_0042.csv\n",
      "20231028T012434 : amilcar22 : INFO : Fichero borrado ../tfm_git/ejecuciones/metricas/metricas_0042.csv\n",
      "20231028T012434 : amilcar22 : INFO : Fin guardar fichero ../tfm_git/ejecuciones/metricas/metricas_0042.csv\n",
      "20231028T012434 : amilcar22 : INFO : Fin guardar métricas multiclase\n",
      "20231028T012434 : amilcar22 : INFO : Inicio leer fichero ../tfm_git/ejecuciones/metricas/metricas_0042.csv\n",
      "20231028T012434 : amilcar22 : INFO : Fin leer fichero ../tfm_git/ejecuciones/metricas/metricas_0042.csv\n"
     ]
    },
    {
     "data": {
      "text/html": [
       "<div>\n",
       "<style scoped>\n",
       "    .dataframe tbody tr th:only-of-type {\n",
       "        vertical-align: middle;\n",
       "    }\n",
       "\n",
       "    .dataframe tbody tr th {\n",
       "        vertical-align: top;\n",
       "    }\n",
       "\n",
       "    .dataframe thead th {\n",
       "        text-align: right;\n",
       "    }\n",
       "</style>\n",
       "<table border=\"1\" class=\"dataframe\">\n",
       "  <thead>\n",
       "    <tr style=\"text-align: right;\">\n",
       "      <th></th>\n",
       "      <th>tipo</th>\n",
       "      <th>select</th>\n",
       "      <th>clasific</th>\n",
       "      <th>accuracy</th>\n",
       "      <th>precision</th>\n",
       "      <th>recall</th>\n",
       "      <th>f1_score</th>\n",
       "      <th>roc_auc</th>\n",
       "      <th>roc_auc_ovr</th>\n",
       "      <th>hostname</th>\n",
       "      <th>total_time_sec</th>\n",
       "      <th>datetime</th>\n",
       "      <th>fichero_modelo</th>\n",
       "      <th>params</th>\n",
       "      <th>shape</th>\n",
       "      <th>features</th>\n",
       "      <th>semilla</th>\n",
       "      <th>indices_auc</th>\n",
       "      <th>indices_jaccard</th>\n",
       "    </tr>\n",
       "  </thead>\n",
       "  <tbody>\n",
       "    <tr>\n",
       "      <th>0</th>\n",
       "      <td>mul_s</td>\n",
       "      <td>RF</td>\n",
       "      <td>SVM</td>\n",
       "      <td>0.461538</td>\n",
       "      <td>0.487075</td>\n",
       "      <td>0.472294</td>\n",
       "      <td>0.454502</td>\n",
       "      <td>NaN</td>\n",
       "      <td>0.756383</td>\n",
       "      <td>amilcar22</td>\n",
       "      <td>4</td>\n",
       "      <td>2023-10-28 01:24:34.253268</td>\n",
       "      <td>modelo_0042_mul_s_RF_SVM.pkl</td>\n",
       "      <td>{'selector__max_features': 200, 'selector__est...</td>\n",
       "      <td>X_test:(52, 18875)</td>\n",
       "      <td>['ENSG00000002587.10', 'ENSG00000011422.12', '...</td>\n",
       "      <td>42.0</td>\n",
       "      <td>[0.6297117516629711, 0.7159090909090908, 0.647...</td>\n",
       "      <td>[0.23076923076923078, 0.5555555555555556, 0.08...</td>\n",
       "    </tr>\n",
       "    <tr>\n",
       "      <th>0</th>\n",
       "      <td>mul_s</td>\n",
       "      <td>RF</td>\n",
       "      <td>RF</td>\n",
       "      <td>0.442308</td>\n",
       "      <td>0.445408</td>\n",
       "      <td>0.447511</td>\n",
       "      <td>0.418123</td>\n",
       "      <td>NaN</td>\n",
       "      <td>0.765455</td>\n",
       "      <td>amilcar22</td>\n",
       "      <td>24</td>\n",
       "      <td>2023-10-28 01:24:22.892897</td>\n",
       "      <td>modelo_0042_mul_s_RF_RF.pkl</td>\n",
       "      <td>{'selector__max_features': 1000, 'selector__es...</td>\n",
       "      <td>X_test:(52, 18875)</td>\n",
       "      <td>['ENSG00000000938.13', 'ENSG00000001460.18', '...</td>\n",
       "      <td>42.0</td>\n",
       "      <td>[0.4789356984478936, 0.8238636363636365, 0.735...</td>\n",
       "      <td>[0.08333333333333333, 0.36363636363636365, 0.3...</td>\n",
       "    </tr>\n",
       "    <tr>\n",
       "      <th>0</th>\n",
       "      <td>mul_s</td>\n",
       "      <td>RF</td>\n",
       "      <td>LR_L2</td>\n",
       "      <td>0.461538</td>\n",
       "      <td>0.479592</td>\n",
       "      <td>0.461472</td>\n",
       "      <td>0.455955</td>\n",
       "      <td>NaN</td>\n",
       "      <td>0.822704</td>\n",
       "      <td>amilcar22</td>\n",
       "      <td>17</td>\n",
       "      <td>2023-10-28 01:23:51.825485</td>\n",
       "      <td>modelo_0042_mul_s_RF_LR_L2.pkl</td>\n",
       "      <td>{'selector__max_features': 500, 'selector__est...</td>\n",
       "      <td>X_test:(52, 18875)</td>\n",
       "      <td>['ENSG00000002587.10', 'ENSG00000002919.15', '...</td>\n",
       "      <td>42.0</td>\n",
       "      <td>[0.7450110864745011, 0.8238636363636364, 0.752...</td>\n",
       "      <td>[0.26666666666666666, 0.5, 0.07692307692307693...</td>\n",
       "    </tr>\n",
       "  </tbody>\n",
       "</table>\n",
       "</div>"
      ],
      "text/plain": [
       "    tipo select clasific  accuracy  precision    recall  f1_score  roc_auc  \\\n",
       "0  mul_s     RF      SVM  0.461538   0.487075  0.472294  0.454502      NaN   \n",
       "0  mul_s     RF       RF  0.442308   0.445408  0.447511  0.418123      NaN   \n",
       "0  mul_s     RF    LR_L2  0.461538   0.479592  0.461472  0.455955      NaN   \n",
       "\n",
       "   roc_auc_ovr   hostname  total_time_sec                    datetime  \\\n",
       "0     0.756383  amilcar22               4  2023-10-28 01:24:34.253268   \n",
       "0     0.765455  amilcar22              24  2023-10-28 01:24:22.892897   \n",
       "0     0.822704  amilcar22              17  2023-10-28 01:23:51.825485   \n",
       "\n",
       "                   fichero_modelo  \\\n",
       "0    modelo_0042_mul_s_RF_SVM.pkl   \n",
       "0     modelo_0042_mul_s_RF_RF.pkl   \n",
       "0  modelo_0042_mul_s_RF_LR_L2.pkl   \n",
       "\n",
       "                                              params               shape  \\\n",
       "0  {'selector__max_features': 200, 'selector__est...  X_test:(52, 18875)   \n",
       "0  {'selector__max_features': 1000, 'selector__es...  X_test:(52, 18875)   \n",
       "0  {'selector__max_features': 500, 'selector__est...  X_test:(52, 18875)   \n",
       "\n",
       "                                            features  semilla  \\\n",
       "0  ['ENSG00000002587.10', 'ENSG00000011422.12', '...     42.0   \n",
       "0  ['ENSG00000000938.13', 'ENSG00000001460.18', '...     42.0   \n",
       "0  ['ENSG00000002587.10', 'ENSG00000002919.15', '...     42.0   \n",
       "\n",
       "                                         indices_auc  \\\n",
       "0  [0.6297117516629711, 0.7159090909090908, 0.647...   \n",
       "0  [0.4789356984478936, 0.8238636363636365, 0.735...   \n",
       "0  [0.7450110864745011, 0.8238636363636364, 0.752...   \n",
       "\n",
       "                                     indices_jaccard  \n",
       "0  [0.23076923076923078, 0.5555555555555556, 0.08...  \n",
       "0  [0.08333333333333333, 0.36363636363636365, 0.3...  \n",
       "0  [0.26666666666666666, 0.5, 0.07692307692307693...  "
      ]
     },
     "metadata": {},
     "output_type": "display_data"
    }
   ],
   "source": [
    "if M_TIPO.startswith(\"bin\"):\n",
    "    myfunc.save_metricas_to_csv(random_search, X_test, y_test, M_TIPO, M_SELECT, M_CLASIF, total_time, SEMILLA, myfunc.MET_DIR, M_FICHERO, fichero_modelo)\n",
    "else:\n",
    "    myfunc.save_metricas_multi_to_csv(random_search, X_test, y_test, M_TIPO, M_SELECT, M_CLASIF, total_time, SEMILLA, myfunc.MET_DIR, M_FICHERO, fichero_modelo)\n",
    "\n",
    "df1=myfunc.read_metricas_to_df(myfunc.MET_DIR,M_FICHERO)\n",
    "\n",
    "display(df1.sort_values(\"datetime\", ascending=False)[:3])\n"
   ]
  },
  {
   "cell_type": "markdown",
   "id": "35f3d568",
   "metadata": {
    "papermill": {
     "duration": 0.004391,
     "end_time": "2023-10-27T23:24:34.314004",
     "exception": false,
     "start_time": "2023-10-27T23:24:34.309613",
     "status": "completed"
    },
    "tags": []
   },
   "source": [
    "#### Guardar resultados"
   ]
  },
  {
   "cell_type": "code",
   "execution_count": 13,
   "id": "28b3af0b",
   "metadata": {
    "execution": {
     "iopub.execute_input": "2023-10-27T23:24:34.323566Z",
     "iopub.status.busy": "2023-10-27T23:24:34.323349Z",
     "iopub.status.idle": "2023-10-27T23:24:34.332161Z",
     "shell.execute_reply": "2023-10-27T23:24:34.331599Z"
    },
    "papermill": {
     "duration": 0.015097,
     "end_time": "2023-10-27T23:24:34.333474",
     "exception": false,
     "start_time": "2023-10-27T23:24:34.318377",
     "status": "completed"
    },
    "tags": []
   },
   "outputs": [
    {
     "name": "stdout",
     "output_type": "stream",
     "text": [
      "20231028T012434 : amilcar22 : INFO : Inicio guardar resultados\n",
      "20231028T012434 : amilcar22 : INFO : Inicio guardar fichero ../tfm_git/ejecuciones/metricas/resultados_0042_mul_s-RF-SVM.csv\n",
      "20231028T012434 : amilcar22 : INFO : Fin guardar fichero ../tfm_git/ejecuciones/metricas/resultados_0042_mul_s-RF-SVM.csv\n",
      "20231028T012434 : amilcar22 : INFO : Fin guardar resultados\n"
     ]
    }
   ],
   "source": [
    "fichero_resultados=R_FICHERO+\"_\"+M_TIPO+\"-\"+M_SELECT+\"-\"+M_CLASIF+\".csv\"\n",
    "myfunc.save_resultados_to_csv(M_TIPO, M_SELECT, M_CLASIF,  random_search, myfunc.MET_DIR, fichero_resultados)\n"
   ]
  }
 ],
 "metadata": {
  "kernelspec": {
   "display_name": "Python 3 (ipykernel)",
   "language": "python",
   "name": "python3"
  },
  "language_info": {
   "codemirror_mode": {
    "name": "ipython",
    "version": 3
   },
   "file_extension": ".py",
   "mimetype": "text/x-python",
   "name": "python",
   "nbconvert_exporter": "python",
   "pygments_lexer": "ipython3",
   "version": "3.10.12"
  },
  "papermill": {
   "default_parameters": {},
   "duration": 9.859686,
   "end_time": "2023-10-27T23:24:36.956772",
   "environment_variables": {},
   "exception": null,
   "input_path": "03_entrenamiento.ipynb",
   "output_path": "ejecuciones/training/03_entrenamiento.20231028T012426.param_0000_0042_mul_s_RF_SVM.output.ipynb",
   "parameters": {
    "MAX_ITERS": 500,
    "M_CLASIF": "SVM",
    "M_FICHERO": "metricas_0042",
    "M_SELECT": "RF",
    "M_TIPO": "mul_s",
    "PRE_DATA_FILE": "rows_transpose_norm_by_gene_id_with_target_num_",
    "P_FICHERO": "param_0000_0042_mul_s_RF_SVM.yaml",
    "R_FICHERO": "resultados_0042",
    "SCORING": "roc_auc_ovr",
    "SEMILLA": 42,
    "eval_clasifier": "SVC(probability=True, random_state=SEMILLA)",
    "eval_selector": "SelectFromModel(estimator=RandomForestClassifier(random_state=SEMILLA), threshold=-np.inf)",
    "param_distributions": {
     "clasifier__C": [
      10
     ],
     "clasifier__gamma": [
      0.01
     ],
     "clasifier__kernel": [
      "rbf"
     ],
     "selector__estimator__n_estimators": [
      100
     ],
     "selector__max_features": [
      200
     ]
    }
   },
   "start_time": "2023-10-27T23:24:27.097086",
   "version": "2.4.0"
  }
 },
 "nbformat": 4,
 "nbformat_minor": 5
}