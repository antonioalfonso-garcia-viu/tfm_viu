{
 "cells": [
  {
   "cell_type": "markdown",
   "id": "3952afc2",
   "metadata": {
    "papermill": {
     "duration": 0.005351,
     "end_time": "2023-10-29T23:32:35.780681",
     "exception": false,
     "start_time": "2023-10-29T23:32:35.775330",
     "status": "completed"
    },
    "tags": []
   },
   "source": [
    "##### Inicio"
   ]
  },
  {
   "cell_type": "markdown",
   "id": "ccf75e2b",
   "metadata": {
    "papermill": {
     "duration": 0.003381,
     "end_time": "2023-10-29T23:32:35.787756",
     "exception": false,
     "start_time": "2023-10-29T23:32:35.784375",
     "status": "completed"
    },
    "tags": []
   },
   "source": [
    "#### Carga de datos"
   ]
  },
  {
   "cell_type": "code",
   "execution_count": 1,
   "id": "95f76875",
   "metadata": {
    "execution": {
     "iopub.execute_input": "2023-10-29T23:32:35.795816Z",
     "iopub.status.busy": "2023-10-29T23:32:35.795315Z",
     "iopub.status.idle": "2023-10-29T23:32:36.911891Z",
     "shell.execute_reply": "2023-10-29T23:32:36.911243Z"
    },
    "papermill": {
     "duration": 1.122267,
     "end_time": "2023-10-29T23:32:36.913357",
     "exception": false,
     "start_time": "2023-10-29T23:32:35.791090",
     "status": "completed"
    },
    "tags": []
   },
   "outputs": [
    {
     "name": "stdout",
     "output_type": "stream",
     "text": [
      "CPU_COUNT: 16; NODE: enderlab; sys.version: 3.10.11 (main, May 16 2023, 00:28:57) [GCC 11.2.0]\n",
      "LOKY_MAX_CPU_COUNT is not set.\n",
      "OMP_NUM_THREADS is not set.\n"
     ]
    }
   ],
   "source": [
    "import os\n",
    "import numpy as np\n",
    "import pandas as pd\n",
    "import datetime\n",
    "import sklearn\n",
    "import logging\n",
    "import warnings\n",
    "\n",
    "from sklearn.pipeline import Pipeline\n",
    "from sklearn.model_selection import RandomizedSearchCV, KFold, cross_val_score, train_test_split\n",
    "from sklearn.metrics import accuracy_score, confusion_matrix, classification_report, roc_auc_score\n",
    "\n",
    "#  cargar algoritmos para aprendizaje supervisado\n",
    "from sklearn.feature_selection import SelectKBest, f_classif, SelectFromModel, mutual_info_classif\n",
    "from sklearn.svm import SVC\n",
    "from sklearn.ensemble import RandomForestClassifier\n",
    "from sklearn.linear_model import LogisticRegression,LogisticRegressionCV\n",
    "\n",
    "# importar fichero con utilidades propias\n",
    "from commons import myfunctions as myfunc\n"
   ]
  },
  {
   "cell_type": "markdown",
   "id": "8d77556f",
   "metadata": {
    "papermill": {
     "duration": 0.003603,
     "end_time": "2023-10-29T23:32:36.921033",
     "exception": false,
     "start_time": "2023-10-29T23:32:36.917430",
     "status": "completed"
    },
    "tags": []
   },
   "source": [
    "#### Parámetros a utilizar en el entrenamiento.\n",
    "\n",
    "Se indican los 3 algoritmos de *selección de características* (eval_selector_xxx) y los 3 algoritmos para la _clasificación_ (eval_clasifier_xxx)\n",
    "\n",
    "En *param_distributions* se indicar los parámetros que utilizan los algoritmos en la función RandomSearchCV.\n",
    "\n",
    "Esta celda tiene la etiqueta **parameters** que servirá para poder lanzar los entrenamientos con la utilidad **papermill** pasándole un fichero con los parámetros. Los nuevos parámetros se situarán tras esta celda para tener prevalencia."
   ]
  },
  {
   "cell_type": "code",
   "execution_count": 2,
   "id": "eed22c0c",
   "metadata": {
    "execution": {
     "iopub.execute_input": "2023-10-29T23:32:36.929200Z",
     "iopub.status.busy": "2023-10-29T23:32:36.928862Z",
     "iopub.status.idle": "2023-10-29T23:32:36.937408Z",
     "shell.execute_reply": "2023-10-29T23:32:36.936870Z"
    },
    "papermill": {
     "duration": 0.014192,
     "end_time": "2023-10-29T23:32:36.938651",
     "exception": false,
     "start_time": "2023-10-29T23:32:36.924459",
     "status": "completed"
    },
    "tags": [
     "parameters"
    ]
   },
   "outputs": [
    {
     "name": "stdout",
     "output_type": "stream",
     "text": [
      "20231030T003236 : enderlab : INFO : Utilizando parámetros de mul_m\n"
     ]
    }
   ],
   "source": [
    "#  Parametros para el entrenamiento\n",
    "\n",
    "SEMILLA=        42\n",
    "M_TIPO=         \"mul_m\"\n",
    "M_SELECT=       \"MI\"\n",
    "M_CLASIF=       \"SVM\"\n",
    "R_FICHERO=      \"resultados\"\n",
    "M_FICHERO=      \"metricas\"\n",
    "PRE_DATA_FILE=  \"rows_transpose_norm_by_gene_id_with_target_num_\"\n",
    "SCORING=        \"roc_auc_ovr\" \n",
    "MAX_ITERS=      100\n",
    "\n",
    "def mutual_info_classif_state(X, y):\n",
    "    return mutual_info_classif(X, y, random_state=SEMILLA)\n",
    "\n",
    "eval_selector_mi = \"SelectKBest(score_func=mutual_info_classif_state)\"\n",
    "eval_selector_rf=  \"SelectFromModel(estimator=RandomForestClassifier(random_state=SEMILLA), threshold=-np.inf)\"\n",
    "eval_selector_anova=  \"SelectKBest(score_func=f_classif)\"\n",
    "\n",
    "eval_clasifier_svm= \"SVC(probability=True, random_state=SEMILLA)\"\n",
    "eval_clasifier_rf= \"RandomForestClassifier(random_state=SEMILLA)\"\n",
    "eval_clasifier_lr= \"LogisticRegressionCV(random_state=SEMILLA)\"\n",
    "\n",
    "if M_TIPO.startswith(\"bin_m\"):\n",
    "    myfunc.verbose(f\"Utilizando parámetros de {M_TIPO}\")\n",
    "    eval_selector = eval_selector_mi\n",
    "    eval_clasifier = eval_clasifier_svm\n",
    "\n",
    "    SEMILLA = 6578\n",
    "    M_SELECT = \"MI\"\n",
    "    M_CLASIF = \"SVM\"\n",
    "    param_distributions = {'selector__k': [1000], \n",
    "         'clasifier__kernel': ['rbf'], 'clasifier__gamma': [0.01], 'clasifier__C': [100]}\n",
    "elif M_TIPO.startswith(\"bin_s\"):\n",
    "    myfunc.verbose(f\"Utilizando parámetros de {M_TIPO}\")\n",
    "    eval_selector = eval_selector_rf\n",
    "    eval_clasifier = eval_clasifier_lr\n",
    "\n",
    "    SEMILLA = 6191\n",
    "    M_SELECT = \"RF\"\n",
    "    M_CLASIF = \"LR_L2\"\n",
    "    param_distributions = {'selector__max_features': [1000], 'selector__estimator__n_estimators': [200], \n",
    "        'clasifier__solver': ['lbfgs'], 'clasifier__penalty': ['l2'], 'clasifier__max_iter': [10000]}\n",
    "\n",
    "elif M_TIPO.startswith(\"mul_m\"):\n",
    "    myfunc.verbose(f\"Utilizando parámetros de {M_TIPO}\")\n",
    " \n",
    "    eval_selector = eval_selector_rf\n",
    "    eval_clasifier = eval_clasifier_lr\n",
    "\n",
    "    SEMILLA = 6191\n",
    "    M_SELECT = \"RF\"\n",
    "    M_CLASIF = \"LR_L2\"\n",
    "    param_distributions = {'selector__max_features': [1000], 'selector__estimator__n_estimators': [400], \n",
    "        'clasifier__solver': ['lbfgs'], 'clasifier__penalty': ['l2'], 'clasifier__max_iter': [10000]}\n",
    "\n",
    "else:\n",
    "    # M_TIPO.startswith(\"mul_s\"):\n",
    "    myfunc.verbose(f\"Utilizando parámetros de {M_TIPO}\")\n",
    "    eval_selector = eval_selector_anova\n",
    "    eval_clasifier = eval_clasifier_lr\n",
    "\n",
    "    SEMILLA = 1860\n",
    "    M_SELECT = \"ANOVA\"\n",
    "    M_CLASIF = \"LR_L2\"\n",
    "    param_distributions = {'selector__k': [1000], \n",
    "        'clasifier__solver': ['saga'], 'clasifier__penalty': ['l2'], 'clasifier__max_iter': [10000]}\n",
    "\n"
   ]
  },
  {
   "cell_type": "code",
   "execution_count": 3,
   "id": "c8b415bc",
   "metadata": {
    "execution": {
     "iopub.execute_input": "2023-10-29T23:32:36.947152Z",
     "iopub.status.busy": "2023-10-29T23:32:36.946639Z",
     "iopub.status.idle": "2023-10-29T23:32:36.950738Z",
     "shell.execute_reply": "2023-10-29T23:32:36.950200Z"
    },
    "papermill": {
     "duration": 0.009869,
     "end_time": "2023-10-29T23:32:36.952087",
     "exception": false,
     "start_time": "2023-10-29T23:32:36.942218",
     "status": "completed"
    },
    "tags": [
     "injected-parameters"
    ]
   },
   "outputs": [],
   "source": [
    "# Parameters\n",
    "M_TIPO = \"mul_m\"\n",
    "M_SELECT = \"RF\"\n",
    "M_CLASIF = \"LR_L2\"\n",
    "P_FICHERO = \"param_0000_8270_mul_m_RF_LR_L2.yaml\"\n",
    "R_FICHERO = \"resultados_8270\"\n",
    "M_FICHERO = \"metricas_8270\"\n",
    "PRE_DATA_FILE = \"rows_transpose_norm_by_gene_id_with_target_num_\"\n",
    "SCORING = \"roc_auc_ovr\"\n",
    "SEMILLA = 8270\n",
    "MAX_ITERS = 500\n",
    "eval_selector = \"SelectFromModel(estimator=RandomForestClassifier(random_state=SEMILLA), threshold=-np.inf)\"\n",
    "eval_clasifier = \"LogisticRegressionCV(random_state=SEMILLA)\"\n",
    "param_distributions = {\n",
    "    \"selector__max_features\": [1000],\n",
    "    \"selector__estimator__n_estimators\": [400],\n",
    "    \"clasifier__solver\": [\"lbfgs\"],\n",
    "    \"clasifier__penalty\": [\"l2\"],\n",
    "    \"clasifier__max_iter\": [10000],\n",
    "}\n"
   ]
  },
  {
   "cell_type": "code",
   "execution_count": 4,
   "id": "7497ba19",
   "metadata": {
    "execution": {
     "iopub.execute_input": "2023-10-29T23:32:36.960665Z",
     "iopub.status.busy": "2023-10-29T23:32:36.960191Z",
     "iopub.status.idle": "2023-10-29T23:32:36.963536Z",
     "shell.execute_reply": "2023-10-29T23:32:36.963008Z"
    },
    "papermill": {
     "duration": 0.009067,
     "end_time": "2023-10-29T23:32:36.964769",
     "exception": false,
     "start_time": "2023-10-29T23:32:36.955702",
     "status": "completed"
    },
    "tags": []
   },
   "outputs": [],
   "source": [
    "DATA_FILE = PRE_DATA_FILE + M_TIPO\n",
    "\n",
    "# si viene \"None\" en el parámetro max_depth, se le quitan las comillas para que no sea entendido por el algoritmo como un texto\n",
    "if \"clasifier__max_depth\" in param_distributions:\n",
    "    param_distributions['clasifier__max_depth'] = [None if x == 'None' else x for x in param_distributions['clasifier__max_depth']]"
   ]
  },
  {
   "cell_type": "markdown",
   "id": "aefefe4f",
   "metadata": {
    "papermill": {
     "duration": 0.003828,
     "end_time": "2023-10-29T23:32:36.972119",
     "exception": false,
     "start_time": "2023-10-29T23:32:36.968291",
     "status": "completed"
    },
    "tags": []
   },
   "source": [
    "Asignar los algoritmos que se utilizarán en la función RandomSearchCV"
   ]
  },
  {
   "cell_type": "code",
   "execution_count": 5,
   "id": "b16dd61e",
   "metadata": {
    "execution": {
     "iopub.execute_input": "2023-10-29T23:32:36.980451Z",
     "iopub.status.busy": "2023-10-29T23:32:36.979960Z",
     "iopub.status.idle": "2023-10-29T23:32:36.982963Z",
     "shell.execute_reply": "2023-10-29T23:32:36.982446Z"
    },
    "papermill": {
     "duration": 0.008375,
     "end_time": "2023-10-29T23:32:36.984209",
     "exception": false,
     "start_time": "2023-10-29T23:32:36.975834",
     "status": "completed"
    },
    "tags": []
   },
   "outputs": [],
   "source": [
    "algor_selector=eval(eval_selector)\n",
    "algor_clasifier=eval(eval_clasifier)"
   ]
  },
  {
   "cell_type": "markdown",
   "id": "85846bef",
   "metadata": {
    "papermill": {
     "duration": 0.003631,
     "end_time": "2023-10-29T23:32:36.991364",
     "exception": false,
     "start_time": "2023-10-29T23:32:36.987733",
     "status": "completed"
    },
    "tags": []
   },
   "source": [
    "#### Comprobar el entorno y leer fichero de muestras"
   ]
  },
  {
   "cell_type": "code",
   "execution_count": 6,
   "id": "4caffc96",
   "metadata": {
    "execution": {
     "iopub.execute_input": "2023-10-29T23:32:36.999568Z",
     "iopub.status.busy": "2023-10-29T23:32:36.999164Z",
     "iopub.status.idle": "2023-10-29T23:32:37.241092Z",
     "shell.execute_reply": "2023-10-29T23:32:37.240467Z"
    },
    "papermill": {
     "duration": 0.247491,
     "end_time": "2023-10-29T23:32:37.242435",
     "exception": false,
     "start_time": "2023-10-29T23:32:36.994944",
     "status": "completed"
    },
    "tags": []
   },
   "outputs": [
    {
     "name": "stdout",
     "output_type": "stream",
     "text": [
      "20231030T003237 : enderlab : INFO : Encontrada carpeta DATA_DIR=../tfm_git/datos\n",
      "20231030T003237 : enderlab : INFO : Encontrada carpeta CFDNA_DIR=../tfm_git/datos/cfDNA_5hmC\n",
      "20231030T003237 : enderlab : INFO : Encontrada carpeta GENCODE_DIR=../tfm_git/datos/gencode\n",
      "20231030T003237 : enderlab : INFO : Encontrada carpeta H5_DIR=../tfm_git/datos/h5\n",
      "20231030T003237 : enderlab : INFO : Encontrada carpeta LOG_DIR=../tfm_git/datos/logs\n",
      "20231030T003237 : enderlab : INFO : Encontrada carpeta CSV_DIR=../tfm_git/datos/csv\n",
      "20231030T003237 : enderlab : INFO : Encontrada carpeta MODEL_DIR=../tfm_git/ejecuciones/modelos\n",
      "20231030T003237 : enderlab : INFO : Encontrada carpeta EXEC_DIR=../tfm_git/ejecuciones\n",
      "20231030T003237 : enderlab : INFO : Encontrada carpeta MET_DIR=../tfm_git/ejecuciones/metricas\n",
      "20231030T003237 : enderlab : INFO : Inicio leer fichero h5 ../tfm_git/datos/h5/rows_transpose_norm_by_gene_id_with_target_num_mul_m.h5\n",
      "20231030T003237 : enderlab : INFO : Leyendo clave /df\n"
     ]
    },
    {
     "name": "stdout",
     "output_type": "stream",
     "text": [
      "20231030T003237 : enderlab : INFO : Tamaño (434, 18876)\n",
      "20231030T003237 : enderlab : INFO : Fin leer fichero h5 ../tfm_git/datos/h5/rows_transpose_norm_by_gene_id_with_target_num_mul_m.h5\n"
     ]
    },
    {
     "data": {
      "text/plain": [
       "target\n",
       "0    62\n",
       "1    62\n",
       "2    62\n",
       "3    62\n",
       "4    62\n",
       "5    62\n",
       "6    62\n",
       "dtype: int64"
      ]
     },
     "metadata": {},
     "output_type": "display_data"
    },
    {
     "name": "stdout",
     "output_type": "stream",
     "text": [
      "Shape df: (434, 18876)\n"
     ]
    },
    {
     "name": "stdout",
     "output_type": "stream",
     "text": [
      "Shape X_train: (347, 18875)\n",
      "Shape X_test: (87, 18875)\n"
     ]
    }
   ],
   "source": [
    "start_time = datetime.datetime.now()\n",
    "\n",
    "myfunc.reset_vars()\n",
    "\n",
    "myfunc.NOTEBK_FILENAME = myfunc.get_nb_name()\n",
    "\n",
    "myfunc.check_enviroment(myfunc.DATA_DIR, myfunc.CFDNA_DIR, myfunc.GENCODE_DIR, myfunc.H5_DIR, myfunc.LOG_DIR, myfunc.CSV_DIR, myfunc.MODEL_DIR, myfunc.EXEC_DIR, myfunc.MET_DIR)\n",
    "\n",
    "# Leer fichero con las muestras\n",
    "df_t = myfunc.read_h5_to_df(DATA_FILE, myfunc.H5_DIR)\n",
    "display(df_t.groupby(\"target\").size())\n",
    "print(\"Shape df:\",df_t.shape)\n",
    "\n",
    "# Separar caracteristicas/genes de las etiquetas/tipos de cáncer\n",
    "X = df_t.iloc[:, :-1]  # Todas las columnas excepto la última\n",
    "y = df_t.iloc[:, -1]  # La última columna contiene los identificadores de los tipos de cáncer\n",
    "\n",
    "#  Crear el conjunto de datos de entrenamiento y de pruebas, y se fija la semilla para siempre coger el mismo juego de muestras\n",
    "X_train, X_test, y_train, y_test = train_test_split(X, y, test_size=0.2, shuffle=True, random_state=42)\n",
    "print(\"Shape X_train:\",X_train.shape)\n",
    "print(\"Shape X_test:\",X_test.shape)\n"
   ]
  },
  {
   "cell_type": "markdown",
   "id": "41ee55da",
   "metadata": {
    "papermill": {
     "duration": 0.004032,
     "end_time": "2023-10-29T23:32:37.251077",
     "exception": false,
     "start_time": "2023-10-29T23:32:37.247045",
     "status": "completed"
    },
    "tags": []
   },
   "source": [
    "#### Selección de características y clasificación."
   ]
  },
  {
   "cell_type": "code",
   "execution_count": 7,
   "id": "0963b8eb",
   "metadata": {
    "execution": {
     "iopub.execute_input": "2023-10-29T23:32:37.259980Z",
     "iopub.status.busy": "2023-10-29T23:32:37.259740Z",
     "iopub.status.idle": "2023-10-29T23:33:21.196693Z",
     "shell.execute_reply": "2023-10-29T23:33:21.196080Z"
    },
    "papermill": {
     "duration": 43.9476,
     "end_time": "2023-10-29T23:33:21.202607",
     "exception": false,
     "start_time": "2023-10-29T23:32:37.255007",
     "status": "completed"
    },
    "tags": []
   },
   "outputs": [
    {
     "name": "stdout",
     "output_type": "stream",
     "text": [
      "20231030T003237 : enderlab : INFO : Iniciando entrenamiento\n",
      "num_iter: 1 , max_iter: 1\n",
      "Fitting 5 folds for each of 1 candidates, totalling 5 fits\n"
     ]
    },
    {
     "name": "stdout",
     "output_type": "stream",
     "text": [
      "Mejores Hiperparámetros: {'selector__max_features': 1000, 'selector__estimator__n_estimators': 400, 'clasifier__solver': 'lbfgs', 'clasifier__penalty': 'l2', 'clasifier__max_iter': 10000}\n",
      "Mejor Puntuación: 0.8962\n",
      "20231030T003321 : enderlab : INFO : Fin entrenamiento\n"
     ]
    }
   ],
   "source": [
    "myfunc.verbose(\"Iniciando entrenamiento\")\n",
    "\n",
    "kf = KFold(n_splits=5, shuffle=True, random_state=SEMILLA)\n",
    "\n",
    "# Crear el pipeline para el flujo de tareas\n",
    "tasks_pipeline = Pipeline([\n",
    "    ('selector', algor_selector),\n",
    "    ('clasifier', algor_clasifier)\n",
    "])\n",
    "\n",
    "# MAX_ITERS puede limitar el número de iteraciones si son excesivas para las combinaciones de parámetros buscando un óptimo local, \n",
    "# sino funcionaría como GridSearchCV al revisar todas las cominaciones de los parámetros\n",
    "num_iteraciones = 1\n",
    "num_iteraciones = num_iteraciones * np.prod([len(elemento1) for _, elemento1 in param_distributions.items()])\n",
    "max_iteraciones = num_iteraciones if num_iteraciones <= MAX_ITERS else MAX_ITERS\n",
    "print(\"num_iter:\",num_iteraciones,\", max_iter:\",max_iteraciones)\n",
    "\n",
    "random_search = RandomizedSearchCV(\n",
    "    tasks_pipeline, \n",
    "    param_distributions, \n",
    "    n_iter=max_iteraciones,\n",
    "    scoring=SCORING,\n",
    "    cv=kf,\n",
    "    verbose=3, \n",
    "    random_state=SEMILLA, \n",
    "    n_jobs=-1\n",
    "    )\n",
    "\n",
    "# Entrenar el modelo\n",
    "random_search.fit(X_train, y_train)\n",
    "\n",
    "# Ver los mejores hiperparámetros encontrados\n",
    "print(f'Mejores Hiperparámetros: {random_search.best_params_}')\n",
    "print(f'Mejor Puntuación: {random_search.best_score_:.4f}')\n",
    "\n",
    "# Nos quedamos con el mejor modelo para ver las métricas\n",
    "mejor_modelo = random_search.best_estimator_\n",
    "\n",
    "myfunc.verbose(\"Fin entrenamiento\")"
   ]
  },
  {
   "cell_type": "markdown",
   "id": "7ef0ab63",
   "metadata": {
    "papermill": {
     "duration": 0.004079,
     "end_time": "2023-10-29T23:33:21.210955",
     "exception": false,
     "start_time": "2023-10-29T23:33:21.206876",
     "status": "completed"
    },
    "tags": []
   },
   "source": [
    "#### Guardar modelo"
   ]
  },
  {
   "cell_type": "code",
   "execution_count": 8,
   "id": "cf4168b0",
   "metadata": {
    "execution": {
     "iopub.execute_input": "2023-10-29T23:33:21.220105Z",
     "iopub.status.busy": "2023-10-29T23:33:21.219850Z",
     "iopub.status.idle": "2023-10-29T23:33:21.395721Z",
     "shell.execute_reply": "2023-10-29T23:33:21.394709Z"
    },
    "papermill": {
     "duration": 0.182377,
     "end_time": "2023-10-29T23:33:21.397281",
     "exception": false,
     "start_time": "2023-10-29T23:33:21.214904",
     "status": "completed"
    },
    "tags": []
   },
   "outputs": [
    {
     "name": "stdout",
     "output_type": "stream",
     "text": [
      "20231030T003321 : enderlab : INFO : Inicio guardar fichero ../tfm_git/ejecuciones/modelos/modelo_8270_mul_m_RF_LR_L2.pkl\n",
      "20231030T003321 : enderlab : INFO : Fin guardar fichero ../tfm_git/ejecuciones/modelos/modelo_8270_mul_m_RF_LR_L2.pkl\n"
     ]
    }
   ],
   "source": [
    "fichero_modelo = str.replace(\"modelo_\"+str(SEMILLA).zfill(4)+\"_\"+M_TIPO+\"_\"+M_SELECT+\"_\"+M_CLASIF+\".pkl\", \" \", \"_\")\n",
    "\n",
    "myfunc.save_modelo(mejor_modelo, myfunc.MODEL_DIR, fichero_modelo)"
   ]
  },
  {
   "cell_type": "markdown",
   "id": "df3d4cab",
   "metadata": {
    "papermill": {
     "duration": 0.004288,
     "end_time": "2023-10-29T23:33:21.406249",
     "exception": false,
     "start_time": "2023-10-29T23:33:21.401961",
     "status": "completed"
    },
    "tags": []
   },
   "source": [
    "#### Ver resultados del las iteraciones hechas por RandomSearchCV"
   ]
  },
  {
   "cell_type": "code",
   "execution_count": 9,
   "id": "37ac8062",
   "metadata": {
    "execution": {
     "iopub.execute_input": "2023-10-29T23:33:21.415956Z",
     "iopub.status.busy": "2023-10-29T23:33:21.415332Z",
     "iopub.status.idle": "2023-10-29T23:33:21.421572Z",
     "shell.execute_reply": "2023-10-29T23:33:21.420999Z"
    },
    "papermill": {
     "duration": 0.012517,
     "end_time": "2023-10-29T23:33:21.422829",
     "exception": false,
     "start_time": "2023-10-29T23:33:21.410312",
     "status": "completed"
    },
    "tags": []
   },
   "outputs": [
    {
     "name": "stdout",
     "output_type": "stream",
     "text": [
      "20231030T003321 : enderlab : INFO : Inicio ver resultados\n",
      "Mejores Hiperparámetros: {'selector__max_features': 1000, 'selector__estimator__n_estimators': 400, 'clasifier__solver': 'lbfgs', 'clasifier__penalty': 'l2', 'clasifier__max_iter': 10000}\n",
      "Mejores puntuaciones: 0.8962 | Params: {'selector__max_features': 1000, 'selector__estimator__n_estimators': 400, 'clasifier__solver': 'lbfgs', 'clasifier__penalty': 'l2', 'clasifier__max_iter': 10000}\n",
      "Media de las puntuaciones: 0.8962 | Params: {'selector__max_features': 1000, 'selector__estimator__n_estimators': 400, 'clasifier__solver': 'lbfgs', 'clasifier__penalty': 'l2', 'clasifier__max_iter': 10000}\n",
      "20231030T003321 : enderlab : INFO : Fin resultados\n"
     ]
    }
   ],
   "source": [
    "myfunc.ver_resultados_search(random_search)"
   ]
  },
  {
   "cell_type": "markdown",
   "id": "c3cec53c",
   "metadata": {
    "papermill": {
     "duration": 0.004379,
     "end_time": "2023-10-29T23:33:21.431535",
     "exception": false,
     "start_time": "2023-10-29T23:33:21.427156",
     "status": "completed"
    },
    "tags": []
   },
   "source": [
    "#### Ver métricas del mejor modelo"
   ]
  },
  {
   "cell_type": "code",
   "execution_count": 10,
   "id": "52a5033b",
   "metadata": {
    "execution": {
     "iopub.execute_input": "2023-10-29T23:33:21.441424Z",
     "iopub.status.busy": "2023-10-29T23:33:21.440967Z",
     "iopub.status.idle": "2023-10-29T23:33:22.469694Z",
     "shell.execute_reply": "2023-10-29T23:33:22.469085Z"
    },
    "papermill": {
     "duration": 1.035374,
     "end_time": "2023-10-29T23:33:22.471161",
     "exception": false,
     "start_time": "2023-10-29T23:33:21.435787",
     "status": "completed"
    },
    "tags": []
   },
   "outputs": [
    {
     "name": "stdout",
     "output_type": "stream",
     "text": [
      "20231030T003321 : enderlab : INFO : Inicio ver métricas multiclase\n"
     ]
    },
    {
     "name": "stdout",
     "output_type": "stream",
     "text": [
      "              precision    recall  f1-score   support\n",
      "\n",
      "           0       0.38      0.19      0.25        16\n",
      "           1       0.75      0.60      0.67        15\n",
      "           2       0.25      0.27      0.26        11\n",
      "           3       0.31      1.00      0.48         5\n",
      "           4       0.75      0.69      0.72        13\n",
      "           5       0.67      0.67      0.67         9\n",
      "           6       0.56      0.56      0.56        18\n",
      "\n",
      "    accuracy                           0.52        87\n",
      "   macro avg       0.52      0.57      0.51        87\n",
      "weighted avg       0.54      0.52      0.51        87\n",
      "\n",
      "\n",
      "\n",
      "           Exactitud: 0.517241\n",
      "   Precisión (media): 0.522817\n",
      "      Recall (media): 0.567822\n",
      "    F1-score (media): 0.513707\n",
      "\n",
      "\n",
      "AUC para el tipo de cáncer 0-Control.... 0.6963\n",
      "AUC para el tipo de cáncer 1-Bladder.... 0.8759\n",
      "AUC para el tipo de cáncer 2-Breast..... 0.7117\n",
      "AUC para el tipo de cáncer 3-Colorectal. 0.9488\n",
      "AUC para el tipo de cáncer 4-Kidney..... 0.8971\n",
      "AUC para el tipo de cáncer 5-Lung....... 0.9801\n",
      "AUC para el tipo de cáncer 6-Prostate... 0.8551\n",
      "\n",
      "Media de AUC: 0.8521\n"
     ]
    },
    {
     "data": {
      "image/png": "[encoded data removed]",
      "text/plain": [
       "<Figure size 1000x600 with 1 Axes>"
      ]
     },
     "metadata": {},
     "output_type": "display_data"
    },
    {
     "name": "stdout",
     "output_type": "stream",
     "text": [
      "\n",
      "\n"
     ]
    },
    {
     "data": {
      "image/png": "[encoded data removed]",
      "text/plain": [
       "<Figure size 800x400 with 2 Axes>"
      ]
     },
     "metadata": {},
     "output_type": "display_data"
    },
    {
     "name": "stdout",
     "output_type": "stream",
     "text": [
      "\n",
      "\n",
      "Puntuación Jaccard para el cáncer tipo 0-Control.... 0.1429\n",
      "Puntuación Jaccard para el cáncer tipo 1-Bladder.... 0.5000\n",
      "Puntuación Jaccard para el cáncer tipo 2-Breast..... 0.1500\n",
      "Puntuación Jaccard para el cáncer tipo 3-Colorectal. 0.3125\n",
      "Puntuación Jaccard para el cáncer tipo 4-Kidney..... 0.5625\n",
      "Puntuación Jaccard para el cáncer tipo 5-Lung....... 0.5000\n",
      "Puntuación Jaccard para el cáncer tipo 6-Prostate... 0.3846\n",
      "\n",
      "Media de la puntuación de Jaccard: 0.3646\n"
     ]
    }
   ],
   "source": [
    "if M_TIPO.startswith(\"bin\"):\n",
    "    myfunc.ver_metricas(mejor_modelo, X_test, y_test)\n",
    "else:\n",
    "    myfunc.ver_metricas_multi(mejor_modelo, X_test, y_test)\n"
   ]
  },
  {
   "cell_type": "markdown",
   "id": "e068043e",
   "metadata": {
    "papermill": {
     "duration": 0.005977,
     "end_time": "2023-10-29T23:33:22.484085",
     "exception": false,
     "start_time": "2023-10-29T23:33:22.478108",
     "status": "completed"
    },
    "tags": []
   },
   "source": [
    "#### Finalización del notebook"
   ]
  },
  {
   "cell_type": "code",
   "execution_count": 11,
   "id": "c5581a05",
   "metadata": {
    "execution": {
     "iopub.execute_input": "2023-10-29T23:33:22.496882Z",
     "iopub.status.busy": "2023-10-29T23:33:22.496359Z",
     "iopub.status.idle": "2023-10-29T23:33:22.500197Z",
     "shell.execute_reply": "2023-10-29T23:33:22.499654Z"
    },
    "papermill": {
     "duration": 0.011678,
     "end_time": "2023-10-29T23:33:22.501437",
     "exception": false,
     "start_time": "2023-10-29T23:33:22.489759",
     "status": "completed"
    },
    "tags": []
   },
   "outputs": [
    {
     "name": "stdout",
     "output_type": "stream",
     "text": [
      "20231030T003322 : enderlab : INFO : Notebook ha tardado 45 seconds\n"
     ]
    }
   ],
   "source": [
    "end_time = datetime.datetime.now()\n",
    "total_time = end_time - start_time\n",
    "myfunc.verbose(f\"Notebook ha tardado {total_time.seconds} seconds\")"
   ]
  },
  {
   "cell_type": "markdown",
   "id": "aa158211",
   "metadata": {
    "papermill": {
     "duration": 0.005784,
     "end_time": "2023-10-29T23:33:22.512896",
     "exception": false,
     "start_time": "2023-10-29T23:33:22.507112",
     "status": "completed"
    },
    "tags": []
   },
   "source": [
    "#### Guardar métricas"
   ]
  },
  {
   "cell_type": "code",
   "execution_count": 12,
   "id": "05b9c0e5",
   "metadata": {
    "execution": {
     "iopub.execute_input": "2023-10-29T23:33:22.525623Z",
     "iopub.status.busy": "2023-10-29T23:33:22.525114Z",
     "iopub.status.idle": "2023-10-29T23:33:23.248665Z",
     "shell.execute_reply": "2023-10-29T23:33:23.248104Z"
    },
    "papermill": {
     "duration": 0.731188,
     "end_time": "2023-10-29T23:33:23.249917",
     "exception": false,
     "start_time": "2023-10-29T23:33:22.518729",
     "status": "completed"
    },
    "tags": []
   },
   "outputs": [
    {
     "name": "stdout",
     "output_type": "stream",
     "text": [
      "20231030T003322 : enderlab : INFO : Inicio guardar métricas multiclase\n",
      "20231030T003322 : enderlab : INFO : Inicio leer fichero ../tfm_git/ejecuciones/metricas/metricas_8270.csv\n"
     ]
    },
    {
     "name": "stdout",
     "output_type": "stream",
     "text": [
      "20231030T003322 : enderlab : INFO : Fin leer fichero ../tfm_git/ejecuciones/metricas/metricas_8270.csv\n"
     ]
    },
    {
     "name": "stdout",
     "output_type": "stream",
     "text": [
      "20231030T003323 : enderlab : INFO : Inicio guardar fichero ../tfm_git/ejecuciones/metricas/metricas_8270.csv\n",
      "20231030T003323 : enderlab : INFO : Fichero borrado ../tfm_git/ejecuciones/metricas/metricas_8270.csv\n",
      "20231030T003323 : enderlab : INFO : Fin guardar fichero ../tfm_git/ejecuciones/metricas/metricas_8270.csv\n",
      "20231030T003323 : enderlab : INFO : Fin guardar métricas multiclase\n",
      "20231030T003323 : enderlab : INFO : Inicio leer fichero ../tfm_git/ejecuciones/metricas/metricas_8270.csv\n",
      "20231030T003323 : enderlab : INFO : Fin leer fichero ../tfm_git/ejecuciones/metricas/metricas_8270.csv\n"
     ]
    },
    {
     "data": {
      "text/html": [
       "<div>\n",
       "<style scoped>\n",
       "    .dataframe tbody tr th:only-of-type {\n",
       "        vertical-align: middle;\n",
       "    }\n",
       "\n",
       "    .dataframe tbody tr th {\n",
       "        vertical-align: top;\n",
       "    }\n",
       "\n",
       "    .dataframe thead th {\n",
       "        text-align: right;\n",
       "    }\n",
       "</style>\n",
       "<table border=\"1\" class=\"dataframe\">\n",
       "  <thead>\n",
       "    <tr style=\"text-align: right;\">\n",
       "      <th></th>\n",
       "      <th>tipo</th>\n",
       "      <th>select</th>\n",
       "      <th>clasific</th>\n",
       "      <th>semilla</th>\n",
       "      <th>accuracy</th>\n",
       "      <th>precision</th>\n",
       "      <th>recall</th>\n",
       "      <th>f1_score</th>\n",
       "      <th>roc_auc</th>\n",
       "      <th>hostname</th>\n",
       "      <th>total_time_sec</th>\n",
       "      <th>datetime</th>\n",
       "      <th>fichero_modelo</th>\n",
       "      <th>params</th>\n",
       "      <th>shape</th>\n",
       "      <th>features</th>\n",
       "      <th>roc_auc_ovr</th>\n",
       "      <th>indices_auc</th>\n",
       "      <th>indices_jaccard</th>\n",
       "    </tr>\n",
       "  </thead>\n",
       "  <tbody>\n",
       "    <tr>\n",
       "      <th>0</th>\n",
       "      <td>mul_m</td>\n",
       "      <td>RF</td>\n",
       "      <td>LR_L2</td>\n",
       "      <td>8270</td>\n",
       "      <td>0.517241</td>\n",
       "      <td>0.522817</td>\n",
       "      <td>0.567822</td>\n",
       "      <td>0.513707</td>\n",
       "      <td>NaN</td>\n",
       "      <td>enderlab</td>\n",
       "      <td>45</td>\n",
       "      <td>2023-10-30 00:33:23.199921</td>\n",
       "      <td>modelo_8270_mul_m_RF_LR_L2.pkl</td>\n",
       "      <td>{'selector__max_features': 1000, 'selector__es...</td>\n",
       "      <td>X_test:(87, 18875)</td>\n",
       "      <td>['ENSG00000002933.9', 'ENSG00000006468.15', 'E...</td>\n",
       "      <td>0.852136</td>\n",
       "      <td>[0.6963028169014085, 0.8759259259259259, 0.711...</td>\n",
       "      <td>[0.14285714285714285, 0.5, 0.15, 0.3125, 0.562...</td>\n",
       "    </tr>\n",
       "    <tr>\n",
       "      <th>0</th>\n",
       "      <td>mul_m</td>\n",
       "      <td>RF</td>\n",
       "      <td>LR_L1</td>\n",
       "      <td>8270</td>\n",
       "      <td>0.505747</td>\n",
       "      <td>0.504256</td>\n",
       "      <td>0.563778</td>\n",
       "      <td>0.499035</td>\n",
       "      <td>NaN</td>\n",
       "      <td>enderlab</td>\n",
       "      <td>1646</td>\n",
       "      <td>2023-10-30 00:32:30.228519</td>\n",
       "      <td>modelo_8270_mul_m_RF_LR_L1.pkl</td>\n",
       "      <td>{'selector__max_features': 1000, 'selector__es...</td>\n",
       "      <td>X_test:(87, 18875)</td>\n",
       "      <td>['ENSG00000002933.9', 'ENSG00000006468.15', 'E...</td>\n",
       "      <td>0.832155</td>\n",
       "      <td>[0.6355633802816901, 0.8574074074074074, 0.700...</td>\n",
       "      <td>[0.1, 0.5, 0.13636363636363635, 0.333333333333...</td>\n",
       "    </tr>\n",
       "    <tr>\n",
       "      <th>0</th>\n",
       "      <td>mul_m</td>\n",
       "      <td>RF</td>\n",
       "      <td>LR_EN</td>\n",
       "      <td>8270</td>\n",
       "      <td>0.517241</td>\n",
       "      <td>0.505966</td>\n",
       "      <td>0.581116</td>\n",
       "      <td>0.505304</td>\n",
       "      <td>NaN</td>\n",
       "      <td>enderlab</td>\n",
       "      <td>1633</td>\n",
       "      <td>2023-10-30 00:04:55.583566</td>\n",
       "      <td>modelo_8270_mul_m_RF_LR_EN.pkl</td>\n",
       "      <td>{'selector__max_features': 1000, 'selector__es...</td>\n",
       "      <td>X_test:(87, 18875)</td>\n",
       "      <td>['ENSG00000002933.9', 'ENSG00000006468.15', 'E...</td>\n",
       "      <td>0.843227</td>\n",
       "      <td>[0.664612676056338, 0.8555555555555555, 0.7093...</td>\n",
       "      <td>[0.1, 0.4444444444444444, 0.15789473684210525,...</td>\n",
       "    </tr>\n",
       "  </tbody>\n",
       "</table>\n",
       "</div>"
      ],
      "text/plain": [
       "    tipo select clasific  semilla  accuracy  precision    recall  f1_score  \\\n",
       "0  mul_m     RF    LR_L2     8270  0.517241   0.522817  0.567822  0.513707   \n",
       "0  mul_m     RF    LR_L1     8270  0.505747   0.504256  0.563778  0.499035   \n",
       "0  mul_m     RF    LR_EN     8270  0.517241   0.505966  0.581116  0.505304   \n",
       "\n",
       "   roc_auc  hostname  total_time_sec                    datetime  \\\n",
       "0      NaN  enderlab              45  2023-10-30 00:33:23.199921   \n",
       "0      NaN  enderlab            1646  2023-10-30 00:32:30.228519   \n",
       "0      NaN  enderlab            1633  2023-10-30 00:04:55.583566   \n",
       "\n",
       "                   fichero_modelo  \\\n",
       "0  modelo_8270_mul_m_RF_LR_L2.pkl   \n",
       "0  modelo_8270_mul_m_RF_LR_L1.pkl   \n",
       "0  modelo_8270_mul_m_RF_LR_EN.pkl   \n",
       "\n",
       "                                              params               shape  \\\n",
       "0  {'selector__max_features': 1000, 'selector__es...  X_test:(87, 18875)   \n",
       "0  {'selector__max_features': 1000, 'selector__es...  X_test:(87, 18875)   \n",
       "0  {'selector__max_features': 1000, 'selector__es...  X_test:(87, 18875)   \n",
       "\n",
       "                                            features  roc_auc_ovr  \\\n",
       "0  ['ENSG00000002933.9', 'ENSG00000006468.15', 'E...     0.852136   \n",
       "0  ['ENSG00000002933.9', 'ENSG00000006468.15', 'E...     0.832155   \n",
       "0  ['ENSG00000002933.9', 'ENSG00000006468.15', 'E...     0.843227   \n",
       "\n",
       "                                         indices_auc  \\\n",
       "0  [0.6963028169014085, 0.8759259259259259, 0.711...   \n",
       "0  [0.6355633802816901, 0.8574074074074074, 0.700...   \n",
       "0  [0.664612676056338, 0.8555555555555555, 0.7093...   \n",
       "\n",
       "                                     indices_jaccard  \n",
       "0  [0.14285714285714285, 0.5, 0.15, 0.3125, 0.562...  \n",
       "0  [0.1, 0.5, 0.13636363636363635, 0.333333333333...  \n",
       "0  [0.1, 0.4444444444444444, 0.15789473684210525,...  "
      ]
     },
     "metadata": {},
     "output_type": "display_data"
    }
   ],
   "source": [
    "if M_TIPO.startswith(\"bin\"):\n",
    "    myfunc.save_metricas_to_csv(random_search, X_test, y_test, M_TIPO, M_SELECT, M_CLASIF, total_time, SEMILLA, myfunc.MET_DIR, M_FICHERO, fichero_modelo)\n",
    "else:\n",
    "    myfunc.save_metricas_multi_to_csv(random_search, X_test, y_test, M_TIPO, M_SELECT, M_CLASIF, total_time, SEMILLA, myfunc.MET_DIR, M_FICHERO, fichero_modelo)\n",
    "\n",
    "df1=myfunc.read_metricas_to_df(myfunc.MET_DIR,M_FICHERO)\n",
    "\n",
    "display(df1.sort_values(\"datetime\", ascending=False)[:3])\n"
   ]
  },
  {
   "cell_type": "markdown",
   "id": "b5a598b9",
   "metadata": {
    "papermill": {
     "duration": 0.006277,
     "end_time": "2023-10-29T23:33:23.262853",
     "exception": false,
     "start_time": "2023-10-29T23:33:23.256576",
     "status": "completed"
    },
    "tags": []
   },
   "source": [
    "#### Guardar resultados"
   ]
  },
  {
   "cell_type": "code",
   "execution_count": 13,
   "id": "c5e3f3b0",
   "metadata": {
    "execution": {
     "iopub.execute_input": "2023-10-29T23:33:23.276246Z",
     "iopub.status.busy": "2023-10-29T23:33:23.275748Z",
     "iopub.status.idle": "2023-10-29T23:33:23.284844Z",
     "shell.execute_reply": "2023-10-29T23:33:23.284294Z"
    },
    "papermill": {
     "duration": 0.017149,
     "end_time": "2023-10-29T23:33:23.286070",
     "exception": false,
     "start_time": "2023-10-29T23:33:23.268921",
     "status": "completed"
    },
    "tags": []
   },
   "outputs": [
    {
     "name": "stdout",
     "output_type": "stream",
     "text": [
      "20231030T003323 : enderlab : INFO : Inicio guardar resultados\n",
      "20231030T003323 : enderlab : INFO : Inicio guardar fichero ../tfm_git/ejecuciones/metricas/resultados_8270_mul_m-RF-LR_L2.csv\n",
      "20231030T003323 : enderlab : INFO : Fin guardar fichero ../tfm_git/ejecuciones/metricas/resultados_8270_mul_m-RF-LR_L2.csv\n",
      "20231030T003323 : enderlab : INFO : Fin guardar resultados\n"
     ]
    }
   ],
   "source": [
    "fichero_resultados=R_FICHERO+\"_\"+M_TIPO+\"-\"+M_SELECT+\"-\"+M_CLASIF+\".csv\"\n",
    "myfunc.save_resultados_to_csv(M_TIPO, M_SELECT, M_CLASIF,  random_search, myfunc.MET_DIR, fichero_resultados)\n"
   ]
  }
 ],
 "metadata": {
  "kernelspec": {
   "display_name": "Python 3 (ipykernel)",
   "language": "python",
   "name": "python3"
  },
  "language_info": {
   "codemirror_mode": {
    "name": "ipython",
    "version": 3
   },
   "file_extension": ".py",
   "mimetype": "text/x-python",
   "name": "python",
   "nbconvert_exporter": "python",
   "pygments_lexer": "ipython3",
   "version": "3.10.11"
  },
  "papermill": {
   "default_parameters": {},
   "duration": 51.318973,
   "end_time": "2023-10-29T23:33:25.909176",
   "environment_variables": {},
   "exception": null,
   "input_path": "03_entrenamiento.ipynb",
   "output_path": "ejecuciones/training/03_entrenamiento.20231030T003234.param_0000_8270_mul_m_RF_LR_L2.output.ipynb",
   "parameters": {
    "MAX_ITERS": 500,
    "M_CLASIF": "LR_L2",
    "M_FICHERO": "metricas_8270",
    "M_SELECT": "RF",
    "M_TIPO": "mul_m",
    "PRE_DATA_FILE": "rows_transpose_norm_by_gene_id_with_target_num_",
    "P_FICHERO": "param_0000_8270_mul_m_RF_LR_L2.yaml",
    "R_FICHERO": "resultados_8270",
    "SCORING": "roc_auc_ovr",
    "SEMILLA": 8270,
    "eval_clasifier": "LogisticRegressionCV(random_state=SEMILLA)",
    "eval_selector": "SelectFromModel(estimator=RandomForestClassifier(random_state=SEMILLA), threshold=-np.inf)",
    "param_distributions": {
     "clasifier__max_iter": [
      10000
     ],
     "clasifier__penalty": [
      "l2"
     ],
     "clasifier__solver": [
      "lbfgs"
     ],
     "selector__estimator__n_estimators": [
      400
     ],
     "selector__max_features": [
      1000
     ]
    }
   },
   "start_time": "2023-10-29T23:32:34.590203",
   "version": "2.4.0"
  }
 },
 "nbformat": 4,
 "nbformat_minor": 5
}