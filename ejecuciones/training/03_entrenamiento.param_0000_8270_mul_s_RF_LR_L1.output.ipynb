{
 "cells": [
  {
   "cell_type": "markdown",
   "id": "322411a4",
   "metadata": {
    "papermill": {
     "duration": 0.0053,
     "end_time": "2023-10-30T01:26:20.900849",
     "exception": false,
     "start_time": "2023-10-30T01:26:20.895549",
     "status": "completed"
    },
    "tags": []
   },
   "source": [
    "##### Inicio"
   ]
  },
  {
   "cell_type": "markdown",
   "id": "67e01379",
   "metadata": {
    "papermill": {
     "duration": 0.003415,
     "end_time": "2023-10-30T01:26:20.907939",
     "exception": false,
     "start_time": "2023-10-30T01:26:20.904524",
     "status": "completed"
    },
    "tags": []
   },
   "source": [
    "#### Carga de datos"
   ]
  },
  {
   "cell_type": "code",
   "execution_count": 1,
   "id": "3664b088",
   "metadata": {
    "execution": {
     "iopub.execute_input": "2023-10-30T01:26:20.915899Z",
     "iopub.status.busy": "2023-10-30T01:26:20.915450Z",
     "iopub.status.idle": "2023-10-30T01:26:22.028662Z",
     "shell.execute_reply": "2023-10-30T01:26:22.028057Z"
    },
    "papermill": {
     "duration": 1.118813,
     "end_time": "2023-10-30T01:26:22.030103",
     "exception": false,
     "start_time": "2023-10-30T01:26:20.911290",
     "status": "completed"
    },
    "tags": []
   },
   "outputs": [
    {
     "name": "stdout",
     "output_type": "stream",
     "text": [
      "CPU_COUNT: 16; NODE: enderlab; sys.version: 3.10.11 (main, May 16 2023, 00:28:57) [GCC 11.2.0]\n",
      "LOKY_MAX_CPU_COUNT is not set.\n",
      "OMP_NUM_THREADS is not set.\n"
     ]
    }
   ],
   "source": [
    "import os\n",
    "import numpy as np\n",
    "import pandas as pd\n",
    "import datetime\n",
    "import sklearn\n",
    "import logging\n",
    "import warnings\n",
    "\n",
    "from sklearn.pipeline import Pipeline\n",
    "from sklearn.model_selection import RandomizedSearchCV, KFold, cross_val_score, train_test_split\n",
    "from sklearn.metrics import accuracy_score, confusion_matrix, classification_report, roc_auc_score\n",
    "\n",
    "#  cargar algoritmos para aprendizaje supervisado\n",
    "from sklearn.feature_selection import SelectKBest, f_classif, SelectFromModel, mutual_info_classif\n",
    "from sklearn.svm import SVC\n",
    "from sklearn.ensemble import RandomForestClassifier\n",
    "from sklearn.linear_model import LogisticRegression,LogisticRegressionCV\n",
    "\n",
    "# importar fichero con utilidades propias\n",
    "from commons import myfunctions as myfunc\n"
   ]
  },
  {
   "cell_type": "markdown",
   "id": "618064dc",
   "metadata": {
    "papermill": {
     "duration": 0.003723,
     "end_time": "2023-10-30T01:26:22.037851",
     "exception": false,
     "start_time": "2023-10-30T01:26:22.034128",
     "status": "completed"
    },
    "tags": []
   },
   "source": [
    "#### Parámetros a utilizar en el entrenamiento.\n",
    "\n",
    "Se indican los 3 algoritmos de *selección de características* (eval_selector_xxx) y los 3 algoritmos para la _clasificación_ (eval_clasifier_xxx)\n",
    "\n",
    "En *param_distributions* se indicar los parámetros que utilizan los algoritmos en la función RandomSearchCV.\n",
    "\n",
    "Esta celda tiene la etiqueta **parameters** que servirá para poder lanzar los entrenamientos con la utilidad **papermill** pasándole un fichero con los parámetros. Los nuevos parámetros se situarán tras esta celda para tener prevalencia."
   ]
  },
  {
   "cell_type": "code",
   "execution_count": 2,
   "id": "b11b0a22",
   "metadata": {
    "execution": {
     "iopub.execute_input": "2023-10-30T01:26:22.046088Z",
     "iopub.status.busy": "2023-10-30T01:26:22.045789Z",
     "iopub.status.idle": "2023-10-30T01:26:22.053975Z",
     "shell.execute_reply": "2023-10-30T01:26:22.053439Z"
    },
    "papermill": {
     "duration": 0.013848,
     "end_time": "2023-10-30T01:26:22.055172",
     "exception": false,
     "start_time": "2023-10-30T01:26:22.041324",
     "status": "completed"
    },
    "tags": [
     "parameters"
    ]
   },
   "outputs": [
    {
     "name": "stdout",
     "output_type": "stream",
     "text": [
      "20231030T022622 : enderlab : INFO : Utilizando parámetros de mul_m\n"
     ]
    }
   ],
   "source": [
    "#  Parametros para el entrenamiento\n",
    "\n",
    "SEMILLA=        42\n",
    "M_TIPO=         \"mul_m\"\n",
    "M_SELECT=       \"MI\"\n",
    "M_CLASIF=       \"SVM\"\n",
    "R_FICHERO=      \"resultados\"\n",
    "M_FICHERO=      \"metricas\"\n",
    "PRE_DATA_FILE=  \"rows_transpose_norm_by_gene_id_with_target_num_\"\n",
    "SCORING=        \"roc_auc_ovr\" \n",
    "MAX_ITERS=      100\n",
    "\n",
    "def mutual_info_classif_state(X, y):\n",
    "    return mutual_info_classif(X, y, random_state=SEMILLA)\n",
    "\n",
    "eval_selector_mi = \"SelectKBest(score_func=mutual_info_classif_state)\"\n",
    "eval_selector_rf=  \"SelectFromModel(estimator=RandomForestClassifier(random_state=SEMILLA), threshold=-np.inf)\"\n",
    "eval_selector_anova=  \"SelectKBest(score_func=f_classif)\"\n",
    "\n",
    "eval_clasifier_svm= \"SVC(probability=True, random_state=SEMILLA)\"\n",
    "eval_clasifier_rf= \"RandomForestClassifier(random_state=SEMILLA)\"\n",
    "eval_clasifier_lr= \"LogisticRegressionCV(random_state=SEMILLA)\"\n",
    "\n",
    "if M_TIPO.startswith(\"bin_m\"):\n",
    "    myfunc.verbose(f\"Utilizando parámetros de {M_TIPO}\")\n",
    "    eval_selector = eval_selector_mi\n",
    "    eval_clasifier = eval_clasifier_svm\n",
    "\n",
    "    SEMILLA = 6578\n",
    "    M_SELECT = \"MI\"\n",
    "    M_CLASIF = \"SVM\"\n",
    "    param_distributions = {'selector__k': [1000], \n",
    "         'clasifier__kernel': ['rbf'], 'clasifier__gamma': [0.01], 'clasifier__C': [100]}\n",
    "elif M_TIPO.startswith(\"bin_s\"):\n",
    "    myfunc.verbose(f\"Utilizando parámetros de {M_TIPO}\")\n",
    "    eval_selector = eval_selector_rf\n",
    "    eval_clasifier = eval_clasifier_lr\n",
    "\n",
    "    SEMILLA = 6191\n",
    "    M_SELECT = \"RF\"\n",
    "    M_CLASIF = \"LR_L2\"\n",
    "    param_distributions = {'selector__max_features': [1000], 'selector__estimator__n_estimators': [200], \n",
    "        'clasifier__solver': ['lbfgs'], 'clasifier__penalty': ['l2'], 'clasifier__max_iter': [10000]}\n",
    "\n",
    "elif M_TIPO.startswith(\"mul_m\"):\n",
    "    myfunc.verbose(f\"Utilizando parámetros de {M_TIPO}\")\n",
    " \n",
    "    eval_selector = eval_selector_rf\n",
    "    eval_clasifier = eval_clasifier_lr\n",
    "\n",
    "    SEMILLA = 6191\n",
    "    M_SELECT = \"RF\"\n",
    "    M_CLASIF = \"LR_L2\"\n",
    "    param_distributions = {'selector__max_features': [1000], 'selector__estimator__n_estimators': [400], \n",
    "        'clasifier__solver': ['lbfgs'], 'clasifier__penalty': ['l2'], 'clasifier__max_iter': [10000]}\n",
    "\n",
    "else:\n",
    "    # M_TIPO.startswith(\"mul_s\"):\n",
    "    myfunc.verbose(f\"Utilizando parámetros de {M_TIPO}\")\n",
    "    eval_selector = eval_selector_anova\n",
    "    eval_clasifier = eval_clasifier_lr\n",
    "\n",
    "    SEMILLA = 1860\n",
    "    M_SELECT = \"ANOVA\"\n",
    "    M_CLASIF = \"LR_L2\"\n",
    "    param_distributions = {'selector__k': [1000], \n",
    "        'clasifier__solver': ['saga'], 'clasifier__penalty': ['l2'], 'clasifier__max_iter': [10000]}\n",
    "\n"
   ]
  },
  {
   "cell_type": "code",
   "execution_count": 3,
   "id": "09e241cf",
   "metadata": {
    "execution": {
     "iopub.execute_input": "2023-10-30T01:26:22.063401Z",
     "iopub.status.busy": "2023-10-30T01:26:22.062910Z",
     "iopub.status.idle": "2023-10-30T01:26:22.066840Z",
     "shell.execute_reply": "2023-10-30T01:26:22.066323Z"
    },
    "papermill": {
     "duration": 0.009241,
     "end_time": "2023-10-30T01:26:22.067983",
     "exception": false,
     "start_time": "2023-10-30T01:26:22.058742",
     "status": "completed"
    },
    "tags": [
     "injected-parameters"
    ]
   },
   "outputs": [],
   "source": [
    "# Parameters\n",
    "M_TIPO = \"mul_s\"\n",
    "M_SELECT = \"RF\"\n",
    "M_CLASIF = \"LR_L1\"\n",
    "P_FICHERO = \"param_0000_8270_mul_s_RF_LR_L1.yaml\"\n",
    "R_FICHERO = \"resultados_8270\"\n",
    "M_FICHERO = \"metricas_8270\"\n",
    "PRE_DATA_FILE = \"rows_transpose_norm_by_gene_id_with_target_num_\"\n",
    "SCORING = \"roc_auc_ovr\"\n",
    "SEMILLA = 8270\n",
    "MAX_ITERS = 500\n",
    "eval_selector = \"SelectFromModel(estimator=RandomForestClassifier(random_state=SEMILLA), threshold=-np.inf)\"\n",
    "eval_clasifier = \"LogisticRegressionCV(random_state=SEMILLA)\"\n",
    "param_distributions = {\n",
    "    \"selector__max_features\": [500],\n",
    "    \"selector__estimator__n_estimators\": [100],\n",
    "    \"clasifier__solver\": [\"saga\"],\n",
    "    \"clasifier__penalty\": [\"l1\"],\n",
    "    \"clasifier__max_iter\": [10000],\n",
    "}\n"
   ]
  },
  {
   "cell_type": "code",
   "execution_count": 4,
   "id": "e7ce75f7",
   "metadata": {
    "execution": {
     "iopub.execute_input": "2023-10-30T01:26:22.076692Z",
     "iopub.status.busy": "2023-10-30T01:26:22.076232Z",
     "iopub.status.idle": "2023-10-30T01:26:22.079431Z",
     "shell.execute_reply": "2023-10-30T01:26:22.078903Z"
    },
    "papermill": {
     "duration": 0.008824,
     "end_time": "2023-10-30T01:26:22.080730",
     "exception": false,
     "start_time": "2023-10-30T01:26:22.071906",
     "status": "completed"
    },
    "tags": []
   },
   "outputs": [],
   "source": [
    "DATA_FILE = PRE_DATA_FILE + M_TIPO\n",
    "\n",
    "# si viene \"None\" en el parámetro max_depth, se le quitan las comillas para que no sea entendido por el algoritmo como un texto\n",
    "if \"clasifier__max_depth\" in param_distributions:\n",
    "    param_distributions['clasifier__max_depth'] = [None if x == 'None' else x for x in param_distributions['clasifier__max_depth']]"
   ]
  },
  {
   "cell_type": "markdown",
   "id": "204954c0",
   "metadata": {
    "papermill": {
     "duration": 0.003632,
     "end_time": "2023-10-30T01:26:22.088110",
     "exception": false,
     "start_time": "2023-10-30T01:26:22.084478",
     "status": "completed"
    },
    "tags": []
   },
   "source": [
    "Asignar los algoritmos que se utilizarán en la función RandomSearchCV"
   ]
  },
  {
   "cell_type": "code",
   "execution_count": 5,
   "id": "587112a5",
   "metadata": {
    "execution": {
     "iopub.execute_input": "2023-10-30T01:26:22.099845Z",
     "iopub.status.busy": "2023-10-30T01:26:22.099399Z",
     "iopub.status.idle": "2023-10-30T01:26:22.102668Z",
     "shell.execute_reply": "2023-10-30T01:26:22.102088Z"
    },
    "papermill": {
     "duration": 0.012159,
     "end_time": "2023-10-30T01:26:22.103857",
     "exception": false,
     "start_time": "2023-10-30T01:26:22.091698",
     "status": "completed"
    },
    "tags": []
   },
   "outputs": [],
   "source": [
    "algor_selector=eval(eval_selector)\n",
    "algor_clasifier=eval(eval_clasifier)"
   ]
  },
  {
   "cell_type": "markdown",
   "id": "4518b110",
   "metadata": {
    "papermill": {
     "duration": 0.003568,
     "end_time": "2023-10-30T01:26:22.110966",
     "exception": false,
     "start_time": "2023-10-30T01:26:22.107398",
     "status": "completed"
    },
    "tags": []
   },
   "source": [
    "#### Comprobar el entorno y leer fichero de muestras"
   ]
  },
  {
   "cell_type": "code",
   "execution_count": 6,
   "id": "303a066d",
   "metadata": {
    "execution": {
     "iopub.execute_input": "2023-10-30T01:26:22.119027Z",
     "iopub.status.busy": "2023-10-30T01:26:22.118646Z",
     "iopub.status.idle": "2023-10-30T01:26:22.292221Z",
     "shell.execute_reply": "2023-10-30T01:26:22.291635Z"
    },
    "papermill": {
     "duration": 0.178986,
     "end_time": "2023-10-30T01:26:22.293484",
     "exception": false,
     "start_time": "2023-10-30T01:26:22.114498",
     "status": "completed"
    },
    "tags": []
   },
   "outputs": [
    {
     "name": "stdout",
     "output_type": "stream",
     "text": [
      "20231030T022622 : enderlab : INFO : Encontrada carpeta DATA_DIR=../tfm_git/datos\n",
      "20231030T022622 : enderlab : INFO : Encontrada carpeta CFDNA_DIR=../tfm_git/datos/cfDNA_5hmC\n",
      "20231030T022622 : enderlab : INFO : Encontrada carpeta GENCODE_DIR=../tfm_git/datos/gencode\n",
      "20231030T022622 : enderlab : INFO : Encontrada carpeta H5_DIR=../tfm_git/datos/h5\n",
      "20231030T022622 : enderlab : INFO : Encontrada carpeta LOG_DIR=../tfm_git/datos/logs\n",
      "20231030T022622 : enderlab : INFO : Encontrada carpeta CSV_DIR=../tfm_git/datos/csv\n",
      "20231030T022622 : enderlab : INFO : Encontrada carpeta MODEL_DIR=../tfm_git/ejecuciones/modelos\n",
      "20231030T022622 : enderlab : INFO : Encontrada carpeta EXEC_DIR=../tfm_git/ejecuciones\n",
      "20231030T022622 : enderlab : INFO : Encontrada carpeta MET_DIR=../tfm_git/ejecuciones/metricas\n",
      "20231030T022622 : enderlab : INFO : Inicio leer fichero h5 ../tfm_git/datos/h5/rows_transpose_norm_by_gene_id_with_target_num_mul_s.h5\n",
      "20231030T022622 : enderlab : INFO : Leyendo clave /df\n"
     ]
    },
    {
     "name": "stdout",
     "output_type": "stream",
     "text": [
      "20231030T022622 : enderlab : INFO : Tamaño (259, 18876)\n",
      "20231030T022622 : enderlab : INFO : Fin leer fichero h5 ../tfm_git/datos/h5/rows_transpose_norm_by_gene_id_with_target_num_mul_s.h5\n"
     ]
    },
    {
     "data": {
      "text/plain": [
       "target\n",
       "0    37\n",
       "1    37\n",
       "2    37\n",
       "3    37\n",
       "4    37\n",
       "5    37\n",
       "6    37\n",
       "dtype: int64"
      ]
     },
     "metadata": {},
     "output_type": "display_data"
    },
    {
     "name": "stdout",
     "output_type": "stream",
     "text": [
      "Shape df: (259, 18876)\n"
     ]
    },
    {
     "name": "stdout",
     "output_type": "stream",
     "text": [
      "Shape X_train: (207, 18875)\n",
      "Shape X_test: (52, 18875)\n"
     ]
    }
   ],
   "source": [
    "start_time = datetime.datetime.now()\n",
    "\n",
    "myfunc.reset_vars()\n",
    "\n",
    "myfunc.NOTEBK_FILENAME = myfunc.get_nb_name()\n",
    "\n",
    "myfunc.check_enviroment(myfunc.DATA_DIR, myfunc.CFDNA_DIR, myfunc.GENCODE_DIR, myfunc.H5_DIR, myfunc.LOG_DIR, myfunc.CSV_DIR, myfunc.MODEL_DIR, myfunc.EXEC_DIR, myfunc.MET_DIR)\n",
    "\n",
    "# Leer fichero con las muestras\n",
    "df_t = myfunc.read_h5_to_df(DATA_FILE, myfunc.H5_DIR)\n",
    "display(df_t.groupby(\"target\").size())\n",
    "print(\"Shape df:\",df_t.shape)\n",
    "\n",
    "# Separar caracteristicas/genes de las etiquetas/tipos de cáncer\n",
    "X = df_t.iloc[:, :-1]  # Todas las columnas excepto la última\n",
    "y = df_t.iloc[:, -1]  # La última columna contiene los identificadores de los tipos de cáncer\n",
    "\n",
    "#  Crear el conjunto de datos de entrenamiento y de pruebas, y se fija la semilla para siempre coger el mismo juego de muestras\n",
    "X_train, X_test, y_train, y_test = train_test_split(X, y, test_size=0.2, shuffle=True, random_state=42)\n",
    "print(\"Shape X_train:\",X_train.shape)\n",
    "print(\"Shape X_test:\",X_test.shape)\n"
   ]
  },
  {
   "cell_type": "markdown",
   "id": "d31381a1",
   "metadata": {
    "papermill": {
     "duration": 0.003974,
     "end_time": "2023-10-30T01:26:22.301866",
     "exception": false,
     "start_time": "2023-10-30T01:26:22.297892",
     "status": "completed"
    },
    "tags": []
   },
   "source": [
    "#### Selección de características y clasificación."
   ]
  },
  {
   "cell_type": "code",
   "execution_count": 7,
   "id": "44be6409",
   "metadata": {
    "execution": {
     "iopub.execute_input": "2023-10-30T01:26:22.310931Z",
     "iopub.status.busy": "2023-10-30T01:26:22.310359Z",
     "iopub.status.idle": "2023-10-30T01:32:58.662919Z",
     "shell.execute_reply": "2023-10-30T01:32:58.662039Z"
    },
    "papermill": {
     "duration": 396.363421,
     "end_time": "2023-10-30T01:32:58.669164",
     "exception": false,
     "start_time": "2023-10-30T01:26:22.305743",
     "status": "completed"
    },
    "tags": []
   },
   "outputs": [
    {
     "name": "stdout",
     "output_type": "stream",
     "text": [
      "20231030T022622 : enderlab : INFO : Iniciando entrenamiento\n",
      "num_iter: 1 , max_iter: 1\n"
     ]
    },
    {
     "name": "stdout",
     "output_type": "stream",
     "text": [
      "Fitting 5 folds for each of 1 candidates, totalling 5 fits\n"
     ]
    },
    {
     "name": "stdout",
     "output_type": "stream",
     "text": [
      "Mejores Hiperparámetros: {'selector__max_features': 500, 'selector__estimator__n_estimators': 100, 'clasifier__solver': 'saga', 'clasifier__penalty': 'l1', 'clasifier__max_iter': 10000}\n",
      "Mejor Puntuación: 0.7873\n",
      "20231030T023258 : enderlab : INFO : Fin entrenamiento\n"
     ]
    }
   ],
   "source": [
    "myfunc.verbose(\"Iniciando entrenamiento\")\n",
    "\n",
    "kf = KFold(n_splits=5, shuffle=True, random_state=SEMILLA)\n",
    "\n",
    "# Crear el pipeline para el flujo de tareas\n",
    "tasks_pipeline = Pipeline([\n",
    "    ('selector', algor_selector),\n",
    "    ('clasifier', algor_clasifier)\n",
    "])\n",
    "\n",
    "# MAX_ITERS puede limitar el número de iteraciones si son excesivas para las combinaciones de parámetros buscando un óptimo local, \n",
    "# sino funcionaría como GridSearchCV al revisar todas las cominaciones de los parámetros\n",
    "num_iteraciones = 1\n",
    "num_iteraciones = num_iteraciones * np.prod([len(elemento1) for _, elemento1 in param_distributions.items()])\n",
    "max_iteraciones = num_iteraciones if num_iteraciones <= MAX_ITERS else MAX_ITERS\n",
    "print(\"num_iter:\",num_iteraciones,\", max_iter:\",max_iteraciones)\n",
    "\n",
    "random_search = RandomizedSearchCV(\n",
    "    tasks_pipeline, \n",
    "    param_distributions, \n",
    "    n_iter=max_iteraciones,\n",
    "    scoring=SCORING,\n",
    "    cv=kf,\n",
    "    verbose=3, \n",
    "    random_state=SEMILLA, \n",
    "    n_jobs=-1\n",
    "    )\n",
    "\n",
    "# Entrenar el modelo\n",
    "random_search.fit(X_train, y_train)\n",
    "\n",
    "# Ver los mejores hiperparámetros encontrados\n",
    "print(f'Mejores Hiperparámetros: {random_search.best_params_}')\n",
    "print(f'Mejor Puntuación: {random_search.best_score_:.4f}')\n",
    "\n",
    "# Nos quedamos con el mejor modelo para ver las métricas\n",
    "mejor_modelo = random_search.best_estimator_\n",
    "\n",
    "myfunc.verbose(\"Fin entrenamiento\")"
   ]
  },
  {
   "cell_type": "markdown",
   "id": "eae240dd",
   "metadata": {
    "papermill": {
     "duration": 0.004069,
     "end_time": "2023-10-30T01:32:58.677470",
     "exception": false,
     "start_time": "2023-10-30T01:32:58.673401",
     "status": "completed"
    },
    "tags": []
   },
   "source": [
    "#### Guardar modelo"
   ]
  },
  {
   "cell_type": "code",
   "execution_count": 8,
   "id": "72768f60",
   "metadata": {
    "execution": {
     "iopub.execute_input": "2023-10-30T01:32:58.687446Z",
     "iopub.status.busy": "2023-10-30T01:32:58.686973Z",
     "iopub.status.idle": "2023-10-30T01:32:58.738332Z",
     "shell.execute_reply": "2023-10-30T01:32:58.737793Z"
    },
    "papermill": {
     "duration": 0.057832,
     "end_time": "2023-10-30T01:32:58.739493",
     "exception": false,
     "start_time": "2023-10-30T01:32:58.681661",
     "status": "completed"
    },
    "tags": []
   },
   "outputs": [
    {
     "name": "stdout",
     "output_type": "stream",
     "text": [
      "20231030T023258 : enderlab : INFO : Inicio guardar fichero ../tfm_git/ejecuciones/modelos/modelo_8270_mul_s_RF_LR_L1.pkl\n",
      "20231030T023258 : enderlab : INFO : Fin guardar fichero ../tfm_git/ejecuciones/modelos/modelo_8270_mul_s_RF_LR_L1.pkl\n"
     ]
    }
   ],
   "source": [
    "fichero_modelo = str.replace(\"modelo_\"+str(SEMILLA).zfill(4)+\"_\"+M_TIPO+\"_\"+M_SELECT+\"_\"+M_CLASIF+\".pkl\", \" \", \"_\")\n",
    "\n",
    "myfunc.save_modelo(mejor_modelo, myfunc.MODEL_DIR, fichero_modelo)"
   ]
  },
  {
   "cell_type": "markdown",
   "id": "253973a7",
   "metadata": {
    "papermill": {
     "duration": 0.004153,
     "end_time": "2023-10-30T01:32:58.747746",
     "exception": false,
     "start_time": "2023-10-30T01:32:58.743593",
     "status": "completed"
    },
    "tags": []
   },
   "source": [
    "#### Ver resultados del las iteraciones hechas por RandomSearchCV"
   ]
  },
  {
   "cell_type": "code",
   "execution_count": 9,
   "id": "89c26c88",
   "metadata": {
    "execution": {
     "iopub.execute_input": "2023-10-30T01:32:58.756933Z",
     "iopub.status.busy": "2023-10-30T01:32:58.756553Z",
     "iopub.status.idle": "2023-10-30T01:32:58.763436Z",
     "shell.execute_reply": "2023-10-30T01:32:58.762908Z"
    },
    "papermill": {
     "duration": 0.012813,
     "end_time": "2023-10-30T01:32:58.764603",
     "exception": false,
     "start_time": "2023-10-30T01:32:58.751790",
     "status": "completed"
    },
    "tags": []
   },
   "outputs": [
    {
     "name": "stdout",
     "output_type": "stream",
     "text": [
      "20231030T023258 : enderlab : INFO : Inicio ver resultados\n",
      "Mejores Hiperparámetros: {'selector__max_features': 500, 'selector__estimator__n_estimators': 100, 'clasifier__solver': 'saga', 'clasifier__penalty': 'l1', 'clasifier__max_iter': 10000}\n",
      "Mejores puntuaciones: 0.7873 | Params: {'selector__max_features': 500, 'selector__estimator__n_estimators': 100, 'clasifier__solver': 'saga', 'clasifier__penalty': 'l1', 'clasifier__max_iter': 10000}\n",
      "Media de las puntuaciones: 0.7873 | Params: {'selector__max_features': 500, 'selector__estimator__n_estimators': 100, 'clasifier__solver': 'saga', 'clasifier__penalty': 'l1', 'clasifier__max_iter': 10000}\n",
      "20231030T023258 : enderlab : INFO : Fin resultados\n"
     ]
    }
   ],
   "source": [
    "myfunc.ver_resultados_search(random_search)"
   ]
  },
  {
   "cell_type": "markdown",
   "id": "8d641969",
   "metadata": {
    "papermill": {
     "duration": 0.004107,
     "end_time": "2023-10-30T01:32:58.772806",
     "exception": false,
     "start_time": "2023-10-30T01:32:58.768699",
     "status": "completed"
    },
    "tags": []
   },
   "source": [
    "#### Ver métricas del mejor modelo"
   ]
  },
  {
   "cell_type": "code",
   "execution_count": 10,
   "id": "bf946aef",
   "metadata": {
    "execution": {
     "iopub.execute_input": "2023-10-30T01:32:58.782493Z",
     "iopub.status.busy": "2023-10-30T01:32:58.782039Z",
     "iopub.status.idle": "2023-10-30T01:32:59.527876Z",
     "shell.execute_reply": "2023-10-30T01:32:59.527294Z"
    },
    "papermill": {
     "duration": 0.752163,
     "end_time": "2023-10-30T01:32:59.529325",
     "exception": false,
     "start_time": "2023-10-30T01:32:58.777162",
     "status": "completed"
    },
    "tags": []
   },
   "outputs": [
    {
     "name": "stdout",
     "output_type": "stream",
     "text": [
      "20231030T023258 : enderlab : INFO : Inicio ver métricas multiclase\n"
     ]
    },
    {
     "name": "stdout",
     "output_type": "stream",
     "text": [
      "              precision    recall  f1-score   support\n",
      "\n",
      "           0       0.50      0.27      0.35        11\n",
      "           1       0.71      0.62      0.67         8\n",
      "           2       0.50      0.50      0.50         8\n",
      "           3       0.22      0.40      0.29         5\n",
      "           4       0.67      0.75      0.71         8\n",
      "           5       0.60      0.50      0.55         6\n",
      "           6       0.12      0.17      0.14         6\n",
      "\n",
      "    accuracy                           0.46        52\n",
      "   macro avg       0.48      0.46      0.46        52\n",
      "weighted avg       0.50      0.46      0.47        52\n",
      "\n",
      "\n",
      "\n",
      "           Exactitud: 0.461538\n",
      "   Precisión (media): 0.475454\n",
      "      Recall (media): 0.459199\n",
      "    F1-score (media): 0.457074\n",
      "\n",
      "\n",
      "AUC para el tipo de cáncer 0-Control.... 0.7361\n",
      "AUC para el tipo de cáncer 1-Bladder.... 0.9119\n",
      "AUC para el tipo de cáncer 2-Breast..... 0.6818\n",
      "AUC para el tipo de cáncer 3-Colorectal. 0.7574\n",
      "AUC para el tipo de cáncer 4-Kidney..... 0.8864\n",
      "AUC para el tipo de cáncer 5-Lung....... 0.8551\n",
      "AUC para el tipo de cáncer 6-Prostate... 0.8297\n",
      "\n",
      "Media de AUC: 0.8084\n"
     ]
    },
    {
     "data": {
      "image/png": "[encoded data removed]",
      "text/plain": [
       "<Figure size 1000x600 with 1 Axes>"
      ]
     },
     "metadata": {},
     "output_type": "display_data"
    },
    {
     "name": "stdout",
     "output_type": "stream",
     "text": [
      "\n",
      "\n"
     ]
    },
    {
     "data": {
      "image/png": "[encoded data removed]",
      "text/plain": [
       "<Figure size 800x400 with 2 Axes>"
      ]
     },
     "metadata": {},
     "output_type": "display_data"
    },
    {
     "name": "stdout",
     "output_type": "stream",
     "text": [
      "\n",
      "\n",
      "Puntuación Jaccard para el cáncer tipo 0-Control.... 0.2143\n",
      "Puntuación Jaccard para el cáncer tipo 1-Bladder.... 0.5000\n",
      "Puntuación Jaccard para el cáncer tipo 2-Breast..... 0.3333\n",
      "Puntuación Jaccard para el cáncer tipo 3-Colorectal. 0.1667\n",
      "Puntuación Jaccard para el cáncer tipo 4-Kidney..... 0.5455\n",
      "Puntuación Jaccard para el cáncer tipo 5-Lung....... 0.3750\n",
      "Puntuación Jaccard para el cáncer tipo 6-Prostate... 0.0769\n",
      "\n",
      "Media de la puntuación de Jaccard: 0.3160\n"
     ]
    }
   ],
   "source": [
    "if M_TIPO.startswith(\"bin\"):\n",
    "    myfunc.ver_metricas(mejor_modelo, X_test, y_test)\n",
    "else:\n",
    "    myfunc.ver_metricas_multi(mejor_modelo, X_test, y_test)\n"
   ]
  },
  {
   "cell_type": "markdown",
   "id": "74fa2ccb",
   "metadata": {
    "papermill": {
     "duration": 0.006182,
     "end_time": "2023-10-30T01:32:59.542135",
     "exception": false,
     "start_time": "2023-10-30T01:32:59.535953",
     "status": "completed"
    },
    "tags": []
   },
   "source": [
    "#### Finalización del notebook"
   ]
  },
  {
   "cell_type": "code",
   "execution_count": 11,
   "id": "2a2a38fe",
   "metadata": {
    "execution": {
     "iopub.execute_input": "2023-10-30T01:32:59.554596Z",
     "iopub.status.busy": "2023-10-30T01:32:59.554175Z",
     "iopub.status.idle": "2023-10-30T01:32:59.557678Z",
     "shell.execute_reply": "2023-10-30T01:32:59.557173Z"
    },
    "papermill": {
     "duration": 0.01097,
     "end_time": "2023-10-30T01:32:59.558806",
     "exception": false,
     "start_time": "2023-10-30T01:32:59.547836",
     "status": "completed"
    },
    "tags": []
   },
   "outputs": [
    {
     "name": "stdout",
     "output_type": "stream",
     "text": [
      "20231030T023259 : enderlab : INFO : Notebook ha tardado 397 seconds\n"
     ]
    }
   ],
   "source": [
    "end_time = datetime.datetime.now()\n",
    "total_time = end_time - start_time\n",
    "myfunc.verbose(f\"Notebook ha tardado {total_time.seconds} seconds\")"
   ]
  },
  {
   "cell_type": "markdown",
   "id": "ac91e1aa",
   "metadata": {
    "papermill": {
     "duration": 0.005631,
     "end_time": "2023-10-30T01:32:59.570187",
     "exception": false,
     "start_time": "2023-10-30T01:32:59.564556",
     "status": "completed"
    },
    "tags": []
   },
   "source": [
    "#### Guardar métricas"
   ]
  },
  {
   "cell_type": "code",
   "execution_count": 12,
   "id": "ab9cdbef",
   "metadata": {
    "execution": {
     "iopub.execute_input": "2023-10-30T01:32:59.582859Z",
     "iopub.status.busy": "2023-10-30T01:32:59.582411Z",
     "iopub.status.idle": "2023-10-30T01:32:59.928480Z",
     "shell.execute_reply": "2023-10-30T01:32:59.927934Z"
    },
    "papermill": {
     "duration": 0.353761,
     "end_time": "2023-10-30T01:32:59.929831",
     "exception": false,
     "start_time": "2023-10-30T01:32:59.576070",
     "status": "completed"
    },
    "tags": []
   },
   "outputs": [
    {
     "name": "stdout",
     "output_type": "stream",
     "text": [
      "20231030T023259 : enderlab : INFO : Inicio guardar métricas multiclase\n",
      "20231030T023259 : enderlab : INFO : Inicio leer fichero ../tfm_git/ejecuciones/metricas/metricas_8270.csv\n",
      "20231030T023259 : enderlab : INFO : Fin leer fichero ../tfm_git/ejecuciones/metricas/metricas_8270.csv\n"
     ]
    },
    {
     "name": "stdout",
     "output_type": "stream",
     "text": [
      "20231030T023259 : enderlab : INFO : Inicio guardar fichero ../tfm_git/ejecuciones/metricas/metricas_8270.csv\n",
      "20231030T023259 : enderlab : INFO : Fichero borrado ../tfm_git/ejecuciones/metricas/metricas_8270.csv\n",
      "20231030T023259 : enderlab : INFO : Fin guardar fichero ../tfm_git/ejecuciones/metricas/metricas_8270.csv\n",
      "20231030T023259 : enderlab : INFO : Fin guardar métricas multiclase\n",
      "20231030T023259 : enderlab : INFO : Inicio leer fichero ../tfm_git/ejecuciones/metricas/metricas_8270.csv\n",
      "20231030T023259 : enderlab : INFO : Fin leer fichero ../tfm_git/ejecuciones/metricas/metricas_8270.csv\n"
     ]
    },
    {
     "data": {
      "text/html": [
       "<div>\n",
       "<style scoped>\n",
       "    .dataframe tbody tr th:only-of-type {\n",
       "        vertical-align: middle;\n",
       "    }\n",
       "\n",
       "    .dataframe tbody tr th {\n",
       "        vertical-align: top;\n",
       "    }\n",
       "\n",
       "    .dataframe thead th {\n",
       "        text-align: right;\n",
       "    }\n",
       "</style>\n",
       "<table border=\"1\" class=\"dataframe\">\n",
       "  <thead>\n",
       "    <tr style=\"text-align: right;\">\n",
       "      <th></th>\n",
       "      <th>tipo</th>\n",
       "      <th>select</th>\n",
       "      <th>clasific</th>\n",
       "      <th>semilla</th>\n",
       "      <th>accuracy</th>\n",
       "      <th>precision</th>\n",
       "      <th>recall</th>\n",
       "      <th>f1_score</th>\n",
       "      <th>roc_auc</th>\n",
       "      <th>hostname</th>\n",
       "      <th>total_time_sec</th>\n",
       "      <th>datetime</th>\n",
       "      <th>fichero_modelo</th>\n",
       "      <th>params</th>\n",
       "      <th>shape</th>\n",
       "      <th>features</th>\n",
       "      <th>roc_auc_ovr</th>\n",
       "      <th>indices_auc</th>\n",
       "      <th>indices_jaccard</th>\n",
       "    </tr>\n",
       "  </thead>\n",
       "  <tbody>\n",
       "    <tr>\n",
       "      <th>0</th>\n",
       "      <td>mul_s</td>\n",
       "      <td>RF</td>\n",
       "      <td>LR_L1</td>\n",
       "      <td>8270</td>\n",
       "      <td>0.461538</td>\n",
       "      <td>0.475454</td>\n",
       "      <td>0.459199</td>\n",
       "      <td>0.457074</td>\n",
       "      <td>NaN</td>\n",
       "      <td>enderlab</td>\n",
       "      <td>397</td>\n",
       "      <td>2023-10-30 02:32:59.873688</td>\n",
       "      <td>modelo_8270_mul_s_RF_LR_L1.pkl</td>\n",
       "      <td>{'selector__max_features': 500, 'selector__est...</td>\n",
       "      <td>X_test:(52, 18875)</td>\n",
       "      <td>['ENSG00000003989.18', 'ENSG00000007866.22', '...</td>\n",
       "      <td>0.808355</td>\n",
       "      <td>[0.7361419068736142, 0.9119318181818182, 0.681...</td>\n",
       "      <td>[0.21428571428571427, 0.5, 0.3333333333333333,...</td>\n",
       "    </tr>\n",
       "    <tr>\n",
       "      <th>0</th>\n",
       "      <td>mul_s</td>\n",
       "      <td>RF</td>\n",
       "      <td>LR_EN</td>\n",
       "      <td>8270</td>\n",
       "      <td>0.365385</td>\n",
       "      <td>0.391620</td>\n",
       "      <td>0.379654</td>\n",
       "      <td>0.375397</td>\n",
       "      <td>NaN</td>\n",
       "      <td>enderlab</td>\n",
       "      <td>363</td>\n",
       "      <td>2023-10-30 02:26:15.357972</td>\n",
       "      <td>modelo_8270_mul_s_RF_LR_EN.pkl</td>\n",
       "      <td>{'selector__max_features': 500, 'selector__est...</td>\n",
       "      <td>X_test:(52, 18875)</td>\n",
       "      <td>['ENSG00000008438.5', 'ENSG00000008516.18', 'E...</td>\n",
       "      <td>0.760997</td>\n",
       "      <td>[0.5188470066518847, 0.8267045454545455, 0.659...</td>\n",
       "      <td>[0.058823529411764705, 0.45454545454545453, 0....</td>\n",
       "    </tr>\n",
       "    <tr>\n",
       "      <th>0</th>\n",
       "      <td>mul_s</td>\n",
       "      <td>MI</td>\n",
       "      <td>SVM</td>\n",
       "      <td>8270</td>\n",
       "      <td>0.442308</td>\n",
       "      <td>0.445166</td>\n",
       "      <td>0.447294</td>\n",
       "      <td>0.432284</td>\n",
       "      <td>NaN</td>\n",
       "      <td>enderlab</td>\n",
       "      <td>203</td>\n",
       "      <td>2023-10-30 02:20:04.467564</td>\n",
       "      <td>modelo_8270_mul_s_MI_SVM.pkl</td>\n",
       "      <td>{'selector__k': 1000, 'clasifier__kernel': 'rb...</td>\n",
       "      <td>X_test:(52, 18875)</td>\n",
       "      <td>['ENSG00000003137.9', 'ENSG00000004864.14', 'E...</td>\n",
       "      <td>0.773087</td>\n",
       "      <td>[0.5609756097560976, 0.8607954545454546, 0.698...</td>\n",
       "      <td>[0.2, 0.36363636363636365, 0.07692307692307693...</td>\n",
       "    </tr>\n",
       "  </tbody>\n",
       "</table>\n",
       "</div>"
      ],
      "text/plain": [
       "    tipo select clasific  semilla  accuracy  precision    recall  f1_score  \\\n",
       "0  mul_s     RF    LR_L1     8270  0.461538   0.475454  0.459199  0.457074   \n",
       "0  mul_s     RF    LR_EN     8270  0.365385   0.391620  0.379654  0.375397   \n",
       "0  mul_s     MI      SVM     8270  0.442308   0.445166  0.447294  0.432284   \n",
       "\n",
       "   roc_auc  hostname  total_time_sec                    datetime  \\\n",
       "0      NaN  enderlab             397  2023-10-30 02:32:59.873688   \n",
       "0      NaN  enderlab             363  2023-10-30 02:26:15.357972   \n",
       "0      NaN  enderlab             203  2023-10-30 02:20:04.467564   \n",
       "\n",
       "                   fichero_modelo  \\\n",
       "0  modelo_8270_mul_s_RF_LR_L1.pkl   \n",
       "0  modelo_8270_mul_s_RF_LR_EN.pkl   \n",
       "0    modelo_8270_mul_s_MI_SVM.pkl   \n",
       "\n",
       "                                              params               shape  \\\n",
       "0  {'selector__max_features': 500, 'selector__est...  X_test:(52, 18875)   \n",
       "0  {'selector__max_features': 500, 'selector__est...  X_test:(52, 18875)   \n",
       "0  {'selector__k': 1000, 'clasifier__kernel': 'rb...  X_test:(52, 18875)   \n",
       "\n",
       "                                            features  roc_auc_ovr  \\\n",
       "0  ['ENSG00000003989.18', 'ENSG00000007866.22', '...     0.808355   \n",
       "0  ['ENSG00000008438.5', 'ENSG00000008516.18', 'E...     0.760997   \n",
       "0  ['ENSG00000003137.9', 'ENSG00000004864.14', 'E...     0.773087   \n",
       "\n",
       "                                         indices_auc  \\\n",
       "0  [0.7361419068736142, 0.9119318181818182, 0.681...   \n",
       "0  [0.5188470066518847, 0.8267045454545455, 0.659...   \n",
       "0  [0.5609756097560976, 0.8607954545454546, 0.698...   \n",
       "\n",
       "                                     indices_jaccard  \n",
       "0  [0.21428571428571427, 0.5, 0.3333333333333333,...  \n",
       "0  [0.058823529411764705, 0.45454545454545453, 0....  \n",
       "0  [0.2, 0.36363636363636365, 0.07692307692307693...  "
      ]
     },
     "metadata": {},
     "output_type": "display_data"
    }
   ],
   "source": [
    "if M_TIPO.startswith(\"bin\"):\n",
    "    myfunc.save_metricas_to_csv(random_search, X_test, y_test, M_TIPO, M_SELECT, M_CLASIF, total_time, SEMILLA, myfunc.MET_DIR, M_FICHERO, fichero_modelo)\n",
    "else:\n",
    "    myfunc.save_metricas_multi_to_csv(random_search, X_test, y_test, M_TIPO, M_SELECT, M_CLASIF, total_time, SEMILLA, myfunc.MET_DIR, M_FICHERO, fichero_modelo)\n",
    "\n",
    "df1=myfunc.read_metricas_to_df(myfunc.MET_DIR,M_FICHERO)\n",
    "\n",
    "display(df1.sort_values(\"datetime\", ascending=False)[:3])\n"
   ]
  },
  {
   "cell_type": "markdown",
   "id": "75152eb2",
   "metadata": {
    "papermill": {
     "duration": 0.00634,
     "end_time": "2023-10-30T01:32:59.942886",
     "exception": false,
     "start_time": "2023-10-30T01:32:59.936546",
     "status": "completed"
    },
    "tags": []
   },
   "source": [
    "#### Guardar resultados"
   ]
  },
  {
   "cell_type": "code",
   "execution_count": 13,
   "id": "ed78d4c7",
   "metadata": {
    "execution": {
     "iopub.execute_input": "2023-10-30T01:32:59.956816Z",
     "iopub.status.busy": "2023-10-30T01:32:59.956357Z",
     "iopub.status.idle": "2023-10-30T01:32:59.964964Z",
     "shell.execute_reply": "2023-10-30T01:32:59.964439Z"
    },
    "papermill": {
     "duration": 0.016771,
     "end_time": "2023-10-30T01:32:59.966146",
     "exception": false,
     "start_time": "2023-10-30T01:32:59.949375",
     "status": "completed"
    },
    "tags": []
   },
   "outputs": [
    {
     "name": "stdout",
     "output_type": "stream",
     "text": [
      "20231030T023259 : enderlab : INFO : Inicio guardar resultados\n",
      "20231030T023259 : enderlab : INFO : Inicio guardar fichero ../tfm_git/ejecuciones/metricas/resultados_8270_mul_s-RF-LR_L1.csv\n",
      "20231030T023259 : enderlab : INFO : Fin guardar fichero ../tfm_git/ejecuciones/metricas/resultados_8270_mul_s-RF-LR_L1.csv\n",
      "20231030T023259 : enderlab : INFO : Fin guardar resultados\n"
     ]
    }
   ],
   "source": [
    "fichero_resultados=R_FICHERO+\"_\"+M_TIPO+\"-\"+M_SELECT+\"-\"+M_CLASIF+\".csv\"\n",
    "myfunc.save_resultados_to_csv(M_TIPO, M_SELECT, M_CLASIF,  random_search, myfunc.MET_DIR, fichero_resultados)\n"
   ]
  }
 ],
 "metadata": {
  "kernelspec": {
   "display_name": "Python 3 (ipykernel)",
   "language": "python",
   "name": "python3"
  },
  "language_info": {
   "codemirror_mode": {
    "name": "ipython",
    "version": 3
   },
   "file_extension": ".py",
   "mimetype": "text/x-python",
   "name": "python",
   "nbconvert_exporter": "python",
   "pygments_lexer": "ipython3",
   "version": "3.10.11"
  },
  "papermill": {
   "default_parameters": {},
   "duration": 402.880197,
   "end_time": "2023-10-30T01:33:02.589347",
   "environment_variables": {},
   "exception": null,
   "input_path": "03_entrenamiento.ipynb",
   "output_path": "ejecuciones/training/03_entrenamiento.20231030T022619.param_0000_8270_mul_s_RF_LR_L1.output.ipynb",
   "parameters": {
    "MAX_ITERS": 500,
    "M_CLASIF": "LR_L1",
    "M_FICHERO": "metricas_8270",
    "M_SELECT": "RF",
    "M_TIPO": "mul_s",
    "PRE_DATA_FILE": "rows_transpose_norm_by_gene_id_with_target_num_",
    "P_FICHERO": "param_0000_8270_mul_s_RF_LR_L1.yaml",
    "R_FICHERO": "resultados_8270",
    "SCORING": "roc_auc_ovr",
    "SEMILLA": 8270,
    "eval_clasifier": "LogisticRegressionCV(random_state=SEMILLA)",
    "eval_selector": "SelectFromModel(estimator=RandomForestClassifier(random_state=SEMILLA), threshold=-np.inf)",
    "param_distributions": {
     "clasifier__max_iter": [
      10000
     ],
     "clasifier__penalty": [
      "l1"
     ],
     "clasifier__solver": [
      "saga"
     ],
     "selector__estimator__n_estimators": [
      100
     ],
     "selector__max_features": [
      500
     ]
    }
   },
   "start_time": "2023-10-30T01:26:19.709150",
   "version": "2.4.0"
  }
 },
 "nbformat": 4,
 "nbformat_minor": 5
}