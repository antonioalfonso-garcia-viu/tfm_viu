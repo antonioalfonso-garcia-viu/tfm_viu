{
 "cells": [
  {
   "cell_type": "markdown",
   "id": "b9599f00",
   "metadata": {
    "papermill": {
     "duration": 0.005334,
     "end_time": "2023-10-30T01:05:11.939746",
     "exception": false,
     "start_time": "2023-10-30T01:05:11.934412",
     "status": "completed"
    },
    "tags": []
   },
   "source": [
    "##### Inicio"
   ]
  },
  {
   "cell_type": "markdown",
   "id": "2c9504e6",
   "metadata": {
    "papermill": {
     "duration": 0.003362,
     "end_time": "2023-10-30T01:05:11.946805",
     "exception": false,
     "start_time": "2023-10-30T01:05:11.943443",
     "status": "completed"
    },
    "tags": []
   },
   "source": [
    "#### Carga de datos"
   ]
  },
  {
   "cell_type": "code",
   "execution_count": 1,
   "id": "bd01e702",
   "metadata": {
    "execution": {
     "iopub.execute_input": "2023-10-30T01:05:11.954781Z",
     "iopub.status.busy": "2023-10-30T01:05:11.954349Z",
     "iopub.status.idle": "2023-10-30T01:05:21.740648Z",
     "shell.execute_reply": "2023-10-30T01:05:21.740015Z"
    },
    "papermill": {
     "duration": 9.791896,
     "end_time": "2023-10-30T01:05:21.742013",
     "exception": false,
     "start_time": "2023-10-30T01:05:11.950117",
     "status": "completed"
    },
    "tags": []
   },
   "outputs": [
    {
     "name": "stdout",
     "output_type": "stream",
     "text": [
      "CPU_COUNT: 16; NODE: enderlab; sys.version: 3.10.11 (main, May 16 2023, 00:28:57) [GCC 11.2.0]\n",
      "LOKY_MAX_CPU_COUNT is not set.\n",
      "OMP_NUM_THREADS is not set.\n"
     ]
    }
   ],
   "source": [
    "import os\n",
    "import numpy as np\n",
    "import pandas as pd\n",
    "import datetime\n",
    "import sklearn\n",
    "import logging\n",
    "import warnings\n",
    "\n",
    "from sklearn.pipeline import Pipeline\n",
    "from sklearn.model_selection import RandomizedSearchCV, KFold, cross_val_score, train_test_split\n",
    "from sklearn.metrics import accuracy_score, confusion_matrix, classification_report, roc_auc_score\n",
    "\n",
    "#  cargar algoritmos para aprendizaje supervisado\n",
    "from sklearn.feature_selection import SelectKBest, f_classif, SelectFromModel, mutual_info_classif\n",
    "from sklearn.svm import SVC\n",
    "from sklearn.ensemble import RandomForestClassifier\n",
    "from sklearn.linear_model import LogisticRegression,LogisticRegressionCV\n",
    "\n",
    "# importar fichero con utilidades propias\n",
    "from commons import myfunctions as myfunc\n"
   ]
  },
  {
   "cell_type": "markdown",
   "id": "8519f2b6",
   "metadata": {
    "papermill": {
     "duration": 0.003557,
     "end_time": "2023-10-30T01:05:21.749449",
     "exception": false,
     "start_time": "2023-10-30T01:05:21.745892",
     "status": "completed"
    },
    "tags": []
   },
   "source": [
    "#### Parámetros a utilizar en el entrenamiento.\n",
    "\n",
    "Se indican los 3 algoritmos de *selección de características* (eval_selector_xxx) y los 3 algoritmos para la _clasificación_ (eval_clasifier_xxx)\n",
    "\n",
    "En *param_distributions* se indicar los parámetros que utilizan los algoritmos en la función RandomSearchCV.\n",
    "\n",
    "Esta celda tiene la etiqueta **parameters** que servirá para poder lanzar los entrenamientos con la utilidad **papermill** pasándole un fichero con los parámetros. Los nuevos parámetros se situarán tras esta celda para tener prevalencia."
   ]
  },
  {
   "cell_type": "code",
   "execution_count": 2,
   "id": "b2f44f88",
   "metadata": {
    "execution": {
     "iopub.execute_input": "2023-10-30T01:05:21.757789Z",
     "iopub.status.busy": "2023-10-30T01:05:21.757270Z",
     "iopub.status.idle": "2023-10-30T01:05:21.765705Z",
     "shell.execute_reply": "2023-10-30T01:05:21.765168Z"
    },
    "papermill": {
     "duration": 0.016427,
     "end_time": "2023-10-30T01:05:21.769318",
     "exception": false,
     "start_time": "2023-10-30T01:05:21.752891",
     "status": "completed"
    },
    "tags": [
     "parameters"
    ]
   },
   "outputs": [
    {
     "name": "stdout",
     "output_type": "stream",
     "text": [
      "20231030T020521 : enderlab : INFO : Utilizando parámetros de mul_m\n"
     ]
    }
   ],
   "source": [
    "#  Parametros para el entrenamiento\n",
    "\n",
    "SEMILLA=        42\n",
    "M_TIPO=         \"mul_m\"\n",
    "M_SELECT=       \"MI\"\n",
    "M_CLASIF=       \"SVM\"\n",
    "R_FICHERO=      \"resultados\"\n",
    "M_FICHERO=      \"metricas\"\n",
    "PRE_DATA_FILE=  \"rows_transpose_norm_by_gene_id_with_target_num_\"\n",
    "SCORING=        \"roc_auc_ovr\" \n",
    "MAX_ITERS=      100\n",
    "\n",
    "def mutual_info_classif_state(X, y):\n",
    "    return mutual_info_classif(X, y, random_state=SEMILLA)\n",
    "\n",
    "eval_selector_mi = \"SelectKBest(score_func=mutual_info_classif_state)\"\n",
    "eval_selector_rf=  \"SelectFromModel(estimator=RandomForestClassifier(random_state=SEMILLA), threshold=-np.inf)\"\n",
    "eval_selector_anova=  \"SelectKBest(score_func=f_classif)\"\n",
    "\n",
    "eval_clasifier_svm= \"SVC(probability=True, random_state=SEMILLA)\"\n",
    "eval_clasifier_rf= \"RandomForestClassifier(random_state=SEMILLA)\"\n",
    "eval_clasifier_lr= \"LogisticRegressionCV(random_state=SEMILLA)\"\n",
    "\n",
    "if M_TIPO.startswith(\"bin_m\"):\n",
    "    myfunc.verbose(f\"Utilizando parámetros de {M_TIPO}\")\n",
    "    eval_selector = eval_selector_mi\n",
    "    eval_clasifier = eval_clasifier_svm\n",
    "\n",
    "    SEMILLA = 6578\n",
    "    M_SELECT = \"MI\"\n",
    "    M_CLASIF = \"SVM\"\n",
    "    param_distributions = {'selector__k': [1000], \n",
    "         'clasifier__kernel': ['rbf'], 'clasifier__gamma': [0.01], 'clasifier__C': [100]}\n",
    "elif M_TIPO.startswith(\"bin_s\"):\n",
    "    myfunc.verbose(f\"Utilizando parámetros de {M_TIPO}\")\n",
    "    eval_selector = eval_selector_rf\n",
    "    eval_clasifier = eval_clasifier_lr\n",
    "\n",
    "    SEMILLA = 6191\n",
    "    M_SELECT = \"RF\"\n",
    "    M_CLASIF = \"LR_L2\"\n",
    "    param_distributions = {'selector__max_features': [1000], 'selector__estimator__n_estimators': [200], \n",
    "        'clasifier__solver': ['lbfgs'], 'clasifier__penalty': ['l2'], 'clasifier__max_iter': [10000]}\n",
    "\n",
    "elif M_TIPO.startswith(\"mul_m\"):\n",
    "    myfunc.verbose(f\"Utilizando parámetros de {M_TIPO}\")\n",
    " \n",
    "    eval_selector = eval_selector_rf\n",
    "    eval_clasifier = eval_clasifier_lr\n",
    "\n",
    "    SEMILLA = 6191\n",
    "    M_SELECT = \"RF\"\n",
    "    M_CLASIF = \"LR_L2\"\n",
    "    param_distributions = {'selector__max_features': [1000], 'selector__estimator__n_estimators': [400], \n",
    "        'clasifier__solver': ['lbfgs'], 'clasifier__penalty': ['l2'], 'clasifier__max_iter': [10000]}\n",
    "\n",
    "else:\n",
    "    # M_TIPO.startswith(\"mul_s\"):\n",
    "    myfunc.verbose(f\"Utilizando parámetros de {M_TIPO}\")\n",
    "    eval_selector = eval_selector_anova\n",
    "    eval_clasifier = eval_clasifier_lr\n",
    "\n",
    "    SEMILLA = 1860\n",
    "    M_SELECT = \"ANOVA\"\n",
    "    M_CLASIF = \"LR_L2\"\n",
    "    param_distributions = {'selector__k': [1000], \n",
    "        'clasifier__solver': ['saga'], 'clasifier__penalty': ['l2'], 'clasifier__max_iter': [10000]}\n",
    "\n"
   ]
  },
  {
   "cell_type": "code",
   "execution_count": 3,
   "id": "a69986b3",
   "metadata": {
    "execution": {
     "iopub.execute_input": "2023-10-30T01:05:21.778437Z",
     "iopub.status.busy": "2023-10-30T01:05:21.778024Z",
     "iopub.status.idle": "2023-10-30T01:05:21.781837Z",
     "shell.execute_reply": "2023-10-30T01:05:21.781321Z"
    },
    "papermill": {
     "duration": 0.009436,
     "end_time": "2023-10-30T01:05:21.783006",
     "exception": false,
     "start_time": "2023-10-30T01:05:21.773570",
     "status": "completed"
    },
    "tags": [
     "injected-parameters"
    ]
   },
   "outputs": [],
   "source": [
    "# Parameters\n",
    "M_TIPO = \"mul_s\"\n",
    "M_SELECT = \"MI\"\n",
    "M_CLASIF = \"LR_L2\"\n",
    "P_FICHERO = \"param_0000_8270_mul_s_MI_LR_L2.yaml\"\n",
    "R_FICHERO = \"resultados_8270\"\n",
    "M_FICHERO = \"metricas_8270\"\n",
    "PRE_DATA_FILE = \"rows_transpose_norm_by_gene_id_with_target_num_\"\n",
    "SCORING = \"roc_auc_ovr\"\n",
    "SEMILLA = 8270\n",
    "MAX_ITERS = 500\n",
    "eval_selector = \"SelectKBest(score_func=mutual_info_classif_state)\"\n",
    "eval_clasifier = \"LogisticRegressionCV(random_state=SEMILLA)\"\n",
    "param_distributions = {\n",
    "    \"selector__k\": [500],\n",
    "    \"clasifier__solver\": [\"saga\"],\n",
    "    \"clasifier__penalty\": [\"l2\"],\n",
    "    \"clasifier__max_iter\": [10000],\n",
    "}\n"
   ]
  },
  {
   "cell_type": "code",
   "execution_count": 4,
   "id": "26fae8f2",
   "metadata": {
    "execution": {
     "iopub.execute_input": "2023-10-30T01:05:21.791246Z",
     "iopub.status.busy": "2023-10-30T01:05:21.790805Z",
     "iopub.status.idle": "2023-10-30T01:05:21.793953Z",
     "shell.execute_reply": "2023-10-30T01:05:21.793439Z"
    },
    "papermill": {
     "duration": 0.008665,
     "end_time": "2023-10-30T01:05:21.795166",
     "exception": false,
     "start_time": "2023-10-30T01:05:21.786501",
     "status": "completed"
    },
    "tags": []
   },
   "outputs": [],
   "source": [
    "DATA_FILE = PRE_DATA_FILE + M_TIPO\n",
    "\n",
    "# si viene \"None\" en el parámetro max_depth, se le quitan las comillas para que no sea entendido por el algoritmo como un texto\n",
    "if \"clasifier__max_depth\" in param_distributions:\n",
    "    param_distributions['clasifier__max_depth'] = [None if x == 'None' else x for x in param_distributions['clasifier__max_depth']]"
   ]
  },
  {
   "cell_type": "markdown",
   "id": "e997aeec",
   "metadata": {
    "papermill": {
     "duration": 0.003497,
     "end_time": "2023-10-30T01:05:21.802154",
     "exception": false,
     "start_time": "2023-10-30T01:05:21.798657",
     "status": "completed"
    },
    "tags": []
   },
   "source": [
    "Asignar los algoritmos que se utilizarán en la función RandomSearchCV"
   ]
  },
  {
   "cell_type": "code",
   "execution_count": 5,
   "id": "a4f98c4b",
   "metadata": {
    "execution": {
     "iopub.execute_input": "2023-10-30T01:05:21.810193Z",
     "iopub.status.busy": "2023-10-30T01:05:21.809816Z",
     "iopub.status.idle": "2023-10-30T01:05:21.812650Z",
     "shell.execute_reply": "2023-10-30T01:05:21.812132Z"
    },
    "papermill": {
     "duration": 0.008129,
     "end_time": "2023-10-30T01:05:21.813858",
     "exception": false,
     "start_time": "2023-10-30T01:05:21.805729",
     "status": "completed"
    },
    "tags": []
   },
   "outputs": [],
   "source": [
    "algor_selector=eval(eval_selector)\n",
    "algor_clasifier=eval(eval_clasifier)"
   ]
  },
  {
   "cell_type": "markdown",
   "id": "a9959732",
   "metadata": {
    "papermill": {
     "duration": 0.003571,
     "end_time": "2023-10-30T01:05:21.820915",
     "exception": false,
     "start_time": "2023-10-30T01:05:21.817344",
     "status": "completed"
    },
    "tags": []
   },
   "source": [
    "#### Comprobar el entorno y leer fichero de muestras"
   ]
  },
  {
   "cell_type": "code",
   "execution_count": 6,
   "id": "a536bd0d",
   "metadata": {
    "execution": {
     "iopub.execute_input": "2023-10-30T01:05:21.828954Z",
     "iopub.status.busy": "2023-10-30T01:05:21.828596Z",
     "iopub.status.idle": "2023-10-30T01:05:22.556824Z",
     "shell.execute_reply": "2023-10-30T01:05:22.556177Z"
    },
    "papermill": {
     "duration": 0.733712,
     "end_time": "2023-10-30T01:05:22.558169",
     "exception": false,
     "start_time": "2023-10-30T01:05:21.824457",
     "status": "completed"
    },
    "tags": []
   },
   "outputs": [
    {
     "name": "stdout",
     "output_type": "stream",
     "text": [
      "20231030T020521 : enderlab : INFO : Encontrada carpeta DATA_DIR=../tfm_git/datos\n",
      "20231030T020521 : enderlab : INFO : Encontrada carpeta CFDNA_DIR=../tfm_git/datos/cfDNA_5hmC\n",
      "20231030T020521 : enderlab : INFO : Encontrada carpeta GENCODE_DIR=../tfm_git/datos/gencode\n",
      "20231030T020521 : enderlab : INFO : Encontrada carpeta H5_DIR=../tfm_git/datos/h5\n",
      "20231030T020521 : enderlab : INFO : Encontrada carpeta LOG_DIR=../tfm_git/datos/logs\n",
      "20231030T020521 : enderlab : INFO : Encontrada carpeta CSV_DIR=../tfm_git/datos/csv\n",
      "20231030T020521 : enderlab : INFO : Encontrada carpeta MODEL_DIR=../tfm_git/ejecuciones/modelos\n",
      "20231030T020521 : enderlab : INFO : Encontrada carpeta EXEC_DIR=../tfm_git/ejecuciones\n",
      "20231030T020521 : enderlab : INFO : Encontrada carpeta MET_DIR=../tfm_git/ejecuciones/metricas\n",
      "20231030T020521 : enderlab : INFO : Inicio leer fichero h5 ../tfm_git/datos/h5/rows_transpose_norm_by_gene_id_with_target_num_mul_s.h5\n"
     ]
    },
    {
     "name": "stdout",
     "output_type": "stream",
     "text": [
      "20231030T020522 : enderlab : INFO : Leyendo clave /df\n",
      "20231030T020522 : enderlab : INFO : Tamaño (259, 18876)\n",
      "20231030T020522 : enderlab : INFO : Fin leer fichero h5 ../tfm_git/datos/h5/rows_transpose_norm_by_gene_id_with_target_num_mul_s.h5\n"
     ]
    },
    {
     "data": {
      "text/plain": [
       "target\n",
       "0    37\n",
       "1    37\n",
       "2    37\n",
       "3    37\n",
       "4    37\n",
       "5    37\n",
       "6    37\n",
       "dtype: int64"
      ]
     },
     "metadata": {},
     "output_type": "display_data"
    },
    {
     "name": "stdout",
     "output_type": "stream",
     "text": [
      "Shape df: (259, 18876)\n",
      "Shape X_train: (207, 18875)\n",
      "Shape X_test: (52, 18875)\n"
     ]
    }
   ],
   "source": [
    "start_time = datetime.datetime.now()\n",
    "\n",
    "myfunc.reset_vars()\n",
    "\n",
    "myfunc.NOTEBK_FILENAME = myfunc.get_nb_name()\n",
    "\n",
    "myfunc.check_enviroment(myfunc.DATA_DIR, myfunc.CFDNA_DIR, myfunc.GENCODE_DIR, myfunc.H5_DIR, myfunc.LOG_DIR, myfunc.CSV_DIR, myfunc.MODEL_DIR, myfunc.EXEC_DIR, myfunc.MET_DIR)\n",
    "\n",
    "# Leer fichero con las muestras\n",
    "df_t = myfunc.read_h5_to_df(DATA_FILE, myfunc.H5_DIR)\n",
    "display(df_t.groupby(\"target\").size())\n",
    "print(\"Shape df:\",df_t.shape)\n",
    "\n",
    "# Separar caracteristicas/genes de las etiquetas/tipos de cáncer\n",
    "X = df_t.iloc[:, :-1]  # Todas las columnas excepto la última\n",
    "y = df_t.iloc[:, -1]  # La última columna contiene los identificadores de los tipos de cáncer\n",
    "\n",
    "#  Crear el conjunto de datos de entrenamiento y de pruebas, y se fija la semilla para siempre coger el mismo juego de muestras\n",
    "X_train, X_test, y_train, y_test = train_test_split(X, y, test_size=0.2, shuffle=True, random_state=42)\n",
    "print(\"Shape X_train:\",X_train.shape)\n",
    "print(\"Shape X_test:\",X_test.shape)\n"
   ]
  },
  {
   "cell_type": "markdown",
   "id": "b2790caa",
   "metadata": {
    "papermill": {
     "duration": 0.004003,
     "end_time": "2023-10-30T01:05:22.566737",
     "exception": false,
     "start_time": "2023-10-30T01:05:22.562734",
     "status": "completed"
    },
    "tags": []
   },
   "source": [
    "#### Selección de características y clasificación."
   ]
  },
  {
   "cell_type": "code",
   "execution_count": 7,
   "id": "7ac00f06",
   "metadata": {
    "execution": {
     "iopub.execute_input": "2023-10-30T01:05:22.575678Z",
     "iopub.status.busy": "2023-10-30T01:05:22.575238Z",
     "iopub.status.idle": "2023-10-30T01:12:34.174035Z",
     "shell.execute_reply": "2023-10-30T01:12:34.173210Z"
    },
    "papermill": {
     "duration": 431.608905,
     "end_time": "2023-10-30T01:12:34.179526",
     "exception": false,
     "start_time": "2023-10-30T01:05:22.570621",
     "status": "completed"
    },
    "tags": []
   },
   "outputs": [
    {
     "name": "stdout",
     "output_type": "stream",
     "text": [
      "20231030T020522 : enderlab : INFO : Iniciando entrenamiento\n",
      "num_iter: 1 , max_iter: 1\n",
      "Fitting 5 folds for each of 1 candidates, totalling 5 fits\n"
     ]
    },
    {
     "name": "stdout",
     "output_type": "stream",
     "text": [
      "Mejores Hiperparámetros: {'selector__k': 500, 'clasifier__solver': 'saga', 'clasifier__penalty': 'l2', 'clasifier__max_iter': 10000}\n",
      "Mejor Puntuación: 0.7848\n",
      "20231030T021234 : enderlab : INFO : Fin entrenamiento\n"
     ]
    }
   ],
   "source": [
    "myfunc.verbose(\"Iniciando entrenamiento\")\n",
    "\n",
    "kf = KFold(n_splits=5, shuffle=True, random_state=SEMILLA)\n",
    "\n",
    "# Crear el pipeline para el flujo de tareas\n",
    "tasks_pipeline = Pipeline([\n",
    "    ('selector', algor_selector),\n",
    "    ('clasifier', algor_clasifier)\n",
    "])\n",
    "\n",
    "# MAX_ITERS puede limitar el número de iteraciones si son excesivas para las combinaciones de parámetros buscando un óptimo local, \n",
    "# sino funcionaría como GridSearchCV al revisar todas las cominaciones de los parámetros\n",
    "num_iteraciones = 1\n",
    "num_iteraciones = num_iteraciones * np.prod([len(elemento1) for _, elemento1 in param_distributions.items()])\n",
    "max_iteraciones = num_iteraciones if num_iteraciones <= MAX_ITERS else MAX_ITERS\n",
    "print(\"num_iter:\",num_iteraciones,\", max_iter:\",max_iteraciones)\n",
    "\n",
    "random_search = RandomizedSearchCV(\n",
    "    tasks_pipeline, \n",
    "    param_distributions, \n",
    "    n_iter=max_iteraciones,\n",
    "    scoring=SCORING,\n",
    "    cv=kf,\n",
    "    verbose=3, \n",
    "    random_state=SEMILLA, \n",
    "    n_jobs=-1\n",
    "    )\n",
    "\n",
    "# Entrenar el modelo\n",
    "random_search.fit(X_train, y_train)\n",
    "\n",
    "# Ver los mejores hiperparámetros encontrados\n",
    "print(f'Mejores Hiperparámetros: {random_search.best_params_}')\n",
    "print(f'Mejor Puntuación: {random_search.best_score_:.4f}')\n",
    "\n",
    "# Nos quedamos con el mejor modelo para ver las métricas\n",
    "mejor_modelo = random_search.best_estimator_\n",
    "\n",
    "myfunc.verbose(\"Fin entrenamiento\")"
   ]
  },
  {
   "cell_type": "markdown",
   "id": "85ac9d7e",
   "metadata": {
    "papermill": {
     "duration": 0.00406,
     "end_time": "2023-10-30T01:12:34.187904",
     "exception": false,
     "start_time": "2023-10-30T01:12:34.183844",
     "status": "completed"
    },
    "tags": []
   },
   "source": [
    "#### Guardar modelo"
   ]
  },
  {
   "cell_type": "code",
   "execution_count": 8,
   "id": "37d95da9",
   "metadata": {
    "execution": {
     "iopub.execute_input": "2023-10-30T01:12:34.198115Z",
     "iopub.status.busy": "2023-10-30T01:12:34.197759Z",
     "iopub.status.idle": "2023-10-30T01:12:34.212575Z",
     "shell.execute_reply": "2023-10-30T01:12:34.212014Z"
    },
    "papermill": {
     "duration": 0.021673,
     "end_time": "2023-10-30T01:12:34.213783",
     "exception": false,
     "start_time": "2023-10-30T01:12:34.192110",
     "status": "completed"
    },
    "tags": []
   },
   "outputs": [
    {
     "name": "stdout",
     "output_type": "stream",
     "text": [
      "20231030T021234 : enderlab : INFO : Inicio guardar fichero ../tfm_git/ejecuciones/modelos/modelo_8270_mul_s_MI_LR_L2.pkl\n",
      "20231030T021234 : enderlab : INFO : Fin guardar fichero ../tfm_git/ejecuciones/modelos/modelo_8270_mul_s_MI_LR_L2.pkl\n"
     ]
    }
   ],
   "source": [
    "fichero_modelo = str.replace(\"modelo_\"+str(SEMILLA).zfill(4)+\"_\"+M_TIPO+\"_\"+M_SELECT+\"_\"+M_CLASIF+\".pkl\", \" \", \"_\")\n",
    "\n",
    "myfunc.save_modelo(mejor_modelo, myfunc.MODEL_DIR, fichero_modelo)"
   ]
  },
  {
   "cell_type": "markdown",
   "id": "2d2d3780",
   "metadata": {
    "papermill": {
     "duration": 0.004459,
     "end_time": "2023-10-30T01:12:34.222370",
     "exception": false,
     "start_time": "2023-10-30T01:12:34.217911",
     "status": "completed"
    },
    "tags": []
   },
   "source": [
    "#### Ver resultados del las iteraciones hechas por RandomSearchCV"
   ]
  },
  {
   "cell_type": "code",
   "execution_count": 9,
   "id": "df5a95b1",
   "metadata": {
    "execution": {
     "iopub.execute_input": "2023-10-30T01:12:34.232226Z",
     "iopub.status.busy": "2023-10-30T01:12:34.231818Z",
     "iopub.status.idle": "2023-10-30T01:12:34.239138Z",
     "shell.execute_reply": "2023-10-30T01:12:34.238587Z"
    },
    "papermill": {
     "duration": 0.013765,
     "end_time": "2023-10-30T01:12:34.240371",
     "exception": false,
     "start_time": "2023-10-30T01:12:34.226606",
     "status": "completed"
    },
    "tags": []
   },
   "outputs": [
    {
     "name": "stdout",
     "output_type": "stream",
     "text": [
      "20231030T021234 : enderlab : INFO : Inicio ver resultados\n",
      "Mejores Hiperparámetros: {'selector__k': 500, 'clasifier__solver': 'saga', 'clasifier__penalty': 'l2', 'clasifier__max_iter': 10000}\n",
      "Mejores puntuaciones: 0.7848 | Params: {'selector__k': 500, 'clasifier__solver': 'saga', 'clasifier__penalty': 'l2', 'clasifier__max_iter': 10000}\n",
      "Media de las puntuaciones: 0.7848 | Params: {'selector__k': 500, 'clasifier__solver': 'saga', 'clasifier__penalty': 'l2', 'clasifier__max_iter': 10000}\n",
      "20231030T021234 : enderlab : INFO : Fin resultados\n"
     ]
    }
   ],
   "source": [
    "myfunc.ver_resultados_search(random_search)"
   ]
  },
  {
   "cell_type": "markdown",
   "id": "c4ab9b43",
   "metadata": {
    "papermill": {
     "duration": 0.004255,
     "end_time": "2023-10-30T01:12:34.248769",
     "exception": false,
     "start_time": "2023-10-30T01:12:34.244514",
     "status": "completed"
    },
    "tags": []
   },
   "source": [
    "#### Ver métricas del mejor modelo"
   ]
  },
  {
   "cell_type": "code",
   "execution_count": 10,
   "id": "13fd29b6",
   "metadata": {
    "execution": {
     "iopub.execute_input": "2023-10-30T01:12:34.258296Z",
     "iopub.status.busy": "2023-10-30T01:12:34.257934Z",
     "iopub.status.idle": "2023-10-30T01:12:35.034460Z",
     "shell.execute_reply": "2023-10-30T01:12:35.033847Z"
    },
    "papermill": {
     "duration": 0.782743,
     "end_time": "2023-10-30T01:12:35.035742",
     "exception": false,
     "start_time": "2023-10-30T01:12:34.252999",
     "status": "completed"
    },
    "tags": []
   },
   "outputs": [
    {
     "name": "stdout",
     "output_type": "stream",
     "text": [
      "20231030T021234 : enderlab : INFO : Inicio ver métricas multiclase\n"
     ]
    },
    {
     "name": "stdout",
     "output_type": "stream",
     "text": [
      "              precision    recall  f1-score   support\n",
      "\n",
      "           0       0.60      0.27      0.37        11\n",
      "           1       1.00      0.38      0.55         8\n",
      "           2       0.17      0.12      0.14         8\n",
      "           3       0.25      0.60      0.35         5\n",
      "           4       0.67      1.00      0.80         8\n",
      "           5       0.75      0.50      0.60         6\n",
      "           6       0.40      0.67      0.50         6\n",
      "\n",
      "    accuracy                           0.48        52\n",
      "   macro avg       0.55      0.51      0.47        52\n",
      "weighted avg       0.57      0.48      0.47        52\n",
      "\n",
      "\n",
      "\n",
      "           Exactitud: 0.480769\n",
      "   Precisión (media): 0.547619\n",
      "      Recall (media): 0.505628\n",
      "    F1-score (media): 0.473750\n",
      "\n",
      "\n",
      "AUC para el tipo de cáncer 0-Control.... 0.6497\n",
      "AUC para el tipo de cáncer 1-Bladder.... 0.9119\n",
      "AUC para el tipo de cáncer 2-Breast..... 0.7188\n",
      "AUC para el tipo de cáncer 3-Colorectal. 0.7489\n",
      "AUC para el tipo de cáncer 4-Kidney..... 0.9432\n"
     ]
    },
    {
     "name": "stdout",
     "output_type": "stream",
     "text": [
      "AUC para el tipo de cáncer 5-Lung....... 0.9529\n",
      "AUC para el tipo de cáncer 6-Prostate... 0.8478\n",
      "\n",
      "Media de AUC: 0.8247\n"
     ]
    },
    {
     "data": {
      "image/png": "[encoded data removed]",
      "text/plain": [
       "<Figure size 1000x600 with 1 Axes>"
      ]
     },
     "metadata": {},
     "output_type": "display_data"
    },
    {
     "name": "stdout",
     "output_type": "stream",
     "text": [
      "\n",
      "\n"
     ]
    },
    {
     "data": {
      "image/png": "[encoded data removed]",
      "text/plain": [
       "<Figure size 800x400 with 2 Axes>"
      ]
     },
     "metadata": {},
     "output_type": "display_data"
    },
    {
     "name": "stdout",
     "output_type": "stream",
     "text": [
      "\n",
      "\n",
      "Puntuación Jaccard para el cáncer tipo 0-Control.... 0.2308\n",
      "Puntuación Jaccard para el cáncer tipo 1-Bladder.... 0.3750\n",
      "Puntuación Jaccard para el cáncer tipo 2-Breast..... 0.0769\n",
      "Puntuación Jaccard para el cáncer tipo 3-Colorectal. 0.2143\n",
      "Puntuación Jaccard para el cáncer tipo 4-Kidney..... 0.6667\n",
      "Puntuación Jaccard para el cáncer tipo 5-Lung....... 0.4286\n",
      "Puntuación Jaccard para el cáncer tipo 6-Prostate... 0.3333\n",
      "\n",
      "Media de la puntuación de Jaccard: 0.3322\n"
     ]
    }
   ],
   "source": [
    "if M_TIPO.startswith(\"bin\"):\n",
    "    myfunc.ver_metricas(mejor_modelo, X_test, y_test)\n",
    "else:\n",
    "    myfunc.ver_metricas_multi(mejor_modelo, X_test, y_test)\n"
   ]
  },
  {
   "cell_type": "markdown",
   "id": "8d00cb56",
   "metadata": {
    "papermill": {
     "duration": 0.005977,
     "end_time": "2023-10-30T01:12:35.048355",
     "exception": false,
     "start_time": "2023-10-30T01:12:35.042378",
     "status": "completed"
    },
    "tags": []
   },
   "source": [
    "#### Finalización del notebook"
   ]
  },
  {
   "cell_type": "code",
   "execution_count": 11,
   "id": "a48b3da5",
   "metadata": {
    "execution": {
     "iopub.execute_input": "2023-10-30T01:12:35.061087Z",
     "iopub.status.busy": "2023-10-30T01:12:35.060614Z",
     "iopub.status.idle": "2023-10-30T01:12:35.064334Z",
     "shell.execute_reply": "2023-10-30T01:12:35.063791Z"
    },
    "papermill": {
     "duration": 0.011499,
     "end_time": "2023-10-30T01:12:35.065626",
     "exception": false,
     "start_time": "2023-10-30T01:12:35.054127",
     "status": "completed"
    },
    "tags": []
   },
   "outputs": [
    {
     "name": "stdout",
     "output_type": "stream",
     "text": [
      "20231030T021235 : enderlab : INFO : Notebook ha tardado 433 seconds\n"
     ]
    }
   ],
   "source": [
    "end_time = datetime.datetime.now()\n",
    "total_time = end_time - start_time\n",
    "myfunc.verbose(f\"Notebook ha tardado {total_time.seconds} seconds\")"
   ]
  },
  {
   "cell_type": "markdown",
   "id": "019b5ac2",
   "metadata": {
    "papermill": {
     "duration": 0.005855,
     "end_time": "2023-10-30T01:12:35.077199",
     "exception": false,
     "start_time": "2023-10-30T01:12:35.071344",
     "status": "completed"
    },
    "tags": []
   },
   "source": [
    "#### Guardar métricas"
   ]
  },
  {
   "cell_type": "code",
   "execution_count": 12,
   "id": "05f5b7bf",
   "metadata": {
    "execution": {
     "iopub.execute_input": "2023-10-30T01:12:35.090145Z",
     "iopub.status.busy": "2023-10-30T01:12:35.089684Z",
     "iopub.status.idle": "2023-10-30T01:12:35.365809Z",
     "shell.execute_reply": "2023-10-30T01:12:35.365208Z"
    },
    "papermill": {
     "duration": 0.284062,
     "end_time": "2023-10-30T01:12:35.367165",
     "exception": false,
     "start_time": "2023-10-30T01:12:35.083103",
     "status": "completed"
    },
    "tags": []
   },
   "outputs": [
    {
     "name": "stdout",
     "output_type": "stream",
     "text": [
      "20231030T021235 : enderlab : INFO : Inicio guardar métricas multiclase\n",
      "20231030T021235 : enderlab : INFO : Inicio leer fichero ../tfm_git/ejecuciones/metricas/metricas_8270.csv\n",
      "20231030T021235 : enderlab : INFO : Fin leer fichero ../tfm_git/ejecuciones/metricas/metricas_8270.csv\n"
     ]
    },
    {
     "name": "stdout",
     "output_type": "stream",
     "text": [
      "20231030T021235 : enderlab : INFO : Inicio guardar fichero ../tfm_git/ejecuciones/metricas/metricas_8270.csv\n",
      "20231030T021235 : enderlab : INFO : Fichero borrado ../tfm_git/ejecuciones/metricas/metricas_8270.csv\n",
      "20231030T021235 : enderlab : INFO : Fin guardar fichero ../tfm_git/ejecuciones/metricas/metricas_8270.csv\n",
      "20231030T021235 : enderlab : INFO : Fin guardar métricas multiclase\n",
      "20231030T021235 : enderlab : INFO : Inicio leer fichero ../tfm_git/ejecuciones/metricas/metricas_8270.csv\n",
      "20231030T021235 : enderlab : INFO : Fin leer fichero ../tfm_git/ejecuciones/metricas/metricas_8270.csv\n"
     ]
    },
    {
     "data": {
      "text/html": [
       "<div>\n",
       "<style scoped>\n",
       "    .dataframe tbody tr th:only-of-type {\n",
       "        vertical-align: middle;\n",
       "    }\n",
       "\n",
       "    .dataframe tbody tr th {\n",
       "        vertical-align: top;\n",
       "    }\n",
       "\n",
       "    .dataframe thead th {\n",
       "        text-align: right;\n",
       "    }\n",
       "</style>\n",
       "<table border=\"1\" class=\"dataframe\">\n",
       "  <thead>\n",
       "    <tr style=\"text-align: right;\">\n",
       "      <th></th>\n",
       "      <th>tipo</th>\n",
       "      <th>select</th>\n",
       "      <th>clasific</th>\n",
       "      <th>semilla</th>\n",
       "      <th>accuracy</th>\n",
       "      <th>precision</th>\n",
       "      <th>recall</th>\n",
       "      <th>f1_score</th>\n",
       "      <th>roc_auc</th>\n",
       "      <th>hostname</th>\n",
       "      <th>total_time_sec</th>\n",
       "      <th>datetime</th>\n",
       "      <th>fichero_modelo</th>\n",
       "      <th>params</th>\n",
       "      <th>shape</th>\n",
       "      <th>features</th>\n",
       "      <th>roc_auc_ovr</th>\n",
       "      <th>indices_auc</th>\n",
       "      <th>indices_jaccard</th>\n",
       "    </tr>\n",
       "  </thead>\n",
       "  <tbody>\n",
       "    <tr>\n",
       "      <th>0</th>\n",
       "      <td>mul_s</td>\n",
       "      <td>MI</td>\n",
       "      <td>LR_L2</td>\n",
       "      <td>8270</td>\n",
       "      <td>0.480769</td>\n",
       "      <td>0.547619</td>\n",
       "      <td>0.505628</td>\n",
       "      <td>0.473750</td>\n",
       "      <td>NaN</td>\n",
       "      <td>enderlab</td>\n",
       "      <td>433</td>\n",
       "      <td>2023-10-30 02:12:35.299998</td>\n",
       "      <td>modelo_8270_mul_s_MI_LR_L2.pkl</td>\n",
       "      <td>{'selector__k': 500, 'clasifier__solver': 'sag...</td>\n",
       "      <td>X_test:(52, 18875)</td>\n",
       "      <td>['ENSG00000005513.10', 'ENSG00000006453.14', '...</td>\n",
       "      <td>0.824742</td>\n",
       "      <td>[0.6496674057649667, 0.9119318181818181, 0.718...</td>\n",
       "      <td>[0.23076923076923078, 0.375, 0.076923076923076...</td>\n",
       "    </tr>\n",
       "    <tr>\n",
       "      <th>0</th>\n",
       "      <td>mul_s</td>\n",
       "      <td>MI</td>\n",
       "      <td>LR_L1</td>\n",
       "      <td>8270</td>\n",
       "      <td>0.500000</td>\n",
       "      <td>0.549567</td>\n",
       "      <td>0.523485</td>\n",
       "      <td>0.493587</td>\n",
       "      <td>NaN</td>\n",
       "      <td>enderlab</td>\n",
       "      <td>690</td>\n",
       "      <td>2023-10-30 01:44:32.923359</td>\n",
       "      <td>modelo_8270_mul_s_MI_LR_L1.pkl</td>\n",
       "      <td>{'selector__k': 500, 'clasifier__solver': 'sag...</td>\n",
       "      <td>X_test:(52, 18875)</td>\n",
       "      <td>['ENSG00000005513.10', 'ENSG00000006453.14', '...</td>\n",
       "      <td>0.817589</td>\n",
       "      <td>[0.6341463414634146, 0.9090909090909091, 0.710...</td>\n",
       "      <td>[0.23076923076923078, 0.5, 0.07692307692307693...</td>\n",
       "    </tr>\n",
       "    <tr>\n",
       "      <th>0</th>\n",
       "      <td>mul_s</td>\n",
       "      <td>MI</td>\n",
       "      <td>LR_EN</td>\n",
       "      <td>8270</td>\n",
       "      <td>0.557692</td>\n",
       "      <td>0.589683</td>\n",
       "      <td>0.556494</td>\n",
       "      <td>0.530612</td>\n",
       "      <td>NaN</td>\n",
       "      <td>enderlab</td>\n",
       "      <td>1139</td>\n",
       "      <td>2023-10-30 01:32:55.249206</td>\n",
       "      <td>modelo_8270_mul_s_MI_LR_EN.pkl</td>\n",
       "      <td>{'selector__k': 1000, 'clasifier__solver': 'sa...</td>\n",
       "      <td>X_test:(52, 18875)</td>\n",
       "      <td>['ENSG00000003137.9', 'ENSG00000004864.14', 'E...</td>\n",
       "      <td>0.842853</td>\n",
       "      <td>[0.713968957871397, 0.9375, 0.7386363636363635...</td>\n",
       "      <td>[0.4, 0.5555555555555556, 0.09090909090909091,...</td>\n",
       "    </tr>\n",
       "  </tbody>\n",
       "</table>\n",
       "</div>"
      ],
      "text/plain": [
       "    tipo select clasific  semilla  accuracy  precision    recall  f1_score  \\\n",
       "0  mul_s     MI    LR_L2     8270  0.480769   0.547619  0.505628  0.473750   \n",
       "0  mul_s     MI    LR_L1     8270  0.500000   0.549567  0.523485  0.493587   \n",
       "0  mul_s     MI    LR_EN     8270  0.557692   0.589683  0.556494  0.530612   \n",
       "\n",
       "   roc_auc  hostname  total_time_sec                    datetime  \\\n",
       "0      NaN  enderlab             433  2023-10-30 02:12:35.299998   \n",
       "0      NaN  enderlab             690  2023-10-30 01:44:32.923359   \n",
       "0      NaN  enderlab            1139  2023-10-30 01:32:55.249206   \n",
       "\n",
       "                   fichero_modelo  \\\n",
       "0  modelo_8270_mul_s_MI_LR_L2.pkl   \n",
       "0  modelo_8270_mul_s_MI_LR_L1.pkl   \n",
       "0  modelo_8270_mul_s_MI_LR_EN.pkl   \n",
       "\n",
       "                                              params               shape  \\\n",
       "0  {'selector__k': 500, 'clasifier__solver': 'sag...  X_test:(52, 18875)   \n",
       "0  {'selector__k': 500, 'clasifier__solver': 'sag...  X_test:(52, 18875)   \n",
       "0  {'selector__k': 1000, 'clasifier__solver': 'sa...  X_test:(52, 18875)   \n",
       "\n",
       "                                            features  roc_auc_ovr  \\\n",
       "0  ['ENSG00000005513.10', 'ENSG00000006453.14', '...     0.824742   \n",
       "0  ['ENSG00000005513.10', 'ENSG00000006453.14', '...     0.817589   \n",
       "0  ['ENSG00000003137.9', 'ENSG00000004864.14', 'E...     0.842853   \n",
       "\n",
       "                                         indices_auc  \\\n",
       "0  [0.6496674057649667, 0.9119318181818181, 0.718...   \n",
       "0  [0.6341463414634146, 0.9090909090909091, 0.710...   \n",
       "0  [0.713968957871397, 0.9375, 0.7386363636363635...   \n",
       "\n",
       "                                     indices_jaccard  \n",
       "0  [0.23076923076923078, 0.375, 0.076923076923076...  \n",
       "0  [0.23076923076923078, 0.5, 0.07692307692307693...  \n",
       "0  [0.4, 0.5555555555555556, 0.09090909090909091,...  "
      ]
     },
     "metadata": {},
     "output_type": "display_data"
    }
   ],
   "source": [
    "if M_TIPO.startswith(\"bin\"):\n",
    "    myfunc.save_metricas_to_csv(random_search, X_test, y_test, M_TIPO, M_SELECT, M_CLASIF, total_time, SEMILLA, myfunc.MET_DIR, M_FICHERO, fichero_modelo)\n",
    "else:\n",
    "    myfunc.save_metricas_multi_to_csv(random_search, X_test, y_test, M_TIPO, M_SELECT, M_CLASIF, total_time, SEMILLA, myfunc.MET_DIR, M_FICHERO, fichero_modelo)\n",
    "\n",
    "df1=myfunc.read_metricas_to_df(myfunc.MET_DIR,M_FICHERO)\n",
    "\n",
    "display(df1.sort_values(\"datetime\", ascending=False)[:3])\n"
   ]
  },
  {
   "cell_type": "markdown",
   "id": "bbb44769",
   "metadata": {
    "papermill": {
     "duration": 0.006391,
     "end_time": "2023-10-30T01:12:35.380155",
     "exception": false,
     "start_time": "2023-10-30T01:12:35.373764",
     "status": "completed"
    },
    "tags": []
   },
   "source": [
    "#### Guardar resultados"
   ]
  },
  {
   "cell_type": "code",
   "execution_count": 13,
   "id": "4c160ab7",
   "metadata": {
    "execution": {
     "iopub.execute_input": "2023-10-30T01:12:35.393666Z",
     "iopub.status.busy": "2023-10-30T01:12:35.393202Z",
     "iopub.status.idle": "2023-10-30T01:12:35.402855Z",
     "shell.execute_reply": "2023-10-30T01:12:35.402309Z"
    },
    "papermill": {
     "duration": 0.017879,
     "end_time": "2023-10-30T01:12:35.404165",
     "exception": false,
     "start_time": "2023-10-30T01:12:35.386286",
     "status": "completed"
    },
    "tags": []
   },
   "outputs": [
    {
     "name": "stdout",
     "output_type": "stream",
     "text": [
      "20231030T021235 : enderlab : INFO : Inicio guardar resultados\n",
      "20231030T021235 : enderlab : INFO : Inicio guardar fichero ../tfm_git/ejecuciones/metricas/resultados_8270_mul_s-MI-LR_L2.csv\n",
      "20231030T021235 : enderlab : INFO : Fin guardar fichero ../tfm_git/ejecuciones/metricas/resultados_8270_mul_s-MI-LR_L2.csv\n",
      "20231030T021235 : enderlab : INFO : Fin guardar resultados\n"
     ]
    }
   ],
   "source": [
    "fichero_resultados=R_FICHERO+\"_\"+M_TIPO+\"-\"+M_SELECT+\"-\"+M_CLASIF+\".csv\"\n",
    "myfunc.save_resultados_to_csv(M_TIPO, M_SELECT, M_CLASIF,  random_search, myfunc.MET_DIR, fichero_resultados)\n"
   ]
  }
 ],
 "metadata": {
  "kernelspec": {
   "display_name": "Python 3 (ipykernel)",
   "language": "python",
   "name": "python3"
  },
  "language_info": {
   "codemirror_mode": {
    "name": "ipython",
    "version": 3
   },
   "file_extension": ".py",
   "mimetype": "text/x-python",
   "name": "python",
   "nbconvert_exporter": "python",
   "pygments_lexer": "ipython3",
   "version": "3.10.11"
  },
  "papermill": {
   "default_parameters": {},
   "duration": 450.067579,
   "end_time": "2023-10-30T01:12:38.027737",
   "environment_variables": {},
   "exception": null,
   "input_path": "03_entrenamiento.ipynb",
   "output_path": "ejecuciones/training/03_entrenamiento.20231030T020503.param_0000_8270_mul_s_MI_LR_L2.output.ipynb",
   "parameters": {
    "MAX_ITERS": 500,
    "M_CLASIF": "LR_L2",
    "M_FICHERO": "metricas_8270",
    "M_SELECT": "MI",
    "M_TIPO": "mul_s",
    "PRE_DATA_FILE": "rows_transpose_norm_by_gene_id_with_target_num_",
    "P_FICHERO": "param_0000_8270_mul_s_MI_LR_L2.yaml",
    "R_FICHERO": "resultados_8270",
    "SCORING": "roc_auc_ovr",
    "SEMILLA": 8270,
    "eval_clasifier": "LogisticRegressionCV(random_state=SEMILLA)",
    "eval_selector": "SelectKBest(score_func=mutual_info_classif_state)",
    "param_distributions": {
     "clasifier__max_iter": [
      10000
     ],
     "clasifier__penalty": [
      "l2"
     ],
     "clasifier__solver": [
      "saga"
     ],
     "selector__k": [
      500
     ]
    }
   },
   "start_time": "2023-10-30T01:05:07.960158",
   "version": "2.4.0"
  }
 },
 "nbformat": 4,
 "nbformat_minor": 5
}