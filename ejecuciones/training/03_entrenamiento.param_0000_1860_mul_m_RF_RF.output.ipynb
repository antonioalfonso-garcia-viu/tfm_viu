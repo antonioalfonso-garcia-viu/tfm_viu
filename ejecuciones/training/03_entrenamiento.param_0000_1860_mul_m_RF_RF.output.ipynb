{
 "cells": [
  {
   "cell_type": "markdown",
   "id": "96224fa1",
   "metadata": {
    "papermill": {
     "duration": 0.0,
     "end_time": "2023-10-30T00:46:48.600927",
     "exception": false,
     "start_time": "2023-10-30T00:46:48.600927",
     "status": "completed"
    },
    "tags": []
   },
   "source": [
    "##### Inicio"
   ]
  },
  {
   "cell_type": "markdown",
   "id": "eedc64cf",
   "metadata": {
    "papermill": {
     "duration": 0.015621,
     "end_time": "2023-10-30T00:46:48.616548",
     "exception": false,
     "start_time": "2023-10-30T00:46:48.600927",
     "status": "completed"
    },
    "tags": []
   },
   "source": [
    "#### Carga de datos"
   ]
  },
  {
   "cell_type": "code",
   "execution_count": 1,
   "id": "b4754fc7",
   "metadata": {
    "execution": {
     "iopub.execute_input": "2023-10-30T00:46:48.616548Z",
     "iopub.status.busy": "2023-10-30T00:46:48.616548Z",
     "iopub.status.idle": "2023-10-30T00:46:49.757909Z",
     "shell.execute_reply": "2023-10-30T00:46:49.757909Z"
    },
    "papermill": {
     "duration": 1.141361,
     "end_time": "2023-10-30T00:46:49.757909",
     "exception": false,
     "start_time": "2023-10-30T00:46:48.616548",
     "status": "completed"
    },
    "tags": []
   },
   "outputs": [
    {
     "name": "stdout",
     "output_type": "stream",
     "text": [
      "CPU_COUNT: 24; NODE: amilcar32; sys.version: 3.10.12 | packaged by Anaconda, Inc. | (main, Jul  5 2023, 19:09:20) [MSC v.1916 64 bit (AMD64)]\n",
      "LOKY_MAX_CPU_COUNT is not set.\n",
      "OMP_NUM_THREADS is not set.\n"
     ]
    }
   ],
   "source": [
    "import os\n",
    "import numpy as np\n",
    "import pandas as pd\n",
    "import datetime\n",
    "import sklearn\n",
    "import logging\n",
    "import warnings\n",
    "\n",
    "from sklearn.pipeline import Pipeline\n",
    "from sklearn.model_selection import RandomizedSearchCV, KFold, cross_val_score, train_test_split\n",
    "from sklearn.metrics import accuracy_score, confusion_matrix, classification_report, roc_auc_score\n",
    "\n",
    "#  cargar algoritmos para aprendizaje supervisado\n",
    "from sklearn.feature_selection import SelectKBest, f_classif, SelectFromModel, mutual_info_classif\n",
    "from sklearn.svm import SVC\n",
    "from sklearn.ensemble import RandomForestClassifier\n",
    "from sklearn.linear_model import LogisticRegression,LogisticRegressionCV\n",
    "\n",
    "# importar fichero con utilidades propias\n",
    "from commons import myfunctions as myfunc\n"
   ]
  },
  {
   "cell_type": "markdown",
   "id": "ded28038",
   "metadata": {
    "papermill": {
     "duration": 0.0,
     "end_time": "2023-10-30T00:46:49.757909",
     "exception": false,
     "start_time": "2023-10-30T00:46:49.757909",
     "status": "completed"
    },
    "tags": []
   },
   "source": [
    "#### Parámetros a utilizar en el entrenamiento.\n",
    "\n",
    "Se indican los 3 algoritmos de *selección de características* (eval_selector_xxx) y los 3 algoritmos para la _clasificación_ (eval_clasifier_xxx)\n",
    "\n",
    "En *param_distributions* se indicar los parámetros que utilizan los algoritmos en la función RandomSearchCV.\n",
    "\n",
    "Esta celda tiene la etiqueta **parameters** que servirá para poder lanzar los entrenamientos con la utilidad **papermill** pasándole un fichero con los parámetros. Los nuevos parámetros se situarán tras esta celda para tener prevalencia."
   ]
  },
  {
   "cell_type": "code",
   "execution_count": 2,
   "id": "ce1eb5d0",
   "metadata": {
    "execution": {
     "iopub.execute_input": "2023-10-30T00:46:49.757909Z",
     "iopub.status.busy": "2023-10-30T00:46:49.757909Z",
     "iopub.status.idle": "2023-10-30T00:46:49.789261Z",
     "shell.execute_reply": "2023-10-30T00:46:49.789261Z"
    },
    "papermill": {
     "duration": 0.031352,
     "end_time": "2023-10-30T00:46:49.789261",
     "exception": false,
     "start_time": "2023-10-30T00:46:49.757909",
     "status": "completed"
    },
    "tags": [
     "parameters"
    ]
   },
   "outputs": [
    {
     "name": "stdout",
     "output_type": "stream",
     "text": [
      "20231030T014649 : amilcar32 : INFO : Utilizando parámetros de mul_m\n"
     ]
    }
   ],
   "source": [
    "#  Parametros para el entrenamiento\n",
    "\n",
    "SEMILLA=        42\n",
    "M_TIPO=         \"mul_m\"\n",
    "M_SELECT=       \"MI\"\n",
    "M_CLASIF=       \"SVM\"\n",
    "R_FICHERO=      \"resultados\"\n",
    "M_FICHERO=      \"metricas\"\n",
    "PRE_DATA_FILE=  \"rows_transpose_norm_by_gene_id_with_target_num_\"\n",
    "SCORING=        \"roc_auc_ovr\" \n",
    "MAX_ITERS=      100\n",
    "\n",
    "def mutual_info_classif_state(X, y):\n",
    "    return mutual_info_classif(X, y, random_state=SEMILLA)\n",
    "\n",
    "eval_selector_mi = \"SelectKBest(score_func=mutual_info_classif_state)\"\n",
    "eval_selector_rf=  \"SelectFromModel(estimator=RandomForestClassifier(random_state=SEMILLA), threshold=-np.inf)\"\n",
    "eval_selector_anova=  \"SelectKBest(score_func=f_classif)\"\n",
    "\n",
    "eval_clasifier_svm= \"SVC(probability=True, random_state=SEMILLA)\"\n",
    "eval_clasifier_rf= \"RandomForestClassifier(random_state=SEMILLA)\"\n",
    "eval_clasifier_lr= \"LogisticRegressionCV(random_state=SEMILLA)\"\n",
    "\n",
    "if M_TIPO.startswith(\"bin_m\"):\n",
    "    myfunc.verbose(f\"Utilizando parámetros de {M_TIPO}\")\n",
    "    eval_selector = eval_selector_mi\n",
    "    eval_clasifier = eval_clasifier_svm\n",
    "\n",
    "    SEMILLA = 6578\n",
    "    M_SELECT = \"MI\"\n",
    "    M_CLASIF = \"SVM\"\n",
    "    param_distributions = {'selector__k': [1000], \n",
    "         'clasifier__kernel': ['rbf'], 'clasifier__gamma': [0.01], 'clasifier__C': [100]}\n",
    "elif M_TIPO.startswith(\"bin_s\"):\n",
    "    myfunc.verbose(f\"Utilizando parámetros de {M_TIPO}\")\n",
    "    eval_selector = eval_selector_rf\n",
    "    eval_clasifier = eval_clasifier_lr\n",
    "\n",
    "    SEMILLA = 6191\n",
    "    M_SELECT = \"RF\"\n",
    "    M_CLASIF = \"LR_L2\"\n",
    "    param_distributions = {'selector__max_features': [1000], 'selector__estimator__n_estimators': [200], \n",
    "        'clasifier__solver': ['lbfgs'], 'clasifier__penalty': ['l2'], 'clasifier__max_iter': [10000]}\n",
    "\n",
    "elif M_TIPO.startswith(\"mul_m\"):\n",
    "    myfunc.verbose(f\"Utilizando parámetros de {M_TIPO}\")\n",
    " \n",
    "    eval_selector = eval_selector_rf\n",
    "    eval_clasifier = eval_clasifier_lr\n",
    "\n",
    "    SEMILLA = 6191\n",
    "    M_SELECT = \"RF\"\n",
    "    M_CLASIF = \"LR_L2\"\n",
    "    param_distributions = {'selector__max_features': [1000], 'selector__estimator__n_estimators': [400], \n",
    "        'clasifier__solver': ['lbfgs'], 'clasifier__penalty': ['l2'], 'clasifier__max_iter': [10000]}\n",
    "\n",
    "else:\n",
    "    # M_TIPO.startswith(\"mul_s\"):\n",
    "    myfunc.verbose(f\"Utilizando parámetros de {M_TIPO}\")\n",
    "    eval_selector = eval_selector_anova\n",
    "    eval_clasifier = eval_clasifier_lr\n",
    "\n",
    "    SEMILLA = 1860\n",
    "    M_SELECT = \"ANOVA\"\n",
    "    M_CLASIF = \"LR_L2\"\n",
    "    param_distributions = {'selector__k': [1000], \n",
    "        'clasifier__solver': ['saga'], 'clasifier__penalty': ['l2'], 'clasifier__max_iter': [10000]}\n",
    "\n"
   ]
  },
  {
   "cell_type": "code",
   "execution_count": 3,
   "id": "a1c2cd92",
   "metadata": {
    "execution": {
     "iopub.execute_input": "2023-10-30T00:46:49.789261Z",
     "iopub.status.busy": "2023-10-30T00:46:49.789261Z",
     "iopub.status.idle": "2023-10-30T00:46:49.804873Z",
     "shell.execute_reply": "2023-10-30T00:46:49.804873Z"
    },
    "papermill": {
     "duration": 0.015612,
     "end_time": "2023-10-30T00:46:49.804873",
     "exception": false,
     "start_time": "2023-10-30T00:46:49.789261",
     "status": "completed"
    },
    "tags": [
     "injected-parameters"
    ]
   },
   "outputs": [],
   "source": [
    "# Parameters\n",
    "M_TIPO = \"mul_m\"\n",
    "M_SELECT = \"RF\"\n",
    "M_CLASIF = \"RF\"\n",
    "P_FICHERO = \"param_0000_1860_mul_m_RF_RF.yaml\"\n",
    "R_FICHERO = \"resultados_1860\"\n",
    "M_FICHERO = \"metricas_1860\"\n",
    "PRE_DATA_FILE = \"rows_transpose_norm_by_gene_id_with_target_num_\"\n",
    "SCORING = \"roc_auc_ovr\"\n",
    "SEMILLA = 1860\n",
    "MAX_ITERS = 500\n",
    "eval_selector = \"SelectFromModel(estimator=RandomForestClassifier(random_state=SEMILLA), threshold=-np.inf)\"\n",
    "eval_clasifier = \"RandomForestClassifier(random_state=SEMILLA)\"\n",
    "param_distributions = {\n",
    "    \"selector__max_features\": [500],\n",
    "    \"selector__estimator__n_estimators\": [200],\n",
    "    \"clasifier__n_estimators\": [400],\n",
    "    \"clasifier__min_samples_split\": [10],\n",
    "    \"clasifier__min_samples_leaf\": [5],\n",
    "    \"clasifier__max_features\": [200],\n",
    "    \"clasifier__max_depth\": [20],\n",
    "    \"clasifier__bootstrap\": [True],\n",
    "}\n"
   ]
  },
  {
   "cell_type": "code",
   "execution_count": 4,
   "id": "a441ff28",
   "metadata": {
    "execution": {
     "iopub.execute_input": "2023-10-30T00:46:49.804873Z",
     "iopub.status.busy": "2023-10-30T00:46:49.804873Z",
     "iopub.status.idle": "2023-10-30T00:46:49.820419Z",
     "shell.execute_reply": "2023-10-30T00:46:49.820419Z"
    },
    "papermill": {
     "duration": 0.015546,
     "end_time": "2023-10-30T00:46:49.820419",
     "exception": false,
     "start_time": "2023-10-30T00:46:49.804873",
     "status": "completed"
    },
    "tags": []
   },
   "outputs": [],
   "source": [
    "DATA_FILE = PRE_DATA_FILE + M_TIPO\n",
    "\n",
    "# si viene \"None\" en el parámetro max_depth, se le quitan las comillas para que no sea entendido por el algoritmo como un texto\n",
    "if \"clasifier__max_depth\" in param_distributions:\n",
    "    param_distributions['clasifier__max_depth'] = [None if x == 'None' else x for x in param_distributions['clasifier__max_depth']]"
   ]
  },
  {
   "cell_type": "markdown",
   "id": "2f1c12e4",
   "metadata": {
    "papermill": {
     "duration": 0.0,
     "end_time": "2023-10-30T00:46:49.820419",
     "exception": false,
     "start_time": "2023-10-30T00:46:49.820419",
     "status": "completed"
    },
    "tags": []
   },
   "source": [
    "Asignar los algoritmos que se utilizarán en la función RandomSearchCV"
   ]
  },
  {
   "cell_type": "code",
   "execution_count": 5,
   "id": "a4611dc9",
   "metadata": {
    "execution": {
     "iopub.execute_input": "2023-10-30T00:46:49.820419Z",
     "iopub.status.busy": "2023-10-30T00:46:49.820419Z",
     "iopub.status.idle": "2023-10-30T00:46:49.836053Z",
     "shell.execute_reply": "2023-10-30T00:46:49.836053Z"
    },
    "papermill": {
     "duration": 0.015634,
     "end_time": "2023-10-30T00:46:49.836053",
     "exception": false,
     "start_time": "2023-10-30T00:46:49.820419",
     "status": "completed"
    },
    "tags": []
   },
   "outputs": [],
   "source": [
    "algor_selector=eval(eval_selector)\n",
    "algor_clasifier=eval(eval_clasifier)"
   ]
  },
  {
   "cell_type": "markdown",
   "id": "c1b7ec6b",
   "metadata": {
    "papermill": {
     "duration": 0.0,
     "end_time": "2023-10-30T00:46:49.836053",
     "exception": false,
     "start_time": "2023-10-30T00:46:49.836053",
     "status": "completed"
    },
    "tags": []
   },
   "source": [
    "#### Comprobar el entorno y leer fichero de muestras"
   ]
  },
  {
   "cell_type": "code",
   "execution_count": 6,
   "id": "3925e174",
   "metadata": {
    "execution": {
     "iopub.execute_input": "2023-10-30T00:46:49.836053Z",
     "iopub.status.busy": "2023-10-30T00:46:49.836053Z",
     "iopub.status.idle": "2023-10-30T00:46:50.023871Z",
     "shell.execute_reply": "2023-10-30T00:46:50.023871Z"
    },
    "papermill": {
     "duration": 0.187818,
     "end_time": "2023-10-30T00:46:50.023871",
     "exception": false,
     "start_time": "2023-10-30T00:46:49.836053",
     "status": "completed"
    },
    "tags": []
   },
   "outputs": [
    {
     "name": "stdout",
     "output_type": "stream",
     "text": [
      "20231030T014649 : amilcar32 : INFO : Encontrada carpeta DATA_DIR=..\\tfm_viu\\datos\n",
      "20231030T014649 : amilcar32 : INFO : Encontrada carpeta CFDNA_DIR=..\\tfm_viu\\datos\\cfDNA_5hmC\n",
      "20231030T014649 : amilcar32 : INFO : Encontrada carpeta GENCODE_DIR=..\\tfm_viu\\datos\\gencode\n",
      "20231030T014649 : amilcar32 : INFO : Encontrada carpeta H5_DIR=..\\tfm_viu\\datos\\h5\n",
      "20231030T014649 : amilcar32 : INFO : Encontrada carpeta LOG_DIR=..\\tfm_viu\\datos\\logs\n",
      "20231030T014649 : amilcar32 : INFO : Encontrada carpeta CSV_DIR=..\\tfm_viu\\datos\\csv\n",
      "20231030T014649 : amilcar32 : INFO : Encontrada carpeta MODEL_DIR=..\\tfm_viu\\ejecuciones\\modelos\n",
      "20231030T014649 : amilcar32 : INFO : Encontrada carpeta EXEC_DIR=..\\tfm_viu\\ejecuciones\n",
      "20231030T014649 : amilcar32 : INFO : Encontrada carpeta MET_DIR=..\\tfm_viu\\ejecuciones\\metricas\n",
      "20231030T014649 : amilcar32 : INFO : Inicio leer fichero h5 ..\\tfm_viu\\datos\\h5\\rows_transpose_norm_by_gene_id_with_target_num_mul_m.h5\n",
      "20231030T014649 : amilcar32 : INFO : Leyendo clave /df\n"
     ]
    },
    {
     "name": "stdout",
     "output_type": "stream",
     "text": [
      "20231030T014649 : amilcar32 : INFO : Tamaño (434, 18876)\n",
      "20231030T014649 : amilcar32 : INFO : Fin leer fichero h5 ..\\tfm_viu\\datos\\h5\\rows_transpose_norm_by_gene_id_with_target_num_mul_m.h5\n"
     ]
    },
    {
     "data": {
      "text/plain": [
       "target\n",
       "0    62\n",
       "1    62\n",
       "2    62\n",
       "3    62\n",
       "4    62\n",
       "5    62\n",
       "6    62\n",
       "dtype: int64"
      ]
     },
     "metadata": {},
     "output_type": "display_data"
    },
    {
     "name": "stdout",
     "output_type": "stream",
     "text": [
      "Shape df: (434, 18876)\n",
      "Shape X_train: (347, 18875)\n",
      "Shape X_test: (87, 18875)\n"
     ]
    }
   ],
   "source": [
    "start_time = datetime.datetime.now()\n",
    "\n",
    "myfunc.reset_vars()\n",
    "\n",
    "myfunc.NOTEBK_FILENAME = myfunc.get_nb_name()\n",
    "\n",
    "myfunc.check_enviroment(myfunc.DATA_DIR, myfunc.CFDNA_DIR, myfunc.GENCODE_DIR, myfunc.H5_DIR, myfunc.LOG_DIR, myfunc.CSV_DIR, myfunc.MODEL_DIR, myfunc.EXEC_DIR, myfunc.MET_DIR)\n",
    "\n",
    "# Leer fichero con las muestras\n",
    "df_t = myfunc.read_h5_to_df(DATA_FILE, myfunc.H5_DIR)\n",
    "display(df_t.groupby(\"target\").size())\n",
    "print(\"Shape df:\",df_t.shape)\n",
    "\n",
    "# Separar caracteristicas/genes de las etiquetas/tipos de cáncer\n",
    "X = df_t.iloc[:, :-1]  # Todas las columnas excepto la última\n",
    "y = df_t.iloc[:, -1]  # La última columna contiene los identificadores de los tipos de cáncer\n",
    "\n",
    "#  Crear el conjunto de datos de entrenamiento y de pruebas, y se fija la semilla para siempre coger el mismo juego de muestras\n",
    "X_train, X_test, y_train, y_test = train_test_split(X, y, test_size=0.2, shuffle=True, random_state=42)\n",
    "print(\"Shape X_train:\",X_train.shape)\n",
    "print(\"Shape X_test:\",X_test.shape)\n"
   ]
  },
  {
   "cell_type": "markdown",
   "id": "7b0194e5",
   "metadata": {
    "papermill": {
     "duration": 0.0,
     "end_time": "2023-10-30T00:46:50.026612",
     "exception": false,
     "start_time": "2023-10-30T00:46:50.026612",
     "status": "completed"
    },
    "tags": []
   },
   "source": [
    "#### Selección de características y clasificación."
   ]
  },
  {
   "cell_type": "code",
   "execution_count": 7,
   "id": "0a0ee955",
   "metadata": {
    "execution": {
     "iopub.execute_input": "2023-10-30T00:46:50.039815Z",
     "iopub.status.busy": "2023-10-30T00:46:50.039815Z",
     "iopub.status.idle": "2023-10-30T00:48:16.571145Z",
     "shell.execute_reply": "2023-10-30T00:48:16.571145Z"
    },
    "papermill": {
     "duration": 86.544533,
     "end_time": "2023-10-30T00:48:16.571145",
     "exception": false,
     "start_time": "2023-10-30T00:46:50.026612",
     "status": "completed"
    },
    "tags": []
   },
   "outputs": [
    {
     "name": "stdout",
     "output_type": "stream",
     "text": [
      "20231030T014650 : amilcar32 : INFO : Iniciando entrenamiento\n",
      "num_iter: 1 , max_iter: 1\n"
     ]
    },
    {
     "name": "stdout",
     "output_type": "stream",
     "text": [
      "Fitting 5 folds for each of 1 candidates, totalling 5 fits\n"
     ]
    },
    {
     "name": "stdout",
     "output_type": "stream",
     "text": [
      "Mejores Hiperparámetros: {'selector__max_features': 500, 'selector__estimator__n_estimators': 200, 'clasifier__n_estimators': 400, 'clasifier__min_samples_split': 10, 'clasifier__min_samples_leaf': 5, 'clasifier__max_features': 200, 'clasifier__max_depth': 20, 'clasifier__bootstrap': True}\n",
      "Mejor Puntuación: 0.8398\n",
      "20231030T014816 : amilcar32 : INFO : Fin entrenamiento\n"
     ]
    }
   ],
   "source": [
    "myfunc.verbose(\"Iniciando entrenamiento\")\n",
    "\n",
    "kf = KFold(n_splits=5, shuffle=True, random_state=SEMILLA)\n",
    "\n",
    "# Crear el pipeline para el flujo de tareas\n",
    "tasks_pipeline = Pipeline([\n",
    "    ('selector', algor_selector),\n",
    "    ('clasifier', algor_clasifier)\n",
    "])\n",
    "\n",
    "# MAX_ITERS puede limitar el número de iteraciones si son excesivas para las combinaciones de parámetros buscando un óptimo local, \n",
    "# sino funcionaría como GridSearchCV al revisar todas las cominaciones de los parámetros\n",
    "num_iteraciones = 1\n",
    "num_iteraciones = num_iteraciones * np.prod([len(elemento1) for _, elemento1 in param_distributions.items()])\n",
    "max_iteraciones = num_iteraciones if num_iteraciones <= MAX_ITERS else MAX_ITERS\n",
    "print(\"num_iter:\",num_iteraciones,\", max_iter:\",max_iteraciones)\n",
    "\n",
    "random_search = RandomizedSearchCV(\n",
    "    tasks_pipeline, \n",
    "    param_distributions, \n",
    "    n_iter=max_iteraciones,\n",
    "    scoring=SCORING,\n",
    "    cv=kf,\n",
    "    verbose=3, \n",
    "    random_state=SEMILLA, \n",
    "    n_jobs=-1\n",
    "    )\n",
    "\n",
    "# Entrenar el modelo\n",
    "random_search.fit(X_train, y_train)\n",
    "\n",
    "# Ver los mejores hiperparámetros encontrados\n",
    "print(f'Mejores Hiperparámetros: {random_search.best_params_}')\n",
    "print(f'Mejor Puntuación: {random_search.best_score_:.4f}')\n",
    "\n",
    "# Nos quedamos con el mejor modelo para ver las métricas\n",
    "mejor_modelo = random_search.best_estimator_\n",
    "\n",
    "myfunc.verbose(\"Fin entrenamiento\")"
   ]
  },
  {
   "cell_type": "markdown",
   "id": "1286f53a",
   "metadata": {
    "papermill": {
     "duration": 0.015618,
     "end_time": "2023-10-30T00:48:16.602382",
     "exception": false,
     "start_time": "2023-10-30T00:48:16.586764",
     "status": "completed"
    },
    "tags": []
   },
   "source": [
    "#### Guardar modelo"
   ]
  },
  {
   "cell_type": "code",
   "execution_count": 8,
   "id": "0f4331c9",
   "metadata": {
    "execution": {
     "iopub.execute_input": "2023-10-30T00:48:16.618001Z",
     "iopub.status.busy": "2023-10-30T00:48:16.618001Z",
     "iopub.status.idle": "2023-10-30T00:48:17.055439Z",
     "shell.execute_reply": "2023-10-30T00:48:17.055439Z"
    },
    "papermill": {
     "duration": 0.453057,
     "end_time": "2023-10-30T00:48:17.055439",
     "exception": false,
     "start_time": "2023-10-30T00:48:16.602382",
     "status": "completed"
    },
    "tags": []
   },
   "outputs": [
    {
     "name": "stdout",
     "output_type": "stream",
     "text": [
      "20231030T014816 : amilcar32 : INFO : Inicio guardar fichero ..\\tfm_viu\\ejecuciones\\modelos\\modelo_1860_mul_m_RF_RF.pkl\n"
     ]
    },
    {
     "name": "stdout",
     "output_type": "stream",
     "text": [
      "20231030T014817 : amilcar32 : INFO : Fin guardar fichero ..\\tfm_viu\\ejecuciones\\modelos\\modelo_1860_mul_m_RF_RF.pkl\n"
     ]
    }
   ],
   "source": [
    "fichero_modelo = str.replace(\"modelo_\"+str(SEMILLA).zfill(4)+\"_\"+M_TIPO+\"_\"+M_SELECT+\"_\"+M_CLASIF+\".pkl\", \" \", \"_\")\n",
    "\n",
    "myfunc.save_modelo(mejor_modelo, myfunc.MODEL_DIR, fichero_modelo)"
   ]
  },
  {
   "cell_type": "markdown",
   "id": "016ed491",
   "metadata": {
    "papermill": {
     "duration": 0.015629,
     "end_time": "2023-10-30T00:48:17.086765",
     "exception": false,
     "start_time": "2023-10-30T00:48:17.071136",
     "status": "completed"
    },
    "tags": []
   },
   "source": [
    "#### Ver resultados del las iteraciones hechas por RandomSearchCV"
   ]
  },
  {
   "cell_type": "code",
   "execution_count": 9,
   "id": "e463b15f",
   "metadata": {
    "execution": {
     "iopub.execute_input": "2023-10-30T00:48:17.118014Z",
     "iopub.status.busy": "2023-10-30T00:48:17.118014Z",
     "iopub.status.idle": "2023-10-30T00:48:17.133636Z",
     "shell.execute_reply": "2023-10-30T00:48:17.133636Z"
    },
    "papermill": {
     "duration": 0.031254,
     "end_time": "2023-10-30T00:48:17.133636",
     "exception": false,
     "start_time": "2023-10-30T00:48:17.102382",
     "status": "completed"
    },
    "tags": []
   },
   "outputs": [
    {
     "name": "stdout",
     "output_type": "stream",
     "text": [
      "20231030T014817 : amilcar32 : INFO : Inicio ver resultados\n",
      "Mejores Hiperparámetros: {'selector__max_features': 500, 'selector__estimator__n_estimators': 200, 'clasifier__n_estimators': 400, 'clasifier__min_samples_split': 10, 'clasifier__min_samples_leaf': 5, 'clasifier__max_features': 200, 'clasifier__max_depth': 20, 'clasifier__bootstrap': True}\n",
      "Mejores puntuaciones: 0.8398 | Params: {'selector__max_features': 500, 'selector__estimator__n_estimators': 200, 'clasifier__n_estimators': 400, 'clasifier__min_samples_split': 10, 'clasifier__min_samples_leaf': 5, 'clasifier__max_features': 200, 'clasifier__max_depth': 20, 'clasifier__bootstrap': True}\n",
      "Media de las puntuaciones: 0.8398 | Params: {'selector__max_features': 500, 'selector__estimator__n_estimators': 200, 'clasifier__n_estimators': 400, 'clasifier__min_samples_split': 10, 'clasifier__min_samples_leaf': 5, 'clasifier__max_features': 200, 'clasifier__max_depth': 20, 'clasifier__bootstrap': True}\n",
      "20231030T014817 : amilcar32 : INFO : Fin resultados\n"
     ]
    }
   ],
   "source": [
    "myfunc.ver_resultados_search(random_search)"
   ]
  },
  {
   "cell_type": "markdown",
   "id": "82774593",
   "metadata": {
    "papermill": {
     "duration": 0.015629,
     "end_time": "2023-10-30T00:48:17.149265",
     "exception": false,
     "start_time": "2023-10-30T00:48:17.133636",
     "status": "completed"
    },
    "tags": []
   },
   "source": [
    "#### Ver métricas del mejor modelo"
   ]
  },
  {
   "cell_type": "code",
   "execution_count": 10,
   "id": "4cb29d56",
   "metadata": {
    "execution": {
     "iopub.execute_input": "2023-10-30T00:48:17.164893Z",
     "iopub.status.busy": "2023-10-30T00:48:17.164893Z",
     "iopub.status.idle": "2023-10-30T00:48:19.011920Z",
     "shell.execute_reply": "2023-10-30T00:48:19.011920Z"
    },
    "papermill": {
     "duration": 1.847027,
     "end_time": "2023-10-30T00:48:19.011920",
     "exception": false,
     "start_time": "2023-10-30T00:48:17.164893",
     "status": "completed"
    },
    "tags": []
   },
   "outputs": [
    {
     "name": "stdout",
     "output_type": "stream",
     "text": [
      "20231030T014817 : amilcar32 : INFO : Inicio ver métricas multiclase\n"
     ]
    },
    {
     "name": "stdout",
     "output_type": "stream",
     "text": [
      "              precision    recall  f1-score   support\n",
      "\n",
      "           0       0.00      0.00      0.00        16\n",
      "           1       0.62      0.67      0.65        15\n",
      "           2       0.50      0.55      0.52        11\n",
      "           3       0.31      0.80      0.44         5\n",
      "           4       0.50      0.69      0.58        13\n",
      "           5       0.64      0.78      0.70         9\n",
      "           6       0.50      0.44      0.47        18\n",
      "\n",
      "    accuracy                           0.51        87\n",
      "   macro avg       0.44      0.56      0.48        87\n",
      "weighted avg       0.43      0.51      0.46        87\n",
      "\n",
      "\n",
      "\n",
      "           Exactitud: 0.505747\n",
      "   Precisión (media): 0.438437\n",
      "      Recall (media): 0.560950\n",
      "    F1-score (media): 0.480368\n",
      "\n",
      "\n",
      "AUC para el tipo de cáncer 0-Control.... 0.6347\n",
      "AUC para el tipo de cáncer 1-Bladder.... 0.8722\n",
      "AUC para el tipo de cáncer 2-Breast..... 0.8242\n",
      "AUC para el tipo de cáncer 3-Colorectal. 0.9073\n",
      "AUC para el tipo de cáncer 4-Kidney..... 0.8597\n",
      "AUC para el tipo de cáncer 5-Lung....... 0.9330\n",
      "AUC para el tipo de cáncer 6-Prostate... 0.8510\n",
      "\n",
      "Media de AUC: 0.8403\n"
     ]
    },
    {
     "data": {
      "image/png": "[encoded data removed]",
      "text/plain": [
       "<Figure size 1000x600 with 1 Axes>"
      ]
     },
     "metadata": {},
     "output_type": "display_data"
    },
    {
     "name": "stdout",
     "output_type": "stream",
     "text": [
      "\n",
      "\n"
     ]
    },
    {
     "data": {
      "image/png": "[encoded data removed]",
      "text/plain": [
       "<Figure size 800x400 with 2 Axes>"
      ]
     },
     "metadata": {},
     "output_type": "display_data"
    },
    {
     "name": "stdout",
     "output_type": "stream",
     "text": [
      "\n",
      "\n",
      "Puntuación Jaccard para el cáncer tipo 0-Control.... 0.0000\n",
      "Puntuación Jaccard para el cáncer tipo 1-Bladder.... 0.4762\n",
      "Puntuación Jaccard para el cáncer tipo 2-Breast..... 0.3529\n",
      "Puntuación Jaccard para el cáncer tipo 3-Colorectal. 0.2857\n",
      "Puntuación Jaccard para el cáncer tipo 4-Kidney..... 0.4091\n",
      "Puntuación Jaccard para el cáncer tipo 5-Lung....... 0.5385\n",
      "Puntuación Jaccard para el cáncer tipo 6-Prostate... 0.3077\n",
      "\n",
      "Media de la puntuación de Jaccard: 0.3386\n"
     ]
    }
   ],
   "source": [
    "if M_TIPO.startswith(\"bin\"):\n",
    "    myfunc.ver_metricas(mejor_modelo, X_test, y_test)\n",
    "else:\n",
    "    myfunc.ver_metricas_multi(mejor_modelo, X_test, y_test)\n"
   ]
  },
  {
   "cell_type": "markdown",
   "id": "c6f1a20f",
   "metadata": {
    "papermill": {
     "duration": 0.015724,
     "end_time": "2023-10-30T00:48:19.027644",
     "exception": false,
     "start_time": "2023-10-30T00:48:19.011920",
     "status": "completed"
    },
    "tags": []
   },
   "source": [
    "#### Finalización del notebook"
   ]
  },
  {
   "cell_type": "code",
   "execution_count": 11,
   "id": "2ab57a40",
   "metadata": {
    "execution": {
     "iopub.execute_input": "2023-10-30T00:48:19.043262Z",
     "iopub.status.busy": "2023-10-30T00:48:19.043262Z",
     "iopub.status.idle": "2023-10-30T00:48:19.074444Z",
     "shell.execute_reply": "2023-10-30T00:48:19.074444Z"
    },
    "papermill": {
     "duration": 0.031182,
     "end_time": "2023-10-30T00:48:19.074444",
     "exception": false,
     "start_time": "2023-10-30T00:48:19.043262",
     "status": "completed"
    },
    "tags": []
   },
   "outputs": [
    {
     "name": "stdout",
     "output_type": "stream",
     "text": [
      "20231030T014819 : amilcar32 : INFO : Notebook ha tardado 89 seconds\n"
     ]
    }
   ],
   "source": [
    "end_time = datetime.datetime.now()\n",
    "total_time = end_time - start_time\n",
    "myfunc.verbose(f\"Notebook ha tardado {total_time.seconds} seconds\")"
   ]
  },
  {
   "cell_type": "markdown",
   "id": "09343400",
   "metadata": {
    "papermill": {
     "duration": 0.015548,
     "end_time": "2023-10-30T00:48:19.105684",
     "exception": false,
     "start_time": "2023-10-30T00:48:19.090136",
     "status": "completed"
    },
    "tags": []
   },
   "source": [
    "#### Guardar métricas"
   ]
  },
  {
   "cell_type": "code",
   "execution_count": 12,
   "id": "1b51e8c5",
   "metadata": {
    "execution": {
     "iopub.execute_input": "2023-10-30T00:48:19.125464Z",
     "iopub.status.busy": "2023-10-30T00:48:19.125464Z",
     "iopub.status.idle": "2023-10-30T00:48:20.357614Z",
     "shell.execute_reply": "2023-10-30T00:48:20.357614Z"
    },
    "papermill": {
     "duration": 1.23215,
     "end_time": "2023-10-30T00:48:20.357614",
     "exception": false,
     "start_time": "2023-10-30T00:48:19.125464",
     "status": "completed"
    },
    "tags": []
   },
   "outputs": [
    {
     "name": "stdout",
     "output_type": "stream",
     "text": [
      "20231030T014819 : amilcar32 : INFO : Inicio guardar métricas multiclase\n",
      "20231030T014819 : amilcar32 : INFO : Inicio leer fichero ..\\tfm_viu\\ejecuciones\\metricas\\metricas_1860.csv\n",
      "20231030T014819 : amilcar32 : INFO : Fin leer fichero ..\\tfm_viu\\ejecuciones\\metricas\\metricas_1860.csv\n"
     ]
    },
    {
     "name": "stdout",
     "output_type": "stream",
     "text": [
      "20231030T014820 : amilcar32 : INFO : Inicio guardar fichero ..\\tfm_viu\\ejecuciones\\metricas\\metricas_1860.csv\n",
      "20231030T014820 : amilcar32 : INFO : Fichero borrado ..\\tfm_viu\\ejecuciones\\metricas\\metricas_1860.csv\n",
      "20231030T014820 : amilcar32 : INFO : Fin guardar fichero ..\\tfm_viu\\ejecuciones\\metricas\\metricas_1860.csv\n",
      "20231030T014820 : amilcar32 : INFO : Fin guardar métricas multiclase\n",
      "20231030T014820 : amilcar32 : INFO : Inicio leer fichero ..\\tfm_viu\\ejecuciones\\metricas\\metricas_1860.csv\n",
      "20231030T014820 : amilcar32 : INFO : Fin leer fichero ..\\tfm_viu\\ejecuciones\\metricas\\metricas_1860.csv\n"
     ]
    },
    {
     "data": {
      "text/html": [
       "<div>\n",
       "<style scoped>\n",
       "    .dataframe tbody tr th:only-of-type {\n",
       "        vertical-align: middle;\n",
       "    }\n",
       "\n",
       "    .dataframe tbody tr th {\n",
       "        vertical-align: top;\n",
       "    }\n",
       "\n",
       "    .dataframe thead th {\n",
       "        text-align: right;\n",
       "    }\n",
       "</style>\n",
       "<table border=\"1\" class=\"dataframe\">\n",
       "  <thead>\n",
       "    <tr style=\"text-align: right;\">\n",
       "      <th></th>\n",
       "      <th>tipo</th>\n",
       "      <th>select</th>\n",
       "      <th>clasific</th>\n",
       "      <th>semilla</th>\n",
       "      <th>accuracy</th>\n",
       "      <th>precision</th>\n",
       "      <th>recall</th>\n",
       "      <th>f1_score</th>\n",
       "      <th>roc_auc</th>\n",
       "      <th>hostname</th>\n",
       "      <th>total_time_sec</th>\n",
       "      <th>datetime</th>\n",
       "      <th>fichero_modelo</th>\n",
       "      <th>params</th>\n",
       "      <th>shape</th>\n",
       "      <th>features</th>\n",
       "      <th>roc_auc_ovr</th>\n",
       "      <th>indices_auc</th>\n",
       "      <th>indices_jaccard</th>\n",
       "    </tr>\n",
       "  </thead>\n",
       "  <tbody>\n",
       "    <tr>\n",
       "      <th>0</th>\n",
       "      <td>mul_m</td>\n",
       "      <td>RF</td>\n",
       "      <td>RF</td>\n",
       "      <td>1860</td>\n",
       "      <td>0.505747</td>\n",
       "      <td>0.438437</td>\n",
       "      <td>0.560950</td>\n",
       "      <td>0.480368</td>\n",
       "      <td>NaN</td>\n",
       "      <td>amilcar32</td>\n",
       "      <td>89</td>\n",
       "      <td>2023-10-30 01:48:20.216976</td>\n",
       "      <td>modelo_1860_mul_m_RF_RF.pkl</td>\n",
       "      <td>{'selector__max_features': 500, 'selector__est...</td>\n",
       "      <td>X_test:(87, 18875)</td>\n",
       "      <td>['ENSG00000001626.18', 'ENSG00000002587.10', '...</td>\n",
       "      <td>0.840307</td>\n",
       "      <td>[0.6346830985915493, 0.8722222222222222, 0.824...</td>\n",
       "      <td>[0.0, 0.47619047619047616, 0.35294117647058826...</td>\n",
       "    </tr>\n",
       "    <tr>\n",
       "      <th>0</th>\n",
       "      <td>mul_m</td>\n",
       "      <td>RF</td>\n",
       "      <td>LR_L2</td>\n",
       "      <td>1860</td>\n",
       "      <td>0.540230</td>\n",
       "      <td>0.568124</td>\n",
       "      <td>0.564752</td>\n",
       "      <td>0.535227</td>\n",
       "      <td>NaN</td>\n",
       "      <td>amilcar32</td>\n",
       "      <td>98</td>\n",
       "      <td>2023-10-30 01:46:44.327523</td>\n",
       "      <td>modelo_1860_mul_m_RF_LR_L2.pkl</td>\n",
       "      <td>{'selector__max_features': 1000, 'selector__es...</td>\n",
       "      <td>X_test:(87, 18875)</td>\n",
       "      <td>['ENSG00000002587.10', 'ENSG00000005381.9', 'E...</td>\n",
       "      <td>0.864084</td>\n",
       "      <td>[0.755281690140845, 0.8953703703703704, 0.8062...</td>\n",
       "      <td>[0.19047619047619047, 0.5555555555555556, 0.31...</td>\n",
       "    </tr>\n",
       "    <tr>\n",
       "      <th>0</th>\n",
       "      <td>mul_m</td>\n",
       "      <td>RF</td>\n",
       "      <td>LR_L1</td>\n",
       "      <td>1860</td>\n",
       "      <td>0.517241</td>\n",
       "      <td>0.525974</td>\n",
       "      <td>0.557641</td>\n",
       "      <td>0.511907</td>\n",
       "      <td>NaN</td>\n",
       "      <td>amilcar32</td>\n",
       "      <td>2745</td>\n",
       "      <td>2023-10-30 01:44:59.404723</td>\n",
       "      <td>modelo_1860_mul_m_RF_LR_L1.pkl</td>\n",
       "      <td>{'selector__max_features': 1000, 'selector__es...</td>\n",
       "      <td>X_test:(87, 18875)</td>\n",
       "      <td>['ENSG00000002587.10', 'ENSG00000005381.9', 'E...</td>\n",
       "      <td>0.851562</td>\n",
       "      <td>[0.6778169014084507, 0.875, 0.8026315789473685...</td>\n",
       "      <td>[0.22727272727272727, 0.5, 0.2222222222222222,...</td>\n",
       "    </tr>\n",
       "  </tbody>\n",
       "</table>\n",
       "</div>"
      ],
      "text/plain": [
       "    tipo select clasific  semilla  accuracy  precision    recall  f1_score  \\\n",
       "0  mul_m     RF       RF     1860  0.505747   0.438437  0.560950  0.480368   \n",
       "0  mul_m     RF    LR_L2     1860  0.540230   0.568124  0.564752  0.535227   \n",
       "0  mul_m     RF    LR_L1     1860  0.517241   0.525974  0.557641  0.511907   \n",
       "\n",
       "   roc_auc   hostname  total_time_sec                    datetime  \\\n",
       "0      NaN  amilcar32              89  2023-10-30 01:48:20.216976   \n",
       "0      NaN  amilcar32              98  2023-10-30 01:46:44.327523   \n",
       "0      NaN  amilcar32            2745  2023-10-30 01:44:59.404723   \n",
       "\n",
       "                   fichero_modelo  \\\n",
       "0     modelo_1860_mul_m_RF_RF.pkl   \n",
       "0  modelo_1860_mul_m_RF_LR_L2.pkl   \n",
       "0  modelo_1860_mul_m_RF_LR_L1.pkl   \n",
       "\n",
       "                                              params               shape  \\\n",
       "0  {'selector__max_features': 500, 'selector__est...  X_test:(87, 18875)   \n",
       "0  {'selector__max_features': 1000, 'selector__es...  X_test:(87, 18875)   \n",
       "0  {'selector__max_features': 1000, 'selector__es...  X_test:(87, 18875)   \n",
       "\n",
       "                                            features  roc_auc_ovr  \\\n",
       "0  ['ENSG00000001626.18', 'ENSG00000002587.10', '...     0.840307   \n",
       "0  ['ENSG00000002587.10', 'ENSG00000005381.9', 'E...     0.864084   \n",
       "0  ['ENSG00000002587.10', 'ENSG00000005381.9', 'E...     0.851562   \n",
       "\n",
       "                                         indices_auc  \\\n",
       "0  [0.6346830985915493, 0.8722222222222222, 0.824...   \n",
       "0  [0.755281690140845, 0.8953703703703704, 0.8062...   \n",
       "0  [0.6778169014084507, 0.875, 0.8026315789473685...   \n",
       "\n",
       "                                     indices_jaccard  \n",
       "0  [0.0, 0.47619047619047616, 0.35294117647058826...  \n",
       "0  [0.19047619047619047, 0.5555555555555556, 0.31...  \n",
       "0  [0.22727272727272727, 0.5, 0.2222222222222222,...  "
      ]
     },
     "metadata": {},
     "output_type": "display_data"
    }
   ],
   "source": [
    "if M_TIPO.startswith(\"bin\"):\n",
    "    myfunc.save_metricas_to_csv(random_search, X_test, y_test, M_TIPO, M_SELECT, M_CLASIF, total_time, SEMILLA, myfunc.MET_DIR, M_FICHERO, fichero_modelo)\n",
    "else:\n",
    "    myfunc.save_metricas_multi_to_csv(random_search, X_test, y_test, M_TIPO, M_SELECT, M_CLASIF, total_time, SEMILLA, myfunc.MET_DIR, M_FICHERO, fichero_modelo)\n",
    "\n",
    "df1=myfunc.read_metricas_to_df(myfunc.MET_DIR,M_FICHERO)\n",
    "\n",
    "display(df1.sort_values(\"datetime\", ascending=False)[:3])\n"
   ]
  },
  {
   "cell_type": "markdown",
   "id": "79f136bf",
   "metadata": {
    "papermill": {
     "duration": 0.01564,
     "end_time": "2023-10-30T00:48:20.388873",
     "exception": false,
     "start_time": "2023-10-30T00:48:20.373233",
     "status": "completed"
    },
    "tags": []
   },
   "source": [
    "#### Guardar resultados"
   ]
  },
  {
   "cell_type": "code",
   "execution_count": 13,
   "id": "891dfb23",
   "metadata": {
    "execution": {
     "iopub.execute_input": "2023-10-30T00:48:20.420100Z",
     "iopub.status.busy": "2023-10-30T00:48:20.420100Z",
     "iopub.status.idle": "2023-10-30T00:48:20.451365Z",
     "shell.execute_reply": "2023-10-30T00:48:20.451365Z"
    },
    "papermill": {
     "duration": 0.046877,
     "end_time": "2023-10-30T00:48:20.451365",
     "exception": false,
     "start_time": "2023-10-30T00:48:20.404488",
     "status": "completed"
    },
    "tags": []
   },
   "outputs": [
    {
     "name": "stdout",
     "output_type": "stream",
     "text": [
      "20231030T014820 : amilcar32 : INFO : Inicio guardar resultados\n",
      "20231030T014820 : amilcar32 : INFO : Inicio guardar fichero ..\\tfm_viu\\ejecuciones\\metricas\\resultados_1860_mul_m-RF-RF.csv\n",
      "20231030T014820 : amilcar32 : INFO : Fin guardar fichero ..\\tfm_viu\\ejecuciones\\metricas\\resultados_1860_mul_m-RF-RF.csv\n",
      "20231030T014820 : amilcar32 : INFO : Fin guardar resultados\n"
     ]
    }
   ],
   "source": [
    "fichero_resultados=R_FICHERO+\"_\"+M_TIPO+\"-\"+M_SELECT+\"-\"+M_CLASIF+\".csv\"\n",
    "myfunc.save_resultados_to_csv(M_TIPO, M_SELECT, M_CLASIF,  random_search, myfunc.MET_DIR, fichero_resultados)\n"
   ]
  }
 ],
 "metadata": {
  "kernelspec": {
   "display_name": "Python 3 (ipykernel)",
   "language": "python",
   "name": "python3"
  },
  "language_info": {
   "codemirror_mode": {
    "name": "ipython",
    "version": 3
   },
   "file_extension": ".py",
   "mimetype": "text/x-python",
   "name": "python",
   "nbconvert_exporter": "python",
   "pygments_lexer": "ipython3",
   "version": "3.10.12"
  },
  "papermill": {
   "default_parameters": {},
   "duration": 94.684464,
   "end_time": "2023-10-30T00:48:21.469866",
   "environment_variables": {},
   "exception": null,
   "input_path": "03_entrenamiento.ipynb",
   "output_path": "ejecuciones\\training\\03_entrenamiento.20231030T_14646.param_0000_1860_mul_m_RF_RF.output.ipynb",
   "parameters": {
    "MAX_ITERS": 500,
    "M_CLASIF": "RF",
    "M_FICHERO": "metricas_1860",
    "M_SELECT": "RF",
    "M_TIPO": "mul_m",
    "PRE_DATA_FILE": "rows_transpose_norm_by_gene_id_with_target_num_",
    "P_FICHERO": "param_0000_1860_mul_m_RF_RF.yaml",
    "R_FICHERO": "resultados_1860",
    "SCORING": "roc_auc_ovr",
    "SEMILLA": 1860,
    "eval_clasifier": "RandomForestClassifier(random_state=SEMILLA)",
    "eval_selector": "SelectFromModel(estimator=RandomForestClassifier(random_state=SEMILLA), threshold=-np.inf)",
    "param_distributions": {
     "clasifier__bootstrap": [
      true
     ],
     "clasifier__max_depth": [
      20
     ],
     "clasifier__max_features": [
      200
     ],
     "clasifier__min_samples_leaf": [
      5
     ],
     "clasifier__min_samples_split": [
      10
     ],
     "clasifier__n_estimators": [
      400
     ],
     "selector__estimator__n_estimators": [
      200
     ],
     "selector__max_features": [
      500
     ]
    }
   },
   "start_time": "2023-10-30T00:46:46.785402",
   "version": "2.4.0"
  }
 },
 "nbformat": 4,
 "nbformat_minor": 5
}