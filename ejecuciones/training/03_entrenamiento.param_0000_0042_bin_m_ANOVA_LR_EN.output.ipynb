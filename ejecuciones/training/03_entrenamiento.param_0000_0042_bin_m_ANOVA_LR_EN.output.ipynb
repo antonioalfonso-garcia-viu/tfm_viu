{
 "cells": [
  {
   "cell_type": "markdown",
   "id": "97fee053",
   "metadata": {
    "papermill": {
     "duration": 0.006387,
     "end_time": "2023-10-27T16:24:43.447751",
     "exception": false,
     "start_time": "2023-10-27T16:24:43.441364",
     "status": "completed"
    },
    "tags": []
   },
   "source": [
    "##### Inicio"
   ]
  },
  {
   "cell_type": "markdown",
   "id": "0a30b031",
   "metadata": {
    "papermill": {
     "duration": 0.003021,
     "end_time": "2023-10-27T16:24:43.454373",
     "exception": false,
     "start_time": "2023-10-27T16:24:43.451352",
     "status": "completed"
    },
    "tags": []
   },
   "source": [
    "#### Carga de datos"
   ]
  },
  {
   "cell_type": "code",
   "execution_count": 1,
   "id": "c11fedb6",
   "metadata": {
    "execution": {
     "iopub.execute_input": "2023-10-27T16:24:43.460827Z",
     "iopub.status.busy": "2023-10-27T16:24:43.460609Z",
     "iopub.status.idle": "2023-10-27T16:24:44.416796Z",
     "shell.execute_reply": "2023-10-27T16:24:44.416163Z"
    },
    "papermill": {
     "duration": 0.960799,
     "end_time": "2023-10-27T16:24:44.417999",
     "exception": false,
     "start_time": "2023-10-27T16:24:43.457200",
     "status": "completed"
    },
    "tags": []
   },
   "outputs": [
    {
     "name": "stdout",
     "output_type": "stream",
     "text": [
      "CPU_COUNT: 8; NODE: amilcar22; sys.version: 3.10.12 (main, Jul  5 2023, 19:22:19) [GCC 11.2.0]\n",
      "LOKY_MAX_CPU_COUNT: 6\n",
      "OMP_NUM_THREADS: 2\n"
     ]
    }
   ],
   "source": [
    "import os\n",
    "import numpy as np\n",
    "import pandas as pd\n",
    "import datetime\n",
    "import sklearn\n",
    "import logging\n",
    "import warnings\n",
    "\n",
    "from sklearn.pipeline import Pipeline\n",
    "from sklearn.model_selection import RandomizedSearchCV, KFold, cross_val_score, train_test_split\n",
    "from sklearn.metrics import accuracy_score, confusion_matrix, classification_report, roc_auc_score\n",
    "\n",
    "#  cargar algoritmos para aprendizaje supervisado\n",
    "from sklearn.feature_selection import SelectKBest, f_classif, SelectFromModel, mutual_info_classif\n",
    "from sklearn.svm import SVC\n",
    "from sklearn.ensemble import RandomForestClassifier\n",
    "from sklearn.linear_model import LogisticRegression,LogisticRegressionCV\n",
    "\n",
    "# importar fichero con utilidades propias\n",
    "from commons import myfunctions as myfunc\n"
   ]
  },
  {
   "cell_type": "markdown",
   "id": "cea736c4",
   "metadata": {
    "papermill": {
     "duration": 0.002662,
     "end_time": "2023-10-27T16:24:44.423753",
     "exception": false,
     "start_time": "2023-10-27T16:24:44.421091",
     "status": "completed"
    },
    "tags": []
   },
   "source": [
    "#### Parámetros a utilizar en el entrenamiento.\n",
    "\n",
    "Se indican los 3 algoritmos de *selección de características* (eval_selector_xxx) y los 3 algoritmos para la _clasificación_ (eval_clasifier_xxx)\n",
    "\n",
    "En *param_distributions* se indicar los parámetros que utilizan los algoritmos en la función RandomSearchCV.\n",
    "\n",
    "Esta celda tiene la etiqueta **parameters** que servirá para poder lanzar los entrenamientos con la utilidad **papermill** pasándole un fichero con los parámetros. Los nuevos parámetros se situarán tras esta celda para tener prevalencia."
   ]
  },
  {
   "cell_type": "code",
   "execution_count": 2,
   "id": "f6686d15",
   "metadata": {
    "execution": {
     "iopub.execute_input": "2023-10-27T16:24:44.429825Z",
     "iopub.status.busy": "2023-10-27T16:24:44.429532Z",
     "iopub.status.idle": "2023-10-27T16:24:44.436348Z",
     "shell.execute_reply": "2023-10-27T16:24:44.435920Z"
    },
    "papermill": {
     "duration": 0.011255,
     "end_time": "2023-10-27T16:24:44.437499",
     "exception": false,
     "start_time": "2023-10-27T16:24:44.426244",
     "status": "completed"
    },
    "tags": [
     "parameters"
    ]
   },
   "outputs": [
    {
     "name": "stdout",
     "output_type": "stream",
     "text": [
      "20231027T182444 : amilcar22 : INFO : Utilizando parámetros de mul_m\n"
     ]
    }
   ],
   "source": [
    "#  Parametros para el entrenamiento\n",
    "\n",
    "SEMILLA=        42\n",
    "M_TIPO=         \"mul_m\"\n",
    "M_SELECT=       \"MI\"\n",
    "M_CLASIF=       \"SVM\"\n",
    "R_FICHERO=      \"resultados\"\n",
    "M_FICHERO=      \"metricas\"\n",
    "PRE_DATA_FILE=  \"rows_transpose_norm_by_gene_id_with_target_num_\"\n",
    "SCORING=        \"roc_auc_ovr\" \n",
    "MAX_ITERS=      100\n",
    "\n",
    "def mutual_info_classif_state(X, y):\n",
    "    return mutual_info_classif(X, y, random_state=SEMILLA)\n",
    "\n",
    "eval_selector_mi = \"SelectKBest(score_func=mutual_info_classif_state)\"\n",
    "eval_selector_rf=  \"SelectFromModel(estimator=RandomForestClassifier(random_state=SEMILLA), threshold=-np.inf)\"\n",
    "eval_selector_anova=  \"SelectKBest(score_func=f_classif)\"\n",
    "\n",
    "eval_clasifier_svm= \"SVC(probability=True, random_state=SEMILLA)\"\n",
    "eval_clasifier_rf= \"RandomForestClassifier(random_state=SEMILLA)\"\n",
    "eval_clasifier_lr= \"LogisticRegressionCV(random_state=SEMILLA)\"\n",
    "\n",
    "if M_TIPO.startswith(\"bin_m\"):\n",
    "    myfunc.verbose(f\"Utilizando parámetros de {M_TIPO}\")\n",
    "    eval_selector = eval_selector_mi\n",
    "    eval_clasifier = eval_clasifier_svm\n",
    "\n",
    "    SEMILLA = 6578\n",
    "    M_SELECT = \"MI\"\n",
    "    M_CLASIF = \"SVM\"\n",
    "    param_distributions = {'selector__k': [1000], \n",
    "         'clasifier__kernel': ['rbf'], 'clasifier__gamma': [0.01], 'clasifier__C': [100]}\n",
    "elif M_TIPO.startswith(\"bin_s\"):\n",
    "    myfunc.verbose(f\"Utilizando parámetros de {M_TIPO}\")\n",
    "    eval_selector = eval_selector_rf\n",
    "    eval_clasifier = eval_clasifier_lr\n",
    "\n",
    "    SEMILLA = 6191\n",
    "    M_SELECT = \"RF\"\n",
    "    M_CLASIF = \"LR_L2\"\n",
    "    param_distributions = {'selector__max_features': [1000], 'selector__estimator__n_estimators': [200], \n",
    "        'clasifier__solver': ['lbfgs'], 'clasifier__penalty': ['l2'], 'clasifier__max_iter': [10000]}\n",
    "\n",
    "elif M_TIPO.startswith(\"mul_m\"):\n",
    "    myfunc.verbose(f\"Utilizando parámetros de {M_TIPO}\")\n",
    " \n",
    "    eval_selector = eval_selector_rf\n",
    "    eval_clasifier = eval_clasifier_lr\n",
    "\n",
    "    SEMILLA = 6191\n",
    "    M_SELECT = \"RF\"\n",
    "    M_CLASIF = \"LR_L2\"\n",
    "    param_distributions = {'selector__max_features': [1000], 'selector__estimator__n_estimators': [400], \n",
    "        'clasifier__solver': ['lbfgs'], 'clasifier__penalty': ['l2'], 'clasifier__max_iter': [10000]}\n",
    "\n",
    "else:\n",
    "    # M_TIPO.startswith(\"mul_s\"):\n",
    "    myfunc.verbose(f\"Utilizando parámetros de {M_TIPO}\")\n",
    "    eval_selector = eval_selector_anova\n",
    "    eval_clasifier = eval_clasifier_lr\n",
    "\n",
    "    SEMILLA = 1860\n",
    "    M_SELECT = \"ANOVA\"\n",
    "    M_CLASIF = \"LR_L2\"\n",
    "    param_distributions = {'selector__k': [1000], \n",
    "        'clasifier__solver': ['saga'], 'clasifier__penalty': ['l2'], 'clasifier__max_iter': [10000]}\n",
    "\n"
   ]
  },
  {
   "cell_type": "code",
   "execution_count": 3,
   "id": "0b3679e1",
   "metadata": {
    "execution": {
     "iopub.execute_input": "2023-10-27T16:24:44.443724Z",
     "iopub.status.busy": "2023-10-27T16:24:44.443527Z",
     "iopub.status.idle": "2023-10-27T16:24:44.447086Z",
     "shell.execute_reply": "2023-10-27T16:24:44.446621Z"
    },
    "papermill": {
     "duration": 0.007973,
     "end_time": "2023-10-27T16:24:44.448323",
     "exception": false,
     "start_time": "2023-10-27T16:24:44.440350",
     "status": "completed"
    },
    "tags": [
     "injected-parameters"
    ]
   },
   "outputs": [],
   "source": [
    "# Parameters\n",
    "M_TIPO = \"bin_m\"\n",
    "M_SELECT = \"ANOVA\"\n",
    "M_CLASIF = \"LR_EN\"\n",
    "P_FICHERO = \"param_0000_0042_bin_m_ANOVA_LR_EN.yaml\"\n",
    "R_FICHERO = \"resultados_0042\"\n",
    "M_FICHERO = \"metricas_0042\"\n",
    "PRE_DATA_FILE = \"rows_transpose_norm_by_gene_id_with_target_num_\"\n",
    "SCORING = \"roc_auc_ovr\"\n",
    "SEMILLA = 42\n",
    "MAX_ITERS = 500\n",
    "eval_selector = \"SelectKBest(score_func=f_classif)\"\n",
    "eval_clasifier = \"LogisticRegressionCV(random_state=SEMILLA)\"\n",
    "param_distributions = {\n",
    "    \"selector__k\": [500],\n",
    "    \"clasifier__solver\": [\"saga\"],\n",
    "    \"clasifier__penalty\": [\"elasticnet\"],\n",
    "    \"clasifier__max_iter\": [10000],\n",
    "    \"clasifier__l1_ratios\": [[0.1]],\n",
    "}\n"
   ]
  },
  {
   "cell_type": "code",
   "execution_count": 4,
   "id": "274fc6f0",
   "metadata": {
    "execution": {
     "iopub.execute_input": "2023-10-27T16:24:44.454627Z",
     "iopub.status.busy": "2023-10-27T16:24:44.454404Z",
     "iopub.status.idle": "2023-10-27T16:24:44.457726Z",
     "shell.execute_reply": "2023-10-27T16:24:44.457266Z"
    },
    "papermill": {
     "duration": 0.007879,
     "end_time": "2023-10-27T16:24:44.458951",
     "exception": false,
     "start_time": "2023-10-27T16:24:44.451072",
     "status": "completed"
    },
    "tags": []
   },
   "outputs": [],
   "source": [
    "DATA_FILE = PRE_DATA_FILE + M_TIPO\n",
    "\n",
    "# si viene \"None\" en el parámetro max_depth, se le quitan las comillas para que no sea entendido por el algoritmo como un texto\n",
    "if \"clasifier__max_depth\" in param_distributions:\n",
    "    param_distributions['clasifier__max_depth'] = [None if x == 'None' else x for x in param_distributions['clasifier__max_depth']]"
   ]
  },
  {
   "cell_type": "markdown",
   "id": "df852df4",
   "metadata": {
    "papermill": {
     "duration": 0.002647,
     "end_time": "2023-10-27T16:24:44.464570",
     "exception": false,
     "start_time": "2023-10-27T16:24:44.461923",
     "status": "completed"
    },
    "tags": []
   },
   "source": [
    "Asignar los algoritmos que se utilizarán en la función RandomSearchCV"
   ]
  },
  {
   "cell_type": "code",
   "execution_count": 5,
   "id": "ef2c13e7",
   "metadata": {
    "execution": {
     "iopub.execute_input": "2023-10-27T16:24:44.470763Z",
     "iopub.status.busy": "2023-10-27T16:24:44.470569Z",
     "iopub.status.idle": "2023-10-27T16:24:44.473320Z",
     "shell.execute_reply": "2023-10-27T16:24:44.472848Z"
    },
    "papermill": {
     "duration": 0.00732,
     "end_time": "2023-10-27T16:24:44.474535",
     "exception": false,
     "start_time": "2023-10-27T16:24:44.467215",
     "status": "completed"
    },
    "tags": []
   },
   "outputs": [],
   "source": [
    "algor_selector=eval(eval_selector)\n",
    "algor_clasifier=eval(eval_clasifier)"
   ]
  },
  {
   "cell_type": "markdown",
   "id": "862afaab",
   "metadata": {
    "papermill": {
     "duration": 0.002687,
     "end_time": "2023-10-27T16:24:44.480102",
     "exception": false,
     "start_time": "2023-10-27T16:24:44.477415",
     "status": "completed"
    },
    "tags": []
   },
   "source": [
    "#### Comprobar el entorno y leer fichero de muestras"
   ]
  },
  {
   "cell_type": "code",
   "execution_count": 6,
   "id": "bfb56bc0",
   "metadata": {
    "execution": {
     "iopub.execute_input": "2023-10-27T16:24:44.486158Z",
     "iopub.status.busy": "2023-10-27T16:24:44.485981Z",
     "iopub.status.idle": "2023-10-27T16:24:44.721947Z",
     "shell.execute_reply": "2023-10-27T16:24:44.721379Z"
    },
    "papermill": {
     "duration": 0.240474,
     "end_time": "2023-10-27T16:24:44.723202",
     "exception": false,
     "start_time": "2023-10-27T16:24:44.482728",
     "status": "completed"
    },
    "tags": []
   },
   "outputs": [
    {
     "name": "stdout",
     "output_type": "stream",
     "text": [
      "20231027T182444 : amilcar22 : INFO : Encontrada carpeta DATA_DIR=../tfm_git/datos\n",
      "20231027T182444 : amilcar22 : INFO : Encontrada carpeta CFDNA_DIR=../tfm_git/datos/cfDNA_5hmC\n",
      "20231027T182444 : amilcar22 : INFO : Encontrada carpeta GENCODE_DIR=../tfm_git/datos/gencode\n",
      "20231027T182444 : amilcar22 : INFO : Encontrada carpeta H5_DIR=../tfm_git/datos/h5\n",
      "20231027T182444 : amilcar22 : INFO : Encontrada carpeta LOG_DIR=../tfm_git/datos/logs\n",
      "20231027T182444 : amilcar22 : INFO : Encontrada carpeta CSV_DIR=../tfm_git/datos/csv\n",
      "20231027T182444 : amilcar22 : INFO : Encontrada carpeta MODEL_DIR=../tfm_git/ejecuciones/modelos\n",
      "20231027T182444 : amilcar22 : INFO : Encontrada carpeta EXEC_DIR=../tfm_git/ejecuciones\n",
      "20231027T182444 : amilcar22 : INFO : Encontrada carpeta MET_DIR=../tfm_git/ejecuciones/metricas\n",
      "20231027T182444 : amilcar22 : INFO : Inicio leer fichero h5 ../tfm_git/datos/h5/rows_transpose_norm_by_gene_id_with_target_num_bin_m.h5\n",
      "20231027T182444 : amilcar22 : INFO : Leyendo clave /df\n"
     ]
    },
    {
     "name": "stdout",
     "output_type": "stream",
     "text": [
      "20231027T182444 : amilcar22 : INFO : Tamaño (720, 18876)\n",
      "20231027T182444 : amilcar22 : INFO : Fin leer fichero h5 ../tfm_git/datos/h5/rows_transpose_norm_by_gene_id_with_target_num_bin_m.h5\n"
     ]
    },
    {
     "data": {
      "text/plain": [
       "target\n",
       "0    360\n",
       "1    360\n",
       "dtype: int64"
      ]
     },
     "metadata": {},
     "output_type": "display_data"
    },
    {
     "name": "stdout",
     "output_type": "stream",
     "text": [
      "Shape df: (720, 18876)\n"
     ]
    },
    {
     "name": "stdout",
     "output_type": "stream",
     "text": [
      "Shape X_train: (576, 18875)\n",
      "Shape X_test: (144, 18875)\n"
     ]
    }
   ],
   "source": [
    "start_time = datetime.datetime.now()\n",
    "\n",
    "myfunc.reset_vars()\n",
    "\n",
    "myfunc.NOTEBK_FILENAME = myfunc.get_nb_name()\n",
    "\n",
    "myfunc.check_enviroment(myfunc.DATA_DIR, myfunc.CFDNA_DIR, myfunc.GENCODE_DIR, myfunc.H5_DIR, myfunc.LOG_DIR, myfunc.CSV_DIR, myfunc.MODEL_DIR, myfunc.EXEC_DIR, myfunc.MET_DIR)\n",
    "\n",
    "# Leer fichero con las muestras\n",
    "df_t = myfunc.read_h5_to_df(DATA_FILE, myfunc.H5_DIR)\n",
    "display(df_t.groupby(\"target\").size())\n",
    "print(\"Shape df:\",df_t.shape)\n",
    "\n",
    "# Separar caracteristicas/genes de las etiquetas/tipos de cáncer\n",
    "X = df_t.iloc[:, :-1]  # Todas las columnas excepto la última\n",
    "y = df_t.iloc[:, -1]  # La última columna contiene los identificadores de los tipos de cáncer\n",
    "\n",
    "#  Crear el conjunto de datos de entrenamiento y de pruebas\n",
    "X_train, X_test, y_train, y_test = train_test_split(X, y, test_size=0.2, shuffle=True, random_state=SEMILLA)\n",
    "print(\"Shape X_train:\",X_train.shape)\n",
    "print(\"Shape X_test:\",X_test.shape)\n"
   ]
  },
  {
   "cell_type": "markdown",
   "id": "6dc8d653",
   "metadata": {
    "papermill": {
     "duration": 0.00317,
     "end_time": "2023-10-27T16:24:44.729901",
     "exception": false,
     "start_time": "2023-10-27T16:24:44.726731",
     "status": "completed"
    },
    "tags": []
   },
   "source": [
    "#### Selección de características y clasificación."
   ]
  },
  {
   "cell_type": "code",
   "execution_count": 7,
   "id": "8db8be5f",
   "metadata": {
    "execution": {
     "iopub.execute_input": "2023-10-27T16:24:44.738348Z",
     "iopub.status.busy": "2023-10-27T16:24:44.737621Z",
     "iopub.status.idle": "2023-10-27T16:29:39.475227Z",
     "shell.execute_reply": "2023-10-27T16:29:39.474563Z"
    },
    "papermill": {
     "duration": 294.745763,
     "end_time": "2023-10-27T16:29:39.479234",
     "exception": false,
     "start_time": "2023-10-27T16:24:44.733471",
     "status": "completed"
    },
    "tags": []
   },
   "outputs": [
    {
     "name": "stdout",
     "output_type": "stream",
     "text": [
      "20231027T182444 : amilcar22 : INFO : Iniciando entrenamiento\n",
      "num_iter: 1 , max_iter: 1\n",
      "Fitting 5 folds for each of 1 candidates, totalling 5 fits\n"
     ]
    },
    {
     "name": "stderr",
     "output_type": "stream",
     "text": [
      "/home/antonio/miniconda3/lib/python3.10/site-packages/sklearn/feature_selection/_univariate_selection.py:112: UserWarning: Features [ 2222  2265  2266  2803  2896  5803  8513  9490 11943 12801 12831 12888\n",
      " 13300 13836 13848 14244 15183 15515 15824 16268 16287 16313 16322 16323\n",
      " 16679 16870 16906 17024 17231 17418 18530 18546] are constant.\n",
      "  warnings.warn(\"Features %s are constant.\" % constant_features_idx, UserWarning)\n",
      "/home/antonio/miniconda3/lib/python3.10/site-packages/sklearn/feature_selection/_univariate_selection.py:113: RuntimeWarning: invalid value encountered in divide\n",
      "  f = msb / msw\n",
      "/home/antonio/miniconda3/lib/python3.10/site-packages/sklearn/feature_selection/_univariate_selection.py:112: UserWarning: Features [ 2010  2265  2266  2803  2896  5803  8513  9490 10475 11943 12831 13235\n",
      " 13836 13848 14789 15183 15515 15824 15881 16267 16268 16287 16313 16323\n",
      " 16630 16679 16870 16906 16968 17024 17047 17091 17231 18375 18530] are constant.\n",
      "  warnings.warn(\"Features %s are constant.\" % constant_features_idx, UserWarning)\n",
      "/home/antonio/miniconda3/lib/python3.10/site-packages/sklearn/feature_selection/_univariate_selection.py:113: RuntimeWarning: invalid value encountered in divide\n",
      "  f = msb / msw\n",
      "/home/antonio/miniconda3/lib/python3.10/site-packages/sklearn/feature_selection/_univariate_selection.py:112: UserWarning: Features [ 2265  2266  2803  2896  5803  8314  8513  9087  9490 11020 11260 11943\n",
      " 12831 13836 13848 14559 15183 15401 15515 15563 15824 16262 16268 16287\n",
      " 16313 16323 16679 16731 16870 16906 16956 17024 17093 17231 17300 18530] are constant.\n",
      "  warnings.warn(\"Features %s are constant.\" % constant_features_idx, UserWarning)\n",
      "/home/antonio/miniconda3/lib/python3.10/site-packages/sklearn/feature_selection/_univariate_selection.py:113: RuntimeWarning: invalid value encountered in divide\n",
      "  f = msb / msw\n"
     ]
    },
    {
     "name": "stderr",
     "output_type": "stream",
     "text": [
      "/home/antonio/miniconda3/lib/python3.10/site-packages/sklearn/feature_selection/_univariate_selection.py:112: UserWarning: Features [  298  2265  2266  2803  2896  3415  5533  5803  6053  7416  8513  9490\n",
      " 11022 11943 12249 12831 13836 13848 14735 15183 15515 15785 15824 16260\n",
      " 16268 16287 16313 16323 16679 16701 16870 16906 17024 17231 17312 17540\n",
      " 17566 18530 18679] are constant.\n",
      "  warnings.warn(\"Features %s are constant.\" % constant_features_idx, UserWarning)\n",
      "/home/antonio/miniconda3/lib/python3.10/site-packages/sklearn/feature_selection/_univariate_selection.py:113: RuntimeWarning: invalid value encountered in divide\n",
      "  f = msb / msw\n",
      "/home/antonio/miniconda3/lib/python3.10/site-packages/sklearn/feature_selection/_univariate_selection.py:112: UserWarning: Features [ 1733  2265  2266  2803  2896  5668  5803  6984  8513  9490 11943 12831\n",
      " 13836 13848 13959 14245 15183 15515 15824 16018 16268 16278 16279 16287\n",
      " 16312 16313 16323 16667 16679 16704 16870 16906 17024 17231 17679 18530\n",
      " 18608] are constant.\n",
      "  warnings.warn(\"Features %s are constant.\" % constant_features_idx, UserWarning)\n",
      "/home/antonio/miniconda3/lib/python3.10/site-packages/sklearn/feature_selection/_univariate_selection.py:113: RuntimeWarning: invalid value encountered in divide\n",
      "  f = msb / msw\n"
     ]
    },
    {
     "name": "stderr",
     "output_type": "stream",
     "text": [
      "/home/antonio/miniconda3/lib/python3.10/site-packages/sklearn/feature_selection/_univariate_selection.py:112: UserWarning: Features [ 2265  2266  2803  2896  5803  8513  9490 11943 12831 13836 13848 15183\n",
      " 15515 15824 16268 16287 16313 16323 16679 16870 16906 17024 17231 18530] are constant.\n",
      "  warnings.warn(\"Features %s are constant.\" % constant_features_idx, UserWarning)\n",
      "/home/antonio/miniconda3/lib/python3.10/site-packages/sklearn/feature_selection/_univariate_selection.py:113: RuntimeWarning: invalid value encountered in divide\n",
      "  f = msb / msw\n"
     ]
    },
    {
     "name": "stdout",
     "output_type": "stream",
     "text": [
      "Mejores Hiperparámetros: {'selector__k': 500, 'clasifier__solver': 'saga', 'clasifier__penalty': 'elasticnet', 'clasifier__max_iter': 10000, 'clasifier__l1_ratios': [0.1]}\n",
      "Mejor Puntuación: 0.8552\n",
      "20231027T182939 : amilcar22 : INFO : Fin entrenamiento\n"
     ]
    }
   ],
   "source": [
    "myfunc.verbose(\"Iniciando entrenamiento\")\n",
    "\n",
    "kf = KFold(n_splits=5, shuffle=True, random_state=SEMILLA)\n",
    "\n",
    "# Crear el pipeline para el flujo de tareas\n",
    "tasks_pipeline = Pipeline([\n",
    "    ('selector', algor_selector),\n",
    "    ('clasifier', algor_clasifier)\n",
    "])\n",
    "\n",
    "# MAX_ITERS puede limitar el número de iteraciones si son excesivas para las combinaciones de parámetros buscando un óptimo local, \n",
    "# sino funcionaría como GridSearchCV al revisar todas las cominaciones de los parámetros\n",
    "num_iteraciones = 1\n",
    "num_iteraciones = num_iteraciones * np.prod([len(elemento1) for _, elemento1 in param_distributions.items()])\n",
    "max_iteraciones = num_iteraciones if num_iteraciones <= MAX_ITERS else MAX_ITERS\n",
    "print(\"num_iter:\",num_iteraciones,\", max_iter:\",max_iteraciones)\n",
    "\n",
    "random_search = RandomizedSearchCV(\n",
    "    tasks_pipeline, \n",
    "    param_distributions, \n",
    "    n_iter=max_iteraciones,\n",
    "    scoring=SCORING,\n",
    "    cv=kf,\n",
    "    verbose=3, \n",
    "    random_state=SEMILLA, \n",
    "    n_jobs=-1\n",
    "    )\n",
    "\n",
    "# Entrenar el modelo\n",
    "random_search.fit(X_train, y_train)\n",
    "\n",
    "# Ver los mejores hiperparámetros encontrados\n",
    "print(f'Mejores Hiperparámetros: {random_search.best_params_}')\n",
    "print(f'Mejor Puntuación: {random_search.best_score_:.4f}')\n",
    "\n",
    "# Nos quedamos con el mejor modelo para ver las métricas\n",
    "mejor_modelo = random_search.best_estimator_\n",
    "\n",
    "myfunc.verbose(\"Fin entrenamiento\")"
   ]
  },
  {
   "cell_type": "markdown",
   "id": "335f6912",
   "metadata": {
    "papermill": {
     "duration": 0.003128,
     "end_time": "2023-10-27T16:29:39.485566",
     "exception": false,
     "start_time": "2023-10-27T16:29:39.482438",
     "status": "completed"
    },
    "tags": []
   },
   "source": [
    "#### Guardar modelo"
   ]
  },
  {
   "cell_type": "code",
   "execution_count": 8,
   "id": "ad1bad40",
   "metadata": {
    "execution": {
     "iopub.execute_input": "2023-10-27T16:29:39.492689Z",
     "iopub.status.busy": "2023-10-27T16:29:39.492495Z",
     "iopub.status.idle": "2023-10-27T16:29:39.501079Z",
     "shell.execute_reply": "2023-10-27T16:29:39.500487Z"
    },
    "papermill": {
     "duration": 0.013861,
     "end_time": "2023-10-27T16:29:39.502475",
     "exception": false,
     "start_time": "2023-10-27T16:29:39.488614",
     "status": "completed"
    },
    "tags": []
   },
   "outputs": [
    {
     "name": "stdout",
     "output_type": "stream",
     "text": [
      "20231027T182939 : amilcar22 : INFO : Inicio guardar fichero ../tfm_git/ejecuciones/modelos/modelo_0042_bin_m_ANOVA_LR_EN.pkl\n",
      "20231027T182939 : amilcar22 : INFO : Fichero borrado ../tfm_git/ejecuciones/modelos/modelo_0042_bin_m_ANOVA_LR_EN.pkl\n",
      "20231027T182939 : amilcar22 : INFO : Fin guardar fichero ../tfm_git/ejecuciones/modelos/modelo_0042_bin_m_ANOVA_LR_EN.pkl\n"
     ]
    }
   ],
   "source": [
    "fichero_modelo = str.replace(\"modelo_\"+str(SEMILLA).zfill(4)+\"_\"+M_TIPO+\"_\"+M_SELECT+\"_\"+M_CLASIF+\".pkl\", \" \", \"_\")\n",
    "\n",
    "myfunc.save_modelo(mejor_modelo, myfunc.MODEL_DIR, fichero_modelo)"
   ]
  },
  {
   "cell_type": "markdown",
   "id": "44baef4e",
   "metadata": {
    "papermill": {
     "duration": 0.00334,
     "end_time": "2023-10-27T16:29:39.509267",
     "exception": false,
     "start_time": "2023-10-27T16:29:39.505927",
     "status": "completed"
    },
    "tags": []
   },
   "source": [
    "#### Ver resultados del las iteraciones hechas por RandomSearchCV"
   ]
  },
  {
   "cell_type": "code",
   "execution_count": 9,
   "id": "7b09589d",
   "metadata": {
    "execution": {
     "iopub.execute_input": "2023-10-27T16:29:39.516477Z",
     "iopub.status.busy": "2023-10-27T16:29:39.516271Z",
     "iopub.status.idle": "2023-10-27T16:29:39.522554Z",
     "shell.execute_reply": "2023-10-27T16:29:39.521983Z"
    },
    "papermill": {
     "duration": 0.011291,
     "end_time": "2023-10-27T16:29:39.523691",
     "exception": false,
     "start_time": "2023-10-27T16:29:39.512400",
     "status": "completed"
    },
    "tags": []
   },
   "outputs": [
    {
     "name": "stdout",
     "output_type": "stream",
     "text": [
      "20231027T182939 : amilcar22 : INFO : Inicio ver resultados\n",
      "Mejores Hiperparámetros: {'selector__k': 500, 'clasifier__solver': 'saga', 'clasifier__penalty': 'elasticnet', 'clasifier__max_iter': 10000, 'clasifier__l1_ratios': [0.1]}\n",
      "Mejores puntuaciones: 0.8552 | Params: {'selector__k': 500, 'clasifier__solver': 'saga', 'clasifier__penalty': 'elasticnet', 'clasifier__max_iter': 10000, 'clasifier__l1_ratios': [0.1]}\n",
      "Media de las puntuaciones: 0.8552 | Params: {'selector__k': 500, 'clasifier__solver': 'saga', 'clasifier__penalty': 'elasticnet', 'clasifier__max_iter': 10000, 'clasifier__l1_ratios': [0.1]}\n",
      "20231027T182939 : amilcar22 : INFO : Fin resultados\n"
     ]
    }
   ],
   "source": [
    "myfunc.ver_resultados_search(random_search)"
   ]
  },
  {
   "cell_type": "markdown",
   "id": "0326600c",
   "metadata": {
    "papermill": {
     "duration": 0.003356,
     "end_time": "2023-10-27T16:29:39.530537",
     "exception": false,
     "start_time": "2023-10-27T16:29:39.527181",
     "status": "completed"
    },
    "tags": []
   },
   "source": [
    "#### Ver métricas del mejor modelo"
   ]
  },
  {
   "cell_type": "code",
   "execution_count": 10,
   "id": "d938064a",
   "metadata": {
    "execution": {
     "iopub.execute_input": "2023-10-27T16:29:39.537939Z",
     "iopub.status.busy": "2023-10-27T16:29:39.537743Z",
     "iopub.status.idle": "2023-10-27T16:29:39.946304Z",
     "shell.execute_reply": "2023-10-27T16:29:39.945622Z"
    },
    "papermill": {
     "duration": 0.413781,
     "end_time": "2023-10-27T16:29:39.947620",
     "exception": false,
     "start_time": "2023-10-27T16:29:39.533839",
     "status": "completed"
    },
    "tags": []
   },
   "outputs": [
    {
     "name": "stdout",
     "output_type": "stream",
     "text": [
      "20231027T182939 : amilcar22 : INFO : Inicio ver métricas\n"
     ]
    },
    {
     "name": "stdout",
     "output_type": "stream",
     "text": [
      "              precision    recall  f1-score   support\n",
      "\n",
      "           0       0.87      0.89      0.88        82\n",
      "           1       0.85      0.82      0.84        62\n",
      "\n",
      "    accuracy                           0.86       144\n",
      "   macro avg       0.86      0.86      0.86       144\n",
      "weighted avg       0.86      0.86      0.86       144\n",
      "\n",
      "\n",
      "\n",
      "   Exactitud: 0.8611\n",
      "   Precisión: 0.8595\n",
      "Sensibilidad: 0.8564\n",
      "    F1-score: 0.8578\n",
      "     AUC ROC: 0.9138\n"
     ]
    },
    {
     "data": {
      "image/png": "[encoded data removed]",
      "text/plain": [
       "<Figure size 300x100 with 2 Axes>"
      ]
     },
     "metadata": {},
     "output_type": "display_data"
    },
    {
     "data": {
      "image/png": "[encoded data removed]",
      "text/plain": [
       "<Figure size 800x500 with 1 Axes>"
      ]
     },
     "metadata": {},
     "output_type": "display_data"
    },
    {
     "name": "stdout",
     "output_type": "stream",
     "text": [
      "20231027T182939 : amilcar22 : INFO : Fin ver métricas\n"
     ]
    }
   ],
   "source": [
    "if M_TIPO.startswith(\"bin\"):\n",
    "    myfunc.ver_metricas(mejor_modelo, X_test, y_test)\n",
    "else:\n",
    "    myfunc.ver_metricas_multi(mejor_modelo, X_test, y_test)\n"
   ]
  },
  {
   "cell_type": "markdown",
   "id": "f013ebe9",
   "metadata": {
    "papermill": {
     "duration": 0.003733,
     "end_time": "2023-10-27T16:29:39.955583",
     "exception": false,
     "start_time": "2023-10-27T16:29:39.951850",
     "status": "completed"
    },
    "tags": []
   },
   "source": [
    "#### Finalización del notebook"
   ]
  },
  {
   "cell_type": "code",
   "execution_count": 11,
   "id": "1e5206ba",
   "metadata": {
    "execution": {
     "iopub.execute_input": "2023-10-27T16:29:39.964186Z",
     "iopub.status.busy": "2023-10-27T16:29:39.963931Z",
     "iopub.status.idle": "2023-10-27T16:29:39.967519Z",
     "shell.execute_reply": "2023-10-27T16:29:39.966979Z"
    },
    "papermill": {
     "duration": 0.009297,
     "end_time": "2023-10-27T16:29:39.968766",
     "exception": false,
     "start_time": "2023-10-27T16:29:39.959469",
     "status": "completed"
    },
    "tags": []
   },
   "outputs": [
    {
     "name": "stdout",
     "output_type": "stream",
     "text": [
      "20231027T182939 : amilcar22 : INFO : Notebook ha tardado 295 seconds\n"
     ]
    }
   ],
   "source": [
    "end_time = datetime.datetime.now()\n",
    "total_time = end_time - start_time\n",
    "myfunc.verbose(f\"Notebook ha tardado {total_time.seconds} seconds\")"
   ]
  },
  {
   "cell_type": "markdown",
   "id": "9441d113",
   "metadata": {
    "papermill": {
     "duration": 0.003763,
     "end_time": "2023-10-27T16:29:39.976529",
     "exception": false,
     "start_time": "2023-10-27T16:29:39.972766",
     "status": "completed"
    },
    "tags": []
   },
   "source": [
    "#### Guardar métricas"
   ]
  },
  {
   "cell_type": "code",
   "execution_count": 12,
   "id": "b7b96569",
   "metadata": {
    "execution": {
     "iopub.execute_input": "2023-10-27T16:29:39.988446Z",
     "iopub.status.busy": "2023-10-27T16:29:39.988250Z",
     "iopub.status.idle": "2023-10-27T16:29:40.181093Z",
     "shell.execute_reply": "2023-10-27T16:29:40.180542Z"
    },
    "papermill": {
     "duration": 0.200611,
     "end_time": "2023-10-27T16:29:40.182316",
     "exception": false,
     "start_time": "2023-10-27T16:29:39.981705",
     "status": "completed"
    },
    "tags": []
   },
   "outputs": [
    {
     "name": "stdout",
     "output_type": "stream",
     "text": [
      "20231027T182939 : amilcar22 : INFO : Inicio guardar métricas\n",
      "20231027T182939 : amilcar22 : INFO : Inicio leer fichero ../tfm_git/ejecuciones/metricas/metricas_0042.csv\n",
      "20231027T182940 : amilcar22 : INFO : Fin leer fichero ../tfm_git/ejecuciones/metricas/metricas_0042.csv\n",
      "20231027T182940 : amilcar22 : INFO : Inicio guardar fichero ../tfm_git/ejecuciones/metricas/metricas_0042.csv\n",
      "20231027T182940 : amilcar22 : INFO : Fichero borrado ../tfm_git/ejecuciones/metricas/metricas_0042.csv\n"
     ]
    },
    {
     "name": "stdout",
     "output_type": "stream",
     "text": [
      "20231027T182940 : amilcar22 : INFO : Fin guardar fichero ../tfm_git/ejecuciones/metricas/metricas_0042.csv\n",
      "20231027T182940 : amilcar22 : INFO : Fin guardar métricas\n",
      "20231027T182940 : amilcar22 : INFO : Inicio leer fichero ../tfm_git/ejecuciones/metricas/metricas_0042.csv\n"
     ]
    },
    {
     "name": "stdout",
     "output_type": "stream",
     "text": [
      "20231027T182940 : amilcar22 : INFO : Fin leer fichero ../tfm_git/ejecuciones/metricas/metricas_0042.csv\n"
     ]
    },
    {
     "data": {
      "text/html": [
       "<div>\n",
       "<style scoped>\n",
       "    .dataframe tbody tr th:only-of-type {\n",
       "        vertical-align: middle;\n",
       "    }\n",
       "\n",
       "    .dataframe tbody tr th {\n",
       "        vertical-align: top;\n",
       "    }\n",
       "\n",
       "    .dataframe thead th {\n",
       "        text-align: right;\n",
       "    }\n",
       "</style>\n",
       "<table border=\"1\" class=\"dataframe\">\n",
       "  <thead>\n",
       "    <tr style=\"text-align: right;\">\n",
       "      <th></th>\n",
       "      <th>tipo</th>\n",
       "      <th>select</th>\n",
       "      <th>clasific</th>\n",
       "      <th>accuracy</th>\n",
       "      <th>precision</th>\n",
       "      <th>recall</th>\n",
       "      <th>f1_score</th>\n",
       "      <th>roc_auc</th>\n",
       "      <th>roc_auc_ovr</th>\n",
       "      <th>hostname</th>\n",
       "      <th>total_time_sec</th>\n",
       "      <th>datetime</th>\n",
       "      <th>fichero_modelo</th>\n",
       "      <th>params</th>\n",
       "      <th>shape</th>\n",
       "      <th>features</th>\n",
       "      <th>semilla</th>\n",
       "    </tr>\n",
       "  </thead>\n",
       "  <tbody>\n",
       "    <tr>\n",
       "      <th>0</th>\n",
       "      <td>bin_m</td>\n",
       "      <td>ANOVA</td>\n",
       "      <td>LR_EN</td>\n",
       "      <td>0.861111</td>\n",
       "      <td>0.859524</td>\n",
       "      <td>0.856412</td>\n",
       "      <td>0.857792</td>\n",
       "      <td>0.913847</td>\n",
       "      <td>NaN</td>\n",
       "      <td>amilcar22</td>\n",
       "      <td>295</td>\n",
       "      <td>2023-10-27 18:29:40.142251</td>\n",
       "      <td>modelo_0042_bin_m_ANOVA_LR_EN.pkl</td>\n",
       "      <td>{'selector__k': 500, 'clasifier__solver': 'sag...</td>\n",
       "      <td>X_test:(144, 18875)</td>\n",
       "      <td>['ENSG00000000971.17', 'ENSG00000001626.18', '...</td>\n",
       "      <td>42.0</td>\n",
       "    </tr>\n",
       "    <tr>\n",
       "      <th>0</th>\n",
       "      <td>mul_s</td>\n",
       "      <td>RF</td>\n",
       "      <td>SVM</td>\n",
       "      <td>0.461538</td>\n",
       "      <td>0.487075</td>\n",
       "      <td>0.472294</td>\n",
       "      <td>0.454502</td>\n",
       "      <td>0.000000</td>\n",
       "      <td>0.756383</td>\n",
       "      <td>enderlab</td>\n",
       "      <td>5</td>\n",
       "      <td>2023-10-25 18:07:53.115950</td>\n",
       "      <td>mul_s-RF-SVM.pkl</td>\n",
       "      <td>{'selector__max_features': 200, 'selector__est...</td>\n",
       "      <td>X_test:(52, 18875)</td>\n",
       "      <td>['ENSG00000002587.10', 'ENSG00000011422.12', '...</td>\n",
       "      <td>NaN</td>\n",
       "    </tr>\n",
       "    <tr>\n",
       "      <th>0</th>\n",
       "      <td>mul_s</td>\n",
       "      <td>RF</td>\n",
       "      <td>RF</td>\n",
       "      <td>0.442308</td>\n",
       "      <td>0.445408</td>\n",
       "      <td>0.447511</td>\n",
       "      <td>0.418123</td>\n",
       "      <td>0.000000</td>\n",
       "      <td>0.765455</td>\n",
       "      <td>enderlab</td>\n",
       "      <td>28</td>\n",
       "      <td>2023-10-25 18:07:40.629431</td>\n",
       "      <td>mul_s-RF-RF.pkl</td>\n",
       "      <td>{'selector__max_features': 1000, 'selector__es...</td>\n",
       "      <td>X_test:(52, 18875)</td>\n",
       "      <td>['ENSG00000000938.13', 'ENSG00000001460.18', '...</td>\n",
       "      <td>NaN</td>\n",
       "    </tr>\n",
       "  </tbody>\n",
       "</table>\n",
       "</div>"
      ],
      "text/plain": [
       "    tipo select clasific  accuracy  precision    recall  f1_score   roc_auc  \\\n",
       "0  bin_m  ANOVA    LR_EN  0.861111   0.859524  0.856412  0.857792  0.913847   \n",
       "0  mul_s     RF      SVM  0.461538   0.487075  0.472294  0.454502  0.000000   \n",
       "0  mul_s     RF       RF  0.442308   0.445408  0.447511  0.418123  0.000000   \n",
       "\n",
       "   roc_auc_ovr   hostname  total_time_sec                    datetime  \\\n",
       "0          NaN  amilcar22             295  2023-10-27 18:29:40.142251   \n",
       "0     0.756383   enderlab               5  2023-10-25 18:07:53.115950   \n",
       "0     0.765455   enderlab              28  2023-10-25 18:07:40.629431   \n",
       "\n",
       "                      fichero_modelo  \\\n",
       "0  modelo_0042_bin_m_ANOVA_LR_EN.pkl   \n",
       "0                   mul_s-RF-SVM.pkl   \n",
       "0                    mul_s-RF-RF.pkl   \n",
       "\n",
       "                                              params                shape  \\\n",
       "0  {'selector__k': 500, 'clasifier__solver': 'sag...  X_test:(144, 18875)   \n",
       "0  {'selector__max_features': 200, 'selector__est...   X_test:(52, 18875)   \n",
       "0  {'selector__max_features': 1000, 'selector__es...   X_test:(52, 18875)   \n",
       "\n",
       "                                            features  semilla  \n",
       "0  ['ENSG00000000971.17', 'ENSG00000001626.18', '...     42.0  \n",
       "0  ['ENSG00000002587.10', 'ENSG00000011422.12', '...      NaN  \n",
       "0  ['ENSG00000000938.13', 'ENSG00000001460.18', '...      NaN  "
      ]
     },
     "metadata": {},
     "output_type": "display_data"
    }
   ],
   "source": [
    "if M_TIPO.startswith(\"bin\"):\n",
    "    myfunc.save_metricas_to_csv(random_search, X_test, y_test, M_TIPO, M_SELECT, M_CLASIF, total_time, SEMILLA, myfunc.MET_DIR, M_FICHERO, fichero_modelo)\n",
    "else:\n",
    "    myfunc.save_metricas_multi_to_csv(random_search, X_test, y_test, M_TIPO, M_SELECT, M_CLASIF, total_time, SEMILLA, myfunc.MET_DIR, M_FICHERO, fichero_modelo)\n",
    "\n",
    "df1=myfunc.read_metricas_to_df(myfunc.MET_DIR,M_FICHERO)\n",
    "\n",
    "display(df1.sort_values(\"datetime\", ascending=False)[:3])\n"
   ]
  },
  {
   "cell_type": "markdown",
   "id": "fbf9d4bf",
   "metadata": {
    "papermill": {
     "duration": 0.004177,
     "end_time": "2023-10-27T16:29:40.191206",
     "exception": false,
     "start_time": "2023-10-27T16:29:40.187029",
     "status": "completed"
    },
    "tags": []
   },
   "source": [
    "#### Guardar resultados"
   ]
  },
  {
   "cell_type": "code",
   "execution_count": 13,
   "id": "c5f6024b",
   "metadata": {
    "execution": {
     "iopub.execute_input": "2023-10-27T16:29:40.201096Z",
     "iopub.status.busy": "2023-10-27T16:29:40.200354Z",
     "iopub.status.idle": "2023-10-27T16:29:40.209324Z",
     "shell.execute_reply": "2023-10-27T16:29:40.208900Z"
    },
    "papermill": {
     "duration": 0.015065,
     "end_time": "2023-10-27T16:29:40.210508",
     "exception": false,
     "start_time": "2023-10-27T16:29:40.195443",
     "status": "completed"
    },
    "tags": []
   },
   "outputs": [
    {
     "name": "stdout",
     "output_type": "stream",
     "text": [
      "20231027T182940 : amilcar22 : INFO : Inicio guardar resultados\n",
      "20231027T182940 : amilcar22 : INFO : Inicio guardar fichero ../tfm_git/ejecuciones/metricas/resultados_0042_bin_m-ANOVA-LR_EN.csv\n",
      "20231027T182940 : amilcar22 : INFO : Fin guardar fichero ../tfm_git/ejecuciones/metricas/resultados_0042_bin_m-ANOVA-LR_EN.csv\n",
      "20231027T182940 : amilcar22 : INFO : Fin guardar resultados\n"
     ]
    }
   ],
   "source": [
    "fichero_resultados=R_FICHERO+\"_\"+M_TIPO+\"-\"+M_SELECT+\"-\"+M_CLASIF+\".csv\"\n",
    "myfunc.save_resultados_to_csv(M_TIPO, M_SELECT, M_CLASIF,  random_search, myfunc.MET_DIR, fichero_resultados)\n"
   ]
  }
 ],
 "metadata": {
  "kernelspec": {
   "display_name": "Python 3 (ipykernel)",
   "language": "python",
   "name": "python3"
  },
  "language_info": {
   "codemirror_mode": {
    "name": "ipython",
    "version": 3
   },
   "file_extension": ".py",
   "mimetype": "text/x-python",
   "name": "python",
   "nbconvert_exporter": "python",
   "pygments_lexer": "ipython3",
   "version": "3.10.12"
  },
  "papermill": {
   "default_parameters": {},
   "duration": 300.333827,
   "end_time": "2023-10-27T16:29:42.833414",
   "environment_variables": {},
   "exception": null,
   "input_path": "03_entrenamiento.ipynb",
   "output_path": "ejecuciones/training/03_entrenamiento.20231027T182442.param_0000_0042_bin_m_ANOVA_LR_EN.output.ipynb",
   "parameters": {
    "MAX_ITERS": 500,
    "M_CLASIF": "LR_EN",
    "M_FICHERO": "metricas_0042",
    "M_SELECT": "ANOVA",
    "M_TIPO": "bin_m",
    "PRE_DATA_FILE": "rows_transpose_norm_by_gene_id_with_target_num_",
    "P_FICHERO": "param_0000_0042_bin_m_ANOVA_LR_EN.yaml",
    "R_FICHERO": "resultados_0042",
    "SCORING": "roc_auc_ovr",
    "SEMILLA": 42,
    "eval_clasifier": "LogisticRegressionCV(random_state=SEMILLA)",
    "eval_selector": "SelectKBest(score_func=f_classif)",
    "param_distributions": {
     "clasifier__l1_ratios": [
      [
       0.1
      ]
     ],
     "clasifier__max_iter": [
      10000
     ],
     "clasifier__penalty": [
      "elasticnet"
     ],
     "clasifier__solver": [
      "saga"
     ],
     "selector__k": [
      500
     ]
    }
   },
   "start_time": "2023-10-27T16:24:42.499587",
   "version": "2.4.0"
  }
 },
 "nbformat": 4,
 "nbformat_minor": 5
}