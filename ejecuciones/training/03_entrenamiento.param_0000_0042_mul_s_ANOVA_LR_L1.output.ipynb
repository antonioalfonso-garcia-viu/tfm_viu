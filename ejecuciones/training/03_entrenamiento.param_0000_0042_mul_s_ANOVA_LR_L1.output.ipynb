{
 "cells": [
  {
   "cell_type": "markdown",
   "id": "e15311fd",
   "metadata": {
    "papermill": {
     "duration": 0.00452,
     "end_time": "2023-10-27T21:46:44.611613",
     "exception": false,
     "start_time": "2023-10-27T21:46:44.607093",
     "status": "completed"
    },
    "tags": []
   },
   "source": [
    "##### Inicio"
   ]
  },
  {
   "cell_type": "markdown",
   "id": "744e7f0a",
   "metadata": {
    "papermill": {
     "duration": 0.003704,
     "end_time": "2023-10-27T21:46:44.619280",
     "exception": false,
     "start_time": "2023-10-27T21:46:44.615576",
     "status": "completed"
    },
    "tags": []
   },
   "source": [
    "#### Carga de datos"
   ]
  },
  {
   "cell_type": "code",
   "execution_count": 1,
   "id": "ff388205",
   "metadata": {
    "execution": {
     "iopub.execute_input": "2023-10-27T21:46:44.628106Z",
     "iopub.status.busy": "2023-10-27T21:46:44.627859Z",
     "iopub.status.idle": "2023-10-27T21:46:45.501116Z",
     "shell.execute_reply": "2023-10-27T21:46:45.500523Z"
    },
    "papermill": {
     "duration": 0.879414,
     "end_time": "2023-10-27T21:46:45.502550",
     "exception": false,
     "start_time": "2023-10-27T21:46:44.623136",
     "status": "completed"
    },
    "tags": []
   },
   "outputs": [
    {
     "name": "stdout",
     "output_type": "stream",
     "text": [
      "CPU_COUNT: 8; NODE: amilcar22; sys.version: 3.10.12 (main, Jul  5 2023, 19:22:19) [GCC 11.2.0]\n",
      "LOKY_MAX_CPU_COUNT: 6\n",
      "OMP_NUM_THREADS: 2\n"
     ]
    }
   ],
   "source": [
    "import os\n",
    "import numpy as np\n",
    "import pandas as pd\n",
    "import datetime\n",
    "import sklearn\n",
    "import logging\n",
    "import warnings\n",
    "\n",
    "from sklearn.pipeline import Pipeline\n",
    "from sklearn.model_selection import RandomizedSearchCV, KFold, cross_val_score, train_test_split\n",
    "from sklearn.metrics import accuracy_score, confusion_matrix, classification_report, roc_auc_score\n",
    "\n",
    "#  cargar algoritmos para aprendizaje supervisado\n",
    "from sklearn.feature_selection import SelectKBest, f_classif, SelectFromModel, mutual_info_classif\n",
    "from sklearn.svm import SVC\n",
    "from sklearn.ensemble import RandomForestClassifier\n",
    "from sklearn.linear_model import LogisticRegression,LogisticRegressionCV\n",
    "\n",
    "# importar fichero con utilidades propias\n",
    "from commons import myfunctions as myfunc\n"
   ]
  },
  {
   "cell_type": "markdown",
   "id": "de1c11ad",
   "metadata": {
    "papermill": {
     "duration": 0.002621,
     "end_time": "2023-10-27T21:46:45.508184",
     "exception": false,
     "start_time": "2023-10-27T21:46:45.505563",
     "status": "completed"
    },
    "tags": []
   },
   "source": [
    "#### Parámetros a utilizar en el entrenamiento.\n",
    "\n",
    "Se indican los 3 algoritmos de *selección de características* (eval_selector_xxx) y los 3 algoritmos para la _clasificación_ (eval_clasifier_xxx)\n",
    "\n",
    "En *param_distributions* se indicar los parámetros que utilizan los algoritmos en la función RandomSearchCV.\n",
    "\n",
    "Esta celda tiene la etiqueta **parameters** que servirá para poder lanzar los entrenamientos con la utilidad **papermill** pasándole un fichero con los parámetros. Los nuevos parámetros se situarán tras esta celda para tener prevalencia."
   ]
  },
  {
   "cell_type": "code",
   "execution_count": 2,
   "id": "5de4db22",
   "metadata": {
    "execution": {
     "iopub.execute_input": "2023-10-27T21:46:45.514207Z",
     "iopub.status.busy": "2023-10-27T21:46:45.513926Z",
     "iopub.status.idle": "2023-10-27T21:46:45.520757Z",
     "shell.execute_reply": "2023-10-27T21:46:45.520329Z"
    },
    "papermill": {
     "duration": 0.01132,
     "end_time": "2023-10-27T21:46:45.521953",
     "exception": false,
     "start_time": "2023-10-27T21:46:45.510633",
     "status": "completed"
    },
    "tags": [
     "parameters"
    ]
   },
   "outputs": [
    {
     "name": "stdout",
     "output_type": "stream",
     "text": [
      "20231027T234645 : amilcar22 : INFO : Utilizando parámetros de mul_m\n"
     ]
    }
   ],
   "source": [
    "#  Parametros para el entrenamiento\n",
    "\n",
    "SEMILLA=        42\n",
    "M_TIPO=         \"mul_m\"\n",
    "M_SELECT=       \"MI\"\n",
    "M_CLASIF=       \"SVM\"\n",
    "R_FICHERO=      \"resultados\"\n",
    "M_FICHERO=      \"metricas\"\n",
    "PRE_DATA_FILE=  \"rows_transpose_norm_by_gene_id_with_target_num_\"\n",
    "SCORING=        \"roc_auc_ovr\" \n",
    "MAX_ITERS=      100\n",
    "\n",
    "def mutual_info_classif_state(X, y):\n",
    "    return mutual_info_classif(X, y, random_state=SEMILLA)\n",
    "\n",
    "eval_selector_mi = \"SelectKBest(score_func=mutual_info_classif_state)\"\n",
    "eval_selector_rf=  \"SelectFromModel(estimator=RandomForestClassifier(random_state=SEMILLA), threshold=-np.inf)\"\n",
    "eval_selector_anova=  \"SelectKBest(score_func=f_classif)\"\n",
    "\n",
    "eval_clasifier_svm= \"SVC(probability=True, random_state=SEMILLA)\"\n",
    "eval_clasifier_rf= \"RandomForestClassifier(random_state=SEMILLA)\"\n",
    "eval_clasifier_lr= \"LogisticRegressionCV(random_state=SEMILLA)\"\n",
    "\n",
    "if M_TIPO.startswith(\"bin_m\"):\n",
    "    myfunc.verbose(f\"Utilizando parámetros de {M_TIPO}\")\n",
    "    eval_selector = eval_selector_mi\n",
    "    eval_clasifier = eval_clasifier_svm\n",
    "\n",
    "    SEMILLA = 6578\n",
    "    M_SELECT = \"MI\"\n",
    "    M_CLASIF = \"SVM\"\n",
    "    param_distributions = {'selector__k': [1000], \n",
    "         'clasifier__kernel': ['rbf'], 'clasifier__gamma': [0.01], 'clasifier__C': [100]}\n",
    "elif M_TIPO.startswith(\"bin_s\"):\n",
    "    myfunc.verbose(f\"Utilizando parámetros de {M_TIPO}\")\n",
    "    eval_selector = eval_selector_rf\n",
    "    eval_clasifier = eval_clasifier_lr\n",
    "\n",
    "    SEMILLA = 6191\n",
    "    M_SELECT = \"RF\"\n",
    "    M_CLASIF = \"LR_L2\"\n",
    "    param_distributions = {'selector__max_features': [1000], 'selector__estimator__n_estimators': [200], \n",
    "        'clasifier__solver': ['lbfgs'], 'clasifier__penalty': ['l2'], 'clasifier__max_iter': [10000]}\n",
    "\n",
    "elif M_TIPO.startswith(\"mul_m\"):\n",
    "    myfunc.verbose(f\"Utilizando parámetros de {M_TIPO}\")\n",
    " \n",
    "    eval_selector = eval_selector_rf\n",
    "    eval_clasifier = eval_clasifier_lr\n",
    "\n",
    "    SEMILLA = 6191\n",
    "    M_SELECT = \"RF\"\n",
    "    M_CLASIF = \"LR_L2\"\n",
    "    param_distributions = {'selector__max_features': [1000], 'selector__estimator__n_estimators': [400], \n",
    "        'clasifier__solver': ['lbfgs'], 'clasifier__penalty': ['l2'], 'clasifier__max_iter': [10000]}\n",
    "\n",
    "else:\n",
    "    # M_TIPO.startswith(\"mul_s\"):\n",
    "    myfunc.verbose(f\"Utilizando parámetros de {M_TIPO}\")\n",
    "    eval_selector = eval_selector_anova\n",
    "    eval_clasifier = eval_clasifier_lr\n",
    "\n",
    "    SEMILLA = 1860\n",
    "    M_SELECT = \"ANOVA\"\n",
    "    M_CLASIF = \"LR_L2\"\n",
    "    param_distributions = {'selector__k': [1000], \n",
    "        'clasifier__solver': ['saga'], 'clasifier__penalty': ['l2'], 'clasifier__max_iter': [10000]}\n",
    "\n"
   ]
  },
  {
   "cell_type": "code",
   "execution_count": 3,
   "id": "148908be",
   "metadata": {
    "execution": {
     "iopub.execute_input": "2023-10-27T21:46:45.528303Z",
     "iopub.status.busy": "2023-10-27T21:46:45.528146Z",
     "iopub.status.idle": "2023-10-27T21:46:45.531428Z",
     "shell.execute_reply": "2023-10-27T21:46:45.530986Z"
    },
    "papermill": {
     "duration": 0.007823,
     "end_time": "2023-10-27T21:46:45.532635",
     "exception": false,
     "start_time": "2023-10-27T21:46:45.524812",
     "status": "completed"
    },
    "tags": [
     "injected-parameters"
    ]
   },
   "outputs": [],
   "source": [
    "# Parameters\n",
    "M_TIPO = \"mul_s\"\n",
    "M_SELECT = \"ANOVA\"\n",
    "M_CLASIF = \"LR_L1\"\n",
    "P_FICHERO = \"param_0000_0042_mul_s_ANOVA_LR_L1.yaml\"\n",
    "R_FICHERO = \"resultados_0042\"\n",
    "M_FICHERO = \"metricas_0042\"\n",
    "PRE_DATA_FILE = \"rows_transpose_norm_by_gene_id_with_target_num_\"\n",
    "SCORING = \"roc_auc_ovr\"\n",
    "SEMILLA = 42\n",
    "MAX_ITERS = 500\n",
    "eval_selector = \"SelectKBest(score_func=f_classif)\"\n",
    "eval_clasifier = \"LogisticRegressionCV(random_state=SEMILLA)\"\n",
    "param_distributions = {\n",
    "    \"selector__k\": [1000],\n",
    "    \"clasifier__solver\": [\"saga\"],\n",
    "    \"clasifier__penalty\": [\"l1\"],\n",
    "    \"clasifier__max_iter\": [10000],\n",
    "}\n"
   ]
  },
  {
   "cell_type": "code",
   "execution_count": 4,
   "id": "a5d38d6b",
   "metadata": {
    "execution": {
     "iopub.execute_input": "2023-10-27T21:46:45.539544Z",
     "iopub.status.busy": "2023-10-27T21:46:45.539130Z",
     "iopub.status.idle": "2023-10-27T21:46:45.542355Z",
     "shell.execute_reply": "2023-10-27T21:46:45.541828Z"
    },
    "papermill": {
     "duration": 0.008026,
     "end_time": "2023-10-27T21:46:45.543609",
     "exception": false,
     "start_time": "2023-10-27T21:46:45.535583",
     "status": "completed"
    },
    "tags": []
   },
   "outputs": [],
   "source": [
    "DATA_FILE = PRE_DATA_FILE + M_TIPO\n",
    "\n",
    "# si viene \"None\" en el parámetro max_depth, se le quitan las comillas para que no sea entendido por el algoritmo como un texto\n",
    "if \"clasifier__max_depth\" in param_distributions:\n",
    "    param_distributions['clasifier__max_depth'] = [None if x == 'None' else x for x in param_distributions['clasifier__max_depth']]"
   ]
  },
  {
   "cell_type": "markdown",
   "id": "1ab2d71e",
   "metadata": {
    "papermill": {
     "duration": 0.002679,
     "end_time": "2023-10-27T21:46:45.549096",
     "exception": false,
     "start_time": "2023-10-27T21:46:45.546417",
     "status": "completed"
    },
    "tags": []
   },
   "source": [
    "Asignar los algoritmos que se utilizarán en la función RandomSearchCV"
   ]
  },
  {
   "cell_type": "code",
   "execution_count": 5,
   "id": "9400a65a",
   "metadata": {
    "execution": {
     "iopub.execute_input": "2023-10-27T21:46:45.555241Z",
     "iopub.status.busy": "2023-10-27T21:46:45.555057Z",
     "iopub.status.idle": "2023-10-27T21:46:45.557781Z",
     "shell.execute_reply": "2023-10-27T21:46:45.557273Z"
    },
    "papermill": {
     "duration": 0.0074,
     "end_time": "2023-10-27T21:46:45.559164",
     "exception": false,
     "start_time": "2023-10-27T21:46:45.551764",
     "status": "completed"
    },
    "tags": []
   },
   "outputs": [],
   "source": [
    "algor_selector=eval(eval_selector)\n",
    "algor_clasifier=eval(eval_clasifier)"
   ]
  },
  {
   "cell_type": "markdown",
   "id": "34b624a3",
   "metadata": {
    "papermill": {
     "duration": 0.003362,
     "end_time": "2023-10-27T21:46:45.565883",
     "exception": false,
     "start_time": "2023-10-27T21:46:45.562521",
     "status": "completed"
    },
    "tags": []
   },
   "source": [
    "#### Comprobar el entorno y leer fichero de muestras"
   ]
  },
  {
   "cell_type": "code",
   "execution_count": 6,
   "id": "77a6e6cf",
   "metadata": {
    "execution": {
     "iopub.execute_input": "2023-10-27T21:46:45.573430Z",
     "iopub.status.busy": "2023-10-27T21:46:45.573240Z",
     "iopub.status.idle": "2023-10-27T21:46:45.703282Z",
     "shell.execute_reply": "2023-10-27T21:46:45.702722Z"
    },
    "papermill": {
     "duration": 0.135472,
     "end_time": "2023-10-27T21:46:45.704707",
     "exception": false,
     "start_time": "2023-10-27T21:46:45.569235",
     "status": "completed"
    },
    "tags": []
   },
   "outputs": [
    {
     "name": "stdout",
     "output_type": "stream",
     "text": [
      "20231027T234645 : amilcar22 : INFO : Encontrada carpeta DATA_DIR=../tfm_git/datos\n",
      "20231027T234645 : amilcar22 : INFO : Encontrada carpeta CFDNA_DIR=../tfm_git/datos/cfDNA_5hmC\n",
      "20231027T234645 : amilcar22 : INFO : Encontrada carpeta GENCODE_DIR=../tfm_git/datos/gencode\n",
      "20231027T234645 : amilcar22 : INFO : Encontrada carpeta H5_DIR=../tfm_git/datos/h5\n",
      "20231027T234645 : amilcar22 : INFO : Encontrada carpeta LOG_DIR=../tfm_git/datos/logs\n",
      "20231027T234645 : amilcar22 : INFO : Encontrada carpeta CSV_DIR=../tfm_git/datos/csv\n",
      "20231027T234645 : amilcar22 : INFO : Encontrada carpeta MODEL_DIR=../tfm_git/ejecuciones/modelos\n",
      "20231027T234645 : amilcar22 : INFO : Encontrada carpeta EXEC_DIR=../tfm_git/ejecuciones\n",
      "20231027T234645 : amilcar22 : INFO : Encontrada carpeta MET_DIR=../tfm_git/ejecuciones/metricas\n",
      "20231027T234645 : amilcar22 : INFO : Inicio leer fichero h5 ../tfm_git/datos/h5/rows_transpose_norm_by_gene_id_with_target_num_mul_s.h5\n",
      "20231027T234645 : amilcar22 : INFO : Leyendo clave /df\n",
      "20231027T234645 : amilcar22 : INFO : Tamaño (259, 18876)\n",
      "20231027T234645 : amilcar22 : INFO : Fin leer fichero h5 ../tfm_git/datos/h5/rows_transpose_norm_by_gene_id_with_target_num_mul_s.h5\n"
     ]
    },
    {
     "data": {
      "text/plain": [
       "target\n",
       "0    37\n",
       "1    37\n",
       "2    37\n",
       "3    37\n",
       "4    37\n",
       "5    37\n",
       "6    37\n",
       "dtype: int64"
      ]
     },
     "metadata": {},
     "output_type": "display_data"
    },
    {
     "name": "stdout",
     "output_type": "stream",
     "text": [
      "Shape df: (259, 18876)\n"
     ]
    },
    {
     "name": "stdout",
     "output_type": "stream",
     "text": [
      "Shape X_train: (207, 18875)\n",
      "Shape X_test: (52, 18875)\n"
     ]
    }
   ],
   "source": [
    "start_time = datetime.datetime.now()\n",
    "\n",
    "myfunc.reset_vars()\n",
    "\n",
    "myfunc.NOTEBK_FILENAME = myfunc.get_nb_name()\n",
    "\n",
    "myfunc.check_enviroment(myfunc.DATA_DIR, myfunc.CFDNA_DIR, myfunc.GENCODE_DIR, myfunc.H5_DIR, myfunc.LOG_DIR, myfunc.CSV_DIR, myfunc.MODEL_DIR, myfunc.EXEC_DIR, myfunc.MET_DIR)\n",
    "\n",
    "# Leer fichero con las muestras\n",
    "df_t = myfunc.read_h5_to_df(DATA_FILE, myfunc.H5_DIR)\n",
    "display(df_t.groupby(\"target\").size())\n",
    "print(\"Shape df:\",df_t.shape)\n",
    "\n",
    "# Separar caracteristicas/genes de las etiquetas/tipos de cáncer\n",
    "X = df_t.iloc[:, :-1]  # Todas las columnas excepto la última\n",
    "y = df_t.iloc[:, -1]  # La última columna contiene los identificadores de los tipos de cáncer\n",
    "\n",
    "#  Crear el conjunto de datos de entrenamiento y de pruebas\n",
    "X_train, X_test, y_train, y_test = train_test_split(X, y, test_size=0.2, shuffle=True, random_state=SEMILLA)\n",
    "print(\"Shape X_train:\",X_train.shape)\n",
    "print(\"Shape X_test:\",X_test.shape)\n"
   ]
  },
  {
   "cell_type": "markdown",
   "id": "47b1b2f7",
   "metadata": {
    "papermill": {
     "duration": 0.002758,
     "end_time": "2023-10-27T21:46:45.710933",
     "exception": false,
     "start_time": "2023-10-27T21:46:45.708175",
     "status": "completed"
    },
    "tags": []
   },
   "source": [
    "#### Selección de características y clasificación."
   ]
  },
  {
   "cell_type": "code",
   "execution_count": 7,
   "id": "e568b51c",
   "metadata": {
    "execution": {
     "iopub.execute_input": "2023-10-27T21:46:45.717498Z",
     "iopub.status.busy": "2023-10-27T21:46:45.717323Z",
     "iopub.status.idle": "2023-10-27T22:06:18.085958Z",
     "shell.execute_reply": "2023-10-27T22:06:18.085290Z"
    },
    "papermill": {
     "duration": 1172.376266,
     "end_time": "2023-10-27T22:06:18.090058",
     "exception": false,
     "start_time": "2023-10-27T21:46:45.713792",
     "status": "completed"
    },
    "tags": []
   },
   "outputs": [
    {
     "name": "stdout",
     "output_type": "stream",
     "text": [
      "20231027T234645 : amilcar22 : INFO : Iniciando entrenamiento\n",
      "num_iter: 1 , max_iter: 1\n"
     ]
    },
    {
     "name": "stdout",
     "output_type": "stream",
     "text": [
      "Fitting 5 folds for each of 1 candidates, totalling 5 fits\n"
     ]
    },
    {
     "name": "stderr",
     "output_type": "stream",
     "text": [
      "/home/antonio/miniconda3/lib/python3.10/site-packages/sklearn/feature_selection/_univariate_selection.py:112: UserWarning: Features [  298  1508  1733  1846  2010  2222  2265  2266  2553  2688  2802  2803\n",
      "  2833  2896  3248  3415  3492  4075  5803  6053  6981  6984  7416  7418\n",
      "  8508  8510  8513  8890  9087  9490 10035 10475 11020 11613 11943 12249\n",
      " 12480 12831 12888 12940 13235 13259 13836 13959 14000 14015 14244 14245\n",
      " 14451 14789 14794 14795 14924 14941 15071 15401 15515 15516 15563 15824\n",
      " 15874 16235 16244 16245 16258 16262 16267 16268 16281 16287 16294 16312\n",
      " 16313 16323 16339 16350 16372 16630 16701 16731 16870 16905 16906 16968\n",
      " 17047 17091 17093 17231 17264 17274 17300 17312 17418 17520 17540 17741\n",
      " 18350 18368 18374 18375 18405 18486 18546 18592 18692 18698 18868] are constant.\n",
      "  warnings.warn(\"Features %s are constant.\" % constant_features_idx, UserWarning)\n",
      "/home/antonio/miniconda3/lib/python3.10/site-packages/sklearn/feature_selection/_univariate_selection.py:113: RuntimeWarning: invalid value encountered in divide\n",
      "  f = msb / msw\n",
      "/home/antonio/miniconda3/lib/python3.10/site-packages/sklearn/feature_selection/_univariate_selection.py:112: UserWarning: Features [  298  1508  1733  1846  2010  2222  2265  2266  2553  2688  2802  2803\n",
      "  2833  2896  2957  3248  3415  3492  3804  4075  5490  5803  6053  6981\n",
      "  6984  7418  8314  8508  8510  8511  8512  8513  8890  9087  9490 10475\n",
      " 10477 11020 11613 11943 12249 12480 12831 13235 13259 13300 13522 13836\n",
      " 13841 13959 14000 14015 14244 14245 14451 14559 14789 14795 14941 15153\n",
      " 15183 15515 15563 15824 15874 16258 16267 16268 16276 16277 16281 16287\n",
      " 16313 16318 16322 16323 16349 16350 16372 16630 16667 16679 16701 16905\n",
      " 16906 16968 17047 17091 17093 17231 17264 17273 17274 17300 17312 17540\n",
      " 17963 18153 18350 18368 18374 18375 18405 18421 18486 18592 18692 18868] are constant.\n",
      "  warnings.warn(\"Features %s are constant.\" % constant_features_idx, UserWarning)\n",
      "/home/antonio/miniconda3/lib/python3.10/site-packages/sklearn/feature_selection/_univariate_selection.py:113: RuntimeWarning: invalid value encountered in divide\n",
      "  f = msb / msw\n",
      "/home/antonio/miniconda3/lib/python3.10/site-packages/sklearn/feature_selection/_univariate_selection.py:112: UserWarning: Features [  298  1017  1508  1733  1846  2010  2222  2265  2266  2553  2688  2802\n",
      "  2803  2833  2896  3248  3415  3492  4075  5405  5668  5803  6053  6981\n",
      "  6984  6988  7418  8508  8510  8513  8791  8890  9087  9090  9490 10475\n",
      " 11020 11613 11943 12249 12433 12480 12489 12831 13047 13225 13235 13259\n",
      " 13577 13836 13860 13959 14000 14015 14244 14245 14451 14789 14795 14941\n",
      " 15515 15563 15824 15874 16018 16205 16229 16237 16258 16267 16268 16278\n",
      " 16279 16281 16287 16313 16323 16350 16372 16373 16520 16630 16701 16704\n",
      " 16819 16905 16906 16968 17047 17091 17093 17120 17231 17264 17274 17300\n",
      " 17312 17478 17540 17679 18350 18368 18374 18375 18405 18486 18530 18592\n",
      " 18692 18868] are constant.\n",
      "  warnings.warn(\"Features %s are constant.\" % constant_features_idx, UserWarning)\n",
      "/home/antonio/miniconda3/lib/python3.10/site-packages/sklearn/feature_selection/_univariate_selection.py:113: RuntimeWarning: invalid value encountered in divide\n",
      "  f = msb / msw\n"
     ]
    },
    {
     "name": "stderr",
     "output_type": "stream",
     "text": [
      "/home/antonio/miniconda3/lib/python3.10/site-packages/sklearn/feature_selection/_univariate_selection.py:112: UserWarning: Features [  298  1508  1733  1846  2010  2222  2265  2266  2553  2688  2725  2802\n",
      "  2803  2833  2896  3248  3415  3492  4075  5803  6053  6981  6984  7418\n",
      "  8508  8510  8513  8890  9087  9490 10475 11020 11022 11562 11565 11613\n",
      " 11943 12249 12307 12480 12518 12831 13235 13259 13836 13848 13959 14000\n",
      " 14015 14244 14245 14451 14789 14795 14941 15515 15563 15785 15824 15874\n",
      " 15881 16258 16267 16268 16281 16287 16313 16323 16330 16347 16350 16372\n",
      " 16565 16630 16701 16905 16906 16956 16968 17024 17047 17055 17075 17091\n",
      " 17093 17231 17264 17274 17300 17312 17540 17948 18245 18288 18350 18368\n",
      " 18374 18375 18405 18486 18592 18608 18679 18692 18868] are constant.\n",
      "  warnings.warn(\"Features %s are constant.\" % constant_features_idx, UserWarning)\n",
      "/home/antonio/miniconda3/lib/python3.10/site-packages/sklearn/feature_selection/_univariate_selection.py:113: RuntimeWarning: invalid value encountered in divide\n",
      "  f = msb / msw\n",
      "/home/antonio/miniconda3/lib/python3.10/site-packages/sklearn/feature_selection/_univariate_selection.py:112: UserWarning: Features [  298  1085  1508  1733  1846  2006  2010  2222  2265  2266  2553  2555\n",
      "  2688  2802  2803  2833  2896  3248  3415  3492  4075  4306  5533  5803\n",
      "  6053  6981  6984  7418  8508  8510  8513  8890  9087  9490 10475 11020\n",
      " 11613 11943 11996 12249 12480 12831 12973 13235 13259 13836 13959 14000\n",
      " 14015 14244 14245 14451 14735 14789 14795 14941 15397 15515 15563 15824\n",
      " 15874 16258 16260 16267 16268 16281 16287 16309 16313 16323 16350 16372\n",
      " 16630 16701 16905 16906 16968 17047 17091 17093 17231 17264 17274 17300\n",
      " 17312 17540 17566 18350 18368 18374 18375 18405 18486 18592 18692 18868] are constant.\n",
      "  warnings.warn(\"Features %s are constant.\" % constant_features_idx, UserWarning)\n",
      "/home/antonio/miniconda3/lib/python3.10/site-packages/sklearn/feature_selection/_univariate_selection.py:113: RuntimeWarning: invalid value encountered in divide\n",
      "  f = msb / msw\n"
     ]
    },
    {
     "name": "stderr",
     "output_type": "stream",
     "text": [
      "/home/antonio/miniconda3/lib/python3.10/site-packages/sklearn/feature_selection/_univariate_selection.py:112: UserWarning: Features [  298  1508  1733  1846  2010  2222  2265  2266  2553  2688  2802  2803\n",
      "  2833  2896  3248  3415  3492  4075  5803  6053  6981  6984  7418  8508\n",
      "  8510  8513  8890  9087  9490 10475 11020 11613 11943 12249 12480 12831\n",
      " 13235 13259 13836 13959 14000 14015 14244 14245 14451 14789 14795 14941\n",
      " 15515 15563 15824 15874 16258 16267 16268 16281 16287 16313 16323 16350\n",
      " 16372 16630 16701 16905 16906 16968 17047 17091 17093 17231 17264 17274\n",
      " 17300 17312 17540 18350 18368 18374 18375 18405 18486 18592 18692 18868] are constant.\n",
      "  warnings.warn(\"Features %s are constant.\" % constant_features_idx, UserWarning)\n",
      "/home/antonio/miniconda3/lib/python3.10/site-packages/sklearn/feature_selection/_univariate_selection.py:113: RuntimeWarning: invalid value encountered in divide\n",
      "  f = msb / msw\n"
     ]
    },
    {
     "name": "stdout",
     "output_type": "stream",
     "text": [
      "[CV 3/5] END clasifier__max_iter=10000, clasifier__penalty=l1, clasifier__solver=saga, selector__k=1000;, score=0.805 total time= 7.0min\n"
     ]
    },
    {
     "name": "stdout",
     "output_type": "stream",
     "text": [
      "[CV 1/5] END clasifier__max_iter=10000, clasifier__penalty=l1, clasifier__solver=saga, selector__k=1000;, score=0.880 total time= 7.1min\n"
     ]
    },
    {
     "name": "stdout",
     "output_type": "stream",
     "text": [
      "[CV 2/5] END clasifier__max_iter=10000, clasifier__penalty=l1, clasifier__solver=saga, selector__k=1000;, score=0.811 total time= 7.3min\n"
     ]
    },
    {
     "name": "stdout",
     "output_type": "stream",
     "text": [
      "[CV 4/5] END clasifier__max_iter=10000, clasifier__penalty=l1, clasifier__solver=saga, selector__k=1000;, score=0.755 total time= 8.7min\n"
     ]
    },
    {
     "name": "stdout",
     "output_type": "stream",
     "text": [
      "[CV 5/5] END clasifier__max_iter=10000, clasifier__penalty=l1, clasifier__solver=saga, selector__k=1000;, score=0.741 total time=10.0min\n"
     ]
    },
    {
     "name": "stdout",
     "output_type": "stream",
     "text": [
      "Mejores Hiperparámetros: {'selector__k': 1000, 'clasifier__solver': 'saga', 'clasifier__penalty': 'l1', 'clasifier__max_iter': 10000}\n",
      "Mejor Puntuación: 0.7983\n",
      "20231028T000618 : amilcar22 : INFO : Fin entrenamiento\n"
     ]
    }
   ],
   "source": [
    "myfunc.verbose(\"Iniciando entrenamiento\")\n",
    "\n",
    "kf = KFold(n_splits=5, shuffle=True, random_state=SEMILLA)\n",
    "\n",
    "# Crear el pipeline para el flujo de tareas\n",
    "tasks_pipeline = Pipeline([\n",
    "    ('selector', algor_selector),\n",
    "    ('clasifier', algor_clasifier)\n",
    "])\n",
    "\n",
    "# MAX_ITERS puede limitar el número de iteraciones si son excesivas para las combinaciones de parámetros buscando un óptimo local, \n",
    "# sino funcionaría como GridSearchCV al revisar todas las cominaciones de los parámetros\n",
    "num_iteraciones = 1\n",
    "num_iteraciones = num_iteraciones * np.prod([len(elemento1) for _, elemento1 in param_distributions.items()])\n",
    "max_iteraciones = num_iteraciones if num_iteraciones <= MAX_ITERS else MAX_ITERS\n",
    "print(\"num_iter:\",num_iteraciones,\", max_iter:\",max_iteraciones)\n",
    "\n",
    "random_search = RandomizedSearchCV(\n",
    "    tasks_pipeline, \n",
    "    param_distributions, \n",
    "    n_iter=max_iteraciones,\n",
    "    scoring=SCORING,\n",
    "    cv=kf,\n",
    "    verbose=3, \n",
    "    random_state=SEMILLA, \n",
    "    n_jobs=-1\n",
    "    )\n",
    "\n",
    "# Entrenar el modelo\n",
    "random_search.fit(X_train, y_train)\n",
    "\n",
    "# Ver los mejores hiperparámetros encontrados\n",
    "print(f'Mejores Hiperparámetros: {random_search.best_params_}')\n",
    "print(f'Mejor Puntuación: {random_search.best_score_:.4f}')\n",
    "\n",
    "# Nos quedamos con el mejor modelo para ver las métricas\n",
    "mejor_modelo = random_search.best_estimator_\n",
    "\n",
    "myfunc.verbose(\"Fin entrenamiento\")"
   ]
  },
  {
   "cell_type": "markdown",
   "id": "46b3be61",
   "metadata": {
    "papermill": {
     "duration": 0.003281,
     "end_time": "2023-10-27T22:06:18.096815",
     "exception": false,
     "start_time": "2023-10-27T22:06:18.093534",
     "status": "completed"
    },
    "tags": []
   },
   "source": [
    "#### Guardar modelo"
   ]
  },
  {
   "cell_type": "code",
   "execution_count": 8,
   "id": "5514ed53",
   "metadata": {
    "execution": {
     "iopub.execute_input": "2023-10-27T22:06:18.104314Z",
     "iopub.status.busy": "2023-10-27T22:06:18.104096Z",
     "iopub.status.idle": "2023-10-27T22:06:18.114432Z",
     "shell.execute_reply": "2023-10-27T22:06:18.113939Z"
    },
    "papermill": {
     "duration": 0.01571,
     "end_time": "2023-10-27T22:06:18.115709",
     "exception": false,
     "start_time": "2023-10-27T22:06:18.099999",
     "status": "completed"
    },
    "tags": []
   },
   "outputs": [
    {
     "name": "stdout",
     "output_type": "stream",
     "text": [
      "20231028T000618 : amilcar22 : INFO : Inicio guardar fichero ../tfm_git/ejecuciones/modelos/modelo_0042_mul_s_ANOVA_LR_L1.pkl\n",
      "20231028T000618 : amilcar22 : INFO : Fin guardar fichero ../tfm_git/ejecuciones/modelos/modelo_0042_mul_s_ANOVA_LR_L1.pkl\n"
     ]
    }
   ],
   "source": [
    "fichero_modelo = str.replace(\"modelo_\"+str(SEMILLA).zfill(4)+\"_\"+M_TIPO+\"_\"+M_SELECT+\"_\"+M_CLASIF+\".pkl\", \" \", \"_\")\n",
    "\n",
    "myfunc.save_modelo(mejor_modelo, myfunc.MODEL_DIR, fichero_modelo)"
   ]
  },
  {
   "cell_type": "markdown",
   "id": "2555df83",
   "metadata": {
    "papermill": {
     "duration": 0.003386,
     "end_time": "2023-10-27T22:06:18.122810",
     "exception": false,
     "start_time": "2023-10-27T22:06:18.119424",
     "status": "completed"
    },
    "tags": []
   },
   "source": [
    "#### Ver resultados del las iteraciones hechas por RandomSearchCV"
   ]
  },
  {
   "cell_type": "code",
   "execution_count": 9,
   "id": "3866d343",
   "metadata": {
    "execution": {
     "iopub.execute_input": "2023-10-27T22:06:18.130354Z",
     "iopub.status.busy": "2023-10-27T22:06:18.130159Z",
     "iopub.status.idle": "2023-10-27T22:06:18.136633Z",
     "shell.execute_reply": "2023-10-27T22:06:18.136053Z"
    },
    "papermill": {
     "duration": 0.011675,
     "end_time": "2023-10-27T22:06:18.137807",
     "exception": false,
     "start_time": "2023-10-27T22:06:18.126132",
     "status": "completed"
    },
    "tags": []
   },
   "outputs": [
    {
     "name": "stdout",
     "output_type": "stream",
     "text": [
      "20231028T000618 : amilcar22 : INFO : Inicio ver resultados\n",
      "Mejores Hiperparámetros: {'selector__k': 1000, 'clasifier__solver': 'saga', 'clasifier__penalty': 'l1', 'clasifier__max_iter': 10000}\n",
      "Mejores puntuaciones: 0.7983 | Params: {'selector__k': 1000, 'clasifier__solver': 'saga', 'clasifier__penalty': 'l1', 'clasifier__max_iter': 10000}\n",
      "Media de las puntuaciones: 0.7983 | Params: {'selector__k': 1000, 'clasifier__solver': 'saga', 'clasifier__penalty': 'l1', 'clasifier__max_iter': 10000}\n",
      "20231028T000618 : amilcar22 : INFO : Fin resultados\n"
     ]
    }
   ],
   "source": [
    "myfunc.ver_resultados_search(random_search)"
   ]
  },
  {
   "cell_type": "markdown",
   "id": "2b39417e",
   "metadata": {
    "papermill": {
     "duration": 0.003442,
     "end_time": "2023-10-27T22:06:18.144713",
     "exception": false,
     "start_time": "2023-10-27T22:06:18.141271",
     "status": "completed"
    },
    "tags": []
   },
   "source": [
    "#### Ver métricas del mejor modelo"
   ]
  },
  {
   "cell_type": "code",
   "execution_count": 10,
   "id": "8f712504",
   "metadata": {
    "execution": {
     "iopub.execute_input": "2023-10-27T22:06:18.152731Z",
     "iopub.status.busy": "2023-10-27T22:06:18.152530Z",
     "iopub.status.idle": "2023-10-27T22:06:18.753577Z",
     "shell.execute_reply": "2023-10-27T22:06:18.753048Z"
    },
    "papermill": {
     "duration": 0.606289,
     "end_time": "2023-10-27T22:06:18.754869",
     "exception": false,
     "start_time": "2023-10-27T22:06:18.148580",
     "status": "completed"
    },
    "tags": []
   },
   "outputs": [
    {
     "name": "stdout",
     "output_type": "stream",
     "text": [
      "20231028T000618 : amilcar22 : INFO : Inicio ver métricas multiclase\n"
     ]
    },
    {
     "name": "stdout",
     "output_type": "stream",
     "text": [
      "              precision    recall  f1-score   support\n",
      "\n",
      "           0       0.56      0.45      0.50        11\n",
      "           1       0.60      0.38      0.46         8\n",
      "           2       0.17      0.12      0.14         8\n",
      "           3       0.00      0.00      0.00         5\n",
      "           4       0.80      1.00      0.89         8\n",
      "           5       0.43      0.50      0.46         6\n",
      "           6       0.45      0.83      0.59         6\n",
      "\n",
      "    accuracy                           0.48        52\n",
      "   macro avg       0.43      0.47      0.43        52\n",
      "weighted avg       0.46      0.48      0.46        52\n",
      "\n",
      "\n",
      "\n",
      "           Exactitud: 0.480769\n",
      "   Precisión (media): 0.429334\n",
      "      Recall (media): 0.469697\n",
      "    F1-score (media): 0.434723\n",
      "\n",
      "\n",
      "AUC para el tipo de cáncer 0-Control.... 0.6053\n",
      "AUC para el tipo de cáncer 1-Bladder.... 0.8608\n",
      "AUC para el tipo de cáncer 2-Breast..... 0.7216\n",
      "AUC para el tipo de cáncer 3-Colorectal. 0.6638\n",
      "AUC para el tipo de cáncer 4-Kidney..... 0.9545\n",
      "AUC para el tipo de cáncer 5-Lung....... 0.8841\n",
      "AUC para el tipo de cáncer 6-Prostate... 0.9674\n",
      "\n",
      "Media de AUC: 0.8082\n"
     ]
    },
    {
     "data": {
      "image/png": "[encoded data removed]",
      "text/plain": [
       "<Figure size 1000x600 with 1 Axes>"
      ]
     },
     "metadata": {},
     "output_type": "display_data"
    },
    {
     "name": "stdout",
     "output_type": "stream",
     "text": [
      "\n",
      "\n"
     ]
    },
    {
     "data": {
      "image/png": "[encoded data removed]",
      "text/plain": [
       "<Figure size 800x400 with 2 Axes>"
      ]
     },
     "metadata": {},
     "output_type": "display_data"
    },
    {
     "name": "stdout",
     "output_type": "stream",
     "text": [
      "\n",
      "\n",
      "Puntuación Jaccard para el cáncer tipo 0-Control.... 0.3333\n",
      "Puntuación Jaccard para el cáncer tipo 1-Bladder.... 0.3000\n",
      "Puntuación Jaccard para el cáncer tipo 2-Breast..... 0.0769\n",
      "Puntuación Jaccard para el cáncer tipo 3-Colorectal. 0.0000\n",
      "Puntuación Jaccard para el cáncer tipo 4-Kidney..... 0.8000\n",
      "Puntuación Jaccard para el cáncer tipo 5-Lung....... 0.3000\n",
      "Puntuación Jaccard para el cáncer tipo 6-Prostate... 0.4167\n",
      "\n",
      "Media de la puntuación de Jaccard: 0.3181\n"
     ]
    }
   ],
   "source": [
    "if M_TIPO.startswith(\"bin\"):\n",
    "    myfunc.ver_metricas(mejor_modelo, X_test, y_test)\n",
    "else:\n",
    "    myfunc.ver_metricas_multi(mejor_modelo, X_test, y_test)\n"
   ]
  },
  {
   "cell_type": "markdown",
   "id": "2d2f82e1",
   "metadata": {
    "papermill": {
     "duration": 0.004376,
     "end_time": "2023-10-27T22:06:18.764530",
     "exception": false,
     "start_time": "2023-10-27T22:06:18.760154",
     "status": "completed"
    },
    "tags": []
   },
   "source": [
    "#### Finalización del notebook"
   ]
  },
  {
   "cell_type": "code",
   "execution_count": 11,
   "id": "eda883b8",
   "metadata": {
    "execution": {
     "iopub.execute_input": "2023-10-27T22:06:18.774155Z",
     "iopub.status.busy": "2023-10-27T22:06:18.773951Z",
     "iopub.status.idle": "2023-10-27T22:06:18.777695Z",
     "shell.execute_reply": "2023-10-27T22:06:18.777228Z"
    },
    "papermill": {
     "duration": 0.009795,
     "end_time": "2023-10-27T22:06:18.778755",
     "exception": false,
     "start_time": "2023-10-27T22:06:18.768960",
     "status": "completed"
    },
    "tags": []
   },
   "outputs": [
    {
     "name": "stdout",
     "output_type": "stream",
     "text": [
      "20231028T000618 : amilcar22 : INFO : Notebook ha tardado 1173 seconds\n"
     ]
    }
   ],
   "source": [
    "end_time = datetime.datetime.now()\n",
    "total_time = end_time - start_time\n",
    "myfunc.verbose(f\"Notebook ha tardado {total_time.seconds} seconds\")"
   ]
  },
  {
   "cell_type": "markdown",
   "id": "320a1df1",
   "metadata": {
    "papermill": {
     "duration": 0.004416,
     "end_time": "2023-10-27T22:06:18.787672",
     "exception": false,
     "start_time": "2023-10-27T22:06:18.783256",
     "status": "completed"
    },
    "tags": []
   },
   "source": [
    "#### Guardar métricas"
   ]
  },
  {
   "cell_type": "code",
   "execution_count": 12,
   "id": "3510f275",
   "metadata": {
    "execution": {
     "iopub.execute_input": "2023-10-27T22:06:18.797444Z",
     "iopub.status.busy": "2023-10-27T22:06:18.797262Z",
     "iopub.status.idle": "2023-10-27T22:06:19.002691Z",
     "shell.execute_reply": "2023-10-27T22:06:19.002187Z"
    },
    "papermill": {
     "duration": 0.211635,
     "end_time": "2023-10-27T22:06:19.003910",
     "exception": false,
     "start_time": "2023-10-27T22:06:18.792275",
     "status": "completed"
    },
    "tags": []
   },
   "outputs": [
    {
     "name": "stdout",
     "output_type": "stream",
     "text": [
      "20231028T000618 : amilcar22 : INFO : Inicio guardar métricas multiclase\n",
      "20231028T000618 : amilcar22 : INFO : Inicio leer fichero ../tfm_git/ejecuciones/metricas/metricas_0042.csv\n",
      "20231028T000618 : amilcar22 : INFO : Fin leer fichero ../tfm_git/ejecuciones/metricas/metricas_0042.csv\n"
     ]
    },
    {
     "name": "stdout",
     "output_type": "stream",
     "text": [
      "20231028T000618 : amilcar22 : INFO : Inicio guardar fichero ../tfm_git/ejecuciones/metricas/metricas_0042.csv\n",
      "20231028T000618 : amilcar22 : INFO : Fichero borrado ../tfm_git/ejecuciones/metricas/metricas_0042.csv\n"
     ]
    },
    {
     "name": "stdout",
     "output_type": "stream",
     "text": [
      "20231028T000618 : amilcar22 : INFO : Fin guardar fichero ../tfm_git/ejecuciones/metricas/metricas_0042.csv\n",
      "20231028T000618 : amilcar22 : INFO : Fin guardar métricas multiclase\n",
      "20231028T000618 : amilcar22 : INFO : Inicio leer fichero ../tfm_git/ejecuciones/metricas/metricas_0042.csv\n",
      "20231028T000618 : amilcar22 : INFO : Fin leer fichero ../tfm_git/ejecuciones/metricas/metricas_0042.csv\n"
     ]
    },
    {
     "data": {
      "text/html": [
       "<div>\n",
       "<style scoped>\n",
       "    .dataframe tbody tr th:only-of-type {\n",
       "        vertical-align: middle;\n",
       "    }\n",
       "\n",
       "    .dataframe tbody tr th {\n",
       "        vertical-align: top;\n",
       "    }\n",
       "\n",
       "    .dataframe thead th {\n",
       "        text-align: right;\n",
       "    }\n",
       "</style>\n",
       "<table border=\"1\" class=\"dataframe\">\n",
       "  <thead>\n",
       "    <tr style=\"text-align: right;\">\n",
       "      <th></th>\n",
       "      <th>tipo</th>\n",
       "      <th>select</th>\n",
       "      <th>clasific</th>\n",
       "      <th>accuracy</th>\n",
       "      <th>precision</th>\n",
       "      <th>recall</th>\n",
       "      <th>f1_score</th>\n",
       "      <th>roc_auc</th>\n",
       "      <th>roc_auc_ovr</th>\n",
       "      <th>hostname</th>\n",
       "      <th>total_time_sec</th>\n",
       "      <th>datetime</th>\n",
       "      <th>fichero_modelo</th>\n",
       "      <th>params</th>\n",
       "      <th>shape</th>\n",
       "      <th>features</th>\n",
       "      <th>semilla</th>\n",
       "      <th>indices_auc</th>\n",
       "      <th>indices_jaccard</th>\n",
       "    </tr>\n",
       "  </thead>\n",
       "  <tbody>\n",
       "    <tr>\n",
       "      <th>0</th>\n",
       "      <td>mul_s</td>\n",
       "      <td>ANOVA</td>\n",
       "      <td>LR_L1</td>\n",
       "      <td>0.480769</td>\n",
       "      <td>0.429334</td>\n",
       "      <td>0.469697</td>\n",
       "      <td>0.434723</td>\n",
       "      <td>NaN</td>\n",
       "      <td>0.808219</td>\n",
       "      <td>amilcar22</td>\n",
       "      <td>1173</td>\n",
       "      <td>2023-10-28 00:06:18.953573</td>\n",
       "      <td>modelo_0042_mul_s_ANOVA_LR_L1.pkl</td>\n",
       "      <td>{'selector__k': 1000, 'clasifier__solver': 'sa...</td>\n",
       "      <td>X_test:(52, 18875)</td>\n",
       "      <td>['ENSG00000000938.13', 'ENSG00000002834.19', '...</td>\n",
       "      <td>42.0</td>\n",
       "      <td>[0.6053215077605322, 0.8607954545454545, 0.721...</td>\n",
       "      <td>[0.3333333333333333, 0.3, 0.07692307692307693,...</td>\n",
       "    </tr>\n",
       "    <tr>\n",
       "      <th>0</th>\n",
       "      <td>mul_s</td>\n",
       "      <td>ANOVA</td>\n",
       "      <td>LR_EN</td>\n",
       "      <td>0.557692</td>\n",
       "      <td>0.546429</td>\n",
       "      <td>0.573268</td>\n",
       "      <td>0.538235</td>\n",
       "      <td>NaN</td>\n",
       "      <td>0.836073</td>\n",
       "      <td>amilcar22</td>\n",
       "      <td>1039</td>\n",
       "      <td>2023-10-27 23:46:39.462189</td>\n",
       "      <td>modelo_0042_mul_s_ANOVA_LR_EN.pkl</td>\n",
       "      <td>{'selector__k': 1000, 'clasifier__solver': 'sa...</td>\n",
       "      <td>X_test:(52, 18875)</td>\n",
       "      <td>['ENSG00000000938.13', 'ENSG00000002834.19', '...</td>\n",
       "      <td>42.0</td>\n",
       "      <td>[0.6319290465631928, 0.8948863636363635, 0.732...</td>\n",
       "      <td>[0.3125, 0.3333333333333333, 0.181818181818181...</td>\n",
       "    </tr>\n",
       "    <tr>\n",
       "      <th>0</th>\n",
       "      <td>mul_m</td>\n",
       "      <td>RF</td>\n",
       "      <td>SVM</td>\n",
       "      <td>0.471264</td>\n",
       "      <td>0.441657</td>\n",
       "      <td>0.513291</td>\n",
       "      <td>0.457855</td>\n",
       "      <td>NaN</td>\n",
       "      <td>0.826146</td>\n",
       "      <td>amilcar22</td>\n",
       "      <td>19</td>\n",
       "      <td>2023-10-27 23:29:13.717425</td>\n",
       "      <td>modelo_0042_mul_m_RF_SVM.pkl</td>\n",
       "      <td>{'selector__max_features': 200, 'selector__est...</td>\n",
       "      <td>X_test:(87, 18875)</td>\n",
       "      <td>['ENSG00000011465.18', 'ENSG00000011600.12', '...</td>\n",
       "      <td>42.0</td>\n",
       "      <td>[0.6443661971830985, 0.912962962962963, 0.6710...</td>\n",
       "      <td>[0.043478260869565216, 0.5, 0.1176470588235294...</td>\n",
       "    </tr>\n",
       "  </tbody>\n",
       "</table>\n",
       "</div>"
      ],
      "text/plain": [
       "    tipo select clasific  accuracy  precision    recall  f1_score  roc_auc  \\\n",
       "0  mul_s  ANOVA    LR_L1  0.480769   0.429334  0.469697  0.434723      NaN   \n",
       "0  mul_s  ANOVA    LR_EN  0.557692   0.546429  0.573268  0.538235      NaN   \n",
       "0  mul_m     RF      SVM  0.471264   0.441657  0.513291  0.457855      NaN   \n",
       "\n",
       "   roc_auc_ovr   hostname  total_time_sec                    datetime  \\\n",
       "0     0.808219  amilcar22            1173  2023-10-28 00:06:18.953573   \n",
       "0     0.836073  amilcar22            1039  2023-10-27 23:46:39.462189   \n",
       "0     0.826146  amilcar22              19  2023-10-27 23:29:13.717425   \n",
       "\n",
       "                      fichero_modelo  \\\n",
       "0  modelo_0042_mul_s_ANOVA_LR_L1.pkl   \n",
       "0  modelo_0042_mul_s_ANOVA_LR_EN.pkl   \n",
       "0       modelo_0042_mul_m_RF_SVM.pkl   \n",
       "\n",
       "                                              params               shape  \\\n",
       "0  {'selector__k': 1000, 'clasifier__solver': 'sa...  X_test:(52, 18875)   \n",
       "0  {'selector__k': 1000, 'clasifier__solver': 'sa...  X_test:(52, 18875)   \n",
       "0  {'selector__max_features': 200, 'selector__est...  X_test:(87, 18875)   \n",
       "\n",
       "                                            features  semilla  \\\n",
       "0  ['ENSG00000000938.13', 'ENSG00000002834.19', '...     42.0   \n",
       "0  ['ENSG00000000938.13', 'ENSG00000002834.19', '...     42.0   \n",
       "0  ['ENSG00000011465.18', 'ENSG00000011600.12', '...     42.0   \n",
       "\n",
       "                                         indices_auc  \\\n",
       "0  [0.6053215077605322, 0.8607954545454545, 0.721...   \n",
       "0  [0.6319290465631928, 0.8948863636363635, 0.732...   \n",
       "0  [0.6443661971830985, 0.912962962962963, 0.6710...   \n",
       "\n",
       "                                     indices_jaccard  \n",
       "0  [0.3333333333333333, 0.3, 0.07692307692307693,...  \n",
       "0  [0.3125, 0.3333333333333333, 0.181818181818181...  \n",
       "0  [0.043478260869565216, 0.5, 0.1176470588235294...  "
      ]
     },
     "metadata": {},
     "output_type": "display_data"
    }
   ],
   "source": [
    "if M_TIPO.startswith(\"bin\"):\n",
    "    myfunc.save_metricas_to_csv(random_search, X_test, y_test, M_TIPO, M_SELECT, M_CLASIF, total_time, SEMILLA, myfunc.MET_DIR, M_FICHERO, fichero_modelo)\n",
    "else:\n",
    "    myfunc.save_metricas_multi_to_csv(random_search, X_test, y_test, M_TIPO, M_SELECT, M_CLASIF, total_time, SEMILLA, myfunc.MET_DIR, M_FICHERO, fichero_modelo)\n",
    "\n",
    "df1=myfunc.read_metricas_to_df(myfunc.MET_DIR,M_FICHERO)\n",
    "\n",
    "display(df1.sort_values(\"datetime\", ascending=False)[:3])\n"
   ]
  },
  {
   "cell_type": "markdown",
   "id": "1bc1d3c2",
   "metadata": {
    "papermill": {
     "duration": 0.004902,
     "end_time": "2023-10-27T22:06:19.014309",
     "exception": false,
     "start_time": "2023-10-27T22:06:19.009407",
     "status": "completed"
    },
    "tags": []
   },
   "source": [
    "#### Guardar resultados"
   ]
  },
  {
   "cell_type": "code",
   "execution_count": 13,
   "id": "91911a26",
   "metadata": {
    "execution": {
     "iopub.execute_input": "2023-10-27T22:06:19.024592Z",
     "iopub.status.busy": "2023-10-27T22:06:19.024387Z",
     "iopub.status.idle": "2023-10-27T22:06:19.032756Z",
     "shell.execute_reply": "2023-10-27T22:06:19.032267Z"
    },
    "papermill": {
     "duration": 0.014828,
     "end_time": "2023-10-27T22:06:19.033899",
     "exception": false,
     "start_time": "2023-10-27T22:06:19.019071",
     "status": "completed"
    },
    "tags": []
   },
   "outputs": [
    {
     "name": "stdout",
     "output_type": "stream",
     "text": [
      "20231028T000619 : amilcar22 : INFO : Inicio guardar resultados\n",
      "20231028T000619 : amilcar22 : INFO : Inicio guardar fichero ../tfm_git/ejecuciones/metricas/resultados_0042_mul_s-ANOVA-LR_L1.csv\n",
      "20231028T000619 : amilcar22 : INFO : Fin guardar fichero ../tfm_git/ejecuciones/metricas/resultados_0042_mul_s-ANOVA-LR_L1.csv\n",
      "20231028T000619 : amilcar22 : INFO : Fin guardar resultados\n"
     ]
    }
   ],
   "source": [
    "fichero_resultados=R_FICHERO+\"_\"+M_TIPO+\"-\"+M_SELECT+\"-\"+M_CLASIF+\".csv\"\n",
    "myfunc.save_resultados_to_csv(M_TIPO, M_SELECT, M_CLASIF,  random_search, myfunc.MET_DIR, fichero_resultados)\n"
   ]
  }
 ],
 "metadata": {
  "kernelspec": {
   "display_name": "Python 3 (ipykernel)",
   "language": "python",
   "name": "python3"
  },
  "language_info": {
   "codemirror_mode": {
    "name": "ipython",
    "version": 3
   },
   "file_extension": ".py",
   "mimetype": "text/x-python",
   "name": "python",
   "nbconvert_exporter": "python",
   "pygments_lexer": "ipython3",
   "version": "3.10.12"
  },
  "papermill": {
   "default_parameters": {},
   "duration": 1177.967208,
   "end_time": "2023-10-27T22:06:21.656480",
   "environment_variables": {},
   "exception": null,
   "input_path": "03_entrenamiento.ipynb",
   "output_path": "ejecuciones/training/03_entrenamiento.20231027T234643.param_0000_0042_mul_s_ANOVA_LR_L1.output.ipynb",
   "parameters": {
    "MAX_ITERS": 500,
    "M_CLASIF": "LR_L1",
    "M_FICHERO": "metricas_0042",
    "M_SELECT": "ANOVA",
    "M_TIPO": "mul_s",
    "PRE_DATA_FILE": "rows_transpose_norm_by_gene_id_with_target_num_",
    "P_FICHERO": "param_0000_0042_mul_s_ANOVA_LR_L1.yaml",
    "R_FICHERO": "resultados_0042",
    "SCORING": "roc_auc_ovr",
    "SEMILLA": 42,
    "eval_clasifier": "LogisticRegressionCV(random_state=SEMILLA)",
    "eval_selector": "SelectKBest(score_func=f_classif)",
    "param_distributions": {
     "clasifier__max_iter": [
      10000
     ],
     "clasifier__penalty": [
      "l1"
     ],
     "clasifier__solver": [
      "saga"
     ],
     "selector__k": [
      1000
     ]
    }
   },
   "start_time": "2023-10-27T21:46:43.689272",
   "version": "2.4.0"
  }
 },
 "nbformat": 4,
 "nbformat_minor": 5
}