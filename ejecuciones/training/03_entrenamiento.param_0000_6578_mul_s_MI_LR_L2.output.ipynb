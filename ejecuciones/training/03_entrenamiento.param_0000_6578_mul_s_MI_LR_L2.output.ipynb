{
 "cells": [
  {
   "cell_type": "markdown",
   "id": "7e06fbd6",
   "metadata": {
    "papermill": {
     "duration": 0.009016,
     "end_time": "2023-10-30T18:31:22.018510",
     "exception": false,
     "start_time": "2023-10-30T18:31:22.009494",
     "status": "completed"
    },
    "tags": []
   },
   "source": [
    "##### Inicio"
   ]
  },
  {
   "cell_type": "markdown",
   "id": "92f59cf2",
   "metadata": {
    "papermill": {
     "duration": 0.003007,
     "end_time": "2023-10-30T18:31:22.026035",
     "exception": false,
     "start_time": "2023-10-30T18:31:22.023028",
     "status": "completed"
    },
    "tags": []
   },
   "source": [
    "#### Carga de datos"
   ]
  },
  {
   "cell_type": "code",
   "execution_count": 1,
   "id": "6878e8a6",
   "metadata": {
    "execution": {
     "iopub.execute_input": "2023-10-30T18:31:22.032557Z",
     "iopub.status.busy": "2023-10-30T18:31:22.032557Z",
     "iopub.status.idle": "2023-10-30T18:31:23.255592Z",
     "shell.execute_reply": "2023-10-30T18:31:23.255592Z"
    },
    "papermill": {
     "duration": 1.229559,
     "end_time": "2023-10-30T18:31:23.257605",
     "exception": false,
     "start_time": "2023-10-30T18:31:22.028046",
     "status": "completed"
    },
    "tags": []
   },
   "outputs": [
    {
     "name": "stdout",
     "output_type": "stream",
     "text": [
      "CPU_COUNT: 24; NODE: amilcar32; sys.version: 3.10.12 | packaged by Anaconda, Inc. | (main, Jul  5 2023, 19:09:20) [MSC v.1916 64 bit (AMD64)]\n",
      "LOKY_MAX_CPU_COUNT is not set.\n",
      "OMP_NUM_THREADS is not set.\n"
     ]
    }
   ],
   "source": [
    "import os\n",
    "import numpy as np\n",
    "import pandas as pd\n",
    "import datetime\n",
    "import sklearn\n",
    "import logging\n",
    "import warnings\n",
    "\n",
    "from sklearn.pipeline import Pipeline\n",
    "from sklearn.model_selection import RandomizedSearchCV, KFold, cross_val_score, train_test_split\n",
    "from sklearn.metrics import accuracy_score, confusion_matrix, classification_report, roc_auc_score\n",
    "\n",
    "#  cargar algoritmos para aprendizaje supervisado\n",
    "from sklearn.feature_selection import SelectKBest, f_classif, SelectFromModel, mutual_info_classif\n",
    "from sklearn.svm import SVC\n",
    "from sklearn.ensemble import RandomForestClassifier\n",
    "from sklearn.linear_model import LogisticRegression,LogisticRegressionCV\n",
    "\n",
    "# importar fichero con utilidades propias\n",
    "from commons import myfunctions as myfunc\n"
   ]
  },
  {
   "cell_type": "markdown",
   "id": "47e37175",
   "metadata": {
    "papermill": {
     "duration": 0.002119,
     "end_time": "2023-10-30T18:31:23.263390",
     "exception": false,
     "start_time": "2023-10-30T18:31:23.261271",
     "status": "completed"
    },
    "tags": []
   },
   "source": [
    "#### Parámetros a utilizar en el entrenamiento.\n",
    "\n",
    "Se indican los 3 algoritmos de *selección de características* (eval_selector_xxx) y los 3 algoritmos para la _clasificación_ (eval_clasifier_xxx)\n",
    "\n",
    "En *param_distributions* se indicar los parámetros que utilizan los algoritmos en la función RandomSearchCV.\n",
    "\n",
    "Esta celda tiene la etiqueta **parameters** que servirá para poder lanzar los entrenamientos con la utilidad **papermill** pasándole un fichero con los parámetros. Los nuevos parámetros se situarán tras esta celda para tener prevalencia."
   ]
  },
  {
   "cell_type": "code",
   "execution_count": 2,
   "id": "8b7864d7",
   "metadata": {
    "execution": {
     "iopub.execute_input": "2023-10-30T18:31:23.270645Z",
     "iopub.status.busy": "2023-10-30T18:31:23.270645Z",
     "iopub.status.idle": "2023-10-30T18:31:23.286260Z",
     "shell.execute_reply": "2023-10-30T18:31:23.286260Z"
    },
    "papermill": {
     "duration": 0.020805,
     "end_time": "2023-10-30T18:31:23.287253",
     "exception": false,
     "start_time": "2023-10-30T18:31:23.266448",
     "status": "completed"
    },
    "tags": [
     "parameters"
    ]
   },
   "outputs": [
    {
     "name": "stdout",
     "output_type": "stream",
     "text": [
      "20231030T193123 : amilcar32 : INFO : Utilizando parámetros de mul_m\n"
     ]
    }
   ],
   "source": [
    "#  Parametros para el entrenamiento\n",
    "\n",
    "SEMILLA=        42\n",
    "M_TIPO=         \"mul_m\"\n",
    "M_SELECT=       \"MI\"\n",
    "M_CLASIF=       \"SVM\"\n",
    "R_FICHERO=      \"resultados\"\n",
    "M_FICHERO=      \"metricas\"\n",
    "PRE_DATA_FILE=  \"rows_transpose_norm_by_gene_id_with_target_num_\"\n",
    "SCORING=        \"roc_auc_ovr\" \n",
    "MAX_ITERS=      100\n",
    "\n",
    "def mutual_info_classif_state(X, y):\n",
    "    return mutual_info_classif(X, y, random_state=SEMILLA)\n",
    "\n",
    "eval_selector_mi = \"SelectKBest(score_func=mutual_info_classif_state)\"\n",
    "eval_selector_rf=  \"SelectFromModel(estimator=RandomForestClassifier(random_state=SEMILLA), threshold=-np.inf)\"\n",
    "eval_selector_anova=  \"SelectKBest(score_func=f_classif)\"\n",
    "\n",
    "eval_clasifier_svm= \"SVC(probability=True, random_state=SEMILLA)\"\n",
    "eval_clasifier_rf= \"RandomForestClassifier(random_state=SEMILLA)\"\n",
    "eval_clasifier_lr= \"LogisticRegressionCV(random_state=SEMILLA)\"\n",
    "\n",
    "if M_TIPO.startswith(\"bin_m\"):\n",
    "    myfunc.verbose(f\"Utilizando parámetros de {M_TIPO}\")\n",
    "    eval_selector = eval_selector_mi\n",
    "    eval_clasifier = eval_clasifier_svm\n",
    "\n",
    "    SEMILLA = 6578\n",
    "    M_SELECT = \"MI\"\n",
    "    M_CLASIF = \"SVM\"\n",
    "    param_distributions = {'selector__k': [1000], \n",
    "         'clasifier__kernel': ['rbf'], 'clasifier__gamma': [0.01], 'clasifier__C': [100]}\n",
    "elif M_TIPO.startswith(\"bin_s\"):\n",
    "    myfunc.verbose(f\"Utilizando parámetros de {M_TIPO}\")\n",
    "    eval_selector = eval_selector_rf\n",
    "    eval_clasifier = eval_clasifier_lr\n",
    "\n",
    "    SEMILLA = 6191\n",
    "    M_SELECT = \"RF\"\n",
    "    M_CLASIF = \"LR_L2\"\n",
    "    param_distributions = {'selector__max_features': [1000], 'selector__estimator__n_estimators': [200], \n",
    "        'clasifier__solver': ['lbfgs'], 'clasifier__penalty': ['l2'], 'clasifier__max_iter': [10000]}\n",
    "\n",
    "elif M_TIPO.startswith(\"mul_m\"):\n",
    "    myfunc.verbose(f\"Utilizando parámetros de {M_TIPO}\")\n",
    " \n",
    "    eval_selector = eval_selector_rf\n",
    "    eval_clasifier = eval_clasifier_lr\n",
    "\n",
    "    SEMILLA = 6191\n",
    "    M_SELECT = \"RF\"\n",
    "    M_CLASIF = \"LR_L2\"\n",
    "    param_distributions = {'selector__max_features': [1000], 'selector__estimator__n_estimators': [400], \n",
    "        'clasifier__solver': ['lbfgs'], 'clasifier__penalty': ['l2'], 'clasifier__max_iter': [10000]}\n",
    "\n",
    "else:\n",
    "    # M_TIPO.startswith(\"mul_s\"):\n",
    "    myfunc.verbose(f\"Utilizando parámetros de {M_TIPO}\")\n",
    "    eval_selector = eval_selector_anova\n",
    "    eval_clasifier = eval_clasifier_lr\n",
    "\n",
    "    SEMILLA = 1860\n",
    "    M_SELECT = \"ANOVA\"\n",
    "    M_CLASIF = \"LR_L2\"\n",
    "    param_distributions = {'selector__k': [1000], \n",
    "        'clasifier__solver': ['saga'], 'clasifier__penalty': ['l2'], 'clasifier__max_iter': [10000]}\n",
    "\n"
   ]
  },
  {
   "cell_type": "code",
   "execution_count": 3,
   "id": "5921b389",
   "metadata": {
    "execution": {
     "iopub.execute_input": "2023-10-30T18:31:23.293883Z",
     "iopub.status.busy": "2023-10-30T18:31:23.293883Z",
     "iopub.status.idle": "2023-10-30T18:31:23.301411Z",
     "shell.execute_reply": "2023-10-30T18:31:23.301411Z"
    },
    "papermill": {
     "duration": 0.011532,
     "end_time": "2023-10-30T18:31:23.302403",
     "exception": false,
     "start_time": "2023-10-30T18:31:23.290871",
     "status": "completed"
    },
    "tags": [
     "injected-parameters"
    ]
   },
   "outputs": [],
   "source": [
    "# Parameters\n",
    "M_TIPO = \"mul_s\"\n",
    "M_SELECT = \"MI\"\n",
    "M_CLASIF = \"LR_L2\"\n",
    "P_FICHERO = \"param_0000_6578_mul_s_MI_LR_L2.yaml\"\n",
    "R_FICHERO = \"resultados_6578\"\n",
    "M_FICHERO = \"metricas_6578\"\n",
    "PRE_DATA_FILE = \"rows_transpose_norm_by_gene_id_with_target_num_\"\n",
    "SCORING = \"roc_auc_ovr\"\n",
    "SEMILLA = 6578\n",
    "MAX_ITERS = 500\n",
    "eval_selector = \"SelectKBest(score_func=mutual_info_classif_state)\"\n",
    "eval_clasifier = \"LogisticRegressionCV(random_state=SEMILLA)\"\n",
    "param_distributions = {\n",
    "    \"selector__k\": [500],\n",
    "    \"clasifier__solver\": [\"saga\"],\n",
    "    \"clasifier__penalty\": [\"l2\"],\n",
    "    \"clasifier__max_iter\": [10000],\n",
    "}\n"
   ]
  },
  {
   "cell_type": "code",
   "execution_count": 4,
   "id": "6afc9288",
   "metadata": {
    "execution": {
     "iopub.execute_input": "2023-10-30T18:31:23.309411Z",
     "iopub.status.busy": "2023-10-30T18:31:23.308411Z",
     "iopub.status.idle": "2023-10-30T18:31:23.317295Z",
     "shell.execute_reply": "2023-10-30T18:31:23.317295Z"
    },
    "papermill": {
     "duration": 0.012893,
     "end_time": "2023-10-30T18:31:23.318304",
     "exception": false,
     "start_time": "2023-10-30T18:31:23.305411",
     "status": "completed"
    },
    "tags": []
   },
   "outputs": [],
   "source": [
    "DATA_FILE = PRE_DATA_FILE + M_TIPO\n",
    "\n",
    "# si viene \"None\" en el parámetro max_depth, se le quitan las comillas para que no sea entendido por el algoritmo como un texto\n",
    "if \"clasifier__max_depth\" in param_distributions:\n",
    "    param_distributions['clasifier__max_depth'] = [None if x == 'None' else x for x in param_distributions['clasifier__max_depth']]"
   ]
  },
  {
   "cell_type": "markdown",
   "id": "81521130",
   "metadata": {
    "papermill": {
     "duration": 0.003004,
     "end_time": "2023-10-30T18:31:23.324433",
     "exception": false,
     "start_time": "2023-10-30T18:31:23.321429",
     "status": "completed"
    },
    "tags": []
   },
   "source": [
    "Asignar los algoritmos que se utilizarán en la función RandomSearchCV"
   ]
  },
  {
   "cell_type": "code",
   "execution_count": 5,
   "id": "1d62129b",
   "metadata": {
    "execution": {
     "iopub.execute_input": "2023-10-30T18:31:23.330943Z",
     "iopub.status.busy": "2023-10-30T18:31:23.330943Z",
     "iopub.status.idle": "2023-10-30T18:31:23.349227Z",
     "shell.execute_reply": "2023-10-30T18:31:23.348228Z"
    },
    "papermill": {
     "duration": 0.023199,
     "end_time": "2023-10-30T18:31:23.350633",
     "exception": false,
     "start_time": "2023-10-30T18:31:23.327434",
     "status": "completed"
    },
    "tags": []
   },
   "outputs": [],
   "source": [
    "algor_selector=eval(eval_selector)\n",
    "algor_clasifier=eval(eval_clasifier)"
   ]
  },
  {
   "cell_type": "markdown",
   "id": "0d940b26",
   "metadata": {
    "papermill": {
     "duration": 0.002999,
     "end_time": "2023-10-30T18:31:23.356639",
     "exception": false,
     "start_time": "2023-10-30T18:31:23.353640",
     "status": "completed"
    },
    "tags": []
   },
   "source": [
    "#### Comprobar el entorno y leer fichero de muestras"
   ]
  },
  {
   "cell_type": "code",
   "execution_count": 6,
   "id": "2e9b2023",
   "metadata": {
    "execution": {
     "iopub.execute_input": "2023-10-30T18:31:23.363344Z",
     "iopub.status.busy": "2023-10-30T18:31:23.363344Z",
     "iopub.status.idle": "2023-10-30T18:31:23.487407Z",
     "shell.execute_reply": "2023-10-30T18:31:23.487407Z"
    },
    "papermill": {
     "duration": 0.129265,
     "end_time": "2023-10-30T18:31:23.488408",
     "exception": false,
     "start_time": "2023-10-30T18:31:23.359143",
     "status": "completed"
    },
    "tags": []
   },
   "outputs": [
    {
     "name": "stdout",
     "output_type": "stream",
     "text": [
      "20231030T193123 : amilcar32 : INFO : Encontrada carpeta DATA_DIR=..\\tfm_viu\\datos\n",
      "20231030T193123 : amilcar32 : INFO : Encontrada carpeta CFDNA_DIR=..\\tfm_viu\\datos\\cfDNA_5hmC\n",
      "20231030T193123 : amilcar32 : INFO : Encontrada carpeta GENCODE_DIR=..\\tfm_viu\\datos\\gencode\n",
      "20231030T193123 : amilcar32 : INFO : Encontrada carpeta H5_DIR=..\\tfm_viu\\datos\\h5\n",
      "20231030T193123 : amilcar32 : INFO : Encontrada carpeta LOG_DIR=..\\tfm_viu\\datos\\logs\n",
      "20231030T193123 : amilcar32 : INFO : Encontrada carpeta CSV_DIR=..\\tfm_viu\\datos\\csv\n",
      "20231030T193123 : amilcar32 : INFO : Encontrada carpeta MODEL_DIR=..\\tfm_viu\\ejecuciones\\modelos\n",
      "20231030T193123 : amilcar32 : INFO : Encontrada carpeta EXEC_DIR=..\\tfm_viu\\ejecuciones\n",
      "20231030T193123 : amilcar32 : INFO : Encontrada carpeta MET_DIR=..\\tfm_viu\\ejecuciones\\metricas\n",
      "20231030T193123 : amilcar32 : INFO : Inicio leer fichero h5 ..\\tfm_viu\\datos\\h5\\rows_transpose_norm_by_gene_id_with_target_num_mul_s.h5\n",
      "20231030T193123 : amilcar32 : INFO : Leyendo clave /df\n"
     ]
    },
    {
     "name": "stdout",
     "output_type": "stream",
     "text": [
      "20231030T193123 : amilcar32 : INFO : Tamaño (259, 18876)\n",
      "20231030T193123 : amilcar32 : INFO : Fin leer fichero h5 ..\\tfm_viu\\datos\\h5\\rows_transpose_norm_by_gene_id_with_target_num_mul_s.h5\n"
     ]
    },
    {
     "data": {
      "text/plain": [
       "target\n",
       "0    37\n",
       "1    37\n",
       "2    37\n",
       "3    37\n",
       "4    37\n",
       "5    37\n",
       "6    37\n",
       "dtype: int64"
      ]
     },
     "metadata": {},
     "output_type": "display_data"
    },
    {
     "name": "stdout",
     "output_type": "stream",
     "text": [
      "Shape df: (259, 18876)\n",
      "Shape X_train: (207, 18875)\n",
      "Shape X_test: (52, 18875)\n"
     ]
    }
   ],
   "source": [
    "start_time = datetime.datetime.now()\n",
    "\n",
    "myfunc.reset_vars()\n",
    "\n",
    "myfunc.NOTEBK_FILENAME = myfunc.get_nb_name()\n",
    "\n",
    "myfunc.check_enviroment(myfunc.DATA_DIR, myfunc.CFDNA_DIR, myfunc.GENCODE_DIR, myfunc.H5_DIR, myfunc.LOG_DIR, myfunc.CSV_DIR, myfunc.MODEL_DIR, myfunc.EXEC_DIR, myfunc.MET_DIR)\n",
    "\n",
    "# Leer fichero con las muestras\n",
    "df_t = myfunc.read_h5_to_df(DATA_FILE, myfunc.H5_DIR)\n",
    "display(df_t.groupby(\"target\").size())\n",
    "print(\"Shape df:\",df_t.shape)\n",
    "\n",
    "# Separar caracteristicas/genes de las etiquetas/tipos de cáncer\n",
    "X = df_t.iloc[:, :-1]  # Todas las columnas excepto la última\n",
    "y = df_t.iloc[:, -1]  # La última columna contiene los identificadores de los tipos de cáncer\n",
    "\n",
    "#  Crear el conjunto de datos de entrenamiento y de pruebas, y se fija la semilla para siempre coger el mismo juego de muestras\n",
    "X_train, X_test, y_train, y_test = train_test_split(X, y, test_size=0.2, shuffle=True, random_state=42)\n",
    "print(\"Shape X_train:\",X_train.shape)\n",
    "print(\"Shape X_test:\",X_test.shape)\n"
   ]
  },
  {
   "cell_type": "markdown",
   "id": "b546a90a",
   "metadata": {
    "papermill": {
     "duration": 0.004,
     "end_time": "2023-10-30T18:31:23.495932",
     "exception": false,
     "start_time": "2023-10-30T18:31:23.491932",
     "status": "completed"
    },
    "tags": []
   },
   "source": [
    "#### Selección de características y clasificación."
   ]
  },
  {
   "cell_type": "code",
   "execution_count": 7,
   "id": "e3722456",
   "metadata": {
    "execution": {
     "iopub.execute_input": "2023-10-30T18:31:23.502451Z",
     "iopub.status.busy": "2023-10-30T18:31:23.502451Z",
     "iopub.status.idle": "2023-10-30T18:41:35.280493Z",
     "shell.execute_reply": "2023-10-30T18:41:35.278506Z"
    },
    "papermill": {
     "duration": 611.796782,
     "end_time": "2023-10-30T18:41:35.294721",
     "exception": false,
     "start_time": "2023-10-30T18:31:23.497939",
     "status": "completed"
    },
    "tags": []
   },
   "outputs": [
    {
     "name": "stdout",
     "output_type": "stream",
     "text": [
      "20231030T193123 : amilcar32 : INFO : Iniciando entrenamiento\n",
      "num_iter: 1 , max_iter: 1\n",
      "Fitting 5 folds for each of 1 candidates, totalling 5 fits\n"
     ]
    },
    {
     "name": "stdout",
     "output_type": "stream",
     "text": [
      "Mejores Hiperparámetros: {'selector__k': 500, 'clasifier__solver': 'saga', 'clasifier__penalty': 'l2', 'clasifier__max_iter': 10000}\n",
      "Mejor Puntuación: 0.8061\n",
      "20231030T194135 : amilcar32 : INFO : Fin entrenamiento\n"
     ]
    }
   ],
   "source": [
    "myfunc.verbose(\"Iniciando entrenamiento\")\n",
    "\n",
    "kf = KFold(n_splits=5, shuffle=True, random_state=SEMILLA)\n",
    "\n",
    "# Crear el pipeline para el flujo de tareas\n",
    "tasks_pipeline = Pipeline([\n",
    "    ('selector', algor_selector),\n",
    "    ('clasifier', algor_clasifier)\n",
    "])\n",
    "\n",
    "# MAX_ITERS puede limitar el número de iteraciones si son excesivas para las combinaciones de parámetros buscando un óptimo local, \n",
    "# sino funcionaría como GridSearchCV al revisar todas las cominaciones de los parámetros\n",
    "num_iteraciones = 1\n",
    "num_iteraciones = num_iteraciones * np.prod([len(elemento1) for _, elemento1 in param_distributions.items()])\n",
    "max_iteraciones = num_iteraciones if num_iteraciones <= MAX_ITERS else MAX_ITERS\n",
    "print(\"num_iter:\",num_iteraciones,\", max_iter:\",max_iteraciones)\n",
    "\n",
    "random_search = RandomizedSearchCV(\n",
    "    tasks_pipeline, \n",
    "    param_distributions, \n",
    "    n_iter=max_iteraciones,\n",
    "    scoring=SCORING,\n",
    "    cv=kf,\n",
    "    verbose=3, \n",
    "    random_state=SEMILLA, \n",
    "    n_jobs=-1\n",
    "    )\n",
    "\n",
    "# Entrenar el modelo\n",
    "random_search.fit(X_train, y_train)\n",
    "\n",
    "# Ver los mejores hiperparámetros encontrados\n",
    "print(f'Mejores Hiperparámetros: {random_search.best_params_}')\n",
    "print(f'Mejor Puntuación: {random_search.best_score_:.4f}')\n",
    "\n",
    "# Nos quedamos con el mejor modelo para ver las métricas\n",
    "mejor_modelo = random_search.best_estimator_\n",
    "\n",
    "myfunc.verbose(\"Fin entrenamiento\")"
   ]
  },
  {
   "cell_type": "markdown",
   "id": "0bb1df6c",
   "metadata": {
    "papermill": {
     "duration": 0.017932,
     "end_time": "2023-10-30T18:41:35.325723",
     "exception": false,
     "start_time": "2023-10-30T18:41:35.307791",
     "status": "completed"
    },
    "tags": []
   },
   "source": [
    "#### Guardar modelo"
   ]
  },
  {
   "cell_type": "code",
   "execution_count": 8,
   "id": "cadc7522",
   "metadata": {
    "execution": {
     "iopub.execute_input": "2023-10-30T18:41:35.355804Z",
     "iopub.status.busy": "2023-10-30T18:41:35.354688Z",
     "iopub.status.idle": "2023-10-30T18:41:35.389626Z",
     "shell.execute_reply": "2023-10-30T18:41:35.387934Z"
    },
    "papermill": {
     "duration": 0.053978,
     "end_time": "2023-10-30T18:41:35.393637",
     "exception": false,
     "start_time": "2023-10-30T18:41:35.339659",
     "status": "completed"
    },
    "tags": []
   },
   "outputs": [
    {
     "name": "stdout",
     "output_type": "stream",
     "text": [
      "20231030T194135 : amilcar32 : INFO : Inicio guardar fichero ..\\tfm_viu\\ejecuciones\\modelos\\modelo_6578_mul_s_MI_LR_L2.pkl\n",
      "20231030T194135 : amilcar32 : INFO : Fin guardar fichero ..\\tfm_viu\\ejecuciones\\modelos\\modelo_6578_mul_s_MI_LR_L2.pkl\n"
     ]
    }
   ],
   "source": [
    "fichero_modelo = str.replace(\"modelo_\"+str(SEMILLA).zfill(4)+\"_\"+M_TIPO+\"_\"+M_SELECT+\"_\"+M_CLASIF+\".pkl\", \" \", \"_\")\n",
    "\n",
    "myfunc.save_modelo(mejor_modelo, myfunc.MODEL_DIR, fichero_modelo)"
   ]
  },
  {
   "cell_type": "markdown",
   "id": "e36a019b",
   "metadata": {
    "papermill": {
     "duration": 0.013797,
     "end_time": "2023-10-30T18:41:35.428298",
     "exception": false,
     "start_time": "2023-10-30T18:41:35.414501",
     "status": "completed"
    },
    "tags": []
   },
   "source": [
    "#### Ver resultados del las iteraciones hechas por RandomSearchCV"
   ]
  },
  {
   "cell_type": "code",
   "execution_count": 9,
   "id": "1b3799b0",
   "metadata": {
    "execution": {
     "iopub.execute_input": "2023-10-30T18:41:35.450705Z",
     "iopub.status.busy": "2023-10-30T18:41:35.449382Z",
     "iopub.status.idle": "2023-10-30T18:41:35.470754Z",
     "shell.execute_reply": "2023-10-30T18:41:35.469567Z"
    },
    "papermill": {
     "duration": 0.031872,
     "end_time": "2023-10-30T18:41:35.475250",
     "exception": false,
     "start_time": "2023-10-30T18:41:35.443378",
     "status": "completed"
    },
    "tags": []
   },
   "outputs": [
    {
     "name": "stdout",
     "output_type": "stream",
     "text": [
      "20231030T194135 : amilcar32 : INFO : Inicio ver resultados\n",
      "Mejores Hiperparámetros: {'selector__k': 500, 'clasifier__solver': 'saga', 'clasifier__penalty': 'l2', 'clasifier__max_iter': 10000}\n",
      "Mejores puntuaciones: 0.8061 | Params: {'selector__k': 500, 'clasifier__solver': 'saga', 'clasifier__penalty': 'l2', 'clasifier__max_iter': 10000}\n",
      "Media de las puntuaciones: 0.8061 | Params: {'selector__k': 500, 'clasifier__solver': 'saga', 'clasifier__penalty': 'l2', 'clasifier__max_iter': 10000}\n",
      "20231030T194135 : amilcar32 : INFO : Fin resultados\n"
     ]
    }
   ],
   "source": [
    "myfunc.ver_resultados_search(random_search)"
   ]
  },
  {
   "cell_type": "markdown",
   "id": "fdfd2969",
   "metadata": {
    "papermill": {
     "duration": 0.014033,
     "end_time": "2023-10-30T18:41:35.510471",
     "exception": false,
     "start_time": "2023-10-30T18:41:35.496438",
     "status": "completed"
    },
    "tags": []
   },
   "source": [
    "#### Ver métricas del mejor modelo"
   ]
  },
  {
   "cell_type": "code",
   "execution_count": 10,
   "id": "f40d5fe7",
   "metadata": {
    "execution": {
     "iopub.execute_input": "2023-10-30T18:41:35.541165Z",
     "iopub.status.busy": "2023-10-30T18:41:35.540171Z",
     "iopub.status.idle": "2023-10-30T18:41:37.197463Z",
     "shell.execute_reply": "2023-10-30T18:41:37.195469Z"
    },
    "papermill": {
     "duration": 1.677162,
     "end_time": "2023-10-30T18:41:37.205646",
     "exception": false,
     "start_time": "2023-10-30T18:41:35.528484",
     "status": "completed"
    },
    "tags": []
   },
   "outputs": [
    {
     "name": "stdout",
     "output_type": "stream",
     "text": [
      "20231030T194135 : amilcar32 : INFO : Inicio ver métricas multiclase\n"
     ]
    },
    {
     "name": "stdout",
     "output_type": "stream",
     "text": [
      "              precision    recall  f1-score   support\n",
      "\n",
      "           0       0.50      0.45      0.48        11\n",
      "           1       1.00      0.38      0.55         8\n",
      "           2       0.20      0.12      0.15         8\n",
      "           3       0.43      0.60      0.50         5\n",
      "           4       0.62      1.00      0.76         8\n",
      "           5       0.50      0.33      0.40         6\n",
      "           6       0.50      0.83      0.62         6\n",
      "\n",
      "    accuracy                           0.52        52\n",
      "   macro avg       0.53      0.53      0.49        52\n",
      "weighted avg       0.54      0.52      0.49        52\n",
      "\n",
      "\n",
      "\n",
      "           Exactitud: 0.519231\n",
      "   Precisión (media): 0.534851\n",
      "      Recall (media): 0.531602\n",
      "    F1-score (media): 0.494628\n",
      "\n",
      "\n",
      "AUC para el tipo de cáncer 0-Control.... 0.5831\n",
      "AUC para el tipo de cáncer 1-Bladder.... 0.8807\n",
      "AUC para el tipo de cáncer 2-Breast..... 0.6818\n",
      "AUC para el tipo de cáncer 3-Colorectal. 0.8085\n",
      "AUC para el tipo de cáncer 4-Kidney..... 0.9205\n",
      "AUC para el tipo de cáncer 5-Lung....... 0.8478\n",
      "AUC para el tipo de cáncer 6-Prostate... 0.8949\n",
      "\n",
      "Media de AUC: 0.8025\n"
     ]
    },
    {
     "data": {
      "image/png": "[encoded data removed]",
      "text/plain": [
       "<Figure size 1000x600 with 1 Axes>"
      ]
     },
     "metadata": {},
     "output_type": "display_data"
    },
    {
     "name": "stdout",
     "output_type": "stream",
     "text": [
      "\n",
      "\n"
     ]
    },
    {
     "data": {
      "image/png": "[encoded data removed]",
      "text/plain": [
       "<Figure size 800x400 with 2 Axes>"
      ]
     },
     "metadata": {},
     "output_type": "display_data"
    },
    {
     "name": "stdout",
     "output_type": "stream",
     "text": [
      "\n",
      "\n",
      "Puntuación Jaccard para el cáncer tipo 0-Control.... 0.3125\n",
      "Puntuación Jaccard para el cáncer tipo 1-Bladder.... 0.3750\n",
      "Puntuación Jaccard para el cáncer tipo 2-Breast..... 0.0833\n",
      "Puntuación Jaccard para el cáncer tipo 3-Colorectal. 0.3333\n",
      "Puntuación Jaccard para el cáncer tipo 4-Kidney..... 0.6154\n",
      "Puntuación Jaccard para el cáncer tipo 5-Lung....... 0.2500\n",
      "Puntuación Jaccard para el cáncer tipo 6-Prostate... 0.4545\n",
      "\n",
      "Media de la puntuación de Jaccard: 0.3463\n"
     ]
    }
   ],
   "source": [
    "if M_TIPO.startswith(\"bin\"):\n",
    "    myfunc.ver_metricas(mejor_modelo, X_test, y_test)\n",
    "else:\n",
    "    myfunc.ver_metricas_multi(mejor_modelo, X_test, y_test)\n"
   ]
  },
  {
   "cell_type": "markdown",
   "id": "5ca12f28",
   "metadata": {
    "papermill": {
     "duration": 0.017581,
     "end_time": "2023-10-30T18:41:37.242200",
     "exception": false,
     "start_time": "2023-10-30T18:41:37.224619",
     "status": "completed"
    },
    "tags": []
   },
   "source": [
    "#### Finalización del notebook"
   ]
  },
  {
   "cell_type": "code",
   "execution_count": 11,
   "id": "09e4774e",
   "metadata": {
    "execution": {
     "iopub.execute_input": "2023-10-30T18:41:37.286609Z",
     "iopub.status.busy": "2023-10-30T18:41:37.285605Z",
     "iopub.status.idle": "2023-10-30T18:41:37.307502Z",
     "shell.execute_reply": "2023-10-30T18:41:37.305507Z"
    },
    "papermill": {
     "duration": 0.050566,
     "end_time": "2023-10-30T18:41:37.311026",
     "exception": false,
     "start_time": "2023-10-30T18:41:37.260460",
     "status": "completed"
    },
    "tags": []
   },
   "outputs": [
    {
     "name": "stdout",
     "output_type": "stream",
     "text": [
      "20231030T194137 : amilcar32 : INFO : Notebook ha tardado 613 seconds\n"
     ]
    }
   ],
   "source": [
    "end_time = datetime.datetime.now()\n",
    "total_time = end_time - start_time\n",
    "myfunc.verbose(f\"Notebook ha tardado {total_time.seconds} seconds\")"
   ]
  },
  {
   "cell_type": "markdown",
   "id": "45cb33fc",
   "metadata": {
    "papermill": {
     "duration": 0.006008,
     "end_time": "2023-10-30T18:41:37.328491",
     "exception": false,
     "start_time": "2023-10-30T18:41:37.322483",
     "status": "completed"
    },
    "tags": []
   },
   "source": [
    "#### Guardar métricas"
   ]
  },
  {
   "cell_type": "code",
   "execution_count": 12,
   "id": "b4f5d01b",
   "metadata": {
    "execution": {
     "iopub.execute_input": "2023-10-30T18:41:37.379656Z",
     "iopub.status.busy": "2023-10-30T18:41:37.379656Z",
     "iopub.status.idle": "2023-10-30T18:41:37.926509Z",
     "shell.execute_reply": "2023-10-30T18:41:37.924509Z"
    },
    "papermill": {
     "duration": 0.575271,
     "end_time": "2023-10-30T18:41:37.930018",
     "exception": false,
     "start_time": "2023-10-30T18:41:37.354747",
     "status": "completed"
    },
    "tags": []
   },
   "outputs": [
    {
     "name": "stdout",
     "output_type": "stream",
     "text": [
      "20231030T194137 : amilcar32 : INFO : Inicio guardar métricas multiclase\n",
      "20231030T194137 : amilcar32 : INFO : Inicio leer fichero ..\\tfm_viu\\ejecuciones\\metricas\\metricas_6578.csv\n",
      "20231030T194137 : amilcar32 : INFO : Fin leer fichero ..\\tfm_viu\\ejecuciones\\metricas\\metricas_6578.csv\n"
     ]
    },
    {
     "name": "stdout",
     "output_type": "stream",
     "text": [
      "20231030T194137 : amilcar32 : INFO : Inicio guardar fichero ..\\tfm_viu\\ejecuciones\\metricas\\metricas_6578.csv\n",
      "20231030T194137 : amilcar32 : INFO : Fichero borrado ..\\tfm_viu\\ejecuciones\\metricas\\metricas_6578.csv\n",
      "20231030T194137 : amilcar32 : INFO : Fin guardar fichero ..\\tfm_viu\\ejecuciones\\metricas\\metricas_6578.csv\n",
      "20231030T194137 : amilcar32 : INFO : Fin guardar métricas multiclase\n",
      "20231030T194137 : amilcar32 : INFO : Inicio leer fichero ..\\tfm_viu\\ejecuciones\\metricas\\metricas_6578.csv\n",
      "20231030T194137 : amilcar32 : INFO : Fin leer fichero ..\\tfm_viu\\ejecuciones\\metricas\\metricas_6578.csv\n"
     ]
    },
    {
     "data": {
      "text/html": [
       "<div>\n",
       "<style scoped>\n",
       "    .dataframe tbody tr th:only-of-type {\n",
       "        vertical-align: middle;\n",
       "    }\n",
       "\n",
       "    .dataframe tbody tr th {\n",
       "        vertical-align: top;\n",
       "    }\n",
       "\n",
       "    .dataframe thead th {\n",
       "        text-align: right;\n",
       "    }\n",
       "</style>\n",
       "<table border=\"1\" class=\"dataframe\">\n",
       "  <thead>\n",
       "    <tr style=\"text-align: right;\">\n",
       "      <th></th>\n",
       "      <th>tipo</th>\n",
       "      <th>select</th>\n",
       "      <th>clasific</th>\n",
       "      <th>semilla</th>\n",
       "      <th>accuracy</th>\n",
       "      <th>precision</th>\n",
       "      <th>recall</th>\n",
       "      <th>f1_score</th>\n",
       "      <th>roc_auc</th>\n",
       "      <th>hostname</th>\n",
       "      <th>total_time_sec</th>\n",
       "      <th>datetime</th>\n",
       "      <th>fichero_modelo</th>\n",
       "      <th>params</th>\n",
       "      <th>shape</th>\n",
       "      <th>features</th>\n",
       "      <th>roc_auc_ovr</th>\n",
       "      <th>indices_auc</th>\n",
       "      <th>indices_jaccard</th>\n",
       "    </tr>\n",
       "  </thead>\n",
       "  <tbody>\n",
       "    <tr>\n",
       "      <th>0</th>\n",
       "      <td>mul_s</td>\n",
       "      <td>MI</td>\n",
       "      <td>LR_L2</td>\n",
       "      <td>6578</td>\n",
       "      <td>0.519231</td>\n",
       "      <td>0.534851</td>\n",
       "      <td>0.531602</td>\n",
       "      <td>0.494628</td>\n",
       "      <td>NaN</td>\n",
       "      <td>amilcar32</td>\n",
       "      <td>613</td>\n",
       "      <td>2023-10-30 19:41:37.805549</td>\n",
       "      <td>modelo_6578_mul_s_MI_LR_L2.pkl</td>\n",
       "      <td>{'selector__k': 500, 'clasifier__solver': 'sag...</td>\n",
       "      <td>X_test:(52, 18875)</td>\n",
       "      <td>['ENSG00000005513.10', 'ENSG00000006453.14', '...</td>\n",
       "      <td>0.802481</td>\n",
       "      <td>[0.583148558758315, 0.8806818181818181, 0.6818...</td>\n",
       "      <td>[0.3125, 0.375, 0.08333333333333333, 0.3333333...</td>\n",
       "    </tr>\n",
       "    <tr>\n",
       "      <th>0</th>\n",
       "      <td>mul_s</td>\n",
       "      <td>MI</td>\n",
       "      <td>LR_L1</td>\n",
       "      <td>6578</td>\n",
       "      <td>0.480769</td>\n",
       "      <td>0.503288</td>\n",
       "      <td>0.494805</td>\n",
       "      <td>0.474830</td>\n",
       "      <td>NaN</td>\n",
       "      <td>amilcar32</td>\n",
       "      <td>977</td>\n",
       "      <td>2023-10-30 19:31:17.926450</td>\n",
       "      <td>modelo_6578_mul_s_MI_LR_L1.pkl</td>\n",
       "      <td>{'selector__k': 500, 'clasifier__solver': 'sag...</td>\n",
       "      <td>X_test:(52, 18875)</td>\n",
       "      <td>['ENSG00000005513.10', 'ENSG00000006453.14', '...</td>\n",
       "      <td>0.837533</td>\n",
       "      <td>[0.6208425720620842, 0.9034090909090909, 0.744...</td>\n",
       "      <td>[0.23529411764705882, 0.5, 0.07692307692307693...</td>\n",
       "    </tr>\n",
       "    <tr>\n",
       "      <th>0</th>\n",
       "      <td>mul_s</td>\n",
       "      <td>MI</td>\n",
       "      <td>LR_EN</td>\n",
       "      <td>6578</td>\n",
       "      <td>0.480769</td>\n",
       "      <td>0.506986</td>\n",
       "      <td>0.494913</td>\n",
       "      <td>0.465786</td>\n",
       "      <td>NaN</td>\n",
       "      <td>amilcar32</td>\n",
       "      <td>1520</td>\n",
       "      <td>2023-10-30 19:14:54.865998</td>\n",
       "      <td>modelo_6578_mul_s_MI_LR_EN.pkl</td>\n",
       "      <td>{'selector__k': 1000, 'clasifier__solver': 'sa...</td>\n",
       "      <td>X_test:(52, 18875)</td>\n",
       "      <td>['ENSG00000003137.9', 'ENSG00000005513.10', 'E...</td>\n",
       "      <td>0.853632</td>\n",
       "      <td>[0.6607538802660754, 0.9119318181818181, 0.727...</td>\n",
       "      <td>[0.2, 0.625, 0.08333333333333333, 0.2, 0.53846...</td>\n",
       "    </tr>\n",
       "  </tbody>\n",
       "</table>\n",
       "</div>"
      ],
      "text/plain": [
       "    tipo select clasific  semilla  accuracy  precision    recall  f1_score  \\\n",
       "0  mul_s     MI    LR_L2     6578  0.519231   0.534851  0.531602  0.494628   \n",
       "0  mul_s     MI    LR_L1     6578  0.480769   0.503288  0.494805  0.474830   \n",
       "0  mul_s     MI    LR_EN     6578  0.480769   0.506986  0.494913  0.465786   \n",
       "\n",
       "   roc_auc   hostname  total_time_sec                    datetime  \\\n",
       "0      NaN  amilcar32             613  2023-10-30 19:41:37.805549   \n",
       "0      NaN  amilcar32             977  2023-10-30 19:31:17.926450   \n",
       "0      NaN  amilcar32            1520  2023-10-30 19:14:54.865998   \n",
       "\n",
       "                   fichero_modelo  \\\n",
       "0  modelo_6578_mul_s_MI_LR_L2.pkl   \n",
       "0  modelo_6578_mul_s_MI_LR_L1.pkl   \n",
       "0  modelo_6578_mul_s_MI_LR_EN.pkl   \n",
       "\n",
       "                                              params               shape  \\\n",
       "0  {'selector__k': 500, 'clasifier__solver': 'sag...  X_test:(52, 18875)   \n",
       "0  {'selector__k': 500, 'clasifier__solver': 'sag...  X_test:(52, 18875)   \n",
       "0  {'selector__k': 1000, 'clasifier__solver': 'sa...  X_test:(52, 18875)   \n",
       "\n",
       "                                            features  roc_auc_ovr  \\\n",
       "0  ['ENSG00000005513.10', 'ENSG00000006453.14', '...     0.802481   \n",
       "0  ['ENSG00000005513.10', 'ENSG00000006453.14', '...     0.837533   \n",
       "0  ['ENSG00000003137.9', 'ENSG00000005513.10', 'E...     0.853632   \n",
       "\n",
       "                                         indices_auc  \\\n",
       "0  [0.583148558758315, 0.8806818181818181, 0.6818...   \n",
       "0  [0.6208425720620842, 0.9034090909090909, 0.744...   \n",
       "0  [0.6607538802660754, 0.9119318181818181, 0.727...   \n",
       "\n",
       "                                     indices_jaccard  \n",
       "0  [0.3125, 0.375, 0.08333333333333333, 0.3333333...  \n",
       "0  [0.23529411764705882, 0.5, 0.07692307692307693...  \n",
       "0  [0.2, 0.625, 0.08333333333333333, 0.2, 0.53846...  "
      ]
     },
     "metadata": {},
     "output_type": "display_data"
    }
   ],
   "source": [
    "if M_TIPO.startswith(\"bin\"):\n",
    "    myfunc.save_metricas_to_csv(random_search, X_test, y_test, M_TIPO, M_SELECT, M_CLASIF, total_time, SEMILLA, myfunc.MET_DIR, M_FICHERO, fichero_modelo)\n",
    "else:\n",
    "    myfunc.save_metricas_multi_to_csv(random_search, X_test, y_test, M_TIPO, M_SELECT, M_CLASIF, total_time, SEMILLA, myfunc.MET_DIR, M_FICHERO, fichero_modelo)\n",
    "\n",
    "df1=myfunc.read_metricas_to_df(myfunc.MET_DIR,M_FICHERO)\n",
    "\n",
    "display(df1.sort_values(\"datetime\", ascending=False)[:3])\n"
   ]
  },
  {
   "cell_type": "markdown",
   "id": "dd33f7db",
   "metadata": {
    "papermill": {
     "duration": 0.013228,
     "end_time": "2023-10-30T18:41:37.958677",
     "exception": false,
     "start_time": "2023-10-30T18:41:37.945449",
     "status": "completed"
    },
    "tags": []
   },
   "source": [
    "#### Guardar resultados"
   ]
  },
  {
   "cell_type": "code",
   "execution_count": 13,
   "id": "a6df0e21",
   "metadata": {
    "execution": {
     "iopub.execute_input": "2023-10-30T18:41:37.983914Z",
     "iopub.status.busy": "2023-10-30T18:41:37.982904Z",
     "iopub.status.idle": "2023-10-30T18:41:38.019286Z",
     "shell.execute_reply": "2023-10-30T18:41:38.017187Z"
    },
    "papermill": {
     "duration": 0.050564,
     "end_time": "2023-10-30T18:41:38.022790",
     "exception": false,
     "start_time": "2023-10-30T18:41:37.972226",
     "status": "completed"
    },
    "tags": []
   },
   "outputs": [
    {
     "name": "stdout",
     "output_type": "stream",
     "text": [
      "20231030T194137 : amilcar32 : INFO : Inicio guardar resultados\n",
      "20231030T194137 : amilcar32 : INFO : Inicio guardar fichero ..\\tfm_viu\\ejecuciones\\metricas\\resultados_6578_mul_s-MI-LR_L2.csv\n"
     ]
    },
    {
     "name": "stdout",
     "output_type": "stream",
     "text": [
      "20231030T194138 : amilcar32 : INFO : Fin guardar fichero ..\\tfm_viu\\ejecuciones\\metricas\\resultados_6578_mul_s-MI-LR_L2.csv\n",
      "20231030T194138 : amilcar32 : INFO : Fin guardar resultados\n"
     ]
    }
   ],
   "source": [
    "fichero_resultados=R_FICHERO+\"_\"+M_TIPO+\"-\"+M_SELECT+\"-\"+M_CLASIF+\".csv\"\n",
    "myfunc.save_resultados_to_csv(M_TIPO, M_SELECT, M_CLASIF,  random_search, myfunc.MET_DIR, fichero_resultados)\n"
   ]
  }
 ],
 "metadata": {
  "kernelspec": {
   "display_name": "Python 3 (ipykernel)",
   "language": "python",
   "name": "python3"
  },
  "language_info": {
   "codemirror_mode": {
    "name": "ipython",
    "version": 3
   },
   "file_extension": ".py",
   "mimetype": "text/x-python",
   "name": "python",
   "nbconvert_exporter": "python",
   "pygments_lexer": "ipython3",
   "version": "3.10.12"
  },
  "papermill": {
   "default_parameters": {},
   "duration": 618.905664,
   "end_time": "2023-10-30T18:41:39.066583",
   "environment_variables": {},
   "exception": null,
   "input_path": "03_entrenamiento.ipynb",
   "output_path": "ejecuciones\\training\\03_entrenamiento.20231030T193119.param_0000_6578_mul_s_MI_LR_L2.output.ipynb",
   "parameters": {
    "MAX_ITERS": 500,
    "M_CLASIF": "LR_L2",
    "M_FICHERO": "metricas_6578",
    "M_SELECT": "MI",
    "M_TIPO": "mul_s",
    "PRE_DATA_FILE": "rows_transpose_norm_by_gene_id_with_target_num_",
    "P_FICHERO": "param_0000_6578_mul_s_MI_LR_L2.yaml",
    "R_FICHERO": "resultados_6578",
    "SCORING": "roc_auc_ovr",
    "SEMILLA": 6578,
    "eval_clasifier": "LogisticRegressionCV(random_state=SEMILLA)",
    "eval_selector": "SelectKBest(score_func=mutual_info_classif_state)",
    "param_distributions": {
     "clasifier__max_iter": [
      10000
     ],
     "clasifier__penalty": [
      "l2"
     ],
     "clasifier__solver": [
      "saga"
     ],
     "selector__k": [
      500
     ]
    }
   },
   "start_time": "2023-10-30T18:31:20.160919",
   "version": "2.4.0"
  }
 },
 "nbformat": 4,
 "nbformat_minor": 5
}