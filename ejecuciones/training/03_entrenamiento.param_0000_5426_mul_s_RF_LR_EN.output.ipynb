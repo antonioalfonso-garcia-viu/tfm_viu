{
 "cells": [
  {
   "cell_type": "markdown",
   "id": "77980fa9",
   "metadata": {
    "papermill": {
     "duration": 0.0,
     "end_time": "2023-10-30T12:17:54.659765",
     "exception": false,
     "start_time": "2023-10-30T12:17:54.659765",
     "status": "completed"
    },
    "tags": []
   },
   "source": [
    "##### Inicio"
   ]
  },
  {
   "cell_type": "markdown",
   "id": "c425d398",
   "metadata": {
    "papermill": {
     "duration": 0.015456,
     "end_time": "2023-10-30T12:17:54.675221",
     "exception": false,
     "start_time": "2023-10-30T12:17:54.659765",
     "status": "completed"
    },
    "tags": []
   },
   "source": [
    "#### Carga de datos"
   ]
  },
  {
   "cell_type": "code",
   "execution_count": 1,
   "id": "69031ccc",
   "metadata": {
    "execution": {
     "iopub.execute_input": "2023-10-30T12:17:54.675221Z",
     "iopub.status.busy": "2023-10-30T12:17:54.675221Z",
     "iopub.status.idle": "2023-10-30T12:17:55.853855Z",
     "shell.execute_reply": "2023-10-30T12:17:55.853855Z"
    },
    "papermill": {
     "duration": 1.178634,
     "end_time": "2023-10-30T12:17:55.853855",
     "exception": false,
     "start_time": "2023-10-30T12:17:54.675221",
     "status": "completed"
    },
    "tags": []
   },
   "outputs": [
    {
     "name": "stdout",
     "output_type": "stream",
     "text": [
      "CPU_COUNT: 24; NODE: amilcar32; sys.version: 3.10.12 | packaged by Anaconda, Inc. | (main, Jul  5 2023, 19:09:20) [MSC v.1916 64 bit (AMD64)]\n",
      "LOKY_MAX_CPU_COUNT is not set.\n",
      "OMP_NUM_THREADS is not set.\n"
     ]
    }
   ],
   "source": [
    "import os\n",
    "import numpy as np\n",
    "import pandas as pd\n",
    "import datetime\n",
    "import sklearn\n",
    "import logging\n",
    "import warnings\n",
    "\n",
    "from sklearn.pipeline import Pipeline\n",
    "from sklearn.model_selection import RandomizedSearchCV, KFold, cross_val_score, train_test_split\n",
    "from sklearn.metrics import accuracy_score, confusion_matrix, classification_report, roc_auc_score\n",
    "\n",
    "#  cargar algoritmos para aprendizaje supervisado\n",
    "from sklearn.feature_selection import SelectKBest, f_classif, SelectFromModel, mutual_info_classif\n",
    "from sklearn.svm import SVC\n",
    "from sklearn.ensemble import RandomForestClassifier\n",
    "from sklearn.linear_model import LogisticRegression,LogisticRegressionCV\n",
    "\n",
    "# importar fichero con utilidades propias\n",
    "from commons import myfunctions as myfunc\n"
   ]
  },
  {
   "cell_type": "markdown",
   "id": "a3643434",
   "metadata": {
    "papermill": {
     "duration": 0.0,
     "end_time": "2023-10-30T12:17:55.853855",
     "exception": false,
     "start_time": "2023-10-30T12:17:55.853855",
     "status": "completed"
    },
    "tags": []
   },
   "source": [
    "#### Parámetros a utilizar en el entrenamiento.\n",
    "\n",
    "Se indican los 3 algoritmos de *selección de características* (eval_selector_xxx) y los 3 algoritmos para la _clasificación_ (eval_clasifier_xxx)\n",
    "\n",
    "En *param_distributions* se indicar los parámetros que utilizan los algoritmos en la función RandomSearchCV.\n",
    "\n",
    "Esta celda tiene la etiqueta **parameters** que servirá para poder lanzar los entrenamientos con la utilidad **papermill** pasándole un fichero con los parámetros. Los nuevos parámetros se situarán tras esta celda para tener prevalencia."
   ]
  },
  {
   "cell_type": "code",
   "execution_count": 2,
   "id": "b0667722",
   "metadata": {
    "execution": {
     "iopub.execute_input": "2023-10-30T12:17:55.853855Z",
     "iopub.status.busy": "2023-10-30T12:17:55.853855Z",
     "iopub.status.idle": "2023-10-30T12:17:55.885201Z",
     "shell.execute_reply": "2023-10-30T12:17:55.885201Z"
    },
    "papermill": {
     "duration": 0.031346,
     "end_time": "2023-10-30T12:17:55.885201",
     "exception": false,
     "start_time": "2023-10-30T12:17:55.853855",
     "status": "completed"
    },
    "tags": [
     "parameters"
    ]
   },
   "outputs": [
    {
     "name": "stdout",
     "output_type": "stream",
     "text": [
      "20231030T131755 : amilcar32 : INFO : Utilizando parámetros de mul_m\n"
     ]
    }
   ],
   "source": [
    "#  Parametros para el entrenamiento\n",
    "\n",
    "SEMILLA=        42\n",
    "M_TIPO=         \"mul_m\"\n",
    "M_SELECT=       \"MI\"\n",
    "M_CLASIF=       \"SVM\"\n",
    "R_FICHERO=      \"resultados\"\n",
    "M_FICHERO=      \"metricas\"\n",
    "PRE_DATA_FILE=  \"rows_transpose_norm_by_gene_id_with_target_num_\"\n",
    "SCORING=        \"roc_auc_ovr\" \n",
    "MAX_ITERS=      100\n",
    "\n",
    "def mutual_info_classif_state(X, y):\n",
    "    return mutual_info_classif(X, y, random_state=SEMILLA)\n",
    "\n",
    "eval_selector_mi = \"SelectKBest(score_func=mutual_info_classif_state)\"\n",
    "eval_selector_rf=  \"SelectFromModel(estimator=RandomForestClassifier(random_state=SEMILLA), threshold=-np.inf)\"\n",
    "eval_selector_anova=  \"SelectKBest(score_func=f_classif)\"\n",
    "\n",
    "eval_clasifier_svm= \"SVC(probability=True, random_state=SEMILLA)\"\n",
    "eval_clasifier_rf= \"RandomForestClassifier(random_state=SEMILLA)\"\n",
    "eval_clasifier_lr= \"LogisticRegressionCV(random_state=SEMILLA)\"\n",
    "\n",
    "if M_TIPO.startswith(\"bin_m\"):\n",
    "    myfunc.verbose(f\"Utilizando parámetros de {M_TIPO}\")\n",
    "    eval_selector = eval_selector_mi\n",
    "    eval_clasifier = eval_clasifier_svm\n",
    "\n",
    "    SEMILLA = 6578\n",
    "    M_SELECT = \"MI\"\n",
    "    M_CLASIF = \"SVM\"\n",
    "    param_distributions = {'selector__k': [1000], \n",
    "         'clasifier__kernel': ['rbf'], 'clasifier__gamma': [0.01], 'clasifier__C': [100]}\n",
    "elif M_TIPO.startswith(\"bin_s\"):\n",
    "    myfunc.verbose(f\"Utilizando parámetros de {M_TIPO}\")\n",
    "    eval_selector = eval_selector_rf\n",
    "    eval_clasifier = eval_clasifier_lr\n",
    "\n",
    "    SEMILLA = 6191\n",
    "    M_SELECT = \"RF\"\n",
    "    M_CLASIF = \"LR_L2\"\n",
    "    param_distributions = {'selector__max_features': [1000], 'selector__estimator__n_estimators': [200], \n",
    "        'clasifier__solver': ['lbfgs'], 'clasifier__penalty': ['l2'], 'clasifier__max_iter': [10000]}\n",
    "\n",
    "elif M_TIPO.startswith(\"mul_m\"):\n",
    "    myfunc.verbose(f\"Utilizando parámetros de {M_TIPO}\")\n",
    " \n",
    "    eval_selector = eval_selector_rf\n",
    "    eval_clasifier = eval_clasifier_lr\n",
    "\n",
    "    SEMILLA = 6191\n",
    "    M_SELECT = \"RF\"\n",
    "    M_CLASIF = \"LR_L2\"\n",
    "    param_distributions = {'selector__max_features': [1000], 'selector__estimator__n_estimators': [400], \n",
    "        'clasifier__solver': ['lbfgs'], 'clasifier__penalty': ['l2'], 'clasifier__max_iter': [10000]}\n",
    "\n",
    "else:\n",
    "    # M_TIPO.startswith(\"mul_s\"):\n",
    "    myfunc.verbose(f\"Utilizando parámetros de {M_TIPO}\")\n",
    "    eval_selector = eval_selector_anova\n",
    "    eval_clasifier = eval_clasifier_lr\n",
    "\n",
    "    SEMILLA = 1860\n",
    "    M_SELECT = \"ANOVA\"\n",
    "    M_CLASIF = \"LR_L2\"\n",
    "    param_distributions = {'selector__k': [1000], \n",
    "        'clasifier__solver': ['saga'], 'clasifier__penalty': ['l2'], 'clasifier__max_iter': [10000]}\n",
    "\n"
   ]
  },
  {
   "cell_type": "code",
   "execution_count": 3,
   "id": "27e156c9",
   "metadata": {
    "execution": {
     "iopub.execute_input": "2023-10-30T12:17:55.885201Z",
     "iopub.status.busy": "2023-10-30T12:17:55.885201Z",
     "iopub.status.idle": "2023-10-30T12:17:55.917182Z",
     "shell.execute_reply": "2023-10-30T12:17:55.917182Z"
    },
    "papermill": {
     "duration": 0.031981,
     "end_time": "2023-10-30T12:17:55.917182",
     "exception": false,
     "start_time": "2023-10-30T12:17:55.885201",
     "status": "completed"
    },
    "tags": [
     "injected-parameters"
    ]
   },
   "outputs": [],
   "source": [
    "# Parameters\n",
    "M_TIPO = \"mul_s\"\n",
    "M_SELECT = \"RF\"\n",
    "M_CLASIF = \"LR_EN\"\n",
    "P_FICHERO = \"param_0000_5426_mul_s_RF_LR_EN.yaml\"\n",
    "R_FICHERO = \"resultados_5426\"\n",
    "M_FICHERO = \"metricas_5426\"\n",
    "PRE_DATA_FILE = \"rows_transpose_norm_by_gene_id_with_target_num_\"\n",
    "SCORING = \"roc_auc_ovr\"\n",
    "SEMILLA = 5426\n",
    "MAX_ITERS = 500\n",
    "eval_selector = \"SelectFromModel(estimator=RandomForestClassifier(random_state=SEMILLA), threshold=-np.inf)\"\n",
    "eval_clasifier = \"LogisticRegressionCV(random_state=SEMILLA)\"\n",
    "param_distributions = {\n",
    "    \"selector__max_features\": [500],\n",
    "    \"selector__estimator__n_estimators\": [400],\n",
    "    \"clasifier__solver\": [\"saga\"],\n",
    "    \"clasifier__penalty\": [\"elasticnet\"],\n",
    "    \"clasifier__max_iter\": [10000],\n",
    "    \"clasifier__l1_ratios\": [[0.1]],\n",
    "}\n"
   ]
  },
  {
   "cell_type": "code",
   "execution_count": 4,
   "id": "ca1feeb0",
   "metadata": {
    "execution": {
     "iopub.execute_input": "2023-10-30T12:17:55.917182Z",
     "iopub.status.busy": "2023-10-30T12:17:55.917182Z",
     "iopub.status.idle": "2023-10-30T12:17:55.949075Z",
     "shell.execute_reply": "2023-10-30T12:17:55.949075Z"
    },
    "papermill": {
     "duration": 0.031893,
     "end_time": "2023-10-30T12:17:55.949075",
     "exception": false,
     "start_time": "2023-10-30T12:17:55.917182",
     "status": "completed"
    },
    "tags": []
   },
   "outputs": [],
   "source": [
    "DATA_FILE = PRE_DATA_FILE + M_TIPO\n",
    "\n",
    "# si viene \"None\" en el parámetro max_depth, se le quitan las comillas para que no sea entendido por el algoritmo como un texto\n",
    "if \"clasifier__max_depth\" in param_distributions:\n",
    "    param_distributions['clasifier__max_depth'] = [None if x == 'None' else x for x in param_distributions['clasifier__max_depth']]"
   ]
  },
  {
   "cell_type": "markdown",
   "id": "85600a75",
   "metadata": {
    "papermill": {
     "duration": 0.015724,
     "end_time": "2023-10-30T12:17:55.964799",
     "exception": false,
     "start_time": "2023-10-30T12:17:55.949075",
     "status": "completed"
    },
    "tags": []
   },
   "source": [
    "Asignar los algoritmos que se utilizarán en la función RandomSearchCV"
   ]
  },
  {
   "cell_type": "code",
   "execution_count": 5,
   "id": "43d7ac71",
   "metadata": {
    "execution": {
     "iopub.execute_input": "2023-10-30T12:17:55.964799Z",
     "iopub.status.busy": "2023-10-30T12:17:55.964799Z",
     "iopub.status.idle": "2023-10-30T12:17:55.980545Z",
     "shell.execute_reply": "2023-10-30T12:17:55.980545Z"
    },
    "papermill": {
     "duration": 0.015746,
     "end_time": "2023-10-30T12:17:55.980545",
     "exception": false,
     "start_time": "2023-10-30T12:17:55.964799",
     "status": "completed"
    },
    "tags": []
   },
   "outputs": [],
   "source": [
    "algor_selector=eval(eval_selector)\n",
    "algor_clasifier=eval(eval_clasifier)"
   ]
  },
  {
   "cell_type": "markdown",
   "id": "31af18fb",
   "metadata": {
    "papermill": {
     "duration": 0.0,
     "end_time": "2023-10-30T12:17:55.980545",
     "exception": false,
     "start_time": "2023-10-30T12:17:55.980545",
     "status": "completed"
    },
    "tags": []
   },
   "source": [
    "#### Comprobar el entorno y leer fichero de muestras"
   ]
  },
  {
   "cell_type": "code",
   "execution_count": 6,
   "id": "d25e91e4",
   "metadata": {
    "execution": {
     "iopub.execute_input": "2023-10-30T12:17:55.996041Z",
     "iopub.status.busy": "2023-10-30T12:17:55.996041Z",
     "iopub.status.idle": "2023-10-30T12:17:56.121605Z",
     "shell.execute_reply": "2023-10-30T12:17:56.121605Z"
    },
    "papermill": {
     "duration": 0.14106,
     "end_time": "2023-10-30T12:17:56.121605",
     "exception": false,
     "start_time": "2023-10-30T12:17:55.980545",
     "status": "completed"
    },
    "tags": []
   },
   "outputs": [
    {
     "name": "stdout",
     "output_type": "stream",
     "text": [
      "20231030T131755 : amilcar32 : INFO : Encontrada carpeta DATA_DIR=..\\tfm_viu\\datos\n",
      "20231030T131755 : amilcar32 : INFO : Encontrada carpeta CFDNA_DIR=..\\tfm_viu\\datos\\cfDNA_5hmC\n",
      "20231030T131755 : amilcar32 : INFO : Encontrada carpeta GENCODE_DIR=..\\tfm_viu\\datos\\gencode\n",
      "20231030T131755 : amilcar32 : INFO : Encontrada carpeta H5_DIR=..\\tfm_viu\\datos\\h5\n",
      "20231030T131755 : amilcar32 : INFO : Encontrada carpeta LOG_DIR=..\\tfm_viu\\datos\\logs\n",
      "20231030T131755 : amilcar32 : INFO : Encontrada carpeta CSV_DIR=..\\tfm_viu\\datos\\csv\n",
      "20231030T131755 : amilcar32 : INFO : Encontrada carpeta MODEL_DIR=..\\tfm_viu\\ejecuciones\\modelos\n",
      "20231030T131755 : amilcar32 : INFO : Encontrada carpeta EXEC_DIR=..\\tfm_viu\\ejecuciones\n",
      "20231030T131755 : amilcar32 : INFO : Encontrada carpeta MET_DIR=..\\tfm_viu\\ejecuciones\\metricas\n",
      "20231030T131755 : amilcar32 : INFO : Inicio leer fichero h5 ..\\tfm_viu\\datos\\h5\\rows_transpose_norm_by_gene_id_with_target_num_mul_s.h5\n",
      "20231030T131756 : amilcar32 : INFO : Leyendo clave /df\n"
     ]
    },
    {
     "name": "stdout",
     "output_type": "stream",
     "text": [
      "20231030T131756 : amilcar32 : INFO : Tamaño (259, 18876)\n",
      "20231030T131756 : amilcar32 : INFO : Fin leer fichero h5 ..\\tfm_viu\\datos\\h5\\rows_transpose_norm_by_gene_id_with_target_num_mul_s.h5\n"
     ]
    },
    {
     "data": {
      "text/plain": [
       "target\n",
       "0    37\n",
       "1    37\n",
       "2    37\n",
       "3    37\n",
       "4    37\n",
       "5    37\n",
       "6    37\n",
       "dtype: int64"
      ]
     },
     "metadata": {},
     "output_type": "display_data"
    },
    {
     "name": "stdout",
     "output_type": "stream",
     "text": [
      "Shape df: (259, 18876)\n",
      "Shape X_train: (207, 18875)\n",
      "Shape X_test: (52, 18875)\n"
     ]
    }
   ],
   "source": [
    "start_time = datetime.datetime.now()\n",
    "\n",
    "myfunc.reset_vars()\n",
    "\n",
    "myfunc.NOTEBK_FILENAME = myfunc.get_nb_name()\n",
    "\n",
    "myfunc.check_enviroment(myfunc.DATA_DIR, myfunc.CFDNA_DIR, myfunc.GENCODE_DIR, myfunc.H5_DIR, myfunc.LOG_DIR, myfunc.CSV_DIR, myfunc.MODEL_DIR, myfunc.EXEC_DIR, myfunc.MET_DIR)\n",
    "\n",
    "# Leer fichero con las muestras\n",
    "df_t = myfunc.read_h5_to_df(DATA_FILE, myfunc.H5_DIR)\n",
    "display(df_t.groupby(\"target\").size())\n",
    "print(\"Shape df:\",df_t.shape)\n",
    "\n",
    "# Separar caracteristicas/genes de las etiquetas/tipos de cáncer\n",
    "X = df_t.iloc[:, :-1]  # Todas las columnas excepto la última\n",
    "y = df_t.iloc[:, -1]  # La última columna contiene los identificadores de los tipos de cáncer\n",
    "\n",
    "#  Crear el conjunto de datos de entrenamiento y de pruebas, y se fija la semilla para siempre coger el mismo juego de muestras\n",
    "X_train, X_test, y_train, y_test = train_test_split(X, y, test_size=0.2, shuffle=True, random_state=42)\n",
    "print(\"Shape X_train:\",X_train.shape)\n",
    "print(\"Shape X_test:\",X_test.shape)\n"
   ]
  },
  {
   "cell_type": "markdown",
   "id": "3e65aead",
   "metadata": {
    "papermill": {
     "duration": 0.0,
     "end_time": "2023-10-30T12:17:56.121605",
     "exception": false,
     "start_time": "2023-10-30T12:17:56.121605",
     "status": "completed"
    },
    "tags": []
   },
   "source": [
    "#### Selección de características y clasificación."
   ]
  },
  {
   "cell_type": "code",
   "execution_count": 7,
   "id": "119b38ef",
   "metadata": {
    "execution": {
     "iopub.execute_input": "2023-10-30T12:17:56.137232Z",
     "iopub.status.busy": "2023-10-30T12:17:56.121605Z",
     "iopub.status.idle": "2023-10-30T12:27:01.221316Z",
     "shell.execute_reply": "2023-10-30T12:27:01.221316Z"
    },
    "papermill": {
     "duration": 545.099711,
     "end_time": "2023-10-30T12:27:01.221316",
     "exception": false,
     "start_time": "2023-10-30T12:17:56.121605",
     "status": "completed"
    },
    "tags": []
   },
   "outputs": [
    {
     "name": "stdout",
     "output_type": "stream",
     "text": [
      "20231030T131756 : amilcar32 : INFO : Iniciando entrenamiento\n",
      "num_iter: 1 , max_iter: 1\n",
      "Fitting 5 folds for each of 1 candidates, totalling 5 fits\n"
     ]
    },
    {
     "name": "stdout",
     "output_type": "stream",
     "text": [
      "Mejores Hiperparámetros: {'selector__max_features': 500, 'selector__estimator__n_estimators': 400, 'clasifier__solver': 'saga', 'clasifier__penalty': 'elasticnet', 'clasifier__max_iter': 10000, 'clasifier__l1_ratios': [0.1]}\n",
      "Mejor Puntuación: 0.7981\n",
      "20231030T132701 : amilcar32 : INFO : Fin entrenamiento\n"
     ]
    }
   ],
   "source": [
    "myfunc.verbose(\"Iniciando entrenamiento\")\n",
    "\n",
    "kf = KFold(n_splits=5, shuffle=True, random_state=SEMILLA)\n",
    "\n",
    "# Crear el pipeline para el flujo de tareas\n",
    "tasks_pipeline = Pipeline([\n",
    "    ('selector', algor_selector),\n",
    "    ('clasifier', algor_clasifier)\n",
    "])\n",
    "\n",
    "# MAX_ITERS puede limitar el número de iteraciones si son excesivas para las combinaciones de parámetros buscando un óptimo local, \n",
    "# sino funcionaría como GridSearchCV al revisar todas las cominaciones de los parámetros\n",
    "num_iteraciones = 1\n",
    "num_iteraciones = num_iteraciones * np.prod([len(elemento1) for _, elemento1 in param_distributions.items()])\n",
    "max_iteraciones = num_iteraciones if num_iteraciones <= MAX_ITERS else MAX_ITERS\n",
    "print(\"num_iter:\",num_iteraciones,\", max_iter:\",max_iteraciones)\n",
    "\n",
    "random_search = RandomizedSearchCV(\n",
    "    tasks_pipeline, \n",
    "    param_distributions, \n",
    "    n_iter=max_iteraciones,\n",
    "    scoring=SCORING,\n",
    "    cv=kf,\n",
    "    verbose=3, \n",
    "    random_state=SEMILLA, \n",
    "    n_jobs=-1\n",
    "    )\n",
    "\n",
    "# Entrenar el modelo\n",
    "random_search.fit(X_train, y_train)\n",
    "\n",
    "# Ver los mejores hiperparámetros encontrados\n",
    "print(f'Mejores Hiperparámetros: {random_search.best_params_}')\n",
    "print(f'Mejor Puntuación: {random_search.best_score_:.4f}')\n",
    "\n",
    "# Nos quedamos con el mejor modelo para ver las métricas\n",
    "mejor_modelo = random_search.best_estimator_\n",
    "\n",
    "myfunc.verbose(\"Fin entrenamiento\")"
   ]
  },
  {
   "cell_type": "markdown",
   "id": "d8b9df3d",
   "metadata": {
    "papermill": {
     "duration": 0.015633,
     "end_time": "2023-10-30T12:27:01.252663",
     "exception": false,
     "start_time": "2023-10-30T12:27:01.237030",
     "status": "completed"
    },
    "tags": []
   },
   "source": [
    "#### Guardar modelo"
   ]
  },
  {
   "cell_type": "code",
   "execution_count": 8,
   "id": "cd5a7de3",
   "metadata": {
    "execution": {
     "iopub.execute_input": "2023-10-30T12:27:01.268283Z",
     "iopub.status.busy": "2023-10-30T12:27:01.268283Z",
     "iopub.status.idle": "2023-10-30T12:27:01.662001Z",
     "shell.execute_reply": "2023-10-30T12:27:01.662001Z"
    },
    "papermill": {
     "duration": 0.409338,
     "end_time": "2023-10-30T12:27:01.662001",
     "exception": false,
     "start_time": "2023-10-30T12:27:01.252663",
     "status": "completed"
    },
    "tags": []
   },
   "outputs": [
    {
     "name": "stdout",
     "output_type": "stream",
     "text": [
      "20231030T132701 : amilcar32 : INFO : Inicio guardar fichero ..\\tfm_viu\\ejecuciones\\modelos\\modelo_5426_mul_s_RF_LR_EN.pkl\n"
     ]
    },
    {
     "name": "stdout",
     "output_type": "stream",
     "text": [
      "20231030T132701 : amilcar32 : INFO : Fin guardar fichero ..\\tfm_viu\\ejecuciones\\modelos\\modelo_5426_mul_s_RF_LR_EN.pkl\n"
     ]
    }
   ],
   "source": [
    "fichero_modelo = str.replace(\"modelo_\"+str(SEMILLA).zfill(4)+\"_\"+M_TIPO+\"_\"+M_SELECT+\"_\"+M_CLASIF+\".pkl\", \" \", \"_\")\n",
    "\n",
    "myfunc.save_modelo(mejor_modelo, myfunc.MODEL_DIR, fichero_modelo)"
   ]
  },
  {
   "cell_type": "markdown",
   "id": "427609cb",
   "metadata": {
    "papermill": {
     "duration": 0.0,
     "end_time": "2023-10-30T12:27:01.677518",
     "exception": false,
     "start_time": "2023-10-30T12:27:01.677518",
     "status": "completed"
    },
    "tags": []
   },
   "source": [
    "#### Ver resultados del las iteraciones hechas por RandomSearchCV"
   ]
  },
  {
   "cell_type": "code",
   "execution_count": 9,
   "id": "63702029",
   "metadata": {
    "execution": {
     "iopub.execute_input": "2023-10-30T12:27:01.693126Z",
     "iopub.status.busy": "2023-10-30T12:27:01.693126Z",
     "iopub.status.idle": "2023-10-30T12:27:01.725049Z",
     "shell.execute_reply": "2023-10-30T12:27:01.725049Z"
    },
    "papermill": {
     "duration": 0.031923,
     "end_time": "2023-10-30T12:27:01.725049",
     "exception": false,
     "start_time": "2023-10-30T12:27:01.693126",
     "status": "completed"
    },
    "tags": []
   },
   "outputs": [
    {
     "name": "stdout",
     "output_type": "stream",
     "text": [
      "20231030T132701 : amilcar32 : INFO : Inicio ver resultados\n",
      "Mejores Hiperparámetros: {'selector__max_features': 500, 'selector__estimator__n_estimators': 400, 'clasifier__solver': 'saga', 'clasifier__penalty': 'elasticnet', 'clasifier__max_iter': 10000, 'clasifier__l1_ratios': [0.1]}\n",
      "Mejores puntuaciones: 0.7981 | Params: {'selector__max_features': 500, 'selector__estimator__n_estimators': 400, 'clasifier__solver': 'saga', 'clasifier__penalty': 'elasticnet', 'clasifier__max_iter': 10000, 'clasifier__l1_ratios': [0.1]}\n",
      "Media de las puntuaciones: 0.7981 | Params: {'selector__max_features': 500, 'selector__estimator__n_estimators': 400, 'clasifier__solver': 'saga', 'clasifier__penalty': 'elasticnet', 'clasifier__max_iter': 10000, 'clasifier__l1_ratios': [0.1]}\n",
      "20231030T132701 : amilcar32 : INFO : Fin resultados\n"
     ]
    }
   ],
   "source": [
    "myfunc.ver_resultados_search(random_search)"
   ]
  },
  {
   "cell_type": "markdown",
   "id": "9ec4a8f6",
   "metadata": {
    "papermill": {
     "duration": 0.015731,
     "end_time": "2023-10-30T12:27:01.740780",
     "exception": false,
     "start_time": "2023-10-30T12:27:01.725049",
     "status": "completed"
    },
    "tags": []
   },
   "source": [
    "#### Ver métricas del mejor modelo"
   ]
  },
  {
   "cell_type": "code",
   "execution_count": 10,
   "id": "ff901f28",
   "metadata": {
    "execution": {
     "iopub.execute_input": "2023-10-30T12:27:01.760460Z",
     "iopub.status.busy": "2023-10-30T12:27:01.760460Z",
     "iopub.status.idle": "2023-10-30T12:27:03.978935Z",
     "shell.execute_reply": "2023-10-30T12:27:03.978935Z"
    },
    "papermill": {
     "duration": 2.238155,
     "end_time": "2023-10-30T12:27:03.978935",
     "exception": false,
     "start_time": "2023-10-30T12:27:01.740780",
     "status": "completed"
    },
    "tags": []
   },
   "outputs": [
    {
     "name": "stdout",
     "output_type": "stream",
     "text": [
      "20231030T132701 : amilcar32 : INFO : Inicio ver métricas multiclase\n"
     ]
    },
    {
     "name": "stdout",
     "output_type": "stream",
     "text": [
      "              precision    recall  f1-score   support\n",
      "\n",
      "           0       0.25      0.18      0.21        11\n",
      "           1       0.83      0.62      0.71         8\n",
      "           2       0.17      0.12      0.14         8\n",
      "           3       0.25      0.20      0.22         5\n",
      "           4       0.70      0.88      0.78         8\n",
      "           5       0.50      0.50      0.50         6\n",
      "           6       0.42      0.83      0.56         6\n",
      "\n",
      "    accuracy                           0.46        52\n",
      "   macro avg       0.45      0.48      0.45        52\n",
      "weighted avg       0.44      0.46      0.44        52\n",
      "\n",
      "\n",
      "\n",
      "           Exactitud: 0.461538\n",
      "   Precisión (media): 0.445238\n",
      "      Recall (media): 0.477165\n",
      "    F1-score (media): 0.446175\n",
      "\n",
      "\n",
      "AUC para el tipo de cáncer 0-Control.... 0.5410\n",
      "AUC para el tipo de cáncer 1-Bladder.... 0.8722\n",
      "AUC para el tipo de cáncer 2-Breast..... 0.6648\n",
      "AUC para el tipo de cáncer 3-Colorectal. 0.7532\n",
      "AUC para el tipo de cáncer 4-Kidney..... 0.9574\n",
      "AUC para el tipo de cáncer 5-Lung....... 0.9203\n",
      "AUC para el tipo de cáncer 6-Prostate... 0.8514\n",
      "\n",
      "Media de AUC: 0.7943\n"
     ]
    },
    {
     "data": {
      "image/png": "[encoded data removed]",
      "text/plain": [
       "<Figure size 1000x600 with 1 Axes>"
      ]
     },
     "metadata": {},
     "output_type": "display_data"
    },
    {
     "name": "stdout",
     "output_type": "stream",
     "text": [
      "\n",
      "\n"
     ]
    },
    {
     "data": {
      "image/png": "[encoded data removed]",
      "text/plain": [
       "<Figure size 800x400 with 2 Axes>"
      ]
     },
     "metadata": {},
     "output_type": "display_data"
    },
    {
     "name": "stdout",
     "output_type": "stream",
     "text": [
      "\n",
      "\n",
      "Puntuación Jaccard para el cáncer tipo 0-Control.... 0.1176\n",
      "Puntuación Jaccard para el cáncer tipo 1-Bladder.... 0.5556\n",
      "Puntuación Jaccard para el cáncer tipo 2-Breast..... 0.0769\n",
      "Puntuación Jaccard para el cáncer tipo 3-Colorectal. 0.1250\n",
      "Puntuación Jaccard para el cáncer tipo 4-Kidney..... 0.6364\n",
      "Puntuación Jaccard para el cáncer tipo 5-Lung....... 0.3333\n",
      "Puntuación Jaccard para el cáncer tipo 6-Prostate... 0.3846\n",
      "\n",
      "Media de la puntuación de Jaccard: 0.3185\n"
     ]
    }
   ],
   "source": [
    "if M_TIPO.startswith(\"bin\"):\n",
    "    myfunc.ver_metricas(mejor_modelo, X_test, y_test)\n",
    "else:\n",
    "    myfunc.ver_metricas_multi(mejor_modelo, X_test, y_test)\n"
   ]
  },
  {
   "cell_type": "markdown",
   "id": "18b81304",
   "metadata": {
    "papermill": {
     "duration": 0.015618,
     "end_time": "2023-10-30T12:27:04.010084",
     "exception": false,
     "start_time": "2023-10-30T12:27:03.994466",
     "status": "completed"
    },
    "tags": []
   },
   "source": [
    "#### Finalización del notebook"
   ]
  },
  {
   "cell_type": "code",
   "execution_count": 11,
   "id": "30835a99",
   "metadata": {
    "execution": {
     "iopub.execute_input": "2023-10-30T12:27:04.026260Z",
     "iopub.status.busy": "2023-10-30T12:27:04.026260Z",
     "iopub.status.idle": "2023-10-30T12:27:04.041991Z",
     "shell.execute_reply": "2023-10-30T12:27:04.041991Z"
    },
    "papermill": {
     "duration": 0.030521,
     "end_time": "2023-10-30T12:27:04.045694",
     "exception": false,
     "start_time": "2023-10-30T12:27:04.015173",
     "status": "completed"
    },
    "tags": []
   },
   "outputs": [
    {
     "name": "stdout",
     "output_type": "stream",
     "text": [
      "20231030T132704 : amilcar32 : INFO : Notebook ha tardado 548 seconds\n"
     ]
    }
   ],
   "source": [
    "end_time = datetime.datetime.now()\n",
    "total_time = end_time - start_time\n",
    "myfunc.verbose(f\"Notebook ha tardado {total_time.seconds} seconds\")"
   ]
  },
  {
   "cell_type": "markdown",
   "id": "672bd0f5",
   "metadata": {
    "papermill": {
     "duration": 0.01572,
     "end_time": "2023-10-30T12:27:04.073534",
     "exception": false,
     "start_time": "2023-10-30T12:27:04.057814",
     "status": "completed"
    },
    "tags": []
   },
   "source": [
    "#### Guardar métricas"
   ]
  },
  {
   "cell_type": "code",
   "execution_count": 12,
   "id": "e212827d",
   "metadata": {
    "execution": {
     "iopub.execute_input": "2023-10-30T12:27:04.115392Z",
     "iopub.status.busy": "2023-10-30T12:27:04.115392Z",
     "iopub.status.idle": "2023-10-30T12:27:05.902347Z",
     "shell.execute_reply": "2023-10-30T12:27:05.902347Z"
    },
    "papermill": {
     "duration": 1.813185,
     "end_time": "2023-10-30T12:27:05.902347",
     "exception": false,
     "start_time": "2023-10-30T12:27:04.089162",
     "status": "completed"
    },
    "tags": []
   },
   "outputs": [
    {
     "name": "stdout",
     "output_type": "stream",
     "text": [
      "20231030T132704 : amilcar32 : INFO : Inicio guardar métricas multiclase\n",
      "20231030T132704 : amilcar32 : INFO : Inicio leer fichero ..\\tfm_viu\\ejecuciones\\metricas\\metricas_5426.csv\n",
      "20231030T132704 : amilcar32 : INFO : Fin leer fichero ..\\tfm_viu\\ejecuciones\\metricas\\metricas_5426.csv\n"
     ]
    },
    {
     "name": "stdout",
     "output_type": "stream",
     "text": [
      "20231030T132705 : amilcar32 : INFO : Inicio guardar fichero ..\\tfm_viu\\ejecuciones\\metricas\\metricas_5426.csv\n",
      "20231030T132705 : amilcar32 : INFO : Fichero borrado ..\\tfm_viu\\ejecuciones\\metricas\\metricas_5426.csv\n",
      "20231030T132705 : amilcar32 : INFO : Fin guardar fichero ..\\tfm_viu\\ejecuciones\\metricas\\metricas_5426.csv\n",
      "20231030T132705 : amilcar32 : INFO : Fin guardar métricas multiclase\n",
      "20231030T132705 : amilcar32 : INFO : Inicio leer fichero ..\\tfm_viu\\ejecuciones\\metricas\\metricas_5426.csv\n",
      "20231030T132705 : amilcar32 : INFO : Fin leer fichero ..\\tfm_viu\\ejecuciones\\metricas\\metricas_5426.csv\n"
     ]
    },
    {
     "data": {
      "text/html": [
       "<div>\n",
       "<style scoped>\n",
       "    .dataframe tbody tr th:only-of-type {\n",
       "        vertical-align: middle;\n",
       "    }\n",
       "\n",
       "    .dataframe tbody tr th {\n",
       "        vertical-align: top;\n",
       "    }\n",
       "\n",
       "    .dataframe thead th {\n",
       "        text-align: right;\n",
       "    }\n",
       "</style>\n",
       "<table border=\"1\" class=\"dataframe\">\n",
       "  <thead>\n",
       "    <tr style=\"text-align: right;\">\n",
       "      <th></th>\n",
       "      <th>tipo</th>\n",
       "      <th>select</th>\n",
       "      <th>clasific</th>\n",
       "      <th>semilla</th>\n",
       "      <th>accuracy</th>\n",
       "      <th>precision</th>\n",
       "      <th>recall</th>\n",
       "      <th>f1_score</th>\n",
       "      <th>roc_auc</th>\n",
       "      <th>hostname</th>\n",
       "      <th>total_time_sec</th>\n",
       "      <th>datetime</th>\n",
       "      <th>fichero_modelo</th>\n",
       "      <th>params</th>\n",
       "      <th>shape</th>\n",
       "      <th>features</th>\n",
       "      <th>roc_auc_ovr</th>\n",
       "      <th>indices_auc</th>\n",
       "      <th>indices_jaccard</th>\n",
       "    </tr>\n",
       "  </thead>\n",
       "  <tbody>\n",
       "    <tr>\n",
       "      <th>0</th>\n",
       "      <td>mul_s</td>\n",
       "      <td>RF</td>\n",
       "      <td>LR_EN</td>\n",
       "      <td>5426</td>\n",
       "      <td>0.461538</td>\n",
       "      <td>0.445238</td>\n",
       "      <td>0.477165</td>\n",
       "      <td>0.446175</td>\n",
       "      <td>NaN</td>\n",
       "      <td>amilcar32</td>\n",
       "      <td>548</td>\n",
       "      <td>2023-10-30 13:27:05.792242</td>\n",
       "      <td>modelo_5426_mul_s_RF_LR_EN.pkl</td>\n",
       "      <td>{'selector__max_features': 500, 'selector__est...</td>\n",
       "      <td>X_test:(52, 18875)</td>\n",
       "      <td>['ENSG00000000938.13', 'ENSG00000005108.17', '...</td>\n",
       "      <td>0.794324</td>\n",
       "      <td>[0.541019955654102, 0.8721590909090908, 0.6647...</td>\n",
       "      <td>[0.11764705882352941, 0.5555555555555556, 0.07...</td>\n",
       "    </tr>\n",
       "    <tr>\n",
       "      <th>0</th>\n",
       "      <td>mul_s</td>\n",
       "      <td>MI</td>\n",
       "      <td>SVM</td>\n",
       "      <td>5426</td>\n",
       "      <td>0.442308</td>\n",
       "      <td>0.441270</td>\n",
       "      <td>0.464069</td>\n",
       "      <td>0.436837</td>\n",
       "      <td>NaN</td>\n",
       "      <td>amilcar32</td>\n",
       "      <td>266</td>\n",
       "      <td>2023-10-30 13:17:50.664378</td>\n",
       "      <td>modelo_5426_mul_s_MI_SVM.pkl</td>\n",
       "      <td>{'selector__k': 1000, 'clasifier__kernel': 'rb...</td>\n",
       "      <td>X_test:(52, 18875)</td>\n",
       "      <td>['ENSG00000003137.9', 'ENSG00000004864.14', 'E...</td>\n",
       "      <td>0.764448</td>\n",
       "      <td>[0.5720620842572062, 0.8607954545454545, 0.693...</td>\n",
       "      <td>[0.14285714285714285, 0.36363636363636365, 0.0...</td>\n",
       "    </tr>\n",
       "    <tr>\n",
       "      <th>0</th>\n",
       "      <td>mul_s</td>\n",
       "      <td>MI</td>\n",
       "      <td>RF</td>\n",
       "      <td>5426</td>\n",
       "      <td>0.403846</td>\n",
       "      <td>0.355411</td>\n",
       "      <td>0.398701</td>\n",
       "      <td>0.360075</td>\n",
       "      <td>NaN</td>\n",
       "      <td>amilcar32</td>\n",
       "      <td>360</td>\n",
       "      <td>2023-10-30 13:13:19.224135</td>\n",
       "      <td>modelo_5426_mul_s_MI_RF.pkl</td>\n",
       "      <td>{'selector__k': 500, 'clasifier__n_estimators'...</td>\n",
       "      <td>X_test:(52, 18875)</td>\n",
       "      <td>['ENSG00000005513.10', 'ENSG00000006025.13', '...</td>\n",
       "      <td>0.704841</td>\n",
       "      <td>[0.43902439024390244, 0.8011363636363636, 0.65...</td>\n",
       "      <td>[0.07142857142857142, 0.35714285714285715, 0.2...</td>\n",
       "    </tr>\n",
       "  </tbody>\n",
       "</table>\n",
       "</div>"
      ],
      "text/plain": [
       "    tipo select clasific  semilla  accuracy  precision    recall  f1_score  \\\n",
       "0  mul_s     RF    LR_EN     5426  0.461538   0.445238  0.477165  0.446175   \n",
       "0  mul_s     MI      SVM     5426  0.442308   0.441270  0.464069  0.436837   \n",
       "0  mul_s     MI       RF     5426  0.403846   0.355411  0.398701  0.360075   \n",
       "\n",
       "   roc_auc   hostname  total_time_sec                    datetime  \\\n",
       "0      NaN  amilcar32             548  2023-10-30 13:27:05.792242   \n",
       "0      NaN  amilcar32             266  2023-10-30 13:17:50.664378   \n",
       "0      NaN  amilcar32             360  2023-10-30 13:13:19.224135   \n",
       "\n",
       "                   fichero_modelo  \\\n",
       "0  modelo_5426_mul_s_RF_LR_EN.pkl   \n",
       "0    modelo_5426_mul_s_MI_SVM.pkl   \n",
       "0     modelo_5426_mul_s_MI_RF.pkl   \n",
       "\n",
       "                                              params               shape  \\\n",
       "0  {'selector__max_features': 500, 'selector__est...  X_test:(52, 18875)   \n",
       "0  {'selector__k': 1000, 'clasifier__kernel': 'rb...  X_test:(52, 18875)   \n",
       "0  {'selector__k': 500, 'clasifier__n_estimators'...  X_test:(52, 18875)   \n",
       "\n",
       "                                            features  roc_auc_ovr  \\\n",
       "0  ['ENSG00000000938.13', 'ENSG00000005108.17', '...     0.794324   \n",
       "0  ['ENSG00000003137.9', 'ENSG00000004864.14', 'E...     0.764448   \n",
       "0  ['ENSG00000005513.10', 'ENSG00000006025.13', '...     0.704841   \n",
       "\n",
       "                                         indices_auc  \\\n",
       "0  [0.541019955654102, 0.8721590909090908, 0.6647...   \n",
       "0  [0.5720620842572062, 0.8607954545454545, 0.693...   \n",
       "0  [0.43902439024390244, 0.8011363636363636, 0.65...   \n",
       "\n",
       "                                     indices_jaccard  \n",
       "0  [0.11764705882352941, 0.5555555555555556, 0.07...  \n",
       "0  [0.14285714285714285, 0.36363636363636365, 0.0...  \n",
       "0  [0.07142857142857142, 0.35714285714285715, 0.2...  "
      ]
     },
     "metadata": {},
     "output_type": "display_data"
    }
   ],
   "source": [
    "if M_TIPO.startswith(\"bin\"):\n",
    "    myfunc.save_metricas_to_csv(random_search, X_test, y_test, M_TIPO, M_SELECT, M_CLASIF, total_time, SEMILLA, myfunc.MET_DIR, M_FICHERO, fichero_modelo)\n",
    "else:\n",
    "    myfunc.save_metricas_multi_to_csv(random_search, X_test, y_test, M_TIPO, M_SELECT, M_CLASIF, total_time, SEMILLA, myfunc.MET_DIR, M_FICHERO, fichero_modelo)\n",
    "\n",
    "df1=myfunc.read_metricas_to_df(myfunc.MET_DIR,M_FICHERO)\n",
    "\n",
    "display(df1.sort_values(\"datetime\", ascending=False)[:3])\n"
   ]
  },
  {
   "cell_type": "markdown",
   "id": "01cb09fe",
   "metadata": {
    "papermill": {
     "duration": 0.013079,
     "end_time": "2023-10-30T12:27:05.933926",
     "exception": false,
     "start_time": "2023-10-30T12:27:05.920847",
     "status": "completed"
    },
    "tags": []
   },
   "source": [
    "#### Guardar resultados"
   ]
  },
  {
   "cell_type": "code",
   "execution_count": 13,
   "id": "68dda571",
   "metadata": {
    "execution": {
     "iopub.execute_input": "2023-10-30T12:27:05.965260Z",
     "iopub.status.busy": "2023-10-30T12:27:05.965260Z",
     "iopub.status.idle": "2023-10-30T12:27:05.996692Z",
     "shell.execute_reply": "2023-10-30T12:27:05.996692Z"
    },
    "papermill": {
     "duration": 0.047024,
     "end_time": "2023-10-30T12:27:05.996692",
     "exception": false,
     "start_time": "2023-10-30T12:27:05.949668",
     "status": "completed"
    },
    "tags": []
   },
   "outputs": [
    {
     "name": "stdout",
     "output_type": "stream",
     "text": [
      "20231030T132705 : amilcar32 : INFO : Inicio guardar resultados\n",
      "20231030T132705 : amilcar32 : INFO : Inicio guardar fichero ..\\tfm_viu\\ejecuciones\\metricas\\resultados_5426_mul_s-RF-LR_EN.csv\n",
      "20231030T132705 : amilcar32 : INFO : Fin guardar fichero ..\\tfm_viu\\ejecuciones\\metricas\\resultados_5426_mul_s-RF-LR_EN.csv\n",
      "20231030T132705 : amilcar32 : INFO : Fin guardar resultados\n"
     ]
    }
   ],
   "source": [
    "fichero_resultados=R_FICHERO+\"_\"+M_TIPO+\"-\"+M_SELECT+\"-\"+M_CLASIF+\".csv\"\n",
    "myfunc.save_resultados_to_csv(M_TIPO, M_SELECT, M_CLASIF,  random_search, myfunc.MET_DIR, fichero_resultados)\n"
   ]
  }
 ],
 "metadata": {
  "kernelspec": {
   "display_name": "Python 3 (ipykernel)",
   "language": "python",
   "name": "python3"
  },
  "language_info": {
   "codemirror_mode": {
    "name": "ipython",
    "version": 3
   },
   "file_extension": ".py",
   "mimetype": "text/x-python",
   "name": "python",
   "nbconvert_exporter": "python",
   "pygments_lexer": "ipython3",
   "version": "3.10.12"
  },
  "papermill": {
   "default_parameters": {},
   "duration": 553.964352,
   "end_time": "2023-10-30T12:27:06.801102",
   "environment_variables": {},
   "exception": null,
   "input_path": "03_entrenamiento.ipynb",
   "output_path": "ejecuciones\\training\\03_entrenamiento.20231030T131752.param_0000_5426_mul_s_RF_LR_EN.output.ipynb",
   "parameters": {
    "MAX_ITERS": 500,
    "M_CLASIF": "LR_EN",
    "M_FICHERO": "metricas_5426",
    "M_SELECT": "RF",
    "M_TIPO": "mul_s",
    "PRE_DATA_FILE": "rows_transpose_norm_by_gene_id_with_target_num_",
    "P_FICHERO": "param_0000_5426_mul_s_RF_LR_EN.yaml",
    "R_FICHERO": "resultados_5426",
    "SCORING": "roc_auc_ovr",
    "SEMILLA": 5426,
    "eval_clasifier": "LogisticRegressionCV(random_state=SEMILLA)",
    "eval_selector": "SelectFromModel(estimator=RandomForestClassifier(random_state=SEMILLA), threshold=-np.inf)",
    "param_distributions": {
     "clasifier__l1_ratios": [
      [
       0.1
      ]
     ],
     "clasifier__max_iter": [
      10000
     ],
     "clasifier__penalty": [
      "elasticnet"
     ],
     "clasifier__solver": [
      "saga"
     ],
     "selector__estimator__n_estimators": [
      400
     ],
     "selector__max_features": [
      500
     ]
    }
   },
   "start_time": "2023-10-30T12:17:52.836750",
   "version": "2.4.0"
  }
 },
 "nbformat": 4,
 "nbformat_minor": 5
}