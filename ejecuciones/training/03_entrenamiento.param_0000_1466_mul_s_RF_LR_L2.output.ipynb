{
 "cells": [
  {
   "cell_type": "markdown",
   "id": "68b42c01",
   "metadata": {
    "papermill": {
     "duration": 0.003473,
     "end_time": "2023-10-30T04:31:36.288266",
     "exception": false,
     "start_time": "2023-10-30T04:31:36.284793",
     "status": "completed"
    },
    "tags": []
   },
   "source": [
    "##### Inicio"
   ]
  },
  {
   "cell_type": "markdown",
   "id": "434f43f8",
   "metadata": {
    "papermill": {
     "duration": 0.002785,
     "end_time": "2023-10-30T04:31:36.294087",
     "exception": false,
     "start_time": "2023-10-30T04:31:36.291302",
     "status": "completed"
    },
    "tags": []
   },
   "source": [
    "#### Carga de datos"
   ]
  },
  {
   "cell_type": "code",
   "execution_count": 1,
   "id": "6354fbed",
   "metadata": {
    "execution": {
     "iopub.execute_input": "2023-10-30T04:31:36.300848Z",
     "iopub.status.busy": "2023-10-30T04:31:36.300633Z",
     "iopub.status.idle": "2023-10-30T04:31:37.161642Z",
     "shell.execute_reply": "2023-10-30T04:31:37.161116Z"
    },
    "papermill": {
     "duration": 0.865988,
     "end_time": "2023-10-30T04:31:37.162925",
     "exception": false,
     "start_time": "2023-10-30T04:31:36.296937",
     "status": "completed"
    },
    "tags": []
   },
   "outputs": [
    {
     "name": "stdout",
     "output_type": "stream",
     "text": [
      "CPU_COUNT: 8; NODE: amilcar22; sys.version: 3.10.12 (main, Jul  5 2023, 19:22:19) [GCC 11.2.0]\n",
      "LOKY_MAX_CPU_COUNT: 6\n",
      "OMP_NUM_THREADS: 2\n"
     ]
    }
   ],
   "source": [
    "import os\n",
    "import numpy as np\n",
    "import pandas as pd\n",
    "import datetime\n",
    "import sklearn\n",
    "import logging\n",
    "import warnings\n",
    "\n",
    "from sklearn.pipeline import Pipeline\n",
    "from sklearn.model_selection import RandomizedSearchCV, KFold, cross_val_score, train_test_split\n",
    "from sklearn.metrics import accuracy_score, confusion_matrix, classification_report, roc_auc_score\n",
    "\n",
    "#  cargar algoritmos para aprendizaje supervisado\n",
    "from sklearn.feature_selection import SelectKBest, f_classif, SelectFromModel, mutual_info_classif\n",
    "from sklearn.svm import SVC\n",
    "from sklearn.ensemble import RandomForestClassifier\n",
    "from sklearn.linear_model import LogisticRegression,LogisticRegressionCV\n",
    "\n",
    "# importar fichero con utilidades propias\n",
    "from commons import myfunctions as myfunc\n"
   ]
  },
  {
   "cell_type": "markdown",
   "id": "851f9d12",
   "metadata": {
    "papermill": {
     "duration": 0.002472,
     "end_time": "2023-10-30T04:31:37.168252",
     "exception": false,
     "start_time": "2023-10-30T04:31:37.165780",
     "status": "completed"
    },
    "tags": []
   },
   "source": [
    "#### Parámetros a utilizar en el entrenamiento.\n",
    "\n",
    "Se indican los 3 algoritmos de *selección de características* (eval_selector_xxx) y los 3 algoritmos para la _clasificación_ (eval_clasifier_xxx)\n",
    "\n",
    "En *param_distributions* se indicar los parámetros que utilizan los algoritmos en la función RandomSearchCV.\n",
    "\n",
    "Esta celda tiene la etiqueta **parameters** que servirá para poder lanzar los entrenamientos con la utilidad **papermill** pasándole un fichero con los parámetros. Los nuevos parámetros se situarán tras esta celda para tener prevalencia."
   ]
  },
  {
   "cell_type": "code",
   "execution_count": 2,
   "id": "a7548ef1",
   "metadata": {
    "execution": {
     "iopub.execute_input": "2023-10-30T04:31:37.199847Z",
     "iopub.status.busy": "2023-10-30T04:31:37.199527Z",
     "iopub.status.idle": "2023-10-30T04:31:37.206524Z",
     "shell.execute_reply": "2023-10-30T04:31:37.206099Z"
    },
    "papermill": {
     "duration": 0.036987,
     "end_time": "2023-10-30T04:31:37.207676",
     "exception": false,
     "start_time": "2023-10-30T04:31:37.170689",
     "status": "completed"
    },
    "tags": [
     "parameters"
    ]
   },
   "outputs": [
    {
     "name": "stdout",
     "output_type": "stream",
     "text": [
      "20231030T053137 : amilcar22 : INFO : Utilizando parámetros de mul_m\n"
     ]
    }
   ],
   "source": [
    "#  Parametros para el entrenamiento\n",
    "\n",
    "SEMILLA=        42\n",
    "M_TIPO=         \"mul_m\"\n",
    "M_SELECT=       \"MI\"\n",
    "M_CLASIF=       \"SVM\"\n",
    "R_FICHERO=      \"resultados\"\n",
    "M_FICHERO=      \"metricas\"\n",
    "PRE_DATA_FILE=  \"rows_transpose_norm_by_gene_id_with_target_num_\"\n",
    "SCORING=        \"roc_auc_ovr\" \n",
    "MAX_ITERS=      100\n",
    "\n",
    "def mutual_info_classif_state(X, y):\n",
    "    return mutual_info_classif(X, y, random_state=SEMILLA)\n",
    "\n",
    "eval_selector_mi = \"SelectKBest(score_func=mutual_info_classif_state)\"\n",
    "eval_selector_rf=  \"SelectFromModel(estimator=RandomForestClassifier(random_state=SEMILLA), threshold=-np.inf)\"\n",
    "eval_selector_anova=  \"SelectKBest(score_func=f_classif)\"\n",
    "\n",
    "eval_clasifier_svm= \"SVC(probability=True, random_state=SEMILLA)\"\n",
    "eval_clasifier_rf= \"RandomForestClassifier(random_state=SEMILLA)\"\n",
    "eval_clasifier_lr= \"LogisticRegressionCV(random_state=SEMILLA)\"\n",
    "\n",
    "if M_TIPO.startswith(\"bin_m\"):\n",
    "    myfunc.verbose(f\"Utilizando parámetros de {M_TIPO}\")\n",
    "    eval_selector = eval_selector_mi\n",
    "    eval_clasifier = eval_clasifier_svm\n",
    "\n",
    "    SEMILLA = 6578\n",
    "    M_SELECT = \"MI\"\n",
    "    M_CLASIF = \"SVM\"\n",
    "    param_distributions = {'selector__k': [1000], \n",
    "         'clasifier__kernel': ['rbf'], 'clasifier__gamma': [0.01], 'clasifier__C': [100]}\n",
    "elif M_TIPO.startswith(\"bin_s\"):\n",
    "    myfunc.verbose(f\"Utilizando parámetros de {M_TIPO}\")\n",
    "    eval_selector = eval_selector_rf\n",
    "    eval_clasifier = eval_clasifier_lr\n",
    "\n",
    "    SEMILLA = 6191\n",
    "    M_SELECT = \"RF\"\n",
    "    M_CLASIF = \"LR_L2\"\n",
    "    param_distributions = {'selector__max_features': [1000], 'selector__estimator__n_estimators': [200], \n",
    "        'clasifier__solver': ['lbfgs'], 'clasifier__penalty': ['l2'], 'clasifier__max_iter': [10000]}\n",
    "\n",
    "elif M_TIPO.startswith(\"mul_m\"):\n",
    "    myfunc.verbose(f\"Utilizando parámetros de {M_TIPO}\")\n",
    " \n",
    "    eval_selector = eval_selector_rf\n",
    "    eval_clasifier = eval_clasifier_lr\n",
    "\n",
    "    SEMILLA = 6191\n",
    "    M_SELECT = \"RF\"\n",
    "    M_CLASIF = \"LR_L2\"\n",
    "    param_distributions = {'selector__max_features': [1000], 'selector__estimator__n_estimators': [400], \n",
    "        'clasifier__solver': ['lbfgs'], 'clasifier__penalty': ['l2'], 'clasifier__max_iter': [10000]}\n",
    "\n",
    "else:\n",
    "    # M_TIPO.startswith(\"mul_s\"):\n",
    "    myfunc.verbose(f\"Utilizando parámetros de {M_TIPO}\")\n",
    "    eval_selector = eval_selector_anova\n",
    "    eval_clasifier = eval_clasifier_lr\n",
    "\n",
    "    SEMILLA = 1860\n",
    "    M_SELECT = \"ANOVA\"\n",
    "    M_CLASIF = \"LR_L2\"\n",
    "    param_distributions = {'selector__k': [1000], \n",
    "        'clasifier__solver': ['saga'], 'clasifier__penalty': ['l2'], 'clasifier__max_iter': [10000]}\n",
    "\n"
   ]
  },
  {
   "cell_type": "code",
   "execution_count": 3,
   "id": "27b1f8fc",
   "metadata": {
    "execution": {
     "iopub.execute_input": "2023-10-30T04:31:37.213995Z",
     "iopub.status.busy": "2023-10-30T04:31:37.213805Z",
     "iopub.status.idle": "2023-10-30T04:31:37.217610Z",
     "shell.execute_reply": "2023-10-30T04:31:37.216964Z"
    },
    "papermill": {
     "duration": 0.008266,
     "end_time": "2023-10-30T04:31:37.218913",
     "exception": false,
     "start_time": "2023-10-30T04:31:37.210647",
     "status": "completed"
    },
    "tags": [
     "injected-parameters"
    ]
   },
   "outputs": [],
   "source": [
    "# Parameters\n",
    "M_TIPO = \"mul_s\"\n",
    "M_SELECT = \"RF\"\n",
    "M_CLASIF = \"LR_L2\"\n",
    "P_FICHERO = \"param_0000_1466_mul_s_RF_LR_L2.yaml\"\n",
    "R_FICHERO = \"resultados_1466\"\n",
    "M_FICHERO = \"metricas_1466\"\n",
    "PRE_DATA_FILE = \"rows_transpose_norm_by_gene_id_with_target_num_\"\n",
    "SCORING = \"roc_auc_ovr\"\n",
    "SEMILLA = 1466\n",
    "MAX_ITERS = 500\n",
    "eval_selector = \"SelectFromModel(estimator=RandomForestClassifier(random_state=SEMILLA), threshold=-np.inf)\"\n",
    "eval_clasifier = \"LogisticRegressionCV(random_state=SEMILLA)\"\n",
    "param_distributions = {\n",
    "    \"selector__max_features\": [500],\n",
    "    \"selector__estimator__n_estimators\": [200],\n",
    "    \"clasifier__solver\": [\"lbfgs\"],\n",
    "    \"clasifier__penalty\": [\"l2\"],\n",
    "    \"clasifier__max_iter\": [10000],\n",
    "}\n"
   ]
  },
  {
   "cell_type": "code",
   "execution_count": 4,
   "id": "425f60bb",
   "metadata": {
    "execution": {
     "iopub.execute_input": "2023-10-30T04:31:37.226296Z",
     "iopub.status.busy": "2023-10-30T04:31:37.226104Z",
     "iopub.status.idle": "2023-10-30T04:31:37.229399Z",
     "shell.execute_reply": "2023-10-30T04:31:37.228826Z"
    },
    "papermill": {
     "duration": 0.008664,
     "end_time": "2023-10-30T04:31:37.230873",
     "exception": false,
     "start_time": "2023-10-30T04:31:37.222209",
     "status": "completed"
    },
    "tags": []
   },
   "outputs": [],
   "source": [
    "DATA_FILE = PRE_DATA_FILE + M_TIPO\n",
    "\n",
    "# si viene \"None\" en el parámetro max_depth, se le quitan las comillas para que no sea entendido por el algoritmo como un texto\n",
    "if \"clasifier__max_depth\" in param_distributions:\n",
    "    param_distributions['clasifier__max_depth'] = [None if x == 'None' else x for x in param_distributions['clasifier__max_depth']]"
   ]
  },
  {
   "cell_type": "markdown",
   "id": "ee30aeed",
   "metadata": {
    "papermill": {
     "duration": 0.003753,
     "end_time": "2023-10-30T04:31:37.238430",
     "exception": false,
     "start_time": "2023-10-30T04:31:37.234677",
     "status": "completed"
    },
    "tags": []
   },
   "source": [
    "Asignar los algoritmos que se utilizarán en la función RandomSearchCV"
   ]
  },
  {
   "cell_type": "code",
   "execution_count": 5,
   "id": "1d215a1f",
   "metadata": {
    "execution": {
     "iopub.execute_input": "2023-10-30T04:31:37.246926Z",
     "iopub.status.busy": "2023-10-30T04:31:37.246706Z",
     "iopub.status.idle": "2023-10-30T04:31:37.249987Z",
     "shell.execute_reply": "2023-10-30T04:31:37.249403Z"
    },
    "papermill": {
     "duration": 0.009217,
     "end_time": "2023-10-30T04:31:37.251499",
     "exception": false,
     "start_time": "2023-10-30T04:31:37.242282",
     "status": "completed"
    },
    "tags": []
   },
   "outputs": [],
   "source": [
    "algor_selector=eval(eval_selector)\n",
    "algor_clasifier=eval(eval_clasifier)"
   ]
  },
  {
   "cell_type": "markdown",
   "id": "72ff0222",
   "metadata": {
    "papermill": {
     "duration": 0.004,
     "end_time": "2023-10-30T04:31:37.259489",
     "exception": false,
     "start_time": "2023-10-30T04:31:37.255489",
     "status": "completed"
    },
    "tags": []
   },
   "source": [
    "#### Comprobar el entorno y leer fichero de muestras"
   ]
  },
  {
   "cell_type": "code",
   "execution_count": 6,
   "id": "1e573e71",
   "metadata": {
    "execution": {
     "iopub.execute_input": "2023-10-30T04:31:37.267946Z",
     "iopub.status.busy": "2023-10-30T04:31:37.267740Z",
     "iopub.status.idle": "2023-10-30T04:31:37.400032Z",
     "shell.execute_reply": "2023-10-30T04:31:37.399533Z"
    },
    "papermill": {
     "duration": 0.137969,
     "end_time": "2023-10-30T04:31:37.401320",
     "exception": false,
     "start_time": "2023-10-30T04:31:37.263351",
     "status": "completed"
    },
    "tags": []
   },
   "outputs": [
    {
     "name": "stdout",
     "output_type": "stream",
     "text": [
      "20231030T053137 : amilcar22 : INFO : Encontrada carpeta DATA_DIR=../tfm_git/datos\n",
      "20231030T053137 : amilcar22 : INFO : Encontrada carpeta CFDNA_DIR=../tfm_git/datos/cfDNA_5hmC\n",
      "20231030T053137 : amilcar22 : INFO : Encontrada carpeta GENCODE_DIR=../tfm_git/datos/gencode\n",
      "20231030T053137 : amilcar22 : INFO : Encontrada carpeta H5_DIR=../tfm_git/datos/h5\n",
      "20231030T053137 : amilcar22 : INFO : Encontrada carpeta LOG_DIR=../tfm_git/datos/logs\n",
      "20231030T053137 : amilcar22 : INFO : Encontrada carpeta CSV_DIR=../tfm_git/datos/csv\n",
      "20231030T053137 : amilcar22 : INFO : Encontrada carpeta MODEL_DIR=../tfm_git/ejecuciones/modelos\n",
      "20231030T053137 : amilcar22 : INFO : Encontrada carpeta EXEC_DIR=../tfm_git/ejecuciones\n",
      "20231030T053137 : amilcar22 : INFO : Encontrada carpeta MET_DIR=../tfm_git/ejecuciones/metricas\n",
      "20231030T053137 : amilcar22 : INFO : Inicio leer fichero h5 ../tfm_git/datos/h5/rows_transpose_norm_by_gene_id_with_target_num_mul_s.h5\n",
      "20231030T053137 : amilcar22 : INFO : Leyendo clave /df\n"
     ]
    },
    {
     "name": "stdout",
     "output_type": "stream",
     "text": [
      "20231030T053137 : amilcar22 : INFO : Tamaño (259, 18876)\n",
      "20231030T053137 : amilcar22 : INFO : Fin leer fichero h5 ../tfm_git/datos/h5/rows_transpose_norm_by_gene_id_with_target_num_mul_s.h5\n"
     ]
    },
    {
     "data": {
      "text/plain": [
       "target\n",
       "0    37\n",
       "1    37\n",
       "2    37\n",
       "3    37\n",
       "4    37\n",
       "5    37\n",
       "6    37\n",
       "dtype: int64"
      ]
     },
     "metadata": {},
     "output_type": "display_data"
    },
    {
     "name": "stdout",
     "output_type": "stream",
     "text": [
      "Shape df: (259, 18876)\n",
      "Shape X_train: (207, 18875)\n",
      "Shape X_test: (52, 18875)\n"
     ]
    }
   ],
   "source": [
    "start_time = datetime.datetime.now()\n",
    "\n",
    "myfunc.reset_vars()\n",
    "\n",
    "myfunc.NOTEBK_FILENAME = myfunc.get_nb_name()\n",
    "\n",
    "myfunc.check_enviroment(myfunc.DATA_DIR, myfunc.CFDNA_DIR, myfunc.GENCODE_DIR, myfunc.H5_DIR, myfunc.LOG_DIR, myfunc.CSV_DIR, myfunc.MODEL_DIR, myfunc.EXEC_DIR, myfunc.MET_DIR)\n",
    "\n",
    "# Leer fichero con las muestras\n",
    "df_t = myfunc.read_h5_to_df(DATA_FILE, myfunc.H5_DIR)\n",
    "display(df_t.groupby(\"target\").size())\n",
    "print(\"Shape df:\",df_t.shape)\n",
    "\n",
    "# Separar caracteristicas/genes de las etiquetas/tipos de cáncer\n",
    "X = df_t.iloc[:, :-1]  # Todas las columnas excepto la última\n",
    "y = df_t.iloc[:, -1]  # La última columna contiene los identificadores de los tipos de cáncer\n",
    "\n",
    "#  Crear el conjunto de datos de entrenamiento y de pruebas, y se fija la semilla para siempre coger el mismo juego de muestras\n",
    "X_train, X_test, y_train, y_test = train_test_split(X, y, test_size=0.2, shuffle=True, random_state=42)\n",
    "print(\"Shape X_train:\",X_train.shape)\n",
    "print(\"Shape X_test:\",X_test.shape)\n"
   ]
  },
  {
   "cell_type": "markdown",
   "id": "4ddbdc07",
   "metadata": {
    "papermill": {
     "duration": 0.002782,
     "end_time": "2023-10-30T04:31:37.407314",
     "exception": false,
     "start_time": "2023-10-30T04:31:37.404532",
     "status": "completed"
    },
    "tags": []
   },
   "source": [
    "#### Selección de características y clasificación."
   ]
  },
  {
   "cell_type": "code",
   "execution_count": 7,
   "id": "f6e2afe2",
   "metadata": {
    "execution": {
     "iopub.execute_input": "2023-10-30T04:31:37.413778Z",
     "iopub.status.busy": "2023-10-30T04:31:37.413581Z",
     "iopub.status.idle": "2023-10-30T04:31:53.829737Z",
     "shell.execute_reply": "2023-10-30T04:31:53.829111Z"
    },
    "papermill": {
     "duration": 16.420805,
     "end_time": "2023-10-30T04:31:53.830916",
     "exception": false,
     "start_time": "2023-10-30T04:31:37.410111",
     "status": "completed"
    },
    "tags": []
   },
   "outputs": [
    {
     "name": "stdout",
     "output_type": "stream",
     "text": [
      "20231030T053137 : amilcar22 : INFO : Iniciando entrenamiento\n",
      "num_iter: 1 , max_iter: 1\n",
      "Fitting 5 folds for each of 1 candidates, totalling 5 fits\n"
     ]
    },
    {
     "name": "stdout",
     "output_type": "stream",
     "text": [
      "Mejores Hiperparámetros: {'selector__max_features': 500, 'selector__estimator__n_estimators': 200, 'clasifier__solver': 'lbfgs', 'clasifier__penalty': 'l2', 'clasifier__max_iter': 10000}\n",
      "Mejor Puntuación: 0.7912\n",
      "20231030T053153 : amilcar22 : INFO : Fin entrenamiento\n"
     ]
    }
   ],
   "source": [
    "myfunc.verbose(\"Iniciando entrenamiento\")\n",
    "\n",
    "kf = KFold(n_splits=5, shuffle=True, random_state=SEMILLA)\n",
    "\n",
    "# Crear el pipeline para el flujo de tareas\n",
    "tasks_pipeline = Pipeline([\n",
    "    ('selector', algor_selector),\n",
    "    ('clasifier', algor_clasifier)\n",
    "])\n",
    "\n",
    "# MAX_ITERS puede limitar el número de iteraciones si son excesivas para las combinaciones de parámetros buscando un óptimo local, \n",
    "# sino funcionaría como GridSearchCV al revisar todas las cominaciones de los parámetros\n",
    "num_iteraciones = 1\n",
    "num_iteraciones = num_iteraciones * np.prod([len(elemento1) for _, elemento1 in param_distributions.items()])\n",
    "max_iteraciones = num_iteraciones if num_iteraciones <= MAX_ITERS else MAX_ITERS\n",
    "print(\"num_iter:\",num_iteraciones,\", max_iter:\",max_iteraciones)\n",
    "\n",
    "random_search = RandomizedSearchCV(\n",
    "    tasks_pipeline, \n",
    "    param_distributions, \n",
    "    n_iter=max_iteraciones,\n",
    "    scoring=SCORING,\n",
    "    cv=kf,\n",
    "    verbose=3, \n",
    "    random_state=SEMILLA, \n",
    "    n_jobs=-1\n",
    "    )\n",
    "\n",
    "# Entrenar el modelo\n",
    "random_search.fit(X_train, y_train)\n",
    "\n",
    "# Ver los mejores hiperparámetros encontrados\n",
    "print(f'Mejores Hiperparámetros: {random_search.best_params_}')\n",
    "print(f'Mejor Puntuación: {random_search.best_score_:.4f}')\n",
    "\n",
    "# Nos quedamos con el mejor modelo para ver las métricas\n",
    "mejor_modelo = random_search.best_estimator_\n",
    "\n",
    "myfunc.verbose(\"Fin entrenamiento\")"
   ]
  },
  {
   "cell_type": "markdown",
   "id": "59194c86",
   "metadata": {
    "papermill": {
     "duration": 0.003036,
     "end_time": "2023-10-30T04:31:53.837394",
     "exception": false,
     "start_time": "2023-10-30T04:31:53.834358",
     "status": "completed"
    },
    "tags": []
   },
   "source": [
    "#### Guardar modelo"
   ]
  },
  {
   "cell_type": "code",
   "execution_count": 8,
   "id": "7329ab31",
   "metadata": {
    "execution": {
     "iopub.execute_input": "2023-10-30T04:31:53.844283Z",
     "iopub.status.busy": "2023-10-30T04:31:53.844075Z",
     "iopub.status.idle": "2023-10-30T04:31:53.916047Z",
     "shell.execute_reply": "2023-10-30T04:31:53.915480Z"
    },
    "papermill": {
     "duration": 0.076957,
     "end_time": "2023-10-30T04:31:53.917341",
     "exception": false,
     "start_time": "2023-10-30T04:31:53.840384",
     "status": "completed"
    },
    "tags": []
   },
   "outputs": [
    {
     "name": "stdout",
     "output_type": "stream",
     "text": [
      "20231030T053153 : amilcar22 : INFO : Inicio guardar fichero ../tfm_git/ejecuciones/modelos/modelo_1466_mul_s_RF_LR_L2.pkl\n",
      "20231030T053153 : amilcar22 : INFO : Fin guardar fichero ../tfm_git/ejecuciones/modelos/modelo_1466_mul_s_RF_LR_L2.pkl\n"
     ]
    }
   ],
   "source": [
    "fichero_modelo = str.replace(\"modelo_\"+str(SEMILLA).zfill(4)+\"_\"+M_TIPO+\"_\"+M_SELECT+\"_\"+M_CLASIF+\".pkl\", \" \", \"_\")\n",
    "\n",
    "myfunc.save_modelo(mejor_modelo, myfunc.MODEL_DIR, fichero_modelo)"
   ]
  },
  {
   "cell_type": "markdown",
   "id": "4b3bd481",
   "metadata": {
    "papermill": {
     "duration": 0.003248,
     "end_time": "2023-10-30T04:31:53.923740",
     "exception": false,
     "start_time": "2023-10-30T04:31:53.920492",
     "status": "completed"
    },
    "tags": []
   },
   "source": [
    "#### Ver resultados del las iteraciones hechas por RandomSearchCV"
   ]
  },
  {
   "cell_type": "code",
   "execution_count": 9,
   "id": "5b5733da",
   "metadata": {
    "execution": {
     "iopub.execute_input": "2023-10-30T04:31:53.930525Z",
     "iopub.status.busy": "2023-10-30T04:31:53.930333Z",
     "iopub.status.idle": "2023-10-30T04:31:53.936520Z",
     "shell.execute_reply": "2023-10-30T04:31:53.936044Z"
    },
    "papermill": {
     "duration": 0.010836,
     "end_time": "2023-10-30T04:31:53.937564",
     "exception": false,
     "start_time": "2023-10-30T04:31:53.926728",
     "status": "completed"
    },
    "tags": []
   },
   "outputs": [
    {
     "name": "stdout",
     "output_type": "stream",
     "text": [
      "20231030T053153 : amilcar22 : INFO : Inicio ver resultados\n",
      "Mejores Hiperparámetros: {'selector__max_features': 500, 'selector__estimator__n_estimators': 200, 'clasifier__solver': 'lbfgs', 'clasifier__penalty': 'l2', 'clasifier__max_iter': 10000}\n",
      "Mejores puntuaciones: 0.7912 | Params: {'selector__max_features': 500, 'selector__estimator__n_estimators': 200, 'clasifier__solver': 'lbfgs', 'clasifier__penalty': 'l2', 'clasifier__max_iter': 10000}\n",
      "Media de las puntuaciones: 0.7912 | Params: {'selector__max_features': 500, 'selector__estimator__n_estimators': 200, 'clasifier__solver': 'lbfgs', 'clasifier__penalty': 'l2', 'clasifier__max_iter': 10000}\n",
      "20231030T053153 : amilcar22 : INFO : Fin resultados\n"
     ]
    }
   ],
   "source": [
    "myfunc.ver_resultados_search(random_search)"
   ]
  },
  {
   "cell_type": "markdown",
   "id": "89514ec3",
   "metadata": {
    "papermill": {
     "duration": 0.002952,
     "end_time": "2023-10-30T04:31:53.943695",
     "exception": false,
     "start_time": "2023-10-30T04:31:53.940743",
     "status": "completed"
    },
    "tags": []
   },
   "source": [
    "#### Ver métricas del mejor modelo"
   ]
  },
  {
   "cell_type": "code",
   "execution_count": 10,
   "id": "dbd3d0e3",
   "metadata": {
    "execution": {
     "iopub.execute_input": "2023-10-30T04:31:53.950547Z",
     "iopub.status.busy": "2023-10-30T04:31:53.950374Z",
     "iopub.status.idle": "2023-10-30T04:31:54.648159Z",
     "shell.execute_reply": "2023-10-30T04:31:54.647656Z"
    },
    "papermill": {
     "duration": 0.702631,
     "end_time": "2023-10-30T04:31:54.649413",
     "exception": false,
     "start_time": "2023-10-30T04:31:53.946782",
     "status": "completed"
    },
    "tags": []
   },
   "outputs": [
    {
     "name": "stdout",
     "output_type": "stream",
     "text": [
      "20231030T053153 : amilcar22 : INFO : Inicio ver métricas multiclase\n"
     ]
    },
    {
     "name": "stdout",
     "output_type": "stream",
     "text": [
      "              precision    recall  f1-score   support\n",
      "\n",
      "           0       0.33      0.27      0.30        11\n",
      "           1       0.83      0.62      0.71         8\n",
      "           2       0.50      0.25      0.33         8\n",
      "           3       0.12      0.20      0.15         5\n",
      "           4       0.56      0.62      0.59         8\n",
      "           5       0.75      0.50      0.60         6\n",
      "           6       0.50      1.00      0.67         6\n",
      "\n",
      "    accuracy                           0.48        52\n",
      "   macro avg       0.51      0.50      0.48        52\n",
      "weighted avg       0.52      0.48      0.48        52\n",
      "\n",
      "\n",
      "\n",
      "           Exactitud: 0.480769\n",
      "   Precisión (media): 0.513889\n",
      "      Recall (media): 0.496104\n",
      "    F1-score (media): 0.479481\n",
      "\n",
      "\n",
      "AUC para el tipo de cáncer 0-Control.... 0.7783\n",
      "AUC para el tipo de cáncer 1-Bladder.... 0.8693\n",
      "AUC para el tipo de cáncer 2-Breast..... 0.7670\n",
      "AUC para el tipo de cáncer 3-Colorectal. 0.6553\n",
      "AUC para el tipo de cáncer 4-Kidney..... 0.9318\n"
     ]
    },
    {
     "name": "stdout",
     "output_type": "stream",
     "text": [
      "AUC para el tipo de cáncer 5-Lung....... 0.9638\n",
      "AUC para el tipo de cáncer 6-Prostate... 0.9601\n",
      "\n",
      "Media de AUC: 0.8465\n"
     ]
    },
    {
     "data": {
      "image/png": "[encoded data removed]",
      "text/plain": [
       "<Figure size 1000x600 with 1 Axes>"
      ]
     },
     "metadata": {},
     "output_type": "display_data"
    },
    {
     "name": "stdout",
     "output_type": "stream",
     "text": [
      "\n",
      "\n"
     ]
    },
    {
     "data": {
      "image/png": "[encoded data removed]",
      "text/plain": [
       "<Figure size 800x400 with 2 Axes>"
      ]
     },
     "metadata": {},
     "output_type": "display_data"
    },
    {
     "name": "stdout",
     "output_type": "stream",
     "text": [
      "\n",
      "\n",
      "Puntuación Jaccard para el cáncer tipo 0-Control.... 0.1765\n",
      "Puntuación Jaccard para el cáncer tipo 1-Bladder.... 0.5556\n",
      "Puntuación Jaccard para el cáncer tipo 2-Breast..... 0.2000\n",
      "Puntuación Jaccard para el cáncer tipo 3-Colorectal. 0.0833\n",
      "Puntuación Jaccard para el cáncer tipo 4-Kidney..... 0.4167\n",
      "Puntuación Jaccard para el cáncer tipo 5-Lung....... 0.4286\n",
      "Puntuación Jaccard para el cáncer tipo 6-Prostate... 0.5000\n",
      "\n",
      "Media de la puntuación de Jaccard: 0.3372\n"
     ]
    }
   ],
   "source": [
    "if M_TIPO.startswith(\"bin\"):\n",
    "    myfunc.ver_metricas(mejor_modelo, X_test, y_test)\n",
    "else:\n",
    "    myfunc.ver_metricas_multi(mejor_modelo, X_test, y_test)\n"
   ]
  },
  {
   "cell_type": "markdown",
   "id": "d8e3c178",
   "metadata": {
    "papermill": {
     "duration": 0.004269,
     "end_time": "2023-10-30T04:31:54.658095",
     "exception": false,
     "start_time": "2023-10-30T04:31:54.653826",
     "status": "completed"
    },
    "tags": []
   },
   "source": [
    "#### Finalización del notebook"
   ]
  },
  {
   "cell_type": "code",
   "execution_count": 11,
   "id": "2f20ac70",
   "metadata": {
    "execution": {
     "iopub.execute_input": "2023-10-30T04:31:54.667323Z",
     "iopub.status.busy": "2023-10-30T04:31:54.667118Z",
     "iopub.status.idle": "2023-10-30T04:31:54.671044Z",
     "shell.execute_reply": "2023-10-30T04:31:54.670530Z"
    },
    "papermill": {
     "duration": 0.009708,
     "end_time": "2023-10-30T04:31:54.672075",
     "exception": false,
     "start_time": "2023-10-30T04:31:54.662367",
     "status": "completed"
    },
    "tags": []
   },
   "outputs": [
    {
     "name": "stdout",
     "output_type": "stream",
     "text": [
      "20231030T053154 : amilcar22 : INFO : Notebook ha tardado 17 seconds\n"
     ]
    }
   ],
   "source": [
    "end_time = datetime.datetime.now()\n",
    "total_time = end_time - start_time\n",
    "myfunc.verbose(f\"Notebook ha tardado {total_time.seconds} seconds\")"
   ]
  },
  {
   "cell_type": "markdown",
   "id": "d1f869ec",
   "metadata": {
    "papermill": {
     "duration": 0.004066,
     "end_time": "2023-10-30T04:31:54.680252",
     "exception": false,
     "start_time": "2023-10-30T04:31:54.676186",
     "status": "completed"
    },
    "tags": []
   },
   "source": [
    "#### Guardar métricas"
   ]
  },
  {
   "cell_type": "code",
   "execution_count": 12,
   "id": "1a8d467a",
   "metadata": {
    "execution": {
     "iopub.execute_input": "2023-10-30T04:31:54.689320Z",
     "iopub.status.busy": "2023-10-30T04:31:54.689127Z",
     "iopub.status.idle": "2023-10-30T04:31:55.061967Z",
     "shell.execute_reply": "2023-10-30T04:31:55.061494Z"
    },
    "papermill": {
     "duration": 0.378716,
     "end_time": "2023-10-30T04:31:55.063117",
     "exception": false,
     "start_time": "2023-10-30T04:31:54.684401",
     "status": "completed"
    },
    "tags": []
   },
   "outputs": [
    {
     "name": "stdout",
     "output_type": "stream",
     "text": [
      "20231030T053154 : amilcar22 : INFO : Inicio guardar métricas multiclase\n",
      "20231030T053154 : amilcar22 : INFO : Inicio leer fichero ../tfm_git/ejecuciones/metricas/metricas_1466.csv\n",
      "20231030T053154 : amilcar22 : INFO : Fin leer fichero ../tfm_git/ejecuciones/metricas/metricas_1466.csv\n"
     ]
    },
    {
     "name": "stdout",
     "output_type": "stream",
     "text": [
      "20231030T053155 : amilcar22 : INFO : Inicio guardar fichero ../tfm_git/ejecuciones/metricas/metricas_1466.csv\n",
      "20231030T053155 : amilcar22 : INFO : Fichero borrado ../tfm_git/ejecuciones/metricas/metricas_1466.csv\n",
      "20231030T053155 : amilcar22 : INFO : Fin guardar fichero ../tfm_git/ejecuciones/metricas/metricas_1466.csv\n",
      "20231030T053155 : amilcar22 : INFO : Fin guardar métricas multiclase\n",
      "20231030T053155 : amilcar22 : INFO : Inicio leer fichero ../tfm_git/ejecuciones/metricas/metricas_1466.csv\n",
      "20231030T053155 : amilcar22 : INFO : Fin leer fichero ../tfm_git/ejecuciones/metricas/metricas_1466.csv\n"
     ]
    },
    {
     "data": {
      "text/html": [
       "<div>\n",
       "<style scoped>\n",
       "    .dataframe tbody tr th:only-of-type {\n",
       "        vertical-align: middle;\n",
       "    }\n",
       "\n",
       "    .dataframe tbody tr th {\n",
       "        vertical-align: top;\n",
       "    }\n",
       "\n",
       "    .dataframe thead th {\n",
       "        text-align: right;\n",
       "    }\n",
       "</style>\n",
       "<table border=\"1\" class=\"dataframe\">\n",
       "  <thead>\n",
       "    <tr style=\"text-align: right;\">\n",
       "      <th></th>\n",
       "      <th>tipo</th>\n",
       "      <th>select</th>\n",
       "      <th>clasific</th>\n",
       "      <th>semilla</th>\n",
       "      <th>accuracy</th>\n",
       "      <th>precision</th>\n",
       "      <th>recall</th>\n",
       "      <th>f1_score</th>\n",
       "      <th>roc_auc</th>\n",
       "      <th>hostname</th>\n",
       "      <th>total_time_sec</th>\n",
       "      <th>datetime</th>\n",
       "      <th>fichero_modelo</th>\n",
       "      <th>params</th>\n",
       "      <th>shape</th>\n",
       "      <th>features</th>\n",
       "      <th>roc_auc_ovr</th>\n",
       "      <th>indices_auc</th>\n",
       "      <th>indices_jaccard</th>\n",
       "    </tr>\n",
       "  </thead>\n",
       "  <tbody>\n",
       "    <tr>\n",
       "      <th>0</th>\n",
       "      <td>mul_s</td>\n",
       "      <td>RF</td>\n",
       "      <td>LR_L2</td>\n",
       "      <td>1466</td>\n",
       "      <td>0.480769</td>\n",
       "      <td>0.513889</td>\n",
       "      <td>0.496104</td>\n",
       "      <td>0.479481</td>\n",
       "      <td>NaN</td>\n",
       "      <td>amilcar22</td>\n",
       "      <td>17</td>\n",
       "      <td>2023-10-30 05:31:55.027532</td>\n",
       "      <td>modelo_1466_mul_s_RF_LR_L2.pkl</td>\n",
       "      <td>{'selector__max_features': 500, 'selector__est...</td>\n",
       "      <td>X_test:(52, 18875)</td>\n",
       "      <td>['ENSG00000000938.13', 'ENSG00000005513.10', '...</td>\n",
       "      <td>0.846526</td>\n",
       "      <td>[0.7782705099778271, 0.8693181818181819, 0.767...</td>\n",
       "      <td>[0.17647058823529413, 0.5555555555555556, 0.2,...</td>\n",
       "    </tr>\n",
       "    <tr>\n",
       "      <th>0</th>\n",
       "      <td>mul_s</td>\n",
       "      <td>RF</td>\n",
       "      <td>LR_L1</td>\n",
       "      <td>1466</td>\n",
       "      <td>0.442308</td>\n",
       "      <td>0.450433</td>\n",
       "      <td>0.448593</td>\n",
       "      <td>0.433873</td>\n",
       "      <td>NaN</td>\n",
       "      <td>amilcar22</td>\n",
       "      <td>521</td>\n",
       "      <td>2023-10-30 05:31:31.161663</td>\n",
       "      <td>modelo_1466_mul_s_RF_LR_L1.pkl</td>\n",
       "      <td>{'selector__max_features': 500, 'selector__est...</td>\n",
       "      <td>X_test:(52, 18875)</td>\n",
       "      <td>['ENSG00000005513.10', 'ENSG00000010165.20', '...</td>\n",
       "      <td>0.813518</td>\n",
       "      <td>[0.6341463414634146, 0.8607954545454546, 0.764...</td>\n",
       "      <td>[0.11764705882352941, 0.4444444444444444, 0.18...</td>\n",
       "    </tr>\n",
       "    <tr>\n",
       "      <th>0</th>\n",
       "      <td>mul_s</td>\n",
       "      <td>RF</td>\n",
       "      <td>LR_EN</td>\n",
       "      <td>1466</td>\n",
       "      <td>0.403846</td>\n",
       "      <td>0.457483</td>\n",
       "      <td>0.417641</td>\n",
       "      <td>0.410678</td>\n",
       "      <td>NaN</td>\n",
       "      <td>amilcar22</td>\n",
       "      <td>448</td>\n",
       "      <td>2023-10-30 05:22:43.042929</td>\n",
       "      <td>modelo_1466_mul_s_RF_LR_EN.pkl</td>\n",
       "      <td>{'selector__max_features': 500, 'selector__est...</td>\n",
       "      <td>X_test:(52, 18875)</td>\n",
       "      <td>['ENSG00000000938.13', 'ENSG00000005513.10', '...</td>\n",
       "      <td>0.785003</td>\n",
       "      <td>[0.516629711751663, 0.8409090909090909, 0.7670...</td>\n",
       "      <td>[0.125, 0.5, 0.15384615384615385, 0.0714285714...</td>\n",
       "    </tr>\n",
       "  </tbody>\n",
       "</table>\n",
       "</div>"
      ],
      "text/plain": [
       "    tipo select clasific  semilla  accuracy  precision    recall  f1_score  \\\n",
       "0  mul_s     RF    LR_L2     1466  0.480769   0.513889  0.496104  0.479481   \n",
       "0  mul_s     RF    LR_L1     1466  0.442308   0.450433  0.448593  0.433873   \n",
       "0  mul_s     RF    LR_EN     1466  0.403846   0.457483  0.417641  0.410678   \n",
       "\n",
       "   roc_auc   hostname  total_time_sec                    datetime  \\\n",
       "0      NaN  amilcar22              17  2023-10-30 05:31:55.027532   \n",
       "0      NaN  amilcar22             521  2023-10-30 05:31:31.161663   \n",
       "0      NaN  amilcar22             448  2023-10-30 05:22:43.042929   \n",
       "\n",
       "                   fichero_modelo  \\\n",
       "0  modelo_1466_mul_s_RF_LR_L2.pkl   \n",
       "0  modelo_1466_mul_s_RF_LR_L1.pkl   \n",
       "0  modelo_1466_mul_s_RF_LR_EN.pkl   \n",
       "\n",
       "                                              params               shape  \\\n",
       "0  {'selector__max_features': 500, 'selector__est...  X_test:(52, 18875)   \n",
       "0  {'selector__max_features': 500, 'selector__est...  X_test:(52, 18875)   \n",
       "0  {'selector__max_features': 500, 'selector__est...  X_test:(52, 18875)   \n",
       "\n",
       "                                            features  roc_auc_ovr  \\\n",
       "0  ['ENSG00000000938.13', 'ENSG00000005513.10', '...     0.846526   \n",
       "0  ['ENSG00000005513.10', 'ENSG00000010165.20', '...     0.813518   \n",
       "0  ['ENSG00000000938.13', 'ENSG00000005513.10', '...     0.785003   \n",
       "\n",
       "                                         indices_auc  \\\n",
       "0  [0.7782705099778271, 0.8693181818181819, 0.767...   \n",
       "0  [0.6341463414634146, 0.8607954545454546, 0.764...   \n",
       "0  [0.516629711751663, 0.8409090909090909, 0.7670...   \n",
       "\n",
       "                                     indices_jaccard  \n",
       "0  [0.17647058823529413, 0.5555555555555556, 0.2,...  \n",
       "0  [0.11764705882352941, 0.4444444444444444, 0.18...  \n",
       "0  [0.125, 0.5, 0.15384615384615385, 0.0714285714...  "
      ]
     },
     "metadata": {},
     "output_type": "display_data"
    }
   ],
   "source": [
    "if M_TIPO.startswith(\"bin\"):\n",
    "    myfunc.save_metricas_to_csv(random_search, X_test, y_test, M_TIPO, M_SELECT, M_CLASIF, total_time, SEMILLA, myfunc.MET_DIR, M_FICHERO, fichero_modelo)\n",
    "else:\n",
    "    myfunc.save_metricas_multi_to_csv(random_search, X_test, y_test, M_TIPO, M_SELECT, M_CLASIF, total_time, SEMILLA, myfunc.MET_DIR, M_FICHERO, fichero_modelo)\n",
    "\n",
    "df1=myfunc.read_metricas_to_df(myfunc.MET_DIR,M_FICHERO)\n",
    "\n",
    "display(df1.sort_values(\"datetime\", ascending=False)[:3])\n"
   ]
  },
  {
   "cell_type": "markdown",
   "id": "e55decf8",
   "metadata": {
    "papermill": {
     "duration": 0.004335,
     "end_time": "2023-10-30T04:31:55.072281",
     "exception": false,
     "start_time": "2023-10-30T04:31:55.067946",
     "status": "completed"
    },
    "tags": []
   },
   "source": [
    "#### Guardar resultados"
   ]
  },
  {
   "cell_type": "code",
   "execution_count": 13,
   "id": "18479b26",
   "metadata": {
    "execution": {
     "iopub.execute_input": "2023-10-30T04:31:55.081787Z",
     "iopub.status.busy": "2023-10-30T04:31:55.081599Z",
     "iopub.status.idle": "2023-10-30T04:31:55.090029Z",
     "shell.execute_reply": "2023-10-30T04:31:55.089578Z"
    },
    "papermill": {
     "duration": 0.014596,
     "end_time": "2023-10-30T04:31:55.091252",
     "exception": false,
     "start_time": "2023-10-30T04:31:55.076656",
     "status": "completed"
    },
    "tags": []
   },
   "outputs": [
    {
     "name": "stdout",
     "output_type": "stream",
     "text": [
      "20231030T053155 : amilcar22 : INFO : Inicio guardar resultados\n",
      "20231030T053155 : amilcar22 : INFO : Inicio guardar fichero ../tfm_git/ejecuciones/metricas/resultados_1466_mul_s-RF-LR_L2.csv\n",
      "20231030T053155 : amilcar22 : INFO : Fin guardar fichero ../tfm_git/ejecuciones/metricas/resultados_1466_mul_s-RF-LR_L2.csv\n",
      "20231030T053155 : amilcar22 : INFO : Fin guardar resultados\n"
     ]
    }
   ],
   "source": [
    "fichero_resultados=R_FICHERO+\"_\"+M_TIPO+\"-\"+M_SELECT+\"-\"+M_CLASIF+\".csv\"\n",
    "myfunc.save_resultados_to_csv(M_TIPO, M_SELECT, M_CLASIF,  random_search, myfunc.MET_DIR, fichero_resultados)\n"
   ]
  }
 ],
 "metadata": {
  "kernelspec": {
   "display_name": "Python 3 (ipykernel)",
   "language": "python",
   "name": "python3"
  },
  "language_info": {
   "codemirror_mode": {
    "name": "ipython",
    "version": 3
   },
   "file_extension": ".py",
   "mimetype": "text/x-python",
   "name": "python",
   "nbconvert_exporter": "python",
   "pygments_lexer": "ipython3",
   "version": "3.10.12"
  },
  "papermill": {
   "default_parameters": {},
   "duration": 22.339714,
   "end_time": "2023-10-30T04:31:57.712722",
   "environment_variables": {},
   "exception": null,
   "input_path": "03_entrenamiento.ipynb",
   "output_path": "ejecuciones/training/03_entrenamiento.20231030T053135.param_0000_1466_mul_s_RF_LR_L2.output.ipynb",
   "parameters": {
    "MAX_ITERS": 500,
    "M_CLASIF": "LR_L2",
    "M_FICHERO": "metricas_1466",
    "M_SELECT": "RF",
    "M_TIPO": "mul_s",
    "PRE_DATA_FILE": "rows_transpose_norm_by_gene_id_with_target_num_",
    "P_FICHERO": "param_0000_1466_mul_s_RF_LR_L2.yaml",
    "R_FICHERO": "resultados_1466",
    "SCORING": "roc_auc_ovr",
    "SEMILLA": 1466,
    "eval_clasifier": "LogisticRegressionCV(random_state=SEMILLA)",
    "eval_selector": "SelectFromModel(estimator=RandomForestClassifier(random_state=SEMILLA), threshold=-np.inf)",
    "param_distributions": {
     "clasifier__max_iter": [
      10000
     ],
     "clasifier__penalty": [
      "l2"
     ],
     "clasifier__solver": [
      "lbfgs"
     ],
     "selector__estimator__n_estimators": [
      200
     ],
     "selector__max_features": [
      500
     ]
    }
   },
   "start_time": "2023-10-30T04:31:35.373008",
   "version": "2.4.0"
  }
 },
 "nbformat": 4,
 "nbformat_minor": 5
}