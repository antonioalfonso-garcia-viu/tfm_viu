{
 "cells": [
  {
   "cell_type": "markdown",
   "id": "ca6ad6e7",
   "metadata": {
    "papermill": {
     "duration": 0.0,
     "end_time": "2023-10-29T19:40:10.438642",
     "exception": false,
     "start_time": "2023-10-29T19:40:10.438642",
     "status": "completed"
    },
    "tags": []
   },
   "source": [
    "##### Inicio"
   ]
  },
  {
   "cell_type": "markdown",
   "id": "ae6e3c4b",
   "metadata": {
    "papermill": {
     "duration": 0.015439,
     "end_time": "2023-10-29T19:40:10.454081",
     "exception": false,
     "start_time": "2023-10-29T19:40:10.438642",
     "status": "completed"
    },
    "tags": []
   },
   "source": [
    "#### Carga de datos"
   ]
  },
  {
   "cell_type": "code",
   "execution_count": 1,
   "id": "b11bca74",
   "metadata": {
    "execution": {
     "iopub.execute_input": "2023-10-29T19:40:10.454081Z",
     "iopub.status.busy": "2023-10-29T19:40:10.454081Z",
     "iopub.status.idle": "2023-10-29T19:40:11.610688Z",
     "shell.execute_reply": "2023-10-29T19:40:11.610688Z"
    },
    "papermill": {
     "duration": 1.156607,
     "end_time": "2023-10-29T19:40:11.610688",
     "exception": false,
     "start_time": "2023-10-29T19:40:10.454081",
     "status": "completed"
    },
    "tags": []
   },
   "outputs": [
    {
     "name": "stdout",
     "output_type": "stream",
     "text": [
      "CPU_COUNT: 24; NODE: amilcar32; sys.version: 3.10.12 | packaged by Anaconda, Inc. | (main, Jul  5 2023, 19:09:20) [MSC v.1916 64 bit (AMD64)]\n",
      "LOKY_MAX_CPU_COUNT is not set.\n",
      "OMP_NUM_THREADS is not set.\n"
     ]
    }
   ],
   "source": [
    "import os\n",
    "import numpy as np\n",
    "import pandas as pd\n",
    "import datetime\n",
    "import sklearn\n",
    "import logging\n",
    "import warnings\n",
    "\n",
    "from sklearn.pipeline import Pipeline\n",
    "from sklearn.model_selection import RandomizedSearchCV, KFold, cross_val_score, train_test_split\n",
    "from sklearn.metrics import accuracy_score, confusion_matrix, classification_report, roc_auc_score\n",
    "\n",
    "#  cargar algoritmos para aprendizaje supervisado\n",
    "from sklearn.feature_selection import SelectKBest, f_classif, SelectFromModel, mutual_info_classif\n",
    "from sklearn.svm import SVC\n",
    "from sklearn.ensemble import RandomForestClassifier\n",
    "from sklearn.linear_model import LogisticRegression,LogisticRegressionCV\n",
    "\n",
    "# importar fichero con utilidades propias\n",
    "from commons import myfunctions as myfunc\n"
   ]
  },
  {
   "cell_type": "markdown",
   "id": "584bc943",
   "metadata": {
    "papermill": {
     "duration": 0.0,
     "end_time": "2023-10-29T19:40:11.610688",
     "exception": false,
     "start_time": "2023-10-29T19:40:11.610688",
     "status": "completed"
    },
    "tags": []
   },
   "source": [
    "#### Parámetros a utilizar en el entrenamiento.\n",
    "\n",
    "Se indican los 3 algoritmos de *selección de características* (eval_selector_xxx) y los 3 algoritmos para la _clasificación_ (eval_clasifier_xxx)\n",
    "\n",
    "En *param_distributions* se indicar los parámetros que utilizan los algoritmos en la función RandomSearchCV.\n",
    "\n",
    "Esta celda tiene la etiqueta **parameters** que servirá para poder lanzar los entrenamientos con la utilidad **papermill** pasándole un fichero con los parámetros. Los nuevos parámetros se situarán tras esta celda para tener prevalencia."
   ]
  },
  {
   "cell_type": "code",
   "execution_count": 2,
   "id": "34989982",
   "metadata": {
    "execution": {
     "iopub.execute_input": "2023-10-29T19:40:11.610688Z",
     "iopub.status.busy": "2023-10-29T19:40:11.610688Z",
     "iopub.status.idle": "2023-10-29T19:40:11.642018Z",
     "shell.execute_reply": "2023-10-29T19:40:11.642018Z"
    },
    "papermill": {
     "duration": 0.03133,
     "end_time": "2023-10-29T19:40:11.642018",
     "exception": false,
     "start_time": "2023-10-29T19:40:11.610688",
     "status": "completed"
    },
    "tags": [
     "parameters"
    ]
   },
   "outputs": [
    {
     "name": "stdout",
     "output_type": "stream",
     "text": [
      "20231029T204011 : amilcar32 : INFO : Utilizando parámetros de mul_m\n"
     ]
    }
   ],
   "source": [
    "#  Parametros para el entrenamiento\n",
    "\n",
    "SEMILLA=        42\n",
    "M_TIPO=         \"mul_m\"\n",
    "M_SELECT=       \"MI\"\n",
    "M_CLASIF=       \"SVM\"\n",
    "R_FICHERO=      \"resultados\"\n",
    "M_FICHERO=      \"metricas\"\n",
    "PRE_DATA_FILE=  \"rows_transpose_norm_by_gene_id_with_target_num_\"\n",
    "SCORING=        \"roc_auc_ovr\" \n",
    "MAX_ITERS=      100\n",
    "\n",
    "def mutual_info_classif_state(X, y):\n",
    "    return mutual_info_classif(X, y, random_state=SEMILLA)\n",
    "\n",
    "eval_selector_mi = \"SelectKBest(score_func=mutual_info_classif_state)\"\n",
    "eval_selector_rf=  \"SelectFromModel(estimator=RandomForestClassifier(random_state=SEMILLA), threshold=-np.inf)\"\n",
    "eval_selector_anova=  \"SelectKBest(score_func=f_classif)\"\n",
    "\n",
    "eval_clasifier_svm= \"SVC(probability=True, random_state=SEMILLA)\"\n",
    "eval_clasifier_rf= \"RandomForestClassifier(random_state=SEMILLA)\"\n",
    "eval_clasifier_lr= \"LogisticRegressionCV(random_state=SEMILLA)\"\n",
    "\n",
    "if M_TIPO.startswith(\"bin_m\"):\n",
    "    myfunc.verbose(f\"Utilizando parámetros de {M_TIPO}\")\n",
    "    eval_selector = eval_selector_mi\n",
    "    eval_clasifier = eval_clasifier_svm\n",
    "\n",
    "    SEMILLA = 6578\n",
    "    M_SELECT = \"MI\"\n",
    "    M_CLASIF = \"SVM\"\n",
    "    param_distributions = {'selector__k': [1000], \n",
    "         'clasifier__kernel': ['rbf'], 'clasifier__gamma': [0.01], 'clasifier__C': [100]}\n",
    "elif M_TIPO.startswith(\"bin_s\"):\n",
    "    myfunc.verbose(f\"Utilizando parámetros de {M_TIPO}\")\n",
    "    eval_selector = eval_selector_rf\n",
    "    eval_clasifier = eval_clasifier_lr\n",
    "\n",
    "    SEMILLA = 6191\n",
    "    M_SELECT = \"RF\"\n",
    "    M_CLASIF = \"LR_L2\"\n",
    "    param_distributions = {'selector__max_features': [1000], 'selector__estimator__n_estimators': [200], \n",
    "        'clasifier__solver': ['lbfgs'], 'clasifier__penalty': ['l2'], 'clasifier__max_iter': [10000]}\n",
    "\n",
    "elif M_TIPO.startswith(\"mul_m\"):\n",
    "    myfunc.verbose(f\"Utilizando parámetros de {M_TIPO}\")\n",
    " \n",
    "    eval_selector = eval_selector_rf\n",
    "    eval_clasifier = eval_clasifier_lr\n",
    "\n",
    "    SEMILLA = 6191\n",
    "    M_SELECT = \"RF\"\n",
    "    M_CLASIF = \"LR_L2\"\n",
    "    param_distributions = {'selector__max_features': [1000], 'selector__estimator__n_estimators': [400], \n",
    "        'clasifier__solver': ['lbfgs'], 'clasifier__penalty': ['l2'], 'clasifier__max_iter': [10000]}\n",
    "\n",
    "else:\n",
    "    # M_TIPO.startswith(\"mul_s\"):\n",
    "    myfunc.verbose(f\"Utilizando parámetros de {M_TIPO}\")\n",
    "    eval_selector = eval_selector_anova\n",
    "    eval_clasifier = eval_clasifier_lr\n",
    "\n",
    "    SEMILLA = 1860\n",
    "    M_SELECT = \"ANOVA\"\n",
    "    M_CLASIF = \"LR_L2\"\n",
    "    param_distributions = {'selector__k': [1000], \n",
    "        'clasifier__solver': ['saga'], 'clasifier__penalty': ['l2'], 'clasifier__max_iter': [10000]}\n",
    "\n"
   ]
  },
  {
   "cell_type": "code",
   "execution_count": 3,
   "id": "179f3600",
   "metadata": {
    "execution": {
     "iopub.execute_input": "2023-10-29T19:40:11.642018Z",
     "iopub.status.busy": "2023-10-29T19:40:11.642018Z",
     "iopub.status.idle": "2023-10-29T19:40:11.657552Z",
     "shell.execute_reply": "2023-10-29T19:40:11.657552Z"
    },
    "papermill": {
     "duration": 0.015534,
     "end_time": "2023-10-29T19:40:11.657552",
     "exception": false,
     "start_time": "2023-10-29T19:40:11.642018",
     "status": "completed"
    },
    "tags": [
     "injected-parameters"
    ]
   },
   "outputs": [],
   "source": [
    "# Parameters\n",
    "M_TIPO = \"bin_s\"\n",
    "M_SELECT = \"ANOVA\"\n",
    "M_CLASIF = \"RF\"\n",
    "P_FICHERO = \"param_0000_1860_bin_s_ANOVA_RF.yaml\"\n",
    "R_FICHERO = \"resultados_1860\"\n",
    "M_FICHERO = \"metricas_1860\"\n",
    "PRE_DATA_FILE = \"rows_transpose_norm_by_gene_id_with_target_num_\"\n",
    "SCORING = \"roc_auc_ovr\"\n",
    "SEMILLA = 1860\n",
    "MAX_ITERS = 500\n",
    "eval_selector = \"SelectKBest(score_func=f_classif)\"\n",
    "eval_clasifier = \"RandomForestClassifier(random_state=SEMILLA)\"\n",
    "param_distributions = {\n",
    "    \"selector__k\": [150],\n",
    "    \"clasifier__n_estimators\": [50],\n",
    "    \"clasifier__min_samples_split\": [20],\n",
    "    \"clasifier__min_samples_leaf\": [5],\n",
    "    \"clasifier__max_features\": [\"sqrt\"],\n",
    "    \"clasifier__max_depth\": [\"None\"],\n",
    "    \"clasifier__bootstrap\": [True],\n",
    "}\n"
   ]
  },
  {
   "cell_type": "code",
   "execution_count": 4,
   "id": "c77b2f16",
   "metadata": {
    "execution": {
     "iopub.execute_input": "2023-10-29T19:40:11.657552Z",
     "iopub.status.busy": "2023-10-29T19:40:11.657552Z",
     "iopub.status.idle": "2023-10-29T19:40:11.673190Z",
     "shell.execute_reply": "2023-10-29T19:40:11.673190Z"
    },
    "papermill": {
     "duration": 0.015638,
     "end_time": "2023-10-29T19:40:11.673190",
     "exception": false,
     "start_time": "2023-10-29T19:40:11.657552",
     "status": "completed"
    },
    "tags": []
   },
   "outputs": [],
   "source": [
    "DATA_FILE = PRE_DATA_FILE + M_TIPO\n",
    "\n",
    "# si viene \"None\" en el parámetro max_depth, se le quitan las comillas para que no sea entendido por el algoritmo como un texto\n",
    "if \"clasifier__max_depth\" in param_distributions:\n",
    "    param_distributions['clasifier__max_depth'] = [None if x == 'None' else x for x in param_distributions['clasifier__max_depth']]"
   ]
  },
  {
   "cell_type": "markdown",
   "id": "b83d7d0f",
   "metadata": {
    "papermill": {
     "duration": 0.0,
     "end_time": "2023-10-29T19:40:11.673190",
     "exception": false,
     "start_time": "2023-10-29T19:40:11.673190",
     "status": "completed"
    },
    "tags": []
   },
   "source": [
    "Asignar los algoritmos que se utilizarán en la función RandomSearchCV"
   ]
  },
  {
   "cell_type": "code",
   "execution_count": 5,
   "id": "7a19798b",
   "metadata": {
    "execution": {
     "iopub.execute_input": "2023-10-29T19:40:11.688804Z",
     "iopub.status.busy": "2023-10-29T19:40:11.688804Z",
     "iopub.status.idle": "2023-10-29T19:40:11.705003Z",
     "shell.execute_reply": "2023-10-29T19:40:11.705003Z"
    },
    "papermill": {
     "duration": 0.031813,
     "end_time": "2023-10-29T19:40:11.705003",
     "exception": false,
     "start_time": "2023-10-29T19:40:11.673190",
     "status": "completed"
    },
    "tags": []
   },
   "outputs": [],
   "source": [
    "algor_selector=eval(eval_selector)\n",
    "algor_clasifier=eval(eval_clasifier)"
   ]
  },
  {
   "cell_type": "markdown",
   "id": "718f9d3b",
   "metadata": {
    "papermill": {
     "duration": 0.0,
     "end_time": "2023-10-29T19:40:11.705003",
     "exception": false,
     "start_time": "2023-10-29T19:40:11.705003",
     "status": "completed"
    },
    "tags": []
   },
   "source": [
    "#### Comprobar el entorno y leer fichero de muestras"
   ]
  },
  {
   "cell_type": "code",
   "execution_count": 6,
   "id": "4b1cca0a",
   "metadata": {
    "execution": {
     "iopub.execute_input": "2023-10-29T19:40:11.720728Z",
     "iopub.status.busy": "2023-10-29T19:40:11.720728Z",
     "iopub.status.idle": "2023-10-29T19:40:11.892722Z",
     "shell.execute_reply": "2023-10-29T19:40:11.892722Z"
    },
    "papermill": {
     "duration": 0.187719,
     "end_time": "2023-10-29T19:40:11.892722",
     "exception": false,
     "start_time": "2023-10-29T19:40:11.705003",
     "status": "completed"
    },
    "tags": []
   },
   "outputs": [
    {
     "name": "stdout",
     "output_type": "stream",
     "text": [
      "20231029T204011 : amilcar32 : INFO : Encontrada carpeta DATA_DIR=..\\tfm_viu\\datos\n",
      "20231029T204011 : amilcar32 : INFO : Encontrada carpeta CFDNA_DIR=..\\tfm_viu\\datos\\cfDNA_5hmC\n",
      "20231029T204011 : amilcar32 : INFO : Encontrada carpeta GENCODE_DIR=..\\tfm_viu\\datos\\gencode\n",
      "20231029T204011 : amilcar32 : INFO : Encontrada carpeta H5_DIR=..\\tfm_viu\\datos\\h5\n",
      "20231029T204011 : amilcar32 : INFO : Encontrada carpeta LOG_DIR=..\\tfm_viu\\datos\\logs\n",
      "20231029T204011 : amilcar32 : INFO : Encontrada carpeta CSV_DIR=..\\tfm_viu\\datos\\csv\n",
      "20231029T204011 : amilcar32 : INFO : Encontrada carpeta MODEL_DIR=..\\tfm_viu\\ejecuciones\\modelos\n",
      "20231029T204011 : amilcar32 : INFO : Encontrada carpeta EXEC_DIR=..\\tfm_viu\\ejecuciones\n",
      "20231029T204011 : amilcar32 : INFO : Encontrada carpeta MET_DIR=..\\tfm_viu\\ejecuciones\\metricas\n",
      "20231029T204011 : amilcar32 : INFO : Inicio leer fichero h5 ..\\tfm_viu\\datos\\h5\\rows_transpose_norm_by_gene_id_with_target_num_bin_s.h5\n",
      "20231029T204011 : amilcar32 : INFO : Leyendo clave /df\n"
     ]
    },
    {
     "name": "stdout",
     "output_type": "stream",
     "text": [
      "20231029T204011 : amilcar32 : INFO : Tamaño (443, 18876)\n",
      "20231029T204011 : amilcar32 : INFO : Fin leer fichero h5 ..\\tfm_viu\\datos\\h5\\rows_transpose_norm_by_gene_id_with_target_num_bin_s.h5\n"
     ]
    },
    {
     "data": {
      "text/plain": [
       "target\n",
       "0    221\n",
       "1    222\n",
       "dtype: int64"
      ]
     },
     "metadata": {},
     "output_type": "display_data"
    },
    {
     "name": "stdout",
     "output_type": "stream",
     "text": [
      "Shape df: (443, 18876)\n",
      "Shape X_train: (354, 18875)\n",
      "Shape X_test: (89, 18875)\n"
     ]
    }
   ],
   "source": [
    "start_time = datetime.datetime.now()\n",
    "\n",
    "myfunc.reset_vars()\n",
    "\n",
    "myfunc.NOTEBK_FILENAME = myfunc.get_nb_name()\n",
    "\n",
    "myfunc.check_enviroment(myfunc.DATA_DIR, myfunc.CFDNA_DIR, myfunc.GENCODE_DIR, myfunc.H5_DIR, myfunc.LOG_DIR, myfunc.CSV_DIR, myfunc.MODEL_DIR, myfunc.EXEC_DIR, myfunc.MET_DIR)\n",
    "\n",
    "# Leer fichero con las muestras\n",
    "df_t = myfunc.read_h5_to_df(DATA_FILE, myfunc.H5_DIR)\n",
    "display(df_t.groupby(\"target\").size())\n",
    "print(\"Shape df:\",df_t.shape)\n",
    "\n",
    "# Separar caracteristicas/genes de las etiquetas/tipos de cáncer\n",
    "X = df_t.iloc[:, :-1]  # Todas las columnas excepto la última\n",
    "y = df_t.iloc[:, -1]  # La última columna contiene los identificadores de los tipos de cáncer\n",
    "\n",
    "#  Crear el conjunto de datos de entrenamiento y de pruebas, y se fija la semilla para siempre coger el mismo juego de muestras\n",
    "X_train, X_test, y_train, y_test = train_test_split(X, y, test_size=0.2, shuffle=True, random_state=42)\n",
    "print(\"Shape X_train:\",X_train.shape)\n",
    "print(\"Shape X_test:\",X_test.shape)\n"
   ]
  },
  {
   "cell_type": "markdown",
   "id": "4a7d789e",
   "metadata": {
    "papermill": {
     "duration": 0.0,
     "end_time": "2023-10-29T19:40:11.892722",
     "exception": false,
     "start_time": "2023-10-29T19:40:11.892722",
     "status": "completed"
    },
    "tags": []
   },
   "source": [
    "#### Selección de características y clasificación."
   ]
  },
  {
   "cell_type": "code",
   "execution_count": 7,
   "id": "2dc5b07d",
   "metadata": {
    "execution": {
     "iopub.execute_input": "2023-10-29T19:40:11.908287Z",
     "iopub.status.busy": "2023-10-29T19:40:11.908287Z",
     "iopub.status.idle": "2023-10-29T19:40:14.003588Z",
     "shell.execute_reply": "2023-10-29T19:40:14.003588Z"
    },
    "papermill": {
     "duration": 2.110866,
     "end_time": "2023-10-29T19:40:14.003588",
     "exception": false,
     "start_time": "2023-10-29T19:40:11.892722",
     "status": "completed"
    },
    "tags": []
   },
   "outputs": [
    {
     "name": "stdout",
     "output_type": "stream",
     "text": [
      "20231029T204011 : amilcar32 : INFO : Iniciando entrenamiento\n",
      "num_iter: 1 , max_iter: 1\n",
      "Fitting 5 folds for each of 1 candidates, totalling 5 fits\n"
     ]
    },
    {
     "name": "stderr",
     "output_type": "stream",
     "text": [
      "C:\\Users\\viu\\miniconda3\\lib\\site-packages\\sklearn\\feature_selection\\_univariate_selection.py:112: UserWarning: Features [ 2222  2265  2266  2803  3492  5668  5803  6053  8314  8510  9490 11021\n",
      " 11565 11613 11943 12249 12831 13235 13836 14000 14245 14789 15515 15824\n",
      " 15881 16018 16262 16267 16268 16313 16630 16679 16701 16906 16968 17047\n",
      " 17091 17231 17264 17274 17300 17312 18421 18608 18868] are constant.\n",
      "  warnings.warn(\"Features %s are constant.\" % constant_features_idx, UserWarning)\n",
      "C:\\Users\\viu\\miniconda3\\lib\\site-packages\\sklearn\\feature_selection\\_univariate_selection.py:113: RuntimeWarning: invalid value encountered in divide\n",
      "  f = msb / msw\n"
     ]
    },
    {
     "name": "stdout",
     "output_type": "stream",
     "text": [
      "Mejores Hiperparámetros: {'selector__k': 150, 'clasifier__n_estimators': 50, 'clasifier__min_samples_split': 20, 'clasifier__min_samples_leaf': 5, 'clasifier__max_features': 'sqrt', 'clasifier__max_depth': None, 'clasifier__bootstrap': True}\n",
      "Mejor Puntuación: 0.6815\n",
      "20231029T204013 : amilcar32 : INFO : Fin entrenamiento\n"
     ]
    }
   ],
   "source": [
    "myfunc.verbose(\"Iniciando entrenamiento\")\n",
    "\n",
    "kf = KFold(n_splits=5, shuffle=True, random_state=SEMILLA)\n",
    "\n",
    "# Crear el pipeline para el flujo de tareas\n",
    "tasks_pipeline = Pipeline([\n",
    "    ('selector', algor_selector),\n",
    "    ('clasifier', algor_clasifier)\n",
    "])\n",
    "\n",
    "# MAX_ITERS puede limitar el número de iteraciones si son excesivas para las combinaciones de parámetros buscando un óptimo local, \n",
    "# sino funcionaría como GridSearchCV al revisar todas las cominaciones de los parámetros\n",
    "num_iteraciones = 1\n",
    "num_iteraciones = num_iteraciones * np.prod([len(elemento1) for _, elemento1 in param_distributions.items()])\n",
    "max_iteraciones = num_iteraciones if num_iteraciones <= MAX_ITERS else MAX_ITERS\n",
    "print(\"num_iter:\",num_iteraciones,\", max_iter:\",max_iteraciones)\n",
    "\n",
    "random_search = RandomizedSearchCV(\n",
    "    tasks_pipeline, \n",
    "    param_distributions, \n",
    "    n_iter=max_iteraciones,\n",
    "    scoring=SCORING,\n",
    "    cv=kf,\n",
    "    verbose=3, \n",
    "    random_state=SEMILLA, \n",
    "    n_jobs=-1\n",
    "    )\n",
    "\n",
    "# Entrenar el modelo\n",
    "random_search.fit(X_train, y_train)\n",
    "\n",
    "# Ver los mejores hiperparámetros encontrados\n",
    "print(f'Mejores Hiperparámetros: {random_search.best_params_}')\n",
    "print(f'Mejor Puntuación: {random_search.best_score_:.4f}')\n",
    "\n",
    "# Nos quedamos con el mejor modelo para ver las métricas\n",
    "mejor_modelo = random_search.best_estimator_\n",
    "\n",
    "myfunc.verbose(\"Fin entrenamiento\")"
   ]
  },
  {
   "cell_type": "markdown",
   "id": "798b5a03",
   "metadata": {
    "papermill": {
     "duration": 0.0,
     "end_time": "2023-10-29T19:40:14.003588",
     "exception": false,
     "start_time": "2023-10-29T19:40:14.003588",
     "status": "completed"
    },
    "tags": []
   },
   "source": [
    "#### Guardar modelo"
   ]
  },
  {
   "cell_type": "code",
   "execution_count": 8,
   "id": "d3a261b0",
   "metadata": {
    "execution": {
     "iopub.execute_input": "2023-10-29T19:40:14.019206Z",
     "iopub.status.busy": "2023-10-29T19:40:14.019206Z",
     "iopub.status.idle": "2023-10-29T19:40:14.050588Z",
     "shell.execute_reply": "2023-10-29T19:40:14.050588Z"
    },
    "papermill": {
     "duration": 0.031382,
     "end_time": "2023-10-29T19:40:14.050588",
     "exception": false,
     "start_time": "2023-10-29T19:40:14.019206",
     "status": "completed"
    },
    "tags": []
   },
   "outputs": [
    {
     "name": "stdout",
     "output_type": "stream",
     "text": [
      "20231029T204014 : amilcar32 : INFO : Inicio guardar fichero ..\\tfm_viu\\ejecuciones\\modelos\\modelo_1860_bin_s_ANOVA_RF.pkl\n",
      "20231029T204014 : amilcar32 : INFO : Fin guardar fichero ..\\tfm_viu\\ejecuciones\\modelos\\modelo_1860_bin_s_ANOVA_RF.pkl\n"
     ]
    }
   ],
   "source": [
    "fichero_modelo = str.replace(\"modelo_\"+str(SEMILLA).zfill(4)+\"_\"+M_TIPO+\"_\"+M_SELECT+\"_\"+M_CLASIF+\".pkl\", \" \", \"_\")\n",
    "\n",
    "myfunc.save_modelo(mejor_modelo, myfunc.MODEL_DIR, fichero_modelo)"
   ]
  },
  {
   "cell_type": "markdown",
   "id": "0bb277bd",
   "metadata": {
    "papermill": {
     "duration": 0.0,
     "end_time": "2023-10-29T19:40:14.050588",
     "exception": false,
     "start_time": "2023-10-29T19:40:14.050588",
     "status": "completed"
    },
    "tags": []
   },
   "source": [
    "#### Ver resultados del las iteraciones hechas por RandomSearchCV"
   ]
  },
  {
   "cell_type": "code",
   "execution_count": 9,
   "id": "9ac285cf",
   "metadata": {
    "execution": {
     "iopub.execute_input": "2023-10-29T19:40:14.066082Z",
     "iopub.status.busy": "2023-10-29T19:40:14.066082Z",
     "iopub.status.idle": "2023-10-29T19:40:14.081648Z",
     "shell.execute_reply": "2023-10-29T19:40:14.081648Z"
    },
    "papermill": {
     "duration": 0.015566,
     "end_time": "2023-10-29T19:40:14.081648",
     "exception": false,
     "start_time": "2023-10-29T19:40:14.066082",
     "status": "completed"
    },
    "tags": []
   },
   "outputs": [
    {
     "name": "stdout",
     "output_type": "stream",
     "text": [
      "20231029T204014 : amilcar32 : INFO : Inicio ver resultados\n",
      "Mejores Hiperparámetros: {'selector__k': 150, 'clasifier__n_estimators': 50, 'clasifier__min_samples_split': 20, 'clasifier__min_samples_leaf': 5, 'clasifier__max_features': 'sqrt', 'clasifier__max_depth': None, 'clasifier__bootstrap': True}\n",
      "Mejores puntuaciones: 0.6815 | Params: {'selector__k': 150, 'clasifier__n_estimators': 50, 'clasifier__min_samples_split': 20, 'clasifier__min_samples_leaf': 5, 'clasifier__max_features': 'sqrt', 'clasifier__max_depth': None, 'clasifier__bootstrap': True}\n",
      "Media de las puntuaciones: 0.6815 | Params: {'selector__k': 150, 'clasifier__n_estimators': 50, 'clasifier__min_samples_split': 20, 'clasifier__min_samples_leaf': 5, 'clasifier__max_features': 'sqrt', 'clasifier__max_depth': None, 'clasifier__bootstrap': True}\n",
      "20231029T204014 : amilcar32 : INFO : Fin resultados\n"
     ]
    }
   ],
   "source": [
    "myfunc.ver_resultados_search(random_search)"
   ]
  },
  {
   "cell_type": "markdown",
   "id": "5c8156ac",
   "metadata": {
    "papermill": {
     "duration": 0.0,
     "end_time": "2023-10-29T19:40:14.081648",
     "exception": false,
     "start_time": "2023-10-29T19:40:14.081648",
     "status": "completed"
    },
    "tags": []
   },
   "source": [
    "#### Ver métricas del mejor modelo"
   ]
  },
  {
   "cell_type": "code",
   "execution_count": 10,
   "id": "7de6e29f",
   "metadata": {
    "execution": {
     "iopub.execute_input": "2023-10-29T19:40:14.097308Z",
     "iopub.status.busy": "2023-10-29T19:40:14.097308Z",
     "iopub.status.idle": "2023-10-29T19:40:14.441088Z",
     "shell.execute_reply": "2023-10-29T19:40:14.441088Z"
    },
    "papermill": {
     "duration": 0.35944,
     "end_time": "2023-10-29T19:40:14.441088",
     "exception": false,
     "start_time": "2023-10-29T19:40:14.081648",
     "status": "completed"
    },
    "tags": []
   },
   "outputs": [
    {
     "name": "stdout",
     "output_type": "stream",
     "text": [
      "20231029T204014 : amilcar32 : INFO : Inicio ver métricas\n"
     ]
    },
    {
     "name": "stdout",
     "output_type": "stream",
     "text": [
      "              precision    recall  f1-score   support\n",
      "\n",
      "           0       0.62      0.67      0.65        46\n",
      "           1       0.62      0.56      0.59        43\n",
      "\n",
      "    accuracy                           0.62        89\n",
      "   macro avg       0.62      0.62      0.62        89\n",
      "weighted avg       0.62      0.62      0.62        89\n",
      "\n",
      "\n",
      "\n",
      "   Exactitud: 0.6180\n",
      "   Precisión: 0.6177\n",
      "Sensibilidad: 0.6160\n",
      "    F1-score: 0.6156\n",
      "     AUC ROC: 0.6800\n"
     ]
    },
    {
     "data": {
      "image/png": "[encoded data removed]",
      "text/plain": [
       "<Figure size 300x100 with 2 Axes>"
      ]
     },
     "metadata": {},
     "output_type": "display_data"
    },
    {
     "data": {
      "image/png": "[encoded data removed]",
      "text/plain": [
       "<Figure size 800x500 with 1 Axes>"
      ]
     },
     "metadata": {},
     "output_type": "display_data"
    },
    {
     "name": "stdout",
     "output_type": "stream",
     "text": [
      "20231029T204014 : amilcar32 : INFO : Fin ver métricas\n"
     ]
    }
   ],
   "source": [
    "if M_TIPO.startswith(\"bin\"):\n",
    "    myfunc.ver_metricas(mejor_modelo, X_test, y_test)\n",
    "else:\n",
    "    myfunc.ver_metricas_multi(mejor_modelo, X_test, y_test)\n"
   ]
  },
  {
   "cell_type": "markdown",
   "id": "26bc338b",
   "metadata": {
    "papermill": {
     "duration": 0.0,
     "end_time": "2023-10-29T19:40:14.441088",
     "exception": false,
     "start_time": "2023-10-29T19:40:14.441088",
     "status": "completed"
    },
    "tags": []
   },
   "source": [
    "#### Finalización del notebook"
   ]
  },
  {
   "cell_type": "code",
   "execution_count": 11,
   "id": "9be004d9",
   "metadata": {
    "execution": {
     "iopub.execute_input": "2023-10-29T19:40:14.456709Z",
     "iopub.status.busy": "2023-10-29T19:40:14.456709Z",
     "iopub.status.idle": "2023-10-29T19:40:14.472348Z",
     "shell.execute_reply": "2023-10-29T19:40:14.472348Z"
    },
    "papermill": {
     "duration": 0.03126,
     "end_time": "2023-10-29T19:40:14.472348",
     "exception": false,
     "start_time": "2023-10-29T19:40:14.441088",
     "status": "completed"
    },
    "tags": []
   },
   "outputs": [
    {
     "name": "stdout",
     "output_type": "stream",
     "text": [
      "20231029T204014 : amilcar32 : INFO : Notebook ha tardado 2 seconds\n"
     ]
    }
   ],
   "source": [
    "end_time = datetime.datetime.now()\n",
    "total_time = end_time - start_time\n",
    "myfunc.verbose(f\"Notebook ha tardado {total_time.seconds} seconds\")"
   ]
  },
  {
   "cell_type": "markdown",
   "id": "ad11f92e",
   "metadata": {
    "papermill": {
     "duration": 0.0,
     "end_time": "2023-10-29T19:40:14.472348",
     "exception": false,
     "start_time": "2023-10-29T19:40:14.472348",
     "status": "completed"
    },
    "tags": []
   },
   "source": [
    "#### Guardar métricas"
   ]
  },
  {
   "cell_type": "code",
   "execution_count": 12,
   "id": "f8b0d3a8",
   "metadata": {
    "execution": {
     "iopub.execute_input": "2023-10-29T19:40:14.487964Z",
     "iopub.status.busy": "2023-10-29T19:40:14.487964Z",
     "iopub.status.idle": "2023-10-29T19:40:14.925383Z",
     "shell.execute_reply": "2023-10-29T19:40:14.925383Z"
    },
    "papermill": {
     "duration": 0.437419,
     "end_time": "2023-10-29T19:40:14.925383",
     "exception": false,
     "start_time": "2023-10-29T19:40:14.487964",
     "status": "completed"
    },
    "tags": []
   },
   "outputs": [
    {
     "name": "stdout",
     "output_type": "stream",
     "text": [
      "20231029T204014 : amilcar32 : INFO : Inicio guardar métricas\n",
      "20231029T204014 : amilcar32 : INFO : Inicio leer fichero ..\\tfm_viu\\ejecuciones\\metricas\\metricas_1860.csv\n",
      "20231029T204014 : amilcar32 : INFO : Fin leer fichero ..\\tfm_viu\\ejecuciones\\metricas\\metricas_1860.csv\n"
     ]
    },
    {
     "name": "stdout",
     "output_type": "stream",
     "text": [
      "20231029T204014 : amilcar32 : INFO : Inicio guardar fichero ..\\tfm_viu\\ejecuciones\\metricas\\metricas_1860.csv\n"
     ]
    },
    {
     "name": "stdout",
     "output_type": "stream",
     "text": [
      "20231029T204014 : amilcar32 : INFO : Fichero borrado ..\\tfm_viu\\ejecuciones\\metricas\\metricas_1860.csv\n",
      "20231029T204014 : amilcar32 : INFO : Fin guardar fichero ..\\tfm_viu\\ejecuciones\\metricas\\metricas_1860.csv\n",
      "20231029T204014 : amilcar32 : INFO : Fin guardar métricas\n",
      "20231029T204014 : amilcar32 : INFO : Inicio leer fichero ..\\tfm_viu\\ejecuciones\\metricas\\metricas_1860.csv\n",
      "20231029T204014 : amilcar32 : INFO : Fin leer fichero ..\\tfm_viu\\ejecuciones\\metricas\\metricas_1860.csv\n"
     ]
    },
    {
     "data": {
      "text/html": [
       "<div>\n",
       "<style scoped>\n",
       "    .dataframe tbody tr th:only-of-type {\n",
       "        vertical-align: middle;\n",
       "    }\n",
       "\n",
       "    .dataframe tbody tr th {\n",
       "        vertical-align: top;\n",
       "    }\n",
       "\n",
       "    .dataframe thead th {\n",
       "        text-align: right;\n",
       "    }\n",
       "</style>\n",
       "<table border=\"1\" class=\"dataframe\">\n",
       "  <thead>\n",
       "    <tr style=\"text-align: right;\">\n",
       "      <th></th>\n",
       "      <th>tipo</th>\n",
       "      <th>select</th>\n",
       "      <th>clasific</th>\n",
       "      <th>semilla</th>\n",
       "      <th>accuracy</th>\n",
       "      <th>precision</th>\n",
       "      <th>recall</th>\n",
       "      <th>f1_score</th>\n",
       "      <th>roc_auc</th>\n",
       "      <th>hostname</th>\n",
       "      <th>total_time_sec</th>\n",
       "      <th>datetime</th>\n",
       "      <th>fichero_modelo</th>\n",
       "      <th>params</th>\n",
       "      <th>shape</th>\n",
       "      <th>features</th>\n",
       "    </tr>\n",
       "  </thead>\n",
       "  <tbody>\n",
       "    <tr>\n",
       "      <th>0</th>\n",
       "      <td>bin_s</td>\n",
       "      <td>ANOVA</td>\n",
       "      <td>RF</td>\n",
       "      <td>1860</td>\n",
       "      <td>0.617978</td>\n",
       "      <td>0.617692</td>\n",
       "      <td>0.616026</td>\n",
       "      <td>0.615600</td>\n",
       "      <td>0.679980</td>\n",
       "      <td>amilcar32</td>\n",
       "      <td>2</td>\n",
       "      <td>2023-10-29 20:40:14.628588</td>\n",
       "      <td>modelo_1860_bin_s_ANOVA_RF.pkl</td>\n",
       "      <td>{'selector__k': 150, 'clasifier__n_estimators'...</td>\n",
       "      <td>X_test:(89, 18875)</td>\n",
       "      <td>['ENSG00000000971.17', 'ENSG00000002587.10', '...</td>\n",
       "    </tr>\n",
       "    <tr>\n",
       "      <th>0</th>\n",
       "      <td>bin_s</td>\n",
       "      <td>ANOVA</td>\n",
       "      <td>LR_L2</td>\n",
       "      <td>1860</td>\n",
       "      <td>0.752809</td>\n",
       "      <td>0.757277</td>\n",
       "      <td>0.750253</td>\n",
       "      <td>0.750255</td>\n",
       "      <td>0.800303</td>\n",
       "      <td>amilcar32</td>\n",
       "      <td>4</td>\n",
       "      <td>2023-10-29 20:40:07.185507</td>\n",
       "      <td>modelo_1860_bin_s_ANOVA_LR_L2.pkl</td>\n",
       "      <td>{'selector__k': 1000, 'clasifier__solver': 'lb...</td>\n",
       "      <td>X_test:(89, 18875)</td>\n",
       "      <td>['ENSG00000000938.13', 'ENSG00000000971.17', '...</td>\n",
       "    </tr>\n",
       "    <tr>\n",
       "      <th>0</th>\n",
       "      <td>bin_s</td>\n",
       "      <td>ANOVA</td>\n",
       "      <td>LR_L1</td>\n",
       "      <td>1860</td>\n",
       "      <td>0.674157</td>\n",
       "      <td>0.675439</td>\n",
       "      <td>0.671891</td>\n",
       "      <td>0.671503</td>\n",
       "      <td>0.770475</td>\n",
       "      <td>amilcar32</td>\n",
       "      <td>129</td>\n",
       "      <td>2023-10-29 20:39:56.803472</td>\n",
       "      <td>modelo_1860_bin_s_ANOVA_LR_L1.pkl</td>\n",
       "      <td>{'selector__k': 200, 'clasifier__solver': 'sag...</td>\n",
       "      <td>X_test:(89, 18875)</td>\n",
       "      <td>['ENSG00000000971.17', 'ENSG00000002587.10', '...</td>\n",
       "    </tr>\n",
       "  </tbody>\n",
       "</table>\n",
       "</div>"
      ],
      "text/plain": [
       "    tipo select clasific  semilla  accuracy  precision    recall  f1_score  \\\n",
       "0  bin_s  ANOVA       RF     1860  0.617978   0.617692  0.616026  0.615600   \n",
       "0  bin_s  ANOVA    LR_L2     1860  0.752809   0.757277  0.750253  0.750255   \n",
       "0  bin_s  ANOVA    LR_L1     1860  0.674157   0.675439  0.671891  0.671503   \n",
       "\n",
       "    roc_auc   hostname  total_time_sec                    datetime  \\\n",
       "0  0.679980  amilcar32               2  2023-10-29 20:40:14.628588   \n",
       "0  0.800303  amilcar32               4  2023-10-29 20:40:07.185507   \n",
       "0  0.770475  amilcar32             129  2023-10-29 20:39:56.803472   \n",
       "\n",
       "                      fichero_modelo  \\\n",
       "0     modelo_1860_bin_s_ANOVA_RF.pkl   \n",
       "0  modelo_1860_bin_s_ANOVA_LR_L2.pkl   \n",
       "0  modelo_1860_bin_s_ANOVA_LR_L1.pkl   \n",
       "\n",
       "                                              params               shape  \\\n",
       "0  {'selector__k': 150, 'clasifier__n_estimators'...  X_test:(89, 18875)   \n",
       "0  {'selector__k': 1000, 'clasifier__solver': 'lb...  X_test:(89, 18875)   \n",
       "0  {'selector__k': 200, 'clasifier__solver': 'sag...  X_test:(89, 18875)   \n",
       "\n",
       "                                            features  \n",
       "0  ['ENSG00000000971.17', 'ENSG00000002587.10', '...  \n",
       "0  ['ENSG00000000938.13', 'ENSG00000000971.17', '...  \n",
       "0  ['ENSG00000000971.17', 'ENSG00000002587.10', '...  "
      ]
     },
     "metadata": {},
     "output_type": "display_data"
    }
   ],
   "source": [
    "if M_TIPO.startswith(\"bin\"):\n",
    "    myfunc.save_metricas_to_csv(random_search, X_test, y_test, M_TIPO, M_SELECT, M_CLASIF, total_time, SEMILLA, myfunc.MET_DIR, M_FICHERO, fichero_modelo)\n",
    "else:\n",
    "    myfunc.save_metricas_multi_to_csv(random_search, X_test, y_test, M_TIPO, M_SELECT, M_CLASIF, total_time, SEMILLA, myfunc.MET_DIR, M_FICHERO, fichero_modelo)\n",
    "\n",
    "df1=myfunc.read_metricas_to_df(myfunc.MET_DIR,M_FICHERO)\n",
    "\n",
    "display(df1.sort_values(\"datetime\", ascending=False)[:3])\n"
   ]
  },
  {
   "cell_type": "markdown",
   "id": "4478bc85",
   "metadata": {
    "papermill": {
     "duration": 0.0,
     "end_time": "2023-10-29T19:40:14.925383",
     "exception": false,
     "start_time": "2023-10-29T19:40:14.925383",
     "status": "completed"
    },
    "tags": []
   },
   "source": [
    "#### Guardar resultados"
   ]
  },
  {
   "cell_type": "code",
   "execution_count": 13,
   "id": "a6f2b461",
   "metadata": {
    "execution": {
     "iopub.execute_input": "2023-10-29T19:40:14.941011Z",
     "iopub.status.busy": "2023-10-29T19:40:14.941011Z",
     "iopub.status.idle": "2023-10-29T19:40:14.956680Z",
     "shell.execute_reply": "2023-10-29T19:40:14.956680Z"
    },
    "papermill": {
     "duration": 0.015669,
     "end_time": "2023-10-29T19:40:14.956680",
     "exception": false,
     "start_time": "2023-10-29T19:40:14.941011",
     "status": "completed"
    },
    "tags": []
   },
   "outputs": [
    {
     "name": "stdout",
     "output_type": "stream",
     "text": [
      "20231029T204014 : amilcar32 : INFO : Inicio guardar resultados\n",
      "20231029T204014 : amilcar32 : INFO : Inicio guardar fichero ..\\tfm_viu\\ejecuciones\\metricas\\resultados_1860_bin_s-ANOVA-RF.csv\n",
      "20231029T204014 : amilcar32 : INFO : Fin guardar fichero ..\\tfm_viu\\ejecuciones\\metricas\\resultados_1860_bin_s-ANOVA-RF.csv\n",
      "20231029T204014 : amilcar32 : INFO : Fin guardar resultados\n"
     ]
    }
   ],
   "source": [
    "fichero_resultados=R_FICHERO+\"_\"+M_TIPO+\"-\"+M_SELECT+\"-\"+M_CLASIF+\".csv\"\n",
    "myfunc.save_resultados_to_csv(M_TIPO, M_SELECT, M_CLASIF,  random_search, myfunc.MET_DIR, fichero_resultados)\n"
   ]
  }
 ],
 "metadata": {
  "kernelspec": {
   "display_name": "Python 3 (ipykernel)",
   "language": "python",
   "name": "python3"
  },
  "language_info": {
   "codemirror_mode": {
    "name": "ipython",
    "version": 3
   },
   "file_extension": ".py",
   "mimetype": "text/x-python",
   "name": "python",
   "nbconvert_exporter": "python",
   "pygments_lexer": "ipython3",
   "version": "3.10.12"
  },
  "papermill": {
   "default_parameters": {},
   "duration": 6.772605,
   "end_time": "2023-10-29T19:40:15.411166",
   "environment_variables": {},
   "exception": null,
   "input_path": "03_entrenamiento.ipynb",
   "output_path": "ejecuciones\\training\\03_entrenamiento.20231029T204007.param_0000_1860_bin_s_ANOVA_RF.output.ipynb",
   "parameters": {
    "MAX_ITERS": 500,
    "M_CLASIF": "RF",
    "M_FICHERO": "metricas_1860",
    "M_SELECT": "ANOVA",
    "M_TIPO": "bin_s",
    "PRE_DATA_FILE": "rows_transpose_norm_by_gene_id_with_target_num_",
    "P_FICHERO": "param_0000_1860_bin_s_ANOVA_RF.yaml",
    "R_FICHERO": "resultados_1860",
    "SCORING": "roc_auc_ovr",
    "SEMILLA": 1860,
    "eval_clasifier": "RandomForestClassifier(random_state=SEMILLA)",
    "eval_selector": "SelectKBest(score_func=f_classif)",
    "param_distributions": {
     "clasifier__bootstrap": [
      true
     ],
     "clasifier__max_depth": [
      "None"
     ],
     "clasifier__max_features": [
      "sqrt"
     ],
     "clasifier__min_samples_leaf": [
      5
     ],
     "clasifier__min_samples_split": [
      20
     ],
     "clasifier__n_estimators": [
      50
     ],
     "selector__k": [
      150
     ]
    }
   },
   "start_time": "2023-10-29T19:40:08.638561",
   "version": "2.4.0"
  }
 },
 "nbformat": 4,
 "nbformat_minor": 5
}