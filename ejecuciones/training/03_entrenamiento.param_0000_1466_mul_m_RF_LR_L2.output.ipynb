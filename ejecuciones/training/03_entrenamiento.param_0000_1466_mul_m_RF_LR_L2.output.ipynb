{
 "cells": [
  {
   "cell_type": "markdown",
   "id": "9a925f0a",
   "metadata": {
    "papermill": {
     "duration": 0.004298,
     "end_time": "2023-10-30T02:30:54.483568",
     "exception": false,
     "start_time": "2023-10-30T02:30:54.479270",
     "status": "completed"
    },
    "tags": []
   },
   "source": [
    "##### Inicio"
   ]
  },
  {
   "cell_type": "markdown",
   "id": "783ff285",
   "metadata": {
    "papermill": {
     "duration": 0.003462,
     "end_time": "2023-10-30T02:30:54.490785",
     "exception": false,
     "start_time": "2023-10-30T02:30:54.487323",
     "status": "completed"
    },
    "tags": []
   },
   "source": [
    "#### Carga de datos"
   ]
  },
  {
   "cell_type": "code",
   "execution_count": 1,
   "id": "2a40379e",
   "metadata": {
    "execution": {
     "iopub.execute_input": "2023-10-30T02:30:54.499149Z",
     "iopub.status.busy": "2023-10-30T02:30:54.498910Z",
     "iopub.status.idle": "2023-10-30T02:30:55.364217Z",
     "shell.execute_reply": "2023-10-30T02:30:55.363687Z"
    },
    "papermill": {
     "duration": 0.871116,
     "end_time": "2023-10-30T02:30:55.365468",
     "exception": false,
     "start_time": "2023-10-30T02:30:54.494352",
     "status": "completed"
    },
    "tags": []
   },
   "outputs": [
    {
     "name": "stdout",
     "output_type": "stream",
     "text": [
      "CPU_COUNT: 8; NODE: amilcar22; sys.version: 3.10.12 (main, Jul  5 2023, 19:22:19) [GCC 11.2.0]\n",
      "LOKY_MAX_CPU_COUNT: 6\n",
      "OMP_NUM_THREADS: 2\n"
     ]
    }
   ],
   "source": [
    "import os\n",
    "import numpy as np\n",
    "import pandas as pd\n",
    "import datetime\n",
    "import sklearn\n",
    "import logging\n",
    "import warnings\n",
    "\n",
    "from sklearn.pipeline import Pipeline\n",
    "from sklearn.model_selection import RandomizedSearchCV, KFold, cross_val_score, train_test_split\n",
    "from sklearn.metrics import accuracy_score, confusion_matrix, classification_report, roc_auc_score\n",
    "\n",
    "#  cargar algoritmos para aprendizaje supervisado\n",
    "from sklearn.feature_selection import SelectKBest, f_classif, SelectFromModel, mutual_info_classif\n",
    "from sklearn.svm import SVC\n",
    "from sklearn.ensemble import RandomForestClassifier\n",
    "from sklearn.linear_model import LogisticRegression,LogisticRegressionCV\n",
    "\n",
    "# importar fichero con utilidades propias\n",
    "from commons import myfunctions as myfunc\n"
   ]
  },
  {
   "cell_type": "markdown",
   "id": "69141c58",
   "metadata": {
    "papermill": {
     "duration": 0.002694,
     "end_time": "2023-10-30T02:30:55.371098",
     "exception": false,
     "start_time": "2023-10-30T02:30:55.368404",
     "status": "completed"
    },
    "tags": []
   },
   "source": [
    "#### Parámetros a utilizar en el entrenamiento.\n",
    "\n",
    "Se indican los 3 algoritmos de *selección de características* (eval_selector_xxx) y los 3 algoritmos para la _clasificación_ (eval_clasifier_xxx)\n",
    "\n",
    "En *param_distributions* se indicar los parámetros que utilizan los algoritmos en la función RandomSearchCV.\n",
    "\n",
    "Esta celda tiene la etiqueta **parameters** que servirá para poder lanzar los entrenamientos con la utilidad **papermill** pasándole un fichero con los parámetros. Los nuevos parámetros se situarán tras esta celda para tener prevalencia."
   ]
  },
  {
   "cell_type": "code",
   "execution_count": 2,
   "id": "6487ac3d",
   "metadata": {
    "execution": {
     "iopub.execute_input": "2023-10-30T02:30:55.377284Z",
     "iopub.status.busy": "2023-10-30T02:30:55.376989Z",
     "iopub.status.idle": "2023-10-30T02:30:55.384099Z",
     "shell.execute_reply": "2023-10-30T02:30:55.383627Z"
    },
    "papermill": {
     "duration": 0.011618,
     "end_time": "2023-10-30T02:30:55.385279",
     "exception": false,
     "start_time": "2023-10-30T02:30:55.373661",
     "status": "completed"
    },
    "tags": [
     "parameters"
    ]
   },
   "outputs": [
    {
     "name": "stdout",
     "output_type": "stream",
     "text": [
      "20231030T033055 : amilcar22 : INFO : Utilizando parámetros de mul_m\n"
     ]
    }
   ],
   "source": [
    "#  Parametros para el entrenamiento\n",
    "\n",
    "SEMILLA=        42\n",
    "M_TIPO=         \"mul_m\"\n",
    "M_SELECT=       \"MI\"\n",
    "M_CLASIF=       \"SVM\"\n",
    "R_FICHERO=      \"resultados\"\n",
    "M_FICHERO=      \"metricas\"\n",
    "PRE_DATA_FILE=  \"rows_transpose_norm_by_gene_id_with_target_num_\"\n",
    "SCORING=        \"roc_auc_ovr\" \n",
    "MAX_ITERS=      100\n",
    "\n",
    "def mutual_info_classif_state(X, y):\n",
    "    return mutual_info_classif(X, y, random_state=SEMILLA)\n",
    "\n",
    "eval_selector_mi = \"SelectKBest(score_func=mutual_info_classif_state)\"\n",
    "eval_selector_rf=  \"SelectFromModel(estimator=RandomForestClassifier(random_state=SEMILLA), threshold=-np.inf)\"\n",
    "eval_selector_anova=  \"SelectKBest(score_func=f_classif)\"\n",
    "\n",
    "eval_clasifier_svm= \"SVC(probability=True, random_state=SEMILLA)\"\n",
    "eval_clasifier_rf= \"RandomForestClassifier(random_state=SEMILLA)\"\n",
    "eval_clasifier_lr= \"LogisticRegressionCV(random_state=SEMILLA)\"\n",
    "\n",
    "if M_TIPO.startswith(\"bin_m\"):\n",
    "    myfunc.verbose(f\"Utilizando parámetros de {M_TIPO}\")\n",
    "    eval_selector = eval_selector_mi\n",
    "    eval_clasifier = eval_clasifier_svm\n",
    "\n",
    "    SEMILLA = 6578\n",
    "    M_SELECT = \"MI\"\n",
    "    M_CLASIF = \"SVM\"\n",
    "    param_distributions = {'selector__k': [1000], \n",
    "         'clasifier__kernel': ['rbf'], 'clasifier__gamma': [0.01], 'clasifier__C': [100]}\n",
    "elif M_TIPO.startswith(\"bin_s\"):\n",
    "    myfunc.verbose(f\"Utilizando parámetros de {M_TIPO}\")\n",
    "    eval_selector = eval_selector_rf\n",
    "    eval_clasifier = eval_clasifier_lr\n",
    "\n",
    "    SEMILLA = 6191\n",
    "    M_SELECT = \"RF\"\n",
    "    M_CLASIF = \"LR_L2\"\n",
    "    param_distributions = {'selector__max_features': [1000], 'selector__estimator__n_estimators': [200], \n",
    "        'clasifier__solver': ['lbfgs'], 'clasifier__penalty': ['l2'], 'clasifier__max_iter': [10000]}\n",
    "\n",
    "elif M_TIPO.startswith(\"mul_m\"):\n",
    "    myfunc.verbose(f\"Utilizando parámetros de {M_TIPO}\")\n",
    " \n",
    "    eval_selector = eval_selector_rf\n",
    "    eval_clasifier = eval_clasifier_lr\n",
    "\n",
    "    SEMILLA = 6191\n",
    "    M_SELECT = \"RF\"\n",
    "    M_CLASIF = \"LR_L2\"\n",
    "    param_distributions = {'selector__max_features': [1000], 'selector__estimator__n_estimators': [400], \n",
    "        'clasifier__solver': ['lbfgs'], 'clasifier__penalty': ['l2'], 'clasifier__max_iter': [10000]}\n",
    "\n",
    "else:\n",
    "    # M_TIPO.startswith(\"mul_s\"):\n",
    "    myfunc.verbose(f\"Utilizando parámetros de {M_TIPO}\")\n",
    "    eval_selector = eval_selector_anova\n",
    "    eval_clasifier = eval_clasifier_lr\n",
    "\n",
    "    SEMILLA = 1860\n",
    "    M_SELECT = \"ANOVA\"\n",
    "    M_CLASIF = \"LR_L2\"\n",
    "    param_distributions = {'selector__k': [1000], \n",
    "        'clasifier__solver': ['saga'], 'clasifier__penalty': ['l2'], 'clasifier__max_iter': [10000]}\n",
    "\n"
   ]
  },
  {
   "cell_type": "code",
   "execution_count": 3,
   "id": "4f42a88a",
   "metadata": {
    "execution": {
     "iopub.execute_input": "2023-10-30T02:30:55.391358Z",
     "iopub.status.busy": "2023-10-30T02:30:55.391180Z",
     "iopub.status.idle": "2023-10-30T02:30:55.394786Z",
     "shell.execute_reply": "2023-10-30T02:30:55.394320Z"
    },
    "papermill": {
     "duration": 0.007962,
     "end_time": "2023-10-30T02:30:55.395954",
     "exception": false,
     "start_time": "2023-10-30T02:30:55.387992",
     "status": "completed"
    },
    "tags": [
     "injected-parameters"
    ]
   },
   "outputs": [],
   "source": [
    "# Parameters\n",
    "M_TIPO = \"mul_m\"\n",
    "M_SELECT = \"RF\"\n",
    "M_CLASIF = \"LR_L2\"\n",
    "P_FICHERO = \"param_0000_1466_mul_m_RF_LR_L2.yaml\"\n",
    "R_FICHERO = \"resultados_1466\"\n",
    "M_FICHERO = \"metricas_1466\"\n",
    "PRE_DATA_FILE = \"rows_transpose_norm_by_gene_id_with_target_num_\"\n",
    "SCORING = \"roc_auc_ovr\"\n",
    "SEMILLA = 1466\n",
    "MAX_ITERS = 500\n",
    "eval_selector = \"SelectFromModel(estimator=RandomForestClassifier(random_state=SEMILLA), threshold=-np.inf)\"\n",
    "eval_clasifier = \"LogisticRegressionCV(random_state=SEMILLA)\"\n",
    "param_distributions = {\n",
    "    \"selector__max_features\": [1000],\n",
    "    \"selector__estimator__n_estimators\": [400],\n",
    "    \"clasifier__solver\": [\"lbfgs\"],\n",
    "    \"clasifier__penalty\": [\"l2\"],\n",
    "    \"clasifier__max_iter\": [10000],\n",
    "}\n"
   ]
  },
  {
   "cell_type": "code",
   "execution_count": 4,
   "id": "4ff38eba",
   "metadata": {
    "execution": {
     "iopub.execute_input": "2023-10-30T02:30:55.402179Z",
     "iopub.status.busy": "2023-10-30T02:30:55.402011Z",
     "iopub.status.idle": "2023-10-30T02:30:55.404854Z",
     "shell.execute_reply": "2023-10-30T02:30:55.404326Z"
    },
    "papermill": {
     "duration": 0.007361,
     "end_time": "2023-10-30T02:30:55.406080",
     "exception": false,
     "start_time": "2023-10-30T02:30:55.398719",
     "status": "completed"
    },
    "tags": []
   },
   "outputs": [],
   "source": [
    "DATA_FILE = PRE_DATA_FILE + M_TIPO\n",
    "\n",
    "# si viene \"None\" en el parámetro max_depth, se le quitan las comillas para que no sea entendido por el algoritmo como un texto\n",
    "if \"clasifier__max_depth\" in param_distributions:\n",
    "    param_distributions['clasifier__max_depth'] = [None if x == 'None' else x for x in param_distributions['clasifier__max_depth']]"
   ]
  },
  {
   "cell_type": "markdown",
   "id": "fa7ec290",
   "metadata": {
    "papermill": {
     "duration": 0.002868,
     "end_time": "2023-10-30T02:30:55.411886",
     "exception": false,
     "start_time": "2023-10-30T02:30:55.409018",
     "status": "completed"
    },
    "tags": []
   },
   "source": [
    "Asignar los algoritmos que se utilizarán en la función RandomSearchCV"
   ]
  },
  {
   "cell_type": "code",
   "execution_count": 5,
   "id": "0da80cd7",
   "metadata": {
    "execution": {
     "iopub.execute_input": "2023-10-30T02:30:55.418353Z",
     "iopub.status.busy": "2023-10-30T02:30:55.418183Z",
     "iopub.status.idle": "2023-10-30T02:30:55.421150Z",
     "shell.execute_reply": "2023-10-30T02:30:55.420487Z"
    },
    "papermill": {
     "duration": 0.007747,
     "end_time": "2023-10-30T02:30:55.422562",
     "exception": false,
     "start_time": "2023-10-30T02:30:55.414815",
     "status": "completed"
    },
    "tags": []
   },
   "outputs": [],
   "source": [
    "algor_selector=eval(eval_selector)\n",
    "algor_clasifier=eval(eval_clasifier)"
   ]
  },
  {
   "cell_type": "markdown",
   "id": "e959f426",
   "metadata": {
    "papermill": {
     "duration": 0.003538,
     "end_time": "2023-10-30T02:30:55.429632",
     "exception": false,
     "start_time": "2023-10-30T02:30:55.426094",
     "status": "completed"
    },
    "tags": []
   },
   "source": [
    "#### Comprobar el entorno y leer fichero de muestras"
   ]
  },
  {
   "cell_type": "code",
   "execution_count": 6,
   "id": "a02c7a1b",
   "metadata": {
    "execution": {
     "iopub.execute_input": "2023-10-30T02:30:55.437309Z",
     "iopub.status.busy": "2023-10-30T02:30:55.437124Z",
     "iopub.status.idle": "2023-10-30T02:30:55.597677Z",
     "shell.execute_reply": "2023-10-30T02:30:55.597043Z"
    },
    "papermill": {
     "duration": 0.165874,
     "end_time": "2023-10-30T02:30:55.599016",
     "exception": false,
     "start_time": "2023-10-30T02:30:55.433142",
     "status": "completed"
    },
    "tags": []
   },
   "outputs": [
    {
     "name": "stdout",
     "output_type": "stream",
     "text": [
      "20231030T033055 : amilcar22 : INFO : Encontrada carpeta DATA_DIR=../tfm_git/datos\n",
      "20231030T033055 : amilcar22 : INFO : Encontrada carpeta CFDNA_DIR=../tfm_git/datos/cfDNA_5hmC\n",
      "20231030T033055 : amilcar22 : INFO : Encontrada carpeta GENCODE_DIR=../tfm_git/datos/gencode\n",
      "20231030T033055 : amilcar22 : INFO : Encontrada carpeta H5_DIR=../tfm_git/datos/h5\n",
      "20231030T033055 : amilcar22 : INFO : Encontrada carpeta LOG_DIR=../tfm_git/datos/logs\n",
      "20231030T033055 : amilcar22 : INFO : Encontrada carpeta CSV_DIR=../tfm_git/datos/csv\n",
      "20231030T033055 : amilcar22 : INFO : Encontrada carpeta MODEL_DIR=../tfm_git/ejecuciones/modelos\n",
      "20231030T033055 : amilcar22 : INFO : Encontrada carpeta EXEC_DIR=../tfm_git/ejecuciones\n",
      "20231030T033055 : amilcar22 : INFO : Encontrada carpeta MET_DIR=../tfm_git/ejecuciones/metricas\n",
      "20231030T033055 : amilcar22 : INFO : Inicio leer fichero h5 ../tfm_git/datos/h5/rows_transpose_norm_by_gene_id_with_target_num_mul_m.h5\n",
      "20231030T033055 : amilcar22 : INFO : Leyendo clave /df\n",
      "20231030T033055 : amilcar22 : INFO : Tamaño (434, 18876)\n",
      "20231030T033055 : amilcar22 : INFO : Fin leer fichero h5 ../tfm_git/datos/h5/rows_transpose_norm_by_gene_id_with_target_num_mul_m.h5\n"
     ]
    },
    {
     "data": {
      "text/plain": [
       "target\n",
       "0    62\n",
       "1    62\n",
       "2    62\n",
       "3    62\n",
       "4    62\n",
       "5    62\n",
       "6    62\n",
       "dtype: int64"
      ]
     },
     "metadata": {},
     "output_type": "display_data"
    },
    {
     "name": "stdout",
     "output_type": "stream",
     "text": [
      "Shape df: (434, 18876)\n"
     ]
    },
    {
     "name": "stdout",
     "output_type": "stream",
     "text": [
      "Shape X_train: (347, 18875)\n",
      "Shape X_test: (87, 18875)\n"
     ]
    }
   ],
   "source": [
    "start_time = datetime.datetime.now()\n",
    "\n",
    "myfunc.reset_vars()\n",
    "\n",
    "myfunc.NOTEBK_FILENAME = myfunc.get_nb_name()\n",
    "\n",
    "myfunc.check_enviroment(myfunc.DATA_DIR, myfunc.CFDNA_DIR, myfunc.GENCODE_DIR, myfunc.H5_DIR, myfunc.LOG_DIR, myfunc.CSV_DIR, myfunc.MODEL_DIR, myfunc.EXEC_DIR, myfunc.MET_DIR)\n",
    "\n",
    "# Leer fichero con las muestras\n",
    "df_t = myfunc.read_h5_to_df(DATA_FILE, myfunc.H5_DIR)\n",
    "display(df_t.groupby(\"target\").size())\n",
    "print(\"Shape df:\",df_t.shape)\n",
    "\n",
    "# Separar caracteristicas/genes de las etiquetas/tipos de cáncer\n",
    "X = df_t.iloc[:, :-1]  # Todas las columnas excepto la última\n",
    "y = df_t.iloc[:, -1]  # La última columna contiene los identificadores de los tipos de cáncer\n",
    "\n",
    "#  Crear el conjunto de datos de entrenamiento y de pruebas, y se fija la semilla para siempre coger el mismo juego de muestras\n",
    "X_train, X_test, y_train, y_test = train_test_split(X, y, test_size=0.2, shuffle=True, random_state=42)\n",
    "print(\"Shape X_train:\",X_train.shape)\n",
    "print(\"Shape X_test:\",X_test.shape)\n"
   ]
  },
  {
   "cell_type": "markdown",
   "id": "711cb76a",
   "metadata": {
    "papermill": {
     "duration": 0.002854,
     "end_time": "2023-10-30T02:30:55.605184",
     "exception": false,
     "start_time": "2023-10-30T02:30:55.602330",
     "status": "completed"
    },
    "tags": []
   },
   "source": [
    "#### Selección de características y clasificación."
   ]
  },
  {
   "cell_type": "code",
   "execution_count": 7,
   "id": "3b508b55",
   "metadata": {
    "execution": {
     "iopub.execute_input": "2023-10-30T02:30:55.611748Z",
     "iopub.status.busy": "2023-10-30T02:30:55.611566Z",
     "iopub.status.idle": "2023-10-30T02:31:51.046706Z",
     "shell.execute_reply": "2023-10-30T02:31:51.046050Z"
    },
    "papermill": {
     "duration": 55.442763,
     "end_time": "2023-10-30T02:31:51.050791",
     "exception": false,
     "start_time": "2023-10-30T02:30:55.608028",
     "status": "completed"
    },
    "tags": []
   },
   "outputs": [
    {
     "name": "stdout",
     "output_type": "stream",
     "text": [
      "20231030T033055 : amilcar22 : INFO : Iniciando entrenamiento\n",
      "num_iter: 1 , max_iter: 1\n",
      "Fitting 5 folds for each of 1 candidates, totalling 5 fits\n"
     ]
    },
    {
     "name": "stdout",
     "output_type": "stream",
     "text": [
      "Mejores Hiperparámetros: {'selector__max_features': 1000, 'selector__estimator__n_estimators': 400, 'clasifier__solver': 'lbfgs', 'clasifier__penalty': 'l2', 'clasifier__max_iter': 10000}\n",
      "Mejor Puntuación: 0.8782\n",
      "20231030T033151 : amilcar22 : INFO : Fin entrenamiento\n"
     ]
    }
   ],
   "source": [
    "myfunc.verbose(\"Iniciando entrenamiento\")\n",
    "\n",
    "kf = KFold(n_splits=5, shuffle=True, random_state=SEMILLA)\n",
    "\n",
    "# Crear el pipeline para el flujo de tareas\n",
    "tasks_pipeline = Pipeline([\n",
    "    ('selector', algor_selector),\n",
    "    ('clasifier', algor_clasifier)\n",
    "])\n",
    "\n",
    "# MAX_ITERS puede limitar el número de iteraciones si son excesivas para las combinaciones de parámetros buscando un óptimo local, \n",
    "# sino funcionaría como GridSearchCV al revisar todas las cominaciones de los parámetros\n",
    "num_iteraciones = 1\n",
    "num_iteraciones = num_iteraciones * np.prod([len(elemento1) for _, elemento1 in param_distributions.items()])\n",
    "max_iteraciones = num_iteraciones if num_iteraciones <= MAX_ITERS else MAX_ITERS\n",
    "print(\"num_iter:\",num_iteraciones,\", max_iter:\",max_iteraciones)\n",
    "\n",
    "random_search = RandomizedSearchCV(\n",
    "    tasks_pipeline, \n",
    "    param_distributions, \n",
    "    n_iter=max_iteraciones,\n",
    "    scoring=SCORING,\n",
    "    cv=kf,\n",
    "    verbose=3, \n",
    "    random_state=SEMILLA, \n",
    "    n_jobs=-1\n",
    "    )\n",
    "\n",
    "# Entrenar el modelo\n",
    "random_search.fit(X_train, y_train)\n",
    "\n",
    "# Ver los mejores hiperparámetros encontrados\n",
    "print(f'Mejores Hiperparámetros: {random_search.best_params_}')\n",
    "print(f'Mejor Puntuación: {random_search.best_score_:.4f}')\n",
    "\n",
    "# Nos quedamos con el mejor modelo para ver las métricas\n",
    "mejor_modelo = random_search.best_estimator_\n",
    "\n",
    "myfunc.verbose(\"Fin entrenamiento\")"
   ]
  },
  {
   "cell_type": "markdown",
   "id": "3abf08bc",
   "metadata": {
    "papermill": {
     "duration": 0.003154,
     "end_time": "2023-10-30T02:31:51.057261",
     "exception": false,
     "start_time": "2023-10-30T02:31:51.054107",
     "status": "completed"
    },
    "tags": []
   },
   "source": [
    "#### Guardar modelo"
   ]
  },
  {
   "cell_type": "code",
   "execution_count": 8,
   "id": "5799d719",
   "metadata": {
    "execution": {
     "iopub.execute_input": "2023-10-30T02:31:51.064851Z",
     "iopub.status.busy": "2023-10-30T02:31:51.064636Z",
     "iopub.status.idle": "2023-10-30T02:31:51.197206Z",
     "shell.execute_reply": "2023-10-30T02:31:51.196551Z"
    },
    "papermill": {
     "duration": 0.138196,
     "end_time": "2023-10-30T02:31:51.198599",
     "exception": false,
     "start_time": "2023-10-30T02:31:51.060403",
     "status": "completed"
    },
    "tags": []
   },
   "outputs": [
    {
     "name": "stdout",
     "output_type": "stream",
     "text": [
      "20231030T033151 : amilcar22 : INFO : Inicio guardar fichero ../tfm_git/ejecuciones/modelos/modelo_1466_mul_m_RF_LR_L2.pkl\n",
      "20231030T033151 : amilcar22 : INFO : Fin guardar fichero ../tfm_git/ejecuciones/modelos/modelo_1466_mul_m_RF_LR_L2.pkl\n"
     ]
    }
   ],
   "source": [
    "fichero_modelo = str.replace(\"modelo_\"+str(SEMILLA).zfill(4)+\"_\"+M_TIPO+\"_\"+M_SELECT+\"_\"+M_CLASIF+\".pkl\", \" \", \"_\")\n",
    "\n",
    "myfunc.save_modelo(mejor_modelo, myfunc.MODEL_DIR, fichero_modelo)"
   ]
  },
  {
   "cell_type": "markdown",
   "id": "cdba17e0",
   "metadata": {
    "papermill": {
     "duration": 0.003102,
     "end_time": "2023-10-30T02:31:51.205155",
     "exception": false,
     "start_time": "2023-10-30T02:31:51.202053",
     "status": "completed"
    },
    "tags": []
   },
   "source": [
    "#### Ver resultados del las iteraciones hechas por RandomSearchCV"
   ]
  },
  {
   "cell_type": "code",
   "execution_count": 9,
   "id": "e77e0b60",
   "metadata": {
    "execution": {
     "iopub.execute_input": "2023-10-30T02:31:51.212172Z",
     "iopub.status.busy": "2023-10-30T02:31:51.211974Z",
     "iopub.status.idle": "2023-10-30T02:31:51.217812Z",
     "shell.execute_reply": "2023-10-30T02:31:51.217352Z"
    },
    "papermill": {
     "duration": 0.010746,
     "end_time": "2023-10-30T02:31:51.218979",
     "exception": false,
     "start_time": "2023-10-30T02:31:51.208233",
     "status": "completed"
    },
    "tags": []
   },
   "outputs": [
    {
     "name": "stdout",
     "output_type": "stream",
     "text": [
      "20231030T033151 : amilcar22 : INFO : Inicio ver resultados\n",
      "Mejores Hiperparámetros: {'selector__max_features': 1000, 'selector__estimator__n_estimators': 400, 'clasifier__solver': 'lbfgs', 'clasifier__penalty': 'l2', 'clasifier__max_iter': 10000}\n",
      "Mejores puntuaciones: 0.8782 | Params: {'selector__max_features': 1000, 'selector__estimator__n_estimators': 400, 'clasifier__solver': 'lbfgs', 'clasifier__penalty': 'l2', 'clasifier__max_iter': 10000}\n",
      "Media de las puntuaciones: 0.8782 | Params: {'selector__max_features': 1000, 'selector__estimator__n_estimators': 400, 'clasifier__solver': 'lbfgs', 'clasifier__penalty': 'l2', 'clasifier__max_iter': 10000}\n",
      "20231030T033151 : amilcar22 : INFO : Fin resultados\n"
     ]
    }
   ],
   "source": [
    "myfunc.ver_resultados_search(random_search)"
   ]
  },
  {
   "cell_type": "markdown",
   "id": "c13306d7",
   "metadata": {
    "papermill": {
     "duration": 0.003216,
     "end_time": "2023-10-30T02:31:51.225527",
     "exception": false,
     "start_time": "2023-10-30T02:31:51.222311",
     "status": "completed"
    },
    "tags": []
   },
   "source": [
    "#### Ver métricas del mejor modelo"
   ]
  },
  {
   "cell_type": "code",
   "execution_count": 10,
   "id": "9df35f69",
   "metadata": {
    "execution": {
     "iopub.execute_input": "2023-10-30T02:31:51.232542Z",
     "iopub.status.busy": "2023-10-30T02:31:51.232370Z",
     "iopub.status.idle": "2023-10-30T02:31:52.081327Z",
     "shell.execute_reply": "2023-10-30T02:31:52.080802Z"
    },
    "papermill": {
     "duration": 0.853891,
     "end_time": "2023-10-30T02:31:52.082635",
     "exception": false,
     "start_time": "2023-10-30T02:31:51.228744",
     "status": "completed"
    },
    "tags": []
   },
   "outputs": [
    {
     "name": "stdout",
     "output_type": "stream",
     "text": [
      "20231030T033151 : amilcar22 : INFO : Inicio ver métricas multiclase\n"
     ]
    },
    {
     "name": "stdout",
     "output_type": "stream",
     "text": [
      "              precision    recall  f1-score   support\n",
      "\n",
      "           0       0.64      0.44      0.52        16\n",
      "           1       0.77      0.67      0.71        15\n",
      "           2       0.38      0.55      0.44        11\n",
      "           3       0.40      0.80      0.53         5\n",
      "           4       0.54      0.54      0.54        13\n",
      "           5       0.88      0.78      0.82         9\n",
      "           6       0.69      0.61      0.65        18\n",
      "\n",
      "    accuracy                           0.60        87\n",
      "   macro avg       0.61      0.63      0.60        87\n",
      "weighted avg       0.63      0.60      0.60        87\n",
      "\n",
      "\n",
      "\n",
      "           Exactitud: 0.597701\n",
      "   Precisión (media): 0.611651\n",
      "      Recall (media): 0.625282\n",
      "    F1-score (media): 0.602805\n",
      "\n",
      "\n",
      "AUC para el tipo de cáncer 0-Control.... 0.8266\n",
      "AUC para el tipo de cáncer 1-Bladder.... 0.8907\n",
      "AUC para el tipo de cáncer 2-Breast..... 0.7715\n",
      "AUC para el tipo de cáncer 3-Colorectal. 0.8585\n",
      "AUC para el tipo de cáncer 4-Kidney..... 0.8805\n",
      "AUC para el tipo de cáncer 5-Lung....... 0.9872\n",
      "AUC para el tipo de cáncer 6-Prostate... 0.8462\n",
      "\n",
      "Media de AUC: 0.8659\n"
     ]
    },
    {
     "data": {
      "image/png": "[encoded data removed]",
      "text/plain": [
       "<Figure size 1000x600 with 1 Axes>"
      ]
     },
     "metadata": {},
     "output_type": "display_data"
    },
    {
     "name": "stdout",
     "output_type": "stream",
     "text": [
      "\n",
      "\n"
     ]
    },
    {
     "data": {
      "image/png": "[encoded data removed]",
      "text/plain": [
       "<Figure size 800x400 with 2 Axes>"
      ]
     },
     "metadata": {},
     "output_type": "display_data"
    },
    {
     "name": "stdout",
     "output_type": "stream",
     "text": [
      "\n",
      "\n",
      "Puntuación Jaccard para el cáncer tipo 0-Control.... 0.3500\n",
      "Puntuación Jaccard para el cáncer tipo 1-Bladder.... 0.5556\n",
      "Puntuación Jaccard para el cáncer tipo 2-Breast..... 0.2857\n",
      "Puntuación Jaccard para el cáncer tipo 3-Colorectal. 0.3636\n",
      "Puntuación Jaccard para el cáncer tipo 4-Kidney..... 0.3684\n",
      "Puntuación Jaccard para el cáncer tipo 5-Lung....... 0.7000\n",
      "Puntuación Jaccard para el cáncer tipo 6-Prostate... 0.4783\n",
      "\n",
      "Media de la puntuación de Jaccard: 0.4431\n"
     ]
    }
   ],
   "source": [
    "if M_TIPO.startswith(\"bin\"):\n",
    "    myfunc.ver_metricas(mejor_modelo, X_test, y_test)\n",
    "else:\n",
    "    myfunc.ver_metricas_multi(mejor_modelo, X_test, y_test)\n"
   ]
  },
  {
   "cell_type": "markdown",
   "id": "9c011988",
   "metadata": {
    "papermill": {
     "duration": 0.004158,
     "end_time": "2023-10-30T02:31:52.091656",
     "exception": false,
     "start_time": "2023-10-30T02:31:52.087498",
     "status": "completed"
    },
    "tags": []
   },
   "source": [
    "#### Finalización del notebook"
   ]
  },
  {
   "cell_type": "code",
   "execution_count": 11,
   "id": "f449502e",
   "metadata": {
    "execution": {
     "iopub.execute_input": "2023-10-30T02:31:52.101047Z",
     "iopub.status.busy": "2023-10-30T02:31:52.100855Z",
     "iopub.status.idle": "2023-10-30T02:31:52.103974Z",
     "shell.execute_reply": "2023-10-30T02:31:52.103552Z"
    },
    "papermill": {
     "duration": 0.009475,
     "end_time": "2023-10-30T02:31:52.105220",
     "exception": false,
     "start_time": "2023-10-30T02:31:52.095745",
     "status": "completed"
    },
    "tags": []
   },
   "outputs": [
    {
     "name": "stdout",
     "output_type": "stream",
     "text": [
      "20231030T033152 : amilcar22 : INFO : Notebook ha tardado 56 seconds\n"
     ]
    }
   ],
   "source": [
    "end_time = datetime.datetime.now()\n",
    "total_time = end_time - start_time\n",
    "myfunc.verbose(f\"Notebook ha tardado {total_time.seconds} seconds\")"
   ]
  },
  {
   "cell_type": "markdown",
   "id": "d395c340",
   "metadata": {
    "papermill": {
     "duration": 0.004346,
     "end_time": "2023-10-30T02:31:52.114057",
     "exception": false,
     "start_time": "2023-10-30T02:31:52.109711",
     "status": "completed"
    },
    "tags": []
   },
   "source": [
    "#### Guardar métricas"
   ]
  },
  {
   "cell_type": "code",
   "execution_count": 12,
   "id": "98c7d604",
   "metadata": {
    "execution": {
     "iopub.execute_input": "2023-10-30T02:31:52.123424Z",
     "iopub.status.busy": "2023-10-30T02:31:52.123007Z",
     "iopub.status.idle": "2023-10-30T02:31:52.755781Z",
     "shell.execute_reply": "2023-10-30T02:31:52.755268Z"
    },
    "papermill": {
     "duration": 0.638757,
     "end_time": "2023-10-30T02:31:52.757030",
     "exception": false,
     "start_time": "2023-10-30T02:31:52.118273",
     "status": "completed"
    },
    "tags": []
   },
   "outputs": [
    {
     "name": "stdout",
     "output_type": "stream",
     "text": [
      "20231030T033152 : amilcar22 : INFO : Inicio guardar métricas multiclase\n",
      "20231030T033152 : amilcar22 : INFO : Inicio leer fichero ../tfm_git/ejecuciones/metricas/metricas_1466.csv\n",
      "20231030T033152 : amilcar22 : INFO : Fin leer fichero ../tfm_git/ejecuciones/metricas/metricas_1466.csv\n"
     ]
    },
    {
     "name": "stdout",
     "output_type": "stream",
     "text": [
      "20231030T033152 : amilcar22 : INFO : Inicio guardar fichero ../tfm_git/ejecuciones/metricas/metricas_1466.csv\n",
      "20231030T033152 : amilcar22 : INFO : Fichero borrado ../tfm_git/ejecuciones/metricas/metricas_1466.csv\n",
      "20231030T033152 : amilcar22 : INFO : Fin guardar fichero ../tfm_git/ejecuciones/metricas/metricas_1466.csv\n",
      "20231030T033152 : amilcar22 : INFO : Fin guardar métricas multiclase\n",
      "20231030T033152 : amilcar22 : INFO : Inicio leer fichero ../tfm_git/ejecuciones/metricas/metricas_1466.csv\n",
      "20231030T033152 : amilcar22 : INFO : Fin leer fichero ../tfm_git/ejecuciones/metricas/metricas_1466.csv\n"
     ]
    },
    {
     "data": {
      "text/html": [
       "<div>\n",
       "<style scoped>\n",
       "    .dataframe tbody tr th:only-of-type {\n",
       "        vertical-align: middle;\n",
       "    }\n",
       "\n",
       "    .dataframe tbody tr th {\n",
       "        vertical-align: top;\n",
       "    }\n",
       "\n",
       "    .dataframe thead th {\n",
       "        text-align: right;\n",
       "    }\n",
       "</style>\n",
       "<table border=\"1\" class=\"dataframe\">\n",
       "  <thead>\n",
       "    <tr style=\"text-align: right;\">\n",
       "      <th></th>\n",
       "      <th>tipo</th>\n",
       "      <th>select</th>\n",
       "      <th>clasific</th>\n",
       "      <th>semilla</th>\n",
       "      <th>accuracy</th>\n",
       "      <th>precision</th>\n",
       "      <th>recall</th>\n",
       "      <th>f1_score</th>\n",
       "      <th>roc_auc</th>\n",
       "      <th>hostname</th>\n",
       "      <th>total_time_sec</th>\n",
       "      <th>datetime</th>\n",
       "      <th>fichero_modelo</th>\n",
       "      <th>params</th>\n",
       "      <th>shape</th>\n",
       "      <th>features</th>\n",
       "      <th>roc_auc_ovr</th>\n",
       "      <th>indices_auc</th>\n",
       "      <th>indices_jaccard</th>\n",
       "    </tr>\n",
       "  </thead>\n",
       "  <tbody>\n",
       "    <tr>\n",
       "      <th>0</th>\n",
       "      <td>mul_m</td>\n",
       "      <td>RF</td>\n",
       "      <td>LR_L2</td>\n",
       "      <td>1466</td>\n",
       "      <td>0.597701</td>\n",
       "      <td>0.611651</td>\n",
       "      <td>0.625282</td>\n",
       "      <td>0.602805</td>\n",
       "      <td>NaN</td>\n",
       "      <td>amilcar22</td>\n",
       "      <td>56</td>\n",
       "      <td>2023-10-30 03:31:52.725569</td>\n",
       "      <td>modelo_1466_mul_m_RF_LR_L2.pkl</td>\n",
       "      <td>{'selector__max_features': 1000, 'selector__es...</td>\n",
       "      <td>X_test:(87, 18875)</td>\n",
       "      <td>['ENSG00000000938.13', 'ENSG00000002933.9', 'E...</td>\n",
       "      <td>0.865892</td>\n",
       "      <td>[0.8265845070422535, 0.8907407407407406, 0.771...</td>\n",
       "      <td>[0.35, 0.5555555555555556, 0.2857142857142857,...</td>\n",
       "    </tr>\n",
       "    <tr>\n",
       "      <th>0</th>\n",
       "      <td>mul_m</td>\n",
       "      <td>RF</td>\n",
       "      <td>LR_L1</td>\n",
       "      <td>1466</td>\n",
       "      <td>0.551724</td>\n",
       "      <td>0.571220</td>\n",
       "      <td>0.582380</td>\n",
       "      <td>0.550140</td>\n",
       "      <td>NaN</td>\n",
       "      <td>amilcar22</td>\n",
       "      <td>2132</td>\n",
       "      <td>2023-10-30 03:30:49.357978</td>\n",
       "      <td>modelo_1466_mul_m_RF_LR_L1.pkl</td>\n",
       "      <td>{'selector__max_features': 1000, 'selector__es...</td>\n",
       "      <td>X_test:(87, 18875)</td>\n",
       "      <td>['ENSG00000000938.13', 'ENSG00000002933.9', 'E...</td>\n",
       "      <td>0.861606</td>\n",
       "      <td>[0.7913732394366197, 0.8888888888888888, 0.778...</td>\n",
       "      <td>[0.35, 0.5555555555555556, 0.2631578947368421,...</td>\n",
       "    </tr>\n",
       "    <tr>\n",
       "      <th>0</th>\n",
       "      <td>mul_m</td>\n",
       "      <td>RF</td>\n",
       "      <td>LR_EN</td>\n",
       "      <td>1466</td>\n",
       "      <td>0.586207</td>\n",
       "      <td>0.589589</td>\n",
       "      <td>0.616768</td>\n",
       "      <td>0.586628</td>\n",
       "      <td>NaN</td>\n",
       "      <td>amilcar22</td>\n",
       "      <td>2032</td>\n",
       "      <td>2023-10-30 02:55:09.730164</td>\n",
       "      <td>modelo_1466_mul_m_RF_LR_EN.pkl</td>\n",
       "      <td>{'selector__max_features': 1000, 'selector__es...</td>\n",
       "      <td>X_test:(87, 18875)</td>\n",
       "      <td>['ENSG00000000938.13', 'ENSG00000002933.9', 'E...</td>\n",
       "      <td>0.862610</td>\n",
       "      <td>[0.795774647887324, 0.8935185185185185, 0.7691...</td>\n",
       "      <td>[0.35, 0.5789473684210527, 0.2222222222222222,...</td>\n",
       "    </tr>\n",
       "  </tbody>\n",
       "</table>\n",
       "</div>"
      ],
      "text/plain": [
       "    tipo select clasific  semilla  accuracy  precision    recall  f1_score  \\\n",
       "0  mul_m     RF    LR_L2     1466  0.597701   0.611651  0.625282  0.602805   \n",
       "0  mul_m     RF    LR_L1     1466  0.551724   0.571220  0.582380  0.550140   \n",
       "0  mul_m     RF    LR_EN     1466  0.586207   0.589589  0.616768  0.586628   \n",
       "\n",
       "   roc_auc   hostname  total_time_sec                    datetime  \\\n",
       "0      NaN  amilcar22              56  2023-10-30 03:31:52.725569   \n",
       "0      NaN  amilcar22            2132  2023-10-30 03:30:49.357978   \n",
       "0      NaN  amilcar22            2032  2023-10-30 02:55:09.730164   \n",
       "\n",
       "                   fichero_modelo  \\\n",
       "0  modelo_1466_mul_m_RF_LR_L2.pkl   \n",
       "0  modelo_1466_mul_m_RF_LR_L1.pkl   \n",
       "0  modelo_1466_mul_m_RF_LR_EN.pkl   \n",
       "\n",
       "                                              params               shape  \\\n",
       "0  {'selector__max_features': 1000, 'selector__es...  X_test:(87, 18875)   \n",
       "0  {'selector__max_features': 1000, 'selector__es...  X_test:(87, 18875)   \n",
       "0  {'selector__max_features': 1000, 'selector__es...  X_test:(87, 18875)   \n",
       "\n",
       "                                            features  roc_auc_ovr  \\\n",
       "0  ['ENSG00000000938.13', 'ENSG00000002933.9', 'E...     0.865892   \n",
       "0  ['ENSG00000000938.13', 'ENSG00000002933.9', 'E...     0.861606   \n",
       "0  ['ENSG00000000938.13', 'ENSG00000002933.9', 'E...     0.862610   \n",
       "\n",
       "                                         indices_auc  \\\n",
       "0  [0.8265845070422535, 0.8907407407407406, 0.771...   \n",
       "0  [0.7913732394366197, 0.8888888888888888, 0.778...   \n",
       "0  [0.795774647887324, 0.8935185185185185, 0.7691...   \n",
       "\n",
       "                                     indices_jaccard  \n",
       "0  [0.35, 0.5555555555555556, 0.2857142857142857,...  \n",
       "0  [0.35, 0.5555555555555556, 0.2631578947368421,...  \n",
       "0  [0.35, 0.5789473684210527, 0.2222222222222222,...  "
      ]
     },
     "metadata": {},
     "output_type": "display_data"
    }
   ],
   "source": [
    "if M_TIPO.startswith(\"bin\"):\n",
    "    myfunc.save_metricas_to_csv(random_search, X_test, y_test, M_TIPO, M_SELECT, M_CLASIF, total_time, SEMILLA, myfunc.MET_DIR, M_FICHERO, fichero_modelo)\n",
    "else:\n",
    "    myfunc.save_metricas_multi_to_csv(random_search, X_test, y_test, M_TIPO, M_SELECT, M_CLASIF, total_time, SEMILLA, myfunc.MET_DIR, M_FICHERO, fichero_modelo)\n",
    "\n",
    "df1=myfunc.read_metricas_to_df(myfunc.MET_DIR,M_FICHERO)\n",
    "\n",
    "display(df1.sort_values(\"datetime\", ascending=False)[:3])\n"
   ]
  },
  {
   "cell_type": "markdown",
   "id": "bde7ebb4",
   "metadata": {
    "papermill": {
     "duration": 0.004636,
     "end_time": "2023-10-30T02:31:52.766840",
     "exception": false,
     "start_time": "2023-10-30T02:31:52.762204",
     "status": "completed"
    },
    "tags": []
   },
   "source": [
    "#### Guardar resultados"
   ]
  },
  {
   "cell_type": "code",
   "execution_count": 13,
   "id": "25d92532",
   "metadata": {
    "execution": {
     "iopub.execute_input": "2023-10-30T02:31:52.776840Z",
     "iopub.status.busy": "2023-10-30T02:31:52.776644Z",
     "iopub.status.idle": "2023-10-30T02:31:52.785022Z",
     "shell.execute_reply": "2023-10-30T02:31:52.784509Z"
    },
    "papermill": {
     "duration": 0.014695,
     "end_time": "2023-10-30T02:31:52.786175",
     "exception": false,
     "start_time": "2023-10-30T02:31:52.771480",
     "status": "completed"
    },
    "tags": []
   },
   "outputs": [
    {
     "name": "stdout",
     "output_type": "stream",
     "text": [
      "20231030T033152 : amilcar22 : INFO : Inicio guardar resultados\n",
      "20231030T033152 : amilcar22 : INFO : Inicio guardar fichero ../tfm_git/ejecuciones/metricas/resultados_1466_mul_m-RF-LR_L2.csv\n",
      "20231030T033152 : amilcar22 : INFO : Fin guardar fichero ../tfm_git/ejecuciones/metricas/resultados_1466_mul_m-RF-LR_L2.csv\n",
      "20231030T033152 : amilcar22 : INFO : Fin guardar resultados\n"
     ]
    }
   ],
   "source": [
    "fichero_resultados=R_FICHERO+\"_\"+M_TIPO+\"-\"+M_SELECT+\"-\"+M_CLASIF+\".csv\"\n",
    "myfunc.save_resultados_to_csv(M_TIPO, M_SELECT, M_CLASIF,  random_search, myfunc.MET_DIR, fichero_resultados)\n"
   ]
  }
 ],
 "metadata": {
  "kernelspec": {
   "display_name": "Python 3 (ipykernel)",
   "language": "python",
   "name": "python3"
  },
  "language_info": {
   "codemirror_mode": {
    "name": "ipython",
    "version": 3
   },
   "file_extension": ".py",
   "mimetype": "text/x-python",
   "name": "python",
   "nbconvert_exporter": "python",
   "pygments_lexer": "ipython3",
   "version": "3.10.12"
  },
  "papermill": {
   "default_parameters": {},
   "duration": 61.843289,
   "end_time": "2023-10-30T02:31:55.408765",
   "environment_variables": {},
   "exception": null,
   "input_path": "03_entrenamiento.ipynb",
   "output_path": "ejecuciones/training/03_entrenamiento.20231030T033053.param_0000_1466_mul_m_RF_LR_L2.output.ipynb",
   "parameters": {
    "MAX_ITERS": 500,
    "M_CLASIF": "LR_L2",
    "M_FICHERO": "metricas_1466",
    "M_SELECT": "RF",
    "M_TIPO": "mul_m",
    "PRE_DATA_FILE": "rows_transpose_norm_by_gene_id_with_target_num_",
    "P_FICHERO": "param_0000_1466_mul_m_RF_LR_L2.yaml",
    "R_FICHERO": "resultados_1466",
    "SCORING": "roc_auc_ovr",
    "SEMILLA": 1466,
    "eval_clasifier": "LogisticRegressionCV(random_state=SEMILLA)",
    "eval_selector": "SelectFromModel(estimator=RandomForestClassifier(random_state=SEMILLA), threshold=-np.inf)",
    "param_distributions": {
     "clasifier__max_iter": [
      10000
     ],
     "clasifier__penalty": [
      "l2"
     ],
     "clasifier__solver": [
      "lbfgs"
     ],
     "selector__estimator__n_estimators": [
      400
     ],
     "selector__max_features": [
      1000
     ]
    }
   },
   "start_time": "2023-10-30T02:30:53.565476",
   "version": "2.4.0"
  }
 },
 "nbformat": 4,
 "nbformat_minor": 5
}