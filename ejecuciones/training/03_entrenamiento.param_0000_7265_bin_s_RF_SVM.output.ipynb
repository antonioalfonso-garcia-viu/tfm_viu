{
 "cells": [
  {
   "cell_type": "markdown",
   "id": "10812b1e",
   "metadata": {
    "papermill": {
     "duration": 0.006068,
     "end_time": "2023-10-30T12:02:39.359784",
     "exception": false,
     "start_time": "2023-10-30T12:02:39.353716",
     "status": "completed"
    },
    "tags": []
   },
   "source": [
    "##### Inicio"
   ]
  },
  {
   "cell_type": "markdown",
   "id": "a8b672b6",
   "metadata": {
    "papermill": {
     "duration": 0.003379,
     "end_time": "2023-10-30T12:02:39.366854",
     "exception": false,
     "start_time": "2023-10-30T12:02:39.363475",
     "status": "completed"
    },
    "tags": []
   },
   "source": [
    "#### Carga de datos"
   ]
  },
  {
   "cell_type": "code",
   "execution_count": 1,
   "id": "797c1b16",
   "metadata": {
    "execution": {
     "iopub.execute_input": "2023-10-30T12:02:39.374966Z",
     "iopub.status.busy": "2023-10-30T12:02:39.374523Z",
     "iopub.status.idle": "2023-10-30T12:02:40.489725Z",
     "shell.execute_reply": "2023-10-30T12:02:40.489122Z"
    },
    "papermill": {
     "duration": 1.121021,
     "end_time": "2023-10-30T12:02:40.491127",
     "exception": false,
     "start_time": "2023-10-30T12:02:39.370106",
     "status": "completed"
    },
    "tags": []
   },
   "outputs": [
    {
     "name": "stdout",
     "output_type": "stream",
     "text": [
      "CPU_COUNT: 16; NODE: enderlab; sys.version: 3.10.11 (main, May 16 2023, 00:28:57) [GCC 11.2.0]\n",
      "LOKY_MAX_CPU_COUNT is not set.\n",
      "OMP_NUM_THREADS is not set.\n"
     ]
    }
   ],
   "source": [
    "import os\n",
    "import numpy as np\n",
    "import pandas as pd\n",
    "import datetime\n",
    "import sklearn\n",
    "import logging\n",
    "import warnings\n",
    "\n",
    "from sklearn.pipeline import Pipeline\n",
    "from sklearn.model_selection import RandomizedSearchCV, KFold, cross_val_score, train_test_split\n",
    "from sklearn.metrics import accuracy_score, confusion_matrix, classification_report, roc_auc_score\n",
    "\n",
    "#  cargar algoritmos para aprendizaje supervisado\n",
    "from sklearn.feature_selection import SelectKBest, f_classif, SelectFromModel, mutual_info_classif\n",
    "from sklearn.svm import SVC\n",
    "from sklearn.ensemble import RandomForestClassifier\n",
    "from sklearn.linear_model import LogisticRegression,LogisticRegressionCV\n",
    "\n",
    "# importar fichero con utilidades propias\n",
    "from commons import myfunctions as myfunc\n"
   ]
  },
  {
   "cell_type": "markdown",
   "id": "70b4a4e3",
   "metadata": {
    "papermill": {
     "duration": 0.003554,
     "end_time": "2023-10-30T12:02:40.498686",
     "exception": false,
     "start_time": "2023-10-30T12:02:40.495132",
     "status": "completed"
    },
    "tags": []
   },
   "source": [
    "#### Parámetros a utilizar en el entrenamiento.\n",
    "\n",
    "Se indican los 3 algoritmos de *selección de características* (eval_selector_xxx) y los 3 algoritmos para la _clasificación_ (eval_clasifier_xxx)\n",
    "\n",
    "En *param_distributions* se indicar los parámetros que utilizan los algoritmos en la función RandomSearchCV.\n",
    "\n",
    "Esta celda tiene la etiqueta **parameters** que servirá para poder lanzar los entrenamientos con la utilidad **papermill** pasándole un fichero con los parámetros. Los nuevos parámetros se situarán tras esta celda para tener prevalencia."
   ]
  },
  {
   "cell_type": "code",
   "execution_count": 2,
   "id": "fe397930",
   "metadata": {
    "execution": {
     "iopub.execute_input": "2023-10-30T12:02:40.506812Z",
     "iopub.status.busy": "2023-10-30T12:02:40.506487Z",
     "iopub.status.idle": "2023-10-30T12:02:40.514994Z",
     "shell.execute_reply": "2023-10-30T12:02:40.514411Z"
    },
    "papermill": {
     "duration": 0.014189,
     "end_time": "2023-10-30T12:02:40.516221",
     "exception": false,
     "start_time": "2023-10-30T12:02:40.502032",
     "status": "completed"
    },
    "tags": [
     "parameters"
    ]
   },
   "outputs": [
    {
     "name": "stdout",
     "output_type": "stream",
     "text": [
      "20231030T130240 : enderlab : INFO : Utilizando parámetros de mul_m\n"
     ]
    }
   ],
   "source": [
    "#  Parametros para el entrenamiento\n",
    "\n",
    "SEMILLA=        42\n",
    "M_TIPO=         \"mul_m\"\n",
    "M_SELECT=       \"MI\"\n",
    "M_CLASIF=       \"SVM\"\n",
    "R_FICHERO=      \"resultados\"\n",
    "M_FICHERO=      \"metricas\"\n",
    "PRE_DATA_FILE=  \"rows_transpose_norm_by_gene_id_with_target_num_\"\n",
    "SCORING=        \"roc_auc_ovr\" \n",
    "MAX_ITERS=      100\n",
    "\n",
    "def mutual_info_classif_state(X, y):\n",
    "    return mutual_info_classif(X, y, random_state=SEMILLA)\n",
    "\n",
    "eval_selector_mi = \"SelectKBest(score_func=mutual_info_classif_state)\"\n",
    "eval_selector_rf=  \"SelectFromModel(estimator=RandomForestClassifier(random_state=SEMILLA), threshold=-np.inf)\"\n",
    "eval_selector_anova=  \"SelectKBest(score_func=f_classif)\"\n",
    "\n",
    "eval_clasifier_svm= \"SVC(probability=True, random_state=SEMILLA)\"\n",
    "eval_clasifier_rf= \"RandomForestClassifier(random_state=SEMILLA)\"\n",
    "eval_clasifier_lr= \"LogisticRegressionCV(random_state=SEMILLA)\"\n",
    "\n",
    "if M_TIPO.startswith(\"bin_m\"):\n",
    "    myfunc.verbose(f\"Utilizando parámetros de {M_TIPO}\")\n",
    "    eval_selector = eval_selector_mi\n",
    "    eval_clasifier = eval_clasifier_svm\n",
    "\n",
    "    SEMILLA = 6578\n",
    "    M_SELECT = \"MI\"\n",
    "    M_CLASIF = \"SVM\"\n",
    "    param_distributions = {'selector__k': [1000], \n",
    "         'clasifier__kernel': ['rbf'], 'clasifier__gamma': [0.01], 'clasifier__C': [100]}\n",
    "elif M_TIPO.startswith(\"bin_s\"):\n",
    "    myfunc.verbose(f\"Utilizando parámetros de {M_TIPO}\")\n",
    "    eval_selector = eval_selector_rf\n",
    "    eval_clasifier = eval_clasifier_lr\n",
    "\n",
    "    SEMILLA = 6191\n",
    "    M_SELECT = \"RF\"\n",
    "    M_CLASIF = \"LR_L2\"\n",
    "    param_distributions = {'selector__max_features': [1000], 'selector__estimator__n_estimators': [200], \n",
    "        'clasifier__solver': ['lbfgs'], 'clasifier__penalty': ['l2'], 'clasifier__max_iter': [10000]}\n",
    "\n",
    "elif M_TIPO.startswith(\"mul_m\"):\n",
    "    myfunc.verbose(f\"Utilizando parámetros de {M_TIPO}\")\n",
    " \n",
    "    eval_selector = eval_selector_rf\n",
    "    eval_clasifier = eval_clasifier_lr\n",
    "\n",
    "    SEMILLA = 6191\n",
    "    M_SELECT = \"RF\"\n",
    "    M_CLASIF = \"LR_L2\"\n",
    "    param_distributions = {'selector__max_features': [1000], 'selector__estimator__n_estimators': [400], \n",
    "        'clasifier__solver': ['lbfgs'], 'clasifier__penalty': ['l2'], 'clasifier__max_iter': [10000]}\n",
    "\n",
    "else:\n",
    "    # M_TIPO.startswith(\"mul_s\"):\n",
    "    myfunc.verbose(f\"Utilizando parámetros de {M_TIPO}\")\n",
    "    eval_selector = eval_selector_anova\n",
    "    eval_clasifier = eval_clasifier_lr\n",
    "\n",
    "    SEMILLA = 1860\n",
    "    M_SELECT = \"ANOVA\"\n",
    "    M_CLASIF = \"LR_L2\"\n",
    "    param_distributions = {'selector__k': [1000], \n",
    "        'clasifier__solver': ['saga'], 'clasifier__penalty': ['l2'], 'clasifier__max_iter': [10000]}\n",
    "\n"
   ]
  },
  {
   "cell_type": "code",
   "execution_count": 3,
   "id": "8a28103f",
   "metadata": {
    "execution": {
     "iopub.execute_input": "2023-10-30T12:02:40.524633Z",
     "iopub.status.busy": "2023-10-30T12:02:40.524173Z",
     "iopub.status.idle": "2023-10-30T12:02:40.528262Z",
     "shell.execute_reply": "2023-10-30T12:02:40.527709Z"
    },
    "papermill": {
     "duration": 0.009698,
     "end_time": "2023-10-30T12:02:40.529471",
     "exception": false,
     "start_time": "2023-10-30T12:02:40.519773",
     "status": "completed"
    },
    "tags": [
     "injected-parameters"
    ]
   },
   "outputs": [],
   "source": [
    "# Parameters\n",
    "M_TIPO = \"bin_s\"\n",
    "M_SELECT = \"RF\"\n",
    "M_CLASIF = \"SVM\"\n",
    "P_FICHERO = \"param_0000_7265_bin_s_RF_SVM.yaml\"\n",
    "R_FICHERO = \"resultados_7265\"\n",
    "M_FICHERO = \"metricas_7265\"\n",
    "PRE_DATA_FILE = \"rows_transpose_norm_by_gene_id_with_target_num_\"\n",
    "SCORING = \"roc_auc_ovr\"\n",
    "SEMILLA = 7265\n",
    "MAX_ITERS = 500\n",
    "eval_selector = \"SelectFromModel(estimator=RandomForestClassifier(random_state=SEMILLA), threshold=-np.inf)\"\n",
    "eval_clasifier = \"SVC(probability=True, random_state=SEMILLA)\"\n",
    "param_distributions = {\n",
    "    \"selector__max_features\": [500],\n",
    "    \"selector__estimator__n_estimators\": [200],\n",
    "    \"clasifier__kernel\": [\"rbf\"],\n",
    "    \"clasifier__gamma\": [0.01],\n",
    "    \"clasifier__C\": [1],\n",
    "}\n"
   ]
  },
  {
   "cell_type": "code",
   "execution_count": 4,
   "id": "f2d76fe9",
   "metadata": {
    "execution": {
     "iopub.execute_input": "2023-10-30T12:02:40.537729Z",
     "iopub.status.busy": "2023-10-30T12:02:40.537232Z",
     "iopub.status.idle": "2023-10-30T12:02:40.540655Z",
     "shell.execute_reply": "2023-10-30T12:02:40.540120Z"
    },
    "papermill": {
     "duration": 0.008828,
     "end_time": "2023-10-30T12:02:40.541856",
     "exception": false,
     "start_time": "2023-10-30T12:02:40.533028",
     "status": "completed"
    },
    "tags": []
   },
   "outputs": [],
   "source": [
    "DATA_FILE = PRE_DATA_FILE + M_TIPO\n",
    "\n",
    "# si viene \"None\" en el parámetro max_depth, se le quitan las comillas para que no sea entendido por el algoritmo como un texto\n",
    "if \"clasifier__max_depth\" in param_distributions:\n",
    "    param_distributions['clasifier__max_depth'] = [None if x == 'None' else x for x in param_distributions['clasifier__max_depth']]"
   ]
  },
  {
   "cell_type": "markdown",
   "id": "c897bab1",
   "metadata": {
    "papermill": {
     "duration": 0.003475,
     "end_time": "2023-10-30T12:02:40.548872",
     "exception": false,
     "start_time": "2023-10-30T12:02:40.545397",
     "status": "completed"
    },
    "tags": []
   },
   "source": [
    "Asignar los algoritmos que se utilizarán en la función RandomSearchCV"
   ]
  },
  {
   "cell_type": "code",
   "execution_count": 5,
   "id": "d0847a5a",
   "metadata": {
    "execution": {
     "iopub.execute_input": "2023-10-30T12:02:40.557128Z",
     "iopub.status.busy": "2023-10-30T12:02:40.556715Z",
     "iopub.status.idle": "2023-10-30T12:02:40.559705Z",
     "shell.execute_reply": "2023-10-30T12:02:40.559156Z"
    },
    "papermill": {
     "duration": 0.008477,
     "end_time": "2023-10-30T12:02:40.560913",
     "exception": false,
     "start_time": "2023-10-30T12:02:40.552436",
     "status": "completed"
    },
    "tags": []
   },
   "outputs": [],
   "source": [
    "algor_selector=eval(eval_selector)\n",
    "algor_clasifier=eval(eval_clasifier)"
   ]
  },
  {
   "cell_type": "markdown",
   "id": "37cce529",
   "metadata": {
    "papermill": {
     "duration": 0.003739,
     "end_time": "2023-10-30T12:02:40.568278",
     "exception": false,
     "start_time": "2023-10-30T12:02:40.564539",
     "status": "completed"
    },
    "tags": []
   },
   "source": [
    "#### Comprobar el entorno y leer fichero de muestras"
   ]
  },
  {
   "cell_type": "code",
   "execution_count": 6,
   "id": "234e1983",
   "metadata": {
    "execution": {
     "iopub.execute_input": "2023-10-30T12:02:40.576801Z",
     "iopub.status.busy": "2023-10-30T12:02:40.576310Z",
     "iopub.status.idle": "2023-10-30T12:02:40.821479Z",
     "shell.execute_reply": "2023-10-30T12:02:40.820854Z"
    },
    "papermill": {
     "duration": 0.250891,
     "end_time": "2023-10-30T12:02:40.822796",
     "exception": false,
     "start_time": "2023-10-30T12:02:40.571905",
     "status": "completed"
    },
    "tags": []
   },
   "outputs": [
    {
     "name": "stdout",
     "output_type": "stream",
     "text": [
      "20231030T130240 : enderlab : INFO : Encontrada carpeta DATA_DIR=../tfm_git/datos\n",
      "20231030T130240 : enderlab : INFO : Encontrada carpeta CFDNA_DIR=../tfm_git/datos/cfDNA_5hmC\n",
      "20231030T130240 : enderlab : INFO : Encontrada carpeta GENCODE_DIR=../tfm_git/datos/gencode\n",
      "20231030T130240 : enderlab : INFO : Encontrada carpeta H5_DIR=../tfm_git/datos/h5\n",
      "20231030T130240 : enderlab : INFO : Encontrada carpeta LOG_DIR=../tfm_git/datos/logs\n",
      "20231030T130240 : enderlab : INFO : Encontrada carpeta CSV_DIR=../tfm_git/datos/csv\n",
      "20231030T130240 : enderlab : INFO : Encontrada carpeta MODEL_DIR=../tfm_git/ejecuciones/modelos\n",
      "20231030T130240 : enderlab : INFO : Encontrada carpeta EXEC_DIR=../tfm_git/ejecuciones\n",
      "20231030T130240 : enderlab : INFO : Encontrada carpeta MET_DIR=../tfm_git/ejecuciones/metricas\n",
      "20231030T130240 : enderlab : INFO : Inicio leer fichero h5 ../tfm_git/datos/h5/rows_transpose_norm_by_gene_id_with_target_num_bin_s.h5\n",
      "20231030T130240 : enderlab : INFO : Leyendo clave /df\n"
     ]
    },
    {
     "name": "stdout",
     "output_type": "stream",
     "text": [
      "20231030T130240 : enderlab : INFO : Tamaño (443, 18876)\n",
      "20231030T130240 : enderlab : INFO : Fin leer fichero h5 ../tfm_git/datos/h5/rows_transpose_norm_by_gene_id_with_target_num_bin_s.h5\n"
     ]
    },
    {
     "data": {
      "text/plain": [
       "target\n",
       "0    221\n",
       "1    222\n",
       "dtype: int64"
      ]
     },
     "metadata": {},
     "output_type": "display_data"
    },
    {
     "name": "stdout",
     "output_type": "stream",
     "text": [
      "Shape df: (443, 18876)\n"
     ]
    },
    {
     "name": "stdout",
     "output_type": "stream",
     "text": [
      "Shape X_train: (354, 18875)\n",
      "Shape X_test: (89, 18875)\n"
     ]
    }
   ],
   "source": [
    "start_time = datetime.datetime.now()\n",
    "\n",
    "myfunc.reset_vars()\n",
    "\n",
    "myfunc.NOTEBK_FILENAME = myfunc.get_nb_name()\n",
    "\n",
    "myfunc.check_enviroment(myfunc.DATA_DIR, myfunc.CFDNA_DIR, myfunc.GENCODE_DIR, myfunc.H5_DIR, myfunc.LOG_DIR, myfunc.CSV_DIR, myfunc.MODEL_DIR, myfunc.EXEC_DIR, myfunc.MET_DIR)\n",
    "\n",
    "# Leer fichero con las muestras\n",
    "df_t = myfunc.read_h5_to_df(DATA_FILE, myfunc.H5_DIR)\n",
    "display(df_t.groupby(\"target\").size())\n",
    "print(\"Shape df:\",df_t.shape)\n",
    "\n",
    "# Separar caracteristicas/genes de las etiquetas/tipos de cáncer\n",
    "X = df_t.iloc[:, :-1]  # Todas las columnas excepto la última\n",
    "y = df_t.iloc[:, -1]  # La última columna contiene los identificadores de los tipos de cáncer\n",
    "\n",
    "#  Crear el conjunto de datos de entrenamiento y de pruebas, y se fija la semilla para siempre coger el mismo juego de muestras\n",
    "X_train, X_test, y_train, y_test = train_test_split(X, y, test_size=0.2, shuffle=True, random_state=42)\n",
    "print(\"Shape X_train:\",X_train.shape)\n",
    "print(\"Shape X_test:\",X_test.shape)\n"
   ]
  },
  {
   "cell_type": "markdown",
   "id": "36d6aa59",
   "metadata": {
    "papermill": {
     "duration": 0.003981,
     "end_time": "2023-10-30T12:02:40.832046",
     "exception": false,
     "start_time": "2023-10-30T12:02:40.828065",
     "status": "completed"
    },
    "tags": []
   },
   "source": [
    "#### Selección de características y clasificación."
   ]
  },
  {
   "cell_type": "code",
   "execution_count": 7,
   "id": "f3c040d4",
   "metadata": {
    "execution": {
     "iopub.execute_input": "2023-10-30T12:02:40.848156Z",
     "iopub.status.busy": "2023-10-30T12:02:40.847542Z",
     "iopub.status.idle": "2023-10-30T12:02:50.620494Z",
     "shell.execute_reply": "2023-10-30T12:02:50.619646Z"
    },
    "papermill": {
     "duration": 9.785861,
     "end_time": "2023-10-30T12:02:50.621930",
     "exception": false,
     "start_time": "2023-10-30T12:02:40.836069",
     "status": "completed"
    },
    "tags": []
   },
   "outputs": [
    {
     "name": "stdout",
     "output_type": "stream",
     "text": [
      "20231030T130240 : enderlab : INFO : Iniciando entrenamiento\n",
      "num_iter: 1 , max_iter: 1\n",
      "Fitting 5 folds for each of 1 candidates, totalling 5 fits\n"
     ]
    },
    {
     "name": "stdout",
     "output_type": "stream",
     "text": [
      "Mejores Hiperparámetros: {'selector__max_features': 500, 'selector__estimator__n_estimators': 200, 'clasifier__kernel': 'rbf', 'clasifier__gamma': 0.01, 'clasifier__C': 1}\n",
      "Mejor Puntuación: 0.7200\n",
      "20231030T130250 : enderlab : INFO : Fin entrenamiento\n"
     ]
    }
   ],
   "source": [
    "myfunc.verbose(\"Iniciando entrenamiento\")\n",
    "\n",
    "kf = KFold(n_splits=5, shuffle=True, random_state=SEMILLA)\n",
    "\n",
    "# Crear el pipeline para el flujo de tareas\n",
    "tasks_pipeline = Pipeline([\n",
    "    ('selector', algor_selector),\n",
    "    ('clasifier', algor_clasifier)\n",
    "])\n",
    "\n",
    "# MAX_ITERS puede limitar el número de iteraciones si son excesivas para las combinaciones de parámetros buscando un óptimo local, \n",
    "# sino funcionaría como GridSearchCV al revisar todas las cominaciones de los parámetros\n",
    "num_iteraciones = 1\n",
    "num_iteraciones = num_iteraciones * np.prod([len(elemento1) for _, elemento1 in param_distributions.items()])\n",
    "max_iteraciones = num_iteraciones if num_iteraciones <= MAX_ITERS else MAX_ITERS\n",
    "print(\"num_iter:\",num_iteraciones,\", max_iter:\",max_iteraciones)\n",
    "\n",
    "random_search = RandomizedSearchCV(\n",
    "    tasks_pipeline, \n",
    "    param_distributions, \n",
    "    n_iter=max_iteraciones,\n",
    "    scoring=SCORING,\n",
    "    cv=kf,\n",
    "    verbose=3, \n",
    "    random_state=SEMILLA, \n",
    "    n_jobs=-1\n",
    "    )\n",
    "\n",
    "# Entrenar el modelo\n",
    "random_search.fit(X_train, y_train)\n",
    "\n",
    "# Ver los mejores hiperparámetros encontrados\n",
    "print(f'Mejores Hiperparámetros: {random_search.best_params_}')\n",
    "print(f'Mejor Puntuación: {random_search.best_score_:.4f}')\n",
    "\n",
    "# Nos quedamos con el mejor modelo para ver las métricas\n",
    "mejor_modelo = random_search.best_estimator_\n",
    "\n",
    "myfunc.verbose(\"Fin entrenamiento\")"
   ]
  },
  {
   "cell_type": "markdown",
   "id": "480f7e96",
   "metadata": {
    "papermill": {
     "duration": 0.015898,
     "end_time": "2023-10-30T12:02:50.643499",
     "exception": false,
     "start_time": "2023-10-30T12:02:50.627601",
     "status": "completed"
    },
    "tags": []
   },
   "source": [
    "#### Guardar modelo"
   ]
  },
  {
   "cell_type": "code",
   "execution_count": 8,
   "id": "8d12d538",
   "metadata": {
    "execution": {
     "iopub.execute_input": "2023-10-30T12:02:50.653468Z",
     "iopub.status.busy": "2023-10-30T12:02:50.653173Z",
     "iopub.status.idle": "2023-10-30T12:02:50.735947Z",
     "shell.execute_reply": "2023-10-30T12:02:50.735361Z"
    },
    "papermill": {
     "duration": 0.089432,
     "end_time": "2023-10-30T12:02:50.737255",
     "exception": false,
     "start_time": "2023-10-30T12:02:50.647823",
     "status": "completed"
    },
    "tags": []
   },
   "outputs": [
    {
     "name": "stdout",
     "output_type": "stream",
     "text": [
      "20231030T130250 : enderlab : INFO : Inicio guardar fichero ../tfm_git/ejecuciones/modelos/modelo_7265_bin_s_RF_SVM.pkl\n",
      "20231030T130250 : enderlab : INFO : Fin guardar fichero ../tfm_git/ejecuciones/modelos/modelo_7265_bin_s_RF_SVM.pkl\n"
     ]
    }
   ],
   "source": [
    "fichero_modelo = str.replace(\"modelo_\"+str(SEMILLA).zfill(4)+\"_\"+M_TIPO+\"_\"+M_SELECT+\"_\"+M_CLASIF+\".pkl\", \" \", \"_\")\n",
    "\n",
    "myfunc.save_modelo(mejor_modelo, myfunc.MODEL_DIR, fichero_modelo)"
   ]
  },
  {
   "cell_type": "markdown",
   "id": "166d3963",
   "metadata": {
    "papermill": {
     "duration": 0.004302,
     "end_time": "2023-10-30T12:02:50.746198",
     "exception": false,
     "start_time": "2023-10-30T12:02:50.741896",
     "status": "completed"
    },
    "tags": []
   },
   "source": [
    "#### Ver resultados del las iteraciones hechas por RandomSearchCV"
   ]
  },
  {
   "cell_type": "code",
   "execution_count": 9,
   "id": "99eb5f77",
   "metadata": {
    "execution": {
     "iopub.execute_input": "2023-10-30T12:02:50.755725Z",
     "iopub.status.busy": "2023-10-30T12:02:50.755206Z",
     "iopub.status.idle": "2023-10-30T12:02:50.761806Z",
     "shell.execute_reply": "2023-10-30T12:02:50.761253Z"
    },
    "papermill": {
     "duration": 0.012762,
     "end_time": "2023-10-30T12:02:50.763055",
     "exception": false,
     "start_time": "2023-10-30T12:02:50.750293",
     "status": "completed"
    },
    "tags": []
   },
   "outputs": [
    {
     "name": "stdout",
     "output_type": "stream",
     "text": [
      "20231030T130250 : enderlab : INFO : Inicio ver resultados\n",
      "Mejores Hiperparámetros: {'selector__max_features': 500, 'selector__estimator__n_estimators': 200, 'clasifier__kernel': 'rbf', 'clasifier__gamma': 0.01, 'clasifier__C': 1}\n",
      "Mejores puntuaciones: 0.7200 | Params: {'selector__max_features': 500, 'selector__estimator__n_estimators': 200, 'clasifier__kernel': 'rbf', 'clasifier__gamma': 0.01, 'clasifier__C': 1}\n",
      "Media de las puntuaciones: 0.7200 | Params: {'selector__max_features': 500, 'selector__estimator__n_estimators': 200, 'clasifier__kernel': 'rbf', 'clasifier__gamma': 0.01, 'clasifier__C': 1}\n",
      "20231030T130250 : enderlab : INFO : Fin resultados\n"
     ]
    }
   ],
   "source": [
    "myfunc.ver_resultados_search(random_search)"
   ]
  },
  {
   "cell_type": "markdown",
   "id": "0b238e87",
   "metadata": {
    "papermill": {
     "duration": 0.004486,
     "end_time": "2023-10-30T12:02:50.771707",
     "exception": false,
     "start_time": "2023-10-30T12:02:50.767221",
     "status": "completed"
    },
    "tags": []
   },
   "source": [
    "#### Ver métricas del mejor modelo"
   ]
  },
  {
   "cell_type": "code",
   "execution_count": 10,
   "id": "f7ce8263",
   "metadata": {
    "execution": {
     "iopub.execute_input": "2023-10-30T12:02:50.781658Z",
     "iopub.status.busy": "2023-10-30T12:02:50.781229Z",
     "iopub.status.idle": "2023-10-30T12:02:51.431610Z",
     "shell.execute_reply": "2023-10-30T12:02:51.431013Z"
    },
    "papermill": {
     "duration": 0.656951,
     "end_time": "2023-10-30T12:02:51.433100",
     "exception": false,
     "start_time": "2023-10-30T12:02:50.776149",
     "status": "completed"
    },
    "tags": []
   },
   "outputs": [
    {
     "name": "stdout",
     "output_type": "stream",
     "text": [
      "20231030T130250 : enderlab : INFO : Inicio ver métricas\n"
     ]
    },
    {
     "name": "stdout",
     "output_type": "stream",
     "text": [
      "              precision    recall  f1-score   support\n",
      "\n",
      "           0       0.59      0.70      0.64        46\n",
      "           1       0.60      0.49      0.54        43\n",
      "\n",
      "    accuracy                           0.60        89\n",
      "   macro avg       0.60      0.59      0.59        89\n",
      "weighted avg       0.60      0.60      0.59        89\n",
      "\n",
      "\n",
      "\n",
      "   Exactitud: 0.5955\n",
      "   Precisión: 0.5963\n",
      "Sensibilidad: 0.5920\n",
      "    F1-score: 0.5892\n",
      "     AUC ROC: 0.6769\n"
     ]
    },
    {
     "data": {
      "image/png": "[encoded data removed]",
      "text/plain": [
       "<Figure size 300x100 with 2 Axes>"
      ]
     },
     "metadata": {},
     "output_type": "display_data"
    },
    {
     "data": {
      "image/png": "[encoded data removed]",
      "text/plain": [
       "<Figure size 800x500 with 1 Axes>"
      ]
     },
     "metadata": {},
     "output_type": "display_data"
    },
    {
     "name": "stdout",
     "output_type": "stream",
     "text": [
      "20231030T130251 : enderlab : INFO : Fin ver métricas\n"
     ]
    }
   ],
   "source": [
    "if M_TIPO.startswith(\"bin\"):\n",
    "    myfunc.ver_metricas(mejor_modelo, X_test, y_test)\n",
    "else:\n",
    "    myfunc.ver_metricas_multi(mejor_modelo, X_test, y_test)\n"
   ]
  },
  {
   "cell_type": "markdown",
   "id": "4c80ebe8",
   "metadata": {
    "papermill": {
     "duration": 0.006016,
     "end_time": "2023-10-30T12:02:51.446821",
     "exception": false,
     "start_time": "2023-10-30T12:02:51.440805",
     "status": "completed"
    },
    "tags": []
   },
   "source": [
    "#### Finalización del notebook"
   ]
  },
  {
   "cell_type": "code",
   "execution_count": 11,
   "id": "1db67ca4",
   "metadata": {
    "execution": {
     "iopub.execute_input": "2023-10-30T12:02:51.458836Z",
     "iopub.status.busy": "2023-10-30T12:02:51.458383Z",
     "iopub.status.idle": "2023-10-30T12:02:51.462398Z",
     "shell.execute_reply": "2023-10-30T12:02:51.461843Z"
    },
    "papermill": {
     "duration": 0.011551,
     "end_time": "2023-10-30T12:02:51.463666",
     "exception": false,
     "start_time": "2023-10-30T12:02:51.452115",
     "status": "completed"
    },
    "tags": []
   },
   "outputs": [
    {
     "name": "stdout",
     "output_type": "stream",
     "text": [
      "20231030T130251 : enderlab : INFO : Notebook ha tardado 10 seconds\n"
     ]
    }
   ],
   "source": [
    "end_time = datetime.datetime.now()\n",
    "total_time = end_time - start_time\n",
    "myfunc.verbose(f\"Notebook ha tardado {total_time.seconds} seconds\")"
   ]
  },
  {
   "cell_type": "markdown",
   "id": "c420750b",
   "metadata": {
    "papermill": {
     "duration": 0.00508,
     "end_time": "2023-10-30T12:02:51.473816",
     "exception": false,
     "start_time": "2023-10-30T12:02:51.468736",
     "status": "completed"
    },
    "tags": []
   },
   "source": [
    "#### Guardar métricas"
   ]
  },
  {
   "cell_type": "code",
   "execution_count": 12,
   "id": "c4958abc",
   "metadata": {
    "execution": {
     "iopub.execute_input": "2023-10-30T12:02:51.485557Z",
     "iopub.status.busy": "2023-10-30T12:02:51.485077Z",
     "iopub.status.idle": "2023-10-30T12:02:51.946060Z",
     "shell.execute_reply": "2023-10-30T12:02:51.945502Z"
    },
    "papermill": {
     "duration": 0.46839,
     "end_time": "2023-10-30T12:02:51.947400",
     "exception": false,
     "start_time": "2023-10-30T12:02:51.479010",
     "status": "completed"
    },
    "tags": []
   },
   "outputs": [
    {
     "name": "stdout",
     "output_type": "stream",
     "text": [
      "20231030T130251 : enderlab : INFO : Inicio guardar métricas\n",
      "20231030T130251 : enderlab : INFO : Inicio leer fichero ../tfm_git/ejecuciones/metricas/metricas_7265.csv\n",
      "20231030T130251 : enderlab : INFO : Fin leer fichero ../tfm_git/ejecuciones/metricas/metricas_7265.csv\n"
     ]
    },
    {
     "name": "stdout",
     "output_type": "stream",
     "text": [
      "20231030T130251 : enderlab : INFO : Inicio guardar fichero ../tfm_git/ejecuciones/metricas/metricas_7265.csv\n",
      "20231030T130251 : enderlab : INFO : Fichero borrado ../tfm_git/ejecuciones/metricas/metricas_7265.csv\n",
      "20231030T130251 : enderlab : INFO : Fin guardar fichero ../tfm_git/ejecuciones/metricas/metricas_7265.csv\n",
      "20231030T130251 : enderlab : INFO : Fin guardar métricas\n",
      "20231030T130251 : enderlab : INFO : Inicio leer fichero ../tfm_git/ejecuciones/metricas/metricas_7265.csv\n",
      "20231030T130251 : enderlab : INFO : Fin leer fichero ../tfm_git/ejecuciones/metricas/metricas_7265.csv\n"
     ]
    },
    {
     "data": {
      "text/html": [
       "<div>\n",
       "<style scoped>\n",
       "    .dataframe tbody tr th:only-of-type {\n",
       "        vertical-align: middle;\n",
       "    }\n",
       "\n",
       "    .dataframe tbody tr th {\n",
       "        vertical-align: top;\n",
       "    }\n",
       "\n",
       "    .dataframe thead th {\n",
       "        text-align: right;\n",
       "    }\n",
       "</style>\n",
       "<table border=\"1\" class=\"dataframe\">\n",
       "  <thead>\n",
       "    <tr style=\"text-align: right;\">\n",
       "      <th></th>\n",
       "      <th>tipo</th>\n",
       "      <th>select</th>\n",
       "      <th>clasific</th>\n",
       "      <th>semilla</th>\n",
       "      <th>accuracy</th>\n",
       "      <th>precision</th>\n",
       "      <th>recall</th>\n",
       "      <th>f1_score</th>\n",
       "      <th>roc_auc</th>\n",
       "      <th>hostname</th>\n",
       "      <th>total_time_sec</th>\n",
       "      <th>datetime</th>\n",
       "      <th>fichero_modelo</th>\n",
       "      <th>params</th>\n",
       "      <th>shape</th>\n",
       "      <th>features</th>\n",
       "    </tr>\n",
       "  </thead>\n",
       "  <tbody>\n",
       "    <tr>\n",
       "      <th>0</th>\n",
       "      <td>bin_s</td>\n",
       "      <td>RF</td>\n",
       "      <td>SVM</td>\n",
       "      <td>7265</td>\n",
       "      <td>0.595506</td>\n",
       "      <td>0.596296</td>\n",
       "      <td>0.592012</td>\n",
       "      <td>0.589231</td>\n",
       "      <td>0.676946</td>\n",
       "      <td>enderlab</td>\n",
       "      <td>10</td>\n",
       "      <td>2023-10-30 13:02:51.906828</td>\n",
       "      <td>modelo_7265_bin_s_RF_SVM.pkl</td>\n",
       "      <td>{'selector__max_features': 500, 'selector__est...</td>\n",
       "      <td>X_test:(89, 18875)</td>\n",
       "      <td>['ENSG00000002587.10', 'ENSG00000004799.8', 'E...</td>\n",
       "    </tr>\n",
       "    <tr>\n",
       "      <th>0</th>\n",
       "      <td>bin_s</td>\n",
       "      <td>RF</td>\n",
       "      <td>RF</td>\n",
       "      <td>7265</td>\n",
       "      <td>0.606742</td>\n",
       "      <td>0.606122</td>\n",
       "      <td>0.605157</td>\n",
       "      <td>0.604946</td>\n",
       "      <td>0.720425</td>\n",
       "      <td>enderlab</td>\n",
       "      <td>35</td>\n",
       "      <td>2023-10-30 13:02:33.835216</td>\n",
       "      <td>modelo_7265_bin_s_RF_RF.pkl</td>\n",
       "      <td>{'selector__max_features': 500, 'selector__est...</td>\n",
       "      <td>X_test:(89, 18875)</td>\n",
       "      <td>['ENSG00000000971.17', 'ENSG00000002587.10', '...</td>\n",
       "    </tr>\n",
       "    <tr>\n",
       "      <th>0</th>\n",
       "      <td>bin_s</td>\n",
       "      <td>RF</td>\n",
       "      <td>LR_L2</td>\n",
       "      <td>7265</td>\n",
       "      <td>0.719101</td>\n",
       "      <td>0.727807</td>\n",
       "      <td>0.715369</td>\n",
       "      <td>0.713900</td>\n",
       "      <td>0.800303</td>\n",
       "      <td>enderlab</td>\n",
       "      <td>14</td>\n",
       "      <td>2023-10-30 13:01:50.806399</td>\n",
       "      <td>modelo_7265_bin_s_RF_LR_L2.pkl</td>\n",
       "      <td>{'selector__max_features': 1000, 'selector__es...</td>\n",
       "      <td>X_test:(89, 18875)</td>\n",
       "      <td>['ENSG00000000971.17', 'ENSG00000002587.10', '...</td>\n",
       "    </tr>\n",
       "  </tbody>\n",
       "</table>\n",
       "</div>"
      ],
      "text/plain": [
       "    tipo select clasific  semilla  accuracy  precision    recall  f1_score  \\\n",
       "0  bin_s     RF      SVM     7265  0.595506   0.596296  0.592012  0.589231   \n",
       "0  bin_s     RF       RF     7265  0.606742   0.606122  0.605157  0.604946   \n",
       "0  bin_s     RF    LR_L2     7265  0.719101   0.727807  0.715369  0.713900   \n",
       "\n",
       "    roc_auc  hostname  total_time_sec                    datetime  \\\n",
       "0  0.676946  enderlab              10  2023-10-30 13:02:51.906828   \n",
       "0  0.720425  enderlab              35  2023-10-30 13:02:33.835216   \n",
       "0  0.800303  enderlab              14  2023-10-30 13:01:50.806399   \n",
       "\n",
       "                   fichero_modelo  \\\n",
       "0    modelo_7265_bin_s_RF_SVM.pkl   \n",
       "0     modelo_7265_bin_s_RF_RF.pkl   \n",
       "0  modelo_7265_bin_s_RF_LR_L2.pkl   \n",
       "\n",
       "                                              params               shape  \\\n",
       "0  {'selector__max_features': 500, 'selector__est...  X_test:(89, 18875)   \n",
       "0  {'selector__max_features': 500, 'selector__est...  X_test:(89, 18875)   \n",
       "0  {'selector__max_features': 1000, 'selector__es...  X_test:(89, 18875)   \n",
       "\n",
       "                                            features  \n",
       "0  ['ENSG00000002587.10', 'ENSG00000004799.8', 'E...  \n",
       "0  ['ENSG00000000971.17', 'ENSG00000002587.10', '...  \n",
       "0  ['ENSG00000000971.17', 'ENSG00000002587.10', '...  "
      ]
     },
     "metadata": {},
     "output_type": "display_data"
    }
   ],
   "source": [
    "if M_TIPO.startswith(\"bin\"):\n",
    "    myfunc.save_metricas_to_csv(random_search, X_test, y_test, M_TIPO, M_SELECT, M_CLASIF, total_time, SEMILLA, myfunc.MET_DIR, M_FICHERO, fichero_modelo)\n",
    "else:\n",
    "    myfunc.save_metricas_multi_to_csv(random_search, X_test, y_test, M_TIPO, M_SELECT, M_CLASIF, total_time, SEMILLA, myfunc.MET_DIR, M_FICHERO, fichero_modelo)\n",
    "\n",
    "df1=myfunc.read_metricas_to_df(myfunc.MET_DIR,M_FICHERO)\n",
    "\n",
    "display(df1.sort_values(\"datetime\", ascending=False)[:3])\n"
   ]
  },
  {
   "cell_type": "markdown",
   "id": "6a30aa2d",
   "metadata": {
    "papermill": {
     "duration": 0.011441,
     "end_time": "2023-10-30T12:02:51.965062",
     "exception": false,
     "start_time": "2023-10-30T12:02:51.953621",
     "status": "completed"
    },
    "tags": []
   },
   "source": [
    "#### Guardar resultados"
   ]
  },
  {
   "cell_type": "code",
   "execution_count": 13,
   "id": "b454b42e",
   "metadata": {
    "execution": {
     "iopub.execute_input": "2023-10-30T12:02:51.981842Z",
     "iopub.status.busy": "2023-10-30T12:02:51.981184Z",
     "iopub.status.idle": "2023-10-30T12:02:51.990808Z",
     "shell.execute_reply": "2023-10-30T12:02:51.990237Z"
    },
    "papermill": {
     "duration": 0.017463,
     "end_time": "2023-10-30T12:02:51.992101",
     "exception": false,
     "start_time": "2023-10-30T12:02:51.974638",
     "status": "completed"
    },
    "tags": []
   },
   "outputs": [
    {
     "name": "stdout",
     "output_type": "stream",
     "text": [
      "20231030T130251 : enderlab : INFO : Inicio guardar resultados\n",
      "20231030T130251 : enderlab : INFO : Inicio guardar fichero ../tfm_git/ejecuciones/metricas/resultados_7265_bin_s-RF-SVM.csv\n",
      "20231030T130251 : enderlab : INFO : Fin guardar fichero ../tfm_git/ejecuciones/metricas/resultados_7265_bin_s-RF-SVM.csv\n",
      "20231030T130251 : enderlab : INFO : Fin guardar resultados\n"
     ]
    }
   ],
   "source": [
    "fichero_resultados=R_FICHERO+\"_\"+M_TIPO+\"-\"+M_SELECT+\"-\"+M_CLASIF+\".csv\"\n",
    "myfunc.save_resultados_to_csv(M_TIPO, M_SELECT, M_CLASIF,  random_search, myfunc.MET_DIR, fichero_resultados)\n"
   ]
  }
 ],
 "metadata": {
  "kernelspec": {
   "display_name": "Python 3 (ipykernel)",
   "language": "python",
   "name": "python3"
  },
  "language_info": {
   "codemirror_mode": {
    "name": "ipython",
    "version": 3
   },
   "file_extension": ".py",
   "mimetype": "text/x-python",
   "name": "python",
   "nbconvert_exporter": "python",
   "pygments_lexer": "ipython3",
   "version": "3.10.11"
  },
  "papermill": {
   "default_parameters": {},
   "duration": 16.444959,
   "end_time": "2023-10-30T12:02:54.616509",
   "environment_variables": {},
   "exception": null,
   "input_path": "03_entrenamiento.ipynb",
   "output_path": "ejecuciones/training/03_entrenamiento.20231030T130237.param_0000_7265_bin_s_RF_SVM.output.ipynb",
   "parameters": {
    "MAX_ITERS": 500,
    "M_CLASIF": "SVM",
    "M_FICHERO": "metricas_7265",
    "M_SELECT": "RF",
    "M_TIPO": "bin_s",
    "PRE_DATA_FILE": "rows_transpose_norm_by_gene_id_with_target_num_",
    "P_FICHERO": "param_0000_7265_bin_s_RF_SVM.yaml",
    "R_FICHERO": "resultados_7265",
    "SCORING": "roc_auc_ovr",
    "SEMILLA": 7265,
    "eval_clasifier": "SVC(probability=True, random_state=SEMILLA)",
    "eval_selector": "SelectFromModel(estimator=RandomForestClassifier(random_state=SEMILLA), threshold=-np.inf)",
    "param_distributions": {
     "clasifier__C": [
      1
     ],
     "clasifier__gamma": [
      0.01
     ],
     "clasifier__kernel": [
      "rbf"
     ],
     "selector__estimator__n_estimators": [
      200
     ],
     "selector__max_features": [
      500
     ]
    }
   },
   "start_time": "2023-10-30T12:02:38.171550",
   "version": "2.4.0"
  }
 },
 "nbformat": 4,
 "nbformat_minor": 5
}