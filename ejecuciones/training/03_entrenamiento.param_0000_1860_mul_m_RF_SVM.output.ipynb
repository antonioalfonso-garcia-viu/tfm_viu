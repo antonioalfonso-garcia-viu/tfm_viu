{
 "cells": [
  {
   "cell_type": "markdown",
   "id": "5f8bc802",
   "metadata": {
    "papermill": {
     "duration": 0.0,
     "end_time": "2023-10-30T00:48:24.242936",
     "exception": false,
     "start_time": "2023-10-30T00:48:24.242936",
     "status": "completed"
    },
    "tags": []
   },
   "source": [
    "##### Inicio"
   ]
  },
  {
   "cell_type": "markdown",
   "id": "e26b22c2",
   "metadata": {
    "papermill": {
     "duration": 0.015609,
     "end_time": "2023-10-30T00:48:24.258545",
     "exception": false,
     "start_time": "2023-10-30T00:48:24.242936",
     "status": "completed"
    },
    "tags": []
   },
   "source": [
    "#### Carga de datos"
   ]
  },
  {
   "cell_type": "code",
   "execution_count": 1,
   "id": "8d436bc5",
   "metadata": {
    "execution": {
     "iopub.execute_input": "2023-10-30T00:48:24.258545Z",
     "iopub.status.busy": "2023-10-30T00:48:24.258545Z",
     "iopub.status.idle": "2023-10-30T00:48:25.438272Z",
     "shell.execute_reply": "2023-10-30T00:48:25.438272Z"
    },
    "papermill": {
     "duration": 1.179727,
     "end_time": "2023-10-30T00:48:25.438272",
     "exception": false,
     "start_time": "2023-10-30T00:48:24.258545",
     "status": "completed"
    },
    "tags": []
   },
   "outputs": [
    {
     "name": "stdout",
     "output_type": "stream",
     "text": [
      "CPU_COUNT: 24; NODE: amilcar32; sys.version: 3.10.12 | packaged by Anaconda, Inc. | (main, Jul  5 2023, 19:09:20) [MSC v.1916 64 bit (AMD64)]\n",
      "LOKY_MAX_CPU_COUNT is not set.\n",
      "OMP_NUM_THREADS is not set.\n"
     ]
    }
   ],
   "source": [
    "import os\n",
    "import numpy as np\n",
    "import pandas as pd\n",
    "import datetime\n",
    "import sklearn\n",
    "import logging\n",
    "import warnings\n",
    "\n",
    "from sklearn.pipeline import Pipeline\n",
    "from sklearn.model_selection import RandomizedSearchCV, KFold, cross_val_score, train_test_split\n",
    "from sklearn.metrics import accuracy_score, confusion_matrix, classification_report, roc_auc_score\n",
    "\n",
    "#  cargar algoritmos para aprendizaje supervisado\n",
    "from sklearn.feature_selection import SelectKBest, f_classif, SelectFromModel, mutual_info_classif\n",
    "from sklearn.svm import SVC\n",
    "from sklearn.ensemble import RandomForestClassifier\n",
    "from sklearn.linear_model import LogisticRegression,LogisticRegressionCV\n",
    "\n",
    "# importar fichero con utilidades propias\n",
    "from commons import myfunctions as myfunc\n"
   ]
  },
  {
   "cell_type": "markdown",
   "id": "867966ba",
   "metadata": {
    "papermill": {
     "duration": 0.0,
     "end_time": "2023-10-30T00:48:25.440651",
     "exception": false,
     "start_time": "2023-10-30T00:48:25.440651",
     "status": "completed"
    },
    "tags": []
   },
   "source": [
    "#### Parámetros a utilizar en el entrenamiento.\n",
    "\n",
    "Se indican los 3 algoritmos de *selección de características* (eval_selector_xxx) y los 3 algoritmos para la _clasificación_ (eval_clasifier_xxx)\n",
    "\n",
    "En *param_distributions* se indicar los parámetros que utilizan los algoritmos en la función RandomSearchCV.\n",
    "\n",
    "Esta celda tiene la etiqueta **parameters** que servirá para poder lanzar los entrenamientos con la utilidad **papermill** pasándole un fichero con los parámetros. Los nuevos parámetros se situarán tras esta celda para tener prevalencia."
   ]
  },
  {
   "cell_type": "code",
   "execution_count": 2,
   "id": "f0d31bf6",
   "metadata": {
    "execution": {
     "iopub.execute_input": "2023-10-30T00:48:25.450738Z",
     "iopub.status.busy": "2023-10-30T00:48:25.450738Z",
     "iopub.status.idle": "2023-10-30T00:48:25.470019Z",
     "shell.execute_reply": "2023-10-30T00:48:25.470019Z"
    },
    "papermill": {
     "duration": 0.029368,
     "end_time": "2023-10-30T00:48:25.470019",
     "exception": false,
     "start_time": "2023-10-30T00:48:25.440651",
     "status": "completed"
    },
    "tags": [
     "parameters"
    ]
   },
   "outputs": [
    {
     "name": "stdout",
     "output_type": "stream",
     "text": [
      "20231030T014825 : amilcar32 : INFO : Utilizando parámetros de mul_m\n"
     ]
    }
   ],
   "source": [
    "#  Parametros para el entrenamiento\n",
    "\n",
    "SEMILLA=        42\n",
    "M_TIPO=         \"mul_m\"\n",
    "M_SELECT=       \"MI\"\n",
    "M_CLASIF=       \"SVM\"\n",
    "R_FICHERO=      \"resultados\"\n",
    "M_FICHERO=      \"metricas\"\n",
    "PRE_DATA_FILE=  \"rows_transpose_norm_by_gene_id_with_target_num_\"\n",
    "SCORING=        \"roc_auc_ovr\" \n",
    "MAX_ITERS=      100\n",
    "\n",
    "def mutual_info_classif_state(X, y):\n",
    "    return mutual_info_classif(X, y, random_state=SEMILLA)\n",
    "\n",
    "eval_selector_mi = \"SelectKBest(score_func=mutual_info_classif_state)\"\n",
    "eval_selector_rf=  \"SelectFromModel(estimator=RandomForestClassifier(random_state=SEMILLA), threshold=-np.inf)\"\n",
    "eval_selector_anova=  \"SelectKBest(score_func=f_classif)\"\n",
    "\n",
    "eval_clasifier_svm= \"SVC(probability=True, random_state=SEMILLA)\"\n",
    "eval_clasifier_rf= \"RandomForestClassifier(random_state=SEMILLA)\"\n",
    "eval_clasifier_lr= \"LogisticRegressionCV(random_state=SEMILLA)\"\n",
    "\n",
    "if M_TIPO.startswith(\"bin_m\"):\n",
    "    myfunc.verbose(f\"Utilizando parámetros de {M_TIPO}\")\n",
    "    eval_selector = eval_selector_mi\n",
    "    eval_clasifier = eval_clasifier_svm\n",
    "\n",
    "    SEMILLA = 6578\n",
    "    M_SELECT = \"MI\"\n",
    "    M_CLASIF = \"SVM\"\n",
    "    param_distributions = {'selector__k': [1000], \n",
    "         'clasifier__kernel': ['rbf'], 'clasifier__gamma': [0.01], 'clasifier__C': [100]}\n",
    "elif M_TIPO.startswith(\"bin_s\"):\n",
    "    myfunc.verbose(f\"Utilizando parámetros de {M_TIPO}\")\n",
    "    eval_selector = eval_selector_rf\n",
    "    eval_clasifier = eval_clasifier_lr\n",
    "\n",
    "    SEMILLA = 6191\n",
    "    M_SELECT = \"RF\"\n",
    "    M_CLASIF = \"LR_L2\"\n",
    "    param_distributions = {'selector__max_features': [1000], 'selector__estimator__n_estimators': [200], \n",
    "        'clasifier__solver': ['lbfgs'], 'clasifier__penalty': ['l2'], 'clasifier__max_iter': [10000]}\n",
    "\n",
    "elif M_TIPO.startswith(\"mul_m\"):\n",
    "    myfunc.verbose(f\"Utilizando parámetros de {M_TIPO}\")\n",
    " \n",
    "    eval_selector = eval_selector_rf\n",
    "    eval_clasifier = eval_clasifier_lr\n",
    "\n",
    "    SEMILLA = 6191\n",
    "    M_SELECT = \"RF\"\n",
    "    M_CLASIF = \"LR_L2\"\n",
    "    param_distributions = {'selector__max_features': [1000], 'selector__estimator__n_estimators': [400], \n",
    "        'clasifier__solver': ['lbfgs'], 'clasifier__penalty': ['l2'], 'clasifier__max_iter': [10000]}\n",
    "\n",
    "else:\n",
    "    # M_TIPO.startswith(\"mul_s\"):\n",
    "    myfunc.verbose(f\"Utilizando parámetros de {M_TIPO}\")\n",
    "    eval_selector = eval_selector_anova\n",
    "    eval_clasifier = eval_clasifier_lr\n",
    "\n",
    "    SEMILLA = 1860\n",
    "    M_SELECT = \"ANOVA\"\n",
    "    M_CLASIF = \"LR_L2\"\n",
    "    param_distributions = {'selector__k': [1000], \n",
    "        'clasifier__solver': ['saga'], 'clasifier__penalty': ['l2'], 'clasifier__max_iter': [10000]}\n",
    "\n"
   ]
  },
  {
   "cell_type": "code",
   "execution_count": 3,
   "id": "143580bf",
   "metadata": {
    "execution": {
     "iopub.execute_input": "2023-10-30T00:48:25.470019Z",
     "iopub.status.busy": "2023-10-30T00:48:25.470019Z",
     "iopub.status.idle": "2023-10-30T00:48:25.485681Z",
     "shell.execute_reply": "2023-10-30T00:48:25.485681Z"
    },
    "papermill": {
     "duration": 0.015662,
     "end_time": "2023-10-30T00:48:25.485681",
     "exception": false,
     "start_time": "2023-10-30T00:48:25.470019",
     "status": "completed"
    },
    "tags": [
     "injected-parameters"
    ]
   },
   "outputs": [],
   "source": [
    "# Parameters\n",
    "M_TIPO = \"mul_m\"\n",
    "M_SELECT = \"RF\"\n",
    "M_CLASIF = \"SVM\"\n",
    "P_FICHERO = \"param_0000_1860_mul_m_RF_SVM.yaml\"\n",
    "R_FICHERO = \"resultados_1860\"\n",
    "M_FICHERO = \"metricas_1860\"\n",
    "PRE_DATA_FILE = \"rows_transpose_norm_by_gene_id_with_target_num_\"\n",
    "SCORING = \"roc_auc_ovr\"\n",
    "SEMILLA = 1860\n",
    "MAX_ITERS = 500\n",
    "eval_selector = \"SelectFromModel(estimator=RandomForestClassifier(random_state=SEMILLA), threshold=-np.inf)\"\n",
    "eval_clasifier = \"SVC(probability=True, random_state=SEMILLA)\"\n",
    "param_distributions = {\n",
    "    \"selector__max_features\": [200],\n",
    "    \"selector__estimator__n_estimators\": [400],\n",
    "    \"clasifier__kernel\": [\"rbf\"],\n",
    "    \"clasifier__gamma\": [0.01],\n",
    "    \"clasifier__C\": [10],\n",
    "}\n"
   ]
  },
  {
   "cell_type": "code",
   "execution_count": 4,
   "id": "511b5c87",
   "metadata": {
    "execution": {
     "iopub.execute_input": "2023-10-30T00:48:25.485681Z",
     "iopub.status.busy": "2023-10-30T00:48:25.485681Z",
     "iopub.status.idle": "2023-10-30T00:48:25.501306Z",
     "shell.execute_reply": "2023-10-30T00:48:25.501306Z"
    },
    "papermill": {
     "duration": 0.015625,
     "end_time": "2023-10-30T00:48:25.501306",
     "exception": false,
     "start_time": "2023-10-30T00:48:25.485681",
     "status": "completed"
    },
    "tags": []
   },
   "outputs": [],
   "source": [
    "DATA_FILE = PRE_DATA_FILE + M_TIPO\n",
    "\n",
    "# si viene \"None\" en el parámetro max_depth, se le quitan las comillas para que no sea entendido por el algoritmo como un texto\n",
    "if \"clasifier__max_depth\" in param_distributions:\n",
    "    param_distributions['clasifier__max_depth'] = [None if x == 'None' else x for x in param_distributions['clasifier__max_depth']]"
   ]
  },
  {
   "cell_type": "markdown",
   "id": "3d57aac3",
   "metadata": {
    "papermill": {
     "duration": 0.0,
     "end_time": "2023-10-30T00:48:25.501306",
     "exception": false,
     "start_time": "2023-10-30T00:48:25.501306",
     "status": "completed"
    },
    "tags": []
   },
   "source": [
    "Asignar los algoritmos que se utilizarán en la función RandomSearchCV"
   ]
  },
  {
   "cell_type": "code",
   "execution_count": 5,
   "id": "3303b395",
   "metadata": {
    "execution": {
     "iopub.execute_input": "2023-10-30T00:48:25.501306Z",
     "iopub.status.busy": "2023-10-30T00:48:25.501306Z",
     "iopub.status.idle": "2023-10-30T00:48:25.532477Z",
     "shell.execute_reply": "2023-10-30T00:48:25.532477Z"
    },
    "papermill": {
     "duration": 0.031171,
     "end_time": "2023-10-30T00:48:25.532477",
     "exception": false,
     "start_time": "2023-10-30T00:48:25.501306",
     "status": "completed"
    },
    "tags": []
   },
   "outputs": [],
   "source": [
    "algor_selector=eval(eval_selector)\n",
    "algor_clasifier=eval(eval_clasifier)"
   ]
  },
  {
   "cell_type": "markdown",
   "id": "ac997490",
   "metadata": {
    "papermill": {
     "duration": 0.0,
     "end_time": "2023-10-30T00:48:25.532477",
     "exception": false,
     "start_time": "2023-10-30T00:48:25.532477",
     "status": "completed"
    },
    "tags": []
   },
   "source": [
    "#### Comprobar el entorno y leer fichero de muestras"
   ]
  },
  {
   "cell_type": "code",
   "execution_count": 6,
   "id": "412f7346",
   "metadata": {
    "execution": {
     "iopub.execute_input": "2023-10-30T00:48:25.548103Z",
     "iopub.status.busy": "2023-10-30T00:48:25.548103Z",
     "iopub.status.idle": "2023-10-30T00:48:25.736457Z",
     "shell.execute_reply": "2023-10-30T00:48:25.736457Z"
    },
    "papermill": {
     "duration": 0.20398,
     "end_time": "2023-10-30T00:48:25.736457",
     "exception": false,
     "start_time": "2023-10-30T00:48:25.532477",
     "status": "completed"
    },
    "tags": []
   },
   "outputs": [
    {
     "name": "stdout",
     "output_type": "stream",
     "text": [
      "20231030T014825 : amilcar32 : INFO : Encontrada carpeta DATA_DIR=..\\tfm_viu\\datos\n",
      "20231030T014825 : amilcar32 : INFO : Encontrada carpeta CFDNA_DIR=..\\tfm_viu\\datos\\cfDNA_5hmC\n",
      "20231030T014825 : amilcar32 : INFO : Encontrada carpeta GENCODE_DIR=..\\tfm_viu\\datos\\gencode\n",
      "20231030T014825 : amilcar32 : INFO : Encontrada carpeta H5_DIR=..\\tfm_viu\\datos\\h5\n",
      "20231030T014825 : amilcar32 : INFO : Encontrada carpeta LOG_DIR=..\\tfm_viu\\datos\\logs\n",
      "20231030T014825 : amilcar32 : INFO : Encontrada carpeta CSV_DIR=..\\tfm_viu\\datos\\csv\n",
      "20231030T014825 : amilcar32 : INFO : Encontrada carpeta MODEL_DIR=..\\tfm_viu\\ejecuciones\\modelos\n",
      "20231030T014825 : amilcar32 : INFO : Encontrada carpeta EXEC_DIR=..\\tfm_viu\\ejecuciones\n",
      "20231030T014825 : amilcar32 : INFO : Encontrada carpeta MET_DIR=..\\tfm_viu\\ejecuciones\\metricas\n",
      "20231030T014825 : amilcar32 : INFO : Inicio leer fichero h5 ..\\tfm_viu\\datos\\h5\\rows_transpose_norm_by_gene_id_with_target_num_mul_m.h5\n",
      "20231030T014825 : amilcar32 : INFO : Leyendo clave /df\n"
     ]
    },
    {
     "name": "stdout",
     "output_type": "stream",
     "text": [
      "20231030T014825 : amilcar32 : INFO : Tamaño (434, 18876)\n",
      "20231030T014825 : amilcar32 : INFO : Fin leer fichero h5 ..\\tfm_viu\\datos\\h5\\rows_transpose_norm_by_gene_id_with_target_num_mul_m.h5\n"
     ]
    },
    {
     "data": {
      "text/plain": [
       "target\n",
       "0    62\n",
       "1    62\n",
       "2    62\n",
       "3    62\n",
       "4    62\n",
       "5    62\n",
       "6    62\n",
       "dtype: int64"
      ]
     },
     "metadata": {},
     "output_type": "display_data"
    },
    {
     "name": "stdout",
     "output_type": "stream",
     "text": [
      "Shape df: (434, 18876)\n",
      "Shape X_train: (347, 18875)\n",
      "Shape X_test: (87, 18875)\n"
     ]
    }
   ],
   "source": [
    "start_time = datetime.datetime.now()\n",
    "\n",
    "myfunc.reset_vars()\n",
    "\n",
    "myfunc.NOTEBK_FILENAME = myfunc.get_nb_name()\n",
    "\n",
    "myfunc.check_enviroment(myfunc.DATA_DIR, myfunc.CFDNA_DIR, myfunc.GENCODE_DIR, myfunc.H5_DIR, myfunc.LOG_DIR, myfunc.CSV_DIR, myfunc.MODEL_DIR, myfunc.EXEC_DIR, myfunc.MET_DIR)\n",
    "\n",
    "# Leer fichero con las muestras\n",
    "df_t = myfunc.read_h5_to_df(DATA_FILE, myfunc.H5_DIR)\n",
    "display(df_t.groupby(\"target\").size())\n",
    "print(\"Shape df:\",df_t.shape)\n",
    "\n",
    "# Separar caracteristicas/genes de las etiquetas/tipos de cáncer\n",
    "X = df_t.iloc[:, :-1]  # Todas las columnas excepto la última\n",
    "y = df_t.iloc[:, -1]  # La última columna contiene los identificadores de los tipos de cáncer\n",
    "\n",
    "#  Crear el conjunto de datos de entrenamiento y de pruebas, y se fija la semilla para siempre coger el mismo juego de muestras\n",
    "X_train, X_test, y_train, y_test = train_test_split(X, y, test_size=0.2, shuffle=True, random_state=42)\n",
    "print(\"Shape X_train:\",X_train.shape)\n",
    "print(\"Shape X_test:\",X_test.shape)\n"
   ]
  },
  {
   "cell_type": "markdown",
   "id": "3c7f3301",
   "metadata": {
    "papermill": {
     "duration": 0.0,
     "end_time": "2023-10-30T00:48:25.736457",
     "exception": false,
     "start_time": "2023-10-30T00:48:25.736457",
     "status": "completed"
    },
    "tags": []
   },
   "source": [
    "#### Selección de características y clasificación."
   ]
  },
  {
   "cell_type": "code",
   "execution_count": 7,
   "id": "f4184481",
   "metadata": {
    "execution": {
     "iopub.execute_input": "2023-10-30T00:48:25.752072Z",
     "iopub.status.busy": "2023-10-30T00:48:25.752072Z",
     "iopub.status.idle": "2023-10-30T00:49:24.273181Z",
     "shell.execute_reply": "2023-10-30T00:49:24.273181Z"
    },
    "papermill": {
     "duration": 58.521109,
     "end_time": "2023-10-30T00:49:24.273181",
     "exception": false,
     "start_time": "2023-10-30T00:48:25.752072",
     "status": "completed"
    },
    "tags": []
   },
   "outputs": [
    {
     "name": "stdout",
     "output_type": "stream",
     "text": [
      "20231030T014825 : amilcar32 : INFO : Iniciando entrenamiento\n",
      "num_iter: 1 , max_iter: 1\n",
      "Fitting 5 folds for each of 1 candidates, totalling 5 fits\n"
     ]
    },
    {
     "name": "stdout",
     "output_type": "stream",
     "text": [
      "Mejores Hiperparámetros: {'selector__max_features': 200, 'selector__estimator__n_estimators': 400, 'clasifier__kernel': 'rbf', 'clasifier__gamma': 0.01, 'clasifier__C': 10}\n",
      "Mejor Puntuación: 0.8459\n",
      "20231030T014924 : amilcar32 : INFO : Fin entrenamiento\n"
     ]
    }
   ],
   "source": [
    "myfunc.verbose(\"Iniciando entrenamiento\")\n",
    "\n",
    "kf = KFold(n_splits=5, shuffle=True, random_state=SEMILLA)\n",
    "\n",
    "# Crear el pipeline para el flujo de tareas\n",
    "tasks_pipeline = Pipeline([\n",
    "    ('selector', algor_selector),\n",
    "    ('clasifier', algor_clasifier)\n",
    "])\n",
    "\n",
    "# MAX_ITERS puede limitar el número de iteraciones si son excesivas para las combinaciones de parámetros buscando un óptimo local, \n",
    "# sino funcionaría como GridSearchCV al revisar todas las cominaciones de los parámetros\n",
    "num_iteraciones = 1\n",
    "num_iteraciones = num_iteraciones * np.prod([len(elemento1) for _, elemento1 in param_distributions.items()])\n",
    "max_iteraciones = num_iteraciones if num_iteraciones <= MAX_ITERS else MAX_ITERS\n",
    "print(\"num_iter:\",num_iteraciones,\", max_iter:\",max_iteraciones)\n",
    "\n",
    "random_search = RandomizedSearchCV(\n",
    "    tasks_pipeline, \n",
    "    param_distributions, \n",
    "    n_iter=max_iteraciones,\n",
    "    scoring=SCORING,\n",
    "    cv=kf,\n",
    "    verbose=3, \n",
    "    random_state=SEMILLA, \n",
    "    n_jobs=-1\n",
    "    )\n",
    "\n",
    "# Entrenar el modelo\n",
    "random_search.fit(X_train, y_train)\n",
    "\n",
    "# Ver los mejores hiperparámetros encontrados\n",
    "print(f'Mejores Hiperparámetros: {random_search.best_params_}')\n",
    "print(f'Mejor Puntuación: {random_search.best_score_:.4f}')\n",
    "\n",
    "# Nos quedamos con el mejor modelo para ver las métricas\n",
    "mejor_modelo = random_search.best_estimator_\n",
    "\n",
    "myfunc.verbose(\"Fin entrenamiento\")"
   ]
  },
  {
   "cell_type": "markdown",
   "id": "04dd1a49",
   "metadata": {
    "papermill": {
     "duration": 0.015617,
     "end_time": "2023-10-30T00:49:24.304432",
     "exception": false,
     "start_time": "2023-10-30T00:49:24.288815",
     "status": "completed"
    },
    "tags": []
   },
   "source": [
    "#### Guardar modelo"
   ]
  },
  {
   "cell_type": "code",
   "execution_count": 8,
   "id": "d53e7c16",
   "metadata": {
    "execution": {
     "iopub.execute_input": "2023-10-30T00:49:24.320065Z",
     "iopub.status.busy": "2023-10-30T00:49:24.320065Z",
     "iopub.status.idle": "2023-10-30T00:49:24.663898Z",
     "shell.execute_reply": "2023-10-30T00:49:24.663898Z"
    },
    "papermill": {
     "duration": 0.359466,
     "end_time": "2023-10-30T00:49:24.663898",
     "exception": false,
     "start_time": "2023-10-30T00:49:24.304432",
     "status": "completed"
    },
    "tags": []
   },
   "outputs": [
    {
     "name": "stdout",
     "output_type": "stream",
     "text": [
      "20231030T014924 : amilcar32 : INFO : Inicio guardar fichero ..\\tfm_viu\\ejecuciones\\modelos\\modelo_1860_mul_m_RF_SVM.pkl\n"
     ]
    },
    {
     "name": "stdout",
     "output_type": "stream",
     "text": [
      "20231030T014924 : amilcar32 : INFO : Fin guardar fichero ..\\tfm_viu\\ejecuciones\\modelos\\modelo_1860_mul_m_RF_SVM.pkl\n"
     ]
    }
   ],
   "source": [
    "fichero_modelo = str.replace(\"modelo_\"+str(SEMILLA).zfill(4)+\"_\"+M_TIPO+\"_\"+M_SELECT+\"_\"+M_CLASIF+\".pkl\", \" \", \"_\")\n",
    "\n",
    "myfunc.save_modelo(mejor_modelo, myfunc.MODEL_DIR, fichero_modelo)"
   ]
  },
  {
   "cell_type": "markdown",
   "id": "04ee000c",
   "metadata": {
    "papermill": {
     "duration": 0.0,
     "end_time": "2023-10-30T00:49:24.679470",
     "exception": false,
     "start_time": "2023-10-30T00:49:24.679470",
     "status": "completed"
    },
    "tags": []
   },
   "source": [
    "#### Ver resultados del las iteraciones hechas por RandomSearchCV"
   ]
  },
  {
   "cell_type": "code",
   "execution_count": 9,
   "id": "f650b6c6",
   "metadata": {
    "execution": {
     "iopub.execute_input": "2023-10-30T00:49:24.710805Z",
     "iopub.status.busy": "2023-10-30T00:49:24.710805Z",
     "iopub.status.idle": "2023-10-30T00:49:24.742046Z",
     "shell.execute_reply": "2023-10-30T00:49:24.742046Z"
    },
    "papermill": {
     "duration": 0.046855,
     "end_time": "2023-10-30T00:49:24.742046",
     "exception": false,
     "start_time": "2023-10-30T00:49:24.695191",
     "status": "completed"
    },
    "tags": []
   },
   "outputs": [
    {
     "name": "stdout",
     "output_type": "stream",
     "text": [
      "20231030T014924 : amilcar32 : INFO : Inicio ver resultados\n",
      "Mejores Hiperparámetros: {'selector__max_features': 200, 'selector__estimator__n_estimators': 400, 'clasifier__kernel': 'rbf', 'clasifier__gamma': 0.01, 'clasifier__C': 10}\n",
      "Mejores puntuaciones: 0.8459 | Params: {'selector__max_features': 200, 'selector__estimator__n_estimators': 400, 'clasifier__kernel': 'rbf', 'clasifier__gamma': 0.01, 'clasifier__C': 10}\n",
      "Media de las puntuaciones: 0.8459 | Params: {'selector__max_features': 200, 'selector__estimator__n_estimators': 400, 'clasifier__kernel': 'rbf', 'clasifier__gamma': 0.01, 'clasifier__C': 10}\n",
      "20231030T014924 : amilcar32 : INFO : Fin resultados\n"
     ]
    }
   ],
   "source": [
    "myfunc.ver_resultados_search(random_search)"
   ]
  },
  {
   "cell_type": "markdown",
   "id": "6acfee28",
   "metadata": {
    "papermill": {
     "duration": 0.0,
     "end_time": "2023-10-30T00:49:24.757591",
     "exception": false,
     "start_time": "2023-10-30T00:49:24.757591",
     "status": "completed"
    },
    "tags": []
   },
   "source": [
    "#### Ver métricas del mejor modelo"
   ]
  },
  {
   "cell_type": "code",
   "execution_count": 10,
   "id": "3f1dc617",
   "metadata": {
    "execution": {
     "iopub.execute_input": "2023-10-30T00:49:24.789388Z",
     "iopub.status.busy": "2023-10-30T00:49:24.789388Z",
     "iopub.status.idle": "2023-10-30T00:49:27.120446Z",
     "shell.execute_reply": "2023-10-30T00:49:27.120446Z"
    },
    "papermill": {
     "duration": 2.347231,
     "end_time": "2023-10-30T00:49:27.120446",
     "exception": false,
     "start_time": "2023-10-30T00:49:24.773215",
     "status": "completed"
    },
    "tags": []
   },
   "outputs": [
    {
     "name": "stdout",
     "output_type": "stream",
     "text": [
      "20231030T014924 : amilcar32 : INFO : Inicio ver métricas multiclase\n"
     ]
    },
    {
     "name": "stdout",
     "output_type": "stream",
     "text": [
      "              precision    recall  f1-score   support\n",
      "\n",
      "           0       0.00      0.00      0.00        16\n",
      "           1       0.64      0.60      0.62        15\n",
      "           2       0.31      0.36      0.33        11\n",
      "           3       0.25      0.60      0.35         5\n",
      "           4       0.50      0.54      0.52        13\n",
      "           5       0.58      0.78      0.67         9\n",
      "           6       0.50      0.39      0.44        18\n",
      "\n",
      "    accuracy                           0.43        87\n",
      "   macro avg       0.40      0.47      0.42        87\n",
      "weighted avg       0.40      0.43      0.41        87\n",
      "\n",
      "\n",
      "\n",
      "           Exactitud: 0.425287\n",
      "   Precisión (media): 0.397698\n",
      "      Recall (media): 0.466966\n",
      "    F1-score (media): 0.418521\n",
      "\n",
      "\n",
      "AUC para el tipo de cáncer 0-Control.... 0.6171\n",
      "AUC para el tipo de cáncer 1-Bladder.... 0.8889\n",
      "AUC para el tipo de cáncer 2-Breast..... 0.7177\n",
      "AUC para el tipo de cáncer 3-Colorectal. 0.9098\n",
      "AUC para el tipo de cáncer 4-Kidney..... 0.8254\n",
      "AUC para el tipo de cáncer 5-Lung....... 0.9501\n",
      "AUC para el tipo de cáncer 6-Prostate... 0.8180\n",
      "\n",
      "Media de AUC: 0.8181\n"
     ]
    },
    {
     "data": {
      "image/png": "[encoded data removed]",
      "text/plain": [
       "<Figure size 1000x600 with 1 Axes>"
      ]
     },
     "metadata": {},
     "output_type": "display_data"
    },
    {
     "name": "stdout",
     "output_type": "stream",
     "text": [
      "\n",
      "\n"
     ]
    },
    {
     "data": {
      "image/png": "[encoded data removed]",
      "text/plain": [
       "<Figure size 800x400 with 2 Axes>"
      ]
     },
     "metadata": {},
     "output_type": "display_data"
    },
    {
     "name": "stdout",
     "output_type": "stream",
     "text": [
      "\n",
      "\n",
      "Puntuación Jaccard para el cáncer tipo 0-Control.... 0.0000\n",
      "Puntuación Jaccard para el cáncer tipo 1-Bladder.... 0.4500\n",
      "Puntuación Jaccard para el cáncer tipo 2-Breast..... 0.2000\n",
      "Puntuación Jaccard para el cáncer tipo 3-Colorectal. 0.2143\n",
      "Puntuación Jaccard para el cáncer tipo 4-Kidney..... 0.3500\n",
      "Puntuación Jaccard para el cáncer tipo 5-Lung....... 0.5000\n",
      "Puntuación Jaccard para el cáncer tipo 6-Prostate... 0.2800\n",
      "\n",
      "Media de la puntuación de Jaccard: 0.2849\n"
     ]
    }
   ],
   "source": [
    "if M_TIPO.startswith(\"bin\"):\n",
    "    myfunc.ver_metricas(mejor_modelo, X_test, y_test)\n",
    "else:\n",
    "    myfunc.ver_metricas_multi(mejor_modelo, X_test, y_test)\n"
   ]
  },
  {
   "cell_type": "markdown",
   "id": "07781c49",
   "metadata": {
    "papermill": {
     "duration": 0.015704,
     "end_time": "2023-10-30T00:49:27.151776",
     "exception": false,
     "start_time": "2023-10-30T00:49:27.136072",
     "status": "completed"
    },
    "tags": []
   },
   "source": [
    "#### Finalización del notebook"
   ]
  },
  {
   "cell_type": "code",
   "execution_count": 11,
   "id": "c034c511",
   "metadata": {
    "execution": {
     "iopub.execute_input": "2023-10-30T00:49:27.169494Z",
     "iopub.status.busy": "2023-10-30T00:49:27.169494Z",
     "iopub.status.idle": "2023-10-30T00:49:27.183556Z",
     "shell.execute_reply": "2023-10-30T00:49:27.183556Z"
    },
    "papermill": {
     "duration": 0.016152,
     "end_time": "2023-10-30T00:49:27.183556",
     "exception": false,
     "start_time": "2023-10-30T00:49:27.167404",
     "status": "completed"
    },
    "tags": []
   },
   "outputs": [
    {
     "name": "stdout",
     "output_type": "stream",
     "text": [
      "20231030T014927 : amilcar32 : INFO : Notebook ha tardado 61 seconds\n"
     ]
    }
   ],
   "source": [
    "end_time = datetime.datetime.now()\n",
    "total_time = end_time - start_time\n",
    "myfunc.verbose(f\"Notebook ha tardado {total_time.seconds} seconds\")"
   ]
  },
  {
   "cell_type": "markdown",
   "id": "a23796ad",
   "metadata": {
    "papermill": {
     "duration": 0.015639,
     "end_time": "2023-10-30T00:49:27.199195",
     "exception": false,
     "start_time": "2023-10-30T00:49:27.183556",
     "status": "completed"
    },
    "tags": []
   },
   "source": [
    "#### Guardar métricas"
   ]
  },
  {
   "cell_type": "code",
   "execution_count": 12,
   "id": "899f7063",
   "metadata": {
    "execution": {
     "iopub.execute_input": "2023-10-30T00:49:27.230515Z",
     "iopub.status.busy": "2023-10-30T00:49:27.230515Z",
     "iopub.status.idle": "2023-10-30T00:49:28.935791Z",
     "shell.execute_reply": "2023-10-30T00:49:28.935791Z"
    },
    "papermill": {
     "duration": 1.725484,
     "end_time": "2023-10-30T00:49:28.940380",
     "exception": false,
     "start_time": "2023-10-30T00:49:27.214896",
     "status": "completed"
    },
    "tags": []
   },
   "outputs": [
    {
     "name": "stdout",
     "output_type": "stream",
     "text": [
      "20231030T014927 : amilcar32 : INFO : Inicio guardar métricas multiclase\n",
      "20231030T014927 : amilcar32 : INFO : Inicio leer fichero ..\\tfm_viu\\ejecuciones\\metricas\\metricas_1860.csv\n",
      "20231030T014927 : amilcar32 : INFO : Fin leer fichero ..\\tfm_viu\\ejecuciones\\metricas\\metricas_1860.csv\n"
     ]
    },
    {
     "name": "stdout",
     "output_type": "stream",
     "text": [
      "20231030T014928 : amilcar32 : INFO : Inicio guardar fichero ..\\tfm_viu\\ejecuciones\\metricas\\metricas_1860.csv\n",
      "20231030T014928 : amilcar32 : INFO : Fichero borrado ..\\tfm_viu\\ejecuciones\\metricas\\metricas_1860.csv\n",
      "20231030T014928 : amilcar32 : INFO : Fin guardar fichero ..\\tfm_viu\\ejecuciones\\metricas\\metricas_1860.csv\n",
      "20231030T014928 : amilcar32 : INFO : Fin guardar métricas multiclase\n",
      "20231030T014928 : amilcar32 : INFO : Inicio leer fichero ..\\tfm_viu\\ejecuciones\\metricas\\metricas_1860.csv\n",
      "20231030T014928 : amilcar32 : INFO : Fin leer fichero ..\\tfm_viu\\ejecuciones\\metricas\\metricas_1860.csv\n"
     ]
    },
    {
     "data": {
      "text/html": [
       "<div>\n",
       "<style scoped>\n",
       "    .dataframe tbody tr th:only-of-type {\n",
       "        vertical-align: middle;\n",
       "    }\n",
       "\n",
       "    .dataframe tbody tr th {\n",
       "        vertical-align: top;\n",
       "    }\n",
       "\n",
       "    .dataframe thead th {\n",
       "        text-align: right;\n",
       "    }\n",
       "</style>\n",
       "<table border=\"1\" class=\"dataframe\">\n",
       "  <thead>\n",
       "    <tr style=\"text-align: right;\">\n",
       "      <th></th>\n",
       "      <th>tipo</th>\n",
       "      <th>select</th>\n",
       "      <th>clasific</th>\n",
       "      <th>semilla</th>\n",
       "      <th>accuracy</th>\n",
       "      <th>precision</th>\n",
       "      <th>recall</th>\n",
       "      <th>f1_score</th>\n",
       "      <th>roc_auc</th>\n",
       "      <th>hostname</th>\n",
       "      <th>total_time_sec</th>\n",
       "      <th>datetime</th>\n",
       "      <th>fichero_modelo</th>\n",
       "      <th>params</th>\n",
       "      <th>shape</th>\n",
       "      <th>features</th>\n",
       "      <th>roc_auc_ovr</th>\n",
       "      <th>indices_auc</th>\n",
       "      <th>indices_jaccard</th>\n",
       "    </tr>\n",
       "  </thead>\n",
       "  <tbody>\n",
       "    <tr>\n",
       "      <th>0</th>\n",
       "      <td>mul_m</td>\n",
       "      <td>RF</td>\n",
       "      <td>SVM</td>\n",
       "      <td>1860</td>\n",
       "      <td>0.425287</td>\n",
       "      <td>0.397698</td>\n",
       "      <td>0.466966</td>\n",
       "      <td>0.418521</td>\n",
       "      <td>NaN</td>\n",
       "      <td>amilcar32</td>\n",
       "      <td>61</td>\n",
       "      <td>2023-10-30 01:49:28.841686</td>\n",
       "      <td>modelo_1860_mul_m_RF_SVM.pkl</td>\n",
       "      <td>{'selector__max_features': 200, 'selector__est...</td>\n",
       "      <td>X_test:(87, 18875)</td>\n",
       "      <td>['ENSG00000005381.9', 'ENSG00000011600.12', 'E...</td>\n",
       "      <td>0.818138</td>\n",
       "      <td>[0.6170774647887324, 0.8888888888888888, 0.717...</td>\n",
       "      <td>[0.0, 0.45, 0.2, 0.21428571428571427, 0.35, 0....</td>\n",
       "    </tr>\n",
       "    <tr>\n",
       "      <th>0</th>\n",
       "      <td>mul_m</td>\n",
       "      <td>RF</td>\n",
       "      <td>RF</td>\n",
       "      <td>1860</td>\n",
       "      <td>0.505747</td>\n",
       "      <td>0.438437</td>\n",
       "      <td>0.560950</td>\n",
       "      <td>0.480368</td>\n",
       "      <td>NaN</td>\n",
       "      <td>amilcar32</td>\n",
       "      <td>89</td>\n",
       "      <td>2023-10-30 01:48:20.216976</td>\n",
       "      <td>modelo_1860_mul_m_RF_RF.pkl</td>\n",
       "      <td>{'selector__max_features': 500, 'selector__est...</td>\n",
       "      <td>X_test:(87, 18875)</td>\n",
       "      <td>['ENSG00000001626.18', 'ENSG00000002587.10', '...</td>\n",
       "      <td>0.840307</td>\n",
       "      <td>[0.6346830985915493, 0.8722222222222222, 0.824...</td>\n",
       "      <td>[0.0, 0.47619047619047616, 0.35294117647058826...</td>\n",
       "    </tr>\n",
       "    <tr>\n",
       "      <th>0</th>\n",
       "      <td>mul_m</td>\n",
       "      <td>RF</td>\n",
       "      <td>LR_L2</td>\n",
       "      <td>1860</td>\n",
       "      <td>0.540230</td>\n",
       "      <td>0.568124</td>\n",
       "      <td>0.564752</td>\n",
       "      <td>0.535227</td>\n",
       "      <td>NaN</td>\n",
       "      <td>amilcar32</td>\n",
       "      <td>98</td>\n",
       "      <td>2023-10-30 01:46:44.327523</td>\n",
       "      <td>modelo_1860_mul_m_RF_LR_L2.pkl</td>\n",
       "      <td>{'selector__max_features': 1000, 'selector__es...</td>\n",
       "      <td>X_test:(87, 18875)</td>\n",
       "      <td>['ENSG00000002587.10', 'ENSG00000005381.9', 'E...</td>\n",
       "      <td>0.864084</td>\n",
       "      <td>[0.755281690140845, 0.8953703703703704, 0.8062...</td>\n",
       "      <td>[0.19047619047619047, 0.5555555555555556, 0.31...</td>\n",
       "    </tr>\n",
       "  </tbody>\n",
       "</table>\n",
       "</div>"
      ],
      "text/plain": [
       "    tipo select clasific  semilla  accuracy  precision    recall  f1_score  \\\n",
       "0  mul_m     RF      SVM     1860  0.425287   0.397698  0.466966  0.418521   \n",
       "0  mul_m     RF       RF     1860  0.505747   0.438437  0.560950  0.480368   \n",
       "0  mul_m     RF    LR_L2     1860  0.540230   0.568124  0.564752  0.535227   \n",
       "\n",
       "   roc_auc   hostname  total_time_sec                    datetime  \\\n",
       "0      NaN  amilcar32              61  2023-10-30 01:49:28.841686   \n",
       "0      NaN  amilcar32              89  2023-10-30 01:48:20.216976   \n",
       "0      NaN  amilcar32              98  2023-10-30 01:46:44.327523   \n",
       "\n",
       "                   fichero_modelo  \\\n",
       "0    modelo_1860_mul_m_RF_SVM.pkl   \n",
       "0     modelo_1860_mul_m_RF_RF.pkl   \n",
       "0  modelo_1860_mul_m_RF_LR_L2.pkl   \n",
       "\n",
       "                                              params               shape  \\\n",
       "0  {'selector__max_features': 200, 'selector__est...  X_test:(87, 18875)   \n",
       "0  {'selector__max_features': 500, 'selector__est...  X_test:(87, 18875)   \n",
       "0  {'selector__max_features': 1000, 'selector__es...  X_test:(87, 18875)   \n",
       "\n",
       "                                            features  roc_auc_ovr  \\\n",
       "0  ['ENSG00000005381.9', 'ENSG00000011600.12', 'E...     0.818138   \n",
       "0  ['ENSG00000001626.18', 'ENSG00000002587.10', '...     0.840307   \n",
       "0  ['ENSG00000002587.10', 'ENSG00000005381.9', 'E...     0.864084   \n",
       "\n",
       "                                         indices_auc  \\\n",
       "0  [0.6170774647887324, 0.8888888888888888, 0.717...   \n",
       "0  [0.6346830985915493, 0.8722222222222222, 0.824...   \n",
       "0  [0.755281690140845, 0.8953703703703704, 0.8062...   \n",
       "\n",
       "                                     indices_jaccard  \n",
       "0  [0.0, 0.45, 0.2, 0.21428571428571427, 0.35, 0....  \n",
       "0  [0.0, 0.47619047619047616, 0.35294117647058826...  \n",
       "0  [0.19047619047619047, 0.5555555555555556, 0.31...  "
      ]
     },
     "metadata": {},
     "output_type": "display_data"
    }
   ],
   "source": [
    "if M_TIPO.startswith(\"bin\"):\n",
    "    myfunc.save_metricas_to_csv(random_search, X_test, y_test, M_TIPO, M_SELECT, M_CLASIF, total_time, SEMILLA, myfunc.MET_DIR, M_FICHERO, fichero_modelo)\n",
    "else:\n",
    "    myfunc.save_metricas_multi_to_csv(random_search, X_test, y_test, M_TIPO, M_SELECT, M_CLASIF, total_time, SEMILLA, myfunc.MET_DIR, M_FICHERO, fichero_modelo)\n",
    "\n",
    "df1=myfunc.read_metricas_to_df(myfunc.MET_DIR,M_FICHERO)\n",
    "\n",
    "display(df1.sort_values(\"datetime\", ascending=False)[:3])\n"
   ]
  },
  {
   "cell_type": "markdown",
   "id": "1be622fe",
   "metadata": {
    "papermill": {
     "duration": 0.015729,
     "end_time": "2023-10-30T00:49:28.967702",
     "exception": false,
     "start_time": "2023-10-30T00:49:28.951973",
     "status": "completed"
    },
    "tags": []
   },
   "source": [
    "#### Guardar resultados"
   ]
  },
  {
   "cell_type": "code",
   "execution_count": 13,
   "id": "fac2eb44",
   "metadata": {
    "execution": {
     "iopub.execute_input": "2023-10-30T00:49:28.999453Z",
     "iopub.status.busy": "2023-10-30T00:49:28.999453Z",
     "iopub.status.idle": "2023-10-30T00:49:29.030800Z",
     "shell.execute_reply": "2023-10-30T00:49:29.030800Z"
    },
    "papermill": {
     "duration": 0.046907,
     "end_time": "2023-10-30T00:49:29.030800",
     "exception": false,
     "start_time": "2023-10-30T00:49:28.983893",
     "status": "completed"
    },
    "tags": []
   },
   "outputs": [
    {
     "name": "stdout",
     "output_type": "stream",
     "text": [
      "20231030T014928 : amilcar32 : INFO : Inicio guardar resultados\n",
      "20231030T014929 : amilcar32 : INFO : Inicio guardar fichero ..\\tfm_viu\\ejecuciones\\metricas\\resultados_1860_mul_m-RF-SVM.csv\n",
      "20231030T014929 : amilcar32 : INFO : Fin guardar fichero ..\\tfm_viu\\ejecuciones\\metricas\\resultados_1860_mul_m-RF-SVM.csv\n",
      "20231030T014929 : amilcar32 : INFO : Fin guardar resultados\n"
     ]
    }
   ],
   "source": [
    "fichero_resultados=R_FICHERO+\"_\"+M_TIPO+\"-\"+M_SELECT+\"-\"+M_CLASIF+\".csv\"\n",
    "myfunc.save_resultados_to_csv(M_TIPO, M_SELECT, M_CLASIF,  random_search, myfunc.MET_DIR, fichero_resultados)\n"
   ]
  }
 ],
 "metadata": {
  "kernelspec": {
   "display_name": "Python 3 (ipykernel)",
   "language": "python",
   "name": "python3"
  },
  "language_info": {
   "codemirror_mode": {
    "name": "ipython",
    "version": 3
   },
   "file_extension": ".py",
   "mimetype": "text/x-python",
   "name": "python",
   "nbconvert_exporter": "python",
   "pygments_lexer": "ipython3",
   "version": "3.10.12"
  },
  "papermill": {
   "default_parameters": {},
   "duration": 67.64116,
   "end_time": "2023-10-30T00:49:30.065689",
   "environment_variables": {},
   "exception": null,
   "input_path": "03_entrenamiento.ipynb",
   "output_path": "ejecuciones\\training\\03_entrenamiento.20231030T_14821.param_0000_1860_mul_m_RF_SVM.output.ipynb",
   "parameters": {
    "MAX_ITERS": 500,
    "M_CLASIF": "SVM",
    "M_FICHERO": "metricas_1860",
    "M_SELECT": "RF",
    "M_TIPO": "mul_m",
    "PRE_DATA_FILE": "rows_transpose_norm_by_gene_id_with_target_num_",
    "P_FICHERO": "param_0000_1860_mul_m_RF_SVM.yaml",
    "R_FICHERO": "resultados_1860",
    "SCORING": "roc_auc_ovr",
    "SEMILLA": 1860,
    "eval_clasifier": "SVC(probability=True, random_state=SEMILLA)",
    "eval_selector": "SelectFromModel(estimator=RandomForestClassifier(random_state=SEMILLA), threshold=-np.inf)",
    "param_distributions": {
     "clasifier__C": [
      10
     ],
     "clasifier__gamma": [
      0.01
     ],
     "clasifier__kernel": [
      "rbf"
     ],
     "selector__estimator__n_estimators": [
      400
     ],
     "selector__max_features": [
      200
     ]
    }
   },
   "start_time": "2023-10-30T00:48:22.424529",
   "version": "2.4.0"
  }
 },
 "nbformat": 4,
 "nbformat_minor": 5
}