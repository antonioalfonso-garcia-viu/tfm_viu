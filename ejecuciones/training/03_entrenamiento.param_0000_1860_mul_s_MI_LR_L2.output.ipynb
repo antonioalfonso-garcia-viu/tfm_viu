{
 "cells": [
  {
   "cell_type": "markdown",
   "id": "3b0e5316",
   "metadata": {
    "papermill": {
     "duration": 0.0,
     "end_time": "2023-10-30T02:28:07.662192",
     "exception": false,
     "start_time": "2023-10-30T02:28:07.662192",
     "status": "completed"
    },
    "tags": []
   },
   "source": [
    "##### Inicio"
   ]
  },
  {
   "cell_type": "markdown",
   "id": "902526df",
   "metadata": {
    "papermill": {
     "duration": 0.003603,
     "end_time": "2023-10-30T02:28:07.681234",
     "exception": false,
     "start_time": "2023-10-30T02:28:07.677631",
     "status": "completed"
    },
    "tags": []
   },
   "source": [
    "#### Carga de datos"
   ]
  },
  {
   "cell_type": "code",
   "execution_count": 1,
   "id": "261bc3dd",
   "metadata": {
    "execution": {
     "iopub.execute_input": "2023-10-30T02:28:07.681234Z",
     "iopub.status.busy": "2023-10-30T02:28:07.681234Z",
     "iopub.status.idle": "2023-10-30T02:28:08.850679Z",
     "shell.execute_reply": "2023-10-30T02:28:08.850679Z"
    },
    "papermill": {
     "duration": 1.169445,
     "end_time": "2023-10-30T02:28:08.850679",
     "exception": false,
     "start_time": "2023-10-30T02:28:07.681234",
     "status": "completed"
    },
    "tags": []
   },
   "outputs": [
    {
     "name": "stdout",
     "output_type": "stream",
     "text": [
      "CPU_COUNT: 24; NODE: amilcar32; sys.version: 3.10.12 | packaged by Anaconda, Inc. | (main, Jul  5 2023, 19:09:20) [MSC v.1916 64 bit (AMD64)]\n",
      "LOKY_MAX_CPU_COUNT is not set.\n",
      "OMP_NUM_THREADS is not set.\n"
     ]
    }
   ],
   "source": [
    "import os\n",
    "import numpy as np\n",
    "import pandas as pd\n",
    "import datetime\n",
    "import sklearn\n",
    "import logging\n",
    "import warnings\n",
    "\n",
    "from sklearn.pipeline import Pipeline\n",
    "from sklearn.model_selection import RandomizedSearchCV, KFold, cross_val_score, train_test_split\n",
    "from sklearn.metrics import accuracy_score, confusion_matrix, classification_report, roc_auc_score\n",
    "\n",
    "#  cargar algoritmos para aprendizaje supervisado\n",
    "from sklearn.feature_selection import SelectKBest, f_classif, SelectFromModel, mutual_info_classif\n",
    "from sklearn.svm import SVC\n",
    "from sklearn.ensemble import RandomForestClassifier\n",
    "from sklearn.linear_model import LogisticRegression,LogisticRegressionCV\n",
    "\n",
    "# importar fichero con utilidades propias\n",
    "from commons import myfunctions as myfunc\n"
   ]
  },
  {
   "cell_type": "markdown",
   "id": "6078f770",
   "metadata": {
    "papermill": {
     "duration": 0.0,
     "end_time": "2023-10-30T02:28:08.850679",
     "exception": false,
     "start_time": "2023-10-30T02:28:08.850679",
     "status": "completed"
    },
    "tags": []
   },
   "source": [
    "#### Parámetros a utilizar en el entrenamiento.\n",
    "\n",
    "Se indican los 3 algoritmos de *selección de características* (eval_selector_xxx) y los 3 algoritmos para la _clasificación_ (eval_clasifier_xxx)\n",
    "\n",
    "En *param_distributions* se indicar los parámetros que utilizan los algoritmos en la función RandomSearchCV.\n",
    "\n",
    "Esta celda tiene la etiqueta **parameters** que servirá para poder lanzar los entrenamientos con la utilidad **papermill** pasándole un fichero con los parámetros. Los nuevos parámetros se situarán tras esta celda para tener prevalencia."
   ]
  },
  {
   "cell_type": "code",
   "execution_count": 2,
   "id": "ac34b25d",
   "metadata": {
    "execution": {
     "iopub.execute_input": "2023-10-30T02:28:08.850679Z",
     "iopub.status.busy": "2023-10-30T02:28:08.850679Z",
     "iopub.status.idle": "2023-10-30T02:28:08.882027Z",
     "shell.execute_reply": "2023-10-30T02:28:08.882027Z"
    },
    "papermill": {
     "duration": 0.031348,
     "end_time": "2023-10-30T02:28:08.882027",
     "exception": false,
     "start_time": "2023-10-30T02:28:08.850679",
     "status": "completed"
    },
    "tags": [
     "parameters"
    ]
   },
   "outputs": [
    {
     "name": "stdout",
     "output_type": "stream",
     "text": [
      "20231030T032808 : amilcar32 : INFO : Utilizando parámetros de mul_m\n"
     ]
    }
   ],
   "source": [
    "#  Parametros para el entrenamiento\n",
    "\n",
    "SEMILLA=        42\n",
    "M_TIPO=         \"mul_m\"\n",
    "M_SELECT=       \"MI\"\n",
    "M_CLASIF=       \"SVM\"\n",
    "R_FICHERO=      \"resultados\"\n",
    "M_FICHERO=      \"metricas\"\n",
    "PRE_DATA_FILE=  \"rows_transpose_norm_by_gene_id_with_target_num_\"\n",
    "SCORING=        \"roc_auc_ovr\" \n",
    "MAX_ITERS=      100\n",
    "\n",
    "def mutual_info_classif_state(X, y):\n",
    "    return mutual_info_classif(X, y, random_state=SEMILLA)\n",
    "\n",
    "eval_selector_mi = \"SelectKBest(score_func=mutual_info_classif_state)\"\n",
    "eval_selector_rf=  \"SelectFromModel(estimator=RandomForestClassifier(random_state=SEMILLA), threshold=-np.inf)\"\n",
    "eval_selector_anova=  \"SelectKBest(score_func=f_classif)\"\n",
    "\n",
    "eval_clasifier_svm= \"SVC(probability=True, random_state=SEMILLA)\"\n",
    "eval_clasifier_rf= \"RandomForestClassifier(random_state=SEMILLA)\"\n",
    "eval_clasifier_lr= \"LogisticRegressionCV(random_state=SEMILLA)\"\n",
    "\n",
    "if M_TIPO.startswith(\"bin_m\"):\n",
    "    myfunc.verbose(f\"Utilizando parámetros de {M_TIPO}\")\n",
    "    eval_selector = eval_selector_mi\n",
    "    eval_clasifier = eval_clasifier_svm\n",
    "\n",
    "    SEMILLA = 6578\n",
    "    M_SELECT = \"MI\"\n",
    "    M_CLASIF = \"SVM\"\n",
    "    param_distributions = {'selector__k': [1000], \n",
    "         'clasifier__kernel': ['rbf'], 'clasifier__gamma': [0.01], 'clasifier__C': [100]}\n",
    "elif M_TIPO.startswith(\"bin_s\"):\n",
    "    myfunc.verbose(f\"Utilizando parámetros de {M_TIPO}\")\n",
    "    eval_selector = eval_selector_rf\n",
    "    eval_clasifier = eval_clasifier_lr\n",
    "\n",
    "    SEMILLA = 6191\n",
    "    M_SELECT = \"RF\"\n",
    "    M_CLASIF = \"LR_L2\"\n",
    "    param_distributions = {'selector__max_features': [1000], 'selector__estimator__n_estimators': [200], \n",
    "        'clasifier__solver': ['lbfgs'], 'clasifier__penalty': ['l2'], 'clasifier__max_iter': [10000]}\n",
    "\n",
    "elif M_TIPO.startswith(\"mul_m\"):\n",
    "    myfunc.verbose(f\"Utilizando parámetros de {M_TIPO}\")\n",
    " \n",
    "    eval_selector = eval_selector_rf\n",
    "    eval_clasifier = eval_clasifier_lr\n",
    "\n",
    "    SEMILLA = 6191\n",
    "    M_SELECT = \"RF\"\n",
    "    M_CLASIF = \"LR_L2\"\n",
    "    param_distributions = {'selector__max_features': [1000], 'selector__estimator__n_estimators': [400], \n",
    "        'clasifier__solver': ['lbfgs'], 'clasifier__penalty': ['l2'], 'clasifier__max_iter': [10000]}\n",
    "\n",
    "else:\n",
    "    # M_TIPO.startswith(\"mul_s\"):\n",
    "    myfunc.verbose(f\"Utilizando parámetros de {M_TIPO}\")\n",
    "    eval_selector = eval_selector_anova\n",
    "    eval_clasifier = eval_clasifier_lr\n",
    "\n",
    "    SEMILLA = 1860\n",
    "    M_SELECT = \"ANOVA\"\n",
    "    M_CLASIF = \"LR_L2\"\n",
    "    param_distributions = {'selector__k': [1000], \n",
    "        'clasifier__solver': ['saga'], 'clasifier__penalty': ['l2'], 'clasifier__max_iter': [10000]}\n",
    "\n"
   ]
  },
  {
   "cell_type": "code",
   "execution_count": 3,
   "id": "96b6ab27",
   "metadata": {
    "execution": {
     "iopub.execute_input": "2023-10-30T02:28:08.882027Z",
     "iopub.status.busy": "2023-10-30T02:28:08.882027Z",
     "iopub.status.idle": "2023-10-30T02:28:08.897654Z",
     "shell.execute_reply": "2023-10-30T02:28:08.897654Z"
    },
    "papermill": {
     "duration": 0.015627,
     "end_time": "2023-10-30T02:28:08.897654",
     "exception": false,
     "start_time": "2023-10-30T02:28:08.882027",
     "status": "completed"
    },
    "tags": [
     "injected-parameters"
    ]
   },
   "outputs": [],
   "source": [
    "# Parameters\n",
    "M_TIPO = \"mul_s\"\n",
    "M_SELECT = \"MI\"\n",
    "M_CLASIF = \"LR_L2\"\n",
    "P_FICHERO = \"param_0000_1860_mul_s_MI_LR_L2.yaml\"\n",
    "R_FICHERO = \"resultados_1860\"\n",
    "M_FICHERO = \"metricas_1860\"\n",
    "PRE_DATA_FILE = \"rows_transpose_norm_by_gene_id_with_target_num_\"\n",
    "SCORING = \"roc_auc_ovr\"\n",
    "SEMILLA = 1860\n",
    "MAX_ITERS = 500\n",
    "eval_selector = \"SelectKBest(score_func=mutual_info_classif_state)\"\n",
    "eval_clasifier = \"LogisticRegressionCV(random_state=SEMILLA)\"\n",
    "param_distributions = {\n",
    "    \"selector__k\": [500],\n",
    "    \"clasifier__solver\": [\"saga\"],\n",
    "    \"clasifier__penalty\": [\"l2\"],\n",
    "    \"clasifier__max_iter\": [10000],\n",
    "}\n"
   ]
  },
  {
   "cell_type": "code",
   "execution_count": 4,
   "id": "347202ba",
   "metadata": {
    "execution": {
     "iopub.execute_input": "2023-10-30T02:28:08.897654Z",
     "iopub.status.busy": "2023-10-30T02:28:08.897654Z",
     "iopub.status.idle": "2023-10-30T02:28:08.913272Z",
     "shell.execute_reply": "2023-10-30T02:28:08.913272Z"
    },
    "papermill": {
     "duration": 0.015618,
     "end_time": "2023-10-30T02:28:08.913272",
     "exception": false,
     "start_time": "2023-10-30T02:28:08.897654",
     "status": "completed"
    },
    "tags": []
   },
   "outputs": [],
   "source": [
    "DATA_FILE = PRE_DATA_FILE + M_TIPO\n",
    "\n",
    "# si viene \"None\" en el parámetro max_depth, se le quitan las comillas para que no sea entendido por el algoritmo como un texto\n",
    "if \"clasifier__max_depth\" in param_distributions:\n",
    "    param_distributions['clasifier__max_depth'] = [None if x == 'None' else x for x in param_distributions['clasifier__max_depth']]"
   ]
  },
  {
   "cell_type": "markdown",
   "id": "b35c3459",
   "metadata": {
    "papermill": {
     "duration": 0.0,
     "end_time": "2023-10-30T02:28:08.913272",
     "exception": false,
     "start_time": "2023-10-30T02:28:08.913272",
     "status": "completed"
    },
    "tags": []
   },
   "source": [
    "Asignar los algoritmos que se utilizarán en la función RandomSearchCV"
   ]
  },
  {
   "cell_type": "code",
   "execution_count": 5,
   "id": "e79c70bb",
   "metadata": {
    "execution": {
     "iopub.execute_input": "2023-10-30T02:28:08.928890Z",
     "iopub.status.busy": "2023-10-30T02:28:08.928890Z",
     "iopub.status.idle": "2023-10-30T02:28:08.944523Z",
     "shell.execute_reply": "2023-10-30T02:28:08.944523Z"
    },
    "papermill": {
     "duration": 0.031251,
     "end_time": "2023-10-30T02:28:08.944523",
     "exception": false,
     "start_time": "2023-10-30T02:28:08.913272",
     "status": "completed"
    },
    "tags": []
   },
   "outputs": [],
   "source": [
    "algor_selector=eval(eval_selector)\n",
    "algor_clasifier=eval(eval_clasifier)"
   ]
  },
  {
   "cell_type": "markdown",
   "id": "752c81d5",
   "metadata": {
    "papermill": {
     "duration": 0.0,
     "end_time": "2023-10-30T02:28:08.944523",
     "exception": false,
     "start_time": "2023-10-30T02:28:08.944523",
     "status": "completed"
    },
    "tags": []
   },
   "source": [
    "#### Comprobar el entorno y leer fichero de muestras"
   ]
  },
  {
   "cell_type": "code",
   "execution_count": 6,
   "id": "971a70b2",
   "metadata": {
    "execution": {
     "iopub.execute_input": "2023-10-30T02:28:08.960148Z",
     "iopub.status.busy": "2023-10-30T02:28:08.960148Z",
     "iopub.status.idle": "2023-10-30T02:28:09.101064Z",
     "shell.execute_reply": "2023-10-30T02:28:09.101064Z"
    },
    "papermill": {
     "duration": 0.140916,
     "end_time": "2023-10-30T02:28:09.101064",
     "exception": false,
     "start_time": "2023-10-30T02:28:08.960148",
     "status": "completed"
    },
    "tags": []
   },
   "outputs": [
    {
     "name": "stdout",
     "output_type": "stream",
     "text": [
      "20231030T032808 : amilcar32 : INFO : Encontrada carpeta DATA_DIR=..\\tfm_viu\\datos\n",
      "20231030T032808 : amilcar32 : INFO : Encontrada carpeta CFDNA_DIR=..\\tfm_viu\\datos\\cfDNA_5hmC\n",
      "20231030T032808 : amilcar32 : INFO : Encontrada carpeta GENCODE_DIR=..\\tfm_viu\\datos\\gencode\n",
      "20231030T032808 : amilcar32 : INFO : Encontrada carpeta H5_DIR=..\\tfm_viu\\datos\\h5\n",
      "20231030T032808 : amilcar32 : INFO : Encontrada carpeta LOG_DIR=..\\tfm_viu\\datos\\logs\n",
      "20231030T032808 : amilcar32 : INFO : Encontrada carpeta CSV_DIR=..\\tfm_viu\\datos\\csv\n",
      "20231030T032808 : amilcar32 : INFO : Encontrada carpeta MODEL_DIR=..\\tfm_viu\\ejecuciones\\modelos\n",
      "20231030T032808 : amilcar32 : INFO : Encontrada carpeta EXEC_DIR=..\\tfm_viu\\ejecuciones\n",
      "20231030T032808 : amilcar32 : INFO : Encontrada carpeta MET_DIR=..\\tfm_viu\\ejecuciones\\metricas\n",
      "20231030T032808 : amilcar32 : INFO : Inicio leer fichero h5 ..\\tfm_viu\\datos\\h5\\rows_transpose_norm_by_gene_id_with_target_num_mul_s.h5\n",
      "20231030T032808 : amilcar32 : INFO : Leyendo clave /df\n"
     ]
    },
    {
     "name": "stdout",
     "output_type": "stream",
     "text": [
      "20231030T032809 : amilcar32 : INFO : Tamaño (259, 18876)\n",
      "20231030T032809 : amilcar32 : INFO : Fin leer fichero h5 ..\\tfm_viu\\datos\\h5\\rows_transpose_norm_by_gene_id_with_target_num_mul_s.h5\n"
     ]
    },
    {
     "data": {
      "text/plain": [
       "target\n",
       "0    37\n",
       "1    37\n",
       "2    37\n",
       "3    37\n",
       "4    37\n",
       "5    37\n",
       "6    37\n",
       "dtype: int64"
      ]
     },
     "metadata": {},
     "output_type": "display_data"
    },
    {
     "name": "stdout",
     "output_type": "stream",
     "text": [
      "Shape df: (259, 18876)\n",
      "Shape X_train: (207, 18875)\n",
      "Shape X_test: (52, 18875)\n"
     ]
    }
   ],
   "source": [
    "start_time = datetime.datetime.now()\n",
    "\n",
    "myfunc.reset_vars()\n",
    "\n",
    "myfunc.NOTEBK_FILENAME = myfunc.get_nb_name()\n",
    "\n",
    "myfunc.check_enviroment(myfunc.DATA_DIR, myfunc.CFDNA_DIR, myfunc.GENCODE_DIR, myfunc.H5_DIR, myfunc.LOG_DIR, myfunc.CSV_DIR, myfunc.MODEL_DIR, myfunc.EXEC_DIR, myfunc.MET_DIR)\n",
    "\n",
    "# Leer fichero con las muestras\n",
    "df_t = myfunc.read_h5_to_df(DATA_FILE, myfunc.H5_DIR)\n",
    "display(df_t.groupby(\"target\").size())\n",
    "print(\"Shape df:\",df_t.shape)\n",
    "\n",
    "# Separar caracteristicas/genes de las etiquetas/tipos de cáncer\n",
    "X = df_t.iloc[:, :-1]  # Todas las columnas excepto la última\n",
    "y = df_t.iloc[:, -1]  # La última columna contiene los identificadores de los tipos de cáncer\n",
    "\n",
    "#  Crear el conjunto de datos de entrenamiento y de pruebas, y se fija la semilla para siempre coger el mismo juego de muestras\n",
    "X_train, X_test, y_train, y_test = train_test_split(X, y, test_size=0.2, shuffle=True, random_state=42)\n",
    "print(\"Shape X_train:\",X_train.shape)\n",
    "print(\"Shape X_test:\",X_test.shape)\n"
   ]
  },
  {
   "cell_type": "markdown",
   "id": "f94cd695",
   "metadata": {
    "papermill": {
     "duration": 0.0,
     "end_time": "2023-10-30T02:28:09.101064",
     "exception": false,
     "start_time": "2023-10-30T02:28:09.101064",
     "status": "completed"
    },
    "tags": []
   },
   "source": [
    "#### Selección de características y clasificación."
   ]
  },
  {
   "cell_type": "code",
   "execution_count": 7,
   "id": "58ceb87c",
   "metadata": {
    "execution": {
     "iopub.execute_input": "2023-10-30T02:28:09.101064Z",
     "iopub.status.busy": "2023-10-30T02:28:09.101064Z",
     "iopub.status.idle": "2023-10-30T02:38:26.289219Z",
     "shell.execute_reply": "2023-10-30T02:38:26.289219Z"
    },
    "papermill": {
     "duration": 617.188155,
     "end_time": "2023-10-30T02:38:26.289219",
     "exception": false,
     "start_time": "2023-10-30T02:28:09.101064",
     "status": "completed"
    },
    "tags": []
   },
   "outputs": [
    {
     "name": "stdout",
     "output_type": "stream",
     "text": [
      "20231030T032809 : amilcar32 : INFO : Iniciando entrenamiento\n",
      "num_iter: 1 , max_iter: 1\n",
      "Fitting 5 folds for each of 1 candidates, totalling 5 fits\n"
     ]
    },
    {
     "name": "stdout",
     "output_type": "stream",
     "text": [
      "Mejores Hiperparámetros: {'selector__k': 500, 'clasifier__solver': 'saga', 'clasifier__penalty': 'l2', 'clasifier__max_iter': 10000}\n",
      "Mejor Puntuación: 0.7856\n",
      "20231030T033826 : amilcar32 : INFO : Fin entrenamiento\n"
     ]
    }
   ],
   "source": [
    "myfunc.verbose(\"Iniciando entrenamiento\")\n",
    "\n",
    "kf = KFold(n_splits=5, shuffle=True, random_state=SEMILLA)\n",
    "\n",
    "# Crear el pipeline para el flujo de tareas\n",
    "tasks_pipeline = Pipeline([\n",
    "    ('selector', algor_selector),\n",
    "    ('clasifier', algor_clasifier)\n",
    "])\n",
    "\n",
    "# MAX_ITERS puede limitar el número de iteraciones si son excesivas para las combinaciones de parámetros buscando un óptimo local, \n",
    "# sino funcionaría como GridSearchCV al revisar todas las cominaciones de los parámetros\n",
    "num_iteraciones = 1\n",
    "num_iteraciones = num_iteraciones * np.prod([len(elemento1) for _, elemento1 in param_distributions.items()])\n",
    "max_iteraciones = num_iteraciones if num_iteraciones <= MAX_ITERS else MAX_ITERS\n",
    "print(\"num_iter:\",num_iteraciones,\", max_iter:\",max_iteraciones)\n",
    "\n",
    "random_search = RandomizedSearchCV(\n",
    "    tasks_pipeline, \n",
    "    param_distributions, \n",
    "    n_iter=max_iteraciones,\n",
    "    scoring=SCORING,\n",
    "    cv=kf,\n",
    "    verbose=3, \n",
    "    random_state=SEMILLA, \n",
    "    n_jobs=-1\n",
    "    )\n",
    "\n",
    "# Entrenar el modelo\n",
    "random_search.fit(X_train, y_train)\n",
    "\n",
    "# Ver los mejores hiperparámetros encontrados\n",
    "print(f'Mejores Hiperparámetros: {random_search.best_params_}')\n",
    "print(f'Mejor Puntuación: {random_search.best_score_:.4f}')\n",
    "\n",
    "# Nos quedamos con el mejor modelo para ver las métricas\n",
    "mejor_modelo = random_search.best_estimator_\n",
    "\n",
    "myfunc.verbose(\"Fin entrenamiento\")"
   ]
  },
  {
   "cell_type": "markdown",
   "id": "45b86789",
   "metadata": {
    "papermill": {
     "duration": 0.015622,
     "end_time": "2023-10-30T02:38:26.320470",
     "exception": false,
     "start_time": "2023-10-30T02:38:26.304848",
     "status": "completed"
    },
    "tags": []
   },
   "source": [
    "#### Guardar modelo"
   ]
  },
  {
   "cell_type": "code",
   "execution_count": 8,
   "id": "c5f7c986",
   "metadata": {
    "execution": {
     "iopub.execute_input": "2023-10-30T02:38:26.336093Z",
     "iopub.status.busy": "2023-10-30T02:38:26.336093Z",
     "iopub.status.idle": "2023-10-30T02:38:26.367619Z",
     "shell.execute_reply": "2023-10-30T02:38:26.367619Z"
    },
    "papermill": {
     "duration": 0.047149,
     "end_time": "2023-10-30T02:38:26.367619",
     "exception": false,
     "start_time": "2023-10-30T02:38:26.320470",
     "status": "completed"
    },
    "tags": []
   },
   "outputs": [
    {
     "name": "stdout",
     "output_type": "stream",
     "text": [
      "20231030T033826 : amilcar32 : INFO : Inicio guardar fichero ..\\tfm_viu\\ejecuciones\\modelos\\modelo_1860_mul_s_MI_LR_L2.pkl\n",
      "20231030T033826 : amilcar32 : INFO : Fin guardar fichero ..\\tfm_viu\\ejecuciones\\modelos\\modelo_1860_mul_s_MI_LR_L2.pkl\n"
     ]
    }
   ],
   "source": [
    "fichero_modelo = str.replace(\"modelo_\"+str(SEMILLA).zfill(4)+\"_\"+M_TIPO+\"_\"+M_SELECT+\"_\"+M_CLASIF+\".pkl\", \" \", \"_\")\n",
    "\n",
    "myfunc.save_modelo(mejor_modelo, myfunc.MODEL_DIR, fichero_modelo)"
   ]
  },
  {
   "cell_type": "markdown",
   "id": "5d853b22",
   "metadata": {
    "papermill": {
     "duration": 0.013605,
     "end_time": "2023-10-30T02:38:26.398822",
     "exception": false,
     "start_time": "2023-10-30T02:38:26.385217",
     "status": "completed"
    },
    "tags": []
   },
   "source": [
    "#### Ver resultados del las iteraciones hechas por RandomSearchCV"
   ]
  },
  {
   "cell_type": "code",
   "execution_count": 9,
   "id": "c11777ec",
   "metadata": {
    "execution": {
     "iopub.execute_input": "2023-10-30T02:38:26.414573Z",
     "iopub.status.busy": "2023-10-30T02:38:26.414573Z",
     "iopub.status.idle": "2023-10-30T02:38:26.445998Z",
     "shell.execute_reply": "2023-10-30T02:38:26.445998Z"
    },
    "papermill": {
     "duration": 0.047176,
     "end_time": "2023-10-30T02:38:26.445998",
     "exception": false,
     "start_time": "2023-10-30T02:38:26.398822",
     "status": "completed"
    },
    "tags": []
   },
   "outputs": [
    {
     "name": "stdout",
     "output_type": "stream",
     "text": [
      "20231030T033826 : amilcar32 : INFO : Inicio ver resultados\n",
      "Mejores Hiperparámetros: {'selector__k': 500, 'clasifier__solver': 'saga', 'clasifier__penalty': 'l2', 'clasifier__max_iter': 10000}\n",
      "Mejores puntuaciones: 0.7856 | Params: {'selector__k': 500, 'clasifier__solver': 'saga', 'clasifier__penalty': 'l2', 'clasifier__max_iter': 10000}\n",
      "Media de las puntuaciones: 0.7856 | Params: {'selector__k': 500, 'clasifier__solver': 'saga', 'clasifier__penalty': 'l2', 'clasifier__max_iter': 10000}\n",
      "20231030T033826 : amilcar32 : INFO : Fin resultados\n"
     ]
    }
   ],
   "source": [
    "myfunc.ver_resultados_search(random_search)"
   ]
  },
  {
   "cell_type": "markdown",
   "id": "c44efd88",
   "metadata": {
    "papermill": {
     "duration": 0.015622,
     "end_time": "2023-10-30T02:38:26.477065",
     "exception": false,
     "start_time": "2023-10-30T02:38:26.461443",
     "status": "completed"
    },
    "tags": []
   },
   "source": [
    "#### Ver métricas del mejor modelo"
   ]
  },
  {
   "cell_type": "code",
   "execution_count": 10,
   "id": "e567e1bf",
   "metadata": {
    "execution": {
     "iopub.execute_input": "2023-10-30T02:38:26.508226Z",
     "iopub.status.busy": "2023-10-30T02:38:26.508226Z",
     "iopub.status.idle": "2023-10-30T02:38:27.667066Z",
     "shell.execute_reply": "2023-10-30T02:38:27.667066Z"
    },
    "papermill": {
     "duration": 1.174366,
     "end_time": "2023-10-30T02:38:27.667066",
     "exception": false,
     "start_time": "2023-10-30T02:38:26.492700",
     "status": "completed"
    },
    "tags": []
   },
   "outputs": [
    {
     "name": "stdout",
     "output_type": "stream",
     "text": [
      "20231030T033826 : amilcar32 : INFO : Inicio ver métricas multiclase\n"
     ]
    },
    {
     "name": "stdout",
     "output_type": "stream",
     "text": [
      "              precision    recall  f1-score   support\n",
      "\n",
      "           0       0.45      0.45      0.45        11\n",
      "           1       1.00      0.50      0.67         8\n",
      "           2       0.17      0.12      0.14         8\n",
      "           3       0.38      0.60      0.46         5\n",
      "           4       0.58      0.88      0.70         8\n",
      "           5       0.67      0.33      0.44         6\n",
      "           6       0.50      0.67      0.57         6\n",
      "\n",
      "    accuracy                           0.50        52\n",
      "   macro avg       0.54      0.51      0.49        52\n",
      "weighted avg       0.54      0.50      0.49        52\n",
      "\n",
      "\n",
      "\n",
      "           Exactitud: 0.500000\n",
      "   Precisión (media): 0.535173\n",
      "      Recall (media): 0.507792\n",
      "    F1-score (media): 0.491640\n",
      "\n",
      "\n",
      "AUC para el tipo de cáncer 0-Control.... 0.6341\n",
      "AUC para el tipo de cáncer 1-Bladder.... 0.9034\n",
      "AUC para el tipo de cáncer 2-Breast..... 0.6420\n",
      "AUC para el tipo de cáncer 3-Colorectal. 0.8936\n",
      "AUC para el tipo de cáncer 4-Kidney..... 0.9375\n",
      "AUC para el tipo de cáncer 5-Lung....... 0.9239\n",
      "AUC para el tipo de cáncer 6-Prostate... 0.8732\n",
      "\n",
      "Media de AUC: 0.8297\n"
     ]
    },
    {
     "data": {
      "image/png": "[encoded data removed]",
      "text/plain": [
       "<Figure size 1000x600 with 1 Axes>"
      ]
     },
     "metadata": {},
     "output_type": "display_data"
    },
    {
     "name": "stdout",
     "output_type": "stream",
     "text": [
      "\n",
      "\n"
     ]
    },
    {
     "data": {
      "image/png": "[encoded data removed]",
      "text/plain": [
       "<Figure size 800x400 with 2 Axes>"
      ]
     },
     "metadata": {},
     "output_type": "display_data"
    },
    {
     "name": "stdout",
     "output_type": "stream",
     "text": [
      "\n",
      "\n",
      "Puntuación Jaccard para el cáncer tipo 0-Control.... 0.2941\n",
      "Puntuación Jaccard para el cáncer tipo 1-Bladder.... 0.5000\n",
      "Puntuación Jaccard para el cáncer tipo 2-Breast..... 0.0769\n",
      "Puntuación Jaccard para el cáncer tipo 3-Colorectal. 0.3000\n",
      "Puntuación Jaccard para el cáncer tipo 4-Kidney..... 0.5385\n",
      "Puntuación Jaccard para el cáncer tipo 5-Lung....... 0.2857\n",
      "Puntuación Jaccard para el cáncer tipo 6-Prostate... 0.4000\n",
      "\n",
      "Media de la puntuación de Jaccard: 0.3422\n"
     ]
    }
   ],
   "source": [
    "if M_TIPO.startswith(\"bin\"):\n",
    "    myfunc.ver_metricas(mejor_modelo, X_test, y_test)\n",
    "else:\n",
    "    myfunc.ver_metricas_multi(mejor_modelo, X_test, y_test)\n"
   ]
  },
  {
   "cell_type": "markdown",
   "id": "c9ac6210",
   "metadata": {
    "papermill": {
     "duration": 0.015627,
     "end_time": "2023-10-30T02:38:27.698152",
     "exception": false,
     "start_time": "2023-10-30T02:38:27.682525",
     "status": "completed"
    },
    "tags": []
   },
   "source": [
    "#### Finalización del notebook"
   ]
  },
  {
   "cell_type": "code",
   "execution_count": 11,
   "id": "9efd02b8",
   "metadata": {
    "execution": {
     "iopub.execute_input": "2023-10-30T02:38:27.713773Z",
     "iopub.status.busy": "2023-10-30T02:38:27.713773Z",
     "iopub.status.idle": "2023-10-30T02:38:27.745112Z",
     "shell.execute_reply": "2023-10-30T02:38:27.745112Z"
    },
    "papermill": {
     "duration": 0.04696,
     "end_time": "2023-10-30T02:38:27.745112",
     "exception": false,
     "start_time": "2023-10-30T02:38:27.698152",
     "status": "completed"
    },
    "tags": []
   },
   "outputs": [
    {
     "name": "stdout",
     "output_type": "stream",
     "text": [
      "20231030T033827 : amilcar32 : INFO : Notebook ha tardado 618 seconds\n"
     ]
    }
   ],
   "source": [
    "end_time = datetime.datetime.now()\n",
    "total_time = end_time - start_time\n",
    "myfunc.verbose(f\"Notebook ha tardado {total_time.seconds} seconds\")"
   ]
  },
  {
   "cell_type": "markdown",
   "id": "b341f121",
   "metadata": {
    "papermill": {
     "duration": 0.015614,
     "end_time": "2023-10-30T02:38:27.776228",
     "exception": false,
     "start_time": "2023-10-30T02:38:27.760614",
     "status": "completed"
    },
    "tags": []
   },
   "source": [
    "#### Guardar métricas"
   ]
  },
  {
   "cell_type": "code",
   "execution_count": 12,
   "id": "0fd34f65",
   "metadata": {
    "execution": {
     "iopub.execute_input": "2023-10-30T02:38:27.807454Z",
     "iopub.status.busy": "2023-10-30T02:38:27.807454Z",
     "iopub.status.idle": "2023-10-30T02:38:28.294145Z",
     "shell.execute_reply": "2023-10-30T02:38:28.294145Z"
    },
    "papermill": {
     "duration": 0.502291,
     "end_time": "2023-10-30T02:38:28.294145",
     "exception": false,
     "start_time": "2023-10-30T02:38:27.791854",
     "status": "completed"
    },
    "tags": []
   },
   "outputs": [
    {
     "name": "stdout",
     "output_type": "stream",
     "text": [
      "20231030T033827 : amilcar32 : INFO : Inicio guardar métricas multiclase\n",
      "20231030T033827 : amilcar32 : INFO : Inicio leer fichero ..\\tfm_viu\\ejecuciones\\metricas\\metricas_1860.csv\n",
      "20231030T033827 : amilcar32 : INFO : Fin leer fichero ..\\tfm_viu\\ejecuciones\\metricas\\metricas_1860.csv\n"
     ]
    },
    {
     "name": "stdout",
     "output_type": "stream",
     "text": [
      "20231030T033828 : amilcar32 : INFO : Inicio guardar fichero ..\\tfm_viu\\ejecuciones\\metricas\\metricas_1860.csv\n",
      "20231030T033828 : amilcar32 : INFO : Fichero borrado ..\\tfm_viu\\ejecuciones\\metricas\\metricas_1860.csv\n",
      "20231030T033828 : amilcar32 : INFO : Fin guardar fichero ..\\tfm_viu\\ejecuciones\\metricas\\metricas_1860.csv\n",
      "20231030T033828 : amilcar32 : INFO : Fin guardar métricas multiclase\n",
      "20231030T033828 : amilcar32 : INFO : Inicio leer fichero ..\\tfm_viu\\ejecuciones\\metricas\\metricas_1860.csv\n",
      "20231030T033828 : amilcar32 : INFO : Fin leer fichero ..\\tfm_viu\\ejecuciones\\metricas\\metricas_1860.csv\n"
     ]
    },
    {
     "data": {
      "text/html": [
       "<div>\n",
       "<style scoped>\n",
       "    .dataframe tbody tr th:only-of-type {\n",
       "        vertical-align: middle;\n",
       "    }\n",
       "\n",
       "    .dataframe tbody tr th {\n",
       "        vertical-align: top;\n",
       "    }\n",
       "\n",
       "    .dataframe thead th {\n",
       "        text-align: right;\n",
       "    }\n",
       "</style>\n",
       "<table border=\"1\" class=\"dataframe\">\n",
       "  <thead>\n",
       "    <tr style=\"text-align: right;\">\n",
       "      <th></th>\n",
       "      <th>tipo</th>\n",
       "      <th>select</th>\n",
       "      <th>clasific</th>\n",
       "      <th>semilla</th>\n",
       "      <th>accuracy</th>\n",
       "      <th>precision</th>\n",
       "      <th>recall</th>\n",
       "      <th>f1_score</th>\n",
       "      <th>roc_auc</th>\n",
       "      <th>hostname</th>\n",
       "      <th>total_time_sec</th>\n",
       "      <th>datetime</th>\n",
       "      <th>fichero_modelo</th>\n",
       "      <th>params</th>\n",
       "      <th>shape</th>\n",
       "      <th>features</th>\n",
       "      <th>roc_auc_ovr</th>\n",
       "      <th>indices_auc</th>\n",
       "      <th>indices_jaccard</th>\n",
       "    </tr>\n",
       "  </thead>\n",
       "  <tbody>\n",
       "    <tr>\n",
       "      <th>0</th>\n",
       "      <td>mul_s</td>\n",
       "      <td>MI</td>\n",
       "      <td>LR_L2</td>\n",
       "      <td>1860</td>\n",
       "      <td>0.500000</td>\n",
       "      <td>0.535173</td>\n",
       "      <td>0.507792</td>\n",
       "      <td>0.491640</td>\n",
       "      <td>NaN</td>\n",
       "      <td>amilcar32</td>\n",
       "      <td>618</td>\n",
       "      <td>2023-10-30 03:38:28.183877</td>\n",
       "      <td>modelo_1860_mul_s_MI_LR_L2.pkl</td>\n",
       "      <td>{'selector__k': 500, 'clasifier__solver': 'sag...</td>\n",
       "      <td>X_test:(52, 18875)</td>\n",
       "      <td>['ENSG00000005513.10', 'ENSG00000006025.13', '...</td>\n",
       "      <td>0.829688</td>\n",
       "      <td>[0.6341463414634146, 0.9034090909090908, 0.642...</td>\n",
       "      <td>[0.29411764705882354, 0.5, 0.07692307692307693...</td>\n",
       "    </tr>\n",
       "    <tr>\n",
       "      <th>0</th>\n",
       "      <td>mul_s</td>\n",
       "      <td>MI</td>\n",
       "      <td>LR_L1</td>\n",
       "      <td>1860</td>\n",
       "      <td>0.480769</td>\n",
       "      <td>0.521245</td>\n",
       "      <td>0.483983</td>\n",
       "      <td>0.461506</td>\n",
       "      <td>NaN</td>\n",
       "      <td>amilcar32</td>\n",
       "      <td>999</td>\n",
       "      <td>2023-10-30 03:28:03.982032</td>\n",
       "      <td>modelo_1860_mul_s_MI_LR_L1.pkl</td>\n",
       "      <td>{'selector__k': 500, 'clasifier__solver': 'sag...</td>\n",
       "      <td>X_test:(52, 18875)</td>\n",
       "      <td>['ENSG00000005513.10', 'ENSG00000006025.13', '...</td>\n",
       "      <td>0.829949</td>\n",
       "      <td>[0.6208425720620843, 0.9005681818181819, 0.650...</td>\n",
       "      <td>[0.2777777777777778, 0.375, 0.0833333333333333...</td>\n",
       "    </tr>\n",
       "    <tr>\n",
       "      <th>0</th>\n",
       "      <td>mul_s</td>\n",
       "      <td>MI</td>\n",
       "      <td>LR_EN</td>\n",
       "      <td>1860</td>\n",
       "      <td>0.500000</td>\n",
       "      <td>0.522655</td>\n",
       "      <td>0.512662</td>\n",
       "      <td>0.492041</td>\n",
       "      <td>NaN</td>\n",
       "      <td>amilcar32</td>\n",
       "      <td>1589</td>\n",
       "      <td>2023-10-30 03:11:18.960583</td>\n",
       "      <td>modelo_1860_mul_s_MI_LR_EN.pkl</td>\n",
       "      <td>{'selector__k': 1000, 'clasifier__solver': 'sa...</td>\n",
       "      <td>X_test:(52, 18875)</td>\n",
       "      <td>['ENSG00000003137.9', 'ENSG00000004939.16', 'E...</td>\n",
       "      <td>0.857763</td>\n",
       "      <td>[0.6873614190687362, 0.9232954545454546, 0.775...</td>\n",
       "      <td>[0.25, 0.4444444444444444, 0.16666666666666666...</td>\n",
       "    </tr>\n",
       "  </tbody>\n",
       "</table>\n",
       "</div>"
      ],
      "text/plain": [
       "    tipo select clasific  semilla  accuracy  precision    recall  f1_score  \\\n",
       "0  mul_s     MI    LR_L2     1860  0.500000   0.535173  0.507792  0.491640   \n",
       "0  mul_s     MI    LR_L1     1860  0.480769   0.521245  0.483983  0.461506   \n",
       "0  mul_s     MI    LR_EN     1860  0.500000   0.522655  0.512662  0.492041   \n",
       "\n",
       "   roc_auc   hostname  total_time_sec                    datetime  \\\n",
       "0      NaN  amilcar32             618  2023-10-30 03:38:28.183877   \n",
       "0      NaN  amilcar32             999  2023-10-30 03:28:03.982032   \n",
       "0      NaN  amilcar32            1589  2023-10-30 03:11:18.960583   \n",
       "\n",
       "                   fichero_modelo  \\\n",
       "0  modelo_1860_mul_s_MI_LR_L2.pkl   \n",
       "0  modelo_1860_mul_s_MI_LR_L1.pkl   \n",
       "0  modelo_1860_mul_s_MI_LR_EN.pkl   \n",
       "\n",
       "                                              params               shape  \\\n",
       "0  {'selector__k': 500, 'clasifier__solver': 'sag...  X_test:(52, 18875)   \n",
       "0  {'selector__k': 500, 'clasifier__solver': 'sag...  X_test:(52, 18875)   \n",
       "0  {'selector__k': 1000, 'clasifier__solver': 'sa...  X_test:(52, 18875)   \n",
       "\n",
       "                                            features  roc_auc_ovr  \\\n",
       "0  ['ENSG00000005513.10', 'ENSG00000006025.13', '...     0.829688   \n",
       "0  ['ENSG00000005513.10', 'ENSG00000006025.13', '...     0.829949   \n",
       "0  ['ENSG00000003137.9', 'ENSG00000004939.16', 'E...     0.857763   \n",
       "\n",
       "                                         indices_auc  \\\n",
       "0  [0.6341463414634146, 0.9034090909090908, 0.642...   \n",
       "0  [0.6208425720620843, 0.9005681818181819, 0.650...   \n",
       "0  [0.6873614190687362, 0.9232954545454546, 0.775...   \n",
       "\n",
       "                                     indices_jaccard  \n",
       "0  [0.29411764705882354, 0.5, 0.07692307692307693...  \n",
       "0  [0.2777777777777778, 0.375, 0.0833333333333333...  \n",
       "0  [0.25, 0.4444444444444444, 0.16666666666666666...  "
      ]
     },
     "metadata": {},
     "output_type": "display_data"
    }
   ],
   "source": [
    "if M_TIPO.startswith(\"bin\"):\n",
    "    myfunc.save_metricas_to_csv(random_search, X_test, y_test, M_TIPO, M_SELECT, M_CLASIF, total_time, SEMILLA, myfunc.MET_DIR, M_FICHERO, fichero_modelo)\n",
    "else:\n",
    "    myfunc.save_metricas_multi_to_csv(random_search, X_test, y_test, M_TIPO, M_SELECT, M_CLASIF, total_time, SEMILLA, myfunc.MET_DIR, M_FICHERO, fichero_modelo)\n",
    "\n",
    "df1=myfunc.read_metricas_to_df(myfunc.MET_DIR,M_FICHERO)\n",
    "\n",
    "display(df1.sort_values(\"datetime\", ascending=False)[:3])\n"
   ]
  },
  {
   "cell_type": "markdown",
   "id": "6bab3ba3",
   "metadata": {
    "papermill": {
     "duration": 0.015453,
     "end_time": "2023-10-30T02:38:28.309598",
     "exception": false,
     "start_time": "2023-10-30T02:38:28.294145",
     "status": "completed"
    },
    "tags": []
   },
   "source": [
    "#### Guardar resultados"
   ]
  },
  {
   "cell_type": "code",
   "execution_count": 13,
   "id": "4115fc3f",
   "metadata": {
    "execution": {
     "iopub.execute_input": "2023-10-30T02:38:28.325217Z",
     "iopub.status.busy": "2023-10-30T02:38:28.325217Z",
     "iopub.status.idle": "2023-10-30T02:38:28.356476Z",
     "shell.execute_reply": "2023-10-30T02:38:28.356476Z"
    },
    "papermill": {
     "duration": 0.046878,
     "end_time": "2023-10-30T02:38:28.356476",
     "exception": false,
     "start_time": "2023-10-30T02:38:28.309598",
     "status": "completed"
    },
    "tags": []
   },
   "outputs": [
    {
     "name": "stdout",
     "output_type": "stream",
     "text": [
      "20231030T033828 : amilcar32 : INFO : Inicio guardar resultados\n",
      "20231030T033828 : amilcar32 : INFO : Inicio guardar fichero ..\\tfm_viu\\ejecuciones\\metricas\\resultados_1860_mul_s-MI-LR_L2.csv\n",
      "20231030T033828 : amilcar32 : INFO : Fin guardar fichero ..\\tfm_viu\\ejecuciones\\metricas\\resultados_1860_mul_s-MI-LR_L2.csv\n",
      "20231030T033828 : amilcar32 : INFO : Fin guardar resultados\n"
     ]
    }
   ],
   "source": [
    "fichero_resultados=R_FICHERO+\"_\"+M_TIPO+\"-\"+M_SELECT+\"-\"+M_CLASIF+\".csv\"\n",
    "myfunc.save_resultados_to_csv(M_TIPO, M_SELECT, M_CLASIF,  random_search, myfunc.MET_DIR, fichero_resultados)\n"
   ]
  }
 ],
 "metadata": {
  "kernelspec": {
   "display_name": "Python 3 (ipykernel)",
   "language": "python",
   "name": "python3"
  },
  "language_info": {
   "codemirror_mode": {
    "name": "ipython",
    "version": 3
   },
   "file_extension": ".py",
   "mimetype": "text/x-python",
   "name": "python",
   "nbconvert_exporter": "python",
   "pygments_lexer": "ipython3",
   "version": "3.10.12"
  },
  "papermill": {
   "default_parameters": {},
   "duration": 623.310426,
   "end_time": "2023-10-30T02:38:29.155735",
   "environment_variables": {},
   "exception": null,
   "input_path": "03_entrenamiento.ipynb",
   "output_path": "ejecuciones\\training\\03_entrenamiento.20231030T_32805.param_0000_1860_mul_s_MI_LR_L2.output.ipynb",
   "parameters": {
    "MAX_ITERS": 500,
    "M_CLASIF": "LR_L2",
    "M_FICHERO": "metricas_1860",
    "M_SELECT": "MI",
    "M_TIPO": "mul_s",
    "PRE_DATA_FILE": "rows_transpose_norm_by_gene_id_with_target_num_",
    "P_FICHERO": "param_0000_1860_mul_s_MI_LR_L2.yaml",
    "R_FICHERO": "resultados_1860",
    "SCORING": "roc_auc_ovr",
    "SEMILLA": 1860,
    "eval_clasifier": "LogisticRegressionCV(random_state=SEMILLA)",
    "eval_selector": "SelectKBest(score_func=mutual_info_classif_state)",
    "param_distributions": {
     "clasifier__max_iter": [
      10000
     ],
     "clasifier__penalty": [
      "l2"
     ],
     "clasifier__solver": [
      "saga"
     ],
     "selector__k": [
      500
     ]
    }
   },
   "start_time": "2023-10-30T02:28:05.845309",
   "version": "2.4.0"
  }
 },
 "nbformat": 4,
 "nbformat_minor": 5
}