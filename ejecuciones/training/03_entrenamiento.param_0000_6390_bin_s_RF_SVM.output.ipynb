{
 "cells": [
  {
   "cell_type": "markdown",
   "id": "c57cc024",
   "metadata": {
    "papermill": {
     "duration": 0.003116,
     "end_time": "2023-10-30T13:14:50.664155",
     "exception": false,
     "start_time": "2023-10-30T13:14:50.661039",
     "status": "completed"
    },
    "tags": []
   },
   "source": [
    "##### Inicio"
   ]
  },
  {
   "cell_type": "markdown",
   "id": "47c92fbd",
   "metadata": {
    "papermill": {
     "duration": 0.002326,
     "end_time": "2023-10-30T13:14:50.669074",
     "exception": false,
     "start_time": "2023-10-30T13:14:50.666748",
     "status": "completed"
    },
    "tags": []
   },
   "source": [
    "#### Carga de datos"
   ]
  },
  {
   "cell_type": "code",
   "execution_count": 1,
   "id": "ca9729c9",
   "metadata": {
    "execution": {
     "iopub.execute_input": "2023-10-30T13:14:50.675847Z",
     "iopub.status.busy": "2023-10-30T13:14:50.675404Z",
     "iopub.status.idle": "2023-10-30T13:14:51.543520Z",
     "shell.execute_reply": "2023-10-30T13:14:51.543005Z"
    },
    "papermill": {
     "duration": 0.873413,
     "end_time": "2023-10-30T13:14:51.544850",
     "exception": false,
     "start_time": "2023-10-30T13:14:50.671437",
     "status": "completed"
    },
    "tags": []
   },
   "outputs": [
    {
     "name": "stdout",
     "output_type": "stream",
     "text": [
      "CPU_COUNT: 8; NODE: amilcar22; sys.version: 3.10.12 (main, Jul  5 2023, 19:22:19) [GCC 11.2.0]\n",
      "LOKY_MAX_CPU_COUNT: 6\n",
      "OMP_NUM_THREADS: 2\n"
     ]
    }
   ],
   "source": [
    "import os\n",
    "import numpy as np\n",
    "import pandas as pd\n",
    "import datetime\n",
    "import sklearn\n",
    "import logging\n",
    "import warnings\n",
    "\n",
    "from sklearn.pipeline import Pipeline\n",
    "from sklearn.model_selection import RandomizedSearchCV, KFold, cross_val_score, train_test_split\n",
    "from sklearn.metrics import accuracy_score, confusion_matrix, classification_report, roc_auc_score\n",
    "\n",
    "#  cargar algoritmos para aprendizaje supervisado\n",
    "from sklearn.feature_selection import SelectKBest, f_classif, SelectFromModel, mutual_info_classif\n",
    "from sklearn.svm import SVC\n",
    "from sklearn.ensemble import RandomForestClassifier\n",
    "from sklearn.linear_model import LogisticRegression,LogisticRegressionCV\n",
    "\n",
    "# importar fichero con utilidades propias\n",
    "from commons import myfunctions as myfunc\n"
   ]
  },
  {
   "cell_type": "markdown",
   "id": "9f18052b",
   "metadata": {
    "papermill": {
     "duration": 0.002509,
     "end_time": "2023-10-30T13:14:51.550180",
     "exception": false,
     "start_time": "2023-10-30T13:14:51.547671",
     "status": "completed"
    },
    "tags": []
   },
   "source": [
    "#### Parámetros a utilizar en el entrenamiento.\n",
    "\n",
    "Se indican los 3 algoritmos de *selección de características* (eval_selector_xxx) y los 3 algoritmos para la _clasificación_ (eval_clasifier_xxx)\n",
    "\n",
    "En *param_distributions* se indicar los parámetros que utilizan los algoritmos en la función RandomSearchCV.\n",
    "\n",
    "Esta celda tiene la etiqueta **parameters** que servirá para poder lanzar los entrenamientos con la utilidad **papermill** pasándole un fichero con los parámetros. Los nuevos parámetros se situarán tras esta celda para tener prevalencia."
   ]
  },
  {
   "cell_type": "code",
   "execution_count": 2,
   "id": "b0cc9a54",
   "metadata": {
    "execution": {
     "iopub.execute_input": "2023-10-30T13:14:51.556198Z",
     "iopub.status.busy": "2023-10-30T13:14:51.555906Z",
     "iopub.status.idle": "2023-10-30T13:14:51.562697Z",
     "shell.execute_reply": "2023-10-30T13:14:51.562145Z"
    },
    "papermill": {
     "duration": 0.011094,
     "end_time": "2023-10-30T13:14:51.563746",
     "exception": false,
     "start_time": "2023-10-30T13:14:51.552652",
     "status": "completed"
    },
    "tags": [
     "parameters"
    ]
   },
   "outputs": [
    {
     "name": "stdout",
     "output_type": "stream",
     "text": [
      "20231030T141451 : amilcar22 : INFO : Utilizando parámetros de mul_m\n"
     ]
    }
   ],
   "source": [
    "#  Parametros para el entrenamiento\n",
    "\n",
    "SEMILLA=        42\n",
    "M_TIPO=         \"mul_m\"\n",
    "M_SELECT=       \"MI\"\n",
    "M_CLASIF=       \"SVM\"\n",
    "R_FICHERO=      \"resultados\"\n",
    "M_FICHERO=      \"metricas\"\n",
    "PRE_DATA_FILE=  \"rows_transpose_norm_by_gene_id_with_target_num_\"\n",
    "SCORING=        \"roc_auc_ovr\" \n",
    "MAX_ITERS=      100\n",
    "\n",
    "def mutual_info_classif_state(X, y):\n",
    "    return mutual_info_classif(X, y, random_state=SEMILLA)\n",
    "\n",
    "eval_selector_mi = \"SelectKBest(score_func=mutual_info_classif_state)\"\n",
    "eval_selector_rf=  \"SelectFromModel(estimator=RandomForestClassifier(random_state=SEMILLA), threshold=-np.inf)\"\n",
    "eval_selector_anova=  \"SelectKBest(score_func=f_classif)\"\n",
    "\n",
    "eval_clasifier_svm= \"SVC(probability=True, random_state=SEMILLA)\"\n",
    "eval_clasifier_rf= \"RandomForestClassifier(random_state=SEMILLA)\"\n",
    "eval_clasifier_lr= \"LogisticRegressionCV(random_state=SEMILLA)\"\n",
    "\n",
    "if M_TIPO.startswith(\"bin_m\"):\n",
    "    myfunc.verbose(f\"Utilizando parámetros de {M_TIPO}\")\n",
    "    eval_selector = eval_selector_mi\n",
    "    eval_clasifier = eval_clasifier_svm\n",
    "\n",
    "    SEMILLA = 6578\n",
    "    M_SELECT = \"MI\"\n",
    "    M_CLASIF = \"SVM\"\n",
    "    param_distributions = {'selector__k': [1000], \n",
    "         'clasifier__kernel': ['rbf'], 'clasifier__gamma': [0.01], 'clasifier__C': [100]}\n",
    "elif M_TIPO.startswith(\"bin_s\"):\n",
    "    myfunc.verbose(f\"Utilizando parámetros de {M_TIPO}\")\n",
    "    eval_selector = eval_selector_rf\n",
    "    eval_clasifier = eval_clasifier_lr\n",
    "\n",
    "    SEMILLA = 6191\n",
    "    M_SELECT = \"RF\"\n",
    "    M_CLASIF = \"LR_L2\"\n",
    "    param_distributions = {'selector__max_features': [1000], 'selector__estimator__n_estimators': [200], \n",
    "        'clasifier__solver': ['lbfgs'], 'clasifier__penalty': ['l2'], 'clasifier__max_iter': [10000]}\n",
    "\n",
    "elif M_TIPO.startswith(\"mul_m\"):\n",
    "    myfunc.verbose(f\"Utilizando parámetros de {M_TIPO}\")\n",
    " \n",
    "    eval_selector = eval_selector_rf\n",
    "    eval_clasifier = eval_clasifier_lr\n",
    "\n",
    "    SEMILLA = 6191\n",
    "    M_SELECT = \"RF\"\n",
    "    M_CLASIF = \"LR_L2\"\n",
    "    param_distributions = {'selector__max_features': [1000], 'selector__estimator__n_estimators': [400], \n",
    "        'clasifier__solver': ['lbfgs'], 'clasifier__penalty': ['l2'], 'clasifier__max_iter': [10000]}\n",
    "\n",
    "else:\n",
    "    # M_TIPO.startswith(\"mul_s\"):\n",
    "    myfunc.verbose(f\"Utilizando parámetros de {M_TIPO}\")\n",
    "    eval_selector = eval_selector_anova\n",
    "    eval_clasifier = eval_clasifier_lr\n",
    "\n",
    "    SEMILLA = 1860\n",
    "    M_SELECT = \"ANOVA\"\n",
    "    M_CLASIF = \"LR_L2\"\n",
    "    param_distributions = {'selector__k': [1000], \n",
    "        'clasifier__solver': ['saga'], 'clasifier__penalty': ['l2'], 'clasifier__max_iter': [10000]}\n",
    "\n"
   ]
  },
  {
   "cell_type": "code",
   "execution_count": 3,
   "id": "fd0dd484",
   "metadata": {
    "execution": {
     "iopub.execute_input": "2023-10-30T13:14:51.569607Z",
     "iopub.status.busy": "2023-10-30T13:14:51.569439Z",
     "iopub.status.idle": "2023-10-30T13:14:51.573327Z",
     "shell.execute_reply": "2023-10-30T13:14:51.572823Z"
    },
    "papermill": {
     "duration": 0.008194,
     "end_time": "2023-10-30T13:14:51.574550",
     "exception": false,
     "start_time": "2023-10-30T13:14:51.566356",
     "status": "completed"
    },
    "tags": [
     "injected-parameters"
    ]
   },
   "outputs": [],
   "source": [
    "# Parameters\n",
    "M_TIPO = \"bin_s\"\n",
    "M_SELECT = \"RF\"\n",
    "M_CLASIF = \"SVM\"\n",
    "P_FICHERO = \"param_0000_6390_bin_s_RF_SVM.yaml\"\n",
    "R_FICHERO = \"resultados_6390\"\n",
    "M_FICHERO = \"metricas_6390\"\n",
    "PRE_DATA_FILE = \"rows_transpose_norm_by_gene_id_with_target_num_\"\n",
    "SCORING = \"roc_auc_ovr\"\n",
    "SEMILLA = 6390\n",
    "MAX_ITERS = 500\n",
    "eval_selector = \"SelectFromModel(estimator=RandomForestClassifier(random_state=SEMILLA), threshold=-np.inf)\"\n",
    "eval_clasifier = \"SVC(probability=True, random_state=SEMILLA)\"\n",
    "param_distributions = {\n",
    "    \"selector__max_features\": [500],\n",
    "    \"selector__estimator__n_estimators\": [200],\n",
    "    \"clasifier__kernel\": [\"rbf\"],\n",
    "    \"clasifier__gamma\": [0.01],\n",
    "    \"clasifier__C\": [1],\n",
    "}\n"
   ]
  },
  {
   "cell_type": "code",
   "execution_count": 4,
   "id": "00bea30e",
   "metadata": {
    "execution": {
     "iopub.execute_input": "2023-10-30T13:14:51.581177Z",
     "iopub.status.busy": "2023-10-30T13:14:51.580984Z",
     "iopub.status.idle": "2023-10-30T13:14:51.584147Z",
     "shell.execute_reply": "2023-10-30T13:14:51.583642Z"
    },
    "papermill": {
     "duration": 0.007796,
     "end_time": "2023-10-30T13:14:51.585291",
     "exception": false,
     "start_time": "2023-10-30T13:14:51.577495",
     "status": "completed"
    },
    "tags": []
   },
   "outputs": [],
   "source": [
    "DATA_FILE = PRE_DATA_FILE + M_TIPO\n",
    "\n",
    "# si viene \"None\" en el parámetro max_depth, se le quitan las comillas para que no sea entendido por el algoritmo como un texto\n",
    "if \"clasifier__max_depth\" in param_distributions:\n",
    "    param_distributions['clasifier__max_depth'] = [None if x == 'None' else x for x in param_distributions['clasifier__max_depth']]"
   ]
  },
  {
   "cell_type": "markdown",
   "id": "6a9fd826",
   "metadata": {
    "papermill": {
     "duration": 0.002886,
     "end_time": "2023-10-30T13:14:51.591065",
     "exception": false,
     "start_time": "2023-10-30T13:14:51.588179",
     "status": "completed"
    },
    "tags": []
   },
   "source": [
    "Asignar los algoritmos que se utilizarán en la función RandomSearchCV"
   ]
  },
  {
   "cell_type": "code",
   "execution_count": 5,
   "id": "255c614b",
   "metadata": {
    "execution": {
     "iopub.execute_input": "2023-10-30T13:14:51.597636Z",
     "iopub.status.busy": "2023-10-30T13:14:51.597459Z",
     "iopub.status.idle": "2023-10-30T13:14:51.600400Z",
     "shell.execute_reply": "2023-10-30T13:14:51.599876Z"
    },
    "papermill": {
     "duration": 0.007673,
     "end_time": "2023-10-30T13:14:51.601705",
     "exception": false,
     "start_time": "2023-10-30T13:14:51.594032",
     "status": "completed"
    },
    "tags": []
   },
   "outputs": [],
   "source": [
    "algor_selector=eval(eval_selector)\n",
    "algor_clasifier=eval(eval_clasifier)"
   ]
  },
  {
   "cell_type": "markdown",
   "id": "4797b6ee",
   "metadata": {
    "papermill": {
     "duration": 0.00332,
     "end_time": "2023-10-30T13:14:51.608348",
     "exception": false,
     "start_time": "2023-10-30T13:14:51.605028",
     "status": "completed"
    },
    "tags": []
   },
   "source": [
    "#### Comprobar el entorno y leer fichero de muestras"
   ]
  },
  {
   "cell_type": "code",
   "execution_count": 6,
   "id": "fd96fe70",
   "metadata": {
    "execution": {
     "iopub.execute_input": "2023-10-30T13:14:51.615820Z",
     "iopub.status.busy": "2023-10-30T13:14:51.615630Z",
     "iopub.status.idle": "2023-10-30T13:14:51.773928Z",
     "shell.execute_reply": "2023-10-30T13:14:51.773373Z"
    },
    "papermill": {
     "duration": 0.163528,
     "end_time": "2023-10-30T13:14:51.775204",
     "exception": false,
     "start_time": "2023-10-30T13:14:51.611676",
     "status": "completed"
    },
    "tags": []
   },
   "outputs": [
    {
     "name": "stdout",
     "output_type": "stream",
     "text": [
      "20231030T141451 : amilcar22 : INFO : Encontrada carpeta DATA_DIR=../tfm_git/datos\n",
      "20231030T141451 : amilcar22 : INFO : Encontrada carpeta CFDNA_DIR=../tfm_git/datos/cfDNA_5hmC\n",
      "20231030T141451 : amilcar22 : INFO : Encontrada carpeta GENCODE_DIR=../tfm_git/datos/gencode\n",
      "20231030T141451 : amilcar22 : INFO : Encontrada carpeta H5_DIR=../tfm_git/datos/h5\n",
      "20231030T141451 : amilcar22 : INFO : Encontrada carpeta LOG_DIR=../tfm_git/datos/logs\n",
      "20231030T141451 : amilcar22 : INFO : Encontrada carpeta CSV_DIR=../tfm_git/datos/csv\n",
      "20231030T141451 : amilcar22 : INFO : Encontrada carpeta MODEL_DIR=../tfm_git/ejecuciones/modelos\n",
      "20231030T141451 : amilcar22 : INFO : Encontrada carpeta EXEC_DIR=../tfm_git/ejecuciones\n",
      "20231030T141451 : amilcar22 : INFO : Encontrada carpeta MET_DIR=../tfm_git/ejecuciones/metricas\n",
      "20231030T141451 : amilcar22 : INFO : Inicio leer fichero h5 ../tfm_git/datos/h5/rows_transpose_norm_by_gene_id_with_target_num_bin_s.h5\n",
      "20231030T141451 : amilcar22 : INFO : Leyendo clave /df\n",
      "20231030T141451 : amilcar22 : INFO : Tamaño (443, 18876)\n",
      "20231030T141451 : amilcar22 : INFO : Fin leer fichero h5 ../tfm_git/datos/h5/rows_transpose_norm_by_gene_id_with_target_num_bin_s.h5\n"
     ]
    },
    {
     "data": {
      "text/plain": [
       "target\n",
       "0    221\n",
       "1    222\n",
       "dtype: int64"
      ]
     },
     "metadata": {},
     "output_type": "display_data"
    },
    {
     "name": "stdout",
     "output_type": "stream",
     "text": [
      "Shape df: (443, 18876)\n"
     ]
    },
    {
     "name": "stdout",
     "output_type": "stream",
     "text": [
      "Shape X_train: (354, 18875)\n",
      "Shape X_test: (89, 18875)\n"
     ]
    }
   ],
   "source": [
    "start_time = datetime.datetime.now()\n",
    "\n",
    "myfunc.reset_vars()\n",
    "\n",
    "myfunc.NOTEBK_FILENAME = myfunc.get_nb_name()\n",
    "\n",
    "myfunc.check_enviroment(myfunc.DATA_DIR, myfunc.CFDNA_DIR, myfunc.GENCODE_DIR, myfunc.H5_DIR, myfunc.LOG_DIR, myfunc.CSV_DIR, myfunc.MODEL_DIR, myfunc.EXEC_DIR, myfunc.MET_DIR)\n",
    "\n",
    "# Leer fichero con las muestras\n",
    "df_t = myfunc.read_h5_to_df(DATA_FILE, myfunc.H5_DIR)\n",
    "display(df_t.groupby(\"target\").size())\n",
    "print(\"Shape df:\",df_t.shape)\n",
    "\n",
    "# Separar caracteristicas/genes de las etiquetas/tipos de cáncer\n",
    "X = df_t.iloc[:, :-1]  # Todas las columnas excepto la última\n",
    "y = df_t.iloc[:, -1]  # La última columna contiene los identificadores de los tipos de cáncer\n",
    "\n",
    "#  Crear el conjunto de datos de entrenamiento y de pruebas, y se fija la semilla para siempre coger el mismo juego de muestras\n",
    "X_train, X_test, y_train, y_test = train_test_split(X, y, test_size=0.2, shuffle=True, random_state=42)\n",
    "print(\"Shape X_train:\",X_train.shape)\n",
    "print(\"Shape X_test:\",X_test.shape)\n"
   ]
  },
  {
   "cell_type": "markdown",
   "id": "d29b7a8b",
   "metadata": {
    "papermill": {
     "duration": 0.002806,
     "end_time": "2023-10-30T13:14:51.781311",
     "exception": false,
     "start_time": "2023-10-30T13:14:51.778505",
     "status": "completed"
    },
    "tags": []
   },
   "source": [
    "#### Selección de características y clasificación."
   ]
  },
  {
   "cell_type": "code",
   "execution_count": 7,
   "id": "5f91b7d8",
   "metadata": {
    "execution": {
     "iopub.execute_input": "2023-10-30T13:14:51.787664Z",
     "iopub.status.busy": "2023-10-30T13:14:51.787474Z",
     "iopub.status.idle": "2023-10-30T13:15:00.648550Z",
     "shell.execute_reply": "2023-10-30T13:15:00.647929Z"
    },
    "papermill": {
     "duration": 8.865728,
     "end_time": "2023-10-30T13:15:00.649815",
     "exception": false,
     "start_time": "2023-10-30T13:14:51.784087",
     "status": "completed"
    },
    "tags": []
   },
   "outputs": [
    {
     "name": "stdout",
     "output_type": "stream",
     "text": [
      "20231030T141451 : amilcar22 : INFO : Iniciando entrenamiento\n",
      "num_iter: 1 , max_iter: 1\n",
      "Fitting 5 folds for each of 1 candidates, totalling 5 fits\n"
     ]
    },
    {
     "name": "stdout",
     "output_type": "stream",
     "text": [
      "Mejores Hiperparámetros: {'selector__max_features': 500, 'selector__estimator__n_estimators': 200, 'clasifier__kernel': 'rbf', 'clasifier__gamma': 0.01, 'clasifier__C': 1}\n",
      "Mejor Puntuación: 0.7670\n",
      "20231030T141500 : amilcar22 : INFO : Fin entrenamiento\n"
     ]
    }
   ],
   "source": [
    "myfunc.verbose(\"Iniciando entrenamiento\")\n",
    "\n",
    "kf = KFold(n_splits=5, shuffle=True, random_state=SEMILLA)\n",
    "\n",
    "# Crear el pipeline para el flujo de tareas\n",
    "tasks_pipeline = Pipeline([\n",
    "    ('selector', algor_selector),\n",
    "    ('clasifier', algor_clasifier)\n",
    "])\n",
    "\n",
    "# MAX_ITERS puede limitar el número de iteraciones si son excesivas para las combinaciones de parámetros buscando un óptimo local, \n",
    "# sino funcionaría como GridSearchCV al revisar todas las cominaciones de los parámetros\n",
    "num_iteraciones = 1\n",
    "num_iteraciones = num_iteraciones * np.prod([len(elemento1) for _, elemento1 in param_distributions.items()])\n",
    "max_iteraciones = num_iteraciones if num_iteraciones <= MAX_ITERS else MAX_ITERS\n",
    "print(\"num_iter:\",num_iteraciones,\", max_iter:\",max_iteraciones)\n",
    "\n",
    "random_search = RandomizedSearchCV(\n",
    "    tasks_pipeline, \n",
    "    param_distributions, \n",
    "    n_iter=max_iteraciones,\n",
    "    scoring=SCORING,\n",
    "    cv=kf,\n",
    "    verbose=3, \n",
    "    random_state=SEMILLA, \n",
    "    n_jobs=-1\n",
    "    )\n",
    "\n",
    "# Entrenar el modelo\n",
    "random_search.fit(X_train, y_train)\n",
    "\n",
    "# Ver los mejores hiperparámetros encontrados\n",
    "print(f'Mejores Hiperparámetros: {random_search.best_params_}')\n",
    "print(f'Mejor Puntuación: {random_search.best_score_:.4f}')\n",
    "\n",
    "# Nos quedamos con el mejor modelo para ver las métricas\n",
    "mejor_modelo = random_search.best_estimator_\n",
    "\n",
    "myfunc.verbose(\"Fin entrenamiento\")"
   ]
  },
  {
   "cell_type": "markdown",
   "id": "11077d5d",
   "metadata": {
    "papermill": {
     "duration": 0.00286,
     "end_time": "2023-10-30T13:15:00.656087",
     "exception": false,
     "start_time": "2023-10-30T13:15:00.653227",
     "status": "completed"
    },
    "tags": []
   },
   "source": [
    "#### Guardar modelo"
   ]
  },
  {
   "cell_type": "code",
   "execution_count": 8,
   "id": "68a65b14",
   "metadata": {
    "execution": {
     "iopub.execute_input": "2023-10-30T13:15:00.662747Z",
     "iopub.status.busy": "2023-10-30T13:15:00.662566Z",
     "iopub.status.idle": "2023-10-30T13:15:00.731410Z",
     "shell.execute_reply": "2023-10-30T13:15:00.730895Z"
    },
    "papermill": {
     "duration": 0.073642,
     "end_time": "2023-10-30T13:15:00.732630",
     "exception": false,
     "start_time": "2023-10-30T13:15:00.658988",
     "status": "completed"
    },
    "tags": []
   },
   "outputs": [
    {
     "name": "stdout",
     "output_type": "stream",
     "text": [
      "20231030T141500 : amilcar22 : INFO : Inicio guardar fichero ../tfm_git/ejecuciones/modelos/modelo_6390_bin_s_RF_SVM.pkl\n",
      "20231030T141500 : amilcar22 : INFO : Fin guardar fichero ../tfm_git/ejecuciones/modelos/modelo_6390_bin_s_RF_SVM.pkl\n"
     ]
    }
   ],
   "source": [
    "fichero_modelo = str.replace(\"modelo_\"+str(SEMILLA).zfill(4)+\"_\"+M_TIPO+\"_\"+M_SELECT+\"_\"+M_CLASIF+\".pkl\", \" \", \"_\")\n",
    "\n",
    "myfunc.save_modelo(mejor_modelo, myfunc.MODEL_DIR, fichero_modelo)"
   ]
  },
  {
   "cell_type": "markdown",
   "id": "0f5a729a",
   "metadata": {
    "papermill": {
     "duration": 0.003174,
     "end_time": "2023-10-30T13:15:00.739000",
     "exception": false,
     "start_time": "2023-10-30T13:15:00.735826",
     "status": "completed"
    },
    "tags": []
   },
   "source": [
    "#### Ver resultados del las iteraciones hechas por RandomSearchCV"
   ]
  },
  {
   "cell_type": "code",
   "execution_count": 9,
   "id": "149a8e7b",
   "metadata": {
    "execution": {
     "iopub.execute_input": "2023-10-30T13:15:00.745551Z",
     "iopub.status.busy": "2023-10-30T13:15:00.745382Z",
     "iopub.status.idle": "2023-10-30T13:15:00.750954Z",
     "shell.execute_reply": "2023-10-30T13:15:00.750519Z"
    },
    "papermill": {
     "duration": 0.010225,
     "end_time": "2023-10-30T13:15:00.752121",
     "exception": false,
     "start_time": "2023-10-30T13:15:00.741896",
     "status": "completed"
    },
    "tags": []
   },
   "outputs": [
    {
     "name": "stdout",
     "output_type": "stream",
     "text": [
      "20231030T141500 : amilcar22 : INFO : Inicio ver resultados\n",
      "Mejores Hiperparámetros: {'selector__max_features': 500, 'selector__estimator__n_estimators': 200, 'clasifier__kernel': 'rbf', 'clasifier__gamma': 0.01, 'clasifier__C': 1}\n",
      "Mejores puntuaciones: 0.7670 | Params: {'selector__max_features': 500, 'selector__estimator__n_estimators': 200, 'clasifier__kernel': 'rbf', 'clasifier__gamma': 0.01, 'clasifier__C': 1}\n",
      "Media de las puntuaciones: 0.7670 | Params: {'selector__max_features': 500, 'selector__estimator__n_estimators': 200, 'clasifier__kernel': 'rbf', 'clasifier__gamma': 0.01, 'clasifier__C': 1}\n",
      "20231030T141500 : amilcar22 : INFO : Fin resultados\n"
     ]
    }
   ],
   "source": [
    "myfunc.ver_resultados_search(random_search)"
   ]
  },
  {
   "cell_type": "markdown",
   "id": "57628974",
   "metadata": {
    "papermill": {
     "duration": 0.003292,
     "end_time": "2023-10-30T13:15:00.758922",
     "exception": false,
     "start_time": "2023-10-30T13:15:00.755630",
     "status": "completed"
    },
    "tags": []
   },
   "source": [
    "#### Ver métricas del mejor modelo"
   ]
  },
  {
   "cell_type": "code",
   "execution_count": 10,
   "id": "16ae9c30",
   "metadata": {
    "execution": {
     "iopub.execute_input": "2023-10-30T13:15:00.766311Z",
     "iopub.status.busy": "2023-10-30T13:15:00.766150Z",
     "iopub.status.idle": "2023-10-30T13:15:01.305438Z",
     "shell.execute_reply": "2023-10-30T13:15:01.304898Z"
    },
    "papermill": {
     "duration": 0.544259,
     "end_time": "2023-10-30T13:15:01.306570",
     "exception": false,
     "start_time": "2023-10-30T13:15:00.762311",
     "status": "completed"
    },
    "tags": []
   },
   "outputs": [
    {
     "name": "stdout",
     "output_type": "stream",
     "text": [
      "20231030T141500 : amilcar22 : INFO : Inicio ver métricas\n"
     ]
    },
    {
     "name": "stdout",
     "output_type": "stream",
     "text": [
      "              precision    recall  f1-score   support\n",
      "\n",
      "           0       0.58      0.67      0.63        46\n",
      "           1       0.58      0.49      0.53        43\n",
      "\n",
      "    accuracy                           0.58        89\n",
      "   macro avg       0.58      0.58      0.58        89\n",
      "weighted avg       0.58      0.58      0.58        89\n",
      "\n",
      "\n",
      "\n",
      "   Exactitud: 0.5843\n",
      "   Precisión: 0.5841\n",
      "Sensibilidad: 0.5811\n",
      "    F1-score: 0.5790\n",
      "     AUC ROC: 0.6699\n"
     ]
    },
    {
     "data": {
      "image/png": "[encoded data removed]",
      "text/plain": [
       "<Figure size 300x100 with 2 Axes>"
      ]
     },
     "metadata": {},
     "output_type": "display_data"
    },
    {
     "data": {
      "image/png": "[encoded data removed]",
      "text/plain": [
       "<Figure size 800x500 with 1 Axes>"
      ]
     },
     "metadata": {},
     "output_type": "display_data"
    },
    {
     "name": "stdout",
     "output_type": "stream",
     "text": [
      "20231030T141501 : amilcar22 : INFO : Fin ver métricas\n"
     ]
    }
   ],
   "source": [
    "if M_TIPO.startswith(\"bin\"):\n",
    "    myfunc.ver_metricas(mejor_modelo, X_test, y_test)\n",
    "else:\n",
    "    myfunc.ver_metricas_multi(mejor_modelo, X_test, y_test)\n"
   ]
  },
  {
   "cell_type": "markdown",
   "id": "bc5309f4",
   "metadata": {
    "papermill": {
     "duration": 0.003608,
     "end_time": "2023-10-30T13:15:01.314250",
     "exception": false,
     "start_time": "2023-10-30T13:15:01.310642",
     "status": "completed"
    },
    "tags": []
   },
   "source": [
    "#### Finalización del notebook"
   ]
  },
  {
   "cell_type": "code",
   "execution_count": 11,
   "id": "3f7e1674",
   "metadata": {
    "execution": {
     "iopub.execute_input": "2023-10-30T13:15:01.322264Z",
     "iopub.status.busy": "2023-10-30T13:15:01.322091Z",
     "iopub.status.idle": "2023-10-30T13:15:01.325353Z",
     "shell.execute_reply": "2023-10-30T13:15:01.324941Z"
    },
    "papermill": {
     "duration": 0.008455,
     "end_time": "2023-10-30T13:15:01.326407",
     "exception": false,
     "start_time": "2023-10-30T13:15:01.317952",
     "status": "completed"
    },
    "tags": []
   },
   "outputs": [
    {
     "name": "stdout",
     "output_type": "stream",
     "text": [
      "20231030T141501 : amilcar22 : INFO : Notebook ha tardado 9 seconds\n"
     ]
    }
   ],
   "source": [
    "end_time = datetime.datetime.now()\n",
    "total_time = end_time - start_time\n",
    "myfunc.verbose(f\"Notebook ha tardado {total_time.seconds} seconds\")"
   ]
  },
  {
   "cell_type": "markdown",
   "id": "a9970d72",
   "metadata": {
    "papermill": {
     "duration": 0.003787,
     "end_time": "2023-10-30T13:15:01.334018",
     "exception": false,
     "start_time": "2023-10-30T13:15:01.330231",
     "status": "completed"
    },
    "tags": []
   },
   "source": [
    "#### Guardar métricas"
   ]
  },
  {
   "cell_type": "code",
   "execution_count": 12,
   "id": "15adaedc",
   "metadata": {
    "execution": {
     "iopub.execute_input": "2023-10-30T13:15:01.342264Z",
     "iopub.status.busy": "2023-10-30T13:15:01.341986Z",
     "iopub.status.idle": "2023-10-30T13:15:01.717587Z",
     "shell.execute_reply": "2023-10-30T13:15:01.717063Z"
    },
    "papermill": {
     "duration": 0.380949,
     "end_time": "2023-10-30T13:15:01.718764",
     "exception": false,
     "start_time": "2023-10-30T13:15:01.337815",
     "status": "completed"
    },
    "tags": []
   },
   "outputs": [
    {
     "name": "stdout",
     "output_type": "stream",
     "text": [
      "20231030T141501 : amilcar22 : INFO : Inicio guardar métricas\n",
      "20231030T141501 : amilcar22 : INFO : Inicio leer fichero ../tfm_git/ejecuciones/metricas/metricas_6390.csv\n",
      "20231030T141501 : amilcar22 : INFO : Fin leer fichero ../tfm_git/ejecuciones/metricas/metricas_6390.csv\n"
     ]
    },
    {
     "name": "stdout",
     "output_type": "stream",
     "text": [
      "20231030T141501 : amilcar22 : INFO : Inicio guardar fichero ../tfm_git/ejecuciones/metricas/metricas_6390.csv\n",
      "20231030T141501 : amilcar22 : INFO : Fichero borrado ../tfm_git/ejecuciones/metricas/metricas_6390.csv\n",
      "20231030T141501 : amilcar22 : INFO : Fin guardar fichero ../tfm_git/ejecuciones/metricas/metricas_6390.csv\n",
      "20231030T141501 : amilcar22 : INFO : Fin guardar métricas\n",
      "20231030T141501 : amilcar22 : INFO : Inicio leer fichero ../tfm_git/ejecuciones/metricas/metricas_6390.csv\n",
      "20231030T141501 : amilcar22 : INFO : Fin leer fichero ../tfm_git/ejecuciones/metricas/metricas_6390.csv\n"
     ]
    },
    {
     "data": {
      "text/html": [
       "<div>\n",
       "<style scoped>\n",
       "    .dataframe tbody tr th:only-of-type {\n",
       "        vertical-align: middle;\n",
       "    }\n",
       "\n",
       "    .dataframe tbody tr th {\n",
       "        vertical-align: top;\n",
       "    }\n",
       "\n",
       "    .dataframe thead th {\n",
       "        text-align: right;\n",
       "    }\n",
       "</style>\n",
       "<table border=\"1\" class=\"dataframe\">\n",
       "  <thead>\n",
       "    <tr style=\"text-align: right;\">\n",
       "      <th></th>\n",
       "      <th>tipo</th>\n",
       "      <th>select</th>\n",
       "      <th>clasific</th>\n",
       "      <th>semilla</th>\n",
       "      <th>accuracy</th>\n",
       "      <th>precision</th>\n",
       "      <th>recall</th>\n",
       "      <th>f1_score</th>\n",
       "      <th>roc_auc</th>\n",
       "      <th>hostname</th>\n",
       "      <th>total_time_sec</th>\n",
       "      <th>datetime</th>\n",
       "      <th>fichero_modelo</th>\n",
       "      <th>params</th>\n",
       "      <th>shape</th>\n",
       "      <th>features</th>\n",
       "    </tr>\n",
       "  </thead>\n",
       "  <tbody>\n",
       "    <tr>\n",
       "      <th>0</th>\n",
       "      <td>bin_s</td>\n",
       "      <td>RF</td>\n",
       "      <td>SVM</td>\n",
       "      <td>6390</td>\n",
       "      <td>0.584270</td>\n",
       "      <td>0.584119</td>\n",
       "      <td>0.581143</td>\n",
       "      <td>0.578954</td>\n",
       "      <td>0.669869</td>\n",
       "      <td>amilcar22</td>\n",
       "      <td>9</td>\n",
       "      <td>2023-10-30 14:15:01.694184</td>\n",
       "      <td>modelo_6390_bin_s_RF_SVM.pkl</td>\n",
       "      <td>{'selector__max_features': 500, 'selector__est...</td>\n",
       "      <td>X_test:(89, 18875)</td>\n",
       "      <td>['ENSG00000003137.9', 'ENSG00000007237.19', 'E...</td>\n",
       "    </tr>\n",
       "    <tr>\n",
       "      <th>0</th>\n",
       "      <td>bin_s</td>\n",
       "      <td>RF</td>\n",
       "      <td>RF</td>\n",
       "      <td>6390</td>\n",
       "      <td>0.606742</td>\n",
       "      <td>0.606122</td>\n",
       "      <td>0.605157</td>\n",
       "      <td>0.604946</td>\n",
       "      <td>0.708291</td>\n",
       "      <td>amilcar22</td>\n",
       "      <td>30</td>\n",
       "      <td>2023-10-30 14:14:45.568542</td>\n",
       "      <td>modelo_6390_bin_s_RF_RF.pkl</td>\n",
       "      <td>{'selector__max_features': 500, 'selector__est...</td>\n",
       "      <td>X_test:(89, 18875)</td>\n",
       "      <td>['ENSG00000002587.10', 'ENSG00000003137.9', 'E...</td>\n",
       "    </tr>\n",
       "    <tr>\n",
       "      <th>0</th>\n",
       "      <td>bin_s</td>\n",
       "      <td>RF</td>\n",
       "      <td>LR_L2</td>\n",
       "      <td>6390</td>\n",
       "      <td>0.719101</td>\n",
       "      <td>0.724057</td>\n",
       "      <td>0.716127</td>\n",
       "      <td>0.715510</td>\n",
       "      <td>0.783620</td>\n",
       "      <td>amilcar22</td>\n",
       "      <td>12</td>\n",
       "      <td>2023-10-30 14:14:08.731399</td>\n",
       "      <td>modelo_6390_bin_s_RF_LR_L2.pkl</td>\n",
       "      <td>{'selector__max_features': 1000, 'selector__es...</td>\n",
       "      <td>X_test:(89, 18875)</td>\n",
       "      <td>['ENSG00000003137.9', 'ENSG00000003987.14', 'E...</td>\n",
       "    </tr>\n",
       "  </tbody>\n",
       "</table>\n",
       "</div>"
      ],
      "text/plain": [
       "    tipo select clasific  semilla  accuracy  precision    recall  f1_score  \\\n",
       "0  bin_s     RF      SVM     6390  0.584270   0.584119  0.581143  0.578954   \n",
       "0  bin_s     RF       RF     6390  0.606742   0.606122  0.605157  0.604946   \n",
       "0  bin_s     RF    LR_L2     6390  0.719101   0.724057  0.716127  0.715510   \n",
       "\n",
       "    roc_auc   hostname  total_time_sec                    datetime  \\\n",
       "0  0.669869  amilcar22               9  2023-10-30 14:15:01.694184   \n",
       "0  0.708291  amilcar22              30  2023-10-30 14:14:45.568542   \n",
       "0  0.783620  amilcar22              12  2023-10-30 14:14:08.731399   \n",
       "\n",
       "                   fichero_modelo  \\\n",
       "0    modelo_6390_bin_s_RF_SVM.pkl   \n",
       "0     modelo_6390_bin_s_RF_RF.pkl   \n",
       "0  modelo_6390_bin_s_RF_LR_L2.pkl   \n",
       "\n",
       "                                              params               shape  \\\n",
       "0  {'selector__max_features': 500, 'selector__est...  X_test:(89, 18875)   \n",
       "0  {'selector__max_features': 500, 'selector__est...  X_test:(89, 18875)   \n",
       "0  {'selector__max_features': 1000, 'selector__es...  X_test:(89, 18875)   \n",
       "\n",
       "                                            features  \n",
       "0  ['ENSG00000003137.9', 'ENSG00000007237.19', 'E...  \n",
       "0  ['ENSG00000002587.10', 'ENSG00000003137.9', 'E...  \n",
       "0  ['ENSG00000003137.9', 'ENSG00000003987.14', 'E...  "
      ]
     },
     "metadata": {},
     "output_type": "display_data"
    }
   ],
   "source": [
    "if M_TIPO.startswith(\"bin\"):\n",
    "    myfunc.save_metricas_to_csv(random_search, X_test, y_test, M_TIPO, M_SELECT, M_CLASIF, total_time, SEMILLA, myfunc.MET_DIR, M_FICHERO, fichero_modelo)\n",
    "else:\n",
    "    myfunc.save_metricas_multi_to_csv(random_search, X_test, y_test, M_TIPO, M_SELECT, M_CLASIF, total_time, SEMILLA, myfunc.MET_DIR, M_FICHERO, fichero_modelo)\n",
    "\n",
    "df1=myfunc.read_metricas_to_df(myfunc.MET_DIR,M_FICHERO)\n",
    "\n",
    "display(df1.sort_values(\"datetime\", ascending=False)[:3])\n"
   ]
  },
  {
   "cell_type": "markdown",
   "id": "161cb806",
   "metadata": {
    "papermill": {
     "duration": 0.004004,
     "end_time": "2023-10-30T13:15:01.727288",
     "exception": false,
     "start_time": "2023-10-30T13:15:01.723284",
     "status": "completed"
    },
    "tags": []
   },
   "source": [
    "#### Guardar resultados"
   ]
  },
  {
   "cell_type": "code",
   "execution_count": 13,
   "id": "5ba29d99",
   "metadata": {
    "execution": {
     "iopub.execute_input": "2023-10-30T13:15:01.736296Z",
     "iopub.status.busy": "2023-10-30T13:15:01.735688Z",
     "iopub.status.idle": "2023-10-30T13:15:01.743844Z",
     "shell.execute_reply": "2023-10-30T13:15:01.743346Z"
    },
    "papermill": {
     "duration": 0.01388,
     "end_time": "2023-10-30T13:15:01.745126",
     "exception": false,
     "start_time": "2023-10-30T13:15:01.731246",
     "status": "completed"
    },
    "tags": []
   },
   "outputs": [
    {
     "name": "stdout",
     "output_type": "stream",
     "text": [
      "20231030T141501 : amilcar22 : INFO : Inicio guardar resultados\n",
      "20231030T141501 : amilcar22 : INFO : Inicio guardar fichero ../tfm_git/ejecuciones/metricas/resultados_6390_bin_s-RF-SVM.csv\n",
      "20231030T141501 : amilcar22 : INFO : Fin guardar fichero ../tfm_git/ejecuciones/metricas/resultados_6390_bin_s-RF-SVM.csv\n",
      "20231030T141501 : amilcar22 : INFO : Fin guardar resultados\n"
     ]
    }
   ],
   "source": [
    "fichero_resultados=R_FICHERO+\"_\"+M_TIPO+\"-\"+M_SELECT+\"-\"+M_CLASIF+\".csv\"\n",
    "myfunc.save_resultados_to_csv(M_TIPO, M_SELECT, M_CLASIF,  random_search, myfunc.MET_DIR, fichero_resultados)\n"
   ]
  }
 ],
 "metadata": {
  "kernelspec": {
   "display_name": "Python 3 (ipykernel)",
   "language": "python",
   "name": "python3"
  },
  "language_info": {
   "codemirror_mode": {
    "name": "ipython",
    "version": 3
   },
   "file_extension": ".py",
   "mimetype": "text/x-python",
   "name": "python",
   "nbconvert_exporter": "python",
   "pygments_lexer": "ipython3",
   "version": "3.10.12"
  },
  "papermill": {
   "default_parameters": {},
   "duration": 14.613167,
   "end_time": "2023-10-30T13:15:04.365973",
   "environment_variables": {},
   "exception": null,
   "input_path": "03_entrenamiento.ipynb",
   "output_path": "ejecuciones/training/03_entrenamiento.20231030T141449.param_0000_6390_bin_s_RF_SVM.output.ipynb",
   "parameters": {
    "MAX_ITERS": 500,
    "M_CLASIF": "SVM",
    "M_FICHERO": "metricas_6390",
    "M_SELECT": "RF",
    "M_TIPO": "bin_s",
    "PRE_DATA_FILE": "rows_transpose_norm_by_gene_id_with_target_num_",
    "P_FICHERO": "param_0000_6390_bin_s_RF_SVM.yaml",
    "R_FICHERO": "resultados_6390",
    "SCORING": "roc_auc_ovr",
    "SEMILLA": 6390,
    "eval_clasifier": "SVC(probability=True, random_state=SEMILLA)",
    "eval_selector": "SelectFromModel(estimator=RandomForestClassifier(random_state=SEMILLA), threshold=-np.inf)",
    "param_distributions": {
     "clasifier__C": [
      1
     ],
     "clasifier__gamma": [
      0.01
     ],
     "clasifier__kernel": [
      "rbf"
     ],
     "selector__estimator__n_estimators": [
      200
     ],
     "selector__max_features": [
      500
     ]
    }
   },
   "start_time": "2023-10-30T13:14:49.752806",
   "version": "2.4.0"
  }
 },
 "nbformat": 4,
 "nbformat_minor": 5
}