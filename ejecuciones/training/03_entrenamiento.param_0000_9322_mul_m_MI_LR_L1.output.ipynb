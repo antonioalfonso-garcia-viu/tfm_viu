{
 "cells": [
  {
   "cell_type": "markdown",
   "id": "d2121422",
   "metadata": {
    "papermill": {
     "duration": 0.005409,
     "end_time": "2023-10-30T04:27:43.238353",
     "exception": false,
     "start_time": "2023-10-30T04:27:43.232944",
     "status": "completed"
    },
    "tags": []
   },
   "source": [
    "##### Inicio"
   ]
  },
  {
   "cell_type": "markdown",
   "id": "d22e05e9",
   "metadata": {
    "papermill": {
     "duration": 0.003385,
     "end_time": "2023-10-30T04:27:43.245427",
     "exception": false,
     "start_time": "2023-10-30T04:27:43.242042",
     "status": "completed"
    },
    "tags": []
   },
   "source": [
    "#### Carga de datos"
   ]
  },
  {
   "cell_type": "code",
   "execution_count": 1,
   "id": "f51adb1d",
   "metadata": {
    "execution": {
     "iopub.execute_input": "2023-10-30T04:27:43.253467Z",
     "iopub.status.busy": "2023-10-30T04:27:43.252967Z",
     "iopub.status.idle": "2023-10-30T04:27:44.396313Z",
     "shell.execute_reply": "2023-10-30T04:27:44.395680Z"
    },
    "papermill": {
     "duration": 1.149034,
     "end_time": "2023-10-30T04:27:44.397767",
     "exception": false,
     "start_time": "2023-10-30T04:27:43.248733",
     "status": "completed"
    },
    "tags": []
   },
   "outputs": [
    {
     "name": "stdout",
     "output_type": "stream",
     "text": [
      "CPU_COUNT: 16; NODE: enderlab; sys.version: 3.10.11 (main, May 16 2023, 00:28:57) [GCC 11.2.0]\n",
      "LOKY_MAX_CPU_COUNT is not set.\n",
      "OMP_NUM_THREADS is not set.\n"
     ]
    }
   ],
   "source": [
    "import os\n",
    "import numpy as np\n",
    "import pandas as pd\n",
    "import datetime\n",
    "import sklearn\n",
    "import logging\n",
    "import warnings\n",
    "\n",
    "from sklearn.pipeline import Pipeline\n",
    "from sklearn.model_selection import RandomizedSearchCV, KFold, cross_val_score, train_test_split\n",
    "from sklearn.metrics import accuracy_score, confusion_matrix, classification_report, roc_auc_score\n",
    "\n",
    "#  cargar algoritmos para aprendizaje supervisado\n",
    "from sklearn.feature_selection import SelectKBest, f_classif, SelectFromModel, mutual_info_classif\n",
    "from sklearn.svm import SVC\n",
    "from sklearn.ensemble import RandomForestClassifier\n",
    "from sklearn.linear_model import LogisticRegression,LogisticRegressionCV\n",
    "\n",
    "# importar fichero con utilidades propias\n",
    "from commons import myfunctions as myfunc\n"
   ]
  },
  {
   "cell_type": "markdown",
   "id": "dc46967d",
   "metadata": {
    "papermill": {
     "duration": 0.003545,
     "end_time": "2023-10-30T04:27:44.405425",
     "exception": false,
     "start_time": "2023-10-30T04:27:44.401880",
     "status": "completed"
    },
    "tags": []
   },
   "source": [
    "#### Parámetros a utilizar en el entrenamiento.\n",
    "\n",
    "Se indican los 3 algoritmos de *selección de características* (eval_selector_xxx) y los 3 algoritmos para la _clasificación_ (eval_clasifier_xxx)\n",
    "\n",
    "En *param_distributions* se indicar los parámetros que utilizan los algoritmos en la función RandomSearchCV.\n",
    "\n",
    "Esta celda tiene la etiqueta **parameters** que servirá para poder lanzar los entrenamientos con la utilidad **papermill** pasándole un fichero con los parámetros. Los nuevos parámetros se situarán tras esta celda para tener prevalencia."
   ]
  },
  {
   "cell_type": "code",
   "execution_count": 2,
   "id": "19418e03",
   "metadata": {
    "execution": {
     "iopub.execute_input": "2023-10-30T04:27:44.413891Z",
     "iopub.status.busy": "2023-10-30T04:27:44.413406Z",
     "iopub.status.idle": "2023-10-30T04:27:44.422158Z",
     "shell.execute_reply": "2023-10-30T04:27:44.421617Z"
    },
    "papermill": {
     "duration": 0.014595,
     "end_time": "2023-10-30T04:27:44.423431",
     "exception": false,
     "start_time": "2023-10-30T04:27:44.408836",
     "status": "completed"
    },
    "tags": [
     "parameters"
    ]
   },
   "outputs": [
    {
     "name": "stdout",
     "output_type": "stream",
     "text": [
      "20231030T052744 : enderlab : INFO : Utilizando parámetros de mul_m\n"
     ]
    }
   ],
   "source": [
    "#  Parametros para el entrenamiento\n",
    "\n",
    "SEMILLA=        42\n",
    "M_TIPO=         \"mul_m\"\n",
    "M_SELECT=       \"MI\"\n",
    "M_CLASIF=       \"SVM\"\n",
    "R_FICHERO=      \"resultados\"\n",
    "M_FICHERO=      \"metricas\"\n",
    "PRE_DATA_FILE=  \"rows_transpose_norm_by_gene_id_with_target_num_\"\n",
    "SCORING=        \"roc_auc_ovr\" \n",
    "MAX_ITERS=      100\n",
    "\n",
    "def mutual_info_classif_state(X, y):\n",
    "    return mutual_info_classif(X, y, random_state=SEMILLA)\n",
    "\n",
    "eval_selector_mi = \"SelectKBest(score_func=mutual_info_classif_state)\"\n",
    "eval_selector_rf=  \"SelectFromModel(estimator=RandomForestClassifier(random_state=SEMILLA), threshold=-np.inf)\"\n",
    "eval_selector_anova=  \"SelectKBest(score_func=f_classif)\"\n",
    "\n",
    "eval_clasifier_svm= \"SVC(probability=True, random_state=SEMILLA)\"\n",
    "eval_clasifier_rf= \"RandomForestClassifier(random_state=SEMILLA)\"\n",
    "eval_clasifier_lr= \"LogisticRegressionCV(random_state=SEMILLA)\"\n",
    "\n",
    "if M_TIPO.startswith(\"bin_m\"):\n",
    "    myfunc.verbose(f\"Utilizando parámetros de {M_TIPO}\")\n",
    "    eval_selector = eval_selector_mi\n",
    "    eval_clasifier = eval_clasifier_svm\n",
    "\n",
    "    SEMILLA = 6578\n",
    "    M_SELECT = \"MI\"\n",
    "    M_CLASIF = \"SVM\"\n",
    "    param_distributions = {'selector__k': [1000], \n",
    "         'clasifier__kernel': ['rbf'], 'clasifier__gamma': [0.01], 'clasifier__C': [100]}\n",
    "elif M_TIPO.startswith(\"bin_s\"):\n",
    "    myfunc.verbose(f\"Utilizando parámetros de {M_TIPO}\")\n",
    "    eval_selector = eval_selector_rf\n",
    "    eval_clasifier = eval_clasifier_lr\n",
    "\n",
    "    SEMILLA = 6191\n",
    "    M_SELECT = \"RF\"\n",
    "    M_CLASIF = \"LR_L2\"\n",
    "    param_distributions = {'selector__max_features': [1000], 'selector__estimator__n_estimators': [200], \n",
    "        'clasifier__solver': ['lbfgs'], 'clasifier__penalty': ['l2'], 'clasifier__max_iter': [10000]}\n",
    "\n",
    "elif M_TIPO.startswith(\"mul_m\"):\n",
    "    myfunc.verbose(f\"Utilizando parámetros de {M_TIPO}\")\n",
    " \n",
    "    eval_selector = eval_selector_rf\n",
    "    eval_clasifier = eval_clasifier_lr\n",
    "\n",
    "    SEMILLA = 6191\n",
    "    M_SELECT = \"RF\"\n",
    "    M_CLASIF = \"LR_L2\"\n",
    "    param_distributions = {'selector__max_features': [1000], 'selector__estimator__n_estimators': [400], \n",
    "        'clasifier__solver': ['lbfgs'], 'clasifier__penalty': ['l2'], 'clasifier__max_iter': [10000]}\n",
    "\n",
    "else:\n",
    "    # M_TIPO.startswith(\"mul_s\"):\n",
    "    myfunc.verbose(f\"Utilizando parámetros de {M_TIPO}\")\n",
    "    eval_selector = eval_selector_anova\n",
    "    eval_clasifier = eval_clasifier_lr\n",
    "\n",
    "    SEMILLA = 1860\n",
    "    M_SELECT = \"ANOVA\"\n",
    "    M_CLASIF = \"LR_L2\"\n",
    "    param_distributions = {'selector__k': [1000], \n",
    "        'clasifier__solver': ['saga'], 'clasifier__penalty': ['l2'], 'clasifier__max_iter': [10000]}\n",
    "\n"
   ]
  },
  {
   "cell_type": "code",
   "execution_count": 3,
   "id": "17b6199d",
   "metadata": {
    "execution": {
     "iopub.execute_input": "2023-10-30T04:27:44.431547Z",
     "iopub.status.busy": "2023-10-30T04:27:44.431257Z",
     "iopub.status.idle": "2023-10-30T04:27:44.435186Z",
     "shell.execute_reply": "2023-10-30T04:27:44.434664Z"
    },
    "papermill": {
     "duration": 0.009395,
     "end_time": "2023-10-30T04:27:44.436386",
     "exception": false,
     "start_time": "2023-10-30T04:27:44.426991",
     "status": "completed"
    },
    "tags": [
     "injected-parameters"
    ]
   },
   "outputs": [],
   "source": [
    "# Parameters\n",
    "M_TIPO = \"mul_m\"\n",
    "M_SELECT = \"MI\"\n",
    "M_CLASIF = \"LR_L1\"\n",
    "P_FICHERO = \"param_0000_9322_mul_m_MI_LR_L1.yaml\"\n",
    "R_FICHERO = \"resultados_9322\"\n",
    "M_FICHERO = \"metricas_9322\"\n",
    "PRE_DATA_FILE = \"rows_transpose_norm_by_gene_id_with_target_num_\"\n",
    "SCORING = \"roc_auc_ovr\"\n",
    "SEMILLA = 9322\n",
    "MAX_ITERS = 500\n",
    "eval_selector = \"SelectKBest(score_func=mutual_info_classif_state)\"\n",
    "eval_clasifier = \"LogisticRegressionCV(random_state=SEMILLA)\"\n",
    "param_distributions = {\n",
    "    \"selector__k\": [1000],\n",
    "    \"clasifier__solver\": [\"saga\"],\n",
    "    \"clasifier__penalty\": [\"l1\"],\n",
    "    \"clasifier__max_iter\": [10000],\n",
    "}\n"
   ]
  },
  {
   "cell_type": "code",
   "execution_count": 4,
   "id": "aa2fa3ae",
   "metadata": {
    "execution": {
     "iopub.execute_input": "2023-10-30T04:27:44.444725Z",
     "iopub.status.busy": "2023-10-30T04:27:44.444200Z",
     "iopub.status.idle": "2023-10-30T04:27:44.447593Z",
     "shell.execute_reply": "2023-10-30T04:27:44.447010Z"
    },
    "papermill": {
     "duration": 0.00892,
     "end_time": "2023-10-30T04:27:44.448809",
     "exception": false,
     "start_time": "2023-10-30T04:27:44.439889",
     "status": "completed"
    },
    "tags": []
   },
   "outputs": [],
   "source": [
    "DATA_FILE = PRE_DATA_FILE + M_TIPO\n",
    "\n",
    "# si viene \"None\" en el parámetro max_depth, se le quitan las comillas para que no sea entendido por el algoritmo como un texto\n",
    "if \"clasifier__max_depth\" in param_distributions:\n",
    "    param_distributions['clasifier__max_depth'] = [None if x == 'None' else x for x in param_distributions['clasifier__max_depth']]"
   ]
  },
  {
   "cell_type": "markdown",
   "id": "d3ddba69",
   "metadata": {
    "papermill": {
     "duration": 0.003491,
     "end_time": "2023-10-30T04:27:44.455814",
     "exception": false,
     "start_time": "2023-10-30T04:27:44.452323",
     "status": "completed"
    },
    "tags": []
   },
   "source": [
    "Asignar los algoritmos que se utilizarán en la función RandomSearchCV"
   ]
  },
  {
   "cell_type": "code",
   "execution_count": 5,
   "id": "086259cc",
   "metadata": {
    "execution": {
     "iopub.execute_input": "2023-10-30T04:27:44.465254Z",
     "iopub.status.busy": "2023-10-30T04:27:44.464872Z",
     "iopub.status.idle": "2023-10-30T04:27:44.467831Z",
     "shell.execute_reply": "2023-10-30T04:27:44.467279Z"
    },
    "papermill": {
     "duration": 0.009659,
     "end_time": "2023-10-30T04:27:44.469087",
     "exception": false,
     "start_time": "2023-10-30T04:27:44.459428",
     "status": "completed"
    },
    "tags": []
   },
   "outputs": [],
   "source": [
    "algor_selector=eval(eval_selector)\n",
    "algor_clasifier=eval(eval_clasifier)"
   ]
  },
  {
   "cell_type": "markdown",
   "id": "bf87e49d",
   "metadata": {
    "papermill": {
     "duration": 0.003734,
     "end_time": "2023-10-30T04:27:44.476412",
     "exception": false,
     "start_time": "2023-10-30T04:27:44.472678",
     "status": "completed"
    },
    "tags": []
   },
   "source": [
    "#### Comprobar el entorno y leer fichero de muestras"
   ]
  },
  {
   "cell_type": "code",
   "execution_count": 6,
   "id": "7dc0abbd",
   "metadata": {
    "execution": {
     "iopub.execute_input": "2023-10-30T04:27:44.484641Z",
     "iopub.status.busy": "2023-10-30T04:27:44.484240Z",
     "iopub.status.idle": "2023-10-30T04:27:44.739744Z",
     "shell.execute_reply": "2023-10-30T04:27:44.739129Z"
    },
    "papermill": {
     "duration": 0.261067,
     "end_time": "2023-10-30T04:27:44.741097",
     "exception": false,
     "start_time": "2023-10-30T04:27:44.480030",
     "status": "completed"
    },
    "tags": []
   },
   "outputs": [
    {
     "name": "stdout",
     "output_type": "stream",
     "text": [
      "20231030T052744 : enderlab : INFO : Encontrada carpeta DATA_DIR=../tfm_git/datos\n",
      "20231030T052744 : enderlab : INFO : Encontrada carpeta CFDNA_DIR=../tfm_git/datos/cfDNA_5hmC\n",
      "20231030T052744 : enderlab : INFO : Encontrada carpeta GENCODE_DIR=../tfm_git/datos/gencode\n",
      "20231030T052744 : enderlab : INFO : Encontrada carpeta H5_DIR=../tfm_git/datos/h5\n",
      "20231030T052744 : enderlab : INFO : Encontrada carpeta LOG_DIR=../tfm_git/datos/logs\n",
      "20231030T052744 : enderlab : INFO : Encontrada carpeta CSV_DIR=../tfm_git/datos/csv\n",
      "20231030T052744 : enderlab : INFO : Encontrada carpeta MODEL_DIR=../tfm_git/ejecuciones/modelos\n",
      "20231030T052744 : enderlab : INFO : Encontrada carpeta EXEC_DIR=../tfm_git/ejecuciones\n",
      "20231030T052744 : enderlab : INFO : Encontrada carpeta MET_DIR=../tfm_git/ejecuciones/metricas\n",
      "20231030T052744 : enderlab : INFO : Inicio leer fichero h5 ../tfm_git/datos/h5/rows_transpose_norm_by_gene_id_with_target_num_mul_m.h5\n",
      "20231030T052744 : enderlab : INFO : Leyendo clave /df\n"
     ]
    },
    {
     "name": "stdout",
     "output_type": "stream",
     "text": [
      "20231030T052744 : enderlab : INFO : Tamaño (434, 18876)\n",
      "20231030T052744 : enderlab : INFO : Fin leer fichero h5 ../tfm_git/datos/h5/rows_transpose_norm_by_gene_id_with_target_num_mul_m.h5\n"
     ]
    },
    {
     "data": {
      "text/plain": [
       "target\n",
       "0    62\n",
       "1    62\n",
       "2    62\n",
       "3    62\n",
       "4    62\n",
       "5    62\n",
       "6    62\n",
       "dtype: int64"
      ]
     },
     "metadata": {},
     "output_type": "display_data"
    },
    {
     "name": "stdout",
     "output_type": "stream",
     "text": [
      "Shape df: (434, 18876)\n"
     ]
    },
    {
     "name": "stdout",
     "output_type": "stream",
     "text": [
      "Shape X_train: (347, 18875)\n",
      "Shape X_test: (87, 18875)\n"
     ]
    }
   ],
   "source": [
    "start_time = datetime.datetime.now()\n",
    "\n",
    "myfunc.reset_vars()\n",
    "\n",
    "myfunc.NOTEBK_FILENAME = myfunc.get_nb_name()\n",
    "\n",
    "myfunc.check_enviroment(myfunc.DATA_DIR, myfunc.CFDNA_DIR, myfunc.GENCODE_DIR, myfunc.H5_DIR, myfunc.LOG_DIR, myfunc.CSV_DIR, myfunc.MODEL_DIR, myfunc.EXEC_DIR, myfunc.MET_DIR)\n",
    "\n",
    "# Leer fichero con las muestras\n",
    "df_t = myfunc.read_h5_to_df(DATA_FILE, myfunc.H5_DIR)\n",
    "display(df_t.groupby(\"target\").size())\n",
    "print(\"Shape df:\",df_t.shape)\n",
    "\n",
    "# Separar caracteristicas/genes de las etiquetas/tipos de cáncer\n",
    "X = df_t.iloc[:, :-1]  # Todas las columnas excepto la última\n",
    "y = df_t.iloc[:, -1]  # La última columna contiene los identificadores de los tipos de cáncer\n",
    "\n",
    "#  Crear el conjunto de datos de entrenamiento y de pruebas, y se fija la semilla para siempre coger el mismo juego de muestras\n",
    "X_train, X_test, y_train, y_test = train_test_split(X, y, test_size=0.2, shuffle=True, random_state=42)\n",
    "print(\"Shape X_train:\",X_train.shape)\n",
    "print(\"Shape X_test:\",X_test.shape)\n"
   ]
  },
  {
   "cell_type": "markdown",
   "id": "8cb84b70",
   "metadata": {
    "papermill": {
     "duration": 0.004215,
     "end_time": "2023-10-30T04:27:44.749882",
     "exception": false,
     "start_time": "2023-10-30T04:27:44.745667",
     "status": "completed"
    },
    "tags": []
   },
   "source": [
    "#### Selección de características y clasificación."
   ]
  },
  {
   "cell_type": "code",
   "execution_count": 7,
   "id": "ff3bb8b0",
   "metadata": {
    "execution": {
     "iopub.execute_input": "2023-10-30T04:27:44.760234Z",
     "iopub.status.busy": "2023-10-30T04:27:44.759682Z",
     "iopub.status.idle": "2023-10-30T04:53:41.220968Z",
     "shell.execute_reply": "2023-10-30T04:53:41.220185Z"
    },
    "papermill": {
     "duration": 1556.472603,
     "end_time": "2023-10-30T04:53:41.227177",
     "exception": false,
     "start_time": "2023-10-30T04:27:44.754574",
     "status": "completed"
    },
    "tags": []
   },
   "outputs": [
    {
     "name": "stdout",
     "output_type": "stream",
     "text": [
      "20231030T052744 : enderlab : INFO : Iniciando entrenamiento\n",
      "num_iter: 1 , max_iter: 1\n",
      "Fitting 5 folds for each of 1 candidates, totalling 5 fits\n"
     ]
    },
    {
     "name": "stdout",
     "output_type": "stream",
     "text": [
      "[CV 5/5] END clasifier__max_iter=10000, clasifier__penalty=l1, clasifier__solver=saga, selector__k=1000;, score=0.875 total time=10.1min\n"
     ]
    },
    {
     "name": "stdout",
     "output_type": "stream",
     "text": [
      "[CV 1/5] END clasifier__max_iter=10000, clasifier__penalty=l1, clasifier__solver=saga, selector__k=1000;, score=0.897 total time=13.2min\n"
     ]
    },
    {
     "name": "stdout",
     "output_type": "stream",
     "text": [
      "[CV 2/5] END clasifier__max_iter=10000, clasifier__penalty=l1, clasifier__solver=saga, selector__k=1000;, score=0.759 total time=13.4min\n"
     ]
    },
    {
     "name": "stdout",
     "output_type": "stream",
     "text": [
      "[CV 3/5] END clasifier__max_iter=10000, clasifier__penalty=l1, clasifier__solver=saga, selector__k=1000;, score=0.912 total time=13.7min\n"
     ]
    },
    {
     "name": "stdout",
     "output_type": "stream",
     "text": [
      "[CV 4/5] END clasifier__max_iter=10000, clasifier__penalty=l1, clasifier__solver=saga, selector__k=1000;, score=0.845 total time=13.9min\n"
     ]
    },
    {
     "name": "stdout",
     "output_type": "stream",
     "text": [
      "Mejores Hiperparámetros: {'selector__k': 1000, 'clasifier__solver': 'saga', 'clasifier__penalty': 'l1', 'clasifier__max_iter': 10000}\n",
      "Mejor Puntuación: 0.8575\n",
      "20231030T055341 : enderlab : INFO : Fin entrenamiento\n"
     ]
    }
   ],
   "source": [
    "myfunc.verbose(\"Iniciando entrenamiento\")\n",
    "\n",
    "kf = KFold(n_splits=5, shuffle=True, random_state=SEMILLA)\n",
    "\n",
    "# Crear el pipeline para el flujo de tareas\n",
    "tasks_pipeline = Pipeline([\n",
    "    ('selector', algor_selector),\n",
    "    ('clasifier', algor_clasifier)\n",
    "])\n",
    "\n",
    "# MAX_ITERS puede limitar el número de iteraciones si son excesivas para las combinaciones de parámetros buscando un óptimo local, \n",
    "# sino funcionaría como GridSearchCV al revisar todas las cominaciones de los parámetros\n",
    "num_iteraciones = 1\n",
    "num_iteraciones = num_iteraciones * np.prod([len(elemento1) for _, elemento1 in param_distributions.items()])\n",
    "max_iteraciones = num_iteraciones if num_iteraciones <= MAX_ITERS else MAX_ITERS\n",
    "print(\"num_iter:\",num_iteraciones,\", max_iter:\",max_iteraciones)\n",
    "\n",
    "random_search = RandomizedSearchCV(\n",
    "    tasks_pipeline, \n",
    "    param_distributions, \n",
    "    n_iter=max_iteraciones,\n",
    "    scoring=SCORING,\n",
    "    cv=kf,\n",
    "    verbose=3, \n",
    "    random_state=SEMILLA, \n",
    "    n_jobs=-1\n",
    "    )\n",
    "\n",
    "# Entrenar el modelo\n",
    "random_search.fit(X_train, y_train)\n",
    "\n",
    "# Ver los mejores hiperparámetros encontrados\n",
    "print(f'Mejores Hiperparámetros: {random_search.best_params_}')\n",
    "print(f'Mejor Puntuación: {random_search.best_score_:.4f}')\n",
    "\n",
    "# Nos quedamos con el mejor modelo para ver las métricas\n",
    "mejor_modelo = random_search.best_estimator_\n",
    "\n",
    "myfunc.verbose(\"Fin entrenamiento\")"
   ]
  },
  {
   "cell_type": "markdown",
   "id": "de6f4ca3",
   "metadata": {
    "papermill": {
     "duration": 0.004542,
     "end_time": "2023-10-30T04:53:41.236460",
     "exception": false,
     "start_time": "2023-10-30T04:53:41.231918",
     "status": "completed"
    },
    "tags": []
   },
   "source": [
    "#### Guardar modelo"
   ]
  },
  {
   "cell_type": "code",
   "execution_count": 8,
   "id": "de4ea858",
   "metadata": {
    "execution": {
     "iopub.execute_input": "2023-10-30T04:53:41.246902Z",
     "iopub.status.busy": "2023-10-30T04:53:41.246264Z",
     "iopub.status.idle": "2023-10-30T04:53:41.258228Z",
     "shell.execute_reply": "2023-10-30T04:53:41.257658Z"
    },
    "papermill": {
     "duration": 0.018662,
     "end_time": "2023-10-30T04:53:41.259446",
     "exception": false,
     "start_time": "2023-10-30T04:53:41.240784",
     "status": "completed"
    },
    "tags": []
   },
   "outputs": [
    {
     "name": "stdout",
     "output_type": "stream",
     "text": [
      "20231030T055341 : enderlab : INFO : Inicio guardar fichero ../tfm_git/ejecuciones/modelos/modelo_9322_mul_m_MI_LR_L1.pkl\n",
      "20231030T055341 : enderlab : INFO : Fin guardar fichero ../tfm_git/ejecuciones/modelos/modelo_9322_mul_m_MI_LR_L1.pkl\n"
     ]
    }
   ],
   "source": [
    "fichero_modelo = str.replace(\"modelo_\"+str(SEMILLA).zfill(4)+\"_\"+M_TIPO+\"_\"+M_SELECT+\"_\"+M_CLASIF+\".pkl\", \" \", \"_\")\n",
    "\n",
    "myfunc.save_modelo(mejor_modelo, myfunc.MODEL_DIR, fichero_modelo)"
   ]
  },
  {
   "cell_type": "markdown",
   "id": "0a950d01",
   "metadata": {
    "papermill": {
     "duration": 0.007964,
     "end_time": "2023-10-30T04:53:41.271835",
     "exception": false,
     "start_time": "2023-10-30T04:53:41.263871",
     "status": "completed"
    },
    "tags": []
   },
   "source": [
    "#### Ver resultados del las iteraciones hechas por RandomSearchCV"
   ]
  },
  {
   "cell_type": "code",
   "execution_count": 9,
   "id": "2ccf675a",
   "metadata": {
    "execution": {
     "iopub.execute_input": "2023-10-30T04:53:41.281592Z",
     "iopub.status.busy": "2023-10-30T04:53:41.281127Z",
     "iopub.status.idle": "2023-10-30T04:53:41.288038Z",
     "shell.execute_reply": "2023-10-30T04:53:41.287507Z"
    },
    "papermill": {
     "duration": 0.013168,
     "end_time": "2023-10-30T04:53:41.289256",
     "exception": false,
     "start_time": "2023-10-30T04:53:41.276088",
     "status": "completed"
    },
    "tags": []
   },
   "outputs": [
    {
     "name": "stdout",
     "output_type": "stream",
     "text": [
      "20231030T055341 : enderlab : INFO : Inicio ver resultados\n",
      "Mejores Hiperparámetros: {'selector__k': 1000, 'clasifier__solver': 'saga', 'clasifier__penalty': 'l1', 'clasifier__max_iter': 10000}\n",
      "Mejores puntuaciones: 0.8575 | Params: {'selector__k': 1000, 'clasifier__solver': 'saga', 'clasifier__penalty': 'l1', 'clasifier__max_iter': 10000}\n",
      "Media de las puntuaciones: 0.8575 | Params: {'selector__k': 1000, 'clasifier__solver': 'saga', 'clasifier__penalty': 'l1', 'clasifier__max_iter': 10000}\n",
      "20231030T055341 : enderlab : INFO : Fin resultados\n"
     ]
    }
   ],
   "source": [
    "myfunc.ver_resultados_search(random_search)"
   ]
  },
  {
   "cell_type": "markdown",
   "id": "f61d8a77",
   "metadata": {
    "papermill": {
     "duration": 0.00435,
     "end_time": "2023-10-30T04:53:41.298042",
     "exception": false,
     "start_time": "2023-10-30T04:53:41.293692",
     "status": "completed"
    },
    "tags": []
   },
   "source": [
    "#### Ver métricas del mejor modelo"
   ]
  },
  {
   "cell_type": "code",
   "execution_count": 10,
   "id": "b0d5858d",
   "metadata": {
    "execution": {
     "iopub.execute_input": "2023-10-30T04:53:41.308046Z",
     "iopub.status.busy": "2023-10-30T04:53:41.307684Z",
     "iopub.status.idle": "2023-10-30T04:53:42.030144Z",
     "shell.execute_reply": "2023-10-30T04:53:42.029587Z"
    },
    "papermill": {
     "duration": 0.728995,
     "end_time": "2023-10-30T04:53:42.031432",
     "exception": false,
     "start_time": "2023-10-30T04:53:41.302437",
     "status": "completed"
    },
    "tags": []
   },
   "outputs": [
    {
     "name": "stdout",
     "output_type": "stream",
     "text": [
      "20231030T055341 : enderlab : INFO : Inicio ver métricas multiclase\n"
     ]
    },
    {
     "name": "stdout",
     "output_type": "stream",
     "text": [
      "              precision    recall  f1-score   support\n",
      "\n",
      "           0       0.67      0.50      0.57        16\n",
      "           1       0.62      0.53      0.57        15\n",
      "           2       0.36      0.36      0.36        11\n",
      "           3       0.44      0.80      0.57         5\n",
      "           4       0.53      0.62      0.57        13\n",
      "           5       0.75      0.67      0.71         9\n",
      "           6       0.63      0.67      0.65        18\n",
      "\n",
      "    accuracy                           0.57        87\n",
      "   macro avg       0.57      0.59      0.57        87\n",
      "weighted avg       0.59      0.57      0.58        87\n",
      "\n",
      "\n",
      "\n",
      "           Exactitud: 0.574713\n",
      "   Precisión (media): 0.572149\n",
      "      Recall (media): 0.592241\n",
      "    F1-score (media): 0.571983\n",
      "\n",
      "\n",
      "AUC para el tipo de cáncer 0-Control.... 0.9067\n",
      "AUC para el tipo de cáncer 1-Bladder.... 0.8778\n",
      "AUC para el tipo de cáncer 2-Breast..... 0.8074\n",
      "AUC para el tipo de cáncer 3-Colorectal. 0.9805\n",
      "AUC para el tipo de cáncer 4-Kidney..... 0.8503\n",
      "AUC para el tipo de cáncer 5-Lung....... 0.9316\n",
      "AUC para el tipo de cáncer 6-Prostate... 0.8849\n"
     ]
    },
    {
     "name": "stdout",
     "output_type": "stream",
     "text": [
      "\n",
      "Media de AUC: 0.8913\n"
     ]
    },
    {
     "data": {
      "image/png": "[encoded data removed]",
      "text/plain": [
       "<Figure size 1000x600 with 1 Axes>"
      ]
     },
     "metadata": {},
     "output_type": "display_data"
    },
    {
     "name": "stdout",
     "output_type": "stream",
     "text": [
      "\n",
      "\n"
     ]
    },
    {
     "data": {
      "image/png": "[encoded data removed]",
      "text/plain": [
       "<Figure size 800x400 with 2 Axes>"
      ]
     },
     "metadata": {},
     "output_type": "display_data"
    },
    {
     "name": "stdout",
     "output_type": "stream",
     "text": [
      "\n",
      "\n",
      "Puntuación Jaccard para el cáncer tipo 0-Control.... 0.4000\n",
      "Puntuación Jaccard para el cáncer tipo 1-Bladder.... 0.4000\n",
      "Puntuación Jaccard para el cáncer tipo 2-Breast..... 0.2222\n",
      "Puntuación Jaccard para el cáncer tipo 3-Colorectal. 0.4000\n",
      "Puntuación Jaccard para el cáncer tipo 4-Kidney..... 0.4000\n",
      "Puntuación Jaccard para el cáncer tipo 5-Lung....... 0.5455\n",
      "Puntuación Jaccard para el cáncer tipo 6-Prostate... 0.4800\n",
      "\n",
      "Media de la puntuación de Jaccard: 0.4068\n"
     ]
    }
   ],
   "source": [
    "if M_TIPO.startswith(\"bin\"):\n",
    "    myfunc.ver_metricas(mejor_modelo, X_test, y_test)\n",
    "else:\n",
    "    myfunc.ver_metricas_multi(mejor_modelo, X_test, y_test)\n"
   ]
  },
  {
   "cell_type": "markdown",
   "id": "28c53f57",
   "metadata": {
    "papermill": {
     "duration": 0.006134,
     "end_time": "2023-10-30T04:53:42.044312",
     "exception": false,
     "start_time": "2023-10-30T04:53:42.038178",
     "status": "completed"
    },
    "tags": []
   },
   "source": [
    "#### Finalización del notebook"
   ]
  },
  {
   "cell_type": "code",
   "execution_count": 11,
   "id": "83d6b2b7",
   "metadata": {
    "execution": {
     "iopub.execute_input": "2023-10-30T04:53:42.057472Z",
     "iopub.status.busy": "2023-10-30T04:53:42.057034Z",
     "iopub.status.idle": "2023-10-30T04:53:42.060781Z",
     "shell.execute_reply": "2023-10-30T04:53:42.060239Z"
    },
    "papermill": {
     "duration": 0.011701,
     "end_time": "2023-10-30T04:53:42.061995",
     "exception": false,
     "start_time": "2023-10-30T04:53:42.050294",
     "status": "completed"
    },
    "tags": []
   },
   "outputs": [
    {
     "name": "stdout",
     "output_type": "stream",
     "text": [
      "20231030T055342 : enderlab : INFO : Notebook ha tardado 1557 seconds\n"
     ]
    }
   ],
   "source": [
    "end_time = datetime.datetime.now()\n",
    "total_time = end_time - start_time\n",
    "myfunc.verbose(f\"Notebook ha tardado {total_time.seconds} seconds\")"
   ]
  },
  {
   "cell_type": "markdown",
   "id": "49a0edff",
   "metadata": {
    "papermill": {
     "duration": 0.005981,
     "end_time": "2023-10-30T04:53:42.073937",
     "exception": false,
     "start_time": "2023-10-30T04:53:42.067956",
     "status": "completed"
    },
    "tags": []
   },
   "source": [
    "#### Guardar métricas"
   ]
  },
  {
   "cell_type": "code",
   "execution_count": 12,
   "id": "05a1cf47",
   "metadata": {
    "execution": {
     "iopub.execute_input": "2023-10-30T04:53:42.087356Z",
     "iopub.status.busy": "2023-10-30T04:53:42.086966Z",
     "iopub.status.idle": "2023-10-30T04:53:42.320476Z",
     "shell.execute_reply": "2023-10-30T04:53:42.319827Z"
    },
    "papermill": {
     "duration": 0.241774,
     "end_time": "2023-10-30T04:53:42.321845",
     "exception": false,
     "start_time": "2023-10-30T04:53:42.080071",
     "status": "completed"
    },
    "tags": []
   },
   "outputs": [
    {
     "name": "stdout",
     "output_type": "stream",
     "text": [
      "20231030T055342 : enderlab : INFO : Inicio guardar métricas multiclase\n",
      "20231030T055342 : enderlab : INFO : Inicio leer fichero ../tfm_git/ejecuciones/metricas/metricas_9322.csv\n",
      "20231030T055342 : enderlab : INFO : Fin leer fichero ../tfm_git/ejecuciones/metricas/metricas_9322.csv\n"
     ]
    },
    {
     "name": "stdout",
     "output_type": "stream",
     "text": [
      "20231030T055342 : enderlab : INFO : Inicio guardar fichero ../tfm_git/ejecuciones/metricas/metricas_9322.csv\n",
      "20231030T055342 : enderlab : INFO : Fichero borrado ../tfm_git/ejecuciones/metricas/metricas_9322.csv\n"
     ]
    },
    {
     "name": "stdout",
     "output_type": "stream",
     "text": [
      "20231030T055342 : enderlab : INFO : Fin guardar fichero ../tfm_git/ejecuciones/metricas/metricas_9322.csv\n",
      "20231030T055342 : enderlab : INFO : Fin guardar métricas multiclase\n",
      "20231030T055342 : enderlab : INFO : Inicio leer fichero ../tfm_git/ejecuciones/metricas/metricas_9322.csv\n",
      "20231030T055342 : enderlab : INFO : Fin leer fichero ../tfm_git/ejecuciones/metricas/metricas_9322.csv\n"
     ]
    },
    {
     "data": {
      "text/html": [
       "<div>\n",
       "<style scoped>\n",
       "    .dataframe tbody tr th:only-of-type {\n",
       "        vertical-align: middle;\n",
       "    }\n",
       "\n",
       "    .dataframe tbody tr th {\n",
       "        vertical-align: top;\n",
       "    }\n",
       "\n",
       "    .dataframe thead th {\n",
       "        text-align: right;\n",
       "    }\n",
       "</style>\n",
       "<table border=\"1\" class=\"dataframe\">\n",
       "  <thead>\n",
       "    <tr style=\"text-align: right;\">\n",
       "      <th></th>\n",
       "      <th>tipo</th>\n",
       "      <th>select</th>\n",
       "      <th>clasific</th>\n",
       "      <th>semilla</th>\n",
       "      <th>accuracy</th>\n",
       "      <th>precision</th>\n",
       "      <th>recall</th>\n",
       "      <th>f1_score</th>\n",
       "      <th>roc_auc</th>\n",
       "      <th>hostname</th>\n",
       "      <th>total_time_sec</th>\n",
       "      <th>datetime</th>\n",
       "      <th>fichero_modelo</th>\n",
       "      <th>params</th>\n",
       "      <th>shape</th>\n",
       "      <th>features</th>\n",
       "      <th>roc_auc_ovr</th>\n",
       "      <th>indices_auc</th>\n",
       "      <th>indices_jaccard</th>\n",
       "    </tr>\n",
       "  </thead>\n",
       "  <tbody>\n",
       "    <tr>\n",
       "      <th>0</th>\n",
       "      <td>mul_m</td>\n",
       "      <td>MI</td>\n",
       "      <td>LR_L1</td>\n",
       "      <td>9322</td>\n",
       "      <td>0.574713</td>\n",
       "      <td>0.572149</td>\n",
       "      <td>0.592241</td>\n",
       "      <td>0.571983</td>\n",
       "      <td>NaN</td>\n",
       "      <td>enderlab</td>\n",
       "      <td>1557</td>\n",
       "      <td>2023-10-30 05:53:42.276140</td>\n",
       "      <td>modelo_9322_mul_m_MI_LR_L1.pkl</td>\n",
       "      <td>{'selector__k': 1000, 'clasifier__solver': 'sa...</td>\n",
       "      <td>X_test:(87, 18875)</td>\n",
       "      <td>['ENSG00000001084.13', 'ENSG00000001460.18', '...</td>\n",
       "      <td>0.891310</td>\n",
       "      <td>[0.9066901408450704, 0.8777777777777778, 0.807...</td>\n",
       "      <td>[0.4, 0.4, 0.2222222222222222, 0.4, 0.4, 0.545...</td>\n",
       "    </tr>\n",
       "    <tr>\n",
       "      <th>0</th>\n",
       "      <td>mul_m</td>\n",
       "      <td>MI</td>\n",
       "      <td>LR_EN</td>\n",
       "      <td>9322</td>\n",
       "      <td>0.597701</td>\n",
       "      <td>0.590417</td>\n",
       "      <td>0.617043</td>\n",
       "      <td>0.594788</td>\n",
       "      <td>NaN</td>\n",
       "      <td>enderlab</td>\n",
       "      <td>1555</td>\n",
       "      <td>2023-10-30 05:27:37.696303</td>\n",
       "      <td>modelo_9322_mul_m_MI_LR_EN.pkl</td>\n",
       "      <td>{'selector__k': 1000, 'clasifier__solver': 'sa...</td>\n",
       "      <td>X_test:(87, 18875)</td>\n",
       "      <td>['ENSG00000001084.13', 'ENSG00000001460.18', '...</td>\n",
       "      <td>0.892308</td>\n",
       "      <td>[0.9014084507042253, 0.8759259259259259, 0.809...</td>\n",
       "      <td>[0.45, 0.4, 0.23529411764705882, 0.4, 0.421052...</td>\n",
       "    </tr>\n",
       "    <tr>\n",
       "      <th>0</th>\n",
       "      <td>mul_m</td>\n",
       "      <td>ANOVA</td>\n",
       "      <td>SVM</td>\n",
       "      <td>9322</td>\n",
       "      <td>0.448276</td>\n",
       "      <td>0.466514</td>\n",
       "      <td>0.477284</td>\n",
       "      <td>0.454199</td>\n",
       "      <td>NaN</td>\n",
       "      <td>enderlab</td>\n",
       "      <td>3</td>\n",
       "      <td>2023-10-30 05:01:35.550875</td>\n",
       "      <td>modelo_9322_mul_m_ANOVA_SVM.pkl</td>\n",
       "      <td>{'selector__k': 500, 'clasifier__kernel': 'rbf...</td>\n",
       "      <td>X_test:(87, 18875)</td>\n",
       "      <td>['ENSG00000000938.13', 'ENSG00000004660.15', '...</td>\n",
       "      <td>0.811554</td>\n",
       "      <td>[0.7112676056338028, 0.8796296296296295, 0.581...</td>\n",
       "      <td>[0.17391304347826086, 0.42105263157894735, 0.1...</td>\n",
       "    </tr>\n",
       "  </tbody>\n",
       "</table>\n",
       "</div>"
      ],
      "text/plain": [
       "    tipo select clasific  semilla  accuracy  precision    recall  f1_score  \\\n",
       "0  mul_m     MI    LR_L1     9322  0.574713   0.572149  0.592241  0.571983   \n",
       "0  mul_m     MI    LR_EN     9322  0.597701   0.590417  0.617043  0.594788   \n",
       "0  mul_m  ANOVA      SVM     9322  0.448276   0.466514  0.477284  0.454199   \n",
       "\n",
       "   roc_auc  hostname  total_time_sec                    datetime  \\\n",
       "0      NaN  enderlab            1557  2023-10-30 05:53:42.276140   \n",
       "0      NaN  enderlab            1555  2023-10-30 05:27:37.696303   \n",
       "0      NaN  enderlab               3  2023-10-30 05:01:35.550875   \n",
       "\n",
       "                    fichero_modelo  \\\n",
       "0   modelo_9322_mul_m_MI_LR_L1.pkl   \n",
       "0   modelo_9322_mul_m_MI_LR_EN.pkl   \n",
       "0  modelo_9322_mul_m_ANOVA_SVM.pkl   \n",
       "\n",
       "                                              params               shape  \\\n",
       "0  {'selector__k': 1000, 'clasifier__solver': 'sa...  X_test:(87, 18875)   \n",
       "0  {'selector__k': 1000, 'clasifier__solver': 'sa...  X_test:(87, 18875)   \n",
       "0  {'selector__k': 500, 'clasifier__kernel': 'rbf...  X_test:(87, 18875)   \n",
       "\n",
       "                                            features  roc_auc_ovr  \\\n",
       "0  ['ENSG00000001084.13', 'ENSG00000001460.18', '...     0.891310   \n",
       "0  ['ENSG00000001084.13', 'ENSG00000001460.18', '...     0.892308   \n",
       "0  ['ENSG00000000938.13', 'ENSG00000004660.15', '...     0.811554   \n",
       "\n",
       "                                         indices_auc  \\\n",
       "0  [0.9066901408450704, 0.8777777777777778, 0.807...   \n",
       "0  [0.9014084507042253, 0.8759259259259259, 0.809...   \n",
       "0  [0.7112676056338028, 0.8796296296296295, 0.581...   \n",
       "\n",
       "                                     indices_jaccard  \n",
       "0  [0.4, 0.4, 0.2222222222222222, 0.4, 0.4, 0.545...  \n",
       "0  [0.45, 0.4, 0.23529411764705882, 0.4, 0.421052...  \n",
       "0  [0.17391304347826086, 0.42105263157894735, 0.1...  "
      ]
     },
     "metadata": {},
     "output_type": "display_data"
    }
   ],
   "source": [
    "if M_TIPO.startswith(\"bin\"):\n",
    "    myfunc.save_metricas_to_csv(random_search, X_test, y_test, M_TIPO, M_SELECT, M_CLASIF, total_time, SEMILLA, myfunc.MET_DIR, M_FICHERO, fichero_modelo)\n",
    "else:\n",
    "    myfunc.save_metricas_multi_to_csv(random_search, X_test, y_test, M_TIPO, M_SELECT, M_CLASIF, total_time, SEMILLA, myfunc.MET_DIR, M_FICHERO, fichero_modelo)\n",
    "\n",
    "df1=myfunc.read_metricas_to_df(myfunc.MET_DIR,M_FICHERO)\n",
    "\n",
    "display(df1.sort_values(\"datetime\", ascending=False)[:3])\n"
   ]
  },
  {
   "cell_type": "markdown",
   "id": "6268a968",
   "metadata": {
    "papermill": {
     "duration": 0.006531,
     "end_time": "2023-10-30T04:53:42.335346",
     "exception": false,
     "start_time": "2023-10-30T04:53:42.328815",
     "status": "completed"
    },
    "tags": []
   },
   "source": [
    "#### Guardar resultados"
   ]
  },
  {
   "cell_type": "code",
   "execution_count": 13,
   "id": "6c2ed157",
   "metadata": {
    "execution": {
     "iopub.execute_input": "2023-10-30T04:53:42.349518Z",
     "iopub.status.busy": "2023-10-30T04:53:42.348876Z",
     "iopub.status.idle": "2023-10-30T04:53:42.357965Z",
     "shell.execute_reply": "2023-10-30T04:53:42.357439Z"
    },
    "papermill": {
     "duration": 0.01746,
     "end_time": "2023-10-30T04:53:42.359176",
     "exception": false,
     "start_time": "2023-10-30T04:53:42.341716",
     "status": "completed"
    },
    "tags": []
   },
   "outputs": [
    {
     "name": "stdout",
     "output_type": "stream",
     "text": [
      "20231030T055342 : enderlab : INFO : Inicio guardar resultados\n",
      "20231030T055342 : enderlab : INFO : Inicio guardar fichero ../tfm_git/ejecuciones/metricas/resultados_9322_mul_m-MI-LR_L1.csv\n",
      "20231030T055342 : enderlab : INFO : Fin guardar fichero ../tfm_git/ejecuciones/metricas/resultados_9322_mul_m-MI-LR_L1.csv\n",
      "20231030T055342 : enderlab : INFO : Fin guardar resultados\n"
     ]
    }
   ],
   "source": [
    "fichero_resultados=R_FICHERO+\"_\"+M_TIPO+\"-\"+M_SELECT+\"-\"+M_CLASIF+\".csv\"\n",
    "myfunc.save_resultados_to_csv(M_TIPO, M_SELECT, M_CLASIF,  random_search, myfunc.MET_DIR, fichero_resultados)\n"
   ]
  }
 ],
 "metadata": {
  "kernelspec": {
   "display_name": "Python 3 (ipykernel)",
   "language": "python",
   "name": "python3"
  },
  "language_info": {
   "codemirror_mode": {
    "name": "ipython",
    "version": 3
   },
   "file_extension": ".py",
   "mimetype": "text/x-python",
   "name": "python",
   "nbconvert_exporter": "python",
   "pygments_lexer": "ipython3",
   "version": "3.10.11"
  },
  "papermill": {
   "default_parameters": {},
   "duration": 1562.94096,
   "end_time": "2023-10-30T04:53:44.984837",
   "environment_variables": {},
   "exception": null,
   "input_path": "03_entrenamiento.ipynb",
   "output_path": "ejecuciones/training/03_entrenamiento.20231030T052741.param_0000_9322_mul_m_MI_LR_L1.output.ipynb",
   "parameters": {
    "MAX_ITERS": 500,
    "M_CLASIF": "LR_L1",
    "M_FICHERO": "metricas_9322",
    "M_SELECT": "MI",
    "M_TIPO": "mul_m",
    "PRE_DATA_FILE": "rows_transpose_norm_by_gene_id_with_target_num_",
    "P_FICHERO": "param_0000_9322_mul_m_MI_LR_L1.yaml",
    "R_FICHERO": "resultados_9322",
    "SCORING": "roc_auc_ovr",
    "SEMILLA": 9322,
    "eval_clasifier": "LogisticRegressionCV(random_state=SEMILLA)",
    "eval_selector": "SelectKBest(score_func=mutual_info_classif_state)",
    "param_distributions": {
     "clasifier__max_iter": [
      10000
     ],
     "clasifier__penalty": [
      "l1"
     ],
     "clasifier__solver": [
      "saga"
     ],
     "selector__k": [
      1000
     ]
    }
   },
   "start_time": "2023-10-30T04:27:42.043877",
   "version": "2.4.0"
  }
 },
 "nbformat": 4,
 "nbformat_minor": 5
}