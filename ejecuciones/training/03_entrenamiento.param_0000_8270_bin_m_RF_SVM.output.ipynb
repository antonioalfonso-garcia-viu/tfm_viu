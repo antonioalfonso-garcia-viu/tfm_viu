{
 "cells": [
  {
   "cell_type": "markdown",
   "id": "4b5fb708",
   "metadata": {
    "papermill": {
     "duration": 0.00562,
     "end_time": "2023-10-29T19:54:48.114366",
     "exception": false,
     "start_time": "2023-10-29T19:54:48.108746",
     "status": "completed"
    },
    "tags": []
   },
   "source": [
    "##### Inicio"
   ]
  },
  {
   "cell_type": "markdown",
   "id": "a2ee1bb0",
   "metadata": {
    "papermill": {
     "duration": 0.00332,
     "end_time": "2023-10-29T19:54:48.121394",
     "exception": false,
     "start_time": "2023-10-29T19:54:48.118074",
     "status": "completed"
    },
    "tags": []
   },
   "source": [
    "#### Carga de datos"
   ]
  },
  {
   "cell_type": "code",
   "execution_count": 1,
   "id": "1809c713",
   "metadata": {
    "execution": {
     "iopub.execute_input": "2023-10-29T19:54:48.129272Z",
     "iopub.status.busy": "2023-10-29T19:54:48.128746Z",
     "iopub.status.idle": "2023-10-29T19:54:49.235321Z",
     "shell.execute_reply": "2023-10-29T19:54:49.234699Z"
    },
    "papermill": {
     "duration": 1.112066,
     "end_time": "2023-10-29T19:54:49.236726",
     "exception": false,
     "start_time": "2023-10-29T19:54:48.124660",
     "status": "completed"
    },
    "tags": []
   },
   "outputs": [
    {
     "name": "stdout",
     "output_type": "stream",
     "text": [
      "CPU_COUNT: 16; NODE: enderlab; sys.version: 3.10.11 (main, May 16 2023, 00:28:57) [GCC 11.2.0]\n",
      "LOKY_MAX_CPU_COUNT is not set.\n",
      "OMP_NUM_THREADS is not set.\n"
     ]
    }
   ],
   "source": [
    "import os\n",
    "import numpy as np\n",
    "import pandas as pd\n",
    "import datetime\n",
    "import sklearn\n",
    "import logging\n",
    "import warnings\n",
    "\n",
    "from sklearn.pipeline import Pipeline\n",
    "from sklearn.model_selection import RandomizedSearchCV, KFold, cross_val_score, train_test_split\n",
    "from sklearn.metrics import accuracy_score, confusion_matrix, classification_report, roc_auc_score\n",
    "\n",
    "#  cargar algoritmos para aprendizaje supervisado\n",
    "from sklearn.feature_selection import SelectKBest, f_classif, SelectFromModel, mutual_info_classif\n",
    "from sklearn.svm import SVC\n",
    "from sklearn.ensemble import RandomForestClassifier\n",
    "from sklearn.linear_model import LogisticRegression,LogisticRegressionCV\n",
    "\n",
    "# importar fichero con utilidades propias\n",
    "from commons import myfunctions as myfunc\n"
   ]
  },
  {
   "cell_type": "markdown",
   "id": "4e40a91a",
   "metadata": {
    "papermill": {
     "duration": 0.003644,
     "end_time": "2023-10-29T19:54:49.244434",
     "exception": false,
     "start_time": "2023-10-29T19:54:49.240790",
     "status": "completed"
    },
    "tags": []
   },
   "source": [
    "#### Parámetros a utilizar en el entrenamiento.\n",
    "\n",
    "Se indican los 3 algoritmos de *selección de características* (eval_selector_xxx) y los 3 algoritmos para la _clasificación_ (eval_clasifier_xxx)\n",
    "\n",
    "En *param_distributions* se indicar los parámetros que utilizan los algoritmos en la función RandomSearchCV.\n",
    "\n",
    "Esta celda tiene la etiqueta **parameters** que servirá para poder lanzar los entrenamientos con la utilidad **papermill** pasándole un fichero con los parámetros. Los nuevos parámetros se situarán tras esta celda para tener prevalencia."
   ]
  },
  {
   "cell_type": "code",
   "execution_count": 2,
   "id": "3faea574",
   "metadata": {
    "execution": {
     "iopub.execute_input": "2023-10-29T19:54:49.252802Z",
     "iopub.status.busy": "2023-10-29T19:54:49.252461Z",
     "iopub.status.idle": "2023-10-29T19:54:49.261040Z",
     "shell.execute_reply": "2023-10-29T19:54:49.260456Z"
    },
    "papermill": {
     "duration": 0.014487,
     "end_time": "2023-10-29T19:54:49.262313",
     "exception": false,
     "start_time": "2023-10-29T19:54:49.247826",
     "status": "completed"
    },
    "tags": [
     "parameters"
    ]
   },
   "outputs": [
    {
     "name": "stdout",
     "output_type": "stream",
     "text": [
      "20231029T205449 : enderlab : INFO : Utilizando parámetros de mul_m\n"
     ]
    }
   ],
   "source": [
    "#  Parametros para el entrenamiento\n",
    "\n",
    "SEMILLA=        42\n",
    "M_TIPO=         \"mul_m\"\n",
    "M_SELECT=       \"MI\"\n",
    "M_CLASIF=       \"SVM\"\n",
    "R_FICHERO=      \"resultados\"\n",
    "M_FICHERO=      \"metricas\"\n",
    "PRE_DATA_FILE=  \"rows_transpose_norm_by_gene_id_with_target_num_\"\n",
    "SCORING=        \"roc_auc_ovr\" \n",
    "MAX_ITERS=      100\n",
    "\n",
    "def mutual_info_classif_state(X, y):\n",
    "    return mutual_info_classif(X, y, random_state=SEMILLA)\n",
    "\n",
    "eval_selector_mi = \"SelectKBest(score_func=mutual_info_classif_state)\"\n",
    "eval_selector_rf=  \"SelectFromModel(estimator=RandomForestClassifier(random_state=SEMILLA), threshold=-np.inf)\"\n",
    "eval_selector_anova=  \"SelectKBest(score_func=f_classif)\"\n",
    "\n",
    "eval_clasifier_svm= \"SVC(probability=True, random_state=SEMILLA)\"\n",
    "eval_clasifier_rf= \"RandomForestClassifier(random_state=SEMILLA)\"\n",
    "eval_clasifier_lr= \"LogisticRegressionCV(random_state=SEMILLA)\"\n",
    "\n",
    "if M_TIPO.startswith(\"bin_m\"):\n",
    "    myfunc.verbose(f\"Utilizando parámetros de {M_TIPO}\")\n",
    "    eval_selector = eval_selector_mi\n",
    "    eval_clasifier = eval_clasifier_svm\n",
    "\n",
    "    SEMILLA = 6578\n",
    "    M_SELECT = \"MI\"\n",
    "    M_CLASIF = \"SVM\"\n",
    "    param_distributions = {'selector__k': [1000], \n",
    "         'clasifier__kernel': ['rbf'], 'clasifier__gamma': [0.01], 'clasifier__C': [100]}\n",
    "elif M_TIPO.startswith(\"bin_s\"):\n",
    "    myfunc.verbose(f\"Utilizando parámetros de {M_TIPO}\")\n",
    "    eval_selector = eval_selector_rf\n",
    "    eval_clasifier = eval_clasifier_lr\n",
    "\n",
    "    SEMILLA = 6191\n",
    "    M_SELECT = \"RF\"\n",
    "    M_CLASIF = \"LR_L2\"\n",
    "    param_distributions = {'selector__max_features': [1000], 'selector__estimator__n_estimators': [200], \n",
    "        'clasifier__solver': ['lbfgs'], 'clasifier__penalty': ['l2'], 'clasifier__max_iter': [10000]}\n",
    "\n",
    "elif M_TIPO.startswith(\"mul_m\"):\n",
    "    myfunc.verbose(f\"Utilizando parámetros de {M_TIPO}\")\n",
    " \n",
    "    eval_selector = eval_selector_rf\n",
    "    eval_clasifier = eval_clasifier_lr\n",
    "\n",
    "    SEMILLA = 6191\n",
    "    M_SELECT = \"RF\"\n",
    "    M_CLASIF = \"LR_L2\"\n",
    "    param_distributions = {'selector__max_features': [1000], 'selector__estimator__n_estimators': [400], \n",
    "        'clasifier__solver': ['lbfgs'], 'clasifier__penalty': ['l2'], 'clasifier__max_iter': [10000]}\n",
    "\n",
    "else:\n",
    "    # M_TIPO.startswith(\"mul_s\"):\n",
    "    myfunc.verbose(f\"Utilizando parámetros de {M_TIPO}\")\n",
    "    eval_selector = eval_selector_anova\n",
    "    eval_clasifier = eval_clasifier_lr\n",
    "\n",
    "    SEMILLA = 1860\n",
    "    M_SELECT = \"ANOVA\"\n",
    "    M_CLASIF = \"LR_L2\"\n",
    "    param_distributions = {'selector__k': [1000], \n",
    "        'clasifier__solver': ['saga'], 'clasifier__penalty': ['l2'], 'clasifier__max_iter': [10000]}\n",
    "\n"
   ]
  },
  {
   "cell_type": "code",
   "execution_count": 3,
   "id": "e1562f3b",
   "metadata": {
    "execution": {
     "iopub.execute_input": "2023-10-29T19:54:49.270962Z",
     "iopub.status.busy": "2023-10-29T19:54:49.270531Z",
     "iopub.status.idle": "2023-10-29T19:54:49.274538Z",
     "shell.execute_reply": "2023-10-29T19:54:49.274008Z"
    },
    "papermill": {
     "duration": 0.009861,
     "end_time": "2023-10-29T19:54:49.275761",
     "exception": false,
     "start_time": "2023-10-29T19:54:49.265900",
     "status": "completed"
    },
    "tags": [
     "injected-parameters"
    ]
   },
   "outputs": [],
   "source": [
    "# Parameters\n",
    "M_TIPO = \"bin_m\"\n",
    "M_SELECT = \"RF\"\n",
    "M_CLASIF = \"SVM\"\n",
    "P_FICHERO = \"param_0000_8270_bin_m_RF_SVM.yaml\"\n",
    "R_FICHERO = \"resultados_8270\"\n",
    "M_FICHERO = \"metricas_8270\"\n",
    "PRE_DATA_FILE = \"rows_transpose_norm_by_gene_id_with_target_num_\"\n",
    "SCORING = \"roc_auc_ovr\"\n",
    "SEMILLA = 8270\n",
    "MAX_ITERS = 500\n",
    "eval_selector = \"SelectFromModel(estimator=RandomForestClassifier(random_state=SEMILLA), threshold=-np.inf)\"\n",
    "eval_clasifier = \"SVC(probability=True, random_state=SEMILLA)\"\n",
    "param_distributions = {\n",
    "    \"selector__max_features\": [500],\n",
    "    \"selector__estimator__n_estimators\": [200],\n",
    "    \"clasifier__kernel\": [\"rbf\"],\n",
    "    \"clasifier__gamma\": [0.01],\n",
    "    \"clasifier__C\": [100],\n",
    "}\n"
   ]
  },
  {
   "cell_type": "code",
   "execution_count": 4,
   "id": "9aef59ab",
   "metadata": {
    "execution": {
     "iopub.execute_input": "2023-10-29T19:54:49.284070Z",
     "iopub.status.busy": "2023-10-29T19:54:49.283554Z",
     "iopub.status.idle": "2023-10-29T19:54:49.286809Z",
     "shell.execute_reply": "2023-10-29T19:54:49.286286Z"
    },
    "papermill": {
     "duration": 0.008608,
     "end_time": "2023-10-29T19:54:49.287963",
     "exception": false,
     "start_time": "2023-10-29T19:54:49.279355",
     "status": "completed"
    },
    "tags": []
   },
   "outputs": [],
   "source": [
    "DATA_FILE = PRE_DATA_FILE + M_TIPO\n",
    "\n",
    "# si viene \"None\" en el parámetro max_depth, se le quitan las comillas para que no sea entendido por el algoritmo como un texto\n",
    "if \"clasifier__max_depth\" in param_distributions:\n",
    "    param_distributions['clasifier__max_depth'] = [None if x == 'None' else x for x in param_distributions['clasifier__max_depth']]"
   ]
  },
  {
   "cell_type": "markdown",
   "id": "5af88dca",
   "metadata": {
    "papermill": {
     "duration": 0.00354,
     "end_time": "2023-10-29T19:54:49.295024",
     "exception": false,
     "start_time": "2023-10-29T19:54:49.291484",
     "status": "completed"
    },
    "tags": []
   },
   "source": [
    "Asignar los algoritmos que se utilizarán en la función RandomSearchCV"
   ]
  },
  {
   "cell_type": "code",
   "execution_count": 5,
   "id": "104e9bed",
   "metadata": {
    "execution": {
     "iopub.execute_input": "2023-10-29T19:54:49.303427Z",
     "iopub.status.busy": "2023-10-29T19:54:49.302939Z",
     "iopub.status.idle": "2023-10-29T19:54:49.305901Z",
     "shell.execute_reply": "2023-10-29T19:54:49.305371Z"
    },
    "papermill": {
     "duration": 0.008434,
     "end_time": "2023-10-29T19:54:49.307062",
     "exception": false,
     "start_time": "2023-10-29T19:54:49.298628",
     "status": "completed"
    },
    "tags": []
   },
   "outputs": [],
   "source": [
    "algor_selector=eval(eval_selector)\n",
    "algor_clasifier=eval(eval_clasifier)"
   ]
  },
  {
   "cell_type": "markdown",
   "id": "410d5a77",
   "metadata": {
    "papermill": {
     "duration": 0.003679,
     "end_time": "2023-10-29T19:54:49.314236",
     "exception": false,
     "start_time": "2023-10-29T19:54:49.310557",
     "status": "completed"
    },
    "tags": []
   },
   "source": [
    "#### Comprobar el entorno y leer fichero de muestras"
   ]
  },
  {
   "cell_type": "code",
   "execution_count": 6,
   "id": "5f42262d",
   "metadata": {
    "execution": {
     "iopub.execute_input": "2023-10-29T19:54:49.322527Z",
     "iopub.status.busy": "2023-10-29T19:54:49.322186Z",
     "iopub.status.idle": "2023-10-29T19:54:49.644891Z",
     "shell.execute_reply": "2023-10-29T19:54:49.644295Z"
    },
    "papermill": {
     "duration": 0.328362,
     "end_time": "2023-10-29T19:54:49.646203",
     "exception": false,
     "start_time": "2023-10-29T19:54:49.317841",
     "status": "completed"
    },
    "tags": []
   },
   "outputs": [
    {
     "name": "stdout",
     "output_type": "stream",
     "text": [
      "20231029T205449 : enderlab : INFO : Encontrada carpeta DATA_DIR=../tfm_git/datos\n",
      "20231029T205449 : enderlab : INFO : Encontrada carpeta CFDNA_DIR=../tfm_git/datos/cfDNA_5hmC\n",
      "20231029T205449 : enderlab : INFO : Encontrada carpeta GENCODE_DIR=../tfm_git/datos/gencode\n",
      "20231029T205449 : enderlab : INFO : Encontrada carpeta H5_DIR=../tfm_git/datos/h5\n",
      "20231029T205449 : enderlab : INFO : Encontrada carpeta LOG_DIR=../tfm_git/datos/logs\n",
      "20231029T205449 : enderlab : INFO : Encontrada carpeta CSV_DIR=../tfm_git/datos/csv\n",
      "20231029T205449 : enderlab : INFO : Encontrada carpeta MODEL_DIR=../tfm_git/ejecuciones/modelos\n",
      "20231029T205449 : enderlab : INFO : Encontrada carpeta EXEC_DIR=../tfm_git/ejecuciones\n",
      "20231029T205449 : enderlab : INFO : Encontrada carpeta MET_DIR=../tfm_git/ejecuciones/metricas\n",
      "20231029T205449 : enderlab : INFO : Inicio leer fichero h5 ../tfm_git/datos/h5/rows_transpose_norm_by_gene_id_with_target_num_bin_m.h5\n",
      "20231029T205449 : enderlab : INFO : Leyendo clave /df\n"
     ]
    },
    {
     "name": "stdout",
     "output_type": "stream",
     "text": [
      "20231029T205449 : enderlab : INFO : Tamaño (720, 18876)\n",
      "20231029T205449 : enderlab : INFO : Fin leer fichero h5 ../tfm_git/datos/h5/rows_transpose_norm_by_gene_id_with_target_num_bin_m.h5\n"
     ]
    },
    {
     "data": {
      "text/plain": [
       "target\n",
       "0    360\n",
       "1    360\n",
       "dtype: int64"
      ]
     },
     "metadata": {},
     "output_type": "display_data"
    },
    {
     "name": "stdout",
     "output_type": "stream",
     "text": [
      "Shape df: (720, 18876)\n",
      "Shape X_train: (576, 18875)\n",
      "Shape X_test: (144, 18875)\n"
     ]
    }
   ],
   "source": [
    "start_time = datetime.datetime.now()\n",
    "\n",
    "myfunc.reset_vars()\n",
    "\n",
    "myfunc.NOTEBK_FILENAME = myfunc.get_nb_name()\n",
    "\n",
    "myfunc.check_enviroment(myfunc.DATA_DIR, myfunc.CFDNA_DIR, myfunc.GENCODE_DIR, myfunc.H5_DIR, myfunc.LOG_DIR, myfunc.CSV_DIR, myfunc.MODEL_DIR, myfunc.EXEC_DIR, myfunc.MET_DIR)\n",
    "\n",
    "# Leer fichero con las muestras\n",
    "df_t = myfunc.read_h5_to_df(DATA_FILE, myfunc.H5_DIR)\n",
    "display(df_t.groupby(\"target\").size())\n",
    "print(\"Shape df:\",df_t.shape)\n",
    "\n",
    "# Separar caracteristicas/genes de las etiquetas/tipos de cáncer\n",
    "X = df_t.iloc[:, :-1]  # Todas las columnas excepto la última\n",
    "y = df_t.iloc[:, -1]  # La última columna contiene los identificadores de los tipos de cáncer\n",
    "\n",
    "#  Crear el conjunto de datos de entrenamiento y de pruebas, y se fija la semilla para siempre coger el mismo juego de muestras\n",
    "X_train, X_test, y_train, y_test = train_test_split(X, y, test_size=0.2, shuffle=True, random_state=42)\n",
    "print(\"Shape X_train:\",X_train.shape)\n",
    "print(\"Shape X_test:\",X_test.shape)\n"
   ]
  },
  {
   "cell_type": "markdown",
   "id": "8aa7a115",
   "metadata": {
    "papermill": {
     "duration": 0.004084,
     "end_time": "2023-10-29T19:54:49.654830",
     "exception": false,
     "start_time": "2023-10-29T19:54:49.650746",
     "status": "completed"
    },
    "tags": []
   },
   "source": [
    "#### Selección de características y clasificación."
   ]
  },
  {
   "cell_type": "code",
   "execution_count": 7,
   "id": "610b5466",
   "metadata": {
    "execution": {
     "iopub.execute_input": "2023-10-29T19:54:49.664154Z",
     "iopub.status.busy": "2023-10-29T19:54:49.663578Z",
     "iopub.status.idle": "2023-10-29T19:55:07.672973Z",
     "shell.execute_reply": "2023-10-29T19:55:07.671932Z"
    },
    "papermill": {
     "duration": 18.016089,
     "end_time": "2023-10-29T19:55:07.674865",
     "exception": false,
     "start_time": "2023-10-29T19:54:49.658776",
     "status": "completed"
    },
    "tags": []
   },
   "outputs": [
    {
     "name": "stdout",
     "output_type": "stream",
     "text": [
      "20231029T205449 : enderlab : INFO : Iniciando entrenamiento\n",
      "num_iter: 1 , max_iter: 1\n",
      "Fitting 5 folds for each of 1 candidates, totalling 5 fits\n"
     ]
    },
    {
     "name": "stdout",
     "output_type": "stream",
     "text": [
      "Mejores Hiperparámetros: {'selector__max_features': 500, 'selector__estimator__n_estimators': 200, 'clasifier__kernel': 'rbf', 'clasifier__gamma': 0.01, 'clasifier__C': 100}\n",
      "Mejor Puntuación: 0.8878\n",
      "20231029T205507 : enderlab : INFO : Fin entrenamiento\n"
     ]
    }
   ],
   "source": [
    "myfunc.verbose(\"Iniciando entrenamiento\")\n",
    "\n",
    "kf = KFold(n_splits=5, shuffle=True, random_state=SEMILLA)\n",
    "\n",
    "# Crear el pipeline para el flujo de tareas\n",
    "tasks_pipeline = Pipeline([\n",
    "    ('selector', algor_selector),\n",
    "    ('clasifier', algor_clasifier)\n",
    "])\n",
    "\n",
    "# MAX_ITERS puede limitar el número de iteraciones si son excesivas para las combinaciones de parámetros buscando un óptimo local, \n",
    "# sino funcionaría como GridSearchCV al revisar todas las cominaciones de los parámetros\n",
    "num_iteraciones = 1\n",
    "num_iteraciones = num_iteraciones * np.prod([len(elemento1) for _, elemento1 in param_distributions.items()])\n",
    "max_iteraciones = num_iteraciones if num_iteraciones <= MAX_ITERS else MAX_ITERS\n",
    "print(\"num_iter:\",num_iteraciones,\", max_iter:\",max_iteraciones)\n",
    "\n",
    "random_search = RandomizedSearchCV(\n",
    "    tasks_pipeline, \n",
    "    param_distributions, \n",
    "    n_iter=max_iteraciones,\n",
    "    scoring=SCORING,\n",
    "    cv=kf,\n",
    "    verbose=3, \n",
    "    random_state=SEMILLA, \n",
    "    n_jobs=-1\n",
    "    )\n",
    "\n",
    "# Entrenar el modelo\n",
    "random_search.fit(X_train, y_train)\n",
    "\n",
    "# Ver los mejores hiperparámetros encontrados\n",
    "print(f'Mejores Hiperparámetros: {random_search.best_params_}')\n",
    "print(f'Mejor Puntuación: {random_search.best_score_:.4f}')\n",
    "\n",
    "# Nos quedamos con el mejor modelo para ver las métricas\n",
    "mejor_modelo = random_search.best_estimator_\n",
    "\n",
    "myfunc.verbose(\"Fin entrenamiento\")"
   ]
  },
  {
   "cell_type": "markdown",
   "id": "2018a379",
   "metadata": {
    "papermill": {
     "duration": 0.004561,
     "end_time": "2023-10-29T19:55:07.684930",
     "exception": false,
     "start_time": "2023-10-29T19:55:07.680369",
     "status": "completed"
    },
    "tags": []
   },
   "source": [
    "#### Guardar modelo"
   ]
  },
  {
   "cell_type": "code",
   "execution_count": 8,
   "id": "297b6591",
   "metadata": {
    "execution": {
     "iopub.execute_input": "2023-10-29T19:55:07.696353Z",
     "iopub.status.busy": "2023-10-29T19:55:07.695613Z",
     "iopub.status.idle": "2023-10-29T19:55:07.789227Z",
     "shell.execute_reply": "2023-10-29T19:55:07.788409Z"
    },
    "papermill": {
     "duration": 0.101366,
     "end_time": "2023-10-29T19:55:07.791131",
     "exception": false,
     "start_time": "2023-10-29T19:55:07.689765",
     "status": "completed"
    },
    "tags": []
   },
   "outputs": [
    {
     "name": "stdout",
     "output_type": "stream",
     "text": [
      "20231029T205507 : enderlab : INFO : Inicio guardar fichero ../tfm_git/ejecuciones/modelos/modelo_8270_bin_m_RF_SVM.pkl\n",
      "20231029T205507 : enderlab : INFO : Fin guardar fichero ../tfm_git/ejecuciones/modelos/modelo_8270_bin_m_RF_SVM.pkl\n"
     ]
    }
   ],
   "source": [
    "fichero_modelo = str.replace(\"modelo_\"+str(SEMILLA).zfill(4)+\"_\"+M_TIPO+\"_\"+M_SELECT+\"_\"+M_CLASIF+\".pkl\", \" \", \"_\")\n",
    "\n",
    "myfunc.save_modelo(mejor_modelo, myfunc.MODEL_DIR, fichero_modelo)"
   ]
  },
  {
   "cell_type": "markdown",
   "id": "c91ea62f",
   "metadata": {
    "papermill": {
     "duration": 0.007487,
     "end_time": "2023-10-29T19:55:07.804023",
     "exception": false,
     "start_time": "2023-10-29T19:55:07.796536",
     "status": "completed"
    },
    "tags": []
   },
   "source": [
    "#### Ver resultados del las iteraciones hechas por RandomSearchCV"
   ]
  },
  {
   "cell_type": "code",
   "execution_count": 9,
   "id": "79c977d5",
   "metadata": {
    "execution": {
     "iopub.execute_input": "2023-10-29T19:55:07.817690Z",
     "iopub.status.busy": "2023-10-29T19:55:07.816812Z",
     "iopub.status.idle": "2023-10-29T19:55:07.828149Z",
     "shell.execute_reply": "2023-10-29T19:55:07.827421Z"
    },
    "papermill": {
     "duration": 0.019164,
     "end_time": "2023-10-29T19:55:07.829966",
     "exception": false,
     "start_time": "2023-10-29T19:55:07.810802",
     "status": "completed"
    },
    "tags": []
   },
   "outputs": [
    {
     "name": "stdout",
     "output_type": "stream",
     "text": [
      "20231029T205507 : enderlab : INFO : Inicio ver resultados\n",
      "Mejores Hiperparámetros: {'selector__max_features': 500, 'selector__estimator__n_estimators': 200, 'clasifier__kernel': 'rbf', 'clasifier__gamma': 0.01, 'clasifier__C': 100}\n",
      "Mejores puntuaciones: 0.8878 | Params: {'selector__max_features': 500, 'selector__estimator__n_estimators': 200, 'clasifier__kernel': 'rbf', 'clasifier__gamma': 0.01, 'clasifier__C': 100}\n",
      "Media de las puntuaciones: 0.8878 | Params: {'selector__max_features': 500, 'selector__estimator__n_estimators': 200, 'clasifier__kernel': 'rbf', 'clasifier__gamma': 0.01, 'clasifier__C': 100}\n",
      "20231029T205507 : enderlab : INFO : Fin resultados\n"
     ]
    }
   ],
   "source": [
    "myfunc.ver_resultados_search(random_search)"
   ]
  },
  {
   "cell_type": "markdown",
   "id": "4453876d",
   "metadata": {
    "papermill": {
     "duration": 0.005275,
     "end_time": "2023-10-29T19:55:07.840554",
     "exception": false,
     "start_time": "2023-10-29T19:55:07.835279",
     "status": "completed"
    },
    "tags": []
   },
   "source": [
    "#### Ver métricas del mejor modelo"
   ]
  },
  {
   "cell_type": "code",
   "execution_count": 10,
   "id": "256e70d8",
   "metadata": {
    "execution": {
     "iopub.execute_input": "2023-10-29T19:55:07.854681Z",
     "iopub.status.busy": "2023-10-29T19:55:07.853797Z",
     "iopub.status.idle": "2023-10-29T19:55:08.577413Z",
     "shell.execute_reply": "2023-10-29T19:55:08.576784Z"
    },
    "papermill": {
     "duration": 0.733892,
     "end_time": "2023-10-29T19:55:08.580455",
     "exception": false,
     "start_time": "2023-10-29T19:55:07.846563",
     "status": "completed"
    },
    "tags": []
   },
   "outputs": [
    {
     "name": "stdout",
     "output_type": "stream",
     "text": [
      "20231029T205507 : enderlab : INFO : Inicio ver métricas\n"
     ]
    },
    {
     "name": "stdout",
     "output_type": "stream",
     "text": [
      "              precision    recall  f1-score   support\n",
      "\n",
      "           0       0.87      0.83      0.85        82\n",
      "           1       0.79      0.84      0.81        62\n",
      "\n",
      "    accuracy                           0.83       144\n",
      "   macro avg       0.83      0.83      0.83       144\n",
      "weighted avg       0.84      0.83      0.83       144\n",
      "\n",
      "\n",
      "\n",
      "   Exactitud: 0.8333\n",
      "   Precisión: 0.8298\n",
      "Sensibilidad: 0.8340\n",
      "    F1-score: 0.8313\n",
      "     AUC ROC: 0.8971\n"
     ]
    },
    {
     "data": {
      "image/png": "[encoded data removed]",
      "text/plain": [
       "<Figure size 300x100 with 2 Axes>"
      ]
     },
     "metadata": {},
     "output_type": "display_data"
    },
    {
     "data": {
      "image/png": "[encoded data removed]",
      "text/plain": [
       "<Figure size 800x500 with 1 Axes>"
      ]
     },
     "metadata": {},
     "output_type": "display_data"
    },
    {
     "name": "stdout",
     "output_type": "stream",
     "text": [
      "20231029T205508 : enderlab : INFO : Fin ver métricas\n"
     ]
    }
   ],
   "source": [
    "if M_TIPO.startswith(\"bin\"):\n",
    "    myfunc.ver_metricas(mejor_modelo, X_test, y_test)\n",
    "else:\n",
    "    myfunc.ver_metricas_multi(mejor_modelo, X_test, y_test)\n"
   ]
  },
  {
   "cell_type": "markdown",
   "id": "78a3e255",
   "metadata": {
    "papermill": {
     "duration": 0.00667,
     "end_time": "2023-10-29T19:55:08.594610",
     "exception": false,
     "start_time": "2023-10-29T19:55:08.587940",
     "status": "completed"
    },
    "tags": []
   },
   "source": [
    "#### Finalización del notebook"
   ]
  },
  {
   "cell_type": "code",
   "execution_count": 11,
   "id": "3b74e232",
   "metadata": {
    "execution": {
     "iopub.execute_input": "2023-10-29T19:55:08.607708Z",
     "iopub.status.busy": "2023-10-29T19:55:08.607182Z",
     "iopub.status.idle": "2023-10-29T19:55:08.611147Z",
     "shell.execute_reply": "2023-10-29T19:55:08.610593Z"
    },
    "papermill": {
     "duration": 0.012239,
     "end_time": "2023-10-29T19:55:08.612529",
     "exception": false,
     "start_time": "2023-10-29T19:55:08.600290",
     "status": "completed"
    },
    "tags": []
   },
   "outputs": [
    {
     "name": "stdout",
     "output_type": "stream",
     "text": [
      "20231029T205508 : enderlab : INFO : Notebook ha tardado 19 seconds\n"
     ]
    }
   ],
   "source": [
    "end_time = datetime.datetime.now()\n",
    "total_time = end_time - start_time\n",
    "myfunc.verbose(f\"Notebook ha tardado {total_time.seconds} seconds\")"
   ]
  },
  {
   "cell_type": "markdown",
   "id": "08b5e8a4",
   "metadata": {
    "papermill": {
     "duration": 0.005617,
     "end_time": "2023-10-29T19:55:08.624108",
     "exception": false,
     "start_time": "2023-10-29T19:55:08.618491",
     "status": "completed"
    },
    "tags": []
   },
   "source": [
    "#### Guardar métricas"
   ]
  },
  {
   "cell_type": "code",
   "execution_count": 12,
   "id": "cd303f3f",
   "metadata": {
    "execution": {
     "iopub.execute_input": "2023-10-29T19:55:08.635923Z",
     "iopub.status.busy": "2023-10-29T19:55:08.635395Z",
     "iopub.status.idle": "2023-10-29T19:55:09.126475Z",
     "shell.execute_reply": "2023-10-29T19:55:09.125902Z"
    },
    "papermill": {
     "duration": 0.498368,
     "end_time": "2023-10-29T19:55:09.127787",
     "exception": false,
     "start_time": "2023-10-29T19:55:08.629419",
     "status": "completed"
    },
    "tags": []
   },
   "outputs": [
    {
     "name": "stdout",
     "output_type": "stream",
     "text": [
      "20231029T205508 : enderlab : INFO : Inicio guardar métricas\n",
      "20231029T205508 : enderlab : INFO : Inicio leer fichero ../tfm_git/ejecuciones/metricas/metricas_8270.csv\n",
      "20231029T205508 : enderlab : INFO : Fin leer fichero ../tfm_git/ejecuciones/metricas/metricas_8270.csv\n"
     ]
    },
    {
     "name": "stdout",
     "output_type": "stream",
     "text": [
      "20231029T205509 : enderlab : INFO : Inicio guardar fichero ../tfm_git/ejecuciones/metricas/metricas_8270.csv\n",
      "20231029T205509 : enderlab : INFO : Fichero borrado ../tfm_git/ejecuciones/metricas/metricas_8270.csv\n",
      "20231029T205509 : enderlab : INFO : Fin guardar fichero ../tfm_git/ejecuciones/metricas/metricas_8270.csv\n",
      "20231029T205509 : enderlab : INFO : Fin guardar métricas\n",
      "20231029T205509 : enderlab : INFO : Inicio leer fichero ../tfm_git/ejecuciones/metricas/metricas_8270.csv\n",
      "20231029T205509 : enderlab : INFO : Fin leer fichero ../tfm_git/ejecuciones/metricas/metricas_8270.csv\n"
     ]
    },
    {
     "data": {
      "text/html": [
       "<div>\n",
       "<style scoped>\n",
       "    .dataframe tbody tr th:only-of-type {\n",
       "        vertical-align: middle;\n",
       "    }\n",
       "\n",
       "    .dataframe tbody tr th {\n",
       "        vertical-align: top;\n",
       "    }\n",
       "\n",
       "    .dataframe thead th {\n",
       "        text-align: right;\n",
       "    }\n",
       "</style>\n",
       "<table border=\"1\" class=\"dataframe\">\n",
       "  <thead>\n",
       "    <tr style=\"text-align: right;\">\n",
       "      <th></th>\n",
       "      <th>tipo</th>\n",
       "      <th>select</th>\n",
       "      <th>clasific</th>\n",
       "      <th>semilla</th>\n",
       "      <th>accuracy</th>\n",
       "      <th>precision</th>\n",
       "      <th>recall</th>\n",
       "      <th>f1_score</th>\n",
       "      <th>roc_auc</th>\n",
       "      <th>hostname</th>\n",
       "      <th>total_time_sec</th>\n",
       "      <th>datetime</th>\n",
       "      <th>fichero_modelo</th>\n",
       "      <th>params</th>\n",
       "      <th>shape</th>\n",
       "      <th>features</th>\n",
       "    </tr>\n",
       "  </thead>\n",
       "  <tbody>\n",
       "    <tr>\n",
       "      <th>0</th>\n",
       "      <td>bin_m</td>\n",
       "      <td>RF</td>\n",
       "      <td>SVM</td>\n",
       "      <td>8270</td>\n",
       "      <td>0.833333</td>\n",
       "      <td>0.829837</td>\n",
       "      <td>0.833989</td>\n",
       "      <td>0.831250</td>\n",
       "      <td>0.897128</td>\n",
       "      <td>enderlab</td>\n",
       "      <td>19</td>\n",
       "      <td>2023-10-29 20:55:09.092186</td>\n",
       "      <td>modelo_8270_bin_m_RF_SVM.pkl</td>\n",
       "      <td>{'selector__max_features': 500, 'selector__est...</td>\n",
       "      <td>X_test:(144, 18875)</td>\n",
       "      <td>['ENSG00000001167.15', 'ENSG00000005102.14', '...</td>\n",
       "    </tr>\n",
       "    <tr>\n",
       "      <th>0</th>\n",
       "      <td>bin_m</td>\n",
       "      <td>RF</td>\n",
       "      <td>RF</td>\n",
       "      <td>8270</td>\n",
       "      <td>0.826389</td>\n",
       "      <td>0.823326</td>\n",
       "      <td>0.821991</td>\n",
       "      <td>0.822616</td>\n",
       "      <td>0.912864</td>\n",
       "      <td>enderlab</td>\n",
       "      <td>108</td>\n",
       "      <td>2023-10-29 20:54:42.541006</td>\n",
       "      <td>modelo_8270_bin_m_RF_RF.pkl</td>\n",
       "      <td>{'selector__max_features': 500, 'selector__est...</td>\n",
       "      <td>X_test:(144, 18875)</td>\n",
       "      <td>['ENSG00000000971.17', 'ENSG00000003989.18', '...</td>\n",
       "    </tr>\n",
       "    <tr>\n",
       "      <th>0</th>\n",
       "      <td>bin_m</td>\n",
       "      <td>RF</td>\n",
       "      <td>LR_L2</td>\n",
       "      <td>8270</td>\n",
       "      <td>0.868056</td>\n",
       "      <td>0.872421</td>\n",
       "      <td>0.858576</td>\n",
       "      <td>0.863248</td>\n",
       "      <td>0.933714</td>\n",
       "      <td>enderlab</td>\n",
       "      <td>14</td>\n",
       "      <td>2023-10-29 20:52:46.312333</td>\n",
       "      <td>modelo_8270_bin_m_RF_LR_L2.pkl</td>\n",
       "      <td>{'selector__max_features': 500, 'selector__est...</td>\n",
       "      <td>X_test:(144, 18875)</td>\n",
       "      <td>['ENSG00000005102.14', 'ENSG00000005156.12', '...</td>\n",
       "    </tr>\n",
       "  </tbody>\n",
       "</table>\n",
       "</div>"
      ],
      "text/plain": [
       "    tipo select clasific  semilla  accuracy  precision    recall  f1_score  \\\n",
       "0  bin_m     RF      SVM     8270  0.833333   0.829837  0.833989  0.831250   \n",
       "0  bin_m     RF       RF     8270  0.826389   0.823326  0.821991  0.822616   \n",
       "0  bin_m     RF    LR_L2     8270  0.868056   0.872421  0.858576  0.863248   \n",
       "\n",
       "    roc_auc  hostname  total_time_sec                    datetime  \\\n",
       "0  0.897128  enderlab              19  2023-10-29 20:55:09.092186   \n",
       "0  0.912864  enderlab             108  2023-10-29 20:54:42.541006   \n",
       "0  0.933714  enderlab              14  2023-10-29 20:52:46.312333   \n",
       "\n",
       "                   fichero_modelo  \\\n",
       "0    modelo_8270_bin_m_RF_SVM.pkl   \n",
       "0     modelo_8270_bin_m_RF_RF.pkl   \n",
       "0  modelo_8270_bin_m_RF_LR_L2.pkl   \n",
       "\n",
       "                                              params                shape  \\\n",
       "0  {'selector__max_features': 500, 'selector__est...  X_test:(144, 18875)   \n",
       "0  {'selector__max_features': 500, 'selector__est...  X_test:(144, 18875)   \n",
       "0  {'selector__max_features': 500, 'selector__est...  X_test:(144, 18875)   \n",
       "\n",
       "                                            features  \n",
       "0  ['ENSG00000001167.15', 'ENSG00000005102.14', '...  \n",
       "0  ['ENSG00000000971.17', 'ENSG00000003989.18', '...  \n",
       "0  ['ENSG00000005102.14', 'ENSG00000005156.12', '...  "
      ]
     },
     "metadata": {},
     "output_type": "display_data"
    }
   ],
   "source": [
    "if M_TIPO.startswith(\"bin\"):\n",
    "    myfunc.save_metricas_to_csv(random_search, X_test, y_test, M_TIPO, M_SELECT, M_CLASIF, total_time, SEMILLA, myfunc.MET_DIR, M_FICHERO, fichero_modelo)\n",
    "else:\n",
    "    myfunc.save_metricas_multi_to_csv(random_search, X_test, y_test, M_TIPO, M_SELECT, M_CLASIF, total_time, SEMILLA, myfunc.MET_DIR, M_FICHERO, fichero_modelo)\n",
    "\n",
    "df1=myfunc.read_metricas_to_df(myfunc.MET_DIR,M_FICHERO)\n",
    "\n",
    "display(df1.sort_values(\"datetime\", ascending=False)[:3])\n"
   ]
  },
  {
   "cell_type": "markdown",
   "id": "18448115",
   "metadata": {
    "papermill": {
     "duration": 0.005551,
     "end_time": "2023-10-29T19:55:09.139251",
     "exception": false,
     "start_time": "2023-10-29T19:55:09.133700",
     "status": "completed"
    },
    "tags": []
   },
   "source": [
    "#### Guardar resultados"
   ]
  },
  {
   "cell_type": "code",
   "execution_count": 13,
   "id": "fb7c272f",
   "metadata": {
    "execution": {
     "iopub.execute_input": "2023-10-29T19:55:09.151613Z",
     "iopub.status.busy": "2023-10-29T19:55:09.151025Z",
     "iopub.status.idle": "2023-10-29T19:55:09.160463Z",
     "shell.execute_reply": "2023-10-29T19:55:09.159906Z"
    },
    "papermill": {
     "duration": 0.016837,
     "end_time": "2023-10-29T19:55:09.161677",
     "exception": false,
     "start_time": "2023-10-29T19:55:09.144840",
     "status": "completed"
    },
    "tags": []
   },
   "outputs": [
    {
     "name": "stdout",
     "output_type": "stream",
     "text": [
      "20231029T205509 : enderlab : INFO : Inicio guardar resultados\n",
      "20231029T205509 : enderlab : INFO : Inicio guardar fichero ../tfm_git/ejecuciones/metricas/resultados_8270_bin_m-RF-SVM.csv\n",
      "20231029T205509 : enderlab : INFO : Fin guardar fichero ../tfm_git/ejecuciones/metricas/resultados_8270_bin_m-RF-SVM.csv\n",
      "20231029T205509 : enderlab : INFO : Fin guardar resultados\n"
     ]
    }
   ],
   "source": [
    "fichero_resultados=R_FICHERO+\"_\"+M_TIPO+\"-\"+M_SELECT+\"-\"+M_CLASIF+\".csv\"\n",
    "myfunc.save_resultados_to_csv(M_TIPO, M_SELECT, M_CLASIF,  random_search, myfunc.MET_DIR, fichero_resultados)\n"
   ]
  }
 ],
 "metadata": {
  "kernelspec": {
   "display_name": "Python 3 (ipykernel)",
   "language": "python",
   "name": "python3"
  },
  "language_info": {
   "codemirror_mode": {
    "name": "ipython",
    "version": 3
   },
   "file_extension": ".py",
   "mimetype": "text/x-python",
   "name": "python",
   "nbconvert_exporter": "python",
   "pygments_lexer": "ipython3",
   "version": "3.10.11"
  },
  "papermill": {
   "default_parameters": {},
   "duration": 24.856803,
   "end_time": "2023-10-29T19:55:11.784470",
   "environment_variables": {},
   "exception": null,
   "input_path": "03_entrenamiento.ipynb",
   "output_path": "ejecuciones/training/03_entrenamiento.20231029T205446.param_0000_8270_bin_m_RF_SVM.output.ipynb",
   "parameters": {
    "MAX_ITERS": 500,
    "M_CLASIF": "SVM",
    "M_FICHERO": "metricas_8270",
    "M_SELECT": "RF",
    "M_TIPO": "bin_m",
    "PRE_DATA_FILE": "rows_transpose_norm_by_gene_id_with_target_num_",
    "P_FICHERO": "param_0000_8270_bin_m_RF_SVM.yaml",
    "R_FICHERO": "resultados_8270",
    "SCORING": "roc_auc_ovr",
    "SEMILLA": 8270,
    "eval_clasifier": "SVC(probability=True, random_state=SEMILLA)",
    "eval_selector": "SelectFromModel(estimator=RandomForestClassifier(random_state=SEMILLA), threshold=-np.inf)",
    "param_distributions": {
     "clasifier__C": [
      100
     ],
     "clasifier__gamma": [
      0.01
     ],
     "clasifier__kernel": [
      "rbf"
     ],
     "selector__estimator__n_estimators": [
      200
     ],
     "selector__max_features": [
      500
     ]
    }
   },
   "start_time": "2023-10-29T19:54:46.927667",
   "version": "2.4.0"
  }
 },
 "nbformat": 4,
 "nbformat_minor": 5
}