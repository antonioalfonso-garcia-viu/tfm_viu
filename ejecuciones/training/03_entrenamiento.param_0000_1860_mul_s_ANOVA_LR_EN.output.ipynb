{
 "cells": [
  {
   "cell_type": "markdown",
   "id": "3df524ab",
   "metadata": {
    "papermill": {
     "duration": 0.0,
     "end_time": "2023-10-30T00:49:33.135199",
     "exception": false,
     "start_time": "2023-10-30T00:49:33.135199",
     "status": "completed"
    },
    "tags": []
   },
   "source": [
    "##### Inicio"
   ]
  },
  {
   "cell_type": "markdown",
   "id": "cccd90be",
   "metadata": {
    "papermill": {
     "duration": 0.01562,
     "end_time": "2023-10-30T00:49:33.150819",
     "exception": false,
     "start_time": "2023-10-30T00:49:33.135199",
     "status": "completed"
    },
    "tags": []
   },
   "source": [
    "#### Carga de datos"
   ]
  },
  {
   "cell_type": "code",
   "execution_count": 1,
   "id": "c9098d9f",
   "metadata": {
    "execution": {
     "iopub.execute_input": "2023-10-30T00:49:33.150819Z",
     "iopub.status.busy": "2023-10-30T00:49:33.150819Z",
     "iopub.status.idle": "2023-10-30T00:49:34.308371Z",
     "shell.execute_reply": "2023-10-30T00:49:34.308371Z"
    },
    "papermill": {
     "duration": 1.159829,
     "end_time": "2023-10-30T00:49:34.310648",
     "exception": false,
     "start_time": "2023-10-30T00:49:33.150819",
     "status": "completed"
    },
    "tags": []
   },
   "outputs": [
    {
     "name": "stdout",
     "output_type": "stream",
     "text": [
      "CPU_COUNT: 24; NODE: amilcar32; sys.version: 3.10.12 | packaged by Anaconda, Inc. | (main, Jul  5 2023, 19:09:20) [MSC v.1916 64 bit (AMD64)]\n",
      "LOKY_MAX_CPU_COUNT is not set.\n",
      "OMP_NUM_THREADS is not set.\n"
     ]
    }
   ],
   "source": [
    "import os\n",
    "import numpy as np\n",
    "import pandas as pd\n",
    "import datetime\n",
    "import sklearn\n",
    "import logging\n",
    "import warnings\n",
    "\n",
    "from sklearn.pipeline import Pipeline\n",
    "from sklearn.model_selection import RandomizedSearchCV, KFold, cross_val_score, train_test_split\n",
    "from sklearn.metrics import accuracy_score, confusion_matrix, classification_report, roc_auc_score\n",
    "\n",
    "#  cargar algoritmos para aprendizaje supervisado\n",
    "from sklearn.feature_selection import SelectKBest, f_classif, SelectFromModel, mutual_info_classif\n",
    "from sklearn.svm import SVC\n",
    "from sklearn.ensemble import RandomForestClassifier\n",
    "from sklearn.linear_model import LogisticRegression,LogisticRegressionCV\n",
    "\n",
    "# importar fichero con utilidades propias\n",
    "from commons import myfunctions as myfunc\n"
   ]
  },
  {
   "cell_type": "markdown",
   "id": "7ed3c5c7",
   "metadata": {
    "papermill": {
     "duration": 0.0,
     "end_time": "2023-10-30T00:49:34.310648",
     "exception": false,
     "start_time": "2023-10-30T00:49:34.310648",
     "status": "completed"
    },
    "tags": []
   },
   "source": [
    "#### Parámetros a utilizar en el entrenamiento.\n",
    "\n",
    "Se indican los 3 algoritmos de *selección de características* (eval_selector_xxx) y los 3 algoritmos para la _clasificación_ (eval_clasifier_xxx)\n",
    "\n",
    "En *param_distributions* se indicar los parámetros que utilizan los algoritmos en la función RandomSearchCV.\n",
    "\n",
    "Esta celda tiene la etiqueta **parameters** que servirá para poder lanzar los entrenamientos con la utilidad **papermill** pasándole un fichero con los parámetros. Los nuevos parámetros se situarán tras esta celda para tener prevalencia."
   ]
  },
  {
   "cell_type": "code",
   "execution_count": 2,
   "id": "e6c40ac8",
   "metadata": {
    "execution": {
     "iopub.execute_input": "2023-10-30T00:49:34.320667Z",
     "iopub.status.busy": "2023-10-30T00:49:34.320667Z",
     "iopub.status.idle": "2023-10-30T00:49:34.339827Z",
     "shell.execute_reply": "2023-10-30T00:49:34.339827Z"
    },
    "papermill": {
     "duration": 0.029179,
     "end_time": "2023-10-30T00:49:34.339827",
     "exception": false,
     "start_time": "2023-10-30T00:49:34.310648",
     "status": "completed"
    },
    "tags": [
     "parameters"
    ]
   },
   "outputs": [
    {
     "name": "stdout",
     "output_type": "stream",
     "text": [
      "20231030T014934 : amilcar32 : INFO : Utilizando parámetros de mul_m\n"
     ]
    }
   ],
   "source": [
    "#  Parametros para el entrenamiento\n",
    "\n",
    "SEMILLA=        42\n",
    "M_TIPO=         \"mul_m\"\n",
    "M_SELECT=       \"MI\"\n",
    "M_CLASIF=       \"SVM\"\n",
    "R_FICHERO=      \"resultados\"\n",
    "M_FICHERO=      \"metricas\"\n",
    "PRE_DATA_FILE=  \"rows_transpose_norm_by_gene_id_with_target_num_\"\n",
    "SCORING=        \"roc_auc_ovr\" \n",
    "MAX_ITERS=      100\n",
    "\n",
    "def mutual_info_classif_state(X, y):\n",
    "    return mutual_info_classif(X, y, random_state=SEMILLA)\n",
    "\n",
    "eval_selector_mi = \"SelectKBest(score_func=mutual_info_classif_state)\"\n",
    "eval_selector_rf=  \"SelectFromModel(estimator=RandomForestClassifier(random_state=SEMILLA), threshold=-np.inf)\"\n",
    "eval_selector_anova=  \"SelectKBest(score_func=f_classif)\"\n",
    "\n",
    "eval_clasifier_svm= \"SVC(probability=True, random_state=SEMILLA)\"\n",
    "eval_clasifier_rf= \"RandomForestClassifier(random_state=SEMILLA)\"\n",
    "eval_clasifier_lr= \"LogisticRegressionCV(random_state=SEMILLA)\"\n",
    "\n",
    "if M_TIPO.startswith(\"bin_m\"):\n",
    "    myfunc.verbose(f\"Utilizando parámetros de {M_TIPO}\")\n",
    "    eval_selector = eval_selector_mi\n",
    "    eval_clasifier = eval_clasifier_svm\n",
    "\n",
    "    SEMILLA = 6578\n",
    "    M_SELECT = \"MI\"\n",
    "    M_CLASIF = \"SVM\"\n",
    "    param_distributions = {'selector__k': [1000], \n",
    "         'clasifier__kernel': ['rbf'], 'clasifier__gamma': [0.01], 'clasifier__C': [100]}\n",
    "elif M_TIPO.startswith(\"bin_s\"):\n",
    "    myfunc.verbose(f\"Utilizando parámetros de {M_TIPO}\")\n",
    "    eval_selector = eval_selector_rf\n",
    "    eval_clasifier = eval_clasifier_lr\n",
    "\n",
    "    SEMILLA = 6191\n",
    "    M_SELECT = \"RF\"\n",
    "    M_CLASIF = \"LR_L2\"\n",
    "    param_distributions = {'selector__max_features': [1000], 'selector__estimator__n_estimators': [200], \n",
    "        'clasifier__solver': ['lbfgs'], 'clasifier__penalty': ['l2'], 'clasifier__max_iter': [10000]}\n",
    "\n",
    "elif M_TIPO.startswith(\"mul_m\"):\n",
    "    myfunc.verbose(f\"Utilizando parámetros de {M_TIPO}\")\n",
    " \n",
    "    eval_selector = eval_selector_rf\n",
    "    eval_clasifier = eval_clasifier_lr\n",
    "\n",
    "    SEMILLA = 6191\n",
    "    M_SELECT = \"RF\"\n",
    "    M_CLASIF = \"LR_L2\"\n",
    "    param_distributions = {'selector__max_features': [1000], 'selector__estimator__n_estimators': [400], \n",
    "        'clasifier__solver': ['lbfgs'], 'clasifier__penalty': ['l2'], 'clasifier__max_iter': [10000]}\n",
    "\n",
    "else:\n",
    "    # M_TIPO.startswith(\"mul_s\"):\n",
    "    myfunc.verbose(f\"Utilizando parámetros de {M_TIPO}\")\n",
    "    eval_selector = eval_selector_anova\n",
    "    eval_clasifier = eval_clasifier_lr\n",
    "\n",
    "    SEMILLA = 1860\n",
    "    M_SELECT = \"ANOVA\"\n",
    "    M_CLASIF = \"LR_L2\"\n",
    "    param_distributions = {'selector__k': [1000], \n",
    "        'clasifier__solver': ['saga'], 'clasifier__penalty': ['l2'], 'clasifier__max_iter': [10000]}\n",
    "\n"
   ]
  },
  {
   "cell_type": "code",
   "execution_count": 3,
   "id": "2c886707",
   "metadata": {
    "execution": {
     "iopub.execute_input": "2023-10-30T00:49:34.339827Z",
     "iopub.status.busy": "2023-10-30T00:49:34.339827Z",
     "iopub.status.idle": "2023-10-30T00:49:34.355454Z",
     "shell.execute_reply": "2023-10-30T00:49:34.355454Z"
    },
    "papermill": {
     "duration": 0.015627,
     "end_time": "2023-10-30T00:49:34.355454",
     "exception": false,
     "start_time": "2023-10-30T00:49:34.339827",
     "status": "completed"
    },
    "tags": [
     "injected-parameters"
    ]
   },
   "outputs": [],
   "source": [
    "# Parameters\n",
    "M_TIPO = \"mul_s\"\n",
    "M_SELECT = \"ANOVA\"\n",
    "M_CLASIF = \"LR_EN\"\n",
    "P_FICHERO = \"param_0000_1860_mul_s_ANOVA_LR_EN.yaml\"\n",
    "R_FICHERO = \"resultados_1860\"\n",
    "M_FICHERO = \"metricas_1860\"\n",
    "PRE_DATA_FILE = \"rows_transpose_norm_by_gene_id_with_target_num_\"\n",
    "SCORING = \"roc_auc_ovr\"\n",
    "SEMILLA = 1860\n",
    "MAX_ITERS = 500\n",
    "eval_selector = \"SelectKBest(score_func=f_classif)\"\n",
    "eval_clasifier = \"LogisticRegressionCV(random_state=SEMILLA)\"\n",
    "param_distributions = {\n",
    "    \"selector__k\": [1000],\n",
    "    \"clasifier__solver\": [\"saga\"],\n",
    "    \"clasifier__penalty\": [\"elasticnet\"],\n",
    "    \"clasifier__max_iter\": [10000],\n",
    "    \"clasifier__l1_ratios\": [[0.1]],\n",
    "}\n"
   ]
  },
  {
   "cell_type": "code",
   "execution_count": 4,
   "id": "d0d2ed34",
   "metadata": {
    "execution": {
     "iopub.execute_input": "2023-10-30T00:49:34.355454Z",
     "iopub.status.busy": "2023-10-30T00:49:34.355454Z",
     "iopub.status.idle": "2023-10-30T00:49:34.371079Z",
     "shell.execute_reply": "2023-10-30T00:49:34.371079Z"
    },
    "papermill": {
     "duration": 0.015625,
     "end_time": "2023-10-30T00:49:34.371079",
     "exception": false,
     "start_time": "2023-10-30T00:49:34.355454",
     "status": "completed"
    },
    "tags": []
   },
   "outputs": [],
   "source": [
    "DATA_FILE = PRE_DATA_FILE + M_TIPO\n",
    "\n",
    "# si viene \"None\" en el parámetro max_depth, se le quitan las comillas para que no sea entendido por el algoritmo como un texto\n",
    "if \"clasifier__max_depth\" in param_distributions:\n",
    "    param_distributions['clasifier__max_depth'] = [None if x == 'None' else x for x in param_distributions['clasifier__max_depth']]"
   ]
  },
  {
   "cell_type": "markdown",
   "id": "4f33c55e",
   "metadata": {
    "papermill": {
     "duration": 0.0,
     "end_time": "2023-10-30T00:49:34.371079",
     "exception": false,
     "start_time": "2023-10-30T00:49:34.371079",
     "status": "completed"
    },
    "tags": []
   },
   "source": [
    "Asignar los algoritmos que se utilizarán en la función RandomSearchCV"
   ]
  },
  {
   "cell_type": "code",
   "execution_count": 5,
   "id": "eb32921c",
   "metadata": {
    "execution": {
     "iopub.execute_input": "2023-10-30T00:49:34.371079Z",
     "iopub.status.busy": "2023-10-30T00:49:34.371079Z",
     "iopub.status.idle": "2023-10-30T00:49:34.386792Z",
     "shell.execute_reply": "2023-10-30T00:49:34.386792Z"
    },
    "papermill": {
     "duration": 0.015713,
     "end_time": "2023-10-30T00:49:34.386792",
     "exception": false,
     "start_time": "2023-10-30T00:49:34.371079",
     "status": "completed"
    },
    "tags": []
   },
   "outputs": [],
   "source": [
    "algor_selector=eval(eval_selector)\n",
    "algor_clasifier=eval(eval_clasifier)"
   ]
  },
  {
   "cell_type": "markdown",
   "id": "6a77d548",
   "metadata": {
    "papermill": {
     "duration": 0.0,
     "end_time": "2023-10-30T00:49:34.386792",
     "exception": false,
     "start_time": "2023-10-30T00:49:34.386792",
     "status": "completed"
    },
    "tags": []
   },
   "source": [
    "#### Comprobar el entorno y leer fichero de muestras"
   ]
  },
  {
   "cell_type": "code",
   "execution_count": 6,
   "id": "f1c61f54",
   "metadata": {
    "execution": {
     "iopub.execute_input": "2023-10-30T00:49:34.386792Z",
     "iopub.status.busy": "2023-10-30T00:49:34.386792Z",
     "iopub.status.idle": "2023-10-30T00:49:34.794058Z",
     "shell.execute_reply": "2023-10-30T00:49:34.794058Z"
    },
    "papermill": {
     "duration": 0.407266,
     "end_time": "2023-10-30T00:49:34.794058",
     "exception": false,
     "start_time": "2023-10-30T00:49:34.386792",
     "status": "completed"
    },
    "tags": []
   },
   "outputs": [
    {
     "name": "stdout",
     "output_type": "stream",
     "text": [
      "20231030T014934 : amilcar32 : INFO : Encontrada carpeta DATA_DIR=..\\tfm_viu\\datos\n",
      "20231030T014934 : amilcar32 : INFO : Encontrada carpeta CFDNA_DIR=..\\tfm_viu\\datos\\cfDNA_5hmC\n",
      "20231030T014934 : amilcar32 : INFO : Encontrada carpeta GENCODE_DIR=..\\tfm_viu\\datos\\gencode\n",
      "20231030T014934 : amilcar32 : INFO : Encontrada carpeta H5_DIR=..\\tfm_viu\\datos\\h5\n",
      "20231030T014934 : amilcar32 : INFO : Encontrada carpeta LOG_DIR=..\\tfm_viu\\datos\\logs\n",
      "20231030T014934 : amilcar32 : INFO : Encontrada carpeta CSV_DIR=..\\tfm_viu\\datos\\csv\n",
      "20231030T014934 : amilcar32 : INFO : Encontrada carpeta MODEL_DIR=..\\tfm_viu\\ejecuciones\\modelos\n",
      "20231030T014934 : amilcar32 : INFO : Encontrada carpeta EXEC_DIR=..\\tfm_viu\\ejecuciones\n",
      "20231030T014934 : amilcar32 : INFO : Encontrada carpeta MET_DIR=..\\tfm_viu\\ejecuciones\\metricas\n",
      "20231030T014934 : amilcar32 : INFO : Inicio leer fichero h5 ..\\tfm_viu\\datos\\h5\\rows_transpose_norm_by_gene_id_with_target_num_mul_s.h5\n",
      "20231030T014934 : amilcar32 : INFO : Leyendo clave /df\n"
     ]
    },
    {
     "name": "stdout",
     "output_type": "stream",
     "text": [
      "20231030T014934 : amilcar32 : INFO : Tamaño (259, 18876)\n",
      "20231030T014934 : amilcar32 : INFO : Fin leer fichero h5 ..\\tfm_viu\\datos\\h5\\rows_transpose_norm_by_gene_id_with_target_num_mul_s.h5\n"
     ]
    },
    {
     "data": {
      "text/plain": [
       "target\n",
       "0    37\n",
       "1    37\n",
       "2    37\n",
       "3    37\n",
       "4    37\n",
       "5    37\n",
       "6    37\n",
       "dtype: int64"
      ]
     },
     "metadata": {},
     "output_type": "display_data"
    },
    {
     "name": "stdout",
     "output_type": "stream",
     "text": [
      "Shape df: (259, 18876)\n",
      "Shape X_train: (207, 18875)\n",
      "Shape X_test: (52, 18875)\n"
     ]
    }
   ],
   "source": [
    "start_time = datetime.datetime.now()\n",
    "\n",
    "myfunc.reset_vars()\n",
    "\n",
    "myfunc.NOTEBK_FILENAME = myfunc.get_nb_name()\n",
    "\n",
    "myfunc.check_enviroment(myfunc.DATA_DIR, myfunc.CFDNA_DIR, myfunc.GENCODE_DIR, myfunc.H5_DIR, myfunc.LOG_DIR, myfunc.CSV_DIR, myfunc.MODEL_DIR, myfunc.EXEC_DIR, myfunc.MET_DIR)\n",
    "\n",
    "# Leer fichero con las muestras\n",
    "df_t = myfunc.read_h5_to_df(DATA_FILE, myfunc.H5_DIR)\n",
    "display(df_t.groupby(\"target\").size())\n",
    "print(\"Shape df:\",df_t.shape)\n",
    "\n",
    "# Separar caracteristicas/genes de las etiquetas/tipos de cáncer\n",
    "X = df_t.iloc[:, :-1]  # Todas las columnas excepto la última\n",
    "y = df_t.iloc[:, -1]  # La última columna contiene los identificadores de los tipos de cáncer\n",
    "\n",
    "#  Crear el conjunto de datos de entrenamiento y de pruebas, y se fija la semilla para siempre coger el mismo juego de muestras\n",
    "X_train, X_test, y_train, y_test = train_test_split(X, y, test_size=0.2, shuffle=True, random_state=42)\n",
    "print(\"Shape X_train:\",X_train.shape)\n",
    "print(\"Shape X_test:\",X_test.shape)\n"
   ]
  },
  {
   "cell_type": "markdown",
   "id": "dbf3b10b",
   "metadata": {
    "papermill": {
     "duration": 0.0,
     "end_time": "2023-10-30T00:49:34.794058",
     "exception": false,
     "start_time": "2023-10-30T00:49:34.794058",
     "status": "completed"
    },
    "tags": []
   },
   "source": [
    "#### Selección de características y clasificación."
   ]
  },
  {
   "cell_type": "code",
   "execution_count": 7,
   "id": "07466b33",
   "metadata": {
    "execution": {
     "iopub.execute_input": "2023-10-30T00:49:34.812269Z",
     "iopub.status.busy": "2023-10-30T00:49:34.812269Z",
     "iopub.status.idle": "2023-10-30T01:09:58.116074Z",
     "shell.execute_reply": "2023-10-30T01:09:58.116074Z"
    },
    "papermill": {
     "duration": 1223.322016,
     "end_time": "2023-10-30T01:09:58.116074",
     "exception": false,
     "start_time": "2023-10-30T00:49:34.794058",
     "status": "completed"
    },
    "tags": []
   },
   "outputs": [
    {
     "name": "stdout",
     "output_type": "stream",
     "text": [
      "20231030T014934 : amilcar32 : INFO : Iniciando entrenamiento\n",
      "num_iter: 1 , max_iter: 1\n",
      "Fitting 5 folds for each of 1 candidates, totalling 5 fits\n"
     ]
    },
    {
     "name": "stderr",
     "output_type": "stream",
     "text": [
      "C:\\Users\\viu\\miniconda3\\lib\\site-packages\\sklearn\\feature_selection\\_univariate_selection.py:112: UserWarning: Features [  298  1508  1733  1846  2010  2222  2265  2266  2553  2688  2802  2803\n",
      "  2833  2896  3248  3415  3492  4075  5803  6053  6981  6984  7418  8508\n",
      "  8510  8513  8890  9087  9490 10475 11020 11613 11943 12249 12480 12831\n",
      " 13235 13259 13836 13959 14000 14015 14244 14245 14451 14789 14795 14941\n",
      " 15515 15563 15824 15874 16258 16267 16268 16281 16287 16313 16323 16350\n",
      " 16372 16630 16701 16905 16906 16968 17047 17091 17093 17231 17264 17274\n",
      " 17300 17312 17540 18350 18368 18374 18375 18405 18486 18592 18692 18868] are constant.\n",
      "  warnings.warn(\"Features %s are constant.\" % constant_features_idx, UserWarning)\n",
      "C:\\Users\\viu\\miniconda3\\lib\\site-packages\\sklearn\\feature_selection\\_univariate_selection.py:113: RuntimeWarning: invalid value encountered in divide\n",
      "  f = msb / msw\n"
     ]
    },
    {
     "name": "stdout",
     "output_type": "stream",
     "text": [
      "Mejores Hiperparámetros: {'selector__k': 1000, 'clasifier__solver': 'saga', 'clasifier__penalty': 'elasticnet', 'clasifier__max_iter': 10000, 'clasifier__l1_ratios': [0.1]}\n",
      "Mejor Puntuación: 0.8001\n",
      "20231030T020958 : amilcar32 : INFO : Fin entrenamiento\n"
     ]
    }
   ],
   "source": [
    "myfunc.verbose(\"Iniciando entrenamiento\")\n",
    "\n",
    "kf = KFold(n_splits=5, shuffle=True, random_state=SEMILLA)\n",
    "\n",
    "# Crear el pipeline para el flujo de tareas\n",
    "tasks_pipeline = Pipeline([\n",
    "    ('selector', algor_selector),\n",
    "    ('clasifier', algor_clasifier)\n",
    "])\n",
    "\n",
    "# MAX_ITERS puede limitar el número de iteraciones si son excesivas para las combinaciones de parámetros buscando un óptimo local, \n",
    "# sino funcionaría como GridSearchCV al revisar todas las cominaciones de los parámetros\n",
    "num_iteraciones = 1\n",
    "num_iteraciones = num_iteraciones * np.prod([len(elemento1) for _, elemento1 in param_distributions.items()])\n",
    "max_iteraciones = num_iteraciones if num_iteraciones <= MAX_ITERS else MAX_ITERS\n",
    "print(\"num_iter:\",num_iteraciones,\", max_iter:\",max_iteraciones)\n",
    "\n",
    "random_search = RandomizedSearchCV(\n",
    "    tasks_pipeline, \n",
    "    param_distributions, \n",
    "    n_iter=max_iteraciones,\n",
    "    scoring=SCORING,\n",
    "    cv=kf,\n",
    "    verbose=3, \n",
    "    random_state=SEMILLA, \n",
    "    n_jobs=-1\n",
    "    )\n",
    "\n",
    "# Entrenar el modelo\n",
    "random_search.fit(X_train, y_train)\n",
    "\n",
    "# Ver los mejores hiperparámetros encontrados\n",
    "print(f'Mejores Hiperparámetros: {random_search.best_params_}')\n",
    "print(f'Mejor Puntuación: {random_search.best_score_:.4f}')\n",
    "\n",
    "# Nos quedamos con el mejor modelo para ver las métricas\n",
    "mejor_modelo = random_search.best_estimator_\n",
    "\n",
    "myfunc.verbose(\"Fin entrenamiento\")"
   ]
  },
  {
   "cell_type": "markdown",
   "id": "4b339357",
   "metadata": {
    "papermill": {
     "duration": 0.015644,
     "end_time": "2023-10-30T01:09:58.131718",
     "exception": false,
     "start_time": "2023-10-30T01:09:58.116074",
     "status": "completed"
    },
    "tags": []
   },
   "source": [
    "#### Guardar modelo"
   ]
  },
  {
   "cell_type": "code",
   "execution_count": 8,
   "id": "20d16d1a",
   "metadata": {
    "execution": {
     "iopub.execute_input": "2023-10-30T01:09:58.147342Z",
     "iopub.status.busy": "2023-10-30T01:09:58.147342Z",
     "iopub.status.idle": "2023-10-30T01:09:58.178201Z",
     "shell.execute_reply": "2023-10-30T01:09:58.178201Z"
    },
    "papermill": {
     "duration": 0.030859,
     "end_time": "2023-10-30T01:09:58.178201",
     "exception": false,
     "start_time": "2023-10-30T01:09:58.147342",
     "status": "completed"
    },
    "tags": []
   },
   "outputs": [
    {
     "name": "stdout",
     "output_type": "stream",
     "text": [
      "20231030T020958 : amilcar32 : INFO : Inicio guardar fichero ..\\tfm_viu\\ejecuciones\\modelos\\modelo_1860_mul_s_ANOVA_LR_EN.pkl\n",
      "20231030T020958 : amilcar32 : INFO : Fin guardar fichero ..\\tfm_viu\\ejecuciones\\modelos\\modelo_1860_mul_s_ANOVA_LR_EN.pkl\n"
     ]
    }
   ],
   "source": [
    "fichero_modelo = str.replace(\"modelo_\"+str(SEMILLA).zfill(4)+\"_\"+M_TIPO+\"_\"+M_SELECT+\"_\"+M_CLASIF+\".pkl\", \" \", \"_\")\n",
    "\n",
    "myfunc.save_modelo(mejor_modelo, myfunc.MODEL_DIR, fichero_modelo)"
   ]
  },
  {
   "cell_type": "markdown",
   "id": "0ae02399",
   "metadata": {
    "papermill": {
     "duration": 0.01563,
     "end_time": "2023-10-30T01:09:58.209550",
     "exception": false,
     "start_time": "2023-10-30T01:09:58.193920",
     "status": "completed"
    },
    "tags": []
   },
   "source": [
    "#### Ver resultados del las iteraciones hechas por RandomSearchCV"
   ]
  },
  {
   "cell_type": "code",
   "execution_count": 9,
   "id": "94047d66",
   "metadata": {
    "execution": {
     "iopub.execute_input": "2023-10-30T01:09:58.225182Z",
     "iopub.status.busy": "2023-10-30T01:09:58.225182Z",
     "iopub.status.idle": "2023-10-30T01:09:58.256353Z",
     "shell.execute_reply": "2023-10-30T01:09:58.256353Z"
    },
    "papermill": {
     "duration": 0.046803,
     "end_time": "2023-10-30T01:09:58.256353",
     "exception": false,
     "start_time": "2023-10-30T01:09:58.209550",
     "status": "completed"
    },
    "tags": []
   },
   "outputs": [
    {
     "name": "stdout",
     "output_type": "stream",
     "text": [
      "20231030T020958 : amilcar32 : INFO : Inicio ver resultados\n",
      "Mejores Hiperparámetros: {'selector__k': 1000, 'clasifier__solver': 'saga', 'clasifier__penalty': 'elasticnet', 'clasifier__max_iter': 10000, 'clasifier__l1_ratios': [0.1]}\n",
      "Mejores puntuaciones: 0.8001 | Params: {'selector__k': 1000, 'clasifier__solver': 'saga', 'clasifier__penalty': 'elasticnet', 'clasifier__max_iter': 10000, 'clasifier__l1_ratios': [0.1]}\n",
      "Media de las puntuaciones: 0.8001 | Params: {'selector__k': 1000, 'clasifier__solver': 'saga', 'clasifier__penalty': 'elasticnet', 'clasifier__max_iter': 10000, 'clasifier__l1_ratios': [0.1]}\n",
      "20231030T020958 : amilcar32 : INFO : Fin resultados\n"
     ]
    }
   ],
   "source": [
    "myfunc.ver_resultados_search(random_search)"
   ]
  },
  {
   "cell_type": "markdown",
   "id": "382f36fb",
   "metadata": {
    "papermill": {
     "duration": 0.0157,
     "end_time": "2023-10-30T01:09:58.287676",
     "exception": false,
     "start_time": "2023-10-30T01:09:58.271976",
     "status": "completed"
    },
    "tags": []
   },
   "source": [
    "#### Ver métricas del mejor modelo"
   ]
  },
  {
   "cell_type": "code",
   "execution_count": 10,
   "id": "99dd07e3",
   "metadata": {
    "execution": {
     "iopub.execute_input": "2023-10-30T01:09:58.303308Z",
     "iopub.status.busy": "2023-10-30T01:09:58.303308Z",
     "iopub.status.idle": "2023-10-30T01:09:59.774800Z",
     "shell.execute_reply": "2023-10-30T01:09:59.774800Z"
    },
    "papermill": {
     "duration": 1.487124,
     "end_time": "2023-10-30T01:09:59.774800",
     "exception": false,
     "start_time": "2023-10-30T01:09:58.287676",
     "status": "completed"
    },
    "tags": []
   },
   "outputs": [
    {
     "name": "stdout",
     "output_type": "stream",
     "text": [
      "20231030T020958 : amilcar32 : INFO : Inicio ver métricas multiclase\n"
     ]
    },
    {
     "name": "stdout",
     "output_type": "stream",
     "text": [
      "              precision    recall  f1-score   support\n",
      "\n",
      "           0       0.50      0.45      0.48        11\n",
      "           1       0.75      0.38      0.50         8\n",
      "           2       0.40      0.25      0.31         8\n",
      "           3       0.38      0.60      0.46         5\n",
      "           4       0.80      1.00      0.89         8\n",
      "           5       0.33      0.33      0.33         6\n",
      "           6       0.67      1.00      0.80         6\n",
      "\n",
      "    accuracy                           0.56        52\n",
      "   macro avg       0.55      0.57      0.54        52\n",
      "weighted avg       0.56      0.56      0.54        52\n",
      "\n",
      "\n",
      "\n",
      "           Exactitud: 0.557692\n",
      "   Precisión (media): 0.546429\n",
      "      Recall (media): 0.573268\n",
      "    F1-score (media): 0.538235\n",
      "\n",
      "\n",
      "AUC para el tipo de cáncer 0-Control.... 0.6341\n",
      "AUC para el tipo de cáncer 1-Bladder.... 0.8949\n",
      "AUC para el tipo de cáncer 2-Breast..... 0.7330\n",
      "AUC para el tipo de cáncer 3-Colorectal. 0.7404\n",
      "AUC para el tipo de cáncer 4-Kidney..... 0.9574\n",
      "AUC para el tipo de cáncer 5-Lung....... 0.9130\n",
      "AUC para el tipo de cáncer 6-Prostate... 0.9819\n",
      "\n",
      "Media de AUC: 0.8364\n"
     ]
    },
    {
     "data": {
      "image/png": "[encoded data removed]",
      "text/plain": [
       "<Figure size 1000x600 with 1 Axes>"
      ]
     },
     "metadata": {},
     "output_type": "display_data"
    },
    {
     "name": "stdout",
     "output_type": "stream",
     "text": [
      "\n",
      "\n"
     ]
    },
    {
     "data": {
      "image/png": "[encoded data removed]",
      "text/plain": [
       "<Figure size 800x400 with 2 Axes>"
      ]
     },
     "metadata": {},
     "output_type": "display_data"
    },
    {
     "name": "stdout",
     "output_type": "stream",
     "text": [
      "\n",
      "\n",
      "Puntuación Jaccard para el cáncer tipo 0-Control.... 0.3125\n",
      "Puntuación Jaccard para el cáncer tipo 1-Bladder.... 0.3333\n",
      "Puntuación Jaccard para el cáncer tipo 2-Breast..... 0.1818\n",
      "Puntuación Jaccard para el cáncer tipo 3-Colorectal. 0.3000\n",
      "Puntuación Jaccard para el cáncer tipo 4-Kidney..... 0.8000\n",
      "Puntuación Jaccard para el cáncer tipo 5-Lung....... 0.2000\n",
      "Puntuación Jaccard para el cáncer tipo 6-Prostate... 0.6667\n",
      "\n",
      "Media de la puntuación de Jaccard: 0.3992\n"
     ]
    }
   ],
   "source": [
    "if M_TIPO.startswith(\"bin\"):\n",
    "    myfunc.ver_metricas(mejor_modelo, X_test, y_test)\n",
    "else:\n",
    "    myfunc.ver_metricas_multi(mejor_modelo, X_test, y_test)\n"
   ]
  },
  {
   "cell_type": "markdown",
   "id": "6d81e7c2",
   "metadata": {
    "papermill": {
     "duration": 0.01562,
     "end_time": "2023-10-30T01:09:59.806042",
     "exception": false,
     "start_time": "2023-10-30T01:09:59.790422",
     "status": "completed"
    },
    "tags": []
   },
   "source": [
    "#### Finalización del notebook"
   ]
  },
  {
   "cell_type": "code",
   "execution_count": 11,
   "id": "85ac8f88",
   "metadata": {
    "execution": {
     "iopub.execute_input": "2023-10-30T01:09:59.821667Z",
     "iopub.status.busy": "2023-10-30T01:09:59.821667Z",
     "iopub.status.idle": "2023-10-30T01:09:59.837296Z",
     "shell.execute_reply": "2023-10-30T01:09:59.837296Z"
    },
    "papermill": {
     "duration": 0.015629,
     "end_time": "2023-10-30T01:09:59.837296",
     "exception": false,
     "start_time": "2023-10-30T01:09:59.821667",
     "status": "completed"
    },
    "tags": []
   },
   "outputs": [
    {
     "name": "stdout",
     "output_type": "stream",
     "text": [
      "20231030T020959 : amilcar32 : INFO : Notebook ha tardado 1225 seconds\n"
     ]
    }
   ],
   "source": [
    "end_time = datetime.datetime.now()\n",
    "total_time = end_time - start_time\n",
    "myfunc.verbose(f\"Notebook ha tardado {total_time.seconds} seconds\")"
   ]
  },
  {
   "cell_type": "markdown",
   "id": "835de21a",
   "metadata": {
    "papermill": {
     "duration": 0.01562,
     "end_time": "2023-10-30T01:09:59.852916",
     "exception": false,
     "start_time": "2023-10-30T01:09:59.837296",
     "status": "completed"
    },
    "tags": []
   },
   "source": [
    "#### Guardar métricas"
   ]
  },
  {
   "cell_type": "code",
   "execution_count": 12,
   "id": "5c3d7c9f",
   "metadata": {
    "execution": {
     "iopub.execute_input": "2023-10-30T01:09:59.868547Z",
     "iopub.status.busy": "2023-10-30T01:09:59.868547Z",
     "iopub.status.idle": "2023-10-30T01:10:00.337304Z",
     "shell.execute_reply": "2023-10-30T01:10:00.337304Z"
    },
    "papermill": {
     "duration": 0.484388,
     "end_time": "2023-10-30T01:10:00.337304",
     "exception": false,
     "start_time": "2023-10-30T01:09:59.852916",
     "status": "completed"
    },
    "tags": []
   },
   "outputs": [
    {
     "name": "stdout",
     "output_type": "stream",
     "text": [
      "20231030T020959 : amilcar32 : INFO : Inicio guardar métricas multiclase\n",
      "20231030T020959 : amilcar32 : INFO : Inicio leer fichero ..\\tfm_viu\\ejecuciones\\metricas\\metricas_1860.csv\n",
      "20231030T020959 : amilcar32 : INFO : Fin leer fichero ..\\tfm_viu\\ejecuciones\\metricas\\metricas_1860.csv\n"
     ]
    },
    {
     "name": "stdout",
     "output_type": "stream",
     "text": [
      "20231030T021000 : amilcar32 : INFO : Inicio guardar fichero ..\\tfm_viu\\ejecuciones\\metricas\\metricas_1860.csv\n",
      "20231030T021000 : amilcar32 : INFO : Fichero borrado ..\\tfm_viu\\ejecuciones\\metricas\\metricas_1860.csv\n",
      "20231030T021000 : amilcar32 : INFO : Fin guardar fichero ..\\tfm_viu\\ejecuciones\\metricas\\metricas_1860.csv\n",
      "20231030T021000 : amilcar32 : INFO : Fin guardar métricas multiclase\n",
      "20231030T021000 : amilcar32 : INFO : Inicio leer fichero ..\\tfm_viu\\ejecuciones\\metricas\\metricas_1860.csv\n",
      "20231030T021000 : amilcar32 : INFO : Fin leer fichero ..\\tfm_viu\\ejecuciones\\metricas\\metricas_1860.csv\n"
     ]
    },
    {
     "data": {
      "text/html": [
       "<div>\n",
       "<style scoped>\n",
       "    .dataframe tbody tr th:only-of-type {\n",
       "        vertical-align: middle;\n",
       "    }\n",
       "\n",
       "    .dataframe tbody tr th {\n",
       "        vertical-align: top;\n",
       "    }\n",
       "\n",
       "    .dataframe thead th {\n",
       "        text-align: right;\n",
       "    }\n",
       "</style>\n",
       "<table border=\"1\" class=\"dataframe\">\n",
       "  <thead>\n",
       "    <tr style=\"text-align: right;\">\n",
       "      <th></th>\n",
       "      <th>tipo</th>\n",
       "      <th>select</th>\n",
       "      <th>clasific</th>\n",
       "      <th>semilla</th>\n",
       "      <th>accuracy</th>\n",
       "      <th>precision</th>\n",
       "      <th>recall</th>\n",
       "      <th>f1_score</th>\n",
       "      <th>roc_auc</th>\n",
       "      <th>hostname</th>\n",
       "      <th>total_time_sec</th>\n",
       "      <th>datetime</th>\n",
       "      <th>fichero_modelo</th>\n",
       "      <th>params</th>\n",
       "      <th>shape</th>\n",
       "      <th>features</th>\n",
       "      <th>roc_auc_ovr</th>\n",
       "      <th>indices_auc</th>\n",
       "      <th>indices_jaccard</th>\n",
       "    </tr>\n",
       "  </thead>\n",
       "  <tbody>\n",
       "    <tr>\n",
       "      <th>0</th>\n",
       "      <td>mul_s</td>\n",
       "      <td>ANOVA</td>\n",
       "      <td>LR_EN</td>\n",
       "      <td>1860</td>\n",
       "      <td>0.557692</td>\n",
       "      <td>0.546429</td>\n",
       "      <td>0.573268</td>\n",
       "      <td>0.538235</td>\n",
       "      <td>NaN</td>\n",
       "      <td>amilcar32</td>\n",
       "      <td>1225</td>\n",
       "      <td>2023-10-30 02:10:00.196603</td>\n",
       "      <td>modelo_1860_mul_s_ANOVA_LR_EN.pkl</td>\n",
       "      <td>{'selector__k': 1000, 'clasifier__solver': 'sa...</td>\n",
       "      <td>X_test:(52, 18875)</td>\n",
       "      <td>['ENSG00000000938.13', 'ENSG00000002834.19', '...</td>\n",
       "      <td>0.836390</td>\n",
       "      <td>[0.6341463414634146, 0.8948863636363635, 0.732...</td>\n",
       "      <td>[0.3125, 0.3333333333333333, 0.181818181818181...</td>\n",
       "    </tr>\n",
       "    <tr>\n",
       "      <th>0</th>\n",
       "      <td>mul_m</td>\n",
       "      <td>RF</td>\n",
       "      <td>SVM</td>\n",
       "      <td>1860</td>\n",
       "      <td>0.425287</td>\n",
       "      <td>0.397698</td>\n",
       "      <td>0.466966</td>\n",
       "      <td>0.418521</td>\n",
       "      <td>NaN</td>\n",
       "      <td>amilcar32</td>\n",
       "      <td>61</td>\n",
       "      <td>2023-10-30 01:49:28.841686</td>\n",
       "      <td>modelo_1860_mul_m_RF_SVM.pkl</td>\n",
       "      <td>{'selector__max_features': 200, 'selector__est...</td>\n",
       "      <td>X_test:(87, 18875)</td>\n",
       "      <td>['ENSG00000005381.9', 'ENSG00000011600.12', 'E...</td>\n",
       "      <td>0.818138</td>\n",
       "      <td>[0.6170774647887324, 0.8888888888888888, 0.717...</td>\n",
       "      <td>[0.0, 0.45, 0.2, 0.21428571428571427, 0.35, 0....</td>\n",
       "    </tr>\n",
       "    <tr>\n",
       "      <th>0</th>\n",
       "      <td>mul_m</td>\n",
       "      <td>RF</td>\n",
       "      <td>RF</td>\n",
       "      <td>1860</td>\n",
       "      <td>0.505747</td>\n",
       "      <td>0.438437</td>\n",
       "      <td>0.560950</td>\n",
       "      <td>0.480368</td>\n",
       "      <td>NaN</td>\n",
       "      <td>amilcar32</td>\n",
       "      <td>89</td>\n",
       "      <td>2023-10-30 01:48:20.216976</td>\n",
       "      <td>modelo_1860_mul_m_RF_RF.pkl</td>\n",
       "      <td>{'selector__max_features': 500, 'selector__est...</td>\n",
       "      <td>X_test:(87, 18875)</td>\n",
       "      <td>['ENSG00000001626.18', 'ENSG00000002587.10', '...</td>\n",
       "      <td>0.840307</td>\n",
       "      <td>[0.6346830985915493, 0.8722222222222222, 0.824...</td>\n",
       "      <td>[0.0, 0.47619047619047616, 0.35294117647058826...</td>\n",
       "    </tr>\n",
       "  </tbody>\n",
       "</table>\n",
       "</div>"
      ],
      "text/plain": [
       "    tipo select clasific  semilla  accuracy  precision    recall  f1_score  \\\n",
       "0  mul_s  ANOVA    LR_EN     1860  0.557692   0.546429  0.573268  0.538235   \n",
       "0  mul_m     RF      SVM     1860  0.425287   0.397698  0.466966  0.418521   \n",
       "0  mul_m     RF       RF     1860  0.505747   0.438437  0.560950  0.480368   \n",
       "\n",
       "   roc_auc   hostname  total_time_sec                    datetime  \\\n",
       "0      NaN  amilcar32            1225  2023-10-30 02:10:00.196603   \n",
       "0      NaN  amilcar32              61  2023-10-30 01:49:28.841686   \n",
       "0      NaN  amilcar32              89  2023-10-30 01:48:20.216976   \n",
       "\n",
       "                      fichero_modelo  \\\n",
       "0  modelo_1860_mul_s_ANOVA_LR_EN.pkl   \n",
       "0       modelo_1860_mul_m_RF_SVM.pkl   \n",
       "0        modelo_1860_mul_m_RF_RF.pkl   \n",
       "\n",
       "                                              params               shape  \\\n",
       "0  {'selector__k': 1000, 'clasifier__solver': 'sa...  X_test:(52, 18875)   \n",
       "0  {'selector__max_features': 200, 'selector__est...  X_test:(87, 18875)   \n",
       "0  {'selector__max_features': 500, 'selector__est...  X_test:(87, 18875)   \n",
       "\n",
       "                                            features  roc_auc_ovr  \\\n",
       "0  ['ENSG00000000938.13', 'ENSG00000002834.19', '...     0.836390   \n",
       "0  ['ENSG00000005381.9', 'ENSG00000011600.12', 'E...     0.818138   \n",
       "0  ['ENSG00000001626.18', 'ENSG00000002587.10', '...     0.840307   \n",
       "\n",
       "                                         indices_auc  \\\n",
       "0  [0.6341463414634146, 0.8948863636363635, 0.732...   \n",
       "0  [0.6170774647887324, 0.8888888888888888, 0.717...   \n",
       "0  [0.6346830985915493, 0.8722222222222222, 0.824...   \n",
       "\n",
       "                                     indices_jaccard  \n",
       "0  [0.3125, 0.3333333333333333, 0.181818181818181...  \n",
       "0  [0.0, 0.45, 0.2, 0.21428571428571427, 0.35, 0....  \n",
       "0  [0.0, 0.47619047619047616, 0.35294117647058826...  "
      ]
     },
     "metadata": {},
     "output_type": "display_data"
    }
   ],
   "source": [
    "if M_TIPO.startswith(\"bin\"):\n",
    "    myfunc.save_metricas_to_csv(random_search, X_test, y_test, M_TIPO, M_SELECT, M_CLASIF, total_time, SEMILLA, myfunc.MET_DIR, M_FICHERO, fichero_modelo)\n",
    "else:\n",
    "    myfunc.save_metricas_multi_to_csv(random_search, X_test, y_test, M_TIPO, M_SELECT, M_CLASIF, total_time, SEMILLA, myfunc.MET_DIR, M_FICHERO, fichero_modelo)\n",
    "\n",
    "df1=myfunc.read_metricas_to_df(myfunc.MET_DIR,M_FICHERO)\n",
    "\n",
    "display(df1.sort_values(\"datetime\", ascending=False)[:3])\n"
   ]
  },
  {
   "cell_type": "markdown",
   "id": "cc2d2605",
   "metadata": {
    "papermill": {
     "duration": 0.015624,
     "end_time": "2023-10-30T01:10:00.368546",
     "exception": false,
     "start_time": "2023-10-30T01:10:00.352922",
     "status": "completed"
    },
    "tags": []
   },
   "source": [
    "#### Guardar resultados"
   ]
  },
  {
   "cell_type": "code",
   "execution_count": 13,
   "id": "57bab3e0",
   "metadata": {
    "execution": {
     "iopub.execute_input": "2023-10-30T01:10:00.400904Z",
     "iopub.status.busy": "2023-10-30T01:10:00.400904Z",
     "iopub.status.idle": "2023-10-30T01:10:00.431644Z",
     "shell.execute_reply": "2023-10-30T01:10:00.431644Z"
    },
    "papermill": {
     "duration": 0.047461,
     "end_time": "2023-10-30T01:10:00.431644",
     "exception": false,
     "start_time": "2023-10-30T01:10:00.384183",
     "status": "completed"
    },
    "tags": []
   },
   "outputs": [
    {
     "name": "stdout",
     "output_type": "stream",
     "text": [
      "20231030T021000 : amilcar32 : INFO : Inicio guardar resultados\n",
      "20231030T021000 : amilcar32 : INFO : Inicio guardar fichero ..\\tfm_viu\\ejecuciones\\metricas\\resultados_1860_mul_s-ANOVA-LR_EN.csv\n",
      "20231030T021000 : amilcar32 : INFO : Fin guardar fichero ..\\tfm_viu\\ejecuciones\\metricas\\resultados_1860_mul_s-ANOVA-LR_EN.csv\n",
      "20231030T021000 : amilcar32 : INFO : Fin guardar resultados\n"
     ]
    }
   ],
   "source": [
    "fichero_resultados=R_FICHERO+\"_\"+M_TIPO+\"-\"+M_SELECT+\"-\"+M_CLASIF+\".csv\"\n",
    "myfunc.save_resultados_to_csv(M_TIPO, M_SELECT, M_CLASIF,  random_search, myfunc.MET_DIR, fichero_resultados)\n"
   ]
  }
 ],
 "metadata": {
  "kernelspec": {
   "display_name": "Python 3 (ipykernel)",
   "language": "python",
   "name": "python3"
  },
  "language_info": {
   "codemirror_mode": {
    "name": "ipython",
    "version": 3
   },
   "file_extension": ".py",
   "mimetype": "text/x-python",
   "name": "python",
   "nbconvert_exporter": "python",
   "pygments_lexer": "ipython3",
   "version": "3.10.12"
  },
  "papermill": {
   "default_parameters": {},
   "duration": 1230.257103,
   "end_time": "2023-10-30T01:10:01.357230",
   "environment_variables": {},
   "exception": null,
   "input_path": "03_entrenamiento.ipynb",
   "output_path": "ejecuciones\\training\\03_entrenamiento.20231030T_14930.param_0000_1860_mul_s_ANOVA_LR_EN.output.ipynb",
   "parameters": {
    "MAX_ITERS": 500,
    "M_CLASIF": "LR_EN",
    "M_FICHERO": "metricas_1860",
    "M_SELECT": "ANOVA",
    "M_TIPO": "mul_s",
    "PRE_DATA_FILE": "rows_transpose_norm_by_gene_id_with_target_num_",
    "P_FICHERO": "param_0000_1860_mul_s_ANOVA_LR_EN.yaml",
    "R_FICHERO": "resultados_1860",
    "SCORING": "roc_auc_ovr",
    "SEMILLA": 1860,
    "eval_clasifier": "LogisticRegressionCV(random_state=SEMILLA)",
    "eval_selector": "SelectKBest(score_func=f_classif)",
    "param_distributions": {
     "clasifier__l1_ratios": [
      [
       0.1
      ]
     ],
     "clasifier__max_iter": [
      10000
     ],
     "clasifier__penalty": [
      "elasticnet"
     ],
     "clasifier__solver": [
      "saga"
     ],
     "selector__k": [
      1000
     ]
    }
   },
   "start_time": "2023-10-30T00:49:31.100127",
   "version": "2.4.0"
  }
 },
 "nbformat": 4,
 "nbformat_minor": 5
}