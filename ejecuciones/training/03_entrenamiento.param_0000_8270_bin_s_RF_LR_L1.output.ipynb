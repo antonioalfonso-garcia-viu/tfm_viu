{
 "cells": [
  {
   "cell_type": "markdown",
   "id": "26a504a5",
   "metadata": {
    "papermill": {
     "duration": 0.00535,
     "end_time": "2023-10-29T20:25:52.351712",
     "exception": false,
     "start_time": "2023-10-29T20:25:52.346362",
     "status": "completed"
    },
    "tags": []
   },
   "source": [
    "##### Inicio"
   ]
  },
  {
   "cell_type": "markdown",
   "id": "83e593e0",
   "metadata": {
    "papermill": {
     "duration": 0.003386,
     "end_time": "2023-10-29T20:25:52.358811",
     "exception": false,
     "start_time": "2023-10-29T20:25:52.355425",
     "status": "completed"
    },
    "tags": []
   },
   "source": [
    "#### Carga de datos"
   ]
  },
  {
   "cell_type": "code",
   "execution_count": 1,
   "id": "90225135",
   "metadata": {
    "execution": {
     "iopub.execute_input": "2023-10-29T20:25:52.366862Z",
     "iopub.status.busy": "2023-10-29T20:25:52.366449Z",
     "iopub.status.idle": "2023-10-29T20:25:53.484024Z",
     "shell.execute_reply": "2023-10-29T20:25:53.483389Z"
    },
    "papermill": {
     "duration": 1.123358,
     "end_time": "2023-10-29T20:25:53.485470",
     "exception": false,
     "start_time": "2023-10-29T20:25:52.362112",
     "status": "completed"
    },
    "tags": []
   },
   "outputs": [
    {
     "name": "stdout",
     "output_type": "stream",
     "text": [
      "CPU_COUNT: 16; NODE: enderlab; sys.version: 3.10.11 (main, May 16 2023, 00:28:57) [GCC 11.2.0]\n",
      "LOKY_MAX_CPU_COUNT is not set.\n",
      "OMP_NUM_THREADS is not set.\n"
     ]
    }
   ],
   "source": [
    "import os\n",
    "import numpy as np\n",
    "import pandas as pd\n",
    "import datetime\n",
    "import sklearn\n",
    "import logging\n",
    "import warnings\n",
    "\n",
    "from sklearn.pipeline import Pipeline\n",
    "from sklearn.model_selection import RandomizedSearchCV, KFold, cross_val_score, train_test_split\n",
    "from sklearn.metrics import accuracy_score, confusion_matrix, classification_report, roc_auc_score\n",
    "\n",
    "#  cargar algoritmos para aprendizaje supervisado\n",
    "from sklearn.feature_selection import SelectKBest, f_classif, SelectFromModel, mutual_info_classif\n",
    "from sklearn.svm import SVC\n",
    "from sklearn.ensemble import RandomForestClassifier\n",
    "from sklearn.linear_model import LogisticRegression,LogisticRegressionCV\n",
    "\n",
    "# importar fichero con utilidades propias\n",
    "from commons import myfunctions as myfunc\n"
   ]
  },
  {
   "cell_type": "markdown",
   "id": "2d5dc1b1",
   "metadata": {
    "papermill": {
     "duration": 0.003592,
     "end_time": "2023-10-29T20:25:53.493113",
     "exception": false,
     "start_time": "2023-10-29T20:25:53.489521",
     "status": "completed"
    },
    "tags": []
   },
   "source": [
    "#### Parámetros a utilizar en el entrenamiento.\n",
    "\n",
    "Se indican los 3 algoritmos de *selección de características* (eval_selector_xxx) y los 3 algoritmos para la _clasificación_ (eval_clasifier_xxx)\n",
    "\n",
    "En *param_distributions* se indicar los parámetros que utilizan los algoritmos en la función RandomSearchCV.\n",
    "\n",
    "Esta celda tiene la etiqueta **parameters** que servirá para poder lanzar los entrenamientos con la utilidad **papermill** pasándole un fichero con los parámetros. Los nuevos parámetros se situarán tras esta celda para tener prevalencia."
   ]
  },
  {
   "cell_type": "code",
   "execution_count": 2,
   "id": "c7b73f62",
   "metadata": {
    "execution": {
     "iopub.execute_input": "2023-10-29T20:25:53.501272Z",
     "iopub.status.busy": "2023-10-29T20:25:53.500940Z",
     "iopub.status.idle": "2023-10-29T20:25:53.509296Z",
     "shell.execute_reply": "2023-10-29T20:25:53.508747Z"
    },
    "papermill": {
     "duration": 0.014009,
     "end_time": "2023-10-29T20:25:53.510519",
     "exception": false,
     "start_time": "2023-10-29T20:25:53.496510",
     "status": "completed"
    },
    "tags": [
     "parameters"
    ]
   },
   "outputs": [
    {
     "name": "stdout",
     "output_type": "stream",
     "text": [
      "20231029T212553 : enderlab : INFO : Utilizando parámetros de mul_m\n"
     ]
    }
   ],
   "source": [
    "#  Parametros para el entrenamiento\n",
    "\n",
    "SEMILLA=        42\n",
    "M_TIPO=         \"mul_m\"\n",
    "M_SELECT=       \"MI\"\n",
    "M_CLASIF=       \"SVM\"\n",
    "R_FICHERO=      \"resultados\"\n",
    "M_FICHERO=      \"metricas\"\n",
    "PRE_DATA_FILE=  \"rows_transpose_norm_by_gene_id_with_target_num_\"\n",
    "SCORING=        \"roc_auc_ovr\" \n",
    "MAX_ITERS=      100\n",
    "\n",
    "def mutual_info_classif_state(X, y):\n",
    "    return mutual_info_classif(X, y, random_state=SEMILLA)\n",
    "\n",
    "eval_selector_mi = \"SelectKBest(score_func=mutual_info_classif_state)\"\n",
    "eval_selector_rf=  \"SelectFromModel(estimator=RandomForestClassifier(random_state=SEMILLA), threshold=-np.inf)\"\n",
    "eval_selector_anova=  \"SelectKBest(score_func=f_classif)\"\n",
    "\n",
    "eval_clasifier_svm= \"SVC(probability=True, random_state=SEMILLA)\"\n",
    "eval_clasifier_rf= \"RandomForestClassifier(random_state=SEMILLA)\"\n",
    "eval_clasifier_lr= \"LogisticRegressionCV(random_state=SEMILLA)\"\n",
    "\n",
    "if M_TIPO.startswith(\"bin_m\"):\n",
    "    myfunc.verbose(f\"Utilizando parámetros de {M_TIPO}\")\n",
    "    eval_selector = eval_selector_mi\n",
    "    eval_clasifier = eval_clasifier_svm\n",
    "\n",
    "    SEMILLA = 6578\n",
    "    M_SELECT = \"MI\"\n",
    "    M_CLASIF = \"SVM\"\n",
    "    param_distributions = {'selector__k': [1000], \n",
    "         'clasifier__kernel': ['rbf'], 'clasifier__gamma': [0.01], 'clasifier__C': [100]}\n",
    "elif M_TIPO.startswith(\"bin_s\"):\n",
    "    myfunc.verbose(f\"Utilizando parámetros de {M_TIPO}\")\n",
    "    eval_selector = eval_selector_rf\n",
    "    eval_clasifier = eval_clasifier_lr\n",
    "\n",
    "    SEMILLA = 6191\n",
    "    M_SELECT = \"RF\"\n",
    "    M_CLASIF = \"LR_L2\"\n",
    "    param_distributions = {'selector__max_features': [1000], 'selector__estimator__n_estimators': [200], \n",
    "        'clasifier__solver': ['lbfgs'], 'clasifier__penalty': ['l2'], 'clasifier__max_iter': [10000]}\n",
    "\n",
    "elif M_TIPO.startswith(\"mul_m\"):\n",
    "    myfunc.verbose(f\"Utilizando parámetros de {M_TIPO}\")\n",
    " \n",
    "    eval_selector = eval_selector_rf\n",
    "    eval_clasifier = eval_clasifier_lr\n",
    "\n",
    "    SEMILLA = 6191\n",
    "    M_SELECT = \"RF\"\n",
    "    M_CLASIF = \"LR_L2\"\n",
    "    param_distributions = {'selector__max_features': [1000], 'selector__estimator__n_estimators': [400], \n",
    "        'clasifier__solver': ['lbfgs'], 'clasifier__penalty': ['l2'], 'clasifier__max_iter': [10000]}\n",
    "\n",
    "else:\n",
    "    # M_TIPO.startswith(\"mul_s\"):\n",
    "    myfunc.verbose(f\"Utilizando parámetros de {M_TIPO}\")\n",
    "    eval_selector = eval_selector_anova\n",
    "    eval_clasifier = eval_clasifier_lr\n",
    "\n",
    "    SEMILLA = 1860\n",
    "    M_SELECT = \"ANOVA\"\n",
    "    M_CLASIF = \"LR_L2\"\n",
    "    param_distributions = {'selector__k': [1000], \n",
    "        'clasifier__solver': ['saga'], 'clasifier__penalty': ['l2'], 'clasifier__max_iter': [10000]}\n",
    "\n"
   ]
  },
  {
   "cell_type": "code",
   "execution_count": 3,
   "id": "be9dd459",
   "metadata": {
    "execution": {
     "iopub.execute_input": "2023-10-29T20:25:53.518635Z",
     "iopub.status.busy": "2023-10-29T20:25:53.518346Z",
     "iopub.status.idle": "2023-10-29T20:25:53.522204Z",
     "shell.execute_reply": "2023-10-29T20:25:53.521685Z"
    },
    "papermill": {
     "duration": 0.009289,
     "end_time": "2023-10-29T20:25:53.523371",
     "exception": false,
     "start_time": "2023-10-29T20:25:53.514082",
     "status": "completed"
    },
    "tags": [
     "injected-parameters"
    ]
   },
   "outputs": [],
   "source": [
    "# Parameters\n",
    "M_TIPO = \"bin_s\"\n",
    "M_SELECT = \"RF\"\n",
    "M_CLASIF = \"LR_L1\"\n",
    "P_FICHERO = \"param_0000_8270_bin_s_RF_LR_L1.yaml\"\n",
    "R_FICHERO = \"resultados_8270\"\n",
    "M_FICHERO = \"metricas_8270\"\n",
    "PRE_DATA_FILE = \"rows_transpose_norm_by_gene_id_with_target_num_\"\n",
    "SCORING = \"roc_auc_ovr\"\n",
    "SEMILLA = 8270\n",
    "MAX_ITERS = 500\n",
    "eval_selector = \"SelectFromModel(estimator=RandomForestClassifier(random_state=SEMILLA), threshold=-np.inf)\"\n",
    "eval_clasifier = \"LogisticRegressionCV(random_state=SEMILLA)\"\n",
    "param_distributions = {\n",
    "    \"selector__max_features\": [1000],\n",
    "    \"selector__estimator__n_estimators\": [100],\n",
    "    \"clasifier__solver\": [\"saga\"],\n",
    "    \"clasifier__penalty\": [\"l1\"],\n",
    "    \"clasifier__max_iter\": [10000],\n",
    "}\n"
   ]
  },
  {
   "cell_type": "code",
   "execution_count": 4,
   "id": "3a2b8cd4",
   "metadata": {
    "execution": {
     "iopub.execute_input": "2023-10-29T20:25:53.531546Z",
     "iopub.status.busy": "2023-10-29T20:25:53.531223Z",
     "iopub.status.idle": "2023-10-29T20:25:53.534467Z",
     "shell.execute_reply": "2023-10-29T20:25:53.533924Z"
    },
    "papermill": {
     "duration": 0.008816,
     "end_time": "2023-10-29T20:25:53.535683",
     "exception": false,
     "start_time": "2023-10-29T20:25:53.526867",
     "status": "completed"
    },
    "tags": []
   },
   "outputs": [],
   "source": [
    "DATA_FILE = PRE_DATA_FILE + M_TIPO\n",
    "\n",
    "# si viene \"None\" en el parámetro max_depth, se le quitan las comillas para que no sea entendido por el algoritmo como un texto\n",
    "if \"clasifier__max_depth\" in param_distributions:\n",
    "    param_distributions['clasifier__max_depth'] = [None if x == 'None' else x for x in param_distributions['clasifier__max_depth']]"
   ]
  },
  {
   "cell_type": "markdown",
   "id": "64a526cd",
   "metadata": {
    "papermill": {
     "duration": 0.01491,
     "end_time": "2023-10-29T20:25:53.554233",
     "exception": false,
     "start_time": "2023-10-29T20:25:53.539323",
     "status": "completed"
    },
    "tags": []
   },
   "source": [
    "Asignar los algoritmos que se utilizarán en la función RandomSearchCV"
   ]
  },
  {
   "cell_type": "code",
   "execution_count": 5,
   "id": "c2f1fbc5",
   "metadata": {
    "execution": {
     "iopub.execute_input": "2023-10-29T20:25:53.562436Z",
     "iopub.status.busy": "2023-10-29T20:25:53.562120Z",
     "iopub.status.idle": "2023-10-29T20:25:53.565026Z",
     "shell.execute_reply": "2023-10-29T20:25:53.564503Z"
    },
    "papermill": {
     "duration": 0.008474,
     "end_time": "2023-10-29T20:25:53.566384",
     "exception": false,
     "start_time": "2023-10-29T20:25:53.557910",
     "status": "completed"
    },
    "tags": []
   },
   "outputs": [],
   "source": [
    "algor_selector=eval(eval_selector)\n",
    "algor_clasifier=eval(eval_clasifier)"
   ]
  },
  {
   "cell_type": "markdown",
   "id": "b9ffe587",
   "metadata": {
    "papermill": {
     "duration": 0.003611,
     "end_time": "2023-10-29T20:25:53.573538",
     "exception": false,
     "start_time": "2023-10-29T20:25:53.569927",
     "status": "completed"
    },
    "tags": []
   },
   "source": [
    "#### Comprobar el entorno y leer fichero de muestras"
   ]
  },
  {
   "cell_type": "code",
   "execution_count": 6,
   "id": "23e4640b",
   "metadata": {
    "execution": {
     "iopub.execute_input": "2023-10-29T20:25:53.581685Z",
     "iopub.status.busy": "2023-10-29T20:25:53.581483Z",
     "iopub.status.idle": "2023-10-29T20:25:53.822007Z",
     "shell.execute_reply": "2023-10-29T20:25:53.821397Z"
    },
    "papermill": {
     "duration": 0.246161,
     "end_time": "2023-10-29T20:25:53.823317",
     "exception": false,
     "start_time": "2023-10-29T20:25:53.577156",
     "status": "completed"
    },
    "tags": []
   },
   "outputs": [
    {
     "name": "stdout",
     "output_type": "stream",
     "text": [
      "20231029T212553 : enderlab : INFO : Encontrada carpeta DATA_DIR=../tfm_git/datos\n",
      "20231029T212553 : enderlab : INFO : Encontrada carpeta CFDNA_DIR=../tfm_git/datos/cfDNA_5hmC\n",
      "20231029T212553 : enderlab : INFO : Encontrada carpeta GENCODE_DIR=../tfm_git/datos/gencode\n",
      "20231029T212553 : enderlab : INFO : Encontrada carpeta H5_DIR=../tfm_git/datos/h5\n",
      "20231029T212553 : enderlab : INFO : Encontrada carpeta LOG_DIR=../tfm_git/datos/logs\n",
      "20231029T212553 : enderlab : INFO : Encontrada carpeta CSV_DIR=../tfm_git/datos/csv\n",
      "20231029T212553 : enderlab : INFO : Encontrada carpeta MODEL_DIR=../tfm_git/ejecuciones/modelos\n",
      "20231029T212553 : enderlab : INFO : Encontrada carpeta EXEC_DIR=../tfm_git/ejecuciones\n",
      "20231029T212553 : enderlab : INFO : Encontrada carpeta MET_DIR=../tfm_git/ejecuciones/metricas\n",
      "20231029T212553 : enderlab : INFO : Inicio leer fichero h5 ../tfm_git/datos/h5/rows_transpose_norm_by_gene_id_with_target_num_bin_s.h5\n",
      "20231029T212553 : enderlab : INFO : Leyendo clave /df\n"
     ]
    },
    {
     "name": "stdout",
     "output_type": "stream",
     "text": [
      "20231029T212553 : enderlab : INFO : Tamaño (443, 18876)\n",
      "20231029T212553 : enderlab : INFO : Fin leer fichero h5 ../tfm_git/datos/h5/rows_transpose_norm_by_gene_id_with_target_num_bin_s.h5\n"
     ]
    },
    {
     "data": {
      "text/plain": [
       "target\n",
       "0    221\n",
       "1    222\n",
       "dtype: int64"
      ]
     },
     "metadata": {},
     "output_type": "display_data"
    },
    {
     "name": "stdout",
     "output_type": "stream",
     "text": [
      "Shape df: (443, 18876)\n"
     ]
    },
    {
     "name": "stdout",
     "output_type": "stream",
     "text": [
      "Shape X_train: (354, 18875)\n",
      "Shape X_test: (89, 18875)\n"
     ]
    }
   ],
   "source": [
    "start_time = datetime.datetime.now()\n",
    "\n",
    "myfunc.reset_vars()\n",
    "\n",
    "myfunc.NOTEBK_FILENAME = myfunc.get_nb_name()\n",
    "\n",
    "myfunc.check_enviroment(myfunc.DATA_DIR, myfunc.CFDNA_DIR, myfunc.GENCODE_DIR, myfunc.H5_DIR, myfunc.LOG_DIR, myfunc.CSV_DIR, myfunc.MODEL_DIR, myfunc.EXEC_DIR, myfunc.MET_DIR)\n",
    "\n",
    "# Leer fichero con las muestras\n",
    "df_t = myfunc.read_h5_to_df(DATA_FILE, myfunc.H5_DIR)\n",
    "display(df_t.groupby(\"target\").size())\n",
    "print(\"Shape df:\",df_t.shape)\n",
    "\n",
    "# Separar caracteristicas/genes de las etiquetas/tipos de cáncer\n",
    "X = df_t.iloc[:, :-1]  # Todas las columnas excepto la última\n",
    "y = df_t.iloc[:, -1]  # La última columna contiene los identificadores de los tipos de cáncer\n",
    "\n",
    "#  Crear el conjunto de datos de entrenamiento y de pruebas, y se fija la semilla para siempre coger el mismo juego de muestras\n",
    "X_train, X_test, y_train, y_test = train_test_split(X, y, test_size=0.2, shuffle=True, random_state=42)\n",
    "print(\"Shape X_train:\",X_train.shape)\n",
    "print(\"Shape X_test:\",X_test.shape)\n"
   ]
  },
  {
   "cell_type": "markdown",
   "id": "d43091dc",
   "metadata": {
    "papermill": {
     "duration": 0.004055,
     "end_time": "2023-10-29T20:25:53.831933",
     "exception": false,
     "start_time": "2023-10-29T20:25:53.827878",
     "status": "completed"
    },
    "tags": []
   },
   "source": [
    "#### Selección de características y clasificación."
   ]
  },
  {
   "cell_type": "code",
   "execution_count": 7,
   "id": "9273e735",
   "metadata": {
    "execution": {
     "iopub.execute_input": "2023-10-29T20:25:53.841074Z",
     "iopub.status.busy": "2023-10-29T20:25:53.840725Z",
     "iopub.status.idle": "2023-10-29T20:32:09.769783Z",
     "shell.execute_reply": "2023-10-29T20:32:09.768848Z"
    },
    "papermill": {
     "duration": 375.940061,
     "end_time": "2023-10-29T20:32:09.775922",
     "exception": false,
     "start_time": "2023-10-29T20:25:53.835861",
     "status": "completed"
    },
    "tags": []
   },
   "outputs": [
    {
     "name": "stdout",
     "output_type": "stream",
     "text": [
      "20231029T212553 : enderlab : INFO : Iniciando entrenamiento\n",
      "num_iter: 1 , max_iter: 1\n",
      "Fitting 5 folds for each of 1 candidates, totalling 5 fits\n"
     ]
    },
    {
     "name": "stdout",
     "output_type": "stream",
     "text": [
      "Mejores Hiperparámetros: {'selector__max_features': 1000, 'selector__estimator__n_estimators': 100, 'clasifier__solver': 'saga', 'clasifier__penalty': 'l1', 'clasifier__max_iter': 10000}\n",
      "Mejor Puntuación: 0.7600\n",
      "20231029T213209 : enderlab : INFO : Fin entrenamiento\n"
     ]
    }
   ],
   "source": [
    "myfunc.verbose(\"Iniciando entrenamiento\")\n",
    "\n",
    "kf = KFold(n_splits=5, shuffle=True, random_state=SEMILLA)\n",
    "\n",
    "# Crear el pipeline para el flujo de tareas\n",
    "tasks_pipeline = Pipeline([\n",
    "    ('selector', algor_selector),\n",
    "    ('clasifier', algor_clasifier)\n",
    "])\n",
    "\n",
    "# MAX_ITERS puede limitar el número de iteraciones si son excesivas para las combinaciones de parámetros buscando un óptimo local, \n",
    "# sino funcionaría como GridSearchCV al revisar todas las cominaciones de los parámetros\n",
    "num_iteraciones = 1\n",
    "num_iteraciones = num_iteraciones * np.prod([len(elemento1) for _, elemento1 in param_distributions.items()])\n",
    "max_iteraciones = num_iteraciones if num_iteraciones <= MAX_ITERS else MAX_ITERS\n",
    "print(\"num_iter:\",num_iteraciones,\", max_iter:\",max_iteraciones)\n",
    "\n",
    "random_search = RandomizedSearchCV(\n",
    "    tasks_pipeline, \n",
    "    param_distributions, \n",
    "    n_iter=max_iteraciones,\n",
    "    scoring=SCORING,\n",
    "    cv=kf,\n",
    "    verbose=3, \n",
    "    random_state=SEMILLA, \n",
    "    n_jobs=-1\n",
    "    )\n",
    "\n",
    "# Entrenar el modelo\n",
    "random_search.fit(X_train, y_train)\n",
    "\n",
    "# Ver los mejores hiperparámetros encontrados\n",
    "print(f'Mejores Hiperparámetros: {random_search.best_params_}')\n",
    "print(f'Mejor Puntuación: {random_search.best_score_:.4f}')\n",
    "\n",
    "# Nos quedamos con el mejor modelo para ver las métricas\n",
    "mejor_modelo = random_search.best_estimator_\n",
    "\n",
    "myfunc.verbose(\"Fin entrenamiento\")"
   ]
  },
  {
   "cell_type": "markdown",
   "id": "dd554d2f",
   "metadata": {
    "papermill": {
     "duration": 0.004062,
     "end_time": "2023-10-29T20:32:09.784365",
     "exception": false,
     "start_time": "2023-10-29T20:32:09.780303",
     "status": "completed"
    },
    "tags": []
   },
   "source": [
    "#### Guardar modelo"
   ]
  },
  {
   "cell_type": "code",
   "execution_count": 8,
   "id": "38bb5a04",
   "metadata": {
    "execution": {
     "iopub.execute_input": "2023-10-29T20:32:09.794183Z",
     "iopub.status.busy": "2023-10-29T20:32:09.793612Z",
     "iopub.status.idle": "2023-10-29T20:32:09.845750Z",
     "shell.execute_reply": "2023-10-29T20:32:09.845131Z"
    },
    "papermill": {
     "duration": 0.058742,
     "end_time": "2023-10-29T20:32:09.847060",
     "exception": false,
     "start_time": "2023-10-29T20:32:09.788318",
     "status": "completed"
    },
    "tags": []
   },
   "outputs": [
    {
     "name": "stdout",
     "output_type": "stream",
     "text": [
      "20231029T213209 : enderlab : INFO : Inicio guardar fichero ../tfm_git/ejecuciones/modelos/modelo_8270_bin_s_RF_LR_L1.pkl\n",
      "20231029T213209 : enderlab : INFO : Fin guardar fichero ../tfm_git/ejecuciones/modelos/modelo_8270_bin_s_RF_LR_L1.pkl\n"
     ]
    }
   ],
   "source": [
    "fichero_modelo = str.replace(\"modelo_\"+str(SEMILLA).zfill(4)+\"_\"+M_TIPO+\"_\"+M_SELECT+\"_\"+M_CLASIF+\".pkl\", \" \", \"_\")\n",
    "\n",
    "myfunc.save_modelo(mejor_modelo, myfunc.MODEL_DIR, fichero_modelo)"
   ]
  },
  {
   "cell_type": "markdown",
   "id": "67283130",
   "metadata": {
    "papermill": {
     "duration": 0.004212,
     "end_time": "2023-10-29T20:32:09.855607",
     "exception": false,
     "start_time": "2023-10-29T20:32:09.851395",
     "status": "completed"
    },
    "tags": []
   },
   "source": [
    "#### Ver resultados del las iteraciones hechas por RandomSearchCV"
   ]
  },
  {
   "cell_type": "code",
   "execution_count": 9,
   "id": "91e4e3dd",
   "metadata": {
    "execution": {
     "iopub.execute_input": "2023-10-29T20:32:09.865069Z",
     "iopub.status.busy": "2023-10-29T20:32:09.864484Z",
     "iopub.status.idle": "2023-10-29T20:32:09.873398Z",
     "shell.execute_reply": "2023-10-29T20:32:09.872825Z"
    },
    "papermill": {
     "duration": 0.014923,
     "end_time": "2023-10-29T20:32:09.874614",
     "exception": false,
     "start_time": "2023-10-29T20:32:09.859691",
     "status": "completed"
    },
    "tags": []
   },
   "outputs": [
    {
     "name": "stdout",
     "output_type": "stream",
     "text": [
      "20231029T213209 : enderlab : INFO : Inicio ver resultados\n",
      "Mejores Hiperparámetros: {'selector__max_features': 1000, 'selector__estimator__n_estimators': 100, 'clasifier__solver': 'saga', 'clasifier__penalty': 'l1', 'clasifier__max_iter': 10000}\n",
      "Mejores puntuaciones: 0.7600 | Params: {'selector__max_features': 1000, 'selector__estimator__n_estimators': 100, 'clasifier__solver': 'saga', 'clasifier__penalty': 'l1', 'clasifier__max_iter': 10000}\n",
      "Media de las puntuaciones: 0.7600 | Params: {'selector__max_features': 1000, 'selector__estimator__n_estimators': 100, 'clasifier__solver': 'saga', 'clasifier__penalty': 'l1', 'clasifier__max_iter': 10000}\n",
      "20231029T213209 : enderlab : INFO : Fin resultados\n"
     ]
    }
   ],
   "source": [
    "myfunc.ver_resultados_search(random_search)"
   ]
  },
  {
   "cell_type": "markdown",
   "id": "46eaf440",
   "metadata": {
    "papermill": {
     "duration": 0.004747,
     "end_time": "2023-10-29T20:32:09.883543",
     "exception": false,
     "start_time": "2023-10-29T20:32:09.878796",
     "status": "completed"
    },
    "tags": []
   },
   "source": [
    "#### Ver métricas del mejor modelo"
   ]
  },
  {
   "cell_type": "code",
   "execution_count": 10,
   "id": "c7f1a52b",
   "metadata": {
    "execution": {
     "iopub.execute_input": "2023-10-29T20:32:09.894671Z",
     "iopub.status.busy": "2023-10-29T20:32:09.894262Z",
     "iopub.status.idle": "2023-10-29T20:32:10.496876Z",
     "shell.execute_reply": "2023-10-29T20:32:10.496184Z"
    },
    "papermill": {
     "duration": 0.60964,
     "end_time": "2023-10-29T20:32:10.498280",
     "exception": false,
     "start_time": "2023-10-29T20:32:09.888640",
     "status": "completed"
    },
    "tags": []
   },
   "outputs": [
    {
     "name": "stdout",
     "output_type": "stream",
     "text": [
      "20231029T213209 : enderlab : INFO : Inicio ver métricas\n"
     ]
    },
    {
     "name": "stdout",
     "output_type": "stream",
     "text": [
      "              precision    recall  f1-score   support\n",
      "\n",
      "           0       0.71      0.74      0.72        46\n",
      "           1       0.71      0.67      0.69        43\n",
      "\n",
      "    accuracy                           0.71        89\n",
      "   macro avg       0.71      0.71      0.71        89\n",
      "weighted avg       0.71      0.71      0.71        89\n",
      "\n",
      "\n",
      "\n",
      "   Exactitud: 0.7079\n",
      "   Precisión: 0.7078\n",
      "Sensibilidad: 0.7068\n",
      "    F1-score: 0.7069\n",
      "     AUC ROC: 0.7700\n"
     ]
    },
    {
     "data": {
      "image/png": "[encoded data removed]",
      "text/plain": [
       "<Figure size 300x100 with 2 Axes>"
      ]
     },
     "metadata": {},
     "output_type": "display_data"
    },
    {
     "data": {
      "image/png": "[encoded data removed]",
      "text/plain": [
       "<Figure size 800x500 with 1 Axes>"
      ]
     },
     "metadata": {},
     "output_type": "display_data"
    },
    {
     "name": "stdout",
     "output_type": "stream",
     "text": [
      "20231029T213210 : enderlab : INFO : Fin ver métricas\n"
     ]
    }
   ],
   "source": [
    "if M_TIPO.startswith(\"bin\"):\n",
    "    myfunc.ver_metricas(mejor_modelo, X_test, y_test)\n",
    "else:\n",
    "    myfunc.ver_metricas_multi(mejor_modelo, X_test, y_test)\n"
   ]
  },
  {
   "cell_type": "markdown",
   "id": "3ef8bae4",
   "metadata": {
    "papermill": {
     "duration": 0.005092,
     "end_time": "2023-10-29T20:32:10.508843",
     "exception": false,
     "start_time": "2023-10-29T20:32:10.503751",
     "status": "completed"
    },
    "tags": []
   },
   "source": [
    "#### Finalización del notebook"
   ]
  },
  {
   "cell_type": "code",
   "execution_count": 11,
   "id": "82297470",
   "metadata": {
    "execution": {
     "iopub.execute_input": "2023-10-29T20:32:10.520122Z",
     "iopub.status.busy": "2023-10-29T20:32:10.519610Z",
     "iopub.status.idle": "2023-10-29T20:32:10.523704Z",
     "shell.execute_reply": "2023-10-29T20:32:10.523139Z"
    },
    "papermill": {
     "duration": 0.011165,
     "end_time": "2023-10-29T20:32:10.524919",
     "exception": false,
     "start_time": "2023-10-29T20:32:10.513754",
     "status": "completed"
    },
    "tags": []
   },
   "outputs": [
    {
     "name": "stdout",
     "output_type": "stream",
     "text": [
      "20231029T213210 : enderlab : INFO : Notebook ha tardado 376 seconds\n"
     ]
    }
   ],
   "source": [
    "end_time = datetime.datetime.now()\n",
    "total_time = end_time - start_time\n",
    "myfunc.verbose(f\"Notebook ha tardado {total_time.seconds} seconds\")"
   ]
  },
  {
   "cell_type": "markdown",
   "id": "fd427509",
   "metadata": {
    "papermill": {
     "duration": 0.018794,
     "end_time": "2023-10-29T20:32:10.549092",
     "exception": false,
     "start_time": "2023-10-29T20:32:10.530298",
     "status": "completed"
    },
    "tags": []
   },
   "source": [
    "#### Guardar métricas"
   ]
  },
  {
   "cell_type": "code",
   "execution_count": 12,
   "id": "816b97c1",
   "metadata": {
    "execution": {
     "iopub.execute_input": "2023-10-29T20:32:10.560694Z",
     "iopub.status.busy": "2023-10-29T20:32:10.560256Z",
     "iopub.status.idle": "2023-10-29T20:32:10.906039Z",
     "shell.execute_reply": "2023-10-29T20:32:10.905468Z"
    },
    "papermill": {
     "duration": 0.353107,
     "end_time": "2023-10-29T20:32:10.907322",
     "exception": false,
     "start_time": "2023-10-29T20:32:10.554215",
     "status": "completed"
    },
    "tags": []
   },
   "outputs": [
    {
     "name": "stdout",
     "output_type": "stream",
     "text": [
      "20231029T213210 : enderlab : INFO : Inicio guardar métricas\n",
      "20231029T213210 : enderlab : INFO : Inicio leer fichero ../tfm_git/ejecuciones/metricas/metricas_8270.csv\n",
      "20231029T213210 : enderlab : INFO : Fin leer fichero ../tfm_git/ejecuciones/metricas/metricas_8270.csv\n"
     ]
    },
    {
     "name": "stdout",
     "output_type": "stream",
     "text": [
      "20231029T213210 : enderlab : INFO : Inicio guardar fichero ../tfm_git/ejecuciones/metricas/metricas_8270.csv\n",
      "20231029T213210 : enderlab : INFO : Fichero borrado ../tfm_git/ejecuciones/metricas/metricas_8270.csv\n",
      "20231029T213210 : enderlab : INFO : Fin guardar fichero ../tfm_git/ejecuciones/metricas/metricas_8270.csv\n",
      "20231029T213210 : enderlab : INFO : Fin guardar métricas\n",
      "20231029T213210 : enderlab : INFO : Inicio leer fichero ../tfm_git/ejecuciones/metricas/metricas_8270.csv\n",
      "20231029T213210 : enderlab : INFO : Fin leer fichero ../tfm_git/ejecuciones/metricas/metricas_8270.csv\n"
     ]
    },
    {
     "data": {
      "text/html": [
       "<div>\n",
       "<style scoped>\n",
       "    .dataframe tbody tr th:only-of-type {\n",
       "        vertical-align: middle;\n",
       "    }\n",
       "\n",
       "    .dataframe tbody tr th {\n",
       "        vertical-align: top;\n",
       "    }\n",
       "\n",
       "    .dataframe thead th {\n",
       "        text-align: right;\n",
       "    }\n",
       "</style>\n",
       "<table border=\"1\" class=\"dataframe\">\n",
       "  <thead>\n",
       "    <tr style=\"text-align: right;\">\n",
       "      <th></th>\n",
       "      <th>tipo</th>\n",
       "      <th>select</th>\n",
       "      <th>clasific</th>\n",
       "      <th>semilla</th>\n",
       "      <th>accuracy</th>\n",
       "      <th>precision</th>\n",
       "      <th>recall</th>\n",
       "      <th>f1_score</th>\n",
       "      <th>roc_auc</th>\n",
       "      <th>hostname</th>\n",
       "      <th>total_time_sec</th>\n",
       "      <th>datetime</th>\n",
       "      <th>fichero_modelo</th>\n",
       "      <th>params</th>\n",
       "      <th>shape</th>\n",
       "      <th>features</th>\n",
       "    </tr>\n",
       "  </thead>\n",
       "  <tbody>\n",
       "    <tr>\n",
       "      <th>0</th>\n",
       "      <td>bin_s</td>\n",
       "      <td>RF</td>\n",
       "      <td>LR_L1</td>\n",
       "      <td>8270</td>\n",
       "      <td>0.707865</td>\n",
       "      <td>0.707825</td>\n",
       "      <td>0.706775</td>\n",
       "      <td>0.706940</td>\n",
       "      <td>0.769970</td>\n",
       "      <td>enderlab</td>\n",
       "      <td>376</td>\n",
       "      <td>2023-10-29 21:32:10.860854</td>\n",
       "      <td>modelo_8270_bin_s_RF_LR_L1.pkl</td>\n",
       "      <td>{'selector__max_features': 1000, 'selector__es...</td>\n",
       "      <td>X_test:(89, 18875)</td>\n",
       "      <td>['ENSG00000000938.13', 'ENSG00000004059.11', '...</td>\n",
       "    </tr>\n",
       "    <tr>\n",
       "      <th>0</th>\n",
       "      <td>bin_s</td>\n",
       "      <td>RF</td>\n",
       "      <td>LR_EN</td>\n",
       "      <td>8270</td>\n",
       "      <td>0.707865</td>\n",
       "      <td>0.707533</td>\n",
       "      <td>0.707533</td>\n",
       "      <td>0.707533</td>\n",
       "      <td>0.775531</td>\n",
       "      <td>enderlab</td>\n",
       "      <td>162</td>\n",
       "      <td>2023-10-29 21:25:46.837934</td>\n",
       "      <td>modelo_8270_bin_s_RF_LR_EN.pkl</td>\n",
       "      <td>{'selector__max_features': 500, 'selector__est...</td>\n",
       "      <td>X_test:(89, 18875)</td>\n",
       "      <td>['ENSG00000004059.11', 'ENSG00000005381.9', 'E...</td>\n",
       "    </tr>\n",
       "    <tr>\n",
       "      <th>0</th>\n",
       "      <td>bin_s</td>\n",
       "      <td>MI</td>\n",
       "      <td>SVM</td>\n",
       "      <td>8270</td>\n",
       "      <td>0.595506</td>\n",
       "      <td>0.594766</td>\n",
       "      <td>0.594287</td>\n",
       "      <td>0.594225</td>\n",
       "      <td>0.662791</td>\n",
       "      <td>enderlab</td>\n",
       "      <td>96</td>\n",
       "      <td>2023-10-29 21:22:56.995178</td>\n",
       "      <td>modelo_8270_bin_s_MI_SVM.pkl</td>\n",
       "      <td>{'selector__k': 150, 'clasifier__kernel': 'rbf...</td>\n",
       "      <td>X_test:(89, 18875)</td>\n",
       "      <td>['ENSG00000003402.21', 'ENSG00000006712.15', '...</td>\n",
       "    </tr>\n",
       "  </tbody>\n",
       "</table>\n",
       "</div>"
      ],
      "text/plain": [
       "    tipo select clasific  semilla  accuracy  precision    recall  f1_score  \\\n",
       "0  bin_s     RF    LR_L1     8270  0.707865   0.707825  0.706775  0.706940   \n",
       "0  bin_s     RF    LR_EN     8270  0.707865   0.707533  0.707533  0.707533   \n",
       "0  bin_s     MI      SVM     8270  0.595506   0.594766  0.594287  0.594225   \n",
       "\n",
       "    roc_auc  hostname  total_time_sec                    datetime  \\\n",
       "0  0.769970  enderlab             376  2023-10-29 21:32:10.860854   \n",
       "0  0.775531  enderlab             162  2023-10-29 21:25:46.837934   \n",
       "0  0.662791  enderlab              96  2023-10-29 21:22:56.995178   \n",
       "\n",
       "                   fichero_modelo  \\\n",
       "0  modelo_8270_bin_s_RF_LR_L1.pkl   \n",
       "0  modelo_8270_bin_s_RF_LR_EN.pkl   \n",
       "0    modelo_8270_bin_s_MI_SVM.pkl   \n",
       "\n",
       "                                              params               shape  \\\n",
       "0  {'selector__max_features': 1000, 'selector__es...  X_test:(89, 18875)   \n",
       "0  {'selector__max_features': 500, 'selector__est...  X_test:(89, 18875)   \n",
       "0  {'selector__k': 150, 'clasifier__kernel': 'rbf...  X_test:(89, 18875)   \n",
       "\n",
       "                                            features  \n",
       "0  ['ENSG00000000938.13', 'ENSG00000004059.11', '...  \n",
       "0  ['ENSG00000004059.11', 'ENSG00000005381.9', 'E...  \n",
       "0  ['ENSG00000003402.21', 'ENSG00000006712.15', '...  "
      ]
     },
     "metadata": {},
     "output_type": "display_data"
    }
   ],
   "source": [
    "if M_TIPO.startswith(\"bin\"):\n",
    "    myfunc.save_metricas_to_csv(random_search, X_test, y_test, M_TIPO, M_SELECT, M_CLASIF, total_time, SEMILLA, myfunc.MET_DIR, M_FICHERO, fichero_modelo)\n",
    "else:\n",
    "    myfunc.save_metricas_multi_to_csv(random_search, X_test, y_test, M_TIPO, M_SELECT, M_CLASIF, total_time, SEMILLA, myfunc.MET_DIR, M_FICHERO, fichero_modelo)\n",
    "\n",
    "df1=myfunc.read_metricas_to_df(myfunc.MET_DIR,M_FICHERO)\n",
    "\n",
    "display(df1.sort_values(\"datetime\", ascending=False)[:3])\n"
   ]
  },
  {
   "cell_type": "markdown",
   "id": "6e10f6a3",
   "metadata": {
    "papermill": {
     "duration": 0.00538,
     "end_time": "2023-10-29T20:32:10.918504",
     "exception": false,
     "start_time": "2023-10-29T20:32:10.913124",
     "status": "completed"
    },
    "tags": []
   },
   "source": [
    "#### Guardar resultados"
   ]
  },
  {
   "cell_type": "code",
   "execution_count": 13,
   "id": "9cd3a661",
   "metadata": {
    "execution": {
     "iopub.execute_input": "2023-10-29T20:32:10.930748Z",
     "iopub.status.busy": "2023-10-29T20:32:10.930024Z",
     "iopub.status.idle": "2023-10-29T20:32:10.940900Z",
     "shell.execute_reply": "2023-10-29T20:32:10.940264Z"
    },
    "papermill": {
     "duration": 0.018422,
     "end_time": "2023-10-29T20:32:10.942177",
     "exception": false,
     "start_time": "2023-10-29T20:32:10.923755",
     "status": "completed"
    },
    "tags": []
   },
   "outputs": [
    {
     "name": "stdout",
     "output_type": "stream",
     "text": [
      "20231029T213210 : enderlab : INFO : Inicio guardar resultados\n",
      "20231029T213210 : enderlab : INFO : Inicio guardar fichero ../tfm_git/ejecuciones/metricas/resultados_8270_bin_s-RF-LR_L1.csv\n",
      "20231029T213210 : enderlab : INFO : Fin guardar fichero ../tfm_git/ejecuciones/metricas/resultados_8270_bin_s-RF-LR_L1.csv\n",
      "20231029T213210 : enderlab : INFO : Fin guardar resultados\n"
     ]
    }
   ],
   "source": [
    "fichero_resultados=R_FICHERO+\"_\"+M_TIPO+\"-\"+M_SELECT+\"-\"+M_CLASIF+\".csv\"\n",
    "myfunc.save_resultados_to_csv(M_TIPO, M_SELECT, M_CLASIF,  random_search, myfunc.MET_DIR, fichero_resultados)\n"
   ]
  }
 ],
 "metadata": {
  "kernelspec": {
   "display_name": "Python 3 (ipykernel)",
   "language": "python",
   "name": "python3"
  },
  "language_info": {
   "codemirror_mode": {
    "name": "ipython",
    "version": 3
   },
   "file_extension": ".py",
   "mimetype": "text/x-python",
   "name": "python",
   "nbconvert_exporter": "python",
   "pygments_lexer": "ipython3",
   "version": "3.10.11"
  },
  "papermill": {
   "default_parameters": {},
   "duration": 382.404446,
   "end_time": "2023-10-29T20:32:13.566016",
   "environment_variables": {},
   "exception": null,
   "input_path": "03_entrenamiento.ipynb",
   "output_path": "ejecuciones/training/03_entrenamiento.20231029T212550.param_0000_8270_bin_s_RF_LR_L1.output.ipynb",
   "parameters": {
    "MAX_ITERS": 500,
    "M_CLASIF": "LR_L1",
    "M_FICHERO": "metricas_8270",
    "M_SELECT": "RF",
    "M_TIPO": "bin_s",
    "PRE_DATA_FILE": "rows_transpose_norm_by_gene_id_with_target_num_",
    "P_FICHERO": "param_0000_8270_bin_s_RF_LR_L1.yaml",
    "R_FICHERO": "resultados_8270",
    "SCORING": "roc_auc_ovr",
    "SEMILLA": 8270,
    "eval_clasifier": "LogisticRegressionCV(random_state=SEMILLA)",
    "eval_selector": "SelectFromModel(estimator=RandomForestClassifier(random_state=SEMILLA), threshold=-np.inf)",
    "param_distributions": {
     "clasifier__max_iter": [
      10000
     ],
     "clasifier__penalty": [
      "l1"
     ],
     "clasifier__solver": [
      "saga"
     ],
     "selector__estimator__n_estimators": [
      100
     ],
     "selector__max_features": [
      1000
     ]
    }
   },
   "start_time": "2023-10-29T20:25:51.161570",
   "version": "2.4.0"
  }
 },
 "nbformat": 4,
 "nbformat_minor": 5
}