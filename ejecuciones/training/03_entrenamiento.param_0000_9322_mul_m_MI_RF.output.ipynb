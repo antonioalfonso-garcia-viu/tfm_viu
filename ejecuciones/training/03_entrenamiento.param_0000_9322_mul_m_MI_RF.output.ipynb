{
 "cells": [
  {
   "cell_type": "markdown",
   "id": "77bfa32a",
   "metadata": {
    "papermill": {
     "duration": 0.00566,
     "end_time": "2023-10-30T04:58:06.007044",
     "exception": false,
     "start_time": "2023-10-30T04:58:06.001384",
     "status": "completed"
    },
    "tags": []
   },
   "source": [
    "##### Inicio"
   ]
  },
  {
   "cell_type": "markdown",
   "id": "d6a463b6",
   "metadata": {
    "papermill": {
     "duration": 0.003389,
     "end_time": "2023-10-30T04:58:06.014224",
     "exception": false,
     "start_time": "2023-10-30T04:58:06.010835",
     "status": "completed"
    },
    "tags": []
   },
   "source": [
    "#### Carga de datos"
   ]
  },
  {
   "cell_type": "code",
   "execution_count": 1,
   "id": "9cb54940",
   "metadata": {
    "execution": {
     "iopub.execute_input": "2023-10-30T04:58:06.022667Z",
     "iopub.status.busy": "2023-10-30T04:58:06.022278Z",
     "iopub.status.idle": "2023-10-30T04:58:07.132387Z",
     "shell.execute_reply": "2023-10-30T04:58:07.131691Z"
    },
    "papermill": {
     "duration": 1.116455,
     "end_time": "2023-10-30T04:58:07.134079",
     "exception": false,
     "start_time": "2023-10-30T04:58:06.017624",
     "status": "completed"
    },
    "tags": []
   },
   "outputs": [
    {
     "name": "stdout",
     "output_type": "stream",
     "text": [
      "CPU_COUNT: 16; NODE: enderlab; sys.version: 3.10.11 (main, May 16 2023, 00:28:57) [GCC 11.2.0]\n",
      "LOKY_MAX_CPU_COUNT is not set.\n",
      "OMP_NUM_THREADS is not set.\n"
     ]
    }
   ],
   "source": [
    "import os\n",
    "import numpy as np\n",
    "import pandas as pd\n",
    "import datetime\n",
    "import sklearn\n",
    "import logging\n",
    "import warnings\n",
    "\n",
    "from sklearn.pipeline import Pipeline\n",
    "from sklearn.model_selection import RandomizedSearchCV, KFold, cross_val_score, train_test_split\n",
    "from sklearn.metrics import accuracy_score, confusion_matrix, classification_report, roc_auc_score\n",
    "\n",
    "#  cargar algoritmos para aprendizaje supervisado\n",
    "from sklearn.feature_selection import SelectKBest, f_classif, SelectFromModel, mutual_info_classif\n",
    "from sklearn.svm import SVC\n",
    "from sklearn.ensemble import RandomForestClassifier\n",
    "from sklearn.linear_model import LogisticRegression,LogisticRegressionCV\n",
    "\n",
    "# importar fichero con utilidades propias\n",
    "from commons import myfunctions as myfunc\n"
   ]
  },
  {
   "cell_type": "markdown",
   "id": "a0446780",
   "metadata": {
    "papermill": {
     "duration": 0.003733,
     "end_time": "2023-10-30T04:58:07.142326",
     "exception": false,
     "start_time": "2023-10-30T04:58:07.138593",
     "status": "completed"
    },
    "tags": []
   },
   "source": [
    "#### Parámetros a utilizar en el entrenamiento.\n",
    "\n",
    "Se indican los 3 algoritmos de *selección de características* (eval_selector_xxx) y los 3 algoritmos para la _clasificación_ (eval_clasifier_xxx)\n",
    "\n",
    "En *param_distributions* se indicar los parámetros que utilizan los algoritmos en la función RandomSearchCV.\n",
    "\n",
    "Esta celda tiene la etiqueta **parameters** que servirá para poder lanzar los entrenamientos con la utilidad **papermill** pasándole un fichero con los parámetros. Los nuevos parámetros se situarán tras esta celda para tener prevalencia."
   ]
  },
  {
   "cell_type": "code",
   "execution_count": 2,
   "id": "df056165",
   "metadata": {
    "execution": {
     "iopub.execute_input": "2023-10-30T04:58:07.151325Z",
     "iopub.status.busy": "2023-10-30T04:58:07.150767Z",
     "iopub.status.idle": "2023-10-30T04:58:07.159551Z",
     "shell.execute_reply": "2023-10-30T04:58:07.158987Z"
    },
    "papermill": {
     "duration": 0.014918,
     "end_time": "2023-10-30T04:58:07.160869",
     "exception": false,
     "start_time": "2023-10-30T04:58:07.145951",
     "status": "completed"
    },
    "tags": [
     "parameters"
    ]
   },
   "outputs": [
    {
     "name": "stdout",
     "output_type": "stream",
     "text": [
      "20231030T055807 : enderlab : INFO : Utilizando parámetros de mul_m\n"
     ]
    }
   ],
   "source": [
    "#  Parametros para el entrenamiento\n",
    "\n",
    "SEMILLA=        42\n",
    "M_TIPO=         \"mul_m\"\n",
    "M_SELECT=       \"MI\"\n",
    "M_CLASIF=       \"SVM\"\n",
    "R_FICHERO=      \"resultados\"\n",
    "M_FICHERO=      \"metricas\"\n",
    "PRE_DATA_FILE=  \"rows_transpose_norm_by_gene_id_with_target_num_\"\n",
    "SCORING=        \"roc_auc_ovr\" \n",
    "MAX_ITERS=      100\n",
    "\n",
    "def mutual_info_classif_state(X, y):\n",
    "    return mutual_info_classif(X, y, random_state=SEMILLA)\n",
    "\n",
    "eval_selector_mi = \"SelectKBest(score_func=mutual_info_classif_state)\"\n",
    "eval_selector_rf=  \"SelectFromModel(estimator=RandomForestClassifier(random_state=SEMILLA), threshold=-np.inf)\"\n",
    "eval_selector_anova=  \"SelectKBest(score_func=f_classif)\"\n",
    "\n",
    "eval_clasifier_svm= \"SVC(probability=True, random_state=SEMILLA)\"\n",
    "eval_clasifier_rf= \"RandomForestClassifier(random_state=SEMILLA)\"\n",
    "eval_clasifier_lr= \"LogisticRegressionCV(random_state=SEMILLA)\"\n",
    "\n",
    "if M_TIPO.startswith(\"bin_m\"):\n",
    "    myfunc.verbose(f\"Utilizando parámetros de {M_TIPO}\")\n",
    "    eval_selector = eval_selector_mi\n",
    "    eval_clasifier = eval_clasifier_svm\n",
    "\n",
    "    SEMILLA = 6578\n",
    "    M_SELECT = \"MI\"\n",
    "    M_CLASIF = \"SVM\"\n",
    "    param_distributions = {'selector__k': [1000], \n",
    "         'clasifier__kernel': ['rbf'], 'clasifier__gamma': [0.01], 'clasifier__C': [100]}\n",
    "elif M_TIPO.startswith(\"bin_s\"):\n",
    "    myfunc.verbose(f\"Utilizando parámetros de {M_TIPO}\")\n",
    "    eval_selector = eval_selector_rf\n",
    "    eval_clasifier = eval_clasifier_lr\n",
    "\n",
    "    SEMILLA = 6191\n",
    "    M_SELECT = \"RF\"\n",
    "    M_CLASIF = \"LR_L2\"\n",
    "    param_distributions = {'selector__max_features': [1000], 'selector__estimator__n_estimators': [200], \n",
    "        'clasifier__solver': ['lbfgs'], 'clasifier__penalty': ['l2'], 'clasifier__max_iter': [10000]}\n",
    "\n",
    "elif M_TIPO.startswith(\"mul_m\"):\n",
    "    myfunc.verbose(f\"Utilizando parámetros de {M_TIPO}\")\n",
    " \n",
    "    eval_selector = eval_selector_rf\n",
    "    eval_clasifier = eval_clasifier_lr\n",
    "\n",
    "    SEMILLA = 6191\n",
    "    M_SELECT = \"RF\"\n",
    "    M_CLASIF = \"LR_L2\"\n",
    "    param_distributions = {'selector__max_features': [1000], 'selector__estimator__n_estimators': [400], \n",
    "        'clasifier__solver': ['lbfgs'], 'clasifier__penalty': ['l2'], 'clasifier__max_iter': [10000]}\n",
    "\n",
    "else:\n",
    "    # M_TIPO.startswith(\"mul_s\"):\n",
    "    myfunc.verbose(f\"Utilizando parámetros de {M_TIPO}\")\n",
    "    eval_selector = eval_selector_anova\n",
    "    eval_clasifier = eval_clasifier_lr\n",
    "\n",
    "    SEMILLA = 1860\n",
    "    M_SELECT = \"ANOVA\"\n",
    "    M_CLASIF = \"LR_L2\"\n",
    "    param_distributions = {'selector__k': [1000], \n",
    "        'clasifier__solver': ['saga'], 'clasifier__penalty': ['l2'], 'clasifier__max_iter': [10000]}\n",
    "\n"
   ]
  },
  {
   "cell_type": "code",
   "execution_count": 3,
   "id": "e617752c",
   "metadata": {
    "execution": {
     "iopub.execute_input": "2023-10-30T04:58:07.169468Z",
     "iopub.status.busy": "2023-10-30T04:58:07.169042Z",
     "iopub.status.idle": "2023-10-30T04:58:07.173197Z",
     "shell.execute_reply": "2023-10-30T04:58:07.172648Z"
    },
    "papermill": {
     "duration": 0.009802,
     "end_time": "2023-10-30T04:58:07.174425",
     "exception": false,
     "start_time": "2023-10-30T04:58:07.164623",
     "status": "completed"
    },
    "tags": [
     "injected-parameters"
    ]
   },
   "outputs": [],
   "source": [
    "# Parameters\n",
    "M_TIPO = \"mul_m\"\n",
    "M_SELECT = \"MI\"\n",
    "M_CLASIF = \"RF\"\n",
    "P_FICHERO = \"param_0000_9322_mul_m_MI_RF.yaml\"\n",
    "R_FICHERO = \"resultados_9322\"\n",
    "M_FICHERO = \"metricas_9322\"\n",
    "PRE_DATA_FILE = \"rows_transpose_norm_by_gene_id_with_target_num_\"\n",
    "SCORING = \"roc_auc_ovr\"\n",
    "SEMILLA = 9322\n",
    "MAX_ITERS = 500\n",
    "eval_selector = \"SelectKBest(score_func=mutual_info_classif_state)\"\n",
    "eval_clasifier = \"RandomForestClassifier(random_state=SEMILLA)\"\n",
    "param_distributions = {\n",
    "    \"selector__k\": [1000],\n",
    "    \"clasifier__n_estimators\": [200],\n",
    "    \"clasifier__min_samples_split\": [10],\n",
    "    \"clasifier__min_samples_leaf\": [5],\n",
    "    \"clasifier__max_features\": [500],\n",
    "    \"clasifier__max_depth\": [10],\n",
    "    \"clasifier__bootstrap\": [True],\n",
    "}\n"
   ]
  },
  {
   "cell_type": "code",
   "execution_count": 4,
   "id": "d3432347",
   "metadata": {
    "execution": {
     "iopub.execute_input": "2023-10-30T04:58:07.182940Z",
     "iopub.status.busy": "2023-10-30T04:58:07.182473Z",
     "iopub.status.idle": "2023-10-30T04:58:07.185930Z",
     "shell.execute_reply": "2023-10-30T04:58:07.185350Z"
    },
    "papermill": {
     "duration": 0.009235,
     "end_time": "2023-10-30T04:58:07.187218",
     "exception": false,
     "start_time": "2023-10-30T04:58:07.177983",
     "status": "completed"
    },
    "tags": []
   },
   "outputs": [],
   "source": [
    "DATA_FILE = PRE_DATA_FILE + M_TIPO\n",
    "\n",
    "# si viene \"None\" en el parámetro max_depth, se le quitan las comillas para que no sea entendido por el algoritmo como un texto\n",
    "if \"clasifier__max_depth\" in param_distributions:\n",
    "    param_distributions['clasifier__max_depth'] = [None if x == 'None' else x for x in param_distributions['clasifier__max_depth']]"
   ]
  },
  {
   "cell_type": "markdown",
   "id": "1a6e9dcf",
   "metadata": {
    "papermill": {
     "duration": 0.003699,
     "end_time": "2023-10-30T04:58:07.194535",
     "exception": false,
     "start_time": "2023-10-30T04:58:07.190836",
     "status": "completed"
    },
    "tags": []
   },
   "source": [
    "Asignar los algoritmos que se utilizarán en la función RandomSearchCV"
   ]
  },
  {
   "cell_type": "code",
   "execution_count": 5,
   "id": "1854b153",
   "metadata": {
    "execution": {
     "iopub.execute_input": "2023-10-30T04:58:07.202855Z",
     "iopub.status.busy": "2023-10-30T04:58:07.202463Z",
     "iopub.status.idle": "2023-10-30T04:58:07.205370Z",
     "shell.execute_reply": "2023-10-30T04:58:07.204831Z"
    },
    "papermill": {
     "duration": 0.008318,
     "end_time": "2023-10-30T04:58:07.206552",
     "exception": false,
     "start_time": "2023-10-30T04:58:07.198234",
     "status": "completed"
    },
    "tags": []
   },
   "outputs": [],
   "source": [
    "algor_selector=eval(eval_selector)\n",
    "algor_clasifier=eval(eval_clasifier)"
   ]
  },
  {
   "cell_type": "markdown",
   "id": "87b64b0b",
   "metadata": {
    "papermill": {
     "duration": 0.003616,
     "end_time": "2023-10-30T04:58:07.213711",
     "exception": false,
     "start_time": "2023-10-30T04:58:07.210095",
     "status": "completed"
    },
    "tags": []
   },
   "source": [
    "#### Comprobar el entorno y leer fichero de muestras"
   ]
  },
  {
   "cell_type": "code",
   "execution_count": 6,
   "id": "e42e61cf",
   "metadata": {
    "execution": {
     "iopub.execute_input": "2023-10-30T04:58:07.222225Z",
     "iopub.status.busy": "2023-10-30T04:58:07.221749Z",
     "iopub.status.idle": "2023-10-30T04:58:07.452207Z",
     "shell.execute_reply": "2023-10-30T04:58:07.451541Z"
    },
    "papermill": {
     "duration": 0.236231,
     "end_time": "2023-10-30T04:58:07.453534",
     "exception": false,
     "start_time": "2023-10-30T04:58:07.217303",
     "status": "completed"
    },
    "tags": []
   },
   "outputs": [
    {
     "name": "stdout",
     "output_type": "stream",
     "text": [
      "20231030T055807 : enderlab : INFO : Encontrada carpeta DATA_DIR=../tfm_git/datos\n",
      "20231030T055807 : enderlab : INFO : Encontrada carpeta CFDNA_DIR=../tfm_git/datos/cfDNA_5hmC\n",
      "20231030T055807 : enderlab : INFO : Encontrada carpeta GENCODE_DIR=../tfm_git/datos/gencode\n",
      "20231030T055807 : enderlab : INFO : Encontrada carpeta H5_DIR=../tfm_git/datos/h5\n",
      "20231030T055807 : enderlab : INFO : Encontrada carpeta LOG_DIR=../tfm_git/datos/logs\n",
      "20231030T055807 : enderlab : INFO : Encontrada carpeta CSV_DIR=../tfm_git/datos/csv\n",
      "20231030T055807 : enderlab : INFO : Encontrada carpeta MODEL_DIR=../tfm_git/ejecuciones/modelos\n",
      "20231030T055807 : enderlab : INFO : Encontrada carpeta EXEC_DIR=../tfm_git/ejecuciones\n",
      "20231030T055807 : enderlab : INFO : Encontrada carpeta MET_DIR=../tfm_git/ejecuciones/metricas\n",
      "20231030T055807 : enderlab : INFO : Inicio leer fichero h5 ../tfm_git/datos/h5/rows_transpose_norm_by_gene_id_with_target_num_mul_m.h5\n",
      "20231030T055807 : enderlab : INFO : Leyendo clave /df\n"
     ]
    },
    {
     "name": "stdout",
     "output_type": "stream",
     "text": [
      "20231030T055807 : enderlab : INFO : Tamaño (434, 18876)\n",
      "20231030T055807 : enderlab : INFO : Fin leer fichero h5 ../tfm_git/datos/h5/rows_transpose_norm_by_gene_id_with_target_num_mul_m.h5\n"
     ]
    },
    {
     "data": {
      "text/plain": [
       "target\n",
       "0    62\n",
       "1    62\n",
       "2    62\n",
       "3    62\n",
       "4    62\n",
       "5    62\n",
       "6    62\n",
       "dtype: int64"
      ]
     },
     "metadata": {},
     "output_type": "display_data"
    },
    {
     "name": "stdout",
     "output_type": "stream",
     "text": [
      "Shape df: (434, 18876)\n"
     ]
    },
    {
     "name": "stdout",
     "output_type": "stream",
     "text": [
      "Shape X_train: (347, 18875)\n",
      "Shape X_test: (87, 18875)\n"
     ]
    }
   ],
   "source": [
    "start_time = datetime.datetime.now()\n",
    "\n",
    "myfunc.reset_vars()\n",
    "\n",
    "myfunc.NOTEBK_FILENAME = myfunc.get_nb_name()\n",
    "\n",
    "myfunc.check_enviroment(myfunc.DATA_DIR, myfunc.CFDNA_DIR, myfunc.GENCODE_DIR, myfunc.H5_DIR, myfunc.LOG_DIR, myfunc.CSV_DIR, myfunc.MODEL_DIR, myfunc.EXEC_DIR, myfunc.MET_DIR)\n",
    "\n",
    "# Leer fichero con las muestras\n",
    "df_t = myfunc.read_h5_to_df(DATA_FILE, myfunc.H5_DIR)\n",
    "display(df_t.groupby(\"target\").size())\n",
    "print(\"Shape df:\",df_t.shape)\n",
    "\n",
    "# Separar caracteristicas/genes de las etiquetas/tipos de cáncer\n",
    "X = df_t.iloc[:, :-1]  # Todas las columnas excepto la última\n",
    "y = df_t.iloc[:, -1]  # La última columna contiene los identificadores de los tipos de cáncer\n",
    "\n",
    "#  Crear el conjunto de datos de entrenamiento y de pruebas, y se fija la semilla para siempre coger el mismo juego de muestras\n",
    "X_train, X_test, y_train, y_test = train_test_split(X, y, test_size=0.2, shuffle=True, random_state=42)\n",
    "print(\"Shape X_train:\",X_train.shape)\n",
    "print(\"Shape X_test:\",X_test.shape)\n"
   ]
  },
  {
   "cell_type": "markdown",
   "id": "6393e396",
   "metadata": {
    "papermill": {
     "duration": 0.004115,
     "end_time": "2023-10-30T04:58:07.462788",
     "exception": false,
     "start_time": "2023-10-30T04:58:07.458673",
     "status": "completed"
    },
    "tags": []
   },
   "source": [
    "#### Selección de características y clasificación."
   ]
  },
  {
   "cell_type": "code",
   "execution_count": 7,
   "id": "8546adc4",
   "metadata": {
    "execution": {
     "iopub.execute_input": "2023-10-30T04:58:07.472083Z",
     "iopub.status.busy": "2023-10-30T04:58:07.471513Z",
     "iopub.status.idle": "2023-10-30T05:02:16.490287Z",
     "shell.execute_reply": "2023-10-30T05:02:16.489461Z"
    },
    "papermill": {
     "duration": 249.029239,
     "end_time": "2023-10-30T05:02:16.495951",
     "exception": false,
     "start_time": "2023-10-30T04:58:07.466712",
     "status": "completed"
    },
    "tags": []
   },
   "outputs": [
    {
     "name": "stdout",
     "output_type": "stream",
     "text": [
      "20231030T055807 : enderlab : INFO : Iniciando entrenamiento\n",
      "num_iter: 1 , max_iter: 1\n",
      "Fitting 5 folds for each of 1 candidates, totalling 5 fits\n"
     ]
    },
    {
     "name": "stdout",
     "output_type": "stream",
     "text": [
      "Mejores Hiperparámetros: {'selector__k': 1000, 'clasifier__n_estimators': 200, 'clasifier__min_samples_split': 10, 'clasifier__min_samples_leaf': 5, 'clasifier__max_features': 500, 'clasifier__max_depth': 10, 'clasifier__bootstrap': True}\n",
      "Mejor Puntuación: 0.8120\n",
      "20231030T060216 : enderlab : INFO : Fin entrenamiento\n"
     ]
    }
   ],
   "source": [
    "myfunc.verbose(\"Iniciando entrenamiento\")\n",
    "\n",
    "kf = KFold(n_splits=5, shuffle=True, random_state=SEMILLA)\n",
    "\n",
    "# Crear el pipeline para el flujo de tareas\n",
    "tasks_pipeline = Pipeline([\n",
    "    ('selector', algor_selector),\n",
    "    ('clasifier', algor_clasifier)\n",
    "])\n",
    "\n",
    "# MAX_ITERS puede limitar el número de iteraciones si son excesivas para las combinaciones de parámetros buscando un óptimo local, \n",
    "# sino funcionaría como GridSearchCV al revisar todas las cominaciones de los parámetros\n",
    "num_iteraciones = 1\n",
    "num_iteraciones = num_iteraciones * np.prod([len(elemento1) for _, elemento1 in param_distributions.items()])\n",
    "max_iteraciones = num_iteraciones if num_iteraciones <= MAX_ITERS else MAX_ITERS\n",
    "print(\"num_iter:\",num_iteraciones,\", max_iter:\",max_iteraciones)\n",
    "\n",
    "random_search = RandomizedSearchCV(\n",
    "    tasks_pipeline, \n",
    "    param_distributions, \n",
    "    n_iter=max_iteraciones,\n",
    "    scoring=SCORING,\n",
    "    cv=kf,\n",
    "    verbose=3, \n",
    "    random_state=SEMILLA, \n",
    "    n_jobs=-1\n",
    "    )\n",
    "\n",
    "# Entrenar el modelo\n",
    "random_search.fit(X_train, y_train)\n",
    "\n",
    "# Ver los mejores hiperparámetros encontrados\n",
    "print(f'Mejores Hiperparámetros: {random_search.best_params_}')\n",
    "print(f'Mejor Puntuación: {random_search.best_score_:.4f}')\n",
    "\n",
    "# Nos quedamos con el mejor modelo para ver las métricas\n",
    "mejor_modelo = random_search.best_estimator_\n",
    "\n",
    "myfunc.verbose(\"Fin entrenamiento\")"
   ]
  },
  {
   "cell_type": "markdown",
   "id": "c552d662",
   "metadata": {
    "papermill": {
     "duration": 0.00408,
     "end_time": "2023-10-30T05:02:16.504396",
     "exception": false,
     "start_time": "2023-10-30T05:02:16.500316",
     "status": "completed"
    },
    "tags": []
   },
   "source": [
    "#### Guardar modelo"
   ]
  },
  {
   "cell_type": "code",
   "execution_count": 8,
   "id": "d5cadcf3",
   "metadata": {
    "execution": {
     "iopub.execute_input": "2023-10-30T05:02:16.514649Z",
     "iopub.status.busy": "2023-10-30T05:02:16.514115Z",
     "iopub.status.idle": "2023-10-30T05:02:16.593406Z",
     "shell.execute_reply": "2023-10-30T05:02:16.592800Z"
    },
    "papermill": {
     "duration": 0.086286,
     "end_time": "2023-10-30T05:02:16.594687",
     "exception": false,
     "start_time": "2023-10-30T05:02:16.508401",
     "status": "completed"
    },
    "tags": []
   },
   "outputs": [
    {
     "name": "stdout",
     "output_type": "stream",
     "text": [
      "20231030T060216 : enderlab : INFO : Inicio guardar fichero ../tfm_git/ejecuciones/modelos/modelo_9322_mul_m_MI_RF.pkl\n",
      "20231030T060216 : enderlab : INFO : Fin guardar fichero ../tfm_git/ejecuciones/modelos/modelo_9322_mul_m_MI_RF.pkl\n"
     ]
    }
   ],
   "source": [
    "fichero_modelo = str.replace(\"modelo_\"+str(SEMILLA).zfill(4)+\"_\"+M_TIPO+\"_\"+M_SELECT+\"_\"+M_CLASIF+\".pkl\", \" \", \"_\")\n",
    "\n",
    "myfunc.save_modelo(mejor_modelo, myfunc.MODEL_DIR, fichero_modelo)"
   ]
  },
  {
   "cell_type": "markdown",
   "id": "349ec51a",
   "metadata": {
    "papermill": {
     "duration": 0.004661,
     "end_time": "2023-10-30T05:02:16.605074",
     "exception": false,
     "start_time": "2023-10-30T05:02:16.600413",
     "status": "completed"
    },
    "tags": []
   },
   "source": [
    "#### Ver resultados del las iteraciones hechas por RandomSearchCV"
   ]
  },
  {
   "cell_type": "code",
   "execution_count": 9,
   "id": "3e45f436",
   "metadata": {
    "execution": {
     "iopub.execute_input": "2023-10-30T05:02:16.615122Z",
     "iopub.status.busy": "2023-10-30T05:02:16.614586Z",
     "iopub.status.idle": "2023-10-30T05:02:16.621377Z",
     "shell.execute_reply": "2023-10-30T05:02:16.620831Z"
    },
    "papermill": {
     "duration": 0.013331,
     "end_time": "2023-10-30T05:02:16.622645",
     "exception": false,
     "start_time": "2023-10-30T05:02:16.609314",
     "status": "completed"
    },
    "tags": []
   },
   "outputs": [
    {
     "name": "stdout",
     "output_type": "stream",
     "text": [
      "20231030T060216 : enderlab : INFO : Inicio ver resultados\n",
      "Mejores Hiperparámetros: {'selector__k': 1000, 'clasifier__n_estimators': 200, 'clasifier__min_samples_split': 10, 'clasifier__min_samples_leaf': 5, 'clasifier__max_features': 500, 'clasifier__max_depth': 10, 'clasifier__bootstrap': True}\n",
      "Mejores puntuaciones: 0.8120 | Params: {'selector__k': 1000, 'clasifier__n_estimators': 200, 'clasifier__min_samples_split': 10, 'clasifier__min_samples_leaf': 5, 'clasifier__max_features': 500, 'clasifier__max_depth': 10, 'clasifier__bootstrap': True}\n",
      "Media de las puntuaciones: 0.8120 | Params: {'selector__k': 1000, 'clasifier__n_estimators': 200, 'clasifier__min_samples_split': 10, 'clasifier__min_samples_leaf': 5, 'clasifier__max_features': 500, 'clasifier__max_depth': 10, 'clasifier__bootstrap': True}\n",
      "20231030T060216 : enderlab : INFO : Fin resultados\n"
     ]
    }
   ],
   "source": [
    "myfunc.ver_resultados_search(random_search)"
   ]
  },
  {
   "cell_type": "markdown",
   "id": "984db8d4",
   "metadata": {
    "papermill": {
     "duration": 0.004344,
     "end_time": "2023-10-30T05:02:16.631297",
     "exception": false,
     "start_time": "2023-10-30T05:02:16.626953",
     "status": "completed"
    },
    "tags": []
   },
   "source": [
    "#### Ver métricas del mejor modelo"
   ]
  },
  {
   "cell_type": "code",
   "execution_count": 10,
   "id": "c12d3a84",
   "metadata": {
    "execution": {
     "iopub.execute_input": "2023-10-30T05:02:16.641012Z",
     "iopub.status.busy": "2023-10-30T05:02:16.640622Z",
     "iopub.status.idle": "2023-10-30T05:02:17.423333Z",
     "shell.execute_reply": "2023-10-30T05:02:17.422752Z"
    },
    "papermill": {
     "duration": 0.789264,
     "end_time": "2023-10-30T05:02:17.424777",
     "exception": false,
     "start_time": "2023-10-30T05:02:16.635513",
     "status": "completed"
    },
    "tags": []
   },
   "outputs": [
    {
     "name": "stdout",
     "output_type": "stream",
     "text": [
      "20231030T060216 : enderlab : INFO : Inicio ver métricas multiclase\n"
     ]
    },
    {
     "name": "stdout",
     "output_type": "stream",
     "text": [
      "              precision    recall  f1-score   support\n",
      "\n",
      "           0       0.50      0.19      0.27        16\n",
      "           1       0.56      0.60      0.58        15\n",
      "           2       0.50      0.36      0.42        11\n",
      "           3       0.24      0.80      0.36         5\n",
      "           4       0.40      0.62      0.48        13\n",
      "           5       0.60      0.33      0.43         9\n",
      "           6       0.60      0.50      0.55        18\n",
      "\n",
      "    accuracy                           0.46        87\n",
      "   macro avg       0.49      0.49      0.44        87\n",
      "weighted avg       0.51      0.46      0.45        87\n",
      "\n",
      "\n",
      "\n",
      "           Exactitud: 0.459770\n",
      "   Precisión (media): 0.485399\n",
      "      Recall (media): 0.485693\n",
      "    F1-score (media): 0.442419\n",
      "\n",
      "\n"
     ]
    },
    {
     "name": "stdout",
     "output_type": "stream",
     "text": [
      "AUC para el tipo de cáncer 0-Control.... 0.5713\n",
      "AUC para el tipo de cáncer 1-Bladder.... 0.8435\n",
      "AUC para el tipo de cáncer 2-Breast..... 0.7225\n",
      "AUC para el tipo de cáncer 3-Colorectal. 0.8756\n",
      "AUC para el tipo de cáncer 4-Kidney..... 0.8222\n",
      "AUC para el tipo de cáncer 5-Lung....... 0.8048\n",
      "AUC para el tipo de cáncer 6-Prostate... 0.8374\n",
      "\n",
      "Media de AUC: 0.7825\n"
     ]
    },
    {
     "data": {
      "image/png": "[encoded data removed]",
      "text/plain": [
       "<Figure size 1000x600 with 1 Axes>"
      ]
     },
     "metadata": {},
     "output_type": "display_data"
    },
    {
     "name": "stdout",
     "output_type": "stream",
     "text": [
      "\n",
      "\n"
     ]
    },
    {
     "data": {
      "image/png": "[encoded data removed]",
      "text/plain": [
       "<Figure size 800x400 with 2 Axes>"
      ]
     },
     "metadata": {},
     "output_type": "display_data"
    },
    {
     "name": "stdout",
     "output_type": "stream",
     "text": [
      "\n",
      "\n",
      "Puntuación Jaccard para el cáncer tipo 0-Control.... 0.1579\n",
      "Puntuación Jaccard para el cáncer tipo 1-Bladder.... 0.4091\n",
      "Puntuación Jaccard para el cáncer tipo 2-Breast..... 0.2667\n",
      "Puntuación Jaccard para el cáncer tipo 3-Colorectal. 0.2222\n",
      "Puntuación Jaccard para el cáncer tipo 4-Kidney..... 0.3200\n",
      "Puntuación Jaccard para el cáncer tipo 5-Lung....... 0.2727\n",
      "Puntuación Jaccard para el cáncer tipo 6-Prostate... 0.3750\n",
      "\n",
      "Media de la puntuación de Jaccard: 0.2891\n"
     ]
    }
   ],
   "source": [
    "if M_TIPO.startswith(\"bin\"):\n",
    "    myfunc.ver_metricas(mejor_modelo, X_test, y_test)\n",
    "else:\n",
    "    myfunc.ver_metricas_multi(mejor_modelo, X_test, y_test)\n"
   ]
  },
  {
   "cell_type": "markdown",
   "id": "2284d64a",
   "metadata": {
    "papermill": {
     "duration": 0.005955,
     "end_time": "2023-10-30T05:02:17.437323",
     "exception": false,
     "start_time": "2023-10-30T05:02:17.431368",
     "status": "completed"
    },
    "tags": []
   },
   "source": [
    "#### Finalización del notebook"
   ]
  },
  {
   "cell_type": "code",
   "execution_count": 11,
   "id": "6fd1e70f",
   "metadata": {
    "execution": {
     "iopub.execute_input": "2023-10-30T05:02:17.450392Z",
     "iopub.status.busy": "2023-10-30T05:02:17.449770Z",
     "iopub.status.idle": "2023-10-30T05:02:17.453618Z",
     "shell.execute_reply": "2023-10-30T05:02:17.453062Z"
    },
    "papermill": {
     "duration": 0.011811,
     "end_time": "2023-10-30T05:02:17.454882",
     "exception": false,
     "start_time": "2023-10-30T05:02:17.443071",
     "status": "completed"
    },
    "tags": []
   },
   "outputs": [
    {
     "name": "stdout",
     "output_type": "stream",
     "text": [
      "20231030T060217 : enderlab : INFO : Notebook ha tardado 250 seconds\n"
     ]
    }
   ],
   "source": [
    "end_time = datetime.datetime.now()\n",
    "total_time = end_time - start_time\n",
    "myfunc.verbose(f\"Notebook ha tardado {total_time.seconds} seconds\")"
   ]
  },
  {
   "cell_type": "markdown",
   "id": "67121b67",
   "metadata": {
    "papermill": {
     "duration": 0.005766,
     "end_time": "2023-10-30T05:02:17.466469",
     "exception": false,
     "start_time": "2023-10-30T05:02:17.460703",
     "status": "completed"
    },
    "tags": []
   },
   "source": [
    "#### Guardar métricas"
   ]
  },
  {
   "cell_type": "code",
   "execution_count": 12,
   "id": "a38d0964",
   "metadata": {
    "execution": {
     "iopub.execute_input": "2023-10-30T05:02:17.479365Z",
     "iopub.status.busy": "2023-10-30T05:02:17.478988Z",
     "iopub.status.idle": "2023-10-30T05:02:17.755893Z",
     "shell.execute_reply": "2023-10-30T05:02:17.755316Z"
    },
    "papermill": {
     "duration": 0.28478,
     "end_time": "2023-10-30T05:02:17.757177",
     "exception": false,
     "start_time": "2023-10-30T05:02:17.472397",
     "status": "completed"
    },
    "tags": []
   },
   "outputs": [
    {
     "name": "stdout",
     "output_type": "stream",
     "text": [
      "20231030T060217 : enderlab : INFO : Inicio guardar métricas multiclase\n",
      "20231030T060217 : enderlab : INFO : Inicio leer fichero ../tfm_git/ejecuciones/metricas/metricas_9322.csv\n",
      "20231030T060217 : enderlab : INFO : Fin leer fichero ../tfm_git/ejecuciones/metricas/metricas_9322.csv\n"
     ]
    },
    {
     "name": "stdout",
     "output_type": "stream",
     "text": [
      "20231030T060217 : enderlab : INFO : Inicio guardar fichero ../tfm_git/ejecuciones/metricas/metricas_9322.csv\n",
      "20231030T060217 : enderlab : INFO : Fichero borrado ../tfm_git/ejecuciones/metricas/metricas_9322.csv\n",
      "20231030T060217 : enderlab : INFO : Fin guardar fichero ../tfm_git/ejecuciones/metricas/metricas_9322.csv\n",
      "20231030T060217 : enderlab : INFO : Fin guardar métricas multiclase\n",
      "20231030T060217 : enderlab : INFO : Inicio leer fichero ../tfm_git/ejecuciones/metricas/metricas_9322.csv\n",
      "20231030T060217 : enderlab : INFO : Fin leer fichero ../tfm_git/ejecuciones/metricas/metricas_9322.csv\n"
     ]
    },
    {
     "data": {
      "text/html": [
       "<div>\n",
       "<style scoped>\n",
       "    .dataframe tbody tr th:only-of-type {\n",
       "        vertical-align: middle;\n",
       "    }\n",
       "\n",
       "    .dataframe tbody tr th {\n",
       "        vertical-align: top;\n",
       "    }\n",
       "\n",
       "    .dataframe thead th {\n",
       "        text-align: right;\n",
       "    }\n",
       "</style>\n",
       "<table border=\"1\" class=\"dataframe\">\n",
       "  <thead>\n",
       "    <tr style=\"text-align: right;\">\n",
       "      <th></th>\n",
       "      <th>tipo</th>\n",
       "      <th>select</th>\n",
       "      <th>clasific</th>\n",
       "      <th>semilla</th>\n",
       "      <th>accuracy</th>\n",
       "      <th>precision</th>\n",
       "      <th>recall</th>\n",
       "      <th>f1_score</th>\n",
       "      <th>roc_auc</th>\n",
       "      <th>hostname</th>\n",
       "      <th>total_time_sec</th>\n",
       "      <th>datetime</th>\n",
       "      <th>fichero_modelo</th>\n",
       "      <th>params</th>\n",
       "      <th>shape</th>\n",
       "      <th>features</th>\n",
       "      <th>roc_auc_ovr</th>\n",
       "      <th>indices_auc</th>\n",
       "      <th>indices_jaccard</th>\n",
       "    </tr>\n",
       "  </thead>\n",
       "  <tbody>\n",
       "    <tr>\n",
       "      <th>0</th>\n",
       "      <td>mul_m</td>\n",
       "      <td>MI</td>\n",
       "      <td>RF</td>\n",
       "      <td>9322</td>\n",
       "      <td>0.459770</td>\n",
       "      <td>0.485399</td>\n",
       "      <td>0.485693</td>\n",
       "      <td>0.442419</td>\n",
       "      <td>NaN</td>\n",
       "      <td>enderlab</td>\n",
       "      <td>250</td>\n",
       "      <td>2023-10-30 06:02:17.710654</td>\n",
       "      <td>modelo_9322_mul_m_MI_RF.pkl</td>\n",
       "      <td>{'selector__k': 1000, 'clasifier__n_estimators...</td>\n",
       "      <td>X_test:(87, 18875)</td>\n",
       "      <td>['ENSG00000001084.13', 'ENSG00000001460.18', '...</td>\n",
       "      <td>0.782481</td>\n",
       "      <td>[0.5713028169014084, 0.8435185185185186, 0.722...</td>\n",
       "      <td>[0.15789473684210525, 0.4090909090909091, 0.26...</td>\n",
       "    </tr>\n",
       "    <tr>\n",
       "      <th>0</th>\n",
       "      <td>mul_m</td>\n",
       "      <td>MI</td>\n",
       "      <td>LR_L2</td>\n",
       "      <td>9322</td>\n",
       "      <td>0.574713</td>\n",
       "      <td>0.573376</td>\n",
       "      <td>0.593706</td>\n",
       "      <td>0.575835</td>\n",
       "      <td>NaN</td>\n",
       "      <td>enderlab</td>\n",
       "      <td>251</td>\n",
       "      <td>2023-10-30 05:58:00.501950</td>\n",
       "      <td>modelo_9322_mul_m_MI_LR_L2.pkl</td>\n",
       "      <td>{'selector__k': 1000, 'clasifier__solver': 'lb...</td>\n",
       "      <td>X_test:(87, 18875)</td>\n",
       "      <td>['ENSG00000001084.13', 'ENSG00000001460.18', '...</td>\n",
       "      <td>0.884245</td>\n",
       "      <td>[0.8855633802816901, 0.8629629629629629, 0.820...</td>\n",
       "      <td>[0.38095238095238093, 0.35, 0.2105263157894736...</td>\n",
       "    </tr>\n",
       "    <tr>\n",
       "      <th>0</th>\n",
       "      <td>mul_m</td>\n",
       "      <td>MI</td>\n",
       "      <td>LR_L1</td>\n",
       "      <td>9322</td>\n",
       "      <td>0.574713</td>\n",
       "      <td>0.572149</td>\n",
       "      <td>0.592241</td>\n",
       "      <td>0.571983</td>\n",
       "      <td>NaN</td>\n",
       "      <td>enderlab</td>\n",
       "      <td>1557</td>\n",
       "      <td>2023-10-30 05:53:42.276140</td>\n",
       "      <td>modelo_9322_mul_m_MI_LR_L1.pkl</td>\n",
       "      <td>{'selector__k': 1000, 'clasifier__solver': 'sa...</td>\n",
       "      <td>X_test:(87, 18875)</td>\n",
       "      <td>['ENSG00000001084.13', 'ENSG00000001460.18', '...</td>\n",
       "      <td>0.891310</td>\n",
       "      <td>[0.9066901408450704, 0.8777777777777778, 0.807...</td>\n",
       "      <td>[0.4, 0.4, 0.2222222222222222, 0.4, 0.4, 0.545...</td>\n",
       "    </tr>\n",
       "  </tbody>\n",
       "</table>\n",
       "</div>"
      ],
      "text/plain": [
       "    tipo select clasific  semilla  accuracy  precision    recall  f1_score  \\\n",
       "0  mul_m     MI       RF     9322  0.459770   0.485399  0.485693  0.442419   \n",
       "0  mul_m     MI    LR_L2     9322  0.574713   0.573376  0.593706  0.575835   \n",
       "0  mul_m     MI    LR_L1     9322  0.574713   0.572149  0.592241  0.571983   \n",
       "\n",
       "   roc_auc  hostname  total_time_sec                    datetime  \\\n",
       "0      NaN  enderlab             250  2023-10-30 06:02:17.710654   \n",
       "0      NaN  enderlab             251  2023-10-30 05:58:00.501950   \n",
       "0      NaN  enderlab            1557  2023-10-30 05:53:42.276140   \n",
       "\n",
       "                   fichero_modelo  \\\n",
       "0     modelo_9322_mul_m_MI_RF.pkl   \n",
       "0  modelo_9322_mul_m_MI_LR_L2.pkl   \n",
       "0  modelo_9322_mul_m_MI_LR_L1.pkl   \n",
       "\n",
       "                                              params               shape  \\\n",
       "0  {'selector__k': 1000, 'clasifier__n_estimators...  X_test:(87, 18875)   \n",
       "0  {'selector__k': 1000, 'clasifier__solver': 'lb...  X_test:(87, 18875)   \n",
       "0  {'selector__k': 1000, 'clasifier__solver': 'sa...  X_test:(87, 18875)   \n",
       "\n",
       "                                            features  roc_auc_ovr  \\\n",
       "0  ['ENSG00000001084.13', 'ENSG00000001460.18', '...     0.782481   \n",
       "0  ['ENSG00000001084.13', 'ENSG00000001460.18', '...     0.884245   \n",
       "0  ['ENSG00000001084.13', 'ENSG00000001460.18', '...     0.891310   \n",
       "\n",
       "                                         indices_auc  \\\n",
       "0  [0.5713028169014084, 0.8435185185185186, 0.722...   \n",
       "0  [0.8855633802816901, 0.8629629629629629, 0.820...   \n",
       "0  [0.9066901408450704, 0.8777777777777778, 0.807...   \n",
       "\n",
       "                                     indices_jaccard  \n",
       "0  [0.15789473684210525, 0.4090909090909091, 0.26...  \n",
       "0  [0.38095238095238093, 0.35, 0.2105263157894736...  \n",
       "0  [0.4, 0.4, 0.2222222222222222, 0.4, 0.4, 0.545...  "
      ]
     },
     "metadata": {},
     "output_type": "display_data"
    }
   ],
   "source": [
    "if M_TIPO.startswith(\"bin\"):\n",
    "    myfunc.save_metricas_to_csv(random_search, X_test, y_test, M_TIPO, M_SELECT, M_CLASIF, total_time, SEMILLA, myfunc.MET_DIR, M_FICHERO, fichero_modelo)\n",
    "else:\n",
    "    myfunc.save_metricas_multi_to_csv(random_search, X_test, y_test, M_TIPO, M_SELECT, M_CLASIF, total_time, SEMILLA, myfunc.MET_DIR, M_FICHERO, fichero_modelo)\n",
    "\n",
    "df1=myfunc.read_metricas_to_df(myfunc.MET_DIR,M_FICHERO)\n",
    "\n",
    "display(df1.sort_values(\"datetime\", ascending=False)[:3])\n"
   ]
  },
  {
   "cell_type": "markdown",
   "id": "dc73ec90",
   "metadata": {
    "papermill": {
     "duration": 0.006329,
     "end_time": "2023-10-30T05:02:17.770378",
     "exception": false,
     "start_time": "2023-10-30T05:02:17.764049",
     "status": "completed"
    },
    "tags": []
   },
   "source": [
    "#### Guardar resultados"
   ]
  },
  {
   "cell_type": "code",
   "execution_count": 13,
   "id": "ce59bd3b",
   "metadata": {
    "execution": {
     "iopub.execute_input": "2023-10-30T05:02:17.783990Z",
     "iopub.status.busy": "2023-10-30T05:02:17.783570Z",
     "iopub.status.idle": "2023-10-30T05:02:17.792969Z",
     "shell.execute_reply": "2023-10-30T05:02:17.792437Z"
    },
    "papermill": {
     "duration": 0.017773,
     "end_time": "2023-10-30T05:02:17.794264",
     "exception": false,
     "start_time": "2023-10-30T05:02:17.776491",
     "status": "completed"
    },
    "tags": []
   },
   "outputs": [
    {
     "name": "stdout",
     "output_type": "stream",
     "text": [
      "20231030T060217 : enderlab : INFO : Inicio guardar resultados\n",
      "20231030T060217 : enderlab : INFO : Inicio guardar fichero ../tfm_git/ejecuciones/metricas/resultados_9322_mul_m-MI-RF.csv\n",
      "20231030T060217 : enderlab : INFO : Fin guardar fichero ../tfm_git/ejecuciones/metricas/resultados_9322_mul_m-MI-RF.csv\n",
      "20231030T060217 : enderlab : INFO : Fin guardar resultados\n"
     ]
    }
   ],
   "source": [
    "fichero_resultados=R_FICHERO+\"_\"+M_TIPO+\"-\"+M_SELECT+\"-\"+M_CLASIF+\".csv\"\n",
    "myfunc.save_resultados_to_csv(M_TIPO, M_SELECT, M_CLASIF,  random_search, myfunc.MET_DIR, fichero_resultados)\n"
   ]
  }
 ],
 "metadata": {
  "kernelspec": {
   "display_name": "Python 3 (ipykernel)",
   "language": "python",
   "name": "python3"
  },
  "language_info": {
   "codemirror_mode": {
    "name": "ipython",
    "version": 3
   },
   "file_extension": ".py",
   "mimetype": "text/x-python",
   "name": "python",
   "nbconvert_exporter": "python",
   "pygments_lexer": "ipython3",
   "version": "3.10.11"
  },
  "papermill": {
   "default_parameters": {},
   "duration": 255.598974,
   "end_time": "2023-10-30T05:02:20.417833",
   "environment_variables": {},
   "exception": null,
   "input_path": "03_entrenamiento.ipynb",
   "output_path": "ejecuciones/training/03_entrenamiento.20231030T055804.param_0000_9322_mul_m_MI_RF.output.ipynb",
   "parameters": {
    "MAX_ITERS": 500,
    "M_CLASIF": "RF",
    "M_FICHERO": "metricas_9322",
    "M_SELECT": "MI",
    "M_TIPO": "mul_m",
    "PRE_DATA_FILE": "rows_transpose_norm_by_gene_id_with_target_num_",
    "P_FICHERO": "param_0000_9322_mul_m_MI_RF.yaml",
    "R_FICHERO": "resultados_9322",
    "SCORING": "roc_auc_ovr",
    "SEMILLA": 9322,
    "eval_clasifier": "RandomForestClassifier(random_state=SEMILLA)",
    "eval_selector": "SelectKBest(score_func=mutual_info_classif_state)",
    "param_distributions": {
     "clasifier__bootstrap": [
      true
     ],
     "clasifier__max_depth": [
      10
     ],
     "clasifier__max_features": [
      500
     ],
     "clasifier__min_samples_leaf": [
      5
     ],
     "clasifier__min_samples_split": [
      10
     ],
     "clasifier__n_estimators": [
      200
     ],
     "selector__k": [
      1000
     ]
    }
   },
   "start_time": "2023-10-30T04:58:04.818859",
   "version": "2.4.0"
  }
 },
 "nbformat": 4,
 "nbformat_minor": 5
}