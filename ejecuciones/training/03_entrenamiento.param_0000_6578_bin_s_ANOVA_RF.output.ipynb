{
 "cells": [
  {
   "cell_type": "markdown",
   "id": "b46b6689",
   "metadata": {
    "papermill": {
     "duration": 0.0,
     "end_time": "2023-10-30T14:10:58.140471",
     "exception": false,
     "start_time": "2023-10-30T14:10:58.140471",
     "status": "completed"
    },
    "tags": []
   },
   "source": [
    "##### Inicio"
   ]
  },
  {
   "cell_type": "markdown",
   "id": "4a6ad2aa",
   "metadata": {
    "papermill": {
     "duration": 0.015627,
     "end_time": "2023-10-30T14:10:58.156098",
     "exception": false,
     "start_time": "2023-10-30T14:10:58.140471",
     "status": "completed"
    },
    "tags": []
   },
   "source": [
    "#### Carga de datos"
   ]
  },
  {
   "cell_type": "code",
   "execution_count": 1,
   "id": "9556f3c4",
   "metadata": {
    "execution": {
     "iopub.execute_input": "2023-10-30T14:10:58.156098Z",
     "iopub.status.busy": "2023-10-30T14:10:58.156098Z",
     "iopub.status.idle": "2023-10-30T14:10:59.351762Z",
     "shell.execute_reply": "2023-10-30T14:10:59.351762Z"
    },
    "papermill": {
     "duration": 1.195664,
     "end_time": "2023-10-30T14:10:59.351762",
     "exception": false,
     "start_time": "2023-10-30T14:10:58.156098",
     "status": "completed"
    },
    "tags": []
   },
   "outputs": [
    {
     "name": "stdout",
     "output_type": "stream",
     "text": [
      "CPU_COUNT: 24; NODE: amilcar32; sys.version: 3.10.12 | packaged by Anaconda, Inc. | (main, Jul  5 2023, 19:09:20) [MSC v.1916 64 bit (AMD64)]\n",
      "LOKY_MAX_CPU_COUNT is not set.\n",
      "OMP_NUM_THREADS is not set.\n"
     ]
    }
   ],
   "source": [
    "import os\n",
    "import numpy as np\n",
    "import pandas as pd\n",
    "import datetime\n",
    "import sklearn\n",
    "import logging\n",
    "import warnings\n",
    "\n",
    "from sklearn.pipeline import Pipeline\n",
    "from sklearn.model_selection import RandomizedSearchCV, KFold, cross_val_score, train_test_split\n",
    "from sklearn.metrics import accuracy_score, confusion_matrix, classification_report, roc_auc_score\n",
    "\n",
    "#  cargar algoritmos para aprendizaje supervisado\n",
    "from sklearn.feature_selection import SelectKBest, f_classif, SelectFromModel, mutual_info_classif\n",
    "from sklearn.svm import SVC\n",
    "from sklearn.ensemble import RandomForestClassifier\n",
    "from sklearn.linear_model import LogisticRegression,LogisticRegressionCV\n",
    "\n",
    "# importar fichero con utilidades propias\n",
    "from commons import myfunctions as myfunc\n"
   ]
  },
  {
   "cell_type": "markdown",
   "id": "418480ed",
   "metadata": {
    "papermill": {
     "duration": 0.0,
     "end_time": "2023-10-30T14:10:59.351762",
     "exception": false,
     "start_time": "2023-10-30T14:10:59.351762",
     "status": "completed"
    },
    "tags": []
   },
   "source": [
    "#### Parámetros a utilizar en el entrenamiento.\n",
    "\n",
    "Se indican los 3 algoritmos de *selección de características* (eval_selector_xxx) y los 3 algoritmos para la _clasificación_ (eval_clasifier_xxx)\n",
    "\n",
    "En *param_distributions* se indicar los parámetros que utilizan los algoritmos en la función RandomSearchCV.\n",
    "\n",
    "Esta celda tiene la etiqueta **parameters** que servirá para poder lanzar los entrenamientos con la utilidad **papermill** pasándole un fichero con los parámetros. Los nuevos parámetros se situarán tras esta celda para tener prevalencia."
   ]
  },
  {
   "cell_type": "code",
   "execution_count": 2,
   "id": "c122943f",
   "metadata": {
    "execution": {
     "iopub.execute_input": "2023-10-30T14:10:59.351762Z",
     "iopub.status.busy": "2023-10-30T14:10:59.351762Z",
     "iopub.status.idle": "2023-10-30T14:10:59.383503Z",
     "shell.execute_reply": "2023-10-30T14:10:59.383503Z"
    },
    "papermill": {
     "duration": 0.031741,
     "end_time": "2023-10-30T14:10:59.383503",
     "exception": false,
     "start_time": "2023-10-30T14:10:59.351762",
     "status": "completed"
    },
    "tags": [
     "parameters"
    ]
   },
   "outputs": [
    {
     "name": "stdout",
     "output_type": "stream",
     "text": [
      "20231030T151059 : amilcar32 : INFO : Utilizando parámetros de mul_m\n"
     ]
    }
   ],
   "source": [
    "#  Parametros para el entrenamiento\n",
    "\n",
    "SEMILLA=        42\n",
    "M_TIPO=         \"mul_m\"\n",
    "M_SELECT=       \"MI\"\n",
    "M_CLASIF=       \"SVM\"\n",
    "R_FICHERO=      \"resultados\"\n",
    "M_FICHERO=      \"metricas\"\n",
    "PRE_DATA_FILE=  \"rows_transpose_norm_by_gene_id_with_target_num_\"\n",
    "SCORING=        \"roc_auc_ovr\" \n",
    "MAX_ITERS=      100\n",
    "\n",
    "def mutual_info_classif_state(X, y):\n",
    "    return mutual_info_classif(X, y, random_state=SEMILLA)\n",
    "\n",
    "eval_selector_mi = \"SelectKBest(score_func=mutual_info_classif_state)\"\n",
    "eval_selector_rf=  \"SelectFromModel(estimator=RandomForestClassifier(random_state=SEMILLA), threshold=-np.inf)\"\n",
    "eval_selector_anova=  \"SelectKBest(score_func=f_classif)\"\n",
    "\n",
    "eval_clasifier_svm= \"SVC(probability=True, random_state=SEMILLA)\"\n",
    "eval_clasifier_rf= \"RandomForestClassifier(random_state=SEMILLA)\"\n",
    "eval_clasifier_lr= \"LogisticRegressionCV(random_state=SEMILLA)\"\n",
    "\n",
    "if M_TIPO.startswith(\"bin_m\"):\n",
    "    myfunc.verbose(f\"Utilizando parámetros de {M_TIPO}\")\n",
    "    eval_selector = eval_selector_mi\n",
    "    eval_clasifier = eval_clasifier_svm\n",
    "\n",
    "    SEMILLA = 6578\n",
    "    M_SELECT = \"MI\"\n",
    "    M_CLASIF = \"SVM\"\n",
    "    param_distributions = {'selector__k': [1000], \n",
    "         'clasifier__kernel': ['rbf'], 'clasifier__gamma': [0.01], 'clasifier__C': [100]}\n",
    "elif M_TIPO.startswith(\"bin_s\"):\n",
    "    myfunc.verbose(f\"Utilizando parámetros de {M_TIPO}\")\n",
    "    eval_selector = eval_selector_rf\n",
    "    eval_clasifier = eval_clasifier_lr\n",
    "\n",
    "    SEMILLA = 6191\n",
    "    M_SELECT = \"RF\"\n",
    "    M_CLASIF = \"LR_L2\"\n",
    "    param_distributions = {'selector__max_features': [1000], 'selector__estimator__n_estimators': [200], \n",
    "        'clasifier__solver': ['lbfgs'], 'clasifier__penalty': ['l2'], 'clasifier__max_iter': [10000]}\n",
    "\n",
    "elif M_TIPO.startswith(\"mul_m\"):\n",
    "    myfunc.verbose(f\"Utilizando parámetros de {M_TIPO}\")\n",
    " \n",
    "    eval_selector = eval_selector_rf\n",
    "    eval_clasifier = eval_clasifier_lr\n",
    "\n",
    "    SEMILLA = 6191\n",
    "    M_SELECT = \"RF\"\n",
    "    M_CLASIF = \"LR_L2\"\n",
    "    param_distributions = {'selector__max_features': [1000], 'selector__estimator__n_estimators': [400], \n",
    "        'clasifier__solver': ['lbfgs'], 'clasifier__penalty': ['l2'], 'clasifier__max_iter': [10000]}\n",
    "\n",
    "else:\n",
    "    # M_TIPO.startswith(\"mul_s\"):\n",
    "    myfunc.verbose(f\"Utilizando parámetros de {M_TIPO}\")\n",
    "    eval_selector = eval_selector_anova\n",
    "    eval_clasifier = eval_clasifier_lr\n",
    "\n",
    "    SEMILLA = 1860\n",
    "    M_SELECT = \"ANOVA\"\n",
    "    M_CLASIF = \"LR_L2\"\n",
    "    param_distributions = {'selector__k': [1000], \n",
    "        'clasifier__solver': ['saga'], 'clasifier__penalty': ['l2'], 'clasifier__max_iter': [10000]}\n",
    "\n"
   ]
  },
  {
   "cell_type": "code",
   "execution_count": 3,
   "id": "62448059",
   "metadata": {
    "execution": {
     "iopub.execute_input": "2023-10-30T14:10:59.383503Z",
     "iopub.status.busy": "2023-10-30T14:10:59.383503Z",
     "iopub.status.idle": "2023-10-30T14:10:59.399133Z",
     "shell.execute_reply": "2023-10-30T14:10:59.399133Z"
    },
    "papermill": {
     "duration": 0.01563,
     "end_time": "2023-10-30T14:10:59.399133",
     "exception": false,
     "start_time": "2023-10-30T14:10:59.383503",
     "status": "completed"
    },
    "tags": [
     "injected-parameters"
    ]
   },
   "outputs": [],
   "source": [
    "# Parameters\n",
    "M_TIPO = \"bin_s\"\n",
    "M_SELECT = \"ANOVA\"\n",
    "M_CLASIF = \"RF\"\n",
    "P_FICHERO = \"param_0000_6578_bin_s_ANOVA_RF.yaml\"\n",
    "R_FICHERO = \"resultados_6578\"\n",
    "M_FICHERO = \"metricas_6578\"\n",
    "PRE_DATA_FILE = \"rows_transpose_norm_by_gene_id_with_target_num_\"\n",
    "SCORING = \"roc_auc_ovr\"\n",
    "SEMILLA = 6578\n",
    "MAX_ITERS = 500\n",
    "eval_selector = \"SelectKBest(score_func=f_classif)\"\n",
    "eval_clasifier = \"RandomForestClassifier(random_state=SEMILLA)\"\n",
    "param_distributions = {\n",
    "    \"selector__k\": [150],\n",
    "    \"clasifier__n_estimators\": [50],\n",
    "    \"clasifier__min_samples_split\": [20],\n",
    "    \"clasifier__min_samples_leaf\": [5],\n",
    "    \"clasifier__max_features\": [\"sqrt\"],\n",
    "    \"clasifier__max_depth\": [\"None\"],\n",
    "    \"clasifier__bootstrap\": [True],\n",
    "}\n"
   ]
  },
  {
   "cell_type": "code",
   "execution_count": 4,
   "id": "6041cca0",
   "metadata": {
    "execution": {
     "iopub.execute_input": "2023-10-30T14:10:59.399133Z",
     "iopub.status.busy": "2023-10-30T14:10:59.399133Z",
     "iopub.status.idle": "2023-10-30T14:10:59.414757Z",
     "shell.execute_reply": "2023-10-30T14:10:59.414757Z"
    },
    "papermill": {
     "duration": 0.015624,
     "end_time": "2023-10-30T14:10:59.414757",
     "exception": false,
     "start_time": "2023-10-30T14:10:59.399133",
     "status": "completed"
    },
    "tags": []
   },
   "outputs": [],
   "source": [
    "DATA_FILE = PRE_DATA_FILE + M_TIPO\n",
    "\n",
    "# si viene \"None\" en el parámetro max_depth, se le quitan las comillas para que no sea entendido por el algoritmo como un texto\n",
    "if \"clasifier__max_depth\" in param_distributions:\n",
    "    param_distributions['clasifier__max_depth'] = [None if x == 'None' else x for x in param_distributions['clasifier__max_depth']]"
   ]
  },
  {
   "cell_type": "markdown",
   "id": "375f0069",
   "metadata": {
    "papermill": {
     "duration": 0.0,
     "end_time": "2023-10-30T14:10:59.414757",
     "exception": false,
     "start_time": "2023-10-30T14:10:59.414757",
     "status": "completed"
    },
    "tags": []
   },
   "source": [
    "Asignar los algoritmos que se utilizarán en la función RandomSearchCV"
   ]
  },
  {
   "cell_type": "code",
   "execution_count": 5,
   "id": "646921bd",
   "metadata": {
    "execution": {
     "iopub.execute_input": "2023-10-30T14:10:59.414757Z",
     "iopub.status.busy": "2023-10-30T14:10:59.414757Z",
     "iopub.status.idle": "2023-10-30T14:10:59.430392Z",
     "shell.execute_reply": "2023-10-30T14:10:59.430392Z"
    },
    "papermill": {
     "duration": 0.015635,
     "end_time": "2023-10-30T14:10:59.430392",
     "exception": false,
     "start_time": "2023-10-30T14:10:59.414757",
     "status": "completed"
    },
    "tags": []
   },
   "outputs": [],
   "source": [
    "algor_selector=eval(eval_selector)\n",
    "algor_clasifier=eval(eval_clasifier)"
   ]
  },
  {
   "cell_type": "markdown",
   "id": "fafafbfe",
   "metadata": {
    "papermill": {
     "duration": 0.0,
     "end_time": "2023-10-30T14:10:59.430392",
     "exception": false,
     "start_time": "2023-10-30T14:10:59.430392",
     "status": "completed"
    },
    "tags": []
   },
   "source": [
    "#### Comprobar el entorno y leer fichero de muestras"
   ]
  },
  {
   "cell_type": "code",
   "execution_count": 6,
   "id": "fd39cd21",
   "metadata": {
    "execution": {
     "iopub.execute_input": "2023-10-30T14:10:59.430392Z",
     "iopub.status.busy": "2023-10-30T14:10:59.430392Z",
     "iopub.status.idle": "2023-10-30T14:10:59.619138Z",
     "shell.execute_reply": "2023-10-30T14:10:59.619138Z"
    },
    "papermill": {
     "duration": 0.188746,
     "end_time": "2023-10-30T14:10:59.619138",
     "exception": false,
     "start_time": "2023-10-30T14:10:59.430392",
     "status": "completed"
    },
    "tags": []
   },
   "outputs": [
    {
     "name": "stdout",
     "output_type": "stream",
     "text": [
      "20231030T151059 : amilcar32 : INFO : Encontrada carpeta DATA_DIR=..\\tfm_viu\\datos\n",
      "20231030T151059 : amilcar32 : INFO : Encontrada carpeta CFDNA_DIR=..\\tfm_viu\\datos\\cfDNA_5hmC\n",
      "20231030T151059 : amilcar32 : INFO : Encontrada carpeta GENCODE_DIR=..\\tfm_viu\\datos\\gencode\n",
      "20231030T151059 : amilcar32 : INFO : Encontrada carpeta H5_DIR=..\\tfm_viu\\datos\\h5\n",
      "20231030T151059 : amilcar32 : INFO : Encontrada carpeta LOG_DIR=..\\tfm_viu\\datos\\logs\n",
      "20231030T151059 : amilcar32 : INFO : Encontrada carpeta CSV_DIR=..\\tfm_viu\\datos\\csv\n",
      "20231030T151059 : amilcar32 : INFO : Encontrada carpeta MODEL_DIR=..\\tfm_viu\\ejecuciones\\modelos\n",
      "20231030T151059 : amilcar32 : INFO : Encontrada carpeta EXEC_DIR=..\\tfm_viu\\ejecuciones\n",
      "20231030T151059 : amilcar32 : INFO : Encontrada carpeta MET_DIR=..\\tfm_viu\\ejecuciones\\metricas\n",
      "20231030T151059 : amilcar32 : INFO : Inicio leer fichero h5 ..\\tfm_viu\\datos\\h5\\rows_transpose_norm_by_gene_id_with_target_num_bin_s.h5\n",
      "20231030T151059 : amilcar32 : INFO : Leyendo clave /df\n"
     ]
    },
    {
     "name": "stdout",
     "output_type": "stream",
     "text": [
      "20231030T151059 : amilcar32 : INFO : Tamaño (443, 18876)\n",
      "20231030T151059 : amilcar32 : INFO : Fin leer fichero h5 ..\\tfm_viu\\datos\\h5\\rows_transpose_norm_by_gene_id_with_target_num_bin_s.h5\n"
     ]
    },
    {
     "data": {
      "text/plain": [
       "target\n",
       "0    221\n",
       "1    222\n",
       "dtype: int64"
      ]
     },
     "metadata": {},
     "output_type": "display_data"
    },
    {
     "name": "stdout",
     "output_type": "stream",
     "text": [
      "Shape df: (443, 18876)\n",
      "Shape X_train: (354, 18875)\n",
      "Shape X_test: (89, 18875)\n"
     ]
    }
   ],
   "source": [
    "start_time = datetime.datetime.now()\n",
    "\n",
    "myfunc.reset_vars()\n",
    "\n",
    "myfunc.NOTEBK_FILENAME = myfunc.get_nb_name()\n",
    "\n",
    "myfunc.check_enviroment(myfunc.DATA_DIR, myfunc.CFDNA_DIR, myfunc.GENCODE_DIR, myfunc.H5_DIR, myfunc.LOG_DIR, myfunc.CSV_DIR, myfunc.MODEL_DIR, myfunc.EXEC_DIR, myfunc.MET_DIR)\n",
    "\n",
    "# Leer fichero con las muestras\n",
    "df_t = myfunc.read_h5_to_df(DATA_FILE, myfunc.H5_DIR)\n",
    "display(df_t.groupby(\"target\").size())\n",
    "print(\"Shape df:\",df_t.shape)\n",
    "\n",
    "# Separar caracteristicas/genes de las etiquetas/tipos de cáncer\n",
    "X = df_t.iloc[:, :-1]  # Todas las columnas excepto la última\n",
    "y = df_t.iloc[:, -1]  # La última columna contiene los identificadores de los tipos de cáncer\n",
    "\n",
    "#  Crear el conjunto de datos de entrenamiento y de pruebas, y se fija la semilla para siempre coger el mismo juego de muestras\n",
    "X_train, X_test, y_train, y_test = train_test_split(X, y, test_size=0.2, shuffle=True, random_state=42)\n",
    "print(\"Shape X_train:\",X_train.shape)\n",
    "print(\"Shape X_test:\",X_test.shape)\n"
   ]
  },
  {
   "cell_type": "markdown",
   "id": "f3f7c34d",
   "metadata": {
    "papermill": {
     "duration": 0.0,
     "end_time": "2023-10-30T14:10:59.619138",
     "exception": false,
     "start_time": "2023-10-30T14:10:59.619138",
     "status": "completed"
    },
    "tags": []
   },
   "source": [
    "#### Selección de características y clasificación."
   ]
  },
  {
   "cell_type": "code",
   "execution_count": 7,
   "id": "a80f26f9",
   "metadata": {
    "execution": {
     "iopub.execute_input": "2023-10-30T14:10:59.634774Z",
     "iopub.status.busy": "2023-10-30T14:10:59.634774Z",
     "iopub.status.idle": "2023-10-30T14:11:01.790322Z",
     "shell.execute_reply": "2023-10-30T14:11:01.790322Z"
    },
    "papermill": {
     "duration": 2.171184,
     "end_time": "2023-10-30T14:11:01.790322",
     "exception": false,
     "start_time": "2023-10-30T14:10:59.619138",
     "status": "completed"
    },
    "tags": []
   },
   "outputs": [
    {
     "name": "stdout",
     "output_type": "stream",
     "text": [
      "20231030T151059 : amilcar32 : INFO : Iniciando entrenamiento\n",
      "num_iter: 1 , max_iter: 1\n",
      "Fitting 5 folds for each of 1 candidates, totalling 5 fits\n"
     ]
    },
    {
     "name": "stderr",
     "output_type": "stream",
     "text": [
      "C:\\Users\\viu\\miniconda3\\lib\\site-packages\\sklearn\\feature_selection\\_univariate_selection.py:112: UserWarning: Features [ 2222  2265  2266  2803  3492  5668  5803  6053  8314  8510  9490 11021\n",
      " 11565 11613 11943 12249 12831 13235 13836 14000 14245 14789 15515 15824\n",
      " 15881 16018 16262 16267 16268 16313 16630 16679 16701 16906 16968 17047\n",
      " 17091 17231 17264 17274 17300 17312 18421 18608 18868] are constant.\n",
      "  warnings.warn(\"Features %s are constant.\" % constant_features_idx, UserWarning)\n",
      "C:\\Users\\viu\\miniconda3\\lib\\site-packages\\sklearn\\feature_selection\\_univariate_selection.py:113: RuntimeWarning: invalid value encountered in divide\n",
      "  f = msb / msw\n"
     ]
    },
    {
     "name": "stdout",
     "output_type": "stream",
     "text": [
      "Mejores Hiperparámetros: {'selector__k': 150, 'clasifier__n_estimators': 50, 'clasifier__min_samples_split': 20, 'clasifier__min_samples_leaf': 5, 'clasifier__max_features': 'sqrt', 'clasifier__max_depth': None, 'clasifier__bootstrap': True}\n",
      "Mejor Puntuación: 0.7522\n",
      "20231030T151101 : amilcar32 : INFO : Fin entrenamiento\n"
     ]
    }
   ],
   "source": [
    "myfunc.verbose(\"Iniciando entrenamiento\")\n",
    "\n",
    "kf = KFold(n_splits=5, shuffle=True, random_state=SEMILLA)\n",
    "\n",
    "# Crear el pipeline para el flujo de tareas\n",
    "tasks_pipeline = Pipeline([\n",
    "    ('selector', algor_selector),\n",
    "    ('clasifier', algor_clasifier)\n",
    "])\n",
    "\n",
    "# MAX_ITERS puede limitar el número de iteraciones si son excesivas para las combinaciones de parámetros buscando un óptimo local, \n",
    "# sino funcionaría como GridSearchCV al revisar todas las cominaciones de los parámetros\n",
    "num_iteraciones = 1\n",
    "num_iteraciones = num_iteraciones * np.prod([len(elemento1) for _, elemento1 in param_distributions.items()])\n",
    "max_iteraciones = num_iteraciones if num_iteraciones <= MAX_ITERS else MAX_ITERS\n",
    "print(\"num_iter:\",num_iteraciones,\", max_iter:\",max_iteraciones)\n",
    "\n",
    "random_search = RandomizedSearchCV(\n",
    "    tasks_pipeline, \n",
    "    param_distributions, \n",
    "    n_iter=max_iteraciones,\n",
    "    scoring=SCORING,\n",
    "    cv=kf,\n",
    "    verbose=3, \n",
    "    random_state=SEMILLA, \n",
    "    n_jobs=-1\n",
    "    )\n",
    "\n",
    "# Entrenar el modelo\n",
    "random_search.fit(X_train, y_train)\n",
    "\n",
    "# Ver los mejores hiperparámetros encontrados\n",
    "print(f'Mejores Hiperparámetros: {random_search.best_params_}')\n",
    "print(f'Mejor Puntuación: {random_search.best_score_:.4f}')\n",
    "\n",
    "# Nos quedamos con el mejor modelo para ver las métricas\n",
    "mejor_modelo = random_search.best_estimator_\n",
    "\n",
    "myfunc.verbose(\"Fin entrenamiento\")"
   ]
  },
  {
   "cell_type": "markdown",
   "id": "e6f7e2e2",
   "metadata": {
    "papermill": {
     "duration": 0.015615,
     "end_time": "2023-10-30T14:11:01.853164",
     "exception": false,
     "start_time": "2023-10-30T14:11:01.837549",
     "status": "completed"
    },
    "tags": []
   },
   "source": [
    "#### Guardar modelo"
   ]
  },
  {
   "cell_type": "code",
   "execution_count": 8,
   "id": "32fe886f",
   "metadata": {
    "execution": {
     "iopub.execute_input": "2023-10-30T14:11:01.853164Z",
     "iopub.status.busy": "2023-10-30T14:11:01.853164Z",
     "iopub.status.idle": "2023-10-30T14:11:01.900477Z",
     "shell.execute_reply": "2023-10-30T14:11:01.900477Z"
    },
    "papermill": {
     "duration": 0.047313,
     "end_time": "2023-10-30T14:11:01.900477",
     "exception": false,
     "start_time": "2023-10-30T14:11:01.853164",
     "status": "completed"
    },
    "tags": []
   },
   "outputs": [
    {
     "name": "stdout",
     "output_type": "stream",
     "text": [
      "20231030T151101 : amilcar32 : INFO : Inicio guardar fichero ..\\tfm_viu\\ejecuciones\\modelos\\modelo_6578_bin_s_ANOVA_RF.pkl\n",
      "20231030T151101 : amilcar32 : INFO : Fin guardar fichero ..\\tfm_viu\\ejecuciones\\modelos\\modelo_6578_bin_s_ANOVA_RF.pkl\n"
     ]
    }
   ],
   "source": [
    "fichero_modelo = str.replace(\"modelo_\"+str(SEMILLA).zfill(4)+\"_\"+M_TIPO+\"_\"+M_SELECT+\"_\"+M_CLASIF+\".pkl\", \" \", \"_\")\n",
    "\n",
    "myfunc.save_modelo(mejor_modelo, myfunc.MODEL_DIR, fichero_modelo)"
   ]
  },
  {
   "cell_type": "markdown",
   "id": "04d853b2",
   "metadata": {
    "papermill": {
     "duration": 0.015686,
     "end_time": "2023-10-30T14:11:01.916163",
     "exception": false,
     "start_time": "2023-10-30T14:11:01.900477",
     "status": "completed"
    },
    "tags": []
   },
   "source": [
    "#### Ver resultados del las iteraciones hechas por RandomSearchCV"
   ]
  },
  {
   "cell_type": "code",
   "execution_count": 9,
   "id": "13b4f490",
   "metadata": {
    "execution": {
     "iopub.execute_input": "2023-10-30T14:11:01.918893Z",
     "iopub.status.busy": "2023-10-30T14:11:01.918893Z",
     "iopub.status.idle": "2023-10-30T14:11:01.931981Z",
     "shell.execute_reply": "2023-10-30T14:11:01.931981Z"
    },
    "papermill": {
     "duration": 0.013088,
     "end_time": "2023-10-30T14:11:01.931981",
     "exception": false,
     "start_time": "2023-10-30T14:11:01.918893",
     "status": "completed"
    },
    "tags": []
   },
   "outputs": [
    {
     "name": "stdout",
     "output_type": "stream",
     "text": [
      "20231030T151101 : amilcar32 : INFO : Inicio ver resultados\n",
      "Mejores Hiperparámetros: {'selector__k': 150, 'clasifier__n_estimators': 50, 'clasifier__min_samples_split': 20, 'clasifier__min_samples_leaf': 5, 'clasifier__max_features': 'sqrt', 'clasifier__max_depth': None, 'clasifier__bootstrap': True}\n",
      "Mejores puntuaciones: 0.7522 | Params: {'selector__k': 150, 'clasifier__n_estimators': 50, 'clasifier__min_samples_split': 20, 'clasifier__min_samples_leaf': 5, 'clasifier__max_features': 'sqrt', 'clasifier__max_depth': None, 'clasifier__bootstrap': True}\n",
      "Media de las puntuaciones: 0.7522 | Params: {'selector__k': 150, 'clasifier__n_estimators': 50, 'clasifier__min_samples_split': 20, 'clasifier__min_samples_leaf': 5, 'clasifier__max_features': 'sqrt', 'clasifier__max_depth': None, 'clasifier__bootstrap': True}\n",
      "20231030T151101 : amilcar32 : INFO : Fin resultados\n"
     ]
    }
   ],
   "source": [
    "myfunc.ver_resultados_search(random_search)"
   ]
  },
  {
   "cell_type": "markdown",
   "id": "4bf89a1b",
   "metadata": {
    "papermill": {
     "duration": 0.0,
     "end_time": "2023-10-30T14:11:01.931981",
     "exception": false,
     "start_time": "2023-10-30T14:11:01.931981",
     "status": "completed"
    },
    "tags": []
   },
   "source": [
    "#### Ver métricas del mejor modelo"
   ]
  },
  {
   "cell_type": "code",
   "execution_count": 10,
   "id": "34818a59",
   "metadata": {
    "execution": {
     "iopub.execute_input": "2023-10-30T14:11:01.947698Z",
     "iopub.status.busy": "2023-10-30T14:11:01.947698Z",
     "iopub.status.idle": "2023-10-30T14:11:02.308701Z",
     "shell.execute_reply": "2023-10-30T14:11:02.308701Z"
    },
    "papermill": {
     "duration": 0.37672,
     "end_time": "2023-10-30T14:11:02.308701",
     "exception": false,
     "start_time": "2023-10-30T14:11:01.931981",
     "status": "completed"
    },
    "tags": []
   },
   "outputs": [
    {
     "name": "stdout",
     "output_type": "stream",
     "text": [
      "20231030T151101 : amilcar32 : INFO : Inicio ver métricas\n"
     ]
    },
    {
     "name": "stdout",
     "output_type": "stream",
     "text": [
      "              precision    recall  f1-score   support\n",
      "\n",
      "           0       0.62      0.70      0.65        46\n",
      "           1       0.62      0.53      0.57        43\n",
      "\n",
      "    accuracy                           0.62        89\n",
      "   macro avg       0.62      0.62      0.61        89\n",
      "weighted avg       0.62      0.62      0.62        89\n",
      "\n",
      "\n",
      "\n",
      "   Exactitud: 0.6180\n",
      "   Precisión: 0.6185\n",
      "Sensibilidad: 0.6153\n",
      "    F1-score: 0.6140\n",
      "     AUC ROC: 0.6704\n"
     ]
    },
    {
     "data": {
      "image/png": "[encoded data removed]",
      "text/plain": [
       "<Figure size 300x100 with 2 Axes>"
      ]
     },
     "metadata": {},
     "output_type": "display_data"
    },
    {
     "data": {
      "image/png": "[encoded data removed]",
      "text/plain": [
       "<Figure size 800x500 with 1 Axes>"
      ]
     },
     "metadata": {},
     "output_type": "display_data"
    },
    {
     "name": "stdout",
     "output_type": "stream",
     "text": [
      "20231030T151102 : amilcar32 : INFO : Fin ver métricas\n"
     ]
    }
   ],
   "source": [
    "if M_TIPO.startswith(\"bin\"):\n",
    "    myfunc.ver_metricas(mejor_modelo, X_test, y_test)\n",
    "else:\n",
    "    myfunc.ver_metricas_multi(mejor_modelo, X_test, y_test)\n"
   ]
  },
  {
   "cell_type": "markdown",
   "id": "03b0ed5f",
   "metadata": {
    "papermill": {
     "duration": 0.0,
     "end_time": "2023-10-30T14:11:02.308701",
     "exception": false,
     "start_time": "2023-10-30T14:11:02.308701",
     "status": "completed"
    },
    "tags": []
   },
   "source": [
    "#### Finalización del notebook"
   ]
  },
  {
   "cell_type": "code",
   "execution_count": 11,
   "id": "34124042",
   "metadata": {
    "execution": {
     "iopub.execute_input": "2023-10-30T14:11:02.326371Z",
     "iopub.status.busy": "2023-10-30T14:11:02.326371Z",
     "iopub.status.idle": "2023-10-30T14:11:02.340390Z",
     "shell.execute_reply": "2023-10-30T14:11:02.340390Z"
    },
    "papermill": {
     "duration": 0.031689,
     "end_time": "2023-10-30T14:11:02.340390",
     "exception": false,
     "start_time": "2023-10-30T14:11:02.308701",
     "status": "completed"
    },
    "tags": []
   },
   "outputs": [
    {
     "name": "stdout",
     "output_type": "stream",
     "text": [
      "20231030T151102 : amilcar32 : INFO : Notebook ha tardado 2 seconds\n"
     ]
    }
   ],
   "source": [
    "end_time = datetime.datetime.now()\n",
    "total_time = end_time - start_time\n",
    "myfunc.verbose(f\"Notebook ha tardado {total_time.seconds} seconds\")"
   ]
  },
  {
   "cell_type": "markdown",
   "id": "72dd7aaf",
   "metadata": {
    "papermill": {
     "duration": 0.0,
     "end_time": "2023-10-30T14:11:02.340390",
     "exception": false,
     "start_time": "2023-10-30T14:11:02.340390",
     "status": "completed"
    },
    "tags": []
   },
   "source": [
    "#### Guardar métricas"
   ]
  },
  {
   "cell_type": "code",
   "execution_count": 12,
   "id": "6ecaf749",
   "metadata": {
    "execution": {
     "iopub.execute_input": "2023-10-30T14:11:02.356032Z",
     "iopub.status.busy": "2023-10-30T14:11:02.356032Z",
     "iopub.status.idle": "2023-10-30T14:11:02.544872Z",
     "shell.execute_reply": "2023-10-30T14:11:02.544872Z"
    },
    "papermill": {
     "duration": 0.204482,
     "end_time": "2023-10-30T14:11:02.544872",
     "exception": false,
     "start_time": "2023-10-30T14:11:02.340390",
     "status": "completed"
    },
    "tags": []
   },
   "outputs": [
    {
     "name": "stdout",
     "output_type": "stream",
     "text": [
      "20231030T151102 : amilcar32 : INFO : Inicio guardar métricas\n",
      "20231030T151102 : amilcar32 : INFO : Inicio leer fichero ..\\tfm_viu\\ejecuciones\\metricas\\metricas_6578.csv\n",
      "20231030T151102 : amilcar32 : INFO : Fin leer fichero ..\\tfm_viu\\ejecuciones\\metricas\\metricas_6578.csv\n"
     ]
    },
    {
     "name": "stdout",
     "output_type": "stream",
     "text": [
      "20231030T151102 : amilcar32 : INFO : Inicio guardar fichero ..\\tfm_viu\\ejecuciones\\metricas\\metricas_6578.csv\n",
      "20231030T151102 : amilcar32 : INFO : Fichero borrado ..\\tfm_viu\\ejecuciones\\metricas\\metricas_6578.csv\n",
      "20231030T151102 : amilcar32 : INFO : Fin guardar fichero ..\\tfm_viu\\ejecuciones\\metricas\\metricas_6578.csv\n",
      "20231030T151102 : amilcar32 : INFO : Fin guardar métricas\n",
      "20231030T151102 : amilcar32 : INFO : Inicio leer fichero ..\\tfm_viu\\ejecuciones\\metricas\\metricas_6578.csv\n",
      "20231030T151102 : amilcar32 : INFO : Fin leer fichero ..\\tfm_viu\\ejecuciones\\metricas\\metricas_6578.csv\n"
     ]
    },
    {
     "data": {
      "text/html": [
       "<div>\n",
       "<style scoped>\n",
       "    .dataframe tbody tr th:only-of-type {\n",
       "        vertical-align: middle;\n",
       "    }\n",
       "\n",
       "    .dataframe tbody tr th {\n",
       "        vertical-align: top;\n",
       "    }\n",
       "\n",
       "    .dataframe thead th {\n",
       "        text-align: right;\n",
       "    }\n",
       "</style>\n",
       "<table border=\"1\" class=\"dataframe\">\n",
       "  <thead>\n",
       "    <tr style=\"text-align: right;\">\n",
       "      <th></th>\n",
       "      <th>tipo</th>\n",
       "      <th>select</th>\n",
       "      <th>clasific</th>\n",
       "      <th>semilla</th>\n",
       "      <th>accuracy</th>\n",
       "      <th>precision</th>\n",
       "      <th>recall</th>\n",
       "      <th>f1_score</th>\n",
       "      <th>roc_auc</th>\n",
       "      <th>hostname</th>\n",
       "      <th>total_time_sec</th>\n",
       "      <th>datetime</th>\n",
       "      <th>fichero_modelo</th>\n",
       "      <th>params</th>\n",
       "      <th>shape</th>\n",
       "      <th>features</th>\n",
       "    </tr>\n",
       "  </thead>\n",
       "  <tbody>\n",
       "    <tr>\n",
       "      <th>0</th>\n",
       "      <td>bin_s</td>\n",
       "      <td>ANOVA</td>\n",
       "      <td>RF</td>\n",
       "      <td>6578</td>\n",
       "      <td>0.617978</td>\n",
       "      <td>0.618503</td>\n",
       "      <td>0.615268</td>\n",
       "      <td>0.614031</td>\n",
       "      <td>0.670374</td>\n",
       "      <td>amilcar32</td>\n",
       "      <td>2</td>\n",
       "      <td>2023-10-30 15:11:02.498063</td>\n",
       "      <td>modelo_6578_bin_s_ANOVA_RF.pkl</td>\n",
       "      <td>{'selector__k': 150, 'clasifier__n_estimators'...</td>\n",
       "      <td>X_test:(89, 18875)</td>\n",
       "      <td>['ENSG00000000971.17', 'ENSG00000002587.10', '...</td>\n",
       "    </tr>\n",
       "    <tr>\n",
       "      <th>0</th>\n",
       "      <td>bin_s</td>\n",
       "      <td>ANOVA</td>\n",
       "      <td>LR_L2</td>\n",
       "      <td>6578</td>\n",
       "      <td>0.752809</td>\n",
       "      <td>0.757277</td>\n",
       "      <td>0.750253</td>\n",
       "      <td>0.750255</td>\n",
       "      <td>0.800303</td>\n",
       "      <td>amilcar32</td>\n",
       "      <td>4</td>\n",
       "      <td>2023-10-30 15:10:54.460191</td>\n",
       "      <td>modelo_6578_bin_s_ANOVA_LR_L2.pkl</td>\n",
       "      <td>{'selector__k': 1000, 'clasifier__solver': 'lb...</td>\n",
       "      <td>X_test:(89, 18875)</td>\n",
       "      <td>['ENSG00000000938.13', 'ENSG00000000971.17', '...</td>\n",
       "    </tr>\n",
       "    <tr>\n",
       "      <th>0</th>\n",
       "      <td>bin_s</td>\n",
       "      <td>ANOVA</td>\n",
       "      <td>LR_L1</td>\n",
       "      <td>6578</td>\n",
       "      <td>0.674157</td>\n",
       "      <td>0.675439</td>\n",
       "      <td>0.671891</td>\n",
       "      <td>0.671503</td>\n",
       "      <td>0.770981</td>\n",
       "      <td>amilcar32</td>\n",
       "      <td>125</td>\n",
       "      <td>2023-10-30 15:10:43.806562</td>\n",
       "      <td>modelo_6578_bin_s_ANOVA_LR_L1.pkl</td>\n",
       "      <td>{'selector__k': 200, 'clasifier__solver': 'sag...</td>\n",
       "      <td>X_test:(89, 18875)</td>\n",
       "      <td>['ENSG00000000971.17', 'ENSG00000002587.10', '...</td>\n",
       "    </tr>\n",
       "  </tbody>\n",
       "</table>\n",
       "</div>"
      ],
      "text/plain": [
       "    tipo select clasific  semilla  accuracy  precision    recall  f1_score  \\\n",
       "0  bin_s  ANOVA       RF     6578  0.617978   0.618503  0.615268  0.614031   \n",
       "0  bin_s  ANOVA    LR_L2     6578  0.752809   0.757277  0.750253  0.750255   \n",
       "0  bin_s  ANOVA    LR_L1     6578  0.674157   0.675439  0.671891  0.671503   \n",
       "\n",
       "    roc_auc   hostname  total_time_sec                    datetime  \\\n",
       "0  0.670374  amilcar32               2  2023-10-30 15:11:02.498063   \n",
       "0  0.800303  amilcar32               4  2023-10-30 15:10:54.460191   \n",
       "0  0.770981  amilcar32             125  2023-10-30 15:10:43.806562   \n",
       "\n",
       "                      fichero_modelo  \\\n",
       "0     modelo_6578_bin_s_ANOVA_RF.pkl   \n",
       "0  modelo_6578_bin_s_ANOVA_LR_L2.pkl   \n",
       "0  modelo_6578_bin_s_ANOVA_LR_L1.pkl   \n",
       "\n",
       "                                              params               shape  \\\n",
       "0  {'selector__k': 150, 'clasifier__n_estimators'...  X_test:(89, 18875)   \n",
       "0  {'selector__k': 1000, 'clasifier__solver': 'lb...  X_test:(89, 18875)   \n",
       "0  {'selector__k': 200, 'clasifier__solver': 'sag...  X_test:(89, 18875)   \n",
       "\n",
       "                                            features  \n",
       "0  ['ENSG00000000971.17', 'ENSG00000002587.10', '...  \n",
       "0  ['ENSG00000000938.13', 'ENSG00000000971.17', '...  \n",
       "0  ['ENSG00000000971.17', 'ENSG00000002587.10', '...  "
      ]
     },
     "metadata": {},
     "output_type": "display_data"
    }
   ],
   "source": [
    "if M_TIPO.startswith(\"bin\"):\n",
    "    myfunc.save_metricas_to_csv(random_search, X_test, y_test, M_TIPO, M_SELECT, M_CLASIF, total_time, SEMILLA, myfunc.MET_DIR, M_FICHERO, fichero_modelo)\n",
    "else:\n",
    "    myfunc.save_metricas_multi_to_csv(random_search, X_test, y_test, M_TIPO, M_SELECT, M_CLASIF, total_time, SEMILLA, myfunc.MET_DIR, M_FICHERO, fichero_modelo)\n",
    "\n",
    "df1=myfunc.read_metricas_to_df(myfunc.MET_DIR,M_FICHERO)\n",
    "\n",
    "display(df1.sort_values(\"datetime\", ascending=False)[:3])\n"
   ]
  },
  {
   "cell_type": "markdown",
   "id": "13a9b36e",
   "metadata": {
    "papermill": {
     "duration": 0.015618,
     "end_time": "2023-10-30T14:11:02.560490",
     "exception": false,
     "start_time": "2023-10-30T14:11:02.544872",
     "status": "completed"
    },
    "tags": []
   },
   "source": [
    "#### Guardar resultados"
   ]
  },
  {
   "cell_type": "code",
   "execution_count": 13,
   "id": "c6233208",
   "metadata": {
    "execution": {
     "iopub.execute_input": "2023-10-30T14:11:02.560490Z",
     "iopub.status.busy": "2023-10-30T14:11:02.560490Z",
     "iopub.status.idle": "2023-10-30T14:11:02.591964Z",
     "shell.execute_reply": "2023-10-30T14:11:02.591964Z"
    },
    "papermill": {
     "duration": 0.031474,
     "end_time": "2023-10-30T14:11:02.591964",
     "exception": false,
     "start_time": "2023-10-30T14:11:02.560490",
     "status": "completed"
    },
    "tags": []
   },
   "outputs": [
    {
     "name": "stdout",
     "output_type": "stream",
     "text": [
      "20231030T151102 : amilcar32 : INFO : Inicio guardar resultados\n",
      "20231030T151102 : amilcar32 : INFO : Inicio guardar fichero ..\\tfm_viu\\ejecuciones\\metricas\\resultados_6578_bin_s-ANOVA-RF.csv\n",
      "20231030T151102 : amilcar32 : INFO : Fin guardar fichero ..\\tfm_viu\\ejecuciones\\metricas\\resultados_6578_bin_s-ANOVA-RF.csv\n",
      "20231030T151102 : amilcar32 : INFO : Fin guardar resultados\n"
     ]
    }
   ],
   "source": [
    "fichero_resultados=R_FICHERO+\"_\"+M_TIPO+\"-\"+M_SELECT+\"-\"+M_CLASIF+\".csv\"\n",
    "myfunc.save_resultados_to_csv(M_TIPO, M_SELECT, M_CLASIF,  random_search, myfunc.MET_DIR, fichero_resultados)\n"
   ]
  }
 ],
 "metadata": {
  "kernelspec": {
   "display_name": "Python 3 (ipykernel)",
   "language": "python",
   "name": "python3"
  },
  "language_info": {
   "codemirror_mode": {
    "name": "ipython",
    "version": 3
   },
   "file_extension": ".py",
   "mimetype": "text/x-python",
   "name": "python",
   "nbconvert_exporter": "python",
   "pygments_lexer": "ipython3",
   "version": "3.10.12"
  },
  "papermill": {
   "default_parameters": {},
   "duration": 6.731672,
   "end_time": "2023-10-30T14:11:03.032232",
   "environment_variables": {},
   "exception": null,
   "input_path": "03_entrenamiento.ipynb",
   "output_path": "ejecuciones\\training\\03_entrenamiento.20231030T151055.param_0000_6578_bin_s_ANOVA_RF.output.ipynb",
   "parameters": {
    "MAX_ITERS": 500,
    "M_CLASIF": "RF",
    "M_FICHERO": "metricas_6578",
    "M_SELECT": "ANOVA",
    "M_TIPO": "bin_s",
    "PRE_DATA_FILE": "rows_transpose_norm_by_gene_id_with_target_num_",
    "P_FICHERO": "param_0000_6578_bin_s_ANOVA_RF.yaml",
    "R_FICHERO": "resultados_6578",
    "SCORING": "roc_auc_ovr",
    "SEMILLA": 6578,
    "eval_clasifier": "RandomForestClassifier(random_state=SEMILLA)",
    "eval_selector": "SelectKBest(score_func=f_classif)",
    "param_distributions": {
     "clasifier__bootstrap": [
      true
     ],
     "clasifier__max_depth": [
      "None"
     ],
     "clasifier__max_features": [
      "sqrt"
     ],
     "clasifier__min_samples_leaf": [
      5
     ],
     "clasifier__min_samples_split": [
      20
     ],
     "clasifier__n_estimators": [
      50
     ],
     "selector__k": [
      150
     ]
    }
   },
   "start_time": "2023-10-30T14:10:56.300560",
   "version": "2.4.0"
  }
 },
 "nbformat": 4,
 "nbformat_minor": 5
}