{
 "cells": [
  {
   "cell_type": "markdown",
   "id": "689543f4",
   "metadata": {
    "papermill": {
     "duration": 0.003191,
     "end_time": "2023-10-30T11:37:11.385036",
     "exception": false,
     "start_time": "2023-10-30T11:37:11.381845",
     "status": "completed"
    },
    "tags": []
   },
   "source": [
    "##### Inicio"
   ]
  },
  {
   "cell_type": "markdown",
   "id": "b794511d",
   "metadata": {
    "papermill": {
     "duration": 0.002336,
     "end_time": "2023-10-30T11:37:11.389895",
     "exception": false,
     "start_time": "2023-10-30T11:37:11.387559",
     "status": "completed"
    },
    "tags": []
   },
   "source": [
    "#### Carga de datos"
   ]
  },
  {
   "cell_type": "code",
   "execution_count": 1,
   "id": "b52662b4",
   "metadata": {
    "execution": {
     "iopub.execute_input": "2023-10-30T11:37:11.395966Z",
     "iopub.status.busy": "2023-10-30T11:37:11.395538Z",
     "iopub.status.idle": "2023-10-30T11:37:12.268872Z",
     "shell.execute_reply": "2023-10-30T11:37:12.268254Z"
    },
    "papermill": {
     "duration": 0.877923,
     "end_time": "2023-10-30T11:37:12.270187",
     "exception": false,
     "start_time": "2023-10-30T11:37:11.392264",
     "status": "completed"
    },
    "tags": []
   },
   "outputs": [
    {
     "name": "stdout",
     "output_type": "stream",
     "text": [
      "CPU_COUNT: 8; NODE: amilcar22; sys.version: 3.10.12 (main, Jul  5 2023, 19:22:19) [GCC 11.2.0]\n",
      "LOKY_MAX_CPU_COUNT: 6\n",
      "OMP_NUM_THREADS: 2\n"
     ]
    }
   ],
   "source": [
    "import os\n",
    "import numpy as np\n",
    "import pandas as pd\n",
    "import datetime\n",
    "import sklearn\n",
    "import logging\n",
    "import warnings\n",
    "\n",
    "from sklearn.pipeline import Pipeline\n",
    "from sklearn.model_selection import RandomizedSearchCV, KFold, cross_val_score, train_test_split\n",
    "from sklearn.metrics import accuracy_score, confusion_matrix, classification_report, roc_auc_score\n",
    "\n",
    "#  cargar algoritmos para aprendizaje supervisado\n",
    "from sklearn.feature_selection import SelectKBest, f_classif, SelectFromModel, mutual_info_classif\n",
    "from sklearn.svm import SVC\n",
    "from sklearn.ensemble import RandomForestClassifier\n",
    "from sklearn.linear_model import LogisticRegression,LogisticRegressionCV\n",
    "\n",
    "# importar fichero con utilidades propias\n",
    "from commons import myfunctions as myfunc\n"
   ]
  },
  {
   "cell_type": "markdown",
   "id": "6c6195f3",
   "metadata": {
    "papermill": {
     "duration": 0.002598,
     "end_time": "2023-10-30T11:37:12.275737",
     "exception": false,
     "start_time": "2023-10-30T11:37:12.273139",
     "status": "completed"
    },
    "tags": []
   },
   "source": [
    "#### Parámetros a utilizar en el entrenamiento.\n",
    "\n",
    "Se indican los 3 algoritmos de *selección de características* (eval_selector_xxx) y los 3 algoritmos para la _clasificación_ (eval_clasifier_xxx)\n",
    "\n",
    "En *param_distributions* se indicar los parámetros que utilizan los algoritmos en la función RandomSearchCV.\n",
    "\n",
    "Esta celda tiene la etiqueta **parameters** que servirá para poder lanzar los entrenamientos con la utilidad **papermill** pasándole un fichero con los parámetros. Los nuevos parámetros se situarán tras esta celda para tener prevalencia."
   ]
  },
  {
   "cell_type": "code",
   "execution_count": 2,
   "id": "5ed0b883",
   "metadata": {
    "execution": {
     "iopub.execute_input": "2023-10-30T11:37:12.281756Z",
     "iopub.status.busy": "2023-10-30T11:37:12.281476Z",
     "iopub.status.idle": "2023-10-30T11:37:12.288268Z",
     "shell.execute_reply": "2023-10-30T11:37:12.287791Z"
    },
    "papermill": {
     "duration": 0.011294,
     "end_time": "2023-10-30T11:37:12.289499",
     "exception": false,
     "start_time": "2023-10-30T11:37:12.278205",
     "status": "completed"
    },
    "tags": [
     "parameters"
    ]
   },
   "outputs": [
    {
     "name": "stdout",
     "output_type": "stream",
     "text": [
      "20231030T123712 : amilcar22 : INFO : Utilizando parámetros de mul_m\n"
     ]
    }
   ],
   "source": [
    "#  Parametros para el entrenamiento\n",
    "\n",
    "SEMILLA=        42\n",
    "M_TIPO=         \"mul_m\"\n",
    "M_SELECT=       \"MI\"\n",
    "M_CLASIF=       \"SVM\"\n",
    "R_FICHERO=      \"resultados\"\n",
    "M_FICHERO=      \"metricas\"\n",
    "PRE_DATA_FILE=  \"rows_transpose_norm_by_gene_id_with_target_num_\"\n",
    "SCORING=        \"roc_auc_ovr\" \n",
    "MAX_ITERS=      100\n",
    "\n",
    "def mutual_info_classif_state(X, y):\n",
    "    return mutual_info_classif(X, y, random_state=SEMILLA)\n",
    "\n",
    "eval_selector_mi = \"SelectKBest(score_func=mutual_info_classif_state)\"\n",
    "eval_selector_rf=  \"SelectFromModel(estimator=RandomForestClassifier(random_state=SEMILLA), threshold=-np.inf)\"\n",
    "eval_selector_anova=  \"SelectKBest(score_func=f_classif)\"\n",
    "\n",
    "eval_clasifier_svm= \"SVC(probability=True, random_state=SEMILLA)\"\n",
    "eval_clasifier_rf= \"RandomForestClassifier(random_state=SEMILLA)\"\n",
    "eval_clasifier_lr= \"LogisticRegressionCV(random_state=SEMILLA)\"\n",
    "\n",
    "if M_TIPO.startswith(\"bin_m\"):\n",
    "    myfunc.verbose(f\"Utilizando parámetros de {M_TIPO}\")\n",
    "    eval_selector = eval_selector_mi\n",
    "    eval_clasifier = eval_clasifier_svm\n",
    "\n",
    "    SEMILLA = 6578\n",
    "    M_SELECT = \"MI\"\n",
    "    M_CLASIF = \"SVM\"\n",
    "    param_distributions = {'selector__k': [1000], \n",
    "         'clasifier__kernel': ['rbf'], 'clasifier__gamma': [0.01], 'clasifier__C': [100]}\n",
    "elif M_TIPO.startswith(\"bin_s\"):\n",
    "    myfunc.verbose(f\"Utilizando parámetros de {M_TIPO}\")\n",
    "    eval_selector = eval_selector_rf\n",
    "    eval_clasifier = eval_clasifier_lr\n",
    "\n",
    "    SEMILLA = 6191\n",
    "    M_SELECT = \"RF\"\n",
    "    M_CLASIF = \"LR_L2\"\n",
    "    param_distributions = {'selector__max_features': [1000], 'selector__estimator__n_estimators': [200], \n",
    "        'clasifier__solver': ['lbfgs'], 'clasifier__penalty': ['l2'], 'clasifier__max_iter': [10000]}\n",
    "\n",
    "elif M_TIPO.startswith(\"mul_m\"):\n",
    "    myfunc.verbose(f\"Utilizando parámetros de {M_TIPO}\")\n",
    " \n",
    "    eval_selector = eval_selector_rf\n",
    "    eval_clasifier = eval_clasifier_lr\n",
    "\n",
    "    SEMILLA = 6191\n",
    "    M_SELECT = \"RF\"\n",
    "    M_CLASIF = \"LR_L2\"\n",
    "    param_distributions = {'selector__max_features': [1000], 'selector__estimator__n_estimators': [400], \n",
    "        'clasifier__solver': ['lbfgs'], 'clasifier__penalty': ['l2'], 'clasifier__max_iter': [10000]}\n",
    "\n",
    "else:\n",
    "    # M_TIPO.startswith(\"mul_s\"):\n",
    "    myfunc.verbose(f\"Utilizando parámetros de {M_TIPO}\")\n",
    "    eval_selector = eval_selector_anova\n",
    "    eval_clasifier = eval_clasifier_lr\n",
    "\n",
    "    SEMILLA = 1860\n",
    "    M_SELECT = \"ANOVA\"\n",
    "    M_CLASIF = \"LR_L2\"\n",
    "    param_distributions = {'selector__k': [1000], \n",
    "        'clasifier__solver': ['saga'], 'clasifier__penalty': ['l2'], 'clasifier__max_iter': [10000]}\n",
    "\n"
   ]
  },
  {
   "cell_type": "code",
   "execution_count": 3,
   "id": "79c3f927",
   "metadata": {
    "execution": {
     "iopub.execute_input": "2023-10-30T11:37:12.295320Z",
     "iopub.status.busy": "2023-10-30T11:37:12.295149Z",
     "iopub.status.idle": "2023-10-30T11:37:12.298544Z",
     "shell.execute_reply": "2023-10-30T11:37:12.298032Z"
    },
    "papermill": {
     "duration": 0.007628,
     "end_time": "2023-10-30T11:37:12.299736",
     "exception": false,
     "start_time": "2023-10-30T11:37:12.292108",
     "status": "completed"
    },
    "tags": [
     "injected-parameters"
    ]
   },
   "outputs": [],
   "source": [
    "# Parameters\n",
    "M_TIPO = \"mul_s\"\n",
    "M_SELECT = \"RF\"\n",
    "M_CLASIF = \"SVM\"\n",
    "P_FICHERO = \"param_0000_6191_mul_s_RF_SVM.yaml\"\n",
    "R_FICHERO = \"resultados_6191\"\n",
    "M_FICHERO = \"metricas_6191\"\n",
    "PRE_DATA_FILE = \"rows_transpose_norm_by_gene_id_with_target_num_\"\n",
    "SCORING = \"roc_auc_ovr\"\n",
    "SEMILLA = 6191\n",
    "MAX_ITERS = 500\n",
    "eval_selector = \"SelectFromModel(estimator=RandomForestClassifier(random_state=SEMILLA), threshold=-np.inf)\"\n",
    "eval_clasifier = \"SVC(probability=True, random_state=SEMILLA)\"\n",
    "param_distributions = {\n",
    "    \"selector__max_features\": [200],\n",
    "    \"selector__estimator__n_estimators\": [100],\n",
    "    \"clasifier__kernel\": [\"rbf\"],\n",
    "    \"clasifier__gamma\": [0.01],\n",
    "    \"clasifier__C\": [10],\n",
    "}\n"
   ]
  },
  {
   "cell_type": "code",
   "execution_count": 4,
   "id": "30dbe6d7",
   "metadata": {
    "execution": {
     "iopub.execute_input": "2023-10-30T11:37:12.305817Z",
     "iopub.status.busy": "2023-10-30T11:37:12.305647Z",
     "iopub.status.idle": "2023-10-30T11:37:12.308660Z",
     "shell.execute_reply": "2023-10-30T11:37:12.308175Z"
    },
    "papermill": {
     "duration": 0.007395,
     "end_time": "2023-10-30T11:37:12.309852",
     "exception": false,
     "start_time": "2023-10-30T11:37:12.302457",
     "status": "completed"
    },
    "tags": []
   },
   "outputs": [],
   "source": [
    "DATA_FILE = PRE_DATA_FILE + M_TIPO\n",
    "\n",
    "# si viene \"None\" en el parámetro max_depth, se le quitan las comillas para que no sea entendido por el algoritmo como un texto\n",
    "if \"clasifier__max_depth\" in param_distributions:\n",
    "    param_distributions['clasifier__max_depth'] = [None if x == 'None' else x for x in param_distributions['clasifier__max_depth']]"
   ]
  },
  {
   "cell_type": "markdown",
   "id": "670cf6a6",
   "metadata": {
    "papermill": {
     "duration": 0.002797,
     "end_time": "2023-10-30T11:37:12.315555",
     "exception": false,
     "start_time": "2023-10-30T11:37:12.312758",
     "status": "completed"
    },
    "tags": []
   },
   "source": [
    "Asignar los algoritmos que se utilizarán en la función RandomSearchCV"
   ]
  },
  {
   "cell_type": "code",
   "execution_count": 5,
   "id": "b4b28db9",
   "metadata": {
    "execution": {
     "iopub.execute_input": "2023-10-30T11:37:12.321985Z",
     "iopub.status.busy": "2023-10-30T11:37:12.321815Z",
     "iopub.status.idle": "2023-10-30T11:37:12.324651Z",
     "shell.execute_reply": "2023-10-30T11:37:12.324160Z"
    },
    "papermill": {
     "duration": 0.007441,
     "end_time": "2023-10-30T11:37:12.325876",
     "exception": false,
     "start_time": "2023-10-30T11:37:12.318435",
     "status": "completed"
    },
    "tags": []
   },
   "outputs": [],
   "source": [
    "algor_selector=eval(eval_selector)\n",
    "algor_clasifier=eval(eval_clasifier)"
   ]
  },
  {
   "cell_type": "markdown",
   "id": "a6fcfe25",
   "metadata": {
    "papermill": {
     "duration": 0.003223,
     "end_time": "2023-10-30T11:37:12.332295",
     "exception": false,
     "start_time": "2023-10-30T11:37:12.329072",
     "status": "completed"
    },
    "tags": []
   },
   "source": [
    "#### Comprobar el entorno y leer fichero de muestras"
   ]
  },
  {
   "cell_type": "code",
   "execution_count": 6,
   "id": "58cc0896",
   "metadata": {
    "execution": {
     "iopub.execute_input": "2023-10-30T11:37:12.339552Z",
     "iopub.status.busy": "2023-10-30T11:37:12.339359Z",
     "iopub.status.idle": "2023-10-30T11:37:12.469183Z",
     "shell.execute_reply": "2023-10-30T11:37:12.468541Z"
    },
    "papermill": {
     "duration": 0.135092,
     "end_time": "2023-10-30T11:37:12.470599",
     "exception": false,
     "start_time": "2023-10-30T11:37:12.335507",
     "status": "completed"
    },
    "tags": []
   },
   "outputs": [
    {
     "name": "stdout",
     "output_type": "stream",
     "text": [
      "20231030T123712 : amilcar22 : INFO : Encontrada carpeta DATA_DIR=../tfm_git/datos\n",
      "20231030T123712 : amilcar22 : INFO : Encontrada carpeta CFDNA_DIR=../tfm_git/datos/cfDNA_5hmC\n",
      "20231030T123712 : amilcar22 : INFO : Encontrada carpeta GENCODE_DIR=../tfm_git/datos/gencode\n",
      "20231030T123712 : amilcar22 : INFO : Encontrada carpeta H5_DIR=../tfm_git/datos/h5\n",
      "20231030T123712 : amilcar22 : INFO : Encontrada carpeta LOG_DIR=../tfm_git/datos/logs\n",
      "20231030T123712 : amilcar22 : INFO : Encontrada carpeta CSV_DIR=../tfm_git/datos/csv\n",
      "20231030T123712 : amilcar22 : INFO : Encontrada carpeta MODEL_DIR=../tfm_git/ejecuciones/modelos\n",
      "20231030T123712 : amilcar22 : INFO : Encontrada carpeta EXEC_DIR=../tfm_git/ejecuciones\n",
      "20231030T123712 : amilcar22 : INFO : Encontrada carpeta MET_DIR=../tfm_git/ejecuciones/metricas\n",
      "20231030T123712 : amilcar22 : INFO : Inicio leer fichero h5 ../tfm_git/datos/h5/rows_transpose_norm_by_gene_id_with_target_num_mul_s.h5\n",
      "20231030T123712 : amilcar22 : INFO : Leyendo clave /df\n",
      "20231030T123712 : amilcar22 : INFO : Tamaño (259, 18876)\n",
      "20231030T123712 : amilcar22 : INFO : Fin leer fichero h5 ../tfm_git/datos/h5/rows_transpose_norm_by_gene_id_with_target_num_mul_s.h5\n"
     ]
    },
    {
     "data": {
      "text/plain": [
       "target\n",
       "0    37\n",
       "1    37\n",
       "2    37\n",
       "3    37\n",
       "4    37\n",
       "5    37\n",
       "6    37\n",
       "dtype: int64"
      ]
     },
     "metadata": {},
     "output_type": "display_data"
    },
    {
     "name": "stdout",
     "output_type": "stream",
     "text": [
      "Shape df: (259, 18876)\n",
      "Shape X_train: (207, 18875)\n",
      "Shape X_test: (52, 18875)\n"
     ]
    }
   ],
   "source": [
    "start_time = datetime.datetime.now()\n",
    "\n",
    "myfunc.reset_vars()\n",
    "\n",
    "myfunc.NOTEBK_FILENAME = myfunc.get_nb_name()\n",
    "\n",
    "myfunc.check_enviroment(myfunc.DATA_DIR, myfunc.CFDNA_DIR, myfunc.GENCODE_DIR, myfunc.H5_DIR, myfunc.LOG_DIR, myfunc.CSV_DIR, myfunc.MODEL_DIR, myfunc.EXEC_DIR, myfunc.MET_DIR)\n",
    "\n",
    "# Leer fichero con las muestras\n",
    "df_t = myfunc.read_h5_to_df(DATA_FILE, myfunc.H5_DIR)\n",
    "display(df_t.groupby(\"target\").size())\n",
    "print(\"Shape df:\",df_t.shape)\n",
    "\n",
    "# Separar caracteristicas/genes de las etiquetas/tipos de cáncer\n",
    "X = df_t.iloc[:, :-1]  # Todas las columnas excepto la última\n",
    "y = df_t.iloc[:, -1]  # La última columna contiene los identificadores de los tipos de cáncer\n",
    "\n",
    "#  Crear el conjunto de datos de entrenamiento y de pruebas, y se fija la semilla para siempre coger el mismo juego de muestras\n",
    "X_train, X_test, y_train, y_test = train_test_split(X, y, test_size=0.2, shuffle=True, random_state=42)\n",
    "print(\"Shape X_train:\",X_train.shape)\n",
    "print(\"Shape X_test:\",X_test.shape)\n"
   ]
  },
  {
   "cell_type": "markdown",
   "id": "0d192082",
   "metadata": {
    "papermill": {
     "duration": 0.002805,
     "end_time": "2023-10-30T11:37:12.476980",
     "exception": false,
     "start_time": "2023-10-30T11:37:12.474175",
     "status": "completed"
    },
    "tags": []
   },
   "source": [
    "#### Selección de características y clasificación."
   ]
  },
  {
   "cell_type": "code",
   "execution_count": 7,
   "id": "d0152b03",
   "metadata": {
    "execution": {
     "iopub.execute_input": "2023-10-30T11:37:12.483381Z",
     "iopub.status.busy": "2023-10-30T11:37:12.483202Z",
     "iopub.status.idle": "2023-10-30T11:37:16.572675Z",
     "shell.execute_reply": "2023-10-30T11:37:16.572056Z"
    },
    "papermill": {
     "duration": 4.094154,
     "end_time": "2023-10-30T11:37:16.573900",
     "exception": false,
     "start_time": "2023-10-30T11:37:12.479746",
     "status": "completed"
    },
    "tags": []
   },
   "outputs": [
    {
     "name": "stdout",
     "output_type": "stream",
     "text": [
      "20231030T123712 : amilcar22 : INFO : Iniciando entrenamiento\n",
      "num_iter: 1 , max_iter: 1\n"
     ]
    },
    {
     "name": "stdout",
     "output_type": "stream",
     "text": [
      "Fitting 5 folds for each of 1 candidates, totalling 5 fits\n"
     ]
    },
    {
     "name": "stdout",
     "output_type": "stream",
     "text": [
      "Mejores Hiperparámetros: {'selector__max_features': 200, 'selector__estimator__n_estimators': 100, 'clasifier__kernel': 'rbf', 'clasifier__gamma': 0.01, 'clasifier__C': 10}\n",
      "Mejor Puntuación: 0.7510\n",
      "20231030T123716 : amilcar22 : INFO : Fin entrenamiento\n"
     ]
    }
   ],
   "source": [
    "myfunc.verbose(\"Iniciando entrenamiento\")\n",
    "\n",
    "kf = KFold(n_splits=5, shuffle=True, random_state=SEMILLA)\n",
    "\n",
    "# Crear el pipeline para el flujo de tareas\n",
    "tasks_pipeline = Pipeline([\n",
    "    ('selector', algor_selector),\n",
    "    ('clasifier', algor_clasifier)\n",
    "])\n",
    "\n",
    "# MAX_ITERS puede limitar el número de iteraciones si son excesivas para las combinaciones de parámetros buscando un óptimo local, \n",
    "# sino funcionaría como GridSearchCV al revisar todas las cominaciones de los parámetros\n",
    "num_iteraciones = 1\n",
    "num_iteraciones = num_iteraciones * np.prod([len(elemento1) for _, elemento1 in param_distributions.items()])\n",
    "max_iteraciones = num_iteraciones if num_iteraciones <= MAX_ITERS else MAX_ITERS\n",
    "print(\"num_iter:\",num_iteraciones,\", max_iter:\",max_iteraciones)\n",
    "\n",
    "random_search = RandomizedSearchCV(\n",
    "    tasks_pipeline, \n",
    "    param_distributions, \n",
    "    n_iter=max_iteraciones,\n",
    "    scoring=SCORING,\n",
    "    cv=kf,\n",
    "    verbose=3, \n",
    "    random_state=SEMILLA, \n",
    "    n_jobs=-1\n",
    "    )\n",
    "\n",
    "# Entrenar el modelo\n",
    "random_search.fit(X_train, y_train)\n",
    "\n",
    "# Ver los mejores hiperparámetros encontrados\n",
    "print(f'Mejores Hiperparámetros: {random_search.best_params_}')\n",
    "print(f'Mejor Puntuación: {random_search.best_score_:.4f}')\n",
    "\n",
    "# Nos quedamos con el mejor modelo para ver las métricas\n",
    "mejor_modelo = random_search.best_estimator_\n",
    "\n",
    "myfunc.verbose(\"Fin entrenamiento\")"
   ]
  },
  {
   "cell_type": "markdown",
   "id": "b8edb2b4",
   "metadata": {
    "papermill": {
     "duration": 0.002938,
     "end_time": "2023-10-30T11:37:16.580252",
     "exception": false,
     "start_time": "2023-10-30T11:37:16.577314",
     "status": "completed"
    },
    "tags": []
   },
   "source": [
    "#### Guardar modelo"
   ]
  },
  {
   "cell_type": "code",
   "execution_count": 8,
   "id": "26a5c305",
   "metadata": {
    "execution": {
     "iopub.execute_input": "2023-10-30T11:37:16.586998Z",
     "iopub.status.busy": "2023-10-30T11:37:16.586815Z",
     "iopub.status.idle": "2023-10-30T11:37:16.626868Z",
     "shell.execute_reply": "2023-10-30T11:37:16.626244Z"
    },
    "papermill": {
     "duration": 0.045029,
     "end_time": "2023-10-30T11:37:16.628198",
     "exception": false,
     "start_time": "2023-10-30T11:37:16.583169",
     "status": "completed"
    },
    "tags": []
   },
   "outputs": [
    {
     "name": "stdout",
     "output_type": "stream",
     "text": [
      "20231030T123716 : amilcar22 : INFO : Inicio guardar fichero ../tfm_git/ejecuciones/modelos/modelo_6191_mul_s_RF_SVM.pkl\n",
      "20231030T123716 : amilcar22 : INFO : Fin guardar fichero ../tfm_git/ejecuciones/modelos/modelo_6191_mul_s_RF_SVM.pkl\n"
     ]
    }
   ],
   "source": [
    "fichero_modelo = str.replace(\"modelo_\"+str(SEMILLA).zfill(4)+\"_\"+M_TIPO+\"_\"+M_SELECT+\"_\"+M_CLASIF+\".pkl\", \" \", \"_\")\n",
    "\n",
    "myfunc.save_modelo(mejor_modelo, myfunc.MODEL_DIR, fichero_modelo)"
   ]
  },
  {
   "cell_type": "markdown",
   "id": "4b72f247",
   "metadata": {
    "papermill": {
     "duration": 0.003451,
     "end_time": "2023-10-30T11:37:16.634950",
     "exception": false,
     "start_time": "2023-10-30T11:37:16.631499",
     "status": "completed"
    },
    "tags": []
   },
   "source": [
    "#### Ver resultados del las iteraciones hechas por RandomSearchCV"
   ]
  },
  {
   "cell_type": "code",
   "execution_count": 9,
   "id": "22335019",
   "metadata": {
    "execution": {
     "iopub.execute_input": "2023-10-30T11:37:16.641661Z",
     "iopub.status.busy": "2023-10-30T11:37:16.641493Z",
     "iopub.status.idle": "2023-10-30T11:37:16.647352Z",
     "shell.execute_reply": "2023-10-30T11:37:16.646862Z"
    },
    "papermill": {
     "duration": 0.010691,
     "end_time": "2023-10-30T11:37:16.648599",
     "exception": false,
     "start_time": "2023-10-30T11:37:16.637908",
     "status": "completed"
    },
    "tags": []
   },
   "outputs": [
    {
     "name": "stdout",
     "output_type": "stream",
     "text": [
      "20231030T123716 : amilcar22 : INFO : Inicio ver resultados\n",
      "Mejores Hiperparámetros: {'selector__max_features': 200, 'selector__estimator__n_estimators': 100, 'clasifier__kernel': 'rbf', 'clasifier__gamma': 0.01, 'clasifier__C': 10}\n",
      "Mejores puntuaciones: 0.7510 | Params: {'selector__max_features': 200, 'selector__estimator__n_estimators': 100, 'clasifier__kernel': 'rbf', 'clasifier__gamma': 0.01, 'clasifier__C': 10}\n",
      "Media de las puntuaciones: 0.7510 | Params: {'selector__max_features': 200, 'selector__estimator__n_estimators': 100, 'clasifier__kernel': 'rbf', 'clasifier__gamma': 0.01, 'clasifier__C': 10}\n",
      "20231030T123716 : amilcar22 : INFO : Fin resultados\n"
     ]
    }
   ],
   "source": [
    "myfunc.ver_resultados_search(random_search)"
   ]
  },
  {
   "cell_type": "markdown",
   "id": "b17389fc",
   "metadata": {
    "papermill": {
     "duration": 0.003128,
     "end_time": "2023-10-30T11:37:16.655015",
     "exception": false,
     "start_time": "2023-10-30T11:37:16.651887",
     "status": "completed"
    },
    "tags": []
   },
   "source": [
    "#### Ver métricas del mejor modelo"
   ]
  },
  {
   "cell_type": "code",
   "execution_count": 10,
   "id": "b20d63df",
   "metadata": {
    "execution": {
     "iopub.execute_input": "2023-10-30T11:37:16.661891Z",
     "iopub.status.busy": "2023-10-30T11:37:16.661700Z",
     "iopub.status.idle": "2023-10-30T11:37:17.307933Z",
     "shell.execute_reply": "2023-10-30T11:37:17.307391Z"
    },
    "papermill": {
     "duration": 0.651038,
     "end_time": "2023-10-30T11:37:17.309193",
     "exception": false,
     "start_time": "2023-10-30T11:37:16.658155",
     "status": "completed"
    },
    "tags": []
   },
   "outputs": [
    {
     "name": "stdout",
     "output_type": "stream",
     "text": [
      "20231030T123716 : amilcar22 : INFO : Inicio ver métricas multiclase\n"
     ]
    },
    {
     "name": "stdout",
     "output_type": "stream",
     "text": [
      "              precision    recall  f1-score   support\n",
      "\n",
      "           0       0.00      0.00      0.00        11\n",
      "           1       0.57      0.50      0.53         8\n",
      "           2       0.67      0.50      0.57         8\n",
      "           3       0.22      0.40      0.29         5\n",
      "           4       0.50      0.75      0.60         8\n",
      "           5       0.43      0.50      0.46         6\n",
      "           6       0.22      0.33      0.27         6\n",
      "\n",
      "    accuracy                           0.40        52\n",
      "   macro avg       0.37      0.43      0.39        52\n",
      "weighted avg       0.36      0.40      0.37        52\n",
      "\n",
      "\n",
      "\n",
      "           Exactitud: 0.403846\n",
      "   Precisión (media): 0.373016\n",
      "      Recall (media): 0.426190\n",
      "    F1-score (media): 0.388383\n",
      "\n",
      "\n",
      "AUC para el tipo de cáncer 0-Control.... 0.5299\n",
      "AUC para el tipo de cáncer 1-Bladder.... 0.7841\n",
      "AUC para el tipo de cáncer 2-Breast..... 0.7699\n",
      "AUC para el tipo de cáncer 3-Colorectal. 0.7234\n",
      "AUC para el tipo de cáncer 4-Kidney..... 0.9375\n",
      "AUC para el tipo de cáncer 5-Lung....... 0.8478\n",
      "AUC para el tipo de cáncer 6-Prostate... 0.7826\n"
     ]
    },
    {
     "name": "stdout",
     "output_type": "stream",
     "text": [
      "\n",
      "Media de AUC: 0.7679\n"
     ]
    },
    {
     "data": {
      "image/png": "[encoded data removed]",
      "text/plain": [
       "<Figure size 1000x600 with 1 Axes>"
      ]
     },
     "metadata": {},
     "output_type": "display_data"
    },
    {
     "name": "stdout",
     "output_type": "stream",
     "text": [
      "\n",
      "\n"
     ]
    },
    {
     "data": {
      "image/png": "[encoded data removed]",
      "text/plain": [
       "<Figure size 800x400 with 2 Axes>"
      ]
     },
     "metadata": {},
     "output_type": "display_data"
    },
    {
     "name": "stdout",
     "output_type": "stream",
     "text": [
      "\n",
      "\n",
      "Puntuación Jaccard para el cáncer tipo 0-Control.... 0.0000\n",
      "Puntuación Jaccard para el cáncer tipo 1-Bladder.... 0.3636\n",
      "Puntuación Jaccard para el cáncer tipo 2-Breast..... 0.4000\n",
      "Puntuación Jaccard para el cáncer tipo 3-Colorectal. 0.1667\n",
      "Puntuación Jaccard para el cáncer tipo 4-Kidney..... 0.4286\n",
      "Puntuación Jaccard para el cáncer tipo 5-Lung....... 0.3000\n",
      "Puntuación Jaccard para el cáncer tipo 6-Prostate... 0.1538\n",
      "\n",
      "Media de la puntuación de Jaccard: 0.2590\n"
     ]
    }
   ],
   "source": [
    "if M_TIPO.startswith(\"bin\"):\n",
    "    myfunc.ver_metricas(mejor_modelo, X_test, y_test)\n",
    "else:\n",
    "    myfunc.ver_metricas_multi(mejor_modelo, X_test, y_test)\n"
   ]
  },
  {
   "cell_type": "markdown",
   "id": "b583d33c",
   "metadata": {
    "papermill": {
     "duration": 0.004156,
     "end_time": "2023-10-30T11:37:17.318082",
     "exception": false,
     "start_time": "2023-10-30T11:37:17.313926",
     "status": "completed"
    },
    "tags": []
   },
   "source": [
    "#### Finalización del notebook"
   ]
  },
  {
   "cell_type": "code",
   "execution_count": 11,
   "id": "fe03bd0f",
   "metadata": {
    "execution": {
     "iopub.execute_input": "2023-10-30T11:37:17.327280Z",
     "iopub.status.busy": "2023-10-30T11:37:17.327061Z",
     "iopub.status.idle": "2023-10-30T11:37:17.330522Z",
     "shell.execute_reply": "2023-10-30T11:37:17.330035Z"
    },
    "papermill": {
     "duration": 0.009349,
     "end_time": "2023-10-30T11:37:17.331625",
     "exception": false,
     "start_time": "2023-10-30T11:37:17.322276",
     "status": "completed"
    },
    "tags": []
   },
   "outputs": [
    {
     "name": "stdout",
     "output_type": "stream",
     "text": [
      "20231030T123717 : amilcar22 : INFO : Notebook ha tardado 4 seconds\n"
     ]
    }
   ],
   "source": [
    "end_time = datetime.datetime.now()\n",
    "total_time = end_time - start_time\n",
    "myfunc.verbose(f\"Notebook ha tardado {total_time.seconds} seconds\")"
   ]
  },
  {
   "cell_type": "markdown",
   "id": "31c6a8fb",
   "metadata": {
    "papermill": {
     "duration": 0.004085,
     "end_time": "2023-10-30T11:37:17.339848",
     "exception": false,
     "start_time": "2023-10-30T11:37:17.335763",
     "status": "completed"
    },
    "tags": []
   },
   "source": [
    "#### Guardar métricas"
   ]
  },
  {
   "cell_type": "code",
   "execution_count": 12,
   "id": "12343c0d",
   "metadata": {
    "execution": {
     "iopub.execute_input": "2023-10-30T11:37:17.348897Z",
     "iopub.status.busy": "2023-10-30T11:37:17.348715Z",
     "iopub.status.idle": "2023-10-30T11:37:17.629840Z",
     "shell.execute_reply": "2023-10-30T11:37:17.629342Z"
    },
    "papermill": {
     "duration": 0.286941,
     "end_time": "2023-10-30T11:37:17.630935",
     "exception": false,
     "start_time": "2023-10-30T11:37:17.343994",
     "status": "completed"
    },
    "tags": []
   },
   "outputs": [
    {
     "name": "stdout",
     "output_type": "stream",
     "text": [
      "20231030T123717 : amilcar22 : INFO : Inicio guardar métricas multiclase\n",
      "20231030T123717 : amilcar22 : INFO : Inicio leer fichero ../tfm_git/ejecuciones/metricas/metricas_6191.csv\n",
      "20231030T123717 : amilcar22 : INFO : Fin leer fichero ../tfm_git/ejecuciones/metricas/metricas_6191.csv\n"
     ]
    },
    {
     "name": "stdout",
     "output_type": "stream",
     "text": [
      "20231030T123717 : amilcar22 : INFO : Inicio guardar fichero ../tfm_git/ejecuciones/metricas/metricas_6191.csv\n",
      "20231030T123717 : amilcar22 : INFO : Fichero borrado ../tfm_git/ejecuciones/metricas/metricas_6191.csv\n",
      "20231030T123717 : amilcar22 : INFO : Fin guardar fichero ../tfm_git/ejecuciones/metricas/metricas_6191.csv\n",
      "20231030T123717 : amilcar22 : INFO : Fin guardar métricas multiclase\n",
      "20231030T123717 : amilcar22 : INFO : Inicio leer fichero ../tfm_git/ejecuciones/metricas/metricas_6191.csv\n",
      "20231030T123717 : amilcar22 : INFO : Fin leer fichero ../tfm_git/ejecuciones/metricas/metricas_6191.csv\n"
     ]
    },
    {
     "data": {
      "text/html": [
       "<div>\n",
       "<style scoped>\n",
       "    .dataframe tbody tr th:only-of-type {\n",
       "        vertical-align: middle;\n",
       "    }\n",
       "\n",
       "    .dataframe tbody tr th {\n",
       "        vertical-align: top;\n",
       "    }\n",
       "\n",
       "    .dataframe thead th {\n",
       "        text-align: right;\n",
       "    }\n",
       "</style>\n",
       "<table border=\"1\" class=\"dataframe\">\n",
       "  <thead>\n",
       "    <tr style=\"text-align: right;\">\n",
       "      <th></th>\n",
       "      <th>tipo</th>\n",
       "      <th>select</th>\n",
       "      <th>clasific</th>\n",
       "      <th>semilla</th>\n",
       "      <th>accuracy</th>\n",
       "      <th>precision</th>\n",
       "      <th>recall</th>\n",
       "      <th>f1_score</th>\n",
       "      <th>roc_auc</th>\n",
       "      <th>hostname</th>\n",
       "      <th>total_time_sec</th>\n",
       "      <th>datetime</th>\n",
       "      <th>fichero_modelo</th>\n",
       "      <th>params</th>\n",
       "      <th>shape</th>\n",
       "      <th>features</th>\n",
       "      <th>roc_auc_ovr</th>\n",
       "      <th>indices_auc</th>\n",
       "      <th>indices_jaccard</th>\n",
       "    </tr>\n",
       "  </thead>\n",
       "  <tbody>\n",
       "    <tr>\n",
       "      <th>0</th>\n",
       "      <td>mul_s</td>\n",
       "      <td>RF</td>\n",
       "      <td>SVM</td>\n",
       "      <td>6191</td>\n",
       "      <td>0.403846</td>\n",
       "      <td>0.373016</td>\n",
       "      <td>0.426190</td>\n",
       "      <td>0.388383</td>\n",
       "      <td>NaN</td>\n",
       "      <td>amilcar22</td>\n",
       "      <td>4</td>\n",
       "      <td>2023-10-30 12:37:17.595709</td>\n",
       "      <td>modelo_6191_mul_s_RF_SVM.pkl</td>\n",
       "      <td>{'selector__max_features': 200, 'selector__est...</td>\n",
       "      <td>X_test:(52, 18875)</td>\n",
       "      <td>['ENSG00000007237.19', 'ENSG00000035862.13', '...</td>\n",
       "      <td>0.767893</td>\n",
       "      <td>[0.5299334811529934, 0.7840909090909091, 0.769...</td>\n",
       "      <td>[0.0, 0.36363636363636365, 0.4, 0.166666666666...</td>\n",
       "    </tr>\n",
       "    <tr>\n",
       "      <th>0</th>\n",
       "      <td>mul_s</td>\n",
       "      <td>RF</td>\n",
       "      <td>RF</td>\n",
       "      <td>6191</td>\n",
       "      <td>0.384615</td>\n",
       "      <td>0.377201</td>\n",
       "      <td>0.382035</td>\n",
       "      <td>0.358641</td>\n",
       "      <td>NaN</td>\n",
       "      <td>amilcar22</td>\n",
       "      <td>24</td>\n",
       "      <td>2023-10-30 12:37:06.290073</td>\n",
       "      <td>modelo_6191_mul_s_RF_RF.pkl</td>\n",
       "      <td>{'selector__max_features': 1000, 'selector__es...</td>\n",
       "      <td>X_test:(52, 18875)</td>\n",
       "      <td>['ENSG00000003436.16', 'ENSG00000005073.6', 'E...</td>\n",
       "      <td>0.757366</td>\n",
       "      <td>[0.4700665188470066, 0.8181818181818181, 0.730...</td>\n",
       "      <td>[0.07692307692307693, 0.4166666666666667, 0.3,...</td>\n",
       "    </tr>\n",
       "    <tr>\n",
       "      <th>0</th>\n",
       "      <td>mul_s</td>\n",
       "      <td>RF</td>\n",
       "      <td>LR_L2</td>\n",
       "      <td>6191</td>\n",
       "      <td>0.423077</td>\n",
       "      <td>0.409014</td>\n",
       "      <td>0.436688</td>\n",
       "      <td>0.406573</td>\n",
       "      <td>NaN</td>\n",
       "      <td>amilcar22</td>\n",
       "      <td>17</td>\n",
       "      <td>2023-10-30 12:36:35.386828</td>\n",
       "      <td>modelo_6191_mul_s_RF_LR_L2.pkl</td>\n",
       "      <td>{'selector__max_features': 500, 'selector__est...</td>\n",
       "      <td>X_test:(52, 18875)</td>\n",
       "      <td>['ENSG00000003137.9', 'ENSG00000005844.19', 'E...</td>\n",
       "      <td>0.792406</td>\n",
       "      <td>[0.6674057649667406, 0.8778409090909091, 0.721...</td>\n",
       "      <td>[0.13333333333333333, 0.36363636363636365, 0.1...</td>\n",
       "    </tr>\n",
       "  </tbody>\n",
       "</table>\n",
       "</div>"
      ],
      "text/plain": [
       "    tipo select clasific  semilla  accuracy  precision    recall  f1_score  \\\n",
       "0  mul_s     RF      SVM     6191  0.403846   0.373016  0.426190  0.388383   \n",
       "0  mul_s     RF       RF     6191  0.384615   0.377201  0.382035  0.358641   \n",
       "0  mul_s     RF    LR_L2     6191  0.423077   0.409014  0.436688  0.406573   \n",
       "\n",
       "   roc_auc   hostname  total_time_sec                    datetime  \\\n",
       "0      NaN  amilcar22               4  2023-10-30 12:37:17.595709   \n",
       "0      NaN  amilcar22              24  2023-10-30 12:37:06.290073   \n",
       "0      NaN  amilcar22              17  2023-10-30 12:36:35.386828   \n",
       "\n",
       "                   fichero_modelo  \\\n",
       "0    modelo_6191_mul_s_RF_SVM.pkl   \n",
       "0     modelo_6191_mul_s_RF_RF.pkl   \n",
       "0  modelo_6191_mul_s_RF_LR_L2.pkl   \n",
       "\n",
       "                                              params               shape  \\\n",
       "0  {'selector__max_features': 200, 'selector__est...  X_test:(52, 18875)   \n",
       "0  {'selector__max_features': 1000, 'selector__es...  X_test:(52, 18875)   \n",
       "0  {'selector__max_features': 500, 'selector__est...  X_test:(52, 18875)   \n",
       "\n",
       "                                            features  roc_auc_ovr  \\\n",
       "0  ['ENSG00000007237.19', 'ENSG00000035862.13', '...     0.767893   \n",
       "0  ['ENSG00000003436.16', 'ENSG00000005073.6', 'E...     0.757366   \n",
       "0  ['ENSG00000003137.9', 'ENSG00000005844.19', 'E...     0.792406   \n",
       "\n",
       "                                         indices_auc  \\\n",
       "0  [0.5299334811529934, 0.7840909090909091, 0.769...   \n",
       "0  [0.4700665188470066, 0.8181818181818181, 0.730...   \n",
       "0  [0.6674057649667406, 0.8778409090909091, 0.721...   \n",
       "\n",
       "                                     indices_jaccard  \n",
       "0  [0.0, 0.36363636363636365, 0.4, 0.166666666666...  \n",
       "0  [0.07692307692307693, 0.4166666666666667, 0.3,...  \n",
       "0  [0.13333333333333333, 0.36363636363636365, 0.1...  "
      ]
     },
     "metadata": {},
     "output_type": "display_data"
    }
   ],
   "source": [
    "if M_TIPO.startswith(\"bin\"):\n",
    "    myfunc.save_metricas_to_csv(random_search, X_test, y_test, M_TIPO, M_SELECT, M_CLASIF, total_time, SEMILLA, myfunc.MET_DIR, M_FICHERO, fichero_modelo)\n",
    "else:\n",
    "    myfunc.save_metricas_multi_to_csv(random_search, X_test, y_test, M_TIPO, M_SELECT, M_CLASIF, total_time, SEMILLA, myfunc.MET_DIR, M_FICHERO, fichero_modelo)\n",
    "\n",
    "df1=myfunc.read_metricas_to_df(myfunc.MET_DIR,M_FICHERO)\n",
    "\n",
    "display(df1.sort_values(\"datetime\", ascending=False)[:3])\n"
   ]
  },
  {
   "cell_type": "markdown",
   "id": "cbbfe0c8",
   "metadata": {
    "papermill": {
     "duration": 0.004477,
     "end_time": "2023-10-30T11:37:17.640182",
     "exception": false,
     "start_time": "2023-10-30T11:37:17.635705",
     "status": "completed"
    },
    "tags": []
   },
   "source": [
    "#### Guardar resultados"
   ]
  },
  {
   "cell_type": "code",
   "execution_count": 13,
   "id": "e8807454",
   "metadata": {
    "execution": {
     "iopub.execute_input": "2023-10-30T11:37:17.649631Z",
     "iopub.status.busy": "2023-10-30T11:37:17.649445Z",
     "iopub.status.idle": "2023-10-30T11:37:17.657443Z",
     "shell.execute_reply": "2023-10-30T11:37:17.656855Z"
    },
    "papermill": {
     "duration": 0.014144,
     "end_time": "2023-10-30T11:37:17.658656",
     "exception": false,
     "start_time": "2023-10-30T11:37:17.644512",
     "status": "completed"
    },
    "tags": []
   },
   "outputs": [
    {
     "name": "stdout",
     "output_type": "stream",
     "text": [
      "20231030T123717 : amilcar22 : INFO : Inicio guardar resultados\n",
      "20231030T123717 : amilcar22 : INFO : Inicio guardar fichero ../tfm_git/ejecuciones/metricas/resultados_6191_mul_s-RF-SVM.csv\n",
      "20231030T123717 : amilcar22 : INFO : Fin guardar fichero ../tfm_git/ejecuciones/metricas/resultados_6191_mul_s-RF-SVM.csv\n",
      "20231030T123717 : amilcar22 : INFO : Fin guardar resultados\n"
     ]
    }
   ],
   "source": [
    "fichero_resultados=R_FICHERO+\"_\"+M_TIPO+\"-\"+M_SELECT+\"-\"+M_CLASIF+\".csv\"\n",
    "myfunc.save_resultados_to_csv(M_TIPO, M_SELECT, M_CLASIF,  random_search, myfunc.MET_DIR, fichero_resultados)\n"
   ]
  }
 ],
 "metadata": {
  "kernelspec": {
   "display_name": "Python 3 (ipykernel)",
   "language": "python",
   "name": "python3"
  },
  "language_info": {
   "codemirror_mode": {
    "name": "ipython",
    "version": 3
   },
   "file_extension": ".py",
   "mimetype": "text/x-python",
   "name": "python",
   "nbconvert_exporter": "python",
   "pygments_lexer": "ipython3",
   "version": "3.10.12"
  },
  "papermill": {
   "default_parameters": {},
   "duration": 9.811159,
   "end_time": "2023-10-30T11:37:20.280005",
   "environment_variables": {},
   "exception": null,
   "input_path": "03_entrenamiento.ipynb",
   "output_path": "ejecuciones/training/03_entrenamiento.20231030T123710.param_0000_6191_mul_s_RF_SVM.output.ipynb",
   "parameters": {
    "MAX_ITERS": 500,
    "M_CLASIF": "SVM",
    "M_FICHERO": "metricas_6191",
    "M_SELECT": "RF",
    "M_TIPO": "mul_s",
    "PRE_DATA_FILE": "rows_transpose_norm_by_gene_id_with_target_num_",
    "P_FICHERO": "param_0000_6191_mul_s_RF_SVM.yaml",
    "R_FICHERO": "resultados_6191",
    "SCORING": "roc_auc_ovr",
    "SEMILLA": 6191,
    "eval_clasifier": "SVC(probability=True, random_state=SEMILLA)",
    "eval_selector": "SelectFromModel(estimator=RandomForestClassifier(random_state=SEMILLA), threshold=-np.inf)",
    "param_distributions": {
     "clasifier__C": [
      10
     ],
     "clasifier__gamma": [
      0.01
     ],
     "clasifier__kernel": [
      "rbf"
     ],
     "selector__estimator__n_estimators": [
      100
     ],
     "selector__max_features": [
      200
     ]
    }
   },
   "start_time": "2023-10-30T11:37:10.468846",
   "version": "2.4.0"
  }
 },
 "nbformat": 4,
 "nbformat_minor": 5
}