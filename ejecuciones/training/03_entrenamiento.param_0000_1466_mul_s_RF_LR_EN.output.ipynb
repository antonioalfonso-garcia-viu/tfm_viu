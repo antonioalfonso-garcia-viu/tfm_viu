{
 "cells": [
  {
   "cell_type": "markdown",
   "id": "bca24758",
   "metadata": {
    "papermill": {
     "duration": 0.004434,
     "end_time": "2023-10-30T04:15:13.104530",
     "exception": false,
     "start_time": "2023-10-30T04:15:13.100096",
     "status": "completed"
    },
    "tags": []
   },
   "source": [
    "##### Inicio"
   ]
  },
  {
   "cell_type": "markdown",
   "id": "58f39adf",
   "metadata": {
    "papermill": {
     "duration": 0.003615,
     "end_time": "2023-10-30T04:15:13.112079",
     "exception": false,
     "start_time": "2023-10-30T04:15:13.108464",
     "status": "completed"
    },
    "tags": []
   },
   "source": [
    "#### Carga de datos"
   ]
  },
  {
   "cell_type": "code",
   "execution_count": 1,
   "id": "4d7d4fcd",
   "metadata": {
    "execution": {
     "iopub.execute_input": "2023-10-30T04:15:13.120697Z",
     "iopub.status.busy": "2023-10-30T04:15:13.120442Z",
     "iopub.status.idle": "2023-10-30T04:15:13.985683Z",
     "shell.execute_reply": "2023-10-30T04:15:13.985109Z"
    },
    "papermill": {
     "duration": 0.871167,
     "end_time": "2023-10-30T04:15:13.986973",
     "exception": false,
     "start_time": "2023-10-30T04:15:13.115806",
     "status": "completed"
    },
    "tags": []
   },
   "outputs": [
    {
     "name": "stdout",
     "output_type": "stream",
     "text": [
      "CPU_COUNT: 8; NODE: amilcar22; sys.version: 3.10.12 (main, Jul  5 2023, 19:22:19) [GCC 11.2.0]\n",
      "LOKY_MAX_CPU_COUNT: 6\n",
      "OMP_NUM_THREADS: 2\n"
     ]
    }
   ],
   "source": [
    "import os\n",
    "import numpy as np\n",
    "import pandas as pd\n",
    "import datetime\n",
    "import sklearn\n",
    "import logging\n",
    "import warnings\n",
    "\n",
    "from sklearn.pipeline import Pipeline\n",
    "from sklearn.model_selection import RandomizedSearchCV, KFold, cross_val_score, train_test_split\n",
    "from sklearn.metrics import accuracy_score, confusion_matrix, classification_report, roc_auc_score\n",
    "\n",
    "#  cargar algoritmos para aprendizaje supervisado\n",
    "from sklearn.feature_selection import SelectKBest, f_classif, SelectFromModel, mutual_info_classif\n",
    "from sklearn.svm import SVC\n",
    "from sklearn.ensemble import RandomForestClassifier\n",
    "from sklearn.linear_model import LogisticRegression,LogisticRegressionCV\n",
    "\n",
    "# importar fichero con utilidades propias\n",
    "from commons import myfunctions as myfunc\n"
   ]
  },
  {
   "cell_type": "markdown",
   "id": "93391150",
   "metadata": {
    "papermill": {
     "duration": 0.002705,
     "end_time": "2023-10-30T04:15:13.992706",
     "exception": false,
     "start_time": "2023-10-30T04:15:13.990001",
     "status": "completed"
    },
    "tags": []
   },
   "source": [
    "#### Parámetros a utilizar en el entrenamiento.\n",
    "\n",
    "Se indican los 3 algoritmos de *selección de características* (eval_selector_xxx) y los 3 algoritmos para la _clasificación_ (eval_clasifier_xxx)\n",
    "\n",
    "En *param_distributions* se indicar los parámetros que utilizan los algoritmos en la función RandomSearchCV.\n",
    "\n",
    "Esta celda tiene la etiqueta **parameters** que servirá para poder lanzar los entrenamientos con la utilidad **papermill** pasándole un fichero con los parámetros. Los nuevos parámetros se situarán tras esta celda para tener prevalencia."
   ]
  },
  {
   "cell_type": "code",
   "execution_count": 2,
   "id": "f31c9032",
   "metadata": {
    "execution": {
     "iopub.execute_input": "2023-10-30T04:15:13.998782Z",
     "iopub.status.busy": "2023-10-30T04:15:13.998499Z",
     "iopub.status.idle": "2023-10-30T04:15:14.005369Z",
     "shell.execute_reply": "2023-10-30T04:15:14.004885Z"
    },
    "papermill": {
     "duration": 0.011453,
     "end_time": "2023-10-30T04:15:14.006639",
     "exception": false,
     "start_time": "2023-10-30T04:15:13.995186",
     "status": "completed"
    },
    "tags": [
     "parameters"
    ]
   },
   "outputs": [
    {
     "name": "stdout",
     "output_type": "stream",
     "text": [
      "20231030T051514 : amilcar22 : INFO : Utilizando parámetros de mul_m\n"
     ]
    }
   ],
   "source": [
    "#  Parametros para el entrenamiento\n",
    "\n",
    "SEMILLA=        42\n",
    "M_TIPO=         \"mul_m\"\n",
    "M_SELECT=       \"MI\"\n",
    "M_CLASIF=       \"SVM\"\n",
    "R_FICHERO=      \"resultados\"\n",
    "M_FICHERO=      \"metricas\"\n",
    "PRE_DATA_FILE=  \"rows_transpose_norm_by_gene_id_with_target_num_\"\n",
    "SCORING=        \"roc_auc_ovr\" \n",
    "MAX_ITERS=      100\n",
    "\n",
    "def mutual_info_classif_state(X, y):\n",
    "    return mutual_info_classif(X, y, random_state=SEMILLA)\n",
    "\n",
    "eval_selector_mi = \"SelectKBest(score_func=mutual_info_classif_state)\"\n",
    "eval_selector_rf=  \"SelectFromModel(estimator=RandomForestClassifier(random_state=SEMILLA), threshold=-np.inf)\"\n",
    "eval_selector_anova=  \"SelectKBest(score_func=f_classif)\"\n",
    "\n",
    "eval_clasifier_svm= \"SVC(probability=True, random_state=SEMILLA)\"\n",
    "eval_clasifier_rf= \"RandomForestClassifier(random_state=SEMILLA)\"\n",
    "eval_clasifier_lr= \"LogisticRegressionCV(random_state=SEMILLA)\"\n",
    "\n",
    "if M_TIPO.startswith(\"bin_m\"):\n",
    "    myfunc.verbose(f\"Utilizando parámetros de {M_TIPO}\")\n",
    "    eval_selector = eval_selector_mi\n",
    "    eval_clasifier = eval_clasifier_svm\n",
    "\n",
    "    SEMILLA = 6578\n",
    "    M_SELECT = \"MI\"\n",
    "    M_CLASIF = \"SVM\"\n",
    "    param_distributions = {'selector__k': [1000], \n",
    "         'clasifier__kernel': ['rbf'], 'clasifier__gamma': [0.01], 'clasifier__C': [100]}\n",
    "elif M_TIPO.startswith(\"bin_s\"):\n",
    "    myfunc.verbose(f\"Utilizando parámetros de {M_TIPO}\")\n",
    "    eval_selector = eval_selector_rf\n",
    "    eval_clasifier = eval_clasifier_lr\n",
    "\n",
    "    SEMILLA = 6191\n",
    "    M_SELECT = \"RF\"\n",
    "    M_CLASIF = \"LR_L2\"\n",
    "    param_distributions = {'selector__max_features': [1000], 'selector__estimator__n_estimators': [200], \n",
    "        'clasifier__solver': ['lbfgs'], 'clasifier__penalty': ['l2'], 'clasifier__max_iter': [10000]}\n",
    "\n",
    "elif M_TIPO.startswith(\"mul_m\"):\n",
    "    myfunc.verbose(f\"Utilizando parámetros de {M_TIPO}\")\n",
    " \n",
    "    eval_selector = eval_selector_rf\n",
    "    eval_clasifier = eval_clasifier_lr\n",
    "\n",
    "    SEMILLA = 6191\n",
    "    M_SELECT = \"RF\"\n",
    "    M_CLASIF = \"LR_L2\"\n",
    "    param_distributions = {'selector__max_features': [1000], 'selector__estimator__n_estimators': [400], \n",
    "        'clasifier__solver': ['lbfgs'], 'clasifier__penalty': ['l2'], 'clasifier__max_iter': [10000]}\n",
    "\n",
    "else:\n",
    "    # M_TIPO.startswith(\"mul_s\"):\n",
    "    myfunc.verbose(f\"Utilizando parámetros de {M_TIPO}\")\n",
    "    eval_selector = eval_selector_anova\n",
    "    eval_clasifier = eval_clasifier_lr\n",
    "\n",
    "    SEMILLA = 1860\n",
    "    M_SELECT = \"ANOVA\"\n",
    "    M_CLASIF = \"LR_L2\"\n",
    "    param_distributions = {'selector__k': [1000], \n",
    "        'clasifier__solver': ['saga'], 'clasifier__penalty': ['l2'], 'clasifier__max_iter': [10000]}\n",
    "\n"
   ]
  },
  {
   "cell_type": "code",
   "execution_count": 3,
   "id": "d6026fa3",
   "metadata": {
    "execution": {
     "iopub.execute_input": "2023-10-30T04:15:14.012765Z",
     "iopub.status.busy": "2023-10-30T04:15:14.012553Z",
     "iopub.status.idle": "2023-10-30T04:15:14.016199Z",
     "shell.execute_reply": "2023-10-30T04:15:14.015768Z"
    },
    "papermill": {
     "duration": 0.007946,
     "end_time": "2023-10-30T04:15:14.017387",
     "exception": false,
     "start_time": "2023-10-30T04:15:14.009441",
     "status": "completed"
    },
    "tags": [
     "injected-parameters"
    ]
   },
   "outputs": [],
   "source": [
    "# Parameters\n",
    "M_TIPO = \"mul_s\"\n",
    "M_SELECT = \"RF\"\n",
    "M_CLASIF = \"LR_EN\"\n",
    "P_FICHERO = \"param_0000_1466_mul_s_RF_LR_EN.yaml\"\n",
    "R_FICHERO = \"resultados_1466\"\n",
    "M_FICHERO = \"metricas_1466\"\n",
    "PRE_DATA_FILE = \"rows_transpose_norm_by_gene_id_with_target_num_\"\n",
    "SCORING = \"roc_auc_ovr\"\n",
    "SEMILLA = 1466\n",
    "MAX_ITERS = 500\n",
    "eval_selector = \"SelectFromModel(estimator=RandomForestClassifier(random_state=SEMILLA), threshold=-np.inf)\"\n",
    "eval_clasifier = \"LogisticRegressionCV(random_state=SEMILLA)\"\n",
    "param_distributions = {\n",
    "    \"selector__max_features\": [500],\n",
    "    \"selector__estimator__n_estimators\": [400],\n",
    "    \"clasifier__solver\": [\"saga\"],\n",
    "    \"clasifier__penalty\": [\"elasticnet\"],\n",
    "    \"clasifier__max_iter\": [10000],\n",
    "    \"clasifier__l1_ratios\": [[0.1]],\n",
    "}\n"
   ]
  },
  {
   "cell_type": "code",
   "execution_count": 4,
   "id": "081dbdcc",
   "metadata": {
    "execution": {
     "iopub.execute_input": "2023-10-30T04:15:14.024176Z",
     "iopub.status.busy": "2023-10-30T04:15:14.023980Z",
     "iopub.status.idle": "2023-10-30T04:15:14.026991Z",
     "shell.execute_reply": "2023-10-30T04:15:14.026508Z"
    },
    "papermill": {
     "duration": 0.007791,
     "end_time": "2023-10-30T04:15:14.028214",
     "exception": false,
     "start_time": "2023-10-30T04:15:14.020423",
     "status": "completed"
    },
    "tags": []
   },
   "outputs": [],
   "source": [
    "DATA_FILE = PRE_DATA_FILE + M_TIPO\n",
    "\n",
    "# si viene \"None\" en el parámetro max_depth, se le quitan las comillas para que no sea entendido por el algoritmo como un texto\n",
    "if \"clasifier__max_depth\" in param_distributions:\n",
    "    param_distributions['clasifier__max_depth'] = [None if x == 'None' else x for x in param_distributions['clasifier__max_depth']]"
   ]
  },
  {
   "cell_type": "markdown",
   "id": "82b5b7a6",
   "metadata": {
    "papermill": {
     "duration": 0.002954,
     "end_time": "2023-10-30T04:15:14.034214",
     "exception": false,
     "start_time": "2023-10-30T04:15:14.031260",
     "status": "completed"
    },
    "tags": []
   },
   "source": [
    "Asignar los algoritmos que se utilizarán en la función RandomSearchCV"
   ]
  },
  {
   "cell_type": "code",
   "execution_count": 5,
   "id": "761518a4",
   "metadata": {
    "execution": {
     "iopub.execute_input": "2023-10-30T04:15:14.041011Z",
     "iopub.status.busy": "2023-10-30T04:15:14.040822Z",
     "iopub.status.idle": "2023-10-30T04:15:14.043811Z",
     "shell.execute_reply": "2023-10-30T04:15:14.043213Z"
    },
    "papermill": {
     "duration": 0.007964,
     "end_time": "2023-10-30T04:15:14.045226",
     "exception": false,
     "start_time": "2023-10-30T04:15:14.037262",
     "status": "completed"
    },
    "tags": []
   },
   "outputs": [],
   "source": [
    "algor_selector=eval(eval_selector)\n",
    "algor_clasifier=eval(eval_clasifier)"
   ]
  },
  {
   "cell_type": "markdown",
   "id": "e4092d4d",
   "metadata": {
    "papermill": {
     "duration": 0.003656,
     "end_time": "2023-10-30T04:15:14.052554",
     "exception": false,
     "start_time": "2023-10-30T04:15:14.048898",
     "status": "completed"
    },
    "tags": []
   },
   "source": [
    "#### Comprobar el entorno y leer fichero de muestras"
   ]
  },
  {
   "cell_type": "code",
   "execution_count": 6,
   "id": "141fdff0",
   "metadata": {
    "execution": {
     "iopub.execute_input": "2023-10-30T04:15:14.060364Z",
     "iopub.status.busy": "2023-10-30T04:15:14.060171Z",
     "iopub.status.idle": "2023-10-30T04:15:14.187497Z",
     "shell.execute_reply": "2023-10-30T04:15:14.186900Z"
    },
    "papermill": {
     "duration": 0.13275,
     "end_time": "2023-10-30T04:15:14.188844",
     "exception": false,
     "start_time": "2023-10-30T04:15:14.056094",
     "status": "completed"
    },
    "tags": []
   },
   "outputs": [
    {
     "name": "stdout",
     "output_type": "stream",
     "text": [
      "20231030T051514 : amilcar22 : INFO : Encontrada carpeta DATA_DIR=../tfm_git/datos\n",
      "20231030T051514 : amilcar22 : INFO : Encontrada carpeta CFDNA_DIR=../tfm_git/datos/cfDNA_5hmC\n",
      "20231030T051514 : amilcar22 : INFO : Encontrada carpeta GENCODE_DIR=../tfm_git/datos/gencode\n",
      "20231030T051514 : amilcar22 : INFO : Encontrada carpeta H5_DIR=../tfm_git/datos/h5\n",
      "20231030T051514 : amilcar22 : INFO : Encontrada carpeta LOG_DIR=../tfm_git/datos/logs\n",
      "20231030T051514 : amilcar22 : INFO : Encontrada carpeta CSV_DIR=../tfm_git/datos/csv\n",
      "20231030T051514 : amilcar22 : INFO : Encontrada carpeta MODEL_DIR=../tfm_git/ejecuciones/modelos\n",
      "20231030T051514 : amilcar22 : INFO : Encontrada carpeta EXEC_DIR=../tfm_git/ejecuciones\n",
      "20231030T051514 : amilcar22 : INFO : Encontrada carpeta MET_DIR=../tfm_git/ejecuciones/metricas\n",
      "20231030T051514 : amilcar22 : INFO : Inicio leer fichero h5 ../tfm_git/datos/h5/rows_transpose_norm_by_gene_id_with_target_num_mul_s.h5\n",
      "20231030T051514 : amilcar22 : INFO : Leyendo clave /df\n",
      "20231030T051514 : amilcar22 : INFO : Tamaño (259, 18876)\n",
      "20231030T051514 : amilcar22 : INFO : Fin leer fichero h5 ../tfm_git/datos/h5/rows_transpose_norm_by_gene_id_with_target_num_mul_s.h5\n"
     ]
    },
    {
     "data": {
      "text/plain": [
       "target\n",
       "0    37\n",
       "1    37\n",
       "2    37\n",
       "3    37\n",
       "4    37\n",
       "5    37\n",
       "6    37\n",
       "dtype: int64"
      ]
     },
     "metadata": {},
     "output_type": "display_data"
    },
    {
     "name": "stdout",
     "output_type": "stream",
     "text": [
      "Shape df: (259, 18876)\n"
     ]
    },
    {
     "name": "stdout",
     "output_type": "stream",
     "text": [
      "Shape X_train: (207, 18875)\n",
      "Shape X_test: (52, 18875)\n"
     ]
    }
   ],
   "source": [
    "start_time = datetime.datetime.now()\n",
    "\n",
    "myfunc.reset_vars()\n",
    "\n",
    "myfunc.NOTEBK_FILENAME = myfunc.get_nb_name()\n",
    "\n",
    "myfunc.check_enviroment(myfunc.DATA_DIR, myfunc.CFDNA_DIR, myfunc.GENCODE_DIR, myfunc.H5_DIR, myfunc.LOG_DIR, myfunc.CSV_DIR, myfunc.MODEL_DIR, myfunc.EXEC_DIR, myfunc.MET_DIR)\n",
    "\n",
    "# Leer fichero con las muestras\n",
    "df_t = myfunc.read_h5_to_df(DATA_FILE, myfunc.H5_DIR)\n",
    "display(df_t.groupby(\"target\").size())\n",
    "print(\"Shape df:\",df_t.shape)\n",
    "\n",
    "# Separar caracteristicas/genes de las etiquetas/tipos de cáncer\n",
    "X = df_t.iloc[:, :-1]  # Todas las columnas excepto la última\n",
    "y = df_t.iloc[:, -1]  # La última columna contiene los identificadores de los tipos de cáncer\n",
    "\n",
    "#  Crear el conjunto de datos de entrenamiento y de pruebas, y se fija la semilla para siempre coger el mismo juego de muestras\n",
    "X_train, X_test, y_train, y_test = train_test_split(X, y, test_size=0.2, shuffle=True, random_state=42)\n",
    "print(\"Shape X_train:\",X_train.shape)\n",
    "print(\"Shape X_test:\",X_test.shape)\n"
   ]
  },
  {
   "cell_type": "markdown",
   "id": "e809097b",
   "metadata": {
    "papermill": {
     "duration": 0.002927,
     "end_time": "2023-10-30T04:15:14.195277",
     "exception": false,
     "start_time": "2023-10-30T04:15:14.192350",
     "status": "completed"
    },
    "tags": []
   },
   "source": [
    "#### Selección de características y clasificación."
   ]
  },
  {
   "cell_type": "code",
   "execution_count": 7,
   "id": "93922cf4",
   "metadata": {
    "execution": {
     "iopub.execute_input": "2023-10-30T04:15:14.201937Z",
     "iopub.status.busy": "2023-10-30T04:15:14.201757Z",
     "iopub.status.idle": "2023-10-30T04:22:41.174311Z",
     "shell.execute_reply": "2023-10-30T04:22:41.173683Z"
    },
    "papermill": {
     "duration": 446.979915,
     "end_time": "2023-10-30T04:22:41.178105",
     "exception": false,
     "start_time": "2023-10-30T04:15:14.198190",
     "status": "completed"
    },
    "tags": []
   },
   "outputs": [
    {
     "name": "stdout",
     "output_type": "stream",
     "text": [
      "20231030T051514 : amilcar22 : INFO : Iniciando entrenamiento\n",
      "num_iter: 1 , max_iter: 1\n"
     ]
    },
    {
     "name": "stdout",
     "output_type": "stream",
     "text": [
      "Fitting 5 folds for each of 1 candidates, totalling 5 fits\n"
     ]
    },
    {
     "name": "stdout",
     "output_type": "stream",
     "text": [
      "Mejores Hiperparámetros: {'selector__max_features': 500, 'selector__estimator__n_estimators': 400, 'clasifier__solver': 'saga', 'clasifier__penalty': 'elasticnet', 'clasifier__max_iter': 10000, 'clasifier__l1_ratios': [0.1]}\n",
      "Mejor Puntuación: 0.7836\n",
      "20231030T052241 : amilcar22 : INFO : Fin entrenamiento\n"
     ]
    }
   ],
   "source": [
    "myfunc.verbose(\"Iniciando entrenamiento\")\n",
    "\n",
    "kf = KFold(n_splits=5, shuffle=True, random_state=SEMILLA)\n",
    "\n",
    "# Crear el pipeline para el flujo de tareas\n",
    "tasks_pipeline = Pipeline([\n",
    "    ('selector', algor_selector),\n",
    "    ('clasifier', algor_clasifier)\n",
    "])\n",
    "\n",
    "# MAX_ITERS puede limitar el número de iteraciones si son excesivas para las combinaciones de parámetros buscando un óptimo local, \n",
    "# sino funcionaría como GridSearchCV al revisar todas las cominaciones de los parámetros\n",
    "num_iteraciones = 1\n",
    "num_iteraciones = num_iteraciones * np.prod([len(elemento1) for _, elemento1 in param_distributions.items()])\n",
    "max_iteraciones = num_iteraciones if num_iteraciones <= MAX_ITERS else MAX_ITERS\n",
    "print(\"num_iter:\",num_iteraciones,\", max_iter:\",max_iteraciones)\n",
    "\n",
    "random_search = RandomizedSearchCV(\n",
    "    tasks_pipeline, \n",
    "    param_distributions, \n",
    "    n_iter=max_iteraciones,\n",
    "    scoring=SCORING,\n",
    "    cv=kf,\n",
    "    verbose=3, \n",
    "    random_state=SEMILLA, \n",
    "    n_jobs=-1\n",
    "    )\n",
    "\n",
    "# Entrenar el modelo\n",
    "random_search.fit(X_train, y_train)\n",
    "\n",
    "# Ver los mejores hiperparámetros encontrados\n",
    "print(f'Mejores Hiperparámetros: {random_search.best_params_}')\n",
    "print(f'Mejor Puntuación: {random_search.best_score_:.4f}')\n",
    "\n",
    "# Nos quedamos con el mejor modelo para ver las métricas\n",
    "mejor_modelo = random_search.best_estimator_\n",
    "\n",
    "myfunc.verbose(\"Fin entrenamiento\")"
   ]
  },
  {
   "cell_type": "markdown",
   "id": "9db427ce",
   "metadata": {
    "papermill": {
     "duration": 0.003008,
     "end_time": "2023-10-30T04:22:41.184429",
     "exception": false,
     "start_time": "2023-10-30T04:22:41.181421",
     "status": "completed"
    },
    "tags": []
   },
   "source": [
    "#### Guardar modelo"
   ]
  },
  {
   "cell_type": "code",
   "execution_count": 8,
   "id": "88542fe4",
   "metadata": {
    "execution": {
     "iopub.execute_input": "2023-10-30T04:22:41.191593Z",
     "iopub.status.busy": "2023-10-30T04:22:41.191371Z",
     "iopub.status.idle": "2023-10-30T04:22:41.326342Z",
     "shell.execute_reply": "2023-10-30T04:22:41.325707Z"
    },
    "papermill": {
     "duration": 0.140265,
     "end_time": "2023-10-30T04:22:41.327760",
     "exception": false,
     "start_time": "2023-10-30T04:22:41.187495",
     "status": "completed"
    },
    "tags": []
   },
   "outputs": [
    {
     "name": "stdout",
     "output_type": "stream",
     "text": [
      "20231030T052241 : amilcar22 : INFO : Inicio guardar fichero ../tfm_git/ejecuciones/modelos/modelo_1466_mul_s_RF_LR_EN.pkl\n",
      "20231030T052241 : amilcar22 : INFO : Fin guardar fichero ../tfm_git/ejecuciones/modelos/modelo_1466_mul_s_RF_LR_EN.pkl\n"
     ]
    }
   ],
   "source": [
    "fichero_modelo = str.replace(\"modelo_\"+str(SEMILLA).zfill(4)+\"_\"+M_TIPO+\"_\"+M_SELECT+\"_\"+M_CLASIF+\".pkl\", \" \", \"_\")\n",
    "\n",
    "myfunc.save_modelo(mejor_modelo, myfunc.MODEL_DIR, fichero_modelo)"
   ]
  },
  {
   "cell_type": "markdown",
   "id": "57ed8798",
   "metadata": {
    "papermill": {
     "duration": 0.003212,
     "end_time": "2023-10-30T04:22:41.334661",
     "exception": false,
     "start_time": "2023-10-30T04:22:41.331449",
     "status": "completed"
    },
    "tags": []
   },
   "source": [
    "#### Ver resultados del las iteraciones hechas por RandomSearchCV"
   ]
  },
  {
   "cell_type": "code",
   "execution_count": 9,
   "id": "a8c3064e",
   "metadata": {
    "execution": {
     "iopub.execute_input": "2023-10-30T04:22:41.341763Z",
     "iopub.status.busy": "2023-10-30T04:22:41.341520Z",
     "iopub.status.idle": "2023-10-30T04:22:41.347645Z",
     "shell.execute_reply": "2023-10-30T04:22:41.347124Z"
    },
    "papermill": {
     "duration": 0.011163,
     "end_time": "2023-10-30T04:22:41.348929",
     "exception": false,
     "start_time": "2023-10-30T04:22:41.337766",
     "status": "completed"
    },
    "tags": []
   },
   "outputs": [
    {
     "name": "stdout",
     "output_type": "stream",
     "text": [
      "20231030T052241 : amilcar22 : INFO : Inicio ver resultados\n",
      "Mejores Hiperparámetros: {'selector__max_features': 500, 'selector__estimator__n_estimators': 400, 'clasifier__solver': 'saga', 'clasifier__penalty': 'elasticnet', 'clasifier__max_iter': 10000, 'clasifier__l1_ratios': [0.1]}\n",
      "Mejores puntuaciones: 0.7836 | Params: {'selector__max_features': 500, 'selector__estimator__n_estimators': 400, 'clasifier__solver': 'saga', 'clasifier__penalty': 'elasticnet', 'clasifier__max_iter': 10000, 'clasifier__l1_ratios': [0.1]}\n",
      "Media de las puntuaciones: 0.7836 | Params: {'selector__max_features': 500, 'selector__estimator__n_estimators': 400, 'clasifier__solver': 'saga', 'clasifier__penalty': 'elasticnet', 'clasifier__max_iter': 10000, 'clasifier__l1_ratios': [0.1]}\n",
      "20231030T052241 : amilcar22 : INFO : Fin resultados\n"
     ]
    }
   ],
   "source": [
    "myfunc.ver_resultados_search(random_search)"
   ]
  },
  {
   "cell_type": "markdown",
   "id": "8d070ef5",
   "metadata": {
    "papermill": {
     "duration": 0.003338,
     "end_time": "2023-10-30T04:22:41.355752",
     "exception": false,
     "start_time": "2023-10-30T04:22:41.352414",
     "status": "completed"
    },
    "tags": []
   },
   "source": [
    "#### Ver métricas del mejor modelo"
   ]
  },
  {
   "cell_type": "code",
   "execution_count": 10,
   "id": "c4e6a120",
   "metadata": {
    "execution": {
     "iopub.execute_input": "2023-10-30T04:22:41.363139Z",
     "iopub.status.busy": "2023-10-30T04:22:41.362941Z",
     "iopub.status.idle": "2023-10-30T04:22:42.273301Z",
     "shell.execute_reply": "2023-10-30T04:22:42.272718Z"
    },
    "papermill": {
     "duration": 0.915549,
     "end_time": "2023-10-30T04:22:42.274614",
     "exception": false,
     "start_time": "2023-10-30T04:22:41.359065",
     "status": "completed"
    },
    "tags": []
   },
   "outputs": [
    {
     "name": "stdout",
     "output_type": "stream",
     "text": [
      "20231030T052241 : amilcar22 : INFO : Inicio ver métricas multiclase\n"
     ]
    },
    {
     "name": "stdout",
     "output_type": "stream",
     "text": [
      "              precision    recall  f1-score   support\n",
      "\n",
      "           0       0.29      0.18      0.22        11\n",
      "           1       1.00      0.50      0.67         8\n",
      "           2       0.29      0.25      0.27         8\n",
      "           3       0.10      0.20      0.13         5\n",
      "           4       0.71      0.62      0.67         8\n",
      "           5       0.40      0.33      0.36         6\n",
      "           6       0.42      0.83      0.56         6\n",
      "\n",
      "    accuracy                           0.40        52\n",
      "   macro avg       0.46      0.42      0.41        52\n",
      "weighted avg       0.47      0.40      0.41        52\n",
      "\n",
      "\n",
      "\n",
      "           Exactitud: 0.403846\n",
      "   Precisión (media): 0.457483\n",
      "      Recall (media): 0.417641\n",
      "    F1-score (media): 0.410678\n",
      "\n",
      "\n",
      "AUC para el tipo de cáncer 0-Control.... 0.5166\n",
      "AUC para el tipo de cáncer 1-Bladder.... 0.8409\n",
      "AUC para el tipo de cáncer 2-Breast..... 0.7670\n",
      "AUC para el tipo de cáncer 3-Colorectal. 0.6638\n",
      "AUC para el tipo de cáncer 4-Kidney..... 0.9602\n",
      "AUC para el tipo de cáncer 5-Lung....... 0.8768\n",
      "AUC para el tipo de cáncer 6-Prostate... 0.8696\n",
      "\n",
      "Media de AUC: 0.7850\n"
     ]
    },
    {
     "data": {
      "image/png": "[encoded data removed]",
      "text/plain": [
       "<Figure size 1000x600 with 1 Axes>"
      ]
     },
     "metadata": {},
     "output_type": "display_data"
    },
    {
     "name": "stdout",
     "output_type": "stream",
     "text": [
      "\n",
      "\n"
     ]
    },
    {
     "data": {
      "image/png": "[encoded data removed]",
      "text/plain": [
       "<Figure size 800x400 with 2 Axes>"
      ]
     },
     "metadata": {},
     "output_type": "display_data"
    },
    {
     "name": "stdout",
     "output_type": "stream",
     "text": [
      "\n",
      "\n",
      "Puntuación Jaccard para el cáncer tipo 0-Control.... 0.1250\n",
      "Puntuación Jaccard para el cáncer tipo 1-Bladder.... 0.5000\n",
      "Puntuación Jaccard para el cáncer tipo 2-Breast..... 0.1538\n",
      "Puntuación Jaccard para el cáncer tipo 3-Colorectal. 0.0714\n",
      "Puntuación Jaccard para el cáncer tipo 4-Kidney..... 0.5000\n",
      "Puntuación Jaccard para el cáncer tipo 5-Lung....... 0.2222\n",
      "Puntuación Jaccard para el cáncer tipo 6-Prostate... 0.3846\n",
      "\n",
      "Media de la puntuación de Jaccard: 0.2796\n"
     ]
    }
   ],
   "source": [
    "if M_TIPO.startswith(\"bin\"):\n",
    "    myfunc.ver_metricas(mejor_modelo, X_test, y_test)\n",
    "else:\n",
    "    myfunc.ver_metricas_multi(mejor_modelo, X_test, y_test)\n"
   ]
  },
  {
   "cell_type": "markdown",
   "id": "516d6ea9",
   "metadata": {
    "papermill": {
     "duration": 0.004339,
     "end_time": "2023-10-30T04:22:42.283931",
     "exception": false,
     "start_time": "2023-10-30T04:22:42.279592",
     "status": "completed"
    },
    "tags": []
   },
   "source": [
    "#### Finalización del notebook"
   ]
  },
  {
   "cell_type": "code",
   "execution_count": 11,
   "id": "0e159c26",
   "metadata": {
    "execution": {
     "iopub.execute_input": "2023-10-30T04:22:42.293208Z",
     "iopub.status.busy": "2023-10-30T04:22:42.293003Z",
     "iopub.status.idle": "2023-10-30T04:22:42.296416Z",
     "shell.execute_reply": "2023-10-30T04:22:42.295995Z"
    },
    "papermill": {
     "duration": 0.009542,
     "end_time": "2023-10-30T04:22:42.297690",
     "exception": false,
     "start_time": "2023-10-30T04:22:42.288148",
     "status": "completed"
    },
    "tags": []
   },
   "outputs": [
    {
     "name": "stdout",
     "output_type": "stream",
     "text": [
      "20231030T052242 : amilcar22 : INFO : Notebook ha tardado 448 seconds\n"
     ]
    }
   ],
   "source": [
    "end_time = datetime.datetime.now()\n",
    "total_time = end_time - start_time\n",
    "myfunc.verbose(f\"Notebook ha tardado {total_time.seconds} seconds\")"
   ]
  },
  {
   "cell_type": "markdown",
   "id": "d1b07902",
   "metadata": {
    "papermill": {
     "duration": 0.004374,
     "end_time": "2023-10-30T04:22:42.306563",
     "exception": false,
     "start_time": "2023-10-30T04:22:42.302189",
     "status": "completed"
    },
    "tags": []
   },
   "source": [
    "#### Guardar métricas"
   ]
  },
  {
   "cell_type": "code",
   "execution_count": 12,
   "id": "59d2a7f2",
   "metadata": {
    "execution": {
     "iopub.execute_input": "2023-10-30T04:22:42.315837Z",
     "iopub.status.busy": "2023-10-30T04:22:42.315648Z",
     "iopub.status.idle": "2023-10-30T04:22:43.076908Z",
     "shell.execute_reply": "2023-10-30T04:22:43.076310Z"
    },
    "papermill": {
     "duration": 0.767356,
     "end_time": "2023-10-30T04:22:43.078179",
     "exception": false,
     "start_time": "2023-10-30T04:22:42.310823",
     "status": "completed"
    },
    "tags": []
   },
   "outputs": [
    {
     "name": "stdout",
     "output_type": "stream",
     "text": [
      "20231030T052242 : amilcar22 : INFO : Inicio guardar métricas multiclase\n",
      "20231030T052242 : amilcar22 : INFO : Inicio leer fichero ../tfm_git/ejecuciones/metricas/metricas_1466.csv\n",
      "20231030T052242 : amilcar22 : INFO : Fin leer fichero ../tfm_git/ejecuciones/metricas/metricas_1466.csv\n"
     ]
    },
    {
     "name": "stdout",
     "output_type": "stream",
     "text": [
      "20231030T052243 : amilcar22 : INFO : Inicio guardar fichero ../tfm_git/ejecuciones/metricas/metricas_1466.csv\n",
      "20231030T052243 : amilcar22 : INFO : Fichero borrado ../tfm_git/ejecuciones/metricas/metricas_1466.csv\n",
      "20231030T052243 : amilcar22 : INFO : Fin guardar fichero ../tfm_git/ejecuciones/metricas/metricas_1466.csv\n",
      "20231030T052243 : amilcar22 : INFO : Fin guardar métricas multiclase\n",
      "20231030T052243 : amilcar22 : INFO : Inicio leer fichero ../tfm_git/ejecuciones/metricas/metricas_1466.csv\n",
      "20231030T052243 : amilcar22 : INFO : Fin leer fichero ../tfm_git/ejecuciones/metricas/metricas_1466.csv\n"
     ]
    },
    {
     "data": {
      "text/html": [
       "<div>\n",
       "<style scoped>\n",
       "    .dataframe tbody tr th:only-of-type {\n",
       "        vertical-align: middle;\n",
       "    }\n",
       "\n",
       "    .dataframe tbody tr th {\n",
       "        vertical-align: top;\n",
       "    }\n",
       "\n",
       "    .dataframe thead th {\n",
       "        text-align: right;\n",
       "    }\n",
       "</style>\n",
       "<table border=\"1\" class=\"dataframe\">\n",
       "  <thead>\n",
       "    <tr style=\"text-align: right;\">\n",
       "      <th></th>\n",
       "      <th>tipo</th>\n",
       "      <th>select</th>\n",
       "      <th>clasific</th>\n",
       "      <th>semilla</th>\n",
       "      <th>accuracy</th>\n",
       "      <th>precision</th>\n",
       "      <th>recall</th>\n",
       "      <th>f1_score</th>\n",
       "      <th>roc_auc</th>\n",
       "      <th>hostname</th>\n",
       "      <th>total_time_sec</th>\n",
       "      <th>datetime</th>\n",
       "      <th>fichero_modelo</th>\n",
       "      <th>params</th>\n",
       "      <th>shape</th>\n",
       "      <th>features</th>\n",
       "      <th>roc_auc_ovr</th>\n",
       "      <th>indices_auc</th>\n",
       "      <th>indices_jaccard</th>\n",
       "    </tr>\n",
       "  </thead>\n",
       "  <tbody>\n",
       "    <tr>\n",
       "      <th>0</th>\n",
       "      <td>mul_s</td>\n",
       "      <td>RF</td>\n",
       "      <td>LR_EN</td>\n",
       "      <td>1466</td>\n",
       "      <td>0.403846</td>\n",
       "      <td>0.457483</td>\n",
       "      <td>0.417641</td>\n",
       "      <td>0.410678</td>\n",
       "      <td>NaN</td>\n",
       "      <td>amilcar22</td>\n",
       "      <td>448</td>\n",
       "      <td>2023-10-30 05:22:43.042929</td>\n",
       "      <td>modelo_1466_mul_s_RF_LR_EN.pkl</td>\n",
       "      <td>{'selector__max_features': 500, 'selector__est...</td>\n",
       "      <td>X_test:(52, 18875)</td>\n",
       "      <td>['ENSG00000000938.13', 'ENSG00000005513.10', '...</td>\n",
       "      <td>0.785003</td>\n",
       "      <td>[0.516629711751663, 0.8409090909090909, 0.7670...</td>\n",
       "      <td>[0.125, 0.5, 0.15384615384615385, 0.0714285714...</td>\n",
       "    </tr>\n",
       "    <tr>\n",
       "      <th>0</th>\n",
       "      <td>mul_s</td>\n",
       "      <td>MI</td>\n",
       "      <td>SVM</td>\n",
       "      <td>1466</td>\n",
       "      <td>0.403846</td>\n",
       "      <td>0.409070</td>\n",
       "      <td>0.416450</td>\n",
       "      <td>0.397716</td>\n",
       "      <td>NaN</td>\n",
       "      <td>amilcar22</td>\n",
       "      <td>190</td>\n",
       "      <td>2023-10-30 05:15:07.998642</td>\n",
       "      <td>modelo_1466_mul_s_MI_SVM.pkl</td>\n",
       "      <td>{'selector__k': 1000, 'clasifier__kernel': 'rb...</td>\n",
       "      <td>X_test:(52, 18875)</td>\n",
       "      <td>['ENSG00000003137.9', 'ENSG00000005513.10', 'E...</td>\n",
       "      <td>0.761388</td>\n",
       "      <td>[0.5321507760532151, 0.8494318181818181, 0.664...</td>\n",
       "      <td>[0.13333333333333333, 0.4444444444444444, 0.0,...</td>\n",
       "    </tr>\n",
       "    <tr>\n",
       "      <th>0</th>\n",
       "      <td>mul_s</td>\n",
       "      <td>MI</td>\n",
       "      <td>RF</td>\n",
       "      <td>1466</td>\n",
       "      <td>0.403846</td>\n",
       "      <td>0.332792</td>\n",
       "      <td>0.398701</td>\n",
       "      <td>0.346656</td>\n",
       "      <td>NaN</td>\n",
       "      <td>amilcar22</td>\n",
       "      <td>212</td>\n",
       "      <td>2023-10-30 05:11:51.030618</td>\n",
       "      <td>modelo_1466_mul_s_MI_RF.pkl</td>\n",
       "      <td>{'selector__k': 500, 'clasifier__n_estimators'...</td>\n",
       "      <td>X_test:(52, 18875)</td>\n",
       "      <td>['ENSG00000005513.10', 'ENSG00000006025.13', '...</td>\n",
       "      <td>0.691190</td>\n",
       "      <td>[0.4168514412416851, 0.7698863636363636, 0.625...</td>\n",
       "      <td>[0.07692307692307693, 0.35714285714285715, 0.2...</td>\n",
       "    </tr>\n",
       "  </tbody>\n",
       "</table>\n",
       "</div>"
      ],
      "text/plain": [
       "    tipo select clasific  semilla  accuracy  precision    recall  f1_score  \\\n",
       "0  mul_s     RF    LR_EN     1466  0.403846   0.457483  0.417641  0.410678   \n",
       "0  mul_s     MI      SVM     1466  0.403846   0.409070  0.416450  0.397716   \n",
       "0  mul_s     MI       RF     1466  0.403846   0.332792  0.398701  0.346656   \n",
       "\n",
       "   roc_auc   hostname  total_time_sec                    datetime  \\\n",
       "0      NaN  amilcar22             448  2023-10-30 05:22:43.042929   \n",
       "0      NaN  amilcar22             190  2023-10-30 05:15:07.998642   \n",
       "0      NaN  amilcar22             212  2023-10-30 05:11:51.030618   \n",
       "\n",
       "                   fichero_modelo  \\\n",
       "0  modelo_1466_mul_s_RF_LR_EN.pkl   \n",
       "0    modelo_1466_mul_s_MI_SVM.pkl   \n",
       "0     modelo_1466_mul_s_MI_RF.pkl   \n",
       "\n",
       "                                              params               shape  \\\n",
       "0  {'selector__max_features': 500, 'selector__est...  X_test:(52, 18875)   \n",
       "0  {'selector__k': 1000, 'clasifier__kernel': 'rb...  X_test:(52, 18875)   \n",
       "0  {'selector__k': 500, 'clasifier__n_estimators'...  X_test:(52, 18875)   \n",
       "\n",
       "                                            features  roc_auc_ovr  \\\n",
       "0  ['ENSG00000000938.13', 'ENSG00000005513.10', '...     0.785003   \n",
       "0  ['ENSG00000003137.9', 'ENSG00000005513.10', 'E...     0.761388   \n",
       "0  ['ENSG00000005513.10', 'ENSG00000006025.13', '...     0.691190   \n",
       "\n",
       "                                         indices_auc  \\\n",
       "0  [0.516629711751663, 0.8409090909090909, 0.7670...   \n",
       "0  [0.5321507760532151, 0.8494318181818181, 0.664...   \n",
       "0  [0.4168514412416851, 0.7698863636363636, 0.625...   \n",
       "\n",
       "                                     indices_jaccard  \n",
       "0  [0.125, 0.5, 0.15384615384615385, 0.0714285714...  \n",
       "0  [0.13333333333333333, 0.4444444444444444, 0.0,...  \n",
       "0  [0.07692307692307693, 0.35714285714285715, 0.2...  "
      ]
     },
     "metadata": {},
     "output_type": "display_data"
    }
   ],
   "source": [
    "if M_TIPO.startswith(\"bin\"):\n",
    "    myfunc.save_metricas_to_csv(random_search, X_test, y_test, M_TIPO, M_SELECT, M_CLASIF, total_time, SEMILLA, myfunc.MET_DIR, M_FICHERO, fichero_modelo)\n",
    "else:\n",
    "    myfunc.save_metricas_multi_to_csv(random_search, X_test, y_test, M_TIPO, M_SELECT, M_CLASIF, total_time, SEMILLA, myfunc.MET_DIR, M_FICHERO, fichero_modelo)\n",
    "\n",
    "df1=myfunc.read_metricas_to_df(myfunc.MET_DIR,M_FICHERO)\n",
    "\n",
    "display(df1.sort_values(\"datetime\", ascending=False)[:3])\n"
   ]
  },
  {
   "cell_type": "markdown",
   "id": "f9cf6fdc",
   "metadata": {
    "papermill": {
     "duration": 0.004639,
     "end_time": "2023-10-30T04:22:43.088138",
     "exception": false,
     "start_time": "2023-10-30T04:22:43.083499",
     "status": "completed"
    },
    "tags": []
   },
   "source": [
    "#### Guardar resultados"
   ]
  },
  {
   "cell_type": "code",
   "execution_count": 13,
   "id": "99d05da2",
   "metadata": {
    "execution": {
     "iopub.execute_input": "2023-10-30T04:22:43.097896Z",
     "iopub.status.busy": "2023-10-30T04:22:43.097690Z",
     "iopub.status.idle": "2023-10-30T04:22:43.106071Z",
     "shell.execute_reply": "2023-10-30T04:22:43.105586Z"
    },
    "papermill": {
     "duration": 0.014811,
     "end_time": "2023-10-30T04:22:43.107345",
     "exception": false,
     "start_time": "2023-10-30T04:22:43.092534",
     "status": "completed"
    },
    "tags": []
   },
   "outputs": [
    {
     "name": "stdout",
     "output_type": "stream",
     "text": [
      "20231030T052243 : amilcar22 : INFO : Inicio guardar resultados\n",
      "20231030T052243 : amilcar22 : INFO : Inicio guardar fichero ../tfm_git/ejecuciones/metricas/resultados_1466_mul_s-RF-LR_EN.csv\n",
      "20231030T052243 : amilcar22 : INFO : Fin guardar fichero ../tfm_git/ejecuciones/metricas/resultados_1466_mul_s-RF-LR_EN.csv\n",
      "20231030T052243 : amilcar22 : INFO : Fin guardar resultados\n"
     ]
    }
   ],
   "source": [
    "fichero_resultados=R_FICHERO+\"_\"+M_TIPO+\"-\"+M_SELECT+\"-\"+M_CLASIF+\".csv\"\n",
    "myfunc.save_resultados_to_csv(M_TIPO, M_SELECT, M_CLASIF,  random_search, myfunc.MET_DIR, fichero_resultados)\n"
   ]
  }
 ],
 "metadata": {
  "kernelspec": {
   "display_name": "Python 3 (ipykernel)",
   "language": "python",
   "name": "python3"
  },
  "language_info": {
   "codemirror_mode": {
    "name": "ipython",
    "version": 3
   },
   "file_extension": ".py",
   "mimetype": "text/x-python",
   "name": "python",
   "nbconvert_exporter": "python",
   "pygments_lexer": "ipython3",
   "version": "3.10.12"
  },
  "papermill": {
   "default_parameters": {},
   "duration": 453.547449,
   "end_time": "2023-10-30T04:22:45.730368",
   "environment_variables": {},
   "exception": null,
   "input_path": "03_entrenamiento.ipynb",
   "output_path": "ejecuciones/training/03_entrenamiento.20231030T051511.param_0000_1466_mul_s_RF_LR_EN.output.ipynb",
   "parameters": {
    "MAX_ITERS": 500,
    "M_CLASIF": "LR_EN",
    "M_FICHERO": "metricas_1466",
    "M_SELECT": "RF",
    "M_TIPO": "mul_s",
    "PRE_DATA_FILE": "rows_transpose_norm_by_gene_id_with_target_num_",
    "P_FICHERO": "param_0000_1466_mul_s_RF_LR_EN.yaml",
    "R_FICHERO": "resultados_1466",
    "SCORING": "roc_auc_ovr",
    "SEMILLA": 1466,
    "eval_clasifier": "LogisticRegressionCV(random_state=SEMILLA)",
    "eval_selector": "SelectFromModel(estimator=RandomForestClassifier(random_state=SEMILLA), threshold=-np.inf)",
    "param_distributions": {
     "clasifier__l1_ratios": [
      [
       0.1
      ]
     ],
     "clasifier__max_iter": [
      10000
     ],
     "clasifier__penalty": [
      "elasticnet"
     ],
     "clasifier__solver": [
      "saga"
     ],
     "selector__estimator__n_estimators": [
      400
     ],
     "selector__max_features": [
      500
     ]
    }
   },
   "start_time": "2023-10-30T04:15:12.182919",
   "version": "2.4.0"
  }
 },
 "nbformat": 4,
 "nbformat_minor": 5
}