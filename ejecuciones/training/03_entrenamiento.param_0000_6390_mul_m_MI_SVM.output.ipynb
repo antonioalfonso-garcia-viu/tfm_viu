{
 "cells": [
  {
   "cell_type": "markdown",
   "id": "62bae790",
   "metadata": {
    "papermill": {
     "duration": 0.004354,
     "end_time": "2023-10-30T15:32:45.478061",
     "exception": false,
     "start_time": "2023-10-30T15:32:45.473707",
     "status": "completed"
    },
    "tags": []
   },
   "source": [
    "##### Inicio"
   ]
  },
  {
   "cell_type": "markdown",
   "id": "8c97662c",
   "metadata": {
    "papermill": {
     "duration": 0.003517,
     "end_time": "2023-10-30T15:32:45.485397",
     "exception": false,
     "start_time": "2023-10-30T15:32:45.481880",
     "status": "completed"
    },
    "tags": []
   },
   "source": [
    "#### Carga de datos"
   ]
  },
  {
   "cell_type": "code",
   "execution_count": 1,
   "id": "7216413f",
   "metadata": {
    "execution": {
     "iopub.execute_input": "2023-10-30T15:32:45.494006Z",
     "iopub.status.busy": "2023-10-30T15:32:45.493718Z",
     "iopub.status.idle": "2023-10-30T15:32:46.357466Z",
     "shell.execute_reply": "2023-10-30T15:32:46.356810Z"
    },
    "papermill": {
     "duration": 0.869895,
     "end_time": "2023-10-30T15:32:46.358923",
     "exception": false,
     "start_time": "2023-10-30T15:32:45.489028",
     "status": "completed"
    },
    "tags": []
   },
   "outputs": [
    {
     "name": "stdout",
     "output_type": "stream",
     "text": [
      "CPU_COUNT: 8; NODE: amilcar22; sys.version: 3.10.12 (main, Jul  5 2023, 19:22:19) [GCC 11.2.0]\n",
      "LOKY_MAX_CPU_COUNT: 6\n",
      "OMP_NUM_THREADS: 2\n"
     ]
    }
   ],
   "source": [
    "import os\n",
    "import numpy as np\n",
    "import pandas as pd\n",
    "import datetime\n",
    "import sklearn\n",
    "import logging\n",
    "import warnings\n",
    "\n",
    "from sklearn.pipeline import Pipeline\n",
    "from sklearn.model_selection import RandomizedSearchCV, KFold, cross_val_score, train_test_split\n",
    "from sklearn.metrics import accuracy_score, confusion_matrix, classification_report, roc_auc_score\n",
    "\n",
    "#  cargar algoritmos para aprendizaje supervisado\n",
    "from sklearn.feature_selection import SelectKBest, f_classif, SelectFromModel, mutual_info_classif\n",
    "from sklearn.svm import SVC\n",
    "from sklearn.ensemble import RandomForestClassifier\n",
    "from sklearn.linear_model import LogisticRegression,LogisticRegressionCV\n",
    "\n",
    "# importar fichero con utilidades propias\n",
    "from commons import myfunctions as myfunc\n"
   ]
  },
  {
   "cell_type": "markdown",
   "id": "05fc56c5",
   "metadata": {
    "papermill": {
     "duration": 0.002709,
     "end_time": "2023-10-30T15:32:46.364688",
     "exception": false,
     "start_time": "2023-10-30T15:32:46.361979",
     "status": "completed"
    },
    "tags": []
   },
   "source": [
    "#### Parámetros a utilizar en el entrenamiento.\n",
    "\n",
    "Se indican los 3 algoritmos de *selección de características* (eval_selector_xxx) y los 3 algoritmos para la _clasificación_ (eval_clasifier_xxx)\n",
    "\n",
    "En *param_distributions* se indicar los parámetros que utilizan los algoritmos en la función RandomSearchCV.\n",
    "\n",
    "Esta celda tiene la etiqueta **parameters** que servirá para poder lanzar los entrenamientos con la utilidad **papermill** pasándole un fichero con los parámetros. Los nuevos parámetros se situarán tras esta celda para tener prevalencia."
   ]
  },
  {
   "cell_type": "code",
   "execution_count": 2,
   "id": "31cbbb82",
   "metadata": {
    "execution": {
     "iopub.execute_input": "2023-10-30T15:32:46.370612Z",
     "iopub.status.busy": "2023-10-30T15:32:46.370353Z",
     "iopub.status.idle": "2023-10-30T15:32:46.377116Z",
     "shell.execute_reply": "2023-10-30T15:32:46.376665Z"
    },
    "papermill": {
     "duration": 0.01118,
     "end_time": "2023-10-30T15:32:46.378349",
     "exception": false,
     "start_time": "2023-10-30T15:32:46.367169",
     "status": "completed"
    },
    "tags": [
     "parameters"
    ]
   },
   "outputs": [
    {
     "name": "stdout",
     "output_type": "stream",
     "text": [
      "20231030T163246 : amilcar22 : INFO : Utilizando parámetros de mul_m\n"
     ]
    }
   ],
   "source": [
    "#  Parametros para el entrenamiento\n",
    "\n",
    "SEMILLA=        42\n",
    "M_TIPO=         \"mul_m\"\n",
    "M_SELECT=       \"MI\"\n",
    "M_CLASIF=       \"SVM\"\n",
    "R_FICHERO=      \"resultados\"\n",
    "M_FICHERO=      \"metricas\"\n",
    "PRE_DATA_FILE=  \"rows_transpose_norm_by_gene_id_with_target_num_\"\n",
    "SCORING=        \"roc_auc_ovr\" \n",
    "MAX_ITERS=      100\n",
    "\n",
    "def mutual_info_classif_state(X, y):\n",
    "    return mutual_info_classif(X, y, random_state=SEMILLA)\n",
    "\n",
    "eval_selector_mi = \"SelectKBest(score_func=mutual_info_classif_state)\"\n",
    "eval_selector_rf=  \"SelectFromModel(estimator=RandomForestClassifier(random_state=SEMILLA), threshold=-np.inf)\"\n",
    "eval_selector_anova=  \"SelectKBest(score_func=f_classif)\"\n",
    "\n",
    "eval_clasifier_svm= \"SVC(probability=True, random_state=SEMILLA)\"\n",
    "eval_clasifier_rf= \"RandomForestClassifier(random_state=SEMILLA)\"\n",
    "eval_clasifier_lr= \"LogisticRegressionCV(random_state=SEMILLA)\"\n",
    "\n",
    "if M_TIPO.startswith(\"bin_m\"):\n",
    "    myfunc.verbose(f\"Utilizando parámetros de {M_TIPO}\")\n",
    "    eval_selector = eval_selector_mi\n",
    "    eval_clasifier = eval_clasifier_svm\n",
    "\n",
    "    SEMILLA = 6578\n",
    "    M_SELECT = \"MI\"\n",
    "    M_CLASIF = \"SVM\"\n",
    "    param_distributions = {'selector__k': [1000], \n",
    "         'clasifier__kernel': ['rbf'], 'clasifier__gamma': [0.01], 'clasifier__C': [100]}\n",
    "elif M_TIPO.startswith(\"bin_s\"):\n",
    "    myfunc.verbose(f\"Utilizando parámetros de {M_TIPO}\")\n",
    "    eval_selector = eval_selector_rf\n",
    "    eval_clasifier = eval_clasifier_lr\n",
    "\n",
    "    SEMILLA = 6191\n",
    "    M_SELECT = \"RF\"\n",
    "    M_CLASIF = \"LR_L2\"\n",
    "    param_distributions = {'selector__max_features': [1000], 'selector__estimator__n_estimators': [200], \n",
    "        'clasifier__solver': ['lbfgs'], 'clasifier__penalty': ['l2'], 'clasifier__max_iter': [10000]}\n",
    "\n",
    "elif M_TIPO.startswith(\"mul_m\"):\n",
    "    myfunc.verbose(f\"Utilizando parámetros de {M_TIPO}\")\n",
    " \n",
    "    eval_selector = eval_selector_rf\n",
    "    eval_clasifier = eval_clasifier_lr\n",
    "\n",
    "    SEMILLA = 6191\n",
    "    M_SELECT = \"RF\"\n",
    "    M_CLASIF = \"LR_L2\"\n",
    "    param_distributions = {'selector__max_features': [1000], 'selector__estimator__n_estimators': [400], \n",
    "        'clasifier__solver': ['lbfgs'], 'clasifier__penalty': ['l2'], 'clasifier__max_iter': [10000]}\n",
    "\n",
    "else:\n",
    "    # M_TIPO.startswith(\"mul_s\"):\n",
    "    myfunc.verbose(f\"Utilizando parámetros de {M_TIPO}\")\n",
    "    eval_selector = eval_selector_anova\n",
    "    eval_clasifier = eval_clasifier_lr\n",
    "\n",
    "    SEMILLA = 1860\n",
    "    M_SELECT = \"ANOVA\"\n",
    "    M_CLASIF = \"LR_L2\"\n",
    "    param_distributions = {'selector__k': [1000], \n",
    "        'clasifier__solver': ['saga'], 'clasifier__penalty': ['l2'], 'clasifier__max_iter': [10000]}\n",
    "\n"
   ]
  },
  {
   "cell_type": "code",
   "execution_count": 3,
   "id": "6d34630d",
   "metadata": {
    "execution": {
     "iopub.execute_input": "2023-10-30T15:32:46.384632Z",
     "iopub.status.busy": "2023-10-30T15:32:46.384341Z",
     "iopub.status.idle": "2023-10-30T15:32:46.387719Z",
     "shell.execute_reply": "2023-10-30T15:32:46.387210Z"
    },
    "papermill": {
     "duration": 0.007823,
     "end_time": "2023-10-30T15:32:46.388969",
     "exception": false,
     "start_time": "2023-10-30T15:32:46.381146",
     "status": "completed"
    },
    "tags": [
     "injected-parameters"
    ]
   },
   "outputs": [],
   "source": [
    "# Parameters\n",
    "M_TIPO = \"mul_m\"\n",
    "M_SELECT = \"MI\"\n",
    "M_CLASIF = \"SVM\"\n",
    "P_FICHERO = \"param_0000_6390_mul_m_MI_SVM.yaml\"\n",
    "R_FICHERO = \"resultados_6390\"\n",
    "M_FICHERO = \"metricas_6390\"\n",
    "PRE_DATA_FILE = \"rows_transpose_norm_by_gene_id_with_target_num_\"\n",
    "SCORING = \"roc_auc_ovr\"\n",
    "SEMILLA = 6390\n",
    "MAX_ITERS = 500\n",
    "eval_selector = \"SelectKBest(score_func=mutual_info_classif_state)\"\n",
    "eval_clasifier = \"SVC(probability=True, random_state=SEMILLA)\"\n",
    "param_distributions = {\n",
    "    \"selector__k\": [1000],\n",
    "    \"clasifier__kernel\": [\"rbf\"],\n",
    "    \"clasifier__gamma\": [0.001],\n",
    "    \"clasifier__C\": [100],\n",
    "}\n"
   ]
  },
  {
   "cell_type": "code",
   "execution_count": 4,
   "id": "47dc8e9a",
   "metadata": {
    "execution": {
     "iopub.execute_input": "2023-10-30T15:32:46.395440Z",
     "iopub.status.busy": "2023-10-30T15:32:46.395087Z",
     "iopub.status.idle": "2023-10-30T15:32:46.398103Z",
     "shell.execute_reply": "2023-10-30T15:32:46.397534Z"
    },
    "papermill": {
     "duration": 0.007743,
     "end_time": "2023-10-30T15:32:46.399529",
     "exception": false,
     "start_time": "2023-10-30T15:32:46.391786",
     "status": "completed"
    },
    "tags": []
   },
   "outputs": [],
   "source": [
    "DATA_FILE = PRE_DATA_FILE + M_TIPO\n",
    "\n",
    "# si viene \"None\" en el parámetro max_depth, se le quitan las comillas para que no sea entendido por el algoritmo como un texto\n",
    "if \"clasifier__max_depth\" in param_distributions:\n",
    "    param_distributions['clasifier__max_depth'] = [None if x == 'None' else x for x in param_distributions['clasifier__max_depth']]"
   ]
  },
  {
   "cell_type": "markdown",
   "id": "59544682",
   "metadata": {
    "papermill": {
     "duration": 0.003375,
     "end_time": "2023-10-30T15:32:46.406323",
     "exception": false,
     "start_time": "2023-10-30T15:32:46.402948",
     "status": "completed"
    },
    "tags": []
   },
   "source": [
    "Asignar los algoritmos que se utilizarán en la función RandomSearchCV"
   ]
  },
  {
   "cell_type": "code",
   "execution_count": 5,
   "id": "e91732d7",
   "metadata": {
    "execution": {
     "iopub.execute_input": "2023-10-30T15:32:46.414038Z",
     "iopub.status.busy": "2023-10-30T15:32:46.413838Z",
     "iopub.status.idle": "2023-10-30T15:32:46.416841Z",
     "shell.execute_reply": "2023-10-30T15:32:46.416277Z"
    },
    "papermill": {
     "duration": 0.008488,
     "end_time": "2023-10-30T15:32:46.418289",
     "exception": false,
     "start_time": "2023-10-30T15:32:46.409801",
     "status": "completed"
    },
    "tags": []
   },
   "outputs": [],
   "source": [
    "algor_selector=eval(eval_selector)\n",
    "algor_clasifier=eval(eval_clasifier)"
   ]
  },
  {
   "cell_type": "markdown",
   "id": "16fe5904",
   "metadata": {
    "papermill": {
     "duration": 0.003711,
     "end_time": "2023-10-30T15:32:46.425689",
     "exception": false,
     "start_time": "2023-10-30T15:32:46.421978",
     "status": "completed"
    },
    "tags": []
   },
   "source": [
    "#### Comprobar el entorno y leer fichero de muestras"
   ]
  },
  {
   "cell_type": "code",
   "execution_count": 6,
   "id": "7610c8c5",
   "metadata": {
    "execution": {
     "iopub.execute_input": "2023-10-30T15:32:46.433560Z",
     "iopub.status.busy": "2023-10-30T15:32:46.433368Z",
     "iopub.status.idle": "2023-10-30T15:32:46.597189Z",
     "shell.execute_reply": "2023-10-30T15:32:46.596690Z"
    },
    "papermill": {
     "duration": 0.169209,
     "end_time": "2023-10-30T15:32:46.598533",
     "exception": false,
     "start_time": "2023-10-30T15:32:46.429324",
     "status": "completed"
    },
    "tags": []
   },
   "outputs": [
    {
     "name": "stdout",
     "output_type": "stream",
     "text": [
      "20231030T163246 : amilcar22 : INFO : Encontrada carpeta DATA_DIR=../tfm_git/datos\n",
      "20231030T163246 : amilcar22 : INFO : Encontrada carpeta CFDNA_DIR=../tfm_git/datos/cfDNA_5hmC\n",
      "20231030T163246 : amilcar22 : INFO : Encontrada carpeta GENCODE_DIR=../tfm_git/datos/gencode\n",
      "20231030T163246 : amilcar22 : INFO : Encontrada carpeta H5_DIR=../tfm_git/datos/h5\n",
      "20231030T163246 : amilcar22 : INFO : Encontrada carpeta LOG_DIR=../tfm_git/datos/logs\n",
      "20231030T163246 : amilcar22 : INFO : Encontrada carpeta CSV_DIR=../tfm_git/datos/csv\n",
      "20231030T163246 : amilcar22 : INFO : Encontrada carpeta MODEL_DIR=../tfm_git/ejecuciones/modelos\n",
      "20231030T163246 : amilcar22 : INFO : Encontrada carpeta EXEC_DIR=../tfm_git/ejecuciones\n",
      "20231030T163246 : amilcar22 : INFO : Encontrada carpeta MET_DIR=../tfm_git/ejecuciones/metricas\n",
      "20231030T163246 : amilcar22 : INFO : Inicio leer fichero h5 ../tfm_git/datos/h5/rows_transpose_norm_by_gene_id_with_target_num_mul_m.h5\n",
      "20231030T163246 : amilcar22 : INFO : Leyendo clave /df\n",
      "20231030T163246 : amilcar22 : INFO : Tamaño (434, 18876)\n",
      "20231030T163246 : amilcar22 : INFO : Fin leer fichero h5 ../tfm_git/datos/h5/rows_transpose_norm_by_gene_id_with_target_num_mul_m.h5\n"
     ]
    },
    {
     "data": {
      "text/plain": [
       "target\n",
       "0    62\n",
       "1    62\n",
       "2    62\n",
       "3    62\n",
       "4    62\n",
       "5    62\n",
       "6    62\n",
       "dtype: int64"
      ]
     },
     "metadata": {},
     "output_type": "display_data"
    },
    {
     "name": "stdout",
     "output_type": "stream",
     "text": [
      "Shape df: (434, 18876)\n"
     ]
    },
    {
     "name": "stdout",
     "output_type": "stream",
     "text": [
      "Shape X_train: (347, 18875)\n",
      "Shape X_test: (87, 18875)\n"
     ]
    }
   ],
   "source": [
    "start_time = datetime.datetime.now()\n",
    "\n",
    "myfunc.reset_vars()\n",
    "\n",
    "myfunc.NOTEBK_FILENAME = myfunc.get_nb_name()\n",
    "\n",
    "myfunc.check_enviroment(myfunc.DATA_DIR, myfunc.CFDNA_DIR, myfunc.GENCODE_DIR, myfunc.H5_DIR, myfunc.LOG_DIR, myfunc.CSV_DIR, myfunc.MODEL_DIR, myfunc.EXEC_DIR, myfunc.MET_DIR)\n",
    "\n",
    "# Leer fichero con las muestras\n",
    "df_t = myfunc.read_h5_to_df(DATA_FILE, myfunc.H5_DIR)\n",
    "display(df_t.groupby(\"target\").size())\n",
    "print(\"Shape df:\",df_t.shape)\n",
    "\n",
    "# Separar caracteristicas/genes de las etiquetas/tipos de cáncer\n",
    "X = df_t.iloc[:, :-1]  # Todas las columnas excepto la última\n",
    "y = df_t.iloc[:, -1]  # La última columna contiene los identificadores de los tipos de cáncer\n",
    "\n",
    "#  Crear el conjunto de datos de entrenamiento y de pruebas, y se fija la semilla para siempre coger el mismo juego de muestras\n",
    "X_train, X_test, y_train, y_test = train_test_split(X, y, test_size=0.2, shuffle=True, random_state=42)\n",
    "print(\"Shape X_train:\",X_train.shape)\n",
    "print(\"Shape X_test:\",X_test.shape)\n"
   ]
  },
  {
   "cell_type": "markdown",
   "id": "5d81e389",
   "metadata": {
    "papermill": {
     "duration": 0.002844,
     "end_time": "2023-10-30T15:32:46.604785",
     "exception": false,
     "start_time": "2023-10-30T15:32:46.601941",
     "status": "completed"
    },
    "tags": []
   },
   "source": [
    "#### Selección de características y clasificación."
   ]
  },
  {
   "cell_type": "code",
   "execution_count": 7,
   "id": "a0e86d30",
   "metadata": {
    "execution": {
     "iopub.execute_input": "2023-10-30T15:32:46.611286Z",
     "iopub.status.busy": "2023-10-30T15:32:46.611113Z",
     "iopub.status.idle": "2023-10-30T15:36:09.886667Z",
     "shell.execute_reply": "2023-10-30T15:36:09.885995Z"
    },
    "papermill": {
     "duration": 203.28304,
     "end_time": "2023-10-30T15:36:09.890655",
     "exception": false,
     "start_time": "2023-10-30T15:32:46.607615",
     "status": "completed"
    },
    "tags": []
   },
   "outputs": [
    {
     "name": "stdout",
     "output_type": "stream",
     "text": [
      "20231030T163246 : amilcar22 : INFO : Iniciando entrenamiento\n",
      "num_iter: 1 , max_iter: 1\n",
      "Fitting 5 folds for each of 1 candidates, totalling 5 fits\n"
     ]
    },
    {
     "name": "stdout",
     "output_type": "stream",
     "text": [
      "Mejores Hiperparámetros: {'selector__k': 1000, 'clasifier__kernel': 'rbf', 'clasifier__gamma': 0.001, 'clasifier__C': 100}\n",
      "Mejor Puntuación: 0.8516\n",
      "20231030T163609 : amilcar22 : INFO : Fin entrenamiento\n"
     ]
    }
   ],
   "source": [
    "myfunc.verbose(\"Iniciando entrenamiento\")\n",
    "\n",
    "kf = KFold(n_splits=5, shuffle=True, random_state=SEMILLA)\n",
    "\n",
    "# Crear el pipeline para el flujo de tareas\n",
    "tasks_pipeline = Pipeline([\n",
    "    ('selector', algor_selector),\n",
    "    ('clasifier', algor_clasifier)\n",
    "])\n",
    "\n",
    "# MAX_ITERS puede limitar el número de iteraciones si son excesivas para las combinaciones de parámetros buscando un óptimo local, \n",
    "# sino funcionaría como GridSearchCV al revisar todas las cominaciones de los parámetros\n",
    "num_iteraciones = 1\n",
    "num_iteraciones = num_iteraciones * np.prod([len(elemento1) for _, elemento1 in param_distributions.items()])\n",
    "max_iteraciones = num_iteraciones if num_iteraciones <= MAX_ITERS else MAX_ITERS\n",
    "print(\"num_iter:\",num_iteraciones,\", max_iter:\",max_iteraciones)\n",
    "\n",
    "random_search = RandomizedSearchCV(\n",
    "    tasks_pipeline, \n",
    "    param_distributions, \n",
    "    n_iter=max_iteraciones,\n",
    "    scoring=SCORING,\n",
    "    cv=kf,\n",
    "    verbose=3, \n",
    "    random_state=SEMILLA, \n",
    "    n_jobs=-1\n",
    "    )\n",
    "\n",
    "# Entrenar el modelo\n",
    "random_search.fit(X_train, y_train)\n",
    "\n",
    "# Ver los mejores hiperparámetros encontrados\n",
    "print(f'Mejores Hiperparámetros: {random_search.best_params_}')\n",
    "print(f'Mejor Puntuación: {random_search.best_score_:.4f}')\n",
    "\n",
    "# Nos quedamos con el mejor modelo para ver las métricas\n",
    "mejor_modelo = random_search.best_estimator_\n",
    "\n",
    "myfunc.verbose(\"Fin entrenamiento\")"
   ]
  },
  {
   "cell_type": "markdown",
   "id": "ab60f970",
   "metadata": {
    "papermill": {
     "duration": 0.003185,
     "end_time": "2023-10-30T15:36:09.897077",
     "exception": false,
     "start_time": "2023-10-30T15:36:09.893892",
     "status": "completed"
    },
    "tags": []
   },
   "source": [
    "#### Guardar modelo"
   ]
  },
  {
   "cell_type": "code",
   "execution_count": 8,
   "id": "ef8785ba",
   "metadata": {
    "execution": {
     "iopub.execute_input": "2023-10-30T15:36:09.903743Z",
     "iopub.status.busy": "2023-10-30T15:36:09.903560Z",
     "iopub.status.idle": "2023-10-30T15:36:09.912465Z",
     "shell.execute_reply": "2023-10-30T15:36:09.911818Z"
    },
    "papermill": {
     "duration": 0.013962,
     "end_time": "2023-10-30T15:36:09.913869",
     "exception": false,
     "start_time": "2023-10-30T15:36:09.899907",
     "status": "completed"
    },
    "tags": []
   },
   "outputs": [
    {
     "name": "stdout",
     "output_type": "stream",
     "text": [
      "20231030T163609 : amilcar22 : INFO : Inicio guardar fichero ../tfm_git/ejecuciones/modelos/modelo_6390_mul_m_MI_SVM.pkl\n",
      "20231030T163609 : amilcar22 : INFO : Fin guardar fichero ../tfm_git/ejecuciones/modelos/modelo_6390_mul_m_MI_SVM.pkl\n"
     ]
    }
   ],
   "source": [
    "fichero_modelo = str.replace(\"modelo_\"+str(SEMILLA).zfill(4)+\"_\"+M_TIPO+\"_\"+M_SELECT+\"_\"+M_CLASIF+\".pkl\", \" \", \"_\")\n",
    "\n",
    "myfunc.save_modelo(mejor_modelo, myfunc.MODEL_DIR, fichero_modelo)"
   ]
  },
  {
   "cell_type": "markdown",
   "id": "0566540b",
   "metadata": {
    "papermill": {
     "duration": 0.003064,
     "end_time": "2023-10-30T15:36:09.920206",
     "exception": false,
     "start_time": "2023-10-30T15:36:09.917142",
     "status": "completed"
    },
    "tags": []
   },
   "source": [
    "#### Ver resultados del las iteraciones hechas por RandomSearchCV"
   ]
  },
  {
   "cell_type": "code",
   "execution_count": 9,
   "id": "fbb5f3c3",
   "metadata": {
    "execution": {
     "iopub.execute_input": "2023-10-30T15:36:09.927079Z",
     "iopub.status.busy": "2023-10-30T15:36:09.926910Z",
     "iopub.status.idle": "2023-10-30T15:36:09.932452Z",
     "shell.execute_reply": "2023-10-30T15:36:09.931887Z"
    },
    "papermill": {
     "duration": 0.01044,
     "end_time": "2023-10-30T15:36:09.933665",
     "exception": false,
     "start_time": "2023-10-30T15:36:09.923225",
     "status": "completed"
    },
    "tags": []
   },
   "outputs": [
    {
     "name": "stdout",
     "output_type": "stream",
     "text": [
      "20231030T163609 : amilcar22 : INFO : Inicio ver resultados\n",
      "Mejores Hiperparámetros: {'selector__k': 1000, 'clasifier__kernel': 'rbf', 'clasifier__gamma': 0.001, 'clasifier__C': 100}\n",
      "Mejores puntuaciones: 0.8516 | Params: {'selector__k': 1000, 'clasifier__kernel': 'rbf', 'clasifier__gamma': 0.001, 'clasifier__C': 100}\n",
      "Media de las puntuaciones: 0.8516 | Params: {'selector__k': 1000, 'clasifier__kernel': 'rbf', 'clasifier__gamma': 0.001, 'clasifier__C': 100}\n",
      "20231030T163609 : amilcar22 : INFO : Fin resultados\n"
     ]
    }
   ],
   "source": [
    "myfunc.ver_resultados_search(random_search)"
   ]
  },
  {
   "cell_type": "markdown",
   "id": "bac53e97",
   "metadata": {
    "papermill": {
     "duration": 0.003007,
     "end_time": "2023-10-30T15:36:09.939822",
     "exception": false,
     "start_time": "2023-10-30T15:36:09.936815",
     "status": "completed"
    },
    "tags": []
   },
   "source": [
    "#### Ver métricas del mejor modelo"
   ]
  },
  {
   "cell_type": "code",
   "execution_count": 10,
   "id": "b71ef353",
   "metadata": {
    "execution": {
     "iopub.execute_input": "2023-10-30T15:36:09.946867Z",
     "iopub.status.busy": "2023-10-30T15:36:09.946669Z",
     "iopub.status.idle": "2023-10-30T15:36:10.569290Z",
     "shell.execute_reply": "2023-10-30T15:36:10.568702Z"
    },
    "papermill": {
     "duration": 0.627688,
     "end_time": "2023-10-30T15:36:10.570612",
     "exception": false,
     "start_time": "2023-10-30T15:36:09.942924",
     "status": "completed"
    },
    "tags": []
   },
   "outputs": [
    {
     "name": "stdout",
     "output_type": "stream",
     "text": [
      "20231030T163609 : amilcar22 : INFO : Inicio ver métricas multiclase\n"
     ]
    },
    {
     "name": "stdout",
     "output_type": "stream",
     "text": [
      "              precision    recall  f1-score   support\n",
      "\n",
      "           0       0.38      0.31      0.34        16\n",
      "           1       0.80      0.53      0.64        15\n",
      "           2       0.36      0.45      0.40        11\n",
      "           3       0.50      0.80      0.62         5\n",
      "           4       0.56      0.69      0.62        13\n",
      "           5       0.75      0.67      0.71         9\n",
      "           6       0.61      0.61      0.61        18\n",
      "\n",
      "    accuracy                           0.55        87\n",
      "   macro avg       0.57      0.58      0.56        87\n",
      "weighted avg       0.57      0.55      0.55        87\n",
      "\n",
      "\n",
      "\n",
      "           Exactitud: 0.551724\n",
      "   Precisión (media): 0.566481\n",
      "      Recall (media): 0.581495\n",
      "    F1-score (media): 0.562556\n",
      "\n",
      "\n",
      "AUC para el tipo de cáncer 0-Control.... 0.7887\n",
      "AUC para el tipo de cáncer 1-Bladder.... 0.8296\n",
      "AUC para el tipo de cáncer 2-Breast..... 0.7727\n",
      "AUC para el tipo de cáncer 3-Colorectal. 0.8902\n",
      "AUC para el tipo de cáncer 4-Kidney..... 0.8067\n",
      "AUC para el tipo de cáncer 5-Lung....... 0.9587\n",
      "AUC para el tipo de cáncer 6-Prostate... 0.8857\n"
     ]
    },
    {
     "name": "stdout",
     "output_type": "stream",
     "text": [
      "\n",
      "Media de AUC: 0.8475\n"
     ]
    },
    {
     "data": {
      "image/png": "[encoded data removed]",
      "text/plain": [
       "<Figure size 1000x600 with 1 Axes>"
      ]
     },
     "metadata": {},
     "output_type": "display_data"
    },
    {
     "name": "stdout",
     "output_type": "stream",
     "text": [
      "\n",
      "\n"
     ]
    },
    {
     "data": {
      "image/png": "[encoded data removed]",
      "text/plain": [
       "<Figure size 800x400 with 2 Axes>"
      ]
     },
     "metadata": {},
     "output_type": "display_data"
    },
    {
     "name": "stdout",
     "output_type": "stream",
     "text": [
      "\n",
      "\n",
      "Puntuación Jaccard para el cáncer tipo 0-Control.... 0.2083\n",
      "Puntuación Jaccard para el cáncer tipo 1-Bladder.... 0.4706\n",
      "Puntuación Jaccard para el cáncer tipo 2-Breast..... 0.2500\n",
      "Puntuación Jaccard para el cáncer tipo 3-Colorectal. 0.4444\n",
      "Puntuación Jaccard para el cáncer tipo 4-Kidney..... 0.4500\n",
      "Puntuación Jaccard para el cáncer tipo 5-Lung....... 0.5455\n",
      "Puntuación Jaccard para el cáncer tipo 6-Prostate... 0.4400\n",
      "\n",
      "Media de la puntuación de Jaccard: 0.4013\n"
     ]
    }
   ],
   "source": [
    "if M_TIPO.startswith(\"bin\"):\n",
    "    myfunc.ver_metricas(mejor_modelo, X_test, y_test)\n",
    "else:\n",
    "    myfunc.ver_metricas_multi(mejor_modelo, X_test, y_test)\n"
   ]
  },
  {
   "cell_type": "markdown",
   "id": "8591269b",
   "metadata": {
    "papermill": {
     "duration": 0.004015,
     "end_time": "2023-10-30T15:36:10.579128",
     "exception": false,
     "start_time": "2023-10-30T15:36:10.575113",
     "status": "completed"
    },
    "tags": []
   },
   "source": [
    "#### Finalización del notebook"
   ]
  },
  {
   "cell_type": "code",
   "execution_count": 11,
   "id": "b5b7ac51",
   "metadata": {
    "execution": {
     "iopub.execute_input": "2023-10-30T15:36:10.588079Z",
     "iopub.status.busy": "2023-10-30T15:36:10.587889Z",
     "iopub.status.idle": "2023-10-30T15:36:10.591199Z",
     "shell.execute_reply": "2023-10-30T15:36:10.590700Z"
    },
    "papermill": {
     "duration": 0.009128,
     "end_time": "2023-10-30T15:36:10.592321",
     "exception": false,
     "start_time": "2023-10-30T15:36:10.583193",
     "status": "completed"
    },
    "tags": []
   },
   "outputs": [
    {
     "name": "stdout",
     "output_type": "stream",
     "text": [
      "20231030T163610 : amilcar22 : INFO : Notebook ha tardado 204 seconds\n"
     ]
    }
   ],
   "source": [
    "end_time = datetime.datetime.now()\n",
    "total_time = end_time - start_time\n",
    "myfunc.verbose(f\"Notebook ha tardado {total_time.seconds} seconds\")"
   ]
  },
  {
   "cell_type": "markdown",
   "id": "49d79aa7",
   "metadata": {
    "papermill": {
     "duration": 0.004103,
     "end_time": "2023-10-30T15:36:10.600592",
     "exception": false,
     "start_time": "2023-10-30T15:36:10.596489",
     "status": "completed"
    },
    "tags": []
   },
   "source": [
    "#### Guardar métricas"
   ]
  },
  {
   "cell_type": "code",
   "execution_count": 12,
   "id": "faf89088",
   "metadata": {
    "execution": {
     "iopub.execute_input": "2023-10-30T15:36:10.609604Z",
     "iopub.status.busy": "2023-10-30T15:36:10.609427Z",
     "iopub.status.idle": "2023-10-30T15:36:10.819642Z",
     "shell.execute_reply": "2023-10-30T15:36:10.819037Z"
    },
    "papermill": {
     "duration": 0.216199,
     "end_time": "2023-10-30T15:36:10.820985",
     "exception": false,
     "start_time": "2023-10-30T15:36:10.604786",
     "status": "completed"
    },
    "tags": []
   },
   "outputs": [
    {
     "name": "stdout",
     "output_type": "stream",
     "text": [
      "20231030T163610 : amilcar22 : INFO : Inicio guardar métricas multiclase\n",
      "20231030T163610 : amilcar22 : INFO : Inicio leer fichero ../tfm_git/ejecuciones/metricas/metricas_6390.csv\n",
      "20231030T163610 : amilcar22 : INFO : Fin leer fichero ../tfm_git/ejecuciones/metricas/metricas_6390.csv\n"
     ]
    },
    {
     "name": "stdout",
     "output_type": "stream",
     "text": [
      "20231030T163610 : amilcar22 : INFO : Inicio guardar fichero ../tfm_git/ejecuciones/metricas/metricas_6390.csv\n"
     ]
    },
    {
     "name": "stdout",
     "output_type": "stream",
     "text": [
      "20231030T163610 : amilcar22 : INFO : Fichero borrado ../tfm_git/ejecuciones/metricas/metricas_6390.csv\n",
      "20231030T163610 : amilcar22 : INFO : Fin guardar fichero ../tfm_git/ejecuciones/metricas/metricas_6390.csv\n",
      "20231030T163610 : amilcar22 : INFO : Fin guardar métricas multiclase\n",
      "20231030T163610 : amilcar22 : INFO : Inicio leer fichero ../tfm_git/ejecuciones/metricas/metricas_6390.csv\n",
      "20231030T163610 : amilcar22 : INFO : Fin leer fichero ../tfm_git/ejecuciones/metricas/metricas_6390.csv\n"
     ]
    },
    {
     "data": {
      "text/html": [
       "<div>\n",
       "<style scoped>\n",
       "    .dataframe tbody tr th:only-of-type {\n",
       "        vertical-align: middle;\n",
       "    }\n",
       "\n",
       "    .dataframe tbody tr th {\n",
       "        vertical-align: top;\n",
       "    }\n",
       "\n",
       "    .dataframe thead th {\n",
       "        text-align: right;\n",
       "    }\n",
       "</style>\n",
       "<table border=\"1\" class=\"dataframe\">\n",
       "  <thead>\n",
       "    <tr style=\"text-align: right;\">\n",
       "      <th></th>\n",
       "      <th>tipo</th>\n",
       "      <th>select</th>\n",
       "      <th>clasific</th>\n",
       "      <th>semilla</th>\n",
       "      <th>accuracy</th>\n",
       "      <th>precision</th>\n",
       "      <th>recall</th>\n",
       "      <th>f1_score</th>\n",
       "      <th>roc_auc</th>\n",
       "      <th>hostname</th>\n",
       "      <th>total_time_sec</th>\n",
       "      <th>datetime</th>\n",
       "      <th>fichero_modelo</th>\n",
       "      <th>params</th>\n",
       "      <th>shape</th>\n",
       "      <th>features</th>\n",
       "      <th>roc_auc_ovr</th>\n",
       "      <th>indices_auc</th>\n",
       "      <th>indices_jaccard</th>\n",
       "    </tr>\n",
       "  </thead>\n",
       "  <tbody>\n",
       "    <tr>\n",
       "      <th>0</th>\n",
       "      <td>mul_m</td>\n",
       "      <td>MI</td>\n",
       "      <td>SVM</td>\n",
       "      <td>6390</td>\n",
       "      <td>0.551724</td>\n",
       "      <td>0.566481</td>\n",
       "      <td>0.581495</td>\n",
       "      <td>0.562556</td>\n",
       "      <td>NaN</td>\n",
       "      <td>amilcar22</td>\n",
       "      <td>204</td>\n",
       "      <td>2023-10-30 16:36:10.790072</td>\n",
       "      <td>modelo_6390_mul_m_MI_SVM.pkl</td>\n",
       "      <td>{'selector__k': 1000, 'clasifier__kernel': 'rb...</td>\n",
       "      <td>X_test:(87, 18875)</td>\n",
       "      <td>['ENSG00000001084.13', 'ENSG00000001460.18', '...</td>\n",
       "      <td>0.847478</td>\n",
       "      <td>[0.7887323943661972, 0.8296296296296297, 0.772...</td>\n",
       "      <td>[0.20833333333333334, 0.47058823529411764, 0.2...</td>\n",
       "    </tr>\n",
       "    <tr>\n",
       "      <th>0</th>\n",
       "      <td>mul_m</td>\n",
       "      <td>MI</td>\n",
       "      <td>RF</td>\n",
       "      <td>6390</td>\n",
       "      <td>0.459770</td>\n",
       "      <td>0.415008</td>\n",
       "      <td>0.506527</td>\n",
       "      <td>0.436403</td>\n",
       "      <td>NaN</td>\n",
       "      <td>amilcar22</td>\n",
       "      <td>224</td>\n",
       "      <td>2023-10-30 16:32:40.375720</td>\n",
       "      <td>modelo_6390_mul_m_MI_RF.pkl</td>\n",
       "      <td>{'selector__k': 1000, 'clasifier__n_estimators...</td>\n",
       "      <td>X_test:(87, 18875)</td>\n",
       "      <td>['ENSG00000001084.13', 'ENSG00000001460.18', '...</td>\n",
       "      <td>0.804294</td>\n",
       "      <td>[0.6214788732394366, 0.8453703703703704, 0.777...</td>\n",
       "      <td>[0.0, 0.47368421052631576, 0.25, 0.26666666666...</td>\n",
       "    </tr>\n",
       "    <tr>\n",
       "      <th>0</th>\n",
       "      <td>mul_m</td>\n",
       "      <td>MI</td>\n",
       "      <td>LR_L2</td>\n",
       "      <td>6390</td>\n",
       "      <td>0.643678</td>\n",
       "      <td>0.652520</td>\n",
       "      <td>0.683403</td>\n",
       "      <td>0.652888</td>\n",
       "      <td>NaN</td>\n",
       "      <td>amilcar22</td>\n",
       "      <td>248</td>\n",
       "      <td>2023-10-30 16:28:49.338868</td>\n",
       "      <td>modelo_6390_mul_m_MI_LR_L2.pkl</td>\n",
       "      <td>{'selector__k': 1000, 'clasifier__solver': 'lb...</td>\n",
       "      <td>X_test:(87, 18875)</td>\n",
       "      <td>['ENSG00000001084.13', 'ENSG00000001460.18', '...</td>\n",
       "      <td>0.904979</td>\n",
       "      <td>[0.8794014084507042, 0.8824074074074074, 0.857...</td>\n",
       "      <td>[0.5263157894736842, 0.47058823529411764, 0.31...</td>\n",
       "    </tr>\n",
       "  </tbody>\n",
       "</table>\n",
       "</div>"
      ],
      "text/plain": [
       "    tipo select clasific  semilla  accuracy  precision    recall  f1_score  \\\n",
       "0  mul_m     MI      SVM     6390  0.551724   0.566481  0.581495  0.562556   \n",
       "0  mul_m     MI       RF     6390  0.459770   0.415008  0.506527  0.436403   \n",
       "0  mul_m     MI    LR_L2     6390  0.643678   0.652520  0.683403  0.652888   \n",
       "\n",
       "   roc_auc   hostname  total_time_sec                    datetime  \\\n",
       "0      NaN  amilcar22             204  2023-10-30 16:36:10.790072   \n",
       "0      NaN  amilcar22             224  2023-10-30 16:32:40.375720   \n",
       "0      NaN  amilcar22             248  2023-10-30 16:28:49.338868   \n",
       "\n",
       "                   fichero_modelo  \\\n",
       "0    modelo_6390_mul_m_MI_SVM.pkl   \n",
       "0     modelo_6390_mul_m_MI_RF.pkl   \n",
       "0  modelo_6390_mul_m_MI_LR_L2.pkl   \n",
       "\n",
       "                                              params               shape  \\\n",
       "0  {'selector__k': 1000, 'clasifier__kernel': 'rb...  X_test:(87, 18875)   \n",
       "0  {'selector__k': 1000, 'clasifier__n_estimators...  X_test:(87, 18875)   \n",
       "0  {'selector__k': 1000, 'clasifier__solver': 'lb...  X_test:(87, 18875)   \n",
       "\n",
       "                                            features  roc_auc_ovr  \\\n",
       "0  ['ENSG00000001084.13', 'ENSG00000001460.18', '...     0.847478   \n",
       "0  ['ENSG00000001084.13', 'ENSG00000001460.18', '...     0.804294   \n",
       "0  ['ENSG00000001084.13', 'ENSG00000001460.18', '...     0.904979   \n",
       "\n",
       "                                         indices_auc  \\\n",
       "0  [0.7887323943661972, 0.8296296296296297, 0.772...   \n",
       "0  [0.6214788732394366, 0.8453703703703704, 0.777...   \n",
       "0  [0.8794014084507042, 0.8824074074074074, 0.857...   \n",
       "\n",
       "                                     indices_jaccard  \n",
       "0  [0.20833333333333334, 0.47058823529411764, 0.2...  \n",
       "0  [0.0, 0.47368421052631576, 0.25, 0.26666666666...  \n",
       "0  [0.5263157894736842, 0.47058823529411764, 0.31...  "
      ]
     },
     "metadata": {},
     "output_type": "display_data"
    }
   ],
   "source": [
    "if M_TIPO.startswith(\"bin\"):\n",
    "    myfunc.save_metricas_to_csv(random_search, X_test, y_test, M_TIPO, M_SELECT, M_CLASIF, total_time, SEMILLA, myfunc.MET_DIR, M_FICHERO, fichero_modelo)\n",
    "else:\n",
    "    myfunc.save_metricas_multi_to_csv(random_search, X_test, y_test, M_TIPO, M_SELECT, M_CLASIF, total_time, SEMILLA, myfunc.MET_DIR, M_FICHERO, fichero_modelo)\n",
    "\n",
    "df1=myfunc.read_metricas_to_df(myfunc.MET_DIR,M_FICHERO)\n",
    "\n",
    "display(df1.sort_values(\"datetime\", ascending=False)[:3])\n"
   ]
  },
  {
   "cell_type": "markdown",
   "id": "3a521bba",
   "metadata": {
    "papermill": {
     "duration": 0.004323,
     "end_time": "2023-10-30T15:36:10.830133",
     "exception": false,
     "start_time": "2023-10-30T15:36:10.825810",
     "status": "completed"
    },
    "tags": []
   },
   "source": [
    "#### Guardar resultados"
   ]
  },
  {
   "cell_type": "code",
   "execution_count": 13,
   "id": "6960119b",
   "metadata": {
    "execution": {
     "iopub.execute_input": "2023-10-30T15:36:10.839759Z",
     "iopub.status.busy": "2023-10-30T15:36:10.839564Z",
     "iopub.status.idle": "2023-10-30T15:36:10.847876Z",
     "shell.execute_reply": "2023-10-30T15:36:10.847390Z"
    },
    "papermill": {
     "duration": 0.014487,
     "end_time": "2023-10-30T15:36:10.849043",
     "exception": false,
     "start_time": "2023-10-30T15:36:10.834556",
     "status": "completed"
    },
    "tags": []
   },
   "outputs": [
    {
     "name": "stdout",
     "output_type": "stream",
     "text": [
      "20231030T163610 : amilcar22 : INFO : Inicio guardar resultados\n",
      "20231030T163610 : amilcar22 : INFO : Inicio guardar fichero ../tfm_git/ejecuciones/metricas/resultados_6390_mul_m-MI-SVM.csv\n",
      "20231030T163610 : amilcar22 : INFO : Fin guardar fichero ../tfm_git/ejecuciones/metricas/resultados_6390_mul_m-MI-SVM.csv\n",
      "20231030T163610 : amilcar22 : INFO : Fin guardar resultados\n"
     ]
    }
   ],
   "source": [
    "fichero_resultados=R_FICHERO+\"_\"+M_TIPO+\"-\"+M_SELECT+\"-\"+M_CLASIF+\".csv\"\n",
    "myfunc.save_resultados_to_csv(M_TIPO, M_SELECT, M_CLASIF,  random_search, myfunc.MET_DIR, fichero_resultados)\n"
   ]
  }
 ],
 "metadata": {
  "kernelspec": {
   "display_name": "Python 3 (ipykernel)",
   "language": "python",
   "name": "python3"
  },
  "language_info": {
   "codemirror_mode": {
    "name": "ipython",
    "version": 3
   },
   "file_extension": ".py",
   "mimetype": "text/x-python",
   "name": "python",
   "nbconvert_exporter": "python",
   "pygments_lexer": "ipython3",
   "version": "3.10.12"
  },
  "papermill": {
   "default_parameters": {},
   "duration": 208.904258,
   "end_time": "2023-10-30T15:36:13.470325",
   "environment_variables": {},
   "exception": null,
   "input_path": "03_entrenamiento.ipynb",
   "output_path": "ejecuciones/training/03_entrenamiento.20231030T163244.param_0000_6390_mul_m_MI_SVM.output.ipynb",
   "parameters": {
    "MAX_ITERS": 500,
    "M_CLASIF": "SVM",
    "M_FICHERO": "metricas_6390",
    "M_SELECT": "MI",
    "M_TIPO": "mul_m",
    "PRE_DATA_FILE": "rows_transpose_norm_by_gene_id_with_target_num_",
    "P_FICHERO": "param_0000_6390_mul_m_MI_SVM.yaml",
    "R_FICHERO": "resultados_6390",
    "SCORING": "roc_auc_ovr",
    "SEMILLA": 6390,
    "eval_clasifier": "SVC(probability=True, random_state=SEMILLA)",
    "eval_selector": "SelectKBest(score_func=mutual_info_classif_state)",
    "param_distributions": {
     "clasifier__C": [
      100
     ],
     "clasifier__gamma": [
      0.001
     ],
     "clasifier__kernel": [
      "rbf"
     ],
     "selector__k": [
      1000
     ]
    }
   },
   "start_time": "2023-10-30T15:32:44.566067",
   "version": "2.4.0"
  }
 },
 "nbformat": 4,
 "nbformat_minor": 5
}