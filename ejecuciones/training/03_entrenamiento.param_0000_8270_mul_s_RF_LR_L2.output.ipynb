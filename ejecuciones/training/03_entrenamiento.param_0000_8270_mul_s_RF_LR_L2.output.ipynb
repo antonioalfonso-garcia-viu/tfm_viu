{
 "cells": [
  {
   "cell_type": "markdown",
   "id": "df6bed09",
   "metadata": {
    "papermill": {
     "duration": 0.005363,
     "end_time": "2023-10-30T01:33:05.415228",
     "exception": false,
     "start_time": "2023-10-30T01:33:05.409865",
     "status": "completed"
    },
    "tags": []
   },
   "source": [
    "##### Inicio"
   ]
  },
  {
   "cell_type": "markdown",
   "id": "a4cd6f41",
   "metadata": {
    "papermill": {
     "duration": 0.003379,
     "end_time": "2023-10-30T01:33:05.422302",
     "exception": false,
     "start_time": "2023-10-30T01:33:05.418923",
     "status": "completed"
    },
    "tags": []
   },
   "source": [
    "#### Carga de datos"
   ]
  },
  {
   "cell_type": "code",
   "execution_count": 1,
   "id": "6e3f470f",
   "metadata": {
    "execution": {
     "iopub.execute_input": "2023-10-30T01:33:05.430555Z",
     "iopub.status.busy": "2023-10-30T01:33:05.430020Z",
     "iopub.status.idle": "2023-10-30T01:33:06.550917Z",
     "shell.execute_reply": "2023-10-30T01:33:06.550312Z"
    },
    "papermill": {
     "duration": 1.126577,
     "end_time": "2023-10-30T01:33:06.552344",
     "exception": false,
     "start_time": "2023-10-30T01:33:05.425767",
     "status": "completed"
    },
    "tags": []
   },
   "outputs": [
    {
     "name": "stdout",
     "output_type": "stream",
     "text": [
      "CPU_COUNT: 16; NODE: enderlab; sys.version: 3.10.11 (main, May 16 2023, 00:28:57) [GCC 11.2.0]\n",
      "LOKY_MAX_CPU_COUNT is not set.\n",
      "OMP_NUM_THREADS is not set.\n"
     ]
    }
   ],
   "source": [
    "import os\n",
    "import numpy as np\n",
    "import pandas as pd\n",
    "import datetime\n",
    "import sklearn\n",
    "import logging\n",
    "import warnings\n",
    "\n",
    "from sklearn.pipeline import Pipeline\n",
    "from sklearn.model_selection import RandomizedSearchCV, KFold, cross_val_score, train_test_split\n",
    "from sklearn.metrics import accuracy_score, confusion_matrix, classification_report, roc_auc_score\n",
    "\n",
    "#  cargar algoritmos para aprendizaje supervisado\n",
    "from sklearn.feature_selection import SelectKBest, f_classif, SelectFromModel, mutual_info_classif\n",
    "from sklearn.svm import SVC\n",
    "from sklearn.ensemble import RandomForestClassifier\n",
    "from sklearn.linear_model import LogisticRegression,LogisticRegressionCV\n",
    "\n",
    "# importar fichero con utilidades propias\n",
    "from commons import myfunctions as myfunc\n"
   ]
  },
  {
   "cell_type": "markdown",
   "id": "0a6230eb",
   "metadata": {
    "papermill": {
     "duration": 0.003624,
     "end_time": "2023-10-30T01:33:06.560167",
     "exception": false,
     "start_time": "2023-10-30T01:33:06.556543",
     "status": "completed"
    },
    "tags": []
   },
   "source": [
    "#### Parámetros a utilizar en el entrenamiento.\n",
    "\n",
    "Se indican los 3 algoritmos de *selección de características* (eval_selector_xxx) y los 3 algoritmos para la _clasificación_ (eval_clasifier_xxx)\n",
    "\n",
    "En *param_distributions* se indicar los parámetros que utilizan los algoritmos en la función RandomSearchCV.\n",
    "\n",
    "Esta celda tiene la etiqueta **parameters** que servirá para poder lanzar los entrenamientos con la utilidad **papermill** pasándole un fichero con los parámetros. Los nuevos parámetros se situarán tras esta celda para tener prevalencia."
   ]
  },
  {
   "cell_type": "code",
   "execution_count": 2,
   "id": "dbc761ce",
   "metadata": {
    "execution": {
     "iopub.execute_input": "2023-10-30T01:33:06.568804Z",
     "iopub.status.busy": "2023-10-30T01:33:06.568405Z",
     "iopub.status.idle": "2023-10-30T01:33:06.576803Z",
     "shell.execute_reply": "2023-10-30T01:33:06.576262Z"
    },
    "papermill": {
     "duration": 0.014353,
     "end_time": "2023-10-30T01:33:06.578091",
     "exception": false,
     "start_time": "2023-10-30T01:33:06.563738",
     "status": "completed"
    },
    "tags": [
     "parameters"
    ]
   },
   "outputs": [
    {
     "name": "stdout",
     "output_type": "stream",
     "text": [
      "20231030T023306 : enderlab : INFO : Utilizando parámetros de mul_m\n"
     ]
    }
   ],
   "source": [
    "#  Parametros para el entrenamiento\n",
    "\n",
    "SEMILLA=        42\n",
    "M_TIPO=         \"mul_m\"\n",
    "M_SELECT=       \"MI\"\n",
    "M_CLASIF=       \"SVM\"\n",
    "R_FICHERO=      \"resultados\"\n",
    "M_FICHERO=      \"metricas\"\n",
    "PRE_DATA_FILE=  \"rows_transpose_norm_by_gene_id_with_target_num_\"\n",
    "SCORING=        \"roc_auc_ovr\" \n",
    "MAX_ITERS=      100\n",
    "\n",
    "def mutual_info_classif_state(X, y):\n",
    "    return mutual_info_classif(X, y, random_state=SEMILLA)\n",
    "\n",
    "eval_selector_mi = \"SelectKBest(score_func=mutual_info_classif_state)\"\n",
    "eval_selector_rf=  \"SelectFromModel(estimator=RandomForestClassifier(random_state=SEMILLA), threshold=-np.inf)\"\n",
    "eval_selector_anova=  \"SelectKBest(score_func=f_classif)\"\n",
    "\n",
    "eval_clasifier_svm= \"SVC(probability=True, random_state=SEMILLA)\"\n",
    "eval_clasifier_rf= \"RandomForestClassifier(random_state=SEMILLA)\"\n",
    "eval_clasifier_lr= \"LogisticRegressionCV(random_state=SEMILLA)\"\n",
    "\n",
    "if M_TIPO.startswith(\"bin_m\"):\n",
    "    myfunc.verbose(f\"Utilizando parámetros de {M_TIPO}\")\n",
    "    eval_selector = eval_selector_mi\n",
    "    eval_clasifier = eval_clasifier_svm\n",
    "\n",
    "    SEMILLA = 6578\n",
    "    M_SELECT = \"MI\"\n",
    "    M_CLASIF = \"SVM\"\n",
    "    param_distributions = {'selector__k': [1000], \n",
    "         'clasifier__kernel': ['rbf'], 'clasifier__gamma': [0.01], 'clasifier__C': [100]}\n",
    "elif M_TIPO.startswith(\"bin_s\"):\n",
    "    myfunc.verbose(f\"Utilizando parámetros de {M_TIPO}\")\n",
    "    eval_selector = eval_selector_rf\n",
    "    eval_clasifier = eval_clasifier_lr\n",
    "\n",
    "    SEMILLA = 6191\n",
    "    M_SELECT = \"RF\"\n",
    "    M_CLASIF = \"LR_L2\"\n",
    "    param_distributions = {'selector__max_features': [1000], 'selector__estimator__n_estimators': [200], \n",
    "        'clasifier__solver': ['lbfgs'], 'clasifier__penalty': ['l2'], 'clasifier__max_iter': [10000]}\n",
    "\n",
    "elif M_TIPO.startswith(\"mul_m\"):\n",
    "    myfunc.verbose(f\"Utilizando parámetros de {M_TIPO}\")\n",
    " \n",
    "    eval_selector = eval_selector_rf\n",
    "    eval_clasifier = eval_clasifier_lr\n",
    "\n",
    "    SEMILLA = 6191\n",
    "    M_SELECT = \"RF\"\n",
    "    M_CLASIF = \"LR_L2\"\n",
    "    param_distributions = {'selector__max_features': [1000], 'selector__estimator__n_estimators': [400], \n",
    "        'clasifier__solver': ['lbfgs'], 'clasifier__penalty': ['l2'], 'clasifier__max_iter': [10000]}\n",
    "\n",
    "else:\n",
    "    # M_TIPO.startswith(\"mul_s\"):\n",
    "    myfunc.verbose(f\"Utilizando parámetros de {M_TIPO}\")\n",
    "    eval_selector = eval_selector_anova\n",
    "    eval_clasifier = eval_clasifier_lr\n",
    "\n",
    "    SEMILLA = 1860\n",
    "    M_SELECT = \"ANOVA\"\n",
    "    M_CLASIF = \"LR_L2\"\n",
    "    param_distributions = {'selector__k': [1000], \n",
    "        'clasifier__solver': ['saga'], 'clasifier__penalty': ['l2'], 'clasifier__max_iter': [10000]}\n",
    "\n"
   ]
  },
  {
   "cell_type": "code",
   "execution_count": 3,
   "id": "31d1d9b4",
   "metadata": {
    "execution": {
     "iopub.execute_input": "2023-10-30T01:33:06.586515Z",
     "iopub.status.busy": "2023-10-30T01:33:06.586095Z",
     "iopub.status.idle": "2023-10-30T01:33:06.590078Z",
     "shell.execute_reply": "2023-10-30T01:33:06.589557Z"
    },
    "papermill": {
     "duration": 0.009399,
     "end_time": "2023-10-30T01:33:06.591303",
     "exception": false,
     "start_time": "2023-10-30T01:33:06.581904",
     "status": "completed"
    },
    "tags": [
     "injected-parameters"
    ]
   },
   "outputs": [],
   "source": [
    "# Parameters\n",
    "M_TIPO = \"mul_s\"\n",
    "M_SELECT = \"RF\"\n",
    "M_CLASIF = \"LR_L2\"\n",
    "P_FICHERO = \"param_0000_8270_mul_s_RF_LR_L2.yaml\"\n",
    "R_FICHERO = \"resultados_8270\"\n",
    "M_FICHERO = \"metricas_8270\"\n",
    "PRE_DATA_FILE = \"rows_transpose_norm_by_gene_id_with_target_num_\"\n",
    "SCORING = \"roc_auc_ovr\"\n",
    "SEMILLA = 8270\n",
    "MAX_ITERS = 500\n",
    "eval_selector = \"SelectFromModel(estimator=RandomForestClassifier(random_state=SEMILLA), threshold=-np.inf)\"\n",
    "eval_clasifier = \"LogisticRegressionCV(random_state=SEMILLA)\"\n",
    "param_distributions = {\n",
    "    \"selector__max_features\": [500],\n",
    "    \"selector__estimator__n_estimators\": [200],\n",
    "    \"clasifier__solver\": [\"lbfgs\"],\n",
    "    \"clasifier__penalty\": [\"l2\"],\n",
    "    \"clasifier__max_iter\": [10000],\n",
    "}\n"
   ]
  },
  {
   "cell_type": "code",
   "execution_count": 4,
   "id": "2dc07038",
   "metadata": {
    "execution": {
     "iopub.execute_input": "2023-10-30T01:33:06.599383Z",
     "iopub.status.busy": "2023-10-30T01:33:06.599017Z",
     "iopub.status.idle": "2023-10-30T01:33:06.602291Z",
     "shell.execute_reply": "2023-10-30T01:33:06.601776Z"
    },
    "papermill": {
     "duration": 0.008681,
     "end_time": "2023-10-30T01:33:06.603472",
     "exception": false,
     "start_time": "2023-10-30T01:33:06.594791",
     "status": "completed"
    },
    "tags": []
   },
   "outputs": [],
   "source": [
    "DATA_FILE = PRE_DATA_FILE + M_TIPO\n",
    "\n",
    "# si viene \"None\" en el parámetro max_depth, se le quitan las comillas para que no sea entendido por el algoritmo como un texto\n",
    "if \"clasifier__max_depth\" in param_distributions:\n",
    "    param_distributions['clasifier__max_depth'] = [None if x == 'None' else x for x in param_distributions['clasifier__max_depth']]"
   ]
  },
  {
   "cell_type": "markdown",
   "id": "94507afc",
   "metadata": {
    "papermill": {
     "duration": 0.003522,
     "end_time": "2023-10-30T01:33:06.610514",
     "exception": false,
     "start_time": "2023-10-30T01:33:06.606992",
     "status": "completed"
    },
    "tags": []
   },
   "source": [
    "Asignar los algoritmos que se utilizarán en la función RandomSearchCV"
   ]
  },
  {
   "cell_type": "code",
   "execution_count": 5,
   "id": "4c6a6ad6",
   "metadata": {
    "execution": {
     "iopub.execute_input": "2023-10-30T01:33:06.618960Z",
     "iopub.status.busy": "2023-10-30T01:33:06.618602Z",
     "iopub.status.idle": "2023-10-30T01:33:06.621471Z",
     "shell.execute_reply": "2023-10-30T01:33:06.620954Z"
    },
    "papermill": {
     "duration": 0.008583,
     "end_time": "2023-10-30T01:33:06.622694",
     "exception": false,
     "start_time": "2023-10-30T01:33:06.614111",
     "status": "completed"
    },
    "tags": []
   },
   "outputs": [],
   "source": [
    "algor_selector=eval(eval_selector)\n",
    "algor_clasifier=eval(eval_clasifier)"
   ]
  },
  {
   "cell_type": "markdown",
   "id": "88a6e23e",
   "metadata": {
    "papermill": {
     "duration": 0.003728,
     "end_time": "2023-10-30T01:33:06.629970",
     "exception": false,
     "start_time": "2023-10-30T01:33:06.626242",
     "status": "completed"
    },
    "tags": []
   },
   "source": [
    "#### Comprobar el entorno y leer fichero de muestras"
   ]
  },
  {
   "cell_type": "code",
   "execution_count": 6,
   "id": "92455cd0",
   "metadata": {
    "execution": {
     "iopub.execute_input": "2023-10-30T01:33:06.638252Z",
     "iopub.status.busy": "2023-10-30T01:33:06.637911Z",
     "iopub.status.idle": "2023-10-30T01:33:06.818367Z",
     "shell.execute_reply": "2023-10-30T01:33:06.817754Z"
    },
    "papermill": {
     "duration": 0.186114,
     "end_time": "2023-10-30T01:33:06.819689",
     "exception": false,
     "start_time": "2023-10-30T01:33:06.633575",
     "status": "completed"
    },
    "tags": []
   },
   "outputs": [
    {
     "name": "stdout",
     "output_type": "stream",
     "text": [
      "20231030T023306 : enderlab : INFO : Encontrada carpeta DATA_DIR=../tfm_git/datos\n",
      "20231030T023306 : enderlab : INFO : Encontrada carpeta CFDNA_DIR=../tfm_git/datos/cfDNA_5hmC\n",
      "20231030T023306 : enderlab : INFO : Encontrada carpeta GENCODE_DIR=../tfm_git/datos/gencode\n",
      "20231030T023306 : enderlab : INFO : Encontrada carpeta H5_DIR=../tfm_git/datos/h5\n",
      "20231030T023306 : enderlab : INFO : Encontrada carpeta LOG_DIR=../tfm_git/datos/logs\n",
      "20231030T023306 : enderlab : INFO : Encontrada carpeta CSV_DIR=../tfm_git/datos/csv\n",
      "20231030T023306 : enderlab : INFO : Encontrada carpeta MODEL_DIR=../tfm_git/ejecuciones/modelos\n",
      "20231030T023306 : enderlab : INFO : Encontrada carpeta EXEC_DIR=../tfm_git/ejecuciones\n",
      "20231030T023306 : enderlab : INFO : Encontrada carpeta MET_DIR=../tfm_git/ejecuciones/metricas\n",
      "20231030T023306 : enderlab : INFO : Inicio leer fichero h5 ../tfm_git/datos/h5/rows_transpose_norm_by_gene_id_with_target_num_mul_s.h5\n",
      "20231030T023306 : enderlab : INFO : Leyendo clave /df\n"
     ]
    },
    {
     "name": "stdout",
     "output_type": "stream",
     "text": [
      "20231030T023306 : enderlab : INFO : Tamaño (259, 18876)\n",
      "20231030T023306 : enderlab : INFO : Fin leer fichero h5 ../tfm_git/datos/h5/rows_transpose_norm_by_gene_id_with_target_num_mul_s.h5\n"
     ]
    },
    {
     "data": {
      "text/plain": [
       "target\n",
       "0    37\n",
       "1    37\n",
       "2    37\n",
       "3    37\n",
       "4    37\n",
       "5    37\n",
       "6    37\n",
       "dtype: int64"
      ]
     },
     "metadata": {},
     "output_type": "display_data"
    },
    {
     "name": "stdout",
     "output_type": "stream",
     "text": [
      "Shape df: (259, 18876)\n"
     ]
    },
    {
     "name": "stdout",
     "output_type": "stream",
     "text": [
      "Shape X_train: (207, 18875)\n",
      "Shape X_test: (52, 18875)\n"
     ]
    }
   ],
   "source": [
    "start_time = datetime.datetime.now()\n",
    "\n",
    "myfunc.reset_vars()\n",
    "\n",
    "myfunc.NOTEBK_FILENAME = myfunc.get_nb_name()\n",
    "\n",
    "myfunc.check_enviroment(myfunc.DATA_DIR, myfunc.CFDNA_DIR, myfunc.GENCODE_DIR, myfunc.H5_DIR, myfunc.LOG_DIR, myfunc.CSV_DIR, myfunc.MODEL_DIR, myfunc.EXEC_DIR, myfunc.MET_DIR)\n",
    "\n",
    "# Leer fichero con las muestras\n",
    "df_t = myfunc.read_h5_to_df(DATA_FILE, myfunc.H5_DIR)\n",
    "display(df_t.groupby(\"target\").size())\n",
    "print(\"Shape df:\",df_t.shape)\n",
    "\n",
    "# Separar caracteristicas/genes de las etiquetas/tipos de cáncer\n",
    "X = df_t.iloc[:, :-1]  # Todas las columnas excepto la última\n",
    "y = df_t.iloc[:, -1]  # La última columna contiene los identificadores de los tipos de cáncer\n",
    "\n",
    "#  Crear el conjunto de datos de entrenamiento y de pruebas, y se fija la semilla para siempre coger el mismo juego de muestras\n",
    "X_train, X_test, y_train, y_test = train_test_split(X, y, test_size=0.2, shuffle=True, random_state=42)\n",
    "print(\"Shape X_train:\",X_train.shape)\n",
    "print(\"Shape X_test:\",X_test.shape)\n"
   ]
  },
  {
   "cell_type": "markdown",
   "id": "cb3a154a",
   "metadata": {
    "papermill": {
     "duration": 0.004104,
     "end_time": "2023-10-30T01:33:06.828363",
     "exception": false,
     "start_time": "2023-10-30T01:33:06.824259",
     "status": "completed"
    },
    "tags": []
   },
   "source": [
    "#### Selección de características y clasificación."
   ]
  },
  {
   "cell_type": "code",
   "execution_count": 7,
   "id": "8151ff5f",
   "metadata": {
    "execution": {
     "iopub.execute_input": "2023-10-30T01:33:06.837474Z",
     "iopub.status.busy": "2023-10-30T01:33:06.837052Z",
     "iopub.status.idle": "2023-10-30T01:33:21.361010Z",
     "shell.execute_reply": "2023-10-30T01:33:21.360149Z"
    },
    "papermill": {
     "duration": 14.53035,
     "end_time": "2023-10-30T01:33:21.362671",
     "exception": false,
     "start_time": "2023-10-30T01:33:06.832321",
     "status": "completed"
    },
    "tags": []
   },
   "outputs": [
    {
     "name": "stdout",
     "output_type": "stream",
     "text": [
      "20231030T023306 : enderlab : INFO : Iniciando entrenamiento\n",
      "num_iter: 1 , max_iter: 1\n"
     ]
    },
    {
     "name": "stdout",
     "output_type": "stream",
     "text": [
      "Fitting 5 folds for each of 1 candidates, totalling 5 fits\n"
     ]
    },
    {
     "name": "stdout",
     "output_type": "stream",
     "text": [
      "Mejores Hiperparámetros: {'selector__max_features': 500, 'selector__estimator__n_estimators': 200, 'clasifier__solver': 'lbfgs', 'clasifier__penalty': 'l2', 'clasifier__max_iter': 10000}\n",
      "Mejor Puntuación: 0.8100\n",
      "20231030T023321 : enderlab : INFO : Fin entrenamiento\n"
     ]
    }
   ],
   "source": [
    "myfunc.verbose(\"Iniciando entrenamiento\")\n",
    "\n",
    "kf = KFold(n_splits=5, shuffle=True, random_state=SEMILLA)\n",
    "\n",
    "# Crear el pipeline para el flujo de tareas\n",
    "tasks_pipeline = Pipeline([\n",
    "    ('selector', algor_selector),\n",
    "    ('clasifier', algor_clasifier)\n",
    "])\n",
    "\n",
    "# MAX_ITERS puede limitar el número de iteraciones si son excesivas para las combinaciones de parámetros buscando un óptimo local, \n",
    "# sino funcionaría como GridSearchCV al revisar todas las cominaciones de los parámetros\n",
    "num_iteraciones = 1\n",
    "num_iteraciones = num_iteraciones * np.prod([len(elemento1) for _, elemento1 in param_distributions.items()])\n",
    "max_iteraciones = num_iteraciones if num_iteraciones <= MAX_ITERS else MAX_ITERS\n",
    "print(\"num_iter:\",num_iteraciones,\", max_iter:\",max_iteraciones)\n",
    "\n",
    "random_search = RandomizedSearchCV(\n",
    "    tasks_pipeline, \n",
    "    param_distributions, \n",
    "    n_iter=max_iteraciones,\n",
    "    scoring=SCORING,\n",
    "    cv=kf,\n",
    "    verbose=3, \n",
    "    random_state=SEMILLA, \n",
    "    n_jobs=-1\n",
    "    )\n",
    "\n",
    "# Entrenar el modelo\n",
    "random_search.fit(X_train, y_train)\n",
    "\n",
    "# Ver los mejores hiperparámetros encontrados\n",
    "print(f'Mejores Hiperparámetros: {random_search.best_params_}')\n",
    "print(f'Mejor Puntuación: {random_search.best_score_:.4f}')\n",
    "\n",
    "# Nos quedamos con el mejor modelo para ver las métricas\n",
    "mejor_modelo = random_search.best_estimator_\n",
    "\n",
    "myfunc.verbose(\"Fin entrenamiento\")"
   ]
  },
  {
   "cell_type": "markdown",
   "id": "e9bc1e19",
   "metadata": {
    "papermill": {
     "duration": 0.004262,
     "end_time": "2023-10-30T01:33:21.372221",
     "exception": false,
     "start_time": "2023-10-30T01:33:21.367959",
     "status": "completed"
    },
    "tags": []
   },
   "source": [
    "#### Guardar modelo"
   ]
  },
  {
   "cell_type": "code",
   "execution_count": 8,
   "id": "22be1518",
   "metadata": {
    "execution": {
     "iopub.execute_input": "2023-10-30T01:33:21.381994Z",
     "iopub.status.busy": "2023-10-30T01:33:21.381628Z",
     "iopub.status.idle": "2023-10-30T01:33:21.473010Z",
     "shell.execute_reply": "2023-10-30T01:33:21.472390Z"
    },
    "papermill": {
     "duration": 0.098005,
     "end_time": "2023-10-30T01:33:21.474351",
     "exception": false,
     "start_time": "2023-10-30T01:33:21.376346",
     "status": "completed"
    },
    "tags": []
   },
   "outputs": [
    {
     "name": "stdout",
     "output_type": "stream",
     "text": [
      "20231030T023321 : enderlab : INFO : Inicio guardar fichero ../tfm_git/ejecuciones/modelos/modelo_8270_mul_s_RF_LR_L2.pkl\n",
      "20231030T023321 : enderlab : INFO : Fin guardar fichero ../tfm_git/ejecuciones/modelos/modelo_8270_mul_s_RF_LR_L2.pkl\n"
     ]
    }
   ],
   "source": [
    "fichero_modelo = str.replace(\"modelo_\"+str(SEMILLA).zfill(4)+\"_\"+M_TIPO+\"_\"+M_SELECT+\"_\"+M_CLASIF+\".pkl\", \" \", \"_\")\n",
    "\n",
    "myfunc.save_modelo(mejor_modelo, myfunc.MODEL_DIR, fichero_modelo)"
   ]
  },
  {
   "cell_type": "markdown",
   "id": "a9279773",
   "metadata": {
    "papermill": {
     "duration": 0.004397,
     "end_time": "2023-10-30T01:33:21.483341",
     "exception": false,
     "start_time": "2023-10-30T01:33:21.478944",
     "status": "completed"
    },
    "tags": []
   },
   "source": [
    "#### Ver resultados del las iteraciones hechas por RandomSearchCV"
   ]
  },
  {
   "cell_type": "code",
   "execution_count": 9,
   "id": "bb9b54ef",
   "metadata": {
    "execution": {
     "iopub.execute_input": "2023-10-30T01:33:21.492952Z",
     "iopub.status.busy": "2023-10-30T01:33:21.492440Z",
     "iopub.status.idle": "2023-10-30T01:33:21.500159Z",
     "shell.execute_reply": "2023-10-30T01:33:21.499609Z"
    },
    "papermill": {
     "duration": 0.013835,
     "end_time": "2023-10-30T01:33:21.501353",
     "exception": false,
     "start_time": "2023-10-30T01:33:21.487518",
     "status": "completed"
    },
    "tags": []
   },
   "outputs": [
    {
     "name": "stdout",
     "output_type": "stream",
     "text": [
      "20231030T023321 : enderlab : INFO : Inicio ver resultados\n",
      "Mejores Hiperparámetros: {'selector__max_features': 500, 'selector__estimator__n_estimators': 200, 'clasifier__solver': 'lbfgs', 'clasifier__penalty': 'l2', 'clasifier__max_iter': 10000}\n",
      "Mejores puntuaciones: 0.8100 | Params: {'selector__max_features': 500, 'selector__estimator__n_estimators': 200, 'clasifier__solver': 'lbfgs', 'clasifier__penalty': 'l2', 'clasifier__max_iter': 10000}\n",
      "Media de las puntuaciones: 0.8100 | Params: {'selector__max_features': 500, 'selector__estimator__n_estimators': 200, 'clasifier__solver': 'lbfgs', 'clasifier__penalty': 'l2', 'clasifier__max_iter': 10000}\n",
      "20231030T023321 : enderlab : INFO : Fin resultados\n"
     ]
    }
   ],
   "source": [
    "myfunc.ver_resultados_search(random_search)"
   ]
  },
  {
   "cell_type": "markdown",
   "id": "9b9f7c81",
   "metadata": {
    "papermill": {
     "duration": 0.004222,
     "end_time": "2023-10-30T01:33:21.509760",
     "exception": false,
     "start_time": "2023-10-30T01:33:21.505538",
     "status": "completed"
    },
    "tags": []
   },
   "source": [
    "#### Ver métricas del mejor modelo"
   ]
  },
  {
   "cell_type": "code",
   "execution_count": 10,
   "id": "9a1eddec",
   "metadata": {
    "execution": {
     "iopub.execute_input": "2023-10-30T01:33:21.519505Z",
     "iopub.status.busy": "2023-10-30T01:33:21.519109Z",
     "iopub.status.idle": "2023-10-30T01:33:22.377792Z",
     "shell.execute_reply": "2023-10-30T01:33:22.377205Z"
    },
    "papermill": {
     "duration": 0.865339,
     "end_time": "2023-10-30T01:33:22.379393",
     "exception": false,
     "start_time": "2023-10-30T01:33:21.514054",
     "status": "completed"
    },
    "tags": []
   },
   "outputs": [
    {
     "name": "stdout",
     "output_type": "stream",
     "text": [
      "20231030T023321 : enderlab : INFO : Inicio ver métricas multiclase\n"
     ]
    },
    {
     "name": "stdout",
     "output_type": "stream",
     "text": [
      "              precision    recall  f1-score   support\n",
      "\n",
      "           0       0.29      0.18      0.22        11\n",
      "           1       1.00      0.62      0.77         8\n",
      "           2       0.29      0.25      0.27         8\n",
      "           3       0.00      0.00      0.00         5\n",
      "           4       0.64      0.88      0.74         8\n",
      "           5       0.75      0.50      0.60         6\n",
      "           6       0.30      0.50      0.37         6\n",
      "\n",
      "    accuracy                           0.42        52\n",
      "   macro avg       0.47      0.42      0.42        52\n",
      "weighted avg       0.48      0.42      0.43        52\n",
      "\n",
      "\n",
      "\n",
      "           Exactitud: 0.423077\n",
      "   Precisión (media): 0.465399\n",
      "      Recall (media): 0.418831\n",
      "    F1-score (media): 0.424280\n",
      "\n",
      "\n",
      "AUC para el tipo de cáncer 0-Control.... 0.6364\n",
      "AUC para el tipo de cáncer 1-Bladder.... 0.8636\n",
      "AUC para el tipo de cáncer 2-Breast..... 0.6648\n",
      "AUC para el tipo de cáncer 3-Colorectal. 0.7404\n",
      "AUC para el tipo de cáncer 4-Kidney..... 0.9460\n",
      "AUC para el tipo de cáncer 5-Lung....... 0.9203\n",
      "AUC para el tipo de cáncer 6-Prostate... 0.8551\n",
      "\n",
      "Media de AUC: 0.8038\n"
     ]
    },
    {
     "data": {
      "image/png": "[encoded data removed]",
      "text/plain": [
       "<Figure size 1000x600 with 1 Axes>"
      ]
     },
     "metadata": {},
     "output_type": "display_data"
    },
    {
     "name": "stdout",
     "output_type": "stream",
     "text": [
      "\n",
      "\n"
     ]
    },
    {
     "data": {
      "image/png": "[encoded data removed]",
      "text/plain": [
       "<Figure size 800x400 with 2 Axes>"
      ]
     },
     "metadata": {},
     "output_type": "display_data"
    },
    {
     "name": "stdout",
     "output_type": "stream",
     "text": [
      "\n",
      "\n",
      "Puntuación Jaccard para el cáncer tipo 0-Control.... 0.1250\n",
      "Puntuación Jaccard para el cáncer tipo 1-Bladder.... 0.6250\n",
      "Puntuación Jaccard para el cáncer tipo 2-Breast..... 0.1538\n",
      "Puntuación Jaccard para el cáncer tipo 3-Colorectal. 0.0000\n",
      "Puntuación Jaccard para el cáncer tipo 4-Kidney..... 0.5833\n",
      "Puntuación Jaccard para el cáncer tipo 5-Lung....... 0.4286\n",
      "Puntuación Jaccard para el cáncer tipo 6-Prostate... 0.2308\n",
      "\n",
      "Media de la puntuación de Jaccard: 0.3066\n"
     ]
    }
   ],
   "source": [
    "if M_TIPO.startswith(\"bin\"):\n",
    "    myfunc.ver_metricas(mejor_modelo, X_test, y_test)\n",
    "else:\n",
    "    myfunc.ver_metricas_multi(mejor_modelo, X_test, y_test)\n"
   ]
  },
  {
   "cell_type": "markdown",
   "id": "eb6e8500",
   "metadata": {
    "papermill": {
     "duration": 0.005893,
     "end_time": "2023-10-30T01:33:22.392285",
     "exception": false,
     "start_time": "2023-10-30T01:33:22.386392",
     "status": "completed"
    },
    "tags": []
   },
   "source": [
    "#### Finalización del notebook"
   ]
  },
  {
   "cell_type": "code",
   "execution_count": 11,
   "id": "52288cd5",
   "metadata": {
    "execution": {
     "iopub.execute_input": "2023-10-30T01:33:22.405076Z",
     "iopub.status.busy": "2023-10-30T01:33:22.404614Z",
     "iopub.status.idle": "2023-10-30T01:33:22.408302Z",
     "shell.execute_reply": "2023-10-30T01:33:22.407766Z"
    },
    "papermill": {
     "duration": 0.011486,
     "end_time": "2023-10-30T01:33:22.409571",
     "exception": false,
     "start_time": "2023-10-30T01:33:22.398085",
     "status": "completed"
    },
    "tags": []
   },
   "outputs": [
    {
     "name": "stdout",
     "output_type": "stream",
     "text": [
      "20231030T023322 : enderlab : INFO : Notebook ha tardado 15 seconds\n"
     ]
    }
   ],
   "source": [
    "end_time = datetime.datetime.now()\n",
    "total_time = end_time - start_time\n",
    "myfunc.verbose(f\"Notebook ha tardado {total_time.seconds} seconds\")"
   ]
  },
  {
   "cell_type": "markdown",
   "id": "41ace6b3",
   "metadata": {
    "papermill": {
     "duration": 0.006223,
     "end_time": "2023-10-30T01:33:22.421526",
     "exception": false,
     "start_time": "2023-10-30T01:33:22.415303",
     "status": "completed"
    },
    "tags": []
   },
   "source": [
    "#### Guardar métricas"
   ]
  },
  {
   "cell_type": "code",
   "execution_count": 12,
   "id": "e7be3180",
   "metadata": {
    "execution": {
     "iopub.execute_input": "2023-10-30T01:33:22.434891Z",
     "iopub.status.busy": "2023-10-30T01:33:22.434341Z",
     "iopub.status.idle": "2023-10-30T01:33:22.904143Z",
     "shell.execute_reply": "2023-10-30T01:33:22.903544Z"
    },
    "papermill": {
     "duration": 0.477791,
     "end_time": "2023-10-30T01:33:22.905516",
     "exception": false,
     "start_time": "2023-10-30T01:33:22.427725",
     "status": "completed"
    },
    "tags": []
   },
   "outputs": [
    {
     "name": "stdout",
     "output_type": "stream",
     "text": [
      "20231030T023322 : enderlab : INFO : Inicio guardar métricas multiclase\n",
      "20231030T023322 : enderlab : INFO : Inicio leer fichero ../tfm_git/ejecuciones/metricas/metricas_8270.csv\n",
      "20231030T023322 : enderlab : INFO : Fin leer fichero ../tfm_git/ejecuciones/metricas/metricas_8270.csv\n"
     ]
    },
    {
     "name": "stdout",
     "output_type": "stream",
     "text": [
      "20231030T023322 : enderlab : INFO : Inicio guardar fichero ../tfm_git/ejecuciones/metricas/metricas_8270.csv\n",
      "20231030T023322 : enderlab : INFO : Fichero borrado ../tfm_git/ejecuciones/metricas/metricas_8270.csv\n",
      "20231030T023322 : enderlab : INFO : Fin guardar fichero ../tfm_git/ejecuciones/metricas/metricas_8270.csv\n",
      "20231030T023322 : enderlab : INFO : Fin guardar métricas multiclase\n",
      "20231030T023322 : enderlab : INFO : Inicio leer fichero ../tfm_git/ejecuciones/metricas/metricas_8270.csv\n",
      "20231030T023322 : enderlab : INFO : Fin leer fichero ../tfm_git/ejecuciones/metricas/metricas_8270.csv\n"
     ]
    },
    {
     "data": {
      "text/html": [
       "<div>\n",
       "<style scoped>\n",
       "    .dataframe tbody tr th:only-of-type {\n",
       "        vertical-align: middle;\n",
       "    }\n",
       "\n",
       "    .dataframe tbody tr th {\n",
       "        vertical-align: top;\n",
       "    }\n",
       "\n",
       "    .dataframe thead th {\n",
       "        text-align: right;\n",
       "    }\n",
       "</style>\n",
       "<table border=\"1\" class=\"dataframe\">\n",
       "  <thead>\n",
       "    <tr style=\"text-align: right;\">\n",
       "      <th></th>\n",
       "      <th>tipo</th>\n",
       "      <th>select</th>\n",
       "      <th>clasific</th>\n",
       "      <th>semilla</th>\n",
       "      <th>accuracy</th>\n",
       "      <th>precision</th>\n",
       "      <th>recall</th>\n",
       "      <th>f1_score</th>\n",
       "      <th>roc_auc</th>\n",
       "      <th>hostname</th>\n",
       "      <th>total_time_sec</th>\n",
       "      <th>datetime</th>\n",
       "      <th>fichero_modelo</th>\n",
       "      <th>params</th>\n",
       "      <th>shape</th>\n",
       "      <th>features</th>\n",
       "      <th>roc_auc_ovr</th>\n",
       "      <th>indices_auc</th>\n",
       "      <th>indices_jaccard</th>\n",
       "    </tr>\n",
       "  </thead>\n",
       "  <tbody>\n",
       "    <tr>\n",
       "      <th>0</th>\n",
       "      <td>mul_s</td>\n",
       "      <td>RF</td>\n",
       "      <td>LR_L2</td>\n",
       "      <td>8270</td>\n",
       "      <td>0.423077</td>\n",
       "      <td>0.465399</td>\n",
       "      <td>0.418831</td>\n",
       "      <td>0.424280</td>\n",
       "      <td>NaN</td>\n",
       "      <td>enderlab</td>\n",
       "      <td>15</td>\n",
       "      <td>2023-10-30 02:33:22.849373</td>\n",
       "      <td>modelo_8270_mul_s_RF_LR_L2.pkl</td>\n",
       "      <td>{'selector__max_features': 500, 'selector__est...</td>\n",
       "      <td>X_test:(52, 18875)</td>\n",
       "      <td>['ENSG00000003402.21', 'ENSG00000003989.18', '...</td>\n",
       "      <td>0.803798</td>\n",
       "      <td>[0.6363636363636364, 0.8636363636363636, 0.664...</td>\n",
       "      <td>[0.125, 0.625, 0.15384615384615385, 0.0, 0.583...</td>\n",
       "    </tr>\n",
       "    <tr>\n",
       "      <th>0</th>\n",
       "      <td>mul_s</td>\n",
       "      <td>RF</td>\n",
       "      <td>LR_L1</td>\n",
       "      <td>8270</td>\n",
       "      <td>0.461538</td>\n",
       "      <td>0.475454</td>\n",
       "      <td>0.459199</td>\n",
       "      <td>0.457074</td>\n",
       "      <td>NaN</td>\n",
       "      <td>enderlab</td>\n",
       "      <td>397</td>\n",
       "      <td>2023-10-30 02:32:59.873688</td>\n",
       "      <td>modelo_8270_mul_s_RF_LR_L1.pkl</td>\n",
       "      <td>{'selector__max_features': 500, 'selector__est...</td>\n",
       "      <td>X_test:(52, 18875)</td>\n",
       "      <td>['ENSG00000003989.18', 'ENSG00000007866.22', '...</td>\n",
       "      <td>0.808355</td>\n",
       "      <td>[0.7361419068736142, 0.9119318181818182, 0.681...</td>\n",
       "      <td>[0.21428571428571427, 0.5, 0.3333333333333333,...</td>\n",
       "    </tr>\n",
       "    <tr>\n",
       "      <th>0</th>\n",
       "      <td>mul_s</td>\n",
       "      <td>RF</td>\n",
       "      <td>LR_EN</td>\n",
       "      <td>8270</td>\n",
       "      <td>0.365385</td>\n",
       "      <td>0.391620</td>\n",
       "      <td>0.379654</td>\n",
       "      <td>0.375397</td>\n",
       "      <td>NaN</td>\n",
       "      <td>enderlab</td>\n",
       "      <td>363</td>\n",
       "      <td>2023-10-30 02:26:15.357972</td>\n",
       "      <td>modelo_8270_mul_s_RF_LR_EN.pkl</td>\n",
       "      <td>{'selector__max_features': 500, 'selector__est...</td>\n",
       "      <td>X_test:(52, 18875)</td>\n",
       "      <td>['ENSG00000008438.5', 'ENSG00000008516.18', 'E...</td>\n",
       "      <td>0.760997</td>\n",
       "      <td>[0.5188470066518847, 0.8267045454545455, 0.659...</td>\n",
       "      <td>[0.058823529411764705, 0.45454545454545453, 0....</td>\n",
       "    </tr>\n",
       "  </tbody>\n",
       "</table>\n",
       "</div>"
      ],
      "text/plain": [
       "    tipo select clasific  semilla  accuracy  precision    recall  f1_score  \\\n",
       "0  mul_s     RF    LR_L2     8270  0.423077   0.465399  0.418831  0.424280   \n",
       "0  mul_s     RF    LR_L1     8270  0.461538   0.475454  0.459199  0.457074   \n",
       "0  mul_s     RF    LR_EN     8270  0.365385   0.391620  0.379654  0.375397   \n",
       "\n",
       "   roc_auc  hostname  total_time_sec                    datetime  \\\n",
       "0      NaN  enderlab              15  2023-10-30 02:33:22.849373   \n",
       "0      NaN  enderlab             397  2023-10-30 02:32:59.873688   \n",
       "0      NaN  enderlab             363  2023-10-30 02:26:15.357972   \n",
       "\n",
       "                   fichero_modelo  \\\n",
       "0  modelo_8270_mul_s_RF_LR_L2.pkl   \n",
       "0  modelo_8270_mul_s_RF_LR_L1.pkl   \n",
       "0  modelo_8270_mul_s_RF_LR_EN.pkl   \n",
       "\n",
       "                                              params               shape  \\\n",
       "0  {'selector__max_features': 500, 'selector__est...  X_test:(52, 18875)   \n",
       "0  {'selector__max_features': 500, 'selector__est...  X_test:(52, 18875)   \n",
       "0  {'selector__max_features': 500, 'selector__est...  X_test:(52, 18875)   \n",
       "\n",
       "                                            features  roc_auc_ovr  \\\n",
       "0  ['ENSG00000003402.21', 'ENSG00000003989.18', '...     0.803798   \n",
       "0  ['ENSG00000003989.18', 'ENSG00000007866.22', '...     0.808355   \n",
       "0  ['ENSG00000008438.5', 'ENSG00000008516.18', 'E...     0.760997   \n",
       "\n",
       "                                         indices_auc  \\\n",
       "0  [0.6363636363636364, 0.8636363636363636, 0.664...   \n",
       "0  [0.7361419068736142, 0.9119318181818182, 0.681...   \n",
       "0  [0.5188470066518847, 0.8267045454545455, 0.659...   \n",
       "\n",
       "                                     indices_jaccard  \n",
       "0  [0.125, 0.625, 0.15384615384615385, 0.0, 0.583...  \n",
       "0  [0.21428571428571427, 0.5, 0.3333333333333333,...  \n",
       "0  [0.058823529411764705, 0.45454545454545453, 0....  "
      ]
     },
     "metadata": {},
     "output_type": "display_data"
    }
   ],
   "source": [
    "if M_TIPO.startswith(\"bin\"):\n",
    "    myfunc.save_metricas_to_csv(random_search, X_test, y_test, M_TIPO, M_SELECT, M_CLASIF, total_time, SEMILLA, myfunc.MET_DIR, M_FICHERO, fichero_modelo)\n",
    "else:\n",
    "    myfunc.save_metricas_multi_to_csv(random_search, X_test, y_test, M_TIPO, M_SELECT, M_CLASIF, total_time, SEMILLA, myfunc.MET_DIR, M_FICHERO, fichero_modelo)\n",
    "\n",
    "df1=myfunc.read_metricas_to_df(myfunc.MET_DIR,M_FICHERO)\n",
    "\n",
    "display(df1.sort_values(\"datetime\", ascending=False)[:3])\n"
   ]
  },
  {
   "cell_type": "markdown",
   "id": "c83f8362",
   "metadata": {
    "papermill": {
     "duration": 0.006379,
     "end_time": "2023-10-30T01:33:22.918626",
     "exception": false,
     "start_time": "2023-10-30T01:33:22.912247",
     "status": "completed"
    },
    "tags": []
   },
   "source": [
    "#### Guardar resultados"
   ]
  },
  {
   "cell_type": "code",
   "execution_count": 13,
   "id": "18290347",
   "metadata": {
    "execution": {
     "iopub.execute_input": "2023-10-30T01:33:22.932262Z",
     "iopub.status.busy": "2023-10-30T01:33:22.931810Z",
     "iopub.status.idle": "2023-10-30T01:33:22.940909Z",
     "shell.execute_reply": "2023-10-30T01:33:22.940352Z"
    },
    "papermill": {
     "duration": 0.017206,
     "end_time": "2023-10-30T01:33:22.942088",
     "exception": false,
     "start_time": "2023-10-30T01:33:22.924882",
     "status": "completed"
    },
    "tags": []
   },
   "outputs": [
    {
     "name": "stdout",
     "output_type": "stream",
     "text": [
      "20231030T023322 : enderlab : INFO : Inicio guardar resultados\n",
      "20231030T023322 : enderlab : INFO : Inicio guardar fichero ../tfm_git/ejecuciones/metricas/resultados_8270_mul_s-RF-LR_L2.csv\n",
      "20231030T023322 : enderlab : INFO : Fin guardar fichero ../tfm_git/ejecuciones/metricas/resultados_8270_mul_s-RF-LR_L2.csv\n",
      "20231030T023322 : enderlab : INFO : Fin guardar resultados\n"
     ]
    }
   ],
   "source": [
    "fichero_resultados=R_FICHERO+\"_\"+M_TIPO+\"-\"+M_SELECT+\"-\"+M_CLASIF+\".csv\"\n",
    "myfunc.save_resultados_to_csv(M_TIPO, M_SELECT, M_CLASIF,  random_search, myfunc.MET_DIR, fichero_resultados)\n"
   ]
  }
 ],
 "metadata": {
  "kernelspec": {
   "display_name": "Python 3 (ipykernel)",
   "language": "python",
   "name": "python3"
  },
  "language_info": {
   "codemirror_mode": {
    "name": "ipython",
    "version": 3
   },
   "file_extension": ".py",
   "mimetype": "text/x-python",
   "name": "python",
   "nbconvert_exporter": "python",
   "pygments_lexer": "ipython3",
   "version": "3.10.11"
  },
  "papermill": {
   "default_parameters": {},
   "duration": 21.341679,
   "end_time": "2023-10-30T01:33:25.566330",
   "environment_variables": {},
   "exception": null,
   "input_path": "03_entrenamiento.ipynb",
   "output_path": "ejecuciones/training/03_entrenamiento.20231030T023303.param_0000_8270_mul_s_RF_LR_L2.output.ipynb",
   "parameters": {
    "MAX_ITERS": 500,
    "M_CLASIF": "LR_L2",
    "M_FICHERO": "metricas_8270",
    "M_SELECT": "RF",
    "M_TIPO": "mul_s",
    "PRE_DATA_FILE": "rows_transpose_norm_by_gene_id_with_target_num_",
    "P_FICHERO": "param_0000_8270_mul_s_RF_LR_L2.yaml",
    "R_FICHERO": "resultados_8270",
    "SCORING": "roc_auc_ovr",
    "SEMILLA": 8270,
    "eval_clasifier": "LogisticRegressionCV(random_state=SEMILLA)",
    "eval_selector": "SelectFromModel(estimator=RandomForestClassifier(random_state=SEMILLA), threshold=-np.inf)",
    "param_distributions": {
     "clasifier__max_iter": [
      10000
     ],
     "clasifier__penalty": [
      "l2"
     ],
     "clasifier__solver": [
      "lbfgs"
     ],
     "selector__estimator__n_estimators": [
      200
     ],
     "selector__max_features": [
      500
     ]
    }
   },
   "start_time": "2023-10-30T01:33:04.224651",
   "version": "2.4.0"
  }
 },
 "nbformat": 4,
 "nbformat_minor": 5
}