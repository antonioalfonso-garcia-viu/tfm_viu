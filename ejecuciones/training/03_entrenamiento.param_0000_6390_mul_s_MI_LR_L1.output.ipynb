{
 "cells": [
  {
   "cell_type": "markdown",
   "id": "0d6ce573",
   "metadata": {
    "papermill": {
     "duration": 0.003154,
     "end_time": "2023-10-30T17:55:06.905803",
     "exception": false,
     "start_time": "2023-10-30T17:55:06.902649",
     "status": "completed"
    },
    "tags": []
   },
   "source": [
    "##### Inicio"
   ]
  },
  {
   "cell_type": "markdown",
   "id": "984c5728",
   "metadata": {
    "papermill": {
     "duration": 0.003471,
     "end_time": "2023-10-30T17:55:06.911806",
     "exception": false,
     "start_time": "2023-10-30T17:55:06.908335",
     "status": "completed"
    },
    "tags": []
   },
   "source": [
    "#### Carga de datos"
   ]
  },
  {
   "cell_type": "code",
   "execution_count": 1,
   "id": "e7fbedd2",
   "metadata": {
    "execution": {
     "iopub.execute_input": "2023-10-30T17:55:06.920283Z",
     "iopub.status.busy": "2023-10-30T17:55:06.920033Z",
     "iopub.status.idle": "2023-10-30T17:55:07.786365Z",
     "shell.execute_reply": "2023-10-30T17:55:07.785789Z"
    },
    "papermill": {
     "duration": 0.872252,
     "end_time": "2023-10-30T17:55:07.787688",
     "exception": false,
     "start_time": "2023-10-30T17:55:06.915436",
     "status": "completed"
    },
    "tags": []
   },
   "outputs": [
    {
     "name": "stdout",
     "output_type": "stream",
     "text": [
      "CPU_COUNT: 8; NODE: amilcar22; sys.version: 3.10.12 (main, Jul  5 2023, 19:22:19) [GCC 11.2.0]\n",
      "LOKY_MAX_CPU_COUNT: 6\n",
      "OMP_NUM_THREADS: 2\n"
     ]
    }
   ],
   "source": [
    "import os\n",
    "import numpy as np\n",
    "import pandas as pd\n",
    "import datetime\n",
    "import sklearn\n",
    "import logging\n",
    "import warnings\n",
    "\n",
    "from sklearn.pipeline import Pipeline\n",
    "from sklearn.model_selection import RandomizedSearchCV, KFold, cross_val_score, train_test_split\n",
    "from sklearn.metrics import accuracy_score, confusion_matrix, classification_report, roc_auc_score\n",
    "\n",
    "#  cargar algoritmos para aprendizaje supervisado\n",
    "from sklearn.feature_selection import SelectKBest, f_classif, SelectFromModel, mutual_info_classif\n",
    "from sklearn.svm import SVC\n",
    "from sklearn.ensemble import RandomForestClassifier\n",
    "from sklearn.linear_model import LogisticRegression,LogisticRegressionCV\n",
    "\n",
    "# importar fichero con utilidades propias\n",
    "from commons import myfunctions as myfunc\n"
   ]
  },
  {
   "cell_type": "markdown",
   "id": "1791f9ec",
   "metadata": {
    "papermill": {
     "duration": 0.002633,
     "end_time": "2023-10-30T17:55:07.793279",
     "exception": false,
     "start_time": "2023-10-30T17:55:07.790646",
     "status": "completed"
    },
    "tags": []
   },
   "source": [
    "#### Parámetros a utilizar en el entrenamiento.\n",
    "\n",
    "Se indican los 3 algoritmos de *selección de características* (eval_selector_xxx) y los 3 algoritmos para la _clasificación_ (eval_clasifier_xxx)\n",
    "\n",
    "En *param_distributions* se indicar los parámetros que utilizan los algoritmos en la función RandomSearchCV.\n",
    "\n",
    "Esta celda tiene la etiqueta **parameters** que servirá para poder lanzar los entrenamientos con la utilidad **papermill** pasándole un fichero con los parámetros. Los nuevos parámetros se situarán tras esta celda para tener prevalencia."
   ]
  },
  {
   "cell_type": "code",
   "execution_count": 2,
   "id": "b4a1b9e5",
   "metadata": {
    "execution": {
     "iopub.execute_input": "2023-10-30T17:55:07.799273Z",
     "iopub.status.busy": "2023-10-30T17:55:07.799005Z",
     "iopub.status.idle": "2023-10-30T17:55:07.805815Z",
     "shell.execute_reply": "2023-10-30T17:55:07.805407Z"
    },
    "papermill": {
     "duration": 0.011183,
     "end_time": "2023-10-30T17:55:07.807013",
     "exception": false,
     "start_time": "2023-10-30T17:55:07.795830",
     "status": "completed"
    },
    "tags": [
     "parameters"
    ]
   },
   "outputs": [
    {
     "name": "stdout",
     "output_type": "stream",
     "text": [
      "20231030T185507 : amilcar22 : INFO : Utilizando parámetros de mul_m\n"
     ]
    }
   ],
   "source": [
    "#  Parametros para el entrenamiento\n",
    "\n",
    "SEMILLA=        42\n",
    "M_TIPO=         \"mul_m\"\n",
    "M_SELECT=       \"MI\"\n",
    "M_CLASIF=       \"SVM\"\n",
    "R_FICHERO=      \"resultados\"\n",
    "M_FICHERO=      \"metricas\"\n",
    "PRE_DATA_FILE=  \"rows_transpose_norm_by_gene_id_with_target_num_\"\n",
    "SCORING=        \"roc_auc_ovr\" \n",
    "MAX_ITERS=      100\n",
    "\n",
    "def mutual_info_classif_state(X, y):\n",
    "    return mutual_info_classif(X, y, random_state=SEMILLA)\n",
    "\n",
    "eval_selector_mi = \"SelectKBest(score_func=mutual_info_classif_state)\"\n",
    "eval_selector_rf=  \"SelectFromModel(estimator=RandomForestClassifier(random_state=SEMILLA), threshold=-np.inf)\"\n",
    "eval_selector_anova=  \"SelectKBest(score_func=f_classif)\"\n",
    "\n",
    "eval_clasifier_svm= \"SVC(probability=True, random_state=SEMILLA)\"\n",
    "eval_clasifier_rf= \"RandomForestClassifier(random_state=SEMILLA)\"\n",
    "eval_clasifier_lr= \"LogisticRegressionCV(random_state=SEMILLA)\"\n",
    "\n",
    "if M_TIPO.startswith(\"bin_m\"):\n",
    "    myfunc.verbose(f\"Utilizando parámetros de {M_TIPO}\")\n",
    "    eval_selector = eval_selector_mi\n",
    "    eval_clasifier = eval_clasifier_svm\n",
    "\n",
    "    SEMILLA = 6578\n",
    "    M_SELECT = \"MI\"\n",
    "    M_CLASIF = \"SVM\"\n",
    "    param_distributions = {'selector__k': [1000], \n",
    "         'clasifier__kernel': ['rbf'], 'clasifier__gamma': [0.01], 'clasifier__C': [100]}\n",
    "elif M_TIPO.startswith(\"bin_s\"):\n",
    "    myfunc.verbose(f\"Utilizando parámetros de {M_TIPO}\")\n",
    "    eval_selector = eval_selector_rf\n",
    "    eval_clasifier = eval_clasifier_lr\n",
    "\n",
    "    SEMILLA = 6191\n",
    "    M_SELECT = \"RF\"\n",
    "    M_CLASIF = \"LR_L2\"\n",
    "    param_distributions = {'selector__max_features': [1000], 'selector__estimator__n_estimators': [200], \n",
    "        'clasifier__solver': ['lbfgs'], 'clasifier__penalty': ['l2'], 'clasifier__max_iter': [10000]}\n",
    "\n",
    "elif M_TIPO.startswith(\"mul_m\"):\n",
    "    myfunc.verbose(f\"Utilizando parámetros de {M_TIPO}\")\n",
    " \n",
    "    eval_selector = eval_selector_rf\n",
    "    eval_clasifier = eval_clasifier_lr\n",
    "\n",
    "    SEMILLA = 6191\n",
    "    M_SELECT = \"RF\"\n",
    "    M_CLASIF = \"LR_L2\"\n",
    "    param_distributions = {'selector__max_features': [1000], 'selector__estimator__n_estimators': [400], \n",
    "        'clasifier__solver': ['lbfgs'], 'clasifier__penalty': ['l2'], 'clasifier__max_iter': [10000]}\n",
    "\n",
    "else:\n",
    "    # M_TIPO.startswith(\"mul_s\"):\n",
    "    myfunc.verbose(f\"Utilizando parámetros de {M_TIPO}\")\n",
    "    eval_selector = eval_selector_anova\n",
    "    eval_clasifier = eval_clasifier_lr\n",
    "\n",
    "    SEMILLA = 1860\n",
    "    M_SELECT = \"ANOVA\"\n",
    "    M_CLASIF = \"LR_L2\"\n",
    "    param_distributions = {'selector__k': [1000], \n",
    "        'clasifier__solver': ['saga'], 'clasifier__penalty': ['l2'], 'clasifier__max_iter': [10000]}\n",
    "\n"
   ]
  },
  {
   "cell_type": "code",
   "execution_count": 3,
   "id": "25b22a8f",
   "metadata": {
    "execution": {
     "iopub.execute_input": "2023-10-30T17:55:07.813095Z",
     "iopub.status.busy": "2023-10-30T17:55:07.812905Z",
     "iopub.status.idle": "2023-10-30T17:55:07.816465Z",
     "shell.execute_reply": "2023-10-30T17:55:07.816008Z"
    },
    "papermill": {
     "duration": 0.007944,
     "end_time": "2023-10-30T17:55:07.817688",
     "exception": false,
     "start_time": "2023-10-30T17:55:07.809744",
     "status": "completed"
    },
    "tags": [
     "injected-parameters"
    ]
   },
   "outputs": [],
   "source": [
    "# Parameters\n",
    "M_TIPO = \"mul_s\"\n",
    "M_SELECT = \"MI\"\n",
    "M_CLASIF = \"LR_L1\"\n",
    "P_FICHERO = \"param_0000_6390_mul_s_MI_LR_L1.yaml\"\n",
    "R_FICHERO = \"resultados_6390\"\n",
    "M_FICHERO = \"metricas_6390\"\n",
    "PRE_DATA_FILE = \"rows_transpose_norm_by_gene_id_with_target_num_\"\n",
    "SCORING = \"roc_auc_ovr\"\n",
    "SEMILLA = 6390\n",
    "MAX_ITERS = 500\n",
    "eval_selector = \"SelectKBest(score_func=mutual_info_classif_state)\"\n",
    "eval_clasifier = \"LogisticRegressionCV(random_state=SEMILLA)\"\n",
    "param_distributions = {\n",
    "    \"selector__k\": [500],\n",
    "    \"clasifier__solver\": [\"saga\"],\n",
    "    \"clasifier__penalty\": [\"l1\"],\n",
    "    \"clasifier__max_iter\": [10000],\n",
    "}\n"
   ]
  },
  {
   "cell_type": "code",
   "execution_count": 4,
   "id": "c08e0b35",
   "metadata": {
    "execution": {
     "iopub.execute_input": "2023-10-30T17:55:07.823820Z",
     "iopub.status.busy": "2023-10-30T17:55:07.823652Z",
     "iopub.status.idle": "2023-10-30T17:55:07.826696Z",
     "shell.execute_reply": "2023-10-30T17:55:07.826212Z"
    },
    "papermill": {
     "duration": 0.007372,
     "end_time": "2023-10-30T17:55:07.827805",
     "exception": false,
     "start_time": "2023-10-30T17:55:07.820433",
     "status": "completed"
    },
    "tags": []
   },
   "outputs": [],
   "source": [
    "DATA_FILE = PRE_DATA_FILE + M_TIPO\n",
    "\n",
    "# si viene \"None\" en el parámetro max_depth, se le quitan las comillas para que no sea entendido por el algoritmo como un texto\n",
    "if \"clasifier__max_depth\" in param_distributions:\n",
    "    param_distributions['clasifier__max_depth'] = [None if x == 'None' else x for x in param_distributions['clasifier__max_depth']]"
   ]
  },
  {
   "cell_type": "markdown",
   "id": "a4da5b11",
   "metadata": {
    "papermill": {
     "duration": 0.002653,
     "end_time": "2023-10-30T17:55:07.833174",
     "exception": false,
     "start_time": "2023-10-30T17:55:07.830521",
     "status": "completed"
    },
    "tags": []
   },
   "source": [
    "Asignar los algoritmos que se utilizarán en la función RandomSearchCV"
   ]
  },
  {
   "cell_type": "code",
   "execution_count": 5,
   "id": "94bcd89c",
   "metadata": {
    "execution": {
     "iopub.execute_input": "2023-10-30T17:55:07.839174Z",
     "iopub.status.busy": "2023-10-30T17:55:07.839001Z",
     "iopub.status.idle": "2023-10-30T17:55:07.841680Z",
     "shell.execute_reply": "2023-10-30T17:55:07.841009Z"
    },
    "papermill": {
     "duration": 0.007203,
     "end_time": "2023-10-30T17:55:07.843076",
     "exception": false,
     "start_time": "2023-10-30T17:55:07.835873",
     "status": "completed"
    },
    "tags": []
   },
   "outputs": [],
   "source": [
    "algor_selector=eval(eval_selector)\n",
    "algor_clasifier=eval(eval_clasifier)"
   ]
  },
  {
   "cell_type": "markdown",
   "id": "065fd739",
   "metadata": {
    "papermill": {
     "duration": 0.003449,
     "end_time": "2023-10-30T17:55:07.849958",
     "exception": false,
     "start_time": "2023-10-30T17:55:07.846509",
     "status": "completed"
    },
    "tags": []
   },
   "source": [
    "#### Comprobar el entorno y leer fichero de muestras"
   ]
  },
  {
   "cell_type": "code",
   "execution_count": 6,
   "id": "a6909e87",
   "metadata": {
    "execution": {
     "iopub.execute_input": "2023-10-30T17:55:07.857494Z",
     "iopub.status.busy": "2023-10-30T17:55:07.857316Z",
     "iopub.status.idle": "2023-10-30T17:55:07.981015Z",
     "shell.execute_reply": "2023-10-30T17:55:07.980483Z"
    },
    "papermill": {
     "duration": 0.129007,
     "end_time": "2023-10-30T17:55:07.982362",
     "exception": false,
     "start_time": "2023-10-30T17:55:07.853355",
     "status": "completed"
    },
    "tags": []
   },
   "outputs": [
    {
     "name": "stdout",
     "output_type": "stream",
     "text": [
      "20231030T185507 : amilcar22 : INFO : Encontrada carpeta DATA_DIR=../tfm_git/datos\n",
      "20231030T185507 : amilcar22 : INFO : Encontrada carpeta CFDNA_DIR=../tfm_git/datos/cfDNA_5hmC\n",
      "20231030T185507 : amilcar22 : INFO : Encontrada carpeta GENCODE_DIR=../tfm_git/datos/gencode\n",
      "20231030T185507 : amilcar22 : INFO : Encontrada carpeta H5_DIR=../tfm_git/datos/h5\n",
      "20231030T185507 : amilcar22 : INFO : Encontrada carpeta LOG_DIR=../tfm_git/datos/logs\n",
      "20231030T185507 : amilcar22 : INFO : Encontrada carpeta CSV_DIR=../tfm_git/datos/csv\n",
      "20231030T185507 : amilcar22 : INFO : Encontrada carpeta MODEL_DIR=../tfm_git/ejecuciones/modelos\n",
      "20231030T185507 : amilcar22 : INFO : Encontrada carpeta EXEC_DIR=../tfm_git/ejecuciones\n",
      "20231030T185507 : amilcar22 : INFO : Encontrada carpeta MET_DIR=../tfm_git/ejecuciones/metricas\n",
      "20231030T185507 : amilcar22 : INFO : Inicio leer fichero h5 ../tfm_git/datos/h5/rows_transpose_norm_by_gene_id_with_target_num_mul_s.h5\n",
      "20231030T185507 : amilcar22 : INFO : Leyendo clave /df\n",
      "20231030T185507 : amilcar22 : INFO : Tamaño (259, 18876)\n",
      "20231030T185507 : amilcar22 : INFO : Fin leer fichero h5 ../tfm_git/datos/h5/rows_transpose_norm_by_gene_id_with_target_num_mul_s.h5\n"
     ]
    },
    {
     "data": {
      "text/plain": [
       "target\n",
       "0    37\n",
       "1    37\n",
       "2    37\n",
       "3    37\n",
       "4    37\n",
       "5    37\n",
       "6    37\n",
       "dtype: int64"
      ]
     },
     "metadata": {},
     "output_type": "display_data"
    },
    {
     "name": "stdout",
     "output_type": "stream",
     "text": [
      "Shape df: (259, 18876)\n",
      "Shape X_train: (207, 18875)\n",
      "Shape X_test: (52, 18875)\n"
     ]
    }
   ],
   "source": [
    "start_time = datetime.datetime.now()\n",
    "\n",
    "myfunc.reset_vars()\n",
    "\n",
    "myfunc.NOTEBK_FILENAME = myfunc.get_nb_name()\n",
    "\n",
    "myfunc.check_enviroment(myfunc.DATA_DIR, myfunc.CFDNA_DIR, myfunc.GENCODE_DIR, myfunc.H5_DIR, myfunc.LOG_DIR, myfunc.CSV_DIR, myfunc.MODEL_DIR, myfunc.EXEC_DIR, myfunc.MET_DIR)\n",
    "\n",
    "# Leer fichero con las muestras\n",
    "df_t = myfunc.read_h5_to_df(DATA_FILE, myfunc.H5_DIR)\n",
    "display(df_t.groupby(\"target\").size())\n",
    "print(\"Shape df:\",df_t.shape)\n",
    "\n",
    "# Separar caracteristicas/genes de las etiquetas/tipos de cáncer\n",
    "X = df_t.iloc[:, :-1]  # Todas las columnas excepto la última\n",
    "y = df_t.iloc[:, -1]  # La última columna contiene los identificadores de los tipos de cáncer\n",
    "\n",
    "#  Crear el conjunto de datos de entrenamiento y de pruebas, y se fija la semilla para siempre coger el mismo juego de muestras\n",
    "X_train, X_test, y_train, y_test = train_test_split(X, y, test_size=0.2, shuffle=True, random_state=42)\n",
    "print(\"Shape X_train:\",X_train.shape)\n",
    "print(\"Shape X_test:\",X_test.shape)\n"
   ]
  },
  {
   "cell_type": "markdown",
   "id": "55cdbaf8",
   "metadata": {
    "papermill": {
     "duration": 0.002784,
     "end_time": "2023-10-30T17:55:07.988336",
     "exception": false,
     "start_time": "2023-10-30T17:55:07.985552",
     "status": "completed"
    },
    "tags": []
   },
   "source": [
    "#### Selección de características y clasificación."
   ]
  },
  {
   "cell_type": "code",
   "execution_count": 7,
   "id": "f0e68800",
   "metadata": {
    "execution": {
     "iopub.execute_input": "2023-10-30T17:55:07.995122Z",
     "iopub.status.busy": "2023-10-30T17:55:07.994585Z",
     "iopub.status.idle": "2023-10-30T18:07:54.511473Z",
     "shell.execute_reply": "2023-10-30T18:07:54.510778Z"
    },
    "papermill": {
     "duration": 766.523876,
     "end_time": "2023-10-30T18:07:54.514980",
     "exception": false,
     "start_time": "2023-10-30T17:55:07.991104",
     "status": "completed"
    },
    "tags": []
   },
   "outputs": [
    {
     "name": "stdout",
     "output_type": "stream",
     "text": [
      "20231030T185507 : amilcar22 : INFO : Iniciando entrenamiento\n",
      "num_iter: 1 , max_iter: 1\n"
     ]
    },
    {
     "name": "stdout",
     "output_type": "stream",
     "text": [
      "Fitting 5 folds for each of 1 candidates, totalling 5 fits\n"
     ]
    },
    {
     "name": "stdout",
     "output_type": "stream",
     "text": [
      "[CV 2/5] END clasifier__max_iter=10000, clasifier__penalty=l1, clasifier__solver=saga, selector__k=500;, score=0.750 total time= 5.0min\n"
     ]
    },
    {
     "name": "stdout",
     "output_type": "stream",
     "text": [
      "[CV 1/5] END clasifier__max_iter=10000, clasifier__penalty=l1, clasifier__solver=saga, selector__k=500;, score=0.837 total time= 5.1min\n"
     ]
    },
    {
     "name": "stdout",
     "output_type": "stream",
     "text": [
      "[CV 4/5] END clasifier__max_iter=10000, clasifier__penalty=l1, clasifier__solver=saga, selector__k=500;, score=0.775 total time= 5.8min\n"
     ]
    },
    {
     "name": "stdout",
     "output_type": "stream",
     "text": [
      "[CV 5/5] END clasifier__max_iter=10000, clasifier__penalty=l1, clasifier__solver=saga, selector__k=500;, score=0.654 total time= 6.4min\n"
     ]
    },
    {
     "name": "stdout",
     "output_type": "stream",
     "text": [
      "[CV 3/5] END clasifier__max_iter=10000, clasifier__penalty=l1, clasifier__solver=saga, selector__k=500;, score=0.731 total time= 6.5min\n"
     ]
    },
    {
     "name": "stdout",
     "output_type": "stream",
     "text": [
      "Mejores Hiperparámetros: {'selector__k': 500, 'clasifier__solver': 'saga', 'clasifier__penalty': 'l1', 'clasifier__max_iter': 10000}\n",
      "Mejor Puntuación: 0.7494\n",
      "20231030T190754 : amilcar22 : INFO : Fin entrenamiento\n"
     ]
    }
   ],
   "source": [
    "myfunc.verbose(\"Iniciando entrenamiento\")\n",
    "\n",
    "kf = KFold(n_splits=5, shuffle=True, random_state=SEMILLA)\n",
    "\n",
    "# Crear el pipeline para el flujo de tareas\n",
    "tasks_pipeline = Pipeline([\n",
    "    ('selector', algor_selector),\n",
    "    ('clasifier', algor_clasifier)\n",
    "])\n",
    "\n",
    "# MAX_ITERS puede limitar el número de iteraciones si son excesivas para las combinaciones de parámetros buscando un óptimo local, \n",
    "# sino funcionaría como GridSearchCV al revisar todas las cominaciones de los parámetros\n",
    "num_iteraciones = 1\n",
    "num_iteraciones = num_iteraciones * np.prod([len(elemento1) for _, elemento1 in param_distributions.items()])\n",
    "max_iteraciones = num_iteraciones if num_iteraciones <= MAX_ITERS else MAX_ITERS\n",
    "print(\"num_iter:\",num_iteraciones,\", max_iter:\",max_iteraciones)\n",
    "\n",
    "random_search = RandomizedSearchCV(\n",
    "    tasks_pipeline, \n",
    "    param_distributions, \n",
    "    n_iter=max_iteraciones,\n",
    "    scoring=SCORING,\n",
    "    cv=kf,\n",
    "    verbose=3, \n",
    "    random_state=SEMILLA, \n",
    "    n_jobs=-1\n",
    "    )\n",
    "\n",
    "# Entrenar el modelo\n",
    "random_search.fit(X_train, y_train)\n",
    "\n",
    "# Ver los mejores hiperparámetros encontrados\n",
    "print(f'Mejores Hiperparámetros: {random_search.best_params_}')\n",
    "print(f'Mejor Puntuación: {random_search.best_score_:.4f}')\n",
    "\n",
    "# Nos quedamos con el mejor modelo para ver las métricas\n",
    "mejor_modelo = random_search.best_estimator_\n",
    "\n",
    "myfunc.verbose(\"Fin entrenamiento\")"
   ]
  },
  {
   "cell_type": "markdown",
   "id": "12d381e9",
   "metadata": {
    "papermill": {
     "duration": 0.003024,
     "end_time": "2023-10-30T18:07:54.521116",
     "exception": false,
     "start_time": "2023-10-30T18:07:54.518092",
     "status": "completed"
    },
    "tags": []
   },
   "source": [
    "#### Guardar modelo"
   ]
  },
  {
   "cell_type": "code",
   "execution_count": 8,
   "id": "de241248",
   "metadata": {
    "execution": {
     "iopub.execute_input": "2023-10-30T18:07:54.528139Z",
     "iopub.status.busy": "2023-10-30T18:07:54.527929Z",
     "iopub.status.idle": "2023-10-30T18:07:54.537111Z",
     "shell.execute_reply": "2023-10-30T18:07:54.536531Z"
    },
    "papermill": {
     "duration": 0.014302,
     "end_time": "2023-10-30T18:07:54.538425",
     "exception": false,
     "start_time": "2023-10-30T18:07:54.524123",
     "status": "completed"
    },
    "tags": []
   },
   "outputs": [
    {
     "name": "stdout",
     "output_type": "stream",
     "text": [
      "20231030T190754 : amilcar22 : INFO : Inicio guardar fichero ../tfm_git/ejecuciones/modelos/modelo_6390_mul_s_MI_LR_L1.pkl\n",
      "20231030T190754 : amilcar22 : INFO : Fin guardar fichero ../tfm_git/ejecuciones/modelos/modelo_6390_mul_s_MI_LR_L1.pkl\n"
     ]
    }
   ],
   "source": [
    "fichero_modelo = str.replace(\"modelo_\"+str(SEMILLA).zfill(4)+\"_\"+M_TIPO+\"_\"+M_SELECT+\"_\"+M_CLASIF+\".pkl\", \" \", \"_\")\n",
    "\n",
    "myfunc.save_modelo(mejor_modelo, myfunc.MODEL_DIR, fichero_modelo)"
   ]
  },
  {
   "cell_type": "markdown",
   "id": "d9a40ef0",
   "metadata": {
    "papermill": {
     "duration": 0.003234,
     "end_time": "2023-10-30T18:07:54.545230",
     "exception": false,
     "start_time": "2023-10-30T18:07:54.541996",
     "status": "completed"
    },
    "tags": []
   },
   "source": [
    "#### Ver resultados del las iteraciones hechas por RandomSearchCV"
   ]
  },
  {
   "cell_type": "code",
   "execution_count": 9,
   "id": "9571706d",
   "metadata": {
    "execution": {
     "iopub.execute_input": "2023-10-30T18:07:54.552412Z",
     "iopub.status.busy": "2023-10-30T18:07:54.552023Z",
     "iopub.status.idle": "2023-10-30T18:07:54.557447Z",
     "shell.execute_reply": "2023-10-30T18:07:54.556998Z"
    },
    "papermill": {
     "duration": 0.010348,
     "end_time": "2023-10-30T18:07:54.558606",
     "exception": false,
     "start_time": "2023-10-30T18:07:54.548258",
     "status": "completed"
    },
    "tags": []
   },
   "outputs": [
    {
     "name": "stdout",
     "output_type": "stream",
     "text": [
      "20231030T190754 : amilcar22 : INFO : Inicio ver resultados\n",
      "Mejores Hiperparámetros: {'selector__k': 500, 'clasifier__solver': 'saga', 'clasifier__penalty': 'l1', 'clasifier__max_iter': 10000}\n",
      "Mejores puntuaciones: 0.7494 | Params: {'selector__k': 500, 'clasifier__solver': 'saga', 'clasifier__penalty': 'l1', 'clasifier__max_iter': 10000}\n",
      "Media de las puntuaciones: 0.7494 | Params: {'selector__k': 500, 'clasifier__solver': 'saga', 'clasifier__penalty': 'l1', 'clasifier__max_iter': 10000}\n",
      "20231030T190754 : amilcar22 : INFO : Fin resultados\n"
     ]
    }
   ],
   "source": [
    "myfunc.ver_resultados_search(random_search)"
   ]
  },
  {
   "cell_type": "markdown",
   "id": "094c1fd9",
   "metadata": {
    "papermill": {
     "duration": 0.003301,
     "end_time": "2023-10-30T18:07:54.565386",
     "exception": false,
     "start_time": "2023-10-30T18:07:54.562085",
     "status": "completed"
    },
    "tags": []
   },
   "source": [
    "#### Ver métricas del mejor modelo"
   ]
  },
  {
   "cell_type": "code",
   "execution_count": 10,
   "id": "d8a54063",
   "metadata": {
    "execution": {
     "iopub.execute_input": "2023-10-30T18:07:54.572879Z",
     "iopub.status.busy": "2023-10-30T18:07:54.572475Z",
     "iopub.status.idle": "2023-10-30T18:07:55.168936Z",
     "shell.execute_reply": "2023-10-30T18:07:55.168472Z"
    },
    "papermill": {
     "duration": 0.6016,
     "end_time": "2023-10-30T18:07:55.170229",
     "exception": false,
     "start_time": "2023-10-30T18:07:54.568629",
     "status": "completed"
    },
    "tags": []
   },
   "outputs": [
    {
     "name": "stdout",
     "output_type": "stream",
     "text": [
      "20231030T190754 : amilcar22 : INFO : Inicio ver métricas multiclase\n",
      "              precision    recall  f1-score   support\n",
      "\n",
      "           0       0.33      0.18      0.24        11\n",
      "           1       1.00      0.38      0.55         8\n",
      "           2       0.33      0.25      0.29         8\n",
      "           3       0.22      0.40      0.29         5\n",
      "           4       0.64      0.88      0.74         8\n",
      "           5       0.40      0.33      0.36         6\n",
      "           6       0.42      0.83      0.56         6\n",
      "\n",
      "    accuracy                           0.44        52\n",
      "   macro avg       0.48      0.46      0.43        52\n",
      "weighted avg       0.49      0.44      0.42        52\n",
      "\n"
     ]
    },
    {
     "name": "stdout",
     "output_type": "stream",
     "text": [
      "\n",
      "\n",
      "           Exactitud: 0.442308\n",
      "   Precisión (media): 0.477417\n",
      "      Recall (media): 0.464069\n",
      "    F1-score (media): 0.429744\n",
      "\n",
      "\n",
      "AUC para el tipo de cáncer 0-Control.... 0.5610\n",
      "AUC para el tipo de cáncer 1-Bladder.... 0.8807\n",
      "AUC para el tipo de cáncer 2-Breast..... 0.7102\n",
      "AUC para el tipo de cáncer 3-Colorectal. 0.7574\n",
      "AUC para el tipo de cáncer 4-Kidney..... 0.9119\n",
      "AUC para el tipo de cáncer 5-Lung....... 0.8877\n",
      "AUC para el tipo de cáncer 6-Prostate... 0.8406\n",
      "\n",
      "Media de AUC: 0.7928\n"
     ]
    },
    {
     "data": {
      "image/png": "[encoded data removed]",
      "text/plain": [
       "<Figure size 1000x600 with 1 Axes>"
      ]
     },
     "metadata": {},
     "output_type": "display_data"
    },
    {
     "name": "stdout",
     "output_type": "stream",
     "text": [
      "\n",
      "\n"
     ]
    },
    {
     "data": {
      "image/png": "[encoded data removed]",
      "text/plain": [
       "<Figure size 800x400 with 2 Axes>"
      ]
     },
     "metadata": {},
     "output_type": "display_data"
    },
    {
     "name": "stdout",
     "output_type": "stream",
     "text": [
      "\n",
      "\n",
      "Puntuación Jaccard para el cáncer tipo 0-Control.... 0.1333\n",
      "Puntuación Jaccard para el cáncer tipo 1-Bladder.... 0.3750\n",
      "Puntuación Jaccard para el cáncer tipo 2-Breast..... 0.1667\n",
      "Puntuación Jaccard para el cáncer tipo 3-Colorectal. 0.1667\n",
      "Puntuación Jaccard para el cáncer tipo 4-Kidney..... 0.5833\n",
      "Puntuación Jaccard para el cáncer tipo 5-Lung....... 0.2222\n",
      "Puntuación Jaccard para el cáncer tipo 6-Prostate... 0.3846\n",
      "\n",
      "Media de la puntuación de Jaccard: 0.2903\n"
     ]
    }
   ],
   "source": [
    "if M_TIPO.startswith(\"bin\"):\n",
    "    myfunc.ver_metricas(mejor_modelo, X_test, y_test)\n",
    "else:\n",
    "    myfunc.ver_metricas_multi(mejor_modelo, X_test, y_test)\n"
   ]
  },
  {
   "cell_type": "markdown",
   "id": "eff4630f",
   "metadata": {
    "papermill": {
     "duration": 0.004307,
     "end_time": "2023-10-30T18:07:55.179468",
     "exception": false,
     "start_time": "2023-10-30T18:07:55.175161",
     "status": "completed"
    },
    "tags": []
   },
   "source": [
    "#### Finalización del notebook"
   ]
  },
  {
   "cell_type": "code",
   "execution_count": 11,
   "id": "226d2056",
   "metadata": {
    "execution": {
     "iopub.execute_input": "2023-10-30T18:07:55.188830Z",
     "iopub.status.busy": "2023-10-30T18:07:55.188615Z",
     "iopub.status.idle": "2023-10-30T18:07:55.191882Z",
     "shell.execute_reply": "2023-10-30T18:07:55.191426Z"
    },
    "papermill": {
     "duration": 0.009257,
     "end_time": "2023-10-30T18:07:55.192986",
     "exception": false,
     "start_time": "2023-10-30T18:07:55.183729",
     "status": "completed"
    },
    "tags": []
   },
   "outputs": [
    {
     "name": "stdout",
     "output_type": "stream",
     "text": [
      "20231030T190755 : amilcar22 : INFO : Notebook ha tardado 767 seconds\n"
     ]
    }
   ],
   "source": [
    "end_time = datetime.datetime.now()\n",
    "total_time = end_time - start_time\n",
    "myfunc.verbose(f\"Notebook ha tardado {total_time.seconds} seconds\")"
   ]
  },
  {
   "cell_type": "markdown",
   "id": "938781a4",
   "metadata": {
    "papermill": {
     "duration": 0.004142,
     "end_time": "2023-10-30T18:07:55.201678",
     "exception": false,
     "start_time": "2023-10-30T18:07:55.197536",
     "status": "completed"
    },
    "tags": []
   },
   "source": [
    "#### Guardar métricas"
   ]
  },
  {
   "cell_type": "code",
   "execution_count": 12,
   "id": "81ef953c",
   "metadata": {
    "execution": {
     "iopub.execute_input": "2023-10-30T18:07:55.210800Z",
     "iopub.status.busy": "2023-10-30T18:07:55.210630Z",
     "iopub.status.idle": "2023-10-30T18:07:55.394803Z",
     "shell.execute_reply": "2023-10-30T18:07:55.394322Z"
    },
    "papermill": {
     "duration": 0.190197,
     "end_time": "2023-10-30T18:07:55.396086",
     "exception": false,
     "start_time": "2023-10-30T18:07:55.205889",
     "status": "completed"
    },
    "tags": []
   },
   "outputs": [
    {
     "name": "stdout",
     "output_type": "stream",
     "text": [
      "20231030T190755 : amilcar22 : INFO : Inicio guardar métricas multiclase\n",
      "20231030T190755 : amilcar22 : INFO : Inicio leer fichero ../tfm_git/ejecuciones/metricas/metricas_6390.csv\n",
      "20231030T190755 : amilcar22 : INFO : Fin leer fichero ../tfm_git/ejecuciones/metricas/metricas_6390.csv\n",
      "20231030T190755 : amilcar22 : INFO : Inicio guardar fichero ../tfm_git/ejecuciones/metricas/metricas_6390.csv\n",
      "20231030T190755 : amilcar22 : INFO : Fichero borrado ../tfm_git/ejecuciones/metricas/metricas_6390.csv\n"
     ]
    },
    {
     "name": "stdout",
     "output_type": "stream",
     "text": [
      "20231030T190755 : amilcar22 : INFO : Fin guardar fichero ../tfm_git/ejecuciones/metricas/metricas_6390.csv\n",
      "20231030T190755 : amilcar22 : INFO : Fin guardar métricas multiclase\n",
      "20231030T190755 : amilcar22 : INFO : Inicio leer fichero ../tfm_git/ejecuciones/metricas/metricas_6390.csv\n",
      "20231030T190755 : amilcar22 : INFO : Fin leer fichero ../tfm_git/ejecuciones/metricas/metricas_6390.csv\n"
     ]
    },
    {
     "data": {
      "text/html": [
       "<div>\n",
       "<style scoped>\n",
       "    .dataframe tbody tr th:only-of-type {\n",
       "        vertical-align: middle;\n",
       "    }\n",
       "\n",
       "    .dataframe tbody tr th {\n",
       "        vertical-align: top;\n",
       "    }\n",
       "\n",
       "    .dataframe thead th {\n",
       "        text-align: right;\n",
       "    }\n",
       "</style>\n",
       "<table border=\"1\" class=\"dataframe\">\n",
       "  <thead>\n",
       "    <tr style=\"text-align: right;\">\n",
       "      <th></th>\n",
       "      <th>tipo</th>\n",
       "      <th>select</th>\n",
       "      <th>clasific</th>\n",
       "      <th>semilla</th>\n",
       "      <th>accuracy</th>\n",
       "      <th>precision</th>\n",
       "      <th>recall</th>\n",
       "      <th>f1_score</th>\n",
       "      <th>roc_auc</th>\n",
       "      <th>hostname</th>\n",
       "      <th>total_time_sec</th>\n",
       "      <th>datetime</th>\n",
       "      <th>fichero_modelo</th>\n",
       "      <th>params</th>\n",
       "      <th>shape</th>\n",
       "      <th>features</th>\n",
       "      <th>roc_auc_ovr</th>\n",
       "      <th>indices_auc</th>\n",
       "      <th>indices_jaccard</th>\n",
       "    </tr>\n",
       "  </thead>\n",
       "  <tbody>\n",
       "    <tr>\n",
       "      <th>0</th>\n",
       "      <td>mul_s</td>\n",
       "      <td>MI</td>\n",
       "      <td>LR_L1</td>\n",
       "      <td>6390</td>\n",
       "      <td>0.442308</td>\n",
       "      <td>0.477417</td>\n",
       "      <td>0.464069</td>\n",
       "      <td>0.429744</td>\n",
       "      <td>NaN</td>\n",
       "      <td>amilcar22</td>\n",
       "      <td>767</td>\n",
       "      <td>2023-10-30 19:07:55.361761</td>\n",
       "      <td>modelo_6390_mul_s_MI_LR_L1.pkl</td>\n",
       "      <td>{'selector__k': 500, 'clasifier__solver': 'sag...</td>\n",
       "      <td>X_test:(52, 18875)</td>\n",
       "      <td>['ENSG00000003137.9', 'ENSG00000005513.10', 'E...</td>\n",
       "      <td>0.792789</td>\n",
       "      <td>[0.5609756097560976, 0.8806818181818181, 0.710...</td>\n",
       "      <td>[0.13333333333333333, 0.375, 0.166666666666666...</td>\n",
       "    </tr>\n",
       "    <tr>\n",
       "      <th>0</th>\n",
       "      <td>mul_s</td>\n",
       "      <td>MI</td>\n",
       "      <td>LR_EN</td>\n",
       "      <td>6390</td>\n",
       "      <td>0.500000</td>\n",
       "      <td>0.546279</td>\n",
       "      <td>0.507900</td>\n",
       "      <td>0.485621</td>\n",
       "      <td>NaN</td>\n",
       "      <td>amilcar22</td>\n",
       "      <td>1382</td>\n",
       "      <td>2023-10-30 18:55:01.797152</td>\n",
       "      <td>modelo_6390_mul_s_MI_LR_EN.pkl</td>\n",
       "      <td>{'selector__k': 1000, 'clasifier__solver': 'sa...</td>\n",
       "      <td>X_test:(52, 18875)</td>\n",
       "      <td>['ENSG00000003137.9', 'ENSG00000004864.14', 'E...</td>\n",
       "      <td>0.836884</td>\n",
       "      <td>[0.6452328159645233, 0.9289772727272727, 0.761...</td>\n",
       "      <td>[0.2857142857142857, 0.375, 0.1818181818181818...</td>\n",
       "    </tr>\n",
       "    <tr>\n",
       "      <th>0</th>\n",
       "      <td>mul_s</td>\n",
       "      <td>ANOVA</td>\n",
       "      <td>SVM</td>\n",
       "      <td>6390</td>\n",
       "      <td>0.365385</td>\n",
       "      <td>0.363152</td>\n",
       "      <td>0.374892</td>\n",
       "      <td>0.331833</td>\n",
       "      <td>NaN</td>\n",
       "      <td>amilcar22</td>\n",
       "      <td>2</td>\n",
       "      <td>2023-10-30 18:31:53.208116</td>\n",
       "      <td>modelo_6390_mul_s_ANOVA_SVM.pkl</td>\n",
       "      <td>{'selector__k': 200, 'clasifier__kernel': 'rbf...</td>\n",
       "      <td>X_test:(52, 18875)</td>\n",
       "      <td>['ENSG00000000938.13', 'ENSG00000005381.9', 'E...</td>\n",
       "      <td>0.762860</td>\n",
       "      <td>[0.458980044345898, 0.8210227272727272, 0.6619...</td>\n",
       "      <td>[0.08333333333333333, 0.5, 0.0, 0.071428571428...</td>\n",
       "    </tr>\n",
       "  </tbody>\n",
       "</table>\n",
       "</div>"
      ],
      "text/plain": [
       "    tipo select clasific  semilla  accuracy  precision    recall  f1_score  \\\n",
       "0  mul_s     MI    LR_L1     6390  0.442308   0.477417  0.464069  0.429744   \n",
       "0  mul_s     MI    LR_EN     6390  0.500000   0.546279  0.507900  0.485621   \n",
       "0  mul_s  ANOVA      SVM     6390  0.365385   0.363152  0.374892  0.331833   \n",
       "\n",
       "   roc_auc   hostname  total_time_sec                    datetime  \\\n",
       "0      NaN  amilcar22             767  2023-10-30 19:07:55.361761   \n",
       "0      NaN  amilcar22            1382  2023-10-30 18:55:01.797152   \n",
       "0      NaN  amilcar22               2  2023-10-30 18:31:53.208116   \n",
       "\n",
       "                    fichero_modelo  \\\n",
       "0   modelo_6390_mul_s_MI_LR_L1.pkl   \n",
       "0   modelo_6390_mul_s_MI_LR_EN.pkl   \n",
       "0  modelo_6390_mul_s_ANOVA_SVM.pkl   \n",
       "\n",
       "                                              params               shape  \\\n",
       "0  {'selector__k': 500, 'clasifier__solver': 'sag...  X_test:(52, 18875)   \n",
       "0  {'selector__k': 1000, 'clasifier__solver': 'sa...  X_test:(52, 18875)   \n",
       "0  {'selector__k': 200, 'clasifier__kernel': 'rbf...  X_test:(52, 18875)   \n",
       "\n",
       "                                            features  roc_auc_ovr  \\\n",
       "0  ['ENSG00000003137.9', 'ENSG00000005513.10', 'E...     0.792789   \n",
       "0  ['ENSG00000003137.9', 'ENSG00000004864.14', 'E...     0.836884   \n",
       "0  ['ENSG00000000938.13', 'ENSG00000005381.9', 'E...     0.762860   \n",
       "\n",
       "                                         indices_auc  \\\n",
       "0  [0.5609756097560976, 0.8806818181818181, 0.710...   \n",
       "0  [0.6452328159645233, 0.9289772727272727, 0.761...   \n",
       "0  [0.458980044345898, 0.8210227272727272, 0.6619...   \n",
       "\n",
       "                                     indices_jaccard  \n",
       "0  [0.13333333333333333, 0.375, 0.166666666666666...  \n",
       "0  [0.2857142857142857, 0.375, 0.1818181818181818...  \n",
       "0  [0.08333333333333333, 0.5, 0.0, 0.071428571428...  "
      ]
     },
     "metadata": {},
     "output_type": "display_data"
    }
   ],
   "source": [
    "if M_TIPO.startswith(\"bin\"):\n",
    "    myfunc.save_metricas_to_csv(random_search, X_test, y_test, M_TIPO, M_SELECT, M_CLASIF, total_time, SEMILLA, myfunc.MET_DIR, M_FICHERO, fichero_modelo)\n",
    "else:\n",
    "    myfunc.save_metricas_multi_to_csv(random_search, X_test, y_test, M_TIPO, M_SELECT, M_CLASIF, total_time, SEMILLA, myfunc.MET_DIR, M_FICHERO, fichero_modelo)\n",
    "\n",
    "df1=myfunc.read_metricas_to_df(myfunc.MET_DIR,M_FICHERO)\n",
    "\n",
    "display(df1.sort_values(\"datetime\", ascending=False)[:3])\n"
   ]
  },
  {
   "cell_type": "markdown",
   "id": "3c98a648",
   "metadata": {
    "papermill": {
     "duration": 0.004471,
     "end_time": "2023-10-30T18:07:55.405832",
     "exception": false,
     "start_time": "2023-10-30T18:07:55.401361",
     "status": "completed"
    },
    "tags": []
   },
   "source": [
    "#### Guardar resultados"
   ]
  },
  {
   "cell_type": "code",
   "execution_count": 13,
   "id": "e69d33e0",
   "metadata": {
    "execution": {
     "iopub.execute_input": "2023-10-30T18:07:55.415548Z",
     "iopub.status.busy": "2023-10-30T18:07:55.415360Z",
     "iopub.status.idle": "2023-10-30T18:07:55.423261Z",
     "shell.execute_reply": "2023-10-30T18:07:55.422713Z"
    },
    "papermill": {
     "duration": 0.014241,
     "end_time": "2023-10-30T18:07:55.424513",
     "exception": false,
     "start_time": "2023-10-30T18:07:55.410272",
     "status": "completed"
    },
    "tags": []
   },
   "outputs": [
    {
     "name": "stdout",
     "output_type": "stream",
     "text": [
      "20231030T190755 : amilcar22 : INFO : Inicio guardar resultados\n",
      "20231030T190755 : amilcar22 : INFO : Inicio guardar fichero ../tfm_git/ejecuciones/metricas/resultados_6390_mul_s-MI-LR_L1.csv\n",
      "20231030T190755 : amilcar22 : INFO : Fin guardar fichero ../tfm_git/ejecuciones/metricas/resultados_6390_mul_s-MI-LR_L1.csv\n",
      "20231030T190755 : amilcar22 : INFO : Fin guardar resultados\n"
     ]
    }
   ],
   "source": [
    "fichero_resultados=R_FICHERO+\"_\"+M_TIPO+\"-\"+M_SELECT+\"-\"+M_CLASIF+\".csv\"\n",
    "myfunc.save_resultados_to_csv(M_TIPO, M_SELECT, M_CLASIF,  random_search, myfunc.MET_DIR, fichero_resultados)\n"
   ]
  }
 ],
 "metadata": {
  "kernelspec": {
   "display_name": "Python 3 (ipykernel)",
   "language": "python",
   "name": "python3"
  },
  "language_info": {
   "codemirror_mode": {
    "name": "ipython",
    "version": 3
   },
   "file_extension": ".py",
   "mimetype": "text/x-python",
   "name": "python",
   "nbconvert_exporter": "python",
   "pygments_lexer": "ipython3",
   "version": "3.10.12"
  },
  "papermill": {
   "default_parameters": {},
   "duration": 772.054939,
   "end_time": "2023-10-30T18:07:58.046334",
   "environment_variables": {},
   "exception": null,
   "input_path": "03_entrenamiento.ipynb",
   "output_path": "ejecuciones/training/03_entrenamiento.20231030T185505.param_0000_6390_mul_s_MI_LR_L1.output.ipynb",
   "parameters": {
    "MAX_ITERS": 500,
    "M_CLASIF": "LR_L1",
    "M_FICHERO": "metricas_6390",
    "M_SELECT": "MI",
    "M_TIPO": "mul_s",
    "PRE_DATA_FILE": "rows_transpose_norm_by_gene_id_with_target_num_",
    "P_FICHERO": "param_0000_6390_mul_s_MI_LR_L1.yaml",
    "R_FICHERO": "resultados_6390",
    "SCORING": "roc_auc_ovr",
    "SEMILLA": 6390,
    "eval_clasifier": "LogisticRegressionCV(random_state=SEMILLA)",
    "eval_selector": "SelectKBest(score_func=mutual_info_classif_state)",
    "param_distributions": {
     "clasifier__max_iter": [
      10000
     ],
     "clasifier__penalty": [
      "l1"
     ],
     "clasifier__solver": [
      "saga"
     ],
     "selector__k": [
      500
     ]
    }
   },
   "start_time": "2023-10-30T17:55:05.991395",
   "version": "2.4.0"
  }
 },
 "nbformat": 4,
 "nbformat_minor": 5
}