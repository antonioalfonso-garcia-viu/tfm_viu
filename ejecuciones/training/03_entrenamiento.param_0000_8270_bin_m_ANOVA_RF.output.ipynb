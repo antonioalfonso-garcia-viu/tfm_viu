{
 "cells": [
  {
   "cell_type": "markdown",
   "id": "8a474e60",
   "metadata": {
    "papermill": {
     "duration": 0.005522,
     "end_time": "2023-10-29T19:15:08.113032",
     "exception": false,
     "start_time": "2023-10-29T19:15:08.107510",
     "status": "completed"
    },
    "tags": []
   },
   "source": [
    "##### Inicio"
   ]
  },
  {
   "cell_type": "markdown",
   "id": "f15c1607",
   "metadata": {
    "papermill": {
     "duration": 0.003533,
     "end_time": "2023-10-29T19:15:08.120578",
     "exception": false,
     "start_time": "2023-10-29T19:15:08.117045",
     "status": "completed"
    },
    "tags": []
   },
   "source": [
    "#### Carga de datos"
   ]
  },
  {
   "cell_type": "code",
   "execution_count": 1,
   "id": "032f0663",
   "metadata": {
    "execution": {
     "iopub.execute_input": "2023-10-29T19:15:08.129450Z",
     "iopub.status.busy": "2023-10-29T19:15:08.128755Z",
     "iopub.status.idle": "2023-10-29T19:15:09.233434Z",
     "shell.execute_reply": "2023-10-29T19:15:09.232819Z"
    },
    "papermill": {
     "duration": 1.110898,
     "end_time": "2023-10-29T19:15:09.234934",
     "exception": false,
     "start_time": "2023-10-29T19:15:08.124036",
     "status": "completed"
    },
    "tags": []
   },
   "outputs": [
    {
     "name": "stdout",
     "output_type": "stream",
     "text": [
      "CPU_COUNT: 16; NODE: enderlab; sys.version: 3.10.11 (main, May 16 2023, 00:28:57) [GCC 11.2.0]\n",
      "LOKY_MAX_CPU_COUNT is not set.\n",
      "OMP_NUM_THREADS is not set.\n"
     ]
    }
   ],
   "source": [
    "import os\n",
    "import numpy as np\n",
    "import pandas as pd\n",
    "import datetime\n",
    "import sklearn\n",
    "import logging\n",
    "import warnings\n",
    "\n",
    "from sklearn.pipeline import Pipeline\n",
    "from sklearn.model_selection import RandomizedSearchCV, KFold, cross_val_score, train_test_split\n",
    "from sklearn.metrics import accuracy_score, confusion_matrix, classification_report, roc_auc_score\n",
    "\n",
    "#  cargar algoritmos para aprendizaje supervisado\n",
    "from sklearn.feature_selection import SelectKBest, f_classif, SelectFromModel, mutual_info_classif\n",
    "from sklearn.svm import SVC\n",
    "from sklearn.ensemble import RandomForestClassifier\n",
    "from sklearn.linear_model import LogisticRegression,LogisticRegressionCV\n",
    "\n",
    "# importar fichero con utilidades propias\n",
    "from commons import myfunctions as myfunc\n"
   ]
  },
  {
   "cell_type": "markdown",
   "id": "ed73835e",
   "metadata": {
    "papermill": {
     "duration": 0.003745,
     "end_time": "2023-10-29T19:15:09.242796",
     "exception": false,
     "start_time": "2023-10-29T19:15:09.239051",
     "status": "completed"
    },
    "tags": []
   },
   "source": [
    "#### Parámetros a utilizar en el entrenamiento.\n",
    "\n",
    "Se indican los 3 algoritmos de *selección de características* (eval_selector_xxx) y los 3 algoritmos para la _clasificación_ (eval_clasifier_xxx)\n",
    "\n",
    "En *param_distributions* se indicar los parámetros que utilizan los algoritmos en la función RandomSearchCV.\n",
    "\n",
    "Esta celda tiene la etiqueta **parameters** que servirá para poder lanzar los entrenamientos con la utilidad **papermill** pasándole un fichero con los parámetros. Los nuevos parámetros se situarán tras esta celda para tener prevalencia."
   ]
  },
  {
   "cell_type": "code",
   "execution_count": 2,
   "id": "8c5c9511",
   "metadata": {
    "execution": {
     "iopub.execute_input": "2023-10-29T19:15:09.251298Z",
     "iopub.status.busy": "2023-10-29T19:15:09.250880Z",
     "iopub.status.idle": "2023-10-29T19:15:09.259392Z",
     "shell.execute_reply": "2023-10-29T19:15:09.258845Z"
    },
    "papermill": {
     "duration": 0.014321,
     "end_time": "2023-10-29T19:15:09.260658",
     "exception": false,
     "start_time": "2023-10-29T19:15:09.246337",
     "status": "completed"
    },
    "tags": [
     "parameters"
    ]
   },
   "outputs": [
    {
     "name": "stdout",
     "output_type": "stream",
     "text": [
      "20231029T201509 : enderlab : INFO : Utilizando parámetros de mul_m\n"
     ]
    }
   ],
   "source": [
    "#  Parametros para el entrenamiento\n",
    "\n",
    "SEMILLA=        42\n",
    "M_TIPO=         \"mul_m\"\n",
    "M_SELECT=       \"MI\"\n",
    "M_CLASIF=       \"SVM\"\n",
    "R_FICHERO=      \"resultados\"\n",
    "M_FICHERO=      \"metricas\"\n",
    "PRE_DATA_FILE=  \"rows_transpose_norm_by_gene_id_with_target_num_\"\n",
    "SCORING=        \"roc_auc_ovr\" \n",
    "MAX_ITERS=      100\n",
    "\n",
    "def mutual_info_classif_state(X, y):\n",
    "    return mutual_info_classif(X, y, random_state=SEMILLA)\n",
    "\n",
    "eval_selector_mi = \"SelectKBest(score_func=mutual_info_classif_state)\"\n",
    "eval_selector_rf=  \"SelectFromModel(estimator=RandomForestClassifier(random_state=SEMILLA), threshold=-np.inf)\"\n",
    "eval_selector_anova=  \"SelectKBest(score_func=f_classif)\"\n",
    "\n",
    "eval_clasifier_svm= \"SVC(probability=True, random_state=SEMILLA)\"\n",
    "eval_clasifier_rf= \"RandomForestClassifier(random_state=SEMILLA)\"\n",
    "eval_clasifier_lr= \"LogisticRegressionCV(random_state=SEMILLA)\"\n",
    "\n",
    "if M_TIPO.startswith(\"bin_m\"):\n",
    "    myfunc.verbose(f\"Utilizando parámetros de {M_TIPO}\")\n",
    "    eval_selector = eval_selector_mi\n",
    "    eval_clasifier = eval_clasifier_svm\n",
    "\n",
    "    SEMILLA = 6578\n",
    "    M_SELECT = \"MI\"\n",
    "    M_CLASIF = \"SVM\"\n",
    "    param_distributions = {'selector__k': [1000], \n",
    "         'clasifier__kernel': ['rbf'], 'clasifier__gamma': [0.01], 'clasifier__C': [100]}\n",
    "elif M_TIPO.startswith(\"bin_s\"):\n",
    "    myfunc.verbose(f\"Utilizando parámetros de {M_TIPO}\")\n",
    "    eval_selector = eval_selector_rf\n",
    "    eval_clasifier = eval_clasifier_lr\n",
    "\n",
    "    SEMILLA = 6191\n",
    "    M_SELECT = \"RF\"\n",
    "    M_CLASIF = \"LR_L2\"\n",
    "    param_distributions = {'selector__max_features': [1000], 'selector__estimator__n_estimators': [200], \n",
    "        'clasifier__solver': ['lbfgs'], 'clasifier__penalty': ['l2'], 'clasifier__max_iter': [10000]}\n",
    "\n",
    "elif M_TIPO.startswith(\"mul_m\"):\n",
    "    myfunc.verbose(f\"Utilizando parámetros de {M_TIPO}\")\n",
    " \n",
    "    eval_selector = eval_selector_rf\n",
    "    eval_clasifier = eval_clasifier_lr\n",
    "\n",
    "    SEMILLA = 6191\n",
    "    M_SELECT = \"RF\"\n",
    "    M_CLASIF = \"LR_L2\"\n",
    "    param_distributions = {'selector__max_features': [1000], 'selector__estimator__n_estimators': [400], \n",
    "        'clasifier__solver': ['lbfgs'], 'clasifier__penalty': ['l2'], 'clasifier__max_iter': [10000]}\n",
    "\n",
    "else:\n",
    "    # M_TIPO.startswith(\"mul_s\"):\n",
    "    myfunc.verbose(f\"Utilizando parámetros de {M_TIPO}\")\n",
    "    eval_selector = eval_selector_anova\n",
    "    eval_clasifier = eval_clasifier_lr\n",
    "\n",
    "    SEMILLA = 1860\n",
    "    M_SELECT = \"ANOVA\"\n",
    "    M_CLASIF = \"LR_L2\"\n",
    "    param_distributions = {'selector__k': [1000], \n",
    "        'clasifier__solver': ['saga'], 'clasifier__penalty': ['l2'], 'clasifier__max_iter': [10000]}\n",
    "\n"
   ]
  },
  {
   "cell_type": "code",
   "execution_count": 3,
   "id": "b5152a3d",
   "metadata": {
    "execution": {
     "iopub.execute_input": "2023-10-29T19:15:09.269181Z",
     "iopub.status.busy": "2023-10-29T19:15:09.268723Z",
     "iopub.status.idle": "2023-10-29T19:15:09.272702Z",
     "shell.execute_reply": "2023-10-29T19:15:09.272191Z"
    },
    "papermill": {
     "duration": 0.009574,
     "end_time": "2023-10-29T19:15:09.273866",
     "exception": false,
     "start_time": "2023-10-29T19:15:09.264292",
     "status": "completed"
    },
    "tags": [
     "injected-parameters"
    ]
   },
   "outputs": [],
   "source": [
    "# Parameters\n",
    "M_TIPO = \"bin_m\"\n",
    "M_SELECT = \"ANOVA\"\n",
    "M_CLASIF = \"RF\"\n",
    "P_FICHERO = \"param_0000_8270_bin_m_ANOVA_RF.yaml\"\n",
    "R_FICHERO = \"resultados_8270\"\n",
    "M_FICHERO = \"metricas_8270\"\n",
    "PRE_DATA_FILE = \"rows_transpose_norm_by_gene_id_with_target_num_\"\n",
    "SCORING = \"roc_auc_ovr\"\n",
    "SEMILLA = 8270\n",
    "MAX_ITERS = 500\n",
    "eval_selector = \"SelectKBest(score_func=f_classif)\"\n",
    "eval_clasifier = \"RandomForestClassifier(random_state=SEMILLA)\"\n",
    "param_distributions = {\n",
    "    \"selector__k\": [500],\n",
    "    \"clasifier__n_estimators\": [200],\n",
    "    \"clasifier__min_samples_split\": [10],\n",
    "    \"clasifier__min_samples_leaf\": [5],\n",
    "    \"clasifier__max_features\": [100],\n",
    "    \"clasifier__max_depth\": [10],\n",
    "    \"clasifier__bootstrap\": [True],\n",
    "}\n"
   ]
  },
  {
   "cell_type": "code",
   "execution_count": 4,
   "id": "e8fb7593",
   "metadata": {
    "execution": {
     "iopub.execute_input": "2023-10-29T19:15:09.282447Z",
     "iopub.status.busy": "2023-10-29T19:15:09.281950Z",
     "iopub.status.idle": "2023-10-29T19:15:09.285428Z",
     "shell.execute_reply": "2023-10-29T19:15:09.284882Z"
    },
    "papermill": {
     "duration": 0.009067,
     "end_time": "2023-10-29T19:15:09.286669",
     "exception": false,
     "start_time": "2023-10-29T19:15:09.277602",
     "status": "completed"
    },
    "tags": []
   },
   "outputs": [],
   "source": [
    "DATA_FILE = PRE_DATA_FILE + M_TIPO\n",
    "\n",
    "# si viene \"None\" en el parámetro max_depth, se le quitan las comillas para que no sea entendido por el algoritmo como un texto\n",
    "if \"clasifier__max_depth\" in param_distributions:\n",
    "    param_distributions['clasifier__max_depth'] = [None if x == 'None' else x for x in param_distributions['clasifier__max_depth']]"
   ]
  },
  {
   "cell_type": "markdown",
   "id": "e1545ee7",
   "metadata": {
    "papermill": {
     "duration": 0.003558,
     "end_time": "2023-10-29T19:15:09.293774",
     "exception": false,
     "start_time": "2023-10-29T19:15:09.290216",
     "status": "completed"
    },
    "tags": []
   },
   "source": [
    "Asignar los algoritmos que se utilizarán en la función RandomSearchCV"
   ]
  },
  {
   "cell_type": "code",
   "execution_count": 5,
   "id": "359d1705",
   "metadata": {
    "execution": {
     "iopub.execute_input": "2023-10-29T19:15:09.302155Z",
     "iopub.status.busy": "2023-10-29T19:15:09.301649Z",
     "iopub.status.idle": "2023-10-29T19:15:09.304586Z",
     "shell.execute_reply": "2023-10-29T19:15:09.304084Z"
    },
    "papermill": {
     "duration": 0.008592,
     "end_time": "2023-10-29T19:15:09.306011",
     "exception": false,
     "start_time": "2023-10-29T19:15:09.297419",
     "status": "completed"
    },
    "tags": []
   },
   "outputs": [],
   "source": [
    "algor_selector=eval(eval_selector)\n",
    "algor_clasifier=eval(eval_clasifier)"
   ]
  },
  {
   "cell_type": "markdown",
   "id": "d71ff681",
   "metadata": {
    "papermill": {
     "duration": 0.003629,
     "end_time": "2023-10-29T19:15:09.313191",
     "exception": false,
     "start_time": "2023-10-29T19:15:09.309562",
     "status": "completed"
    },
    "tags": []
   },
   "source": [
    "#### Comprobar el entorno y leer fichero de muestras"
   ]
  },
  {
   "cell_type": "code",
   "execution_count": 6,
   "id": "5d1c3190",
   "metadata": {
    "execution": {
     "iopub.execute_input": "2023-10-29T19:15:09.321711Z",
     "iopub.status.busy": "2023-10-29T19:15:09.321238Z",
     "iopub.status.idle": "2023-10-29T19:15:09.659441Z",
     "shell.execute_reply": "2023-10-29T19:15:09.658810Z"
    },
    "papermill": {
     "duration": 0.343889,
     "end_time": "2023-10-29T19:15:09.660862",
     "exception": false,
     "start_time": "2023-10-29T19:15:09.316973",
     "status": "completed"
    },
    "tags": []
   },
   "outputs": [
    {
     "name": "stdout",
     "output_type": "stream",
     "text": [
      "20231029T201509 : enderlab : INFO : Encontrada carpeta DATA_DIR=../tfm_git/datos\n",
      "20231029T201509 : enderlab : INFO : Encontrada carpeta CFDNA_DIR=../tfm_git/datos/cfDNA_5hmC\n",
      "20231029T201509 : enderlab : INFO : Encontrada carpeta GENCODE_DIR=../tfm_git/datos/gencode\n",
      "20231029T201509 : enderlab : INFO : Encontrada carpeta H5_DIR=../tfm_git/datos/h5\n",
      "20231029T201509 : enderlab : INFO : Encontrada carpeta LOG_DIR=../tfm_git/datos/logs\n",
      "20231029T201509 : enderlab : INFO : Encontrada carpeta CSV_DIR=../tfm_git/datos/csv\n",
      "20231029T201509 : enderlab : INFO : Encontrada carpeta MODEL_DIR=../tfm_git/ejecuciones/modelos\n",
      "20231029T201509 : enderlab : INFO : Encontrada carpeta EXEC_DIR=../tfm_git/ejecuciones\n",
      "20231029T201509 : enderlab : INFO : Encontrada carpeta MET_DIR=../tfm_git/ejecuciones/metricas\n",
      "20231029T201509 : enderlab : INFO : Inicio leer fichero h5 ../tfm_git/datos/h5/rows_transpose_norm_by_gene_id_with_target_num_bin_m.h5\n",
      "20231029T201509 : enderlab : INFO : Leyendo clave /df\n"
     ]
    },
    {
     "name": "stdout",
     "output_type": "stream",
     "text": [
      "20231029T201509 : enderlab : INFO : Tamaño (720, 18876)\n",
      "20231029T201509 : enderlab : INFO : Fin leer fichero h5 ../tfm_git/datos/h5/rows_transpose_norm_by_gene_id_with_target_num_bin_m.h5\n"
     ]
    },
    {
     "data": {
      "text/plain": [
       "target\n",
       "0    360\n",
       "1    360\n",
       "dtype: int64"
      ]
     },
     "metadata": {},
     "output_type": "display_data"
    },
    {
     "name": "stdout",
     "output_type": "stream",
     "text": [
      "Shape df: (720, 18876)\n",
      "Shape X_train: (576, 18875)\n",
      "Shape X_test: (144, 18875)\n"
     ]
    }
   ],
   "source": [
    "start_time = datetime.datetime.now()\n",
    "\n",
    "myfunc.reset_vars()\n",
    "\n",
    "myfunc.NOTEBK_FILENAME = myfunc.get_nb_name()\n",
    "\n",
    "myfunc.check_enviroment(myfunc.DATA_DIR, myfunc.CFDNA_DIR, myfunc.GENCODE_DIR, myfunc.H5_DIR, myfunc.LOG_DIR, myfunc.CSV_DIR, myfunc.MODEL_DIR, myfunc.EXEC_DIR, myfunc.MET_DIR)\n",
    "\n",
    "# Leer fichero con las muestras\n",
    "df_t = myfunc.read_h5_to_df(DATA_FILE, myfunc.H5_DIR)\n",
    "display(df_t.groupby(\"target\").size())\n",
    "print(\"Shape df:\",df_t.shape)\n",
    "\n",
    "# Separar caracteristicas/genes de las etiquetas/tipos de cáncer\n",
    "X = df_t.iloc[:, :-1]  # Todas las columnas excepto la última\n",
    "y = df_t.iloc[:, -1]  # La última columna contiene los identificadores de los tipos de cáncer\n",
    "\n",
    "#  Crear el conjunto de datos de entrenamiento y de pruebas, y se fija la semilla para siempre coger el mismo juego de muestras\n",
    "X_train, X_test, y_train, y_test = train_test_split(X, y, test_size=0.2, shuffle=True, random_state=42)\n",
    "print(\"Shape X_train:\",X_train.shape)\n",
    "print(\"Shape X_test:\",X_test.shape)\n"
   ]
  },
  {
   "cell_type": "markdown",
   "id": "27834421",
   "metadata": {
    "papermill": {
     "duration": 0.004041,
     "end_time": "2023-10-29T19:15:09.670023",
     "exception": false,
     "start_time": "2023-10-29T19:15:09.665982",
     "status": "completed"
    },
    "tags": []
   },
   "source": [
    "#### Selección de características y clasificación."
   ]
  },
  {
   "cell_type": "code",
   "execution_count": 7,
   "id": "f7199b51",
   "metadata": {
    "execution": {
     "iopub.execute_input": "2023-10-29T19:15:09.679139Z",
     "iopub.status.busy": "2023-10-29T19:15:09.678700Z",
     "iopub.status.idle": "2023-10-29T19:15:20.166706Z",
     "shell.execute_reply": "2023-10-29T19:15:20.165882Z"
    },
    "papermill": {
     "duration": 10.494229,
     "end_time": "2023-10-29T19:15:20.168164",
     "exception": false,
     "start_time": "2023-10-29T19:15:09.673935",
     "status": "completed"
    },
    "tags": []
   },
   "outputs": [
    {
     "name": "stdout",
     "output_type": "stream",
     "text": [
      "20231029T201509 : enderlab : INFO : Iniciando entrenamiento\n",
      "num_iter: 1 , max_iter: 1\n",
      "Fitting 5 folds for each of 1 candidates, totalling 5 fits\n"
     ]
    },
    {
     "name": "stderr",
     "output_type": "stream",
     "text": [
      "/home/expsiviu/miniconda3/envs/viu/lib/python3.10/site-packages/sklearn/feature_selection/_univariate_selection.py:112: UserWarning: Features [  298  2222  2265  2266  2803  2896  3415  5533  5803  8513  9490 11943\n",
      " 12249 12831 13836 13848 15183 15401 15515 15824 16268 16287 16313 16322\n",
      " 16323 16630 16679 16870 16906 16968 17024 17091 17093 17231 17312 18530] are constant.\n",
      "  warnings.warn(\"Features %s are constant.\" % constant_features_idx, UserWarning)\n",
      "/home/expsiviu/miniconda3/envs/viu/lib/python3.10/site-packages/sklearn/feature_selection/_univariate_selection.py:113: RuntimeWarning: invalid value encountered in true_divide\n",
      "  f = msb / msw\n",
      "/home/expsiviu/miniconda3/envs/viu/lib/python3.10/site-packages/sklearn/feature_selection/_univariate_selection.py:112: UserWarning: Features [ 2010  2265  2266  2803  2896  5803  8513  9490 10035 11021 11943 12831\n",
      " 13047 13235 13300 13836 13848 14245 14735 15183 15515 15824 16260 16268\n",
      " 16281 16287 16312 16313 16323 16667 16679 16731 16870 16906 17024 17231\n",
      " 17679 18530] are constant.\n",
      "  warnings.warn(\"Features %s are constant.\" % constant_features_idx, UserWarning)\n",
      "/home/expsiviu/miniconda3/envs/viu/lib/python3.10/site-packages/sklearn/feature_selection/_univariate_selection.py:113: RuntimeWarning: invalid value encountered in true_divide\n",
      "  f = msb / msw\n",
      "/home/expsiviu/miniconda3/envs/viu/lib/python3.10/site-packages/sklearn/feature_selection/_univariate_selection.py:112: UserWarning: Features [ 1733  2265  2266  2803  2896  5803  6984  8513  9490 11943 12831 13836\n",
      " 13848 15183 15515 15824 15881 16267 16268 16287 16313 16323 16679 16870\n",
      " 16906 17024 17231 17300 18405 18530 18608] are constant.\n",
      "  warnings.warn(\"Features %s are constant.\" % constant_features_idx, UserWarning)\n",
      "/home/expsiviu/miniconda3/envs/viu/lib/python3.10/site-packages/sklearn/feature_selection/_univariate_selection.py:113: RuntimeWarning: invalid value encountered in true_divide\n",
      "  f = msb / msw\n",
      "/home/expsiviu/miniconda3/envs/viu/lib/python3.10/site-packages/sklearn/feature_selection/_univariate_selection.py:112: UserWarning: Features [ 2265  2266  2803  2896  5668  5803  6053  8513  9490 10026 11943 12480\n",
      " 12831 12888 13225 13836 13848 13959 14559 14789 15183 15515 15563 15785\n",
      " 15824 16018 16262 16268 16287 16313 16323 16679 16701 16870 16906 16956\n",
      " 17024 17231 17566 18530] are constant.\n",
      "  warnings.warn(\"Features %s are constant.\" % constant_features_idx, UserWarning)\n",
      "/home/expsiviu/miniconda3/envs/viu/lib/python3.10/site-packages/sklearn/feature_selection/_univariate_selection.py:113: RuntimeWarning: invalid value encountered in true_divide\n",
      "  f = msb / msw\n",
      "/home/expsiviu/miniconda3/envs/viu/lib/python3.10/site-packages/sklearn/feature_selection/_univariate_selection.py:112: UserWarning: Features [ 2265  2266  2803  2896  5803  7416  8513  9490 10475 11022 11943 12831\n",
      " 13836 13848 14244 14480 15183 15515 15824 16268 16278 16279 16287 16313\n",
      " 16323 16522 16679 16870 16906 17024 17231 17418 18530 18546] are constant.\n",
      "  warnings.warn(\"Features %s are constant.\" % constant_features_idx, UserWarning)\n",
      "/home/expsiviu/miniconda3/envs/viu/lib/python3.10/site-packages/sklearn/feature_selection/_univariate_selection.py:113: RuntimeWarning: invalid value encountered in true_divide\n",
      "  f = msb / msw\n"
     ]
    },
    {
     "name": "stderr",
     "output_type": "stream",
     "text": [
      "/home/expsiviu/miniconda3/envs/viu/lib/python3.10/site-packages/sklearn/feature_selection/_univariate_selection.py:112: UserWarning: Features [ 2265  2266  2803  2896  5803  8513  9490 11943 12831 13836 13848 15183\n",
      " 15515 15824 16268 16287 16313 16323 16679 16870 16906 17024 17231 18530] are constant.\n",
      "  warnings.warn(\"Features %s are constant.\" % constant_features_idx, UserWarning)\n",
      "/home/expsiviu/miniconda3/envs/viu/lib/python3.10/site-packages/sklearn/feature_selection/_univariate_selection.py:113: RuntimeWarning: invalid value encountered in true_divide\n",
      "  f = msb / msw\n"
     ]
    },
    {
     "name": "stdout",
     "output_type": "stream",
     "text": [
      "Mejores Hiperparámetros: {'selector__k': 500, 'clasifier__n_estimators': 200, 'clasifier__min_samples_split': 10, 'clasifier__min_samples_leaf': 5, 'clasifier__max_features': 100, 'clasifier__max_depth': 10, 'clasifier__bootstrap': True}\n",
      "Mejor Puntuación: 0.8293\n",
      "20231029T201520 : enderlab : INFO : Fin entrenamiento\n"
     ]
    }
   ],
   "source": [
    "myfunc.verbose(\"Iniciando entrenamiento\")\n",
    "\n",
    "kf = KFold(n_splits=5, shuffle=True, random_state=SEMILLA)\n",
    "\n",
    "# Crear el pipeline para el flujo de tareas\n",
    "tasks_pipeline = Pipeline([\n",
    "    ('selector', algor_selector),\n",
    "    ('clasifier', algor_clasifier)\n",
    "])\n",
    "\n",
    "# MAX_ITERS puede limitar el número de iteraciones si son excesivas para las combinaciones de parámetros buscando un óptimo local, \n",
    "# sino funcionaría como GridSearchCV al revisar todas las cominaciones de los parámetros\n",
    "num_iteraciones = 1\n",
    "num_iteraciones = num_iteraciones * np.prod([len(elemento1) for _, elemento1 in param_distributions.items()])\n",
    "max_iteraciones = num_iteraciones if num_iteraciones <= MAX_ITERS else MAX_ITERS\n",
    "print(\"num_iter:\",num_iteraciones,\", max_iter:\",max_iteraciones)\n",
    "\n",
    "random_search = RandomizedSearchCV(\n",
    "    tasks_pipeline, \n",
    "    param_distributions, \n",
    "    n_iter=max_iteraciones,\n",
    "    scoring=SCORING,\n",
    "    cv=kf,\n",
    "    verbose=3, \n",
    "    random_state=SEMILLA, \n",
    "    n_jobs=-1\n",
    "    )\n",
    "\n",
    "# Entrenar el modelo\n",
    "random_search.fit(X_train, y_train)\n",
    "\n",
    "# Ver los mejores hiperparámetros encontrados\n",
    "print(f'Mejores Hiperparámetros: {random_search.best_params_}')\n",
    "print(f'Mejor Puntuación: {random_search.best_score_:.4f}')\n",
    "\n",
    "# Nos quedamos con el mejor modelo para ver las métricas\n",
    "mejor_modelo = random_search.best_estimator_\n",
    "\n",
    "myfunc.verbose(\"Fin entrenamiento\")"
   ]
  },
  {
   "cell_type": "markdown",
   "id": "36738c72",
   "metadata": {
    "papermill": {
     "duration": 0.004352,
     "end_time": "2023-10-29T19:15:20.177388",
     "exception": false,
     "start_time": "2023-10-29T19:15:20.173036",
     "status": "completed"
    },
    "tags": []
   },
   "source": [
    "#### Guardar modelo"
   ]
  },
  {
   "cell_type": "code",
   "execution_count": 8,
   "id": "6bcc3104",
   "metadata": {
    "execution": {
     "iopub.execute_input": "2023-10-29T19:15:20.187664Z",
     "iopub.status.busy": "2023-10-29T19:15:20.187097Z",
     "iopub.status.idle": "2023-10-29T19:15:20.271989Z",
     "shell.execute_reply": "2023-10-29T19:15:20.271373Z"
    },
    "papermill": {
     "duration": 0.091822,
     "end_time": "2023-10-29T19:15:20.273442",
     "exception": false,
     "start_time": "2023-10-29T19:15:20.181620",
     "status": "completed"
    },
    "tags": []
   },
   "outputs": [
    {
     "name": "stdout",
     "output_type": "stream",
     "text": [
      "20231029T201520 : enderlab : INFO : Inicio guardar fichero ../tfm_git/ejecuciones/modelos/modelo_8270_bin_m_ANOVA_RF.pkl\n",
      "20231029T201520 : enderlab : INFO : Fin guardar fichero ../tfm_git/ejecuciones/modelos/modelo_8270_bin_m_ANOVA_RF.pkl\n"
     ]
    }
   ],
   "source": [
    "fichero_modelo = str.replace(\"modelo_\"+str(SEMILLA).zfill(4)+\"_\"+M_TIPO+\"_\"+M_SELECT+\"_\"+M_CLASIF+\".pkl\", \" \", \"_\")\n",
    "\n",
    "myfunc.save_modelo(mejor_modelo, myfunc.MODEL_DIR, fichero_modelo)"
   ]
  },
  {
   "cell_type": "markdown",
   "id": "b8c9e959",
   "metadata": {
    "papermill": {
     "duration": 0.004871,
     "end_time": "2023-10-29T19:15:20.283429",
     "exception": false,
     "start_time": "2023-10-29T19:15:20.278558",
     "status": "completed"
    },
    "tags": []
   },
   "source": [
    "#### Ver resultados del las iteraciones hechas por RandomSearchCV"
   ]
  },
  {
   "cell_type": "code",
   "execution_count": 9,
   "id": "762f9436",
   "metadata": {
    "execution": {
     "iopub.execute_input": "2023-10-29T19:15:20.293674Z",
     "iopub.status.busy": "2023-10-29T19:15:20.293355Z",
     "iopub.status.idle": "2023-10-29T19:15:20.301308Z",
     "shell.execute_reply": "2023-10-29T19:15:20.300696Z"
    },
    "papermill": {
     "duration": 0.014776,
     "end_time": "2023-10-29T19:15:20.302678",
     "exception": false,
     "start_time": "2023-10-29T19:15:20.287902",
     "status": "completed"
    },
    "tags": []
   },
   "outputs": [
    {
     "name": "stdout",
     "output_type": "stream",
     "text": [
      "20231029T201520 : enderlab : INFO : Inicio ver resultados\n",
      "Mejores Hiperparámetros: {'selector__k': 500, 'clasifier__n_estimators': 200, 'clasifier__min_samples_split': 10, 'clasifier__min_samples_leaf': 5, 'clasifier__max_features': 100, 'clasifier__max_depth': 10, 'clasifier__bootstrap': True}\n",
      "Mejores puntuaciones: 0.8293 | Params: {'selector__k': 500, 'clasifier__n_estimators': 200, 'clasifier__min_samples_split': 10, 'clasifier__min_samples_leaf': 5, 'clasifier__max_features': 100, 'clasifier__max_depth': 10, 'clasifier__bootstrap': True}\n",
      "Media de las puntuaciones: 0.8293 | Params: {'selector__k': 500, 'clasifier__n_estimators': 200, 'clasifier__min_samples_split': 10, 'clasifier__min_samples_leaf': 5, 'clasifier__max_features': 100, 'clasifier__max_depth': 10, 'clasifier__bootstrap': True}\n",
      "20231029T201520 : enderlab : INFO : Fin resultados\n"
     ]
    }
   ],
   "source": [
    "myfunc.ver_resultados_search(random_search)"
   ]
  },
  {
   "cell_type": "markdown",
   "id": "ac02c684",
   "metadata": {
    "papermill": {
     "duration": 0.004788,
     "end_time": "2023-10-29T19:15:20.313068",
     "exception": false,
     "start_time": "2023-10-29T19:15:20.308280",
     "status": "completed"
    },
    "tags": []
   },
   "source": [
    "#### Ver métricas del mejor modelo"
   ]
  },
  {
   "cell_type": "code",
   "execution_count": 10,
   "id": "c63306ca",
   "metadata": {
    "execution": {
     "iopub.execute_input": "2023-10-29T19:15:20.323891Z",
     "iopub.status.busy": "2023-10-29T19:15:20.323232Z",
     "iopub.status.idle": "2023-10-29T19:15:20.862185Z",
     "shell.execute_reply": "2023-10-29T19:15:20.861570Z"
    },
    "papermill": {
     "duration": 0.546028,
     "end_time": "2023-10-29T19:15:20.863772",
     "exception": false,
     "start_time": "2023-10-29T19:15:20.317744",
     "status": "completed"
    },
    "tags": []
   },
   "outputs": [
    {
     "name": "stdout",
     "output_type": "stream",
     "text": [
      "20231029T201520 : enderlab : INFO : Inicio ver métricas\n"
     ]
    },
    {
     "name": "stdout",
     "output_type": "stream",
     "text": [
      "              precision    recall  f1-score   support\n",
      "\n",
      "           0       0.83      0.82      0.82        82\n",
      "           1       0.76      0.77      0.77        62\n",
      "\n",
      "    accuracy                           0.80       144\n",
      "   macro avg       0.79      0.80      0.80       144\n",
      "weighted avg       0.80      0.80      0.80       144\n",
      "\n",
      "\n",
      "\n",
      "   Exactitud: 0.7986\n",
      "   Precisión: 0.7945\n",
      "Sensibilidad: 0.7956\n",
      "    F1-score: 0.7950\n",
      "     AUC ROC: 0.8843\n"
     ]
    },
    {
     "data": {
      "image/png": "[encoded data removed]",
      "text/plain": [
       "<Figure size 300x100 with 2 Axes>"
      ]
     },
     "metadata": {},
     "output_type": "display_data"
    },
    {
     "data": {
      "image/png": "[encoded data removed]",
      "text/plain": [
       "<Figure size 800x500 with 1 Axes>"
      ]
     },
     "metadata": {},
     "output_type": "display_data"
    },
    {
     "name": "stdout",
     "output_type": "stream",
     "text": [
      "20231029T201520 : enderlab : INFO : Fin ver métricas\n"
     ]
    }
   ],
   "source": [
    "if M_TIPO.startswith(\"bin\"):\n",
    "    myfunc.ver_metricas(mejor_modelo, X_test, y_test)\n",
    "else:\n",
    "    myfunc.ver_metricas_multi(mejor_modelo, X_test, y_test)\n"
   ]
  },
  {
   "cell_type": "markdown",
   "id": "da5dd9c9",
   "metadata": {
    "papermill": {
     "duration": 0.005558,
     "end_time": "2023-10-29T19:15:20.876075",
     "exception": false,
     "start_time": "2023-10-29T19:15:20.870517",
     "status": "completed"
    },
    "tags": []
   },
   "source": [
    "#### Finalización del notebook"
   ]
  },
  {
   "cell_type": "code",
   "execution_count": 11,
   "id": "c72acf36",
   "metadata": {
    "execution": {
     "iopub.execute_input": "2023-10-29T19:15:20.888029Z",
     "iopub.status.busy": "2023-10-29T19:15:20.887482Z",
     "iopub.status.idle": "2023-10-29T19:15:20.891500Z",
     "shell.execute_reply": "2023-10-29T19:15:20.890893Z"
    },
    "papermill": {
     "duration": 0.011383,
     "end_time": "2023-10-29T19:15:20.892758",
     "exception": false,
     "start_time": "2023-10-29T19:15:20.881375",
     "status": "completed"
    },
    "tags": []
   },
   "outputs": [
    {
     "name": "stdout",
     "output_type": "stream",
     "text": [
      "20231029T201520 : enderlab : INFO : Notebook ha tardado 11 seconds\n"
     ]
    }
   ],
   "source": [
    "end_time = datetime.datetime.now()\n",
    "total_time = end_time - start_time\n",
    "myfunc.verbose(f\"Notebook ha tardado {total_time.seconds} seconds\")"
   ]
  },
  {
   "cell_type": "markdown",
   "id": "71961ac0",
   "metadata": {
    "papermill": {
     "duration": 0.005218,
     "end_time": "2023-10-29T19:15:20.903349",
     "exception": false,
     "start_time": "2023-10-29T19:15:20.898131",
     "status": "completed"
    },
    "tags": []
   },
   "source": [
    "#### Guardar métricas"
   ]
  },
  {
   "cell_type": "code",
   "execution_count": 12,
   "id": "9d815942",
   "metadata": {
    "execution": {
     "iopub.execute_input": "2023-10-29T19:15:20.915486Z",
     "iopub.status.busy": "2023-10-29T19:15:20.914881Z",
     "iopub.status.idle": "2023-10-29T19:15:21.170634Z",
     "shell.execute_reply": "2023-10-29T19:15:21.170079Z"
    },
    "papermill": {
     "duration": 0.263352,
     "end_time": "2023-10-29T19:15:21.171997",
     "exception": false,
     "start_time": "2023-10-29T19:15:20.908645",
     "status": "completed"
    },
    "tags": []
   },
   "outputs": [
    {
     "name": "stdout",
     "output_type": "stream",
     "text": [
      "20231029T201520 : enderlab : INFO : Inicio guardar métricas\n",
      "20231029T201520 : enderlab : INFO : Inicio leer fichero ../tfm_git/ejecuciones/metricas/metricas_8270.csv\n",
      "20231029T201520 : enderlab : INFO : Fin leer fichero ../tfm_git/ejecuciones/metricas/metricas_8270.csv\n"
     ]
    },
    {
     "name": "stdout",
     "output_type": "stream",
     "text": [
      "20231029T201521 : enderlab : INFO : Inicio guardar fichero ../tfm_git/ejecuciones/metricas/metricas_8270.csv\n",
      "20231029T201521 : enderlab : INFO : Fichero borrado ../tfm_git/ejecuciones/metricas/metricas_8270.csv\n",
      "20231029T201521 : enderlab : INFO : Fin guardar fichero ../tfm_git/ejecuciones/metricas/metricas_8270.csv\n",
      "20231029T201521 : enderlab : INFO : Fin guardar métricas\n",
      "20231029T201521 : enderlab : INFO : Inicio leer fichero ../tfm_git/ejecuciones/metricas/metricas_8270.csv\n",
      "20231029T201521 : enderlab : INFO : Fin leer fichero ../tfm_git/ejecuciones/metricas/metricas_8270.csv\n"
     ]
    },
    {
     "data": {
      "text/html": [
       "<div>\n",
       "<style scoped>\n",
       "    .dataframe tbody tr th:only-of-type {\n",
       "        vertical-align: middle;\n",
       "    }\n",
       "\n",
       "    .dataframe tbody tr th {\n",
       "        vertical-align: top;\n",
       "    }\n",
       "\n",
       "    .dataframe thead th {\n",
       "        text-align: right;\n",
       "    }\n",
       "</style>\n",
       "<table border=\"1\" class=\"dataframe\">\n",
       "  <thead>\n",
       "    <tr style=\"text-align: right;\">\n",
       "      <th></th>\n",
       "      <th>tipo</th>\n",
       "      <th>select</th>\n",
       "      <th>clasific</th>\n",
       "      <th>semilla</th>\n",
       "      <th>accuracy</th>\n",
       "      <th>precision</th>\n",
       "      <th>recall</th>\n",
       "      <th>f1_score</th>\n",
       "      <th>roc_auc</th>\n",
       "      <th>hostname</th>\n",
       "      <th>total_time_sec</th>\n",
       "      <th>datetime</th>\n",
       "      <th>fichero_modelo</th>\n",
       "      <th>params</th>\n",
       "      <th>shape</th>\n",
       "      <th>features</th>\n",
       "    </tr>\n",
       "  </thead>\n",
       "  <tbody>\n",
       "    <tr>\n",
       "      <th>0</th>\n",
       "      <td>bin_m</td>\n",
       "      <td>ANOVA</td>\n",
       "      <td>RF</td>\n",
       "      <td>8270</td>\n",
       "      <td>0.798611</td>\n",
       "      <td>0.794533</td>\n",
       "      <td>0.795633</td>\n",
       "      <td>0.795043</td>\n",
       "      <td>0.884343</td>\n",
       "      <td>enderlab</td>\n",
       "      <td>11</td>\n",
       "      <td>2023-10-29 20:15:21.141818</td>\n",
       "      <td>modelo_8270_bin_m_ANOVA_RF.pkl</td>\n",
       "      <td>{'selector__k': 500, 'clasifier__n_estimators'...</td>\n",
       "      <td>X_test:(144, 18875)</td>\n",
       "      <td>['ENSG00000000971.17', 'ENSG00000001626.18', '...</td>\n",
       "    </tr>\n",
       "    <tr>\n",
       "      <th>0</th>\n",
       "      <td>bin_m</td>\n",
       "      <td>ANOVA</td>\n",
       "      <td>LR_L2</td>\n",
       "      <td>8270</td>\n",
       "      <td>0.861111</td>\n",
       "      <td>0.858379</td>\n",
       "      <td>0.858379</td>\n",
       "      <td>0.858379</td>\n",
       "      <td>0.914634</td>\n",
       "      <td>enderlab</td>\n",
       "      <td>7</td>\n",
       "      <td>2023-10-29 20:15:02.502710</td>\n",
       "      <td>modelo_8270_bin_m_ANOVA_LR_L2.pkl</td>\n",
       "      <td>{'selector__k': 500, 'clasifier__solver': 'lbf...</td>\n",
       "      <td>X_test:(144, 18875)</td>\n",
       "      <td>['ENSG00000000971.17', 'ENSG00000001626.18', '...</td>\n",
       "    </tr>\n",
       "    <tr>\n",
       "      <th>0</th>\n",
       "      <td>bin_m</td>\n",
       "      <td>ANOVA</td>\n",
       "      <td>LR_L1</td>\n",
       "      <td>8270</td>\n",
       "      <td>0.854167</td>\n",
       "      <td>0.851768</td>\n",
       "      <td>0.850315</td>\n",
       "      <td>0.850998</td>\n",
       "      <td>0.910700</td>\n",
       "      <td>enderlab</td>\n",
       "      <td>305</td>\n",
       "      <td>2023-10-29 20:14:47.853815</td>\n",
       "      <td>modelo_8270_bin_m_ANOVA_LR_L1.pkl</td>\n",
       "      <td>{'selector__k': 500, 'clasifier__solver': 'sag...</td>\n",
       "      <td>X_test:(144, 18875)</td>\n",
       "      <td>['ENSG00000000971.17', 'ENSG00000001626.18', '...</td>\n",
       "    </tr>\n",
       "  </tbody>\n",
       "</table>\n",
       "</div>"
      ],
      "text/plain": [
       "    tipo select clasific  semilla  accuracy  precision    recall  f1_score  \\\n",
       "0  bin_m  ANOVA       RF     8270  0.798611   0.794533  0.795633  0.795043   \n",
       "0  bin_m  ANOVA    LR_L2     8270  0.861111   0.858379  0.858379  0.858379   \n",
       "0  bin_m  ANOVA    LR_L1     8270  0.854167   0.851768  0.850315  0.850998   \n",
       "\n",
       "    roc_auc  hostname  total_time_sec                    datetime  \\\n",
       "0  0.884343  enderlab              11  2023-10-29 20:15:21.141818   \n",
       "0  0.914634  enderlab               7  2023-10-29 20:15:02.502710   \n",
       "0  0.910700  enderlab             305  2023-10-29 20:14:47.853815   \n",
       "\n",
       "                      fichero_modelo  \\\n",
       "0     modelo_8270_bin_m_ANOVA_RF.pkl   \n",
       "0  modelo_8270_bin_m_ANOVA_LR_L2.pkl   \n",
       "0  modelo_8270_bin_m_ANOVA_LR_L1.pkl   \n",
       "\n",
       "                                              params                shape  \\\n",
       "0  {'selector__k': 500, 'clasifier__n_estimators'...  X_test:(144, 18875)   \n",
       "0  {'selector__k': 500, 'clasifier__solver': 'lbf...  X_test:(144, 18875)   \n",
       "0  {'selector__k': 500, 'clasifier__solver': 'sag...  X_test:(144, 18875)   \n",
       "\n",
       "                                            features  \n",
       "0  ['ENSG00000000971.17', 'ENSG00000001626.18', '...  \n",
       "0  ['ENSG00000000971.17', 'ENSG00000001626.18', '...  \n",
       "0  ['ENSG00000000971.17', 'ENSG00000001626.18', '...  "
      ]
     },
     "metadata": {},
     "output_type": "display_data"
    }
   ],
   "source": [
    "if M_TIPO.startswith(\"bin\"):\n",
    "    myfunc.save_metricas_to_csv(random_search, X_test, y_test, M_TIPO, M_SELECT, M_CLASIF, total_time, SEMILLA, myfunc.MET_DIR, M_FICHERO, fichero_modelo)\n",
    "else:\n",
    "    myfunc.save_metricas_multi_to_csv(random_search, X_test, y_test, M_TIPO, M_SELECT, M_CLASIF, total_time, SEMILLA, myfunc.MET_DIR, M_FICHERO, fichero_modelo)\n",
    "\n",
    "df1=myfunc.read_metricas_to_df(myfunc.MET_DIR,M_FICHERO)\n",
    "\n",
    "display(df1.sort_values(\"datetime\", ascending=False)[:3])\n"
   ]
  },
  {
   "cell_type": "markdown",
   "id": "f121c2b2",
   "metadata": {
    "papermill": {
     "duration": 0.005765,
     "end_time": "2023-10-29T19:15:21.183901",
     "exception": false,
     "start_time": "2023-10-29T19:15:21.178136",
     "status": "completed"
    },
    "tags": []
   },
   "source": [
    "#### Guardar resultados"
   ]
  },
  {
   "cell_type": "code",
   "execution_count": 13,
   "id": "4c80d93a",
   "metadata": {
    "execution": {
     "iopub.execute_input": "2023-10-29T19:15:21.196601Z",
     "iopub.status.busy": "2023-10-29T19:15:21.196151Z",
     "iopub.status.idle": "2023-10-29T19:15:21.205420Z",
     "shell.execute_reply": "2023-10-29T19:15:21.204853Z"
    },
    "papermill": {
     "duration": 0.017035,
     "end_time": "2023-10-29T19:15:21.206736",
     "exception": false,
     "start_time": "2023-10-29T19:15:21.189701",
     "status": "completed"
    },
    "tags": []
   },
   "outputs": [
    {
     "name": "stdout",
     "output_type": "stream",
     "text": [
      "20231029T201521 : enderlab : INFO : Inicio guardar resultados\n",
      "20231029T201521 : enderlab : INFO : Inicio guardar fichero ../tfm_git/ejecuciones/metricas/resultados_8270_bin_m-ANOVA-RF.csv\n",
      "20231029T201521 : enderlab : INFO : Fin guardar fichero ../tfm_git/ejecuciones/metricas/resultados_8270_bin_m-ANOVA-RF.csv\n",
      "20231029T201521 : enderlab : INFO : Fin guardar resultados\n"
     ]
    }
   ],
   "source": [
    "fichero_resultados=R_FICHERO+\"_\"+M_TIPO+\"-\"+M_SELECT+\"-\"+M_CLASIF+\".csv\"\n",
    "myfunc.save_resultados_to_csv(M_TIPO, M_SELECT, M_CLASIF,  random_search, myfunc.MET_DIR, fichero_resultados)\n"
   ]
  }
 ],
 "metadata": {
  "kernelspec": {
   "display_name": "Python 3 (ipykernel)",
   "language": "python",
   "name": "python3"
  },
  "language_info": {
   "codemirror_mode": {
    "name": "ipython",
    "version": 3
   },
   "file_extension": ".py",
   "mimetype": "text/x-python",
   "name": "python",
   "nbconvert_exporter": "python",
   "pygments_lexer": "ipython3",
   "version": "3.10.11"
  },
  "papermill": {
   "default_parameters": {},
   "duration": 16.911405,
   "end_time": "2023-10-29T19:15:23.830306",
   "environment_variables": {},
   "exception": null,
   "input_path": "03_entrenamiento.ipynb",
   "output_path": "ejecuciones/training/03_entrenamiento.20231029T201506.param_0000_8270_bin_m_ANOVA_RF.output.ipynb",
   "parameters": {
    "MAX_ITERS": 500,
    "M_CLASIF": "RF",
    "M_FICHERO": "metricas_8270",
    "M_SELECT": "ANOVA",
    "M_TIPO": "bin_m",
    "PRE_DATA_FILE": "rows_transpose_norm_by_gene_id_with_target_num_",
    "P_FICHERO": "param_0000_8270_bin_m_ANOVA_RF.yaml",
    "R_FICHERO": "resultados_8270",
    "SCORING": "roc_auc_ovr",
    "SEMILLA": 8270,
    "eval_clasifier": "RandomForestClassifier(random_state=SEMILLA)",
    "eval_selector": "SelectKBest(score_func=f_classif)",
    "param_distributions": {
     "clasifier__bootstrap": [
      true
     ],
     "clasifier__max_depth": [
      10
     ],
     "clasifier__max_features": [
      100
     ],
     "clasifier__min_samples_leaf": [
      5
     ],
     "clasifier__min_samples_split": [
      10
     ],
     "clasifier__n_estimators": [
      200
     ],
     "selector__k": [
      500
     ]
    }
   },
   "start_time": "2023-10-29T19:15:06.918901",
   "version": "2.4.0"
  }
 },
 "nbformat": 4,
 "nbformat_minor": 5
}