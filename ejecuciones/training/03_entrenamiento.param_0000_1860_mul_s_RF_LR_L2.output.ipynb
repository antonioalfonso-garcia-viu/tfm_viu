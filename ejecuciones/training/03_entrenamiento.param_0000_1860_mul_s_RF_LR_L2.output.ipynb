{
 "cells": [
  {
   "cell_type": "markdown",
   "id": "d426f6f7",
   "metadata": {
    "papermill": {
     "duration": 0.0,
     "end_time": "2023-10-30T03:09:28.319349",
     "exception": false,
     "start_time": "2023-10-30T03:09:28.319349",
     "status": "completed"
    },
    "tags": []
   },
   "source": [
    "##### Inicio"
   ]
  },
  {
   "cell_type": "markdown",
   "id": "3fe40bc6",
   "metadata": {
    "papermill": {
     "duration": 0.0,
     "end_time": "2023-10-30T03:09:28.319349",
     "exception": false,
     "start_time": "2023-10-30T03:09:28.319349",
     "status": "completed"
    },
    "tags": []
   },
   "source": [
    "#### Carga de datos"
   ]
  },
  {
   "cell_type": "code",
   "execution_count": 1,
   "id": "33a7e91b",
   "metadata": {
    "execution": {
     "iopub.execute_input": "2023-10-30T03:09:28.334764Z",
     "iopub.status.busy": "2023-10-30T03:09:28.334764Z",
     "iopub.status.idle": "2023-10-30T03:09:29.478073Z",
     "shell.execute_reply": "2023-10-30T03:09:29.478073Z"
    },
    "papermill": {
     "duration": 1.143309,
     "end_time": "2023-10-30T03:09:29.478073",
     "exception": false,
     "start_time": "2023-10-30T03:09:28.334764",
     "status": "completed"
    },
    "tags": []
   },
   "outputs": [
    {
     "name": "stdout",
     "output_type": "stream",
     "text": [
      "CPU_COUNT: 24; NODE: amilcar32; sys.version: 3.10.12 | packaged by Anaconda, Inc. | (main, Jul  5 2023, 19:09:20) [MSC v.1916 64 bit (AMD64)]\n",
      "LOKY_MAX_CPU_COUNT is not set.\n",
      "OMP_NUM_THREADS is not set.\n"
     ]
    }
   ],
   "source": [
    "import os\n",
    "import numpy as np\n",
    "import pandas as pd\n",
    "import datetime\n",
    "import sklearn\n",
    "import logging\n",
    "import warnings\n",
    "\n",
    "from sklearn.pipeline import Pipeline\n",
    "from sklearn.model_selection import RandomizedSearchCV, KFold, cross_val_score, train_test_split\n",
    "from sklearn.metrics import accuracy_score, confusion_matrix, classification_report, roc_auc_score\n",
    "\n",
    "#  cargar algoritmos para aprendizaje supervisado\n",
    "from sklearn.feature_selection import SelectKBest, f_classif, SelectFromModel, mutual_info_classif\n",
    "from sklearn.svm import SVC\n",
    "from sklearn.ensemble import RandomForestClassifier\n",
    "from sklearn.linear_model import LogisticRegression,LogisticRegressionCV\n",
    "\n",
    "# importar fichero con utilidades propias\n",
    "from commons import myfunctions as myfunc\n"
   ]
  },
  {
   "cell_type": "markdown",
   "id": "9224b608",
   "metadata": {
    "papermill": {
     "duration": 0.0,
     "end_time": "2023-10-30T03:09:29.478073",
     "exception": false,
     "start_time": "2023-10-30T03:09:29.478073",
     "status": "completed"
    },
    "tags": []
   },
   "source": [
    "#### Parámetros a utilizar en el entrenamiento.\n",
    "\n",
    "Se indican los 3 algoritmos de *selección de características* (eval_selector_xxx) y los 3 algoritmos para la _clasificación_ (eval_clasifier_xxx)\n",
    "\n",
    "En *param_distributions* se indicar los parámetros que utilizan los algoritmos en la función RandomSearchCV.\n",
    "\n",
    "Esta celda tiene la etiqueta **parameters** que servirá para poder lanzar los entrenamientos con la utilidad **papermill** pasándole un fichero con los parámetros. Los nuevos parámetros se situarán tras esta celda para tener prevalencia."
   ]
  },
  {
   "cell_type": "code",
   "execution_count": 2,
   "id": "bac082de",
   "metadata": {
    "execution": {
     "iopub.execute_input": "2023-10-30T03:09:29.478073Z",
     "iopub.status.busy": "2023-10-30T03:09:29.478073Z",
     "iopub.status.idle": "2023-10-30T03:09:29.509409Z",
     "shell.execute_reply": "2023-10-30T03:09:29.509409Z"
    },
    "papermill": {
     "duration": 0.031336,
     "end_time": "2023-10-30T03:09:29.509409",
     "exception": false,
     "start_time": "2023-10-30T03:09:29.478073",
     "status": "completed"
    },
    "tags": [
     "parameters"
    ]
   },
   "outputs": [
    {
     "name": "stdout",
     "output_type": "stream",
     "text": [
      "20231030T040929 : amilcar32 : INFO : Utilizando parámetros de mul_m\n"
     ]
    }
   ],
   "source": [
    "#  Parametros para el entrenamiento\n",
    "\n",
    "SEMILLA=        42\n",
    "M_TIPO=         \"mul_m\"\n",
    "M_SELECT=       \"MI\"\n",
    "M_CLASIF=       \"SVM\"\n",
    "R_FICHERO=      \"resultados\"\n",
    "M_FICHERO=      \"metricas\"\n",
    "PRE_DATA_FILE=  \"rows_transpose_norm_by_gene_id_with_target_num_\"\n",
    "SCORING=        \"roc_auc_ovr\" \n",
    "MAX_ITERS=      100\n",
    "\n",
    "def mutual_info_classif_state(X, y):\n",
    "    return mutual_info_classif(X, y, random_state=SEMILLA)\n",
    "\n",
    "eval_selector_mi = \"SelectKBest(score_func=mutual_info_classif_state)\"\n",
    "eval_selector_rf=  \"SelectFromModel(estimator=RandomForestClassifier(random_state=SEMILLA), threshold=-np.inf)\"\n",
    "eval_selector_anova=  \"SelectKBest(score_func=f_classif)\"\n",
    "\n",
    "eval_clasifier_svm= \"SVC(probability=True, random_state=SEMILLA)\"\n",
    "eval_clasifier_rf= \"RandomForestClassifier(random_state=SEMILLA)\"\n",
    "eval_clasifier_lr= \"LogisticRegressionCV(random_state=SEMILLA)\"\n",
    "\n",
    "if M_TIPO.startswith(\"bin_m\"):\n",
    "    myfunc.verbose(f\"Utilizando parámetros de {M_TIPO}\")\n",
    "    eval_selector = eval_selector_mi\n",
    "    eval_clasifier = eval_clasifier_svm\n",
    "\n",
    "    SEMILLA = 6578\n",
    "    M_SELECT = \"MI\"\n",
    "    M_CLASIF = \"SVM\"\n",
    "    param_distributions = {'selector__k': [1000], \n",
    "         'clasifier__kernel': ['rbf'], 'clasifier__gamma': [0.01], 'clasifier__C': [100]}\n",
    "elif M_TIPO.startswith(\"bin_s\"):\n",
    "    myfunc.verbose(f\"Utilizando parámetros de {M_TIPO}\")\n",
    "    eval_selector = eval_selector_rf\n",
    "    eval_clasifier = eval_clasifier_lr\n",
    "\n",
    "    SEMILLA = 6191\n",
    "    M_SELECT = \"RF\"\n",
    "    M_CLASIF = \"LR_L2\"\n",
    "    param_distributions = {'selector__max_features': [1000], 'selector__estimator__n_estimators': [200], \n",
    "        'clasifier__solver': ['lbfgs'], 'clasifier__penalty': ['l2'], 'clasifier__max_iter': [10000]}\n",
    "\n",
    "elif M_TIPO.startswith(\"mul_m\"):\n",
    "    myfunc.verbose(f\"Utilizando parámetros de {M_TIPO}\")\n",
    " \n",
    "    eval_selector = eval_selector_rf\n",
    "    eval_clasifier = eval_clasifier_lr\n",
    "\n",
    "    SEMILLA = 6191\n",
    "    M_SELECT = \"RF\"\n",
    "    M_CLASIF = \"LR_L2\"\n",
    "    param_distributions = {'selector__max_features': [1000], 'selector__estimator__n_estimators': [400], \n",
    "        'clasifier__solver': ['lbfgs'], 'clasifier__penalty': ['l2'], 'clasifier__max_iter': [10000]}\n",
    "\n",
    "else:\n",
    "    # M_TIPO.startswith(\"mul_s\"):\n",
    "    myfunc.verbose(f\"Utilizando parámetros de {M_TIPO}\")\n",
    "    eval_selector = eval_selector_anova\n",
    "    eval_clasifier = eval_clasifier_lr\n",
    "\n",
    "    SEMILLA = 1860\n",
    "    M_SELECT = \"ANOVA\"\n",
    "    M_CLASIF = \"LR_L2\"\n",
    "    param_distributions = {'selector__k': [1000], \n",
    "        'clasifier__solver': ['saga'], 'clasifier__penalty': ['l2'], 'clasifier__max_iter': [10000]}\n",
    "\n"
   ]
  },
  {
   "cell_type": "code",
   "execution_count": 3,
   "id": "cb83da31",
   "metadata": {
    "execution": {
     "iopub.execute_input": "2023-10-30T03:09:29.509409Z",
     "iopub.status.busy": "2023-10-30T03:09:29.509409Z",
     "iopub.status.idle": "2023-10-30T03:09:29.524963Z",
     "shell.execute_reply": "2023-10-30T03:09:29.524963Z"
    },
    "papermill": {
     "duration": 0.015554,
     "end_time": "2023-10-30T03:09:29.524963",
     "exception": false,
     "start_time": "2023-10-30T03:09:29.509409",
     "status": "completed"
    },
    "tags": [
     "injected-parameters"
    ]
   },
   "outputs": [],
   "source": [
    "# Parameters\n",
    "M_TIPO = \"mul_s\"\n",
    "M_SELECT = \"RF\"\n",
    "M_CLASIF = \"LR_L2\"\n",
    "P_FICHERO = \"param_0000_1860_mul_s_RF_LR_L2.yaml\"\n",
    "R_FICHERO = \"resultados_1860\"\n",
    "M_FICHERO = \"metricas_1860\"\n",
    "PRE_DATA_FILE = \"rows_transpose_norm_by_gene_id_with_target_num_\"\n",
    "SCORING = \"roc_auc_ovr\"\n",
    "SEMILLA = 1860\n",
    "MAX_ITERS = 500\n",
    "eval_selector = \"SelectFromModel(estimator=RandomForestClassifier(random_state=SEMILLA), threshold=-np.inf)\"\n",
    "eval_clasifier = \"LogisticRegressionCV(random_state=SEMILLA)\"\n",
    "param_distributions = {\n",
    "    \"selector__max_features\": [500],\n",
    "    \"selector__estimator__n_estimators\": [200],\n",
    "    \"clasifier__solver\": [\"lbfgs\"],\n",
    "    \"clasifier__penalty\": [\"l2\"],\n",
    "    \"clasifier__max_iter\": [10000],\n",
    "}\n"
   ]
  },
  {
   "cell_type": "code",
   "execution_count": 4,
   "id": "864d6ac9",
   "metadata": {
    "execution": {
     "iopub.execute_input": "2023-10-30T03:09:29.524963Z",
     "iopub.status.busy": "2023-10-30T03:09:29.524963Z",
     "iopub.status.idle": "2023-10-30T03:09:29.540575Z",
     "shell.execute_reply": "2023-10-30T03:09:29.540575Z"
    },
    "papermill": {
     "duration": 0.015612,
     "end_time": "2023-10-30T03:09:29.540575",
     "exception": false,
     "start_time": "2023-10-30T03:09:29.524963",
     "status": "completed"
    },
    "tags": []
   },
   "outputs": [],
   "source": [
    "DATA_FILE = PRE_DATA_FILE + M_TIPO\n",
    "\n",
    "# si viene \"None\" en el parámetro max_depth, se le quitan las comillas para que no sea entendido por el algoritmo como un texto\n",
    "if \"clasifier__max_depth\" in param_distributions:\n",
    "    param_distributions['clasifier__max_depth'] = [None if x == 'None' else x for x in param_distributions['clasifier__max_depth']]"
   ]
  },
  {
   "cell_type": "markdown",
   "id": "70d48a1d",
   "metadata": {
    "papermill": {
     "duration": 0.0,
     "end_time": "2023-10-30T03:09:29.543271",
     "exception": false,
     "start_time": "2023-10-30T03:09:29.543271",
     "status": "completed"
    },
    "tags": []
   },
   "source": [
    "Asignar los algoritmos que se utilizarán en la función RandomSearchCV"
   ]
  },
  {
   "cell_type": "code",
   "execution_count": 5,
   "id": "d28ccd73",
   "metadata": {
    "execution": {
     "iopub.execute_input": "2023-10-30T03:09:29.553286Z",
     "iopub.status.busy": "2023-10-30T03:09:29.553286Z",
     "iopub.status.idle": "2023-10-30T03:09:29.571940Z",
     "shell.execute_reply": "2023-10-30T03:09:29.571940Z"
    },
    "papermill": {
     "duration": 0.028669,
     "end_time": "2023-10-30T03:09:29.571940",
     "exception": false,
     "start_time": "2023-10-30T03:09:29.543271",
     "status": "completed"
    },
    "tags": []
   },
   "outputs": [],
   "source": [
    "algor_selector=eval(eval_selector)\n",
    "algor_clasifier=eval(eval_clasifier)"
   ]
  },
  {
   "cell_type": "markdown",
   "id": "f3400b02",
   "metadata": {
    "papermill": {
     "duration": 0.0,
     "end_time": "2023-10-30T03:09:29.571940",
     "exception": false,
     "start_time": "2023-10-30T03:09:29.571940",
     "status": "completed"
    },
    "tags": []
   },
   "source": [
    "#### Comprobar el entorno y leer fichero de muestras"
   ]
  },
  {
   "cell_type": "code",
   "execution_count": 6,
   "id": "6dc91642",
   "metadata": {
    "execution": {
     "iopub.execute_input": "2023-10-30T03:09:29.571940Z",
     "iopub.status.busy": "2023-10-30T03:09:29.571940Z",
     "iopub.status.idle": "2023-10-30T03:09:29.712801Z",
     "shell.execute_reply": "2023-10-30T03:09:29.712801Z"
    },
    "papermill": {
     "duration": 0.140861,
     "end_time": "2023-10-30T03:09:29.712801",
     "exception": false,
     "start_time": "2023-10-30T03:09:29.571940",
     "status": "completed"
    },
    "tags": []
   },
   "outputs": [
    {
     "name": "stdout",
     "output_type": "stream",
     "text": [
      "20231030T040929 : amilcar32 : INFO : Encontrada carpeta DATA_DIR=..\\tfm_viu\\datos\n",
      "20231030T040929 : amilcar32 : INFO : Encontrada carpeta CFDNA_DIR=..\\tfm_viu\\datos\\cfDNA_5hmC\n",
      "20231030T040929 : amilcar32 : INFO : Encontrada carpeta GENCODE_DIR=..\\tfm_viu\\datos\\gencode\n",
      "20231030T040929 : amilcar32 : INFO : Encontrada carpeta H5_DIR=..\\tfm_viu\\datos\\h5\n",
      "20231030T040929 : amilcar32 : INFO : Encontrada carpeta LOG_DIR=..\\tfm_viu\\datos\\logs\n",
      "20231030T040929 : amilcar32 : INFO : Encontrada carpeta CSV_DIR=..\\tfm_viu\\datos\\csv\n",
      "20231030T040929 : amilcar32 : INFO : Encontrada carpeta MODEL_DIR=..\\tfm_viu\\ejecuciones\\modelos\n",
      "20231030T040929 : amilcar32 : INFO : Encontrada carpeta EXEC_DIR=..\\tfm_viu\\ejecuciones\n",
      "20231030T040929 : amilcar32 : INFO : Encontrada carpeta MET_DIR=..\\tfm_viu\\ejecuciones\\metricas\n",
      "20231030T040929 : amilcar32 : INFO : Inicio leer fichero h5 ..\\tfm_viu\\datos\\h5\\rows_transpose_norm_by_gene_id_with_target_num_mul_s.h5\n",
      "20231030T040929 : amilcar32 : INFO : Leyendo clave /df\n"
     ]
    },
    {
     "name": "stdout",
     "output_type": "stream",
     "text": [
      "20231030T040929 : amilcar32 : INFO : Tamaño (259, 18876)\n",
      "20231030T040929 : amilcar32 : INFO : Fin leer fichero h5 ..\\tfm_viu\\datos\\h5\\rows_transpose_norm_by_gene_id_with_target_num_mul_s.h5\n"
     ]
    },
    {
     "data": {
      "text/plain": [
       "target\n",
       "0    37\n",
       "1    37\n",
       "2    37\n",
       "3    37\n",
       "4    37\n",
       "5    37\n",
       "6    37\n",
       "dtype: int64"
      ]
     },
     "metadata": {},
     "output_type": "display_data"
    },
    {
     "name": "stdout",
     "output_type": "stream",
     "text": [
      "Shape df: (259, 18876)\n"
     ]
    },
    {
     "name": "stdout",
     "output_type": "stream",
     "text": [
      "Shape X_train: (207, 18875)\n",
      "Shape X_test: (52, 18875)\n"
     ]
    }
   ],
   "source": [
    "start_time = datetime.datetime.now()\n",
    "\n",
    "myfunc.reset_vars()\n",
    "\n",
    "myfunc.NOTEBK_FILENAME = myfunc.get_nb_name()\n",
    "\n",
    "myfunc.check_enviroment(myfunc.DATA_DIR, myfunc.CFDNA_DIR, myfunc.GENCODE_DIR, myfunc.H5_DIR, myfunc.LOG_DIR, myfunc.CSV_DIR, myfunc.MODEL_DIR, myfunc.EXEC_DIR, myfunc.MET_DIR)\n",
    "\n",
    "# Leer fichero con las muestras\n",
    "df_t = myfunc.read_h5_to_df(DATA_FILE, myfunc.H5_DIR)\n",
    "display(df_t.groupby(\"target\").size())\n",
    "print(\"Shape df:\",df_t.shape)\n",
    "\n",
    "# Separar caracteristicas/genes de las etiquetas/tipos de cáncer\n",
    "X = df_t.iloc[:, :-1]  # Todas las columnas excepto la última\n",
    "y = df_t.iloc[:, -1]  # La última columna contiene los identificadores de los tipos de cáncer\n",
    "\n",
    "#  Crear el conjunto de datos de entrenamiento y de pruebas, y se fija la semilla para siempre coger el mismo juego de muestras\n",
    "X_train, X_test, y_train, y_test = train_test_split(X, y, test_size=0.2, shuffle=True, random_state=42)\n",
    "print(\"Shape X_train:\",X_train.shape)\n",
    "print(\"Shape X_test:\",X_test.shape)\n"
   ]
  },
  {
   "cell_type": "markdown",
   "id": "9ba6d037",
   "metadata": {
    "papermill": {
     "duration": 0.0,
     "end_time": "2023-10-30T03:09:29.712801",
     "exception": false,
     "start_time": "2023-10-30T03:09:29.712801",
     "status": "completed"
    },
    "tags": []
   },
   "source": [
    "#### Selección de características y clasificación."
   ]
  },
  {
   "cell_type": "code",
   "execution_count": 7,
   "id": "a8dbc5ec",
   "metadata": {
    "execution": {
     "iopub.execute_input": "2023-10-30T03:09:29.728488Z",
     "iopub.status.busy": "2023-10-30T03:09:29.728488Z",
     "iopub.status.idle": "2023-10-30T03:09:57.403166Z",
     "shell.execute_reply": "2023-10-30T03:09:57.403166Z"
    },
    "papermill": {
     "duration": 27.690365,
     "end_time": "2023-10-30T03:09:57.403166",
     "exception": false,
     "start_time": "2023-10-30T03:09:29.712801",
     "status": "completed"
    },
    "tags": []
   },
   "outputs": [
    {
     "name": "stdout",
     "output_type": "stream",
     "text": [
      "20231030T040929 : amilcar32 : INFO : Iniciando entrenamiento\n",
      "num_iter: 1 , max_iter: 1\n",
      "Fitting 5 folds for each of 1 candidates, totalling 5 fits\n"
     ]
    },
    {
     "name": "stdout",
     "output_type": "stream",
     "text": [
      "Mejores Hiperparámetros: {'selector__max_features': 500, 'selector__estimator__n_estimators': 200, 'clasifier__solver': 'lbfgs', 'clasifier__penalty': 'l2', 'clasifier__max_iter': 10000}\n",
      "Mejor Puntuación: 0.7992\n",
      "20231030T040957 : amilcar32 : INFO : Fin entrenamiento\n"
     ]
    }
   ],
   "source": [
    "myfunc.verbose(\"Iniciando entrenamiento\")\n",
    "\n",
    "kf = KFold(n_splits=5, shuffle=True, random_state=SEMILLA)\n",
    "\n",
    "# Crear el pipeline para el flujo de tareas\n",
    "tasks_pipeline = Pipeline([\n",
    "    ('selector', algor_selector),\n",
    "    ('clasifier', algor_clasifier)\n",
    "])\n",
    "\n",
    "# MAX_ITERS puede limitar el número de iteraciones si son excesivas para las combinaciones de parámetros buscando un óptimo local, \n",
    "# sino funcionaría como GridSearchCV al revisar todas las cominaciones de los parámetros\n",
    "num_iteraciones = 1\n",
    "num_iteraciones = num_iteraciones * np.prod([len(elemento1) for _, elemento1 in param_distributions.items()])\n",
    "max_iteraciones = num_iteraciones if num_iteraciones <= MAX_ITERS else MAX_ITERS\n",
    "print(\"num_iter:\",num_iteraciones,\", max_iter:\",max_iteraciones)\n",
    "\n",
    "random_search = RandomizedSearchCV(\n",
    "    tasks_pipeline, \n",
    "    param_distributions, \n",
    "    n_iter=max_iteraciones,\n",
    "    scoring=SCORING,\n",
    "    cv=kf,\n",
    "    verbose=3, \n",
    "    random_state=SEMILLA, \n",
    "    n_jobs=-1\n",
    "    )\n",
    "\n",
    "# Entrenar el modelo\n",
    "random_search.fit(X_train, y_train)\n",
    "\n",
    "# Ver los mejores hiperparámetros encontrados\n",
    "print(f'Mejores Hiperparámetros: {random_search.best_params_}')\n",
    "print(f'Mejor Puntuación: {random_search.best_score_:.4f}')\n",
    "\n",
    "# Nos quedamos con el mejor modelo para ver las métricas\n",
    "mejor_modelo = random_search.best_estimator_\n",
    "\n",
    "myfunc.verbose(\"Fin entrenamiento\")"
   ]
  },
  {
   "cell_type": "markdown",
   "id": "f5b0d3d7",
   "metadata": {
    "papermill": {
     "duration": 0.015637,
     "end_time": "2023-10-30T03:09:57.418803",
     "exception": false,
     "start_time": "2023-10-30T03:09:57.403166",
     "status": "completed"
    },
    "tags": []
   },
   "source": [
    "#### Guardar modelo"
   ]
  },
  {
   "cell_type": "code",
   "execution_count": 8,
   "id": "c8339d8b",
   "metadata": {
    "execution": {
     "iopub.execute_input": "2023-10-30T03:09:57.434431Z",
     "iopub.status.busy": "2023-10-30T03:09:57.434431Z",
     "iopub.status.idle": "2023-10-30T03:09:57.685746Z",
     "shell.execute_reply": "2023-10-30T03:09:57.685746Z"
    },
    "papermill": {
     "duration": 0.266943,
     "end_time": "2023-10-30T03:09:57.685746",
     "exception": false,
     "start_time": "2023-10-30T03:09:57.418803",
     "status": "completed"
    },
    "tags": []
   },
   "outputs": [
    {
     "name": "stdout",
     "output_type": "stream",
     "text": [
      "20231030T040957 : amilcar32 : INFO : Inicio guardar fichero ..\\tfm_viu\\ejecuciones\\modelos\\modelo_1860_mul_s_RF_LR_L2.pkl\n"
     ]
    },
    {
     "name": "stdout",
     "output_type": "stream",
     "text": [
      "20231030T040957 : amilcar32 : INFO : Fin guardar fichero ..\\tfm_viu\\ejecuciones\\modelos\\modelo_1860_mul_s_RF_LR_L2.pkl\n"
     ]
    }
   ],
   "source": [
    "fichero_modelo = str.replace(\"modelo_\"+str(SEMILLA).zfill(4)+\"_\"+M_TIPO+\"_\"+M_SELECT+\"_\"+M_CLASIF+\".pkl\", \" \", \"_\")\n",
    "\n",
    "myfunc.save_modelo(mejor_modelo, myfunc.MODEL_DIR, fichero_modelo)"
   ]
  },
  {
   "cell_type": "markdown",
   "id": "17ab06a3",
   "metadata": {
    "papermill": {
     "duration": 0.0,
     "end_time": "2023-10-30T03:09:57.701175",
     "exception": false,
     "start_time": "2023-10-30T03:09:57.701175",
     "status": "completed"
    },
    "tags": []
   },
   "source": [
    "#### Ver resultados del las iteraciones hechas por RandomSearchCV"
   ]
  },
  {
   "cell_type": "code",
   "execution_count": 9,
   "id": "0ea6970a",
   "metadata": {
    "execution": {
     "iopub.execute_input": "2023-10-30T03:09:57.732508Z",
     "iopub.status.busy": "2023-10-30T03:09:57.732508Z",
     "iopub.status.idle": "2023-10-30T03:09:57.763928Z",
     "shell.execute_reply": "2023-10-30T03:09:57.763928Z"
    },
    "papermill": {
     "duration": 0.047043,
     "end_time": "2023-10-30T03:09:57.763928",
     "exception": false,
     "start_time": "2023-10-30T03:09:57.716885",
     "status": "completed"
    },
    "tags": []
   },
   "outputs": [
    {
     "name": "stdout",
     "output_type": "stream",
     "text": [
      "20231030T040957 : amilcar32 : INFO : Inicio ver resultados\n",
      "Mejores Hiperparámetros: {'selector__max_features': 500, 'selector__estimator__n_estimators': 200, 'clasifier__solver': 'lbfgs', 'clasifier__penalty': 'l2', 'clasifier__max_iter': 10000}\n",
      "Mejores puntuaciones: 0.7992 | Params: {'selector__max_features': 500, 'selector__estimator__n_estimators': 200, 'clasifier__solver': 'lbfgs', 'clasifier__penalty': 'l2', 'clasifier__max_iter': 10000}\n",
      "Media de las puntuaciones: 0.7992 | Params: {'selector__max_features': 500, 'selector__estimator__n_estimators': 200, 'clasifier__solver': 'lbfgs', 'clasifier__penalty': 'l2', 'clasifier__max_iter': 10000}\n",
      "20231030T040957 : amilcar32 : INFO : Fin resultados\n"
     ]
    }
   ],
   "source": [
    "myfunc.ver_resultados_search(random_search)"
   ]
  },
  {
   "cell_type": "markdown",
   "id": "e7d15135",
   "metadata": {
    "papermill": {
     "duration": 0.015081,
     "end_time": "2023-10-30T03:09:57.795555",
     "exception": false,
     "start_time": "2023-10-30T03:09:57.780474",
     "status": "completed"
    },
    "tags": []
   },
   "source": [
    "#### Ver métricas del mejor modelo"
   ]
  },
  {
   "cell_type": "code",
   "execution_count": 10,
   "id": "a35110fb",
   "metadata": {
    "execution": {
     "iopub.execute_input": "2023-10-30T03:09:57.826908Z",
     "iopub.status.busy": "2023-10-30T03:09:57.826908Z",
     "iopub.status.idle": "2023-10-30T03:09:59.484284Z",
     "shell.execute_reply": "2023-10-30T03:09:59.484284Z"
    },
    "papermill": {
     "duration": 1.673005,
     "end_time": "2023-10-30T03:09:59.484284",
     "exception": false,
     "start_time": "2023-10-30T03:09:57.811279",
     "status": "completed"
    },
    "tags": []
   },
   "outputs": [
    {
     "name": "stdout",
     "output_type": "stream",
     "text": [
      "20231030T040957 : amilcar32 : INFO : Inicio ver métricas multiclase\n"
     ]
    },
    {
     "name": "stdout",
     "output_type": "stream",
     "text": [
      "              precision    recall  f1-score   support\n",
      "\n",
      "           0       0.12      0.09      0.11        11\n",
      "           1       1.00      0.50      0.67         8\n",
      "           2       0.17      0.12      0.14         8\n",
      "           3       0.00      0.00      0.00         5\n",
      "           4       0.60      0.75      0.67         8\n",
      "           5       0.43      0.50      0.46         6\n",
      "           6       0.30      0.50      0.37         6\n",
      "\n",
      "    accuracy                           0.35        52\n",
      "   macro avg       0.37      0.35      0.35        52\n",
      "weighted avg       0.38      0.35      0.35        52\n",
      "\n",
      "\n",
      "\n",
      "           Exactitud: 0.346154\n",
      "   Precisión (media): 0.374320\n",
      "      Recall (media): 0.352273\n",
      "    F1-score (media): 0.345427\n",
      "\n",
      "\n",
      "AUC para el tipo de cáncer 0-Control.... 0.5654\n",
      "AUC para el tipo de cáncer 1-Bladder.... 0.8864\n",
      "AUC para el tipo de cáncer 2-Breast..... 0.7301\n",
      "AUC para el tipo de cáncer 3-Colorectal. 0.6468\n",
      "AUC para el tipo de cáncer 4-Kidney..... 0.9460\n",
      "AUC para el tipo de cáncer 5-Lung....... 0.9384\n",
      "AUC para el tipo de cáncer 6-Prostate... 0.8370\n",
      "\n",
      "Media de AUC: 0.7929\n"
     ]
    },
    {
     "data": {
      "image/png": "[encoded data removed]",
      "text/plain": [
       "<Figure size 1000x600 with 1 Axes>"
      ]
     },
     "metadata": {},
     "output_type": "display_data"
    },
    {
     "name": "stdout",
     "output_type": "stream",
     "text": [
      "\n",
      "\n"
     ]
    },
    {
     "data": {
      "image/png": "[encoded data removed]",
      "text/plain": [
       "<Figure size 800x400 with 2 Axes>"
      ]
     },
     "metadata": {},
     "output_type": "display_data"
    },
    {
     "name": "stdout",
     "output_type": "stream",
     "text": [
      "\n",
      "\n",
      "Puntuación Jaccard para el cáncer tipo 0-Control.... 0.0556\n",
      "Puntuación Jaccard para el cáncer tipo 1-Bladder.... 0.5000\n",
      "Puntuación Jaccard para el cáncer tipo 2-Breast..... 0.0769\n",
      "Puntuación Jaccard para el cáncer tipo 3-Colorectal. 0.0000\n",
      "Puntuación Jaccard para el cáncer tipo 4-Kidney..... 0.5000\n",
      "Puntuación Jaccard para el cáncer tipo 5-Lung....... 0.3000\n",
      "Puntuación Jaccard para el cáncer tipo 6-Prostate... 0.2308\n",
      "\n",
      "Media de la puntuación de Jaccard: 0.2376\n"
     ]
    }
   ],
   "source": [
    "if M_TIPO.startswith(\"bin\"):\n",
    "    myfunc.ver_metricas(mejor_modelo, X_test, y_test)\n",
    "else:\n",
    "    myfunc.ver_metricas_multi(mejor_modelo, X_test, y_test)\n"
   ]
  },
  {
   "cell_type": "markdown",
   "id": "4ba3d201",
   "metadata": {
    "papermill": {
     "duration": 0.015625,
     "end_time": "2023-10-30T03:09:59.515346",
     "exception": false,
     "start_time": "2023-10-30T03:09:59.499721",
     "status": "completed"
    },
    "tags": []
   },
   "source": [
    "#### Finalización del notebook"
   ]
  },
  {
   "cell_type": "code",
   "execution_count": 11,
   "id": "2a96a1ca",
   "metadata": {
    "execution": {
     "iopub.execute_input": "2023-10-30T03:09:59.530968Z",
     "iopub.status.busy": "2023-10-30T03:09:59.530968Z",
     "iopub.status.idle": "2023-10-30T03:09:59.546693Z",
     "shell.execute_reply": "2023-10-30T03:09:59.546693Z"
    },
    "papermill": {
     "duration": 0.015725,
     "end_time": "2023-10-30T03:09:59.546693",
     "exception": false,
     "start_time": "2023-10-30T03:09:59.530968",
     "status": "completed"
    },
    "tags": []
   },
   "outputs": [
    {
     "name": "stdout",
     "output_type": "stream",
     "text": [
      "20231030T040959 : amilcar32 : INFO : Notebook ha tardado 29 seconds\n"
     ]
    }
   ],
   "source": [
    "end_time = datetime.datetime.now()\n",
    "total_time = end_time - start_time\n",
    "myfunc.verbose(f\"Notebook ha tardado {total_time.seconds} seconds\")"
   ]
  },
  {
   "cell_type": "markdown",
   "id": "53592659",
   "metadata": {
    "papermill": {
     "duration": 0.01563,
     "end_time": "2023-10-30T03:09:59.577854",
     "exception": false,
     "start_time": "2023-10-30T03:09:59.562224",
     "status": "completed"
    },
    "tags": []
   },
   "source": [
    "#### Guardar métricas"
   ]
  },
  {
   "cell_type": "code",
   "execution_count": 12,
   "id": "fd725742",
   "metadata": {
    "execution": {
     "iopub.execute_input": "2023-10-30T03:09:59.609093Z",
     "iopub.status.busy": "2023-10-30T03:09:59.609093Z",
     "iopub.status.idle": "2023-10-30T03:10:00.909213Z",
     "shell.execute_reply": "2023-10-30T03:10:00.909213Z"
    },
    "papermill": {
     "duration": 1.315751,
     "end_time": "2023-10-30T03:10:00.909213",
     "exception": false,
     "start_time": "2023-10-30T03:09:59.593462",
     "status": "completed"
    },
    "tags": []
   },
   "outputs": [
    {
     "name": "stdout",
     "output_type": "stream",
     "text": [
      "20231030T040959 : amilcar32 : INFO : Inicio guardar métricas multiclase\n",
      "20231030T040959 : amilcar32 : INFO : Inicio leer fichero ..\\tfm_viu\\ejecuciones\\metricas\\metricas_1860.csv\n",
      "20231030T040959 : amilcar32 : INFO : Fin leer fichero ..\\tfm_viu\\ejecuciones\\metricas\\metricas_1860.csv\n"
     ]
    },
    {
     "name": "stdout",
     "output_type": "stream",
     "text": [
      "20231030T041000 : amilcar32 : INFO : Inicio guardar fichero ..\\tfm_viu\\ejecuciones\\metricas\\metricas_1860.csv\n",
      "20231030T041000 : amilcar32 : INFO : Fichero borrado ..\\tfm_viu\\ejecuciones\\metricas\\metricas_1860.csv\n",
      "20231030T041000 : amilcar32 : INFO : Fin guardar fichero ..\\tfm_viu\\ejecuciones\\metricas\\metricas_1860.csv\n",
      "20231030T041000 : amilcar32 : INFO : Fin guardar métricas multiclase\n",
      "20231030T041000 : amilcar32 : INFO : Inicio leer fichero ..\\tfm_viu\\ejecuciones\\metricas\\metricas_1860.csv\n",
      "20231030T041000 : amilcar32 : INFO : Fin leer fichero ..\\tfm_viu\\ejecuciones\\metricas\\metricas_1860.csv\n"
     ]
    },
    {
     "data": {
      "text/html": [
       "<div>\n",
       "<style scoped>\n",
       "    .dataframe tbody tr th:only-of-type {\n",
       "        vertical-align: middle;\n",
       "    }\n",
       "\n",
       "    .dataframe tbody tr th {\n",
       "        vertical-align: top;\n",
       "    }\n",
       "\n",
       "    .dataframe thead th {\n",
       "        text-align: right;\n",
       "    }\n",
       "</style>\n",
       "<table border=\"1\" class=\"dataframe\">\n",
       "  <thead>\n",
       "    <tr style=\"text-align: right;\">\n",
       "      <th></th>\n",
       "      <th>tipo</th>\n",
       "      <th>select</th>\n",
       "      <th>clasific</th>\n",
       "      <th>semilla</th>\n",
       "      <th>accuracy</th>\n",
       "      <th>precision</th>\n",
       "      <th>recall</th>\n",
       "      <th>f1_score</th>\n",
       "      <th>roc_auc</th>\n",
       "      <th>hostname</th>\n",
       "      <th>total_time_sec</th>\n",
       "      <th>datetime</th>\n",
       "      <th>fichero_modelo</th>\n",
       "      <th>params</th>\n",
       "      <th>shape</th>\n",
       "      <th>features</th>\n",
       "      <th>roc_auc_ovr</th>\n",
       "      <th>indices_auc</th>\n",
       "      <th>indices_jaccard</th>\n",
       "    </tr>\n",
       "  </thead>\n",
       "  <tbody>\n",
       "    <tr>\n",
       "      <th>0</th>\n",
       "      <td>mul_s</td>\n",
       "      <td>RF</td>\n",
       "      <td>LR_L2</td>\n",
       "      <td>1860</td>\n",
       "      <td>0.346154</td>\n",
       "      <td>0.374320</td>\n",
       "      <td>0.352273</td>\n",
       "      <td>0.345427</td>\n",
       "      <td>NaN</td>\n",
       "      <td>amilcar32</td>\n",
       "      <td>29</td>\n",
       "      <td>2023-10-30 04:10:00.800748</td>\n",
       "      <td>modelo_1860_mul_s_RF_LR_L2.pkl</td>\n",
       "      <td>{'selector__max_features': 500, 'selector__est...</td>\n",
       "      <td>X_test:(52, 18875)</td>\n",
       "      <td>['ENSG00000002933.9', 'ENSG00000004776.13', 'E...</td>\n",
       "      <td>0.792869</td>\n",
       "      <td>[0.565410199556541, 0.8863636363636365, 0.7301...</td>\n",
       "      <td>[0.05555555555555555, 0.5, 0.07692307692307693...</td>\n",
       "    </tr>\n",
       "    <tr>\n",
       "      <th>0</th>\n",
       "      <td>mul_s</td>\n",
       "      <td>RF</td>\n",
       "      <td>LR_L1</td>\n",
       "      <td>1860</td>\n",
       "      <td>0.423077</td>\n",
       "      <td>0.444388</td>\n",
       "      <td>0.403139</td>\n",
       "      <td>0.406450</td>\n",
       "      <td>NaN</td>\n",
       "      <td>amilcar32</td>\n",
       "      <td>670</td>\n",
       "      <td>2023-10-30 04:09:24.437717</td>\n",
       "      <td>modelo_1860_mul_s_RF_LR_L1.pkl</td>\n",
       "      <td>{'selector__max_features': 500, 'selector__est...</td>\n",
       "      <td>X_test:(52, 18875)</td>\n",
       "      <td>['ENSG00000001617.12', 'ENSG00000005381.9', 'E...</td>\n",
       "      <td>0.803848</td>\n",
       "      <td>[0.6141906873614191, 0.8465909090909092, 0.670...</td>\n",
       "      <td>[0.19047619047619047, 0.3333333333333333, 0.18...</td>\n",
       "    </tr>\n",
       "    <tr>\n",
       "      <th>0</th>\n",
       "      <td>mul_s</td>\n",
       "      <td>RF</td>\n",
       "      <td>LR_EN</td>\n",
       "      <td>1860</td>\n",
       "      <td>0.461538</td>\n",
       "      <td>0.472635</td>\n",
       "      <td>0.472186</td>\n",
       "      <td>0.446422</td>\n",
       "      <td>NaN</td>\n",
       "      <td>amilcar32</td>\n",
       "      <td>541</td>\n",
       "      <td>2023-10-30 03:58:08.340374</td>\n",
       "      <td>modelo_1860_mul_s_RF_LR_EN.pkl</td>\n",
       "      <td>{'selector__max_features': 500, 'selector__est...</td>\n",
       "      <td>X_test:(52, 18875)</td>\n",
       "      <td>['ENSG00000002933.9', 'ENSG00000006118.15', 'E...</td>\n",
       "      <td>0.810614</td>\n",
       "      <td>[0.6829268292682926, 0.8409090909090909, 0.724...</td>\n",
       "      <td>[0.25, 0.3333333333333333, 0.1, 0.2, 0.7, 0.36...</td>\n",
       "    </tr>\n",
       "  </tbody>\n",
       "</table>\n",
       "</div>"
      ],
      "text/plain": [
       "    tipo select clasific  semilla  accuracy  precision    recall  f1_score  \\\n",
       "0  mul_s     RF    LR_L2     1860  0.346154   0.374320  0.352273  0.345427   \n",
       "0  mul_s     RF    LR_L1     1860  0.423077   0.444388  0.403139  0.406450   \n",
       "0  mul_s     RF    LR_EN     1860  0.461538   0.472635  0.472186  0.446422   \n",
       "\n",
       "   roc_auc   hostname  total_time_sec                    datetime  \\\n",
       "0      NaN  amilcar32              29  2023-10-30 04:10:00.800748   \n",
       "0      NaN  amilcar32             670  2023-10-30 04:09:24.437717   \n",
       "0      NaN  amilcar32             541  2023-10-30 03:58:08.340374   \n",
       "\n",
       "                   fichero_modelo  \\\n",
       "0  modelo_1860_mul_s_RF_LR_L2.pkl   \n",
       "0  modelo_1860_mul_s_RF_LR_L1.pkl   \n",
       "0  modelo_1860_mul_s_RF_LR_EN.pkl   \n",
       "\n",
       "                                              params               shape  \\\n",
       "0  {'selector__max_features': 500, 'selector__est...  X_test:(52, 18875)   \n",
       "0  {'selector__max_features': 500, 'selector__est...  X_test:(52, 18875)   \n",
       "0  {'selector__max_features': 500, 'selector__est...  X_test:(52, 18875)   \n",
       "\n",
       "                                            features  roc_auc_ovr  \\\n",
       "0  ['ENSG00000002933.9', 'ENSG00000004776.13', 'E...     0.792869   \n",
       "0  ['ENSG00000001617.12', 'ENSG00000005381.9', 'E...     0.803848   \n",
       "0  ['ENSG00000002933.9', 'ENSG00000006118.15', 'E...     0.810614   \n",
       "\n",
       "                                         indices_auc  \\\n",
       "0  [0.565410199556541, 0.8863636363636365, 0.7301...   \n",
       "0  [0.6141906873614191, 0.8465909090909092, 0.670...   \n",
       "0  [0.6829268292682926, 0.8409090909090909, 0.724...   \n",
       "\n",
       "                                     indices_jaccard  \n",
       "0  [0.05555555555555555, 0.5, 0.07692307692307693...  \n",
       "0  [0.19047619047619047, 0.3333333333333333, 0.18...  \n",
       "0  [0.25, 0.3333333333333333, 0.1, 0.2, 0.7, 0.36...  "
      ]
     },
     "metadata": {},
     "output_type": "display_data"
    }
   ],
   "source": [
    "if M_TIPO.startswith(\"bin\"):\n",
    "    myfunc.save_metricas_to_csv(random_search, X_test, y_test, M_TIPO, M_SELECT, M_CLASIF, total_time, SEMILLA, myfunc.MET_DIR, M_FICHERO, fichero_modelo)\n",
    "else:\n",
    "    myfunc.save_metricas_multi_to_csv(random_search, X_test, y_test, M_TIPO, M_SELECT, M_CLASIF, total_time, SEMILLA, myfunc.MET_DIR, M_FICHERO, fichero_modelo)\n",
    "\n",
    "df1=myfunc.read_metricas_to_df(myfunc.MET_DIR,M_FICHERO)\n",
    "\n",
    "display(df1.sort_values(\"datetime\", ascending=False)[:3])\n"
   ]
  },
  {
   "cell_type": "markdown",
   "id": "c017a9d8",
   "metadata": {
    "papermill": {
     "duration": 0.0,
     "end_time": "2023-10-30T03:10:00.909213",
     "exception": false,
     "start_time": "2023-10-30T03:10:00.909213",
     "status": "completed"
    },
    "tags": []
   },
   "source": [
    "#### Guardar resultados"
   ]
  },
  {
   "cell_type": "code",
   "execution_count": 13,
   "id": "09bc1373",
   "metadata": {
    "execution": {
     "iopub.execute_input": "2023-10-30T03:10:00.956684Z",
     "iopub.status.busy": "2023-10-30T03:10:00.956684Z",
     "iopub.status.idle": "2023-10-30T03:10:00.987962Z",
     "shell.execute_reply": "2023-10-30T03:10:00.987962Z"
    },
    "papermill": {
     "duration": 0.046993,
     "end_time": "2023-10-30T03:10:00.987962",
     "exception": false,
     "start_time": "2023-10-30T03:10:00.940969",
     "status": "completed"
    },
    "tags": []
   },
   "outputs": [
    {
     "name": "stdout",
     "output_type": "stream",
     "text": [
      "20231030T041000 : amilcar32 : INFO : Inicio guardar resultados\n",
      "20231030T041000 : amilcar32 : INFO : Inicio guardar fichero ..\\tfm_viu\\ejecuciones\\metricas\\resultados_1860_mul_s-RF-LR_L2.csv\n",
      "20231030T041000 : amilcar32 : INFO : Fin guardar fichero ..\\tfm_viu\\ejecuciones\\metricas\\resultados_1860_mul_s-RF-LR_L2.csv\n",
      "20231030T041000 : amilcar32 : INFO : Fin guardar resultados\n"
     ]
    }
   ],
   "source": [
    "fichero_resultados=R_FICHERO+\"_\"+M_TIPO+\"-\"+M_SELECT+\"-\"+M_CLASIF+\".csv\"\n",
    "myfunc.save_resultados_to_csv(M_TIPO, M_SELECT, M_CLASIF,  random_search, myfunc.MET_DIR, fichero_resultados)\n"
   ]
  }
 ],
 "metadata": {
  "kernelspec": {
   "display_name": "Python 3 (ipykernel)",
   "language": "python",
   "name": "python3"
  },
  "language_info": {
   "codemirror_mode": {
    "name": "ipython",
    "version": 3
   },
   "file_extension": ".py",
   "mimetype": "text/x-python",
   "name": "python",
   "nbconvert_exporter": "python",
   "pygments_lexer": "ipython3",
   "version": "3.10.12"
  },
  "papermill": {
   "default_parameters": {},
   "duration": 35.723141,
   "end_time": "2023-10-30T03:10:02.245398",
   "environment_variables": {},
   "exception": null,
   "input_path": "03_entrenamiento.ipynb",
   "output_path": "ejecuciones\\training\\03_entrenamiento.20231030T_40925.param_0000_1860_mul_s_RF_LR_L2.output.ipynb",
   "parameters": {
    "MAX_ITERS": 500,
    "M_CLASIF": "LR_L2",
    "M_FICHERO": "metricas_1860",
    "M_SELECT": "RF",
    "M_TIPO": "mul_s",
    "PRE_DATA_FILE": "rows_transpose_norm_by_gene_id_with_target_num_",
    "P_FICHERO": "param_0000_1860_mul_s_RF_LR_L2.yaml",
    "R_FICHERO": "resultados_1860",
    "SCORING": "roc_auc_ovr",
    "SEMILLA": 1860,
    "eval_clasifier": "LogisticRegressionCV(random_state=SEMILLA)",
    "eval_selector": "SelectFromModel(estimator=RandomForestClassifier(random_state=SEMILLA), threshold=-np.inf)",
    "param_distributions": {
     "clasifier__max_iter": [
      10000
     ],
     "clasifier__penalty": [
      "l2"
     ],
     "clasifier__solver": [
      "lbfgs"
     ],
     "selector__estimator__n_estimators": [
      200
     ],
     "selector__max_features": [
      500
     ]
    }
   },
   "start_time": "2023-10-30T03:09:26.522257",
   "version": "2.4.0"
  }
 },
 "nbformat": 4,
 "nbformat_minor": 5
}