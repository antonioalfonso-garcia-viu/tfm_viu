{
 "cells": [
  {
   "cell_type": "markdown",
   "id": "37c3c3cf",
   "metadata": {
    "papermill": {
     "duration": 0.0,
     "end_time": "2023-10-30T10:35:36.715127",
     "exception": false,
     "start_time": "2023-10-30T10:35:36.715127",
     "status": "completed"
    },
    "tags": []
   },
   "source": [
    "##### Inicio"
   ]
  },
  {
   "cell_type": "markdown",
   "id": "475a4293",
   "metadata": {
    "papermill": {
     "duration": 0.0,
     "end_time": "2023-10-30T10:35:36.730574",
     "exception": false,
     "start_time": "2023-10-30T10:35:36.730574",
     "status": "completed"
    },
    "tags": []
   },
   "source": [
    "#### Carga de datos"
   ]
  },
  {
   "cell_type": "code",
   "execution_count": 1,
   "id": "85410a13",
   "metadata": {
    "execution": {
     "iopub.execute_input": "2023-10-30T10:35:36.730574Z",
     "iopub.status.busy": "2023-10-30T10:35:36.730574Z",
     "iopub.status.idle": "2023-10-30T10:35:37.894252Z",
     "shell.execute_reply": "2023-10-30T10:35:37.894252Z"
    },
    "papermill": {
     "duration": 1.163678,
     "end_time": "2023-10-30T10:35:37.894252",
     "exception": false,
     "start_time": "2023-10-30T10:35:36.730574",
     "status": "completed"
    },
    "tags": []
   },
   "outputs": [
    {
     "name": "stdout",
     "output_type": "stream",
     "text": [
      "CPU_COUNT: 24; NODE: amilcar32; sys.version: 3.10.12 | packaged by Anaconda, Inc. | (main, Jul  5 2023, 19:09:20) [MSC v.1916 64 bit (AMD64)]\n",
      "LOKY_MAX_CPU_COUNT is not set.\n",
      "OMP_NUM_THREADS is not set.\n"
     ]
    }
   ],
   "source": [
    "import os\n",
    "import numpy as np\n",
    "import pandas as pd\n",
    "import datetime\n",
    "import sklearn\n",
    "import logging\n",
    "import warnings\n",
    "\n",
    "from sklearn.pipeline import Pipeline\n",
    "from sklearn.model_selection import RandomizedSearchCV, KFold, cross_val_score, train_test_split\n",
    "from sklearn.metrics import accuracy_score, confusion_matrix, classification_report, roc_auc_score\n",
    "\n",
    "#  cargar algoritmos para aprendizaje supervisado\n",
    "from sklearn.feature_selection import SelectKBest, f_classif, SelectFromModel, mutual_info_classif\n",
    "from sklearn.svm import SVC\n",
    "from sklearn.ensemble import RandomForestClassifier\n",
    "from sklearn.linear_model import LogisticRegression,LogisticRegressionCV\n",
    "\n",
    "# importar fichero con utilidades propias\n",
    "from commons import myfunctions as myfunc\n"
   ]
  },
  {
   "cell_type": "markdown",
   "id": "dcc3360b",
   "metadata": {
    "papermill": {
     "duration": 0.0,
     "end_time": "2023-10-30T10:35:37.897270",
     "exception": false,
     "start_time": "2023-10-30T10:35:37.897270",
     "status": "completed"
    },
    "tags": []
   },
   "source": [
    "#### Parámetros a utilizar en el entrenamiento.\n",
    "\n",
    "Se indican los 3 algoritmos de *selección de características* (eval_selector_xxx) y los 3 algoritmos para la _clasificación_ (eval_clasifier_xxx)\n",
    "\n",
    "En *param_distributions* se indicar los parámetros que utilizan los algoritmos en la función RandomSearchCV.\n",
    "\n",
    "Esta celda tiene la etiqueta **parameters** que servirá para poder lanzar los entrenamientos con la utilidad **papermill** pasándole un fichero con los parámetros. Los nuevos parámetros se situarán tras esta celda para tener prevalencia."
   ]
  },
  {
   "cell_type": "code",
   "execution_count": 2,
   "id": "b9e7b0c0",
   "metadata": {
    "execution": {
     "iopub.execute_input": "2023-10-30T10:35:37.910287Z",
     "iopub.status.busy": "2023-10-30T10:35:37.910287Z",
     "iopub.status.idle": "2023-10-30T10:35:37.926001Z",
     "shell.execute_reply": "2023-10-30T10:35:37.926001Z"
    },
    "papermill": {
     "duration": 0.028731,
     "end_time": "2023-10-30T10:35:37.926001",
     "exception": false,
     "start_time": "2023-10-30T10:35:37.897270",
     "status": "completed"
    },
    "tags": [
     "parameters"
    ]
   },
   "outputs": [
    {
     "name": "stdout",
     "output_type": "stream",
     "text": [
      "20231030T113537 : amilcar32 : INFO : Utilizando parámetros de mul_m\n"
     ]
    }
   ],
   "source": [
    "#  Parametros para el entrenamiento\n",
    "\n",
    "SEMILLA=        42\n",
    "M_TIPO=         \"mul_m\"\n",
    "M_SELECT=       \"MI\"\n",
    "M_CLASIF=       \"SVM\"\n",
    "R_FICHERO=      \"resultados\"\n",
    "M_FICHERO=      \"metricas\"\n",
    "PRE_DATA_FILE=  \"rows_transpose_norm_by_gene_id_with_target_num_\"\n",
    "SCORING=        \"roc_auc_ovr\" \n",
    "MAX_ITERS=      100\n",
    "\n",
    "def mutual_info_classif_state(X, y):\n",
    "    return mutual_info_classif(X, y, random_state=SEMILLA)\n",
    "\n",
    "eval_selector_mi = \"SelectKBest(score_func=mutual_info_classif_state)\"\n",
    "eval_selector_rf=  \"SelectFromModel(estimator=RandomForestClassifier(random_state=SEMILLA), threshold=-np.inf)\"\n",
    "eval_selector_anova=  \"SelectKBest(score_func=f_classif)\"\n",
    "\n",
    "eval_clasifier_svm= \"SVC(probability=True, random_state=SEMILLA)\"\n",
    "eval_clasifier_rf= \"RandomForestClassifier(random_state=SEMILLA)\"\n",
    "eval_clasifier_lr= \"LogisticRegressionCV(random_state=SEMILLA)\"\n",
    "\n",
    "if M_TIPO.startswith(\"bin_m\"):\n",
    "    myfunc.verbose(f\"Utilizando parámetros de {M_TIPO}\")\n",
    "    eval_selector = eval_selector_mi\n",
    "    eval_clasifier = eval_clasifier_svm\n",
    "\n",
    "    SEMILLA = 6578\n",
    "    M_SELECT = \"MI\"\n",
    "    M_CLASIF = \"SVM\"\n",
    "    param_distributions = {'selector__k': [1000], \n",
    "         'clasifier__kernel': ['rbf'], 'clasifier__gamma': [0.01], 'clasifier__C': [100]}\n",
    "elif M_TIPO.startswith(\"bin_s\"):\n",
    "    myfunc.verbose(f\"Utilizando parámetros de {M_TIPO}\")\n",
    "    eval_selector = eval_selector_rf\n",
    "    eval_clasifier = eval_clasifier_lr\n",
    "\n",
    "    SEMILLA = 6191\n",
    "    M_SELECT = \"RF\"\n",
    "    M_CLASIF = \"LR_L2\"\n",
    "    param_distributions = {'selector__max_features': [1000], 'selector__estimator__n_estimators': [200], \n",
    "        'clasifier__solver': ['lbfgs'], 'clasifier__penalty': ['l2'], 'clasifier__max_iter': [10000]}\n",
    "\n",
    "elif M_TIPO.startswith(\"mul_m\"):\n",
    "    myfunc.verbose(f\"Utilizando parámetros de {M_TIPO}\")\n",
    " \n",
    "    eval_selector = eval_selector_rf\n",
    "    eval_clasifier = eval_clasifier_lr\n",
    "\n",
    "    SEMILLA = 6191\n",
    "    M_SELECT = \"RF\"\n",
    "    M_CLASIF = \"LR_L2\"\n",
    "    param_distributions = {'selector__max_features': [1000], 'selector__estimator__n_estimators': [400], \n",
    "        'clasifier__solver': ['lbfgs'], 'clasifier__penalty': ['l2'], 'clasifier__max_iter': [10000]}\n",
    "\n",
    "else:\n",
    "    # M_TIPO.startswith(\"mul_s\"):\n",
    "    myfunc.verbose(f\"Utilizando parámetros de {M_TIPO}\")\n",
    "    eval_selector = eval_selector_anova\n",
    "    eval_clasifier = eval_clasifier_lr\n",
    "\n",
    "    SEMILLA = 1860\n",
    "    M_SELECT = \"ANOVA\"\n",
    "    M_CLASIF = \"LR_L2\"\n",
    "    param_distributions = {'selector__k': [1000], \n",
    "        'clasifier__solver': ['saga'], 'clasifier__penalty': ['l2'], 'clasifier__max_iter': [10000]}\n",
    "\n"
   ]
  },
  {
   "cell_type": "code",
   "execution_count": 3,
   "id": "7ac44132",
   "metadata": {
    "execution": {
     "iopub.execute_input": "2023-10-30T10:35:37.926001Z",
     "iopub.status.busy": "2023-10-30T10:35:37.926001Z",
     "iopub.status.idle": "2023-10-30T10:35:37.941630Z",
     "shell.execute_reply": "2023-10-30T10:35:37.941630Z"
    },
    "papermill": {
     "duration": 0.015629,
     "end_time": "2023-10-30T10:35:37.941630",
     "exception": false,
     "start_time": "2023-10-30T10:35:37.926001",
     "status": "completed"
    },
    "tags": [
     "injected-parameters"
    ]
   },
   "outputs": [],
   "source": [
    "# Parameters\n",
    "M_TIPO = \"mul_s\"\n",
    "M_SELECT = \"ANOVA\"\n",
    "M_CLASIF = \"LR_L1\"\n",
    "P_FICHERO = \"param_0000_5426_mul_s_ANOVA_LR_L1.yaml\"\n",
    "R_FICHERO = \"resultados_5426\"\n",
    "M_FICHERO = \"metricas_5426\"\n",
    "PRE_DATA_FILE = \"rows_transpose_norm_by_gene_id_with_target_num_\"\n",
    "SCORING = \"roc_auc_ovr\"\n",
    "SEMILLA = 5426\n",
    "MAX_ITERS = 500\n",
    "eval_selector = \"SelectKBest(score_func=f_classif)\"\n",
    "eval_clasifier = \"LogisticRegressionCV(random_state=SEMILLA)\"\n",
    "param_distributions = {\n",
    "    \"selector__k\": [1000],\n",
    "    \"clasifier__solver\": [\"saga\"],\n",
    "    \"clasifier__penalty\": [\"l1\"],\n",
    "    \"clasifier__max_iter\": [10000],\n",
    "}\n"
   ]
  },
  {
   "cell_type": "code",
   "execution_count": 4,
   "id": "c370c3cb",
   "metadata": {
    "execution": {
     "iopub.execute_input": "2023-10-30T10:35:37.941630Z",
     "iopub.status.busy": "2023-10-30T10:35:37.941630Z",
     "iopub.status.idle": "2023-10-30T10:35:37.957173Z",
     "shell.execute_reply": "2023-10-30T10:35:37.957173Z"
    },
    "papermill": {
     "duration": 0.015543,
     "end_time": "2023-10-30T10:35:37.957173",
     "exception": false,
     "start_time": "2023-10-30T10:35:37.941630",
     "status": "completed"
    },
    "tags": []
   },
   "outputs": [],
   "source": [
    "DATA_FILE = PRE_DATA_FILE + M_TIPO\n",
    "\n",
    "# si viene \"None\" en el parámetro max_depth, se le quitan las comillas para que no sea entendido por el algoritmo como un texto\n",
    "if \"clasifier__max_depth\" in param_distributions:\n",
    "    param_distributions['clasifier__max_depth'] = [None if x == 'None' else x for x in param_distributions['clasifier__max_depth']]"
   ]
  },
  {
   "cell_type": "markdown",
   "id": "b155be75",
   "metadata": {
    "papermill": {
     "duration": 0.0,
     "end_time": "2023-10-30T10:35:37.957173",
     "exception": false,
     "start_time": "2023-10-30T10:35:37.957173",
     "status": "completed"
    },
    "tags": []
   },
   "source": [
    "Asignar los algoritmos que se utilizarán en la función RandomSearchCV"
   ]
  },
  {
   "cell_type": "code",
   "execution_count": 5,
   "id": "7499ba15",
   "metadata": {
    "execution": {
     "iopub.execute_input": "2023-10-30T10:35:37.957173Z",
     "iopub.status.busy": "2023-10-30T10:35:37.957173Z",
     "iopub.status.idle": "2023-10-30T10:35:37.989068Z",
     "shell.execute_reply": "2023-10-30T10:35:37.989068Z"
    },
    "papermill": {
     "duration": 0.031895,
     "end_time": "2023-10-30T10:35:37.989068",
     "exception": false,
     "start_time": "2023-10-30T10:35:37.957173",
     "status": "completed"
    },
    "tags": []
   },
   "outputs": [],
   "source": [
    "algor_selector=eval(eval_selector)\n",
    "algor_clasifier=eval(eval_clasifier)"
   ]
  },
  {
   "cell_type": "markdown",
   "id": "dc836d2d",
   "metadata": {
    "papermill": {
     "duration": 0.008586,
     "end_time": "2023-10-30T10:35:37.997654",
     "exception": false,
     "start_time": "2023-10-30T10:35:37.989068",
     "status": "completed"
    },
    "tags": []
   },
   "source": [
    "#### Comprobar el entorno y leer fichero de muestras"
   ]
  },
  {
   "cell_type": "code",
   "execution_count": 6,
   "id": "db7187fe",
   "metadata": {
    "execution": {
     "iopub.execute_input": "2023-10-30T10:35:37.997654Z",
     "iopub.status.busy": "2023-10-30T10:35:37.997654Z",
     "iopub.status.idle": "2023-10-30T10:35:38.131293Z",
     "shell.execute_reply": "2023-10-30T10:35:38.131293Z"
    },
    "papermill": {
     "duration": 0.133639,
     "end_time": "2023-10-30T10:35:38.131293",
     "exception": false,
     "start_time": "2023-10-30T10:35:37.997654",
     "status": "completed"
    },
    "tags": []
   },
   "outputs": [
    {
     "name": "stdout",
     "output_type": "stream",
     "text": [
      "20231030T113538 : amilcar32 : INFO : Encontrada carpeta DATA_DIR=..\\tfm_viu\\datos\n",
      "20231030T113538 : amilcar32 : INFO : Encontrada carpeta CFDNA_DIR=..\\tfm_viu\\datos\\cfDNA_5hmC\n",
      "20231030T113538 : amilcar32 : INFO : Encontrada carpeta GENCODE_DIR=..\\tfm_viu\\datos\\gencode\n",
      "20231030T113538 : amilcar32 : INFO : Encontrada carpeta H5_DIR=..\\tfm_viu\\datos\\h5\n",
      "20231030T113538 : amilcar32 : INFO : Encontrada carpeta LOG_DIR=..\\tfm_viu\\datos\\logs\n",
      "20231030T113538 : amilcar32 : INFO : Encontrada carpeta CSV_DIR=..\\tfm_viu\\datos\\csv\n",
      "20231030T113538 : amilcar32 : INFO : Encontrada carpeta MODEL_DIR=..\\tfm_viu\\ejecuciones\\modelos\n",
      "20231030T113538 : amilcar32 : INFO : Encontrada carpeta EXEC_DIR=..\\tfm_viu\\ejecuciones\n",
      "20231030T113538 : amilcar32 : INFO : Encontrada carpeta MET_DIR=..\\tfm_viu\\ejecuciones\\metricas\n",
      "20231030T113538 : amilcar32 : INFO : Inicio leer fichero h5 ..\\tfm_viu\\datos\\h5\\rows_transpose_norm_by_gene_id_with_target_num_mul_s.h5\n",
      "20231030T113538 : amilcar32 : INFO : Leyendo clave /df\n"
     ]
    },
    {
     "name": "stdout",
     "output_type": "stream",
     "text": [
      "20231030T113538 : amilcar32 : INFO : Tamaño (259, 18876)\n",
      "20231030T113538 : amilcar32 : INFO : Fin leer fichero h5 ..\\tfm_viu\\datos\\h5\\rows_transpose_norm_by_gene_id_with_target_num_mul_s.h5\n"
     ]
    },
    {
     "data": {
      "text/plain": [
       "target\n",
       "0    37\n",
       "1    37\n",
       "2    37\n",
       "3    37\n",
       "4    37\n",
       "5    37\n",
       "6    37\n",
       "dtype: int64"
      ]
     },
     "metadata": {},
     "output_type": "display_data"
    },
    {
     "name": "stdout",
     "output_type": "stream",
     "text": [
      "Shape df: (259, 18876)\n"
     ]
    },
    {
     "name": "stdout",
     "output_type": "stream",
     "text": [
      "Shape X_train: (207, 18875)\n",
      "Shape X_test: (52, 18875)\n"
     ]
    }
   ],
   "source": [
    "start_time = datetime.datetime.now()\n",
    "\n",
    "myfunc.reset_vars()\n",
    "\n",
    "myfunc.NOTEBK_FILENAME = myfunc.get_nb_name()\n",
    "\n",
    "myfunc.check_enviroment(myfunc.DATA_DIR, myfunc.CFDNA_DIR, myfunc.GENCODE_DIR, myfunc.H5_DIR, myfunc.LOG_DIR, myfunc.CSV_DIR, myfunc.MODEL_DIR, myfunc.EXEC_DIR, myfunc.MET_DIR)\n",
    "\n",
    "# Leer fichero con las muestras\n",
    "df_t = myfunc.read_h5_to_df(DATA_FILE, myfunc.H5_DIR)\n",
    "display(df_t.groupby(\"target\").size())\n",
    "print(\"Shape df:\",df_t.shape)\n",
    "\n",
    "# Separar caracteristicas/genes de las etiquetas/tipos de cáncer\n",
    "X = df_t.iloc[:, :-1]  # Todas las columnas excepto la última\n",
    "y = df_t.iloc[:, -1]  # La última columna contiene los identificadores de los tipos de cáncer\n",
    "\n",
    "#  Crear el conjunto de datos de entrenamiento y de pruebas, y se fija la semilla para siempre coger el mismo juego de muestras\n",
    "X_train, X_test, y_train, y_test = train_test_split(X, y, test_size=0.2, shuffle=True, random_state=42)\n",
    "print(\"Shape X_train:\",X_train.shape)\n",
    "print(\"Shape X_test:\",X_test.shape)\n"
   ]
  },
  {
   "cell_type": "markdown",
   "id": "de603bea",
   "metadata": {
    "papermill": {
     "duration": 0.0,
     "end_time": "2023-10-30T10:35:38.131293",
     "exception": false,
     "start_time": "2023-10-30T10:35:38.131293",
     "status": "completed"
    },
    "tags": []
   },
   "source": [
    "#### Selección de características y clasificación."
   ]
  },
  {
   "cell_type": "code",
   "execution_count": 7,
   "id": "c7c9878f",
   "metadata": {
    "execution": {
     "iopub.execute_input": "2023-10-30T10:35:38.146876Z",
     "iopub.status.busy": "2023-10-30T10:35:38.146876Z",
     "iopub.status.idle": "2023-10-30T11:02:10.376099Z",
     "shell.execute_reply": "2023-10-30T11:02:10.376099Z"
    },
    "papermill": {
     "duration": 1592.26044,
     "end_time": "2023-10-30T11:02:10.391733",
     "exception": false,
     "start_time": "2023-10-30T10:35:38.131293",
     "status": "completed"
    },
    "tags": []
   },
   "outputs": [
    {
     "name": "stdout",
     "output_type": "stream",
     "text": [
      "20231030T113538 : amilcar32 : INFO : Iniciando entrenamiento\n",
      "num_iter: 1 , max_iter: 1\n",
      "Fitting 5 folds for each of 1 candidates, totalling 5 fits\n"
     ]
    },
    {
     "name": "stderr",
     "output_type": "stream",
     "text": [
      "C:\\Users\\viu\\miniconda3\\lib\\site-packages\\sklearn\\feature_selection\\_univariate_selection.py:112: UserWarning: Features [  298  1508  1733  1846  2010  2222  2265  2266  2553  2688  2802  2803\n",
      "  2833  2896  3248  3415  3492  4075  5803  6053  6981  6984  7418  8508\n",
      "  8510  8513  8890  9087  9490 10475 11020 11613 11943 12249 12480 12831\n",
      " 13235 13259 13836 13959 14000 14015 14244 14245 14451 14789 14795 14941\n",
      " 15515 15563 15824 15874 16258 16267 16268 16281 16287 16313 16323 16350\n",
      " 16372 16630 16701 16905 16906 16968 17047 17091 17093 17231 17264 17274\n",
      " 17300 17312 17540 18350 18368 18374 18375 18405 18486 18592 18692 18868] are constant.\n",
      "  warnings.warn(\"Features %s are constant.\" % constant_features_idx, UserWarning)\n",
      "C:\\Users\\viu\\miniconda3\\lib\\site-packages\\sklearn\\feature_selection\\_univariate_selection.py:113: RuntimeWarning: invalid value encountered in divide\n",
      "  f = msb / msw\n"
     ]
    },
    {
     "name": "stdout",
     "output_type": "stream",
     "text": [
      "Mejores Hiperparámetros: {'selector__k': 1000, 'clasifier__solver': 'saga', 'clasifier__penalty': 'l1', 'clasifier__max_iter': 10000}\n",
      "Mejor Puntuación: 0.7964\n",
      "20231030T120210 : amilcar32 : INFO : Fin entrenamiento\n"
     ]
    }
   ],
   "source": [
    "myfunc.verbose(\"Iniciando entrenamiento\")\n",
    "\n",
    "kf = KFold(n_splits=5, shuffle=True, random_state=SEMILLA)\n",
    "\n",
    "# Crear el pipeline para el flujo de tareas\n",
    "tasks_pipeline = Pipeline([\n",
    "    ('selector', algor_selector),\n",
    "    ('clasifier', algor_clasifier)\n",
    "])\n",
    "\n",
    "# MAX_ITERS puede limitar el número de iteraciones si son excesivas para las combinaciones de parámetros buscando un óptimo local, \n",
    "# sino funcionaría como GridSearchCV al revisar todas las cominaciones de los parámetros\n",
    "num_iteraciones = 1\n",
    "num_iteraciones = num_iteraciones * np.prod([len(elemento1) for _, elemento1 in param_distributions.items()])\n",
    "max_iteraciones = num_iteraciones if num_iteraciones <= MAX_ITERS else MAX_ITERS\n",
    "print(\"num_iter:\",num_iteraciones,\", max_iter:\",max_iteraciones)\n",
    "\n",
    "random_search = RandomizedSearchCV(\n",
    "    tasks_pipeline, \n",
    "    param_distributions, \n",
    "    n_iter=max_iteraciones,\n",
    "    scoring=SCORING,\n",
    "    cv=kf,\n",
    "    verbose=3, \n",
    "    random_state=SEMILLA, \n",
    "    n_jobs=-1\n",
    "    )\n",
    "\n",
    "# Entrenar el modelo\n",
    "random_search.fit(X_train, y_train)\n",
    "\n",
    "# Ver los mejores hiperparámetros encontrados\n",
    "print(f'Mejores Hiperparámetros: {random_search.best_params_}')\n",
    "print(f'Mejor Puntuación: {random_search.best_score_:.4f}')\n",
    "\n",
    "# Nos quedamos con el mejor modelo para ver las métricas\n",
    "mejor_modelo = random_search.best_estimator_\n",
    "\n",
    "myfunc.verbose(\"Fin entrenamiento\")"
   ]
  },
  {
   "cell_type": "markdown",
   "id": "1a72d229",
   "metadata": {
    "papermill": {
     "duration": 0.018024,
     "end_time": "2023-10-30T11:02:10.409757",
     "exception": false,
     "start_time": "2023-10-30T11:02:10.391733",
     "status": "completed"
    },
    "tags": []
   },
   "source": [
    "#### Guardar modelo"
   ]
  },
  {
   "cell_type": "code",
   "execution_count": 8,
   "id": "6736b9d8",
   "metadata": {
    "execution": {
     "iopub.execute_input": "2023-10-30T11:02:10.423453Z",
     "iopub.status.busy": "2023-10-30T11:02:10.423453Z",
     "iopub.status.idle": "2023-10-30T11:02:10.454893Z",
     "shell.execute_reply": "2023-10-30T11:02:10.454893Z"
    },
    "papermill": {
     "duration": 0.03144,
     "end_time": "2023-10-30T11:02:10.454893",
     "exception": false,
     "start_time": "2023-10-30T11:02:10.423453",
     "status": "completed"
    },
    "tags": []
   },
   "outputs": [
    {
     "name": "stdout",
     "output_type": "stream",
     "text": [
      "20231030T120210 : amilcar32 : INFO : Inicio guardar fichero ..\\tfm_viu\\ejecuciones\\modelos\\modelo_5426_mul_s_ANOVA_LR_L1.pkl\n",
      "20231030T120210 : amilcar32 : INFO : Fin guardar fichero ..\\tfm_viu\\ejecuciones\\modelos\\modelo_5426_mul_s_ANOVA_LR_L1.pkl\n"
     ]
    }
   ],
   "source": [
    "fichero_modelo = str.replace(\"modelo_\"+str(SEMILLA).zfill(4)+\"_\"+M_TIPO+\"_\"+M_SELECT+\"_\"+M_CLASIF+\".pkl\", \" \", \"_\")\n",
    "\n",
    "myfunc.save_modelo(mejor_modelo, myfunc.MODEL_DIR, fichero_modelo)"
   ]
  },
  {
   "cell_type": "markdown",
   "id": "59fcb443",
   "metadata": {
    "papermill": {
     "duration": 0.015623,
     "end_time": "2023-10-30T11:02:10.486043",
     "exception": false,
     "start_time": "2023-10-30T11:02:10.470420",
     "status": "completed"
    },
    "tags": []
   },
   "source": [
    "#### Ver resultados del las iteraciones hechas por RandomSearchCV"
   ]
  },
  {
   "cell_type": "code",
   "execution_count": 9,
   "id": "b074d6f0",
   "metadata": {
    "execution": {
     "iopub.execute_input": "2023-10-30T11:02:10.501679Z",
     "iopub.status.busy": "2023-10-30T11:02:10.501679Z",
     "iopub.status.idle": "2023-10-30T11:02:10.519516Z",
     "shell.execute_reply": "2023-10-30T11:02:10.517421Z"
    },
    "papermill": {
     "duration": 0.033473,
     "end_time": "2023-10-30T11:02:10.519516",
     "exception": false,
     "start_time": "2023-10-30T11:02:10.486043",
     "status": "completed"
    },
    "tags": []
   },
   "outputs": [
    {
     "name": "stdout",
     "output_type": "stream",
     "text": [
      "20231030T120210 : amilcar32 : INFO : Inicio ver resultados\n",
      "Mejores Hiperparámetros: {'selector__k': 1000, 'clasifier__solver': 'saga', 'clasifier__penalty': 'l1', 'clasifier__max_iter': 10000}\n",
      "Mejores puntuaciones: 0.7964 | Params: {'selector__k': 1000, 'clasifier__solver': 'saga', 'clasifier__penalty': 'l1', 'clasifier__max_iter': 10000}\n",
      "Media de las puntuaciones: 0.7964 | Params: {'selector__k': 1000, 'clasifier__solver': 'saga', 'clasifier__penalty': 'l1', 'clasifier__max_iter': 10000}\n",
      "20231030T120210 : amilcar32 : INFO : Fin resultados\n"
     ]
    }
   ],
   "source": [
    "myfunc.ver_resultados_search(random_search)"
   ]
  },
  {
   "cell_type": "markdown",
   "id": "c62486ff",
   "metadata": {
    "papermill": {
     "duration": 0.014097,
     "end_time": "2023-10-30T11:02:10.533613",
     "exception": false,
     "start_time": "2023-10-30T11:02:10.519516",
     "status": "completed"
    },
    "tags": []
   },
   "source": [
    "#### Ver métricas del mejor modelo"
   ]
  },
  {
   "cell_type": "code",
   "execution_count": 10,
   "id": "5f697da8",
   "metadata": {
    "execution": {
     "iopub.execute_input": "2023-10-30T11:02:10.550428Z",
     "iopub.status.busy": "2023-10-30T11:02:10.550428Z",
     "iopub.status.idle": "2023-10-30T11:02:11.794953Z",
     "shell.execute_reply": "2023-10-30T11:02:11.794953Z"
    },
    "papermill": {
     "duration": 1.244525,
     "end_time": "2023-10-30T11:02:11.794953",
     "exception": false,
     "start_time": "2023-10-30T11:02:10.550428",
     "status": "completed"
    },
    "tags": []
   },
   "outputs": [
    {
     "name": "stdout",
     "output_type": "stream",
     "text": [
      "20231030T120210 : amilcar32 : INFO : Inicio ver métricas multiclase\n"
     ]
    },
    {
     "name": "stdout",
     "output_type": "stream",
     "text": [
      "              precision    recall  f1-score   support\n",
      "\n",
      "           0       0.56      0.45      0.50        11\n",
      "           1       0.60      0.38      0.46         8\n",
      "           2       0.17      0.12      0.14         8\n",
      "           3       0.00      0.00      0.00         5\n",
      "           4       0.80      1.00      0.89         8\n",
      "           5       0.43      0.50      0.46         6\n",
      "           6       0.45      0.83      0.59         6\n",
      "\n",
      "    accuracy                           0.48        52\n",
      "   macro avg       0.43      0.47      0.43        52\n",
      "weighted avg       0.46      0.48      0.46        52\n",
      "\n",
      "\n",
      "\n",
      "           Exactitud: 0.480769\n",
      "   Precisión (media): 0.429334\n",
      "      Recall (media): 0.469697\n",
      "    F1-score (media): 0.434723\n",
      "\n",
      "\n",
      "AUC para el tipo de cáncer 0-Control.... 0.6053\n",
      "AUC para el tipo de cáncer 1-Bladder.... 0.8608\n",
      "AUC para el tipo de cáncer 2-Breast..... 0.7216\n",
      "AUC para el tipo de cáncer 3-Colorectal. 0.6638\n",
      "AUC para el tipo de cáncer 4-Kidney..... 0.9545\n",
      "AUC para el tipo de cáncer 5-Lung....... 0.8841\n",
      "AUC para el tipo de cáncer 6-Prostate... 0.9674\n",
      "\n",
      "Media de AUC: 0.8082\n"
     ]
    },
    {
     "data": {
      "image/png": "[encoded data removed]",
      "text/plain": [
       "<Figure size 1000x600 with 1 Axes>"
      ]
     },
     "metadata": {},
     "output_type": "display_data"
    },
    {
     "name": "stdout",
     "output_type": "stream",
     "text": [
      "\n",
      "\n"
     ]
    },
    {
     "data": {
      "image/png": "[encoded data removed]",
      "text/plain": [
       "<Figure size 800x400 with 2 Axes>"
      ]
     },
     "metadata": {},
     "output_type": "display_data"
    },
    {
     "name": "stdout",
     "output_type": "stream",
     "text": [
      "\n",
      "\n",
      "Puntuación Jaccard para el cáncer tipo 0-Control.... 0.3333\n",
      "Puntuación Jaccard para el cáncer tipo 1-Bladder.... 0.3000\n",
      "Puntuación Jaccard para el cáncer tipo 2-Breast..... 0.0769\n",
      "Puntuación Jaccard para el cáncer tipo 3-Colorectal. 0.0000\n",
      "Puntuación Jaccard para el cáncer tipo 4-Kidney..... 0.8000\n",
      "Puntuación Jaccard para el cáncer tipo 5-Lung....... 0.3000\n",
      "Puntuación Jaccard para el cáncer tipo 6-Prostate... 0.4167\n",
      "\n",
      "Media de la puntuación de Jaccard: 0.3181\n"
     ]
    }
   ],
   "source": [
    "if M_TIPO.startswith(\"bin\"):\n",
    "    myfunc.ver_metricas(mejor_modelo, X_test, y_test)\n",
    "else:\n",
    "    myfunc.ver_metricas_multi(mejor_modelo, X_test, y_test)\n"
   ]
  },
  {
   "cell_type": "markdown",
   "id": "ab834586",
   "metadata": {
    "papermill": {
     "duration": 0.012592,
     "end_time": "2023-10-30T11:02:11.823058",
     "exception": false,
     "start_time": "2023-10-30T11:02:11.810466",
     "status": "completed"
    },
    "tags": []
   },
   "source": [
    "#### Finalización del notebook"
   ]
  },
  {
   "cell_type": "code",
   "execution_count": 11,
   "id": "4721a1a0",
   "metadata": {
    "execution": {
     "iopub.execute_input": "2023-10-30T11:02:11.842115Z",
     "iopub.status.busy": "2023-10-30T11:02:11.842115Z",
     "iopub.status.idle": "2023-10-30T11:02:11.857837Z",
     "shell.execute_reply": "2023-10-30T11:02:11.857837Z"
    },
    "papermill": {
     "duration": 0.025805,
     "end_time": "2023-10-30T11:02:11.857837",
     "exception": false,
     "start_time": "2023-10-30T11:02:11.832032",
     "status": "completed"
    },
    "tags": []
   },
   "outputs": [
    {
     "name": "stdout",
     "output_type": "stream",
     "text": [
      "20231030T120211 : amilcar32 : INFO : Notebook ha tardado 1593 seconds\n"
     ]
    }
   ],
   "source": [
    "end_time = datetime.datetime.now()\n",
    "total_time = end_time - start_time\n",
    "myfunc.verbose(f\"Notebook ha tardado {total_time.seconds} seconds\")"
   ]
  },
  {
   "cell_type": "markdown",
   "id": "d318b2f7",
   "metadata": {
    "papermill": {
     "duration": 0.015628,
     "end_time": "2023-10-30T11:02:11.889083",
     "exception": false,
     "start_time": "2023-10-30T11:02:11.873455",
     "status": "completed"
    },
    "tags": []
   },
   "source": [
    "#### Guardar métricas"
   ]
  },
  {
   "cell_type": "code",
   "execution_count": 12,
   "id": "a361e070",
   "metadata": {
    "execution": {
     "iopub.execute_input": "2023-10-30T11:02:11.923423Z",
     "iopub.status.busy": "2023-10-30T11:02:11.923423Z",
     "iopub.status.idle": "2023-10-30T11:02:12.518569Z",
     "shell.execute_reply": "2023-10-30T11:02:12.518569Z"
    },
    "papermill": {
     "duration": 0.619951,
     "end_time": "2023-10-30T11:02:12.524657",
     "exception": false,
     "start_time": "2023-10-30T11:02:11.904706",
     "status": "completed"
    },
    "tags": []
   },
   "outputs": [
    {
     "name": "stdout",
     "output_type": "stream",
     "text": [
      "20231030T120211 : amilcar32 : INFO : Inicio guardar métricas multiclase\n",
      "20231030T120211 : amilcar32 : INFO : Inicio leer fichero ..\\tfm_viu\\ejecuciones\\metricas\\metricas_5426.csv\n",
      "20231030T120211 : amilcar32 : INFO : Fin leer fichero ..\\tfm_viu\\ejecuciones\\metricas\\metricas_5426.csv\n"
     ]
    },
    {
     "name": "stdout",
     "output_type": "stream",
     "text": [
      "20231030T120212 : amilcar32 : INFO : Inicio guardar fichero ..\\tfm_viu\\ejecuciones\\metricas\\metricas_5426.csv\n",
      "20231030T120212 : amilcar32 : INFO : Fichero borrado ..\\tfm_viu\\ejecuciones\\metricas\\metricas_5426.csv\n",
      "20231030T120212 : amilcar32 : INFO : Fin guardar fichero ..\\tfm_viu\\ejecuciones\\metricas\\metricas_5426.csv\n",
      "20231030T120212 : amilcar32 : INFO : Fin guardar métricas multiclase\n",
      "20231030T120212 : amilcar32 : INFO : Inicio leer fichero ..\\tfm_viu\\ejecuciones\\metricas\\metricas_5426.csv\n",
      "20231030T120212 : amilcar32 : INFO : Fin leer fichero ..\\tfm_viu\\ejecuciones\\metricas\\metricas_5426.csv\n"
     ]
    },
    {
     "data": {
      "text/html": [
       "<div>\n",
       "<style scoped>\n",
       "    .dataframe tbody tr th:only-of-type {\n",
       "        vertical-align: middle;\n",
       "    }\n",
       "\n",
       "    .dataframe tbody tr th {\n",
       "        vertical-align: top;\n",
       "    }\n",
       "\n",
       "    .dataframe thead th {\n",
       "        text-align: right;\n",
       "    }\n",
       "</style>\n",
       "<table border=\"1\" class=\"dataframe\">\n",
       "  <thead>\n",
       "    <tr style=\"text-align: right;\">\n",
       "      <th></th>\n",
       "      <th>tipo</th>\n",
       "      <th>select</th>\n",
       "      <th>clasific</th>\n",
       "      <th>semilla</th>\n",
       "      <th>accuracy</th>\n",
       "      <th>precision</th>\n",
       "      <th>recall</th>\n",
       "      <th>f1_score</th>\n",
       "      <th>roc_auc</th>\n",
       "      <th>hostname</th>\n",
       "      <th>total_time_sec</th>\n",
       "      <th>datetime</th>\n",
       "      <th>fichero_modelo</th>\n",
       "      <th>params</th>\n",
       "      <th>shape</th>\n",
       "      <th>features</th>\n",
       "      <th>roc_auc_ovr</th>\n",
       "      <th>indices_auc</th>\n",
       "      <th>indices_jaccard</th>\n",
       "    </tr>\n",
       "  </thead>\n",
       "  <tbody>\n",
       "    <tr>\n",
       "      <th>0</th>\n",
       "      <td>mul_s</td>\n",
       "      <td>ANOVA</td>\n",
       "      <td>LR_L1</td>\n",
       "      <td>5426</td>\n",
       "      <td>0.480769</td>\n",
       "      <td>0.429334</td>\n",
       "      <td>0.469697</td>\n",
       "      <td>0.434723</td>\n",
       "      <td>NaN</td>\n",
       "      <td>amilcar32</td>\n",
       "      <td>1593</td>\n",
       "      <td>2023-10-30 12:02:12.393222</td>\n",
       "      <td>modelo_5426_mul_s_ANOVA_LR_L1.pkl</td>\n",
       "      <td>{'selector__k': 1000, 'clasifier__solver': 'sa...</td>\n",
       "      <td>X_test:(52, 18875)</td>\n",
       "      <td>['ENSG00000000938.13', 'ENSG00000002834.19', '...</td>\n",
       "      <td>0.808219</td>\n",
       "      <td>[0.6053215077605322, 0.8607954545454545, 0.721...</td>\n",
       "      <td>[0.3333333333333333, 0.3, 0.07692307692307693,...</td>\n",
       "    </tr>\n",
       "    <tr>\n",
       "      <th>0</th>\n",
       "      <td>mul_s</td>\n",
       "      <td>ANOVA</td>\n",
       "      <td>LR_EN</td>\n",
       "      <td>5426</td>\n",
       "      <td>0.557692</td>\n",
       "      <td>0.546429</td>\n",
       "      <td>0.573268</td>\n",
       "      <td>0.538235</td>\n",
       "      <td>NaN</td>\n",
       "      <td>amilcar32</td>\n",
       "      <td>1280</td>\n",
       "      <td>2023-10-30 11:35:32.890487</td>\n",
       "      <td>modelo_5426_mul_s_ANOVA_LR_EN.pkl</td>\n",
       "      <td>{'selector__k': 1000, 'clasifier__solver': 'sa...</td>\n",
       "      <td>X_test:(52, 18875)</td>\n",
       "      <td>['ENSG00000000938.13', 'ENSG00000002834.19', '...</td>\n",
       "      <td>0.836681</td>\n",
       "      <td>[0.6319290465631928, 0.8948863636363635, 0.732...</td>\n",
       "      <td>[0.3125, 0.3333333333333333, 0.181818181818181...</td>\n",
       "    </tr>\n",
       "    <tr>\n",
       "      <th>0</th>\n",
       "      <td>mul_m</td>\n",
       "      <td>RF</td>\n",
       "      <td>SVM</td>\n",
       "      <td>5426</td>\n",
       "      <td>0.505747</td>\n",
       "      <td>0.494632</td>\n",
       "      <td>0.544135</td>\n",
       "      <td>0.503943</td>\n",
       "      <td>NaN</td>\n",
       "      <td>amilcar32</td>\n",
       "      <td>65</td>\n",
       "      <td>2023-10-30 11:14:06.699434</td>\n",
       "      <td>modelo_5426_mul_m_RF_SVM.pkl</td>\n",
       "      <td>{'selector__max_features': 200, 'selector__est...</td>\n",
       "      <td>X_test:(87, 18875)</td>\n",
       "      <td>['ENSG00000000938.13', 'ENSG00000011465.18', '...</td>\n",
       "      <td>0.825543</td>\n",
       "      <td>[0.670774647887324, 0.8962962962962964, 0.6447...</td>\n",
       "      <td>[0.14285714285714285, 0.5, 0.15, 0.4, 0.4, 0.5...</td>\n",
       "    </tr>\n",
       "  </tbody>\n",
       "</table>\n",
       "</div>"
      ],
      "text/plain": [
       "    tipo select clasific  semilla  accuracy  precision    recall  f1_score  \\\n",
       "0  mul_s  ANOVA    LR_L1     5426  0.480769   0.429334  0.469697  0.434723   \n",
       "0  mul_s  ANOVA    LR_EN     5426  0.557692   0.546429  0.573268  0.538235   \n",
       "0  mul_m     RF      SVM     5426  0.505747   0.494632  0.544135  0.503943   \n",
       "\n",
       "   roc_auc   hostname  total_time_sec                    datetime  \\\n",
       "0      NaN  amilcar32            1593  2023-10-30 12:02:12.393222   \n",
       "0      NaN  amilcar32            1280  2023-10-30 11:35:32.890487   \n",
       "0      NaN  amilcar32              65  2023-10-30 11:14:06.699434   \n",
       "\n",
       "                      fichero_modelo  \\\n",
       "0  modelo_5426_mul_s_ANOVA_LR_L1.pkl   \n",
       "0  modelo_5426_mul_s_ANOVA_LR_EN.pkl   \n",
       "0       modelo_5426_mul_m_RF_SVM.pkl   \n",
       "\n",
       "                                              params               shape  \\\n",
       "0  {'selector__k': 1000, 'clasifier__solver': 'sa...  X_test:(52, 18875)   \n",
       "0  {'selector__k': 1000, 'clasifier__solver': 'sa...  X_test:(52, 18875)   \n",
       "0  {'selector__max_features': 200, 'selector__est...  X_test:(87, 18875)   \n",
       "\n",
       "                                            features  roc_auc_ovr  \\\n",
       "0  ['ENSG00000000938.13', 'ENSG00000002834.19', '...     0.808219   \n",
       "0  ['ENSG00000000938.13', 'ENSG00000002834.19', '...     0.836681   \n",
       "0  ['ENSG00000000938.13', 'ENSG00000011465.18', '...     0.825543   \n",
       "\n",
       "                                         indices_auc  \\\n",
       "0  [0.6053215077605322, 0.8607954545454545, 0.721...   \n",
       "0  [0.6319290465631928, 0.8948863636363635, 0.732...   \n",
       "0  [0.670774647887324, 0.8962962962962964, 0.6447...   \n",
       "\n",
       "                                     indices_jaccard  \n",
       "0  [0.3333333333333333, 0.3, 0.07692307692307693,...  \n",
       "0  [0.3125, 0.3333333333333333, 0.181818181818181...  \n",
       "0  [0.14285714285714285, 0.5, 0.15, 0.4, 0.4, 0.5...  "
      ]
     },
     "metadata": {},
     "output_type": "display_data"
    }
   ],
   "source": [
    "if M_TIPO.startswith(\"bin\"):\n",
    "    myfunc.save_metricas_to_csv(random_search, X_test, y_test, M_TIPO, M_SELECT, M_CLASIF, total_time, SEMILLA, myfunc.MET_DIR, M_FICHERO, fichero_modelo)\n",
    "else:\n",
    "    myfunc.save_metricas_multi_to_csv(random_search, X_test, y_test, M_TIPO, M_SELECT, M_CLASIF, total_time, SEMILLA, myfunc.MET_DIR, M_FICHERO, fichero_modelo)\n",
    "\n",
    "df1=myfunc.read_metricas_to_df(myfunc.MET_DIR,M_FICHERO)\n",
    "\n",
    "display(df1.sort_values(\"datetime\", ascending=False)[:3])\n"
   ]
  },
  {
   "cell_type": "markdown",
   "id": "294c9ff1",
   "metadata": {
    "papermill": {
     "duration": 0.021351,
     "end_time": "2023-10-30T11:02:12.556096",
     "exception": false,
     "start_time": "2023-10-30T11:02:12.534745",
     "status": "completed"
    },
    "tags": []
   },
   "source": [
    "#### Guardar resultados"
   ]
  },
  {
   "cell_type": "code",
   "execution_count": 13,
   "id": "7b05df42",
   "metadata": {
    "execution": {
     "iopub.execute_input": "2023-10-30T11:02:12.581899Z",
     "iopub.status.busy": "2023-10-30T11:02:12.566181Z",
     "iopub.status.idle": "2023-10-30T11:02:12.597525Z",
     "shell.execute_reply": "2023-10-30T11:02:12.597525Z"
    },
    "papermill": {
     "duration": 0.031344,
     "end_time": "2023-10-30T11:02:12.597525",
     "exception": false,
     "start_time": "2023-10-30T11:02:12.566181",
     "status": "completed"
    },
    "tags": []
   },
   "outputs": [
    {
     "name": "stdout",
     "output_type": "stream",
     "text": [
      "20231030T120212 : amilcar32 : INFO : Inicio guardar resultados\n",
      "20231030T120212 : amilcar32 : INFO : Inicio guardar fichero ..\\tfm_viu\\ejecuciones\\metricas\\resultados_5426_mul_s-ANOVA-LR_L1.csv\n",
      "20231030T120212 : amilcar32 : INFO : Fin guardar fichero ..\\tfm_viu\\ejecuciones\\metricas\\resultados_5426_mul_s-ANOVA-LR_L1.csv\n",
      "20231030T120212 : amilcar32 : INFO : Fin guardar resultados\n"
     ]
    }
   ],
   "source": [
    "fichero_resultados=R_FICHERO+\"_\"+M_TIPO+\"-\"+M_SELECT+\"-\"+M_CLASIF+\".csv\"\n",
    "myfunc.save_resultados_to_csv(M_TIPO, M_SELECT, M_CLASIF,  random_search, myfunc.MET_DIR, fichero_resultados)\n"
   ]
  }
 ],
 "metadata": {
  "kernelspec": {
   "display_name": "Python 3 (ipykernel)",
   "language": "python",
   "name": "python3"
  },
  "language_info": {
   "codemirror_mode": {
    "name": "ipython",
    "version": 3
   },
   "file_extension": ".py",
   "mimetype": "text/x-python",
   "name": "python",
   "nbconvert_exporter": "python",
   "pygments_lexer": "ipython3",
   "version": "3.10.12"
  },
  "papermill": {
   "default_parameters": {},
   "duration": 1598.385289,
   "end_time": "2023-10-30T11:02:13.291338",
   "environment_variables": {},
   "exception": null,
   "input_path": "03_entrenamiento.ipynb",
   "output_path": "ejecuciones\\training\\03_entrenamiento.20231030T113534.param_0000_5426_mul_s_ANOVA_LR_L1.output.ipynb",
   "parameters": {
    "MAX_ITERS": 500,
    "M_CLASIF": "LR_L1",
    "M_FICHERO": "metricas_5426",
    "M_SELECT": "ANOVA",
    "M_TIPO": "mul_s",
    "PRE_DATA_FILE": "rows_transpose_norm_by_gene_id_with_target_num_",
    "P_FICHERO": "param_0000_5426_mul_s_ANOVA_LR_L1.yaml",
    "R_FICHERO": "resultados_5426",
    "SCORING": "roc_auc_ovr",
    "SEMILLA": 5426,
    "eval_clasifier": "LogisticRegressionCV(random_state=SEMILLA)",
    "eval_selector": "SelectKBest(score_func=f_classif)",
    "param_distributions": {
     "clasifier__max_iter": [
      10000
     ],
     "clasifier__penalty": [
      "l1"
     ],
     "clasifier__solver": [
      "saga"
     ],
     "selector__k": [
      1000
     ]
    }
   },
   "start_time": "2023-10-30T10:35:34.906049",
   "version": "2.4.0"
  }
 },
 "nbformat": 4,
 "nbformat_minor": 5
}