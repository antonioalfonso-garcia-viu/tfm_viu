{
 "cells": [
  {
   "cell_type": "markdown",
   "id": "263ee38e",
   "metadata": {
    "papermill": {
     "duration": 0.005748,
     "end_time": "2023-10-30T06:02:44.751310",
     "exception": false,
     "start_time": "2023-10-30T06:02:44.745562",
     "status": "completed"
    },
    "tags": []
   },
   "source": [
    "##### Inicio"
   ]
  },
  {
   "cell_type": "markdown",
   "id": "36911d40",
   "metadata": {
    "papermill": {
     "duration": 0.003431,
     "end_time": "2023-10-30T06:02:44.758474",
     "exception": false,
     "start_time": "2023-10-30T06:02:44.755043",
     "status": "completed"
    },
    "tags": []
   },
   "source": [
    "#### Carga de datos"
   ]
  },
  {
   "cell_type": "code",
   "execution_count": 1,
   "id": "08407734",
   "metadata": {
    "execution": {
     "iopub.execute_input": "2023-10-30T06:02:44.766975Z",
     "iopub.status.busy": "2023-10-30T06:02:44.766491Z",
     "iopub.status.idle": "2023-10-30T06:02:45.902669Z",
     "shell.execute_reply": "2023-10-30T06:02:45.901841Z"
    },
    "papermill": {
     "duration": 1.142295,
     "end_time": "2023-10-30T06:02:45.904117",
     "exception": false,
     "start_time": "2023-10-30T06:02:44.761822",
     "status": "completed"
    },
    "tags": []
   },
   "outputs": [
    {
     "name": "stdout",
     "output_type": "stream",
     "text": [
      "CPU_COUNT: 16; NODE: enderlab; sys.version: 3.10.11 (main, May 16 2023, 00:28:57) [GCC 11.2.0]\n",
      "LOKY_MAX_CPU_COUNT is not set.\n",
      "OMP_NUM_THREADS is not set.\n"
     ]
    }
   ],
   "source": [
    "import os\n",
    "import numpy as np\n",
    "import pandas as pd\n",
    "import datetime\n",
    "import sklearn\n",
    "import logging\n",
    "import warnings\n",
    "\n",
    "from sklearn.pipeline import Pipeline\n",
    "from sklearn.model_selection import RandomizedSearchCV, KFold, cross_val_score, train_test_split\n",
    "from sklearn.metrics import accuracy_score, confusion_matrix, classification_report, roc_auc_score\n",
    "\n",
    "#  cargar algoritmos para aprendizaje supervisado\n",
    "from sklearn.feature_selection import SelectKBest, f_classif, SelectFromModel, mutual_info_classif\n",
    "from sklearn.svm import SVC\n",
    "from sklearn.ensemble import RandomForestClassifier\n",
    "from sklearn.linear_model import LogisticRegression,LogisticRegressionCV\n",
    "\n",
    "# importar fichero con utilidades propias\n",
    "from commons import myfunctions as myfunc\n"
   ]
  },
  {
   "cell_type": "markdown",
   "id": "7faea406",
   "metadata": {
    "papermill": {
     "duration": 0.003639,
     "end_time": "2023-10-30T06:02:45.911854",
     "exception": false,
     "start_time": "2023-10-30T06:02:45.908215",
     "status": "completed"
    },
    "tags": []
   },
   "source": [
    "#### Parámetros a utilizar en el entrenamiento.\n",
    "\n",
    "Se indican los 3 algoritmos de *selección de características* (eval_selector_xxx) y los 3 algoritmos para la _clasificación_ (eval_clasifier_xxx)\n",
    "\n",
    "En *param_distributions* se indicar los parámetros que utilizan los algoritmos en la función RandomSearchCV.\n",
    "\n",
    "Esta celda tiene la etiqueta **parameters** que servirá para poder lanzar los entrenamientos con la utilidad **papermill** pasándole un fichero con los parámetros. Los nuevos parámetros se situarán tras esta celda para tener prevalencia."
   ]
  },
  {
   "cell_type": "code",
   "execution_count": 2,
   "id": "a8f5d536",
   "metadata": {
    "execution": {
     "iopub.execute_input": "2023-10-30T06:02:45.920734Z",
     "iopub.status.busy": "2023-10-30T06:02:45.920244Z",
     "iopub.status.idle": "2023-10-30T06:02:45.929282Z",
     "shell.execute_reply": "2023-10-30T06:02:45.928691Z"
    },
    "papermill": {
     "duration": 0.015118,
     "end_time": "2023-10-30T06:02:45.930584",
     "exception": false,
     "start_time": "2023-10-30T06:02:45.915466",
     "status": "completed"
    },
    "tags": [
     "parameters"
    ]
   },
   "outputs": [
    {
     "name": "stdout",
     "output_type": "stream",
     "text": [
      "20231030T070245 : enderlab : INFO : Utilizando parámetros de mul_m\n"
     ]
    }
   ],
   "source": [
    "#  Parametros para el entrenamiento\n",
    "\n",
    "SEMILLA=        42\n",
    "M_TIPO=         \"mul_m\"\n",
    "M_SELECT=       \"MI\"\n",
    "M_CLASIF=       \"SVM\"\n",
    "R_FICHERO=      \"resultados\"\n",
    "M_FICHERO=      \"metricas\"\n",
    "PRE_DATA_FILE=  \"rows_transpose_norm_by_gene_id_with_target_num_\"\n",
    "SCORING=        \"roc_auc_ovr\" \n",
    "MAX_ITERS=      100\n",
    "\n",
    "def mutual_info_classif_state(X, y):\n",
    "    return mutual_info_classif(X, y, random_state=SEMILLA)\n",
    "\n",
    "eval_selector_mi = \"SelectKBest(score_func=mutual_info_classif_state)\"\n",
    "eval_selector_rf=  \"SelectFromModel(estimator=RandomForestClassifier(random_state=SEMILLA), threshold=-np.inf)\"\n",
    "eval_selector_anova=  \"SelectKBest(score_func=f_classif)\"\n",
    "\n",
    "eval_clasifier_svm= \"SVC(probability=True, random_state=SEMILLA)\"\n",
    "eval_clasifier_rf= \"RandomForestClassifier(random_state=SEMILLA)\"\n",
    "eval_clasifier_lr= \"LogisticRegressionCV(random_state=SEMILLA)\"\n",
    "\n",
    "if M_TIPO.startswith(\"bin_m\"):\n",
    "    myfunc.verbose(f\"Utilizando parámetros de {M_TIPO}\")\n",
    "    eval_selector = eval_selector_mi\n",
    "    eval_clasifier = eval_clasifier_svm\n",
    "\n",
    "    SEMILLA = 6578\n",
    "    M_SELECT = \"MI\"\n",
    "    M_CLASIF = \"SVM\"\n",
    "    param_distributions = {'selector__k': [1000], \n",
    "         'clasifier__kernel': ['rbf'], 'clasifier__gamma': [0.01], 'clasifier__C': [100]}\n",
    "elif M_TIPO.startswith(\"bin_s\"):\n",
    "    myfunc.verbose(f\"Utilizando parámetros de {M_TIPO}\")\n",
    "    eval_selector = eval_selector_rf\n",
    "    eval_clasifier = eval_clasifier_lr\n",
    "\n",
    "    SEMILLA = 6191\n",
    "    M_SELECT = \"RF\"\n",
    "    M_CLASIF = \"LR_L2\"\n",
    "    param_distributions = {'selector__max_features': [1000], 'selector__estimator__n_estimators': [200], \n",
    "        'clasifier__solver': ['lbfgs'], 'clasifier__penalty': ['l2'], 'clasifier__max_iter': [10000]}\n",
    "\n",
    "elif M_TIPO.startswith(\"mul_m\"):\n",
    "    myfunc.verbose(f\"Utilizando parámetros de {M_TIPO}\")\n",
    " \n",
    "    eval_selector = eval_selector_rf\n",
    "    eval_clasifier = eval_clasifier_lr\n",
    "\n",
    "    SEMILLA = 6191\n",
    "    M_SELECT = \"RF\"\n",
    "    M_CLASIF = \"LR_L2\"\n",
    "    param_distributions = {'selector__max_features': [1000], 'selector__estimator__n_estimators': [400], \n",
    "        'clasifier__solver': ['lbfgs'], 'clasifier__penalty': ['l2'], 'clasifier__max_iter': [10000]}\n",
    "\n",
    "else:\n",
    "    # M_TIPO.startswith(\"mul_s\"):\n",
    "    myfunc.verbose(f\"Utilizando parámetros de {M_TIPO}\")\n",
    "    eval_selector = eval_selector_anova\n",
    "    eval_clasifier = eval_clasifier_lr\n",
    "\n",
    "    SEMILLA = 1860\n",
    "    M_SELECT = \"ANOVA\"\n",
    "    M_CLASIF = \"LR_L2\"\n",
    "    param_distributions = {'selector__k': [1000], \n",
    "        'clasifier__solver': ['saga'], 'clasifier__penalty': ['l2'], 'clasifier__max_iter': [10000]}\n",
    "\n"
   ]
  },
  {
   "cell_type": "code",
   "execution_count": 3,
   "id": "8580ea14",
   "metadata": {
    "execution": {
     "iopub.execute_input": "2023-10-30T06:02:45.946130Z",
     "iopub.status.busy": "2023-10-30T06:02:45.945714Z",
     "iopub.status.idle": "2023-10-30T06:02:45.949972Z",
     "shell.execute_reply": "2023-10-30T06:02:45.949403Z"
    },
    "papermill": {
     "duration": 0.017197,
     "end_time": "2023-10-30T06:02:45.951249",
     "exception": false,
     "start_time": "2023-10-30T06:02:45.934052",
     "status": "completed"
    },
    "tags": [
     "injected-parameters"
    ]
   },
   "outputs": [],
   "source": [
    "# Parameters\n",
    "M_TIPO = \"mul_m\"\n",
    "M_SELECT = \"RF\"\n",
    "M_CLASIF = \"LR_L2\"\n",
    "P_FICHERO = \"param_0000_9322_mul_m_RF_LR_L2.yaml\"\n",
    "R_FICHERO = \"resultados_9322\"\n",
    "M_FICHERO = \"metricas_9322\"\n",
    "PRE_DATA_FILE = \"rows_transpose_norm_by_gene_id_with_target_num_\"\n",
    "SCORING = \"roc_auc_ovr\"\n",
    "SEMILLA = 9322\n",
    "MAX_ITERS = 500\n",
    "eval_selector = \"SelectFromModel(estimator=RandomForestClassifier(random_state=SEMILLA), threshold=-np.inf)\"\n",
    "eval_clasifier = \"LogisticRegressionCV(random_state=SEMILLA)\"\n",
    "param_distributions = {\n",
    "    \"selector__max_features\": [1000],\n",
    "    \"selector__estimator__n_estimators\": [400],\n",
    "    \"clasifier__solver\": [\"lbfgs\"],\n",
    "    \"clasifier__penalty\": [\"l2\"],\n",
    "    \"clasifier__max_iter\": [10000],\n",
    "}\n"
   ]
  },
  {
   "cell_type": "code",
   "execution_count": 4,
   "id": "18ec97df",
   "metadata": {
    "execution": {
     "iopub.execute_input": "2023-10-30T06:02:45.959654Z",
     "iopub.status.busy": "2023-10-30T06:02:45.959151Z",
     "iopub.status.idle": "2023-10-30T06:02:45.962639Z",
     "shell.execute_reply": "2023-10-30T06:02:45.962079Z"
    },
    "papermill": {
     "duration": 0.009056,
     "end_time": "2023-10-30T06:02:45.963909",
     "exception": false,
     "start_time": "2023-10-30T06:02:45.954853",
     "status": "completed"
    },
    "tags": []
   },
   "outputs": [],
   "source": [
    "DATA_FILE = PRE_DATA_FILE + M_TIPO\n",
    "\n",
    "# si viene \"None\" en el parámetro max_depth, se le quitan las comillas para que no sea entendido por el algoritmo como un texto\n",
    "if \"clasifier__max_depth\" in param_distributions:\n",
    "    param_distributions['clasifier__max_depth'] = [None if x == 'None' else x for x in param_distributions['clasifier__max_depth']]"
   ]
  },
  {
   "cell_type": "markdown",
   "id": "51a6a14e",
   "metadata": {
    "papermill": {
     "duration": 0.003766,
     "end_time": "2023-10-30T06:02:45.971299",
     "exception": false,
     "start_time": "2023-10-30T06:02:45.967533",
     "status": "completed"
    },
    "tags": []
   },
   "source": [
    "Asignar los algoritmos que se utilizarán en la función RandomSearchCV"
   ]
  },
  {
   "cell_type": "code",
   "execution_count": 5,
   "id": "53244247",
   "metadata": {
    "execution": {
     "iopub.execute_input": "2023-10-30T06:02:45.979542Z",
     "iopub.status.busy": "2023-10-30T06:02:45.979169Z",
     "iopub.status.idle": "2023-10-30T06:02:45.982878Z",
     "shell.execute_reply": "2023-10-30T06:02:45.982118Z"
    },
    "papermill": {
     "duration": 0.009252,
     "end_time": "2023-10-30T06:02:45.984170",
     "exception": false,
     "start_time": "2023-10-30T06:02:45.974918",
     "status": "completed"
    },
    "tags": []
   },
   "outputs": [],
   "source": [
    "algor_selector=eval(eval_selector)\n",
    "algor_clasifier=eval(eval_clasifier)"
   ]
  },
  {
   "cell_type": "markdown",
   "id": "5d89b772",
   "metadata": {
    "papermill": {
     "duration": 0.005623,
     "end_time": "2023-10-30T06:02:45.993369",
     "exception": false,
     "start_time": "2023-10-30T06:02:45.987746",
     "status": "completed"
    },
    "tags": []
   },
   "source": [
    "#### Comprobar el entorno y leer fichero de muestras"
   ]
  },
  {
   "cell_type": "code",
   "execution_count": 6,
   "id": "7e07b35f",
   "metadata": {
    "execution": {
     "iopub.execute_input": "2023-10-30T06:02:46.001960Z",
     "iopub.status.busy": "2023-10-30T06:02:46.001461Z",
     "iopub.status.idle": "2023-10-30T06:02:46.234044Z",
     "shell.execute_reply": "2023-10-30T06:02:46.233441Z"
    },
    "papermill": {
     "duration": 0.238395,
     "end_time": "2023-10-30T06:02:46.235382",
     "exception": false,
     "start_time": "2023-10-30T06:02:45.996987",
     "status": "completed"
    },
    "tags": []
   },
   "outputs": [
    {
     "name": "stdout",
     "output_type": "stream",
     "text": [
      "20231030T070246 : enderlab : INFO : Encontrada carpeta DATA_DIR=../tfm_git/datos\n",
      "20231030T070246 : enderlab : INFO : Encontrada carpeta CFDNA_DIR=../tfm_git/datos/cfDNA_5hmC\n",
      "20231030T070246 : enderlab : INFO : Encontrada carpeta GENCODE_DIR=../tfm_git/datos/gencode\n",
      "20231030T070246 : enderlab : INFO : Encontrada carpeta H5_DIR=../tfm_git/datos/h5\n",
      "20231030T070246 : enderlab : INFO : Encontrada carpeta LOG_DIR=../tfm_git/datos/logs\n",
      "20231030T070246 : enderlab : INFO : Encontrada carpeta CSV_DIR=../tfm_git/datos/csv\n",
      "20231030T070246 : enderlab : INFO : Encontrada carpeta MODEL_DIR=../tfm_git/ejecuciones/modelos\n",
      "20231030T070246 : enderlab : INFO : Encontrada carpeta EXEC_DIR=../tfm_git/ejecuciones\n",
      "20231030T070246 : enderlab : INFO : Encontrada carpeta MET_DIR=../tfm_git/ejecuciones/metricas\n",
      "20231030T070246 : enderlab : INFO : Inicio leer fichero h5 ../tfm_git/datos/h5/rows_transpose_norm_by_gene_id_with_target_num_mul_m.h5\n",
      "20231030T070246 : enderlab : INFO : Leyendo clave /df\n"
     ]
    },
    {
     "name": "stdout",
     "output_type": "stream",
     "text": [
      "20231030T070246 : enderlab : INFO : Tamaño (434, 18876)\n",
      "20231030T070246 : enderlab : INFO : Fin leer fichero h5 ../tfm_git/datos/h5/rows_transpose_norm_by_gene_id_with_target_num_mul_m.h5\n"
     ]
    },
    {
     "data": {
      "text/plain": [
       "target\n",
       "0    62\n",
       "1    62\n",
       "2    62\n",
       "3    62\n",
       "4    62\n",
       "5    62\n",
       "6    62\n",
       "dtype: int64"
      ]
     },
     "metadata": {},
     "output_type": "display_data"
    },
    {
     "name": "stdout",
     "output_type": "stream",
     "text": [
      "Shape df: (434, 18876)\n"
     ]
    },
    {
     "name": "stdout",
     "output_type": "stream",
     "text": [
      "Shape X_train: (347, 18875)\n",
      "Shape X_test: (87, 18875)\n"
     ]
    }
   ],
   "source": [
    "start_time = datetime.datetime.now()\n",
    "\n",
    "myfunc.reset_vars()\n",
    "\n",
    "myfunc.NOTEBK_FILENAME = myfunc.get_nb_name()\n",
    "\n",
    "myfunc.check_enviroment(myfunc.DATA_DIR, myfunc.CFDNA_DIR, myfunc.GENCODE_DIR, myfunc.H5_DIR, myfunc.LOG_DIR, myfunc.CSV_DIR, myfunc.MODEL_DIR, myfunc.EXEC_DIR, myfunc.MET_DIR)\n",
    "\n",
    "# Leer fichero con las muestras\n",
    "df_t = myfunc.read_h5_to_df(DATA_FILE, myfunc.H5_DIR)\n",
    "display(df_t.groupby(\"target\").size())\n",
    "print(\"Shape df:\",df_t.shape)\n",
    "\n",
    "# Separar caracteristicas/genes de las etiquetas/tipos de cáncer\n",
    "X = df_t.iloc[:, :-1]  # Todas las columnas excepto la última\n",
    "y = df_t.iloc[:, -1]  # La última columna contiene los identificadores de los tipos de cáncer\n",
    "\n",
    "#  Crear el conjunto de datos de entrenamiento y de pruebas, y se fija la semilla para siempre coger el mismo juego de muestras\n",
    "X_train, X_test, y_train, y_test = train_test_split(X, y, test_size=0.2, shuffle=True, random_state=42)\n",
    "print(\"Shape X_train:\",X_train.shape)\n",
    "print(\"Shape X_test:\",X_test.shape)\n"
   ]
  },
  {
   "cell_type": "markdown",
   "id": "3f7bde7d",
   "metadata": {
    "papermill": {
     "duration": 0.004073,
     "end_time": "2023-10-30T06:02:46.244007",
     "exception": false,
     "start_time": "2023-10-30T06:02:46.239934",
     "status": "completed"
    },
    "tags": []
   },
   "source": [
    "#### Selección de características y clasificación."
   ]
  },
  {
   "cell_type": "code",
   "execution_count": 7,
   "id": "354794fc",
   "metadata": {
    "execution": {
     "iopub.execute_input": "2023-10-30T06:02:46.254154Z",
     "iopub.status.busy": "2023-10-30T06:02:46.253618Z",
     "iopub.status.idle": "2023-10-30T06:03:30.461399Z",
     "shell.execute_reply": "2023-10-30T06:03:30.460661Z"
    },
    "papermill": {
     "duration": 44.218911,
     "end_time": "2023-10-30T06:03:30.466839",
     "exception": false,
     "start_time": "2023-10-30T06:02:46.247928",
     "status": "completed"
    },
    "tags": []
   },
   "outputs": [
    {
     "name": "stdout",
     "output_type": "stream",
     "text": [
      "20231030T070246 : enderlab : INFO : Iniciando entrenamiento\n",
      "num_iter: 1 , max_iter: 1\n",
      "Fitting 5 folds for each of 1 candidates, totalling 5 fits\n"
     ]
    },
    {
     "name": "stdout",
     "output_type": "stream",
     "text": [
      "Mejores Hiperparámetros: {'selector__max_features': 1000, 'selector__estimator__n_estimators': 400, 'clasifier__solver': 'lbfgs', 'clasifier__penalty': 'l2', 'clasifier__max_iter': 10000}\n",
      "Mejor Puntuación: 0.8844\n",
      "20231030T070330 : enderlab : INFO : Fin entrenamiento\n"
     ]
    }
   ],
   "source": [
    "myfunc.verbose(\"Iniciando entrenamiento\")\n",
    "\n",
    "kf = KFold(n_splits=5, shuffle=True, random_state=SEMILLA)\n",
    "\n",
    "# Crear el pipeline para el flujo de tareas\n",
    "tasks_pipeline = Pipeline([\n",
    "    ('selector', algor_selector),\n",
    "    ('clasifier', algor_clasifier)\n",
    "])\n",
    "\n",
    "# MAX_ITERS puede limitar el número de iteraciones si son excesivas para las combinaciones de parámetros buscando un óptimo local, \n",
    "# sino funcionaría como GridSearchCV al revisar todas las cominaciones de los parámetros\n",
    "num_iteraciones = 1\n",
    "num_iteraciones = num_iteraciones * np.prod([len(elemento1) for _, elemento1 in param_distributions.items()])\n",
    "max_iteraciones = num_iteraciones if num_iteraciones <= MAX_ITERS else MAX_ITERS\n",
    "print(\"num_iter:\",num_iteraciones,\", max_iter:\",max_iteraciones)\n",
    "\n",
    "random_search = RandomizedSearchCV(\n",
    "    tasks_pipeline, \n",
    "    param_distributions, \n",
    "    n_iter=max_iteraciones,\n",
    "    scoring=SCORING,\n",
    "    cv=kf,\n",
    "    verbose=3, \n",
    "    random_state=SEMILLA, \n",
    "    n_jobs=-1\n",
    "    )\n",
    "\n",
    "# Entrenar el modelo\n",
    "random_search.fit(X_train, y_train)\n",
    "\n",
    "# Ver los mejores hiperparámetros encontrados\n",
    "print(f'Mejores Hiperparámetros: {random_search.best_params_}')\n",
    "print(f'Mejor Puntuación: {random_search.best_score_:.4f}')\n",
    "\n",
    "# Nos quedamos con el mejor modelo para ver las métricas\n",
    "mejor_modelo = random_search.best_estimator_\n",
    "\n",
    "myfunc.verbose(\"Fin entrenamiento\")"
   ]
  },
  {
   "cell_type": "markdown",
   "id": "89ac6784",
   "metadata": {
    "papermill": {
     "duration": 0.017145,
     "end_time": "2023-10-30T06:03:30.488363",
     "exception": false,
     "start_time": "2023-10-30T06:03:30.471218",
     "status": "completed"
    },
    "tags": []
   },
   "source": [
    "#### Guardar modelo"
   ]
  },
  {
   "cell_type": "code",
   "execution_count": 8,
   "id": "2a2d2be8",
   "metadata": {
    "execution": {
     "iopub.execute_input": "2023-10-30T06:03:30.502605Z",
     "iopub.status.busy": "2023-10-30T06:03:30.502246Z",
     "iopub.status.idle": "2023-10-30T06:03:30.673170Z",
     "shell.execute_reply": "2023-10-30T06:03:30.672574Z"
    },
    "papermill": {
     "duration": 0.182116,
     "end_time": "2023-10-30T06:03:30.674549",
     "exception": false,
     "start_time": "2023-10-30T06:03:30.492433",
     "status": "completed"
    },
    "tags": []
   },
   "outputs": [
    {
     "name": "stdout",
     "output_type": "stream",
     "text": [
      "20231030T070330 : enderlab : INFO : Inicio guardar fichero ../tfm_git/ejecuciones/modelos/modelo_9322_mul_m_RF_LR_L2.pkl\n"
     ]
    },
    {
     "name": "stdout",
     "output_type": "stream",
     "text": [
      "20231030T070330 : enderlab : INFO : Fin guardar fichero ../tfm_git/ejecuciones/modelos/modelo_9322_mul_m_RF_LR_L2.pkl\n"
     ]
    }
   ],
   "source": [
    "fichero_modelo = str.replace(\"modelo_\"+str(SEMILLA).zfill(4)+\"_\"+M_TIPO+\"_\"+M_SELECT+\"_\"+M_CLASIF+\".pkl\", \" \", \"_\")\n",
    "\n",
    "myfunc.save_modelo(mejor_modelo, myfunc.MODEL_DIR, fichero_modelo)"
   ]
  },
  {
   "cell_type": "markdown",
   "id": "78258e09",
   "metadata": {
    "papermill": {
     "duration": 0.004265,
     "end_time": "2023-10-30T06:03:30.683782",
     "exception": false,
     "start_time": "2023-10-30T06:03:30.679517",
     "status": "completed"
    },
    "tags": []
   },
   "source": [
    "#### Ver resultados del las iteraciones hechas por RandomSearchCV"
   ]
  },
  {
   "cell_type": "code",
   "execution_count": 9,
   "id": "344c4ca9",
   "metadata": {
    "execution": {
     "iopub.execute_input": "2023-10-30T06:03:30.693425Z",
     "iopub.status.busy": "2023-10-30T06:03:30.692905Z",
     "iopub.status.idle": "2023-10-30T06:03:30.699761Z",
     "shell.execute_reply": "2023-10-30T06:03:30.699214Z"
    },
    "papermill": {
     "duration": 0.013048,
     "end_time": "2023-10-30T06:03:30.701037",
     "exception": false,
     "start_time": "2023-10-30T06:03:30.687989",
     "status": "completed"
    },
    "tags": []
   },
   "outputs": [
    {
     "name": "stdout",
     "output_type": "stream",
     "text": [
      "20231030T070330 : enderlab : INFO : Inicio ver resultados\n",
      "Mejores Hiperparámetros: {'selector__max_features': 1000, 'selector__estimator__n_estimators': 400, 'clasifier__solver': 'lbfgs', 'clasifier__penalty': 'l2', 'clasifier__max_iter': 10000}\n",
      "Mejores puntuaciones: 0.8844 | Params: {'selector__max_features': 1000, 'selector__estimator__n_estimators': 400, 'clasifier__solver': 'lbfgs', 'clasifier__penalty': 'l2', 'clasifier__max_iter': 10000}\n",
      "Media de las puntuaciones: 0.8844 | Params: {'selector__max_features': 1000, 'selector__estimator__n_estimators': 400, 'clasifier__solver': 'lbfgs', 'clasifier__penalty': 'l2', 'clasifier__max_iter': 10000}\n",
      "20231030T070330 : enderlab : INFO : Fin resultados\n"
     ]
    }
   ],
   "source": [
    "myfunc.ver_resultados_search(random_search)"
   ]
  },
  {
   "cell_type": "markdown",
   "id": "702b3709",
   "metadata": {
    "papermill": {
     "duration": 0.00454,
     "end_time": "2023-10-30T06:03:30.709805",
     "exception": false,
     "start_time": "2023-10-30T06:03:30.705265",
     "status": "completed"
    },
    "tags": []
   },
   "source": [
    "#### Ver métricas del mejor modelo"
   ]
  },
  {
   "cell_type": "code",
   "execution_count": 10,
   "id": "40bc8e20",
   "metadata": {
    "execution": {
     "iopub.execute_input": "2023-10-30T06:03:30.719691Z",
     "iopub.status.busy": "2023-10-30T06:03:30.719315Z",
     "iopub.status.idle": "2023-10-30T06:03:31.785306Z",
     "shell.execute_reply": "2023-10-30T06:03:31.784711Z"
    },
    "papermill": {
     "duration": 1.073356,
     "end_time": "2023-10-30T06:03:31.787519",
     "exception": false,
     "start_time": "2023-10-30T06:03:30.714163",
     "status": "completed"
    },
    "tags": []
   },
   "outputs": [
    {
     "name": "stdout",
     "output_type": "stream",
     "text": [
      "20231030T070330 : enderlab : INFO : Inicio ver métricas multiclase\n"
     ]
    },
    {
     "name": "stdout",
     "output_type": "stream",
     "text": [
      "              precision    recall  f1-score   support\n",
      "\n",
      "           0       0.64      0.44      0.52        16\n",
      "           1       0.73      0.73      0.73        15\n",
      "           2       0.42      0.45      0.43        11\n",
      "           3       0.33      0.80      0.47         5\n",
      "           4       0.89      0.62      0.73        13\n",
      "           5       0.88      0.78      0.82         9\n",
      "           6       0.60      0.67      0.63        18\n",
      "\n",
      "    accuracy                           0.62        87\n",
      "   macro avg       0.64      0.64      0.62        87\n",
      "weighted avg       0.66      0.62      0.63        87\n",
      "\n",
      "\n",
      "\n",
      "           Exactitud: 0.620690\n",
      "   Precisión (media): 0.640512\n",
      "      Recall (media): 0.640744\n",
      "    F1-score (media): 0.619943\n",
      "\n",
      "\n",
      "AUC para el tipo de cáncer 0-Control.... 0.7914\n",
      "AUC para el tipo de cáncer 1-Bladder.... 0.9037\n",
      "AUC para el tipo de cáncer 2-Breast..... 0.7691\n",
      "AUC para el tipo de cáncer 3-Colorectal. 0.9049\n",
      "AUC para el tipo de cáncer 4-Kidney..... 0.9106\n",
      "AUC para el tipo de cáncer 5-Lung....... 0.9729\n",
      "AUC para el tipo de cáncer 6-Prostate... 0.8615\n",
      "\n",
      "Media de AUC: 0.8734\n"
     ]
    },
    {
     "data": {
      "image/png": "[encoded data removed]",
      "text/plain": [
       "<Figure size 1000x600 with 1 Axes>"
      ]
     },
     "metadata": {},
     "output_type": "display_data"
    },
    {
     "name": "stdout",
     "output_type": "stream",
     "text": [
      "\n",
      "\n"
     ]
    },
    {
     "data": {
      "image/png": "[encoded data removed]",
      "text/plain": [
       "<Figure size 800x400 with 2 Axes>"
      ]
     },
     "metadata": {},
     "output_type": "display_data"
    },
    {
     "name": "stdout",
     "output_type": "stream",
     "text": [
      "\n",
      "\n",
      "Puntuación Jaccard para el cáncer tipo 0-Control.... 0.3500\n",
      "Puntuación Jaccard para el cáncer tipo 1-Bladder.... 0.5789\n",
      "Puntuación Jaccard para el cáncer tipo 2-Breast..... 0.2778\n",
      "Puntuación Jaccard para el cáncer tipo 3-Colorectal. 0.3077\n",
      "Puntuación Jaccard para el cáncer tipo 4-Kidney..... 0.5714\n",
      "Puntuación Jaccard para el cáncer tipo 5-Lung....... 0.7000\n",
      "Puntuación Jaccard para el cáncer tipo 6-Prostate... 0.4615\n",
      "\n",
      "Media de la puntuación de Jaccard: 0.4639\n"
     ]
    }
   ],
   "source": [
    "if M_TIPO.startswith(\"bin\"):\n",
    "    myfunc.ver_metricas(mejor_modelo, X_test, y_test)\n",
    "else:\n",
    "    myfunc.ver_metricas_multi(mejor_modelo, X_test, y_test)\n"
   ]
  },
  {
   "cell_type": "markdown",
   "id": "eaae956b",
   "metadata": {
    "papermill": {
     "duration": 0.006538,
     "end_time": "2023-10-30T06:03:31.803864",
     "exception": false,
     "start_time": "2023-10-30T06:03:31.797326",
     "status": "completed"
    },
    "tags": []
   },
   "source": [
    "#### Finalización del notebook"
   ]
  },
  {
   "cell_type": "code",
   "execution_count": 11,
   "id": "2f3eb43d",
   "metadata": {
    "execution": {
     "iopub.execute_input": "2023-10-30T06:03:31.817876Z",
     "iopub.status.busy": "2023-10-30T06:03:31.816870Z",
     "iopub.status.idle": "2023-10-30T06:03:31.821137Z",
     "shell.execute_reply": "2023-10-30T06:03:31.820570Z"
    },
    "papermill": {
     "duration": 0.01257,
     "end_time": "2023-10-30T06:03:31.822401",
     "exception": false,
     "start_time": "2023-10-30T06:03:31.809831",
     "status": "completed"
    },
    "tags": []
   },
   "outputs": [
    {
     "name": "stdout",
     "output_type": "stream",
     "text": [
      "20231030T070331 : enderlab : INFO : Notebook ha tardado 45 seconds\n"
     ]
    }
   ],
   "source": [
    "end_time = datetime.datetime.now()\n",
    "total_time = end_time - start_time\n",
    "myfunc.verbose(f\"Notebook ha tardado {total_time.seconds} seconds\")"
   ]
  },
  {
   "cell_type": "markdown",
   "id": "e80b7b54",
   "metadata": {
    "papermill": {
     "duration": 0.006049,
     "end_time": "2023-10-30T06:03:31.834290",
     "exception": false,
     "start_time": "2023-10-30T06:03:31.828241",
     "status": "completed"
    },
    "tags": []
   },
   "source": [
    "#### Guardar métricas"
   ]
  },
  {
   "cell_type": "code",
   "execution_count": 12,
   "id": "4a16acbb",
   "metadata": {
    "execution": {
     "iopub.execute_input": "2023-10-30T06:03:31.847266Z",
     "iopub.status.busy": "2023-10-30T06:03:31.847049Z",
     "iopub.status.idle": "2023-10-30T06:03:32.577086Z",
     "shell.execute_reply": "2023-10-30T06:03:32.576499Z"
    },
    "papermill": {
     "duration": 0.738062,
     "end_time": "2023-10-30T06:03:32.578425",
     "exception": false,
     "start_time": "2023-10-30T06:03:31.840363",
     "status": "completed"
    },
    "tags": []
   },
   "outputs": [
    {
     "name": "stdout",
     "output_type": "stream",
     "text": [
      "20231030T070332 : enderlab : INFO : Inicio guardar métricas multiclase\n",
      "20231030T070332 : enderlab : INFO : Inicio leer fichero ../tfm_git/ejecuciones/metricas/metricas_9322.csv\n"
     ]
    },
    {
     "name": "stdout",
     "output_type": "stream",
     "text": [
      "20231030T070332 : enderlab : INFO : Fin leer fichero ../tfm_git/ejecuciones/metricas/metricas_9322.csv\n"
     ]
    },
    {
     "name": "stdout",
     "output_type": "stream",
     "text": [
      "20231030T070332 : enderlab : INFO : Inicio guardar fichero ../tfm_git/ejecuciones/metricas/metricas_9322.csv\n",
      "20231030T070332 : enderlab : INFO : Fichero borrado ../tfm_git/ejecuciones/metricas/metricas_9322.csv\n",
      "20231030T070332 : enderlab : INFO : Fin guardar fichero ../tfm_git/ejecuciones/metricas/metricas_9322.csv\n",
      "20231030T070332 : enderlab : INFO : Fin guardar métricas multiclase\n",
      "20231030T070332 : enderlab : INFO : Inicio leer fichero ../tfm_git/ejecuciones/metricas/metricas_9322.csv\n",
      "20231030T070332 : enderlab : INFO : Fin leer fichero ../tfm_git/ejecuciones/metricas/metricas_9322.csv\n"
     ]
    },
    {
     "data": {
      "text/html": [
       "<div>\n",
       "<style scoped>\n",
       "    .dataframe tbody tr th:only-of-type {\n",
       "        vertical-align: middle;\n",
       "    }\n",
       "\n",
       "    .dataframe tbody tr th {\n",
       "        vertical-align: top;\n",
       "    }\n",
       "\n",
       "    .dataframe thead th {\n",
       "        text-align: right;\n",
       "    }\n",
       "</style>\n",
       "<table border=\"1\" class=\"dataframe\">\n",
       "  <thead>\n",
       "    <tr style=\"text-align: right;\">\n",
       "      <th></th>\n",
       "      <th>tipo</th>\n",
       "      <th>select</th>\n",
       "      <th>clasific</th>\n",
       "      <th>semilla</th>\n",
       "      <th>accuracy</th>\n",
       "      <th>precision</th>\n",
       "      <th>recall</th>\n",
       "      <th>f1_score</th>\n",
       "      <th>roc_auc</th>\n",
       "      <th>hostname</th>\n",
       "      <th>total_time_sec</th>\n",
       "      <th>datetime</th>\n",
       "      <th>fichero_modelo</th>\n",
       "      <th>params</th>\n",
       "      <th>shape</th>\n",
       "      <th>features</th>\n",
       "      <th>roc_auc_ovr</th>\n",
       "      <th>indices_auc</th>\n",
       "      <th>indices_jaccard</th>\n",
       "    </tr>\n",
       "  </thead>\n",
       "  <tbody>\n",
       "    <tr>\n",
       "      <th>0</th>\n",
       "      <td>mul_m</td>\n",
       "      <td>RF</td>\n",
       "      <td>LR_L2</td>\n",
       "      <td>9322</td>\n",
       "      <td>0.620690</td>\n",
       "      <td>0.640512</td>\n",
       "      <td>0.640744</td>\n",
       "      <td>0.619943</td>\n",
       "      <td>NaN</td>\n",
       "      <td>enderlab</td>\n",
       "      <td>45</td>\n",
       "      <td>2023-10-30 07:03:32.527151</td>\n",
       "      <td>modelo_9322_mul_m_RF_LR_L2.pkl</td>\n",
       "      <td>{'selector__max_features': 1000, 'selector__es...</td>\n",
       "      <td>X_test:(87, 18875)</td>\n",
       "      <td>['ENSG00000004799.8', 'ENSG00000006327.14', 'E...</td>\n",
       "      <td>0.873449</td>\n",
       "      <td>[0.7913732394366197, 0.9037037037037037, 0.769...</td>\n",
       "      <td>[0.35, 0.5789473684210527, 0.2777777777777778,...</td>\n",
       "    </tr>\n",
       "    <tr>\n",
       "      <th>0</th>\n",
       "      <td>mul_m</td>\n",
       "      <td>RF</td>\n",
       "      <td>LR_L1</td>\n",
       "      <td>9322</td>\n",
       "      <td>0.551724</td>\n",
       "      <td>0.562265</td>\n",
       "      <td>0.579557</td>\n",
       "      <td>0.550455</td>\n",
       "      <td>NaN</td>\n",
       "      <td>enderlab</td>\n",
       "      <td>1679</td>\n",
       "      <td>2023-10-30 07:02:39.208366</td>\n",
       "      <td>modelo_9322_mul_m_RF_LR_L1.pkl</td>\n",
       "      <td>{'selector__max_features': 1000, 'selector__es...</td>\n",
       "      <td>X_test:(87, 18875)</td>\n",
       "      <td>['ENSG00000004799.8', 'ENSG00000006327.14', 'E...</td>\n",
       "      <td>0.843777</td>\n",
       "      <td>[0.7359154929577465, 0.8944444444444445, 0.729...</td>\n",
       "      <td>[0.3, 0.5263157894736842, 0.23809523809523808,...</td>\n",
       "    </tr>\n",
       "    <tr>\n",
       "      <th>0</th>\n",
       "      <td>mul_m</td>\n",
       "      <td>RF</td>\n",
       "      <td>LR_EN</td>\n",
       "      <td>9322</td>\n",
       "      <td>0.597701</td>\n",
       "      <td>0.606404</td>\n",
       "      <td>0.620826</td>\n",
       "      <td>0.590984</td>\n",
       "      <td>NaN</td>\n",
       "      <td>enderlab</td>\n",
       "      <td>1693</td>\n",
       "      <td>2023-10-30 06:34:31.547074</td>\n",
       "      <td>modelo_9322_mul_m_RF_LR_EN.pkl</td>\n",
       "      <td>{'selector__max_features': 1000, 'selector__es...</td>\n",
       "      <td>X_test:(87, 18875)</td>\n",
       "      <td>['ENSG00000004799.8', 'ENSG00000006327.14', 'E...</td>\n",
       "      <td>0.864495</td>\n",
       "      <td>[0.7746478873239437, 0.9009259259259259, 0.755...</td>\n",
       "      <td>[0.3, 0.5789473684210527, 0.2777777777777778, ...</td>\n",
       "    </tr>\n",
       "  </tbody>\n",
       "</table>\n",
       "</div>"
      ],
      "text/plain": [
       "    tipo select clasific  semilla  accuracy  precision    recall  f1_score  \\\n",
       "0  mul_m     RF    LR_L2     9322  0.620690   0.640512  0.640744  0.619943   \n",
       "0  mul_m     RF    LR_L1     9322  0.551724   0.562265  0.579557  0.550455   \n",
       "0  mul_m     RF    LR_EN     9322  0.597701   0.606404  0.620826  0.590984   \n",
       "\n",
       "   roc_auc  hostname  total_time_sec                    datetime  \\\n",
       "0      NaN  enderlab              45  2023-10-30 07:03:32.527151   \n",
       "0      NaN  enderlab            1679  2023-10-30 07:02:39.208366   \n",
       "0      NaN  enderlab            1693  2023-10-30 06:34:31.547074   \n",
       "\n",
       "                   fichero_modelo  \\\n",
       "0  modelo_9322_mul_m_RF_LR_L2.pkl   \n",
       "0  modelo_9322_mul_m_RF_LR_L1.pkl   \n",
       "0  modelo_9322_mul_m_RF_LR_EN.pkl   \n",
       "\n",
       "                                              params               shape  \\\n",
       "0  {'selector__max_features': 1000, 'selector__es...  X_test:(87, 18875)   \n",
       "0  {'selector__max_features': 1000, 'selector__es...  X_test:(87, 18875)   \n",
       "0  {'selector__max_features': 1000, 'selector__es...  X_test:(87, 18875)   \n",
       "\n",
       "                                            features  roc_auc_ovr  \\\n",
       "0  ['ENSG00000004799.8', 'ENSG00000006327.14', 'E...     0.873449   \n",
       "0  ['ENSG00000004799.8', 'ENSG00000006327.14', 'E...     0.843777   \n",
       "0  ['ENSG00000004799.8', 'ENSG00000006327.14', 'E...     0.864495   \n",
       "\n",
       "                                         indices_auc  \\\n",
       "0  [0.7913732394366197, 0.9037037037037037, 0.769...   \n",
       "0  [0.7359154929577465, 0.8944444444444445, 0.729...   \n",
       "0  [0.7746478873239437, 0.9009259259259259, 0.755...   \n",
       "\n",
       "                                     indices_jaccard  \n",
       "0  [0.35, 0.5789473684210527, 0.2777777777777778,...  \n",
       "0  [0.3, 0.5263157894736842, 0.23809523809523808,...  \n",
       "0  [0.3, 0.5789473684210527, 0.2777777777777778, ...  "
      ]
     },
     "metadata": {},
     "output_type": "display_data"
    }
   ],
   "source": [
    "if M_TIPO.startswith(\"bin\"):\n",
    "    myfunc.save_metricas_to_csv(random_search, X_test, y_test, M_TIPO, M_SELECT, M_CLASIF, total_time, SEMILLA, myfunc.MET_DIR, M_FICHERO, fichero_modelo)\n",
    "else:\n",
    "    myfunc.save_metricas_multi_to_csv(random_search, X_test, y_test, M_TIPO, M_SELECT, M_CLASIF, total_time, SEMILLA, myfunc.MET_DIR, M_FICHERO, fichero_modelo)\n",
    "\n",
    "df1=myfunc.read_metricas_to_df(myfunc.MET_DIR,M_FICHERO)\n",
    "\n",
    "display(df1.sort_values(\"datetime\", ascending=False)[:3])\n"
   ]
  },
  {
   "cell_type": "markdown",
   "id": "f3ccecc5",
   "metadata": {
    "papermill": {
     "duration": 0.006419,
     "end_time": "2023-10-30T06:03:32.591745",
     "exception": false,
     "start_time": "2023-10-30T06:03:32.585326",
     "status": "completed"
    },
    "tags": []
   },
   "source": [
    "#### Guardar resultados"
   ]
  },
  {
   "cell_type": "code",
   "execution_count": 13,
   "id": "ffac6430",
   "metadata": {
    "execution": {
     "iopub.execute_input": "2023-10-30T06:03:32.605664Z",
     "iopub.status.busy": "2023-10-30T06:03:32.605105Z",
     "iopub.status.idle": "2023-10-30T06:03:32.614832Z",
     "shell.execute_reply": "2023-10-30T06:03:32.614274Z"
    },
    "papermill": {
     "duration": 0.018291,
     "end_time": "2023-10-30T06:03:32.616255",
     "exception": false,
     "start_time": "2023-10-30T06:03:32.597964",
     "status": "completed"
    },
    "tags": []
   },
   "outputs": [
    {
     "name": "stdout",
     "output_type": "stream",
     "text": [
      "20231030T070332 : enderlab : INFO : Inicio guardar resultados\n",
      "20231030T070332 : enderlab : INFO : Inicio guardar fichero ../tfm_git/ejecuciones/metricas/resultados_9322_mul_m-RF-LR_L2.csv\n",
      "20231030T070332 : enderlab : INFO : Fin guardar fichero ../tfm_git/ejecuciones/metricas/resultados_9322_mul_m-RF-LR_L2.csv\n",
      "20231030T070332 : enderlab : INFO : Fin guardar resultados\n"
     ]
    }
   ],
   "source": [
    "fichero_resultados=R_FICHERO+\"_\"+M_TIPO+\"-\"+M_SELECT+\"-\"+M_CLASIF+\".csv\"\n",
    "myfunc.save_resultados_to_csv(M_TIPO, M_SELECT, M_CLASIF,  random_search, myfunc.MET_DIR, fichero_resultados)\n"
   ]
  }
 ],
 "metadata": {
  "kernelspec": {
   "display_name": "Python 3 (ipykernel)",
   "language": "python",
   "name": "python3"
  },
  "language_info": {
   "codemirror_mode": {
    "name": "ipython",
    "version": 3
   },
   "file_extension": ".py",
   "mimetype": "text/x-python",
   "name": "python",
   "nbconvert_exporter": "python",
   "pygments_lexer": "ipython3",
   "version": "3.10.11"
  },
  "papermill": {
   "default_parameters": {},
   "duration": 51.686534,
   "end_time": "2023-10-30T06:03:35.241921",
   "environment_variables": {},
   "exception": null,
   "input_path": "03_entrenamiento.ipynb",
   "output_path": "ejecuciones/training/03_entrenamiento.20231030T070243.param_0000_9322_mul_m_RF_LR_L2.output.ipynb",
   "parameters": {
    "MAX_ITERS": 500,
    "M_CLASIF": "LR_L2",
    "M_FICHERO": "metricas_9322",
    "M_SELECT": "RF",
    "M_TIPO": "mul_m",
    "PRE_DATA_FILE": "rows_transpose_norm_by_gene_id_with_target_num_",
    "P_FICHERO": "param_0000_9322_mul_m_RF_LR_L2.yaml",
    "R_FICHERO": "resultados_9322",
    "SCORING": "roc_auc_ovr",
    "SEMILLA": 9322,
    "eval_clasifier": "LogisticRegressionCV(random_state=SEMILLA)",
    "eval_selector": "SelectFromModel(estimator=RandomForestClassifier(random_state=SEMILLA), threshold=-np.inf)",
    "param_distributions": {
     "clasifier__max_iter": [
      10000
     ],
     "clasifier__penalty": [
      "l2"
     ],
     "clasifier__solver": [
      "lbfgs"
     ],
     "selector__estimator__n_estimators": [
      400
     ],
     "selector__max_features": [
      1000
     ]
    }
   },
   "start_time": "2023-10-30T06:02:43.555387",
   "version": "2.4.0"
  }
 },
 "nbformat": 4,
 "nbformat_minor": 5
}