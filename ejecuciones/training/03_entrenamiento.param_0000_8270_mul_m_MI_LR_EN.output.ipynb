{
 "cells": [
  {
   "cell_type": "markdown",
   "id": "7a133e38",
   "metadata": {
    "papermill": {
     "duration": 0.005561,
     "end_time": "2023-10-29T21:32:31.859869",
     "exception": false,
     "start_time": "2023-10-29T21:32:31.854308",
     "status": "completed"
    },
    "tags": []
   },
   "source": [
    "##### Inicio"
   ]
  },
  {
   "cell_type": "markdown",
   "id": "6f49624c",
   "metadata": {
    "papermill": {
     "duration": 0.003377,
     "end_time": "2023-10-29T21:32:31.866956",
     "exception": false,
     "start_time": "2023-10-29T21:32:31.863579",
     "status": "completed"
    },
    "tags": []
   },
   "source": [
    "#### Carga de datos"
   ]
  },
  {
   "cell_type": "code",
   "execution_count": 1,
   "id": "08138b6b",
   "metadata": {
    "execution": {
     "iopub.execute_input": "2023-10-29T21:32:31.875315Z",
     "iopub.status.busy": "2023-10-29T21:32:31.874780Z",
     "iopub.status.idle": "2023-10-29T21:32:33.023549Z",
     "shell.execute_reply": "2023-10-29T21:32:33.022942Z"
    },
    "papermill": {
     "duration": 1.15527,
     "end_time": "2023-10-29T21:32:33.025562",
     "exception": false,
     "start_time": "2023-10-29T21:32:31.870292",
     "status": "completed"
    },
    "tags": []
   },
   "outputs": [
    {
     "name": "stdout",
     "output_type": "stream",
     "text": [
      "CPU_COUNT: 16; NODE: enderlab; sys.version: 3.10.11 (main, May 16 2023, 00:28:57) [GCC 11.2.0]\n",
      "LOKY_MAX_CPU_COUNT is not set.\n",
      "OMP_NUM_THREADS is not set.\n"
     ]
    }
   ],
   "source": [
    "import os\n",
    "import numpy as np\n",
    "import pandas as pd\n",
    "import datetime\n",
    "import sklearn\n",
    "import logging\n",
    "import warnings\n",
    "\n",
    "from sklearn.pipeline import Pipeline\n",
    "from sklearn.model_selection import RandomizedSearchCV, KFold, cross_val_score, train_test_split\n",
    "from sklearn.metrics import accuracy_score, confusion_matrix, classification_report, roc_auc_score\n",
    "\n",
    "#  cargar algoritmos para aprendizaje supervisado\n",
    "from sklearn.feature_selection import SelectKBest, f_classif, SelectFromModel, mutual_info_classif\n",
    "from sklearn.svm import SVC\n",
    "from sklearn.ensemble import RandomForestClassifier\n",
    "from sklearn.linear_model import LogisticRegression,LogisticRegressionCV\n",
    "\n",
    "# importar fichero con utilidades propias\n",
    "from commons import myfunctions as myfunc\n"
   ]
  },
  {
   "cell_type": "markdown",
   "id": "842cc0d7",
   "metadata": {
    "papermill": {
     "duration": 0.003689,
     "end_time": "2023-10-29T21:32:33.033426",
     "exception": false,
     "start_time": "2023-10-29T21:32:33.029737",
     "status": "completed"
    },
    "tags": []
   },
   "source": [
    "#### Parámetros a utilizar en el entrenamiento.\n",
    "\n",
    "Se indican los 3 algoritmos de *selección de características* (eval_selector_xxx) y los 3 algoritmos para la _clasificación_ (eval_clasifier_xxx)\n",
    "\n",
    "En *param_distributions* se indicar los parámetros que utilizan los algoritmos en la función RandomSearchCV.\n",
    "\n",
    "Esta celda tiene la etiqueta **parameters** que servirá para poder lanzar los entrenamientos con la utilidad **papermill** pasándole un fichero con los parámetros. Los nuevos parámetros se situarán tras esta celda para tener prevalencia."
   ]
  },
  {
   "cell_type": "code",
   "execution_count": 2,
   "id": "87925e0c",
   "metadata": {
    "execution": {
     "iopub.execute_input": "2023-10-29T21:32:33.042031Z",
     "iopub.status.busy": "2023-10-29T21:32:33.041598Z",
     "iopub.status.idle": "2023-10-29T21:32:33.050152Z",
     "shell.execute_reply": "2023-10-29T21:32:33.049613Z"
    },
    "papermill": {
     "duration": 0.014564,
     "end_time": "2023-10-29T21:32:33.051484",
     "exception": false,
     "start_time": "2023-10-29T21:32:33.036920",
     "status": "completed"
    },
    "tags": [
     "parameters"
    ]
   },
   "outputs": [
    {
     "name": "stdout",
     "output_type": "stream",
     "text": [
      "20231029T223233 : enderlab : INFO : Utilizando parámetros de mul_m\n"
     ]
    }
   ],
   "source": [
    "#  Parametros para el entrenamiento\n",
    "\n",
    "SEMILLA=        42\n",
    "M_TIPO=         \"mul_m\"\n",
    "M_SELECT=       \"MI\"\n",
    "M_CLASIF=       \"SVM\"\n",
    "R_FICHERO=      \"resultados\"\n",
    "M_FICHERO=      \"metricas\"\n",
    "PRE_DATA_FILE=  \"rows_transpose_norm_by_gene_id_with_target_num_\"\n",
    "SCORING=        \"roc_auc_ovr\" \n",
    "MAX_ITERS=      100\n",
    "\n",
    "def mutual_info_classif_state(X, y):\n",
    "    return mutual_info_classif(X, y, random_state=SEMILLA)\n",
    "\n",
    "eval_selector_mi = \"SelectKBest(score_func=mutual_info_classif_state)\"\n",
    "eval_selector_rf=  \"SelectFromModel(estimator=RandomForestClassifier(random_state=SEMILLA), threshold=-np.inf)\"\n",
    "eval_selector_anova=  \"SelectKBest(score_func=f_classif)\"\n",
    "\n",
    "eval_clasifier_svm= \"SVC(probability=True, random_state=SEMILLA)\"\n",
    "eval_clasifier_rf= \"RandomForestClassifier(random_state=SEMILLA)\"\n",
    "eval_clasifier_lr= \"LogisticRegressionCV(random_state=SEMILLA)\"\n",
    "\n",
    "if M_TIPO.startswith(\"bin_m\"):\n",
    "    myfunc.verbose(f\"Utilizando parámetros de {M_TIPO}\")\n",
    "    eval_selector = eval_selector_mi\n",
    "    eval_clasifier = eval_clasifier_svm\n",
    "\n",
    "    SEMILLA = 6578\n",
    "    M_SELECT = \"MI\"\n",
    "    M_CLASIF = \"SVM\"\n",
    "    param_distributions = {'selector__k': [1000], \n",
    "         'clasifier__kernel': ['rbf'], 'clasifier__gamma': [0.01], 'clasifier__C': [100]}\n",
    "elif M_TIPO.startswith(\"bin_s\"):\n",
    "    myfunc.verbose(f\"Utilizando parámetros de {M_TIPO}\")\n",
    "    eval_selector = eval_selector_rf\n",
    "    eval_clasifier = eval_clasifier_lr\n",
    "\n",
    "    SEMILLA = 6191\n",
    "    M_SELECT = \"RF\"\n",
    "    M_CLASIF = \"LR_L2\"\n",
    "    param_distributions = {'selector__max_features': [1000], 'selector__estimator__n_estimators': [200], \n",
    "        'clasifier__solver': ['lbfgs'], 'clasifier__penalty': ['l2'], 'clasifier__max_iter': [10000]}\n",
    "\n",
    "elif M_TIPO.startswith(\"mul_m\"):\n",
    "    myfunc.verbose(f\"Utilizando parámetros de {M_TIPO}\")\n",
    " \n",
    "    eval_selector = eval_selector_rf\n",
    "    eval_clasifier = eval_clasifier_lr\n",
    "\n",
    "    SEMILLA = 6191\n",
    "    M_SELECT = \"RF\"\n",
    "    M_CLASIF = \"LR_L2\"\n",
    "    param_distributions = {'selector__max_features': [1000], 'selector__estimator__n_estimators': [400], \n",
    "        'clasifier__solver': ['lbfgs'], 'clasifier__penalty': ['l2'], 'clasifier__max_iter': [10000]}\n",
    "\n",
    "else:\n",
    "    # M_TIPO.startswith(\"mul_s\"):\n",
    "    myfunc.verbose(f\"Utilizando parámetros de {M_TIPO}\")\n",
    "    eval_selector = eval_selector_anova\n",
    "    eval_clasifier = eval_clasifier_lr\n",
    "\n",
    "    SEMILLA = 1860\n",
    "    M_SELECT = \"ANOVA\"\n",
    "    M_CLASIF = \"LR_L2\"\n",
    "    param_distributions = {'selector__k': [1000], \n",
    "        'clasifier__solver': ['saga'], 'clasifier__penalty': ['l2'], 'clasifier__max_iter': [10000]}\n",
    "\n"
   ]
  },
  {
   "cell_type": "code",
   "execution_count": 3,
   "id": "72af42f7",
   "metadata": {
    "execution": {
     "iopub.execute_input": "2023-10-29T21:32:33.059876Z",
     "iopub.status.busy": "2023-10-29T21:32:33.059521Z",
     "iopub.status.idle": "2023-10-29T21:32:33.063415Z",
     "shell.execute_reply": "2023-10-29T21:32:33.062945Z"
    },
    "papermill": {
     "duration": 0.00956,
     "end_time": "2023-10-29T21:32:33.064606",
     "exception": false,
     "start_time": "2023-10-29T21:32:33.055046",
     "status": "completed"
    },
    "tags": [
     "injected-parameters"
    ]
   },
   "outputs": [],
   "source": [
    "# Parameters\n",
    "M_TIPO = \"mul_m\"\n",
    "M_SELECT = \"MI\"\n",
    "M_CLASIF = \"LR_EN\"\n",
    "P_FICHERO = \"param_0000_8270_mul_m_MI_LR_EN.yaml\"\n",
    "R_FICHERO = \"resultados_8270\"\n",
    "M_FICHERO = \"metricas_8270\"\n",
    "PRE_DATA_FILE = \"rows_transpose_norm_by_gene_id_with_target_num_\"\n",
    "SCORING = \"roc_auc_ovr\"\n",
    "SEMILLA = 8270\n",
    "MAX_ITERS = 500\n",
    "eval_selector = \"SelectKBest(score_func=mutual_info_classif_state)\"\n",
    "eval_clasifier = \"LogisticRegressionCV(random_state=SEMILLA)\"\n",
    "param_distributions = {\n",
    "    \"selector__k\": [1000],\n",
    "    \"clasifier__solver\": [\"saga\"],\n",
    "    \"clasifier__penalty\": [\"elasticnet\"],\n",
    "    \"clasifier__max_iter\": [10000],\n",
    "    \"clasifier__l1_ratios\": [[0.2]],\n",
    "}\n"
   ]
  },
  {
   "cell_type": "code",
   "execution_count": 4,
   "id": "396c0df7",
   "metadata": {
    "execution": {
     "iopub.execute_input": "2023-10-29T21:32:33.073689Z",
     "iopub.status.busy": "2023-10-29T21:32:33.073207Z",
     "iopub.status.idle": "2023-10-29T21:32:33.076618Z",
     "shell.execute_reply": "2023-10-29T21:32:33.076068Z"
    },
    "papermill": {
     "duration": 0.00926,
     "end_time": "2023-10-29T21:32:33.077882",
     "exception": false,
     "start_time": "2023-10-29T21:32:33.068622",
     "status": "completed"
    },
    "tags": []
   },
   "outputs": [],
   "source": [
    "DATA_FILE = PRE_DATA_FILE + M_TIPO\n",
    "\n",
    "# si viene \"None\" en el parámetro max_depth, se le quitan las comillas para que no sea entendido por el algoritmo como un texto\n",
    "if \"clasifier__max_depth\" in param_distributions:\n",
    "    param_distributions['clasifier__max_depth'] = [None if x == 'None' else x for x in param_distributions['clasifier__max_depth']]"
   ]
  },
  {
   "cell_type": "markdown",
   "id": "001128ae",
   "metadata": {
    "papermill": {
     "duration": 0.003606,
     "end_time": "2023-10-29T21:32:33.085045",
     "exception": false,
     "start_time": "2023-10-29T21:32:33.081439",
     "status": "completed"
    },
    "tags": []
   },
   "source": [
    "Asignar los algoritmos que se utilizarán en la función RandomSearchCV"
   ]
  },
  {
   "cell_type": "code",
   "execution_count": 5,
   "id": "904f48ed",
   "metadata": {
    "execution": {
     "iopub.execute_input": "2023-10-29T21:32:33.093488Z",
     "iopub.status.busy": "2023-10-29T21:32:33.093144Z",
     "iopub.status.idle": "2023-10-29T21:32:33.096066Z",
     "shell.execute_reply": "2023-10-29T21:32:33.095533Z"
    },
    "papermill": {
     "duration": 0.008777,
     "end_time": "2023-10-29T21:32:33.097376",
     "exception": false,
     "start_time": "2023-10-29T21:32:33.088599",
     "status": "completed"
    },
    "tags": []
   },
   "outputs": [],
   "source": [
    "algor_selector=eval(eval_selector)\n",
    "algor_clasifier=eval(eval_clasifier)"
   ]
  },
  {
   "cell_type": "markdown",
   "id": "fe0b2b39",
   "metadata": {
    "papermill": {
     "duration": 0.003786,
     "end_time": "2023-10-29T21:32:33.105008",
     "exception": false,
     "start_time": "2023-10-29T21:32:33.101222",
     "status": "completed"
    },
    "tags": []
   },
   "source": [
    "#### Comprobar el entorno y leer fichero de muestras"
   ]
  },
  {
   "cell_type": "code",
   "execution_count": 6,
   "id": "aebefafd",
   "metadata": {
    "execution": {
     "iopub.execute_input": "2023-10-29T21:32:33.114827Z",
     "iopub.status.busy": "2023-10-29T21:32:33.114336Z",
     "iopub.status.idle": "2023-10-29T21:32:33.368123Z",
     "shell.execute_reply": "2023-10-29T21:32:33.367447Z"
    },
    "papermill": {
     "duration": 0.260073,
     "end_time": "2023-10-29T21:32:33.369513",
     "exception": false,
     "start_time": "2023-10-29T21:32:33.109440",
     "status": "completed"
    },
    "tags": []
   },
   "outputs": [
    {
     "name": "stdout",
     "output_type": "stream",
     "text": [
      "20231029T223233 : enderlab : INFO : Encontrada carpeta DATA_DIR=../tfm_git/datos\n",
      "20231029T223233 : enderlab : INFO : Encontrada carpeta CFDNA_DIR=../tfm_git/datos/cfDNA_5hmC\n",
      "20231029T223233 : enderlab : INFO : Encontrada carpeta GENCODE_DIR=../tfm_git/datos/gencode\n",
      "20231029T223233 : enderlab : INFO : Encontrada carpeta H5_DIR=../tfm_git/datos/h5\n",
      "20231029T223233 : enderlab : INFO : Encontrada carpeta LOG_DIR=../tfm_git/datos/logs\n",
      "20231029T223233 : enderlab : INFO : Encontrada carpeta CSV_DIR=../tfm_git/datos/csv\n",
      "20231029T223233 : enderlab : INFO : Encontrada carpeta MODEL_DIR=../tfm_git/ejecuciones/modelos\n",
      "20231029T223233 : enderlab : INFO : Encontrada carpeta EXEC_DIR=../tfm_git/ejecuciones\n",
      "20231029T223233 : enderlab : INFO : Encontrada carpeta MET_DIR=../tfm_git/ejecuciones/metricas\n",
      "20231029T223233 : enderlab : INFO : Inicio leer fichero h5 ../tfm_git/datos/h5/rows_transpose_norm_by_gene_id_with_target_num_mul_m.h5\n",
      "20231029T223233 : enderlab : INFO : Leyendo clave /df\n"
     ]
    },
    {
     "name": "stdout",
     "output_type": "stream",
     "text": [
      "20231029T223233 : enderlab : INFO : Tamaño (434, 18876)\n",
      "20231029T223233 : enderlab : INFO : Fin leer fichero h5 ../tfm_git/datos/h5/rows_transpose_norm_by_gene_id_with_target_num_mul_m.h5\n"
     ]
    },
    {
     "data": {
      "text/plain": [
       "target\n",
       "0    62\n",
       "1    62\n",
       "2    62\n",
       "3    62\n",
       "4    62\n",
       "5    62\n",
       "6    62\n",
       "dtype: int64"
      ]
     },
     "metadata": {},
     "output_type": "display_data"
    },
    {
     "name": "stdout",
     "output_type": "stream",
     "text": [
      "Shape df: (434, 18876)\n"
     ]
    },
    {
     "name": "stdout",
     "output_type": "stream",
     "text": [
      "Shape X_train: (347, 18875)\n",
      "Shape X_test: (87, 18875)\n"
     ]
    }
   ],
   "source": [
    "start_time = datetime.datetime.now()\n",
    "\n",
    "myfunc.reset_vars()\n",
    "\n",
    "myfunc.NOTEBK_FILENAME = myfunc.get_nb_name()\n",
    "\n",
    "myfunc.check_enviroment(myfunc.DATA_DIR, myfunc.CFDNA_DIR, myfunc.GENCODE_DIR, myfunc.H5_DIR, myfunc.LOG_DIR, myfunc.CSV_DIR, myfunc.MODEL_DIR, myfunc.EXEC_DIR, myfunc.MET_DIR)\n",
    "\n",
    "# Leer fichero con las muestras\n",
    "df_t = myfunc.read_h5_to_df(DATA_FILE, myfunc.H5_DIR)\n",
    "display(df_t.groupby(\"target\").size())\n",
    "print(\"Shape df:\",df_t.shape)\n",
    "\n",
    "# Separar caracteristicas/genes de las etiquetas/tipos de cáncer\n",
    "X = df_t.iloc[:, :-1]  # Todas las columnas excepto la última\n",
    "y = df_t.iloc[:, -1]  # La última columna contiene los identificadores de los tipos de cáncer\n",
    "\n",
    "#  Crear el conjunto de datos de entrenamiento y de pruebas, y se fija la semilla para siempre coger el mismo juego de muestras\n",
    "X_train, X_test, y_train, y_test = train_test_split(X, y, test_size=0.2, shuffle=True, random_state=42)\n",
    "print(\"Shape X_train:\",X_train.shape)\n",
    "print(\"Shape X_test:\",X_test.shape)\n"
   ]
  },
  {
   "cell_type": "markdown",
   "id": "edd17a9e",
   "metadata": {
    "papermill": {
     "duration": 0.004119,
     "end_time": "2023-10-29T21:32:33.378220",
     "exception": false,
     "start_time": "2023-10-29T21:32:33.374101",
     "status": "completed"
    },
    "tags": []
   },
   "source": [
    "#### Selección de características y clasificación."
   ]
  },
  {
   "cell_type": "code",
   "execution_count": 7,
   "id": "eb65801e",
   "metadata": {
    "execution": {
     "iopub.execute_input": "2023-10-29T21:32:33.387849Z",
     "iopub.status.busy": "2023-10-29T21:32:33.387405Z",
     "iopub.status.idle": "2023-10-29T21:58:20.569445Z",
     "shell.execute_reply": "2023-10-29T21:58:20.568506Z"
    },
    "papermill": {
     "duration": 1547.19278,
     "end_time": "2023-10-29T21:58:20.574931",
     "exception": false,
     "start_time": "2023-10-29T21:32:33.382151",
     "status": "completed"
    },
    "tags": []
   },
   "outputs": [
    {
     "name": "stdout",
     "output_type": "stream",
     "text": [
      "20231029T223233 : enderlab : INFO : Iniciando entrenamiento\n",
      "num_iter: 1 , max_iter: 1\n",
      "Fitting 5 folds for each of 1 candidates, totalling 5 fits\n"
     ]
    },
    {
     "name": "stdout",
     "output_type": "stream",
     "text": [
      "[CV 2/5] END clasifier__l1_ratios=[0.2], clasifier__max_iter=10000, clasifier__penalty=elasticnet, clasifier__solver=saga, selector__k=1000;, score=0.863 total time=10.5min\n"
     ]
    },
    {
     "name": "stdout",
     "output_type": "stream",
     "text": [
      "[CV 3/5] END clasifier__l1_ratios=[0.2], clasifier__max_iter=10000, clasifier__penalty=elasticnet, clasifier__solver=saga, selector__k=1000;, score=0.903 total time=10.8min\n"
     ]
    },
    {
     "name": "stdout",
     "output_type": "stream",
     "text": [
      "[CV 5/5] END clasifier__l1_ratios=[0.2], clasifier__max_iter=10000, clasifier__penalty=elasticnet, clasifier__solver=saga, selector__k=1000;, score=0.890 total time=11.8min\n"
     ]
    },
    {
     "name": "stdout",
     "output_type": "stream",
     "text": [
      "[CV 4/5] END clasifier__l1_ratios=[0.2], clasifier__max_iter=10000, clasifier__penalty=elasticnet, clasifier__solver=saga, selector__k=1000;, score=0.854 total time=12.2min\n"
     ]
    },
    {
     "name": "stdout",
     "output_type": "stream",
     "text": [
      "[CV 1/5] END clasifier__l1_ratios=[0.2], clasifier__max_iter=10000, clasifier__penalty=elasticnet, clasifier__solver=saga, selector__k=1000;, score=0.876 total time=12.7min\n"
     ]
    },
    {
     "name": "stdout",
     "output_type": "stream",
     "text": [
      "Mejores Hiperparámetros: {'selector__k': 1000, 'clasifier__solver': 'saga', 'clasifier__penalty': 'elasticnet', 'clasifier__max_iter': 10000, 'clasifier__l1_ratios': [0.2]}\n",
      "Mejor Puntuación: 0.8771\n",
      "20231029T225820 : enderlab : INFO : Fin entrenamiento\n"
     ]
    }
   ],
   "source": [
    "myfunc.verbose(\"Iniciando entrenamiento\")\n",
    "\n",
    "kf = KFold(n_splits=5, shuffle=True, random_state=SEMILLA)\n",
    "\n",
    "# Crear el pipeline para el flujo de tareas\n",
    "tasks_pipeline = Pipeline([\n",
    "    ('selector', algor_selector),\n",
    "    ('clasifier', algor_clasifier)\n",
    "])\n",
    "\n",
    "# MAX_ITERS puede limitar el número de iteraciones si son excesivas para las combinaciones de parámetros buscando un óptimo local, \n",
    "# sino funcionaría como GridSearchCV al revisar todas las cominaciones de los parámetros\n",
    "num_iteraciones = 1\n",
    "num_iteraciones = num_iteraciones * np.prod([len(elemento1) for _, elemento1 in param_distributions.items()])\n",
    "max_iteraciones = num_iteraciones if num_iteraciones <= MAX_ITERS else MAX_ITERS\n",
    "print(\"num_iter:\",num_iteraciones,\", max_iter:\",max_iteraciones)\n",
    "\n",
    "random_search = RandomizedSearchCV(\n",
    "    tasks_pipeline, \n",
    "    param_distributions, \n",
    "    n_iter=max_iteraciones,\n",
    "    scoring=SCORING,\n",
    "    cv=kf,\n",
    "    verbose=3, \n",
    "    random_state=SEMILLA, \n",
    "    n_jobs=-1\n",
    "    )\n",
    "\n",
    "# Entrenar el modelo\n",
    "random_search.fit(X_train, y_train)\n",
    "\n",
    "# Ver los mejores hiperparámetros encontrados\n",
    "print(f'Mejores Hiperparámetros: {random_search.best_params_}')\n",
    "print(f'Mejor Puntuación: {random_search.best_score_:.4f}')\n",
    "\n",
    "# Nos quedamos con el mejor modelo para ver las métricas\n",
    "mejor_modelo = random_search.best_estimator_\n",
    "\n",
    "myfunc.verbose(\"Fin entrenamiento\")"
   ]
  },
  {
   "cell_type": "markdown",
   "id": "8add98e5",
   "metadata": {
    "papermill": {
     "duration": 0.004218,
     "end_time": "2023-10-29T21:58:20.583680",
     "exception": false,
     "start_time": "2023-10-29T21:58:20.579462",
     "status": "completed"
    },
    "tags": []
   },
   "source": [
    "#### Guardar modelo"
   ]
  },
  {
   "cell_type": "code",
   "execution_count": 8,
   "id": "bb758e5c",
   "metadata": {
    "execution": {
     "iopub.execute_input": "2023-10-29T21:58:20.594717Z",
     "iopub.status.busy": "2023-10-29T21:58:20.594460Z",
     "iopub.status.idle": "2023-10-29T21:58:20.607467Z",
     "shell.execute_reply": "2023-10-29T21:58:20.606923Z"
    },
    "papermill": {
     "duration": 0.020778,
     "end_time": "2023-10-29T21:58:20.608689",
     "exception": false,
     "start_time": "2023-10-29T21:58:20.587911",
     "status": "completed"
    },
    "tags": []
   },
   "outputs": [
    {
     "name": "stdout",
     "output_type": "stream",
     "text": [
      "20231029T225820 : enderlab : INFO : Inicio guardar fichero ../tfm_git/ejecuciones/modelos/modelo_8270_mul_m_MI_LR_EN.pkl\n",
      "20231029T225820 : enderlab : INFO : Fin guardar fichero ../tfm_git/ejecuciones/modelos/modelo_8270_mul_m_MI_LR_EN.pkl\n"
     ]
    }
   ],
   "source": [
    "fichero_modelo = str.replace(\"modelo_\"+str(SEMILLA).zfill(4)+\"_\"+M_TIPO+\"_\"+M_SELECT+\"_\"+M_CLASIF+\".pkl\", \" \", \"_\")\n",
    "\n",
    "myfunc.save_modelo(mejor_modelo, myfunc.MODEL_DIR, fichero_modelo)"
   ]
  },
  {
   "cell_type": "markdown",
   "id": "cddd5d3c",
   "metadata": {
    "papermill": {
     "duration": 0.004295,
     "end_time": "2023-10-29T21:58:20.617331",
     "exception": false,
     "start_time": "2023-10-29T21:58:20.613036",
     "status": "completed"
    },
    "tags": []
   },
   "source": [
    "#### Ver resultados del las iteraciones hechas por RandomSearchCV"
   ]
  },
  {
   "cell_type": "code",
   "execution_count": 9,
   "id": "82452483",
   "metadata": {
    "execution": {
     "iopub.execute_input": "2023-10-29T21:58:20.626975Z",
     "iopub.status.busy": "2023-10-29T21:58:20.626482Z",
     "iopub.status.idle": "2023-10-29T21:58:20.633303Z",
     "shell.execute_reply": "2023-10-29T21:58:20.632765Z"
    },
    "papermill": {
     "duration": 0.012896,
     "end_time": "2023-10-29T21:58:20.634480",
     "exception": false,
     "start_time": "2023-10-29T21:58:20.621584",
     "status": "completed"
    },
    "tags": []
   },
   "outputs": [
    {
     "name": "stdout",
     "output_type": "stream",
     "text": [
      "20231029T225820 : enderlab : INFO : Inicio ver resultados\n",
      "Mejores Hiperparámetros: {'selector__k': 1000, 'clasifier__solver': 'saga', 'clasifier__penalty': 'elasticnet', 'clasifier__max_iter': 10000, 'clasifier__l1_ratios': [0.2]}\n",
      "Mejores puntuaciones: 0.8771 | Params: {'selector__k': 1000, 'clasifier__solver': 'saga', 'clasifier__penalty': 'elasticnet', 'clasifier__max_iter': 10000, 'clasifier__l1_ratios': [0.2]}\n",
      "Media de las puntuaciones: 0.8771 | Params: {'selector__k': 1000, 'clasifier__solver': 'saga', 'clasifier__penalty': 'elasticnet', 'clasifier__max_iter': 10000, 'clasifier__l1_ratios': [0.2]}\n",
      "20231029T225820 : enderlab : INFO : Fin resultados\n"
     ]
    }
   ],
   "source": [
    "myfunc.ver_resultados_search(random_search)"
   ]
  },
  {
   "cell_type": "markdown",
   "id": "05364914",
   "metadata": {
    "papermill": {
     "duration": 0.004262,
     "end_time": "2023-10-29T21:58:20.643048",
     "exception": false,
     "start_time": "2023-10-29T21:58:20.638786",
     "status": "completed"
    },
    "tags": []
   },
   "source": [
    "#### Ver métricas del mejor modelo"
   ]
  },
  {
   "cell_type": "code",
   "execution_count": 10,
   "id": "5ea94011",
   "metadata": {
    "execution": {
     "iopub.execute_input": "2023-10-29T21:58:20.652960Z",
     "iopub.status.busy": "2023-10-29T21:58:20.652401Z",
     "iopub.status.idle": "2023-10-29T21:58:21.342736Z",
     "shell.execute_reply": "2023-10-29T21:58:21.342101Z"
    },
    "papermill": {
     "duration": 0.696583,
     "end_time": "2023-10-29T21:58:21.344001",
     "exception": false,
     "start_time": "2023-10-29T21:58:20.647418",
     "status": "completed"
    },
    "tags": []
   },
   "outputs": [
    {
     "name": "stdout",
     "output_type": "stream",
     "text": [
      "20231029T225820 : enderlab : INFO : Inicio ver métricas multiclase\n"
     ]
    },
    {
     "name": "stdout",
     "output_type": "stream",
     "text": [
      "              precision    recall  f1-score   support\n",
      "\n",
      "           0       0.71      0.62      0.67        16\n",
      "           1       0.73      0.53      0.62        15\n",
      "           2       0.50      0.45      0.48        11\n",
      "           3       0.62      1.00      0.77         5\n",
      "           4       0.53      0.62      0.57        13\n",
      "           5       0.78      0.78      0.78         9\n",
      "           6       0.70      0.78      0.74        18\n",
      "\n",
      "    accuracy                           0.66        87\n",
      "   macro avg       0.65      0.68      0.66        87\n",
      "weighted avg       0.66      0.66      0.65        87\n",
      "\n",
      "\n",
      "\n",
      "           Exactitud: 0.655172\n",
      "   Precisión (media): 0.653953\n",
      "      Recall (media): 0.683403\n",
      "    F1-score (media): 0.659074\n",
      "\n",
      "\n",
      "AUC para el tipo de cáncer 0-Control.... 0.8961\n",
      "AUC para el tipo de cáncer 1-Bladder.... 0.8759\n",
      "AUC para el tipo de cáncer 2-Breast..... 0.8038\n",
      "AUC para el tipo de cáncer 3-Colorectal. 1.0000\n",
      "AUC para el tipo de cáncer 4-Kidney..... 0.8617\n",
      "AUC para el tipo de cáncer 5-Lung....... 0.9174\n",
      "AUC para el tipo de cáncer 6-Prostate... 0.8929\n"
     ]
    },
    {
     "name": "stdout",
     "output_type": "stream",
     "text": [
      "\n",
      "Media de AUC: 0.8926\n"
     ]
    },
    {
     "data": {
      "image/png": "[encoded data removed]",
      "text/plain": [
       "<Figure size 1000x600 with 1 Axes>"
      ]
     },
     "metadata": {},
     "output_type": "display_data"
    },
    {
     "name": "stdout",
     "output_type": "stream",
     "text": [
      "\n",
      "\n"
     ]
    },
    {
     "data": {
      "image/png": "[encoded data removed]",
      "text/plain": [
       "<Figure size 800x400 with 2 Axes>"
      ]
     },
     "metadata": {},
     "output_type": "display_data"
    },
    {
     "name": "stdout",
     "output_type": "stream",
     "text": [
      "\n",
      "\n",
      "Puntuación Jaccard para el cáncer tipo 0-Control.... 0.5000\n",
      "Puntuación Jaccard para el cáncer tipo 1-Bladder.... 0.4444\n",
      "Puntuación Jaccard para el cáncer tipo 2-Breast..... 0.3125\n",
      "Puntuación Jaccard para el cáncer tipo 3-Colorectal. 0.6250\n",
      "Puntuación Jaccard para el cáncer tipo 4-Kidney..... 0.4000\n",
      "Puntuación Jaccard para el cáncer tipo 5-Lung....... 0.6364\n",
      "Puntuación Jaccard para el cáncer tipo 6-Prostate... 0.5833\n",
      "\n",
      "Media de la puntuación de Jaccard: 0.5002\n"
     ]
    }
   ],
   "source": [
    "if M_TIPO.startswith(\"bin\"):\n",
    "    myfunc.ver_metricas(mejor_modelo, X_test, y_test)\n",
    "else:\n",
    "    myfunc.ver_metricas_multi(mejor_modelo, X_test, y_test)\n"
   ]
  },
  {
   "cell_type": "markdown",
   "id": "ca9022df",
   "metadata": {
    "papermill": {
     "duration": 0.006182,
     "end_time": "2023-10-29T21:58:21.357000",
     "exception": false,
     "start_time": "2023-10-29T21:58:21.350818",
     "status": "completed"
    },
    "tags": []
   },
   "source": [
    "#### Finalización del notebook"
   ]
  },
  {
   "cell_type": "code",
   "execution_count": 11,
   "id": "c7fa0184",
   "metadata": {
    "execution": {
     "iopub.execute_input": "2023-10-29T21:58:21.370261Z",
     "iopub.status.busy": "2023-10-29T21:58:21.369732Z",
     "iopub.status.idle": "2023-10-29T21:58:21.373534Z",
     "shell.execute_reply": "2023-10-29T21:58:21.373007Z"
    },
    "papermill": {
     "duration": 0.011816,
     "end_time": "2023-10-29T21:58:21.374781",
     "exception": false,
     "start_time": "2023-10-29T21:58:21.362965",
     "status": "completed"
    },
    "tags": []
   },
   "outputs": [
    {
     "name": "stdout",
     "output_type": "stream",
     "text": [
      "20231029T225821 : enderlab : INFO : Notebook ha tardado 1548 seconds\n"
     ]
    }
   ],
   "source": [
    "end_time = datetime.datetime.now()\n",
    "total_time = end_time - start_time\n",
    "myfunc.verbose(f\"Notebook ha tardado {total_time.seconds} seconds\")"
   ]
  },
  {
   "cell_type": "markdown",
   "id": "06c805d2",
   "metadata": {
    "papermill": {
     "duration": 0.005966,
     "end_time": "2023-10-29T21:58:21.386733",
     "exception": false,
     "start_time": "2023-10-29T21:58:21.380767",
     "status": "completed"
    },
    "tags": []
   },
   "source": [
    "#### Guardar métricas"
   ]
  },
  {
   "cell_type": "code",
   "execution_count": 12,
   "id": "03a055ca",
   "metadata": {
    "execution": {
     "iopub.execute_input": "2023-10-29T21:58:21.400033Z",
     "iopub.status.busy": "2023-10-29T21:58:21.399642Z",
     "iopub.status.idle": "2023-10-29T21:58:21.631693Z",
     "shell.execute_reply": "2023-10-29T21:58:21.631133Z"
    },
    "papermill": {
     "duration": 0.240079,
     "end_time": "2023-10-29T21:58:21.632942",
     "exception": false,
     "start_time": "2023-10-29T21:58:21.392863",
     "status": "completed"
    },
    "tags": []
   },
   "outputs": [
    {
     "name": "stdout",
     "output_type": "stream",
     "text": [
      "20231029T225821 : enderlab : INFO : Inicio guardar métricas multiclase\n",
      "20231029T225821 : enderlab : INFO : Inicio leer fichero ../tfm_git/ejecuciones/metricas/metricas_8270.csv\n",
      "20231029T225821 : enderlab : INFO : Fin leer fichero ../tfm_git/ejecuciones/metricas/metricas_8270.csv\n"
     ]
    },
    {
     "name": "stdout",
     "output_type": "stream",
     "text": [
      "20231029T225821 : enderlab : INFO : Inicio guardar fichero ../tfm_git/ejecuciones/metricas/metricas_8270.csv\n",
      "20231029T225821 : enderlab : INFO : Fichero borrado ../tfm_git/ejecuciones/metricas/metricas_8270.csv\n",
      "20231029T225821 : enderlab : INFO : Fin guardar fichero ../tfm_git/ejecuciones/metricas/metricas_8270.csv\n",
      "20231029T225821 : enderlab : INFO : Fin guardar métricas multiclase\n",
      "20231029T225821 : enderlab : INFO : Inicio leer fichero ../tfm_git/ejecuciones/metricas/metricas_8270.csv\n"
     ]
    },
    {
     "name": "stdout",
     "output_type": "stream",
     "text": [
      "20231029T225821 : enderlab : INFO : Fin leer fichero ../tfm_git/ejecuciones/metricas/metricas_8270.csv\n"
     ]
    },
    {
     "data": {
      "text/html": [
       "<div>\n",
       "<style scoped>\n",
       "    .dataframe tbody tr th:only-of-type {\n",
       "        vertical-align: middle;\n",
       "    }\n",
       "\n",
       "    .dataframe tbody tr th {\n",
       "        vertical-align: top;\n",
       "    }\n",
       "\n",
       "    .dataframe thead th {\n",
       "        text-align: right;\n",
       "    }\n",
       "</style>\n",
       "<table border=\"1\" class=\"dataframe\">\n",
       "  <thead>\n",
       "    <tr style=\"text-align: right;\">\n",
       "      <th></th>\n",
       "      <th>tipo</th>\n",
       "      <th>select</th>\n",
       "      <th>clasific</th>\n",
       "      <th>semilla</th>\n",
       "      <th>accuracy</th>\n",
       "      <th>precision</th>\n",
       "      <th>recall</th>\n",
       "      <th>f1_score</th>\n",
       "      <th>roc_auc</th>\n",
       "      <th>hostname</th>\n",
       "      <th>total_time_sec</th>\n",
       "      <th>datetime</th>\n",
       "      <th>fichero_modelo</th>\n",
       "      <th>params</th>\n",
       "      <th>shape</th>\n",
       "      <th>features</th>\n",
       "      <th>roc_auc_ovr</th>\n",
       "      <th>indices_auc</th>\n",
       "      <th>indices_jaccard</th>\n",
       "    </tr>\n",
       "  </thead>\n",
       "  <tbody>\n",
       "    <tr>\n",
       "      <th>0</th>\n",
       "      <td>mul_m</td>\n",
       "      <td>MI</td>\n",
       "      <td>LR_EN</td>\n",
       "      <td>8270</td>\n",
       "      <td>0.655172</td>\n",
       "      <td>0.653953</td>\n",
       "      <td>0.683403</td>\n",
       "      <td>0.659074</td>\n",
       "      <td>NaN</td>\n",
       "      <td>enderlab</td>\n",
       "      <td>1548</td>\n",
       "      <td>2023-10-29 22:58:21.586950</td>\n",
       "      <td>modelo_8270_mul_m_MI_LR_EN.pkl</td>\n",
       "      <td>{'selector__k': 1000, 'clasifier__solver': 'sa...</td>\n",
       "      <td>X_test:(87, 18875)</td>\n",
       "      <td>['ENSG00000001460.18', 'ENSG00000004660.15', '...</td>\n",
       "      <td>0.892560</td>\n",
       "      <td>[0.8961267605633803, 0.875925925925926, 0.8038...</td>\n",
       "      <td>[0.5, 0.4444444444444444, 0.3125, 0.625, 0.4, ...</td>\n",
       "    </tr>\n",
       "    <tr>\n",
       "      <th>0</th>\n",
       "      <td>mul_m</td>\n",
       "      <td>ANOVA</td>\n",
       "      <td>SVM</td>\n",
       "      <td>8270</td>\n",
       "      <td>0.448276</td>\n",
       "      <td>0.466514</td>\n",
       "      <td>0.477284</td>\n",
       "      <td>0.454199</td>\n",
       "      <td>NaN</td>\n",
       "      <td>enderlab</td>\n",
       "      <td>3</td>\n",
       "      <td>2023-10-29 22:32:26.257528</td>\n",
       "      <td>modelo_8270_mul_m_ANOVA_SVM.pkl</td>\n",
       "      <td>{'selector__k': 500, 'clasifier__kernel': 'rbf...</td>\n",
       "      <td>X_test:(87, 18875)</td>\n",
       "      <td>['ENSG00000000938.13', 'ENSG00000004660.15', '...</td>\n",
       "      <td>0.810773</td>\n",
       "      <td>[0.7077464788732395, 0.8814814814814814, 0.580...</td>\n",
       "      <td>[0.17391304347826086, 0.42105263157894735, 0.1...</td>\n",
       "    </tr>\n",
       "    <tr>\n",
       "      <th>0</th>\n",
       "      <td>mul_m</td>\n",
       "      <td>ANOVA</td>\n",
       "      <td>RF</td>\n",
       "      <td>8270</td>\n",
       "      <td>0.448276</td>\n",
       "      <td>0.410270</td>\n",
       "      <td>0.477955</td>\n",
       "      <td>0.422381</td>\n",
       "      <td>NaN</td>\n",
       "      <td>enderlab</td>\n",
       "      <td>22</td>\n",
       "      <td>2023-10-29 22:32:16.114307</td>\n",
       "      <td>modelo_8270_mul_m_ANOVA_RF.pkl</td>\n",
       "      <td>{'selector__k': 1000, 'clasifier__n_estimators...</td>\n",
       "      <td>X_test:(87, 18875)</td>\n",
       "      <td>['ENSG00000000938.13', 'ENSG00000002919.15', '...</td>\n",
       "      <td>0.785279</td>\n",
       "      <td>[0.5871478873239437, 0.8703703703703703, 0.663...</td>\n",
       "      <td>[0.0, 0.4090909090909091, 0.2857142857142857, ...</td>\n",
       "    </tr>\n",
       "  </tbody>\n",
       "</table>\n",
       "</div>"
      ],
      "text/plain": [
       "    tipo select clasific  semilla  accuracy  precision    recall  f1_score  \\\n",
       "0  mul_m     MI    LR_EN     8270  0.655172   0.653953  0.683403  0.659074   \n",
       "0  mul_m  ANOVA      SVM     8270  0.448276   0.466514  0.477284  0.454199   \n",
       "0  mul_m  ANOVA       RF     8270  0.448276   0.410270  0.477955  0.422381   \n",
       "\n",
       "   roc_auc  hostname  total_time_sec                    datetime  \\\n",
       "0      NaN  enderlab            1548  2023-10-29 22:58:21.586950   \n",
       "0      NaN  enderlab               3  2023-10-29 22:32:26.257528   \n",
       "0      NaN  enderlab              22  2023-10-29 22:32:16.114307   \n",
       "\n",
       "                    fichero_modelo  \\\n",
       "0   modelo_8270_mul_m_MI_LR_EN.pkl   \n",
       "0  modelo_8270_mul_m_ANOVA_SVM.pkl   \n",
       "0   modelo_8270_mul_m_ANOVA_RF.pkl   \n",
       "\n",
       "                                              params               shape  \\\n",
       "0  {'selector__k': 1000, 'clasifier__solver': 'sa...  X_test:(87, 18875)   \n",
       "0  {'selector__k': 500, 'clasifier__kernel': 'rbf...  X_test:(87, 18875)   \n",
       "0  {'selector__k': 1000, 'clasifier__n_estimators...  X_test:(87, 18875)   \n",
       "\n",
       "                                            features  roc_auc_ovr  \\\n",
       "0  ['ENSG00000001460.18', 'ENSG00000004660.15', '...     0.892560   \n",
       "0  ['ENSG00000000938.13', 'ENSG00000004660.15', '...     0.810773   \n",
       "0  ['ENSG00000000938.13', 'ENSG00000002919.15', '...     0.785279   \n",
       "\n",
       "                                         indices_auc  \\\n",
       "0  [0.8961267605633803, 0.875925925925926, 0.8038...   \n",
       "0  [0.7077464788732395, 0.8814814814814814, 0.580...   \n",
       "0  [0.5871478873239437, 0.8703703703703703, 0.663...   \n",
       "\n",
       "                                     indices_jaccard  \n",
       "0  [0.5, 0.4444444444444444, 0.3125, 0.625, 0.4, ...  \n",
       "0  [0.17391304347826086, 0.42105263157894735, 0.1...  \n",
       "0  [0.0, 0.4090909090909091, 0.2857142857142857, ...  "
      ]
     },
     "metadata": {},
     "output_type": "display_data"
    }
   ],
   "source": [
    "if M_TIPO.startswith(\"bin\"):\n",
    "    myfunc.save_metricas_to_csv(random_search, X_test, y_test, M_TIPO, M_SELECT, M_CLASIF, total_time, SEMILLA, myfunc.MET_DIR, M_FICHERO, fichero_modelo)\n",
    "else:\n",
    "    myfunc.save_metricas_multi_to_csv(random_search, X_test, y_test, M_TIPO, M_SELECT, M_CLASIF, total_time, SEMILLA, myfunc.MET_DIR, M_FICHERO, fichero_modelo)\n",
    "\n",
    "df1=myfunc.read_metricas_to_df(myfunc.MET_DIR,M_FICHERO)\n",
    "\n",
    "display(df1.sort_values(\"datetime\", ascending=False)[:3])\n"
   ]
  },
  {
   "cell_type": "markdown",
   "id": "90abb10e",
   "metadata": {
    "papermill": {
     "duration": 0.006438,
     "end_time": "2023-10-29T21:58:21.646259",
     "exception": false,
     "start_time": "2023-10-29T21:58:21.639821",
     "status": "completed"
    },
    "tags": []
   },
   "source": [
    "#### Guardar resultados"
   ]
  },
  {
   "cell_type": "code",
   "execution_count": 13,
   "id": "44f7e6ab",
   "metadata": {
    "execution": {
     "iopub.execute_input": "2023-10-29T21:58:21.660348Z",
     "iopub.status.busy": "2023-10-29T21:58:21.659835Z",
     "iopub.status.idle": "2023-10-29T21:58:21.668633Z",
     "shell.execute_reply": "2023-10-29T21:58:21.668115Z"
    },
    "papermill": {
     "duration": 0.017269,
     "end_time": "2023-10-29T21:58:21.669823",
     "exception": false,
     "start_time": "2023-10-29T21:58:21.652554",
     "status": "completed"
    },
    "tags": []
   },
   "outputs": [
    {
     "name": "stdout",
     "output_type": "stream",
     "text": [
      "20231029T225821 : enderlab : INFO : Inicio guardar resultados\n",
      "20231029T225821 : enderlab : INFO : Inicio guardar fichero ../tfm_git/ejecuciones/metricas/resultados_8270_mul_m-MI-LR_EN.csv\n",
      "20231029T225821 : enderlab : INFO : Fin guardar fichero ../tfm_git/ejecuciones/metricas/resultados_8270_mul_m-MI-LR_EN.csv\n",
      "20231029T225821 : enderlab : INFO : Fin guardar resultados\n"
     ]
    }
   ],
   "source": [
    "fichero_resultados=R_FICHERO+\"_\"+M_TIPO+\"-\"+M_SELECT+\"-\"+M_CLASIF+\".csv\"\n",
    "myfunc.save_resultados_to_csv(M_TIPO, M_SELECT, M_CLASIF,  random_search, myfunc.MET_DIR, fichero_resultados)\n"
   ]
  }
 ],
 "metadata": {
  "kernelspec": {
   "display_name": "Python 3 (ipykernel)",
   "language": "python",
   "name": "python3"
  },
  "language_info": {
   "codemirror_mode": {
    "name": "ipython",
    "version": 3
   },
   "file_extension": ".py",
   "mimetype": "text/x-python",
   "name": "python",
   "nbconvert_exporter": "python",
   "pygments_lexer": "ipython3",
   "version": "3.10.11"
  },
  "papermill": {
   "default_parameters": {},
   "duration": 1553.633868,
   "end_time": "2023-10-29T21:58:24.294113",
   "environment_variables": {},
   "exception": null,
   "input_path": "03_entrenamiento.ipynb",
   "output_path": "ejecuciones/training/03_entrenamiento.20231029T223230.param_0000_8270_mul_m_MI_LR_EN.output.ipynb",
   "parameters": {
    "MAX_ITERS": 500,
    "M_CLASIF": "LR_EN",
    "M_FICHERO": "metricas_8270",
    "M_SELECT": "MI",
    "M_TIPO": "mul_m",
    "PRE_DATA_FILE": "rows_transpose_norm_by_gene_id_with_target_num_",
    "P_FICHERO": "param_0000_8270_mul_m_MI_LR_EN.yaml",
    "R_FICHERO": "resultados_8270",
    "SCORING": "roc_auc_ovr",
    "SEMILLA": 8270,
    "eval_clasifier": "LogisticRegressionCV(random_state=SEMILLA)",
    "eval_selector": "SelectKBest(score_func=mutual_info_classif_state)",
    "param_distributions": {
     "clasifier__l1_ratios": [
      [
       0.2
      ]
     ],
     "clasifier__max_iter": [
      10000
     ],
     "clasifier__penalty": [
      "elasticnet"
     ],
     "clasifier__solver": [
      "saga"
     ],
     "selector__k": [
      1000
     ]
    }
   },
   "start_time": "2023-10-29T21:32:30.660245",
   "version": "2.4.0"
  }
 },
 "nbformat": 4,
 "nbformat_minor": 5
}