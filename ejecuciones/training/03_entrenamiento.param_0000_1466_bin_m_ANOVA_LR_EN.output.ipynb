{
 "cells": [
  {
   "cell_type": "markdown",
   "id": "74477791",
   "metadata": {
    "papermill": {
     "duration": 0.003252,
     "end_time": "2023-10-29T21:16:05.484498",
     "exception": false,
     "start_time": "2023-10-29T21:16:05.481246",
     "status": "completed"
    },
    "tags": []
   },
   "source": [
    "##### Inicio"
   ]
  },
  {
   "cell_type": "markdown",
   "id": "5685bb8e",
   "metadata": {
    "papermill": {
     "duration": 0.002412,
     "end_time": "2023-10-29T21:16:05.489570",
     "exception": false,
     "start_time": "2023-10-29T21:16:05.487158",
     "status": "completed"
    },
    "tags": []
   },
   "source": [
    "#### Carga de datos"
   ]
  },
  {
   "cell_type": "code",
   "execution_count": 1,
   "id": "239d0be5",
   "metadata": {
    "execution": {
     "iopub.execute_input": "2023-10-29T21:16:05.495716Z",
     "iopub.status.busy": "2023-10-29T21:16:05.495496Z",
     "iopub.status.idle": "2023-10-29T21:16:08.086479Z",
     "shell.execute_reply": "2023-10-29T21:16:08.085956Z"
    },
    "papermill": {
     "duration": 2.595714,
     "end_time": "2023-10-29T21:16:08.087730",
     "exception": false,
     "start_time": "2023-10-29T21:16:05.492016",
     "status": "completed"
    },
    "tags": []
   },
   "outputs": [
    {
     "name": "stdout",
     "output_type": "stream",
     "text": [
      "CPU_COUNT: 8; NODE: amilcar22; sys.version: 3.10.12 (main, Jul  5 2023, 19:22:19) [GCC 11.2.0]\n",
      "LOKY_MAX_CPU_COUNT: 6\n",
      "OMP_NUM_THREADS: 2\n"
     ]
    }
   ],
   "source": [
    "import os\n",
    "import numpy as np\n",
    "import pandas as pd\n",
    "import datetime\n",
    "import sklearn\n",
    "import logging\n",
    "import warnings\n",
    "\n",
    "from sklearn.pipeline import Pipeline\n",
    "from sklearn.model_selection import RandomizedSearchCV, KFold, cross_val_score, train_test_split\n",
    "from sklearn.metrics import accuracy_score, confusion_matrix, classification_report, roc_auc_score\n",
    "\n",
    "#  cargar algoritmos para aprendizaje supervisado\n",
    "from sklearn.feature_selection import SelectKBest, f_classif, SelectFromModel, mutual_info_classif\n",
    "from sklearn.svm import SVC\n",
    "from sklearn.ensemble import RandomForestClassifier\n",
    "from sklearn.linear_model import LogisticRegression,LogisticRegressionCV\n",
    "\n",
    "# importar fichero con utilidades propias\n",
    "from commons import myfunctions as myfunc\n"
   ]
  },
  {
   "cell_type": "markdown",
   "id": "3a0371fe",
   "metadata": {
    "papermill": {
     "duration": 0.002741,
     "end_time": "2023-10-29T21:16:08.093520",
     "exception": false,
     "start_time": "2023-10-29T21:16:08.090779",
     "status": "completed"
    },
    "tags": []
   },
   "source": [
    "#### Parámetros a utilizar en el entrenamiento.\n",
    "\n",
    "Se indican los 3 algoritmos de *selección de características* (eval_selector_xxx) y los 3 algoritmos para la _clasificación_ (eval_clasifier_xxx)\n",
    "\n",
    "En *param_distributions* se indicar los parámetros que utilizan los algoritmos en la función RandomSearchCV.\n",
    "\n",
    "Esta celda tiene la etiqueta **parameters** que servirá para poder lanzar los entrenamientos con la utilidad **papermill** pasándole un fichero con los parámetros. Los nuevos parámetros se situarán tras esta celda para tener prevalencia."
   ]
  },
  {
   "cell_type": "code",
   "execution_count": 2,
   "id": "64ce5bc5",
   "metadata": {
    "execution": {
     "iopub.execute_input": "2023-10-29T21:16:08.099729Z",
     "iopub.status.busy": "2023-10-29T21:16:08.099447Z",
     "iopub.status.idle": "2023-10-29T21:16:08.106301Z",
     "shell.execute_reply": "2023-10-29T21:16:08.105831Z"
    },
    "papermill": {
     "duration": 0.011462,
     "end_time": "2023-10-29T21:16:08.107510",
     "exception": false,
     "start_time": "2023-10-29T21:16:08.096048",
     "status": "completed"
    },
    "tags": [
     "parameters"
    ]
   },
   "outputs": [
    {
     "name": "stdout",
     "output_type": "stream",
     "text": [
      "20231029T221608 : amilcar22 : INFO : Utilizando parámetros de mul_m\n"
     ]
    }
   ],
   "source": [
    "#  Parametros para el entrenamiento\n",
    "\n",
    "SEMILLA=        42\n",
    "M_TIPO=         \"mul_m\"\n",
    "M_SELECT=       \"MI\"\n",
    "M_CLASIF=       \"SVM\"\n",
    "R_FICHERO=      \"resultados\"\n",
    "M_FICHERO=      \"metricas\"\n",
    "PRE_DATA_FILE=  \"rows_transpose_norm_by_gene_id_with_target_num_\"\n",
    "SCORING=        \"roc_auc_ovr\" \n",
    "MAX_ITERS=      100\n",
    "\n",
    "def mutual_info_classif_state(X, y):\n",
    "    return mutual_info_classif(X, y, random_state=SEMILLA)\n",
    "\n",
    "eval_selector_mi = \"SelectKBest(score_func=mutual_info_classif_state)\"\n",
    "eval_selector_rf=  \"SelectFromModel(estimator=RandomForestClassifier(random_state=SEMILLA), threshold=-np.inf)\"\n",
    "eval_selector_anova=  \"SelectKBest(score_func=f_classif)\"\n",
    "\n",
    "eval_clasifier_svm= \"SVC(probability=True, random_state=SEMILLA)\"\n",
    "eval_clasifier_rf= \"RandomForestClassifier(random_state=SEMILLA)\"\n",
    "eval_clasifier_lr= \"LogisticRegressionCV(random_state=SEMILLA)\"\n",
    "\n",
    "if M_TIPO.startswith(\"bin_m\"):\n",
    "    myfunc.verbose(f\"Utilizando parámetros de {M_TIPO}\")\n",
    "    eval_selector = eval_selector_mi\n",
    "    eval_clasifier = eval_clasifier_svm\n",
    "\n",
    "    SEMILLA = 6578\n",
    "    M_SELECT = \"MI\"\n",
    "    M_CLASIF = \"SVM\"\n",
    "    param_distributions = {'selector__k': [1000], \n",
    "         'clasifier__kernel': ['rbf'], 'clasifier__gamma': [0.01], 'clasifier__C': [100]}\n",
    "elif M_TIPO.startswith(\"bin_s\"):\n",
    "    myfunc.verbose(f\"Utilizando parámetros de {M_TIPO}\")\n",
    "    eval_selector = eval_selector_rf\n",
    "    eval_clasifier = eval_clasifier_lr\n",
    "\n",
    "    SEMILLA = 6191\n",
    "    M_SELECT = \"RF\"\n",
    "    M_CLASIF = \"LR_L2\"\n",
    "    param_distributions = {'selector__max_features': [1000], 'selector__estimator__n_estimators': [200], \n",
    "        'clasifier__solver': ['lbfgs'], 'clasifier__penalty': ['l2'], 'clasifier__max_iter': [10000]}\n",
    "\n",
    "elif M_TIPO.startswith(\"mul_m\"):\n",
    "    myfunc.verbose(f\"Utilizando parámetros de {M_TIPO}\")\n",
    " \n",
    "    eval_selector = eval_selector_rf\n",
    "    eval_clasifier = eval_clasifier_lr\n",
    "\n",
    "    SEMILLA = 6191\n",
    "    M_SELECT = \"RF\"\n",
    "    M_CLASIF = \"LR_L2\"\n",
    "    param_distributions = {'selector__max_features': [1000], 'selector__estimator__n_estimators': [400], \n",
    "        'clasifier__solver': ['lbfgs'], 'clasifier__penalty': ['l2'], 'clasifier__max_iter': [10000]}\n",
    "\n",
    "else:\n",
    "    # M_TIPO.startswith(\"mul_s\"):\n",
    "    myfunc.verbose(f\"Utilizando parámetros de {M_TIPO}\")\n",
    "    eval_selector = eval_selector_anova\n",
    "    eval_clasifier = eval_clasifier_lr\n",
    "\n",
    "    SEMILLA = 1860\n",
    "    M_SELECT = \"ANOVA\"\n",
    "    M_CLASIF = \"LR_L2\"\n",
    "    param_distributions = {'selector__k': [1000], \n",
    "        'clasifier__solver': ['saga'], 'clasifier__penalty': ['l2'], 'clasifier__max_iter': [10000]}\n",
    "\n"
   ]
  },
  {
   "cell_type": "code",
   "execution_count": 3,
   "id": "fb1aa3f0",
   "metadata": {
    "execution": {
     "iopub.execute_input": "2023-10-29T21:16:08.115496Z",
     "iopub.status.busy": "2023-10-29T21:16:08.115302Z",
     "iopub.status.idle": "2023-10-29T21:16:08.118921Z",
     "shell.execute_reply": "2023-10-29T21:16:08.118455Z"
    },
    "papermill": {
     "duration": 0.008911,
     "end_time": "2023-10-29T21:16:08.120118",
     "exception": false,
     "start_time": "2023-10-29T21:16:08.111207",
     "status": "completed"
    },
    "tags": [
     "injected-parameters"
    ]
   },
   "outputs": [],
   "source": [
    "# Parameters\n",
    "M_TIPO = \"bin_m\"\n",
    "M_SELECT = \"ANOVA\"\n",
    "M_CLASIF = \"LR_EN\"\n",
    "P_FICHERO = \"param_0000_1466_bin_m_ANOVA_LR_EN.yaml\"\n",
    "R_FICHERO = \"resultados_1466\"\n",
    "M_FICHERO = \"metricas_1466\"\n",
    "PRE_DATA_FILE = \"rows_transpose_norm_by_gene_id_with_target_num_\"\n",
    "SCORING = \"roc_auc_ovr\"\n",
    "SEMILLA = 1466\n",
    "MAX_ITERS = 500\n",
    "eval_selector = \"SelectKBest(score_func=f_classif)\"\n",
    "eval_clasifier = \"LogisticRegressionCV(random_state=SEMILLA)\"\n",
    "param_distributions = {\n",
    "    \"selector__k\": [500],\n",
    "    \"clasifier__solver\": [\"saga\"],\n",
    "    \"clasifier__penalty\": [\"elasticnet\"],\n",
    "    \"clasifier__max_iter\": [10000],\n",
    "    \"clasifier__l1_ratios\": [[0.1]],\n",
    "}\n"
   ]
  },
  {
   "cell_type": "code",
   "execution_count": 4,
   "id": "014893ce",
   "metadata": {
    "execution": {
     "iopub.execute_input": "2023-10-29T21:16:08.127245Z",
     "iopub.status.busy": "2023-10-29T21:16:08.127050Z",
     "iopub.status.idle": "2023-10-29T21:16:08.130392Z",
     "shell.execute_reply": "2023-10-29T21:16:08.129849Z"
    },
    "papermill": {
     "duration": 0.008605,
     "end_time": "2023-10-29T21:16:08.131787",
     "exception": false,
     "start_time": "2023-10-29T21:16:08.123182",
     "status": "completed"
    },
    "tags": []
   },
   "outputs": [],
   "source": [
    "DATA_FILE = PRE_DATA_FILE + M_TIPO\n",
    "\n",
    "# si viene \"None\" en el parámetro max_depth, se le quitan las comillas para que no sea entendido por el algoritmo como un texto\n",
    "if \"clasifier__max_depth\" in param_distributions:\n",
    "    param_distributions['clasifier__max_depth'] = [None if x == 'None' else x for x in param_distributions['clasifier__max_depth']]"
   ]
  },
  {
   "cell_type": "markdown",
   "id": "0f05062e",
   "metadata": {
    "papermill": {
     "duration": 0.004281,
     "end_time": "2023-10-29T21:16:08.139694",
     "exception": false,
     "start_time": "2023-10-29T21:16:08.135413",
     "status": "completed"
    },
    "tags": []
   },
   "source": [
    "Asignar los algoritmos que se utilizarán en la función RandomSearchCV"
   ]
  },
  {
   "cell_type": "code",
   "execution_count": 5,
   "id": "da5937d9",
   "metadata": {
    "execution": {
     "iopub.execute_input": "2023-10-29T21:16:08.149484Z",
     "iopub.status.busy": "2023-10-29T21:16:08.149214Z",
     "iopub.status.idle": "2023-10-29T21:16:08.152498Z",
     "shell.execute_reply": "2023-10-29T21:16:08.151903Z"
    },
    "papermill": {
     "duration": 0.009818,
     "end_time": "2023-10-29T21:16:08.153936",
     "exception": false,
     "start_time": "2023-10-29T21:16:08.144118",
     "status": "completed"
    },
    "tags": []
   },
   "outputs": [],
   "source": [
    "algor_selector=eval(eval_selector)\n",
    "algor_clasifier=eval(eval_clasifier)"
   ]
  },
  {
   "cell_type": "markdown",
   "id": "51ea344b",
   "metadata": {
    "papermill": {
     "duration": 0.004293,
     "end_time": "2023-10-29T21:16:08.161943",
     "exception": false,
     "start_time": "2023-10-29T21:16:08.157650",
     "status": "completed"
    },
    "tags": []
   },
   "source": [
    "#### Comprobar el entorno y leer fichero de muestras"
   ]
  },
  {
   "cell_type": "code",
   "execution_count": 6,
   "id": "348775db",
   "metadata": {
    "execution": {
     "iopub.execute_input": "2023-10-29T21:16:08.171333Z",
     "iopub.status.busy": "2023-10-29T21:16:08.171082Z",
     "iopub.status.idle": "2023-10-29T21:16:08.885332Z",
     "shell.execute_reply": "2023-10-29T21:16:08.884721Z"
    },
    "papermill": {
     "duration": 0.720947,
     "end_time": "2023-10-29T21:16:08.886694",
     "exception": false,
     "start_time": "2023-10-29T21:16:08.165747",
     "status": "completed"
    },
    "tags": []
   },
   "outputs": [
    {
     "name": "stdout",
     "output_type": "stream",
     "text": [
      "20231029T221608 : amilcar22 : INFO : Encontrada carpeta DATA_DIR=../tfm_git/datos\n",
      "20231029T221608 : amilcar22 : INFO : Encontrada carpeta CFDNA_DIR=../tfm_git/datos/cfDNA_5hmC\n",
      "20231029T221608 : amilcar22 : INFO : Encontrada carpeta GENCODE_DIR=../tfm_git/datos/gencode\n",
      "20231029T221608 : amilcar22 : INFO : Encontrada carpeta H5_DIR=../tfm_git/datos/h5\n",
      "20231029T221608 : amilcar22 : INFO : Encontrada carpeta LOG_DIR=../tfm_git/datos/logs\n",
      "20231029T221608 : amilcar22 : INFO : Encontrada carpeta CSV_DIR=../tfm_git/datos/csv\n",
      "20231029T221608 : amilcar22 : INFO : Encontrada carpeta MODEL_DIR=../tfm_git/ejecuciones/modelos\n",
      "20231029T221608 : amilcar22 : INFO : Encontrada carpeta EXEC_DIR=../tfm_git/ejecuciones\n",
      "20231029T221608 : amilcar22 : INFO : Encontrada carpeta MET_DIR=../tfm_git/ejecuciones/metricas\n",
      "20231029T221608 : amilcar22 : INFO : Inicio leer fichero h5 ../tfm_git/datos/h5/rows_transpose_norm_by_gene_id_with_target_num_bin_m.h5\n"
     ]
    },
    {
     "name": "stdout",
     "output_type": "stream",
     "text": [
      "20231029T221608 : amilcar22 : INFO : Leyendo clave /df\n"
     ]
    },
    {
     "name": "stdout",
     "output_type": "stream",
     "text": [
      "20231029T221608 : amilcar22 : INFO : Tamaño (720, 18876)\n",
      "20231029T221608 : amilcar22 : INFO : Fin leer fichero h5 ../tfm_git/datos/h5/rows_transpose_norm_by_gene_id_with_target_num_bin_m.h5\n"
     ]
    },
    {
     "data": {
      "text/plain": [
       "target\n",
       "0    360\n",
       "1    360\n",
       "dtype: int64"
      ]
     },
     "metadata": {},
     "output_type": "display_data"
    },
    {
     "name": "stdout",
     "output_type": "stream",
     "text": [
      "Shape df: (720, 18876)\n",
      "Shape X_train: (576, 18875)\n",
      "Shape X_test: (144, 18875)\n"
     ]
    }
   ],
   "source": [
    "start_time = datetime.datetime.now()\n",
    "\n",
    "myfunc.reset_vars()\n",
    "\n",
    "myfunc.NOTEBK_FILENAME = myfunc.get_nb_name()\n",
    "\n",
    "myfunc.check_enviroment(myfunc.DATA_DIR, myfunc.CFDNA_DIR, myfunc.GENCODE_DIR, myfunc.H5_DIR, myfunc.LOG_DIR, myfunc.CSV_DIR, myfunc.MODEL_DIR, myfunc.EXEC_DIR, myfunc.MET_DIR)\n",
    "\n",
    "# Leer fichero con las muestras\n",
    "df_t = myfunc.read_h5_to_df(DATA_FILE, myfunc.H5_DIR)\n",
    "display(df_t.groupby(\"target\").size())\n",
    "print(\"Shape df:\",df_t.shape)\n",
    "\n",
    "# Separar caracteristicas/genes de las etiquetas/tipos de cáncer\n",
    "X = df_t.iloc[:, :-1]  # Todas las columnas excepto la última\n",
    "y = df_t.iloc[:, -1]  # La última columna contiene los identificadores de los tipos de cáncer\n",
    "\n",
    "#  Crear el conjunto de datos de entrenamiento y de pruebas, y se fija la semilla para siempre coger el mismo juego de muestras\n",
    "X_train, X_test, y_train, y_test = train_test_split(X, y, test_size=0.2, shuffle=True, random_state=42)\n",
    "print(\"Shape X_train:\",X_train.shape)\n",
    "print(\"Shape X_test:\",X_test.shape)\n"
   ]
  },
  {
   "cell_type": "markdown",
   "id": "ec8b9159",
   "metadata": {
    "papermill": {
     "duration": 0.003202,
     "end_time": "2023-10-29T21:16:08.893470",
     "exception": false,
     "start_time": "2023-10-29T21:16:08.890268",
     "status": "completed"
    },
    "tags": []
   },
   "source": [
    "#### Selección de características y clasificación."
   ]
  },
  {
   "cell_type": "code",
   "execution_count": 7,
   "id": "fea13cf9",
   "metadata": {
    "execution": {
     "iopub.execute_input": "2023-10-29T21:16:08.900477Z",
     "iopub.status.busy": "2023-10-29T21:16:08.900271Z",
     "iopub.status.idle": "2023-10-29T21:20:55.737779Z",
     "shell.execute_reply": "2023-10-29T21:20:55.737195Z"
    },
    "papermill": {
     "duration": 286.845221,
     "end_time": "2023-10-29T21:20:55.741678",
     "exception": false,
     "start_time": "2023-10-29T21:16:08.896457",
     "status": "completed"
    },
    "tags": []
   },
   "outputs": [
    {
     "name": "stdout",
     "output_type": "stream",
     "text": [
      "20231029T221608 : amilcar22 : INFO : Iniciando entrenamiento\n",
      "num_iter: 1 , max_iter: 1\n",
      "Fitting 5 folds for each of 1 candidates, totalling 5 fits\n"
     ]
    },
    {
     "name": "stderr",
     "output_type": "stream",
     "text": [
      "/home/antonio/miniconda3/lib/python3.10/site-packages/sklearn/feature_selection/_univariate_selection.py:112: UserWarning: Features [ 2265  2266  2803  2896  5668  5803  7416  8314  8513  9490 11943 12831\n",
      " 13836 13848 15183 15401 15515 15824 16018 16268 16287 16313 16323 16679\n",
      " 16870 16906 17024 17231 17679 18530 18608] are constant.\n",
      "  warnings.warn(\"Features %s are constant.\" % constant_features_idx, UserWarning)\n",
      "/home/antonio/miniconda3/lib/python3.10/site-packages/sklearn/feature_selection/_univariate_selection.py:113: RuntimeWarning: invalid value encountered in divide\n",
      "  f = msb / msw\n",
      "/home/antonio/miniconda3/lib/python3.10/site-packages/sklearn/feature_selection/_univariate_selection.py:112: UserWarning: Features [ 2010  2222  2265  2266  2803  2896  5405  5803  6993  8513  9490 10475\n",
      " 11943 12831 12888 13235 13300 13836 13848 14789 15183 15515 15824 16268\n",
      " 16287 16313 16323 16679 16704 16731 16870 16906 17024 17231 17300 17566\n",
      " 18530] are constant.\n",
      "  warnings.warn(\"Features %s are constant.\" % constant_features_idx, UserWarning)\n",
      "/home/antonio/miniconda3/lib/python3.10/site-packages/sklearn/feature_selection/_univariate_selection.py:113: RuntimeWarning: invalid value encountered in divide\n",
      "  f = msb / msw\n",
      "/home/antonio/miniconda3/lib/python3.10/site-packages/sklearn/feature_selection/_univariate_selection.py:112: UserWarning: Features [ 2265  2266  2803  2896  3415  5803  6984  8513  9490 11022 11943 12831\n",
      " 13836 13848 15183 15515 15785 15824 15881 16262 16268 16278 16279 16287\n",
      " 16312 16313 16323 16679 16870 16906 17024 17231 17312 18530 18546] are constant.\n",
      "  warnings.warn(\"Features %s are constant.\" % constant_features_idx, UserWarning)\n",
      "/home/antonio/miniconda3/lib/python3.10/site-packages/sklearn/feature_selection/_univariate_selection.py:113: RuntimeWarning: invalid value encountered in divide\n",
      "  f = msb / msw\n"
     ]
    },
    {
     "name": "stderr",
     "output_type": "stream",
     "text": [
      "/home/antonio/miniconda3/lib/python3.10/site-packages/sklearn/feature_selection/_univariate_selection.py:112: UserWarning: Features [ 1733  2265  2266  2803  2896  5533  5803  6053  8513  9490 11943 12249\n",
      " 12831 13836 13848 14244 14735 15183 15515 15824 16260 16268 16287 16313\n",
      " 16323 16630 16679 16870 16906 16956 16968 17024 17091 17231 17418 18530] are constant.\n",
      "  warnings.warn(\"Features %s are constant.\" % constant_features_idx, UserWarning)\n",
      "/home/antonio/miniconda3/lib/python3.10/site-packages/sklearn/feature_selection/_univariate_selection.py:113: RuntimeWarning: invalid value encountered in divide\n",
      "  f = msb / msw\n",
      "/home/antonio/miniconda3/lib/python3.10/site-packages/sklearn/feature_selection/_univariate_selection.py:112: UserWarning: Features [  298  2265  2266  2803  2896  5803  8513  9490 11943 12831 13836 13848\n",
      " 13959 14245 14559 15183 15515 15824 16267 16268 16287 16313 16322 16323\n",
      " 16667 16679 16701 16870 16906 17024 17231 18530] are constant.\n",
      "  warnings.warn(\"Features %s are constant.\" % constant_features_idx, UserWarning)\n",
      "/home/antonio/miniconda3/lib/python3.10/site-packages/sklearn/feature_selection/_univariate_selection.py:113: RuntimeWarning: invalid value encountered in divide\n",
      "  f = msb / msw\n"
     ]
    },
    {
     "name": "stderr",
     "output_type": "stream",
     "text": [
      "/home/antonio/miniconda3/lib/python3.10/site-packages/sklearn/feature_selection/_univariate_selection.py:112: UserWarning: Features [ 2265  2266  2803  2896  5803  8513  9490 11943 12831 13836 13848 15183\n",
      " 15515 15824 16268 16287 16313 16323 16679 16870 16906 17024 17231 18530] are constant.\n",
      "  warnings.warn(\"Features %s are constant.\" % constant_features_idx, UserWarning)\n",
      "/home/antonio/miniconda3/lib/python3.10/site-packages/sklearn/feature_selection/_univariate_selection.py:113: RuntimeWarning: invalid value encountered in divide\n",
      "  f = msb / msw\n"
     ]
    },
    {
     "name": "stdout",
     "output_type": "stream",
     "text": [
      "Mejores Hiperparámetros: {'selector__k': 500, 'clasifier__solver': 'saga', 'clasifier__penalty': 'elasticnet', 'clasifier__max_iter': 10000, 'clasifier__l1_ratios': [0.1]}\n",
      "Mejor Puntuación: 0.8457\n",
      "20231029T222055 : amilcar22 : INFO : Fin entrenamiento\n"
     ]
    }
   ],
   "source": [
    "myfunc.verbose(\"Iniciando entrenamiento\")\n",
    "\n",
    "kf = KFold(n_splits=5, shuffle=True, random_state=SEMILLA)\n",
    "\n",
    "# Crear el pipeline para el flujo de tareas\n",
    "tasks_pipeline = Pipeline([\n",
    "    ('selector', algor_selector),\n",
    "    ('clasifier', algor_clasifier)\n",
    "])\n",
    "\n",
    "# MAX_ITERS puede limitar el número de iteraciones si son excesivas para las combinaciones de parámetros buscando un óptimo local, \n",
    "# sino funcionaría como GridSearchCV al revisar todas las cominaciones de los parámetros\n",
    "num_iteraciones = 1\n",
    "num_iteraciones = num_iteraciones * np.prod([len(elemento1) for _, elemento1 in param_distributions.items()])\n",
    "max_iteraciones = num_iteraciones if num_iteraciones <= MAX_ITERS else MAX_ITERS\n",
    "print(\"num_iter:\",num_iteraciones,\", max_iter:\",max_iteraciones)\n",
    "\n",
    "random_search = RandomizedSearchCV(\n",
    "    tasks_pipeline, \n",
    "    param_distributions, \n",
    "    n_iter=max_iteraciones,\n",
    "    scoring=SCORING,\n",
    "    cv=kf,\n",
    "    verbose=3, \n",
    "    random_state=SEMILLA, \n",
    "    n_jobs=-1\n",
    "    )\n",
    "\n",
    "# Entrenar el modelo\n",
    "random_search.fit(X_train, y_train)\n",
    "\n",
    "# Ver los mejores hiperparámetros encontrados\n",
    "print(f'Mejores Hiperparámetros: {random_search.best_params_}')\n",
    "print(f'Mejor Puntuación: {random_search.best_score_:.4f}')\n",
    "\n",
    "# Nos quedamos con el mejor modelo para ver las métricas\n",
    "mejor_modelo = random_search.best_estimator_\n",
    "\n",
    "myfunc.verbose(\"Fin entrenamiento\")"
   ]
  },
  {
   "cell_type": "markdown",
   "id": "5e331b7a",
   "metadata": {
    "papermill": {
     "duration": 0.003129,
     "end_time": "2023-10-29T21:20:55.748057",
     "exception": false,
     "start_time": "2023-10-29T21:20:55.744928",
     "status": "completed"
    },
    "tags": []
   },
   "source": [
    "#### Guardar modelo"
   ]
  },
  {
   "cell_type": "code",
   "execution_count": 8,
   "id": "b4fe3a37",
   "metadata": {
    "execution": {
     "iopub.execute_input": "2023-10-29T21:20:55.755506Z",
     "iopub.status.busy": "2023-10-29T21:20:55.755011Z",
     "iopub.status.idle": "2023-10-29T21:20:55.762882Z",
     "shell.execute_reply": "2023-10-29T21:20:55.762356Z"
    },
    "papermill": {
     "duration": 0.013044,
     "end_time": "2023-10-29T21:20:55.764210",
     "exception": false,
     "start_time": "2023-10-29T21:20:55.751166",
     "status": "completed"
    },
    "tags": []
   },
   "outputs": [
    {
     "name": "stdout",
     "output_type": "stream",
     "text": [
      "20231029T222055 : amilcar22 : INFO : Inicio guardar fichero ../tfm_git/ejecuciones/modelos/modelo_1466_bin_m_ANOVA_LR_EN.pkl\n",
      "20231029T222055 : amilcar22 : INFO : Fin guardar fichero ../tfm_git/ejecuciones/modelos/modelo_1466_bin_m_ANOVA_LR_EN.pkl\n"
     ]
    }
   ],
   "source": [
    "fichero_modelo = str.replace(\"modelo_\"+str(SEMILLA).zfill(4)+\"_\"+M_TIPO+\"_\"+M_SELECT+\"_\"+M_CLASIF+\".pkl\", \" \", \"_\")\n",
    "\n",
    "myfunc.save_modelo(mejor_modelo, myfunc.MODEL_DIR, fichero_modelo)"
   ]
  },
  {
   "cell_type": "markdown",
   "id": "3984568b",
   "metadata": {
    "papermill": {
     "duration": 0.003233,
     "end_time": "2023-10-29T21:20:55.770885",
     "exception": false,
     "start_time": "2023-10-29T21:20:55.767652",
     "status": "completed"
    },
    "tags": []
   },
   "source": [
    "#### Ver resultados del las iteraciones hechas por RandomSearchCV"
   ]
  },
  {
   "cell_type": "code",
   "execution_count": 9,
   "id": "0efc37c1",
   "metadata": {
    "execution": {
     "iopub.execute_input": "2023-10-29T21:20:55.777943Z",
     "iopub.status.busy": "2023-10-29T21:20:55.777761Z",
     "iopub.status.idle": "2023-10-29T21:20:55.784194Z",
     "shell.execute_reply": "2023-10-29T21:20:55.783678Z"
    },
    "papermill": {
     "duration": 0.011472,
     "end_time": "2023-10-29T21:20:55.785478",
     "exception": false,
     "start_time": "2023-10-29T21:20:55.774006",
     "status": "completed"
    },
    "tags": []
   },
   "outputs": [
    {
     "name": "stdout",
     "output_type": "stream",
     "text": [
      "20231029T222055 : amilcar22 : INFO : Inicio ver resultados\n",
      "Mejores Hiperparámetros: {'selector__k': 500, 'clasifier__solver': 'saga', 'clasifier__penalty': 'elasticnet', 'clasifier__max_iter': 10000, 'clasifier__l1_ratios': [0.1]}\n",
      "Mejores puntuaciones: 0.8457 | Params: {'selector__k': 500, 'clasifier__solver': 'saga', 'clasifier__penalty': 'elasticnet', 'clasifier__max_iter': 10000, 'clasifier__l1_ratios': [0.1]}\n",
      "Media de las puntuaciones: 0.8457 | Params: {'selector__k': 500, 'clasifier__solver': 'saga', 'clasifier__penalty': 'elasticnet', 'clasifier__max_iter': 10000, 'clasifier__l1_ratios': [0.1]}\n",
      "20231029T222055 : amilcar22 : INFO : Fin resultados\n"
     ]
    }
   ],
   "source": [
    "myfunc.ver_resultados_search(random_search)"
   ]
  },
  {
   "cell_type": "markdown",
   "id": "a3d72864",
   "metadata": {
    "papermill": {
     "duration": 0.003959,
     "end_time": "2023-10-29T21:20:55.793483",
     "exception": false,
     "start_time": "2023-10-29T21:20:55.789524",
     "status": "completed"
    },
    "tags": []
   },
   "source": [
    "#### Ver métricas del mejor modelo"
   ]
  },
  {
   "cell_type": "code",
   "execution_count": 10,
   "id": "f65fcf0f",
   "metadata": {
    "execution": {
     "iopub.execute_input": "2023-10-29T21:20:55.801453Z",
     "iopub.status.busy": "2023-10-29T21:20:55.801246Z",
     "iopub.status.idle": "2023-10-29T21:20:56.450954Z",
     "shell.execute_reply": "2023-10-29T21:20:56.450126Z"
    },
    "papermill": {
     "duration": 0.654886,
     "end_time": "2023-10-29T21:20:56.452295",
     "exception": false,
     "start_time": "2023-10-29T21:20:55.797409",
     "status": "completed"
    },
    "tags": []
   },
   "outputs": [
    {
     "name": "stdout",
     "output_type": "stream",
     "text": [
      "20231029T222055 : amilcar22 : INFO : Inicio ver métricas\n"
     ]
    },
    {
     "name": "stdout",
     "output_type": "stream",
     "text": [
      "              precision    recall  f1-score   support\n",
      "\n",
      "           0       0.87      0.90      0.89        82\n",
      "           1       0.86      0.82      0.84        62\n",
      "\n",
      "    accuracy                           0.87       144\n",
      "   macro avg       0.87      0.86      0.86       144\n",
      "weighted avg       0.87      0.87      0.87       144\n",
      "\n",
      "\n",
      "\n",
      "   Exactitud: 0.8681\n",
      "   Precisión: 0.8675\n",
      "Sensibilidad: 0.8625\n",
      "    F1-score: 0.8646\n",
      "     AUC ROC: 0.9140\n"
     ]
    },
    {
     "data": {
      "image/png": "[encoded data removed]",
      "text/plain": [
       "<Figure size 300x100 with 2 Axes>"
      ]
     },
     "metadata": {},
     "output_type": "display_data"
    },
    {
     "data": {
      "image/png": "[encoded data removed]",
      "text/plain": [
       "<Figure size 800x500 with 1 Axes>"
      ]
     },
     "metadata": {},
     "output_type": "display_data"
    },
    {
     "name": "stdout",
     "output_type": "stream",
     "text": [
      "20231029T222056 : amilcar22 : INFO : Fin ver métricas\n"
     ]
    }
   ],
   "source": [
    "if M_TIPO.startswith(\"bin\"):\n",
    "    myfunc.ver_metricas(mejor_modelo, X_test, y_test)\n",
    "else:\n",
    "    myfunc.ver_metricas_multi(mejor_modelo, X_test, y_test)\n"
   ]
  },
  {
   "cell_type": "markdown",
   "id": "54901642",
   "metadata": {
    "papermill": {
     "duration": 0.004671,
     "end_time": "2023-10-29T21:20:56.462588",
     "exception": false,
     "start_time": "2023-10-29T21:20:56.457917",
     "status": "completed"
    },
    "tags": []
   },
   "source": [
    "#### Finalización del notebook"
   ]
  },
  {
   "cell_type": "code",
   "execution_count": 11,
   "id": "9763e5d6",
   "metadata": {
    "execution": {
     "iopub.execute_input": "2023-10-29T21:20:56.473139Z",
     "iopub.status.busy": "2023-10-29T21:20:56.472557Z",
     "iopub.status.idle": "2023-10-29T21:20:56.476201Z",
     "shell.execute_reply": "2023-10-29T21:20:56.475611Z"
    },
    "papermill": {
     "duration": 0.010267,
     "end_time": "2023-10-29T21:20:56.477465",
     "exception": false,
     "start_time": "2023-10-29T21:20:56.467198",
     "status": "completed"
    },
    "tags": []
   },
   "outputs": [
    {
     "name": "stdout",
     "output_type": "stream",
     "text": [
      "20231029T222056 : amilcar22 : INFO : Notebook ha tardado 288 seconds\n"
     ]
    }
   ],
   "source": [
    "end_time = datetime.datetime.now()\n",
    "total_time = end_time - start_time\n",
    "myfunc.verbose(f\"Notebook ha tardado {total_time.seconds} seconds\")"
   ]
  },
  {
   "cell_type": "markdown",
   "id": "58b6acdd",
   "metadata": {
    "papermill": {
     "duration": 0.00426,
     "end_time": "2023-10-29T21:20:56.486156",
     "exception": false,
     "start_time": "2023-10-29T21:20:56.481896",
     "status": "completed"
    },
    "tags": []
   },
   "source": [
    "#### Guardar métricas"
   ]
  },
  {
   "cell_type": "code",
   "execution_count": 12,
   "id": "61fa4123",
   "metadata": {
    "execution": {
     "iopub.execute_input": "2023-10-29T21:20:56.497892Z",
     "iopub.status.busy": "2023-10-29T21:20:56.497115Z",
     "iopub.status.idle": "2023-10-29T21:20:56.722230Z",
     "shell.execute_reply": "2023-10-29T21:20:56.721698Z"
    },
    "papermill": {
     "duration": 0.23421,
     "end_time": "2023-10-29T21:20:56.724892",
     "exception": false,
     "start_time": "2023-10-29T21:20:56.490682",
     "status": "completed"
    },
    "tags": []
   },
   "outputs": [
    {
     "name": "stdout",
     "output_type": "stream",
     "text": [
      "20231029T222056 : amilcar22 : INFO : Inicio guardar métricas\n"
     ]
    },
    {
     "name": "stdout",
     "output_type": "stream",
     "text": [
      "20231029T222056 : amilcar22 : INFO : Inicio guardar fichero ../tfm_git/ejecuciones/metricas/metricas_1466.csv\n",
      "20231029T222056 : amilcar22 : INFO : Fin guardar fichero ../tfm_git/ejecuciones/metricas/metricas_1466.csv\n",
      "20231029T222056 : amilcar22 : INFO : Fin guardar métricas\n",
      "20231029T222056 : amilcar22 : INFO : Inicio leer fichero ../tfm_git/ejecuciones/metricas/metricas_1466.csv\n"
     ]
    },
    {
     "name": "stdout",
     "output_type": "stream",
     "text": [
      "20231029T222056 : amilcar22 : INFO : Fin leer fichero ../tfm_git/ejecuciones/metricas/metricas_1466.csv\n"
     ]
    },
    {
     "data": {
      "text/html": [
       "<div>\n",
       "<style scoped>\n",
       "    .dataframe tbody tr th:only-of-type {\n",
       "        vertical-align: middle;\n",
       "    }\n",
       "\n",
       "    .dataframe tbody tr th {\n",
       "        vertical-align: top;\n",
       "    }\n",
       "\n",
       "    .dataframe thead th {\n",
       "        text-align: right;\n",
       "    }\n",
       "</style>\n",
       "<table border=\"1\" class=\"dataframe\">\n",
       "  <thead>\n",
       "    <tr style=\"text-align: right;\">\n",
       "      <th></th>\n",
       "      <th>tipo</th>\n",
       "      <th>select</th>\n",
       "      <th>clasific</th>\n",
       "      <th>semilla</th>\n",
       "      <th>accuracy</th>\n",
       "      <th>precision</th>\n",
       "      <th>recall</th>\n",
       "      <th>f1_score</th>\n",
       "      <th>roc_auc</th>\n",
       "      <th>hostname</th>\n",
       "      <th>total_time_sec</th>\n",
       "      <th>datetime</th>\n",
       "      <th>fichero_modelo</th>\n",
       "      <th>params</th>\n",
       "      <th>shape</th>\n",
       "      <th>features</th>\n",
       "    </tr>\n",
       "  </thead>\n",
       "  <tbody>\n",
       "    <tr>\n",
       "      <th>0</th>\n",
       "      <td>bin_m</td>\n",
       "      <td>ANOVA</td>\n",
       "      <td>LR_EN</td>\n",
       "      <td>1466</td>\n",
       "      <td>0.868056</td>\n",
       "      <td>0.867498</td>\n",
       "      <td>0.86251</td>\n",
       "      <td>0.864601</td>\n",
       "      <td>0.914044</td>\n",
       "      <td>amilcar22</td>\n",
       "      <td>288</td>\n",
       "      <td>2023-10-29 22:20:56.697582</td>\n",
       "      <td>modelo_1466_bin_m_ANOVA_LR_EN.pkl</td>\n",
       "      <td>{'selector__k': 500, 'clasifier__solver': 'sag...</td>\n",
       "      <td>X_test:(144, 18875)</td>\n",
       "      <td>['ENSG00000000971.17', 'ENSG00000001626.18', '...</td>\n",
       "    </tr>\n",
       "  </tbody>\n",
       "</table>\n",
       "</div>"
      ],
      "text/plain": [
       "    tipo select clasific  semilla  accuracy  precision   recall  f1_score  \\\n",
       "0  bin_m  ANOVA    LR_EN     1466  0.868056   0.867498  0.86251  0.864601   \n",
       "\n",
       "    roc_auc   hostname  total_time_sec                    datetime  \\\n",
       "0  0.914044  amilcar22             288  2023-10-29 22:20:56.697582   \n",
       "\n",
       "                      fichero_modelo  \\\n",
       "0  modelo_1466_bin_m_ANOVA_LR_EN.pkl   \n",
       "\n",
       "                                              params                shape  \\\n",
       "0  {'selector__k': 500, 'clasifier__solver': 'sag...  X_test:(144, 18875)   \n",
       "\n",
       "                                            features  \n",
       "0  ['ENSG00000000971.17', 'ENSG00000001626.18', '...  "
      ]
     },
     "metadata": {},
     "output_type": "display_data"
    }
   ],
   "source": [
    "if M_TIPO.startswith(\"bin\"):\n",
    "    myfunc.save_metricas_to_csv(random_search, X_test, y_test, M_TIPO, M_SELECT, M_CLASIF, total_time, SEMILLA, myfunc.MET_DIR, M_FICHERO, fichero_modelo)\n",
    "else:\n",
    "    myfunc.save_metricas_multi_to_csv(random_search, X_test, y_test, M_TIPO, M_SELECT, M_CLASIF, total_time, SEMILLA, myfunc.MET_DIR, M_FICHERO, fichero_modelo)\n",
    "\n",
    "df1=myfunc.read_metricas_to_df(myfunc.MET_DIR,M_FICHERO)\n",
    "\n",
    "display(df1.sort_values(\"datetime\", ascending=False)[:3])\n"
   ]
  },
  {
   "cell_type": "markdown",
   "id": "b5395158",
   "metadata": {
    "papermill": {
     "duration": 0.009617,
     "end_time": "2023-10-29T21:20:56.745803",
     "exception": false,
     "start_time": "2023-10-29T21:20:56.736186",
     "status": "completed"
    },
    "tags": []
   },
   "source": [
    "#### Guardar resultados"
   ]
  },
  {
   "cell_type": "code",
   "execution_count": 13,
   "id": "9fd179e8",
   "metadata": {
    "execution": {
     "iopub.execute_input": "2023-10-29T21:20:56.770431Z",
     "iopub.status.busy": "2023-10-29T21:20:56.769682Z",
     "iopub.status.idle": "2023-10-29T21:20:56.780437Z",
     "shell.execute_reply": "2023-10-29T21:20:56.779752Z"
    },
    "papermill": {
     "duration": 0.026052,
     "end_time": "2023-10-29T21:20:56.781864",
     "exception": false,
     "start_time": "2023-10-29T21:20:56.755812",
     "status": "completed"
    },
    "tags": []
   },
   "outputs": [
    {
     "name": "stdout",
     "output_type": "stream",
     "text": [
      "20231029T222056 : amilcar22 : INFO : Inicio guardar resultados\n",
      "20231029T222056 : amilcar22 : INFO : Inicio guardar fichero ../tfm_git/ejecuciones/metricas/resultados_1466_bin_m-ANOVA-LR_EN.csv\n",
      "20231029T222056 : amilcar22 : INFO : Fin guardar fichero ../tfm_git/ejecuciones/metricas/resultados_1466_bin_m-ANOVA-LR_EN.csv\n",
      "20231029T222056 : amilcar22 : INFO : Fin guardar resultados\n"
     ]
    }
   ],
   "source": [
    "fichero_resultados=R_FICHERO+\"_\"+M_TIPO+\"-\"+M_SELECT+\"-\"+M_CLASIF+\".csv\"\n",
    "myfunc.save_resultados_to_csv(M_TIPO, M_SELECT, M_CLASIF,  random_search, myfunc.MET_DIR, fichero_resultados)\n"
   ]
  }
 ],
 "metadata": {
  "kernelspec": {
   "display_name": "Python 3 (ipykernel)",
   "language": "python",
   "name": "python3"
  },
  "language_info": {
   "codemirror_mode": {
    "name": "ipython",
    "version": 3
   },
   "file_extension": ".py",
   "mimetype": "text/x-python",
   "name": "python",
   "nbconvert_exporter": "python",
   "pygments_lexer": "ipython3",
   "version": "3.10.12"
  },
  "papermill": {
   "default_parameters": {},
   "duration": 294.868579,
   "end_time": "2023-10-29T21:20:59.405634",
   "environment_variables": {},
   "exception": null,
   "input_path": "03_entrenamiento.ipynb",
   "output_path": "ejecuciones/training/03_entrenamiento.20231029T221603.param_0000_1466_bin_m_ANOVA_LR_EN.output.ipynb",
   "parameters": {
    "MAX_ITERS": 500,
    "M_CLASIF": "LR_EN",
    "M_FICHERO": "metricas_1466",
    "M_SELECT": "ANOVA",
    "M_TIPO": "bin_m",
    "PRE_DATA_FILE": "rows_transpose_norm_by_gene_id_with_target_num_",
    "P_FICHERO": "param_0000_1466_bin_m_ANOVA_LR_EN.yaml",
    "R_FICHERO": "resultados_1466",
    "SCORING": "roc_auc_ovr",
    "SEMILLA": 1466,
    "eval_clasifier": "LogisticRegressionCV(random_state=SEMILLA)",
    "eval_selector": "SelectKBest(score_func=f_classif)",
    "param_distributions": {
     "clasifier__l1_ratios": [
      [
       0.1
      ]
     ],
     "clasifier__max_iter": [
      10000
     ],
     "clasifier__penalty": [
      "elasticnet"
     ],
     "clasifier__solver": [
      "saga"
     ],
     "selector__k": [
      500
     ]
    }
   },
   "start_time": "2023-10-29T21:16:04.537055",
   "version": "2.4.0"
  }
 },
 "nbformat": 4,
 "nbformat_minor": 5
}