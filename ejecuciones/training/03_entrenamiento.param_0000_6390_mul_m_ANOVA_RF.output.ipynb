{
 "cells": [
  {
   "cell_type": "markdown",
   "id": "f36bc59c",
   "metadata": {
    "papermill": {
     "duration": 0.005537,
     "end_time": "2023-10-30T14:21:29.404693",
     "exception": false,
     "start_time": "2023-10-30T14:21:29.399156",
     "status": "completed"
    },
    "tags": []
   },
   "source": [
    "##### Inicio"
   ]
  },
  {
   "cell_type": "markdown",
   "id": "d828aa00",
   "metadata": {
    "papermill": {
     "duration": 0.004591,
     "end_time": "2023-10-30T14:21:29.414233",
     "exception": false,
     "start_time": "2023-10-30T14:21:29.409642",
     "status": "completed"
    },
    "tags": []
   },
   "source": [
    "#### Carga de datos"
   ]
  },
  {
   "cell_type": "code",
   "execution_count": 1,
   "id": "8294cf5d",
   "metadata": {
    "execution": {
     "iopub.execute_input": "2023-10-30T14:21:29.425030Z",
     "iopub.status.busy": "2023-10-30T14:21:29.424786Z",
     "iopub.status.idle": "2023-10-30T14:21:30.298909Z",
     "shell.execute_reply": "2023-10-30T14:21:30.298386Z"
    },
    "papermill": {
     "duration": 0.881213,
     "end_time": "2023-10-30T14:21:30.300140",
     "exception": false,
     "start_time": "2023-10-30T14:21:29.418927",
     "status": "completed"
    },
    "tags": []
   },
   "outputs": [
    {
     "name": "stdout",
     "output_type": "stream",
     "text": [
      "CPU_COUNT: 8; NODE: amilcar22; sys.version: 3.10.12 (main, Jul  5 2023, 19:22:19) [GCC 11.2.0]\n",
      "LOKY_MAX_CPU_COUNT: 6\n",
      "OMP_NUM_THREADS: 2\n"
     ]
    }
   ],
   "source": [
    "import os\n",
    "import numpy as np\n",
    "import pandas as pd\n",
    "import datetime\n",
    "import sklearn\n",
    "import logging\n",
    "import warnings\n",
    "\n",
    "from sklearn.pipeline import Pipeline\n",
    "from sklearn.model_selection import RandomizedSearchCV, KFold, cross_val_score, train_test_split\n",
    "from sklearn.metrics import accuracy_score, confusion_matrix, classification_report, roc_auc_score\n",
    "\n",
    "#  cargar algoritmos para aprendizaje supervisado\n",
    "from sklearn.feature_selection import SelectKBest, f_classif, SelectFromModel, mutual_info_classif\n",
    "from sklearn.svm import SVC\n",
    "from sklearn.ensemble import RandomForestClassifier\n",
    "from sklearn.linear_model import LogisticRegression,LogisticRegressionCV\n",
    "\n",
    "# importar fichero con utilidades propias\n",
    "from commons import myfunctions as myfunc\n"
   ]
  },
  {
   "cell_type": "markdown",
   "id": "b2b4a259",
   "metadata": {
    "papermill": {
     "duration": 0.00264,
     "end_time": "2023-10-30T14:21:30.305779",
     "exception": false,
     "start_time": "2023-10-30T14:21:30.303139",
     "status": "completed"
    },
    "tags": []
   },
   "source": [
    "#### Parámetros a utilizar en el entrenamiento.\n",
    "\n",
    "Se indican los 3 algoritmos de *selección de características* (eval_selector_xxx) y los 3 algoritmos para la _clasificación_ (eval_clasifier_xxx)\n",
    "\n",
    "En *param_distributions* se indicar los parámetros que utilizan los algoritmos en la función RandomSearchCV.\n",
    "\n",
    "Esta celda tiene la etiqueta **parameters** que servirá para poder lanzar los entrenamientos con la utilidad **papermill** pasándole un fichero con los parámetros. Los nuevos parámetros se situarán tras esta celda para tener prevalencia."
   ]
  },
  {
   "cell_type": "code",
   "execution_count": 2,
   "id": "bf97b267",
   "metadata": {
    "execution": {
     "iopub.execute_input": "2023-10-30T14:21:30.325853Z",
     "iopub.status.busy": "2023-10-30T14:21:30.325523Z",
     "iopub.status.idle": "2023-10-30T14:21:30.332717Z",
     "shell.execute_reply": "2023-10-30T14:21:30.332210Z"
    },
    "papermill": {
     "duration": 0.025471,
     "end_time": "2023-10-30T14:21:30.333818",
     "exception": false,
     "start_time": "2023-10-30T14:21:30.308347",
     "status": "completed"
    },
    "tags": [
     "parameters"
    ]
   },
   "outputs": [
    {
     "name": "stdout",
     "output_type": "stream",
     "text": [
      "20231030T152130 : amilcar22 : INFO : Utilizando parámetros de mul_m\n"
     ]
    }
   ],
   "source": [
    "#  Parametros para el entrenamiento\n",
    "\n",
    "SEMILLA=        42\n",
    "M_TIPO=         \"mul_m\"\n",
    "M_SELECT=       \"MI\"\n",
    "M_CLASIF=       \"SVM\"\n",
    "R_FICHERO=      \"resultados\"\n",
    "M_FICHERO=      \"metricas\"\n",
    "PRE_DATA_FILE=  \"rows_transpose_norm_by_gene_id_with_target_num_\"\n",
    "SCORING=        \"roc_auc_ovr\" \n",
    "MAX_ITERS=      100\n",
    "\n",
    "def mutual_info_classif_state(X, y):\n",
    "    return mutual_info_classif(X, y, random_state=SEMILLA)\n",
    "\n",
    "eval_selector_mi = \"SelectKBest(score_func=mutual_info_classif_state)\"\n",
    "eval_selector_rf=  \"SelectFromModel(estimator=RandomForestClassifier(random_state=SEMILLA), threshold=-np.inf)\"\n",
    "eval_selector_anova=  \"SelectKBest(score_func=f_classif)\"\n",
    "\n",
    "eval_clasifier_svm= \"SVC(probability=True, random_state=SEMILLA)\"\n",
    "eval_clasifier_rf= \"RandomForestClassifier(random_state=SEMILLA)\"\n",
    "eval_clasifier_lr= \"LogisticRegressionCV(random_state=SEMILLA)\"\n",
    "\n",
    "if M_TIPO.startswith(\"bin_m\"):\n",
    "    myfunc.verbose(f\"Utilizando parámetros de {M_TIPO}\")\n",
    "    eval_selector = eval_selector_mi\n",
    "    eval_clasifier = eval_clasifier_svm\n",
    "\n",
    "    SEMILLA = 6578\n",
    "    M_SELECT = \"MI\"\n",
    "    M_CLASIF = \"SVM\"\n",
    "    param_distributions = {'selector__k': [1000], \n",
    "         'clasifier__kernel': ['rbf'], 'clasifier__gamma': [0.01], 'clasifier__C': [100]}\n",
    "elif M_TIPO.startswith(\"bin_s\"):\n",
    "    myfunc.verbose(f\"Utilizando parámetros de {M_TIPO}\")\n",
    "    eval_selector = eval_selector_rf\n",
    "    eval_clasifier = eval_clasifier_lr\n",
    "\n",
    "    SEMILLA = 6191\n",
    "    M_SELECT = \"RF\"\n",
    "    M_CLASIF = \"LR_L2\"\n",
    "    param_distributions = {'selector__max_features': [1000], 'selector__estimator__n_estimators': [200], \n",
    "        'clasifier__solver': ['lbfgs'], 'clasifier__penalty': ['l2'], 'clasifier__max_iter': [10000]}\n",
    "\n",
    "elif M_TIPO.startswith(\"mul_m\"):\n",
    "    myfunc.verbose(f\"Utilizando parámetros de {M_TIPO}\")\n",
    " \n",
    "    eval_selector = eval_selector_rf\n",
    "    eval_clasifier = eval_clasifier_lr\n",
    "\n",
    "    SEMILLA = 6191\n",
    "    M_SELECT = \"RF\"\n",
    "    M_CLASIF = \"LR_L2\"\n",
    "    param_distributions = {'selector__max_features': [1000], 'selector__estimator__n_estimators': [400], \n",
    "        'clasifier__solver': ['lbfgs'], 'clasifier__penalty': ['l2'], 'clasifier__max_iter': [10000]}\n",
    "\n",
    "else:\n",
    "    # M_TIPO.startswith(\"mul_s\"):\n",
    "    myfunc.verbose(f\"Utilizando parámetros de {M_TIPO}\")\n",
    "    eval_selector = eval_selector_anova\n",
    "    eval_clasifier = eval_clasifier_lr\n",
    "\n",
    "    SEMILLA = 1860\n",
    "    M_SELECT = \"ANOVA\"\n",
    "    M_CLASIF = \"LR_L2\"\n",
    "    param_distributions = {'selector__k': [1000], \n",
    "        'clasifier__solver': ['saga'], 'clasifier__penalty': ['l2'], 'clasifier__max_iter': [10000]}\n",
    "\n"
   ]
  },
  {
   "cell_type": "code",
   "execution_count": 3,
   "id": "acbc4a7c",
   "metadata": {
    "execution": {
     "iopub.execute_input": "2023-10-30T14:21:30.339785Z",
     "iopub.status.busy": "2023-10-30T14:21:30.339631Z",
     "iopub.status.idle": "2023-10-30T14:21:30.343106Z",
     "shell.execute_reply": "2023-10-30T14:21:30.342538Z"
    },
    "papermill": {
     "duration": 0.00781,
     "end_time": "2023-10-30T14:21:30.344387",
     "exception": false,
     "start_time": "2023-10-30T14:21:30.336577",
     "status": "completed"
    },
    "tags": [
     "injected-parameters"
    ]
   },
   "outputs": [],
   "source": [
    "# Parameters\n",
    "M_TIPO = \"mul_m\"\n",
    "M_SELECT = \"ANOVA\"\n",
    "M_CLASIF = \"RF\"\n",
    "P_FICHERO = \"param_0000_6390_mul_m_ANOVA_RF.yaml\"\n",
    "R_FICHERO = \"resultados_6390\"\n",
    "M_FICHERO = \"metricas_6390\"\n",
    "PRE_DATA_FILE = \"rows_transpose_norm_by_gene_id_with_target_num_\"\n",
    "SCORING = \"roc_auc_ovr\"\n",
    "SEMILLA = 6390\n",
    "MAX_ITERS = 500\n",
    "eval_selector = \"SelectKBest(score_func=f_classif)\"\n",
    "eval_clasifier = \"RandomForestClassifier(random_state=SEMILLA)\"\n",
    "param_distributions = {\n",
    "    \"selector__k\": [1000],\n",
    "    \"clasifier__n_estimators\": [400],\n",
    "    \"clasifier__min_samples_split\": [10],\n",
    "    \"clasifier__min_samples_leaf\": [5],\n",
    "    \"clasifier__max_features\": [200],\n",
    "    \"clasifier__max_depth\": [10],\n",
    "    \"clasifier__bootstrap\": [True],\n",
    "}\n"
   ]
  },
  {
   "cell_type": "code",
   "execution_count": 4,
   "id": "6a7d8162",
   "metadata": {
    "execution": {
     "iopub.execute_input": "2023-10-30T14:21:30.350717Z",
     "iopub.status.busy": "2023-10-30T14:21:30.350523Z",
     "iopub.status.idle": "2023-10-30T14:21:30.353861Z",
     "shell.execute_reply": "2023-10-30T14:21:30.353262Z"
    },
    "papermill": {
     "duration": 0.008054,
     "end_time": "2023-10-30T14:21:30.355205",
     "exception": false,
     "start_time": "2023-10-30T14:21:30.347151",
     "status": "completed"
    },
    "tags": []
   },
   "outputs": [],
   "source": [
    "DATA_FILE = PRE_DATA_FILE + M_TIPO\n",
    "\n",
    "# si viene \"None\" en el parámetro max_depth, se le quitan las comillas para que no sea entendido por el algoritmo como un texto\n",
    "if \"clasifier__max_depth\" in param_distributions:\n",
    "    param_distributions['clasifier__max_depth'] = [None if x == 'None' else x for x in param_distributions['clasifier__max_depth']]"
   ]
  },
  {
   "cell_type": "markdown",
   "id": "9e620f6e",
   "metadata": {
    "papermill": {
     "duration": 0.003281,
     "end_time": "2023-10-30T14:21:30.361798",
     "exception": false,
     "start_time": "2023-10-30T14:21:30.358517",
     "status": "completed"
    },
    "tags": []
   },
   "source": [
    "Asignar los algoritmos que se utilizarán en la función RandomSearchCV"
   ]
  },
  {
   "cell_type": "code",
   "execution_count": 5,
   "id": "a38e233d",
   "metadata": {
    "execution": {
     "iopub.execute_input": "2023-10-30T14:21:30.369312Z",
     "iopub.status.busy": "2023-10-30T14:21:30.369090Z",
     "iopub.status.idle": "2023-10-30T14:21:30.372386Z",
     "shell.execute_reply": "2023-10-30T14:21:30.371698Z"
    },
    "papermill": {
     "duration": 0.008788,
     "end_time": "2023-10-30T14:21:30.373940",
     "exception": false,
     "start_time": "2023-10-30T14:21:30.365152",
     "status": "completed"
    },
    "tags": []
   },
   "outputs": [],
   "source": [
    "algor_selector=eval(eval_selector)\n",
    "algor_clasifier=eval(eval_clasifier)"
   ]
  },
  {
   "cell_type": "markdown",
   "id": "9d4b56df",
   "metadata": {
    "papermill": {
     "duration": 0.003832,
     "end_time": "2023-10-30T14:21:30.381652",
     "exception": false,
     "start_time": "2023-10-30T14:21:30.377820",
     "status": "completed"
    },
    "tags": []
   },
   "source": [
    "#### Comprobar el entorno y leer fichero de muestras"
   ]
  },
  {
   "cell_type": "code",
   "execution_count": 6,
   "id": "d878a53b",
   "metadata": {
    "execution": {
     "iopub.execute_input": "2023-10-30T14:21:30.389746Z",
     "iopub.status.busy": "2023-10-30T14:21:30.389547Z",
     "iopub.status.idle": "2023-10-30T14:21:30.555178Z",
     "shell.execute_reply": "2023-10-30T14:21:30.554635Z"
    },
    "papermill": {
     "duration": 0.171183,
     "end_time": "2023-10-30T14:21:30.556520",
     "exception": false,
     "start_time": "2023-10-30T14:21:30.385337",
     "status": "completed"
    },
    "tags": []
   },
   "outputs": [
    {
     "name": "stdout",
     "output_type": "stream",
     "text": [
      "20231030T152130 : amilcar22 : INFO : Encontrada carpeta DATA_DIR=../tfm_git/datos\n",
      "20231030T152130 : amilcar22 : INFO : Encontrada carpeta CFDNA_DIR=../tfm_git/datos/cfDNA_5hmC\n",
      "20231030T152130 : amilcar22 : INFO : Encontrada carpeta GENCODE_DIR=../tfm_git/datos/gencode\n",
      "20231030T152130 : amilcar22 : INFO : Encontrada carpeta H5_DIR=../tfm_git/datos/h5\n",
      "20231030T152130 : amilcar22 : INFO : Encontrada carpeta LOG_DIR=../tfm_git/datos/logs\n",
      "20231030T152130 : amilcar22 : INFO : Encontrada carpeta CSV_DIR=../tfm_git/datos/csv\n",
      "20231030T152130 : amilcar22 : INFO : Encontrada carpeta MODEL_DIR=../tfm_git/ejecuciones/modelos\n",
      "20231030T152130 : amilcar22 : INFO : Encontrada carpeta EXEC_DIR=../tfm_git/ejecuciones\n",
      "20231030T152130 : amilcar22 : INFO : Encontrada carpeta MET_DIR=../tfm_git/ejecuciones/metricas\n",
      "20231030T152130 : amilcar22 : INFO : Inicio leer fichero h5 ../tfm_git/datos/h5/rows_transpose_norm_by_gene_id_with_target_num_mul_m.h5\n",
      "20231030T152130 : amilcar22 : INFO : Leyendo clave /df\n"
     ]
    },
    {
     "name": "stdout",
     "output_type": "stream",
     "text": [
      "20231030T152130 : amilcar22 : INFO : Tamaño (434, 18876)\n",
      "20231030T152130 : amilcar22 : INFO : Fin leer fichero h5 ../tfm_git/datos/h5/rows_transpose_norm_by_gene_id_with_target_num_mul_m.h5\n"
     ]
    },
    {
     "data": {
      "text/plain": [
       "target\n",
       "0    62\n",
       "1    62\n",
       "2    62\n",
       "3    62\n",
       "4    62\n",
       "5    62\n",
       "6    62\n",
       "dtype: int64"
      ]
     },
     "metadata": {},
     "output_type": "display_data"
    },
    {
     "name": "stdout",
     "output_type": "stream",
     "text": [
      "Shape df: (434, 18876)\n"
     ]
    },
    {
     "name": "stdout",
     "output_type": "stream",
     "text": [
      "Shape X_train: (347, 18875)\n",
      "Shape X_test: (87, 18875)\n"
     ]
    }
   ],
   "source": [
    "start_time = datetime.datetime.now()\n",
    "\n",
    "myfunc.reset_vars()\n",
    "\n",
    "myfunc.NOTEBK_FILENAME = myfunc.get_nb_name()\n",
    "\n",
    "myfunc.check_enviroment(myfunc.DATA_DIR, myfunc.CFDNA_DIR, myfunc.GENCODE_DIR, myfunc.H5_DIR, myfunc.LOG_DIR, myfunc.CSV_DIR, myfunc.MODEL_DIR, myfunc.EXEC_DIR, myfunc.MET_DIR)\n",
    "\n",
    "# Leer fichero con las muestras\n",
    "df_t = myfunc.read_h5_to_df(DATA_FILE, myfunc.H5_DIR)\n",
    "display(df_t.groupby(\"target\").size())\n",
    "print(\"Shape df:\",df_t.shape)\n",
    "\n",
    "# Separar caracteristicas/genes de las etiquetas/tipos de cáncer\n",
    "X = df_t.iloc[:, :-1]  # Todas las columnas excepto la última\n",
    "y = df_t.iloc[:, -1]  # La última columna contiene los identificadores de los tipos de cáncer\n",
    "\n",
    "#  Crear el conjunto de datos de entrenamiento y de pruebas, y se fija la semilla para siempre coger el mismo juego de muestras\n",
    "X_train, X_test, y_train, y_test = train_test_split(X, y, test_size=0.2, shuffle=True, random_state=42)\n",
    "print(\"Shape X_train:\",X_train.shape)\n",
    "print(\"Shape X_test:\",X_test.shape)\n"
   ]
  },
  {
   "cell_type": "markdown",
   "id": "1ba5fa01",
   "metadata": {
    "papermill": {
     "duration": 0.004952,
     "end_time": "2023-10-30T14:21:30.564778",
     "exception": false,
     "start_time": "2023-10-30T14:21:30.559826",
     "status": "completed"
    },
    "tags": []
   },
   "source": [
    "#### Selección de características y clasificación."
   ]
  },
  {
   "cell_type": "code",
   "execution_count": 7,
   "id": "709ba5b2",
   "metadata": {
    "execution": {
     "iopub.execute_input": "2023-10-30T14:21:30.635902Z",
     "iopub.status.busy": "2023-10-30T14:21:30.635651Z",
     "iopub.status.idle": "2023-10-30T14:21:50.170401Z",
     "shell.execute_reply": "2023-10-30T14:21:50.169764Z"
    },
    "papermill": {
     "duration": 19.545428,
     "end_time": "2023-10-30T14:21:50.171672",
     "exception": false,
     "start_time": "2023-10-30T14:21:30.626244",
     "status": "completed"
    },
    "tags": []
   },
   "outputs": [
    {
     "name": "stdout",
     "output_type": "stream",
     "text": [
      "20231030T152130 : amilcar22 : INFO : Iniciando entrenamiento\n",
      "num_iter: 1 , max_iter: 1\n",
      "Fitting 5 folds for each of 1 candidates, totalling 5 fits\n"
     ]
    },
    {
     "name": "stderr",
     "output_type": "stream",
     "text": [
      "/home/antonio/miniconda3/lib/python3.10/site-packages/sklearn/feature_selection/_univariate_selection.py:112: UserWarning: Features [  298  1508  1733  2010  2265  2266  2553  2803  2896  3415  3492  4075\n",
      "  5803  6984  6993  7416  8791  9087  9490 10035 10475 11020 11022 11565\n",
      " 11613 11943 12249 12480 12831 12888 13836 13848 13959 14000 14015 14789\n",
      " 14795 14941 15397 15515 15563 15824 16258 16276 16281 16313 16323 16339\n",
      " 16372 16701 16704 16870 16905 16906 17024 17093 17231 17274 18288 18368\n",
      " 18374 18405 18530 18608 18693] are constant.\n",
      "  warnings.warn(\"Features %s are constant.\" % constant_features_idx, UserWarning)\n",
      "/home/antonio/miniconda3/lib/python3.10/site-packages/sklearn/feature_selection/_univariate_selection.py:113: RuntimeWarning: invalid value encountered in divide\n",
      "  f = msb / msw\n",
      "/home/antonio/miniconda3/lib/python3.10/site-packages/sklearn/feature_selection/_univariate_selection.py:112: UserWarning: Features [  298   382  1508  1733  2010  2265  2266  2553  2803  2896  3415  4075\n",
      "  5803  6984  7416  8791  9087  9490 10475 11020 11419 11613 11943 12249\n",
      " 12480 12831 12973 13300 13836 13848 13959 14015 14451 14735 14795 14941\n",
      " 15397 15401 15515 15563 15824 16260 16276 16313 16323 16339 16372 16520\n",
      " 16701 16870 16905 16906 17024 17093 17231 17274 17312 17418 18245 18368\n",
      " 18374 18405 18546 18608] are constant.\n",
      "  warnings.warn(\"Features %s are constant.\" % constant_features_idx, UserWarning)\n",
      "/home/antonio/miniconda3/lib/python3.10/site-packages/sklearn/feature_selection/_univariate_selection.py:113: RuntimeWarning: invalid value encountered in divide\n",
      "  f = msb / msw\n",
      "/home/antonio/miniconda3/lib/python3.10/site-packages/sklearn/feature_selection/_univariate_selection.py:112: UserWarning: Features [  298  1508  1733  1846  2010  2222  2265  2266  2553  2803  2896  3415\n",
      "  4075  5668  5803  6053  6984  7416  8791  9087  9490 10475 11020 11613\n",
      " 11943 12249 12433 12480 12831 13235 13836 13848 13860 13959 14015 14244\n",
      " 14559 14637 14795 14941 15183 15397 15515 15516 15563 15824 16018 16276\n",
      " 16312 16313 16323 16339 16372 16522 16701 16870 16905 16906 17024 17093\n",
      " 17231 17264 17269 17274 17540 18368 18374 18405 18486 18608 18692 18868] are constant.\n",
      "  warnings.warn(\"Features %s are constant.\" % constant_features_idx, UserWarning)\n",
      "/home/antonio/miniconda3/lib/python3.10/site-packages/sklearn/feature_selection/_univariate_selection.py:113: RuntimeWarning: invalid value encountered in divide\n",
      "  f = msb / msw\n"
     ]
    },
    {
     "name": "stderr",
     "output_type": "stream",
     "text": [
      "/home/antonio/miniconda3/lib/python3.10/site-packages/sklearn/feature_selection/_univariate_selection.py:112: UserWarning: Features [  298  1508  1733  2010  2265  2266  2553  2803  2896  3415  4075  5533\n",
      "  5803  6984  7416  8513  8791  9087  9490 10475 11020 11562 11613 11943\n",
      " 12249 12480 12831 13047 13259 13836 13848 13959 14015 14795 14941 15397\n",
      " 15515 15563 15824 15881 16262 16267 16276 16278 16279 16287 16313 16323\n",
      " 16339 16372 16701 16870 16905 16906 16956 17024 17093 17231 17274 17741\n",
      " 18241 18368 18374 18405 18608] are constant.\n",
      "  warnings.warn(\"Features %s are constant.\" % constant_features_idx, UserWarning)\n",
      "/home/antonio/miniconda3/lib/python3.10/site-packages/sklearn/feature_selection/_univariate_selection.py:113: RuntimeWarning: invalid value encountered in divide\n",
      "  f = msb / msw\n",
      "/home/antonio/miniconda3/lib/python3.10/site-packages/sklearn/feature_selection/_univariate_selection.py:112: UserWarning: Features [  298  1508  1733  2010  2265  2266  2553  2688  2803  2896  3415  4075\n",
      "  5803  6981  6984  7416  7418  8510  8791  9087  9490 10475 11020 11613\n",
      " 11943 11946 12249 12480 12831 12940 13836 13848 13959 14015 14245 14795\n",
      " 14941 15397 15515 15563 15824 16268 16276 16313 16323 16339 16372 16479\n",
      " 16630 16667 16679 16701 16819 16870 16905 16906 16968 17024 17091 17093\n",
      " 17231 17274 17566 18368 18374 18405 18608] are constant.\n",
      "  warnings.warn(\"Features %s are constant.\" % constant_features_idx, UserWarning)\n",
      "/home/antonio/miniconda3/lib/python3.10/site-packages/sklearn/feature_selection/_univariate_selection.py:113: RuntimeWarning: invalid value encountered in divide\n",
      "  f = msb / msw\n"
     ]
    },
    {
     "name": "stderr",
     "output_type": "stream",
     "text": [
      "/home/antonio/miniconda3/lib/python3.10/site-packages/sklearn/feature_selection/_univariate_selection.py:112: UserWarning: Features [  298  1508  1733  2010  2265  2266  2553  2803  2896  3415  4075  5803\n",
      "  6984  7416  8791  9087  9490 10475 11020 11613 11943 12249 12480 12831\n",
      " 13836 13848 13959 14015 14795 14941 15397 15515 15563 15824 16276 16313\n",
      " 16323 16339 16372 16701 16870 16905 16906 17024 17093 17231 17274 18368\n",
      " 18374 18405 18608] are constant.\n",
      "  warnings.warn(\"Features %s are constant.\" % constant_features_idx, UserWarning)\n",
      "/home/antonio/miniconda3/lib/python3.10/site-packages/sklearn/feature_selection/_univariate_selection.py:113: RuntimeWarning: invalid value encountered in divide\n",
      "  f = msb / msw\n"
     ]
    },
    {
     "name": "stdout",
     "output_type": "stream",
     "text": [
      "Mejores Hiperparámetros: {'selector__k': 1000, 'clasifier__n_estimators': 400, 'clasifier__min_samples_split': 10, 'clasifier__min_samples_leaf': 5, 'clasifier__max_features': 200, 'clasifier__max_depth': 10, 'clasifier__bootstrap': True}\n",
      "Mejor Puntuación: 0.8077\n",
      "20231030T152150 : amilcar22 : INFO : Fin entrenamiento\n"
     ]
    }
   ],
   "source": [
    "myfunc.verbose(\"Iniciando entrenamiento\")\n",
    "\n",
    "kf = KFold(n_splits=5, shuffle=True, random_state=SEMILLA)\n",
    "\n",
    "# Crear el pipeline para el flujo de tareas\n",
    "tasks_pipeline = Pipeline([\n",
    "    ('selector', algor_selector),\n",
    "    ('clasifier', algor_clasifier)\n",
    "])\n",
    "\n",
    "# MAX_ITERS puede limitar el número de iteraciones si son excesivas para las combinaciones de parámetros buscando un óptimo local, \n",
    "# sino funcionaría como GridSearchCV al revisar todas las cominaciones de los parámetros\n",
    "num_iteraciones = 1\n",
    "num_iteraciones = num_iteraciones * np.prod([len(elemento1) for _, elemento1 in param_distributions.items()])\n",
    "max_iteraciones = num_iteraciones if num_iteraciones <= MAX_ITERS else MAX_ITERS\n",
    "print(\"num_iter:\",num_iteraciones,\", max_iter:\",max_iteraciones)\n",
    "\n",
    "random_search = RandomizedSearchCV(\n",
    "    tasks_pipeline, \n",
    "    param_distributions, \n",
    "    n_iter=max_iteraciones,\n",
    "    scoring=SCORING,\n",
    "    cv=kf,\n",
    "    verbose=3, \n",
    "    random_state=SEMILLA, \n",
    "    n_jobs=-1\n",
    "    )\n",
    "\n",
    "# Entrenar el modelo\n",
    "random_search.fit(X_train, y_train)\n",
    "\n",
    "# Ver los mejores hiperparámetros encontrados\n",
    "print(f'Mejores Hiperparámetros: {random_search.best_params_}')\n",
    "print(f'Mejor Puntuación: {random_search.best_score_:.4f}')\n",
    "\n",
    "# Nos quedamos con el mejor modelo para ver las métricas\n",
    "mejor_modelo = random_search.best_estimator_\n",
    "\n",
    "myfunc.verbose(\"Fin entrenamiento\")"
   ]
  },
  {
   "cell_type": "markdown",
   "id": "1cacf049",
   "metadata": {
    "papermill": {
     "duration": 0.003118,
     "end_time": "2023-10-30T14:21:50.178410",
     "exception": false,
     "start_time": "2023-10-30T14:21:50.175292",
     "status": "completed"
    },
    "tags": []
   },
   "source": [
    "#### Guardar modelo"
   ]
  },
  {
   "cell_type": "code",
   "execution_count": 8,
   "id": "b3ebc4ee",
   "metadata": {
    "execution": {
     "iopub.execute_input": "2023-10-30T14:21:50.185546Z",
     "iopub.status.busy": "2023-10-30T14:21:50.185310Z",
     "iopub.status.idle": "2023-10-30T14:21:50.310990Z",
     "shell.execute_reply": "2023-10-30T14:21:50.310353Z"
    },
    "papermill": {
     "duration": 0.130898,
     "end_time": "2023-10-30T14:21:50.312369",
     "exception": false,
     "start_time": "2023-10-30T14:21:50.181471",
     "status": "completed"
    },
    "tags": []
   },
   "outputs": [
    {
     "name": "stdout",
     "output_type": "stream",
     "text": [
      "20231030T152150 : amilcar22 : INFO : Inicio guardar fichero ../tfm_git/ejecuciones/modelos/modelo_6390_mul_m_ANOVA_RF.pkl\n",
      "20231030T152150 : amilcar22 : INFO : Fin guardar fichero ../tfm_git/ejecuciones/modelos/modelo_6390_mul_m_ANOVA_RF.pkl\n"
     ]
    }
   ],
   "source": [
    "fichero_modelo = str.replace(\"modelo_\"+str(SEMILLA).zfill(4)+\"_\"+M_TIPO+\"_\"+M_SELECT+\"_\"+M_CLASIF+\".pkl\", \" \", \"_\")\n",
    "\n",
    "myfunc.save_modelo(mejor_modelo, myfunc.MODEL_DIR, fichero_modelo)"
   ]
  },
  {
   "cell_type": "markdown",
   "id": "a33fc91d",
   "metadata": {
    "papermill": {
     "duration": 0.003424,
     "end_time": "2023-10-30T14:21:50.319400",
     "exception": false,
     "start_time": "2023-10-30T14:21:50.315976",
     "status": "completed"
    },
    "tags": []
   },
   "source": [
    "#### Ver resultados del las iteraciones hechas por RandomSearchCV"
   ]
  },
  {
   "cell_type": "code",
   "execution_count": 9,
   "id": "eb57897a",
   "metadata": {
    "execution": {
     "iopub.execute_input": "2023-10-30T14:21:50.326462Z",
     "iopub.status.busy": "2023-10-30T14:21:50.326242Z",
     "iopub.status.idle": "2023-10-30T14:21:50.332303Z",
     "shell.execute_reply": "2023-10-30T14:21:50.331872Z"
    },
    "papermill": {
     "duration": 0.011005,
     "end_time": "2023-10-30T14:21:50.333485",
     "exception": false,
     "start_time": "2023-10-30T14:21:50.322480",
     "status": "completed"
    },
    "tags": []
   },
   "outputs": [
    {
     "name": "stdout",
     "output_type": "stream",
     "text": [
      "20231030T152150 : amilcar22 : INFO : Inicio ver resultados\n",
      "Mejores Hiperparámetros: {'selector__k': 1000, 'clasifier__n_estimators': 400, 'clasifier__min_samples_split': 10, 'clasifier__min_samples_leaf': 5, 'clasifier__max_features': 200, 'clasifier__max_depth': 10, 'clasifier__bootstrap': True}\n",
      "Mejores puntuaciones: 0.8077 | Params: {'selector__k': 1000, 'clasifier__n_estimators': 400, 'clasifier__min_samples_split': 10, 'clasifier__min_samples_leaf': 5, 'clasifier__max_features': 200, 'clasifier__max_depth': 10, 'clasifier__bootstrap': True}\n",
      "Media de las puntuaciones: 0.8077 | Params: {'selector__k': 1000, 'clasifier__n_estimators': 400, 'clasifier__min_samples_split': 10, 'clasifier__min_samples_leaf': 5, 'clasifier__max_features': 200, 'clasifier__max_depth': 10, 'clasifier__bootstrap': True}\n",
      "20231030T152150 : amilcar22 : INFO : Fin resultados\n"
     ]
    }
   ],
   "source": [
    "myfunc.ver_resultados_search(random_search)"
   ]
  },
  {
   "cell_type": "markdown",
   "id": "a1b9295e",
   "metadata": {
    "papermill": {
     "duration": 0.003148,
     "end_time": "2023-10-30T14:21:50.340198",
     "exception": false,
     "start_time": "2023-10-30T14:21:50.337050",
     "status": "completed"
    },
    "tags": []
   },
   "source": [
    "#### Ver métricas del mejor modelo"
   ]
  },
  {
   "cell_type": "code",
   "execution_count": 10,
   "id": "8b18ed2a",
   "metadata": {
    "execution": {
     "iopub.execute_input": "2023-10-30T14:21:50.347407Z",
     "iopub.status.busy": "2023-10-30T14:21:50.347211Z",
     "iopub.status.idle": "2023-10-30T14:21:51.000876Z",
     "shell.execute_reply": "2023-10-30T14:21:51.000346Z"
    },
    "papermill": {
     "duration": 0.65872,
     "end_time": "2023-10-30T14:21:51.002176",
     "exception": false,
     "start_time": "2023-10-30T14:21:50.343456",
     "status": "completed"
    },
    "tags": []
   },
   "outputs": [
    {
     "name": "stdout",
     "output_type": "stream",
     "text": [
      "20231030T152150 : amilcar22 : INFO : Inicio ver métricas multiclase\n"
     ]
    },
    {
     "name": "stdout",
     "output_type": "stream",
     "text": [
      "              precision    recall  f1-score   support\n",
      "\n",
      "           0       0.00      0.00      0.00        16\n",
      "           1       0.59      0.67      0.62        15\n",
      "           2       0.29      0.18      0.22        11\n",
      "           3       0.20      0.60      0.30         5\n",
      "           4       0.44      0.62      0.52        13\n",
      "           5       0.60      0.67      0.63         9\n",
      "           6       0.53      0.50      0.51        18\n",
      "\n",
      "    accuracy                           0.44        87\n",
      "   macro avg       0.38      0.46      0.40        87\n",
      "weighted avg       0.39      0.44      0.40        87\n",
      "\n",
      "\n",
      "\n",
      "           Exactitud: 0.436782\n",
      "   Precisión (media): 0.378258\n",
      "      Recall (media): 0.461505\n",
      "    F1-score (media): 0.401317\n",
      "\n",
      "\n",
      "AUC para el tipo de cáncer 0-Control.... 0.5968\n",
      "AUC para el tipo de cáncer 1-Bladder.... 0.8685\n",
      "AUC para el tipo de cáncer 2-Breast..... 0.6495\n",
      "AUC para el tipo de cáncer 3-Colorectal. 0.8756\n",
      "AUC para el tipo de cáncer 4-Kidney..... 0.8181\n",
      "AUC para el tipo de cáncer 5-Lung....... 0.8846\n",
      "AUC para el tipo de cáncer 6-Prostate... 0.8261\n",
      "\n",
      "Media de AUC: 0.7885\n"
     ]
    },
    {
     "data": {
      "image/png": "[encoded data removed]",
      "text/plain": [
       "<Figure size 1000x600 with 1 Axes>"
      ]
     },
     "metadata": {},
     "output_type": "display_data"
    },
    {
     "name": "stdout",
     "output_type": "stream",
     "text": [
      "\n",
      "\n"
     ]
    },
    {
     "data": {
      "image/png": "[encoded data removed]",
      "text/plain": [
       "<Figure size 800x400 with 2 Axes>"
      ]
     },
     "metadata": {},
     "output_type": "display_data"
    },
    {
     "name": "stdout",
     "output_type": "stream",
     "text": [
      "\n",
      "\n",
      "Puntuación Jaccard para el cáncer tipo 0-Control.... 0.0000\n",
      "Puntuación Jaccard para el cáncer tipo 1-Bladder.... 0.4545\n",
      "Puntuación Jaccard para el cáncer tipo 2-Breast..... 0.1250\n",
      "Puntuación Jaccard para el cáncer tipo 3-Colorectal. 0.1765\n",
      "Puntuación Jaccard para el cáncer tipo 4-Kidney..... 0.3478\n",
      "Puntuación Jaccard para el cáncer tipo 5-Lung....... 0.4615\n",
      "Puntuación Jaccard para el cáncer tipo 6-Prostate... 0.3462\n",
      "\n",
      "Media de la puntuación de Jaccard: 0.2731\n"
     ]
    }
   ],
   "source": [
    "if M_TIPO.startswith(\"bin\"):\n",
    "    myfunc.ver_metricas(mejor_modelo, X_test, y_test)\n",
    "else:\n",
    "    myfunc.ver_metricas_multi(mejor_modelo, X_test, y_test)\n"
   ]
  },
  {
   "cell_type": "markdown",
   "id": "2529cbb3",
   "metadata": {
    "papermill": {
     "duration": 0.004328,
     "end_time": "2023-10-30T14:21:51.011364",
     "exception": false,
     "start_time": "2023-10-30T14:21:51.007036",
     "status": "completed"
    },
    "tags": []
   },
   "source": [
    "#### Finalización del notebook"
   ]
  },
  {
   "cell_type": "code",
   "execution_count": 11,
   "id": "d3b8c1f9",
   "metadata": {
    "execution": {
     "iopub.execute_input": "2023-10-30T14:21:51.020934Z",
     "iopub.status.busy": "2023-10-30T14:21:51.020732Z",
     "iopub.status.idle": "2023-10-30T14:21:51.023994Z",
     "shell.execute_reply": "2023-10-30T14:21:51.023578Z"
    },
    "papermill": {
     "duration": 0.009498,
     "end_time": "2023-10-30T14:21:51.025182",
     "exception": false,
     "start_time": "2023-10-30T14:21:51.015684",
     "status": "completed"
    },
    "tags": []
   },
   "outputs": [
    {
     "name": "stdout",
     "output_type": "stream",
     "text": [
      "20231030T152151 : amilcar22 : INFO : Notebook ha tardado 20 seconds\n"
     ]
    }
   ],
   "source": [
    "end_time = datetime.datetime.now()\n",
    "total_time = end_time - start_time\n",
    "myfunc.verbose(f\"Notebook ha tardado {total_time.seconds} seconds\")"
   ]
  },
  {
   "cell_type": "markdown",
   "id": "047c17fd",
   "metadata": {
    "papermill": {
     "duration": 0.004297,
     "end_time": "2023-10-30T14:21:51.033999",
     "exception": false,
     "start_time": "2023-10-30T14:21:51.029702",
     "status": "completed"
    },
    "tags": []
   },
   "source": [
    "#### Guardar métricas"
   ]
  },
  {
   "cell_type": "code",
   "execution_count": 12,
   "id": "1b44b448",
   "metadata": {
    "execution": {
     "iopub.execute_input": "2023-10-30T14:21:51.043331Z",
     "iopub.status.busy": "2023-10-30T14:21:51.043140Z",
     "iopub.status.idle": "2023-10-30T14:21:51.300869Z",
     "shell.execute_reply": "2023-10-30T14:21:51.300365Z"
    },
    "papermill": {
     "duration": 0.263881,
     "end_time": "2023-10-30T14:21:51.302199",
     "exception": false,
     "start_time": "2023-10-30T14:21:51.038318",
     "status": "completed"
    },
    "tags": []
   },
   "outputs": [
    {
     "name": "stdout",
     "output_type": "stream",
     "text": [
      "20231030T152151 : amilcar22 : INFO : Inicio guardar métricas multiclase\n",
      "20231030T152151 : amilcar22 : INFO : Inicio leer fichero ../tfm_git/ejecuciones/metricas/metricas_6390.csv\n",
      "20231030T152151 : amilcar22 : INFO : Fin leer fichero ../tfm_git/ejecuciones/metricas/metricas_6390.csv\n"
     ]
    },
    {
     "name": "stdout",
     "output_type": "stream",
     "text": [
      "20231030T152151 : amilcar22 : INFO : Inicio guardar fichero ../tfm_git/ejecuciones/metricas/metricas_6390.csv\n",
      "20231030T152151 : amilcar22 : INFO : Fichero borrado ../tfm_git/ejecuciones/metricas/metricas_6390.csv\n",
      "20231030T152151 : amilcar22 : INFO : Fin guardar fichero ../tfm_git/ejecuciones/metricas/metricas_6390.csv\n",
      "20231030T152151 : amilcar22 : INFO : Fin guardar métricas multiclase\n",
      "20231030T152151 : amilcar22 : INFO : Inicio leer fichero ../tfm_git/ejecuciones/metricas/metricas_6390.csv\n",
      "20231030T152151 : amilcar22 : INFO : Fin leer fichero ../tfm_git/ejecuciones/metricas/metricas_6390.csv\n"
     ]
    },
    {
     "data": {
      "text/html": [
       "<div>\n",
       "<style scoped>\n",
       "    .dataframe tbody tr th:only-of-type {\n",
       "        vertical-align: middle;\n",
       "    }\n",
       "\n",
       "    .dataframe tbody tr th {\n",
       "        vertical-align: top;\n",
       "    }\n",
       "\n",
       "    .dataframe thead th {\n",
       "        text-align: right;\n",
       "    }\n",
       "</style>\n",
       "<table border=\"1\" class=\"dataframe\">\n",
       "  <thead>\n",
       "    <tr style=\"text-align: right;\">\n",
       "      <th></th>\n",
       "      <th>tipo</th>\n",
       "      <th>select</th>\n",
       "      <th>clasific</th>\n",
       "      <th>semilla</th>\n",
       "      <th>accuracy</th>\n",
       "      <th>precision</th>\n",
       "      <th>recall</th>\n",
       "      <th>f1_score</th>\n",
       "      <th>roc_auc</th>\n",
       "      <th>hostname</th>\n",
       "      <th>total_time_sec</th>\n",
       "      <th>datetime</th>\n",
       "      <th>fichero_modelo</th>\n",
       "      <th>params</th>\n",
       "      <th>shape</th>\n",
       "      <th>features</th>\n",
       "      <th>roc_auc_ovr</th>\n",
       "      <th>indices_auc</th>\n",
       "      <th>indices_jaccard</th>\n",
       "    </tr>\n",
       "  </thead>\n",
       "  <tbody>\n",
       "    <tr>\n",
       "      <th>0</th>\n",
       "      <td>mul_m</td>\n",
       "      <td>ANOVA</td>\n",
       "      <td>RF</td>\n",
       "      <td>6390</td>\n",
       "      <td>0.436782</td>\n",
       "      <td>0.378258</td>\n",
       "      <td>0.461505</td>\n",
       "      <td>0.401317</td>\n",
       "      <td>NaN</td>\n",
       "      <td>amilcar22</td>\n",
       "      <td>20</td>\n",
       "      <td>2023-10-30 15:21:51.274445</td>\n",
       "      <td>modelo_6390_mul_m_ANOVA_RF.pkl</td>\n",
       "      <td>{'selector__k': 1000, 'clasifier__n_estimators...</td>\n",
       "      <td>X_test:(87, 18875)</td>\n",
       "      <td>['ENSG00000000938.13', 'ENSG00000002919.15', '...</td>\n",
       "      <td>0.788467</td>\n",
       "      <td>[0.596830985915493, 0.8685185185185186, 0.6495...</td>\n",
       "      <td>[0.0, 0.45454545454545453, 0.125, 0.1764705882...</td>\n",
       "    </tr>\n",
       "    <tr>\n",
       "      <th>0</th>\n",
       "      <td>mul_m</td>\n",
       "      <td>ANOVA</td>\n",
       "      <td>LR_L2</td>\n",
       "      <td>6390</td>\n",
       "      <td>0.574713</td>\n",
       "      <td>0.575394</td>\n",
       "      <td>0.599781</td>\n",
       "      <td>0.570721</td>\n",
       "      <td>NaN</td>\n",
       "      <td>amilcar22</td>\n",
       "      <td>50</td>\n",
       "      <td>2023-10-30 15:21:24.290138</td>\n",
       "      <td>modelo_6390_mul_m_ANOVA_LR_L2.pkl</td>\n",
       "      <td>{'selector__k': 1000, 'clasifier__solver': 'lb...</td>\n",
       "      <td>X_test:(87, 18875)</td>\n",
       "      <td>['ENSG00000000938.13', 'ENSG00000002919.15', '...</td>\n",
       "      <td>0.871233</td>\n",
       "      <td>[0.7790492957746479, 0.8796296296296297, 0.785...</td>\n",
       "      <td>[0.3, 0.5, 0.21052631578947367, 0.333333333333...</td>\n",
       "    </tr>\n",
       "    <tr>\n",
       "      <th>0</th>\n",
       "      <td>mul_m</td>\n",
       "      <td>ANOVA</td>\n",
       "      <td>LR_L1</td>\n",
       "      <td>6390</td>\n",
       "      <td>0.609195</td>\n",
       "      <td>0.609265</td>\n",
       "      <td>0.637569</td>\n",
       "      <td>0.613586</td>\n",
       "      <td>NaN</td>\n",
       "      <td>amilcar22</td>\n",
       "      <td>1933</td>\n",
       "      <td>2023-10-30 15:20:27.402935</td>\n",
       "      <td>modelo_6390_mul_m_ANOVA_LR_L1.pkl</td>\n",
       "      <td>{'selector__k': 1000, 'clasifier__solver': 'sa...</td>\n",
       "      <td>X_test:(87, 18875)</td>\n",
       "      <td>['ENSG00000000938.13', 'ENSG00000002919.15', '...</td>\n",
       "      <td>0.865713</td>\n",
       "      <td>[0.7684859154929577, 0.8583333333333334, 0.785...</td>\n",
       "      <td>[0.3333333333333333, 0.47368421052631576, 0.27...</td>\n",
       "    </tr>\n",
       "  </tbody>\n",
       "</table>\n",
       "</div>"
      ],
      "text/plain": [
       "    tipo select clasific  semilla  accuracy  precision    recall  f1_score  \\\n",
       "0  mul_m  ANOVA       RF     6390  0.436782   0.378258  0.461505  0.401317   \n",
       "0  mul_m  ANOVA    LR_L2     6390  0.574713   0.575394  0.599781  0.570721   \n",
       "0  mul_m  ANOVA    LR_L1     6390  0.609195   0.609265  0.637569  0.613586   \n",
       "\n",
       "   roc_auc   hostname  total_time_sec                    datetime  \\\n",
       "0      NaN  amilcar22              20  2023-10-30 15:21:51.274445   \n",
       "0      NaN  amilcar22              50  2023-10-30 15:21:24.290138   \n",
       "0      NaN  amilcar22            1933  2023-10-30 15:20:27.402935   \n",
       "\n",
       "                      fichero_modelo  \\\n",
       "0     modelo_6390_mul_m_ANOVA_RF.pkl   \n",
       "0  modelo_6390_mul_m_ANOVA_LR_L2.pkl   \n",
       "0  modelo_6390_mul_m_ANOVA_LR_L1.pkl   \n",
       "\n",
       "                                              params               shape  \\\n",
       "0  {'selector__k': 1000, 'clasifier__n_estimators...  X_test:(87, 18875)   \n",
       "0  {'selector__k': 1000, 'clasifier__solver': 'lb...  X_test:(87, 18875)   \n",
       "0  {'selector__k': 1000, 'clasifier__solver': 'sa...  X_test:(87, 18875)   \n",
       "\n",
       "                                            features  roc_auc_ovr  \\\n",
       "0  ['ENSG00000000938.13', 'ENSG00000002919.15', '...     0.788467   \n",
       "0  ['ENSG00000000938.13', 'ENSG00000002919.15', '...     0.871233   \n",
       "0  ['ENSG00000000938.13', 'ENSG00000002919.15', '...     0.865713   \n",
       "\n",
       "                                         indices_auc  \\\n",
       "0  [0.596830985915493, 0.8685185185185186, 0.6495...   \n",
       "0  [0.7790492957746479, 0.8796296296296297, 0.785...   \n",
       "0  [0.7684859154929577, 0.8583333333333334, 0.785...   \n",
       "\n",
       "                                     indices_jaccard  \n",
       "0  [0.0, 0.45454545454545453, 0.125, 0.1764705882...  \n",
       "0  [0.3, 0.5, 0.21052631578947367, 0.333333333333...  \n",
       "0  [0.3333333333333333, 0.47368421052631576, 0.27...  "
      ]
     },
     "metadata": {},
     "output_type": "display_data"
    }
   ],
   "source": [
    "if M_TIPO.startswith(\"bin\"):\n",
    "    myfunc.save_metricas_to_csv(random_search, X_test, y_test, M_TIPO, M_SELECT, M_CLASIF, total_time, SEMILLA, myfunc.MET_DIR, M_FICHERO, fichero_modelo)\n",
    "else:\n",
    "    myfunc.save_metricas_multi_to_csv(random_search, X_test, y_test, M_TIPO, M_SELECT, M_CLASIF, total_time, SEMILLA, myfunc.MET_DIR, M_FICHERO, fichero_modelo)\n",
    "\n",
    "df1=myfunc.read_metricas_to_df(myfunc.MET_DIR,M_FICHERO)\n",
    "\n",
    "display(df1.sort_values(\"datetime\", ascending=False)[:3])\n"
   ]
  },
  {
   "cell_type": "markdown",
   "id": "308549a3",
   "metadata": {
    "papermill": {
     "duration": 0.004624,
     "end_time": "2023-10-30T14:21:51.312161",
     "exception": false,
     "start_time": "2023-10-30T14:21:51.307537",
     "status": "completed"
    },
    "tags": []
   },
   "source": [
    "#### Guardar resultados"
   ]
  },
  {
   "cell_type": "code",
   "execution_count": 13,
   "id": "15357825",
   "metadata": {
    "execution": {
     "iopub.execute_input": "2023-10-30T14:21:51.322124Z",
     "iopub.status.busy": "2023-10-30T14:21:51.321919Z",
     "iopub.status.idle": "2023-10-30T14:21:51.330543Z",
     "shell.execute_reply": "2023-10-30T14:21:51.330049Z"
    },
    "papermill": {
     "duration": 0.015014,
     "end_time": "2023-10-30T14:21:51.331790",
     "exception": false,
     "start_time": "2023-10-30T14:21:51.316776",
     "status": "completed"
    },
    "tags": []
   },
   "outputs": [
    {
     "name": "stdout",
     "output_type": "stream",
     "text": [
      "20231030T152151 : amilcar22 : INFO : Inicio guardar resultados\n",
      "20231030T152151 : amilcar22 : INFO : Inicio guardar fichero ../tfm_git/ejecuciones/metricas/resultados_6390_mul_m-ANOVA-RF.csv\n",
      "20231030T152151 : amilcar22 : INFO : Fin guardar fichero ../tfm_git/ejecuciones/metricas/resultados_6390_mul_m-ANOVA-RF.csv\n",
      "20231030T152151 : amilcar22 : INFO : Fin guardar resultados\n"
     ]
    }
   ],
   "source": [
    "fichero_resultados=R_FICHERO+\"_\"+M_TIPO+\"-\"+M_SELECT+\"-\"+M_CLASIF+\".csv\"\n",
    "myfunc.save_resultados_to_csv(M_TIPO, M_SELECT, M_CLASIF,  random_search, myfunc.MET_DIR, fichero_resultados)\n"
   ]
  }
 ],
 "metadata": {
  "kernelspec": {
   "display_name": "Python 3 (ipykernel)",
   "language": "python",
   "name": "python3"
  },
  "language_info": {
   "codemirror_mode": {
    "name": "ipython",
    "version": 3
   },
   "file_extension": ".py",
   "mimetype": "text/x-python",
   "name": "python",
   "nbconvert_exporter": "python",
   "pygments_lexer": "ipython3",
   "version": "3.10.12"
  },
  "papermill": {
   "default_parameters": {},
   "duration": 25.46628,
   "end_time": "2023-10-30T14:21:53.954342",
   "environment_variables": {},
   "exception": null,
   "input_path": "03_entrenamiento.ipynb",
   "output_path": "ejecuciones/training/03_entrenamiento.20231030T152128.param_0000_6390_mul_m_ANOVA_RF.output.ipynb",
   "parameters": {
    "MAX_ITERS": 500,
    "M_CLASIF": "RF",
    "M_FICHERO": "metricas_6390",
    "M_SELECT": "ANOVA",
    "M_TIPO": "mul_m",
    "PRE_DATA_FILE": "rows_transpose_norm_by_gene_id_with_target_num_",
    "P_FICHERO": "param_0000_6390_mul_m_ANOVA_RF.yaml",
    "R_FICHERO": "resultados_6390",
    "SCORING": "roc_auc_ovr",
    "SEMILLA": 6390,
    "eval_clasifier": "RandomForestClassifier(random_state=SEMILLA)",
    "eval_selector": "SelectKBest(score_func=f_classif)",
    "param_distributions": {
     "clasifier__bootstrap": [
      true
     ],
     "clasifier__max_depth": [
      10
     ],
     "clasifier__max_features": [
      200
     ],
     "clasifier__min_samples_leaf": [
      5
     ],
     "clasifier__min_samples_split": [
      10
     ],
     "clasifier__n_estimators": [
      400
     ],
     "selector__k": [
      1000
     ]
    }
   },
   "start_time": "2023-10-30T14:21:28.488062",
   "version": "2.4.0"
  }
 },
 "nbformat": 4,
 "nbformat_minor": 5
}