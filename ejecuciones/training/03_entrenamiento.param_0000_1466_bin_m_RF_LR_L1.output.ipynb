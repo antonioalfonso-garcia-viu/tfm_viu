{
 "cells": [
  {
   "cell_type": "markdown",
   "id": "096635e5",
   "metadata": {
    "papermill": {
     "duration": 0.004358,
     "end_time": "2023-10-29T22:01:31.960043",
     "exception": false,
     "start_time": "2023-10-29T22:01:31.955685",
     "status": "completed"
    },
    "tags": []
   },
   "source": [
    "##### Inicio"
   ]
  },
  {
   "cell_type": "markdown",
   "id": "54b34d46",
   "metadata": {
    "papermill": {
     "duration": 0.003515,
     "end_time": "2023-10-29T22:01:31.967381",
     "exception": false,
     "start_time": "2023-10-29T22:01:31.963866",
     "status": "completed"
    },
    "tags": []
   },
   "source": [
    "#### Carga de datos"
   ]
  },
  {
   "cell_type": "code",
   "execution_count": 1,
   "id": "0b8243df",
   "metadata": {
    "execution": {
     "iopub.execute_input": "2023-10-29T22:01:31.975786Z",
     "iopub.status.busy": "2023-10-29T22:01:31.975552Z",
     "iopub.status.idle": "2023-10-29T22:01:32.844416Z",
     "shell.execute_reply": "2023-10-29T22:01:32.843859Z"
    },
    "papermill": {
     "duration": 0.874744,
     "end_time": "2023-10-29T22:01:32.845739",
     "exception": false,
     "start_time": "2023-10-29T22:01:31.970995",
     "status": "completed"
    },
    "tags": []
   },
   "outputs": [
    {
     "name": "stdout",
     "output_type": "stream",
     "text": [
      "CPU_COUNT: 8; NODE: amilcar22; sys.version: 3.10.12 (main, Jul  5 2023, 19:22:19) [GCC 11.2.0]\n",
      "LOKY_MAX_CPU_COUNT: 6\n",
      "OMP_NUM_THREADS: 2\n"
     ]
    }
   ],
   "source": [
    "import os\n",
    "import numpy as np\n",
    "import pandas as pd\n",
    "import datetime\n",
    "import sklearn\n",
    "import logging\n",
    "import warnings\n",
    "\n",
    "from sklearn.pipeline import Pipeline\n",
    "from sklearn.model_selection import RandomizedSearchCV, KFold, cross_val_score, train_test_split\n",
    "from sklearn.metrics import accuracy_score, confusion_matrix, classification_report, roc_auc_score\n",
    "\n",
    "#  cargar algoritmos para aprendizaje supervisado\n",
    "from sklearn.feature_selection import SelectKBest, f_classif, SelectFromModel, mutual_info_classif\n",
    "from sklearn.svm import SVC\n",
    "from sklearn.ensemble import RandomForestClassifier\n",
    "from sklearn.linear_model import LogisticRegression,LogisticRegressionCV\n",
    "\n",
    "# importar fichero con utilidades propias\n",
    "from commons import myfunctions as myfunc\n"
   ]
  },
  {
   "cell_type": "markdown",
   "id": "cd7f9037",
   "metadata": {
    "papermill": {
     "duration": 0.002514,
     "end_time": "2023-10-29T22:01:32.851243",
     "exception": false,
     "start_time": "2023-10-29T22:01:32.848729",
     "status": "completed"
    },
    "tags": []
   },
   "source": [
    "#### Parámetros a utilizar en el entrenamiento.\n",
    "\n",
    "Se indican los 3 algoritmos de *selección de características* (eval_selector_xxx) y los 3 algoritmos para la _clasificación_ (eval_clasifier_xxx)\n",
    "\n",
    "En *param_distributions* se indicar los parámetros que utilizan los algoritmos en la función RandomSearchCV.\n",
    "\n",
    "Esta celda tiene la etiqueta **parameters** que servirá para poder lanzar los entrenamientos con la utilidad **papermill** pasándole un fichero con los parámetros. Los nuevos parámetros se situarán tras esta celda para tener prevalencia."
   ]
  },
  {
   "cell_type": "code",
   "execution_count": 2,
   "id": "b4438508",
   "metadata": {
    "execution": {
     "iopub.execute_input": "2023-10-29T22:01:32.857229Z",
     "iopub.status.busy": "2023-10-29T22:01:32.856966Z",
     "iopub.status.idle": "2023-10-29T22:01:32.863829Z",
     "shell.execute_reply": "2023-10-29T22:01:32.863357Z"
    },
    "papermill": {
     "duration": 0.011216,
     "end_time": "2023-10-29T22:01:32.864959",
     "exception": false,
     "start_time": "2023-10-29T22:01:32.853743",
     "status": "completed"
    },
    "tags": [
     "parameters"
    ]
   },
   "outputs": [
    {
     "name": "stdout",
     "output_type": "stream",
     "text": [
      "20231029T230132 : amilcar22 : INFO : Utilizando parámetros de mul_m\n"
     ]
    }
   ],
   "source": [
    "#  Parametros para el entrenamiento\n",
    "\n",
    "SEMILLA=        42\n",
    "M_TIPO=         \"mul_m\"\n",
    "M_SELECT=       \"MI\"\n",
    "M_CLASIF=       \"SVM\"\n",
    "R_FICHERO=      \"resultados\"\n",
    "M_FICHERO=      \"metricas\"\n",
    "PRE_DATA_FILE=  \"rows_transpose_norm_by_gene_id_with_target_num_\"\n",
    "SCORING=        \"roc_auc_ovr\" \n",
    "MAX_ITERS=      100\n",
    "\n",
    "def mutual_info_classif_state(X, y):\n",
    "    return mutual_info_classif(X, y, random_state=SEMILLA)\n",
    "\n",
    "eval_selector_mi = \"SelectKBest(score_func=mutual_info_classif_state)\"\n",
    "eval_selector_rf=  \"SelectFromModel(estimator=RandomForestClassifier(random_state=SEMILLA), threshold=-np.inf)\"\n",
    "eval_selector_anova=  \"SelectKBest(score_func=f_classif)\"\n",
    "\n",
    "eval_clasifier_svm= \"SVC(probability=True, random_state=SEMILLA)\"\n",
    "eval_clasifier_rf= \"RandomForestClassifier(random_state=SEMILLA)\"\n",
    "eval_clasifier_lr= \"LogisticRegressionCV(random_state=SEMILLA)\"\n",
    "\n",
    "if M_TIPO.startswith(\"bin_m\"):\n",
    "    myfunc.verbose(f\"Utilizando parámetros de {M_TIPO}\")\n",
    "    eval_selector = eval_selector_mi\n",
    "    eval_clasifier = eval_clasifier_svm\n",
    "\n",
    "    SEMILLA = 6578\n",
    "    M_SELECT = \"MI\"\n",
    "    M_CLASIF = \"SVM\"\n",
    "    param_distributions = {'selector__k': [1000], \n",
    "         'clasifier__kernel': ['rbf'], 'clasifier__gamma': [0.01], 'clasifier__C': [100]}\n",
    "elif M_TIPO.startswith(\"bin_s\"):\n",
    "    myfunc.verbose(f\"Utilizando parámetros de {M_TIPO}\")\n",
    "    eval_selector = eval_selector_rf\n",
    "    eval_clasifier = eval_clasifier_lr\n",
    "\n",
    "    SEMILLA = 6191\n",
    "    M_SELECT = \"RF\"\n",
    "    M_CLASIF = \"LR_L2\"\n",
    "    param_distributions = {'selector__max_features': [1000], 'selector__estimator__n_estimators': [200], \n",
    "        'clasifier__solver': ['lbfgs'], 'clasifier__penalty': ['l2'], 'clasifier__max_iter': [10000]}\n",
    "\n",
    "elif M_TIPO.startswith(\"mul_m\"):\n",
    "    myfunc.verbose(f\"Utilizando parámetros de {M_TIPO}\")\n",
    " \n",
    "    eval_selector = eval_selector_rf\n",
    "    eval_clasifier = eval_clasifier_lr\n",
    "\n",
    "    SEMILLA = 6191\n",
    "    M_SELECT = \"RF\"\n",
    "    M_CLASIF = \"LR_L2\"\n",
    "    param_distributions = {'selector__max_features': [1000], 'selector__estimator__n_estimators': [400], \n",
    "        'clasifier__solver': ['lbfgs'], 'clasifier__penalty': ['l2'], 'clasifier__max_iter': [10000]}\n",
    "\n",
    "else:\n",
    "    # M_TIPO.startswith(\"mul_s\"):\n",
    "    myfunc.verbose(f\"Utilizando parámetros de {M_TIPO}\")\n",
    "    eval_selector = eval_selector_anova\n",
    "    eval_clasifier = eval_clasifier_lr\n",
    "\n",
    "    SEMILLA = 1860\n",
    "    M_SELECT = \"ANOVA\"\n",
    "    M_CLASIF = \"LR_L2\"\n",
    "    param_distributions = {'selector__k': [1000], \n",
    "        'clasifier__solver': ['saga'], 'clasifier__penalty': ['l2'], 'clasifier__max_iter': [10000]}\n",
    "\n"
   ]
  },
  {
   "cell_type": "code",
   "execution_count": 3,
   "id": "f0bfd1a9",
   "metadata": {
    "execution": {
     "iopub.execute_input": "2023-10-29T22:01:32.871109Z",
     "iopub.status.busy": "2023-10-29T22:01:32.870904Z",
     "iopub.status.idle": "2023-10-29T22:01:32.874460Z",
     "shell.execute_reply": "2023-10-29T22:01:32.873967Z"
    },
    "papermill": {
     "duration": 0.00786,
     "end_time": "2023-10-29T22:01:32.875649",
     "exception": false,
     "start_time": "2023-10-29T22:01:32.867789",
     "status": "completed"
    },
    "tags": [
     "injected-parameters"
    ]
   },
   "outputs": [],
   "source": [
    "# Parameters\n",
    "M_TIPO = \"bin_m\"\n",
    "M_SELECT = \"RF\"\n",
    "M_CLASIF = \"LR_L1\"\n",
    "P_FICHERO = \"param_0000_1466_bin_m_RF_LR_L1.yaml\"\n",
    "R_FICHERO = \"resultados_1466\"\n",
    "M_FICHERO = \"metricas_1466\"\n",
    "PRE_DATA_FILE = \"rows_transpose_norm_by_gene_id_with_target_num_\"\n",
    "SCORING = \"roc_auc_ovr\"\n",
    "SEMILLA = 1466\n",
    "MAX_ITERS = 500\n",
    "eval_selector = \"SelectFromModel(estimator=RandomForestClassifier(random_state=SEMILLA), threshold=-np.inf)\"\n",
    "eval_clasifier = \"LogisticRegressionCV(random_state=SEMILLA)\"\n",
    "param_distributions = {\n",
    "    \"selector__max_features\": [500],\n",
    "    \"selector__estimator__n_estimators\": [100],\n",
    "    \"clasifier__solver\": [\"saga\"],\n",
    "    \"clasifier__penalty\": [\"l1\"],\n",
    "    \"clasifier__max_iter\": [10000],\n",
    "}\n"
   ]
  },
  {
   "cell_type": "code",
   "execution_count": 4,
   "id": "f6cc0e78",
   "metadata": {
    "execution": {
     "iopub.execute_input": "2023-10-29T22:01:32.882198Z",
     "iopub.status.busy": "2023-10-29T22:01:32.882019Z",
     "iopub.status.idle": "2023-10-29T22:01:32.885156Z",
     "shell.execute_reply": "2023-10-29T22:01:32.884654Z"
    },
    "papermill": {
     "duration": 0.007793,
     "end_time": "2023-10-29T22:01:32.886400",
     "exception": false,
     "start_time": "2023-10-29T22:01:32.878607",
     "status": "completed"
    },
    "tags": []
   },
   "outputs": [],
   "source": [
    "DATA_FILE = PRE_DATA_FILE + M_TIPO\n",
    "\n",
    "# si viene \"None\" en el parámetro max_depth, se le quitan las comillas para que no sea entendido por el algoritmo como un texto\n",
    "if \"clasifier__max_depth\" in param_distributions:\n",
    "    param_distributions['clasifier__max_depth'] = [None if x == 'None' else x for x in param_distributions['clasifier__max_depth']]"
   ]
  },
  {
   "cell_type": "markdown",
   "id": "c4e5297d",
   "metadata": {
    "papermill": {
     "duration": 0.002736,
     "end_time": "2023-10-29T22:01:32.892014",
     "exception": false,
     "start_time": "2023-10-29T22:01:32.889278",
     "status": "completed"
    },
    "tags": []
   },
   "source": [
    "Asignar los algoritmos que se utilizarán en la función RandomSearchCV"
   ]
  },
  {
   "cell_type": "code",
   "execution_count": 5,
   "id": "6c6dbb89",
   "metadata": {
    "execution": {
     "iopub.execute_input": "2023-10-29T22:01:32.898304Z",
     "iopub.status.busy": "2023-10-29T22:01:32.898144Z",
     "iopub.status.idle": "2023-10-29T22:01:32.900905Z",
     "shell.execute_reply": "2023-10-29T22:01:32.900406Z"
    },
    "papermill": {
     "duration": 0.007305,
     "end_time": "2023-10-29T22:01:32.902173",
     "exception": false,
     "start_time": "2023-10-29T22:01:32.894868",
     "status": "completed"
    },
    "tags": []
   },
   "outputs": [],
   "source": [
    "algor_selector=eval(eval_selector)\n",
    "algor_clasifier=eval(eval_clasifier)"
   ]
  },
  {
   "cell_type": "markdown",
   "id": "f0527d22",
   "metadata": {
    "papermill": {
     "duration": 0.003457,
     "end_time": "2023-10-29T22:01:32.908958",
     "exception": false,
     "start_time": "2023-10-29T22:01:32.905501",
     "status": "completed"
    },
    "tags": []
   },
   "source": [
    "#### Comprobar el entorno y leer fichero de muestras"
   ]
  },
  {
   "cell_type": "code",
   "execution_count": 6,
   "id": "d1f9663e",
   "metadata": {
    "execution": {
     "iopub.execute_input": "2023-10-29T22:01:32.916335Z",
     "iopub.status.busy": "2023-10-29T22:01:32.916155Z",
     "iopub.status.idle": "2023-10-29T22:01:33.133298Z",
     "shell.execute_reply": "2023-10-29T22:01:33.132696Z"
    },
    "papermill": {
     "duration": 0.222358,
     "end_time": "2023-10-29T22:01:33.134648",
     "exception": false,
     "start_time": "2023-10-29T22:01:32.912290",
     "status": "completed"
    },
    "tags": []
   },
   "outputs": [
    {
     "name": "stdout",
     "output_type": "stream",
     "text": [
      "20231029T230132 : amilcar22 : INFO : Encontrada carpeta DATA_DIR=../tfm_git/datos\n",
      "20231029T230132 : amilcar22 : INFO : Encontrada carpeta CFDNA_DIR=../tfm_git/datos/cfDNA_5hmC\n",
      "20231029T230132 : amilcar22 : INFO : Encontrada carpeta GENCODE_DIR=../tfm_git/datos/gencode\n",
      "20231029T230132 : amilcar22 : INFO : Encontrada carpeta H5_DIR=../tfm_git/datos/h5\n",
      "20231029T230132 : amilcar22 : INFO : Encontrada carpeta LOG_DIR=../tfm_git/datos/logs\n",
      "20231029T230132 : amilcar22 : INFO : Encontrada carpeta CSV_DIR=../tfm_git/datos/csv\n",
      "20231029T230132 : amilcar22 : INFO : Encontrada carpeta MODEL_DIR=../tfm_git/ejecuciones/modelos\n",
      "20231029T230132 : amilcar22 : INFO : Encontrada carpeta EXEC_DIR=../tfm_git/ejecuciones\n",
      "20231029T230132 : amilcar22 : INFO : Encontrada carpeta MET_DIR=../tfm_git/ejecuciones/metricas\n",
      "20231029T230132 : amilcar22 : INFO : Inicio leer fichero h5 ../tfm_git/datos/h5/rows_transpose_norm_by_gene_id_with_target_num_bin_m.h5\n",
      "20231029T230132 : amilcar22 : INFO : Leyendo clave /df\n"
     ]
    },
    {
     "name": "stdout",
     "output_type": "stream",
     "text": [
      "20231029T230133 : amilcar22 : INFO : Tamaño (720, 18876)\n",
      "20231029T230133 : amilcar22 : INFO : Fin leer fichero h5 ../tfm_git/datos/h5/rows_transpose_norm_by_gene_id_with_target_num_bin_m.h5\n"
     ]
    },
    {
     "data": {
      "text/plain": [
       "target\n",
       "0    360\n",
       "1    360\n",
       "dtype: int64"
      ]
     },
     "metadata": {},
     "output_type": "display_data"
    },
    {
     "name": "stdout",
     "output_type": "stream",
     "text": [
      "Shape df: (720, 18876)\n"
     ]
    },
    {
     "name": "stdout",
     "output_type": "stream",
     "text": [
      "Shape X_train: (576, 18875)\n",
      "Shape X_test: (144, 18875)\n"
     ]
    }
   ],
   "source": [
    "start_time = datetime.datetime.now()\n",
    "\n",
    "myfunc.reset_vars()\n",
    "\n",
    "myfunc.NOTEBK_FILENAME = myfunc.get_nb_name()\n",
    "\n",
    "myfunc.check_enviroment(myfunc.DATA_DIR, myfunc.CFDNA_DIR, myfunc.GENCODE_DIR, myfunc.H5_DIR, myfunc.LOG_DIR, myfunc.CSV_DIR, myfunc.MODEL_DIR, myfunc.EXEC_DIR, myfunc.MET_DIR)\n",
    "\n",
    "# Leer fichero con las muestras\n",
    "df_t = myfunc.read_h5_to_df(DATA_FILE, myfunc.H5_DIR)\n",
    "display(df_t.groupby(\"target\").size())\n",
    "print(\"Shape df:\",df_t.shape)\n",
    "\n",
    "# Separar caracteristicas/genes de las etiquetas/tipos de cáncer\n",
    "X = df_t.iloc[:, :-1]  # Todas las columnas excepto la última\n",
    "y = df_t.iloc[:, -1]  # La última columna contiene los identificadores de los tipos de cáncer\n",
    "\n",
    "#  Crear el conjunto de datos de entrenamiento y de pruebas, y se fija la semilla para siempre coger el mismo juego de muestras\n",
    "X_train, X_test, y_train, y_test = train_test_split(X, y, test_size=0.2, shuffle=True, random_state=42)\n",
    "print(\"Shape X_train:\",X_train.shape)\n",
    "print(\"Shape X_test:\",X_test.shape)\n"
   ]
  },
  {
   "cell_type": "markdown",
   "id": "300e9ef1",
   "metadata": {
    "papermill": {
     "duration": 0.003013,
     "end_time": "2023-10-29T22:01:33.141263",
     "exception": false,
     "start_time": "2023-10-29T22:01:33.138250",
     "status": "completed"
    },
    "tags": []
   },
   "source": [
    "#### Selección de características y clasificación."
   ]
  },
  {
   "cell_type": "code",
   "execution_count": 7,
   "id": "71f46da3",
   "metadata": {
    "execution": {
     "iopub.execute_input": "2023-10-29T22:01:33.147966Z",
     "iopub.status.busy": "2023-10-29T22:01:33.147779Z",
     "iopub.status.idle": "2023-10-29T22:07:52.925996Z",
     "shell.execute_reply": "2023-10-29T22:07:52.925225Z"
    },
    "papermill": {
     "duration": 379.785743,
     "end_time": "2023-10-29T22:07:52.930003",
     "exception": false,
     "start_time": "2023-10-29T22:01:33.144260",
     "status": "completed"
    },
    "tags": []
   },
   "outputs": [
    {
     "name": "stdout",
     "output_type": "stream",
     "text": [
      "20231029T230133 : amilcar22 : INFO : Iniciando entrenamiento\n",
      "num_iter: 1 , max_iter: 1\n",
      "Fitting 5 folds for each of 1 candidates, totalling 5 fits\n"
     ]
    },
    {
     "name": "stdout",
     "output_type": "stream",
     "text": [
      "Mejores Hiperparámetros: {'selector__max_features': 500, 'selector__estimator__n_estimators': 100, 'clasifier__solver': 'saga', 'clasifier__penalty': 'l1', 'clasifier__max_iter': 10000}\n",
      "Mejor Puntuación: 0.8468\n",
      "20231029T230752 : amilcar22 : INFO : Fin entrenamiento\n"
     ]
    }
   ],
   "source": [
    "myfunc.verbose(\"Iniciando entrenamiento\")\n",
    "\n",
    "kf = KFold(n_splits=5, shuffle=True, random_state=SEMILLA)\n",
    "\n",
    "# Crear el pipeline para el flujo de tareas\n",
    "tasks_pipeline = Pipeline([\n",
    "    ('selector', algor_selector),\n",
    "    ('clasifier', algor_clasifier)\n",
    "])\n",
    "\n",
    "# MAX_ITERS puede limitar el número de iteraciones si son excesivas para las combinaciones de parámetros buscando un óptimo local, \n",
    "# sino funcionaría como GridSearchCV al revisar todas las cominaciones de los parámetros\n",
    "num_iteraciones = 1\n",
    "num_iteraciones = num_iteraciones * np.prod([len(elemento1) for _, elemento1 in param_distributions.items()])\n",
    "max_iteraciones = num_iteraciones if num_iteraciones <= MAX_ITERS else MAX_ITERS\n",
    "print(\"num_iter:\",num_iteraciones,\", max_iter:\",max_iteraciones)\n",
    "\n",
    "random_search = RandomizedSearchCV(\n",
    "    tasks_pipeline, \n",
    "    param_distributions, \n",
    "    n_iter=max_iteraciones,\n",
    "    scoring=SCORING,\n",
    "    cv=kf,\n",
    "    verbose=3, \n",
    "    random_state=SEMILLA, \n",
    "    n_jobs=-1\n",
    "    )\n",
    "\n",
    "# Entrenar el modelo\n",
    "random_search.fit(X_train, y_train)\n",
    "\n",
    "# Ver los mejores hiperparámetros encontrados\n",
    "print(f'Mejores Hiperparámetros: {random_search.best_params_}')\n",
    "print(f'Mejor Puntuación: {random_search.best_score_:.4f}')\n",
    "\n",
    "# Nos quedamos con el mejor modelo para ver las métricas\n",
    "mejor_modelo = random_search.best_estimator_\n",
    "\n",
    "myfunc.verbose(\"Fin entrenamiento\")"
   ]
  },
  {
   "cell_type": "markdown",
   "id": "eb91c7de",
   "metadata": {
    "papermill": {
     "duration": 0.002866,
     "end_time": "2023-10-29T22:07:52.935940",
     "exception": false,
     "start_time": "2023-10-29T22:07:52.933074",
     "status": "completed"
    },
    "tags": []
   },
   "source": [
    "#### Guardar modelo"
   ]
  },
  {
   "cell_type": "code",
   "execution_count": 8,
   "id": "f516cc2d",
   "metadata": {
    "execution": {
     "iopub.execute_input": "2023-10-29T22:07:52.942709Z",
     "iopub.status.busy": "2023-10-29T22:07:52.942513Z",
     "iopub.status.idle": "2023-10-29T22:07:52.982608Z",
     "shell.execute_reply": "2023-10-29T22:07:52.981924Z"
    },
    "papermill": {
     "duration": 0.045159,
     "end_time": "2023-10-29T22:07:52.983963",
     "exception": false,
     "start_time": "2023-10-29T22:07:52.938804",
     "status": "completed"
    },
    "tags": []
   },
   "outputs": [
    {
     "name": "stdout",
     "output_type": "stream",
     "text": [
      "20231029T230752 : amilcar22 : INFO : Inicio guardar fichero ../tfm_git/ejecuciones/modelos/modelo_1466_bin_m_RF_LR_L1.pkl\n",
      "20231029T230752 : amilcar22 : INFO : Fin guardar fichero ../tfm_git/ejecuciones/modelos/modelo_1466_bin_m_RF_LR_L1.pkl\n"
     ]
    }
   ],
   "source": [
    "fichero_modelo = str.replace(\"modelo_\"+str(SEMILLA).zfill(4)+\"_\"+M_TIPO+\"_\"+M_SELECT+\"_\"+M_CLASIF+\".pkl\", \" \", \"_\")\n",
    "\n",
    "myfunc.save_modelo(mejor_modelo, myfunc.MODEL_DIR, fichero_modelo)"
   ]
  },
  {
   "cell_type": "markdown",
   "id": "7a949b1f",
   "metadata": {
    "papermill": {
     "duration": 0.002985,
     "end_time": "2023-10-29T22:07:52.990201",
     "exception": false,
     "start_time": "2023-10-29T22:07:52.987216",
     "status": "completed"
    },
    "tags": []
   },
   "source": [
    "#### Ver resultados del las iteraciones hechas por RandomSearchCV"
   ]
  },
  {
   "cell_type": "code",
   "execution_count": 9,
   "id": "79a0325c",
   "metadata": {
    "execution": {
     "iopub.execute_input": "2023-10-29T22:07:52.997029Z",
     "iopub.status.busy": "2023-10-29T22:07:52.996829Z",
     "iopub.status.idle": "2023-10-29T22:07:53.002589Z",
     "shell.execute_reply": "2023-10-29T22:07:53.002016Z"
    },
    "papermill": {
     "duration": 0.010563,
     "end_time": "2023-10-29T22:07:53.003759",
     "exception": false,
     "start_time": "2023-10-29T22:07:52.993196",
     "status": "completed"
    },
    "tags": []
   },
   "outputs": [
    {
     "name": "stdout",
     "output_type": "stream",
     "text": [
      "20231029T230752 : amilcar22 : INFO : Inicio ver resultados\n",
      "Mejores Hiperparámetros: {'selector__max_features': 500, 'selector__estimator__n_estimators': 100, 'clasifier__solver': 'saga', 'clasifier__penalty': 'l1', 'clasifier__max_iter': 10000}\n",
      "Mejores puntuaciones: 0.8468 | Params: {'selector__max_features': 500, 'selector__estimator__n_estimators': 100, 'clasifier__solver': 'saga', 'clasifier__penalty': 'l1', 'clasifier__max_iter': 10000}\n",
      "Media de las puntuaciones: 0.8468 | Params: {'selector__max_features': 500, 'selector__estimator__n_estimators': 100, 'clasifier__solver': 'saga', 'clasifier__penalty': 'l1', 'clasifier__max_iter': 10000}\n",
      "20231029T230753 : amilcar22 : INFO : Fin resultados\n"
     ]
    }
   ],
   "source": [
    "myfunc.ver_resultados_search(random_search)"
   ]
  },
  {
   "cell_type": "markdown",
   "id": "27df11b7",
   "metadata": {
    "papermill": {
     "duration": 0.003032,
     "end_time": "2023-10-29T22:07:53.009958",
     "exception": false,
     "start_time": "2023-10-29T22:07:53.006926",
     "status": "completed"
    },
    "tags": []
   },
   "source": [
    "#### Ver métricas del mejor modelo"
   ]
  },
  {
   "cell_type": "code",
   "execution_count": 10,
   "id": "e704996a",
   "metadata": {
    "execution": {
     "iopub.execute_input": "2023-10-29T22:07:53.016851Z",
     "iopub.status.busy": "2023-10-29T22:07:53.016655Z",
     "iopub.status.idle": "2023-10-29T22:07:53.479625Z",
     "shell.execute_reply": "2023-10-29T22:07:53.478961Z"
    },
    "papermill": {
     "duration": 0.46795,
     "end_time": "2023-10-29T22:07:53.480933",
     "exception": false,
     "start_time": "2023-10-29T22:07:53.012983",
     "status": "completed"
    },
    "tags": []
   },
   "outputs": [
    {
     "name": "stdout",
     "output_type": "stream",
     "text": [
      "20231029T230753 : amilcar22 : INFO : Inicio ver métricas\n"
     ]
    },
    {
     "name": "stdout",
     "output_type": "stream",
     "text": [
      "              precision    recall  f1-score   support\n",
      "\n",
      "           0       0.88      0.85      0.86        82\n",
      "           1       0.81      0.84      0.83        62\n",
      "\n",
      "    accuracy                           0.85       144\n",
      "   macro avg       0.84      0.85      0.84       144\n",
      "weighted avg       0.85      0.85      0.85       144\n",
      "\n",
      "\n",
      "\n",
      "   Exactitud: 0.8472\n",
      "   Precisión: 0.8438\n",
      "Sensibilidad: 0.8462\n",
      "    F1-score: 0.8448\n",
      "     AUC ROC: 0.9131\n"
     ]
    },
    {
     "data": {
      "image/png": "[encoded data removed]",
      "text/plain": [
       "<Figure size 300x100 with 2 Axes>"
      ]
     },
     "metadata": {},
     "output_type": "display_data"
    },
    {
     "data": {
      "image/png": "[encoded data removed]",
      "text/plain": [
       "<Figure size 800x500 with 1 Axes>"
      ]
     },
     "metadata": {},
     "output_type": "display_data"
    },
    {
     "name": "stdout",
     "output_type": "stream",
     "text": [
      "20231029T230753 : amilcar22 : INFO : Fin ver métricas\n"
     ]
    }
   ],
   "source": [
    "if M_TIPO.startswith(\"bin\"):\n",
    "    myfunc.ver_metricas(mejor_modelo, X_test, y_test)\n",
    "else:\n",
    "    myfunc.ver_metricas_multi(mejor_modelo, X_test, y_test)\n"
   ]
  },
  {
   "cell_type": "markdown",
   "id": "c8c59dae",
   "metadata": {
    "papermill": {
     "duration": 0.003511,
     "end_time": "2023-10-29T22:07:53.488409",
     "exception": false,
     "start_time": "2023-10-29T22:07:53.484898",
     "status": "completed"
    },
    "tags": []
   },
   "source": [
    "#### Finalización del notebook"
   ]
  },
  {
   "cell_type": "code",
   "execution_count": 11,
   "id": "900a0709",
   "metadata": {
    "execution": {
     "iopub.execute_input": "2023-10-29T22:07:53.496450Z",
     "iopub.status.busy": "2023-10-29T22:07:53.496261Z",
     "iopub.status.idle": "2023-10-29T22:07:53.499640Z",
     "shell.execute_reply": "2023-10-29T22:07:53.499133Z"
    },
    "papermill": {
     "duration": 0.008789,
     "end_time": "2023-10-29T22:07:53.500745",
     "exception": false,
     "start_time": "2023-10-29T22:07:53.491956",
     "status": "completed"
    },
    "tags": []
   },
   "outputs": [
    {
     "name": "stdout",
     "output_type": "stream",
     "text": [
      "20231029T230753 : amilcar22 : INFO : Notebook ha tardado 380 seconds\n"
     ]
    }
   ],
   "source": [
    "end_time = datetime.datetime.now()\n",
    "total_time = end_time - start_time\n",
    "myfunc.verbose(f\"Notebook ha tardado {total_time.seconds} seconds\")"
   ]
  },
  {
   "cell_type": "markdown",
   "id": "23a34fc9",
   "metadata": {
    "papermill": {
     "duration": 0.003609,
     "end_time": "2023-10-29T22:07:53.508027",
     "exception": false,
     "start_time": "2023-10-29T22:07:53.504418",
     "status": "completed"
    },
    "tags": []
   },
   "source": [
    "#### Guardar métricas"
   ]
  },
  {
   "cell_type": "code",
   "execution_count": 12,
   "id": "a00aee59",
   "metadata": {
    "execution": {
     "iopub.execute_input": "2023-10-29T22:07:53.516180Z",
     "iopub.status.busy": "2023-10-29T22:07:53.515997Z",
     "iopub.status.idle": "2023-10-29T22:07:53.776948Z",
     "shell.execute_reply": "2023-10-29T22:07:53.776340Z"
    },
    "papermill": {
     "duration": 0.26648,
     "end_time": "2023-10-29T22:07:53.778177",
     "exception": false,
     "start_time": "2023-10-29T22:07:53.511697",
     "status": "completed"
    },
    "tags": []
   },
   "outputs": [
    {
     "name": "stdout",
     "output_type": "stream",
     "text": [
      "20231029T230753 : amilcar22 : INFO : Inicio guardar métricas\n",
      "20231029T230753 : amilcar22 : INFO : Inicio leer fichero ../tfm_git/ejecuciones/metricas/metricas_1466.csv\n",
      "20231029T230753 : amilcar22 : INFO : Fin leer fichero ../tfm_git/ejecuciones/metricas/metricas_1466.csv\n"
     ]
    },
    {
     "name": "stdout",
     "output_type": "stream",
     "text": [
      "20231029T230753"
     ]
    },
    {
     "name": "stdout",
     "output_type": "stream",
     "text": [
      " : amilcar22 : INFO : Inicio guardar fichero ../tfm_git/ejecuciones/metricas/metricas_1466.csv\n",
      "20231029T230753 : amilcar22 : INFO : Fichero borrado ../tfm_git/ejecuciones/metricas/metricas_1466.csv\n",
      "20231029T230753 : amilcar22 : INFO : Fin guardar fichero ../tfm_git/ejecuciones/metricas/metricas_1466.csv\n",
      "20231029T230753 : amilcar22 : INFO : Fin guardar métricas\n",
      "20231029T230753 : amilcar22 : INFO : Inicio leer fichero ../tfm_git/ejecuciones/metricas/metricas_1466.csv\n",
      "20231029T230753 : amilcar22 : INFO : Fin leer fichero ../tfm_git/ejecuciones/metricas/metricas_1466.csv\n"
     ]
    },
    {
     "data": {
      "text/html": [
       "<div>\n",
       "<style scoped>\n",
       "    .dataframe tbody tr th:only-of-type {\n",
       "        vertical-align: middle;\n",
       "    }\n",
       "\n",
       "    .dataframe tbody tr th {\n",
       "        vertical-align: top;\n",
       "    }\n",
       "\n",
       "    .dataframe thead th {\n",
       "        text-align: right;\n",
       "    }\n",
       "</style>\n",
       "<table border=\"1\" class=\"dataframe\">\n",
       "  <thead>\n",
       "    <tr style=\"text-align: right;\">\n",
       "      <th></th>\n",
       "      <th>tipo</th>\n",
       "      <th>select</th>\n",
       "      <th>clasific</th>\n",
       "      <th>semilla</th>\n",
       "      <th>accuracy</th>\n",
       "      <th>precision</th>\n",
       "      <th>recall</th>\n",
       "      <th>f1_score</th>\n",
       "      <th>roc_auc</th>\n",
       "      <th>hostname</th>\n",
       "      <th>total_time_sec</th>\n",
       "      <th>datetime</th>\n",
       "      <th>fichero_modelo</th>\n",
       "      <th>params</th>\n",
       "      <th>shape</th>\n",
       "      <th>features</th>\n",
       "    </tr>\n",
       "  </thead>\n",
       "  <tbody>\n",
       "    <tr>\n",
       "      <th>0</th>\n",
       "      <td>bin_m</td>\n",
       "      <td>RF</td>\n",
       "      <td>LR_L1</td>\n",
       "      <td>1466</td>\n",
       "      <td>0.847222</td>\n",
       "      <td>0.843750</td>\n",
       "      <td>0.846184</td>\n",
       "      <td>0.844797</td>\n",
       "      <td>0.913061</td>\n",
       "      <td>amilcar22</td>\n",
       "      <td>380</td>\n",
       "      <td>2023-10-29 23:07:53.756455</td>\n",
       "      <td>modelo_1466_bin_m_RF_LR_L1.pkl</td>\n",
       "      <td>{'selector__max_features': 500, 'selector__est...</td>\n",
       "      <td>X_test:(144, 18875)</td>\n",
       "      <td>['ENSG00000003137.9', 'ENSG00000003987.14', 'E...</td>\n",
       "    </tr>\n",
       "    <tr>\n",
       "      <th>0</th>\n",
       "      <td>bin_m</td>\n",
       "      <td>RF</td>\n",
       "      <td>LR_EN</td>\n",
       "      <td>1466</td>\n",
       "      <td>0.861111</td>\n",
       "      <td>0.857809</td>\n",
       "      <td>0.862313</td>\n",
       "      <td>0.859375</td>\n",
       "      <td>0.914634</td>\n",
       "      <td>amilcar22</td>\n",
       "      <td>337</td>\n",
       "      <td>2023-10-29 23:01:26.863198</td>\n",
       "      <td>modelo_1466_bin_m_RF_LR_EN.pkl</td>\n",
       "      <td>{'selector__max_features': 500, 'selector__est...</td>\n",
       "      <td>X_test:(144, 18875)</td>\n",
       "      <td>['ENSG00000003137.9', 'ENSG00000003987.14', 'E...</td>\n",
       "    </tr>\n",
       "    <tr>\n",
       "      <th>0</th>\n",
       "      <td>bin_m</td>\n",
       "      <td>MI</td>\n",
       "      <td>SVM</td>\n",
       "      <td>1466</td>\n",
       "      <td>0.840278</td>\n",
       "      <td>0.836709</td>\n",
       "      <td>0.840087</td>\n",
       "      <td>0.838020</td>\n",
       "      <td>0.942565</td>\n",
       "      <td>amilcar22</td>\n",
       "      <td>103</td>\n",
       "      <td>2023-10-29 22:55:43.419432</td>\n",
       "      <td>modelo_1466_bin_m_MI_SVM.pkl</td>\n",
       "      <td>{'selector__k': 1000, 'clasifier__kernel': 'rb...</td>\n",
       "      <td>X_test:(144, 18875)</td>\n",
       "      <td>['ENSG00000002330.14', 'ENSG00000002933.9', 'E...</td>\n",
       "    </tr>\n",
       "  </tbody>\n",
       "</table>\n",
       "</div>"
      ],
      "text/plain": [
       "    tipo select clasific  semilla  accuracy  precision    recall  f1_score  \\\n",
       "0  bin_m     RF    LR_L1     1466  0.847222   0.843750  0.846184  0.844797   \n",
       "0  bin_m     RF    LR_EN     1466  0.861111   0.857809  0.862313  0.859375   \n",
       "0  bin_m     MI      SVM     1466  0.840278   0.836709  0.840087  0.838020   \n",
       "\n",
       "    roc_auc   hostname  total_time_sec                    datetime  \\\n",
       "0  0.913061  amilcar22             380  2023-10-29 23:07:53.756455   \n",
       "0  0.914634  amilcar22             337  2023-10-29 23:01:26.863198   \n",
       "0  0.942565  amilcar22             103  2023-10-29 22:55:43.419432   \n",
       "\n",
       "                   fichero_modelo  \\\n",
       "0  modelo_1466_bin_m_RF_LR_L1.pkl   \n",
       "0  modelo_1466_bin_m_RF_LR_EN.pkl   \n",
       "0    modelo_1466_bin_m_MI_SVM.pkl   \n",
       "\n",
       "                                              params                shape  \\\n",
       "0  {'selector__max_features': 500, 'selector__est...  X_test:(144, 18875)   \n",
       "0  {'selector__max_features': 500, 'selector__est...  X_test:(144, 18875)   \n",
       "0  {'selector__k': 1000, 'clasifier__kernel': 'rb...  X_test:(144, 18875)   \n",
       "\n",
       "                                            features  \n",
       "0  ['ENSG00000003137.9', 'ENSG00000003987.14', 'E...  \n",
       "0  ['ENSG00000003137.9', 'ENSG00000003987.14', 'E...  \n",
       "0  ['ENSG00000002330.14', 'ENSG00000002933.9', 'E...  "
      ]
     },
     "metadata": {},
     "output_type": "display_data"
    }
   ],
   "source": [
    "if M_TIPO.startswith(\"bin\"):\n",
    "    myfunc.save_metricas_to_csv(random_search, X_test, y_test, M_TIPO, M_SELECT, M_CLASIF, total_time, SEMILLA, myfunc.MET_DIR, M_FICHERO, fichero_modelo)\n",
    "else:\n",
    "    myfunc.save_metricas_multi_to_csv(random_search, X_test, y_test, M_TIPO, M_SELECT, M_CLASIF, total_time, SEMILLA, myfunc.MET_DIR, M_FICHERO, fichero_modelo)\n",
    "\n",
    "df1=myfunc.read_metricas_to_df(myfunc.MET_DIR,M_FICHERO)\n",
    "\n",
    "display(df1.sort_values(\"datetime\", ascending=False)[:3])\n"
   ]
  },
  {
   "cell_type": "markdown",
   "id": "b8b75471",
   "metadata": {
    "papermill": {
     "duration": 0.004063,
     "end_time": "2023-10-29T22:07:53.786786",
     "exception": false,
     "start_time": "2023-10-29T22:07:53.782723",
     "status": "completed"
    },
    "tags": []
   },
   "source": [
    "#### Guardar resultados"
   ]
  },
  {
   "cell_type": "code",
   "execution_count": 13,
   "id": "6c94aa14",
   "metadata": {
    "execution": {
     "iopub.execute_input": "2023-10-29T22:07:53.795623Z",
     "iopub.status.busy": "2023-10-29T22:07:53.795434Z",
     "iopub.status.idle": "2023-10-29T22:07:53.803785Z",
     "shell.execute_reply": "2023-10-29T22:07:53.803320Z"
    },
    "papermill": {
     "duration": 0.014276,
     "end_time": "2023-10-29T22:07:53.805026",
     "exception": false,
     "start_time": "2023-10-29T22:07:53.790750",
     "status": "completed"
    },
    "tags": []
   },
   "outputs": [
    {
     "name": "stdout",
     "output_type": "stream",
     "text": [
      "20231029T230753 : amilcar22 : INFO : Inicio guardar resultados\n",
      "20231029T230753 : amilcar22 : INFO : Inicio guardar fichero ../tfm_git/ejecuciones/metricas/resultados_1466_bin_m-RF-LR_L1.csv\n",
      "20231029T230753 : amilcar22 : INFO : Fin guardar fichero ../tfm_git/ejecuciones/metricas/resultados_1466_bin_m-RF-LR_L1.csv\n",
      "20231029T230753 : amilcar22 : INFO : Fin guardar resultados\n"
     ]
    }
   ],
   "source": [
    "fichero_resultados=R_FICHERO+\"_\"+M_TIPO+\"-\"+M_SELECT+\"-\"+M_CLASIF+\".csv\"\n",
    "myfunc.save_resultados_to_csv(M_TIPO, M_SELECT, M_CLASIF,  random_search, myfunc.MET_DIR, fichero_resultados)\n"
   ]
  }
 ],
 "metadata": {
  "kernelspec": {
   "display_name": "Python 3 (ipykernel)",
   "language": "python",
   "name": "python3"
  },
  "language_info": {
   "codemirror_mode": {
    "name": "ipython",
    "version": 3
   },
   "file_extension": ".py",
   "mimetype": "text/x-python",
   "name": "python",
   "nbconvert_exporter": "python",
   "pygments_lexer": "ipython3",
   "version": "3.10.12"
  },
  "papermill": {
   "default_parameters": {},
   "duration": 385.38443,
   "end_time": "2023-10-29T22:07:56.426582",
   "environment_variables": {},
   "exception": null,
   "input_path": "03_entrenamiento.ipynb",
   "output_path": "ejecuciones/training/03_entrenamiento.20231029T230130.param_0000_1466_bin_m_RF_LR_L1.output.ipynb",
   "parameters": {
    "MAX_ITERS": 500,
    "M_CLASIF": "LR_L1",
    "M_FICHERO": "metricas_1466",
    "M_SELECT": "RF",
    "M_TIPO": "bin_m",
    "PRE_DATA_FILE": "rows_transpose_norm_by_gene_id_with_target_num_",
    "P_FICHERO": "param_0000_1466_bin_m_RF_LR_L1.yaml",
    "R_FICHERO": "resultados_1466",
    "SCORING": "roc_auc_ovr",
    "SEMILLA": 1466,
    "eval_clasifier": "LogisticRegressionCV(random_state=SEMILLA)",
    "eval_selector": "SelectFromModel(estimator=RandomForestClassifier(random_state=SEMILLA), threshold=-np.inf)",
    "param_distributions": {
     "clasifier__max_iter": [
      10000
     ],
     "clasifier__penalty": [
      "l1"
     ],
     "clasifier__solver": [
      "saga"
     ],
     "selector__estimator__n_estimators": [
      100
     ],
     "selector__max_features": [
      500
     ]
    }
   },
   "start_time": "2023-10-29T22:01:31.042152",
   "version": "2.4.0"
  }
 },
 "nbformat": 4,
 "nbformat_minor": 5
}