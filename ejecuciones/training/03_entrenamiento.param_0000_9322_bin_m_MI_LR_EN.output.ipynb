{
 "cells": [
  {
   "cell_type": "markdown",
   "id": "fb060694",
   "metadata": {
    "papermill": {
     "duration": 0.005363,
     "end_time": "2023-10-30T01:43:57.564518",
     "exception": false,
     "start_time": "2023-10-30T01:43:57.559155",
     "status": "completed"
    },
    "tags": []
   },
   "source": [
    "##### Inicio"
   ]
  },
  {
   "cell_type": "markdown",
   "id": "2f8c98e1",
   "metadata": {
    "papermill": {
     "duration": 0.003386,
     "end_time": "2023-10-30T01:43:57.571583",
     "exception": false,
     "start_time": "2023-10-30T01:43:57.568197",
     "status": "completed"
    },
    "tags": []
   },
   "source": [
    "#### Carga de datos"
   ]
  },
  {
   "cell_type": "code",
   "execution_count": 1,
   "id": "c838289e",
   "metadata": {
    "execution": {
     "iopub.execute_input": "2023-10-30T01:43:57.579878Z",
     "iopub.status.busy": "2023-10-30T01:43:57.579299Z",
     "iopub.status.idle": "2023-10-30T01:43:58.686955Z",
     "shell.execute_reply": "2023-10-30T01:43:58.686324Z"
    },
    "papermill": {
     "duration": 1.113462,
     "end_time": "2023-10-30T01:43:58.688517",
     "exception": false,
     "start_time": "2023-10-30T01:43:57.575055",
     "status": "completed"
    },
    "tags": []
   },
   "outputs": [
    {
     "name": "stdout",
     "output_type": "stream",
     "text": [
      "CPU_COUNT: 16; NODE: enderlab; sys.version: 3.10.11 (main, May 16 2023, 00:28:57) [GCC 11.2.0]\n",
      "LOKY_MAX_CPU_COUNT is not set.\n",
      "OMP_NUM_THREADS is not set.\n"
     ]
    }
   ],
   "source": [
    "import os\n",
    "import numpy as np\n",
    "import pandas as pd\n",
    "import datetime\n",
    "import sklearn\n",
    "import logging\n",
    "import warnings\n",
    "\n",
    "from sklearn.pipeline import Pipeline\n",
    "from sklearn.model_selection import RandomizedSearchCV, KFold, cross_val_score, train_test_split\n",
    "from sklearn.metrics import accuracy_score, confusion_matrix, classification_report, roc_auc_score\n",
    "\n",
    "#  cargar algoritmos para aprendizaje supervisado\n",
    "from sklearn.feature_selection import SelectKBest, f_classif, SelectFromModel, mutual_info_classif\n",
    "from sklearn.svm import SVC\n",
    "from sklearn.ensemble import RandomForestClassifier\n",
    "from sklearn.linear_model import LogisticRegression,LogisticRegressionCV\n",
    "\n",
    "# importar fichero con utilidades propias\n",
    "from commons import myfunctions as myfunc\n"
   ]
  },
  {
   "cell_type": "markdown",
   "id": "bedd2585",
   "metadata": {
    "papermill": {
     "duration": 0.003599,
     "end_time": "2023-10-30T01:43:58.696129",
     "exception": false,
     "start_time": "2023-10-30T01:43:58.692530",
     "status": "completed"
    },
    "tags": []
   },
   "source": [
    "#### Parámetros a utilizar en el entrenamiento.\n",
    "\n",
    "Se indican los 3 algoritmos de *selección de características* (eval_selector_xxx) y los 3 algoritmos para la _clasificación_ (eval_clasifier_xxx)\n",
    "\n",
    "En *param_distributions* se indicar los parámetros que utilizan los algoritmos en la función RandomSearchCV.\n",
    "\n",
    "Esta celda tiene la etiqueta **parameters** que servirá para poder lanzar los entrenamientos con la utilidad **papermill** pasándole un fichero con los parámetros. Los nuevos parámetros se situarán tras esta celda para tener prevalencia."
   ]
  },
  {
   "cell_type": "code",
   "execution_count": 2,
   "id": "51289a72",
   "metadata": {
    "execution": {
     "iopub.execute_input": "2023-10-30T01:43:58.704848Z",
     "iopub.status.busy": "2023-10-30T01:43:58.704312Z",
     "iopub.status.idle": "2023-10-30T01:43:58.712860Z",
     "shell.execute_reply": "2023-10-30T01:43:58.712329Z"
    },
    "papermill": {
     "duration": 0.014502,
     "end_time": "2023-10-30T01:43:58.714070",
     "exception": false,
     "start_time": "2023-10-30T01:43:58.699568",
     "status": "completed"
    },
    "tags": [
     "parameters"
    ]
   },
   "outputs": [
    {
     "name": "stdout",
     "output_type": "stream",
     "text": [
      "20231030T024358 : enderlab : INFO : Utilizando parámetros de mul_m\n"
     ]
    }
   ],
   "source": [
    "#  Parametros para el entrenamiento\n",
    "\n",
    "SEMILLA=        42\n",
    "M_TIPO=         \"mul_m\"\n",
    "M_SELECT=       \"MI\"\n",
    "M_CLASIF=       \"SVM\"\n",
    "R_FICHERO=      \"resultados\"\n",
    "M_FICHERO=      \"metricas\"\n",
    "PRE_DATA_FILE=  \"rows_transpose_norm_by_gene_id_with_target_num_\"\n",
    "SCORING=        \"roc_auc_ovr\" \n",
    "MAX_ITERS=      100\n",
    "\n",
    "def mutual_info_classif_state(X, y):\n",
    "    return mutual_info_classif(X, y, random_state=SEMILLA)\n",
    "\n",
    "eval_selector_mi = \"SelectKBest(score_func=mutual_info_classif_state)\"\n",
    "eval_selector_rf=  \"SelectFromModel(estimator=RandomForestClassifier(random_state=SEMILLA), threshold=-np.inf)\"\n",
    "eval_selector_anova=  \"SelectKBest(score_func=f_classif)\"\n",
    "\n",
    "eval_clasifier_svm= \"SVC(probability=True, random_state=SEMILLA)\"\n",
    "eval_clasifier_rf= \"RandomForestClassifier(random_state=SEMILLA)\"\n",
    "eval_clasifier_lr= \"LogisticRegressionCV(random_state=SEMILLA)\"\n",
    "\n",
    "if M_TIPO.startswith(\"bin_m\"):\n",
    "    myfunc.verbose(f\"Utilizando parámetros de {M_TIPO}\")\n",
    "    eval_selector = eval_selector_mi\n",
    "    eval_clasifier = eval_clasifier_svm\n",
    "\n",
    "    SEMILLA = 6578\n",
    "    M_SELECT = \"MI\"\n",
    "    M_CLASIF = \"SVM\"\n",
    "    param_distributions = {'selector__k': [1000], \n",
    "         'clasifier__kernel': ['rbf'], 'clasifier__gamma': [0.01], 'clasifier__C': [100]}\n",
    "elif M_TIPO.startswith(\"bin_s\"):\n",
    "    myfunc.verbose(f\"Utilizando parámetros de {M_TIPO}\")\n",
    "    eval_selector = eval_selector_rf\n",
    "    eval_clasifier = eval_clasifier_lr\n",
    "\n",
    "    SEMILLA = 6191\n",
    "    M_SELECT = \"RF\"\n",
    "    M_CLASIF = \"LR_L2\"\n",
    "    param_distributions = {'selector__max_features': [1000], 'selector__estimator__n_estimators': [200], \n",
    "        'clasifier__solver': ['lbfgs'], 'clasifier__penalty': ['l2'], 'clasifier__max_iter': [10000]}\n",
    "\n",
    "elif M_TIPO.startswith(\"mul_m\"):\n",
    "    myfunc.verbose(f\"Utilizando parámetros de {M_TIPO}\")\n",
    " \n",
    "    eval_selector = eval_selector_rf\n",
    "    eval_clasifier = eval_clasifier_lr\n",
    "\n",
    "    SEMILLA = 6191\n",
    "    M_SELECT = \"RF\"\n",
    "    M_CLASIF = \"LR_L2\"\n",
    "    param_distributions = {'selector__max_features': [1000], 'selector__estimator__n_estimators': [400], \n",
    "        'clasifier__solver': ['lbfgs'], 'clasifier__penalty': ['l2'], 'clasifier__max_iter': [10000]}\n",
    "\n",
    "else:\n",
    "    # M_TIPO.startswith(\"mul_s\"):\n",
    "    myfunc.verbose(f\"Utilizando parámetros de {M_TIPO}\")\n",
    "    eval_selector = eval_selector_anova\n",
    "    eval_clasifier = eval_clasifier_lr\n",
    "\n",
    "    SEMILLA = 1860\n",
    "    M_SELECT = \"ANOVA\"\n",
    "    M_CLASIF = \"LR_L2\"\n",
    "    param_distributions = {'selector__k': [1000], \n",
    "        'clasifier__solver': ['saga'], 'clasifier__penalty': ['l2'], 'clasifier__max_iter': [10000]}\n",
    "\n"
   ]
  },
  {
   "cell_type": "code",
   "execution_count": 3,
   "id": "395f1964",
   "metadata": {
    "execution": {
     "iopub.execute_input": "2023-10-30T01:43:58.722119Z",
     "iopub.status.busy": "2023-10-30T01:43:58.721755Z",
     "iopub.status.idle": "2023-10-30T01:43:58.725734Z",
     "shell.execute_reply": "2023-10-30T01:43:58.725230Z"
    },
    "papermill": {
     "duration": 0.009418,
     "end_time": "2023-10-30T01:43:58.726979",
     "exception": false,
     "start_time": "2023-10-30T01:43:58.717561",
     "status": "completed"
    },
    "tags": [
     "injected-parameters"
    ]
   },
   "outputs": [],
   "source": [
    "# Parameters\n",
    "M_TIPO = \"bin_m\"\n",
    "M_SELECT = \"MI\"\n",
    "M_CLASIF = \"LR_EN\"\n",
    "P_FICHERO = \"param_0000_9322_bin_m_MI_LR_EN.yaml\"\n",
    "R_FICHERO = \"resultados_9322\"\n",
    "M_FICHERO = \"metricas_9322\"\n",
    "PRE_DATA_FILE = \"rows_transpose_norm_by_gene_id_with_target_num_\"\n",
    "SCORING = \"roc_auc_ovr\"\n",
    "SEMILLA = 9322\n",
    "MAX_ITERS = 500\n",
    "eval_selector = \"SelectKBest(score_func=mutual_info_classif_state)\"\n",
    "eval_clasifier = \"LogisticRegressionCV(random_state=SEMILLA)\"\n",
    "param_distributions = {\n",
    "    \"selector__k\": [1000],\n",
    "    \"clasifier__solver\": [\"saga\"],\n",
    "    \"clasifier__penalty\": [\"elasticnet\"],\n",
    "    \"clasifier__max_iter\": [10000],\n",
    "    \"clasifier__l1_ratios\": [[0.45]],\n",
    "}\n"
   ]
  },
  {
   "cell_type": "code",
   "execution_count": 4,
   "id": "98e19fa3",
   "metadata": {
    "execution": {
     "iopub.execute_input": "2023-10-30T01:43:58.735272Z",
     "iopub.status.busy": "2023-10-30T01:43:58.734819Z",
     "iopub.status.idle": "2023-10-30T01:43:58.738012Z",
     "shell.execute_reply": "2023-10-30T01:43:58.737506Z"
    },
    "papermill": {
     "duration": 0.008515,
     "end_time": "2023-10-30T01:43:58.739209",
     "exception": false,
     "start_time": "2023-10-30T01:43:58.730694",
     "status": "completed"
    },
    "tags": []
   },
   "outputs": [],
   "source": [
    "DATA_FILE = PRE_DATA_FILE + M_TIPO\n",
    "\n",
    "# si viene \"None\" en el parámetro max_depth, se le quitan las comillas para que no sea entendido por el algoritmo como un texto\n",
    "if \"clasifier__max_depth\" in param_distributions:\n",
    "    param_distributions['clasifier__max_depth'] = [None if x == 'None' else x for x in param_distributions['clasifier__max_depth']]"
   ]
  },
  {
   "cell_type": "markdown",
   "id": "39d5eed3",
   "metadata": {
    "papermill": {
     "duration": 0.00361,
     "end_time": "2023-10-30T01:43:58.746348",
     "exception": false,
     "start_time": "2023-10-30T01:43:58.742738",
     "status": "completed"
    },
    "tags": []
   },
   "source": [
    "Asignar los algoritmos que se utilizarán en la función RandomSearchCV"
   ]
  },
  {
   "cell_type": "code",
   "execution_count": 5,
   "id": "03a90983",
   "metadata": {
    "execution": {
     "iopub.execute_input": "2023-10-30T01:43:58.754636Z",
     "iopub.status.busy": "2023-10-30T01:43:58.754102Z",
     "iopub.status.idle": "2023-10-30T01:43:58.756961Z",
     "shell.execute_reply": "2023-10-30T01:43:58.756441Z"
    },
    "papermill": {
     "duration": 0.008206,
     "end_time": "2023-10-30T01:43:58.758162",
     "exception": false,
     "start_time": "2023-10-30T01:43:58.749956",
     "status": "completed"
    },
    "tags": []
   },
   "outputs": [],
   "source": [
    "algor_selector=eval(eval_selector)\n",
    "algor_clasifier=eval(eval_clasifier)"
   ]
  },
  {
   "cell_type": "markdown",
   "id": "351a9a31",
   "metadata": {
    "papermill": {
     "duration": 0.003685,
     "end_time": "2023-10-30T01:43:58.765406",
     "exception": false,
     "start_time": "2023-10-30T01:43:58.761721",
     "status": "completed"
    },
    "tags": []
   },
   "source": [
    "#### Comprobar el entorno y leer fichero de muestras"
   ]
  },
  {
   "cell_type": "code",
   "execution_count": 6,
   "id": "19cb70a0",
   "metadata": {
    "execution": {
     "iopub.execute_input": "2023-10-30T01:43:58.773861Z",
     "iopub.status.busy": "2023-10-30T01:43:58.773384Z",
     "iopub.status.idle": "2023-10-30T01:43:59.110948Z",
     "shell.execute_reply": "2023-10-30T01:43:59.110318Z"
    },
    "papermill": {
     "duration": 0.343361,
     "end_time": "2023-10-30T01:43:59.112375",
     "exception": false,
     "start_time": "2023-10-30T01:43:58.769014",
     "status": "completed"
    },
    "tags": []
   },
   "outputs": [
    {
     "name": "stdout",
     "output_type": "stream",
     "text": [
      "20231030T024358 : enderlab : INFO : Encontrada carpeta DATA_DIR=../tfm_git/datos\n",
      "20231030T024358 : enderlab : INFO : Encontrada carpeta CFDNA_DIR=../tfm_git/datos/cfDNA_5hmC\n",
      "20231030T024358 : enderlab : INFO : Encontrada carpeta GENCODE_DIR=../tfm_git/datos/gencode\n",
      "20231030T024358 : enderlab : INFO : Encontrada carpeta H5_DIR=../tfm_git/datos/h5\n",
      "20231030T024358 : enderlab : INFO : Encontrada carpeta LOG_DIR=../tfm_git/datos/logs\n",
      "20231030T024358 : enderlab : INFO : Encontrada carpeta CSV_DIR=../tfm_git/datos/csv\n",
      "20231030T024358 : enderlab : INFO : Encontrada carpeta MODEL_DIR=../tfm_git/ejecuciones/modelos\n",
      "20231030T024358 : enderlab : INFO : Encontrada carpeta EXEC_DIR=../tfm_git/ejecuciones\n",
      "20231030T024358 : enderlab : INFO : Encontrada carpeta MET_DIR=../tfm_git/ejecuciones/metricas\n",
      "20231030T024358 : enderlab : INFO : Inicio leer fichero h5 ../tfm_git/datos/h5/rows_transpose_norm_by_gene_id_with_target_num_bin_m.h5\n",
      "20231030T024358 : enderlab : INFO : Leyendo clave /df\n"
     ]
    },
    {
     "name": "stdout",
     "output_type": "stream",
     "text": [
      "20231030T024358 : enderlab : INFO : Tamaño (720, 18876)\n",
      "20231030T024358 : enderlab : INFO : Fin leer fichero h5 ../tfm_git/datos/h5/rows_transpose_norm_by_gene_id_with_target_num_bin_m.h5\n"
     ]
    },
    {
     "data": {
      "text/plain": [
       "target\n",
       "0    360\n",
       "1    360\n",
       "dtype: int64"
      ]
     },
     "metadata": {},
     "output_type": "display_data"
    },
    {
     "name": "stdout",
     "output_type": "stream",
     "text": [
      "Shape df: (720, 18876)\n",
      "Shape X_train: (576, 18875)\n",
      "Shape X_test: (144, 18875)\n"
     ]
    }
   ],
   "source": [
    "start_time = datetime.datetime.now()\n",
    "\n",
    "myfunc.reset_vars()\n",
    "\n",
    "myfunc.NOTEBK_FILENAME = myfunc.get_nb_name()\n",
    "\n",
    "myfunc.check_enviroment(myfunc.DATA_DIR, myfunc.CFDNA_DIR, myfunc.GENCODE_DIR, myfunc.H5_DIR, myfunc.LOG_DIR, myfunc.CSV_DIR, myfunc.MODEL_DIR, myfunc.EXEC_DIR, myfunc.MET_DIR)\n",
    "\n",
    "# Leer fichero con las muestras\n",
    "df_t = myfunc.read_h5_to_df(DATA_FILE, myfunc.H5_DIR)\n",
    "display(df_t.groupby(\"target\").size())\n",
    "print(\"Shape df:\",df_t.shape)\n",
    "\n",
    "# Separar caracteristicas/genes de las etiquetas/tipos de cáncer\n",
    "X = df_t.iloc[:, :-1]  # Todas las columnas excepto la última\n",
    "y = df_t.iloc[:, -1]  # La última columna contiene los identificadores de los tipos de cáncer\n",
    "\n",
    "#  Crear el conjunto de datos de entrenamiento y de pruebas, y se fija la semilla para siempre coger el mismo juego de muestras\n",
    "X_train, X_test, y_train, y_test = train_test_split(X, y, test_size=0.2, shuffle=True, random_state=42)\n",
    "print(\"Shape X_train:\",X_train.shape)\n",
    "print(\"Shape X_test:\",X_test.shape)\n"
   ]
  },
  {
   "cell_type": "markdown",
   "id": "7d2cc341",
   "metadata": {
    "papermill": {
     "duration": 0.004279,
     "end_time": "2023-10-30T01:43:59.121379",
     "exception": false,
     "start_time": "2023-10-30T01:43:59.117100",
     "status": "completed"
    },
    "tags": []
   },
   "source": [
    "#### Selección de características y clasificación."
   ]
  },
  {
   "cell_type": "code",
   "execution_count": 7,
   "id": "6830e68a",
   "metadata": {
    "execution": {
     "iopub.execute_input": "2023-10-30T01:43:59.131089Z",
     "iopub.status.busy": "2023-10-30T01:43:59.130667Z",
     "iopub.status.idle": "2023-10-30T01:54:43.627084Z",
     "shell.execute_reply": "2023-10-30T01:54:43.626195Z"
    },
    "papermill": {
     "duration": 644.507938,
     "end_time": "2023-10-30T01:54:43.633296",
     "exception": false,
     "start_time": "2023-10-30T01:43:59.125358",
     "status": "completed"
    },
    "tags": []
   },
   "outputs": [
    {
     "name": "stdout",
     "output_type": "stream",
     "text": [
      "20231030T024359 : enderlab : INFO : Iniciando entrenamiento\n",
      "num_iter: 1 , max_iter: 1\n",
      "Fitting 5 folds for each of 1 candidates, totalling 5 fits\n"
     ]
    },
    {
     "name": "stdout",
     "output_type": "stream",
     "text": [
      "[CV 1/5] END clasifier__l1_ratios=[0.45], clasifier__max_iter=10000, clasifier__penalty=elasticnet, clasifier__solver=saga, selector__k=1000;, score=0.852 total time= 4.3min\n"
     ]
    },
    {
     "name": "stdout",
     "output_type": "stream",
     "text": [
      "[CV 4/5] END clasifier__l1_ratios=[0.45], clasifier__max_iter=10000, clasifier__penalty=elasticnet, clasifier__solver=saga, selector__k=1000;, score=0.861 total time= 4.5min\n"
     ]
    },
    {
     "name": "stdout",
     "output_type": "stream",
     "text": [
      "[CV 3/5] END clasifier__l1_ratios=[0.45], clasifier__max_iter=10000, clasifier__penalty=elasticnet, clasifier__solver=saga, selector__k=1000;, score=0.825 total time= 4.7min\n"
     ]
    },
    {
     "name": "stdout",
     "output_type": "stream",
     "text": [
      "[CV 5/5] END clasifier__l1_ratios=[0.45], clasifier__max_iter=10000, clasifier__penalty=elasticnet, clasifier__solver=saga, selector__k=1000;, score=0.884 total time= 4.9min\n"
     ]
    },
    {
     "name": "stdout",
     "output_type": "stream",
     "text": [
      "[CV 2/5] END clasifier__l1_ratios=[0.45], clasifier__max_iter=10000, clasifier__penalty=elasticnet, clasifier__solver=saga, selector__k=1000;, score=0.803 total time= 4.9min\n"
     ]
    },
    {
     "name": "stdout",
     "output_type": "stream",
     "text": [
      "Mejores Hiperparámetros: {'selector__k': 1000, 'clasifier__solver': 'saga', 'clasifier__penalty': 'elasticnet', 'clasifier__max_iter': 10000, 'clasifier__l1_ratios': [0.45]}\n",
      "Mejor Puntuación: 0.8450\n",
      "20231030T025443 : enderlab : INFO : Fin entrenamiento\n"
     ]
    }
   ],
   "source": [
    "myfunc.verbose(\"Iniciando entrenamiento\")\n",
    "\n",
    "kf = KFold(n_splits=5, shuffle=True, random_state=SEMILLA)\n",
    "\n",
    "# Crear el pipeline para el flujo de tareas\n",
    "tasks_pipeline = Pipeline([\n",
    "    ('selector', algor_selector),\n",
    "    ('clasifier', algor_clasifier)\n",
    "])\n",
    "\n",
    "# MAX_ITERS puede limitar el número de iteraciones si son excesivas para las combinaciones de parámetros buscando un óptimo local, \n",
    "# sino funcionaría como GridSearchCV al revisar todas las cominaciones de los parámetros\n",
    "num_iteraciones = 1\n",
    "num_iteraciones = num_iteraciones * np.prod([len(elemento1) for _, elemento1 in param_distributions.items()])\n",
    "max_iteraciones = num_iteraciones if num_iteraciones <= MAX_ITERS else MAX_ITERS\n",
    "print(\"num_iter:\",num_iteraciones,\", max_iter:\",max_iteraciones)\n",
    "\n",
    "random_search = RandomizedSearchCV(\n",
    "    tasks_pipeline, \n",
    "    param_distributions, \n",
    "    n_iter=max_iteraciones,\n",
    "    scoring=SCORING,\n",
    "    cv=kf,\n",
    "    verbose=3, \n",
    "    random_state=SEMILLA, \n",
    "    n_jobs=-1\n",
    "    )\n",
    "\n",
    "# Entrenar el modelo\n",
    "random_search.fit(X_train, y_train)\n",
    "\n",
    "# Ver los mejores hiperparámetros encontrados\n",
    "print(f'Mejores Hiperparámetros: {random_search.best_params_}')\n",
    "print(f'Mejor Puntuación: {random_search.best_score_:.4f}')\n",
    "\n",
    "# Nos quedamos con el mejor modelo para ver las métricas\n",
    "mejor_modelo = random_search.best_estimator_\n",
    "\n",
    "myfunc.verbose(\"Fin entrenamiento\")"
   ]
  },
  {
   "cell_type": "markdown",
   "id": "b19ebe87",
   "metadata": {
    "papermill": {
     "duration": 0.004595,
     "end_time": "2023-10-30T01:54:43.643089",
     "exception": false,
     "start_time": "2023-10-30T01:54:43.638494",
     "status": "completed"
    },
    "tags": []
   },
   "source": [
    "#### Guardar modelo"
   ]
  },
  {
   "cell_type": "code",
   "execution_count": 8,
   "id": "bc22e8fc",
   "metadata": {
    "execution": {
     "iopub.execute_input": "2023-10-30T01:54:43.654158Z",
     "iopub.status.busy": "2023-10-30T01:54:43.653410Z",
     "iopub.status.idle": "2023-10-30T01:54:43.664980Z",
     "shell.execute_reply": "2023-10-30T01:54:43.664376Z"
    },
    "papermill": {
     "duration": 0.018898,
     "end_time": "2023-10-30T01:54:43.666362",
     "exception": false,
     "start_time": "2023-10-30T01:54:43.647464",
     "status": "completed"
    },
    "tags": []
   },
   "outputs": [
    {
     "name": "stdout",
     "output_type": "stream",
     "text": [
      "20231030T025443 : enderlab : INFO : Inicio guardar fichero ../tfm_git/ejecuciones/modelos/modelo_9322_bin_m_MI_LR_EN.pkl\n",
      "20231030T025443 : enderlab : INFO : Fin guardar fichero ../tfm_git/ejecuciones/modelos/modelo_9322_bin_m_MI_LR_EN.pkl\n"
     ]
    }
   ],
   "source": [
    "fichero_modelo = str.replace(\"modelo_\"+str(SEMILLA).zfill(4)+\"_\"+M_TIPO+\"_\"+M_SELECT+\"_\"+M_CLASIF+\".pkl\", \" \", \"_\")\n",
    "\n",
    "myfunc.save_modelo(mejor_modelo, myfunc.MODEL_DIR, fichero_modelo)"
   ]
  },
  {
   "cell_type": "markdown",
   "id": "7e91db5a",
   "metadata": {
    "papermill": {
     "duration": 0.004538,
     "end_time": "2023-10-30T01:54:43.675274",
     "exception": false,
     "start_time": "2023-10-30T01:54:43.670736",
     "status": "completed"
    },
    "tags": []
   },
   "source": [
    "#### Ver resultados del las iteraciones hechas por RandomSearchCV"
   ]
  },
  {
   "cell_type": "code",
   "execution_count": 9,
   "id": "82b335fe",
   "metadata": {
    "execution": {
     "iopub.execute_input": "2023-10-30T01:54:43.685613Z",
     "iopub.status.busy": "2023-10-30T01:54:43.685023Z",
     "iopub.status.idle": "2023-10-30T01:54:43.693708Z",
     "shell.execute_reply": "2023-10-30T01:54:43.693156Z"
    },
    "papermill": {
     "duration": 0.015274,
     "end_time": "2023-10-30T01:54:43.694963",
     "exception": false,
     "start_time": "2023-10-30T01:54:43.679689",
     "status": "completed"
    },
    "tags": []
   },
   "outputs": [
    {
     "name": "stdout",
     "output_type": "stream",
     "text": [
      "20231030T025443 : enderlab : INFO : Inicio ver resultados\n",
      "Mejores Hiperparámetros: {'selector__k': 1000, 'clasifier__solver': 'saga', 'clasifier__penalty': 'elasticnet', 'clasifier__max_iter': 10000, 'clasifier__l1_ratios': [0.45]}\n",
      "Mejores puntuaciones: 0.8450 | Params: {'selector__k': 1000, 'clasifier__solver': 'saga', 'clasifier__penalty': 'elasticnet', 'clasifier__max_iter': 10000, 'clasifier__l1_ratios': [0.45]}\n",
      "Media de las puntuaciones: 0.8450 | Params: {'selector__k': 1000, 'clasifier__solver': 'saga', 'clasifier__penalty': 'elasticnet', 'clasifier__max_iter': 10000, 'clasifier__l1_ratios': [0.45]}\n",
      "20231030T025443 : enderlab : INFO : Fin resultados\n"
     ]
    }
   ],
   "source": [
    "myfunc.ver_resultados_search(random_search)"
   ]
  },
  {
   "cell_type": "markdown",
   "id": "dafc0e1a",
   "metadata": {
    "papermill": {
     "duration": 0.004666,
     "end_time": "2023-10-30T01:54:43.704022",
     "exception": false,
     "start_time": "2023-10-30T01:54:43.699356",
     "status": "completed"
    },
    "tags": []
   },
   "source": [
    "#### Ver métricas del mejor modelo"
   ]
  },
  {
   "cell_type": "code",
   "execution_count": 10,
   "id": "0f133980",
   "metadata": {
    "execution": {
     "iopub.execute_input": "2023-10-30T01:54:43.714169Z",
     "iopub.status.busy": "2023-10-30T01:54:43.713781Z",
     "iopub.status.idle": "2023-10-30T01:54:44.202689Z",
     "shell.execute_reply": "2023-10-30T01:54:44.202005Z"
    },
    "papermill": {
     "duration": 0.495655,
     "end_time": "2023-10-30T01:54:44.204164",
     "exception": false,
     "start_time": "2023-10-30T01:54:43.708509",
     "status": "completed"
    },
    "tags": []
   },
   "outputs": [
    {
     "name": "stdout",
     "output_type": "stream",
     "text": [
      "20231030T025443 : enderlab : INFO : Inicio ver métricas\n"
     ]
    },
    {
     "name": "stdout",
     "output_type": "stream",
     "text": [
      "              precision    recall  f1-score   support\n",
      "\n",
      "           0       0.85      0.88      0.86        82\n",
      "           1       0.83      0.79      0.81        62\n",
      "\n",
      "    accuracy                           0.84       144\n",
      "   macro avg       0.84      0.83      0.84       144\n",
      "weighted avg       0.84      0.84      0.84       144\n",
      "\n",
      "\n",
      "\n",
      "   Exactitud: 0.8403\n",
      "   Precisión: 0.8388\n",
      "Sensibilidad: 0.8342\n",
      "    F1-score: 0.8361\n",
      "     AUC ROC: 0.9064\n"
     ]
    },
    {
     "data": {
      "image/png": "[encoded data removed]",
      "text/plain": [
       "<Figure size 300x100 with 2 Axes>"
      ]
     },
     "metadata": {},
     "output_type": "display_data"
    },
    {
     "data": {
      "image/png": "[encoded data removed]",
      "text/plain": [
       "<Figure size 800x500 with 1 Axes>"
      ]
     },
     "metadata": {},
     "output_type": "display_data"
    },
    {
     "name": "stdout",
     "output_type": "stream",
     "text": [
      "20231030T025444 : enderlab : INFO : Fin ver métricas\n"
     ]
    }
   ],
   "source": [
    "if M_TIPO.startswith(\"bin\"):\n",
    "    myfunc.ver_metricas(mejor_modelo, X_test, y_test)\n",
    "else:\n",
    "    myfunc.ver_metricas_multi(mejor_modelo, X_test, y_test)\n"
   ]
  },
  {
   "cell_type": "markdown",
   "id": "c5564e3c",
   "metadata": {
    "papermill": {
     "duration": 0.00552,
     "end_time": "2023-10-30T01:54:44.215661",
     "exception": false,
     "start_time": "2023-10-30T01:54:44.210141",
     "status": "completed"
    },
    "tags": []
   },
   "source": [
    "#### Finalización del notebook"
   ]
  },
  {
   "cell_type": "code",
   "execution_count": 11,
   "id": "e30a0125",
   "metadata": {
    "execution": {
     "iopub.execute_input": "2023-10-30T01:54:44.227633Z",
     "iopub.status.busy": "2023-10-30T01:54:44.227069Z",
     "iopub.status.idle": "2023-10-30T01:54:44.230932Z",
     "shell.execute_reply": "2023-10-30T01:54:44.230381Z"
    },
    "papermill": {
     "duration": 0.011178,
     "end_time": "2023-10-30T01:54:44.232141",
     "exception": false,
     "start_time": "2023-10-30T01:54:44.220963",
     "status": "completed"
    },
    "tags": []
   },
   "outputs": [
    {
     "name": "stdout",
     "output_type": "stream",
     "text": [
      "20231030T025444 : enderlab : INFO : Notebook ha tardado 645 seconds\n"
     ]
    }
   ],
   "source": [
    "end_time = datetime.datetime.now()\n",
    "total_time = end_time - start_time\n",
    "myfunc.verbose(f\"Notebook ha tardado {total_time.seconds} seconds\")"
   ]
  },
  {
   "cell_type": "markdown",
   "id": "c5872502",
   "metadata": {
    "papermill": {
     "duration": 0.005511,
     "end_time": "2023-10-30T01:54:44.243013",
     "exception": false,
     "start_time": "2023-10-30T01:54:44.237502",
     "status": "completed"
    },
    "tags": []
   },
   "source": [
    "#### Guardar métricas"
   ]
  },
  {
   "cell_type": "code",
   "execution_count": 12,
   "id": "09e07edf",
   "metadata": {
    "execution": {
     "iopub.execute_input": "2023-10-30T01:54:44.258905Z",
     "iopub.status.busy": "2023-10-30T01:54:44.258500Z",
     "iopub.status.idle": "2023-10-30T01:54:44.467788Z",
     "shell.execute_reply": "2023-10-30T01:54:44.467238Z"
    },
    "papermill": {
     "duration": 0.220581,
     "end_time": "2023-10-30T01:54:44.469076",
     "exception": false,
     "start_time": "2023-10-30T01:54:44.248495",
     "status": "completed"
    },
    "tags": []
   },
   "outputs": [
    {
     "name": "stdout",
     "output_type": "stream",
     "text": [
      "20231030T025444 : enderlab : INFO : Inicio guardar métricas\n",
      "20231030T025444 : enderlab : INFO : Inicio leer fichero ../tfm_git/ejecuciones/metricas/metricas_9322.csv\n",
      "20231030T025444 : enderlab : INFO : Fin leer fichero ../tfm_git/ejecuciones/metricas/metricas_9322.csv\n"
     ]
    },
    {
     "name": "stdout",
     "output_type": "stream",
     "text": [
      "20231030T025444 : enderlab : INFO : Inicio guardar fichero ../tfm_git/ejecuciones/metricas/metricas_9322.csv\n",
      "20231030T025444 : enderlab : INFO : Fichero borrado ../tfm_git/ejecuciones/metricas/metricas_9322.csv\n",
      "20231030T025444 : enderlab : INFO : Fin guardar fichero ../tfm_git/ejecuciones/metricas/metricas_9322.csv\n",
      "20231030T025444 : enderlab : INFO : Fin guardar métricas\n",
      "20231030T025444 : enderlab : INFO : Inicio leer fichero ../tfm_git/ejecuciones/metricas/metricas_9322.csv\n",
      "20231030T025444 : enderlab : INFO : Fin leer fichero ../tfm_git/ejecuciones/metricas/metricas_9322.csv\n"
     ]
    },
    {
     "data": {
      "text/html": [
       "<div>\n",
       "<style scoped>\n",
       "    .dataframe tbody tr th:only-of-type {\n",
       "        vertical-align: middle;\n",
       "    }\n",
       "\n",
       "    .dataframe tbody tr th {\n",
       "        vertical-align: top;\n",
       "    }\n",
       "\n",
       "    .dataframe thead th {\n",
       "        text-align: right;\n",
       "    }\n",
       "</style>\n",
       "<table border=\"1\" class=\"dataframe\">\n",
       "  <thead>\n",
       "    <tr style=\"text-align: right;\">\n",
       "      <th></th>\n",
       "      <th>tipo</th>\n",
       "      <th>select</th>\n",
       "      <th>clasific</th>\n",
       "      <th>semilla</th>\n",
       "      <th>accuracy</th>\n",
       "      <th>precision</th>\n",
       "      <th>recall</th>\n",
       "      <th>f1_score</th>\n",
       "      <th>roc_auc</th>\n",
       "      <th>hostname</th>\n",
       "      <th>total_time_sec</th>\n",
       "      <th>datetime</th>\n",
       "      <th>fichero_modelo</th>\n",
       "      <th>params</th>\n",
       "      <th>shape</th>\n",
       "      <th>features</th>\n",
       "    </tr>\n",
       "  </thead>\n",
       "  <tbody>\n",
       "    <tr>\n",
       "      <th>0</th>\n",
       "      <td>bin_m</td>\n",
       "      <td>MI</td>\n",
       "      <td>LR_EN</td>\n",
       "      <td>9322</td>\n",
       "      <td>0.840278</td>\n",
       "      <td>0.838784</td>\n",
       "      <td>0.834186</td>\n",
       "      <td>0.836096</td>\n",
       "      <td>0.906373</td>\n",
       "      <td>enderlab</td>\n",
       "      <td>645</td>\n",
       "      <td>2023-10-30 02:54:44.437710</td>\n",
       "      <td>modelo_9322_bin_m_MI_LR_EN.pkl</td>\n",
       "      <td>{'selector__k': 1000, 'clasifier__solver': 'sa...</td>\n",
       "      <td>X_test:(144, 18875)</td>\n",
       "      <td>['ENSG00000002330.14', 'ENSG00000002933.9', 'E...</td>\n",
       "    </tr>\n",
       "    <tr>\n",
       "      <th>0</th>\n",
       "      <td>bin_m</td>\n",
       "      <td>ANOVA</td>\n",
       "      <td>SVM</td>\n",
       "      <td>9322</td>\n",
       "      <td>0.826389</td>\n",
       "      <td>0.822751</td>\n",
       "      <td>0.823958</td>\n",
       "      <td>0.823313</td>\n",
       "      <td>0.910307</td>\n",
       "      <td>enderlab</td>\n",
       "      <td>3</td>\n",
       "      <td>2023-10-30 02:43:52.053661</td>\n",
       "      <td>modelo_9322_bin_m_ANOVA_SVM.pkl</td>\n",
       "      <td>{'selector__k': 500, 'clasifier__kernel': 'rbf...</td>\n",
       "      <td>X_test:(144, 18875)</td>\n",
       "      <td>['ENSG00000000971.17', 'ENSG00000001626.18', '...</td>\n",
       "    </tr>\n",
       "    <tr>\n",
       "      <th>0</th>\n",
       "      <td>bin_m</td>\n",
       "      <td>ANOVA</td>\n",
       "      <td>RF</td>\n",
       "      <td>9322</td>\n",
       "      <td>0.812500</td>\n",
       "      <td>0.808666</td>\n",
       "      <td>0.811762</td>\n",
       "      <td>0.809850</td>\n",
       "      <td>0.874902</td>\n",
       "      <td>enderlab</td>\n",
       "      <td>11</td>\n",
       "      <td>2023-10-30 02:43:41.471172</td>\n",
       "      <td>modelo_9322_bin_m_ANOVA_RF.pkl</td>\n",
       "      <td>{'selector__k': 500, 'clasifier__n_estimators'...</td>\n",
       "      <td>X_test:(144, 18875)</td>\n",
       "      <td>['ENSG00000000971.17', 'ENSG00000001626.18', '...</td>\n",
       "    </tr>\n",
       "  </tbody>\n",
       "</table>\n",
       "</div>"
      ],
      "text/plain": [
       "    tipo select clasific  semilla  accuracy  precision    recall  f1_score  \\\n",
       "0  bin_m     MI    LR_EN     9322  0.840278   0.838784  0.834186  0.836096   \n",
       "0  bin_m  ANOVA      SVM     9322  0.826389   0.822751  0.823958  0.823313   \n",
       "0  bin_m  ANOVA       RF     9322  0.812500   0.808666  0.811762  0.809850   \n",
       "\n",
       "    roc_auc  hostname  total_time_sec                    datetime  \\\n",
       "0  0.906373  enderlab             645  2023-10-30 02:54:44.437710   \n",
       "0  0.910307  enderlab               3  2023-10-30 02:43:52.053661   \n",
       "0  0.874902  enderlab              11  2023-10-30 02:43:41.471172   \n",
       "\n",
       "                    fichero_modelo  \\\n",
       "0   modelo_9322_bin_m_MI_LR_EN.pkl   \n",
       "0  modelo_9322_bin_m_ANOVA_SVM.pkl   \n",
       "0   modelo_9322_bin_m_ANOVA_RF.pkl   \n",
       "\n",
       "                                              params                shape  \\\n",
       "0  {'selector__k': 1000, 'clasifier__solver': 'sa...  X_test:(144, 18875)   \n",
       "0  {'selector__k': 500, 'clasifier__kernel': 'rbf...  X_test:(144, 18875)   \n",
       "0  {'selector__k': 500, 'clasifier__n_estimators'...  X_test:(144, 18875)   \n",
       "\n",
       "                                            features  \n",
       "0  ['ENSG00000002330.14', 'ENSG00000002933.9', 'E...  \n",
       "0  ['ENSG00000000971.17', 'ENSG00000001626.18', '...  \n",
       "0  ['ENSG00000000971.17', 'ENSG00000001626.18', '...  "
      ]
     },
     "metadata": {},
     "output_type": "display_data"
    }
   ],
   "source": [
    "if M_TIPO.startswith(\"bin\"):\n",
    "    myfunc.save_metricas_to_csv(random_search, X_test, y_test, M_TIPO, M_SELECT, M_CLASIF, total_time, SEMILLA, myfunc.MET_DIR, M_FICHERO, fichero_modelo)\n",
    "else:\n",
    "    myfunc.save_metricas_multi_to_csv(random_search, X_test, y_test, M_TIPO, M_SELECT, M_CLASIF, total_time, SEMILLA, myfunc.MET_DIR, M_FICHERO, fichero_modelo)\n",
    "\n",
    "df1=myfunc.read_metricas_to_df(myfunc.MET_DIR,M_FICHERO)\n",
    "\n",
    "display(df1.sort_values(\"datetime\", ascending=False)[:3])\n"
   ]
  },
  {
   "cell_type": "markdown",
   "id": "7d5f5b64",
   "metadata": {
    "papermill": {
     "duration": 0.006372,
     "end_time": "2023-10-30T01:54:44.481627",
     "exception": false,
     "start_time": "2023-10-30T01:54:44.475255",
     "status": "completed"
    },
    "tags": []
   },
   "source": [
    "#### Guardar resultados"
   ]
  },
  {
   "cell_type": "code",
   "execution_count": 13,
   "id": "a8b4b4ac",
   "metadata": {
    "execution": {
     "iopub.execute_input": "2023-10-30T01:54:44.494289Z",
     "iopub.status.busy": "2023-10-30T01:54:44.493713Z",
     "iopub.status.idle": "2023-10-30T01:54:44.503146Z",
     "shell.execute_reply": "2023-10-30T01:54:44.502649Z"
    },
    "papermill": {
     "duration": 0.017036,
     "end_time": "2023-10-30T01:54:44.504321",
     "exception": false,
     "start_time": "2023-10-30T01:54:44.487285",
     "status": "completed"
    },
    "tags": []
   },
   "outputs": [
    {
     "name": "stdout",
     "output_type": "stream",
     "text": [
      "20231030T025444 : enderlab : INFO : Inicio guardar resultados\n",
      "20231030T025444 : enderlab : INFO : Inicio guardar fichero ../tfm_git/ejecuciones/metricas/resultados_9322_bin_m-MI-LR_EN.csv\n",
      "20231030T025444 : enderlab : INFO : Fin guardar fichero ../tfm_git/ejecuciones/metricas/resultados_9322_bin_m-MI-LR_EN.csv\n",
      "20231030T025444 : enderlab : INFO : Fin guardar resultados\n"
     ]
    }
   ],
   "source": [
    "fichero_resultados=R_FICHERO+\"_\"+M_TIPO+\"-\"+M_SELECT+\"-\"+M_CLASIF+\".csv\"\n",
    "myfunc.save_resultados_to_csv(M_TIPO, M_SELECT, M_CLASIF,  random_search, myfunc.MET_DIR, fichero_resultados)\n"
   ]
  }
 ],
 "metadata": {
  "kernelspec": {
   "display_name": "Python 3 (ipykernel)",
   "language": "python",
   "name": "python3"
  },
  "language_info": {
   "codemirror_mode": {
    "name": "ipython",
    "version": 3
   },
   "file_extension": ".py",
   "mimetype": "text/x-python",
   "name": "python",
   "nbconvert_exporter": "python",
   "pygments_lexer": "ipython3",
   "version": "3.10.11"
  },
  "papermill": {
   "default_parameters": {},
   "duration": 650.756859,
   "end_time": "2023-10-30T01:54:47.130938",
   "environment_variables": {},
   "exception": null,
   "input_path": "03_entrenamiento.ipynb",
   "output_path": "ejecuciones/training/03_entrenamiento.20231030T024355.param_0000_9322_bin_m_MI_LR_EN.output.ipynb",
   "parameters": {
    "MAX_ITERS": 500,
    "M_CLASIF": "LR_EN",
    "M_FICHERO": "metricas_9322",
    "M_SELECT": "MI",
    "M_TIPO": "bin_m",
    "PRE_DATA_FILE": "rows_transpose_norm_by_gene_id_with_target_num_",
    "P_FICHERO": "param_0000_9322_bin_m_MI_LR_EN.yaml",
    "R_FICHERO": "resultados_9322",
    "SCORING": "roc_auc_ovr",
    "SEMILLA": 9322,
    "eval_clasifier": "LogisticRegressionCV(random_state=SEMILLA)",
    "eval_selector": "SelectKBest(score_func=mutual_info_classif_state)",
    "param_distributions": {
     "clasifier__l1_ratios": [
      [
       0.45
      ]
     ],
     "clasifier__max_iter": [
      10000
     ],
     "clasifier__penalty": [
      "elasticnet"
     ],
     "clasifier__solver": [
      "saga"
     ],
     "selector__k": [
      1000
     ]
    }
   },
   "start_time": "2023-10-30T01:43:56.374079",
   "version": "2.4.0"
  }
 },
 "nbformat": 4,
 "nbformat_minor": 5
}