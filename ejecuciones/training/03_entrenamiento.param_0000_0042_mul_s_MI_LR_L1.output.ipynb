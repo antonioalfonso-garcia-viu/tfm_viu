{
 "cells": [
  {
   "cell_type": "markdown",
   "id": "8999d67a",
   "metadata": {
    "papermill": {
     "duration": 0.0032,
     "end_time": "2023-10-27T22:38:56.797481",
     "exception": false,
     "start_time": "2023-10-27T22:38:56.794281",
     "status": "completed"
    },
    "tags": []
   },
   "source": [
    "##### Inicio"
   ]
  },
  {
   "cell_type": "markdown",
   "id": "bd68b745",
   "metadata": {
    "papermill": {
     "duration": 0.002329,
     "end_time": "2023-10-27T22:38:56.802393",
     "exception": false,
     "start_time": "2023-10-27T22:38:56.800064",
     "status": "completed"
    },
    "tags": []
   },
   "source": [
    "#### Carga de datos"
   ]
  },
  {
   "cell_type": "code",
   "execution_count": 1,
   "id": "d5545e72",
   "metadata": {
    "execution": {
     "iopub.execute_input": "2023-10-27T22:38:56.808334Z",
     "iopub.status.busy": "2023-10-27T22:38:56.808115Z",
     "iopub.status.idle": "2023-10-27T22:38:57.676310Z",
     "shell.execute_reply": "2023-10-27T22:38:57.675671Z"
    },
    "papermill": {
     "duration": 0.872835,
     "end_time": "2023-10-27T22:38:57.677632",
     "exception": false,
     "start_time": "2023-10-27T22:38:56.804797",
     "status": "completed"
    },
    "tags": []
   },
   "outputs": [
    {
     "name": "stdout",
     "output_type": "stream",
     "text": [
      "CPU_COUNT: 8; NODE: amilcar22; sys.version: 3.10.12 (main, Jul  5 2023, 19:22:19) [GCC 11.2.0]\n",
      "LOKY_MAX_CPU_COUNT: 6\n",
      "OMP_NUM_THREADS: 2\n"
     ]
    }
   ],
   "source": [
    "import os\n",
    "import numpy as np\n",
    "import pandas as pd\n",
    "import datetime\n",
    "import sklearn\n",
    "import logging\n",
    "import warnings\n",
    "\n",
    "from sklearn.pipeline import Pipeline\n",
    "from sklearn.model_selection import RandomizedSearchCV, KFold, cross_val_score, train_test_split\n",
    "from sklearn.metrics import accuracy_score, confusion_matrix, classification_report, roc_auc_score\n",
    "\n",
    "#  cargar algoritmos para aprendizaje supervisado\n",
    "from sklearn.feature_selection import SelectKBest, f_classif, SelectFromModel, mutual_info_classif\n",
    "from sklearn.svm import SVC\n",
    "from sklearn.ensemble import RandomForestClassifier\n",
    "from sklearn.linear_model import LogisticRegression,LogisticRegressionCV\n",
    "\n",
    "# importar fichero con utilidades propias\n",
    "from commons import myfunctions as myfunc\n"
   ]
  },
  {
   "cell_type": "markdown",
   "id": "675bb0d3",
   "metadata": {
    "papermill": {
     "duration": 0.002562,
     "end_time": "2023-10-27T22:38:57.683313",
     "exception": false,
     "start_time": "2023-10-27T22:38:57.680751",
     "status": "completed"
    },
    "tags": []
   },
   "source": [
    "#### Parámetros a utilizar en el entrenamiento.\n",
    "\n",
    "Se indican los 3 algoritmos de *selección de características* (eval_selector_xxx) y los 3 algoritmos para la _clasificación_ (eval_clasifier_xxx)\n",
    "\n",
    "En *param_distributions* se indicar los parámetros que utilizan los algoritmos en la función RandomSearchCV.\n",
    "\n",
    "Esta celda tiene la etiqueta **parameters** que servirá para poder lanzar los entrenamientos con la utilidad **papermill** pasándole un fichero con los parámetros. Los nuevos parámetros se situarán tras esta celda para tener prevalencia."
   ]
  },
  {
   "cell_type": "code",
   "execution_count": 2,
   "id": "eae81364",
   "metadata": {
    "execution": {
     "iopub.execute_input": "2023-10-27T22:38:57.689287Z",
     "iopub.status.busy": "2023-10-27T22:38:57.689018Z",
     "iopub.status.idle": "2023-10-27T22:38:57.695888Z",
     "shell.execute_reply": "2023-10-27T22:38:57.695467Z"
    },
    "papermill": {
     "duration": 0.011356,
     "end_time": "2023-10-27T22:38:57.697175",
     "exception": false,
     "start_time": "2023-10-27T22:38:57.685819",
     "status": "completed"
    },
    "tags": [
     "parameters"
    ]
   },
   "outputs": [
    {
     "name": "stdout",
     "output_type": "stream",
     "text": [
      "20231028T003857 : amilcar22 : INFO : Utilizando parámetros de mul_m\n"
     ]
    }
   ],
   "source": [
    "#  Parametros para el entrenamiento\n",
    "\n",
    "SEMILLA=        42\n",
    "M_TIPO=         \"mul_m\"\n",
    "M_SELECT=       \"MI\"\n",
    "M_CLASIF=       \"SVM\"\n",
    "R_FICHERO=      \"resultados\"\n",
    "M_FICHERO=      \"metricas\"\n",
    "PRE_DATA_FILE=  \"rows_transpose_norm_by_gene_id_with_target_num_\"\n",
    "SCORING=        \"roc_auc_ovr\" \n",
    "MAX_ITERS=      100\n",
    "\n",
    "def mutual_info_classif_state(X, y):\n",
    "    return mutual_info_classif(X, y, random_state=SEMILLA)\n",
    "\n",
    "eval_selector_mi = \"SelectKBest(score_func=mutual_info_classif_state)\"\n",
    "eval_selector_rf=  \"SelectFromModel(estimator=RandomForestClassifier(random_state=SEMILLA), threshold=-np.inf)\"\n",
    "eval_selector_anova=  \"SelectKBest(score_func=f_classif)\"\n",
    "\n",
    "eval_clasifier_svm= \"SVC(probability=True, random_state=SEMILLA)\"\n",
    "eval_clasifier_rf= \"RandomForestClassifier(random_state=SEMILLA)\"\n",
    "eval_clasifier_lr= \"LogisticRegressionCV(random_state=SEMILLA)\"\n",
    "\n",
    "if M_TIPO.startswith(\"bin_m\"):\n",
    "    myfunc.verbose(f\"Utilizando parámetros de {M_TIPO}\")\n",
    "    eval_selector = eval_selector_mi\n",
    "    eval_clasifier = eval_clasifier_svm\n",
    "\n",
    "    SEMILLA = 6578\n",
    "    M_SELECT = \"MI\"\n",
    "    M_CLASIF = \"SVM\"\n",
    "    param_distributions = {'selector__k': [1000], \n",
    "         'clasifier__kernel': ['rbf'], 'clasifier__gamma': [0.01], 'clasifier__C': [100]}\n",
    "elif M_TIPO.startswith(\"bin_s\"):\n",
    "    myfunc.verbose(f\"Utilizando parámetros de {M_TIPO}\")\n",
    "    eval_selector = eval_selector_rf\n",
    "    eval_clasifier = eval_clasifier_lr\n",
    "\n",
    "    SEMILLA = 6191\n",
    "    M_SELECT = \"RF\"\n",
    "    M_CLASIF = \"LR_L2\"\n",
    "    param_distributions = {'selector__max_features': [1000], 'selector__estimator__n_estimators': [200], \n",
    "        'clasifier__solver': ['lbfgs'], 'clasifier__penalty': ['l2'], 'clasifier__max_iter': [10000]}\n",
    "\n",
    "elif M_TIPO.startswith(\"mul_m\"):\n",
    "    myfunc.verbose(f\"Utilizando parámetros de {M_TIPO}\")\n",
    " \n",
    "    eval_selector = eval_selector_rf\n",
    "    eval_clasifier = eval_clasifier_lr\n",
    "\n",
    "    SEMILLA = 6191\n",
    "    M_SELECT = \"RF\"\n",
    "    M_CLASIF = \"LR_L2\"\n",
    "    param_distributions = {'selector__max_features': [1000], 'selector__estimator__n_estimators': [400], \n",
    "        'clasifier__solver': ['lbfgs'], 'clasifier__penalty': ['l2'], 'clasifier__max_iter': [10000]}\n",
    "\n",
    "else:\n",
    "    # M_TIPO.startswith(\"mul_s\"):\n",
    "    myfunc.verbose(f\"Utilizando parámetros de {M_TIPO}\")\n",
    "    eval_selector = eval_selector_anova\n",
    "    eval_clasifier = eval_clasifier_lr\n",
    "\n",
    "    SEMILLA = 1860\n",
    "    M_SELECT = \"ANOVA\"\n",
    "    M_CLASIF = \"LR_L2\"\n",
    "    param_distributions = {'selector__k': [1000], \n",
    "        'clasifier__solver': ['saga'], 'clasifier__penalty': ['l2'], 'clasifier__max_iter': [10000]}\n",
    "\n"
   ]
  },
  {
   "cell_type": "code",
   "execution_count": 3,
   "id": "2661c478",
   "metadata": {
    "execution": {
     "iopub.execute_input": "2023-10-27T22:38:57.703214Z",
     "iopub.status.busy": "2023-10-27T22:38:57.703048Z",
     "iopub.status.idle": "2023-10-27T22:38:57.706630Z",
     "shell.execute_reply": "2023-10-27T22:38:57.706158Z"
    },
    "papermill": {
     "duration": 0.007885,
     "end_time": "2023-10-27T22:38:57.707831",
     "exception": false,
     "start_time": "2023-10-27T22:38:57.699946",
     "status": "completed"
    },
    "tags": [
     "injected-parameters"
    ]
   },
   "outputs": [],
   "source": [
    "# Parameters\n",
    "M_TIPO = \"mul_s\"\n",
    "M_SELECT = \"MI\"\n",
    "M_CLASIF = \"LR_L1\"\n",
    "P_FICHERO = \"param_0000_0042_mul_s_MI_LR_L1.yaml\"\n",
    "R_FICHERO = \"resultados_0042\"\n",
    "M_FICHERO = \"metricas_0042\"\n",
    "PRE_DATA_FILE = \"rows_transpose_norm_by_gene_id_with_target_num_\"\n",
    "SCORING = \"roc_auc_ovr\"\n",
    "SEMILLA = 42\n",
    "MAX_ITERS = 500\n",
    "eval_selector = \"SelectKBest(score_func=mutual_info_classif_state)\"\n",
    "eval_clasifier = \"LogisticRegressionCV(random_state=SEMILLA)\"\n",
    "param_distributions = {\n",
    "    \"selector__k\": [500],\n",
    "    \"clasifier__solver\": [\"saga\"],\n",
    "    \"clasifier__penalty\": [\"l1\"],\n",
    "    \"clasifier__max_iter\": [10000],\n",
    "}\n"
   ]
  },
  {
   "cell_type": "code",
   "execution_count": 4,
   "id": "ff3a8b2e",
   "metadata": {
    "execution": {
     "iopub.execute_input": "2023-10-27T22:38:57.713921Z",
     "iopub.status.busy": "2023-10-27T22:38:57.713772Z",
     "iopub.status.idle": "2023-10-27T22:38:57.716534Z",
     "shell.execute_reply": "2023-10-27T22:38:57.716044Z"
    },
    "papermill": {
     "duration": 0.007169,
     "end_time": "2023-10-27T22:38:57.717766",
     "exception": false,
     "start_time": "2023-10-27T22:38:57.710597",
     "status": "completed"
    },
    "tags": []
   },
   "outputs": [],
   "source": [
    "DATA_FILE = PRE_DATA_FILE + M_TIPO\n",
    "\n",
    "# si viene \"None\" en el parámetro max_depth, se le quitan las comillas para que no sea entendido por el algoritmo como un texto\n",
    "if \"clasifier__max_depth\" in param_distributions:\n",
    "    param_distributions['clasifier__max_depth'] = [None if x == 'None' else x for x in param_distributions['clasifier__max_depth']]"
   ]
  },
  {
   "cell_type": "markdown",
   "id": "e2a69ab3",
   "metadata": {
    "papermill": {
     "duration": 0.002834,
     "end_time": "2023-10-27T22:38:57.723560",
     "exception": false,
     "start_time": "2023-10-27T22:38:57.720726",
     "status": "completed"
    },
    "tags": []
   },
   "source": [
    "Asignar los algoritmos que se utilizarán en la función RandomSearchCV"
   ]
  },
  {
   "cell_type": "code",
   "execution_count": 5,
   "id": "366f6f16",
   "metadata": {
    "execution": {
     "iopub.execute_input": "2023-10-27T22:38:57.729940Z",
     "iopub.status.busy": "2023-10-27T22:38:57.729770Z",
     "iopub.status.idle": "2023-10-27T22:38:57.732476Z",
     "shell.execute_reply": "2023-10-27T22:38:57.731959Z"
    },
    "papermill": {
     "duration": 0.00729,
     "end_time": "2023-10-27T22:38:57.733750",
     "exception": false,
     "start_time": "2023-10-27T22:38:57.726460",
     "status": "completed"
    },
    "tags": []
   },
   "outputs": [],
   "source": [
    "algor_selector=eval(eval_selector)\n",
    "algor_clasifier=eval(eval_clasifier)"
   ]
  },
  {
   "cell_type": "markdown",
   "id": "d80bc095",
   "metadata": {
    "papermill": {
     "duration": 0.003368,
     "end_time": "2023-10-27T22:38:57.740457",
     "exception": false,
     "start_time": "2023-10-27T22:38:57.737089",
     "status": "completed"
    },
    "tags": []
   },
   "source": [
    "#### Comprobar el entorno y leer fichero de muestras"
   ]
  },
  {
   "cell_type": "code",
   "execution_count": 6,
   "id": "c07c3735",
   "metadata": {
    "execution": {
     "iopub.execute_input": "2023-10-27T22:38:57.747875Z",
     "iopub.status.busy": "2023-10-27T22:38:57.747693Z",
     "iopub.status.idle": "2023-10-27T22:38:57.875207Z",
     "shell.execute_reply": "2023-10-27T22:38:57.874629Z"
    },
    "papermill": {
     "duration": 0.132798,
     "end_time": "2023-10-27T22:38:57.876571",
     "exception": false,
     "start_time": "2023-10-27T22:38:57.743773",
     "status": "completed"
    },
    "tags": []
   },
   "outputs": [
    {
     "name": "stdout",
     "output_type": "stream",
     "text": [
      "20231028T003857 : amilcar22 : INFO : Encontrada carpeta DATA_DIR=../tfm_git/datos\n",
      "20231028T003857 : amilcar22 : INFO : Encontrada carpeta CFDNA_DIR=../tfm_git/datos/cfDNA_5hmC\n",
      "20231028T003857 : amilcar22 : INFO : Encontrada carpeta GENCODE_DIR=../tfm_git/datos/gencode\n",
      "20231028T003857 : amilcar22 : INFO : Encontrada carpeta H5_DIR=../tfm_git/datos/h5\n",
      "20231028T003857 : amilcar22 : INFO : Encontrada carpeta LOG_DIR=../tfm_git/datos/logs\n",
      "20231028T003857 : amilcar22 : INFO : Encontrada carpeta CSV_DIR=../tfm_git/datos/csv\n",
      "20231028T003857 : amilcar22 : INFO : Encontrada carpeta MODEL_DIR=../tfm_git/ejecuciones/modelos\n",
      "20231028T003857 : amilcar22 : INFO : Encontrada carpeta EXEC_DIR=../tfm_git/ejecuciones\n",
      "20231028T003857 : amilcar22 : INFO : Encontrada carpeta MET_DIR=../tfm_git/ejecuciones/metricas\n",
      "20231028T003857 : amilcar22 : INFO : Inicio leer fichero h5 ../tfm_git/datos/h5/rows_transpose_norm_by_gene_id_with_target_num_mul_s.h5\n",
      "20231028T003857 : amilcar22 : INFO : Leyendo clave /df\n",
      "20231028T003857 : amilcar22 : INFO : Tamaño (259, 18876)\n",
      "20231028T003857 : amilcar22 : INFO : Fin leer fichero h5 ../tfm_git/datos/h5/rows_transpose_norm_by_gene_id_with_target_num_mul_s.h5\n"
     ]
    },
    {
     "data": {
      "text/plain": [
       "target\n",
       "0    37\n",
       "1    37\n",
       "2    37\n",
       "3    37\n",
       "4    37\n",
       "5    37\n",
       "6    37\n",
       "dtype: int64"
      ]
     },
     "metadata": {},
     "output_type": "display_data"
    },
    {
     "name": "stdout",
     "output_type": "stream",
     "text": [
      "Shape df: (259, 18876)\n",
      "Shape X_train: (207, 18875)\n",
      "Shape X_test: (52, 18875)\n"
     ]
    }
   ],
   "source": [
    "start_time = datetime.datetime.now()\n",
    "\n",
    "myfunc.reset_vars()\n",
    "\n",
    "myfunc.NOTEBK_FILENAME = myfunc.get_nb_name()\n",
    "\n",
    "myfunc.check_enviroment(myfunc.DATA_DIR, myfunc.CFDNA_DIR, myfunc.GENCODE_DIR, myfunc.H5_DIR, myfunc.LOG_DIR, myfunc.CSV_DIR, myfunc.MODEL_DIR, myfunc.EXEC_DIR, myfunc.MET_DIR)\n",
    "\n",
    "# Leer fichero con las muestras\n",
    "df_t = myfunc.read_h5_to_df(DATA_FILE, myfunc.H5_DIR)\n",
    "display(df_t.groupby(\"target\").size())\n",
    "print(\"Shape df:\",df_t.shape)\n",
    "\n",
    "# Separar caracteristicas/genes de las etiquetas/tipos de cáncer\n",
    "X = df_t.iloc[:, :-1]  # Todas las columnas excepto la última\n",
    "y = df_t.iloc[:, -1]  # La última columna contiene los identificadores de los tipos de cáncer\n",
    "\n",
    "#  Crear el conjunto de datos de entrenamiento y de pruebas\n",
    "X_train, X_test, y_train, y_test = train_test_split(X, y, test_size=0.2, shuffle=True, random_state=SEMILLA)\n",
    "print(\"Shape X_train:\",X_train.shape)\n",
    "print(\"Shape X_test:\",X_test.shape)\n"
   ]
  },
  {
   "cell_type": "markdown",
   "id": "f69c988e",
   "metadata": {
    "papermill": {
     "duration": 0.002817,
     "end_time": "2023-10-27T22:38:57.882808",
     "exception": false,
     "start_time": "2023-10-27T22:38:57.879991",
     "status": "completed"
    },
    "tags": []
   },
   "source": [
    "#### Selección de características y clasificación."
   ]
  },
  {
   "cell_type": "code",
   "execution_count": 7,
   "id": "60f3a2d1",
   "metadata": {
    "execution": {
     "iopub.execute_input": "2023-10-27T22:38:57.889229Z",
     "iopub.status.busy": "2023-10-27T22:38:57.889040Z",
     "iopub.status.idle": "2023-10-27T22:50:54.831612Z",
     "shell.execute_reply": "2023-10-27T22:50:54.830937Z"
    },
    "papermill": {
     "duration": 716.949665,
     "end_time": "2023-10-27T22:50:54.835271",
     "exception": false,
     "start_time": "2023-10-27T22:38:57.885606",
     "status": "completed"
    },
    "tags": []
   },
   "outputs": [
    {
     "name": "stdout",
     "output_type": "stream",
     "text": [
      "20231028T003857 : amilcar22 : INFO : Iniciando entrenamiento\n",
      "num_iter: 1 , max_iter: 1\n"
     ]
    },
    {
     "name": "stdout",
     "output_type": "stream",
     "text": [
      "Fitting 5 folds for each of 1 candidates, totalling 5 fits\n"
     ]
    },
    {
     "name": "stdout",
     "output_type": "stream",
     "text": [
      "[CV 1/5] END clasifier__max_iter=10000, clasifier__penalty=l1, clasifier__solver=saga, selector__k=500;, score=0.872 total time= 5.0min\n"
     ]
    },
    {
     "name": "stdout",
     "output_type": "stream",
     "text": [
      "[CV 2/5] END clasifier__max_iter=10000, clasifier__penalty=l1, clasifier__solver=saga, selector__k=500;, score=0.818 total time= 5.1min\n"
     ]
    },
    {
     "name": "stdout",
     "output_type": "stream",
     "text": [
      "[CV 4/5] END clasifier__max_iter=10000, clasifier__penalty=l1, clasifier__solver=saga, selector__k=500;, score=0.750 total time= 5.3min\n"
     ]
    },
    {
     "name": "stdout",
     "output_type": "stream",
     "text": [
      "[CV 3/5] END clasifier__max_iter=10000, clasifier__penalty=l1, clasifier__solver=saga, selector__k=500;, score=0.778 total time= 6.4min\n"
     ]
    },
    {
     "name": "stdout",
     "output_type": "stream",
     "text": [
      "[CV 5/5] END clasifier__max_iter=10000, clasifier__penalty=l1, clasifier__solver=saga, selector__k=500;, score=0.747 total time= 6.7min\n"
     ]
    },
    {
     "name": "stdout",
     "output_type": "stream",
     "text": [
      "Mejores Hiperparámetros: {'selector__k': 500, 'clasifier__solver': 'saga', 'clasifier__penalty': 'l1', 'clasifier__max_iter': 10000}\n",
      "Mejor Puntuación: 0.7929\n",
      "20231028T005054 : amilcar22 : INFO : Fin entrenamiento\n"
     ]
    }
   ],
   "source": [
    "myfunc.verbose(\"Iniciando entrenamiento\")\n",
    "\n",
    "kf = KFold(n_splits=5, shuffle=True, random_state=SEMILLA)\n",
    "\n",
    "# Crear el pipeline para el flujo de tareas\n",
    "tasks_pipeline = Pipeline([\n",
    "    ('selector', algor_selector),\n",
    "    ('clasifier', algor_clasifier)\n",
    "])\n",
    "\n",
    "# MAX_ITERS puede limitar el número de iteraciones si son excesivas para las combinaciones de parámetros buscando un óptimo local, \n",
    "# sino funcionaría como GridSearchCV al revisar todas las cominaciones de los parámetros\n",
    "num_iteraciones = 1\n",
    "num_iteraciones = num_iteraciones * np.prod([len(elemento1) for _, elemento1 in param_distributions.items()])\n",
    "max_iteraciones = num_iteraciones if num_iteraciones <= MAX_ITERS else MAX_ITERS\n",
    "print(\"num_iter:\",num_iteraciones,\", max_iter:\",max_iteraciones)\n",
    "\n",
    "random_search = RandomizedSearchCV(\n",
    "    tasks_pipeline, \n",
    "    param_distributions, \n",
    "    n_iter=max_iteraciones,\n",
    "    scoring=SCORING,\n",
    "    cv=kf,\n",
    "    verbose=3, \n",
    "    random_state=SEMILLA, \n",
    "    n_jobs=-1\n",
    "    )\n",
    "\n",
    "# Entrenar el modelo\n",
    "random_search.fit(X_train, y_train)\n",
    "\n",
    "# Ver los mejores hiperparámetros encontrados\n",
    "print(f'Mejores Hiperparámetros: {random_search.best_params_}')\n",
    "print(f'Mejor Puntuación: {random_search.best_score_:.4f}')\n",
    "\n",
    "# Nos quedamos con el mejor modelo para ver las métricas\n",
    "mejor_modelo = random_search.best_estimator_\n",
    "\n",
    "myfunc.verbose(\"Fin entrenamiento\")"
   ]
  },
  {
   "cell_type": "markdown",
   "id": "576ecdd2",
   "metadata": {
    "papermill": {
     "duration": 0.003077,
     "end_time": "2023-10-27T22:50:54.841665",
     "exception": false,
     "start_time": "2023-10-27T22:50:54.838588",
     "status": "completed"
    },
    "tags": []
   },
   "source": [
    "#### Guardar modelo"
   ]
  },
  {
   "cell_type": "code",
   "execution_count": 8,
   "id": "c48a5920",
   "metadata": {
    "execution": {
     "iopub.execute_input": "2023-10-27T22:50:54.848784Z",
     "iopub.status.busy": "2023-10-27T22:50:54.848579Z",
     "iopub.status.idle": "2023-10-27T22:50:54.857213Z",
     "shell.execute_reply": "2023-10-27T22:50:54.856706Z"
    },
    "papermill": {
     "duration": 0.013785,
     "end_time": "2023-10-27T22:50:54.858533",
     "exception": false,
     "start_time": "2023-10-27T22:50:54.844748",
     "status": "completed"
    },
    "tags": []
   },
   "outputs": [
    {
     "name": "stdout",
     "output_type": "stream",
     "text": [
      "20231028T005054 : amilcar22 : INFO : Inicio guardar fichero ../tfm_git/ejecuciones/modelos/modelo_0042_mul_s_MI_LR_L1.pkl\n",
      "20231028T005054 : amilcar22 : INFO : Fin guardar fichero ../tfm_git/ejecuciones/modelos/modelo_0042_mul_s_MI_LR_L1.pkl\n"
     ]
    }
   ],
   "source": [
    "fichero_modelo = str.replace(\"modelo_\"+str(SEMILLA).zfill(4)+\"_\"+M_TIPO+\"_\"+M_SELECT+\"_\"+M_CLASIF+\".pkl\", \" \", \"_\")\n",
    "\n",
    "myfunc.save_modelo(mejor_modelo, myfunc.MODEL_DIR, fichero_modelo)"
   ]
  },
  {
   "cell_type": "markdown",
   "id": "75117d91",
   "metadata": {
    "papermill": {
     "duration": 0.003189,
     "end_time": "2023-10-27T22:50:54.865171",
     "exception": false,
     "start_time": "2023-10-27T22:50:54.861982",
     "status": "completed"
    },
    "tags": []
   },
   "source": [
    "#### Ver resultados del las iteraciones hechas por RandomSearchCV"
   ]
  },
  {
   "cell_type": "code",
   "execution_count": 9,
   "id": "db8f10e1",
   "metadata": {
    "execution": {
     "iopub.execute_input": "2023-10-27T22:50:54.872410Z",
     "iopub.status.busy": "2023-10-27T22:50:54.872204Z",
     "iopub.status.idle": "2023-10-27T22:50:54.878126Z",
     "shell.execute_reply": "2023-10-27T22:50:54.877659Z"
    },
    "papermill": {
     "duration": 0.010907,
     "end_time": "2023-10-27T22:50:54.879310",
     "exception": false,
     "start_time": "2023-10-27T22:50:54.868403",
     "status": "completed"
    },
    "tags": []
   },
   "outputs": [
    {
     "name": "stdout",
     "output_type": "stream",
     "text": [
      "20231028T005054 : amilcar22 : INFO : Inicio ver resultados\n",
      "Mejores Hiperparámetros: {'selector__k': 500, 'clasifier__solver': 'saga', 'clasifier__penalty': 'l1', 'clasifier__max_iter': 10000}\n",
      "Mejores puntuaciones: 0.7929 | Params: {'selector__k': 500, 'clasifier__solver': 'saga', 'clasifier__penalty': 'l1', 'clasifier__max_iter': 10000}\n",
      "Media de las puntuaciones: 0.7929 | Params: {'selector__k': 500, 'clasifier__solver': 'saga', 'clasifier__penalty': 'l1', 'clasifier__max_iter': 10000}\n",
      "20231028T005054 : amilcar22 : INFO : Fin resultados\n"
     ]
    }
   ],
   "source": [
    "myfunc.ver_resultados_search(random_search)"
   ]
  },
  {
   "cell_type": "markdown",
   "id": "f2c5a41e",
   "metadata": {
    "papermill": {
     "duration": 0.003281,
     "end_time": "2023-10-27T22:50:54.886095",
     "exception": false,
     "start_time": "2023-10-27T22:50:54.882814",
     "status": "completed"
    },
    "tags": []
   },
   "source": [
    "#### Ver métricas del mejor modelo"
   ]
  },
  {
   "cell_type": "code",
   "execution_count": 10,
   "id": "feec8989",
   "metadata": {
    "execution": {
     "iopub.execute_input": "2023-10-27T22:50:54.893308Z",
     "iopub.status.busy": "2023-10-27T22:50:54.893112Z",
     "iopub.status.idle": "2023-10-27T22:50:55.472046Z",
     "shell.execute_reply": "2023-10-27T22:50:55.471516Z"
    },
    "papermill": {
     "duration": 0.584089,
     "end_time": "2023-10-27T22:50:55.473360",
     "exception": false,
     "start_time": "2023-10-27T22:50:54.889271",
     "status": "completed"
    },
    "tags": []
   },
   "outputs": [
    {
     "name": "stdout",
     "output_type": "stream",
     "text": [
      "20231028T005054 : amilcar22 : INFO : Inicio ver métricas multiclase\n",
      "              precision    recall  f1-score   support\n",
      "\n",
      "           0       0.43      0.27      0.33        11\n",
      "           1       1.00      0.38      0.55         8\n",
      "           2       0.33      0.38      0.35         8\n",
      "           3       0.30      0.60      0.40         5\n",
      "           4       0.50      0.62      0.56         8\n",
      "           5       1.00      0.50      0.67         6\n",
      "           6       0.40      0.67      0.50         6\n",
      "\n",
      "    accuracy                           0.46        52\n",
      "   macro avg       0.57      0.49      0.48        52\n",
      "weighted avg       0.56      0.46      0.47        52\n",
      "\n",
      "\n",
      "\n",
      "           Exactitud: 0.461538\n",
      "   Precisión (media): 0.565986\n",
      "      Recall (media): 0.487771\n",
      "    F1-score (media): 0.479136\n",
      "\n",
      "\n",
      "AUC para el tipo de cáncer 0-Control.... 0.5831\n",
      "AUC para el tipo de cáncer 1-Bladder.... 0.9148\n"
     ]
    },
    {
     "name": "stdout",
     "output_type": "stream",
     "text": [
      "AUC para el tipo de cáncer 2-Breast..... 0.7472\n",
      "AUC para el tipo de cáncer 3-Colorectal. 0.8043\n",
      "AUC para el tipo de cáncer 4-Kidney..... 0.9261\n",
      "AUC para el tipo de cáncer 5-Lung....... 0.9384\n",
      "AUC para el tipo de cáncer 6-Prostate... 0.9058\n",
      "\n",
      "Media de AUC: 0.8314\n"
     ]
    },
    {
     "data": {
      "image/png": "[encoded data removed]",
      "text/plain": [
       "<Figure size 1000x600 with 1 Axes>"
      ]
     },
     "metadata": {},
     "output_type": "display_data"
    },
    {
     "name": "stdout",
     "output_type": "stream",
     "text": [
      "\n",
      "\n"
     ]
    },
    {
     "data": {
      "image/png": "[encoded data removed]",
      "text/plain": [
       "<Figure size 800x400 with 2 Axes>"
      ]
     },
     "metadata": {},
     "output_type": "display_data"
    },
    {
     "name": "stdout",
     "output_type": "stream",
     "text": [
      "\n",
      "\n",
      "Puntuación Jaccard para el cáncer tipo 0-Control.... 0.2000\n",
      "Puntuación Jaccard para el cáncer tipo 1-Bladder.... 0.3750\n",
      "Puntuación Jaccard para el cáncer tipo 2-Breast..... 0.2143\n",
      "Puntuación Jaccard para el cáncer tipo 3-Colorectal. 0.2500\n",
      "Puntuación Jaccard para el cáncer tipo 4-Kidney..... 0.3846\n",
      "Puntuación Jaccard para el cáncer tipo 5-Lung....... 0.5000\n",
      "Puntuación Jaccard para el cáncer tipo 6-Prostate... 0.3333\n",
      "\n",
      "Media de la puntuación de Jaccard: 0.3225\n"
     ]
    }
   ],
   "source": [
    "if M_TIPO.startswith(\"bin\"):\n",
    "    myfunc.ver_metricas(mejor_modelo, X_test, y_test)\n",
    "else:\n",
    "    myfunc.ver_metricas_multi(mejor_modelo, X_test, y_test)\n"
   ]
  },
  {
   "cell_type": "markdown",
   "id": "0f47ff30",
   "metadata": {
    "papermill": {
     "duration": 0.004398,
     "end_time": "2023-10-27T22:50:55.482815",
     "exception": false,
     "start_time": "2023-10-27T22:50:55.478417",
     "status": "completed"
    },
    "tags": []
   },
   "source": [
    "#### Finalización del notebook"
   ]
  },
  {
   "cell_type": "code",
   "execution_count": 11,
   "id": "b069cf1c",
   "metadata": {
    "execution": {
     "iopub.execute_input": "2023-10-27T22:50:55.492211Z",
     "iopub.status.busy": "2023-10-27T22:50:55.491999Z",
     "iopub.status.idle": "2023-10-27T22:50:55.495463Z",
     "shell.execute_reply": "2023-10-27T22:50:55.495036Z"
    },
    "papermill": {
     "duration": 0.009602,
     "end_time": "2023-10-27T22:50:55.496657",
     "exception": false,
     "start_time": "2023-10-27T22:50:55.487055",
     "status": "completed"
    },
    "tags": []
   },
   "outputs": [
    {
     "name": "stdout",
     "output_type": "stream",
     "text": [
      "20231028T005055 : amilcar22 : INFO : Notebook ha tardado 717 seconds\n"
     ]
    }
   ],
   "source": [
    "end_time = datetime.datetime.now()\n",
    "total_time = end_time - start_time\n",
    "myfunc.verbose(f\"Notebook ha tardado {total_time.seconds} seconds\")"
   ]
  },
  {
   "cell_type": "markdown",
   "id": "8c935191",
   "metadata": {
    "papermill": {
     "duration": 0.004219,
     "end_time": "2023-10-27T22:50:55.505377",
     "exception": false,
     "start_time": "2023-10-27T22:50:55.501158",
     "status": "completed"
    },
    "tags": []
   },
   "source": [
    "#### Guardar métricas"
   ]
  },
  {
   "cell_type": "code",
   "execution_count": 12,
   "id": "26af31ed",
   "metadata": {
    "execution": {
     "iopub.execute_input": "2023-10-27T22:50:55.514564Z",
     "iopub.status.busy": "2023-10-27T22:50:55.514376Z",
     "iopub.status.idle": "2023-10-27T22:50:55.720434Z",
     "shell.execute_reply": "2023-10-27T22:50:55.719916Z"
    },
    "papermill": {
     "duration": 0.212224,
     "end_time": "2023-10-27T22:50:55.721784",
     "exception": false,
     "start_time": "2023-10-27T22:50:55.509560",
     "status": "completed"
    },
    "tags": []
   },
   "outputs": [
    {
     "name": "stdout",
     "output_type": "stream",
     "text": [
      "20231028T005055 : amilcar22 : INFO : Inicio guardar métricas multiclase\n",
      "20231028T005055 : amilcar22 : INFO : Inicio leer fichero ../tfm_git/ejecuciones/metricas/metricas_0042.csv\n",
      "20231028T005055 : amilcar22 : INFO : Fin leer fichero ../tfm_git/ejecuciones/metricas/metricas_0042.csv\n"
     ]
    },
    {
     "name": "stdout",
     "output_type": "stream",
     "text": [
      "20231028T005055 : amilcar22 : INFO : Inicio guardar fichero ../tfm_git/ejecuciones/metricas/metricas_0042.csv\n",
      "20231028T005055 : amilcar22 : INFO : Fichero borrado ../tfm_git/ejecuciones/metricas/metricas_0042.csv\n"
     ]
    },
    {
     "name": "stdout",
     "output_type": "stream",
     "text": [
      "20231028T005055 : amilcar22 : INFO : Fin guardar fichero ../tfm_git/ejecuciones/metricas/metricas_0042.csv\n",
      "20231028T005055 : amilcar22 : INFO : Fin guardar métricas multiclase\n",
      "20231028T005055 : amilcar22 : INFO : Inicio leer fichero ../tfm_git/ejecuciones/metricas/metricas_0042.csv\n",
      "20231028T005055 : amilcar22 : INFO : Fin leer fichero ../tfm_git/ejecuciones/metricas/metricas_0042.csv\n"
     ]
    },
    {
     "data": {
      "text/html": [
       "<div>\n",
       "<style scoped>\n",
       "    .dataframe tbody tr th:only-of-type {\n",
       "        vertical-align: middle;\n",
       "    }\n",
       "\n",
       "    .dataframe tbody tr th {\n",
       "        vertical-align: top;\n",
       "    }\n",
       "\n",
       "    .dataframe thead th {\n",
       "        text-align: right;\n",
       "    }\n",
       "</style>\n",
       "<table border=\"1\" class=\"dataframe\">\n",
       "  <thead>\n",
       "    <tr style=\"text-align: right;\">\n",
       "      <th></th>\n",
       "      <th>tipo</th>\n",
       "      <th>select</th>\n",
       "      <th>clasific</th>\n",
       "      <th>accuracy</th>\n",
       "      <th>precision</th>\n",
       "      <th>recall</th>\n",
       "      <th>f1_score</th>\n",
       "      <th>roc_auc</th>\n",
       "      <th>roc_auc_ovr</th>\n",
       "      <th>hostname</th>\n",
       "      <th>total_time_sec</th>\n",
       "      <th>datetime</th>\n",
       "      <th>fichero_modelo</th>\n",
       "      <th>params</th>\n",
       "      <th>shape</th>\n",
       "      <th>features</th>\n",
       "      <th>semilla</th>\n",
       "      <th>indices_auc</th>\n",
       "      <th>indices_jaccard</th>\n",
       "    </tr>\n",
       "  </thead>\n",
       "  <tbody>\n",
       "    <tr>\n",
       "      <th>0</th>\n",
       "      <td>mul_s</td>\n",
       "      <td>MI</td>\n",
       "      <td>LR_L1</td>\n",
       "      <td>0.461538</td>\n",
       "      <td>0.565986</td>\n",
       "      <td>0.487771</td>\n",
       "      <td>0.479136</td>\n",
       "      <td>NaN</td>\n",
       "      <td>0.831382</td>\n",
       "      <td>amilcar22</td>\n",
       "      <td>717</td>\n",
       "      <td>2023-10-28 00:50:55.671180</td>\n",
       "      <td>modelo_0042_mul_s_MI_LR_L1.pkl</td>\n",
       "      <td>{'selector__k': 500, 'clasifier__solver': 'sag...</td>\n",
       "      <td>X_test:(52, 18875)</td>\n",
       "      <td>['ENSG00000005513.10', 'ENSG00000006025.13', '...</td>\n",
       "      <td>42.0</td>\n",
       "      <td>[0.5831485587583148, 0.9147727272727273, 0.747...</td>\n",
       "      <td>[0.2, 0.375, 0.21428571428571427, 0.25, 0.3846...</td>\n",
       "    </tr>\n",
       "    <tr>\n",
       "      <th>0</th>\n",
       "      <td>mul_s</td>\n",
       "      <td>MI</td>\n",
       "      <td>LR_EN</td>\n",
       "      <td>0.519231</td>\n",
       "      <td>0.554762</td>\n",
       "      <td>0.524567</td>\n",
       "      <td>0.512104</td>\n",
       "      <td>NaN</td>\n",
       "      <td>0.843323</td>\n",
       "      <td>amilcar22</td>\n",
       "      <td>1313</td>\n",
       "      <td>2023-10-28 00:38:51.645232</td>\n",
       "      <td>modelo_0042_mul_s_MI_LR_EN.pkl</td>\n",
       "      <td>{'selector__k': 1000, 'clasifier__solver': 'sa...</td>\n",
       "      <td>X_test:(52, 18875)</td>\n",
       "      <td>['ENSG00000003137.9', 'ENSG00000004939.16', 'E...</td>\n",
       "      <td>42.0</td>\n",
       "      <td>[0.6718403547671841, 0.9375, 0.769886363636363...</td>\n",
       "      <td>[0.26666666666666666, 0.625, 0.142857142857142...</td>\n",
       "    </tr>\n",
       "    <tr>\n",
       "      <th>0</th>\n",
       "      <td>mul_s</td>\n",
       "      <td>ANOVA</td>\n",
       "      <td>SVM</td>\n",
       "      <td>0.365385</td>\n",
       "      <td>0.363152</td>\n",
       "      <td>0.374892</td>\n",
       "      <td>0.331833</td>\n",
       "      <td>NaN</td>\n",
       "      <td>0.751310</td>\n",
       "      <td>amilcar22</td>\n",
       "      <td>2</td>\n",
       "      <td>2023-10-28 00:16:52.191244</td>\n",
       "      <td>modelo_0042_mul_s_ANOVA_SVM.pkl</td>\n",
       "      <td>{'selector__k': 200, 'clasifier__kernel': 'rbf...</td>\n",
       "      <td>X_test:(52, 18875)</td>\n",
       "      <td>['ENSG00000000938.13', 'ENSG00000005381.9', 'E...</td>\n",
       "      <td>42.0</td>\n",
       "      <td>[0.39689578713968954, 0.8181818181818181, 0.65...</td>\n",
       "      <td>[0.08333333333333333, 0.5, 0.0, 0.071428571428...</td>\n",
       "    </tr>\n",
       "  </tbody>\n",
       "</table>\n",
       "</div>"
      ],
      "text/plain": [
       "    tipo select clasific  accuracy  precision    recall  f1_score  roc_auc  \\\n",
       "0  mul_s     MI    LR_L1  0.461538   0.565986  0.487771  0.479136      NaN   \n",
       "0  mul_s     MI    LR_EN  0.519231   0.554762  0.524567  0.512104      NaN   \n",
       "0  mul_s  ANOVA      SVM  0.365385   0.363152  0.374892  0.331833      NaN   \n",
       "\n",
       "   roc_auc_ovr   hostname  total_time_sec                    datetime  \\\n",
       "0     0.831382  amilcar22             717  2023-10-28 00:50:55.671180   \n",
       "0     0.843323  amilcar22            1313  2023-10-28 00:38:51.645232   \n",
       "0     0.751310  amilcar22               2  2023-10-28 00:16:52.191244   \n",
       "\n",
       "                    fichero_modelo  \\\n",
       "0   modelo_0042_mul_s_MI_LR_L1.pkl   \n",
       "0   modelo_0042_mul_s_MI_LR_EN.pkl   \n",
       "0  modelo_0042_mul_s_ANOVA_SVM.pkl   \n",
       "\n",
       "                                              params               shape  \\\n",
       "0  {'selector__k': 500, 'clasifier__solver': 'sag...  X_test:(52, 18875)   \n",
       "0  {'selector__k': 1000, 'clasifier__solver': 'sa...  X_test:(52, 18875)   \n",
       "0  {'selector__k': 200, 'clasifier__kernel': 'rbf...  X_test:(52, 18875)   \n",
       "\n",
       "                                            features  semilla  \\\n",
       "0  ['ENSG00000005513.10', 'ENSG00000006025.13', '...     42.0   \n",
       "0  ['ENSG00000003137.9', 'ENSG00000004939.16', 'E...     42.0   \n",
       "0  ['ENSG00000000938.13', 'ENSG00000005381.9', 'E...     42.0   \n",
       "\n",
       "                                         indices_auc  \\\n",
       "0  [0.5831485587583148, 0.9147727272727273, 0.747...   \n",
       "0  [0.6718403547671841, 0.9375, 0.769886363636363...   \n",
       "0  [0.39689578713968954, 0.8181818181818181, 0.65...   \n",
       "\n",
       "                                     indices_jaccard  \n",
       "0  [0.2, 0.375, 0.21428571428571427, 0.25, 0.3846...  \n",
       "0  [0.26666666666666666, 0.625, 0.142857142857142...  \n",
       "0  [0.08333333333333333, 0.5, 0.0, 0.071428571428...  "
      ]
     },
     "metadata": {},
     "output_type": "display_data"
    }
   ],
   "source": [
    "if M_TIPO.startswith(\"bin\"):\n",
    "    myfunc.save_metricas_to_csv(random_search, X_test, y_test, M_TIPO, M_SELECT, M_CLASIF, total_time, SEMILLA, myfunc.MET_DIR, M_FICHERO, fichero_modelo)\n",
    "else:\n",
    "    myfunc.save_metricas_multi_to_csv(random_search, X_test, y_test, M_TIPO, M_SELECT, M_CLASIF, total_time, SEMILLA, myfunc.MET_DIR, M_FICHERO, fichero_modelo)\n",
    "\n",
    "df1=myfunc.read_metricas_to_df(myfunc.MET_DIR,M_FICHERO)\n",
    "\n",
    "display(df1.sort_values(\"datetime\", ascending=False)[:3])\n"
   ]
  },
  {
   "cell_type": "markdown",
   "id": "54520e55",
   "metadata": {
    "papermill": {
     "duration": 0.004719,
     "end_time": "2023-10-27T22:50:55.731955",
     "exception": false,
     "start_time": "2023-10-27T22:50:55.727236",
     "status": "completed"
    },
    "tags": []
   },
   "source": [
    "#### Guardar resultados"
   ]
  },
  {
   "cell_type": "code",
   "execution_count": 13,
   "id": "929084cb",
   "metadata": {
    "execution": {
     "iopub.execute_input": "2023-10-27T22:50:55.741862Z",
     "iopub.status.busy": "2023-10-27T22:50:55.741652Z",
     "iopub.status.idle": "2023-10-27T22:50:55.750497Z",
     "shell.execute_reply": "2023-10-27T22:50:55.749950Z"
    },
    "papermill": {
     "duration": 0.015279,
     "end_time": "2023-10-27T22:50:55.751756",
     "exception": false,
     "start_time": "2023-10-27T22:50:55.736477",
     "status": "completed"
    },
    "tags": []
   },
   "outputs": [
    {
     "name": "stdout",
     "output_type": "stream",
     "text": [
      "20231028T005055 : amilcar22 : INFO : Inicio guardar resultados\n",
      "20231028T005055 : amilcar22 : INFO : Inicio guardar fichero ../tfm_git/ejecuciones/metricas/resultados_0042_mul_s-MI-LR_L1.csv\n",
      "20231028T005055 : amilcar22 : INFO : Fin guardar fichero ../tfm_git/ejecuciones/metricas/resultados_0042_mul_s-MI-LR_L1.csv\n",
      "20231028T005055 : amilcar22 : INFO : Fin guardar resultados\n"
     ]
    }
   ],
   "source": [
    "fichero_resultados=R_FICHERO+\"_\"+M_TIPO+\"-\"+M_SELECT+\"-\"+M_CLASIF+\".csv\"\n",
    "myfunc.save_resultados_to_csv(M_TIPO, M_SELECT, M_CLASIF,  random_search, myfunc.MET_DIR, fichero_resultados)\n"
   ]
  }
 ],
 "metadata": {
  "kernelspec": {
   "display_name": "Python 3 (ipykernel)",
   "language": "python",
   "name": "python3"
  },
  "language_info": {
   "codemirror_mode": {
    "name": "ipython",
    "version": 3
   },
   "file_extension": ".py",
   "mimetype": "text/x-python",
   "name": "python",
   "nbconvert_exporter": "python",
   "pygments_lexer": "ipython3",
   "version": "3.10.12"
  },
  "papermill": {
   "default_parameters": {},
   "duration": 722.499111,
   "end_time": "2023-10-27T22:50:58.374996",
   "environment_variables": {},
   "exception": null,
   "input_path": "03_entrenamiento.ipynb",
   "output_path": "ejecuciones/training/03_entrenamiento.20231028T003855.param_0000_0042_mul_s_MI_LR_L1.output.ipynb",
   "parameters": {
    "MAX_ITERS": 500,
    "M_CLASIF": "LR_L1",
    "M_FICHERO": "metricas_0042",
    "M_SELECT": "MI",
    "M_TIPO": "mul_s",
    "PRE_DATA_FILE": "rows_transpose_norm_by_gene_id_with_target_num_",
    "P_FICHERO": "param_0000_0042_mul_s_MI_LR_L1.yaml",
    "R_FICHERO": "resultados_0042",
    "SCORING": "roc_auc_ovr",
    "SEMILLA": 42,
    "eval_clasifier": "LogisticRegressionCV(random_state=SEMILLA)",
    "eval_selector": "SelectKBest(score_func=mutual_info_classif_state)",
    "param_distributions": {
     "clasifier__max_iter": [
      10000
     ],
     "clasifier__penalty": [
      "l1"
     ],
     "clasifier__solver": [
      "saga"
     ],
     "selector__k": [
      500
     ]
    }
   },
   "start_time": "2023-10-27T22:38:55.875885",
   "version": "2.4.0"
  }
 },
 "nbformat": 4,
 "nbformat_minor": 5
}