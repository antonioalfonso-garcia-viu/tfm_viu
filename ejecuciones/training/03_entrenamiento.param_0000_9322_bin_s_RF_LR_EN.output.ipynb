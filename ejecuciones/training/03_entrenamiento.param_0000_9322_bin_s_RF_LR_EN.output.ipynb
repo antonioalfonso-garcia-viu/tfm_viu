{
 "cells": [
  {
   "cell_type": "markdown",
   "id": "7fd9d31a",
   "metadata": {
    "papermill": {
     "duration": 0.005321,
     "end_time": "2023-10-30T02:52:26.491095",
     "exception": false,
     "start_time": "2023-10-30T02:52:26.485774",
     "status": "completed"
    },
    "tags": []
   },
   "source": [
    "##### Inicio"
   ]
  },
  {
   "cell_type": "markdown",
   "id": "c6ebf4ae",
   "metadata": {
    "papermill": {
     "duration": 0.003544,
     "end_time": "2023-10-30T02:52:26.498351",
     "exception": false,
     "start_time": "2023-10-30T02:52:26.494807",
     "status": "completed"
    },
    "tags": []
   },
   "source": [
    "#### Carga de datos"
   ]
  },
  {
   "cell_type": "code",
   "execution_count": 1,
   "id": "2c2841b1",
   "metadata": {
    "execution": {
     "iopub.execute_input": "2023-10-30T02:52:26.506752Z",
     "iopub.status.busy": "2023-10-30T02:52:26.506171Z",
     "iopub.status.idle": "2023-10-30T02:52:27.610316Z",
     "shell.execute_reply": "2023-10-30T02:52:27.609681Z"
    },
    "papermill": {
     "duration": 1.110293,
     "end_time": "2023-10-30T02:52:27.612051",
     "exception": false,
     "start_time": "2023-10-30T02:52:26.501758",
     "status": "completed"
    },
    "tags": []
   },
   "outputs": [
    {
     "name": "stdout",
     "output_type": "stream",
     "text": [
      "CPU_COUNT: 16; NODE: enderlab; sys.version: 3.10.11 (main, May 16 2023, 00:28:57) [GCC 11.2.0]\n",
      "LOKY_MAX_CPU_COUNT is not set.\n",
      "OMP_NUM_THREADS is not set.\n"
     ]
    }
   ],
   "source": [
    "import os\n",
    "import numpy as np\n",
    "import pandas as pd\n",
    "import datetime\n",
    "import sklearn\n",
    "import logging\n",
    "import warnings\n",
    "\n",
    "from sklearn.pipeline import Pipeline\n",
    "from sklearn.model_selection import RandomizedSearchCV, KFold, cross_val_score, train_test_split\n",
    "from sklearn.metrics import accuracy_score, confusion_matrix, classification_report, roc_auc_score\n",
    "\n",
    "#  cargar algoritmos para aprendizaje supervisado\n",
    "from sklearn.feature_selection import SelectKBest, f_classif, SelectFromModel, mutual_info_classif\n",
    "from sklearn.svm import SVC\n",
    "from sklearn.ensemble import RandomForestClassifier\n",
    "from sklearn.linear_model import LogisticRegression,LogisticRegressionCV\n",
    "\n",
    "# importar fichero con utilidades propias\n",
    "from commons import myfunctions as myfunc\n"
   ]
  },
  {
   "cell_type": "markdown",
   "id": "1639e427",
   "metadata": {
    "papermill": {
     "duration": 0.003679,
     "end_time": "2023-10-30T02:52:27.620049",
     "exception": false,
     "start_time": "2023-10-30T02:52:27.616370",
     "status": "completed"
    },
    "tags": []
   },
   "source": [
    "#### Parámetros a utilizar en el entrenamiento.\n",
    "\n",
    "Se indican los 3 algoritmos de *selección de características* (eval_selector_xxx) y los 3 algoritmos para la _clasificación_ (eval_clasifier_xxx)\n",
    "\n",
    "En *param_distributions* se indicar los parámetros que utilizan los algoritmos en la función RandomSearchCV.\n",
    "\n",
    "Esta celda tiene la etiqueta **parameters** que servirá para poder lanzar los entrenamientos con la utilidad **papermill** pasándole un fichero con los parámetros. Los nuevos parámetros se situarán tras esta celda para tener prevalencia."
   ]
  },
  {
   "cell_type": "code",
   "execution_count": 2,
   "id": "9aff1b12",
   "metadata": {
    "execution": {
     "iopub.execute_input": "2023-10-30T02:52:27.628372Z",
     "iopub.status.busy": "2023-10-30T02:52:27.627969Z",
     "iopub.status.idle": "2023-10-30T02:52:27.636766Z",
     "shell.execute_reply": "2023-10-30T02:52:27.636203Z"
    },
    "papermill": {
     "duration": 0.014515,
     "end_time": "2023-10-30T02:52:27.638005",
     "exception": false,
     "start_time": "2023-10-30T02:52:27.623490",
     "status": "completed"
    },
    "tags": [
     "parameters"
    ]
   },
   "outputs": [
    {
     "name": "stdout",
     "output_type": "stream",
     "text": [
      "20231030T035227 : enderlab : INFO : Utilizando parámetros de mul_m\n"
     ]
    }
   ],
   "source": [
    "#  Parametros para el entrenamiento\n",
    "\n",
    "SEMILLA=        42\n",
    "M_TIPO=         \"mul_m\"\n",
    "M_SELECT=       \"MI\"\n",
    "M_CLASIF=       \"SVM\"\n",
    "R_FICHERO=      \"resultados\"\n",
    "M_FICHERO=      \"metricas\"\n",
    "PRE_DATA_FILE=  \"rows_transpose_norm_by_gene_id_with_target_num_\"\n",
    "SCORING=        \"roc_auc_ovr\" \n",
    "MAX_ITERS=      100\n",
    "\n",
    "def mutual_info_classif_state(X, y):\n",
    "    return mutual_info_classif(X, y, random_state=SEMILLA)\n",
    "\n",
    "eval_selector_mi = \"SelectKBest(score_func=mutual_info_classif_state)\"\n",
    "eval_selector_rf=  \"SelectFromModel(estimator=RandomForestClassifier(random_state=SEMILLA), threshold=-np.inf)\"\n",
    "eval_selector_anova=  \"SelectKBest(score_func=f_classif)\"\n",
    "\n",
    "eval_clasifier_svm= \"SVC(probability=True, random_state=SEMILLA)\"\n",
    "eval_clasifier_rf= \"RandomForestClassifier(random_state=SEMILLA)\"\n",
    "eval_clasifier_lr= \"LogisticRegressionCV(random_state=SEMILLA)\"\n",
    "\n",
    "if M_TIPO.startswith(\"bin_m\"):\n",
    "    myfunc.verbose(f\"Utilizando parámetros de {M_TIPO}\")\n",
    "    eval_selector = eval_selector_mi\n",
    "    eval_clasifier = eval_clasifier_svm\n",
    "\n",
    "    SEMILLA = 6578\n",
    "    M_SELECT = \"MI\"\n",
    "    M_CLASIF = \"SVM\"\n",
    "    param_distributions = {'selector__k': [1000], \n",
    "         'clasifier__kernel': ['rbf'], 'clasifier__gamma': [0.01], 'clasifier__C': [100]}\n",
    "elif M_TIPO.startswith(\"bin_s\"):\n",
    "    myfunc.verbose(f\"Utilizando parámetros de {M_TIPO}\")\n",
    "    eval_selector = eval_selector_rf\n",
    "    eval_clasifier = eval_clasifier_lr\n",
    "\n",
    "    SEMILLA = 6191\n",
    "    M_SELECT = \"RF\"\n",
    "    M_CLASIF = \"LR_L2\"\n",
    "    param_distributions = {'selector__max_features': [1000], 'selector__estimator__n_estimators': [200], \n",
    "        'clasifier__solver': ['lbfgs'], 'clasifier__penalty': ['l2'], 'clasifier__max_iter': [10000]}\n",
    "\n",
    "elif M_TIPO.startswith(\"mul_m\"):\n",
    "    myfunc.verbose(f\"Utilizando parámetros de {M_TIPO}\")\n",
    " \n",
    "    eval_selector = eval_selector_rf\n",
    "    eval_clasifier = eval_clasifier_lr\n",
    "\n",
    "    SEMILLA = 6191\n",
    "    M_SELECT = \"RF\"\n",
    "    M_CLASIF = \"LR_L2\"\n",
    "    param_distributions = {'selector__max_features': [1000], 'selector__estimator__n_estimators': [400], \n",
    "        'clasifier__solver': ['lbfgs'], 'clasifier__penalty': ['l2'], 'clasifier__max_iter': [10000]}\n",
    "\n",
    "else:\n",
    "    # M_TIPO.startswith(\"mul_s\"):\n",
    "    myfunc.verbose(f\"Utilizando parámetros de {M_TIPO}\")\n",
    "    eval_selector = eval_selector_anova\n",
    "    eval_clasifier = eval_clasifier_lr\n",
    "\n",
    "    SEMILLA = 1860\n",
    "    M_SELECT = \"ANOVA\"\n",
    "    M_CLASIF = \"LR_L2\"\n",
    "    param_distributions = {'selector__k': [1000], \n",
    "        'clasifier__solver': ['saga'], 'clasifier__penalty': ['l2'], 'clasifier__max_iter': [10000]}\n",
    "\n"
   ]
  },
  {
   "cell_type": "code",
   "execution_count": 3,
   "id": "1bdb5ab3",
   "metadata": {
    "execution": {
     "iopub.execute_input": "2023-10-30T02:52:27.646403Z",
     "iopub.status.busy": "2023-10-30T02:52:27.645909Z",
     "iopub.status.idle": "2023-10-30T02:52:27.649948Z",
     "shell.execute_reply": "2023-10-30T02:52:27.649441Z"
    },
    "papermill": {
     "duration": 0.009561,
     "end_time": "2023-10-30T02:52:27.651118",
     "exception": false,
     "start_time": "2023-10-30T02:52:27.641557",
     "status": "completed"
    },
    "tags": [
     "injected-parameters"
    ]
   },
   "outputs": [],
   "source": [
    "# Parameters\n",
    "M_TIPO = \"bin_s\"\n",
    "M_SELECT = \"RF\"\n",
    "M_CLASIF = \"LR_EN\"\n",
    "P_FICHERO = \"param_0000_9322_bin_s_RF_LR_EN.yaml\"\n",
    "R_FICHERO = \"resultados_9322\"\n",
    "M_FICHERO = \"metricas_9322\"\n",
    "PRE_DATA_FILE = \"rows_transpose_norm_by_gene_id_with_target_num_\"\n",
    "SCORING = \"roc_auc_ovr\"\n",
    "SEMILLA = 9322\n",
    "MAX_ITERS = 500\n",
    "eval_selector = \"SelectFromModel(estimator=RandomForestClassifier(random_state=SEMILLA), threshold=-np.inf)\"\n",
    "eval_clasifier = \"LogisticRegressionCV(random_state=SEMILLA)\"\n",
    "param_distributions = {\n",
    "    \"selector__max_features\": [500],\n",
    "    \"selector__estimator__n_estimators\": [100],\n",
    "    \"clasifier__solver\": [\"saga\"],\n",
    "    \"clasifier__penalty\": [\"elasticnet\"],\n",
    "    \"clasifier__max_iter\": [10000],\n",
    "    \"clasifier__l1_ratios\": [[0.1]],\n",
    "}\n"
   ]
  },
  {
   "cell_type": "code",
   "execution_count": 4,
   "id": "5fe35541",
   "metadata": {
    "execution": {
     "iopub.execute_input": "2023-10-30T02:52:27.659492Z",
     "iopub.status.busy": "2023-10-30T02:52:27.659115Z",
     "iopub.status.idle": "2023-10-30T02:52:27.662322Z",
     "shell.execute_reply": "2023-10-30T02:52:27.661812Z"
    },
    "papermill": {
     "duration": 0.008761,
     "end_time": "2023-10-30T02:52:27.663583",
     "exception": false,
     "start_time": "2023-10-30T02:52:27.654822",
     "status": "completed"
    },
    "tags": []
   },
   "outputs": [],
   "source": [
    "DATA_FILE = PRE_DATA_FILE + M_TIPO\n",
    "\n",
    "# si viene \"None\" en el parámetro max_depth, se le quitan las comillas para que no sea entendido por el algoritmo como un texto\n",
    "if \"clasifier__max_depth\" in param_distributions:\n",
    "    param_distributions['clasifier__max_depth'] = [None if x == 'None' else x for x in param_distributions['clasifier__max_depth']]"
   ]
  },
  {
   "cell_type": "markdown",
   "id": "d171a3db",
   "metadata": {
    "papermill": {
     "duration": 0.003852,
     "end_time": "2023-10-30T02:52:27.670953",
     "exception": false,
     "start_time": "2023-10-30T02:52:27.667101",
     "status": "completed"
    },
    "tags": []
   },
   "source": [
    "Asignar los algoritmos que se utilizarán en la función RandomSearchCV"
   ]
  },
  {
   "cell_type": "code",
   "execution_count": 5,
   "id": "3207b0b9",
   "metadata": {
    "execution": {
     "iopub.execute_input": "2023-10-30T02:52:27.679246Z",
     "iopub.status.busy": "2023-10-30T02:52:27.678822Z",
     "iopub.status.idle": "2023-10-30T02:52:27.681800Z",
     "shell.execute_reply": "2023-10-30T02:52:27.681277Z"
    },
    "papermill": {
     "duration": 0.008471,
     "end_time": "2023-10-30T02:52:27.683005",
     "exception": false,
     "start_time": "2023-10-30T02:52:27.674534",
     "status": "completed"
    },
    "tags": []
   },
   "outputs": [],
   "source": [
    "algor_selector=eval(eval_selector)\n",
    "algor_clasifier=eval(eval_clasifier)"
   ]
  },
  {
   "cell_type": "markdown",
   "id": "f52e4035",
   "metadata": {
    "papermill": {
     "duration": 0.003462,
     "end_time": "2023-10-30T02:52:27.690063",
     "exception": false,
     "start_time": "2023-10-30T02:52:27.686601",
     "status": "completed"
    },
    "tags": []
   },
   "source": [
    "#### Comprobar el entorno y leer fichero de muestras"
   ]
  },
  {
   "cell_type": "code",
   "execution_count": 6,
   "id": "6719837f",
   "metadata": {
    "execution": {
     "iopub.execute_input": "2023-10-30T02:52:27.699137Z",
     "iopub.status.busy": "2023-10-30T02:52:27.698784Z",
     "iopub.status.idle": "2023-10-30T02:52:27.947925Z",
     "shell.execute_reply": "2023-10-30T02:52:27.947296Z"
    },
    "papermill": {
     "duration": 0.254743,
     "end_time": "2023-10-30T02:52:27.949307",
     "exception": false,
     "start_time": "2023-10-30T02:52:27.694564",
     "status": "completed"
    },
    "tags": []
   },
   "outputs": [
    {
     "name": "stdout",
     "output_type": "stream",
     "text": [
      "20231030T035227 : enderlab : INFO : Encontrada carpeta DATA_DIR=../tfm_git/datos\n",
      "20231030T035227 : enderlab : INFO : Encontrada carpeta CFDNA_DIR=../tfm_git/datos/cfDNA_5hmC\n",
      "20231030T035227 : enderlab : INFO : Encontrada carpeta GENCODE_DIR=../tfm_git/datos/gencode\n",
      "20231030T035227 : enderlab : INFO : Encontrada carpeta H5_DIR=../tfm_git/datos/h5\n",
      "20231030T035227 : enderlab : INFO : Encontrada carpeta LOG_DIR=../tfm_git/datos/logs\n",
      "20231030T035227 : enderlab : INFO : Encontrada carpeta CSV_DIR=../tfm_git/datos/csv\n",
      "20231030T035227 : enderlab : INFO : Encontrada carpeta MODEL_DIR=../tfm_git/ejecuciones/modelos\n",
      "20231030T035227 : enderlab : INFO : Encontrada carpeta EXEC_DIR=../tfm_git/ejecuciones\n",
      "20231030T035227 : enderlab : INFO : Encontrada carpeta MET_DIR=../tfm_git/ejecuciones/metricas\n",
      "20231030T035227 : enderlab : INFO : Inicio leer fichero h5 ../tfm_git/datos/h5/rows_transpose_norm_by_gene_id_with_target_num_bin_s.h5\n",
      "20231030T035227 : enderlab : INFO : Leyendo clave /df\n"
     ]
    },
    {
     "name": "stdout",
     "output_type": "stream",
     "text": [
      "20231030T035227 : enderlab : INFO : Tamaño (443, 18876)\n",
      "20231030T035227 : enderlab : INFO : Fin leer fichero h5 ../tfm_git/datos/h5/rows_transpose_norm_by_gene_id_with_target_num_bin_s.h5\n"
     ]
    },
    {
     "data": {
      "text/plain": [
       "target\n",
       "0    221\n",
       "1    222\n",
       "dtype: int64"
      ]
     },
     "metadata": {},
     "output_type": "display_data"
    },
    {
     "name": "stdout",
     "output_type": "stream",
     "text": [
      "Shape df: (443, 18876)\n"
     ]
    },
    {
     "name": "stdout",
     "output_type": "stream",
     "text": [
      "Shape X_train: (354, 18875)\n",
      "Shape X_test: (89, 18875)\n"
     ]
    }
   ],
   "source": [
    "start_time = datetime.datetime.now()\n",
    "\n",
    "myfunc.reset_vars()\n",
    "\n",
    "myfunc.NOTEBK_FILENAME = myfunc.get_nb_name()\n",
    "\n",
    "myfunc.check_enviroment(myfunc.DATA_DIR, myfunc.CFDNA_DIR, myfunc.GENCODE_DIR, myfunc.H5_DIR, myfunc.LOG_DIR, myfunc.CSV_DIR, myfunc.MODEL_DIR, myfunc.EXEC_DIR, myfunc.MET_DIR)\n",
    "\n",
    "# Leer fichero con las muestras\n",
    "df_t = myfunc.read_h5_to_df(DATA_FILE, myfunc.H5_DIR)\n",
    "display(df_t.groupby(\"target\").size())\n",
    "print(\"Shape df:\",df_t.shape)\n",
    "\n",
    "# Separar caracteristicas/genes de las etiquetas/tipos de cáncer\n",
    "X = df_t.iloc[:, :-1]  # Todas las columnas excepto la última\n",
    "y = df_t.iloc[:, -1]  # La última columna contiene los identificadores de los tipos de cáncer\n",
    "\n",
    "#  Crear el conjunto de datos de entrenamiento y de pruebas, y se fija la semilla para siempre coger el mismo juego de muestras\n",
    "X_train, X_test, y_train, y_test = train_test_split(X, y, test_size=0.2, shuffle=True, random_state=42)\n",
    "print(\"Shape X_train:\",X_train.shape)\n",
    "print(\"Shape X_test:\",X_test.shape)\n"
   ]
  },
  {
   "cell_type": "markdown",
   "id": "dc46ae3f",
   "metadata": {
    "papermill": {
     "duration": 0.004265,
     "end_time": "2023-10-30T02:52:27.958316",
     "exception": false,
     "start_time": "2023-10-30T02:52:27.954051",
     "status": "completed"
    },
    "tags": []
   },
   "source": [
    "#### Selección de características y clasificación."
   ]
  },
  {
   "cell_type": "code",
   "execution_count": 7,
   "id": "7dc4e741",
   "metadata": {
    "execution": {
     "iopub.execute_input": "2023-10-30T02:52:27.968796Z",
     "iopub.status.busy": "2023-10-30T02:52:27.968144Z",
     "iopub.status.idle": "2023-10-30T02:55:23.225760Z",
     "shell.execute_reply": "2023-10-30T02:55:23.224430Z"
    },
    "papermill": {
     "duration": 175.268431,
     "end_time": "2023-10-30T02:55:23.230779",
     "exception": false,
     "start_time": "2023-10-30T02:52:27.962348",
     "status": "completed"
    },
    "tags": []
   },
   "outputs": [
    {
     "name": "stdout",
     "output_type": "stream",
     "text": [
      "20231030T035227 : enderlab : INFO : Iniciando entrenamiento\n",
      "num_iter: 1 , max_iter: 1\n",
      "Fitting 5 folds for each of 1 candidates, totalling 5 fits\n"
     ]
    },
    {
     "name": "stdout",
     "output_type": "stream",
     "text": [
      "Mejores Hiperparámetros: {'selector__max_features': 500, 'selector__estimator__n_estimators': 100, 'clasifier__solver': 'saga', 'clasifier__penalty': 'elasticnet', 'clasifier__max_iter': 10000, 'clasifier__l1_ratios': [0.1]}\n",
      "Mejor Puntuación: 0.7657\n",
      "20231030T035523 : enderlab : INFO : Fin entrenamiento\n"
     ]
    }
   ],
   "source": [
    "myfunc.verbose(\"Iniciando entrenamiento\")\n",
    "\n",
    "kf = KFold(n_splits=5, shuffle=True, random_state=SEMILLA)\n",
    "\n",
    "# Crear el pipeline para el flujo de tareas\n",
    "tasks_pipeline = Pipeline([\n",
    "    ('selector', algor_selector),\n",
    "    ('clasifier', algor_clasifier)\n",
    "])\n",
    "\n",
    "# MAX_ITERS puede limitar el número de iteraciones si son excesivas para las combinaciones de parámetros buscando un óptimo local, \n",
    "# sino funcionaría como GridSearchCV al revisar todas las cominaciones de los parámetros\n",
    "num_iteraciones = 1\n",
    "num_iteraciones = num_iteraciones * np.prod([len(elemento1) for _, elemento1 in param_distributions.items()])\n",
    "max_iteraciones = num_iteraciones if num_iteraciones <= MAX_ITERS else MAX_ITERS\n",
    "print(\"num_iter:\",num_iteraciones,\", max_iter:\",max_iteraciones)\n",
    "\n",
    "random_search = RandomizedSearchCV(\n",
    "    tasks_pipeline, \n",
    "    param_distributions, \n",
    "    n_iter=max_iteraciones,\n",
    "    scoring=SCORING,\n",
    "    cv=kf,\n",
    "    verbose=3, \n",
    "    random_state=SEMILLA, \n",
    "    n_jobs=-1\n",
    "    )\n",
    "\n",
    "# Entrenar el modelo\n",
    "random_search.fit(X_train, y_train)\n",
    "\n",
    "# Ver los mejores hiperparámetros encontrados\n",
    "print(f'Mejores Hiperparámetros: {random_search.best_params_}')\n",
    "print(f'Mejor Puntuación: {random_search.best_score_:.4f}')\n",
    "\n",
    "# Nos quedamos con el mejor modelo para ver las métricas\n",
    "mejor_modelo = random_search.best_estimator_\n",
    "\n",
    "myfunc.verbose(\"Fin entrenamiento\")"
   ]
  },
  {
   "cell_type": "markdown",
   "id": "7d60e33d",
   "metadata": {
    "papermill": {
     "duration": 0.004112,
     "end_time": "2023-10-30T02:55:23.239443",
     "exception": false,
     "start_time": "2023-10-30T02:55:23.235331",
     "status": "completed"
    },
    "tags": []
   },
   "source": [
    "#### Guardar modelo"
   ]
  },
  {
   "cell_type": "code",
   "execution_count": 8,
   "id": "095beb14",
   "metadata": {
    "execution": {
     "iopub.execute_input": "2023-10-30T02:55:23.249074Z",
     "iopub.status.busy": "2023-10-30T02:55:23.248719Z",
     "iopub.status.idle": "2023-10-30T02:55:23.299744Z",
     "shell.execute_reply": "2023-10-30T02:55:23.299176Z"
    },
    "papermill": {
     "duration": 0.057544,
     "end_time": "2023-10-30T02:55:23.301039",
     "exception": false,
     "start_time": "2023-10-30T02:55:23.243495",
     "status": "completed"
    },
    "tags": []
   },
   "outputs": [
    {
     "name": "stdout",
     "output_type": "stream",
     "text": [
      "20231030T035523 : enderlab : INFO : Inicio guardar fichero ../tfm_git/ejecuciones/modelos/modelo_9322_bin_s_RF_LR_EN.pkl\n",
      "20231030T035523 : enderlab : INFO : Fin guardar fichero ../tfm_git/ejecuciones/modelos/modelo_9322_bin_s_RF_LR_EN.pkl\n"
     ]
    }
   ],
   "source": [
    "fichero_modelo = str.replace(\"modelo_\"+str(SEMILLA).zfill(4)+\"_\"+M_TIPO+\"_\"+M_SELECT+\"_\"+M_CLASIF+\".pkl\", \" \", \"_\")\n",
    "\n",
    "myfunc.save_modelo(mejor_modelo, myfunc.MODEL_DIR, fichero_modelo)"
   ]
  },
  {
   "cell_type": "markdown",
   "id": "1039b886",
   "metadata": {
    "papermill": {
     "duration": 0.004182,
     "end_time": "2023-10-30T02:55:23.309438",
     "exception": false,
     "start_time": "2023-10-30T02:55:23.305256",
     "status": "completed"
    },
    "tags": []
   },
   "source": [
    "#### Ver resultados del las iteraciones hechas por RandomSearchCV"
   ]
  },
  {
   "cell_type": "code",
   "execution_count": 9,
   "id": "923be7e6",
   "metadata": {
    "execution": {
     "iopub.execute_input": "2023-10-30T02:55:23.321741Z",
     "iopub.status.busy": "2023-10-30T02:55:23.321214Z",
     "iopub.status.idle": "2023-10-30T02:55:23.328512Z",
     "shell.execute_reply": "2023-10-30T02:55:23.327960Z"
    },
    "papermill": {
     "duration": 0.014823,
     "end_time": "2023-10-30T02:55:23.329819",
     "exception": false,
     "start_time": "2023-10-30T02:55:23.314996",
     "status": "completed"
    },
    "tags": []
   },
   "outputs": [
    {
     "name": "stdout",
     "output_type": "stream",
     "text": [
      "20231030T035523 : enderlab : INFO : Inicio ver resultados\n",
      "Mejores Hiperparámetros: {'selector__max_features': 500, 'selector__estimator__n_estimators': 100, 'clasifier__solver': 'saga', 'clasifier__penalty': 'elasticnet', 'clasifier__max_iter': 10000, 'clasifier__l1_ratios': [0.1]}\n",
      "Mejores puntuaciones: 0.7657 | Params: {'selector__max_features': 500, 'selector__estimator__n_estimators': 100, 'clasifier__solver': 'saga', 'clasifier__penalty': 'elasticnet', 'clasifier__max_iter': 10000, 'clasifier__l1_ratios': [0.1]}\n",
      "Media de las puntuaciones: 0.7657 | Params: {'selector__max_features': 500, 'selector__estimator__n_estimators': 100, 'clasifier__solver': 'saga', 'clasifier__penalty': 'elasticnet', 'clasifier__max_iter': 10000, 'clasifier__l1_ratios': [0.1]}\n",
      "20231030T035523 : enderlab : INFO : Fin resultados\n"
     ]
    }
   ],
   "source": [
    "myfunc.ver_resultados_search(random_search)"
   ]
  },
  {
   "cell_type": "markdown",
   "id": "5e08a02d",
   "metadata": {
    "papermill": {
     "duration": 0.004429,
     "end_time": "2023-10-30T02:55:23.338577",
     "exception": false,
     "start_time": "2023-10-30T02:55:23.334148",
     "status": "completed"
    },
    "tags": []
   },
   "source": [
    "#### Ver métricas del mejor modelo"
   ]
  },
  {
   "cell_type": "code",
   "execution_count": 10,
   "id": "705957e1",
   "metadata": {
    "execution": {
     "iopub.execute_input": "2023-10-30T02:55:23.348684Z",
     "iopub.status.busy": "2023-10-30T02:55:23.348287Z",
     "iopub.status.idle": "2023-10-30T02:55:23.902762Z",
     "shell.execute_reply": "2023-10-30T02:55:23.902167Z"
    },
    "papermill": {
     "duration": 0.561132,
     "end_time": "2023-10-30T02:55:23.904288",
     "exception": false,
     "start_time": "2023-10-30T02:55:23.343156",
     "status": "completed"
    },
    "tags": []
   },
   "outputs": [
    {
     "name": "stdout",
     "output_type": "stream",
     "text": [
      "20231030T035523 : enderlab : INFO : Inicio ver métricas\n"
     ]
    },
    {
     "name": "stdout",
     "output_type": "stream",
     "text": [
      "              precision    recall  f1-score   support\n",
      "\n",
      "           0       0.71      0.74      0.72        46\n",
      "           1       0.71      0.67      0.69        43\n",
      "\n",
      "    accuracy                           0.71        89\n",
      "   macro avg       0.71      0.71      0.71        89\n",
      "weighted avg       0.71      0.71      0.71        89\n",
      "\n",
      "\n",
      "\n",
      "   Exactitud: 0.7079\n",
      "   Precisión: 0.7078\n",
      "Sensibilidad: 0.7068\n",
      "    F1-score: 0.7069\n",
      "     AUC ROC: 0.7872\n"
     ]
    },
    {
     "data": {
      "image/png": "[encoded data removed]",
      "text/plain": [
       "<Figure size 300x100 with 2 Axes>"
      ]
     },
     "metadata": {},
     "output_type": "display_data"
    },
    {
     "data": {
      "image/png": "[encoded data removed]",
      "text/plain": [
       "<Figure size 800x500 with 1 Axes>"
      ]
     },
     "metadata": {},
     "output_type": "display_data"
    },
    {
     "name": "stdout",
     "output_type": "stream",
     "text": [
      "20231030T035523 : enderlab : INFO : Fin ver métricas\n"
     ]
    }
   ],
   "source": [
    "if M_TIPO.startswith(\"bin\"):\n",
    "    myfunc.ver_metricas(mejor_modelo, X_test, y_test)\n",
    "else:\n",
    "    myfunc.ver_metricas_multi(mejor_modelo, X_test, y_test)\n"
   ]
  },
  {
   "cell_type": "markdown",
   "id": "7f3dbd8c",
   "metadata": {
    "papermill": {
     "duration": 0.005283,
     "end_time": "2023-10-30T02:55:23.915226",
     "exception": false,
     "start_time": "2023-10-30T02:55:23.909943",
     "status": "completed"
    },
    "tags": []
   },
   "source": [
    "#### Finalización del notebook"
   ]
  },
  {
   "cell_type": "code",
   "execution_count": 11,
   "id": "462f9cfe",
   "metadata": {
    "execution": {
     "iopub.execute_input": "2023-10-30T02:55:23.926660Z",
     "iopub.status.busy": "2023-10-30T02:55:23.926136Z",
     "iopub.status.idle": "2023-10-30T02:55:23.929974Z",
     "shell.execute_reply": "2023-10-30T02:55:23.929440Z"
    },
    "papermill": {
     "duration": 0.01089,
     "end_time": "2023-10-30T02:55:23.931192",
     "exception": false,
     "start_time": "2023-10-30T02:55:23.920302",
     "status": "completed"
    },
    "tags": []
   },
   "outputs": [
    {
     "name": "stdout",
     "output_type": "stream",
     "text": [
      "20231030T035523 : enderlab : INFO : Notebook ha tardado 176 seconds\n"
     ]
    }
   ],
   "source": [
    "end_time = datetime.datetime.now()\n",
    "total_time = end_time - start_time\n",
    "myfunc.verbose(f\"Notebook ha tardado {total_time.seconds} seconds\")"
   ]
  },
  {
   "cell_type": "markdown",
   "id": "62729caf",
   "metadata": {
    "papermill": {
     "duration": 0.005116,
     "end_time": "2023-10-30T02:55:23.941588",
     "exception": false,
     "start_time": "2023-10-30T02:55:23.936472",
     "status": "completed"
    },
    "tags": []
   },
   "source": [
    "#### Guardar métricas"
   ]
  },
  {
   "cell_type": "code",
   "execution_count": 12,
   "id": "799e0add",
   "metadata": {
    "execution": {
     "iopub.execute_input": "2023-10-30T02:55:23.953126Z",
     "iopub.status.busy": "2023-10-30T02:55:23.952642Z",
     "iopub.status.idle": "2023-10-30T02:55:24.274494Z",
     "shell.execute_reply": "2023-10-30T02:55:24.273934Z"
    },
    "papermill": {
     "duration": 0.329117,
     "end_time": "2023-10-30T02:55:24.275813",
     "exception": false,
     "start_time": "2023-10-30T02:55:23.946696",
     "status": "completed"
    },
    "tags": []
   },
   "outputs": [
    {
     "name": "stdout",
     "output_type": "stream",
     "text": [
      "20231030T035523 : enderlab : INFO : Inicio guardar métricas\n",
      "20231030T035523 : enderlab : INFO : Inicio leer fichero ../tfm_git/ejecuciones/metricas/metricas_9322.csv\n",
      "20231030T035524 : enderlab : INFO : Fin leer fichero ../tfm_git/ejecuciones/metricas/metricas_9322.csv\n"
     ]
    },
    {
     "name": "stdout",
     "output_type": "stream",
     "text": [
      "20231030T035524 : enderlab : INFO : Inicio guardar fichero ../tfm_git/ejecuciones/metricas/metricas_9322.csv\n",
      "20231030T035524 : enderlab : INFO : Fichero borrado ../tfm_git/ejecuciones/metricas/metricas_9322.csv\n",
      "20231030T035524 : enderlab : INFO : Fin guardar fichero ../tfm_git/ejecuciones/metricas/metricas_9322.csv\n",
      "20231030T035524 : enderlab : INFO : Fin guardar métricas\n",
      "20231030T035524 : enderlab : INFO : Inicio leer fichero ../tfm_git/ejecuciones/metricas/metricas_9322.csv\n",
      "20231030T035524 : enderlab : INFO : Fin leer fichero ../tfm_git/ejecuciones/metricas/metricas_9322.csv\n"
     ]
    },
    {
     "data": {
      "text/html": [
       "<div>\n",
       "<style scoped>\n",
       "    .dataframe tbody tr th:only-of-type {\n",
       "        vertical-align: middle;\n",
       "    }\n",
       "\n",
       "    .dataframe tbody tr th {\n",
       "        vertical-align: top;\n",
       "    }\n",
       "\n",
       "    .dataframe thead th {\n",
       "        text-align: right;\n",
       "    }\n",
       "</style>\n",
       "<table border=\"1\" class=\"dataframe\">\n",
       "  <thead>\n",
       "    <tr style=\"text-align: right;\">\n",
       "      <th></th>\n",
       "      <th>tipo</th>\n",
       "      <th>select</th>\n",
       "      <th>clasific</th>\n",
       "      <th>semilla</th>\n",
       "      <th>accuracy</th>\n",
       "      <th>precision</th>\n",
       "      <th>recall</th>\n",
       "      <th>f1_score</th>\n",
       "      <th>roc_auc</th>\n",
       "      <th>hostname</th>\n",
       "      <th>total_time_sec</th>\n",
       "      <th>datetime</th>\n",
       "      <th>fichero_modelo</th>\n",
       "      <th>params</th>\n",
       "      <th>shape</th>\n",
       "      <th>features</th>\n",
       "    </tr>\n",
       "  </thead>\n",
       "  <tbody>\n",
       "    <tr>\n",
       "      <th>0</th>\n",
       "      <td>bin_s</td>\n",
       "      <td>RF</td>\n",
       "      <td>LR_EN</td>\n",
       "      <td>9322</td>\n",
       "      <td>0.707865</td>\n",
       "      <td>0.707825</td>\n",
       "      <td>0.706775</td>\n",
       "      <td>0.706940</td>\n",
       "      <td>0.787159</td>\n",
       "      <td>enderlab</td>\n",
       "      <td>176</td>\n",
       "      <td>2023-10-30 03:55:24.238131</td>\n",
       "      <td>modelo_9322_bin_s_RF_LR_EN.pkl</td>\n",
       "      <td>{'selector__max_features': 500, 'selector__est...</td>\n",
       "      <td>X_test:(89, 18875)</td>\n",
       "      <td>['ENSG00000002587.10', 'ENSG00000003509.16', '...</td>\n",
       "    </tr>\n",
       "    <tr>\n",
       "      <th>0</th>\n",
       "      <td>bin_s</td>\n",
       "      <td>MI</td>\n",
       "      <td>SVM</td>\n",
       "      <td>9322</td>\n",
       "      <td>0.617978</td>\n",
       "      <td>0.618503</td>\n",
       "      <td>0.615268</td>\n",
       "      <td>0.614031</td>\n",
       "      <td>0.687058</td>\n",
       "      <td>enderlab</td>\n",
       "      <td>97</td>\n",
       "      <td>2023-10-30 03:52:20.960706</td>\n",
       "      <td>modelo_9322_bin_s_MI_SVM.pkl</td>\n",
       "      <td>{'selector__k': 150, 'clasifier__kernel': 'rbf...</td>\n",
       "      <td>X_test:(89, 18875)</td>\n",
       "      <td>['ENSG00000003402.21', 'ENSG00000006712.15', '...</td>\n",
       "    </tr>\n",
       "    <tr>\n",
       "      <th>0</th>\n",
       "      <td>bin_s</td>\n",
       "      <td>MI</td>\n",
       "      <td>RF</td>\n",
       "      <td>9322</td>\n",
       "      <td>0.573034</td>\n",
       "      <td>0.572751</td>\n",
       "      <td>0.569515</td>\n",
       "      <td>0.566410</td>\n",
       "      <td>0.641557</td>\n",
       "      <td>enderlab</td>\n",
       "      <td>103</td>\n",
       "      <td>2023-10-30 03:50:36.888135</td>\n",
       "      <td>modelo_9322_bin_s_MI_RF.pkl</td>\n",
       "      <td>{'selector__k': 200, 'clasifier__n_estimators'...</td>\n",
       "      <td>X_test:(89, 18875)</td>\n",
       "      <td>['ENSG00000002933.9', 'ENSG00000003402.21', 'E...</td>\n",
       "    </tr>\n",
       "  </tbody>\n",
       "</table>\n",
       "</div>"
      ],
      "text/plain": [
       "    tipo select clasific  semilla  accuracy  precision    recall  f1_score  \\\n",
       "0  bin_s     RF    LR_EN     9322  0.707865   0.707825  0.706775  0.706940   \n",
       "0  bin_s     MI      SVM     9322  0.617978   0.618503  0.615268  0.614031   \n",
       "0  bin_s     MI       RF     9322  0.573034   0.572751  0.569515  0.566410   \n",
       "\n",
       "    roc_auc  hostname  total_time_sec                    datetime  \\\n",
       "0  0.787159  enderlab             176  2023-10-30 03:55:24.238131   \n",
       "0  0.687058  enderlab              97  2023-10-30 03:52:20.960706   \n",
       "0  0.641557  enderlab             103  2023-10-30 03:50:36.888135   \n",
       "\n",
       "                   fichero_modelo  \\\n",
       "0  modelo_9322_bin_s_RF_LR_EN.pkl   \n",
       "0    modelo_9322_bin_s_MI_SVM.pkl   \n",
       "0     modelo_9322_bin_s_MI_RF.pkl   \n",
       "\n",
       "                                              params               shape  \\\n",
       "0  {'selector__max_features': 500, 'selector__est...  X_test:(89, 18875)   \n",
       "0  {'selector__k': 150, 'clasifier__kernel': 'rbf...  X_test:(89, 18875)   \n",
       "0  {'selector__k': 200, 'clasifier__n_estimators'...  X_test:(89, 18875)   \n",
       "\n",
       "                                            features  \n",
       "0  ['ENSG00000002587.10', 'ENSG00000003509.16', '...  \n",
       "0  ['ENSG00000003402.21', 'ENSG00000006712.15', '...  \n",
       "0  ['ENSG00000002933.9', 'ENSG00000003402.21', 'E...  "
      ]
     },
     "metadata": {},
     "output_type": "display_data"
    }
   ],
   "source": [
    "if M_TIPO.startswith(\"bin\"):\n",
    "    myfunc.save_metricas_to_csv(random_search, X_test, y_test, M_TIPO, M_SELECT, M_CLASIF, total_time, SEMILLA, myfunc.MET_DIR, M_FICHERO, fichero_modelo)\n",
    "else:\n",
    "    myfunc.save_metricas_multi_to_csv(random_search, X_test, y_test, M_TIPO, M_SELECT, M_CLASIF, total_time, SEMILLA, myfunc.MET_DIR, M_FICHERO, fichero_modelo)\n",
    "\n",
    "df1=myfunc.read_metricas_to_df(myfunc.MET_DIR,M_FICHERO)\n",
    "\n",
    "display(df1.sort_values(\"datetime\", ascending=False)[:3])\n"
   ]
  },
  {
   "cell_type": "markdown",
   "id": "209e14cd",
   "metadata": {
    "papermill": {
     "duration": 0.00574,
     "end_time": "2023-10-30T02:55:24.287673",
     "exception": false,
     "start_time": "2023-10-30T02:55:24.281933",
     "status": "completed"
    },
    "tags": []
   },
   "source": [
    "#### Guardar resultados"
   ]
  },
  {
   "cell_type": "code",
   "execution_count": 13,
   "id": "efb1c9f5",
   "metadata": {
    "execution": {
     "iopub.execute_input": "2023-10-30T02:55:24.300073Z",
     "iopub.status.busy": "2023-10-30T02:55:24.299566Z",
     "iopub.status.idle": "2023-10-30T02:55:24.308895Z",
     "shell.execute_reply": "2023-10-30T02:55:24.308352Z"
    },
    "papermill": {
     "duration": 0.016931,
     "end_time": "2023-10-30T02:55:24.310136",
     "exception": false,
     "start_time": "2023-10-30T02:55:24.293205",
     "status": "completed"
    },
    "tags": []
   },
   "outputs": [
    {
     "name": "stdout",
     "output_type": "stream",
     "text": [
      "20231030T035524 : enderlab : INFO : Inicio guardar resultados\n",
      "20231030T035524 : enderlab : INFO : Inicio guardar fichero ../tfm_git/ejecuciones/metricas/resultados_9322_bin_s-RF-LR_EN.csv\n",
      "20231030T035524 : enderlab : INFO : Fin guardar fichero ../tfm_git/ejecuciones/metricas/resultados_9322_bin_s-RF-LR_EN.csv\n",
      "20231030T035524 : enderlab : INFO : Fin guardar resultados\n"
     ]
    }
   ],
   "source": [
    "fichero_resultados=R_FICHERO+\"_\"+M_TIPO+\"-\"+M_SELECT+\"-\"+M_CLASIF+\".csv\"\n",
    "myfunc.save_resultados_to_csv(M_TIPO, M_SELECT, M_CLASIF,  random_search, myfunc.MET_DIR, fichero_resultados)\n"
   ]
  }
 ],
 "metadata": {
  "kernelspec": {
   "display_name": "Python 3 (ipykernel)",
   "language": "python",
   "name": "python3"
  },
  "language_info": {
   "codemirror_mode": {
    "name": "ipython",
    "version": 3
   },
   "file_extension": ".py",
   "mimetype": "text/x-python",
   "name": "python",
   "nbconvert_exporter": "python",
   "pygments_lexer": "ipython3",
   "version": "3.10.11"
  },
  "papermill": {
   "default_parameters": {},
   "duration": 181.63115,
   "end_time": "2023-10-30T02:55:26.935182",
   "environment_variables": {},
   "exception": null,
   "input_path": "03_entrenamiento.ipynb",
   "output_path": "ejecuciones/training/03_entrenamiento.20231030T035224.param_0000_9322_bin_s_RF_LR_EN.output.ipynb",
   "parameters": {
    "MAX_ITERS": 500,
    "M_CLASIF": "LR_EN",
    "M_FICHERO": "metricas_9322",
    "M_SELECT": "RF",
    "M_TIPO": "bin_s",
    "PRE_DATA_FILE": "rows_transpose_norm_by_gene_id_with_target_num_",
    "P_FICHERO": "param_0000_9322_bin_s_RF_LR_EN.yaml",
    "R_FICHERO": "resultados_9322",
    "SCORING": "roc_auc_ovr",
    "SEMILLA": 9322,
    "eval_clasifier": "LogisticRegressionCV(random_state=SEMILLA)",
    "eval_selector": "SelectFromModel(estimator=RandomForestClassifier(random_state=SEMILLA), threshold=-np.inf)",
    "param_distributions": {
     "clasifier__l1_ratios": [
      [
       0.1
      ]
     ],
     "clasifier__max_iter": [
      10000
     ],
     "clasifier__penalty": [
      "elasticnet"
     ],
     "clasifier__solver": [
      "saga"
     ],
     "selector__estimator__n_estimators": [
      100
     ],
     "selector__max_features": [
      500
     ]
    }
   },
   "start_time": "2023-10-30T02:52:25.304032",
   "version": "2.4.0"
  }
 },
 "nbformat": 4,
 "nbformat_minor": 5
}