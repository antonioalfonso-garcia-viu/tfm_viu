{
 "cells": [
  {
   "cell_type": "markdown",
   "id": "d419aebc",
   "metadata": {
    "papermill": {
     "duration": 0.005546,
     "end_time": "2023-10-30T15:12:48.397596",
     "exception": false,
     "start_time": "2023-10-30T15:12:48.392050",
     "status": "completed"
    },
    "tags": []
   },
   "source": [
    "##### Inicio"
   ]
  },
  {
   "cell_type": "markdown",
   "id": "54b5dd87",
   "metadata": {
    "papermill": {
     "duration": 0.003442,
     "end_time": "2023-10-30T15:12:48.404820",
     "exception": false,
     "start_time": "2023-10-30T15:12:48.401378",
     "status": "completed"
    },
    "tags": []
   },
   "source": [
    "#### Carga de datos"
   ]
  },
  {
   "cell_type": "code",
   "execution_count": 1,
   "id": "e6c2027d",
   "metadata": {
    "execution": {
     "iopub.execute_input": "2023-10-30T15:12:48.413004Z",
     "iopub.status.busy": "2023-10-30T15:12:48.412443Z",
     "iopub.status.idle": "2023-10-30T15:12:49.525161Z",
     "shell.execute_reply": "2023-10-30T15:12:49.524552Z"
    },
    "papermill": {
     "duration": 1.118564,
     "end_time": "2023-10-30T15:12:49.526771",
     "exception": false,
     "start_time": "2023-10-30T15:12:48.408207",
     "status": "completed"
    },
    "tags": []
   },
   "outputs": [
    {
     "name": "stdout",
     "output_type": "stream",
     "text": [
      "CPU_COUNT: 16; NODE: enderlab; sys.version: 3.10.11 (main, May 16 2023, 00:28:57) [GCC 11.2.0]\n",
      "LOKY_MAX_CPU_COUNT is not set.\n",
      "OMP_NUM_THREADS is not set.\n"
     ]
    }
   ],
   "source": [
    "import os\n",
    "import numpy as np\n",
    "import pandas as pd\n",
    "import datetime\n",
    "import sklearn\n",
    "import logging\n",
    "import warnings\n",
    "\n",
    "from sklearn.pipeline import Pipeline\n",
    "from sklearn.model_selection import RandomizedSearchCV, KFold, cross_val_score, train_test_split\n",
    "from sklearn.metrics import accuracy_score, confusion_matrix, classification_report, roc_auc_score\n",
    "\n",
    "#  cargar algoritmos para aprendizaje supervisado\n",
    "from sklearn.feature_selection import SelectKBest, f_classif, SelectFromModel, mutual_info_classif\n",
    "from sklearn.svm import SVC\n",
    "from sklearn.ensemble import RandomForestClassifier\n",
    "from sklearn.linear_model import LogisticRegression,LogisticRegressionCV\n",
    "\n",
    "# importar fichero con utilidades propias\n",
    "from commons import myfunctions as myfunc\n"
   ]
  },
  {
   "cell_type": "markdown",
   "id": "99d0ddd8",
   "metadata": {
    "papermill": {
     "duration": 0.003583,
     "end_time": "2023-10-30T15:12:49.534453",
     "exception": false,
     "start_time": "2023-10-30T15:12:49.530870",
     "status": "completed"
    },
    "tags": []
   },
   "source": [
    "#### Parámetros a utilizar en el entrenamiento.\n",
    "\n",
    "Se indican los 3 algoritmos de *selección de características* (eval_selector_xxx) y los 3 algoritmos para la _clasificación_ (eval_clasifier_xxx)\n",
    "\n",
    "En *param_distributions* se indicar los parámetros que utilizan los algoritmos en la función RandomSearchCV.\n",
    "\n",
    "Esta celda tiene la etiqueta **parameters** que servirá para poder lanzar los entrenamientos con la utilidad **papermill** pasándole un fichero con los parámetros. Los nuevos parámetros se situarán tras esta celda para tener prevalencia."
   ]
  },
  {
   "cell_type": "code",
   "execution_count": 2,
   "id": "f6e64586",
   "metadata": {
    "execution": {
     "iopub.execute_input": "2023-10-30T15:12:49.542911Z",
     "iopub.status.busy": "2023-10-30T15:12:49.542360Z",
     "iopub.status.idle": "2023-10-30T15:12:49.551245Z",
     "shell.execute_reply": "2023-10-30T15:12:49.550715Z"
    },
    "papermill": {
     "duration": 0.014511,
     "end_time": "2023-10-30T15:12:49.552443",
     "exception": false,
     "start_time": "2023-10-30T15:12:49.537932",
     "status": "completed"
    },
    "tags": [
     "parameters"
    ]
   },
   "outputs": [
    {
     "name": "stdout",
     "output_type": "stream",
     "text": [
      "20231030T161249 : enderlab : INFO : Utilizando parámetros de mul_m\n"
     ]
    }
   ],
   "source": [
    "#  Parametros para el entrenamiento\n",
    "\n",
    "SEMILLA=        42\n",
    "M_TIPO=         \"mul_m\"\n",
    "M_SELECT=       \"MI\"\n",
    "M_CLASIF=       \"SVM\"\n",
    "R_FICHERO=      \"resultados\"\n",
    "M_FICHERO=      \"metricas\"\n",
    "PRE_DATA_FILE=  \"rows_transpose_norm_by_gene_id_with_target_num_\"\n",
    "SCORING=        \"roc_auc_ovr\" \n",
    "MAX_ITERS=      100\n",
    "\n",
    "def mutual_info_classif_state(X, y):\n",
    "    return mutual_info_classif(X, y, random_state=SEMILLA)\n",
    "\n",
    "eval_selector_mi = \"SelectKBest(score_func=mutual_info_classif_state)\"\n",
    "eval_selector_rf=  \"SelectFromModel(estimator=RandomForestClassifier(random_state=SEMILLA), threshold=-np.inf)\"\n",
    "eval_selector_anova=  \"SelectKBest(score_func=f_classif)\"\n",
    "\n",
    "eval_clasifier_svm= \"SVC(probability=True, random_state=SEMILLA)\"\n",
    "eval_clasifier_rf= \"RandomForestClassifier(random_state=SEMILLA)\"\n",
    "eval_clasifier_lr= \"LogisticRegressionCV(random_state=SEMILLA)\"\n",
    "\n",
    "if M_TIPO.startswith(\"bin_m\"):\n",
    "    myfunc.verbose(f\"Utilizando parámetros de {M_TIPO}\")\n",
    "    eval_selector = eval_selector_mi\n",
    "    eval_clasifier = eval_clasifier_svm\n",
    "\n",
    "    SEMILLA = 6578\n",
    "    M_SELECT = \"MI\"\n",
    "    M_CLASIF = \"SVM\"\n",
    "    param_distributions = {'selector__k': [1000], \n",
    "         'clasifier__kernel': ['rbf'], 'clasifier__gamma': [0.01], 'clasifier__C': [100]}\n",
    "elif M_TIPO.startswith(\"bin_s\"):\n",
    "    myfunc.verbose(f\"Utilizando parámetros de {M_TIPO}\")\n",
    "    eval_selector = eval_selector_rf\n",
    "    eval_clasifier = eval_clasifier_lr\n",
    "\n",
    "    SEMILLA = 6191\n",
    "    M_SELECT = \"RF\"\n",
    "    M_CLASIF = \"LR_L2\"\n",
    "    param_distributions = {'selector__max_features': [1000], 'selector__estimator__n_estimators': [200], \n",
    "        'clasifier__solver': ['lbfgs'], 'clasifier__penalty': ['l2'], 'clasifier__max_iter': [10000]}\n",
    "\n",
    "elif M_TIPO.startswith(\"mul_m\"):\n",
    "    myfunc.verbose(f\"Utilizando parámetros de {M_TIPO}\")\n",
    " \n",
    "    eval_selector = eval_selector_rf\n",
    "    eval_clasifier = eval_clasifier_lr\n",
    "\n",
    "    SEMILLA = 6191\n",
    "    M_SELECT = \"RF\"\n",
    "    M_CLASIF = \"LR_L2\"\n",
    "    param_distributions = {'selector__max_features': [1000], 'selector__estimator__n_estimators': [400], \n",
    "        'clasifier__solver': ['lbfgs'], 'clasifier__penalty': ['l2'], 'clasifier__max_iter': [10000]}\n",
    "\n",
    "else:\n",
    "    # M_TIPO.startswith(\"mul_s\"):\n",
    "    myfunc.verbose(f\"Utilizando parámetros de {M_TIPO}\")\n",
    "    eval_selector = eval_selector_anova\n",
    "    eval_clasifier = eval_clasifier_lr\n",
    "\n",
    "    SEMILLA = 1860\n",
    "    M_SELECT = \"ANOVA\"\n",
    "    M_CLASIF = \"LR_L2\"\n",
    "    param_distributions = {'selector__k': [1000], \n",
    "        'clasifier__solver': ['saga'], 'clasifier__penalty': ['l2'], 'clasifier__max_iter': [10000]}\n",
    "\n"
   ]
  },
  {
   "cell_type": "code",
   "execution_count": 3,
   "id": "d8950bf3",
   "metadata": {
    "execution": {
     "iopub.execute_input": "2023-10-30T15:12:49.560823Z",
     "iopub.status.busy": "2023-10-30T15:12:49.560381Z",
     "iopub.status.idle": "2023-10-30T15:12:49.564446Z",
     "shell.execute_reply": "2023-10-30T15:12:49.563865Z"
    },
    "papermill": {
     "duration": 0.009598,
     "end_time": "2023-10-30T15:12:49.565649",
     "exception": false,
     "start_time": "2023-10-30T15:12:49.556051",
     "status": "completed"
    },
    "tags": [
     "injected-parameters"
    ]
   },
   "outputs": [],
   "source": [
    "# Parameters\n",
    "M_TIPO = \"mul_m\"\n",
    "M_SELECT = \"RF\"\n",
    "M_CLASIF = \"SVM\"\n",
    "P_FICHERO = \"param_0000_7265_mul_m_RF_SVM.yaml\"\n",
    "R_FICHERO = \"resultados_7265\"\n",
    "M_FICHERO = \"metricas_7265\"\n",
    "PRE_DATA_FILE = \"rows_transpose_norm_by_gene_id_with_target_num_\"\n",
    "SCORING = \"roc_auc_ovr\"\n",
    "SEMILLA = 7265\n",
    "MAX_ITERS = 500\n",
    "eval_selector = \"SelectFromModel(estimator=RandomForestClassifier(random_state=SEMILLA), threshold=-np.inf)\"\n",
    "eval_clasifier = \"SVC(probability=True, random_state=SEMILLA)\"\n",
    "param_distributions = {\n",
    "    \"selector__max_features\": [200],\n",
    "    \"selector__estimator__n_estimators\": [400],\n",
    "    \"clasifier__kernel\": [\"rbf\"],\n",
    "    \"clasifier__gamma\": [0.01],\n",
    "    \"clasifier__C\": [10],\n",
    "}\n"
   ]
  },
  {
   "cell_type": "code",
   "execution_count": 4,
   "id": "9c142de0",
   "metadata": {
    "execution": {
     "iopub.execute_input": "2023-10-30T15:12:49.574177Z",
     "iopub.status.busy": "2023-10-30T15:12:49.573819Z",
     "iopub.status.idle": "2023-10-30T15:12:49.577023Z",
     "shell.execute_reply": "2023-10-30T15:12:49.576519Z"
    },
    "papermill": {
     "duration": 0.009276,
     "end_time": "2023-10-30T15:12:49.578465",
     "exception": false,
     "start_time": "2023-10-30T15:12:49.569189",
     "status": "completed"
    },
    "tags": []
   },
   "outputs": [],
   "source": [
    "DATA_FILE = PRE_DATA_FILE + M_TIPO\n",
    "\n",
    "# si viene \"None\" en el parámetro max_depth, se le quitan las comillas para que no sea entendido por el algoritmo como un texto\n",
    "if \"clasifier__max_depth\" in param_distributions:\n",
    "    param_distributions['clasifier__max_depth'] = [None if x == 'None' else x for x in param_distributions['clasifier__max_depth']]"
   ]
  },
  {
   "cell_type": "markdown",
   "id": "08b4a842",
   "metadata": {
    "papermill": {
     "duration": 0.003816,
     "end_time": "2023-10-30T15:12:49.585954",
     "exception": false,
     "start_time": "2023-10-30T15:12:49.582138",
     "status": "completed"
    },
    "tags": []
   },
   "source": [
    "Asignar los algoritmos que se utilizarán en la función RandomSearchCV"
   ]
  },
  {
   "cell_type": "code",
   "execution_count": 5,
   "id": "e9cc0d42",
   "metadata": {
    "execution": {
     "iopub.execute_input": "2023-10-30T15:12:49.594672Z",
     "iopub.status.busy": "2023-10-30T15:12:49.594267Z",
     "iopub.status.idle": "2023-10-30T15:12:49.597264Z",
     "shell.execute_reply": "2023-10-30T15:12:49.596751Z"
    },
    "papermill": {
     "duration": 0.008652,
     "end_time": "2023-10-30T15:12:49.598544",
     "exception": false,
     "start_time": "2023-10-30T15:12:49.589892",
     "status": "completed"
    },
    "tags": []
   },
   "outputs": [],
   "source": [
    "algor_selector=eval(eval_selector)\n",
    "algor_clasifier=eval(eval_clasifier)"
   ]
  },
  {
   "cell_type": "markdown",
   "id": "091e8d87",
   "metadata": {
    "papermill": {
     "duration": 0.003803,
     "end_time": "2023-10-30T15:12:49.605988",
     "exception": false,
     "start_time": "2023-10-30T15:12:49.602185",
     "status": "completed"
    },
    "tags": []
   },
   "source": [
    "#### Comprobar el entorno y leer fichero de muestras"
   ]
  },
  {
   "cell_type": "code",
   "execution_count": 6,
   "id": "d902f419",
   "metadata": {
    "execution": {
     "iopub.execute_input": "2023-10-30T15:12:49.614211Z",
     "iopub.status.busy": "2023-10-30T15:12:49.613856Z",
     "iopub.status.idle": "2023-10-30T15:12:49.855932Z",
     "shell.execute_reply": "2023-10-30T15:12:49.855326Z"
    },
    "papermill": {
     "duration": 0.247636,
     "end_time": "2023-10-30T15:12:49.857247",
     "exception": false,
     "start_time": "2023-10-30T15:12:49.609611",
     "status": "completed"
    },
    "tags": []
   },
   "outputs": [
    {
     "name": "stdout",
     "output_type": "stream",
     "text": [
      "20231030T161249 : enderlab : INFO : Encontrada carpeta DATA_DIR=../tfm_git/datos\n",
      "20231030T161249 : enderlab : INFO : Encontrada carpeta CFDNA_DIR=../tfm_git/datos/cfDNA_5hmC\n",
      "20231030T161249 : enderlab : INFO : Encontrada carpeta GENCODE_DIR=../tfm_git/datos/gencode\n",
      "20231030T161249 : enderlab : INFO : Encontrada carpeta H5_DIR=../tfm_git/datos/h5\n",
      "20231030T161249 : enderlab : INFO : Encontrada carpeta LOG_DIR=../tfm_git/datos/logs\n",
      "20231030T161249 : enderlab : INFO : Encontrada carpeta CSV_DIR=../tfm_git/datos/csv\n",
      "20231030T161249 : enderlab : INFO : Encontrada carpeta MODEL_DIR=../tfm_git/ejecuciones/modelos\n",
      "20231030T161249 : enderlab : INFO : Encontrada carpeta EXEC_DIR=../tfm_git/ejecuciones\n",
      "20231030T161249 : enderlab : INFO : Encontrada carpeta MET_DIR=../tfm_git/ejecuciones/metricas\n",
      "20231030T161249 : enderlab : INFO : Inicio leer fichero h5 ../tfm_git/datos/h5/rows_transpose_norm_by_gene_id_with_target_num_mul_m.h5\n",
      "20231030T161249 : enderlab : INFO : Leyendo clave /df\n"
     ]
    },
    {
     "name": "stdout",
     "output_type": "stream",
     "text": [
      "20231030T161249 : enderlab : INFO : Tamaño (434, 18876)\n",
      "20231030T161249 : enderlab : INFO : Fin leer fichero h5 ../tfm_git/datos/h5/rows_transpose_norm_by_gene_id_with_target_num_mul_m.h5\n"
     ]
    },
    {
     "data": {
      "text/plain": [
       "target\n",
       "0    62\n",
       "1    62\n",
       "2    62\n",
       "3    62\n",
       "4    62\n",
       "5    62\n",
       "6    62\n",
       "dtype: int64"
      ]
     },
     "metadata": {},
     "output_type": "display_data"
    },
    {
     "name": "stdout",
     "output_type": "stream",
     "text": [
      "Shape df: (434, 18876)\n"
     ]
    },
    {
     "name": "stdout",
     "output_type": "stream",
     "text": [
      "Shape X_train: (347, 18875)\n",
      "Shape X_test: (87, 18875)\n"
     ]
    }
   ],
   "source": [
    "start_time = datetime.datetime.now()\n",
    "\n",
    "myfunc.reset_vars()\n",
    "\n",
    "myfunc.NOTEBK_FILENAME = myfunc.get_nb_name()\n",
    "\n",
    "myfunc.check_enviroment(myfunc.DATA_DIR, myfunc.CFDNA_DIR, myfunc.GENCODE_DIR, myfunc.H5_DIR, myfunc.LOG_DIR, myfunc.CSV_DIR, myfunc.MODEL_DIR, myfunc.EXEC_DIR, myfunc.MET_DIR)\n",
    "\n",
    "# Leer fichero con las muestras\n",
    "df_t = myfunc.read_h5_to_df(DATA_FILE, myfunc.H5_DIR)\n",
    "display(df_t.groupby(\"target\").size())\n",
    "print(\"Shape df:\",df_t.shape)\n",
    "\n",
    "# Separar caracteristicas/genes de las etiquetas/tipos de cáncer\n",
    "X = df_t.iloc[:, :-1]  # Todas las columnas excepto la última\n",
    "y = df_t.iloc[:, -1]  # La última columna contiene los identificadores de los tipos de cáncer\n",
    "\n",
    "#  Crear el conjunto de datos de entrenamiento y de pruebas, y se fija la semilla para siempre coger el mismo juego de muestras\n",
    "X_train, X_test, y_train, y_test = train_test_split(X, y, test_size=0.2, shuffle=True, random_state=42)\n",
    "print(\"Shape X_train:\",X_train.shape)\n",
    "print(\"Shape X_test:\",X_test.shape)\n"
   ]
  },
  {
   "cell_type": "markdown",
   "id": "446e7c8e",
   "metadata": {
    "papermill": {
     "duration": 0.004167,
     "end_time": "2023-10-30T15:12:49.866179",
     "exception": false,
     "start_time": "2023-10-30T15:12:49.862012",
     "status": "completed"
    },
    "tags": []
   },
   "source": [
    "#### Selección de características y clasificación."
   ]
  },
  {
   "cell_type": "code",
   "execution_count": 7,
   "id": "25debabf",
   "metadata": {
    "execution": {
     "iopub.execute_input": "2023-10-30T15:12:49.875567Z",
     "iopub.status.busy": "2023-10-30T15:12:49.874990Z",
     "iopub.status.idle": "2023-10-30T15:13:10.369359Z",
     "shell.execute_reply": "2023-10-30T15:13:10.368545Z"
    },
    "papermill": {
     "duration": 20.500728,
     "end_time": "2023-10-30T15:13:10.370874",
     "exception": false,
     "start_time": "2023-10-30T15:12:49.870146",
     "status": "completed"
    },
    "tags": []
   },
   "outputs": [
    {
     "name": "stdout",
     "output_type": "stream",
     "text": [
      "20231030T161249 : enderlab : INFO : Iniciando entrenamiento\n",
      "num_iter: 1 , max_iter: 1\n",
      "Fitting 5 folds for each of 1 candidates, totalling 5 fits\n"
     ]
    },
    {
     "name": "stdout",
     "output_type": "stream",
     "text": [
      "Mejores Hiperparámetros: {'selector__max_features': 200, 'selector__estimator__n_estimators': 400, 'clasifier__kernel': 'rbf', 'clasifier__gamma': 0.01, 'clasifier__C': 10}\n",
      "Mejor Puntuación: 0.8609\n",
      "20231030T161310 : enderlab : INFO : Fin entrenamiento\n"
     ]
    }
   ],
   "source": [
    "myfunc.verbose(\"Iniciando entrenamiento\")\n",
    "\n",
    "kf = KFold(n_splits=5, shuffle=True, random_state=SEMILLA)\n",
    "\n",
    "# Crear el pipeline para el flujo de tareas\n",
    "tasks_pipeline = Pipeline([\n",
    "    ('selector', algor_selector),\n",
    "    ('clasifier', algor_clasifier)\n",
    "])\n",
    "\n",
    "# MAX_ITERS puede limitar el número de iteraciones si son excesivas para las combinaciones de parámetros buscando un óptimo local, \n",
    "# sino funcionaría como GridSearchCV al revisar todas las cominaciones de los parámetros\n",
    "num_iteraciones = 1\n",
    "num_iteraciones = num_iteraciones * np.prod([len(elemento1) for _, elemento1 in param_distributions.items()])\n",
    "max_iteraciones = num_iteraciones if num_iteraciones <= MAX_ITERS else MAX_ITERS\n",
    "print(\"num_iter:\",num_iteraciones,\", max_iter:\",max_iteraciones)\n",
    "\n",
    "random_search = RandomizedSearchCV(\n",
    "    tasks_pipeline, \n",
    "    param_distributions, \n",
    "    n_iter=max_iteraciones,\n",
    "    scoring=SCORING,\n",
    "    cv=kf,\n",
    "    verbose=3, \n",
    "    random_state=SEMILLA, \n",
    "    n_jobs=-1\n",
    "    )\n",
    "\n",
    "# Entrenar el modelo\n",
    "random_search.fit(X_train, y_train)\n",
    "\n",
    "# Ver los mejores hiperparámetros encontrados\n",
    "print(f'Mejores Hiperparámetros: {random_search.best_params_}')\n",
    "print(f'Mejor Puntuación: {random_search.best_score_:.4f}')\n",
    "\n",
    "# Nos quedamos con el mejor modelo para ver las métricas\n",
    "mejor_modelo = random_search.best_estimator_\n",
    "\n",
    "myfunc.verbose(\"Fin entrenamiento\")"
   ]
  },
  {
   "cell_type": "markdown",
   "id": "5e783193",
   "metadata": {
    "papermill": {
     "duration": 0.004221,
     "end_time": "2023-10-30T15:13:10.380372",
     "exception": false,
     "start_time": "2023-10-30T15:13:10.376151",
     "status": "completed"
    },
    "tags": []
   },
   "source": [
    "#### Guardar modelo"
   ]
  },
  {
   "cell_type": "code",
   "execution_count": 8,
   "id": "eea140b3",
   "metadata": {
    "execution": {
     "iopub.execute_input": "2023-10-30T15:13:10.390003Z",
     "iopub.status.busy": "2023-10-30T15:13:10.389657Z",
     "iopub.status.idle": "2023-10-30T15:13:10.551184Z",
     "shell.execute_reply": "2023-10-30T15:13:10.550578Z"
    },
    "papermill": {
     "duration": 0.168166,
     "end_time": "2023-10-30T15:13:10.552625",
     "exception": false,
     "start_time": "2023-10-30T15:13:10.384459",
     "status": "completed"
    },
    "tags": []
   },
   "outputs": [
    {
     "name": "stdout",
     "output_type": "stream",
     "text": [
      "20231030T161310 : enderlab : INFO : Inicio guardar fichero ../tfm_git/ejecuciones/modelos/modelo_7265_mul_m_RF_SVM.pkl\n",
      "20231030T161310 : enderlab : INFO : Fin guardar fichero ../tfm_git/ejecuciones/modelos/modelo_7265_mul_m_RF_SVM.pkl\n"
     ]
    }
   ],
   "source": [
    "fichero_modelo = str.replace(\"modelo_\"+str(SEMILLA).zfill(4)+\"_\"+M_TIPO+\"_\"+M_SELECT+\"_\"+M_CLASIF+\".pkl\", \" \", \"_\")\n",
    "\n",
    "myfunc.save_modelo(mejor_modelo, myfunc.MODEL_DIR, fichero_modelo)"
   ]
  },
  {
   "cell_type": "markdown",
   "id": "954a6d06",
   "metadata": {
    "papermill": {
     "duration": 0.004394,
     "end_time": "2023-10-30T15:13:10.561636",
     "exception": false,
     "start_time": "2023-10-30T15:13:10.557242",
     "status": "completed"
    },
    "tags": []
   },
   "source": [
    "#### Ver resultados del las iteraciones hechas por RandomSearchCV"
   ]
  },
  {
   "cell_type": "code",
   "execution_count": 9,
   "id": "6b00108d",
   "metadata": {
    "execution": {
     "iopub.execute_input": "2023-10-30T15:13:10.572141Z",
     "iopub.status.busy": "2023-10-30T15:13:10.571686Z",
     "iopub.status.idle": "2023-10-30T15:13:10.578470Z",
     "shell.execute_reply": "2023-10-30T15:13:10.577926Z"
    },
    "papermill": {
     "duration": 0.013066,
     "end_time": "2023-10-30T15:13:10.579654",
     "exception": false,
     "start_time": "2023-10-30T15:13:10.566588",
     "status": "completed"
    },
    "tags": []
   },
   "outputs": [
    {
     "name": "stdout",
     "output_type": "stream",
     "text": [
      "20231030T161310 : enderlab : INFO : Inicio ver resultados\n",
      "Mejores Hiperparámetros: {'selector__max_features': 200, 'selector__estimator__n_estimators': 400, 'clasifier__kernel': 'rbf', 'clasifier__gamma': 0.01, 'clasifier__C': 10}\n",
      "Mejores puntuaciones: 0.8609 | Params: {'selector__max_features': 200, 'selector__estimator__n_estimators': 400, 'clasifier__kernel': 'rbf', 'clasifier__gamma': 0.01, 'clasifier__C': 10}\n",
      "Media de las puntuaciones: 0.8609 | Params: {'selector__max_features': 200, 'selector__estimator__n_estimators': 400, 'clasifier__kernel': 'rbf', 'clasifier__gamma': 0.01, 'clasifier__C': 10}\n",
      "20231030T161310 : enderlab : INFO : Fin resultados\n"
     ]
    }
   ],
   "source": [
    "myfunc.ver_resultados_search(random_search)"
   ]
  },
  {
   "cell_type": "markdown",
   "id": "7180ed30",
   "metadata": {
    "papermill": {
     "duration": 0.0042,
     "end_time": "2023-10-30T15:13:10.588043",
     "exception": false,
     "start_time": "2023-10-30T15:13:10.583843",
     "status": "completed"
    },
    "tags": []
   },
   "source": [
    "#### Ver métricas del mejor modelo"
   ]
  },
  {
   "cell_type": "code",
   "execution_count": 10,
   "id": "a516057a",
   "metadata": {
    "execution": {
     "iopub.execute_input": "2023-10-30T15:13:10.598423Z",
     "iopub.status.busy": "2023-10-30T15:13:10.597897Z",
     "iopub.status.idle": "2023-10-30T15:13:11.791992Z",
     "shell.execute_reply": "2023-10-30T15:13:11.791376Z"
    },
    "papermill": {
     "duration": 1.201005,
     "end_time": "2023-10-30T15:13:11.793323",
     "exception": false,
     "start_time": "2023-10-30T15:13:10.592318",
     "status": "completed"
    },
    "tags": []
   },
   "outputs": [
    {
     "name": "stdout",
     "output_type": "stream",
     "text": [
      "20231030T161310 : enderlab : INFO : Inicio ver métricas multiclase\n"
     ]
    },
    {
     "name": "stdout",
     "output_type": "stream",
     "text": [
      "              precision    recall  f1-score   support\n",
      "\n",
      "           0       0.00      0.00      0.00        16\n",
      "           1       0.82      0.60      0.69        15\n",
      "           2       0.22      0.18      0.20        11\n",
      "           3       0.21      0.60      0.32         5\n",
      "           4       0.50      0.54      0.52        13\n",
      "           5       0.54      0.78      0.64         9\n",
      "           6       0.44      0.44      0.44        18\n",
      "\n",
      "    accuracy                           0.41        87\n",
      "   macro avg       0.39      0.45      0.40        87\n",
      "weighted avg       0.40      0.41      0.40        87\n",
      "\n",
      "\n",
      "\n",
      "           Exactitud: 0.413793\n",
      "   Precisión (media): 0.391085\n",
      "      Recall (media): 0.448929\n",
      "    F1-score (media): 0.401061\n",
      "\n",
      "\n",
      "AUC para el tipo de cáncer 0-Control.... 0.5889\n",
      "AUC para el tipo de cáncer 1-Bladder.... 0.8926\n",
      "AUC para el tipo de cáncer 2-Breast..... 0.6567\n",
      "AUC para el tipo de cáncer 3-Colorectal. 0.8244\n",
      "AUC para el tipo de cáncer 4-Kidney..... 0.8108\n",
      "AUC para el tipo de cáncer 5-Lung....... 0.9202\n",
      "AUC para el tipo de cáncer 6-Prostate... 0.8261\n",
      "\n",
      "Media de AUC: 0.7885\n"
     ]
    },
    {
     "data": {
      "image/png": "[encoded data removed]",
      "text/plain": [
       "<Figure size 1000x600 with 1 Axes>"
      ]
     },
     "metadata": {},
     "output_type": "display_data"
    },
    {
     "name": "stdout",
     "output_type": "stream",
     "text": [
      "\n",
      "\n"
     ]
    },
    {
     "data": {
      "image/png": "[encoded data removed]",
      "text/plain": [
       "<Figure size 800x400 with 2 Axes>"
      ]
     },
     "metadata": {},
     "output_type": "display_data"
    },
    {
     "name": "stdout",
     "output_type": "stream",
     "text": [
      "\n",
      "\n",
      "Puntuación Jaccard para el cáncer tipo 0-Control.... 0.0000\n",
      "Puntuación Jaccard para el cáncer tipo 1-Bladder.... 0.5294\n",
      "Puntuación Jaccard para el cáncer tipo 2-Breast..... 0.1111\n",
      "Puntuación Jaccard para el cáncer tipo 3-Colorectal. 0.1875\n",
      "Puntuación Jaccard para el cáncer tipo 4-Kidney..... 0.3500\n",
      "Puntuación Jaccard para el cáncer tipo 5-Lung....... 0.4667\n",
      "Puntuación Jaccard para el cáncer tipo 6-Prostate... 0.2857\n",
      "\n",
      "Media de la puntuación de Jaccard: 0.2758\n"
     ]
    }
   ],
   "source": [
    "if M_TIPO.startswith(\"bin\"):\n",
    "    myfunc.ver_metricas(mejor_modelo, X_test, y_test)\n",
    "else:\n",
    "    myfunc.ver_metricas_multi(mejor_modelo, X_test, y_test)\n"
   ]
  },
  {
   "cell_type": "markdown",
   "id": "34e40d46",
   "metadata": {
    "papermill": {
     "duration": 0.006191,
     "end_time": "2023-10-30T15:13:11.808444",
     "exception": false,
     "start_time": "2023-10-30T15:13:11.802253",
     "status": "completed"
    },
    "tags": []
   },
   "source": [
    "#### Finalización del notebook"
   ]
  },
  {
   "cell_type": "code",
   "execution_count": 11,
   "id": "8e022dd1",
   "metadata": {
    "execution": {
     "iopub.execute_input": "2023-10-30T15:13:11.821599Z",
     "iopub.status.busy": "2023-10-30T15:13:11.821250Z",
     "iopub.status.idle": "2023-10-30T15:13:11.825221Z",
     "shell.execute_reply": "2023-10-30T15:13:11.824666Z"
    },
    "papermill": {
     "duration": 0.012153,
     "end_time": "2023-10-30T15:13:11.826555",
     "exception": false,
     "start_time": "2023-10-30T15:13:11.814402",
     "status": "completed"
    },
    "tags": []
   },
   "outputs": [
    {
     "name": "stdout",
     "output_type": "stream",
     "text": [
      "20231030T161311 : enderlab : INFO : Notebook ha tardado 22 seconds\n"
     ]
    }
   ],
   "source": [
    "end_time = datetime.datetime.now()\n",
    "total_time = end_time - start_time\n",
    "myfunc.verbose(f\"Notebook ha tardado {total_time.seconds} seconds\")"
   ]
  },
  {
   "cell_type": "markdown",
   "id": "b4d2316b",
   "metadata": {
    "papermill": {
     "duration": 0.005857,
     "end_time": "2023-10-30T15:13:11.838610",
     "exception": false,
     "start_time": "2023-10-30T15:13:11.832753",
     "status": "completed"
    },
    "tags": []
   },
   "source": [
    "#### Guardar métricas"
   ]
  },
  {
   "cell_type": "code",
   "execution_count": 12,
   "id": "2e5a7ba0",
   "metadata": {
    "execution": {
     "iopub.execute_input": "2023-10-30T15:13:11.852067Z",
     "iopub.status.busy": "2023-10-30T15:13:11.851556Z",
     "iopub.status.idle": "2023-10-30T15:13:12.903098Z",
     "shell.execute_reply": "2023-10-30T15:13:12.902521Z"
    },
    "papermill": {
     "duration": 1.060182,
     "end_time": "2023-10-30T15:13:12.904884",
     "exception": false,
     "start_time": "2023-10-30T15:13:11.844702",
     "status": "completed"
    },
    "tags": []
   },
   "outputs": [
    {
     "name": "stdout",
     "output_type": "stream",
     "text": [
      "20231030T161312 : enderlab : INFO : Inicio guardar métricas multiclase\n",
      "20231030T161312 : enderlab : INFO : Inicio leer fichero ../tfm_git/ejecuciones/metricas/metricas_7265.csv\n",
      "20231030T161312 : enderlab : INFO : Fin leer fichero ../tfm_git/ejecuciones/metricas/metricas_7265.csv\n"
     ]
    },
    {
     "name": "stdout",
     "output_type": "stream",
     "text": [
      "20231030T161312 : enderlab : INFO : Inicio guardar fichero ../tfm_git/ejecuciones/metricas/metricas_7265.csv\n",
      "20231030T161312 : enderlab : INFO : Fichero borrado ../tfm_git/ejecuciones/metricas/metricas_7265.csv\n",
      "20231030T161312 : enderlab : INFO : Fin guardar fichero ../tfm_git/ejecuciones/metricas/metricas_7265.csv\n",
      "20231030T161312 : enderlab : INFO : Fin guardar métricas multiclase\n",
      "20231030T161312 : enderlab : INFO : Inicio leer fichero ../tfm_git/ejecuciones/metricas/metricas_7265.csv\n",
      "20231030T161312 : enderlab : INFO : Fin leer fichero ../tfm_git/ejecuciones/metricas/metricas_7265.csv\n"
     ]
    },
    {
     "data": {
      "text/html": [
       "<div>\n",
       "<style scoped>\n",
       "    .dataframe tbody tr th:only-of-type {\n",
       "        vertical-align: middle;\n",
       "    }\n",
       "\n",
       "    .dataframe tbody tr th {\n",
       "        vertical-align: top;\n",
       "    }\n",
       "\n",
       "    .dataframe thead th {\n",
       "        text-align: right;\n",
       "    }\n",
       "</style>\n",
       "<table border=\"1\" class=\"dataframe\">\n",
       "  <thead>\n",
       "    <tr style=\"text-align: right;\">\n",
       "      <th></th>\n",
       "      <th>tipo</th>\n",
       "      <th>select</th>\n",
       "      <th>clasific</th>\n",
       "      <th>semilla</th>\n",
       "      <th>accuracy</th>\n",
       "      <th>precision</th>\n",
       "      <th>recall</th>\n",
       "      <th>f1_score</th>\n",
       "      <th>roc_auc</th>\n",
       "      <th>hostname</th>\n",
       "      <th>total_time_sec</th>\n",
       "      <th>datetime</th>\n",
       "      <th>fichero_modelo</th>\n",
       "      <th>params</th>\n",
       "      <th>shape</th>\n",
       "      <th>features</th>\n",
       "      <th>roc_auc_ovr</th>\n",
       "      <th>indices_auc</th>\n",
       "      <th>indices_jaccard</th>\n",
       "    </tr>\n",
       "  </thead>\n",
       "  <tbody>\n",
       "    <tr>\n",
       "      <th>0</th>\n",
       "      <td>mul_m</td>\n",
       "      <td>RF</td>\n",
       "      <td>SVM</td>\n",
       "      <td>7265</td>\n",
       "      <td>0.413793</td>\n",
       "      <td>0.391085</td>\n",
       "      <td>0.448929</td>\n",
       "      <td>0.401061</td>\n",
       "      <td>NaN</td>\n",
       "      <td>enderlab</td>\n",
       "      <td>22</td>\n",
       "      <td>2023-10-30 16:13:12.851580</td>\n",
       "      <td>modelo_7265_mul_m_RF_SVM.pkl</td>\n",
       "      <td>{'selector__max_features': 200, 'selector__est...</td>\n",
       "      <td>X_test:(87, 18875)</td>\n",
       "      <td>['ENSG00000000938.13', 'ENSG00000005381.9', 'E...</td>\n",
       "      <td>0.788531</td>\n",
       "      <td>[0.5889084507042254, 0.8925925925925925, 0.656...</td>\n",
       "      <td>[0.0, 0.5294117647058824, 0.1111111111111111, ...</td>\n",
       "    </tr>\n",
       "    <tr>\n",
       "      <th>0</th>\n",
       "      <td>mul_m</td>\n",
       "      <td>RF</td>\n",
       "      <td>RF</td>\n",
       "      <td>7265</td>\n",
       "      <td>0.482759</td>\n",
       "      <td>0.416236</td>\n",
       "      <td>0.531802</td>\n",
       "      <td>0.454100</td>\n",
       "      <td>NaN</td>\n",
       "      <td>enderlab</td>\n",
       "      <td>30</td>\n",
       "      <td>2023-10-30 16:12:42.854969</td>\n",
       "      <td>modelo_7265_mul_m_RF_RF.pkl</td>\n",
       "      <td>{'selector__max_features': 500, 'selector__est...</td>\n",
       "      <td>X_test:(87, 18875)</td>\n",
       "      <td>['ENSG00000001084.13', 'ENSG00000006659.13', '...</td>\n",
       "      <td>0.829701</td>\n",
       "      <td>[0.636443661971831, 0.8703703703703702, 0.8468...</td>\n",
       "      <td>[0.0, 0.4, 0.23529411764705882, 0.307692307692...</td>\n",
       "    </tr>\n",
       "    <tr>\n",
       "      <th>0</th>\n",
       "      <td>mul_m</td>\n",
       "      <td>RF</td>\n",
       "      <td>LR_L2</td>\n",
       "      <td>7265</td>\n",
       "      <td>0.597701</td>\n",
       "      <td>0.603459</td>\n",
       "      <td>0.623576</td>\n",
       "      <td>0.588851</td>\n",
       "      <td>NaN</td>\n",
       "      <td>enderlab</td>\n",
       "      <td>45</td>\n",
       "      <td>2023-10-30 16:12:05.196603</td>\n",
       "      <td>modelo_7265_mul_m_RF_LR_L2.pkl</td>\n",
       "      <td>{'selector__max_features': 1000, 'selector__es...</td>\n",
       "      <td>X_test:(87, 18875)</td>\n",
       "      <td>['ENSG00000000938.13', 'ENSG00000001084.13', '...</td>\n",
       "      <td>0.876023</td>\n",
       "      <td>[0.8820422535211268, 0.8916666666666666, 0.770...</td>\n",
       "      <td>[0.36363636363636365, 0.5294117647058824, 0.2,...</td>\n",
       "    </tr>\n",
       "  </tbody>\n",
       "</table>\n",
       "</div>"
      ],
      "text/plain": [
       "    tipo select clasific  semilla  accuracy  precision    recall  f1_score  \\\n",
       "0  mul_m     RF      SVM     7265  0.413793   0.391085  0.448929  0.401061   \n",
       "0  mul_m     RF       RF     7265  0.482759   0.416236  0.531802  0.454100   \n",
       "0  mul_m     RF    LR_L2     7265  0.597701   0.603459  0.623576  0.588851   \n",
       "\n",
       "   roc_auc  hostname  total_time_sec                    datetime  \\\n",
       "0      NaN  enderlab              22  2023-10-30 16:13:12.851580   \n",
       "0      NaN  enderlab              30  2023-10-30 16:12:42.854969   \n",
       "0      NaN  enderlab              45  2023-10-30 16:12:05.196603   \n",
       "\n",
       "                   fichero_modelo  \\\n",
       "0    modelo_7265_mul_m_RF_SVM.pkl   \n",
       "0     modelo_7265_mul_m_RF_RF.pkl   \n",
       "0  modelo_7265_mul_m_RF_LR_L2.pkl   \n",
       "\n",
       "                                              params               shape  \\\n",
       "0  {'selector__max_features': 200, 'selector__est...  X_test:(87, 18875)   \n",
       "0  {'selector__max_features': 500, 'selector__est...  X_test:(87, 18875)   \n",
       "0  {'selector__max_features': 1000, 'selector__es...  X_test:(87, 18875)   \n",
       "\n",
       "                                            features  roc_auc_ovr  \\\n",
       "0  ['ENSG00000000938.13', 'ENSG00000005381.9', 'E...     0.788531   \n",
       "0  ['ENSG00000001084.13', 'ENSG00000006659.13', '...     0.829701   \n",
       "0  ['ENSG00000000938.13', 'ENSG00000001084.13', '...     0.876023   \n",
       "\n",
       "                                         indices_auc  \\\n",
       "0  [0.5889084507042254, 0.8925925925925925, 0.656...   \n",
       "0  [0.636443661971831, 0.8703703703703702, 0.8468...   \n",
       "0  [0.8820422535211268, 0.8916666666666666, 0.770...   \n",
       "\n",
       "                                     indices_jaccard  \n",
       "0  [0.0, 0.5294117647058824, 0.1111111111111111, ...  \n",
       "0  [0.0, 0.4, 0.23529411764705882, 0.307692307692...  \n",
       "0  [0.36363636363636365, 0.5294117647058824, 0.2,...  "
      ]
     },
     "metadata": {},
     "output_type": "display_data"
    }
   ],
   "source": [
    "if M_TIPO.startswith(\"bin\"):\n",
    "    myfunc.save_metricas_to_csv(random_search, X_test, y_test, M_TIPO, M_SELECT, M_CLASIF, total_time, SEMILLA, myfunc.MET_DIR, M_FICHERO, fichero_modelo)\n",
    "else:\n",
    "    myfunc.save_metricas_multi_to_csv(random_search, X_test, y_test, M_TIPO, M_SELECT, M_CLASIF, total_time, SEMILLA, myfunc.MET_DIR, M_FICHERO, fichero_modelo)\n",
    "\n",
    "df1=myfunc.read_metricas_to_df(myfunc.MET_DIR,M_FICHERO)\n",
    "\n",
    "display(df1.sort_values(\"datetime\", ascending=False)[:3])\n"
   ]
  },
  {
   "cell_type": "markdown",
   "id": "788bfca0",
   "metadata": {
    "papermill": {
     "duration": 0.008232,
     "end_time": "2023-10-30T15:13:12.920055",
     "exception": false,
     "start_time": "2023-10-30T15:13:12.911823",
     "status": "completed"
    },
    "tags": []
   },
   "source": [
    "#### Guardar resultados"
   ]
  },
  {
   "cell_type": "code",
   "execution_count": 13,
   "id": "5375e5f8",
   "metadata": {
    "execution": {
     "iopub.execute_input": "2023-10-30T15:13:12.934412Z",
     "iopub.status.busy": "2023-10-30T15:13:12.933737Z",
     "iopub.status.idle": "2023-10-30T15:13:12.943711Z",
     "shell.execute_reply": "2023-10-30T15:13:12.943086Z"
    },
    "papermill": {
     "duration": 0.018421,
     "end_time": "2023-10-30T15:13:12.944948",
     "exception": false,
     "start_time": "2023-10-30T15:13:12.926527",
     "status": "completed"
    },
    "tags": []
   },
   "outputs": [
    {
     "name": "stdout",
     "output_type": "stream",
     "text": [
      "20231030T161312 : enderlab : INFO : Inicio guardar resultados\n",
      "20231030T161312 : enderlab : INFO : Inicio guardar fichero ../tfm_git/ejecuciones/metricas/resultados_7265_mul_m-RF-SVM.csv\n",
      "20231030T161312 : enderlab : INFO : Fin guardar fichero ../tfm_git/ejecuciones/metricas/resultados_7265_mul_m-RF-SVM.csv\n",
      "20231030T161312 : enderlab : INFO : Fin guardar resultados\n"
     ]
    }
   ],
   "source": [
    "fichero_resultados=R_FICHERO+\"_\"+M_TIPO+\"-\"+M_SELECT+\"-\"+M_CLASIF+\".csv\"\n",
    "myfunc.save_resultados_to_csv(M_TIPO, M_SELECT, M_CLASIF,  random_search, myfunc.MET_DIR, fichero_resultados)\n"
   ]
  }
 ],
 "metadata": {
  "kernelspec": {
   "display_name": "Python 3 (ipykernel)",
   "language": "python",
   "name": "python3"
  },
  "language_info": {
   "codemirror_mode": {
    "name": "ipython",
    "version": 3
   },
   "file_extension": ".py",
   "mimetype": "text/x-python",
   "name": "python",
   "nbconvert_exporter": "python",
   "pygments_lexer": "ipython3",
   "version": "3.10.11"
  },
  "papermill": {
   "default_parameters": {},
   "duration": 28.359627,
   "end_time": "2023-10-30T15:13:15.570716",
   "environment_variables": {},
   "exception": null,
   "input_path": "03_entrenamiento.ipynb",
   "output_path": "ejecuciones/training/03_entrenamiento.20231030T161246.param_0000_7265_mul_m_RF_SVM.output.ipynb",
   "parameters": {
    "MAX_ITERS": 500,
    "M_CLASIF": "SVM",
    "M_FICHERO": "metricas_7265",
    "M_SELECT": "RF",
    "M_TIPO": "mul_m",
    "PRE_DATA_FILE": "rows_transpose_norm_by_gene_id_with_target_num_",
    "P_FICHERO": "param_0000_7265_mul_m_RF_SVM.yaml",
    "R_FICHERO": "resultados_7265",
    "SCORING": "roc_auc_ovr",
    "SEMILLA": 7265,
    "eval_clasifier": "SVC(probability=True, random_state=SEMILLA)",
    "eval_selector": "SelectFromModel(estimator=RandomForestClassifier(random_state=SEMILLA), threshold=-np.inf)",
    "param_distributions": {
     "clasifier__C": [
      10
     ],
     "clasifier__gamma": [
      0.01
     ],
     "clasifier__kernel": [
      "rbf"
     ],
     "selector__estimator__n_estimators": [
      400
     ],
     "selector__max_features": [
      200
     ]
    }
   },
   "start_time": "2023-10-30T15:12:47.211089",
   "version": "2.4.0"
  }
 },
 "nbformat": 4,
 "nbformat_minor": 5
}