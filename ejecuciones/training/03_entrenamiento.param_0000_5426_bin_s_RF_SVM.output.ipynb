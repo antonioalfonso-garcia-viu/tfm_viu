{
 "cells": [
  {
   "cell_type": "markdown",
   "id": "7c15ca26",
   "metadata": {
    "papermill": {
     "duration": 0.0,
     "end_time": "2023-10-30T05:22:43.169573",
     "exception": false,
     "start_time": "2023-10-30T05:22:43.169573",
     "status": "completed"
    },
    "tags": []
   },
   "source": [
    "##### Inicio"
   ]
  },
  {
   "cell_type": "markdown",
   "id": "cd943161",
   "metadata": {
    "papermill": {
     "duration": 0.0,
     "end_time": "2023-10-30T05:22:43.185198",
     "exception": false,
     "start_time": "2023-10-30T05:22:43.185198",
     "status": "completed"
    },
    "tags": []
   },
   "source": [
    "#### Carga de datos"
   ]
  },
  {
   "cell_type": "code",
   "execution_count": 1,
   "id": "8c933b1c",
   "metadata": {
    "execution": {
     "iopub.execute_input": "2023-10-30T05:22:43.185198Z",
     "iopub.status.busy": "2023-10-30T05:22:43.185198Z",
     "iopub.status.idle": "2023-10-30T05:22:44.365461Z",
     "shell.execute_reply": "2023-10-30T05:22:44.365461Z"
    },
    "papermill": {
     "duration": 1.180263,
     "end_time": "2023-10-30T05:22:44.365461",
     "exception": false,
     "start_time": "2023-10-30T05:22:43.185198",
     "status": "completed"
    },
    "tags": []
   },
   "outputs": [
    {
     "name": "stdout",
     "output_type": "stream",
     "text": [
      "CPU_COUNT: 24; NODE: amilcar32; sys.version: 3.10.12 | packaged by Anaconda, Inc. | (main, Jul  5 2023, 19:09:20) [MSC v.1916 64 bit (AMD64)]\n",
      "LOKY_MAX_CPU_COUNT is not set.\n",
      "OMP_NUM_THREADS is not set.\n"
     ]
    }
   ],
   "source": [
    "import os\n",
    "import numpy as np\n",
    "import pandas as pd\n",
    "import datetime\n",
    "import sklearn\n",
    "import logging\n",
    "import warnings\n",
    "\n",
    "from sklearn.pipeline import Pipeline\n",
    "from sklearn.model_selection import RandomizedSearchCV, KFold, cross_val_score, train_test_split\n",
    "from sklearn.metrics import accuracy_score, confusion_matrix, classification_report, roc_auc_score\n",
    "\n",
    "#  cargar algoritmos para aprendizaje supervisado\n",
    "from sklearn.feature_selection import SelectKBest, f_classif, SelectFromModel, mutual_info_classif\n",
    "from sklearn.svm import SVC\n",
    "from sklearn.ensemble import RandomForestClassifier\n",
    "from sklearn.linear_model import LogisticRegression,LogisticRegressionCV\n",
    "\n",
    "# importar fichero con utilidades propias\n",
    "from commons import myfunctions as myfunc\n"
   ]
  },
  {
   "cell_type": "markdown",
   "id": "861d1f13",
   "metadata": {
    "papermill": {
     "duration": 0.0,
     "end_time": "2023-10-30T05:22:44.365461",
     "exception": false,
     "start_time": "2023-10-30T05:22:44.365461",
     "status": "completed"
    },
    "tags": []
   },
   "source": [
    "#### Parámetros a utilizar en el entrenamiento.\n",
    "\n",
    "Se indican los 3 algoritmos de *selección de características* (eval_selector_xxx) y los 3 algoritmos para la _clasificación_ (eval_clasifier_xxx)\n",
    "\n",
    "En *param_distributions* se indicar los parámetros que utilizan los algoritmos en la función RandomSearchCV.\n",
    "\n",
    "Esta celda tiene la etiqueta **parameters** que servirá para poder lanzar los entrenamientos con la utilidad **papermill** pasándole un fichero con los parámetros. Los nuevos parámetros se situarán tras esta celda para tener prevalencia."
   ]
  },
  {
   "cell_type": "code",
   "execution_count": 2,
   "id": "304eab3c",
   "metadata": {
    "execution": {
     "iopub.execute_input": "2023-10-30T05:22:44.365461Z",
     "iopub.status.busy": "2023-10-30T05:22:44.365461Z",
     "iopub.status.idle": "2023-10-30T05:22:44.397667Z",
     "shell.execute_reply": "2023-10-30T05:22:44.396703Z"
    },
    "papermill": {
     "duration": 0.03302,
     "end_time": "2023-10-30T05:22:44.398481",
     "exception": false,
     "start_time": "2023-10-30T05:22:44.365461",
     "status": "completed"
    },
    "tags": [
     "parameters"
    ]
   },
   "outputs": [
    {
     "name": "stdout",
     "output_type": "stream",
     "text": [
      "20231030T062244 : amilcar32 : INFO : Utilizando parámetros de mul_m\n"
     ]
    }
   ],
   "source": [
    "#  Parametros para el entrenamiento\n",
    "\n",
    "SEMILLA=        42\n",
    "M_TIPO=         \"mul_m\"\n",
    "M_SELECT=       \"MI\"\n",
    "M_CLASIF=       \"SVM\"\n",
    "R_FICHERO=      \"resultados\"\n",
    "M_FICHERO=      \"metricas\"\n",
    "PRE_DATA_FILE=  \"rows_transpose_norm_by_gene_id_with_target_num_\"\n",
    "SCORING=        \"roc_auc_ovr\" \n",
    "MAX_ITERS=      100\n",
    "\n",
    "def mutual_info_classif_state(X, y):\n",
    "    return mutual_info_classif(X, y, random_state=SEMILLA)\n",
    "\n",
    "eval_selector_mi = \"SelectKBest(score_func=mutual_info_classif_state)\"\n",
    "eval_selector_rf=  \"SelectFromModel(estimator=RandomForestClassifier(random_state=SEMILLA), threshold=-np.inf)\"\n",
    "eval_selector_anova=  \"SelectKBest(score_func=f_classif)\"\n",
    "\n",
    "eval_clasifier_svm= \"SVC(probability=True, random_state=SEMILLA)\"\n",
    "eval_clasifier_rf= \"RandomForestClassifier(random_state=SEMILLA)\"\n",
    "eval_clasifier_lr= \"LogisticRegressionCV(random_state=SEMILLA)\"\n",
    "\n",
    "if M_TIPO.startswith(\"bin_m\"):\n",
    "    myfunc.verbose(f\"Utilizando parámetros de {M_TIPO}\")\n",
    "    eval_selector = eval_selector_mi\n",
    "    eval_clasifier = eval_clasifier_svm\n",
    "\n",
    "    SEMILLA = 6578\n",
    "    M_SELECT = \"MI\"\n",
    "    M_CLASIF = \"SVM\"\n",
    "    param_distributions = {'selector__k': [1000], \n",
    "         'clasifier__kernel': ['rbf'], 'clasifier__gamma': [0.01], 'clasifier__C': [100]}\n",
    "elif M_TIPO.startswith(\"bin_s\"):\n",
    "    myfunc.verbose(f\"Utilizando parámetros de {M_TIPO}\")\n",
    "    eval_selector = eval_selector_rf\n",
    "    eval_clasifier = eval_clasifier_lr\n",
    "\n",
    "    SEMILLA = 6191\n",
    "    M_SELECT = \"RF\"\n",
    "    M_CLASIF = \"LR_L2\"\n",
    "    param_distributions = {'selector__max_features': [1000], 'selector__estimator__n_estimators': [200], \n",
    "        'clasifier__solver': ['lbfgs'], 'clasifier__penalty': ['l2'], 'clasifier__max_iter': [10000]}\n",
    "\n",
    "elif M_TIPO.startswith(\"mul_m\"):\n",
    "    myfunc.verbose(f\"Utilizando parámetros de {M_TIPO}\")\n",
    " \n",
    "    eval_selector = eval_selector_rf\n",
    "    eval_clasifier = eval_clasifier_lr\n",
    "\n",
    "    SEMILLA = 6191\n",
    "    M_SELECT = \"RF\"\n",
    "    M_CLASIF = \"LR_L2\"\n",
    "    param_distributions = {'selector__max_features': [1000], 'selector__estimator__n_estimators': [400], \n",
    "        'clasifier__solver': ['lbfgs'], 'clasifier__penalty': ['l2'], 'clasifier__max_iter': [10000]}\n",
    "\n",
    "else:\n",
    "    # M_TIPO.startswith(\"mul_s\"):\n",
    "    myfunc.verbose(f\"Utilizando parámetros de {M_TIPO}\")\n",
    "    eval_selector = eval_selector_anova\n",
    "    eval_clasifier = eval_clasifier_lr\n",
    "\n",
    "    SEMILLA = 1860\n",
    "    M_SELECT = \"ANOVA\"\n",
    "    M_CLASIF = \"LR_L2\"\n",
    "    param_distributions = {'selector__k': [1000], \n",
    "        'clasifier__solver': ['saga'], 'clasifier__penalty': ['l2'], 'clasifier__max_iter': [10000]}\n",
    "\n"
   ]
  },
  {
   "cell_type": "code",
   "execution_count": 3,
   "id": "56e64b85",
   "metadata": {
    "execution": {
     "iopub.execute_input": "2023-10-30T05:22:44.398481Z",
     "iopub.status.busy": "2023-10-30T05:22:44.398481Z",
     "iopub.status.idle": "2023-10-30T05:22:44.412485Z",
     "shell.execute_reply": "2023-10-30T05:22:44.412485Z"
    },
    "papermill": {
     "duration": 0.014004,
     "end_time": "2023-10-30T05:22:44.412485",
     "exception": false,
     "start_time": "2023-10-30T05:22:44.398481",
     "status": "completed"
    },
    "tags": [
     "injected-parameters"
    ]
   },
   "outputs": [],
   "source": [
    "# Parameters\n",
    "M_TIPO = \"bin_s\"\n",
    "M_SELECT = \"RF\"\n",
    "M_CLASIF = \"SVM\"\n",
    "P_FICHERO = \"param_0000_5426_bin_s_RF_SVM.yaml\"\n",
    "R_FICHERO = \"resultados_5426\"\n",
    "M_FICHERO = \"metricas_5426\"\n",
    "PRE_DATA_FILE = \"rows_transpose_norm_by_gene_id_with_target_num_\"\n",
    "SCORING = \"roc_auc_ovr\"\n",
    "SEMILLA = 5426\n",
    "MAX_ITERS = 500\n",
    "eval_selector = \"SelectFromModel(estimator=RandomForestClassifier(random_state=SEMILLA), threshold=-np.inf)\"\n",
    "eval_clasifier = \"SVC(probability=True, random_state=SEMILLA)\"\n",
    "param_distributions = {\n",
    "    \"selector__max_features\": [500],\n",
    "    \"selector__estimator__n_estimators\": [200],\n",
    "    \"clasifier__kernel\": [\"rbf\"],\n",
    "    \"clasifier__gamma\": [0.01],\n",
    "    \"clasifier__C\": [1],\n",
    "}\n"
   ]
  },
  {
   "cell_type": "code",
   "execution_count": 4,
   "id": "b04f6421",
   "metadata": {
    "execution": {
     "iopub.execute_input": "2023-10-30T05:22:44.412485Z",
     "iopub.status.busy": "2023-10-30T05:22:44.412485Z",
     "iopub.status.idle": "2023-10-30T05:22:44.428116Z",
     "shell.execute_reply": "2023-10-30T05:22:44.428116Z"
    },
    "papermill": {
     "duration": 0.015631,
     "end_time": "2023-10-30T05:22:44.428116",
     "exception": false,
     "start_time": "2023-10-30T05:22:44.412485",
     "status": "completed"
    },
    "tags": []
   },
   "outputs": [],
   "source": [
    "DATA_FILE = PRE_DATA_FILE + M_TIPO\n",
    "\n",
    "# si viene \"None\" en el parámetro max_depth, se le quitan las comillas para que no sea entendido por el algoritmo como un texto\n",
    "if \"clasifier__max_depth\" in param_distributions:\n",
    "    param_distributions['clasifier__max_depth'] = [None if x == 'None' else x for x in param_distributions['clasifier__max_depth']]"
   ]
  },
  {
   "cell_type": "markdown",
   "id": "51f8da24",
   "metadata": {
    "papermill": {
     "duration": 0.0,
     "end_time": "2023-10-30T05:22:44.428116",
     "exception": false,
     "start_time": "2023-10-30T05:22:44.428116",
     "status": "completed"
    },
    "tags": []
   },
   "source": [
    "Asignar los algoritmos que se utilizarán en la función RandomSearchCV"
   ]
  },
  {
   "cell_type": "code",
   "execution_count": 5,
   "id": "c6949d0b",
   "metadata": {
    "execution": {
     "iopub.execute_input": "2023-10-30T05:22:44.443740Z",
     "iopub.status.busy": "2023-10-30T05:22:44.443740Z",
     "iopub.status.idle": "2023-10-30T05:22:44.459368Z",
     "shell.execute_reply": "2023-10-30T05:22:44.459368Z"
    },
    "papermill": {
     "duration": 0.031252,
     "end_time": "2023-10-30T05:22:44.459368",
     "exception": false,
     "start_time": "2023-10-30T05:22:44.428116",
     "status": "completed"
    },
    "tags": []
   },
   "outputs": [],
   "source": [
    "algor_selector=eval(eval_selector)\n",
    "algor_clasifier=eval(eval_clasifier)"
   ]
  },
  {
   "cell_type": "markdown",
   "id": "e8a88703",
   "metadata": {
    "papermill": {
     "duration": 0.015625,
     "end_time": "2023-10-30T05:22:44.474993",
     "exception": false,
     "start_time": "2023-10-30T05:22:44.459368",
     "status": "completed"
    },
    "tags": []
   },
   "source": [
    "#### Comprobar el entorno y leer fichero de muestras"
   ]
  },
  {
   "cell_type": "code",
   "execution_count": 6,
   "id": "eb8a29e0",
   "metadata": {
    "execution": {
     "iopub.execute_input": "2023-10-30T05:22:44.474993Z",
     "iopub.status.busy": "2023-10-30T05:22:44.474993Z",
     "iopub.status.idle": "2023-10-30T05:22:44.649449Z",
     "shell.execute_reply": "2023-10-30T05:22:44.649449Z"
    },
    "papermill": {
     "duration": 0.174456,
     "end_time": "2023-10-30T05:22:44.649449",
     "exception": false,
     "start_time": "2023-10-30T05:22:44.474993",
     "status": "completed"
    },
    "tags": []
   },
   "outputs": [
    {
     "name": "stdout",
     "output_type": "stream",
     "text": [
      "20231030T062244 : amilcar32 : INFO : Encontrada carpeta DATA_DIR=..\\tfm_viu\\datos\n",
      "20231030T062244 : amilcar32 : INFO : Encontrada carpeta CFDNA_DIR=..\\tfm_viu\\datos\\cfDNA_5hmC\n",
      "20231030T062244 : amilcar32 : INFO : Encontrada carpeta GENCODE_DIR=..\\tfm_viu\\datos\\gencode\n",
      "20231030T062244 : amilcar32 : INFO : Encontrada carpeta H5_DIR=..\\tfm_viu\\datos\\h5\n",
      "20231030T062244 : amilcar32 : INFO : Encontrada carpeta LOG_DIR=..\\tfm_viu\\datos\\logs\n",
      "20231030T062244 : amilcar32 : INFO : Encontrada carpeta CSV_DIR=..\\tfm_viu\\datos\\csv\n",
      "20231030T062244 : amilcar32 : INFO : Encontrada carpeta MODEL_DIR=..\\tfm_viu\\ejecuciones\\modelos\n",
      "20231030T062244 : amilcar32 : INFO : Encontrada carpeta EXEC_DIR=..\\tfm_viu\\ejecuciones\n",
      "20231030T062244 : amilcar32 : INFO : Encontrada carpeta MET_DIR=..\\tfm_viu\\ejecuciones\\metricas\n",
      "20231030T062244 : amilcar32 : INFO : Inicio leer fichero h5 ..\\tfm_viu\\datos\\h5\\rows_transpose_norm_by_gene_id_with_target_num_bin_s.h5\n",
      "20231030T062244 : amilcar32 : INFO : Leyendo clave /df\n"
     ]
    },
    {
     "name": "stdout",
     "output_type": "stream",
     "text": [
      "20231030T062244 : amilcar32 : INFO : Tamaño (443, 18876)\n",
      "20231030T062244 : amilcar32 : INFO : Fin leer fichero h5 ..\\tfm_viu\\datos\\h5\\rows_transpose_norm_by_gene_id_with_target_num_bin_s.h5\n"
     ]
    },
    {
     "data": {
      "text/plain": [
       "target\n",
       "0    221\n",
       "1    222\n",
       "dtype: int64"
      ]
     },
     "metadata": {},
     "output_type": "display_data"
    },
    {
     "name": "stdout",
     "output_type": "stream",
     "text": [
      "Shape df: (443, 18876)\n",
      "Shape X_train: (354, 18875)\n",
      "Shape X_test: (89, 18875)\n"
     ]
    }
   ],
   "source": [
    "start_time = datetime.datetime.now()\n",
    "\n",
    "myfunc.reset_vars()\n",
    "\n",
    "myfunc.NOTEBK_FILENAME = myfunc.get_nb_name()\n",
    "\n",
    "myfunc.check_enviroment(myfunc.DATA_DIR, myfunc.CFDNA_DIR, myfunc.GENCODE_DIR, myfunc.H5_DIR, myfunc.LOG_DIR, myfunc.CSV_DIR, myfunc.MODEL_DIR, myfunc.EXEC_DIR, myfunc.MET_DIR)\n",
    "\n",
    "# Leer fichero con las muestras\n",
    "df_t = myfunc.read_h5_to_df(DATA_FILE, myfunc.H5_DIR)\n",
    "display(df_t.groupby(\"target\").size())\n",
    "print(\"Shape df:\",df_t.shape)\n",
    "\n",
    "# Separar caracteristicas/genes de las etiquetas/tipos de cáncer\n",
    "X = df_t.iloc[:, :-1]  # Todas las columnas excepto la última\n",
    "y = df_t.iloc[:, -1]  # La última columna contiene los identificadores de los tipos de cáncer\n",
    "\n",
    "#  Crear el conjunto de datos de entrenamiento y de pruebas, y se fija la semilla para siempre coger el mismo juego de muestras\n",
    "X_train, X_test, y_train, y_test = train_test_split(X, y, test_size=0.2, shuffle=True, random_state=42)\n",
    "print(\"Shape X_train:\",X_train.shape)\n",
    "print(\"Shape X_test:\",X_test.shape)\n"
   ]
  },
  {
   "cell_type": "markdown",
   "id": "2beda859",
   "metadata": {
    "papermill": {
     "duration": 0.0,
     "end_time": "2023-10-30T05:22:44.649449",
     "exception": false,
     "start_time": "2023-10-30T05:22:44.649449",
     "status": "completed"
    },
    "tags": []
   },
   "source": [
    "#### Selección de características y clasificación."
   ]
  },
  {
   "cell_type": "code",
   "execution_count": 7,
   "id": "571de568",
   "metadata": {
    "execution": {
     "iopub.execute_input": "2023-10-30T05:22:44.649449Z",
     "iopub.status.busy": "2023-10-30T05:22:44.649449Z",
     "iopub.status.idle": "2023-10-30T05:23:16.863737Z",
     "shell.execute_reply": "2023-10-30T05:23:16.863737Z"
    },
    "papermill": {
     "duration": 32.214288,
     "end_time": "2023-10-30T05:23:16.863737",
     "exception": false,
     "start_time": "2023-10-30T05:22:44.649449",
     "status": "completed"
    },
    "tags": []
   },
   "outputs": [
    {
     "name": "stdout",
     "output_type": "stream",
     "text": [
      "20231030T062244"
     ]
    },
    {
     "name": "stdout",
     "output_type": "stream",
     "text": [
      " : amilcar32 : INFO : Iniciando entrenamiento\n",
      "num_iter: 1 , max_iter: 1\n",
      "Fitting 5 folds for each of 1 candidates, totalling 5 fits\n"
     ]
    },
    {
     "name": "stdout",
     "output_type": "stream",
     "text": [
      "Mejores Hiperparámetros: {'selector__max_features': 500, 'selector__estimator__n_estimators': 200, 'clasifier__kernel': 'rbf', 'clasifier__gamma': 0.01, 'clasifier__C': 1}\n",
      "Mejor Puntuación: 0.7327\n",
      "20231030T062316 : amilcar32 : INFO : Fin entrenamiento\n"
     ]
    }
   ],
   "source": [
    "myfunc.verbose(\"Iniciando entrenamiento\")\n",
    "\n",
    "kf = KFold(n_splits=5, shuffle=True, random_state=SEMILLA)\n",
    "\n",
    "# Crear el pipeline para el flujo de tareas\n",
    "tasks_pipeline = Pipeline([\n",
    "    ('selector', algor_selector),\n",
    "    ('clasifier', algor_clasifier)\n",
    "])\n",
    "\n",
    "# MAX_ITERS puede limitar el número de iteraciones si son excesivas para las combinaciones de parámetros buscando un óptimo local, \n",
    "# sino funcionaría como GridSearchCV al revisar todas las cominaciones de los parámetros\n",
    "num_iteraciones = 1\n",
    "num_iteraciones = num_iteraciones * np.prod([len(elemento1) for _, elemento1 in param_distributions.items()])\n",
    "max_iteraciones = num_iteraciones if num_iteraciones <= MAX_ITERS else MAX_ITERS\n",
    "print(\"num_iter:\",num_iteraciones,\", max_iter:\",max_iteraciones)\n",
    "\n",
    "random_search = RandomizedSearchCV(\n",
    "    tasks_pipeline, \n",
    "    param_distributions, \n",
    "    n_iter=max_iteraciones,\n",
    "    scoring=SCORING,\n",
    "    cv=kf,\n",
    "    verbose=3, \n",
    "    random_state=SEMILLA, \n",
    "    n_jobs=-1\n",
    "    )\n",
    "\n",
    "# Entrenar el modelo\n",
    "random_search.fit(X_train, y_train)\n",
    "\n",
    "# Ver los mejores hiperparámetros encontrados\n",
    "print(f'Mejores Hiperparámetros: {random_search.best_params_}')\n",
    "print(f'Mejor Puntuación: {random_search.best_score_:.4f}')\n",
    "\n",
    "# Nos quedamos con el mejor modelo para ver las métricas\n",
    "mejor_modelo = random_search.best_estimator_\n",
    "\n",
    "myfunc.verbose(\"Fin entrenamiento\")"
   ]
  },
  {
   "cell_type": "markdown",
   "id": "752185b4",
   "metadata": {
    "papermill": {
     "duration": 0.015668,
     "end_time": "2023-10-30T05:23:16.894964",
     "exception": false,
     "start_time": "2023-10-30T05:23:16.879296",
     "status": "completed"
    },
    "tags": []
   },
   "source": [
    "#### Guardar modelo"
   ]
  },
  {
   "cell_type": "code",
   "execution_count": 8,
   "id": "37899a54",
   "metadata": {
    "execution": {
     "iopub.execute_input": "2023-10-30T05:23:16.926255Z",
     "iopub.status.busy": "2023-10-30T05:23:16.910547Z",
     "iopub.status.idle": "2023-10-30T05:23:17.113771Z",
     "shell.execute_reply": "2023-10-30T05:23:17.113771Z"
    },
    "papermill": {
     "duration": 0.203224,
     "end_time": "2023-10-30T05:23:17.113771",
     "exception": false,
     "start_time": "2023-10-30T05:23:16.910547",
     "status": "completed"
    },
    "tags": []
   },
   "outputs": [
    {
     "name": "stdout",
     "output_type": "stream",
     "text": [
      "20231030T062316 : amilcar32 : INFO : Inicio guardar fichero ..\\tfm_viu\\ejecuciones\\modelos\\modelo_5426_bin_s_RF_SVM.pkl\n"
     ]
    },
    {
     "name": "stdout",
     "output_type": "stream",
     "text": [
      "20231030T062317 : amilcar32 : INFO : Fin guardar fichero ..\\tfm_viu\\ejecuciones\\modelos\\modelo_5426_bin_s_RF_SVM.pkl\n"
     ]
    }
   ],
   "source": [
    "fichero_modelo = str.replace(\"modelo_\"+str(SEMILLA).zfill(4)+\"_\"+M_TIPO+\"_\"+M_SELECT+\"_\"+M_CLASIF+\".pkl\", \" \", \"_\")\n",
    "\n",
    "myfunc.save_modelo(mejor_modelo, myfunc.MODEL_DIR, fichero_modelo)"
   ]
  },
  {
   "cell_type": "markdown",
   "id": "f5fc6cdf",
   "metadata": {
    "papermill": {
     "duration": 0.015623,
     "end_time": "2023-10-30T05:23:17.129394",
     "exception": false,
     "start_time": "2023-10-30T05:23:17.113771",
     "status": "completed"
    },
    "tags": []
   },
   "source": [
    "#### Ver resultados del las iteraciones hechas por RandomSearchCV"
   ]
  },
  {
   "cell_type": "code",
   "execution_count": 9,
   "id": "5cf2ec9a",
   "metadata": {
    "execution": {
     "iopub.execute_input": "2023-10-30T05:23:17.160546Z",
     "iopub.status.busy": "2023-10-30T05:23:17.160546Z",
     "iopub.status.idle": "2023-10-30T05:23:17.191796Z",
     "shell.execute_reply": "2023-10-30T05:23:17.191796Z"
    },
    "papermill": {
     "duration": 0.046873,
     "end_time": "2023-10-30T05:23:17.191796",
     "exception": false,
     "start_time": "2023-10-30T05:23:17.144923",
     "status": "completed"
    },
    "tags": []
   },
   "outputs": [
    {
     "name": "stdout",
     "output_type": "stream",
     "text": [
      "20231030T062317 : amilcar32 : INFO : Inicio ver resultados\n",
      "Mejores Hiperparámetros: {'selector__max_features': 500, 'selector__estimator__n_estimators': 200, 'clasifier__kernel': 'rbf', 'clasifier__gamma': 0.01, 'clasifier__C': 1}\n",
      "Mejores puntuaciones: 0.7327 | Params: {'selector__max_features': 500, 'selector__estimator__n_estimators': 200, 'clasifier__kernel': 'rbf', 'clasifier__gamma': 0.01, 'clasifier__C': 1}\n",
      "Media de las puntuaciones: 0.7327 | Params: {'selector__max_features': 500, 'selector__estimator__n_estimators': 200, 'clasifier__kernel': 'rbf', 'clasifier__gamma': 0.01, 'clasifier__C': 1}\n",
      "20231030T062317 : amilcar32 : INFO : Fin resultados\n"
     ]
    }
   ],
   "source": [
    "myfunc.ver_resultados_search(random_search)"
   ]
  },
  {
   "cell_type": "markdown",
   "id": "94e2b25e",
   "metadata": {
    "papermill": {
     "duration": 0.015614,
     "end_time": "2023-10-30T05:23:17.223093",
     "exception": false,
     "start_time": "2023-10-30T05:23:17.207479",
     "status": "completed"
    },
    "tags": []
   },
   "source": [
    "#### Ver métricas del mejor modelo"
   ]
  },
  {
   "cell_type": "code",
   "execution_count": 10,
   "id": "ab8a6d51",
   "metadata": {
    "execution": {
     "iopub.execute_input": "2023-10-30T05:23:17.254356Z",
     "iopub.status.busy": "2023-10-30T05:23:17.254356Z",
     "iopub.status.idle": "2023-10-30T05:23:19.333254Z",
     "shell.execute_reply": "2023-10-30T05:23:19.333254Z"
    },
    "papermill": {
     "duration": 2.094581,
     "end_time": "2023-10-30T05:23:19.333254",
     "exception": false,
     "start_time": "2023-10-30T05:23:17.238673",
     "status": "completed"
    },
    "tags": []
   },
   "outputs": [
    {
     "name": "stdout",
     "output_type": "stream",
     "text": [
      "20231030T062317 : amilcar32 : INFO : Inicio ver métricas\n"
     ]
    },
    {
     "name": "stdout",
     "output_type": "stream",
     "text": [
      "              precision    recall  f1-score   support\n",
      "\n",
      "           0       0.61      0.72      0.66        46\n",
      "           1       0.63      0.51      0.56        43\n",
      "\n",
      "    accuracy                           0.62        89\n",
      "   macro avg       0.62      0.61      0.61        89\n",
      "weighted avg       0.62      0.62      0.61        89\n",
      "\n",
      "\n",
      "\n",
      "   Exactitud: 0.6180\n",
      "   Precisión: 0.6198\n",
      "Sensibilidad: 0.6145\n",
      "    F1-score: 0.6121\n",
      "     AUC ROC: 0.6775\n"
     ]
    },
    {
     "data": {
      "image/png": "[encoded data removed]",
      "text/plain": [
       "<Figure size 300x100 with 2 Axes>"
      ]
     },
     "metadata": {},
     "output_type": "display_data"
    },
    {
     "data": {
      "image/png": "[encoded data removed]",
      "text/plain": [
       "<Figure size 800x500 with 1 Axes>"
      ]
     },
     "metadata": {},
     "output_type": "display_data"
    },
    {
     "name": "stdout",
     "output_type": "stream",
     "text": [
      "20231030T062319 : amilcar32 : INFO : Fin ver métricas\n"
     ]
    }
   ],
   "source": [
    "if M_TIPO.startswith(\"bin\"):\n",
    "    myfunc.ver_metricas(mejor_modelo, X_test, y_test)\n",
    "else:\n",
    "    myfunc.ver_metricas_multi(mejor_modelo, X_test, y_test)\n"
   ]
  },
  {
   "cell_type": "markdown",
   "id": "bc2881c4",
   "metadata": {
    "papermill": {
     "duration": 0.015675,
     "end_time": "2023-10-30T05:23:19.364447",
     "exception": false,
     "start_time": "2023-10-30T05:23:19.348772",
     "status": "completed"
    },
    "tags": []
   },
   "source": [
    "#### Finalización del notebook"
   ]
  },
  {
   "cell_type": "code",
   "execution_count": 11,
   "id": "2826e6d8",
   "metadata": {
    "execution": {
     "iopub.execute_input": "2023-10-30T05:23:19.395691Z",
     "iopub.status.busy": "2023-10-30T05:23:19.395691Z",
     "iopub.status.idle": "2023-10-30T05:23:19.426936Z",
     "shell.execute_reply": "2023-10-30T05:23:19.426936Z"
    },
    "papermill": {
     "duration": 0.046914,
     "end_time": "2023-10-30T05:23:19.426936",
     "exception": false,
     "start_time": "2023-10-30T05:23:19.380022",
     "status": "completed"
    },
    "tags": []
   },
   "outputs": [
    {
     "name": "stdout",
     "output_type": "stream",
     "text": [
      "20231030T062319 : amilcar32 : INFO : Notebook ha tardado 34 seconds\n"
     ]
    }
   ],
   "source": [
    "end_time = datetime.datetime.now()\n",
    "total_time = end_time - start_time\n",
    "myfunc.verbose(f\"Notebook ha tardado {total_time.seconds} seconds\")"
   ]
  },
  {
   "cell_type": "markdown",
   "id": "1807c81a",
   "metadata": {
    "papermill": {
     "duration": 0.015628,
     "end_time": "2023-10-30T05:23:19.458252",
     "exception": false,
     "start_time": "2023-10-30T05:23:19.442624",
     "status": "completed"
    },
    "tags": []
   },
   "source": [
    "#### Guardar métricas"
   ]
  },
  {
   "cell_type": "code",
   "execution_count": 12,
   "id": "9901a063",
   "metadata": {
    "execution": {
     "iopub.execute_input": "2023-10-30T05:23:19.489452Z",
     "iopub.status.busy": "2023-10-30T05:23:19.489452Z",
     "iopub.status.idle": "2023-10-30T05:23:21.145650Z",
     "shell.execute_reply": "2023-10-30T05:23:21.145650Z"
    },
    "papermill": {
     "duration": 1.671764,
     "end_time": "2023-10-30T05:23:21.145650",
     "exception": false,
     "start_time": "2023-10-30T05:23:19.473886",
     "status": "completed"
    },
    "tags": []
   },
   "outputs": [
    {
     "name": "stdout",
     "output_type": "stream",
     "text": [
      "20231030T062319 : amilcar32 : INFO : Inicio guardar métricas\n",
      "20231030T062319 : amilcar32 : INFO : Inicio leer fichero ..\\tfm_viu\\ejecuciones\\metricas\\metricas_5426.csv\n",
      "20231030T062319 : amilcar32 : INFO : Fin leer fichero ..\\tfm_viu\\ejecuciones\\metricas\\metricas_5426.csv\n"
     ]
    },
    {
     "name": "stdout",
     "output_type": "stream",
     "text": [
      "20231030T062321 : amilcar32 : INFO : Inicio guardar fichero ..\\tfm_viu\\ejecuciones\\metricas\\metricas_5426.csv\n",
      "20231030T062321 : amilcar32 : INFO : Fichero borrado ..\\tfm_viu\\ejecuciones\\metricas\\metricas_5426.csv\n",
      "20231030T062321 : amilcar32 : INFO : Fin guardar fichero ..\\tfm_viu\\ejecuciones\\metricas\\metricas_5426.csv\n",
      "20231030T062321 : amilcar32 : INFO : Fin guardar métricas\n",
      "20231030T062321 : amilcar32 : INFO : Inicio leer fichero ..\\tfm_viu\\ejecuciones\\metricas\\metricas_5426.csv\n",
      "20231030T062321 : amilcar32 : INFO : Fin leer fichero ..\\tfm_viu\\ejecuciones\\metricas\\metricas_5426.csv\n"
     ]
    },
    {
     "data": {
      "text/html": [
       "<div>\n",
       "<style scoped>\n",
       "    .dataframe tbody tr th:only-of-type {\n",
       "        vertical-align: middle;\n",
       "    }\n",
       "\n",
       "    .dataframe tbody tr th {\n",
       "        vertical-align: top;\n",
       "    }\n",
       "\n",
       "    .dataframe thead th {\n",
       "        text-align: right;\n",
       "    }\n",
       "</style>\n",
       "<table border=\"1\" class=\"dataframe\">\n",
       "  <thead>\n",
       "    <tr style=\"text-align: right;\">\n",
       "      <th></th>\n",
       "      <th>tipo</th>\n",
       "      <th>select</th>\n",
       "      <th>clasific</th>\n",
       "      <th>semilla</th>\n",
       "      <th>accuracy</th>\n",
       "      <th>precision</th>\n",
       "      <th>recall</th>\n",
       "      <th>f1_score</th>\n",
       "      <th>roc_auc</th>\n",
       "      <th>hostname</th>\n",
       "      <th>total_time_sec</th>\n",
       "      <th>datetime</th>\n",
       "      <th>fichero_modelo</th>\n",
       "      <th>params</th>\n",
       "      <th>shape</th>\n",
       "      <th>features</th>\n",
       "    </tr>\n",
       "  </thead>\n",
       "  <tbody>\n",
       "    <tr>\n",
       "      <th>0</th>\n",
       "      <td>bin_s</td>\n",
       "      <td>RF</td>\n",
       "      <td>SVM</td>\n",
       "      <td>5426</td>\n",
       "      <td>0.617978</td>\n",
       "      <td>0.619841</td>\n",
       "      <td>0.614510</td>\n",
       "      <td>0.612051</td>\n",
       "      <td>0.677452</td>\n",
       "      <td>amilcar32</td>\n",
       "      <td>34</td>\n",
       "      <td>2023-10-30 06:23:21.036316</td>\n",
       "      <td>modelo_5426_bin_s_RF_SVM.pkl</td>\n",
       "      <td>{'selector__max_features': 500, 'selector__est...</td>\n",
       "      <td>X_test:(89, 18875)</td>\n",
       "      <td>['ENSG00000004660.15', 'ENSG00000005884.18', '...</td>\n",
       "    </tr>\n",
       "    <tr>\n",
       "      <th>0</th>\n",
       "      <td>bin_s</td>\n",
       "      <td>RF</td>\n",
       "      <td>RF</td>\n",
       "      <td>5426</td>\n",
       "      <td>0.584270</td>\n",
       "      <td>0.583587</td>\n",
       "      <td>0.583418</td>\n",
       "      <td>0.583428</td>\n",
       "      <td>0.721941</td>\n",
       "      <td>amilcar32</td>\n",
       "      <td>104</td>\n",
       "      <td>2023-10-30 06:22:38.644381</td>\n",
       "      <td>modelo_5426_bin_s_RF_RF.pkl</td>\n",
       "      <td>{'selector__max_features': 500, 'selector__est...</td>\n",
       "      <td>X_test:(89, 18875)</td>\n",
       "      <td>['ENSG00000000971.17', 'ENSG00000002587.10', '...</td>\n",
       "    </tr>\n",
       "    <tr>\n",
       "      <th>0</th>\n",
       "      <td>bin_s</td>\n",
       "      <td>RF</td>\n",
       "      <td>LR_L2</td>\n",
       "      <td>5426</td>\n",
       "      <td>0.719101</td>\n",
       "      <td>0.721362</td>\n",
       "      <td>0.716886</td>\n",
       "      <td>0.716813</td>\n",
       "      <td>0.788675</td>\n",
       "      <td>amilcar32</td>\n",
       "      <td>32</td>\n",
       "      <td>2023-10-30 06:20:46.173597</td>\n",
       "      <td>modelo_5426_bin_s_RF_LR_L2.pkl</td>\n",
       "      <td>{'selector__max_features': 1000, 'selector__es...</td>\n",
       "      <td>X_test:(89, 18875)</td>\n",
       "      <td>['ENSG00000000971.17', 'ENSG00000002726.21', '...</td>\n",
       "    </tr>\n",
       "  </tbody>\n",
       "</table>\n",
       "</div>"
      ],
      "text/plain": [
       "    tipo select clasific  semilla  accuracy  precision    recall  f1_score  \\\n",
       "0  bin_s     RF      SVM     5426  0.617978   0.619841  0.614510  0.612051   \n",
       "0  bin_s     RF       RF     5426  0.584270   0.583587  0.583418  0.583428   \n",
       "0  bin_s     RF    LR_L2     5426  0.719101   0.721362  0.716886  0.716813   \n",
       "\n",
       "    roc_auc   hostname  total_time_sec                    datetime  \\\n",
       "0  0.677452  amilcar32              34  2023-10-30 06:23:21.036316   \n",
       "0  0.721941  amilcar32             104  2023-10-30 06:22:38.644381   \n",
       "0  0.788675  amilcar32              32  2023-10-30 06:20:46.173597   \n",
       "\n",
       "                   fichero_modelo  \\\n",
       "0    modelo_5426_bin_s_RF_SVM.pkl   \n",
       "0     modelo_5426_bin_s_RF_RF.pkl   \n",
       "0  modelo_5426_bin_s_RF_LR_L2.pkl   \n",
       "\n",
       "                                              params               shape  \\\n",
       "0  {'selector__max_features': 500, 'selector__est...  X_test:(89, 18875)   \n",
       "0  {'selector__max_features': 500, 'selector__est...  X_test:(89, 18875)   \n",
       "0  {'selector__max_features': 1000, 'selector__es...  X_test:(89, 18875)   \n",
       "\n",
       "                                            features  \n",
       "0  ['ENSG00000004660.15', 'ENSG00000005884.18', '...  \n",
       "0  ['ENSG00000000971.17', 'ENSG00000002587.10', '...  \n",
       "0  ['ENSG00000000971.17', 'ENSG00000002726.21', '...  "
      ]
     },
     "metadata": {},
     "output_type": "display_data"
    }
   ],
   "source": [
    "if M_TIPO.startswith(\"bin\"):\n",
    "    myfunc.save_metricas_to_csv(random_search, X_test, y_test, M_TIPO, M_SELECT, M_CLASIF, total_time, SEMILLA, myfunc.MET_DIR, M_FICHERO, fichero_modelo)\n",
    "else:\n",
    "    myfunc.save_metricas_multi_to_csv(random_search, X_test, y_test, M_TIPO, M_SELECT, M_CLASIF, total_time, SEMILLA, myfunc.MET_DIR, M_FICHERO, fichero_modelo)\n",
    "\n",
    "df1=myfunc.read_metricas_to_df(myfunc.MET_DIR,M_FICHERO)\n",
    "\n",
    "display(df1.sort_values(\"datetime\", ascending=False)[:3])\n"
   ]
  },
  {
   "cell_type": "markdown",
   "id": "bf5244ac",
   "metadata": {
    "papermill": {
     "duration": 0.015729,
     "end_time": "2023-10-30T05:23:21.177006",
     "exception": false,
     "start_time": "2023-10-30T05:23:21.161277",
     "status": "completed"
    },
    "tags": []
   },
   "source": [
    "#### Guardar resultados"
   ]
  },
  {
   "cell_type": "code",
   "execution_count": 13,
   "id": "794804d6",
   "metadata": {
    "execution": {
     "iopub.execute_input": "2023-10-30T05:23:21.208203Z",
     "iopub.status.busy": "2023-10-30T05:23:21.208203Z",
     "iopub.status.idle": "2023-10-30T05:23:21.239442Z",
     "shell.execute_reply": "2023-10-30T05:23:21.239442Z"
    },
    "papermill": {
     "duration": 0.04687,
     "end_time": "2023-10-30T05:23:21.239442",
     "exception": false,
     "start_time": "2023-10-30T05:23:21.192572",
     "status": "completed"
    },
    "tags": []
   },
   "outputs": [
    {
     "name": "stdout",
     "output_type": "stream",
     "text": [
      "20231030T062321 : amilcar32 : INFO : Inicio guardar resultados\n",
      "20231030T062321 : amilcar32 : INFO : Inicio guardar fichero ..\\tfm_viu\\ejecuciones\\metricas\\resultados_5426_bin_s-RF-SVM.csv\n",
      "20231030T062321 : amilcar32 : INFO : Fin guardar fichero ..\\tfm_viu\\ejecuciones\\metricas\\resultados_5426_bin_s-RF-SVM.csv\n",
      "20231030T062321 : amilcar32 : INFO : Fin guardar resultados\n"
     ]
    }
   ],
   "source": [
    "fichero_resultados=R_FICHERO+\"_\"+M_TIPO+\"-\"+M_SELECT+\"-\"+M_CLASIF+\".csv\"\n",
    "myfunc.save_resultados_to_csv(M_TIPO, M_SELECT, M_CLASIF,  random_search, myfunc.MET_DIR, fichero_resultados)\n"
   ]
  }
 ],
 "metadata": {
  "kernelspec": {
   "display_name": "Python 3 (ipykernel)",
   "language": "python",
   "name": "python3"
  },
  "language_info": {
   "codemirror_mode": {
    "name": "ipython",
    "version": 3
   },
   "file_extension": ".py",
   "mimetype": "text/x-python",
   "name": "python",
   "nbconvert_exporter": "python",
   "pygments_lexer": "ipython3",
   "version": "3.10.12"
  },
  "papermill": {
   "default_parameters": {},
   "duration": 41.703431,
   "end_time": "2023-10-30T05:23:23.036276",
   "environment_variables": {},
   "exception": null,
   "input_path": "03_entrenamiento.ipynb",
   "output_path": "ejecuciones\\training\\03_entrenamiento.20231030T_62240.param_0000_5426_bin_s_RF_SVM.output.ipynb",
   "parameters": {
    "MAX_ITERS": 500,
    "M_CLASIF": "SVM",
    "M_FICHERO": "metricas_5426",
    "M_SELECT": "RF",
    "M_TIPO": "bin_s",
    "PRE_DATA_FILE": "rows_transpose_norm_by_gene_id_with_target_num_",
    "P_FICHERO": "param_0000_5426_bin_s_RF_SVM.yaml",
    "R_FICHERO": "resultados_5426",
    "SCORING": "roc_auc_ovr",
    "SEMILLA": 5426,
    "eval_clasifier": "SVC(probability=True, random_state=SEMILLA)",
    "eval_selector": "SelectFromModel(estimator=RandomForestClassifier(random_state=SEMILLA), threshold=-np.inf)",
    "param_distributions": {
     "clasifier__C": [
      1
     ],
     "clasifier__gamma": [
      0.01
     ],
     "clasifier__kernel": [
      "rbf"
     ],
     "selector__estimator__n_estimators": [
      200
     ],
     "selector__max_features": [
      500
     ]
    }
   },
   "start_time": "2023-10-30T05:22:41.332845",
   "version": "2.4.0"
  }
 },
 "nbformat": 4,
 "nbformat_minor": 5
}