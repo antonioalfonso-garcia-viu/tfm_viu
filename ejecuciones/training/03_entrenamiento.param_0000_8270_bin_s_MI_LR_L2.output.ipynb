{
 "cells": [
  {
   "cell_type": "markdown",
   "id": "bf730a9a",
   "metadata": {
    "papermill": {
     "duration": 0.004341,
     "end_time": "2023-10-29T20:15:52.843728",
     "exception": false,
     "start_time": "2023-10-29T20:15:52.839387",
     "status": "completed"
    },
    "tags": []
   },
   "source": [
    "##### Inicio"
   ]
  },
  {
   "cell_type": "markdown",
   "id": "b65baccf",
   "metadata": {
    "papermill": {
     "duration": 0.003379,
     "end_time": "2023-10-29T20:15:52.850822",
     "exception": false,
     "start_time": "2023-10-29T20:15:52.847443",
     "status": "completed"
    },
    "tags": []
   },
   "source": [
    "#### Carga de datos"
   ]
  },
  {
   "cell_type": "code",
   "execution_count": 1,
   "id": "12cfe660",
   "metadata": {
    "execution": {
     "iopub.execute_input": "2023-10-29T20:15:52.858949Z",
     "iopub.status.busy": "2023-10-29T20:15:52.858393Z",
     "iopub.status.idle": "2023-10-29T20:15:53.962243Z",
     "shell.execute_reply": "2023-10-29T20:15:53.961615Z"
    },
    "papermill": {
     "duration": 1.109581,
     "end_time": "2023-10-29T20:15:53.963723",
     "exception": false,
     "start_time": "2023-10-29T20:15:52.854142",
     "status": "completed"
    },
    "tags": []
   },
   "outputs": [
    {
     "name": "stdout",
     "output_type": "stream",
     "text": [
      "CPU_COUNT: 16; NODE: enderlab; sys.version: 3.10.11 (main, May 16 2023, 00:28:57) [GCC 11.2.0]\n",
      "LOKY_MAX_CPU_COUNT is not set.\n",
      "OMP_NUM_THREADS is not set.\n"
     ]
    }
   ],
   "source": [
    "import os\n",
    "import numpy as np\n",
    "import pandas as pd\n",
    "import datetime\n",
    "import sklearn\n",
    "import logging\n",
    "import warnings\n",
    "\n",
    "from sklearn.pipeline import Pipeline\n",
    "from sklearn.model_selection import RandomizedSearchCV, KFold, cross_val_score, train_test_split\n",
    "from sklearn.metrics import accuracy_score, confusion_matrix, classification_report, roc_auc_score\n",
    "\n",
    "#  cargar algoritmos para aprendizaje supervisado\n",
    "from sklearn.feature_selection import SelectKBest, f_classif, SelectFromModel, mutual_info_classif\n",
    "from sklearn.svm import SVC\n",
    "from sklearn.ensemble import RandomForestClassifier\n",
    "from sklearn.linear_model import LogisticRegression,LogisticRegressionCV\n",
    "\n",
    "# importar fichero con utilidades propias\n",
    "from commons import myfunctions as myfunc\n"
   ]
  },
  {
   "cell_type": "markdown",
   "id": "54de6362",
   "metadata": {
    "papermill": {
     "duration": 0.003618,
     "end_time": "2023-10-29T20:15:53.971398",
     "exception": false,
     "start_time": "2023-10-29T20:15:53.967780",
     "status": "completed"
    },
    "tags": []
   },
   "source": [
    "#### Parámetros a utilizar en el entrenamiento.\n",
    "\n",
    "Se indican los 3 algoritmos de *selección de características* (eval_selector_xxx) y los 3 algoritmos para la _clasificación_ (eval_clasifier_xxx)\n",
    "\n",
    "En *param_distributions* se indicar los parámetros que utilizan los algoritmos en la función RandomSearchCV.\n",
    "\n",
    "Esta celda tiene la etiqueta **parameters** que servirá para poder lanzar los entrenamientos con la utilidad **papermill** pasándole un fichero con los parámetros. Los nuevos parámetros se situarán tras esta celda para tener prevalencia."
   ]
  },
  {
   "cell_type": "code",
   "execution_count": 2,
   "id": "8d34515c",
   "metadata": {
    "execution": {
     "iopub.execute_input": "2023-10-29T20:15:53.979842Z",
     "iopub.status.busy": "2023-10-29T20:15:53.979277Z",
     "iopub.status.idle": "2023-10-29T20:15:53.987879Z",
     "shell.execute_reply": "2023-10-29T20:15:53.987342Z"
    },
    "papermill": {
     "duration": 0.014332,
     "end_time": "2023-10-29T20:15:53.989157",
     "exception": false,
     "start_time": "2023-10-29T20:15:53.974825",
     "status": "completed"
    },
    "tags": [
     "parameters"
    ]
   },
   "outputs": [
    {
     "name": "stdout",
     "output_type": "stream",
     "text": [
      "20231029T211553 : enderlab : INFO : Utilizando parámetros de mul_m\n"
     ]
    }
   ],
   "source": [
    "#  Parametros para el entrenamiento\n",
    "\n",
    "SEMILLA=        42\n",
    "M_TIPO=         \"mul_m\"\n",
    "M_SELECT=       \"MI\"\n",
    "M_CLASIF=       \"SVM\"\n",
    "R_FICHERO=      \"resultados\"\n",
    "M_FICHERO=      \"metricas\"\n",
    "PRE_DATA_FILE=  \"rows_transpose_norm_by_gene_id_with_target_num_\"\n",
    "SCORING=        \"roc_auc_ovr\" \n",
    "MAX_ITERS=      100\n",
    "\n",
    "def mutual_info_classif_state(X, y):\n",
    "    return mutual_info_classif(X, y, random_state=SEMILLA)\n",
    "\n",
    "eval_selector_mi = \"SelectKBest(score_func=mutual_info_classif_state)\"\n",
    "eval_selector_rf=  \"SelectFromModel(estimator=RandomForestClassifier(random_state=SEMILLA), threshold=-np.inf)\"\n",
    "eval_selector_anova=  \"SelectKBest(score_func=f_classif)\"\n",
    "\n",
    "eval_clasifier_svm= \"SVC(probability=True, random_state=SEMILLA)\"\n",
    "eval_clasifier_rf= \"RandomForestClassifier(random_state=SEMILLA)\"\n",
    "eval_clasifier_lr= \"LogisticRegressionCV(random_state=SEMILLA)\"\n",
    "\n",
    "if M_TIPO.startswith(\"bin_m\"):\n",
    "    myfunc.verbose(f\"Utilizando parámetros de {M_TIPO}\")\n",
    "    eval_selector = eval_selector_mi\n",
    "    eval_clasifier = eval_clasifier_svm\n",
    "\n",
    "    SEMILLA = 6578\n",
    "    M_SELECT = \"MI\"\n",
    "    M_CLASIF = \"SVM\"\n",
    "    param_distributions = {'selector__k': [1000], \n",
    "         'clasifier__kernel': ['rbf'], 'clasifier__gamma': [0.01], 'clasifier__C': [100]}\n",
    "elif M_TIPO.startswith(\"bin_s\"):\n",
    "    myfunc.verbose(f\"Utilizando parámetros de {M_TIPO}\")\n",
    "    eval_selector = eval_selector_rf\n",
    "    eval_clasifier = eval_clasifier_lr\n",
    "\n",
    "    SEMILLA = 6191\n",
    "    M_SELECT = \"RF\"\n",
    "    M_CLASIF = \"LR_L2\"\n",
    "    param_distributions = {'selector__max_features': [1000], 'selector__estimator__n_estimators': [200], \n",
    "        'clasifier__solver': ['lbfgs'], 'clasifier__penalty': ['l2'], 'clasifier__max_iter': [10000]}\n",
    "\n",
    "elif M_TIPO.startswith(\"mul_m\"):\n",
    "    myfunc.verbose(f\"Utilizando parámetros de {M_TIPO}\")\n",
    " \n",
    "    eval_selector = eval_selector_rf\n",
    "    eval_clasifier = eval_clasifier_lr\n",
    "\n",
    "    SEMILLA = 6191\n",
    "    M_SELECT = \"RF\"\n",
    "    M_CLASIF = \"LR_L2\"\n",
    "    param_distributions = {'selector__max_features': [1000], 'selector__estimator__n_estimators': [400], \n",
    "        'clasifier__solver': ['lbfgs'], 'clasifier__penalty': ['l2'], 'clasifier__max_iter': [10000]}\n",
    "\n",
    "else:\n",
    "    # M_TIPO.startswith(\"mul_s\"):\n",
    "    myfunc.verbose(f\"Utilizando parámetros de {M_TIPO}\")\n",
    "    eval_selector = eval_selector_anova\n",
    "    eval_clasifier = eval_clasifier_lr\n",
    "\n",
    "    SEMILLA = 1860\n",
    "    M_SELECT = \"ANOVA\"\n",
    "    M_CLASIF = \"LR_L2\"\n",
    "    param_distributions = {'selector__k': [1000], \n",
    "        'clasifier__solver': ['saga'], 'clasifier__penalty': ['l2'], 'clasifier__max_iter': [10000]}\n",
    "\n"
   ]
  },
  {
   "cell_type": "code",
   "execution_count": 3,
   "id": "e8298a42",
   "metadata": {
    "execution": {
     "iopub.execute_input": "2023-10-29T20:15:53.997313Z",
     "iopub.status.busy": "2023-10-29T20:15:53.996889Z",
     "iopub.status.idle": "2023-10-29T20:15:54.000704Z",
     "shell.execute_reply": "2023-10-29T20:15:54.000187Z"
    },
    "papermill": {
     "duration": 0.009368,
     "end_time": "2023-10-29T20:15:54.002102",
     "exception": false,
     "start_time": "2023-10-29T20:15:53.992734",
     "status": "completed"
    },
    "tags": [
     "injected-parameters"
    ]
   },
   "outputs": [],
   "source": [
    "# Parameters\n",
    "M_TIPO = \"bin_s\"\n",
    "M_SELECT = \"MI\"\n",
    "M_CLASIF = \"LR_L2\"\n",
    "P_FICHERO = \"param_0000_8270_bin_s_MI_LR_L2.yaml\"\n",
    "R_FICHERO = \"resultados_8270\"\n",
    "M_FICHERO = \"metricas_8270\"\n",
    "PRE_DATA_FILE = \"rows_transpose_norm_by_gene_id_with_target_num_\"\n",
    "SCORING = \"roc_auc_ovr\"\n",
    "SEMILLA = 8270\n",
    "MAX_ITERS = 500\n",
    "eval_selector = \"SelectKBest(score_func=mutual_info_classif_state)\"\n",
    "eval_clasifier = \"LogisticRegressionCV(random_state=SEMILLA)\"\n",
    "param_distributions = {\n",
    "    \"selector__k\": [500],\n",
    "    \"clasifier__solver\": [\"saga\"],\n",
    "    \"clasifier__penalty\": [\"l2\"],\n",
    "    \"clasifier__max_iter\": [10000],\n",
    "}\n"
   ]
  },
  {
   "cell_type": "code",
   "execution_count": 4,
   "id": "8325a49f",
   "metadata": {
    "execution": {
     "iopub.execute_input": "2023-10-29T20:15:54.010870Z",
     "iopub.status.busy": "2023-10-29T20:15:54.010354Z",
     "iopub.status.idle": "2023-10-29T20:15:54.013669Z",
     "shell.execute_reply": "2023-10-29T20:15:54.013152Z"
    },
    "papermill": {
     "duration": 0.009198,
     "end_time": "2023-10-29T20:15:54.014917",
     "exception": false,
     "start_time": "2023-10-29T20:15:54.005719",
     "status": "completed"
    },
    "tags": []
   },
   "outputs": [],
   "source": [
    "DATA_FILE = PRE_DATA_FILE + M_TIPO\n",
    "\n",
    "# si viene \"None\" en el parámetro max_depth, se le quitan las comillas para que no sea entendido por el algoritmo como un texto\n",
    "if \"clasifier__max_depth\" in param_distributions:\n",
    "    param_distributions['clasifier__max_depth'] = [None if x == 'None' else x for x in param_distributions['clasifier__max_depth']]"
   ]
  },
  {
   "cell_type": "markdown",
   "id": "b4e0c2ca",
   "metadata": {
    "papermill": {
     "duration": 0.00358,
     "end_time": "2023-10-29T20:15:54.022052",
     "exception": false,
     "start_time": "2023-10-29T20:15:54.018472",
     "status": "completed"
    },
    "tags": []
   },
   "source": [
    "Asignar los algoritmos que se utilizarán en la función RandomSearchCV"
   ]
  },
  {
   "cell_type": "code",
   "execution_count": 5,
   "id": "545844c3",
   "metadata": {
    "execution": {
     "iopub.execute_input": "2023-10-29T20:15:54.030136Z",
     "iopub.status.busy": "2023-10-29T20:15:54.029828Z",
     "iopub.status.idle": "2023-10-29T20:15:54.032651Z",
     "shell.execute_reply": "2023-10-29T20:15:54.032134Z"
    },
    "papermill": {
     "duration": 0.008233,
     "end_time": "2023-10-29T20:15:54.033884",
     "exception": false,
     "start_time": "2023-10-29T20:15:54.025651",
     "status": "completed"
    },
    "tags": []
   },
   "outputs": [],
   "source": [
    "algor_selector=eval(eval_selector)\n",
    "algor_clasifier=eval(eval_clasifier)"
   ]
  },
  {
   "cell_type": "markdown",
   "id": "72699d95",
   "metadata": {
    "papermill": {
     "duration": 0.003803,
     "end_time": "2023-10-29T20:15:54.041384",
     "exception": false,
     "start_time": "2023-10-29T20:15:54.037581",
     "status": "completed"
    },
    "tags": []
   },
   "source": [
    "#### Comprobar el entorno y leer fichero de muestras"
   ]
  },
  {
   "cell_type": "code",
   "execution_count": 6,
   "id": "c267c17d",
   "metadata": {
    "execution": {
     "iopub.execute_input": "2023-10-29T20:15:54.049937Z",
     "iopub.status.busy": "2023-10-29T20:15:54.049598Z",
     "iopub.status.idle": "2023-10-29T20:15:54.292373Z",
     "shell.execute_reply": "2023-10-29T20:15:54.291765Z"
    },
    "papermill": {
     "duration": 0.24854,
     "end_time": "2023-10-29T20:15:54.293695",
     "exception": false,
     "start_time": "2023-10-29T20:15:54.045155",
     "status": "completed"
    },
    "tags": []
   },
   "outputs": [
    {
     "name": "stdout",
     "output_type": "stream",
     "text": [
      "20231029T211554 : enderlab : INFO : Encontrada carpeta DATA_DIR=../tfm_git/datos\n",
      "20231029T211554 : enderlab : INFO : Encontrada carpeta CFDNA_DIR=../tfm_git/datos/cfDNA_5hmC\n",
      "20231029T211554 : enderlab : INFO : Encontrada carpeta GENCODE_DIR=../tfm_git/datos/gencode\n",
      "20231029T211554 : enderlab : INFO : Encontrada carpeta H5_DIR=../tfm_git/datos/h5\n",
      "20231029T211554 : enderlab : INFO : Encontrada carpeta LOG_DIR=../tfm_git/datos/logs\n",
      "20231029T211554 : enderlab : INFO : Encontrada carpeta CSV_DIR=../tfm_git/datos/csv\n",
      "20231029T211554 : enderlab : INFO : Encontrada carpeta MODEL_DIR=../tfm_git/ejecuciones/modelos\n",
      "20231029T211554 : enderlab : INFO : Encontrada carpeta EXEC_DIR=../tfm_git/ejecuciones\n",
      "20231029T211554 : enderlab : INFO : Encontrada carpeta MET_DIR=../tfm_git/ejecuciones/metricas\n",
      "20231029T211554 : enderlab : INFO : Inicio leer fichero h5 ../tfm_git/datos/h5/rows_transpose_norm_by_gene_id_with_target_num_bin_s.h5\n",
      "20231029T211554 : enderlab : INFO : Leyendo clave /df\n"
     ]
    },
    {
     "name": "stdout",
     "output_type": "stream",
     "text": [
      "20231029T211554 : enderlab : INFO : Tamaño (443, 18876)\n",
      "20231029T211554 : enderlab : INFO : Fin leer fichero h5 ../tfm_git/datos/h5/rows_transpose_norm_by_gene_id_with_target_num_bin_s.h5\n"
     ]
    },
    {
     "data": {
      "text/plain": [
       "target\n",
       "0    221\n",
       "1    222\n",
       "dtype: int64"
      ]
     },
     "metadata": {},
     "output_type": "display_data"
    },
    {
     "name": "stdout",
     "output_type": "stream",
     "text": [
      "Shape df: (443, 18876)\n"
     ]
    },
    {
     "name": "stdout",
     "output_type": "stream",
     "text": [
      "Shape X_train: (354, 18875)\n",
      "Shape X_test: (89, 18875)\n"
     ]
    }
   ],
   "source": [
    "start_time = datetime.datetime.now()\n",
    "\n",
    "myfunc.reset_vars()\n",
    "\n",
    "myfunc.NOTEBK_FILENAME = myfunc.get_nb_name()\n",
    "\n",
    "myfunc.check_enviroment(myfunc.DATA_DIR, myfunc.CFDNA_DIR, myfunc.GENCODE_DIR, myfunc.H5_DIR, myfunc.LOG_DIR, myfunc.CSV_DIR, myfunc.MODEL_DIR, myfunc.EXEC_DIR, myfunc.MET_DIR)\n",
    "\n",
    "# Leer fichero con las muestras\n",
    "df_t = myfunc.read_h5_to_df(DATA_FILE, myfunc.H5_DIR)\n",
    "display(df_t.groupby(\"target\").size())\n",
    "print(\"Shape df:\",df_t.shape)\n",
    "\n",
    "# Separar caracteristicas/genes de las etiquetas/tipos de cáncer\n",
    "X = df_t.iloc[:, :-1]  # Todas las columnas excepto la última\n",
    "y = df_t.iloc[:, -1]  # La última columna contiene los identificadores de los tipos de cáncer\n",
    "\n",
    "#  Crear el conjunto de datos de entrenamiento y de pruebas, y se fija la semilla para siempre coger el mismo juego de muestras\n",
    "X_train, X_test, y_train, y_test = train_test_split(X, y, test_size=0.2, shuffle=True, random_state=42)\n",
    "print(\"Shape X_train:\",X_train.shape)\n",
    "print(\"Shape X_test:\",X_test.shape)\n"
   ]
  },
  {
   "cell_type": "markdown",
   "id": "ddb2f589",
   "metadata": {
    "papermill": {
     "duration": 0.004022,
     "end_time": "2023-10-29T20:15:54.302271",
     "exception": false,
     "start_time": "2023-10-29T20:15:54.298249",
     "status": "completed"
    },
    "tags": []
   },
   "source": [
    "#### Selección de características y clasificación."
   ]
  },
  {
   "cell_type": "code",
   "execution_count": 7,
   "id": "adbed2ec",
   "metadata": {
    "execution": {
     "iopub.execute_input": "2023-10-29T20:15:54.311459Z",
     "iopub.status.busy": "2023-10-29T20:15:54.310946Z",
     "iopub.status.idle": "2023-10-29T20:19:19.891084Z",
     "shell.execute_reply": "2023-10-29T20:19:19.890163Z"
    },
    "papermill": {
     "duration": 205.589864,
     "end_time": "2023-10-29T20:19:19.896053",
     "exception": false,
     "start_time": "2023-10-29T20:15:54.306189",
     "status": "completed"
    },
    "tags": []
   },
   "outputs": [
    {
     "name": "stdout",
     "output_type": "stream",
     "text": [
      "20231029T211554 : enderlab : INFO : Iniciando entrenamiento\n",
      "num_iter: 1 , max_iter: 1\n",
      "Fitting 5 folds for each of 1 candidates, totalling 5 fits\n"
     ]
    },
    {
     "name": "stdout",
     "output_type": "stream",
     "text": [
      "Mejores Hiperparámetros: {'selector__k': 500, 'clasifier__solver': 'saga', 'clasifier__penalty': 'l2', 'clasifier__max_iter': 10000}\n",
      "Mejor Puntuación: 0.8119\n",
      "20231029T211919 : enderlab : INFO : Fin entrenamiento\n"
     ]
    }
   ],
   "source": [
    "myfunc.verbose(\"Iniciando entrenamiento\")\n",
    "\n",
    "kf = KFold(n_splits=5, shuffle=True, random_state=SEMILLA)\n",
    "\n",
    "# Crear el pipeline para el flujo de tareas\n",
    "tasks_pipeline = Pipeline([\n",
    "    ('selector', algor_selector),\n",
    "    ('clasifier', algor_clasifier)\n",
    "])\n",
    "\n",
    "# MAX_ITERS puede limitar el número de iteraciones si son excesivas para las combinaciones de parámetros buscando un óptimo local, \n",
    "# sino funcionaría como GridSearchCV al revisar todas las cominaciones de los parámetros\n",
    "num_iteraciones = 1\n",
    "num_iteraciones = num_iteraciones * np.prod([len(elemento1) for _, elemento1 in param_distributions.items()])\n",
    "max_iteraciones = num_iteraciones if num_iteraciones <= MAX_ITERS else MAX_ITERS\n",
    "print(\"num_iter:\",num_iteraciones,\", max_iter:\",max_iteraciones)\n",
    "\n",
    "random_search = RandomizedSearchCV(\n",
    "    tasks_pipeline, \n",
    "    param_distributions, \n",
    "    n_iter=max_iteraciones,\n",
    "    scoring=SCORING,\n",
    "    cv=kf,\n",
    "    verbose=3, \n",
    "    random_state=SEMILLA, \n",
    "    n_jobs=-1\n",
    "    )\n",
    "\n",
    "# Entrenar el modelo\n",
    "random_search.fit(X_train, y_train)\n",
    "\n",
    "# Ver los mejores hiperparámetros encontrados\n",
    "print(f'Mejores Hiperparámetros: {random_search.best_params_}')\n",
    "print(f'Mejor Puntuación: {random_search.best_score_:.4f}')\n",
    "\n",
    "# Nos quedamos con el mejor modelo para ver las métricas\n",
    "mejor_modelo = random_search.best_estimator_\n",
    "\n",
    "myfunc.verbose(\"Fin entrenamiento\")"
   ]
  },
  {
   "cell_type": "markdown",
   "id": "59a99a15",
   "metadata": {
    "papermill": {
     "duration": 0.004022,
     "end_time": "2023-10-29T20:19:19.904306",
     "exception": false,
     "start_time": "2023-10-29T20:19:19.900284",
     "status": "completed"
    },
    "tags": []
   },
   "source": [
    "#### Guardar modelo"
   ]
  },
  {
   "cell_type": "code",
   "execution_count": 8,
   "id": "0742bb77",
   "metadata": {
    "execution": {
     "iopub.execute_input": "2023-10-29T20:19:19.914318Z",
     "iopub.status.busy": "2023-10-29T20:19:19.913681Z",
     "iopub.status.idle": "2023-10-29T20:19:19.924764Z",
     "shell.execute_reply": "2023-10-29T20:19:19.924224Z"
    },
    "papermill": {
     "duration": 0.017582,
     "end_time": "2023-10-29T20:19:19.925977",
     "exception": false,
     "start_time": "2023-10-29T20:19:19.908395",
     "status": "completed"
    },
    "tags": []
   },
   "outputs": [
    {
     "name": "stdout",
     "output_type": "stream",
     "text": [
      "20231029T211919 : enderlab : INFO : Inicio guardar fichero ../tfm_git/ejecuciones/modelos/modelo_8270_bin_s_MI_LR_L2.pkl\n",
      "20231029T211919 : enderlab : INFO : Fin guardar fichero ../tfm_git/ejecuciones/modelos/modelo_8270_bin_s_MI_LR_L2.pkl\n"
     ]
    }
   ],
   "source": [
    "fichero_modelo = str.replace(\"modelo_\"+str(SEMILLA).zfill(4)+\"_\"+M_TIPO+\"_\"+M_SELECT+\"_\"+M_CLASIF+\".pkl\", \" \", \"_\")\n",
    "\n",
    "myfunc.save_modelo(mejor_modelo, myfunc.MODEL_DIR, fichero_modelo)"
   ]
  },
  {
   "cell_type": "markdown",
   "id": "cbf5195a",
   "metadata": {
    "papermill": {
     "duration": 0.00409,
     "end_time": "2023-10-29T20:19:19.934152",
     "exception": false,
     "start_time": "2023-10-29T20:19:19.930062",
     "status": "completed"
    },
    "tags": []
   },
   "source": [
    "#### Ver resultados del las iteraciones hechas por RandomSearchCV"
   ]
  },
  {
   "cell_type": "code",
   "execution_count": 9,
   "id": "edd65b7d",
   "metadata": {
    "execution": {
     "iopub.execute_input": "2023-10-29T20:19:19.945045Z",
     "iopub.status.busy": "2023-10-29T20:19:19.944601Z",
     "iopub.status.idle": "2023-10-29T20:19:19.951634Z",
     "shell.execute_reply": "2023-10-29T20:19:19.951085Z"
    },
    "papermill": {
     "duration": 0.013649,
     "end_time": "2023-10-29T20:19:19.952941",
     "exception": false,
     "start_time": "2023-10-29T20:19:19.939292",
     "status": "completed"
    },
    "tags": []
   },
   "outputs": [
    {
     "name": "stdout",
     "output_type": "stream",
     "text": [
      "20231029T211919 : enderlab : INFO : Inicio ver resultados\n",
      "Mejores Hiperparámetros: {'selector__k': 500, 'clasifier__solver': 'saga', 'clasifier__penalty': 'l2', 'clasifier__max_iter': 10000}\n",
      "Mejores puntuaciones: 0.8119 | Params: {'selector__k': 500, 'clasifier__solver': 'saga', 'clasifier__penalty': 'l2', 'clasifier__max_iter': 10000}\n",
      "Media de las puntuaciones: 0.8119 | Params: {'selector__k': 500, 'clasifier__solver': 'saga', 'clasifier__penalty': 'l2', 'clasifier__max_iter': 10000}\n",
      "20231029T211919 : enderlab : INFO : Fin resultados\n"
     ]
    }
   ],
   "source": [
    "myfunc.ver_resultados_search(random_search)"
   ]
  },
  {
   "cell_type": "markdown",
   "id": "ee72d70d",
   "metadata": {
    "papermill": {
     "duration": 0.004199,
     "end_time": "2023-10-29T20:19:19.961228",
     "exception": false,
     "start_time": "2023-10-29T20:19:19.957029",
     "status": "completed"
    },
    "tags": []
   },
   "source": [
    "#### Ver métricas del mejor modelo"
   ]
  },
  {
   "cell_type": "code",
   "execution_count": 10,
   "id": "8b45906e",
   "metadata": {
    "execution": {
     "iopub.execute_input": "2023-10-29T20:19:19.970751Z",
     "iopub.status.busy": "2023-10-29T20:19:19.970236Z",
     "iopub.status.idle": "2023-10-29T20:19:20.451863Z",
     "shell.execute_reply": "2023-10-29T20:19:20.451243Z"
    },
    "papermill": {
     "duration": 0.4879,
     "end_time": "2023-10-29T20:19:20.453292",
     "exception": false,
     "start_time": "2023-10-29T20:19:19.965392",
     "status": "completed"
    },
    "tags": []
   },
   "outputs": [
    {
     "name": "stdout",
     "output_type": "stream",
     "text": [
      "20231029T211919 : enderlab : INFO : Inicio ver métricas\n"
     ]
    },
    {
     "name": "stdout",
     "output_type": "stream",
     "text": [
      "              precision    recall  f1-score   support\n",
      "\n",
      "           0       0.66      0.72      0.69        46\n",
      "           1       0.67      0.60      0.63        43\n",
      "\n",
      "    accuracy                           0.66        89\n",
      "   macro avg       0.66      0.66      0.66        89\n",
      "weighted avg       0.66      0.66      0.66        89\n",
      "\n",
      "\n",
      "\n",
      "   Exactitud: 0.6629\n",
      "   Precisión: 0.6633\n",
      "Sensibilidad: 0.6610\n",
      "    F1-score: 0.6608\n",
      "     AUC ROC: 0.7437\n"
     ]
    },
    {
     "data": {
      "image/png": "[encoded data removed]",
      "text/plain": [
       "<Figure size 300x100 with 2 Axes>"
      ]
     },
     "metadata": {},
     "output_type": "display_data"
    },
    {
     "data": {
      "image/png": "[encoded data removed]",
      "text/plain": [
       "<Figure size 800x500 with 1 Axes>"
      ]
     },
     "metadata": {},
     "output_type": "display_data"
    },
    {
     "name": "stdout",
     "output_type": "stream",
     "text": [
      "20231029T211920 : enderlab : INFO : Fin ver métricas\n"
     ]
    }
   ],
   "source": [
    "if M_TIPO.startswith(\"bin\"):\n",
    "    myfunc.ver_metricas(mejor_modelo, X_test, y_test)\n",
    "else:\n",
    "    myfunc.ver_metricas_multi(mejor_modelo, X_test, y_test)\n"
   ]
  },
  {
   "cell_type": "markdown",
   "id": "45671e07",
   "metadata": {
    "papermill": {
     "duration": 0.005081,
     "end_time": "2023-10-29T20:19:20.463956",
     "exception": false,
     "start_time": "2023-10-29T20:19:20.458875",
     "status": "completed"
    },
    "tags": []
   },
   "source": [
    "#### Finalización del notebook"
   ]
  },
  {
   "cell_type": "code",
   "execution_count": 11,
   "id": "f0bbdbf1",
   "metadata": {
    "execution": {
     "iopub.execute_input": "2023-10-29T20:19:20.475311Z",
     "iopub.status.busy": "2023-10-29T20:19:20.474756Z",
     "iopub.status.idle": "2023-10-29T20:19:20.478531Z",
     "shell.execute_reply": "2023-10-29T20:19:20.477978Z"
    },
    "papermill": {
     "duration": 0.010748,
     "end_time": "2023-10-29T20:19:20.479728",
     "exception": false,
     "start_time": "2023-10-29T20:19:20.468980",
     "status": "completed"
    },
    "tags": []
   },
   "outputs": [
    {
     "name": "stdout",
     "output_type": "stream",
     "text": [
      "20231029T211920 : enderlab : INFO : Notebook ha tardado 206 seconds\n"
     ]
    }
   ],
   "source": [
    "end_time = datetime.datetime.now()\n",
    "total_time = end_time - start_time\n",
    "myfunc.verbose(f\"Notebook ha tardado {total_time.seconds} seconds\")"
   ]
  },
  {
   "cell_type": "markdown",
   "id": "469984e5",
   "metadata": {
    "papermill": {
     "duration": 0.004975,
     "end_time": "2023-10-29T20:19:20.489676",
     "exception": false,
     "start_time": "2023-10-29T20:19:20.484701",
     "status": "completed"
    },
    "tags": []
   },
   "source": [
    "#### Guardar métricas"
   ]
  },
  {
   "cell_type": "code",
   "execution_count": 12,
   "id": "d9bb7a76",
   "metadata": {
    "execution": {
     "iopub.execute_input": "2023-10-29T20:19:20.501157Z",
     "iopub.status.busy": "2023-10-29T20:19:20.500662Z",
     "iopub.status.idle": "2023-10-29T20:19:20.712288Z",
     "shell.execute_reply": "2023-10-29T20:19:20.711723Z"
    },
    "papermill": {
     "duration": 0.218685,
     "end_time": "2023-10-29T20:19:20.713564",
     "exception": false,
     "start_time": "2023-10-29T20:19:20.494879",
     "status": "completed"
    },
    "tags": []
   },
   "outputs": [
    {
     "name": "stdout",
     "output_type": "stream",
     "text": [
      "20231029T211920 : enderlab : INFO : Inicio guardar métricas\n",
      "20231029T211920 : enderlab : INFO : Inicio leer fichero ../tfm_git/ejecuciones/metricas/metricas_8270.csv\n",
      "20231029T211920 : enderlab : INFO : Fin leer fichero ../tfm_git/ejecuciones/metricas/metricas_8270.csv\n"
     ]
    },
    {
     "name": "stdout",
     "output_type": "stream",
     "text": [
      "20231029T211920"
     ]
    },
    {
     "name": "stdout",
     "output_type": "stream",
     "text": [
      " : enderlab : INFO : Inicio guardar fichero ../tfm_git/ejecuciones/metricas/metricas_8270.csv\n",
      "20231029T211920 : enderlab : INFO : Fichero borrado ../tfm_git/ejecuciones/metricas/metricas_8270.csv\n",
      "20231029T211920 : enderlab : INFO : Fin guardar fichero ../tfm_git/ejecuciones/metricas/metricas_8270.csv\n",
      "20231029T211920 : enderlab : INFO : Fin guardar métricas\n",
      "20231029T211920 : enderlab : INFO : Inicio leer fichero ../tfm_git/ejecuciones/metricas/metricas_8270.csv\n",
      "20231029T211920 : enderlab : INFO : Fin leer fichero ../tfm_git/ejecuciones/metricas/metricas_8270.csv\n"
     ]
    },
    {
     "data": {
      "text/html": [
       "<div>\n",
       "<style scoped>\n",
       "    .dataframe tbody tr th:only-of-type {\n",
       "        vertical-align: middle;\n",
       "    }\n",
       "\n",
       "    .dataframe tbody tr th {\n",
       "        vertical-align: top;\n",
       "    }\n",
       "\n",
       "    .dataframe thead th {\n",
       "        text-align: right;\n",
       "    }\n",
       "</style>\n",
       "<table border=\"1\" class=\"dataframe\">\n",
       "  <thead>\n",
       "    <tr style=\"text-align: right;\">\n",
       "      <th></th>\n",
       "      <th>tipo</th>\n",
       "      <th>select</th>\n",
       "      <th>clasific</th>\n",
       "      <th>semilla</th>\n",
       "      <th>accuracy</th>\n",
       "      <th>precision</th>\n",
       "      <th>recall</th>\n",
       "      <th>f1_score</th>\n",
       "      <th>roc_auc</th>\n",
       "      <th>hostname</th>\n",
       "      <th>total_time_sec</th>\n",
       "      <th>datetime</th>\n",
       "      <th>fichero_modelo</th>\n",
       "      <th>params</th>\n",
       "      <th>shape</th>\n",
       "      <th>features</th>\n",
       "    </tr>\n",
       "  </thead>\n",
       "  <tbody>\n",
       "    <tr>\n",
       "      <th>0</th>\n",
       "      <td>bin_s</td>\n",
       "      <td>MI</td>\n",
       "      <td>LR_L2</td>\n",
       "      <td>8270</td>\n",
       "      <td>0.662921</td>\n",
       "      <td>0.663333</td>\n",
       "      <td>0.661021</td>\n",
       "      <td>0.660823</td>\n",
       "      <td>0.743680</td>\n",
       "      <td>enderlab</td>\n",
       "      <td>206</td>\n",
       "      <td>2023-10-29 21:19:20.674914</td>\n",
       "      <td>modelo_8270_bin_s_MI_LR_L2.pkl</td>\n",
       "      <td>{'selector__k': 500, 'clasifier__solver': 'sag...</td>\n",
       "      <td>X_test:(89, 18875)</td>\n",
       "      <td>['ENSG00000003402.21', 'ENSG00000006712.15', '...</td>\n",
       "    </tr>\n",
       "    <tr>\n",
       "      <th>0</th>\n",
       "      <td>bin_s</td>\n",
       "      <td>MI</td>\n",
       "      <td>LR_L1</td>\n",
       "      <td>8270</td>\n",
       "      <td>0.685393</td>\n",
       "      <td>0.685213</td>\n",
       "      <td>0.684277</td>\n",
       "      <td>0.684397</td>\n",
       "      <td>0.766431</td>\n",
       "      <td>enderlab</td>\n",
       "      <td>461</td>\n",
       "      <td>2023-10-29 21:15:47.334012</td>\n",
       "      <td>modelo_8270_bin_s_MI_LR_L1.pkl</td>\n",
       "      <td>{'selector__k': 1000, 'clasifier__solver': 'sa...</td>\n",
       "      <td>X_test:(89, 18875)</td>\n",
       "      <td>['ENSG00000002933.9', 'ENSG00000003402.21', 'E...</td>\n",
       "    </tr>\n",
       "    <tr>\n",
       "      <th>0</th>\n",
       "      <td>bin_s</td>\n",
       "      <td>MI</td>\n",
       "      <td>LR_EN</td>\n",
       "      <td>8270</td>\n",
       "      <td>0.662921</td>\n",
       "      <td>0.663333</td>\n",
       "      <td>0.661021</td>\n",
       "      <td>0.660823</td>\n",
       "      <td>0.739636</td>\n",
       "      <td>enderlab</td>\n",
       "      <td>250</td>\n",
       "      <td>2023-10-29 21:07:58.865790</td>\n",
       "      <td>modelo_8270_bin_s_MI_LR_EN.pkl</td>\n",
       "      <td>{'selector__k': 500, 'clasifier__solver': 'sag...</td>\n",
       "      <td>X_test:(89, 18875)</td>\n",
       "      <td>['ENSG00000003402.21', 'ENSG00000006712.15', '...</td>\n",
       "    </tr>\n",
       "  </tbody>\n",
       "</table>\n",
       "</div>"
      ],
      "text/plain": [
       "    tipo select clasific  semilla  accuracy  precision    recall  f1_score  \\\n",
       "0  bin_s     MI    LR_L2     8270  0.662921   0.663333  0.661021  0.660823   \n",
       "0  bin_s     MI    LR_L1     8270  0.685393   0.685213  0.684277  0.684397   \n",
       "0  bin_s     MI    LR_EN     8270  0.662921   0.663333  0.661021  0.660823   \n",
       "\n",
       "    roc_auc  hostname  total_time_sec                    datetime  \\\n",
       "0  0.743680  enderlab             206  2023-10-29 21:19:20.674914   \n",
       "0  0.766431  enderlab             461  2023-10-29 21:15:47.334012   \n",
       "0  0.739636  enderlab             250  2023-10-29 21:07:58.865790   \n",
       "\n",
       "                   fichero_modelo  \\\n",
       "0  modelo_8270_bin_s_MI_LR_L2.pkl   \n",
       "0  modelo_8270_bin_s_MI_LR_L1.pkl   \n",
       "0  modelo_8270_bin_s_MI_LR_EN.pkl   \n",
       "\n",
       "                                              params               shape  \\\n",
       "0  {'selector__k': 500, 'clasifier__solver': 'sag...  X_test:(89, 18875)   \n",
       "0  {'selector__k': 1000, 'clasifier__solver': 'sa...  X_test:(89, 18875)   \n",
       "0  {'selector__k': 500, 'clasifier__solver': 'sag...  X_test:(89, 18875)   \n",
       "\n",
       "                                            features  \n",
       "0  ['ENSG00000003402.21', 'ENSG00000006712.15', '...  \n",
       "0  ['ENSG00000002933.9', 'ENSG00000003402.21', 'E...  \n",
       "0  ['ENSG00000003402.21', 'ENSG00000006712.15', '...  "
      ]
     },
     "metadata": {},
     "output_type": "display_data"
    }
   ],
   "source": [
    "if M_TIPO.startswith(\"bin\"):\n",
    "    myfunc.save_metricas_to_csv(random_search, X_test, y_test, M_TIPO, M_SELECT, M_CLASIF, total_time, SEMILLA, myfunc.MET_DIR, M_FICHERO, fichero_modelo)\n",
    "else:\n",
    "    myfunc.save_metricas_multi_to_csv(random_search, X_test, y_test, M_TIPO, M_SELECT, M_CLASIF, total_time, SEMILLA, myfunc.MET_DIR, M_FICHERO, fichero_modelo)\n",
    "\n",
    "df1=myfunc.read_metricas_to_df(myfunc.MET_DIR,M_FICHERO)\n",
    "\n",
    "display(df1.sort_values(\"datetime\", ascending=False)[:3])\n"
   ]
  },
  {
   "cell_type": "markdown",
   "id": "c4783040",
   "metadata": {
    "papermill": {
     "duration": 0.005493,
     "end_time": "2023-10-29T20:19:20.725023",
     "exception": false,
     "start_time": "2023-10-29T20:19:20.719530",
     "status": "completed"
    },
    "tags": []
   },
   "source": [
    "#### Guardar resultados"
   ]
  },
  {
   "cell_type": "code",
   "execution_count": 13,
   "id": "cdaf1a05",
   "metadata": {
    "execution": {
     "iopub.execute_input": "2023-10-29T20:19:20.736976Z",
     "iopub.status.busy": "2023-10-29T20:19:20.736528Z",
     "iopub.status.idle": "2023-10-29T20:19:20.745520Z",
     "shell.execute_reply": "2023-10-29T20:19:20.744995Z"
    },
    "papermill": {
     "duration": 0.016227,
     "end_time": "2023-10-29T20:19:20.746679",
     "exception": false,
     "start_time": "2023-10-29T20:19:20.730452",
     "status": "completed"
    },
    "tags": []
   },
   "outputs": [
    {
     "name": "stdout",
     "output_type": "stream",
     "text": [
      "20231029T211920 : enderlab : INFO : Inicio guardar resultados\n",
      "20231029T211920 : enderlab : INFO : Inicio guardar fichero ../tfm_git/ejecuciones/metricas/resultados_8270_bin_s-MI-LR_L2.csv\n",
      "20231029T211920 : enderlab : INFO : Fin guardar fichero ../tfm_git/ejecuciones/metricas/resultados_8270_bin_s-MI-LR_L2.csv\n",
      "20231029T211920 : enderlab : INFO : Fin guardar resultados\n"
     ]
    }
   ],
   "source": [
    "fichero_resultados=R_FICHERO+\"_\"+M_TIPO+\"-\"+M_SELECT+\"-\"+M_CLASIF+\".csv\"\n",
    "myfunc.save_resultados_to_csv(M_TIPO, M_SELECT, M_CLASIF,  random_search, myfunc.MET_DIR, fichero_resultados)\n"
   ]
  }
 ],
 "metadata": {
  "kernelspec": {
   "display_name": "Python 3 (ipykernel)",
   "language": "python",
   "name": "python3"
  },
  "language_info": {
   "codemirror_mode": {
    "name": "ipython",
    "version": 3
   },
   "file_extension": ".py",
   "mimetype": "text/x-python",
   "name": "python",
   "nbconvert_exporter": "python",
   "pygments_lexer": "ipython3",
   "version": "3.10.11"
  },
  "papermill": {
   "default_parameters": {},
   "duration": 211.727234,
   "end_time": "2023-10-29T20:19:23.380934",
   "environment_variables": {},
   "exception": null,
   "input_path": "03_entrenamiento.ipynb",
   "output_path": "ejecuciones/training/03_entrenamiento.20231029T211551.param_0000_8270_bin_s_MI_LR_L2.output.ipynb",
   "parameters": {
    "MAX_ITERS": 500,
    "M_CLASIF": "LR_L2",
    "M_FICHERO": "metricas_8270",
    "M_SELECT": "MI",
    "M_TIPO": "bin_s",
    "PRE_DATA_FILE": "rows_transpose_norm_by_gene_id_with_target_num_",
    "P_FICHERO": "param_0000_8270_bin_s_MI_LR_L2.yaml",
    "R_FICHERO": "resultados_8270",
    "SCORING": "roc_auc_ovr",
    "SEMILLA": 8270,
    "eval_clasifier": "LogisticRegressionCV(random_state=SEMILLA)",
    "eval_selector": "SelectKBest(score_func=mutual_info_classif_state)",
    "param_distributions": {
     "clasifier__max_iter": [
      10000
     ],
     "clasifier__penalty": [
      "l2"
     ],
     "clasifier__solver": [
      "saga"
     ],
     "selector__k": [
      500
     ]
    }
   },
   "start_time": "2023-10-29T20:15:51.653700",
   "version": "2.4.0"
  }
 },
 "nbformat": 4,
 "nbformat_minor": 5
}