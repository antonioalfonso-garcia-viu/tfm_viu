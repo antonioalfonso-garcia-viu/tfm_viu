{
 "cells": [
  {
   "cell_type": "markdown",
   "id": "ac185829",
   "metadata": {
    "papermill": {
     "duration": 0.004352,
     "end_time": "2023-10-30T05:17:36.988298",
     "exception": false,
     "start_time": "2023-10-30T05:17:36.983946",
     "status": "completed"
    },
    "tags": []
   },
   "source": [
    "##### Inicio"
   ]
  },
  {
   "cell_type": "markdown",
   "id": "1afe70f3",
   "metadata": {
    "papermill": {
     "duration": 0.003509,
     "end_time": "2023-10-30T05:17:36.995637",
     "exception": false,
     "start_time": "2023-10-30T05:17:36.992128",
     "status": "completed"
    },
    "tags": []
   },
   "source": [
    "#### Carga de datos"
   ]
  },
  {
   "cell_type": "code",
   "execution_count": 1,
   "id": "2cdb82ef",
   "metadata": {
    "execution": {
     "iopub.execute_input": "2023-10-30T05:17:37.004001Z",
     "iopub.status.busy": "2023-10-30T05:17:37.003770Z",
     "iopub.status.idle": "2023-10-30T05:17:37.877302Z",
     "shell.execute_reply": "2023-10-30T05:17:37.876757Z"
    },
    "papermill": {
     "duration": 0.87923,
     "end_time": "2023-10-30T05:17:37.878496",
     "exception": false,
     "start_time": "2023-10-30T05:17:36.999266",
     "status": "completed"
    },
    "tags": []
   },
   "outputs": [
    {
     "name": "stdout",
     "output_type": "stream",
     "text": [
      "CPU_COUNT: 8; NODE: amilcar22; sys.version: 3.10.12 (main, Jul  5 2023, 19:22:19) [GCC 11.2.0]\n",
      "LOKY_MAX_CPU_COUNT: 6\n",
      "OMP_NUM_THREADS: 2\n"
     ]
    }
   ],
   "source": [
    "import os\n",
    "import numpy as np\n",
    "import pandas as pd\n",
    "import datetime\n",
    "import sklearn\n",
    "import logging\n",
    "import warnings\n",
    "\n",
    "from sklearn.pipeline import Pipeline\n",
    "from sklearn.model_selection import RandomizedSearchCV, KFold, cross_val_score, train_test_split\n",
    "from sklearn.metrics import accuracy_score, confusion_matrix, classification_report, roc_auc_score\n",
    "\n",
    "#  cargar algoritmos para aprendizaje supervisado\n",
    "from sklearn.feature_selection import SelectKBest, f_classif, SelectFromModel, mutual_info_classif\n",
    "from sklearn.svm import SVC\n",
    "from sklearn.ensemble import RandomForestClassifier\n",
    "from sklearn.linear_model import LogisticRegression,LogisticRegressionCV\n",
    "\n",
    "# importar fichero con utilidades propias\n",
    "from commons import myfunctions as myfunc\n"
   ]
  },
  {
   "cell_type": "markdown",
   "id": "404f95d4",
   "metadata": {
    "papermill": {
     "duration": 0.002496,
     "end_time": "2023-10-30T05:17:37.883960",
     "exception": false,
     "start_time": "2023-10-30T05:17:37.881464",
     "status": "completed"
    },
    "tags": []
   },
   "source": [
    "#### Parámetros a utilizar en el entrenamiento.\n",
    "\n",
    "Se indican los 3 algoritmos de *selección de características* (eval_selector_xxx) y los 3 algoritmos para la _clasificación_ (eval_clasifier_xxx)\n",
    "\n",
    "En *param_distributions* se indicar los parámetros que utilizan los algoritmos en la función RandomSearchCV.\n",
    "\n",
    "Esta celda tiene la etiqueta **parameters** que servirá para poder lanzar los entrenamientos con la utilidad **papermill** pasándole un fichero con los parámetros. Los nuevos parámetros se situarán tras esta celda para tener prevalencia."
   ]
  },
  {
   "cell_type": "code",
   "execution_count": 2,
   "id": "85baedcc",
   "metadata": {
    "execution": {
     "iopub.execute_input": "2023-10-30T05:17:37.889924Z",
     "iopub.status.busy": "2023-10-30T05:17:37.889675Z",
     "iopub.status.idle": "2023-10-30T05:17:37.896377Z",
     "shell.execute_reply": "2023-10-30T05:17:37.895923Z"
    },
    "papermill": {
     "duration": 0.01102,
     "end_time": "2023-10-30T05:17:37.897483",
     "exception": false,
     "start_time": "2023-10-30T05:17:37.886463",
     "status": "completed"
    },
    "tags": [
     "parameters"
    ]
   },
   "outputs": [
    {
     "name": "stdout",
     "output_type": "stream",
     "text": [
      "20231030T061737 : amilcar22 : INFO : Utilizando parámetros de mul_m\n"
     ]
    }
   ],
   "source": [
    "#  Parametros para el entrenamiento\n",
    "\n",
    "SEMILLA=        42\n",
    "M_TIPO=         \"mul_m\"\n",
    "M_SELECT=       \"MI\"\n",
    "M_CLASIF=       \"SVM\"\n",
    "R_FICHERO=      \"resultados\"\n",
    "M_FICHERO=      \"metricas\"\n",
    "PRE_DATA_FILE=  \"rows_transpose_norm_by_gene_id_with_target_num_\"\n",
    "SCORING=        \"roc_auc_ovr\" \n",
    "MAX_ITERS=      100\n",
    "\n",
    "def mutual_info_classif_state(X, y):\n",
    "    return mutual_info_classif(X, y, random_state=SEMILLA)\n",
    "\n",
    "eval_selector_mi = \"SelectKBest(score_func=mutual_info_classif_state)\"\n",
    "eval_selector_rf=  \"SelectFromModel(estimator=RandomForestClassifier(random_state=SEMILLA), threshold=-np.inf)\"\n",
    "eval_selector_anova=  \"SelectKBest(score_func=f_classif)\"\n",
    "\n",
    "eval_clasifier_svm= \"SVC(probability=True, random_state=SEMILLA)\"\n",
    "eval_clasifier_rf= \"RandomForestClassifier(random_state=SEMILLA)\"\n",
    "eval_clasifier_lr= \"LogisticRegressionCV(random_state=SEMILLA)\"\n",
    "\n",
    "if M_TIPO.startswith(\"bin_m\"):\n",
    "    myfunc.verbose(f\"Utilizando parámetros de {M_TIPO}\")\n",
    "    eval_selector = eval_selector_mi\n",
    "    eval_clasifier = eval_clasifier_svm\n",
    "\n",
    "    SEMILLA = 6578\n",
    "    M_SELECT = \"MI\"\n",
    "    M_CLASIF = \"SVM\"\n",
    "    param_distributions = {'selector__k': [1000], \n",
    "         'clasifier__kernel': ['rbf'], 'clasifier__gamma': [0.01], 'clasifier__C': [100]}\n",
    "elif M_TIPO.startswith(\"bin_s\"):\n",
    "    myfunc.verbose(f\"Utilizando parámetros de {M_TIPO}\")\n",
    "    eval_selector = eval_selector_rf\n",
    "    eval_clasifier = eval_clasifier_lr\n",
    "\n",
    "    SEMILLA = 6191\n",
    "    M_SELECT = \"RF\"\n",
    "    M_CLASIF = \"LR_L2\"\n",
    "    param_distributions = {'selector__max_features': [1000], 'selector__estimator__n_estimators': [200], \n",
    "        'clasifier__solver': ['lbfgs'], 'clasifier__penalty': ['l2'], 'clasifier__max_iter': [10000]}\n",
    "\n",
    "elif M_TIPO.startswith(\"mul_m\"):\n",
    "    myfunc.verbose(f\"Utilizando parámetros de {M_TIPO}\")\n",
    " \n",
    "    eval_selector = eval_selector_rf\n",
    "    eval_clasifier = eval_clasifier_lr\n",
    "\n",
    "    SEMILLA = 6191\n",
    "    M_SELECT = \"RF\"\n",
    "    M_CLASIF = \"LR_L2\"\n",
    "    param_distributions = {'selector__max_features': [1000], 'selector__estimator__n_estimators': [400], \n",
    "        'clasifier__solver': ['lbfgs'], 'clasifier__penalty': ['l2'], 'clasifier__max_iter': [10000]}\n",
    "\n",
    "else:\n",
    "    # M_TIPO.startswith(\"mul_s\"):\n",
    "    myfunc.verbose(f\"Utilizando parámetros de {M_TIPO}\")\n",
    "    eval_selector = eval_selector_anova\n",
    "    eval_clasifier = eval_clasifier_lr\n",
    "\n",
    "    SEMILLA = 1860\n",
    "    M_SELECT = \"ANOVA\"\n",
    "    M_CLASIF = \"LR_L2\"\n",
    "    param_distributions = {'selector__k': [1000], \n",
    "        'clasifier__solver': ['saga'], 'clasifier__penalty': ['l2'], 'clasifier__max_iter': [10000]}\n",
    "\n"
   ]
  },
  {
   "cell_type": "code",
   "execution_count": 3,
   "id": "65dff004",
   "metadata": {
    "execution": {
     "iopub.execute_input": "2023-10-30T05:17:37.903597Z",
     "iopub.status.busy": "2023-10-30T05:17:37.903416Z",
     "iopub.status.idle": "2023-10-30T05:17:37.906864Z",
     "shell.execute_reply": "2023-10-30T05:17:37.906470Z"
    },
    "papermill": {
     "duration": 0.007785,
     "end_time": "2023-10-30T05:17:37.908012",
     "exception": false,
     "start_time": "2023-10-30T05:17:37.900227",
     "status": "completed"
    },
    "tags": [
     "injected-parameters"
    ]
   },
   "outputs": [],
   "source": [
    "# Parameters\n",
    "M_TIPO = \"bin_m\"\n",
    "M_SELECT = \"RF\"\n",
    "M_CLASIF = \"LR_L1\"\n",
    "P_FICHERO = \"param_0000_6191_bin_m_RF_LR_L1.yaml\"\n",
    "R_FICHERO = \"resultados_6191\"\n",
    "M_FICHERO = \"metricas_6191\"\n",
    "PRE_DATA_FILE = \"rows_transpose_norm_by_gene_id_with_target_num_\"\n",
    "SCORING = \"roc_auc_ovr\"\n",
    "SEMILLA = 6191\n",
    "MAX_ITERS = 500\n",
    "eval_selector = \"SelectFromModel(estimator=RandomForestClassifier(random_state=SEMILLA), threshold=-np.inf)\"\n",
    "eval_clasifier = \"LogisticRegressionCV(random_state=SEMILLA)\"\n",
    "param_distributions = {\n",
    "    \"selector__max_features\": [500],\n",
    "    \"selector__estimator__n_estimators\": [100],\n",
    "    \"clasifier__solver\": [\"saga\"],\n",
    "    \"clasifier__penalty\": [\"l1\"],\n",
    "    \"clasifier__max_iter\": [10000],\n",
    "}\n"
   ]
  },
  {
   "cell_type": "code",
   "execution_count": 4,
   "id": "ba010a39",
   "metadata": {
    "execution": {
     "iopub.execute_input": "2023-10-30T05:17:37.914156Z",
     "iopub.status.busy": "2023-10-30T05:17:37.914008Z",
     "iopub.status.idle": "2023-10-30T05:17:37.916841Z",
     "shell.execute_reply": "2023-10-30T05:17:37.916356Z"
    },
    "papermill": {
     "duration": 0.00727,
     "end_time": "2023-10-30T05:17:37.918060",
     "exception": false,
     "start_time": "2023-10-30T05:17:37.910790",
     "status": "completed"
    },
    "tags": []
   },
   "outputs": [],
   "source": [
    "DATA_FILE = PRE_DATA_FILE + M_TIPO\n",
    "\n",
    "# si viene \"None\" en el parámetro max_depth, se le quitan las comillas para que no sea entendido por el algoritmo como un texto\n",
    "if \"clasifier__max_depth\" in param_distributions:\n",
    "    param_distributions['clasifier__max_depth'] = [None if x == 'None' else x for x in param_distributions['clasifier__max_depth']]"
   ]
  },
  {
   "cell_type": "markdown",
   "id": "90e9b30b",
   "metadata": {
    "papermill": {
     "duration": 0.002868,
     "end_time": "2023-10-30T05:17:37.923881",
     "exception": false,
     "start_time": "2023-10-30T05:17:37.921013",
     "status": "completed"
    },
    "tags": []
   },
   "source": [
    "Asignar los algoritmos que se utilizarán en la función RandomSearchCV"
   ]
  },
  {
   "cell_type": "code",
   "execution_count": 5,
   "id": "aef1c7a9",
   "metadata": {
    "execution": {
     "iopub.execute_input": "2023-10-30T05:17:37.930380Z",
     "iopub.status.busy": "2023-10-30T05:17:37.930211Z",
     "iopub.status.idle": "2023-10-30T05:17:37.933029Z",
     "shell.execute_reply": "2023-10-30T05:17:37.932498Z"
    },
    "papermill": {
     "duration": 0.007516,
     "end_time": "2023-10-30T05:17:37.934338",
     "exception": false,
     "start_time": "2023-10-30T05:17:37.926822",
     "status": "completed"
    },
    "tags": []
   },
   "outputs": [],
   "source": [
    "algor_selector=eval(eval_selector)\n",
    "algor_clasifier=eval(eval_clasifier)"
   ]
  },
  {
   "cell_type": "markdown",
   "id": "ba460b9d",
   "metadata": {
    "papermill": {
     "duration": 0.003457,
     "end_time": "2023-10-30T05:17:37.941234",
     "exception": false,
     "start_time": "2023-10-30T05:17:37.937777",
     "status": "completed"
    },
    "tags": []
   },
   "source": [
    "#### Comprobar el entorno y leer fichero de muestras"
   ]
  },
  {
   "cell_type": "code",
   "execution_count": 6,
   "id": "8d3cebe0",
   "metadata": {
    "execution": {
     "iopub.execute_input": "2023-10-30T05:17:37.948762Z",
     "iopub.status.busy": "2023-10-30T05:17:37.948574Z",
     "iopub.status.idle": "2023-10-30T05:17:38.167836Z",
     "shell.execute_reply": "2023-10-30T05:17:38.167329Z"
    },
    "papermill": {
     "duration": 0.224508,
     "end_time": "2023-10-30T05:17:38.169169",
     "exception": false,
     "start_time": "2023-10-30T05:17:37.944661",
     "status": "completed"
    },
    "tags": []
   },
   "outputs": [
    {
     "name": "stdout",
     "output_type": "stream",
     "text": [
      "20231030T061737 : amilcar22 : INFO : Encontrada carpeta DATA_DIR=../tfm_git/datos\n",
      "20231030T061737 : amilcar22 : INFO : Encontrada carpeta CFDNA_DIR=../tfm_git/datos/cfDNA_5hmC\n",
      "20231030T061737 : amilcar22 : INFO : Encontrada carpeta GENCODE_DIR=../tfm_git/datos/gencode\n",
      "20231030T061737 : amilcar22 : INFO : Encontrada carpeta H5_DIR=../tfm_git/datos/h5\n",
      "20231030T061737 : amilcar22 : INFO : Encontrada carpeta LOG_DIR=../tfm_git/datos/logs\n",
      "20231030T061737 : amilcar22 : INFO : Encontrada carpeta CSV_DIR=../tfm_git/datos/csv\n",
      "20231030T061737 : amilcar22 : INFO : Encontrada carpeta MODEL_DIR=../tfm_git/ejecuciones/modelos\n",
      "20231030T061737 : amilcar22 : INFO : Encontrada carpeta EXEC_DIR=../tfm_git/ejecuciones\n",
      "20231030T061737 : amilcar22 : INFO : Encontrada carpeta MET_DIR=../tfm_git/ejecuciones/metricas\n",
      "20231030T061737 : amilcar22 : INFO : Inicio leer fichero h5 ../tfm_git/datos/h5/rows_transpose_norm_by_gene_id_with_target_num_bin_m.h5\n",
      "20231030T061737 : amilcar22 : INFO : Leyendo clave /df\n"
     ]
    },
    {
     "name": "stdout",
     "output_type": "stream",
     "text": [
      "20231030T061738 : amilcar22 : INFO : Tamaño (720, 18876)\n",
      "20231030T061738 : amilcar22 : INFO : Fin leer fichero h5 ../tfm_git/datos/h5/rows_transpose_norm_by_gene_id_with_target_num_bin_m.h5\n"
     ]
    },
    {
     "data": {
      "text/plain": [
       "target\n",
       "0    360\n",
       "1    360\n",
       "dtype: int64"
      ]
     },
     "metadata": {},
     "output_type": "display_data"
    },
    {
     "name": "stdout",
     "output_type": "stream",
     "text": [
      "Shape df: (720, 18876)\n"
     ]
    },
    {
     "name": "stdout",
     "output_type": "stream",
     "text": [
      "Shape X_train: (576, 18875)\n",
      "Shape X_test: (144, 18875)\n"
     ]
    }
   ],
   "source": [
    "start_time = datetime.datetime.now()\n",
    "\n",
    "myfunc.reset_vars()\n",
    "\n",
    "myfunc.NOTEBK_FILENAME = myfunc.get_nb_name()\n",
    "\n",
    "myfunc.check_enviroment(myfunc.DATA_DIR, myfunc.CFDNA_DIR, myfunc.GENCODE_DIR, myfunc.H5_DIR, myfunc.LOG_DIR, myfunc.CSV_DIR, myfunc.MODEL_DIR, myfunc.EXEC_DIR, myfunc.MET_DIR)\n",
    "\n",
    "# Leer fichero con las muestras\n",
    "df_t = myfunc.read_h5_to_df(DATA_FILE, myfunc.H5_DIR)\n",
    "display(df_t.groupby(\"target\").size())\n",
    "print(\"Shape df:\",df_t.shape)\n",
    "\n",
    "# Separar caracteristicas/genes de las etiquetas/tipos de cáncer\n",
    "X = df_t.iloc[:, :-1]  # Todas las columnas excepto la última\n",
    "y = df_t.iloc[:, -1]  # La última columna contiene los identificadores de los tipos de cáncer\n",
    "\n",
    "#  Crear el conjunto de datos de entrenamiento y de pruebas, y se fija la semilla para siempre coger el mismo juego de muestras\n",
    "X_train, X_test, y_train, y_test = train_test_split(X, y, test_size=0.2, shuffle=True, random_state=42)\n",
    "print(\"Shape X_train:\",X_train.shape)\n",
    "print(\"Shape X_test:\",X_test.shape)\n"
   ]
  },
  {
   "cell_type": "markdown",
   "id": "d113c367",
   "metadata": {
    "papermill": {
     "duration": 0.002817,
     "end_time": "2023-10-30T05:17:38.175257",
     "exception": false,
     "start_time": "2023-10-30T05:17:38.172440",
     "status": "completed"
    },
    "tags": []
   },
   "source": [
    "#### Selección de características y clasificación."
   ]
  },
  {
   "cell_type": "code",
   "execution_count": 7,
   "id": "e0aad85f",
   "metadata": {
    "execution": {
     "iopub.execute_input": "2023-10-30T05:17:38.181815Z",
     "iopub.status.busy": "2023-10-30T05:17:38.181641Z",
     "iopub.status.idle": "2023-10-30T05:23:14.802187Z",
     "shell.execute_reply": "2023-10-30T05:23:14.801285Z"
    },
    "papermill": {
     "duration": 336.630733,
     "end_time": "2023-10-30T05:23:14.808846",
     "exception": false,
     "start_time": "2023-10-30T05:17:38.178113",
     "status": "completed"
    },
    "tags": []
   },
   "outputs": [
    {
     "name": "stdout",
     "output_type": "stream",
     "text": [
      "20231030T061738 : amilcar22 : INFO : Iniciando entrenamiento\n",
      "num_iter: 1 , max_iter: 1\n",
      "Fitting 5 folds for each of 1 candidates, totalling 5 fits\n"
     ]
    },
    {
     "name": "stdout",
     "output_type": "stream",
     "text": [
      "Mejores Hiperparámetros: {'selector__max_features': 500, 'selector__estimator__n_estimators': 100, 'clasifier__solver': 'saga', 'clasifier__penalty': 'l1', 'clasifier__max_iter': 10000}\n",
      "Mejor Puntuación: 0.8274\n",
      "20231030T062314 : amilcar22 : INFO : Fin entrenamiento\n"
     ]
    }
   ],
   "source": [
    "myfunc.verbose(\"Iniciando entrenamiento\")\n",
    "\n",
    "kf = KFold(n_splits=5, shuffle=True, random_state=SEMILLA)\n",
    "\n",
    "# Crear el pipeline para el flujo de tareas\n",
    "tasks_pipeline = Pipeline([\n",
    "    ('selector', algor_selector),\n",
    "    ('clasifier', algor_clasifier)\n",
    "])\n",
    "\n",
    "# MAX_ITERS puede limitar el número de iteraciones si son excesivas para las combinaciones de parámetros buscando un óptimo local, \n",
    "# sino funcionaría como GridSearchCV al revisar todas las cominaciones de los parámetros\n",
    "num_iteraciones = 1\n",
    "num_iteraciones = num_iteraciones * np.prod([len(elemento1) for _, elemento1 in param_distributions.items()])\n",
    "max_iteraciones = num_iteraciones if num_iteraciones <= MAX_ITERS else MAX_ITERS\n",
    "print(\"num_iter:\",num_iteraciones,\", max_iter:\",max_iteraciones)\n",
    "\n",
    "random_search = RandomizedSearchCV(\n",
    "    tasks_pipeline, \n",
    "    param_distributions, \n",
    "    n_iter=max_iteraciones,\n",
    "    scoring=SCORING,\n",
    "    cv=kf,\n",
    "    verbose=3, \n",
    "    random_state=SEMILLA, \n",
    "    n_jobs=-1\n",
    "    )\n",
    "\n",
    "# Entrenar el modelo\n",
    "random_search.fit(X_train, y_train)\n",
    "\n",
    "# Ver los mejores hiperparámetros encontrados\n",
    "print(f'Mejores Hiperparámetros: {random_search.best_params_}')\n",
    "print(f'Mejor Puntuación: {random_search.best_score_:.4f}')\n",
    "\n",
    "# Nos quedamos con el mejor modelo para ver las métricas\n",
    "mejor_modelo = random_search.best_estimator_\n",
    "\n",
    "myfunc.verbose(\"Fin entrenamiento\")"
   ]
  },
  {
   "cell_type": "markdown",
   "id": "732918a2",
   "metadata": {
    "papermill": {
     "duration": 0.006754,
     "end_time": "2023-10-30T05:23:14.821089",
     "exception": false,
     "start_time": "2023-10-30T05:23:14.814335",
     "status": "completed"
    },
    "tags": []
   },
   "source": [
    "#### Guardar modelo"
   ]
  },
  {
   "cell_type": "code",
   "execution_count": 8,
   "id": "3230ce81",
   "metadata": {
    "execution": {
     "iopub.execute_input": "2023-10-30T05:23:14.837336Z",
     "iopub.status.busy": "2023-10-30T05:23:14.836931Z",
     "iopub.status.idle": "2023-10-30T05:23:14.911770Z",
     "shell.execute_reply": "2023-10-30T05:23:14.910977Z"
    },
    "papermill": {
     "duration": 0.086395,
     "end_time": "2023-10-30T05:23:14.914288",
     "exception": false,
     "start_time": "2023-10-30T05:23:14.827893",
     "status": "completed"
    },
    "tags": []
   },
   "outputs": [
    {
     "name": "stdout",
     "output_type": "stream",
     "text": [
      "20231030T062314 : amilcar22 : INFO : Inicio guardar fichero ../tfm_git/ejecuciones/modelos/modelo_6191_bin_m_RF_LR_L1.pkl\n",
      "20231030T062314 : amilcar22 : INFO : Fin guardar fichero ../tfm_git/ejecuciones/modelos/modelo_6191_bin_m_RF_LR_L1.pkl\n"
     ]
    }
   ],
   "source": [
    "fichero_modelo = str.replace(\"modelo_\"+str(SEMILLA).zfill(4)+\"_\"+M_TIPO+\"_\"+M_SELECT+\"_\"+M_CLASIF+\".pkl\", \" \", \"_\")\n",
    "\n",
    "myfunc.save_modelo(mejor_modelo, myfunc.MODEL_DIR, fichero_modelo)"
   ]
  },
  {
   "cell_type": "markdown",
   "id": "4ba8d0ff",
   "metadata": {
    "papermill": {
     "duration": 0.003298,
     "end_time": "2023-10-30T05:23:14.923032",
     "exception": false,
     "start_time": "2023-10-30T05:23:14.919734",
     "status": "completed"
    },
    "tags": []
   },
   "source": [
    "#### Ver resultados del las iteraciones hechas por RandomSearchCV"
   ]
  },
  {
   "cell_type": "code",
   "execution_count": 9,
   "id": "6275c93a",
   "metadata": {
    "execution": {
     "iopub.execute_input": "2023-10-30T05:23:14.939206Z",
     "iopub.status.busy": "2023-10-30T05:23:14.938736Z",
     "iopub.status.idle": "2023-10-30T05:23:14.947556Z",
     "shell.execute_reply": "2023-10-30T05:23:14.946855Z"
    },
    "papermill": {
     "duration": 0.018712,
     "end_time": "2023-10-30T05:23:14.949285",
     "exception": false,
     "start_time": "2023-10-30T05:23:14.930573",
     "status": "completed"
    },
    "tags": []
   },
   "outputs": [
    {
     "name": "stdout",
     "output_type": "stream",
     "text": [
      "20231030T062314 : amilcar22 : INFO : Inicio ver resultados\n",
      "Mejores Hiperparámetros: {'selector__max_features': 500, 'selector__estimator__n_estimators': 100, 'clasifier__solver': 'saga', 'clasifier__penalty': 'l1', 'clasifier__max_iter': 10000}\n",
      "Mejores puntuaciones: 0.8274 | Params: {'selector__max_features': 500, 'selector__estimator__n_estimators': 100, 'clasifier__solver': 'saga', 'clasifier__penalty': 'l1', 'clasifier__max_iter': 10000}\n",
      "Media de las puntuaciones: 0.8274 | Params: {'selector__max_features': 500, 'selector__estimator__n_estimators': 100, 'clasifier__solver': 'saga', 'clasifier__penalty': 'l1', 'clasifier__max_iter': 10000}\n",
      "20231030T062314 : amilcar22 : INFO : Fin resultados\n"
     ]
    }
   ],
   "source": [
    "myfunc.ver_resultados_search(random_search)"
   ]
  },
  {
   "cell_type": "markdown",
   "id": "c43787ff",
   "metadata": {
    "papermill": {
     "duration": 0.005095,
     "end_time": "2023-10-30T05:23:14.960319",
     "exception": false,
     "start_time": "2023-10-30T05:23:14.955224",
     "status": "completed"
    },
    "tags": []
   },
   "source": [
    "#### Ver métricas del mejor modelo"
   ]
  },
  {
   "cell_type": "code",
   "execution_count": 10,
   "id": "bcca80e2",
   "metadata": {
    "execution": {
     "iopub.execute_input": "2023-10-30T05:23:14.970705Z",
     "iopub.status.busy": "2023-10-30T05:23:14.970390Z",
     "iopub.status.idle": "2023-10-30T05:23:15.707188Z",
     "shell.execute_reply": "2023-10-30T05:23:15.706465Z"
    },
    "papermill": {
     "duration": 0.745278,
     "end_time": "2023-10-30T05:23:15.711173",
     "exception": false,
     "start_time": "2023-10-30T05:23:14.965895",
     "status": "completed"
    },
    "tags": []
   },
   "outputs": [
    {
     "name": "stdout",
     "output_type": "stream",
     "text": [
      "20231030T062314 : amilcar22 : INFO : Inicio ver métricas\n"
     ]
    },
    {
     "name": "stdout",
     "output_type": "stream",
     "text": [
      "              precision    recall  f1-score   support\n",
      "\n",
      "           0       0.86      0.83      0.84        82\n",
      "           1       0.78      0.82      0.80        62\n",
      "\n",
      "    accuracy                           0.83       144\n",
      "   macro avg       0.82      0.83      0.82       144\n",
      "weighted avg       0.83      0.83      0.83       144\n",
      "\n",
      "\n",
      "\n",
      "   Exactitud: 0.8264\n",
      "   Precisión: 0.8227\n",
      "Sensibilidad: 0.8259\n",
      "    F1-score: 0.8239\n",
      "     AUC ROC: 0.9119\n"
     ]
    },
    {
     "data": {
      "image/png": "[encoded data removed]",
      "text/plain": [
       "<Figure size 300x100 with 2 Axes>"
      ]
     },
     "metadata": {},
     "output_type": "display_data"
    },
    {
     "data": {
      "image/png": "[encoded data removed]",
      "text/plain": [
       "<Figure size 800x500 with 1 Axes>"
      ]
     },
     "metadata": {},
     "output_type": "display_data"
    },
    {
     "name": "stdout",
     "output_type": "stream",
     "text": [
      "20231030T062315 : amilcar22 : INFO : Fin ver métricas\n"
     ]
    }
   ],
   "source": [
    "if M_TIPO.startswith(\"bin\"):\n",
    "    myfunc.ver_metricas(mejor_modelo, X_test, y_test)\n",
    "else:\n",
    "    myfunc.ver_metricas_multi(mejor_modelo, X_test, y_test)\n"
   ]
  },
  {
   "cell_type": "markdown",
   "id": "e446bf36",
   "metadata": {
    "papermill": {
     "duration": 0.007958,
     "end_time": "2023-10-30T05:23:15.727171",
     "exception": false,
     "start_time": "2023-10-30T05:23:15.719213",
     "status": "completed"
    },
    "tags": []
   },
   "source": [
    "#### Finalización del notebook"
   ]
  },
  {
   "cell_type": "code",
   "execution_count": 11,
   "id": "9f53c8c1",
   "metadata": {
    "execution": {
     "iopub.execute_input": "2023-10-30T05:23:15.744285Z",
     "iopub.status.busy": "2023-10-30T05:23:15.743738Z",
     "iopub.status.idle": "2023-10-30T05:23:15.748463Z",
     "shell.execute_reply": "2023-10-30T05:23:15.747717Z"
    },
    "papermill": {
     "duration": 0.014916,
     "end_time": "2023-10-30T05:23:15.749875",
     "exception": false,
     "start_time": "2023-10-30T05:23:15.734959",
     "status": "completed"
    },
    "tags": []
   },
   "outputs": [
    {
     "name": "stdout",
     "output_type": "stream",
     "text": [
      "20231030T062315 : amilcar22 : INFO : Notebook ha tardado 337 seconds\n"
     ]
    }
   ],
   "source": [
    "end_time = datetime.datetime.now()\n",
    "total_time = end_time - start_time\n",
    "myfunc.verbose(f\"Notebook ha tardado {total_time.seconds} seconds\")"
   ]
  },
  {
   "cell_type": "markdown",
   "id": "d0bbefe3",
   "metadata": {
    "papermill": {
     "duration": 0.004919,
     "end_time": "2023-10-30T05:23:15.759816",
     "exception": false,
     "start_time": "2023-10-30T05:23:15.754897",
     "status": "completed"
    },
    "tags": []
   },
   "source": [
    "#### Guardar métricas"
   ]
  },
  {
   "cell_type": "code",
   "execution_count": 12,
   "id": "46e54c4b",
   "metadata": {
    "execution": {
     "iopub.execute_input": "2023-10-30T05:23:15.777028Z",
     "iopub.status.busy": "2023-10-30T05:23:15.776135Z",
     "iopub.status.idle": "2023-10-30T05:23:16.144214Z",
     "shell.execute_reply": "2023-10-30T05:23:16.143598Z"
    },
    "papermill": {
     "duration": 0.379301,
     "end_time": "2023-10-30T05:23:16.146493",
     "exception": false,
     "start_time": "2023-10-30T05:23:15.767192",
     "status": "completed"
    },
    "tags": []
   },
   "outputs": [
    {
     "name": "stdout",
     "output_type": "stream",
     "text": [
      "20231030T062315 : amilcar22 : INFO : Inicio guardar métricas\n",
      "20231030T062315 : amilcar22 : INFO : Inicio leer fichero ../tfm_git/ejecuciones/metricas/metricas_6191.csv\n",
      "20231030T062315 : amilcar22 : INFO : Fin leer fichero ../tfm_git/ejecuciones/metricas/metricas_6191.csv\n"
     ]
    },
    {
     "name": "stdout",
     "output_type": "stream",
     "text": [
      "20231030T062316 : amilcar22 : INFO : Inicio guardar fichero ../tfm_git/ejecuciones/metricas/metricas_6191.csv\n",
      "20231030T062316 : amilcar22 : INFO : Fichero borrado ../tfm_git/ejecuciones/metricas/metricas_6191.csv\n",
      "20231030T062316 : amilcar22 : INFO : Fin guardar fichero ../tfm_git/ejecuciones/metricas/metricas_6191.csv\n",
      "20231030T062316 : amilcar22 : INFO : Fin guardar métricas\n",
      "20231030T062316 : amilcar22 : INFO : Inicio leer fichero ../tfm_git/ejecuciones/metricas/metricas_6191.csv\n",
      "20231030T062316 : amilcar22 : INFO : Fin leer fichero ../tfm_git/ejecuciones/metricas/metricas_6191.csv\n"
     ]
    },
    {
     "data": {
      "text/html": [
       "<div>\n",
       "<style scoped>\n",
       "    .dataframe tbody tr th:only-of-type {\n",
       "        vertical-align: middle;\n",
       "    }\n",
       "\n",
       "    .dataframe tbody tr th {\n",
       "        vertical-align: top;\n",
       "    }\n",
       "\n",
       "    .dataframe thead th {\n",
       "        text-align: right;\n",
       "    }\n",
       "</style>\n",
       "<table border=\"1\" class=\"dataframe\">\n",
       "  <thead>\n",
       "    <tr style=\"text-align: right;\">\n",
       "      <th></th>\n",
       "      <th>tipo</th>\n",
       "      <th>select</th>\n",
       "      <th>clasific</th>\n",
       "      <th>semilla</th>\n",
       "      <th>accuracy</th>\n",
       "      <th>precision</th>\n",
       "      <th>recall</th>\n",
       "      <th>f1_score</th>\n",
       "      <th>roc_auc</th>\n",
       "      <th>hostname</th>\n",
       "      <th>total_time_sec</th>\n",
       "      <th>datetime</th>\n",
       "      <th>fichero_modelo</th>\n",
       "      <th>params</th>\n",
       "      <th>shape</th>\n",
       "      <th>features</th>\n",
       "    </tr>\n",
       "  </thead>\n",
       "  <tbody>\n",
       "    <tr>\n",
       "      <th>0</th>\n",
       "      <td>bin_m</td>\n",
       "      <td>RF</td>\n",
       "      <td>LR_L1</td>\n",
       "      <td>6191</td>\n",
       "      <td>0.826389</td>\n",
       "      <td>0.822687</td>\n",
       "      <td>0.825924</td>\n",
       "      <td>0.823935</td>\n",
       "      <td>0.911880</td>\n",
       "      <td>amilcar22</td>\n",
       "      <td>337</td>\n",
       "      <td>2023-10-30 06:23:16.109791</td>\n",
       "      <td>modelo_6191_bin_m_RF_LR_L1.pkl</td>\n",
       "      <td>{'selector__max_features': 500, 'selector__est...</td>\n",
       "      <td>X_test:(144, 18875)</td>\n",
       "      <td>['ENSG00000000971.17', 'ENSG00000005001.10', '...</td>\n",
       "    </tr>\n",
       "    <tr>\n",
       "      <th>0</th>\n",
       "      <td>bin_m</td>\n",
       "      <td>RF</td>\n",
       "      <td>LR_EN</td>\n",
       "      <td>6191</td>\n",
       "      <td>0.847222</td>\n",
       "      <td>0.843750</td>\n",
       "      <td>0.846184</td>\n",
       "      <td>0.844797</td>\n",
       "      <td>0.917191</td>\n",
       "      <td>amilcar22</td>\n",
       "      <td>329</td>\n",
       "      <td>2023-10-30 06:17:31.888598</td>\n",
       "      <td>modelo_6191_bin_m_RF_LR_EN.pkl</td>\n",
       "      <td>{'selector__max_features': 500, 'selector__est...</td>\n",
       "      <td>X_test:(144, 18875)</td>\n",
       "      <td>['ENSG00000000971.17', 'ENSG00000005001.10', '...</td>\n",
       "    </tr>\n",
       "    <tr>\n",
       "      <th>0</th>\n",
       "      <td>bin_m</td>\n",
       "      <td>MI</td>\n",
       "      <td>SVM</td>\n",
       "      <td>6191</td>\n",
       "      <td>0.833333</td>\n",
       "      <td>0.830495</td>\n",
       "      <td>0.835956</td>\n",
       "      <td>0.831743</td>\n",
       "      <td>0.932533</td>\n",
       "      <td>amilcar22</td>\n",
       "      <td>104</td>\n",
       "      <td>2023-10-30 06:11:56.528307</td>\n",
       "      <td>modelo_6191_bin_m_MI_SVM.pkl</td>\n",
       "      <td>{'selector__k': 1000, 'clasifier__kernel': 'rb...</td>\n",
       "      <td>X_test:(144, 18875)</td>\n",
       "      <td>['ENSG00000002330.14', 'ENSG00000002933.9', 'E...</td>\n",
       "    </tr>\n",
       "  </tbody>\n",
       "</table>\n",
       "</div>"
      ],
      "text/plain": [
       "    tipo select clasific  semilla  accuracy  precision    recall  f1_score  \\\n",
       "0  bin_m     RF    LR_L1     6191  0.826389   0.822687  0.825924  0.823935   \n",
       "0  bin_m     RF    LR_EN     6191  0.847222   0.843750  0.846184  0.844797   \n",
       "0  bin_m     MI      SVM     6191  0.833333   0.830495  0.835956  0.831743   \n",
       "\n",
       "    roc_auc   hostname  total_time_sec                    datetime  \\\n",
       "0  0.911880  amilcar22             337  2023-10-30 06:23:16.109791   \n",
       "0  0.917191  amilcar22             329  2023-10-30 06:17:31.888598   \n",
       "0  0.932533  amilcar22             104  2023-10-30 06:11:56.528307   \n",
       "\n",
       "                   fichero_modelo  \\\n",
       "0  modelo_6191_bin_m_RF_LR_L1.pkl   \n",
       "0  modelo_6191_bin_m_RF_LR_EN.pkl   \n",
       "0    modelo_6191_bin_m_MI_SVM.pkl   \n",
       "\n",
       "                                              params                shape  \\\n",
       "0  {'selector__max_features': 500, 'selector__est...  X_test:(144, 18875)   \n",
       "0  {'selector__max_features': 500, 'selector__est...  X_test:(144, 18875)   \n",
       "0  {'selector__k': 1000, 'clasifier__kernel': 'rb...  X_test:(144, 18875)   \n",
       "\n",
       "                                            features  \n",
       "0  ['ENSG00000000971.17', 'ENSG00000005001.10', '...  \n",
       "0  ['ENSG00000000971.17', 'ENSG00000005001.10', '...  \n",
       "0  ['ENSG00000002330.14', 'ENSG00000002933.9', 'E...  "
      ]
     },
     "metadata": {},
     "output_type": "display_data"
    }
   ],
   "source": [
    "if M_TIPO.startswith(\"bin\"):\n",
    "    myfunc.save_metricas_to_csv(random_search, X_test, y_test, M_TIPO, M_SELECT, M_CLASIF, total_time, SEMILLA, myfunc.MET_DIR, M_FICHERO, fichero_modelo)\n",
    "else:\n",
    "    myfunc.save_metricas_multi_to_csv(random_search, X_test, y_test, M_TIPO, M_SELECT, M_CLASIF, total_time, SEMILLA, myfunc.MET_DIR, M_FICHERO, fichero_modelo)\n",
    "\n",
    "df1=myfunc.read_metricas_to_df(myfunc.MET_DIR,M_FICHERO)\n",
    "\n",
    "display(df1.sort_values(\"datetime\", ascending=False)[:3])\n"
   ]
  },
  {
   "cell_type": "markdown",
   "id": "ad203aa3",
   "metadata": {
    "papermill": {
     "duration": 0.004863,
     "end_time": "2023-10-30T05:23:16.156415",
     "exception": false,
     "start_time": "2023-10-30T05:23:16.151552",
     "status": "completed"
    },
    "tags": []
   },
   "source": [
    "#### Guardar resultados"
   ]
  },
  {
   "cell_type": "code",
   "execution_count": 13,
   "id": "fbdfae78",
   "metadata": {
    "execution": {
     "iopub.execute_input": "2023-10-30T05:23:16.171200Z",
     "iopub.status.busy": "2023-10-30T05:23:16.170594Z",
     "iopub.status.idle": "2023-10-30T05:23:16.181724Z",
     "shell.execute_reply": "2023-10-30T05:23:16.181154Z"
    },
    "papermill": {
     "duration": 0.019649,
     "end_time": "2023-10-30T05:23:16.183026",
     "exception": false,
     "start_time": "2023-10-30T05:23:16.163377",
     "status": "completed"
    },
    "tags": []
   },
   "outputs": [
    {
     "name": "stdout",
     "output_type": "stream",
     "text": [
      "20231030T062316 : amilcar22 : INFO : Inicio guardar resultados\n",
      "20231030T062316 : amilcar22 : INFO : Inicio guardar fichero ../tfm_git/ejecuciones/metricas/resultados_6191_bin_m-RF-LR_L1.csv\n",
      "20231030T062316 : amilcar22 : INFO : Fin guardar fichero ../tfm_git/ejecuciones/metricas/resultados_6191_bin_m-RF-LR_L1.csv\n",
      "20231030T062316 : amilcar22 : INFO : Fin guardar resultados\n"
     ]
    }
   ],
   "source": [
    "fichero_resultados=R_FICHERO+\"_\"+M_TIPO+\"-\"+M_SELECT+\"-\"+M_CLASIF+\".csv\"\n",
    "myfunc.save_resultados_to_csv(M_TIPO, M_SELECT, M_CLASIF,  random_search, myfunc.MET_DIR, fichero_resultados)\n"
   ]
  }
 ],
 "metadata": {
  "kernelspec": {
   "display_name": "Python 3 (ipykernel)",
   "language": "python",
   "name": "python3"
  },
  "language_info": {
   "codemirror_mode": {
    "name": "ipython",
    "version": 3
   },
   "file_extension": ".py",
   "mimetype": "text/x-python",
   "name": "python",
   "nbconvert_exporter": "python",
   "pygments_lexer": "ipython3",
   "version": "3.10.12"
  },
  "papermill": {
   "default_parameters": {},
   "duration": 342.735847,
   "end_time": "2023-10-30T05:23:18.806164",
   "environment_variables": {},
   "exception": null,
   "input_path": "03_entrenamiento.ipynb",
   "output_path": "ejecuciones/training/03_entrenamiento.20231030T061735.param_0000_6191_bin_m_RF_LR_L1.output.ipynb",
   "parameters": {
    "MAX_ITERS": 500,
    "M_CLASIF": "LR_L1",
    "M_FICHERO": "metricas_6191",
    "M_SELECT": "RF",
    "M_TIPO": "bin_m",
    "PRE_DATA_FILE": "rows_transpose_norm_by_gene_id_with_target_num_",
    "P_FICHERO": "param_0000_6191_bin_m_RF_LR_L1.yaml",
    "R_FICHERO": "resultados_6191",
    "SCORING": "roc_auc_ovr",
    "SEMILLA": 6191,
    "eval_clasifier": "LogisticRegressionCV(random_state=SEMILLA)",
    "eval_selector": "SelectFromModel(estimator=RandomForestClassifier(random_state=SEMILLA), threshold=-np.inf)",
    "param_distributions": {
     "clasifier__max_iter": [
      10000
     ],
     "clasifier__penalty": [
      "l1"
     ],
     "clasifier__solver": [
      "saga"
     ],
     "selector__estimator__n_estimators": [
      100
     ],
     "selector__max_features": [
      500
     ]
    }
   },
   "start_time": "2023-10-30T05:17:36.070317",
   "version": "2.4.0"
  }
 },
 "nbformat": 4,
 "nbformat_minor": 5
}