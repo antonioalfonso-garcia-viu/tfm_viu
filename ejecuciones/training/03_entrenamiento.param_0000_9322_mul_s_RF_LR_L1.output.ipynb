{
 "cells": [
  {
   "cell_type": "markdown",
   "id": "3aaabde9",
   "metadata": {
    "papermill": {
     "duration": 0.005389,
     "end_time": "2023-10-30T07:33:27.765480",
     "exception": false,
     "start_time": "2023-10-30T07:33:27.760091",
     "status": "completed"
    },
    "tags": []
   },
   "source": [
    "##### Inicio"
   ]
  },
  {
   "cell_type": "markdown",
   "id": "46beb557",
   "metadata": {
    "papermill": {
     "duration": 0.003372,
     "end_time": "2023-10-30T07:33:27.772528",
     "exception": false,
     "start_time": "2023-10-30T07:33:27.769156",
     "status": "completed"
    },
    "tags": []
   },
   "source": [
    "#### Carga de datos"
   ]
  },
  {
   "cell_type": "code",
   "execution_count": 1,
   "id": "fcfad775",
   "metadata": {
    "execution": {
     "iopub.execute_input": "2023-10-30T07:33:27.780662Z",
     "iopub.status.busy": "2023-10-30T07:33:27.780060Z",
     "iopub.status.idle": "2023-10-30T07:33:28.900653Z",
     "shell.execute_reply": "2023-10-30T07:33:28.900015Z"
    },
    "papermill": {
     "duration": 1.126336,
     "end_time": "2023-10-30T07:33:28.902150",
     "exception": false,
     "start_time": "2023-10-30T07:33:27.775814",
     "status": "completed"
    },
    "tags": []
   },
   "outputs": [
    {
     "name": "stdout",
     "output_type": "stream",
     "text": [
      "CPU_COUNT: 16; NODE: enderlab; sys.version: 3.10.11 (main, May 16 2023, 00:28:57) [GCC 11.2.0]\n",
      "LOKY_MAX_CPU_COUNT is not set.\n",
      "OMP_NUM_THREADS is not set.\n"
     ]
    }
   ],
   "source": [
    "import os\n",
    "import numpy as np\n",
    "import pandas as pd\n",
    "import datetime\n",
    "import sklearn\n",
    "import logging\n",
    "import warnings\n",
    "\n",
    "from sklearn.pipeline import Pipeline\n",
    "from sklearn.model_selection import RandomizedSearchCV, KFold, cross_val_score, train_test_split\n",
    "from sklearn.metrics import accuracy_score, confusion_matrix, classification_report, roc_auc_score\n",
    "\n",
    "#  cargar algoritmos para aprendizaje supervisado\n",
    "from sklearn.feature_selection import SelectKBest, f_classif, SelectFromModel, mutual_info_classif\n",
    "from sklearn.svm import SVC\n",
    "from sklearn.ensemble import RandomForestClassifier\n",
    "from sklearn.linear_model import LogisticRegression,LogisticRegressionCV\n",
    "\n",
    "# importar fichero con utilidades propias\n",
    "from commons import myfunctions as myfunc\n"
   ]
  },
  {
   "cell_type": "markdown",
   "id": "7ca8ad2c",
   "metadata": {
    "papermill": {
     "duration": 0.003614,
     "end_time": "2023-10-30T07:33:28.909846",
     "exception": false,
     "start_time": "2023-10-30T07:33:28.906232",
     "status": "completed"
    },
    "tags": []
   },
   "source": [
    "#### Parámetros a utilizar en el entrenamiento.\n",
    "\n",
    "Se indican los 3 algoritmos de *selección de características* (eval_selector_xxx) y los 3 algoritmos para la _clasificación_ (eval_clasifier_xxx)\n",
    "\n",
    "En *param_distributions* se indicar los parámetros que utilizan los algoritmos en la función RandomSearchCV.\n",
    "\n",
    "Esta celda tiene la etiqueta **parameters** que servirá para poder lanzar los entrenamientos con la utilidad **papermill** pasándole un fichero con los parámetros. Los nuevos parámetros se situarán tras esta celda para tener prevalencia."
   ]
  },
  {
   "cell_type": "code",
   "execution_count": 2,
   "id": "289f9082",
   "metadata": {
    "execution": {
     "iopub.execute_input": "2023-10-30T07:33:28.918277Z",
     "iopub.status.busy": "2023-10-30T07:33:28.917715Z",
     "iopub.status.idle": "2023-10-30T07:33:28.926250Z",
     "shell.execute_reply": "2023-10-30T07:33:28.925702Z"
    },
    "papermill": {
     "duration": 0.014241,
     "end_time": "2023-10-30T07:33:28.927494",
     "exception": false,
     "start_time": "2023-10-30T07:33:28.913253",
     "status": "completed"
    },
    "tags": [
     "parameters"
    ]
   },
   "outputs": [
    {
     "name": "stdout",
     "output_type": "stream",
     "text": [
      "20231030T083328 : enderlab : INFO : Utilizando parámetros de mul_m\n"
     ]
    }
   ],
   "source": [
    "#  Parametros para el entrenamiento\n",
    "\n",
    "SEMILLA=        42\n",
    "M_TIPO=         \"mul_m\"\n",
    "M_SELECT=       \"MI\"\n",
    "M_CLASIF=       \"SVM\"\n",
    "R_FICHERO=      \"resultados\"\n",
    "M_FICHERO=      \"metricas\"\n",
    "PRE_DATA_FILE=  \"rows_transpose_norm_by_gene_id_with_target_num_\"\n",
    "SCORING=        \"roc_auc_ovr\" \n",
    "MAX_ITERS=      100\n",
    "\n",
    "def mutual_info_classif_state(X, y):\n",
    "    return mutual_info_classif(X, y, random_state=SEMILLA)\n",
    "\n",
    "eval_selector_mi = \"SelectKBest(score_func=mutual_info_classif_state)\"\n",
    "eval_selector_rf=  \"SelectFromModel(estimator=RandomForestClassifier(random_state=SEMILLA), threshold=-np.inf)\"\n",
    "eval_selector_anova=  \"SelectKBest(score_func=f_classif)\"\n",
    "\n",
    "eval_clasifier_svm= \"SVC(probability=True, random_state=SEMILLA)\"\n",
    "eval_clasifier_rf= \"RandomForestClassifier(random_state=SEMILLA)\"\n",
    "eval_clasifier_lr= \"LogisticRegressionCV(random_state=SEMILLA)\"\n",
    "\n",
    "if M_TIPO.startswith(\"bin_m\"):\n",
    "    myfunc.verbose(f\"Utilizando parámetros de {M_TIPO}\")\n",
    "    eval_selector = eval_selector_mi\n",
    "    eval_clasifier = eval_clasifier_svm\n",
    "\n",
    "    SEMILLA = 6578\n",
    "    M_SELECT = \"MI\"\n",
    "    M_CLASIF = \"SVM\"\n",
    "    param_distributions = {'selector__k': [1000], \n",
    "         'clasifier__kernel': ['rbf'], 'clasifier__gamma': [0.01], 'clasifier__C': [100]}\n",
    "elif M_TIPO.startswith(\"bin_s\"):\n",
    "    myfunc.verbose(f\"Utilizando parámetros de {M_TIPO}\")\n",
    "    eval_selector = eval_selector_rf\n",
    "    eval_clasifier = eval_clasifier_lr\n",
    "\n",
    "    SEMILLA = 6191\n",
    "    M_SELECT = \"RF\"\n",
    "    M_CLASIF = \"LR_L2\"\n",
    "    param_distributions = {'selector__max_features': [1000], 'selector__estimator__n_estimators': [200], \n",
    "        'clasifier__solver': ['lbfgs'], 'clasifier__penalty': ['l2'], 'clasifier__max_iter': [10000]}\n",
    "\n",
    "elif M_TIPO.startswith(\"mul_m\"):\n",
    "    myfunc.verbose(f\"Utilizando parámetros de {M_TIPO}\")\n",
    " \n",
    "    eval_selector = eval_selector_rf\n",
    "    eval_clasifier = eval_clasifier_lr\n",
    "\n",
    "    SEMILLA = 6191\n",
    "    M_SELECT = \"RF\"\n",
    "    M_CLASIF = \"LR_L2\"\n",
    "    param_distributions = {'selector__max_features': [1000], 'selector__estimator__n_estimators': [400], \n",
    "        'clasifier__solver': ['lbfgs'], 'clasifier__penalty': ['l2'], 'clasifier__max_iter': [10000]}\n",
    "\n",
    "else:\n",
    "    # M_TIPO.startswith(\"mul_s\"):\n",
    "    myfunc.verbose(f\"Utilizando parámetros de {M_TIPO}\")\n",
    "    eval_selector = eval_selector_anova\n",
    "    eval_clasifier = eval_clasifier_lr\n",
    "\n",
    "    SEMILLA = 1860\n",
    "    M_SELECT = \"ANOVA\"\n",
    "    M_CLASIF = \"LR_L2\"\n",
    "    param_distributions = {'selector__k': [1000], \n",
    "        'clasifier__solver': ['saga'], 'clasifier__penalty': ['l2'], 'clasifier__max_iter': [10000]}\n",
    "\n"
   ]
  },
  {
   "cell_type": "code",
   "execution_count": 3,
   "id": "8e9d9e89",
   "metadata": {
    "execution": {
     "iopub.execute_input": "2023-10-30T07:33:28.935627Z",
     "iopub.status.busy": "2023-10-30T07:33:28.935402Z",
     "iopub.status.idle": "2023-10-30T07:33:28.939389Z",
     "shell.execute_reply": "2023-10-30T07:33:28.938862Z"
    },
    "papermill": {
     "duration": 0.009424,
     "end_time": "2023-10-30T07:33:28.940629",
     "exception": false,
     "start_time": "2023-10-30T07:33:28.931205",
     "status": "completed"
    },
    "tags": [
     "injected-parameters"
    ]
   },
   "outputs": [],
   "source": [
    "# Parameters\n",
    "M_TIPO = \"mul_s\"\n",
    "M_SELECT = \"RF\"\n",
    "M_CLASIF = \"LR_L1\"\n",
    "P_FICHERO = \"param_0000_9322_mul_s_RF_LR_L1.yaml\"\n",
    "R_FICHERO = \"resultados_9322\"\n",
    "M_FICHERO = \"metricas_9322\"\n",
    "PRE_DATA_FILE = \"rows_transpose_norm_by_gene_id_with_target_num_\"\n",
    "SCORING = \"roc_auc_ovr\"\n",
    "SEMILLA = 9322\n",
    "MAX_ITERS = 500\n",
    "eval_selector = \"SelectFromModel(estimator=RandomForestClassifier(random_state=SEMILLA), threshold=-np.inf)\"\n",
    "eval_clasifier = \"LogisticRegressionCV(random_state=SEMILLA)\"\n",
    "param_distributions = {\n",
    "    \"selector__max_features\": [500],\n",
    "    \"selector__estimator__n_estimators\": [100],\n",
    "    \"clasifier__solver\": [\"saga\"],\n",
    "    \"clasifier__penalty\": [\"l1\"],\n",
    "    \"clasifier__max_iter\": [10000],\n",
    "}\n"
   ]
  },
  {
   "cell_type": "code",
   "execution_count": 4,
   "id": "b193d9d0",
   "metadata": {
    "execution": {
     "iopub.execute_input": "2023-10-30T07:33:28.948739Z",
     "iopub.status.busy": "2023-10-30T07:33:28.948355Z",
     "iopub.status.idle": "2023-10-30T07:33:28.951639Z",
     "shell.execute_reply": "2023-10-30T07:33:28.951103Z"
    },
    "papermill": {
     "duration": 0.008735,
     "end_time": "2023-10-30T07:33:28.952866",
     "exception": false,
     "start_time": "2023-10-30T07:33:28.944131",
     "status": "completed"
    },
    "tags": []
   },
   "outputs": [],
   "source": [
    "DATA_FILE = PRE_DATA_FILE + M_TIPO\n",
    "\n",
    "# si viene \"None\" en el parámetro max_depth, se le quitan las comillas para que no sea entendido por el algoritmo como un texto\n",
    "if \"clasifier__max_depth\" in param_distributions:\n",
    "    param_distributions['clasifier__max_depth'] = [None if x == 'None' else x for x in param_distributions['clasifier__max_depth']]"
   ]
  },
  {
   "cell_type": "markdown",
   "id": "639cb5ca",
   "metadata": {
    "papermill": {
     "duration": 0.003744,
     "end_time": "2023-10-30T07:33:28.960128",
     "exception": false,
     "start_time": "2023-10-30T07:33:28.956384",
     "status": "completed"
    },
    "tags": []
   },
   "source": [
    "Asignar los algoritmos que se utilizarán en la función RandomSearchCV"
   ]
  },
  {
   "cell_type": "code",
   "execution_count": 5,
   "id": "d6e74aae",
   "metadata": {
    "execution": {
     "iopub.execute_input": "2023-10-30T07:33:28.968671Z",
     "iopub.status.busy": "2023-10-30T07:33:28.968277Z",
     "iopub.status.idle": "2023-10-30T07:33:28.971440Z",
     "shell.execute_reply": "2023-10-30T07:33:28.970742Z"
    },
    "papermill": {
     "duration": 0.008759,
     "end_time": "2023-10-30T07:33:28.972749",
     "exception": false,
     "start_time": "2023-10-30T07:33:28.963990",
     "status": "completed"
    },
    "tags": []
   },
   "outputs": [],
   "source": [
    "algor_selector=eval(eval_selector)\n",
    "algor_clasifier=eval(eval_clasifier)"
   ]
  },
  {
   "cell_type": "markdown",
   "id": "441f5b8e",
   "metadata": {
    "papermill": {
     "duration": 0.003889,
     "end_time": "2023-10-30T07:33:28.980134",
     "exception": false,
     "start_time": "2023-10-30T07:33:28.976245",
     "status": "completed"
    },
    "tags": []
   },
   "source": [
    "#### Comprobar el entorno y leer fichero de muestras"
   ]
  },
  {
   "cell_type": "code",
   "execution_count": 6,
   "id": "9469b040",
   "metadata": {
    "execution": {
     "iopub.execute_input": "2023-10-30T07:33:28.988765Z",
     "iopub.status.busy": "2023-10-30T07:33:28.988395Z",
     "iopub.status.idle": "2023-10-30T07:33:29.161335Z",
     "shell.execute_reply": "2023-10-30T07:33:29.160756Z"
    },
    "papermill": {
     "duration": 0.178737,
     "end_time": "2023-10-30T07:33:29.162709",
     "exception": false,
     "start_time": "2023-10-30T07:33:28.983972",
     "status": "completed"
    },
    "tags": []
   },
   "outputs": [
    {
     "name": "stdout",
     "output_type": "stream",
     "text": [
      "20231030T083328 : enderlab : INFO : Encontrada carpeta DATA_DIR=../tfm_git/datos\n",
      "20231030T083328 : enderlab : INFO : Encontrada carpeta CFDNA_DIR=../tfm_git/datos/cfDNA_5hmC\n",
      "20231030T083328 : enderlab : INFO : Encontrada carpeta GENCODE_DIR=../tfm_git/datos/gencode\n",
      "20231030T083328 : enderlab : INFO : Encontrada carpeta H5_DIR=../tfm_git/datos/h5\n",
      "20231030T083328 : enderlab : INFO : Encontrada carpeta LOG_DIR=../tfm_git/datos/logs\n",
      "20231030T083328 : enderlab : INFO : Encontrada carpeta CSV_DIR=../tfm_git/datos/csv\n",
      "20231030T083328 : enderlab : INFO : Encontrada carpeta MODEL_DIR=../tfm_git/ejecuciones/modelos\n",
      "20231030T083328 : enderlab : INFO : Encontrada carpeta EXEC_DIR=../tfm_git/ejecuciones\n",
      "20231030T083328 : enderlab : INFO : Encontrada carpeta MET_DIR=../tfm_git/ejecuciones/metricas\n",
      "20231030T083328 : enderlab : INFO : Inicio leer fichero h5 ../tfm_git/datos/h5/rows_transpose_norm_by_gene_id_with_target_num_mul_s.h5\n",
      "20231030T083329 : enderlab : INFO : Leyendo clave /df\n"
     ]
    },
    {
     "name": "stdout",
     "output_type": "stream",
     "text": [
      "20231030T083329 : enderlab : INFO : Tamaño (259, 18876)\n",
      "20231030T083329 : enderlab : INFO : Fin leer fichero h5 ../tfm_git/datos/h5/rows_transpose_norm_by_gene_id_with_target_num_mul_s.h5\n"
     ]
    },
    {
     "data": {
      "text/plain": [
       "target\n",
       "0    37\n",
       "1    37\n",
       "2    37\n",
       "3    37\n",
       "4    37\n",
       "5    37\n",
       "6    37\n",
       "dtype: int64"
      ]
     },
     "metadata": {},
     "output_type": "display_data"
    },
    {
     "name": "stdout",
     "output_type": "stream",
     "text": [
      "Shape df: (259, 18876)\n"
     ]
    },
    {
     "name": "stdout",
     "output_type": "stream",
     "text": [
      "Shape X_train: (207, 18875)\n",
      "Shape X_test: (52, 18875)\n"
     ]
    }
   ],
   "source": [
    "start_time = datetime.datetime.now()\n",
    "\n",
    "myfunc.reset_vars()\n",
    "\n",
    "myfunc.NOTEBK_FILENAME = myfunc.get_nb_name()\n",
    "\n",
    "myfunc.check_enviroment(myfunc.DATA_DIR, myfunc.CFDNA_DIR, myfunc.GENCODE_DIR, myfunc.H5_DIR, myfunc.LOG_DIR, myfunc.CSV_DIR, myfunc.MODEL_DIR, myfunc.EXEC_DIR, myfunc.MET_DIR)\n",
    "\n",
    "# Leer fichero con las muestras\n",
    "df_t = myfunc.read_h5_to_df(DATA_FILE, myfunc.H5_DIR)\n",
    "display(df_t.groupby(\"target\").size())\n",
    "print(\"Shape df:\",df_t.shape)\n",
    "\n",
    "# Separar caracteristicas/genes de las etiquetas/tipos de cáncer\n",
    "X = df_t.iloc[:, :-1]  # Todas las columnas excepto la última\n",
    "y = df_t.iloc[:, -1]  # La última columna contiene los identificadores de los tipos de cáncer\n",
    "\n",
    "#  Crear el conjunto de datos de entrenamiento y de pruebas, y se fija la semilla para siempre coger el mismo juego de muestras\n",
    "X_train, X_test, y_train, y_test = train_test_split(X, y, test_size=0.2, shuffle=True, random_state=42)\n",
    "print(\"Shape X_train:\",X_train.shape)\n",
    "print(\"Shape X_test:\",X_test.shape)\n"
   ]
  },
  {
   "cell_type": "markdown",
   "id": "a52480d7",
   "metadata": {
    "papermill": {
     "duration": 0.004056,
     "end_time": "2023-10-30T07:33:29.171243",
     "exception": false,
     "start_time": "2023-10-30T07:33:29.167187",
     "status": "completed"
    },
    "tags": []
   },
   "source": [
    "#### Selección de características y clasificación."
   ]
  },
  {
   "cell_type": "code",
   "execution_count": 7,
   "id": "eee2f7ea",
   "metadata": {
    "execution": {
     "iopub.execute_input": "2023-10-30T07:33:29.180409Z",
     "iopub.status.busy": "2023-10-30T07:33:29.179922Z",
     "iopub.status.idle": "2023-10-30T07:40:27.916957Z",
     "shell.execute_reply": "2023-10-30T07:40:27.915927Z"
    },
    "papermill": {
     "duration": 418.748944,
     "end_time": "2023-10-30T07:40:27.924136",
     "exception": false,
     "start_time": "2023-10-30T07:33:29.175192",
     "status": "completed"
    },
    "tags": []
   },
   "outputs": [
    {
     "name": "stdout",
     "output_type": "stream",
     "text": [
      "20231030T083329 : enderlab : INFO : Iniciando entrenamiento\n",
      "num_iter: 1 , max_iter: 1\n"
     ]
    },
    {
     "name": "stdout",
     "output_type": "stream",
     "text": [
      "Fitting 5 folds for each of 1 candidates, totalling 5 fits\n"
     ]
    },
    {
     "name": "stdout",
     "output_type": "stream",
     "text": [
      "Mejores Hiperparámetros: {'selector__max_features': 500, 'selector__estimator__n_estimators': 100, 'clasifier__solver': 'saga', 'clasifier__penalty': 'l1', 'clasifier__max_iter': 10000}\n",
      "Mejor Puntuación: 0.7686\n",
      "20231030T084027 : enderlab : INFO : Fin entrenamiento\n"
     ]
    }
   ],
   "source": [
    "myfunc.verbose(\"Iniciando entrenamiento\")\n",
    "\n",
    "kf = KFold(n_splits=5, shuffle=True, random_state=SEMILLA)\n",
    "\n",
    "# Crear el pipeline para el flujo de tareas\n",
    "tasks_pipeline = Pipeline([\n",
    "    ('selector', algor_selector),\n",
    "    ('clasifier', algor_clasifier)\n",
    "])\n",
    "\n",
    "# MAX_ITERS puede limitar el número de iteraciones si son excesivas para las combinaciones de parámetros buscando un óptimo local, \n",
    "# sino funcionaría como GridSearchCV al revisar todas las cominaciones de los parámetros\n",
    "num_iteraciones = 1\n",
    "num_iteraciones = num_iteraciones * np.prod([len(elemento1) for _, elemento1 in param_distributions.items()])\n",
    "max_iteraciones = num_iteraciones if num_iteraciones <= MAX_ITERS else MAX_ITERS\n",
    "print(\"num_iter:\",num_iteraciones,\", max_iter:\",max_iteraciones)\n",
    "\n",
    "random_search = RandomizedSearchCV(\n",
    "    tasks_pipeline, \n",
    "    param_distributions, \n",
    "    n_iter=max_iteraciones,\n",
    "    scoring=SCORING,\n",
    "    cv=kf,\n",
    "    verbose=3, \n",
    "    random_state=SEMILLA, \n",
    "    n_jobs=-1\n",
    "    )\n",
    "\n",
    "# Entrenar el modelo\n",
    "random_search.fit(X_train, y_train)\n",
    "\n",
    "# Ver los mejores hiperparámetros encontrados\n",
    "print(f'Mejores Hiperparámetros: {random_search.best_params_}')\n",
    "print(f'Mejor Puntuación: {random_search.best_score_:.4f}')\n",
    "\n",
    "# Nos quedamos con el mejor modelo para ver las métricas\n",
    "mejor_modelo = random_search.best_estimator_\n",
    "\n",
    "myfunc.verbose(\"Fin entrenamiento\")"
   ]
  },
  {
   "cell_type": "markdown",
   "id": "494b22b4",
   "metadata": {
    "papermill": {
     "duration": 0.004355,
     "end_time": "2023-10-30T07:40:27.933185",
     "exception": false,
     "start_time": "2023-10-30T07:40:27.928830",
     "status": "completed"
    },
    "tags": []
   },
   "source": [
    "#### Guardar modelo"
   ]
  },
  {
   "cell_type": "code",
   "execution_count": 8,
   "id": "5742110f",
   "metadata": {
    "execution": {
     "iopub.execute_input": "2023-10-30T07:40:27.943388Z",
     "iopub.status.busy": "2023-10-30T07:40:27.942985Z",
     "iopub.status.idle": "2023-10-30T07:40:28.001218Z",
     "shell.execute_reply": "2023-10-30T07:40:28.000629Z"
    },
    "papermill": {
     "duration": 0.065201,
     "end_time": "2023-10-30T07:40:28.002636",
     "exception": false,
     "start_time": "2023-10-30T07:40:27.937435",
     "status": "completed"
    },
    "tags": []
   },
   "outputs": [
    {
     "name": "stdout",
     "output_type": "stream",
     "text": [
      "20231030T084027 : enderlab : INFO : Inicio guardar fichero ../tfm_git/ejecuciones/modelos/modelo_9322_mul_s_RF_LR_L1.pkl\n",
      "20231030T084027 : enderlab : INFO : Fin guardar fichero ../tfm_git/ejecuciones/modelos/modelo_9322_mul_s_RF_LR_L1.pkl\n"
     ]
    }
   ],
   "source": [
    "fichero_modelo = str.replace(\"modelo_\"+str(SEMILLA).zfill(4)+\"_\"+M_TIPO+\"_\"+M_SELECT+\"_\"+M_CLASIF+\".pkl\", \" \", \"_\")\n",
    "\n",
    "myfunc.save_modelo(mejor_modelo, myfunc.MODEL_DIR, fichero_modelo)"
   ]
  },
  {
   "cell_type": "markdown",
   "id": "7bb11fd5",
   "metadata": {
    "papermill": {
     "duration": 0.004272,
     "end_time": "2023-10-30T07:40:28.011219",
     "exception": false,
     "start_time": "2023-10-30T07:40:28.006947",
     "status": "completed"
    },
    "tags": []
   },
   "source": [
    "#### Ver resultados del las iteraciones hechas por RandomSearchCV"
   ]
  },
  {
   "cell_type": "code",
   "execution_count": 9,
   "id": "0596709c",
   "metadata": {
    "execution": {
     "iopub.execute_input": "2023-10-30T07:40:28.020948Z",
     "iopub.status.busy": "2023-10-30T07:40:28.020401Z",
     "iopub.status.idle": "2023-10-30T07:40:28.031885Z",
     "shell.execute_reply": "2023-10-30T07:40:28.031331Z"
    },
    "papermill": {
     "duration": 0.017679,
     "end_time": "2023-10-30T07:40:28.033084",
     "exception": false,
     "start_time": "2023-10-30T07:40:28.015405",
     "status": "completed"
    },
    "tags": []
   },
   "outputs": [
    {
     "name": "stdout",
     "output_type": "stream",
     "text": [
      "20231030T084028 : enderlab : INFO : Inicio ver resultados\n",
      "Mejores Hiperparámetros: {'selector__max_features': 500, 'selector__estimator__n_estimators': 100, 'clasifier__solver': 'saga', 'clasifier__penalty': 'l1', 'clasifier__max_iter': 10000}\n",
      "Mejores puntuaciones: 0.7686 | Params: {'selector__max_features': 500, 'selector__estimator__n_estimators': 100, 'clasifier__solver': 'saga', 'clasifier__penalty': 'l1', 'clasifier__max_iter': 10000}\n",
      "Media de las puntuaciones: 0.7686 | Params: {'selector__max_features': 500, 'selector__estimator__n_estimators': 100, 'clasifier__solver': 'saga', 'clasifier__penalty': 'l1', 'clasifier__max_iter': 10000}\n",
      "20231030T084028 : enderlab : INFO : Fin resultados\n"
     ]
    }
   ],
   "source": [
    "myfunc.ver_resultados_search(random_search)"
   ]
  },
  {
   "cell_type": "markdown",
   "id": "c0359807",
   "metadata": {
    "papermill": {
     "duration": 0.004384,
     "end_time": "2023-10-30T07:40:28.041912",
     "exception": false,
     "start_time": "2023-10-30T07:40:28.037528",
     "status": "completed"
    },
    "tags": []
   },
   "source": [
    "#### Ver métricas del mejor modelo"
   ]
  },
  {
   "cell_type": "code",
   "execution_count": 10,
   "id": "186cf7e9",
   "metadata": {
    "execution": {
     "iopub.execute_input": "2023-10-30T07:40:28.052852Z",
     "iopub.status.busy": "2023-10-30T07:40:28.052458Z",
     "iopub.status.idle": "2023-10-30T07:40:28.860731Z",
     "shell.execute_reply": "2023-10-30T07:40:28.860126Z"
    },
    "papermill": {
     "duration": 0.815908,
     "end_time": "2023-10-30T07:40:28.862075",
     "exception": false,
     "start_time": "2023-10-30T07:40:28.046167",
     "status": "completed"
    },
    "tags": []
   },
   "outputs": [
    {
     "name": "stdout",
     "output_type": "stream",
     "text": [
      "20231030T084028 : enderlab : INFO : Inicio ver métricas multiclase\n"
     ]
    },
    {
     "name": "stdout",
     "output_type": "stream",
     "text": [
      "              precision    recall  f1-score   support\n",
      "\n",
      "           0       0.29      0.18      0.22        11\n",
      "           1       1.00      0.38      0.55         8\n",
      "           2       0.38      0.38      0.38         8\n",
      "           3       0.00      0.00      0.00         5\n",
      "           4       0.80      1.00      0.89         8\n",
      "           5       0.43      0.50      0.46         6\n",
      "           6       0.40      0.67      0.50         6\n",
      "\n",
      "    accuracy                           0.44        52\n",
      "   macro avg       0.47      0.44      0.43        52\n",
      "weighted avg       0.49      0.44      0.44        52\n",
      "\n",
      "\n",
      "\n",
      "           Exactitud: 0.442308\n",
      "   Precisión (media): 0.469898\n",
      "      Recall (media): 0.442641\n",
      "    F1-score (media): 0.427586\n",
      "\n",
      "\n",
      "AUC para el tipo de cáncer 0-Control.... 0.5743\n",
      "AUC para el tipo de cáncer 1-Bladder.... 0.6932\n",
      "AUC para el tipo de cáncer 2-Breast..... 0.7159\n",
      "AUC para el tipo de cáncer 3-Colorectal. 0.5277\n",
      "AUC para el tipo de cáncer 4-Kidney..... 0.9716\n",
      "AUC para el tipo de cáncer 5-Lung....... 0.8804\n",
      "AUC para el tipo de cáncer 6-Prostate... 0.8949\n",
      "\n",
      "Media de AUC: 0.7511\n"
     ]
    },
    {
     "data": {
      "image/png": "[encoded data removed]",
      "text/plain": [
       "<Figure size 1000x600 with 1 Axes>"
      ]
     },
     "metadata": {},
     "output_type": "display_data"
    },
    {
     "name": "stdout",
     "output_type": "stream",
     "text": [
      "\n",
      "\n"
     ]
    },
    {
     "data": {
      "image/png": "[encoded data removed]",
      "text/plain": [
       "<Figure size 800x400 with 2 Axes>"
      ]
     },
     "metadata": {},
     "output_type": "display_data"
    },
    {
     "name": "stdout",
     "output_type": "stream",
     "text": [
      "\n",
      "\n",
      "Puntuación Jaccard para el cáncer tipo 0-Control.... 0.1250\n",
      "Puntuación Jaccard para el cáncer tipo 1-Bladder.... 0.3750\n",
      "Puntuación Jaccard para el cáncer tipo 2-Breast..... 0.2308\n",
      "Puntuación Jaccard para el cáncer tipo 3-Colorectal. 0.0000\n",
      "Puntuación Jaccard para el cáncer tipo 4-Kidney..... 0.8000\n",
      "Puntuación Jaccard para el cáncer tipo 5-Lung....... 0.3000\n",
      "Puntuación Jaccard para el cáncer tipo 6-Prostate... 0.3333\n",
      "\n",
      "Media de la puntuación de Jaccard: 0.3092\n"
     ]
    }
   ],
   "source": [
    "if M_TIPO.startswith(\"bin\"):\n",
    "    myfunc.ver_metricas(mejor_modelo, X_test, y_test)\n",
    "else:\n",
    "    myfunc.ver_metricas_multi(mejor_modelo, X_test, y_test)\n"
   ]
  },
  {
   "cell_type": "markdown",
   "id": "6bf7d5ba",
   "metadata": {
    "papermill": {
     "duration": 0.006142,
     "end_time": "2023-10-30T07:40:28.874607",
     "exception": false,
     "start_time": "2023-10-30T07:40:28.868465",
     "status": "completed"
    },
    "tags": []
   },
   "source": [
    "#### Finalización del notebook"
   ]
  },
  {
   "cell_type": "code",
   "execution_count": 11,
   "id": "14051f9e",
   "metadata": {
    "execution": {
     "iopub.execute_input": "2023-10-30T07:40:28.887649Z",
     "iopub.status.busy": "2023-10-30T07:40:28.887235Z",
     "iopub.status.idle": "2023-10-30T07:40:28.891152Z",
     "shell.execute_reply": "2023-10-30T07:40:28.890594Z"
    },
    "papermill": {
     "duration": 0.011766,
     "end_time": "2023-10-30T07:40:28.892379",
     "exception": false,
     "start_time": "2023-10-30T07:40:28.880613",
     "status": "completed"
    },
    "tags": []
   },
   "outputs": [
    {
     "name": "stdout",
     "output_type": "stream",
     "text": [
      "20231030T084028 : enderlab : INFO : Notebook ha tardado 419 seconds\n"
     ]
    }
   ],
   "source": [
    "end_time = datetime.datetime.now()\n",
    "total_time = end_time - start_time\n",
    "myfunc.verbose(f\"Notebook ha tardado {total_time.seconds} seconds\")"
   ]
  },
  {
   "cell_type": "markdown",
   "id": "766472bc",
   "metadata": {
    "papermill": {
     "duration": 0.005914,
     "end_time": "2023-10-30T07:40:28.904093",
     "exception": false,
     "start_time": "2023-10-30T07:40:28.898179",
     "status": "completed"
    },
    "tags": []
   },
   "source": [
    "#### Guardar métricas"
   ]
  },
  {
   "cell_type": "code",
   "execution_count": 12,
   "id": "9a9113b6",
   "metadata": {
    "execution": {
     "iopub.execute_input": "2023-10-30T07:40:28.917142Z",
     "iopub.status.busy": "2023-10-30T07:40:28.916729Z",
     "iopub.status.idle": "2023-10-30T07:40:29.278507Z",
     "shell.execute_reply": "2023-10-30T07:40:29.277931Z"
    },
    "papermill": {
     "duration": 0.369798,
     "end_time": "2023-10-30T07:40:29.279822",
     "exception": false,
     "start_time": "2023-10-30T07:40:28.910024",
     "status": "completed"
    },
    "tags": []
   },
   "outputs": [
    {
     "name": "stdout",
     "output_type": "stream",
     "text": [
      "20231030T084028 : enderlab : INFO : Inicio guardar métricas multiclase\n",
      "20231030T084028 : enderlab : INFO : Inicio leer fichero ../tfm_git/ejecuciones/metricas/metricas_9322.csv\n",
      "20231030T084028 : enderlab : INFO : Fin leer fichero ../tfm_git/ejecuciones/metricas/metricas_9322.csv\n"
     ]
    },
    {
     "name": "stdout",
     "output_type": "stream",
     "text": [
      "20231030T084029 : enderlab : INFO : Inicio guardar fichero ../tfm_git/ejecuciones/metricas/metricas_9322.csv\n",
      "20231030T084029 : enderlab : INFO : Fichero borrado ../tfm_git/ejecuciones/metricas/metricas_9322.csv\n",
      "20231030T084029 : enderlab : INFO : Fin guardar fichero ../tfm_git/ejecuciones/metricas/metricas_9322.csv\n",
      "20231030T084029 : enderlab : INFO : Fin guardar métricas multiclase\n",
      "20231030T084029 : enderlab : INFO : Inicio leer fichero ../tfm_git/ejecuciones/metricas/metricas_9322.csv\n",
      "20231030T084029 : enderlab : INFO : Fin leer fichero ../tfm_git/ejecuciones/metricas/metricas_9322.csv\n"
     ]
    },
    {
     "data": {
      "text/html": [
       "<div>\n",
       "<style scoped>\n",
       "    .dataframe tbody tr th:only-of-type {\n",
       "        vertical-align: middle;\n",
       "    }\n",
       "\n",
       "    .dataframe tbody tr th {\n",
       "        vertical-align: top;\n",
       "    }\n",
       "\n",
       "    .dataframe thead th {\n",
       "        text-align: right;\n",
       "    }\n",
       "</style>\n",
       "<table border=\"1\" class=\"dataframe\">\n",
       "  <thead>\n",
       "    <tr style=\"text-align: right;\">\n",
       "      <th></th>\n",
       "      <th>tipo</th>\n",
       "      <th>select</th>\n",
       "      <th>clasific</th>\n",
       "      <th>semilla</th>\n",
       "      <th>accuracy</th>\n",
       "      <th>precision</th>\n",
       "      <th>recall</th>\n",
       "      <th>f1_score</th>\n",
       "      <th>roc_auc</th>\n",
       "      <th>hostname</th>\n",
       "      <th>total_time_sec</th>\n",
       "      <th>datetime</th>\n",
       "      <th>fichero_modelo</th>\n",
       "      <th>params</th>\n",
       "      <th>shape</th>\n",
       "      <th>features</th>\n",
       "      <th>roc_auc_ovr</th>\n",
       "      <th>indices_auc</th>\n",
       "      <th>indices_jaccard</th>\n",
       "    </tr>\n",
       "  </thead>\n",
       "  <tbody>\n",
       "    <tr>\n",
       "      <th>0</th>\n",
       "      <td>mul_s</td>\n",
       "      <td>RF</td>\n",
       "      <td>LR_L1</td>\n",
       "      <td>9322</td>\n",
       "      <td>0.442308</td>\n",
       "      <td>0.469898</td>\n",
       "      <td>0.442641</td>\n",
       "      <td>0.427586</td>\n",
       "      <td>NaN</td>\n",
       "      <td>enderlab</td>\n",
       "      <td>419</td>\n",
       "      <td>2023-10-30 08:40:29.221464</td>\n",
       "      <td>modelo_9322_mul_s_RF_LR_L1.pkl</td>\n",
       "      <td>{'selector__max_features': 500, 'selector__est...</td>\n",
       "      <td>X_test:(52, 18875)</td>\n",
       "      <td>['ENSG00000006016.12', 'ENSG00000006071.16', '...</td>\n",
       "      <td>0.751140</td>\n",
       "      <td>[0.5742793791574279, 0.6931818181818181, 0.715...</td>\n",
       "      <td>[0.125, 0.375, 0.23076923076923078, 0.0, 0.8, ...</td>\n",
       "    </tr>\n",
       "    <tr>\n",
       "      <th>0</th>\n",
       "      <td>mul_s</td>\n",
       "      <td>RF</td>\n",
       "      <td>LR_EN</td>\n",
       "      <td>9322</td>\n",
       "      <td>0.346154</td>\n",
       "      <td>0.404174</td>\n",
       "      <td>0.346320</td>\n",
       "      <td>0.350898</td>\n",
       "      <td>NaN</td>\n",
       "      <td>enderlab</td>\n",
       "      <td>358</td>\n",
       "      <td>2023-10-30 08:33:22.200250</td>\n",
       "      <td>modelo_9322_mul_s_RF_LR_EN.pkl</td>\n",
       "      <td>{'selector__max_features': 500, 'selector__est...</td>\n",
       "      <td>X_test:(52, 18875)</td>\n",
       "      <td>['ENSG00000002933.9', 'ENSG00000006740.18', 'E...</td>\n",
       "      <td>0.774965</td>\n",
       "      <td>[0.5565410199556541, 0.8579545454545455, 0.761...</td>\n",
       "      <td>[0.058823529411764705, 0.5, 0.0909090909090909...</td>\n",
       "    </tr>\n",
       "    <tr>\n",
       "      <th>0</th>\n",
       "      <td>mul_s</td>\n",
       "      <td>MI</td>\n",
       "      <td>SVM</td>\n",
       "      <td>9322</td>\n",
       "      <td>0.461538</td>\n",
       "      <td>0.453216</td>\n",
       "      <td>0.471104</td>\n",
       "      <td>0.446980</td>\n",
       "      <td>NaN</td>\n",
       "      <td>enderlab</td>\n",
       "      <td>205</td>\n",
       "      <td>2023-10-30 08:27:16.563440</td>\n",
       "      <td>modelo_9322_mul_s_MI_SVM.pkl</td>\n",
       "      <td>{'selector__k': 1000, 'clasifier__kernel': 'rb...</td>\n",
       "      <td>X_test:(52, 18875)</td>\n",
       "      <td>['ENSG00000003137.9', 'ENSG00000005513.10', 'E...</td>\n",
       "      <td>0.791502</td>\n",
       "      <td>[0.541019955654102, 0.8664772727272727, 0.6875...</td>\n",
       "      <td>[0.2, 0.4, 0.08333333333333333, 0.181818181818...</td>\n",
       "    </tr>\n",
       "  </tbody>\n",
       "</table>\n",
       "</div>"
      ],
      "text/plain": [
       "    tipo select clasific  semilla  accuracy  precision    recall  f1_score  \\\n",
       "0  mul_s     RF    LR_L1     9322  0.442308   0.469898  0.442641  0.427586   \n",
       "0  mul_s     RF    LR_EN     9322  0.346154   0.404174  0.346320  0.350898   \n",
       "0  mul_s     MI      SVM     9322  0.461538   0.453216  0.471104  0.446980   \n",
       "\n",
       "   roc_auc  hostname  total_time_sec                    datetime  \\\n",
       "0      NaN  enderlab             419  2023-10-30 08:40:29.221464   \n",
       "0      NaN  enderlab             358  2023-10-30 08:33:22.200250   \n",
       "0      NaN  enderlab             205  2023-10-30 08:27:16.563440   \n",
       "\n",
       "                   fichero_modelo  \\\n",
       "0  modelo_9322_mul_s_RF_LR_L1.pkl   \n",
       "0  modelo_9322_mul_s_RF_LR_EN.pkl   \n",
       "0    modelo_9322_mul_s_MI_SVM.pkl   \n",
       "\n",
       "                                              params               shape  \\\n",
       "0  {'selector__max_features': 500, 'selector__est...  X_test:(52, 18875)   \n",
       "0  {'selector__max_features': 500, 'selector__est...  X_test:(52, 18875)   \n",
       "0  {'selector__k': 1000, 'clasifier__kernel': 'rb...  X_test:(52, 18875)   \n",
       "\n",
       "                                            features  roc_auc_ovr  \\\n",
       "0  ['ENSG00000006016.12', 'ENSG00000006071.16', '...     0.751140   \n",
       "0  ['ENSG00000002933.9', 'ENSG00000006740.18', 'E...     0.774965   \n",
       "0  ['ENSG00000003137.9', 'ENSG00000005513.10', 'E...     0.791502   \n",
       "\n",
       "                                         indices_auc  \\\n",
       "0  [0.5742793791574279, 0.6931818181818181, 0.715...   \n",
       "0  [0.5565410199556541, 0.8579545454545455, 0.761...   \n",
       "0  [0.541019955654102, 0.8664772727272727, 0.6875...   \n",
       "\n",
       "                                     indices_jaccard  \n",
       "0  [0.125, 0.375, 0.23076923076923078, 0.0, 0.8, ...  \n",
       "0  [0.058823529411764705, 0.5, 0.0909090909090909...  \n",
       "0  [0.2, 0.4, 0.08333333333333333, 0.181818181818...  "
      ]
     },
     "metadata": {},
     "output_type": "display_data"
    }
   ],
   "source": [
    "if M_TIPO.startswith(\"bin\"):\n",
    "    myfunc.save_metricas_to_csv(random_search, X_test, y_test, M_TIPO, M_SELECT, M_CLASIF, total_time, SEMILLA, myfunc.MET_DIR, M_FICHERO, fichero_modelo)\n",
    "else:\n",
    "    myfunc.save_metricas_multi_to_csv(random_search, X_test, y_test, M_TIPO, M_SELECT, M_CLASIF, total_time, SEMILLA, myfunc.MET_DIR, M_FICHERO, fichero_modelo)\n",
    "\n",
    "df1=myfunc.read_metricas_to_df(myfunc.MET_DIR,M_FICHERO)\n",
    "\n",
    "display(df1.sort_values(\"datetime\", ascending=False)[:3])\n"
   ]
  },
  {
   "cell_type": "markdown",
   "id": "018b3a15",
   "metadata": {
    "papermill": {
     "duration": 0.006459,
     "end_time": "2023-10-30T07:40:29.293293",
     "exception": false,
     "start_time": "2023-10-30T07:40:29.286834",
     "status": "completed"
    },
    "tags": []
   },
   "source": [
    "#### Guardar resultados"
   ]
  },
  {
   "cell_type": "code",
   "execution_count": 13,
   "id": "33e4935e",
   "metadata": {
    "execution": {
     "iopub.execute_input": "2023-10-30T07:40:29.307306Z",
     "iopub.status.busy": "2023-10-30T07:40:29.306652Z",
     "iopub.status.idle": "2023-10-30T07:40:29.317012Z",
     "shell.execute_reply": "2023-10-30T07:40:29.316442Z"
    },
    "papermill": {
     "duration": 0.018755,
     "end_time": "2023-10-30T07:40:29.318287",
     "exception": false,
     "start_time": "2023-10-30T07:40:29.299532",
     "status": "completed"
    },
    "tags": []
   },
   "outputs": [
    {
     "name": "stdout",
     "output_type": "stream",
     "text": [
      "20231030T084029 : enderlab : INFO : Inicio guardar resultados\n",
      "20231030T084029 : enderlab : INFO : Inicio guardar fichero ../tfm_git/ejecuciones/metricas/resultados_9322_mul_s-RF-LR_L1.csv\n",
      "20231030T084029 : enderlab : INFO : Fin guardar fichero ../tfm_git/ejecuciones/metricas/resultados_9322_mul_s-RF-LR_L1.csv\n",
      "20231030T084029 : enderlab : INFO : Fin guardar resultados\n"
     ]
    }
   ],
   "source": [
    "fichero_resultados=R_FICHERO+\"_\"+M_TIPO+\"-\"+M_SELECT+\"-\"+M_CLASIF+\".csv\"\n",
    "myfunc.save_resultados_to_csv(M_TIPO, M_SELECT, M_CLASIF,  random_search, myfunc.MET_DIR, fichero_resultados)\n"
   ]
  }
 ],
 "metadata": {
  "kernelspec": {
   "display_name": "Python 3 (ipykernel)",
   "language": "python",
   "name": "python3"
  },
  "language_info": {
   "codemirror_mode": {
    "name": "ipython",
    "version": 3
   },
   "file_extension": ".py",
   "mimetype": "text/x-python",
   "name": "python",
   "nbconvert_exporter": "python",
   "pygments_lexer": "ipython3",
   "version": "3.10.11"
  },
  "papermill": {
   "default_parameters": {},
   "duration": 425.370943,
   "end_time": "2023-10-30T07:40:31.943478",
   "environment_variables": {},
   "exception": null,
   "input_path": "03_entrenamiento.ipynb",
   "output_path": "ejecuciones/training/03_entrenamiento.20231030T083326.param_0000_9322_mul_s_RF_LR_L1.output.ipynb",
   "parameters": {
    "MAX_ITERS": 500,
    "M_CLASIF": "LR_L1",
    "M_FICHERO": "metricas_9322",
    "M_SELECT": "RF",
    "M_TIPO": "mul_s",
    "PRE_DATA_FILE": "rows_transpose_norm_by_gene_id_with_target_num_",
    "P_FICHERO": "param_0000_9322_mul_s_RF_LR_L1.yaml",
    "R_FICHERO": "resultados_9322",
    "SCORING": "roc_auc_ovr",
    "SEMILLA": 9322,
    "eval_clasifier": "LogisticRegressionCV(random_state=SEMILLA)",
    "eval_selector": "SelectFromModel(estimator=RandomForestClassifier(random_state=SEMILLA), threshold=-np.inf)",
    "param_distributions": {
     "clasifier__max_iter": [
      10000
     ],
     "clasifier__penalty": [
      "l1"
     ],
     "clasifier__solver": [
      "saga"
     ],
     "selector__estimator__n_estimators": [
      100
     ],
     "selector__max_features": [
      500
     ]
    }
   },
   "start_time": "2023-10-30T07:33:26.572535",
   "version": "2.4.0"
  }
 },
 "nbformat": 4,
 "nbformat_minor": 5
}