{
 "cells": [
  {
   "cell_type": "markdown",
   "id": "2856506d",
   "metadata": {
    "papermill": {
     "duration": 0.004235,
     "end_time": "2023-10-30T05:52:16.815516",
     "exception": false,
     "start_time": "2023-10-30T05:52:16.811281",
     "status": "completed"
    },
    "tags": []
   },
   "source": [
    "##### Inicio"
   ]
  },
  {
   "cell_type": "markdown",
   "id": "46dd8907",
   "metadata": {
    "papermill": {
     "duration": 0.003412,
     "end_time": "2023-10-30T05:52:16.822617",
     "exception": false,
     "start_time": "2023-10-30T05:52:16.819205",
     "status": "completed"
    },
    "tags": []
   },
   "source": [
    "#### Carga de datos"
   ]
  },
  {
   "cell_type": "code",
   "execution_count": 1,
   "id": "d145617d",
   "metadata": {
    "execution": {
     "iopub.execute_input": "2023-10-30T05:52:16.830748Z",
     "iopub.status.busy": "2023-10-30T05:52:16.830503Z",
     "iopub.status.idle": "2023-10-30T05:52:17.705730Z",
     "shell.execute_reply": "2023-10-30T05:52:17.705224Z"
    },
    "papermill": {
     "duration": 0.880903,
     "end_time": "2023-10-30T05:52:17.707011",
     "exception": false,
     "start_time": "2023-10-30T05:52:16.826108",
     "status": "completed"
    },
    "tags": []
   },
   "outputs": [
    {
     "name": "stdout",
     "output_type": "stream",
     "text": [
      "CPU_COUNT: 8; NODE: amilcar22; sys.version: 3.10.12 (main, Jul  5 2023, 19:22:19) [GCC 11.2.0]\n",
      "LOKY_MAX_CPU_COUNT: 6\n",
      "OMP_NUM_THREADS: 2\n"
     ]
    }
   ],
   "source": [
    "import os\n",
    "import numpy as np\n",
    "import pandas as pd\n",
    "import datetime\n",
    "import sklearn\n",
    "import logging\n",
    "import warnings\n",
    "\n",
    "from sklearn.pipeline import Pipeline\n",
    "from sklearn.model_selection import RandomizedSearchCV, KFold, cross_val_score, train_test_split\n",
    "from sklearn.metrics import accuracy_score, confusion_matrix, classification_report, roc_auc_score\n",
    "\n",
    "#  cargar algoritmos para aprendizaje supervisado\n",
    "from sklearn.feature_selection import SelectKBest, f_classif, SelectFromModel, mutual_info_classif\n",
    "from sklearn.svm import SVC\n",
    "from sklearn.ensemble import RandomForestClassifier\n",
    "from sklearn.linear_model import LogisticRegression,LogisticRegressionCV\n",
    "\n",
    "# importar fichero con utilidades propias\n",
    "from commons import myfunctions as myfunc\n"
   ]
  },
  {
   "cell_type": "markdown",
   "id": "96b78e3c",
   "metadata": {
    "papermill": {
     "duration": 0.002588,
     "end_time": "2023-10-30T05:52:17.712635",
     "exception": false,
     "start_time": "2023-10-30T05:52:17.710047",
     "status": "completed"
    },
    "tags": []
   },
   "source": [
    "#### Parámetros a utilizar en el entrenamiento.\n",
    "\n",
    "Se indican los 3 algoritmos de *selección de características* (eval_selector_xxx) y los 3 algoritmos para la _clasificación_ (eval_clasifier_xxx)\n",
    "\n",
    "En *param_distributions* se indicar los parámetros que utilizan los algoritmos en la función RandomSearchCV.\n",
    "\n",
    "Esta celda tiene la etiqueta **parameters** que servirá para poder lanzar los entrenamientos con la utilidad **papermill** pasándole un fichero con los parámetros. Los nuevos parámetros se situarán tras esta celda para tener prevalencia."
   ]
  },
  {
   "cell_type": "code",
   "execution_count": 2,
   "id": "c59f2a84",
   "metadata": {
    "execution": {
     "iopub.execute_input": "2023-10-30T05:52:17.718699Z",
     "iopub.status.busy": "2023-10-30T05:52:17.718428Z",
     "iopub.status.idle": "2023-10-30T05:52:17.725322Z",
     "shell.execute_reply": "2023-10-30T05:52:17.724903Z"
    },
    "papermill": {
     "duration": 0.011341,
     "end_time": "2023-10-30T05:52:17.726472",
     "exception": false,
     "start_time": "2023-10-30T05:52:17.715131",
     "status": "completed"
    },
    "tags": [
     "parameters"
    ]
   },
   "outputs": [
    {
     "name": "stdout",
     "output_type": "stream",
     "text": [
      "20231030T065217 : amilcar22 : INFO : Utilizando parámetros de mul_m\n"
     ]
    }
   ],
   "source": [
    "#  Parametros para el entrenamiento\n",
    "\n",
    "SEMILLA=        42\n",
    "M_TIPO=         \"mul_m\"\n",
    "M_SELECT=       \"MI\"\n",
    "M_CLASIF=       \"SVM\"\n",
    "R_FICHERO=      \"resultados\"\n",
    "M_FICHERO=      \"metricas\"\n",
    "PRE_DATA_FILE=  \"rows_transpose_norm_by_gene_id_with_target_num_\"\n",
    "SCORING=        \"roc_auc_ovr\" \n",
    "MAX_ITERS=      100\n",
    "\n",
    "def mutual_info_classif_state(X, y):\n",
    "    return mutual_info_classif(X, y, random_state=SEMILLA)\n",
    "\n",
    "eval_selector_mi = \"SelectKBest(score_func=mutual_info_classif_state)\"\n",
    "eval_selector_rf=  \"SelectFromModel(estimator=RandomForestClassifier(random_state=SEMILLA), threshold=-np.inf)\"\n",
    "eval_selector_anova=  \"SelectKBest(score_func=f_classif)\"\n",
    "\n",
    "eval_clasifier_svm= \"SVC(probability=True, random_state=SEMILLA)\"\n",
    "eval_clasifier_rf= \"RandomForestClassifier(random_state=SEMILLA)\"\n",
    "eval_clasifier_lr= \"LogisticRegressionCV(random_state=SEMILLA)\"\n",
    "\n",
    "if M_TIPO.startswith(\"bin_m\"):\n",
    "    myfunc.verbose(f\"Utilizando parámetros de {M_TIPO}\")\n",
    "    eval_selector = eval_selector_mi\n",
    "    eval_clasifier = eval_clasifier_svm\n",
    "\n",
    "    SEMILLA = 6578\n",
    "    M_SELECT = \"MI\"\n",
    "    M_CLASIF = \"SVM\"\n",
    "    param_distributions = {'selector__k': [1000], \n",
    "         'clasifier__kernel': ['rbf'], 'clasifier__gamma': [0.01], 'clasifier__C': [100]}\n",
    "elif M_TIPO.startswith(\"bin_s\"):\n",
    "    myfunc.verbose(f\"Utilizando parámetros de {M_TIPO}\")\n",
    "    eval_selector = eval_selector_rf\n",
    "    eval_clasifier = eval_clasifier_lr\n",
    "\n",
    "    SEMILLA = 6191\n",
    "    M_SELECT = \"RF\"\n",
    "    M_CLASIF = \"LR_L2\"\n",
    "    param_distributions = {'selector__max_features': [1000], 'selector__estimator__n_estimators': [200], \n",
    "        'clasifier__solver': ['lbfgs'], 'clasifier__penalty': ['l2'], 'clasifier__max_iter': [10000]}\n",
    "\n",
    "elif M_TIPO.startswith(\"mul_m\"):\n",
    "    myfunc.verbose(f\"Utilizando parámetros de {M_TIPO}\")\n",
    " \n",
    "    eval_selector = eval_selector_rf\n",
    "    eval_clasifier = eval_clasifier_lr\n",
    "\n",
    "    SEMILLA = 6191\n",
    "    M_SELECT = \"RF\"\n",
    "    M_CLASIF = \"LR_L2\"\n",
    "    param_distributions = {'selector__max_features': [1000], 'selector__estimator__n_estimators': [400], \n",
    "        'clasifier__solver': ['lbfgs'], 'clasifier__penalty': ['l2'], 'clasifier__max_iter': [10000]}\n",
    "\n",
    "else:\n",
    "    # M_TIPO.startswith(\"mul_s\"):\n",
    "    myfunc.verbose(f\"Utilizando parámetros de {M_TIPO}\")\n",
    "    eval_selector = eval_selector_anova\n",
    "    eval_clasifier = eval_clasifier_lr\n",
    "\n",
    "    SEMILLA = 1860\n",
    "    M_SELECT = \"ANOVA\"\n",
    "    M_CLASIF = \"LR_L2\"\n",
    "    param_distributions = {'selector__k': [1000], \n",
    "        'clasifier__solver': ['saga'], 'clasifier__penalty': ['l2'], 'clasifier__max_iter': [10000]}\n",
    "\n"
   ]
  },
  {
   "cell_type": "code",
   "execution_count": 3,
   "id": "399de2d0",
   "metadata": {
    "execution": {
     "iopub.execute_input": "2023-10-30T05:52:17.732686Z",
     "iopub.status.busy": "2023-10-30T05:52:17.732497Z",
     "iopub.status.idle": "2023-10-30T05:52:17.736070Z",
     "shell.execute_reply": "2023-10-30T05:52:17.735551Z"
    },
    "papermill": {
     "duration": 0.008051,
     "end_time": "2023-10-30T05:52:17.737309",
     "exception": false,
     "start_time": "2023-10-30T05:52:17.729258",
     "status": "completed"
    },
    "tags": [
     "injected-parameters"
    ]
   },
   "outputs": [],
   "source": [
    "# Parameters\n",
    "M_TIPO = \"bin_s\"\n",
    "M_SELECT = \"MI\"\n",
    "M_CLASIF = \"RF\"\n",
    "P_FICHERO = \"param_0000_6191_bin_s_MI_RF.yaml\"\n",
    "R_FICHERO = \"resultados_6191\"\n",
    "M_FICHERO = \"metricas_6191\"\n",
    "PRE_DATA_FILE = \"rows_transpose_norm_by_gene_id_with_target_num_\"\n",
    "SCORING = \"roc_auc_ovr\"\n",
    "SEMILLA = 6191\n",
    "MAX_ITERS = 500\n",
    "eval_selector = \"SelectKBest(score_func=mutual_info_classif_state)\"\n",
    "eval_clasifier = \"RandomForestClassifier(random_state=SEMILLA)\"\n",
    "param_distributions = {\n",
    "    \"selector__k\": [200],\n",
    "    \"clasifier__n_estimators\": [200],\n",
    "    \"clasifier__min_samples_split\": [20],\n",
    "    \"clasifier__min_samples_leaf\": [5],\n",
    "    \"clasifier__max_features\": [1000],\n",
    "    \"clasifier__max_depth\": [20],\n",
    "    \"clasifier__bootstrap\": [True],\n",
    "}\n"
   ]
  },
  {
   "cell_type": "code",
   "execution_count": 4,
   "id": "0bbd7078",
   "metadata": {
    "execution": {
     "iopub.execute_input": "2023-10-30T05:52:17.743355Z",
     "iopub.status.busy": "2023-10-30T05:52:17.743171Z",
     "iopub.status.idle": "2023-10-30T05:52:17.746033Z",
     "shell.execute_reply": "2023-10-30T05:52:17.745631Z"
    },
    "papermill": {
     "duration": 0.007376,
     "end_time": "2023-10-30T05:52:17.747301",
     "exception": false,
     "start_time": "2023-10-30T05:52:17.739925",
     "status": "completed"
    },
    "tags": []
   },
   "outputs": [],
   "source": [
    "DATA_FILE = PRE_DATA_FILE + M_TIPO\n",
    "\n",
    "# si viene \"None\" en el parámetro max_depth, se le quitan las comillas para que no sea entendido por el algoritmo como un texto\n",
    "if \"clasifier__max_depth\" in param_distributions:\n",
    "    param_distributions['clasifier__max_depth'] = [None if x == 'None' else x for x in param_distributions['clasifier__max_depth']]"
   ]
  },
  {
   "cell_type": "markdown",
   "id": "e31066a4",
   "metadata": {
    "papermill": {
     "duration": 0.002534,
     "end_time": "2023-10-30T05:52:17.752531",
     "exception": false,
     "start_time": "2023-10-30T05:52:17.749997",
     "status": "completed"
    },
    "tags": []
   },
   "source": [
    "Asignar los algoritmos que se utilizarán en la función RandomSearchCV"
   ]
  },
  {
   "cell_type": "code",
   "execution_count": 5,
   "id": "29ae7c64",
   "metadata": {
    "execution": {
     "iopub.execute_input": "2023-10-30T05:52:17.758502Z",
     "iopub.status.busy": "2023-10-30T05:52:17.758318Z",
     "iopub.status.idle": "2023-10-30T05:52:17.760883Z",
     "shell.execute_reply": "2023-10-30T05:52:17.760459Z"
    },
    "papermill": {
     "duration": 0.006892,
     "end_time": "2023-10-30T05:52:17.762050",
     "exception": false,
     "start_time": "2023-10-30T05:52:17.755158",
     "status": "completed"
    },
    "tags": []
   },
   "outputs": [],
   "source": [
    "algor_selector=eval(eval_selector)\n",
    "algor_clasifier=eval(eval_clasifier)"
   ]
  },
  {
   "cell_type": "markdown",
   "id": "7ea9d203",
   "metadata": {
    "papermill": {
     "duration": 0.002548,
     "end_time": "2023-10-30T05:52:17.767250",
     "exception": false,
     "start_time": "2023-10-30T05:52:17.764702",
     "status": "completed"
    },
    "tags": []
   },
   "source": [
    "#### Comprobar el entorno y leer fichero de muestras"
   ]
  },
  {
   "cell_type": "code",
   "execution_count": 6,
   "id": "cf0119df",
   "metadata": {
    "execution": {
     "iopub.execute_input": "2023-10-30T05:52:17.773193Z",
     "iopub.status.busy": "2023-10-30T05:52:17.773011Z",
     "iopub.status.idle": "2023-10-30T05:52:17.936436Z",
     "shell.execute_reply": "2023-10-30T05:52:17.935927Z"
    },
    "papermill": {
     "duration": 0.167894,
     "end_time": "2023-10-30T05:52:17.937698",
     "exception": false,
     "start_time": "2023-10-30T05:52:17.769804",
     "status": "completed"
    },
    "tags": []
   },
   "outputs": [
    {
     "name": "stdout",
     "output_type": "stream",
     "text": [
      "20231030T065217 : amilcar22 : INFO : Encontrada carpeta DATA_DIR=../tfm_git/datos\n",
      "20231030T065217 : amilcar22 : INFO : Encontrada carpeta CFDNA_DIR=../tfm_git/datos/cfDNA_5hmC\n",
      "20231030T065217 : amilcar22 : INFO : Encontrada carpeta GENCODE_DIR=../tfm_git/datos/gencode\n",
      "20231030T065217 : amilcar22 : INFO : Encontrada carpeta H5_DIR=../tfm_git/datos/h5\n",
      "20231030T065217 : amilcar22 : INFO : Encontrada carpeta LOG_DIR=../tfm_git/datos/logs\n",
      "20231030T065217 : amilcar22 : INFO : Encontrada carpeta CSV_DIR=../tfm_git/datos/csv\n",
      "20231030T065217 : amilcar22 : INFO : Encontrada carpeta MODEL_DIR=../tfm_git/ejecuciones/modelos\n",
      "20231030T065217 : amilcar22 : INFO : Encontrada carpeta EXEC_DIR=../tfm_git/ejecuciones\n",
      "20231030T065217 : amilcar22 : INFO : Encontrada carpeta MET_DIR=../tfm_git/ejecuciones/metricas\n",
      "20231030T065217 : amilcar22 : INFO : Inicio leer fichero h5 ../tfm_git/datos/h5/rows_transpose_norm_by_gene_id_with_target_num_bin_s.h5\n",
      "20231030T065217 : amilcar22 : INFO : Leyendo clave /df\n",
      "20231030T065217 : amilcar22 : INFO : Tamaño (443, 18876)\n",
      "20231030T065217 : amilcar22 : INFO : Fin leer fichero h5 ../tfm_git/datos/h5/rows_transpose_norm_by_gene_id_with_target_num_bin_s.h5\n"
     ]
    },
    {
     "data": {
      "text/plain": [
       "target\n",
       "0    221\n",
       "1    222\n",
       "dtype: int64"
      ]
     },
     "metadata": {},
     "output_type": "display_data"
    },
    {
     "name": "stdout",
     "output_type": "stream",
     "text": [
      "Shape df: (443, 18876)\n"
     ]
    },
    {
     "name": "stdout",
     "output_type": "stream",
     "text": [
      "Shape X_train: (354, 18875)\n",
      "Shape X_test: (89, 18875)\n"
     ]
    }
   ],
   "source": [
    "start_time = datetime.datetime.now()\n",
    "\n",
    "myfunc.reset_vars()\n",
    "\n",
    "myfunc.NOTEBK_FILENAME = myfunc.get_nb_name()\n",
    "\n",
    "myfunc.check_enviroment(myfunc.DATA_DIR, myfunc.CFDNA_DIR, myfunc.GENCODE_DIR, myfunc.H5_DIR, myfunc.LOG_DIR, myfunc.CSV_DIR, myfunc.MODEL_DIR, myfunc.EXEC_DIR, myfunc.MET_DIR)\n",
    "\n",
    "# Leer fichero con las muestras\n",
    "df_t = myfunc.read_h5_to_df(DATA_FILE, myfunc.H5_DIR)\n",
    "display(df_t.groupby(\"target\").size())\n",
    "print(\"Shape df:\",df_t.shape)\n",
    "\n",
    "# Separar caracteristicas/genes de las etiquetas/tipos de cáncer\n",
    "X = df_t.iloc[:, :-1]  # Todas las columnas excepto la última\n",
    "y = df_t.iloc[:, -1]  # La última columna contiene los identificadores de los tipos de cáncer\n",
    "\n",
    "#  Crear el conjunto de datos de entrenamiento y de pruebas, y se fija la semilla para siempre coger el mismo juego de muestras\n",
    "X_train, X_test, y_train, y_test = train_test_split(X, y, test_size=0.2, shuffle=True, random_state=42)\n",
    "print(\"Shape X_train:\",X_train.shape)\n",
    "print(\"Shape X_test:\",X_test.shape)\n"
   ]
  },
  {
   "cell_type": "markdown",
   "id": "45c282db",
   "metadata": {
    "papermill": {
     "duration": 0.002761,
     "end_time": "2023-10-30T05:52:17.943749",
     "exception": false,
     "start_time": "2023-10-30T05:52:17.940988",
     "status": "completed"
    },
    "tags": []
   },
   "source": [
    "#### Selección de características y clasificación."
   ]
  },
  {
   "cell_type": "code",
   "execution_count": 7,
   "id": "d98709b5",
   "metadata": {
    "execution": {
     "iopub.execute_input": "2023-10-30T05:52:17.950274Z",
     "iopub.status.busy": "2023-10-30T05:52:17.950073Z",
     "iopub.status.idle": "2023-10-30T05:53:48.625035Z",
     "shell.execute_reply": "2023-10-30T05:53:48.624360Z"
    },
    "papermill": {
     "duration": 90.682079,
     "end_time": "2023-10-30T05:53:48.628631",
     "exception": false,
     "start_time": "2023-10-30T05:52:17.946552",
     "status": "completed"
    },
    "tags": []
   },
   "outputs": [
    {
     "name": "stdout",
     "output_type": "stream",
     "text": [
      "20231030T065217 : amilcar22 : INFO : Iniciando entrenamiento\n",
      "num_iter: 1 , max_iter: 1\n",
      "Fitting 5 folds for each of 1 candidates, totalling 5 fits\n"
     ]
    },
    {
     "name": "stdout",
     "output_type": "stream",
     "text": [
      "Mejores Hiperparámetros: {'selector__k': 200, 'clasifier__n_estimators': 200, 'clasifier__min_samples_split': 20, 'clasifier__min_samples_leaf': 5, 'clasifier__max_features': 1000, 'clasifier__max_depth': 20, 'clasifier__bootstrap': True}\n",
      "Mejor Puntuación: 0.7341\n",
      "20231030T065348 : amilcar22 : INFO : Fin entrenamiento\n"
     ]
    }
   ],
   "source": [
    "myfunc.verbose(\"Iniciando entrenamiento\")\n",
    "\n",
    "kf = KFold(n_splits=5, shuffle=True, random_state=SEMILLA)\n",
    "\n",
    "# Crear el pipeline para el flujo de tareas\n",
    "tasks_pipeline = Pipeline([\n",
    "    ('selector', algor_selector),\n",
    "    ('clasifier', algor_clasifier)\n",
    "])\n",
    "\n",
    "# MAX_ITERS puede limitar el número de iteraciones si son excesivas para las combinaciones de parámetros buscando un óptimo local, \n",
    "# sino funcionaría como GridSearchCV al revisar todas las cominaciones de los parámetros\n",
    "num_iteraciones = 1\n",
    "num_iteraciones = num_iteraciones * np.prod([len(elemento1) for _, elemento1 in param_distributions.items()])\n",
    "max_iteraciones = num_iteraciones if num_iteraciones <= MAX_ITERS else MAX_ITERS\n",
    "print(\"num_iter:\",num_iteraciones,\", max_iter:\",max_iteraciones)\n",
    "\n",
    "random_search = RandomizedSearchCV(\n",
    "    tasks_pipeline, \n",
    "    param_distributions, \n",
    "    n_iter=max_iteraciones,\n",
    "    scoring=SCORING,\n",
    "    cv=kf,\n",
    "    verbose=3, \n",
    "    random_state=SEMILLA, \n",
    "    n_jobs=-1\n",
    "    )\n",
    "\n",
    "# Entrenar el modelo\n",
    "random_search.fit(X_train, y_train)\n",
    "\n",
    "# Ver los mejores hiperparámetros encontrados\n",
    "print(f'Mejores Hiperparámetros: {random_search.best_params_}')\n",
    "print(f'Mejor Puntuación: {random_search.best_score_:.4f}')\n",
    "\n",
    "# Nos quedamos con el mejor modelo para ver las métricas\n",
    "mejor_modelo = random_search.best_estimator_\n",
    "\n",
    "myfunc.verbose(\"Fin entrenamiento\")"
   ]
  },
  {
   "cell_type": "markdown",
   "id": "54dafb03",
   "metadata": {
    "papermill": {
     "duration": 0.00324,
     "end_time": "2023-10-30T05:53:48.635054",
     "exception": false,
     "start_time": "2023-10-30T05:53:48.631814",
     "status": "completed"
    },
    "tags": []
   },
   "source": [
    "#### Guardar modelo"
   ]
  },
  {
   "cell_type": "code",
   "execution_count": 8,
   "id": "0b9dd38e",
   "metadata": {
    "execution": {
     "iopub.execute_input": "2023-10-30T05:53:48.641787Z",
     "iopub.status.busy": "2023-10-30T05:53:48.641558Z",
     "iopub.status.idle": "2023-10-30T05:53:48.707371Z",
     "shell.execute_reply": "2023-10-30T05:53:48.706798Z"
    },
    "papermill": {
     "duration": 0.070821,
     "end_time": "2023-10-30T05:53:48.708747",
     "exception": false,
     "start_time": "2023-10-30T05:53:48.637926",
     "status": "completed"
    },
    "tags": []
   },
   "outputs": [
    {
     "name": "stdout",
     "output_type": "stream",
     "text": [
      "20231030T065348 : amilcar22 : INFO : Inicio guardar fichero ../tfm_git/ejecuciones/modelos/modelo_6191_bin_s_MI_RF.pkl\n",
      "20231030T065348 : amilcar22 : INFO : Fin guardar fichero ../tfm_git/ejecuciones/modelos/modelo_6191_bin_s_MI_RF.pkl\n"
     ]
    }
   ],
   "source": [
    "fichero_modelo = str.replace(\"modelo_\"+str(SEMILLA).zfill(4)+\"_\"+M_TIPO+\"_\"+M_SELECT+\"_\"+M_CLASIF+\".pkl\", \" \", \"_\")\n",
    "\n",
    "myfunc.save_modelo(mejor_modelo, myfunc.MODEL_DIR, fichero_modelo)"
   ]
  },
  {
   "cell_type": "markdown",
   "id": "a59dc372",
   "metadata": {
    "papermill": {
     "duration": 0.002991,
     "end_time": "2023-10-30T05:53:48.715118",
     "exception": false,
     "start_time": "2023-10-30T05:53:48.712127",
     "status": "completed"
    },
    "tags": []
   },
   "source": [
    "#### Ver resultados del las iteraciones hechas por RandomSearchCV"
   ]
  },
  {
   "cell_type": "code",
   "execution_count": 9,
   "id": "7730a9f6",
   "metadata": {
    "execution": {
     "iopub.execute_input": "2023-10-30T05:53:48.722031Z",
     "iopub.status.busy": "2023-10-30T05:53:48.721806Z",
     "iopub.status.idle": "2023-10-30T05:53:48.728040Z",
     "shell.execute_reply": "2023-10-30T05:53:48.727614Z"
    },
    "papermill": {
     "duration": 0.011038,
     "end_time": "2023-10-30T05:53:48.729211",
     "exception": false,
     "start_time": "2023-10-30T05:53:48.718173",
     "status": "completed"
    },
    "tags": []
   },
   "outputs": [
    {
     "name": "stdout",
     "output_type": "stream",
     "text": [
      "20231030T065348 : amilcar22 : INFO : Inicio ver resultados\n",
      "Mejores Hiperparámetros: {'selector__k': 200, 'clasifier__n_estimators': 200, 'clasifier__min_samples_split': 20, 'clasifier__min_samples_leaf': 5, 'clasifier__max_features': 1000, 'clasifier__max_depth': 20, 'clasifier__bootstrap': True}\n",
      "Mejores puntuaciones: 0.7341 | Params: {'selector__k': 200, 'clasifier__n_estimators': 200, 'clasifier__min_samples_split': 20, 'clasifier__min_samples_leaf': 5, 'clasifier__max_features': 1000, 'clasifier__max_depth': 20, 'clasifier__bootstrap': True}\n",
      "Media de las puntuaciones: 0.7341 | Params: {'selector__k': 200, 'clasifier__n_estimators': 200, 'clasifier__min_samples_split': 20, 'clasifier__min_samples_leaf': 5, 'clasifier__max_features': 1000, 'clasifier__max_depth': 20, 'clasifier__bootstrap': True}\n",
      "20231030T065348 : amilcar22 : INFO : Fin resultados\n"
     ]
    }
   ],
   "source": [
    "myfunc.ver_resultados_search(random_search)"
   ]
  },
  {
   "cell_type": "markdown",
   "id": "6afdbc94",
   "metadata": {
    "papermill": {
     "duration": 0.00299,
     "end_time": "2023-10-30T05:53:48.735531",
     "exception": false,
     "start_time": "2023-10-30T05:53:48.732541",
     "status": "completed"
    },
    "tags": []
   },
   "source": [
    "#### Ver métricas del mejor modelo"
   ]
  },
  {
   "cell_type": "code",
   "execution_count": 10,
   "id": "d236ad9a",
   "metadata": {
    "execution": {
     "iopub.execute_input": "2023-10-30T05:53:48.742380Z",
     "iopub.status.busy": "2023-10-30T05:53:48.742206Z",
     "iopub.status.idle": "2023-10-30T05:53:49.181050Z",
     "shell.execute_reply": "2023-10-30T05:53:49.180525Z"
    },
    "papermill": {
     "duration": 0.443672,
     "end_time": "2023-10-30T05:53:49.182210",
     "exception": false,
     "start_time": "2023-10-30T05:53:48.738538",
     "status": "completed"
    },
    "tags": []
   },
   "outputs": [
    {
     "name": "stdout",
     "output_type": "stream",
     "text": [
      "20231030T065348 : amilcar22 : INFO : Inicio ver métricas\n"
     ]
    },
    {
     "name": "stdout",
     "output_type": "stream",
     "text": [
      "              precision    recall  f1-score   support\n",
      "\n",
      "           0       0.56      0.65      0.60        46\n",
      "           1       0.54      0.44      0.49        43\n",
      "\n",
      "    accuracy                           0.55        89\n",
      "   macro avg       0.55      0.55      0.54        89\n",
      "weighted avg       0.55      0.55      0.55        89\n",
      "\n",
      "\n",
      "\n",
      "   Exactitud: 0.5506\n",
      "   Precisión: 0.5492\n",
      "Sensibilidad: 0.5470\n",
      "    F1-score: 0.5436\n",
      "     AUC ROC: 0.6638\n"
     ]
    },
    {
     "data": {
      "image/png": "[encoded data removed]",
      "text/plain": [
       "<Figure size 300x100 with 2 Axes>"
      ]
     },
     "metadata": {},
     "output_type": "display_data"
    },
    {
     "data": {
      "image/png": "[encoded data removed]",
      "text/plain": [
       "<Figure size 800x500 with 1 Axes>"
      ]
     },
     "metadata": {},
     "output_type": "display_data"
    },
    {
     "name": "stdout",
     "output_type": "stream",
     "text": [
      "20231030T065349 : amilcar22 : INFO : Fin ver métricas\n"
     ]
    }
   ],
   "source": [
    "if M_TIPO.startswith(\"bin\"):\n",
    "    myfunc.ver_metricas(mejor_modelo, X_test, y_test)\n",
    "else:\n",
    "    myfunc.ver_metricas_multi(mejor_modelo, X_test, y_test)\n"
   ]
  },
  {
   "cell_type": "markdown",
   "id": "62dfeb53",
   "metadata": {
    "papermill": {
     "duration": 0.003738,
     "end_time": "2023-10-30T05:53:49.190099",
     "exception": false,
     "start_time": "2023-10-30T05:53:49.186361",
     "status": "completed"
    },
    "tags": []
   },
   "source": [
    "#### Finalización del notebook"
   ]
  },
  {
   "cell_type": "code",
   "execution_count": 11,
   "id": "ebd198ca",
   "metadata": {
    "execution": {
     "iopub.execute_input": "2023-10-30T05:53:49.198239Z",
     "iopub.status.busy": "2023-10-30T05:53:49.198023Z",
     "iopub.status.idle": "2023-10-30T05:53:49.201466Z",
     "shell.execute_reply": "2023-10-30T05:53:49.201036Z"
    },
    "papermill": {
     "duration": 0.008881,
     "end_time": "2023-10-30T05:53:49.202640",
     "exception": false,
     "start_time": "2023-10-30T05:53:49.193759",
     "status": "completed"
    },
    "tags": []
   },
   "outputs": [
    {
     "name": "stdout",
     "output_type": "stream",
     "text": [
      "20231030T065349 : amilcar22 : INFO : Notebook ha tardado 91 seconds\n"
     ]
    }
   ],
   "source": [
    "end_time = datetime.datetime.now()\n",
    "total_time = end_time - start_time\n",
    "myfunc.verbose(f\"Notebook ha tardado {total_time.seconds} seconds\")"
   ]
  },
  {
   "cell_type": "markdown",
   "id": "fa15a907",
   "metadata": {
    "papermill": {
     "duration": 0.0037,
     "end_time": "2023-10-30T05:53:49.210232",
     "exception": false,
     "start_time": "2023-10-30T05:53:49.206532",
     "status": "completed"
    },
    "tags": []
   },
   "source": [
    "#### Guardar métricas"
   ]
  },
  {
   "cell_type": "code",
   "execution_count": 12,
   "id": "1a6b1b04",
   "metadata": {
    "execution": {
     "iopub.execute_input": "2023-10-30T05:53:49.218566Z",
     "iopub.status.busy": "2023-10-30T05:53:49.218149Z",
     "iopub.status.idle": "2023-10-30T05:53:49.417055Z",
     "shell.execute_reply": "2023-10-30T05:53:49.416488Z"
    },
    "papermill": {
     "duration": 0.204517,
     "end_time": "2023-10-30T05:53:49.418397",
     "exception": false,
     "start_time": "2023-10-30T05:53:49.213880",
     "status": "completed"
    },
    "tags": []
   },
   "outputs": [
    {
     "name": "stdout",
     "output_type": "stream",
     "text": [
      "20231030T065349 : amilcar22 : INFO : Inicio guardar métricas\n",
      "20231030T065349 : amilcar22 : INFO : Inicio leer fichero ../tfm_git/ejecuciones/metricas/metricas_6191.csv\n",
      "20231030T065349 : amilcar22 : INFO : Fin leer fichero ../tfm_git/ejecuciones/metricas/metricas_6191.csv\n"
     ]
    },
    {
     "name": "stdout",
     "output_type": "stream",
     "text": [
      "20231030T065349 : amilcar22 : INFO : Inicio guardar fichero ../tfm_git/ejecuciones/metricas/metricas_6191.csv\n",
      "20231030T065349 : amilcar22 : INFO : Fichero borrado ../tfm_git/ejecuciones/metricas/metricas_6191.csv\n"
     ]
    },
    {
     "name": "stdout",
     "output_type": "stream",
     "text": [
      "20231030T065349 : amilcar22 : INFO : Fin guardar fichero ../tfm_git/ejecuciones/metricas/metricas_6191.csv\n",
      "20231030T065349 : amilcar22 : INFO : Fin guardar métricas\n",
      "20231030T065349 : amilcar22 : INFO : Inicio leer fichero ../tfm_git/ejecuciones/metricas/metricas_6191.csv\n",
      "20231030T065349 : amilcar22 : INFO : Fin leer fichero ../tfm_git/ejecuciones/metricas/metricas_6191.csv\n"
     ]
    },
    {
     "data": {
      "text/html": [
       "<div>\n",
       "<style scoped>\n",
       "    .dataframe tbody tr th:only-of-type {\n",
       "        vertical-align: middle;\n",
       "    }\n",
       "\n",
       "    .dataframe tbody tr th {\n",
       "        vertical-align: top;\n",
       "    }\n",
       "\n",
       "    .dataframe thead th {\n",
       "        text-align: right;\n",
       "    }\n",
       "</style>\n",
       "<table border=\"1\" class=\"dataframe\">\n",
       "  <thead>\n",
       "    <tr style=\"text-align: right;\">\n",
       "      <th></th>\n",
       "      <th>tipo</th>\n",
       "      <th>select</th>\n",
       "      <th>clasific</th>\n",
       "      <th>semilla</th>\n",
       "      <th>accuracy</th>\n",
       "      <th>precision</th>\n",
       "      <th>recall</th>\n",
       "      <th>f1_score</th>\n",
       "      <th>roc_auc</th>\n",
       "      <th>hostname</th>\n",
       "      <th>total_time_sec</th>\n",
       "      <th>datetime</th>\n",
       "      <th>fichero_modelo</th>\n",
       "      <th>params</th>\n",
       "      <th>shape</th>\n",
       "      <th>features</th>\n",
       "    </tr>\n",
       "  </thead>\n",
       "  <tbody>\n",
       "    <tr>\n",
       "      <th>0</th>\n",
       "      <td>bin_s</td>\n",
       "      <td>MI</td>\n",
       "      <td>RF</td>\n",
       "      <td>6191</td>\n",
       "      <td>0.550562</td>\n",
       "      <td>0.549206</td>\n",
       "      <td>0.547017</td>\n",
       "      <td>0.543590</td>\n",
       "      <td>0.663802</td>\n",
       "      <td>amilcar22</td>\n",
       "      <td>91</td>\n",
       "      <td>2023-10-30 06:53:49.394220</td>\n",
       "      <td>modelo_6191_bin_s_MI_RF.pkl</td>\n",
       "      <td>{'selector__k': 200, 'clasifier__n_estimators'...</td>\n",
       "      <td>X_test:(89, 18875)</td>\n",
       "      <td>['ENSG00000003402.21', 'ENSG00000006712.15', '...</td>\n",
       "    </tr>\n",
       "    <tr>\n",
       "      <th>0</th>\n",
       "      <td>bin_s</td>\n",
       "      <td>MI</td>\n",
       "      <td>LR_L2</td>\n",
       "      <td>6191</td>\n",
       "      <td>0.617978</td>\n",
       "      <td>0.618503</td>\n",
       "      <td>0.615268</td>\n",
       "      <td>0.614031</td>\n",
       "      <td>0.701719</td>\n",
       "      <td>amilcar22</td>\n",
       "      <td>225</td>\n",
       "      <td>2023-10-30 06:52:11.732857</td>\n",
       "      <td>modelo_6191_bin_s_MI_LR_L2.pkl</td>\n",
       "      <td>{'selector__k': 500, 'clasifier__solver': 'sag...</td>\n",
       "      <td>X_test:(89, 18875)</td>\n",
       "      <td>['ENSG00000003402.21', 'ENSG00000006712.15', '...</td>\n",
       "    </tr>\n",
       "    <tr>\n",
       "      <th>0</th>\n",
       "      <td>bin_s</td>\n",
       "      <td>MI</td>\n",
       "      <td>LR_L1</td>\n",
       "      <td>6191</td>\n",
       "      <td>0.629213</td>\n",
       "      <td>0.628827</td>\n",
       "      <td>0.627654</td>\n",
       "      <td>0.627521</td>\n",
       "      <td>0.730030</td>\n",
       "      <td>amilcar22</td>\n",
       "      <td>493</td>\n",
       "      <td>2023-10-30 06:48:20.240861</td>\n",
       "      <td>modelo_6191_bin_s_MI_LR_L1.pkl</td>\n",
       "      <td>{'selector__k': 1000, 'clasifier__solver': 'sa...</td>\n",
       "      <td>X_test:(89, 18875)</td>\n",
       "      <td>['ENSG00000002933.9', 'ENSG00000003402.21', 'E...</td>\n",
       "    </tr>\n",
       "  </tbody>\n",
       "</table>\n",
       "</div>"
      ],
      "text/plain": [
       "    tipo select clasific  semilla  accuracy  precision    recall  f1_score  \\\n",
       "0  bin_s     MI       RF     6191  0.550562   0.549206  0.547017  0.543590   \n",
       "0  bin_s     MI    LR_L2     6191  0.617978   0.618503  0.615268  0.614031   \n",
       "0  bin_s     MI    LR_L1     6191  0.629213   0.628827  0.627654  0.627521   \n",
       "\n",
       "    roc_auc   hostname  total_time_sec                    datetime  \\\n",
       "0  0.663802  amilcar22              91  2023-10-30 06:53:49.394220   \n",
       "0  0.701719  amilcar22             225  2023-10-30 06:52:11.732857   \n",
       "0  0.730030  amilcar22             493  2023-10-30 06:48:20.240861   \n",
       "\n",
       "                   fichero_modelo  \\\n",
       "0     modelo_6191_bin_s_MI_RF.pkl   \n",
       "0  modelo_6191_bin_s_MI_LR_L2.pkl   \n",
       "0  modelo_6191_bin_s_MI_LR_L1.pkl   \n",
       "\n",
       "                                              params               shape  \\\n",
       "0  {'selector__k': 200, 'clasifier__n_estimators'...  X_test:(89, 18875)   \n",
       "0  {'selector__k': 500, 'clasifier__solver': 'sag...  X_test:(89, 18875)   \n",
       "0  {'selector__k': 1000, 'clasifier__solver': 'sa...  X_test:(89, 18875)   \n",
       "\n",
       "                                            features  \n",
       "0  ['ENSG00000003402.21', 'ENSG00000006712.15', '...  \n",
       "0  ['ENSG00000003402.21', 'ENSG00000006712.15', '...  \n",
       "0  ['ENSG00000002933.9', 'ENSG00000003402.21', 'E...  "
      ]
     },
     "metadata": {},
     "output_type": "display_data"
    }
   ],
   "source": [
    "if M_TIPO.startswith(\"bin\"):\n",
    "    myfunc.save_metricas_to_csv(random_search, X_test, y_test, M_TIPO, M_SELECT, M_CLASIF, total_time, SEMILLA, myfunc.MET_DIR, M_FICHERO, fichero_modelo)\n",
    "else:\n",
    "    myfunc.save_metricas_multi_to_csv(random_search, X_test, y_test, M_TIPO, M_SELECT, M_CLASIF, total_time, SEMILLA, myfunc.MET_DIR, M_FICHERO, fichero_modelo)\n",
    "\n",
    "df1=myfunc.read_metricas_to_df(myfunc.MET_DIR,M_FICHERO)\n",
    "\n",
    "display(df1.sort_values(\"datetime\", ascending=False)[:3])\n"
   ]
  },
  {
   "cell_type": "markdown",
   "id": "69db97c1",
   "metadata": {
    "papermill": {
     "duration": 0.003993,
     "end_time": "2023-10-30T05:53:49.426896",
     "exception": false,
     "start_time": "2023-10-30T05:53:49.422903",
     "status": "completed"
    },
    "tags": []
   },
   "source": [
    "#### Guardar resultados"
   ]
  },
  {
   "cell_type": "code",
   "execution_count": 13,
   "id": "982b7ba9",
   "metadata": {
    "execution": {
     "iopub.execute_input": "2023-10-30T05:53:49.435787Z",
     "iopub.status.busy": "2023-10-30T05:53:49.435563Z",
     "iopub.status.idle": "2023-10-30T05:53:49.444110Z",
     "shell.execute_reply": "2023-10-30T05:53:49.443569Z"
    },
    "papermill": {
     "duration": 0.014454,
     "end_time": "2023-10-30T05:53:49.445355",
     "exception": false,
     "start_time": "2023-10-30T05:53:49.430901",
     "status": "completed"
    },
    "tags": []
   },
   "outputs": [
    {
     "name": "stdout",
     "output_type": "stream",
     "text": [
      "20231030T065349 : amilcar22 : INFO : Inicio guardar resultados\n",
      "20231030T065349 : amilcar22 : INFO : Inicio guardar fichero ../tfm_git/ejecuciones/metricas/resultados_6191_bin_s-MI-RF.csv\n",
      "20231030T065349 : amilcar22 : INFO : Fin guardar fichero ../tfm_git/ejecuciones/metricas/resultados_6191_bin_s-MI-RF.csv\n",
      "20231030T065349 : amilcar22 : INFO : Fin guardar resultados\n"
     ]
    }
   ],
   "source": [
    "fichero_resultados=R_FICHERO+\"_\"+M_TIPO+\"-\"+M_SELECT+\"-\"+M_CLASIF+\".csv\"\n",
    "myfunc.save_resultados_to_csv(M_TIPO, M_SELECT, M_CLASIF,  random_search, myfunc.MET_DIR, fichero_resultados)\n"
   ]
  }
 ],
 "metadata": {
  "kernelspec": {
   "display_name": "Python 3 (ipykernel)",
   "language": "python",
   "name": "python3"
  },
  "language_info": {
   "codemirror_mode": {
    "name": "ipython",
    "version": 3
   },
   "file_extension": ".py",
   "mimetype": "text/x-python",
   "name": "python",
   "nbconvert_exporter": "python",
   "pygments_lexer": "ipython3",
   "version": "3.10.12"
  },
  "papermill": {
   "default_parameters": {},
   "duration": 96.167912,
   "end_time": "2023-10-30T05:53:52.067829",
   "environment_variables": {},
   "exception": null,
   "input_path": "03_entrenamiento.ipynb",
   "output_path": "ejecuciones/training/03_entrenamiento.20231030T065215.param_0000_6191_bin_s_MI_RF.output.ipynb",
   "parameters": {
    "MAX_ITERS": 500,
    "M_CLASIF": "RF",
    "M_FICHERO": "metricas_6191",
    "M_SELECT": "MI",
    "M_TIPO": "bin_s",
    "PRE_DATA_FILE": "rows_transpose_norm_by_gene_id_with_target_num_",
    "P_FICHERO": "param_0000_6191_bin_s_MI_RF.yaml",
    "R_FICHERO": "resultados_6191",
    "SCORING": "roc_auc_ovr",
    "SEMILLA": 6191,
    "eval_clasifier": "RandomForestClassifier(random_state=SEMILLA)",
    "eval_selector": "SelectKBest(score_func=mutual_info_classif_state)",
    "param_distributions": {
     "clasifier__bootstrap": [
      true
     ],
     "clasifier__max_depth": [
      20
     ],
     "clasifier__max_features": [
      1000
     ],
     "clasifier__min_samples_leaf": [
      5
     ],
     "clasifier__min_samples_split": [
      20
     ],
     "clasifier__n_estimators": [
      200
     ],
     "selector__k": [
      200
     ]
    }
   },
   "start_time": "2023-10-30T05:52:15.899917",
   "version": "2.4.0"
  }
 },
 "nbformat": 4,
 "nbformat_minor": 5
}