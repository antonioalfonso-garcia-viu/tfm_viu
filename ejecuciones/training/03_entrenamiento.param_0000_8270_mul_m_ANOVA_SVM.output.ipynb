{
 "cells": [
  {
   "cell_type": "markdown",
   "id": "3ffa44af",
   "metadata": {
    "papermill": {
     "duration": 0.005491,
     "end_time": "2023-10-29T21:32:21.657678",
     "exception": false,
     "start_time": "2023-10-29T21:32:21.652187",
     "status": "completed"
    },
    "tags": []
   },
   "source": [
    "##### Inicio"
   ]
  },
  {
   "cell_type": "markdown",
   "id": "55ea2802",
   "metadata": {
    "papermill": {
     "duration": 0.003523,
     "end_time": "2023-10-29T21:32:21.664953",
     "exception": false,
     "start_time": "2023-10-29T21:32:21.661430",
     "status": "completed"
    },
    "tags": []
   },
   "source": [
    "#### Carga de datos"
   ]
  },
  {
   "cell_type": "code",
   "execution_count": 1,
   "id": "28a3e8d2",
   "metadata": {
    "execution": {
     "iopub.execute_input": "2023-10-29T21:32:21.673123Z",
     "iopub.status.busy": "2023-10-29T21:32:21.672592Z",
     "iopub.status.idle": "2023-10-29T21:32:22.778870Z",
     "shell.execute_reply": "2023-10-29T21:32:22.778265Z"
    },
    "papermill": {
     "duration": 1.111975,
     "end_time": "2023-10-29T21:32:22.780338",
     "exception": false,
     "start_time": "2023-10-29T21:32:21.668363",
     "status": "completed"
    },
    "tags": []
   },
   "outputs": [
    {
     "name": "stdout",
     "output_type": "stream",
     "text": [
      "CPU_COUNT: 16; NODE: enderlab; sys.version: 3.10.11 (main, May 16 2023, 00:28:57) [GCC 11.2.0]\n",
      "LOKY_MAX_CPU_COUNT is not set.\n",
      "OMP_NUM_THREADS is not set.\n"
     ]
    }
   ],
   "source": [
    "import os\n",
    "import numpy as np\n",
    "import pandas as pd\n",
    "import datetime\n",
    "import sklearn\n",
    "import logging\n",
    "import warnings\n",
    "\n",
    "from sklearn.pipeline import Pipeline\n",
    "from sklearn.model_selection import RandomizedSearchCV, KFold, cross_val_score, train_test_split\n",
    "from sklearn.metrics import accuracy_score, confusion_matrix, classification_report, roc_auc_score\n",
    "\n",
    "#  cargar algoritmos para aprendizaje supervisado\n",
    "from sklearn.feature_selection import SelectKBest, f_classif, SelectFromModel, mutual_info_classif\n",
    "from sklearn.svm import SVC\n",
    "from sklearn.ensemble import RandomForestClassifier\n",
    "from sklearn.linear_model import LogisticRegression,LogisticRegressionCV\n",
    "\n",
    "# importar fichero con utilidades propias\n",
    "from commons import myfunctions as myfunc\n"
   ]
  },
  {
   "cell_type": "markdown",
   "id": "74633746",
   "metadata": {
    "papermill": {
     "duration": 0.003619,
     "end_time": "2023-10-29T21:32:22.787995",
     "exception": false,
     "start_time": "2023-10-29T21:32:22.784376",
     "status": "completed"
    },
    "tags": []
   },
   "source": [
    "#### Parámetros a utilizar en el entrenamiento.\n",
    "\n",
    "Se indican los 3 algoritmos de *selección de características* (eval_selector_xxx) y los 3 algoritmos para la _clasificación_ (eval_clasifier_xxx)\n",
    "\n",
    "En *param_distributions* se indicar los parámetros que utilizan los algoritmos en la función RandomSearchCV.\n",
    "\n",
    "Esta celda tiene la etiqueta **parameters** que servirá para poder lanzar los entrenamientos con la utilidad **papermill** pasándole un fichero con los parámetros. Los nuevos parámetros se situarán tras esta celda para tener prevalencia."
   ]
  },
  {
   "cell_type": "code",
   "execution_count": 2,
   "id": "aeca3cbb",
   "metadata": {
    "execution": {
     "iopub.execute_input": "2023-10-29T21:32:22.796351Z",
     "iopub.status.busy": "2023-10-29T21:32:22.795905Z",
     "iopub.status.idle": "2023-10-29T21:32:22.804469Z",
     "shell.execute_reply": "2023-10-29T21:32:22.803914Z"
    },
    "papermill": {
     "duration": 0.014377,
     "end_time": "2023-10-29T21:32:22.805828",
     "exception": false,
     "start_time": "2023-10-29T21:32:22.791451",
     "status": "completed"
    },
    "tags": [
     "parameters"
    ]
   },
   "outputs": [
    {
     "name": "stdout",
     "output_type": "stream",
     "text": [
      "20231029T223222 : enderlab : INFO : Utilizando parámetros de mul_m\n"
     ]
    }
   ],
   "source": [
    "#  Parametros para el entrenamiento\n",
    "\n",
    "SEMILLA=        42\n",
    "M_TIPO=         \"mul_m\"\n",
    "M_SELECT=       \"MI\"\n",
    "M_CLASIF=       \"SVM\"\n",
    "R_FICHERO=      \"resultados\"\n",
    "M_FICHERO=      \"metricas\"\n",
    "PRE_DATA_FILE=  \"rows_transpose_norm_by_gene_id_with_target_num_\"\n",
    "SCORING=        \"roc_auc_ovr\" \n",
    "MAX_ITERS=      100\n",
    "\n",
    "def mutual_info_classif_state(X, y):\n",
    "    return mutual_info_classif(X, y, random_state=SEMILLA)\n",
    "\n",
    "eval_selector_mi = \"SelectKBest(score_func=mutual_info_classif_state)\"\n",
    "eval_selector_rf=  \"SelectFromModel(estimator=RandomForestClassifier(random_state=SEMILLA), threshold=-np.inf)\"\n",
    "eval_selector_anova=  \"SelectKBest(score_func=f_classif)\"\n",
    "\n",
    "eval_clasifier_svm= \"SVC(probability=True, random_state=SEMILLA)\"\n",
    "eval_clasifier_rf= \"RandomForestClassifier(random_state=SEMILLA)\"\n",
    "eval_clasifier_lr= \"LogisticRegressionCV(random_state=SEMILLA)\"\n",
    "\n",
    "if M_TIPO.startswith(\"bin_m\"):\n",
    "    myfunc.verbose(f\"Utilizando parámetros de {M_TIPO}\")\n",
    "    eval_selector = eval_selector_mi\n",
    "    eval_clasifier = eval_clasifier_svm\n",
    "\n",
    "    SEMILLA = 6578\n",
    "    M_SELECT = \"MI\"\n",
    "    M_CLASIF = \"SVM\"\n",
    "    param_distributions = {'selector__k': [1000], \n",
    "         'clasifier__kernel': ['rbf'], 'clasifier__gamma': [0.01], 'clasifier__C': [100]}\n",
    "elif M_TIPO.startswith(\"bin_s\"):\n",
    "    myfunc.verbose(f\"Utilizando parámetros de {M_TIPO}\")\n",
    "    eval_selector = eval_selector_rf\n",
    "    eval_clasifier = eval_clasifier_lr\n",
    "\n",
    "    SEMILLA = 6191\n",
    "    M_SELECT = \"RF\"\n",
    "    M_CLASIF = \"LR_L2\"\n",
    "    param_distributions = {'selector__max_features': [1000], 'selector__estimator__n_estimators': [200], \n",
    "        'clasifier__solver': ['lbfgs'], 'clasifier__penalty': ['l2'], 'clasifier__max_iter': [10000]}\n",
    "\n",
    "elif M_TIPO.startswith(\"mul_m\"):\n",
    "    myfunc.verbose(f\"Utilizando parámetros de {M_TIPO}\")\n",
    " \n",
    "    eval_selector = eval_selector_rf\n",
    "    eval_clasifier = eval_clasifier_lr\n",
    "\n",
    "    SEMILLA = 6191\n",
    "    M_SELECT = \"RF\"\n",
    "    M_CLASIF = \"LR_L2\"\n",
    "    param_distributions = {'selector__max_features': [1000], 'selector__estimator__n_estimators': [400], \n",
    "        'clasifier__solver': ['lbfgs'], 'clasifier__penalty': ['l2'], 'clasifier__max_iter': [10000]}\n",
    "\n",
    "else:\n",
    "    # M_TIPO.startswith(\"mul_s\"):\n",
    "    myfunc.verbose(f\"Utilizando parámetros de {M_TIPO}\")\n",
    "    eval_selector = eval_selector_anova\n",
    "    eval_clasifier = eval_clasifier_lr\n",
    "\n",
    "    SEMILLA = 1860\n",
    "    M_SELECT = \"ANOVA\"\n",
    "    M_CLASIF = \"LR_L2\"\n",
    "    param_distributions = {'selector__k': [1000], \n",
    "        'clasifier__solver': ['saga'], 'clasifier__penalty': ['l2'], 'clasifier__max_iter': [10000]}\n",
    "\n"
   ]
  },
  {
   "cell_type": "code",
   "execution_count": 3,
   "id": "59a83647",
   "metadata": {
    "execution": {
     "iopub.execute_input": "2023-10-29T21:32:22.814539Z",
     "iopub.status.busy": "2023-10-29T21:32:22.814106Z",
     "iopub.status.idle": "2023-10-29T21:32:22.818001Z",
     "shell.execute_reply": "2023-10-29T21:32:22.817480Z"
    },
    "papermill": {
     "duration": 0.009334,
     "end_time": "2023-10-29T21:32:22.819218",
     "exception": false,
     "start_time": "2023-10-29T21:32:22.809884",
     "status": "completed"
    },
    "tags": [
     "injected-parameters"
    ]
   },
   "outputs": [],
   "source": [
    "# Parameters\n",
    "M_TIPO = \"mul_m\"\n",
    "M_SELECT = \"ANOVA\"\n",
    "M_CLASIF = \"SVM\"\n",
    "P_FICHERO = \"param_0000_8270_mul_m_ANOVA_SVM.yaml\"\n",
    "R_FICHERO = \"resultados_8270\"\n",
    "M_FICHERO = \"metricas_8270\"\n",
    "PRE_DATA_FILE = \"rows_transpose_norm_by_gene_id_with_target_num_\"\n",
    "SCORING = \"roc_auc_ovr\"\n",
    "SEMILLA = 8270\n",
    "MAX_ITERS = 500\n",
    "eval_selector = \"SelectKBest(score_func=f_classif)\"\n",
    "eval_clasifier = \"SVC(probability=True, random_state=SEMILLA)\"\n",
    "param_distributions = {\n",
    "    \"selector__k\": [500],\n",
    "    \"clasifier__kernel\": [\"rbf\"],\n",
    "    \"clasifier__gamma\": [0.01],\n",
    "    \"clasifier__C\": [100],\n",
    "}\n"
   ]
  },
  {
   "cell_type": "code",
   "execution_count": 4,
   "id": "6a429747",
   "metadata": {
    "execution": {
     "iopub.execute_input": "2023-10-29T21:32:22.827721Z",
     "iopub.status.busy": "2023-10-29T21:32:22.827497Z",
     "iopub.status.idle": "2023-10-29T21:32:22.830888Z",
     "shell.execute_reply": "2023-10-29T21:32:22.830382Z"
    },
    "papermill": {
     "duration": 0.009487,
     "end_time": "2023-10-29T21:32:22.832206",
     "exception": false,
     "start_time": "2023-10-29T21:32:22.822719",
     "status": "completed"
    },
    "tags": []
   },
   "outputs": [],
   "source": [
    "DATA_FILE = PRE_DATA_FILE + M_TIPO\n",
    "\n",
    "# si viene \"None\" en el parámetro max_depth, se le quitan las comillas para que no sea entendido por el algoritmo como un texto\n",
    "if \"clasifier__max_depth\" in param_distributions:\n",
    "    param_distributions['clasifier__max_depth'] = [None if x == 'None' else x for x in param_distributions['clasifier__max_depth']]"
   ]
  },
  {
   "cell_type": "markdown",
   "id": "30a13583",
   "metadata": {
    "papermill": {
     "duration": 0.00374,
     "end_time": "2023-10-29T21:32:22.839823",
     "exception": false,
     "start_time": "2023-10-29T21:32:22.836083",
     "status": "completed"
    },
    "tags": []
   },
   "source": [
    "Asignar los algoritmos que se utilizarán en la función RandomSearchCV"
   ]
  },
  {
   "cell_type": "code",
   "execution_count": 5,
   "id": "d27e1074",
   "metadata": {
    "execution": {
     "iopub.execute_input": "2023-10-29T21:32:22.848553Z",
     "iopub.status.busy": "2023-10-29T21:32:22.848094Z",
     "iopub.status.idle": "2023-10-29T21:32:22.851034Z",
     "shell.execute_reply": "2023-10-29T21:32:22.850526Z"
    },
    "papermill": {
     "duration": 0.008681,
     "end_time": "2023-10-29T21:32:22.852366",
     "exception": false,
     "start_time": "2023-10-29T21:32:22.843685",
     "status": "completed"
    },
    "tags": []
   },
   "outputs": [],
   "source": [
    "algor_selector=eval(eval_selector)\n",
    "algor_clasifier=eval(eval_clasifier)"
   ]
  },
  {
   "cell_type": "markdown",
   "id": "d713fdd8",
   "metadata": {
    "papermill": {
     "duration": 0.003817,
     "end_time": "2023-10-29T21:32:22.859777",
     "exception": false,
     "start_time": "2023-10-29T21:32:22.855960",
     "status": "completed"
    },
    "tags": []
   },
   "source": [
    "#### Comprobar el entorno y leer fichero de muestras"
   ]
  },
  {
   "cell_type": "code",
   "execution_count": 6,
   "id": "75c1912f",
   "metadata": {
    "execution": {
     "iopub.execute_input": "2023-10-29T21:32:22.868094Z",
     "iopub.status.busy": "2023-10-29T21:32:22.867655Z",
     "iopub.status.idle": "2023-10-29T21:32:23.105160Z",
     "shell.execute_reply": "2023-10-29T21:32:23.104541Z"
    },
    "papermill": {
     "duration": 0.243063,
     "end_time": "2023-10-29T21:32:23.106504",
     "exception": false,
     "start_time": "2023-10-29T21:32:22.863441",
     "status": "completed"
    },
    "tags": []
   },
   "outputs": [
    {
     "name": "stdout",
     "output_type": "stream",
     "text": [
      "20231029T223222 : enderlab : INFO : Encontrada carpeta DATA_DIR=../tfm_git/datos\n",
      "20231029T223222 : enderlab : INFO : Encontrada carpeta CFDNA_DIR=../tfm_git/datos/cfDNA_5hmC\n",
      "20231029T223222 : enderlab : INFO : Encontrada carpeta GENCODE_DIR=../tfm_git/datos/gencode\n",
      "20231029T223222 : enderlab : INFO : Encontrada carpeta H5_DIR=../tfm_git/datos/h5\n",
      "20231029T223222 : enderlab : INFO : Encontrada carpeta LOG_DIR=../tfm_git/datos/logs\n",
      "20231029T223222 : enderlab : INFO : Encontrada carpeta CSV_DIR=../tfm_git/datos/csv\n",
      "20231029T223222 : enderlab : INFO : Encontrada carpeta MODEL_DIR=../tfm_git/ejecuciones/modelos\n",
      "20231029T223222 : enderlab : INFO : Encontrada carpeta EXEC_DIR=../tfm_git/ejecuciones\n",
      "20231029T223222 : enderlab : INFO : Encontrada carpeta MET_DIR=../tfm_git/ejecuciones/metricas\n",
      "20231029T223222 : enderlab : INFO : Inicio leer fichero h5 ../tfm_git/datos/h5/rows_transpose_norm_by_gene_id_with_target_num_mul_m.h5\n",
      "20231029T223222 : enderlab : INFO : Leyendo clave /df\n"
     ]
    },
    {
     "name": "stdout",
     "output_type": "stream",
     "text": [
      "20231029T223223 : enderlab : INFO : Tamaño (434, 18876)\n",
      "20231029T223223 : enderlab : INFO : Fin leer fichero h5 ../tfm_git/datos/h5/rows_transpose_norm_by_gene_id_with_target_num_mul_m.h5\n"
     ]
    },
    {
     "data": {
      "text/plain": [
       "target\n",
       "0    62\n",
       "1    62\n",
       "2    62\n",
       "3    62\n",
       "4    62\n",
       "5    62\n",
       "6    62\n",
       "dtype: int64"
      ]
     },
     "metadata": {},
     "output_type": "display_data"
    },
    {
     "name": "stdout",
     "output_type": "stream",
     "text": [
      "Shape df: (434, 18876)\n"
     ]
    },
    {
     "name": "stdout",
     "output_type": "stream",
     "text": [
      "Shape X_train: (347, 18875)\n",
      "Shape X_test: (87, 18875)\n"
     ]
    }
   ],
   "source": [
    "start_time = datetime.datetime.now()\n",
    "\n",
    "myfunc.reset_vars()\n",
    "\n",
    "myfunc.NOTEBK_FILENAME = myfunc.get_nb_name()\n",
    "\n",
    "myfunc.check_enviroment(myfunc.DATA_DIR, myfunc.CFDNA_DIR, myfunc.GENCODE_DIR, myfunc.H5_DIR, myfunc.LOG_DIR, myfunc.CSV_DIR, myfunc.MODEL_DIR, myfunc.EXEC_DIR, myfunc.MET_DIR)\n",
    "\n",
    "# Leer fichero con las muestras\n",
    "df_t = myfunc.read_h5_to_df(DATA_FILE, myfunc.H5_DIR)\n",
    "display(df_t.groupby(\"target\").size())\n",
    "print(\"Shape df:\",df_t.shape)\n",
    "\n",
    "# Separar caracteristicas/genes de las etiquetas/tipos de cáncer\n",
    "X = df_t.iloc[:, :-1]  # Todas las columnas excepto la última\n",
    "y = df_t.iloc[:, -1]  # La última columna contiene los identificadores de los tipos de cáncer\n",
    "\n",
    "#  Crear el conjunto de datos de entrenamiento y de pruebas, y se fija la semilla para siempre coger el mismo juego de muestras\n",
    "X_train, X_test, y_train, y_test = train_test_split(X, y, test_size=0.2, shuffle=True, random_state=42)\n",
    "print(\"Shape X_train:\",X_train.shape)\n",
    "print(\"Shape X_test:\",X_test.shape)\n"
   ]
  },
  {
   "cell_type": "markdown",
   "id": "a6fd06aa",
   "metadata": {
    "papermill": {
     "duration": 0.003987,
     "end_time": "2023-10-29T21:32:23.115106",
     "exception": false,
     "start_time": "2023-10-29T21:32:23.111119",
     "status": "completed"
    },
    "tags": []
   },
   "source": [
    "#### Selección de características y clasificación."
   ]
  },
  {
   "cell_type": "code",
   "execution_count": 7,
   "id": "9d6723ff",
   "metadata": {
    "execution": {
     "iopub.execute_input": "2023-10-29T21:32:23.124263Z",
     "iopub.status.busy": "2023-10-29T21:32:23.123836Z",
     "iopub.status.idle": "2023-10-29T21:32:25.157887Z",
     "shell.execute_reply": "2023-10-29T21:32:25.157177Z"
    },
    "papermill": {
     "duration": 2.040439,
     "end_time": "2023-10-29T21:32:25.159476",
     "exception": false,
     "start_time": "2023-10-29T21:32:23.119037",
     "status": "completed"
    },
    "tags": []
   },
   "outputs": [
    {
     "name": "stdout",
     "output_type": "stream",
     "text": [
      "20231029T223223 : enderlab : INFO : Iniciando entrenamiento\n",
      "num_iter: 1 , max_iter: 1\n",
      "Fitting 5 folds for each of 1 candidates, totalling 5 fits\n"
     ]
    },
    {
     "name": "stderr",
     "output_type": "stream",
     "text": [
      "/home/expsiviu/miniconda3/envs/viu/lib/python3.10/site-packages/sklearn/feature_selection/_univariate_selection.py:112: UserWarning: Features [  298  1508  1733  2010  2265  2266  2268  2553  2803  2896  3415  4075\n",
      "  5803  6053  6984  7416  8791  9087  9490 10475 11020 11613 11943 12249\n",
      " 12433 12480 12831 13836 13848 13860 13959 14015 14795 14941 15397 15401\n",
      " 15515 15563 15824 16276 16313 16323 16339 16372 16679 16701 16870 16905\n",
      " 16906 17024 17093 17231 17264 17274 18245 18368 18374 18405 18608] are constant.\n",
      "  warnings.warn(\"Features %s are constant.\" % constant_features_idx, UserWarning)\n",
      "/home/expsiviu/miniconda3/envs/viu/lib/python3.10/site-packages/sklearn/feature_selection/_univariate_selection.py:113: RuntimeWarning: invalid value encountered in true_divide\n",
      "  f = msb / msw\n",
      "/home/expsiviu/miniconda3/envs/viu/lib/python3.10/site-packages/sklearn/feature_selection/_univariate_selection.py:112: UserWarning: Features [  298  1508  1733  2010  2265  2266  2553  2688  2803  2896  3248  3415\n",
      "  4075  5803  6984  7416  7418  8510  8791  9087  9490 10475 11020 11562\n",
      " 11613 11943 12249 12480 12831 13836 13848 13959 14015 14735 14795 14941\n",
      " 15397 15515 15516 15563 15824 15881 16260 16262 16267 16276 16313 16323\n",
      " 16339 16372 16520 16701 16870 16905 16906 17024 17093 17231 17274 17312\n",
      " 17418 18368 18374 18405 18608] are constant.\n",
      "  warnings.warn(\"Features %s are constant.\" % constant_features_idx, UserWarning)\n",
      "/home/expsiviu/miniconda3/envs/viu/lib/python3.10/site-packages/sklearn/feature_selection/_univariate_selection.py:113: RuntimeWarning: invalid value encountered in true_divide\n",
      "  f = msb / msw\n",
      "/home/expsiviu/miniconda3/envs/viu/lib/python3.10/site-packages/sklearn/feature_selection/_univariate_selection.py:112: UserWarning: Features [  298  1508  1733  2006  2010  2265  2266  2553  2803  2896  3415  3492\n",
      "  3804  4075  5405  5668  5803  6984  7416  8791  9087  9490 10475 11020\n",
      " 11613 11943 12249 12480 12831 13836 13848 13959 14000 14015 14245 14789\n",
      " 14795 14941 15397 15515 15563 15824 16018 16258 16276 16278 16279 16313\n",
      " 16323 16339 16372 16522 16630 16667 16701 16819 16870 16905 16906 16968\n",
      " 17024 17047 17091 17093 17231 17274 18368 18374 18405 18546 18608] are constant.\n",
      "  warnings.warn(\"Features %s are constant.\" % constant_features_idx, UserWarning)\n",
      "/home/expsiviu/miniconda3/envs/viu/lib/python3.10/site-packages/sklearn/feature_selection/_univariate_selection.py:113: RuntimeWarning: invalid value encountered in true_divide\n",
      "  f = msb / msw\n",
      "/home/expsiviu/miniconda3/envs/viu/lib/python3.10/site-packages/sklearn/feature_selection/_univariate_selection.py:112: UserWarning: Features [  298  1508  1733  1846  2010  2265  2266  2553  2803  2896  3415  4075\n",
      "  5533  5803  6981  6984  6993  7416  8791  9087  9490 10475 11020 11613\n",
      " 11943 12249 12480 12831 12888 13836 13848 13959 14015 14244 14795 14941\n",
      " 15397 15515 15563 15824 16276 16313 16323 16339 16372 16701 16870 16905\n",
      " 16906 16956 17024 17093 17231 17274 17566 18368 18374 18405 18608 18693\n",
      " 18868] are constant.\n",
      "  warnings.warn(\"Features %s are constant.\" % constant_features_idx, UserWarning)\n",
      "/home/expsiviu/miniconda3/envs/viu/lib/python3.10/site-packages/sklearn/feature_selection/_univariate_selection.py:113: RuntimeWarning: invalid value encountered in true_divide\n",
      "  f = msb / msw\n",
      "/home/expsiviu/miniconda3/envs/viu/lib/python3.10/site-packages/sklearn/feature_selection/_univariate_selection.py:112: UserWarning: Features [  298  1508  1733  2010  2222  2265  2266  2553  2803  2896  3415  4075\n",
      "  5803  6984  7416  7780  8513  8791  9087  9490 10035 10475 11020 11022\n",
      " 11613 11943 12249 12480 12831 13047 13235 13300 13836 13848 13959 14015\n",
      " 14795 14941 15183 15397 15515 15563 15824 16268 16276 16281 16287 16313\n",
      " 16323 16339 16372 16701 16704 16870 16905 16906 17024 17093 17231 17274\n",
      " 17540 18288 18350 18368 18374 18405 18530 18592 18608] are constant.\n",
      "  warnings.warn(\"Features %s are constant.\" % constant_features_idx, UserWarning)\n",
      "/home/expsiviu/miniconda3/envs/viu/lib/python3.10/site-packages/sklearn/feature_selection/_univariate_selection.py:113: RuntimeWarning: invalid value encountered in true_divide\n",
      "  f = msb / msw\n"
     ]
    },
    {
     "name": "stderr",
     "output_type": "stream",
     "text": [
      "/home/expsiviu/miniconda3/envs/viu/lib/python3.10/site-packages/sklearn/feature_selection/_univariate_selection.py:112: UserWarning: Features [  298  1508  1733  2010  2265  2266  2553  2803  2896  3415  4075  5803\n",
      "  6984  7416  8791  9087  9490 10475 11020 11613 11943 12249 12480 12831\n",
      " 13836 13848 13959 14015 14795 14941 15397 15515 15563 15824 16276 16313\n",
      " 16323 16339 16372 16701 16870 16905 16906 17024 17093 17231 17274 18368\n",
      " 18374 18405 18608] are constant.\n",
      "  warnings.warn(\"Features %s are constant.\" % constant_features_idx, UserWarning)\n",
      "/home/expsiviu/miniconda3/envs/viu/lib/python3.10/site-packages/sklearn/feature_selection/_univariate_selection.py:113: RuntimeWarning: invalid value encountered in true_divide\n",
      "  f = msb / msw\n"
     ]
    },
    {
     "name": "stdout",
     "output_type": "stream",
     "text": [
      "Mejores Hiperparámetros: {'selector__k': 500, 'clasifier__kernel': 'rbf', 'clasifier__gamma': 0.01, 'clasifier__C': 100}\n",
      "Mejor Puntuación: 0.8460\n",
      "20231029T223225 : enderlab : INFO : Fin entrenamiento\n"
     ]
    }
   ],
   "source": [
    "myfunc.verbose(\"Iniciando entrenamiento\")\n",
    "\n",
    "kf = KFold(n_splits=5, shuffle=True, random_state=SEMILLA)\n",
    "\n",
    "# Crear el pipeline para el flujo de tareas\n",
    "tasks_pipeline = Pipeline([\n",
    "    ('selector', algor_selector),\n",
    "    ('clasifier', algor_clasifier)\n",
    "])\n",
    "\n",
    "# MAX_ITERS puede limitar el número de iteraciones si son excesivas para las combinaciones de parámetros buscando un óptimo local, \n",
    "# sino funcionaría como GridSearchCV al revisar todas las cominaciones de los parámetros\n",
    "num_iteraciones = 1\n",
    "num_iteraciones = num_iteraciones * np.prod([len(elemento1) for _, elemento1 in param_distributions.items()])\n",
    "max_iteraciones = num_iteraciones if num_iteraciones <= MAX_ITERS else MAX_ITERS\n",
    "print(\"num_iter:\",num_iteraciones,\", max_iter:\",max_iteraciones)\n",
    "\n",
    "random_search = RandomizedSearchCV(\n",
    "    tasks_pipeline, \n",
    "    param_distributions, \n",
    "    n_iter=max_iteraciones,\n",
    "    scoring=SCORING,\n",
    "    cv=kf,\n",
    "    verbose=3, \n",
    "    random_state=SEMILLA, \n",
    "    n_jobs=-1\n",
    "    )\n",
    "\n",
    "# Entrenar el modelo\n",
    "random_search.fit(X_train, y_train)\n",
    "\n",
    "# Ver los mejores hiperparámetros encontrados\n",
    "print(f'Mejores Hiperparámetros: {random_search.best_params_}')\n",
    "print(f'Mejor Puntuación: {random_search.best_score_:.4f}')\n",
    "\n",
    "# Nos quedamos con el mejor modelo para ver las métricas\n",
    "mejor_modelo = random_search.best_estimator_\n",
    "\n",
    "myfunc.verbose(\"Fin entrenamiento\")"
   ]
  },
  {
   "cell_type": "markdown",
   "id": "d6ee8ff9",
   "metadata": {
    "papermill": {
     "duration": 0.004406,
     "end_time": "2023-10-29T21:32:25.169528",
     "exception": false,
     "start_time": "2023-10-29T21:32:25.165122",
     "status": "completed"
    },
    "tags": []
   },
   "source": [
    "#### Guardar modelo"
   ]
  },
  {
   "cell_type": "code",
   "execution_count": 8,
   "id": "c0c46cde",
   "metadata": {
    "execution": {
     "iopub.execute_input": "2023-10-29T21:32:25.179645Z",
     "iopub.status.busy": "2023-10-29T21:32:25.179147Z",
     "iopub.status.idle": "2023-10-29T21:32:25.188559Z",
     "shell.execute_reply": "2023-10-29T21:32:25.188010Z"
    },
    "papermill": {
     "duration": 0.016103,
     "end_time": "2023-10-29T21:32:25.189830",
     "exception": false,
     "start_time": "2023-10-29T21:32:25.173727",
     "status": "completed"
    },
    "tags": []
   },
   "outputs": [
    {
     "name": "stdout",
     "output_type": "stream",
     "text": [
      "20231029T223225 : enderlab : INFO : Inicio guardar fichero ../tfm_git/ejecuciones/modelos/modelo_8270_mul_m_ANOVA_SVM.pkl\n",
      "20231029T223225 : enderlab : INFO : Fin guardar fichero ../tfm_git/ejecuciones/modelos/modelo_8270_mul_m_ANOVA_SVM.pkl\n"
     ]
    }
   ],
   "source": [
    "fichero_modelo = str.replace(\"modelo_\"+str(SEMILLA).zfill(4)+\"_\"+M_TIPO+\"_\"+M_SELECT+\"_\"+M_CLASIF+\".pkl\", \" \", \"_\")\n",
    "\n",
    "myfunc.save_modelo(mejor_modelo, myfunc.MODEL_DIR, fichero_modelo)"
   ]
  },
  {
   "cell_type": "markdown",
   "id": "2ed863f7",
   "metadata": {
    "papermill": {
     "duration": 0.004353,
     "end_time": "2023-10-29T21:32:25.198534",
     "exception": false,
     "start_time": "2023-10-29T21:32:25.194181",
     "status": "completed"
    },
    "tags": []
   },
   "source": [
    "#### Ver resultados del las iteraciones hechas por RandomSearchCV"
   ]
  },
  {
   "cell_type": "code",
   "execution_count": 9,
   "id": "8bc7b600",
   "metadata": {
    "execution": {
     "iopub.execute_input": "2023-10-29T21:32:25.208253Z",
     "iopub.status.busy": "2023-10-29T21:32:25.207892Z",
     "iopub.status.idle": "2023-10-29T21:32:25.213978Z",
     "shell.execute_reply": "2023-10-29T21:32:25.213433Z"
    },
    "papermill": {
     "duration": 0.012368,
     "end_time": "2023-10-29T21:32:25.215156",
     "exception": false,
     "start_time": "2023-10-29T21:32:25.202788",
     "status": "completed"
    },
    "tags": []
   },
   "outputs": [
    {
     "name": "stdout",
     "output_type": "stream",
     "text": [
      "20231029T223225 : enderlab : INFO : Inicio ver resultados\n",
      "Mejores Hiperparámetros: {'selector__k': 500, 'clasifier__kernel': 'rbf', 'clasifier__gamma': 0.01, 'clasifier__C': 100}\n",
      "Mejores puntuaciones: 0.8460 | Params: {'selector__k': 500, 'clasifier__kernel': 'rbf', 'clasifier__gamma': 0.01, 'clasifier__C': 100}\n",
      "Media de las puntuaciones: 0.8460 | Params: {'selector__k': 500, 'clasifier__kernel': 'rbf', 'clasifier__gamma': 0.01, 'clasifier__C': 100}\n",
      "20231029T223225 : enderlab : INFO : Fin resultados\n"
     ]
    }
   ],
   "source": [
    "myfunc.ver_resultados_search(random_search)"
   ]
  },
  {
   "cell_type": "markdown",
   "id": "3ef458ea",
   "metadata": {
    "papermill": {
     "duration": 0.004514,
     "end_time": "2023-10-29T21:32:25.224011",
     "exception": false,
     "start_time": "2023-10-29T21:32:25.219497",
     "status": "completed"
    },
    "tags": []
   },
   "source": [
    "#### Ver métricas del mejor modelo"
   ]
  },
  {
   "cell_type": "code",
   "execution_count": 10,
   "id": "0ba559f5",
   "metadata": {
    "execution": {
     "iopub.execute_input": "2023-10-29T21:32:25.234118Z",
     "iopub.status.busy": "2023-10-29T21:32:25.233769Z",
     "iopub.status.idle": "2023-10-29T21:32:25.980751Z",
     "shell.execute_reply": "2023-10-29T21:32:25.980133Z"
    },
    "papermill": {
     "duration": 0.753605,
     "end_time": "2023-10-29T21:32:25.982241",
     "exception": false,
     "start_time": "2023-10-29T21:32:25.228636",
     "status": "completed"
    },
    "tags": []
   },
   "outputs": [
    {
     "name": "stdout",
     "output_type": "stream",
     "text": [
      "20231029T223225 : enderlab : INFO : Inicio ver métricas multiclase\n"
     ]
    },
    {
     "name": "stdout",
     "output_type": "stream",
     "text": [
      "              precision    recall  f1-score   support\n",
      "\n",
      "           0       0.36      0.25      0.30        16\n",
      "           1       0.67      0.53      0.59        15\n",
      "           2       0.24      0.36      0.29        11\n",
      "           3       0.25      0.60      0.35         5\n",
      "           4       0.50      0.54      0.52        13\n",
      "           5       0.67      0.67      0.67         9\n",
      "           6       0.58      0.39      0.47        18\n",
      "\n",
      "    accuracy                           0.45        87\n",
      "   macro avg       0.47      0.48      0.45        87\n",
      "weighted avg       0.49      0.45      0.46        87\n",
      "\n",
      "\n",
      "\n",
      "           Exactitud: 0.448276\n",
      "   Precisión (media): 0.466514\n",
      "      Recall (media): 0.477284\n",
      "    F1-score (media): 0.454199\n",
      "\n",
      "\n",
      "AUC para el tipo de cáncer 0-Control.... 0.7077\n",
      "AUC para el tipo de cáncer 1-Bladder.... 0.8815\n",
      "AUC para el tipo de cáncer 2-Breast..... 0.5801\n",
      "AUC para el tipo de cáncer 3-Colorectal. 0.9073\n",
      "AUC para el tipo de cáncer 4-Kidney..... 0.8316\n",
      "AUC para el tipo de cáncer 5-Lung....... 0.9459\n",
      "AUC para el tipo de cáncer 6-Prostate... 0.8213\n",
      "\n",
      "Media de AUC: 0.8108\n"
     ]
    },
    {
     "data": {
      "image/png": "[encoded data removed]",
      "text/plain": [
       "<Figure size 1000x600 with 1 Axes>"
      ]
     },
     "metadata": {},
     "output_type": "display_data"
    },
    {
     "name": "stdout",
     "output_type": "stream",
     "text": [
      "\n",
      "\n"
     ]
    },
    {
     "data": {
      "image/png": "[encoded data removed]",
      "text/plain": [
       "<Figure size 800x400 with 2 Axes>"
      ]
     },
     "metadata": {},
     "output_type": "display_data"
    },
    {
     "name": "stdout",
     "output_type": "stream",
     "text": [
      "\n",
      "\n",
      "Puntuación Jaccard para el cáncer tipo 0-Control.... 0.1739\n",
      "Puntuación Jaccard para el cáncer tipo 1-Bladder.... 0.4211\n",
      "Puntuación Jaccard para el cáncer tipo 2-Breast..... 0.1667\n",
      "Puntuación Jaccard para el cáncer tipo 3-Colorectal. 0.2143\n",
      "Puntuación Jaccard para el cáncer tipo 4-Kidney..... 0.3500\n",
      "Puntuación Jaccard para el cáncer tipo 5-Lung....... 0.5000\n",
      "Puntuación Jaccard para el cáncer tipo 6-Prostate... 0.3043\n",
      "\n",
      "Media de la puntuación de Jaccard: 0.3043\n"
     ]
    }
   ],
   "source": [
    "if M_TIPO.startswith(\"bin\"):\n",
    "    myfunc.ver_metricas(mejor_modelo, X_test, y_test)\n",
    "else:\n",
    "    myfunc.ver_metricas_multi(mejor_modelo, X_test, y_test)\n"
   ]
  },
  {
   "cell_type": "markdown",
   "id": "4399c92b",
   "metadata": {
    "papermill": {
     "duration": 0.006192,
     "end_time": "2023-10-29T21:32:25.995626",
     "exception": false,
     "start_time": "2023-10-29T21:32:25.989434",
     "status": "completed"
    },
    "tags": []
   },
   "source": [
    "#### Finalización del notebook"
   ]
  },
  {
   "cell_type": "code",
   "execution_count": 11,
   "id": "ef53b87e",
   "metadata": {
    "execution": {
     "iopub.execute_input": "2023-10-29T21:32:26.008609Z",
     "iopub.status.busy": "2023-10-29T21:32:26.008349Z",
     "iopub.status.idle": "2023-10-29T21:32:26.012105Z",
     "shell.execute_reply": "2023-10-29T21:32:26.011539Z"
    },
    "papermill": {
     "duration": 0.011734,
     "end_time": "2023-10-29T21:32:26.013381",
     "exception": false,
     "start_time": "2023-10-29T21:32:26.001647",
     "status": "completed"
    },
    "tags": []
   },
   "outputs": [
    {
     "name": "stdout",
     "output_type": "stream",
     "text": [
      "20231029T223226 : enderlab : INFO : Notebook ha tardado 3 seconds\n"
     ]
    }
   ],
   "source": [
    "end_time = datetime.datetime.now()\n",
    "total_time = end_time - start_time\n",
    "myfunc.verbose(f\"Notebook ha tardado {total_time.seconds} seconds\")"
   ]
  },
  {
   "cell_type": "markdown",
   "id": "a949a7ab",
   "metadata": {
    "papermill": {
     "duration": 0.005908,
     "end_time": "2023-10-29T21:32:26.025137",
     "exception": false,
     "start_time": "2023-10-29T21:32:26.019229",
     "status": "completed"
    },
    "tags": []
   },
   "source": [
    "#### Guardar métricas"
   ]
  },
  {
   "cell_type": "code",
   "execution_count": 12,
   "id": "799cec72",
   "metadata": {
    "execution": {
     "iopub.execute_input": "2023-10-29T21:32:26.038208Z",
     "iopub.status.busy": "2023-10-29T21:32:26.037775Z",
     "iopub.status.idle": "2023-10-29T21:32:26.302056Z",
     "shell.execute_reply": "2023-10-29T21:32:26.301450Z"
    },
    "papermill": {
     "duration": 0.272181,
     "end_time": "2023-10-29T21:32:26.303306",
     "exception": false,
     "start_time": "2023-10-29T21:32:26.031125",
     "status": "completed"
    },
    "tags": []
   },
   "outputs": [
    {
     "name": "stdout",
     "output_type": "stream",
     "text": [
      "20231029T223226 : enderlab : INFO : Inicio guardar métricas multiclase\n",
      "20231029T223226 : enderlab : INFO : Inicio leer fichero ../tfm_git/ejecuciones/metricas/metricas_8270.csv\n",
      "20231029T223226 : enderlab : INFO : Fin leer fichero ../tfm_git/ejecuciones/metricas/metricas_8270.csv\n"
     ]
    },
    {
     "name": "stdout",
     "output_type": "stream",
     "text": [
      "20231029T223226 : enderlab : INFO : Inicio guardar fichero ../tfm_git/ejecuciones/metricas/metricas_8270.csv\n",
      "20231029T223226 : enderlab : INFO : Fichero borrado ../tfm_git/ejecuciones/metricas/metricas_8270.csv\n",
      "20231029T223226 : enderlab : INFO : Fin guardar fichero ../tfm_git/ejecuciones/metricas/metricas_8270.csv\n",
      "20231029T223226 : enderlab : INFO : Fin guardar métricas multiclase\n",
      "20231029T223226 : enderlab : INFO : Inicio leer fichero ../tfm_git/ejecuciones/metricas/metricas_8270.csv\n",
      "20231029T223226 : enderlab : INFO : Fin leer fichero ../tfm_git/ejecuciones/metricas/metricas_8270.csv\n"
     ]
    },
    {
     "data": {
      "text/html": [
       "<div>\n",
       "<style scoped>\n",
       "    .dataframe tbody tr th:only-of-type {\n",
       "        vertical-align: middle;\n",
       "    }\n",
       "\n",
       "    .dataframe tbody tr th {\n",
       "        vertical-align: top;\n",
       "    }\n",
       "\n",
       "    .dataframe thead th {\n",
       "        text-align: right;\n",
       "    }\n",
       "</style>\n",
       "<table border=\"1\" class=\"dataframe\">\n",
       "  <thead>\n",
       "    <tr style=\"text-align: right;\">\n",
       "      <th></th>\n",
       "      <th>tipo</th>\n",
       "      <th>select</th>\n",
       "      <th>clasific</th>\n",
       "      <th>semilla</th>\n",
       "      <th>accuracy</th>\n",
       "      <th>precision</th>\n",
       "      <th>recall</th>\n",
       "      <th>f1_score</th>\n",
       "      <th>roc_auc</th>\n",
       "      <th>hostname</th>\n",
       "      <th>total_time_sec</th>\n",
       "      <th>datetime</th>\n",
       "      <th>fichero_modelo</th>\n",
       "      <th>params</th>\n",
       "      <th>shape</th>\n",
       "      <th>features</th>\n",
       "      <th>roc_auc_ovr</th>\n",
       "      <th>indices_auc</th>\n",
       "      <th>indices_jaccard</th>\n",
       "    </tr>\n",
       "  </thead>\n",
       "  <tbody>\n",
       "    <tr>\n",
       "      <th>0</th>\n",
       "      <td>mul_m</td>\n",
       "      <td>ANOVA</td>\n",
       "      <td>SVM</td>\n",
       "      <td>8270</td>\n",
       "      <td>0.448276</td>\n",
       "      <td>0.466514</td>\n",
       "      <td>0.477284</td>\n",
       "      <td>0.454199</td>\n",
       "      <td>NaN</td>\n",
       "      <td>enderlab</td>\n",
       "      <td>3</td>\n",
       "      <td>2023-10-29 22:32:26.257528</td>\n",
       "      <td>modelo_8270_mul_m_ANOVA_SVM.pkl</td>\n",
       "      <td>{'selector__k': 500, 'clasifier__kernel': 'rbf...</td>\n",
       "      <td>X_test:(87, 18875)</td>\n",
       "      <td>['ENSG00000000938.13', 'ENSG00000004660.15', '...</td>\n",
       "      <td>0.810773</td>\n",
       "      <td>[0.7077464788732395, 0.8814814814814814, 0.580...</td>\n",
       "      <td>[0.17391304347826086, 0.42105263157894735, 0.1...</td>\n",
       "    </tr>\n",
       "    <tr>\n",
       "      <th>0</th>\n",
       "      <td>mul_m</td>\n",
       "      <td>ANOVA</td>\n",
       "      <td>RF</td>\n",
       "      <td>8270</td>\n",
       "      <td>0.448276</td>\n",
       "      <td>0.410270</td>\n",
       "      <td>0.477955</td>\n",
       "      <td>0.422381</td>\n",
       "      <td>NaN</td>\n",
       "      <td>enderlab</td>\n",
       "      <td>22</td>\n",
       "      <td>2023-10-29 22:32:16.114307</td>\n",
       "      <td>modelo_8270_mul_m_ANOVA_RF.pkl</td>\n",
       "      <td>{'selector__k': 1000, 'clasifier__n_estimators...</td>\n",
       "      <td>X_test:(87, 18875)</td>\n",
       "      <td>['ENSG00000000938.13', 'ENSG00000002919.15', '...</td>\n",
       "      <td>0.785279</td>\n",
       "      <td>[0.5871478873239437, 0.8703703703703703, 0.663...</td>\n",
       "      <td>[0.0, 0.4090909090909091, 0.2857142857142857, ...</td>\n",
       "    </tr>\n",
       "    <tr>\n",
       "      <th>0</th>\n",
       "      <td>mul_m</td>\n",
       "      <td>ANOVA</td>\n",
       "      <td>LR_L2</td>\n",
       "      <td>8270</td>\n",
       "      <td>0.574713</td>\n",
       "      <td>0.575394</td>\n",
       "      <td>0.599781</td>\n",
       "      <td>0.570721</td>\n",
       "      <td>NaN</td>\n",
       "      <td>enderlab</td>\n",
       "      <td>31</td>\n",
       "      <td>2023-10-29 22:31:46.176461</td>\n",
       "      <td>modelo_8270_mul_m_ANOVA_LR_L2.pkl</td>\n",
       "      <td>{'selector__k': 1000, 'clasifier__solver': 'lb...</td>\n",
       "      <td>X_test:(87, 18875)</td>\n",
       "      <td>['ENSG00000000938.13', 'ENSG00000002919.15', '...</td>\n",
       "      <td>0.871233</td>\n",
       "      <td>[0.7790492957746479, 0.8796296296296297, 0.785...</td>\n",
       "      <td>[0.3, 0.5, 0.21052631578947367, 0.333333333333...</td>\n",
       "    </tr>\n",
       "  </tbody>\n",
       "</table>\n",
       "</div>"
      ],
      "text/plain": [
       "    tipo select clasific  semilla  accuracy  precision    recall  f1_score  \\\n",
       "0  mul_m  ANOVA      SVM     8270  0.448276   0.466514  0.477284  0.454199   \n",
       "0  mul_m  ANOVA       RF     8270  0.448276   0.410270  0.477955  0.422381   \n",
       "0  mul_m  ANOVA    LR_L2     8270  0.574713   0.575394  0.599781  0.570721   \n",
       "\n",
       "   roc_auc  hostname  total_time_sec                    datetime  \\\n",
       "0      NaN  enderlab               3  2023-10-29 22:32:26.257528   \n",
       "0      NaN  enderlab              22  2023-10-29 22:32:16.114307   \n",
       "0      NaN  enderlab              31  2023-10-29 22:31:46.176461   \n",
       "\n",
       "                      fichero_modelo  \\\n",
       "0    modelo_8270_mul_m_ANOVA_SVM.pkl   \n",
       "0     modelo_8270_mul_m_ANOVA_RF.pkl   \n",
       "0  modelo_8270_mul_m_ANOVA_LR_L2.pkl   \n",
       "\n",
       "                                              params               shape  \\\n",
       "0  {'selector__k': 500, 'clasifier__kernel': 'rbf...  X_test:(87, 18875)   \n",
       "0  {'selector__k': 1000, 'clasifier__n_estimators...  X_test:(87, 18875)   \n",
       "0  {'selector__k': 1000, 'clasifier__solver': 'lb...  X_test:(87, 18875)   \n",
       "\n",
       "                                            features  roc_auc_ovr  \\\n",
       "0  ['ENSG00000000938.13', 'ENSG00000004660.15', '...     0.810773   \n",
       "0  ['ENSG00000000938.13', 'ENSG00000002919.15', '...     0.785279   \n",
       "0  ['ENSG00000000938.13', 'ENSG00000002919.15', '...     0.871233   \n",
       "\n",
       "                                         indices_auc  \\\n",
       "0  [0.7077464788732395, 0.8814814814814814, 0.580...   \n",
       "0  [0.5871478873239437, 0.8703703703703703, 0.663...   \n",
       "0  [0.7790492957746479, 0.8796296296296297, 0.785...   \n",
       "\n",
       "                                     indices_jaccard  \n",
       "0  [0.17391304347826086, 0.42105263157894735, 0.1...  \n",
       "0  [0.0, 0.4090909090909091, 0.2857142857142857, ...  \n",
       "0  [0.3, 0.5, 0.21052631578947367, 0.333333333333...  "
      ]
     },
     "metadata": {},
     "output_type": "display_data"
    }
   ],
   "source": [
    "if M_TIPO.startswith(\"bin\"):\n",
    "    myfunc.save_metricas_to_csv(random_search, X_test, y_test, M_TIPO, M_SELECT, M_CLASIF, total_time, SEMILLA, myfunc.MET_DIR, M_FICHERO, fichero_modelo)\n",
    "else:\n",
    "    myfunc.save_metricas_multi_to_csv(random_search, X_test, y_test, M_TIPO, M_SELECT, M_CLASIF, total_time, SEMILLA, myfunc.MET_DIR, M_FICHERO, fichero_modelo)\n",
    "\n",
    "df1=myfunc.read_metricas_to_df(myfunc.MET_DIR,M_FICHERO)\n",
    "\n",
    "display(df1.sort_values(\"datetime\", ascending=False)[:3])\n"
   ]
  },
  {
   "cell_type": "markdown",
   "id": "d013463c",
   "metadata": {
    "papermill": {
     "duration": 0.006408,
     "end_time": "2023-10-29T21:32:26.316502",
     "exception": false,
     "start_time": "2023-10-29T21:32:26.310094",
     "status": "completed"
    },
    "tags": []
   },
   "source": [
    "#### Guardar resultados"
   ]
  },
  {
   "cell_type": "code",
   "execution_count": 13,
   "id": "c4bb75fc",
   "metadata": {
    "execution": {
     "iopub.execute_input": "2023-10-29T21:32:26.330460Z",
     "iopub.status.busy": "2023-10-29T21:32:26.329847Z",
     "iopub.status.idle": "2023-10-29T21:32:26.339271Z",
     "shell.execute_reply": "2023-10-29T21:32:26.338640Z"
    },
    "papermill": {
     "duration": 0.017709,
     "end_time": "2023-10-29T21:32:26.340527",
     "exception": false,
     "start_time": "2023-10-29T21:32:26.322818",
     "status": "completed"
    },
    "tags": []
   },
   "outputs": [
    {
     "name": "stdout",
     "output_type": "stream",
     "text": [
      "20231029T223226 : enderlab : INFO : Inicio guardar resultados\n",
      "20231029T223226 : enderlab : INFO : Inicio guardar fichero ../tfm_git/ejecuciones/metricas/resultados_8270_mul_m-ANOVA-SVM.csv\n",
      "20231029T223226 : enderlab : INFO : Fin guardar fichero ../tfm_git/ejecuciones/metricas/resultados_8270_mul_m-ANOVA-SVM.csv\n",
      "20231029T223226 : enderlab : INFO : Fin guardar resultados\n"
     ]
    }
   ],
   "source": [
    "fichero_resultados=R_FICHERO+\"_\"+M_TIPO+\"-\"+M_SELECT+\"-\"+M_CLASIF+\".csv\"\n",
    "myfunc.save_resultados_to_csv(M_TIPO, M_SELECT, M_CLASIF,  random_search, myfunc.MET_DIR, fichero_resultados)\n"
   ]
  }
 ],
 "metadata": {
  "kernelspec": {
   "display_name": "Python 3 (ipykernel)",
   "language": "python",
   "name": "python3"
  },
  "language_info": {
   "codemirror_mode": {
    "name": "ipython",
    "version": 3
   },
   "file_extension": ".py",
   "mimetype": "text/x-python",
   "name": "python",
   "nbconvert_exporter": "python",
   "pygments_lexer": "ipython3",
   "version": "3.10.11"
  },
  "papermill": {
   "default_parameters": {},
   "duration": 8.505064,
   "end_time": "2023-10-29T21:32:28.966148",
   "environment_variables": {},
   "exception": null,
   "input_path": "03_entrenamiento.ipynb",
   "output_path": "ejecuciones/training/03_entrenamiento.20231029T223219.param_0000_8270_mul_m_ANOVA_SVM.output.ipynb",
   "parameters": {
    "MAX_ITERS": 500,
    "M_CLASIF": "SVM",
    "M_FICHERO": "metricas_8270",
    "M_SELECT": "ANOVA",
    "M_TIPO": "mul_m",
    "PRE_DATA_FILE": "rows_transpose_norm_by_gene_id_with_target_num_",
    "P_FICHERO": "param_0000_8270_mul_m_ANOVA_SVM.yaml",
    "R_FICHERO": "resultados_8270",
    "SCORING": "roc_auc_ovr",
    "SEMILLA": 8270,
    "eval_clasifier": "SVC(probability=True, random_state=SEMILLA)",
    "eval_selector": "SelectKBest(score_func=f_classif)",
    "param_distributions": {
     "clasifier__C": [
      100
     ],
     "clasifier__gamma": [
      0.01
     ],
     "clasifier__kernel": [
      "rbf"
     ],
     "selector__k": [
      500
     ]
    }
   },
   "start_time": "2023-10-29T21:32:20.461084",
   "version": "2.4.0"
  }
 },
 "nbformat": 4,
 "nbformat_minor": 5
}