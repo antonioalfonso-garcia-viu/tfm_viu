{
 "cells": [
  {
   "cell_type": "markdown",
   "id": "6840f15c",
   "metadata": {
    "papermill": {
     "duration": 0.006006,
     "end_time": "2023-10-30T07:40:57.891951",
     "exception": false,
     "start_time": "2023-10-30T07:40:57.885945",
     "status": "completed"
    },
    "tags": []
   },
   "source": [
    "##### Inicio"
   ]
  },
  {
   "cell_type": "markdown",
   "id": "4fb6f121",
   "metadata": {
    "papermill": {
     "duration": 0.003443,
     "end_time": "2023-10-30T07:40:57.899127",
     "exception": false,
     "start_time": "2023-10-30T07:40:57.895684",
     "status": "completed"
    },
    "tags": []
   },
   "source": [
    "#### Carga de datos"
   ]
  },
  {
   "cell_type": "code",
   "execution_count": 1,
   "id": "3f353672",
   "metadata": {
    "execution": {
     "iopub.execute_input": "2023-10-30T07:40:57.907374Z",
     "iopub.status.busy": "2023-10-30T07:40:57.906782Z",
     "iopub.status.idle": "2023-10-30T07:40:59.042824Z",
     "shell.execute_reply": "2023-10-30T07:40:59.042192Z"
    },
    "papermill": {
     "duration": 1.141721,
     "end_time": "2023-10-30T07:40:59.044194",
     "exception": false,
     "start_time": "2023-10-30T07:40:57.902473",
     "status": "completed"
    },
    "tags": []
   },
   "outputs": [
    {
     "name": "stdout",
     "output_type": "stream",
     "text": [
      "CPU_COUNT: 16; NODE: enderlab; sys.version: 3.10.11 (main, May 16 2023, 00:28:57) [GCC 11.2.0]\n",
      "LOKY_MAX_CPU_COUNT is not set.\n",
      "OMP_NUM_THREADS is not set.\n"
     ]
    }
   ],
   "source": [
    "import os\n",
    "import numpy as np\n",
    "import pandas as pd\n",
    "import datetime\n",
    "import sklearn\n",
    "import logging\n",
    "import warnings\n",
    "\n",
    "from sklearn.pipeline import Pipeline\n",
    "from sklearn.model_selection import RandomizedSearchCV, KFold, cross_val_score, train_test_split\n",
    "from sklearn.metrics import accuracy_score, confusion_matrix, classification_report, roc_auc_score\n",
    "\n",
    "#  cargar algoritmos para aprendizaje supervisado\n",
    "from sklearn.feature_selection import SelectKBest, f_classif, SelectFromModel, mutual_info_classif\n",
    "from sklearn.svm import SVC\n",
    "from sklearn.ensemble import RandomForestClassifier\n",
    "from sklearn.linear_model import LogisticRegression,LogisticRegressionCV\n",
    "\n",
    "# importar fichero con utilidades propias\n",
    "from commons import myfunctions as myfunc\n"
   ]
  },
  {
   "cell_type": "markdown",
   "id": "7edd8756",
   "metadata": {
    "papermill": {
     "duration": 0.00366,
     "end_time": "2023-10-30T07:40:59.052021",
     "exception": false,
     "start_time": "2023-10-30T07:40:59.048361",
     "status": "completed"
    },
    "tags": []
   },
   "source": [
    "#### Parámetros a utilizar en el entrenamiento.\n",
    "\n",
    "Se indican los 3 algoritmos de *selección de características* (eval_selector_xxx) y los 3 algoritmos para la _clasificación_ (eval_clasifier_xxx)\n",
    "\n",
    "En *param_distributions* se indicar los parámetros que utilizan los algoritmos en la función RandomSearchCV.\n",
    "\n",
    "Esta celda tiene la etiqueta **parameters** que servirá para poder lanzar los entrenamientos con la utilidad **papermill** pasándole un fichero con los parámetros. Los nuevos parámetros se situarán tras esta celda para tener prevalencia."
   ]
  },
  {
   "cell_type": "code",
   "execution_count": 2,
   "id": "810d27c7",
   "metadata": {
    "execution": {
     "iopub.execute_input": "2023-10-30T07:40:59.060652Z",
     "iopub.status.busy": "2023-10-30T07:40:59.060224Z",
     "iopub.status.idle": "2023-10-30T07:40:59.068692Z",
     "shell.execute_reply": "2023-10-30T07:40:59.068148Z"
    },
    "papermill": {
     "duration": 0.014288,
     "end_time": "2023-10-30T07:40:59.069892",
     "exception": false,
     "start_time": "2023-10-30T07:40:59.055604",
     "status": "completed"
    },
    "tags": [
     "parameters"
    ]
   },
   "outputs": [
    {
     "name": "stdout",
     "output_type": "stream",
     "text": [
      "20231030T084059 : enderlab : INFO : Utilizando parámetros de mul_m\n"
     ]
    }
   ],
   "source": [
    "#  Parametros para el entrenamiento\n",
    "\n",
    "SEMILLA=        42\n",
    "M_TIPO=         \"mul_m\"\n",
    "M_SELECT=       \"MI\"\n",
    "M_CLASIF=       \"SVM\"\n",
    "R_FICHERO=      \"resultados\"\n",
    "M_FICHERO=      \"metricas\"\n",
    "PRE_DATA_FILE=  \"rows_transpose_norm_by_gene_id_with_target_num_\"\n",
    "SCORING=        \"roc_auc_ovr\" \n",
    "MAX_ITERS=      100\n",
    "\n",
    "def mutual_info_classif_state(X, y):\n",
    "    return mutual_info_classif(X, y, random_state=SEMILLA)\n",
    "\n",
    "eval_selector_mi = \"SelectKBest(score_func=mutual_info_classif_state)\"\n",
    "eval_selector_rf=  \"SelectFromModel(estimator=RandomForestClassifier(random_state=SEMILLA), threshold=-np.inf)\"\n",
    "eval_selector_anova=  \"SelectKBest(score_func=f_classif)\"\n",
    "\n",
    "eval_clasifier_svm= \"SVC(probability=True, random_state=SEMILLA)\"\n",
    "eval_clasifier_rf= \"RandomForestClassifier(random_state=SEMILLA)\"\n",
    "eval_clasifier_lr= \"LogisticRegressionCV(random_state=SEMILLA)\"\n",
    "\n",
    "if M_TIPO.startswith(\"bin_m\"):\n",
    "    myfunc.verbose(f\"Utilizando parámetros de {M_TIPO}\")\n",
    "    eval_selector = eval_selector_mi\n",
    "    eval_clasifier = eval_clasifier_svm\n",
    "\n",
    "    SEMILLA = 6578\n",
    "    M_SELECT = \"MI\"\n",
    "    M_CLASIF = \"SVM\"\n",
    "    param_distributions = {'selector__k': [1000], \n",
    "         'clasifier__kernel': ['rbf'], 'clasifier__gamma': [0.01], 'clasifier__C': [100]}\n",
    "elif M_TIPO.startswith(\"bin_s\"):\n",
    "    myfunc.verbose(f\"Utilizando parámetros de {M_TIPO}\")\n",
    "    eval_selector = eval_selector_rf\n",
    "    eval_clasifier = eval_clasifier_lr\n",
    "\n",
    "    SEMILLA = 6191\n",
    "    M_SELECT = \"RF\"\n",
    "    M_CLASIF = \"LR_L2\"\n",
    "    param_distributions = {'selector__max_features': [1000], 'selector__estimator__n_estimators': [200], \n",
    "        'clasifier__solver': ['lbfgs'], 'clasifier__penalty': ['l2'], 'clasifier__max_iter': [10000]}\n",
    "\n",
    "elif M_TIPO.startswith(\"mul_m\"):\n",
    "    myfunc.verbose(f\"Utilizando parámetros de {M_TIPO}\")\n",
    " \n",
    "    eval_selector = eval_selector_rf\n",
    "    eval_clasifier = eval_clasifier_lr\n",
    "\n",
    "    SEMILLA = 6191\n",
    "    M_SELECT = \"RF\"\n",
    "    M_CLASIF = \"LR_L2\"\n",
    "    param_distributions = {'selector__max_features': [1000], 'selector__estimator__n_estimators': [400], \n",
    "        'clasifier__solver': ['lbfgs'], 'clasifier__penalty': ['l2'], 'clasifier__max_iter': [10000]}\n",
    "\n",
    "else:\n",
    "    # M_TIPO.startswith(\"mul_s\"):\n",
    "    myfunc.verbose(f\"Utilizando parámetros de {M_TIPO}\")\n",
    "    eval_selector = eval_selector_anova\n",
    "    eval_clasifier = eval_clasifier_lr\n",
    "\n",
    "    SEMILLA = 1860\n",
    "    M_SELECT = \"ANOVA\"\n",
    "    M_CLASIF = \"LR_L2\"\n",
    "    param_distributions = {'selector__k': [1000], \n",
    "        'clasifier__solver': ['saga'], 'clasifier__penalty': ['l2'], 'clasifier__max_iter': [10000]}\n",
    "\n"
   ]
  },
  {
   "cell_type": "code",
   "execution_count": 3,
   "id": "0f34609a",
   "metadata": {
    "execution": {
     "iopub.execute_input": "2023-10-30T07:40:59.078083Z",
     "iopub.status.busy": "2023-10-30T07:40:59.077630Z",
     "iopub.status.idle": "2023-10-30T07:40:59.081525Z",
     "shell.execute_reply": "2023-10-30T07:40:59.081004Z"
    },
    "papermill": {
     "duration": 0.009326,
     "end_time": "2023-10-30T07:40:59.082780",
     "exception": false,
     "start_time": "2023-10-30T07:40:59.073454",
     "status": "completed"
    },
    "tags": [
     "injected-parameters"
    ]
   },
   "outputs": [],
   "source": [
    "# Parameters\n",
    "M_TIPO = \"mul_s\"\n",
    "M_SELECT = \"RF\"\n",
    "M_CLASIF = \"SVM\"\n",
    "P_FICHERO = \"param_0000_9322_mul_s_RF_SVM.yaml\"\n",
    "R_FICHERO = \"resultados_9322\"\n",
    "M_FICHERO = \"metricas_9322\"\n",
    "PRE_DATA_FILE = \"rows_transpose_norm_by_gene_id_with_target_num_\"\n",
    "SCORING = \"roc_auc_ovr\"\n",
    "SEMILLA = 9322\n",
    "MAX_ITERS = 500\n",
    "eval_selector = \"SelectFromModel(estimator=RandomForestClassifier(random_state=SEMILLA), threshold=-np.inf)\"\n",
    "eval_clasifier = \"SVC(probability=True, random_state=SEMILLA)\"\n",
    "param_distributions = {\n",
    "    \"selector__max_features\": [200],\n",
    "    \"selector__estimator__n_estimators\": [100],\n",
    "    \"clasifier__kernel\": [\"rbf\"],\n",
    "    \"clasifier__gamma\": [0.01],\n",
    "    \"clasifier__C\": [10],\n",
    "}\n"
   ]
  },
  {
   "cell_type": "code",
   "execution_count": 4,
   "id": "1b8fe080",
   "metadata": {
    "execution": {
     "iopub.execute_input": "2023-10-30T07:40:59.091050Z",
     "iopub.status.busy": "2023-10-30T07:40:59.090602Z",
     "iopub.status.idle": "2023-10-30T07:40:59.093848Z",
     "shell.execute_reply": "2023-10-30T07:40:59.093267Z"
    },
    "papermill": {
     "duration": 0.008819,
     "end_time": "2023-10-30T07:40:59.095158",
     "exception": false,
     "start_time": "2023-10-30T07:40:59.086339",
     "status": "completed"
    },
    "tags": []
   },
   "outputs": [],
   "source": [
    "DATA_FILE = PRE_DATA_FILE + M_TIPO\n",
    "\n",
    "# si viene \"None\" en el parámetro max_depth, se le quitan las comillas para que no sea entendido por el algoritmo como un texto\n",
    "if \"clasifier__max_depth\" in param_distributions:\n",
    "    param_distributions['clasifier__max_depth'] = [None if x == 'None' else x for x in param_distributions['clasifier__max_depth']]"
   ]
  },
  {
   "cell_type": "markdown",
   "id": "dfe89d0b",
   "metadata": {
    "papermill": {
     "duration": 0.00375,
     "end_time": "2023-10-30T07:40:59.102446",
     "exception": false,
     "start_time": "2023-10-30T07:40:59.098696",
     "status": "completed"
    },
    "tags": []
   },
   "source": [
    "Asignar los algoritmos que se utilizarán en la función RandomSearchCV"
   ]
  },
  {
   "cell_type": "code",
   "execution_count": 5,
   "id": "bc174155",
   "metadata": {
    "execution": {
     "iopub.execute_input": "2023-10-30T07:40:59.110709Z",
     "iopub.status.busy": "2023-10-30T07:40:59.110249Z",
     "iopub.status.idle": "2023-10-30T07:40:59.113135Z",
     "shell.execute_reply": "2023-10-30T07:40:59.112628Z"
    },
    "papermill": {
     "duration": 0.008318,
     "end_time": "2023-10-30T07:40:59.114325",
     "exception": false,
     "start_time": "2023-10-30T07:40:59.106007",
     "status": "completed"
    },
    "tags": []
   },
   "outputs": [],
   "source": [
    "algor_selector=eval(eval_selector)\n",
    "algor_clasifier=eval(eval_clasifier)"
   ]
  },
  {
   "cell_type": "markdown",
   "id": "06f59c1b",
   "metadata": {
    "papermill": {
     "duration": 0.00374,
     "end_time": "2023-10-30T07:40:59.121939",
     "exception": false,
     "start_time": "2023-10-30T07:40:59.118199",
     "status": "completed"
    },
    "tags": []
   },
   "source": [
    "#### Comprobar el entorno y leer fichero de muestras"
   ]
  },
  {
   "cell_type": "code",
   "execution_count": 6,
   "id": "6513e66d",
   "metadata": {
    "execution": {
     "iopub.execute_input": "2023-10-30T07:40:59.130454Z",
     "iopub.status.busy": "2023-10-30T07:40:59.130008Z",
     "iopub.status.idle": "2023-10-30T07:40:59.300872Z",
     "shell.execute_reply": "2023-10-30T07:40:59.300302Z"
    },
    "papermill": {
     "duration": 0.176616,
     "end_time": "2023-10-30T07:40:59.302156",
     "exception": false,
     "start_time": "2023-10-30T07:40:59.125540",
     "status": "completed"
    },
    "tags": []
   },
   "outputs": [
    {
     "name": "stdout",
     "output_type": "stream",
     "text": [
      "20231030T084059 : enderlab : INFO : Encontrada carpeta DATA_DIR=../tfm_git/datos\n",
      "20231030T084059 : enderlab : INFO : Encontrada carpeta CFDNA_DIR=../tfm_git/datos/cfDNA_5hmC\n",
      "20231030T084059 : enderlab : INFO : Encontrada carpeta GENCODE_DIR=../tfm_git/datos/gencode\n",
      "20231030T084059 : enderlab : INFO : Encontrada carpeta H5_DIR=../tfm_git/datos/h5\n",
      "20231030T084059 : enderlab : INFO : Encontrada carpeta LOG_DIR=../tfm_git/datos/logs\n",
      "20231030T084059 : enderlab : INFO : Encontrada carpeta CSV_DIR=../tfm_git/datos/csv\n",
      "20231030T084059 : enderlab : INFO : Encontrada carpeta MODEL_DIR=../tfm_git/ejecuciones/modelos\n",
      "20231030T084059 : enderlab : INFO : Encontrada carpeta EXEC_DIR=../tfm_git/ejecuciones\n",
      "20231030T084059 : enderlab : INFO : Encontrada carpeta MET_DIR=../tfm_git/ejecuciones/metricas\n",
      "20231030T084059 : enderlab : INFO : Inicio leer fichero h5 ../tfm_git/datos/h5/rows_transpose_norm_by_gene_id_with_target_num_mul_s.h5\n",
      "20231030T084059 : enderlab : INFO : Leyendo clave /df\n"
     ]
    },
    {
     "name": "stdout",
     "output_type": "stream",
     "text": [
      "20231030T084059 : enderlab : INFO : Tamaño (259, 18876)\n",
      "20231030T084059 : enderlab : INFO : Fin leer fichero h5 ../tfm_git/datos/h5/rows_transpose_norm_by_gene_id_with_target_num_mul_s.h5\n"
     ]
    },
    {
     "data": {
      "text/plain": [
       "target\n",
       "0    37\n",
       "1    37\n",
       "2    37\n",
       "3    37\n",
       "4    37\n",
       "5    37\n",
       "6    37\n",
       "dtype: int64"
      ]
     },
     "metadata": {},
     "output_type": "display_data"
    },
    {
     "name": "stdout",
     "output_type": "stream",
     "text": [
      "Shape df: (259, 18876)\n"
     ]
    },
    {
     "name": "stdout",
     "output_type": "stream",
     "text": [
      "Shape X_train: (207, 18875)\n",
      "Shape X_test: (52, 18875)\n"
     ]
    }
   ],
   "source": [
    "start_time = datetime.datetime.now()\n",
    "\n",
    "myfunc.reset_vars()\n",
    "\n",
    "myfunc.NOTEBK_FILENAME = myfunc.get_nb_name()\n",
    "\n",
    "myfunc.check_enviroment(myfunc.DATA_DIR, myfunc.CFDNA_DIR, myfunc.GENCODE_DIR, myfunc.H5_DIR, myfunc.LOG_DIR, myfunc.CSV_DIR, myfunc.MODEL_DIR, myfunc.EXEC_DIR, myfunc.MET_DIR)\n",
    "\n",
    "# Leer fichero con las muestras\n",
    "df_t = myfunc.read_h5_to_df(DATA_FILE, myfunc.H5_DIR)\n",
    "display(df_t.groupby(\"target\").size())\n",
    "print(\"Shape df:\",df_t.shape)\n",
    "\n",
    "# Separar caracteristicas/genes de las etiquetas/tipos de cáncer\n",
    "X = df_t.iloc[:, :-1]  # Todas las columnas excepto la última\n",
    "y = df_t.iloc[:, -1]  # La última columna contiene los identificadores de los tipos de cáncer\n",
    "\n",
    "#  Crear el conjunto de datos de entrenamiento y de pruebas, y se fija la semilla para siempre coger el mismo juego de muestras\n",
    "X_train, X_test, y_train, y_test = train_test_split(X, y, test_size=0.2, shuffle=True, random_state=42)\n",
    "print(\"Shape X_train:\",X_train.shape)\n",
    "print(\"Shape X_test:\",X_test.shape)\n"
   ]
  },
  {
   "cell_type": "markdown",
   "id": "6ff1d208",
   "metadata": {
    "papermill": {
     "duration": 0.004011,
     "end_time": "2023-10-30T07:40:59.310568",
     "exception": false,
     "start_time": "2023-10-30T07:40:59.306557",
     "status": "completed"
    },
    "tags": []
   },
   "source": [
    "#### Selección de características y clasificación."
   ]
  },
  {
   "cell_type": "code",
   "execution_count": 7,
   "id": "8025c90e",
   "metadata": {
    "execution": {
     "iopub.execute_input": "2023-10-30T07:40:59.320130Z",
     "iopub.status.busy": "2023-10-30T07:40:59.319635Z",
     "iopub.status.idle": "2023-10-30T07:41:03.605252Z",
     "shell.execute_reply": "2023-10-30T07:41:03.604423Z"
    },
    "papermill": {
     "duration": 4.292137,
     "end_time": "2023-10-30T07:41:03.606631",
     "exception": false,
     "start_time": "2023-10-30T07:40:59.314494",
     "status": "completed"
    },
    "tags": []
   },
   "outputs": [
    {
     "name": "stdout",
     "output_type": "stream",
     "text": [
      "20231030T084059 : enderlab : INFO : Iniciando entrenamiento\n",
      "num_iter: 1 , max_iter: 1\n"
     ]
    },
    {
     "name": "stdout",
     "output_type": "stream",
     "text": [
      "Fitting 5 folds for each of 1 candidates, totalling 5 fits\n"
     ]
    },
    {
     "name": "stdout",
     "output_type": "stream",
     "text": [
      "Mejores Hiperparámetros: {'selector__max_features': 200, 'selector__estimator__n_estimators': 100, 'clasifier__kernel': 'rbf', 'clasifier__gamma': 0.01, 'clasifier__C': 10}\n",
      "Mejor Puntuación: 0.7651\n",
      "20231030T084103 : enderlab : INFO : Fin entrenamiento\n"
     ]
    }
   ],
   "source": [
    "myfunc.verbose(\"Iniciando entrenamiento\")\n",
    "\n",
    "kf = KFold(n_splits=5, shuffle=True, random_state=SEMILLA)\n",
    "\n",
    "# Crear el pipeline para el flujo de tareas\n",
    "tasks_pipeline = Pipeline([\n",
    "    ('selector', algor_selector),\n",
    "    ('clasifier', algor_clasifier)\n",
    "])\n",
    "\n",
    "# MAX_ITERS puede limitar el número de iteraciones si son excesivas para las combinaciones de parámetros buscando un óptimo local, \n",
    "# sino funcionaría como GridSearchCV al revisar todas las cominaciones de los parámetros\n",
    "num_iteraciones = 1\n",
    "num_iteraciones = num_iteraciones * np.prod([len(elemento1) for _, elemento1 in param_distributions.items()])\n",
    "max_iteraciones = num_iteraciones if num_iteraciones <= MAX_ITERS else MAX_ITERS\n",
    "print(\"num_iter:\",num_iteraciones,\", max_iter:\",max_iteraciones)\n",
    "\n",
    "random_search = RandomizedSearchCV(\n",
    "    tasks_pipeline, \n",
    "    param_distributions, \n",
    "    n_iter=max_iteraciones,\n",
    "    scoring=SCORING,\n",
    "    cv=kf,\n",
    "    verbose=3, \n",
    "    random_state=SEMILLA, \n",
    "    n_jobs=-1\n",
    "    )\n",
    "\n",
    "# Entrenar el modelo\n",
    "random_search.fit(X_train, y_train)\n",
    "\n",
    "# Ver los mejores hiperparámetros encontrados\n",
    "print(f'Mejores Hiperparámetros: {random_search.best_params_}')\n",
    "print(f'Mejor Puntuación: {random_search.best_score_:.4f}')\n",
    "\n",
    "# Nos quedamos con el mejor modelo para ver las métricas\n",
    "mejor_modelo = random_search.best_estimator_\n",
    "\n",
    "myfunc.verbose(\"Fin entrenamiento\")"
   ]
  },
  {
   "cell_type": "markdown",
   "id": "aa5f092c",
   "metadata": {
    "papermill": {
     "duration": 0.004363,
     "end_time": "2023-10-30T07:41:03.615647",
     "exception": false,
     "start_time": "2023-10-30T07:41:03.611284",
     "status": "completed"
    },
    "tags": []
   },
   "source": [
    "#### Guardar modelo"
   ]
  },
  {
   "cell_type": "code",
   "execution_count": 8,
   "id": "9dc49d23",
   "metadata": {
    "execution": {
     "iopub.execute_input": "2023-10-30T07:41:03.625852Z",
     "iopub.status.busy": "2023-10-30T07:41:03.625171Z",
     "iopub.status.idle": "2023-10-30T07:41:03.681006Z",
     "shell.execute_reply": "2023-10-30T07:41:03.680421Z"
    },
    "papermill": {
     "duration": 0.062435,
     "end_time": "2023-10-30T07:41:03.682273",
     "exception": false,
     "start_time": "2023-10-30T07:41:03.619838",
     "status": "completed"
    },
    "tags": []
   },
   "outputs": [
    {
     "name": "stdout",
     "output_type": "stream",
     "text": [
      "20231030T084103 : enderlab : INFO : Inicio guardar fichero ../tfm_git/ejecuciones/modelos/modelo_9322_mul_s_RF_SVM.pkl\n",
      "20231030T084103 : enderlab : INFO : Fin guardar fichero ../tfm_git/ejecuciones/modelos/modelo_9322_mul_s_RF_SVM.pkl\n"
     ]
    }
   ],
   "source": [
    "fichero_modelo = str.replace(\"modelo_\"+str(SEMILLA).zfill(4)+\"_\"+M_TIPO+\"_\"+M_SELECT+\"_\"+M_CLASIF+\".pkl\", \" \", \"_\")\n",
    "\n",
    "myfunc.save_modelo(mejor_modelo, myfunc.MODEL_DIR, fichero_modelo)"
   ]
  },
  {
   "cell_type": "markdown",
   "id": "4571d148",
   "metadata": {
    "papermill": {
     "duration": 0.00423,
     "end_time": "2023-10-30T07:41:03.690889",
     "exception": false,
     "start_time": "2023-10-30T07:41:03.686659",
     "status": "completed"
    },
    "tags": []
   },
   "source": [
    "#### Ver resultados del las iteraciones hechas por RandomSearchCV"
   ]
  },
  {
   "cell_type": "code",
   "execution_count": 9,
   "id": "b662d699",
   "metadata": {
    "execution": {
     "iopub.execute_input": "2023-10-30T07:41:03.700293Z",
     "iopub.status.busy": "2023-10-30T07:41:03.699887Z",
     "iopub.status.idle": "2023-10-30T07:41:03.708075Z",
     "shell.execute_reply": "2023-10-30T07:41:03.707543Z"
    },
    "papermill": {
     "duration": 0.014282,
     "end_time": "2023-10-30T07:41:03.709287",
     "exception": false,
     "start_time": "2023-10-30T07:41:03.695005",
     "status": "completed"
    },
    "tags": []
   },
   "outputs": [
    {
     "name": "stdout",
     "output_type": "stream",
     "text": [
      "20231030T084103 : enderlab : INFO : Inicio ver resultados\n",
      "Mejores Hiperparámetros: {'selector__max_features': 200, 'selector__estimator__n_estimators': 100, 'clasifier__kernel': 'rbf', 'clasifier__gamma': 0.01, 'clasifier__C': 10}\n",
      "Mejores puntuaciones: 0.7651 | Params: {'selector__max_features': 200, 'selector__estimator__n_estimators': 100, 'clasifier__kernel': 'rbf', 'clasifier__gamma': 0.01, 'clasifier__C': 10}\n",
      "Media de las puntuaciones: 0.7651 | Params: {'selector__max_features': 200, 'selector__estimator__n_estimators': 100, 'clasifier__kernel': 'rbf', 'clasifier__gamma': 0.01, 'clasifier__C': 10}\n",
      "20231030T084103 : enderlab : INFO : Fin resultados\n"
     ]
    }
   ],
   "source": [
    "myfunc.ver_resultados_search(random_search)"
   ]
  },
  {
   "cell_type": "markdown",
   "id": "c15a8845",
   "metadata": {
    "papermill": {
     "duration": 0.004235,
     "end_time": "2023-10-30T07:41:03.717963",
     "exception": false,
     "start_time": "2023-10-30T07:41:03.713728",
     "status": "completed"
    },
    "tags": []
   },
   "source": [
    "#### Ver métricas del mejor modelo"
   ]
  },
  {
   "cell_type": "code",
   "execution_count": 10,
   "id": "1de17159",
   "metadata": {
    "execution": {
     "iopub.execute_input": "2023-10-30T07:41:03.727807Z",
     "iopub.status.busy": "2023-10-30T07:41:03.727371Z",
     "iopub.status.idle": "2023-10-30T07:41:04.529234Z",
     "shell.execute_reply": "2023-10-30T07:41:04.528544Z"
    },
    "papermill": {
     "duration": 0.808394,
     "end_time": "2023-10-30T07:41:04.530611",
     "exception": false,
     "start_time": "2023-10-30T07:41:03.722217",
     "status": "completed"
    },
    "tags": []
   },
   "outputs": [
    {
     "name": "stdout",
     "output_type": "stream",
     "text": [
      "20231030T084103 : enderlab : INFO : Inicio ver métricas multiclase\n"
     ]
    },
    {
     "name": "stdout",
     "output_type": "stream",
     "text": [
      "              precision    recall  f1-score   support\n",
      "\n",
      "           0       0.33      0.09      0.14        11\n",
      "           1       0.80      0.50      0.62         8\n",
      "           2       0.33      0.50      0.40         8\n",
      "           3       0.17      0.20      0.18         5\n",
      "           4       0.54      0.88      0.67         8\n",
      "           5       0.50      0.67      0.57         6\n",
      "           6       0.40      0.33      0.36         6\n",
      "\n",
      "    accuracy                           0.44        52\n",
      "   macro avg       0.44      0.45      0.42        52\n",
      "weighted avg       0.45      0.44      0.41        52\n",
      "\n",
      "\n",
      "\n",
      "           Exactitud: 0.442308\n",
      "   Precisión (media): 0.438828\n",
      "      Recall (media): 0.452273\n",
      "    F1-score (media): 0.420256\n",
      "\n",
      "\n",
      "AUC para el tipo de cáncer 0-Control.... 0.5876\n",
      "AUC para el tipo de cáncer 1-Bladder.... 0.8097\n",
      "AUC para el tipo de cáncer 2-Breast..... 0.7216\n",
      "AUC para el tipo de cáncer 3-Colorectal. 0.5915\n",
      "AUC para el tipo de cáncer 4-Kidney..... 0.9716\n",
      "AUC para el tipo de cáncer 5-Lung....... 0.8986\n",
      "AUC para el tipo de cáncer 6-Prostate... 0.8225\n",
      "\n",
      "Media de AUC: 0.7718\n"
     ]
    },
    {
     "data": {
      "image/png": "[encoded data removed]",
      "text/plain": [
       "<Figure size 1000x600 with 1 Axes>"
      ]
     },
     "metadata": {},
     "output_type": "display_data"
    },
    {
     "name": "stdout",
     "output_type": "stream",
     "text": [
      "\n",
      "\n"
     ]
    },
    {
     "data": {
      "image/png": "[encoded data removed]",
      "text/plain": [
       "<Figure size 800x400 with 2 Axes>"
      ]
     },
     "metadata": {},
     "output_type": "display_data"
    },
    {
     "name": "stdout",
     "output_type": "stream",
     "text": [
      "\n",
      "\n",
      "Puntuación Jaccard para el cáncer tipo 0-Control.... 0.0769\n",
      "Puntuación Jaccard para el cáncer tipo 1-Bladder.... 0.4444\n",
      "Puntuación Jaccard para el cáncer tipo 2-Breast..... 0.2500\n",
      "Puntuación Jaccard para el cáncer tipo 3-Colorectal. 0.1000\n",
      "Puntuación Jaccard para el cáncer tipo 4-Kidney..... 0.5000\n",
      "Puntuación Jaccard para el cáncer tipo 5-Lung....... 0.4000\n",
      "Puntuación Jaccard para el cáncer tipo 6-Prostate... 0.2222\n",
      "\n",
      "Media de la puntuación de Jaccard: 0.2848\n"
     ]
    }
   ],
   "source": [
    "if M_TIPO.startswith(\"bin\"):\n",
    "    myfunc.ver_metricas(mejor_modelo, X_test, y_test)\n",
    "else:\n",
    "    myfunc.ver_metricas_multi(mejor_modelo, X_test, y_test)\n"
   ]
  },
  {
   "cell_type": "markdown",
   "id": "aad03b51",
   "metadata": {
    "papermill": {
     "duration": 0.006367,
     "end_time": "2023-10-30T07:41:04.545855",
     "exception": false,
     "start_time": "2023-10-30T07:41:04.539488",
     "status": "completed"
    },
    "tags": []
   },
   "source": [
    "#### Finalización del notebook"
   ]
  },
  {
   "cell_type": "code",
   "execution_count": 11,
   "id": "6900c3b2",
   "metadata": {
    "execution": {
     "iopub.execute_input": "2023-10-30T07:41:04.559089Z",
     "iopub.status.busy": "2023-10-30T07:41:04.558492Z",
     "iopub.status.idle": "2023-10-30T07:41:04.562296Z",
     "shell.execute_reply": "2023-10-30T07:41:04.561752Z"
    },
    "papermill": {
     "duration": 0.011881,
     "end_time": "2023-10-30T07:41:04.563579",
     "exception": false,
     "start_time": "2023-10-30T07:41:04.551698",
     "status": "completed"
    },
    "tags": []
   },
   "outputs": [
    {
     "name": "stdout",
     "output_type": "stream",
     "text": [
      "20231030T084104 : enderlab : INFO : Notebook ha tardado 5 seconds\n"
     ]
    }
   ],
   "source": [
    "end_time = datetime.datetime.now()\n",
    "total_time = end_time - start_time\n",
    "myfunc.verbose(f\"Notebook ha tardado {total_time.seconds} seconds\")"
   ]
  },
  {
   "cell_type": "markdown",
   "id": "e7b7a378",
   "metadata": {
    "papermill": {
     "duration": 0.005792,
     "end_time": "2023-10-30T07:41:04.575241",
     "exception": false,
     "start_time": "2023-10-30T07:41:04.569449",
     "status": "completed"
    },
    "tags": []
   },
   "source": [
    "#### Guardar métricas"
   ]
  },
  {
   "cell_type": "code",
   "execution_count": 12,
   "id": "5e8f4951",
   "metadata": {
    "execution": {
     "iopub.execute_input": "2023-10-30T07:41:04.587910Z",
     "iopub.status.busy": "2023-10-30T07:41:04.587539Z",
     "iopub.status.idle": "2023-10-30T07:41:04.951792Z",
     "shell.execute_reply": "2023-10-30T07:41:04.951216Z"
    },
    "papermill": {
     "duration": 0.372163,
     "end_time": "2023-10-30T07:41:04.953180",
     "exception": false,
     "start_time": "2023-10-30T07:41:04.581017",
     "status": "completed"
    },
    "tags": []
   },
   "outputs": [
    {
     "name": "stdout",
     "output_type": "stream",
     "text": [
      "20231030T084104 : enderlab : INFO : Inicio guardar métricas multiclase\n",
      "20231030T084104 : enderlab : INFO : Inicio leer fichero ../tfm_git/ejecuciones/metricas/metricas_9322.csv\n",
      "20231030T084104 : enderlab : INFO : Fin leer fichero ../tfm_git/ejecuciones/metricas/metricas_9322.csv\n"
     ]
    },
    {
     "name": "stdout",
     "output_type": "stream",
     "text": [
      "20231030T084104 : enderlab : INFO : Inicio guardar fichero ../tfm_git/ejecuciones/metricas/metricas_9322.csv\n",
      "20231030T084104 : enderlab : INFO : Fichero borrado ../tfm_git/ejecuciones/metricas/metricas_9322.csv\n",
      "20231030T084104 : enderlab : INFO : Fin guardar fichero ../tfm_git/ejecuciones/metricas/metricas_9322.csv\n",
      "20231030T084104 : enderlab : INFO : Fin guardar métricas multiclase\n",
      "20231030T084104 : enderlab : INFO : Inicio leer fichero ../tfm_git/ejecuciones/metricas/metricas_9322.csv\n",
      "20231030T084104 : enderlab : INFO : Fin leer fichero ../tfm_git/ejecuciones/metricas/metricas_9322.csv\n"
     ]
    },
    {
     "data": {
      "text/html": [
       "<div>\n",
       "<style scoped>\n",
       "    .dataframe tbody tr th:only-of-type {\n",
       "        vertical-align: middle;\n",
       "    }\n",
       "\n",
       "    .dataframe tbody tr th {\n",
       "        vertical-align: top;\n",
       "    }\n",
       "\n",
       "    .dataframe thead th {\n",
       "        text-align: right;\n",
       "    }\n",
       "</style>\n",
       "<table border=\"1\" class=\"dataframe\">\n",
       "  <thead>\n",
       "    <tr style=\"text-align: right;\">\n",
       "      <th></th>\n",
       "      <th>tipo</th>\n",
       "      <th>select</th>\n",
       "      <th>clasific</th>\n",
       "      <th>semilla</th>\n",
       "      <th>accuracy</th>\n",
       "      <th>precision</th>\n",
       "      <th>recall</th>\n",
       "      <th>f1_score</th>\n",
       "      <th>roc_auc</th>\n",
       "      <th>hostname</th>\n",
       "      <th>total_time_sec</th>\n",
       "      <th>datetime</th>\n",
       "      <th>fichero_modelo</th>\n",
       "      <th>params</th>\n",
       "      <th>shape</th>\n",
       "      <th>features</th>\n",
       "      <th>roc_auc_ovr</th>\n",
       "      <th>indices_auc</th>\n",
       "      <th>indices_jaccard</th>\n",
       "    </tr>\n",
       "  </thead>\n",
       "  <tbody>\n",
       "    <tr>\n",
       "      <th>0</th>\n",
       "      <td>mul_s</td>\n",
       "      <td>RF</td>\n",
       "      <td>SVM</td>\n",
       "      <td>9322</td>\n",
       "      <td>0.442308</td>\n",
       "      <td>0.438828</td>\n",
       "      <td>0.452273</td>\n",
       "      <td>0.420256</td>\n",
       "      <td>NaN</td>\n",
       "      <td>enderlab</td>\n",
       "      <td>5</td>\n",
       "      <td>2023-10-30 08:41:04.895231</td>\n",
       "      <td>modelo_9322_mul_s_RF_SVM.pkl</td>\n",
       "      <td>{'selector__max_features': 200, 'selector__est...</td>\n",
       "      <td>X_test:(52, 18875)</td>\n",
       "      <td>['ENSG00000006071.16', 'ENSG00000006534.17', '...</td>\n",
       "      <td>0.771847</td>\n",
       "      <td>[0.5875831485587583, 0.8096590909090908, 0.721...</td>\n",
       "      <td>[0.07692307692307693, 0.4444444444444444, 0.25...</td>\n",
       "    </tr>\n",
       "    <tr>\n",
       "      <th>0</th>\n",
       "      <td>mul_s</td>\n",
       "      <td>RF</td>\n",
       "      <td>LR_L2</td>\n",
       "      <td>9322</td>\n",
       "      <td>0.365385</td>\n",
       "      <td>0.368707</td>\n",
       "      <td>0.359307</td>\n",
       "      <td>0.350288</td>\n",
       "      <td>NaN</td>\n",
       "      <td>enderlab</td>\n",
       "      <td>15</td>\n",
       "      <td>2023-10-30 08:40:52.330706</td>\n",
       "      <td>modelo_9322_mul_s_RF_LR_L2.pkl</td>\n",
       "      <td>{'selector__max_features': 500, 'selector__est...</td>\n",
       "      <td>X_test:(52, 18875)</td>\n",
       "      <td>['ENSG00000002549.13', 'ENSG00000006071.16', '...</td>\n",
       "      <td>0.794527</td>\n",
       "      <td>[0.6119733924611973, 0.8011363636363636, 0.764...</td>\n",
       "      <td>[0.10526315789473684, 0.3333333333333333, 0.15...</td>\n",
       "    </tr>\n",
       "    <tr>\n",
       "      <th>0</th>\n",
       "      <td>mul_s</td>\n",
       "      <td>RF</td>\n",
       "      <td>LR_L1</td>\n",
       "      <td>9322</td>\n",
       "      <td>0.442308</td>\n",
       "      <td>0.469898</td>\n",
       "      <td>0.442641</td>\n",
       "      <td>0.427586</td>\n",
       "      <td>NaN</td>\n",
       "      <td>enderlab</td>\n",
       "      <td>419</td>\n",
       "      <td>2023-10-30 08:40:29.221464</td>\n",
       "      <td>modelo_9322_mul_s_RF_LR_L1.pkl</td>\n",
       "      <td>{'selector__max_features': 500, 'selector__est...</td>\n",
       "      <td>X_test:(52, 18875)</td>\n",
       "      <td>['ENSG00000006016.12', 'ENSG00000006071.16', '...</td>\n",
       "      <td>0.751140</td>\n",
       "      <td>[0.5742793791574279, 0.6931818181818181, 0.715...</td>\n",
       "      <td>[0.125, 0.375, 0.23076923076923078, 0.0, 0.8, ...</td>\n",
       "    </tr>\n",
       "  </tbody>\n",
       "</table>\n",
       "</div>"
      ],
      "text/plain": [
       "    tipo select clasific  semilla  accuracy  precision    recall  f1_score  \\\n",
       "0  mul_s     RF      SVM     9322  0.442308   0.438828  0.452273  0.420256   \n",
       "0  mul_s     RF    LR_L2     9322  0.365385   0.368707  0.359307  0.350288   \n",
       "0  mul_s     RF    LR_L1     9322  0.442308   0.469898  0.442641  0.427586   \n",
       "\n",
       "   roc_auc  hostname  total_time_sec                    datetime  \\\n",
       "0      NaN  enderlab               5  2023-10-30 08:41:04.895231   \n",
       "0      NaN  enderlab              15  2023-10-30 08:40:52.330706   \n",
       "0      NaN  enderlab             419  2023-10-30 08:40:29.221464   \n",
       "\n",
       "                   fichero_modelo  \\\n",
       "0    modelo_9322_mul_s_RF_SVM.pkl   \n",
       "0  modelo_9322_mul_s_RF_LR_L2.pkl   \n",
       "0  modelo_9322_mul_s_RF_LR_L1.pkl   \n",
       "\n",
       "                                              params               shape  \\\n",
       "0  {'selector__max_features': 200, 'selector__est...  X_test:(52, 18875)   \n",
       "0  {'selector__max_features': 500, 'selector__est...  X_test:(52, 18875)   \n",
       "0  {'selector__max_features': 500, 'selector__est...  X_test:(52, 18875)   \n",
       "\n",
       "                                            features  roc_auc_ovr  \\\n",
       "0  ['ENSG00000006071.16', 'ENSG00000006534.17', '...     0.771847   \n",
       "0  ['ENSG00000002549.13', 'ENSG00000006071.16', '...     0.794527   \n",
       "0  ['ENSG00000006016.12', 'ENSG00000006071.16', '...     0.751140   \n",
       "\n",
       "                                         indices_auc  \\\n",
       "0  [0.5875831485587583, 0.8096590909090908, 0.721...   \n",
       "0  [0.6119733924611973, 0.8011363636363636, 0.764...   \n",
       "0  [0.5742793791574279, 0.6931818181818181, 0.715...   \n",
       "\n",
       "                                     indices_jaccard  \n",
       "0  [0.07692307692307693, 0.4444444444444444, 0.25...  \n",
       "0  [0.10526315789473684, 0.3333333333333333, 0.15...  \n",
       "0  [0.125, 0.375, 0.23076923076923078, 0.0, 0.8, ...  "
      ]
     },
     "metadata": {},
     "output_type": "display_data"
    }
   ],
   "source": [
    "if M_TIPO.startswith(\"bin\"):\n",
    "    myfunc.save_metricas_to_csv(random_search, X_test, y_test, M_TIPO, M_SELECT, M_CLASIF, total_time, SEMILLA, myfunc.MET_DIR, M_FICHERO, fichero_modelo)\n",
    "else:\n",
    "    myfunc.save_metricas_multi_to_csv(random_search, X_test, y_test, M_TIPO, M_SELECT, M_CLASIF, total_time, SEMILLA, myfunc.MET_DIR, M_FICHERO, fichero_modelo)\n",
    "\n",
    "df1=myfunc.read_metricas_to_df(myfunc.MET_DIR,M_FICHERO)\n",
    "\n",
    "display(df1.sort_values(\"datetime\", ascending=False)[:3])\n"
   ]
  },
  {
   "cell_type": "markdown",
   "id": "bba7ee48",
   "metadata": {
    "papermill": {
     "duration": 0.006224,
     "end_time": "2023-10-30T07:41:04.966158",
     "exception": false,
     "start_time": "2023-10-30T07:41:04.959934",
     "status": "completed"
    },
    "tags": []
   },
   "source": [
    "#### Guardar resultados"
   ]
  },
  {
   "cell_type": "code",
   "execution_count": 13,
   "id": "0794e6cc",
   "metadata": {
    "execution": {
     "iopub.execute_input": "2023-10-30T07:41:04.979988Z",
     "iopub.status.busy": "2023-10-30T07:41:04.979383Z",
     "iopub.status.idle": "2023-10-30T07:41:04.988833Z",
     "shell.execute_reply": "2023-10-30T07:41:04.988274Z"
    },
    "papermill": {
     "duration": 0.01784,
     "end_time": "2023-10-30T07:41:04.990099",
     "exception": false,
     "start_time": "2023-10-30T07:41:04.972259",
     "status": "completed"
    },
    "tags": []
   },
   "outputs": [
    {
     "name": "stdout",
     "output_type": "stream",
     "text": [
      "20231030T084104 : enderlab : INFO : Inicio guardar resultados\n",
      "20231030T084104 : enderlab : INFO : Inicio guardar fichero ../tfm_git/ejecuciones/metricas/resultados_9322_mul_s-RF-SVM.csv\n",
      "20231030T084104 : enderlab : INFO : Fin guardar fichero ../tfm_git/ejecuciones/metricas/resultados_9322_mul_s-RF-SVM.csv\n",
      "20231030T084104 : enderlab : INFO : Fin guardar resultados\n"
     ]
    }
   ],
   "source": [
    "fichero_resultados=R_FICHERO+\"_\"+M_TIPO+\"-\"+M_SELECT+\"-\"+M_CLASIF+\".csv\"\n",
    "myfunc.save_resultados_to_csv(M_TIPO, M_SELECT, M_CLASIF,  random_search, myfunc.MET_DIR, fichero_resultados)\n"
   ]
  }
 ],
 "metadata": {
  "kernelspec": {
   "display_name": "Python 3 (ipykernel)",
   "language": "python",
   "name": "python3"
  },
  "language_info": {
   "codemirror_mode": {
    "name": "ipython",
    "version": 3
   },
   "file_extension": ".py",
   "mimetype": "text/x-python",
   "name": "python",
   "nbconvert_exporter": "python",
   "pygments_lexer": "ipython3",
   "version": "3.10.11"
  },
  "papermill": {
   "default_parameters": {},
   "duration": 10.912861,
   "end_time": "2023-10-30T07:41:07.614017",
   "environment_variables": {},
   "exception": null,
   "input_path": "03_entrenamiento.ipynb",
   "output_path": "ejecuciones/training/03_entrenamiento.20231030T084056.param_0000_9322_mul_s_RF_SVM.output.ipynb",
   "parameters": {
    "MAX_ITERS": 500,
    "M_CLASIF": "SVM",
    "M_FICHERO": "metricas_9322",
    "M_SELECT": "RF",
    "M_TIPO": "mul_s",
    "PRE_DATA_FILE": "rows_transpose_norm_by_gene_id_with_target_num_",
    "P_FICHERO": "param_0000_9322_mul_s_RF_SVM.yaml",
    "R_FICHERO": "resultados_9322",
    "SCORING": "roc_auc_ovr",
    "SEMILLA": 9322,
    "eval_clasifier": "SVC(probability=True, random_state=SEMILLA)",
    "eval_selector": "SelectFromModel(estimator=RandomForestClassifier(random_state=SEMILLA), threshold=-np.inf)",
    "param_distributions": {
     "clasifier__C": [
      10
     ],
     "clasifier__gamma": [
      0.01
     ],
     "clasifier__kernel": [
      "rbf"
     ],
     "selector__estimator__n_estimators": [
      100
     ],
     "selector__max_features": [
      200
     ]
    }
   },
   "start_time": "2023-10-30T07:40:56.701156",
   "version": "2.4.0"
  }
 },
 "nbformat": 4,
 "nbformat_minor": 5
}