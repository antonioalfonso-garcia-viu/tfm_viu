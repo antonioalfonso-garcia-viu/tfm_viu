{
 "cells": [
  {
   "cell_type": "markdown",
   "id": "aaed8693",
   "metadata": {
    "papermill": {
     "duration": 0.005384,
     "end_time": "2023-10-30T07:23:49.466711",
     "exception": false,
     "start_time": "2023-10-30T07:23:49.461327",
     "status": "completed"
    },
    "tags": []
   },
   "source": [
    "##### Inicio"
   ]
  },
  {
   "cell_type": "markdown",
   "id": "c4c35feb",
   "metadata": {
    "papermill": {
     "duration": 0.003335,
     "end_time": "2023-10-30T07:23:49.473711",
     "exception": false,
     "start_time": "2023-10-30T07:23:49.470376",
     "status": "completed"
    },
    "tags": []
   },
   "source": [
    "#### Carga de datos"
   ]
  },
  {
   "cell_type": "code",
   "execution_count": 1,
   "id": "d9e259dc",
   "metadata": {
    "execution": {
     "iopub.execute_input": "2023-10-30T07:23:49.481807Z",
     "iopub.status.busy": "2023-10-30T07:23:49.481223Z",
     "iopub.status.idle": "2023-10-30T07:23:50.599297Z",
     "shell.execute_reply": "2023-10-30T07:23:50.598693Z"
    },
    "papermill": {
     "duration": 1.123854,
     "end_time": "2023-10-30T07:23:50.600865",
     "exception": false,
     "start_time": "2023-10-30T07:23:49.477011",
     "status": "completed"
    },
    "tags": []
   },
   "outputs": [
    {
     "name": "stdout",
     "output_type": "stream",
     "text": [
      "CPU_COUNT: 16; NODE: enderlab; sys.version: 3.10.11 (main, May 16 2023, 00:28:57) [GCC 11.2.0]\n",
      "LOKY_MAX_CPU_COUNT is not set.\n",
      "OMP_NUM_THREADS is not set.\n"
     ]
    }
   ],
   "source": [
    "import os\n",
    "import numpy as np\n",
    "import pandas as pd\n",
    "import datetime\n",
    "import sklearn\n",
    "import logging\n",
    "import warnings\n",
    "\n",
    "from sklearn.pipeline import Pipeline\n",
    "from sklearn.model_selection import RandomizedSearchCV, KFold, cross_val_score, train_test_split\n",
    "from sklearn.metrics import accuracy_score, confusion_matrix, classification_report, roc_auc_score\n",
    "\n",
    "#  cargar algoritmos para aprendizaje supervisado\n",
    "from sklearn.feature_selection import SelectKBest, f_classif, SelectFromModel, mutual_info_classif\n",
    "from sklearn.svm import SVC\n",
    "from sklearn.ensemble import RandomForestClassifier\n",
    "from sklearn.linear_model import LogisticRegression,LogisticRegressionCV\n",
    "\n",
    "# importar fichero con utilidades propias\n",
    "from commons import myfunctions as myfunc\n"
   ]
  },
  {
   "cell_type": "markdown",
   "id": "2bac77e5",
   "metadata": {
    "papermill": {
     "duration": 0.004047,
     "end_time": "2023-10-30T07:23:50.608925",
     "exception": false,
     "start_time": "2023-10-30T07:23:50.604878",
     "status": "completed"
    },
    "tags": []
   },
   "source": [
    "#### Parámetros a utilizar en el entrenamiento.\n",
    "\n",
    "Se indican los 3 algoritmos de *selección de características* (eval_selector_xxx) y los 3 algoritmos para la _clasificación_ (eval_clasifier_xxx)\n",
    "\n",
    "En *param_distributions* se indicar los parámetros que utilizan los algoritmos en la función RandomSearchCV.\n",
    "\n",
    "Esta celda tiene la etiqueta **parameters** que servirá para poder lanzar los entrenamientos con la utilidad **papermill** pasándole un fichero con los parámetros. Los nuevos parámetros se situarán tras esta celda para tener prevalencia."
   ]
  },
  {
   "cell_type": "code",
   "execution_count": 2,
   "id": "48d4e024",
   "metadata": {
    "execution": {
     "iopub.execute_input": "2023-10-30T07:23:50.618481Z",
     "iopub.status.busy": "2023-10-30T07:23:50.617862Z",
     "iopub.status.idle": "2023-10-30T07:23:50.626752Z",
     "shell.execute_reply": "2023-10-30T07:23:50.626177Z"
    },
    "papermill": {
     "duration": 0.015558,
     "end_time": "2023-10-30T07:23:50.628056",
     "exception": false,
     "start_time": "2023-10-30T07:23:50.612498",
     "status": "completed"
    },
    "tags": [
     "parameters"
    ]
   },
   "outputs": [
    {
     "name": "stdout",
     "output_type": "stream",
     "text": [
      "20231030T082350 : enderlab : INFO : Utilizando parámetros de mul_m\n"
     ]
    }
   ],
   "source": [
    "#  Parametros para el entrenamiento\n",
    "\n",
    "SEMILLA=        42\n",
    "M_TIPO=         \"mul_m\"\n",
    "M_SELECT=       \"MI\"\n",
    "M_CLASIF=       \"SVM\"\n",
    "R_FICHERO=      \"resultados\"\n",
    "M_FICHERO=      \"metricas\"\n",
    "PRE_DATA_FILE=  \"rows_transpose_norm_by_gene_id_with_target_num_\"\n",
    "SCORING=        \"roc_auc_ovr\" \n",
    "MAX_ITERS=      100\n",
    "\n",
    "def mutual_info_classif_state(X, y):\n",
    "    return mutual_info_classif(X, y, random_state=SEMILLA)\n",
    "\n",
    "eval_selector_mi = \"SelectKBest(score_func=mutual_info_classif_state)\"\n",
    "eval_selector_rf=  \"SelectFromModel(estimator=RandomForestClassifier(random_state=SEMILLA), threshold=-np.inf)\"\n",
    "eval_selector_anova=  \"SelectKBest(score_func=f_classif)\"\n",
    "\n",
    "eval_clasifier_svm= \"SVC(probability=True, random_state=SEMILLA)\"\n",
    "eval_clasifier_rf= \"RandomForestClassifier(random_state=SEMILLA)\"\n",
    "eval_clasifier_lr= \"LogisticRegressionCV(random_state=SEMILLA)\"\n",
    "\n",
    "if M_TIPO.startswith(\"bin_m\"):\n",
    "    myfunc.verbose(f\"Utilizando parámetros de {M_TIPO}\")\n",
    "    eval_selector = eval_selector_mi\n",
    "    eval_clasifier = eval_clasifier_svm\n",
    "\n",
    "    SEMILLA = 6578\n",
    "    M_SELECT = \"MI\"\n",
    "    M_CLASIF = \"SVM\"\n",
    "    param_distributions = {'selector__k': [1000], \n",
    "         'clasifier__kernel': ['rbf'], 'clasifier__gamma': [0.01], 'clasifier__C': [100]}\n",
    "elif M_TIPO.startswith(\"bin_s\"):\n",
    "    myfunc.verbose(f\"Utilizando parámetros de {M_TIPO}\")\n",
    "    eval_selector = eval_selector_rf\n",
    "    eval_clasifier = eval_clasifier_lr\n",
    "\n",
    "    SEMILLA = 6191\n",
    "    M_SELECT = \"RF\"\n",
    "    M_CLASIF = \"LR_L2\"\n",
    "    param_distributions = {'selector__max_features': [1000], 'selector__estimator__n_estimators': [200], \n",
    "        'clasifier__solver': ['lbfgs'], 'clasifier__penalty': ['l2'], 'clasifier__max_iter': [10000]}\n",
    "\n",
    "elif M_TIPO.startswith(\"mul_m\"):\n",
    "    myfunc.verbose(f\"Utilizando parámetros de {M_TIPO}\")\n",
    " \n",
    "    eval_selector = eval_selector_rf\n",
    "    eval_clasifier = eval_clasifier_lr\n",
    "\n",
    "    SEMILLA = 6191\n",
    "    M_SELECT = \"RF\"\n",
    "    M_CLASIF = \"LR_L2\"\n",
    "    param_distributions = {'selector__max_features': [1000], 'selector__estimator__n_estimators': [400], \n",
    "        'clasifier__solver': ['lbfgs'], 'clasifier__penalty': ['l2'], 'clasifier__max_iter': [10000]}\n",
    "\n",
    "else:\n",
    "    # M_TIPO.startswith(\"mul_s\"):\n",
    "    myfunc.verbose(f\"Utilizando parámetros de {M_TIPO}\")\n",
    "    eval_selector = eval_selector_anova\n",
    "    eval_clasifier = eval_clasifier_lr\n",
    "\n",
    "    SEMILLA = 1860\n",
    "    M_SELECT = \"ANOVA\"\n",
    "    M_CLASIF = \"LR_L2\"\n",
    "    param_distributions = {'selector__k': [1000], \n",
    "        'clasifier__solver': ['saga'], 'clasifier__penalty': ['l2'], 'clasifier__max_iter': [10000]}\n",
    "\n"
   ]
  },
  {
   "cell_type": "code",
   "execution_count": 3,
   "id": "e8e8b31d",
   "metadata": {
    "execution": {
     "iopub.execute_input": "2023-10-30T07:23:50.636720Z",
     "iopub.status.busy": "2023-10-30T07:23:50.636424Z",
     "iopub.status.idle": "2023-10-30T07:23:50.640536Z",
     "shell.execute_reply": "2023-10-30T07:23:50.640011Z"
    },
    "papermill": {
     "duration": 0.010019,
     "end_time": "2023-10-30T07:23:50.641869",
     "exception": false,
     "start_time": "2023-10-30T07:23:50.631850",
     "status": "completed"
    },
    "tags": [
     "injected-parameters"
    ]
   },
   "outputs": [],
   "source": [
    "# Parameters\n",
    "M_TIPO = \"mul_s\"\n",
    "M_SELECT = \"MI\"\n",
    "M_CLASIF = \"SVM\"\n",
    "P_FICHERO = \"param_0000_9322_mul_s_MI_SVM.yaml\"\n",
    "R_FICHERO = \"resultados_9322\"\n",
    "M_FICHERO = \"metricas_9322\"\n",
    "PRE_DATA_FILE = \"rows_transpose_norm_by_gene_id_with_target_num_\"\n",
    "SCORING = \"roc_auc_ovr\"\n",
    "SEMILLA = 9322\n",
    "MAX_ITERS = 500\n",
    "eval_selector = \"SelectKBest(score_func=mutual_info_classif_state)\"\n",
    "eval_clasifier = \"SVC(probability=True, random_state=SEMILLA)\"\n",
    "param_distributions = {\n",
    "    \"selector__k\": [1000],\n",
    "    \"clasifier__kernel\": [\"rbf\"],\n",
    "    \"clasifier__gamma\": [0.001],\n",
    "    \"clasifier__C\": [100],\n",
    "}\n"
   ]
  },
  {
   "cell_type": "code",
   "execution_count": 4,
   "id": "6c66b893",
   "metadata": {
    "execution": {
     "iopub.execute_input": "2023-10-30T07:23:50.650685Z",
     "iopub.status.busy": "2023-10-30T07:23:50.650213Z",
     "iopub.status.idle": "2023-10-30T07:23:50.653572Z",
     "shell.execute_reply": "2023-10-30T07:23:50.653042Z"
    },
    "papermill": {
     "duration": 0.009332,
     "end_time": "2023-10-30T07:23:50.654862",
     "exception": false,
     "start_time": "2023-10-30T07:23:50.645530",
     "status": "completed"
    },
    "tags": []
   },
   "outputs": [],
   "source": [
    "DATA_FILE = PRE_DATA_FILE + M_TIPO\n",
    "\n",
    "# si viene \"None\" en el parámetro max_depth, se le quitan las comillas para que no sea entendido por el algoritmo como un texto\n",
    "if \"clasifier__max_depth\" in param_distributions:\n",
    "    param_distributions['clasifier__max_depth'] = [None if x == 'None' else x for x in param_distributions['clasifier__max_depth']]"
   ]
  },
  {
   "cell_type": "markdown",
   "id": "446b89d1",
   "metadata": {
    "papermill": {
     "duration": 0.00365,
     "end_time": "2023-10-30T07:23:50.662184",
     "exception": false,
     "start_time": "2023-10-30T07:23:50.658534",
     "status": "completed"
    },
    "tags": []
   },
   "source": [
    "Asignar los algoritmos que se utilizarán en la función RandomSearchCV"
   ]
  },
  {
   "cell_type": "code",
   "execution_count": 5,
   "id": "582fa8ee",
   "metadata": {
    "execution": {
     "iopub.execute_input": "2023-10-30T07:23:50.673431Z",
     "iopub.status.busy": "2023-10-30T07:23:50.672633Z",
     "iopub.status.idle": "2023-10-30T07:23:50.677005Z",
     "shell.execute_reply": "2023-10-30T07:23:50.676391Z"
    },
    "papermill": {
     "duration": 0.012715,
     "end_time": "2023-10-30T07:23:50.678586",
     "exception": false,
     "start_time": "2023-10-30T07:23:50.665871",
     "status": "completed"
    },
    "tags": []
   },
   "outputs": [],
   "source": [
    "algor_selector=eval(eval_selector)\n",
    "algor_clasifier=eval(eval_clasifier)"
   ]
  },
  {
   "cell_type": "markdown",
   "id": "2ee1c73f",
   "metadata": {
    "papermill": {
     "duration": 0.003739,
     "end_time": "2023-10-30T07:23:50.686118",
     "exception": false,
     "start_time": "2023-10-30T07:23:50.682379",
     "status": "completed"
    },
    "tags": []
   },
   "source": [
    "#### Comprobar el entorno y leer fichero de muestras"
   ]
  },
  {
   "cell_type": "code",
   "execution_count": 6,
   "id": "d0e1c535",
   "metadata": {
    "execution": {
     "iopub.execute_input": "2023-10-30T07:23:50.695210Z",
     "iopub.status.busy": "2023-10-30T07:23:50.694666Z",
     "iopub.status.idle": "2023-10-30T07:23:50.878363Z",
     "shell.execute_reply": "2023-10-30T07:23:50.877617Z"
    },
    "papermill": {
     "duration": 0.189757,
     "end_time": "2023-10-30T07:23:50.879774",
     "exception": false,
     "start_time": "2023-10-30T07:23:50.690017",
     "status": "completed"
    },
    "tags": []
   },
   "outputs": [
    {
     "name": "stdout",
     "output_type": "stream",
     "text": [
      "20231030T082350 : enderlab : INFO : Encontrada carpeta DATA_DIR=../tfm_git/datos\n",
      "20231030T082350 : enderlab : INFO : Encontrada carpeta CFDNA_DIR=../tfm_git/datos/cfDNA_5hmC\n",
      "20231030T082350 : enderlab : INFO : Encontrada carpeta GENCODE_DIR=../tfm_git/datos/gencode\n",
      "20231030T082350 : enderlab : INFO : Encontrada carpeta H5_DIR=../tfm_git/datos/h5\n",
      "20231030T082350 : enderlab : INFO : Encontrada carpeta LOG_DIR=../tfm_git/datos/logs\n",
      "20231030T082350 : enderlab : INFO : Encontrada carpeta CSV_DIR=../tfm_git/datos/csv\n",
      "20231030T082350 : enderlab : INFO : Encontrada carpeta MODEL_DIR=../tfm_git/ejecuciones/modelos\n",
      "20231030T082350 : enderlab : INFO : Encontrada carpeta EXEC_DIR=../tfm_git/ejecuciones\n",
      "20231030T082350 : enderlab : INFO : Encontrada carpeta MET_DIR=../tfm_git/ejecuciones/metricas\n",
      "20231030T082350 : enderlab : INFO : Inicio leer fichero h5 ../tfm_git/datos/h5/rows_transpose_norm_by_gene_id_with_target_num_mul_s.h5\n",
      "20231030T082350 : enderlab : INFO : Leyendo clave /df\n"
     ]
    },
    {
     "name": "stdout",
     "output_type": "stream",
     "text": [
      "20231030T082350 : enderlab : INFO : Tamaño (259, 18876)\n",
      "20231030T082350 : enderlab : INFO : Fin leer fichero h5 ../tfm_git/datos/h5/rows_transpose_norm_by_gene_id_with_target_num_mul_s.h5\n"
     ]
    },
    {
     "data": {
      "text/plain": [
       "target\n",
       "0    37\n",
       "1    37\n",
       "2    37\n",
       "3    37\n",
       "4    37\n",
       "5    37\n",
       "6    37\n",
       "dtype: int64"
      ]
     },
     "metadata": {},
     "output_type": "display_data"
    },
    {
     "name": "stdout",
     "output_type": "stream",
     "text": [
      "Shape df: (259, 18876)\n",
      "Shape X_train: (207, 18875)\n",
      "Shape X_test: (52, 18875)\n"
     ]
    }
   ],
   "source": [
    "start_time = datetime.datetime.now()\n",
    "\n",
    "myfunc.reset_vars()\n",
    "\n",
    "myfunc.NOTEBK_FILENAME = myfunc.get_nb_name()\n",
    "\n",
    "myfunc.check_enviroment(myfunc.DATA_DIR, myfunc.CFDNA_DIR, myfunc.GENCODE_DIR, myfunc.H5_DIR, myfunc.LOG_DIR, myfunc.CSV_DIR, myfunc.MODEL_DIR, myfunc.EXEC_DIR, myfunc.MET_DIR)\n",
    "\n",
    "# Leer fichero con las muestras\n",
    "df_t = myfunc.read_h5_to_df(DATA_FILE, myfunc.H5_DIR)\n",
    "display(df_t.groupby(\"target\").size())\n",
    "print(\"Shape df:\",df_t.shape)\n",
    "\n",
    "# Separar caracteristicas/genes de las etiquetas/tipos de cáncer\n",
    "X = df_t.iloc[:, :-1]  # Todas las columnas excepto la última\n",
    "y = df_t.iloc[:, -1]  # La última columna contiene los identificadores de los tipos de cáncer\n",
    "\n",
    "#  Crear el conjunto de datos de entrenamiento y de pruebas, y se fija la semilla para siempre coger el mismo juego de muestras\n",
    "X_train, X_test, y_train, y_test = train_test_split(X, y, test_size=0.2, shuffle=True, random_state=42)\n",
    "print(\"Shape X_train:\",X_train.shape)\n",
    "print(\"Shape X_test:\",X_test.shape)\n"
   ]
  },
  {
   "cell_type": "markdown",
   "id": "4afe6dd1",
   "metadata": {
    "papermill": {
     "duration": 0.004041,
     "end_time": "2023-10-30T07:23:50.888304",
     "exception": false,
     "start_time": "2023-10-30T07:23:50.884263",
     "status": "completed"
    },
    "tags": []
   },
   "source": [
    "#### Selección de características y clasificación."
   ]
  },
  {
   "cell_type": "code",
   "execution_count": 7,
   "id": "9d50be9b",
   "metadata": {
    "execution": {
     "iopub.execute_input": "2023-10-30T07:23:50.897707Z",
     "iopub.status.busy": "2023-10-30T07:23:50.897256Z",
     "iopub.status.idle": "2023-10-30T07:27:15.501012Z",
     "shell.execute_reply": "2023-10-30T07:27:15.500222Z"
    },
    "papermill": {
     "duration": 204.613776,
     "end_time": "2023-10-30T07:27:15.505948",
     "exception": false,
     "start_time": "2023-10-30T07:23:50.892172",
     "status": "completed"
    },
    "tags": []
   },
   "outputs": [
    {
     "name": "stdout",
     "output_type": "stream",
     "text": [
      "20231030T082350 : enderlab : INFO : Iniciando entrenamiento\n",
      "num_iter: 1 , max_iter: 1\n"
     ]
    },
    {
     "name": "stdout",
     "output_type": "stream",
     "text": [
      "Fitting 5 folds for each of 1 candidates, totalling 5 fits\n"
     ]
    },
    {
     "name": "stdout",
     "output_type": "stream",
     "text": [
      "Mejores Hiperparámetros: {'selector__k': 1000, 'clasifier__kernel': 'rbf', 'clasifier__gamma': 0.001, 'clasifier__C': 100}\n",
      "Mejor Puntuación: 0.7606\n",
      "20231030T082715 : enderlab : INFO : Fin entrenamiento\n"
     ]
    }
   ],
   "source": [
    "myfunc.verbose(\"Iniciando entrenamiento\")\n",
    "\n",
    "kf = KFold(n_splits=5, shuffle=True, random_state=SEMILLA)\n",
    "\n",
    "# Crear el pipeline para el flujo de tareas\n",
    "tasks_pipeline = Pipeline([\n",
    "    ('selector', algor_selector),\n",
    "    ('clasifier', algor_clasifier)\n",
    "])\n",
    "\n",
    "# MAX_ITERS puede limitar el número de iteraciones si son excesivas para las combinaciones de parámetros buscando un óptimo local, \n",
    "# sino funcionaría como GridSearchCV al revisar todas las cominaciones de los parámetros\n",
    "num_iteraciones = 1\n",
    "num_iteraciones = num_iteraciones * np.prod([len(elemento1) for _, elemento1 in param_distributions.items()])\n",
    "max_iteraciones = num_iteraciones if num_iteraciones <= MAX_ITERS else MAX_ITERS\n",
    "print(\"num_iter:\",num_iteraciones,\", max_iter:\",max_iteraciones)\n",
    "\n",
    "random_search = RandomizedSearchCV(\n",
    "    tasks_pipeline, \n",
    "    param_distributions, \n",
    "    n_iter=max_iteraciones,\n",
    "    scoring=SCORING,\n",
    "    cv=kf,\n",
    "    verbose=3, \n",
    "    random_state=SEMILLA, \n",
    "    n_jobs=-1\n",
    "    )\n",
    "\n",
    "# Entrenar el modelo\n",
    "random_search.fit(X_train, y_train)\n",
    "\n",
    "# Ver los mejores hiperparámetros encontrados\n",
    "print(f'Mejores Hiperparámetros: {random_search.best_params_}')\n",
    "print(f'Mejor Puntuación: {random_search.best_score_:.4f}')\n",
    "\n",
    "# Nos quedamos con el mejor modelo para ver las métricas\n",
    "mejor_modelo = random_search.best_estimator_\n",
    "\n",
    "myfunc.verbose(\"Fin entrenamiento\")"
   ]
  },
  {
   "cell_type": "markdown",
   "id": "7ab8f4c0",
   "metadata": {
    "papermill": {
     "duration": 0.00395,
     "end_time": "2023-10-30T07:27:15.514072",
     "exception": false,
     "start_time": "2023-10-30T07:27:15.510122",
     "status": "completed"
    },
    "tags": []
   },
   "source": [
    "#### Guardar modelo"
   ]
  },
  {
   "cell_type": "code",
   "execution_count": 8,
   "id": "1a9c9174",
   "metadata": {
    "execution": {
     "iopub.execute_input": "2023-10-30T07:27:15.523594Z",
     "iopub.status.busy": "2023-10-30T07:27:15.522988Z",
     "iopub.status.idle": "2023-10-30T07:27:15.532988Z",
     "shell.execute_reply": "2023-10-30T07:27:15.532439Z"
    },
    "papermill": {
     "duration": 0.016214,
     "end_time": "2023-10-30T07:27:15.534187",
     "exception": false,
     "start_time": "2023-10-30T07:27:15.517973",
     "status": "completed"
    },
    "tags": []
   },
   "outputs": [
    {
     "name": "stdout",
     "output_type": "stream",
     "text": [
      "20231030T082715 : enderlab : INFO : Inicio guardar fichero ../tfm_git/ejecuciones/modelos/modelo_9322_mul_s_MI_SVM.pkl\n",
      "20231030T082715 : enderlab : INFO : Fin guardar fichero ../tfm_git/ejecuciones/modelos/modelo_9322_mul_s_MI_SVM.pkl\n"
     ]
    }
   ],
   "source": [
    "fichero_modelo = str.replace(\"modelo_\"+str(SEMILLA).zfill(4)+\"_\"+M_TIPO+\"_\"+M_SELECT+\"_\"+M_CLASIF+\".pkl\", \" \", \"_\")\n",
    "\n",
    "myfunc.save_modelo(mejor_modelo, myfunc.MODEL_DIR, fichero_modelo)"
   ]
  },
  {
   "cell_type": "markdown",
   "id": "d16cea9b",
   "metadata": {
    "papermill": {
     "duration": 0.003988,
     "end_time": "2023-10-30T07:27:15.542159",
     "exception": false,
     "start_time": "2023-10-30T07:27:15.538171",
     "status": "completed"
    },
    "tags": []
   },
   "source": [
    "#### Ver resultados del las iteraciones hechas por RandomSearchCV"
   ]
  },
  {
   "cell_type": "code",
   "execution_count": 9,
   "id": "f7fc0693",
   "metadata": {
    "execution": {
     "iopub.execute_input": "2023-10-30T07:27:15.552735Z",
     "iopub.status.busy": "2023-10-30T07:27:15.552312Z",
     "iopub.status.idle": "2023-10-30T07:27:15.558513Z",
     "shell.execute_reply": "2023-10-30T07:27:15.557974Z"
    },
    "papermill": {
     "duration": 0.013593,
     "end_time": "2023-10-30T07:27:15.559790",
     "exception": false,
     "start_time": "2023-10-30T07:27:15.546197",
     "status": "completed"
    },
    "tags": []
   },
   "outputs": [
    {
     "name": "stdout",
     "output_type": "stream",
     "text": [
      "20231030T082715 : enderlab : INFO : Inicio ver resultados\n",
      "Mejores Hiperparámetros: {'selector__k': 1000, 'clasifier__kernel': 'rbf', 'clasifier__gamma': 0.001, 'clasifier__C': 100}\n",
      "Mejores puntuaciones: 0.7606 | Params: {'selector__k': 1000, 'clasifier__kernel': 'rbf', 'clasifier__gamma': 0.001, 'clasifier__C': 100}\n",
      "Media de las puntuaciones: 0.7606 | Params: {'selector__k': 1000, 'clasifier__kernel': 'rbf', 'clasifier__gamma': 0.001, 'clasifier__C': 100}\n",
      "20231030T082715 : enderlab : INFO : Fin resultados\n"
     ]
    }
   ],
   "source": [
    "myfunc.ver_resultados_search(random_search)"
   ]
  },
  {
   "cell_type": "markdown",
   "id": "24c40ae4",
   "metadata": {
    "papermill": {
     "duration": 0.004225,
     "end_time": "2023-10-30T07:27:15.568089",
     "exception": false,
     "start_time": "2023-10-30T07:27:15.563864",
     "status": "completed"
    },
    "tags": []
   },
   "source": [
    "#### Ver métricas del mejor modelo"
   ]
  },
  {
   "cell_type": "code",
   "execution_count": 10,
   "id": "5e6f43e8",
   "metadata": {
    "execution": {
     "iopub.execute_input": "2023-10-30T07:27:15.577753Z",
     "iopub.status.busy": "2023-10-30T07:27:15.577256Z",
     "iopub.status.idle": "2023-10-30T07:27:16.300944Z",
     "shell.execute_reply": "2023-10-30T07:27:16.300357Z"
    },
    "papermill": {
     "duration": 0.730011,
     "end_time": "2023-10-30T07:27:16.302207",
     "exception": false,
     "start_time": "2023-10-30T07:27:15.572196",
     "status": "completed"
    },
    "tags": []
   },
   "outputs": [
    {
     "name": "stdout",
     "output_type": "stream",
     "text": [
      "20231030T082715 : enderlab : INFO : Inicio ver métricas multiclase\n"
     ]
    },
    {
     "name": "stdout",
     "output_type": "stream",
     "text": [
      "              precision    recall  f1-score   support\n",
      "\n",
      "           0       0.43      0.27      0.33        11\n",
      "           1       0.67      0.50      0.57         8\n",
      "           2       0.20      0.12      0.15         8\n",
      "           3       0.25      0.40      0.31         5\n",
      "           4       0.73      1.00      0.84         8\n",
      "           5       0.60      0.50      0.55         6\n",
      "           6       0.30      0.50      0.37         6\n",
      "\n",
      "    accuracy                           0.46        52\n",
      "   macro avg       0.45      0.47      0.45        52\n",
      "weighted avg       0.46      0.46      0.45        52\n",
      "\n"
     ]
    },
    {
     "name": "stdout",
     "output_type": "stream",
     "text": [
      "\n",
      "\n",
      "           Exactitud: 0.461538\n",
      "   Precisión (media): 0.453216\n",
      "      Recall (media): 0.471104\n",
      "    F1-score (media): 0.446980\n",
      "\n",
      "\n",
      "AUC para el tipo de cáncer 0-Control.... 0.5410\n",
      "AUC para el tipo de cáncer 1-Bladder.... 0.8665\n",
      "AUC para el tipo de cáncer 2-Breast..... 0.6875\n",
      "AUC para el tipo de cáncer 3-Colorectal. 0.7915\n",
      "AUC para el tipo de cáncer 4-Kidney..... 0.9801\n",
      "AUC para el tipo de cáncer 5-Lung....... 0.8913\n",
      "AUC para el tipo de cáncer 6-Prostate... 0.7826\n",
      "\n",
      "Media de AUC: 0.7915\n"
     ]
    },
    {
     "data": {
      "image/png": "[encoded data removed]",
      "text/plain": [
       "<Figure size 1000x600 with 1 Axes>"
      ]
     },
     "metadata": {},
     "output_type": "display_data"
    },
    {
     "name": "stdout",
     "output_type": "stream",
     "text": [
      "\n",
      "\n"
     ]
    },
    {
     "data": {
      "image/png": "[encoded data removed]",
      "text/plain": [
       "<Figure size 800x400 with 2 Axes>"
      ]
     },
     "metadata": {},
     "output_type": "display_data"
    },
    {
     "name": "stdout",
     "output_type": "stream",
     "text": [
      "\n",
      "\n",
      "Puntuación Jaccard para el cáncer tipo 0-Control.... 0.2000\n",
      "Puntuación Jaccard para el cáncer tipo 1-Bladder.... 0.4000\n",
      "Puntuación Jaccard para el cáncer tipo 2-Breast..... 0.0833\n",
      "Puntuación Jaccard para el cáncer tipo 3-Colorectal. 0.1818\n",
      "Puntuación Jaccard para el cáncer tipo 4-Kidney..... 0.7273\n",
      "Puntuación Jaccard para el cáncer tipo 5-Lung....... 0.3750\n",
      "Puntuación Jaccard para el cáncer tipo 6-Prostate... 0.2308\n",
      "\n",
      "Media de la puntuación de Jaccard: 0.3140\n"
     ]
    }
   ],
   "source": [
    "if M_TIPO.startswith(\"bin\"):\n",
    "    myfunc.ver_metricas(mejor_modelo, X_test, y_test)\n",
    "else:\n",
    "    myfunc.ver_metricas_multi(mejor_modelo, X_test, y_test)\n"
   ]
  },
  {
   "cell_type": "markdown",
   "id": "d56dc8f1",
   "metadata": {
    "papermill": {
     "duration": 0.005995,
     "end_time": "2023-10-30T07:27:16.314810",
     "exception": false,
     "start_time": "2023-10-30T07:27:16.308815",
     "status": "completed"
    },
    "tags": []
   },
   "source": [
    "#### Finalización del notebook"
   ]
  },
  {
   "cell_type": "code",
   "execution_count": 11,
   "id": "16a04751",
   "metadata": {
    "execution": {
     "iopub.execute_input": "2023-10-30T07:27:16.327631Z",
     "iopub.status.busy": "2023-10-30T07:27:16.327088Z",
     "iopub.status.idle": "2023-10-30T07:27:16.330921Z",
     "shell.execute_reply": "2023-10-30T07:27:16.330384Z"
    },
    "papermill": {
     "duration": 0.011643,
     "end_time": "2023-10-30T07:27:16.332146",
     "exception": false,
     "start_time": "2023-10-30T07:27:16.320503",
     "status": "completed"
    },
    "tags": []
   },
   "outputs": [
    {
     "name": "stdout",
     "output_type": "stream",
     "text": [
      "20231030T082716 : enderlab : INFO : Notebook ha tardado 205 seconds\n"
     ]
    }
   ],
   "source": [
    "end_time = datetime.datetime.now()\n",
    "total_time = end_time - start_time\n",
    "myfunc.verbose(f\"Notebook ha tardado {total_time.seconds} seconds\")"
   ]
  },
  {
   "cell_type": "markdown",
   "id": "a0900a47",
   "metadata": {
    "papermill": {
     "duration": 0.005743,
     "end_time": "2023-10-30T07:27:16.343499",
     "exception": false,
     "start_time": "2023-10-30T07:27:16.337756",
     "status": "completed"
    },
    "tags": []
   },
   "source": [
    "#### Guardar métricas"
   ]
  },
  {
   "cell_type": "code",
   "execution_count": 12,
   "id": "6fb3f8be",
   "metadata": {
    "execution": {
     "iopub.execute_input": "2023-10-30T07:27:16.356510Z",
     "iopub.status.busy": "2023-10-30T07:27:16.356105Z",
     "iopub.status.idle": "2023-10-30T07:27:16.617011Z",
     "shell.execute_reply": "2023-10-30T07:27:16.616421Z"
    },
    "papermill": {
     "duration": 0.268906,
     "end_time": "2023-10-30T07:27:16.618268",
     "exception": false,
     "start_time": "2023-10-30T07:27:16.349362",
     "status": "completed"
    },
    "tags": []
   },
   "outputs": [
    {
     "name": "stdout",
     "output_type": "stream",
     "text": [
      "20231030T082716 : enderlab : INFO : Inicio guardar métricas multiclase\n",
      "20231030T082716 : enderlab : INFO : Inicio leer fichero ../tfm_git/ejecuciones/metricas/metricas_9322.csv\n",
      "20231030T082716 : enderlab : INFO : Fin leer fichero ../tfm_git/ejecuciones/metricas/metricas_9322.csv\n"
     ]
    },
    {
     "name": "stdout",
     "output_type": "stream",
     "text": [
      "20231030T082716 : enderlab : INFO : Inicio guardar fichero ../tfm_git/ejecuciones/metricas/metricas_9322.csv\n",
      "20231030T082716 : enderlab : INFO : Fichero borrado ../tfm_git/ejecuciones/metricas/metricas_9322.csv\n",
      "20231030T082716 : enderlab : INFO : Fin guardar fichero ../tfm_git/ejecuciones/metricas/metricas_9322.csv\n",
      "20231030T082716 : enderlab : INFO : Fin guardar métricas multiclase\n",
      "20231030T082716 : enderlab : INFO : Inicio leer fichero ../tfm_git/ejecuciones/metricas/metricas_9322.csv\n",
      "20231030T082716 : enderlab : INFO : Fin leer fichero ../tfm_git/ejecuciones/metricas/metricas_9322.csv\n"
     ]
    },
    {
     "data": {
      "text/html": [
       "<div>\n",
       "<style scoped>\n",
       "    .dataframe tbody tr th:only-of-type {\n",
       "        vertical-align: middle;\n",
       "    }\n",
       "\n",
       "    .dataframe tbody tr th {\n",
       "        vertical-align: top;\n",
       "    }\n",
       "\n",
       "    .dataframe thead th {\n",
       "        text-align: right;\n",
       "    }\n",
       "</style>\n",
       "<table border=\"1\" class=\"dataframe\">\n",
       "  <thead>\n",
       "    <tr style=\"text-align: right;\">\n",
       "      <th></th>\n",
       "      <th>tipo</th>\n",
       "      <th>select</th>\n",
       "      <th>clasific</th>\n",
       "      <th>semilla</th>\n",
       "      <th>accuracy</th>\n",
       "      <th>precision</th>\n",
       "      <th>recall</th>\n",
       "      <th>f1_score</th>\n",
       "      <th>roc_auc</th>\n",
       "      <th>hostname</th>\n",
       "      <th>total_time_sec</th>\n",
       "      <th>datetime</th>\n",
       "      <th>fichero_modelo</th>\n",
       "      <th>params</th>\n",
       "      <th>shape</th>\n",
       "      <th>features</th>\n",
       "      <th>roc_auc_ovr</th>\n",
       "      <th>indices_auc</th>\n",
       "      <th>indices_jaccard</th>\n",
       "    </tr>\n",
       "  </thead>\n",
       "  <tbody>\n",
       "    <tr>\n",
       "      <th>0</th>\n",
       "      <td>mul_s</td>\n",
       "      <td>MI</td>\n",
       "      <td>SVM</td>\n",
       "      <td>9322</td>\n",
       "      <td>0.461538</td>\n",
       "      <td>0.453216</td>\n",
       "      <td>0.471104</td>\n",
       "      <td>0.446980</td>\n",
       "      <td>NaN</td>\n",
       "      <td>enderlab</td>\n",
       "      <td>205</td>\n",
       "      <td>2023-10-30 08:27:16.563440</td>\n",
       "      <td>modelo_9322_mul_s_MI_SVM.pkl</td>\n",
       "      <td>{'selector__k': 1000, 'clasifier__kernel': 'rb...</td>\n",
       "      <td>X_test:(52, 18875)</td>\n",
       "      <td>['ENSG00000003137.9', 'ENSG00000005513.10', 'E...</td>\n",
       "      <td>0.791502</td>\n",
       "      <td>[0.541019955654102, 0.8664772727272727, 0.6875...</td>\n",
       "      <td>[0.2, 0.4, 0.08333333333333333, 0.181818181818...</td>\n",
       "    </tr>\n",
       "    <tr>\n",
       "      <th>0</th>\n",
       "      <td>mul_s</td>\n",
       "      <td>MI</td>\n",
       "      <td>RF</td>\n",
       "      <td>9322</td>\n",
       "      <td>0.346154</td>\n",
       "      <td>0.311575</td>\n",
       "      <td>0.339177</td>\n",
       "      <td>0.314753</td>\n",
       "      <td>NaN</td>\n",
       "      <td>enderlab</td>\n",
       "      <td>233</td>\n",
       "      <td>2023-10-30 08:23:43.907226</td>\n",
       "      <td>modelo_9322_mul_s_MI_RF.pkl</td>\n",
       "      <td>{'selector__k': 500, 'clasifier__n_estimators'...</td>\n",
       "      <td>X_test:(52, 18875)</td>\n",
       "      <td>['ENSG00000003137.9', 'ENSG00000005513.10', 'E...</td>\n",
       "      <td>0.686400</td>\n",
       "      <td>[0.4501108647450111, 0.7869318181818181, 0.602...</td>\n",
       "      <td>[0.07142857142857142, 0.2857142857142857, 0.25...</td>\n",
       "    </tr>\n",
       "    <tr>\n",
       "      <th>0</th>\n",
       "      <td>mul_s</td>\n",
       "      <td>MI</td>\n",
       "      <td>LR_L2</td>\n",
       "      <td>9322</td>\n",
       "      <td>0.403846</td>\n",
       "      <td>0.470857</td>\n",
       "      <td>0.422294</td>\n",
       "      <td>0.400501</td>\n",
       "      <td>NaN</td>\n",
       "      <td>enderlab</td>\n",
       "      <td>428</td>\n",
       "      <td>2023-10-30 08:19:43.560002</td>\n",
       "      <td>modelo_9322_mul_s_MI_LR_L2.pkl</td>\n",
       "      <td>{'selector__k': 500, 'clasifier__solver': 'sag...</td>\n",
       "      <td>X_test:(52, 18875)</td>\n",
       "      <td>['ENSG00000003137.9', 'ENSG00000005513.10', 'E...</td>\n",
       "      <td>0.816125</td>\n",
       "      <td>[0.5764966740576497, 0.875, 0.7130681818181819...</td>\n",
       "      <td>[0.2, 0.2, 0.06666666666666667, 0.230769230769...</td>\n",
       "    </tr>\n",
       "  </tbody>\n",
       "</table>\n",
       "</div>"
      ],
      "text/plain": [
       "    tipo select clasific  semilla  accuracy  precision    recall  f1_score  \\\n",
       "0  mul_s     MI      SVM     9322  0.461538   0.453216  0.471104  0.446980   \n",
       "0  mul_s     MI       RF     9322  0.346154   0.311575  0.339177  0.314753   \n",
       "0  mul_s     MI    LR_L2     9322  0.403846   0.470857  0.422294  0.400501   \n",
       "\n",
       "   roc_auc  hostname  total_time_sec                    datetime  \\\n",
       "0      NaN  enderlab             205  2023-10-30 08:27:16.563440   \n",
       "0      NaN  enderlab             233  2023-10-30 08:23:43.907226   \n",
       "0      NaN  enderlab             428  2023-10-30 08:19:43.560002   \n",
       "\n",
       "                   fichero_modelo  \\\n",
       "0    modelo_9322_mul_s_MI_SVM.pkl   \n",
       "0     modelo_9322_mul_s_MI_RF.pkl   \n",
       "0  modelo_9322_mul_s_MI_LR_L2.pkl   \n",
       "\n",
       "                                              params               shape  \\\n",
       "0  {'selector__k': 1000, 'clasifier__kernel': 'rb...  X_test:(52, 18875)   \n",
       "0  {'selector__k': 500, 'clasifier__n_estimators'...  X_test:(52, 18875)   \n",
       "0  {'selector__k': 500, 'clasifier__solver': 'sag...  X_test:(52, 18875)   \n",
       "\n",
       "                                            features  roc_auc_ovr  \\\n",
       "0  ['ENSG00000003137.9', 'ENSG00000005513.10', 'E...     0.791502   \n",
       "0  ['ENSG00000003137.9', 'ENSG00000005513.10', 'E...     0.686400   \n",
       "0  ['ENSG00000003137.9', 'ENSG00000005513.10', 'E...     0.816125   \n",
       "\n",
       "                                         indices_auc  \\\n",
       "0  [0.541019955654102, 0.8664772727272727, 0.6875...   \n",
       "0  [0.4501108647450111, 0.7869318181818181, 0.602...   \n",
       "0  [0.5764966740576497, 0.875, 0.7130681818181819...   \n",
       "\n",
       "                                     indices_jaccard  \n",
       "0  [0.2, 0.4, 0.08333333333333333, 0.181818181818...  \n",
       "0  [0.07142857142857142, 0.2857142857142857, 0.25...  \n",
       "0  [0.2, 0.2, 0.06666666666666667, 0.230769230769...  "
      ]
     },
     "metadata": {},
     "output_type": "display_data"
    }
   ],
   "source": [
    "if M_TIPO.startswith(\"bin\"):\n",
    "    myfunc.save_metricas_to_csv(random_search, X_test, y_test, M_TIPO, M_SELECT, M_CLASIF, total_time, SEMILLA, myfunc.MET_DIR, M_FICHERO, fichero_modelo)\n",
    "else:\n",
    "    myfunc.save_metricas_multi_to_csv(random_search, X_test, y_test, M_TIPO, M_SELECT, M_CLASIF, total_time, SEMILLA, myfunc.MET_DIR, M_FICHERO, fichero_modelo)\n",
    "\n",
    "df1=myfunc.read_metricas_to_df(myfunc.MET_DIR,M_FICHERO)\n",
    "\n",
    "display(df1.sort_values(\"datetime\", ascending=False)[:3])\n"
   ]
  },
  {
   "cell_type": "markdown",
   "id": "c9696e5f",
   "metadata": {
    "papermill": {
     "duration": 0.006104,
     "end_time": "2023-10-30T07:27:16.630922",
     "exception": false,
     "start_time": "2023-10-30T07:27:16.624818",
     "status": "completed"
    },
    "tags": []
   },
   "source": [
    "#### Guardar resultados"
   ]
  },
  {
   "cell_type": "code",
   "execution_count": 13,
   "id": "f7354fd6",
   "metadata": {
    "execution": {
     "iopub.execute_input": "2023-10-30T07:27:16.644255Z",
     "iopub.status.busy": "2023-10-30T07:27:16.643735Z",
     "iopub.status.idle": "2023-10-30T07:27:16.652721Z",
     "shell.execute_reply": "2023-10-30T07:27:16.652173Z"
    },
    "papermill": {
     "duration": 0.017013,
     "end_time": "2023-10-30T07:27:16.653910",
     "exception": false,
     "start_time": "2023-10-30T07:27:16.636897",
     "status": "completed"
    },
    "tags": []
   },
   "outputs": [
    {
     "name": "stdout",
     "output_type": "stream",
     "text": [
      "20231030T082716 : enderlab : INFO : Inicio guardar resultados\n",
      "20231030T082716 : enderlab : INFO : Inicio guardar fichero ../tfm_git/ejecuciones/metricas/resultados_9322_mul_s-MI-SVM.csv\n",
      "20231030T082716 : enderlab : INFO : Fin guardar fichero ../tfm_git/ejecuciones/metricas/resultados_9322_mul_s-MI-SVM.csv\n",
      "20231030T082716 : enderlab : INFO : Fin guardar resultados\n"
     ]
    }
   ],
   "source": [
    "fichero_resultados=R_FICHERO+\"_\"+M_TIPO+\"-\"+M_SELECT+\"-\"+M_CLASIF+\".csv\"\n",
    "myfunc.save_resultados_to_csv(M_TIPO, M_SELECT, M_CLASIF,  random_search, myfunc.MET_DIR, fichero_resultados)\n"
   ]
  }
 ],
 "metadata": {
  "kernelspec": {
   "display_name": "Python 3 (ipykernel)",
   "language": "python",
   "name": "python3"
  },
  "language_info": {
   "codemirror_mode": {
    "name": "ipython",
    "version": 3
   },
   "file_extension": ".py",
   "mimetype": "text/x-python",
   "name": "python",
   "nbconvert_exporter": "python",
   "pygments_lexer": "ipython3",
   "version": "3.10.11"
  },
  "papermill": {
   "default_parameters": {},
   "duration": 211.00065,
   "end_time": "2023-10-30T07:27:19.278706",
   "environment_variables": {},
   "exception": null,
   "input_path": "03_entrenamiento.ipynb",
   "output_path": "ejecuciones/training/03_entrenamiento.20231030T082347.param_0000_9322_mul_s_MI_SVM.output.ipynb",
   "parameters": {
    "MAX_ITERS": 500,
    "M_CLASIF": "SVM",
    "M_FICHERO": "metricas_9322",
    "M_SELECT": "MI",
    "M_TIPO": "mul_s",
    "PRE_DATA_FILE": "rows_transpose_norm_by_gene_id_with_target_num_",
    "P_FICHERO": "param_0000_9322_mul_s_MI_SVM.yaml",
    "R_FICHERO": "resultados_9322",
    "SCORING": "roc_auc_ovr",
    "SEMILLA": 9322,
    "eval_clasifier": "SVC(probability=True, random_state=SEMILLA)",
    "eval_selector": "SelectKBest(score_func=mutual_info_classif_state)",
    "param_distributions": {
     "clasifier__C": [
      100
     ],
     "clasifier__gamma": [
      0.001
     ],
     "clasifier__kernel": [
      "rbf"
     ],
     "selector__k": [
      1000
     ]
    }
   },
   "start_time": "2023-10-30T07:23:48.278056",
   "version": "2.4.0"
  }
 },
 "nbformat": 4,
 "nbformat_minor": 5
}