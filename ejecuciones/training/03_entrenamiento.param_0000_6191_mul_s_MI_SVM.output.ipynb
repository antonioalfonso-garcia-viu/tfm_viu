{
 "cells": [
  {
   "cell_type": "markdown",
   "id": "3ef414a5",
   "metadata": {
    "papermill": {
     "duration": 0.00322,
     "end_time": "2023-10-30T11:16:30.613574",
     "exception": false,
     "start_time": "2023-10-30T11:16:30.610354",
     "status": "completed"
    },
    "tags": []
   },
   "source": [
    "##### Inicio"
   ]
  },
  {
   "cell_type": "markdown",
   "id": "c35a5792",
   "metadata": {
    "papermill": {
     "duration": 0.002717,
     "end_time": "2023-10-30T11:16:30.618860",
     "exception": false,
     "start_time": "2023-10-30T11:16:30.616143",
     "status": "completed"
    },
    "tags": []
   },
   "source": [
    "#### Carga de datos"
   ]
  },
  {
   "cell_type": "code",
   "execution_count": 1,
   "id": "8a1385de",
   "metadata": {
    "execution": {
     "iopub.execute_input": "2023-10-30T11:16:30.625497Z",
     "iopub.status.busy": "2023-10-30T11:16:30.625270Z",
     "iopub.status.idle": "2023-10-30T11:16:31.484850Z",
     "shell.execute_reply": "2023-10-30T11:16:31.484289Z"
    },
    "papermill": {
     "duration": 0.864667,
     "end_time": "2023-10-30T11:16:31.486306",
     "exception": false,
     "start_time": "2023-10-30T11:16:30.621639",
     "status": "completed"
    },
    "tags": []
   },
   "outputs": [
    {
     "name": "stdout",
     "output_type": "stream",
     "text": [
      "CPU_COUNT: 8; NODE: amilcar22; sys.version: 3.10.12 (main, Jul  5 2023, 19:22:19) [GCC 11.2.0]\n",
      "LOKY_MAX_CPU_COUNT: 6\n",
      "OMP_NUM_THREADS: 2\n"
     ]
    }
   ],
   "source": [
    "import os\n",
    "import numpy as np\n",
    "import pandas as pd\n",
    "import datetime\n",
    "import sklearn\n",
    "import logging\n",
    "import warnings\n",
    "\n",
    "from sklearn.pipeline import Pipeline\n",
    "from sklearn.model_selection import RandomizedSearchCV, KFold, cross_val_score, train_test_split\n",
    "from sklearn.metrics import accuracy_score, confusion_matrix, classification_report, roc_auc_score\n",
    "\n",
    "#  cargar algoritmos para aprendizaje supervisado\n",
    "from sklearn.feature_selection import SelectKBest, f_classif, SelectFromModel, mutual_info_classif\n",
    "from sklearn.svm import SVC\n",
    "from sklearn.ensemble import RandomForestClassifier\n",
    "from sklearn.linear_model import LogisticRegression,LogisticRegressionCV\n",
    "\n",
    "# importar fichero con utilidades propias\n",
    "from commons import myfunctions as myfunc\n"
   ]
  },
  {
   "cell_type": "markdown",
   "id": "9f3e0ad9",
   "metadata": {
    "papermill": {
     "duration": 0.002697,
     "end_time": "2023-10-30T11:16:31.492024",
     "exception": false,
     "start_time": "2023-10-30T11:16:31.489327",
     "status": "completed"
    },
    "tags": []
   },
   "source": [
    "#### Parámetros a utilizar en el entrenamiento.\n",
    "\n",
    "Se indican los 3 algoritmos de *selección de características* (eval_selector_xxx) y los 3 algoritmos para la _clasificación_ (eval_clasifier_xxx)\n",
    "\n",
    "En *param_distributions* se indicar los parámetros que utilizan los algoritmos en la función RandomSearchCV.\n",
    "\n",
    "Esta celda tiene la etiqueta **parameters** que servirá para poder lanzar los entrenamientos con la utilidad **papermill** pasándole un fichero con los parámetros. Los nuevos parámetros se situarán tras esta celda para tener prevalencia."
   ]
  },
  {
   "cell_type": "code",
   "execution_count": 2,
   "id": "897daeae",
   "metadata": {
    "execution": {
     "iopub.execute_input": "2023-10-30T11:16:31.498232Z",
     "iopub.status.busy": "2023-10-30T11:16:31.497962Z",
     "iopub.status.idle": "2023-10-30T11:16:31.504701Z",
     "shell.execute_reply": "2023-10-30T11:16:31.504189Z"
    },
    "papermill": {
     "duration": 0.011267,
     "end_time": "2023-10-30T11:16:31.505911",
     "exception": false,
     "start_time": "2023-10-30T11:16:31.494644",
     "status": "completed"
    },
    "tags": [
     "parameters"
    ]
   },
   "outputs": [
    {
     "name": "stdout",
     "output_type": "stream",
     "text": [
      "20231030T121631 : amilcar22 : INFO : Utilizando parámetros de mul_m\n"
     ]
    }
   ],
   "source": [
    "#  Parametros para el entrenamiento\n",
    "\n",
    "SEMILLA=        42\n",
    "M_TIPO=         \"mul_m\"\n",
    "M_SELECT=       \"MI\"\n",
    "M_CLASIF=       \"SVM\"\n",
    "R_FICHERO=      \"resultados\"\n",
    "M_FICHERO=      \"metricas\"\n",
    "PRE_DATA_FILE=  \"rows_transpose_norm_by_gene_id_with_target_num_\"\n",
    "SCORING=        \"roc_auc_ovr\" \n",
    "MAX_ITERS=      100\n",
    "\n",
    "def mutual_info_classif_state(X, y):\n",
    "    return mutual_info_classif(X, y, random_state=SEMILLA)\n",
    "\n",
    "eval_selector_mi = \"SelectKBest(score_func=mutual_info_classif_state)\"\n",
    "eval_selector_rf=  \"SelectFromModel(estimator=RandomForestClassifier(random_state=SEMILLA), threshold=-np.inf)\"\n",
    "eval_selector_anova=  \"SelectKBest(score_func=f_classif)\"\n",
    "\n",
    "eval_clasifier_svm= \"SVC(probability=True, random_state=SEMILLA)\"\n",
    "eval_clasifier_rf= \"RandomForestClassifier(random_state=SEMILLA)\"\n",
    "eval_clasifier_lr= \"LogisticRegressionCV(random_state=SEMILLA)\"\n",
    "\n",
    "if M_TIPO.startswith(\"bin_m\"):\n",
    "    myfunc.verbose(f\"Utilizando parámetros de {M_TIPO}\")\n",
    "    eval_selector = eval_selector_mi\n",
    "    eval_clasifier = eval_clasifier_svm\n",
    "\n",
    "    SEMILLA = 6578\n",
    "    M_SELECT = \"MI\"\n",
    "    M_CLASIF = \"SVM\"\n",
    "    param_distributions = {'selector__k': [1000], \n",
    "         'clasifier__kernel': ['rbf'], 'clasifier__gamma': [0.01], 'clasifier__C': [100]}\n",
    "elif M_TIPO.startswith(\"bin_s\"):\n",
    "    myfunc.verbose(f\"Utilizando parámetros de {M_TIPO}\")\n",
    "    eval_selector = eval_selector_rf\n",
    "    eval_clasifier = eval_clasifier_lr\n",
    "\n",
    "    SEMILLA = 6191\n",
    "    M_SELECT = \"RF\"\n",
    "    M_CLASIF = \"LR_L2\"\n",
    "    param_distributions = {'selector__max_features': [1000], 'selector__estimator__n_estimators': [200], \n",
    "        'clasifier__solver': ['lbfgs'], 'clasifier__penalty': ['l2'], 'clasifier__max_iter': [10000]}\n",
    "\n",
    "elif M_TIPO.startswith(\"mul_m\"):\n",
    "    myfunc.verbose(f\"Utilizando parámetros de {M_TIPO}\")\n",
    " \n",
    "    eval_selector = eval_selector_rf\n",
    "    eval_clasifier = eval_clasifier_lr\n",
    "\n",
    "    SEMILLA = 6191\n",
    "    M_SELECT = \"RF\"\n",
    "    M_CLASIF = \"LR_L2\"\n",
    "    param_distributions = {'selector__max_features': [1000], 'selector__estimator__n_estimators': [400], \n",
    "        'clasifier__solver': ['lbfgs'], 'clasifier__penalty': ['l2'], 'clasifier__max_iter': [10000]}\n",
    "\n",
    "else:\n",
    "    # M_TIPO.startswith(\"mul_s\"):\n",
    "    myfunc.verbose(f\"Utilizando parámetros de {M_TIPO}\")\n",
    "    eval_selector = eval_selector_anova\n",
    "    eval_clasifier = eval_clasifier_lr\n",
    "\n",
    "    SEMILLA = 1860\n",
    "    M_SELECT = \"ANOVA\"\n",
    "    M_CLASIF = \"LR_L2\"\n",
    "    param_distributions = {'selector__k': [1000], \n",
    "        'clasifier__solver': ['saga'], 'clasifier__penalty': ['l2'], 'clasifier__max_iter': [10000]}\n",
    "\n"
   ]
  },
  {
   "cell_type": "code",
   "execution_count": 3,
   "id": "16994d9f",
   "metadata": {
    "execution": {
     "iopub.execute_input": "2023-10-30T11:16:31.512025Z",
     "iopub.status.busy": "2023-10-30T11:16:31.511854Z",
     "iopub.status.idle": "2023-10-30T11:16:31.515359Z",
     "shell.execute_reply": "2023-10-30T11:16:31.514849Z"
    },
    "papermill": {
     "duration": 0.007951,
     "end_time": "2023-10-30T11:16:31.516635",
     "exception": false,
     "start_time": "2023-10-30T11:16:31.508684",
     "status": "completed"
    },
    "tags": [
     "injected-parameters"
    ]
   },
   "outputs": [],
   "source": [
    "# Parameters\n",
    "M_TIPO = \"mul_s\"\n",
    "M_SELECT = \"MI\"\n",
    "M_CLASIF = \"SVM\"\n",
    "P_FICHERO = \"param_0000_6191_mul_s_MI_SVM.yaml\"\n",
    "R_FICHERO = \"resultados_6191\"\n",
    "M_FICHERO = \"metricas_6191\"\n",
    "PRE_DATA_FILE = \"rows_transpose_norm_by_gene_id_with_target_num_\"\n",
    "SCORING = \"roc_auc_ovr\"\n",
    "SEMILLA = 6191\n",
    "MAX_ITERS = 500\n",
    "eval_selector = \"SelectKBest(score_func=mutual_info_classif_state)\"\n",
    "eval_clasifier = \"SVC(probability=True, random_state=SEMILLA)\"\n",
    "param_distributions = {\n",
    "    \"selector__k\": [1000],\n",
    "    \"clasifier__kernel\": [\"rbf\"],\n",
    "    \"clasifier__gamma\": [0.001],\n",
    "    \"clasifier__C\": [100],\n",
    "}\n"
   ]
  },
  {
   "cell_type": "code",
   "execution_count": 4,
   "id": "4dc4914b",
   "metadata": {
    "execution": {
     "iopub.execute_input": "2023-10-30T11:16:31.522788Z",
     "iopub.status.busy": "2023-10-30T11:16:31.522593Z",
     "iopub.status.idle": "2023-10-30T11:16:31.525553Z",
     "shell.execute_reply": "2023-10-30T11:16:31.525042Z"
    },
    "papermill": {
     "duration": 0.007569,
     "end_time": "2023-10-30T11:16:31.526893",
     "exception": false,
     "start_time": "2023-10-30T11:16:31.519324",
     "status": "completed"
    },
    "tags": []
   },
   "outputs": [],
   "source": [
    "DATA_FILE = PRE_DATA_FILE + M_TIPO\n",
    "\n",
    "# si viene \"None\" en el parámetro max_depth, se le quitan las comillas para que no sea entendido por el algoritmo como un texto\n",
    "if \"clasifier__max_depth\" in param_distributions:\n",
    "    param_distributions['clasifier__max_depth'] = [None if x == 'None' else x for x in param_distributions['clasifier__max_depth']]"
   ]
  },
  {
   "cell_type": "markdown",
   "id": "3233f214",
   "metadata": {
    "papermill": {
     "duration": 0.003402,
     "end_time": "2023-10-30T11:16:31.533750",
     "exception": false,
     "start_time": "2023-10-30T11:16:31.530348",
     "status": "completed"
    },
    "tags": []
   },
   "source": [
    "Asignar los algoritmos que se utilizarán en la función RandomSearchCV"
   ]
  },
  {
   "cell_type": "code",
   "execution_count": 5,
   "id": "226e9e0e",
   "metadata": {
    "execution": {
     "iopub.execute_input": "2023-10-30T11:16:31.541380Z",
     "iopub.status.busy": "2023-10-30T11:16:31.541201Z",
     "iopub.status.idle": "2023-10-30T11:16:31.543973Z",
     "shell.execute_reply": "2023-10-30T11:16:31.543422Z"
    },
    "papermill": {
     "duration": 0.008095,
     "end_time": "2023-10-30T11:16:31.545327",
     "exception": false,
     "start_time": "2023-10-30T11:16:31.537232",
     "status": "completed"
    },
    "tags": []
   },
   "outputs": [],
   "source": [
    "algor_selector=eval(eval_selector)\n",
    "algor_clasifier=eval(eval_clasifier)"
   ]
  },
  {
   "cell_type": "markdown",
   "id": "3c0a0f25",
   "metadata": {
    "papermill": {
     "duration": 0.003337,
     "end_time": "2023-10-30T11:16:31.551998",
     "exception": false,
     "start_time": "2023-10-30T11:16:31.548661",
     "status": "completed"
    },
    "tags": []
   },
   "source": [
    "#### Comprobar el entorno y leer fichero de muestras"
   ]
  },
  {
   "cell_type": "code",
   "execution_count": 6,
   "id": "ac377a87",
   "metadata": {
    "execution": {
     "iopub.execute_input": "2023-10-30T11:16:31.559428Z",
     "iopub.status.busy": "2023-10-30T11:16:31.559240Z",
     "iopub.status.idle": "2023-10-30T11:16:31.687302Z",
     "shell.execute_reply": "2023-10-30T11:16:31.686790Z"
    },
    "papermill": {
     "duration": 0.133279,
     "end_time": "2023-10-30T11:16:31.688602",
     "exception": false,
     "start_time": "2023-10-30T11:16:31.555323",
     "status": "completed"
    },
    "tags": []
   },
   "outputs": [
    {
     "name": "stdout",
     "output_type": "stream",
     "text": [
      "20231030T121631 : amilcar22 : INFO : Encontrada carpeta DATA_DIR=../tfm_git/datos\n",
      "20231030T121631 : amilcar22 : INFO : Encontrada carpeta CFDNA_DIR=../tfm_git/datos/cfDNA_5hmC\n",
      "20231030T121631 : amilcar22 : INFO : Encontrada carpeta GENCODE_DIR=../tfm_git/datos/gencode\n",
      "20231030T121631 : amilcar22 : INFO : Encontrada carpeta H5_DIR=../tfm_git/datos/h5\n",
      "20231030T121631 : amilcar22 : INFO : Encontrada carpeta LOG_DIR=../tfm_git/datos/logs\n",
      "20231030T121631 : amilcar22 : INFO : Encontrada carpeta CSV_DIR=../tfm_git/datos/csv\n",
      "20231030T121631 : amilcar22 : INFO : Encontrada carpeta MODEL_DIR=../tfm_git/ejecuciones/modelos\n",
      "20231030T121631 : amilcar22 : INFO : Encontrada carpeta EXEC_DIR=../tfm_git/ejecuciones\n",
      "20231030T121631 : amilcar22 : INFO : Encontrada carpeta MET_DIR=../tfm_git/ejecuciones/metricas\n",
      "20231030T121631 : amilcar22 : INFO : Inicio leer fichero h5 ../tfm_git/datos/h5/rows_transpose_norm_by_gene_id_with_target_num_mul_s.h5\n",
      "20231030T121631 : amilcar22 : INFO : Leyendo clave /df\n",
      "20231030T121631 : amilcar22 : INFO : Tamaño (259, 18876)\n",
      "20231030T121631 : amilcar22 : INFO : Fin leer fichero h5 ../tfm_git/datos/h5/rows_transpose_norm_by_gene_id_with_target_num_mul_s.h5\n"
     ]
    },
    {
     "data": {
      "text/plain": [
       "target\n",
       "0    37\n",
       "1    37\n",
       "2    37\n",
       "3    37\n",
       "4    37\n",
       "5    37\n",
       "6    37\n",
       "dtype: int64"
      ]
     },
     "metadata": {},
     "output_type": "display_data"
    },
    {
     "name": "stdout",
     "output_type": "stream",
     "text": [
      "Shape df: (259, 18876)\n"
     ]
    },
    {
     "name": "stdout",
     "output_type": "stream",
     "text": [
      "Shape X_train: (207, 18875)\n",
      "Shape X_test: (52, 18875)\n"
     ]
    }
   ],
   "source": [
    "start_time = datetime.datetime.now()\n",
    "\n",
    "myfunc.reset_vars()\n",
    "\n",
    "myfunc.NOTEBK_FILENAME = myfunc.get_nb_name()\n",
    "\n",
    "myfunc.check_enviroment(myfunc.DATA_DIR, myfunc.CFDNA_DIR, myfunc.GENCODE_DIR, myfunc.H5_DIR, myfunc.LOG_DIR, myfunc.CSV_DIR, myfunc.MODEL_DIR, myfunc.EXEC_DIR, myfunc.MET_DIR)\n",
    "\n",
    "# Leer fichero con las muestras\n",
    "df_t = myfunc.read_h5_to_df(DATA_FILE, myfunc.H5_DIR)\n",
    "display(df_t.groupby(\"target\").size())\n",
    "print(\"Shape df:\",df_t.shape)\n",
    "\n",
    "# Separar caracteristicas/genes de las etiquetas/tipos de cáncer\n",
    "X = df_t.iloc[:, :-1]  # Todas las columnas excepto la última\n",
    "y = df_t.iloc[:, -1]  # La última columna contiene los identificadores de los tipos de cáncer\n",
    "\n",
    "#  Crear el conjunto de datos de entrenamiento y de pruebas, y se fija la semilla para siempre coger el mismo juego de muestras\n",
    "X_train, X_test, y_train, y_test = train_test_split(X, y, test_size=0.2, shuffle=True, random_state=42)\n",
    "print(\"Shape X_train:\",X_train.shape)\n",
    "print(\"Shape X_test:\",X_test.shape)\n"
   ]
  },
  {
   "cell_type": "markdown",
   "id": "3560e44f",
   "metadata": {
    "papermill": {
     "duration": 0.002996,
     "end_time": "2023-10-30T11:16:31.694995",
     "exception": false,
     "start_time": "2023-10-30T11:16:31.691999",
     "status": "completed"
    },
    "tags": []
   },
   "source": [
    "#### Selección de características y clasificación."
   ]
  },
  {
   "cell_type": "code",
   "execution_count": 7,
   "id": "d0522531",
   "metadata": {
    "execution": {
     "iopub.execute_input": "2023-10-30T11:16:31.701575Z",
     "iopub.status.busy": "2023-10-30T11:16:31.701377Z",
     "iopub.status.idle": "2023-10-30T11:19:42.187651Z",
     "shell.execute_reply": "2023-10-30T11:19:42.186903Z"
    },
    "papermill": {
     "duration": 190.493986,
     "end_time": "2023-10-30T11:19:42.191869",
     "exception": false,
     "start_time": "2023-10-30T11:16:31.697883",
     "status": "completed"
    },
    "tags": []
   },
   "outputs": [
    {
     "name": "stdout",
     "output_type": "stream",
     "text": [
      "20231030T121631 : amilcar22 : INFO : Iniciando entrenamiento\n",
      "num_iter: 1 , max_iter: 1\n"
     ]
    },
    {
     "name": "stdout",
     "output_type": "stream",
     "text": [
      "Fitting 5 folds for each of 1 candidates, totalling 5 fits\n"
     ]
    },
    {
     "name": "stdout",
     "output_type": "stream",
     "text": [
      "Mejores Hiperparámetros: {'selector__k': 1000, 'clasifier__kernel': 'rbf', 'clasifier__gamma': 0.001, 'clasifier__C': 100}\n",
      "Mejor Puntuación: 0.7322\n",
      "20231030T121942 : amilcar22 : INFO : Fin entrenamiento\n"
     ]
    }
   ],
   "source": [
    "myfunc.verbose(\"Iniciando entrenamiento\")\n",
    "\n",
    "kf = KFold(n_splits=5, shuffle=True, random_state=SEMILLA)\n",
    "\n",
    "# Crear el pipeline para el flujo de tareas\n",
    "tasks_pipeline = Pipeline([\n",
    "    ('selector', algor_selector),\n",
    "    ('clasifier', algor_clasifier)\n",
    "])\n",
    "\n",
    "# MAX_ITERS puede limitar el número de iteraciones si son excesivas para las combinaciones de parámetros buscando un óptimo local, \n",
    "# sino funcionaría como GridSearchCV al revisar todas las cominaciones de los parámetros\n",
    "num_iteraciones = 1\n",
    "num_iteraciones = num_iteraciones * np.prod([len(elemento1) for _, elemento1 in param_distributions.items()])\n",
    "max_iteraciones = num_iteraciones if num_iteraciones <= MAX_ITERS else MAX_ITERS\n",
    "print(\"num_iter:\",num_iteraciones,\", max_iter:\",max_iteraciones)\n",
    "\n",
    "random_search = RandomizedSearchCV(\n",
    "    tasks_pipeline, \n",
    "    param_distributions, \n",
    "    n_iter=max_iteraciones,\n",
    "    scoring=SCORING,\n",
    "    cv=kf,\n",
    "    verbose=3, \n",
    "    random_state=SEMILLA, \n",
    "    n_jobs=-1\n",
    "    )\n",
    "\n",
    "# Entrenar el modelo\n",
    "random_search.fit(X_train, y_train)\n",
    "\n",
    "# Ver los mejores hiperparámetros encontrados\n",
    "print(f'Mejores Hiperparámetros: {random_search.best_params_}')\n",
    "print(f'Mejor Puntuación: {random_search.best_score_:.4f}')\n",
    "\n",
    "# Nos quedamos con el mejor modelo para ver las métricas\n",
    "mejor_modelo = random_search.best_estimator_\n",
    "\n",
    "myfunc.verbose(\"Fin entrenamiento\")"
   ]
  },
  {
   "cell_type": "markdown",
   "id": "514c23f2",
   "metadata": {
    "papermill": {
     "duration": 0.00319,
     "end_time": "2023-10-30T11:19:42.198159",
     "exception": false,
     "start_time": "2023-10-30T11:19:42.194969",
     "status": "completed"
    },
    "tags": []
   },
   "source": [
    "#### Guardar modelo"
   ]
  },
  {
   "cell_type": "code",
   "execution_count": 8,
   "id": "42ff9367",
   "metadata": {
    "execution": {
     "iopub.execute_input": "2023-10-30T11:19:42.204901Z",
     "iopub.status.busy": "2023-10-30T11:19:42.204703Z",
     "iopub.status.idle": "2023-10-30T11:19:42.213520Z",
     "shell.execute_reply": "2023-10-30T11:19:42.212959Z"
    },
    "papermill": {
     "duration": 0.01383,
     "end_time": "2023-10-30T11:19:42.214886",
     "exception": false,
     "start_time": "2023-10-30T11:19:42.201056",
     "status": "completed"
    },
    "tags": []
   },
   "outputs": [
    {
     "name": "stdout",
     "output_type": "stream",
     "text": [
      "20231030T121942 : amilcar22 : INFO : Inicio guardar fichero ../tfm_git/ejecuciones/modelos/modelo_6191_mul_s_MI_SVM.pkl\n",
      "20231030T121942 : amilcar22 : INFO : Fin guardar fichero ../tfm_git/ejecuciones/modelos/modelo_6191_mul_s_MI_SVM.pkl\n"
     ]
    }
   ],
   "source": [
    "fichero_modelo = str.replace(\"modelo_\"+str(SEMILLA).zfill(4)+\"_\"+M_TIPO+\"_\"+M_SELECT+\"_\"+M_CLASIF+\".pkl\", \" \", \"_\")\n",
    "\n",
    "myfunc.save_modelo(mejor_modelo, myfunc.MODEL_DIR, fichero_modelo)"
   ]
  },
  {
   "cell_type": "markdown",
   "id": "04a127df",
   "metadata": {
    "papermill": {
     "duration": 0.002974,
     "end_time": "2023-10-30T11:19:42.221168",
     "exception": false,
     "start_time": "2023-10-30T11:19:42.218194",
     "status": "completed"
    },
    "tags": []
   },
   "source": [
    "#### Ver resultados del las iteraciones hechas por RandomSearchCV"
   ]
  },
  {
   "cell_type": "code",
   "execution_count": 9,
   "id": "c3ec6fc7",
   "metadata": {
    "execution": {
     "iopub.execute_input": "2023-10-30T11:19:42.228011Z",
     "iopub.status.busy": "2023-10-30T11:19:42.227815Z",
     "iopub.status.idle": "2023-10-30T11:19:42.233669Z",
     "shell.execute_reply": "2023-10-30T11:19:42.233241Z"
    },
    "papermill": {
     "duration": 0.010709,
     "end_time": "2023-10-30T11:19:42.234871",
     "exception": false,
     "start_time": "2023-10-30T11:19:42.224162",
     "status": "completed"
    },
    "tags": []
   },
   "outputs": [
    {
     "name": "stdout",
     "output_type": "stream",
     "text": [
      "20231030T121942 : amilcar22 : INFO : Inicio ver resultados\n",
      "Mejores Hiperparámetros: {'selector__k': 1000, 'clasifier__kernel': 'rbf', 'clasifier__gamma': 0.001, 'clasifier__C': 100}\n",
      "Mejores puntuaciones: 0.7322 | Params: {'selector__k': 1000, 'clasifier__kernel': 'rbf', 'clasifier__gamma': 0.001, 'clasifier__C': 100}\n",
      "Media de las puntuaciones: 0.7322 | Params: {'selector__k': 1000, 'clasifier__kernel': 'rbf', 'clasifier__gamma': 0.001, 'clasifier__C': 100}\n",
      "20231030T121942 : amilcar22 : INFO : Fin resultados\n"
     ]
    }
   ],
   "source": [
    "myfunc.ver_resultados_search(random_search)"
   ]
  },
  {
   "cell_type": "markdown",
   "id": "fa2ded6b",
   "metadata": {
    "papermill": {
     "duration": 0.003004,
     "end_time": "2023-10-30T11:19:42.241036",
     "exception": false,
     "start_time": "2023-10-30T11:19:42.238032",
     "status": "completed"
    },
    "tags": []
   },
   "source": [
    "#### Ver métricas del mejor modelo"
   ]
  },
  {
   "cell_type": "code",
   "execution_count": 10,
   "id": "c2fba5a8",
   "metadata": {
    "execution": {
     "iopub.execute_input": "2023-10-30T11:19:42.247973Z",
     "iopub.status.busy": "2023-10-30T11:19:42.247787Z",
     "iopub.status.idle": "2023-10-30T11:19:42.862817Z",
     "shell.execute_reply": "2023-10-30T11:19:42.862290Z"
    },
    "papermill": {
     "duration": 0.619957,
     "end_time": "2023-10-30T11:19:42.863946",
     "exception": false,
     "start_time": "2023-10-30T11:19:42.243989",
     "status": "completed"
    },
    "tags": []
   },
   "outputs": [
    {
     "name": "stdout",
     "output_type": "stream",
     "text": [
      "20231030T121942 : amilcar22 : INFO : Inicio ver métricas multiclase\n"
     ]
    },
    {
     "name": "stdout",
     "output_type": "stream",
     "text": [
      "              precision    recall  f1-score   support\n",
      "\n",
      "           0       0.50      0.27      0.35        11\n",
      "           1       0.50      0.50      0.50         8\n",
      "           2       0.22      0.25      0.24         8\n",
      "           3       0.33      0.40      0.36         5\n",
      "           4       0.73      1.00      0.84         8\n",
      "           5       0.75      0.50      0.60         6\n",
      "           6       0.25      0.33      0.29         6\n",
      "\n",
      "    accuracy                           0.46        52\n",
      "   macro avg       0.47      0.47      0.45        52\n",
      "weighted avg       0.48      0.46      0.45        52\n",
      "\n",
      "\n",
      "\n",
      "           Exactitud: 0.461538\n",
      "   Precisión (media): 0.468975\n",
      "      Recall (media): 0.465152\n",
      "    F1-score (media): 0.454242\n",
      "\n",
      "\n",
      "AUC para el tipo de cáncer 0-Control.... 0.5698\n",
      "AUC para el tipo de cáncer 1-Bladder.... 0.8722\n",
      "AUC para el tipo de cáncer 2-Breast..... 0.6449\n",
      "AUC para el tipo de cáncer 3-Colorectal. 0.6979\n",
      "AUC para el tipo de cáncer 4-Kidney..... 0.9915\n",
      "AUC para el tipo de cáncer 5-Lung....... 0.8841\n"
     ]
    },
    {
     "name": "stdout",
     "output_type": "stream",
     "text": [
      "AUC para el tipo de cáncer 6-Prostate... 0.7754\n",
      "\n",
      "Media de AUC: 0.7765\n"
     ]
    },
    {
     "data": {
      "image/png": "[encoded data removed]",
      "text/plain": [
       "<Figure size 1000x600 with 1 Axes>"
      ]
     },
     "metadata": {},
     "output_type": "display_data"
    },
    {
     "name": "stdout",
     "output_type": "stream",
     "text": [
      "\n",
      "\n"
     ]
    },
    {
     "data": {
      "image/png": "[encoded data removed]",
      "text/plain": [
       "<Figure size 800x400 with 2 Axes>"
      ]
     },
     "metadata": {},
     "output_type": "display_data"
    },
    {
     "name": "stdout",
     "output_type": "stream",
     "text": [
      "\n",
      "\n"
     ]
    },
    {
     "name": "stdout",
     "output_type": "stream",
     "text": [
      "Puntuación Jaccard para el cáncer tipo 0-Control.... 0.2143\n",
      "Puntuación Jaccard para el cáncer tipo 1-Bladder.... 0.3333\n",
      "Puntuación Jaccard para el cáncer tipo 2-Breast..... 0.1333\n",
      "Puntuación Jaccard para el cáncer tipo 3-Colorectal. 0.2222\n",
      "Puntuación Jaccard para el cáncer tipo 4-Kidney..... 0.7273\n",
      "Puntuación Jaccard para el cáncer tipo 5-Lung....... 0.4286\n",
      "Puntuación Jaccard para el cáncer tipo 6-Prostate... 0.1667\n",
      "\n",
      "Media de la puntuación de Jaccard: 0.3180\n"
     ]
    }
   ],
   "source": [
    "if M_TIPO.startswith(\"bin\"):\n",
    "    myfunc.ver_metricas(mejor_modelo, X_test, y_test)\n",
    "else:\n",
    "    myfunc.ver_metricas_multi(mejor_modelo, X_test, y_test)\n"
   ]
  },
  {
   "cell_type": "markdown",
   "id": "dba770d3",
   "metadata": {
    "papermill": {
     "duration": 0.004116,
     "end_time": "2023-10-30T11:19:42.872713",
     "exception": false,
     "start_time": "2023-10-30T11:19:42.868597",
     "status": "completed"
    },
    "tags": []
   },
   "source": [
    "#### Finalización del notebook"
   ]
  },
  {
   "cell_type": "code",
   "execution_count": 11,
   "id": "cbf621e2",
   "metadata": {
    "execution": {
     "iopub.execute_input": "2023-10-30T11:19:42.881771Z",
     "iopub.status.busy": "2023-10-30T11:19:42.881578Z",
     "iopub.status.idle": "2023-10-30T11:19:42.884978Z",
     "shell.execute_reply": "2023-10-30T11:19:42.884502Z"
    },
    "papermill": {
     "duration": 0.009327,
     "end_time": "2023-10-30T11:19:42.886122",
     "exception": false,
     "start_time": "2023-10-30T11:19:42.876795",
     "status": "completed"
    },
    "tags": []
   },
   "outputs": [
    {
     "name": "stdout",
     "output_type": "stream",
     "text": [
      "20231030T121942 : amilcar22 : INFO : Notebook ha tardado 191 seconds\n"
     ]
    }
   ],
   "source": [
    "end_time = datetime.datetime.now()\n",
    "total_time = end_time - start_time\n",
    "myfunc.verbose(f\"Notebook ha tardado {total_time.seconds} seconds\")"
   ]
  },
  {
   "cell_type": "markdown",
   "id": "201c9349",
   "metadata": {
    "papermill": {
     "duration": 0.004181,
     "end_time": "2023-10-30T11:19:42.894644",
     "exception": false,
     "start_time": "2023-10-30T11:19:42.890463",
     "status": "completed"
    },
    "tags": []
   },
   "source": [
    "#### Guardar métricas"
   ]
  },
  {
   "cell_type": "code",
   "execution_count": 12,
   "id": "547bfd5f",
   "metadata": {
    "execution": {
     "iopub.execute_input": "2023-10-30T11:19:42.903713Z",
     "iopub.status.busy": "2023-10-30T11:19:42.903531Z",
     "iopub.status.idle": "2023-10-30T11:19:43.105422Z",
     "shell.execute_reply": "2023-10-30T11:19:43.104858Z"
    },
    "papermill": {
     "duration": 0.207975,
     "end_time": "2023-10-30T11:19:43.106740",
     "exception": false,
     "start_time": "2023-10-30T11:19:42.898765",
     "status": "completed"
    },
    "tags": []
   },
   "outputs": [
    {
     "name": "stdout",
     "output_type": "stream",
     "text": [
      "20231030T121942 : amilcar22 : INFO : Inicio guardar métricas multiclase\n",
      "20231030T121942 : amilcar22 : INFO : Inicio leer fichero ../tfm_git/ejecuciones/metricas/metricas_6191.csv\n",
      "20231030T121942 : amilcar22 : INFO : Fin leer fichero ../tfm_git/ejecuciones/metricas/metricas_6191.csv\n"
     ]
    },
    {
     "name": "stdout",
     "output_type": "stream",
     "text": [
      "20231030T121943 : amilcar22 : INFO : Inicio guardar fichero ../tfm_git/ejecuciones/metricas/metricas_6191.csv\n",
      "20231030T121943 : amilcar22 : INFO : Fichero borrado ../tfm_git/ejecuciones/metricas/metricas_6191.csv\n"
     ]
    },
    {
     "name": "stdout",
     "output_type": "stream",
     "text": [
      "20231030T121943 : amilcar22 : INFO : Fin guardar fichero ../tfm_git/ejecuciones/metricas/metricas_6191.csv\n",
      "20231030T121943 : amilcar22 : INFO : Fin guardar métricas multiclase\n",
      "20231030T121943 : amilcar22 : INFO : Inicio leer fichero ../tfm_git/ejecuciones/metricas/metricas_6191.csv\n",
      "20231030T121943 : amilcar22 : INFO : Fin leer fichero ../tfm_git/ejecuciones/metricas/metricas_6191.csv\n"
     ]
    },
    {
     "data": {
      "text/html": [
       "<div>\n",
       "<style scoped>\n",
       "    .dataframe tbody tr th:only-of-type {\n",
       "        vertical-align: middle;\n",
       "    }\n",
       "\n",
       "    .dataframe tbody tr th {\n",
       "        vertical-align: top;\n",
       "    }\n",
       "\n",
       "    .dataframe thead th {\n",
       "        text-align: right;\n",
       "    }\n",
       "</style>\n",
       "<table border=\"1\" class=\"dataframe\">\n",
       "  <thead>\n",
       "    <tr style=\"text-align: right;\">\n",
       "      <th></th>\n",
       "      <th>tipo</th>\n",
       "      <th>select</th>\n",
       "      <th>clasific</th>\n",
       "      <th>semilla</th>\n",
       "      <th>accuracy</th>\n",
       "      <th>precision</th>\n",
       "      <th>recall</th>\n",
       "      <th>f1_score</th>\n",
       "      <th>roc_auc</th>\n",
       "      <th>hostname</th>\n",
       "      <th>total_time_sec</th>\n",
       "      <th>datetime</th>\n",
       "      <th>fichero_modelo</th>\n",
       "      <th>params</th>\n",
       "      <th>shape</th>\n",
       "      <th>features</th>\n",
       "      <th>roc_auc_ovr</th>\n",
       "      <th>indices_auc</th>\n",
       "      <th>indices_jaccard</th>\n",
       "    </tr>\n",
       "  </thead>\n",
       "  <tbody>\n",
       "    <tr>\n",
       "      <th>0</th>\n",
       "      <td>mul_s</td>\n",
       "      <td>MI</td>\n",
       "      <td>SVM</td>\n",
       "      <td>6191</td>\n",
       "      <td>0.461538</td>\n",
       "      <td>0.468975</td>\n",
       "      <td>0.465152</td>\n",
       "      <td>0.454242</td>\n",
       "      <td>NaN</td>\n",
       "      <td>amilcar22</td>\n",
       "      <td>191</td>\n",
       "      <td>2023-10-30 12:19:43.070965</td>\n",
       "      <td>modelo_6191_mul_s_MI_SVM.pkl</td>\n",
       "      <td>{'selector__k': 1000, 'clasifier__kernel': 'rb...</td>\n",
       "      <td>X_test:(52, 18875)</td>\n",
       "      <td>['ENSG00000003137.9', 'ENSG00000004864.14', 'E...</td>\n",
       "      <td>0.776523</td>\n",
       "      <td>[0.5698447893569845, 0.8721590909090909, 0.644...</td>\n",
       "      <td>[0.21428571428571427, 0.3333333333333333, 0.13...</td>\n",
       "    </tr>\n",
       "    <tr>\n",
       "      <th>0</th>\n",
       "      <td>mul_s</td>\n",
       "      <td>MI</td>\n",
       "      <td>RF</td>\n",
       "      <td>6191</td>\n",
       "      <td>0.346154</td>\n",
       "      <td>0.288652</td>\n",
       "      <td>0.339177</td>\n",
       "      <td>0.301359</td>\n",
       "      <td>NaN</td>\n",
       "      <td>amilcar22</td>\n",
       "      <td>212</td>\n",
       "      <td>2023-10-30 12:16:25.518076</td>\n",
       "      <td>modelo_6191_mul_s_MI_RF.pkl</td>\n",
       "      <td>{'selector__k': 500, 'clasifier__n_estimators'...</td>\n",
       "      <td>X_test:(52, 18875)</td>\n",
       "      <td>['ENSG00000005513.10', 'ENSG00000006025.13', '...</td>\n",
       "      <td>0.703084</td>\n",
       "      <td>[0.4767184035476718, 0.8039772727272727, 0.616...</td>\n",
       "      <td>[0.07142857142857142, 0.38461538461538464, 0.1...</td>\n",
       "    </tr>\n",
       "    <tr>\n",
       "      <th>0</th>\n",
       "      <td>mul_s</td>\n",
       "      <td>MI</td>\n",
       "      <td>LR_L2</td>\n",
       "      <td>6191</td>\n",
       "      <td>0.500000</td>\n",
       "      <td>0.541342</td>\n",
       "      <td>0.523485</td>\n",
       "      <td>0.492636</td>\n",
       "      <td>NaN</td>\n",
       "      <td>amilcar22</td>\n",
       "      <td>536</td>\n",
       "      <td>2023-10-30 12:12:46.656882</td>\n",
       "      <td>modelo_6191_mul_s_MI_LR_L2.pkl</td>\n",
       "      <td>{'selector__k': 500, 'clasifier__solver': 'sag...</td>\n",
       "      <td>X_test:(52, 18875)</td>\n",
       "      <td>['ENSG00000005513.10', 'ENSG00000006025.13', '...</td>\n",
       "      <td>0.817941</td>\n",
       "      <td>[0.5787139689578714, 0.8977272727272727, 0.747...</td>\n",
       "      <td>[0.21428571428571427, 0.5, 0.08333333333333333...</td>\n",
       "    </tr>\n",
       "  </tbody>\n",
       "</table>\n",
       "</div>"
      ],
      "text/plain": [
       "    tipo select clasific  semilla  accuracy  precision    recall  f1_score  \\\n",
       "0  mul_s     MI      SVM     6191  0.461538   0.468975  0.465152  0.454242   \n",
       "0  mul_s     MI       RF     6191  0.346154   0.288652  0.339177  0.301359   \n",
       "0  mul_s     MI    LR_L2     6191  0.500000   0.541342  0.523485  0.492636   \n",
       "\n",
       "   roc_auc   hostname  total_time_sec                    datetime  \\\n",
       "0      NaN  amilcar22             191  2023-10-30 12:19:43.070965   \n",
       "0      NaN  amilcar22             212  2023-10-30 12:16:25.518076   \n",
       "0      NaN  amilcar22             536  2023-10-30 12:12:46.656882   \n",
       "\n",
       "                   fichero_modelo  \\\n",
       "0    modelo_6191_mul_s_MI_SVM.pkl   \n",
       "0     modelo_6191_mul_s_MI_RF.pkl   \n",
       "0  modelo_6191_mul_s_MI_LR_L2.pkl   \n",
       "\n",
       "                                              params               shape  \\\n",
       "0  {'selector__k': 1000, 'clasifier__kernel': 'rb...  X_test:(52, 18875)   \n",
       "0  {'selector__k': 500, 'clasifier__n_estimators'...  X_test:(52, 18875)   \n",
       "0  {'selector__k': 500, 'clasifier__solver': 'sag...  X_test:(52, 18875)   \n",
       "\n",
       "                                            features  roc_auc_ovr  \\\n",
       "0  ['ENSG00000003137.9', 'ENSG00000004864.14', 'E...     0.776523   \n",
       "0  ['ENSG00000005513.10', 'ENSG00000006025.13', '...     0.703084   \n",
       "0  ['ENSG00000005513.10', 'ENSG00000006025.13', '...     0.817941   \n",
       "\n",
       "                                         indices_auc  \\\n",
       "0  [0.5698447893569845, 0.8721590909090909, 0.644...   \n",
       "0  [0.4767184035476718, 0.8039772727272727, 0.616...   \n",
       "0  [0.5787139689578714, 0.8977272727272727, 0.747...   \n",
       "\n",
       "                                     indices_jaccard  \n",
       "0  [0.21428571428571427, 0.3333333333333333, 0.13...  \n",
       "0  [0.07142857142857142, 0.38461538461538464, 0.1...  \n",
       "0  [0.21428571428571427, 0.5, 0.08333333333333333...  "
      ]
     },
     "metadata": {},
     "output_type": "display_data"
    }
   ],
   "source": [
    "if M_TIPO.startswith(\"bin\"):\n",
    "    myfunc.save_metricas_to_csv(random_search, X_test, y_test, M_TIPO, M_SELECT, M_CLASIF, total_time, SEMILLA, myfunc.MET_DIR, M_FICHERO, fichero_modelo)\n",
    "else:\n",
    "    myfunc.save_metricas_multi_to_csv(random_search, X_test, y_test, M_TIPO, M_SELECT, M_CLASIF, total_time, SEMILLA, myfunc.MET_DIR, M_FICHERO, fichero_modelo)\n",
    "\n",
    "df1=myfunc.read_metricas_to_df(myfunc.MET_DIR,M_FICHERO)\n",
    "\n",
    "display(df1.sort_values(\"datetime\", ascending=False)[:3])\n"
   ]
  },
  {
   "cell_type": "markdown",
   "id": "998025b2",
   "metadata": {
    "papermill": {
     "duration": 0.004306,
     "end_time": "2023-10-30T11:19:43.115878",
     "exception": false,
     "start_time": "2023-10-30T11:19:43.111572",
     "status": "completed"
    },
    "tags": []
   },
   "source": [
    "#### Guardar resultados"
   ]
  },
  {
   "cell_type": "code",
   "execution_count": 13,
   "id": "0f5084f3",
   "metadata": {
    "execution": {
     "iopub.execute_input": "2023-10-30T11:19:43.125601Z",
     "iopub.status.busy": "2023-10-30T11:19:43.125392Z",
     "iopub.status.idle": "2023-10-30T11:19:43.133751Z",
     "shell.execute_reply": "2023-10-30T11:19:43.133251Z"
    },
    "papermill": {
     "duration": 0.014701,
     "end_time": "2023-10-30T11:19:43.134908",
     "exception": false,
     "start_time": "2023-10-30T11:19:43.120207",
     "status": "completed"
    },
    "tags": []
   },
   "outputs": [
    {
     "name": "stdout",
     "output_type": "stream",
     "text": [
      "20231030T121943 : amilcar22 : INFO : Inicio guardar resultados\n",
      "20231030T121943 : amilcar22 : INFO : Inicio guardar fichero ../tfm_git/ejecuciones/metricas/resultados_6191_mul_s-MI-SVM.csv\n",
      "20231030T121943 : amilcar22 : INFO : Fin guardar fichero ../tfm_git/ejecuciones/metricas/resultados_6191_mul_s-MI-SVM.csv\n",
      "20231030T121943 : amilcar22 : INFO : Fin guardar resultados\n"
     ]
    }
   ],
   "source": [
    "fichero_resultados=R_FICHERO+\"_\"+M_TIPO+\"-\"+M_SELECT+\"-\"+M_CLASIF+\".csv\"\n",
    "myfunc.save_resultados_to_csv(M_TIPO, M_SELECT, M_CLASIF,  random_search, myfunc.MET_DIR, fichero_resultados)\n"
   ]
  }
 ],
 "metadata": {
  "kernelspec": {
   "display_name": "Python 3 (ipykernel)",
   "language": "python",
   "name": "python3"
  },
  "language_info": {
   "codemirror_mode": {
    "name": "ipython",
    "version": 3
   },
   "file_extension": ".py",
   "mimetype": "text/x-python",
   "name": "python",
   "nbconvert_exporter": "python",
   "pygments_lexer": "ipython3",
   "version": "3.10.12"
  },
  "papermill": {
   "default_parameters": {},
   "duration": 196.058637,
   "end_time": "2023-10-30T11:19:45.757280",
   "environment_variables": {},
   "exception": null,
   "input_path": "03_entrenamiento.ipynb",
   "output_path": "ejecuciones/training/03_entrenamiento.20231030T121629.param_0000_6191_mul_s_MI_SVM.output.ipynb",
   "parameters": {
    "MAX_ITERS": 500,
    "M_CLASIF": "SVM",
    "M_FICHERO": "metricas_6191",
    "M_SELECT": "MI",
    "M_TIPO": "mul_s",
    "PRE_DATA_FILE": "rows_transpose_norm_by_gene_id_with_target_num_",
    "P_FICHERO": "param_0000_6191_mul_s_MI_SVM.yaml",
    "R_FICHERO": "resultados_6191",
    "SCORING": "roc_auc_ovr",
    "SEMILLA": 6191,
    "eval_clasifier": "SVC(probability=True, random_state=SEMILLA)",
    "eval_selector": "SelectKBest(score_func=mutual_info_classif_state)",
    "param_distributions": {
     "clasifier__C": [
      100
     ],
     "clasifier__gamma": [
      0.001
     ],
     "clasifier__kernel": [
      "rbf"
     ],
     "selector__k": [
      1000
     ]
    }
   },
   "start_time": "2023-10-30T11:16:29.698643",
   "version": "2.4.0"
  }
 },
 "nbformat": 4,
 "nbformat_minor": 5
}