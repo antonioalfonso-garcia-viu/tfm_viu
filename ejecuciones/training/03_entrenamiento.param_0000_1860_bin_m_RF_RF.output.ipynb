{
 "cells": [
  {
   "cell_type": "markdown",
   "id": "90e857a0",
   "metadata": {
    "papermill": {
     "duration": 0.0,
     "end_time": "2023-10-29T19:22:37.984687",
     "exception": false,
     "start_time": "2023-10-29T19:22:37.984687",
     "status": "completed"
    },
    "tags": []
   },
   "source": [
    "##### Inicio"
   ]
  },
  {
   "cell_type": "markdown",
   "id": "c9676505",
   "metadata": {
    "papermill": {
     "duration": 0.0,
     "end_time": "2023-10-29T19:22:37.984687",
     "exception": false,
     "start_time": "2023-10-29T19:22:37.984687",
     "status": "completed"
    },
    "tags": []
   },
   "source": [
    "#### Carga de datos"
   ]
  },
  {
   "cell_type": "code",
   "execution_count": 1,
   "id": "d3a51422",
   "metadata": {
    "execution": {
     "iopub.execute_input": "2023-10-29T19:22:38.000381Z",
     "iopub.status.busy": "2023-10-29T19:22:38.000381Z",
     "iopub.status.idle": "2023-10-29T19:22:39.140933Z",
     "shell.execute_reply": "2023-10-29T19:22:39.140933Z"
    },
    "papermill": {
     "duration": 1.156246,
     "end_time": "2023-10-29T19:22:39.140933",
     "exception": false,
     "start_time": "2023-10-29T19:22:37.984687",
     "status": "completed"
    },
    "tags": []
   },
   "outputs": [
    {
     "name": "stdout",
     "output_type": "stream",
     "text": [
      "CPU_COUNT: 24; NODE: amilcar32; sys.version: 3.10.12 | packaged by Anaconda, Inc. | (main, Jul  5 2023, 19:09:20) [MSC v.1916 64 bit (AMD64)]\n",
      "LOKY_MAX_CPU_COUNT is not set.\n",
      "OMP_NUM_THREADS is not set.\n"
     ]
    }
   ],
   "source": [
    "import os\n",
    "import numpy as np\n",
    "import pandas as pd\n",
    "import datetime\n",
    "import sklearn\n",
    "import logging\n",
    "import warnings\n",
    "\n",
    "from sklearn.pipeline import Pipeline\n",
    "from sklearn.model_selection import RandomizedSearchCV, KFold, cross_val_score, train_test_split\n",
    "from sklearn.metrics import accuracy_score, confusion_matrix, classification_report, roc_auc_score\n",
    "\n",
    "#  cargar algoritmos para aprendizaje supervisado\n",
    "from sklearn.feature_selection import SelectKBest, f_classif, SelectFromModel, mutual_info_classif\n",
    "from sklearn.svm import SVC\n",
    "from sklearn.ensemble import RandomForestClassifier\n",
    "from sklearn.linear_model import LogisticRegression,LogisticRegressionCV\n",
    "\n",
    "# importar fichero con utilidades propias\n",
    "from commons import myfunctions as myfunc\n"
   ]
  },
  {
   "cell_type": "markdown",
   "id": "83549ff1",
   "metadata": {
    "papermill": {
     "duration": 0.0,
     "end_time": "2023-10-29T19:22:39.140933",
     "exception": false,
     "start_time": "2023-10-29T19:22:39.140933",
     "status": "completed"
    },
    "tags": []
   },
   "source": [
    "#### Parámetros a utilizar en el entrenamiento.\n",
    "\n",
    "Se indican los 3 algoritmos de *selección de características* (eval_selector_xxx) y los 3 algoritmos para la _clasificación_ (eval_clasifier_xxx)\n",
    "\n",
    "En *param_distributions* se indicar los parámetros que utilizan los algoritmos en la función RandomSearchCV.\n",
    "\n",
    "Esta celda tiene la etiqueta **parameters** que servirá para poder lanzar los entrenamientos con la utilidad **papermill** pasándole un fichero con los parámetros. Los nuevos parámetros se situarán tras esta celda para tener prevalencia."
   ]
  },
  {
   "cell_type": "code",
   "execution_count": 2,
   "id": "c2f074ea",
   "metadata": {
    "execution": {
     "iopub.execute_input": "2023-10-29T19:22:39.140933Z",
     "iopub.status.busy": "2023-10-29T19:22:39.140933Z",
     "iopub.status.idle": "2023-10-29T19:22:39.172260Z",
     "shell.execute_reply": "2023-10-29T19:22:39.172260Z"
    },
    "papermill": {
     "duration": 0.031327,
     "end_time": "2023-10-29T19:22:39.172260",
     "exception": false,
     "start_time": "2023-10-29T19:22:39.140933",
     "status": "completed"
    },
    "tags": [
     "parameters"
    ]
   },
   "outputs": [
    {
     "name": "stdout",
     "output_type": "stream",
     "text": [
      "20231029T202239 : amilcar32 : INFO : Utilizando parámetros de mul_m\n"
     ]
    }
   ],
   "source": [
    "#  Parametros para el entrenamiento\n",
    "\n",
    "SEMILLA=        42\n",
    "M_TIPO=         \"mul_m\"\n",
    "M_SELECT=       \"MI\"\n",
    "M_CLASIF=       \"SVM\"\n",
    "R_FICHERO=      \"resultados\"\n",
    "M_FICHERO=      \"metricas\"\n",
    "PRE_DATA_FILE=  \"rows_transpose_norm_by_gene_id_with_target_num_\"\n",
    "SCORING=        \"roc_auc_ovr\" \n",
    "MAX_ITERS=      100\n",
    "\n",
    "def mutual_info_classif_state(X, y):\n",
    "    return mutual_info_classif(X, y, random_state=SEMILLA)\n",
    "\n",
    "eval_selector_mi = \"SelectKBest(score_func=mutual_info_classif_state)\"\n",
    "eval_selector_rf=  \"SelectFromModel(estimator=RandomForestClassifier(random_state=SEMILLA), threshold=-np.inf)\"\n",
    "eval_selector_anova=  \"SelectKBest(score_func=f_classif)\"\n",
    "\n",
    "eval_clasifier_svm= \"SVC(probability=True, random_state=SEMILLA)\"\n",
    "eval_clasifier_rf= \"RandomForestClassifier(random_state=SEMILLA)\"\n",
    "eval_clasifier_lr= \"LogisticRegressionCV(random_state=SEMILLA)\"\n",
    "\n",
    "if M_TIPO.startswith(\"bin_m\"):\n",
    "    myfunc.verbose(f\"Utilizando parámetros de {M_TIPO}\")\n",
    "    eval_selector = eval_selector_mi\n",
    "    eval_clasifier = eval_clasifier_svm\n",
    "\n",
    "    SEMILLA = 6578\n",
    "    M_SELECT = \"MI\"\n",
    "    M_CLASIF = \"SVM\"\n",
    "    param_distributions = {'selector__k': [1000], \n",
    "         'clasifier__kernel': ['rbf'], 'clasifier__gamma': [0.01], 'clasifier__C': [100]}\n",
    "elif M_TIPO.startswith(\"bin_s\"):\n",
    "    myfunc.verbose(f\"Utilizando parámetros de {M_TIPO}\")\n",
    "    eval_selector = eval_selector_rf\n",
    "    eval_clasifier = eval_clasifier_lr\n",
    "\n",
    "    SEMILLA = 6191\n",
    "    M_SELECT = \"RF\"\n",
    "    M_CLASIF = \"LR_L2\"\n",
    "    param_distributions = {'selector__max_features': [1000], 'selector__estimator__n_estimators': [200], \n",
    "        'clasifier__solver': ['lbfgs'], 'clasifier__penalty': ['l2'], 'clasifier__max_iter': [10000]}\n",
    "\n",
    "elif M_TIPO.startswith(\"mul_m\"):\n",
    "    myfunc.verbose(f\"Utilizando parámetros de {M_TIPO}\")\n",
    " \n",
    "    eval_selector = eval_selector_rf\n",
    "    eval_clasifier = eval_clasifier_lr\n",
    "\n",
    "    SEMILLA = 6191\n",
    "    M_SELECT = \"RF\"\n",
    "    M_CLASIF = \"LR_L2\"\n",
    "    param_distributions = {'selector__max_features': [1000], 'selector__estimator__n_estimators': [400], \n",
    "        'clasifier__solver': ['lbfgs'], 'clasifier__penalty': ['l2'], 'clasifier__max_iter': [10000]}\n",
    "\n",
    "else:\n",
    "    # M_TIPO.startswith(\"mul_s\"):\n",
    "    myfunc.verbose(f\"Utilizando parámetros de {M_TIPO}\")\n",
    "    eval_selector = eval_selector_anova\n",
    "    eval_clasifier = eval_clasifier_lr\n",
    "\n",
    "    SEMILLA = 1860\n",
    "    M_SELECT = \"ANOVA\"\n",
    "    M_CLASIF = \"LR_L2\"\n",
    "    param_distributions = {'selector__k': [1000], \n",
    "        'clasifier__solver': ['saga'], 'clasifier__penalty': ['l2'], 'clasifier__max_iter': [10000]}\n",
    "\n"
   ]
  },
  {
   "cell_type": "code",
   "execution_count": 3,
   "id": "4ad257e9",
   "metadata": {
    "execution": {
     "iopub.execute_input": "2023-10-29T19:22:39.172260Z",
     "iopub.status.busy": "2023-10-29T19:22:39.172260Z",
     "iopub.status.idle": "2023-10-29T19:22:39.203507Z",
     "shell.execute_reply": "2023-10-29T19:22:39.203507Z"
    },
    "papermill": {
     "duration": 0.031247,
     "end_time": "2023-10-29T19:22:39.203507",
     "exception": false,
     "start_time": "2023-10-29T19:22:39.172260",
     "status": "completed"
    },
    "tags": [
     "injected-parameters"
    ]
   },
   "outputs": [],
   "source": [
    "# Parameters\n",
    "M_TIPO = \"bin_m\"\n",
    "M_SELECT = \"RF\"\n",
    "M_CLASIF = \"RF\"\n",
    "P_FICHERO = \"param_0000_1860_bin_m_RF_RF.yaml\"\n",
    "R_FICHERO = \"resultados_1860\"\n",
    "M_FICHERO = \"metricas_1860\"\n",
    "PRE_DATA_FILE = \"rows_transpose_norm_by_gene_id_with_target_num_\"\n",
    "SCORING = \"roc_auc_ovr\"\n",
    "SEMILLA = 1860\n",
    "MAX_ITERS = 500\n",
    "eval_selector = \"SelectFromModel(estimator=RandomForestClassifier(random_state=SEMILLA), threshold=-np.inf)\"\n",
    "eval_clasifier = \"RandomForestClassifier(random_state=SEMILLA)\"\n",
    "param_distributions = {\n",
    "    \"selector__max_features\": [500],\n",
    "    \"selector__estimator__n_estimators\": [400],\n",
    "    \"clasifier__n_estimators\": [400],\n",
    "    \"clasifier__min_samples_split\": [10],\n",
    "    \"clasifier__min_samples_leaf\": [5],\n",
    "    \"clasifier__max_features\": [500],\n",
    "    \"clasifier__max_depth\": [20],\n",
    "    \"clasifier__bootstrap\": [True],\n",
    "}\n"
   ]
  },
  {
   "cell_type": "code",
   "execution_count": 4,
   "id": "91583787",
   "metadata": {
    "execution": {
     "iopub.execute_input": "2023-10-29T19:22:39.219135Z",
     "iopub.status.busy": "2023-10-29T19:22:39.219135Z",
     "iopub.status.idle": "2023-10-29T19:22:39.234765Z",
     "shell.execute_reply": "2023-10-29T19:22:39.234765Z"
    },
    "papermill": {
     "duration": 0.031258,
     "end_time": "2023-10-29T19:22:39.234765",
     "exception": false,
     "start_time": "2023-10-29T19:22:39.203507",
     "status": "completed"
    },
    "tags": []
   },
   "outputs": [],
   "source": [
    "DATA_FILE = PRE_DATA_FILE + M_TIPO\n",
    "\n",
    "# si viene \"None\" en el parámetro max_depth, se le quitan las comillas para que no sea entendido por el algoritmo como un texto\n",
    "if \"clasifier__max_depth\" in param_distributions:\n",
    "    param_distributions['clasifier__max_depth'] = [None if x == 'None' else x for x in param_distributions['clasifier__max_depth']]"
   ]
  },
  {
   "cell_type": "markdown",
   "id": "1e726231",
   "metadata": {
    "papermill": {
     "duration": 0.015624,
     "end_time": "2023-10-29T19:22:39.250389",
     "exception": false,
     "start_time": "2023-10-29T19:22:39.234765",
     "status": "completed"
    },
    "tags": []
   },
   "source": [
    "Asignar los algoritmos que se utilizarán en la función RandomSearchCV"
   ]
  },
  {
   "cell_type": "code",
   "execution_count": 5,
   "id": "8c9527b8",
   "metadata": {
    "execution": {
     "iopub.execute_input": "2023-10-29T19:22:39.266012Z",
     "iopub.status.busy": "2023-10-29T19:22:39.266012Z",
     "iopub.status.idle": "2023-10-29T19:22:39.281631Z",
     "shell.execute_reply": "2023-10-29T19:22:39.281631Z"
    },
    "papermill": {
     "duration": 0.031242,
     "end_time": "2023-10-29T19:22:39.281631",
     "exception": false,
     "start_time": "2023-10-29T19:22:39.250389",
     "status": "completed"
    },
    "tags": []
   },
   "outputs": [],
   "source": [
    "algor_selector=eval(eval_selector)\n",
    "algor_clasifier=eval(eval_clasifier)"
   ]
  },
  {
   "cell_type": "markdown",
   "id": "a840c7fc",
   "metadata": {
    "papermill": {
     "duration": 0.015626,
     "end_time": "2023-10-29T19:22:39.297257",
     "exception": false,
     "start_time": "2023-10-29T19:22:39.281631",
     "status": "completed"
    },
    "tags": []
   },
   "source": [
    "#### Comprobar el entorno y leer fichero de muestras"
   ]
  },
  {
   "cell_type": "code",
   "execution_count": 6,
   "id": "f5d931c4",
   "metadata": {
    "execution": {
     "iopub.execute_input": "2023-10-29T19:22:39.297257Z",
     "iopub.status.busy": "2023-10-29T19:22:39.297257Z",
     "iopub.status.idle": "2023-10-29T19:22:39.531762Z",
     "shell.execute_reply": "2023-10-29T19:22:39.531762Z"
    },
    "papermill": {
     "duration": 0.234505,
     "end_time": "2023-10-29T19:22:39.531762",
     "exception": false,
     "start_time": "2023-10-29T19:22:39.297257",
     "status": "completed"
    },
    "tags": []
   },
   "outputs": [
    {
     "name": "stdout",
     "output_type": "stream",
     "text": [
      "20231029T202239 : amilcar32 : INFO : Encontrada carpeta DATA_DIR=..\\tfm_viu\\datos\n",
      "20231029T202239 : amilcar32 : INFO : Encontrada carpeta CFDNA_DIR=..\\tfm_viu\\datos\\cfDNA_5hmC\n",
      "20231029T202239 : amilcar32 : INFO : Encontrada carpeta GENCODE_DIR=..\\tfm_viu\\datos\\gencode\n",
      "20231029T202239 : amilcar32 : INFO : Encontrada carpeta H5_DIR=..\\tfm_viu\\datos\\h5\n",
      "20231029T202239 : amilcar32 : INFO : Encontrada carpeta LOG_DIR=..\\tfm_viu\\datos\\logs\n",
      "20231029T202239 : amilcar32 : INFO : Encontrada carpeta CSV_DIR=..\\tfm_viu\\datos\\csv\n",
      "20231029T202239 : amilcar32 : INFO : Encontrada carpeta MODEL_DIR=..\\tfm_viu\\ejecuciones\\modelos\n",
      "20231029T202239 : amilcar32 : INFO : Encontrada carpeta EXEC_DIR=..\\tfm_viu\\ejecuciones\n",
      "20231029T202239 : amilcar32 : INFO : Encontrada carpeta MET_DIR=..\\tfm_viu\\ejecuciones\\metricas\n",
      "20231029T202239 : amilcar32 : INFO : Inicio leer fichero h5 ..\\tfm_viu\\datos\\h5\\rows_transpose_norm_by_gene_id_with_target_num_bin_m.h5\n"
     ]
    },
    {
     "name": "stdout",
     "output_type": "stream",
     "text": [
      "20231029T202239 : amilcar32 : INFO : Leyendo clave /df\n"
     ]
    },
    {
     "name": "stdout",
     "output_type": "stream",
     "text": [
      "20231029T202239 : amilcar32 : INFO : Tamaño (720, 18876)\n",
      "20231029T202239 : amilcar32 : INFO : Fin leer fichero h5 ..\\tfm_viu\\datos\\h5\\rows_transpose_norm_by_gene_id_with_target_num_bin_m.h5\n"
     ]
    },
    {
     "data": {
      "text/plain": [
       "target\n",
       "0    360\n",
       "1    360\n",
       "dtype: int64"
      ]
     },
     "metadata": {},
     "output_type": "display_data"
    },
    {
     "name": "stdout",
     "output_type": "stream",
     "text": [
      "Shape df: (720, 18876)\n"
     ]
    },
    {
     "name": "stdout",
     "output_type": "stream",
     "text": [
      "Shape X_train: (576, 18875)\n",
      "Shape X_test: (144, 18875)\n"
     ]
    }
   ],
   "source": [
    "start_time = datetime.datetime.now()\n",
    "\n",
    "myfunc.reset_vars()\n",
    "\n",
    "myfunc.NOTEBK_FILENAME = myfunc.get_nb_name()\n",
    "\n",
    "myfunc.check_enviroment(myfunc.DATA_DIR, myfunc.CFDNA_DIR, myfunc.GENCODE_DIR, myfunc.H5_DIR, myfunc.LOG_DIR, myfunc.CSV_DIR, myfunc.MODEL_DIR, myfunc.EXEC_DIR, myfunc.MET_DIR)\n",
    "\n",
    "# Leer fichero con las muestras\n",
    "df_t = myfunc.read_h5_to_df(DATA_FILE, myfunc.H5_DIR)\n",
    "display(df_t.groupby(\"target\").size())\n",
    "print(\"Shape df:\",df_t.shape)\n",
    "\n",
    "# Separar caracteristicas/genes de las etiquetas/tipos de cáncer\n",
    "X = df_t.iloc[:, :-1]  # Todas las columnas excepto la última\n",
    "y = df_t.iloc[:, -1]  # La última columna contiene los identificadores de los tipos de cáncer\n",
    "\n",
    "#  Crear el conjunto de datos de entrenamiento y de pruebas, y se fija la semilla para siempre coger el mismo juego de muestras\n",
    "X_train, X_test, y_train, y_test = train_test_split(X, y, test_size=0.2, shuffle=True, random_state=42)\n",
    "print(\"Shape X_train:\",X_train.shape)\n",
    "print(\"Shape X_test:\",X_test.shape)\n"
   ]
  },
  {
   "cell_type": "markdown",
   "id": "0125d176",
   "metadata": {
    "papermill": {
     "duration": 0.0,
     "end_time": "2023-10-29T19:22:39.531762",
     "exception": false,
     "start_time": "2023-10-29T19:22:39.531762",
     "status": "completed"
    },
    "tags": []
   },
   "source": [
    "#### Selección de características y clasificación."
   ]
  },
  {
   "cell_type": "code",
   "execution_count": 7,
   "id": "31a7a500",
   "metadata": {
    "execution": {
     "iopub.execute_input": "2023-10-29T19:22:39.547281Z",
     "iopub.status.busy": "2023-10-29T19:22:39.547281Z",
     "iopub.status.idle": "2023-10-29T19:28:25.867787Z",
     "shell.execute_reply": "2023-10-29T19:28:25.867787Z"
    },
    "papermill": {
     "duration": 346.336025,
     "end_time": "2023-10-29T19:28:25.867787",
     "exception": false,
     "start_time": "2023-10-29T19:22:39.531762",
     "status": "completed"
    },
    "tags": []
   },
   "outputs": [
    {
     "name": "stdout",
     "output_type": "stream",
     "text": [
      "20231029T202239 : amilcar32 : INFO : Iniciando entrenamiento\n",
      "num_iter: 1 , max_iter: 1\n",
      "Fitting 5 folds for each of 1 candidates, totalling 5 fits\n"
     ]
    },
    {
     "name": "stdout",
     "output_type": "stream",
     "text": [
      "Mejores Hiperparámetros: {'selector__max_features': 500, 'selector__estimator__n_estimators': 400, 'clasifier__n_estimators': 400, 'clasifier__min_samples_split': 10, 'clasifier__min_samples_leaf': 5, 'clasifier__max_features': 500, 'clasifier__max_depth': 20, 'clasifier__bootstrap': True}\n",
      "Mejor Puntuación: 0.8754\n",
      "20231029T202825 : amilcar32 : INFO : Fin entrenamiento\n"
     ]
    }
   ],
   "source": [
    "myfunc.verbose(\"Iniciando entrenamiento\")\n",
    "\n",
    "kf = KFold(n_splits=5, shuffle=True, random_state=SEMILLA)\n",
    "\n",
    "# Crear el pipeline para el flujo de tareas\n",
    "tasks_pipeline = Pipeline([\n",
    "    ('selector', algor_selector),\n",
    "    ('clasifier', algor_clasifier)\n",
    "])\n",
    "\n",
    "# MAX_ITERS puede limitar el número de iteraciones si son excesivas para las combinaciones de parámetros buscando un óptimo local, \n",
    "# sino funcionaría como GridSearchCV al revisar todas las cominaciones de los parámetros\n",
    "num_iteraciones = 1\n",
    "num_iteraciones = num_iteraciones * np.prod([len(elemento1) for _, elemento1 in param_distributions.items()])\n",
    "max_iteraciones = num_iteraciones if num_iteraciones <= MAX_ITERS else MAX_ITERS\n",
    "print(\"num_iter:\",num_iteraciones,\", max_iter:\",max_iteraciones)\n",
    "\n",
    "random_search = RandomizedSearchCV(\n",
    "    tasks_pipeline, \n",
    "    param_distributions, \n",
    "    n_iter=max_iteraciones,\n",
    "    scoring=SCORING,\n",
    "    cv=kf,\n",
    "    verbose=3, \n",
    "    random_state=SEMILLA, \n",
    "    n_jobs=-1\n",
    "    )\n",
    "\n",
    "# Entrenar el modelo\n",
    "random_search.fit(X_train, y_train)\n",
    "\n",
    "# Ver los mejores hiperparámetros encontrados\n",
    "print(f'Mejores Hiperparámetros: {random_search.best_params_}')\n",
    "print(f'Mejor Puntuación: {random_search.best_score_:.4f}')\n",
    "\n",
    "# Nos quedamos con el mejor modelo para ver las métricas\n",
    "mejor_modelo = random_search.best_estimator_\n",
    "\n",
    "myfunc.verbose(\"Fin entrenamiento\")"
   ]
  },
  {
   "cell_type": "markdown",
   "id": "f4eff486",
   "metadata": {
    "papermill": {
     "duration": 0.015625,
     "end_time": "2023-10-29T19:28:25.899052",
     "exception": false,
     "start_time": "2023-10-29T19:28:25.883427",
     "status": "completed"
    },
    "tags": []
   },
   "source": [
    "#### Guardar modelo"
   ]
  },
  {
   "cell_type": "code",
   "execution_count": 8,
   "id": "5c6ad8b6",
   "metadata": {
    "execution": {
     "iopub.execute_input": "2023-10-29T19:28:25.930322Z",
     "iopub.status.busy": "2023-10-29T19:28:25.914689Z",
     "iopub.status.idle": "2023-10-29T19:28:26.696106Z",
     "shell.execute_reply": "2023-10-29T19:28:26.696106Z"
    },
    "papermill": {
     "duration": 0.781417,
     "end_time": "2023-10-29T19:28:26.696106",
     "exception": false,
     "start_time": "2023-10-29T19:28:25.914689",
     "status": "completed"
    },
    "tags": []
   },
   "outputs": [
    {
     "name": "stdout",
     "output_type": "stream",
     "text": [
      "20231029T202825 : amilcar32 : INFO : Inicio guardar fichero ..\\tfm_viu\\ejecuciones\\modelos\\modelo_1860_bin_m_RF_RF.pkl\n"
     ]
    },
    {
     "name": "stdout",
     "output_type": "stream",
     "text": [
      "20231029T202826 : amilcar32 : INFO : Fin guardar fichero ..\\tfm_viu\\ejecuciones\\modelos\\modelo_1860_bin_m_RF_RF.pkl\n"
     ]
    }
   ],
   "source": [
    "fichero_modelo = str.replace(\"modelo_\"+str(SEMILLA).zfill(4)+\"_\"+M_TIPO+\"_\"+M_SELECT+\"_\"+M_CLASIF+\".pkl\", \" \", \"_\")\n",
    "\n",
    "myfunc.save_modelo(mejor_modelo, myfunc.MODEL_DIR, fichero_modelo)"
   ]
  },
  {
   "cell_type": "markdown",
   "id": "29dc806d",
   "metadata": {
    "papermill": {
     "duration": 0.015613,
     "end_time": "2023-10-29T19:28:26.727174",
     "exception": false,
     "start_time": "2023-10-29T19:28:26.711561",
     "status": "completed"
    },
    "tags": []
   },
   "source": [
    "#### Ver resultados del las iteraciones hechas por RandomSearchCV"
   ]
  },
  {
   "cell_type": "code",
   "execution_count": 9,
   "id": "88207f67",
   "metadata": {
    "execution": {
     "iopub.execute_input": "2023-10-29T19:28:26.758436Z",
     "iopub.status.busy": "2023-10-29T19:28:26.742807Z",
     "iopub.status.idle": "2023-10-29T19:28:26.774189Z",
     "shell.execute_reply": "2023-10-29T19:28:26.774189Z"
    },
    "papermill": {
     "duration": 0.047015,
     "end_time": "2023-10-29T19:28:26.774189",
     "exception": false,
     "start_time": "2023-10-29T19:28:26.727174",
     "status": "completed"
    },
    "tags": []
   },
   "outputs": [
    {
     "name": "stdout",
     "output_type": "stream",
     "text": [
      "20231029T202826 : amilcar32 : INFO : Inicio ver resultados\n",
      "Mejores Hiperparámetros: {'selector__max_features': 500, 'selector__estimator__n_estimators': 400, 'clasifier__n_estimators': 400, 'clasifier__min_samples_split': 10, 'clasifier__min_samples_leaf': 5, 'clasifier__max_features': 500, 'clasifier__max_depth': 20, 'clasifier__bootstrap': True}\n",
      "Mejores puntuaciones: 0.8754 | Params: {'selector__max_features': 500, 'selector__estimator__n_estimators': 400, 'clasifier__n_estimators': 400, 'clasifier__min_samples_split': 10, 'clasifier__min_samples_leaf': 5, 'clasifier__max_features': 500, 'clasifier__max_depth': 20, 'clasifier__bootstrap': True}\n",
      "Media de las puntuaciones: 0.8754 | Params: {'selector__max_features': 500, 'selector__estimator__n_estimators': 400, 'clasifier__n_estimators': 400, 'clasifier__min_samples_split': 10, 'clasifier__min_samples_leaf': 5, 'clasifier__max_features': 500, 'clasifier__max_depth': 20, 'clasifier__bootstrap': True}\n",
      "20231029T202826 : amilcar32 : INFO : Fin resultados\n"
     ]
    }
   ],
   "source": [
    "myfunc.ver_resultados_search(random_search)"
   ]
  },
  {
   "cell_type": "markdown",
   "id": "a9213b17",
   "metadata": {
    "papermill": {
     "duration": 0.015632,
     "end_time": "2023-10-29T19:28:26.805312",
     "exception": false,
     "start_time": "2023-10-29T19:28:26.789680",
     "status": "completed"
    },
    "tags": []
   },
   "source": [
    "#### Ver métricas del mejor modelo"
   ]
  },
  {
   "cell_type": "code",
   "execution_count": 10,
   "id": "5984b9c5",
   "metadata": {
    "execution": {
     "iopub.execute_input": "2023-10-29T19:28:26.820930Z",
     "iopub.status.busy": "2023-10-29T19:28:26.820930Z",
     "iopub.status.idle": "2023-10-29T19:28:28.697386Z",
     "shell.execute_reply": "2023-10-29T19:28:28.697386Z"
    },
    "papermill": {
     "duration": 1.892074,
     "end_time": "2023-10-29T19:28:28.697386",
     "exception": false,
     "start_time": "2023-10-29T19:28:26.805312",
     "status": "completed"
    },
    "tags": []
   },
   "outputs": [
    {
     "name": "stdout",
     "output_type": "stream",
     "text": [
      "20231029T202826 : amilcar32 : INFO : Inicio ver métricas\n"
     ]
    },
    {
     "name": "stdout",
     "output_type": "stream",
     "text": [
      "              precision    recall  f1-score   support\n",
      "\n",
      "           0       0.83      0.88      0.85        82\n",
      "           1       0.82      0.76      0.79        62\n",
      "\n",
      "    accuracy                           0.83       144\n",
      "   macro avg       0.83      0.82      0.82       144\n",
      "weighted avg       0.83      0.83      0.83       144\n",
      "\n",
      "\n",
      "\n",
      "   Exactitud: 0.8264\n",
      "   Precisión: 0.8261\n",
      "Sensibilidad: 0.8181\n",
      "    F1-score: 0.8210\n",
      "     AUC ROC: 0.9022\n"
     ]
    },
    {
     "data": {
      "image/png": "[encoded data removed]",
      "text/plain": [
       "<Figure size 300x100 with 2 Axes>"
      ]
     },
     "metadata": {},
     "output_type": "display_data"
    },
    {
     "data": {
      "image/png": "[encoded data removed]",
      "text/plain": [
       "<Figure size 800x500 with 1 Axes>"
      ]
     },
     "metadata": {},
     "output_type": "display_data"
    },
    {
     "name": "stdout",
     "output_type": "stream",
     "text": [
      "20231029T202828 : amilcar32 : INFO : Fin ver métricas\n"
     ]
    }
   ],
   "source": [
    "if M_TIPO.startswith(\"bin\"):\n",
    "    myfunc.ver_metricas(mejor_modelo, X_test, y_test)\n",
    "else:\n",
    "    myfunc.ver_metricas_multi(mejor_modelo, X_test, y_test)\n"
   ]
  },
  {
   "cell_type": "markdown",
   "id": "b877f8da",
   "metadata": {
    "papermill": {
     "duration": 0.012094,
     "end_time": "2023-10-29T19:28:28.729065",
     "exception": false,
     "start_time": "2023-10-29T19:28:28.716971",
     "status": "completed"
    },
    "tags": []
   },
   "source": [
    "#### Finalización del notebook"
   ]
  },
  {
   "cell_type": "code",
   "execution_count": 11,
   "id": "d51997cf",
   "metadata": {
    "execution": {
     "iopub.execute_input": "2023-10-29T19:28:28.760399Z",
     "iopub.status.busy": "2023-10-29T19:28:28.760399Z",
     "iopub.status.idle": "2023-10-29T19:28:28.776199Z",
     "shell.execute_reply": "2023-10-29T19:28:28.776199Z"
    },
    "papermill": {
     "duration": 0.03141,
     "end_time": "2023-10-29T19:28:28.776199",
     "exception": false,
     "start_time": "2023-10-29T19:28:28.744789",
     "status": "completed"
    },
    "tags": []
   },
   "outputs": [
    {
     "name": "stdout",
     "output_type": "stream",
     "text": [
      "20231029T202828 : amilcar32 : INFO : Notebook ha tardado 349 seconds\n"
     ]
    }
   ],
   "source": [
    "end_time = datetime.datetime.now()\n",
    "total_time = end_time - start_time\n",
    "myfunc.verbose(f\"Notebook ha tardado {total_time.seconds} seconds\")"
   ]
  },
  {
   "cell_type": "markdown",
   "id": "d801080f",
   "metadata": {
    "papermill": {
     "duration": 0.0,
     "end_time": "2023-10-29T19:28:28.791655",
     "exception": false,
     "start_time": "2023-10-29T19:28:28.791655",
     "status": "completed"
    },
    "tags": []
   },
   "source": [
    "#### Guardar métricas"
   ]
  },
  {
   "cell_type": "code",
   "execution_count": 12,
   "id": "b472db30",
   "metadata": {
    "execution": {
     "iopub.execute_input": "2023-10-29T19:28:28.822907Z",
     "iopub.status.busy": "2023-10-29T19:28:28.822907Z",
     "iopub.status.idle": "2023-10-29T19:28:30.606837Z",
     "shell.execute_reply": "2023-10-29T19:28:30.606837Z"
    },
    "papermill": {
     "duration": 1.799556,
     "end_time": "2023-10-29T19:28:30.606837",
     "exception": false,
     "start_time": "2023-10-29T19:28:28.807281",
     "status": "completed"
    },
    "tags": []
   },
   "outputs": [
    {
     "name": "stdout",
     "output_type": "stream",
     "text": [
      "20231029T202829 : amilcar32 : INFO : Inicio guardar métricas\n",
      "20231029T202829 : amilcar32 : INFO : Inicio leer fichero ..\\tfm_viu\\ejecuciones\\metricas\\metricas_1860.csv\n",
      "20231029T202829 : amilcar32 : INFO : Fin leer fichero ..\\tfm_viu\\ejecuciones\\metricas\\metricas_1860.csv\n"
     ]
    },
    {
     "name": "stdout",
     "output_type": "stream",
     "text": [
      "20231029T202830 : amilcar32 : INFO : Inicio guardar fichero ..\\tfm_viu\\ejecuciones\\metricas\\metricas_1860.csv\n",
      "20231029T202830 : amilcar32 : INFO : Fichero borrado ..\\tfm_viu\\ejecuciones\\metricas\\metricas_1860.csv\n",
      "20231029T202830 : amilcar32 : INFO : Fin guardar fichero ..\\tfm_viu\\ejecuciones\\metricas\\metricas_1860.csv\n",
      "20231029T202830 : amilcar32 : INFO : Fin guardar métricas\n",
      "20231029T202830 : amilcar32 : INFO : Inicio leer fichero ..\\tfm_viu\\ejecuciones\\metricas\\metricas_1860.csv\n",
      "20231029T202830 : amilcar32 : INFO : Fin leer fichero ..\\tfm_viu\\ejecuciones\\metricas\\metricas_1860.csv\n"
     ]
    },
    {
     "data": {
      "text/html": [
       "<div>\n",
       "<style scoped>\n",
       "    .dataframe tbody tr th:only-of-type {\n",
       "        vertical-align: middle;\n",
       "    }\n",
       "\n",
       "    .dataframe tbody tr th {\n",
       "        vertical-align: top;\n",
       "    }\n",
       "\n",
       "    .dataframe thead th {\n",
       "        text-align: right;\n",
       "    }\n",
       "</style>\n",
       "<table border=\"1\" class=\"dataframe\">\n",
       "  <thead>\n",
       "    <tr style=\"text-align: right;\">\n",
       "      <th></th>\n",
       "      <th>tipo</th>\n",
       "      <th>select</th>\n",
       "      <th>clasific</th>\n",
       "      <th>semilla</th>\n",
       "      <th>accuracy</th>\n",
       "      <th>precision</th>\n",
       "      <th>recall</th>\n",
       "      <th>f1_score</th>\n",
       "      <th>roc_auc</th>\n",
       "      <th>hostname</th>\n",
       "      <th>total_time_sec</th>\n",
       "      <th>datetime</th>\n",
       "      <th>fichero_modelo</th>\n",
       "      <th>params</th>\n",
       "      <th>shape</th>\n",
       "      <th>features</th>\n",
       "    </tr>\n",
       "  </thead>\n",
       "  <tbody>\n",
       "    <tr>\n",
       "      <th>0</th>\n",
       "      <td>bin_m</td>\n",
       "      <td>RF</td>\n",
       "      <td>RF</td>\n",
       "      <td>1860</td>\n",
       "      <td>0.826389</td>\n",
       "      <td>0.826074</td>\n",
       "      <td>0.818057</td>\n",
       "      <td>0.820993</td>\n",
       "      <td>0.902242</td>\n",
       "      <td>amilcar32</td>\n",
       "      <td>349</td>\n",
       "      <td>2023-10-29 20:28:30.528580</td>\n",
       "      <td>modelo_1860_bin_m_RF_RF.pkl</td>\n",
       "      <td>{'selector__max_features': 500, 'selector__est...</td>\n",
       "      <td>X_test:(144, 18875)</td>\n",
       "      <td>['ENSG00000000971.17', 'ENSG00000002587.10', '...</td>\n",
       "    </tr>\n",
       "    <tr>\n",
       "      <th>0</th>\n",
       "      <td>bin_m</td>\n",
       "      <td>RF</td>\n",
       "      <td>LR_L2</td>\n",
       "      <td>1860</td>\n",
       "      <td>0.833333</td>\n",
       "      <td>0.829688</td>\n",
       "      <td>0.832022</td>\n",
       "      <td>0.830688</td>\n",
       "      <td>0.897522</td>\n",
       "      <td>amilcar32</td>\n",
       "      <td>32</td>\n",
       "      <td>2023-10-29 20:22:34.014398</td>\n",
       "      <td>modelo_1860_bin_m_RF_LR_L2.pkl</td>\n",
       "      <td>{'selector__max_features': 500, 'selector__est...</td>\n",
       "      <td>X_test:(144, 18875)</td>\n",
       "      <td>['ENSG00000000971.17', 'ENSG00000002587.10', '...</td>\n",
       "    </tr>\n",
       "    <tr>\n",
       "      <th>0</th>\n",
       "      <td>bin_m</td>\n",
       "      <td>RF</td>\n",
       "      <td>LR_L1</td>\n",
       "      <td>1860</td>\n",
       "      <td>0.833333</td>\n",
       "      <td>0.830952</td>\n",
       "      <td>0.828088</td>\n",
       "      <td>0.829350</td>\n",
       "      <td>0.913651</td>\n",
       "      <td>amilcar32</td>\n",
       "      <td>413</td>\n",
       "      <td>2023-10-29 20:21:56.081061</td>\n",
       "      <td>modelo_1860_bin_m_RF_LR_L1.pkl</td>\n",
       "      <td>{'selector__max_features': 500, 'selector__est...</td>\n",
       "      <td>X_test:(144, 18875)</td>\n",
       "      <td>['ENSG00000000971.17', 'ENSG00000002587.10', '...</td>\n",
       "    </tr>\n",
       "  </tbody>\n",
       "</table>\n",
       "</div>"
      ],
      "text/plain": [
       "    tipo select clasific  semilla  accuracy  precision    recall  f1_score  \\\n",
       "0  bin_m     RF       RF     1860  0.826389   0.826074  0.818057  0.820993   \n",
       "0  bin_m     RF    LR_L2     1860  0.833333   0.829688  0.832022  0.830688   \n",
       "0  bin_m     RF    LR_L1     1860  0.833333   0.830952  0.828088  0.829350   \n",
       "\n",
       "    roc_auc   hostname  total_time_sec                    datetime  \\\n",
       "0  0.902242  amilcar32             349  2023-10-29 20:28:30.528580   \n",
       "0  0.897522  amilcar32              32  2023-10-29 20:22:34.014398   \n",
       "0  0.913651  amilcar32             413  2023-10-29 20:21:56.081061   \n",
       "\n",
       "                   fichero_modelo  \\\n",
       "0     modelo_1860_bin_m_RF_RF.pkl   \n",
       "0  modelo_1860_bin_m_RF_LR_L2.pkl   \n",
       "0  modelo_1860_bin_m_RF_LR_L1.pkl   \n",
       "\n",
       "                                              params                shape  \\\n",
       "0  {'selector__max_features': 500, 'selector__est...  X_test:(144, 18875)   \n",
       "0  {'selector__max_features': 500, 'selector__est...  X_test:(144, 18875)   \n",
       "0  {'selector__max_features': 500, 'selector__est...  X_test:(144, 18875)   \n",
       "\n",
       "                                            features  \n",
       "0  ['ENSG00000000971.17', 'ENSG00000002587.10', '...  \n",
       "0  ['ENSG00000000971.17', 'ENSG00000002587.10', '...  \n",
       "0  ['ENSG00000000971.17', 'ENSG00000002587.10', '...  "
      ]
     },
     "metadata": {},
     "output_type": "display_data"
    }
   ],
   "source": [
    "if M_TIPO.startswith(\"bin\"):\n",
    "    myfunc.save_metricas_to_csv(random_search, X_test, y_test, M_TIPO, M_SELECT, M_CLASIF, total_time, SEMILLA, myfunc.MET_DIR, M_FICHERO, fichero_modelo)\n",
    "else:\n",
    "    myfunc.save_metricas_multi_to_csv(random_search, X_test, y_test, M_TIPO, M_SELECT, M_CLASIF, total_time, SEMILLA, myfunc.MET_DIR, M_FICHERO, fichero_modelo)\n",
    "\n",
    "df1=myfunc.read_metricas_to_df(myfunc.MET_DIR,M_FICHERO)\n",
    "\n",
    "display(df1.sort_values(\"datetime\", ascending=False)[:3])\n"
   ]
  },
  {
   "cell_type": "markdown",
   "id": "22dc03a9",
   "metadata": {
    "papermill": {
     "duration": 0.015629,
     "end_time": "2023-10-29T19:28:30.637936",
     "exception": false,
     "start_time": "2023-10-29T19:28:30.622307",
     "status": "completed"
    },
    "tags": []
   },
   "source": [
    "#### Guardar resultados"
   ]
  },
  {
   "cell_type": "code",
   "execution_count": 13,
   "id": "f21d4c15",
   "metadata": {
    "execution": {
     "iopub.execute_input": "2023-10-29T19:28:30.669195Z",
     "iopub.status.busy": "2023-10-29T19:28:30.669195Z",
     "iopub.status.idle": "2023-10-29T19:28:30.700539Z",
     "shell.execute_reply": "2023-10-29T19:28:30.700539Z"
    },
    "papermill": {
     "duration": 0.046965,
     "end_time": "2023-10-29T19:28:30.700539",
     "exception": false,
     "start_time": "2023-10-29T19:28:30.653574",
     "status": "completed"
    },
    "tags": []
   },
   "outputs": [
    {
     "name": "stdout",
     "output_type": "stream",
     "text": [
      "20231029T202830 : amilcar32 : INFO : Inicio guardar resultados\n",
      "20231029T202830 : amilcar32 : INFO : Inicio guardar fichero ..\\tfm_viu\\ejecuciones\\metricas\\resultados_1860_bin_m-RF-RF.csv\n",
      "20231029T202830 : amilcar32 : INFO : Fin guardar fichero ..\\tfm_viu\\ejecuciones\\metricas\\resultados_1860_bin_m-RF-RF.csv\n",
      "20231029T202830 : amilcar32 : INFO : Fin guardar resultados\n"
     ]
    }
   ],
   "source": [
    "fichero_resultados=R_FICHERO+\"_\"+M_TIPO+\"-\"+M_SELECT+\"-\"+M_CLASIF+\".csv\"\n",
    "myfunc.save_resultados_to_csv(M_TIPO, M_SELECT, M_CLASIF,  random_search, myfunc.MET_DIR, fichero_resultados)\n"
   ]
  }
 ],
 "metadata": {
  "kernelspec": {
   "display_name": "Python 3 (ipykernel)",
   "language": "python",
   "name": "python3"
  },
  "language_info": {
   "codemirror_mode": {
    "name": "ipython",
    "version": 3
   },
   "file_extension": ".py",
   "mimetype": "text/x-python",
   "name": "python",
   "nbconvert_exporter": "python",
   "pygments_lexer": "ipython3",
   "version": "3.10.12"
  },
  "papermill": {
   "default_parameters": {},
   "duration": 355.328655,
   "end_time": "2023-10-29T19:28:31.515713",
   "environment_variables": {},
   "exception": null,
   "input_path": "03_entrenamiento.ipynb",
   "output_path": "ejecuciones\\training\\03_entrenamiento.20231029T202235.param_0000_1860_bin_m_RF_RF.output.ipynb",
   "parameters": {
    "MAX_ITERS": 500,
    "M_CLASIF": "RF",
    "M_FICHERO": "metricas_1860",
    "M_SELECT": "RF",
    "M_TIPO": "bin_m",
    "PRE_DATA_FILE": "rows_transpose_norm_by_gene_id_with_target_num_",
    "P_FICHERO": "param_0000_1860_bin_m_RF_RF.yaml",
    "R_FICHERO": "resultados_1860",
    "SCORING": "roc_auc_ovr",
    "SEMILLA": 1860,
    "eval_clasifier": "RandomForestClassifier(random_state=SEMILLA)",
    "eval_selector": "SelectFromModel(estimator=RandomForestClassifier(random_state=SEMILLA), threshold=-np.inf)",
    "param_distributions": {
     "clasifier__bootstrap": [
      true
     ],
     "clasifier__max_depth": [
      20
     ],
     "clasifier__max_features": [
      500
     ],
     "clasifier__min_samples_leaf": [
      5
     ],
     "clasifier__min_samples_split": [
      10
     ],
     "clasifier__n_estimators": [
      400
     ],
     "selector__estimator__n_estimators": [
      400
     ],
     "selector__max_features": [
      500
     ]
    }
   },
   "start_time": "2023-10-29T19:22:36.187058",
   "version": "2.4.0"
  }
 },
 "nbformat": 4,
 "nbformat_minor": 5
}