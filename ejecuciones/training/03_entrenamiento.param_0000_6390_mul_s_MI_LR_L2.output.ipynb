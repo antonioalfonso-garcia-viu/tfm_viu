{
 "cells": [
  {
   "cell_type": "markdown",
   "id": "72916692",
   "metadata": {
    "papermill": {
     "duration": 0.004191,
     "end_time": "2023-10-30T18:08:00.455021",
     "exception": false,
     "start_time": "2023-10-30T18:08:00.450830",
     "status": "completed"
    },
    "tags": []
   },
   "source": [
    "##### Inicio"
   ]
  },
  {
   "cell_type": "markdown",
   "id": "830e7fbe",
   "metadata": {
    "papermill": {
     "duration": 0.003388,
     "end_time": "2023-10-30T18:08:00.462077",
     "exception": false,
     "start_time": "2023-10-30T18:08:00.458689",
     "status": "completed"
    },
    "tags": []
   },
   "source": [
    "#### Carga de datos"
   ]
  },
  {
   "cell_type": "code",
   "execution_count": 1,
   "id": "231350d0",
   "metadata": {
    "execution": {
     "iopub.execute_input": "2023-10-30T18:08:00.470423Z",
     "iopub.status.busy": "2023-10-30T18:08:00.469960Z",
     "iopub.status.idle": "2023-10-30T18:08:01.345446Z",
     "shell.execute_reply": "2023-10-30T18:08:01.344763Z"
    },
    "papermill": {
     "duration": 0.881297,
     "end_time": "2023-10-30T18:08:01.346858",
     "exception": false,
     "start_time": "2023-10-30T18:08:00.465561",
     "status": "completed"
    },
    "tags": []
   },
   "outputs": [
    {
     "name": "stdout",
     "output_type": "stream",
     "text": [
      "CPU_COUNT: 8; NODE: amilcar22; sys.version: 3.10.12 (main, Jul  5 2023, 19:22:19) [GCC 11.2.0]\n",
      "LOKY_MAX_CPU_COUNT: 6\n",
      "OMP_NUM_THREADS: 2\n"
     ]
    }
   ],
   "source": [
    "import os\n",
    "import numpy as np\n",
    "import pandas as pd\n",
    "import datetime\n",
    "import sklearn\n",
    "import logging\n",
    "import warnings\n",
    "\n",
    "from sklearn.pipeline import Pipeline\n",
    "from sklearn.model_selection import RandomizedSearchCV, KFold, cross_val_score, train_test_split\n",
    "from sklearn.metrics import accuracy_score, confusion_matrix, classification_report, roc_auc_score\n",
    "\n",
    "#  cargar algoritmos para aprendizaje supervisado\n",
    "from sklearn.feature_selection import SelectKBest, f_classif, SelectFromModel, mutual_info_classif\n",
    "from sklearn.svm import SVC\n",
    "from sklearn.ensemble import RandomForestClassifier\n",
    "from sklearn.linear_model import LogisticRegression,LogisticRegressionCV\n",
    "\n",
    "# importar fichero con utilidades propias\n",
    "from commons import myfunctions as myfunc\n"
   ]
  },
  {
   "cell_type": "markdown",
   "id": "e928f07a",
   "metadata": {
    "papermill": {
     "duration": 0.002586,
     "end_time": "2023-10-30T18:08:01.352387",
     "exception": false,
     "start_time": "2023-10-30T18:08:01.349801",
     "status": "completed"
    },
    "tags": []
   },
   "source": [
    "#### Parámetros a utilizar en el entrenamiento.\n",
    "\n",
    "Se indican los 3 algoritmos de *selección de características* (eval_selector_xxx) y los 3 algoritmos para la _clasificación_ (eval_clasifier_xxx)\n",
    "\n",
    "En *param_distributions* se indicar los parámetros que utilizan los algoritmos en la función RandomSearchCV.\n",
    "\n",
    "Esta celda tiene la etiqueta **parameters** que servirá para poder lanzar los entrenamientos con la utilidad **papermill** pasándole un fichero con los parámetros. Los nuevos parámetros se situarán tras esta celda para tener prevalencia."
   ]
  },
  {
   "cell_type": "code",
   "execution_count": 2,
   "id": "f112ce93",
   "metadata": {
    "execution": {
     "iopub.execute_input": "2023-10-30T18:08:01.358266Z",
     "iopub.status.busy": "2023-10-30T18:08:01.357991Z",
     "iopub.status.idle": "2023-10-30T18:08:01.364962Z",
     "shell.execute_reply": "2023-10-30T18:08:01.364506Z"
    },
    "papermill": {
     "duration": 0.011361,
     "end_time": "2023-10-30T18:08:01.366205",
     "exception": false,
     "start_time": "2023-10-30T18:08:01.354844",
     "status": "completed"
    },
    "tags": [
     "parameters"
    ]
   },
   "outputs": [
    {
     "name": "stdout",
     "output_type": "stream",
     "text": [
      "20231030T190801 : amilcar22 : INFO : Utilizando parámetros de mul_m\n"
     ]
    }
   ],
   "source": [
    "#  Parametros para el entrenamiento\n",
    "\n",
    "SEMILLA=        42\n",
    "M_TIPO=         \"mul_m\"\n",
    "M_SELECT=       \"MI\"\n",
    "M_CLASIF=       \"SVM\"\n",
    "R_FICHERO=      \"resultados\"\n",
    "M_FICHERO=      \"metricas\"\n",
    "PRE_DATA_FILE=  \"rows_transpose_norm_by_gene_id_with_target_num_\"\n",
    "SCORING=        \"roc_auc_ovr\" \n",
    "MAX_ITERS=      100\n",
    "\n",
    "def mutual_info_classif_state(X, y):\n",
    "    return mutual_info_classif(X, y, random_state=SEMILLA)\n",
    "\n",
    "eval_selector_mi = \"SelectKBest(score_func=mutual_info_classif_state)\"\n",
    "eval_selector_rf=  \"SelectFromModel(estimator=RandomForestClassifier(random_state=SEMILLA), threshold=-np.inf)\"\n",
    "eval_selector_anova=  \"SelectKBest(score_func=f_classif)\"\n",
    "\n",
    "eval_clasifier_svm= \"SVC(probability=True, random_state=SEMILLA)\"\n",
    "eval_clasifier_rf= \"RandomForestClassifier(random_state=SEMILLA)\"\n",
    "eval_clasifier_lr= \"LogisticRegressionCV(random_state=SEMILLA)\"\n",
    "\n",
    "if M_TIPO.startswith(\"bin_m\"):\n",
    "    myfunc.verbose(f\"Utilizando parámetros de {M_TIPO}\")\n",
    "    eval_selector = eval_selector_mi\n",
    "    eval_clasifier = eval_clasifier_svm\n",
    "\n",
    "    SEMILLA = 6578\n",
    "    M_SELECT = \"MI\"\n",
    "    M_CLASIF = \"SVM\"\n",
    "    param_distributions = {'selector__k': [1000], \n",
    "         'clasifier__kernel': ['rbf'], 'clasifier__gamma': [0.01], 'clasifier__C': [100]}\n",
    "elif M_TIPO.startswith(\"bin_s\"):\n",
    "    myfunc.verbose(f\"Utilizando parámetros de {M_TIPO}\")\n",
    "    eval_selector = eval_selector_rf\n",
    "    eval_clasifier = eval_clasifier_lr\n",
    "\n",
    "    SEMILLA = 6191\n",
    "    M_SELECT = \"RF\"\n",
    "    M_CLASIF = \"LR_L2\"\n",
    "    param_distributions = {'selector__max_features': [1000], 'selector__estimator__n_estimators': [200], \n",
    "        'clasifier__solver': ['lbfgs'], 'clasifier__penalty': ['l2'], 'clasifier__max_iter': [10000]}\n",
    "\n",
    "elif M_TIPO.startswith(\"mul_m\"):\n",
    "    myfunc.verbose(f\"Utilizando parámetros de {M_TIPO}\")\n",
    " \n",
    "    eval_selector = eval_selector_rf\n",
    "    eval_clasifier = eval_clasifier_lr\n",
    "\n",
    "    SEMILLA = 6191\n",
    "    M_SELECT = \"RF\"\n",
    "    M_CLASIF = \"LR_L2\"\n",
    "    param_distributions = {'selector__max_features': [1000], 'selector__estimator__n_estimators': [400], \n",
    "        'clasifier__solver': ['lbfgs'], 'clasifier__penalty': ['l2'], 'clasifier__max_iter': [10000]}\n",
    "\n",
    "else:\n",
    "    # M_TIPO.startswith(\"mul_s\"):\n",
    "    myfunc.verbose(f\"Utilizando parámetros de {M_TIPO}\")\n",
    "    eval_selector = eval_selector_anova\n",
    "    eval_clasifier = eval_clasifier_lr\n",
    "\n",
    "    SEMILLA = 1860\n",
    "    M_SELECT = \"ANOVA\"\n",
    "    M_CLASIF = \"LR_L2\"\n",
    "    param_distributions = {'selector__k': [1000], \n",
    "        'clasifier__solver': ['saga'], 'clasifier__penalty': ['l2'], 'clasifier__max_iter': [10000]}\n",
    "\n"
   ]
  },
  {
   "cell_type": "code",
   "execution_count": 3,
   "id": "85892442",
   "metadata": {
    "execution": {
     "iopub.execute_input": "2023-10-30T18:08:01.372369Z",
     "iopub.status.busy": "2023-10-30T18:08:01.372182Z",
     "iopub.status.idle": "2023-10-30T18:08:01.375519Z",
     "shell.execute_reply": "2023-10-30T18:08:01.375059Z"
    },
    "papermill": {
     "duration": 0.007793,
     "end_time": "2023-10-30T18:08:01.376749",
     "exception": false,
     "start_time": "2023-10-30T18:08:01.368956",
     "status": "completed"
    },
    "tags": [
     "injected-parameters"
    ]
   },
   "outputs": [],
   "source": [
    "# Parameters\n",
    "M_TIPO = \"mul_s\"\n",
    "M_SELECT = \"MI\"\n",
    "M_CLASIF = \"LR_L2\"\n",
    "P_FICHERO = \"param_0000_6390_mul_s_MI_LR_L2.yaml\"\n",
    "R_FICHERO = \"resultados_6390\"\n",
    "M_FICHERO = \"metricas_6390\"\n",
    "PRE_DATA_FILE = \"rows_transpose_norm_by_gene_id_with_target_num_\"\n",
    "SCORING = \"roc_auc_ovr\"\n",
    "SEMILLA = 6390\n",
    "MAX_ITERS = 500\n",
    "eval_selector = \"SelectKBest(score_func=mutual_info_classif_state)\"\n",
    "eval_clasifier = \"LogisticRegressionCV(random_state=SEMILLA)\"\n",
    "param_distributions = {\n",
    "    \"selector__k\": [500],\n",
    "    \"clasifier__solver\": [\"saga\"],\n",
    "    \"clasifier__penalty\": [\"l2\"],\n",
    "    \"clasifier__max_iter\": [10000],\n",
    "}\n"
   ]
  },
  {
   "cell_type": "code",
   "execution_count": 4,
   "id": "63837563",
   "metadata": {
    "execution": {
     "iopub.execute_input": "2023-10-30T18:08:01.382848Z",
     "iopub.status.busy": "2023-10-30T18:08:01.382689Z",
     "iopub.status.idle": "2023-10-30T18:08:01.385487Z",
     "shell.execute_reply": "2023-10-30T18:08:01.384998Z"
    },
    "papermill": {
     "duration": 0.007194,
     "end_time": "2023-10-30T18:08:01.386714",
     "exception": false,
     "start_time": "2023-10-30T18:08:01.379520",
     "status": "completed"
    },
    "tags": []
   },
   "outputs": [],
   "source": [
    "DATA_FILE = PRE_DATA_FILE + M_TIPO\n",
    "\n",
    "# si viene \"None\" en el parámetro max_depth, se le quitan las comillas para que no sea entendido por el algoritmo como un texto\n",
    "if \"clasifier__max_depth\" in param_distributions:\n",
    "    param_distributions['clasifier__max_depth'] = [None if x == 'None' else x for x in param_distributions['clasifier__max_depth']]"
   ]
  },
  {
   "cell_type": "markdown",
   "id": "3607d37a",
   "metadata": {
    "papermill": {
     "duration": 0.002568,
     "end_time": "2023-10-30T18:08:01.392097",
     "exception": false,
     "start_time": "2023-10-30T18:08:01.389529",
     "status": "completed"
    },
    "tags": []
   },
   "source": [
    "Asignar los algoritmos que se utilizarán en la función RandomSearchCV"
   ]
  },
  {
   "cell_type": "code",
   "execution_count": 5,
   "id": "a6e24d76",
   "metadata": {
    "execution": {
     "iopub.execute_input": "2023-10-30T18:08:01.398003Z",
     "iopub.status.busy": "2023-10-30T18:08:01.397843Z",
     "iopub.status.idle": "2023-10-30T18:08:01.400272Z",
     "shell.execute_reply": "2023-10-30T18:08:01.399853Z"
    },
    "papermill": {
     "duration": 0.006697,
     "end_time": "2023-10-30T18:08:01.401430",
     "exception": false,
     "start_time": "2023-10-30T18:08:01.394733",
     "status": "completed"
    },
    "tags": []
   },
   "outputs": [],
   "source": [
    "algor_selector=eval(eval_selector)\n",
    "algor_clasifier=eval(eval_clasifier)"
   ]
  },
  {
   "cell_type": "markdown",
   "id": "616ea9db",
   "metadata": {
    "papermill": {
     "duration": 0.002652,
     "end_time": "2023-10-30T18:08:01.406860",
     "exception": false,
     "start_time": "2023-10-30T18:08:01.404208",
     "status": "completed"
    },
    "tags": []
   },
   "source": [
    "#### Comprobar el entorno y leer fichero de muestras"
   ]
  },
  {
   "cell_type": "code",
   "execution_count": 6,
   "id": "d55b0263",
   "metadata": {
    "execution": {
     "iopub.execute_input": "2023-10-30T18:08:01.412811Z",
     "iopub.status.busy": "2023-10-30T18:08:01.412645Z",
     "iopub.status.idle": "2023-10-30T18:08:01.529232Z",
     "shell.execute_reply": "2023-10-30T18:08:01.528637Z"
    },
    "papermill": {
     "duration": 0.121161,
     "end_time": "2023-10-30T18:08:01.530640",
     "exception": false,
     "start_time": "2023-10-30T18:08:01.409479",
     "status": "completed"
    },
    "tags": []
   },
   "outputs": [
    {
     "name": "stdout",
     "output_type": "stream",
     "text": [
      "20231030T190801 : amilcar22 : INFO : Encontrada carpeta DATA_DIR=../tfm_git/datos\n",
      "20231030T190801 : amilcar22 : INFO : Encontrada carpeta CFDNA_DIR=../tfm_git/datos/cfDNA_5hmC\n",
      "20231030T190801 : amilcar22 : INFO : Encontrada carpeta GENCODE_DIR=../tfm_git/datos/gencode\n",
      "20231030T190801 : amilcar22 : INFO : Encontrada carpeta H5_DIR=../tfm_git/datos/h5\n",
      "20231030T190801 : amilcar22 : INFO : Encontrada carpeta LOG_DIR=../tfm_git/datos/logs\n",
      "20231030T190801 : amilcar22 : INFO : Encontrada carpeta CSV_DIR=../tfm_git/datos/csv\n",
      "20231030T190801 : amilcar22 : INFO : Encontrada carpeta MODEL_DIR=../tfm_git/ejecuciones/modelos\n",
      "20231030T190801 : amilcar22 : INFO : Encontrada carpeta EXEC_DIR=../tfm_git/ejecuciones\n",
      "20231030T190801 : amilcar22 : INFO : Encontrada carpeta MET_DIR=../tfm_git/ejecuciones/metricas\n",
      "20231030T190801 : amilcar22 : INFO : Inicio leer fichero h5 ../tfm_git/datos/h5/rows_transpose_norm_by_gene_id_with_target_num_mul_s.h5\n",
      "20231030T190801 : amilcar22 : INFO : Leyendo clave /df\n",
      "20231030T190801 : amilcar22 : INFO : Tamaño (259, 18876)\n",
      "20231030T190801 : amilcar22 : INFO : Fin leer fichero h5 ../tfm_git/datos/h5/rows_transpose_norm_by_gene_id_with_target_num_mul_s.h5\n"
     ]
    },
    {
     "data": {
      "text/plain": [
       "target\n",
       "0    37\n",
       "1    37\n",
       "2    37\n",
       "3    37\n",
       "4    37\n",
       "5    37\n",
       "6    37\n",
       "dtype: int64"
      ]
     },
     "metadata": {},
     "output_type": "display_data"
    },
    {
     "name": "stdout",
     "output_type": "stream",
     "text": [
      "Shape df: (259, 18876)\n",
      "Shape X_train: (207, 18875)\n",
      "Shape X_test: (52, 18875)\n"
     ]
    }
   ],
   "source": [
    "start_time = datetime.datetime.now()\n",
    "\n",
    "myfunc.reset_vars()\n",
    "\n",
    "myfunc.NOTEBK_FILENAME = myfunc.get_nb_name()\n",
    "\n",
    "myfunc.check_enviroment(myfunc.DATA_DIR, myfunc.CFDNA_DIR, myfunc.GENCODE_DIR, myfunc.H5_DIR, myfunc.LOG_DIR, myfunc.CSV_DIR, myfunc.MODEL_DIR, myfunc.EXEC_DIR, myfunc.MET_DIR)\n",
    "\n",
    "# Leer fichero con las muestras\n",
    "df_t = myfunc.read_h5_to_df(DATA_FILE, myfunc.H5_DIR)\n",
    "display(df_t.groupby(\"target\").size())\n",
    "print(\"Shape df:\",df_t.shape)\n",
    "\n",
    "# Separar caracteristicas/genes de las etiquetas/tipos de cáncer\n",
    "X = df_t.iloc[:, :-1]  # Todas las columnas excepto la última\n",
    "y = df_t.iloc[:, -1]  # La última columna contiene los identificadores de los tipos de cáncer\n",
    "\n",
    "#  Crear el conjunto de datos de entrenamiento y de pruebas, y se fija la semilla para siempre coger el mismo juego de muestras\n",
    "X_train, X_test, y_train, y_test = train_test_split(X, y, test_size=0.2, shuffle=True, random_state=42)\n",
    "print(\"Shape X_train:\",X_train.shape)\n",
    "print(\"Shape X_test:\",X_test.shape)\n"
   ]
  },
  {
   "cell_type": "markdown",
   "id": "7c222c59",
   "metadata": {
    "papermill": {
     "duration": 0.002961,
     "end_time": "2023-10-30T18:08:01.537013",
     "exception": false,
     "start_time": "2023-10-30T18:08:01.534052",
     "status": "completed"
    },
    "tags": []
   },
   "source": [
    "#### Selección de características y clasificación."
   ]
  },
  {
   "cell_type": "code",
   "execution_count": 7,
   "id": "25fdc334",
   "metadata": {
    "execution": {
     "iopub.execute_input": "2023-10-30T18:08:01.543451Z",
     "iopub.status.busy": "2023-10-30T18:08:01.543274Z",
     "iopub.status.idle": "2023-10-30T18:16:56.882796Z",
     "shell.execute_reply": "2023-10-30T18:16:56.882148Z"
    },
    "papermill": {
     "duration": 535.344323,
     "end_time": "2023-10-30T18:16:56.884146",
     "exception": false,
     "start_time": "2023-10-30T18:08:01.539823",
     "status": "completed"
    },
    "tags": []
   },
   "outputs": [
    {
     "name": "stdout",
     "output_type": "stream",
     "text": [
      "20231030T190801 : amilcar22 : INFO : Iniciando entrenamiento\n",
      "num_iter: 1 , max_iter: 1\n"
     ]
    },
    {
     "name": "stdout",
     "output_type": "stream",
     "text": [
      "Fitting 5 folds for each of 1 candidates, totalling 5 fits\n"
     ]
    },
    {
     "name": "stdout",
     "output_type": "stream",
     "text": [
      "[CV 2/5] END clasifier__max_iter=10000, clasifier__penalty=l2, clasifier__solver=saga, selector__k=500;, score=0.790 total time= 3.5min\n"
     ]
    },
    {
     "name": "stdout",
     "output_type": "stream",
     "text": [
      "[CV 1/5] END clasifier__max_iter=10000, clasifier__penalty=l2, clasifier__solver=saga, selector__k=500;, score=0.834 total time= 3.8min\n"
     ]
    },
    {
     "name": "stdout",
     "output_type": "stream",
     "text": [
      "[CV 3/5] END clasifier__max_iter=10000, clasifier__penalty=l2, clasifier__solver=saga, selector__k=500;, score=0.739 total time= 3.8min\n"
     ]
    },
    {
     "name": "stdout",
     "output_type": "stream",
     "text": [
      "Mejores Hiperparámetros: {'selector__k': 500, 'clasifier__solver': 'saga', 'clasifier__penalty': 'l2', 'clasifier__max_iter': 10000}\n",
      "Mejor Puntuación: 0.7878\n",
      "20231030T191656 : amilcar22 : INFO : Fin entrenamiento\n"
     ]
    }
   ],
   "source": [
    "myfunc.verbose(\"Iniciando entrenamiento\")\n",
    "\n",
    "kf = KFold(n_splits=5, shuffle=True, random_state=SEMILLA)\n",
    "\n",
    "# Crear el pipeline para el flujo de tareas\n",
    "tasks_pipeline = Pipeline([\n",
    "    ('selector', algor_selector),\n",
    "    ('clasifier', algor_clasifier)\n",
    "])\n",
    "\n",
    "# MAX_ITERS puede limitar el número de iteraciones si son excesivas para las combinaciones de parámetros buscando un óptimo local, \n",
    "# sino funcionaría como GridSearchCV al revisar todas las cominaciones de los parámetros\n",
    "num_iteraciones = 1\n",
    "num_iteraciones = num_iteraciones * np.prod([len(elemento1) for _, elemento1 in param_distributions.items()])\n",
    "max_iteraciones = num_iteraciones if num_iteraciones <= MAX_ITERS else MAX_ITERS\n",
    "print(\"num_iter:\",num_iteraciones,\", max_iter:\",max_iteraciones)\n",
    "\n",
    "random_search = RandomizedSearchCV(\n",
    "    tasks_pipeline, \n",
    "    param_distributions, \n",
    "    n_iter=max_iteraciones,\n",
    "    scoring=SCORING,\n",
    "    cv=kf,\n",
    "    verbose=3, \n",
    "    random_state=SEMILLA, \n",
    "    n_jobs=-1\n",
    "    )\n",
    "\n",
    "# Entrenar el modelo\n",
    "random_search.fit(X_train, y_train)\n",
    "\n",
    "# Ver los mejores hiperparámetros encontrados\n",
    "print(f'Mejores Hiperparámetros: {random_search.best_params_}')\n",
    "print(f'Mejor Puntuación: {random_search.best_score_:.4f}')\n",
    "\n",
    "# Nos quedamos con el mejor modelo para ver las métricas\n",
    "mejor_modelo = random_search.best_estimator_\n",
    "\n",
    "myfunc.verbose(\"Fin entrenamiento\")"
   ]
  },
  {
   "cell_type": "markdown",
   "id": "bcd38927",
   "metadata": {
    "papermill": {
     "duration": 0.003087,
     "end_time": "2023-10-30T18:16:56.890717",
     "exception": false,
     "start_time": "2023-10-30T18:16:56.887630",
     "status": "completed"
    },
    "tags": []
   },
   "source": [
    "#### Guardar modelo"
   ]
  },
  {
   "cell_type": "code",
   "execution_count": 8,
   "id": "e19a4ad4",
   "metadata": {
    "execution": {
     "iopub.execute_input": "2023-10-30T18:16:56.897749Z",
     "iopub.status.busy": "2023-10-30T18:16:56.897557Z",
     "iopub.status.idle": "2023-10-30T18:16:56.906618Z",
     "shell.execute_reply": "2023-10-30T18:16:56.906095Z"
    },
    "papermill": {
     "duration": 0.01414,
     "end_time": "2023-10-30T18:16:56.907913",
     "exception": false,
     "start_time": "2023-10-30T18:16:56.893773",
     "status": "completed"
    },
    "tags": []
   },
   "outputs": [
    {
     "name": "stdout",
     "output_type": "stream",
     "text": [
      "20231030T191656 : amilcar22 : INFO : Inicio guardar fichero ../tfm_git/ejecuciones/modelos/modelo_6390_mul_s_MI_LR_L2.pkl\n",
      "20231030T191656 : amilcar22 : INFO : Fin guardar fichero ../tfm_git/ejecuciones/modelos/modelo_6390_mul_s_MI_LR_L2.pkl\n"
     ]
    }
   ],
   "source": [
    "fichero_modelo = str.replace(\"modelo_\"+str(SEMILLA).zfill(4)+\"_\"+M_TIPO+\"_\"+M_SELECT+\"_\"+M_CLASIF+\".pkl\", \" \", \"_\")\n",
    "\n",
    "myfunc.save_modelo(mejor_modelo, myfunc.MODEL_DIR, fichero_modelo)"
   ]
  },
  {
   "cell_type": "markdown",
   "id": "602f7274",
   "metadata": {
    "papermill": {
     "duration": 0.003066,
     "end_time": "2023-10-30T18:16:56.914336",
     "exception": false,
     "start_time": "2023-10-30T18:16:56.911270",
     "status": "completed"
    },
    "tags": []
   },
   "source": [
    "#### Ver resultados del las iteraciones hechas por RandomSearchCV"
   ]
  },
  {
   "cell_type": "code",
   "execution_count": 9,
   "id": "bbc6271f",
   "metadata": {
    "execution": {
     "iopub.execute_input": "2023-10-30T18:16:56.921342Z",
     "iopub.status.busy": "2023-10-30T18:16:56.921156Z",
     "iopub.status.idle": "2023-10-30T18:16:56.926717Z",
     "shell.execute_reply": "2023-10-30T18:16:56.926221Z"
    },
    "papermill": {
     "duration": 0.010376,
     "end_time": "2023-10-30T18:16:56.927841",
     "exception": false,
     "start_time": "2023-10-30T18:16:56.917465",
     "status": "completed"
    },
    "tags": []
   },
   "outputs": [
    {
     "name": "stdout",
     "output_type": "stream",
     "text": [
      "20231030T191656 : amilcar22 : INFO : Inicio ver resultados\n",
      "Mejores Hiperparámetros: {'selector__k': 500, 'clasifier__solver': 'saga', 'clasifier__penalty': 'l2', 'clasifier__max_iter': 10000}\n",
      "Mejores puntuaciones: 0.7878 | Params: {'selector__k': 500, 'clasifier__solver': 'saga', 'clasifier__penalty': 'l2', 'clasifier__max_iter': 10000}\n",
      "Media de las puntuaciones: 0.7878 | Params: {'selector__k': 500, 'clasifier__solver': 'saga', 'clasifier__penalty': 'l2', 'clasifier__max_iter': 10000}\n",
      "20231030T191656 : amilcar22 : INFO : Fin resultados\n"
     ]
    }
   ],
   "source": [
    "myfunc.ver_resultados_search(random_search)"
   ]
  },
  {
   "cell_type": "markdown",
   "id": "2804093e",
   "metadata": {
    "papermill": {
     "duration": 0.003238,
     "end_time": "2023-10-30T18:16:56.934577",
     "exception": false,
     "start_time": "2023-10-30T18:16:56.931339",
     "status": "completed"
    },
    "tags": []
   },
   "source": [
    "#### Ver métricas del mejor modelo"
   ]
  },
  {
   "cell_type": "code",
   "execution_count": 10,
   "id": "220fd24d",
   "metadata": {
    "execution": {
     "iopub.execute_input": "2023-10-30T18:16:56.941694Z",
     "iopub.status.busy": "2023-10-30T18:16:56.941494Z",
     "iopub.status.idle": "2023-10-30T18:16:57.555371Z",
     "shell.execute_reply": "2023-10-30T18:16:57.554757Z"
    },
    "papermill": {
     "duration": 0.618819,
     "end_time": "2023-10-30T18:16:57.556533",
     "exception": false,
     "start_time": "2023-10-30T18:16:56.937714",
     "status": "completed"
    },
    "tags": []
   },
   "outputs": [
    {
     "name": "stdout",
     "output_type": "stream",
     "text": [
      "20231030T191656 : amilcar22 : INFO : Inicio ver métricas multiclase\n",
      "              precision    recall  f1-score   support\n",
      "\n",
      "           0       0.29      0.18      0.22        11\n",
      "           1       1.00      0.38      0.55         8\n",
      "           2       0.14      0.12      0.13         8\n",
      "           3       0.29      0.40      0.33         5\n",
      "           4       0.67      1.00      0.80         8\n",
      "           5       0.20      0.17      0.18         6\n",
      "           6       0.36      0.67      0.47         6\n",
      "\n",
      "    accuracy                           0.40        52\n",
      "   macro avg       0.42      0.42      0.38        52\n",
      "weighted avg       0.43      0.40      0.38        52\n",
      "\n"
     ]
    },
    {
     "name": "stdout",
     "output_type": "stream",
     "text": [
      "\n",
      "\n",
      "           Exactitud: 0.403846\n",
      "   Precisión (media): 0.420656\n",
      "      Recall (media): 0.416450\n",
      "    F1-score (media): 0.383821\n",
      "\n",
      "\n",
      "AUC para el tipo de cáncer 0-Control.... 0.6186\n",
      "AUC para el tipo de cáncer 1-Bladder.... 0.8608\n",
      "AUC para el tipo de cáncer 2-Breast..... 0.7159\n",
      "AUC para el tipo de cáncer 3-Colorectal. 0.8043\n",
      "AUC para el tipo de cáncer 4-Kidney..... 0.9290\n",
      "AUC para el tipo de cáncer 5-Lung....... 0.8877\n",
      "AUC para el tipo de cáncer 6-Prostate... 0.8696\n",
      "\n",
      "Media de AUC: 0.8123\n"
     ]
    },
    {
     "data": {
      "image/png": "[encoded data removed]",
      "text/plain": [
       "<Figure size 1000x600 with 1 Axes>"
      ]
     },
     "metadata": {},
     "output_type": "display_data"
    },
    {
     "name": "stdout",
     "output_type": "stream",
     "text": [
      "\n",
      "\n"
     ]
    },
    {
     "data": {
      "image/png": "[encoded data removed]",
      "text/plain": [
       "<Figure size 800x400 with 2 Axes>"
      ]
     },
     "metadata": {},
     "output_type": "display_data"
    },
    {
     "name": "stdout",
     "output_type": "stream",
     "text": [
      "\n",
      "\n",
      "Puntuación Jaccard para el cáncer tipo 0-Control.... 0.1250\n",
      "Puntuación Jaccard para el cáncer tipo 1-Bladder.... 0.3750\n",
      "Puntuación Jaccard para el cáncer tipo 2-Breast..... 0.0714\n",
      "Puntuación Jaccard para el cáncer tipo 3-Colorectal. 0.2000\n",
      "Puntuación Jaccard para el cáncer tipo 4-Kidney..... 0.6667\n",
      "Puntuación Jaccard para el cáncer tipo 5-Lung....... 0.1000\n",
      "Puntuación Jaccard para el cáncer tipo 6-Prostate... 0.3077\n",
      "\n",
      "Media de la puntuación de Jaccard: 0.2637\n"
     ]
    }
   ],
   "source": [
    "if M_TIPO.startswith(\"bin\"):\n",
    "    myfunc.ver_metricas(mejor_modelo, X_test, y_test)\n",
    "else:\n",
    "    myfunc.ver_metricas_multi(mejor_modelo, X_test, y_test)\n"
   ]
  },
  {
   "cell_type": "markdown",
   "id": "311d62ac",
   "metadata": {
    "papermill": {
     "duration": 0.004308,
     "end_time": "2023-10-30T18:16:57.565641",
     "exception": false,
     "start_time": "2023-10-30T18:16:57.561333",
     "status": "completed"
    },
    "tags": []
   },
   "source": [
    "#### Finalización del notebook"
   ]
  },
  {
   "cell_type": "code",
   "execution_count": 11,
   "id": "341a0d72",
   "metadata": {
    "execution": {
     "iopub.execute_input": "2023-10-30T18:16:57.575270Z",
     "iopub.status.busy": "2023-10-30T18:16:57.575039Z",
     "iopub.status.idle": "2023-10-30T18:16:57.578608Z",
     "shell.execute_reply": "2023-10-30T18:16:57.578105Z"
    },
    "papermill": {
     "duration": 0.009712,
     "end_time": "2023-10-30T18:16:57.579714",
     "exception": false,
     "start_time": "2023-10-30T18:16:57.570002",
     "status": "completed"
    },
    "tags": []
   },
   "outputs": [
    {
     "name": "stdout",
     "output_type": "stream",
     "text": [
      "20231030T191657 : amilcar22 : INFO : Notebook ha tardado 536 seconds\n"
     ]
    }
   ],
   "source": [
    "end_time = datetime.datetime.now()\n",
    "total_time = end_time - start_time\n",
    "myfunc.verbose(f\"Notebook ha tardado {total_time.seconds} seconds\")"
   ]
  },
  {
   "cell_type": "markdown",
   "id": "2308b390",
   "metadata": {
    "papermill": {
     "duration": 0.004248,
     "end_time": "2023-10-30T18:16:57.588143",
     "exception": false,
     "start_time": "2023-10-30T18:16:57.583895",
     "status": "completed"
    },
    "tags": []
   },
   "source": [
    "#### Guardar métricas"
   ]
  },
  {
   "cell_type": "code",
   "execution_count": 12,
   "id": "27c77633",
   "metadata": {
    "execution": {
     "iopub.execute_input": "2023-10-30T18:16:57.597324Z",
     "iopub.status.busy": "2023-10-30T18:16:57.597135Z",
     "iopub.status.idle": "2023-10-30T18:16:57.784937Z",
     "shell.execute_reply": "2023-10-30T18:16:57.784355Z"
    },
    "papermill": {
     "duration": 0.193951,
     "end_time": "2023-10-30T18:16:57.786266",
     "exception": false,
     "start_time": "2023-10-30T18:16:57.592315",
     "status": "completed"
    },
    "tags": []
   },
   "outputs": [
    {
     "name": "stdout",
     "output_type": "stream",
     "text": [
      "20231030T191657 : amilcar22 : INFO : Inicio guardar métricas multiclase\n",
      "20231030T191657 : amilcar22 : INFO : Inicio leer fichero ../tfm_git/ejecuciones/metricas/metricas_6390.csv\n",
      "20231030T191657 : amilcar22 : INFO : Fin leer fichero ../tfm_git/ejecuciones/metricas/metricas_6390.csv\n",
      "20231030T191657 : amilcar22 : INFO : Inicio guardar fichero ../tfm_git/ejecuciones/metricas/metricas_6390.csv\n"
     ]
    },
    {
     "name": "stdout",
     "output_type": "stream",
     "text": [
      "20231030T191657 : amilcar22 : INFO : Fichero borrado ../tfm_git/ejecuciones/metricas/metricas_6390.csv\n",
      "20231030T191657 : amilcar22 : INFO : Fin guardar fichero ../tfm_git/ejecuciones/metricas/metricas_6390.csv\n",
      "20231030T191657 : amilcar22 : INFO : Fin guardar métricas multiclase\n",
      "20231030T191657 : amilcar22 : INFO : Inicio leer fichero ../tfm_git/ejecuciones/metricas/metricas_6390.csv\n",
      "20231030T191657 : amilcar22 : INFO : Fin leer fichero ../tfm_git/ejecuciones/metricas/metricas_6390.csv\n"
     ]
    },
    {
     "data": {
      "text/html": [
       "<div>\n",
       "<style scoped>\n",
       "    .dataframe tbody tr th:only-of-type {\n",
       "        vertical-align: middle;\n",
       "    }\n",
       "\n",
       "    .dataframe tbody tr th {\n",
       "        vertical-align: top;\n",
       "    }\n",
       "\n",
       "    .dataframe thead th {\n",
       "        text-align: right;\n",
       "    }\n",
       "</style>\n",
       "<table border=\"1\" class=\"dataframe\">\n",
       "  <thead>\n",
       "    <tr style=\"text-align: right;\">\n",
       "      <th></th>\n",
       "      <th>tipo</th>\n",
       "      <th>select</th>\n",
       "      <th>clasific</th>\n",
       "      <th>semilla</th>\n",
       "      <th>accuracy</th>\n",
       "      <th>precision</th>\n",
       "      <th>recall</th>\n",
       "      <th>f1_score</th>\n",
       "      <th>roc_auc</th>\n",
       "      <th>hostname</th>\n",
       "      <th>total_time_sec</th>\n",
       "      <th>datetime</th>\n",
       "      <th>fichero_modelo</th>\n",
       "      <th>params</th>\n",
       "      <th>shape</th>\n",
       "      <th>features</th>\n",
       "      <th>roc_auc_ovr</th>\n",
       "      <th>indices_auc</th>\n",
       "      <th>indices_jaccard</th>\n",
       "    </tr>\n",
       "  </thead>\n",
       "  <tbody>\n",
       "    <tr>\n",
       "      <th>0</th>\n",
       "      <td>mul_s</td>\n",
       "      <td>MI</td>\n",
       "      <td>LR_L2</td>\n",
       "      <td>6390</td>\n",
       "      <td>0.403846</td>\n",
       "      <td>0.420656</td>\n",
       "      <td>0.416450</td>\n",
       "      <td>0.383821</td>\n",
       "      <td>NaN</td>\n",
       "      <td>amilcar22</td>\n",
       "      <td>536</td>\n",
       "      <td>2023-10-30 19:16:57.751629</td>\n",
       "      <td>modelo_6390_mul_s_MI_LR_L2.pkl</td>\n",
       "      <td>{'selector__k': 500, 'clasifier__solver': 'sag...</td>\n",
       "      <td>X_test:(52, 18875)</td>\n",
       "      <td>['ENSG00000003137.9', 'ENSG00000005513.10', 'E...</td>\n",
       "      <td>0.812258</td>\n",
       "      <td>[0.6186252771618627, 0.8607954545454545, 0.715...</td>\n",
       "      <td>[0.125, 0.375, 0.07142857142857142, 0.2, 0.666...</td>\n",
       "    </tr>\n",
       "    <tr>\n",
       "      <th>0</th>\n",
       "      <td>mul_s</td>\n",
       "      <td>MI</td>\n",
       "      <td>LR_L1</td>\n",
       "      <td>6390</td>\n",
       "      <td>0.442308</td>\n",
       "      <td>0.477417</td>\n",
       "      <td>0.464069</td>\n",
       "      <td>0.429744</td>\n",
       "      <td>NaN</td>\n",
       "      <td>amilcar22</td>\n",
       "      <td>767</td>\n",
       "      <td>2023-10-30 19:07:55.361761</td>\n",
       "      <td>modelo_6390_mul_s_MI_LR_L1.pkl</td>\n",
       "      <td>{'selector__k': 500, 'clasifier__solver': 'sag...</td>\n",
       "      <td>X_test:(52, 18875)</td>\n",
       "      <td>['ENSG00000003137.9', 'ENSG00000005513.10', 'E...</td>\n",
       "      <td>0.792789</td>\n",
       "      <td>[0.5609756097560976, 0.8806818181818181, 0.710...</td>\n",
       "      <td>[0.13333333333333333, 0.375, 0.166666666666666...</td>\n",
       "    </tr>\n",
       "    <tr>\n",
       "      <th>0</th>\n",
       "      <td>mul_s</td>\n",
       "      <td>MI</td>\n",
       "      <td>LR_EN</td>\n",
       "      <td>6390</td>\n",
       "      <td>0.500000</td>\n",
       "      <td>0.546279</td>\n",
       "      <td>0.507900</td>\n",
       "      <td>0.485621</td>\n",
       "      <td>NaN</td>\n",
       "      <td>amilcar22</td>\n",
       "      <td>1382</td>\n",
       "      <td>2023-10-30 18:55:01.797152</td>\n",
       "      <td>modelo_6390_mul_s_MI_LR_EN.pkl</td>\n",
       "      <td>{'selector__k': 1000, 'clasifier__solver': 'sa...</td>\n",
       "      <td>X_test:(52, 18875)</td>\n",
       "      <td>['ENSG00000003137.9', 'ENSG00000004864.14', 'E...</td>\n",
       "      <td>0.836884</td>\n",
       "      <td>[0.6452328159645233, 0.9289772727272727, 0.761...</td>\n",
       "      <td>[0.2857142857142857, 0.375, 0.1818181818181818...</td>\n",
       "    </tr>\n",
       "  </tbody>\n",
       "</table>\n",
       "</div>"
      ],
      "text/plain": [
       "    tipo select clasific  semilla  accuracy  precision    recall  f1_score  \\\n",
       "0  mul_s     MI    LR_L2     6390  0.403846   0.420656  0.416450  0.383821   \n",
       "0  mul_s     MI    LR_L1     6390  0.442308   0.477417  0.464069  0.429744   \n",
       "0  mul_s     MI    LR_EN     6390  0.500000   0.546279  0.507900  0.485621   \n",
       "\n",
       "   roc_auc   hostname  total_time_sec                    datetime  \\\n",
       "0      NaN  amilcar22             536  2023-10-30 19:16:57.751629   \n",
       "0      NaN  amilcar22             767  2023-10-30 19:07:55.361761   \n",
       "0      NaN  amilcar22            1382  2023-10-30 18:55:01.797152   \n",
       "\n",
       "                   fichero_modelo  \\\n",
       "0  modelo_6390_mul_s_MI_LR_L2.pkl   \n",
       "0  modelo_6390_mul_s_MI_LR_L1.pkl   \n",
       "0  modelo_6390_mul_s_MI_LR_EN.pkl   \n",
       "\n",
       "                                              params               shape  \\\n",
       "0  {'selector__k': 500, 'clasifier__solver': 'sag...  X_test:(52, 18875)   \n",
       "0  {'selector__k': 500, 'clasifier__solver': 'sag...  X_test:(52, 18875)   \n",
       "0  {'selector__k': 1000, 'clasifier__solver': 'sa...  X_test:(52, 18875)   \n",
       "\n",
       "                                            features  roc_auc_ovr  \\\n",
       "0  ['ENSG00000003137.9', 'ENSG00000005513.10', 'E...     0.812258   \n",
       "0  ['ENSG00000003137.9', 'ENSG00000005513.10', 'E...     0.792789   \n",
       "0  ['ENSG00000003137.9', 'ENSG00000004864.14', 'E...     0.836884   \n",
       "\n",
       "                                         indices_auc  \\\n",
       "0  [0.6186252771618627, 0.8607954545454545, 0.715...   \n",
       "0  [0.5609756097560976, 0.8806818181818181, 0.710...   \n",
       "0  [0.6452328159645233, 0.9289772727272727, 0.761...   \n",
       "\n",
       "                                     indices_jaccard  \n",
       "0  [0.125, 0.375, 0.07142857142857142, 0.2, 0.666...  \n",
       "0  [0.13333333333333333, 0.375, 0.166666666666666...  \n",
       "0  [0.2857142857142857, 0.375, 0.1818181818181818...  "
      ]
     },
     "metadata": {},
     "output_type": "display_data"
    }
   ],
   "source": [
    "if M_TIPO.startswith(\"bin\"):\n",
    "    myfunc.save_metricas_to_csv(random_search, X_test, y_test, M_TIPO, M_SELECT, M_CLASIF, total_time, SEMILLA, myfunc.MET_DIR, M_FICHERO, fichero_modelo)\n",
    "else:\n",
    "    myfunc.save_metricas_multi_to_csv(random_search, X_test, y_test, M_TIPO, M_SELECT, M_CLASIF, total_time, SEMILLA, myfunc.MET_DIR, M_FICHERO, fichero_modelo)\n",
    "\n",
    "df1=myfunc.read_metricas_to_df(myfunc.MET_DIR,M_FICHERO)\n",
    "\n",
    "display(df1.sort_values(\"datetime\", ascending=False)[:3])\n"
   ]
  },
  {
   "cell_type": "markdown",
   "id": "fdd5f956",
   "metadata": {
    "papermill": {
     "duration": 0.004828,
     "end_time": "2023-10-30T18:16:57.796241",
     "exception": false,
     "start_time": "2023-10-30T18:16:57.791413",
     "status": "completed"
    },
    "tags": []
   },
   "source": [
    "#### Guardar resultados"
   ]
  },
  {
   "cell_type": "code",
   "execution_count": 13,
   "id": "990a0797",
   "metadata": {
    "execution": {
     "iopub.execute_input": "2023-10-30T18:16:57.806049Z",
     "iopub.status.busy": "2023-10-30T18:16:57.805826Z",
     "iopub.status.idle": "2023-10-30T18:16:57.814406Z",
     "shell.execute_reply": "2023-10-30T18:16:57.813809Z"
    },
    "papermill": {
     "duration": 0.014964,
     "end_time": "2023-10-30T18:16:57.815689",
     "exception": false,
     "start_time": "2023-10-30T18:16:57.800725",
     "status": "completed"
    },
    "tags": []
   },
   "outputs": [
    {
     "name": "stdout",
     "output_type": "stream",
     "text": [
      "20231030T191657 : amilcar22 : INFO : Inicio guardar resultados\n",
      "20231030T191657 : amilcar22 : INFO : Inicio guardar fichero ../tfm_git/ejecuciones/metricas/resultados_6390_mul_s-MI-LR_L2.csv\n",
      "20231030T191657 : amilcar22 : INFO : Fin guardar fichero ../tfm_git/ejecuciones/metricas/resultados_6390_mul_s-MI-LR_L2.csv\n",
      "20231030T191657 : amilcar22 : INFO : Fin guardar resultados\n"
     ]
    }
   ],
   "source": [
    "fichero_resultados=R_FICHERO+\"_\"+M_TIPO+\"-\"+M_SELECT+\"-\"+M_CLASIF+\".csv\"\n",
    "myfunc.save_resultados_to_csv(M_TIPO, M_SELECT, M_CLASIF,  random_search, myfunc.MET_DIR, fichero_resultados)\n"
   ]
  }
 ],
 "metadata": {
  "kernelspec": {
   "display_name": "Python 3 (ipykernel)",
   "language": "python",
   "name": "python3"
  },
  "language_info": {
   "codemirror_mode": {
    "name": "ipython",
    "version": 3
   },
   "file_extension": ".py",
   "mimetype": "text/x-python",
   "name": "python",
   "nbconvert_exporter": "python",
   "pygments_lexer": "ipython3",
   "version": "3.10.12"
  },
  "papermill": {
   "default_parameters": {},
   "duration": 540.89832,
   "end_time": "2023-10-30T18:17:00.438922",
   "environment_variables": {},
   "exception": null,
   "input_path": "03_entrenamiento.ipynb",
   "output_path": "ejecuciones/training/03_entrenamiento.20231030T190759.param_0000_6390_mul_s_MI_LR_L2.output.ipynb",
   "parameters": {
    "MAX_ITERS": 500,
    "M_CLASIF": "LR_L2",
    "M_FICHERO": "metricas_6390",
    "M_SELECT": "MI",
    "M_TIPO": "mul_s",
    "PRE_DATA_FILE": "rows_transpose_norm_by_gene_id_with_target_num_",
    "P_FICHERO": "param_0000_6390_mul_s_MI_LR_L2.yaml",
    "R_FICHERO": "resultados_6390",
    "SCORING": "roc_auc_ovr",
    "SEMILLA": 6390,
    "eval_clasifier": "LogisticRegressionCV(random_state=SEMILLA)",
    "eval_selector": "SelectKBest(score_func=mutual_info_classif_state)",
    "param_distributions": {
     "clasifier__max_iter": [
      10000
     ],
     "clasifier__penalty": [
      "l2"
     ],
     "clasifier__solver": [
      "saga"
     ],
     "selector__k": [
      500
     ]
    }
   },
   "start_time": "2023-10-30T18:07:59.540602",
   "version": "2.4.0"
  }
 },
 "nbformat": 4,
 "nbformat_minor": 5
}