{
 "cells": [
  {
   "cell_type": "markdown",
   "id": "9b7837de",
   "metadata": {
    "papermill": {
     "duration": 0.004189,
     "end_time": "2023-10-29T22:50:49.819422",
     "exception": false,
     "start_time": "2023-10-29T22:50:49.815233",
     "status": "completed"
    },
    "tags": []
   },
   "source": [
    "##### Inicio"
   ]
  },
  {
   "cell_type": "markdown",
   "id": "8ee7a802",
   "metadata": {
    "papermill": {
     "duration": 0.003392,
     "end_time": "2023-10-29T22:50:49.826518",
     "exception": false,
     "start_time": "2023-10-29T22:50:49.823126",
     "status": "completed"
    },
    "tags": []
   },
   "source": [
    "#### Carga de datos"
   ]
  },
  {
   "cell_type": "code",
   "execution_count": 1,
   "id": "7bc506bb",
   "metadata": {
    "execution": {
     "iopub.execute_input": "2023-10-29T22:50:49.834723Z",
     "iopub.status.busy": "2023-10-29T22:50:49.834471Z",
     "iopub.status.idle": "2023-10-29T22:50:50.690250Z",
     "shell.execute_reply": "2023-10-29T22:50:50.689678Z"
    },
    "papermill": {
     "duration": 0.861547,
     "end_time": "2023-10-29T22:50:50.691557",
     "exception": false,
     "start_time": "2023-10-29T22:50:49.830010",
     "status": "completed"
    },
    "tags": []
   },
   "outputs": [
    {
     "name": "stdout",
     "output_type": "stream",
     "text": [
      "CPU_COUNT: 8; NODE: amilcar22; sys.version: 3.10.12 (main, Jul  5 2023, 19:22:19) [GCC 11.2.0]\n",
      "LOKY_MAX_CPU_COUNT: 6\n",
      "OMP_NUM_THREADS: 2\n"
     ]
    }
   ],
   "source": [
    "import os\n",
    "import numpy as np\n",
    "import pandas as pd\n",
    "import datetime\n",
    "import sklearn\n",
    "import logging\n",
    "import warnings\n",
    "\n",
    "from sklearn.pipeline import Pipeline\n",
    "from sklearn.model_selection import RandomizedSearchCV, KFold, cross_val_score, train_test_split\n",
    "from sklearn.metrics import accuracy_score, confusion_matrix, classification_report, roc_auc_score\n",
    "\n",
    "#  cargar algoritmos para aprendizaje supervisado\n",
    "from sklearn.feature_selection import SelectKBest, f_classif, SelectFromModel, mutual_info_classif\n",
    "from sklearn.svm import SVC\n",
    "from sklearn.ensemble import RandomForestClassifier\n",
    "from sklearn.linear_model import LogisticRegression,LogisticRegressionCV\n",
    "\n",
    "# importar fichero con utilidades propias\n",
    "from commons import myfunctions as myfunc\n"
   ]
  },
  {
   "cell_type": "markdown",
   "id": "42b1bcb4",
   "metadata": {
    "papermill": {
     "duration": 0.002654,
     "end_time": "2023-10-29T22:50:50.697183",
     "exception": false,
     "start_time": "2023-10-29T22:50:50.694529",
     "status": "completed"
    },
    "tags": []
   },
   "source": [
    "#### Parámetros a utilizar en el entrenamiento.\n",
    "\n",
    "Se indican los 3 algoritmos de *selección de características* (eval_selector_xxx) y los 3 algoritmos para la _clasificación_ (eval_clasifier_xxx)\n",
    "\n",
    "En *param_distributions* se indicar los parámetros que utilizan los algoritmos en la función RandomSearchCV.\n",
    "\n",
    "Esta celda tiene la etiqueta **parameters** que servirá para poder lanzar los entrenamientos con la utilidad **papermill** pasándole un fichero con los parámetros. Los nuevos parámetros se situarán tras esta celda para tener prevalencia."
   ]
  },
  {
   "cell_type": "code",
   "execution_count": 2,
   "id": "e4c2a0aa",
   "metadata": {
    "execution": {
     "iopub.execute_input": "2023-10-29T22:50:50.703151Z",
     "iopub.status.busy": "2023-10-29T22:50:50.702866Z",
     "iopub.status.idle": "2023-10-29T22:50:50.709694Z",
     "shell.execute_reply": "2023-10-29T22:50:50.709286Z"
    },
    "papermill": {
     "duration": 0.011226,
     "end_time": "2023-10-29T22:50:50.710888",
     "exception": false,
     "start_time": "2023-10-29T22:50:50.699662",
     "status": "completed"
    },
    "tags": [
     "parameters"
    ]
   },
   "outputs": [
    {
     "name": "stdout",
     "output_type": "stream",
     "text": [
      "20231029T235050 : amilcar22 : INFO : Utilizando parámetros de mul_m\n"
     ]
    }
   ],
   "source": [
    "#  Parametros para el entrenamiento\n",
    "\n",
    "SEMILLA=        42\n",
    "M_TIPO=         \"mul_m\"\n",
    "M_SELECT=       \"MI\"\n",
    "M_CLASIF=       \"SVM\"\n",
    "R_FICHERO=      \"resultados\"\n",
    "M_FICHERO=      \"metricas\"\n",
    "PRE_DATA_FILE=  \"rows_transpose_norm_by_gene_id_with_target_num_\"\n",
    "SCORING=        \"roc_auc_ovr\" \n",
    "MAX_ITERS=      100\n",
    "\n",
    "def mutual_info_classif_state(X, y):\n",
    "    return mutual_info_classif(X, y, random_state=SEMILLA)\n",
    "\n",
    "eval_selector_mi = \"SelectKBest(score_func=mutual_info_classif_state)\"\n",
    "eval_selector_rf=  \"SelectFromModel(estimator=RandomForestClassifier(random_state=SEMILLA), threshold=-np.inf)\"\n",
    "eval_selector_anova=  \"SelectKBest(score_func=f_classif)\"\n",
    "\n",
    "eval_clasifier_svm= \"SVC(probability=True, random_state=SEMILLA)\"\n",
    "eval_clasifier_rf= \"RandomForestClassifier(random_state=SEMILLA)\"\n",
    "eval_clasifier_lr= \"LogisticRegressionCV(random_state=SEMILLA)\"\n",
    "\n",
    "if M_TIPO.startswith(\"bin_m\"):\n",
    "    myfunc.verbose(f\"Utilizando parámetros de {M_TIPO}\")\n",
    "    eval_selector = eval_selector_mi\n",
    "    eval_clasifier = eval_clasifier_svm\n",
    "\n",
    "    SEMILLA = 6578\n",
    "    M_SELECT = \"MI\"\n",
    "    M_CLASIF = \"SVM\"\n",
    "    param_distributions = {'selector__k': [1000], \n",
    "         'clasifier__kernel': ['rbf'], 'clasifier__gamma': [0.01], 'clasifier__C': [100]}\n",
    "elif M_TIPO.startswith(\"bin_s\"):\n",
    "    myfunc.verbose(f\"Utilizando parámetros de {M_TIPO}\")\n",
    "    eval_selector = eval_selector_rf\n",
    "    eval_clasifier = eval_clasifier_lr\n",
    "\n",
    "    SEMILLA = 6191\n",
    "    M_SELECT = \"RF\"\n",
    "    M_CLASIF = \"LR_L2\"\n",
    "    param_distributions = {'selector__max_features': [1000], 'selector__estimator__n_estimators': [200], \n",
    "        'clasifier__solver': ['lbfgs'], 'clasifier__penalty': ['l2'], 'clasifier__max_iter': [10000]}\n",
    "\n",
    "elif M_TIPO.startswith(\"mul_m\"):\n",
    "    myfunc.verbose(f\"Utilizando parámetros de {M_TIPO}\")\n",
    " \n",
    "    eval_selector = eval_selector_rf\n",
    "    eval_clasifier = eval_clasifier_lr\n",
    "\n",
    "    SEMILLA = 6191\n",
    "    M_SELECT = \"RF\"\n",
    "    M_CLASIF = \"LR_L2\"\n",
    "    param_distributions = {'selector__max_features': [1000], 'selector__estimator__n_estimators': [400], \n",
    "        'clasifier__solver': ['lbfgs'], 'clasifier__penalty': ['l2'], 'clasifier__max_iter': [10000]}\n",
    "\n",
    "else:\n",
    "    # M_TIPO.startswith(\"mul_s\"):\n",
    "    myfunc.verbose(f\"Utilizando parámetros de {M_TIPO}\")\n",
    "    eval_selector = eval_selector_anova\n",
    "    eval_clasifier = eval_clasifier_lr\n",
    "\n",
    "    SEMILLA = 1860\n",
    "    M_SELECT = \"ANOVA\"\n",
    "    M_CLASIF = \"LR_L2\"\n",
    "    param_distributions = {'selector__k': [1000], \n",
    "        'clasifier__solver': ['saga'], 'clasifier__penalty': ['l2'], 'clasifier__max_iter': [10000]}\n",
    "\n"
   ]
  },
  {
   "cell_type": "code",
   "execution_count": 3,
   "id": "be4fa17f",
   "metadata": {
    "execution": {
     "iopub.execute_input": "2023-10-29T22:50:50.716863Z",
     "iopub.status.busy": "2023-10-29T22:50:50.716678Z",
     "iopub.status.idle": "2023-10-29T22:50:50.720341Z",
     "shell.execute_reply": "2023-10-29T22:50:50.719822Z"
    },
    "papermill": {
     "duration": 0.007928,
     "end_time": "2023-10-29T22:50:50.721551",
     "exception": false,
     "start_time": "2023-10-29T22:50:50.713623",
     "status": "completed"
    },
    "tags": [
     "injected-parameters"
    ]
   },
   "outputs": [],
   "source": [
    "# Parameters\n",
    "M_TIPO = \"bin_s\"\n",
    "M_SELECT = \"RF\"\n",
    "M_CLASIF = \"LR_L2\"\n",
    "P_FICHERO = \"param_0000_1466_bin_s_RF_LR_L2.yaml\"\n",
    "R_FICHERO = \"resultados_1466\"\n",
    "M_FICHERO = \"metricas_1466\"\n",
    "PRE_DATA_FILE = \"rows_transpose_norm_by_gene_id_with_target_num_\"\n",
    "SCORING = \"roc_auc_ovr\"\n",
    "SEMILLA = 1466\n",
    "MAX_ITERS = 500\n",
    "eval_selector = \"SelectFromModel(estimator=RandomForestClassifier(random_state=SEMILLA), threshold=-np.inf)\"\n",
    "eval_clasifier = \"LogisticRegressionCV(random_state=SEMILLA)\"\n",
    "param_distributions = {\n",
    "    \"selector__max_features\": [1000],\n",
    "    \"selector__estimator__n_estimators\": [200],\n",
    "    \"clasifier__solver\": [\"lbfgs\"],\n",
    "    \"clasifier__penalty\": [\"l2\"],\n",
    "    \"clasifier__max_iter\": [10000],\n",
    "}\n"
   ]
  },
  {
   "cell_type": "code",
   "execution_count": 4,
   "id": "6c97abc3",
   "metadata": {
    "execution": {
     "iopub.execute_input": "2023-10-29T22:50:50.727715Z",
     "iopub.status.busy": "2023-10-29T22:50:50.727530Z",
     "iopub.status.idle": "2023-10-29T22:50:50.730516Z",
     "shell.execute_reply": "2023-10-29T22:50:50.730055Z"
    },
    "papermill": {
     "duration": 0.007351,
     "end_time": "2023-10-29T22:50:50.731674",
     "exception": false,
     "start_time": "2023-10-29T22:50:50.724323",
     "status": "completed"
    },
    "tags": []
   },
   "outputs": [],
   "source": [
    "DATA_FILE = PRE_DATA_FILE + M_TIPO\n",
    "\n",
    "# si viene \"None\" en el parámetro max_depth, se le quitan las comillas para que no sea entendido por el algoritmo como un texto\n",
    "if \"clasifier__max_depth\" in param_distributions:\n",
    "    param_distributions['clasifier__max_depth'] = [None if x == 'None' else x for x in param_distributions['clasifier__max_depth']]"
   ]
  },
  {
   "cell_type": "markdown",
   "id": "07bd3022",
   "metadata": {
    "papermill": {
     "duration": 0.002511,
     "end_time": "2023-10-29T22:50:50.736935",
     "exception": false,
     "start_time": "2023-10-29T22:50:50.734424",
     "status": "completed"
    },
    "tags": []
   },
   "source": [
    "Asignar los algoritmos que se utilizarán en la función RandomSearchCV"
   ]
  },
  {
   "cell_type": "code",
   "execution_count": 5,
   "id": "611eed2a",
   "metadata": {
    "execution": {
     "iopub.execute_input": "2023-10-29T22:50:50.743060Z",
     "iopub.status.busy": "2023-10-29T22:50:50.742643Z",
     "iopub.status.idle": "2023-10-29T22:50:50.745361Z",
     "shell.execute_reply": "2023-10-29T22:50:50.744955Z"
    },
    "papermill": {
     "duration": 0.00703,
     "end_time": "2023-10-29T22:50:50.746530",
     "exception": false,
     "start_time": "2023-10-29T22:50:50.739500",
     "status": "completed"
    },
    "tags": []
   },
   "outputs": [],
   "source": [
    "algor_selector=eval(eval_selector)\n",
    "algor_clasifier=eval(eval_clasifier)"
   ]
  },
  {
   "cell_type": "markdown",
   "id": "1c70ab39",
   "metadata": {
    "papermill": {
     "duration": 0.003659,
     "end_time": "2023-10-29T22:50:50.753276",
     "exception": false,
     "start_time": "2023-10-29T22:50:50.749617",
     "status": "completed"
    },
    "tags": []
   },
   "source": [
    "#### Comprobar el entorno y leer fichero de muestras"
   ]
  },
  {
   "cell_type": "code",
   "execution_count": 6,
   "id": "c09239a7",
   "metadata": {
    "execution": {
     "iopub.execute_input": "2023-10-29T22:50:50.760866Z",
     "iopub.status.busy": "2023-10-29T22:50:50.760679Z",
     "iopub.status.idle": "2023-10-29T22:50:50.919627Z",
     "shell.execute_reply": "2023-10-29T22:50:50.919118Z"
    },
    "papermill": {
     "duration": 0.164194,
     "end_time": "2023-10-29T22:50:50.920899",
     "exception": false,
     "start_time": "2023-10-29T22:50:50.756705",
     "status": "completed"
    },
    "tags": []
   },
   "outputs": [
    {
     "name": "stdout",
     "output_type": "stream",
     "text": [
      "20231029T235050 : amilcar22 : INFO : Encontrada carpeta DATA_DIR=../tfm_git/datos\n",
      "20231029T235050 : amilcar22 : INFO : Encontrada carpeta CFDNA_DIR=../tfm_git/datos/cfDNA_5hmC\n",
      "20231029T235050 : amilcar22 : INFO : Encontrada carpeta GENCODE_DIR=../tfm_git/datos/gencode\n",
      "20231029T235050 : amilcar22 : INFO : Encontrada carpeta H5_DIR=../tfm_git/datos/h5\n",
      "20231029T235050 : amilcar22 : INFO : Encontrada carpeta LOG_DIR=../tfm_git/datos/logs\n",
      "20231029T235050 : amilcar22 : INFO : Encontrada carpeta CSV_DIR=../tfm_git/datos/csv\n",
      "20231029T235050 : amilcar22 : INFO : Encontrada carpeta MODEL_DIR=../tfm_git/ejecuciones/modelos\n",
      "20231029T235050 : amilcar22 : INFO : Encontrada carpeta EXEC_DIR=../tfm_git/ejecuciones\n",
      "20231029T235050 : amilcar22 : INFO : Encontrada carpeta MET_DIR=../tfm_git/ejecuciones/metricas\n",
      "20231029T235050 : amilcar22 : INFO : Inicio leer fichero h5 ../tfm_git/datos/h5/rows_transpose_norm_by_gene_id_with_target_num_bin_s.h5\n",
      "20231029T235050 : amilcar22 : INFO : Leyendo clave /df\n",
      "20231029T235050 : amilcar22 : INFO : Tamaño (443, 18876)\n",
      "20231029T235050 : amilcar22 : INFO : Fin leer fichero h5 ../tfm_git/datos/h5/rows_transpose_norm_by_gene_id_with_target_num_bin_s.h5\n"
     ]
    },
    {
     "data": {
      "text/plain": [
       "target\n",
       "0    221\n",
       "1    222\n",
       "dtype: int64"
      ]
     },
     "metadata": {},
     "output_type": "display_data"
    },
    {
     "name": "stdout",
     "output_type": "stream",
     "text": [
      "Shape df: (443, 18876)\n"
     ]
    },
    {
     "name": "stdout",
     "output_type": "stream",
     "text": [
      "Shape X_train: (354, 18875)\n",
      "Shape X_test: (89, 18875)\n"
     ]
    }
   ],
   "source": [
    "start_time = datetime.datetime.now()\n",
    "\n",
    "myfunc.reset_vars()\n",
    "\n",
    "myfunc.NOTEBK_FILENAME = myfunc.get_nb_name()\n",
    "\n",
    "myfunc.check_enviroment(myfunc.DATA_DIR, myfunc.CFDNA_DIR, myfunc.GENCODE_DIR, myfunc.H5_DIR, myfunc.LOG_DIR, myfunc.CSV_DIR, myfunc.MODEL_DIR, myfunc.EXEC_DIR, myfunc.MET_DIR)\n",
    "\n",
    "# Leer fichero con las muestras\n",
    "df_t = myfunc.read_h5_to_df(DATA_FILE, myfunc.H5_DIR)\n",
    "display(df_t.groupby(\"target\").size())\n",
    "print(\"Shape df:\",df_t.shape)\n",
    "\n",
    "# Separar caracteristicas/genes de las etiquetas/tipos de cáncer\n",
    "X = df_t.iloc[:, :-1]  # Todas las columnas excepto la última\n",
    "y = df_t.iloc[:, -1]  # La última columna contiene los identificadores de los tipos de cáncer\n",
    "\n",
    "#  Crear el conjunto de datos de entrenamiento y de pruebas, y se fija la semilla para siempre coger el mismo juego de muestras\n",
    "X_train, X_test, y_train, y_test = train_test_split(X, y, test_size=0.2, shuffle=True, random_state=42)\n",
    "print(\"Shape X_train:\",X_train.shape)\n",
    "print(\"Shape X_test:\",X_test.shape)\n"
   ]
  },
  {
   "cell_type": "markdown",
   "id": "f4583f9c",
   "metadata": {
    "papermill": {
     "duration": 0.002778,
     "end_time": "2023-10-29T22:50:50.926915",
     "exception": false,
     "start_time": "2023-10-29T22:50:50.924137",
     "status": "completed"
    },
    "tags": []
   },
   "source": [
    "#### Selección de características y clasificación."
   ]
  },
  {
   "cell_type": "code",
   "execution_count": 7,
   "id": "922d3479",
   "metadata": {
    "execution": {
     "iopub.execute_input": "2023-10-29T22:50:50.933350Z",
     "iopub.status.busy": "2023-10-29T22:50:50.933180Z",
     "iopub.status.idle": "2023-10-29T22:51:03.230121Z",
     "shell.execute_reply": "2023-10-29T22:51:03.229529Z"
    },
    "papermill": {
     "duration": 12.30159,
     "end_time": "2023-10-29T22:51:03.231280",
     "exception": false,
     "start_time": "2023-10-29T22:50:50.929690",
     "status": "completed"
    },
    "tags": []
   },
   "outputs": [
    {
     "name": "stdout",
     "output_type": "stream",
     "text": [
      "20231029T235050 : amilcar22 : INFO : Iniciando entrenamiento\n",
      "num_iter: 1 , max_iter: 1\n",
      "Fitting 5 folds for each of 1 candidates, totalling 5 fits\n"
     ]
    },
    {
     "name": "stdout",
     "output_type": "stream",
     "text": [
      "Mejores Hiperparámetros: {'selector__max_features': 1000, 'selector__estimator__n_estimators': 200, 'clasifier__solver': 'lbfgs', 'clasifier__penalty': 'l2', 'clasifier__max_iter': 10000}\n",
      "Mejor Puntuación: 0.7795\n",
      "20231029T235103 : amilcar22 : INFO : Fin entrenamiento\n"
     ]
    }
   ],
   "source": [
    "myfunc.verbose(\"Iniciando entrenamiento\")\n",
    "\n",
    "kf = KFold(n_splits=5, shuffle=True, random_state=SEMILLA)\n",
    "\n",
    "# Crear el pipeline para el flujo de tareas\n",
    "tasks_pipeline = Pipeline([\n",
    "    ('selector', algor_selector),\n",
    "    ('clasifier', algor_clasifier)\n",
    "])\n",
    "\n",
    "# MAX_ITERS puede limitar el número de iteraciones si son excesivas para las combinaciones de parámetros buscando un óptimo local, \n",
    "# sino funcionaría como GridSearchCV al revisar todas las cominaciones de los parámetros\n",
    "num_iteraciones = 1\n",
    "num_iteraciones = num_iteraciones * np.prod([len(elemento1) for _, elemento1 in param_distributions.items()])\n",
    "max_iteraciones = num_iteraciones if num_iteraciones <= MAX_ITERS else MAX_ITERS\n",
    "print(\"num_iter:\",num_iteraciones,\", max_iter:\",max_iteraciones)\n",
    "\n",
    "random_search = RandomizedSearchCV(\n",
    "    tasks_pipeline, \n",
    "    param_distributions, \n",
    "    n_iter=max_iteraciones,\n",
    "    scoring=SCORING,\n",
    "    cv=kf,\n",
    "    verbose=3, \n",
    "    random_state=SEMILLA, \n",
    "    n_jobs=-1\n",
    "    )\n",
    "\n",
    "# Entrenar el modelo\n",
    "random_search.fit(X_train, y_train)\n",
    "\n",
    "# Ver los mejores hiperparámetros encontrados\n",
    "print(f'Mejores Hiperparámetros: {random_search.best_params_}')\n",
    "print(f'Mejor Puntuación: {random_search.best_score_:.4f}')\n",
    "\n",
    "# Nos quedamos con el mejor modelo para ver las métricas\n",
    "mejor_modelo = random_search.best_estimator_\n",
    "\n",
    "myfunc.verbose(\"Fin entrenamiento\")"
   ]
  },
  {
   "cell_type": "markdown",
   "id": "57771be8",
   "metadata": {
    "papermill": {
     "duration": 0.003058,
     "end_time": "2023-10-29T22:51:03.237863",
     "exception": false,
     "start_time": "2023-10-29T22:51:03.234805",
     "status": "completed"
    },
    "tags": []
   },
   "source": [
    "#### Guardar modelo"
   ]
  },
  {
   "cell_type": "code",
   "execution_count": 8,
   "id": "7cd68b77",
   "metadata": {
    "execution": {
     "iopub.execute_input": "2023-10-29T22:51:03.244881Z",
     "iopub.status.busy": "2023-10-29T22:51:03.244686Z",
     "iopub.status.idle": "2023-10-29T22:51:03.314114Z",
     "shell.execute_reply": "2023-10-29T22:51:03.313593Z"
    },
    "papermill": {
     "duration": 0.074467,
     "end_time": "2023-10-29T22:51:03.315363",
     "exception": false,
     "start_time": "2023-10-29T22:51:03.240896",
     "status": "completed"
    },
    "tags": []
   },
   "outputs": [
    {
     "name": "stdout",
     "output_type": "stream",
     "text": [
      "20231029T235103 : amilcar22 : INFO : Inicio guardar fichero ../tfm_git/ejecuciones/modelos/modelo_1466_bin_s_RF_LR_L2.pkl\n",
      "20231029T235103 : amilcar22 : INFO : Fin guardar fichero ../tfm_git/ejecuciones/modelos/modelo_1466_bin_s_RF_LR_L2.pkl\n"
     ]
    }
   ],
   "source": [
    "fichero_modelo = str.replace(\"modelo_\"+str(SEMILLA).zfill(4)+\"_\"+M_TIPO+\"_\"+M_SELECT+\"_\"+M_CLASIF+\".pkl\", \" \", \"_\")\n",
    "\n",
    "myfunc.save_modelo(mejor_modelo, myfunc.MODEL_DIR, fichero_modelo)"
   ]
  },
  {
   "cell_type": "markdown",
   "id": "baf5625e",
   "metadata": {
    "papermill": {
     "duration": 0.003267,
     "end_time": "2023-10-29T22:51:03.321878",
     "exception": false,
     "start_time": "2023-10-29T22:51:03.318611",
     "status": "completed"
    },
    "tags": []
   },
   "source": [
    "#### Ver resultados del las iteraciones hechas por RandomSearchCV"
   ]
  },
  {
   "cell_type": "code",
   "execution_count": 9,
   "id": "fe8aa523",
   "metadata": {
    "execution": {
     "iopub.execute_input": "2023-10-29T22:51:03.328464Z",
     "iopub.status.busy": "2023-10-29T22:51:03.328272Z",
     "iopub.status.idle": "2023-10-29T22:51:03.333907Z",
     "shell.execute_reply": "2023-10-29T22:51:03.333440Z"
    },
    "papermill": {
     "duration": 0.010175,
     "end_time": "2023-10-29T22:51:03.334964",
     "exception": false,
     "start_time": "2023-10-29T22:51:03.324789",
     "status": "completed"
    },
    "tags": []
   },
   "outputs": [
    {
     "name": "stdout",
     "output_type": "stream",
     "text": [
      "20231029T235103 : amilcar22 : INFO : Inicio ver resultados\n",
      "Mejores Hiperparámetros: {'selector__max_features': 1000, 'selector__estimator__n_estimators': 200, 'clasifier__solver': 'lbfgs', 'clasifier__penalty': 'l2', 'clasifier__max_iter': 10000}\n",
      "Mejores puntuaciones: 0.7795 | Params: {'selector__max_features': 1000, 'selector__estimator__n_estimators': 200, 'clasifier__solver': 'lbfgs', 'clasifier__penalty': 'l2', 'clasifier__max_iter': 10000}\n",
      "Media de las puntuaciones: 0.7795 | Params: {'selector__max_features': 1000, 'selector__estimator__n_estimators': 200, 'clasifier__solver': 'lbfgs', 'clasifier__penalty': 'l2', 'clasifier__max_iter': 10000}\n",
      "20231029T235103 : amilcar22 : INFO : Fin resultados\n"
     ]
    }
   ],
   "source": [
    "myfunc.ver_resultados_search(random_search)"
   ]
  },
  {
   "cell_type": "markdown",
   "id": "bf3db9d5",
   "metadata": {
    "papermill": {
     "duration": 0.002991,
     "end_time": "2023-10-29T22:51:03.341223",
     "exception": false,
     "start_time": "2023-10-29T22:51:03.338232",
     "status": "completed"
    },
    "tags": []
   },
   "source": [
    "#### Ver métricas del mejor modelo"
   ]
  },
  {
   "cell_type": "code",
   "execution_count": 10,
   "id": "f380e4f2",
   "metadata": {
    "execution": {
     "iopub.execute_input": "2023-10-29T22:51:03.348052Z",
     "iopub.status.busy": "2023-10-29T22:51:03.347874Z",
     "iopub.status.idle": "2023-10-29T22:51:03.870599Z",
     "shell.execute_reply": "2023-10-29T22:51:03.870034Z"
    },
    "papermill": {
     "duration": 0.527549,
     "end_time": "2023-10-29T22:51:03.871827",
     "exception": false,
     "start_time": "2023-10-29T22:51:03.344278",
     "status": "completed"
    },
    "tags": []
   },
   "outputs": [
    {
     "name": "stdout",
     "output_type": "stream",
     "text": [
      "20231029T235103 : amilcar22 : INFO : Inicio ver métricas\n"
     ]
    },
    {
     "name": "stdout",
     "output_type": "stream",
     "text": [
      "              precision    recall  f1-score   support\n",
      "\n",
      "           0       0.72      0.83      0.77        46\n",
      "           1       0.78      0.65      0.71        43\n",
      "\n",
      "    accuracy                           0.74        89\n",
      "   macro avg       0.75      0.74      0.74        89\n",
      "weighted avg       0.75      0.74      0.74        89\n",
      "\n",
      "\n",
      "\n",
      "   Exactitud: 0.7416\n",
      "   Precisión: 0.7474\n",
      "Sensibilidad: 0.7386\n",
      "    F1-score: 0.7383\n",
      "     AUC ROC: 0.8185\n"
     ]
    },
    {
     "data": {
      "image/png": "[encoded data removed]",
      "text/plain": [
       "<Figure size 300x100 with 2 Axes>"
      ]
     },
     "metadata": {},
     "output_type": "display_data"
    },
    {
     "data": {
      "image/png": "[encoded data removed]",
      "text/plain": [
       "<Figure size 800x500 with 1 Axes>"
      ]
     },
     "metadata": {},
     "output_type": "display_data"
    },
    {
     "name": "stdout",
     "output_type": "stream",
     "text": [
      "20231029T235103 : amilcar22 : INFO : Fin ver métricas\n"
     ]
    }
   ],
   "source": [
    "if M_TIPO.startswith(\"bin\"):\n",
    "    myfunc.ver_metricas(mejor_modelo, X_test, y_test)\n",
    "else:\n",
    "    myfunc.ver_metricas_multi(mejor_modelo, X_test, y_test)\n"
   ]
  },
  {
   "cell_type": "markdown",
   "id": "7cb05815",
   "metadata": {
    "papermill": {
     "duration": 0.003627,
     "end_time": "2023-10-29T22:51:03.879519",
     "exception": false,
     "start_time": "2023-10-29T22:51:03.875892",
     "status": "completed"
    },
    "tags": []
   },
   "source": [
    "#### Finalización del notebook"
   ]
  },
  {
   "cell_type": "code",
   "execution_count": 11,
   "id": "e500b98f",
   "metadata": {
    "execution": {
     "iopub.execute_input": "2023-10-29T22:51:03.887731Z",
     "iopub.status.busy": "2023-10-29T22:51:03.887545Z",
     "iopub.status.idle": "2023-10-29T22:51:03.890641Z",
     "shell.execute_reply": "2023-10-29T22:51:03.890229Z"
    },
    "papermill": {
     "duration": 0.008493,
     "end_time": "2023-10-29T22:51:03.891835",
     "exception": false,
     "start_time": "2023-10-29T22:51:03.883342",
     "status": "completed"
    },
    "tags": []
   },
   "outputs": [
    {
     "name": "stdout",
     "output_type": "stream",
     "text": [
      "20231029T235103 : amilcar22 : INFO : Notebook ha tardado 13 seconds\n"
     ]
    }
   ],
   "source": [
    "end_time = datetime.datetime.now()\n",
    "total_time = end_time - start_time\n",
    "myfunc.verbose(f\"Notebook ha tardado {total_time.seconds} seconds\")"
   ]
  },
  {
   "cell_type": "markdown",
   "id": "3a1a79c7",
   "metadata": {
    "papermill": {
     "duration": 0.003625,
     "end_time": "2023-10-29T22:51:03.899332",
     "exception": false,
     "start_time": "2023-10-29T22:51:03.895707",
     "status": "completed"
    },
    "tags": []
   },
   "source": [
    "#### Guardar métricas"
   ]
  },
  {
   "cell_type": "code",
   "execution_count": 12,
   "id": "eb2bb675",
   "metadata": {
    "execution": {
     "iopub.execute_input": "2023-10-29T22:51:03.907406Z",
     "iopub.status.busy": "2023-10-29T22:51:03.907233Z",
     "iopub.status.idle": "2023-10-29T22:51:04.260989Z",
     "shell.execute_reply": "2023-10-29T22:51:04.260459Z"
    },
    "papermill": {
     "duration": 0.359131,
     "end_time": "2023-10-29T22:51:04.262135",
     "exception": false,
     "start_time": "2023-10-29T22:51:03.903004",
     "status": "completed"
    },
    "tags": []
   },
   "outputs": [
    {
     "name": "stdout",
     "output_type": "stream",
     "text": [
      "20231029T235103 : amilcar22 : INFO : Inicio guardar métricas\n",
      "20231029T235103 : amilcar22 : INFO : Inicio leer fichero ../tfm_git/ejecuciones/metricas/metricas_1466.csv\n",
      "20231029T235103 : amilcar22 : INFO : Fin leer fichero ../tfm_git/ejecuciones/metricas/metricas_1466.csv\n"
     ]
    },
    {
     "name": "stdout",
     "output_type": "stream",
     "text": [
      "20231029T235104 : amilcar22 : INFO : Inicio guardar fichero ../tfm_git/ejecuciones/metricas/metricas_1466.csv\n",
      "20231029T235104 : amilcar22 : INFO : Fichero borrado ../tfm_git/ejecuciones/metricas/metricas_1466.csv\n",
      "20231029T235104 : amilcar22 : INFO : Fin guardar fichero ../tfm_git/ejecuciones/metricas/metricas_1466.csv\n",
      "20231029T235104 : amilcar22 : INFO : Fin guardar métricas\n",
      "20231029T235104 : amilcar22 : INFO : Inicio leer fichero ../tfm_git/ejecuciones/metricas/metricas_1466.csv\n",
      "20231029T235104 : amilcar22 : INFO : Fin leer fichero ../tfm_git/ejecuciones/metricas/metricas_1466.csv\n"
     ]
    },
    {
     "data": {
      "text/html": [
       "<div>\n",
       "<style scoped>\n",
       "    .dataframe tbody tr th:only-of-type {\n",
       "        vertical-align: middle;\n",
       "    }\n",
       "\n",
       "    .dataframe tbody tr th {\n",
       "        vertical-align: top;\n",
       "    }\n",
       "\n",
       "    .dataframe thead th {\n",
       "        text-align: right;\n",
       "    }\n",
       "</style>\n",
       "<table border=\"1\" class=\"dataframe\">\n",
       "  <thead>\n",
       "    <tr style=\"text-align: right;\">\n",
       "      <th></th>\n",
       "      <th>tipo</th>\n",
       "      <th>select</th>\n",
       "      <th>clasific</th>\n",
       "      <th>semilla</th>\n",
       "      <th>accuracy</th>\n",
       "      <th>precision</th>\n",
       "      <th>recall</th>\n",
       "      <th>f1_score</th>\n",
       "      <th>roc_auc</th>\n",
       "      <th>hostname</th>\n",
       "      <th>total_time_sec</th>\n",
       "      <th>datetime</th>\n",
       "      <th>fichero_modelo</th>\n",
       "      <th>params</th>\n",
       "      <th>shape</th>\n",
       "      <th>features</th>\n",
       "    </tr>\n",
       "  </thead>\n",
       "  <tbody>\n",
       "    <tr>\n",
       "      <th>0</th>\n",
       "      <td>bin_s</td>\n",
       "      <td>RF</td>\n",
       "      <td>LR_L2</td>\n",
       "      <td>1466</td>\n",
       "      <td>0.741573</td>\n",
       "      <td>0.747379</td>\n",
       "      <td>0.738625</td>\n",
       "      <td>0.738269</td>\n",
       "      <td>0.818504</td>\n",
       "      <td>amilcar22</td>\n",
       "      <td>13</td>\n",
       "      <td>2023-10-29 23:51:04.237087</td>\n",
       "      <td>modelo_1466_bin_s_RF_LR_L2.pkl</td>\n",
       "      <td>{'selector__max_features': 1000, 'selector__es...</td>\n",
       "      <td>X_test:(89, 18875)</td>\n",
       "      <td>['ENSG00000000971.17', 'ENSG00000001626.18', '...</td>\n",
       "    </tr>\n",
       "    <tr>\n",
       "      <th>0</th>\n",
       "      <td>bin_s</td>\n",
       "      <td>RF</td>\n",
       "      <td>LR_L1</td>\n",
       "      <td>1466</td>\n",
       "      <td>0.730337</td>\n",
       "      <td>0.734148</td>\n",
       "      <td>0.727755</td>\n",
       "      <td>0.727551</td>\n",
       "      <td>0.794742</td>\n",
       "      <td>amilcar22</td>\n",
       "      <td>410</td>\n",
       "      <td>2023-10-29 23:50:44.698699</td>\n",
       "      <td>modelo_1466_bin_s_RF_LR_L1.pkl</td>\n",
       "      <td>{'selector__max_features': 1000, 'selector__es...</td>\n",
       "      <td>X_test:(89, 18875)</td>\n",
       "      <td>['ENSG00000001626.18', 'ENSG00000002587.10', '...</td>\n",
       "    </tr>\n",
       "    <tr>\n",
       "      <th>0</th>\n",
       "      <td>bin_s</td>\n",
       "      <td>RF</td>\n",
       "      <td>LR_EN</td>\n",
       "      <td>1466</td>\n",
       "      <td>0.719101</td>\n",
       "      <td>0.724615</td>\n",
       "      <td>0.721436</td>\n",
       "      <td>0.718533</td>\n",
       "      <td>0.785642</td>\n",
       "      <td>amilcar22</td>\n",
       "      <td>197</td>\n",
       "      <td>2023-10-29 23:43:48.005882</td>\n",
       "      <td>modelo_1466_bin_s_RF_LR_EN.pkl</td>\n",
       "      <td>{'selector__max_features': 500, 'selector__est...</td>\n",
       "      <td>X_test:(89, 18875)</td>\n",
       "      <td>['ENSG00000001626.18', 'ENSG00000002587.10', '...</td>\n",
       "    </tr>\n",
       "  </tbody>\n",
       "</table>\n",
       "</div>"
      ],
      "text/plain": [
       "    tipo select clasific  semilla  accuracy  precision    recall  f1_score  \\\n",
       "0  bin_s     RF    LR_L2     1466  0.741573   0.747379  0.738625  0.738269   \n",
       "0  bin_s     RF    LR_L1     1466  0.730337   0.734148  0.727755  0.727551   \n",
       "0  bin_s     RF    LR_EN     1466  0.719101   0.724615  0.721436  0.718533   \n",
       "\n",
       "    roc_auc   hostname  total_time_sec                    datetime  \\\n",
       "0  0.818504  amilcar22              13  2023-10-29 23:51:04.237087   \n",
       "0  0.794742  amilcar22             410  2023-10-29 23:50:44.698699   \n",
       "0  0.785642  amilcar22             197  2023-10-29 23:43:48.005882   \n",
       "\n",
       "                   fichero_modelo  \\\n",
       "0  modelo_1466_bin_s_RF_LR_L2.pkl   \n",
       "0  modelo_1466_bin_s_RF_LR_L1.pkl   \n",
       "0  modelo_1466_bin_s_RF_LR_EN.pkl   \n",
       "\n",
       "                                              params               shape  \\\n",
       "0  {'selector__max_features': 1000, 'selector__es...  X_test:(89, 18875)   \n",
       "0  {'selector__max_features': 1000, 'selector__es...  X_test:(89, 18875)   \n",
       "0  {'selector__max_features': 500, 'selector__est...  X_test:(89, 18875)   \n",
       "\n",
       "                                            features  \n",
       "0  ['ENSG00000000971.17', 'ENSG00000001626.18', '...  \n",
       "0  ['ENSG00000001626.18', 'ENSG00000002587.10', '...  \n",
       "0  ['ENSG00000001626.18', 'ENSG00000002587.10', '...  "
      ]
     },
     "metadata": {},
     "output_type": "display_data"
    }
   ],
   "source": [
    "if M_TIPO.startswith(\"bin\"):\n",
    "    myfunc.save_metricas_to_csv(random_search, X_test, y_test, M_TIPO, M_SELECT, M_CLASIF, total_time, SEMILLA, myfunc.MET_DIR, M_FICHERO, fichero_modelo)\n",
    "else:\n",
    "    myfunc.save_metricas_multi_to_csv(random_search, X_test, y_test, M_TIPO, M_SELECT, M_CLASIF, total_time, SEMILLA, myfunc.MET_DIR, M_FICHERO, fichero_modelo)\n",
    "\n",
    "df1=myfunc.read_metricas_to_df(myfunc.MET_DIR,M_FICHERO)\n",
    "\n",
    "display(df1.sort_values(\"datetime\", ascending=False)[:3])\n"
   ]
  },
  {
   "cell_type": "markdown",
   "id": "88406fc2",
   "metadata": {
    "papermill": {
     "duration": 0.004058,
     "end_time": "2023-10-29T22:51:04.270710",
     "exception": false,
     "start_time": "2023-10-29T22:51:04.266652",
     "status": "completed"
    },
    "tags": []
   },
   "source": [
    "#### Guardar resultados"
   ]
  },
  {
   "cell_type": "code",
   "execution_count": 13,
   "id": "7e02a515",
   "metadata": {
    "execution": {
     "iopub.execute_input": "2023-10-29T22:51:04.279485Z",
     "iopub.status.busy": "2023-10-29T22:51:04.279273Z",
     "iopub.status.idle": "2023-10-29T22:51:04.287428Z",
     "shell.execute_reply": "2023-10-29T22:51:04.286947Z"
    },
    "papermill": {
     "duration": 0.013803,
     "end_time": "2023-10-29T22:51:04.288553",
     "exception": false,
     "start_time": "2023-10-29T22:51:04.274750",
     "status": "completed"
    },
    "tags": []
   },
   "outputs": [
    {
     "name": "stdout",
     "output_type": "stream",
     "text": [
      "20231029T235104 : amilcar22 : INFO : Inicio guardar resultados\n",
      "20231029T235104 : amilcar22 : INFO : Inicio guardar fichero ../tfm_git/ejecuciones/metricas/resultados_1466_bin_s-RF-LR_L2.csv\n",
      "20231029T235104 : amilcar22 : INFO : Fin guardar fichero ../tfm_git/ejecuciones/metricas/resultados_1466_bin_s-RF-LR_L2.csv\n",
      "20231029T235104 : amilcar22 : INFO : Fin guardar resultados\n"
     ]
    }
   ],
   "source": [
    "fichero_resultados=R_FICHERO+\"_\"+M_TIPO+\"-\"+M_SELECT+\"-\"+M_CLASIF+\".csv\"\n",
    "myfunc.save_resultados_to_csv(M_TIPO, M_SELECT, M_CLASIF,  random_search, myfunc.MET_DIR, fichero_resultados)\n"
   ]
  }
 ],
 "metadata": {
  "kernelspec": {
   "display_name": "Python 3 (ipykernel)",
   "language": "python",
   "name": "python3"
  },
  "language_info": {
   "codemirror_mode": {
    "name": "ipython",
    "version": 3
   },
   "file_extension": ".py",
   "mimetype": "text/x-python",
   "name": "python",
   "nbconvert_exporter": "python",
   "pygments_lexer": "ipython3",
   "version": "3.10.12"
  },
  "papermill": {
   "default_parameters": {},
   "duration": 18.005004,
   "end_time": "2023-10-29T22:51:06.910097",
   "environment_variables": {},
   "exception": null,
   "input_path": "03_entrenamiento.ipynb",
   "output_path": "ejecuciones/training/03_entrenamiento.20231029T235048.param_0000_1466_bin_s_RF_LR_L2.output.ipynb",
   "parameters": {
    "MAX_ITERS": 500,
    "M_CLASIF": "LR_L2",
    "M_FICHERO": "metricas_1466",
    "M_SELECT": "RF",
    "M_TIPO": "bin_s",
    "PRE_DATA_FILE": "rows_transpose_norm_by_gene_id_with_target_num_",
    "P_FICHERO": "param_0000_1466_bin_s_RF_LR_L2.yaml",
    "R_FICHERO": "resultados_1466",
    "SCORING": "roc_auc_ovr",
    "SEMILLA": 1466,
    "eval_clasifier": "LogisticRegressionCV(random_state=SEMILLA)",
    "eval_selector": "SelectFromModel(estimator=RandomForestClassifier(random_state=SEMILLA), threshold=-np.inf)",
    "param_distributions": {
     "clasifier__max_iter": [
      10000
     ],
     "clasifier__penalty": [
      "l2"
     ],
     "clasifier__solver": [
      "lbfgs"
     ],
     "selector__estimator__n_estimators": [
      200
     ],
     "selector__max_features": [
      1000
     ]
    }
   },
   "start_time": "2023-10-29T22:50:48.905093",
   "version": "2.4.0"
  }
 },
 "nbformat": 4,
 "nbformat_minor": 5
}