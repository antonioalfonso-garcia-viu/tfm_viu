{
 "cells": [
  {
   "cell_type": "markdown",
   "id": "2b291a2f",
   "metadata": {
    "papermill": {
     "duration": 0.005419,
     "end_time": "2023-10-30T14:14:24.070535",
     "exception": false,
     "start_time": "2023-10-30T14:14:24.065116",
     "status": "completed"
    },
    "tags": []
   },
   "source": [
    "##### Inicio"
   ]
  },
  {
   "cell_type": "markdown",
   "id": "ad276937",
   "metadata": {
    "papermill": {
     "duration": 0.003448,
     "end_time": "2023-10-30T14:14:24.077667",
     "exception": false,
     "start_time": "2023-10-30T14:14:24.074219",
     "status": "completed"
    },
    "tags": []
   },
   "source": [
    "#### Carga de datos"
   ]
  },
  {
   "cell_type": "code",
   "execution_count": 1,
   "id": "0eba1801",
   "metadata": {
    "execution": {
     "iopub.execute_input": "2023-10-30T14:14:24.085839Z",
     "iopub.status.busy": "2023-10-30T14:14:24.085406Z",
     "iopub.status.idle": "2023-10-30T14:14:25.208670Z",
     "shell.execute_reply": "2023-10-30T14:14:25.207940Z"
    },
    "papermill": {
     "duration": 1.129026,
     "end_time": "2023-10-30T14:14:25.210168",
     "exception": false,
     "start_time": "2023-10-30T14:14:24.081142",
     "status": "completed"
    },
    "tags": []
   },
   "outputs": [
    {
     "name": "stdout",
     "output_type": "stream",
     "text": [
      "CPU_COUNT: 16; NODE: enderlab; sys.version: 3.10.11 (main, May 16 2023, 00:28:57) [GCC 11.2.0]\n",
      "LOKY_MAX_CPU_COUNT is not set.\n",
      "OMP_NUM_THREADS is not set.\n"
     ]
    }
   ],
   "source": [
    "import os\n",
    "import numpy as np\n",
    "import pandas as pd\n",
    "import datetime\n",
    "import sklearn\n",
    "import logging\n",
    "import warnings\n",
    "\n",
    "from sklearn.pipeline import Pipeline\n",
    "from sklearn.model_selection import RandomizedSearchCV, KFold, cross_val_score, train_test_split\n",
    "from sklearn.metrics import accuracy_score, confusion_matrix, classification_report, roc_auc_score\n",
    "\n",
    "#  cargar algoritmos para aprendizaje supervisado\n",
    "from sklearn.feature_selection import SelectKBest, f_classif, SelectFromModel, mutual_info_classif\n",
    "from sklearn.svm import SVC\n",
    "from sklearn.ensemble import RandomForestClassifier\n",
    "from sklearn.linear_model import LogisticRegression,LogisticRegressionCV\n",
    "\n",
    "# importar fichero con utilidades propias\n",
    "from commons import myfunctions as myfunc\n"
   ]
  },
  {
   "cell_type": "markdown",
   "id": "ecf784ca",
   "metadata": {
    "papermill": {
     "duration": 0.003641,
     "end_time": "2023-10-30T14:14:25.218038",
     "exception": false,
     "start_time": "2023-10-30T14:14:25.214397",
     "status": "completed"
    },
    "tags": []
   },
   "source": [
    "#### Parámetros a utilizar en el entrenamiento.\n",
    "\n",
    "Se indican los 3 algoritmos de *selección de características* (eval_selector_xxx) y los 3 algoritmos para la _clasificación_ (eval_clasifier_xxx)\n",
    "\n",
    "En *param_distributions* se indicar los parámetros que utilizan los algoritmos en la función RandomSearchCV.\n",
    "\n",
    "Esta celda tiene la etiqueta **parameters** que servirá para poder lanzar los entrenamientos con la utilidad **papermill** pasándole un fichero con los parámetros. Los nuevos parámetros se situarán tras esta celda para tener prevalencia."
   ]
  },
  {
   "cell_type": "code",
   "execution_count": 2,
   "id": "65eb85ee",
   "metadata": {
    "execution": {
     "iopub.execute_input": "2023-10-30T14:14:25.226797Z",
     "iopub.status.busy": "2023-10-30T14:14:25.226188Z",
     "iopub.status.idle": "2023-10-30T14:14:25.234893Z",
     "shell.execute_reply": "2023-10-30T14:14:25.234352Z"
    },
    "papermill": {
     "duration": 0.014623,
     "end_time": "2023-10-30T14:14:25.236157",
     "exception": false,
     "start_time": "2023-10-30T14:14:25.221534",
     "status": "completed"
    },
    "tags": [
     "parameters"
    ]
   },
   "outputs": [
    {
     "name": "stdout",
     "output_type": "stream",
     "text": [
      "20231030T151425 : enderlab : INFO : Utilizando parámetros de mul_m\n"
     ]
    }
   ],
   "source": [
    "#  Parametros para el entrenamiento\n",
    "\n",
    "SEMILLA=        42\n",
    "M_TIPO=         \"mul_m\"\n",
    "M_SELECT=       \"MI\"\n",
    "M_CLASIF=       \"SVM\"\n",
    "R_FICHERO=      \"resultados\"\n",
    "M_FICHERO=      \"metricas\"\n",
    "PRE_DATA_FILE=  \"rows_transpose_norm_by_gene_id_with_target_num_\"\n",
    "SCORING=        \"roc_auc_ovr\" \n",
    "MAX_ITERS=      100\n",
    "\n",
    "def mutual_info_classif_state(X, y):\n",
    "    return mutual_info_classif(X, y, random_state=SEMILLA)\n",
    "\n",
    "eval_selector_mi = \"SelectKBest(score_func=mutual_info_classif_state)\"\n",
    "eval_selector_rf=  \"SelectFromModel(estimator=RandomForestClassifier(random_state=SEMILLA), threshold=-np.inf)\"\n",
    "eval_selector_anova=  \"SelectKBest(score_func=f_classif)\"\n",
    "\n",
    "eval_clasifier_svm= \"SVC(probability=True, random_state=SEMILLA)\"\n",
    "eval_clasifier_rf= \"RandomForestClassifier(random_state=SEMILLA)\"\n",
    "eval_clasifier_lr= \"LogisticRegressionCV(random_state=SEMILLA)\"\n",
    "\n",
    "if M_TIPO.startswith(\"bin_m\"):\n",
    "    myfunc.verbose(f\"Utilizando parámetros de {M_TIPO}\")\n",
    "    eval_selector = eval_selector_mi\n",
    "    eval_clasifier = eval_clasifier_svm\n",
    "\n",
    "    SEMILLA = 6578\n",
    "    M_SELECT = \"MI\"\n",
    "    M_CLASIF = \"SVM\"\n",
    "    param_distributions = {'selector__k': [1000], \n",
    "         'clasifier__kernel': ['rbf'], 'clasifier__gamma': [0.01], 'clasifier__C': [100]}\n",
    "elif M_TIPO.startswith(\"bin_s\"):\n",
    "    myfunc.verbose(f\"Utilizando parámetros de {M_TIPO}\")\n",
    "    eval_selector = eval_selector_rf\n",
    "    eval_clasifier = eval_clasifier_lr\n",
    "\n",
    "    SEMILLA = 6191\n",
    "    M_SELECT = \"RF\"\n",
    "    M_CLASIF = \"LR_L2\"\n",
    "    param_distributions = {'selector__max_features': [1000], 'selector__estimator__n_estimators': [200], \n",
    "        'clasifier__solver': ['lbfgs'], 'clasifier__penalty': ['l2'], 'clasifier__max_iter': [10000]}\n",
    "\n",
    "elif M_TIPO.startswith(\"mul_m\"):\n",
    "    myfunc.verbose(f\"Utilizando parámetros de {M_TIPO}\")\n",
    " \n",
    "    eval_selector = eval_selector_rf\n",
    "    eval_clasifier = eval_clasifier_lr\n",
    "\n",
    "    SEMILLA = 6191\n",
    "    M_SELECT = \"RF\"\n",
    "    M_CLASIF = \"LR_L2\"\n",
    "    param_distributions = {'selector__max_features': [1000], 'selector__estimator__n_estimators': [400], \n",
    "        'clasifier__solver': ['lbfgs'], 'clasifier__penalty': ['l2'], 'clasifier__max_iter': [10000]}\n",
    "\n",
    "else:\n",
    "    # M_TIPO.startswith(\"mul_s\"):\n",
    "    myfunc.verbose(f\"Utilizando parámetros de {M_TIPO}\")\n",
    "    eval_selector = eval_selector_anova\n",
    "    eval_clasifier = eval_clasifier_lr\n",
    "\n",
    "    SEMILLA = 1860\n",
    "    M_SELECT = \"ANOVA\"\n",
    "    M_CLASIF = \"LR_L2\"\n",
    "    param_distributions = {'selector__k': [1000], \n",
    "        'clasifier__solver': ['saga'], 'clasifier__penalty': ['l2'], 'clasifier__max_iter': [10000]}\n",
    "\n"
   ]
  },
  {
   "cell_type": "code",
   "execution_count": 3,
   "id": "13c3caac",
   "metadata": {
    "execution": {
     "iopub.execute_input": "2023-10-30T14:14:25.244328Z",
     "iopub.status.busy": "2023-10-30T14:14:25.243885Z",
     "iopub.status.idle": "2023-10-30T14:14:25.248080Z",
     "shell.execute_reply": "2023-10-30T14:14:25.247544Z"
    },
    "papermill": {
     "duration": 0.009644,
     "end_time": "2023-10-30T14:14:25.249352",
     "exception": false,
     "start_time": "2023-10-30T14:14:25.239708",
     "status": "completed"
    },
    "tags": [
     "injected-parameters"
    ]
   },
   "outputs": [],
   "source": [
    "# Parameters\n",
    "M_TIPO = \"mul_m\"\n",
    "M_SELECT = \"RF\"\n",
    "M_CLASIF = \"LR_EN\"\n",
    "P_FICHERO = \"param_0000_7265_mul_m_RF_LR_EN.yaml\"\n",
    "R_FICHERO = \"resultados_7265\"\n",
    "M_FICHERO = \"metricas_7265\"\n",
    "PRE_DATA_FILE = \"rows_transpose_norm_by_gene_id_with_target_num_\"\n",
    "SCORING = \"roc_auc_ovr\"\n",
    "SEMILLA = 7265\n",
    "MAX_ITERS = 500\n",
    "eval_selector = \"SelectFromModel(estimator=RandomForestClassifier(random_state=SEMILLA), threshold=-np.inf)\"\n",
    "eval_clasifier = \"LogisticRegressionCV(random_state=SEMILLA)\"\n",
    "param_distributions = {\n",
    "    \"selector__max_features\": [1000],\n",
    "    \"selector__estimator__n_estimators\": [400],\n",
    "    \"clasifier__solver\": [\"saga\"],\n",
    "    \"clasifier__penalty\": [\"elasticnet\"],\n",
    "    \"clasifier__max_iter\": [10000],\n",
    "    \"clasifier__l1_ratios\": [[0.1]],\n",
    "}\n"
   ]
  },
  {
   "cell_type": "code",
   "execution_count": 4,
   "id": "0a055536",
   "metadata": {
    "execution": {
     "iopub.execute_input": "2023-10-30T14:14:25.257834Z",
     "iopub.status.busy": "2023-10-30T14:14:25.257332Z",
     "iopub.status.idle": "2023-10-30T14:14:25.260619Z",
     "shell.execute_reply": "2023-10-30T14:14:25.260102Z"
    },
    "papermill": {
     "duration": 0.008933,
     "end_time": "2023-10-30T14:14:25.261843",
     "exception": false,
     "start_time": "2023-10-30T14:14:25.252910",
     "status": "completed"
    },
    "tags": []
   },
   "outputs": [],
   "source": [
    "DATA_FILE = PRE_DATA_FILE + M_TIPO\n",
    "\n",
    "# si viene \"None\" en el parámetro max_depth, se le quitan las comillas para que no sea entendido por el algoritmo como un texto\n",
    "if \"clasifier__max_depth\" in param_distributions:\n",
    "    param_distributions['clasifier__max_depth'] = [None if x == 'None' else x for x in param_distributions['clasifier__max_depth']]"
   ]
  },
  {
   "cell_type": "markdown",
   "id": "7f88c48e",
   "metadata": {
    "papermill": {
     "duration": 0.003562,
     "end_time": "2023-10-30T14:14:25.268929",
     "exception": false,
     "start_time": "2023-10-30T14:14:25.265367",
     "status": "completed"
    },
    "tags": []
   },
   "source": [
    "Asignar los algoritmos que se utilizarán en la función RandomSearchCV"
   ]
  },
  {
   "cell_type": "code",
   "execution_count": 5,
   "id": "579a5afd",
   "metadata": {
    "execution": {
     "iopub.execute_input": "2023-10-30T14:14:25.281664Z",
     "iopub.status.busy": "2023-10-30T14:14:25.281094Z",
     "iopub.status.idle": "2023-10-30T14:14:25.284285Z",
     "shell.execute_reply": "2023-10-30T14:14:25.283769Z"
    },
    "papermill": {
     "duration": 0.012917,
     "end_time": "2023-10-30T14:14:25.285487",
     "exception": false,
     "start_time": "2023-10-30T14:14:25.272570",
     "status": "completed"
    },
    "tags": []
   },
   "outputs": [],
   "source": [
    "algor_selector=eval(eval_selector)\n",
    "algor_clasifier=eval(eval_clasifier)"
   ]
  },
  {
   "cell_type": "markdown",
   "id": "7d9e7aa1",
   "metadata": {
    "papermill": {
     "duration": 0.003556,
     "end_time": "2023-10-30T14:14:25.292600",
     "exception": false,
     "start_time": "2023-10-30T14:14:25.289044",
     "status": "completed"
    },
    "tags": []
   },
   "source": [
    "#### Comprobar el entorno y leer fichero de muestras"
   ]
  },
  {
   "cell_type": "code",
   "execution_count": 6,
   "id": "82ceb250",
   "metadata": {
    "execution": {
     "iopub.execute_input": "2023-10-30T14:14:25.301051Z",
     "iopub.status.busy": "2023-10-30T14:14:25.300511Z",
     "iopub.status.idle": "2023-10-30T14:14:25.531506Z",
     "shell.execute_reply": "2023-10-30T14:14:25.530889Z"
    },
    "papermill": {
     "duration": 0.236493,
     "end_time": "2023-10-30T14:14:25.532746",
     "exception": false,
     "start_time": "2023-10-30T14:14:25.296253",
     "status": "completed"
    },
    "tags": []
   },
   "outputs": [
    {
     "name": "stdout",
     "output_type": "stream",
     "text": [
      "20231030T151425 : enderlab : INFO : Encontrada carpeta DATA_DIR=../tfm_git/datos\n",
      "20231030T151425 : enderlab : INFO : Encontrada carpeta CFDNA_DIR=../tfm_git/datos/cfDNA_5hmC\n",
      "20231030T151425 : enderlab : INFO : Encontrada carpeta GENCODE_DIR=../tfm_git/datos/gencode\n",
      "20231030T151425 : enderlab : INFO : Encontrada carpeta H5_DIR=../tfm_git/datos/h5\n",
      "20231030T151425 : enderlab : INFO : Encontrada carpeta LOG_DIR=../tfm_git/datos/logs\n",
      "20231030T151425 : enderlab : INFO : Encontrada carpeta CSV_DIR=../tfm_git/datos/csv\n",
      "20231030T151425 : enderlab : INFO : Encontrada carpeta MODEL_DIR=../tfm_git/ejecuciones/modelos\n",
      "20231030T151425 : enderlab : INFO : Encontrada carpeta EXEC_DIR=../tfm_git/ejecuciones\n",
      "20231030T151425 : enderlab : INFO : Encontrada carpeta MET_DIR=../tfm_git/ejecuciones/metricas\n",
      "20231030T151425 : enderlab : INFO : Inicio leer fichero h5 ../tfm_git/datos/h5/rows_transpose_norm_by_gene_id_with_target_num_mul_m.h5\n",
      "20231030T151425 : enderlab : INFO : Leyendo clave /df\n"
     ]
    },
    {
     "name": "stdout",
     "output_type": "stream",
     "text": [
      "20231030T151425 : enderlab : INFO : Tamaño (434, 18876)\n",
      "20231030T151425 : enderlab : INFO : Fin leer fichero h5 ../tfm_git/datos/h5/rows_transpose_norm_by_gene_id_with_target_num_mul_m.h5\n"
     ]
    },
    {
     "data": {
      "text/plain": [
       "target\n",
       "0    62\n",
       "1    62\n",
       "2    62\n",
       "3    62\n",
       "4    62\n",
       "5    62\n",
       "6    62\n",
       "dtype: int64"
      ]
     },
     "metadata": {},
     "output_type": "display_data"
    },
    {
     "name": "stdout",
     "output_type": "stream",
     "text": [
      "Shape df: (434, 18876)\n"
     ]
    },
    {
     "name": "stdout",
     "output_type": "stream",
     "text": [
      "Shape X_train: (347, 18875)\n",
      "Shape X_test: (87, 18875)\n"
     ]
    }
   ],
   "source": [
    "start_time = datetime.datetime.now()\n",
    "\n",
    "myfunc.reset_vars()\n",
    "\n",
    "myfunc.NOTEBK_FILENAME = myfunc.get_nb_name()\n",
    "\n",
    "myfunc.check_enviroment(myfunc.DATA_DIR, myfunc.CFDNA_DIR, myfunc.GENCODE_DIR, myfunc.H5_DIR, myfunc.LOG_DIR, myfunc.CSV_DIR, myfunc.MODEL_DIR, myfunc.EXEC_DIR, myfunc.MET_DIR)\n",
    "\n",
    "# Leer fichero con las muestras\n",
    "df_t = myfunc.read_h5_to_df(DATA_FILE, myfunc.H5_DIR)\n",
    "display(df_t.groupby(\"target\").size())\n",
    "print(\"Shape df:\",df_t.shape)\n",
    "\n",
    "# Separar caracteristicas/genes de las etiquetas/tipos de cáncer\n",
    "X = df_t.iloc[:, :-1]  # Todas las columnas excepto la última\n",
    "y = df_t.iloc[:, -1]  # La última columna contiene los identificadores de los tipos de cáncer\n",
    "\n",
    "#  Crear el conjunto de datos de entrenamiento y de pruebas, y se fija la semilla para siempre coger el mismo juego de muestras\n",
    "X_train, X_test, y_train, y_test = train_test_split(X, y, test_size=0.2, shuffle=True, random_state=42)\n",
    "print(\"Shape X_train:\",X_train.shape)\n",
    "print(\"Shape X_test:\",X_test.shape)\n"
   ]
  },
  {
   "cell_type": "markdown",
   "id": "506a53c7",
   "metadata": {
    "papermill": {
     "duration": 0.004052,
     "end_time": "2023-10-30T14:14:25.541171",
     "exception": false,
     "start_time": "2023-10-30T14:14:25.537119",
     "status": "completed"
    },
    "tags": []
   },
   "source": [
    "#### Selección de características y clasificación."
   ]
  },
  {
   "cell_type": "code",
   "execution_count": 7,
   "id": "d31bc433",
   "metadata": {
    "execution": {
     "iopub.execute_input": "2023-10-30T14:14:25.550811Z",
     "iopub.status.busy": "2023-10-30T14:14:25.550337Z",
     "iopub.status.idle": "2023-10-30T14:42:17.689424Z",
     "shell.execute_reply": "2023-10-30T14:42:17.688640Z"
    },
    "papermill": {
     "duration": 1672.150755,
     "end_time": "2023-10-30T14:42:17.695875",
     "exception": false,
     "start_time": "2023-10-30T14:14:25.545120",
     "status": "completed"
    },
    "tags": []
   },
   "outputs": [
    {
     "name": "stdout",
     "output_type": "stream",
     "text": [
      "20231030T151425 : enderlab : INFO : Iniciando entrenamiento\n",
      "num_iter: 1 , max_iter: 1\n",
      "Fitting 5 folds for each of 1 candidates, totalling 5 fits\n"
     ]
    },
    {
     "name": "stdout",
     "output_type": "stream",
     "text": [
      "[CV 5/5] END clasifier__l1_ratios=[0.1], clasifier__max_iter=10000, clasifier__penalty=elasticnet, clasifier__solver=saga, selector__estimator__n_estimators=400, selector__max_features=1000;, score=0.905 total time=11.1min\n"
     ]
    },
    {
     "name": "stdout",
     "output_type": "stream",
     "text": [
      "[CV 4/5] END clasifier__l1_ratios=[0.1], clasifier__max_iter=10000, clasifier__penalty=elasticnet, clasifier__solver=saga, selector__estimator__n_estimators=400, selector__max_features=1000;, score=0.834 total time=11.5min\n"
     ]
    },
    {
     "name": "stdout",
     "output_type": "stream",
     "text": [
      "[CV 3/5] END clasifier__l1_ratios=[0.1], clasifier__max_iter=10000, clasifier__penalty=elasticnet, clasifier__solver=saga, selector__estimator__n_estimators=400, selector__max_features=1000;, score=0.866 total time=11.8min\n"
     ]
    },
    {
     "name": "stdout",
     "output_type": "stream",
     "text": [
      "[CV 2/5] END clasifier__l1_ratios=[0.1], clasifier__max_iter=10000, clasifier__penalty=elasticnet, clasifier__solver=saga, selector__estimator__n_estimators=400, selector__max_features=1000;, score=0.860 total time=11.9min\n"
     ]
    },
    {
     "name": "stdout",
     "output_type": "stream",
     "text": [
      "[CV 1/5] END clasifier__l1_ratios=[0.1], clasifier__max_iter=10000, clasifier__penalty=elasticnet, clasifier__solver=saga, selector__estimator__n_estimators=400, selector__max_features=1000;, score=0.852 total time=12.5min\n"
     ]
    },
    {
     "name": "stdout",
     "output_type": "stream",
     "text": [
      "Mejores Hiperparámetros: {'selector__max_features': 1000, 'selector__estimator__n_estimators': 400, 'clasifier__solver': 'saga', 'clasifier__penalty': 'elasticnet', 'clasifier__max_iter': 10000, 'clasifier__l1_ratios': [0.1]}\n",
      "Mejor Puntuación: 0.8634\n",
      "20231030T154217 : enderlab : INFO : Fin entrenamiento\n"
     ]
    }
   ],
   "source": [
    "myfunc.verbose(\"Iniciando entrenamiento\")\n",
    "\n",
    "kf = KFold(n_splits=5, shuffle=True, random_state=SEMILLA)\n",
    "\n",
    "# Crear el pipeline para el flujo de tareas\n",
    "tasks_pipeline = Pipeline([\n",
    "    ('selector', algor_selector),\n",
    "    ('clasifier', algor_clasifier)\n",
    "])\n",
    "\n",
    "# MAX_ITERS puede limitar el número de iteraciones si son excesivas para las combinaciones de parámetros buscando un óptimo local, \n",
    "# sino funcionaría como GridSearchCV al revisar todas las cominaciones de los parámetros\n",
    "num_iteraciones = 1\n",
    "num_iteraciones = num_iteraciones * np.prod([len(elemento1) for _, elemento1 in param_distributions.items()])\n",
    "max_iteraciones = num_iteraciones if num_iteraciones <= MAX_ITERS else MAX_ITERS\n",
    "print(\"num_iter:\",num_iteraciones,\", max_iter:\",max_iteraciones)\n",
    "\n",
    "random_search = RandomizedSearchCV(\n",
    "    tasks_pipeline, \n",
    "    param_distributions, \n",
    "    n_iter=max_iteraciones,\n",
    "    scoring=SCORING,\n",
    "    cv=kf,\n",
    "    verbose=3, \n",
    "    random_state=SEMILLA, \n",
    "    n_jobs=-1\n",
    "    )\n",
    "\n",
    "# Entrenar el modelo\n",
    "random_search.fit(X_train, y_train)\n",
    "\n",
    "# Ver los mejores hiperparámetros encontrados\n",
    "print(f'Mejores Hiperparámetros: {random_search.best_params_}')\n",
    "print(f'Mejor Puntuación: {random_search.best_score_:.4f}')\n",
    "\n",
    "# Nos quedamos con el mejor modelo para ver las métricas\n",
    "mejor_modelo = random_search.best_estimator_\n",
    "\n",
    "myfunc.verbose(\"Fin entrenamiento\")"
   ]
  },
  {
   "cell_type": "markdown",
   "id": "843854c9",
   "metadata": {
    "papermill": {
     "duration": 0.004446,
     "end_time": "2023-10-30T14:42:17.705048",
     "exception": false,
     "start_time": "2023-10-30T14:42:17.700602",
     "status": "completed"
    },
    "tags": []
   },
   "source": [
    "#### Guardar modelo"
   ]
  },
  {
   "cell_type": "code",
   "execution_count": 8,
   "id": "8787c579",
   "metadata": {
    "execution": {
     "iopub.execute_input": "2023-10-30T14:42:17.715147Z",
     "iopub.status.busy": "2023-10-30T14:42:17.714672Z",
     "iopub.status.idle": "2023-10-30T14:42:17.874923Z",
     "shell.execute_reply": "2023-10-30T14:42:17.874344Z"
    },
    "papermill": {
     "duration": 0.16694,
     "end_time": "2023-10-30T14:42:17.876251",
     "exception": false,
     "start_time": "2023-10-30T14:42:17.709311",
     "status": "completed"
    },
    "tags": []
   },
   "outputs": [
    {
     "name": "stdout",
     "output_type": "stream",
     "text": [
      "20231030T154217 : enderlab : INFO : Inicio guardar fichero ../tfm_git/ejecuciones/modelos/modelo_7265_mul_m_RF_LR_EN.pkl\n",
      "20231030T154217 : enderlab : INFO : Fin guardar fichero ../tfm_git/ejecuciones/modelos/modelo_7265_mul_m_RF_LR_EN.pkl\n"
     ]
    }
   ],
   "source": [
    "fichero_modelo = str.replace(\"modelo_\"+str(SEMILLA).zfill(4)+\"_\"+M_TIPO+\"_\"+M_SELECT+\"_\"+M_CLASIF+\".pkl\", \" \", \"_\")\n",
    "\n",
    "myfunc.save_modelo(mejor_modelo, myfunc.MODEL_DIR, fichero_modelo)"
   ]
  },
  {
   "cell_type": "markdown",
   "id": "549cfff8",
   "metadata": {
    "papermill": {
     "duration": 0.00477,
     "end_time": "2023-10-30T14:42:17.885724",
     "exception": false,
     "start_time": "2023-10-30T14:42:17.880954",
     "status": "completed"
    },
    "tags": []
   },
   "source": [
    "#### Ver resultados del las iteraciones hechas por RandomSearchCV"
   ]
  },
  {
   "cell_type": "code",
   "execution_count": 9,
   "id": "5b73ae27",
   "metadata": {
    "execution": {
     "iopub.execute_input": "2023-10-30T14:42:17.896966Z",
     "iopub.status.busy": "2023-10-30T14:42:17.896468Z",
     "iopub.status.idle": "2023-10-30T14:42:17.904877Z",
     "shell.execute_reply": "2023-10-30T14:42:17.904352Z"
    },
    "papermill": {
     "duration": 0.016001,
     "end_time": "2023-10-30T14:42:17.906291",
     "exception": false,
     "start_time": "2023-10-30T14:42:17.890290",
     "status": "completed"
    },
    "tags": []
   },
   "outputs": [
    {
     "name": "stdout",
     "output_type": "stream",
     "text": [
      "20231030T154217 : enderlab : INFO : Inicio ver resultados\n",
      "Mejores Hiperparámetros: {'selector__max_features': 1000, 'selector__estimator__n_estimators': 400, 'clasifier__solver': 'saga', 'clasifier__penalty': 'elasticnet', 'clasifier__max_iter': 10000, 'clasifier__l1_ratios': [0.1]}\n",
      "Mejores puntuaciones: 0.8634 | Params: {'selector__max_features': 1000, 'selector__estimator__n_estimators': 400, 'clasifier__solver': 'saga', 'clasifier__penalty': 'elasticnet', 'clasifier__max_iter': 10000, 'clasifier__l1_ratios': [0.1]}\n",
      "Media de las puntuaciones: 0.8634 | Params: {'selector__max_features': 1000, 'selector__estimator__n_estimators': 400, 'clasifier__solver': 'saga', 'clasifier__penalty': 'elasticnet', 'clasifier__max_iter': 10000, 'clasifier__l1_ratios': [0.1]}\n",
      "20231030T154217 : enderlab : INFO : Fin resultados\n"
     ]
    }
   ],
   "source": [
    "myfunc.ver_resultados_search(random_search)"
   ]
  },
  {
   "cell_type": "markdown",
   "id": "5413b50f",
   "metadata": {
    "papermill": {
     "duration": 0.004556,
     "end_time": "2023-10-30T14:42:17.915933",
     "exception": false,
     "start_time": "2023-10-30T14:42:17.911377",
     "status": "completed"
    },
    "tags": []
   },
   "source": [
    "#### Ver métricas del mejor modelo"
   ]
  },
  {
   "cell_type": "code",
   "execution_count": 10,
   "id": "02c3439f",
   "metadata": {
    "execution": {
     "iopub.execute_input": "2023-10-30T14:42:17.928177Z",
     "iopub.status.busy": "2023-10-30T14:42:17.927804Z",
     "iopub.status.idle": "2023-10-30T14:42:19.047142Z",
     "shell.execute_reply": "2023-10-30T14:42:19.046567Z"
    },
    "papermill": {
     "duration": 1.127766,
     "end_time": "2023-10-30T14:42:19.048468",
     "exception": false,
     "start_time": "2023-10-30T14:42:17.920702",
     "status": "completed"
    },
    "tags": []
   },
   "outputs": [
    {
     "name": "stdout",
     "output_type": "stream",
     "text": [
      "20231030T154217 : enderlab : INFO : Inicio ver métricas multiclase\n"
     ]
    },
    {
     "name": "stdout",
     "output_type": "stream",
     "text": [
      "              precision    recall  f1-score   support\n",
      "\n",
      "           0       0.46      0.38      0.41        16\n",
      "           1       0.71      0.67      0.69        15\n",
      "           2       0.38      0.27      0.32        11\n",
      "           3       0.29      0.80      0.42         5\n",
      "           4       0.67      0.62      0.64        13\n",
      "           5       0.80      0.89      0.84         9\n",
      "           6       0.69      0.61      0.65        18\n",
      "\n",
      "    accuracy                           0.57        87\n",
      "   macro avg       0.57      0.60      0.57        87\n",
      "weighted avg       0.60      0.57      0.58        87\n",
      "\n",
      "\n",
      "\n",
      "           Exactitud: 0.574713\n",
      "   Precisión (media): 0.570101\n",
      "      Recall (media): 0.604254\n",
      "    F1-score (media): 0.567065\n",
      "\n",
      "\n",
      "AUC para el tipo de cáncer 0-Control.... 0.8477\n",
      "AUC para el tipo de cáncer 1-Bladder.... 0.8972\n",
      "AUC para el tipo de cáncer 2-Breast..... 0.7297\n",
      "AUC para el tipo de cáncer 3-Colorectal. 0.8268\n",
      "AUC para el tipo de cáncer 4-Kidney..... 0.8846\n",
      "AUC para el tipo de cáncer 5-Lung....... 0.9858\n",
      "AUC para el tipo de cáncer 6-Prostate... 0.8357\n",
      "\n",
      "Media de AUC: 0.8582\n"
     ]
    },
    {
     "data": {
      "image/png": "[encoded data removed]",
      "text/plain": [
       "<Figure size 1000x600 with 1 Axes>"
      ]
     },
     "metadata": {},
     "output_type": "display_data"
    },
    {
     "name": "stdout",
     "output_type": "stream",
     "text": [
      "\n",
      "\n"
     ]
    },
    {
     "data": {
      "image/png": "[encoded data removed]",
      "text/plain": [
       "<Figure size 800x400 with 2 Axes>"
      ]
     },
     "metadata": {},
     "output_type": "display_data"
    },
    {
     "name": "stdout",
     "output_type": "stream",
     "text": [
      "\n",
      "\n",
      "Puntuación Jaccard para el cáncer tipo 0-Control.... 0.2609\n",
      "Puntuación Jaccard para el cáncer tipo 1-Bladder.... 0.5263\n",
      "Puntuación Jaccard para el cáncer tipo 2-Breast..... 0.1875\n",
      "Puntuación Jaccard para el cáncer tipo 3-Colorectal. 0.2667\n",
      "Puntuación Jaccard para el cáncer tipo 4-Kidney..... 0.4706\n",
      "Puntuación Jaccard para el cáncer tipo 5-Lung....... 0.7273\n",
      "Puntuación Jaccard para el cáncer tipo 6-Prostate... 0.4783\n",
      "\n",
      "Media de la puntuación de Jaccard: 0.4168\n"
     ]
    }
   ],
   "source": [
    "if M_TIPO.startswith(\"bin\"):\n",
    "    myfunc.ver_metricas(mejor_modelo, X_test, y_test)\n",
    "else:\n",
    "    myfunc.ver_metricas_multi(mejor_modelo, X_test, y_test)\n"
   ]
  },
  {
   "cell_type": "markdown",
   "id": "c6f5c5d8",
   "metadata": {
    "papermill": {
     "duration": 0.006147,
     "end_time": "2023-10-30T14:42:19.062339",
     "exception": false,
     "start_time": "2023-10-30T14:42:19.056192",
     "status": "completed"
    },
    "tags": []
   },
   "source": [
    "#### Finalización del notebook"
   ]
  },
  {
   "cell_type": "code",
   "execution_count": 11,
   "id": "bcf0d895",
   "metadata": {
    "execution": {
     "iopub.execute_input": "2023-10-30T14:42:19.075627Z",
     "iopub.status.busy": "2023-10-30T14:42:19.075027Z",
     "iopub.status.idle": "2023-10-30T14:42:19.078944Z",
     "shell.execute_reply": "2023-10-30T14:42:19.078383Z"
    },
    "papermill": {
     "duration": 0.011902,
     "end_time": "2023-10-30T14:42:19.080174",
     "exception": false,
     "start_time": "2023-10-30T14:42:19.068272",
     "status": "completed"
    },
    "tags": []
   },
   "outputs": [
    {
     "name": "stdout",
     "output_type": "stream",
     "text": [
      "20231030T154219 : enderlab : INFO : Notebook ha tardado 1673 seconds\n"
     ]
    }
   ],
   "source": [
    "end_time = datetime.datetime.now()\n",
    "total_time = end_time - start_time\n",
    "myfunc.verbose(f\"Notebook ha tardado {total_time.seconds} seconds\")"
   ]
  },
  {
   "cell_type": "markdown",
   "id": "28f59546",
   "metadata": {
    "papermill": {
     "duration": 0.005882,
     "end_time": "2023-10-30T14:42:19.091949",
     "exception": false,
     "start_time": "2023-10-30T14:42:19.086067",
     "status": "completed"
    },
    "tags": []
   },
   "source": [
    "#### Guardar métricas"
   ]
  },
  {
   "cell_type": "code",
   "execution_count": 12,
   "id": "dab1bdab",
   "metadata": {
    "execution": {
     "iopub.execute_input": "2023-10-30T14:42:19.105538Z",
     "iopub.status.busy": "2023-10-30T14:42:19.105055Z",
     "iopub.status.idle": "2023-10-30T14:42:20.123630Z",
     "shell.execute_reply": "2023-10-30T14:42:20.123057Z"
    },
    "papermill": {
     "duration": 1.026842,
     "end_time": "2023-10-30T14:42:20.124856",
     "exception": false,
     "start_time": "2023-10-30T14:42:19.098014",
     "status": "completed"
    },
    "tags": []
   },
   "outputs": [
    {
     "name": "stdout",
     "output_type": "stream",
     "text": [
      "20231030T154219 : enderlab : INFO : Inicio guardar métricas multiclase\n",
      "20231030T154219 : enderlab : INFO : Inicio leer fichero ../tfm_git/ejecuciones/metricas/metricas_7265.csv\n",
      "20231030T154219 : enderlab : INFO : Fin leer fichero ../tfm_git/ejecuciones/metricas/metricas_7265.csv\n"
     ]
    },
    {
     "name": "stdout",
     "output_type": "stream",
     "text": [
      "20231030T154220 : enderlab : INFO : Inicio guardar fichero ../tfm_git/ejecuciones/metricas/metricas_7265.csv\n",
      "20231030T154220 : enderlab : INFO : Fichero borrado ../tfm_git/ejecuciones/metricas/metricas_7265.csv\n",
      "20231030T154220 : enderlab : INFO : Fin guardar fichero ../tfm_git/ejecuciones/metricas/metricas_7265.csv\n",
      "20231030T154220 : enderlab : INFO : Fin guardar métricas multiclase\n",
      "20231030T154220 : enderlab : INFO : Inicio leer fichero ../tfm_git/ejecuciones/metricas/metricas_7265.csv\n",
      "20231030T154220 : enderlab : INFO : Fin leer fichero ../tfm_git/ejecuciones/metricas/metricas_7265.csv\n"
     ]
    },
    {
     "data": {
      "text/html": [
       "<div>\n",
       "<style scoped>\n",
       "    .dataframe tbody tr th:only-of-type {\n",
       "        vertical-align: middle;\n",
       "    }\n",
       "\n",
       "    .dataframe tbody tr th {\n",
       "        vertical-align: top;\n",
       "    }\n",
       "\n",
       "    .dataframe thead th {\n",
       "        text-align: right;\n",
       "    }\n",
       "</style>\n",
       "<table border=\"1\" class=\"dataframe\">\n",
       "  <thead>\n",
       "    <tr style=\"text-align: right;\">\n",
       "      <th></th>\n",
       "      <th>tipo</th>\n",
       "      <th>select</th>\n",
       "      <th>clasific</th>\n",
       "      <th>semilla</th>\n",
       "      <th>accuracy</th>\n",
       "      <th>precision</th>\n",
       "      <th>recall</th>\n",
       "      <th>f1_score</th>\n",
       "      <th>roc_auc</th>\n",
       "      <th>hostname</th>\n",
       "      <th>total_time_sec</th>\n",
       "      <th>datetime</th>\n",
       "      <th>fichero_modelo</th>\n",
       "      <th>params</th>\n",
       "      <th>shape</th>\n",
       "      <th>features</th>\n",
       "      <th>roc_auc_ovr</th>\n",
       "      <th>indices_auc</th>\n",
       "      <th>indices_jaccard</th>\n",
       "    </tr>\n",
       "  </thead>\n",
       "  <tbody>\n",
       "    <tr>\n",
       "      <th>0</th>\n",
       "      <td>mul_m</td>\n",
       "      <td>RF</td>\n",
       "      <td>LR_EN</td>\n",
       "      <td>7265</td>\n",
       "      <td>0.574713</td>\n",
       "      <td>0.570101</td>\n",
       "      <td>0.604254</td>\n",
       "      <td>0.567065</td>\n",
       "      <td>NaN</td>\n",
       "      <td>enderlab</td>\n",
       "      <td>1673</td>\n",
       "      <td>2023-10-30 15:42:20.077570</td>\n",
       "      <td>modelo_7265_mul_m_RF_LR_EN.pkl</td>\n",
       "      <td>{'selector__max_features': 1000, 'selector__es...</td>\n",
       "      <td>X_test:(87, 18875)</td>\n",
       "      <td>['ENSG00000000938.13', 'ENSG00000001084.13', '...</td>\n",
       "      <td>0.858221</td>\n",
       "      <td>[0.8477112676056339, 0.8972222222222223, 0.729...</td>\n",
       "      <td>[0.2608695652173913, 0.5263157894736842, 0.187...</td>\n",
       "    </tr>\n",
       "    <tr>\n",
       "      <th>0</th>\n",
       "      <td>mul_m</td>\n",
       "      <td>MI</td>\n",
       "      <td>SVM</td>\n",
       "      <td>7265</td>\n",
       "      <td>0.494253</td>\n",
       "      <td>0.508071</td>\n",
       "      <td>0.513259</td>\n",
       "      <td>0.500547</td>\n",
       "      <td>NaN</td>\n",
       "      <td>enderlab</td>\n",
       "      <td>225</td>\n",
       "      <td>2023-10-30 15:14:18.526193</td>\n",
       "      <td>modelo_7265_mul_m_MI_SVM.pkl</td>\n",
       "      <td>{'selector__k': 1000, 'clasifier__kernel': 'rb...</td>\n",
       "      <td>X_test:(87, 18875)</td>\n",
       "      <td>['ENSG00000001084.13', 'ENSG00000001460.18', '...</td>\n",
       "      <td>0.817727</td>\n",
       "      <td>[0.7992957746478873, 0.8037037037037038, 0.684...</td>\n",
       "      <td>[0.17391304347826086, 0.35, 0.1304347826086956...</td>\n",
       "    </tr>\n",
       "    <tr>\n",
       "      <th>0</th>\n",
       "      <td>mul_m</td>\n",
       "      <td>MI</td>\n",
       "      <td>RF</td>\n",
       "      <td>7265</td>\n",
       "      <td>0.436782</td>\n",
       "      <td>0.461126</td>\n",
       "      <td>0.462357</td>\n",
       "      <td>0.414443</td>\n",
       "      <td>NaN</td>\n",
       "      <td>enderlab</td>\n",
       "      <td>252</td>\n",
       "      <td>2023-10-30 15:10:26.091524</td>\n",
       "      <td>modelo_7265_mul_m_MI_RF.pkl</td>\n",
       "      <td>{'selector__k': 1000, 'clasifier__n_estimators...</td>\n",
       "      <td>X_test:(87, 18875)</td>\n",
       "      <td>['ENSG00000001084.13', 'ENSG00000001460.18', '...</td>\n",
       "      <td>0.785596</td>\n",
       "      <td>[0.5968309859154929, 0.836111111111111, 0.7858...</td>\n",
       "      <td>[0.11764705882352941, 0.3157894736842105, 0.21...</td>\n",
       "    </tr>\n",
       "  </tbody>\n",
       "</table>\n",
       "</div>"
      ],
      "text/plain": [
       "    tipo select clasific  semilla  accuracy  precision    recall  f1_score  \\\n",
       "0  mul_m     RF    LR_EN     7265  0.574713   0.570101  0.604254  0.567065   \n",
       "0  mul_m     MI      SVM     7265  0.494253   0.508071  0.513259  0.500547   \n",
       "0  mul_m     MI       RF     7265  0.436782   0.461126  0.462357  0.414443   \n",
       "\n",
       "   roc_auc  hostname  total_time_sec                    datetime  \\\n",
       "0      NaN  enderlab            1673  2023-10-30 15:42:20.077570   \n",
       "0      NaN  enderlab             225  2023-10-30 15:14:18.526193   \n",
       "0      NaN  enderlab             252  2023-10-30 15:10:26.091524   \n",
       "\n",
       "                   fichero_modelo  \\\n",
       "0  modelo_7265_mul_m_RF_LR_EN.pkl   \n",
       "0    modelo_7265_mul_m_MI_SVM.pkl   \n",
       "0     modelo_7265_mul_m_MI_RF.pkl   \n",
       "\n",
       "                                              params               shape  \\\n",
       "0  {'selector__max_features': 1000, 'selector__es...  X_test:(87, 18875)   \n",
       "0  {'selector__k': 1000, 'clasifier__kernel': 'rb...  X_test:(87, 18875)   \n",
       "0  {'selector__k': 1000, 'clasifier__n_estimators...  X_test:(87, 18875)   \n",
       "\n",
       "                                            features  roc_auc_ovr  \\\n",
       "0  ['ENSG00000000938.13', 'ENSG00000001084.13', '...     0.858221   \n",
       "0  ['ENSG00000001084.13', 'ENSG00000001460.18', '...     0.817727   \n",
       "0  ['ENSG00000001084.13', 'ENSG00000001460.18', '...     0.785596   \n",
       "\n",
       "                                         indices_auc  \\\n",
       "0  [0.8477112676056339, 0.8972222222222223, 0.729...   \n",
       "0  [0.7992957746478873, 0.8037037037037038, 0.684...   \n",
       "0  [0.5968309859154929, 0.836111111111111, 0.7858...   \n",
       "\n",
       "                                     indices_jaccard  \n",
       "0  [0.2608695652173913, 0.5263157894736842, 0.187...  \n",
       "0  [0.17391304347826086, 0.35, 0.1304347826086956...  \n",
       "0  [0.11764705882352941, 0.3157894736842105, 0.21...  "
      ]
     },
     "metadata": {},
     "output_type": "display_data"
    }
   ],
   "source": [
    "if M_TIPO.startswith(\"bin\"):\n",
    "    myfunc.save_metricas_to_csv(random_search, X_test, y_test, M_TIPO, M_SELECT, M_CLASIF, total_time, SEMILLA, myfunc.MET_DIR, M_FICHERO, fichero_modelo)\n",
    "else:\n",
    "    myfunc.save_metricas_multi_to_csv(random_search, X_test, y_test, M_TIPO, M_SELECT, M_CLASIF, total_time, SEMILLA, myfunc.MET_DIR, M_FICHERO, fichero_modelo)\n",
    "\n",
    "df1=myfunc.read_metricas_to_df(myfunc.MET_DIR,M_FICHERO)\n",
    "\n",
    "display(df1.sort_values(\"datetime\", ascending=False)[:3])\n"
   ]
  },
  {
   "cell_type": "markdown",
   "id": "b7485c7e",
   "metadata": {
    "papermill": {
     "duration": 0.006448,
     "end_time": "2023-10-30T14:42:20.138172",
     "exception": false,
     "start_time": "2023-10-30T14:42:20.131724",
     "status": "completed"
    },
    "tags": []
   },
   "source": [
    "#### Guardar resultados"
   ]
  },
  {
   "cell_type": "code",
   "execution_count": 13,
   "id": "6aae93ea",
   "metadata": {
    "execution": {
     "iopub.execute_input": "2023-10-30T14:42:20.152108Z",
     "iopub.status.busy": "2023-10-30T14:42:20.151640Z",
     "iopub.status.idle": "2023-10-30T14:42:20.160856Z",
     "shell.execute_reply": "2023-10-30T14:42:20.160321Z"
    },
    "papermill": {
     "duration": 0.01762,
     "end_time": "2023-10-30T14:42:20.162076",
     "exception": false,
     "start_time": "2023-10-30T14:42:20.144456",
     "status": "completed"
    },
    "tags": []
   },
   "outputs": [
    {
     "name": "stdout",
     "output_type": "stream",
     "text": [
      "20231030T154220 : enderlab : INFO : Inicio guardar resultados\n",
      "20231030T154220 : enderlab : INFO : Inicio guardar fichero ../tfm_git/ejecuciones/metricas/resultados_7265_mul_m-RF-LR_EN.csv\n",
      "20231030T154220 : enderlab : INFO : Fin guardar fichero ../tfm_git/ejecuciones/metricas/resultados_7265_mul_m-RF-LR_EN.csv\n",
      "20231030T154220 : enderlab : INFO : Fin guardar resultados\n"
     ]
    }
   ],
   "source": [
    "fichero_resultados=R_FICHERO+\"_\"+M_TIPO+\"-\"+M_SELECT+\"-\"+M_CLASIF+\".csv\"\n",
    "myfunc.save_resultados_to_csv(M_TIPO, M_SELECT, M_CLASIF,  random_search, myfunc.MET_DIR, fichero_resultados)\n"
   ]
  }
 ],
 "metadata": {
  "kernelspec": {
   "display_name": "Python 3 (ipykernel)",
   "language": "python",
   "name": "python3"
  },
  "language_info": {
   "codemirror_mode": {
    "name": "ipython",
    "version": 3
   },
   "file_extension": ".py",
   "mimetype": "text/x-python",
   "name": "python",
   "nbconvert_exporter": "python",
   "pygments_lexer": "ipython3",
   "version": "3.10.11"
  },
  "papermill": {
   "default_parameters": {},
   "duration": 1679.905559,
   "end_time": "2023-10-30T14:42:22.788112",
   "environment_variables": {},
   "exception": null,
   "input_path": "03_entrenamiento.ipynb",
   "output_path": "ejecuciones/training/03_entrenamiento.20231030T151422.param_0000_7265_mul_m_RF_LR_EN.output.ipynb",
   "parameters": {
    "MAX_ITERS": 500,
    "M_CLASIF": "LR_EN",
    "M_FICHERO": "metricas_7265",
    "M_SELECT": "RF",
    "M_TIPO": "mul_m",
    "PRE_DATA_FILE": "rows_transpose_norm_by_gene_id_with_target_num_",
    "P_FICHERO": "param_0000_7265_mul_m_RF_LR_EN.yaml",
    "R_FICHERO": "resultados_7265",
    "SCORING": "roc_auc_ovr",
    "SEMILLA": 7265,
    "eval_clasifier": "LogisticRegressionCV(random_state=SEMILLA)",
    "eval_selector": "SelectFromModel(estimator=RandomForestClassifier(random_state=SEMILLA), threshold=-np.inf)",
    "param_distributions": {
     "clasifier__l1_ratios": [
      [
       0.1
      ]
     ],
     "clasifier__max_iter": [
      10000
     ],
     "clasifier__penalty": [
      "elasticnet"
     ],
     "clasifier__solver": [
      "saga"
     ],
     "selector__estimator__n_estimators": [
      400
     ],
     "selector__max_features": [
      1000
     ]
    }
   },
   "start_time": "2023-10-30T14:14:22.882553",
   "version": "2.4.0"
  }
 },
 "nbformat": 4,
 "nbformat_minor": 5
}