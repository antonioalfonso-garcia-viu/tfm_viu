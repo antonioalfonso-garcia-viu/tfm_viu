{
 "cells": [
  {
   "cell_type": "markdown",
   "id": "c6ac8783",
   "metadata": {
    "papermill": {
     "duration": 0.003204,
     "end_time": "2023-10-27T22:59:56.296311",
     "exception": false,
     "start_time": "2023-10-27T22:59:56.293107",
     "status": "completed"
    },
    "tags": []
   },
   "source": [
    "##### Inicio"
   ]
  },
  {
   "cell_type": "markdown",
   "id": "bf72e1ca",
   "metadata": {
    "papermill": {
     "duration": 0.002365,
     "end_time": "2023-10-27T22:59:56.301214",
     "exception": false,
     "start_time": "2023-10-27T22:59:56.298849",
     "status": "completed"
    },
    "tags": []
   },
   "source": [
    "#### Carga de datos"
   ]
  },
  {
   "cell_type": "code",
   "execution_count": 1,
   "id": "c5331fc1",
   "metadata": {
    "execution": {
     "iopub.execute_input": "2023-10-27T22:59:56.307153Z",
     "iopub.status.busy": "2023-10-27T22:59:56.306915Z",
     "iopub.status.idle": "2023-10-27T22:59:57.168769Z",
     "shell.execute_reply": "2023-10-27T22:59:57.168143Z"
    },
    "papermill": {
     "duration": 0.866457,
     "end_time": "2023-10-27T22:59:57.170046",
     "exception": false,
     "start_time": "2023-10-27T22:59:56.303589",
     "status": "completed"
    },
    "tags": []
   },
   "outputs": [
    {
     "name": "stdout",
     "output_type": "stream",
     "text": [
      "CPU_COUNT: 8; NODE: amilcar22; sys.version: 3.10.12 (main, Jul  5 2023, 19:22:19) [GCC 11.2.0]\n",
      "LOKY_MAX_CPU_COUNT: 6\n",
      "OMP_NUM_THREADS: 2\n"
     ]
    }
   ],
   "source": [
    "import os\n",
    "import numpy as np\n",
    "import pandas as pd\n",
    "import datetime\n",
    "import sklearn\n",
    "import logging\n",
    "import warnings\n",
    "\n",
    "from sklearn.pipeline import Pipeline\n",
    "from sklearn.model_selection import RandomizedSearchCV, KFold, cross_val_score, train_test_split\n",
    "from sklearn.metrics import accuracy_score, confusion_matrix, classification_report, roc_auc_score\n",
    "\n",
    "#  cargar algoritmos para aprendizaje supervisado\n",
    "from sklearn.feature_selection import SelectKBest, f_classif, SelectFromModel, mutual_info_classif\n",
    "from sklearn.svm import SVC\n",
    "from sklearn.ensemble import RandomForestClassifier\n",
    "from sklearn.linear_model import LogisticRegression,LogisticRegressionCV\n",
    "\n",
    "# importar fichero con utilidades propias\n",
    "from commons import myfunctions as myfunc\n"
   ]
  },
  {
   "cell_type": "markdown",
   "id": "fa744acb",
   "metadata": {
    "papermill": {
     "duration": 0.002547,
     "end_time": "2023-10-27T22:59:57.175466",
     "exception": false,
     "start_time": "2023-10-27T22:59:57.172919",
     "status": "completed"
    },
    "tags": []
   },
   "source": [
    "#### Parámetros a utilizar en el entrenamiento.\n",
    "\n",
    "Se indican los 3 algoritmos de *selección de características* (eval_selector_xxx) y los 3 algoritmos para la _clasificación_ (eval_clasifier_xxx)\n",
    "\n",
    "En *param_distributions* se indicar los parámetros que utilizan los algoritmos en la función RandomSearchCV.\n",
    "\n",
    "Esta celda tiene la etiqueta **parameters** que servirá para poder lanzar los entrenamientos con la utilidad **papermill** pasándole un fichero con los parámetros. Los nuevos parámetros se situarán tras esta celda para tener prevalencia."
   ]
  },
  {
   "cell_type": "code",
   "execution_count": 2,
   "id": "48d084d7",
   "metadata": {
    "execution": {
     "iopub.execute_input": "2023-10-27T22:59:57.181523Z",
     "iopub.status.busy": "2023-10-27T22:59:57.181232Z",
     "iopub.status.idle": "2023-10-27T22:59:57.188588Z",
     "shell.execute_reply": "2023-10-27T22:59:57.188054Z"
    },
    "papermill": {
     "duration": 0.011786,
     "end_time": "2023-10-27T22:59:57.189770",
     "exception": false,
     "start_time": "2023-10-27T22:59:57.177984",
     "status": "completed"
    },
    "tags": [
     "parameters"
    ]
   },
   "outputs": [
    {
     "name": "stdout",
     "output_type": "stream",
     "text": [
      "20231028T005957 : amilcar22 : INFO : Utilizando parámetros de mul_m\n"
     ]
    }
   ],
   "source": [
    "#  Parametros para el entrenamiento\n",
    "\n",
    "SEMILLA=        42\n",
    "M_TIPO=         \"mul_m\"\n",
    "M_SELECT=       \"MI\"\n",
    "M_CLASIF=       \"SVM\"\n",
    "R_FICHERO=      \"resultados\"\n",
    "M_FICHERO=      \"metricas\"\n",
    "PRE_DATA_FILE=  \"rows_transpose_norm_by_gene_id_with_target_num_\"\n",
    "SCORING=        \"roc_auc_ovr\" \n",
    "MAX_ITERS=      100\n",
    "\n",
    "def mutual_info_classif_state(X, y):\n",
    "    return mutual_info_classif(X, y, random_state=SEMILLA)\n",
    "\n",
    "eval_selector_mi = \"SelectKBest(score_func=mutual_info_classif_state)\"\n",
    "eval_selector_rf=  \"SelectFromModel(estimator=RandomForestClassifier(random_state=SEMILLA), threshold=-np.inf)\"\n",
    "eval_selector_anova=  \"SelectKBest(score_func=f_classif)\"\n",
    "\n",
    "eval_clasifier_svm= \"SVC(probability=True, random_state=SEMILLA)\"\n",
    "eval_clasifier_rf= \"RandomForestClassifier(random_state=SEMILLA)\"\n",
    "eval_clasifier_lr= \"LogisticRegressionCV(random_state=SEMILLA)\"\n",
    "\n",
    "if M_TIPO.startswith(\"bin_m\"):\n",
    "    myfunc.verbose(f\"Utilizando parámetros de {M_TIPO}\")\n",
    "    eval_selector = eval_selector_mi\n",
    "    eval_clasifier = eval_clasifier_svm\n",
    "\n",
    "    SEMILLA = 6578\n",
    "    M_SELECT = \"MI\"\n",
    "    M_CLASIF = \"SVM\"\n",
    "    param_distributions = {'selector__k': [1000], \n",
    "         'clasifier__kernel': ['rbf'], 'clasifier__gamma': [0.01], 'clasifier__C': [100]}\n",
    "elif M_TIPO.startswith(\"bin_s\"):\n",
    "    myfunc.verbose(f\"Utilizando parámetros de {M_TIPO}\")\n",
    "    eval_selector = eval_selector_rf\n",
    "    eval_clasifier = eval_clasifier_lr\n",
    "\n",
    "    SEMILLA = 6191\n",
    "    M_SELECT = \"RF\"\n",
    "    M_CLASIF = \"LR_L2\"\n",
    "    param_distributions = {'selector__max_features': [1000], 'selector__estimator__n_estimators': [200], \n",
    "        'clasifier__solver': ['lbfgs'], 'clasifier__penalty': ['l2'], 'clasifier__max_iter': [10000]}\n",
    "\n",
    "elif M_TIPO.startswith(\"mul_m\"):\n",
    "    myfunc.verbose(f\"Utilizando parámetros de {M_TIPO}\")\n",
    " \n",
    "    eval_selector = eval_selector_rf\n",
    "    eval_clasifier = eval_clasifier_lr\n",
    "\n",
    "    SEMILLA = 6191\n",
    "    M_SELECT = \"RF\"\n",
    "    M_CLASIF = \"LR_L2\"\n",
    "    param_distributions = {'selector__max_features': [1000], 'selector__estimator__n_estimators': [400], \n",
    "        'clasifier__solver': ['lbfgs'], 'clasifier__penalty': ['l2'], 'clasifier__max_iter': [10000]}\n",
    "\n",
    "else:\n",
    "    # M_TIPO.startswith(\"mul_s\"):\n",
    "    myfunc.verbose(f\"Utilizando parámetros de {M_TIPO}\")\n",
    "    eval_selector = eval_selector_anova\n",
    "    eval_clasifier = eval_clasifier_lr\n",
    "\n",
    "    SEMILLA = 1860\n",
    "    M_SELECT = \"ANOVA\"\n",
    "    M_CLASIF = \"LR_L2\"\n",
    "    param_distributions = {'selector__k': [1000], \n",
    "        'clasifier__solver': ['saga'], 'clasifier__penalty': ['l2'], 'clasifier__max_iter': [10000]}\n",
    "\n"
   ]
  },
  {
   "cell_type": "code",
   "execution_count": 3,
   "id": "8ec26f7c",
   "metadata": {
    "execution": {
     "iopub.execute_input": "2023-10-27T22:59:57.195649Z",
     "iopub.status.busy": "2023-10-27T22:59:57.195462Z",
     "iopub.status.idle": "2023-10-27T22:59:57.199335Z",
     "shell.execute_reply": "2023-10-27T22:59:57.198854Z"
    },
    "papermill": {
     "duration": 0.008108,
     "end_time": "2023-10-27T22:59:57.200491",
     "exception": false,
     "start_time": "2023-10-27T22:59:57.192383",
     "status": "completed"
    },
    "tags": [
     "injected-parameters"
    ]
   },
   "outputs": [],
   "source": [
    "# Parameters\n",
    "M_TIPO = \"mul_s\"\n",
    "M_SELECT = \"MI\"\n",
    "M_CLASIF = \"RF\"\n",
    "P_FICHERO = \"param_0000_0042_mul_s_MI_RF.yaml\"\n",
    "R_FICHERO = \"resultados_0042\"\n",
    "M_FICHERO = \"metricas_0042\"\n",
    "PRE_DATA_FILE = \"rows_transpose_norm_by_gene_id_with_target_num_\"\n",
    "SCORING = \"roc_auc_ovr\"\n",
    "SEMILLA = 42\n",
    "MAX_ITERS = 500\n",
    "eval_selector = \"SelectKBest(score_func=mutual_info_classif_state)\"\n",
    "eval_clasifier = \"RandomForestClassifier(random_state=SEMILLA)\"\n",
    "param_distributions = {\n",
    "    \"selector__k\": [500],\n",
    "    \"clasifier__n_estimators\": [400],\n",
    "    \"clasifier__min_samples_split\": [10],\n",
    "    \"clasifier__min_samples_leaf\": [5],\n",
    "    \"clasifier__max_features\": [500],\n",
    "    \"clasifier__max_depth\": [30],\n",
    "    \"clasifier__bootstrap\": [True],\n",
    "}\n"
   ]
  },
  {
   "cell_type": "code",
   "execution_count": 4,
   "id": "ba69c5ef",
   "metadata": {
    "execution": {
     "iopub.execute_input": "2023-10-27T22:59:57.206442Z",
     "iopub.status.busy": "2023-10-27T22:59:57.206254Z",
     "iopub.status.idle": "2023-10-27T22:59:57.209324Z",
     "shell.execute_reply": "2023-10-27T22:59:57.208825Z"
    },
    "papermill": {
     "duration": 0.0073,
     "end_time": "2023-10-27T22:59:57.210391",
     "exception": false,
     "start_time": "2023-10-27T22:59:57.203091",
     "status": "completed"
    },
    "tags": []
   },
   "outputs": [],
   "source": [
    "DATA_FILE = PRE_DATA_FILE + M_TIPO\n",
    "\n",
    "# si viene \"None\" en el parámetro max_depth, se le quitan las comillas para que no sea entendido por el algoritmo como un texto\n",
    "if \"clasifier__max_depth\" in param_distributions:\n",
    "    param_distributions['clasifier__max_depth'] = [None if x == 'None' else x for x in param_distributions['clasifier__max_depth']]"
   ]
  },
  {
   "cell_type": "markdown",
   "id": "e18a58d7",
   "metadata": {
    "papermill": {
     "duration": 0.002549,
     "end_time": "2023-10-27T22:59:57.215557",
     "exception": false,
     "start_time": "2023-10-27T22:59:57.213008",
     "status": "completed"
    },
    "tags": []
   },
   "source": [
    "Asignar los algoritmos que se utilizarán en la función RandomSearchCV"
   ]
  },
  {
   "cell_type": "code",
   "execution_count": 5,
   "id": "4d67a849",
   "metadata": {
    "execution": {
     "iopub.execute_input": "2023-10-27T22:59:57.221467Z",
     "iopub.status.busy": "2023-10-27T22:59:57.221309Z",
     "iopub.status.idle": "2023-10-27T22:59:57.224345Z",
     "shell.execute_reply": "2023-10-27T22:59:57.223781Z"
    },
    "papermill": {
     "duration": 0.007501,
     "end_time": "2023-10-27T22:59:57.225708",
     "exception": false,
     "start_time": "2023-10-27T22:59:57.218207",
     "status": "completed"
    },
    "tags": []
   },
   "outputs": [],
   "source": [
    "algor_selector=eval(eval_selector)\n",
    "algor_clasifier=eval(eval_clasifier)"
   ]
  },
  {
   "cell_type": "markdown",
   "id": "eca4afbb",
   "metadata": {
    "papermill": {
     "duration": 0.00335,
     "end_time": "2023-10-27T22:59:57.232388",
     "exception": false,
     "start_time": "2023-10-27T22:59:57.229038",
     "status": "completed"
    },
    "tags": []
   },
   "source": [
    "#### Comprobar el entorno y leer fichero de muestras"
   ]
  },
  {
   "cell_type": "code",
   "execution_count": 6,
   "id": "d271e9b4",
   "metadata": {
    "execution": {
     "iopub.execute_input": "2023-10-27T22:59:57.239746Z",
     "iopub.status.busy": "2023-10-27T22:59:57.239563Z",
     "iopub.status.idle": "2023-10-27T22:59:57.366955Z",
     "shell.execute_reply": "2023-10-27T22:59:57.366368Z"
    },
    "papermill": {
     "duration": 0.132531,
     "end_time": "2023-10-27T22:59:57.368236",
     "exception": false,
     "start_time": "2023-10-27T22:59:57.235705",
     "status": "completed"
    },
    "tags": []
   },
   "outputs": [
    {
     "name": "stdout",
     "output_type": "stream",
     "text": [
      "20231028T005957 : amilcar22 : INFO : Encontrada carpeta DATA_DIR=../tfm_git/datos\n",
      "20231028T005957 : amilcar22 : INFO : Encontrada carpeta CFDNA_DIR=../tfm_git/datos/cfDNA_5hmC\n",
      "20231028T005957 : amilcar22 : INFO : Encontrada carpeta GENCODE_DIR=../tfm_git/datos/gencode\n",
      "20231028T005957 : amilcar22 : INFO : Encontrada carpeta H5_DIR=../tfm_git/datos/h5\n",
      "20231028T005957 : amilcar22 : INFO : Encontrada carpeta LOG_DIR=../tfm_git/datos/logs\n",
      "20231028T005957 : amilcar22 : INFO : Encontrada carpeta CSV_DIR=../tfm_git/datos/csv\n",
      "20231028T005957 : amilcar22 : INFO : Encontrada carpeta MODEL_DIR=../tfm_git/ejecuciones/modelos\n",
      "20231028T005957 : amilcar22 : INFO : Encontrada carpeta EXEC_DIR=../tfm_git/ejecuciones\n",
      "20231028T005957 : amilcar22 : INFO : Encontrada carpeta MET_DIR=../tfm_git/ejecuciones/metricas\n",
      "20231028T005957 : amilcar22 : INFO : Inicio leer fichero h5 ../tfm_git/datos/h5/rows_transpose_norm_by_gene_id_with_target_num_mul_s.h5\n",
      "20231028T005957 : amilcar22 : INFO : Leyendo clave /df\n",
      "20231028T005957 : amilcar22 : INFO : Tamaño (259, 18876)\n",
      "20231028T005957 : amilcar22 : INFO : Fin leer fichero h5 ../tfm_git/datos/h5/rows_transpose_norm_by_gene_id_with_target_num_mul_s.h5\n"
     ]
    },
    {
     "data": {
      "text/plain": [
       "target\n",
       "0    37\n",
       "1    37\n",
       "2    37\n",
       "3    37\n",
       "4    37\n",
       "5    37\n",
       "6    37\n",
       "dtype: int64"
      ]
     },
     "metadata": {},
     "output_type": "display_data"
    },
    {
     "name": "stdout",
     "output_type": "stream",
     "text": [
      "Shape df: (259, 18876)\n",
      "Shape X_train: (207, 18875)\n",
      "Shape X_test: (52, 18875)\n"
     ]
    }
   ],
   "source": [
    "start_time = datetime.datetime.now()\n",
    "\n",
    "myfunc.reset_vars()\n",
    "\n",
    "myfunc.NOTEBK_FILENAME = myfunc.get_nb_name()\n",
    "\n",
    "myfunc.check_enviroment(myfunc.DATA_DIR, myfunc.CFDNA_DIR, myfunc.GENCODE_DIR, myfunc.H5_DIR, myfunc.LOG_DIR, myfunc.CSV_DIR, myfunc.MODEL_DIR, myfunc.EXEC_DIR, myfunc.MET_DIR)\n",
    "\n",
    "# Leer fichero con las muestras\n",
    "df_t = myfunc.read_h5_to_df(DATA_FILE, myfunc.H5_DIR)\n",
    "display(df_t.groupby(\"target\").size())\n",
    "print(\"Shape df:\",df_t.shape)\n",
    "\n",
    "# Separar caracteristicas/genes de las etiquetas/tipos de cáncer\n",
    "X = df_t.iloc[:, :-1]  # Todas las columnas excepto la última\n",
    "y = df_t.iloc[:, -1]  # La última columna contiene los identificadores de los tipos de cáncer\n",
    "\n",
    "#  Crear el conjunto de datos de entrenamiento y de pruebas\n",
    "X_train, X_test, y_train, y_test = train_test_split(X, y, test_size=0.2, shuffle=True, random_state=SEMILLA)\n",
    "print(\"Shape X_train:\",X_train.shape)\n",
    "print(\"Shape X_test:\",X_test.shape)\n"
   ]
  },
  {
   "cell_type": "markdown",
   "id": "e16804f6",
   "metadata": {
    "papermill": {
     "duration": 0.002779,
     "end_time": "2023-10-27T22:59:57.374226",
     "exception": false,
     "start_time": "2023-10-27T22:59:57.371447",
     "status": "completed"
    },
    "tags": []
   },
   "source": [
    "#### Selección de características y clasificación."
   ]
  },
  {
   "cell_type": "code",
   "execution_count": 7,
   "id": "0654062e",
   "metadata": {
    "execution": {
     "iopub.execute_input": "2023-10-27T22:59:57.380568Z",
     "iopub.status.busy": "2023-10-27T22:59:57.380368Z",
     "iopub.status.idle": "2023-10-27T23:03:28.315091Z",
     "shell.execute_reply": "2023-10-27T23:03:28.314475Z"
    },
    "papermill": {
     "duration": 210.94168,
     "end_time": "2023-10-27T23:03:28.318657",
     "exception": false,
     "start_time": "2023-10-27T22:59:57.376977",
     "status": "completed"
    },
    "tags": []
   },
   "outputs": [
    {
     "name": "stdout",
     "output_type": "stream",
     "text": [
      "20231028T005957 : amilcar22 : INFO : Iniciando entrenamiento\n",
      "num_iter: 1 , max_iter: 1\n"
     ]
    },
    {
     "name": "stdout",
     "output_type": "stream",
     "text": [
      "Fitting 5 folds for each of 1 candidates, totalling 5 fits\n"
     ]
    },
    {
     "name": "stdout",
     "output_type": "stream",
     "text": [
      "Mejores Hiperparámetros: {'selector__k': 500, 'clasifier__n_estimators': 400, 'clasifier__min_samples_split': 10, 'clasifier__min_samples_leaf': 5, 'clasifier__max_features': 500, 'clasifier__max_depth': 30, 'clasifier__bootstrap': True}\n",
      "Mejor Puntuación: 0.7372\n",
      "20231028T010328 : amilcar22 : INFO : Fin entrenamiento\n"
     ]
    }
   ],
   "source": [
    "myfunc.verbose(\"Iniciando entrenamiento\")\n",
    "\n",
    "kf = KFold(n_splits=5, shuffle=True, random_state=SEMILLA)\n",
    "\n",
    "# Crear el pipeline para el flujo de tareas\n",
    "tasks_pipeline = Pipeline([\n",
    "    ('selector', algor_selector),\n",
    "    ('clasifier', algor_clasifier)\n",
    "])\n",
    "\n",
    "# MAX_ITERS puede limitar el número de iteraciones si son excesivas para las combinaciones de parámetros buscando un óptimo local, \n",
    "# sino funcionaría como GridSearchCV al revisar todas las cominaciones de los parámetros\n",
    "num_iteraciones = 1\n",
    "num_iteraciones = num_iteraciones * np.prod([len(elemento1) for _, elemento1 in param_distributions.items()])\n",
    "max_iteraciones = num_iteraciones if num_iteraciones <= MAX_ITERS else MAX_ITERS\n",
    "print(\"num_iter:\",num_iteraciones,\", max_iter:\",max_iteraciones)\n",
    "\n",
    "random_search = RandomizedSearchCV(\n",
    "    tasks_pipeline, \n",
    "    param_distributions, \n",
    "    n_iter=max_iteraciones,\n",
    "    scoring=SCORING,\n",
    "    cv=kf,\n",
    "    verbose=3, \n",
    "    random_state=SEMILLA, \n",
    "    n_jobs=-1\n",
    "    )\n",
    "\n",
    "# Entrenar el modelo\n",
    "random_search.fit(X_train, y_train)\n",
    "\n",
    "# Ver los mejores hiperparámetros encontrados\n",
    "print(f'Mejores Hiperparámetros: {random_search.best_params_}')\n",
    "print(f'Mejor Puntuación: {random_search.best_score_:.4f}')\n",
    "\n",
    "# Nos quedamos con el mejor modelo para ver las métricas\n",
    "mejor_modelo = random_search.best_estimator_\n",
    "\n",
    "myfunc.verbose(\"Fin entrenamiento\")"
   ]
  },
  {
   "cell_type": "markdown",
   "id": "39578ad4",
   "metadata": {
    "papermill": {
     "duration": 0.002944,
     "end_time": "2023-10-27T23:03:28.324606",
     "exception": false,
     "start_time": "2023-10-27T23:03:28.321662",
     "status": "completed"
    },
    "tags": []
   },
   "source": [
    "#### Guardar modelo"
   ]
  },
  {
   "cell_type": "code",
   "execution_count": 8,
   "id": "6769563b",
   "metadata": {
    "execution": {
     "iopub.execute_input": "2023-10-27T23:03:28.331191Z",
     "iopub.status.busy": "2023-10-27T23:03:28.330977Z",
     "iopub.status.idle": "2023-10-27T23:03:28.454961Z",
     "shell.execute_reply": "2023-10-27T23:03:28.454376Z"
    },
    "papermill": {
     "duration": 0.128727,
     "end_time": "2023-10-27T23:03:28.456143",
     "exception": false,
     "start_time": "2023-10-27T23:03:28.327416",
     "status": "completed"
    },
    "tags": []
   },
   "outputs": [
    {
     "name": "stdout",
     "output_type": "stream",
     "text": [
      "20231028T010328 : amilcar22 : INFO : Inicio guardar fichero ../tfm_git/ejecuciones/modelos/modelo_0042_mul_s_MI_RF.pkl\n",
      "20231028T010328 : amilcar22 : INFO : Fin guardar fichero ../tfm_git/ejecuciones/modelos/modelo_0042_mul_s_MI_RF.pkl\n"
     ]
    }
   ],
   "source": [
    "fichero_modelo = str.replace(\"modelo_\"+str(SEMILLA).zfill(4)+\"_\"+M_TIPO+\"_\"+M_SELECT+\"_\"+M_CLASIF+\".pkl\", \" \", \"_\")\n",
    "\n",
    "myfunc.save_modelo(mejor_modelo, myfunc.MODEL_DIR, fichero_modelo)"
   ]
  },
  {
   "cell_type": "markdown",
   "id": "f063f9cd",
   "metadata": {
    "papermill": {
     "duration": 0.003012,
     "end_time": "2023-10-27T23:03:28.462409",
     "exception": false,
     "start_time": "2023-10-27T23:03:28.459397",
     "status": "completed"
    },
    "tags": []
   },
   "source": [
    "#### Ver resultados del las iteraciones hechas por RandomSearchCV"
   ]
  },
  {
   "cell_type": "code",
   "execution_count": 9,
   "id": "967011e0",
   "metadata": {
    "execution": {
     "iopub.execute_input": "2023-10-27T23:03:28.469078Z",
     "iopub.status.busy": "2023-10-27T23:03:28.468878Z",
     "iopub.status.idle": "2023-10-27T23:03:28.474870Z",
     "shell.execute_reply": "2023-10-27T23:03:28.474350Z"
    },
    "papermill": {
     "duration": 0.010634,
     "end_time": "2023-10-27T23:03:28.475966",
     "exception": false,
     "start_time": "2023-10-27T23:03:28.465332",
     "status": "completed"
    },
    "tags": []
   },
   "outputs": [
    {
     "name": "stdout",
     "output_type": "stream",
     "text": [
      "20231028T010328 : amilcar22 : INFO : Inicio ver resultados\n",
      "Mejores Hiperparámetros: {'selector__k': 500, 'clasifier__n_estimators': 400, 'clasifier__min_samples_split': 10, 'clasifier__min_samples_leaf': 5, 'clasifier__max_features': 500, 'clasifier__max_depth': 30, 'clasifier__bootstrap': True}\n",
      "Mejores puntuaciones: 0.7372 | Params: {'selector__k': 500, 'clasifier__n_estimators': 400, 'clasifier__min_samples_split': 10, 'clasifier__min_samples_leaf': 5, 'clasifier__max_features': 500, 'clasifier__max_depth': 30, 'clasifier__bootstrap': True}\n",
      "Media de las puntuaciones: 0.7372 | Params: {'selector__k': 500, 'clasifier__n_estimators': 400, 'clasifier__min_samples_split': 10, 'clasifier__min_samples_leaf': 5, 'clasifier__max_features': 500, 'clasifier__max_depth': 30, 'clasifier__bootstrap': True}\n",
      "20231028T010328 : amilcar22 : INFO : Fin resultados\n"
     ]
    }
   ],
   "source": [
    "myfunc.ver_resultados_search(random_search)"
   ]
  },
  {
   "cell_type": "markdown",
   "id": "56cdb031",
   "metadata": {
    "papermill": {
     "duration": 0.003004,
     "end_time": "2023-10-27T23:03:28.482043",
     "exception": false,
     "start_time": "2023-10-27T23:03:28.479039",
     "status": "completed"
    },
    "tags": []
   },
   "source": [
    "#### Ver métricas del mejor modelo"
   ]
  },
  {
   "cell_type": "code",
   "execution_count": 10,
   "id": "96ec1308",
   "metadata": {
    "execution": {
     "iopub.execute_input": "2023-10-27T23:03:28.488895Z",
     "iopub.status.busy": "2023-10-27T23:03:28.488710Z",
     "iopub.status.idle": "2023-10-27T23:03:29.138120Z",
     "shell.execute_reply": "2023-10-27T23:03:29.137630Z"
    },
    "papermill": {
     "duration": 0.654098,
     "end_time": "2023-10-27T23:03:29.139239",
     "exception": false,
     "start_time": "2023-10-27T23:03:28.485141",
     "status": "completed"
    },
    "tags": []
   },
   "outputs": [
    {
     "name": "stdout",
     "output_type": "stream",
     "text": [
      "20231028T010328 : amilcar22 : INFO : Inicio ver métricas multiclase\n"
     ]
    },
    {
     "name": "stdout",
     "output_type": "stream",
     "text": [
      "              precision    recall  f1-score   support\n",
      "\n",
      "           0       0.20      0.09      0.13        11\n",
      "           1       0.45      0.62      0.53         8\n",
      "           2       0.30      0.38      0.33         8\n",
      "           3       0.25      0.20      0.22         5\n",
      "           4       0.55      0.75      0.63         8\n",
      "           5       0.00      0.00      0.00         6\n",
      "           6       0.12      0.17      0.14         6\n",
      "\n",
      "    accuracy                           0.33        52\n",
      "   macro avg       0.27      0.32      0.28        52\n",
      "weighted avg       0.28      0.33      0.29        52\n",
      "\n",
      "\n",
      "\n",
      "           Exactitud: 0.326923\n",
      "   Precisión (media): 0.267857\n",
      "      Recall (media): 0.315368\n",
      "    F1-score (media): 0.283044\n",
      "\n",
      "\n",
      "AUC para el tipo de cáncer 0-Control.... 0.4878\n",
      "AUC para el tipo de cáncer 1-Bladder.... 0.7983\n",
      "AUC para el tipo de cáncer 2-Breast..... 0.6506\n",
      "AUC para el tipo de cáncer 3-Colorectal. 0.8638\n",
      "AUC para el tipo de cáncer 4-Kidney..... 0.9602\n",
      "AUC para el tipo de cáncer 5-Lung....... 0.5616\n",
      "AUC para el tipo de cáncer 6-Prostate... 0.6630\n",
      "\n",
      "Media de AUC: 0.7122\n"
     ]
    },
    {
     "data": {
      "image/png": "[encoded data removed]",
      "text/plain": [
       "<Figure size 1000x600 with 1 Axes>"
      ]
     },
     "metadata": {},
     "output_type": "display_data"
    },
    {
     "name": "stdout",
     "output_type": "stream",
     "text": [
      "\n",
      "\n"
     ]
    },
    {
     "data": {
      "image/png": "[encoded data removed]",
      "text/plain": [
       "<Figure size 800x400 with 2 Axes>"
      ]
     },
     "metadata": {},
     "output_type": "display_data"
    },
    {
     "name": "stdout",
     "output_type": "stream",
     "text": [
      "\n",
      "\n",
      "Puntuación Jaccard para el cáncer tipo 0-Control.... 0.0667\n",
      "Puntuación Jaccard para el cáncer tipo 1-Bladder.... 0.3571\n",
      "Puntuación Jaccard para el cáncer tipo 2-Breast..... 0.2000\n",
      "Puntuación Jaccard para el cáncer tipo 3-Colorectal. 0.1250\n",
      "Puntuación Jaccard para el cáncer tipo 4-Kidney..... 0.4615\n",
      "Puntuación Jaccard para el cáncer tipo 5-Lung....... 0.0000\n",
      "Puntuación Jaccard para el cáncer tipo 6-Prostate... 0.0769\n",
      "\n",
      "Media de la puntuación de Jaccard: 0.1839\n"
     ]
    }
   ],
   "source": [
    "if M_TIPO.startswith(\"bin\"):\n",
    "    myfunc.ver_metricas(mejor_modelo, X_test, y_test)\n",
    "else:\n",
    "    myfunc.ver_metricas_multi(mejor_modelo, X_test, y_test)\n"
   ]
  },
  {
   "cell_type": "markdown",
   "id": "60e4f1f7",
   "metadata": {
    "papermill": {
     "duration": 0.004072,
     "end_time": "2023-10-27T23:03:29.147794",
     "exception": false,
     "start_time": "2023-10-27T23:03:29.143722",
     "status": "completed"
    },
    "tags": []
   },
   "source": [
    "#### Finalización del notebook"
   ]
  },
  {
   "cell_type": "code",
   "execution_count": 11,
   "id": "e35ef0fe",
   "metadata": {
    "execution": {
     "iopub.execute_input": "2023-10-27T23:03:29.156858Z",
     "iopub.status.busy": "2023-10-27T23:03:29.156642Z",
     "iopub.status.idle": "2023-10-27T23:03:29.160490Z",
     "shell.execute_reply": "2023-10-27T23:03:29.159970Z"
    },
    "papermill": {
     "duration": 0.009643,
     "end_time": "2023-10-27T23:03:29.161561",
     "exception": false,
     "start_time": "2023-10-27T23:03:29.151918",
     "status": "completed"
    },
    "tags": []
   },
   "outputs": [
    {
     "name": "stdout",
     "output_type": "stream",
     "text": [
      "20231028T010329 : amilcar22 : INFO : Notebook ha tardado 211 seconds\n"
     ]
    }
   ],
   "source": [
    "end_time = datetime.datetime.now()\n",
    "total_time = end_time - start_time\n",
    "myfunc.verbose(f\"Notebook ha tardado {total_time.seconds} seconds\")"
   ]
  },
  {
   "cell_type": "markdown",
   "id": "b3c9808c",
   "metadata": {
    "papermill": {
     "duration": 0.004041,
     "end_time": "2023-10-27T23:03:29.169696",
     "exception": false,
     "start_time": "2023-10-27T23:03:29.165655",
     "status": "completed"
    },
    "tags": []
   },
   "source": [
    "#### Guardar métricas"
   ]
  },
  {
   "cell_type": "code",
   "execution_count": 12,
   "id": "914bfb49",
   "metadata": {
    "execution": {
     "iopub.execute_input": "2023-10-27T23:03:29.178564Z",
     "iopub.status.busy": "2023-10-27T23:03:29.178374Z",
     "iopub.status.idle": "2023-10-27T23:03:29.460330Z",
     "shell.execute_reply": "2023-10-27T23:03:29.459817Z"
    },
    "papermill": {
     "duration": 0.28779,
     "end_time": "2023-10-27T23:03:29.461566",
     "exception": false,
     "start_time": "2023-10-27T23:03:29.173776",
     "status": "completed"
    },
    "tags": []
   },
   "outputs": [
    {
     "name": "stdout",
     "output_type": "stream",
     "text": [
      "20231028T010329 : amilcar22 : INFO : Inicio guardar métricas multiclase\n",
      "20231028T010329 : amilcar22 : INFO : Inicio leer fichero ../tfm_git/ejecuciones/metricas/metricas_0042.csv\n",
      "20231028T010329 : amilcar22 : INFO : Fin leer fichero ../tfm_git/ejecuciones/metricas/metricas_0042.csv\n"
     ]
    },
    {
     "name": "stdout",
     "output_type": "stream",
     "text": [
      "20231028T010329 : amilcar22 : INFO : Inicio guardar fichero ../tfm_git/ejecuciones/metricas/metricas_0042.csv\n",
      "20231028T010329 : amilcar22 : INFO : Fichero borrado ../tfm_git/ejecuciones/metricas/metricas_0042.csv\n",
      "20231028T010329 : amilcar22 : INFO : Fin guardar fichero ../tfm_git/ejecuciones/metricas/metricas_0042.csv\n",
      "20231028T010329 : amilcar22 : INFO : Fin guardar métricas multiclase\n",
      "20231028T010329 : amilcar22 : INFO : Inicio leer fichero ../tfm_git/ejecuciones/metricas/metricas_0042.csv\n",
      "20231028T010329 : amilcar22 : INFO : Fin leer fichero ../tfm_git/ejecuciones/metricas/metricas_0042.csv\n"
     ]
    },
    {
     "data": {
      "text/html": [
       "<div>\n",
       "<style scoped>\n",
       "    .dataframe tbody tr th:only-of-type {\n",
       "        vertical-align: middle;\n",
       "    }\n",
       "\n",
       "    .dataframe tbody tr th {\n",
       "        vertical-align: top;\n",
       "    }\n",
       "\n",
       "    .dataframe thead th {\n",
       "        text-align: right;\n",
       "    }\n",
       "</style>\n",
       "<table border=\"1\" class=\"dataframe\">\n",
       "  <thead>\n",
       "    <tr style=\"text-align: right;\">\n",
       "      <th></th>\n",
       "      <th>tipo</th>\n",
       "      <th>select</th>\n",
       "      <th>clasific</th>\n",
       "      <th>accuracy</th>\n",
       "      <th>precision</th>\n",
       "      <th>recall</th>\n",
       "      <th>f1_score</th>\n",
       "      <th>roc_auc</th>\n",
       "      <th>roc_auc_ovr</th>\n",
       "      <th>hostname</th>\n",
       "      <th>total_time_sec</th>\n",
       "      <th>datetime</th>\n",
       "      <th>fichero_modelo</th>\n",
       "      <th>params</th>\n",
       "      <th>shape</th>\n",
       "      <th>features</th>\n",
       "      <th>semilla</th>\n",
       "      <th>indices_auc</th>\n",
       "      <th>indices_jaccard</th>\n",
       "    </tr>\n",
       "  </thead>\n",
       "  <tbody>\n",
       "    <tr>\n",
       "      <th>0</th>\n",
       "      <td>mul_s</td>\n",
       "      <td>MI</td>\n",
       "      <td>RF</td>\n",
       "      <td>0.326923</td>\n",
       "      <td>0.267857</td>\n",
       "      <td>0.315368</td>\n",
       "      <td>0.283044</td>\n",
       "      <td>NaN</td>\n",
       "      <td>0.712195</td>\n",
       "      <td>amilcar22</td>\n",
       "      <td>211</td>\n",
       "      <td>2023-10-28 01:03:29.411968</td>\n",
       "      <td>modelo_0042_mul_s_MI_RF.pkl</td>\n",
       "      <td>{'selector__k': 500, 'clasifier__n_estimators'...</td>\n",
       "      <td>X_test:(52, 18875)</td>\n",
       "      <td>['ENSG00000005513.10', 'ENSG00000006025.13', '...</td>\n",
       "      <td>42.0</td>\n",
       "      <td>[0.4878048780487805, 0.7982954545454546, 0.650...</td>\n",
       "      <td>[0.06666666666666667, 0.35714285714285715, 0.2...</td>\n",
       "    </tr>\n",
       "    <tr>\n",
       "      <th>0</th>\n",
       "      <td>mul_s</td>\n",
       "      <td>MI</td>\n",
       "      <td>LR_L2</td>\n",
       "      <td>0.500000</td>\n",
       "      <td>0.562338</td>\n",
       "      <td>0.518615</td>\n",
       "      <td>0.503540</td>\n",
       "      <td>NaN</td>\n",
       "      <td>0.815305</td>\n",
       "      <td>amilcar22</td>\n",
       "      <td>529</td>\n",
       "      <td>2023-10-28 00:59:51.140815</td>\n",
       "      <td>modelo_0042_mul_s_MI_LR_L2.pkl</td>\n",
       "      <td>{'selector__k': 500, 'clasifier__solver': 'sag...</td>\n",
       "      <td>X_test:(52, 18875)</td>\n",
       "      <td>['ENSG00000005513.10', 'ENSG00000006025.13', '...</td>\n",
       "      <td>42.0</td>\n",
       "      <td>[0.5565410199556541, 0.8977272727272727, 0.724...</td>\n",
       "      <td>[0.26666666666666666, 0.375, 0.142857142857142...</td>\n",
       "    </tr>\n",
       "    <tr>\n",
       "      <th>0</th>\n",
       "      <td>mul_s</td>\n",
       "      <td>MI</td>\n",
       "      <td>LR_L1</td>\n",
       "      <td>0.461538</td>\n",
       "      <td>0.565986</td>\n",
       "      <td>0.487771</td>\n",
       "      <td>0.479136</td>\n",
       "      <td>NaN</td>\n",
       "      <td>0.831382</td>\n",
       "      <td>amilcar22</td>\n",
       "      <td>717</td>\n",
       "      <td>2023-10-28 00:50:55.671180</td>\n",
       "      <td>modelo_0042_mul_s_MI_LR_L1.pkl</td>\n",
       "      <td>{'selector__k': 500, 'clasifier__solver': 'sag...</td>\n",
       "      <td>X_test:(52, 18875)</td>\n",
       "      <td>['ENSG00000005513.10', 'ENSG00000006025.13', '...</td>\n",
       "      <td>42.0</td>\n",
       "      <td>[0.5831485587583148, 0.9147727272727273, 0.747...</td>\n",
       "      <td>[0.2, 0.375, 0.21428571428571427, 0.25, 0.3846...</td>\n",
       "    </tr>\n",
       "  </tbody>\n",
       "</table>\n",
       "</div>"
      ],
      "text/plain": [
       "    tipo select clasific  accuracy  precision    recall  f1_score  roc_auc  \\\n",
       "0  mul_s     MI       RF  0.326923   0.267857  0.315368  0.283044      NaN   \n",
       "0  mul_s     MI    LR_L2  0.500000   0.562338  0.518615  0.503540      NaN   \n",
       "0  mul_s     MI    LR_L1  0.461538   0.565986  0.487771  0.479136      NaN   \n",
       "\n",
       "   roc_auc_ovr   hostname  total_time_sec                    datetime  \\\n",
       "0     0.712195  amilcar22             211  2023-10-28 01:03:29.411968   \n",
       "0     0.815305  amilcar22             529  2023-10-28 00:59:51.140815   \n",
       "0     0.831382  amilcar22             717  2023-10-28 00:50:55.671180   \n",
       "\n",
       "                   fichero_modelo  \\\n",
       "0     modelo_0042_mul_s_MI_RF.pkl   \n",
       "0  modelo_0042_mul_s_MI_LR_L2.pkl   \n",
       "0  modelo_0042_mul_s_MI_LR_L1.pkl   \n",
       "\n",
       "                                              params               shape  \\\n",
       "0  {'selector__k': 500, 'clasifier__n_estimators'...  X_test:(52, 18875)   \n",
       "0  {'selector__k': 500, 'clasifier__solver': 'sag...  X_test:(52, 18875)   \n",
       "0  {'selector__k': 500, 'clasifier__solver': 'sag...  X_test:(52, 18875)   \n",
       "\n",
       "                                            features  semilla  \\\n",
       "0  ['ENSG00000005513.10', 'ENSG00000006025.13', '...     42.0   \n",
       "0  ['ENSG00000005513.10', 'ENSG00000006025.13', '...     42.0   \n",
       "0  ['ENSG00000005513.10', 'ENSG00000006025.13', '...     42.0   \n",
       "\n",
       "                                         indices_auc  \\\n",
       "0  [0.4878048780487805, 0.7982954545454546, 0.650...   \n",
       "0  [0.5565410199556541, 0.8977272727272727, 0.724...   \n",
       "0  [0.5831485587583148, 0.9147727272727273, 0.747...   \n",
       "\n",
       "                                     indices_jaccard  \n",
       "0  [0.06666666666666667, 0.35714285714285715, 0.2...  \n",
       "0  [0.26666666666666666, 0.375, 0.142857142857142...  \n",
       "0  [0.2, 0.375, 0.21428571428571427, 0.25, 0.3846...  "
      ]
     },
     "metadata": {},
     "output_type": "display_data"
    }
   ],
   "source": [
    "if M_TIPO.startswith(\"bin\"):\n",
    "    myfunc.save_metricas_to_csv(random_search, X_test, y_test, M_TIPO, M_SELECT, M_CLASIF, total_time, SEMILLA, myfunc.MET_DIR, M_FICHERO, fichero_modelo)\n",
    "else:\n",
    "    myfunc.save_metricas_multi_to_csv(random_search, X_test, y_test, M_TIPO, M_SELECT, M_CLASIF, total_time, SEMILLA, myfunc.MET_DIR, M_FICHERO, fichero_modelo)\n",
    "\n",
    "df1=myfunc.read_metricas_to_df(myfunc.MET_DIR,M_FICHERO)\n",
    "\n",
    "display(df1.sort_values(\"datetime\", ascending=False)[:3])\n"
   ]
  },
  {
   "cell_type": "markdown",
   "id": "a043f4a8",
   "metadata": {
    "papermill": {
     "duration": 0.004346,
     "end_time": "2023-10-27T23:03:29.470664",
     "exception": false,
     "start_time": "2023-10-27T23:03:29.466318",
     "status": "completed"
    },
    "tags": []
   },
   "source": [
    "#### Guardar resultados"
   ]
  },
  {
   "cell_type": "code",
   "execution_count": 13,
   "id": "065539cd",
   "metadata": {
    "execution": {
     "iopub.execute_input": "2023-10-27T23:03:29.480134Z",
     "iopub.status.busy": "2023-10-27T23:03:29.479897Z",
     "iopub.status.idle": "2023-10-27T23:03:29.488685Z",
     "shell.execute_reply": "2023-10-27T23:03:29.488194Z"
    },
    "papermill": {
     "duration": 0.014921,
     "end_time": "2023-10-27T23:03:29.489924",
     "exception": false,
     "start_time": "2023-10-27T23:03:29.475003",
     "status": "completed"
    },
    "tags": []
   },
   "outputs": [
    {
     "name": "stdout",
     "output_type": "stream",
     "text": [
      "20231028T010329 : amilcar22 : INFO : Inicio guardar resultados\n",
      "20231028T010329 : amilcar22 : INFO : Inicio guardar fichero ../tfm_git/ejecuciones/metricas/resultados_0042_mul_s-MI-RF.csv\n",
      "20231028T010329 : amilcar22 : INFO : Fin guardar fichero ../tfm_git/ejecuciones/metricas/resultados_0042_mul_s-MI-RF.csv\n",
      "20231028T010329 : amilcar22 : INFO : Fin guardar resultados\n"
     ]
    }
   ],
   "source": [
    "fichero_resultados=R_FICHERO+\"_\"+M_TIPO+\"-\"+M_SELECT+\"-\"+M_CLASIF+\".csv\"\n",
    "myfunc.save_resultados_to_csv(M_TIPO, M_SELECT, M_CLASIF,  random_search, myfunc.MET_DIR, fichero_resultados)\n"
   ]
  }
 ],
 "metadata": {
  "kernelspec": {
   "display_name": "Python 3 (ipykernel)",
   "language": "python",
   "name": "python3"
  },
  "language_info": {
   "codemirror_mode": {
    "name": "ipython",
    "version": 3
   },
   "file_extension": ".py",
   "mimetype": "text/x-python",
   "name": "python",
   "nbconvert_exporter": "python",
   "pygments_lexer": "ipython3",
   "version": "3.10.12"
  },
  "papermill": {
   "default_parameters": {},
   "duration": 216.739515,
   "end_time": "2023-10-27T23:03:32.112296",
   "environment_variables": {},
   "exception": null,
   "input_path": "03_entrenamiento.ipynb",
   "output_path": "ejecuciones/training/03_entrenamiento.20231028T005954.param_0000_0042_mul_s_MI_RF.output.ipynb",
   "parameters": {
    "MAX_ITERS": 500,
    "M_CLASIF": "RF",
    "M_FICHERO": "metricas_0042",
    "M_SELECT": "MI",
    "M_TIPO": "mul_s",
    "PRE_DATA_FILE": "rows_transpose_norm_by_gene_id_with_target_num_",
    "P_FICHERO": "param_0000_0042_mul_s_MI_RF.yaml",
    "R_FICHERO": "resultados_0042",
    "SCORING": "roc_auc_ovr",
    "SEMILLA": 42,
    "eval_clasifier": "RandomForestClassifier(random_state=SEMILLA)",
    "eval_selector": "SelectKBest(score_func=mutual_info_classif_state)",
    "param_distributions": {
     "clasifier__bootstrap": [
      true
     ],
     "clasifier__max_depth": [
      30
     ],
     "clasifier__max_features": [
      500
     ],
     "clasifier__min_samples_leaf": [
      5
     ],
     "clasifier__min_samples_split": [
      10
     ],
     "clasifier__n_estimators": [
      400
     ],
     "selector__k": [
      500
     ]
    }
   },
   "start_time": "2023-10-27T22:59:55.372781",
   "version": "2.4.0"
  }
 },
 "nbformat": 4,
 "nbformat_minor": 5
}