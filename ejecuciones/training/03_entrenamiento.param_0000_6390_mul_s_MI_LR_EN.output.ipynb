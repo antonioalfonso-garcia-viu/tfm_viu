{
 "cells": [
  {
   "cell_type": "markdown",
   "id": "9c7a21e0",
   "metadata": {
    "papermill": {
     "duration": 0.004382,
     "end_time": "2023-10-30T17:31:58.322841",
     "exception": false,
     "start_time": "2023-10-30T17:31:58.318459",
     "status": "completed"
    },
    "tags": []
   },
   "source": [
    "##### Inicio"
   ]
  },
  {
   "cell_type": "markdown",
   "id": "0c0dba9b",
   "metadata": {
    "papermill": {
     "duration": 0.003543,
     "end_time": "2023-10-30T17:31:58.330211",
     "exception": false,
     "start_time": "2023-10-30T17:31:58.326668",
     "status": "completed"
    },
    "tags": []
   },
   "source": [
    "#### Carga de datos"
   ]
  },
  {
   "cell_type": "code",
   "execution_count": 1,
   "id": "00953174",
   "metadata": {
    "execution": {
     "iopub.execute_input": "2023-10-30T17:31:58.338713Z",
     "iopub.status.busy": "2023-10-30T17:31:58.338478Z",
     "iopub.status.idle": "2023-10-30T17:31:59.196992Z",
     "shell.execute_reply": "2023-10-30T17:31:59.196426Z"
    },
    "papermill": {
     "duration": 0.864494,
     "end_time": "2023-10-30T17:31:59.198344",
     "exception": false,
     "start_time": "2023-10-30T17:31:58.333850",
     "status": "completed"
    },
    "tags": []
   },
   "outputs": [
    {
     "name": "stdout",
     "output_type": "stream",
     "text": [
      "CPU_COUNT: 8; NODE: amilcar22; sys.version: 3.10.12 (main, Jul  5 2023, 19:22:19) [GCC 11.2.0]\n",
      "LOKY_MAX_CPU_COUNT: 6\n",
      "OMP_NUM_THREADS: 2\n"
     ]
    }
   ],
   "source": [
    "import os\n",
    "import numpy as np\n",
    "import pandas as pd\n",
    "import datetime\n",
    "import sklearn\n",
    "import logging\n",
    "import warnings\n",
    "\n",
    "from sklearn.pipeline import Pipeline\n",
    "from sklearn.model_selection import RandomizedSearchCV, KFold, cross_val_score, train_test_split\n",
    "from sklearn.metrics import accuracy_score, confusion_matrix, classification_report, roc_auc_score\n",
    "\n",
    "#  cargar algoritmos para aprendizaje supervisado\n",
    "from sklearn.feature_selection import SelectKBest, f_classif, SelectFromModel, mutual_info_classif\n",
    "from sklearn.svm import SVC\n",
    "from sklearn.ensemble import RandomForestClassifier\n",
    "from sklearn.linear_model import LogisticRegression,LogisticRegressionCV\n",
    "\n",
    "# importar fichero con utilidades propias\n",
    "from commons import myfunctions as myfunc\n"
   ]
  },
  {
   "cell_type": "markdown",
   "id": "b983f623",
   "metadata": {
    "papermill": {
     "duration": 0.002705,
     "end_time": "2023-10-30T17:31:59.204154",
     "exception": false,
     "start_time": "2023-10-30T17:31:59.201449",
     "status": "completed"
    },
    "tags": []
   },
   "source": [
    "#### Parámetros a utilizar en el entrenamiento.\n",
    "\n",
    "Se indican los 3 algoritmos de *selección de características* (eval_selector_xxx) y los 3 algoritmos para la _clasificación_ (eval_clasifier_xxx)\n",
    "\n",
    "En *param_distributions* se indicar los parámetros que utilizan los algoritmos en la función RandomSearchCV.\n",
    "\n",
    "Esta celda tiene la etiqueta **parameters** que servirá para poder lanzar los entrenamientos con la utilidad **papermill** pasándole un fichero con los parámetros. Los nuevos parámetros se situarán tras esta celda para tener prevalencia."
   ]
  },
  {
   "cell_type": "code",
   "execution_count": 2,
   "id": "435c006a",
   "metadata": {
    "execution": {
     "iopub.execute_input": "2023-10-30T17:31:59.210271Z",
     "iopub.status.busy": "2023-10-30T17:31:59.209983Z",
     "iopub.status.idle": "2023-10-30T17:31:59.216921Z",
     "shell.execute_reply": "2023-10-30T17:31:59.216478Z"
    },
    "papermill": {
     "duration": 0.011442,
     "end_time": "2023-10-30T17:31:59.218159",
     "exception": false,
     "start_time": "2023-10-30T17:31:59.206717",
     "status": "completed"
    },
    "tags": [
     "parameters"
    ]
   },
   "outputs": [
    {
     "name": "stdout",
     "output_type": "stream",
     "text": [
      "20231030T183159 : amilcar22 : INFO : Utilizando parámetros de mul_m\n"
     ]
    }
   ],
   "source": [
    "#  Parametros para el entrenamiento\n",
    "\n",
    "SEMILLA=        42\n",
    "M_TIPO=         \"mul_m\"\n",
    "M_SELECT=       \"MI\"\n",
    "M_CLASIF=       \"SVM\"\n",
    "R_FICHERO=      \"resultados\"\n",
    "M_FICHERO=      \"metricas\"\n",
    "PRE_DATA_FILE=  \"rows_transpose_norm_by_gene_id_with_target_num_\"\n",
    "SCORING=        \"roc_auc_ovr\" \n",
    "MAX_ITERS=      100\n",
    "\n",
    "def mutual_info_classif_state(X, y):\n",
    "    return mutual_info_classif(X, y, random_state=SEMILLA)\n",
    "\n",
    "eval_selector_mi = \"SelectKBest(score_func=mutual_info_classif_state)\"\n",
    "eval_selector_rf=  \"SelectFromModel(estimator=RandomForestClassifier(random_state=SEMILLA), threshold=-np.inf)\"\n",
    "eval_selector_anova=  \"SelectKBest(score_func=f_classif)\"\n",
    "\n",
    "eval_clasifier_svm= \"SVC(probability=True, random_state=SEMILLA)\"\n",
    "eval_clasifier_rf= \"RandomForestClassifier(random_state=SEMILLA)\"\n",
    "eval_clasifier_lr= \"LogisticRegressionCV(random_state=SEMILLA)\"\n",
    "\n",
    "if M_TIPO.startswith(\"bin_m\"):\n",
    "    myfunc.verbose(f\"Utilizando parámetros de {M_TIPO}\")\n",
    "    eval_selector = eval_selector_mi\n",
    "    eval_clasifier = eval_clasifier_svm\n",
    "\n",
    "    SEMILLA = 6578\n",
    "    M_SELECT = \"MI\"\n",
    "    M_CLASIF = \"SVM\"\n",
    "    param_distributions = {'selector__k': [1000], \n",
    "         'clasifier__kernel': ['rbf'], 'clasifier__gamma': [0.01], 'clasifier__C': [100]}\n",
    "elif M_TIPO.startswith(\"bin_s\"):\n",
    "    myfunc.verbose(f\"Utilizando parámetros de {M_TIPO}\")\n",
    "    eval_selector = eval_selector_rf\n",
    "    eval_clasifier = eval_clasifier_lr\n",
    "\n",
    "    SEMILLA = 6191\n",
    "    M_SELECT = \"RF\"\n",
    "    M_CLASIF = \"LR_L2\"\n",
    "    param_distributions = {'selector__max_features': [1000], 'selector__estimator__n_estimators': [200], \n",
    "        'clasifier__solver': ['lbfgs'], 'clasifier__penalty': ['l2'], 'clasifier__max_iter': [10000]}\n",
    "\n",
    "elif M_TIPO.startswith(\"mul_m\"):\n",
    "    myfunc.verbose(f\"Utilizando parámetros de {M_TIPO}\")\n",
    " \n",
    "    eval_selector = eval_selector_rf\n",
    "    eval_clasifier = eval_clasifier_lr\n",
    "\n",
    "    SEMILLA = 6191\n",
    "    M_SELECT = \"RF\"\n",
    "    M_CLASIF = \"LR_L2\"\n",
    "    param_distributions = {'selector__max_features': [1000], 'selector__estimator__n_estimators': [400], \n",
    "        'clasifier__solver': ['lbfgs'], 'clasifier__penalty': ['l2'], 'clasifier__max_iter': [10000]}\n",
    "\n",
    "else:\n",
    "    # M_TIPO.startswith(\"mul_s\"):\n",
    "    myfunc.verbose(f\"Utilizando parámetros de {M_TIPO}\")\n",
    "    eval_selector = eval_selector_anova\n",
    "    eval_clasifier = eval_clasifier_lr\n",
    "\n",
    "    SEMILLA = 1860\n",
    "    M_SELECT = \"ANOVA\"\n",
    "    M_CLASIF = \"LR_L2\"\n",
    "    param_distributions = {'selector__k': [1000], \n",
    "        'clasifier__solver': ['saga'], 'clasifier__penalty': ['l2'], 'clasifier__max_iter': [10000]}\n",
    "\n"
   ]
  },
  {
   "cell_type": "code",
   "execution_count": 3,
   "id": "66bbc333",
   "metadata": {
    "execution": {
     "iopub.execute_input": "2023-10-30T17:31:59.224469Z",
     "iopub.status.busy": "2023-10-30T17:31:59.224249Z",
     "iopub.status.idle": "2023-10-30T17:31:59.227597Z",
     "shell.execute_reply": "2023-10-30T17:31:59.227194Z"
    },
    "papermill": {
     "duration": 0.007729,
     "end_time": "2023-10-30T17:31:59.228761",
     "exception": false,
     "start_time": "2023-10-30T17:31:59.221032",
     "status": "completed"
    },
    "tags": [
     "injected-parameters"
    ]
   },
   "outputs": [],
   "source": [
    "# Parameters\n",
    "M_TIPO = \"mul_s\"\n",
    "M_SELECT = \"MI\"\n",
    "M_CLASIF = \"LR_EN\"\n",
    "P_FICHERO = \"param_0000_6390_mul_s_MI_LR_EN.yaml\"\n",
    "R_FICHERO = \"resultados_6390\"\n",
    "M_FICHERO = \"metricas_6390\"\n",
    "PRE_DATA_FILE = \"rows_transpose_norm_by_gene_id_with_target_num_\"\n",
    "SCORING = \"roc_auc_ovr\"\n",
    "SEMILLA = 6390\n",
    "MAX_ITERS = 500\n",
    "eval_selector = \"SelectKBest(score_func=mutual_info_classif_state)\"\n",
    "eval_clasifier = \"LogisticRegressionCV(random_state=SEMILLA)\"\n",
    "param_distributions = {\n",
    "    \"selector__k\": [1000],\n",
    "    \"clasifier__solver\": [\"saga\"],\n",
    "    \"clasifier__penalty\": [\"elasticnet\"],\n",
    "    \"clasifier__max_iter\": [10000],\n",
    "    \"clasifier__l1_ratios\": [[0.75]],\n",
    "}\n"
   ]
  },
  {
   "cell_type": "code",
   "execution_count": 4,
   "id": "62b80300",
   "metadata": {
    "execution": {
     "iopub.execute_input": "2023-10-30T17:31:59.234913Z",
     "iopub.status.busy": "2023-10-30T17:31:59.234761Z",
     "iopub.status.idle": "2023-10-30T17:31:59.237638Z",
     "shell.execute_reply": "2023-10-30T17:31:59.237168Z"
    },
    "papermill": {
     "duration": 0.007349,
     "end_time": "2023-10-30T17:31:59.238860",
     "exception": false,
     "start_time": "2023-10-30T17:31:59.231511",
     "status": "completed"
    },
    "tags": []
   },
   "outputs": [],
   "source": [
    "DATA_FILE = PRE_DATA_FILE + M_TIPO\n",
    "\n",
    "# si viene \"None\" en el parámetro max_depth, se le quitan las comillas para que no sea entendido por el algoritmo como un texto\n",
    "if \"clasifier__max_depth\" in param_distributions:\n",
    "    param_distributions['clasifier__max_depth'] = [None if x == 'None' else x for x in param_distributions['clasifier__max_depth']]"
   ]
  },
  {
   "cell_type": "markdown",
   "id": "d25ecc04",
   "metadata": {
    "papermill": {
     "duration": 0.002867,
     "end_time": "2023-10-30T17:31:59.244623",
     "exception": false,
     "start_time": "2023-10-30T17:31:59.241756",
     "status": "completed"
    },
    "tags": []
   },
   "source": [
    "Asignar los algoritmos que se utilizarán en la función RandomSearchCV"
   ]
  },
  {
   "cell_type": "code",
   "execution_count": 5,
   "id": "13983de1",
   "metadata": {
    "execution": {
     "iopub.execute_input": "2023-10-30T17:31:59.251292Z",
     "iopub.status.busy": "2023-10-30T17:31:59.251006Z",
     "iopub.status.idle": "2023-10-30T17:31:59.253680Z",
     "shell.execute_reply": "2023-10-30T17:31:59.253053Z"
    },
    "papermill": {
     "duration": 0.007618,
     "end_time": "2023-10-30T17:31:59.255191",
     "exception": false,
     "start_time": "2023-10-30T17:31:59.247573",
     "status": "completed"
    },
    "tags": []
   },
   "outputs": [],
   "source": [
    "algor_selector=eval(eval_selector)\n",
    "algor_clasifier=eval(eval_clasifier)"
   ]
  },
  {
   "cell_type": "markdown",
   "id": "148ad179",
   "metadata": {
    "papermill": {
     "duration": 0.00363,
     "end_time": "2023-10-30T17:31:59.262524",
     "exception": false,
     "start_time": "2023-10-30T17:31:59.258894",
     "status": "completed"
    },
    "tags": []
   },
   "source": [
    "#### Comprobar el entorno y leer fichero de muestras"
   ]
  },
  {
   "cell_type": "code",
   "execution_count": 6,
   "id": "e760cbcb",
   "metadata": {
    "execution": {
     "iopub.execute_input": "2023-10-30T17:31:59.270213Z",
     "iopub.status.busy": "2023-10-30T17:31:59.270032Z",
     "iopub.status.idle": "2023-10-30T17:31:59.394833Z",
     "shell.execute_reply": "2023-10-30T17:31:59.394240Z"
    },
    "papermill": {
     "duration": 0.13017,
     "end_time": "2023-10-30T17:31:59.396146",
     "exception": false,
     "start_time": "2023-10-30T17:31:59.265976",
     "status": "completed"
    },
    "tags": []
   },
   "outputs": [
    {
     "name": "stdout",
     "output_type": "stream",
     "text": [
      "20231030T183159 : amilcar22 : INFO : Encontrada carpeta DATA_DIR=../tfm_git/datos\n",
      "20231030T183159 : amilcar22 : INFO : Encontrada carpeta CFDNA_DIR=../tfm_git/datos/cfDNA_5hmC\n",
      "20231030T183159 : amilcar22 : INFO : Encontrada carpeta GENCODE_DIR=../tfm_git/datos/gencode\n",
      "20231030T183159 : amilcar22 : INFO : Encontrada carpeta H5_DIR=../tfm_git/datos/h5\n",
      "20231030T183159 : amilcar22 : INFO : Encontrada carpeta LOG_DIR=../tfm_git/datos/logs\n",
      "20231030T183159 : amilcar22 : INFO : Encontrada carpeta CSV_DIR=../tfm_git/datos/csv\n",
      "20231030T183159 : amilcar22 : INFO : Encontrada carpeta MODEL_DIR=../tfm_git/ejecuciones/modelos\n",
      "20231030T183159 : amilcar22 : INFO : Encontrada carpeta EXEC_DIR=../tfm_git/ejecuciones\n",
      "20231030T183159 : amilcar22 : INFO : Encontrada carpeta MET_DIR=../tfm_git/ejecuciones/metricas\n",
      "20231030T183159 : amilcar22 : INFO : Inicio leer fichero h5 ../tfm_git/datos/h5/rows_transpose_norm_by_gene_id_with_target_num_mul_s.h5\n",
      "20231030T183159 : amilcar22 : INFO : Leyendo clave /df\n",
      "20231030T183159 : amilcar22 : INFO : Tamaño (259, 18876)\n",
      "20231030T183159 : amilcar22 : INFO : Fin leer fichero h5 ../tfm_git/datos/h5/rows_transpose_norm_by_gene_id_with_target_num_mul_s.h5\n"
     ]
    },
    {
     "data": {
      "text/plain": [
       "target\n",
       "0    37\n",
       "1    37\n",
       "2    37\n",
       "3    37\n",
       "4    37\n",
       "5    37\n",
       "6    37\n",
       "dtype: int64"
      ]
     },
     "metadata": {},
     "output_type": "display_data"
    },
    {
     "name": "stdout",
     "output_type": "stream",
     "text": [
      "Shape df: (259, 18876)\n",
      "Shape X_train: (207, 18875)\n",
      "Shape X_test: (52, 18875)\n"
     ]
    }
   ],
   "source": [
    "start_time = datetime.datetime.now()\n",
    "\n",
    "myfunc.reset_vars()\n",
    "\n",
    "myfunc.NOTEBK_FILENAME = myfunc.get_nb_name()\n",
    "\n",
    "myfunc.check_enviroment(myfunc.DATA_DIR, myfunc.CFDNA_DIR, myfunc.GENCODE_DIR, myfunc.H5_DIR, myfunc.LOG_DIR, myfunc.CSV_DIR, myfunc.MODEL_DIR, myfunc.EXEC_DIR, myfunc.MET_DIR)\n",
    "\n",
    "# Leer fichero con las muestras\n",
    "df_t = myfunc.read_h5_to_df(DATA_FILE, myfunc.H5_DIR)\n",
    "display(df_t.groupby(\"target\").size())\n",
    "print(\"Shape df:\",df_t.shape)\n",
    "\n",
    "# Separar caracteristicas/genes de las etiquetas/tipos de cáncer\n",
    "X = df_t.iloc[:, :-1]  # Todas las columnas excepto la última\n",
    "y = df_t.iloc[:, -1]  # La última columna contiene los identificadores de los tipos de cáncer\n",
    "\n",
    "#  Crear el conjunto de datos de entrenamiento y de pruebas, y se fija la semilla para siempre coger el mismo juego de muestras\n",
    "X_train, X_test, y_train, y_test = train_test_split(X, y, test_size=0.2, shuffle=True, random_state=42)\n",
    "print(\"Shape X_train:\",X_train.shape)\n",
    "print(\"Shape X_test:\",X_test.shape)\n"
   ]
  },
  {
   "cell_type": "markdown",
   "id": "21a269b0",
   "metadata": {
    "papermill": {
     "duration": 0.002844,
     "end_time": "2023-10-30T17:31:59.402323",
     "exception": false,
     "start_time": "2023-10-30T17:31:59.399479",
     "status": "completed"
    },
    "tags": []
   },
   "source": [
    "#### Selección de características y clasificación."
   ]
  },
  {
   "cell_type": "code",
   "execution_count": 7,
   "id": "5dcdcff2",
   "metadata": {
    "execution": {
     "iopub.execute_input": "2023-10-30T17:31:59.408811Z",
     "iopub.status.busy": "2023-10-30T17:31:59.408635Z",
     "iopub.status.idle": "2023-10-30T17:55:00.941330Z",
     "shell.execute_reply": "2023-10-30T17:55:00.940689Z"
    },
    "papermill": {
     "duration": 1381.540005,
     "end_time": "2023-10-30T17:55:00.945170",
     "exception": false,
     "start_time": "2023-10-30T17:31:59.405165",
     "status": "completed"
    },
    "tags": []
   },
   "outputs": [
    {
     "name": "stdout",
     "output_type": "stream",
     "text": [
      "20231030T183159 : amilcar22 : INFO : Iniciando entrenamiento\n",
      "num_iter: 1 , max_iter: 1\n"
     ]
    },
    {
     "name": "stdout",
     "output_type": "stream",
     "text": [
      "Fitting 5 folds for each of 1 candidates, totalling 5 fits\n"
     ]
    },
    {
     "name": "stdout",
     "output_type": "stream",
     "text": [
      "[CV 2/5] END clasifier__l1_ratios=[0.75], clasifier__max_iter=10000, clasifier__penalty=elasticnet, clasifier__solver=saga, selector__k=1000;, score=0.697 total time= 9.1min\n"
     ]
    },
    {
     "name": "stdout",
     "output_type": "stream",
     "text": [
      "[CV 1/5] END clasifier__l1_ratios=[0.75], clasifier__max_iter=10000, clasifier__penalty=elasticnet, clasifier__solver=saga, selector__k=1000;, score=0.813 total time= 9.3min\n"
     ]
    },
    {
     "name": "stdout",
     "output_type": "stream",
     "text": [
      "[CV 4/5] END clasifier__l1_ratios=[0.75], clasifier__max_iter=10000, clasifier__penalty=elasticnet, clasifier__solver=saga, selector__k=1000;, score=0.779 total time=11.4min\n"
     ]
    },
    {
     "name": "stdout",
     "output_type": "stream",
     "text": [
      "[CV 3/5] END clasifier__l1_ratios=[0.75], clasifier__max_iter=10000, clasifier__penalty=elasticnet, clasifier__solver=saga, selector__k=1000;, score=0.741 total time=11.4min\n"
     ]
    },
    {
     "name": "stdout",
     "output_type": "stream",
     "text": [
      "[CV 5/5] END clasifier__l1_ratios=[0.75], clasifier__max_iter=10000, clasifier__penalty=elasticnet, clasifier__solver=saga, selector__k=1000;, score=0.798 total time=12.0min\n"
     ]
    },
    {
     "name": "stdout",
     "output_type": "stream",
     "text": [
      "Mejores Hiperparámetros: {'selector__k': 1000, 'clasifier__solver': 'saga', 'clasifier__penalty': 'elasticnet', 'clasifier__max_iter': 10000, 'clasifier__l1_ratios': [0.75]}\n",
      "Mejor Puntuación: 0.7658\n",
      "20231030T185500 : amilcar22 : INFO : Fin entrenamiento\n"
     ]
    }
   ],
   "source": [
    "myfunc.verbose(\"Iniciando entrenamiento\")\n",
    "\n",
    "kf = KFold(n_splits=5, shuffle=True, random_state=SEMILLA)\n",
    "\n",
    "# Crear el pipeline para el flujo de tareas\n",
    "tasks_pipeline = Pipeline([\n",
    "    ('selector', algor_selector),\n",
    "    ('clasifier', algor_clasifier)\n",
    "])\n",
    "\n",
    "# MAX_ITERS puede limitar el número de iteraciones si son excesivas para las combinaciones de parámetros buscando un óptimo local, \n",
    "# sino funcionaría como GridSearchCV al revisar todas las cominaciones de los parámetros\n",
    "num_iteraciones = 1\n",
    "num_iteraciones = num_iteraciones * np.prod([len(elemento1) for _, elemento1 in param_distributions.items()])\n",
    "max_iteraciones = num_iteraciones if num_iteraciones <= MAX_ITERS else MAX_ITERS\n",
    "print(\"num_iter:\",num_iteraciones,\", max_iter:\",max_iteraciones)\n",
    "\n",
    "random_search = RandomizedSearchCV(\n",
    "    tasks_pipeline, \n",
    "    param_distributions, \n",
    "    n_iter=max_iteraciones,\n",
    "    scoring=SCORING,\n",
    "    cv=kf,\n",
    "    verbose=3, \n",
    "    random_state=SEMILLA, \n",
    "    n_jobs=-1\n",
    "    )\n",
    "\n",
    "# Entrenar el modelo\n",
    "random_search.fit(X_train, y_train)\n",
    "\n",
    "# Ver los mejores hiperparámetros encontrados\n",
    "print(f'Mejores Hiperparámetros: {random_search.best_params_}')\n",
    "print(f'Mejor Puntuación: {random_search.best_score_:.4f}')\n",
    "\n",
    "# Nos quedamos con el mejor modelo para ver las métricas\n",
    "mejor_modelo = random_search.best_estimator_\n",
    "\n",
    "myfunc.verbose(\"Fin entrenamiento\")"
   ]
  },
  {
   "cell_type": "markdown",
   "id": "e9b4d6a7",
   "metadata": {
    "papermill": {
     "duration": 0.003113,
     "end_time": "2023-10-30T17:55:00.951432",
     "exception": false,
     "start_time": "2023-10-30T17:55:00.948319",
     "status": "completed"
    },
    "tags": []
   },
   "source": [
    "#### Guardar modelo"
   ]
  },
  {
   "cell_type": "code",
   "execution_count": 8,
   "id": "2c5612f4",
   "metadata": {
    "execution": {
     "iopub.execute_input": "2023-10-30T17:55:00.958406Z",
     "iopub.status.busy": "2023-10-30T17:55:00.958226Z",
     "iopub.status.idle": "2023-10-30T17:55:00.967523Z",
     "shell.execute_reply": "2023-10-30T17:55:00.966959Z"
    },
    "papermill": {
     "duration": 0.014301,
     "end_time": "2023-10-30T17:55:00.968797",
     "exception": false,
     "start_time": "2023-10-30T17:55:00.954496",
     "status": "completed"
    },
    "tags": []
   },
   "outputs": [
    {
     "name": "stdout",
     "output_type": "stream",
     "text": [
      "20231030T185500 : amilcar22 : INFO : Inicio guardar fichero ../tfm_git/ejecuciones/modelos/modelo_6390_mul_s_MI_LR_EN.pkl\n",
      "20231030T185500 : amilcar22 : INFO : Fin guardar fichero ../tfm_git/ejecuciones/modelos/modelo_6390_mul_s_MI_LR_EN.pkl\n"
     ]
    }
   ],
   "source": [
    "fichero_modelo = str.replace(\"modelo_\"+str(SEMILLA).zfill(4)+\"_\"+M_TIPO+\"_\"+M_SELECT+\"_\"+M_CLASIF+\".pkl\", \" \", \"_\")\n",
    "\n",
    "myfunc.save_modelo(mejor_modelo, myfunc.MODEL_DIR, fichero_modelo)"
   ]
  },
  {
   "cell_type": "markdown",
   "id": "57433b44",
   "metadata": {
    "papermill": {
     "duration": 0.003239,
     "end_time": "2023-10-30T17:55:00.976005",
     "exception": false,
     "start_time": "2023-10-30T17:55:00.972766",
     "status": "completed"
    },
    "tags": []
   },
   "source": [
    "#### Ver resultados del las iteraciones hechas por RandomSearchCV"
   ]
  },
  {
   "cell_type": "code",
   "execution_count": 9,
   "id": "47426e5b",
   "metadata": {
    "execution": {
     "iopub.execute_input": "2023-10-30T17:55:00.983879Z",
     "iopub.status.busy": "2023-10-30T17:55:00.983288Z",
     "iopub.status.idle": "2023-10-30T17:55:00.988690Z",
     "shell.execute_reply": "2023-10-30T17:55:00.988208Z"
    },
    "papermill": {
     "duration": 0.010508,
     "end_time": "2023-10-30T17:55:00.989916",
     "exception": false,
     "start_time": "2023-10-30T17:55:00.979408",
     "status": "completed"
    },
    "tags": []
   },
   "outputs": [
    {
     "name": "stdout",
     "output_type": "stream",
     "text": [
      "20231030T185500 : amilcar22 : INFO : Inicio ver resultados\n",
      "Mejores Hiperparámetros: {'selector__k': 1000, 'clasifier__solver': 'saga', 'clasifier__penalty': 'elasticnet', 'clasifier__max_iter': 10000, 'clasifier__l1_ratios': [0.75]}\n",
      "Mejores puntuaciones: 0.7658 | Params: {'selector__k': 1000, 'clasifier__solver': 'saga', 'clasifier__penalty': 'elasticnet', 'clasifier__max_iter': 10000, 'clasifier__l1_ratios': [0.75]}\n",
      "Media de las puntuaciones: 0.7658 | Params: {'selector__k': 1000, 'clasifier__solver': 'saga', 'clasifier__penalty': 'elasticnet', 'clasifier__max_iter': 10000, 'clasifier__l1_ratios': [0.75]}\n",
      "20231030T185500 : amilcar22 : INFO : Fin resultados\n"
     ]
    }
   ],
   "source": [
    "myfunc.ver_resultados_search(random_search)"
   ]
  },
  {
   "cell_type": "markdown",
   "id": "3ac1ed22",
   "metadata": {
    "papermill": {
     "duration": 0.003434,
     "end_time": "2023-10-30T17:55:00.996869",
     "exception": false,
     "start_time": "2023-10-30T17:55:00.993435",
     "status": "completed"
    },
    "tags": []
   },
   "source": [
    "#### Ver métricas del mejor modelo"
   ]
  },
  {
   "cell_type": "code",
   "execution_count": 10,
   "id": "a374f531",
   "metadata": {
    "execution": {
     "iopub.execute_input": "2023-10-30T17:55:01.004514Z",
     "iopub.status.busy": "2023-10-30T17:55:01.004337Z",
     "iopub.status.idle": "2023-10-30T17:55:01.601497Z",
     "shell.execute_reply": "2023-10-30T17:55:01.601023Z"
    },
    "papermill": {
     "duration": 0.602425,
     "end_time": "2023-10-30T17:55:01.602780",
     "exception": false,
     "start_time": "2023-10-30T17:55:01.000355",
     "status": "completed"
    },
    "tags": []
   },
   "outputs": [
    {
     "name": "stdout",
     "output_type": "stream",
     "text": [
      "20231030T185501 : amilcar22 : INFO : Inicio ver métricas multiclase\n",
      "              precision    recall  f1-score   support\n",
      "\n",
      "           0       0.57      0.36      0.44        11\n",
      "           1       1.00      0.38      0.55         8\n",
      "           2       0.40      0.25      0.31         8\n",
      "           3       0.22      0.40      0.29         5\n",
      "           4       0.67      1.00      0.80         8\n",
      "           5       0.60      0.50      0.55         6\n",
      "           6       0.36      0.67      0.47         6\n",
      "\n",
      "    accuracy                           0.50        52\n",
      "   macro avg       0.55      0.51      0.49        52\n",
      "weighted avg       0.57      0.50      0.49        52\n",
      "\n"
     ]
    },
    {
     "name": "stdout",
     "output_type": "stream",
     "text": [
      "\n",
      "\n",
      "           Exactitud: 0.500000\n",
      "   Precisión (media): 0.546279\n",
      "      Recall (media): 0.507900\n",
      "    F1-score (media): 0.485621\n",
      "\n",
      "\n",
      "AUC para el tipo de cáncer 0-Control.... 0.6452\n",
      "AUC para el tipo de cáncer 1-Bladder.... 0.9290\n",
      "AUC para el tipo de cáncer 2-Breast..... 0.7614\n",
      "AUC para el tipo de cáncer 3-Colorectal. 0.7872\n",
      "AUC para el tipo de cáncer 4-Kidney..... 0.9347\n",
      "AUC para el tipo de cáncer 5-Lung....... 0.9094\n",
      "AUC para el tipo de cáncer 6-Prostate... 0.8913\n",
      "\n",
      "Media de AUC: 0.8369\n"
     ]
    },
    {
     "data": {
      "image/png": "[encoded data removed]",
      "text/plain": [
       "<Figure size 1000x600 with 1 Axes>"
      ]
     },
     "metadata": {},
     "output_type": "display_data"
    },
    {
     "name": "stdout",
     "output_type": "stream",
     "text": [
      "\n",
      "\n"
     ]
    },
    {
     "data": {
      "image/png": "[encoded data removed]",
      "text/plain": [
       "<Figure size 800x400 with 2 Axes>"
      ]
     },
     "metadata": {},
     "output_type": "display_data"
    },
    {
     "name": "stdout",
     "output_type": "stream",
     "text": [
      "\n",
      "\n",
      "Puntuación Jaccard para el cáncer tipo 0-Control.... 0.2857\n",
      "Puntuación Jaccard para el cáncer tipo 1-Bladder.... 0.3750\n",
      "Puntuación Jaccard para el cáncer tipo 2-Breast..... 0.1818\n",
      "Puntuación Jaccard para el cáncer tipo 3-Colorectal. 0.1667\n",
      "Puntuación Jaccard para el cáncer tipo 4-Kidney..... 0.6667\n",
      "Puntuación Jaccard para el cáncer tipo 5-Lung....... 0.3750\n",
      "Puntuación Jaccard para el cáncer tipo 6-Prostate... 0.3077\n",
      "\n",
      "Media de la puntuación de Jaccard: 0.3369\n"
     ]
    }
   ],
   "source": [
    "if M_TIPO.startswith(\"bin\"):\n",
    "    myfunc.ver_metricas(mejor_modelo, X_test, y_test)\n",
    "else:\n",
    "    myfunc.ver_metricas_multi(mejor_modelo, X_test, y_test)\n"
   ]
  },
  {
   "cell_type": "markdown",
   "id": "fd8a1fc2",
   "metadata": {
    "papermill": {
     "duration": 0.004435,
     "end_time": "2023-10-30T17:55:01.612249",
     "exception": false,
     "start_time": "2023-10-30T17:55:01.607814",
     "status": "completed"
    },
    "tags": []
   },
   "source": [
    "#### Finalización del notebook"
   ]
  },
  {
   "cell_type": "code",
   "execution_count": 11,
   "id": "bd99d3d7",
   "metadata": {
    "execution": {
     "iopub.execute_input": "2023-10-30T17:55:01.621566Z",
     "iopub.status.busy": "2023-10-30T17:55:01.621367Z",
     "iopub.status.idle": "2023-10-30T17:55:01.624705Z",
     "shell.execute_reply": "2023-10-30T17:55:01.624264Z"
    },
    "papermill": {
     "duration": 0.009436,
     "end_time": "2023-10-30T17:55:01.625917",
     "exception": false,
     "start_time": "2023-10-30T17:55:01.616481",
     "status": "completed"
    },
    "tags": []
   },
   "outputs": [
    {
     "name": "stdout",
     "output_type": "stream",
     "text": [
      "20231030T185501 : amilcar22 : INFO : Notebook ha tardado 1382 seconds\n"
     ]
    }
   ],
   "source": [
    "end_time = datetime.datetime.now()\n",
    "total_time = end_time - start_time\n",
    "myfunc.verbose(f\"Notebook ha tardado {total_time.seconds} seconds\")"
   ]
  },
  {
   "cell_type": "markdown",
   "id": "2ac0058d",
   "metadata": {
    "papermill": {
     "duration": 0.004343,
     "end_time": "2023-10-30T17:55:01.634856",
     "exception": false,
     "start_time": "2023-10-30T17:55:01.630513",
     "status": "completed"
    },
    "tags": []
   },
   "source": [
    "#### Guardar métricas"
   ]
  },
  {
   "cell_type": "code",
   "execution_count": 12,
   "id": "192b442a",
   "metadata": {
    "execution": {
     "iopub.execute_input": "2023-10-30T17:55:01.644165Z",
     "iopub.status.busy": "2023-10-30T17:55:01.643977Z",
     "iopub.status.idle": "2023-10-30T17:55:01.830650Z",
     "shell.execute_reply": "2023-10-30T17:55:01.830151Z"
    },
    "papermill": {
     "duration": 0.192694,
     "end_time": "2023-10-30T17:55:01.831791",
     "exception": false,
     "start_time": "2023-10-30T17:55:01.639097",
     "status": "completed"
    },
    "tags": []
   },
   "outputs": [
    {
     "name": "stdout",
     "output_type": "stream",
     "text": [
      "20231030T185501 : amilcar22 : INFO : Inicio guardar métricas multiclase\n",
      "20231030T185501 : amilcar22 : INFO : Inicio leer fichero ../tfm_git/ejecuciones/metricas/metricas_6390.csv\n",
      "20231030T185501 : amilcar22 : INFO : Fin leer fichero ../tfm_git/ejecuciones/metricas/metricas_6390.csv\n",
      "20231030T185501 : amilcar22 : INFO : Inicio guardar fichero ../tfm_git/ejecuciones/metricas/metricas_6390.csv\n"
     ]
    },
    {
     "name": "stdout",
     "output_type": "stream",
     "text": [
      "20231030T185501 : amilcar22 : INFO : Fichero borrado ../tfm_git/ejecuciones/metricas/metricas_6390.csv\n",
      "20231030T185501 : amilcar22 : INFO : Fin guardar fichero ../tfm_git/ejecuciones/metricas/metricas_6390.csv\n",
      "20231030T185501 : amilcar22 : INFO : Fin guardar métricas multiclase\n",
      "20231030T185501 : amilcar22 : INFO : Inicio leer fichero ../tfm_git/ejecuciones/metricas/metricas_6390.csv\n",
      "20231030T185501 : amilcar22 : INFO : Fin leer fichero ../tfm_git/ejecuciones/metricas/metricas_6390.csv\n"
     ]
    },
    {
     "data": {
      "text/html": [
       "<div>\n",
       "<style scoped>\n",
       "    .dataframe tbody tr th:only-of-type {\n",
       "        vertical-align: middle;\n",
       "    }\n",
       "\n",
       "    .dataframe tbody tr th {\n",
       "        vertical-align: top;\n",
       "    }\n",
       "\n",
       "    .dataframe thead th {\n",
       "        text-align: right;\n",
       "    }\n",
       "</style>\n",
       "<table border=\"1\" class=\"dataframe\">\n",
       "  <thead>\n",
       "    <tr style=\"text-align: right;\">\n",
       "      <th></th>\n",
       "      <th>tipo</th>\n",
       "      <th>select</th>\n",
       "      <th>clasific</th>\n",
       "      <th>semilla</th>\n",
       "      <th>accuracy</th>\n",
       "      <th>precision</th>\n",
       "      <th>recall</th>\n",
       "      <th>f1_score</th>\n",
       "      <th>roc_auc</th>\n",
       "      <th>hostname</th>\n",
       "      <th>total_time_sec</th>\n",
       "      <th>datetime</th>\n",
       "      <th>fichero_modelo</th>\n",
       "      <th>params</th>\n",
       "      <th>shape</th>\n",
       "      <th>features</th>\n",
       "      <th>roc_auc_ovr</th>\n",
       "      <th>indices_auc</th>\n",
       "      <th>indices_jaccard</th>\n",
       "    </tr>\n",
       "  </thead>\n",
       "  <tbody>\n",
       "    <tr>\n",
       "      <th>0</th>\n",
       "      <td>mul_s</td>\n",
       "      <td>MI</td>\n",
       "      <td>LR_EN</td>\n",
       "      <td>6390</td>\n",
       "      <td>0.500000</td>\n",
       "      <td>0.546279</td>\n",
       "      <td>0.507900</td>\n",
       "      <td>0.485621</td>\n",
       "      <td>NaN</td>\n",
       "      <td>amilcar22</td>\n",
       "      <td>1382</td>\n",
       "      <td>2023-10-30 18:55:01.797152</td>\n",
       "      <td>modelo_6390_mul_s_MI_LR_EN.pkl</td>\n",
       "      <td>{'selector__k': 1000, 'clasifier__solver': 'sa...</td>\n",
       "      <td>X_test:(52, 18875)</td>\n",
       "      <td>['ENSG00000003137.9', 'ENSG00000004864.14', 'E...</td>\n",
       "      <td>0.836884</td>\n",
       "      <td>[0.6452328159645233, 0.9289772727272727, 0.761...</td>\n",
       "      <td>[0.2857142857142857, 0.375, 0.1818181818181818...</td>\n",
       "    </tr>\n",
       "    <tr>\n",
       "      <th>0</th>\n",
       "      <td>mul_s</td>\n",
       "      <td>ANOVA</td>\n",
       "      <td>SVM</td>\n",
       "      <td>6390</td>\n",
       "      <td>0.365385</td>\n",
       "      <td>0.363152</td>\n",
       "      <td>0.374892</td>\n",
       "      <td>0.331833</td>\n",
       "      <td>NaN</td>\n",
       "      <td>amilcar22</td>\n",
       "      <td>2</td>\n",
       "      <td>2023-10-30 18:31:53.208116</td>\n",
       "      <td>modelo_6390_mul_s_ANOVA_SVM.pkl</td>\n",
       "      <td>{'selector__k': 200, 'clasifier__kernel': 'rbf...</td>\n",
       "      <td>X_test:(52, 18875)</td>\n",
       "      <td>['ENSG00000000938.13', 'ENSG00000005381.9', 'E...</td>\n",
       "      <td>0.762860</td>\n",
       "      <td>[0.458980044345898, 0.8210227272727272, 0.6619...</td>\n",
       "      <td>[0.08333333333333333, 0.5, 0.0, 0.071428571428...</td>\n",
       "    </tr>\n",
       "    <tr>\n",
       "      <th>0</th>\n",
       "      <td>mul_s</td>\n",
       "      <td>ANOVA</td>\n",
       "      <td>RF</td>\n",
       "      <td>6390</td>\n",
       "      <td>0.288462</td>\n",
       "      <td>0.265193</td>\n",
       "      <td>0.291558</td>\n",
       "      <td>0.266457</td>\n",
       "      <td>NaN</td>\n",
       "      <td>amilcar22</td>\n",
       "      <td>7</td>\n",
       "      <td>2023-10-30 18:31:44.339786</td>\n",
       "      <td>modelo_6390_mul_s_ANOVA_RF.pkl</td>\n",
       "      <td>{'selector__k': 500, 'clasifier__n_estimators'...</td>\n",
       "      <td>X_test:(52, 18875)</td>\n",
       "      <td>['ENSG00000000938.13', 'ENSG00000002919.15', '...</td>\n",
       "      <td>0.707932</td>\n",
       "      <td>[0.37472283813747226, 0.8380681818181818, 0.67...</td>\n",
       "      <td>[0.07142857142857142, 0.25, 0.0, 0.07142857142...</td>\n",
       "    </tr>\n",
       "  </tbody>\n",
       "</table>\n",
       "</div>"
      ],
      "text/plain": [
       "    tipo select clasific  semilla  accuracy  precision    recall  f1_score  \\\n",
       "0  mul_s     MI    LR_EN     6390  0.500000   0.546279  0.507900  0.485621   \n",
       "0  mul_s  ANOVA      SVM     6390  0.365385   0.363152  0.374892  0.331833   \n",
       "0  mul_s  ANOVA       RF     6390  0.288462   0.265193  0.291558  0.266457   \n",
       "\n",
       "   roc_auc   hostname  total_time_sec                    datetime  \\\n",
       "0      NaN  amilcar22            1382  2023-10-30 18:55:01.797152   \n",
       "0      NaN  amilcar22               2  2023-10-30 18:31:53.208116   \n",
       "0      NaN  amilcar22               7  2023-10-30 18:31:44.339786   \n",
       "\n",
       "                    fichero_modelo  \\\n",
       "0   modelo_6390_mul_s_MI_LR_EN.pkl   \n",
       "0  modelo_6390_mul_s_ANOVA_SVM.pkl   \n",
       "0   modelo_6390_mul_s_ANOVA_RF.pkl   \n",
       "\n",
       "                                              params               shape  \\\n",
       "0  {'selector__k': 1000, 'clasifier__solver': 'sa...  X_test:(52, 18875)   \n",
       "0  {'selector__k': 200, 'clasifier__kernel': 'rbf...  X_test:(52, 18875)   \n",
       "0  {'selector__k': 500, 'clasifier__n_estimators'...  X_test:(52, 18875)   \n",
       "\n",
       "                                            features  roc_auc_ovr  \\\n",
       "0  ['ENSG00000003137.9', 'ENSG00000004864.14', 'E...     0.836884   \n",
       "0  ['ENSG00000000938.13', 'ENSG00000005381.9', 'E...     0.762860   \n",
       "0  ['ENSG00000000938.13', 'ENSG00000002919.15', '...     0.707932   \n",
       "\n",
       "                                         indices_auc  \\\n",
       "0  [0.6452328159645233, 0.9289772727272727, 0.761...   \n",
       "0  [0.458980044345898, 0.8210227272727272, 0.6619...   \n",
       "0  [0.37472283813747226, 0.8380681818181818, 0.67...   \n",
       "\n",
       "                                     indices_jaccard  \n",
       "0  [0.2857142857142857, 0.375, 0.1818181818181818...  \n",
       "0  [0.08333333333333333, 0.5, 0.0, 0.071428571428...  \n",
       "0  [0.07142857142857142, 0.25, 0.0, 0.07142857142...  "
      ]
     },
     "metadata": {},
     "output_type": "display_data"
    }
   ],
   "source": [
    "if M_TIPO.startswith(\"bin\"):\n",
    "    myfunc.save_metricas_to_csv(random_search, X_test, y_test, M_TIPO, M_SELECT, M_CLASIF, total_time, SEMILLA, myfunc.MET_DIR, M_FICHERO, fichero_modelo)\n",
    "else:\n",
    "    myfunc.save_metricas_multi_to_csv(random_search, X_test, y_test, M_TIPO, M_SELECT, M_CLASIF, total_time, SEMILLA, myfunc.MET_DIR, M_FICHERO, fichero_modelo)\n",
    "\n",
    "df1=myfunc.read_metricas_to_df(myfunc.MET_DIR,M_FICHERO)\n",
    "\n",
    "display(df1.sort_values(\"datetime\", ascending=False)[:3])\n"
   ]
  },
  {
   "cell_type": "markdown",
   "id": "5026243e",
   "metadata": {
    "papermill": {
     "duration": 0.004762,
     "end_time": "2023-10-30T17:55:01.841848",
     "exception": false,
     "start_time": "2023-10-30T17:55:01.837086",
     "status": "completed"
    },
    "tags": []
   },
   "source": [
    "#### Guardar resultados"
   ]
  },
  {
   "cell_type": "code",
   "execution_count": 13,
   "id": "3be0fd33",
   "metadata": {
    "execution": {
     "iopub.execute_input": "2023-10-30T17:55:01.851800Z",
     "iopub.status.busy": "2023-10-30T17:55:01.851607Z",
     "iopub.status.idle": "2023-10-30T17:55:01.859662Z",
     "shell.execute_reply": "2023-10-30T17:55:01.859190Z"
    },
    "papermill": {
     "duration": 0.014455,
     "end_time": "2023-10-30T17:55:01.860805",
     "exception": false,
     "start_time": "2023-10-30T17:55:01.846350",
     "status": "completed"
    },
    "tags": []
   },
   "outputs": [
    {
     "name": "stdout",
     "output_type": "stream",
     "text": [
      "20231030T185501 : amilcar22 : INFO : Inicio guardar resultados\n",
      "20231030T185501 : amilcar22 : INFO : Inicio guardar fichero ../tfm_git/ejecuciones/metricas/resultados_6390_mul_s-MI-LR_EN.csv\n",
      "20231030T185501 : amilcar22 : INFO : Fin guardar fichero ../tfm_git/ejecuciones/metricas/resultados_6390_mul_s-MI-LR_EN.csv\n",
      "20231030T185501 : amilcar22 : INFO : Fin guardar resultados\n"
     ]
    }
   ],
   "source": [
    "fichero_resultados=R_FICHERO+\"_\"+M_TIPO+\"-\"+M_SELECT+\"-\"+M_CLASIF+\".csv\"\n",
    "myfunc.save_resultados_to_csv(M_TIPO, M_SELECT, M_CLASIF,  random_search, myfunc.MET_DIR, fichero_resultados)\n"
   ]
  }
 ],
 "metadata": {
  "kernelspec": {
   "display_name": "Python 3 (ipykernel)",
   "language": "python",
   "name": "python3"
  },
  "language_info": {
   "codemirror_mode": {
    "name": "ipython",
    "version": 3
   },
   "file_extension": ".py",
   "mimetype": "text/x-python",
   "name": "python",
   "nbconvert_exporter": "python",
   "pygments_lexer": "ipython3",
   "version": "3.10.12"
  },
  "papermill": {
   "default_parameters": {},
   "duration": 1387.080005,
   "end_time": "2023-10-30T17:55:04.485443",
   "environment_variables": {},
   "exception": null,
   "input_path": "03_entrenamiento.ipynb",
   "output_path": "ejecuciones/training/03_entrenamiento.20231030T183157.param_0000_6390_mul_s_MI_LR_EN.output.ipynb",
   "parameters": {
    "MAX_ITERS": 500,
    "M_CLASIF": "LR_EN",
    "M_FICHERO": "metricas_6390",
    "M_SELECT": "MI",
    "M_TIPO": "mul_s",
    "PRE_DATA_FILE": "rows_transpose_norm_by_gene_id_with_target_num_",
    "P_FICHERO": "param_0000_6390_mul_s_MI_LR_EN.yaml",
    "R_FICHERO": "resultados_6390",
    "SCORING": "roc_auc_ovr",
    "SEMILLA": 6390,
    "eval_clasifier": "LogisticRegressionCV(random_state=SEMILLA)",
    "eval_selector": "SelectKBest(score_func=mutual_info_classif_state)",
    "param_distributions": {
     "clasifier__l1_ratios": [
      [
       0.75
      ]
     ],
     "clasifier__max_iter": [
      10000
     ],
     "clasifier__penalty": [
      "elasticnet"
     ],
     "clasifier__solver": [
      "saga"
     ],
     "selector__k": [
      1000
     ]
    }
   },
   "start_time": "2023-10-30T17:31:57.405438",
   "version": "2.4.0"
  }
 },
 "nbformat": 4,
 "nbformat_minor": 5
}