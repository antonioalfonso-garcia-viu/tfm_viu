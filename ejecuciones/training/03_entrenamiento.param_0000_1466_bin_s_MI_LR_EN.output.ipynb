{
 "cells": [
  {
   "cell_type": "markdown",
   "id": "53344e43",
   "metadata": {
    "papermill": {
     "duration": 0.004183,
     "end_time": "2023-10-29T22:20:07.634826",
     "exception": false,
     "start_time": "2023-10-29T22:20:07.630643",
     "status": "completed"
    },
    "tags": []
   },
   "source": [
    "##### Inicio"
   ]
  },
  {
   "cell_type": "markdown",
   "id": "464d2248",
   "metadata": {
    "papermill": {
     "duration": 0.003357,
     "end_time": "2023-10-29T22:20:07.641862",
     "exception": false,
     "start_time": "2023-10-29T22:20:07.638505",
     "status": "completed"
    },
    "tags": []
   },
   "source": [
    "#### Carga de datos"
   ]
  },
  {
   "cell_type": "code",
   "execution_count": 1,
   "id": "bc4d8f0a",
   "metadata": {
    "execution": {
     "iopub.execute_input": "2023-10-29T22:20:07.649958Z",
     "iopub.status.busy": "2023-10-29T22:20:07.649711Z",
     "iopub.status.idle": "2023-10-29T22:20:08.512897Z",
     "shell.execute_reply": "2023-10-29T22:20:08.512358Z"
    },
    "papermill": {
     "duration": 0.868777,
     "end_time": "2023-10-29T22:20:08.514117",
     "exception": false,
     "start_time": "2023-10-29T22:20:07.645340",
     "status": "completed"
    },
    "tags": []
   },
   "outputs": [
    {
     "name": "stdout",
     "output_type": "stream",
     "text": [
      "CPU_COUNT: 8; NODE: amilcar22; sys.version: 3.10.12 (main, Jul  5 2023, 19:22:19) [GCC 11.2.0]\n",
      "LOKY_MAX_CPU_COUNT: 6\n",
      "OMP_NUM_THREADS: 2\n"
     ]
    }
   ],
   "source": [
    "import os\n",
    "import numpy as np\n",
    "import pandas as pd\n",
    "import datetime\n",
    "import sklearn\n",
    "import logging\n",
    "import warnings\n",
    "\n",
    "from sklearn.pipeline import Pipeline\n",
    "from sklearn.model_selection import RandomizedSearchCV, KFold, cross_val_score, train_test_split\n",
    "from sklearn.metrics import accuracy_score, confusion_matrix, classification_report, roc_auc_score\n",
    "\n",
    "#  cargar algoritmos para aprendizaje supervisado\n",
    "from sklearn.feature_selection import SelectKBest, f_classif, SelectFromModel, mutual_info_classif\n",
    "from sklearn.svm import SVC\n",
    "from sklearn.ensemble import RandomForestClassifier\n",
    "from sklearn.linear_model import LogisticRegression,LogisticRegressionCV\n",
    "\n",
    "# importar fichero con utilidades propias\n",
    "from commons import myfunctions as myfunc\n"
   ]
  },
  {
   "cell_type": "markdown",
   "id": "0e9edad8",
   "metadata": {
    "papermill": {
     "duration": 0.002473,
     "end_time": "2023-10-29T22:20:08.519609",
     "exception": false,
     "start_time": "2023-10-29T22:20:08.517136",
     "status": "completed"
    },
    "tags": []
   },
   "source": [
    "#### Parámetros a utilizar en el entrenamiento.\n",
    "\n",
    "Se indican los 3 algoritmos de *selección de características* (eval_selector_xxx) y los 3 algoritmos para la _clasificación_ (eval_clasifier_xxx)\n",
    "\n",
    "En *param_distributions* se indicar los parámetros que utilizan los algoritmos en la función RandomSearchCV.\n",
    "\n",
    "Esta celda tiene la etiqueta **parameters** que servirá para poder lanzar los entrenamientos con la utilidad **papermill** pasándole un fichero con los parámetros. Los nuevos parámetros se situarán tras esta celda para tener prevalencia."
   ]
  },
  {
   "cell_type": "code",
   "execution_count": 2,
   "id": "a6001170",
   "metadata": {
    "execution": {
     "iopub.execute_input": "2023-10-29T22:20:08.525522Z",
     "iopub.status.busy": "2023-10-29T22:20:08.525258Z",
     "iopub.status.idle": "2023-10-29T22:20:08.532089Z",
     "shell.execute_reply": "2023-10-29T22:20:08.531630Z"
    },
    "papermill": {
     "duration": 0.011156,
     "end_time": "2023-10-29T22:20:08.533228",
     "exception": false,
     "start_time": "2023-10-29T22:20:08.522072",
     "status": "completed"
    },
    "tags": [
     "parameters"
    ]
   },
   "outputs": [
    {
     "name": "stdout",
     "output_type": "stream",
     "text": [
      "20231029T232008 : amilcar22 : INFO : Utilizando parámetros de mul_m\n"
     ]
    }
   ],
   "source": [
    "#  Parametros para el entrenamiento\n",
    "\n",
    "SEMILLA=        42\n",
    "M_TIPO=         \"mul_m\"\n",
    "M_SELECT=       \"MI\"\n",
    "M_CLASIF=       \"SVM\"\n",
    "R_FICHERO=      \"resultados\"\n",
    "M_FICHERO=      \"metricas\"\n",
    "PRE_DATA_FILE=  \"rows_transpose_norm_by_gene_id_with_target_num_\"\n",
    "SCORING=        \"roc_auc_ovr\" \n",
    "MAX_ITERS=      100\n",
    "\n",
    "def mutual_info_classif_state(X, y):\n",
    "    return mutual_info_classif(X, y, random_state=SEMILLA)\n",
    "\n",
    "eval_selector_mi = \"SelectKBest(score_func=mutual_info_classif_state)\"\n",
    "eval_selector_rf=  \"SelectFromModel(estimator=RandomForestClassifier(random_state=SEMILLA), threshold=-np.inf)\"\n",
    "eval_selector_anova=  \"SelectKBest(score_func=f_classif)\"\n",
    "\n",
    "eval_clasifier_svm= \"SVC(probability=True, random_state=SEMILLA)\"\n",
    "eval_clasifier_rf= \"RandomForestClassifier(random_state=SEMILLA)\"\n",
    "eval_clasifier_lr= \"LogisticRegressionCV(random_state=SEMILLA)\"\n",
    "\n",
    "if M_TIPO.startswith(\"bin_m\"):\n",
    "    myfunc.verbose(f\"Utilizando parámetros de {M_TIPO}\")\n",
    "    eval_selector = eval_selector_mi\n",
    "    eval_clasifier = eval_clasifier_svm\n",
    "\n",
    "    SEMILLA = 6578\n",
    "    M_SELECT = \"MI\"\n",
    "    M_CLASIF = \"SVM\"\n",
    "    param_distributions = {'selector__k': [1000], \n",
    "         'clasifier__kernel': ['rbf'], 'clasifier__gamma': [0.01], 'clasifier__C': [100]}\n",
    "elif M_TIPO.startswith(\"bin_s\"):\n",
    "    myfunc.verbose(f\"Utilizando parámetros de {M_TIPO}\")\n",
    "    eval_selector = eval_selector_rf\n",
    "    eval_clasifier = eval_clasifier_lr\n",
    "\n",
    "    SEMILLA = 6191\n",
    "    M_SELECT = \"RF\"\n",
    "    M_CLASIF = \"LR_L2\"\n",
    "    param_distributions = {'selector__max_features': [1000], 'selector__estimator__n_estimators': [200], \n",
    "        'clasifier__solver': ['lbfgs'], 'clasifier__penalty': ['l2'], 'clasifier__max_iter': [10000]}\n",
    "\n",
    "elif M_TIPO.startswith(\"mul_m\"):\n",
    "    myfunc.verbose(f\"Utilizando parámetros de {M_TIPO}\")\n",
    " \n",
    "    eval_selector = eval_selector_rf\n",
    "    eval_clasifier = eval_clasifier_lr\n",
    "\n",
    "    SEMILLA = 6191\n",
    "    M_SELECT = \"RF\"\n",
    "    M_CLASIF = \"LR_L2\"\n",
    "    param_distributions = {'selector__max_features': [1000], 'selector__estimator__n_estimators': [400], \n",
    "        'clasifier__solver': ['lbfgs'], 'clasifier__penalty': ['l2'], 'clasifier__max_iter': [10000]}\n",
    "\n",
    "else:\n",
    "    # M_TIPO.startswith(\"mul_s\"):\n",
    "    myfunc.verbose(f\"Utilizando parámetros de {M_TIPO}\")\n",
    "    eval_selector = eval_selector_anova\n",
    "    eval_clasifier = eval_clasifier_lr\n",
    "\n",
    "    SEMILLA = 1860\n",
    "    M_SELECT = \"ANOVA\"\n",
    "    M_CLASIF = \"LR_L2\"\n",
    "    param_distributions = {'selector__k': [1000], \n",
    "        'clasifier__solver': ['saga'], 'clasifier__penalty': ['l2'], 'clasifier__max_iter': [10000]}\n",
    "\n"
   ]
  },
  {
   "cell_type": "code",
   "execution_count": 3,
   "id": "6833d574",
   "metadata": {
    "execution": {
     "iopub.execute_input": "2023-10-29T22:20:08.539260Z",
     "iopub.status.busy": "2023-10-29T22:20:08.539066Z",
     "iopub.status.idle": "2023-10-29T22:20:08.542735Z",
     "shell.execute_reply": "2023-10-29T22:20:08.542322Z"
    },
    "papermill": {
     "duration": 0.007867,
     "end_time": "2023-10-29T22:20:08.543865",
     "exception": false,
     "start_time": "2023-10-29T22:20:08.535998",
     "status": "completed"
    },
    "tags": [
     "injected-parameters"
    ]
   },
   "outputs": [],
   "source": [
    "# Parameters\n",
    "M_TIPO = \"bin_s\"\n",
    "M_SELECT = \"MI\"\n",
    "M_CLASIF = \"LR_EN\"\n",
    "P_FICHERO = \"param_0000_1466_bin_s_MI_LR_EN.yaml\"\n",
    "R_FICHERO = \"resultados_1466\"\n",
    "M_FICHERO = \"metricas_1466\"\n",
    "PRE_DATA_FILE = \"rows_transpose_norm_by_gene_id_with_target_num_\"\n",
    "SCORING = \"roc_auc_ovr\"\n",
    "SEMILLA = 1466\n",
    "MAX_ITERS = 500\n",
    "eval_selector = \"SelectKBest(score_func=mutual_info_classif_state)\"\n",
    "eval_clasifier = \"LogisticRegressionCV(random_state=SEMILLA)\"\n",
    "param_distributions = {\n",
    "    \"selector__k\": [500],\n",
    "    \"clasifier__solver\": [\"saga\"],\n",
    "    \"clasifier__penalty\": [\"elasticnet\"],\n",
    "    \"clasifier__max_iter\": [10000],\n",
    "    \"clasifier__l1_ratios\": [[0.1]],\n",
    "}\n"
   ]
  },
  {
   "cell_type": "code",
   "execution_count": 4,
   "id": "4030a040",
   "metadata": {
    "execution": {
     "iopub.execute_input": "2023-10-29T22:20:08.550065Z",
     "iopub.status.busy": "2023-10-29T22:20:08.549891Z",
     "iopub.status.idle": "2023-10-29T22:20:08.552877Z",
     "shell.execute_reply": "2023-10-29T22:20:08.552328Z"
    },
    "papermill": {
     "duration": 0.007463,
     "end_time": "2023-10-29T22:20:08.554081",
     "exception": false,
     "start_time": "2023-10-29T22:20:08.546618",
     "status": "completed"
    },
    "tags": []
   },
   "outputs": [],
   "source": [
    "DATA_FILE = PRE_DATA_FILE + M_TIPO\n",
    "\n",
    "# si viene \"None\" en el parámetro max_depth, se le quitan las comillas para que no sea entendido por el algoritmo como un texto\n",
    "if \"clasifier__max_depth\" in param_distributions:\n",
    "    param_distributions['clasifier__max_depth'] = [None if x == 'None' else x for x in param_distributions['clasifier__max_depth']]"
   ]
  },
  {
   "cell_type": "markdown",
   "id": "49e9d201",
   "metadata": {
    "papermill": {
     "duration": 0.002679,
     "end_time": "2023-10-29T22:20:08.559562",
     "exception": false,
     "start_time": "2023-10-29T22:20:08.556883",
     "status": "completed"
    },
    "tags": []
   },
   "source": [
    "Asignar los algoritmos que se utilizarán en la función RandomSearchCV"
   ]
  },
  {
   "cell_type": "code",
   "execution_count": 5,
   "id": "c677c13c",
   "metadata": {
    "execution": {
     "iopub.execute_input": "2023-10-29T22:20:08.565785Z",
     "iopub.status.busy": "2023-10-29T22:20:08.565603Z",
     "iopub.status.idle": "2023-10-29T22:20:08.568197Z",
     "shell.execute_reply": "2023-10-29T22:20:08.567776Z"
    },
    "papermill": {
     "duration": 0.007018,
     "end_time": "2023-10-29T22:20:08.569357",
     "exception": false,
     "start_time": "2023-10-29T22:20:08.562339",
     "status": "completed"
    },
    "tags": []
   },
   "outputs": [],
   "source": [
    "algor_selector=eval(eval_selector)\n",
    "algor_clasifier=eval(eval_clasifier)"
   ]
  },
  {
   "cell_type": "markdown",
   "id": "211c163d",
   "metadata": {
    "papermill": {
     "duration": 0.002731,
     "end_time": "2023-10-29T22:20:08.574854",
     "exception": false,
     "start_time": "2023-10-29T22:20:08.572123",
     "status": "completed"
    },
    "tags": []
   },
   "source": [
    "#### Comprobar el entorno y leer fichero de muestras"
   ]
  },
  {
   "cell_type": "code",
   "execution_count": 6,
   "id": "96c3d3f6",
   "metadata": {
    "execution": {
     "iopub.execute_input": "2023-10-29T22:20:08.581000Z",
     "iopub.status.busy": "2023-10-29T22:20:08.580822Z",
     "iopub.status.idle": "2023-10-29T22:20:08.743114Z",
     "shell.execute_reply": "2023-10-29T22:20:08.742619Z"
    },
    "papermill": {
     "duration": 0.1669,
     "end_time": "2023-10-29T22:20:08.744474",
     "exception": false,
     "start_time": "2023-10-29T22:20:08.577574",
     "status": "completed"
    },
    "tags": []
   },
   "outputs": [
    {
     "name": "stdout",
     "output_type": "stream",
     "text": [
      "20231029T232008 : amilcar22 : INFO : Encontrada carpeta DATA_DIR=../tfm_git/datos\n",
      "20231029T232008 : amilcar22 : INFO : Encontrada carpeta CFDNA_DIR=../tfm_git/datos/cfDNA_5hmC\n",
      "20231029T232008 : amilcar22 : INFO : Encontrada carpeta GENCODE_DIR=../tfm_git/datos/gencode\n",
      "20231029T232008 : amilcar22 : INFO : Encontrada carpeta H5_DIR=../tfm_git/datos/h5\n",
      "20231029T232008 : amilcar22 : INFO : Encontrada carpeta LOG_DIR=../tfm_git/datos/logs\n",
      "20231029T232008 : amilcar22 : INFO : Encontrada carpeta CSV_DIR=../tfm_git/datos/csv\n",
      "20231029T232008 : amilcar22 : INFO : Encontrada carpeta MODEL_DIR=../tfm_git/ejecuciones/modelos\n",
      "20231029T232008 : amilcar22 : INFO : Encontrada carpeta EXEC_DIR=../tfm_git/ejecuciones\n",
      "20231029T232008 : amilcar22 : INFO : Encontrada carpeta MET_DIR=../tfm_git/ejecuciones/metricas\n",
      "20231029T232008 : amilcar22 : INFO : Inicio leer fichero h5 ../tfm_git/datos/h5/rows_transpose_norm_by_gene_id_with_target_num_bin_s.h5\n",
      "20231029T232008 : amilcar22 : INFO : Leyendo clave /df\n",
      "20231029T232008 : amilcar22 : INFO : Tamaño (443, 18876)\n",
      "20231029T232008 : amilcar22 : INFO : Fin leer fichero h5 ../tfm_git/datos/h5/rows_transpose_norm_by_gene_id_with_target_num_bin_s.h5\n"
     ]
    },
    {
     "data": {
      "text/plain": [
       "target\n",
       "0    221\n",
       "1    222\n",
       "dtype: int64"
      ]
     },
     "metadata": {},
     "output_type": "display_data"
    },
    {
     "name": "stdout",
     "output_type": "stream",
     "text": [
      "Shape df: (443, 18876)\n"
     ]
    },
    {
     "name": "stdout",
     "output_type": "stream",
     "text": [
      "Shape X_train: (354, 18875)\n",
      "Shape X_test: (89, 18875)\n"
     ]
    }
   ],
   "source": [
    "start_time = datetime.datetime.now()\n",
    "\n",
    "myfunc.reset_vars()\n",
    "\n",
    "myfunc.NOTEBK_FILENAME = myfunc.get_nb_name()\n",
    "\n",
    "myfunc.check_enviroment(myfunc.DATA_DIR, myfunc.CFDNA_DIR, myfunc.GENCODE_DIR, myfunc.H5_DIR, myfunc.LOG_DIR, myfunc.CSV_DIR, myfunc.MODEL_DIR, myfunc.EXEC_DIR, myfunc.MET_DIR)\n",
    "\n",
    "# Leer fichero con las muestras\n",
    "df_t = myfunc.read_h5_to_df(DATA_FILE, myfunc.H5_DIR)\n",
    "display(df_t.groupby(\"target\").size())\n",
    "print(\"Shape df:\",df_t.shape)\n",
    "\n",
    "# Separar caracteristicas/genes de las etiquetas/tipos de cáncer\n",
    "X = df_t.iloc[:, :-1]  # Todas las columnas excepto la última\n",
    "y = df_t.iloc[:, -1]  # La última columna contiene los identificadores de los tipos de cáncer\n",
    "\n",
    "#  Crear el conjunto de datos de entrenamiento y de pruebas, y se fija la semilla para siempre coger el mismo juego de muestras\n",
    "X_train, X_test, y_train, y_test = train_test_split(X, y, test_size=0.2, shuffle=True, random_state=42)\n",
    "print(\"Shape X_train:\",X_train.shape)\n",
    "print(\"Shape X_test:\",X_test.shape)\n"
   ]
  },
  {
   "cell_type": "markdown",
   "id": "f67608dd",
   "metadata": {
    "papermill": {
     "duration": 0.002883,
     "end_time": "2023-10-29T22:20:08.750647",
     "exception": false,
     "start_time": "2023-10-29T22:20:08.747764",
     "status": "completed"
    },
    "tags": []
   },
   "source": [
    "#### Selección de características y clasificación."
   ]
  },
  {
   "cell_type": "code",
   "execution_count": 7,
   "id": "7e2c52f7",
   "metadata": {
    "execution": {
     "iopub.execute_input": "2023-10-29T22:20:08.757114Z",
     "iopub.status.busy": "2023-10-29T22:20:08.756932Z",
     "iopub.status.idle": "2023-10-29T22:24:42.632737Z",
     "shell.execute_reply": "2023-10-29T22:24:42.632043Z"
    },
    "papermill": {
     "duration": 273.883079,
     "end_time": "2023-10-29T22:24:42.636540",
     "exception": false,
     "start_time": "2023-10-29T22:20:08.753461",
     "status": "completed"
    },
    "tags": []
   },
   "outputs": [
    {
     "name": "stdout",
     "output_type": "stream",
     "text": [
      "20231029T232008 : amilcar22 : INFO : Iniciando entrenamiento\n",
      "num_iter: 1 , max_iter: 1\n",
      "Fitting 5 folds for each of 1 candidates, totalling 5 fits\n"
     ]
    },
    {
     "name": "stdout",
     "output_type": "stream",
     "text": [
      "Mejores Hiperparámetros: {'selector__k': 500, 'clasifier__solver': 'saga', 'clasifier__penalty': 'elasticnet', 'clasifier__max_iter': 10000, 'clasifier__l1_ratios': [0.1]}\n",
      "Mejor Puntuación: 0.7791\n",
      "20231029T232442 : amilcar22 : INFO : Fin entrenamiento\n"
     ]
    }
   ],
   "source": [
    "myfunc.verbose(\"Iniciando entrenamiento\")\n",
    "\n",
    "kf = KFold(n_splits=5, shuffle=True, random_state=SEMILLA)\n",
    "\n",
    "# Crear el pipeline para el flujo de tareas\n",
    "tasks_pipeline = Pipeline([\n",
    "    ('selector', algor_selector),\n",
    "    ('clasifier', algor_clasifier)\n",
    "])\n",
    "\n",
    "# MAX_ITERS puede limitar el número de iteraciones si son excesivas para las combinaciones de parámetros buscando un óptimo local, \n",
    "# sino funcionaría como GridSearchCV al revisar todas las cominaciones de los parámetros\n",
    "num_iteraciones = 1\n",
    "num_iteraciones = num_iteraciones * np.prod([len(elemento1) for _, elemento1 in param_distributions.items()])\n",
    "max_iteraciones = num_iteraciones if num_iteraciones <= MAX_ITERS else MAX_ITERS\n",
    "print(\"num_iter:\",num_iteraciones,\", max_iter:\",max_iteraciones)\n",
    "\n",
    "random_search = RandomizedSearchCV(\n",
    "    tasks_pipeline, \n",
    "    param_distributions, \n",
    "    n_iter=max_iteraciones,\n",
    "    scoring=SCORING,\n",
    "    cv=kf,\n",
    "    verbose=3, \n",
    "    random_state=SEMILLA, \n",
    "    n_jobs=-1\n",
    "    )\n",
    "\n",
    "# Entrenar el modelo\n",
    "random_search.fit(X_train, y_train)\n",
    "\n",
    "# Ver los mejores hiperparámetros encontrados\n",
    "print(f'Mejores Hiperparámetros: {random_search.best_params_}')\n",
    "print(f'Mejor Puntuación: {random_search.best_score_:.4f}')\n",
    "\n",
    "# Nos quedamos con el mejor modelo para ver las métricas\n",
    "mejor_modelo = random_search.best_estimator_\n",
    "\n",
    "myfunc.verbose(\"Fin entrenamiento\")"
   ]
  },
  {
   "cell_type": "markdown",
   "id": "48778942",
   "metadata": {
    "papermill": {
     "duration": 0.002817,
     "end_time": "2023-10-29T22:24:42.642422",
     "exception": false,
     "start_time": "2023-10-29T22:24:42.639605",
     "status": "completed"
    },
    "tags": []
   },
   "source": [
    "#### Guardar modelo"
   ]
  },
  {
   "cell_type": "code",
   "execution_count": 8,
   "id": "bac4ed60",
   "metadata": {
    "execution": {
     "iopub.execute_input": "2023-10-29T22:24:42.649284Z",
     "iopub.status.busy": "2023-10-29T22:24:42.649081Z",
     "iopub.status.idle": "2023-10-29T22:24:42.656822Z",
     "shell.execute_reply": "2023-10-29T22:24:42.656239Z"
    },
    "papermill": {
     "duration": 0.012826,
     "end_time": "2023-10-29T22:24:42.658123",
     "exception": false,
     "start_time": "2023-10-29T22:24:42.645297",
     "status": "completed"
    },
    "tags": []
   },
   "outputs": [
    {
     "name": "stdout",
     "output_type": "stream",
     "text": [
      "20231029T232442 : amilcar22 : INFO : Inicio guardar fichero ../tfm_git/ejecuciones/modelos/modelo_1466_bin_s_MI_LR_EN.pkl\n",
      "20231029T232442 : amilcar22 : INFO : Fin guardar fichero ../tfm_git/ejecuciones/modelos/modelo_1466_bin_s_MI_LR_EN.pkl\n"
     ]
    }
   ],
   "source": [
    "fichero_modelo = str.replace(\"modelo_\"+str(SEMILLA).zfill(4)+\"_\"+M_TIPO+\"_\"+M_SELECT+\"_\"+M_CLASIF+\".pkl\", \" \", \"_\")\n",
    "\n",
    "myfunc.save_modelo(mejor_modelo, myfunc.MODEL_DIR, fichero_modelo)"
   ]
  },
  {
   "cell_type": "markdown",
   "id": "aaea29e5",
   "metadata": {
    "papermill": {
     "duration": 0.003063,
     "end_time": "2023-10-29T22:24:42.664454",
     "exception": false,
     "start_time": "2023-10-29T22:24:42.661391",
     "status": "completed"
    },
    "tags": []
   },
   "source": [
    "#### Ver resultados del las iteraciones hechas por RandomSearchCV"
   ]
  },
  {
   "cell_type": "code",
   "execution_count": 9,
   "id": "56544bdd",
   "metadata": {
    "execution": {
     "iopub.execute_input": "2023-10-29T22:24:42.671224Z",
     "iopub.status.busy": "2023-10-29T22:24:42.671016Z",
     "iopub.status.idle": "2023-10-29T22:24:42.677279Z",
     "shell.execute_reply": "2023-10-29T22:24:42.676854Z"
    },
    "papermill": {
     "duration": 0.011064,
     "end_time": "2023-10-29T22:24:42.678475",
     "exception": false,
     "start_time": "2023-10-29T22:24:42.667411",
     "status": "completed"
    },
    "tags": []
   },
   "outputs": [
    {
     "name": "stdout",
     "output_type": "stream",
     "text": [
      "20231029T232442 : amilcar22 : INFO : Inicio ver resultados\n",
      "Mejores Hiperparámetros: {'selector__k': 500, 'clasifier__solver': 'saga', 'clasifier__penalty': 'elasticnet', 'clasifier__max_iter': 10000, 'clasifier__l1_ratios': [0.1]}\n",
      "Mejores puntuaciones: 0.7791 | Params: {'selector__k': 500, 'clasifier__solver': 'saga', 'clasifier__penalty': 'elasticnet', 'clasifier__max_iter': 10000, 'clasifier__l1_ratios': [0.1]}\n",
      "Media de las puntuaciones: 0.7791 | Params: {'selector__k': 500, 'clasifier__solver': 'saga', 'clasifier__penalty': 'elasticnet', 'clasifier__max_iter': 10000, 'clasifier__l1_ratios': [0.1]}\n",
      "20231029T232442 : amilcar22 : INFO : Fin resultados\n"
     ]
    }
   ],
   "source": [
    "myfunc.ver_resultados_search(random_search)"
   ]
  },
  {
   "cell_type": "markdown",
   "id": "1fde9e51",
   "metadata": {
    "papermill": {
     "duration": 0.003128,
     "end_time": "2023-10-29T22:24:42.684823",
     "exception": false,
     "start_time": "2023-10-29T22:24:42.681695",
     "status": "completed"
    },
    "tags": []
   },
   "source": [
    "#### Ver métricas del mejor modelo"
   ]
  },
  {
   "cell_type": "code",
   "execution_count": 10,
   "id": "9b5d0415",
   "metadata": {
    "execution": {
     "iopub.execute_input": "2023-10-29T22:24:42.691721Z",
     "iopub.status.busy": "2023-10-29T22:24:42.691520Z",
     "iopub.status.idle": "2023-10-29T22:24:43.095746Z",
     "shell.execute_reply": "2023-10-29T22:24:43.095284Z"
    },
    "papermill": {
     "duration": 0.409254,
     "end_time": "2023-10-29T22:24:43.096990",
     "exception": false,
     "start_time": "2023-10-29T22:24:42.687736",
     "status": "completed"
    },
    "tags": []
   },
   "outputs": [
    {
     "name": "stdout",
     "output_type": "stream",
     "text": [
      "20231029T232442 : amilcar22 : INFO : Inicio ver métricas\n"
     ]
    },
    {
     "name": "stdout",
     "output_type": "stream",
     "text": [
      "              precision    recall  f1-score   support\n",
      "\n",
      "           0       0.62      0.67      0.65        46\n",
      "           1       0.62      0.56      0.59        43\n",
      "\n",
      "    accuracy                           0.62        89\n",
      "   macro avg       0.62      0.62      0.62        89\n",
      "weighted avg       0.62      0.62      0.62        89\n",
      "\n",
      "\n",
      "\n",
      "   Exactitud: 0.6180\n",
      "   Precisión: 0.6177\n",
      "Sensibilidad: 0.6160\n",
      "    F1-score: 0.6156\n",
      "     AUC ROC: 0.6790\n"
     ]
    },
    {
     "data": {
      "image/png": "[encoded data removed]",
      "text/plain": [
       "<Figure size 300x100 with 2 Axes>"
      ]
     },
     "metadata": {},
     "output_type": "display_data"
    },
    {
     "data": {
      "image/png": "[encoded data removed]",
      "text/plain": [
       "<Figure size 800x500 with 1 Axes>"
      ]
     },
     "metadata": {},
     "output_type": "display_data"
    },
    {
     "name": "stdout",
     "output_type": "stream",
     "text": [
      "20231029T232443 : amilcar22 : INFO : Fin ver métricas\n"
     ]
    }
   ],
   "source": [
    "if M_TIPO.startswith(\"bin\"):\n",
    "    myfunc.ver_metricas(mejor_modelo, X_test, y_test)\n",
    "else:\n",
    "    myfunc.ver_metricas_multi(mejor_modelo, X_test, y_test)\n"
   ]
  },
  {
   "cell_type": "markdown",
   "id": "c3bffb9b",
   "metadata": {
    "papermill": {
     "duration": 0.003558,
     "end_time": "2023-10-29T22:24:43.104843",
     "exception": false,
     "start_time": "2023-10-29T22:24:43.101285",
     "status": "completed"
    },
    "tags": []
   },
   "source": [
    "#### Finalización del notebook"
   ]
  },
  {
   "cell_type": "code",
   "execution_count": 11,
   "id": "d45a118e",
   "metadata": {
    "execution": {
     "iopub.execute_input": "2023-10-29T22:24:43.112851Z",
     "iopub.status.busy": "2023-10-29T22:24:43.112657Z",
     "iopub.status.idle": "2023-10-29T22:24:43.116183Z",
     "shell.execute_reply": "2023-10-29T22:24:43.115764Z"
    },
    "papermill": {
     "duration": 0.009099,
     "end_time": "2023-10-29T22:24:43.117413",
     "exception": false,
     "start_time": "2023-10-29T22:24:43.108314",
     "status": "completed"
    },
    "tags": []
   },
   "outputs": [
    {
     "name": "stdout",
     "output_type": "stream",
     "text": [
      "20231029T232443 : amilcar22 : INFO : Notebook ha tardado 274 seconds\n"
     ]
    }
   ],
   "source": [
    "end_time = datetime.datetime.now()\n",
    "total_time = end_time - start_time\n",
    "myfunc.verbose(f\"Notebook ha tardado {total_time.seconds} seconds\")"
   ]
  },
  {
   "cell_type": "markdown",
   "id": "3017099f",
   "metadata": {
    "papermill": {
     "duration": 0.003596,
     "end_time": "2023-10-29T22:24:43.124856",
     "exception": false,
     "start_time": "2023-10-29T22:24:43.121260",
     "status": "completed"
    },
    "tags": []
   },
   "source": [
    "#### Guardar métricas"
   ]
  },
  {
   "cell_type": "code",
   "execution_count": 12,
   "id": "5431bf79",
   "metadata": {
    "execution": {
     "iopub.execute_input": "2023-10-29T22:24:43.132847Z",
     "iopub.status.busy": "2023-10-29T22:24:43.132644Z",
     "iopub.status.idle": "2023-10-29T22:24:43.299091Z",
     "shell.execute_reply": "2023-10-29T22:24:43.298573Z"
    },
    "papermill": {
     "duration": 0.171918,
     "end_time": "2023-10-29T22:24:43.300286",
     "exception": false,
     "start_time": "2023-10-29T22:24:43.128368",
     "status": "completed"
    },
    "tags": []
   },
   "outputs": [
    {
     "name": "stdout",
     "output_type": "stream",
     "text": [
      "20231029T232443 : amilcar22 : INFO : Inicio guardar métricas\n",
      "20231029T232443 : amilcar22 : INFO : Inicio leer fichero ../tfm_git/ejecuciones/metricas/metricas_1466.csv\n",
      "20231029T232443 : amilcar22 : INFO : Fin leer fichero ../tfm_git/ejecuciones/metricas/metricas_1466.csv\n",
      "20231029T232443 : amilcar22 : INFO : Inicio guardar fichero ../tfm_git/ejecuciones/metricas/metricas_1466.csv\n",
      "20231029T232443 : amilcar22 : INFO : Fichero borrado ../tfm_git/ejecuciones/metricas/metricas_1466.csv\n",
      "20231029T232443 : amilcar22 : INFO : Fin guardar fichero ../tfm_git/ejecuciones/metricas/metricas_1466.csv\n",
      "20231029T232443 : amilcar22 : INFO : Fin guardar métricas\n",
      "20231029T232443 : amilcar22 : INFO : Inicio leer fichero ../tfm_git/ejecuciones/metricas/metricas_1466.csv\n",
      "20231029T232443 : amilcar22 : INFO : Fin leer fichero ../tfm_git/ejecuciones/metricas/metricas_1466.csv\n"
     ]
    },
    {
     "data": {
      "text/html": [
       "<div>\n",
       "<style scoped>\n",
       "    .dataframe tbody tr th:only-of-type {\n",
       "        vertical-align: middle;\n",
       "    }\n",
       "\n",
       "    .dataframe tbody tr th {\n",
       "        vertical-align: top;\n",
       "    }\n",
       "\n",
       "    .dataframe thead th {\n",
       "        text-align: right;\n",
       "    }\n",
       "</style>\n",
       "<table border=\"1\" class=\"dataframe\">\n",
       "  <thead>\n",
       "    <tr style=\"text-align: right;\">\n",
       "      <th></th>\n",
       "      <th>tipo</th>\n",
       "      <th>select</th>\n",
       "      <th>clasific</th>\n",
       "      <th>semilla</th>\n",
       "      <th>accuracy</th>\n",
       "      <th>precision</th>\n",
       "      <th>recall</th>\n",
       "      <th>f1_score</th>\n",
       "      <th>roc_auc</th>\n",
       "      <th>hostname</th>\n",
       "      <th>total_time_sec</th>\n",
       "      <th>datetime</th>\n",
       "      <th>fichero_modelo</th>\n",
       "      <th>params</th>\n",
       "      <th>shape</th>\n",
       "      <th>features</th>\n",
       "    </tr>\n",
       "  </thead>\n",
       "  <tbody>\n",
       "    <tr>\n",
       "      <th>0</th>\n",
       "      <td>bin_s</td>\n",
       "      <td>MI</td>\n",
       "      <td>LR_EN</td>\n",
       "      <td>1466</td>\n",
       "      <td>0.617978</td>\n",
       "      <td>0.617692</td>\n",
       "      <td>0.616026</td>\n",
       "      <td>0.615600</td>\n",
       "      <td>0.678969</td>\n",
       "      <td>amilcar22</td>\n",
       "      <td>274</td>\n",
       "      <td>2023-10-29 23:24:43.277404</td>\n",
       "      <td>modelo_1466_bin_s_MI_LR_EN.pkl</td>\n",
       "      <td>{'selector__k': 500, 'clasifier__solver': 'sag...</td>\n",
       "      <td>X_test:(89, 18875)</td>\n",
       "      <td>['ENSG00000003402.21', 'ENSG00000004864.14', '...</td>\n",
       "    </tr>\n",
       "    <tr>\n",
       "      <th>0</th>\n",
       "      <td>bin_s</td>\n",
       "      <td>ANOVA</td>\n",
       "      <td>SVM</td>\n",
       "      <td>1466</td>\n",
       "      <td>0.674157</td>\n",
       "      <td>0.680214</td>\n",
       "      <td>0.670374</td>\n",
       "      <td>0.668124</td>\n",
       "      <td>0.721183</td>\n",
       "      <td>amilcar22</td>\n",
       "      <td>2</td>\n",
       "      <td>2023-10-29 23:20:02.547681</td>\n",
       "      <td>modelo_1466_bin_s_ANOVA_SVM.pkl</td>\n",
       "      <td>{'selector__k': 250, 'clasifier__kernel': 'rbf...</td>\n",
       "      <td>X_test:(89, 18875)</td>\n",
       "      <td>['ENSG00000000938.13', 'ENSG00000000971.17', '...</td>\n",
       "    </tr>\n",
       "    <tr>\n",
       "      <th>0</th>\n",
       "      <td>bin_s</td>\n",
       "      <td>ANOVA</td>\n",
       "      <td>RF</td>\n",
       "      <td>1466</td>\n",
       "      <td>0.629213</td>\n",
       "      <td>0.632620</td>\n",
       "      <td>0.625379</td>\n",
       "      <td>0.622348</td>\n",
       "      <td>0.701719</td>\n",
       "      <td>amilcar22</td>\n",
       "      <td>2</td>\n",
       "      <td>2023-10-29 23:19:53.662516</td>\n",
       "      <td>modelo_1466_bin_s_ANOVA_RF.pkl</td>\n",
       "      <td>{'selector__k': 150, 'clasifier__n_estimators'...</td>\n",
       "      <td>X_test:(89, 18875)</td>\n",
       "      <td>['ENSG00000000971.17', 'ENSG00000002587.10', '...</td>\n",
       "    </tr>\n",
       "  </tbody>\n",
       "</table>\n",
       "</div>"
      ],
      "text/plain": [
       "    tipo select clasific  semilla  accuracy  precision    recall  f1_score  \\\n",
       "0  bin_s     MI    LR_EN     1466  0.617978   0.617692  0.616026  0.615600   \n",
       "0  bin_s  ANOVA      SVM     1466  0.674157   0.680214  0.670374  0.668124   \n",
       "0  bin_s  ANOVA       RF     1466  0.629213   0.632620  0.625379  0.622348   \n",
       "\n",
       "    roc_auc   hostname  total_time_sec                    datetime  \\\n",
       "0  0.678969  amilcar22             274  2023-10-29 23:24:43.277404   \n",
       "0  0.721183  amilcar22               2  2023-10-29 23:20:02.547681   \n",
       "0  0.701719  amilcar22               2  2023-10-29 23:19:53.662516   \n",
       "\n",
       "                    fichero_modelo  \\\n",
       "0   modelo_1466_bin_s_MI_LR_EN.pkl   \n",
       "0  modelo_1466_bin_s_ANOVA_SVM.pkl   \n",
       "0   modelo_1466_bin_s_ANOVA_RF.pkl   \n",
       "\n",
       "                                              params               shape  \\\n",
       "0  {'selector__k': 500, 'clasifier__solver': 'sag...  X_test:(89, 18875)   \n",
       "0  {'selector__k': 250, 'clasifier__kernel': 'rbf...  X_test:(89, 18875)   \n",
       "0  {'selector__k': 150, 'clasifier__n_estimators'...  X_test:(89, 18875)   \n",
       "\n",
       "                                            features  \n",
       "0  ['ENSG00000003402.21', 'ENSG00000004864.14', '...  \n",
       "0  ['ENSG00000000938.13', 'ENSG00000000971.17', '...  \n",
       "0  ['ENSG00000000971.17', 'ENSG00000002587.10', '...  "
      ]
     },
     "metadata": {},
     "output_type": "display_data"
    }
   ],
   "source": [
    "if M_TIPO.startswith(\"bin\"):\n",
    "    myfunc.save_metricas_to_csv(random_search, X_test, y_test, M_TIPO, M_SELECT, M_CLASIF, total_time, SEMILLA, myfunc.MET_DIR, M_FICHERO, fichero_modelo)\n",
    "else:\n",
    "    myfunc.save_metricas_multi_to_csv(random_search, X_test, y_test, M_TIPO, M_SELECT, M_CLASIF, total_time, SEMILLA, myfunc.MET_DIR, M_FICHERO, fichero_modelo)\n",
    "\n",
    "df1=myfunc.read_metricas_to_df(myfunc.MET_DIR,M_FICHERO)\n",
    "\n",
    "display(df1.sort_values(\"datetime\", ascending=False)[:3])\n"
   ]
  },
  {
   "cell_type": "markdown",
   "id": "251ada5e",
   "metadata": {
    "papermill": {
     "duration": 0.004051,
     "end_time": "2023-10-29T22:24:43.308937",
     "exception": false,
     "start_time": "2023-10-29T22:24:43.304886",
     "status": "completed"
    },
    "tags": []
   },
   "source": [
    "#### Guardar resultados"
   ]
  },
  {
   "cell_type": "code",
   "execution_count": 13,
   "id": "5391eed0",
   "metadata": {
    "execution": {
     "iopub.execute_input": "2023-10-29T22:24:43.317811Z",
     "iopub.status.busy": "2023-10-29T22:24:43.317586Z",
     "iopub.status.idle": "2023-10-29T22:24:43.326046Z",
     "shell.execute_reply": "2023-10-29T22:24:43.325563Z"
    },
    "papermill": {
     "duration": 0.014333,
     "end_time": "2023-10-29T22:24:43.327186",
     "exception": false,
     "start_time": "2023-10-29T22:24:43.312853",
     "status": "completed"
    },
    "tags": []
   },
   "outputs": [
    {
     "name": "stdout",
     "output_type": "stream",
     "text": [
      "20231029T232443 : amilcar22 : INFO : Inicio guardar resultados\n",
      "20231029T232443 : amilcar22 : INFO : Inicio guardar fichero ../tfm_git/ejecuciones/metricas/resultados_1466_bin_s-MI-LR_EN.csv\n",
      "20231029T232443 : amilcar22 : INFO : Fin guardar fichero ../tfm_git/ejecuciones/metricas/resultados_1466_bin_s-MI-LR_EN.csv\n",
      "20231029T232443 : amilcar22 : INFO : Fin guardar resultados\n"
     ]
    }
   ],
   "source": [
    "fichero_resultados=R_FICHERO+\"_\"+M_TIPO+\"-\"+M_SELECT+\"-\"+M_CLASIF+\".csv\"\n",
    "myfunc.save_resultados_to_csv(M_TIPO, M_SELECT, M_CLASIF,  random_search, myfunc.MET_DIR, fichero_resultados)\n"
   ]
  }
 ],
 "metadata": {
  "kernelspec": {
   "display_name": "Python 3 (ipykernel)",
   "language": "python",
   "name": "python3"
  },
  "language_info": {
   "codemirror_mode": {
    "name": "ipython",
    "version": 3
   },
   "file_extension": ".py",
   "mimetype": "text/x-python",
   "name": "python",
   "nbconvert_exporter": "python",
   "pygments_lexer": "ipython3",
   "version": "3.10.12"
  },
  "papermill": {
   "default_parameters": {},
   "duration": 279.230069,
   "end_time": "2023-10-29T22:24:45.949454",
   "environment_variables": {},
   "exception": null,
   "input_path": "03_entrenamiento.ipynb",
   "output_path": "ejecuciones/training/03_entrenamiento.20231029T232006.param_0000_1466_bin_s_MI_LR_EN.output.ipynb",
   "parameters": {
    "MAX_ITERS": 500,
    "M_CLASIF": "LR_EN",
    "M_FICHERO": "metricas_1466",
    "M_SELECT": "MI",
    "M_TIPO": "bin_s",
    "PRE_DATA_FILE": "rows_transpose_norm_by_gene_id_with_target_num_",
    "P_FICHERO": "param_0000_1466_bin_s_MI_LR_EN.yaml",
    "R_FICHERO": "resultados_1466",
    "SCORING": "roc_auc_ovr",
    "SEMILLA": 1466,
    "eval_clasifier": "LogisticRegressionCV(random_state=SEMILLA)",
    "eval_selector": "SelectKBest(score_func=mutual_info_classif_state)",
    "param_distributions": {
     "clasifier__l1_ratios": [
      [
       0.1
      ]
     ],
     "clasifier__max_iter": [
      10000
     ],
     "clasifier__penalty": [
      "elasticnet"
     ],
     "clasifier__solver": [
      "saga"
     ],
     "selector__k": [
      500
     ]
    }
   },
   "start_time": "2023-10-29T22:20:06.719385",
   "version": "2.4.0"
  }
 },
 "nbformat": 4,
 "nbformat_minor": 5
}