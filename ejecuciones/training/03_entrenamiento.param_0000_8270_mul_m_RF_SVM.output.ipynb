{
 "cells": [
  {
   "cell_type": "markdown",
   "id": "d760c1d9",
   "metadata": {
    "papermill": {
     "duration": 0.005534,
     "end_time": "2023-10-29T23:34:06.409352",
     "exception": false,
     "start_time": "2023-10-29T23:34:06.403818",
     "status": "completed"
    },
    "tags": []
   },
   "source": [
    "##### Inicio"
   ]
  },
  {
   "cell_type": "markdown",
   "id": "bdb2fdf5",
   "metadata": {
    "papermill": {
     "duration": 0.003506,
     "end_time": "2023-10-29T23:34:06.416670",
     "exception": false,
     "start_time": "2023-10-29T23:34:06.413164",
     "status": "completed"
    },
    "tags": []
   },
   "source": [
    "#### Carga de datos"
   ]
  },
  {
   "cell_type": "code",
   "execution_count": 1,
   "id": "7edf77d5",
   "metadata": {
    "execution": {
     "iopub.execute_input": "2023-10-29T23:34:06.424728Z",
     "iopub.status.busy": "2023-10-29T23:34:06.424291Z",
     "iopub.status.idle": "2023-10-29T23:34:07.560540Z",
     "shell.execute_reply": "2023-10-29T23:34:07.559922Z"
    },
    "papermill": {
     "duration": 1.141946,
     "end_time": "2023-10-29T23:34:07.561972",
     "exception": false,
     "start_time": "2023-10-29T23:34:06.420026",
     "status": "completed"
    },
    "tags": []
   },
   "outputs": [
    {
     "name": "stdout",
     "output_type": "stream",
     "text": [
      "CPU_COUNT: 16; NODE: enderlab; sys.version: 3.10.11 (main, May 16 2023, 00:28:57) [GCC 11.2.0]\n",
      "LOKY_MAX_CPU_COUNT is not set.\n",
      "OMP_NUM_THREADS is not set.\n"
     ]
    }
   ],
   "source": [
    "import os\n",
    "import numpy as np\n",
    "import pandas as pd\n",
    "import datetime\n",
    "import sklearn\n",
    "import logging\n",
    "import warnings\n",
    "\n",
    "from sklearn.pipeline import Pipeline\n",
    "from sklearn.model_selection import RandomizedSearchCV, KFold, cross_val_score, train_test_split\n",
    "from sklearn.metrics import accuracy_score, confusion_matrix, classification_report, roc_auc_score\n",
    "\n",
    "#  cargar algoritmos para aprendizaje supervisado\n",
    "from sklearn.feature_selection import SelectKBest, f_classif, SelectFromModel, mutual_info_classif\n",
    "from sklearn.svm import SVC\n",
    "from sklearn.ensemble import RandomForestClassifier\n",
    "from sklearn.linear_model import LogisticRegression,LogisticRegressionCV\n",
    "\n",
    "# importar fichero con utilidades propias\n",
    "from commons import myfunctions as myfunc\n"
   ]
  },
  {
   "cell_type": "markdown",
   "id": "60e04e12",
   "metadata": {
    "papermill": {
     "duration": 0.003546,
     "end_time": "2023-10-29T23:34:07.569601",
     "exception": false,
     "start_time": "2023-10-29T23:34:07.566055",
     "status": "completed"
    },
    "tags": []
   },
   "source": [
    "#### Parámetros a utilizar en el entrenamiento.\n",
    "\n",
    "Se indican los 3 algoritmos de *selección de características* (eval_selector_xxx) y los 3 algoritmos para la _clasificación_ (eval_clasifier_xxx)\n",
    "\n",
    "En *param_distributions* se indicar los parámetros que utilizan los algoritmos en la función RandomSearchCV.\n",
    "\n",
    "Esta celda tiene la etiqueta **parameters** que servirá para poder lanzar los entrenamientos con la utilidad **papermill** pasándole un fichero con los parámetros. Los nuevos parámetros se situarán tras esta celda para tener prevalencia."
   ]
  },
  {
   "cell_type": "code",
   "execution_count": 2,
   "id": "05c8debd",
   "metadata": {
    "execution": {
     "iopub.execute_input": "2023-10-29T23:34:07.578526Z",
     "iopub.status.busy": "2023-10-29T23:34:07.577837Z",
     "iopub.status.idle": "2023-10-29T23:34:07.586798Z",
     "shell.execute_reply": "2023-10-29T23:34:07.586170Z"
    },
    "papermill": {
     "duration": 0.014983,
     "end_time": "2023-10-29T23:34:07.588145",
     "exception": false,
     "start_time": "2023-10-29T23:34:07.573162",
     "status": "completed"
    },
    "tags": [
     "parameters"
    ]
   },
   "outputs": [
    {
     "name": "stdout",
     "output_type": "stream",
     "text": [
      "20231030T003407 : enderlab : INFO : Utilizando parámetros de mul_m\n"
     ]
    }
   ],
   "source": [
    "#  Parametros para el entrenamiento\n",
    "\n",
    "SEMILLA=        42\n",
    "M_TIPO=         \"mul_m\"\n",
    "M_SELECT=       \"MI\"\n",
    "M_CLASIF=       \"SVM\"\n",
    "R_FICHERO=      \"resultados\"\n",
    "M_FICHERO=      \"metricas\"\n",
    "PRE_DATA_FILE=  \"rows_transpose_norm_by_gene_id_with_target_num_\"\n",
    "SCORING=        \"roc_auc_ovr\" \n",
    "MAX_ITERS=      100\n",
    "\n",
    "def mutual_info_classif_state(X, y):\n",
    "    return mutual_info_classif(X, y, random_state=SEMILLA)\n",
    "\n",
    "eval_selector_mi = \"SelectKBest(score_func=mutual_info_classif_state)\"\n",
    "eval_selector_rf=  \"SelectFromModel(estimator=RandomForestClassifier(random_state=SEMILLA), threshold=-np.inf)\"\n",
    "eval_selector_anova=  \"SelectKBest(score_func=f_classif)\"\n",
    "\n",
    "eval_clasifier_svm= \"SVC(probability=True, random_state=SEMILLA)\"\n",
    "eval_clasifier_rf= \"RandomForestClassifier(random_state=SEMILLA)\"\n",
    "eval_clasifier_lr= \"LogisticRegressionCV(random_state=SEMILLA)\"\n",
    "\n",
    "if M_TIPO.startswith(\"bin_m\"):\n",
    "    myfunc.verbose(f\"Utilizando parámetros de {M_TIPO}\")\n",
    "    eval_selector = eval_selector_mi\n",
    "    eval_clasifier = eval_clasifier_svm\n",
    "\n",
    "    SEMILLA = 6578\n",
    "    M_SELECT = \"MI\"\n",
    "    M_CLASIF = \"SVM\"\n",
    "    param_distributions = {'selector__k': [1000], \n",
    "         'clasifier__kernel': ['rbf'], 'clasifier__gamma': [0.01], 'clasifier__C': [100]}\n",
    "elif M_TIPO.startswith(\"bin_s\"):\n",
    "    myfunc.verbose(f\"Utilizando parámetros de {M_TIPO}\")\n",
    "    eval_selector = eval_selector_rf\n",
    "    eval_clasifier = eval_clasifier_lr\n",
    "\n",
    "    SEMILLA = 6191\n",
    "    M_SELECT = \"RF\"\n",
    "    M_CLASIF = \"LR_L2\"\n",
    "    param_distributions = {'selector__max_features': [1000], 'selector__estimator__n_estimators': [200], \n",
    "        'clasifier__solver': ['lbfgs'], 'clasifier__penalty': ['l2'], 'clasifier__max_iter': [10000]}\n",
    "\n",
    "elif M_TIPO.startswith(\"mul_m\"):\n",
    "    myfunc.verbose(f\"Utilizando parámetros de {M_TIPO}\")\n",
    " \n",
    "    eval_selector = eval_selector_rf\n",
    "    eval_clasifier = eval_clasifier_lr\n",
    "\n",
    "    SEMILLA = 6191\n",
    "    M_SELECT = \"RF\"\n",
    "    M_CLASIF = \"LR_L2\"\n",
    "    param_distributions = {'selector__max_features': [1000], 'selector__estimator__n_estimators': [400], \n",
    "        'clasifier__solver': ['lbfgs'], 'clasifier__penalty': ['l2'], 'clasifier__max_iter': [10000]}\n",
    "\n",
    "else:\n",
    "    # M_TIPO.startswith(\"mul_s\"):\n",
    "    myfunc.verbose(f\"Utilizando parámetros de {M_TIPO}\")\n",
    "    eval_selector = eval_selector_anova\n",
    "    eval_clasifier = eval_clasifier_lr\n",
    "\n",
    "    SEMILLA = 1860\n",
    "    M_SELECT = \"ANOVA\"\n",
    "    M_CLASIF = \"LR_L2\"\n",
    "    param_distributions = {'selector__k': [1000], \n",
    "        'clasifier__solver': ['saga'], 'clasifier__penalty': ['l2'], 'clasifier__max_iter': [10000]}\n",
    "\n"
   ]
  },
  {
   "cell_type": "code",
   "execution_count": 3,
   "id": "71bc2ad5",
   "metadata": {
    "execution": {
     "iopub.execute_input": "2023-10-29T23:34:07.596441Z",
     "iopub.status.busy": "2023-10-29T23:34:07.595926Z",
     "iopub.status.idle": "2023-10-29T23:34:07.599958Z",
     "shell.execute_reply": "2023-10-29T23:34:07.599442Z"
    },
    "papermill": {
     "duration": 0.009527,
     "end_time": "2023-10-29T23:34:07.601214",
     "exception": false,
     "start_time": "2023-10-29T23:34:07.591687",
     "status": "completed"
    },
    "tags": [
     "injected-parameters"
    ]
   },
   "outputs": [],
   "source": [
    "# Parameters\n",
    "M_TIPO = \"mul_m\"\n",
    "M_SELECT = \"RF\"\n",
    "M_CLASIF = \"SVM\"\n",
    "P_FICHERO = \"param_0000_8270_mul_m_RF_SVM.yaml\"\n",
    "R_FICHERO = \"resultados_8270\"\n",
    "M_FICHERO = \"metricas_8270\"\n",
    "PRE_DATA_FILE = \"rows_transpose_norm_by_gene_id_with_target_num_\"\n",
    "SCORING = \"roc_auc_ovr\"\n",
    "SEMILLA = 8270\n",
    "MAX_ITERS = 500\n",
    "eval_selector = \"SelectFromModel(estimator=RandomForestClassifier(random_state=SEMILLA), threshold=-np.inf)\"\n",
    "eval_clasifier = \"SVC(probability=True, random_state=SEMILLA)\"\n",
    "param_distributions = {\n",
    "    \"selector__max_features\": [200],\n",
    "    \"selector__estimator__n_estimators\": [400],\n",
    "    \"clasifier__kernel\": [\"rbf\"],\n",
    "    \"clasifier__gamma\": [0.01],\n",
    "    \"clasifier__C\": [10],\n",
    "}\n"
   ]
  },
  {
   "cell_type": "code",
   "execution_count": 4,
   "id": "a5f3c75e",
   "metadata": {
    "execution": {
     "iopub.execute_input": "2023-10-29T23:34:07.609455Z",
     "iopub.status.busy": "2023-10-29T23:34:07.609030Z",
     "iopub.status.idle": "2023-10-29T23:34:07.612501Z",
     "shell.execute_reply": "2023-10-29T23:34:07.611943Z"
    },
    "papermill": {
     "duration": 0.009074,
     "end_time": "2023-10-29T23:34:07.613826",
     "exception": false,
     "start_time": "2023-10-29T23:34:07.604752",
     "status": "completed"
    },
    "tags": []
   },
   "outputs": [],
   "source": [
    "DATA_FILE = PRE_DATA_FILE + M_TIPO\n",
    "\n",
    "# si viene \"None\" en el parámetro max_depth, se le quitan las comillas para que no sea entendido por el algoritmo como un texto\n",
    "if \"clasifier__max_depth\" in param_distributions:\n",
    "    param_distributions['clasifier__max_depth'] = [None if x == 'None' else x for x in param_distributions['clasifier__max_depth']]"
   ]
  },
  {
   "cell_type": "markdown",
   "id": "4c71fa2e",
   "metadata": {
    "papermill": {
     "duration": 0.003659,
     "end_time": "2023-10-29T23:34:07.621151",
     "exception": false,
     "start_time": "2023-10-29T23:34:07.617492",
     "status": "completed"
    },
    "tags": []
   },
   "source": [
    "Asignar los algoritmos que se utilizarán en la función RandomSearchCV"
   ]
  },
  {
   "cell_type": "code",
   "execution_count": 5,
   "id": "12521395",
   "metadata": {
    "execution": {
     "iopub.execute_input": "2023-10-29T23:34:07.629724Z",
     "iopub.status.busy": "2023-10-29T23:34:07.629099Z",
     "iopub.status.idle": "2023-10-29T23:34:07.632440Z",
     "shell.execute_reply": "2023-10-29T23:34:07.631911Z"
    },
    "papermill": {
     "duration": 0.00946,
     "end_time": "2023-10-29T23:34:07.634208",
     "exception": false,
     "start_time": "2023-10-29T23:34:07.624748",
     "status": "completed"
    },
    "tags": []
   },
   "outputs": [],
   "source": [
    "algor_selector=eval(eval_selector)\n",
    "algor_clasifier=eval(eval_clasifier)"
   ]
  },
  {
   "cell_type": "markdown",
   "id": "45da6152",
   "metadata": {
    "papermill": {
     "duration": 0.004832,
     "end_time": "2023-10-29T23:34:07.644692",
     "exception": false,
     "start_time": "2023-10-29T23:34:07.639860",
     "status": "completed"
    },
    "tags": []
   },
   "source": [
    "#### Comprobar el entorno y leer fichero de muestras"
   ]
  },
  {
   "cell_type": "code",
   "execution_count": 6,
   "id": "869cde9d",
   "metadata": {
    "execution": {
     "iopub.execute_input": "2023-10-29T23:34:07.653108Z",
     "iopub.status.busy": "2023-10-29T23:34:07.652726Z",
     "iopub.status.idle": "2023-10-29T23:34:07.896050Z",
     "shell.execute_reply": "2023-10-29T23:34:07.895412Z"
    },
    "papermill": {
     "duration": 0.249181,
     "end_time": "2023-10-29T23:34:07.897440",
     "exception": false,
     "start_time": "2023-10-29T23:34:07.648259",
     "status": "completed"
    },
    "tags": []
   },
   "outputs": [
    {
     "name": "stdout",
     "output_type": "stream",
     "text": [
      "20231030T003407 : enderlab : INFO : Encontrada carpeta DATA_DIR=../tfm_git/datos\n",
      "20231030T003407 : enderlab : INFO : Encontrada carpeta CFDNA_DIR=../tfm_git/datos/cfDNA_5hmC\n",
      "20231030T003407 : enderlab : INFO : Encontrada carpeta GENCODE_DIR=../tfm_git/datos/gencode\n",
      "20231030T003407 : enderlab : INFO : Encontrada carpeta H5_DIR=../tfm_git/datos/h5\n",
      "20231030T003407 : enderlab : INFO : Encontrada carpeta LOG_DIR=../tfm_git/datos/logs\n",
      "20231030T003407 : enderlab : INFO : Encontrada carpeta CSV_DIR=../tfm_git/datos/csv\n",
      "20231030T003407 : enderlab : INFO : Encontrada carpeta MODEL_DIR=../tfm_git/ejecuciones/modelos\n",
      "20231030T003407 : enderlab : INFO : Encontrada carpeta EXEC_DIR=../tfm_git/ejecuciones\n",
      "20231030T003407 : enderlab : INFO : Encontrada carpeta MET_DIR=../tfm_git/ejecuciones/metricas\n",
      "20231030T003407 : enderlab : INFO : Inicio leer fichero h5 ../tfm_git/datos/h5/rows_transpose_norm_by_gene_id_with_target_num_mul_m.h5\n",
      "20231030T003407 : enderlab : INFO : Leyendo clave /df\n"
     ]
    },
    {
     "name": "stdout",
     "output_type": "stream",
     "text": [
      "20231030T003407 : enderlab : INFO : Tamaño (434, 18876)\n",
      "20231030T003407 : enderlab : INFO : Fin leer fichero h5 ../tfm_git/datos/h5/rows_transpose_norm_by_gene_id_with_target_num_mul_m.h5\n"
     ]
    },
    {
     "data": {
      "text/plain": [
       "target\n",
       "0    62\n",
       "1    62\n",
       "2    62\n",
       "3    62\n",
       "4    62\n",
       "5    62\n",
       "6    62\n",
       "dtype: int64"
      ]
     },
     "metadata": {},
     "output_type": "display_data"
    },
    {
     "name": "stdout",
     "output_type": "stream",
     "text": [
      "Shape df: (434, 18876)\n"
     ]
    },
    {
     "name": "stdout",
     "output_type": "stream",
     "text": [
      "Shape X_train: (347, 18875)\n",
      "Shape X_test: (87, 18875)\n"
     ]
    }
   ],
   "source": [
    "start_time = datetime.datetime.now()\n",
    "\n",
    "myfunc.reset_vars()\n",
    "\n",
    "myfunc.NOTEBK_FILENAME = myfunc.get_nb_name()\n",
    "\n",
    "myfunc.check_enviroment(myfunc.DATA_DIR, myfunc.CFDNA_DIR, myfunc.GENCODE_DIR, myfunc.H5_DIR, myfunc.LOG_DIR, myfunc.CSV_DIR, myfunc.MODEL_DIR, myfunc.EXEC_DIR, myfunc.MET_DIR)\n",
    "\n",
    "# Leer fichero con las muestras\n",
    "df_t = myfunc.read_h5_to_df(DATA_FILE, myfunc.H5_DIR)\n",
    "display(df_t.groupby(\"target\").size())\n",
    "print(\"Shape df:\",df_t.shape)\n",
    "\n",
    "# Separar caracteristicas/genes de las etiquetas/tipos de cáncer\n",
    "X = df_t.iloc[:, :-1]  # Todas las columnas excepto la última\n",
    "y = df_t.iloc[:, -1]  # La última columna contiene los identificadores de los tipos de cáncer\n",
    "\n",
    "#  Crear el conjunto de datos de entrenamiento y de pruebas, y se fija la semilla para siempre coger el mismo juego de muestras\n",
    "X_train, X_test, y_train, y_test = train_test_split(X, y, test_size=0.2, shuffle=True, random_state=42)\n",
    "print(\"Shape X_train:\",X_train.shape)\n",
    "print(\"Shape X_test:\",X_test.shape)\n"
   ]
  },
  {
   "cell_type": "markdown",
   "id": "a5538b5c",
   "metadata": {
    "papermill": {
     "duration": 0.004166,
     "end_time": "2023-10-29T23:34:07.906091",
     "exception": false,
     "start_time": "2023-10-29T23:34:07.901925",
     "status": "completed"
    },
    "tags": []
   },
   "source": [
    "#### Selección de características y clasificación."
   ]
  },
  {
   "cell_type": "code",
   "execution_count": 7,
   "id": "015b7198",
   "metadata": {
    "execution": {
     "iopub.execute_input": "2023-10-29T23:34:07.915851Z",
     "iopub.status.busy": "2023-10-29T23:34:07.915564Z",
     "iopub.status.idle": "2023-10-29T23:34:28.376950Z",
     "shell.execute_reply": "2023-10-29T23:34:28.375837Z"
    },
    "papermill": {
     "duration": 20.469559,
     "end_time": "2023-10-29T23:34:28.379634",
     "exception": false,
     "start_time": "2023-10-29T23:34:07.910075",
     "status": "completed"
    },
    "tags": []
   },
   "outputs": [
    {
     "name": "stdout",
     "output_type": "stream",
     "text": [
      "20231030T003407 : enderlab : INFO : Iniciando entrenamiento\n",
      "num_iter: 1 , max_iter: 1\n",
      "Fitting 5 folds for each of 1 candidates, totalling 5 fits\n"
     ]
    },
    {
     "name": "stdout",
     "output_type": "stream",
     "text": [
      "Mejores Hiperparámetros: {'selector__max_features': 200, 'selector__estimator__n_estimators': 400, 'clasifier__kernel': 'rbf', 'clasifier__gamma': 0.01, 'clasifier__C': 10}\n",
      "Mejor Puntuación: 0.8580\n",
      "20231030T003428 : enderlab : INFO : Fin entrenamiento\n"
     ]
    }
   ],
   "source": [
    "myfunc.verbose(\"Iniciando entrenamiento\")\n",
    "\n",
    "kf = KFold(n_splits=5, shuffle=True, random_state=SEMILLA)\n",
    "\n",
    "# Crear el pipeline para el flujo de tareas\n",
    "tasks_pipeline = Pipeline([\n",
    "    ('selector', algor_selector),\n",
    "    ('clasifier', algor_clasifier)\n",
    "])\n",
    "\n",
    "# MAX_ITERS puede limitar el número de iteraciones si son excesivas para las combinaciones de parámetros buscando un óptimo local, \n",
    "# sino funcionaría como GridSearchCV al revisar todas las cominaciones de los parámetros\n",
    "num_iteraciones = 1\n",
    "num_iteraciones = num_iteraciones * np.prod([len(elemento1) for _, elemento1 in param_distributions.items()])\n",
    "max_iteraciones = num_iteraciones if num_iteraciones <= MAX_ITERS else MAX_ITERS\n",
    "print(\"num_iter:\",num_iteraciones,\", max_iter:\",max_iteraciones)\n",
    "\n",
    "random_search = RandomizedSearchCV(\n",
    "    tasks_pipeline, \n",
    "    param_distributions, \n",
    "    n_iter=max_iteraciones,\n",
    "    scoring=SCORING,\n",
    "    cv=kf,\n",
    "    verbose=3, \n",
    "    random_state=SEMILLA, \n",
    "    n_jobs=-1\n",
    "    )\n",
    "\n",
    "# Entrenar el modelo\n",
    "random_search.fit(X_train, y_train)\n",
    "\n",
    "# Ver los mejores hiperparámetros encontrados\n",
    "print(f'Mejores Hiperparámetros: {random_search.best_params_}')\n",
    "print(f'Mejor Puntuación: {random_search.best_score_:.4f}')\n",
    "\n",
    "# Nos quedamos con el mejor modelo para ver las métricas\n",
    "mejor_modelo = random_search.best_estimator_\n",
    "\n",
    "myfunc.verbose(\"Fin entrenamiento\")"
   ]
  },
  {
   "cell_type": "markdown",
   "id": "982e5107",
   "metadata": {
    "papermill": {
     "duration": 0.004211,
     "end_time": "2023-10-29T23:34:28.388491",
     "exception": false,
     "start_time": "2023-10-29T23:34:28.384280",
     "status": "completed"
    },
    "tags": []
   },
   "source": [
    "#### Guardar modelo"
   ]
  },
  {
   "cell_type": "code",
   "execution_count": 8,
   "id": "eef01736",
   "metadata": {
    "execution": {
     "iopub.execute_input": "2023-10-29T23:34:28.398101Z",
     "iopub.status.busy": "2023-10-29T23:34:28.397733Z",
     "iopub.status.idle": "2023-10-29T23:34:28.558203Z",
     "shell.execute_reply": "2023-10-29T23:34:28.557602Z"
    },
    "papermill": {
     "duration": 0.166934,
     "end_time": "2023-10-29T23:34:28.559488",
     "exception": false,
     "start_time": "2023-10-29T23:34:28.392554",
     "status": "completed"
    },
    "tags": []
   },
   "outputs": [
    {
     "name": "stdout",
     "output_type": "stream",
     "text": [
      "20231030T003428 : enderlab : INFO : Inicio guardar fichero ../tfm_git/ejecuciones/modelos/modelo_8270_mul_m_RF_SVM.pkl\n",
      "20231030T003428 : enderlab : INFO : Fin guardar fichero ../tfm_git/ejecuciones/modelos/modelo_8270_mul_m_RF_SVM.pkl\n"
     ]
    }
   ],
   "source": [
    "fichero_modelo = str.replace(\"modelo_\"+str(SEMILLA).zfill(4)+\"_\"+M_TIPO+\"_\"+M_SELECT+\"_\"+M_CLASIF+\".pkl\", \" \", \"_\")\n",
    "\n",
    "myfunc.save_modelo(mejor_modelo, myfunc.MODEL_DIR, fichero_modelo)"
   ]
  },
  {
   "cell_type": "markdown",
   "id": "ac98dac0",
   "metadata": {
    "papermill": {
     "duration": 0.004254,
     "end_time": "2023-10-29T23:34:28.568631",
     "exception": false,
     "start_time": "2023-10-29T23:34:28.564377",
     "status": "completed"
    },
    "tags": []
   },
   "source": [
    "#### Ver resultados del las iteraciones hechas por RandomSearchCV"
   ]
  },
  {
   "cell_type": "code",
   "execution_count": 9,
   "id": "0f9512b0",
   "metadata": {
    "execution": {
     "iopub.execute_input": "2023-10-29T23:34:28.578318Z",
     "iopub.status.busy": "2023-10-29T23:34:28.577785Z",
     "iopub.status.idle": "2023-10-29T23:34:28.584536Z",
     "shell.execute_reply": "2023-10-29T23:34:28.584003Z"
    },
    "papermill": {
     "duration": 0.012942,
     "end_time": "2023-10-29T23:34:28.585705",
     "exception": false,
     "start_time": "2023-10-29T23:34:28.572763",
     "status": "completed"
    },
    "tags": []
   },
   "outputs": [
    {
     "name": "stdout",
     "output_type": "stream",
     "text": [
      "20231030T003428 : enderlab : INFO : Inicio ver resultados\n",
      "Mejores Hiperparámetros: {'selector__max_features': 200, 'selector__estimator__n_estimators': 400, 'clasifier__kernel': 'rbf', 'clasifier__gamma': 0.01, 'clasifier__C': 10}\n",
      "Mejores puntuaciones: 0.8580 | Params: {'selector__max_features': 200, 'selector__estimator__n_estimators': 400, 'clasifier__kernel': 'rbf', 'clasifier__gamma': 0.01, 'clasifier__C': 10}\n",
      "Media de las puntuaciones: 0.8580 | Params: {'selector__max_features': 200, 'selector__estimator__n_estimators': 400, 'clasifier__kernel': 'rbf', 'clasifier__gamma': 0.01, 'clasifier__C': 10}\n",
      "20231030T003428 : enderlab : INFO : Fin resultados\n"
     ]
    }
   ],
   "source": [
    "myfunc.ver_resultados_search(random_search)"
   ]
  },
  {
   "cell_type": "markdown",
   "id": "93b38889",
   "metadata": {
    "papermill": {
     "duration": 0.004206,
     "end_time": "2023-10-29T23:34:28.594053",
     "exception": false,
     "start_time": "2023-10-29T23:34:28.589847",
     "status": "completed"
    },
    "tags": []
   },
   "source": [
    "#### Ver métricas del mejor modelo"
   ]
  },
  {
   "cell_type": "code",
   "execution_count": 10,
   "id": "5160add6",
   "metadata": {
    "execution": {
     "iopub.execute_input": "2023-10-29T23:34:28.603548Z",
     "iopub.status.busy": "2023-10-29T23:34:28.603164Z",
     "iopub.status.idle": "2023-10-29T23:34:29.768233Z",
     "shell.execute_reply": "2023-10-29T23:34:29.767632Z"
    },
    "papermill": {
     "duration": 1.171827,
     "end_time": "2023-10-29T23:34:29.770120",
     "exception": false,
     "start_time": "2023-10-29T23:34:28.598293",
     "status": "completed"
    },
    "tags": []
   },
   "outputs": [
    {
     "name": "stdout",
     "output_type": "stream",
     "text": [
      "20231030T003428 : enderlab : INFO : Inicio ver métricas multiclase\n"
     ]
    },
    {
     "name": "stdout",
     "output_type": "stream",
     "text": [
      "              precision    recall  f1-score   support\n",
      "\n",
      "           0       0.38      0.19      0.25        16\n",
      "           1       0.69      0.60      0.64        15\n",
      "           2       0.56      0.45      0.50        11\n",
      "           3       0.21      0.60      0.32         5\n",
      "           4       0.64      0.69      0.67        13\n",
      "           5       0.64      0.78      0.70         9\n",
      "           6       0.61      0.61      0.61        18\n",
      "\n",
      "    accuracy                           0.54        87\n",
      "   macro avg       0.53      0.56      0.53        87\n",
      "weighted avg       0.56      0.54      0.54        87\n",
      "\n",
      "\n",
      "\n",
      "           Exactitud: 0.540230\n",
      "   Precisión (media): 0.532497\n",
      "      Recall (media): 0.560463\n",
      "    F1-score (media): 0.526632\n",
      "\n",
      "\n",
      "AUC para el tipo de cáncer 0-Control.... 0.7016\n",
      "AUC para el tipo de cáncer 1-Bladder.... 0.9083\n",
      "AUC para el tipo de cáncer 2-Breast..... 0.7249\n",
      "AUC para el tipo de cáncer 3-Colorectal. 0.8829\n",
      "AUC para el tipo de cáncer 4-Kidney..... 0.8399\n",
      "AUC para el tipo de cáncer 5-Lung....... 0.9558\n",
      "AUC para el tipo de cáncer 6-Prostate... 0.8502\n",
      "\n",
      "Media de AUC: 0.8377\n"
     ]
    },
    {
     "data": {
      "image/png": "[encoded data removed]",
      "text/plain": [
       "<Figure size 1000x600 with 1 Axes>"
      ]
     },
     "metadata": {},
     "output_type": "display_data"
    },
    {
     "name": "stdout",
     "output_type": "stream",
     "text": [
      "\n",
      "\n"
     ]
    },
    {
     "data": {
      "image/png": "[encoded data removed]",
      "text/plain": [
       "<Figure size 800x400 with 2 Axes>"
      ]
     },
     "metadata": {},
     "output_type": "display_data"
    },
    {
     "name": "stdout",
     "output_type": "stream",
     "text": [
      "\n",
      "\n",
      "Puntuación Jaccard para el cáncer tipo 0-Control.... 0.1429\n",
      "Puntuación Jaccard para el cáncer tipo 1-Bladder.... 0.4737\n",
      "Puntuación Jaccard para el cáncer tipo 2-Breast..... 0.3333\n",
      "Puntuación Jaccard para el cáncer tipo 3-Colorectal. 0.1875\n",
      "Puntuación Jaccard para el cáncer tipo 4-Kidney..... 0.5000\n",
      "Puntuación Jaccard para el cáncer tipo 5-Lung....... 0.5385\n",
      "Puntuación Jaccard para el cáncer tipo 6-Prostate... 0.4400\n",
      "\n",
      "Media de la puntuación de Jaccard: 0.3737\n"
     ]
    }
   ],
   "source": [
    "if M_TIPO.startswith(\"bin\"):\n",
    "    myfunc.ver_metricas(mejor_modelo, X_test, y_test)\n",
    "else:\n",
    "    myfunc.ver_metricas_multi(mejor_modelo, X_test, y_test)\n"
   ]
  },
  {
   "cell_type": "markdown",
   "id": "1ddfbcbc",
   "metadata": {
    "papermill": {
     "duration": 0.007123,
     "end_time": "2023-10-29T23:34:29.787446",
     "exception": false,
     "start_time": "2023-10-29T23:34:29.780323",
     "status": "completed"
    },
    "tags": []
   },
   "source": [
    "#### Finalización del notebook"
   ]
  },
  {
   "cell_type": "code",
   "execution_count": 11,
   "id": "ba4fa167",
   "metadata": {
    "execution": {
     "iopub.execute_input": "2023-10-29T23:34:29.801202Z",
     "iopub.status.busy": "2023-10-29T23:34:29.800546Z",
     "iopub.status.idle": "2023-10-29T23:34:29.804494Z",
     "shell.execute_reply": "2023-10-29T23:34:29.803942Z"
    },
    "papermill": {
     "duration": 0.012423,
     "end_time": "2023-10-29T23:34:29.805721",
     "exception": false,
     "start_time": "2023-10-29T23:34:29.793298",
     "status": "completed"
    },
    "tags": []
   },
   "outputs": [
    {
     "name": "stdout",
     "output_type": "stream",
     "text": [
      "20231030T003429 : enderlab : INFO : Notebook ha tardado 22 seconds\n"
     ]
    }
   ],
   "source": [
    "end_time = datetime.datetime.now()\n",
    "total_time = end_time - start_time\n",
    "myfunc.verbose(f\"Notebook ha tardado {total_time.seconds} seconds\")"
   ]
  },
  {
   "cell_type": "markdown",
   "id": "c63718aa",
   "metadata": {
    "papermill": {
     "duration": 0.005802,
     "end_time": "2023-10-29T23:34:29.817368",
     "exception": false,
     "start_time": "2023-10-29T23:34:29.811566",
     "status": "completed"
    },
    "tags": []
   },
   "source": [
    "#### Guardar métricas"
   ]
  },
  {
   "cell_type": "code",
   "execution_count": 12,
   "id": "098a964f",
   "metadata": {
    "execution": {
     "iopub.execute_input": "2023-10-29T23:34:29.830527Z",
     "iopub.status.busy": "2023-10-29T23:34:29.830005Z",
     "iopub.status.idle": "2023-10-29T23:34:30.766139Z",
     "shell.execute_reply": "2023-10-29T23:34:30.765549Z"
    },
    "papermill": {
     "duration": 0.944223,
     "end_time": "2023-10-29T23:34:30.767534",
     "exception": false,
     "start_time": "2023-10-29T23:34:29.823311",
     "status": "completed"
    },
    "tags": []
   },
   "outputs": [
    {
     "name": "stdout",
     "output_type": "stream",
     "text": [
      "20231030T003430 : enderlab : INFO : Inicio guardar métricas multiclase\n",
      "20231030T003430 : enderlab : INFO : Inicio leer fichero ../tfm_git/ejecuciones/metricas/metricas_8270.csv\n",
      "20231030T003430 : enderlab : INFO : Fin leer fichero ../tfm_git/ejecuciones/metricas/metricas_8270.csv\n"
     ]
    },
    {
     "name": "stdout",
     "output_type": "stream",
     "text": [
      "20231030T003430 : enderlab : INFO : Inicio guardar fichero ../tfm_git/ejecuciones/metricas/metricas_8270.csv\n",
      "20231030T003430 : enderlab : INFO : Fichero borrado ../tfm_git/ejecuciones/metricas/metricas_8270.csv\n",
      "20231030T003430 : enderlab : INFO : Fin guardar fichero ../tfm_git/ejecuciones/metricas/metricas_8270.csv\n",
      "20231030T003430 : enderlab : INFO : Fin guardar métricas multiclase\n",
      "20231030T003430 : enderlab : INFO : Inicio leer fichero ../tfm_git/ejecuciones/metricas/metricas_8270.csv\n",
      "20231030T003430 : enderlab : INFO : Fin leer fichero ../tfm_git/ejecuciones/metricas/metricas_8270.csv\n"
     ]
    },
    {
     "data": {
      "text/html": [
       "<div>\n",
       "<style scoped>\n",
       "    .dataframe tbody tr th:only-of-type {\n",
       "        vertical-align: middle;\n",
       "    }\n",
       "\n",
       "    .dataframe tbody tr th {\n",
       "        vertical-align: top;\n",
       "    }\n",
       "\n",
       "    .dataframe thead th {\n",
       "        text-align: right;\n",
       "    }\n",
       "</style>\n",
       "<table border=\"1\" class=\"dataframe\">\n",
       "  <thead>\n",
       "    <tr style=\"text-align: right;\">\n",
       "      <th></th>\n",
       "      <th>tipo</th>\n",
       "      <th>select</th>\n",
       "      <th>clasific</th>\n",
       "      <th>semilla</th>\n",
       "      <th>accuracy</th>\n",
       "      <th>precision</th>\n",
       "      <th>recall</th>\n",
       "      <th>f1_score</th>\n",
       "      <th>roc_auc</th>\n",
       "      <th>hostname</th>\n",
       "      <th>total_time_sec</th>\n",
       "      <th>datetime</th>\n",
       "      <th>fichero_modelo</th>\n",
       "      <th>params</th>\n",
       "      <th>shape</th>\n",
       "      <th>features</th>\n",
       "      <th>roc_auc_ovr</th>\n",
       "      <th>indices_auc</th>\n",
       "      <th>indices_jaccard</th>\n",
       "    </tr>\n",
       "  </thead>\n",
       "  <tbody>\n",
       "    <tr>\n",
       "      <th>0</th>\n",
       "      <td>mul_m</td>\n",
       "      <td>RF</td>\n",
       "      <td>SVM</td>\n",
       "      <td>8270</td>\n",
       "      <td>0.540230</td>\n",
       "      <td>0.532497</td>\n",
       "      <td>0.560463</td>\n",
       "      <td>0.526632</td>\n",
       "      <td>NaN</td>\n",
       "      <td>enderlab</td>\n",
       "      <td>22</td>\n",
       "      <td>2023-10-30 00:34:30.716151</td>\n",
       "      <td>modelo_8270_mul_m_RF_SVM.pkl</td>\n",
       "      <td>{'selector__max_features': 200, 'selector__est...</td>\n",
       "      <td>X_test:(87, 18875)</td>\n",
       "      <td>['ENSG00000011465.18', 'ENSG00000018236.15', '...</td>\n",
       "      <td>0.837675</td>\n",
       "      <td>[0.7015845070422536, 0.9083333333333333, 0.724...</td>\n",
       "      <td>[0.14285714285714285, 0.47368421052631576, 0.3...</td>\n",
       "    </tr>\n",
       "    <tr>\n",
       "      <th>0</th>\n",
       "      <td>mul_m</td>\n",
       "      <td>RF</td>\n",
       "      <td>RF</td>\n",
       "      <td>8270</td>\n",
       "      <td>0.505747</td>\n",
       "      <td>0.433260</td>\n",
       "      <td>0.554312</td>\n",
       "      <td>0.473996</td>\n",
       "      <td>NaN</td>\n",
       "      <td>enderlab</td>\n",
       "      <td>30</td>\n",
       "      <td>2023-10-30 00:34:00.860327</td>\n",
       "      <td>modelo_8270_mul_m_RF_RF.pkl</td>\n",
       "      <td>{'selector__max_features': 500, 'selector__est...</td>\n",
       "      <td>X_test:(87, 18875)</td>\n",
       "      <td>['ENSG00000006327.14', 'ENSG00000010030.14', '...</td>\n",
       "      <td>0.831170</td>\n",
       "      <td>[0.6434859154929577, 0.8805555555555556, 0.806...</td>\n",
       "      <td>[0.0, 0.45, 0.2777777777777778, 0.285714285714...</td>\n",
       "    </tr>\n",
       "    <tr>\n",
       "      <th>0</th>\n",
       "      <td>mul_m</td>\n",
       "      <td>RF</td>\n",
       "      <td>LR_L2</td>\n",
       "      <td>8270</td>\n",
       "      <td>0.517241</td>\n",
       "      <td>0.522817</td>\n",
       "      <td>0.567822</td>\n",
       "      <td>0.513707</td>\n",
       "      <td>NaN</td>\n",
       "      <td>enderlab</td>\n",
       "      <td>45</td>\n",
       "      <td>2023-10-30 00:33:23.199921</td>\n",
       "      <td>modelo_8270_mul_m_RF_LR_L2.pkl</td>\n",
       "      <td>{'selector__max_features': 1000, 'selector__es...</td>\n",
       "      <td>X_test:(87, 18875)</td>\n",
       "      <td>['ENSG00000002933.9', 'ENSG00000006468.15', 'E...</td>\n",
       "      <td>0.852136</td>\n",
       "      <td>[0.6963028169014085, 0.8759259259259259, 0.711...</td>\n",
       "      <td>[0.14285714285714285, 0.5, 0.15, 0.3125, 0.562...</td>\n",
       "    </tr>\n",
       "  </tbody>\n",
       "</table>\n",
       "</div>"
      ],
      "text/plain": [
       "    tipo select clasific  semilla  accuracy  precision    recall  f1_score  \\\n",
       "0  mul_m     RF      SVM     8270  0.540230   0.532497  0.560463  0.526632   \n",
       "0  mul_m     RF       RF     8270  0.505747   0.433260  0.554312  0.473996   \n",
       "0  mul_m     RF    LR_L2     8270  0.517241   0.522817  0.567822  0.513707   \n",
       "\n",
       "   roc_auc  hostname  total_time_sec                    datetime  \\\n",
       "0      NaN  enderlab              22  2023-10-30 00:34:30.716151   \n",
       "0      NaN  enderlab              30  2023-10-30 00:34:00.860327   \n",
       "0      NaN  enderlab              45  2023-10-30 00:33:23.199921   \n",
       "\n",
       "                   fichero_modelo  \\\n",
       "0    modelo_8270_mul_m_RF_SVM.pkl   \n",
       "0     modelo_8270_mul_m_RF_RF.pkl   \n",
       "0  modelo_8270_mul_m_RF_LR_L2.pkl   \n",
       "\n",
       "                                              params               shape  \\\n",
       "0  {'selector__max_features': 200, 'selector__est...  X_test:(87, 18875)   \n",
       "0  {'selector__max_features': 500, 'selector__est...  X_test:(87, 18875)   \n",
       "0  {'selector__max_features': 1000, 'selector__es...  X_test:(87, 18875)   \n",
       "\n",
       "                                            features  roc_auc_ovr  \\\n",
       "0  ['ENSG00000011465.18', 'ENSG00000018236.15', '...     0.837675   \n",
       "0  ['ENSG00000006327.14', 'ENSG00000010030.14', '...     0.831170   \n",
       "0  ['ENSG00000002933.9', 'ENSG00000006468.15', 'E...     0.852136   \n",
       "\n",
       "                                         indices_auc  \\\n",
       "0  [0.7015845070422536, 0.9083333333333333, 0.724...   \n",
       "0  [0.6434859154929577, 0.8805555555555556, 0.806...   \n",
       "0  [0.6963028169014085, 0.8759259259259259, 0.711...   \n",
       "\n",
       "                                     indices_jaccard  \n",
       "0  [0.14285714285714285, 0.47368421052631576, 0.3...  \n",
       "0  [0.0, 0.45, 0.2777777777777778, 0.285714285714...  \n",
       "0  [0.14285714285714285, 0.5, 0.15, 0.3125, 0.562...  "
      ]
     },
     "metadata": {},
     "output_type": "display_data"
    }
   ],
   "source": [
    "if M_TIPO.startswith(\"bin\"):\n",
    "    myfunc.save_metricas_to_csv(random_search, X_test, y_test, M_TIPO, M_SELECT, M_CLASIF, total_time, SEMILLA, myfunc.MET_DIR, M_FICHERO, fichero_modelo)\n",
    "else:\n",
    "    myfunc.save_metricas_multi_to_csv(random_search, X_test, y_test, M_TIPO, M_SELECT, M_CLASIF, total_time, SEMILLA, myfunc.MET_DIR, M_FICHERO, fichero_modelo)\n",
    "\n",
    "df1=myfunc.read_metricas_to_df(myfunc.MET_DIR,M_FICHERO)\n",
    "\n",
    "display(df1.sort_values(\"datetime\", ascending=False)[:3])\n"
   ]
  },
  {
   "cell_type": "markdown",
   "id": "43e489f4",
   "metadata": {
    "papermill": {
     "duration": 0.006282,
     "end_time": "2023-10-29T23:34:30.781048",
     "exception": false,
     "start_time": "2023-10-29T23:34:30.774766",
     "status": "completed"
    },
    "tags": []
   },
   "source": [
    "#### Guardar resultados"
   ]
  },
  {
   "cell_type": "code",
   "execution_count": 13,
   "id": "fca53015",
   "metadata": {
    "execution": {
     "iopub.execute_input": "2023-10-29T23:34:30.794900Z",
     "iopub.status.busy": "2023-10-29T23:34:30.794282Z",
     "iopub.status.idle": "2023-10-29T23:34:30.804301Z",
     "shell.execute_reply": "2023-10-29T23:34:30.803726Z"
    },
    "papermill": {
     "duration": 0.01833,
     "end_time": "2023-10-29T23:34:30.805576",
     "exception": false,
     "start_time": "2023-10-29T23:34:30.787246",
     "status": "completed"
    },
    "tags": []
   },
   "outputs": [
    {
     "name": "stdout",
     "output_type": "stream",
     "text": [
      "20231030T003430 : enderlab : INFO : Inicio guardar resultados\n",
      "20231030T003430 : enderlab : INFO : Inicio guardar fichero ../tfm_git/ejecuciones/metricas/resultados_8270_mul_m-RF-SVM.csv\n",
      "20231030T003430 : enderlab : INFO : Fin guardar fichero ../tfm_git/ejecuciones/metricas/resultados_8270_mul_m-RF-SVM.csv\n",
      "20231030T003430 : enderlab : INFO : Fin guardar resultados\n"
     ]
    }
   ],
   "source": [
    "fichero_resultados=R_FICHERO+\"_\"+M_TIPO+\"-\"+M_SELECT+\"-\"+M_CLASIF+\".csv\"\n",
    "myfunc.save_resultados_to_csv(M_TIPO, M_SELECT, M_CLASIF,  random_search, myfunc.MET_DIR, fichero_resultados)\n"
   ]
  }
 ],
 "metadata": {
  "kernelspec": {
   "display_name": "Python 3 (ipykernel)",
   "language": "python",
   "name": "python3"
  },
  "language_info": {
   "codemirror_mode": {
    "name": "ipython",
    "version": 3
   },
   "file_extension": ".py",
   "mimetype": "text/x-python",
   "name": "python",
   "nbconvert_exporter": "python",
   "pygments_lexer": "ipython3",
   "version": "3.10.11"
  },
  "papermill": {
   "default_parameters": {},
   "duration": 28.212999,
   "end_time": "2023-10-29T23:34:33.429336",
   "environment_variables": {},
   "exception": null,
   "input_path": "03_entrenamiento.ipynb",
   "output_path": "ejecuciones/training/03_entrenamiento.20231030T003404.param_0000_8270_mul_m_RF_SVM.output.ipynb",
   "parameters": {
    "MAX_ITERS": 500,
    "M_CLASIF": "SVM",
    "M_FICHERO": "metricas_8270",
    "M_SELECT": "RF",
    "M_TIPO": "mul_m",
    "PRE_DATA_FILE": "rows_transpose_norm_by_gene_id_with_target_num_",
    "P_FICHERO": "param_0000_8270_mul_m_RF_SVM.yaml",
    "R_FICHERO": "resultados_8270",
    "SCORING": "roc_auc_ovr",
    "SEMILLA": 8270,
    "eval_clasifier": "SVC(probability=True, random_state=SEMILLA)",
    "eval_selector": "SelectFromModel(estimator=RandomForestClassifier(random_state=SEMILLA), threshold=-np.inf)",
    "param_distributions": {
     "clasifier__C": [
      10
     ],
     "clasifier__gamma": [
      0.01
     ],
     "clasifier__kernel": [
      "rbf"
     ],
     "selector__estimator__n_estimators": [
      400
     ],
     "selector__max_features": [
      200
     ]
    }
   },
   "start_time": "2023-10-29T23:34:05.216337",
   "version": "2.4.0"
  }
 },
 "nbformat": 4,
 "nbformat_minor": 5
}