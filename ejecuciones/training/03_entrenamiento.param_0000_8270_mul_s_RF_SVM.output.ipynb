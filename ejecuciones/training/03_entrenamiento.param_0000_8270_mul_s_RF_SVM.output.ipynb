{
 "cells": [
  {
   "cell_type": "markdown",
   "id": "185ff888",
   "metadata": {
    "papermill": {
     "duration": 0.005264,
     "end_time": "2023-10-30T01:34:03.989218",
     "exception": false,
     "start_time": "2023-10-30T01:34:03.983954",
     "status": "completed"
    },
    "tags": []
   },
   "source": [
    "##### Inicio"
   ]
  },
  {
   "cell_type": "markdown",
   "id": "8c137242",
   "metadata": {
    "papermill": {
     "duration": 0.00337,
     "end_time": "2023-10-30T01:34:03.996286",
     "exception": false,
     "start_time": "2023-10-30T01:34:03.992916",
     "status": "completed"
    },
    "tags": []
   },
   "source": [
    "#### Carga de datos"
   ]
  },
  {
   "cell_type": "code",
   "execution_count": 1,
   "id": "6c6039f7",
   "metadata": {
    "execution": {
     "iopub.execute_input": "2023-10-30T01:34:04.004593Z",
     "iopub.status.busy": "2023-10-30T01:34:04.004002Z",
     "iopub.status.idle": "2023-10-30T01:34:05.105725Z",
     "shell.execute_reply": "2023-10-30T01:34:05.105091Z"
    },
    "papermill": {
     "duration": 1.107358,
     "end_time": "2023-10-30T01:34:05.107088",
     "exception": false,
     "start_time": "2023-10-30T01:34:03.999730",
     "status": "completed"
    },
    "tags": []
   },
   "outputs": [
    {
     "name": "stdout",
     "output_type": "stream",
     "text": [
      "CPU_COUNT: 16; NODE: enderlab; sys.version: 3.10.11 (main, May 16 2023, 00:28:57) [GCC 11.2.0]\n",
      "LOKY_MAX_CPU_COUNT is not set.\n",
      "OMP_NUM_THREADS is not set.\n"
     ]
    }
   ],
   "source": [
    "import os\n",
    "import numpy as np\n",
    "import pandas as pd\n",
    "import datetime\n",
    "import sklearn\n",
    "import logging\n",
    "import warnings\n",
    "\n",
    "from sklearn.pipeline import Pipeline\n",
    "from sklearn.model_selection import RandomizedSearchCV, KFold, cross_val_score, train_test_split\n",
    "from sklearn.metrics import accuracy_score, confusion_matrix, classification_report, roc_auc_score\n",
    "\n",
    "#  cargar algoritmos para aprendizaje supervisado\n",
    "from sklearn.feature_selection import SelectKBest, f_classif, SelectFromModel, mutual_info_classif\n",
    "from sklearn.svm import SVC\n",
    "from sklearn.ensemble import RandomForestClassifier\n",
    "from sklearn.linear_model import LogisticRegression,LogisticRegressionCV\n",
    "\n",
    "# importar fichero con utilidades propias\n",
    "from commons import myfunctions as myfunc\n"
   ]
  },
  {
   "cell_type": "markdown",
   "id": "a76118c4",
   "metadata": {
    "papermill": {
     "duration": 0.003578,
     "end_time": "2023-10-30T01:34:05.114699",
     "exception": false,
     "start_time": "2023-10-30T01:34:05.111121",
     "status": "completed"
    },
    "tags": []
   },
   "source": [
    "#### Parámetros a utilizar en el entrenamiento.\n",
    "\n",
    "Se indican los 3 algoritmos de *selección de características* (eval_selector_xxx) y los 3 algoritmos para la _clasificación_ (eval_clasifier_xxx)\n",
    "\n",
    "En *param_distributions* se indicar los parámetros que utilizan los algoritmos en la función RandomSearchCV.\n",
    "\n",
    "Esta celda tiene la etiqueta **parameters** que servirá para poder lanzar los entrenamientos con la utilidad **papermill** pasándole un fichero con los parámetros. Los nuevos parámetros se situarán tras esta celda para tener prevalencia."
   ]
  },
  {
   "cell_type": "code",
   "execution_count": 2,
   "id": "e3f674c1",
   "metadata": {
    "execution": {
     "iopub.execute_input": "2023-10-30T01:34:05.122859Z",
     "iopub.status.busy": "2023-10-30T01:34:05.122464Z",
     "iopub.status.idle": "2023-10-30T01:34:05.130932Z",
     "shell.execute_reply": "2023-10-30T01:34:05.130388Z"
    },
    "papermill": {
     "duration": 0.014068,
     "end_time": "2023-10-30T01:34:05.132163",
     "exception": false,
     "start_time": "2023-10-30T01:34:05.118095",
     "status": "completed"
    },
    "tags": [
     "parameters"
    ]
   },
   "outputs": [
    {
     "name": "stdout",
     "output_type": "stream",
     "text": [
      "20231030T023405 : enderlab : INFO : Utilizando parámetros de mul_m\n"
     ]
    }
   ],
   "source": [
    "#  Parametros para el entrenamiento\n",
    "\n",
    "SEMILLA=        42\n",
    "M_TIPO=         \"mul_m\"\n",
    "M_SELECT=       \"MI\"\n",
    "M_CLASIF=       \"SVM\"\n",
    "R_FICHERO=      \"resultados\"\n",
    "M_FICHERO=      \"metricas\"\n",
    "PRE_DATA_FILE=  \"rows_transpose_norm_by_gene_id_with_target_num_\"\n",
    "SCORING=        \"roc_auc_ovr\" \n",
    "MAX_ITERS=      100\n",
    "\n",
    "def mutual_info_classif_state(X, y):\n",
    "    return mutual_info_classif(X, y, random_state=SEMILLA)\n",
    "\n",
    "eval_selector_mi = \"SelectKBest(score_func=mutual_info_classif_state)\"\n",
    "eval_selector_rf=  \"SelectFromModel(estimator=RandomForestClassifier(random_state=SEMILLA), threshold=-np.inf)\"\n",
    "eval_selector_anova=  \"SelectKBest(score_func=f_classif)\"\n",
    "\n",
    "eval_clasifier_svm= \"SVC(probability=True, random_state=SEMILLA)\"\n",
    "eval_clasifier_rf= \"RandomForestClassifier(random_state=SEMILLA)\"\n",
    "eval_clasifier_lr= \"LogisticRegressionCV(random_state=SEMILLA)\"\n",
    "\n",
    "if M_TIPO.startswith(\"bin_m\"):\n",
    "    myfunc.verbose(f\"Utilizando parámetros de {M_TIPO}\")\n",
    "    eval_selector = eval_selector_mi\n",
    "    eval_clasifier = eval_clasifier_svm\n",
    "\n",
    "    SEMILLA = 6578\n",
    "    M_SELECT = \"MI\"\n",
    "    M_CLASIF = \"SVM\"\n",
    "    param_distributions = {'selector__k': [1000], \n",
    "         'clasifier__kernel': ['rbf'], 'clasifier__gamma': [0.01], 'clasifier__C': [100]}\n",
    "elif M_TIPO.startswith(\"bin_s\"):\n",
    "    myfunc.verbose(f\"Utilizando parámetros de {M_TIPO}\")\n",
    "    eval_selector = eval_selector_rf\n",
    "    eval_clasifier = eval_clasifier_lr\n",
    "\n",
    "    SEMILLA = 6191\n",
    "    M_SELECT = \"RF\"\n",
    "    M_CLASIF = \"LR_L2\"\n",
    "    param_distributions = {'selector__max_features': [1000], 'selector__estimator__n_estimators': [200], \n",
    "        'clasifier__solver': ['lbfgs'], 'clasifier__penalty': ['l2'], 'clasifier__max_iter': [10000]}\n",
    "\n",
    "elif M_TIPO.startswith(\"mul_m\"):\n",
    "    myfunc.verbose(f\"Utilizando parámetros de {M_TIPO}\")\n",
    " \n",
    "    eval_selector = eval_selector_rf\n",
    "    eval_clasifier = eval_clasifier_lr\n",
    "\n",
    "    SEMILLA = 6191\n",
    "    M_SELECT = \"RF\"\n",
    "    M_CLASIF = \"LR_L2\"\n",
    "    param_distributions = {'selector__max_features': [1000], 'selector__estimator__n_estimators': [400], \n",
    "        'clasifier__solver': ['lbfgs'], 'clasifier__penalty': ['l2'], 'clasifier__max_iter': [10000]}\n",
    "\n",
    "else:\n",
    "    # M_TIPO.startswith(\"mul_s\"):\n",
    "    myfunc.verbose(f\"Utilizando parámetros de {M_TIPO}\")\n",
    "    eval_selector = eval_selector_anova\n",
    "    eval_clasifier = eval_clasifier_lr\n",
    "\n",
    "    SEMILLA = 1860\n",
    "    M_SELECT = \"ANOVA\"\n",
    "    M_CLASIF = \"LR_L2\"\n",
    "    param_distributions = {'selector__k': [1000], \n",
    "        'clasifier__solver': ['saga'], 'clasifier__penalty': ['l2'], 'clasifier__max_iter': [10000]}\n",
    "\n"
   ]
  },
  {
   "cell_type": "code",
   "execution_count": 3,
   "id": "7e3bce24",
   "metadata": {
    "execution": {
     "iopub.execute_input": "2023-10-30T01:34:05.140711Z",
     "iopub.status.busy": "2023-10-30T01:34:05.140244Z",
     "iopub.status.idle": "2023-10-30T01:34:05.144142Z",
     "shell.execute_reply": "2023-10-30T01:34:05.143632Z"
    },
    "papermill": {
     "duration": 0.009639,
     "end_time": "2023-10-30T01:34:05.145371",
     "exception": false,
     "start_time": "2023-10-30T01:34:05.135732",
     "status": "completed"
    },
    "tags": [
     "injected-parameters"
    ]
   },
   "outputs": [],
   "source": [
    "# Parameters\n",
    "M_TIPO = \"mul_s\"\n",
    "M_SELECT = \"RF\"\n",
    "M_CLASIF = \"SVM\"\n",
    "P_FICHERO = \"param_0000_8270_mul_s_RF_SVM.yaml\"\n",
    "R_FICHERO = \"resultados_8270\"\n",
    "M_FICHERO = \"metricas_8270\"\n",
    "PRE_DATA_FILE = \"rows_transpose_norm_by_gene_id_with_target_num_\"\n",
    "SCORING = \"roc_auc_ovr\"\n",
    "SEMILLA = 8270\n",
    "MAX_ITERS = 500\n",
    "eval_selector = \"SelectFromModel(estimator=RandomForestClassifier(random_state=SEMILLA), threshold=-np.inf)\"\n",
    "eval_clasifier = \"SVC(probability=True, random_state=SEMILLA)\"\n",
    "param_distributions = {\n",
    "    \"selector__max_features\": [200],\n",
    "    \"selector__estimator__n_estimators\": [100],\n",
    "    \"clasifier__kernel\": [\"rbf\"],\n",
    "    \"clasifier__gamma\": [0.01],\n",
    "    \"clasifier__C\": [10],\n",
    "}\n"
   ]
  },
  {
   "cell_type": "code",
   "execution_count": 4,
   "id": "304f1b26",
   "metadata": {
    "execution": {
     "iopub.execute_input": "2023-10-30T01:34:05.153809Z",
     "iopub.status.busy": "2023-10-30T01:34:05.153437Z",
     "iopub.status.idle": "2023-10-30T01:34:05.156664Z",
     "shell.execute_reply": "2023-10-30T01:34:05.156149Z"
    },
    "papermill": {
     "duration": 0.009079,
     "end_time": "2023-10-30T01:34:05.157942",
     "exception": false,
     "start_time": "2023-10-30T01:34:05.148863",
     "status": "completed"
    },
    "tags": []
   },
   "outputs": [],
   "source": [
    "DATA_FILE = PRE_DATA_FILE + M_TIPO\n",
    "\n",
    "# si viene \"None\" en el parámetro max_depth, se le quitan las comillas para que no sea entendido por el algoritmo como un texto\n",
    "if \"clasifier__max_depth\" in param_distributions:\n",
    "    param_distributions['clasifier__max_depth'] = [None if x == 'None' else x for x in param_distributions['clasifier__max_depth']]"
   ]
  },
  {
   "cell_type": "markdown",
   "id": "3caa24bb",
   "metadata": {
    "papermill": {
     "duration": 0.003887,
     "end_time": "2023-10-30T01:34:05.165327",
     "exception": false,
     "start_time": "2023-10-30T01:34:05.161440",
     "status": "completed"
    },
    "tags": []
   },
   "source": [
    "Asignar los algoritmos que se utilizarán en la función RandomSearchCV"
   ]
  },
  {
   "cell_type": "code",
   "execution_count": 5,
   "id": "6af374f4",
   "metadata": {
    "execution": {
     "iopub.execute_input": "2023-10-30T01:34:05.173600Z",
     "iopub.status.busy": "2023-10-30T01:34:05.173260Z",
     "iopub.status.idle": "2023-10-30T01:34:05.176204Z",
     "shell.execute_reply": "2023-10-30T01:34:05.175677Z"
    },
    "papermill": {
     "duration": 0.008286,
     "end_time": "2023-10-30T01:34:05.177394",
     "exception": false,
     "start_time": "2023-10-30T01:34:05.169108",
     "status": "completed"
    },
    "tags": []
   },
   "outputs": [],
   "source": [
    "algor_selector=eval(eval_selector)\n",
    "algor_clasifier=eval(eval_clasifier)"
   ]
  },
  {
   "cell_type": "markdown",
   "id": "95b9ce9c",
   "metadata": {
    "papermill": {
     "duration": 0.003733,
     "end_time": "2023-10-30T01:34:05.184701",
     "exception": false,
     "start_time": "2023-10-30T01:34:05.180968",
     "status": "completed"
    },
    "tags": []
   },
   "source": [
    "#### Comprobar el entorno y leer fichero de muestras"
   ]
  },
  {
   "cell_type": "code",
   "execution_count": 6,
   "id": "c8938c81",
   "metadata": {
    "execution": {
     "iopub.execute_input": "2023-10-30T01:34:05.193079Z",
     "iopub.status.busy": "2023-10-30T01:34:05.192632Z",
     "iopub.status.idle": "2023-10-30T01:34:05.372127Z",
     "shell.execute_reply": "2023-10-30T01:34:05.371517Z"
    },
    "papermill": {
     "duration": 0.185141,
     "end_time": "2023-10-30T01:34:05.373491",
     "exception": false,
     "start_time": "2023-10-30T01:34:05.188350",
     "status": "completed"
    },
    "tags": []
   },
   "outputs": [
    {
     "name": "stdout",
     "output_type": "stream",
     "text": [
      "20231030T023405 : enderlab : INFO : Encontrada carpeta DATA_DIR=../tfm_git/datos\n",
      "20231030T023405 : enderlab : INFO : Encontrada carpeta CFDNA_DIR=../tfm_git/datos/cfDNA_5hmC\n",
      "20231030T023405 : enderlab : INFO : Encontrada carpeta GENCODE_DIR=../tfm_git/datos/gencode\n",
      "20231030T023405 : enderlab : INFO : Encontrada carpeta H5_DIR=../tfm_git/datos/h5\n",
      "20231030T023405 : enderlab : INFO : Encontrada carpeta LOG_DIR=../tfm_git/datos/logs\n",
      "20231030T023405 : enderlab : INFO : Encontrada carpeta CSV_DIR=../tfm_git/datos/csv\n",
      "20231030T023405 : enderlab : INFO : Encontrada carpeta MODEL_DIR=../tfm_git/ejecuciones/modelos\n",
      "20231030T023405 : enderlab : INFO : Encontrada carpeta EXEC_DIR=../tfm_git/ejecuciones\n",
      "20231030T023405 : enderlab : INFO : Encontrada carpeta MET_DIR=../tfm_git/ejecuciones/metricas\n",
      "20231030T023405 : enderlab : INFO : Inicio leer fichero h5 ../tfm_git/datos/h5/rows_transpose_norm_by_gene_id_with_target_num_mul_s.h5\n",
      "20231030T023405 : enderlab : INFO : Leyendo clave /df\n"
     ]
    },
    {
     "name": "stdout",
     "output_type": "stream",
     "text": [
      "20231030T023405 : enderlab : INFO : Tamaño (259, 18876)\n",
      "20231030T023405 : enderlab : INFO : Fin leer fichero h5 ../tfm_git/datos/h5/rows_transpose_norm_by_gene_id_with_target_num_mul_s.h5\n"
     ]
    },
    {
     "data": {
      "text/plain": [
       "target\n",
       "0    37\n",
       "1    37\n",
       "2    37\n",
       "3    37\n",
       "4    37\n",
       "5    37\n",
       "6    37\n",
       "dtype: int64"
      ]
     },
     "metadata": {},
     "output_type": "display_data"
    },
    {
     "name": "stdout",
     "output_type": "stream",
     "text": [
      "Shape df: (259, 18876)\n"
     ]
    },
    {
     "name": "stdout",
     "output_type": "stream",
     "text": [
      "Shape X_train: (207, 18875)\n",
      "Shape X_test: (52, 18875)\n"
     ]
    }
   ],
   "source": [
    "start_time = datetime.datetime.now()\n",
    "\n",
    "myfunc.reset_vars()\n",
    "\n",
    "myfunc.NOTEBK_FILENAME = myfunc.get_nb_name()\n",
    "\n",
    "myfunc.check_enviroment(myfunc.DATA_DIR, myfunc.CFDNA_DIR, myfunc.GENCODE_DIR, myfunc.H5_DIR, myfunc.LOG_DIR, myfunc.CSV_DIR, myfunc.MODEL_DIR, myfunc.EXEC_DIR, myfunc.MET_DIR)\n",
    "\n",
    "# Leer fichero con las muestras\n",
    "df_t = myfunc.read_h5_to_df(DATA_FILE, myfunc.H5_DIR)\n",
    "display(df_t.groupby(\"target\").size())\n",
    "print(\"Shape df:\",df_t.shape)\n",
    "\n",
    "# Separar caracteristicas/genes de las etiquetas/tipos de cáncer\n",
    "X = df_t.iloc[:, :-1]  # Todas las columnas excepto la última\n",
    "y = df_t.iloc[:, -1]  # La última columna contiene los identificadores de los tipos de cáncer\n",
    "\n",
    "#  Crear el conjunto de datos de entrenamiento y de pruebas, y se fija la semilla para siempre coger el mismo juego de muestras\n",
    "X_train, X_test, y_train, y_test = train_test_split(X, y, test_size=0.2, shuffle=True, random_state=42)\n",
    "print(\"Shape X_train:\",X_train.shape)\n",
    "print(\"Shape X_test:\",X_test.shape)\n"
   ]
  },
  {
   "cell_type": "markdown",
   "id": "88d59deb",
   "metadata": {
    "papermill": {
     "duration": 0.004044,
     "end_time": "2023-10-30T01:34:05.382045",
     "exception": false,
     "start_time": "2023-10-30T01:34:05.378001",
     "status": "completed"
    },
    "tags": []
   },
   "source": [
    "#### Selección de características y clasificación."
   ]
  },
  {
   "cell_type": "code",
   "execution_count": 7,
   "id": "052a10db",
   "metadata": {
    "execution": {
     "iopub.execute_input": "2023-10-30T01:34:05.391098Z",
     "iopub.status.busy": "2023-10-30T01:34:05.390673Z",
     "iopub.status.idle": "2023-10-30T01:34:09.699107Z",
     "shell.execute_reply": "2023-10-30T01:34:09.698268Z"
    },
    "papermill": {
     "duration": 4.3148,
     "end_time": "2023-10-30T01:34:09.700771",
     "exception": false,
     "start_time": "2023-10-30T01:34:05.385971",
     "status": "completed"
    },
    "tags": []
   },
   "outputs": [
    {
     "name": "stdout",
     "output_type": "stream",
     "text": [
      "20231030T023405 : enderlab : INFO : Iniciando entrenamiento\n",
      "num_iter: 1 , max_iter: 1\n"
     ]
    },
    {
     "name": "stdout",
     "output_type": "stream",
     "text": [
      "Fitting 5 folds for each of 1 candidates, totalling 5 fits\n"
     ]
    },
    {
     "name": "stdout",
     "output_type": "stream",
     "text": [
      "Mejores Hiperparámetros: {'selector__max_features': 200, 'selector__estimator__n_estimators': 100, 'clasifier__kernel': 'rbf', 'clasifier__gamma': 0.01, 'clasifier__C': 10}\n",
      "Mejor Puntuación: 0.7849\n",
      "20231030T023409 : enderlab : INFO : Fin entrenamiento\n"
     ]
    }
   ],
   "source": [
    "myfunc.verbose(\"Iniciando entrenamiento\")\n",
    "\n",
    "kf = KFold(n_splits=5, shuffle=True, random_state=SEMILLA)\n",
    "\n",
    "# Crear el pipeline para el flujo de tareas\n",
    "tasks_pipeline = Pipeline([\n",
    "    ('selector', algor_selector),\n",
    "    ('clasifier', algor_clasifier)\n",
    "])\n",
    "\n",
    "# MAX_ITERS puede limitar el número de iteraciones si son excesivas para las combinaciones de parámetros buscando un óptimo local, \n",
    "# sino funcionaría como GridSearchCV al revisar todas las cominaciones de los parámetros\n",
    "num_iteraciones = 1\n",
    "num_iteraciones = num_iteraciones * np.prod([len(elemento1) for _, elemento1 in param_distributions.items()])\n",
    "max_iteraciones = num_iteraciones if num_iteraciones <= MAX_ITERS else MAX_ITERS\n",
    "print(\"num_iter:\",num_iteraciones,\", max_iter:\",max_iteraciones)\n",
    "\n",
    "random_search = RandomizedSearchCV(\n",
    "    tasks_pipeline, \n",
    "    param_distributions, \n",
    "    n_iter=max_iteraciones,\n",
    "    scoring=SCORING,\n",
    "    cv=kf,\n",
    "    verbose=3, \n",
    "    random_state=SEMILLA, \n",
    "    n_jobs=-1\n",
    "    )\n",
    "\n",
    "# Entrenar el modelo\n",
    "random_search.fit(X_train, y_train)\n",
    "\n",
    "# Ver los mejores hiperparámetros encontrados\n",
    "print(f'Mejores Hiperparámetros: {random_search.best_params_}')\n",
    "print(f'Mejor Puntuación: {random_search.best_score_:.4f}')\n",
    "\n",
    "# Nos quedamos con el mejor modelo para ver las métricas\n",
    "mejor_modelo = random_search.best_estimator_\n",
    "\n",
    "myfunc.verbose(\"Fin entrenamiento\")"
   ]
  },
  {
   "cell_type": "markdown",
   "id": "aa5c6f96",
   "metadata": {
    "papermill": {
     "duration": 0.004224,
     "end_time": "2023-10-30T01:34:09.710352",
     "exception": false,
     "start_time": "2023-10-30T01:34:09.706128",
     "status": "completed"
    },
    "tags": []
   },
   "source": [
    "#### Guardar modelo"
   ]
  },
  {
   "cell_type": "code",
   "execution_count": 8,
   "id": "4b710d77",
   "metadata": {
    "execution": {
     "iopub.execute_input": "2023-10-30T01:34:09.720360Z",
     "iopub.status.busy": "2023-10-30T01:34:09.719647Z",
     "iopub.status.idle": "2023-10-30T01:34:09.771107Z",
     "shell.execute_reply": "2023-10-30T01:34:09.770354Z"
    },
    "papermill": {
     "duration": 0.058104,
     "end_time": "2023-10-30T01:34:09.772577",
     "exception": false,
     "start_time": "2023-10-30T01:34:09.714473",
     "status": "completed"
    },
    "tags": []
   },
   "outputs": [
    {
     "name": "stdout",
     "output_type": "stream",
     "text": [
      "20231030T023409 : enderlab : INFO : Inicio guardar fichero ../tfm_git/ejecuciones/modelos/modelo_8270_mul_s_RF_SVM.pkl\n",
      "20231030T023409 : enderlab : INFO : Fin guardar fichero ../tfm_git/ejecuciones/modelos/modelo_8270_mul_s_RF_SVM.pkl\n"
     ]
    }
   ],
   "source": [
    "fichero_modelo = str.replace(\"modelo_\"+str(SEMILLA).zfill(4)+\"_\"+M_TIPO+\"_\"+M_SELECT+\"_\"+M_CLASIF+\".pkl\", \" \", \"_\")\n",
    "\n",
    "myfunc.save_modelo(mejor_modelo, myfunc.MODEL_DIR, fichero_modelo)"
   ]
  },
  {
   "cell_type": "markdown",
   "id": "033c3e5a",
   "metadata": {
    "papermill": {
     "duration": 0.004391,
     "end_time": "2023-10-30T01:34:09.781404",
     "exception": false,
     "start_time": "2023-10-30T01:34:09.777013",
     "status": "completed"
    },
    "tags": []
   },
   "source": [
    "#### Ver resultados del las iteraciones hechas por RandomSearchCV"
   ]
  },
  {
   "cell_type": "code",
   "execution_count": 9,
   "id": "a8af8644",
   "metadata": {
    "execution": {
     "iopub.execute_input": "2023-10-30T01:34:09.791214Z",
     "iopub.status.busy": "2023-10-30T01:34:09.790728Z",
     "iopub.status.idle": "2023-10-30T01:34:09.797594Z",
     "shell.execute_reply": "2023-10-30T01:34:09.797011Z"
    },
    "papermill": {
     "duration": 0.013322,
     "end_time": "2023-10-30T01:34:09.798898",
     "exception": false,
     "start_time": "2023-10-30T01:34:09.785576",
     "status": "completed"
    },
    "tags": []
   },
   "outputs": [
    {
     "name": "stdout",
     "output_type": "stream",
     "text": [
      "20231030T023409 : enderlab : INFO : Inicio ver resultados\n",
      "Mejores Hiperparámetros: {'selector__max_features': 200, 'selector__estimator__n_estimators': 100, 'clasifier__kernel': 'rbf', 'clasifier__gamma': 0.01, 'clasifier__C': 10}\n",
      "Mejores puntuaciones: 0.7849 | Params: {'selector__max_features': 200, 'selector__estimator__n_estimators': 100, 'clasifier__kernel': 'rbf', 'clasifier__gamma': 0.01, 'clasifier__C': 10}\n",
      "Media de las puntuaciones: 0.7849 | Params: {'selector__max_features': 200, 'selector__estimator__n_estimators': 100, 'clasifier__kernel': 'rbf', 'clasifier__gamma': 0.01, 'clasifier__C': 10}\n",
      "20231030T023409 : enderlab : INFO : Fin resultados\n"
     ]
    }
   ],
   "source": [
    "myfunc.ver_resultados_search(random_search)"
   ]
  },
  {
   "cell_type": "markdown",
   "id": "8ab71558",
   "metadata": {
    "papermill": {
     "duration": 0.004639,
     "end_time": "2023-10-30T01:34:09.807890",
     "exception": false,
     "start_time": "2023-10-30T01:34:09.803251",
     "status": "completed"
    },
    "tags": []
   },
   "source": [
    "#### Ver métricas del mejor modelo"
   ]
  },
  {
   "cell_type": "code",
   "execution_count": 10,
   "id": "b0394062",
   "metadata": {
    "execution": {
     "iopub.execute_input": "2023-10-30T01:34:09.818390Z",
     "iopub.status.busy": "2023-10-30T01:34:09.817907Z",
     "iopub.status.idle": "2023-10-30T01:34:10.601188Z",
     "shell.execute_reply": "2023-10-30T01:34:10.600557Z"
    },
    "papermill": {
     "duration": 0.790054,
     "end_time": "2023-10-30T01:34:10.602726",
     "exception": false,
     "start_time": "2023-10-30T01:34:09.812672",
     "status": "completed"
    },
    "tags": []
   },
   "outputs": [
    {
     "name": "stdout",
     "output_type": "stream",
     "text": [
      "20231030T023409 : enderlab : INFO : Inicio ver métricas multiclase\n"
     ]
    },
    {
     "name": "stdout",
     "output_type": "stream",
     "text": [
      "              precision    recall  f1-score   support\n",
      "\n",
      "           0       0.17      0.09      0.12        11\n",
      "           1       0.71      0.62      0.67         8\n",
      "           2       0.50      0.38      0.43         8\n",
      "           3       0.20      0.20      0.20         5\n",
      "           4       0.58      0.88      0.70         8\n",
      "           5       0.57      0.67      0.62         6\n",
      "           6       0.33      0.50      0.40         6\n",
      "\n",
      "    accuracy                           0.46        52\n",
      "   macro avg       0.44      0.48      0.45        52\n",
      "weighted avg       0.44      0.46      0.44        52\n",
      "\n",
      "\n",
      "\n",
      "           Exactitud: 0.461538\n",
      "   Precisión (media): 0.438435\n",
      "      Recall (media): 0.476082\n",
      "    F1-score (media): 0.446896\n",
      "\n",
      "\n",
      "AUC para el tipo de cáncer 0-Control.... 0.5809\n",
      "AUC para el tipo de cáncer 1-Bladder.... 0.8722\n",
      "AUC para el tipo de cáncer 2-Breast..... 0.7528\n",
      "AUC para el tipo de cáncer 3-Colorectal. 0.7234\n",
      "AUC para el tipo de cáncer 4-Kidney..... 0.9716\n",
      "AUC para el tipo de cáncer 5-Lung....... 0.8551\n",
      "AUC para el tipo de cáncer 6-Prostate... 0.7391\n",
      "\n",
      "Media de AUC: 0.7850\n"
     ]
    },
    {
     "data": {
      "image/png": "[encoded data removed]",
      "text/plain": [
       "<Figure size 1000x600 with 1 Axes>"
      ]
     },
     "metadata": {},
     "output_type": "display_data"
    },
    {
     "name": "stdout",
     "output_type": "stream",
     "text": [
      "\n",
      "\n"
     ]
    },
    {
     "data": {
      "image/png": "[encoded data removed]",
      "text/plain": [
       "<Figure size 800x400 with 2 Axes>"
      ]
     },
     "metadata": {},
     "output_type": "display_data"
    },
    {
     "name": "stdout",
     "output_type": "stream",
     "text": [
      "\n",
      "\n",
      "Puntuación Jaccard para el cáncer tipo 0-Control.... 0.0625\n",
      "Puntuación Jaccard para el cáncer tipo 1-Bladder.... 0.5000\n",
      "Puntuación Jaccard para el cáncer tipo 2-Breast..... 0.2727\n",
      "Puntuación Jaccard para el cáncer tipo 3-Colorectal. 0.1111\n",
      "Puntuación Jaccard para el cáncer tipo 4-Kidney..... 0.5385\n",
      "Puntuación Jaccard para el cáncer tipo 5-Lung....... 0.4444\n",
      "Puntuación Jaccard para el cáncer tipo 6-Prostate... 0.2500\n",
      "\n",
      "Media de la puntuación de Jaccard: 0.3113\n"
     ]
    }
   ],
   "source": [
    "if M_TIPO.startswith(\"bin\"):\n",
    "    myfunc.ver_metricas(mejor_modelo, X_test, y_test)\n",
    "else:\n",
    "    myfunc.ver_metricas_multi(mejor_modelo, X_test, y_test)\n"
   ]
  },
  {
   "cell_type": "markdown",
   "id": "fd2f83cb",
   "metadata": {
    "papermill": {
     "duration": 0.006773,
     "end_time": "2023-10-30T01:34:10.617503",
     "exception": false,
     "start_time": "2023-10-30T01:34:10.610730",
     "status": "completed"
    },
    "tags": []
   },
   "source": [
    "#### Finalización del notebook"
   ]
  },
  {
   "cell_type": "code",
   "execution_count": 11,
   "id": "26353f4b",
   "metadata": {
    "execution": {
     "iopub.execute_input": "2023-10-30T01:34:10.631945Z",
     "iopub.status.busy": "2023-10-30T01:34:10.631322Z",
     "iopub.status.idle": "2023-10-30T01:34:10.635351Z",
     "shell.execute_reply": "2023-10-30T01:34:10.634760Z"
    },
    "papermill": {
     "duration": 0.012248,
     "end_time": "2023-10-30T01:34:10.636676",
     "exception": false,
     "start_time": "2023-10-30T01:34:10.624428",
     "status": "completed"
    },
    "tags": []
   },
   "outputs": [
    {
     "name": "stdout",
     "output_type": "stream",
     "text": [
      "20231030T023410 : enderlab : INFO : Notebook ha tardado 5 seconds\n"
     ]
    }
   ],
   "source": [
    "end_time = datetime.datetime.now()\n",
    "total_time = end_time - start_time\n",
    "myfunc.verbose(f\"Notebook ha tardado {total_time.seconds} seconds\")"
   ]
  },
  {
   "cell_type": "markdown",
   "id": "17b29855",
   "metadata": {
    "papermill": {
     "duration": 0.005892,
     "end_time": "2023-10-30T01:34:10.648593",
     "exception": false,
     "start_time": "2023-10-30T01:34:10.642701",
     "status": "completed"
    },
    "tags": []
   },
   "source": [
    "#### Guardar métricas"
   ]
  },
  {
   "cell_type": "code",
   "execution_count": 12,
   "id": "d972da9e",
   "metadata": {
    "execution": {
     "iopub.execute_input": "2023-10-30T01:34:10.661962Z",
     "iopub.status.busy": "2023-10-30T01:34:10.661524Z",
     "iopub.status.idle": "2023-10-30T01:34:11.030601Z",
     "shell.execute_reply": "2023-10-30T01:34:11.029672Z"
    },
    "papermill": {
     "duration": 0.377342,
     "end_time": "2023-10-30T01:34:11.031883",
     "exception": false,
     "start_time": "2023-10-30T01:34:10.654541",
     "status": "completed"
    },
    "tags": []
   },
   "outputs": [
    {
     "name": "stdout",
     "output_type": "stream",
     "text": [
      "20231030T023410 : enderlab : INFO : Inicio guardar métricas multiclase\n",
      "20231030T023410 : enderlab : INFO : Inicio leer fichero ../tfm_git/ejecuciones/metricas/metricas_8270.csv\n",
      "20231030T023410 : enderlab : INFO : Fin leer fichero ../tfm_git/ejecuciones/metricas/metricas_8270.csv\n"
     ]
    },
    {
     "name": "stdout",
     "output_type": "stream",
     "text": [
      "20231030T023410 : enderlab : INFO : Inicio guardar fichero ../tfm_git/ejecuciones/metricas/metricas_8270.csv\n",
      "20231030T023410 : enderlab : INFO : Fichero borrado ../tfm_git/ejecuciones/metricas/metricas_8270.csv\n",
      "20231030T023410 : enderlab : INFO : Fin guardar fichero ../tfm_git/ejecuciones/metricas/metricas_8270.csv\n",
      "20231030T023410 : enderlab : INFO : Fin guardar métricas multiclase\n",
      "20231030T023410 : enderlab : INFO : Inicio leer fichero ../tfm_git/ejecuciones/metricas/metricas_8270.csv\n",
      "20231030T023411 : enderlab : INFO : Fin leer fichero ../tfm_git/ejecuciones/metricas/metricas_8270.csv\n"
     ]
    },
    {
     "data": {
      "text/html": [
       "<div>\n",
       "<style scoped>\n",
       "    .dataframe tbody tr th:only-of-type {\n",
       "        vertical-align: middle;\n",
       "    }\n",
       "\n",
       "    .dataframe tbody tr th {\n",
       "        vertical-align: top;\n",
       "    }\n",
       "\n",
       "    .dataframe thead th {\n",
       "        text-align: right;\n",
       "    }\n",
       "</style>\n",
       "<table border=\"1\" class=\"dataframe\">\n",
       "  <thead>\n",
       "    <tr style=\"text-align: right;\">\n",
       "      <th></th>\n",
       "      <th>tipo</th>\n",
       "      <th>select</th>\n",
       "      <th>clasific</th>\n",
       "      <th>semilla</th>\n",
       "      <th>accuracy</th>\n",
       "      <th>precision</th>\n",
       "      <th>recall</th>\n",
       "      <th>f1_score</th>\n",
       "      <th>roc_auc</th>\n",
       "      <th>hostname</th>\n",
       "      <th>total_time_sec</th>\n",
       "      <th>datetime</th>\n",
       "      <th>fichero_modelo</th>\n",
       "      <th>params</th>\n",
       "      <th>shape</th>\n",
       "      <th>features</th>\n",
       "      <th>roc_auc_ovr</th>\n",
       "      <th>indices_auc</th>\n",
       "      <th>indices_jaccard</th>\n",
       "    </tr>\n",
       "  </thead>\n",
       "  <tbody>\n",
       "    <tr>\n",
       "      <th>0</th>\n",
       "      <td>mul_s</td>\n",
       "      <td>RF</td>\n",
       "      <td>SVM</td>\n",
       "      <td>8270</td>\n",
       "      <td>0.461538</td>\n",
       "      <td>0.438435</td>\n",
       "      <td>0.476082</td>\n",
       "      <td>0.446896</td>\n",
       "      <td>NaN</td>\n",
       "      <td>enderlab</td>\n",
       "      <td>5</td>\n",
       "      <td>2023-10-30 02:34:10.972720</td>\n",
       "      <td>modelo_8270_mul_s_RF_SVM.pkl</td>\n",
       "      <td>{'selector__max_features': 200, 'selector__est...</td>\n",
       "      <td>X_test:(52, 18875)</td>\n",
       "      <td>['ENSG00000003989.18', 'ENSG00000007866.22', '...</td>\n",
       "      <td>0.785018</td>\n",
       "      <td>[0.5809312638580931, 0.8721590909090908, 0.752...</td>\n",
       "      <td>[0.0625, 0.5, 0.2727272727272727, 0.1111111111...</td>\n",
       "    </tr>\n",
       "    <tr>\n",
       "      <th>0</th>\n",
       "      <td>mul_s</td>\n",
       "      <td>RF</td>\n",
       "      <td>RF</td>\n",
       "      <td>8270</td>\n",
       "      <td>0.423077</td>\n",
       "      <td>0.397032</td>\n",
       "      <td>0.428463</td>\n",
       "      <td>0.402607</td>\n",
       "      <td>NaN</td>\n",
       "      <td>enderlab</td>\n",
       "      <td>28</td>\n",
       "      <td>2023-10-30 02:33:58.438757</td>\n",
       "      <td>modelo_8270_mul_s_RF_RF.pkl</td>\n",
       "      <td>{'selector__max_features': 1000, 'selector__es...</td>\n",
       "      <td>X_test:(52, 18875)</td>\n",
       "      <td>['ENSG00000003989.18', 'ENSG00000005801.18', '...</td>\n",
       "      <td>0.766070</td>\n",
       "      <td>[0.46784922394678496, 0.8522727272727272, 0.76...</td>\n",
       "      <td>[0.07142857142857142, 0.45454545454545453, 0.2...</td>\n",
       "    </tr>\n",
       "    <tr>\n",
       "      <th>0</th>\n",
       "      <td>mul_s</td>\n",
       "      <td>RF</td>\n",
       "      <td>LR_L2</td>\n",
       "      <td>8270</td>\n",
       "      <td>0.423077</td>\n",
       "      <td>0.465399</td>\n",
       "      <td>0.418831</td>\n",
       "      <td>0.424280</td>\n",
       "      <td>NaN</td>\n",
       "      <td>enderlab</td>\n",
       "      <td>15</td>\n",
       "      <td>2023-10-30 02:33:22.849373</td>\n",
       "      <td>modelo_8270_mul_s_RF_LR_L2.pkl</td>\n",
       "      <td>{'selector__max_features': 500, 'selector__est...</td>\n",
       "      <td>X_test:(52, 18875)</td>\n",
       "      <td>['ENSG00000003402.21', 'ENSG00000003989.18', '...</td>\n",
       "      <td>0.803798</td>\n",
       "      <td>[0.6363636363636364, 0.8636363636363636, 0.664...</td>\n",
       "      <td>[0.125, 0.625, 0.15384615384615385, 0.0, 0.583...</td>\n",
       "    </tr>\n",
       "  </tbody>\n",
       "</table>\n",
       "</div>"
      ],
      "text/plain": [
       "    tipo select clasific  semilla  accuracy  precision    recall  f1_score  \\\n",
       "0  mul_s     RF      SVM     8270  0.461538   0.438435  0.476082  0.446896   \n",
       "0  mul_s     RF       RF     8270  0.423077   0.397032  0.428463  0.402607   \n",
       "0  mul_s     RF    LR_L2     8270  0.423077   0.465399  0.418831  0.424280   \n",
       "\n",
       "   roc_auc  hostname  total_time_sec                    datetime  \\\n",
       "0      NaN  enderlab               5  2023-10-30 02:34:10.972720   \n",
       "0      NaN  enderlab              28  2023-10-30 02:33:58.438757   \n",
       "0      NaN  enderlab              15  2023-10-30 02:33:22.849373   \n",
       "\n",
       "                   fichero_modelo  \\\n",
       "0    modelo_8270_mul_s_RF_SVM.pkl   \n",
       "0     modelo_8270_mul_s_RF_RF.pkl   \n",
       "0  modelo_8270_mul_s_RF_LR_L2.pkl   \n",
       "\n",
       "                                              params               shape  \\\n",
       "0  {'selector__max_features': 200, 'selector__est...  X_test:(52, 18875)   \n",
       "0  {'selector__max_features': 1000, 'selector__es...  X_test:(52, 18875)   \n",
       "0  {'selector__max_features': 500, 'selector__est...  X_test:(52, 18875)   \n",
       "\n",
       "                                            features  roc_auc_ovr  \\\n",
       "0  ['ENSG00000003989.18', 'ENSG00000007866.22', '...     0.785018   \n",
       "0  ['ENSG00000003989.18', 'ENSG00000005801.18', '...     0.766070   \n",
       "0  ['ENSG00000003402.21', 'ENSG00000003989.18', '...     0.803798   \n",
       "\n",
       "                                         indices_auc  \\\n",
       "0  [0.5809312638580931, 0.8721590909090908, 0.752...   \n",
       "0  [0.46784922394678496, 0.8522727272727272, 0.76...   \n",
       "0  [0.6363636363636364, 0.8636363636363636, 0.664...   \n",
       "\n",
       "                                     indices_jaccard  \n",
       "0  [0.0625, 0.5, 0.2727272727272727, 0.1111111111...  \n",
       "0  [0.07142857142857142, 0.45454545454545453, 0.2...  \n",
       "0  [0.125, 0.625, 0.15384615384615385, 0.0, 0.583...  "
      ]
     },
     "metadata": {},
     "output_type": "display_data"
    }
   ],
   "source": [
    "if M_TIPO.startswith(\"bin\"):\n",
    "    myfunc.save_metricas_to_csv(random_search, X_test, y_test, M_TIPO, M_SELECT, M_CLASIF, total_time, SEMILLA, myfunc.MET_DIR, M_FICHERO, fichero_modelo)\n",
    "else:\n",
    "    myfunc.save_metricas_multi_to_csv(random_search, X_test, y_test, M_TIPO, M_SELECT, M_CLASIF, total_time, SEMILLA, myfunc.MET_DIR, M_FICHERO, fichero_modelo)\n",
    "\n",
    "df1=myfunc.read_metricas_to_df(myfunc.MET_DIR,M_FICHERO)\n",
    "\n",
    "display(df1.sort_values(\"datetime\", ascending=False)[:3])\n"
   ]
  },
  {
   "cell_type": "markdown",
   "id": "c75d5cd0",
   "metadata": {
    "papermill": {
     "duration": 0.006404,
     "end_time": "2023-10-30T01:34:11.045186",
     "exception": false,
     "start_time": "2023-10-30T01:34:11.038782",
     "status": "completed"
    },
    "tags": []
   },
   "source": [
    "#### Guardar resultados"
   ]
  },
  {
   "cell_type": "code",
   "execution_count": 13,
   "id": "001ac111",
   "metadata": {
    "execution": {
     "iopub.execute_input": "2023-10-30T01:34:11.059641Z",
     "iopub.status.busy": "2023-10-30T01:34:11.058860Z",
     "iopub.status.idle": "2023-10-30T01:34:11.069279Z",
     "shell.execute_reply": "2023-10-30T01:34:11.068687Z"
    },
    "papermill": {
     "duration": 0.018956,
     "end_time": "2023-10-30T01:34:11.070563",
     "exception": false,
     "start_time": "2023-10-30T01:34:11.051607",
     "status": "completed"
    },
    "tags": []
   },
   "outputs": [
    {
     "name": "stdout",
     "output_type": "stream",
     "text": [
      "20231030T023411 : enderlab : INFO : Inicio guardar resultados\n",
      "20231030T023411 : enderlab : INFO : Inicio guardar fichero ../tfm_git/ejecuciones/metricas/resultados_8270_mul_s-RF-SVM.csv\n",
      "20231030T023411 : enderlab : INFO : Fin guardar fichero ../tfm_git/ejecuciones/metricas/resultados_8270_mul_s-RF-SVM.csv\n",
      "20231030T023411 : enderlab : INFO : Fin guardar resultados\n"
     ]
    }
   ],
   "source": [
    "fichero_resultados=R_FICHERO+\"_\"+M_TIPO+\"-\"+M_SELECT+\"-\"+M_CLASIF+\".csv\"\n",
    "myfunc.save_resultados_to_csv(M_TIPO, M_SELECT, M_CLASIF,  random_search, myfunc.MET_DIR, fichero_resultados)\n"
   ]
  }
 ],
 "metadata": {
  "kernelspec": {
   "display_name": "Python 3 (ipykernel)",
   "language": "python",
   "name": "python3"
  },
  "language_info": {
   "codemirror_mode": {
    "name": "ipython",
    "version": 3
   },
   "file_extension": ".py",
   "mimetype": "text/x-python",
   "name": "python",
   "nbconvert_exporter": "python",
   "pygments_lexer": "ipython3",
   "version": "3.10.11"
  },
  "papermill": {
   "default_parameters": {},
   "duration": 10.895716,
   "end_time": "2023-10-30T01:34:13.694103",
   "environment_variables": {},
   "exception": null,
   "input_path": "03_entrenamiento.ipynb",
   "output_path": "ejecuciones/training/03_entrenamiento.20231030T023402.param_0000_8270_mul_s_RF_SVM.output.ipynb",
   "parameters": {
    "MAX_ITERS": 500,
    "M_CLASIF": "SVM",
    "M_FICHERO": "metricas_8270",
    "M_SELECT": "RF",
    "M_TIPO": "mul_s",
    "PRE_DATA_FILE": "rows_transpose_norm_by_gene_id_with_target_num_",
    "P_FICHERO": "param_0000_8270_mul_s_RF_SVM.yaml",
    "R_FICHERO": "resultados_8270",
    "SCORING": "roc_auc_ovr",
    "SEMILLA": 8270,
    "eval_clasifier": "SVC(probability=True, random_state=SEMILLA)",
    "eval_selector": "SelectFromModel(estimator=RandomForestClassifier(random_state=SEMILLA), threshold=-np.inf)",
    "param_distributions": {
     "clasifier__C": [
      10
     ],
     "clasifier__gamma": [
      0.01
     ],
     "clasifier__kernel": [
      "rbf"
     ],
     "selector__estimator__n_estimators": [
      100
     ],
     "selector__max_features": [
      200
     ]
    }
   },
   "start_time": "2023-10-30T01:34:02.798387",
   "version": "2.4.0"
  }
 },
 "nbformat": 4,
 "nbformat_minor": 5
}