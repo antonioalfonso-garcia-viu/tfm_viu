{
 "cells": [
  {
   "cell_type": "markdown",
   "id": "256159b6",
   "metadata": {
    "papermill": {
     "duration": 0.00309,
     "end_time": "2023-10-30T04:42:03.921311",
     "exception": false,
     "start_time": "2023-10-30T04:42:03.918221",
     "status": "completed"
    },
    "tags": []
   },
   "source": [
    "##### Inicio"
   ]
  },
  {
   "cell_type": "markdown",
   "id": "b8020443",
   "metadata": {
    "papermill": {
     "duration": 0.0,
     "end_time": "2023-10-30T04:42:03.934396",
     "exception": false,
     "start_time": "2023-10-30T04:42:03.934396",
     "status": "completed"
    },
    "tags": []
   },
   "source": [
    "#### Carga de datos"
   ]
  },
  {
   "cell_type": "code",
   "execution_count": 1,
   "id": "6489eac2",
   "metadata": {
    "execution": {
     "iopub.execute_input": "2023-10-30T04:42:03.934396Z",
     "iopub.status.busy": "2023-10-30T04:42:03.934396Z",
     "iopub.status.idle": "2023-10-30T04:42:05.077250Z",
     "shell.execute_reply": "2023-10-30T04:42:05.077250Z"
    },
    "papermill": {
     "duration": 1.142854,
     "end_time": "2023-10-30T04:42:05.077250",
     "exception": false,
     "start_time": "2023-10-30T04:42:03.934396",
     "status": "completed"
    },
    "tags": []
   },
   "outputs": [
    {
     "name": "stdout",
     "output_type": "stream",
     "text": [
      "CPU_COUNT: 24; NODE: amilcar32; sys.version: 3.10.12 | packaged by Anaconda, Inc. | (main, Jul  5 2023, 19:09:20) [MSC v.1916 64 bit (AMD64)]\n",
      "LOKY_MAX_CPU_COUNT is not set.\n",
      "OMP_NUM_THREADS is not set.\n"
     ]
    }
   ],
   "source": [
    "import os\n",
    "import numpy as np\n",
    "import pandas as pd\n",
    "import datetime\n",
    "import sklearn\n",
    "import logging\n",
    "import warnings\n",
    "\n",
    "from sklearn.pipeline import Pipeline\n",
    "from sklearn.model_selection import RandomizedSearchCV, KFold, cross_val_score, train_test_split\n",
    "from sklearn.metrics import accuracy_score, confusion_matrix, classification_report, roc_auc_score\n",
    "\n",
    "#  cargar algoritmos para aprendizaje supervisado\n",
    "from sklearn.feature_selection import SelectKBest, f_classif, SelectFromModel, mutual_info_classif\n",
    "from sklearn.svm import SVC\n",
    "from sklearn.ensemble import RandomForestClassifier\n",
    "from sklearn.linear_model import LogisticRegression,LogisticRegressionCV\n",
    "\n",
    "# importar fichero con utilidades propias\n",
    "from commons import myfunctions as myfunc\n"
   ]
  },
  {
   "cell_type": "markdown",
   "id": "26939724",
   "metadata": {
    "papermill": {
     "duration": 0.0,
     "end_time": "2023-10-30T04:42:05.077250",
     "exception": false,
     "start_time": "2023-10-30T04:42:05.077250",
     "status": "completed"
    },
    "tags": []
   },
   "source": [
    "#### Parámetros a utilizar en el entrenamiento.\n",
    "\n",
    "Se indican los 3 algoritmos de *selección de características* (eval_selector_xxx) y los 3 algoritmos para la _clasificación_ (eval_clasifier_xxx)\n",
    "\n",
    "En *param_distributions* se indicar los parámetros que utilizan los algoritmos en la función RandomSearchCV.\n",
    "\n",
    "Esta celda tiene la etiqueta **parameters** que servirá para poder lanzar los entrenamientos con la utilidad **papermill** pasándole un fichero con los parámetros. Los nuevos parámetros se situarán tras esta celda para tener prevalencia."
   ]
  },
  {
   "cell_type": "code",
   "execution_count": 2,
   "id": "826656c1",
   "metadata": {
    "execution": {
     "iopub.execute_input": "2023-10-30T04:42:05.077250Z",
     "iopub.status.busy": "2023-10-30T04:42:05.077250Z",
     "iopub.status.idle": "2023-10-30T04:42:05.108570Z",
     "shell.execute_reply": "2023-10-30T04:42:05.108570Z"
    },
    "papermill": {
     "duration": 0.03132,
     "end_time": "2023-10-30T04:42:05.108570",
     "exception": false,
     "start_time": "2023-10-30T04:42:05.077250",
     "status": "completed"
    },
    "tags": [
     "parameters"
    ]
   },
   "outputs": [
    {
     "name": "stdout",
     "output_type": "stream",
     "text": [
      "20231030T054205 : amilcar32 : INFO : Utilizando parámetros de mul_m\n"
     ]
    }
   ],
   "source": [
    "#  Parametros para el entrenamiento\n",
    "\n",
    "SEMILLA=        42\n",
    "M_TIPO=         \"mul_m\"\n",
    "M_SELECT=       \"MI\"\n",
    "M_CLASIF=       \"SVM\"\n",
    "R_FICHERO=      \"resultados\"\n",
    "M_FICHERO=      \"metricas\"\n",
    "PRE_DATA_FILE=  \"rows_transpose_norm_by_gene_id_with_target_num_\"\n",
    "SCORING=        \"roc_auc_ovr\" \n",
    "MAX_ITERS=      100\n",
    "\n",
    "def mutual_info_classif_state(X, y):\n",
    "    return mutual_info_classif(X, y, random_state=SEMILLA)\n",
    "\n",
    "eval_selector_mi = \"SelectKBest(score_func=mutual_info_classif_state)\"\n",
    "eval_selector_rf=  \"SelectFromModel(estimator=RandomForestClassifier(random_state=SEMILLA), threshold=-np.inf)\"\n",
    "eval_selector_anova=  \"SelectKBest(score_func=f_classif)\"\n",
    "\n",
    "eval_clasifier_svm= \"SVC(probability=True, random_state=SEMILLA)\"\n",
    "eval_clasifier_rf= \"RandomForestClassifier(random_state=SEMILLA)\"\n",
    "eval_clasifier_lr= \"LogisticRegressionCV(random_state=SEMILLA)\"\n",
    "\n",
    "if M_TIPO.startswith(\"bin_m\"):\n",
    "    myfunc.verbose(f\"Utilizando parámetros de {M_TIPO}\")\n",
    "    eval_selector = eval_selector_mi\n",
    "    eval_clasifier = eval_clasifier_svm\n",
    "\n",
    "    SEMILLA = 6578\n",
    "    M_SELECT = \"MI\"\n",
    "    M_CLASIF = \"SVM\"\n",
    "    param_distributions = {'selector__k': [1000], \n",
    "         'clasifier__kernel': ['rbf'], 'clasifier__gamma': [0.01], 'clasifier__C': [100]}\n",
    "elif M_TIPO.startswith(\"bin_s\"):\n",
    "    myfunc.verbose(f\"Utilizando parámetros de {M_TIPO}\")\n",
    "    eval_selector = eval_selector_rf\n",
    "    eval_clasifier = eval_clasifier_lr\n",
    "\n",
    "    SEMILLA = 6191\n",
    "    M_SELECT = \"RF\"\n",
    "    M_CLASIF = \"LR_L2\"\n",
    "    param_distributions = {'selector__max_features': [1000], 'selector__estimator__n_estimators': [200], \n",
    "        'clasifier__solver': ['lbfgs'], 'clasifier__penalty': ['l2'], 'clasifier__max_iter': [10000]}\n",
    "\n",
    "elif M_TIPO.startswith(\"mul_m\"):\n",
    "    myfunc.verbose(f\"Utilizando parámetros de {M_TIPO}\")\n",
    " \n",
    "    eval_selector = eval_selector_rf\n",
    "    eval_clasifier = eval_clasifier_lr\n",
    "\n",
    "    SEMILLA = 6191\n",
    "    M_SELECT = \"RF\"\n",
    "    M_CLASIF = \"LR_L2\"\n",
    "    param_distributions = {'selector__max_features': [1000], 'selector__estimator__n_estimators': [400], \n",
    "        'clasifier__solver': ['lbfgs'], 'clasifier__penalty': ['l2'], 'clasifier__max_iter': [10000]}\n",
    "\n",
    "else:\n",
    "    # M_TIPO.startswith(\"mul_s\"):\n",
    "    myfunc.verbose(f\"Utilizando parámetros de {M_TIPO}\")\n",
    "    eval_selector = eval_selector_anova\n",
    "    eval_clasifier = eval_clasifier_lr\n",
    "\n",
    "    SEMILLA = 1860\n",
    "    M_SELECT = \"ANOVA\"\n",
    "    M_CLASIF = \"LR_L2\"\n",
    "    param_distributions = {'selector__k': [1000], \n",
    "        'clasifier__solver': ['saga'], 'clasifier__penalty': ['l2'], 'clasifier__max_iter': [10000]}\n",
    "\n"
   ]
  },
  {
   "cell_type": "code",
   "execution_count": 3,
   "id": "d7755a32",
   "metadata": {
    "execution": {
     "iopub.execute_input": "2023-10-30T04:42:05.108570Z",
     "iopub.status.busy": "2023-10-30T04:42:05.108570Z",
     "iopub.status.idle": "2023-10-30T04:42:05.139752Z",
     "shell.execute_reply": "2023-10-30T04:42:05.139752Z"
    },
    "papermill": {
     "duration": 0.031182,
     "end_time": "2023-10-30T04:42:05.139752",
     "exception": false,
     "start_time": "2023-10-30T04:42:05.108570",
     "status": "completed"
    },
    "tags": [
     "injected-parameters"
    ]
   },
   "outputs": [],
   "source": [
    "# Parameters\n",
    "M_TIPO = \"bin_s\"\n",
    "M_SELECT = \"ANOVA\"\n",
    "M_CLASIF = \"RF\"\n",
    "P_FICHERO = \"param_0000_5426_bin_s_ANOVA_RF.yaml\"\n",
    "R_FICHERO = \"resultados_5426\"\n",
    "M_FICHERO = \"metricas_5426\"\n",
    "PRE_DATA_FILE = \"rows_transpose_norm_by_gene_id_with_target_num_\"\n",
    "SCORING = \"roc_auc_ovr\"\n",
    "SEMILLA = 5426\n",
    "MAX_ITERS = 500\n",
    "eval_selector = \"SelectKBest(score_func=f_classif)\"\n",
    "eval_clasifier = \"RandomForestClassifier(random_state=SEMILLA)\"\n",
    "param_distributions = {\n",
    "    \"selector__k\": [150],\n",
    "    \"clasifier__n_estimators\": [50],\n",
    "    \"clasifier__min_samples_split\": [20],\n",
    "    \"clasifier__min_samples_leaf\": [5],\n",
    "    \"clasifier__max_features\": [\"sqrt\"],\n",
    "    \"clasifier__max_depth\": [\"None\"],\n",
    "    \"clasifier__bootstrap\": [True],\n",
    "}\n"
   ]
  },
  {
   "cell_type": "code",
   "execution_count": 4,
   "id": "77a83dcb",
   "metadata": {
    "execution": {
     "iopub.execute_input": "2023-10-30T04:42:05.155441Z",
     "iopub.status.busy": "2023-10-30T04:42:05.155441Z",
     "iopub.status.idle": "2023-10-30T04:42:05.171159Z",
     "shell.execute_reply": "2023-10-30T04:42:05.171159Z"
    },
    "papermill": {
     "duration": 0.031407,
     "end_time": "2023-10-30T04:42:05.171159",
     "exception": false,
     "start_time": "2023-10-30T04:42:05.139752",
     "status": "completed"
    },
    "tags": []
   },
   "outputs": [],
   "source": [
    "DATA_FILE = PRE_DATA_FILE + M_TIPO\n",
    "\n",
    "# si viene \"None\" en el parámetro max_depth, se le quitan las comillas para que no sea entendido por el algoritmo como un texto\n",
    "if \"clasifier__max_depth\" in param_distributions:\n",
    "    param_distributions['clasifier__max_depth'] = [None if x == 'None' else x for x in param_distributions['clasifier__max_depth']]"
   ]
  },
  {
   "cell_type": "markdown",
   "id": "b90a97aa",
   "metadata": {
    "papermill": {
     "duration": 0.015545,
     "end_time": "2023-10-30T04:42:05.186704",
     "exception": false,
     "start_time": "2023-10-30T04:42:05.171159",
     "status": "completed"
    },
    "tags": []
   },
   "source": [
    "Asignar los algoritmos que se utilizarán en la función RandomSearchCV"
   ]
  },
  {
   "cell_type": "code",
   "execution_count": 5,
   "id": "ae3dbcb7",
   "metadata": {
    "execution": {
     "iopub.execute_input": "2023-10-30T04:42:05.202319Z",
     "iopub.status.busy": "2023-10-30T04:42:05.202319Z",
     "iopub.status.idle": "2023-10-30T04:42:05.217949Z",
     "shell.execute_reply": "2023-10-30T04:42:05.217949Z"
    },
    "papermill": {
     "duration": 0.031245,
     "end_time": "2023-10-30T04:42:05.217949",
     "exception": false,
     "start_time": "2023-10-30T04:42:05.186704",
     "status": "completed"
    },
    "tags": []
   },
   "outputs": [],
   "source": [
    "algor_selector=eval(eval_selector)\n",
    "algor_clasifier=eval(eval_clasifier)"
   ]
  },
  {
   "cell_type": "markdown",
   "id": "8730b5d3",
   "metadata": {
    "papermill": {
     "duration": 0.015623,
     "end_time": "2023-10-30T04:42:05.233572",
     "exception": false,
     "start_time": "2023-10-30T04:42:05.217949",
     "status": "completed"
    },
    "tags": []
   },
   "source": [
    "#### Comprobar el entorno y leer fichero de muestras"
   ]
  },
  {
   "cell_type": "code",
   "execution_count": 6,
   "id": "e343218c",
   "metadata": {
    "execution": {
     "iopub.execute_input": "2023-10-30T04:42:05.233572Z",
     "iopub.status.busy": "2023-10-30T04:42:05.233572Z",
     "iopub.status.idle": "2023-10-30T04:42:05.405446Z",
     "shell.execute_reply": "2023-10-30T04:42:05.405446Z"
    },
    "papermill": {
     "duration": 0.171874,
     "end_time": "2023-10-30T04:42:05.405446",
     "exception": false,
     "start_time": "2023-10-30T04:42:05.233572",
     "status": "completed"
    },
    "tags": []
   },
   "outputs": [
    {
     "name": "stdout",
     "output_type": "stream",
     "text": [
      "20231030T054205 : amilcar32 : INFO : Encontrada carpeta DATA_DIR=..\\tfm_viu\\datos\n",
      "20231030T054205 : amilcar32 : INFO : Encontrada carpeta CFDNA_DIR=..\\tfm_viu\\datos\\cfDNA_5hmC\n",
      "20231030T054205 : amilcar32 : INFO : Encontrada carpeta GENCODE_DIR=..\\tfm_viu\\datos\\gencode\n",
      "20231030T054205 : amilcar32 : INFO : Encontrada carpeta H5_DIR=..\\tfm_viu\\datos\\h5\n",
      "20231030T054205 : amilcar32 : INFO : Encontrada carpeta LOG_DIR=..\\tfm_viu\\datos\\logs\n",
      "20231030T054205 : amilcar32 : INFO : Encontrada carpeta CSV_DIR=..\\tfm_viu\\datos\\csv\n",
      "20231030T054205 : amilcar32 : INFO : Encontrada carpeta MODEL_DIR=..\\tfm_viu\\ejecuciones\\modelos\n",
      "20231030T054205 : amilcar32 : INFO : Encontrada carpeta EXEC_DIR=..\\tfm_viu\\ejecuciones\n",
      "20231030T054205 : amilcar32 : INFO : Encontrada carpeta MET_DIR=..\\tfm_viu\\ejecuciones\\metricas\n",
      "20231030T054205 : amilcar32 : INFO : Inicio leer fichero h5 ..\\tfm_viu\\datos\\h5\\rows_transpose_norm_by_gene_id_with_target_num_bin_s.h5\n"
     ]
    },
    {
     "name": "stdout",
     "output_type": "stream",
     "text": [
      "20231030T054205 : amilcar32 : INFO : Leyendo clave /df\n"
     ]
    },
    {
     "name": "stdout",
     "output_type": "stream",
     "text": [
      "20231030T054205 : amilcar32 : INFO : Tamaño (443, 18876)\n",
      "20231030T054205 : amilcar32 : INFO : Fin leer fichero h5 ..\\tfm_viu\\datos\\h5\\rows_transpose_norm_by_gene_id_with_target_num_bin_s.h5\n"
     ]
    },
    {
     "data": {
      "text/plain": [
       "target\n",
       "0    221\n",
       "1    222\n",
       "dtype: int64"
      ]
     },
     "metadata": {},
     "output_type": "display_data"
    },
    {
     "name": "stdout",
     "output_type": "stream",
     "text": [
      "Shape df: (443, 18876)\n",
      "Shape X_train: (354, 18875)\n",
      "Shape X_test: (89, 18875)\n"
     ]
    }
   ],
   "source": [
    "start_time = datetime.datetime.now()\n",
    "\n",
    "myfunc.reset_vars()\n",
    "\n",
    "myfunc.NOTEBK_FILENAME = myfunc.get_nb_name()\n",
    "\n",
    "myfunc.check_enviroment(myfunc.DATA_DIR, myfunc.CFDNA_DIR, myfunc.GENCODE_DIR, myfunc.H5_DIR, myfunc.LOG_DIR, myfunc.CSV_DIR, myfunc.MODEL_DIR, myfunc.EXEC_DIR, myfunc.MET_DIR)\n",
    "\n",
    "# Leer fichero con las muestras\n",
    "df_t = myfunc.read_h5_to_df(DATA_FILE, myfunc.H5_DIR)\n",
    "display(df_t.groupby(\"target\").size())\n",
    "print(\"Shape df:\",df_t.shape)\n",
    "\n",
    "# Separar caracteristicas/genes de las etiquetas/tipos de cáncer\n",
    "X = df_t.iloc[:, :-1]  # Todas las columnas excepto la última\n",
    "y = df_t.iloc[:, -1]  # La última columna contiene los identificadores de los tipos de cáncer\n",
    "\n",
    "#  Crear el conjunto de datos de entrenamiento y de pruebas, y se fija la semilla para siempre coger el mismo juego de muestras\n",
    "X_train, X_test, y_train, y_test = train_test_split(X, y, test_size=0.2, shuffle=True, random_state=42)\n",
    "print(\"Shape X_train:\",X_train.shape)\n",
    "print(\"Shape X_test:\",X_test.shape)\n"
   ]
  },
  {
   "cell_type": "markdown",
   "id": "4d2f2041",
   "metadata": {
    "papermill": {
     "duration": 0.0,
     "end_time": "2023-10-30T04:42:05.405446",
     "exception": false,
     "start_time": "2023-10-30T04:42:05.405446",
     "status": "completed"
    },
    "tags": []
   },
   "source": [
    "#### Selección de características y clasificación."
   ]
  },
  {
   "cell_type": "code",
   "execution_count": 7,
   "id": "a4da262f",
   "metadata": {
    "execution": {
     "iopub.execute_input": "2023-10-30T04:42:05.421086Z",
     "iopub.status.busy": "2023-10-30T04:42:05.421086Z",
     "iopub.status.idle": "2023-10-30T04:42:07.502062Z",
     "shell.execute_reply": "2023-10-30T04:42:07.502062Z"
    },
    "papermill": {
     "duration": 2.096616,
     "end_time": "2023-10-30T04:42:07.502062",
     "exception": false,
     "start_time": "2023-10-30T04:42:05.405446",
     "status": "completed"
    },
    "tags": []
   },
   "outputs": [
    {
     "name": "stdout",
     "output_type": "stream",
     "text": [
      "20231030T054205 : amilcar32 : INFO : Iniciando entrenamiento\n",
      "num_iter: 1 , max_iter: 1\n"
     ]
    },
    {
     "name": "stdout",
     "output_type": "stream",
     "text": [
      "Fitting 5 folds for each of 1 candidates, totalling 5 fits\n"
     ]
    },
    {
     "name": "stderr",
     "output_type": "stream",
     "text": [
      "C:\\Users\\viu\\miniconda3\\lib\\site-packages\\sklearn\\feature_selection\\_univariate_selection.py:112: UserWarning: Features [ 2222  2265  2266  2803  3492  5668  5803  6053  8314  8510  9490 11021\n",
      " 11565 11613 11943 12249 12831 13235 13836 14000 14245 14789 15515 15824\n",
      " 15881 16018 16262 16267 16268 16313 16630 16679 16701 16906 16968 17047\n",
      " 17091 17231 17264 17274 17300 17312 18421 18608 18868] are constant.\n",
      "  warnings.warn(\"Features %s are constant.\" % constant_features_idx, UserWarning)\n",
      "C:\\Users\\viu\\miniconda3\\lib\\site-packages\\sklearn\\feature_selection\\_univariate_selection.py:113: RuntimeWarning: invalid value encountered in divide\n",
      "  f = msb / msw\n"
     ]
    },
    {
     "name": "stdout",
     "output_type": "stream",
     "text": [
      "Mejores Hiperparámetros: {'selector__k': 150, 'clasifier__n_estimators': 50, 'clasifier__min_samples_split': 20, 'clasifier__min_samples_leaf': 5, 'clasifier__max_features': 'sqrt', 'clasifier__max_depth': None, 'clasifier__bootstrap': True}\n",
      "Mejor Puntuación: 0.7139\n",
      "20231030T054207 : amilcar32 : INFO : Fin entrenamiento\n"
     ]
    }
   ],
   "source": [
    "myfunc.verbose(\"Iniciando entrenamiento\")\n",
    "\n",
    "kf = KFold(n_splits=5, shuffle=True, random_state=SEMILLA)\n",
    "\n",
    "# Crear el pipeline para el flujo de tareas\n",
    "tasks_pipeline = Pipeline([\n",
    "    ('selector', algor_selector),\n",
    "    ('clasifier', algor_clasifier)\n",
    "])\n",
    "\n",
    "# MAX_ITERS puede limitar el número de iteraciones si son excesivas para las combinaciones de parámetros buscando un óptimo local, \n",
    "# sino funcionaría como GridSearchCV al revisar todas las cominaciones de los parámetros\n",
    "num_iteraciones = 1\n",
    "num_iteraciones = num_iteraciones * np.prod([len(elemento1) for _, elemento1 in param_distributions.items()])\n",
    "max_iteraciones = num_iteraciones if num_iteraciones <= MAX_ITERS else MAX_ITERS\n",
    "print(\"num_iter:\",num_iteraciones,\", max_iter:\",max_iteraciones)\n",
    "\n",
    "random_search = RandomizedSearchCV(\n",
    "    tasks_pipeline, \n",
    "    param_distributions, \n",
    "    n_iter=max_iteraciones,\n",
    "    scoring=SCORING,\n",
    "    cv=kf,\n",
    "    verbose=3, \n",
    "    random_state=SEMILLA, \n",
    "    n_jobs=-1\n",
    "    )\n",
    "\n",
    "# Entrenar el modelo\n",
    "random_search.fit(X_train, y_train)\n",
    "\n",
    "# Ver los mejores hiperparámetros encontrados\n",
    "print(f'Mejores Hiperparámetros: {random_search.best_params_}')\n",
    "print(f'Mejor Puntuación: {random_search.best_score_:.4f}')\n",
    "\n",
    "# Nos quedamos con el mejor modelo para ver las métricas\n",
    "mejor_modelo = random_search.best_estimator_\n",
    "\n",
    "myfunc.verbose(\"Fin entrenamiento\")"
   ]
  },
  {
   "cell_type": "markdown",
   "id": "0d13a093",
   "metadata": {
    "papermill": {
     "duration": 0.0,
     "end_time": "2023-10-30T04:42:07.502062",
     "exception": false,
     "start_time": "2023-10-30T04:42:07.502062",
     "status": "completed"
    },
    "tags": []
   },
   "source": [
    "#### Guardar modelo"
   ]
  },
  {
   "cell_type": "code",
   "execution_count": 8,
   "id": "3c25f951",
   "metadata": {
    "execution": {
     "iopub.execute_input": "2023-10-30T04:42:07.517683Z",
     "iopub.status.busy": "2023-10-30T04:42:07.502062Z",
     "iopub.status.idle": "2023-10-30T04:42:07.548937Z",
     "shell.execute_reply": "2023-10-30T04:42:07.548937Z"
    },
    "papermill": {
     "duration": 0.046875,
     "end_time": "2023-10-30T04:42:07.548937",
     "exception": false,
     "start_time": "2023-10-30T04:42:07.502062",
     "status": "completed"
    },
    "tags": []
   },
   "outputs": [
    {
     "name": "stdout",
     "output_type": "stream",
     "text": [
      "20231030T054207 : amilcar32 : INFO : Inicio guardar fichero ..\\tfm_viu\\ejecuciones\\modelos\\modelo_5426_bin_s_ANOVA_RF.pkl\n",
      "20231030T054207 : amilcar32 : INFO : Fin guardar fichero ..\\tfm_viu\\ejecuciones\\modelos\\modelo_5426_bin_s_ANOVA_RF.pkl\n"
     ]
    }
   ],
   "source": [
    "fichero_modelo = str.replace(\"modelo_\"+str(SEMILLA).zfill(4)+\"_\"+M_TIPO+\"_\"+M_SELECT+\"_\"+M_CLASIF+\".pkl\", \" \", \"_\")\n",
    "\n",
    "myfunc.save_modelo(mejor_modelo, myfunc.MODEL_DIR, fichero_modelo)"
   ]
  },
  {
   "cell_type": "markdown",
   "id": "d7c2bdec",
   "metadata": {
    "papermill": {
     "duration": 0.0,
     "end_time": "2023-10-30T04:42:07.548937",
     "exception": false,
     "start_time": "2023-10-30T04:42:07.548937",
     "status": "completed"
    },
    "tags": []
   },
   "source": [
    "#### Ver resultados del las iteraciones hechas por RandomSearchCV"
   ]
  },
  {
   "cell_type": "code",
   "execution_count": 9,
   "id": "085d0504",
   "metadata": {
    "execution": {
     "iopub.execute_input": "2023-10-30T04:42:07.564561Z",
     "iopub.status.busy": "2023-10-30T04:42:07.564561Z",
     "iopub.status.idle": "2023-10-30T04:42:07.580198Z",
     "shell.execute_reply": "2023-10-30T04:42:07.580198Z"
    },
    "papermill": {
     "duration": 0.031261,
     "end_time": "2023-10-30T04:42:07.580198",
     "exception": false,
     "start_time": "2023-10-30T04:42:07.548937",
     "status": "completed"
    },
    "tags": []
   },
   "outputs": [
    {
     "name": "stdout",
     "output_type": "stream",
     "text": [
      "20231030T054207 : amilcar32 : INFO : Inicio ver resultados\n",
      "Mejores Hiperparámetros: {'selector__k': 150, 'clasifier__n_estimators': 50, 'clasifier__min_samples_split': 20, 'clasifier__min_samples_leaf': 5, 'clasifier__max_features': 'sqrt', 'clasifier__max_depth': None, 'clasifier__bootstrap': True}\n",
      "Mejores puntuaciones: 0.7139 | Params: {'selector__k': 150, 'clasifier__n_estimators': 50, 'clasifier__min_samples_split': 20, 'clasifier__min_samples_leaf': 5, 'clasifier__max_features': 'sqrt', 'clasifier__max_depth': None, 'clasifier__bootstrap': True}\n",
      "Media de las puntuaciones: 0.7139 | Params: {'selector__k': 150, 'clasifier__n_estimators': 50, 'clasifier__min_samples_split': 20, 'clasifier__min_samples_leaf': 5, 'clasifier__max_features': 'sqrt', 'clasifier__max_depth': None, 'clasifier__bootstrap': True}\n",
      "20231030T054207 : amilcar32 : INFO : Fin resultados\n"
     ]
    }
   ],
   "source": [
    "myfunc.ver_resultados_search(random_search)"
   ]
  },
  {
   "cell_type": "markdown",
   "id": "b89877ea",
   "metadata": {
    "papermill": {
     "duration": 0.0,
     "end_time": "2023-10-30T04:42:07.580198",
     "exception": false,
     "start_time": "2023-10-30T04:42:07.580198",
     "status": "completed"
    },
    "tags": []
   },
   "source": [
    "#### Ver métricas del mejor modelo"
   ]
  },
  {
   "cell_type": "code",
   "execution_count": 10,
   "id": "dbf52cbe",
   "metadata": {
    "execution": {
     "iopub.execute_input": "2023-10-30T04:42:07.595824Z",
     "iopub.status.busy": "2023-10-30T04:42:07.595824Z",
     "iopub.status.idle": "2023-10-30T04:42:07.939525Z",
     "shell.execute_reply": "2023-10-30T04:42:07.939525Z"
    },
    "papermill": {
     "duration": 0.343701,
     "end_time": "2023-10-30T04:42:07.939525",
     "exception": false,
     "start_time": "2023-10-30T04:42:07.595824",
     "status": "completed"
    },
    "tags": []
   },
   "outputs": [
    {
     "name": "stdout",
     "output_type": "stream",
     "text": [
      "20231030T054207 : amilcar32 : INFO : Inicio ver métricas\n"
     ]
    },
    {
     "name": "stdout",
     "output_type": "stream",
     "text": [
      "              precision    recall  f1-score   support\n",
      "\n",
      "           0       0.60      0.67      0.63        46\n",
      "           1       0.59      0.51      0.55        43\n",
      "\n",
      "    accuracy                           0.60        89\n",
      "   macro avg       0.60      0.59      0.59        89\n",
      "weighted avg       0.60      0.60      0.59        89\n",
      "\n",
      "\n",
      "\n",
      "   Exactitud: 0.5955\n",
      "   Precisión: 0.5954\n",
      "Sensibilidad: 0.5928\n",
      "    F1-score: 0.5913\n",
      "     AUC ROC: 0.6810\n"
     ]
    },
    {
     "data": {
      "image/png": "[encoded data removed]",
      "text/plain": [
       "<Figure size 300x100 with 2 Axes>"
      ]
     },
     "metadata": {},
     "output_type": "display_data"
    },
    {
     "data": {
      "image/png": "[encoded data removed]",
      "text/plain": [
       "<Figure size 800x500 with 1 Axes>"
      ]
     },
     "metadata": {},
     "output_type": "display_data"
    },
    {
     "name": "stdout",
     "output_type": "stream",
     "text": [
      "20231030T054207 : amilcar32 : INFO : Fin ver métricas\n"
     ]
    }
   ],
   "source": [
    "if M_TIPO.startswith(\"bin\"):\n",
    "    myfunc.ver_metricas(mejor_modelo, X_test, y_test)\n",
    "else:\n",
    "    myfunc.ver_metricas_multi(mejor_modelo, X_test, y_test)\n"
   ]
  },
  {
   "cell_type": "markdown",
   "id": "2b6f19bc",
   "metadata": {
    "papermill": {
     "duration": 0.0,
     "end_time": "2023-10-30T04:42:07.939525",
     "exception": false,
     "start_time": "2023-10-30T04:42:07.939525",
     "status": "completed"
    },
    "tags": []
   },
   "source": [
    "#### Finalización del notebook"
   ]
  },
  {
   "cell_type": "code",
   "execution_count": 11,
   "id": "e48d4d6c",
   "metadata": {
    "execution": {
     "iopub.execute_input": "2023-10-30T04:42:07.955188Z",
     "iopub.status.busy": "2023-10-30T04:42:07.955188Z",
     "iopub.status.idle": "2023-10-30T04:42:07.970818Z",
     "shell.execute_reply": "2023-10-30T04:42:07.970818Z"
    },
    "papermill": {
     "duration": 0.031293,
     "end_time": "2023-10-30T04:42:07.970818",
     "exception": false,
     "start_time": "2023-10-30T04:42:07.939525",
     "status": "completed"
    },
    "tags": []
   },
   "outputs": [
    {
     "name": "stdout",
     "output_type": "stream",
     "text": [
      "20231030T054207 : amilcar32 : INFO : Notebook ha tardado 2 seconds\n"
     ]
    }
   ],
   "source": [
    "end_time = datetime.datetime.now()\n",
    "total_time = end_time - start_time\n",
    "myfunc.verbose(f\"Notebook ha tardado {total_time.seconds} seconds\")"
   ]
  },
  {
   "cell_type": "markdown",
   "id": "46ed5adc",
   "metadata": {
    "papermill": {
     "duration": 0.0,
     "end_time": "2023-10-30T04:42:07.970818",
     "exception": false,
     "start_time": "2023-10-30T04:42:07.970818",
     "status": "completed"
    },
    "tags": []
   },
   "source": [
    "#### Guardar métricas"
   ]
  },
  {
   "cell_type": "code",
   "execution_count": 12,
   "id": "2461b49b",
   "metadata": {
    "execution": {
     "iopub.execute_input": "2023-10-30T04:42:07.986437Z",
     "iopub.status.busy": "2023-10-30T04:42:07.986437Z",
     "iopub.status.idle": "2023-10-30T04:42:08.174036Z",
     "shell.execute_reply": "2023-10-30T04:42:08.174036Z"
    },
    "papermill": {
     "duration": 0.187599,
     "end_time": "2023-10-30T04:42:08.174036",
     "exception": false,
     "start_time": "2023-10-30T04:42:07.986437",
     "status": "completed"
    },
    "tags": []
   },
   "outputs": [
    {
     "name": "stdout",
     "output_type": "stream",
     "text": [
      "20231030T054207 : amilcar32 : INFO : Inicio guardar métricas\n",
      "20231030T054207 : amilcar32 : INFO : Inicio leer fichero ..\\tfm_viu\\ejecuciones\\metricas\\metricas_5426.csv\n",
      "20231030T054208 : amilcar32 : INFO : Fin leer fichero ..\\tfm_viu\\ejecuciones\\metricas\\metricas_5426.csv\n"
     ]
    },
    {
     "name": "stdout",
     "output_type": "stream",
     "text": [
      "20231030T054208 : amilcar32 : INFO : Inicio guardar fichero ..\\tfm_viu\\ejecuciones\\metricas\\metricas_5426.csv\n"
     ]
    },
    {
     "name": "stdout",
     "output_type": "stream",
     "text": [
      "20231030T054208 : amilcar32 : INFO : Fichero borrado ..\\tfm_viu\\ejecuciones\\metricas\\metricas_5426.csv\n",
      "20231030T054208 : amilcar32 : INFO : Fin guardar fichero ..\\tfm_viu\\ejecuciones\\metricas\\metricas_5426.csv\n",
      "20231030T054208 : amilcar32 : INFO : Fin guardar métricas\n",
      "20231030T054208 : amilcar32 : INFO : Inicio leer fichero ..\\tfm_viu\\ejecuciones\\metricas\\metricas_5426.csv\n",
      "20231030T054208 : amilcar32 : INFO : Fin leer fichero ..\\tfm_viu\\ejecuciones\\metricas\\metricas_5426.csv\n"
     ]
    },
    {
     "data": {
      "text/html": [
       "<div>\n",
       "<style scoped>\n",
       "    .dataframe tbody tr th:only-of-type {\n",
       "        vertical-align: middle;\n",
       "    }\n",
       "\n",
       "    .dataframe tbody tr th {\n",
       "        vertical-align: top;\n",
       "    }\n",
       "\n",
       "    .dataframe thead th {\n",
       "        text-align: right;\n",
       "    }\n",
       "</style>\n",
       "<table border=\"1\" class=\"dataframe\">\n",
       "  <thead>\n",
       "    <tr style=\"text-align: right;\">\n",
       "      <th></th>\n",
       "      <th>tipo</th>\n",
       "      <th>select</th>\n",
       "      <th>clasific</th>\n",
       "      <th>semilla</th>\n",
       "      <th>accuracy</th>\n",
       "      <th>precision</th>\n",
       "      <th>recall</th>\n",
       "      <th>f1_score</th>\n",
       "      <th>roc_auc</th>\n",
       "      <th>hostname</th>\n",
       "      <th>total_time_sec</th>\n",
       "      <th>datetime</th>\n",
       "      <th>fichero_modelo</th>\n",
       "      <th>params</th>\n",
       "      <th>shape</th>\n",
       "      <th>features</th>\n",
       "    </tr>\n",
       "  </thead>\n",
       "  <tbody>\n",
       "    <tr>\n",
       "      <th>0</th>\n",
       "      <td>bin_s</td>\n",
       "      <td>ANOVA</td>\n",
       "      <td>RF</td>\n",
       "      <td>5426</td>\n",
       "      <td>0.595506</td>\n",
       "      <td>0.595374</td>\n",
       "      <td>0.592770</td>\n",
       "      <td>0.591327</td>\n",
       "      <td>0.680991</td>\n",
       "      <td>amilcar32</td>\n",
       "      <td>2</td>\n",
       "      <td>2023-10-30 05:42:08.142687</td>\n",
       "      <td>modelo_5426_bin_s_ANOVA_RF.pkl</td>\n",
       "      <td>{'selector__k': 150, 'clasifier__n_estimators'...</td>\n",
       "      <td>X_test:(89, 18875)</td>\n",
       "      <td>['ENSG00000000971.17', 'ENSG00000002587.10', '...</td>\n",
       "    </tr>\n",
       "    <tr>\n",
       "      <th>0</th>\n",
       "      <td>bin_s</td>\n",
       "      <td>ANOVA</td>\n",
       "      <td>LR_L2</td>\n",
       "      <td>5426</td>\n",
       "      <td>0.752809</td>\n",
       "      <td>0.757277</td>\n",
       "      <td>0.750253</td>\n",
       "      <td>0.750255</td>\n",
       "      <td>0.800303</td>\n",
       "      <td>amilcar32</td>\n",
       "      <td>4</td>\n",
       "      <td>2023-10-30 05:42:00.552725</td>\n",
       "      <td>modelo_5426_bin_s_ANOVA_LR_L2.pkl</td>\n",
       "      <td>{'selector__k': 1000, 'clasifier__solver': 'lb...</td>\n",
       "      <td>X_test:(89, 18875)</td>\n",
       "      <td>['ENSG00000000938.13', 'ENSG00000000971.17', '...</td>\n",
       "    </tr>\n",
       "    <tr>\n",
       "      <th>0</th>\n",
       "      <td>bin_s</td>\n",
       "      <td>ANOVA</td>\n",
       "      <td>LR_L1</td>\n",
       "      <td>5426</td>\n",
       "      <td>0.674157</td>\n",
       "      <td>0.675439</td>\n",
       "      <td>0.671891</td>\n",
       "      <td>0.671503</td>\n",
       "      <td>0.770981</td>\n",
       "      <td>amilcar32</td>\n",
       "      <td>132</td>\n",
       "      <td>2023-10-30 05:41:50.366512</td>\n",
       "      <td>modelo_5426_bin_s_ANOVA_LR_L1.pkl</td>\n",
       "      <td>{'selector__k': 200, 'clasifier__solver': 'sag...</td>\n",
       "      <td>X_test:(89, 18875)</td>\n",
       "      <td>['ENSG00000000971.17', 'ENSG00000002587.10', '...</td>\n",
       "    </tr>\n",
       "  </tbody>\n",
       "</table>\n",
       "</div>"
      ],
      "text/plain": [
       "    tipo select clasific  semilla  accuracy  precision    recall  f1_score  \\\n",
       "0  bin_s  ANOVA       RF     5426  0.595506   0.595374  0.592770  0.591327   \n",
       "0  bin_s  ANOVA    LR_L2     5426  0.752809   0.757277  0.750253  0.750255   \n",
       "0  bin_s  ANOVA    LR_L1     5426  0.674157   0.675439  0.671891  0.671503   \n",
       "\n",
       "    roc_auc   hostname  total_time_sec                    datetime  \\\n",
       "0  0.680991  amilcar32               2  2023-10-30 05:42:08.142687   \n",
       "0  0.800303  amilcar32               4  2023-10-30 05:42:00.552725   \n",
       "0  0.770981  amilcar32             132  2023-10-30 05:41:50.366512   \n",
       "\n",
       "                      fichero_modelo  \\\n",
       "0     modelo_5426_bin_s_ANOVA_RF.pkl   \n",
       "0  modelo_5426_bin_s_ANOVA_LR_L2.pkl   \n",
       "0  modelo_5426_bin_s_ANOVA_LR_L1.pkl   \n",
       "\n",
       "                                              params               shape  \\\n",
       "0  {'selector__k': 150, 'clasifier__n_estimators'...  X_test:(89, 18875)   \n",
       "0  {'selector__k': 1000, 'clasifier__solver': 'lb...  X_test:(89, 18875)   \n",
       "0  {'selector__k': 200, 'clasifier__solver': 'sag...  X_test:(89, 18875)   \n",
       "\n",
       "                                            features  \n",
       "0  ['ENSG00000000971.17', 'ENSG00000002587.10', '...  \n",
       "0  ['ENSG00000000938.13', 'ENSG00000000971.17', '...  \n",
       "0  ['ENSG00000000971.17', 'ENSG00000002587.10', '...  "
      ]
     },
     "metadata": {},
     "output_type": "display_data"
    }
   ],
   "source": [
    "if M_TIPO.startswith(\"bin\"):\n",
    "    myfunc.save_metricas_to_csv(random_search, X_test, y_test, M_TIPO, M_SELECT, M_CLASIF, total_time, SEMILLA, myfunc.MET_DIR, M_FICHERO, fichero_modelo)\n",
    "else:\n",
    "    myfunc.save_metricas_multi_to_csv(random_search, X_test, y_test, M_TIPO, M_SELECT, M_CLASIF, total_time, SEMILLA, myfunc.MET_DIR, M_FICHERO, fichero_modelo)\n",
    "\n",
    "df1=myfunc.read_metricas_to_df(myfunc.MET_DIR,M_FICHERO)\n",
    "\n",
    "display(df1.sort_values(\"datetime\", ascending=False)[:3])\n"
   ]
  },
  {
   "cell_type": "markdown",
   "id": "c6a905f1",
   "metadata": {
    "papermill": {
     "duration": 0.0,
     "end_time": "2023-10-30T04:42:08.174036",
     "exception": false,
     "start_time": "2023-10-30T04:42:08.174036",
     "status": "completed"
    },
    "tags": []
   },
   "source": [
    "#### Guardar resultados"
   ]
  },
  {
   "cell_type": "code",
   "execution_count": 13,
   "id": "e0ea53f3",
   "metadata": {
    "execution": {
     "iopub.execute_input": "2023-10-30T04:42:08.189561Z",
     "iopub.status.busy": "2023-10-30T04:42:08.189561Z",
     "iopub.status.idle": "2023-10-30T04:42:08.205186Z",
     "shell.execute_reply": "2023-10-30T04:42:08.205186Z"
    },
    "papermill": {
     "duration": 0.03115,
     "end_time": "2023-10-30T04:42:08.205186",
     "exception": false,
     "start_time": "2023-10-30T04:42:08.174036",
     "status": "completed"
    },
    "tags": []
   },
   "outputs": [
    {
     "name": "stdout",
     "output_type": "stream",
     "text": [
      "20231030T054208 : amilcar32 : INFO : Inicio guardar resultados\n",
      "20231030T054208 : amilcar32 : INFO : Inicio guardar fichero ..\\tfm_viu\\ejecuciones\\metricas\\resultados_5426_bin_s-ANOVA-RF.csv\n",
      "20231030T054208 : amilcar32 : INFO : Fin guardar fichero ..\\tfm_viu\\ejecuciones\\metricas\\resultados_5426_bin_s-ANOVA-RF.csv\n",
      "20231030T054208 : amilcar32 : INFO : Fin guardar resultados\n"
     ]
    }
   ],
   "source": [
    "fichero_resultados=R_FICHERO+\"_\"+M_TIPO+\"-\"+M_SELECT+\"-\"+M_CLASIF+\".csv\"\n",
    "myfunc.save_resultados_to_csv(M_TIPO, M_SELECT, M_CLASIF,  random_search, myfunc.MET_DIR, fichero_resultados)\n"
   ]
  }
 ],
 "metadata": {
  "kernelspec": {
   "display_name": "Python 3 (ipykernel)",
   "language": "python",
   "name": "python3"
  },
  "language_info": {
   "codemirror_mode": {
    "name": "ipython",
    "version": 3
   },
   "file_extension": ".py",
   "mimetype": "text/x-python",
   "name": "python",
   "nbconvert_exporter": "python",
   "pygments_lexer": "ipython3",
   "version": "3.10.12"
  },
  "papermill": {
   "default_parameters": {},
   "duration": 6.556759,
   "end_time": "2023-10-30T04:42:08.658411",
   "environment_variables": {},
   "exception": null,
   "input_path": "03_entrenamiento.ipynb",
   "output_path": "ejecuciones\\training\\03_entrenamiento.20231030T_54201.param_0000_5426_bin_s_ANOVA_RF.output.ipynb",
   "parameters": {
    "MAX_ITERS": 500,
    "M_CLASIF": "RF",
    "M_FICHERO": "metricas_5426",
    "M_SELECT": "ANOVA",
    "M_TIPO": "bin_s",
    "PRE_DATA_FILE": "rows_transpose_norm_by_gene_id_with_target_num_",
    "P_FICHERO": "param_0000_5426_bin_s_ANOVA_RF.yaml",
    "R_FICHERO": "resultados_5426",
    "SCORING": "roc_auc_ovr",
    "SEMILLA": 5426,
    "eval_clasifier": "RandomForestClassifier(random_state=SEMILLA)",
    "eval_selector": "SelectKBest(score_func=f_classif)",
    "param_distributions": {
     "clasifier__bootstrap": [
      true
     ],
     "clasifier__max_depth": [
      "None"
     ],
     "clasifier__max_features": [
      "sqrt"
     ],
     "clasifier__min_samples_leaf": [
      5
     ],
     "clasifier__min_samples_split": [
      20
     ],
     "clasifier__n_estimators": [
      50
     ],
     "selector__k": [
      150
     ]
    }
   },
   "start_time": "2023-10-30T04:42:02.101652",
   "version": "2.4.0"
  }
 },
 "nbformat": 4,
 "nbformat_minor": 5
}