{
 "cells": [
  {
   "cell_type": "markdown",
   "id": "c4a397fe",
   "metadata": {
    "papermill": {
     "duration": 0.006012,
     "end_time": "2023-10-30T14:01:52.564817",
     "exception": false,
     "start_time": "2023-10-30T14:01:52.558805",
     "status": "completed"
    },
    "tags": []
   },
   "source": [
    "##### Inicio"
   ]
  },
  {
   "cell_type": "markdown",
   "id": "4c801a98",
   "metadata": {
    "papermill": {
     "duration": 0.003333,
     "end_time": "2023-10-30T14:01:52.571828",
     "exception": false,
     "start_time": "2023-10-30T14:01:52.568495",
     "status": "completed"
    },
    "tags": []
   },
   "source": [
    "#### Carga de datos"
   ]
  },
  {
   "cell_type": "code",
   "execution_count": 1,
   "id": "e308f3f3",
   "metadata": {
    "execution": {
     "iopub.execute_input": "2023-10-30T14:01:52.581063Z",
     "iopub.status.busy": "2023-10-30T14:01:52.580332Z",
     "iopub.status.idle": "2023-10-30T14:01:53.702894Z",
     "shell.execute_reply": "2023-10-30T14:01:53.702274Z"
    },
    "papermill": {
     "duration": 1.12919,
     "end_time": "2023-10-30T14:01:53.704310",
     "exception": false,
     "start_time": "2023-10-30T14:01:52.575120",
     "status": "completed"
    },
    "tags": []
   },
   "outputs": [
    {
     "name": "stdout",
     "output_type": "stream",
     "text": [
      "CPU_COUNT: 16; NODE: enderlab; sys.version: 3.10.11 (main, May 16 2023, 00:28:57) [GCC 11.2.0]\n",
      "LOKY_MAX_CPU_COUNT is not set.\n",
      "OMP_NUM_THREADS is not set.\n"
     ]
    }
   ],
   "source": [
    "import os\n",
    "import numpy as np\n",
    "import pandas as pd\n",
    "import datetime\n",
    "import sklearn\n",
    "import logging\n",
    "import warnings\n",
    "\n",
    "from sklearn.pipeline import Pipeline\n",
    "from sklearn.model_selection import RandomizedSearchCV, KFold, cross_val_score, train_test_split\n",
    "from sklearn.metrics import accuracy_score, confusion_matrix, classification_report, roc_auc_score\n",
    "\n",
    "#  cargar algoritmos para aprendizaje supervisado\n",
    "from sklearn.feature_selection import SelectKBest, f_classif, SelectFromModel, mutual_info_classif\n",
    "from sklearn.svm import SVC\n",
    "from sklearn.ensemble import RandomForestClassifier\n",
    "from sklearn.linear_model import LogisticRegression,LogisticRegressionCV\n",
    "\n",
    "# importar fichero con utilidades propias\n",
    "from commons import myfunctions as myfunc\n"
   ]
  },
  {
   "cell_type": "markdown",
   "id": "8b830190",
   "metadata": {
    "papermill": {
     "duration": 0.003593,
     "end_time": "2023-10-30T14:01:53.711959",
     "exception": false,
     "start_time": "2023-10-30T14:01:53.708366",
     "status": "completed"
    },
    "tags": []
   },
   "source": [
    "#### Parámetros a utilizar en el entrenamiento.\n",
    "\n",
    "Se indican los 3 algoritmos de *selección de características* (eval_selector_xxx) y los 3 algoritmos para la _clasificación_ (eval_clasifier_xxx)\n",
    "\n",
    "En *param_distributions* se indicar los parámetros que utilizan los algoritmos en la función RandomSearchCV.\n",
    "\n",
    "Esta celda tiene la etiqueta **parameters** que servirá para poder lanzar los entrenamientos con la utilidad **papermill** pasándole un fichero con los parámetros. Los nuevos parámetros se situarán tras esta celda para tener prevalencia."
   ]
  },
  {
   "cell_type": "code",
   "execution_count": 2,
   "id": "dbb8dbff",
   "metadata": {
    "execution": {
     "iopub.execute_input": "2023-10-30T14:01:53.720351Z",
     "iopub.status.busy": "2023-10-30T14:01:53.719941Z",
     "iopub.status.idle": "2023-10-30T14:01:53.728369Z",
     "shell.execute_reply": "2023-10-30T14:01:53.727837Z"
    },
    "papermill": {
     "duration": 0.014193,
     "end_time": "2023-10-30T14:01:53.729627",
     "exception": false,
     "start_time": "2023-10-30T14:01:53.715434",
     "status": "completed"
    },
    "tags": [
     "parameters"
    ]
   },
   "outputs": [
    {
     "name": "stdout",
     "output_type": "stream",
     "text": [
      "20231030T150153 : enderlab : INFO : Utilizando parámetros de mul_m\n"
     ]
    }
   ],
   "source": [
    "#  Parametros para el entrenamiento\n",
    "\n",
    "SEMILLA=        42\n",
    "M_TIPO=         \"mul_m\"\n",
    "M_SELECT=       \"MI\"\n",
    "M_CLASIF=       \"SVM\"\n",
    "R_FICHERO=      \"resultados\"\n",
    "M_FICHERO=      \"metricas\"\n",
    "PRE_DATA_FILE=  \"rows_transpose_norm_by_gene_id_with_target_num_\"\n",
    "SCORING=        \"roc_auc_ovr\" \n",
    "MAX_ITERS=      100\n",
    "\n",
    "def mutual_info_classif_state(X, y):\n",
    "    return mutual_info_classif(X, y, random_state=SEMILLA)\n",
    "\n",
    "eval_selector_mi = \"SelectKBest(score_func=mutual_info_classif_state)\"\n",
    "eval_selector_rf=  \"SelectFromModel(estimator=RandomForestClassifier(random_state=SEMILLA), threshold=-np.inf)\"\n",
    "eval_selector_anova=  \"SelectKBest(score_func=f_classif)\"\n",
    "\n",
    "eval_clasifier_svm= \"SVC(probability=True, random_state=SEMILLA)\"\n",
    "eval_clasifier_rf= \"RandomForestClassifier(random_state=SEMILLA)\"\n",
    "eval_clasifier_lr= \"LogisticRegressionCV(random_state=SEMILLA)\"\n",
    "\n",
    "if M_TIPO.startswith(\"bin_m\"):\n",
    "    myfunc.verbose(f\"Utilizando parámetros de {M_TIPO}\")\n",
    "    eval_selector = eval_selector_mi\n",
    "    eval_clasifier = eval_clasifier_svm\n",
    "\n",
    "    SEMILLA = 6578\n",
    "    M_SELECT = \"MI\"\n",
    "    M_CLASIF = \"SVM\"\n",
    "    param_distributions = {'selector__k': [1000], \n",
    "         'clasifier__kernel': ['rbf'], 'clasifier__gamma': [0.01], 'clasifier__C': [100]}\n",
    "elif M_TIPO.startswith(\"bin_s\"):\n",
    "    myfunc.verbose(f\"Utilizando parámetros de {M_TIPO}\")\n",
    "    eval_selector = eval_selector_rf\n",
    "    eval_clasifier = eval_clasifier_lr\n",
    "\n",
    "    SEMILLA = 6191\n",
    "    M_SELECT = \"RF\"\n",
    "    M_CLASIF = \"LR_L2\"\n",
    "    param_distributions = {'selector__max_features': [1000], 'selector__estimator__n_estimators': [200], \n",
    "        'clasifier__solver': ['lbfgs'], 'clasifier__penalty': ['l2'], 'clasifier__max_iter': [10000]}\n",
    "\n",
    "elif M_TIPO.startswith(\"mul_m\"):\n",
    "    myfunc.verbose(f\"Utilizando parámetros de {M_TIPO}\")\n",
    " \n",
    "    eval_selector = eval_selector_rf\n",
    "    eval_clasifier = eval_clasifier_lr\n",
    "\n",
    "    SEMILLA = 6191\n",
    "    M_SELECT = \"RF\"\n",
    "    M_CLASIF = \"LR_L2\"\n",
    "    param_distributions = {'selector__max_features': [1000], 'selector__estimator__n_estimators': [400], \n",
    "        'clasifier__solver': ['lbfgs'], 'clasifier__penalty': ['l2'], 'clasifier__max_iter': [10000]}\n",
    "\n",
    "else:\n",
    "    # M_TIPO.startswith(\"mul_s\"):\n",
    "    myfunc.verbose(f\"Utilizando parámetros de {M_TIPO}\")\n",
    "    eval_selector = eval_selector_anova\n",
    "    eval_clasifier = eval_clasifier_lr\n",
    "\n",
    "    SEMILLA = 1860\n",
    "    M_SELECT = \"ANOVA\"\n",
    "    M_CLASIF = \"LR_L2\"\n",
    "    param_distributions = {'selector__k': [1000], \n",
    "        'clasifier__solver': ['saga'], 'clasifier__penalty': ['l2'], 'clasifier__max_iter': [10000]}\n",
    "\n"
   ]
  },
  {
   "cell_type": "code",
   "execution_count": 3,
   "id": "470998ce",
   "metadata": {
    "execution": {
     "iopub.execute_input": "2023-10-30T14:01:53.737566Z",
     "iopub.status.busy": "2023-10-30T14:01:53.737342Z",
     "iopub.status.idle": "2023-10-30T14:01:53.741095Z",
     "shell.execute_reply": "2023-10-30T14:01:53.740580Z"
    },
    "papermill": {
     "duration": 0.009024,
     "end_time": "2023-10-30T14:01:53.742261",
     "exception": false,
     "start_time": "2023-10-30T14:01:53.733237",
     "status": "completed"
    },
    "tags": [
     "injected-parameters"
    ]
   },
   "outputs": [],
   "source": [
    "# Parameters\n",
    "M_TIPO = \"mul_m\"\n",
    "M_SELECT = \"MI\"\n",
    "M_CLASIF = \"LR_L2\"\n",
    "P_FICHERO = \"param_0000_7265_mul_m_MI_LR_L2.yaml\"\n",
    "R_FICHERO = \"resultados_7265\"\n",
    "M_FICHERO = \"metricas_7265\"\n",
    "PRE_DATA_FILE = \"rows_transpose_norm_by_gene_id_with_target_num_\"\n",
    "SCORING = \"roc_auc_ovr\"\n",
    "SEMILLA = 7265\n",
    "MAX_ITERS = 500\n",
    "eval_selector = \"SelectKBest(score_func=mutual_info_classif_state)\"\n",
    "eval_clasifier = \"LogisticRegressionCV(random_state=SEMILLA)\"\n",
    "param_distributions = {\n",
    "    \"selector__k\": [1000],\n",
    "    \"clasifier__solver\": [\"lbfgs\"],\n",
    "    \"clasifier__penalty\": [\"l2\"],\n",
    "    \"clasifier__max_iter\": [10000],\n",
    "}\n"
   ]
  },
  {
   "cell_type": "code",
   "execution_count": 4,
   "id": "18008c25",
   "metadata": {
    "execution": {
     "iopub.execute_input": "2023-10-30T14:01:53.750789Z",
     "iopub.status.busy": "2023-10-30T14:01:53.750407Z",
     "iopub.status.idle": "2023-10-30T14:01:53.753694Z",
     "shell.execute_reply": "2023-10-30T14:01:53.753163Z"
    },
    "papermill": {
     "duration": 0.009256,
     "end_time": "2023-10-30T14:01:53.754980",
     "exception": false,
     "start_time": "2023-10-30T14:01:53.745724",
     "status": "completed"
    },
    "tags": []
   },
   "outputs": [],
   "source": [
    "DATA_FILE = PRE_DATA_FILE + M_TIPO\n",
    "\n",
    "# si viene \"None\" en el parámetro max_depth, se le quitan las comillas para que no sea entendido por el algoritmo como un texto\n",
    "if \"clasifier__max_depth\" in param_distributions:\n",
    "    param_distributions['clasifier__max_depth'] = [None if x == 'None' else x for x in param_distributions['clasifier__max_depth']]"
   ]
  },
  {
   "cell_type": "markdown",
   "id": "ac530107",
   "metadata": {
    "papermill": {
     "duration": 0.003922,
     "end_time": "2023-10-30T14:01:53.762662",
     "exception": false,
     "start_time": "2023-10-30T14:01:53.758740",
     "status": "completed"
    },
    "tags": []
   },
   "source": [
    "Asignar los algoritmos que se utilizarán en la función RandomSearchCV"
   ]
  },
  {
   "cell_type": "code",
   "execution_count": 5,
   "id": "4f4e039f",
   "metadata": {
    "execution": {
     "iopub.execute_input": "2023-10-30T14:01:53.771153Z",
     "iopub.status.busy": "2023-10-30T14:01:53.770663Z",
     "iopub.status.idle": "2023-10-30T14:01:53.773804Z",
     "shell.execute_reply": "2023-10-30T14:01:53.773197Z"
    },
    "papermill": {
     "duration": 0.008786,
     "end_time": "2023-10-30T14:01:53.775074",
     "exception": false,
     "start_time": "2023-10-30T14:01:53.766288",
     "status": "completed"
    },
    "tags": []
   },
   "outputs": [],
   "source": [
    "algor_selector=eval(eval_selector)\n",
    "algor_clasifier=eval(eval_clasifier)"
   ]
  },
  {
   "cell_type": "markdown",
   "id": "8e09aa03",
   "metadata": {
    "papermill": {
     "duration": 0.003884,
     "end_time": "2023-10-30T14:01:53.782769",
     "exception": false,
     "start_time": "2023-10-30T14:01:53.778885",
     "status": "completed"
    },
    "tags": []
   },
   "source": [
    "#### Comprobar el entorno y leer fichero de muestras"
   ]
  },
  {
   "cell_type": "code",
   "execution_count": 6,
   "id": "b1797080",
   "metadata": {
    "execution": {
     "iopub.execute_input": "2023-10-30T14:01:53.791057Z",
     "iopub.status.busy": "2023-10-30T14:01:53.790691Z",
     "iopub.status.idle": "2023-10-30T14:01:54.048652Z",
     "shell.execute_reply": "2023-10-30T14:01:54.048023Z"
    },
    "papermill": {
     "duration": 0.263848,
     "end_time": "2023-10-30T14:01:54.050195",
     "exception": false,
     "start_time": "2023-10-30T14:01:53.786347",
     "status": "completed"
    },
    "tags": []
   },
   "outputs": [
    {
     "name": "stdout",
     "output_type": "stream",
     "text": [
      "20231030T150153 : enderlab : INFO : Encontrada carpeta DATA_DIR=../tfm_git/datos\n",
      "20231030T150153 : enderlab : INFO : Encontrada carpeta CFDNA_DIR=../tfm_git/datos/cfDNA_5hmC\n",
      "20231030T150153 : enderlab : INFO : Encontrada carpeta GENCODE_DIR=../tfm_git/datos/gencode\n",
      "20231030T150153 : enderlab : INFO : Encontrada carpeta H5_DIR=../tfm_git/datos/h5\n",
      "20231030T150153 : enderlab : INFO : Encontrada carpeta LOG_DIR=../tfm_git/datos/logs\n",
      "20231030T150153 : enderlab : INFO : Encontrada carpeta CSV_DIR=../tfm_git/datos/csv\n",
      "20231030T150153 : enderlab : INFO : Encontrada carpeta MODEL_DIR=../tfm_git/ejecuciones/modelos\n",
      "20231030T150153 : enderlab : INFO : Encontrada carpeta EXEC_DIR=../tfm_git/ejecuciones\n",
      "20231030T150153 : enderlab : INFO : Encontrada carpeta MET_DIR=../tfm_git/ejecuciones/metricas\n",
      "20231030T150153 : enderlab : INFO : Inicio leer fichero h5 ../tfm_git/datos/h5/rows_transpose_norm_by_gene_id_with_target_num_mul_m.h5\n",
      "20231030T150153 : enderlab : INFO : Leyendo clave /df\n"
     ]
    },
    {
     "name": "stdout",
     "output_type": "stream",
     "text": [
      "20231030T150153 : enderlab : INFO : Tamaño (434, 18876)\n",
      "20231030T150153 : enderlab : INFO : Fin leer fichero h5 ../tfm_git/datos/h5/rows_transpose_norm_by_gene_id_with_target_num_mul_m.h5\n"
     ]
    },
    {
     "data": {
      "text/plain": [
       "target\n",
       "0    62\n",
       "1    62\n",
       "2    62\n",
       "3    62\n",
       "4    62\n",
       "5    62\n",
       "6    62\n",
       "dtype: int64"
      ]
     },
     "metadata": {},
     "output_type": "display_data"
    },
    {
     "name": "stdout",
     "output_type": "stream",
     "text": [
      "Shape df: (434, 18876)\n"
     ]
    },
    {
     "name": "stdout",
     "output_type": "stream",
     "text": [
      "Shape X_train: (347, 18875)\n",
      "Shape X_test: (87, 18875)\n"
     ]
    }
   ],
   "source": [
    "start_time = datetime.datetime.now()\n",
    "\n",
    "myfunc.reset_vars()\n",
    "\n",
    "myfunc.NOTEBK_FILENAME = myfunc.get_nb_name()\n",
    "\n",
    "myfunc.check_enviroment(myfunc.DATA_DIR, myfunc.CFDNA_DIR, myfunc.GENCODE_DIR, myfunc.H5_DIR, myfunc.LOG_DIR, myfunc.CSV_DIR, myfunc.MODEL_DIR, myfunc.EXEC_DIR, myfunc.MET_DIR)\n",
    "\n",
    "# Leer fichero con las muestras\n",
    "df_t = myfunc.read_h5_to_df(DATA_FILE, myfunc.H5_DIR)\n",
    "display(df_t.groupby(\"target\").size())\n",
    "print(\"Shape df:\",df_t.shape)\n",
    "\n",
    "# Separar caracteristicas/genes de las etiquetas/tipos de cáncer\n",
    "X = df_t.iloc[:, :-1]  # Todas las columnas excepto la última\n",
    "y = df_t.iloc[:, -1]  # La última columna contiene los identificadores de los tipos de cáncer\n",
    "\n",
    "#  Crear el conjunto de datos de entrenamiento y de pruebas, y se fija la semilla para siempre coger el mismo juego de muestras\n",
    "X_train, X_test, y_train, y_test = train_test_split(X, y, test_size=0.2, shuffle=True, random_state=42)\n",
    "print(\"Shape X_train:\",X_train.shape)\n",
    "print(\"Shape X_test:\",X_test.shape)\n"
   ]
  },
  {
   "cell_type": "markdown",
   "id": "3b9ca431",
   "metadata": {
    "papermill": {
     "duration": 0.004014,
     "end_time": "2023-10-30T14:01:54.058951",
     "exception": false,
     "start_time": "2023-10-30T14:01:54.054937",
     "status": "completed"
    },
    "tags": []
   },
   "source": [
    "#### Selección de características y clasificación."
   ]
  },
  {
   "cell_type": "code",
   "execution_count": 7,
   "id": "915fc20d",
   "metadata": {
    "execution": {
     "iopub.execute_input": "2023-10-30T14:01:54.068385Z",
     "iopub.status.busy": "2023-10-30T14:01:54.067756Z",
     "iopub.status.idle": "2023-10-30T14:06:05.715386Z",
     "shell.execute_reply": "2023-10-30T14:06:05.714791Z"
    },
    "papermill": {
     "duration": 251.658382,
     "end_time": "2023-10-30T14:06:05.721264",
     "exception": false,
     "start_time": "2023-10-30T14:01:54.062882",
     "status": "completed"
    },
    "tags": []
   },
   "outputs": [
    {
     "name": "stdout",
     "output_type": "stream",
     "text": [
      "20231030T150154 : enderlab : INFO : Iniciando entrenamiento\n",
      "num_iter: 1 , max_iter: 1\n",
      "Fitting 5 folds for each of 1 candidates, totalling 5 fits\n"
     ]
    },
    {
     "name": "stdout",
     "output_type": "stream",
     "text": [
      "Mejores Hiperparámetros: {'selector__k': 1000, 'clasifier__solver': 'lbfgs', 'clasifier__penalty': 'l2', 'clasifier__max_iter': 10000}\n",
      "Mejor Puntuación: 0.8815\n",
      "20231030T150605 : enderlab : INFO : Fin entrenamiento\n"
     ]
    }
   ],
   "source": [
    "myfunc.verbose(\"Iniciando entrenamiento\")\n",
    "\n",
    "kf = KFold(n_splits=5, shuffle=True, random_state=SEMILLA)\n",
    "\n",
    "# Crear el pipeline para el flujo de tareas\n",
    "tasks_pipeline = Pipeline([\n",
    "    ('selector', algor_selector),\n",
    "    ('clasifier', algor_clasifier)\n",
    "])\n",
    "\n",
    "# MAX_ITERS puede limitar el número de iteraciones si son excesivas para las combinaciones de parámetros buscando un óptimo local, \n",
    "# sino funcionaría como GridSearchCV al revisar todas las cominaciones de los parámetros\n",
    "num_iteraciones = 1\n",
    "num_iteraciones = num_iteraciones * np.prod([len(elemento1) for _, elemento1 in param_distributions.items()])\n",
    "max_iteraciones = num_iteraciones if num_iteraciones <= MAX_ITERS else MAX_ITERS\n",
    "print(\"num_iter:\",num_iteraciones,\", max_iter:\",max_iteraciones)\n",
    "\n",
    "random_search = RandomizedSearchCV(\n",
    "    tasks_pipeline, \n",
    "    param_distributions, \n",
    "    n_iter=max_iteraciones,\n",
    "    scoring=SCORING,\n",
    "    cv=kf,\n",
    "    verbose=3, \n",
    "    random_state=SEMILLA, \n",
    "    n_jobs=-1\n",
    "    )\n",
    "\n",
    "# Entrenar el modelo\n",
    "random_search.fit(X_train, y_train)\n",
    "\n",
    "# Ver los mejores hiperparámetros encontrados\n",
    "print(f'Mejores Hiperparámetros: {random_search.best_params_}')\n",
    "print(f'Mejor Puntuación: {random_search.best_score_:.4f}')\n",
    "\n",
    "# Nos quedamos con el mejor modelo para ver las métricas\n",
    "mejor_modelo = random_search.best_estimator_\n",
    "\n",
    "myfunc.verbose(\"Fin entrenamiento\")"
   ]
  },
  {
   "cell_type": "markdown",
   "id": "a2dd092b",
   "metadata": {
    "papermill": {
     "duration": 0.005104,
     "end_time": "2023-10-30T14:06:05.732444",
     "exception": false,
     "start_time": "2023-10-30T14:06:05.727340",
     "status": "completed"
    },
    "tags": []
   },
   "source": [
    "#### Guardar modelo"
   ]
  },
  {
   "cell_type": "code",
   "execution_count": 8,
   "id": "98668ab2",
   "metadata": {
    "execution": {
     "iopub.execute_input": "2023-10-30T14:06:05.742048Z",
     "iopub.status.busy": "2023-10-30T14:06:05.741720Z",
     "iopub.status.idle": "2023-10-30T14:06:05.753083Z",
     "shell.execute_reply": "2023-10-30T14:06:05.752597Z"
    },
    "papermill": {
     "duration": 0.017885,
     "end_time": "2023-10-30T14:06:05.754445",
     "exception": false,
     "start_time": "2023-10-30T14:06:05.736560",
     "status": "completed"
    },
    "tags": []
   },
   "outputs": [
    {
     "name": "stdout",
     "output_type": "stream",
     "text": [
      "20231030T150605 : enderlab : INFO : Inicio guardar fichero ../tfm_git/ejecuciones/modelos/modelo_7265_mul_m_MI_LR_L2.pkl\n",
      "20231030T150605 : enderlab : INFO : Fin guardar fichero ../tfm_git/ejecuciones/modelos/modelo_7265_mul_m_MI_LR_L2.pkl\n"
     ]
    }
   ],
   "source": [
    "fichero_modelo = str.replace(\"modelo_\"+str(SEMILLA).zfill(4)+\"_\"+M_TIPO+\"_\"+M_SELECT+\"_\"+M_CLASIF+\".pkl\", \" \", \"_\")\n",
    "\n",
    "myfunc.save_modelo(mejor_modelo, myfunc.MODEL_DIR, fichero_modelo)"
   ]
  },
  {
   "cell_type": "markdown",
   "id": "1f4a2935",
   "metadata": {
    "papermill": {
     "duration": 0.004102,
     "end_time": "2023-10-30T14:06:05.762644",
     "exception": false,
     "start_time": "2023-10-30T14:06:05.758542",
     "status": "completed"
    },
    "tags": []
   },
   "source": [
    "#### Ver resultados del las iteraciones hechas por RandomSearchCV"
   ]
  },
  {
   "cell_type": "code",
   "execution_count": 9,
   "id": "262be6ac",
   "metadata": {
    "execution": {
     "iopub.execute_input": "2023-10-30T14:06:05.773964Z",
     "iopub.status.busy": "2023-10-30T14:06:05.773560Z",
     "iopub.status.idle": "2023-10-30T14:06:05.780269Z",
     "shell.execute_reply": "2023-10-30T14:06:05.779772Z"
    },
    "papermill": {
     "duration": 0.013131,
     "end_time": "2023-10-30T14:06:05.781691",
     "exception": false,
     "start_time": "2023-10-30T14:06:05.768560",
     "status": "completed"
    },
    "tags": []
   },
   "outputs": [
    {
     "name": "stdout",
     "output_type": "stream",
     "text": [
      "20231030T150605 : enderlab : INFO : Inicio ver resultados\n",
      "Mejores Hiperparámetros: {'selector__k': 1000, 'clasifier__solver': 'lbfgs', 'clasifier__penalty': 'l2', 'clasifier__max_iter': 10000}\n",
      "Mejores puntuaciones: 0.8815 | Params: {'selector__k': 1000, 'clasifier__solver': 'lbfgs', 'clasifier__penalty': 'l2', 'clasifier__max_iter': 10000}\n",
      "Media de las puntuaciones: 0.8815 | Params: {'selector__k': 1000, 'clasifier__solver': 'lbfgs', 'clasifier__penalty': 'l2', 'clasifier__max_iter': 10000}\n",
      "20231030T150605 : enderlab : INFO : Fin resultados\n"
     ]
    }
   ],
   "source": [
    "myfunc.ver_resultados_search(random_search)"
   ]
  },
  {
   "cell_type": "markdown",
   "id": "69ccf57b",
   "metadata": {
    "papermill": {
     "duration": 0.004138,
     "end_time": "2023-10-30T14:06:05.790058",
     "exception": false,
     "start_time": "2023-10-30T14:06:05.785920",
     "status": "completed"
    },
    "tags": []
   },
   "source": [
    "#### Ver métricas del mejor modelo"
   ]
  },
  {
   "cell_type": "code",
   "execution_count": 10,
   "id": "e81a45fa",
   "metadata": {
    "execution": {
     "iopub.execute_input": "2023-10-30T14:06:05.799755Z",
     "iopub.status.busy": "2023-10-30T14:06:05.799190Z",
     "iopub.status.idle": "2023-10-30T14:06:06.503275Z",
     "shell.execute_reply": "2023-10-30T14:06:06.502675Z"
    },
    "papermill": {
     "duration": 0.710468,
     "end_time": "2023-10-30T14:06:06.504681",
     "exception": false,
     "start_time": "2023-10-30T14:06:05.794213",
     "status": "completed"
    },
    "tags": []
   },
   "outputs": [
    {
     "name": "stdout",
     "output_type": "stream",
     "text": [
      "20231030T150605 : enderlab : INFO : Inicio ver métricas multiclase\n"
     ]
    },
    {
     "name": "stdout",
     "output_type": "stream",
     "text": [
      "              precision    recall  f1-score   support\n",
      "\n",
      "           0       0.67      0.38      0.48        16\n",
      "           1       0.62      0.53      0.57        15\n",
      "           2       0.27      0.27      0.27        11\n",
      "           3       0.36      0.80      0.50         5\n",
      "           4       0.67      0.62      0.64        13\n",
      "           5       0.67      0.67      0.67         9\n",
      "           6       0.59      0.72      0.65        18\n",
      "\n",
      "    accuracy                           0.55        87\n",
      "   macro avg       0.55      0.57      0.54        87\n",
      "weighted avg       0.57      0.55      0.55        87\n",
      "\n",
      "\n",
      "\n",
      "           Exactitud: 0.551724\n",
      "   Precisión (media): 0.548951\n",
      "      Recall (media): 0.569333\n",
      "    F1-score (media): 0.540118\n",
      "\n",
      "\n",
      "AUC para el tipo de cáncer 0-Control.... 0.8891\n",
      "AUC para el tipo de cáncer 1-Bladder.... 0.8565\n",
      "AUC para el tipo de cáncer 2-Breast..... 0.7739\n"
     ]
    },
    {
     "name": "stdout",
     "output_type": "stream",
     "text": [
      "AUC para el tipo de cáncer 3-Colorectal. 0.9244\n",
      "AUC para el tipo de cáncer 4-Kidney..... 0.8420\n",
      "AUC para el tipo de cáncer 5-Lung....... 0.9131\n",
      "AUC para el tipo de cáncer 6-Prostate... 0.8994\n",
      "\n",
      "Media de AUC: 0.8712\n"
     ]
    },
    {
     "data": {
      "image/png": "[encoded data removed]",
      "text/plain": [
       "<Figure size 1000x600 with 1 Axes>"
      ]
     },
     "metadata": {},
     "output_type": "display_data"
    },
    {
     "name": "stdout",
     "output_type": "stream",
     "text": [
      "\n",
      "\n"
     ]
    },
    {
     "data": {
      "image/png": "[encoded data removed]",
      "text/plain": [
       "<Figure size 800x400 with 2 Axes>"
      ]
     },
     "metadata": {},
     "output_type": "display_data"
    },
    {
     "name": "stdout",
     "output_type": "stream",
     "text": [
      "\n",
      "\n",
      "Puntuación Jaccard para el cáncer tipo 0-Control.... 0.3158\n",
      "Puntuación Jaccard para el cáncer tipo 1-Bladder.... 0.4000\n",
      "Puntuación Jaccard para el cáncer tipo 2-Breast..... 0.1579\n",
      "Puntuación Jaccard para el cáncer tipo 3-Colorectal. 0.3333\n",
      "Puntuación Jaccard para el cáncer tipo 4-Kidney..... 0.4706\n",
      "Puntuación Jaccard para el cáncer tipo 5-Lung....... 0.5000\n",
      "Puntuación Jaccard para el cáncer tipo 6-Prostate... 0.4815\n",
      "\n",
      "Media de la puntuación de Jaccard: 0.3799\n"
     ]
    }
   ],
   "source": [
    "if M_TIPO.startswith(\"bin\"):\n",
    "    myfunc.ver_metricas(mejor_modelo, X_test, y_test)\n",
    "else:\n",
    "    myfunc.ver_metricas_multi(mejor_modelo, X_test, y_test)\n"
   ]
  },
  {
   "cell_type": "markdown",
   "id": "93368b8a",
   "metadata": {
    "papermill": {
     "duration": 0.006129,
     "end_time": "2023-10-30T14:06:06.517719",
     "exception": false,
     "start_time": "2023-10-30T14:06:06.511590",
     "status": "completed"
    },
    "tags": []
   },
   "source": [
    "#### Finalización del notebook"
   ]
  },
  {
   "cell_type": "code",
   "execution_count": 11,
   "id": "f779f6d2",
   "metadata": {
    "execution": {
     "iopub.execute_input": "2023-10-30T14:06:06.530982Z",
     "iopub.status.busy": "2023-10-30T14:06:06.530695Z",
     "iopub.status.idle": "2023-10-30T14:06:06.534860Z",
     "shell.execute_reply": "2023-10-30T14:06:06.534219Z"
    },
    "papermill": {
     "duration": 0.012696,
     "end_time": "2023-10-30T14:06:06.536348",
     "exception": false,
     "start_time": "2023-10-30T14:06:06.523652",
     "status": "completed"
    },
    "tags": []
   },
   "outputs": [
    {
     "name": "stdout",
     "output_type": "stream",
     "text": [
      "20231030T150606 : enderlab : INFO : Notebook ha tardado 252 seconds\n"
     ]
    }
   ],
   "source": [
    "end_time = datetime.datetime.now()\n",
    "total_time = end_time - start_time\n",
    "myfunc.verbose(f\"Notebook ha tardado {total_time.seconds} seconds\")"
   ]
  },
  {
   "cell_type": "markdown",
   "id": "0d3d85e2",
   "metadata": {
    "papermill": {
     "duration": 0.007223,
     "end_time": "2023-10-30T14:06:06.550304",
     "exception": false,
     "start_time": "2023-10-30T14:06:06.543081",
     "status": "completed"
    },
    "tags": []
   },
   "source": [
    "#### Guardar métricas"
   ]
  },
  {
   "cell_type": "code",
   "execution_count": 12,
   "id": "aad97161",
   "metadata": {
    "execution": {
     "iopub.execute_input": "2023-10-30T14:06:06.564837Z",
     "iopub.status.busy": "2023-10-30T14:06:06.564549Z",
     "iopub.status.idle": "2023-10-30T14:06:06.811008Z",
     "shell.execute_reply": "2023-10-30T14:06:06.810440Z"
    },
    "papermill": {
     "duration": 0.255081,
     "end_time": "2023-10-30T14:06:06.812366",
     "exception": false,
     "start_time": "2023-10-30T14:06:06.557285",
     "status": "completed"
    },
    "tags": []
   },
   "outputs": [
    {
     "name": "stdout",
     "output_type": "stream",
     "text": [
      "20231030T150606 : enderlab : INFO : Inicio guardar métricas multiclase\n",
      "20231030T150606 : enderlab : INFO : Inicio leer fichero ../tfm_git/ejecuciones/metricas/metricas_7265.csv\n",
      "20231030T150606 : enderlab : INFO : Fin leer fichero ../tfm_git/ejecuciones/metricas/metricas_7265.csv\n"
     ]
    },
    {
     "name": "stdout",
     "output_type": "stream",
     "text": [
      "20231030T150606 : enderlab : INFO : Inicio guardar fichero ../tfm_git/ejecuciones/metricas/metricas_7265.csv\n",
      "20231030T150606 : enderlab : INFO : Fichero borrado ../tfm_git/ejecuciones/metricas/metricas_7265.csv\n"
     ]
    },
    {
     "name": "stdout",
     "output_type": "stream",
     "text": [
      "20231030T150606 : enderlab : INFO : Fin guardar fichero ../tfm_git/ejecuciones/metricas/metricas_7265.csv\n",
      "20231030T150606 : enderlab : INFO : Fin guardar métricas multiclase\n",
      "20231030T150606 : enderlab : INFO : Inicio leer fichero ../tfm_git/ejecuciones/metricas/metricas_7265.csv\n",
      "20231030T150606 : enderlab : INFO : Fin leer fichero ../tfm_git/ejecuciones/metricas/metricas_7265.csv\n"
     ]
    },
    {
     "data": {
      "text/html": [
       "<div>\n",
       "<style scoped>\n",
       "    .dataframe tbody tr th:only-of-type {\n",
       "        vertical-align: middle;\n",
       "    }\n",
       "\n",
       "    .dataframe tbody tr th {\n",
       "        vertical-align: top;\n",
       "    }\n",
       "\n",
       "    .dataframe thead th {\n",
       "        text-align: right;\n",
       "    }\n",
       "</style>\n",
       "<table border=\"1\" class=\"dataframe\">\n",
       "  <thead>\n",
       "    <tr style=\"text-align: right;\">\n",
       "      <th></th>\n",
       "      <th>tipo</th>\n",
       "      <th>select</th>\n",
       "      <th>clasific</th>\n",
       "      <th>semilla</th>\n",
       "      <th>accuracy</th>\n",
       "      <th>precision</th>\n",
       "      <th>recall</th>\n",
       "      <th>f1_score</th>\n",
       "      <th>roc_auc</th>\n",
       "      <th>hostname</th>\n",
       "      <th>total_time_sec</th>\n",
       "      <th>datetime</th>\n",
       "      <th>fichero_modelo</th>\n",
       "      <th>params</th>\n",
       "      <th>shape</th>\n",
       "      <th>features</th>\n",
       "      <th>roc_auc_ovr</th>\n",
       "      <th>indices_auc</th>\n",
       "      <th>indices_jaccard</th>\n",
       "    </tr>\n",
       "  </thead>\n",
       "  <tbody>\n",
       "    <tr>\n",
       "      <th>0</th>\n",
       "      <td>mul_m</td>\n",
       "      <td>MI</td>\n",
       "      <td>LR_L2</td>\n",
       "      <td>7265</td>\n",
       "      <td>0.551724</td>\n",
       "      <td>0.548951</td>\n",
       "      <td>0.569333</td>\n",
       "      <td>0.540118</td>\n",
       "      <td>NaN</td>\n",
       "      <td>enderlab</td>\n",
       "      <td>252</td>\n",
       "      <td>2023-10-30 15:06:06.763149</td>\n",
       "      <td>modelo_7265_mul_m_MI_LR_L2.pkl</td>\n",
       "      <td>{'selector__k': 1000, 'clasifier__solver': 'lb...</td>\n",
       "      <td>X_test:(87, 18875)</td>\n",
       "      <td>['ENSG00000001084.13', 'ENSG00000001460.18', '...</td>\n",
       "      <td>0.871191</td>\n",
       "      <td>[0.8890845070422535, 0.8564814814814814, 0.773...</td>\n",
       "      <td>[0.3157894736842105, 0.4, 0.15789473684210525,...</td>\n",
       "    </tr>\n",
       "    <tr>\n",
       "      <th>0</th>\n",
       "      <td>mul_m</td>\n",
       "      <td>MI</td>\n",
       "      <td>LR_L1</td>\n",
       "      <td>7265</td>\n",
       "      <td>0.586207</td>\n",
       "      <td>0.572400</td>\n",
       "      <td>0.603659</td>\n",
       "      <td>0.574571</td>\n",
       "      <td>NaN</td>\n",
       "      <td>enderlab</td>\n",
       "      <td>1792</td>\n",
       "      <td>2023-10-30 15:01:47.008568</td>\n",
       "      <td>modelo_7265_mul_m_MI_LR_L1.pkl</td>\n",
       "      <td>{'selector__k': 1000, 'clasifier__solver': 'sa...</td>\n",
       "      <td>X_test:(87, 18875)</td>\n",
       "      <td>['ENSG00000001084.13', 'ENSG00000001460.18', '...</td>\n",
       "      <td>0.866979</td>\n",
       "      <td>[0.8794014084507042, 0.8666666666666667, 0.748...</td>\n",
       "      <td>[0.35, 0.5, 0.17647058823529413, 0.4, 0.444444...</td>\n",
       "    </tr>\n",
       "    <tr>\n",
       "      <th>0</th>\n",
       "      <td>mul_m</td>\n",
       "      <td>MI</td>\n",
       "      <td>LR_EN</td>\n",
       "      <td>7265</td>\n",
       "      <td>0.574713</td>\n",
       "      <td>0.569944</td>\n",
       "      <td>0.594135</td>\n",
       "      <td>0.564618</td>\n",
       "      <td>NaN</td>\n",
       "      <td>enderlab</td>\n",
       "      <td>1825</td>\n",
       "      <td>2023-10-30 14:31:47.381944</td>\n",
       "      <td>modelo_7265_mul_m_MI_LR_EN.pkl</td>\n",
       "      <td>{'selector__k': 1000, 'clasifier__solver': 'sa...</td>\n",
       "      <td>X_test:(87, 18875)</td>\n",
       "      <td>['ENSG00000001084.13', 'ENSG00000001460.18', '...</td>\n",
       "      <td>0.879769</td>\n",
       "      <td>[0.897887323943662, 0.8675925925925926, 0.7655...</td>\n",
       "      <td>[0.3684210526315789, 0.4444444444444444, 0.166...</td>\n",
       "    </tr>\n",
       "  </tbody>\n",
       "</table>\n",
       "</div>"
      ],
      "text/plain": [
       "    tipo select clasific  semilla  accuracy  precision    recall  f1_score  \\\n",
       "0  mul_m     MI    LR_L2     7265  0.551724   0.548951  0.569333  0.540118   \n",
       "0  mul_m     MI    LR_L1     7265  0.586207   0.572400  0.603659  0.574571   \n",
       "0  mul_m     MI    LR_EN     7265  0.574713   0.569944  0.594135  0.564618   \n",
       "\n",
       "   roc_auc  hostname  total_time_sec                    datetime  \\\n",
       "0      NaN  enderlab             252  2023-10-30 15:06:06.763149   \n",
       "0      NaN  enderlab            1792  2023-10-30 15:01:47.008568   \n",
       "0      NaN  enderlab            1825  2023-10-30 14:31:47.381944   \n",
       "\n",
       "                   fichero_modelo  \\\n",
       "0  modelo_7265_mul_m_MI_LR_L2.pkl   \n",
       "0  modelo_7265_mul_m_MI_LR_L1.pkl   \n",
       "0  modelo_7265_mul_m_MI_LR_EN.pkl   \n",
       "\n",
       "                                              params               shape  \\\n",
       "0  {'selector__k': 1000, 'clasifier__solver': 'lb...  X_test:(87, 18875)   \n",
       "0  {'selector__k': 1000, 'clasifier__solver': 'sa...  X_test:(87, 18875)   \n",
       "0  {'selector__k': 1000, 'clasifier__solver': 'sa...  X_test:(87, 18875)   \n",
       "\n",
       "                                            features  roc_auc_ovr  \\\n",
       "0  ['ENSG00000001084.13', 'ENSG00000001460.18', '...     0.871191   \n",
       "0  ['ENSG00000001084.13', 'ENSG00000001460.18', '...     0.866979   \n",
       "0  ['ENSG00000001084.13', 'ENSG00000001460.18', '...     0.879769   \n",
       "\n",
       "                                         indices_auc  \\\n",
       "0  [0.8890845070422535, 0.8564814814814814, 0.773...   \n",
       "0  [0.8794014084507042, 0.8666666666666667, 0.748...   \n",
       "0  [0.897887323943662, 0.8675925925925926, 0.7655...   \n",
       "\n",
       "                                     indices_jaccard  \n",
       "0  [0.3157894736842105, 0.4, 0.15789473684210525,...  \n",
       "0  [0.35, 0.5, 0.17647058823529413, 0.4, 0.444444...  \n",
       "0  [0.3684210526315789, 0.4444444444444444, 0.166...  "
      ]
     },
     "metadata": {},
     "output_type": "display_data"
    }
   ],
   "source": [
    "if M_TIPO.startswith(\"bin\"):\n",
    "    myfunc.save_metricas_to_csv(random_search, X_test, y_test, M_TIPO, M_SELECT, M_CLASIF, total_time, SEMILLA, myfunc.MET_DIR, M_FICHERO, fichero_modelo)\n",
    "else:\n",
    "    myfunc.save_metricas_multi_to_csv(random_search, X_test, y_test, M_TIPO, M_SELECT, M_CLASIF, total_time, SEMILLA, myfunc.MET_DIR, M_FICHERO, fichero_modelo)\n",
    "\n",
    "df1=myfunc.read_metricas_to_df(myfunc.MET_DIR,M_FICHERO)\n",
    "\n",
    "display(df1.sort_values(\"datetime\", ascending=False)[:3])\n"
   ]
  },
  {
   "cell_type": "markdown",
   "id": "305b663d",
   "metadata": {
    "papermill": {
     "duration": 0.006583,
     "end_time": "2023-10-30T14:06:06.826126",
     "exception": false,
     "start_time": "2023-10-30T14:06:06.819543",
     "status": "completed"
    },
    "tags": []
   },
   "source": [
    "#### Guardar resultados"
   ]
  },
  {
   "cell_type": "code",
   "execution_count": 13,
   "id": "855788f3",
   "metadata": {
    "execution": {
     "iopub.execute_input": "2023-10-30T14:06:06.840362Z",
     "iopub.status.busy": "2023-10-30T14:06:06.839692Z",
     "iopub.status.idle": "2023-10-30T14:06:06.849748Z",
     "shell.execute_reply": "2023-10-30T14:06:06.849123Z"
    },
    "papermill": {
     "duration": 0.018636,
     "end_time": "2023-10-30T14:06:06.851121",
     "exception": false,
     "start_time": "2023-10-30T14:06:06.832485",
     "status": "completed"
    },
    "tags": []
   },
   "outputs": [
    {
     "name": "stdout",
     "output_type": "stream",
     "text": [
      "20231030T150606 : enderlab : INFO : Inicio guardar resultados\n",
      "20231030T150606 : enderlab : INFO : Inicio guardar fichero ../tfm_git/ejecuciones/metricas/resultados_7265_mul_m-MI-LR_L2.csv\n",
      "20231030T150606 : enderlab : INFO : Fin guardar fichero ../tfm_git/ejecuciones/metricas/resultados_7265_mul_m-MI-LR_L2.csv\n",
      "20231030T150606 : enderlab : INFO : Fin guardar resultados\n"
     ]
    }
   ],
   "source": [
    "fichero_resultados=R_FICHERO+\"_\"+M_TIPO+\"-\"+M_SELECT+\"-\"+M_CLASIF+\".csv\"\n",
    "myfunc.save_resultados_to_csv(M_TIPO, M_SELECT, M_CLASIF,  random_search, myfunc.MET_DIR, fichero_resultados)\n"
   ]
  }
 ],
 "metadata": {
  "kernelspec": {
   "display_name": "Python 3 (ipykernel)",
   "language": "python",
   "name": "python3"
  },
  "language_info": {
   "codemirror_mode": {
    "name": "ipython",
    "version": 3
   },
   "file_extension": ".py",
   "mimetype": "text/x-python",
   "name": "python",
   "nbconvert_exporter": "python",
   "pygments_lexer": "ipython3",
   "version": "3.10.11"
  },
  "papermill": {
   "default_parameters": {},
   "duration": 258.105755,
   "end_time": "2023-10-30T14:06:09.475250",
   "environment_variables": {},
   "exception": null,
   "input_path": "03_entrenamiento.ipynb",
   "output_path": "ejecuciones/training/03_entrenamiento.20231030T150150.param_0000_7265_mul_m_MI_LR_L2.output.ipynb",
   "parameters": {
    "MAX_ITERS": 500,
    "M_CLASIF": "LR_L2",
    "M_FICHERO": "metricas_7265",
    "M_SELECT": "MI",
    "M_TIPO": "mul_m",
    "PRE_DATA_FILE": "rows_transpose_norm_by_gene_id_with_target_num_",
    "P_FICHERO": "param_0000_7265_mul_m_MI_LR_L2.yaml",
    "R_FICHERO": "resultados_7265",
    "SCORING": "roc_auc_ovr",
    "SEMILLA": 7265,
    "eval_clasifier": "LogisticRegressionCV(random_state=SEMILLA)",
    "eval_selector": "SelectKBest(score_func=mutual_info_classif_state)",
    "param_distributions": {
     "clasifier__max_iter": [
      10000
     ],
     "clasifier__penalty": [
      "l2"
     ],
     "clasifier__solver": [
      "lbfgs"
     ],
     "selector__k": [
      1000
     ]
    }
   },
   "start_time": "2023-10-30T14:01:51.369495",
   "version": "2.4.0"
  }
 },
 "nbformat": 4,
 "nbformat_minor": 5
}