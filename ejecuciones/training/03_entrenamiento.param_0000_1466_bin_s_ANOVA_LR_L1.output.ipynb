{
 "cells": [
  {
   "cell_type": "markdown",
   "id": "137d5128",
   "metadata": {
    "papermill": {
     "duration": 0.004316,
     "end_time": "2023-10-29T22:17:40.241847",
     "exception": false,
     "start_time": "2023-10-29T22:17:40.237531",
     "status": "completed"
    },
    "tags": []
   },
   "source": [
    "##### Inicio"
   ]
  },
  {
   "cell_type": "markdown",
   "id": "d1c2f578",
   "metadata": {
    "papermill": {
     "duration": 0.003524,
     "end_time": "2023-10-29T22:17:40.249221",
     "exception": false,
     "start_time": "2023-10-29T22:17:40.245697",
     "status": "completed"
    },
    "tags": []
   },
   "source": [
    "#### Carga de datos"
   ]
  },
  {
   "cell_type": "code",
   "execution_count": 1,
   "id": "81de5a61",
   "metadata": {
    "execution": {
     "iopub.execute_input": "2023-10-29T22:17:40.257649Z",
     "iopub.status.busy": "2023-10-29T22:17:40.257413Z",
     "iopub.status.idle": "2023-10-29T22:17:41.127535Z",
     "shell.execute_reply": "2023-10-29T22:17:41.126995Z"
    },
    "papermill": {
     "duration": 0.875897,
     "end_time": "2023-10-29T22:17:41.128754",
     "exception": false,
     "start_time": "2023-10-29T22:17:40.252857",
     "status": "completed"
    },
    "tags": []
   },
   "outputs": [
    {
     "name": "stdout",
     "output_type": "stream",
     "text": [
      "CPU_COUNT: 8; NODE: amilcar22; sys.version: 3.10.12 (main, Jul  5 2023, 19:22:19) [GCC 11.2.0]\n",
      "LOKY_MAX_CPU_COUNT: 6\n",
      "OMP_NUM_THREADS: 2\n"
     ]
    }
   ],
   "source": [
    "import os\n",
    "import numpy as np\n",
    "import pandas as pd\n",
    "import datetime\n",
    "import sklearn\n",
    "import logging\n",
    "import warnings\n",
    "\n",
    "from sklearn.pipeline import Pipeline\n",
    "from sklearn.model_selection import RandomizedSearchCV, KFold, cross_val_score, train_test_split\n",
    "from sklearn.metrics import accuracy_score, confusion_matrix, classification_report, roc_auc_score\n",
    "\n",
    "#  cargar algoritmos para aprendizaje supervisado\n",
    "from sklearn.feature_selection import SelectKBest, f_classif, SelectFromModel, mutual_info_classif\n",
    "from sklearn.svm import SVC\n",
    "from sklearn.ensemble import RandomForestClassifier\n",
    "from sklearn.linear_model import LogisticRegression,LogisticRegressionCV\n",
    "\n",
    "# importar fichero con utilidades propias\n",
    "from commons import myfunctions as myfunc\n"
   ]
  },
  {
   "cell_type": "markdown",
   "id": "f25d80f5",
   "metadata": {
    "papermill": {
     "duration": 0.002666,
     "end_time": "2023-10-29T22:17:41.134443",
     "exception": false,
     "start_time": "2023-10-29T22:17:41.131777",
     "status": "completed"
    },
    "tags": []
   },
   "source": [
    "#### Parámetros a utilizar en el entrenamiento.\n",
    "\n",
    "Se indican los 3 algoritmos de *selección de características* (eval_selector_xxx) y los 3 algoritmos para la _clasificación_ (eval_clasifier_xxx)\n",
    "\n",
    "En *param_distributions* se indicar los parámetros que utilizan los algoritmos en la función RandomSearchCV.\n",
    "\n",
    "Esta celda tiene la etiqueta **parameters** que servirá para poder lanzar los entrenamientos con la utilidad **papermill** pasándole un fichero con los parámetros. Los nuevos parámetros se situarán tras esta celda para tener prevalencia."
   ]
  },
  {
   "cell_type": "code",
   "execution_count": 2,
   "id": "02023eaf",
   "metadata": {
    "execution": {
     "iopub.execute_input": "2023-10-29T22:17:41.140423Z",
     "iopub.status.busy": "2023-10-29T22:17:41.140144Z",
     "iopub.status.idle": "2023-10-29T22:17:41.147027Z",
     "shell.execute_reply": "2023-10-29T22:17:41.146544Z"
    },
    "papermill": {
     "duration": 0.011166,
     "end_time": "2023-10-29T22:17:41.148187",
     "exception": false,
     "start_time": "2023-10-29T22:17:41.137021",
     "status": "completed"
    },
    "tags": [
     "parameters"
    ]
   },
   "outputs": [
    {
     "name": "stdout",
     "output_type": "stream",
     "text": [
      "20231029T231741 : amilcar22 : INFO : Utilizando parámetros de mul_m\n"
     ]
    }
   ],
   "source": [
    "#  Parametros para el entrenamiento\n",
    "\n",
    "SEMILLA=        42\n",
    "M_TIPO=         \"mul_m\"\n",
    "M_SELECT=       \"MI\"\n",
    "M_CLASIF=       \"SVM\"\n",
    "R_FICHERO=      \"resultados\"\n",
    "M_FICHERO=      \"metricas\"\n",
    "PRE_DATA_FILE=  \"rows_transpose_norm_by_gene_id_with_target_num_\"\n",
    "SCORING=        \"roc_auc_ovr\" \n",
    "MAX_ITERS=      100\n",
    "\n",
    "def mutual_info_classif_state(X, y):\n",
    "    return mutual_info_classif(X, y, random_state=SEMILLA)\n",
    "\n",
    "eval_selector_mi = \"SelectKBest(score_func=mutual_info_classif_state)\"\n",
    "eval_selector_rf=  \"SelectFromModel(estimator=RandomForestClassifier(random_state=SEMILLA), threshold=-np.inf)\"\n",
    "eval_selector_anova=  \"SelectKBest(score_func=f_classif)\"\n",
    "\n",
    "eval_clasifier_svm= \"SVC(probability=True, random_state=SEMILLA)\"\n",
    "eval_clasifier_rf= \"RandomForestClassifier(random_state=SEMILLA)\"\n",
    "eval_clasifier_lr= \"LogisticRegressionCV(random_state=SEMILLA)\"\n",
    "\n",
    "if M_TIPO.startswith(\"bin_m\"):\n",
    "    myfunc.verbose(f\"Utilizando parámetros de {M_TIPO}\")\n",
    "    eval_selector = eval_selector_mi\n",
    "    eval_clasifier = eval_clasifier_svm\n",
    "\n",
    "    SEMILLA = 6578\n",
    "    M_SELECT = \"MI\"\n",
    "    M_CLASIF = \"SVM\"\n",
    "    param_distributions = {'selector__k': [1000], \n",
    "         'clasifier__kernel': ['rbf'], 'clasifier__gamma': [0.01], 'clasifier__C': [100]}\n",
    "elif M_TIPO.startswith(\"bin_s\"):\n",
    "    myfunc.verbose(f\"Utilizando parámetros de {M_TIPO}\")\n",
    "    eval_selector = eval_selector_rf\n",
    "    eval_clasifier = eval_clasifier_lr\n",
    "\n",
    "    SEMILLA = 6191\n",
    "    M_SELECT = \"RF\"\n",
    "    M_CLASIF = \"LR_L2\"\n",
    "    param_distributions = {'selector__max_features': [1000], 'selector__estimator__n_estimators': [200], \n",
    "        'clasifier__solver': ['lbfgs'], 'clasifier__penalty': ['l2'], 'clasifier__max_iter': [10000]}\n",
    "\n",
    "elif M_TIPO.startswith(\"mul_m\"):\n",
    "    myfunc.verbose(f\"Utilizando parámetros de {M_TIPO}\")\n",
    " \n",
    "    eval_selector = eval_selector_rf\n",
    "    eval_clasifier = eval_clasifier_lr\n",
    "\n",
    "    SEMILLA = 6191\n",
    "    M_SELECT = \"RF\"\n",
    "    M_CLASIF = \"LR_L2\"\n",
    "    param_distributions = {'selector__max_features': [1000], 'selector__estimator__n_estimators': [400], \n",
    "        'clasifier__solver': ['lbfgs'], 'clasifier__penalty': ['l2'], 'clasifier__max_iter': [10000]}\n",
    "\n",
    "else:\n",
    "    # M_TIPO.startswith(\"mul_s\"):\n",
    "    myfunc.verbose(f\"Utilizando parámetros de {M_TIPO}\")\n",
    "    eval_selector = eval_selector_anova\n",
    "    eval_clasifier = eval_clasifier_lr\n",
    "\n",
    "    SEMILLA = 1860\n",
    "    M_SELECT = \"ANOVA\"\n",
    "    M_CLASIF = \"LR_L2\"\n",
    "    param_distributions = {'selector__k': [1000], \n",
    "        'clasifier__solver': ['saga'], 'clasifier__penalty': ['l2'], 'clasifier__max_iter': [10000]}\n",
    "\n"
   ]
  },
  {
   "cell_type": "code",
   "execution_count": 3,
   "id": "8434d5eb",
   "metadata": {
    "execution": {
     "iopub.execute_input": "2023-10-29T22:17:41.154393Z",
     "iopub.status.busy": "2023-10-29T22:17:41.154208Z",
     "iopub.status.idle": "2023-10-29T22:17:41.157678Z",
     "shell.execute_reply": "2023-10-29T22:17:41.157204Z"
    },
    "papermill": {
     "duration": 0.00789,
     "end_time": "2023-10-29T22:17:41.158864",
     "exception": false,
     "start_time": "2023-10-29T22:17:41.150974",
     "status": "completed"
    },
    "tags": [
     "injected-parameters"
    ]
   },
   "outputs": [],
   "source": [
    "# Parameters\n",
    "M_TIPO = \"bin_s\"\n",
    "M_SELECT = \"ANOVA\"\n",
    "M_CLASIF = \"LR_L1\"\n",
    "P_FICHERO = \"param_0000_1466_bin_s_ANOVA_LR_L1.yaml\"\n",
    "R_FICHERO = \"resultados_1466\"\n",
    "M_FICHERO = \"metricas_1466\"\n",
    "PRE_DATA_FILE = \"rows_transpose_norm_by_gene_id_with_target_num_\"\n",
    "SCORING = \"roc_auc_ovr\"\n",
    "SEMILLA = 1466\n",
    "MAX_ITERS = 500\n",
    "eval_selector = \"SelectKBest(score_func=f_classif)\"\n",
    "eval_clasifier = \"LogisticRegressionCV(random_state=SEMILLA)\"\n",
    "param_distributions = {\n",
    "    \"selector__k\": [200],\n",
    "    \"clasifier__solver\": [\"saga\"],\n",
    "    \"clasifier__penalty\": [\"l1\"],\n",
    "    \"clasifier__max_iter\": [10000],\n",
    "}\n"
   ]
  },
  {
   "cell_type": "code",
   "execution_count": 4,
   "id": "0a284cc2",
   "metadata": {
    "execution": {
     "iopub.execute_input": "2023-10-29T22:17:41.165129Z",
     "iopub.status.busy": "2023-10-29T22:17:41.164951Z",
     "iopub.status.idle": "2023-10-29T22:17:41.167958Z",
     "shell.execute_reply": "2023-10-29T22:17:41.167495Z"
    },
    "papermill": {
     "duration": 0.007446,
     "end_time": "2023-10-29T22:17:41.169184",
     "exception": false,
     "start_time": "2023-10-29T22:17:41.161738",
     "status": "completed"
    },
    "tags": []
   },
   "outputs": [],
   "source": [
    "DATA_FILE = PRE_DATA_FILE + M_TIPO\n",
    "\n",
    "# si viene \"None\" en el parámetro max_depth, se le quitan las comillas para que no sea entendido por el algoritmo como un texto\n",
    "if \"clasifier__max_depth\" in param_distributions:\n",
    "    param_distributions['clasifier__max_depth'] = [None if x == 'None' else x for x in param_distributions['clasifier__max_depth']]"
   ]
  },
  {
   "cell_type": "markdown",
   "id": "bbaf8c3e",
   "metadata": {
    "papermill": {
     "duration": 0.002582,
     "end_time": "2023-10-29T22:17:41.174596",
     "exception": false,
     "start_time": "2023-10-29T22:17:41.172014",
     "status": "completed"
    },
    "tags": []
   },
   "source": [
    "Asignar los algoritmos que se utilizarán en la función RandomSearchCV"
   ]
  },
  {
   "cell_type": "code",
   "execution_count": 5,
   "id": "946d6a21",
   "metadata": {
    "execution": {
     "iopub.execute_input": "2023-10-29T22:17:41.180489Z",
     "iopub.status.busy": "2023-10-29T22:17:41.180315Z",
     "iopub.status.idle": "2023-10-29T22:17:41.183124Z",
     "shell.execute_reply": "2023-10-29T22:17:41.182660Z"
    },
    "papermill": {
     "duration": 0.007077,
     "end_time": "2023-10-29T22:17:41.184303",
     "exception": false,
     "start_time": "2023-10-29T22:17:41.177226",
     "status": "completed"
    },
    "tags": []
   },
   "outputs": [],
   "source": [
    "algor_selector=eval(eval_selector)\n",
    "algor_clasifier=eval(eval_clasifier)"
   ]
  },
  {
   "cell_type": "markdown",
   "id": "255b5bb0",
   "metadata": {
    "papermill": {
     "duration": 0.002722,
     "end_time": "2023-10-29T22:17:41.189852",
     "exception": false,
     "start_time": "2023-10-29T22:17:41.187130",
     "status": "completed"
    },
    "tags": []
   },
   "source": [
    "#### Comprobar el entorno y leer fichero de muestras"
   ]
  },
  {
   "cell_type": "code",
   "execution_count": 6,
   "id": "b1ca094b",
   "metadata": {
    "execution": {
     "iopub.execute_input": "2023-10-29T22:17:41.195941Z",
     "iopub.status.busy": "2023-10-29T22:17:41.195559Z",
     "iopub.status.idle": "2023-10-29T22:17:41.360503Z",
     "shell.execute_reply": "2023-10-29T22:17:41.359931Z"
    },
    "papermill": {
     "duration": 0.16941,
     "end_time": "2023-10-29T22:17:41.361820",
     "exception": false,
     "start_time": "2023-10-29T22:17:41.192410",
     "status": "completed"
    },
    "tags": []
   },
   "outputs": [
    {
     "name": "stdout",
     "output_type": "stream",
     "text": [
      "20231029T231741 : amilcar22 : INFO : Encontrada carpeta DATA_DIR=../tfm_git/datos\n",
      "20231029T231741 : amilcar22 : INFO : Encontrada carpeta CFDNA_DIR=../tfm_git/datos/cfDNA_5hmC\n",
      "20231029T231741 : amilcar22 : INFO : Encontrada carpeta GENCODE_DIR=../tfm_git/datos/gencode\n",
      "20231029T231741 : amilcar22 : INFO : Encontrada carpeta H5_DIR=../tfm_git/datos/h5\n",
      "20231029T231741 : amilcar22 : INFO : Encontrada carpeta LOG_DIR=../tfm_git/datos/logs\n",
      "20231029T231741 : amilcar22 : INFO : Encontrada carpeta CSV_DIR=../tfm_git/datos/csv\n",
      "20231029T231741 : amilcar22 : INFO : Encontrada carpeta MODEL_DIR=../tfm_git/ejecuciones/modelos\n",
      "20231029T231741 : amilcar22 : INFO : Encontrada carpeta EXEC_DIR=../tfm_git/ejecuciones\n",
      "20231029T231741 : amilcar22 : INFO : Encontrada carpeta MET_DIR=../tfm_git/ejecuciones/metricas\n",
      "20231029T231741 : amilcar22 : INFO : Inicio leer fichero h5 ../tfm_git/datos/h5/rows_transpose_norm_by_gene_id_with_target_num_bin_s.h5\n",
      "20231029T231741 : amilcar22 : INFO : Leyendo clave /df\n",
      "20231029T231741 : amilcar22 : INFO : Tamaño (443, 18876)\n",
      "20231029T231741 : amilcar22 : INFO : Fin leer fichero h5 ../tfm_git/datos/h5/rows_transpose_norm_by_gene_id_with_target_num_bin_s.h5\n"
     ]
    },
    {
     "data": {
      "text/plain": [
       "target\n",
       "0    221\n",
       "1    222\n",
       "dtype: int64"
      ]
     },
     "metadata": {},
     "output_type": "display_data"
    },
    {
     "name": "stdout",
     "output_type": "stream",
     "text": [
      "Shape df: (443, 18876)\n"
     ]
    },
    {
     "name": "stdout",
     "output_type": "stream",
     "text": [
      "Shape X_train: (354, 18875)\n",
      "Shape X_test: (89, 18875)\n"
     ]
    }
   ],
   "source": [
    "start_time = datetime.datetime.now()\n",
    "\n",
    "myfunc.reset_vars()\n",
    "\n",
    "myfunc.NOTEBK_FILENAME = myfunc.get_nb_name()\n",
    "\n",
    "myfunc.check_enviroment(myfunc.DATA_DIR, myfunc.CFDNA_DIR, myfunc.GENCODE_DIR, myfunc.H5_DIR, myfunc.LOG_DIR, myfunc.CSV_DIR, myfunc.MODEL_DIR, myfunc.EXEC_DIR, myfunc.MET_DIR)\n",
    "\n",
    "# Leer fichero con las muestras\n",
    "df_t = myfunc.read_h5_to_df(DATA_FILE, myfunc.H5_DIR)\n",
    "display(df_t.groupby(\"target\").size())\n",
    "print(\"Shape df:\",df_t.shape)\n",
    "\n",
    "# Separar caracteristicas/genes de las etiquetas/tipos de cáncer\n",
    "X = df_t.iloc[:, :-1]  # Todas las columnas excepto la última\n",
    "y = df_t.iloc[:, -1]  # La última columna contiene los identificadores de los tipos de cáncer\n",
    "\n",
    "#  Crear el conjunto de datos de entrenamiento y de pruebas, y se fija la semilla para siempre coger el mismo juego de muestras\n",
    "X_train, X_test, y_train, y_test = train_test_split(X, y, test_size=0.2, shuffle=True, random_state=42)\n",
    "print(\"Shape X_train:\",X_train.shape)\n",
    "print(\"Shape X_test:\",X_test.shape)\n"
   ]
  },
  {
   "cell_type": "markdown",
   "id": "4eefa424",
   "metadata": {
    "papermill": {
     "duration": 0.002799,
     "end_time": "2023-10-29T22:17:41.368182",
     "exception": false,
     "start_time": "2023-10-29T22:17:41.365383",
     "status": "completed"
    },
    "tags": []
   },
   "source": [
    "#### Selección de características y clasificación."
   ]
  },
  {
   "cell_type": "code",
   "execution_count": 7,
   "id": "81df640f",
   "metadata": {
    "execution": {
     "iopub.execute_input": "2023-10-29T22:17:41.374755Z",
     "iopub.status.busy": "2023-10-29T22:17:41.374558Z",
     "iopub.status.idle": "2023-10-29T22:19:30.536671Z",
     "shell.execute_reply": "2023-10-29T22:19:30.535924Z"
    },
    "papermill": {
     "duration": 109.169364,
     "end_time": "2023-10-29T22:19:30.540401",
     "exception": false,
     "start_time": "2023-10-29T22:17:41.371037",
     "status": "completed"
    },
    "tags": []
   },
   "outputs": [
    {
     "name": "stdout",
     "output_type": "stream",
     "text": [
      "20231029T231741 : amilcar22 : INFO : Iniciando entrenamiento\n",
      "num_iter: 1 , max_iter: 1\n",
      "Fitting 5 folds for each of 1 candidates, totalling 5 fits\n"
     ]
    },
    {
     "name": "stderr",
     "output_type": "stream",
     "text": [
      "/home/antonio/miniconda3/lib/python3.10/site-packages/sklearn/feature_selection/_univariate_selection.py:112: UserWarning: Features [ 2222  2265  2266  2803  2896  3415  3492  5668  5803  6053  6984  8314\n",
      "  8510  9490 11021 11565 11613 11943 12249 12831 13235 13259 13836 13959\n",
      " 14000 14245 14735 14789 14995 15397 15515 15824 15881 16018 16260 16262\n",
      " 16267 16268 16287 16313 16630 16667 16679 16701 16819 16870 16906 16968\n",
      " 17047 17091 17231 17264 17274 17300 17312 17540 18288 18421 18546 18608\n",
      " 18868] are constant.\n",
      "  warnings.warn(\"Features %s are constant.\" % constant_features_idx, UserWarning)\n",
      "/home/antonio/miniconda3/lib/python3.10/site-packages/sklearn/feature_selection/_univariate_selection.py:113: RuntimeWarning: invalid value encountered in divide\n",
      "  f = msb / msw\n",
      "/home/antonio/miniconda3/lib/python3.10/site-packages/sklearn/feature_selection/_univariate_selection.py:112: UserWarning: Features [ 2222  2265  2266  2803  2833  3492  5668  5803  6053  8314  8510  9490\n",
      " 11021 11565 11613 11943 12249 12831 13235 13522 13836 13848 14000 14245\n",
      " 14789 15515 15785 15824 15881 16018 16262 16267 16268 16312 16313 16318\n",
      " 16630 16679 16701 16731 16906 16956 16968 17024 17047 17055 17075 17091\n",
      " 17123 17231 17264 17274 17300 17312 17566 18374 18405 18421 18592 18608\n",
      " 18868] are constant.\n",
      "  warnings.warn(\"Features %s are constant.\" % constant_features_idx, UserWarning)\n",
      "/home/antonio/miniconda3/lib/python3.10/site-packages/sklearn/feature_selection/_univariate_selection.py:113: RuntimeWarning: invalid value encountered in divide\n",
      "  f = msb / msw\n",
      "/home/antonio/miniconda3/lib/python3.10/site-packages/sklearn/feature_selection/_univariate_selection.py:112: UserWarning: Features [ 1733  2222  2265  2266  2803  3492  5668  5803  6053  8314  8510  9090\n",
      "  9490 10475 11020 11021 11565 11613 11943 12249 12831 13235 13836 14000\n",
      " 14245 14451 14480 14789 14795 15183 15515 15824 15881 16018 16237 16262\n",
      " 16267 16268 16313 16322 16323 16520 16630 16679 16701 16906 16968 17047\n",
      " 17091 17231 17264 17274 17300 17312 18368 18421 18608 18868] are constant.\n",
      "  warnings.warn(\"Features %s are constant.\" % constant_features_idx, UserWarning)\n",
      "/home/antonio/miniconda3/lib/python3.10/site-packages/sklearn/feature_selection/_univariate_selection.py:113: RuntimeWarning: invalid value encountered in divide\n",
      "  f = msb / msw\n"
     ]
    },
    {
     "name": "stderr",
     "output_type": "stream",
     "text": [
      "/home/antonio/miniconda3/lib/python3.10/site-packages/sklearn/feature_selection/_univariate_selection.py:112: UserWarning: Features [  298  2222  2265  2266  2268  2803  3492  5668  5803  6053  7416  8314\n",
      "  8510  9490 11021 11022 11565 11613 11943 12249 12480 12831 12940 12973\n",
      " 13047 13225 13235 13836 14000 14244 14245 14789 14941 15401 15515 15563\n",
      " 15824 15881 16018 16205 16262 16267 16268 16281 16294 16313 16372 16630\n",
      " 16679 16701 16905 16906 16968 17047 17091 17093 17231 17264 17274 17300\n",
      " 17312 17679 18375 18421 18530 18608 18868] are constant.\n",
      "  warnings.warn(\"Features %s are constant.\" % constant_features_idx, UserWarning)\n",
      "/home/antonio/miniconda3/lib/python3.10/site-packages/sklearn/feature_selection/_univariate_selection.py:113: RuntimeWarning: invalid value encountered in divide\n",
      "  f = msb / msw\n",
      "/home/antonio/miniconda3/lib/python3.10/site-packages/sklearn/feature_selection/_univariate_selection.py:112: UserWarning: Features [ 2010  2222  2265  2266  2553  2725  2803  3492  4306  5533  5668  5803\n",
      "  6053  7418  8314  8510  8513  9490 11021 11565 11613 11943 11996 12249\n",
      " 12831 12888 13235 13300 13836 14000 14015 14245 14789 14794 15515 15824\n",
      " 15881 16018 16133 16262 16267 16268 16277 16278 16279 16313 16630 16679\n",
      " 16701 16906 16968 17047 17091 17231 17264 17273 17274 17300 17312 17418\n",
      " 17963 18421 18486 18608 18692 18698 18868] are constant.\n",
      "  warnings.warn(\"Features %s are constant.\" % constant_features_idx, UserWarning)\n",
      "/home/antonio/miniconda3/lib/python3.10/site-packages/sklearn/feature_selection/_univariate_selection.py:113: RuntimeWarning: invalid value encountered in divide\n",
      "  f = msb / msw\n"
     ]
    },
    {
     "name": "stderr",
     "output_type": "stream",
     "text": [
      "/home/antonio/miniconda3/lib/python3.10/site-packages/sklearn/feature_selection/_univariate_selection.py:112: UserWarning: Features [ 2222  2265  2266  2803  3492  5668  5803  6053  8314  8510  9490 11021\n",
      " 11565 11613 11943 12249 12831 13235 13836 14000 14245 14789 15515 15824\n",
      " 15881 16018 16262 16267 16268 16313 16630 16679 16701 16906 16968 17047\n",
      " 17091 17231 17264 17274 17300 17312 18421 18608 18868] are constant.\n",
      "  warnings.warn(\"Features %s are constant.\" % constant_features_idx, UserWarning)\n",
      "/home/antonio/miniconda3/lib/python3.10/site-packages/sklearn/feature_selection/_univariate_selection.py:113: RuntimeWarning: invalid value encountered in divide\n",
      "  f = msb / msw\n"
     ]
    },
    {
     "name": "stdout",
     "output_type": "stream",
     "text": [
      "Mejores Hiperparámetros: {'selector__k': 200, 'clasifier__solver': 'saga', 'clasifier__penalty': 'l1', 'clasifier__max_iter': 10000}\n",
      "Mejor Puntuación: 0.7502\n",
      "20231029T231930 : amilcar22 : INFO : Fin entrenamiento\n"
     ]
    }
   ],
   "source": [
    "myfunc.verbose(\"Iniciando entrenamiento\")\n",
    "\n",
    "kf = KFold(n_splits=5, shuffle=True, random_state=SEMILLA)\n",
    "\n",
    "# Crear el pipeline para el flujo de tareas\n",
    "tasks_pipeline = Pipeline([\n",
    "    ('selector', algor_selector),\n",
    "    ('clasifier', algor_clasifier)\n",
    "])\n",
    "\n",
    "# MAX_ITERS puede limitar el número de iteraciones si son excesivas para las combinaciones de parámetros buscando un óptimo local, \n",
    "# sino funcionaría como GridSearchCV al revisar todas las cominaciones de los parámetros\n",
    "num_iteraciones = 1\n",
    "num_iteraciones = num_iteraciones * np.prod([len(elemento1) for _, elemento1 in param_distributions.items()])\n",
    "max_iteraciones = num_iteraciones if num_iteraciones <= MAX_ITERS else MAX_ITERS\n",
    "print(\"num_iter:\",num_iteraciones,\", max_iter:\",max_iteraciones)\n",
    "\n",
    "random_search = RandomizedSearchCV(\n",
    "    tasks_pipeline, \n",
    "    param_distributions, \n",
    "    n_iter=max_iteraciones,\n",
    "    scoring=SCORING,\n",
    "    cv=kf,\n",
    "    verbose=3, \n",
    "    random_state=SEMILLA, \n",
    "    n_jobs=-1\n",
    "    )\n",
    "\n",
    "# Entrenar el modelo\n",
    "random_search.fit(X_train, y_train)\n",
    "\n",
    "# Ver los mejores hiperparámetros encontrados\n",
    "print(f'Mejores Hiperparámetros: {random_search.best_params_}')\n",
    "print(f'Mejor Puntuación: {random_search.best_score_:.4f}')\n",
    "\n",
    "# Nos quedamos con el mejor modelo para ver las métricas\n",
    "mejor_modelo = random_search.best_estimator_\n",
    "\n",
    "myfunc.verbose(\"Fin entrenamiento\")"
   ]
  },
  {
   "cell_type": "markdown",
   "id": "dc835304",
   "metadata": {
    "papermill": {
     "duration": 0.00296,
     "end_time": "2023-10-29T22:19:30.546496",
     "exception": false,
     "start_time": "2023-10-29T22:19:30.543536",
     "status": "completed"
    },
    "tags": []
   },
   "source": [
    "#### Guardar modelo"
   ]
  },
  {
   "cell_type": "code",
   "execution_count": 8,
   "id": "e0ecc998",
   "metadata": {
    "execution": {
     "iopub.execute_input": "2023-10-29T22:19:30.553417Z",
     "iopub.status.busy": "2023-10-29T22:19:30.553229Z",
     "iopub.status.idle": "2023-10-29T22:19:30.560303Z",
     "shell.execute_reply": "2023-10-29T22:19:30.559800Z"
    },
    "papermill": {
     "duration": 0.012125,
     "end_time": "2023-10-29T22:19:30.561586",
     "exception": false,
     "start_time": "2023-10-29T22:19:30.549461",
     "status": "completed"
    },
    "tags": []
   },
   "outputs": [
    {
     "name": "stdout",
     "output_type": "stream",
     "text": [
      "20231029T231930 : amilcar22 : INFO : Inicio guardar fichero ../tfm_git/ejecuciones/modelos/modelo_1466_bin_s_ANOVA_LR_L1.pkl\n",
      "20231029T231930 : amilcar22 : INFO : Fin guardar fichero ../tfm_git/ejecuciones/modelos/modelo_1466_bin_s_ANOVA_LR_L1.pkl\n"
     ]
    }
   ],
   "source": [
    "fichero_modelo = str.replace(\"modelo_\"+str(SEMILLA).zfill(4)+\"_\"+M_TIPO+\"_\"+M_SELECT+\"_\"+M_CLASIF+\".pkl\", \" \", \"_\")\n",
    "\n",
    "myfunc.save_modelo(mejor_modelo, myfunc.MODEL_DIR, fichero_modelo)"
   ]
  },
  {
   "cell_type": "markdown",
   "id": "ce3a3795",
   "metadata": {
    "papermill": {
     "duration": 0.003029,
     "end_time": "2023-10-29T22:19:30.568174",
     "exception": false,
     "start_time": "2023-10-29T22:19:30.565145",
     "status": "completed"
    },
    "tags": []
   },
   "source": [
    "#### Ver resultados del las iteraciones hechas por RandomSearchCV"
   ]
  },
  {
   "cell_type": "code",
   "execution_count": 9,
   "id": "51c33e0b",
   "metadata": {
    "execution": {
     "iopub.execute_input": "2023-10-29T22:19:30.575289Z",
     "iopub.status.busy": "2023-10-29T22:19:30.575108Z",
     "iopub.status.idle": "2023-10-29T22:19:30.580791Z",
     "shell.execute_reply": "2023-10-29T22:19:30.580202Z"
    },
    "papermill": {
     "duration": 0.010674,
     "end_time": "2023-10-29T22:19:30.581957",
     "exception": false,
     "start_time": "2023-10-29T22:19:30.571283",
     "status": "completed"
    },
    "tags": []
   },
   "outputs": [
    {
     "name": "stdout",
     "output_type": "stream",
     "text": [
      "20231029T231930 : amilcar22 : INFO : Inicio ver resultados\n",
      "Mejores Hiperparámetros: {'selector__k': 200, 'clasifier__solver': 'saga', 'clasifier__penalty': 'l1', 'clasifier__max_iter': 10000}\n",
      "Mejores puntuaciones: 0.7502 | Params: {'selector__k': 200, 'clasifier__solver': 'saga', 'clasifier__penalty': 'l1', 'clasifier__max_iter': 10000}\n",
      "Media de las puntuaciones: 0.7502 | Params: {'selector__k': 200, 'clasifier__solver': 'saga', 'clasifier__penalty': 'l1', 'clasifier__max_iter': 10000}\n",
      "20231029T231930 : amilcar22 : INFO : Fin resultados\n"
     ]
    }
   ],
   "source": [
    "myfunc.ver_resultados_search(random_search)"
   ]
  },
  {
   "cell_type": "markdown",
   "id": "05b4190c",
   "metadata": {
    "papermill": {
     "duration": 0.003195,
     "end_time": "2023-10-29T22:19:30.588412",
     "exception": false,
     "start_time": "2023-10-29T22:19:30.585217",
     "status": "completed"
    },
    "tags": []
   },
   "source": [
    "#### Ver métricas del mejor modelo"
   ]
  },
  {
   "cell_type": "code",
   "execution_count": 10,
   "id": "077d9246",
   "metadata": {
    "execution": {
     "iopub.execute_input": "2023-10-29T22:19:30.595556Z",
     "iopub.status.busy": "2023-10-29T22:19:30.595361Z",
     "iopub.status.idle": "2023-10-29T22:19:31.002262Z",
     "shell.execute_reply": "2023-10-29T22:19:31.001752Z"
    },
    "papermill": {
     "duration": 0.411863,
     "end_time": "2023-10-29T22:19:31.003429",
     "exception": false,
     "start_time": "2023-10-29T22:19:30.591566",
     "status": "completed"
    },
    "tags": []
   },
   "outputs": [
    {
     "name": "stdout",
     "output_type": "stream",
     "text": [
      "20231029T231930 : amilcar22 : INFO : Inicio ver métricas\n"
     ]
    },
    {
     "name": "stdout",
     "output_type": "stream",
     "text": [
      "              precision    recall  f1-score   support\n",
      "\n",
      "           0       0.67      0.74      0.70        46\n",
      "           1       0.68      0.60      0.64        43\n",
      "\n",
      "    accuracy                           0.67        89\n",
      "   macro avg       0.68      0.67      0.67        89\n",
      "weighted avg       0.68      0.67      0.67        89\n",
      "\n",
      "\n",
      "\n",
      "   Exactitud: 0.6742\n",
      "   Precisión: 0.6754\n",
      "Sensibilidad: 0.6719\n",
      "    F1-score: 0.6715\n",
      "     AUC ROC: 0.7710\n"
     ]
    },
    {
     "data": {
      "image/png": "[encoded data removed]",
      "text/plain": [
       "<Figure size 300x100 with 2 Axes>"
      ]
     },
     "metadata": {},
     "output_type": "display_data"
    },
    {
     "data": {
      "image/png": "[encoded data removed]",
      "text/plain": [
       "<Figure size 800x500 with 1 Axes>"
      ]
     },
     "metadata": {},
     "output_type": "display_data"
    },
    {
     "name": "stdout",
     "output_type": "stream",
     "text": [
      "20231029T231931 : amilcar22 : INFO : Fin ver métricas\n"
     ]
    }
   ],
   "source": [
    "if M_TIPO.startswith(\"bin\"):\n",
    "    myfunc.ver_metricas(mejor_modelo, X_test, y_test)\n",
    "else:\n",
    "    myfunc.ver_metricas_multi(mejor_modelo, X_test, y_test)\n"
   ]
  },
  {
   "cell_type": "markdown",
   "id": "082bde22",
   "metadata": {
    "papermill": {
     "duration": 0.003858,
     "end_time": "2023-10-29T22:19:31.011505",
     "exception": false,
     "start_time": "2023-10-29T22:19:31.007647",
     "status": "completed"
    },
    "tags": []
   },
   "source": [
    "#### Finalización del notebook"
   ]
  },
  {
   "cell_type": "code",
   "execution_count": 11,
   "id": "debe1292",
   "metadata": {
    "execution": {
     "iopub.execute_input": "2023-10-29T22:19:31.019819Z",
     "iopub.status.busy": "2023-10-29T22:19:31.019633Z",
     "iopub.status.idle": "2023-10-29T22:19:31.022949Z",
     "shell.execute_reply": "2023-10-29T22:19:31.022480Z"
    },
    "papermill": {
     "duration": 0.009001,
     "end_time": "2023-10-29T22:19:31.024243",
     "exception": false,
     "start_time": "2023-10-29T22:19:31.015242",
     "status": "completed"
    },
    "tags": []
   },
   "outputs": [
    {
     "name": "stdout",
     "output_type": "stream",
     "text": [
      "20231029T231931 : amilcar22 : INFO : Notebook ha tardado 109 seconds\n"
     ]
    }
   ],
   "source": [
    "end_time = datetime.datetime.now()\n",
    "total_time = end_time - start_time\n",
    "myfunc.verbose(f\"Notebook ha tardado {total_time.seconds} seconds\")"
   ]
  },
  {
   "cell_type": "markdown",
   "id": "bb7833b6",
   "metadata": {
    "papermill": {
     "duration": 0.003837,
     "end_time": "2023-10-29T22:19:31.032025",
     "exception": false,
     "start_time": "2023-10-29T22:19:31.028188",
     "status": "completed"
    },
    "tags": []
   },
   "source": [
    "#### Guardar métricas"
   ]
  },
  {
   "cell_type": "code",
   "execution_count": 12,
   "id": "77b74304",
   "metadata": {
    "execution": {
     "iopub.execute_input": "2023-10-29T22:19:31.040241Z",
     "iopub.status.busy": "2023-10-29T22:19:31.040067Z",
     "iopub.status.idle": "2023-10-29T22:19:31.202135Z",
     "shell.execute_reply": "2023-10-29T22:19:31.201616Z"
    },
    "papermill": {
     "duration": 0.167579,
     "end_time": "2023-10-29T22:19:31.203346",
     "exception": false,
     "start_time": "2023-10-29T22:19:31.035767",
     "status": "completed"
    },
    "tags": []
   },
   "outputs": [
    {
     "name": "stdout",
     "output_type": "stream",
     "text": [
      "20231029T231931 : amilcar22 : INFO : Inicio guardar métricas\n",
      "20231029T231931 : amilcar22 : INFO : Inicio leer fichero ../tfm_git/ejecuciones/metricas/metricas_1466.csv\n",
      "20231029T231931 : amilcar22 : INFO : Fin leer fichero ../tfm_git/ejecuciones/metricas/metricas_1466.csv\n",
      "20231029T231931 : amilcar22 : INFO : Inicio guardar fichero ../tfm_git/ejecuciones/metricas/metricas_1466.csv\n",
      "20231029T231931 : amilcar22 : INFO : Fichero borrado ../tfm_git/ejecuciones/metricas/metricas_1466.csv\n",
      "20231029T231931 : amilcar22 : INFO : Fin guardar fichero ../tfm_git/ejecuciones/metricas/metricas_1466.csv\n",
      "20231029T231931 : amilcar22 : INFO : Fin guardar métricas\n",
      "20231029T231931 : amilcar22 : INFO : Inicio leer fichero ../tfm_git/ejecuciones/metricas/metricas_1466.csv\n",
      "20231029T231931 : amilcar22 : INFO : Fin leer fichero ../tfm_git/ejecuciones/metricas/metricas_1466.csv\n"
     ]
    },
    {
     "data": {
      "text/html": [
       "<div>\n",
       "<style scoped>\n",
       "    .dataframe tbody tr th:only-of-type {\n",
       "        vertical-align: middle;\n",
       "    }\n",
       "\n",
       "    .dataframe tbody tr th {\n",
       "        vertical-align: top;\n",
       "    }\n",
       "\n",
       "    .dataframe thead th {\n",
       "        text-align: right;\n",
       "    }\n",
       "</style>\n",
       "<table border=\"1\" class=\"dataframe\">\n",
       "  <thead>\n",
       "    <tr style=\"text-align: right;\">\n",
       "      <th></th>\n",
       "      <th>tipo</th>\n",
       "      <th>select</th>\n",
       "      <th>clasific</th>\n",
       "      <th>semilla</th>\n",
       "      <th>accuracy</th>\n",
       "      <th>precision</th>\n",
       "      <th>recall</th>\n",
       "      <th>f1_score</th>\n",
       "      <th>roc_auc</th>\n",
       "      <th>hostname</th>\n",
       "      <th>total_time_sec</th>\n",
       "      <th>datetime</th>\n",
       "      <th>fichero_modelo</th>\n",
       "      <th>params</th>\n",
       "      <th>shape</th>\n",
       "      <th>features</th>\n",
       "    </tr>\n",
       "  </thead>\n",
       "  <tbody>\n",
       "    <tr>\n",
       "      <th>0</th>\n",
       "      <td>bin_s</td>\n",
       "      <td>ANOVA</td>\n",
       "      <td>LR_L1</td>\n",
       "      <td>1466</td>\n",
       "      <td>0.674157</td>\n",
       "      <td>0.675439</td>\n",
       "      <td>0.671891</td>\n",
       "      <td>0.671503</td>\n",
       "      <td>0.770981</td>\n",
       "      <td>amilcar22</td>\n",
       "      <td>109</td>\n",
       "      <td>2023-10-29 23:19:31.181915</td>\n",
       "      <td>modelo_1466_bin_s_ANOVA_LR_L1.pkl</td>\n",
       "      <td>{'selector__k': 200, 'clasifier__solver': 'sag...</td>\n",
       "      <td>X_test:(89, 18875)</td>\n",
       "      <td>['ENSG00000000971.17', 'ENSG00000002587.10', '...</td>\n",
       "    </tr>\n",
       "    <tr>\n",
       "      <th>0</th>\n",
       "      <td>bin_s</td>\n",
       "      <td>ANOVA</td>\n",
       "      <td>LR_EN</td>\n",
       "      <td>1466</td>\n",
       "      <td>0.730337</td>\n",
       "      <td>0.737566</td>\n",
       "      <td>0.726997</td>\n",
       "      <td>0.726154</td>\n",
       "      <td>0.762892</td>\n",
       "      <td>amilcar22</td>\n",
       "      <td>435</td>\n",
       "      <td>2023-10-29 23:17:35.153296</td>\n",
       "      <td>modelo_1466_bin_s_ANOVA_LR_EN.pkl</td>\n",
       "      <td>{'selector__k': 1000, 'clasifier__solver': 'sa...</td>\n",
       "      <td>X_test:(89, 18875)</td>\n",
       "      <td>['ENSG00000000938.13', 'ENSG00000000971.17', '...</td>\n",
       "    </tr>\n",
       "    <tr>\n",
       "      <th>0</th>\n",
       "      <td>bin_m</td>\n",
       "      <td>RF</td>\n",
       "      <td>SVM</td>\n",
       "      <td>1466</td>\n",
       "      <td>0.840278</td>\n",
       "      <td>0.837547</td>\n",
       "      <td>0.836153</td>\n",
       "      <td>0.836807</td>\n",
       "      <td>0.926829</td>\n",
       "      <td>amilcar22</td>\n",
       "      <td>16</td>\n",
       "      <td>2023-10-29 23:10:13.628176</td>\n",
       "      <td>modelo_1466_bin_m_RF_SVM.pkl</td>\n",
       "      <td>{'selector__max_features': 500, 'selector__est...</td>\n",
       "      <td>X_test:(144, 18875)</td>\n",
       "      <td>['ENSG00000000971.17', 'ENSG00000003137.9', 'E...</td>\n",
       "    </tr>\n",
       "  </tbody>\n",
       "</table>\n",
       "</div>"
      ],
      "text/plain": [
       "    tipo select clasific  semilla  accuracy  precision    recall  f1_score  \\\n",
       "0  bin_s  ANOVA    LR_L1     1466  0.674157   0.675439  0.671891  0.671503   \n",
       "0  bin_s  ANOVA    LR_EN     1466  0.730337   0.737566  0.726997  0.726154   \n",
       "0  bin_m     RF      SVM     1466  0.840278   0.837547  0.836153  0.836807   \n",
       "\n",
       "    roc_auc   hostname  total_time_sec                    datetime  \\\n",
       "0  0.770981  amilcar22             109  2023-10-29 23:19:31.181915   \n",
       "0  0.762892  amilcar22             435  2023-10-29 23:17:35.153296   \n",
       "0  0.926829  amilcar22              16  2023-10-29 23:10:13.628176   \n",
       "\n",
       "                      fichero_modelo  \\\n",
       "0  modelo_1466_bin_s_ANOVA_LR_L1.pkl   \n",
       "0  modelo_1466_bin_s_ANOVA_LR_EN.pkl   \n",
       "0       modelo_1466_bin_m_RF_SVM.pkl   \n",
       "\n",
       "                                              params                shape  \\\n",
       "0  {'selector__k': 200, 'clasifier__solver': 'sag...   X_test:(89, 18875)   \n",
       "0  {'selector__k': 1000, 'clasifier__solver': 'sa...   X_test:(89, 18875)   \n",
       "0  {'selector__max_features': 500, 'selector__est...  X_test:(144, 18875)   \n",
       "\n",
       "                                            features  \n",
       "0  ['ENSG00000000971.17', 'ENSG00000002587.10', '...  \n",
       "0  ['ENSG00000000938.13', 'ENSG00000000971.17', '...  \n",
       "0  ['ENSG00000000971.17', 'ENSG00000003137.9', 'E...  "
      ]
     },
     "metadata": {},
     "output_type": "display_data"
    }
   ],
   "source": [
    "if M_TIPO.startswith(\"bin\"):\n",
    "    myfunc.save_metricas_to_csv(random_search, X_test, y_test, M_TIPO, M_SELECT, M_CLASIF, total_time, SEMILLA, myfunc.MET_DIR, M_FICHERO, fichero_modelo)\n",
    "else:\n",
    "    myfunc.save_metricas_multi_to_csv(random_search, X_test, y_test, M_TIPO, M_SELECT, M_CLASIF, total_time, SEMILLA, myfunc.MET_DIR, M_FICHERO, fichero_modelo)\n",
    "\n",
    "df1=myfunc.read_metricas_to_df(myfunc.MET_DIR,M_FICHERO)\n",
    "\n",
    "display(df1.sort_values(\"datetime\", ascending=False)[:3])\n"
   ]
  },
  {
   "cell_type": "markdown",
   "id": "fc59cd80",
   "metadata": {
    "papermill": {
     "duration": 0.004292,
     "end_time": "2023-10-29T22:19:31.212262",
     "exception": false,
     "start_time": "2023-10-29T22:19:31.207970",
     "status": "completed"
    },
    "tags": []
   },
   "source": [
    "#### Guardar resultados"
   ]
  },
  {
   "cell_type": "code",
   "execution_count": 13,
   "id": "4b58d501",
   "metadata": {
    "execution": {
     "iopub.execute_input": "2023-10-29T22:19:31.221517Z",
     "iopub.status.busy": "2023-10-29T22:19:31.220930Z",
     "iopub.status.idle": "2023-10-29T22:19:31.229336Z",
     "shell.execute_reply": "2023-10-29T22:19:31.228855Z"
    },
    "papermill": {
     "duration": 0.014219,
     "end_time": "2023-10-29T22:19:31.230492",
     "exception": false,
     "start_time": "2023-10-29T22:19:31.216273",
     "status": "completed"
    },
    "tags": []
   },
   "outputs": [
    {
     "name": "stdout",
     "output_type": "stream",
     "text": [
      "20231029T231931 : amilcar22 : INFO : Inicio guardar resultados\n"
     ]
    },
    {
     "name": "stdout",
     "output_type": "stream",
     "text": [
      "20231029T231931 : amilcar22 : INFO : Inicio guardar fichero ../tfm_git/ejecuciones/metricas/resultados_1466_bin_s-ANOVA-LR_L1.csv\n",
      "20231029T231931 : amilcar22 : INFO : Fin guardar fichero ../tfm_git/ejecuciones/metricas/resultados_1466_bin_s-ANOVA-LR_L1.csv\n",
      "20231029T231931 : amilcar22 : INFO : Fin guardar resultados\n"
     ]
    }
   ],
   "source": [
    "fichero_resultados=R_FICHERO+\"_\"+M_TIPO+\"-\"+M_SELECT+\"-\"+M_CLASIF+\".csv\"\n",
    "myfunc.save_resultados_to_csv(M_TIPO, M_SELECT, M_CLASIF,  random_search, myfunc.MET_DIR, fichero_resultados)\n"
   ]
  }
 ],
 "metadata": {
  "kernelspec": {
   "display_name": "Python 3 (ipykernel)",
   "language": "python",
   "name": "python3"
  },
  "language_info": {
   "codemirror_mode": {
    "name": "ipython",
    "version": 3
   },
   "file_extension": ".py",
   "mimetype": "text/x-python",
   "name": "python",
   "nbconvert_exporter": "python",
   "pygments_lexer": "ipython3",
   "version": "3.10.12"
  },
  "papermill": {
   "default_parameters": {},
   "duration": 114.527199,
   "end_time": "2023-10-29T22:19:33.853017",
   "environment_variables": {},
   "exception": null,
   "input_path": "03_entrenamiento.ipynb",
   "output_path": "ejecuciones/training/03_entrenamiento.20231029T231738.param_0000_1466_bin_s_ANOVA_LR_L1.output.ipynb",
   "parameters": {
    "MAX_ITERS": 500,
    "M_CLASIF": "LR_L1",
    "M_FICHERO": "metricas_1466",
    "M_SELECT": "ANOVA",
    "M_TIPO": "bin_s",
    "PRE_DATA_FILE": "rows_transpose_norm_by_gene_id_with_target_num_",
    "P_FICHERO": "param_0000_1466_bin_s_ANOVA_LR_L1.yaml",
    "R_FICHERO": "resultados_1466",
    "SCORING": "roc_auc_ovr",
    "SEMILLA": 1466,
    "eval_clasifier": "LogisticRegressionCV(random_state=SEMILLA)",
    "eval_selector": "SelectKBest(score_func=f_classif)",
    "param_distributions": {
     "clasifier__max_iter": [
      10000
     ],
     "clasifier__penalty": [
      "l1"
     ],
     "clasifier__solver": [
      "saga"
     ],
     "selector__k": [
      200
     ]
    }
   },
   "start_time": "2023-10-29T22:17:39.325818",
   "version": "2.4.0"
  }
 },
 "nbformat": 4,
 "nbformat_minor": 5
}