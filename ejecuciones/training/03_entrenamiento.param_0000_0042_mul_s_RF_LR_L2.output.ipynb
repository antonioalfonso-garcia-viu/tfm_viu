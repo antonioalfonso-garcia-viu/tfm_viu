{
 "cells": [
  {
   "cell_type": "markdown",
   "id": "3729ede4",
   "metadata": {
    "papermill": {
     "duration": 0.004541,
     "end_time": "2023-10-27T23:23:33.085940",
     "exception": false,
     "start_time": "2023-10-27T23:23:33.081399",
     "status": "completed"
    },
    "tags": []
   },
   "source": [
    "##### Inicio"
   ]
  },
  {
   "cell_type": "markdown",
   "id": "e7aac742",
   "metadata": {
    "papermill": {
     "duration": 0.003653,
     "end_time": "2023-10-27T23:23:33.093545",
     "exception": false,
     "start_time": "2023-10-27T23:23:33.089892",
     "status": "completed"
    },
    "tags": []
   },
   "source": [
    "#### Carga de datos"
   ]
  },
  {
   "cell_type": "code",
   "execution_count": 1,
   "id": "a5eef5b0",
   "metadata": {
    "execution": {
     "iopub.execute_input": "2023-10-27T23:23:33.102246Z",
     "iopub.status.busy": "2023-10-27T23:23:33.102020Z",
     "iopub.status.idle": "2023-10-27T23:23:33.974881Z",
     "shell.execute_reply": "2023-10-27T23:23:33.974142Z"
    },
    "papermill": {
     "duration": 0.878994,
     "end_time": "2023-10-27T23:23:33.976311",
     "exception": false,
     "start_time": "2023-10-27T23:23:33.097317",
     "status": "completed"
    },
    "tags": []
   },
   "outputs": [
    {
     "name": "stdout",
     "output_type": "stream",
     "text": [
      "CPU_COUNT: 8; NODE: amilcar22; sys.version: 3.10.12 (main, Jul  5 2023, 19:22:19) [GCC 11.2.0]\n",
      "LOKY_MAX_CPU_COUNT: 6\n",
      "OMP_NUM_THREADS: 2\n"
     ]
    }
   ],
   "source": [
    "import os\n",
    "import numpy as np\n",
    "import pandas as pd\n",
    "import datetime\n",
    "import sklearn\n",
    "import logging\n",
    "import warnings\n",
    "\n",
    "from sklearn.pipeline import Pipeline\n",
    "from sklearn.model_selection import RandomizedSearchCV, KFold, cross_val_score, train_test_split\n",
    "from sklearn.metrics import accuracy_score, confusion_matrix, classification_report, roc_auc_score\n",
    "\n",
    "#  cargar algoritmos para aprendizaje supervisado\n",
    "from sklearn.feature_selection import SelectKBest, f_classif, SelectFromModel, mutual_info_classif\n",
    "from sklearn.svm import SVC\n",
    "from sklearn.ensemble import RandomForestClassifier\n",
    "from sklearn.linear_model import LogisticRegression,LogisticRegressionCV\n",
    "\n",
    "# importar fichero con utilidades propias\n",
    "from commons import myfunctions as myfunc\n"
   ]
  },
  {
   "cell_type": "markdown",
   "id": "b37ed3cc",
   "metadata": {
    "papermill": {
     "duration": 0.00256,
     "end_time": "2023-10-27T23:23:33.981682",
     "exception": false,
     "start_time": "2023-10-27T23:23:33.979122",
     "status": "completed"
    },
    "tags": []
   },
   "source": [
    "#### Parámetros a utilizar en el entrenamiento.\n",
    "\n",
    "Se indican los 3 algoritmos de *selección de características* (eval_selector_xxx) y los 3 algoritmos para la _clasificación_ (eval_clasifier_xxx)\n",
    "\n",
    "En *param_distributions* se indicar los parámetros que utilizan los algoritmos en la función RandomSearchCV.\n",
    "\n",
    "Esta celda tiene la etiqueta **parameters** que servirá para poder lanzar los entrenamientos con la utilidad **papermill** pasándole un fichero con los parámetros. Los nuevos parámetros se situarán tras esta celda para tener prevalencia."
   ]
  },
  {
   "cell_type": "code",
   "execution_count": 2,
   "id": "e11f8ca9",
   "metadata": {
    "execution": {
     "iopub.execute_input": "2023-10-27T23:23:33.987619Z",
     "iopub.status.busy": "2023-10-27T23:23:33.987329Z",
     "iopub.status.idle": "2023-10-27T23:23:33.994279Z",
     "shell.execute_reply": "2023-10-27T23:23:33.993722Z"
    },
    "papermill": {
     "duration": 0.011273,
     "end_time": "2023-10-27T23:23:33.995403",
     "exception": false,
     "start_time": "2023-10-27T23:23:33.984130",
     "status": "completed"
    },
    "tags": [
     "parameters"
    ]
   },
   "outputs": [
    {
     "name": "stdout",
     "output_type": "stream",
     "text": [
      "20231028T012333 : amilcar22 : INFO : Utilizando parámetros de mul_m\n"
     ]
    }
   ],
   "source": [
    "#  Parametros para el entrenamiento\n",
    "\n",
    "SEMILLA=        42\n",
    "M_TIPO=         \"mul_m\"\n",
    "M_SELECT=       \"MI\"\n",
    "M_CLASIF=       \"SVM\"\n",
    "R_FICHERO=      \"resultados\"\n",
    "M_FICHERO=      \"metricas\"\n",
    "PRE_DATA_FILE=  \"rows_transpose_norm_by_gene_id_with_target_num_\"\n",
    "SCORING=        \"roc_auc_ovr\" \n",
    "MAX_ITERS=      100\n",
    "\n",
    "def mutual_info_classif_state(X, y):\n",
    "    return mutual_info_classif(X, y, random_state=SEMILLA)\n",
    "\n",
    "eval_selector_mi = \"SelectKBest(score_func=mutual_info_classif_state)\"\n",
    "eval_selector_rf=  \"SelectFromModel(estimator=RandomForestClassifier(random_state=SEMILLA), threshold=-np.inf)\"\n",
    "eval_selector_anova=  \"SelectKBest(score_func=f_classif)\"\n",
    "\n",
    "eval_clasifier_svm= \"SVC(probability=True, random_state=SEMILLA)\"\n",
    "eval_clasifier_rf= \"RandomForestClassifier(random_state=SEMILLA)\"\n",
    "eval_clasifier_lr= \"LogisticRegressionCV(random_state=SEMILLA)\"\n",
    "\n",
    "if M_TIPO.startswith(\"bin_m\"):\n",
    "    myfunc.verbose(f\"Utilizando parámetros de {M_TIPO}\")\n",
    "    eval_selector = eval_selector_mi\n",
    "    eval_clasifier = eval_clasifier_svm\n",
    "\n",
    "    SEMILLA = 6578\n",
    "    M_SELECT = \"MI\"\n",
    "    M_CLASIF = \"SVM\"\n",
    "    param_distributions = {'selector__k': [1000], \n",
    "         'clasifier__kernel': ['rbf'], 'clasifier__gamma': [0.01], 'clasifier__C': [100]}\n",
    "elif M_TIPO.startswith(\"bin_s\"):\n",
    "    myfunc.verbose(f\"Utilizando parámetros de {M_TIPO}\")\n",
    "    eval_selector = eval_selector_rf\n",
    "    eval_clasifier = eval_clasifier_lr\n",
    "\n",
    "    SEMILLA = 6191\n",
    "    M_SELECT = \"RF\"\n",
    "    M_CLASIF = \"LR_L2\"\n",
    "    param_distributions = {'selector__max_features': [1000], 'selector__estimator__n_estimators': [200], \n",
    "        'clasifier__solver': ['lbfgs'], 'clasifier__penalty': ['l2'], 'clasifier__max_iter': [10000]}\n",
    "\n",
    "elif M_TIPO.startswith(\"mul_m\"):\n",
    "    myfunc.verbose(f\"Utilizando parámetros de {M_TIPO}\")\n",
    " \n",
    "    eval_selector = eval_selector_rf\n",
    "    eval_clasifier = eval_clasifier_lr\n",
    "\n",
    "    SEMILLA = 6191\n",
    "    M_SELECT = \"RF\"\n",
    "    M_CLASIF = \"LR_L2\"\n",
    "    param_distributions = {'selector__max_features': [1000], 'selector__estimator__n_estimators': [400], \n",
    "        'clasifier__solver': ['lbfgs'], 'clasifier__penalty': ['l2'], 'clasifier__max_iter': [10000]}\n",
    "\n",
    "else:\n",
    "    # M_TIPO.startswith(\"mul_s\"):\n",
    "    myfunc.verbose(f\"Utilizando parámetros de {M_TIPO}\")\n",
    "    eval_selector = eval_selector_anova\n",
    "    eval_clasifier = eval_clasifier_lr\n",
    "\n",
    "    SEMILLA = 1860\n",
    "    M_SELECT = \"ANOVA\"\n",
    "    M_CLASIF = \"LR_L2\"\n",
    "    param_distributions = {'selector__k': [1000], \n",
    "        'clasifier__solver': ['saga'], 'clasifier__penalty': ['l2'], 'clasifier__max_iter': [10000]}\n",
    "\n"
   ]
  },
  {
   "cell_type": "code",
   "execution_count": 3,
   "id": "5319befd",
   "metadata": {
    "execution": {
     "iopub.execute_input": "2023-10-27T23:23:34.001380Z",
     "iopub.status.busy": "2023-10-27T23:23:34.001186Z",
     "iopub.status.idle": "2023-10-27T23:23:34.004687Z",
     "shell.execute_reply": "2023-10-27T23:23:34.004133Z"
    },
    "papermill": {
     "duration": 0.007884,
     "end_time": "2023-10-27T23:23:34.005910",
     "exception": false,
     "start_time": "2023-10-27T23:23:33.998026",
     "status": "completed"
    },
    "tags": [
     "injected-parameters"
    ]
   },
   "outputs": [],
   "source": [
    "# Parameters\n",
    "M_TIPO = \"mul_s\"\n",
    "M_SELECT = \"RF\"\n",
    "M_CLASIF = \"LR_L2\"\n",
    "P_FICHERO = \"param_0000_0042_mul_s_RF_LR_L2.yaml\"\n",
    "R_FICHERO = \"resultados_0042\"\n",
    "M_FICHERO = \"metricas_0042\"\n",
    "PRE_DATA_FILE = \"rows_transpose_norm_by_gene_id_with_target_num_\"\n",
    "SCORING = \"roc_auc_ovr\"\n",
    "SEMILLA = 42\n",
    "MAX_ITERS = 500\n",
    "eval_selector = \"SelectFromModel(estimator=RandomForestClassifier(random_state=SEMILLA), threshold=-np.inf)\"\n",
    "eval_clasifier = \"LogisticRegressionCV(random_state=SEMILLA)\"\n",
    "param_distributions = {\n",
    "    \"selector__max_features\": [500],\n",
    "    \"selector__estimator__n_estimators\": [200],\n",
    "    \"clasifier__solver\": [\"lbfgs\"],\n",
    "    \"clasifier__penalty\": [\"l2\"],\n",
    "    \"clasifier__max_iter\": [10000],\n",
    "}\n"
   ]
  },
  {
   "cell_type": "code",
   "execution_count": 4,
   "id": "54ecf839",
   "metadata": {
    "execution": {
     "iopub.execute_input": "2023-10-27T23:23:34.012606Z",
     "iopub.status.busy": "2023-10-27T23:23:34.012427Z",
     "iopub.status.idle": "2023-10-27T23:23:34.015524Z",
     "shell.execute_reply": "2023-10-27T23:23:34.015016Z"
    },
    "papermill": {
     "duration": 0.007953,
     "end_time": "2023-10-27T23:23:34.016786",
     "exception": false,
     "start_time": "2023-10-27T23:23:34.008833",
     "status": "completed"
    },
    "tags": []
   },
   "outputs": [],
   "source": [
    "DATA_FILE = PRE_DATA_FILE + M_TIPO\n",
    "\n",
    "# si viene \"None\" en el parámetro max_depth, se le quitan las comillas para que no sea entendido por el algoritmo como un texto\n",
    "if \"clasifier__max_depth\" in param_distributions:\n",
    "    param_distributions['clasifier__max_depth'] = [None if x == 'None' else x for x in param_distributions['clasifier__max_depth']]"
   ]
  },
  {
   "cell_type": "markdown",
   "id": "01628efc",
   "metadata": {
    "papermill": {
     "duration": 0.002742,
     "end_time": "2023-10-27T23:23:34.022276",
     "exception": false,
     "start_time": "2023-10-27T23:23:34.019534",
     "status": "completed"
    },
    "tags": []
   },
   "source": [
    "Asignar los algoritmos que se utilizarán en la función RandomSearchCV"
   ]
  },
  {
   "cell_type": "code",
   "execution_count": 5,
   "id": "06b268df",
   "metadata": {
    "execution": {
     "iopub.execute_input": "2023-10-27T23:23:34.028893Z",
     "iopub.status.busy": "2023-10-27T23:23:34.028421Z",
     "iopub.status.idle": "2023-10-27T23:23:34.031372Z",
     "shell.execute_reply": "2023-10-27T23:23:34.030829Z"
    },
    "papermill": {
     "duration": 0.007631,
     "end_time": "2023-10-27T23:23:34.032721",
     "exception": false,
     "start_time": "2023-10-27T23:23:34.025090",
     "status": "completed"
    },
    "tags": []
   },
   "outputs": [],
   "source": [
    "algor_selector=eval(eval_selector)\n",
    "algor_clasifier=eval(eval_clasifier)"
   ]
  },
  {
   "cell_type": "markdown",
   "id": "940a48b6",
   "metadata": {
    "papermill": {
     "duration": 0.003251,
     "end_time": "2023-10-27T23:23:34.039186",
     "exception": false,
     "start_time": "2023-10-27T23:23:34.035935",
     "status": "completed"
    },
    "tags": []
   },
   "source": [
    "#### Comprobar el entorno y leer fichero de muestras"
   ]
  },
  {
   "cell_type": "code",
   "execution_count": 6,
   "id": "559fd98b",
   "metadata": {
    "execution": {
     "iopub.execute_input": "2023-10-27T23:23:34.046558Z",
     "iopub.status.busy": "2023-10-27T23:23:34.046243Z",
     "iopub.status.idle": "2023-10-27T23:23:34.173332Z",
     "shell.execute_reply": "2023-10-27T23:23:34.172630Z"
    },
    "papermill": {
     "duration": 0.132364,
     "end_time": "2023-10-27T23:23:34.174782",
     "exception": false,
     "start_time": "2023-10-27T23:23:34.042418",
     "status": "completed"
    },
    "tags": []
   },
   "outputs": [
    {
     "name": "stdout",
     "output_type": "stream",
     "text": [
      "20231028T012334 : amilcar22 : INFO : Encontrada carpeta DATA_DIR=../tfm_git/datos\n",
      "20231028T012334 : amilcar22 : INFO : Encontrada carpeta CFDNA_DIR=../tfm_git/datos/cfDNA_5hmC\n",
      "20231028T012334 : amilcar22 : INFO : Encontrada carpeta GENCODE_DIR=../tfm_git/datos/gencode\n",
      "20231028T012334 : amilcar22 : INFO : Encontrada carpeta H5_DIR=../tfm_git/datos/h5\n",
      "20231028T012334 : amilcar22 : INFO : Encontrada carpeta LOG_DIR=../tfm_git/datos/logs\n",
      "20231028T012334 : amilcar22 : INFO : Encontrada carpeta CSV_DIR=../tfm_git/datos/csv\n",
      "20231028T012334 : amilcar22 : INFO : Encontrada carpeta MODEL_DIR=../tfm_git/ejecuciones/modelos\n",
      "20231028T012334 : amilcar22 : INFO : Encontrada carpeta EXEC_DIR=../tfm_git/ejecuciones\n",
      "20231028T012334 : amilcar22 : INFO : Encontrada carpeta MET_DIR=../tfm_git/ejecuciones/metricas\n",
      "20231028T012334 : amilcar22 : INFO : Inicio leer fichero h5 ../tfm_git/datos/h5/rows_transpose_norm_by_gene_id_with_target_num_mul_s.h5\n",
      "20231028T012334 : amilcar22 : INFO : Leyendo clave /df\n",
      "20231028T012334 : amilcar22 : INFO : Tamaño (259, 18876)\n",
      "20231028T012334 : amilcar22 : INFO : Fin leer fichero h5 ../tfm_git/datos/h5/rows_transpose_norm_by_gene_id_with_target_num_mul_s.h5\n"
     ]
    },
    {
     "data": {
      "text/plain": [
       "target\n",
       "0    37\n",
       "1    37\n",
       "2    37\n",
       "3    37\n",
       "4    37\n",
       "5    37\n",
       "6    37\n",
       "dtype: int64"
      ]
     },
     "metadata": {},
     "output_type": "display_data"
    },
    {
     "name": "stdout",
     "output_type": "stream",
     "text": [
      "Shape df: (259, 18876)\n",
      "Shape X_train: (207, 18875)\n",
      "Shape X_test: (52, 18875)\n"
     ]
    }
   ],
   "source": [
    "start_time = datetime.datetime.now()\n",
    "\n",
    "myfunc.reset_vars()\n",
    "\n",
    "myfunc.NOTEBK_FILENAME = myfunc.get_nb_name()\n",
    "\n",
    "myfunc.check_enviroment(myfunc.DATA_DIR, myfunc.CFDNA_DIR, myfunc.GENCODE_DIR, myfunc.H5_DIR, myfunc.LOG_DIR, myfunc.CSV_DIR, myfunc.MODEL_DIR, myfunc.EXEC_DIR, myfunc.MET_DIR)\n",
    "\n",
    "# Leer fichero con las muestras\n",
    "df_t = myfunc.read_h5_to_df(DATA_FILE, myfunc.H5_DIR)\n",
    "display(df_t.groupby(\"target\").size())\n",
    "print(\"Shape df:\",df_t.shape)\n",
    "\n",
    "# Separar caracteristicas/genes de las etiquetas/tipos de cáncer\n",
    "X = df_t.iloc[:, :-1]  # Todas las columnas excepto la última\n",
    "y = df_t.iloc[:, -1]  # La última columna contiene los identificadores de los tipos de cáncer\n",
    "\n",
    "#  Crear el conjunto de datos de entrenamiento y de pruebas\n",
    "X_train, X_test, y_train, y_test = train_test_split(X, y, test_size=0.2, shuffle=True, random_state=SEMILLA)\n",
    "print(\"Shape X_train:\",X_train.shape)\n",
    "print(\"Shape X_test:\",X_test.shape)\n"
   ]
  },
  {
   "cell_type": "markdown",
   "id": "5b3faa28",
   "metadata": {
    "papermill": {
     "duration": 0.002766,
     "end_time": "2023-10-27T23:23:34.180827",
     "exception": false,
     "start_time": "2023-10-27T23:23:34.178061",
     "status": "completed"
    },
    "tags": []
   },
   "source": [
    "#### Selección de características y clasificación."
   ]
  },
  {
   "cell_type": "code",
   "execution_count": 7,
   "id": "3a3ea2cf",
   "metadata": {
    "execution": {
     "iopub.execute_input": "2023-10-27T23:23:34.187218Z",
     "iopub.status.busy": "2023-10-27T23:23:34.187019Z",
     "iopub.status.idle": "2023-10-27T23:23:50.610832Z",
     "shell.execute_reply": "2023-10-27T23:23:50.610220Z"
    },
    "papermill": {
     "duration": 16.428457,
     "end_time": "2023-10-27T23:23:50.612012",
     "exception": false,
     "start_time": "2023-10-27T23:23:34.183555",
     "status": "completed"
    },
    "tags": []
   },
   "outputs": [
    {
     "name": "stdout",
     "output_type": "stream",
     "text": [
      "20231028T012334 : amilcar22 : INFO : Iniciando entrenamiento\n",
      "num_iter: 1 , max_iter: 1\n"
     ]
    },
    {
     "name": "stdout",
     "output_type": "stream",
     "text": [
      "Fitting 5 folds for each of 1 candidates, totalling 5 fits\n"
     ]
    },
    {
     "name": "stdout",
     "output_type": "stream",
     "text": [
      "Mejores Hiperparámetros: {'selector__max_features': 500, 'selector__estimator__n_estimators': 200, 'clasifier__solver': 'lbfgs', 'clasifier__penalty': 'l2', 'clasifier__max_iter': 10000}\n",
      "Mejor Puntuación: 0.7949\n",
      "20231028T012350 : amilcar22 : INFO : Fin entrenamiento\n"
     ]
    }
   ],
   "source": [
    "myfunc.verbose(\"Iniciando entrenamiento\")\n",
    "\n",
    "kf = KFold(n_splits=5, shuffle=True, random_state=SEMILLA)\n",
    "\n",
    "# Crear el pipeline para el flujo de tareas\n",
    "tasks_pipeline = Pipeline([\n",
    "    ('selector', algor_selector),\n",
    "    ('clasifier', algor_clasifier)\n",
    "])\n",
    "\n",
    "# MAX_ITERS puede limitar el número de iteraciones si son excesivas para las combinaciones de parámetros buscando un óptimo local, \n",
    "# sino funcionaría como GridSearchCV al revisar todas las cominaciones de los parámetros\n",
    "num_iteraciones = 1\n",
    "num_iteraciones = num_iteraciones * np.prod([len(elemento1) for _, elemento1 in param_distributions.items()])\n",
    "max_iteraciones = num_iteraciones if num_iteraciones <= MAX_ITERS else MAX_ITERS\n",
    "print(\"num_iter:\",num_iteraciones,\", max_iter:\",max_iteraciones)\n",
    "\n",
    "random_search = RandomizedSearchCV(\n",
    "    tasks_pipeline, \n",
    "    param_distributions, \n",
    "    n_iter=max_iteraciones,\n",
    "    scoring=SCORING,\n",
    "    cv=kf,\n",
    "    verbose=3, \n",
    "    random_state=SEMILLA, \n",
    "    n_jobs=-1\n",
    "    )\n",
    "\n",
    "# Entrenar el modelo\n",
    "random_search.fit(X_train, y_train)\n",
    "\n",
    "# Ver los mejores hiperparámetros encontrados\n",
    "print(f'Mejores Hiperparámetros: {random_search.best_params_}')\n",
    "print(f'Mejor Puntuación: {random_search.best_score_:.4f}')\n",
    "\n",
    "# Nos quedamos con el mejor modelo para ver las métricas\n",
    "mejor_modelo = random_search.best_estimator_\n",
    "\n",
    "myfunc.verbose(\"Fin entrenamiento\")"
   ]
  },
  {
   "cell_type": "markdown",
   "id": "d78f3a16",
   "metadata": {
    "papermill": {
     "duration": 0.00305,
     "end_time": "2023-10-27T23:23:50.618549",
     "exception": false,
     "start_time": "2023-10-27T23:23:50.615499",
     "status": "completed"
    },
    "tags": []
   },
   "source": [
    "#### Guardar modelo"
   ]
  },
  {
   "cell_type": "code",
   "execution_count": 8,
   "id": "d5669c1f",
   "metadata": {
    "execution": {
     "iopub.execute_input": "2023-10-27T23:23:50.625535Z",
     "iopub.status.busy": "2023-10-27T23:23:50.625323Z",
     "iopub.status.idle": "2023-10-27T23:23:50.698240Z",
     "shell.execute_reply": "2023-10-27T23:23:50.697703Z"
    },
    "papermill": {
     "duration": 0.077845,
     "end_time": "2023-10-27T23:23:50.699445",
     "exception": false,
     "start_time": "2023-10-27T23:23:50.621600",
     "status": "completed"
    },
    "tags": []
   },
   "outputs": [
    {
     "name": "stdout",
     "output_type": "stream",
     "text": [
      "20231028T012350 : amilcar22 : INFO : Inicio guardar fichero ../tfm_git/ejecuciones/modelos/modelo_0042_mul_s_RF_LR_L2.pkl\n",
      "20231028T012350 : amilcar22 : INFO : Fin guardar fichero ../tfm_git/ejecuciones/modelos/modelo_0042_mul_s_RF_LR_L2.pkl\n"
     ]
    }
   ],
   "source": [
    "fichero_modelo = str.replace(\"modelo_\"+str(SEMILLA).zfill(4)+\"_\"+M_TIPO+\"_\"+M_SELECT+\"_\"+M_CLASIF+\".pkl\", \" \", \"_\")\n",
    "\n",
    "myfunc.save_modelo(mejor_modelo, myfunc.MODEL_DIR, fichero_modelo)"
   ]
  },
  {
   "cell_type": "markdown",
   "id": "888e0be6",
   "metadata": {
    "papermill": {
     "duration": 0.003292,
     "end_time": "2023-10-27T23:23:50.706148",
     "exception": false,
     "start_time": "2023-10-27T23:23:50.702856",
     "status": "completed"
    },
    "tags": []
   },
   "source": [
    "#### Ver resultados del las iteraciones hechas por RandomSearchCV"
   ]
  },
  {
   "cell_type": "code",
   "execution_count": 9,
   "id": "9b6731ef",
   "metadata": {
    "execution": {
     "iopub.execute_input": "2023-10-27T23:23:50.712841Z",
     "iopub.status.busy": "2023-10-27T23:23:50.712637Z",
     "iopub.status.idle": "2023-10-27T23:23:50.718419Z",
     "shell.execute_reply": "2023-10-27T23:23:50.717858Z"
    },
    "papermill": {
     "duration": 0.010469,
     "end_time": "2023-10-27T23:23:50.719587",
     "exception": false,
     "start_time": "2023-10-27T23:23:50.709118",
     "status": "completed"
    },
    "tags": []
   },
   "outputs": [
    {
     "name": "stdout",
     "output_type": "stream",
     "text": [
      "20231028T012350 : amilcar22 : INFO : Inicio ver resultados\n",
      "Mejores Hiperparámetros: {'selector__max_features': 500, 'selector__estimator__n_estimators': 200, 'clasifier__solver': 'lbfgs', 'clasifier__penalty': 'l2', 'clasifier__max_iter': 10000}\n",
      "Mejores puntuaciones: 0.7949 | Params: {'selector__max_features': 500, 'selector__estimator__n_estimators': 200, 'clasifier__solver': 'lbfgs', 'clasifier__penalty': 'l2', 'clasifier__max_iter': 10000}\n",
      "Media de las puntuaciones: 0.7949 | Params: {'selector__max_features': 500, 'selector__estimator__n_estimators': 200, 'clasifier__solver': 'lbfgs', 'clasifier__penalty': 'l2', 'clasifier__max_iter': 10000}\n",
      "20231028T012350 : amilcar22 : INFO : Fin resultados\n"
     ]
    }
   ],
   "source": [
    "myfunc.ver_resultados_search(random_search)"
   ]
  },
  {
   "cell_type": "markdown",
   "id": "ea7dc991",
   "metadata": {
    "papermill": {
     "duration": 0.003023,
     "end_time": "2023-10-27T23:23:50.726016",
     "exception": false,
     "start_time": "2023-10-27T23:23:50.722993",
     "status": "completed"
    },
    "tags": []
   },
   "source": [
    "#### Ver métricas del mejor modelo"
   ]
  },
  {
   "cell_type": "code",
   "execution_count": 10,
   "id": "585f0e4a",
   "metadata": {
    "execution": {
     "iopub.execute_input": "2023-10-27T23:23:50.732883Z",
     "iopub.status.busy": "2023-10-27T23:23:50.732686Z",
     "iopub.status.idle": "2023-10-27T23:23:51.443931Z",
     "shell.execute_reply": "2023-10-27T23:23:51.443411Z"
    },
    "papermill": {
     "duration": 0.716152,
     "end_time": "2023-10-27T23:23:51.445249",
     "exception": false,
     "start_time": "2023-10-27T23:23:50.729097",
     "status": "completed"
    },
    "tags": []
   },
   "outputs": [
    {
     "name": "stdout",
     "output_type": "stream",
     "text": [
      "20231028T012350 : amilcar22 : INFO : Inicio ver métricas multiclase\n"
     ]
    },
    {
     "name": "stdout",
     "output_type": "stream",
     "text": [
      "              precision    recall  f1-score   support\n",
      "\n",
      "           0       0.50      0.36      0.42        11\n",
      "           1       0.71      0.62      0.67         8\n",
      "           2       0.17      0.12      0.14         8\n",
      "           3       0.14      0.20      0.17         5\n",
      "           4       0.75      0.75      0.75         8\n",
      "           5       0.75      0.50      0.60         6\n",
      "           6       0.33      0.67      0.44         6\n",
      "\n",
      "    accuracy                           0.46        52\n",
      "   macro avg       0.48      0.46      0.46        52\n",
      "weighted avg       0.50      0.46      0.47        52\n",
      "\n",
      "\n",
      "\n",
      "           Exactitud: 0.461538\n",
      "   Precisión (media): 0.479592\n",
      "      Recall (media): 0.461472\n",
      "    F1-score (media): 0.455955\n",
      "\n",
      "\n",
      "AUC para el tipo de cáncer 0-Control.... 0.7450\n",
      "AUC para el tipo de cáncer 1-Bladder.... 0.8239\n",
      "AUC para el tipo de cáncer 2-Breast..... 0.7528\n",
      "AUC para el tipo de cáncer 3-Colorectal. 0.6638\n",
      "AUC para el tipo de cáncer 4-Kidney..... 0.9545\n"
     ]
    },
    {
     "name": "stdout",
     "output_type": "stream",
     "text": [
      "AUC para el tipo de cáncer 5-Lung....... 0.9529\n",
      "AUC para el tipo de cáncer 6-Prostate... 0.8659\n",
      "\n",
      "Media de AUC: 0.8227\n"
     ]
    },
    {
     "data": {
      "image/png": "[encoded data removed]",
      "text/plain": [
       "<Figure size 1000x600 with 1 Axes>"
      ]
     },
     "metadata": {},
     "output_type": "display_data"
    },
    {
     "name": "stdout",
     "output_type": "stream",
     "text": [
      "\n",
      "\n"
     ]
    },
    {
     "data": {
      "image/png": "[encoded data removed]",
      "text/plain": [
       "<Figure size 800x400 with 2 Axes>"
      ]
     },
     "metadata": {},
     "output_type": "display_data"
    },
    {
     "name": "stdout",
     "output_type": "stream",
     "text": [
      "\n",
      "\n",
      "Puntuación Jaccard para el cáncer tipo 0-Control.... 0.2667\n",
      "Puntuación Jaccard para el cáncer tipo 1-Bladder.... 0.5000\n",
      "Puntuación Jaccard para el cáncer tipo 2-Breast..... 0.0769\n",
      "Puntuación Jaccard para el cáncer tipo 3-Colorectal. 0.0909\n",
      "Puntuación Jaccard para el cáncer tipo 4-Kidney..... 0.6000\n",
      "Puntuación Jaccard para el cáncer tipo 5-Lung....... 0.4286\n",
      "Puntuación Jaccard para el cáncer tipo 6-Prostate... 0.2857\n",
      "\n",
      "Media de la puntuación de Jaccard: 0.3213\n"
     ]
    }
   ],
   "source": [
    "if M_TIPO.startswith(\"bin\"):\n",
    "    myfunc.ver_metricas(mejor_modelo, X_test, y_test)\n",
    "else:\n",
    "    myfunc.ver_metricas_multi(mejor_modelo, X_test, y_test)\n"
   ]
  },
  {
   "cell_type": "markdown",
   "id": "a9be5735",
   "metadata": {
    "papermill": {
     "duration": 0.004317,
     "end_time": "2023-10-27T23:23:51.454225",
     "exception": false,
     "start_time": "2023-10-27T23:23:51.449908",
     "status": "completed"
    },
    "tags": []
   },
   "source": [
    "#### Finalización del notebook"
   ]
  },
  {
   "cell_type": "code",
   "execution_count": 11,
   "id": "95152673",
   "metadata": {
    "execution": {
     "iopub.execute_input": "2023-10-27T23:23:51.463377Z",
     "iopub.status.busy": "2023-10-27T23:23:51.463166Z",
     "iopub.status.idle": "2023-10-27T23:23:51.466739Z",
     "shell.execute_reply": "2023-10-27T23:23:51.466291Z"
    },
    "papermill": {
     "duration": 0.009392,
     "end_time": "2023-10-27T23:23:51.467871",
     "exception": false,
     "start_time": "2023-10-27T23:23:51.458479",
     "status": "completed"
    },
    "tags": []
   },
   "outputs": [
    {
     "name": "stdout",
     "output_type": "stream",
     "text": [
      "20231028T012351 : amilcar22 : INFO : Notebook ha tardado 17 seconds\n"
     ]
    }
   ],
   "source": [
    "end_time = datetime.datetime.now()\n",
    "total_time = end_time - start_time\n",
    "myfunc.verbose(f\"Notebook ha tardado {total_time.seconds} seconds\")"
   ]
  },
  {
   "cell_type": "markdown",
   "id": "1d2a60f1",
   "metadata": {
    "papermill": {
     "duration": 0.004089,
     "end_time": "2023-10-27T23:23:51.476450",
     "exception": false,
     "start_time": "2023-10-27T23:23:51.472361",
     "status": "completed"
    },
    "tags": []
   },
   "source": [
    "#### Guardar métricas"
   ]
  },
  {
   "cell_type": "code",
   "execution_count": 12,
   "id": "d46ccdfd",
   "metadata": {
    "execution": {
     "iopub.execute_input": "2023-10-27T23:23:51.485464Z",
     "iopub.status.busy": "2023-10-27T23:23:51.485268Z",
     "iopub.status.idle": "2023-10-27T23:23:51.874993Z",
     "shell.execute_reply": "2023-10-27T23:23:51.874399Z"
    },
    "papermill": {
     "duration": 0.395673,
     "end_time": "2023-10-27T23:23:51.876295",
     "exception": false,
     "start_time": "2023-10-27T23:23:51.480622",
     "status": "completed"
    },
    "tags": []
   },
   "outputs": [
    {
     "name": "stdout",
     "output_type": "stream",
     "text": [
      "20231028T012351 : amilcar22 : INFO : Inicio guardar métricas multiclase\n",
      "20231028T012351 : amilcar22 : INFO : Inicio leer fichero ../tfm_git/ejecuciones/metricas/metricas_0042.csv\n",
      "20231028T012351 : amilcar22 : INFO : Fin leer fichero ../tfm_git/ejecuciones/metricas/metricas_0042.csv\n"
     ]
    },
    {
     "name": "stdout",
     "output_type": "stream",
     "text": [
      "20231028T012351 : amilcar22 : INFO : Inicio guardar fichero ../tfm_git/ejecuciones/metricas/metricas_0042.csv\n",
      "20231028T012351 : amilcar22 : INFO : Fichero borrado ../tfm_git/ejecuciones/metricas/metricas_0042.csv\n",
      "20231028T012351 : amilcar22 : INFO : Fin guardar fichero ../tfm_git/ejecuciones/metricas/metricas_0042.csv\n",
      "20231028T012351 : amilcar22 : INFO : Fin guardar métricas multiclase\n",
      "20231028T012351 : amilcar22 : INFO : Inicio leer fichero ../tfm_git/ejecuciones/metricas/metricas_0042.csv\n",
      "20231028T012351 : amilcar22 : INFO : Fin leer fichero ../tfm_git/ejecuciones/metricas/metricas_0042.csv\n"
     ]
    },
    {
     "data": {
      "text/html": [
       "<div>\n",
       "<style scoped>\n",
       "    .dataframe tbody tr th:only-of-type {\n",
       "        vertical-align: middle;\n",
       "    }\n",
       "\n",
       "    .dataframe tbody tr th {\n",
       "        vertical-align: top;\n",
       "    }\n",
       "\n",
       "    .dataframe thead th {\n",
       "        text-align: right;\n",
       "    }\n",
       "</style>\n",
       "<table border=\"1\" class=\"dataframe\">\n",
       "  <thead>\n",
       "    <tr style=\"text-align: right;\">\n",
       "      <th></th>\n",
       "      <th>tipo</th>\n",
       "      <th>select</th>\n",
       "      <th>clasific</th>\n",
       "      <th>accuracy</th>\n",
       "      <th>precision</th>\n",
       "      <th>recall</th>\n",
       "      <th>f1_score</th>\n",
       "      <th>roc_auc</th>\n",
       "      <th>roc_auc_ovr</th>\n",
       "      <th>hostname</th>\n",
       "      <th>total_time_sec</th>\n",
       "      <th>datetime</th>\n",
       "      <th>fichero_modelo</th>\n",
       "      <th>params</th>\n",
       "      <th>shape</th>\n",
       "      <th>features</th>\n",
       "      <th>semilla</th>\n",
       "      <th>indices_auc</th>\n",
       "      <th>indices_jaccard</th>\n",
       "    </tr>\n",
       "  </thead>\n",
       "  <tbody>\n",
       "    <tr>\n",
       "      <th>0</th>\n",
       "      <td>mul_s</td>\n",
       "      <td>RF</td>\n",
       "      <td>LR_L2</td>\n",
       "      <td>0.461538</td>\n",
       "      <td>0.479592</td>\n",
       "      <td>0.461472</td>\n",
       "      <td>0.455955</td>\n",
       "      <td>NaN</td>\n",
       "      <td>0.822704</td>\n",
       "      <td>amilcar22</td>\n",
       "      <td>17</td>\n",
       "      <td>2023-10-28 01:23:51.825485</td>\n",
       "      <td>modelo_0042_mul_s_RF_LR_L2.pkl</td>\n",
       "      <td>{'selector__max_features': 500, 'selector__est...</td>\n",
       "      <td>X_test:(52, 18875)</td>\n",
       "      <td>['ENSG00000002587.10', 'ENSG00000002919.15', '...</td>\n",
       "      <td>42.0</td>\n",
       "      <td>[0.7450110864745011, 0.8238636363636364, 0.752...</td>\n",
       "      <td>[0.26666666666666666, 0.5, 0.07692307692307693...</td>\n",
       "    </tr>\n",
       "    <tr>\n",
       "      <th>0</th>\n",
       "      <td>mul_s</td>\n",
       "      <td>RF</td>\n",
       "      <td>LR_L1</td>\n",
       "      <td>0.442308</td>\n",
       "      <td>0.503989</td>\n",
       "      <td>0.454329</td>\n",
       "      <td>0.453483</td>\n",
       "      <td>NaN</td>\n",
       "      <td>0.793476</td>\n",
       "      <td>amilcar22</td>\n",
       "      <td>540</td>\n",
       "      <td>2023-10-28 01:23:27.936872</td>\n",
       "      <td>modelo_0042_mul_s_RF_LR_L1.pkl</td>\n",
       "      <td>{'selector__max_features': 500, 'selector__est...</td>\n",
       "      <td>X_test:(52, 18875)</td>\n",
       "      <td>['ENSG00000000938.13', 'ENSG00000002587.10', '...</td>\n",
       "      <td>42.0</td>\n",
       "      <td>[0.5875831485587584, 0.7386363636363636, 0.696...</td>\n",
       "      <td>[0.2222222222222222, 0.4, 0.08333333333333333,...</td>\n",
       "    </tr>\n",
       "    <tr>\n",
       "      <th>0</th>\n",
       "      <td>mul_s</td>\n",
       "      <td>RF</td>\n",
       "      <td>LR_EN</td>\n",
       "      <td>0.442308</td>\n",
       "      <td>0.437497</td>\n",
       "      <td>0.448593</td>\n",
       "      <td>0.431504</td>\n",
       "      <td>NaN</td>\n",
       "      <td>0.798915</td>\n",
       "      <td>amilcar22</td>\n",
       "      <td>447</td>\n",
       "      <td>2023-10-28 01:14:21.551207</td>\n",
       "      <td>modelo_0042_mul_s_RF_LR_EN.pkl</td>\n",
       "      <td>{'selector__max_features': 500, 'selector__est...</td>\n",
       "      <td>X_test:(52, 18875)</td>\n",
       "      <td>['ENSG00000002919.15', 'ENSG00000007237.19', '...</td>\n",
       "      <td>42.0</td>\n",
       "      <td>[0.6008869179600886, 0.8892045454545455, 0.713...</td>\n",
       "      <td>[0.1111111111111111, 0.5555555555555556, 0.153...</td>\n",
       "    </tr>\n",
       "  </tbody>\n",
       "</table>\n",
       "</div>"
      ],
      "text/plain": [
       "    tipo select clasific  accuracy  precision    recall  f1_score  roc_auc  \\\n",
       "0  mul_s     RF    LR_L2  0.461538   0.479592  0.461472  0.455955      NaN   \n",
       "0  mul_s     RF    LR_L1  0.442308   0.503989  0.454329  0.453483      NaN   \n",
       "0  mul_s     RF    LR_EN  0.442308   0.437497  0.448593  0.431504      NaN   \n",
       "\n",
       "   roc_auc_ovr   hostname  total_time_sec                    datetime  \\\n",
       "0     0.822704  amilcar22              17  2023-10-28 01:23:51.825485   \n",
       "0     0.793476  amilcar22             540  2023-10-28 01:23:27.936872   \n",
       "0     0.798915  amilcar22             447  2023-10-28 01:14:21.551207   \n",
       "\n",
       "                   fichero_modelo  \\\n",
       "0  modelo_0042_mul_s_RF_LR_L2.pkl   \n",
       "0  modelo_0042_mul_s_RF_LR_L1.pkl   \n",
       "0  modelo_0042_mul_s_RF_LR_EN.pkl   \n",
       "\n",
       "                                              params               shape  \\\n",
       "0  {'selector__max_features': 500, 'selector__est...  X_test:(52, 18875)   \n",
       "0  {'selector__max_features': 500, 'selector__est...  X_test:(52, 18875)   \n",
       "0  {'selector__max_features': 500, 'selector__est...  X_test:(52, 18875)   \n",
       "\n",
       "                                            features  semilla  \\\n",
       "0  ['ENSG00000002587.10', 'ENSG00000002919.15', '...     42.0   \n",
       "0  ['ENSG00000000938.13', 'ENSG00000002587.10', '...     42.0   \n",
       "0  ['ENSG00000002919.15', 'ENSG00000007237.19', '...     42.0   \n",
       "\n",
       "                                         indices_auc  \\\n",
       "0  [0.7450110864745011, 0.8238636363636364, 0.752...   \n",
       "0  [0.5875831485587584, 0.7386363636363636, 0.696...   \n",
       "0  [0.6008869179600886, 0.8892045454545455, 0.713...   \n",
       "\n",
       "                                     indices_jaccard  \n",
       "0  [0.26666666666666666, 0.5, 0.07692307692307693...  \n",
       "0  [0.2222222222222222, 0.4, 0.08333333333333333,...  \n",
       "0  [0.1111111111111111, 0.5555555555555556, 0.153...  "
      ]
     },
     "metadata": {},
     "output_type": "display_data"
    }
   ],
   "source": [
    "if M_TIPO.startswith(\"bin\"):\n",
    "    myfunc.save_metricas_to_csv(random_search, X_test, y_test, M_TIPO, M_SELECT, M_CLASIF, total_time, SEMILLA, myfunc.MET_DIR, M_FICHERO, fichero_modelo)\n",
    "else:\n",
    "    myfunc.save_metricas_multi_to_csv(random_search, X_test, y_test, M_TIPO, M_SELECT, M_CLASIF, total_time, SEMILLA, myfunc.MET_DIR, M_FICHERO, fichero_modelo)\n",
    "\n",
    "df1=myfunc.read_metricas_to_df(myfunc.MET_DIR,M_FICHERO)\n",
    "\n",
    "display(df1.sort_values(\"datetime\", ascending=False)[:3])\n"
   ]
  },
  {
   "cell_type": "markdown",
   "id": "2c9e9515",
   "metadata": {
    "papermill": {
     "duration": 0.004299,
     "end_time": "2023-10-27T23:23:51.885687",
     "exception": false,
     "start_time": "2023-10-27T23:23:51.881388",
     "status": "completed"
    },
    "tags": []
   },
   "source": [
    "#### Guardar resultados"
   ]
  },
  {
   "cell_type": "code",
   "execution_count": 13,
   "id": "e2774fb1",
   "metadata": {
    "execution": {
     "iopub.execute_input": "2023-10-27T23:23:51.895083Z",
     "iopub.status.busy": "2023-10-27T23:23:51.894876Z",
     "iopub.status.idle": "2023-10-27T23:23:51.903477Z",
     "shell.execute_reply": "2023-10-27T23:23:51.902971Z"
    },
    "papermill": {
     "duration": 0.014666,
     "end_time": "2023-10-27T23:23:51.904670",
     "exception": false,
     "start_time": "2023-10-27T23:23:51.890004",
     "status": "completed"
    },
    "tags": []
   },
   "outputs": [
    {
     "name": "stdout",
     "output_type": "stream",
     "text": [
      "20231028T012351 : amilcar22 : INFO : Inicio guardar resultados\n",
      "20231028T012351 : amilcar22 : INFO : Inicio guardar fichero ../tfm_git/ejecuciones/metricas/resultados_0042_mul_s-RF-LR_L2.csv\n",
      "20231028T012351 : amilcar22 : INFO : Fin guardar fichero ../tfm_git/ejecuciones/metricas/resultados_0042_mul_s-RF-LR_L2.csv\n",
      "20231028T012351 : amilcar22 : INFO : Fin guardar resultados\n"
     ]
    }
   ],
   "source": [
    "fichero_resultados=R_FICHERO+\"_\"+M_TIPO+\"-\"+M_SELECT+\"-\"+M_CLASIF+\".csv\"\n",
    "myfunc.save_resultados_to_csv(M_TIPO, M_SELECT, M_CLASIF,  random_search, myfunc.MET_DIR, fichero_resultados)\n"
   ]
  }
 ],
 "metadata": {
  "kernelspec": {
   "display_name": "Python 3 (ipykernel)",
   "language": "python",
   "name": "python3"
  },
  "language_info": {
   "codemirror_mode": {
    "name": "ipython",
    "version": 3
   },
   "file_extension": ".py",
   "mimetype": "text/x-python",
   "name": "python",
   "nbconvert_exporter": "python",
   "pygments_lexer": "ipython3",
   "version": "3.10.12"
  },
  "papermill": {
   "default_parameters": {},
   "duration": 22.3658,
   "end_time": "2023-10-27T23:23:54.525975",
   "environment_variables": {},
   "exception": null,
   "input_path": "03_entrenamiento.ipynb",
   "output_path": "ejecuciones/training/03_entrenamiento.20231028T012331.param_0000_0042_mul_s_RF_LR_L2.output.ipynb",
   "parameters": {
    "MAX_ITERS": 500,
    "M_CLASIF": "LR_L2",
    "M_FICHERO": "metricas_0042",
    "M_SELECT": "RF",
    "M_TIPO": "mul_s",
    "PRE_DATA_FILE": "rows_transpose_norm_by_gene_id_with_target_num_",
    "P_FICHERO": "param_0000_0042_mul_s_RF_LR_L2.yaml",
    "R_FICHERO": "resultados_0042",
    "SCORING": "roc_auc_ovr",
    "SEMILLA": 42,
    "eval_clasifier": "LogisticRegressionCV(random_state=SEMILLA)",
    "eval_selector": "SelectFromModel(estimator=RandomForestClassifier(random_state=SEMILLA), threshold=-np.inf)",
    "param_distributions": {
     "clasifier__max_iter": [
      10000
     ],
     "clasifier__penalty": [
      "l2"
     ],
     "clasifier__solver": [
      "lbfgs"
     ],
     "selector__estimator__n_estimators": [
      200
     ],
     "selector__max_features": [
      500
     ]
    }
   },
   "start_time": "2023-10-27T23:23:32.160175",
   "version": "2.4.0"
  }
 },
 "nbformat": 4,
 "nbformat_minor": 5
}