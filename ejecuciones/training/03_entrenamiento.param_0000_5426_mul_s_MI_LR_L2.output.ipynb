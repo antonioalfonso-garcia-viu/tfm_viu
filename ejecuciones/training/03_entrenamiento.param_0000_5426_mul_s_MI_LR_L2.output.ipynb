{
 "cells": [
  {
   "cell_type": "markdown",
   "id": "2769a1f2",
   "metadata": {
    "papermill": {
     "duration": 0.0,
     "end_time": "2023-10-30T11:57:01.698604",
     "exception": false,
     "start_time": "2023-10-30T11:57:01.698604",
     "status": "completed"
    },
    "tags": []
   },
   "source": [
    "##### Inicio"
   ]
  },
  {
   "cell_type": "markdown",
   "id": "7238d8e1",
   "metadata": {
    "papermill": {
     "duration": 0.015436,
     "end_time": "2023-10-30T11:57:01.714040",
     "exception": false,
     "start_time": "2023-10-30T11:57:01.698604",
     "status": "completed"
    },
    "tags": []
   },
   "source": [
    "#### Carga de datos"
   ]
  },
  {
   "cell_type": "code",
   "execution_count": 1,
   "id": "e6f1039e",
   "metadata": {
    "execution": {
     "iopub.execute_input": "2023-10-30T11:57:01.714040Z",
     "iopub.status.busy": "2023-10-30T11:57:01.714040Z",
     "iopub.status.idle": "2023-10-30T11:57:02.893425Z",
     "shell.execute_reply": "2023-10-30T11:57:02.893425Z"
    },
    "papermill": {
     "duration": 1.179385,
     "end_time": "2023-10-30T11:57:02.893425",
     "exception": false,
     "start_time": "2023-10-30T11:57:01.714040",
     "status": "completed"
    },
    "tags": []
   },
   "outputs": [
    {
     "name": "stdout",
     "output_type": "stream",
     "text": [
      "CPU_COUNT: 24; NODE: amilcar32; sys.version: 3.10.12 | packaged by Anaconda, Inc. | (main, Jul  5 2023, 19:09:20) [MSC v.1916 64 bit (AMD64)]\n",
      "LOKY_MAX_CPU_COUNT is not set.\n",
      "OMP_NUM_THREADS is not set.\n"
     ]
    }
   ],
   "source": [
    "import os\n",
    "import numpy as np\n",
    "import pandas as pd\n",
    "import datetime\n",
    "import sklearn\n",
    "import logging\n",
    "import warnings\n",
    "\n",
    "from sklearn.pipeline import Pipeline\n",
    "from sklearn.model_selection import RandomizedSearchCV, KFold, cross_val_score, train_test_split\n",
    "from sklearn.metrics import accuracy_score, confusion_matrix, classification_report, roc_auc_score\n",
    "\n",
    "#  cargar algoritmos para aprendizaje supervisado\n",
    "from sklearn.feature_selection import SelectKBest, f_classif, SelectFromModel, mutual_info_classif\n",
    "from sklearn.svm import SVC\n",
    "from sklearn.ensemble import RandomForestClassifier\n",
    "from sklearn.linear_model import LogisticRegression,LogisticRegressionCV\n",
    "\n",
    "# importar fichero con utilidades propias\n",
    "from commons import myfunctions as myfunc\n"
   ]
  },
  {
   "cell_type": "markdown",
   "id": "aca80d93",
   "metadata": {
    "papermill": {
     "duration": 0.0,
     "end_time": "2023-10-30T11:57:02.893425",
     "exception": false,
     "start_time": "2023-10-30T11:57:02.893425",
     "status": "completed"
    },
    "tags": []
   },
   "source": [
    "#### Parámetros a utilizar en el entrenamiento.\n",
    "\n",
    "Se indican los 3 algoritmos de *selección de características* (eval_selector_xxx) y los 3 algoritmos para la _clasificación_ (eval_clasifier_xxx)\n",
    "\n",
    "En *param_distributions* se indicar los parámetros que utilizan los algoritmos en la función RandomSearchCV.\n",
    "\n",
    "Esta celda tiene la etiqueta **parameters** que servirá para poder lanzar los entrenamientos con la utilidad **papermill** pasándole un fichero con los parámetros. Los nuevos parámetros se situarán tras esta celda para tener prevalencia."
   ]
  },
  {
   "cell_type": "code",
   "execution_count": 2,
   "id": "56327a0c",
   "metadata": {
    "execution": {
     "iopub.execute_input": "2023-10-30T11:57:02.893425Z",
     "iopub.status.busy": "2023-10-30T11:57:02.893425Z",
     "iopub.status.idle": "2023-10-30T11:57:02.924676Z",
     "shell.execute_reply": "2023-10-30T11:57:02.924676Z"
    },
    "papermill": {
     "duration": 0.031251,
     "end_time": "2023-10-30T11:57:02.924676",
     "exception": false,
     "start_time": "2023-10-30T11:57:02.893425",
     "status": "completed"
    },
    "tags": [
     "parameters"
    ]
   },
   "outputs": [
    {
     "name": "stdout",
     "output_type": "stream",
     "text": [
      "20231030T125702 : amilcar32 : INFO : Utilizando parámetros de mul_m\n"
     ]
    }
   ],
   "source": [
    "#  Parametros para el entrenamiento\n",
    "\n",
    "SEMILLA=        42\n",
    "M_TIPO=         \"mul_m\"\n",
    "M_SELECT=       \"MI\"\n",
    "M_CLASIF=       \"SVM\"\n",
    "R_FICHERO=      \"resultados\"\n",
    "M_FICHERO=      \"metricas\"\n",
    "PRE_DATA_FILE=  \"rows_transpose_norm_by_gene_id_with_target_num_\"\n",
    "SCORING=        \"roc_auc_ovr\" \n",
    "MAX_ITERS=      100\n",
    "\n",
    "def mutual_info_classif_state(X, y):\n",
    "    return mutual_info_classif(X, y, random_state=SEMILLA)\n",
    "\n",
    "eval_selector_mi = \"SelectKBest(score_func=mutual_info_classif_state)\"\n",
    "eval_selector_rf=  \"SelectFromModel(estimator=RandomForestClassifier(random_state=SEMILLA), threshold=-np.inf)\"\n",
    "eval_selector_anova=  \"SelectKBest(score_func=f_classif)\"\n",
    "\n",
    "eval_clasifier_svm= \"SVC(probability=True, random_state=SEMILLA)\"\n",
    "eval_clasifier_rf= \"RandomForestClassifier(random_state=SEMILLA)\"\n",
    "eval_clasifier_lr= \"LogisticRegressionCV(random_state=SEMILLA)\"\n",
    "\n",
    "if M_TIPO.startswith(\"bin_m\"):\n",
    "    myfunc.verbose(f\"Utilizando parámetros de {M_TIPO}\")\n",
    "    eval_selector = eval_selector_mi\n",
    "    eval_clasifier = eval_clasifier_svm\n",
    "\n",
    "    SEMILLA = 6578\n",
    "    M_SELECT = \"MI\"\n",
    "    M_CLASIF = \"SVM\"\n",
    "    param_distributions = {'selector__k': [1000], \n",
    "         'clasifier__kernel': ['rbf'], 'clasifier__gamma': [0.01], 'clasifier__C': [100]}\n",
    "elif M_TIPO.startswith(\"bin_s\"):\n",
    "    myfunc.verbose(f\"Utilizando parámetros de {M_TIPO}\")\n",
    "    eval_selector = eval_selector_rf\n",
    "    eval_clasifier = eval_clasifier_lr\n",
    "\n",
    "    SEMILLA = 6191\n",
    "    M_SELECT = \"RF\"\n",
    "    M_CLASIF = \"LR_L2\"\n",
    "    param_distributions = {'selector__max_features': [1000], 'selector__estimator__n_estimators': [200], \n",
    "        'clasifier__solver': ['lbfgs'], 'clasifier__penalty': ['l2'], 'clasifier__max_iter': [10000]}\n",
    "\n",
    "elif M_TIPO.startswith(\"mul_m\"):\n",
    "    myfunc.verbose(f\"Utilizando parámetros de {M_TIPO}\")\n",
    " \n",
    "    eval_selector = eval_selector_rf\n",
    "    eval_clasifier = eval_clasifier_lr\n",
    "\n",
    "    SEMILLA = 6191\n",
    "    M_SELECT = \"RF\"\n",
    "    M_CLASIF = \"LR_L2\"\n",
    "    param_distributions = {'selector__max_features': [1000], 'selector__estimator__n_estimators': [400], \n",
    "        'clasifier__solver': ['lbfgs'], 'clasifier__penalty': ['l2'], 'clasifier__max_iter': [10000]}\n",
    "\n",
    "else:\n",
    "    # M_TIPO.startswith(\"mul_s\"):\n",
    "    myfunc.verbose(f\"Utilizando parámetros de {M_TIPO}\")\n",
    "    eval_selector = eval_selector_anova\n",
    "    eval_clasifier = eval_clasifier_lr\n",
    "\n",
    "    SEMILLA = 1860\n",
    "    M_SELECT = \"ANOVA\"\n",
    "    M_CLASIF = \"LR_L2\"\n",
    "    param_distributions = {'selector__k': [1000], \n",
    "        'clasifier__solver': ['saga'], 'clasifier__penalty': ['l2'], 'clasifier__max_iter': [10000]}\n",
    "\n"
   ]
  },
  {
   "cell_type": "code",
   "execution_count": 3,
   "id": "6e6fb422",
   "metadata": {
    "execution": {
     "iopub.execute_input": "2023-10-30T11:57:02.924676Z",
     "iopub.status.busy": "2023-10-30T11:57:02.924676Z",
     "iopub.status.idle": "2023-10-30T11:57:02.940303Z",
     "shell.execute_reply": "2023-10-30T11:57:02.940303Z"
    },
    "papermill": {
     "duration": 0.015627,
     "end_time": "2023-10-30T11:57:02.940303",
     "exception": false,
     "start_time": "2023-10-30T11:57:02.924676",
     "status": "completed"
    },
    "tags": [
     "injected-parameters"
    ]
   },
   "outputs": [],
   "source": [
    "# Parameters\n",
    "M_TIPO = \"mul_s\"\n",
    "M_SELECT = \"MI\"\n",
    "M_CLASIF = \"LR_L2\"\n",
    "P_FICHERO = \"param_0000_5426_mul_s_MI_LR_L2.yaml\"\n",
    "R_FICHERO = \"resultados_5426\"\n",
    "M_FICHERO = \"metricas_5426\"\n",
    "PRE_DATA_FILE = \"rows_transpose_norm_by_gene_id_with_target_num_\"\n",
    "SCORING = \"roc_auc_ovr\"\n",
    "SEMILLA = 5426\n",
    "MAX_ITERS = 500\n",
    "eval_selector = \"SelectKBest(score_func=mutual_info_classif_state)\"\n",
    "eval_clasifier = \"LogisticRegressionCV(random_state=SEMILLA)\"\n",
    "param_distributions = {\n",
    "    \"selector__k\": [500],\n",
    "    \"clasifier__solver\": [\"saga\"],\n",
    "    \"clasifier__penalty\": [\"l2\"],\n",
    "    \"clasifier__max_iter\": [10000],\n",
    "}\n"
   ]
  },
  {
   "cell_type": "code",
   "execution_count": 4,
   "id": "abdd3bc3",
   "metadata": {
    "execution": {
     "iopub.execute_input": "2023-10-30T11:57:02.940303Z",
     "iopub.status.busy": "2023-10-30T11:57:02.940303Z",
     "iopub.status.idle": "2023-10-30T11:57:02.955995Z",
     "shell.execute_reply": "2023-10-30T11:57:02.955995Z"
    },
    "papermill": {
     "duration": 0.017785,
     "end_time": "2023-10-30T11:57:02.958088",
     "exception": false,
     "start_time": "2023-10-30T11:57:02.940303",
     "status": "completed"
    },
    "tags": []
   },
   "outputs": [],
   "source": [
    "DATA_FILE = PRE_DATA_FILE + M_TIPO\n",
    "\n",
    "# si viene \"None\" en el parámetro max_depth, se le quitan las comillas para que no sea entendido por el algoritmo como un texto\n",
    "if \"clasifier__max_depth\" in param_distributions:\n",
    "    param_distributions['clasifier__max_depth'] = [None if x == 'None' else x for x in param_distributions['clasifier__max_depth']]"
   ]
  },
  {
   "cell_type": "markdown",
   "id": "66c7904d",
   "metadata": {
    "papermill": {
     "duration": 0.0,
     "end_time": "2023-10-30T11:57:02.960990",
     "exception": false,
     "start_time": "2023-10-30T11:57:02.960990",
     "status": "completed"
    },
    "tags": []
   },
   "source": [
    "Asignar los algoritmos que se utilizarán en la función RandomSearchCV"
   ]
  },
  {
   "cell_type": "code",
   "execution_count": 5,
   "id": "422cccd6",
   "metadata": {
    "execution": {
     "iopub.execute_input": "2023-10-30T11:57:02.972124Z",
     "iopub.status.busy": "2023-10-30T11:57:02.972124Z",
     "iopub.status.idle": "2023-10-30T11:57:02.987833Z",
     "shell.execute_reply": "2023-10-30T11:57:02.987833Z"
    },
    "papermill": {
     "duration": 0.015709,
     "end_time": "2023-10-30T11:57:02.987833",
     "exception": false,
     "start_time": "2023-10-30T11:57:02.972124",
     "status": "completed"
    },
    "tags": []
   },
   "outputs": [],
   "source": [
    "algor_selector=eval(eval_selector)\n",
    "algor_clasifier=eval(eval_clasifier)"
   ]
  },
  {
   "cell_type": "markdown",
   "id": "59661a1e",
   "metadata": {
    "papermill": {
     "duration": 0.0,
     "end_time": "2023-10-30T11:57:02.987833",
     "exception": false,
     "start_time": "2023-10-30T11:57:02.987833",
     "status": "completed"
    },
    "tags": []
   },
   "source": [
    "#### Comprobar el entorno y leer fichero de muestras"
   ]
  },
  {
   "cell_type": "code",
   "execution_count": 6,
   "id": "897448b9",
   "metadata": {
    "execution": {
     "iopub.execute_input": "2023-10-30T11:57:02.987833Z",
     "iopub.status.busy": "2023-10-30T11:57:02.987833Z",
     "iopub.status.idle": "2023-10-30T11:57:03.129705Z",
     "shell.execute_reply": "2023-10-30T11:57:03.129705Z"
    },
    "papermill": {
     "duration": 0.141872,
     "end_time": "2023-10-30T11:57:03.129705",
     "exception": false,
     "start_time": "2023-10-30T11:57:02.987833",
     "status": "completed"
    },
    "tags": []
   },
   "outputs": [
    {
     "name": "stdout",
     "output_type": "stream",
     "text": [
      "20231030T125703 : amilcar32 : INFO : Encontrada carpeta DATA_DIR=..\\tfm_viu\\datos\n",
      "20231030T125703 : amilcar32 : INFO : Encontrada carpeta CFDNA_DIR=..\\tfm_viu\\datos\\cfDNA_5hmC\n",
      "20231030T125703 : amilcar32 : INFO : Encontrada carpeta GENCODE_DIR=..\\tfm_viu\\datos\\gencode\n",
      "20231030T125703 : amilcar32 : INFO : Encontrada carpeta H5_DIR=..\\tfm_viu\\datos\\h5\n",
      "20231030T125703 : amilcar32 : INFO : Encontrada carpeta LOG_DIR=..\\tfm_viu\\datos\\logs\n",
      "20231030T125703 : amilcar32 : INFO : Encontrada carpeta CSV_DIR=..\\tfm_viu\\datos\\csv\n",
      "20231030T125703 : amilcar32 : INFO : Encontrada carpeta MODEL_DIR=..\\tfm_viu\\ejecuciones\\modelos\n",
      "20231030T125703 : amilcar32 : INFO : Encontrada carpeta EXEC_DIR=..\\tfm_viu\\ejecuciones\n",
      "20231030T125703 : amilcar32 : INFO : Encontrada carpeta MET_DIR=..\\tfm_viu\\ejecuciones\\metricas\n",
      "20231030T125703 : amilcar32 : INFO : Inicio leer fichero h5 ..\\tfm_viu\\datos\\h5\\rows_transpose_norm_by_gene_id_with_target_num_mul_s.h5\n",
      "20231030T125703 : amilcar32 : INFO : Leyendo clave /df\n"
     ]
    },
    {
     "name": "stdout",
     "output_type": "stream",
     "text": [
      "20231030T125703 : amilcar32 : INFO : Tamaño (259, 18876)\n",
      "20231030T125703 : amilcar32 : INFO : Fin leer fichero h5 ..\\tfm_viu\\datos\\h5\\rows_transpose_norm_by_gene_id_with_target_num_mul_s.h5\n"
     ]
    },
    {
     "data": {
      "text/plain": [
       "target\n",
       "0    37\n",
       "1    37\n",
       "2    37\n",
       "3    37\n",
       "4    37\n",
       "5    37\n",
       "6    37\n",
       "dtype: int64"
      ]
     },
     "metadata": {},
     "output_type": "display_data"
    },
    {
     "name": "stdout",
     "output_type": "stream",
     "text": [
      "Shape df: (259, 18876)\n",
      "Shape X_train: (207, 18875)\n",
      "Shape X_test: (52, 18875)\n"
     ]
    }
   ],
   "source": [
    "start_time = datetime.datetime.now()\n",
    "\n",
    "myfunc.reset_vars()\n",
    "\n",
    "myfunc.NOTEBK_FILENAME = myfunc.get_nb_name()\n",
    "\n",
    "myfunc.check_enviroment(myfunc.DATA_DIR, myfunc.CFDNA_DIR, myfunc.GENCODE_DIR, myfunc.H5_DIR, myfunc.LOG_DIR, myfunc.CSV_DIR, myfunc.MODEL_DIR, myfunc.EXEC_DIR, myfunc.MET_DIR)\n",
    "\n",
    "# Leer fichero con las muestras\n",
    "df_t = myfunc.read_h5_to_df(DATA_FILE, myfunc.H5_DIR)\n",
    "display(df_t.groupby(\"target\").size())\n",
    "print(\"Shape df:\",df_t.shape)\n",
    "\n",
    "# Separar caracteristicas/genes de las etiquetas/tipos de cáncer\n",
    "X = df_t.iloc[:, :-1]  # Todas las columnas excepto la última\n",
    "y = df_t.iloc[:, -1]  # La última columna contiene los identificadores de los tipos de cáncer\n",
    "\n",
    "#  Crear el conjunto de datos de entrenamiento y de pruebas, y se fija la semilla para siempre coger el mismo juego de muestras\n",
    "X_train, X_test, y_train, y_test = train_test_split(X, y, test_size=0.2, shuffle=True, random_state=42)\n",
    "print(\"Shape X_train:\",X_train.shape)\n",
    "print(\"Shape X_test:\",X_test.shape)\n"
   ]
  },
  {
   "cell_type": "markdown",
   "id": "8490890e",
   "metadata": {
    "papermill": {
     "duration": 0.0,
     "end_time": "2023-10-30T11:57:03.129705",
     "exception": false,
     "start_time": "2023-10-30T11:57:03.129705",
     "status": "completed"
    },
    "tags": []
   },
   "source": [
    "#### Selección de características y clasificación."
   ]
  },
  {
   "cell_type": "code",
   "execution_count": 7,
   "id": "5f516743",
   "metadata": {
    "execution": {
     "iopub.execute_input": "2023-10-30T11:57:03.145282Z",
     "iopub.status.busy": "2023-10-30T11:57:03.145282Z",
     "iopub.status.idle": "2023-10-30T12:07:11.174537Z",
     "shell.execute_reply": "2023-10-30T12:07:11.174537Z"
    },
    "papermill": {
     "duration": 608.044832,
     "end_time": "2023-10-30T12:07:11.174537",
     "exception": false,
     "start_time": "2023-10-30T11:57:03.129705",
     "status": "completed"
    },
    "tags": []
   },
   "outputs": [
    {
     "name": "stdout",
     "output_type": "stream",
     "text": [
      "20231030T125703 : amilcar32 : INFO : Iniciando entrenamiento\n",
      "num_iter: 1 , max_iter: 1\n",
      "Fitting 5 folds for each of 1 candidates, totalling 5 fits\n"
     ]
    },
    {
     "name": "stdout",
     "output_type": "stream",
     "text": [
      "Mejores Hiperparámetros: {'selector__k': 500, 'clasifier__solver': 'saga', 'clasifier__penalty': 'l2', 'clasifier__max_iter': 10000}\n",
      "Mejor Puntuación: 0.7942\n",
      "20231030T130711 : amilcar32 : INFO : Fin entrenamiento\n"
     ]
    }
   ],
   "source": [
    "myfunc.verbose(\"Iniciando entrenamiento\")\n",
    "\n",
    "kf = KFold(n_splits=5, shuffle=True, random_state=SEMILLA)\n",
    "\n",
    "# Crear el pipeline para el flujo de tareas\n",
    "tasks_pipeline = Pipeline([\n",
    "    ('selector', algor_selector),\n",
    "    ('clasifier', algor_clasifier)\n",
    "])\n",
    "\n",
    "# MAX_ITERS puede limitar el número de iteraciones si son excesivas para las combinaciones de parámetros buscando un óptimo local, \n",
    "# sino funcionaría como GridSearchCV al revisar todas las cominaciones de los parámetros\n",
    "num_iteraciones = 1\n",
    "num_iteraciones = num_iteraciones * np.prod([len(elemento1) for _, elemento1 in param_distributions.items()])\n",
    "max_iteraciones = num_iteraciones if num_iteraciones <= MAX_ITERS else MAX_ITERS\n",
    "print(\"num_iter:\",num_iteraciones,\", max_iter:\",max_iteraciones)\n",
    "\n",
    "random_search = RandomizedSearchCV(\n",
    "    tasks_pipeline, \n",
    "    param_distributions, \n",
    "    n_iter=max_iteraciones,\n",
    "    scoring=SCORING,\n",
    "    cv=kf,\n",
    "    verbose=3, \n",
    "    random_state=SEMILLA, \n",
    "    n_jobs=-1\n",
    "    )\n",
    "\n",
    "# Entrenar el modelo\n",
    "random_search.fit(X_train, y_train)\n",
    "\n",
    "# Ver los mejores hiperparámetros encontrados\n",
    "print(f'Mejores Hiperparámetros: {random_search.best_params_}')\n",
    "print(f'Mejor Puntuación: {random_search.best_score_:.4f}')\n",
    "\n",
    "# Nos quedamos con el mejor modelo para ver las métricas\n",
    "mejor_modelo = random_search.best_estimator_\n",
    "\n",
    "myfunc.verbose(\"Fin entrenamiento\")"
   ]
  },
  {
   "cell_type": "markdown",
   "id": "b44ff1ec",
   "metadata": {
    "papermill": {
     "duration": 0.015736,
     "end_time": "2023-10-30T12:07:11.200860",
     "exception": false,
     "start_time": "2023-10-30T12:07:11.185124",
     "status": "completed"
    },
    "tags": []
   },
   "source": [
    "#### Guardar modelo"
   ]
  },
  {
   "cell_type": "code",
   "execution_count": 8,
   "id": "58545a22",
   "metadata": {
    "execution": {
     "iopub.execute_input": "2023-10-30T12:07:11.216460Z",
     "iopub.status.busy": "2023-10-30T12:07:11.216460Z",
     "iopub.status.idle": "2023-10-30T12:07:11.247720Z",
     "shell.execute_reply": "2023-10-30T12:07:11.247720Z"
    },
    "papermill": {
     "duration": 0.03126,
     "end_time": "2023-10-30T12:07:11.247720",
     "exception": false,
     "start_time": "2023-10-30T12:07:11.216460",
     "status": "completed"
    },
    "tags": []
   },
   "outputs": [
    {
     "name": "stdout",
     "output_type": "stream",
     "text": [
      "20231030T130711 : amilcar32 : INFO : Inicio guardar fichero ..\\tfm_viu\\ejecuciones\\modelos\\modelo_5426_mul_s_MI_LR_L2.pkl\n",
      "20231030T130711 : amilcar32 : INFO : Fin guardar fichero ..\\tfm_viu\\ejecuciones\\modelos\\modelo_5426_mul_s_MI_LR_L2.pkl\n"
     ]
    }
   ],
   "source": [
    "fichero_modelo = str.replace(\"modelo_\"+str(SEMILLA).zfill(4)+\"_\"+M_TIPO+\"_\"+M_SELECT+\"_\"+M_CLASIF+\".pkl\", \" \", \"_\")\n",
    "\n",
    "myfunc.save_modelo(mejor_modelo, myfunc.MODEL_DIR, fichero_modelo)"
   ]
  },
  {
   "cell_type": "markdown",
   "id": "235cc56a",
   "metadata": {
    "papermill": {
     "duration": 0.014667,
     "end_time": "2023-10-30T12:07:11.279407",
     "exception": false,
     "start_time": "2023-10-30T12:07:11.264740",
     "status": "completed"
    },
    "tags": []
   },
   "source": [
    "#### Ver resultados del las iteraciones hechas por RandomSearchCV"
   ]
  },
  {
   "cell_type": "code",
   "execution_count": 9,
   "id": "f04c2529",
   "metadata": {
    "execution": {
     "iopub.execute_input": "2023-10-30T12:07:11.295128Z",
     "iopub.status.busy": "2023-10-30T12:07:11.295128Z",
     "iopub.status.idle": "2023-10-30T12:07:11.326469Z",
     "shell.execute_reply": "2023-10-30T12:07:11.326469Z"
    },
    "papermill": {
     "duration": 0.047062,
     "end_time": "2023-10-30T12:07:11.326469",
     "exception": false,
     "start_time": "2023-10-30T12:07:11.279407",
     "status": "completed"
    },
    "tags": []
   },
   "outputs": [
    {
     "name": "stdout",
     "output_type": "stream",
     "text": [
      "20231030T130711 : amilcar32 : INFO : Inicio ver resultados\n",
      "Mejores Hiperparámetros: {'selector__k': 500, 'clasifier__solver': 'saga', 'clasifier__penalty': 'l2', 'clasifier__max_iter': 10000}\n",
      "Mejores puntuaciones: 0.7942 | Params: {'selector__k': 500, 'clasifier__solver': 'saga', 'clasifier__penalty': 'l2', 'clasifier__max_iter': 10000}\n",
      "Media de las puntuaciones: 0.7942 | Params: {'selector__k': 500, 'clasifier__solver': 'saga', 'clasifier__penalty': 'l2', 'clasifier__max_iter': 10000}\n",
      "20231030T130711 : amilcar32 : INFO : Fin resultados\n"
     ]
    }
   ],
   "source": [
    "myfunc.ver_resultados_search(random_search)"
   ]
  },
  {
   "cell_type": "markdown",
   "id": "676bf724",
   "metadata": {
    "papermill": {
     "duration": 0.0,
     "end_time": "2023-10-30T12:07:11.341997",
     "exception": false,
     "start_time": "2023-10-30T12:07:11.341997",
     "status": "completed"
    },
    "tags": []
   },
   "source": [
    "#### Ver métricas del mejor modelo"
   ]
  },
  {
   "cell_type": "code",
   "execution_count": 10,
   "id": "611d9df0",
   "metadata": {
    "execution": {
     "iopub.execute_input": "2023-10-30T12:07:11.357636Z",
     "iopub.status.busy": "2023-10-30T12:07:11.357636Z",
     "iopub.status.idle": "2023-10-30T12:07:12.712821Z",
     "shell.execute_reply": "2023-10-30T12:07:12.712821Z"
    },
    "papermill": {
     "duration": 1.355185,
     "end_time": "2023-10-30T12:07:12.712821",
     "exception": false,
     "start_time": "2023-10-30T12:07:11.357636",
     "status": "completed"
    },
    "tags": []
   },
   "outputs": [
    {
     "name": "stdout",
     "output_type": "stream",
     "text": [
      "20231030T130711 : amilcar32 : INFO : Inicio ver métricas multiclase\n"
     ]
    },
    {
     "name": "stdout",
     "output_type": "stream",
     "text": [
      "              precision    recall  f1-score   support\n",
      "\n",
      "           0       0.38      0.27      0.32        11\n",
      "           1       1.00      0.50      0.67         8\n",
      "           2       0.20      0.12      0.15         8\n",
      "           3       0.38      0.60      0.46         5\n",
      "           4       0.62      1.00      0.76         8\n",
      "           5       0.75      0.50      0.60         6\n",
      "           6       0.40      0.67      0.50         6\n",
      "\n",
      "    accuracy                           0.50        52\n",
      "   macro avg       0.53      0.52      0.49        52\n",
      "weighted avg       0.53      0.50      0.48        52\n",
      "\n",
      "\n",
      "\n",
      "           Exactitud: 0.500000\n",
      "   Precisión (media): 0.530769\n",
      "      Recall (media): 0.523485\n",
      "    F1-score (media): 0.494249\n",
      "\n",
      "\n",
      "AUC para el tipo de cáncer 0-Control.... 0.5188\n",
      "AUC para el tipo de cáncer 1-Bladder.... 0.8807\n",
      "AUC para el tipo de cáncer 2-Breast..... 0.7102\n",
      "AUC para el tipo de cáncer 3-Colorectal. 0.7532\n",
      "AUC para el tipo de cáncer 4-Kidney..... 0.9233\n",
      "AUC para el tipo de cáncer 5-Lung....... 0.8804\n",
      "AUC para el tipo de cáncer 6-Prostate... 0.8478\n",
      "\n",
      "Media de AUC: 0.7878\n"
     ]
    },
    {
     "data": {
      "image/png": "[encoded data removed]",
      "text/plain": [
       "<Figure size 1000x600 with 1 Axes>"
      ]
     },
     "metadata": {},
     "output_type": "display_data"
    },
    {
     "name": "stdout",
     "output_type": "stream",
     "text": [
      "\n",
      "\n"
     ]
    },
    {
     "data": {
      "image/png": "[encoded data removed]",
      "text/plain": [
       "<Figure size 800x400 with 2 Axes>"
      ]
     },
     "metadata": {},
     "output_type": "display_data"
    },
    {
     "name": "stdout",
     "output_type": "stream",
     "text": [
      "\n",
      "\n",
      "Puntuación Jaccard para el cáncer tipo 0-Control.... 0.1875\n",
      "Puntuación Jaccard para el cáncer tipo 1-Bladder.... 0.5000\n",
      "Puntuación Jaccard para el cáncer tipo 2-Breast..... 0.0833\n",
      "Puntuación Jaccard para el cáncer tipo 3-Colorectal. 0.3000\n",
      "Puntuación Jaccard para el cáncer tipo 4-Kidney..... 0.6154\n",
      "Puntuación Jaccard para el cáncer tipo 5-Lung....... 0.4286\n",
      "Puntuación Jaccard para el cáncer tipo 6-Prostate... 0.3333\n",
      "\n",
      "Media de la puntuación de Jaccard: 0.3497\n"
     ]
    }
   ],
   "source": [
    "if M_TIPO.startswith(\"bin\"):\n",
    "    myfunc.ver_metricas(mejor_modelo, X_test, y_test)\n",
    "else:\n",
    "    myfunc.ver_metricas_multi(mejor_modelo, X_test, y_test)\n"
   ]
  },
  {
   "cell_type": "markdown",
   "id": "d33f74b9",
   "metadata": {
    "papermill": {
     "duration": 0.015648,
     "end_time": "2023-10-30T12:07:12.744152",
     "exception": false,
     "start_time": "2023-10-30T12:07:12.728504",
     "status": "completed"
    },
    "tags": []
   },
   "source": [
    "#### Finalización del notebook"
   ]
  },
  {
   "cell_type": "code",
   "execution_count": 11,
   "id": "44edf981",
   "metadata": {
    "execution": {
     "iopub.execute_input": "2023-10-30T12:07:12.759790Z",
     "iopub.status.busy": "2023-10-30T12:07:12.759790Z",
     "iopub.status.idle": "2023-10-30T12:07:12.775514Z",
     "shell.execute_reply": "2023-10-30T12:07:12.775514Z"
    },
    "papermill": {
     "duration": 0.03287,
     "end_time": "2023-10-30T12:07:12.777022",
     "exception": false,
     "start_time": "2023-10-30T12:07:12.744152",
     "status": "completed"
    },
    "tags": []
   },
   "outputs": [
    {
     "name": "stdout",
     "output_type": "stream",
     "text": [
      "20231030T130712 : amilcar32 : INFO : Notebook ha tardado 609 seconds\n"
     ]
    }
   ],
   "source": [
    "end_time = datetime.datetime.now()\n",
    "total_time = end_time - start_time\n",
    "myfunc.verbose(f\"Notebook ha tardado {total_time.seconds} seconds\")"
   ]
  },
  {
   "cell_type": "markdown",
   "id": "b01505f1",
   "metadata": {
    "papermill": {
     "duration": 0.0,
     "end_time": "2023-10-30T12:07:12.777022",
     "exception": false,
     "start_time": "2023-10-30T12:07:12.777022",
     "status": "completed"
    },
    "tags": []
   },
   "source": [
    "#### Guardar métricas"
   ]
  },
  {
   "cell_type": "code",
   "execution_count": 12,
   "id": "4c052eb3",
   "metadata": {
    "execution": {
     "iopub.execute_input": "2023-10-30T12:07:12.791526Z",
     "iopub.status.busy": "2023-10-30T12:07:12.791526Z",
     "iopub.status.idle": "2023-10-30T12:07:13.280782Z",
     "shell.execute_reply": "2023-10-30T12:07:13.280782Z"
    },
    "papermill": {
     "duration": 0.489256,
     "end_time": "2023-10-30T12:07:13.280782",
     "exception": false,
     "start_time": "2023-10-30T12:07:12.791526",
     "status": "completed"
    },
    "tags": []
   },
   "outputs": [
    {
     "name": "stdout",
     "output_type": "stream",
     "text": [
      "20231030T130712 : amilcar32 : INFO : Inicio guardar métricas multiclase\n",
      "20231030T130712 : amilcar32 : INFO : Inicio leer fichero ..\\tfm_viu\\ejecuciones\\metricas\\metricas_5426.csv\n",
      "20231030T130712 : amilcar32 : INFO : Fin leer fichero ..\\tfm_viu\\ejecuciones\\metricas\\metricas_5426.csv\n"
     ]
    },
    {
     "name": "stdout",
     "output_type": "stream",
     "text": [
      "20231030T130713 : amilcar32 : INFO : Inicio guardar fichero ..\\tfm_viu\\ejecuciones\\metricas\\metricas_5426.csv\n",
      "20231030T130713 : amilcar32 : INFO : Fichero borrado ..\\tfm_viu\\ejecuciones\\metricas\\metricas_5426.csv\n",
      "20231030T130713 : amilcar32 : INFO : Fin guardar fichero ..\\tfm_viu\\ejecuciones\\metricas\\metricas_5426.csv\n",
      "20231030T130713 : amilcar32 : INFO : Fin guardar métricas multiclase\n",
      "20231030T130713 : amilcar32 : INFO : Inicio leer fichero ..\\tfm_viu\\ejecuciones\\metricas\\metricas_5426.csv\n",
      "20231030T130713 : amilcar32 : INFO : Fin leer fichero ..\\tfm_viu\\ejecuciones\\metricas\\metricas_5426.csv\n"
     ]
    },
    {
     "data": {
      "text/html": [
       "<div>\n",
       "<style scoped>\n",
       "    .dataframe tbody tr th:only-of-type {\n",
       "        vertical-align: middle;\n",
       "    }\n",
       "\n",
       "    .dataframe tbody tr th {\n",
       "        vertical-align: top;\n",
       "    }\n",
       "\n",
       "    .dataframe thead th {\n",
       "        text-align: right;\n",
       "    }\n",
       "</style>\n",
       "<table border=\"1\" class=\"dataframe\">\n",
       "  <thead>\n",
       "    <tr style=\"text-align: right;\">\n",
       "      <th></th>\n",
       "      <th>tipo</th>\n",
       "      <th>select</th>\n",
       "      <th>clasific</th>\n",
       "      <th>semilla</th>\n",
       "      <th>accuracy</th>\n",
       "      <th>precision</th>\n",
       "      <th>recall</th>\n",
       "      <th>f1_score</th>\n",
       "      <th>roc_auc</th>\n",
       "      <th>hostname</th>\n",
       "      <th>total_time_sec</th>\n",
       "      <th>datetime</th>\n",
       "      <th>fichero_modelo</th>\n",
       "      <th>params</th>\n",
       "      <th>shape</th>\n",
       "      <th>features</th>\n",
       "      <th>roc_auc_ovr</th>\n",
       "      <th>indices_auc</th>\n",
       "      <th>indices_jaccard</th>\n",
       "    </tr>\n",
       "  </thead>\n",
       "  <tbody>\n",
       "    <tr>\n",
       "      <th>0</th>\n",
       "      <td>mul_s</td>\n",
       "      <td>MI</td>\n",
       "      <td>LR_L2</td>\n",
       "      <td>5426</td>\n",
       "      <td>0.500000</td>\n",
       "      <td>0.530769</td>\n",
       "      <td>0.523485</td>\n",
       "      <td>0.494249</td>\n",
       "      <td>NaN</td>\n",
       "      <td>amilcar32</td>\n",
       "      <td>609</td>\n",
       "      <td>2023-10-30 13:07:13.178259</td>\n",
       "      <td>modelo_5426_mul_s_MI_LR_L2.pkl</td>\n",
       "      <td>{'selector__k': 500, 'clasifier__solver': 'sag...</td>\n",
       "      <td>X_test:(52, 18875)</td>\n",
       "      <td>['ENSG00000005513.10', 'ENSG00000006025.13', '...</td>\n",
       "      <td>0.787786</td>\n",
       "      <td>[0.5188470066518848, 0.8806818181818181, 0.710...</td>\n",
       "      <td>[0.1875, 0.5, 0.08333333333333333, 0.3, 0.6153...</td>\n",
       "    </tr>\n",
       "    <tr>\n",
       "      <th>0</th>\n",
       "      <td>mul_s</td>\n",
       "      <td>MI</td>\n",
       "      <td>LR_L1</td>\n",
       "      <td>5426</td>\n",
       "      <td>0.423077</td>\n",
       "      <td>0.466017</td>\n",
       "      <td>0.435390</td>\n",
       "      <td>0.424350</td>\n",
       "      <td>NaN</td>\n",
       "      <td>amilcar32</td>\n",
       "      <td>1010</td>\n",
       "      <td>2023-10-30 12:56:57.988547</td>\n",
       "      <td>modelo_5426_mul_s_MI_LR_L1.pkl</td>\n",
       "      <td>{'selector__k': 500, 'clasifier__solver': 'sag...</td>\n",
       "      <td>X_test:(52, 18875)</td>\n",
       "      <td>['ENSG00000005513.10', 'ENSG00000006025.13', '...</td>\n",
       "      <td>0.800906</td>\n",
       "      <td>[0.5299334811529934, 0.8778409090909091, 0.781...</td>\n",
       "      <td>[0.17647058823529413, 0.4444444444444444, 0.1,...</td>\n",
       "    </tr>\n",
       "    <tr>\n",
       "      <th>0</th>\n",
       "      <td>mul_s</td>\n",
       "      <td>MI</td>\n",
       "      <td>LR_EN</td>\n",
       "      <td>5426</td>\n",
       "      <td>0.480769</td>\n",
       "      <td>0.533163</td>\n",
       "      <td>0.474459</td>\n",
       "      <td>0.473833</td>\n",
       "      <td>NaN</td>\n",
       "      <td>amilcar32</td>\n",
       "      <td>1630</td>\n",
       "      <td>2023-10-30 12:40:01.898203</td>\n",
       "      <td>modelo_5426_mul_s_MI_LR_EN.pkl</td>\n",
       "      <td>{'selector__k': 1000, 'clasifier__solver': 'sa...</td>\n",
       "      <td>X_test:(52, 18875)</td>\n",
       "      <td>['ENSG00000003137.9', 'ENSG00000004864.14', 'E...</td>\n",
       "      <td>0.840298</td>\n",
       "      <td>[0.7450110864745012, 0.9346590909090908, 0.701...</td>\n",
       "      <td>[0.38461538461538464, 0.5, 0.07142857142857142...</td>\n",
       "    </tr>\n",
       "  </tbody>\n",
       "</table>\n",
       "</div>"
      ],
      "text/plain": [
       "    tipo select clasific  semilla  accuracy  precision    recall  f1_score  \\\n",
       "0  mul_s     MI    LR_L2     5426  0.500000   0.530769  0.523485  0.494249   \n",
       "0  mul_s     MI    LR_L1     5426  0.423077   0.466017  0.435390  0.424350   \n",
       "0  mul_s     MI    LR_EN     5426  0.480769   0.533163  0.474459  0.473833   \n",
       "\n",
       "   roc_auc   hostname  total_time_sec                    datetime  \\\n",
       "0      NaN  amilcar32             609  2023-10-30 13:07:13.178259   \n",
       "0      NaN  amilcar32            1010  2023-10-30 12:56:57.988547   \n",
       "0      NaN  amilcar32            1630  2023-10-30 12:40:01.898203   \n",
       "\n",
       "                   fichero_modelo  \\\n",
       "0  modelo_5426_mul_s_MI_LR_L2.pkl   \n",
       "0  modelo_5426_mul_s_MI_LR_L1.pkl   \n",
       "0  modelo_5426_mul_s_MI_LR_EN.pkl   \n",
       "\n",
       "                                              params               shape  \\\n",
       "0  {'selector__k': 500, 'clasifier__solver': 'sag...  X_test:(52, 18875)   \n",
       "0  {'selector__k': 500, 'clasifier__solver': 'sag...  X_test:(52, 18875)   \n",
       "0  {'selector__k': 1000, 'clasifier__solver': 'sa...  X_test:(52, 18875)   \n",
       "\n",
       "                                            features  roc_auc_ovr  \\\n",
       "0  ['ENSG00000005513.10', 'ENSG00000006025.13', '...     0.787786   \n",
       "0  ['ENSG00000005513.10', 'ENSG00000006025.13', '...     0.800906   \n",
       "0  ['ENSG00000003137.9', 'ENSG00000004864.14', 'E...     0.840298   \n",
       "\n",
       "                                         indices_auc  \\\n",
       "0  [0.5188470066518848, 0.8806818181818181, 0.710...   \n",
       "0  [0.5299334811529934, 0.8778409090909091, 0.781...   \n",
       "0  [0.7450110864745012, 0.9346590909090908, 0.701...   \n",
       "\n",
       "                                     indices_jaccard  \n",
       "0  [0.1875, 0.5, 0.08333333333333333, 0.3, 0.6153...  \n",
       "0  [0.17647058823529413, 0.4444444444444444, 0.1,...  \n",
       "0  [0.38461538461538464, 0.5, 0.07142857142857142...  "
      ]
     },
     "metadata": {},
     "output_type": "display_data"
    }
   ],
   "source": [
    "if M_TIPO.startswith(\"bin\"):\n",
    "    myfunc.save_metricas_to_csv(random_search, X_test, y_test, M_TIPO, M_SELECT, M_CLASIF, total_time, SEMILLA, myfunc.MET_DIR, M_FICHERO, fichero_modelo)\n",
    "else:\n",
    "    myfunc.save_metricas_multi_to_csv(random_search, X_test, y_test, M_TIPO, M_SELECT, M_CLASIF, total_time, SEMILLA, myfunc.MET_DIR, M_FICHERO, fichero_modelo)\n",
    "\n",
    "df1=myfunc.read_metricas_to_df(myfunc.MET_DIR,M_FICHERO)\n",
    "\n",
    "display(df1.sort_values(\"datetime\", ascending=False)[:3])\n"
   ]
  },
  {
   "cell_type": "markdown",
   "id": "405f58a2",
   "metadata": {
    "papermill": {
     "duration": 0.015626,
     "end_time": "2023-10-30T12:07:13.312121",
     "exception": false,
     "start_time": "2023-10-30T12:07:13.296495",
     "status": "completed"
    },
    "tags": []
   },
   "source": [
    "#### Guardar resultados"
   ]
  },
  {
   "cell_type": "code",
   "execution_count": 13,
   "id": "c5146c37",
   "metadata": {
    "execution": {
     "iopub.execute_input": "2023-10-30T12:07:13.343367Z",
     "iopub.status.busy": "2023-10-30T12:07:13.343367Z",
     "iopub.status.idle": "2023-10-30T12:07:13.375915Z",
     "shell.execute_reply": "2023-10-30T12:07:13.374800Z"
    },
    "papermill": {
     "duration": 0.051251,
     "end_time": "2023-10-30T12:07:13.379003",
     "exception": false,
     "start_time": "2023-10-30T12:07:13.327752",
     "status": "completed"
    },
    "tags": []
   },
   "outputs": [
    {
     "name": "stdout",
     "output_type": "stream",
     "text": [
      "20231030T130713 : amilcar32 : INFO : Inicio guardar resultados\n",
      "20231030T130713 : amilcar32 : INFO : Inicio guardar fichero ..\\tfm_viu\\ejecuciones\\metricas\\resultados_5426_mul_s-MI-LR_L2.csv\n",
      "20231030T130713 : amilcar32 : INFO : Fin guardar fichero ..\\tfm_viu\\ejecuciones\\metricas\\resultados_5426_mul_s-MI-LR_L2.csv\n",
      "20231030T130713 : amilcar32 : INFO : Fin guardar resultados\n"
     ]
    }
   ],
   "source": [
    "fichero_resultados=R_FICHERO+\"_\"+M_TIPO+\"-\"+M_SELECT+\"-\"+M_CLASIF+\".csv\"\n",
    "myfunc.save_resultados_to_csv(M_TIPO, M_SELECT, M_CLASIF,  random_search, myfunc.MET_DIR, fichero_resultados)\n"
   ]
  }
 ],
 "metadata": {
  "kernelspec": {
   "display_name": "Python 3 (ipykernel)",
   "language": "python",
   "name": "python3"
  },
  "language_info": {
   "codemirror_mode": {
    "name": "ipython",
    "version": 3
   },
   "file_extension": ".py",
   "mimetype": "text/x-python",
   "name": "python",
   "nbconvert_exporter": "python",
   "pygments_lexer": "ipython3",
   "version": "3.10.12"
  },
  "papermill": {
   "default_parameters": {},
   "duration": 614.323007,
   "end_time": "2023-10-30T12:07:14.198407",
   "environment_variables": {},
   "exception": null,
   "input_path": "03_entrenamiento.ipynb",
   "output_path": "ejecuciones\\training\\03_entrenamiento.20231030T125659.param_0000_5426_mul_s_MI_LR_L2.output.ipynb",
   "parameters": {
    "MAX_ITERS": 500,
    "M_CLASIF": "LR_L2",
    "M_FICHERO": "metricas_5426",
    "M_SELECT": "MI",
    "M_TIPO": "mul_s",
    "PRE_DATA_FILE": "rows_transpose_norm_by_gene_id_with_target_num_",
    "P_FICHERO": "param_0000_5426_mul_s_MI_LR_L2.yaml",
    "R_FICHERO": "resultados_5426",
    "SCORING": "roc_auc_ovr",
    "SEMILLA": 5426,
    "eval_clasifier": "LogisticRegressionCV(random_state=SEMILLA)",
    "eval_selector": "SelectKBest(score_func=mutual_info_classif_state)",
    "param_distributions": {
     "clasifier__max_iter": [
      10000
     ],
     "clasifier__penalty": [
      "l2"
     ],
     "clasifier__solver": [
      "saga"
     ],
     "selector__k": [
      500
     ]
    }
   },
   "start_time": "2023-10-30T11:56:59.875400",
   "version": "2.4.0"
  }
 },
 "nbformat": 4,
 "nbformat_minor": 5
}