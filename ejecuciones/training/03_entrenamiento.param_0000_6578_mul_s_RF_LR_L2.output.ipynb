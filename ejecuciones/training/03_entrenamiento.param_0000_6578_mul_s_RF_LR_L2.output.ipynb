{
 "cells": [
  {
   "cell_type": "markdown",
   "id": "fd165acc",
   "metadata": {
    "papermill": {
     "duration": 0.007031,
     "end_time": "2023-10-30T19:12:38.305779",
     "exception": false,
     "start_time": "2023-10-30T19:12:38.298748",
     "status": "completed"
    },
    "tags": []
   },
   "source": [
    "##### Inicio"
   ]
  },
  {
   "cell_type": "markdown",
   "id": "d660b167",
   "metadata": {
    "papermill": {
     "duration": 0.003002,
     "end_time": "2023-10-30T19:12:38.313331",
     "exception": false,
     "start_time": "2023-10-30T19:12:38.310329",
     "status": "completed"
    },
    "tags": []
   },
   "source": [
    "#### Carga de datos"
   ]
  },
  {
   "cell_type": "code",
   "execution_count": 1,
   "id": "d55255ce",
   "metadata": {
    "execution": {
     "iopub.execute_input": "2023-10-30T19:12:38.320850Z",
     "iopub.status.busy": "2023-10-30T19:12:38.319851Z",
     "iopub.status.idle": "2023-10-30T19:12:39.527794Z",
     "shell.execute_reply": "2023-10-30T19:12:39.527794Z"
    },
    "papermill": {
     "duration": 1.212464,
     "end_time": "2023-10-30T19:12:39.528794",
     "exception": false,
     "start_time": "2023-10-30T19:12:38.316330",
     "status": "completed"
    },
    "tags": []
   },
   "outputs": [
    {
     "name": "stdout",
     "output_type": "stream",
     "text": [
      "CPU_COUNT: 24; NODE: amilcar32; sys.version: 3.10.12 | packaged by Anaconda, Inc. | (main, Jul  5 2023, 19:09:20) [MSC v.1916 64 bit (AMD64)]\n",
      "LOKY_MAX_CPU_COUNT is not set.\n",
      "OMP_NUM_THREADS is not set.\n"
     ]
    }
   ],
   "source": [
    "import os\n",
    "import numpy as np\n",
    "import pandas as pd\n",
    "import datetime\n",
    "import sklearn\n",
    "import logging\n",
    "import warnings\n",
    "\n",
    "from sklearn.pipeline import Pipeline\n",
    "from sklearn.model_selection import RandomizedSearchCV, KFold, cross_val_score, train_test_split\n",
    "from sklearn.metrics import accuracy_score, confusion_matrix, classification_report, roc_auc_score\n",
    "\n",
    "#  cargar algoritmos para aprendizaje supervisado\n",
    "from sklearn.feature_selection import SelectKBest, f_classif, SelectFromModel, mutual_info_classif\n",
    "from sklearn.svm import SVC\n",
    "from sklearn.ensemble import RandomForestClassifier\n",
    "from sklearn.linear_model import LogisticRegression,LogisticRegressionCV\n",
    "\n",
    "# importar fichero con utilidades propias\n",
    "from commons import myfunctions as myfunc\n"
   ]
  },
  {
   "cell_type": "markdown",
   "id": "62fdb7da",
   "metadata": {
    "papermill": {
     "duration": 0.002992,
     "end_time": "2023-10-30T19:12:39.534820",
     "exception": false,
     "start_time": "2023-10-30T19:12:39.531828",
     "status": "completed"
    },
    "tags": []
   },
   "source": [
    "#### Parámetros a utilizar en el entrenamiento.\n",
    "\n",
    "Se indican los 3 algoritmos de *selección de características* (eval_selector_xxx) y los 3 algoritmos para la _clasificación_ (eval_clasifier_xxx)\n",
    "\n",
    "En *param_distributions* se indicar los parámetros que utilizan los algoritmos en la función RandomSearchCV.\n",
    "\n",
    "Esta celda tiene la etiqueta **parameters** que servirá para poder lanzar los entrenamientos con la utilidad **papermill** pasándole un fichero con los parámetros. Los nuevos parámetros se situarán tras esta celda para tener prevalencia."
   ]
  },
  {
   "cell_type": "code",
   "execution_count": 2,
   "id": "fac7fea4",
   "metadata": {
    "execution": {
     "iopub.execute_input": "2023-10-30T19:12:39.541995Z",
     "iopub.status.busy": "2023-10-30T19:12:39.540995Z",
     "iopub.status.idle": "2023-10-30T19:12:39.560015Z",
     "shell.execute_reply": "2023-10-30T19:12:39.558862Z"
    },
    "papermill": {
     "duration": 0.023146,
     "end_time": "2023-10-30T19:12:39.561015",
     "exception": false,
     "start_time": "2023-10-30T19:12:39.537869",
     "status": "completed"
    },
    "tags": [
     "parameters"
    ]
   },
   "outputs": [
    {
     "name": "stdout",
     "output_type": "stream",
     "text": [
      "20231030T201239 : amilcar32 : INFO : Utilizando parámetros de mul_m\n"
     ]
    }
   ],
   "source": [
    "#  Parametros para el entrenamiento\n",
    "\n",
    "SEMILLA=        42\n",
    "M_TIPO=         \"mul_m\"\n",
    "M_SELECT=       \"MI\"\n",
    "M_CLASIF=       \"SVM\"\n",
    "R_FICHERO=      \"resultados\"\n",
    "M_FICHERO=      \"metricas\"\n",
    "PRE_DATA_FILE=  \"rows_transpose_norm_by_gene_id_with_target_num_\"\n",
    "SCORING=        \"roc_auc_ovr\" \n",
    "MAX_ITERS=      100\n",
    "\n",
    "def mutual_info_classif_state(X, y):\n",
    "    return mutual_info_classif(X, y, random_state=SEMILLA)\n",
    "\n",
    "eval_selector_mi = \"SelectKBest(score_func=mutual_info_classif_state)\"\n",
    "eval_selector_rf=  \"SelectFromModel(estimator=RandomForestClassifier(random_state=SEMILLA), threshold=-np.inf)\"\n",
    "eval_selector_anova=  \"SelectKBest(score_func=f_classif)\"\n",
    "\n",
    "eval_clasifier_svm= \"SVC(probability=True, random_state=SEMILLA)\"\n",
    "eval_clasifier_rf= \"RandomForestClassifier(random_state=SEMILLA)\"\n",
    "eval_clasifier_lr= \"LogisticRegressionCV(random_state=SEMILLA)\"\n",
    "\n",
    "if M_TIPO.startswith(\"bin_m\"):\n",
    "    myfunc.verbose(f\"Utilizando parámetros de {M_TIPO}\")\n",
    "    eval_selector = eval_selector_mi\n",
    "    eval_clasifier = eval_clasifier_svm\n",
    "\n",
    "    SEMILLA = 6578\n",
    "    M_SELECT = \"MI\"\n",
    "    M_CLASIF = \"SVM\"\n",
    "    param_distributions = {'selector__k': [1000], \n",
    "         'clasifier__kernel': ['rbf'], 'clasifier__gamma': [0.01], 'clasifier__C': [100]}\n",
    "elif M_TIPO.startswith(\"bin_s\"):\n",
    "    myfunc.verbose(f\"Utilizando parámetros de {M_TIPO}\")\n",
    "    eval_selector = eval_selector_rf\n",
    "    eval_clasifier = eval_clasifier_lr\n",
    "\n",
    "    SEMILLA = 6191\n",
    "    M_SELECT = \"RF\"\n",
    "    M_CLASIF = \"LR_L2\"\n",
    "    param_distributions = {'selector__max_features': [1000], 'selector__estimator__n_estimators': [200], \n",
    "        'clasifier__solver': ['lbfgs'], 'clasifier__penalty': ['l2'], 'clasifier__max_iter': [10000]}\n",
    "\n",
    "elif M_TIPO.startswith(\"mul_m\"):\n",
    "    myfunc.verbose(f\"Utilizando parámetros de {M_TIPO}\")\n",
    " \n",
    "    eval_selector = eval_selector_rf\n",
    "    eval_clasifier = eval_clasifier_lr\n",
    "\n",
    "    SEMILLA = 6191\n",
    "    M_SELECT = \"RF\"\n",
    "    M_CLASIF = \"LR_L2\"\n",
    "    param_distributions = {'selector__max_features': [1000], 'selector__estimator__n_estimators': [400], \n",
    "        'clasifier__solver': ['lbfgs'], 'clasifier__penalty': ['l2'], 'clasifier__max_iter': [10000]}\n",
    "\n",
    "else:\n",
    "    # M_TIPO.startswith(\"mul_s\"):\n",
    "    myfunc.verbose(f\"Utilizando parámetros de {M_TIPO}\")\n",
    "    eval_selector = eval_selector_anova\n",
    "    eval_clasifier = eval_clasifier_lr\n",
    "\n",
    "    SEMILLA = 1860\n",
    "    M_SELECT = \"ANOVA\"\n",
    "    M_CLASIF = \"LR_L2\"\n",
    "    param_distributions = {'selector__k': [1000], \n",
    "        'clasifier__solver': ['saga'], 'clasifier__penalty': ['l2'], 'clasifier__max_iter': [10000]}\n",
    "\n"
   ]
  },
  {
   "cell_type": "code",
   "execution_count": 3,
   "id": "cf5ca9d3",
   "metadata": {
    "execution": {
     "iopub.execute_input": "2023-10-30T19:12:39.567280Z",
     "iopub.status.busy": "2023-10-30T19:12:39.567280Z",
     "iopub.status.idle": "2023-10-30T19:12:39.585613Z",
     "shell.execute_reply": "2023-10-30T19:12:39.585613Z"
    },
    "papermill": {
     "duration": 0.024455,
     "end_time": "2023-10-30T19:12:39.588727",
     "exception": false,
     "start_time": "2023-10-30T19:12:39.564272",
     "status": "completed"
    },
    "tags": [
     "injected-parameters"
    ]
   },
   "outputs": [],
   "source": [
    "# Parameters\n",
    "M_TIPO = \"mul_s\"\n",
    "M_SELECT = \"RF\"\n",
    "M_CLASIF = \"LR_L2\"\n",
    "P_FICHERO = \"param_0000_6578_mul_s_RF_LR_L2.yaml\"\n",
    "R_FICHERO = \"resultados_6578\"\n",
    "M_FICHERO = \"metricas_6578\"\n",
    "PRE_DATA_FILE = \"rows_transpose_norm_by_gene_id_with_target_num_\"\n",
    "SCORING = \"roc_auc_ovr\"\n",
    "SEMILLA = 6578\n",
    "MAX_ITERS = 500\n",
    "eval_selector = \"SelectFromModel(estimator=RandomForestClassifier(random_state=SEMILLA), threshold=-np.inf)\"\n",
    "eval_clasifier = \"LogisticRegressionCV(random_state=SEMILLA)\"\n",
    "param_distributions = {\n",
    "    \"selector__max_features\": [500],\n",
    "    \"selector__estimator__n_estimators\": [200],\n",
    "    \"clasifier__solver\": [\"lbfgs\"],\n",
    "    \"clasifier__penalty\": [\"l2\"],\n",
    "    \"clasifier__max_iter\": [10000],\n",
    "}\n"
   ]
  },
  {
   "cell_type": "code",
   "execution_count": 4,
   "id": "668c0b99",
   "metadata": {
    "execution": {
     "iopub.execute_input": "2023-10-30T19:12:39.602250Z",
     "iopub.status.busy": "2023-10-30T19:12:39.602250Z",
     "iopub.status.idle": "2023-10-30T19:12:39.617849Z",
     "shell.execute_reply": "2023-10-30T19:12:39.616849Z"
    },
    "papermill": {
     "duration": 0.026014,
     "end_time": "2023-10-30T19:12:39.620752",
     "exception": false,
     "start_time": "2023-10-30T19:12:39.594738",
     "status": "completed"
    },
    "tags": []
   },
   "outputs": [],
   "source": [
    "DATA_FILE = PRE_DATA_FILE + M_TIPO\n",
    "\n",
    "# si viene \"None\" en el parámetro max_depth, se le quitan las comillas para que no sea entendido por el algoritmo como un texto\n",
    "if \"clasifier__max_depth\" in param_distributions:\n",
    "    param_distributions['clasifier__max_depth'] = [None if x == 'None' else x for x in param_distributions['clasifier__max_depth']]"
   ]
  },
  {
   "cell_type": "markdown",
   "id": "404a4867",
   "metadata": {
    "papermill": {
     "duration": 0.003287,
     "end_time": "2023-10-30T19:12:39.630034",
     "exception": false,
     "start_time": "2023-10-30T19:12:39.626747",
     "status": "completed"
    },
    "tags": []
   },
   "source": [
    "Asignar los algoritmos que se utilizarán en la función RandomSearchCV"
   ]
  },
  {
   "cell_type": "code",
   "execution_count": 5,
   "id": "cba5eab5",
   "metadata": {
    "execution": {
     "iopub.execute_input": "2023-10-30T19:12:39.637067Z",
     "iopub.status.busy": "2023-10-30T19:12:39.637067Z",
     "iopub.status.idle": "2023-10-30T19:12:39.649611Z",
     "shell.execute_reply": "2023-10-30T19:12:39.649611Z"
    },
    "papermill": {
     "duration": 0.018575,
     "end_time": "2023-10-30T19:12:39.651616",
     "exception": false,
     "start_time": "2023-10-30T19:12:39.633041",
     "status": "completed"
    },
    "tags": []
   },
   "outputs": [],
   "source": [
    "algor_selector=eval(eval_selector)\n",
    "algor_clasifier=eval(eval_clasifier)"
   ]
  },
  {
   "cell_type": "markdown",
   "id": "78354070",
   "metadata": {
    "papermill": {
     "duration": 0.005077,
     "end_time": "2023-10-30T19:12:39.661696",
     "exception": false,
     "start_time": "2023-10-30T19:12:39.656619",
     "status": "completed"
    },
    "tags": []
   },
   "source": [
    "#### Comprobar el entorno y leer fichero de muestras"
   ]
  },
  {
   "cell_type": "code",
   "execution_count": 6,
   "id": "0c7185e8",
   "metadata": {
    "execution": {
     "iopub.execute_input": "2023-10-30T19:12:39.668703Z",
     "iopub.status.busy": "2023-10-30T19:12:39.668703Z",
     "iopub.status.idle": "2023-10-30T19:12:39.805269Z",
     "shell.execute_reply": "2023-10-30T19:12:39.804271Z"
    },
    "papermill": {
     "duration": 0.144078,
     "end_time": "2023-10-30T19:12:39.808781",
     "exception": false,
     "start_time": "2023-10-30T19:12:39.664703",
     "status": "completed"
    },
    "tags": []
   },
   "outputs": [
    {
     "name": "stdout",
     "output_type": "stream",
     "text": [
      "20231030T201239 : amilcar32 : INFO : Encontrada carpeta DATA_DIR=..\\tfm_viu\\datos\n",
      "20231030T201239 : amilcar32 : INFO : Encontrada carpeta CFDNA_DIR=..\\tfm_viu\\datos\\cfDNA_5hmC\n",
      "20231030T201239 : amilcar32 : INFO : Encontrada carpeta GENCODE_DIR=..\\tfm_viu\\datos\\gencode\n",
      "20231030T201239 : amilcar32 : INFO : Encontrada carpeta H5_DIR=..\\tfm_viu\\datos\\h5\n",
      "20231030T201239 : amilcar32 : INFO : Encontrada carpeta LOG_DIR=..\\tfm_viu\\datos\\logs\n",
      "20231030T201239 : amilcar32 : INFO : Encontrada carpeta CSV_DIR=..\\tfm_viu\\datos\\csv\n",
      "20231030T201239 : amilcar32 : INFO : Encontrada carpeta MODEL_DIR=..\\tfm_viu\\ejecuciones\\modelos\n",
      "20231030T201239 : amilcar32 : INFO : Encontrada carpeta EXEC_DIR=..\\tfm_viu\\ejecuciones\n",
      "20231030T201239 : amilcar32 : INFO : Encontrada carpeta MET_DIR=..\\tfm_viu\\ejecuciones\\metricas\n",
      "20231030T201239 : amilcar32 : INFO : Inicio leer fichero h5 ..\\tfm_viu\\datos\\h5\\rows_transpose_norm_by_gene_id_with_target_num_mul_s.h5\n",
      "20231030T201239 : amilcar32 : INFO : Leyendo clave /df\n"
     ]
    },
    {
     "name": "stdout",
     "output_type": "stream",
     "text": [
      "20231030T201239 : amilcar32 : INFO : Tamaño (259, 18876)\n",
      "20231030T201239 : amilcar32 : INFO : Fin leer fichero h5 ..\\tfm_viu\\datos\\h5\\rows_transpose_norm_by_gene_id_with_target_num_mul_s.h5\n"
     ]
    },
    {
     "data": {
      "text/plain": [
       "target\n",
       "0    37\n",
       "1    37\n",
       "2    37\n",
       "3    37\n",
       "4    37\n",
       "5    37\n",
       "6    37\n",
       "dtype: int64"
      ]
     },
     "metadata": {},
     "output_type": "display_data"
    },
    {
     "name": "stdout",
     "output_type": "stream",
     "text": [
      "Shape df: (259, 18876)\n",
      "Shape X_train: (207, 18875)\n",
      "Shape X_test: (52, 18875)\n"
     ]
    }
   ],
   "source": [
    "start_time = datetime.datetime.now()\n",
    "\n",
    "myfunc.reset_vars()\n",
    "\n",
    "myfunc.NOTEBK_FILENAME = myfunc.get_nb_name()\n",
    "\n",
    "myfunc.check_enviroment(myfunc.DATA_DIR, myfunc.CFDNA_DIR, myfunc.GENCODE_DIR, myfunc.H5_DIR, myfunc.LOG_DIR, myfunc.CSV_DIR, myfunc.MODEL_DIR, myfunc.EXEC_DIR, myfunc.MET_DIR)\n",
    "\n",
    "# Leer fichero con las muestras\n",
    "df_t = myfunc.read_h5_to_df(DATA_FILE, myfunc.H5_DIR)\n",
    "display(df_t.groupby(\"target\").size())\n",
    "print(\"Shape df:\",df_t.shape)\n",
    "\n",
    "# Separar caracteristicas/genes de las etiquetas/tipos de cáncer\n",
    "X = df_t.iloc[:, :-1]  # Todas las columnas excepto la última\n",
    "y = df_t.iloc[:, -1]  # La última columna contiene los identificadores de los tipos de cáncer\n",
    "\n",
    "#  Crear el conjunto de datos de entrenamiento y de pruebas, y se fija la semilla para siempre coger el mismo juego de muestras\n",
    "X_train, X_test, y_train, y_test = train_test_split(X, y, test_size=0.2, shuffle=True, random_state=42)\n",
    "print(\"Shape X_train:\",X_train.shape)\n",
    "print(\"Shape X_test:\",X_test.shape)\n"
   ]
  },
  {
   "cell_type": "markdown",
   "id": "716fcfab",
   "metadata": {
    "papermill": {
     "duration": 0.006102,
     "end_time": "2023-10-30T19:12:39.821899",
     "exception": false,
     "start_time": "2023-10-30T19:12:39.815797",
     "status": "completed"
    },
    "tags": []
   },
   "source": [
    "#### Selección de características y clasificación."
   ]
  },
  {
   "cell_type": "code",
   "execution_count": 7,
   "id": "ae85e963",
   "metadata": {
    "execution": {
     "iopub.execute_input": "2023-10-30T19:12:39.831238Z",
     "iopub.status.busy": "2023-10-30T19:12:39.831095Z",
     "iopub.status.idle": "2023-10-30T19:13:09.942731Z",
     "shell.execute_reply": "2023-10-30T19:13:09.940737Z"
    },
    "papermill": {
     "duration": 30.130902,
     "end_time": "2023-10-30T19:13:09.957807",
     "exception": false,
     "start_time": "2023-10-30T19:12:39.826905",
     "status": "completed"
    },
    "tags": []
   },
   "outputs": [
    {
     "name": "stdout",
     "output_type": "stream",
     "text": [
      "20231030T201239 : amilcar32 : INFO : Iniciando entrenamiento\n",
      "num_iter: 1 , max_iter: 1\n",
      "Fitting 5 folds for each of 1 candidates, totalling 5 fits\n"
     ]
    },
    {
     "name": "stdout",
     "output_type": "stream",
     "text": [
      "Mejores Hiperparámetros: {'selector__max_features': 500, 'selector__estimator__n_estimators': 200, 'clasifier__solver': 'lbfgs', 'clasifier__penalty': 'l2', 'clasifier__max_iter': 10000}\n",
      "Mejor Puntuación: 0.8152\n",
      "20231030T201309 : amilcar32 : INFO : Fin entrenamiento\n"
     ]
    }
   ],
   "source": [
    "myfunc.verbose(\"Iniciando entrenamiento\")\n",
    "\n",
    "kf = KFold(n_splits=5, shuffle=True, random_state=SEMILLA)\n",
    "\n",
    "# Crear el pipeline para el flujo de tareas\n",
    "tasks_pipeline = Pipeline([\n",
    "    ('selector', algor_selector),\n",
    "    ('clasifier', algor_clasifier)\n",
    "])\n",
    "\n",
    "# MAX_ITERS puede limitar el número de iteraciones si son excesivas para las combinaciones de parámetros buscando un óptimo local, \n",
    "# sino funcionaría como GridSearchCV al revisar todas las cominaciones de los parámetros\n",
    "num_iteraciones = 1\n",
    "num_iteraciones = num_iteraciones * np.prod([len(elemento1) for _, elemento1 in param_distributions.items()])\n",
    "max_iteraciones = num_iteraciones if num_iteraciones <= MAX_ITERS else MAX_ITERS\n",
    "print(\"num_iter:\",num_iteraciones,\", max_iter:\",max_iteraciones)\n",
    "\n",
    "random_search = RandomizedSearchCV(\n",
    "    tasks_pipeline, \n",
    "    param_distributions, \n",
    "    n_iter=max_iteraciones,\n",
    "    scoring=SCORING,\n",
    "    cv=kf,\n",
    "    verbose=3, \n",
    "    random_state=SEMILLA, \n",
    "    n_jobs=-1\n",
    "    )\n",
    "\n",
    "# Entrenar el modelo\n",
    "random_search.fit(X_train, y_train)\n",
    "\n",
    "# Ver los mejores hiperparámetros encontrados\n",
    "print(f'Mejores Hiperparámetros: {random_search.best_params_}')\n",
    "print(f'Mejor Puntuación: {random_search.best_score_:.4f}')\n",
    "\n",
    "# Nos quedamos con el mejor modelo para ver las métricas\n",
    "mejor_modelo = random_search.best_estimator_\n",
    "\n",
    "myfunc.verbose(\"Fin entrenamiento\")"
   ]
  },
  {
   "cell_type": "markdown",
   "id": "be09b274",
   "metadata": {
    "papermill": {
     "duration": 0.012067,
     "end_time": "2023-10-30T19:13:09.985764",
     "exception": false,
     "start_time": "2023-10-30T19:13:09.973697",
     "status": "completed"
    },
    "tags": []
   },
   "source": [
    "#### Guardar modelo"
   ]
  },
  {
   "cell_type": "code",
   "execution_count": 8,
   "id": "25621823",
   "metadata": {
    "execution": {
     "iopub.execute_input": "2023-10-30T19:13:10.001276Z",
     "iopub.status.busy": "2023-10-30T19:13:10.001276Z",
     "iopub.status.idle": "2023-10-30T19:13:10.129620Z",
     "shell.execute_reply": "2023-10-30T19:13:10.128585Z"
    },
    "papermill": {
     "duration": 0.137854,
     "end_time": "2023-10-30T19:13:10.132601",
     "exception": false,
     "start_time": "2023-10-30T19:13:09.994747",
     "status": "completed"
    },
    "tags": []
   },
   "outputs": [
    {
     "name": "stdout",
     "output_type": "stream",
     "text": [
      "20231030T201310 : amilcar32 : INFO : Inicio guardar fichero ..\\tfm_viu\\ejecuciones\\modelos\\modelo_6578_mul_s_RF_LR_L2.pkl\n",
      "20231030T201310 : amilcar32 : INFO : Fin guardar fichero ..\\tfm_viu\\ejecuciones\\modelos\\modelo_6578_mul_s_RF_LR_L2.pkl\n"
     ]
    }
   ],
   "source": [
    "fichero_modelo = str.replace(\"modelo_\"+str(SEMILLA).zfill(4)+\"_\"+M_TIPO+\"_\"+M_SELECT+\"_\"+M_CLASIF+\".pkl\", \" \", \"_\")\n",
    "\n",
    "myfunc.save_modelo(mejor_modelo, myfunc.MODEL_DIR, fichero_modelo)"
   ]
  },
  {
   "cell_type": "markdown",
   "id": "6fb4a785",
   "metadata": {
    "papermill": {
     "duration": 0.012886,
     "end_time": "2023-10-30T19:13:10.159749",
     "exception": false,
     "start_time": "2023-10-30T19:13:10.146863",
     "status": "completed"
    },
    "tags": []
   },
   "source": [
    "#### Ver resultados del las iteraciones hechas por RandomSearchCV"
   ]
  },
  {
   "cell_type": "code",
   "execution_count": 9,
   "id": "461b49ad",
   "metadata": {
    "execution": {
     "iopub.execute_input": "2023-10-30T19:13:10.188744Z",
     "iopub.status.busy": "2023-10-30T19:13:10.188168Z",
     "iopub.status.idle": "2023-10-30T19:13:10.210328Z",
     "shell.execute_reply": "2023-10-30T19:13:10.209066Z"
    },
    "papermill": {
     "duration": 0.044336,
     "end_time": "2023-10-30T19:13:10.213606",
     "exception": false,
     "start_time": "2023-10-30T19:13:10.169270",
     "status": "completed"
    },
    "tags": []
   },
   "outputs": [
    {
     "name": "stdout",
     "output_type": "stream",
     "text": [
      "20231030T201310 : amilcar32 : INFO : Inicio ver resultados\n",
      "Mejores Hiperparámetros: {'selector__max_features': 500, 'selector__estimator__n_estimators': 200, 'clasifier__solver': 'lbfgs', 'clasifier__penalty': 'l2', 'clasifier__max_iter': 10000}\n",
      "Mejores puntuaciones: 0.8152 | Params: {'selector__max_features': 500, 'selector__estimator__n_estimators': 200, 'clasifier__solver': 'lbfgs', 'clasifier__penalty': 'l2', 'clasifier__max_iter': 10000}\n",
      "Media de las puntuaciones: 0.8152 | Params: {'selector__max_features': 500, 'selector__estimator__n_estimators': 200, 'clasifier__solver': 'lbfgs', 'clasifier__penalty': 'l2', 'clasifier__max_iter': 10000}\n",
      "20231030T201310 : amilcar32 : INFO : Fin resultados\n"
     ]
    }
   ],
   "source": [
    "myfunc.ver_resultados_search(random_search)"
   ]
  },
  {
   "cell_type": "markdown",
   "id": "c591271a",
   "metadata": {
    "papermill": {
     "duration": 0.01053,
     "end_time": "2023-10-30T19:13:10.233659",
     "exception": false,
     "start_time": "2023-10-30T19:13:10.223129",
     "status": "completed"
    },
    "tags": []
   },
   "source": [
    "#### Ver métricas del mejor modelo"
   ]
  },
  {
   "cell_type": "code",
   "execution_count": 10,
   "id": "d57487cd",
   "metadata": {
    "execution": {
     "iopub.execute_input": "2023-10-30T19:13:10.254083Z",
     "iopub.status.busy": "2023-10-30T19:13:10.254083Z",
     "iopub.status.idle": "2023-10-30T19:13:12.189089Z",
     "shell.execute_reply": "2023-10-30T19:13:12.187019Z"
    },
    "papermill": {
     "duration": 1.94909,
     "end_time": "2023-10-30T19:13:12.192132",
     "exception": false,
     "start_time": "2023-10-30T19:13:10.243042",
     "status": "completed"
    },
    "tags": []
   },
   "outputs": [
    {
     "name": "stdout",
     "output_type": "stream",
     "text": [
      "20231030T201310 : amilcar32 : INFO : Inicio ver métricas multiclase\n"
     ]
    },
    {
     "name": "stdout",
     "output_type": "stream",
     "text": [
      "              precision    recall  f1-score   support\n",
      "\n",
      "           0       0.11      0.09      0.10        11\n",
      "           1       1.00      0.50      0.67         8\n",
      "           2       0.20      0.12      0.15         8\n",
      "           3       0.00      0.00      0.00         5\n",
      "           4       0.70      0.88      0.78         8\n",
      "           5       0.50      0.50      0.50         6\n",
      "           6       0.12      0.17      0.14         6\n",
      "\n",
      "    accuracy                           0.33        52\n",
      "   macro avg       0.38      0.32      0.33        52\n",
      "weighted avg       0.39      0.33      0.34        52\n",
      "\n",
      "\n",
      "\n",
      "           Exactitud: 0.326923\n",
      "   Precisión (media): 0.376587\n",
      "      Recall (media): 0.322511\n",
      "    F1-score (media): 0.334450\n",
      "\n",
      "\n",
      "AUC para el tipo de cáncer 0-Control.... 0.6608\n",
      "AUC para el tipo de cáncer 1-Bladder.... 0.8466\n",
      "AUC para el tipo de cáncer 2-Breast..... 0.7386\n",
      "AUC para el tipo de cáncer 3-Colorectal. 0.6000\n",
      "AUC para el tipo de cáncer 4-Kidney..... 0.9347\n",
      "AUC para el tipo de cáncer 5-Lung....... 0.9529\n",
      "AUC para el tipo de cáncer 6-Prostate... 0.8442\n",
      "\n",
      "Media de AUC: 0.7968\n"
     ]
    },
    {
     "data": {
      "image/png": "[encoded data removed]",
      "text/plain": [
       "<Figure size 1000x600 with 1 Axes>"
      ]
     },
     "metadata": {},
     "output_type": "display_data"
    },
    {
     "name": "stdout",
     "output_type": "stream",
     "text": [
      "\n",
      "\n"
     ]
    },
    {
     "data": {
      "image/png": "[encoded data removed]",
      "text/plain": [
       "<Figure size 800x400 with 2 Axes>"
      ]
     },
     "metadata": {},
     "output_type": "display_data"
    },
    {
     "name": "stdout",
     "output_type": "stream",
     "text": [
      "\n",
      "\n",
      "Puntuación Jaccard para el cáncer tipo 0-Control.... 0.0526\n",
      "Puntuación Jaccard para el cáncer tipo 1-Bladder.... 0.5000\n",
      "Puntuación Jaccard para el cáncer tipo 2-Breast..... 0.0833\n",
      "Puntuación Jaccard para el cáncer tipo 3-Colorectal. 0.0000\n",
      "Puntuación Jaccard para el cáncer tipo 4-Kidney..... 0.6364\n",
      "Puntuación Jaccard para el cáncer tipo 5-Lung....... 0.3333\n",
      "Puntuación Jaccard para el cáncer tipo 6-Prostate... 0.0769\n",
      "\n",
      "Media de la puntuación de Jaccard: 0.2404\n"
     ]
    }
   ],
   "source": [
    "if M_TIPO.startswith(\"bin\"):\n",
    "    myfunc.ver_metricas(mejor_modelo, X_test, y_test)\n",
    "else:\n",
    "    myfunc.ver_metricas_multi(mejor_modelo, X_test, y_test)\n"
   ]
  },
  {
   "cell_type": "markdown",
   "id": "1a0202ae",
   "metadata": {
    "papermill": {
     "duration": 0.017583,
     "end_time": "2023-10-30T19:13:12.230135",
     "exception": false,
     "start_time": "2023-10-30T19:13:12.212552",
     "status": "completed"
    },
    "tags": []
   },
   "source": [
    "#### Finalización del notebook"
   ]
  },
  {
   "cell_type": "code",
   "execution_count": 11,
   "id": "c73e2b44",
   "metadata": {
    "execution": {
     "iopub.execute_input": "2023-10-30T19:13:12.253476Z",
     "iopub.status.busy": "2023-10-30T19:13:12.253476Z",
     "iopub.status.idle": "2023-10-30T19:13:12.265252Z",
     "shell.execute_reply": "2023-10-30T19:13:12.263955Z"
    },
    "papermill": {
     "duration": 0.029286,
     "end_time": "2023-10-30T19:13:12.273718",
     "exception": false,
     "start_time": "2023-10-30T19:13:12.244432",
     "status": "completed"
    },
    "tags": []
   },
   "outputs": [
    {
     "name": "stdout",
     "output_type": "stream",
     "text": [
      "20231030T201312 : amilcar32 : INFO : Notebook ha tardado 32 seconds\n"
     ]
    }
   ],
   "source": [
    "end_time = datetime.datetime.now()\n",
    "total_time = end_time - start_time\n",
    "myfunc.verbose(f\"Notebook ha tardado {total_time.seconds} seconds\")"
   ]
  },
  {
   "cell_type": "markdown",
   "id": "0601c9c6",
   "metadata": {
    "papermill": {
     "duration": 0.013034,
     "end_time": "2023-10-30T19:13:12.308739",
     "exception": false,
     "start_time": "2023-10-30T19:13:12.295705",
     "status": "completed"
    },
    "tags": []
   },
   "source": [
    "#### Guardar métricas"
   ]
  },
  {
   "cell_type": "code",
   "execution_count": 12,
   "id": "1bd1c592",
   "metadata": {
    "execution": {
     "iopub.execute_input": "2023-10-30T19:13:12.352734Z",
     "iopub.status.busy": "2023-10-30T19:13:12.352734Z",
     "iopub.status.idle": "2023-10-30T19:13:13.563919Z",
     "shell.execute_reply": "2023-10-30T19:13:13.562320Z"
    },
    "papermill": {
     "duration": 1.240346,
     "end_time": "2023-10-30T19:13:13.568762",
     "exception": false,
     "start_time": "2023-10-30T19:13:12.328416",
     "status": "completed"
    },
    "tags": []
   },
   "outputs": [
    {
     "name": "stdout",
     "output_type": "stream",
     "text": [
      "20231030T201312 : amilcar32 : INFO : Inicio guardar métricas multiclase\n",
      "20231030T201312 : amilcar32 : INFO : Inicio leer fichero ..\\tfm_viu\\ejecuciones\\metricas\\metricas_6578.csv\n",
      "20231030T201312 : amilcar32 : INFO : Fin leer fichero ..\\tfm_viu\\ejecuciones\\metricas\\metricas_6578.csv\n"
     ]
    },
    {
     "name": "stdout",
     "output_type": "stream",
     "text": [
      "20231030T201313 : amilcar32 : INFO : Inicio guardar fichero ..\\tfm_viu\\ejecuciones\\metricas\\metricas_6578.csv\n",
      "20231030T201313 : amilcar32 : INFO : Fichero borrado ..\\tfm_viu\\ejecuciones\\metricas\\metricas_6578.csv\n",
      "20231030T201313 : amilcar32 : INFO : Fin guardar fichero ..\\tfm_viu\\ejecuciones\\metricas\\metricas_6578.csv\n",
      "20231030T201313 : amilcar32 : INFO : Fin guardar métricas multiclase\n",
      "20231030T201313 : amilcar32 : INFO : Inicio leer fichero ..\\tfm_viu\\ejecuciones\\metricas\\metricas_6578.csv\n",
      "20231030T201313 : amilcar32 : INFO : Fin leer fichero ..\\tfm_viu\\ejecuciones\\metricas\\metricas_6578.csv\n"
     ]
    },
    {
     "data": {
      "text/html": [
       "<div>\n",
       "<style scoped>\n",
       "    .dataframe tbody tr th:only-of-type {\n",
       "        vertical-align: middle;\n",
       "    }\n",
       "\n",
       "    .dataframe tbody tr th {\n",
       "        vertical-align: top;\n",
       "    }\n",
       "\n",
       "    .dataframe thead th {\n",
       "        text-align: right;\n",
       "    }\n",
       "</style>\n",
       "<table border=\"1\" class=\"dataframe\">\n",
       "  <thead>\n",
       "    <tr style=\"text-align: right;\">\n",
       "      <th></th>\n",
       "      <th>tipo</th>\n",
       "      <th>select</th>\n",
       "      <th>clasific</th>\n",
       "      <th>semilla</th>\n",
       "      <th>accuracy</th>\n",
       "      <th>precision</th>\n",
       "      <th>recall</th>\n",
       "      <th>f1_score</th>\n",
       "      <th>roc_auc</th>\n",
       "      <th>hostname</th>\n",
       "      <th>total_time_sec</th>\n",
       "      <th>datetime</th>\n",
       "      <th>fichero_modelo</th>\n",
       "      <th>params</th>\n",
       "      <th>shape</th>\n",
       "      <th>features</th>\n",
       "      <th>roc_auc_ovr</th>\n",
       "      <th>indices_auc</th>\n",
       "      <th>indices_jaccard</th>\n",
       "    </tr>\n",
       "  </thead>\n",
       "  <tbody>\n",
       "    <tr>\n",
       "      <th>0</th>\n",
       "      <td>mul_s</td>\n",
       "      <td>RF</td>\n",
       "      <td>LR_L2</td>\n",
       "      <td>6578</td>\n",
       "      <td>0.326923</td>\n",
       "      <td>0.376587</td>\n",
       "      <td>0.322511</td>\n",
       "      <td>0.334450</td>\n",
       "      <td>NaN</td>\n",
       "      <td>amilcar32</td>\n",
       "      <td>32</td>\n",
       "      <td>2023-10-30 20:13:13.417781</td>\n",
       "      <td>modelo_6578_mul_s_RF_LR_L2.pkl</td>\n",
       "      <td>{'selector__max_features': 500, 'selector__est...</td>\n",
       "      <td>X_test:(52, 18875)</td>\n",
       "      <td>['ENSG00000002933.9', 'ENSG00000005381.9', 'EN...</td>\n",
       "      <td>0.796820</td>\n",
       "      <td>[0.6607538802660754, 0.8465909090909091, 0.738...</td>\n",
       "      <td>[0.05263157894736842, 0.5, 0.08333333333333333...</td>\n",
       "    </tr>\n",
       "    <tr>\n",
       "      <th>0</th>\n",
       "      <td>mul_s</td>\n",
       "      <td>RF</td>\n",
       "      <td>LR_L1</td>\n",
       "      <td>6578</td>\n",
       "      <td>0.288462</td>\n",
       "      <td>0.293651</td>\n",
       "      <td>0.292641</td>\n",
       "      <td>0.276307</td>\n",
       "      <td>NaN</td>\n",
       "      <td>amilcar32</td>\n",
       "      <td>613</td>\n",
       "      <td>2023-10-30 20:12:34.236485</td>\n",
       "      <td>modelo_6578_mul_s_RF_LR_L1.pkl</td>\n",
       "      <td>{'selector__max_features': 500, 'selector__est...</td>\n",
       "      <td>X_test:(52, 18875)</td>\n",
       "      <td>['ENSG00000005381.9', 'ENSG00000006625.18', 'E...</td>\n",
       "      <td>0.736950</td>\n",
       "      <td>[0.5099778270509978, 0.8039772727272727, 0.636...</td>\n",
       "      <td>[0.1111111111111111, 0.1, 0.08333333333333333,...</td>\n",
       "    </tr>\n",
       "    <tr>\n",
       "      <th>0</th>\n",
       "      <td>mul_s</td>\n",
       "      <td>RF</td>\n",
       "      <td>LR_EN</td>\n",
       "      <td>6578</td>\n",
       "      <td>0.403846</td>\n",
       "      <td>0.396599</td>\n",
       "      <td>0.416558</td>\n",
       "      <td>0.401021</td>\n",
       "      <td>NaN</td>\n",
       "      <td>amilcar32</td>\n",
       "      <td>519</td>\n",
       "      <td>2023-10-30 20:02:15.046365</td>\n",
       "      <td>modelo_6578_mul_s_RF_LR_EN.pkl</td>\n",
       "      <td>{'selector__max_features': 500, 'selector__est...</td>\n",
       "      <td>X_test:(52, 18875)</td>\n",
       "      <td>['ENSG00000005381.9', 'ENSG00000005513.10', 'E...</td>\n",
       "      <td>0.779055</td>\n",
       "      <td>[0.5521064301552107, 0.84375, 0.73011363636363...</td>\n",
       "      <td>[0.058823529411764705, 0.5, 0.1538461538461538...</td>\n",
       "    </tr>\n",
       "  </tbody>\n",
       "</table>\n",
       "</div>"
      ],
      "text/plain": [
       "    tipo select clasific  semilla  accuracy  precision    recall  f1_score  \\\n",
       "0  mul_s     RF    LR_L2     6578  0.326923   0.376587  0.322511  0.334450   \n",
       "0  mul_s     RF    LR_L1     6578  0.288462   0.293651  0.292641  0.276307   \n",
       "0  mul_s     RF    LR_EN     6578  0.403846   0.396599  0.416558  0.401021   \n",
       "\n",
       "   roc_auc   hostname  total_time_sec                    datetime  \\\n",
       "0      NaN  amilcar32              32  2023-10-30 20:13:13.417781   \n",
       "0      NaN  amilcar32             613  2023-10-30 20:12:34.236485   \n",
       "0      NaN  amilcar32             519  2023-10-30 20:02:15.046365   \n",
       "\n",
       "                   fichero_modelo  \\\n",
       "0  modelo_6578_mul_s_RF_LR_L2.pkl   \n",
       "0  modelo_6578_mul_s_RF_LR_L1.pkl   \n",
       "0  modelo_6578_mul_s_RF_LR_EN.pkl   \n",
       "\n",
       "                                              params               shape  \\\n",
       "0  {'selector__max_features': 500, 'selector__est...  X_test:(52, 18875)   \n",
       "0  {'selector__max_features': 500, 'selector__est...  X_test:(52, 18875)   \n",
       "0  {'selector__max_features': 500, 'selector__est...  X_test:(52, 18875)   \n",
       "\n",
       "                                            features  roc_auc_ovr  \\\n",
       "0  ['ENSG00000002933.9', 'ENSG00000005381.9', 'EN...     0.796820   \n",
       "0  ['ENSG00000005381.9', 'ENSG00000006625.18', 'E...     0.736950   \n",
       "0  ['ENSG00000005381.9', 'ENSG00000005513.10', 'E...     0.779055   \n",
       "\n",
       "                                         indices_auc  \\\n",
       "0  [0.6607538802660754, 0.8465909090909091, 0.738...   \n",
       "0  [0.5099778270509978, 0.8039772727272727, 0.636...   \n",
       "0  [0.5521064301552107, 0.84375, 0.73011363636363...   \n",
       "\n",
       "                                     indices_jaccard  \n",
       "0  [0.05263157894736842, 0.5, 0.08333333333333333...  \n",
       "0  [0.1111111111111111, 0.1, 0.08333333333333333,...  \n",
       "0  [0.058823529411764705, 0.5, 0.1538461538461538...  "
      ]
     },
     "metadata": {},
     "output_type": "display_data"
    }
   ],
   "source": [
    "if M_TIPO.startswith(\"bin\"):\n",
    "    myfunc.save_metricas_to_csv(random_search, X_test, y_test, M_TIPO, M_SELECT, M_CLASIF, total_time, SEMILLA, myfunc.MET_DIR, M_FICHERO, fichero_modelo)\n",
    "else:\n",
    "    myfunc.save_metricas_multi_to_csv(random_search, X_test, y_test, M_TIPO, M_SELECT, M_CLASIF, total_time, SEMILLA, myfunc.MET_DIR, M_FICHERO, fichero_modelo)\n",
    "\n",
    "df1=myfunc.read_metricas_to_df(myfunc.MET_DIR,M_FICHERO)\n",
    "\n",
    "display(df1.sort_values(\"datetime\", ascending=False)[:3])\n"
   ]
  },
  {
   "cell_type": "markdown",
   "id": "e19afd1d",
   "metadata": {
    "papermill": {
     "duration": 0.026716,
     "end_time": "2023-10-30T19:13:13.625703",
     "exception": false,
     "start_time": "2023-10-30T19:13:13.598987",
     "status": "completed"
    },
    "tags": []
   },
   "source": [
    "#### Guardar resultados"
   ]
  },
  {
   "cell_type": "code",
   "execution_count": 13,
   "id": "3856bd0e",
   "metadata": {
    "execution": {
     "iopub.execute_input": "2023-10-30T19:13:13.672357Z",
     "iopub.status.busy": "2023-10-30T19:13:13.671338Z",
     "iopub.status.idle": "2023-10-30T19:13:13.699205Z",
     "shell.execute_reply": "2023-10-30T19:13:13.697691Z"
    },
    "papermill": {
     "duration": 0.062999,
     "end_time": "2023-10-30T19:13:13.702257",
     "exception": false,
     "start_time": "2023-10-30T19:13:13.639258",
     "status": "completed"
    },
    "tags": []
   },
   "outputs": [
    {
     "name": "stdout",
     "output_type": "stream",
     "text": [
      "20231030T201313 : amilcar32 : INFO : Inicio guardar resultados\n",
      "20231030T201313 : amilcar32 : INFO : Inicio guardar fichero ..\\tfm_viu\\ejecuciones\\metricas\\resultados_6578_mul_s-RF-LR_L2.csv\n",
      "20231030T201313 : amilcar32 : INFO : Fin guardar fichero ..\\tfm_viu\\ejecuciones\\metricas\\resultados_6578_mul_s-RF-LR_L2.csv\n",
      "20231030T201313 : amilcar32 : INFO : Fin guardar resultados\n"
     ]
    }
   ],
   "source": [
    "fichero_resultados=R_FICHERO+\"_\"+M_TIPO+\"-\"+M_SELECT+\"-\"+M_CLASIF+\".csv\"\n",
    "myfunc.save_resultados_to_csv(M_TIPO, M_SELECT, M_CLASIF,  random_search, myfunc.MET_DIR, fichero_resultados)\n"
   ]
  }
 ],
 "metadata": {
  "kernelspec": {
   "display_name": "Python 3 (ipykernel)",
   "language": "python",
   "name": "python3"
  },
  "language_info": {
   "codemirror_mode": {
    "name": "ipython",
    "version": 3
   },
   "file_extension": ".py",
   "mimetype": "text/x-python",
   "name": "python",
   "nbconvert_exporter": "python",
   "pygments_lexer": "ipython3",
   "version": "3.10.12"
  },
  "papermill": {
   "default_parameters": {},
   "duration": 38.624068,
   "end_time": "2023-10-30T19:13:15.068905",
   "environment_variables": {},
   "exception": null,
   "input_path": "03_entrenamiento.ipynb",
   "output_path": "ejecuciones\\training\\03_entrenamiento.20231030T201235.param_0000_6578_mul_s_RF_LR_L2.output.ipynb",
   "parameters": {
    "MAX_ITERS": 500,
    "M_CLASIF": "LR_L2",
    "M_FICHERO": "metricas_6578",
    "M_SELECT": "RF",
    "M_TIPO": "mul_s",
    "PRE_DATA_FILE": "rows_transpose_norm_by_gene_id_with_target_num_",
    "P_FICHERO": "param_0000_6578_mul_s_RF_LR_L2.yaml",
    "R_FICHERO": "resultados_6578",
    "SCORING": "roc_auc_ovr",
    "SEMILLA": 6578,
    "eval_clasifier": "LogisticRegressionCV(random_state=SEMILLA)",
    "eval_selector": "SelectFromModel(estimator=RandomForestClassifier(random_state=SEMILLA), threshold=-np.inf)",
    "param_distributions": {
     "clasifier__max_iter": [
      10000
     ],
     "clasifier__penalty": [
      "l2"
     ],
     "clasifier__solver": [
      "lbfgs"
     ],
     "selector__estimator__n_estimators": [
      200
     ],
     "selector__max_features": [
      500
     ]
    }
   },
   "start_time": "2023-10-30T19:12:36.444837",
   "version": "2.4.0"
  }
 },
 "nbformat": 4,
 "nbformat_minor": 5
}