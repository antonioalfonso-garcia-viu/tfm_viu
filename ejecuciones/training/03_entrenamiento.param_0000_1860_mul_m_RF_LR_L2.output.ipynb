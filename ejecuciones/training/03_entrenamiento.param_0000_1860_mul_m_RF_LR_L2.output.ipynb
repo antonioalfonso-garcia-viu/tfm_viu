{
 "cells": [
  {
   "cell_type": "markdown",
   "id": "a388c5a6",
   "metadata": {
    "papermill": {
     "duration": 0.0,
     "end_time": "2023-10-30T00:45:03.131063",
     "exception": false,
     "start_time": "2023-10-30T00:45:03.131063",
     "status": "completed"
    },
    "tags": []
   },
   "source": [
    "##### Inicio"
   ]
  },
  {
   "cell_type": "markdown",
   "id": "13d5bffe",
   "metadata": {
    "papermill": {
     "duration": 0.0,
     "end_time": "2023-10-30T00:45:03.131063",
     "exception": false,
     "start_time": "2023-10-30T00:45:03.131063",
     "status": "completed"
    },
    "tags": []
   },
   "source": [
    "#### Carga de datos"
   ]
  },
  {
   "cell_type": "code",
   "execution_count": 1,
   "id": "c8ace5d0",
   "metadata": {
    "execution": {
     "iopub.execute_input": "2023-10-30T00:45:03.146698Z",
     "iopub.status.busy": "2023-10-30T00:45:03.146698Z",
     "iopub.status.idle": "2023-10-30T00:45:04.337056Z",
     "shell.execute_reply": "2023-10-30T00:45:04.337056Z"
    },
    "papermill": {
     "duration": 1.205993,
     "end_time": "2023-10-30T00:45:04.337056",
     "exception": false,
     "start_time": "2023-10-30T00:45:03.131063",
     "status": "completed"
    },
    "tags": []
   },
   "outputs": [
    {
     "name": "stdout",
     "output_type": "stream",
     "text": [
      "CPU_COUNT: 24; NODE: amilcar32; sys.version: 3.10.12 | packaged by Anaconda, Inc. | (main, Jul  5 2023, 19:09:20) [MSC v.1916 64 bit (AMD64)]\n",
      "LOKY_MAX_CPU_COUNT is not set.\n",
      "OMP_NUM_THREADS is not set.\n"
     ]
    }
   ],
   "source": [
    "import os\n",
    "import numpy as np\n",
    "import pandas as pd\n",
    "import datetime\n",
    "import sklearn\n",
    "import logging\n",
    "import warnings\n",
    "\n",
    "from sklearn.pipeline import Pipeline\n",
    "from sklearn.model_selection import RandomizedSearchCV, KFold, cross_val_score, train_test_split\n",
    "from sklearn.metrics import accuracy_score, confusion_matrix, classification_report, roc_auc_score\n",
    "\n",
    "#  cargar algoritmos para aprendizaje supervisado\n",
    "from sklearn.feature_selection import SelectKBest, f_classif, SelectFromModel, mutual_info_classif\n",
    "from sklearn.svm import SVC\n",
    "from sklearn.ensemble import RandomForestClassifier\n",
    "from sklearn.linear_model import LogisticRegression,LogisticRegressionCV\n",
    "\n",
    "# importar fichero con utilidades propias\n",
    "from commons import myfunctions as myfunc\n"
   ]
  },
  {
   "cell_type": "markdown",
   "id": "c9e1d9b2",
   "metadata": {
    "papermill": {
     "duration": 0.0,
     "end_time": "2023-10-30T00:45:04.337056",
     "exception": false,
     "start_time": "2023-10-30T00:45:04.337056",
     "status": "completed"
    },
    "tags": []
   },
   "source": [
    "#### Parámetros a utilizar en el entrenamiento.\n",
    "\n",
    "Se indican los 3 algoritmos de *selección de características* (eval_selector_xxx) y los 3 algoritmos para la _clasificación_ (eval_clasifier_xxx)\n",
    "\n",
    "En *param_distributions* se indicar los parámetros que utilizan los algoritmos en la función RandomSearchCV.\n",
    "\n",
    "Esta celda tiene la etiqueta **parameters** que servirá para poder lanzar los entrenamientos con la utilidad **papermill** pasándole un fichero con los parámetros. Los nuevos parámetros se situarán tras esta celda para tener prevalencia."
   ]
  },
  {
   "cell_type": "code",
   "execution_count": 2,
   "id": "71b627de",
   "metadata": {
    "execution": {
     "iopub.execute_input": "2023-10-30T00:45:04.337056Z",
     "iopub.status.busy": "2023-10-30T00:45:04.337056Z",
     "iopub.status.idle": "2023-10-30T00:45:04.368235Z",
     "shell.execute_reply": "2023-10-30T00:45:04.368235Z"
    },
    "papermill": {
     "duration": 0.031179,
     "end_time": "2023-10-30T00:45:04.368235",
     "exception": false,
     "start_time": "2023-10-30T00:45:04.337056",
     "status": "completed"
    },
    "tags": [
     "parameters"
    ]
   },
   "outputs": [
    {
     "name": "stdout",
     "output_type": "stream",
     "text": [
      "20231030T014504 : amilcar32 : INFO : Utilizando parámetros de mul_m\n"
     ]
    }
   ],
   "source": [
    "#  Parametros para el entrenamiento\n",
    "\n",
    "SEMILLA=        42\n",
    "M_TIPO=         \"mul_m\"\n",
    "M_SELECT=       \"MI\"\n",
    "M_CLASIF=       \"SVM\"\n",
    "R_FICHERO=      \"resultados\"\n",
    "M_FICHERO=      \"metricas\"\n",
    "PRE_DATA_FILE=  \"rows_transpose_norm_by_gene_id_with_target_num_\"\n",
    "SCORING=        \"roc_auc_ovr\" \n",
    "MAX_ITERS=      100\n",
    "\n",
    "def mutual_info_classif_state(X, y):\n",
    "    return mutual_info_classif(X, y, random_state=SEMILLA)\n",
    "\n",
    "eval_selector_mi = \"SelectKBest(score_func=mutual_info_classif_state)\"\n",
    "eval_selector_rf=  \"SelectFromModel(estimator=RandomForestClassifier(random_state=SEMILLA), threshold=-np.inf)\"\n",
    "eval_selector_anova=  \"SelectKBest(score_func=f_classif)\"\n",
    "\n",
    "eval_clasifier_svm= \"SVC(probability=True, random_state=SEMILLA)\"\n",
    "eval_clasifier_rf= \"RandomForestClassifier(random_state=SEMILLA)\"\n",
    "eval_clasifier_lr= \"LogisticRegressionCV(random_state=SEMILLA)\"\n",
    "\n",
    "if M_TIPO.startswith(\"bin_m\"):\n",
    "    myfunc.verbose(f\"Utilizando parámetros de {M_TIPO}\")\n",
    "    eval_selector = eval_selector_mi\n",
    "    eval_clasifier = eval_clasifier_svm\n",
    "\n",
    "    SEMILLA = 6578\n",
    "    M_SELECT = \"MI\"\n",
    "    M_CLASIF = \"SVM\"\n",
    "    param_distributions = {'selector__k': [1000], \n",
    "         'clasifier__kernel': ['rbf'], 'clasifier__gamma': [0.01], 'clasifier__C': [100]}\n",
    "elif M_TIPO.startswith(\"bin_s\"):\n",
    "    myfunc.verbose(f\"Utilizando parámetros de {M_TIPO}\")\n",
    "    eval_selector = eval_selector_rf\n",
    "    eval_clasifier = eval_clasifier_lr\n",
    "\n",
    "    SEMILLA = 6191\n",
    "    M_SELECT = \"RF\"\n",
    "    M_CLASIF = \"LR_L2\"\n",
    "    param_distributions = {'selector__max_features': [1000], 'selector__estimator__n_estimators': [200], \n",
    "        'clasifier__solver': ['lbfgs'], 'clasifier__penalty': ['l2'], 'clasifier__max_iter': [10000]}\n",
    "\n",
    "elif M_TIPO.startswith(\"mul_m\"):\n",
    "    myfunc.verbose(f\"Utilizando parámetros de {M_TIPO}\")\n",
    " \n",
    "    eval_selector = eval_selector_rf\n",
    "    eval_clasifier = eval_clasifier_lr\n",
    "\n",
    "    SEMILLA = 6191\n",
    "    M_SELECT = \"RF\"\n",
    "    M_CLASIF = \"LR_L2\"\n",
    "    param_distributions = {'selector__max_features': [1000], 'selector__estimator__n_estimators': [400], \n",
    "        'clasifier__solver': ['lbfgs'], 'clasifier__penalty': ['l2'], 'clasifier__max_iter': [10000]}\n",
    "\n",
    "else:\n",
    "    # M_TIPO.startswith(\"mul_s\"):\n",
    "    myfunc.verbose(f\"Utilizando parámetros de {M_TIPO}\")\n",
    "    eval_selector = eval_selector_anova\n",
    "    eval_clasifier = eval_clasifier_lr\n",
    "\n",
    "    SEMILLA = 1860\n",
    "    M_SELECT = \"ANOVA\"\n",
    "    M_CLASIF = \"LR_L2\"\n",
    "    param_distributions = {'selector__k': [1000], \n",
    "        'clasifier__solver': ['saga'], 'clasifier__penalty': ['l2'], 'clasifier__max_iter': [10000]}\n",
    "\n"
   ]
  },
  {
   "cell_type": "code",
   "execution_count": 3,
   "id": "5fd962e0",
   "metadata": {
    "execution": {
     "iopub.execute_input": "2023-10-30T00:45:04.370481Z",
     "iopub.status.busy": "2023-10-30T00:45:04.370481Z",
     "iopub.status.idle": "2023-10-30T00:45:04.384166Z",
     "shell.execute_reply": "2023-10-30T00:45:04.384166Z"
    },
    "papermill": {
     "duration": 0.013685,
     "end_time": "2023-10-30T00:45:04.384166",
     "exception": false,
     "start_time": "2023-10-30T00:45:04.370481",
     "status": "completed"
    },
    "tags": [
     "injected-parameters"
    ]
   },
   "outputs": [],
   "source": [
    "# Parameters\n",
    "M_TIPO = \"mul_m\"\n",
    "M_SELECT = \"RF\"\n",
    "M_CLASIF = \"LR_L2\"\n",
    "P_FICHERO = \"param_0000_1860_mul_m_RF_LR_L2.yaml\"\n",
    "R_FICHERO = \"resultados_1860\"\n",
    "M_FICHERO = \"metricas_1860\"\n",
    "PRE_DATA_FILE = \"rows_transpose_norm_by_gene_id_with_target_num_\"\n",
    "SCORING = \"roc_auc_ovr\"\n",
    "SEMILLA = 1860\n",
    "MAX_ITERS = 500\n",
    "eval_selector = \"SelectFromModel(estimator=RandomForestClassifier(random_state=SEMILLA), threshold=-np.inf)\"\n",
    "eval_clasifier = \"LogisticRegressionCV(random_state=SEMILLA)\"\n",
    "param_distributions = {\n",
    "    \"selector__max_features\": [1000],\n",
    "    \"selector__estimator__n_estimators\": [400],\n",
    "    \"clasifier__solver\": [\"lbfgs\"],\n",
    "    \"clasifier__penalty\": [\"l2\"],\n",
    "    \"clasifier__max_iter\": [10000],\n",
    "}\n"
   ]
  },
  {
   "cell_type": "code",
   "execution_count": 4,
   "id": "c47410ab",
   "metadata": {
    "execution": {
     "iopub.execute_input": "2023-10-30T00:45:04.384166Z",
     "iopub.status.busy": "2023-10-30T00:45:04.384166Z",
     "iopub.status.idle": "2023-10-30T00:45:04.399893Z",
     "shell.execute_reply": "2023-10-30T00:45:04.399893Z"
    },
    "papermill": {
     "duration": 0.015727,
     "end_time": "2023-10-30T00:45:04.399893",
     "exception": false,
     "start_time": "2023-10-30T00:45:04.384166",
     "status": "completed"
    },
    "tags": []
   },
   "outputs": [],
   "source": [
    "DATA_FILE = PRE_DATA_FILE + M_TIPO\n",
    "\n",
    "# si viene \"None\" en el parámetro max_depth, se le quitan las comillas para que no sea entendido por el algoritmo como un texto\n",
    "if \"clasifier__max_depth\" in param_distributions:\n",
    "    param_distributions['clasifier__max_depth'] = [None if x == 'None' else x for x in param_distributions['clasifier__max_depth']]"
   ]
  },
  {
   "cell_type": "markdown",
   "id": "a51c3322",
   "metadata": {
    "papermill": {
     "duration": 0.0,
     "end_time": "2023-10-30T00:45:04.399893",
     "exception": false,
     "start_time": "2023-10-30T00:45:04.399893",
     "status": "completed"
    },
    "tags": []
   },
   "source": [
    "Asignar los algoritmos que se utilizarán en la función RandomSearchCV"
   ]
  },
  {
   "cell_type": "code",
   "execution_count": 5,
   "id": "3ba4ddd5",
   "metadata": {
    "execution": {
     "iopub.execute_input": "2023-10-30T00:45:04.399893Z",
     "iopub.status.busy": "2023-10-30T00:45:04.399893Z",
     "iopub.status.idle": "2023-10-30T00:45:04.431130Z",
     "shell.execute_reply": "2023-10-30T00:45:04.431130Z"
    },
    "papermill": {
     "duration": 0.031237,
     "end_time": "2023-10-30T00:45:04.431130",
     "exception": false,
     "start_time": "2023-10-30T00:45:04.399893",
     "status": "completed"
    },
    "tags": []
   },
   "outputs": [],
   "source": [
    "algor_selector=eval(eval_selector)\n",
    "algor_clasifier=eval(eval_clasifier)"
   ]
  },
  {
   "cell_type": "markdown",
   "id": "18cccfc9",
   "metadata": {
    "papermill": {
     "duration": 0.0,
     "end_time": "2023-10-30T00:45:04.431130",
     "exception": false,
     "start_time": "2023-10-30T00:45:04.431130",
     "status": "completed"
    },
    "tags": []
   },
   "source": [
    "#### Comprobar el entorno y leer fichero de muestras"
   ]
  },
  {
   "cell_type": "code",
   "execution_count": 6,
   "id": "808fc963",
   "metadata": {
    "execution": {
     "iopub.execute_input": "2023-10-30T00:45:04.446759Z",
     "iopub.status.busy": "2023-10-30T00:45:04.446759Z",
     "iopub.status.idle": "2023-10-30T00:45:04.634615Z",
     "shell.execute_reply": "2023-10-30T00:45:04.634615Z"
    },
    "papermill": {
     "duration": 0.187856,
     "end_time": "2023-10-30T00:45:04.634615",
     "exception": false,
     "start_time": "2023-10-30T00:45:04.446759",
     "status": "completed"
    },
    "tags": []
   },
   "outputs": [
    {
     "name": "stdout",
     "output_type": "stream",
     "text": [
      "20231030T014504 : amilcar32 : INFO : Encontrada carpeta DATA_DIR=..\\tfm_viu\\datos\n",
      "20231030T014504 : amilcar32 : INFO : Encontrada carpeta CFDNA_DIR=..\\tfm_viu\\datos\\cfDNA_5hmC\n",
      "20231030T014504 : amilcar32 : INFO : Encontrada carpeta GENCODE_DIR=..\\tfm_viu\\datos\\gencode\n",
      "20231030T014504 : amilcar32 : INFO : Encontrada carpeta H5_DIR=..\\tfm_viu\\datos\\h5\n",
      "20231030T014504 : amilcar32 : INFO : Encontrada carpeta LOG_DIR=..\\tfm_viu\\datos\\logs\n",
      "20231030T014504 : amilcar32 : INFO : Encontrada carpeta CSV_DIR=..\\tfm_viu\\datos\\csv\n",
      "20231030T014504 : amilcar32 : INFO : Encontrada carpeta MODEL_DIR=..\\tfm_viu\\ejecuciones\\modelos\n",
      "20231030T014504 : amilcar32 : INFO : Encontrada carpeta EXEC_DIR=..\\tfm_viu\\ejecuciones\n",
      "20231030T014504 : amilcar32 : INFO : Encontrada carpeta MET_DIR=..\\tfm_viu\\ejecuciones\\metricas\n",
      "20231030T014504 : amilcar32 : INFO : Inicio leer fichero h5 ..\\tfm_viu\\datos\\h5\\rows_transpose_norm_by_gene_id_with_target_num_mul_m.h5\n",
      "20231030T014504 : amilcar32 : INFO : Leyendo clave /df\n"
     ]
    },
    {
     "name": "stdout",
     "output_type": "stream",
     "text": [
      "20231030T014504 : amilcar32 : INFO : Tamaño (434, 18876)\n",
      "20231030T014504 : amilcar32 : INFO : Fin leer fichero h5 ..\\tfm_viu\\datos\\h5\\rows_transpose_norm_by_gene_id_with_target_num_mul_m.h5\n"
     ]
    },
    {
     "data": {
      "text/plain": [
       "target\n",
       "0    62\n",
       "1    62\n",
       "2    62\n",
       "3    62\n",
       "4    62\n",
       "5    62\n",
       "6    62\n",
       "dtype: int64"
      ]
     },
     "metadata": {},
     "output_type": "display_data"
    },
    {
     "name": "stdout",
     "output_type": "stream",
     "text": [
      "Shape df: (434, 18876)\n",
      "Shape X_train: (347, 18875)\n",
      "Shape X_test: (87, 18875)\n"
     ]
    }
   ],
   "source": [
    "start_time = datetime.datetime.now()\n",
    "\n",
    "myfunc.reset_vars()\n",
    "\n",
    "myfunc.NOTEBK_FILENAME = myfunc.get_nb_name()\n",
    "\n",
    "myfunc.check_enviroment(myfunc.DATA_DIR, myfunc.CFDNA_DIR, myfunc.GENCODE_DIR, myfunc.H5_DIR, myfunc.LOG_DIR, myfunc.CSV_DIR, myfunc.MODEL_DIR, myfunc.EXEC_DIR, myfunc.MET_DIR)\n",
    "\n",
    "# Leer fichero con las muestras\n",
    "df_t = myfunc.read_h5_to_df(DATA_FILE, myfunc.H5_DIR)\n",
    "display(df_t.groupby(\"target\").size())\n",
    "print(\"Shape df:\",df_t.shape)\n",
    "\n",
    "# Separar caracteristicas/genes de las etiquetas/tipos de cáncer\n",
    "X = df_t.iloc[:, :-1]  # Todas las columnas excepto la última\n",
    "y = df_t.iloc[:, -1]  # La última columna contiene los identificadores de los tipos de cáncer\n",
    "\n",
    "#  Crear el conjunto de datos de entrenamiento y de pruebas, y se fija la semilla para siempre coger el mismo juego de muestras\n",
    "X_train, X_test, y_train, y_test = train_test_split(X, y, test_size=0.2, shuffle=True, random_state=42)\n",
    "print(\"Shape X_train:\",X_train.shape)\n",
    "print(\"Shape X_test:\",X_test.shape)\n"
   ]
  },
  {
   "cell_type": "markdown",
   "id": "3f4def96",
   "metadata": {
    "papermill": {
     "duration": 0.0,
     "end_time": "2023-10-30T00:45:04.634615",
     "exception": false,
     "start_time": "2023-10-30T00:45:04.634615",
     "status": "completed"
    },
    "tags": []
   },
   "source": [
    "#### Selección de características y clasificación."
   ]
  },
  {
   "cell_type": "code",
   "execution_count": 7,
   "id": "f0291d96",
   "metadata": {
    "execution": {
     "iopub.execute_input": "2023-10-30T00:45:04.650308Z",
     "iopub.status.busy": "2023-10-30T00:45:04.650308Z",
     "iopub.status.idle": "2023-10-30T00:46:40.541089Z",
     "shell.execute_reply": "2023-10-30T00:46:40.541089Z"
    },
    "papermill": {
     "duration": 95.906474,
     "end_time": "2023-10-30T00:46:40.541089",
     "exception": false,
     "start_time": "2023-10-30T00:45:04.634615",
     "status": "completed"
    },
    "tags": []
   },
   "outputs": [
    {
     "name": "stdout",
     "output_type": "stream",
     "text": [
      "20231030T014504 : amilcar32 : INFO : Iniciando entrenamiento\n",
      "num_iter: 1 , max_iter: 1\n",
      "Fitting 5 folds for each of 1 candidates, totalling 5 fits\n"
     ]
    },
    {
     "name": "stdout",
     "output_type": "stream",
     "text": [
      "Mejores Hiperparámetros: {'selector__max_features': 1000, 'selector__estimator__n_estimators': 400, 'clasifier__solver': 'lbfgs', 'clasifier__penalty': 'l2', 'clasifier__max_iter': 10000}\n",
      "Mejor Puntuación: 0.8749\n",
      "20231030T014640 : amilcar32 : INFO : Fin entrenamiento\n"
     ]
    }
   ],
   "source": [
    "myfunc.verbose(\"Iniciando entrenamiento\")\n",
    "\n",
    "kf = KFold(n_splits=5, shuffle=True, random_state=SEMILLA)\n",
    "\n",
    "# Crear el pipeline para el flujo de tareas\n",
    "tasks_pipeline = Pipeline([\n",
    "    ('selector', algor_selector),\n",
    "    ('clasifier', algor_clasifier)\n",
    "])\n",
    "\n",
    "# MAX_ITERS puede limitar el número de iteraciones si son excesivas para las combinaciones de parámetros buscando un óptimo local, \n",
    "# sino funcionaría como GridSearchCV al revisar todas las cominaciones de los parámetros\n",
    "num_iteraciones = 1\n",
    "num_iteraciones = num_iteraciones * np.prod([len(elemento1) for _, elemento1 in param_distributions.items()])\n",
    "max_iteraciones = num_iteraciones if num_iteraciones <= MAX_ITERS else MAX_ITERS\n",
    "print(\"num_iter:\",num_iteraciones,\", max_iter:\",max_iteraciones)\n",
    "\n",
    "random_search = RandomizedSearchCV(\n",
    "    tasks_pipeline, \n",
    "    param_distributions, \n",
    "    n_iter=max_iteraciones,\n",
    "    scoring=SCORING,\n",
    "    cv=kf,\n",
    "    verbose=3, \n",
    "    random_state=SEMILLA, \n",
    "    n_jobs=-1\n",
    "    )\n",
    "\n",
    "# Entrenar el modelo\n",
    "random_search.fit(X_train, y_train)\n",
    "\n",
    "# Ver los mejores hiperparámetros encontrados\n",
    "print(f'Mejores Hiperparámetros: {random_search.best_params_}')\n",
    "print(f'Mejor Puntuación: {random_search.best_score_:.4f}')\n",
    "\n",
    "# Nos quedamos con el mejor modelo para ver las métricas\n",
    "mejor_modelo = random_search.best_estimator_\n",
    "\n",
    "myfunc.verbose(\"Fin entrenamiento\")"
   ]
  },
  {
   "cell_type": "markdown",
   "id": "49fb12d2",
   "metadata": {
    "papermill": {
     "duration": 0.015633,
     "end_time": "2023-10-30T00:46:40.556722",
     "exception": false,
     "start_time": "2023-10-30T00:46:40.541089",
     "status": "completed"
    },
    "tags": []
   },
   "source": [
    "#### Guardar modelo"
   ]
  },
  {
   "cell_type": "code",
   "execution_count": 8,
   "id": "1729b8ba",
   "metadata": {
    "execution": {
     "iopub.execute_input": "2023-10-30T00:46:40.556722Z",
     "iopub.status.busy": "2023-10-30T00:46:40.556722Z",
     "iopub.status.idle": "2023-10-30T00:46:40.854436Z",
     "shell.execute_reply": "2023-10-30T00:46:40.854436Z"
    },
    "papermill": {
     "duration": 0.297714,
     "end_time": "2023-10-30T00:46:40.854436",
     "exception": false,
     "start_time": "2023-10-30T00:46:40.556722",
     "status": "completed"
    },
    "tags": []
   },
   "outputs": [
    {
     "name": "stdout",
     "output_type": "stream",
     "text": [
      "20231030T014640 : amilcar32 : INFO : Inicio guardar fichero ..\\tfm_viu\\ejecuciones\\modelos\\modelo_1860_mul_m_RF_LR_L2.pkl\n"
     ]
    },
    {
     "name": "stdout",
     "output_type": "stream",
     "text": [
      "20231030T014640 : amilcar32 : INFO : Fin guardar fichero ..\\tfm_viu\\ejecuciones\\modelos\\modelo_1860_mul_m_RF_LR_L2.pkl\n"
     ]
    }
   ],
   "source": [
    "fichero_modelo = str.replace(\"modelo_\"+str(SEMILLA).zfill(4)+\"_\"+M_TIPO+\"_\"+M_SELECT+\"_\"+M_CLASIF+\".pkl\", \" \", \"_\")\n",
    "\n",
    "myfunc.save_modelo(mejor_modelo, myfunc.MODEL_DIR, fichero_modelo)"
   ]
  },
  {
   "cell_type": "markdown",
   "id": "d09ffeda",
   "metadata": {
    "papermill": {
     "duration": 0.015722,
     "end_time": "2023-10-30T00:46:40.870158",
     "exception": false,
     "start_time": "2023-10-30T00:46:40.854436",
     "status": "completed"
    },
    "tags": []
   },
   "source": [
    "#### Ver resultados del las iteraciones hechas por RandomSearchCV"
   ]
  },
  {
   "cell_type": "code",
   "execution_count": 9,
   "id": "87e5d688",
   "metadata": {
    "execution": {
     "iopub.execute_input": "2023-10-30T00:46:40.885770Z",
     "iopub.status.busy": "2023-10-30T00:46:40.885770Z",
     "iopub.status.idle": "2023-10-30T00:46:40.901395Z",
     "shell.execute_reply": "2023-10-30T00:46:40.901395Z"
    },
    "papermill": {
     "duration": 0.015625,
     "end_time": "2023-10-30T00:46:40.901395",
     "exception": false,
     "start_time": "2023-10-30T00:46:40.885770",
     "status": "completed"
    },
    "tags": []
   },
   "outputs": [
    {
     "name": "stdout",
     "output_type": "stream",
     "text": [
      "20231030T014640 : amilcar32 : INFO : Inicio ver resultados\n",
      "Mejores Hiperparámetros: {'selector__max_features': 1000, 'selector__estimator__n_estimators': 400, 'clasifier__solver': 'lbfgs', 'clasifier__penalty': 'l2', 'clasifier__max_iter': 10000}\n",
      "Mejores puntuaciones: 0.8749 | Params: {'selector__max_features': 1000, 'selector__estimator__n_estimators': 400, 'clasifier__solver': 'lbfgs', 'clasifier__penalty': 'l2', 'clasifier__max_iter': 10000}\n",
      "Media de las puntuaciones: 0.8749 | Params: {'selector__max_features': 1000, 'selector__estimator__n_estimators': 400, 'clasifier__solver': 'lbfgs', 'clasifier__penalty': 'l2', 'clasifier__max_iter': 10000}\n",
      "20231030T014640 : amilcar32 : INFO : Fin resultados\n"
     ]
    }
   ],
   "source": [
    "myfunc.ver_resultados_search(random_search)"
   ]
  },
  {
   "cell_type": "markdown",
   "id": "36dfd900",
   "metadata": {
    "papermill": {
     "duration": 0.015634,
     "end_time": "2023-10-30T00:46:40.917029",
     "exception": false,
     "start_time": "2023-10-30T00:46:40.901395",
     "status": "completed"
    },
    "tags": []
   },
   "source": [
    "#### Ver métricas del mejor modelo"
   ]
  },
  {
   "cell_type": "code",
   "execution_count": 10,
   "id": "ea1beb35",
   "metadata": {
    "execution": {
     "iopub.execute_input": "2023-10-30T00:46:40.917029Z",
     "iopub.status.busy": "2023-10-30T00:46:40.917029Z",
     "iopub.status.idle": "2023-10-30T00:46:42.636462Z",
     "shell.execute_reply": "2023-10-30T00:46:42.636462Z"
    },
    "papermill": {
     "duration": 1.719433,
     "end_time": "2023-10-30T00:46:42.636462",
     "exception": false,
     "start_time": "2023-10-30T00:46:40.917029",
     "status": "completed"
    },
    "tags": []
   },
   "outputs": [
    {
     "name": "stdout",
     "output_type": "stream",
     "text": [
      "20231030T014640 : amilcar32 : INFO : Inicio ver métricas multiclase\n"
     ]
    },
    {
     "name": "stdout",
     "output_type": "stream",
     "text": [
      "              precision    recall  f1-score   support\n",
      "\n",
      "           0       0.44      0.25      0.32        16\n",
      "           1       0.77      0.67      0.71        15\n",
      "           2       0.50      0.45      0.48        11\n",
      "           3       0.21      0.80      0.33         5\n",
      "           4       0.73      0.62      0.67        13\n",
      "           5       0.71      0.56      0.63         9\n",
      "           6       0.61      0.61      0.61        18\n",
      "\n",
      "    accuracy                           0.54        87\n",
      "   macro avg       0.57      0.56      0.54        87\n",
      "weighted avg       0.60      0.54      0.55        87\n",
      "\n",
      "\n",
      "\n",
      "           Exactitud: 0.540230\n",
      "   Precisión (media): 0.568124\n",
      "      Recall (media): 0.564752\n",
      "    F1-score (media): 0.535227\n",
      "\n",
      "\n",
      "AUC para el tipo de cáncer 0-Control.... 0.7553\n",
      "AUC para el tipo de cáncer 1-Bladder.... 0.8954\n",
      "AUC para el tipo de cáncer 2-Breast..... 0.8062\n",
      "AUC para el tipo de cáncer 3-Colorectal. 0.8927\n",
      "AUC para el tipo de cáncer 4-Kidney..... 0.8721\n",
      "AUC para el tipo de cáncer 5-Lung....... 0.9815\n",
      "AUC para el tipo de cáncer 6-Prostate... 0.8454\n",
      "\n",
      "Media de AUC: 0.8641\n"
     ]
    },
    {
     "data": {
      "image/png": "[encoded data removed]",
      "text/plain": [
       "<Figure size 1000x600 with 1 Axes>"
      ]
     },
     "metadata": {},
     "output_type": "display_data"
    },
    {
     "name": "stdout",
     "output_type": "stream",
     "text": [
      "\n",
      "\n"
     ]
    },
    {
     "data": {
      "image/png": "[encoded data removed]",
      "text/plain": [
       "<Figure size 800x400 with 2 Axes>"
      ]
     },
     "metadata": {},
     "output_type": "display_data"
    },
    {
     "name": "stdout",
     "output_type": "stream",
     "text": [
      "\n",
      "\n",
      "Puntuación Jaccard para el cáncer tipo 0-Control.... 0.1905\n",
      "Puntuación Jaccard para el cáncer tipo 1-Bladder.... 0.5556\n",
      "Puntuación Jaccard para el cáncer tipo 2-Breast..... 0.3125\n",
      "Puntuación Jaccard para el cáncer tipo 3-Colorectal. 0.2000\n",
      "Puntuación Jaccard para el cáncer tipo 4-Kidney..... 0.5000\n",
      "Puntuación Jaccard para el cáncer tipo 5-Lung....... 0.4545\n",
      "Puntuación Jaccard para el cáncer tipo 6-Prostate... 0.4400\n",
      "\n",
      "Media de la puntuación de Jaccard: 0.3790\n"
     ]
    }
   ],
   "source": [
    "if M_TIPO.startswith(\"bin\"):\n",
    "    myfunc.ver_metricas(mejor_modelo, X_test, y_test)\n",
    "else:\n",
    "    myfunc.ver_metricas_multi(mejor_modelo, X_test, y_test)\n"
   ]
  },
  {
   "cell_type": "markdown",
   "id": "2b2cec5d",
   "metadata": {
    "papermill": {
     "duration": 0.031262,
     "end_time": "2023-10-30T00:46:42.667724",
     "exception": false,
     "start_time": "2023-10-30T00:46:42.636462",
     "status": "completed"
    },
    "tags": []
   },
   "source": [
    "#### Finalización del notebook"
   ]
  },
  {
   "cell_type": "code",
   "execution_count": 11,
   "id": "c06cd2d7",
   "metadata": {
    "execution": {
     "iopub.execute_input": "2023-10-30T00:46:42.688752Z",
     "iopub.status.busy": "2023-10-30T00:46:42.688752Z",
     "iopub.status.idle": "2023-10-30T00:46:42.698846Z",
     "shell.execute_reply": "2023-10-30T00:46:42.698846Z"
    },
    "papermill": {
     "duration": 0.031122,
     "end_time": "2023-10-30T00:46:42.698846",
     "exception": false,
     "start_time": "2023-10-30T00:46:42.667724",
     "status": "completed"
    },
    "tags": []
   },
   "outputs": [
    {
     "name": "stdout",
     "output_type": "stream",
     "text": [
      "20231030T014642 : amilcar32 : INFO : Notebook ha tardado 98 seconds\n"
     ]
    }
   ],
   "source": [
    "end_time = datetime.datetime.now()\n",
    "total_time = end_time - start_time\n",
    "myfunc.verbose(f\"Notebook ha tardado {total_time.seconds} seconds\")"
   ]
  },
  {
   "cell_type": "markdown",
   "id": "6d11126c",
   "metadata": {
    "papermill": {
     "duration": 0.015591,
     "end_time": "2023-10-30T00:46:42.730184",
     "exception": false,
     "start_time": "2023-10-30T00:46:42.714593",
     "status": "completed"
    },
    "tags": []
   },
   "source": [
    "#### Guardar métricas"
   ]
  },
  {
   "cell_type": "code",
   "execution_count": 12,
   "id": "fd7111c7",
   "metadata": {
    "execution": {
     "iopub.execute_input": "2023-10-30T00:46:42.761431Z",
     "iopub.status.busy": "2023-10-30T00:46:42.761431Z",
     "iopub.status.idle": "2023-10-30T00:46:44.452519Z",
     "shell.execute_reply": "2023-10-30T00:46:44.452519Z"
    },
    "papermill": {
     "duration": 1.706698,
     "end_time": "2023-10-30T00:46:44.452519",
     "exception": false,
     "start_time": "2023-10-30T00:46:42.745821",
     "status": "completed"
    },
    "tags": []
   },
   "outputs": [
    {
     "name": "stdout",
     "output_type": "stream",
     "text": [
      "20231030T014643 : amilcar32 : INFO : Inicio guardar métricas multiclase\n",
      "20231030T014643 : amilcar32 : INFO : Inicio leer fichero ..\\tfm_viu\\ejecuciones\\metricas\\metricas_1860.csv\n",
      "20231030T014643 : amilcar32 : INFO : Fin leer fichero ..\\tfm_viu\\ejecuciones\\metricas\\metricas_1860.csv\n"
     ]
    },
    {
     "name": "stdout",
     "output_type": "stream",
     "text": [
      "20231030T014644 : amilcar32 : INFO : Inicio guardar fichero ..\\tfm_viu\\ejecuciones\\metricas\\metricas_1860.csv\n",
      "20231030T014644 : amilcar32 : INFO : Fichero borrado ..\\tfm_viu\\ejecuciones\\metricas\\metricas_1860.csv\n",
      "20231030T014644 : amilcar32 : INFO : Fin guardar fichero ..\\tfm_viu\\ejecuciones\\metricas\\metricas_1860.csv\n",
      "20231030T014644 : amilcar32 : INFO : Fin guardar métricas multiclase\n",
      "20231030T014644 : amilcar32 : INFO : Inicio leer fichero ..\\tfm_viu\\ejecuciones\\metricas\\metricas_1860.csv\n",
      "20231030T014644 : amilcar32 : INFO : Fin leer fichero ..\\tfm_viu\\ejecuciones\\metricas\\metricas_1860.csv\n"
     ]
    },
    {
     "data": {
      "text/html": [
       "<div>\n",
       "<style scoped>\n",
       "    .dataframe tbody tr th:only-of-type {\n",
       "        vertical-align: middle;\n",
       "    }\n",
       "\n",
       "    .dataframe tbody tr th {\n",
       "        vertical-align: top;\n",
       "    }\n",
       "\n",
       "    .dataframe thead th {\n",
       "        text-align: right;\n",
       "    }\n",
       "</style>\n",
       "<table border=\"1\" class=\"dataframe\">\n",
       "  <thead>\n",
       "    <tr style=\"text-align: right;\">\n",
       "      <th></th>\n",
       "      <th>tipo</th>\n",
       "      <th>select</th>\n",
       "      <th>clasific</th>\n",
       "      <th>semilla</th>\n",
       "      <th>accuracy</th>\n",
       "      <th>precision</th>\n",
       "      <th>recall</th>\n",
       "      <th>f1_score</th>\n",
       "      <th>roc_auc</th>\n",
       "      <th>hostname</th>\n",
       "      <th>total_time_sec</th>\n",
       "      <th>datetime</th>\n",
       "      <th>fichero_modelo</th>\n",
       "      <th>params</th>\n",
       "      <th>shape</th>\n",
       "      <th>features</th>\n",
       "      <th>roc_auc_ovr</th>\n",
       "      <th>indices_auc</th>\n",
       "      <th>indices_jaccard</th>\n",
       "    </tr>\n",
       "  </thead>\n",
       "  <tbody>\n",
       "    <tr>\n",
       "      <th>0</th>\n",
       "      <td>mul_m</td>\n",
       "      <td>RF</td>\n",
       "      <td>LR_L2</td>\n",
       "      <td>1860</td>\n",
       "      <td>0.540230</td>\n",
       "      <td>0.568124</td>\n",
       "      <td>0.564752</td>\n",
       "      <td>0.535227</td>\n",
       "      <td>NaN</td>\n",
       "      <td>amilcar32</td>\n",
       "      <td>98</td>\n",
       "      <td>2023-10-30 01:46:44.327523</td>\n",
       "      <td>modelo_1860_mul_m_RF_LR_L2.pkl</td>\n",
       "      <td>{'selector__max_features': 1000, 'selector__es...</td>\n",
       "      <td>X_test:(87, 18875)</td>\n",
       "      <td>['ENSG00000002587.10', 'ENSG00000005381.9', 'E...</td>\n",
       "      <td>0.864084</td>\n",
       "      <td>[0.755281690140845, 0.8953703703703704, 0.8062...</td>\n",
       "      <td>[0.19047619047619047, 0.5555555555555556, 0.31...</td>\n",
       "    </tr>\n",
       "    <tr>\n",
       "      <th>0</th>\n",
       "      <td>mul_m</td>\n",
       "      <td>RF</td>\n",
       "      <td>LR_L1</td>\n",
       "      <td>1860</td>\n",
       "      <td>0.517241</td>\n",
       "      <td>0.525974</td>\n",
       "      <td>0.557641</td>\n",
       "      <td>0.511907</td>\n",
       "      <td>NaN</td>\n",
       "      <td>amilcar32</td>\n",
       "      <td>2745</td>\n",
       "      <td>2023-10-30 01:44:59.404723</td>\n",
       "      <td>modelo_1860_mul_m_RF_LR_L1.pkl</td>\n",
       "      <td>{'selector__max_features': 1000, 'selector__es...</td>\n",
       "      <td>X_test:(87, 18875)</td>\n",
       "      <td>['ENSG00000002587.10', 'ENSG00000005381.9', 'E...</td>\n",
       "      <td>0.851562</td>\n",
       "      <td>[0.6778169014084507, 0.875, 0.8026315789473685...</td>\n",
       "      <td>[0.22727272727272727, 0.5, 0.2222222222222222,...</td>\n",
       "    </tr>\n",
       "    <tr>\n",
       "      <th>0</th>\n",
       "      <td>mul_m</td>\n",
       "      <td>RF</td>\n",
       "      <td>LR_EN</td>\n",
       "      <td>1860</td>\n",
       "      <td>0.540230</td>\n",
       "      <td>0.563152</td>\n",
       "      <td>0.570628</td>\n",
       "      <td>0.535663</td>\n",
       "      <td>NaN</td>\n",
       "      <td>amilcar32</td>\n",
       "      <td>2295</td>\n",
       "      <td>2023-10-30 00:59:07.250034</td>\n",
       "      <td>modelo_1860_mul_m_RF_LR_EN.pkl</td>\n",
       "      <td>{'selector__max_features': 1000, 'selector__es...</td>\n",
       "      <td>X_test:(87, 18875)</td>\n",
       "      <td>['ENSG00000002587.10', 'ENSG00000005381.9', 'E...</td>\n",
       "      <td>0.855729</td>\n",
       "      <td>[0.7112676056338028, 0.887962962962963, 0.7990...</td>\n",
       "      <td>[0.25, 0.5, 0.2777777777777778, 0.210526315789...</td>\n",
       "    </tr>\n",
       "  </tbody>\n",
       "</table>\n",
       "</div>"
      ],
      "text/plain": [
       "    tipo select clasific  semilla  accuracy  precision    recall  f1_score  \\\n",
       "0  mul_m     RF    LR_L2     1860  0.540230   0.568124  0.564752  0.535227   \n",
       "0  mul_m     RF    LR_L1     1860  0.517241   0.525974  0.557641  0.511907   \n",
       "0  mul_m     RF    LR_EN     1860  0.540230   0.563152  0.570628  0.535663   \n",
       "\n",
       "   roc_auc   hostname  total_time_sec                    datetime  \\\n",
       "0      NaN  amilcar32              98  2023-10-30 01:46:44.327523   \n",
       "0      NaN  amilcar32            2745  2023-10-30 01:44:59.404723   \n",
       "0      NaN  amilcar32            2295  2023-10-30 00:59:07.250034   \n",
       "\n",
       "                   fichero_modelo  \\\n",
       "0  modelo_1860_mul_m_RF_LR_L2.pkl   \n",
       "0  modelo_1860_mul_m_RF_LR_L1.pkl   \n",
       "0  modelo_1860_mul_m_RF_LR_EN.pkl   \n",
       "\n",
       "                                              params               shape  \\\n",
       "0  {'selector__max_features': 1000, 'selector__es...  X_test:(87, 18875)   \n",
       "0  {'selector__max_features': 1000, 'selector__es...  X_test:(87, 18875)   \n",
       "0  {'selector__max_features': 1000, 'selector__es...  X_test:(87, 18875)   \n",
       "\n",
       "                                            features  roc_auc_ovr  \\\n",
       "0  ['ENSG00000002587.10', 'ENSG00000005381.9', 'E...     0.864084   \n",
       "0  ['ENSG00000002587.10', 'ENSG00000005381.9', 'E...     0.851562   \n",
       "0  ['ENSG00000002587.10', 'ENSG00000005381.9', 'E...     0.855729   \n",
       "\n",
       "                                         indices_auc  \\\n",
       "0  [0.755281690140845, 0.8953703703703704, 0.8062...   \n",
       "0  [0.6778169014084507, 0.875, 0.8026315789473685...   \n",
       "0  [0.7112676056338028, 0.887962962962963, 0.7990...   \n",
       "\n",
       "                                     indices_jaccard  \n",
       "0  [0.19047619047619047, 0.5555555555555556, 0.31...  \n",
       "0  [0.22727272727272727, 0.5, 0.2222222222222222,...  \n",
       "0  [0.25, 0.5, 0.2777777777777778, 0.210526315789...  "
      ]
     },
     "metadata": {},
     "output_type": "display_data"
    }
   ],
   "source": [
    "if M_TIPO.startswith(\"bin\"):\n",
    "    myfunc.save_metricas_to_csv(random_search, X_test, y_test, M_TIPO, M_SELECT, M_CLASIF, total_time, SEMILLA, myfunc.MET_DIR, M_FICHERO, fichero_modelo)\n",
    "else:\n",
    "    myfunc.save_metricas_multi_to_csv(random_search, X_test, y_test, M_TIPO, M_SELECT, M_CLASIF, total_time, SEMILLA, myfunc.MET_DIR, M_FICHERO, fichero_modelo)\n",
    "\n",
    "df1=myfunc.read_metricas_to_df(myfunc.MET_DIR,M_FICHERO)\n",
    "\n",
    "display(df1.sort_values(\"datetime\", ascending=False)[:3])\n"
   ]
  },
  {
   "cell_type": "markdown",
   "id": "8e35be82",
   "metadata": {
    "papermill": {
     "duration": 0.015636,
     "end_time": "2023-10-30T00:46:44.483784",
     "exception": false,
     "start_time": "2023-10-30T00:46:44.468148",
     "status": "completed"
    },
    "tags": []
   },
   "source": [
    "#### Guardar resultados"
   ]
  },
  {
   "cell_type": "code",
   "execution_count": 13,
   "id": "963084f1",
   "metadata": {
    "execution": {
     "iopub.execute_input": "2023-10-30T00:46:44.515019Z",
     "iopub.status.busy": "2023-10-30T00:46:44.515019Z",
     "iopub.status.idle": "2023-10-30T00:46:44.546199Z",
     "shell.execute_reply": "2023-10-30T00:46:44.546199Z"
    },
    "papermill": {
     "duration": 0.046772,
     "end_time": "2023-10-30T00:46:44.546199",
     "exception": false,
     "start_time": "2023-10-30T00:46:44.499427",
     "status": "completed"
    },
    "tags": []
   },
   "outputs": [
    {
     "name": "stdout",
     "output_type": "stream",
     "text": [
      "20231030T014644 : amilcar32 : INFO : Inicio guardar resultados\n",
      "20231030T014644 : amilcar32 : INFO : Inicio guardar fichero ..\\tfm_viu\\ejecuciones\\metricas\\resultados_1860_mul_m-RF-LR_L2.csv\n",
      "20231030T014644 : amilcar32 : INFO : Fin guardar fichero ..\\tfm_viu\\ejecuciones\\metricas\\resultados_1860_mul_m-RF-LR_L2.csv\n",
      "20231030T014644 : amilcar32 : INFO : Fin guardar resultados\n"
     ]
    }
   ],
   "source": [
    "fichero_resultados=R_FICHERO+\"_\"+M_TIPO+\"-\"+M_SELECT+\"-\"+M_CLASIF+\".csv\"\n",
    "myfunc.save_resultados_to_csv(M_TIPO, M_SELECT, M_CLASIF,  random_search, myfunc.MET_DIR, fichero_resultados)\n"
   ]
  }
 ],
 "metadata": {
  "kernelspec": {
   "display_name": "Python 3 (ipykernel)",
   "language": "python",
   "name": "python3"
  },
  "language_info": {
   "codemirror_mode": {
    "name": "ipython",
    "version": 3
   },
   "file_extension": ".py",
   "mimetype": "text/x-python",
   "name": "python",
   "nbconvert_exporter": "python",
   "pygments_lexer": "ipython3",
   "version": "3.10.12"
  },
  "papermill": {
   "default_parameters": {},
   "duration": 104.470691,
   "end_time": "2023-10-30T00:46:45.784360",
   "environment_variables": {},
   "exception": null,
   "input_path": "03_entrenamiento.ipynb",
   "output_path": "ejecuciones\\training\\03_entrenamiento.20231030T_14500.param_0000_1860_mul_m_RF_LR_L2.output.ipynb",
   "parameters": {
    "MAX_ITERS": 500,
    "M_CLASIF": "LR_L2",
    "M_FICHERO": "metricas_1860",
    "M_SELECT": "RF",
    "M_TIPO": "mul_m",
    "PRE_DATA_FILE": "rows_transpose_norm_by_gene_id_with_target_num_",
    "P_FICHERO": "param_0000_1860_mul_m_RF_LR_L2.yaml",
    "R_FICHERO": "resultados_1860",
    "SCORING": "roc_auc_ovr",
    "SEMILLA": 1860,
    "eval_clasifier": "LogisticRegressionCV(random_state=SEMILLA)",
    "eval_selector": "SelectFromModel(estimator=RandomForestClassifier(random_state=SEMILLA), threshold=-np.inf)",
    "param_distributions": {
     "clasifier__max_iter": [
      10000
     ],
     "clasifier__penalty": [
      "l2"
     ],
     "clasifier__solver": [
      "lbfgs"
     ],
     "selector__estimator__n_estimators": [
      400
     ],
     "selector__max_features": [
      1000
     ]
    }
   },
   "start_time": "2023-10-30T00:45:01.313669",
   "version": "2.4.0"
  }
 },
 "nbformat": 4,
 "nbformat_minor": 5
}