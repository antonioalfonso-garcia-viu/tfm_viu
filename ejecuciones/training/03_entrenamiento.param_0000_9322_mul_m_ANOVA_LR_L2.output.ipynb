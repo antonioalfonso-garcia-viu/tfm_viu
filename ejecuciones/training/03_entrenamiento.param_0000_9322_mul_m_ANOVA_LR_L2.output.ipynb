{
 "cells": [
  {
   "cell_type": "markdown",
   "id": "b9bf077a",
   "metadata": {
    "papermill": {
     "duration": 0.005537,
     "end_time": "2023-10-30T04:00:22.117170",
     "exception": false,
     "start_time": "2023-10-30T04:00:22.111633",
     "status": "completed"
    },
    "tags": []
   },
   "source": [
    "##### Inicio"
   ]
  },
  {
   "cell_type": "markdown",
   "id": "a5db9aa2",
   "metadata": {
    "papermill": {
     "duration": 0.003425,
     "end_time": "2023-10-30T04:00:22.124304",
     "exception": false,
     "start_time": "2023-10-30T04:00:22.120879",
     "status": "completed"
    },
    "tags": []
   },
   "source": [
    "#### Carga de datos"
   ]
  },
  {
   "cell_type": "code",
   "execution_count": 1,
   "id": "62434874",
   "metadata": {
    "execution": {
     "iopub.execute_input": "2023-10-30T04:00:22.132697Z",
     "iopub.status.busy": "2023-10-30T04:00:22.132026Z",
     "iopub.status.idle": "2023-10-30T04:00:23.239996Z",
     "shell.execute_reply": "2023-10-30T04:00:23.239354Z"
    },
    "papermill": {
     "duration": 1.1137,
     "end_time": "2023-10-30T04:00:23.241392",
     "exception": false,
     "start_time": "2023-10-30T04:00:22.127692",
     "status": "completed"
    },
    "tags": []
   },
   "outputs": [
    {
     "name": "stdout",
     "output_type": "stream",
     "text": [
      "CPU_COUNT: 16; NODE: enderlab; sys.version: 3.10.11 (main, May 16 2023, 00:28:57) [GCC 11.2.0]\n",
      "LOKY_MAX_CPU_COUNT is not set.\n",
      "OMP_NUM_THREADS is not set.\n"
     ]
    }
   ],
   "source": [
    "import os\n",
    "import numpy as np\n",
    "import pandas as pd\n",
    "import datetime\n",
    "import sklearn\n",
    "import logging\n",
    "import warnings\n",
    "\n",
    "from sklearn.pipeline import Pipeline\n",
    "from sklearn.model_selection import RandomizedSearchCV, KFold, cross_val_score, train_test_split\n",
    "from sklearn.metrics import accuracy_score, confusion_matrix, classification_report, roc_auc_score\n",
    "\n",
    "#  cargar algoritmos para aprendizaje supervisado\n",
    "from sklearn.feature_selection import SelectKBest, f_classif, SelectFromModel, mutual_info_classif\n",
    "from sklearn.svm import SVC\n",
    "from sklearn.ensemble import RandomForestClassifier\n",
    "from sklearn.linear_model import LogisticRegression,LogisticRegressionCV\n",
    "\n",
    "# importar fichero con utilidades propias\n",
    "from commons import myfunctions as myfunc\n"
   ]
  },
  {
   "cell_type": "markdown",
   "id": "f0632630",
   "metadata": {
    "papermill": {
     "duration": 0.003532,
     "end_time": "2023-10-30T04:00:23.248980",
     "exception": false,
     "start_time": "2023-10-30T04:00:23.245448",
     "status": "completed"
    },
    "tags": []
   },
   "source": [
    "#### Parámetros a utilizar en el entrenamiento.\n",
    "\n",
    "Se indican los 3 algoritmos de *selección de características* (eval_selector_xxx) y los 3 algoritmos para la _clasificación_ (eval_clasifier_xxx)\n",
    "\n",
    "En *param_distributions* se indicar los parámetros que utilizan los algoritmos en la función RandomSearchCV.\n",
    "\n",
    "Esta celda tiene la etiqueta **parameters** que servirá para poder lanzar los entrenamientos con la utilidad **papermill** pasándole un fichero con los parámetros. Los nuevos parámetros se situarán tras esta celda para tener prevalencia."
   ]
  },
  {
   "cell_type": "code",
   "execution_count": 2,
   "id": "db63acd1",
   "metadata": {
    "execution": {
     "iopub.execute_input": "2023-10-30T04:00:23.257462Z",
     "iopub.status.busy": "2023-10-30T04:00:23.257119Z",
     "iopub.status.idle": "2023-10-30T04:00:23.265858Z",
     "shell.execute_reply": "2023-10-30T04:00:23.265300Z"
    },
    "papermill": {
     "duration": 0.01447,
     "end_time": "2023-10-30T04:00:23.267121",
     "exception": false,
     "start_time": "2023-10-30T04:00:23.252651",
     "status": "completed"
    },
    "tags": [
     "parameters"
    ]
   },
   "outputs": [
    {
     "name": "stdout",
     "output_type": "stream",
     "text": [
      "20231030T050023 : enderlab : INFO : Utilizando parámetros de mul_m\n"
     ]
    }
   ],
   "source": [
    "#  Parametros para el entrenamiento\n",
    "\n",
    "SEMILLA=        42\n",
    "M_TIPO=         \"mul_m\"\n",
    "M_SELECT=       \"MI\"\n",
    "M_CLASIF=       \"SVM\"\n",
    "R_FICHERO=      \"resultados\"\n",
    "M_FICHERO=      \"metricas\"\n",
    "PRE_DATA_FILE=  \"rows_transpose_norm_by_gene_id_with_target_num_\"\n",
    "SCORING=        \"roc_auc_ovr\" \n",
    "MAX_ITERS=      100\n",
    "\n",
    "def mutual_info_classif_state(X, y):\n",
    "    return mutual_info_classif(X, y, random_state=SEMILLA)\n",
    "\n",
    "eval_selector_mi = \"SelectKBest(score_func=mutual_info_classif_state)\"\n",
    "eval_selector_rf=  \"SelectFromModel(estimator=RandomForestClassifier(random_state=SEMILLA), threshold=-np.inf)\"\n",
    "eval_selector_anova=  \"SelectKBest(score_func=f_classif)\"\n",
    "\n",
    "eval_clasifier_svm= \"SVC(probability=True, random_state=SEMILLA)\"\n",
    "eval_clasifier_rf= \"RandomForestClassifier(random_state=SEMILLA)\"\n",
    "eval_clasifier_lr= \"LogisticRegressionCV(random_state=SEMILLA)\"\n",
    "\n",
    "if M_TIPO.startswith(\"bin_m\"):\n",
    "    myfunc.verbose(f\"Utilizando parámetros de {M_TIPO}\")\n",
    "    eval_selector = eval_selector_mi\n",
    "    eval_clasifier = eval_clasifier_svm\n",
    "\n",
    "    SEMILLA = 6578\n",
    "    M_SELECT = \"MI\"\n",
    "    M_CLASIF = \"SVM\"\n",
    "    param_distributions = {'selector__k': [1000], \n",
    "         'clasifier__kernel': ['rbf'], 'clasifier__gamma': [0.01], 'clasifier__C': [100]}\n",
    "elif M_TIPO.startswith(\"bin_s\"):\n",
    "    myfunc.verbose(f\"Utilizando parámetros de {M_TIPO}\")\n",
    "    eval_selector = eval_selector_rf\n",
    "    eval_clasifier = eval_clasifier_lr\n",
    "\n",
    "    SEMILLA = 6191\n",
    "    M_SELECT = \"RF\"\n",
    "    M_CLASIF = \"LR_L2\"\n",
    "    param_distributions = {'selector__max_features': [1000], 'selector__estimator__n_estimators': [200], \n",
    "        'clasifier__solver': ['lbfgs'], 'clasifier__penalty': ['l2'], 'clasifier__max_iter': [10000]}\n",
    "\n",
    "elif M_TIPO.startswith(\"mul_m\"):\n",
    "    myfunc.verbose(f\"Utilizando parámetros de {M_TIPO}\")\n",
    " \n",
    "    eval_selector = eval_selector_rf\n",
    "    eval_clasifier = eval_clasifier_lr\n",
    "\n",
    "    SEMILLA = 6191\n",
    "    M_SELECT = \"RF\"\n",
    "    M_CLASIF = \"LR_L2\"\n",
    "    param_distributions = {'selector__max_features': [1000], 'selector__estimator__n_estimators': [400], \n",
    "        'clasifier__solver': ['lbfgs'], 'clasifier__penalty': ['l2'], 'clasifier__max_iter': [10000]}\n",
    "\n",
    "else:\n",
    "    # M_TIPO.startswith(\"mul_s\"):\n",
    "    myfunc.verbose(f\"Utilizando parámetros de {M_TIPO}\")\n",
    "    eval_selector = eval_selector_anova\n",
    "    eval_clasifier = eval_clasifier_lr\n",
    "\n",
    "    SEMILLA = 1860\n",
    "    M_SELECT = \"ANOVA\"\n",
    "    M_CLASIF = \"LR_L2\"\n",
    "    param_distributions = {'selector__k': [1000], \n",
    "        'clasifier__solver': ['saga'], 'clasifier__penalty': ['l2'], 'clasifier__max_iter': [10000]}\n",
    "\n"
   ]
  },
  {
   "cell_type": "code",
   "execution_count": 3,
   "id": "51322c0d",
   "metadata": {
    "execution": {
     "iopub.execute_input": "2023-10-30T04:00:23.275333Z",
     "iopub.status.busy": "2023-10-30T04:00:23.274936Z",
     "iopub.status.idle": "2023-10-30T04:00:23.278878Z",
     "shell.execute_reply": "2023-10-30T04:00:23.278339Z"
    },
    "papermill": {
     "duration": 0.009358,
     "end_time": "2023-10-30T04:00:23.280094",
     "exception": false,
     "start_time": "2023-10-30T04:00:23.270736",
     "status": "completed"
    },
    "tags": [
     "injected-parameters"
    ]
   },
   "outputs": [],
   "source": [
    "# Parameters\n",
    "M_TIPO = \"mul_m\"\n",
    "M_SELECT = \"ANOVA\"\n",
    "M_CLASIF = \"LR_L2\"\n",
    "P_FICHERO = \"param_0000_9322_mul_m_ANOVA_LR_L2.yaml\"\n",
    "R_FICHERO = \"resultados_9322\"\n",
    "M_FICHERO = \"metricas_9322\"\n",
    "PRE_DATA_FILE = \"rows_transpose_norm_by_gene_id_with_target_num_\"\n",
    "SCORING = \"roc_auc_ovr\"\n",
    "SEMILLA = 9322\n",
    "MAX_ITERS = 500\n",
    "eval_selector = \"SelectKBest(score_func=f_classif)\"\n",
    "eval_clasifier = \"LogisticRegressionCV(random_state=SEMILLA)\"\n",
    "param_distributions = {\n",
    "    \"selector__k\": [1000],\n",
    "    \"clasifier__solver\": [\"lbfgs\"],\n",
    "    \"clasifier__penalty\": [\"l2\"],\n",
    "    \"clasifier__max_iter\": [10000],\n",
    "}\n"
   ]
  },
  {
   "cell_type": "code",
   "execution_count": 4,
   "id": "b092e246",
   "metadata": {
    "execution": {
     "iopub.execute_input": "2023-10-30T04:00:23.288276Z",
     "iopub.status.busy": "2023-10-30T04:00:23.287893Z",
     "iopub.status.idle": "2023-10-30T04:00:23.291182Z",
     "shell.execute_reply": "2023-10-30T04:00:23.290659Z"
    },
    "papermill": {
     "duration": 0.008752,
     "end_time": "2023-10-30T04:00:23.292461",
     "exception": false,
     "start_time": "2023-10-30T04:00:23.283709",
     "status": "completed"
    },
    "tags": []
   },
   "outputs": [],
   "source": [
    "DATA_FILE = PRE_DATA_FILE + M_TIPO\n",
    "\n",
    "# si viene \"None\" en el parámetro max_depth, se le quitan las comillas para que no sea entendido por el algoritmo como un texto\n",
    "if \"clasifier__max_depth\" in param_distributions:\n",
    "    param_distributions['clasifier__max_depth'] = [None if x == 'None' else x for x in param_distributions['clasifier__max_depth']]"
   ]
  },
  {
   "cell_type": "markdown",
   "id": "c4ab042d",
   "metadata": {
    "papermill": {
     "duration": 0.003765,
     "end_time": "2023-10-30T04:00:23.299775",
     "exception": false,
     "start_time": "2023-10-30T04:00:23.296010",
     "status": "completed"
    },
    "tags": []
   },
   "source": [
    "Asignar los algoritmos que se utilizarán en la función RandomSearchCV"
   ]
  },
  {
   "cell_type": "code",
   "execution_count": 5,
   "id": "9ae0379a",
   "metadata": {
    "execution": {
     "iopub.execute_input": "2023-10-30T04:00:23.308743Z",
     "iopub.status.busy": "2023-10-30T04:00:23.308202Z",
     "iopub.status.idle": "2023-10-30T04:00:23.311309Z",
     "shell.execute_reply": "2023-10-30T04:00:23.310755Z"
    },
    "papermill": {
     "duration": 0.00892,
     "end_time": "2023-10-30T04:00:23.312762",
     "exception": false,
     "start_time": "2023-10-30T04:00:23.303842",
     "status": "completed"
    },
    "tags": []
   },
   "outputs": [],
   "source": [
    "algor_selector=eval(eval_selector)\n",
    "algor_clasifier=eval(eval_clasifier)"
   ]
  },
  {
   "cell_type": "markdown",
   "id": "e540ccd6",
   "metadata": {
    "papermill": {
     "duration": 0.00377,
     "end_time": "2023-10-30T04:00:23.320178",
     "exception": false,
     "start_time": "2023-10-30T04:00:23.316408",
     "status": "completed"
    },
    "tags": []
   },
   "source": [
    "#### Comprobar el entorno y leer fichero de muestras"
   ]
  },
  {
   "cell_type": "code",
   "execution_count": 6,
   "id": "0d39ff4c",
   "metadata": {
    "execution": {
     "iopub.execute_input": "2023-10-30T04:00:23.328514Z",
     "iopub.status.busy": "2023-10-30T04:00:23.328099Z",
     "iopub.status.idle": "2023-10-30T04:00:23.578229Z",
     "shell.execute_reply": "2023-10-30T04:00:23.577618Z"
    },
    "papermill": {
     "duration": 0.255801,
     "end_time": "2023-10-30T04:00:23.579588",
     "exception": false,
     "start_time": "2023-10-30T04:00:23.323787",
     "status": "completed"
    },
    "tags": []
   },
   "outputs": [
    {
     "name": "stdout",
     "output_type": "stream",
     "text": [
      "20231030T050023 : enderlab : INFO : Encontrada carpeta DATA_DIR=../tfm_git/datos\n",
      "20231030T050023 : enderlab : INFO : Encontrada carpeta CFDNA_DIR=../tfm_git/datos/cfDNA_5hmC\n",
      "20231030T050023 : enderlab : INFO : Encontrada carpeta GENCODE_DIR=../tfm_git/datos/gencode\n",
      "20231030T050023 : enderlab : INFO : Encontrada carpeta H5_DIR=../tfm_git/datos/h5\n",
      "20231030T050023 : enderlab : INFO : Encontrada carpeta LOG_DIR=../tfm_git/datos/logs\n",
      "20231030T050023 : enderlab : INFO : Encontrada carpeta CSV_DIR=../tfm_git/datos/csv\n",
      "20231030T050023 : enderlab : INFO : Encontrada carpeta MODEL_DIR=../tfm_git/ejecuciones/modelos\n",
      "20231030T050023 : enderlab : INFO : Encontrada carpeta EXEC_DIR=../tfm_git/ejecuciones\n",
      "20231030T050023 : enderlab : INFO : Encontrada carpeta MET_DIR=../tfm_git/ejecuciones/metricas\n",
      "20231030T050023 : enderlab : INFO : Inicio leer fichero h5 ../tfm_git/datos/h5/rows_transpose_norm_by_gene_id_with_target_num_mul_m.h5\n",
      "20231030T050023 : enderlab : INFO : Leyendo clave /df\n"
     ]
    },
    {
     "name": "stdout",
     "output_type": "stream",
     "text": [
      "20231030T050023 : enderlab : INFO : Tamaño (434, 18876)\n",
      "20231030T050023 : enderlab : INFO : Fin leer fichero h5 ../tfm_git/datos/h5/rows_transpose_norm_by_gene_id_with_target_num_mul_m.h5\n"
     ]
    },
    {
     "data": {
      "text/plain": [
       "target\n",
       "0    62\n",
       "1    62\n",
       "2    62\n",
       "3    62\n",
       "4    62\n",
       "5    62\n",
       "6    62\n",
       "dtype: int64"
      ]
     },
     "metadata": {},
     "output_type": "display_data"
    },
    {
     "name": "stdout",
     "output_type": "stream",
     "text": [
      "Shape df: (434, 18876)\n"
     ]
    },
    {
     "name": "stdout",
     "output_type": "stream",
     "text": [
      "Shape X_train: (347, 18875)\n",
      "Shape X_test: (87, 18875)\n"
     ]
    }
   ],
   "source": [
    "start_time = datetime.datetime.now()\n",
    "\n",
    "myfunc.reset_vars()\n",
    "\n",
    "myfunc.NOTEBK_FILENAME = myfunc.get_nb_name()\n",
    "\n",
    "myfunc.check_enviroment(myfunc.DATA_DIR, myfunc.CFDNA_DIR, myfunc.GENCODE_DIR, myfunc.H5_DIR, myfunc.LOG_DIR, myfunc.CSV_DIR, myfunc.MODEL_DIR, myfunc.EXEC_DIR, myfunc.MET_DIR)\n",
    "\n",
    "# Leer fichero con las muestras\n",
    "df_t = myfunc.read_h5_to_df(DATA_FILE, myfunc.H5_DIR)\n",
    "display(df_t.groupby(\"target\").size())\n",
    "print(\"Shape df:\",df_t.shape)\n",
    "\n",
    "# Separar caracteristicas/genes de las etiquetas/tipos de cáncer\n",
    "X = df_t.iloc[:, :-1]  # Todas las columnas excepto la última\n",
    "y = df_t.iloc[:, -1]  # La última columna contiene los identificadores de los tipos de cáncer\n",
    "\n",
    "#  Crear el conjunto de datos de entrenamiento y de pruebas, y se fija la semilla para siempre coger el mismo juego de muestras\n",
    "X_train, X_test, y_train, y_test = train_test_split(X, y, test_size=0.2, shuffle=True, random_state=42)\n",
    "print(\"Shape X_train:\",X_train.shape)\n",
    "print(\"Shape X_test:\",X_test.shape)\n"
   ]
  },
  {
   "cell_type": "markdown",
   "id": "98abc407",
   "metadata": {
    "papermill": {
     "duration": 0.004042,
     "end_time": "2023-10-30T04:00:23.588298",
     "exception": false,
     "start_time": "2023-10-30T04:00:23.584256",
     "status": "completed"
    },
    "tags": []
   },
   "source": [
    "#### Selección de características y clasificación."
   ]
  },
  {
   "cell_type": "code",
   "execution_count": 7,
   "id": "fb15a0a8",
   "metadata": {
    "execution": {
     "iopub.execute_input": "2023-10-30T04:00:23.597851Z",
     "iopub.status.busy": "2023-10-30T04:00:23.597308Z",
     "iopub.status.idle": "2023-10-30T04:00:53.983664Z",
     "shell.execute_reply": "2023-10-30T04:00:53.982876Z"
    },
    "papermill": {
     "duration": 30.397444,
     "end_time": "2023-10-30T04:00:53.989731",
     "exception": false,
     "start_time": "2023-10-30T04:00:23.592287",
     "status": "completed"
    },
    "tags": []
   },
   "outputs": [
    {
     "name": "stdout",
     "output_type": "stream",
     "text": [
      "20231030T050023 : enderlab : INFO : Iniciando entrenamiento\n",
      "num_iter: 1 , max_iter: 1\n",
      "Fitting 5 folds for each of 1 candidates, totalling 5 fits\n"
     ]
    },
    {
     "name": "stderr",
     "output_type": "stream",
     "text": [
      "/home/expsiviu/miniconda3/envs/viu/lib/python3.10/site-packages/sklearn/feature_selection/_univariate_selection.py:112: UserWarning: Features [  298  1508  1733  2010  2222  2265  2266  2553  2803  2896  3415  4075\n",
      "  5533  5803  6984  7416  8791  9087  9490 10475 11020 11562 11613 11943\n",
      " 12249 12480 12831 13836 13848 13959 14015 14795 14941 15397 15401 15515\n",
      " 15516 15563 15824 16276 16313 16323 16339 16372 16701 16870 16905 16906\n",
      " 17024 17093 17231 17274 17540 17741 18245 18368 18374 18405 18608] are constant.\n",
      "  warnings.warn(\"Features %s are constant.\" % constant_features_idx, UserWarning)\n",
      "/home/expsiviu/miniconda3/envs/viu/lib/python3.10/site-packages/sklearn/feature_selection/_univariate_selection.py:113: RuntimeWarning: invalid value encountered in true_divide\n",
      "  f = msb / msw\n",
      "/home/expsiviu/miniconda3/envs/viu/lib/python3.10/site-packages/sklearn/feature_selection/_univariate_selection.py:112: UserWarning: Features [  298  1508  1733  1846  2010  2265  2266  2553  2803  2896  3415  3492\n",
      "  4075  5668  5803  6984  7416  7780  8791  9087  9490 10035 10475 11020\n",
      " 11565 11613 11943 12249 12480 12831 12888 13235 13259 13300 13836 13848\n",
      " 13959 14000 14015 14245 14637 14795 14941 15397 15515 15563 15824 16018\n",
      " 16268 16276 16278 16279 16281 16287 16313 16323 16339 16372 16701 16870\n",
      " 16905 16906 17024 17093 17231 17274 17312 18288 18368 18374 18405 18486\n",
      " 18608 18692 18693 18868] are constant.\n",
      "  warnings.warn(\"Features %s are constant.\" % constant_features_idx, UserWarning)\n",
      "/home/expsiviu/miniconda3/envs/viu/lib/python3.10/site-packages/sklearn/feature_selection/_univariate_selection.py:113: RuntimeWarning: invalid value encountered in true_divide\n",
      "  f = msb / msw\n",
      "/home/expsiviu/miniconda3/envs/viu/lib/python3.10/site-packages/sklearn/feature_selection/_univariate_selection.py:112: UserWarning: Features [  298  1508  1733  2010  2265  2266  2553  2688  2803  2896  3415  4075\n",
      "  5803  6981  6984  6993  7416  7418  8510  8791  9087  9490 10475 11020\n",
      " 11022 11613 11943 12249 12480 12831 13836 13848 13959 14015 14244 14789\n",
      " 14795 14941 15397 15515 15563 15824 16267 16276 16313 16323 16339 16372\n",
      " 16679 16701 16704 16819 16870 16905 16906 17024 17093 17231 17274 17418\n",
      " 18368 18374 18405 18530 18608] are constant.\n",
      "  warnings.warn(\"Features %s are constant.\" % constant_features_idx, UserWarning)\n",
      "/home/expsiviu/miniconda3/envs/viu/lib/python3.10/site-packages/sklearn/feature_selection/_univariate_selection.py:113: RuntimeWarning: invalid value encountered in true_divide\n",
      "  f = msb / msw\n",
      "/home/expsiviu/miniconda3/envs/viu/lib/python3.10/site-packages/sklearn/feature_selection/_univariate_selection.py:112: UserWarning: Features [  298  1508  1733  2010  2265  2266  2271  2553  2803  2896  3415  4075\n",
      "  5803  6984  7416  8791  9087  9490 10475 11020 11613 11943 12249 12480\n",
      " 12831 13836 13848 13959 14015 14735 14795 14941 15183 15397 15515 15563\n",
      " 15824 16258 16260 16276 16313 16323 16339 16372 16522 16630 16701 16870\n",
      " 16905 16906 16968 17024 17091 17093 17231 17274 18368 18374 18405 18608] are constant.\n",
      "  warnings.warn(\"Features %s are constant.\" % constant_features_idx, UserWarning)\n",
      "/home/expsiviu/miniconda3/envs/viu/lib/python3.10/site-packages/sklearn/feature_selection/_univariate_selection.py:113: RuntimeWarning: invalid value encountered in true_divide\n",
      "  f = msb / msw\n",
      "/home/expsiviu/miniconda3/envs/viu/lib/python3.10/site-packages/sklearn/feature_selection/_univariate_selection.py:112: UserWarning: Features [  298  1508  1733  2010  2265  2266  2553  2803  2896  3415  4075  5803\n",
      "  6053  6984  7416  8513  8791  9087  9490 10475 11020 11613 11943 11946\n",
      " 12249 12433 12480 12831 13047 13836 13848 13860 13959 14015 14795 14941\n",
      " 15397 15515 15563 15824 15881 16262 16276 16313 16323 16339 16372 16479\n",
      " 16520 16701 16870 16905 16906 16956 17024 17093 17231 17264 17274 17566\n",
      " 18368 18374 18405 18546 18608] are constant.\n",
      "  warnings.warn(\"Features %s are constant.\" % constant_features_idx, UserWarning)\n",
      "/home/expsiviu/miniconda3/envs/viu/lib/python3.10/site-packages/sklearn/feature_selection/_univariate_selection.py:113: RuntimeWarning: invalid value encountered in true_divide\n",
      "  f = msb / msw\n"
     ]
    },
    {
     "name": "stderr",
     "output_type": "stream",
     "text": [
      "/home/expsiviu/miniconda3/envs/viu/lib/python3.10/site-packages/sklearn/feature_selection/_univariate_selection.py:112: UserWarning: Features [  298  1508  1733  2010  2265  2266  2553  2803  2896  3415  4075  5803\n",
      "  6984  7416  8791  9087  9490 10475 11020 11613 11943 12249 12480 12831\n",
      " 13836 13848 13959 14015 14795 14941 15397 15515 15563 15824 16276 16313\n",
      " 16323 16339 16372 16701 16870 16905 16906 17024 17093 17231 17274 18368\n",
      " 18374 18405 18608] are constant.\n",
      "  warnings.warn(\"Features %s are constant.\" % constant_features_idx, UserWarning)\n",
      "/home/expsiviu/miniconda3/envs/viu/lib/python3.10/site-packages/sklearn/feature_selection/_univariate_selection.py:113: RuntimeWarning: invalid value encountered in true_divide\n",
      "  f = msb / msw\n"
     ]
    },
    {
     "name": "stdout",
     "output_type": "stream",
     "text": [
      "Mejores Hiperparámetros: {'selector__k': 1000, 'clasifier__solver': 'lbfgs', 'clasifier__penalty': 'l2', 'clasifier__max_iter': 10000}\n",
      "Mejor Puntuación: 0.8660\n",
      "20231030T050053 : enderlab : INFO : Fin entrenamiento\n"
     ]
    }
   ],
   "source": [
    "myfunc.verbose(\"Iniciando entrenamiento\")\n",
    "\n",
    "kf = KFold(n_splits=5, shuffle=True, random_state=SEMILLA)\n",
    "\n",
    "# Crear el pipeline para el flujo de tareas\n",
    "tasks_pipeline = Pipeline([\n",
    "    ('selector', algor_selector),\n",
    "    ('clasifier', algor_clasifier)\n",
    "])\n",
    "\n",
    "# MAX_ITERS puede limitar el número de iteraciones si son excesivas para las combinaciones de parámetros buscando un óptimo local, \n",
    "# sino funcionaría como GridSearchCV al revisar todas las cominaciones de los parámetros\n",
    "num_iteraciones = 1\n",
    "num_iteraciones = num_iteraciones * np.prod([len(elemento1) for _, elemento1 in param_distributions.items()])\n",
    "max_iteraciones = num_iteraciones if num_iteraciones <= MAX_ITERS else MAX_ITERS\n",
    "print(\"num_iter:\",num_iteraciones,\", max_iter:\",max_iteraciones)\n",
    "\n",
    "random_search = RandomizedSearchCV(\n",
    "    tasks_pipeline, \n",
    "    param_distributions, \n",
    "    n_iter=max_iteraciones,\n",
    "    scoring=SCORING,\n",
    "    cv=kf,\n",
    "    verbose=3, \n",
    "    random_state=SEMILLA, \n",
    "    n_jobs=-1\n",
    "    )\n",
    "\n",
    "# Entrenar el modelo\n",
    "random_search.fit(X_train, y_train)\n",
    "\n",
    "# Ver los mejores hiperparámetros encontrados\n",
    "print(f'Mejores Hiperparámetros: {random_search.best_params_}')\n",
    "print(f'Mejor Puntuación: {random_search.best_score_:.4f}')\n",
    "\n",
    "# Nos quedamos con el mejor modelo para ver las métricas\n",
    "mejor_modelo = random_search.best_estimator_\n",
    "\n",
    "myfunc.verbose(\"Fin entrenamiento\")"
   ]
  },
  {
   "cell_type": "markdown",
   "id": "260d6aaa",
   "metadata": {
    "papermill": {
     "duration": 0.004117,
     "end_time": "2023-10-30T04:00:53.998185",
     "exception": false,
     "start_time": "2023-10-30T04:00:53.994068",
     "status": "completed"
    },
    "tags": []
   },
   "source": [
    "#### Guardar modelo"
   ]
  },
  {
   "cell_type": "code",
   "execution_count": 8,
   "id": "fc312e25",
   "metadata": {
    "execution": {
     "iopub.execute_input": "2023-10-30T04:00:54.019923Z",
     "iopub.status.busy": "2023-10-30T04:00:54.017291Z",
     "iopub.status.idle": "2023-10-30T04:00:54.031701Z",
     "shell.execute_reply": "2023-10-30T04:00:54.031037Z"
    },
    "papermill": {
     "duration": 0.030561,
     "end_time": "2023-10-30T04:00:54.032951",
     "exception": false,
     "start_time": "2023-10-30T04:00:54.002390",
     "status": "completed"
    },
    "tags": []
   },
   "outputs": [
    {
     "name": "stdout",
     "output_type": "stream",
     "text": [
      "20231030T050054 : enderlab : INFO : Inicio guardar fichero ../tfm_git/ejecuciones/modelos/modelo_9322_mul_m_ANOVA_LR_L2.pkl\n",
      "20231030T050054 : enderlab : INFO : Fin guardar fichero ../tfm_git/ejecuciones/modelos/modelo_9322_mul_m_ANOVA_LR_L2.pkl\n"
     ]
    }
   ],
   "source": [
    "fichero_modelo = str.replace(\"modelo_\"+str(SEMILLA).zfill(4)+\"_\"+M_TIPO+\"_\"+M_SELECT+\"_\"+M_CLASIF+\".pkl\", \" \", \"_\")\n",
    "\n",
    "myfunc.save_modelo(mejor_modelo, myfunc.MODEL_DIR, fichero_modelo)"
   ]
  },
  {
   "cell_type": "markdown",
   "id": "0914ad61",
   "metadata": {
    "papermill": {
     "duration": 0.004205,
     "end_time": "2023-10-30T04:00:54.041492",
     "exception": false,
     "start_time": "2023-10-30T04:00:54.037287",
     "status": "completed"
    },
    "tags": []
   },
   "source": [
    "#### Ver resultados del las iteraciones hechas por RandomSearchCV"
   ]
  },
  {
   "cell_type": "code",
   "execution_count": 9,
   "id": "19d29611",
   "metadata": {
    "execution": {
     "iopub.execute_input": "2023-10-30T04:00:54.051018Z",
     "iopub.status.busy": "2023-10-30T04:00:54.050512Z",
     "iopub.status.idle": "2023-10-30T04:00:54.057210Z",
     "shell.execute_reply": "2023-10-30T04:00:54.056641Z"
    },
    "papermill": {
     "duration": 0.012765,
     "end_time": "2023-10-30T04:00:54.058395",
     "exception": false,
     "start_time": "2023-10-30T04:00:54.045630",
     "status": "completed"
    },
    "tags": []
   },
   "outputs": [
    {
     "name": "stdout",
     "output_type": "stream",
     "text": [
      "20231030T050054 : enderlab : INFO : Inicio ver resultados\n",
      "Mejores Hiperparámetros: {'selector__k': 1000, 'clasifier__solver': 'lbfgs', 'clasifier__penalty': 'l2', 'clasifier__max_iter': 10000}\n",
      "Mejores puntuaciones: 0.8660 | Params: {'selector__k': 1000, 'clasifier__solver': 'lbfgs', 'clasifier__penalty': 'l2', 'clasifier__max_iter': 10000}\n",
      "Media de las puntuaciones: 0.8660 | Params: {'selector__k': 1000, 'clasifier__solver': 'lbfgs', 'clasifier__penalty': 'l2', 'clasifier__max_iter': 10000}\n",
      "20231030T050054 : enderlab : INFO : Fin resultados\n"
     ]
    }
   ],
   "source": [
    "myfunc.ver_resultados_search(random_search)"
   ]
  },
  {
   "cell_type": "markdown",
   "id": "1a662176",
   "metadata": {
    "papermill": {
     "duration": 0.004283,
     "end_time": "2023-10-30T04:00:54.066940",
     "exception": false,
     "start_time": "2023-10-30T04:00:54.062657",
     "status": "completed"
    },
    "tags": []
   },
   "source": [
    "#### Ver métricas del mejor modelo"
   ]
  },
  {
   "cell_type": "code",
   "execution_count": 10,
   "id": "7b317eea",
   "metadata": {
    "execution": {
     "iopub.execute_input": "2023-10-30T04:00:54.079961Z",
     "iopub.status.busy": "2023-10-30T04:00:54.079534Z",
     "iopub.status.idle": "2023-10-30T04:00:54.814440Z",
     "shell.execute_reply": "2023-10-30T04:00:54.813826Z"
    },
    "papermill": {
     "duration": 0.74135,
     "end_time": "2023-10-30T04:00:54.815939",
     "exception": false,
     "start_time": "2023-10-30T04:00:54.074589",
     "status": "completed"
    },
    "tags": []
   },
   "outputs": [
    {
     "name": "stdout",
     "output_type": "stream",
     "text": [
      "20231030T050054 : enderlab : INFO : Inicio ver métricas multiclase\n"
     ]
    },
    {
     "name": "stdout",
     "output_type": "stream",
     "text": [
      "              precision    recall  f1-score   support\n",
      "\n",
      "           0       0.60      0.38      0.46        16\n",
      "           1       0.75      0.60      0.67        15\n",
      "           2       0.33      0.36      0.35        11\n",
      "           3       0.36      0.80      0.50         5\n",
      "           4       0.57      0.62      0.59        13\n",
      "           5       0.78      0.78      0.78         9\n",
      "           6       0.63      0.67      0.65        18\n",
      "\n",
      "    accuracy                           0.57        87\n",
      "   macro avg       0.58      0.60      0.57        87\n",
      "weighted avg       0.60      0.57      0.58        87\n",
      "\n"
     ]
    },
    {
     "name": "stdout",
     "output_type": "stream",
     "text": [
      "\n",
      "\n",
      "           Exactitud: 0.574713\n",
      "   Precisión (media): 0.575394\n",
      "      Recall (media): 0.599781\n",
      "    F1-score (media): 0.570721\n",
      "\n",
      "\n",
      "AUC para el tipo de cáncer 0-Control.... 0.7790\n",
      "AUC para el tipo de cáncer 1-Bladder.... 0.8796\n",
      "AUC para el tipo de cáncer 2-Breast..... 0.7859\n",
      "AUC para el tipo de cáncer 3-Colorectal. 0.9854\n",
      "AUC para el tipo de cáncer 4-Kidney..... 0.8659\n",
      "AUC para el tipo de cáncer 5-Lung....... 0.9687\n",
      "AUC para el tipo de cáncer 6-Prostate... 0.8341\n",
      "\n",
      "Media de AUC: 0.8712\n"
     ]
    },
    {
     "data": {
      "image/png": "[encoded data removed]",
      "text/plain": [
       "<Figure size 1000x600 with 1 Axes>"
      ]
     },
     "metadata": {},
     "output_type": "display_data"
    },
    {
     "name": "stdout",
     "output_type": "stream",
     "text": [
      "\n",
      "\n"
     ]
    },
    {
     "data": {
      "image/png": "[encoded data removed]",
      "text/plain": [
       "<Figure size 800x400 with 2 Axes>"
      ]
     },
     "metadata": {},
     "output_type": "display_data"
    },
    {
     "name": "stdout",
     "output_type": "stream",
     "text": [
      "\n",
      "\n",
      "Puntuación Jaccard para el cáncer tipo 0-Control.... 0.3000\n",
      "Puntuación Jaccard para el cáncer tipo 1-Bladder.... 0.5000\n",
      "Puntuación Jaccard para el cáncer tipo 2-Breast..... 0.2105\n",
      "Puntuación Jaccard para el cáncer tipo 3-Colorectal. 0.3333\n",
      "Puntuación Jaccard para el cáncer tipo 4-Kidney..... 0.4211\n",
      "Puntuación Jaccard para el cáncer tipo 5-Lung....... 0.6364\n",
      "Puntuación Jaccard para el cáncer tipo 6-Prostate... 0.4800\n",
      "\n",
      "Media de la puntuación de Jaccard: 0.4116\n"
     ]
    }
   ],
   "source": [
    "if M_TIPO.startswith(\"bin\"):\n",
    "    myfunc.ver_metricas(mejor_modelo, X_test, y_test)\n",
    "else:\n",
    "    myfunc.ver_metricas_multi(mejor_modelo, X_test, y_test)\n"
   ]
  },
  {
   "cell_type": "markdown",
   "id": "f76d14c8",
   "metadata": {
    "papermill": {
     "duration": 0.006205,
     "end_time": "2023-10-30T04:00:54.829296",
     "exception": false,
     "start_time": "2023-10-30T04:00:54.823091",
     "status": "completed"
    },
    "tags": []
   },
   "source": [
    "#### Finalización del notebook"
   ]
  },
  {
   "cell_type": "code",
   "execution_count": 11,
   "id": "18281883",
   "metadata": {
    "execution": {
     "iopub.execute_input": "2023-10-30T04:00:54.842567Z",
     "iopub.status.busy": "2023-10-30T04:00:54.842059Z",
     "iopub.status.idle": "2023-10-30T04:00:54.845924Z",
     "shell.execute_reply": "2023-10-30T04:00:54.845374Z"
    },
    "papermill": {
     "duration": 0.011937,
     "end_time": "2023-10-30T04:00:54.847271",
     "exception": false,
     "start_time": "2023-10-30T04:00:54.835334",
     "status": "completed"
    },
    "tags": []
   },
   "outputs": [
    {
     "name": "stdout",
     "output_type": "stream",
     "text": [
      "20231030T050054 : enderlab : INFO : Notebook ha tardado 31 seconds\n"
     ]
    }
   ],
   "source": [
    "end_time = datetime.datetime.now()\n",
    "total_time = end_time - start_time\n",
    "myfunc.verbose(f\"Notebook ha tardado {total_time.seconds} seconds\")"
   ]
  },
  {
   "cell_type": "markdown",
   "id": "5d1099a7",
   "metadata": {
    "papermill": {
     "duration": 0.007226,
     "end_time": "2023-10-30T04:00:54.860497",
     "exception": false,
     "start_time": "2023-10-30T04:00:54.853271",
     "status": "completed"
    },
    "tags": []
   },
   "source": [
    "#### Guardar métricas"
   ]
  },
  {
   "cell_type": "code",
   "execution_count": 12,
   "id": "3de1cf7f",
   "metadata": {
    "execution": {
     "iopub.execute_input": "2023-10-30T04:00:54.874756Z",
     "iopub.status.busy": "2023-10-30T04:00:54.874275Z",
     "iopub.status.idle": "2023-10-30T04:00:55.117079Z",
     "shell.execute_reply": "2023-10-30T04:00:55.116503Z"
    },
    "papermill": {
     "duration": 0.251939,
     "end_time": "2023-10-30T04:00:55.118410",
     "exception": false,
     "start_time": "2023-10-30T04:00:54.866471",
     "status": "completed"
    },
    "tags": []
   },
   "outputs": [
    {
     "name": "stdout",
     "output_type": "stream",
     "text": [
      "20231030T050054 : enderlab : INFO : Inicio guardar métricas multiclase\n",
      "20231030T050054 : enderlab : INFO : Inicio leer fichero ../tfm_git/ejecuciones/metricas/metricas_9322.csv\n",
      "20231030T050054 : enderlab : INFO : Fin leer fichero ../tfm_git/ejecuciones/metricas/metricas_9322.csv\n"
     ]
    },
    {
     "name": "stdout",
     "output_type": "stream",
     "text": [
      "20231030T050055 : enderlab : INFO : Inicio guardar fichero ../tfm_git/ejecuciones/metricas/metricas_9322.csv\n",
      "20231030T050055 : enderlab : INFO : Fichero borrado ../tfm_git/ejecuciones/metricas/metricas_9322.csv\n"
     ]
    },
    {
     "name": "stdout",
     "output_type": "stream",
     "text": [
      "20231030T050055 : enderlab : INFO : Fin guardar fichero ../tfm_git/ejecuciones/metricas/metricas_9322.csv\n",
      "20231030T050055 : enderlab : INFO : Fin guardar métricas multiclase\n",
      "20231030T050055 : enderlab : INFO : Inicio leer fichero ../tfm_git/ejecuciones/metricas/metricas_9322.csv\n",
      "20231030T050055 : enderlab : INFO : Fin leer fichero ../tfm_git/ejecuciones/metricas/metricas_9322.csv\n"
     ]
    },
    {
     "data": {
      "text/html": [
       "<div>\n",
       "<style scoped>\n",
       "    .dataframe tbody tr th:only-of-type {\n",
       "        vertical-align: middle;\n",
       "    }\n",
       "\n",
       "    .dataframe tbody tr th {\n",
       "        vertical-align: top;\n",
       "    }\n",
       "\n",
       "    .dataframe thead th {\n",
       "        text-align: right;\n",
       "    }\n",
       "</style>\n",
       "<table border=\"1\" class=\"dataframe\">\n",
       "  <thead>\n",
       "    <tr style=\"text-align: right;\">\n",
       "      <th></th>\n",
       "      <th>tipo</th>\n",
       "      <th>select</th>\n",
       "      <th>clasific</th>\n",
       "      <th>semilla</th>\n",
       "      <th>accuracy</th>\n",
       "      <th>precision</th>\n",
       "      <th>recall</th>\n",
       "      <th>f1_score</th>\n",
       "      <th>roc_auc</th>\n",
       "      <th>hostname</th>\n",
       "      <th>total_time_sec</th>\n",
       "      <th>datetime</th>\n",
       "      <th>fichero_modelo</th>\n",
       "      <th>params</th>\n",
       "      <th>shape</th>\n",
       "      <th>features</th>\n",
       "      <th>roc_auc_ovr</th>\n",
       "      <th>indices_auc</th>\n",
       "      <th>indices_jaccard</th>\n",
       "    </tr>\n",
       "  </thead>\n",
       "  <tbody>\n",
       "    <tr>\n",
       "      <th>0</th>\n",
       "      <td>mul_m</td>\n",
       "      <td>ANOVA</td>\n",
       "      <td>LR_L2</td>\n",
       "      <td>9322</td>\n",
       "      <td>0.574713</td>\n",
       "      <td>0.575394</td>\n",
       "      <td>0.599781</td>\n",
       "      <td>0.570721</td>\n",
       "      <td>NaN</td>\n",
       "      <td>enderlab</td>\n",
       "      <td>31</td>\n",
       "      <td>2023-10-30 05:00:55.072118</td>\n",
       "      <td>modelo_9322_mul_m_ANOVA_LR_L2.pkl</td>\n",
       "      <td>{'selector__k': 1000, 'clasifier__solver': 'lb...</td>\n",
       "      <td>X_test:(87, 18875)</td>\n",
       "      <td>['ENSG00000000938.13', 'ENSG00000002919.15', '...</td>\n",
       "      <td>0.871233</td>\n",
       "      <td>[0.7790492957746479, 0.8796296296296297, 0.785...</td>\n",
       "      <td>[0.3, 0.5, 0.21052631578947367, 0.333333333333...</td>\n",
       "    </tr>\n",
       "    <tr>\n",
       "      <th>0</th>\n",
       "      <td>mul_m</td>\n",
       "      <td>ANOVA</td>\n",
       "      <td>LR_L1</td>\n",
       "      <td>9322</td>\n",
       "      <td>0.609195</td>\n",
       "      <td>0.609265</td>\n",
       "      <td>0.637569</td>\n",
       "      <td>0.613586</td>\n",
       "      <td>NaN</td>\n",
       "      <td>enderlab</td>\n",
       "      <td>1622</td>\n",
       "      <td>2023-10-30 05:00:16.580646</td>\n",
       "      <td>modelo_9322_mul_m_ANOVA_LR_L1.pkl</td>\n",
       "      <td>{'selector__k': 1000, 'clasifier__solver': 'sa...</td>\n",
       "      <td>X_test:(87, 18875)</td>\n",
       "      <td>['ENSG00000000938.13', 'ENSG00000002919.15', '...</td>\n",
       "      <td>0.865713</td>\n",
       "      <td>[0.7684859154929577, 0.8583333333333334, 0.785...</td>\n",
       "      <td>[0.3333333333333333, 0.47368421052631576, 0.27...</td>\n",
       "    </tr>\n",
       "    <tr>\n",
       "      <th>0</th>\n",
       "      <td>mul_m</td>\n",
       "      <td>ANOVA</td>\n",
       "      <td>LR_EN</td>\n",
       "      <td>9322</td>\n",
       "      <td>0.620690</td>\n",
       "      <td>0.627038</td>\n",
       "      <td>0.648558</td>\n",
       "      <td>0.622170</td>\n",
       "      <td>NaN</td>\n",
       "      <td>enderlab</td>\n",
       "      <td>1778</td>\n",
       "      <td>2023-10-30 04:33:07.331471</td>\n",
       "      <td>modelo_9322_mul_m_ANOVA_LR_EN.pkl</td>\n",
       "      <td>{'selector__k': 1000, 'clasifier__solver': 'sa...</td>\n",
       "      <td>X_test:(87, 18875)</td>\n",
       "      <td>['ENSG00000000938.13', 'ENSG00000002919.15', '...</td>\n",
       "      <td>0.870584</td>\n",
       "      <td>[0.7588028169014085, 0.8740740740740741, 0.791...</td>\n",
       "      <td>[0.35, 0.5294117647058824, 0.2777777777777778,...</td>\n",
       "    </tr>\n",
       "  </tbody>\n",
       "</table>\n",
       "</div>"
      ],
      "text/plain": [
       "    tipo select clasific  semilla  accuracy  precision    recall  f1_score  \\\n",
       "0  mul_m  ANOVA    LR_L2     9322  0.574713   0.575394  0.599781  0.570721   \n",
       "0  mul_m  ANOVA    LR_L1     9322  0.609195   0.609265  0.637569  0.613586   \n",
       "0  mul_m  ANOVA    LR_EN     9322  0.620690   0.627038  0.648558  0.622170   \n",
       "\n",
       "   roc_auc  hostname  total_time_sec                    datetime  \\\n",
       "0      NaN  enderlab              31  2023-10-30 05:00:55.072118   \n",
       "0      NaN  enderlab            1622  2023-10-30 05:00:16.580646   \n",
       "0      NaN  enderlab            1778  2023-10-30 04:33:07.331471   \n",
       "\n",
       "                      fichero_modelo  \\\n",
       "0  modelo_9322_mul_m_ANOVA_LR_L2.pkl   \n",
       "0  modelo_9322_mul_m_ANOVA_LR_L1.pkl   \n",
       "0  modelo_9322_mul_m_ANOVA_LR_EN.pkl   \n",
       "\n",
       "                                              params               shape  \\\n",
       "0  {'selector__k': 1000, 'clasifier__solver': 'lb...  X_test:(87, 18875)   \n",
       "0  {'selector__k': 1000, 'clasifier__solver': 'sa...  X_test:(87, 18875)   \n",
       "0  {'selector__k': 1000, 'clasifier__solver': 'sa...  X_test:(87, 18875)   \n",
       "\n",
       "                                            features  roc_auc_ovr  \\\n",
       "0  ['ENSG00000000938.13', 'ENSG00000002919.15', '...     0.871233   \n",
       "0  ['ENSG00000000938.13', 'ENSG00000002919.15', '...     0.865713   \n",
       "0  ['ENSG00000000938.13', 'ENSG00000002919.15', '...     0.870584   \n",
       "\n",
       "                                         indices_auc  \\\n",
       "0  [0.7790492957746479, 0.8796296296296297, 0.785...   \n",
       "0  [0.7684859154929577, 0.8583333333333334, 0.785...   \n",
       "0  [0.7588028169014085, 0.8740740740740741, 0.791...   \n",
       "\n",
       "                                     indices_jaccard  \n",
       "0  [0.3, 0.5, 0.21052631578947367, 0.333333333333...  \n",
       "0  [0.3333333333333333, 0.47368421052631576, 0.27...  \n",
       "0  [0.35, 0.5294117647058824, 0.2777777777777778,...  "
      ]
     },
     "metadata": {},
     "output_type": "display_data"
    }
   ],
   "source": [
    "if M_TIPO.startswith(\"bin\"):\n",
    "    myfunc.save_metricas_to_csv(random_search, X_test, y_test, M_TIPO, M_SELECT, M_CLASIF, total_time, SEMILLA, myfunc.MET_DIR, M_FICHERO, fichero_modelo)\n",
    "else:\n",
    "    myfunc.save_metricas_multi_to_csv(random_search, X_test, y_test, M_TIPO, M_SELECT, M_CLASIF, total_time, SEMILLA, myfunc.MET_DIR, M_FICHERO, fichero_modelo)\n",
    "\n",
    "df1=myfunc.read_metricas_to_df(myfunc.MET_DIR,M_FICHERO)\n",
    "\n",
    "display(df1.sort_values(\"datetime\", ascending=False)[:3])\n"
   ]
  },
  {
   "cell_type": "markdown",
   "id": "5facafdd",
   "metadata": {
    "papermill": {
     "duration": 0.006504,
     "end_time": "2023-10-30T04:00:55.131867",
     "exception": false,
     "start_time": "2023-10-30T04:00:55.125363",
     "status": "completed"
    },
    "tags": []
   },
   "source": [
    "#### Guardar resultados"
   ]
  },
  {
   "cell_type": "code",
   "execution_count": 13,
   "id": "17efe818",
   "metadata": {
    "execution": {
     "iopub.execute_input": "2023-10-30T04:00:55.145569Z",
     "iopub.status.busy": "2023-10-30T04:00:55.145315Z",
     "iopub.status.idle": "2023-10-30T04:00:55.154529Z",
     "shell.execute_reply": "2023-10-30T04:00:55.153953Z"
    },
    "papermill": {
     "duration": 0.017521,
     "end_time": "2023-10-30T04:00:55.155817",
     "exception": false,
     "start_time": "2023-10-30T04:00:55.138296",
     "status": "completed"
    },
    "tags": []
   },
   "outputs": [
    {
     "name": "stdout",
     "output_type": "stream",
     "text": [
      "20231030T050055 : enderlab : INFO : Inicio guardar resultados\n",
      "20231030T050055 : enderlab : INFO : Inicio guardar fichero ../tfm_git/ejecuciones/metricas/resultados_9322_mul_m-ANOVA-LR_L2.csv\n",
      "20231030T050055 : enderlab : INFO : Fin guardar fichero ../tfm_git/ejecuciones/metricas/resultados_9322_mul_m-ANOVA-LR_L2.csv\n",
      "20231030T050055 : enderlab : INFO : Fin guardar resultados\n"
     ]
    }
   ],
   "source": [
    "fichero_resultados=R_FICHERO+\"_\"+M_TIPO+\"-\"+M_SELECT+\"-\"+M_CLASIF+\".csv\"\n",
    "myfunc.save_resultados_to_csv(M_TIPO, M_SELECT, M_CLASIF,  random_search, myfunc.MET_DIR, fichero_resultados)\n"
   ]
  }
 ],
 "metadata": {
  "kernelspec": {
   "display_name": "Python 3 (ipykernel)",
   "language": "python",
   "name": "python3"
  },
  "language_info": {
   "codemirror_mode": {
    "name": "ipython",
    "version": 3
   },
   "file_extension": ".py",
   "mimetype": "text/x-python",
   "name": "python",
   "nbconvert_exporter": "python",
   "pygments_lexer": "ipython3",
   "version": "3.10.11"
  },
  "papermill": {
   "default_parameters": {},
   "duration": 36.852292,
   "end_time": "2023-10-30T04:00:57.779403",
   "environment_variables": {},
   "exception": null,
   "input_path": "03_entrenamiento.ipynb",
   "output_path": "ejecuciones/training/03_entrenamiento.20231030T050020.param_0000_9322_mul_m_ANOVA_LR_L2.output.ipynb",
   "parameters": {
    "MAX_ITERS": 500,
    "M_CLASIF": "LR_L2",
    "M_FICHERO": "metricas_9322",
    "M_SELECT": "ANOVA",
    "M_TIPO": "mul_m",
    "PRE_DATA_FILE": "rows_transpose_norm_by_gene_id_with_target_num_",
    "P_FICHERO": "param_0000_9322_mul_m_ANOVA_LR_L2.yaml",
    "R_FICHERO": "resultados_9322",
    "SCORING": "roc_auc_ovr",
    "SEMILLA": 9322,
    "eval_clasifier": "LogisticRegressionCV(random_state=SEMILLA)",
    "eval_selector": "SelectKBest(score_func=f_classif)",
    "param_distributions": {
     "clasifier__max_iter": [
      10000
     ],
     "clasifier__penalty": [
      "l2"
     ],
     "clasifier__solver": [
      "lbfgs"
     ],
     "selector__k": [
      1000
     ]
    }
   },
   "start_time": "2023-10-30T04:00:20.927111",
   "version": "2.4.0"
  }
 },
 "nbformat": 4,
 "nbformat_minor": 5
}