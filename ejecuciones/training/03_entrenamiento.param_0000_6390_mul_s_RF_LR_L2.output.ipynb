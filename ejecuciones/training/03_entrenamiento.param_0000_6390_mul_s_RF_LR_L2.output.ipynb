{
 "cells": [
  {
   "cell_type": "markdown",
   "id": "e0c4d111",
   "metadata": {
    "papermill": {
     "duration": 0.00451,
     "end_time": "2023-10-30T18:40:26.600876",
     "exception": false,
     "start_time": "2023-10-30T18:40:26.596366",
     "status": "completed"
    },
    "tags": []
   },
   "source": [
    "##### Inicio"
   ]
  },
  {
   "cell_type": "markdown",
   "id": "274daac4",
   "metadata": {
    "papermill": {
     "duration": 0.00365,
     "end_time": "2023-10-30T18:40:26.608508",
     "exception": false,
     "start_time": "2023-10-30T18:40:26.604858",
     "status": "completed"
    },
    "tags": []
   },
   "source": [
    "#### Carga de datos"
   ]
  },
  {
   "cell_type": "code",
   "execution_count": 1,
   "id": "0d153ba9",
   "metadata": {
    "execution": {
     "iopub.execute_input": "2023-10-30T18:40:26.617344Z",
     "iopub.status.busy": "2023-10-30T18:40:26.617101Z",
     "iopub.status.idle": "2023-10-30T18:40:27.477054Z",
     "shell.execute_reply": "2023-10-30T18:40:27.476464Z"
    },
    "papermill": {
     "duration": 0.866077,
     "end_time": "2023-10-30T18:40:27.478380",
     "exception": false,
     "start_time": "2023-10-30T18:40:26.612303",
     "status": "completed"
    },
    "tags": []
   },
   "outputs": [
    {
     "name": "stdout",
     "output_type": "stream",
     "text": [
      "CPU_COUNT: 8; NODE: amilcar22; sys.version: 3.10.12 (main, Jul  5 2023, 19:22:19) [GCC 11.2.0]\n",
      "LOKY_MAX_CPU_COUNT: 6\n",
      "OMP_NUM_THREADS: 2\n"
     ]
    }
   ],
   "source": [
    "import os\n",
    "import numpy as np\n",
    "import pandas as pd\n",
    "import datetime\n",
    "import sklearn\n",
    "import logging\n",
    "import warnings\n",
    "\n",
    "from sklearn.pipeline import Pipeline\n",
    "from sklearn.model_selection import RandomizedSearchCV, KFold, cross_val_score, train_test_split\n",
    "from sklearn.metrics import accuracy_score, confusion_matrix, classification_report, roc_auc_score\n",
    "\n",
    "#  cargar algoritmos para aprendizaje supervisado\n",
    "from sklearn.feature_selection import SelectKBest, f_classif, SelectFromModel, mutual_info_classif\n",
    "from sklearn.svm import SVC\n",
    "from sklearn.ensemble import RandomForestClassifier\n",
    "from sklearn.linear_model import LogisticRegression,LogisticRegressionCV\n",
    "\n",
    "# importar fichero con utilidades propias\n",
    "from commons import myfunctions as myfunc\n"
   ]
  },
  {
   "cell_type": "markdown",
   "id": "03022c1d",
   "metadata": {
    "papermill": {
     "duration": 0.002695,
     "end_time": "2023-10-30T18:40:27.484146",
     "exception": false,
     "start_time": "2023-10-30T18:40:27.481451",
     "status": "completed"
    },
    "tags": []
   },
   "source": [
    "#### Parámetros a utilizar en el entrenamiento.\n",
    "\n",
    "Se indican los 3 algoritmos de *selección de características* (eval_selector_xxx) y los 3 algoritmos para la _clasificación_ (eval_clasifier_xxx)\n",
    "\n",
    "En *param_distributions* se indicar los parámetros que utilizan los algoritmos en la función RandomSearchCV.\n",
    "\n",
    "Esta celda tiene la etiqueta **parameters** que servirá para poder lanzar los entrenamientos con la utilidad **papermill** pasándole un fichero con los parámetros. Los nuevos parámetros se situarán tras esta celda para tener prevalencia."
   ]
  },
  {
   "cell_type": "code",
   "execution_count": 2,
   "id": "07bd7f16",
   "metadata": {
    "execution": {
     "iopub.execute_input": "2023-10-30T18:40:27.490370Z",
     "iopub.status.busy": "2023-10-30T18:40:27.490083Z",
     "iopub.status.idle": "2023-10-30T18:40:27.496883Z",
     "shell.execute_reply": "2023-10-30T18:40:27.496442Z"
    },
    "papermill": {
     "duration": 0.011296,
     "end_time": "2023-10-30T18:40:27.498045",
     "exception": false,
     "start_time": "2023-10-30T18:40:27.486749",
     "status": "completed"
    },
    "tags": [
     "parameters"
    ]
   },
   "outputs": [
    {
     "name": "stdout",
     "output_type": "stream",
     "text": [
      "20231030T194027 : amilcar22 : INFO : Utilizando parámetros de mul_m\n"
     ]
    }
   ],
   "source": [
    "#  Parametros para el entrenamiento\n",
    "\n",
    "SEMILLA=        42\n",
    "M_TIPO=         \"mul_m\"\n",
    "M_SELECT=       \"MI\"\n",
    "M_CLASIF=       \"SVM\"\n",
    "R_FICHERO=      \"resultados\"\n",
    "M_FICHERO=      \"metricas\"\n",
    "PRE_DATA_FILE=  \"rows_transpose_norm_by_gene_id_with_target_num_\"\n",
    "SCORING=        \"roc_auc_ovr\" \n",
    "MAX_ITERS=      100\n",
    "\n",
    "def mutual_info_classif_state(X, y):\n",
    "    return mutual_info_classif(X, y, random_state=SEMILLA)\n",
    "\n",
    "eval_selector_mi = \"SelectKBest(score_func=mutual_info_classif_state)\"\n",
    "eval_selector_rf=  \"SelectFromModel(estimator=RandomForestClassifier(random_state=SEMILLA), threshold=-np.inf)\"\n",
    "eval_selector_anova=  \"SelectKBest(score_func=f_classif)\"\n",
    "\n",
    "eval_clasifier_svm= \"SVC(probability=True, random_state=SEMILLA)\"\n",
    "eval_clasifier_rf= \"RandomForestClassifier(random_state=SEMILLA)\"\n",
    "eval_clasifier_lr= \"LogisticRegressionCV(random_state=SEMILLA)\"\n",
    "\n",
    "if M_TIPO.startswith(\"bin_m\"):\n",
    "    myfunc.verbose(f\"Utilizando parámetros de {M_TIPO}\")\n",
    "    eval_selector = eval_selector_mi\n",
    "    eval_clasifier = eval_clasifier_svm\n",
    "\n",
    "    SEMILLA = 6578\n",
    "    M_SELECT = \"MI\"\n",
    "    M_CLASIF = \"SVM\"\n",
    "    param_distributions = {'selector__k': [1000], \n",
    "         'clasifier__kernel': ['rbf'], 'clasifier__gamma': [0.01], 'clasifier__C': [100]}\n",
    "elif M_TIPO.startswith(\"bin_s\"):\n",
    "    myfunc.verbose(f\"Utilizando parámetros de {M_TIPO}\")\n",
    "    eval_selector = eval_selector_rf\n",
    "    eval_clasifier = eval_clasifier_lr\n",
    "\n",
    "    SEMILLA = 6191\n",
    "    M_SELECT = \"RF\"\n",
    "    M_CLASIF = \"LR_L2\"\n",
    "    param_distributions = {'selector__max_features': [1000], 'selector__estimator__n_estimators': [200], \n",
    "        'clasifier__solver': ['lbfgs'], 'clasifier__penalty': ['l2'], 'clasifier__max_iter': [10000]}\n",
    "\n",
    "elif M_TIPO.startswith(\"mul_m\"):\n",
    "    myfunc.verbose(f\"Utilizando parámetros de {M_TIPO}\")\n",
    " \n",
    "    eval_selector = eval_selector_rf\n",
    "    eval_clasifier = eval_clasifier_lr\n",
    "\n",
    "    SEMILLA = 6191\n",
    "    M_SELECT = \"RF\"\n",
    "    M_CLASIF = \"LR_L2\"\n",
    "    param_distributions = {'selector__max_features': [1000], 'selector__estimator__n_estimators': [400], \n",
    "        'clasifier__solver': ['lbfgs'], 'clasifier__penalty': ['l2'], 'clasifier__max_iter': [10000]}\n",
    "\n",
    "else:\n",
    "    # M_TIPO.startswith(\"mul_s\"):\n",
    "    myfunc.verbose(f\"Utilizando parámetros de {M_TIPO}\")\n",
    "    eval_selector = eval_selector_anova\n",
    "    eval_clasifier = eval_clasifier_lr\n",
    "\n",
    "    SEMILLA = 1860\n",
    "    M_SELECT = \"ANOVA\"\n",
    "    M_CLASIF = \"LR_L2\"\n",
    "    param_distributions = {'selector__k': [1000], \n",
    "        'clasifier__solver': ['saga'], 'clasifier__penalty': ['l2'], 'clasifier__max_iter': [10000]}\n",
    "\n"
   ]
  },
  {
   "cell_type": "code",
   "execution_count": 3,
   "id": "39b5a0a4",
   "metadata": {
    "execution": {
     "iopub.execute_input": "2023-10-30T18:40:27.504174Z",
     "iopub.status.busy": "2023-10-30T18:40:27.503996Z",
     "iopub.status.idle": "2023-10-30T18:40:27.507795Z",
     "shell.execute_reply": "2023-10-30T18:40:27.507264Z"
    },
    "papermill": {
     "duration": 0.008262,
     "end_time": "2023-10-30T18:40:27.509059",
     "exception": false,
     "start_time": "2023-10-30T18:40:27.500797",
     "status": "completed"
    },
    "tags": [
     "injected-parameters"
    ]
   },
   "outputs": [],
   "source": [
    "# Parameters\n",
    "M_TIPO = \"mul_s\"\n",
    "M_SELECT = \"RF\"\n",
    "M_CLASIF = \"LR_L2\"\n",
    "P_FICHERO = \"param_0000_6390_mul_s_RF_LR_L2.yaml\"\n",
    "R_FICHERO = \"resultados_6390\"\n",
    "M_FICHERO = \"metricas_6390\"\n",
    "PRE_DATA_FILE = \"rows_transpose_norm_by_gene_id_with_target_num_\"\n",
    "SCORING = \"roc_auc_ovr\"\n",
    "SEMILLA = 6390\n",
    "MAX_ITERS = 500\n",
    "eval_selector = \"SelectFromModel(estimator=RandomForestClassifier(random_state=SEMILLA), threshold=-np.inf)\"\n",
    "eval_clasifier = \"LogisticRegressionCV(random_state=SEMILLA)\"\n",
    "param_distributions = {\n",
    "    \"selector__max_features\": [500],\n",
    "    \"selector__estimator__n_estimators\": [200],\n",
    "    \"clasifier__solver\": [\"lbfgs\"],\n",
    "    \"clasifier__penalty\": [\"l2\"],\n",
    "    \"clasifier__max_iter\": [10000],\n",
    "}\n"
   ]
  },
  {
   "cell_type": "code",
   "execution_count": 4,
   "id": "a9874ec3",
   "metadata": {
    "execution": {
     "iopub.execute_input": "2023-10-30T18:40:27.515224Z",
     "iopub.status.busy": "2023-10-30T18:40:27.515053Z",
     "iopub.status.idle": "2023-10-30T18:40:27.517979Z",
     "shell.execute_reply": "2023-10-30T18:40:27.517515Z"
    },
    "papermill": {
     "duration": 0.007373,
     "end_time": "2023-10-30T18:40:27.519151",
     "exception": false,
     "start_time": "2023-10-30T18:40:27.511778",
     "status": "completed"
    },
    "tags": []
   },
   "outputs": [],
   "source": [
    "DATA_FILE = PRE_DATA_FILE + M_TIPO\n",
    "\n",
    "# si viene \"None\" en el parámetro max_depth, se le quitan las comillas para que no sea entendido por el algoritmo como un texto\n",
    "if \"clasifier__max_depth\" in param_distributions:\n",
    "    param_distributions['clasifier__max_depth'] = [None if x == 'None' else x for x in param_distributions['clasifier__max_depth']]"
   ]
  },
  {
   "cell_type": "markdown",
   "id": "564fa0bf",
   "metadata": {
    "papermill": {
     "duration": 0.002878,
     "end_time": "2023-10-30T18:40:27.524990",
     "exception": false,
     "start_time": "2023-10-30T18:40:27.522112",
     "status": "completed"
    },
    "tags": []
   },
   "source": [
    "Asignar los algoritmos que se utilizarán en la función RandomSearchCV"
   ]
  },
  {
   "cell_type": "code",
   "execution_count": 5,
   "id": "033f53fd",
   "metadata": {
    "execution": {
     "iopub.execute_input": "2023-10-30T18:40:27.531516Z",
     "iopub.status.busy": "2023-10-30T18:40:27.531344Z",
     "iopub.status.idle": "2023-10-30T18:40:27.534055Z",
     "shell.execute_reply": "2023-10-30T18:40:27.533562Z"
    },
    "papermill": {
     "duration": 0.007411,
     "end_time": "2023-10-30T18:40:27.535339",
     "exception": false,
     "start_time": "2023-10-30T18:40:27.527928",
     "status": "completed"
    },
    "tags": []
   },
   "outputs": [],
   "source": [
    "algor_selector=eval(eval_selector)\n",
    "algor_clasifier=eval(eval_clasifier)"
   ]
  },
  {
   "cell_type": "markdown",
   "id": "934e121e",
   "metadata": {
    "papermill": {
     "duration": 0.003359,
     "end_time": "2023-10-30T18:40:27.542029",
     "exception": false,
     "start_time": "2023-10-30T18:40:27.538670",
     "status": "completed"
    },
    "tags": []
   },
   "source": [
    "#### Comprobar el entorno y leer fichero de muestras"
   ]
  },
  {
   "cell_type": "code",
   "execution_count": 6,
   "id": "17f15b16",
   "metadata": {
    "execution": {
     "iopub.execute_input": "2023-10-30T18:40:27.549466Z",
     "iopub.status.busy": "2023-10-30T18:40:27.549281Z",
     "iopub.status.idle": "2023-10-30T18:40:27.672712Z",
     "shell.execute_reply": "2023-10-30T18:40:27.672140Z"
    },
    "papermill": {
     "duration": 0.128755,
     "end_time": "2023-10-30T18:40:27.674095",
     "exception": false,
     "start_time": "2023-10-30T18:40:27.545340",
     "status": "completed"
    },
    "tags": []
   },
   "outputs": [
    {
     "name": "stdout",
     "output_type": "stream",
     "text": [
      "20231030T194027 : amilcar22 : INFO : Encontrada carpeta DATA_DIR=../tfm_git/datos\n",
      "20231030T194027 : amilcar22 : INFO : Encontrada carpeta CFDNA_DIR=../tfm_git/datos/cfDNA_5hmC\n",
      "20231030T194027 : amilcar22 : INFO : Encontrada carpeta GENCODE_DIR=../tfm_git/datos/gencode\n",
      "20231030T194027 : amilcar22 : INFO : Encontrada carpeta H5_DIR=../tfm_git/datos/h5\n",
      "20231030T194027 : amilcar22 : INFO : Encontrada carpeta LOG_DIR=../tfm_git/datos/logs\n",
      "20231030T194027 : amilcar22 : INFO : Encontrada carpeta CSV_DIR=../tfm_git/datos/csv\n",
      "20231030T194027 : amilcar22 : INFO : Encontrada carpeta MODEL_DIR=../tfm_git/ejecuciones/modelos\n",
      "20231030T194027 : amilcar22 : INFO : Encontrada carpeta EXEC_DIR=../tfm_git/ejecuciones\n",
      "20231030T194027 : amilcar22 : INFO : Encontrada carpeta MET_DIR=../tfm_git/ejecuciones/metricas\n",
      "20231030T194027 : amilcar22 : INFO : Inicio leer fichero h5 ../tfm_git/datos/h5/rows_transpose_norm_by_gene_id_with_target_num_mul_s.h5\n",
      "20231030T194027 : amilcar22 : INFO : Leyendo clave /df\n",
      "20231030T194027 : amilcar22 : INFO : Tamaño (259, 18876)\n",
      "20231030T194027 : amilcar22 : INFO : Fin leer fichero h5 ../tfm_git/datos/h5/rows_transpose_norm_by_gene_id_with_target_num_mul_s.h5\n"
     ]
    },
    {
     "data": {
      "text/plain": [
       "target\n",
       "0    37\n",
       "1    37\n",
       "2    37\n",
       "3    37\n",
       "4    37\n",
       "5    37\n",
       "6    37\n",
       "dtype: int64"
      ]
     },
     "metadata": {},
     "output_type": "display_data"
    },
    {
     "name": "stdout",
     "output_type": "stream",
     "text": [
      "Shape df: (259, 18876)\n",
      "Shape X_train: (207, 18875)\n",
      "Shape X_test: (52, 18875)\n"
     ]
    }
   ],
   "source": [
    "start_time = datetime.datetime.now()\n",
    "\n",
    "myfunc.reset_vars()\n",
    "\n",
    "myfunc.NOTEBK_FILENAME = myfunc.get_nb_name()\n",
    "\n",
    "myfunc.check_enviroment(myfunc.DATA_DIR, myfunc.CFDNA_DIR, myfunc.GENCODE_DIR, myfunc.H5_DIR, myfunc.LOG_DIR, myfunc.CSV_DIR, myfunc.MODEL_DIR, myfunc.EXEC_DIR, myfunc.MET_DIR)\n",
    "\n",
    "# Leer fichero con las muestras\n",
    "df_t = myfunc.read_h5_to_df(DATA_FILE, myfunc.H5_DIR)\n",
    "display(df_t.groupby(\"target\").size())\n",
    "print(\"Shape df:\",df_t.shape)\n",
    "\n",
    "# Separar caracteristicas/genes de las etiquetas/tipos de cáncer\n",
    "X = df_t.iloc[:, :-1]  # Todas las columnas excepto la última\n",
    "y = df_t.iloc[:, -1]  # La última columna contiene los identificadores de los tipos de cáncer\n",
    "\n",
    "#  Crear el conjunto de datos de entrenamiento y de pruebas, y se fija la semilla para siempre coger el mismo juego de muestras\n",
    "X_train, X_test, y_train, y_test = train_test_split(X, y, test_size=0.2, shuffle=True, random_state=42)\n",
    "print(\"Shape X_train:\",X_train.shape)\n",
    "print(\"Shape X_test:\",X_test.shape)\n"
   ]
  },
  {
   "cell_type": "markdown",
   "id": "1285c2e5",
   "metadata": {
    "papermill": {
     "duration": 0.002783,
     "end_time": "2023-10-30T18:40:27.680230",
     "exception": false,
     "start_time": "2023-10-30T18:40:27.677447",
     "status": "completed"
    },
    "tags": []
   },
   "source": [
    "#### Selección de características y clasificación."
   ]
  },
  {
   "cell_type": "code",
   "execution_count": 7,
   "id": "e67931bd",
   "metadata": {
    "execution": {
     "iopub.execute_input": "2023-10-30T18:40:27.686698Z",
     "iopub.status.busy": "2023-10-30T18:40:27.686498Z",
     "iopub.status.idle": "2023-10-30T18:40:43.907301Z",
     "shell.execute_reply": "2023-10-30T18:40:43.906650Z"
    },
    "papermill": {
     "duration": 16.225467,
     "end_time": "2023-10-30T18:40:43.908499",
     "exception": false,
     "start_time": "2023-10-30T18:40:27.683032",
     "status": "completed"
    },
    "tags": []
   },
   "outputs": [
    {
     "name": "stdout",
     "output_type": "stream",
     "text": [
      "20231030T194027 : amilcar22 : INFO : Iniciando entrenamiento\n",
      "num_iter: 1 , max_iter: 1\n"
     ]
    },
    {
     "name": "stdout",
     "output_type": "stream",
     "text": [
      "Fitting 5 folds for each of 1 candidates, totalling 5 fits\n"
     ]
    },
    {
     "name": "stdout",
     "output_type": "stream",
     "text": [
      "Mejores Hiperparámetros: {'selector__max_features': 500, 'selector__estimator__n_estimators': 200, 'clasifier__solver': 'lbfgs', 'clasifier__penalty': 'l2', 'clasifier__max_iter': 10000}\n",
      "Mejor Puntuación: 0.7929\n",
      "20231030T194043 : amilcar22 : INFO : Fin entrenamiento\n"
     ]
    }
   ],
   "source": [
    "myfunc.verbose(\"Iniciando entrenamiento\")\n",
    "\n",
    "kf = KFold(n_splits=5, shuffle=True, random_state=SEMILLA)\n",
    "\n",
    "# Crear el pipeline para el flujo de tareas\n",
    "tasks_pipeline = Pipeline([\n",
    "    ('selector', algor_selector),\n",
    "    ('clasifier', algor_clasifier)\n",
    "])\n",
    "\n",
    "# MAX_ITERS puede limitar el número de iteraciones si son excesivas para las combinaciones de parámetros buscando un óptimo local, \n",
    "# sino funcionaría como GridSearchCV al revisar todas las cominaciones de los parámetros\n",
    "num_iteraciones = 1\n",
    "num_iteraciones = num_iteraciones * np.prod([len(elemento1) for _, elemento1 in param_distributions.items()])\n",
    "max_iteraciones = num_iteraciones if num_iteraciones <= MAX_ITERS else MAX_ITERS\n",
    "print(\"num_iter:\",num_iteraciones,\", max_iter:\",max_iteraciones)\n",
    "\n",
    "random_search = RandomizedSearchCV(\n",
    "    tasks_pipeline, \n",
    "    param_distributions, \n",
    "    n_iter=max_iteraciones,\n",
    "    scoring=SCORING,\n",
    "    cv=kf,\n",
    "    verbose=3, \n",
    "    random_state=SEMILLA, \n",
    "    n_jobs=-1\n",
    "    )\n",
    "\n",
    "# Entrenar el modelo\n",
    "random_search.fit(X_train, y_train)\n",
    "\n",
    "# Ver los mejores hiperparámetros encontrados\n",
    "print(f'Mejores Hiperparámetros: {random_search.best_params_}')\n",
    "print(f'Mejor Puntuación: {random_search.best_score_:.4f}')\n",
    "\n",
    "# Nos quedamos con el mejor modelo para ver las métricas\n",
    "mejor_modelo = random_search.best_estimator_\n",
    "\n",
    "myfunc.verbose(\"Fin entrenamiento\")"
   ]
  },
  {
   "cell_type": "markdown",
   "id": "7631b445",
   "metadata": {
    "papermill": {
     "duration": 0.003023,
     "end_time": "2023-10-30T18:40:43.915011",
     "exception": false,
     "start_time": "2023-10-30T18:40:43.911988",
     "status": "completed"
    },
    "tags": []
   },
   "source": [
    "#### Guardar modelo"
   ]
  },
  {
   "cell_type": "code",
   "execution_count": 8,
   "id": "3f257ee2",
   "metadata": {
    "execution": {
     "iopub.execute_input": "2023-10-30T18:40:43.921748Z",
     "iopub.status.busy": "2023-10-30T18:40:43.921559Z",
     "iopub.status.idle": "2023-10-30T18:40:43.993607Z",
     "shell.execute_reply": "2023-10-30T18:40:43.993041Z"
    },
    "papermill": {
     "duration": 0.076854,
     "end_time": "2023-10-30T18:40:43.994824",
     "exception": false,
     "start_time": "2023-10-30T18:40:43.917970",
     "status": "completed"
    },
    "tags": []
   },
   "outputs": [
    {
     "name": "stdout",
     "output_type": "stream",
     "text": [
      "20231030T194043 : amilcar22 : INFO : Inicio guardar fichero ../tfm_git/ejecuciones/modelos/modelo_6390_mul_s_RF_LR_L2.pkl\n",
      "20231030T194043 : amilcar22 : INFO : Fin guardar fichero ../tfm_git/ejecuciones/modelos/modelo_6390_mul_s_RF_LR_L2.pkl\n"
     ]
    }
   ],
   "source": [
    "fichero_modelo = str.replace(\"modelo_\"+str(SEMILLA).zfill(4)+\"_\"+M_TIPO+\"_\"+M_SELECT+\"_\"+M_CLASIF+\".pkl\", \" \", \"_\")\n",
    "\n",
    "myfunc.save_modelo(mejor_modelo, myfunc.MODEL_DIR, fichero_modelo)"
   ]
  },
  {
   "cell_type": "markdown",
   "id": "799c4a74",
   "metadata": {
    "papermill": {
     "duration": 0.003295,
     "end_time": "2023-10-30T18:40:44.001391",
     "exception": false,
     "start_time": "2023-10-30T18:40:43.998096",
     "status": "completed"
    },
    "tags": []
   },
   "source": [
    "#### Ver resultados del las iteraciones hechas por RandomSearchCV"
   ]
  },
  {
   "cell_type": "code",
   "execution_count": 9,
   "id": "97e42f8d",
   "metadata": {
    "execution": {
     "iopub.execute_input": "2023-10-30T18:40:44.008075Z",
     "iopub.status.busy": "2023-10-30T18:40:44.007889Z",
     "iopub.status.idle": "2023-10-30T18:40:44.013379Z",
     "shell.execute_reply": "2023-10-30T18:40:44.012864Z"
    },
    "papermill": {
     "duration": 0.010244,
     "end_time": "2023-10-30T18:40:44.014572",
     "exception": false,
     "start_time": "2023-10-30T18:40:44.004328",
     "status": "completed"
    },
    "tags": []
   },
   "outputs": [
    {
     "name": "stdout",
     "output_type": "stream",
     "text": [
      "20231030T194044 : amilcar22 : INFO : Inicio ver resultados\n",
      "Mejores Hiperparámetros: {'selector__max_features': 500, 'selector__estimator__n_estimators': 200, 'clasifier__solver': 'lbfgs', 'clasifier__penalty': 'l2', 'clasifier__max_iter': 10000}\n",
      "Mejores puntuaciones: 0.7929 | Params: {'selector__max_features': 500, 'selector__estimator__n_estimators': 200, 'clasifier__solver': 'lbfgs', 'clasifier__penalty': 'l2', 'clasifier__max_iter': 10000}\n",
      "Media de las puntuaciones: 0.7929 | Params: {'selector__max_features': 500, 'selector__estimator__n_estimators': 200, 'clasifier__solver': 'lbfgs', 'clasifier__penalty': 'l2', 'clasifier__max_iter': 10000}\n",
      "20231030T194044 : amilcar22 : INFO : Fin resultados\n"
     ]
    }
   ],
   "source": [
    "myfunc.ver_resultados_search(random_search)"
   ]
  },
  {
   "cell_type": "markdown",
   "id": "fe22c765",
   "metadata": {
    "papermill": {
     "duration": 0.003107,
     "end_time": "2023-10-30T18:40:44.020987",
     "exception": false,
     "start_time": "2023-10-30T18:40:44.017880",
     "status": "completed"
    },
    "tags": []
   },
   "source": [
    "#### Ver métricas del mejor modelo"
   ]
  },
  {
   "cell_type": "code",
   "execution_count": 10,
   "id": "12329f8d",
   "metadata": {
    "execution": {
     "iopub.execute_input": "2023-10-30T18:40:44.027797Z",
     "iopub.status.busy": "2023-10-30T18:40:44.027619Z",
     "iopub.status.idle": "2023-10-30T18:40:44.741323Z",
     "shell.execute_reply": "2023-10-30T18:40:44.740830Z"
    },
    "papermill": {
     "duration": 0.718474,
     "end_time": "2023-10-30T18:40:44.742513",
     "exception": false,
     "start_time": "2023-10-30T18:40:44.024039",
     "status": "completed"
    },
    "tags": []
   },
   "outputs": [
    {
     "name": "stdout",
     "output_type": "stream",
     "text": [
      "20231030T194044 : amilcar22 : INFO : Inicio ver métricas multiclase\n"
     ]
    },
    {
     "name": "stdout",
     "output_type": "stream",
     "text": [
      "              precision    recall  f1-score   support\n",
      "\n",
      "           0       0.00      0.00      0.00        11\n",
      "           1       1.00      0.62      0.77         8\n",
      "           2       0.50      0.12      0.20         8\n",
      "           3       0.00      0.00      0.00         5\n",
      "           4       0.70      0.88      0.78         8\n",
      "           5       0.40      0.33      0.36         6\n",
      "           6       0.31      0.83      0.45         6\n",
      "\n",
      "    accuracy                           0.38        52\n",
      "   macro avg       0.42      0.40      0.37        52\n",
      "weighted avg       0.42      0.38      0.36        52\n",
      "\n",
      "\n",
      "\n",
      "           Exactitud: 0.384615\n",
      "   Precisión (media): 0.416071\n",
      "      Recall (media): 0.398810\n",
      "    F1-score (media): 0.366456\n",
      "\n",
      "\n",
      "AUC para el tipo de cáncer 0-Control.... 0.5565\n",
      "AUC para el tipo de cáncer 1-Bladder.... 0.8807\n",
      "AUC para el tipo de cáncer 2-Breast..... 0.6903\n"
     ]
    },
    {
     "name": "stdout",
     "output_type": "stream",
     "text": [
      "AUC para el tipo de cáncer 3-Colorectal. 0.6681\n",
      "AUC para el tipo de cáncer 4-Kidney..... 0.9318\n",
      "AUC para el tipo de cáncer 5-Lung....... 0.9239\n",
      "AUC para el tipo de cáncer 6-Prostate... 0.8877\n",
      "\n",
      "Media de AUC: 0.7913\n"
     ]
    },
    {
     "data": {
      "image/png": "[encoded data removed]",
      "text/plain": [
       "<Figure size 1000x600 with 1 Axes>"
      ]
     },
     "metadata": {},
     "output_type": "display_data"
    },
    {
     "name": "stdout",
     "output_type": "stream",
     "text": [
      "\n",
      "\n"
     ]
    },
    {
     "data": {
      "image/png": "[encoded data removed]",
      "text/plain": [
       "<Figure size 800x400 with 2 Axes>"
      ]
     },
     "metadata": {},
     "output_type": "display_data"
    },
    {
     "name": "stdout",
     "output_type": "stream",
     "text": [
      "\n",
      "\n",
      "Puntuación Jaccard para el cáncer tipo 0-Control.... 0.0000\n",
      "Puntuación Jaccard para el cáncer tipo 1-Bladder.... 0.6250\n",
      "Puntuación Jaccard para el cáncer tipo 2-Breast..... 0.1111\n",
      "Puntuación Jaccard para el cáncer tipo 3-Colorectal. 0.0000\n",
      "Puntuación Jaccard para el cáncer tipo 4-Kidney..... 0.6364\n",
      "Puntuación Jaccard para el cáncer tipo 5-Lung....... 0.2222\n",
      "Puntuación Jaccard para el cáncer tipo 6-Prostate... 0.2941\n",
      "\n",
      "Media de la puntuación de Jaccard: 0.2698\n"
     ]
    }
   ],
   "source": [
    "if M_TIPO.startswith(\"bin\"):\n",
    "    myfunc.ver_metricas(mejor_modelo, X_test, y_test)\n",
    "else:\n",
    "    myfunc.ver_metricas_multi(mejor_modelo, X_test, y_test)\n"
   ]
  },
  {
   "cell_type": "markdown",
   "id": "9bd87b07",
   "metadata": {
    "papermill": {
     "duration": 0.004229,
     "end_time": "2023-10-30T18:40:44.751472",
     "exception": false,
     "start_time": "2023-10-30T18:40:44.747243",
     "status": "completed"
    },
    "tags": []
   },
   "source": [
    "#### Finalización del notebook"
   ]
  },
  {
   "cell_type": "code",
   "execution_count": 11,
   "id": "9daeb378",
   "metadata": {
    "execution": {
     "iopub.execute_input": "2023-10-30T18:40:44.760658Z",
     "iopub.status.busy": "2023-10-30T18:40:44.760450Z",
     "iopub.status.idle": "2023-10-30T18:40:44.763905Z",
     "shell.execute_reply": "2023-10-30T18:40:44.763476Z"
    },
    "papermill": {
     "duration": 0.009312,
     "end_time": "2023-10-30T18:40:44.765061",
     "exception": false,
     "start_time": "2023-10-30T18:40:44.755749",
     "status": "completed"
    },
    "tags": []
   },
   "outputs": [
    {
     "name": "stdout",
     "output_type": "stream",
     "text": [
      "20231030T194044 : amilcar22 : INFO : Notebook ha tardado 17 seconds\n"
     ]
    }
   ],
   "source": [
    "end_time = datetime.datetime.now()\n",
    "total_time = end_time - start_time\n",
    "myfunc.verbose(f\"Notebook ha tardado {total_time.seconds} seconds\")"
   ]
  },
  {
   "cell_type": "markdown",
   "id": "7da8a35d",
   "metadata": {
    "papermill": {
     "duration": 0.004089,
     "end_time": "2023-10-30T18:40:44.773482",
     "exception": false,
     "start_time": "2023-10-30T18:40:44.769393",
     "status": "completed"
    },
    "tags": []
   },
   "source": [
    "#### Guardar métricas"
   ]
  },
  {
   "cell_type": "code",
   "execution_count": 12,
   "id": "64bf932f",
   "metadata": {
    "execution": {
     "iopub.execute_input": "2023-10-30T18:40:44.782496Z",
     "iopub.status.busy": "2023-10-30T18:40:44.782299Z",
     "iopub.status.idle": "2023-10-30T18:40:45.163319Z",
     "shell.execute_reply": "2023-10-30T18:40:45.162683Z"
    },
    "papermill": {
     "duration": 0.387016,
     "end_time": "2023-10-30T18:40:45.164656",
     "exception": false,
     "start_time": "2023-10-30T18:40:44.777640",
     "status": "completed"
    },
    "tags": []
   },
   "outputs": [
    {
     "name": "stdout",
     "output_type": "stream",
     "text": [
      "20231030T194044 : amilcar22 : INFO : Inicio guardar métricas multiclase\n",
      "20231030T194044 : amilcar22 : INFO : Inicio leer fichero ../tfm_git/ejecuciones/metricas/metricas_6390.csv\n",
      "20231030T194044 : amilcar22 : INFO : Fin leer fichero ../tfm_git/ejecuciones/metricas/metricas_6390.csv\n"
     ]
    },
    {
     "name": "stdout",
     "output_type": "stream",
     "text": [
      "20231030T194045 : amilcar22 : INFO : Inicio guardar fichero ../tfm_git/ejecuciones/metricas/metricas_6390.csv\n",
      "20231030T194045 : amilcar22 : INFO : Fichero borrado ../tfm_git/ejecuciones/metricas/metricas_6390.csv\n",
      "20231030T194045 : amilcar22 : INFO : Fin guardar fichero ../tfm_git/ejecuciones/metricas/metricas_6390.csv\n",
      "20231030T194045 : amilcar22 : INFO : Fin guardar métricas multiclase\n",
      "20231030T194045 : amilcar22 : INFO : Inicio leer fichero ../tfm_git/ejecuciones/metricas/metricas_6390.csv\n",
      "20231030T194045 : amilcar22 : INFO : Fin leer fichero ../tfm_git/ejecuciones/metricas/metricas_6390.csv\n"
     ]
    },
    {
     "data": {
      "text/html": [
       "<div>\n",
       "<style scoped>\n",
       "    .dataframe tbody tr th:only-of-type {\n",
       "        vertical-align: middle;\n",
       "    }\n",
       "\n",
       "    .dataframe tbody tr th {\n",
       "        vertical-align: top;\n",
       "    }\n",
       "\n",
       "    .dataframe thead th {\n",
       "        text-align: right;\n",
       "    }\n",
       "</style>\n",
       "<table border=\"1\" class=\"dataframe\">\n",
       "  <thead>\n",
       "    <tr style=\"text-align: right;\">\n",
       "      <th></th>\n",
       "      <th>tipo</th>\n",
       "      <th>select</th>\n",
       "      <th>clasific</th>\n",
       "      <th>semilla</th>\n",
       "      <th>accuracy</th>\n",
       "      <th>precision</th>\n",
       "      <th>recall</th>\n",
       "      <th>f1_score</th>\n",
       "      <th>roc_auc</th>\n",
       "      <th>hostname</th>\n",
       "      <th>total_time_sec</th>\n",
       "      <th>datetime</th>\n",
       "      <th>fichero_modelo</th>\n",
       "      <th>params</th>\n",
       "      <th>shape</th>\n",
       "      <th>features</th>\n",
       "      <th>roc_auc_ovr</th>\n",
       "      <th>indices_auc</th>\n",
       "      <th>indices_jaccard</th>\n",
       "    </tr>\n",
       "  </thead>\n",
       "  <tbody>\n",
       "    <tr>\n",
       "      <th>0</th>\n",
       "      <td>mul_s</td>\n",
       "      <td>RF</td>\n",
       "      <td>LR_L2</td>\n",
       "      <td>6390</td>\n",
       "      <td>0.384615</td>\n",
       "      <td>0.416071</td>\n",
       "      <td>0.398810</td>\n",
       "      <td>0.366456</td>\n",
       "      <td>NaN</td>\n",
       "      <td>amilcar22</td>\n",
       "      <td>17</td>\n",
       "      <td>2023-10-30 19:40:45.128786</td>\n",
       "      <td>modelo_6390_mul_s_RF_LR_L2.pkl</td>\n",
       "      <td>{'selector__max_features': 500, 'selector__est...</td>\n",
       "      <td>X_test:(52, 18875)</td>\n",
       "      <td>['ENSG00000005073.6', 'ENSG00000005381.9', 'EN...</td>\n",
       "      <td>0.791294</td>\n",
       "      <td>[0.5565410199556541, 0.8806818181818181, 0.690...</td>\n",
       "      <td>[0.0, 0.625, 0.1111111111111111, 0.0, 0.636363...</td>\n",
       "    </tr>\n",
       "    <tr>\n",
       "      <th>0</th>\n",
       "      <td>mul_s</td>\n",
       "      <td>RF</td>\n",
       "      <td>LR_L1</td>\n",
       "      <td>6390</td>\n",
       "      <td>0.288462</td>\n",
       "      <td>0.380159</td>\n",
       "      <td>0.287879</td>\n",
       "      <td>0.297863</td>\n",
       "      <td>NaN</td>\n",
       "      <td>amilcar22</td>\n",
       "      <td>506</td>\n",
       "      <td>2023-10-30 19:40:21.492797</td>\n",
       "      <td>modelo_6390_mul_s_RF_LR_L1.pkl</td>\n",
       "      <td>{'selector__max_features': 500, 'selector__est...</td>\n",
       "      <td>X_test:(52, 18875)</td>\n",
       "      <td>['ENSG00000003056.8', 'ENSG00000005381.9', 'EN...</td>\n",
       "      <td>0.741802</td>\n",
       "      <td>[0.541019955654102, 0.8352272727272727, 0.7215...</td>\n",
       "      <td>[0.08333333333333333, 0.375, 0.1, 0.0, 0.30769...</td>\n",
       "    </tr>\n",
       "    <tr>\n",
       "      <th>0</th>\n",
       "      <td>mul_s</td>\n",
       "      <td>RF</td>\n",
       "      <td>LR_EN</td>\n",
       "      <td>6390</td>\n",
       "      <td>0.461538</td>\n",
       "      <td>0.461379</td>\n",
       "      <td>0.449675</td>\n",
       "      <td>0.442580</td>\n",
       "      <td>NaN</td>\n",
       "      <td>amilcar22</td>\n",
       "      <td>466</td>\n",
       "      <td>2023-10-30 19:31:48.721649</td>\n",
       "      <td>modelo_6390_mul_s_RF_LR_EN.pkl</td>\n",
       "      <td>{'selector__max_features': 500, 'selector__est...</td>\n",
       "      <td>X_test:(52, 18875)</td>\n",
       "      <td>['ENSG00000000938.13', 'ENSG00000005108.17', '...</td>\n",
       "      <td>0.805780</td>\n",
       "      <td>[0.6851441241685144, 0.8835227272727273, 0.664...</td>\n",
       "      <td>[0.17647058823529413, 0.5555555555555556, 0.15...</td>\n",
       "    </tr>\n",
       "  </tbody>\n",
       "</table>\n",
       "</div>"
      ],
      "text/plain": [
       "    tipo select clasific  semilla  accuracy  precision    recall  f1_score  \\\n",
       "0  mul_s     RF    LR_L2     6390  0.384615   0.416071  0.398810  0.366456   \n",
       "0  mul_s     RF    LR_L1     6390  0.288462   0.380159  0.287879  0.297863   \n",
       "0  mul_s     RF    LR_EN     6390  0.461538   0.461379  0.449675  0.442580   \n",
       "\n",
       "   roc_auc   hostname  total_time_sec                    datetime  \\\n",
       "0      NaN  amilcar22              17  2023-10-30 19:40:45.128786   \n",
       "0      NaN  amilcar22             506  2023-10-30 19:40:21.492797   \n",
       "0      NaN  amilcar22             466  2023-10-30 19:31:48.721649   \n",
       "\n",
       "                   fichero_modelo  \\\n",
       "0  modelo_6390_mul_s_RF_LR_L2.pkl   \n",
       "0  modelo_6390_mul_s_RF_LR_L1.pkl   \n",
       "0  modelo_6390_mul_s_RF_LR_EN.pkl   \n",
       "\n",
       "                                              params               shape  \\\n",
       "0  {'selector__max_features': 500, 'selector__est...  X_test:(52, 18875)   \n",
       "0  {'selector__max_features': 500, 'selector__est...  X_test:(52, 18875)   \n",
       "0  {'selector__max_features': 500, 'selector__est...  X_test:(52, 18875)   \n",
       "\n",
       "                                            features  roc_auc_ovr  \\\n",
       "0  ['ENSG00000005073.6', 'ENSG00000005381.9', 'EN...     0.791294   \n",
       "0  ['ENSG00000003056.8', 'ENSG00000005381.9', 'EN...     0.741802   \n",
       "0  ['ENSG00000000938.13', 'ENSG00000005108.17', '...     0.805780   \n",
       "\n",
       "                                         indices_auc  \\\n",
       "0  [0.5565410199556541, 0.8806818181818181, 0.690...   \n",
       "0  [0.541019955654102, 0.8352272727272727, 0.7215...   \n",
       "0  [0.6851441241685144, 0.8835227272727273, 0.664...   \n",
       "\n",
       "                                     indices_jaccard  \n",
       "0  [0.0, 0.625, 0.1111111111111111, 0.0, 0.636363...  \n",
       "0  [0.08333333333333333, 0.375, 0.1, 0.0, 0.30769...  \n",
       "0  [0.17647058823529413, 0.5555555555555556, 0.15...  "
      ]
     },
     "metadata": {},
     "output_type": "display_data"
    }
   ],
   "source": [
    "if M_TIPO.startswith(\"bin\"):\n",
    "    myfunc.save_metricas_to_csv(random_search, X_test, y_test, M_TIPO, M_SELECT, M_CLASIF, total_time, SEMILLA, myfunc.MET_DIR, M_FICHERO, fichero_modelo)\n",
    "else:\n",
    "    myfunc.save_metricas_multi_to_csv(random_search, X_test, y_test, M_TIPO, M_SELECT, M_CLASIF, total_time, SEMILLA, myfunc.MET_DIR, M_FICHERO, fichero_modelo)\n",
    "\n",
    "df1=myfunc.read_metricas_to_df(myfunc.MET_DIR,M_FICHERO)\n",
    "\n",
    "display(df1.sort_values(\"datetime\", ascending=False)[:3])\n"
   ]
  },
  {
   "cell_type": "markdown",
   "id": "c73ff6bc",
   "metadata": {
    "papermill": {
     "duration": 0.004298,
     "end_time": "2023-10-30T18:40:45.173847",
     "exception": false,
     "start_time": "2023-10-30T18:40:45.169549",
     "status": "completed"
    },
    "tags": []
   },
   "source": [
    "#### Guardar resultados"
   ]
  },
  {
   "cell_type": "code",
   "execution_count": 13,
   "id": "3146d72b",
   "metadata": {
    "execution": {
     "iopub.execute_input": "2023-10-30T18:40:45.183597Z",
     "iopub.status.busy": "2023-10-30T18:40:45.183190Z",
     "iopub.status.idle": "2023-10-30T18:40:45.191825Z",
     "shell.execute_reply": "2023-10-30T18:40:45.191394Z"
    },
    "papermill": {
     "duration": 0.014794,
     "end_time": "2023-10-30T18:40:45.193012",
     "exception": false,
     "start_time": "2023-10-30T18:40:45.178218",
     "status": "completed"
    },
    "tags": []
   },
   "outputs": [
    {
     "name": "stdout",
     "output_type": "stream",
     "text": [
      "20231030T194045 : amilcar22 : INFO : Inicio guardar resultados\n",
      "20231030T194045 : amilcar22 : INFO : Inicio guardar fichero ../tfm_git/ejecuciones/metricas/resultados_6390_mul_s-RF-LR_L2.csv\n",
      "20231030T194045 : amilcar22 : INFO : Fin guardar fichero ../tfm_git/ejecuciones/metricas/resultados_6390_mul_s-RF-LR_L2.csv\n",
      "20231030T194045 : amilcar22 : INFO : Fin guardar resultados\n"
     ]
    }
   ],
   "source": [
    "fichero_resultados=R_FICHERO+\"_\"+M_TIPO+\"-\"+M_SELECT+\"-\"+M_CLASIF+\".csv\"\n",
    "myfunc.save_resultados_to_csv(M_TIPO, M_SELECT, M_CLASIF,  random_search, myfunc.MET_DIR, fichero_resultados)\n"
   ]
  }
 ],
 "metadata": {
  "kernelspec": {
   "display_name": "Python 3 (ipykernel)",
   "language": "python",
   "name": "python3"
  },
  "language_info": {
   "codemirror_mode": {
    "name": "ipython",
    "version": 3
   },
   "file_extension": ".py",
   "mimetype": "text/x-python",
   "name": "python",
   "nbconvert_exporter": "python",
   "pygments_lexer": "ipython3",
   "version": "3.10.12"
  },
  "papermill": {
   "default_parameters": {},
   "duration": 22.126568,
   "end_time": "2023-10-30T18:40:47.814727",
   "environment_variables": {},
   "exception": null,
   "input_path": "03_entrenamiento.ipynb",
   "output_path": "ejecuciones/training/03_entrenamiento.20231030T194025.param_0000_6390_mul_s_RF_LR_L2.output.ipynb",
   "parameters": {
    "MAX_ITERS": 500,
    "M_CLASIF": "LR_L2",
    "M_FICHERO": "metricas_6390",
    "M_SELECT": "RF",
    "M_TIPO": "mul_s",
    "PRE_DATA_FILE": "rows_transpose_norm_by_gene_id_with_target_num_",
    "P_FICHERO": "param_0000_6390_mul_s_RF_LR_L2.yaml",
    "R_FICHERO": "resultados_6390",
    "SCORING": "roc_auc_ovr",
    "SEMILLA": 6390,
    "eval_clasifier": "LogisticRegressionCV(random_state=SEMILLA)",
    "eval_selector": "SelectFromModel(estimator=RandomForestClassifier(random_state=SEMILLA), threshold=-np.inf)",
    "param_distributions": {
     "clasifier__max_iter": [
      10000
     ],
     "clasifier__penalty": [
      "l2"
     ],
     "clasifier__solver": [
      "lbfgs"
     ],
     "selector__estimator__n_estimators": [
      200
     ],
     "selector__max_features": [
      500
     ]
    }
   },
   "start_time": "2023-10-30T18:40:25.688159",
   "version": "2.4.0"
  }
 },
 "nbformat": 4,
 "nbformat_minor": 5
}