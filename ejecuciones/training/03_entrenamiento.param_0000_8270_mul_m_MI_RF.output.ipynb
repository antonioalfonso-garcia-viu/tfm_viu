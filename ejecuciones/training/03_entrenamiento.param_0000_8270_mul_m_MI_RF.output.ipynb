{
 "cells": [
  {
   "cell_type": "markdown",
   "id": "d59c44f3",
   "metadata": {
    "papermill": {
     "duration": 0.00549,
     "end_time": "2023-10-29T22:29:27.814961",
     "exception": false,
     "start_time": "2023-10-29T22:29:27.809471",
     "status": "completed"
    },
    "tags": []
   },
   "source": [
    "##### Inicio"
   ]
  },
  {
   "cell_type": "markdown",
   "id": "9c97e5b3",
   "metadata": {
    "papermill": {
     "duration": 0.003354,
     "end_time": "2023-10-29T22:29:27.822148",
     "exception": false,
     "start_time": "2023-10-29T22:29:27.818794",
     "status": "completed"
    },
    "tags": []
   },
   "source": [
    "#### Carga de datos"
   ]
  },
  {
   "cell_type": "code",
   "execution_count": 1,
   "id": "ac54c615",
   "metadata": {
    "execution": {
     "iopub.execute_input": "2023-10-29T22:29:27.830293Z",
     "iopub.status.busy": "2023-10-29T22:29:27.829803Z",
     "iopub.status.idle": "2023-10-29T22:29:28.931997Z",
     "shell.execute_reply": "2023-10-29T22:29:28.931396Z"
    },
    "papermill": {
     "duration": 1.107795,
     "end_time": "2023-10-29T22:29:28.933342",
     "exception": false,
     "start_time": "2023-10-29T22:29:27.825547",
     "status": "completed"
    },
    "tags": []
   },
   "outputs": [
    {
     "name": "stdout",
     "output_type": "stream",
     "text": [
      "CPU_COUNT: 16; NODE: enderlab; sys.version: 3.10.11 (main, May 16 2023, 00:28:57) [GCC 11.2.0]\n",
      "LOKY_MAX_CPU_COUNT is not set.\n",
      "OMP_NUM_THREADS is not set.\n"
     ]
    }
   ],
   "source": [
    "import os\n",
    "import numpy as np\n",
    "import pandas as pd\n",
    "import datetime\n",
    "import sklearn\n",
    "import logging\n",
    "import warnings\n",
    "\n",
    "from sklearn.pipeline import Pipeline\n",
    "from sklearn.model_selection import RandomizedSearchCV, KFold, cross_val_score, train_test_split\n",
    "from sklearn.metrics import accuracy_score, confusion_matrix, classification_report, roc_auc_score\n",
    "\n",
    "#  cargar algoritmos para aprendizaje supervisado\n",
    "from sklearn.feature_selection import SelectKBest, f_classif, SelectFromModel, mutual_info_classif\n",
    "from sklearn.svm import SVC\n",
    "from sklearn.ensemble import RandomForestClassifier\n",
    "from sklearn.linear_model import LogisticRegression,LogisticRegressionCV\n",
    "\n",
    "# importar fichero con utilidades propias\n",
    "from commons import myfunctions as myfunc\n"
   ]
  },
  {
   "cell_type": "markdown",
   "id": "2d1363ad",
   "metadata": {
    "papermill": {
     "duration": 0.003621,
     "end_time": "2023-10-29T22:29:28.941200",
     "exception": false,
     "start_time": "2023-10-29T22:29:28.937579",
     "status": "completed"
    },
    "tags": []
   },
   "source": [
    "#### Parámetros a utilizar en el entrenamiento.\n",
    "\n",
    "Se indican los 3 algoritmos de *selección de características* (eval_selector_xxx) y los 3 algoritmos para la _clasificación_ (eval_clasifier_xxx)\n",
    "\n",
    "En *param_distributions* se indicar los parámetros que utilizan los algoritmos en la función RandomSearchCV.\n",
    "\n",
    "Esta celda tiene la etiqueta **parameters** que servirá para poder lanzar los entrenamientos con la utilidad **papermill** pasándole un fichero con los parámetros. Los nuevos parámetros se situarán tras esta celda para tener prevalencia."
   ]
  },
  {
   "cell_type": "code",
   "execution_count": 2,
   "id": "1098b642",
   "metadata": {
    "execution": {
     "iopub.execute_input": "2023-10-29T22:29:28.949517Z",
     "iopub.status.busy": "2023-10-29T22:29:28.949012Z",
     "iopub.status.idle": "2023-10-29T22:29:28.957418Z",
     "shell.execute_reply": "2023-10-29T22:29:28.956884Z"
    },
    "papermill": {
     "duration": 0.014038,
     "end_time": "2023-10-29T22:29:28.958652",
     "exception": false,
     "start_time": "2023-10-29T22:29:28.944614",
     "status": "completed"
    },
    "tags": [
     "parameters"
    ]
   },
   "outputs": [
    {
     "name": "stdout",
     "output_type": "stream",
     "text": [
      "20231029T232928 : enderlab : INFO : Utilizando parámetros de mul_m\n"
     ]
    }
   ],
   "source": [
    "#  Parametros para el entrenamiento\n",
    "\n",
    "SEMILLA=        42\n",
    "M_TIPO=         \"mul_m\"\n",
    "M_SELECT=       \"MI\"\n",
    "M_CLASIF=       \"SVM\"\n",
    "R_FICHERO=      \"resultados\"\n",
    "M_FICHERO=      \"metricas\"\n",
    "PRE_DATA_FILE=  \"rows_transpose_norm_by_gene_id_with_target_num_\"\n",
    "SCORING=        \"roc_auc_ovr\" \n",
    "MAX_ITERS=      100\n",
    "\n",
    "def mutual_info_classif_state(X, y):\n",
    "    return mutual_info_classif(X, y, random_state=SEMILLA)\n",
    "\n",
    "eval_selector_mi = \"SelectKBest(score_func=mutual_info_classif_state)\"\n",
    "eval_selector_rf=  \"SelectFromModel(estimator=RandomForestClassifier(random_state=SEMILLA), threshold=-np.inf)\"\n",
    "eval_selector_anova=  \"SelectKBest(score_func=f_classif)\"\n",
    "\n",
    "eval_clasifier_svm= \"SVC(probability=True, random_state=SEMILLA)\"\n",
    "eval_clasifier_rf= \"RandomForestClassifier(random_state=SEMILLA)\"\n",
    "eval_clasifier_lr= \"LogisticRegressionCV(random_state=SEMILLA)\"\n",
    "\n",
    "if M_TIPO.startswith(\"bin_m\"):\n",
    "    myfunc.verbose(f\"Utilizando parámetros de {M_TIPO}\")\n",
    "    eval_selector = eval_selector_mi\n",
    "    eval_clasifier = eval_clasifier_svm\n",
    "\n",
    "    SEMILLA = 6578\n",
    "    M_SELECT = \"MI\"\n",
    "    M_CLASIF = \"SVM\"\n",
    "    param_distributions = {'selector__k': [1000], \n",
    "         'clasifier__kernel': ['rbf'], 'clasifier__gamma': [0.01], 'clasifier__C': [100]}\n",
    "elif M_TIPO.startswith(\"bin_s\"):\n",
    "    myfunc.verbose(f\"Utilizando parámetros de {M_TIPO}\")\n",
    "    eval_selector = eval_selector_rf\n",
    "    eval_clasifier = eval_clasifier_lr\n",
    "\n",
    "    SEMILLA = 6191\n",
    "    M_SELECT = \"RF\"\n",
    "    M_CLASIF = \"LR_L2\"\n",
    "    param_distributions = {'selector__max_features': [1000], 'selector__estimator__n_estimators': [200], \n",
    "        'clasifier__solver': ['lbfgs'], 'clasifier__penalty': ['l2'], 'clasifier__max_iter': [10000]}\n",
    "\n",
    "elif M_TIPO.startswith(\"mul_m\"):\n",
    "    myfunc.verbose(f\"Utilizando parámetros de {M_TIPO}\")\n",
    " \n",
    "    eval_selector = eval_selector_rf\n",
    "    eval_clasifier = eval_clasifier_lr\n",
    "\n",
    "    SEMILLA = 6191\n",
    "    M_SELECT = \"RF\"\n",
    "    M_CLASIF = \"LR_L2\"\n",
    "    param_distributions = {'selector__max_features': [1000], 'selector__estimator__n_estimators': [400], \n",
    "        'clasifier__solver': ['lbfgs'], 'clasifier__penalty': ['l2'], 'clasifier__max_iter': [10000]}\n",
    "\n",
    "else:\n",
    "    # M_TIPO.startswith(\"mul_s\"):\n",
    "    myfunc.verbose(f\"Utilizando parámetros de {M_TIPO}\")\n",
    "    eval_selector = eval_selector_anova\n",
    "    eval_clasifier = eval_clasifier_lr\n",
    "\n",
    "    SEMILLA = 1860\n",
    "    M_SELECT = \"ANOVA\"\n",
    "    M_CLASIF = \"LR_L2\"\n",
    "    param_distributions = {'selector__k': [1000], \n",
    "        'clasifier__solver': ['saga'], 'clasifier__penalty': ['l2'], 'clasifier__max_iter': [10000]}\n",
    "\n"
   ]
  },
  {
   "cell_type": "code",
   "execution_count": 3,
   "id": "dd7ae541",
   "metadata": {
    "execution": {
     "iopub.execute_input": "2023-10-29T22:29:28.966996Z",
     "iopub.status.busy": "2023-10-29T22:29:28.966528Z",
     "iopub.status.idle": "2023-10-29T22:29:28.970653Z",
     "shell.execute_reply": "2023-10-29T22:29:28.970097Z"
    },
    "papermill": {
     "duration": 0.009645,
     "end_time": "2023-10-29T22:29:28.971844",
     "exception": false,
     "start_time": "2023-10-29T22:29:28.962199",
     "status": "completed"
    },
    "tags": [
     "injected-parameters"
    ]
   },
   "outputs": [],
   "source": [
    "# Parameters\n",
    "M_TIPO = \"mul_m\"\n",
    "M_SELECT = \"MI\"\n",
    "M_CLASIF = \"RF\"\n",
    "P_FICHERO = \"param_0000_8270_mul_m_MI_RF.yaml\"\n",
    "R_FICHERO = \"resultados_8270\"\n",
    "M_FICHERO = \"metricas_8270\"\n",
    "PRE_DATA_FILE = \"rows_transpose_norm_by_gene_id_with_target_num_\"\n",
    "SCORING = \"roc_auc_ovr\"\n",
    "SEMILLA = 8270\n",
    "MAX_ITERS = 500\n",
    "eval_selector = \"SelectKBest(score_func=mutual_info_classif_state)\"\n",
    "eval_clasifier = \"RandomForestClassifier(random_state=SEMILLA)\"\n",
    "param_distributions = {\n",
    "    \"selector__k\": [1000],\n",
    "    \"clasifier__n_estimators\": [200],\n",
    "    \"clasifier__min_samples_split\": [10],\n",
    "    \"clasifier__min_samples_leaf\": [5],\n",
    "    \"clasifier__max_features\": [500],\n",
    "    \"clasifier__max_depth\": [10],\n",
    "    \"clasifier__bootstrap\": [True],\n",
    "}\n"
   ]
  },
  {
   "cell_type": "code",
   "execution_count": 4,
   "id": "8f231e24",
   "metadata": {
    "execution": {
     "iopub.execute_input": "2023-10-29T22:29:28.980285Z",
     "iopub.status.busy": "2023-10-29T22:29:28.979811Z",
     "iopub.status.idle": "2023-10-29T22:29:28.983152Z",
     "shell.execute_reply": "2023-10-29T22:29:28.982610Z"
    },
    "papermill": {
     "duration": 0.009002,
     "end_time": "2023-10-29T22:29:28.984361",
     "exception": false,
     "start_time": "2023-10-29T22:29:28.975359",
     "status": "completed"
    },
    "tags": []
   },
   "outputs": [],
   "source": [
    "DATA_FILE = PRE_DATA_FILE + M_TIPO\n",
    "\n",
    "# si viene \"None\" en el parámetro max_depth, se le quitan las comillas para que no sea entendido por el algoritmo como un texto\n",
    "if \"clasifier__max_depth\" in param_distributions:\n",
    "    param_distributions['clasifier__max_depth'] = [None if x == 'None' else x for x in param_distributions['clasifier__max_depth']]"
   ]
  },
  {
   "cell_type": "markdown",
   "id": "6837a272",
   "metadata": {
    "papermill": {
     "duration": 0.003661,
     "end_time": "2023-10-29T22:29:28.991588",
     "exception": false,
     "start_time": "2023-10-29T22:29:28.987927",
     "status": "completed"
    },
    "tags": []
   },
   "source": [
    "Asignar los algoritmos que se utilizarán en la función RandomSearchCV"
   ]
  },
  {
   "cell_type": "code",
   "execution_count": 5,
   "id": "dab56800",
   "metadata": {
    "execution": {
     "iopub.execute_input": "2023-10-29T22:29:28.999875Z",
     "iopub.status.busy": "2023-10-29T22:29:28.999406Z",
     "iopub.status.idle": "2023-10-29T22:29:29.002349Z",
     "shell.execute_reply": "2023-10-29T22:29:29.001841Z"
    },
    "papermill": {
     "duration": 0.008311,
     "end_time": "2023-10-29T22:29:29.003562",
     "exception": false,
     "start_time": "2023-10-29T22:29:28.995251",
     "status": "completed"
    },
    "tags": []
   },
   "outputs": [],
   "source": [
    "algor_selector=eval(eval_selector)\n",
    "algor_clasifier=eval(eval_clasifier)"
   ]
  },
  {
   "cell_type": "markdown",
   "id": "ba13d060",
   "metadata": {
    "papermill": {
     "duration": 0.003617,
     "end_time": "2023-10-29T22:29:29.010708",
     "exception": false,
     "start_time": "2023-10-29T22:29:29.007091",
     "status": "completed"
    },
    "tags": []
   },
   "source": [
    "#### Comprobar el entorno y leer fichero de muestras"
   ]
  },
  {
   "cell_type": "code",
   "execution_count": 6,
   "id": "67c5f582",
   "metadata": {
    "execution": {
     "iopub.execute_input": "2023-10-29T22:29:29.018940Z",
     "iopub.status.busy": "2023-10-29T22:29:29.018551Z",
     "iopub.status.idle": "2023-10-29T22:29:29.255789Z",
     "shell.execute_reply": "2023-10-29T22:29:29.255177Z"
    },
    "papermill": {
     "duration": 0.24296,
     "end_time": "2023-10-29T22:29:29.257246",
     "exception": false,
     "start_time": "2023-10-29T22:29:29.014286",
     "status": "completed"
    },
    "tags": []
   },
   "outputs": [
    {
     "name": "stdout",
     "output_type": "stream",
     "text": [
      "20231029T232929 : enderlab : INFO : Encontrada carpeta DATA_DIR=../tfm_git/datos\n",
      "20231029T232929 : enderlab : INFO : Encontrada carpeta CFDNA_DIR=../tfm_git/datos/cfDNA_5hmC\n",
      "20231029T232929 : enderlab : INFO : Encontrada carpeta GENCODE_DIR=../tfm_git/datos/gencode\n",
      "20231029T232929 : enderlab : INFO : Encontrada carpeta H5_DIR=../tfm_git/datos/h5\n",
      "20231029T232929 : enderlab : INFO : Encontrada carpeta LOG_DIR=../tfm_git/datos/logs\n",
      "20231029T232929 : enderlab : INFO : Encontrada carpeta CSV_DIR=../tfm_git/datos/csv\n",
      "20231029T232929 : enderlab : INFO : Encontrada carpeta MODEL_DIR=../tfm_git/ejecuciones/modelos\n",
      "20231029T232929 : enderlab : INFO : Encontrada carpeta EXEC_DIR=../tfm_git/ejecuciones\n",
      "20231029T232929 : enderlab : INFO : Encontrada carpeta MET_DIR=../tfm_git/ejecuciones/metricas\n",
      "20231029T232929 : enderlab : INFO : Inicio leer fichero h5 ../tfm_git/datos/h5/rows_transpose_norm_by_gene_id_with_target_num_mul_m.h5\n",
      "20231029T232929 : enderlab : INFO : Leyendo clave /df\n"
     ]
    },
    {
     "name": "stdout",
     "output_type": "stream",
     "text": [
      "20231029T232929 : enderlab : INFO : Tamaño (434, 18876)\n",
      "20231029T232929 : enderlab : INFO : Fin leer fichero h5 ../tfm_git/datos/h5/rows_transpose_norm_by_gene_id_with_target_num_mul_m.h5\n"
     ]
    },
    {
     "data": {
      "text/plain": [
       "target\n",
       "0    62\n",
       "1    62\n",
       "2    62\n",
       "3    62\n",
       "4    62\n",
       "5    62\n",
       "6    62\n",
       "dtype: int64"
      ]
     },
     "metadata": {},
     "output_type": "display_data"
    },
    {
     "name": "stdout",
     "output_type": "stream",
     "text": [
      "Shape df: (434, 18876)\n"
     ]
    },
    {
     "name": "stdout",
     "output_type": "stream",
     "text": [
      "Shape X_train: (347, 18875)\n",
      "Shape X_test: (87, 18875)\n"
     ]
    }
   ],
   "source": [
    "start_time = datetime.datetime.now()\n",
    "\n",
    "myfunc.reset_vars()\n",
    "\n",
    "myfunc.NOTEBK_FILENAME = myfunc.get_nb_name()\n",
    "\n",
    "myfunc.check_enviroment(myfunc.DATA_DIR, myfunc.CFDNA_DIR, myfunc.GENCODE_DIR, myfunc.H5_DIR, myfunc.LOG_DIR, myfunc.CSV_DIR, myfunc.MODEL_DIR, myfunc.EXEC_DIR, myfunc.MET_DIR)\n",
    "\n",
    "# Leer fichero con las muestras\n",
    "df_t = myfunc.read_h5_to_df(DATA_FILE, myfunc.H5_DIR)\n",
    "display(df_t.groupby(\"target\").size())\n",
    "print(\"Shape df:\",df_t.shape)\n",
    "\n",
    "# Separar caracteristicas/genes de las etiquetas/tipos de cáncer\n",
    "X = df_t.iloc[:, :-1]  # Todas las columnas excepto la última\n",
    "y = df_t.iloc[:, -1]  # La última columna contiene los identificadores de los tipos de cáncer\n",
    "\n",
    "#  Crear el conjunto de datos de entrenamiento y de pruebas, y se fija la semilla para siempre coger el mismo juego de muestras\n",
    "X_train, X_test, y_train, y_test = train_test_split(X, y, test_size=0.2, shuffle=True, random_state=42)\n",
    "print(\"Shape X_train:\",X_train.shape)\n",
    "print(\"Shape X_test:\",X_test.shape)\n"
   ]
  },
  {
   "cell_type": "markdown",
   "id": "8a34c3e6",
   "metadata": {
    "papermill": {
     "duration": 0.004119,
     "end_time": "2023-10-29T22:29:29.266483",
     "exception": false,
     "start_time": "2023-10-29T22:29:29.262364",
     "status": "completed"
    },
    "tags": []
   },
   "source": [
    "#### Selección de características y clasificación."
   ]
  },
  {
   "cell_type": "code",
   "execution_count": 7,
   "id": "a74baa64",
   "metadata": {
    "execution": {
     "iopub.execute_input": "2023-10-29T22:29:29.275958Z",
     "iopub.status.busy": "2023-10-29T22:29:29.275434Z",
     "iopub.status.idle": "2023-10-29T22:33:39.585523Z",
     "shell.execute_reply": "2023-10-29T22:33:39.584200Z"
    },
    "papermill": {
     "duration": 250.320302,
     "end_time": "2023-10-29T22:33:39.590777",
     "exception": false,
     "start_time": "2023-10-29T22:29:29.270475",
     "status": "completed"
    },
    "tags": []
   },
   "outputs": [
    {
     "name": "stdout",
     "output_type": "stream",
     "text": [
      "20231029T232929 : enderlab : INFO : Iniciando entrenamiento\n",
      "num_iter: 1 , max_iter: 1\n",
      "Fitting 5 folds for each of 1 candidates, totalling 5 fits\n"
     ]
    },
    {
     "name": "stdout",
     "output_type": "stream",
     "text": [
      "Mejores Hiperparámetros: {'selector__k': 1000, 'clasifier__n_estimators': 200, 'clasifier__min_samples_split': 10, 'clasifier__min_samples_leaf': 5, 'clasifier__max_features': 500, 'clasifier__max_depth': 10, 'clasifier__bootstrap': True}\n",
      "Mejor Puntuación: 0.8113\n",
      "20231029T233339 : enderlab : INFO : Fin entrenamiento\n"
     ]
    }
   ],
   "source": [
    "myfunc.verbose(\"Iniciando entrenamiento\")\n",
    "\n",
    "kf = KFold(n_splits=5, shuffle=True, random_state=SEMILLA)\n",
    "\n",
    "# Crear el pipeline para el flujo de tareas\n",
    "tasks_pipeline = Pipeline([\n",
    "    ('selector', algor_selector),\n",
    "    ('clasifier', algor_clasifier)\n",
    "])\n",
    "\n",
    "# MAX_ITERS puede limitar el número de iteraciones si son excesivas para las combinaciones de parámetros buscando un óptimo local, \n",
    "# sino funcionaría como GridSearchCV al revisar todas las cominaciones de los parámetros\n",
    "num_iteraciones = 1\n",
    "num_iteraciones = num_iteraciones * np.prod([len(elemento1) for _, elemento1 in param_distributions.items()])\n",
    "max_iteraciones = num_iteraciones if num_iteraciones <= MAX_ITERS else MAX_ITERS\n",
    "print(\"num_iter:\",num_iteraciones,\", max_iter:\",max_iteraciones)\n",
    "\n",
    "random_search = RandomizedSearchCV(\n",
    "    tasks_pipeline, \n",
    "    param_distributions, \n",
    "    n_iter=max_iteraciones,\n",
    "    scoring=SCORING,\n",
    "    cv=kf,\n",
    "    verbose=3, \n",
    "    random_state=SEMILLA, \n",
    "    n_jobs=-1\n",
    "    )\n",
    "\n",
    "# Entrenar el modelo\n",
    "random_search.fit(X_train, y_train)\n",
    "\n",
    "# Ver los mejores hiperparámetros encontrados\n",
    "print(f'Mejores Hiperparámetros: {random_search.best_params_}')\n",
    "print(f'Mejor Puntuación: {random_search.best_score_:.4f}')\n",
    "\n",
    "# Nos quedamos con el mejor modelo para ver las métricas\n",
    "mejor_modelo = random_search.best_estimator_\n",
    "\n",
    "myfunc.verbose(\"Fin entrenamiento\")"
   ]
  },
  {
   "cell_type": "markdown",
   "id": "2742911a",
   "metadata": {
    "papermill": {
     "duration": 0.004131,
     "end_time": "2023-10-29T22:33:39.599400",
     "exception": false,
     "start_time": "2023-10-29T22:33:39.595269",
     "status": "completed"
    },
    "tags": []
   },
   "source": [
    "#### Guardar modelo"
   ]
  },
  {
   "cell_type": "code",
   "execution_count": 8,
   "id": "5f24e597",
   "metadata": {
    "execution": {
     "iopub.execute_input": "2023-10-29T22:33:39.620290Z",
     "iopub.status.busy": "2023-10-29T22:33:39.619917Z",
     "iopub.status.idle": "2023-10-29T22:33:39.699979Z",
     "shell.execute_reply": "2023-10-29T22:33:39.699405Z"
    },
    "papermill": {
     "duration": 0.098644,
     "end_time": "2023-10-29T22:33:39.702164",
     "exception": false,
     "start_time": "2023-10-29T22:33:39.603520",
     "status": "completed"
    },
    "tags": []
   },
   "outputs": [
    {
     "name": "stdout",
     "output_type": "stream",
     "text": [
      "20231029T233339 : enderlab : INFO : Inicio guardar fichero ../tfm_git/ejecuciones/modelos/modelo_8270_mul_m_MI_RF.pkl\n",
      "20231029T233339 : enderlab : INFO : Fin guardar fichero ../tfm_git/ejecuciones/modelos/modelo_8270_mul_m_MI_RF.pkl\n"
     ]
    }
   ],
   "source": [
    "fichero_modelo = str.replace(\"modelo_\"+str(SEMILLA).zfill(4)+\"_\"+M_TIPO+\"_\"+M_SELECT+\"_\"+M_CLASIF+\".pkl\", \" \", \"_\")\n",
    "\n",
    "myfunc.save_modelo(mejor_modelo, myfunc.MODEL_DIR, fichero_modelo)"
   ]
  },
  {
   "cell_type": "markdown",
   "id": "d43462f1",
   "metadata": {
    "papermill": {
     "duration": 0.004471,
     "end_time": "2023-10-29T22:33:39.711676",
     "exception": false,
     "start_time": "2023-10-29T22:33:39.707205",
     "status": "completed"
    },
    "tags": []
   },
   "source": [
    "#### Ver resultados del las iteraciones hechas por RandomSearchCV"
   ]
  },
  {
   "cell_type": "code",
   "execution_count": 9,
   "id": "b074bfa5",
   "metadata": {
    "execution": {
     "iopub.execute_input": "2023-10-29T22:33:39.721506Z",
     "iopub.status.busy": "2023-10-29T22:33:39.721074Z",
     "iopub.status.idle": "2023-10-29T22:33:39.727654Z",
     "shell.execute_reply": "2023-10-29T22:33:39.727085Z"
    },
    "papermill": {
     "duration": 0.012834,
     "end_time": "2023-10-29T22:33:39.728843",
     "exception": false,
     "start_time": "2023-10-29T22:33:39.716009",
     "status": "completed"
    },
    "tags": []
   },
   "outputs": [
    {
     "name": "stdout",
     "output_type": "stream",
     "text": [
      "20231029T233339 : enderlab : INFO : Inicio ver resultados\n",
      "Mejores Hiperparámetros: {'selector__k': 1000, 'clasifier__n_estimators': 200, 'clasifier__min_samples_split': 10, 'clasifier__min_samples_leaf': 5, 'clasifier__max_features': 500, 'clasifier__max_depth': 10, 'clasifier__bootstrap': True}\n",
      "Mejores puntuaciones: 0.8113 | Params: {'selector__k': 1000, 'clasifier__n_estimators': 200, 'clasifier__min_samples_split': 10, 'clasifier__min_samples_leaf': 5, 'clasifier__max_features': 500, 'clasifier__max_depth': 10, 'clasifier__bootstrap': True}\n",
      "Media de las puntuaciones: 0.8113 | Params: {'selector__k': 1000, 'clasifier__n_estimators': 200, 'clasifier__min_samples_split': 10, 'clasifier__min_samples_leaf': 5, 'clasifier__max_features': 500, 'clasifier__max_depth': 10, 'clasifier__bootstrap': True}\n",
      "20231029T233339 : enderlab : INFO : Fin resultados\n"
     ]
    }
   ],
   "source": [
    "myfunc.ver_resultados_search(random_search)"
   ]
  },
  {
   "cell_type": "markdown",
   "id": "831cb2c2",
   "metadata": {
    "papermill": {
     "duration": 0.004238,
     "end_time": "2023-10-29T22:33:39.737595",
     "exception": false,
     "start_time": "2023-10-29T22:33:39.733357",
     "status": "completed"
    },
    "tags": []
   },
   "source": [
    "#### Ver métricas del mejor modelo"
   ]
  },
  {
   "cell_type": "code",
   "execution_count": 10,
   "id": "c1b203b4",
   "metadata": {
    "execution": {
     "iopub.execute_input": "2023-10-29T22:33:39.747457Z",
     "iopub.status.busy": "2023-10-29T22:33:39.746963Z",
     "iopub.status.idle": "2023-10-29T22:33:40.503258Z",
     "shell.execute_reply": "2023-10-29T22:33:40.502647Z"
    },
    "papermill": {
     "duration": 0.7627,
     "end_time": "2023-10-29T22:33:40.504561",
     "exception": false,
     "start_time": "2023-10-29T22:33:39.741861",
     "status": "completed"
    },
    "tags": []
   },
   "outputs": [
    {
     "name": "stdout",
     "output_type": "stream",
     "text": [
      "20231029T233339 : enderlab : INFO : Inicio ver métricas multiclase\n"
     ]
    },
    {
     "name": "stdout",
     "output_type": "stream",
     "text": [
      "              precision    recall  f1-score   support\n",
      "\n",
      "           0       0.20      0.06      0.10        16\n",
      "           1       0.57      0.53      0.55        15\n",
      "           2       0.50      0.36      0.42        11\n",
      "           3       0.24      0.80      0.36         5\n",
      "           4       0.45      0.69      0.55        13\n",
      "           5       0.38      0.33      0.35         9\n",
      "           6       0.60      0.50      0.55        18\n",
      "\n",
      "    accuracy                           0.44        87\n",
      "   macro avg       0.42      0.47      0.41        87\n",
      "weighted avg       0.44      0.44      0.42        87\n",
      "\n",
      "\n",
      "\n",
      "           Exactitud: 0.436782\n",
      "   Precisión (media): 0.418818\n",
      "      Recall (media): 0.469302\n",
      "    F1-score (media): 0.410786\n",
      "\n",
      "\n",
      "AUC para el tipo de cáncer 0-Control.... 0.5915\n",
      "AUC para el tipo de cáncer 1-Bladder.... 0.8435\n",
      "AUC para el tipo de cáncer 2-Breast..... 0.7105\n",
      "AUC para el tipo de cáncer 3-Colorectal. 0.8732\n",
      "AUC para el tipo de cáncer 4-Kidney..... 0.8316\n",
      "AUC para el tipo de cáncer 5-Lung....... 0.8205\n",
      "AUC para el tipo de cáncer 6-Prostate... 0.8366\n",
      "\n",
      "Media de AUC: 0.7868\n"
     ]
    },
    {
     "data": {
      "image/png": "[encoded data removed]",
      "text/plain": [
       "<Figure size 1000x600 with 1 Axes>"
      ]
     },
     "metadata": {},
     "output_type": "display_data"
    },
    {
     "name": "stdout",
     "output_type": "stream",
     "text": [
      "\n",
      "\n"
     ]
    },
    {
     "data": {
      "image/png": "[encoded data removed]",
      "text/plain": [
       "<Figure size 800x400 with 2 Axes>"
      ]
     },
     "metadata": {},
     "output_type": "display_data"
    },
    {
     "name": "stdout",
     "output_type": "stream",
     "text": [
      "\n",
      "\n",
      "Puntuación Jaccard para el cáncer tipo 0-Control.... 0.0500\n",
      "Puntuación Jaccard para el cáncer tipo 1-Bladder.... 0.3810\n",
      "Puntuación Jaccard para el cáncer tipo 2-Breast..... 0.2667\n",
      "Puntuación Jaccard para el cáncer tipo 3-Colorectal. 0.2222\n",
      "Puntuación Jaccard para el cáncer tipo 4-Kidney..... 0.3750\n",
      "Puntuación Jaccard para el cáncer tipo 5-Lung....... 0.2143\n",
      "Puntuación Jaccard para el cáncer tipo 6-Prostate... 0.3750\n",
      "\n",
      "Media de la puntuación de Jaccard: 0.2692\n"
     ]
    }
   ],
   "source": [
    "if M_TIPO.startswith(\"bin\"):\n",
    "    myfunc.ver_metricas(mejor_modelo, X_test, y_test)\n",
    "else:\n",
    "    myfunc.ver_metricas_multi(mejor_modelo, X_test, y_test)\n"
   ]
  },
  {
   "cell_type": "markdown",
   "id": "87e9e3e9",
   "metadata": {
    "papermill": {
     "duration": 0.006313,
     "end_time": "2023-10-29T22:33:40.517662",
     "exception": false,
     "start_time": "2023-10-29T22:33:40.511349",
     "status": "completed"
    },
    "tags": []
   },
   "source": [
    "#### Finalización del notebook"
   ]
  },
  {
   "cell_type": "code",
   "execution_count": 11,
   "id": "1a9f4526",
   "metadata": {
    "execution": {
     "iopub.execute_input": "2023-10-29T22:33:40.530825Z",
     "iopub.status.busy": "2023-10-29T22:33:40.530336Z",
     "iopub.status.idle": "2023-10-29T22:33:40.534142Z",
     "shell.execute_reply": "2023-10-29T22:33:40.533599Z"
    },
    "papermill": {
     "duration": 0.011879,
     "end_time": "2023-10-29T22:33:40.535365",
     "exception": false,
     "start_time": "2023-10-29T22:33:40.523486",
     "status": "completed"
    },
    "tags": []
   },
   "outputs": [
    {
     "name": "stdout",
     "output_type": "stream",
     "text": [
      "20231029T233340 : enderlab : INFO : Notebook ha tardado 251 seconds\n"
     ]
    }
   ],
   "source": [
    "end_time = datetime.datetime.now()\n",
    "total_time = end_time - start_time\n",
    "myfunc.verbose(f\"Notebook ha tardado {total_time.seconds} seconds\")"
   ]
  },
  {
   "cell_type": "markdown",
   "id": "12675f47",
   "metadata": {
    "papermill": {
     "duration": 0.005968,
     "end_time": "2023-10-29T22:33:40.547274",
     "exception": false,
     "start_time": "2023-10-29T22:33:40.541306",
     "status": "completed"
    },
    "tags": []
   },
   "source": [
    "#### Guardar métricas"
   ]
  },
  {
   "cell_type": "code",
   "execution_count": 12,
   "id": "08ac1d16",
   "metadata": {
    "execution": {
     "iopub.execute_input": "2023-10-29T22:33:40.560235Z",
     "iopub.status.busy": "2023-10-29T22:33:40.559708Z",
     "iopub.status.idle": "2023-10-29T22:33:40.844761Z",
     "shell.execute_reply": "2023-10-29T22:33:40.844201Z"
    },
    "papermill": {
     "duration": 0.292894,
     "end_time": "2023-10-29T22:33:40.846032",
     "exception": false,
     "start_time": "2023-10-29T22:33:40.553138",
     "status": "completed"
    },
    "tags": []
   },
   "outputs": [
    {
     "name": "stdout",
     "output_type": "stream",
     "text": [
      "20231029T233340 : enderlab : INFO : Inicio guardar métricas multiclase\n",
      "20231029T233340 : enderlab : INFO : Inicio leer fichero ../tfm_git/ejecuciones/metricas/metricas_8270.csv\n",
      "20231029T233340 : enderlab : INFO : Fin leer fichero ../tfm_git/ejecuciones/metricas/metricas_8270.csv\n"
     ]
    },
    {
     "name": "stdout",
     "output_type": "stream",
     "text": [
      "20231029T233340 : enderlab : INFO : Inicio guardar fichero ../tfm_git/ejecuciones/metricas/metricas_8270.csv\n",
      "20231029T233340 : enderlab : INFO : Fichero borrado ../tfm_git/ejecuciones/metricas/metricas_8270.csv\n",
      "20231029T233340 : enderlab : INFO : Fin guardar fichero ../tfm_git/ejecuciones/metricas/metricas_8270.csv\n",
      "20231029T233340 : enderlab : INFO : Fin guardar métricas multiclase\n",
      "20231029T233340 : enderlab : INFO : Inicio leer fichero ../tfm_git/ejecuciones/metricas/metricas_8270.csv\n",
      "20231029T233340 : enderlab : INFO : Fin leer fichero ../tfm_git/ejecuciones/metricas/metricas_8270.csv\n"
     ]
    },
    {
     "data": {
      "text/html": [
       "<div>\n",
       "<style scoped>\n",
       "    .dataframe tbody tr th:only-of-type {\n",
       "        vertical-align: middle;\n",
       "    }\n",
       "\n",
       "    .dataframe tbody tr th {\n",
       "        vertical-align: top;\n",
       "    }\n",
       "\n",
       "    .dataframe thead th {\n",
       "        text-align: right;\n",
       "    }\n",
       "</style>\n",
       "<table border=\"1\" class=\"dataframe\">\n",
       "  <thead>\n",
       "    <tr style=\"text-align: right;\">\n",
       "      <th></th>\n",
       "      <th>tipo</th>\n",
       "      <th>select</th>\n",
       "      <th>clasific</th>\n",
       "      <th>semilla</th>\n",
       "      <th>accuracy</th>\n",
       "      <th>precision</th>\n",
       "      <th>recall</th>\n",
       "      <th>f1_score</th>\n",
       "      <th>roc_auc</th>\n",
       "      <th>hostname</th>\n",
       "      <th>total_time_sec</th>\n",
       "      <th>datetime</th>\n",
       "      <th>fichero_modelo</th>\n",
       "      <th>params</th>\n",
       "      <th>shape</th>\n",
       "      <th>features</th>\n",
       "      <th>roc_auc_ovr</th>\n",
       "      <th>indices_auc</th>\n",
       "      <th>indices_jaccard</th>\n",
       "    </tr>\n",
       "  </thead>\n",
       "  <tbody>\n",
       "    <tr>\n",
       "      <th>0</th>\n",
       "      <td>mul_m</td>\n",
       "      <td>MI</td>\n",
       "      <td>RF</td>\n",
       "      <td>8270</td>\n",
       "      <td>0.436782</td>\n",
       "      <td>0.418818</td>\n",
       "      <td>0.469302</td>\n",
       "      <td>0.410786</td>\n",
       "      <td>NaN</td>\n",
       "      <td>enderlab</td>\n",
       "      <td>251</td>\n",
       "      <td>2023-10-29 23:33:40.799319</td>\n",
       "      <td>modelo_8270_mul_m_MI_RF.pkl</td>\n",
       "      <td>{'selector__k': 1000, 'clasifier__n_estimators...</td>\n",
       "      <td>X_test:(87, 18875)</td>\n",
       "      <td>['ENSG00000001460.18', 'ENSG00000004660.15', '...</td>\n",
       "      <td>0.786776</td>\n",
       "      <td>[0.5915492957746479, 0.8435185185185186, 0.710...</td>\n",
       "      <td>[0.05, 0.38095238095238093, 0.2666666666666666...</td>\n",
       "    </tr>\n",
       "    <tr>\n",
       "      <th>0</th>\n",
       "      <td>mul_m</td>\n",
       "      <td>MI</td>\n",
       "      <td>LR_L2</td>\n",
       "      <td>8270</td>\n",
       "      <td>0.632184</td>\n",
       "      <td>0.629186</td>\n",
       "      <td>0.647490</td>\n",
       "      <td>0.634492</td>\n",
       "      <td>NaN</td>\n",
       "      <td>enderlab</td>\n",
       "      <td>253</td>\n",
       "      <td>2023-10-29 23:29:22.264500</td>\n",
       "      <td>modelo_8270_mul_m_MI_LR_L2.pkl</td>\n",
       "      <td>{'selector__k': 1000, 'clasifier__solver': 'lb...</td>\n",
       "      <td>X_test:(87, 18875)</td>\n",
       "      <td>['ENSG00000001460.18', 'ENSG00000004660.15', '...</td>\n",
       "      <td>0.889684</td>\n",
       "      <td>[0.8829225352112676, 0.8731481481481482, 0.802...</td>\n",
       "      <td>[0.42857142857142855, 0.47368421052631576, 0.2...</td>\n",
       "    </tr>\n",
       "    <tr>\n",
       "      <th>0</th>\n",
       "      <td>mul_m</td>\n",
       "      <td>MI</td>\n",
       "      <td>LR_L1</td>\n",
       "      <td>8270</td>\n",
       "      <td>0.655172</td>\n",
       "      <td>0.654633</td>\n",
       "      <td>0.683403</td>\n",
       "      <td>0.659399</td>\n",
       "      <td>NaN</td>\n",
       "      <td>enderlab</td>\n",
       "      <td>1592</td>\n",
       "      <td>2023-10-29 23:25:01.365105</td>\n",
       "      <td>modelo_8270_mul_m_MI_LR_L1.pkl</td>\n",
       "      <td>{'selector__k': 1000, 'clasifier__solver': 'sa...</td>\n",
       "      <td>X_test:(87, 18875)</td>\n",
       "      <td>['ENSG00000001460.18', 'ENSG00000004660.15', '...</td>\n",
       "      <td>0.884685</td>\n",
       "      <td>[0.8961267605633803, 0.8703703703703703, 0.795...</td>\n",
       "      <td>[0.5, 0.4444444444444444, 0.3125, 0.625, 0.421...</td>\n",
       "    </tr>\n",
       "  </tbody>\n",
       "</table>\n",
       "</div>"
      ],
      "text/plain": [
       "    tipo select clasific  semilla  accuracy  precision    recall  f1_score  \\\n",
       "0  mul_m     MI       RF     8270  0.436782   0.418818  0.469302  0.410786   \n",
       "0  mul_m     MI    LR_L2     8270  0.632184   0.629186  0.647490  0.634492   \n",
       "0  mul_m     MI    LR_L1     8270  0.655172   0.654633  0.683403  0.659399   \n",
       "\n",
       "   roc_auc  hostname  total_time_sec                    datetime  \\\n",
       "0      NaN  enderlab             251  2023-10-29 23:33:40.799319   \n",
       "0      NaN  enderlab             253  2023-10-29 23:29:22.264500   \n",
       "0      NaN  enderlab            1592  2023-10-29 23:25:01.365105   \n",
       "\n",
       "                   fichero_modelo  \\\n",
       "0     modelo_8270_mul_m_MI_RF.pkl   \n",
       "0  modelo_8270_mul_m_MI_LR_L2.pkl   \n",
       "0  modelo_8270_mul_m_MI_LR_L1.pkl   \n",
       "\n",
       "                                              params               shape  \\\n",
       "0  {'selector__k': 1000, 'clasifier__n_estimators...  X_test:(87, 18875)   \n",
       "0  {'selector__k': 1000, 'clasifier__solver': 'lb...  X_test:(87, 18875)   \n",
       "0  {'selector__k': 1000, 'clasifier__solver': 'sa...  X_test:(87, 18875)   \n",
       "\n",
       "                                            features  roc_auc_ovr  \\\n",
       "0  ['ENSG00000001460.18', 'ENSG00000004660.15', '...     0.786776   \n",
       "0  ['ENSG00000001460.18', 'ENSG00000004660.15', '...     0.889684   \n",
       "0  ['ENSG00000001460.18', 'ENSG00000004660.15', '...     0.884685   \n",
       "\n",
       "                                         indices_auc  \\\n",
       "0  [0.5915492957746479, 0.8435185185185186, 0.710...   \n",
       "0  [0.8829225352112676, 0.8731481481481482, 0.802...   \n",
       "0  [0.8961267605633803, 0.8703703703703703, 0.795...   \n",
       "\n",
       "                                     indices_jaccard  \n",
       "0  [0.05, 0.38095238095238093, 0.2666666666666666...  \n",
       "0  [0.42857142857142855, 0.47368421052631576, 0.2...  \n",
       "0  [0.5, 0.4444444444444444, 0.3125, 0.625, 0.421...  "
      ]
     },
     "metadata": {},
     "output_type": "display_data"
    }
   ],
   "source": [
    "if M_TIPO.startswith(\"bin\"):\n",
    "    myfunc.save_metricas_to_csv(random_search, X_test, y_test, M_TIPO, M_SELECT, M_CLASIF, total_time, SEMILLA, myfunc.MET_DIR, M_FICHERO, fichero_modelo)\n",
    "else:\n",
    "    myfunc.save_metricas_multi_to_csv(random_search, X_test, y_test, M_TIPO, M_SELECT, M_CLASIF, total_time, SEMILLA, myfunc.MET_DIR, M_FICHERO, fichero_modelo)\n",
    "\n",
    "df1=myfunc.read_metricas_to_df(myfunc.MET_DIR,M_FICHERO)\n",
    "\n",
    "display(df1.sort_values(\"datetime\", ascending=False)[:3])\n"
   ]
  },
  {
   "cell_type": "markdown",
   "id": "a488f668",
   "metadata": {
    "papermill": {
     "duration": 0.006652,
     "end_time": "2023-10-29T22:33:40.859834",
     "exception": false,
     "start_time": "2023-10-29T22:33:40.853182",
     "status": "completed"
    },
    "tags": []
   },
   "source": [
    "#### Guardar resultados"
   ]
  },
  {
   "cell_type": "code",
   "execution_count": 13,
   "id": "5e03fda8",
   "metadata": {
    "execution": {
     "iopub.execute_input": "2023-10-29T22:33:40.873640Z",
     "iopub.status.busy": "2023-10-29T22:33:40.873012Z",
     "iopub.status.idle": "2023-10-29T22:33:40.882179Z",
     "shell.execute_reply": "2023-10-29T22:33:40.881633Z"
    },
    "papermill": {
     "duration": 0.017345,
     "end_time": "2023-10-29T22:33:40.883411",
     "exception": false,
     "start_time": "2023-10-29T22:33:40.866066",
     "status": "completed"
    },
    "tags": []
   },
   "outputs": [
    {
     "name": "stdout",
     "output_type": "stream",
     "text": [
      "20231029T233340 : enderlab : INFO : Inicio guardar resultados\n",
      "20231029T233340 : enderlab : INFO : Inicio guardar fichero ../tfm_git/ejecuciones/metricas/resultados_8270_mul_m-MI-RF.csv\n",
      "20231029T233340 : enderlab : INFO : Fin guardar fichero ../tfm_git/ejecuciones/metricas/resultados_8270_mul_m-MI-RF.csv\n",
      "20231029T233340 : enderlab : INFO : Fin guardar resultados\n"
     ]
    }
   ],
   "source": [
    "fichero_resultados=R_FICHERO+\"_\"+M_TIPO+\"-\"+M_SELECT+\"-\"+M_CLASIF+\".csv\"\n",
    "myfunc.save_resultados_to_csv(M_TIPO, M_SELECT, M_CLASIF,  random_search, myfunc.MET_DIR, fichero_resultados)\n"
   ]
  }
 ],
 "metadata": {
  "kernelspec": {
   "display_name": "Python 3 (ipykernel)",
   "language": "python",
   "name": "python3"
  },
  "language_info": {
   "codemirror_mode": {
    "name": "ipython",
    "version": 3
   },
   "file_extension": ".py",
   "mimetype": "text/x-python",
   "name": "python",
   "nbconvert_exporter": "python",
   "pygments_lexer": "ipython3",
   "version": "3.10.11"
  },
  "papermill": {
   "default_parameters": {},
   "duration": 256.888181,
   "end_time": "2023-10-29T22:33:43.510726",
   "environment_variables": {},
   "exception": null,
   "input_path": "03_entrenamiento.ipynb",
   "output_path": "ejecuciones/training/03_entrenamiento.20231029T232926.param_0000_8270_mul_m_MI_RF.output.ipynb",
   "parameters": {
    "MAX_ITERS": 500,
    "M_CLASIF": "RF",
    "M_FICHERO": "metricas_8270",
    "M_SELECT": "MI",
    "M_TIPO": "mul_m",
    "PRE_DATA_FILE": "rows_transpose_norm_by_gene_id_with_target_num_",
    "P_FICHERO": "param_0000_8270_mul_m_MI_RF.yaml",
    "R_FICHERO": "resultados_8270",
    "SCORING": "roc_auc_ovr",
    "SEMILLA": 8270,
    "eval_clasifier": "RandomForestClassifier(random_state=SEMILLA)",
    "eval_selector": "SelectKBest(score_func=mutual_info_classif_state)",
    "param_distributions": {
     "clasifier__bootstrap": [
      true
     ],
     "clasifier__max_depth": [
      10
     ],
     "clasifier__max_features": [
      500
     ],
     "clasifier__min_samples_leaf": [
      5
     ],
     "clasifier__min_samples_split": [
      10
     ],
     "clasifier__n_estimators": [
      200
     ],
     "selector__k": [
      1000
     ]
    }
   },
   "start_time": "2023-10-29T22:29:26.622545",
   "version": "2.4.0"
  }
 },
 "nbformat": 4,
 "nbformat_minor": 5
}