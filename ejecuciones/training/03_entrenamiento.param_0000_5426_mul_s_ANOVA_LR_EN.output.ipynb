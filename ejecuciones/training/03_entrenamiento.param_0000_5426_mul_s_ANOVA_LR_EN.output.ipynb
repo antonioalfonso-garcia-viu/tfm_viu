{
 "cells": [
  {
   "cell_type": "markdown",
   "id": "e201e0ed",
   "metadata": {
    "papermill": {
     "duration": 0.0,
     "end_time": "2023-10-30T10:14:10.646034",
     "exception": false,
     "start_time": "2023-10-30T10:14:10.646034",
     "status": "completed"
    },
    "tags": []
   },
   "source": [
    "##### Inicio"
   ]
  },
  {
   "cell_type": "markdown",
   "id": "5634a48a",
   "metadata": {
    "papermill": {
     "duration": 0.0,
     "end_time": "2023-10-30T10:14:10.661468",
     "exception": false,
     "start_time": "2023-10-30T10:14:10.661468",
     "status": "completed"
    },
    "tags": []
   },
   "source": [
    "#### Carga de datos"
   ]
  },
  {
   "cell_type": "code",
   "execution_count": 1,
   "id": "b1b6006f",
   "metadata": {
    "execution": {
     "iopub.execute_input": "2023-10-30T10:14:10.661468Z",
     "iopub.status.busy": "2023-10-30T10:14:10.661468Z",
     "iopub.status.idle": "2023-10-30T10:14:11.824826Z",
     "shell.execute_reply": "2023-10-30T10:14:11.824826Z"
    },
    "papermill": {
     "duration": 1.163358,
     "end_time": "2023-10-30T10:14:11.824826",
     "exception": false,
     "start_time": "2023-10-30T10:14:10.661468",
     "status": "completed"
    },
    "tags": []
   },
   "outputs": [
    {
     "name": "stdout",
     "output_type": "stream",
     "text": [
      "CPU_COUNT: 24; NODE: amilcar32; sys.version: 3.10.12 | packaged by Anaconda, Inc. | (main, Jul  5 2023, 19:09:20) [MSC v.1916 64 bit (AMD64)]\n",
      "LOKY_MAX_CPU_COUNT is not set.\n",
      "OMP_NUM_THREADS is not set.\n"
     ]
    }
   ],
   "source": [
    "import os\n",
    "import numpy as np\n",
    "import pandas as pd\n",
    "import datetime\n",
    "import sklearn\n",
    "import logging\n",
    "import warnings\n",
    "\n",
    "from sklearn.pipeline import Pipeline\n",
    "from sklearn.model_selection import RandomizedSearchCV, KFold, cross_val_score, train_test_split\n",
    "from sklearn.metrics import accuracy_score, confusion_matrix, classification_report, roc_auc_score\n",
    "\n",
    "#  cargar algoritmos para aprendizaje supervisado\n",
    "from sklearn.feature_selection import SelectKBest, f_classif, SelectFromModel, mutual_info_classif\n",
    "from sklearn.svm import SVC\n",
    "from sklearn.ensemble import RandomForestClassifier\n",
    "from sklearn.linear_model import LogisticRegression,LogisticRegressionCV\n",
    "\n",
    "# importar fichero con utilidades propias\n",
    "from commons import myfunctions as myfunc\n"
   ]
  },
  {
   "cell_type": "markdown",
   "id": "33aaba07",
   "metadata": {
    "papermill": {
     "duration": 0.0,
     "end_time": "2023-10-30T10:14:11.824826",
     "exception": false,
     "start_time": "2023-10-30T10:14:11.824826",
     "status": "completed"
    },
    "tags": []
   },
   "source": [
    "#### Parámetros a utilizar en el entrenamiento.\n",
    "\n",
    "Se indican los 3 algoritmos de *selección de características* (eval_selector_xxx) y los 3 algoritmos para la _clasificación_ (eval_clasifier_xxx)\n",
    "\n",
    "En *param_distributions* se indicar los parámetros que utilizan los algoritmos en la función RandomSearchCV.\n",
    "\n",
    "Esta celda tiene la etiqueta **parameters** que servirá para poder lanzar los entrenamientos con la utilidad **papermill** pasándole un fichero con los parámetros. Los nuevos parámetros se situarán tras esta celda para tener prevalencia."
   ]
  },
  {
   "cell_type": "code",
   "execution_count": 2,
   "id": "1c413794",
   "metadata": {
    "execution": {
     "iopub.execute_input": "2023-10-30T10:14:11.824826Z",
     "iopub.status.busy": "2023-10-30T10:14:11.824826Z",
     "iopub.status.idle": "2023-10-30T10:14:11.856057Z",
     "shell.execute_reply": "2023-10-30T10:14:11.856057Z"
    },
    "papermill": {
     "duration": 0.031231,
     "end_time": "2023-10-30T10:14:11.856057",
     "exception": false,
     "start_time": "2023-10-30T10:14:11.824826",
     "status": "completed"
    },
    "tags": [
     "parameters"
    ]
   },
   "outputs": [
    {
     "name": "stdout",
     "output_type": "stream",
     "text": [
      "20231030T111411 : amilcar32 : INFO : Utilizando parámetros de mul_m\n"
     ]
    }
   ],
   "source": [
    "#  Parametros para el entrenamiento\n",
    "\n",
    "SEMILLA=        42\n",
    "M_TIPO=         \"mul_m\"\n",
    "M_SELECT=       \"MI\"\n",
    "M_CLASIF=       \"SVM\"\n",
    "R_FICHERO=      \"resultados\"\n",
    "M_FICHERO=      \"metricas\"\n",
    "PRE_DATA_FILE=  \"rows_transpose_norm_by_gene_id_with_target_num_\"\n",
    "SCORING=        \"roc_auc_ovr\" \n",
    "MAX_ITERS=      100\n",
    "\n",
    "def mutual_info_classif_state(X, y):\n",
    "    return mutual_info_classif(X, y, random_state=SEMILLA)\n",
    "\n",
    "eval_selector_mi = \"SelectKBest(score_func=mutual_info_classif_state)\"\n",
    "eval_selector_rf=  \"SelectFromModel(estimator=RandomForestClassifier(random_state=SEMILLA), threshold=-np.inf)\"\n",
    "eval_selector_anova=  \"SelectKBest(score_func=f_classif)\"\n",
    "\n",
    "eval_clasifier_svm= \"SVC(probability=True, random_state=SEMILLA)\"\n",
    "eval_clasifier_rf= \"RandomForestClassifier(random_state=SEMILLA)\"\n",
    "eval_clasifier_lr= \"LogisticRegressionCV(random_state=SEMILLA)\"\n",
    "\n",
    "if M_TIPO.startswith(\"bin_m\"):\n",
    "    myfunc.verbose(f\"Utilizando parámetros de {M_TIPO}\")\n",
    "    eval_selector = eval_selector_mi\n",
    "    eval_clasifier = eval_clasifier_svm\n",
    "\n",
    "    SEMILLA = 6578\n",
    "    M_SELECT = \"MI\"\n",
    "    M_CLASIF = \"SVM\"\n",
    "    param_distributions = {'selector__k': [1000], \n",
    "         'clasifier__kernel': ['rbf'], 'clasifier__gamma': [0.01], 'clasifier__C': [100]}\n",
    "elif M_TIPO.startswith(\"bin_s\"):\n",
    "    myfunc.verbose(f\"Utilizando parámetros de {M_TIPO}\")\n",
    "    eval_selector = eval_selector_rf\n",
    "    eval_clasifier = eval_clasifier_lr\n",
    "\n",
    "    SEMILLA = 6191\n",
    "    M_SELECT = \"RF\"\n",
    "    M_CLASIF = \"LR_L2\"\n",
    "    param_distributions = {'selector__max_features': [1000], 'selector__estimator__n_estimators': [200], \n",
    "        'clasifier__solver': ['lbfgs'], 'clasifier__penalty': ['l2'], 'clasifier__max_iter': [10000]}\n",
    "\n",
    "elif M_TIPO.startswith(\"mul_m\"):\n",
    "    myfunc.verbose(f\"Utilizando parámetros de {M_TIPO}\")\n",
    " \n",
    "    eval_selector = eval_selector_rf\n",
    "    eval_clasifier = eval_clasifier_lr\n",
    "\n",
    "    SEMILLA = 6191\n",
    "    M_SELECT = \"RF\"\n",
    "    M_CLASIF = \"LR_L2\"\n",
    "    param_distributions = {'selector__max_features': [1000], 'selector__estimator__n_estimators': [400], \n",
    "        'clasifier__solver': ['lbfgs'], 'clasifier__penalty': ['l2'], 'clasifier__max_iter': [10000]}\n",
    "\n",
    "else:\n",
    "    # M_TIPO.startswith(\"mul_s\"):\n",
    "    myfunc.verbose(f\"Utilizando parámetros de {M_TIPO}\")\n",
    "    eval_selector = eval_selector_anova\n",
    "    eval_clasifier = eval_clasifier_lr\n",
    "\n",
    "    SEMILLA = 1860\n",
    "    M_SELECT = \"ANOVA\"\n",
    "    M_CLASIF = \"LR_L2\"\n",
    "    param_distributions = {'selector__k': [1000], \n",
    "        'clasifier__solver': ['saga'], 'clasifier__penalty': ['l2'], 'clasifier__max_iter': [10000]}\n",
    "\n"
   ]
  },
  {
   "cell_type": "code",
   "execution_count": 3,
   "id": "c43c0a03",
   "metadata": {
    "execution": {
     "iopub.execute_input": "2023-10-30T10:14:11.861040Z",
     "iopub.status.busy": "2023-10-30T10:14:11.861040Z",
     "iopub.status.idle": "2023-10-30T10:14:11.887442Z",
     "shell.execute_reply": "2023-10-30T10:14:11.887442Z"
    },
    "papermill": {
     "duration": 0.026402,
     "end_time": "2023-10-30T10:14:11.887442",
     "exception": false,
     "start_time": "2023-10-30T10:14:11.861040",
     "status": "completed"
    },
    "tags": [
     "injected-parameters"
    ]
   },
   "outputs": [],
   "source": [
    "# Parameters\n",
    "M_TIPO = \"mul_s\"\n",
    "M_SELECT = \"ANOVA\"\n",
    "M_CLASIF = \"LR_EN\"\n",
    "P_FICHERO = \"param_0000_5426_mul_s_ANOVA_LR_EN.yaml\"\n",
    "R_FICHERO = \"resultados_5426\"\n",
    "M_FICHERO = \"metricas_5426\"\n",
    "PRE_DATA_FILE = \"rows_transpose_norm_by_gene_id_with_target_num_\"\n",
    "SCORING = \"roc_auc_ovr\"\n",
    "SEMILLA = 5426\n",
    "MAX_ITERS = 500\n",
    "eval_selector = \"SelectKBest(score_func=f_classif)\"\n",
    "eval_clasifier = \"LogisticRegressionCV(random_state=SEMILLA)\"\n",
    "param_distributions = {\n",
    "    \"selector__k\": [1000],\n",
    "    \"clasifier__solver\": [\"saga\"],\n",
    "    \"clasifier__penalty\": [\"elasticnet\"],\n",
    "    \"clasifier__max_iter\": [10000],\n",
    "    \"clasifier__l1_ratios\": [[0.1]],\n",
    "}\n"
   ]
  },
  {
   "cell_type": "code",
   "execution_count": 4,
   "id": "6300fe50",
   "metadata": {
    "execution": {
     "iopub.execute_input": "2023-10-30T10:14:11.887442Z",
     "iopub.status.busy": "2023-10-30T10:14:11.887442Z",
     "iopub.status.idle": "2023-10-30T10:14:11.903092Z",
     "shell.execute_reply": "2023-10-30T10:14:11.903092Z"
    },
    "papermill": {
     "duration": 0.01565,
     "end_time": "2023-10-30T10:14:11.903092",
     "exception": false,
     "start_time": "2023-10-30T10:14:11.887442",
     "status": "completed"
    },
    "tags": []
   },
   "outputs": [],
   "source": [
    "DATA_FILE = PRE_DATA_FILE + M_TIPO\n",
    "\n",
    "# si viene \"None\" en el parámetro max_depth, se le quitan las comillas para que no sea entendido por el algoritmo como un texto\n",
    "if \"clasifier__max_depth\" in param_distributions:\n",
    "    param_distributions['clasifier__max_depth'] = [None if x == 'None' else x for x in param_distributions['clasifier__max_depth']]"
   ]
  },
  {
   "cell_type": "markdown",
   "id": "01645a95",
   "metadata": {
    "papermill": {
     "duration": 0.0,
     "end_time": "2023-10-30T10:14:11.903092",
     "exception": false,
     "start_time": "2023-10-30T10:14:11.903092",
     "status": "completed"
    },
    "tags": []
   },
   "source": [
    "Asignar los algoritmos que se utilizarán en la función RandomSearchCV"
   ]
  },
  {
   "cell_type": "code",
   "execution_count": 5,
   "id": "d91312bf",
   "metadata": {
    "execution": {
     "iopub.execute_input": "2023-10-30T10:14:11.903092Z",
     "iopub.status.busy": "2023-10-30T10:14:11.903092Z",
     "iopub.status.idle": "2023-10-30T10:14:11.918705Z",
     "shell.execute_reply": "2023-10-30T10:14:11.918705Z"
    },
    "papermill": {
     "duration": 0.015613,
     "end_time": "2023-10-30T10:14:11.918705",
     "exception": false,
     "start_time": "2023-10-30T10:14:11.903092",
     "status": "completed"
    },
    "tags": []
   },
   "outputs": [],
   "source": [
    "algor_selector=eval(eval_selector)\n",
    "algor_clasifier=eval(eval_clasifier)"
   ]
  },
  {
   "cell_type": "markdown",
   "id": "a0119c87",
   "metadata": {
    "papermill": {
     "duration": 0.0,
     "end_time": "2023-10-30T10:14:11.918705",
     "exception": false,
     "start_time": "2023-10-30T10:14:11.918705",
     "status": "completed"
    },
    "tags": []
   },
   "source": [
    "#### Comprobar el entorno y leer fichero de muestras"
   ]
  },
  {
   "cell_type": "code",
   "execution_count": 6,
   "id": "6ffc75f0",
   "metadata": {
    "execution": {
     "iopub.execute_input": "2023-10-30T10:14:11.918705Z",
     "iopub.status.busy": "2023-10-30T10:14:11.918705Z",
     "iopub.status.idle": "2023-10-30T10:14:12.060225Z",
     "shell.execute_reply": "2023-10-30T10:14:12.060225Z"
    },
    "papermill": {
     "duration": 0.14152,
     "end_time": "2023-10-30T10:14:12.060225",
     "exception": false,
     "start_time": "2023-10-30T10:14:11.918705",
     "status": "completed"
    },
    "tags": []
   },
   "outputs": [
    {
     "name": "stdout",
     "output_type": "stream",
     "text": [
      "20231030T111411 : amilcar32 : INFO : Encontrada carpeta DATA_DIR=..\\tfm_viu\\datos\n",
      "20231030T111411 : amilcar32 : INFO : Encontrada carpeta CFDNA_DIR=..\\tfm_viu\\datos\\cfDNA_5hmC\n",
      "20231030T111411 : amilcar32 : INFO : Encontrada carpeta GENCODE_DIR=..\\tfm_viu\\datos\\gencode\n",
      "20231030T111411 : amilcar32 : INFO : Encontrada carpeta H5_DIR=..\\tfm_viu\\datos\\h5\n",
      "20231030T111411 : amilcar32 : INFO : Encontrada carpeta LOG_DIR=..\\tfm_viu\\datos\\logs\n",
      "20231030T111411 : amilcar32 : INFO : Encontrada carpeta CSV_DIR=..\\tfm_viu\\datos\\csv\n",
      "20231030T111411 : amilcar32 : INFO : Encontrada carpeta MODEL_DIR=..\\tfm_viu\\ejecuciones\\modelos\n",
      "20231030T111411 : amilcar32 : INFO : Encontrada carpeta EXEC_DIR=..\\tfm_viu\\ejecuciones\n",
      "20231030T111411 : amilcar32 : INFO : Encontrada carpeta MET_DIR=..\\tfm_viu\\ejecuciones\\metricas\n",
      "20231030T111411 : amilcar32 : INFO : Inicio leer fichero h5 ..\\tfm_viu\\datos\\h5\\rows_transpose_norm_by_gene_id_with_target_num_mul_s.h5\n",
      "20231030T111411 : amilcar32 : INFO : Leyendo clave /df\n"
     ]
    },
    {
     "name": "stdout",
     "output_type": "stream",
     "text": [
      "20231030T111412 : amilcar32 : INFO : Tamaño (259, 18876)\n",
      "20231030T111412 : amilcar32 : INFO : Fin leer fichero h5 ..\\tfm_viu\\datos\\h5\\rows_transpose_norm_by_gene_id_with_target_num_mul_s.h5\n"
     ]
    },
    {
     "data": {
      "text/plain": [
       "target\n",
       "0    37\n",
       "1    37\n",
       "2    37\n",
       "3    37\n",
       "4    37\n",
       "5    37\n",
       "6    37\n",
       "dtype: int64"
      ]
     },
     "metadata": {},
     "output_type": "display_data"
    },
    {
     "name": "stdout",
     "output_type": "stream",
     "text": [
      "Shape df: (259, 18876)\n",
      "Shape X_train: (207, 18875)\n",
      "Shape X_test: (52, 18875)\n"
     ]
    }
   ],
   "source": [
    "start_time = datetime.datetime.now()\n",
    "\n",
    "myfunc.reset_vars()\n",
    "\n",
    "myfunc.NOTEBK_FILENAME = myfunc.get_nb_name()\n",
    "\n",
    "myfunc.check_enviroment(myfunc.DATA_DIR, myfunc.CFDNA_DIR, myfunc.GENCODE_DIR, myfunc.H5_DIR, myfunc.LOG_DIR, myfunc.CSV_DIR, myfunc.MODEL_DIR, myfunc.EXEC_DIR, myfunc.MET_DIR)\n",
    "\n",
    "# Leer fichero con las muestras\n",
    "df_t = myfunc.read_h5_to_df(DATA_FILE, myfunc.H5_DIR)\n",
    "display(df_t.groupby(\"target\").size())\n",
    "print(\"Shape df:\",df_t.shape)\n",
    "\n",
    "# Separar caracteristicas/genes de las etiquetas/tipos de cáncer\n",
    "X = df_t.iloc[:, :-1]  # Todas las columnas excepto la última\n",
    "y = df_t.iloc[:, -1]  # La última columna contiene los identificadores de los tipos de cáncer\n",
    "\n",
    "#  Crear el conjunto de datos de entrenamiento y de pruebas, y se fija la semilla para siempre coger el mismo juego de muestras\n",
    "X_train, X_test, y_train, y_test = train_test_split(X, y, test_size=0.2, shuffle=True, random_state=42)\n",
    "print(\"Shape X_train:\",X_train.shape)\n",
    "print(\"Shape X_test:\",X_test.shape)\n"
   ]
  },
  {
   "cell_type": "markdown",
   "id": "34bf3602",
   "metadata": {
    "papermill": {
     "duration": 0.0,
     "end_time": "2023-10-30T10:14:12.060225",
     "exception": false,
     "start_time": "2023-10-30T10:14:12.060225",
     "status": "completed"
    },
    "tags": []
   },
   "source": [
    "#### Selección de características y clasificación."
   ]
  },
  {
   "cell_type": "code",
   "execution_count": 7,
   "id": "6cda696c",
   "metadata": {
    "execution": {
     "iopub.execute_input": "2023-10-30T10:14:12.075816Z",
     "iopub.status.busy": "2023-10-30T10:14:12.060225Z",
     "iopub.status.idle": "2023-10-30T10:35:30.826177Z",
     "shell.execute_reply": "2023-10-30T10:35:30.826177Z"
    },
    "papermill": {
     "duration": 1278.765952,
     "end_time": "2023-10-30T10:35:30.826177",
     "exception": false,
     "start_time": "2023-10-30T10:14:12.060225",
     "status": "completed"
    },
    "tags": []
   },
   "outputs": [
    {
     "name": "stdout",
     "output_type": "stream",
     "text": [
      "20231030T111412 : amilcar32 : INFO : Iniciando entrenamiento\n",
      "num_iter: 1 , max_iter: 1\n",
      "Fitting 5 folds for each of 1 candidates, totalling 5 fits\n"
     ]
    },
    {
     "name": "stderr",
     "output_type": "stream",
     "text": [
      "C:\\Users\\viu\\miniconda3\\lib\\site-packages\\sklearn\\feature_selection\\_univariate_selection.py:112: UserWarning: Features [  298  1508  1733  1846  2010  2222  2265  2266  2553  2688  2802  2803\n",
      "  2833  2896  3248  3415  3492  4075  5803  6053  6981  6984  7418  8508\n",
      "  8510  8513  8890  9087  9490 10475 11020 11613 11943 12249 12480 12831\n",
      " 13235 13259 13836 13959 14000 14015 14244 14245 14451 14789 14795 14941\n",
      " 15515 15563 15824 15874 16258 16267 16268 16281 16287 16313 16323 16350\n",
      " 16372 16630 16701 16905 16906 16968 17047 17091 17093 17231 17264 17274\n",
      " 17300 17312 17540 18350 18368 18374 18375 18405 18486 18592 18692 18868] are constant.\n",
      "  warnings.warn(\"Features %s are constant.\" % constant_features_idx, UserWarning)\n",
      "C:\\Users\\viu\\miniconda3\\lib\\site-packages\\sklearn\\feature_selection\\_univariate_selection.py:113: RuntimeWarning: invalid value encountered in divide\n",
      "  f = msb / msw\n"
     ]
    },
    {
     "name": "stdout",
     "output_type": "stream",
     "text": [
      "Mejores Hiperparámetros: {'selector__k': 1000, 'clasifier__solver': 'saga', 'clasifier__penalty': 'elasticnet', 'clasifier__max_iter': 10000, 'clasifier__l1_ratios': [0.1]}\n",
      "Mejor Puntuación: 0.8053\n",
      "20231030T113530 : amilcar32 : INFO : Fin entrenamiento\n"
     ]
    }
   ],
   "source": [
    "myfunc.verbose(\"Iniciando entrenamiento\")\n",
    "\n",
    "kf = KFold(n_splits=5, shuffle=True, random_state=SEMILLA)\n",
    "\n",
    "# Crear el pipeline para el flujo de tareas\n",
    "tasks_pipeline = Pipeline([\n",
    "    ('selector', algor_selector),\n",
    "    ('clasifier', algor_clasifier)\n",
    "])\n",
    "\n",
    "# MAX_ITERS puede limitar el número de iteraciones si son excesivas para las combinaciones de parámetros buscando un óptimo local, \n",
    "# sino funcionaría como GridSearchCV al revisar todas las cominaciones de los parámetros\n",
    "num_iteraciones = 1\n",
    "num_iteraciones = num_iteraciones * np.prod([len(elemento1) for _, elemento1 in param_distributions.items()])\n",
    "max_iteraciones = num_iteraciones if num_iteraciones <= MAX_ITERS else MAX_ITERS\n",
    "print(\"num_iter:\",num_iteraciones,\", max_iter:\",max_iteraciones)\n",
    "\n",
    "random_search = RandomizedSearchCV(\n",
    "    tasks_pipeline, \n",
    "    param_distributions, \n",
    "    n_iter=max_iteraciones,\n",
    "    scoring=SCORING,\n",
    "    cv=kf,\n",
    "    verbose=3, \n",
    "    random_state=SEMILLA, \n",
    "    n_jobs=-1\n",
    "    )\n",
    "\n",
    "# Entrenar el modelo\n",
    "random_search.fit(X_train, y_train)\n",
    "\n",
    "# Ver los mejores hiperparámetros encontrados\n",
    "print(f'Mejores Hiperparámetros: {random_search.best_params_}')\n",
    "print(f'Mejor Puntuación: {random_search.best_score_:.4f}')\n",
    "\n",
    "# Nos quedamos con el mejor modelo para ver las métricas\n",
    "mejor_modelo = random_search.best_estimator_\n",
    "\n",
    "myfunc.verbose(\"Fin entrenamiento\")"
   ]
  },
  {
   "cell_type": "markdown",
   "id": "c8454b85",
   "metadata": {
    "papermill": {
     "duration": 0.0,
     "end_time": "2023-10-30T10:35:30.841795",
     "exception": false,
     "start_time": "2023-10-30T10:35:30.841795",
     "status": "completed"
    },
    "tags": []
   },
   "source": [
    "#### Guardar modelo"
   ]
  },
  {
   "cell_type": "code",
   "execution_count": 8,
   "id": "12b92062",
   "metadata": {
    "execution": {
     "iopub.execute_input": "2023-10-30T10:35:30.857420Z",
     "iopub.status.busy": "2023-10-30T10:35:30.857420Z",
     "iopub.status.idle": "2023-10-30T10:35:30.889292Z",
     "shell.execute_reply": "2023-10-30T10:35:30.889292Z"
    },
    "papermill": {
     "duration": 0.031872,
     "end_time": "2023-10-30T10:35:30.889292",
     "exception": false,
     "start_time": "2023-10-30T10:35:30.857420",
     "status": "completed"
    },
    "tags": []
   },
   "outputs": [
    {
     "name": "stdout",
     "output_type": "stream",
     "text": [
      "20231030T113530 : amilcar32 : INFO : Inicio guardar fichero ..\\tfm_viu\\ejecuciones\\modelos\\modelo_5426_mul_s_ANOVA_LR_EN.pkl\n",
      "20231030T113530 : amilcar32 : INFO : Fin guardar fichero ..\\tfm_viu\\ejecuciones\\modelos\\modelo_5426_mul_s_ANOVA_LR_EN.pkl\n"
     ]
    }
   ],
   "source": [
    "fichero_modelo = str.replace(\"modelo_\"+str(SEMILLA).zfill(4)+\"_\"+M_TIPO+\"_\"+M_SELECT+\"_\"+M_CLASIF+\".pkl\", \" \", \"_\")\n",
    "\n",
    "myfunc.save_modelo(mejor_modelo, myfunc.MODEL_DIR, fichero_modelo)"
   ]
  },
  {
   "cell_type": "markdown",
   "id": "506c9563",
   "metadata": {
    "papermill": {
     "duration": 0.0,
     "end_time": "2023-10-30T10:35:30.905012",
     "exception": false,
     "start_time": "2023-10-30T10:35:30.905012",
     "status": "completed"
    },
    "tags": []
   },
   "source": [
    "#### Ver resultados del las iteraciones hechas por RandomSearchCV"
   ]
  },
  {
   "cell_type": "code",
   "execution_count": 9,
   "id": "387d1c40",
   "metadata": {
    "execution": {
     "iopub.execute_input": "2023-10-30T10:35:30.936254Z",
     "iopub.status.busy": "2023-10-30T10:35:30.920633Z",
     "iopub.status.idle": "2023-10-30T10:35:30.952415Z",
     "shell.execute_reply": "2023-10-30T10:35:30.952415Z"
    },
    "papermill": {
     "duration": 0.031782,
     "end_time": "2023-10-30T10:35:30.952415",
     "exception": false,
     "start_time": "2023-10-30T10:35:30.920633",
     "status": "completed"
    },
    "tags": []
   },
   "outputs": [
    {
     "name": "stdout",
     "output_type": "stream",
     "text": [
      "20231030T113530 : amilcar32 : INFO : Inicio ver resultados\n",
      "Mejores Hiperparámetros: {'selector__k': 1000, 'clasifier__solver': 'saga', 'clasifier__penalty': 'elasticnet', 'clasifier__max_iter': 10000, 'clasifier__l1_ratios': [0.1]}\n",
      "Mejores puntuaciones: 0.8053 | Params: {'selector__k': 1000, 'clasifier__solver': 'saga', 'clasifier__penalty': 'elasticnet', 'clasifier__max_iter': 10000, 'clasifier__l1_ratios': [0.1]}\n",
      "Media de las puntuaciones: 0.8053 | Params: {'selector__k': 1000, 'clasifier__solver': 'saga', 'clasifier__penalty': 'elasticnet', 'clasifier__max_iter': 10000, 'clasifier__l1_ratios': [0.1]}\n",
      "20231030T113530 : amilcar32 : INFO : Fin resultados\n"
     ]
    }
   ],
   "source": [
    "myfunc.ver_resultados_search(random_search)"
   ]
  },
  {
   "cell_type": "markdown",
   "id": "37b07a2d",
   "metadata": {
    "papermill": {
     "duration": 0.016197,
     "end_time": "2023-10-30T10:35:30.984326",
     "exception": false,
     "start_time": "2023-10-30T10:35:30.968129",
     "status": "completed"
    },
    "tags": []
   },
   "source": [
    "#### Ver métricas del mejor modelo"
   ]
  },
  {
   "cell_type": "code",
   "execution_count": 10,
   "id": "b5ab0696",
   "metadata": {
    "execution": {
     "iopub.execute_input": "2023-10-30T10:35:30.999918Z",
     "iopub.status.busy": "2023-10-30T10:35:30.999918Z",
     "iopub.status.idle": "2023-10-30T10:35:32.432980Z",
     "shell.execute_reply": "2023-10-30T10:35:32.432980Z"
    },
    "papermill": {
     "duration": 1.448654,
     "end_time": "2023-10-30T10:35:32.432980",
     "exception": false,
     "start_time": "2023-10-30T10:35:30.984326",
     "status": "completed"
    },
    "tags": []
   },
   "outputs": [
    {
     "name": "stdout",
     "output_type": "stream",
     "text": [
      "20231030T113530 : amilcar32 : INFO : Inicio ver métricas multiclase\n"
     ]
    },
    {
     "name": "stdout",
     "output_type": "stream",
     "text": [
      "              precision    recall  f1-score   support\n",
      "\n",
      "           0       0.50      0.45      0.48        11\n",
      "           1       0.75      0.38      0.50         8\n",
      "           2       0.40      0.25      0.31         8\n",
      "           3       0.38      0.60      0.46         5\n",
      "           4       0.80      1.00      0.89         8\n",
      "           5       0.33      0.33      0.33         6\n",
      "           6       0.67      1.00      0.80         6\n",
      "\n",
      "    accuracy                           0.56        52\n",
      "   macro avg       0.55      0.57      0.54        52\n",
      "weighted avg       0.56      0.56      0.54        52\n",
      "\n",
      "\n",
      "\n",
      "           Exactitud: 0.557692\n",
      "   Precisión (media): 0.546429\n",
      "      Recall (media): 0.573268\n",
      "    F1-score (media): 0.538235\n",
      "\n",
      "\n",
      "AUC para el tipo de cáncer 0-Control.... 0.6319\n",
      "AUC para el tipo de cáncer 1-Bladder.... 0.8949\n",
      "AUC para el tipo de cáncer 2-Breast..... 0.7330\n",
      "AUC para el tipo de cáncer 3-Colorectal. 0.7447\n",
      "AUC para el tipo de cáncer 4-Kidney..... 0.9574\n",
      "AUC para el tipo de cáncer 5-Lung....... 0.9130\n",
      "AUC para el tipo de cáncer 6-Prostate... 0.9819\n",
      "\n",
      "Media de AUC: 0.8367\n"
     ]
    },
    {
     "data": {
      "image/png": "[encoded data removed]",
      "text/plain": [
       "<Figure size 1000x600 with 1 Axes>"
      ]
     },
     "metadata": {},
     "output_type": "display_data"
    },
    {
     "name": "stdout",
     "output_type": "stream",
     "text": [
      "\n",
      "\n"
     ]
    },
    {
     "data": {
      "image/png": "[encoded data removed]",
      "text/plain": [
       "<Figure size 800x400 with 2 Axes>"
      ]
     },
     "metadata": {},
     "output_type": "display_data"
    },
    {
     "name": "stdout",
     "output_type": "stream",
     "text": [
      "\n",
      "\n",
      "Puntuación Jaccard para el cáncer tipo 0-Control.... 0.3125\n",
      "Puntuación Jaccard para el cáncer tipo 1-Bladder.... 0.3333\n",
      "Puntuación Jaccard para el cáncer tipo 2-Breast..... 0.1818\n",
      "Puntuación Jaccard para el cáncer tipo 3-Colorectal. 0.3000\n",
      "Puntuación Jaccard para el cáncer tipo 4-Kidney..... 0.8000\n",
      "Puntuación Jaccard para el cáncer tipo 5-Lung....... 0.2000\n",
      "Puntuación Jaccard para el cáncer tipo 6-Prostate... 0.6667\n",
      "\n",
      "Media de la puntuación de Jaccard: 0.3992\n"
     ]
    }
   ],
   "source": [
    "if M_TIPO.startswith(\"bin\"):\n",
    "    myfunc.ver_metricas(mejor_modelo, X_test, y_test)\n",
    "else:\n",
    "    myfunc.ver_metricas_multi(mejor_modelo, X_test, y_test)\n"
   ]
  },
  {
   "cell_type": "markdown",
   "id": "dcb47e6e",
   "metadata": {
    "papermill": {
     "duration": 0.0,
     "end_time": "2023-10-30T10:35:32.448588",
     "exception": false,
     "start_time": "2023-10-30T10:35:32.448588",
     "status": "completed"
    },
    "tags": []
   },
   "source": [
    "#### Finalización del notebook"
   ]
  },
  {
   "cell_type": "code",
   "execution_count": 11,
   "id": "049ce6b2",
   "metadata": {
    "execution": {
     "iopub.execute_input": "2023-10-30T10:35:32.480678Z",
     "iopub.status.busy": "2023-10-30T10:35:32.480678Z",
     "iopub.status.idle": "2023-10-30T10:35:32.495983Z",
     "shell.execute_reply": "2023-10-30T10:35:32.495983Z"
    },
    "papermill": {
     "duration": 0.031768,
     "end_time": "2023-10-30T10:35:32.495983",
     "exception": false,
     "start_time": "2023-10-30T10:35:32.464215",
     "status": "completed"
    },
    "tags": []
   },
   "outputs": [
    {
     "name": "stdout",
     "output_type": "stream",
     "text": [
      "20231030T113532 : amilcar32 : INFO : Notebook ha tardado 1280 seconds\n"
     ]
    }
   ],
   "source": [
    "end_time = datetime.datetime.now()\n",
    "total_time = end_time - start_time\n",
    "myfunc.verbose(f\"Notebook ha tardado {total_time.seconds} seconds\")"
   ]
  },
  {
   "cell_type": "markdown",
   "id": "e3081df7",
   "metadata": {
    "papermill": {
     "duration": 0.015718,
     "end_time": "2023-10-30T10:35:32.511701",
     "exception": false,
     "start_time": "2023-10-30T10:35:32.495983",
     "status": "completed"
    },
    "tags": []
   },
   "source": [
    "#### Guardar métricas"
   ]
  },
  {
   "cell_type": "code",
   "execution_count": 12,
   "id": "c18013a1",
   "metadata": {
    "execution": {
     "iopub.execute_input": "2023-10-30T10:35:32.527333Z",
     "iopub.status.busy": "2023-10-30T10:35:32.527333Z",
     "iopub.status.idle": "2023-10-30T10:35:33.001241Z",
     "shell.execute_reply": "2023-10-30T10:35:33.001241Z"
    },
    "papermill": {
     "duration": 0.473908,
     "end_time": "2023-10-30T10:35:33.001241",
     "exception": false,
     "start_time": "2023-10-30T10:35:32.527333",
     "status": "completed"
    },
    "tags": []
   },
   "outputs": [
    {
     "name": "stdout",
     "output_type": "stream",
     "text": [
      "20231030T113532 : amilcar32 : INFO : Inicio guardar métricas multiclase\n",
      "20231030T113532 : amilcar32 : INFO : Inicio leer fichero ..\\tfm_viu\\ejecuciones\\metricas\\metricas_5426.csv\n",
      "20231030T113532 : amilcar32 : INFO : Fin leer fichero ..\\tfm_viu\\ejecuciones\\metricas\\metricas_5426.csv\n"
     ]
    },
    {
     "name": "stdout",
     "output_type": "stream",
     "text": [
      "20231030T113532 : amilcar32 : INFO : Inicio guardar fichero ..\\tfm_viu\\ejecuciones\\metricas\\metricas_5426.csv\n",
      "20231030T113532 : amilcar32 : INFO : Fichero borrado ..\\tfm_viu\\ejecuciones\\metricas\\metricas_5426.csv\n",
      "20231030T113532 : amilcar32 : INFO : Fin guardar fichero ..\\tfm_viu\\ejecuciones\\metricas\\metricas_5426.csv\n",
      "20231030T113532 : amilcar32 : INFO : Fin guardar métricas multiclase\n",
      "20231030T113532 : amilcar32 : INFO : Inicio leer fichero ..\\tfm_viu\\ejecuciones\\metricas\\metricas_5426.csv\n",
      "20231030T113532 : amilcar32 : INFO : Fin leer fichero ..\\tfm_viu\\ejecuciones\\metricas\\metricas_5426.csv\n"
     ]
    },
    {
     "data": {
      "text/html": [
       "<div>\n",
       "<style scoped>\n",
       "    .dataframe tbody tr th:only-of-type {\n",
       "        vertical-align: middle;\n",
       "    }\n",
       "\n",
       "    .dataframe tbody tr th {\n",
       "        vertical-align: top;\n",
       "    }\n",
       "\n",
       "    .dataframe thead th {\n",
       "        text-align: right;\n",
       "    }\n",
       "</style>\n",
       "<table border=\"1\" class=\"dataframe\">\n",
       "  <thead>\n",
       "    <tr style=\"text-align: right;\">\n",
       "      <th></th>\n",
       "      <th>tipo</th>\n",
       "      <th>select</th>\n",
       "      <th>clasific</th>\n",
       "      <th>semilla</th>\n",
       "      <th>accuracy</th>\n",
       "      <th>precision</th>\n",
       "      <th>recall</th>\n",
       "      <th>f1_score</th>\n",
       "      <th>roc_auc</th>\n",
       "      <th>hostname</th>\n",
       "      <th>total_time_sec</th>\n",
       "      <th>datetime</th>\n",
       "      <th>fichero_modelo</th>\n",
       "      <th>params</th>\n",
       "      <th>shape</th>\n",
       "      <th>features</th>\n",
       "      <th>roc_auc_ovr</th>\n",
       "      <th>indices_auc</th>\n",
       "      <th>indices_jaccard</th>\n",
       "    </tr>\n",
       "  </thead>\n",
       "  <tbody>\n",
       "    <tr>\n",
       "      <th>0</th>\n",
       "      <td>mul_s</td>\n",
       "      <td>ANOVA</td>\n",
       "      <td>LR_EN</td>\n",
       "      <td>5426</td>\n",
       "      <td>0.557692</td>\n",
       "      <td>0.546429</td>\n",
       "      <td>0.573268</td>\n",
       "      <td>0.538235</td>\n",
       "      <td>NaN</td>\n",
       "      <td>amilcar32</td>\n",
       "      <td>1280</td>\n",
       "      <td>2023-10-30 11:35:32.890487</td>\n",
       "      <td>modelo_5426_mul_s_ANOVA_LR_EN.pkl</td>\n",
       "      <td>{'selector__k': 1000, 'clasifier__solver': 'sa...</td>\n",
       "      <td>X_test:(52, 18875)</td>\n",
       "      <td>['ENSG00000000938.13', 'ENSG00000002834.19', '...</td>\n",
       "      <td>0.836681</td>\n",
       "      <td>[0.6319290465631928, 0.8948863636363635, 0.732...</td>\n",
       "      <td>[0.3125, 0.3333333333333333, 0.181818181818181...</td>\n",
       "    </tr>\n",
       "    <tr>\n",
       "      <th>0</th>\n",
       "      <td>mul_m</td>\n",
       "      <td>RF</td>\n",
       "      <td>SVM</td>\n",
       "      <td>5426</td>\n",
       "      <td>0.505747</td>\n",
       "      <td>0.494632</td>\n",
       "      <td>0.544135</td>\n",
       "      <td>0.503943</td>\n",
       "      <td>NaN</td>\n",
       "      <td>amilcar32</td>\n",
       "      <td>65</td>\n",
       "      <td>2023-10-30 11:14:06.699434</td>\n",
       "      <td>modelo_5426_mul_m_RF_SVM.pkl</td>\n",
       "      <td>{'selector__max_features': 200, 'selector__est...</td>\n",
       "      <td>X_test:(87, 18875)</td>\n",
       "      <td>['ENSG00000000938.13', 'ENSG00000011465.18', '...</td>\n",
       "      <td>0.825543</td>\n",
       "      <td>[0.670774647887324, 0.8962962962962964, 0.6447...</td>\n",
       "      <td>[0.14285714285714285, 0.5, 0.15, 0.4, 0.4, 0.5...</td>\n",
       "    </tr>\n",
       "    <tr>\n",
       "      <th>0</th>\n",
       "      <td>mul_m</td>\n",
       "      <td>RF</td>\n",
       "      <td>RF</td>\n",
       "      <td>5426</td>\n",
       "      <td>0.505747</td>\n",
       "      <td>0.440957</td>\n",
       "      <td>0.557776</td>\n",
       "      <td>0.478087</td>\n",
       "      <td>NaN</td>\n",
       "      <td>amilcar32</td>\n",
       "      <td>93</td>\n",
       "      <td>2023-10-30 11:12:53.832828</td>\n",
       "      <td>modelo_5426_mul_m_RF_RF.pkl</td>\n",
       "      <td>{'selector__max_features': 500, 'selector__est...</td>\n",
       "      <td>X_test:(87, 18875)</td>\n",
       "      <td>['ENSG00000005108.17', 'ENSG00000006007.12', '...</td>\n",
       "      <td>0.836880</td>\n",
       "      <td>[0.6522887323943661, 0.8851851851851852, 0.824...</td>\n",
       "      <td>[0.0, 0.4, 0.3157894736842105, 0.2857142857142...</td>\n",
       "    </tr>\n",
       "  </tbody>\n",
       "</table>\n",
       "</div>"
      ],
      "text/plain": [
       "    tipo select clasific  semilla  accuracy  precision    recall  f1_score  \\\n",
       "0  mul_s  ANOVA    LR_EN     5426  0.557692   0.546429  0.573268  0.538235   \n",
       "0  mul_m     RF      SVM     5426  0.505747   0.494632  0.544135  0.503943   \n",
       "0  mul_m     RF       RF     5426  0.505747   0.440957  0.557776  0.478087   \n",
       "\n",
       "   roc_auc   hostname  total_time_sec                    datetime  \\\n",
       "0      NaN  amilcar32            1280  2023-10-30 11:35:32.890487   \n",
       "0      NaN  amilcar32              65  2023-10-30 11:14:06.699434   \n",
       "0      NaN  amilcar32              93  2023-10-30 11:12:53.832828   \n",
       "\n",
       "                      fichero_modelo  \\\n",
       "0  modelo_5426_mul_s_ANOVA_LR_EN.pkl   \n",
       "0       modelo_5426_mul_m_RF_SVM.pkl   \n",
       "0        modelo_5426_mul_m_RF_RF.pkl   \n",
       "\n",
       "                                              params               shape  \\\n",
       "0  {'selector__k': 1000, 'clasifier__solver': 'sa...  X_test:(52, 18875)   \n",
       "0  {'selector__max_features': 200, 'selector__est...  X_test:(87, 18875)   \n",
       "0  {'selector__max_features': 500, 'selector__est...  X_test:(87, 18875)   \n",
       "\n",
       "                                            features  roc_auc_ovr  \\\n",
       "0  ['ENSG00000000938.13', 'ENSG00000002834.19', '...     0.836681   \n",
       "0  ['ENSG00000000938.13', 'ENSG00000011465.18', '...     0.825543   \n",
       "0  ['ENSG00000005108.17', 'ENSG00000006007.12', '...     0.836880   \n",
       "\n",
       "                                         indices_auc  \\\n",
       "0  [0.6319290465631928, 0.8948863636363635, 0.732...   \n",
       "0  [0.670774647887324, 0.8962962962962964, 0.6447...   \n",
       "0  [0.6522887323943661, 0.8851851851851852, 0.824...   \n",
       "\n",
       "                                     indices_jaccard  \n",
       "0  [0.3125, 0.3333333333333333, 0.181818181818181...  \n",
       "0  [0.14285714285714285, 0.5, 0.15, 0.4, 0.4, 0.5...  \n",
       "0  [0.0, 0.4, 0.3157894736842105, 0.2857142857142...  "
      ]
     },
     "metadata": {},
     "output_type": "display_data"
    }
   ],
   "source": [
    "if M_TIPO.startswith(\"bin\"):\n",
    "    myfunc.save_metricas_to_csv(random_search, X_test, y_test, M_TIPO, M_SELECT, M_CLASIF, total_time, SEMILLA, myfunc.MET_DIR, M_FICHERO, fichero_modelo)\n",
    "else:\n",
    "    myfunc.save_metricas_multi_to_csv(random_search, X_test, y_test, M_TIPO, M_SELECT, M_CLASIF, total_time, SEMILLA, myfunc.MET_DIR, M_FICHERO, fichero_modelo)\n",
    "\n",
    "df1=myfunc.read_metricas_to_df(myfunc.MET_DIR,M_FICHERO)\n",
    "\n",
    "display(df1.sort_values(\"datetime\", ascending=False)[:3])\n"
   ]
  },
  {
   "cell_type": "markdown",
   "id": "7de4f804",
   "metadata": {
    "papermill": {
     "duration": 0.015625,
     "end_time": "2023-10-30T10:35:33.032580",
     "exception": false,
     "start_time": "2023-10-30T10:35:33.016955",
     "status": "completed"
    },
    "tags": []
   },
   "source": [
    "#### Guardar resultados"
   ]
  },
  {
   "cell_type": "code",
   "execution_count": 13,
   "id": "afcaedb5",
   "metadata": {
    "execution": {
     "iopub.execute_input": "2023-10-30T10:35:33.064421Z",
     "iopub.status.busy": "2023-10-30T10:35:33.064421Z",
     "iopub.status.idle": "2023-10-30T10:35:33.096287Z",
     "shell.execute_reply": "2023-10-30T10:35:33.096287Z"
    },
    "papermill": {
     "duration": 0.048083,
     "end_time": "2023-10-30T10:35:33.096287",
     "exception": false,
     "start_time": "2023-10-30T10:35:33.048204",
     "status": "completed"
    },
    "tags": []
   },
   "outputs": [
    {
     "name": "stdout",
     "output_type": "stream",
     "text": [
      "20231030T113533 : amilcar32 : INFO : Inicio guardar resultados\n",
      "20231030T113533 : amilcar32 : INFO : Inicio guardar fichero ..\\tfm_viu\\ejecuciones\\metricas\\resultados_5426_mul_s-ANOVA-LR_EN.csv\n",
      "20231030T113533 : amilcar32 : INFO : Fin guardar fichero ..\\tfm_viu\\ejecuciones\\metricas\\resultados_5426_mul_s-ANOVA-LR_EN.csv\n",
      "20231030T113533 : amilcar32 : INFO : Fin guardar resultados\n"
     ]
    }
   ],
   "source": [
    "fichero_resultados=R_FICHERO+\"_\"+M_TIPO+\"-\"+M_SELECT+\"-\"+M_CLASIF+\".csv\"\n",
    "myfunc.save_resultados_to_csv(M_TIPO, M_SELECT, M_CLASIF,  random_search, myfunc.MET_DIR, fichero_resultados)\n"
   ]
  }
 ],
 "metadata": {
  "kernelspec": {
   "display_name": "Python 3 (ipykernel)",
   "language": "python",
   "name": "python3"
  },
  "language_info": {
   "codemirror_mode": {
    "name": "ipython",
    "version": 3
   },
   "file_extension": ".py",
   "mimetype": "text/x-python",
   "name": "python",
   "nbconvert_exporter": "python",
   "pygments_lexer": "ipython3",
   "version": "3.10.12"
  },
  "papermill": {
   "default_parameters": {},
   "duration": 1285.204578,
   "end_time": "2023-10-30T10:35:34.010764",
   "environment_variables": {},
   "exception": null,
   "input_path": "03_entrenamiento.ipynb",
   "output_path": "ejecuciones\\training\\03_entrenamiento.20231030T111408.param_0000_5426_mul_s_ANOVA_LR_EN.output.ipynb",
   "parameters": {
    "MAX_ITERS": 500,
    "M_CLASIF": "LR_EN",
    "M_FICHERO": "metricas_5426",
    "M_SELECT": "ANOVA",
    "M_TIPO": "mul_s",
    "PRE_DATA_FILE": "rows_transpose_norm_by_gene_id_with_target_num_",
    "P_FICHERO": "param_0000_5426_mul_s_ANOVA_LR_EN.yaml",
    "R_FICHERO": "resultados_5426",
    "SCORING": "roc_auc_ovr",
    "SEMILLA": 5426,
    "eval_clasifier": "LogisticRegressionCV(random_state=SEMILLA)",
    "eval_selector": "SelectKBest(score_func=f_classif)",
    "param_distributions": {
     "clasifier__l1_ratios": [
      [
       0.1
      ]
     ],
     "clasifier__max_iter": [
      10000
     ],
     "clasifier__penalty": [
      "elasticnet"
     ],
     "clasifier__solver": [
      "saga"
     ],
     "selector__k": [
      1000
     ]
    }
   },
   "start_time": "2023-10-30T10:14:08.806186",
   "version": "2.4.0"
  }
 },
 "nbformat": 4,
 "nbformat_minor": 5
}