{
 "cells": [
  {
   "cell_type": "markdown",
   "id": "0f9f2dc2",
   "metadata": {
    "papermill": {
     "duration": 0.004358,
     "end_time": "2023-10-29T22:08:18.314116",
     "exception": false,
     "start_time": "2023-10-29T22:08:18.309758",
     "status": "completed"
    },
    "tags": []
   },
   "source": [
    "##### Inicio"
   ]
  },
  {
   "cell_type": "markdown",
   "id": "7d8751bb",
   "metadata": {
    "papermill": {
     "duration": 0.00359,
     "end_time": "2023-10-29T22:08:18.321634",
     "exception": false,
     "start_time": "2023-10-29T22:08:18.318044",
     "status": "completed"
    },
    "tags": []
   },
   "source": [
    "#### Carga de datos"
   ]
  },
  {
   "cell_type": "code",
   "execution_count": 1,
   "id": "777fedee",
   "metadata": {
    "execution": {
     "iopub.execute_input": "2023-10-29T22:08:18.330266Z",
     "iopub.status.busy": "2023-10-29T22:08:18.330021Z",
     "iopub.status.idle": "2023-10-29T22:08:19.194998Z",
     "shell.execute_reply": "2023-10-29T22:08:19.194466Z"
    },
    "papermill": {
     "duration": 0.870949,
     "end_time": "2023-10-29T22:08:19.196294",
     "exception": false,
     "start_time": "2023-10-29T22:08:18.325345",
     "status": "completed"
    },
    "tags": []
   },
   "outputs": [
    {
     "name": "stdout",
     "output_type": "stream",
     "text": [
      "CPU_COUNT: 8; NODE: amilcar22; sys.version: 3.10.12 (main, Jul  5 2023, 19:22:19) [GCC 11.2.0]\n",
      "LOKY_MAX_CPU_COUNT: 6\n",
      "OMP_NUM_THREADS: 2\n"
     ]
    }
   ],
   "source": [
    "import os\n",
    "import numpy as np\n",
    "import pandas as pd\n",
    "import datetime\n",
    "import sklearn\n",
    "import logging\n",
    "import warnings\n",
    "\n",
    "from sklearn.pipeline import Pipeline\n",
    "from sklearn.model_selection import RandomizedSearchCV, KFold, cross_val_score, train_test_split\n",
    "from sklearn.metrics import accuracy_score, confusion_matrix, classification_report, roc_auc_score\n",
    "\n",
    "#  cargar algoritmos para aprendizaje supervisado\n",
    "from sklearn.feature_selection import SelectKBest, f_classif, SelectFromModel, mutual_info_classif\n",
    "from sklearn.svm import SVC\n",
    "from sklearn.ensemble import RandomForestClassifier\n",
    "from sklearn.linear_model import LogisticRegression,LogisticRegressionCV\n",
    "\n",
    "# importar fichero con utilidades propias\n",
    "from commons import myfunctions as myfunc\n"
   ]
  },
  {
   "cell_type": "markdown",
   "id": "5758ff4e",
   "metadata": {
    "papermill": {
     "duration": 0.002616,
     "end_time": "2023-10-29T22:08:19.201847",
     "exception": false,
     "start_time": "2023-10-29T22:08:19.199231",
     "status": "completed"
    },
    "tags": []
   },
   "source": [
    "#### Parámetros a utilizar en el entrenamiento.\n",
    "\n",
    "Se indican los 3 algoritmos de *selección de características* (eval_selector_xxx) y los 3 algoritmos para la _clasificación_ (eval_clasifier_xxx)\n",
    "\n",
    "En *param_distributions* se indicar los parámetros que utilizan los algoritmos en la función RandomSearchCV.\n",
    "\n",
    "Esta celda tiene la etiqueta **parameters** que servirá para poder lanzar los entrenamientos con la utilidad **papermill** pasándole un fichero con los parámetros. Los nuevos parámetros se situarán tras esta celda para tener prevalencia."
   ]
  },
  {
   "cell_type": "code",
   "execution_count": 2,
   "id": "6f54064a",
   "metadata": {
    "execution": {
     "iopub.execute_input": "2023-10-29T22:08:19.207904Z",
     "iopub.status.busy": "2023-10-29T22:08:19.207630Z",
     "iopub.status.idle": "2023-10-29T22:08:19.214506Z",
     "shell.execute_reply": "2023-10-29T22:08:19.214020Z"
    },
    "papermill": {
     "duration": 0.011262,
     "end_time": "2023-10-29T22:08:19.215605",
     "exception": false,
     "start_time": "2023-10-29T22:08:19.204343",
     "status": "completed"
    },
    "tags": [
     "parameters"
    ]
   },
   "outputs": [
    {
     "name": "stdout",
     "output_type": "stream",
     "text": [
      "20231029T230819 : amilcar22 : INFO : Utilizando parámetros de mul_m\n"
     ]
    }
   ],
   "source": [
    "#  Parametros para el entrenamiento\n",
    "\n",
    "SEMILLA=        42\n",
    "M_TIPO=         \"mul_m\"\n",
    "M_SELECT=       \"MI\"\n",
    "M_CLASIF=       \"SVM\"\n",
    "R_FICHERO=      \"resultados\"\n",
    "M_FICHERO=      \"metricas\"\n",
    "PRE_DATA_FILE=  \"rows_transpose_norm_by_gene_id_with_target_num_\"\n",
    "SCORING=        \"roc_auc_ovr\" \n",
    "MAX_ITERS=      100\n",
    "\n",
    "def mutual_info_classif_state(X, y):\n",
    "    return mutual_info_classif(X, y, random_state=SEMILLA)\n",
    "\n",
    "eval_selector_mi = \"SelectKBest(score_func=mutual_info_classif_state)\"\n",
    "eval_selector_rf=  \"SelectFromModel(estimator=RandomForestClassifier(random_state=SEMILLA), threshold=-np.inf)\"\n",
    "eval_selector_anova=  \"SelectKBest(score_func=f_classif)\"\n",
    "\n",
    "eval_clasifier_svm= \"SVC(probability=True, random_state=SEMILLA)\"\n",
    "eval_clasifier_rf= \"RandomForestClassifier(random_state=SEMILLA)\"\n",
    "eval_clasifier_lr= \"LogisticRegressionCV(random_state=SEMILLA)\"\n",
    "\n",
    "if M_TIPO.startswith(\"bin_m\"):\n",
    "    myfunc.verbose(f\"Utilizando parámetros de {M_TIPO}\")\n",
    "    eval_selector = eval_selector_mi\n",
    "    eval_clasifier = eval_clasifier_svm\n",
    "\n",
    "    SEMILLA = 6578\n",
    "    M_SELECT = \"MI\"\n",
    "    M_CLASIF = \"SVM\"\n",
    "    param_distributions = {'selector__k': [1000], \n",
    "         'clasifier__kernel': ['rbf'], 'clasifier__gamma': [0.01], 'clasifier__C': [100]}\n",
    "elif M_TIPO.startswith(\"bin_s\"):\n",
    "    myfunc.verbose(f\"Utilizando parámetros de {M_TIPO}\")\n",
    "    eval_selector = eval_selector_rf\n",
    "    eval_clasifier = eval_clasifier_lr\n",
    "\n",
    "    SEMILLA = 6191\n",
    "    M_SELECT = \"RF\"\n",
    "    M_CLASIF = \"LR_L2\"\n",
    "    param_distributions = {'selector__max_features': [1000], 'selector__estimator__n_estimators': [200], \n",
    "        'clasifier__solver': ['lbfgs'], 'clasifier__penalty': ['l2'], 'clasifier__max_iter': [10000]}\n",
    "\n",
    "elif M_TIPO.startswith(\"mul_m\"):\n",
    "    myfunc.verbose(f\"Utilizando parámetros de {M_TIPO}\")\n",
    " \n",
    "    eval_selector = eval_selector_rf\n",
    "    eval_clasifier = eval_clasifier_lr\n",
    "\n",
    "    SEMILLA = 6191\n",
    "    M_SELECT = \"RF\"\n",
    "    M_CLASIF = \"LR_L2\"\n",
    "    param_distributions = {'selector__max_features': [1000], 'selector__estimator__n_estimators': [400], \n",
    "        'clasifier__solver': ['lbfgs'], 'clasifier__penalty': ['l2'], 'clasifier__max_iter': [10000]}\n",
    "\n",
    "else:\n",
    "    # M_TIPO.startswith(\"mul_s\"):\n",
    "    myfunc.verbose(f\"Utilizando parámetros de {M_TIPO}\")\n",
    "    eval_selector = eval_selector_anova\n",
    "    eval_clasifier = eval_clasifier_lr\n",
    "\n",
    "    SEMILLA = 1860\n",
    "    M_SELECT = \"ANOVA\"\n",
    "    M_CLASIF = \"LR_L2\"\n",
    "    param_distributions = {'selector__k': [1000], \n",
    "        'clasifier__solver': ['saga'], 'clasifier__penalty': ['l2'], 'clasifier__max_iter': [10000]}\n",
    "\n"
   ]
  },
  {
   "cell_type": "code",
   "execution_count": 3,
   "id": "448f6199",
   "metadata": {
    "execution": {
     "iopub.execute_input": "2023-10-29T22:08:19.221584Z",
     "iopub.status.busy": "2023-10-29T22:08:19.221406Z",
     "iopub.status.idle": "2023-10-29T22:08:19.224956Z",
     "shell.execute_reply": "2023-10-29T22:08:19.224458Z"
    },
    "papermill": {
     "duration": 0.007819,
     "end_time": "2023-10-29T22:08:19.226069",
     "exception": false,
     "start_time": "2023-10-29T22:08:19.218250",
     "status": "completed"
    },
    "tags": [
     "injected-parameters"
    ]
   },
   "outputs": [],
   "source": [
    "# Parameters\n",
    "M_TIPO = \"bin_m\"\n",
    "M_SELECT = \"RF\"\n",
    "M_CLASIF = \"RF\"\n",
    "P_FICHERO = \"param_0000_1466_bin_m_RF_RF.yaml\"\n",
    "R_FICHERO = \"resultados_1466\"\n",
    "M_FICHERO = \"metricas_1466\"\n",
    "PRE_DATA_FILE = \"rows_transpose_norm_by_gene_id_with_target_num_\"\n",
    "SCORING = \"roc_auc_ovr\"\n",
    "SEMILLA = 1466\n",
    "MAX_ITERS = 500\n",
    "eval_selector = \"SelectFromModel(estimator=RandomForestClassifier(random_state=SEMILLA), threshold=-np.inf)\"\n",
    "eval_clasifier = \"RandomForestClassifier(random_state=SEMILLA)\"\n",
    "param_distributions = {\n",
    "    \"selector__max_features\": [500],\n",
    "    \"selector__estimator__n_estimators\": [400],\n",
    "    \"clasifier__n_estimators\": [400],\n",
    "    \"clasifier__min_samples_split\": [10],\n",
    "    \"clasifier__min_samples_leaf\": [5],\n",
    "    \"clasifier__max_features\": [500],\n",
    "    \"clasifier__max_depth\": [20],\n",
    "    \"clasifier__bootstrap\": [True],\n",
    "}\n"
   ]
  },
  {
   "cell_type": "code",
   "execution_count": 4,
   "id": "ab4051aa",
   "metadata": {
    "execution": {
     "iopub.execute_input": "2023-10-29T22:08:19.232033Z",
     "iopub.status.busy": "2023-10-29T22:08:19.231860Z",
     "iopub.status.idle": "2023-10-29T22:08:19.234832Z",
     "shell.execute_reply": "2023-10-29T22:08:19.234305Z"
    },
    "papermill": {
     "duration": 0.00729,
     "end_time": "2023-10-29T22:08:19.235977",
     "exception": false,
     "start_time": "2023-10-29T22:08:19.228687",
     "status": "completed"
    },
    "tags": []
   },
   "outputs": [],
   "source": [
    "DATA_FILE = PRE_DATA_FILE + M_TIPO\n",
    "\n",
    "# si viene \"None\" en el parámetro max_depth, se le quitan las comillas para que no sea entendido por el algoritmo como un texto\n",
    "if \"clasifier__max_depth\" in param_distributions:\n",
    "    param_distributions['clasifier__max_depth'] = [None if x == 'None' else x for x in param_distributions['clasifier__max_depth']]"
   ]
  },
  {
   "cell_type": "markdown",
   "id": "f3cb2636",
   "metadata": {
    "papermill": {
     "duration": 0.002778,
     "end_time": "2023-10-29T22:08:19.241562",
     "exception": false,
     "start_time": "2023-10-29T22:08:19.238784",
     "status": "completed"
    },
    "tags": []
   },
   "source": [
    "Asignar los algoritmos que se utilizarán en la función RandomSearchCV"
   ]
  },
  {
   "cell_type": "code",
   "execution_count": 5,
   "id": "37615957",
   "metadata": {
    "execution": {
     "iopub.execute_input": "2023-10-29T22:08:19.247876Z",
     "iopub.status.busy": "2023-10-29T22:08:19.247708Z",
     "iopub.status.idle": "2023-10-29T22:08:19.250456Z",
     "shell.execute_reply": "2023-10-29T22:08:19.249868Z"
    },
    "papermill": {
     "duration": 0.007349,
     "end_time": "2023-10-29T22:08:19.251748",
     "exception": false,
     "start_time": "2023-10-29T22:08:19.244399",
     "status": "completed"
    },
    "tags": []
   },
   "outputs": [],
   "source": [
    "algor_selector=eval(eval_selector)\n",
    "algor_clasifier=eval(eval_clasifier)"
   ]
  },
  {
   "cell_type": "markdown",
   "id": "6af0f7da",
   "metadata": {
    "papermill": {
     "duration": 0.003307,
     "end_time": "2023-10-29T22:08:19.258333",
     "exception": false,
     "start_time": "2023-10-29T22:08:19.255026",
     "status": "completed"
    },
    "tags": []
   },
   "source": [
    "#### Comprobar el entorno y leer fichero de muestras"
   ]
  },
  {
   "cell_type": "code",
   "execution_count": 6,
   "id": "78945b34",
   "metadata": {
    "execution": {
     "iopub.execute_input": "2023-10-29T22:08:19.265674Z",
     "iopub.status.busy": "2023-10-29T22:08:19.265478Z",
     "iopub.status.idle": "2023-10-29T22:08:19.481574Z",
     "shell.execute_reply": "2023-10-29T22:08:19.481023Z"
    },
    "papermill": {
     "duration": 0.22132,
     "end_time": "2023-10-29T22:08:19.482921",
     "exception": false,
     "start_time": "2023-10-29T22:08:19.261601",
     "status": "completed"
    },
    "tags": []
   },
   "outputs": [
    {
     "name": "stdout",
     "output_type": "stream",
     "text": [
      "20231029T230819 : amilcar22 : INFO : Encontrada carpeta DATA_DIR=../tfm_git/datos\n",
      "20231029T230819 : amilcar22 : INFO : Encontrada carpeta CFDNA_DIR=../tfm_git/datos/cfDNA_5hmC\n",
      "20231029T230819 : amilcar22 : INFO : Encontrada carpeta GENCODE_DIR=../tfm_git/datos/gencode\n",
      "20231029T230819 : amilcar22 : INFO : Encontrada carpeta H5_DIR=../tfm_git/datos/h5\n",
      "20231029T230819 : amilcar22 : INFO : Encontrada carpeta LOG_DIR=../tfm_git/datos/logs\n",
      "20231029T230819 : amilcar22 : INFO : Encontrada carpeta CSV_DIR=../tfm_git/datos/csv\n",
      "20231029T230819 : amilcar22 : INFO : Encontrada carpeta MODEL_DIR=../tfm_git/ejecuciones/modelos\n",
      "20231029T230819 : amilcar22 : INFO : Encontrada carpeta EXEC_DIR=../tfm_git/ejecuciones\n",
      "20231029T230819 : amilcar22 : INFO : Encontrada carpeta MET_DIR=../tfm_git/ejecuciones/metricas\n",
      "20231029T230819 : amilcar22 : INFO : Inicio leer fichero h5 ../tfm_git/datos/h5/rows_transpose_norm_by_gene_id_with_target_num_bin_m.h5\n",
      "20231029T230819 : amilcar22 : INFO : Leyendo clave /df\n"
     ]
    },
    {
     "name": "stdout",
     "output_type": "stream",
     "text": [
      "20231029T230819 : amilcar22 : INFO : Tamaño (720, 18876)\n",
      "20231029T230819 : amilcar22 : INFO : Fin leer fichero h5 ../tfm_git/datos/h5/rows_transpose_norm_by_gene_id_with_target_num_bin_m.h5\n"
     ]
    },
    {
     "data": {
      "text/plain": [
       "target\n",
       "0    360\n",
       "1    360\n",
       "dtype: int64"
      ]
     },
     "metadata": {},
     "output_type": "display_data"
    },
    {
     "name": "stdout",
     "output_type": "stream",
     "text": [
      "Shape df: (720, 18876)\n"
     ]
    },
    {
     "name": "stdout",
     "output_type": "stream",
     "text": [
      "Shape X_train: (576, 18875)\n",
      "Shape X_test: (144, 18875)\n"
     ]
    }
   ],
   "source": [
    "start_time = datetime.datetime.now()\n",
    "\n",
    "myfunc.reset_vars()\n",
    "\n",
    "myfunc.NOTEBK_FILENAME = myfunc.get_nb_name()\n",
    "\n",
    "myfunc.check_enviroment(myfunc.DATA_DIR, myfunc.CFDNA_DIR, myfunc.GENCODE_DIR, myfunc.H5_DIR, myfunc.LOG_DIR, myfunc.CSV_DIR, myfunc.MODEL_DIR, myfunc.EXEC_DIR, myfunc.MET_DIR)\n",
    "\n",
    "# Leer fichero con las muestras\n",
    "df_t = myfunc.read_h5_to_df(DATA_FILE, myfunc.H5_DIR)\n",
    "display(df_t.groupby(\"target\").size())\n",
    "print(\"Shape df:\",df_t.shape)\n",
    "\n",
    "# Separar caracteristicas/genes de las etiquetas/tipos de cáncer\n",
    "X = df_t.iloc[:, :-1]  # Todas las columnas excepto la última\n",
    "y = df_t.iloc[:, -1]  # La última columna contiene los identificadores de los tipos de cáncer\n",
    "\n",
    "#  Crear el conjunto de datos de entrenamiento y de pruebas, y se fija la semilla para siempre coger el mismo juego de muestras\n",
    "X_train, X_test, y_train, y_test = train_test_split(X, y, test_size=0.2, shuffle=True, random_state=42)\n",
    "print(\"Shape X_train:\",X_train.shape)\n",
    "print(\"Shape X_test:\",X_test.shape)\n"
   ]
  },
  {
   "cell_type": "markdown",
   "id": "0e8dc170",
   "metadata": {
    "papermill": {
     "duration": 0.002909,
     "end_time": "2023-10-29T22:08:19.489285",
     "exception": false,
     "start_time": "2023-10-29T22:08:19.486376",
     "status": "completed"
    },
    "tags": []
   },
   "source": [
    "#### Selección de características y clasificación."
   ]
  },
  {
   "cell_type": "code",
   "execution_count": 7,
   "id": "977335d6",
   "metadata": {
    "execution": {
     "iopub.execute_input": "2023-10-29T22:08:19.495889Z",
     "iopub.status.busy": "2023-10-29T22:08:19.495688Z",
     "iopub.status.idle": "2023-10-29T22:09:49.206409Z",
     "shell.execute_reply": "2023-10-29T22:09:49.205598Z"
    },
    "papermill": {
     "duration": 89.718267,
     "end_time": "2023-10-29T22:09:49.210406",
     "exception": false,
     "start_time": "2023-10-29T22:08:19.492139",
     "status": "completed"
    },
    "tags": []
   },
   "outputs": [
    {
     "name": "stdout",
     "output_type": "stream",
     "text": [
      "20231029T230819 : amilcar22 : INFO : Iniciando entrenamiento\n",
      "num_iter: 1 , max_iter: 1\n",
      "Fitting 5 folds for each of 1 candidates, totalling 5 fits\n"
     ]
    },
    {
     "name": "stdout",
     "output_type": "stream",
     "text": [
      "Mejores Hiperparámetros: {'selector__max_features': 500, 'selector__estimator__n_estimators': 400, 'clasifier__n_estimators': 400, 'clasifier__min_samples_split': 10, 'clasifier__min_samples_leaf': 5, 'clasifier__max_features': 500, 'clasifier__max_depth': 20, 'clasifier__bootstrap': True}\n",
      "Mejor Puntuación: 0.8616\n",
      "20231029T230949 : amilcar22 : INFO : Fin entrenamiento\n"
     ]
    }
   ],
   "source": [
    "myfunc.verbose(\"Iniciando entrenamiento\")\n",
    "\n",
    "kf = KFold(n_splits=5, shuffle=True, random_state=SEMILLA)\n",
    "\n",
    "# Crear el pipeline para el flujo de tareas\n",
    "tasks_pipeline = Pipeline([\n",
    "    ('selector', algor_selector),\n",
    "    ('clasifier', algor_clasifier)\n",
    "])\n",
    "\n",
    "# MAX_ITERS puede limitar el número de iteraciones si son excesivas para las combinaciones de parámetros buscando un óptimo local, \n",
    "# sino funcionaría como GridSearchCV al revisar todas las cominaciones de los parámetros\n",
    "num_iteraciones = 1\n",
    "num_iteraciones = num_iteraciones * np.prod([len(elemento1) for _, elemento1 in param_distributions.items()])\n",
    "max_iteraciones = num_iteraciones if num_iteraciones <= MAX_ITERS else MAX_ITERS\n",
    "print(\"num_iter:\",num_iteraciones,\", max_iter:\",max_iteraciones)\n",
    "\n",
    "random_search = RandomizedSearchCV(\n",
    "    tasks_pipeline, \n",
    "    param_distributions, \n",
    "    n_iter=max_iteraciones,\n",
    "    scoring=SCORING,\n",
    "    cv=kf,\n",
    "    verbose=3, \n",
    "    random_state=SEMILLA, \n",
    "    n_jobs=-1\n",
    "    )\n",
    "\n",
    "# Entrenar el modelo\n",
    "random_search.fit(X_train, y_train)\n",
    "\n",
    "# Ver los mejores hiperparámetros encontrados\n",
    "print(f'Mejores Hiperparámetros: {random_search.best_params_}')\n",
    "print(f'Mejor Puntuación: {random_search.best_score_:.4f}')\n",
    "\n",
    "# Nos quedamos con el mejor modelo para ver las métricas\n",
    "mejor_modelo = random_search.best_estimator_\n",
    "\n",
    "myfunc.verbose(\"Fin entrenamiento\")"
   ]
  },
  {
   "cell_type": "markdown",
   "id": "9e788b18",
   "metadata": {
    "papermill": {
     "duration": 0.003324,
     "end_time": "2023-10-29T22:09:49.216843",
     "exception": false,
     "start_time": "2023-10-29T22:09:49.213519",
     "status": "completed"
    },
    "tags": []
   },
   "source": [
    "#### Guardar modelo"
   ]
  },
  {
   "cell_type": "code",
   "execution_count": 8,
   "id": "3f348345",
   "metadata": {
    "execution": {
     "iopub.execute_input": "2023-10-29T22:09:49.223699Z",
     "iopub.status.busy": "2023-10-29T22:09:49.223493Z",
     "iopub.status.idle": "2023-10-29T22:09:49.466449Z",
     "shell.execute_reply": "2023-10-29T22:09:49.465757Z"
    },
    "papermill": {
     "duration": 0.248027,
     "end_time": "2023-10-29T22:09:49.467750",
     "exception": false,
     "start_time": "2023-10-29T22:09:49.219723",
     "status": "completed"
    },
    "tags": []
   },
   "outputs": [
    {
     "name": "stdout",
     "output_type": "stream",
     "text": [
      "20231029T230949 : amilcar22 : INFO : Inicio guardar fichero ../tfm_git/ejecuciones/modelos/modelo_1466_bin_m_RF_RF.pkl\n"
     ]
    },
    {
     "name": "stdout",
     "output_type": "stream",
     "text": [
      "20231029T230949 : amilcar22 : INFO : Fin guardar fichero ../tfm_git/ejecuciones/modelos/modelo_1466_bin_m_RF_RF.pkl\n"
     ]
    }
   ],
   "source": [
    "fichero_modelo = str.replace(\"modelo_\"+str(SEMILLA).zfill(4)+\"_\"+M_TIPO+\"_\"+M_SELECT+\"_\"+M_CLASIF+\".pkl\", \" \", \"_\")\n",
    "\n",
    "myfunc.save_modelo(mejor_modelo, myfunc.MODEL_DIR, fichero_modelo)"
   ]
  },
  {
   "cell_type": "markdown",
   "id": "24eb905d",
   "metadata": {
    "papermill": {
     "duration": 0.003051,
     "end_time": "2023-10-29T22:09:49.474285",
     "exception": false,
     "start_time": "2023-10-29T22:09:49.471234",
     "status": "completed"
    },
    "tags": []
   },
   "source": [
    "#### Ver resultados del las iteraciones hechas por RandomSearchCV"
   ]
  },
  {
   "cell_type": "code",
   "execution_count": 9,
   "id": "71ccd22e",
   "metadata": {
    "execution": {
     "iopub.execute_input": "2023-10-29T22:09:49.481272Z",
     "iopub.status.busy": "2023-10-29T22:09:49.481081Z",
     "iopub.status.idle": "2023-10-29T22:09:49.487236Z",
     "shell.execute_reply": "2023-10-29T22:09:49.486731Z"
    },
    "papermill": {
     "duration": 0.011148,
     "end_time": "2023-10-29T22:09:49.488551",
     "exception": false,
     "start_time": "2023-10-29T22:09:49.477403",
     "status": "completed"
    },
    "tags": []
   },
   "outputs": [
    {
     "name": "stdout",
     "output_type": "stream",
     "text": [
      "20231029T230949 : amilcar22 : INFO : Inicio ver resultados\n",
      "Mejores Hiperparámetros: {'selector__max_features': 500, 'selector__estimator__n_estimators': 400, 'clasifier__n_estimators': 400, 'clasifier__min_samples_split': 10, 'clasifier__min_samples_leaf': 5, 'clasifier__max_features': 500, 'clasifier__max_depth': 20, 'clasifier__bootstrap': True}\n",
      "Mejores puntuaciones: 0.8616 | Params: {'selector__max_features': 500, 'selector__estimator__n_estimators': 400, 'clasifier__n_estimators': 400, 'clasifier__min_samples_split': 10, 'clasifier__min_samples_leaf': 5, 'clasifier__max_features': 500, 'clasifier__max_depth': 20, 'clasifier__bootstrap': True}\n",
      "Media de las puntuaciones: 0.8616 | Params: {'selector__max_features': 500, 'selector__estimator__n_estimators': 400, 'clasifier__n_estimators': 400, 'clasifier__min_samples_split': 10, 'clasifier__min_samples_leaf': 5, 'clasifier__max_features': 500, 'clasifier__max_depth': 20, 'clasifier__bootstrap': True}\n",
      "20231029T230949 : amilcar22 : INFO : Fin resultados\n"
     ]
    }
   ],
   "source": [
    "myfunc.ver_resultados_search(random_search)"
   ]
  },
  {
   "cell_type": "markdown",
   "id": "fda7f99f",
   "metadata": {
    "papermill": {
     "duration": 0.003107,
     "end_time": "2023-10-29T22:09:49.494834",
     "exception": false,
     "start_time": "2023-10-29T22:09:49.491727",
     "status": "completed"
    },
    "tags": []
   },
   "source": [
    "#### Ver métricas del mejor modelo"
   ]
  },
  {
   "cell_type": "code",
   "execution_count": 10,
   "id": "cfd22ef0",
   "metadata": {
    "execution": {
     "iopub.execute_input": "2023-10-29T22:09:49.501977Z",
     "iopub.status.busy": "2023-10-29T22:09:49.501795Z",
     "iopub.status.idle": "2023-10-29T22:09:50.398423Z",
     "shell.execute_reply": "2023-10-29T22:09:50.397829Z"
    },
    "papermill": {
     "duration": 0.901955,
     "end_time": "2023-10-29T22:09:50.399905",
     "exception": false,
     "start_time": "2023-10-29T22:09:49.497950",
     "status": "completed"
    },
    "tags": []
   },
   "outputs": [
    {
     "name": "stdout",
     "output_type": "stream",
     "text": [
      "20231029T230949 : amilcar22 : INFO : Inicio ver métricas\n"
     ]
    },
    {
     "name": "stdout",
     "output_type": "stream",
     "text": [
      "              precision    recall  f1-score   support\n",
      "\n",
      "           0       0.84      0.87      0.85        82\n",
      "           1       0.81      0.77      0.79        62\n",
      "\n",
      "    accuracy                           0.83       144\n",
      "   macro avg       0.82      0.82      0.82       144\n",
      "weighted avg       0.83      0.83      0.83       144\n",
      "\n",
      "\n",
      "\n",
      "   Exactitud: 0.8264\n",
      "   Precisión: 0.8244\n",
      "Sensibilidad: 0.8200\n",
      "    F1-score: 0.8218\n",
      "     AUC ROC: 0.8910\n"
     ]
    },
    {
     "data": {
      "image/png": "[encoded data removed]",
      "text/plain": [
       "<Figure size 300x100 with 2 Axes>"
      ]
     },
     "metadata": {},
     "output_type": "display_data"
    },
    {
     "data": {
      "image/png": "[encoded data removed]",
      "text/plain": [
       "<Figure size 800x500 with 1 Axes>"
      ]
     },
     "metadata": {},
     "output_type": "display_data"
    },
    {
     "name": "stdout",
     "output_type": "stream",
     "text": [
      "20231029T230950 : amilcar22 : INFO : Fin ver métricas\n"
     ]
    }
   ],
   "source": [
    "if M_TIPO.startswith(\"bin\"):\n",
    "    myfunc.ver_metricas(mejor_modelo, X_test, y_test)\n",
    "else:\n",
    "    myfunc.ver_metricas_multi(mejor_modelo, X_test, y_test)\n"
   ]
  },
  {
   "cell_type": "markdown",
   "id": "d341780b",
   "metadata": {
    "papermill": {
     "duration": 0.003668,
     "end_time": "2023-10-29T22:09:50.407747",
     "exception": false,
     "start_time": "2023-10-29T22:09:50.404079",
     "status": "completed"
    },
    "tags": []
   },
   "source": [
    "#### Finalización del notebook"
   ]
  },
  {
   "cell_type": "code",
   "execution_count": 11,
   "id": "7e9eb983",
   "metadata": {
    "execution": {
     "iopub.execute_input": "2023-10-29T22:09:50.415937Z",
     "iopub.status.busy": "2023-10-29T22:09:50.415746Z",
     "iopub.status.idle": "2023-10-29T22:09:50.419097Z",
     "shell.execute_reply": "2023-10-29T22:09:50.418515Z"
    },
    "papermill": {
     "duration": 0.008862,
     "end_time": "2023-10-29T22:09:50.420238",
     "exception": false,
     "start_time": "2023-10-29T22:09:50.411376",
     "status": "completed"
    },
    "tags": []
   },
   "outputs": [
    {
     "name": "stdout",
     "output_type": "stream",
     "text": [
      "20231029T230950 : amilcar22 : INFO : Notebook ha tardado 91 seconds\n"
     ]
    }
   ],
   "source": [
    "end_time = datetime.datetime.now()\n",
    "total_time = end_time - start_time\n",
    "myfunc.verbose(f\"Notebook ha tardado {total_time.seconds} seconds\")"
   ]
  },
  {
   "cell_type": "markdown",
   "id": "7bb3201e",
   "metadata": {
    "papermill": {
     "duration": 0.003649,
     "end_time": "2023-10-29T22:09:50.427653",
     "exception": false,
     "start_time": "2023-10-29T22:09:50.424004",
     "status": "completed"
    },
    "tags": []
   },
   "source": [
    "#### Guardar métricas"
   ]
  },
  {
   "cell_type": "code",
   "execution_count": 12,
   "id": "1a15d373",
   "metadata": {
    "execution": {
     "iopub.execute_input": "2023-10-29T22:09:50.435876Z",
     "iopub.status.busy": "2023-10-29T22:09:50.435693Z",
     "iopub.status.idle": "2023-10-29T22:09:51.214451Z",
     "shell.execute_reply": "2023-10-29T22:09:51.213822Z"
    },
    "papermill": {
     "duration": 0.784357,
     "end_time": "2023-10-29T22:09:51.215700",
     "exception": false,
     "start_time": "2023-10-29T22:09:50.431343",
     "status": "completed"
    },
    "tags": []
   },
   "outputs": [
    {
     "name": "stdout",
     "output_type": "stream",
     "text": [
      "20231029T230950 : amilcar22 : INFO : Inicio guardar métricas\n",
      "20231029T230950 : amilcar22 : INFO : Inicio leer fichero ../tfm_git/ejecuciones/metricas/metricas_1466.csv\n",
      "20231029T230950 : amilcar22 : INFO : Fin leer fichero ../tfm_git/ejecuciones/metricas/metricas_1466.csv\n"
     ]
    },
    {
     "name": "stdout",
     "output_type": "stream",
     "text": [
      "20231029T230951 : amilcar22 : INFO : Inicio guardar fichero ../tfm_git/ejecuciones/metricas/metricas_1466.csv\n",
      "20231029T230951 : amilcar22 : INFO : Fichero borrado ../tfm_git/ejecuciones/metricas/metricas_1466.csv\n",
      "20231029T230951 : amilcar22 : INFO : Fin guardar fichero ../tfm_git/ejecuciones/metricas/metricas_1466.csv\n",
      "20231029T230951 : amilcar22 : INFO : Fin guardar métricas\n",
      "20231029T230951 : amilcar22 : INFO : Inicio leer fichero ../tfm_git/ejecuciones/metricas/metricas_1466.csv\n",
      "20231029T230951 : amilcar22 : INFO : Fin leer fichero ../tfm_git/ejecuciones/metricas/metricas_1466.csv\n"
     ]
    },
    {
     "data": {
      "text/html": [
       "<div>\n",
       "<style scoped>\n",
       "    .dataframe tbody tr th:only-of-type {\n",
       "        vertical-align: middle;\n",
       "    }\n",
       "\n",
       "    .dataframe tbody tr th {\n",
       "        vertical-align: top;\n",
       "    }\n",
       "\n",
       "    .dataframe thead th {\n",
       "        text-align: right;\n",
       "    }\n",
       "</style>\n",
       "<table border=\"1\" class=\"dataframe\">\n",
       "  <thead>\n",
       "    <tr style=\"text-align: right;\">\n",
       "      <th></th>\n",
       "      <th>tipo</th>\n",
       "      <th>select</th>\n",
       "      <th>clasific</th>\n",
       "      <th>semilla</th>\n",
       "      <th>accuracy</th>\n",
       "      <th>precision</th>\n",
       "      <th>recall</th>\n",
       "      <th>f1_score</th>\n",
       "      <th>roc_auc</th>\n",
       "      <th>hostname</th>\n",
       "      <th>total_time_sec</th>\n",
       "      <th>datetime</th>\n",
       "      <th>fichero_modelo</th>\n",
       "      <th>params</th>\n",
       "      <th>shape</th>\n",
       "      <th>features</th>\n",
       "    </tr>\n",
       "  </thead>\n",
       "  <tbody>\n",
       "    <tr>\n",
       "      <th>0</th>\n",
       "      <td>bin_m</td>\n",
       "      <td>RF</td>\n",
       "      <td>RF</td>\n",
       "      <td>1466</td>\n",
       "      <td>0.826389</td>\n",
       "      <td>0.824427</td>\n",
       "      <td>0.820024</td>\n",
       "      <td>0.821844</td>\n",
       "      <td>0.891031</td>\n",
       "      <td>amilcar22</td>\n",
       "      <td>91</td>\n",
       "      <td>2023-10-29 23:09:51.194703</td>\n",
       "      <td>modelo_1466_bin_m_RF_RF.pkl</td>\n",
       "      <td>{'selector__max_features': 500, 'selector__est...</td>\n",
       "      <td>X_test:(144, 18875)</td>\n",
       "      <td>['ENSG00000000971.17', 'ENSG00000002587.10', '...</td>\n",
       "    </tr>\n",
       "    <tr>\n",
       "      <th>0</th>\n",
       "      <td>bin_m</td>\n",
       "      <td>RF</td>\n",
       "      <td>LR_L2</td>\n",
       "      <td>1466</td>\n",
       "      <td>0.840278</td>\n",
       "      <td>0.836861</td>\n",
       "      <td>0.838120</td>\n",
       "      <td>0.837448</td>\n",
       "      <td>0.922502</td>\n",
       "      <td>amilcar22</td>\n",
       "      <td>13</td>\n",
       "      <td>2023-10-29 23:08:13.230613</td>\n",
       "      <td>modelo_1466_bin_m_RF_LR_L2.pkl</td>\n",
       "      <td>{'selector__max_features': 500, 'selector__est...</td>\n",
       "      <td>X_test:(144, 18875)</td>\n",
       "      <td>['ENSG00000003137.9', 'ENSG00000003987.14', 'E...</td>\n",
       "    </tr>\n",
       "    <tr>\n",
       "      <th>0</th>\n",
       "      <td>bin_m</td>\n",
       "      <td>RF</td>\n",
       "      <td>LR_L1</td>\n",
       "      <td>1466</td>\n",
       "      <td>0.847222</td>\n",
       "      <td>0.843750</td>\n",
       "      <td>0.846184</td>\n",
       "      <td>0.844797</td>\n",
       "      <td>0.913061</td>\n",
       "      <td>amilcar22</td>\n",
       "      <td>380</td>\n",
       "      <td>2023-10-29 23:07:53.756455</td>\n",
       "      <td>modelo_1466_bin_m_RF_LR_L1.pkl</td>\n",
       "      <td>{'selector__max_features': 500, 'selector__est...</td>\n",
       "      <td>X_test:(144, 18875)</td>\n",
       "      <td>['ENSG00000003137.9', 'ENSG00000003987.14', 'E...</td>\n",
       "    </tr>\n",
       "  </tbody>\n",
       "</table>\n",
       "</div>"
      ],
      "text/plain": [
       "    tipo select clasific  semilla  accuracy  precision    recall  f1_score  \\\n",
       "0  bin_m     RF       RF     1466  0.826389   0.824427  0.820024  0.821844   \n",
       "0  bin_m     RF    LR_L2     1466  0.840278   0.836861  0.838120  0.837448   \n",
       "0  bin_m     RF    LR_L1     1466  0.847222   0.843750  0.846184  0.844797   \n",
       "\n",
       "    roc_auc   hostname  total_time_sec                    datetime  \\\n",
       "0  0.891031  amilcar22              91  2023-10-29 23:09:51.194703   \n",
       "0  0.922502  amilcar22              13  2023-10-29 23:08:13.230613   \n",
       "0  0.913061  amilcar22             380  2023-10-29 23:07:53.756455   \n",
       "\n",
       "                   fichero_modelo  \\\n",
       "0     modelo_1466_bin_m_RF_RF.pkl   \n",
       "0  modelo_1466_bin_m_RF_LR_L2.pkl   \n",
       "0  modelo_1466_bin_m_RF_LR_L1.pkl   \n",
       "\n",
       "                                              params                shape  \\\n",
       "0  {'selector__max_features': 500, 'selector__est...  X_test:(144, 18875)   \n",
       "0  {'selector__max_features': 500, 'selector__est...  X_test:(144, 18875)   \n",
       "0  {'selector__max_features': 500, 'selector__est...  X_test:(144, 18875)   \n",
       "\n",
       "                                            features  \n",
       "0  ['ENSG00000000971.17', 'ENSG00000002587.10', '...  \n",
       "0  ['ENSG00000003137.9', 'ENSG00000003987.14', 'E...  \n",
       "0  ['ENSG00000003137.9', 'ENSG00000003987.14', 'E...  "
      ]
     },
     "metadata": {},
     "output_type": "display_data"
    }
   ],
   "source": [
    "if M_TIPO.startswith(\"bin\"):\n",
    "    myfunc.save_metricas_to_csv(random_search, X_test, y_test, M_TIPO, M_SELECT, M_CLASIF, total_time, SEMILLA, myfunc.MET_DIR, M_FICHERO, fichero_modelo)\n",
    "else:\n",
    "    myfunc.save_metricas_multi_to_csv(random_search, X_test, y_test, M_TIPO, M_SELECT, M_CLASIF, total_time, SEMILLA, myfunc.MET_DIR, M_FICHERO, fichero_modelo)\n",
    "\n",
    "df1=myfunc.read_metricas_to_df(myfunc.MET_DIR,M_FICHERO)\n",
    "\n",
    "display(df1.sort_values(\"datetime\", ascending=False)[:3])\n"
   ]
  },
  {
   "cell_type": "markdown",
   "id": "e7a2e27d",
   "metadata": {
    "papermill": {
     "duration": 0.003935,
     "end_time": "2023-10-29T22:09:51.223964",
     "exception": false,
     "start_time": "2023-10-29T22:09:51.220029",
     "status": "completed"
    },
    "tags": []
   },
   "source": [
    "#### Guardar resultados"
   ]
  },
  {
   "cell_type": "code",
   "execution_count": 13,
   "id": "2c86995e",
   "metadata": {
    "execution": {
     "iopub.execute_input": "2023-10-29T22:09:51.232824Z",
     "iopub.status.busy": "2023-10-29T22:09:51.232607Z",
     "iopub.status.idle": "2023-10-29T22:09:51.241336Z",
     "shell.execute_reply": "2023-10-29T22:09:51.240904Z"
    },
    "papermill": {
     "duration": 0.014753,
     "end_time": "2023-10-29T22:09:51.242619",
     "exception": false,
     "start_time": "2023-10-29T22:09:51.227866",
     "status": "completed"
    },
    "tags": []
   },
   "outputs": [
    {
     "name": "stdout",
     "output_type": "stream",
     "text": [
      "20231029T230951 : amilcar22 : INFO : Inicio guardar resultados\n",
      "20231029T230951 : amilcar22 : INFO : Inicio guardar fichero ../tfm_git/ejecuciones/metricas/resultados_1466_bin_m-RF-RF.csv\n",
      "20231029T230951 : amilcar22 : INFO : Fin guardar fichero ../tfm_git/ejecuciones/metricas/resultados_1466_bin_m-RF-RF.csv\n",
      "20231029T230951 : amilcar22 : INFO : Fin guardar resultados\n"
     ]
    }
   ],
   "source": [
    "fichero_resultados=R_FICHERO+\"_\"+M_TIPO+\"-\"+M_SELECT+\"-\"+M_CLASIF+\".csv\"\n",
    "myfunc.save_resultados_to_csv(M_TIPO, M_SELECT, M_CLASIF,  random_search, myfunc.MET_DIR, fichero_resultados)\n"
   ]
  }
 ],
 "metadata": {
  "kernelspec": {
   "display_name": "Python 3 (ipykernel)",
   "language": "python",
   "name": "python3"
  },
  "language_info": {
   "codemirror_mode": {
    "name": "ipython",
    "version": 3
   },
   "file_extension": ".py",
   "mimetype": "text/x-python",
   "name": "python",
   "nbconvert_exporter": "python",
   "pygments_lexer": "ipython3",
   "version": "3.10.12"
  },
  "papermill": {
   "default_parameters": {},
   "duration": 96.46601,
   "end_time": "2023-10-29T22:09:53.864207",
   "environment_variables": {},
   "exception": null,
   "input_path": "03_entrenamiento.ipynb",
   "output_path": "ejecuciones/training/03_entrenamiento.20231029T230817.param_0000_1466_bin_m_RF_RF.output.ipynb",
   "parameters": {
    "MAX_ITERS": 500,
    "M_CLASIF": "RF",
    "M_FICHERO": "metricas_1466",
    "M_SELECT": "RF",
    "M_TIPO": "bin_m",
    "PRE_DATA_FILE": "rows_transpose_norm_by_gene_id_with_target_num_",
    "P_FICHERO": "param_0000_1466_bin_m_RF_RF.yaml",
    "R_FICHERO": "resultados_1466",
    "SCORING": "roc_auc_ovr",
    "SEMILLA": 1466,
    "eval_clasifier": "RandomForestClassifier(random_state=SEMILLA)",
    "eval_selector": "SelectFromModel(estimator=RandomForestClassifier(random_state=SEMILLA), threshold=-np.inf)",
    "param_distributions": {
     "clasifier__bootstrap": [
      true
     ],
     "clasifier__max_depth": [
      20
     ],
     "clasifier__max_features": [
      500
     ],
     "clasifier__min_samples_leaf": [
      5
     ],
     "clasifier__min_samples_split": [
      10
     ],
     "clasifier__n_estimators": [
      400
     ],
     "selector__estimator__n_estimators": [
      400
     ],
     "selector__max_features": [
      500
     ]
    }
   },
   "start_time": "2023-10-29T22:08:17.398197",
   "version": "2.4.0"
  }
 },
 "nbformat": 4,
 "nbformat_minor": 5
}