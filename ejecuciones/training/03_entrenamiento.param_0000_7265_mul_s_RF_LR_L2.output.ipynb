{
 "cells": [
  {
   "cell_type": "markdown",
   "id": "a93eef4f",
   "metadata": {
    "papermill": {
     "duration": 0.005955,
     "end_time": "2023-10-30T16:52:00.699279",
     "exception": false,
     "start_time": "2023-10-30T16:52:00.693324",
     "status": "completed"
    },
    "tags": []
   },
   "source": [
    "##### Inicio"
   ]
  },
  {
   "cell_type": "markdown",
   "id": "c0fb0d73",
   "metadata": {
    "papermill": {
     "duration": 0.003589,
     "end_time": "2023-10-30T16:52:00.706815",
     "exception": false,
     "start_time": "2023-10-30T16:52:00.703226",
     "status": "completed"
    },
    "tags": []
   },
   "source": [
    "#### Carga de datos"
   ]
  },
  {
   "cell_type": "code",
   "execution_count": 1,
   "id": "7db6118d",
   "metadata": {
    "execution": {
     "iopub.execute_input": "2023-10-30T16:52:00.715474Z",
     "iopub.status.busy": "2023-10-30T16:52:00.714866Z",
     "iopub.status.idle": "2023-10-30T16:52:01.821046Z",
     "shell.execute_reply": "2023-10-30T16:52:01.820441Z"
    },
    "papermill": {
     "duration": 1.112072,
     "end_time": "2023-10-30T16:52:01.822412",
     "exception": false,
     "start_time": "2023-10-30T16:52:00.710340",
     "status": "completed"
    },
    "tags": []
   },
   "outputs": [
    {
     "name": "stdout",
     "output_type": "stream",
     "text": [
      "CPU_COUNT: 16; NODE: enderlab; sys.version: 3.10.11 (main, May 16 2023, 00:28:57) [GCC 11.2.0]\n",
      "LOKY_MAX_CPU_COUNT is not set.\n",
      "OMP_NUM_THREADS is not set.\n"
     ]
    }
   ],
   "source": [
    "import os\n",
    "import numpy as np\n",
    "import pandas as pd\n",
    "import datetime\n",
    "import sklearn\n",
    "import logging\n",
    "import warnings\n",
    "\n",
    "from sklearn.pipeline import Pipeline\n",
    "from sklearn.model_selection import RandomizedSearchCV, KFold, cross_val_score, train_test_split\n",
    "from sklearn.metrics import accuracy_score, confusion_matrix, classification_report, roc_auc_score\n",
    "\n",
    "#  cargar algoritmos para aprendizaje supervisado\n",
    "from sklearn.feature_selection import SelectKBest, f_classif, SelectFromModel, mutual_info_classif\n",
    "from sklearn.svm import SVC\n",
    "from sklearn.ensemble import RandomForestClassifier\n",
    "from sklearn.linear_model import LogisticRegression,LogisticRegressionCV\n",
    "\n",
    "# importar fichero con utilidades propias\n",
    "from commons import myfunctions as myfunc\n"
   ]
  },
  {
   "cell_type": "markdown",
   "id": "b3743751",
   "metadata": {
    "papermill": {
     "duration": 0.003859,
     "end_time": "2023-10-30T16:52:01.830625",
     "exception": false,
     "start_time": "2023-10-30T16:52:01.826766",
     "status": "completed"
    },
    "tags": []
   },
   "source": [
    "#### Parámetros a utilizar en el entrenamiento.\n",
    "\n",
    "Se indican los 3 algoritmos de *selección de características* (eval_selector_xxx) y los 3 algoritmos para la _clasificación_ (eval_clasifier_xxx)\n",
    "\n",
    "En *param_distributions* se indicar los parámetros que utilizan los algoritmos en la función RandomSearchCV.\n",
    "\n",
    "Esta celda tiene la etiqueta **parameters** que servirá para poder lanzar los entrenamientos con la utilidad **papermill** pasándole un fichero con los parámetros. Los nuevos parámetros se situarán tras esta celda para tener prevalencia."
   ]
  },
  {
   "cell_type": "code",
   "execution_count": 2,
   "id": "e73b3406",
   "metadata": {
    "execution": {
     "iopub.execute_input": "2023-10-30T16:52:01.839567Z",
     "iopub.status.busy": "2023-10-30T16:52:01.839030Z",
     "iopub.status.idle": "2023-10-30T16:52:01.847723Z",
     "shell.execute_reply": "2023-10-30T16:52:01.847177Z"
    },
    "papermill": {
     "duration": 0.014625,
     "end_time": "2023-10-30T16:52:01.848915",
     "exception": false,
     "start_time": "2023-10-30T16:52:01.834290",
     "status": "completed"
    },
    "tags": [
     "parameters"
    ]
   },
   "outputs": [
    {
     "name": "stdout",
     "output_type": "stream",
     "text": [
      "20231030T175201 : enderlab : INFO : Utilizando parámetros de mul_m\n"
     ]
    }
   ],
   "source": [
    "#  Parametros para el entrenamiento\n",
    "\n",
    "SEMILLA=        42\n",
    "M_TIPO=         \"mul_m\"\n",
    "M_SELECT=       \"MI\"\n",
    "M_CLASIF=       \"SVM\"\n",
    "R_FICHERO=      \"resultados\"\n",
    "M_FICHERO=      \"metricas\"\n",
    "PRE_DATA_FILE=  \"rows_transpose_norm_by_gene_id_with_target_num_\"\n",
    "SCORING=        \"roc_auc_ovr\" \n",
    "MAX_ITERS=      100\n",
    "\n",
    "def mutual_info_classif_state(X, y):\n",
    "    return mutual_info_classif(X, y, random_state=SEMILLA)\n",
    "\n",
    "eval_selector_mi = \"SelectKBest(score_func=mutual_info_classif_state)\"\n",
    "eval_selector_rf=  \"SelectFromModel(estimator=RandomForestClassifier(random_state=SEMILLA), threshold=-np.inf)\"\n",
    "eval_selector_anova=  \"SelectKBest(score_func=f_classif)\"\n",
    "\n",
    "eval_clasifier_svm= \"SVC(probability=True, random_state=SEMILLA)\"\n",
    "eval_clasifier_rf= \"RandomForestClassifier(random_state=SEMILLA)\"\n",
    "eval_clasifier_lr= \"LogisticRegressionCV(random_state=SEMILLA)\"\n",
    "\n",
    "if M_TIPO.startswith(\"bin_m\"):\n",
    "    myfunc.verbose(f\"Utilizando parámetros de {M_TIPO}\")\n",
    "    eval_selector = eval_selector_mi\n",
    "    eval_clasifier = eval_clasifier_svm\n",
    "\n",
    "    SEMILLA = 6578\n",
    "    M_SELECT = \"MI\"\n",
    "    M_CLASIF = \"SVM\"\n",
    "    param_distributions = {'selector__k': [1000], \n",
    "         'clasifier__kernel': ['rbf'], 'clasifier__gamma': [0.01], 'clasifier__C': [100]}\n",
    "elif M_TIPO.startswith(\"bin_s\"):\n",
    "    myfunc.verbose(f\"Utilizando parámetros de {M_TIPO}\")\n",
    "    eval_selector = eval_selector_rf\n",
    "    eval_clasifier = eval_clasifier_lr\n",
    "\n",
    "    SEMILLA = 6191\n",
    "    M_SELECT = \"RF\"\n",
    "    M_CLASIF = \"LR_L2\"\n",
    "    param_distributions = {'selector__max_features': [1000], 'selector__estimator__n_estimators': [200], \n",
    "        'clasifier__solver': ['lbfgs'], 'clasifier__penalty': ['l2'], 'clasifier__max_iter': [10000]}\n",
    "\n",
    "elif M_TIPO.startswith(\"mul_m\"):\n",
    "    myfunc.verbose(f\"Utilizando parámetros de {M_TIPO}\")\n",
    " \n",
    "    eval_selector = eval_selector_rf\n",
    "    eval_clasifier = eval_clasifier_lr\n",
    "\n",
    "    SEMILLA = 6191\n",
    "    M_SELECT = \"RF\"\n",
    "    M_CLASIF = \"LR_L2\"\n",
    "    param_distributions = {'selector__max_features': [1000], 'selector__estimator__n_estimators': [400], \n",
    "        'clasifier__solver': ['lbfgs'], 'clasifier__penalty': ['l2'], 'clasifier__max_iter': [10000]}\n",
    "\n",
    "else:\n",
    "    # M_TIPO.startswith(\"mul_s\"):\n",
    "    myfunc.verbose(f\"Utilizando parámetros de {M_TIPO}\")\n",
    "    eval_selector = eval_selector_anova\n",
    "    eval_clasifier = eval_clasifier_lr\n",
    "\n",
    "    SEMILLA = 1860\n",
    "    M_SELECT = \"ANOVA\"\n",
    "    M_CLASIF = \"LR_L2\"\n",
    "    param_distributions = {'selector__k': [1000], \n",
    "        'clasifier__solver': ['saga'], 'clasifier__penalty': ['l2'], 'clasifier__max_iter': [10000]}\n",
    "\n"
   ]
  },
  {
   "cell_type": "code",
   "execution_count": 3,
   "id": "1caa0eb7",
   "metadata": {
    "execution": {
     "iopub.execute_input": "2023-10-30T16:52:01.857326Z",
     "iopub.status.busy": "2023-10-30T16:52:01.856856Z",
     "iopub.status.idle": "2023-10-30T16:52:01.860778Z",
     "shell.execute_reply": "2023-10-30T16:52:01.860266Z"
    },
    "papermill": {
     "duration": 0.00935,
     "end_time": "2023-10-30T16:52:01.862025",
     "exception": false,
     "start_time": "2023-10-30T16:52:01.852675",
     "status": "completed"
    },
    "tags": [
     "injected-parameters"
    ]
   },
   "outputs": [],
   "source": [
    "# Parameters\n",
    "M_TIPO = \"mul_s\"\n",
    "M_SELECT = \"RF\"\n",
    "M_CLASIF = \"LR_L2\"\n",
    "P_FICHERO = \"param_0000_7265_mul_s_RF_LR_L2.yaml\"\n",
    "R_FICHERO = \"resultados_7265\"\n",
    "M_FICHERO = \"metricas_7265\"\n",
    "PRE_DATA_FILE = \"rows_transpose_norm_by_gene_id_with_target_num_\"\n",
    "SCORING = \"roc_auc_ovr\"\n",
    "SEMILLA = 7265\n",
    "MAX_ITERS = 500\n",
    "eval_selector = \"SelectFromModel(estimator=RandomForestClassifier(random_state=SEMILLA), threshold=-np.inf)\"\n",
    "eval_clasifier = \"LogisticRegressionCV(random_state=SEMILLA)\"\n",
    "param_distributions = {\n",
    "    \"selector__max_features\": [500],\n",
    "    \"selector__estimator__n_estimators\": [200],\n",
    "    \"clasifier__solver\": [\"lbfgs\"],\n",
    "    \"clasifier__penalty\": [\"l2\"],\n",
    "    \"clasifier__max_iter\": [10000],\n",
    "}\n"
   ]
  },
  {
   "cell_type": "code",
   "execution_count": 4,
   "id": "1f105ac0",
   "metadata": {
    "execution": {
     "iopub.execute_input": "2023-10-30T16:52:01.870449Z",
     "iopub.status.busy": "2023-10-30T16:52:01.869966Z",
     "iopub.status.idle": "2023-10-30T16:52:01.873186Z",
     "shell.execute_reply": "2023-10-30T16:52:01.872674Z"
    },
    "papermill": {
     "duration": 0.0087,
     "end_time": "2023-10-30T16:52:01.874411",
     "exception": false,
     "start_time": "2023-10-30T16:52:01.865711",
     "status": "completed"
    },
    "tags": []
   },
   "outputs": [],
   "source": [
    "DATA_FILE = PRE_DATA_FILE + M_TIPO\n",
    "\n",
    "# si viene \"None\" en el parámetro max_depth, se le quitan las comillas para que no sea entendido por el algoritmo como un texto\n",
    "if \"clasifier__max_depth\" in param_distributions:\n",
    "    param_distributions['clasifier__max_depth'] = [None if x == 'None' else x for x in param_distributions['clasifier__max_depth']]"
   ]
  },
  {
   "cell_type": "markdown",
   "id": "1e4dcd7a",
   "metadata": {
    "papermill": {
     "duration": 0.003569,
     "end_time": "2023-10-30T16:52:01.881534",
     "exception": false,
     "start_time": "2023-10-30T16:52:01.877965",
     "status": "completed"
    },
    "tags": []
   },
   "source": [
    "Asignar los algoritmos que se utilizarán en la función RandomSearchCV"
   ]
  },
  {
   "cell_type": "code",
   "execution_count": 5,
   "id": "f2def1ad",
   "metadata": {
    "execution": {
     "iopub.execute_input": "2023-10-30T16:52:01.889676Z",
     "iopub.status.busy": "2023-10-30T16:52:01.889315Z",
     "iopub.status.idle": "2023-10-30T16:52:01.892160Z",
     "shell.execute_reply": "2023-10-30T16:52:01.891653Z"
    },
    "papermill": {
     "duration": 0.00813,
     "end_time": "2023-10-30T16:52:01.893325",
     "exception": false,
     "start_time": "2023-10-30T16:52:01.885195",
     "status": "completed"
    },
    "tags": []
   },
   "outputs": [],
   "source": [
    "algor_selector=eval(eval_selector)\n",
    "algor_clasifier=eval(eval_clasifier)"
   ]
  },
  {
   "cell_type": "markdown",
   "id": "fc60b2e4",
   "metadata": {
    "papermill": {
     "duration": 0.0039,
     "end_time": "2023-10-30T16:52:01.900876",
     "exception": false,
     "start_time": "2023-10-30T16:52:01.896976",
     "status": "completed"
    },
    "tags": []
   },
   "source": [
    "#### Comprobar el entorno y leer fichero de muestras"
   ]
  },
  {
   "cell_type": "code",
   "execution_count": 6,
   "id": "795fe029",
   "metadata": {
    "execution": {
     "iopub.execute_input": "2023-10-30T16:52:01.909762Z",
     "iopub.status.busy": "2023-10-30T16:52:01.909304Z",
     "iopub.status.idle": "2023-10-30T16:52:02.085395Z",
     "shell.execute_reply": "2023-10-30T16:52:02.084713Z"
    },
    "papermill": {
     "duration": 0.182048,
     "end_time": "2023-10-30T16:52:02.086778",
     "exception": false,
     "start_time": "2023-10-30T16:52:01.904730",
     "status": "completed"
    },
    "tags": []
   },
   "outputs": [
    {
     "name": "stdout",
     "output_type": "stream",
     "text": [
      "20231030T175201 : enderlab : INFO : Encontrada carpeta DATA_DIR=../tfm_git/datos\n",
      "20231030T175201 : enderlab : INFO : Encontrada carpeta CFDNA_DIR=../tfm_git/datos/cfDNA_5hmC\n",
      "20231030T175201 : enderlab : INFO : Encontrada carpeta GENCODE_DIR=../tfm_git/datos/gencode\n",
      "20231030T175201 : enderlab : INFO : Encontrada carpeta H5_DIR=../tfm_git/datos/h5\n",
      "20231030T175201 : enderlab : INFO : Encontrada carpeta LOG_DIR=../tfm_git/datos/logs\n",
      "20231030T175201 : enderlab : INFO : Encontrada carpeta CSV_DIR=../tfm_git/datos/csv\n",
      "20231030T175201 : enderlab : INFO : Encontrada carpeta MODEL_DIR=../tfm_git/ejecuciones/modelos\n",
      "20231030T175201 : enderlab : INFO : Encontrada carpeta EXEC_DIR=../tfm_git/ejecuciones\n",
      "20231030T175201 : enderlab : INFO : Encontrada carpeta MET_DIR=../tfm_git/ejecuciones/metricas\n",
      "20231030T175201 : enderlab : INFO : Inicio leer fichero h5 ../tfm_git/datos/h5/rows_transpose_norm_by_gene_id_with_target_num_mul_s.h5\n",
      "20231030T175201 : enderlab : INFO : Leyendo clave /df\n"
     ]
    },
    {
     "name": "stdout",
     "output_type": "stream",
     "text": [
      "20231030T175202 : enderlab : INFO : Tamaño (259, 18876)\n",
      "20231030T175202 : enderlab : INFO : Fin leer fichero h5 ../tfm_git/datos/h5/rows_transpose_norm_by_gene_id_with_target_num_mul_s.h5\n"
     ]
    },
    {
     "data": {
      "text/plain": [
       "target\n",
       "0    37\n",
       "1    37\n",
       "2    37\n",
       "3    37\n",
       "4    37\n",
       "5    37\n",
       "6    37\n",
       "dtype: int64"
      ]
     },
     "metadata": {},
     "output_type": "display_data"
    },
    {
     "name": "stdout",
     "output_type": "stream",
     "text": [
      "Shape df: (259, 18876)\n"
     ]
    },
    {
     "name": "stdout",
     "output_type": "stream",
     "text": [
      "Shape X_train: (207, 18875)\n",
      "Shape X_test: (52, 18875)\n"
     ]
    }
   ],
   "source": [
    "start_time = datetime.datetime.now()\n",
    "\n",
    "myfunc.reset_vars()\n",
    "\n",
    "myfunc.NOTEBK_FILENAME = myfunc.get_nb_name()\n",
    "\n",
    "myfunc.check_enviroment(myfunc.DATA_DIR, myfunc.CFDNA_DIR, myfunc.GENCODE_DIR, myfunc.H5_DIR, myfunc.LOG_DIR, myfunc.CSV_DIR, myfunc.MODEL_DIR, myfunc.EXEC_DIR, myfunc.MET_DIR)\n",
    "\n",
    "# Leer fichero con las muestras\n",
    "df_t = myfunc.read_h5_to_df(DATA_FILE, myfunc.H5_DIR)\n",
    "display(df_t.groupby(\"target\").size())\n",
    "print(\"Shape df:\",df_t.shape)\n",
    "\n",
    "# Separar caracteristicas/genes de las etiquetas/tipos de cáncer\n",
    "X = df_t.iloc[:, :-1]  # Todas las columnas excepto la última\n",
    "y = df_t.iloc[:, -1]  # La última columna contiene los identificadores de los tipos de cáncer\n",
    "\n",
    "#  Crear el conjunto de datos de entrenamiento y de pruebas, y se fija la semilla para siempre coger el mismo juego de muestras\n",
    "X_train, X_test, y_train, y_test = train_test_split(X, y, test_size=0.2, shuffle=True, random_state=42)\n",
    "print(\"Shape X_train:\",X_train.shape)\n",
    "print(\"Shape X_test:\",X_test.shape)\n"
   ]
  },
  {
   "cell_type": "markdown",
   "id": "abdc1ee5",
   "metadata": {
    "papermill": {
     "duration": 0.004221,
     "end_time": "2023-10-30T16:52:02.096007",
     "exception": false,
     "start_time": "2023-10-30T16:52:02.091786",
     "status": "completed"
    },
    "tags": []
   },
   "source": [
    "#### Selección de características y clasificación."
   ]
  },
  {
   "cell_type": "code",
   "execution_count": 7,
   "id": "aa585a7b",
   "metadata": {
    "execution": {
     "iopub.execute_input": "2023-10-30T16:52:02.105490Z",
     "iopub.status.busy": "2023-10-30T16:52:02.105004Z",
     "iopub.status.idle": "2023-10-30T16:52:16.265679Z",
     "shell.execute_reply": "2023-10-30T16:52:16.264809Z"
    },
    "papermill": {
     "duration": 14.167214,
     "end_time": "2023-10-30T16:52:16.267248",
     "exception": false,
     "start_time": "2023-10-30T16:52:02.100034",
     "status": "completed"
    },
    "tags": []
   },
   "outputs": [
    {
     "name": "stdout",
     "output_type": "stream",
     "text": [
      "20231030T175202 : enderlab : INFO : Iniciando entrenamiento\n",
      "num_iter: 1 , max_iter: 1\n"
     ]
    },
    {
     "name": "stdout",
     "output_type": "stream",
     "text": [
      "Fitting 5 folds for each of 1 candidates, totalling 5 fits\n"
     ]
    },
    {
     "name": "stdout",
     "output_type": "stream",
     "text": [
      "Mejores Hiperparámetros: {'selector__max_features': 500, 'selector__estimator__n_estimators': 200, 'clasifier__solver': 'lbfgs', 'clasifier__penalty': 'l2', 'clasifier__max_iter': 10000}\n",
      "Mejor Puntuación: 0.8062\n",
      "20231030T175216 : enderlab : INFO : Fin entrenamiento\n"
     ]
    }
   ],
   "source": [
    "myfunc.verbose(\"Iniciando entrenamiento\")\n",
    "\n",
    "kf = KFold(n_splits=5, shuffle=True, random_state=SEMILLA)\n",
    "\n",
    "# Crear el pipeline para el flujo de tareas\n",
    "tasks_pipeline = Pipeline([\n",
    "    ('selector', algor_selector),\n",
    "    ('clasifier', algor_clasifier)\n",
    "])\n",
    "\n",
    "# MAX_ITERS puede limitar el número de iteraciones si son excesivas para las combinaciones de parámetros buscando un óptimo local, \n",
    "# sino funcionaría como GridSearchCV al revisar todas las cominaciones de los parámetros\n",
    "num_iteraciones = 1\n",
    "num_iteraciones = num_iteraciones * np.prod([len(elemento1) for _, elemento1 in param_distributions.items()])\n",
    "max_iteraciones = num_iteraciones if num_iteraciones <= MAX_ITERS else MAX_ITERS\n",
    "print(\"num_iter:\",num_iteraciones,\", max_iter:\",max_iteraciones)\n",
    "\n",
    "random_search = RandomizedSearchCV(\n",
    "    tasks_pipeline, \n",
    "    param_distributions, \n",
    "    n_iter=max_iteraciones,\n",
    "    scoring=SCORING,\n",
    "    cv=kf,\n",
    "    verbose=3, \n",
    "    random_state=SEMILLA, \n",
    "    n_jobs=-1\n",
    "    )\n",
    "\n",
    "# Entrenar el modelo\n",
    "random_search.fit(X_train, y_train)\n",
    "\n",
    "# Ver los mejores hiperparámetros encontrados\n",
    "print(f'Mejores Hiperparámetros: {random_search.best_params_}')\n",
    "print(f'Mejor Puntuación: {random_search.best_score_:.4f}')\n",
    "\n",
    "# Nos quedamos con el mejor modelo para ver las métricas\n",
    "mejor_modelo = random_search.best_estimator_\n",
    "\n",
    "myfunc.verbose(\"Fin entrenamiento\")"
   ]
  },
  {
   "cell_type": "markdown",
   "id": "0ac63652",
   "metadata": {
    "papermill": {
     "duration": 0.004314,
     "end_time": "2023-10-30T16:52:16.276851",
     "exception": false,
     "start_time": "2023-10-30T16:52:16.272537",
     "status": "completed"
    },
    "tags": []
   },
   "source": [
    "#### Guardar modelo"
   ]
  },
  {
   "cell_type": "code",
   "execution_count": 8,
   "id": "594b39c4",
   "metadata": {
    "execution": {
     "iopub.execute_input": "2023-10-30T16:52:16.286626Z",
     "iopub.status.busy": "2023-10-30T16:52:16.286224Z",
     "iopub.status.idle": "2023-10-30T16:52:16.375673Z",
     "shell.execute_reply": "2023-10-30T16:52:16.375063Z"
    },
    "papermill": {
     "duration": 0.09601,
     "end_time": "2023-10-30T16:52:16.377001",
     "exception": false,
     "start_time": "2023-10-30T16:52:16.280991",
     "status": "completed"
    },
    "tags": []
   },
   "outputs": [
    {
     "name": "stdout",
     "output_type": "stream",
     "text": [
      "20231030T175216 : enderlab : INFO : Inicio guardar fichero ../tfm_git/ejecuciones/modelos/modelo_7265_mul_s_RF_LR_L2.pkl\n",
      "20231030T175216 : enderlab : INFO : Fin guardar fichero ../tfm_git/ejecuciones/modelos/modelo_7265_mul_s_RF_LR_L2.pkl\n"
     ]
    }
   ],
   "source": [
    "fichero_modelo = str.replace(\"modelo_\"+str(SEMILLA).zfill(4)+\"_\"+M_TIPO+\"_\"+M_SELECT+\"_\"+M_CLASIF+\".pkl\", \" \", \"_\")\n",
    "\n",
    "myfunc.save_modelo(mejor_modelo, myfunc.MODEL_DIR, fichero_modelo)"
   ]
  },
  {
   "cell_type": "markdown",
   "id": "cf58b04a",
   "metadata": {
    "papermill": {
     "duration": 0.004333,
     "end_time": "2023-10-30T16:52:16.385866",
     "exception": false,
     "start_time": "2023-10-30T16:52:16.381533",
     "status": "completed"
    },
    "tags": []
   },
   "source": [
    "#### Ver resultados del las iteraciones hechas por RandomSearchCV"
   ]
  },
  {
   "cell_type": "code",
   "execution_count": 9,
   "id": "229f4dc1",
   "metadata": {
    "execution": {
     "iopub.execute_input": "2023-10-30T16:52:16.403250Z",
     "iopub.status.busy": "2023-10-30T16:52:16.402746Z",
     "iopub.status.idle": "2023-10-30T16:52:16.409861Z",
     "shell.execute_reply": "2023-10-30T16:52:16.409316Z"
    },
    "papermill": {
     "duration": 0.013296,
     "end_time": "2023-10-30T16:52:16.411075",
     "exception": false,
     "start_time": "2023-10-30T16:52:16.397779",
     "status": "completed"
    },
    "tags": []
   },
   "outputs": [
    {
     "name": "stdout",
     "output_type": "stream",
     "text": [
      "20231030T175216 : enderlab : INFO : Inicio ver resultados\n",
      "Mejores Hiperparámetros: {'selector__max_features': 500, 'selector__estimator__n_estimators': 200, 'clasifier__solver': 'lbfgs', 'clasifier__penalty': 'l2', 'clasifier__max_iter': 10000}\n",
      "Mejores puntuaciones: 0.8062 | Params: {'selector__max_features': 500, 'selector__estimator__n_estimators': 200, 'clasifier__solver': 'lbfgs', 'clasifier__penalty': 'l2', 'clasifier__max_iter': 10000}\n",
      "Media de las puntuaciones: 0.8062 | Params: {'selector__max_features': 500, 'selector__estimator__n_estimators': 200, 'clasifier__solver': 'lbfgs', 'clasifier__penalty': 'l2', 'clasifier__max_iter': 10000}\n",
      "20231030T175216 : enderlab : INFO : Fin resultados\n"
     ]
    }
   ],
   "source": [
    "myfunc.ver_resultados_search(random_search)"
   ]
  },
  {
   "cell_type": "markdown",
   "id": "3c5f0958",
   "metadata": {
    "papermill": {
     "duration": 0.00429,
     "end_time": "2023-10-30T16:52:16.419695",
     "exception": false,
     "start_time": "2023-10-30T16:52:16.415405",
     "status": "completed"
    },
    "tags": []
   },
   "source": [
    "#### Ver métricas del mejor modelo"
   ]
  },
  {
   "cell_type": "code",
   "execution_count": 10,
   "id": "72397599",
   "metadata": {
    "execution": {
     "iopub.execute_input": "2023-10-30T16:52:16.429520Z",
     "iopub.status.busy": "2023-10-30T16:52:16.429044Z",
     "iopub.status.idle": "2023-10-30T16:52:17.277177Z",
     "shell.execute_reply": "2023-10-30T16:52:17.276583Z"
    },
    "papermill": {
     "duration": 0.854444,
     "end_time": "2023-10-30T16:52:17.278511",
     "exception": false,
     "start_time": "2023-10-30T16:52:16.424067",
     "status": "completed"
    },
    "tags": []
   },
   "outputs": [
    {
     "name": "stdout",
     "output_type": "stream",
     "text": [
      "20231030T175216 : enderlab : INFO : Inicio ver métricas multiclase\n"
     ]
    },
    {
     "name": "stdout",
     "output_type": "stream",
     "text": [
      "              precision    recall  f1-score   support\n",
      "\n",
      "           0       0.00      0.00      0.00        11\n",
      "           1       0.83      0.62      0.71         8\n",
      "           2       0.17      0.12      0.14         8\n",
      "           3       0.11      0.20      0.14         5\n",
      "           4       0.50      0.75      0.60         8\n",
      "           5       0.50      0.50      0.50         6\n",
      "           6       0.10      0.17      0.12         6\n",
      "\n",
      "    accuracy                           0.33        52\n",
      "   macro avg       0.32      0.34      0.32        52\n",
      "weighted avg       0.31      0.33      0.31        52\n",
      "\n",
      "\n",
      "\n",
      "           Exactitud: 0.326923\n",
      "   Precisión (media): 0.315873\n",
      "      Recall (media): 0.338095\n",
      "    F1-score (media): 0.317857\n",
      "\n",
      "\n",
      "AUC para el tipo de cáncer 0-Control.... 0.6231\n",
      "AUC para el tipo de cáncer 1-Bladder.... 0.8466\n",
      "AUC para el tipo de cáncer 2-Breast..... 0.5852\n",
      "AUC para el tipo de cáncer 3-Colorectal. 0.6468\n",
      "AUC para el tipo de cáncer 4-Kidney..... 0.8608\n",
      "AUC para el tipo de cáncer 5-Lung....... 0.9565\n",
      "AUC para el tipo de cáncer 6-Prostate... 0.7609\n",
      "\n",
      "Media de AUC: 0.7543\n"
     ]
    },
    {
     "data": {
      "image/png": "[encoded data removed]",
      "text/plain": [
       "<Figure size 1000x600 with 1 Axes>"
      ]
     },
     "metadata": {},
     "output_type": "display_data"
    },
    {
     "name": "stdout",
     "output_type": "stream",
     "text": [
      "\n",
      "\n"
     ]
    },
    {
     "data": {
      "image/png": "[encoded data removed]",
      "text/plain": [
       "<Figure size 800x400 with 2 Axes>"
      ]
     },
     "metadata": {},
     "output_type": "display_data"
    },
    {
     "name": "stdout",
     "output_type": "stream",
     "text": [
      "\n",
      "\n",
      "Puntuación Jaccard para el cáncer tipo 0-Control.... 0.0000\n",
      "Puntuación Jaccard para el cáncer tipo 1-Bladder.... 0.5556\n",
      "Puntuación Jaccard para el cáncer tipo 2-Breast..... 0.0769\n",
      "Puntuación Jaccard para el cáncer tipo 3-Colorectal. 0.0769\n",
      "Puntuación Jaccard para el cáncer tipo 4-Kidney..... 0.4286\n",
      "Puntuación Jaccard para el cáncer tipo 5-Lung....... 0.3333\n",
      "Puntuación Jaccard para el cáncer tipo 6-Prostate... 0.0667\n",
      "\n",
      "Media de la puntuación de Jaccard: 0.2197\n"
     ]
    }
   ],
   "source": [
    "if M_TIPO.startswith(\"bin\"):\n",
    "    myfunc.ver_metricas(mejor_modelo, X_test, y_test)\n",
    "else:\n",
    "    myfunc.ver_metricas_multi(mejor_modelo, X_test, y_test)\n"
   ]
  },
  {
   "cell_type": "markdown",
   "id": "4e54ff51",
   "metadata": {
    "papermill": {
     "duration": 0.006636,
     "end_time": "2023-10-30T16:52:17.293678",
     "exception": false,
     "start_time": "2023-10-30T16:52:17.287042",
     "status": "completed"
    },
    "tags": []
   },
   "source": [
    "#### Finalización del notebook"
   ]
  },
  {
   "cell_type": "code",
   "execution_count": 11,
   "id": "1b2cb481",
   "metadata": {
    "execution": {
     "iopub.execute_input": "2023-10-30T16:52:17.307118Z",
     "iopub.status.busy": "2023-10-30T16:52:17.306868Z",
     "iopub.status.idle": "2023-10-30T16:52:17.310730Z",
     "shell.execute_reply": "2023-10-30T16:52:17.310163Z"
    },
    "papermill": {
     "duration": 0.012384,
     "end_time": "2023-10-30T16:52:17.312038",
     "exception": false,
     "start_time": "2023-10-30T16:52:17.299654",
     "status": "completed"
    },
    "tags": []
   },
   "outputs": [
    {
     "name": "stdout",
     "output_type": "stream",
     "text": [
      "20231030T175217 : enderlab : INFO : Notebook ha tardado 15 seconds\n"
     ]
    }
   ],
   "source": [
    "end_time = datetime.datetime.now()\n",
    "total_time = end_time - start_time\n",
    "myfunc.verbose(f\"Notebook ha tardado {total_time.seconds} seconds\")"
   ]
  },
  {
   "cell_type": "markdown",
   "id": "54a1def2",
   "metadata": {
    "papermill": {
     "duration": 0.005834,
     "end_time": "2023-10-30T16:52:17.323674",
     "exception": false,
     "start_time": "2023-10-30T16:52:17.317840",
     "status": "completed"
    },
    "tags": []
   },
   "source": [
    "#### Guardar métricas"
   ]
  },
  {
   "cell_type": "code",
   "execution_count": 12,
   "id": "2d25477f",
   "metadata": {
    "execution": {
     "iopub.execute_input": "2023-10-30T16:52:17.337335Z",
     "iopub.status.busy": "2023-10-30T16:52:17.336887Z",
     "iopub.status.idle": "2023-10-30T16:52:17.808971Z",
     "shell.execute_reply": "2023-10-30T16:52:17.808396Z"
    },
    "papermill": {
     "duration": 0.480557,
     "end_time": "2023-10-30T16:52:17.810317",
     "exception": false,
     "start_time": "2023-10-30T16:52:17.329760",
     "status": "completed"
    },
    "tags": []
   },
   "outputs": [
    {
     "name": "stdout",
     "output_type": "stream",
     "text": [
      "20231030T175217 : enderlab : INFO : Inicio guardar métricas multiclase\n",
      "20231030T175217 : enderlab : INFO : Inicio leer fichero ../tfm_git/ejecuciones/metricas/metricas_7265.csv\n",
      "20231030T175217 : enderlab : INFO : Fin leer fichero ../tfm_git/ejecuciones/metricas/metricas_7265.csv\n"
     ]
    },
    {
     "name": "stdout",
     "output_type": "stream",
     "text": [
      "20231030T175217 : enderlab : INFO : Inicio guardar fichero ../tfm_git/ejecuciones/metricas/metricas_7265.csv\n",
      "20231030T175217 : enderlab : INFO : Fichero borrado ../tfm_git/ejecuciones/metricas/metricas_7265.csv\n",
      "20231030T175217 : enderlab : INFO : Fin guardar fichero ../tfm_git/ejecuciones/metricas/metricas_7265.csv\n",
      "20231030T175217 : enderlab : INFO : Fin guardar métricas multiclase\n",
      "20231030T175217 : enderlab : INFO : Inicio leer fichero ../tfm_git/ejecuciones/metricas/metricas_7265.csv\n",
      "20231030T175217 : enderlab : INFO : Fin leer fichero ../tfm_git/ejecuciones/metricas/metricas_7265.csv\n"
     ]
    },
    {
     "data": {
      "text/html": [
       "<div>\n",
       "<style scoped>\n",
       "    .dataframe tbody tr th:only-of-type {\n",
       "        vertical-align: middle;\n",
       "    }\n",
       "\n",
       "    .dataframe tbody tr th {\n",
       "        vertical-align: top;\n",
       "    }\n",
       "\n",
       "    .dataframe thead th {\n",
       "        text-align: right;\n",
       "    }\n",
       "</style>\n",
       "<table border=\"1\" class=\"dataframe\">\n",
       "  <thead>\n",
       "    <tr style=\"text-align: right;\">\n",
       "      <th></th>\n",
       "      <th>tipo</th>\n",
       "      <th>select</th>\n",
       "      <th>clasific</th>\n",
       "      <th>semilla</th>\n",
       "      <th>accuracy</th>\n",
       "      <th>precision</th>\n",
       "      <th>recall</th>\n",
       "      <th>f1_score</th>\n",
       "      <th>roc_auc</th>\n",
       "      <th>hostname</th>\n",
       "      <th>total_time_sec</th>\n",
       "      <th>datetime</th>\n",
       "      <th>fichero_modelo</th>\n",
       "      <th>params</th>\n",
       "      <th>shape</th>\n",
       "      <th>features</th>\n",
       "      <th>roc_auc_ovr</th>\n",
       "      <th>indices_auc</th>\n",
       "      <th>indices_jaccard</th>\n",
       "    </tr>\n",
       "  </thead>\n",
       "  <tbody>\n",
       "    <tr>\n",
       "      <th>0</th>\n",
       "      <td>mul_s</td>\n",
       "      <td>RF</td>\n",
       "      <td>LR_L2</td>\n",
       "      <td>7265</td>\n",
       "      <td>0.326923</td>\n",
       "      <td>0.315873</td>\n",
       "      <td>0.338095</td>\n",
       "      <td>0.317857</td>\n",
       "      <td>NaN</td>\n",
       "      <td>enderlab</td>\n",
       "      <td>15</td>\n",
       "      <td>2023-10-30 17:52:17.753748</td>\n",
       "      <td>modelo_7265_mul_s_RF_LR_L2.pkl</td>\n",
       "      <td>{'selector__max_features': 500, 'selector__est...</td>\n",
       "      <td>X_test:(52, 18875)</td>\n",
       "      <td>['ENSG00000004455.18', 'ENSG00000005187.12', '...</td>\n",
       "      <td>0.754268</td>\n",
       "      <td>[0.623059866962306, 0.8465909090909091, 0.5852...</td>\n",
       "      <td>[0.0, 0.5555555555555556, 0.07692307692307693,...</td>\n",
       "    </tr>\n",
       "    <tr>\n",
       "      <th>0</th>\n",
       "      <td>mul_s</td>\n",
       "      <td>RF</td>\n",
       "      <td>LR_L1</td>\n",
       "      <td>7265</td>\n",
       "      <td>0.326923</td>\n",
       "      <td>0.335570</td>\n",
       "      <td>0.350000</td>\n",
       "      <td>0.333979</td>\n",
       "      <td>NaN</td>\n",
       "      <td>enderlab</td>\n",
       "      <td>399</td>\n",
       "      <td>2023-10-30 17:51:55.141198</td>\n",
       "      <td>modelo_7265_mul_s_RF_LR_L1.pkl</td>\n",
       "      <td>{'selector__max_features': 500, 'selector__est...</td>\n",
       "      <td>X_test:(52, 18875)</td>\n",
       "      <td>['ENSG00000005187.12', 'ENSG00000005206.17', '...</td>\n",
       "      <td>0.693987</td>\n",
       "      <td>[0.4079822616407982, 0.7585227272727273, 0.701...</td>\n",
       "      <td>[0.0, 0.3, 0.14285714285714285, 0.071428571428...</td>\n",
       "    </tr>\n",
       "    <tr>\n",
       "      <th>0</th>\n",
       "      <td>mul_s</td>\n",
       "      <td>RF</td>\n",
       "      <td>LR_EN</td>\n",
       "      <td>7265</td>\n",
       "      <td>0.403846</td>\n",
       "      <td>0.450680</td>\n",
       "      <td>0.385281</td>\n",
       "      <td>0.400797</td>\n",
       "      <td>NaN</td>\n",
       "      <td>enderlab</td>\n",
       "      <td>355</td>\n",
       "      <td>2023-10-30 17:45:08.456847</td>\n",
       "      <td>modelo_7265_mul_s_RF_LR_EN.pkl</td>\n",
       "      <td>{'selector__max_features': 500, 'selector__est...</td>\n",
       "      <td>X_test:(52, 18875)</td>\n",
       "      <td>['ENSG00000000938.13', 'ENSG00000004455.18', '...</td>\n",
       "      <td>0.737086</td>\n",
       "      <td>[0.5587583148558759, 0.7642045454545454, 0.625...</td>\n",
       "      <td>[0.25, 0.5, 0.09090909090909091, 0.0, 0.7, 0.4...</td>\n",
       "    </tr>\n",
       "  </tbody>\n",
       "</table>\n",
       "</div>"
      ],
      "text/plain": [
       "    tipo select clasific  semilla  accuracy  precision    recall  f1_score  \\\n",
       "0  mul_s     RF    LR_L2     7265  0.326923   0.315873  0.338095  0.317857   \n",
       "0  mul_s     RF    LR_L1     7265  0.326923   0.335570  0.350000  0.333979   \n",
       "0  mul_s     RF    LR_EN     7265  0.403846   0.450680  0.385281  0.400797   \n",
       "\n",
       "   roc_auc  hostname  total_time_sec                    datetime  \\\n",
       "0      NaN  enderlab              15  2023-10-30 17:52:17.753748   \n",
       "0      NaN  enderlab             399  2023-10-30 17:51:55.141198   \n",
       "0      NaN  enderlab             355  2023-10-30 17:45:08.456847   \n",
       "\n",
       "                   fichero_modelo  \\\n",
       "0  modelo_7265_mul_s_RF_LR_L2.pkl   \n",
       "0  modelo_7265_mul_s_RF_LR_L1.pkl   \n",
       "0  modelo_7265_mul_s_RF_LR_EN.pkl   \n",
       "\n",
       "                                              params               shape  \\\n",
       "0  {'selector__max_features': 500, 'selector__est...  X_test:(52, 18875)   \n",
       "0  {'selector__max_features': 500, 'selector__est...  X_test:(52, 18875)   \n",
       "0  {'selector__max_features': 500, 'selector__est...  X_test:(52, 18875)   \n",
       "\n",
       "                                            features  roc_auc_ovr  \\\n",
       "0  ['ENSG00000004455.18', 'ENSG00000005187.12', '...     0.754268   \n",
       "0  ['ENSG00000005187.12', 'ENSG00000005206.17', '...     0.693987   \n",
       "0  ['ENSG00000000938.13', 'ENSG00000004455.18', '...     0.737086   \n",
       "\n",
       "                                         indices_auc  \\\n",
       "0  [0.623059866962306, 0.8465909090909091, 0.5852...   \n",
       "0  [0.4079822616407982, 0.7585227272727273, 0.701...   \n",
       "0  [0.5587583148558759, 0.7642045454545454, 0.625...   \n",
       "\n",
       "                                     indices_jaccard  \n",
       "0  [0.0, 0.5555555555555556, 0.07692307692307693,...  \n",
       "0  [0.0, 0.3, 0.14285714285714285, 0.071428571428...  \n",
       "0  [0.25, 0.5, 0.09090909090909091, 0.0, 0.7, 0.4...  "
      ]
     },
     "metadata": {},
     "output_type": "display_data"
    }
   ],
   "source": [
    "if M_TIPO.startswith(\"bin\"):\n",
    "    myfunc.save_metricas_to_csv(random_search, X_test, y_test, M_TIPO, M_SELECT, M_CLASIF, total_time, SEMILLA, myfunc.MET_DIR, M_FICHERO, fichero_modelo)\n",
    "else:\n",
    "    myfunc.save_metricas_multi_to_csv(random_search, X_test, y_test, M_TIPO, M_SELECT, M_CLASIF, total_time, SEMILLA, myfunc.MET_DIR, M_FICHERO, fichero_modelo)\n",
    "\n",
    "df1=myfunc.read_metricas_to_df(myfunc.MET_DIR,M_FICHERO)\n",
    "\n",
    "display(df1.sort_values(\"datetime\", ascending=False)[:3])\n"
   ]
  },
  {
   "cell_type": "markdown",
   "id": "e6b1060f",
   "metadata": {
    "papermill": {
     "duration": 0.00633,
     "end_time": "2023-10-30T16:52:17.823600",
     "exception": false,
     "start_time": "2023-10-30T16:52:17.817270",
     "status": "completed"
    },
    "tags": []
   },
   "source": [
    "#### Guardar resultados"
   ]
  },
  {
   "cell_type": "code",
   "execution_count": 13,
   "id": "03eca47e",
   "metadata": {
    "execution": {
     "iopub.execute_input": "2023-10-30T16:52:17.841839Z",
     "iopub.status.busy": "2023-10-30T16:52:17.841316Z",
     "iopub.status.idle": "2023-10-30T16:52:17.850722Z",
     "shell.execute_reply": "2023-10-30T16:52:17.850165Z"
    },
    "papermill": {
     "duration": 0.022073,
     "end_time": "2023-10-30T16:52:17.851950",
     "exception": false,
     "start_time": "2023-10-30T16:52:17.829877",
     "status": "completed"
    },
    "tags": []
   },
   "outputs": [
    {
     "name": "stdout",
     "output_type": "stream",
     "text": [
      "20231030T175217 : enderlab : INFO : Inicio guardar resultados\n",
      "20231030T175217 : enderlab : INFO : Inicio guardar fichero ../tfm_git/ejecuciones/metricas/resultados_7265_mul_s-RF-LR_L2.csv\n",
      "20231030T175217 : enderlab : INFO : Fin guardar fichero ../tfm_git/ejecuciones/metricas/resultados_7265_mul_s-RF-LR_L2.csv\n",
      "20231030T175217 : enderlab : INFO : Fin guardar resultados\n"
     ]
    }
   ],
   "source": [
    "fichero_resultados=R_FICHERO+\"_\"+M_TIPO+\"-\"+M_SELECT+\"-\"+M_CLASIF+\".csv\"\n",
    "myfunc.save_resultados_to_csv(M_TIPO, M_SELECT, M_CLASIF,  random_search, myfunc.MET_DIR, fichero_resultados)\n"
   ]
  }
 ],
 "metadata": {
  "kernelspec": {
   "display_name": "Python 3 (ipykernel)",
   "language": "python",
   "name": "python3"
  },
  "language_info": {
   "codemirror_mode": {
    "name": "ipython",
    "version": 3
   },
   "file_extension": ".py",
   "mimetype": "text/x-python",
   "name": "python",
   "nbconvert_exporter": "python",
   "pygments_lexer": "ipython3",
   "version": "3.10.11"
  },
  "papermill": {
   "default_parameters": {},
   "duration": 20.968243,
   "end_time": "2023-10-30T16:52:20.478636",
   "environment_variables": {},
   "exception": null,
   "input_path": "03_entrenamiento.ipynb",
   "output_path": "ejecuciones/training/03_entrenamiento.20231030T175159.param_0000_7265_mul_s_RF_LR_L2.output.ipynb",
   "parameters": {
    "MAX_ITERS": 500,
    "M_CLASIF": "LR_L2",
    "M_FICHERO": "metricas_7265",
    "M_SELECT": "RF",
    "M_TIPO": "mul_s",
    "PRE_DATA_FILE": "rows_transpose_norm_by_gene_id_with_target_num_",
    "P_FICHERO": "param_0000_7265_mul_s_RF_LR_L2.yaml",
    "R_FICHERO": "resultados_7265",
    "SCORING": "roc_auc_ovr",
    "SEMILLA": 7265,
    "eval_clasifier": "LogisticRegressionCV(random_state=SEMILLA)",
    "eval_selector": "SelectFromModel(estimator=RandomForestClassifier(random_state=SEMILLA), threshold=-np.inf)",
    "param_distributions": {
     "clasifier__max_iter": [
      10000
     ],
     "clasifier__penalty": [
      "l2"
     ],
     "clasifier__solver": [
      "lbfgs"
     ],
     "selector__estimator__n_estimators": [
      200
     ],
     "selector__max_features": [
      500
     ]
    }
   },
   "start_time": "2023-10-30T16:51:59.510393",
   "version": "2.4.0"
  }
 },
 "nbformat": 4,
 "nbformat_minor": 5
}