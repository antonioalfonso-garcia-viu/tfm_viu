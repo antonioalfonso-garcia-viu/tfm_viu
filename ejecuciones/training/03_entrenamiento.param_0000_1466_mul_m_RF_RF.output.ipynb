{
 "cells": [
  {
   "cell_type": "markdown",
   "id": "47b56203",
   "metadata": {
    "papermill": {
     "duration": 0.003172,
     "end_time": "2023-10-30T02:31:57.841027",
     "exception": false,
     "start_time": "2023-10-30T02:31:57.837855",
     "status": "completed"
    },
    "tags": []
   },
   "source": [
    "##### Inicio"
   ]
  },
  {
   "cell_type": "markdown",
   "id": "f5e75d72",
   "metadata": {
    "papermill": {
     "duration": 0.002368,
     "end_time": "2023-10-30T02:31:57.845932",
     "exception": false,
     "start_time": "2023-10-30T02:31:57.843564",
     "status": "completed"
    },
    "tags": []
   },
   "source": [
    "#### Carga de datos"
   ]
  },
  {
   "cell_type": "code",
   "execution_count": 1,
   "id": "d94bba83",
   "metadata": {
    "execution": {
     "iopub.execute_input": "2023-10-30T02:31:57.851820Z",
     "iopub.status.busy": "2023-10-30T02:31:57.851586Z",
     "iopub.status.idle": "2023-10-30T02:31:58.710038Z",
     "shell.execute_reply": "2023-10-30T02:31:58.709522Z"
    },
    "papermill": {
     "duration": 0.862903,
     "end_time": "2023-10-30T02:31:58.711256",
     "exception": false,
     "start_time": "2023-10-30T02:31:57.848353",
     "status": "completed"
    },
    "tags": []
   },
   "outputs": [
    {
     "name": "stdout",
     "output_type": "stream",
     "text": [
      "CPU_COUNT: 8; NODE: amilcar22; sys.version: 3.10.12 (main, Jul  5 2023, 19:22:19) [GCC 11.2.0]\n",
      "LOKY_MAX_CPU_COUNT: 6\n",
      "OMP_NUM_THREADS: 2\n"
     ]
    }
   ],
   "source": [
    "import os\n",
    "import numpy as np\n",
    "import pandas as pd\n",
    "import datetime\n",
    "import sklearn\n",
    "import logging\n",
    "import warnings\n",
    "\n",
    "from sklearn.pipeline import Pipeline\n",
    "from sklearn.model_selection import RandomizedSearchCV, KFold, cross_val_score, train_test_split\n",
    "from sklearn.metrics import accuracy_score, confusion_matrix, classification_report, roc_auc_score\n",
    "\n",
    "#  cargar algoritmos para aprendizaje supervisado\n",
    "from sklearn.feature_selection import SelectKBest, f_classif, SelectFromModel, mutual_info_classif\n",
    "from sklearn.svm import SVC\n",
    "from sklearn.ensemble import RandomForestClassifier\n",
    "from sklearn.linear_model import LogisticRegression,LogisticRegressionCV\n",
    "\n",
    "# importar fichero con utilidades propias\n",
    "from commons import myfunctions as myfunc\n"
   ]
  },
  {
   "cell_type": "markdown",
   "id": "40a11da4",
   "metadata": {
    "papermill": {
     "duration": 0.002622,
     "end_time": "2023-10-30T02:31:58.716853",
     "exception": false,
     "start_time": "2023-10-30T02:31:58.714231",
     "status": "completed"
    },
    "tags": []
   },
   "source": [
    "#### Parámetros a utilizar en el entrenamiento.\n",
    "\n",
    "Se indican los 3 algoritmos de *selección de características* (eval_selector_xxx) y los 3 algoritmos para la _clasificación_ (eval_clasifier_xxx)\n",
    "\n",
    "En *param_distributions* se indicar los parámetros que utilizan los algoritmos en la función RandomSearchCV.\n",
    "\n",
    "Esta celda tiene la etiqueta **parameters** que servirá para poder lanzar los entrenamientos con la utilidad **papermill** pasándole un fichero con los parámetros. Los nuevos parámetros se situarán tras esta celda para tener prevalencia."
   ]
  },
  {
   "cell_type": "code",
   "execution_count": 2,
   "id": "59a537e9",
   "metadata": {
    "execution": {
     "iopub.execute_input": "2023-10-30T02:31:58.722912Z",
     "iopub.status.busy": "2023-10-30T02:31:58.722641Z",
     "iopub.status.idle": "2023-10-30T02:31:58.729452Z",
     "shell.execute_reply": "2023-10-30T02:31:58.728953Z"
    },
    "papermill": {
     "duration": 0.011156,
     "end_time": "2023-10-30T02:31:58.730562",
     "exception": false,
     "start_time": "2023-10-30T02:31:58.719406",
     "status": "completed"
    },
    "tags": [
     "parameters"
    ]
   },
   "outputs": [
    {
     "name": "stdout",
     "output_type": "stream",
     "text": [
      "20231030T033158 : amilcar22 : INFO : Utilizando parámetros de mul_m\n"
     ]
    }
   ],
   "source": [
    "#  Parametros para el entrenamiento\n",
    "\n",
    "SEMILLA=        42\n",
    "M_TIPO=         \"mul_m\"\n",
    "M_SELECT=       \"MI\"\n",
    "M_CLASIF=       \"SVM\"\n",
    "R_FICHERO=      \"resultados\"\n",
    "M_FICHERO=      \"metricas\"\n",
    "PRE_DATA_FILE=  \"rows_transpose_norm_by_gene_id_with_target_num_\"\n",
    "SCORING=        \"roc_auc_ovr\" \n",
    "MAX_ITERS=      100\n",
    "\n",
    "def mutual_info_classif_state(X, y):\n",
    "    return mutual_info_classif(X, y, random_state=SEMILLA)\n",
    "\n",
    "eval_selector_mi = \"SelectKBest(score_func=mutual_info_classif_state)\"\n",
    "eval_selector_rf=  \"SelectFromModel(estimator=RandomForestClassifier(random_state=SEMILLA), threshold=-np.inf)\"\n",
    "eval_selector_anova=  \"SelectKBest(score_func=f_classif)\"\n",
    "\n",
    "eval_clasifier_svm= \"SVC(probability=True, random_state=SEMILLA)\"\n",
    "eval_clasifier_rf= \"RandomForestClassifier(random_state=SEMILLA)\"\n",
    "eval_clasifier_lr= \"LogisticRegressionCV(random_state=SEMILLA)\"\n",
    "\n",
    "if M_TIPO.startswith(\"bin_m\"):\n",
    "    myfunc.verbose(f\"Utilizando parámetros de {M_TIPO}\")\n",
    "    eval_selector = eval_selector_mi\n",
    "    eval_clasifier = eval_clasifier_svm\n",
    "\n",
    "    SEMILLA = 6578\n",
    "    M_SELECT = \"MI\"\n",
    "    M_CLASIF = \"SVM\"\n",
    "    param_distributions = {'selector__k': [1000], \n",
    "         'clasifier__kernel': ['rbf'], 'clasifier__gamma': [0.01], 'clasifier__C': [100]}\n",
    "elif M_TIPO.startswith(\"bin_s\"):\n",
    "    myfunc.verbose(f\"Utilizando parámetros de {M_TIPO}\")\n",
    "    eval_selector = eval_selector_rf\n",
    "    eval_clasifier = eval_clasifier_lr\n",
    "\n",
    "    SEMILLA = 6191\n",
    "    M_SELECT = \"RF\"\n",
    "    M_CLASIF = \"LR_L2\"\n",
    "    param_distributions = {'selector__max_features': [1000], 'selector__estimator__n_estimators': [200], \n",
    "        'clasifier__solver': ['lbfgs'], 'clasifier__penalty': ['l2'], 'clasifier__max_iter': [10000]}\n",
    "\n",
    "elif M_TIPO.startswith(\"mul_m\"):\n",
    "    myfunc.verbose(f\"Utilizando parámetros de {M_TIPO}\")\n",
    " \n",
    "    eval_selector = eval_selector_rf\n",
    "    eval_clasifier = eval_clasifier_lr\n",
    "\n",
    "    SEMILLA = 6191\n",
    "    M_SELECT = \"RF\"\n",
    "    M_CLASIF = \"LR_L2\"\n",
    "    param_distributions = {'selector__max_features': [1000], 'selector__estimator__n_estimators': [400], \n",
    "        'clasifier__solver': ['lbfgs'], 'clasifier__penalty': ['l2'], 'clasifier__max_iter': [10000]}\n",
    "\n",
    "else:\n",
    "    # M_TIPO.startswith(\"mul_s\"):\n",
    "    myfunc.verbose(f\"Utilizando parámetros de {M_TIPO}\")\n",
    "    eval_selector = eval_selector_anova\n",
    "    eval_clasifier = eval_clasifier_lr\n",
    "\n",
    "    SEMILLA = 1860\n",
    "    M_SELECT = \"ANOVA\"\n",
    "    M_CLASIF = \"LR_L2\"\n",
    "    param_distributions = {'selector__k': [1000], \n",
    "        'clasifier__solver': ['saga'], 'clasifier__penalty': ['l2'], 'clasifier__max_iter': [10000]}\n",
    "\n"
   ]
  },
  {
   "cell_type": "code",
   "execution_count": 3,
   "id": "d09e88c4",
   "metadata": {
    "execution": {
     "iopub.execute_input": "2023-10-30T02:31:58.736585Z",
     "iopub.status.busy": "2023-10-30T02:31:58.736391Z",
     "iopub.status.idle": "2023-10-30T02:31:58.740131Z",
     "shell.execute_reply": "2023-10-30T02:31:58.739704Z"
    },
    "papermill": {
     "duration": 0.007955,
     "end_time": "2023-10-30T02:31:58.741326",
     "exception": false,
     "start_time": "2023-10-30T02:31:58.733371",
     "status": "completed"
    },
    "tags": [
     "injected-parameters"
    ]
   },
   "outputs": [],
   "source": [
    "# Parameters\n",
    "M_TIPO = \"mul_m\"\n",
    "M_SELECT = \"RF\"\n",
    "M_CLASIF = \"RF\"\n",
    "P_FICHERO = \"param_0000_1466_mul_m_RF_RF.yaml\"\n",
    "R_FICHERO = \"resultados_1466\"\n",
    "M_FICHERO = \"metricas_1466\"\n",
    "PRE_DATA_FILE = \"rows_transpose_norm_by_gene_id_with_target_num_\"\n",
    "SCORING = \"roc_auc_ovr\"\n",
    "SEMILLA = 1466\n",
    "MAX_ITERS = 500\n",
    "eval_selector = \"SelectFromModel(estimator=RandomForestClassifier(random_state=SEMILLA), threshold=-np.inf)\"\n",
    "eval_clasifier = \"RandomForestClassifier(random_state=SEMILLA)\"\n",
    "param_distributions = {\n",
    "    \"selector__max_features\": [500],\n",
    "    \"selector__estimator__n_estimators\": [200],\n",
    "    \"clasifier__n_estimators\": [400],\n",
    "    \"clasifier__min_samples_split\": [10],\n",
    "    \"clasifier__min_samples_leaf\": [5],\n",
    "    \"clasifier__max_features\": [200],\n",
    "    \"clasifier__max_depth\": [20],\n",
    "    \"clasifier__bootstrap\": [True],\n",
    "}\n"
   ]
  },
  {
   "cell_type": "code",
   "execution_count": 4,
   "id": "af2ffd3e",
   "metadata": {
    "execution": {
     "iopub.execute_input": "2023-10-30T02:31:58.747397Z",
     "iopub.status.busy": "2023-10-30T02:31:58.747209Z",
     "iopub.status.idle": "2023-10-30T02:31:58.750065Z",
     "shell.execute_reply": "2023-10-30T02:31:58.749606Z"
    },
    "papermill": {
     "duration": 0.007237,
     "end_time": "2023-10-30T02:31:58.751283",
     "exception": false,
     "start_time": "2023-10-30T02:31:58.744046",
     "status": "completed"
    },
    "tags": []
   },
   "outputs": [],
   "source": [
    "DATA_FILE = PRE_DATA_FILE + M_TIPO\n",
    "\n",
    "# si viene \"None\" en el parámetro max_depth, se le quitan las comillas para que no sea entendido por el algoritmo como un texto\n",
    "if \"clasifier__max_depth\" in param_distributions:\n",
    "    param_distributions['clasifier__max_depth'] = [None if x == 'None' else x for x in param_distributions['clasifier__max_depth']]"
   ]
  },
  {
   "cell_type": "markdown",
   "id": "9f679f0a",
   "metadata": {
    "papermill": {
     "duration": 0.002754,
     "end_time": "2023-10-30T02:31:58.756899",
     "exception": false,
     "start_time": "2023-10-30T02:31:58.754145",
     "status": "completed"
    },
    "tags": []
   },
   "source": [
    "Asignar los algoritmos que se utilizarán en la función RandomSearchCV"
   ]
  },
  {
   "cell_type": "code",
   "execution_count": 5,
   "id": "e8687cf1",
   "metadata": {
    "execution": {
     "iopub.execute_input": "2023-10-30T02:31:58.763197Z",
     "iopub.status.busy": "2023-10-30T02:31:58.763022Z",
     "iopub.status.idle": "2023-10-30T02:31:58.765768Z",
     "shell.execute_reply": "2023-10-30T02:31:58.765285Z"
    },
    "papermill": {
     "duration": 0.007292,
     "end_time": "2023-10-30T02:31:58.767033",
     "exception": false,
     "start_time": "2023-10-30T02:31:58.759741",
     "status": "completed"
    },
    "tags": []
   },
   "outputs": [],
   "source": [
    "algor_selector=eval(eval_selector)\n",
    "algor_clasifier=eval(eval_clasifier)"
   ]
  },
  {
   "cell_type": "markdown",
   "id": "01302bbc",
   "metadata": {
    "papermill": {
     "duration": 0.003253,
     "end_time": "2023-10-30T02:31:58.773526",
     "exception": false,
     "start_time": "2023-10-30T02:31:58.770273",
     "status": "completed"
    },
    "tags": []
   },
   "source": [
    "#### Comprobar el entorno y leer fichero de muestras"
   ]
  },
  {
   "cell_type": "code",
   "execution_count": 6,
   "id": "01232b96",
   "metadata": {
    "execution": {
     "iopub.execute_input": "2023-10-30T02:31:58.780737Z",
     "iopub.status.busy": "2023-10-30T02:31:58.780553Z",
     "iopub.status.idle": "2023-10-30T02:31:58.938755Z",
     "shell.execute_reply": "2023-10-30T02:31:58.938252Z"
    },
    "papermill": {
     "duration": 0.163351,
     "end_time": "2023-10-30T02:31:58.940104",
     "exception": false,
     "start_time": "2023-10-30T02:31:58.776753",
     "status": "completed"
    },
    "tags": []
   },
   "outputs": [
    {
     "name": "stdout",
     "output_type": "stream",
     "text": [
      "20231030T033158 : amilcar22 : INFO : Encontrada carpeta DATA_DIR=../tfm_git/datos\n",
      "20231030T033158 : amilcar22 : INFO : Encontrada carpeta CFDNA_DIR=../tfm_git/datos/cfDNA_5hmC\n",
      "20231030T033158 : amilcar22 : INFO : Encontrada carpeta GENCODE_DIR=../tfm_git/datos/gencode\n",
      "20231030T033158 : amilcar22 : INFO : Encontrada carpeta H5_DIR=../tfm_git/datos/h5\n",
      "20231030T033158 : amilcar22 : INFO : Encontrada carpeta LOG_DIR=../tfm_git/datos/logs\n",
      "20231030T033158 : amilcar22 : INFO : Encontrada carpeta CSV_DIR=../tfm_git/datos/csv\n",
      "20231030T033158 : amilcar22 : INFO : Encontrada carpeta MODEL_DIR=../tfm_git/ejecuciones/modelos\n",
      "20231030T033158 : amilcar22 : INFO : Encontrada carpeta EXEC_DIR=../tfm_git/ejecuciones\n",
      "20231030T033158 : amilcar22 : INFO : Encontrada carpeta MET_DIR=../tfm_git/ejecuciones/metricas\n",
      "20231030T033158 : amilcar22 : INFO : Inicio leer fichero h5 ../tfm_git/datos/h5/rows_transpose_norm_by_gene_id_with_target_num_mul_m.h5\n",
      "20231030T033158 : amilcar22 : INFO : Leyendo clave /df\n",
      "20231030T033158 : amilcar22 : INFO : Tamaño (434, 18876)\n",
      "20231030T033158 : amilcar22 : INFO : Fin leer fichero h5 ../tfm_git/datos/h5/rows_transpose_norm_by_gene_id_with_target_num_mul_m.h5\n"
     ]
    },
    {
     "data": {
      "text/plain": [
       "target\n",
       "0    62\n",
       "1    62\n",
       "2    62\n",
       "3    62\n",
       "4    62\n",
       "5    62\n",
       "6    62\n",
       "dtype: int64"
      ]
     },
     "metadata": {},
     "output_type": "display_data"
    },
    {
     "name": "stdout",
     "output_type": "stream",
     "text": [
      "Shape df: (434, 18876)\n"
     ]
    },
    {
     "name": "stdout",
     "output_type": "stream",
     "text": [
      "Shape X_train: (347, 18875)\n",
      "Shape X_test: (87, 18875)\n"
     ]
    }
   ],
   "source": [
    "start_time = datetime.datetime.now()\n",
    "\n",
    "myfunc.reset_vars()\n",
    "\n",
    "myfunc.NOTEBK_FILENAME = myfunc.get_nb_name()\n",
    "\n",
    "myfunc.check_enviroment(myfunc.DATA_DIR, myfunc.CFDNA_DIR, myfunc.GENCODE_DIR, myfunc.H5_DIR, myfunc.LOG_DIR, myfunc.CSV_DIR, myfunc.MODEL_DIR, myfunc.EXEC_DIR, myfunc.MET_DIR)\n",
    "\n",
    "# Leer fichero con las muestras\n",
    "df_t = myfunc.read_h5_to_df(DATA_FILE, myfunc.H5_DIR)\n",
    "display(df_t.groupby(\"target\").size())\n",
    "print(\"Shape df:\",df_t.shape)\n",
    "\n",
    "# Separar caracteristicas/genes de las etiquetas/tipos de cáncer\n",
    "X = df_t.iloc[:, :-1]  # Todas las columnas excepto la última\n",
    "y = df_t.iloc[:, -1]  # La última columna contiene los identificadores de los tipos de cáncer\n",
    "\n",
    "#  Crear el conjunto de datos de entrenamiento y de pruebas, y se fija la semilla para siempre coger el mismo juego de muestras\n",
    "X_train, X_test, y_train, y_test = train_test_split(X, y, test_size=0.2, shuffle=True, random_state=42)\n",
    "print(\"Shape X_train:\",X_train.shape)\n",
    "print(\"Shape X_test:\",X_test.shape)\n"
   ]
  },
  {
   "cell_type": "markdown",
   "id": "8ed4af46",
   "metadata": {
    "papermill": {
     "duration": 0.002822,
     "end_time": "2023-10-30T02:31:58.946217",
     "exception": false,
     "start_time": "2023-10-30T02:31:58.943395",
     "status": "completed"
    },
    "tags": []
   },
   "source": [
    "#### Selección de características y clasificación."
   ]
  },
  {
   "cell_type": "code",
   "execution_count": 7,
   "id": "18bb3897",
   "metadata": {
    "execution": {
     "iopub.execute_input": "2023-10-30T02:31:58.952681Z",
     "iopub.status.busy": "2023-10-30T02:31:58.952438Z",
     "iopub.status.idle": "2023-10-30T02:32:24.314106Z",
     "shell.execute_reply": "2023-10-30T02:32:24.313569Z"
    },
    "papermill": {
     "duration": 25.366216,
     "end_time": "2023-10-30T02:32:24.315251",
     "exception": false,
     "start_time": "2023-10-30T02:31:58.949035",
     "status": "completed"
    },
    "tags": []
   },
   "outputs": [
    {
     "name": "stdout",
     "output_type": "stream",
     "text": [
      "20231030T033158 : amilcar22 : INFO : Iniciando entrenamiento\n",
      "num_iter: 1 , max_iter: 1\n",
      "Fitting 5 folds for each of 1 candidates, totalling 5 fits\n"
     ]
    },
    {
     "name": "stdout",
     "output_type": "stream",
     "text": [
      "Mejores Hiperparámetros: {'selector__max_features': 500, 'selector__estimator__n_estimators': 200, 'clasifier__n_estimators': 400, 'clasifier__min_samples_split': 10, 'clasifier__min_samples_leaf': 5, 'clasifier__max_features': 200, 'clasifier__max_depth': 20, 'clasifier__bootstrap': True}\n",
      "Mejor Puntuación: 0.8274\n",
      "20231030T033224 : amilcar22 : INFO : Fin entrenamiento\n"
     ]
    }
   ],
   "source": [
    "myfunc.verbose(\"Iniciando entrenamiento\")\n",
    "\n",
    "kf = KFold(n_splits=5, shuffle=True, random_state=SEMILLA)\n",
    "\n",
    "# Crear el pipeline para el flujo de tareas\n",
    "tasks_pipeline = Pipeline([\n",
    "    ('selector', algor_selector),\n",
    "    ('clasifier', algor_clasifier)\n",
    "])\n",
    "\n",
    "# MAX_ITERS puede limitar el número de iteraciones si son excesivas para las combinaciones de parámetros buscando un óptimo local, \n",
    "# sino funcionaría como GridSearchCV al revisar todas las cominaciones de los parámetros\n",
    "num_iteraciones = 1\n",
    "num_iteraciones = num_iteraciones * np.prod([len(elemento1) for _, elemento1 in param_distributions.items()])\n",
    "max_iteraciones = num_iteraciones if num_iteraciones <= MAX_ITERS else MAX_ITERS\n",
    "print(\"num_iter:\",num_iteraciones,\", max_iter:\",max_iteraciones)\n",
    "\n",
    "random_search = RandomizedSearchCV(\n",
    "    tasks_pipeline, \n",
    "    param_distributions, \n",
    "    n_iter=max_iteraciones,\n",
    "    scoring=SCORING,\n",
    "    cv=kf,\n",
    "    verbose=3, \n",
    "    random_state=SEMILLA, \n",
    "    n_jobs=-1\n",
    "    )\n",
    "\n",
    "# Entrenar el modelo\n",
    "random_search.fit(X_train, y_train)\n",
    "\n",
    "# Ver los mejores hiperparámetros encontrados\n",
    "print(f'Mejores Hiperparámetros: {random_search.best_params_}')\n",
    "print(f'Mejor Puntuación: {random_search.best_score_:.4f}')\n",
    "\n",
    "# Nos quedamos con el mejor modelo para ver las métricas\n",
    "mejor_modelo = random_search.best_estimator_\n",
    "\n",
    "myfunc.verbose(\"Fin entrenamiento\")"
   ]
  },
  {
   "cell_type": "markdown",
   "id": "dfa48359",
   "metadata": {
    "papermill": {
     "duration": 0.002918,
     "end_time": "2023-10-30T02:32:24.321540",
     "exception": false,
     "start_time": "2023-10-30T02:32:24.318622",
     "status": "completed"
    },
    "tags": []
   },
   "source": [
    "#### Guardar modelo"
   ]
  },
  {
   "cell_type": "code",
   "execution_count": 8,
   "id": "f1180dc3",
   "metadata": {
    "execution": {
     "iopub.execute_input": "2023-10-30T02:32:24.328264Z",
     "iopub.status.busy": "2023-10-30T02:32:24.328064Z",
     "iopub.status.idle": "2023-10-30T02:32:24.518829Z",
     "shell.execute_reply": "2023-10-30T02:32:24.518349Z"
    },
    "papermill": {
     "duration": 0.195767,
     "end_time": "2023-10-30T02:32:24.520194",
     "exception": false,
     "start_time": "2023-10-30T02:32:24.324427",
     "status": "completed"
    },
    "tags": []
   },
   "outputs": [
    {
     "name": "stdout",
     "output_type": "stream",
     "text": [
      "20231030T033224 : amilcar22 : INFO : Inicio guardar fichero ../tfm_git/ejecuciones/modelos/modelo_1466_mul_m_RF_RF.pkl\n"
     ]
    },
    {
     "name": "stdout",
     "output_type": "stream",
     "text": [
      "20231030T033224 : amilcar22 : INFO : Fin guardar fichero ../tfm_git/ejecuciones/modelos/modelo_1466_mul_m_RF_RF.pkl\n"
     ]
    }
   ],
   "source": [
    "fichero_modelo = str.replace(\"modelo_\"+str(SEMILLA).zfill(4)+\"_\"+M_TIPO+\"_\"+M_SELECT+\"_\"+M_CLASIF+\".pkl\", \" \", \"_\")\n",
    "\n",
    "myfunc.save_modelo(mejor_modelo, myfunc.MODEL_DIR, fichero_modelo)"
   ]
  },
  {
   "cell_type": "markdown",
   "id": "5d7806f5",
   "metadata": {
    "papermill": {
     "duration": 0.003441,
     "end_time": "2023-10-30T02:32:24.527058",
     "exception": false,
     "start_time": "2023-10-30T02:32:24.523617",
     "status": "completed"
    },
    "tags": []
   },
   "source": [
    "#### Ver resultados del las iteraciones hechas por RandomSearchCV"
   ]
  },
  {
   "cell_type": "code",
   "execution_count": 9,
   "id": "fbf87af3",
   "metadata": {
    "execution": {
     "iopub.execute_input": "2023-10-30T02:32:24.533893Z",
     "iopub.status.busy": "2023-10-30T02:32:24.533686Z",
     "iopub.status.idle": "2023-10-30T02:32:24.539979Z",
     "shell.execute_reply": "2023-10-30T02:32:24.539408Z"
    },
    "papermill": {
     "duration": 0.011009,
     "end_time": "2023-10-30T02:32:24.541052",
     "exception": false,
     "start_time": "2023-10-30T02:32:24.530043",
     "status": "completed"
    },
    "tags": []
   },
   "outputs": [
    {
     "name": "stdout",
     "output_type": "stream",
     "text": [
      "20231030T033224 : amilcar22 : INFO : Inicio ver resultados\n",
      "Mejores Hiperparámetros: {'selector__max_features': 500, 'selector__estimator__n_estimators': 200, 'clasifier__n_estimators': 400, 'clasifier__min_samples_split': 10, 'clasifier__min_samples_leaf': 5, 'clasifier__max_features': 200, 'clasifier__max_depth': 20, 'clasifier__bootstrap': True}\n",
      "Mejores puntuaciones: 0.8274 | Params: {'selector__max_features': 500, 'selector__estimator__n_estimators': 200, 'clasifier__n_estimators': 400, 'clasifier__min_samples_split': 10, 'clasifier__min_samples_leaf': 5, 'clasifier__max_features': 200, 'clasifier__max_depth': 20, 'clasifier__bootstrap': True}\n",
      "Media de las puntuaciones: 0.8274 | Params: {'selector__max_features': 500, 'selector__estimator__n_estimators': 200, 'clasifier__n_estimators': 400, 'clasifier__min_samples_split': 10, 'clasifier__min_samples_leaf': 5, 'clasifier__max_features': 200, 'clasifier__max_depth': 20, 'clasifier__bootstrap': True}\n",
      "20231030T033224 : amilcar22 : INFO : Fin resultados\n"
     ]
    }
   ],
   "source": [
    "myfunc.ver_resultados_search(random_search)"
   ]
  },
  {
   "cell_type": "markdown",
   "id": "e33491e8",
   "metadata": {
    "papermill": {
     "duration": 0.003198,
     "end_time": "2023-10-30T02:32:24.547478",
     "exception": false,
     "start_time": "2023-10-30T02:32:24.544280",
     "status": "completed"
    },
    "tags": []
   },
   "source": [
    "#### Ver métricas del mejor modelo"
   ]
  },
  {
   "cell_type": "code",
   "execution_count": 10,
   "id": "652c434b",
   "metadata": {
    "execution": {
     "iopub.execute_input": "2023-10-30T02:32:24.554744Z",
     "iopub.status.busy": "2023-10-30T02:32:24.554535Z",
     "iopub.status.idle": "2023-10-30T02:32:25.331124Z",
     "shell.execute_reply": "2023-10-30T02:32:25.330685Z"
    },
    "papermill": {
     "duration": 0.781564,
     "end_time": "2023-10-30T02:32:25.332348",
     "exception": false,
     "start_time": "2023-10-30T02:32:24.550784",
     "status": "completed"
    },
    "tags": []
   },
   "outputs": [
    {
     "name": "stdout",
     "output_type": "stream",
     "text": [
      "20231030T033224 : amilcar22 : INFO : Inicio ver métricas multiclase\n"
     ]
    },
    {
     "name": "stderr",
     "output_type": "stream",
     "text": [
      "/home/antonio/miniconda3/lib/python3.10/site-packages/sklearn/metrics/_classification.py:1469: UndefinedMetricWarning: Precision and F-score are ill-defined and being set to 0.0 in labels with no predicted samples. Use `zero_division` parameter to control this behavior.\n",
      "  _warn_prf(average, modifier, msg_start, len(result))\n",
      "/home/antonio/miniconda3/lib/python3.10/site-packages/sklearn/metrics/_classification.py:1469: UndefinedMetricWarning: Precision and F-score are ill-defined and being set to 0.0 in labels with no predicted samples. Use `zero_division` parameter to control this behavior.\n",
      "  _warn_prf(average, modifier, msg_start, len(result))\n",
      "/home/antonio/miniconda3/lib/python3.10/site-packages/sklearn/metrics/_classification.py:1469: UndefinedMetricWarning: Precision and F-score are ill-defined and being set to 0.0 in labels with no predicted samples. Use `zero_division` parameter to control this behavior.\n",
      "  _warn_prf(average, modifier, msg_start, len(result))\n",
      "/home/antonio/miniconda3/lib/python3.10/site-packages/sklearn/metrics/_classification.py:1469: UndefinedMetricWarning: Precision is ill-defined and being set to 0.0 in labels with no predicted samples. Use `zero_division` parameter to control this behavior.\n",
      "  _warn_prf(average, modifier, msg_start, len(result))\n"
     ]
    },
    {
     "name": "stdout",
     "output_type": "stream",
     "text": [
      "              precision    recall  f1-score   support\n",
      "\n",
      "           0       0.00      0.00      0.00        16\n",
      "           1       0.64      0.60      0.62        15\n",
      "           2       0.38      0.45      0.42        11\n",
      "           3       0.33      0.80      0.47         5\n",
      "           4       0.48      0.77      0.59        13\n",
      "           5       0.64      0.78      0.70         9\n",
      "           6       0.62      0.56      0.59        18\n",
      "\n",
      "    accuracy                           0.52        87\n",
      "   macro avg       0.44      0.57      0.48        87\n",
      "weighted avg       0.44      0.52      0.47        87\n",
      "\n",
      "\n",
      "\n",
      "           Exactitud: 0.517241\n",
      "   Precisión (media): 0.442623\n",
      "      Recall (media): 0.565301\n",
      "    F1-score (media): 0.483488\n",
      "\n",
      "\n",
      "AUC para el tipo de cáncer 0-Control.... 0.6496\n",
      "AUC para el tipo de cáncer 1-Bladder.... 0.8750\n",
      "AUC para el tipo de cáncer 2-Breast..... 0.8170\n",
      "AUC para el tipo de cáncer 3-Colorectal. 0.9122\n",
      "AUC para el tipo de cáncer 4-Kidney..... 0.8295\n",
      "AUC para el tipo de cáncer 5-Lung....... 0.9117\n",
      "AUC para el tipo de cáncer 6-Prostate... 0.8591\n",
      "\n",
      "Media de AUC: 0.8363\n"
     ]
    },
    {
     "data": {
      "image/png": "[encoded data removed]",
      "text/plain": [
       "<Figure size 1000x600 with 1 Axes>"
      ]
     },
     "metadata": {},
     "output_type": "display_data"
    },
    {
     "name": "stdout",
     "output_type": "stream",
     "text": [
      "\n",
      "\n"
     ]
    },
    {
     "data": {
      "image/png": "[encoded data removed]",
      "text/plain": [
       "<Figure size 800x400 with 2 Axes>"
      ]
     },
     "metadata": {},
     "output_type": "display_data"
    },
    {
     "name": "stdout",
     "output_type": "stream",
     "text": [
      "\n",
      "\n",
      "Puntuación Jaccard para el cáncer tipo 0-Control.... 0.0000\n",
      "Puntuación Jaccard para el cáncer tipo 1-Bladder.... 0.4500\n",
      "Puntuación Jaccard para el cáncer tipo 2-Breast..... 0.2632\n",
      "Puntuación Jaccard para el cáncer tipo 3-Colorectal. 0.3077\n",
      "Puntuación Jaccard para el cáncer tipo 4-Kidney..... 0.4167\n",
      "Puntuación Jaccard para el cáncer tipo 5-Lung....... 0.5385\n",
      "Puntuación Jaccard para el cáncer tipo 6-Prostate... 0.4167\n",
      "\n",
      "Media de la puntuación de Jaccard: 0.3418\n"
     ]
    }
   ],
   "source": [
    "if M_TIPO.startswith(\"bin\"):\n",
    "    myfunc.ver_metricas(mejor_modelo, X_test, y_test)\n",
    "else:\n",
    "    myfunc.ver_metricas_multi(mejor_modelo, X_test, y_test)\n"
   ]
  },
  {
   "cell_type": "markdown",
   "id": "3c01e9e6",
   "metadata": {
    "papermill": {
     "duration": 0.004216,
     "end_time": "2023-10-30T02:32:25.341264",
     "exception": false,
     "start_time": "2023-10-30T02:32:25.337048",
     "status": "completed"
    },
    "tags": []
   },
   "source": [
    "#### Finalización del notebook"
   ]
  },
  {
   "cell_type": "code",
   "execution_count": 11,
   "id": "d7e50cf6",
   "metadata": {
    "execution": {
     "iopub.execute_input": "2023-10-30T02:32:25.350514Z",
     "iopub.status.busy": "2023-10-30T02:32:25.350310Z",
     "iopub.status.idle": "2023-10-30T02:32:25.353595Z",
     "shell.execute_reply": "2023-10-30T02:32:25.353041Z"
    },
    "papermill": {
     "duration": 0.009112,
     "end_time": "2023-10-30T02:32:25.354664",
     "exception": false,
     "start_time": "2023-10-30T02:32:25.345552",
     "status": "completed"
    },
    "tags": []
   },
   "outputs": [
    {
     "name": "stdout",
     "output_type": "stream",
     "text": [
      "20231030T033225 : amilcar22 : INFO : Notebook ha tardado 26 seconds\n"
     ]
    }
   ],
   "source": [
    "end_time = datetime.datetime.now()\n",
    "total_time = end_time - start_time\n",
    "myfunc.verbose(f\"Notebook ha tardado {total_time.seconds} seconds\")"
   ]
  },
  {
   "cell_type": "markdown",
   "id": "fbacd968",
   "metadata": {
    "papermill": {
     "duration": 0.004196,
     "end_time": "2023-10-30T02:32:25.363113",
     "exception": false,
     "start_time": "2023-10-30T02:32:25.358917",
     "status": "completed"
    },
    "tags": []
   },
   "source": [
    "#### Guardar métricas"
   ]
  },
  {
   "cell_type": "code",
   "execution_count": 12,
   "id": "f283ea37",
   "metadata": {
    "execution": {
     "iopub.execute_input": "2023-10-30T02:32:25.372387Z",
     "iopub.status.busy": "2023-10-30T02:32:25.372193Z",
     "iopub.status.idle": "2023-10-30T02:32:25.901084Z",
     "shell.execute_reply": "2023-10-30T02:32:25.900486Z"
    },
    "papermill": {
     "duration": 0.534796,
     "end_time": "2023-10-30T02:32:25.902203",
     "exception": false,
     "start_time": "2023-10-30T02:32:25.367407",
     "status": "completed"
    },
    "tags": []
   },
   "outputs": [
    {
     "name": "stdout",
     "output_type": "stream",
     "text": [
      "20231030T033225 : amilcar22 : INFO : Inicio guardar métricas multiclase\n",
      "20231030T033225 : amilcar22 : INFO : Inicio leer fichero ../tfm_git/ejecuciones/metricas/metricas_1466.csv\n",
      "20231030T033225 : amilcar22 : INFO : Fin leer fichero ../tfm_git/ejecuciones/metricas/metricas_1466.csv\n"
     ]
    },
    {
     "name": "stdout",
     "output_type": "stream",
     "text": [
      "20231030T033225 : amilcar22 : INFO : Inicio guardar fichero ../tfm_git/ejecuciones/metricas/metricas_1466.csv\n",
      "20231030T033225 : amilcar22 : INFO : Fichero borrado ../tfm_git/ejecuciones/metricas/metricas_1466.csv\n",
      "20231030T033225 : amilcar22 : INFO : Fin guardar fichero ../tfm_git/ejecuciones/metricas/metricas_1466.csv\n",
      "20231030T033225 : amilcar22 : INFO : Fin guardar métricas multiclase\n",
      "20231030T033225 : amilcar22 : INFO : Inicio leer fichero ../tfm_git/ejecuciones/metricas/metricas_1466.csv\n",
      "20231030T033225 : amilcar22 : INFO : Fin leer fichero ../tfm_git/ejecuciones/metricas/metricas_1466.csv\n"
     ]
    },
    {
     "name": "stderr",
     "output_type": "stream",
     "text": [
      "/home/antonio/miniconda3/lib/python3.10/site-packages/sklearn/metrics/_classification.py:1469: UndefinedMetricWarning: Precision is ill-defined and being set to 0.0 in labels with no predicted samples. Use `zero_division` parameter to control this behavior.\n",
      "  _warn_prf(average, modifier, msg_start, len(result))\n"
     ]
    },
    {
     "data": {
      "text/html": [
       "<div>\n",
       "<style scoped>\n",
       "    .dataframe tbody tr th:only-of-type {\n",
       "        vertical-align: middle;\n",
       "    }\n",
       "\n",
       "    .dataframe tbody tr th {\n",
       "        vertical-align: top;\n",
       "    }\n",
       "\n",
       "    .dataframe thead th {\n",
       "        text-align: right;\n",
       "    }\n",
       "</style>\n",
       "<table border=\"1\" class=\"dataframe\">\n",
       "  <thead>\n",
       "    <tr style=\"text-align: right;\">\n",
       "      <th></th>\n",
       "      <th>tipo</th>\n",
       "      <th>select</th>\n",
       "      <th>clasific</th>\n",
       "      <th>semilla</th>\n",
       "      <th>accuracy</th>\n",
       "      <th>precision</th>\n",
       "      <th>recall</th>\n",
       "      <th>f1_score</th>\n",
       "      <th>roc_auc</th>\n",
       "      <th>hostname</th>\n",
       "      <th>total_time_sec</th>\n",
       "      <th>datetime</th>\n",
       "      <th>fichero_modelo</th>\n",
       "      <th>params</th>\n",
       "      <th>shape</th>\n",
       "      <th>features</th>\n",
       "      <th>roc_auc_ovr</th>\n",
       "      <th>indices_auc</th>\n",
       "      <th>indices_jaccard</th>\n",
       "    </tr>\n",
       "  </thead>\n",
       "  <tbody>\n",
       "    <tr>\n",
       "      <th>0</th>\n",
       "      <td>mul_m</td>\n",
       "      <td>RF</td>\n",
       "      <td>RF</td>\n",
       "      <td>1466</td>\n",
       "      <td>0.517241</td>\n",
       "      <td>0.442623</td>\n",
       "      <td>0.565301</td>\n",
       "      <td>0.483488</td>\n",
       "      <td>NaN</td>\n",
       "      <td>amilcar22</td>\n",
       "      <td>26</td>\n",
       "      <td>2023-10-30 03:32:25.871267</td>\n",
       "      <td>modelo_1466_mul_m_RF_RF.pkl</td>\n",
       "      <td>{'selector__max_features': 500, 'selector__est...</td>\n",
       "      <td>X_test:(87, 18875)</td>\n",
       "      <td>['ENSG00000000938.13', 'ENSG00000003137.9', 'E...</td>\n",
       "      <td>0.836304</td>\n",
       "      <td>[0.6496478873239436, 0.875, 0.8169856459330144...</td>\n",
       "      <td>[0.0, 0.45, 0.2631578947368421, 0.307692307692...</td>\n",
       "    </tr>\n",
       "    <tr>\n",
       "      <th>0</th>\n",
       "      <td>mul_m</td>\n",
       "      <td>RF</td>\n",
       "      <td>LR_L2</td>\n",
       "      <td>1466</td>\n",
       "      <td>0.597701</td>\n",
       "      <td>0.611651</td>\n",
       "      <td>0.625282</td>\n",
       "      <td>0.602805</td>\n",
       "      <td>NaN</td>\n",
       "      <td>amilcar22</td>\n",
       "      <td>56</td>\n",
       "      <td>2023-10-30 03:31:52.725569</td>\n",
       "      <td>modelo_1466_mul_m_RF_LR_L2.pkl</td>\n",
       "      <td>{'selector__max_features': 1000, 'selector__es...</td>\n",
       "      <td>X_test:(87, 18875)</td>\n",
       "      <td>['ENSG00000000938.13', 'ENSG00000002933.9', 'E...</td>\n",
       "      <td>0.865892</td>\n",
       "      <td>[0.8265845070422535, 0.8907407407407406, 0.771...</td>\n",
       "      <td>[0.35, 0.5555555555555556, 0.2857142857142857,...</td>\n",
       "    </tr>\n",
       "    <tr>\n",
       "      <th>0</th>\n",
       "      <td>mul_m</td>\n",
       "      <td>RF</td>\n",
       "      <td>LR_L1</td>\n",
       "      <td>1466</td>\n",
       "      <td>0.551724</td>\n",
       "      <td>0.571220</td>\n",
       "      <td>0.582380</td>\n",
       "      <td>0.550140</td>\n",
       "      <td>NaN</td>\n",
       "      <td>amilcar22</td>\n",
       "      <td>2132</td>\n",
       "      <td>2023-10-30 03:30:49.357978</td>\n",
       "      <td>modelo_1466_mul_m_RF_LR_L1.pkl</td>\n",
       "      <td>{'selector__max_features': 1000, 'selector__es...</td>\n",
       "      <td>X_test:(87, 18875)</td>\n",
       "      <td>['ENSG00000000938.13', 'ENSG00000002933.9', 'E...</td>\n",
       "      <td>0.861606</td>\n",
       "      <td>[0.7913732394366197, 0.8888888888888888, 0.778...</td>\n",
       "      <td>[0.35, 0.5555555555555556, 0.2631578947368421,...</td>\n",
       "    </tr>\n",
       "  </tbody>\n",
       "</table>\n",
       "</div>"
      ],
      "text/plain": [
       "    tipo select clasific  semilla  accuracy  precision    recall  f1_score  \\\n",
       "0  mul_m     RF       RF     1466  0.517241   0.442623  0.565301  0.483488   \n",
       "0  mul_m     RF    LR_L2     1466  0.597701   0.611651  0.625282  0.602805   \n",
       "0  mul_m     RF    LR_L1     1466  0.551724   0.571220  0.582380  0.550140   \n",
       "\n",
       "   roc_auc   hostname  total_time_sec                    datetime  \\\n",
       "0      NaN  amilcar22              26  2023-10-30 03:32:25.871267   \n",
       "0      NaN  amilcar22              56  2023-10-30 03:31:52.725569   \n",
       "0      NaN  amilcar22            2132  2023-10-30 03:30:49.357978   \n",
       "\n",
       "                   fichero_modelo  \\\n",
       "0     modelo_1466_mul_m_RF_RF.pkl   \n",
       "0  modelo_1466_mul_m_RF_LR_L2.pkl   \n",
       "0  modelo_1466_mul_m_RF_LR_L1.pkl   \n",
       "\n",
       "                                              params               shape  \\\n",
       "0  {'selector__max_features': 500, 'selector__est...  X_test:(87, 18875)   \n",
       "0  {'selector__max_features': 1000, 'selector__es...  X_test:(87, 18875)   \n",
       "0  {'selector__max_features': 1000, 'selector__es...  X_test:(87, 18875)   \n",
       "\n",
       "                                            features  roc_auc_ovr  \\\n",
       "0  ['ENSG00000000938.13', 'ENSG00000003137.9', 'E...     0.836304   \n",
       "0  ['ENSG00000000938.13', 'ENSG00000002933.9', 'E...     0.865892   \n",
       "0  ['ENSG00000000938.13', 'ENSG00000002933.9', 'E...     0.861606   \n",
       "\n",
       "                                         indices_auc  \\\n",
       "0  [0.6496478873239436, 0.875, 0.8169856459330144...   \n",
       "0  [0.8265845070422535, 0.8907407407407406, 0.771...   \n",
       "0  [0.7913732394366197, 0.8888888888888888, 0.778...   \n",
       "\n",
       "                                     indices_jaccard  \n",
       "0  [0.0, 0.45, 0.2631578947368421, 0.307692307692...  \n",
       "0  [0.35, 0.5555555555555556, 0.2857142857142857,...  \n",
       "0  [0.35, 0.5555555555555556, 0.2631578947368421,...  "
      ]
     },
     "metadata": {},
     "output_type": "display_data"
    }
   ],
   "source": [
    "if M_TIPO.startswith(\"bin\"):\n",
    "    myfunc.save_metricas_to_csv(random_search, X_test, y_test, M_TIPO, M_SELECT, M_CLASIF, total_time, SEMILLA, myfunc.MET_DIR, M_FICHERO, fichero_modelo)\n",
    "else:\n",
    "    myfunc.save_metricas_multi_to_csv(random_search, X_test, y_test, M_TIPO, M_SELECT, M_CLASIF, total_time, SEMILLA, myfunc.MET_DIR, M_FICHERO, fichero_modelo)\n",
    "\n",
    "df1=myfunc.read_metricas_to_df(myfunc.MET_DIR,M_FICHERO)\n",
    "\n",
    "display(df1.sort_values(\"datetime\", ascending=False)[:3])\n"
   ]
  },
  {
   "cell_type": "markdown",
   "id": "c42ef23b",
   "metadata": {
    "papermill": {
     "duration": 0.004553,
     "end_time": "2023-10-30T02:32:25.911640",
     "exception": false,
     "start_time": "2023-10-30T02:32:25.907087",
     "status": "completed"
    },
    "tags": []
   },
   "source": [
    "#### Guardar resultados"
   ]
  },
  {
   "cell_type": "code",
   "execution_count": 13,
   "id": "4acfa6bf",
   "metadata": {
    "execution": {
     "iopub.execute_input": "2023-10-30T02:32:25.921434Z",
     "iopub.status.busy": "2023-10-30T02:32:25.921230Z",
     "iopub.status.idle": "2023-10-30T02:32:25.929701Z",
     "shell.execute_reply": "2023-10-30T02:32:25.929260Z"
    },
    "papermill": {
     "duration": 0.01477,
     "end_time": "2023-10-30T02:32:25.930921",
     "exception": false,
     "start_time": "2023-10-30T02:32:25.916151",
     "status": "completed"
    },
    "tags": []
   },
   "outputs": [
    {
     "name": "stdout",
     "output_type": "stream",
     "text": [
      "20231030T033225 : amilcar22 : INFO : Inicio guardar resultados\n",
      "20231030T033225 : amilcar22 : INFO : Inicio guardar fichero ../tfm_git/ejecuciones/metricas/resultados_1466_mul_m-RF-RF.csv\n",
      "20231030T033225 : amilcar22 : INFO : Fin guardar fichero ../tfm_git/ejecuciones/metricas/resultados_1466_mul_m-RF-RF.csv\n",
      "20231030T033225 : amilcar22 : INFO : Fin guardar resultados\n"
     ]
    }
   ],
   "source": [
    "fichero_resultados=R_FICHERO+\"_\"+M_TIPO+\"-\"+M_SELECT+\"-\"+M_CLASIF+\".csv\"\n",
    "myfunc.save_resultados_to_csv(M_TIPO, M_SELECT, M_CLASIF,  random_search, myfunc.MET_DIR, fichero_resultados)\n"
   ]
  }
 ],
 "metadata": {
  "kernelspec": {
   "display_name": "Python 3 (ipykernel)",
   "language": "python",
   "name": "python3"
  },
  "language_info": {
   "codemirror_mode": {
    "name": "ipython",
    "version": 3
   },
   "file_extension": ".py",
   "mimetype": "text/x-python",
   "name": "python",
   "nbconvert_exporter": "python",
   "pygments_lexer": "ipython3",
   "version": "3.10.12"
  },
  "papermill": {
   "default_parameters": {},
   "duration": 31.625054,
   "end_time": "2023-10-30T02:32:28.552627",
   "environment_variables": {},
   "exception": null,
   "input_path": "03_entrenamiento.ipynb",
   "output_path": "ejecuciones/training/03_entrenamiento.20231030T033156.param_0000_1466_mul_m_RF_RF.output.ipynb",
   "parameters": {
    "MAX_ITERS": 500,
    "M_CLASIF": "RF",
    "M_FICHERO": "metricas_1466",
    "M_SELECT": "RF",
    "M_TIPO": "mul_m",
    "PRE_DATA_FILE": "rows_transpose_norm_by_gene_id_with_target_num_",
    "P_FICHERO": "param_0000_1466_mul_m_RF_RF.yaml",
    "R_FICHERO": "resultados_1466",
    "SCORING": "roc_auc_ovr",
    "SEMILLA": 1466,
    "eval_clasifier": "RandomForestClassifier(random_state=SEMILLA)",
    "eval_selector": "SelectFromModel(estimator=RandomForestClassifier(random_state=SEMILLA), threshold=-np.inf)",
    "param_distributions": {
     "clasifier__bootstrap": [
      true
     ],
     "clasifier__max_depth": [
      20
     ],
     "clasifier__max_features": [
      200
     ],
     "clasifier__min_samples_leaf": [
      5
     ],
     "clasifier__min_samples_split": [
      10
     ],
     "clasifier__n_estimators": [
      400
     ],
     "selector__estimator__n_estimators": [
      200
     ],
     "selector__max_features": [
      500
     ]
    }
   },
   "start_time": "2023-10-30T02:31:56.927573",
   "version": "2.4.0"
  }
 },
 "nbformat": 4,
 "nbformat_minor": 5
}