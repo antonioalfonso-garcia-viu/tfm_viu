{
 "cells": [
  {
   "cell_type": "markdown",
   "id": "7252e973",
   "metadata": {
    "papermill": {
     "duration": 0.00351,
     "end_time": "2023-10-30T18:48:01.031833",
     "exception": false,
     "start_time": "2023-10-30T18:48:01.028323",
     "status": "completed"
    },
    "tags": []
   },
   "source": [
    "##### Inicio"
   ]
  },
  {
   "cell_type": "markdown",
   "id": "bf89eb01",
   "metadata": {
    "papermill": {
     "duration": 0.002181,
     "end_time": "2023-10-30T18:48:01.038018",
     "exception": false,
     "start_time": "2023-10-30T18:48:01.035837",
     "status": "completed"
    },
    "tags": []
   },
   "source": [
    "#### Carga de datos"
   ]
  },
  {
   "cell_type": "code",
   "execution_count": 1,
   "id": "0793af7e",
   "metadata": {
    "execution": {
     "iopub.execute_input": "2023-10-30T18:48:01.045071Z",
     "iopub.status.busy": "2023-10-30T18:48:01.045071Z",
     "iopub.status.idle": "2023-10-30T18:48:02.280258Z",
     "shell.execute_reply": "2023-10-30T18:48:02.280258Z"
    },
    "papermill": {
     "duration": 1.241185,
     "end_time": "2023-10-30T18:48:02.282255",
     "exception": false,
     "start_time": "2023-10-30T18:48:01.041070",
     "status": "completed"
    },
    "tags": []
   },
   "outputs": [
    {
     "name": "stdout",
     "output_type": "stream",
     "text": [
      "CPU_COUNT: 24; NODE: amilcar32; sys.version: 3.10.12 | packaged by Anaconda, Inc. | (main, Jul  5 2023, 19:09:20) [MSC v.1916 64 bit (AMD64)]\n",
      "LOKY_MAX_CPU_COUNT is not set.\n",
      "OMP_NUM_THREADS is not set.\n"
     ]
    }
   ],
   "source": [
    "import os\n",
    "import numpy as np\n",
    "import pandas as pd\n",
    "import datetime\n",
    "import sklearn\n",
    "import logging\n",
    "import warnings\n",
    "\n",
    "from sklearn.pipeline import Pipeline\n",
    "from sklearn.model_selection import RandomizedSearchCV, KFold, cross_val_score, train_test_split\n",
    "from sklearn.metrics import accuracy_score, confusion_matrix, classification_report, roc_auc_score\n",
    "\n",
    "#  cargar algoritmos para aprendizaje supervisado\n",
    "from sklearn.feature_selection import SelectKBest, f_classif, SelectFromModel, mutual_info_classif\n",
    "from sklearn.svm import SVC\n",
    "from sklearn.ensemble import RandomForestClassifier\n",
    "from sklearn.linear_model import LogisticRegression,LogisticRegressionCV\n",
    "\n",
    "# importar fichero con utilidades propias\n",
    "from commons import myfunctions as myfunc\n"
   ]
  },
  {
   "cell_type": "markdown",
   "id": "ed804ef3",
   "metadata": {
    "papermill": {
     "duration": 0.003001,
     "end_time": "2023-10-30T18:48:02.288253",
     "exception": false,
     "start_time": "2023-10-30T18:48:02.285252",
     "status": "completed"
    },
    "tags": []
   },
   "source": [
    "#### Parámetros a utilizar en el entrenamiento.\n",
    "\n",
    "Se indican los 3 algoritmos de *selección de características* (eval_selector_xxx) y los 3 algoritmos para la _clasificación_ (eval_clasifier_xxx)\n",
    "\n",
    "En *param_distributions* se indicar los parámetros que utilizan los algoritmos en la función RandomSearchCV.\n",
    "\n",
    "Esta celda tiene la etiqueta **parameters** que servirá para poder lanzar los entrenamientos con la utilidad **papermill** pasándole un fichero con los parámetros. Los nuevos parámetros se situarán tras esta celda para tener prevalencia."
   ]
  },
  {
   "cell_type": "code",
   "execution_count": 2,
   "id": "54395826",
   "metadata": {
    "execution": {
     "iopub.execute_input": "2023-10-30T18:48:02.294769Z",
     "iopub.status.busy": "2023-10-30T18:48:02.293767Z",
     "iopub.status.idle": "2023-10-30T18:48:02.311550Z",
     "shell.execute_reply": "2023-10-30T18:48:02.311043Z"
    },
    "papermill": {
     "duration": 0.021795,
     "end_time": "2023-10-30T18:48:02.312559",
     "exception": false,
     "start_time": "2023-10-30T18:48:02.290764",
     "status": "completed"
    },
    "tags": [
     "parameters"
    ]
   },
   "outputs": [
    {
     "name": "stdout",
     "output_type": "stream",
     "text": [
      "20231030T194802 : amilcar32 : INFO : Utilizando parámetros de mul_m\n"
     ]
    }
   ],
   "source": [
    "#  Parametros para el entrenamiento\n",
    "\n",
    "SEMILLA=        42\n",
    "M_TIPO=         \"mul_m\"\n",
    "M_SELECT=       \"MI\"\n",
    "M_CLASIF=       \"SVM\"\n",
    "R_FICHERO=      \"resultados\"\n",
    "M_FICHERO=      \"metricas\"\n",
    "PRE_DATA_FILE=  \"rows_transpose_norm_by_gene_id_with_target_num_\"\n",
    "SCORING=        \"roc_auc_ovr\" \n",
    "MAX_ITERS=      100\n",
    "\n",
    "def mutual_info_classif_state(X, y):\n",
    "    return mutual_info_classif(X, y, random_state=SEMILLA)\n",
    "\n",
    "eval_selector_mi = \"SelectKBest(score_func=mutual_info_classif_state)\"\n",
    "eval_selector_rf=  \"SelectFromModel(estimator=RandomForestClassifier(random_state=SEMILLA), threshold=-np.inf)\"\n",
    "eval_selector_anova=  \"SelectKBest(score_func=f_classif)\"\n",
    "\n",
    "eval_clasifier_svm= \"SVC(probability=True, random_state=SEMILLA)\"\n",
    "eval_clasifier_rf= \"RandomForestClassifier(random_state=SEMILLA)\"\n",
    "eval_clasifier_lr= \"LogisticRegressionCV(random_state=SEMILLA)\"\n",
    "\n",
    "if M_TIPO.startswith(\"bin_m\"):\n",
    "    myfunc.verbose(f\"Utilizando parámetros de {M_TIPO}\")\n",
    "    eval_selector = eval_selector_mi\n",
    "    eval_clasifier = eval_clasifier_svm\n",
    "\n",
    "    SEMILLA = 6578\n",
    "    M_SELECT = \"MI\"\n",
    "    M_CLASIF = \"SVM\"\n",
    "    param_distributions = {'selector__k': [1000], \n",
    "         'clasifier__kernel': ['rbf'], 'clasifier__gamma': [0.01], 'clasifier__C': [100]}\n",
    "elif M_TIPO.startswith(\"bin_s\"):\n",
    "    myfunc.verbose(f\"Utilizando parámetros de {M_TIPO}\")\n",
    "    eval_selector = eval_selector_rf\n",
    "    eval_clasifier = eval_clasifier_lr\n",
    "\n",
    "    SEMILLA = 6191\n",
    "    M_SELECT = \"RF\"\n",
    "    M_CLASIF = \"LR_L2\"\n",
    "    param_distributions = {'selector__max_features': [1000], 'selector__estimator__n_estimators': [200], \n",
    "        'clasifier__solver': ['lbfgs'], 'clasifier__penalty': ['l2'], 'clasifier__max_iter': [10000]}\n",
    "\n",
    "elif M_TIPO.startswith(\"mul_m\"):\n",
    "    myfunc.verbose(f\"Utilizando parámetros de {M_TIPO}\")\n",
    " \n",
    "    eval_selector = eval_selector_rf\n",
    "    eval_clasifier = eval_clasifier_lr\n",
    "\n",
    "    SEMILLA = 6191\n",
    "    M_SELECT = \"RF\"\n",
    "    M_CLASIF = \"LR_L2\"\n",
    "    param_distributions = {'selector__max_features': [1000], 'selector__estimator__n_estimators': [400], \n",
    "        'clasifier__solver': ['lbfgs'], 'clasifier__penalty': ['l2'], 'clasifier__max_iter': [10000]}\n",
    "\n",
    "else:\n",
    "    # M_TIPO.startswith(\"mul_s\"):\n",
    "    myfunc.verbose(f\"Utilizando parámetros de {M_TIPO}\")\n",
    "    eval_selector = eval_selector_anova\n",
    "    eval_clasifier = eval_clasifier_lr\n",
    "\n",
    "    SEMILLA = 1860\n",
    "    M_SELECT = \"ANOVA\"\n",
    "    M_CLASIF = \"LR_L2\"\n",
    "    param_distributions = {'selector__k': [1000], \n",
    "        'clasifier__solver': ['saga'], 'clasifier__penalty': ['l2'], 'clasifier__max_iter': [10000]}\n",
    "\n"
   ]
  },
  {
   "cell_type": "code",
   "execution_count": 3,
   "id": "bef4d48f",
   "metadata": {
    "execution": {
     "iopub.execute_input": "2023-10-30T18:48:02.319109Z",
     "iopub.status.busy": "2023-10-30T18:48:02.319109Z",
     "iopub.status.idle": "2023-10-30T18:48:02.328356Z",
     "shell.execute_reply": "2023-10-30T18:48:02.328204Z"
    },
    "papermill": {
     "duration": 0.017307,
     "end_time": "2023-10-30T18:48:02.329866",
     "exception": false,
     "start_time": "2023-10-30T18:48:02.312559",
     "status": "completed"
    },
    "tags": [
     "injected-parameters"
    ]
   },
   "outputs": [],
   "source": [
    "# Parameters\n",
    "M_TIPO = \"mul_s\"\n",
    "M_SELECT = \"MI\"\n",
    "M_CLASIF = \"SVM\"\n",
    "P_FICHERO = \"param_0000_6578_mul_s_MI_SVM.yaml\"\n",
    "R_FICHERO = \"resultados_6578\"\n",
    "M_FICHERO = \"metricas_6578\"\n",
    "PRE_DATA_FILE = \"rows_transpose_norm_by_gene_id_with_target_num_\"\n",
    "SCORING = \"roc_auc_ovr\"\n",
    "SEMILLA = 6578\n",
    "MAX_ITERS = 500\n",
    "eval_selector = \"SelectKBest(score_func=mutual_info_classif_state)\"\n",
    "eval_clasifier = \"SVC(probability=True, random_state=SEMILLA)\"\n",
    "param_distributions = {\n",
    "    \"selector__k\": [1000],\n",
    "    \"clasifier__kernel\": [\"rbf\"],\n",
    "    \"clasifier__gamma\": [0.001],\n",
    "    \"clasifier__C\": [100],\n",
    "}\n"
   ]
  },
  {
   "cell_type": "code",
   "execution_count": 4,
   "id": "8ac0746a",
   "metadata": {
    "execution": {
     "iopub.execute_input": "2023-10-30T18:48:02.336866Z",
     "iopub.status.busy": "2023-10-30T18:48:02.335873Z",
     "iopub.status.idle": "2023-10-30T18:48:02.343887Z",
     "shell.execute_reply": "2023-10-30T18:48:02.343887Z"
    },
    "papermill": {
     "duration": 0.013019,
     "end_time": "2023-10-30T18:48:02.345893",
     "exception": false,
     "start_time": "2023-10-30T18:48:02.332874",
     "status": "completed"
    },
    "tags": []
   },
   "outputs": [],
   "source": [
    "DATA_FILE = PRE_DATA_FILE + M_TIPO\n",
    "\n",
    "# si viene \"None\" en el parámetro max_depth, se le quitan las comillas para que no sea entendido por el algoritmo como un texto\n",
    "if \"clasifier__max_depth\" in param_distributions:\n",
    "    param_distributions['clasifier__max_depth'] = [None if x == 'None' else x for x in param_distributions['clasifier__max_depth']]"
   ]
  },
  {
   "cell_type": "markdown",
   "id": "76871a83",
   "metadata": {
    "papermill": {
     "duration": 0.004526,
     "end_time": "2023-10-30T18:48:02.353984",
     "exception": false,
     "start_time": "2023-10-30T18:48:02.349458",
     "status": "completed"
    },
    "tags": []
   },
   "source": [
    "Asignar los algoritmos que se utilizarán en la función RandomSearchCV"
   ]
  },
  {
   "cell_type": "code",
   "execution_count": 5,
   "id": "409e85dc",
   "metadata": {
    "execution": {
     "iopub.execute_input": "2023-10-30T18:48:02.360882Z",
     "iopub.status.busy": "2023-10-30T18:48:02.360882Z",
     "iopub.status.idle": "2023-10-30T18:48:02.376471Z",
     "shell.execute_reply": "2023-10-30T18:48:02.375474Z"
    },
    "papermill": {
     "duration": 0.023487,
     "end_time": "2023-10-30T18:48:02.377471",
     "exception": false,
     "start_time": "2023-10-30T18:48:02.353984",
     "status": "completed"
    },
    "tags": []
   },
   "outputs": [],
   "source": [
    "algor_selector=eval(eval_selector)\n",
    "algor_clasifier=eval(eval_clasifier)"
   ]
  },
  {
   "cell_type": "markdown",
   "id": "a15ac819",
   "metadata": {
    "papermill": {
     "duration": 0.005092,
     "end_time": "2023-10-30T18:48:02.389076",
     "exception": false,
     "start_time": "2023-10-30T18:48:02.383984",
     "status": "completed"
    },
    "tags": []
   },
   "source": [
    "#### Comprobar el entorno y leer fichero de muestras"
   ]
  },
  {
   "cell_type": "code",
   "execution_count": 6,
   "id": "970f71f7",
   "metadata": {
    "execution": {
     "iopub.execute_input": "2023-10-30T18:48:02.389076Z",
     "iopub.status.busy": "2023-10-30T18:48:02.389076Z",
     "iopub.status.idle": "2023-10-30T18:48:02.545292Z",
     "shell.execute_reply": "2023-10-30T18:48:02.545292Z"
    },
    "papermill": {
     "duration": 0.158225,
     "end_time": "2023-10-30T18:48:02.547301",
     "exception": false,
     "start_time": "2023-10-30T18:48:02.389076",
     "status": "completed"
    },
    "tags": []
   },
   "outputs": [
    {
     "name": "stdout",
     "output_type": "stream",
     "text": [
      "20231030T194802 : amilcar32 : INFO : Encontrada carpeta DATA_DIR=..\\tfm_viu\\datos\n",
      "20231030T194802 : amilcar32 : INFO : Encontrada carpeta CFDNA_DIR=..\\tfm_viu\\datos\\cfDNA_5hmC\n",
      "20231030T194802 : amilcar32 : INFO : Encontrada carpeta GENCODE_DIR=..\\tfm_viu\\datos\\gencode\n",
      "20231030T194802 : amilcar32 : INFO : Encontrada carpeta H5_DIR=..\\tfm_viu\\datos\\h5\n",
      "20231030T194802 : amilcar32 : INFO : Encontrada carpeta LOG_DIR=..\\tfm_viu\\datos\\logs\n",
      "20231030T194802 : amilcar32 : INFO : Encontrada carpeta CSV_DIR=..\\tfm_viu\\datos\\csv\n",
      "20231030T194802 : amilcar32 : INFO : Encontrada carpeta MODEL_DIR=..\\tfm_viu\\ejecuciones\\modelos\n",
      "20231030T194802 : amilcar32 : INFO : Encontrada carpeta EXEC_DIR=..\\tfm_viu\\ejecuciones\n",
      "20231030T194802 : amilcar32 : INFO : Encontrada carpeta MET_DIR=..\\tfm_viu\\ejecuciones\\metricas\n",
      "20231030T194802 : amilcar32 : INFO : Inicio leer fichero h5 ..\\tfm_viu\\datos\\h5\\rows_transpose_norm_by_gene_id_with_target_num_mul_s.h5\n",
      "20231030T194802 : amilcar32 : INFO : Leyendo clave /df\n"
     ]
    },
    {
     "name": "stdout",
     "output_type": "stream",
     "text": [
      "20231030T194802 : amilcar32 : INFO : Tamaño (259, 18876)\n",
      "20231030T194802 : amilcar32 : INFO : Fin leer fichero h5 ..\\tfm_viu\\datos\\h5\\rows_transpose_norm_by_gene_id_with_target_num_mul_s.h5\n"
     ]
    },
    {
     "data": {
      "text/plain": [
       "target\n",
       "0    37\n",
       "1    37\n",
       "2    37\n",
       "3    37\n",
       "4    37\n",
       "5    37\n",
       "6    37\n",
       "dtype: int64"
      ]
     },
     "metadata": {},
     "output_type": "display_data"
    },
    {
     "name": "stdout",
     "output_type": "stream",
     "text": [
      "Shape df: (259, 18876)\n",
      "Shape X_train: (207, 18875)\n",
      "Shape X_test: (52, 18875)\n"
     ]
    }
   ],
   "source": [
    "start_time = datetime.datetime.now()\n",
    "\n",
    "myfunc.reset_vars()\n",
    "\n",
    "myfunc.NOTEBK_FILENAME = myfunc.get_nb_name()\n",
    "\n",
    "myfunc.check_enviroment(myfunc.DATA_DIR, myfunc.CFDNA_DIR, myfunc.GENCODE_DIR, myfunc.H5_DIR, myfunc.LOG_DIR, myfunc.CSV_DIR, myfunc.MODEL_DIR, myfunc.EXEC_DIR, myfunc.MET_DIR)\n",
    "\n",
    "# Leer fichero con las muestras\n",
    "df_t = myfunc.read_h5_to_df(DATA_FILE, myfunc.H5_DIR)\n",
    "display(df_t.groupby(\"target\").size())\n",
    "print(\"Shape df:\",df_t.shape)\n",
    "\n",
    "# Separar caracteristicas/genes de las etiquetas/tipos de cáncer\n",
    "X = df_t.iloc[:, :-1]  # Todas las columnas excepto la última\n",
    "y = df_t.iloc[:, -1]  # La última columna contiene los identificadores de los tipos de cáncer\n",
    "\n",
    "#  Crear el conjunto de datos de entrenamiento y de pruebas, y se fija la semilla para siempre coger el mismo juego de muestras\n",
    "X_train, X_test, y_train, y_test = train_test_split(X, y, test_size=0.2, shuffle=True, random_state=42)\n",
    "print(\"Shape X_train:\",X_train.shape)\n",
    "print(\"Shape X_test:\",X_test.shape)\n"
   ]
  },
  {
   "cell_type": "markdown",
   "id": "e5613150",
   "metadata": {
    "papermill": {
     "duration": 0.002996,
     "end_time": "2023-10-30T18:48:02.553817",
     "exception": false,
     "start_time": "2023-10-30T18:48:02.550821",
     "status": "completed"
    },
    "tags": []
   },
   "source": [
    "#### Selección de características y clasificación."
   ]
  },
  {
   "cell_type": "code",
   "execution_count": 7,
   "id": "f4352b9c",
   "metadata": {
    "execution": {
     "iopub.execute_input": "2023-10-30T18:48:02.561330Z",
     "iopub.status.busy": "2023-10-30T18:48:02.561330Z",
     "iopub.status.idle": "2023-10-30T18:53:24.485288Z",
     "shell.execute_reply": "2023-10-30T18:53:24.482715Z"
    },
    "papermill": {
     "duration": 321.94351,
     "end_time": "2023-10-30T18:53:24.500327",
     "exception": false,
     "start_time": "2023-10-30T18:48:02.556817",
     "status": "completed"
    },
    "tags": []
   },
   "outputs": [
    {
     "name": "stdout",
     "output_type": "stream",
     "text": [
      "20231030T194802 : amilcar32 : INFO : Iniciando entrenamiento\n",
      "num_iter: 1 , max_iter: 1\n",
      "Fitting 5 folds for each of 1 candidates, totalling 5 fits\n"
     ]
    },
    {
     "name": "stdout",
     "output_type": "stream",
     "text": [
      "Mejores Hiperparámetros: {'selector__k': 1000, 'clasifier__kernel': 'rbf', 'clasifier__gamma': 0.001, 'clasifier__C': 100}\n",
      "Mejor Puntuación: 0.7573\n",
      "20231030T195324 : amilcar32 : INFO : Fin entrenamiento\n"
     ]
    }
   ],
   "source": [
    "myfunc.verbose(\"Iniciando entrenamiento\")\n",
    "\n",
    "kf = KFold(n_splits=5, shuffle=True, random_state=SEMILLA)\n",
    "\n",
    "# Crear el pipeline para el flujo de tareas\n",
    "tasks_pipeline = Pipeline([\n",
    "    ('selector', algor_selector),\n",
    "    ('clasifier', algor_clasifier)\n",
    "])\n",
    "\n",
    "# MAX_ITERS puede limitar el número de iteraciones si son excesivas para las combinaciones de parámetros buscando un óptimo local, \n",
    "# sino funcionaría como GridSearchCV al revisar todas las cominaciones de los parámetros\n",
    "num_iteraciones = 1\n",
    "num_iteraciones = num_iteraciones * np.prod([len(elemento1) for _, elemento1 in param_distributions.items()])\n",
    "max_iteraciones = num_iteraciones if num_iteraciones <= MAX_ITERS else MAX_ITERS\n",
    "print(\"num_iter:\",num_iteraciones,\", max_iter:\",max_iteraciones)\n",
    "\n",
    "random_search = RandomizedSearchCV(\n",
    "    tasks_pipeline, \n",
    "    param_distributions, \n",
    "    n_iter=max_iteraciones,\n",
    "    scoring=SCORING,\n",
    "    cv=kf,\n",
    "    verbose=3, \n",
    "    random_state=SEMILLA, \n",
    "    n_jobs=-1\n",
    "    )\n",
    "\n",
    "# Entrenar el modelo\n",
    "random_search.fit(X_train, y_train)\n",
    "\n",
    "# Ver los mejores hiperparámetros encontrados\n",
    "print(f'Mejores Hiperparámetros: {random_search.best_params_}')\n",
    "print(f'Mejor Puntuación: {random_search.best_score_:.4f}')\n",
    "\n",
    "# Nos quedamos con el mejor modelo para ver las métricas\n",
    "mejor_modelo = random_search.best_estimator_\n",
    "\n",
    "myfunc.verbose(\"Fin entrenamiento\")"
   ]
  },
  {
   "cell_type": "markdown",
   "id": "825582a1",
   "metadata": {
    "papermill": {
     "duration": 0.013422,
     "end_time": "2023-10-30T18:53:24.527318",
     "exception": false,
     "start_time": "2023-10-30T18:53:24.513896",
     "status": "completed"
    },
    "tags": []
   },
   "source": [
    "#### Guardar modelo"
   ]
  },
  {
   "cell_type": "code",
   "execution_count": 8,
   "id": "9b518097",
   "metadata": {
    "execution": {
     "iopub.execute_input": "2023-10-30T18:53:24.559713Z",
     "iopub.status.busy": "2023-10-30T18:53:24.559713Z",
     "iopub.status.idle": "2023-10-30T18:53:24.594170Z",
     "shell.execute_reply": "2023-10-30T18:53:24.593495Z"
    },
    "papermill": {
     "duration": 0.056456,
     "end_time": "2023-10-30T18:53:24.599241",
     "exception": false,
     "start_time": "2023-10-30T18:53:24.542785",
     "status": "completed"
    },
    "tags": []
   },
   "outputs": [
    {
     "name": "stdout",
     "output_type": "stream",
     "text": [
      "20231030T195324 : amilcar32 : INFO : Inicio guardar fichero ..\\tfm_viu\\ejecuciones\\modelos\\modelo_6578_mul_s_MI_SVM.pkl\n",
      "20231030T195324 : amilcar32 : INFO : Fin guardar fichero ..\\tfm_viu\\ejecuciones\\modelos\\modelo_6578_mul_s_MI_SVM.pkl\n"
     ]
    }
   ],
   "source": [
    "fichero_modelo = str.replace(\"modelo_\"+str(SEMILLA).zfill(4)+\"_\"+M_TIPO+\"_\"+M_SELECT+\"_\"+M_CLASIF+\".pkl\", \" \", \"_\")\n",
    "\n",
    "myfunc.save_modelo(mejor_modelo, myfunc.MODEL_DIR, fichero_modelo)"
   ]
  },
  {
   "cell_type": "markdown",
   "id": "287793ca",
   "metadata": {
    "papermill": {
     "duration": 0.015529,
     "end_time": "2023-10-30T18:53:24.624673",
     "exception": false,
     "start_time": "2023-10-30T18:53:24.609144",
     "status": "completed"
    },
    "tags": []
   },
   "source": [
    "#### Ver resultados del las iteraciones hechas por RandomSearchCV"
   ]
  },
  {
   "cell_type": "code",
   "execution_count": 9,
   "id": "a01fe657",
   "metadata": {
    "execution": {
     "iopub.execute_input": "2023-10-30T18:53:24.654205Z",
     "iopub.status.busy": "2023-10-30T18:53:24.654205Z",
     "iopub.status.idle": "2023-10-30T18:53:24.674223Z",
     "shell.execute_reply": "2023-10-30T18:53:24.672534Z"
    },
    "papermill": {
     "duration": 0.033382,
     "end_time": "2023-10-30T18:53:24.674223",
     "exception": false,
     "start_time": "2023-10-30T18:53:24.640841",
     "status": "completed"
    },
    "tags": []
   },
   "outputs": [
    {
     "name": "stdout",
     "output_type": "stream",
     "text": [
      "20231030T195324 : amilcar32 : INFO : Inicio ver resultados\n",
      "Mejores Hiperparámetros: {'selector__k': 1000, 'clasifier__kernel': 'rbf', 'clasifier__gamma': 0.001, 'clasifier__C': 100}\n",
      "Mejores puntuaciones: 0.7573 | Params: {'selector__k': 1000, 'clasifier__kernel': 'rbf', 'clasifier__gamma': 0.001, 'clasifier__C': 100}\n",
      "Media de las puntuaciones: 0.7573 | Params: {'selector__k': 1000, 'clasifier__kernel': 'rbf', 'clasifier__gamma': 0.001, 'clasifier__C': 100}\n",
      "20231030T195324 : amilcar32 : INFO : Fin resultados\n"
     ]
    }
   ],
   "source": [
    "myfunc.ver_resultados_search(random_search)"
   ]
  },
  {
   "cell_type": "markdown",
   "id": "9edd7063",
   "metadata": {
    "papermill": {
     "duration": 0.014494,
     "end_time": "2023-10-30T18:53:24.704131",
     "exception": false,
     "start_time": "2023-10-30T18:53:24.689637",
     "status": "completed"
    },
    "tags": []
   },
   "source": [
    "#### Ver métricas del mejor modelo"
   ]
  },
  {
   "cell_type": "code",
   "execution_count": 10,
   "id": "881b6221",
   "metadata": {
    "execution": {
     "iopub.execute_input": "2023-10-30T18:53:24.729368Z",
     "iopub.status.busy": "2023-10-30T18:53:24.729368Z",
     "iopub.status.idle": "2023-10-30T18:53:26.399323Z",
     "shell.execute_reply": "2023-10-30T18:53:26.397143Z"
    },
    "papermill": {
     "duration": 1.684894,
     "end_time": "2023-10-30T18:53:26.399323",
     "exception": false,
     "start_time": "2023-10-30T18:53:24.714429",
     "status": "completed"
    },
    "tags": []
   },
   "outputs": [
    {
     "name": "stdout",
     "output_type": "stream",
     "text": [
      "20231030T195324 : amilcar32 : INFO : Inicio ver métricas multiclase\n"
     ]
    },
    {
     "name": "stdout",
     "output_type": "stream",
     "text": [
      "              precision    recall  f1-score   support\n",
      "\n",
      "           0       0.33      0.27      0.30        11\n",
      "           1       0.67      0.50      0.57         8\n",
      "           2       0.17      0.12      0.14         8\n",
      "           3       0.22      0.40      0.29         5\n",
      "           4       0.80      1.00      0.89         8\n",
      "           5       0.60      0.50      0.55         6\n",
      "           6       0.29      0.33      0.31         6\n",
      "\n",
      "    accuracy                           0.44        52\n",
      "   macro avg       0.44      0.45      0.43        52\n",
      "weighted avg       0.45      0.44      0.44        52\n",
      "\n",
      "\n",
      "\n",
      "           Exactitud: 0.442308\n",
      "   Precisión (media): 0.439229\n",
      "      Recall (media): 0.447294\n",
      "    F1-score (media): 0.434577\n",
      "\n",
      "\n",
      "AUC para el tipo de cáncer 0-Control.... 0.5388\n",
      "AUC para el tipo de cáncer 1-Bladder.... 0.8580\n",
      "AUC para el tipo de cáncer 2-Breast..... 0.6989\n",
      "AUC para el tipo de cáncer 3-Colorectal. 0.8043\n",
      "AUC para el tipo de cáncer 4-Kidney..... 0.9886\n",
      "AUC para el tipo de cáncer 5-Lung....... 0.7862\n",
      "AUC para el tipo de cáncer 6-Prostate... 0.8007\n",
      "\n",
      "Media de AUC: 0.7822\n"
     ]
    },
    {
     "data": {
      "image/png": "[encoded data removed]",
      "text/plain": [
       "<Figure size 1000x600 with 1 Axes>"
      ]
     },
     "metadata": {},
     "output_type": "display_data"
    },
    {
     "name": "stdout",
     "output_type": "stream",
     "text": [
      "\n",
      "\n"
     ]
    },
    {
     "data": {
      "image/png": "[encoded data removed]",
      "text/plain": [
       "<Figure size 800x400 with 2 Axes>"
      ]
     },
     "metadata": {},
     "output_type": "display_data"
    },
    {
     "name": "stdout",
     "output_type": "stream",
     "text": [
      "\n",
      "\n",
      "Puntuación Jaccard para el cáncer tipo 0-Control.... 0.1765\n",
      "Puntuación Jaccard para el cáncer tipo 1-Bladder.... 0.4000\n",
      "Puntuación Jaccard para el cáncer tipo 2-Breast..... 0.0769\n",
      "Puntuación Jaccard para el cáncer tipo 3-Colorectal. 0.1667\n",
      "Puntuación Jaccard para el cáncer tipo 4-Kidney..... 0.8000\n",
      "Puntuación Jaccard para el cáncer tipo 5-Lung....... 0.3750\n",
      "Puntuación Jaccard para el cáncer tipo 6-Prostate... 0.1818\n",
      "\n",
      "Media de la puntuación de Jaccard: 0.3110\n"
     ]
    }
   ],
   "source": [
    "if M_TIPO.startswith(\"bin\"):\n",
    "    myfunc.ver_metricas(mejor_modelo, X_test, y_test)\n",
    "else:\n",
    "    myfunc.ver_metricas_multi(mejor_modelo, X_test, y_test)\n"
   ]
  },
  {
   "cell_type": "markdown",
   "id": "ba2e29b3",
   "metadata": {
    "papermill": {
     "duration": 0.020114,
     "end_time": "2023-10-30T18:53:26.439314",
     "exception": false,
     "start_time": "2023-10-30T18:53:26.419200",
     "status": "completed"
    },
    "tags": []
   },
   "source": [
    "#### Finalización del notebook"
   ]
  },
  {
   "cell_type": "code",
   "execution_count": 11,
   "id": "ec7c02c2",
   "metadata": {
    "execution": {
     "iopub.execute_input": "2023-10-30T18:53:26.461361Z",
     "iopub.status.busy": "2023-10-30T18:53:26.461361Z",
     "iopub.status.idle": "2023-10-30T18:53:26.478867Z",
     "shell.execute_reply": "2023-10-30T18:53:26.477268Z"
    },
    "papermill": {
     "duration": 0.024748,
     "end_time": "2023-10-30T18:53:26.478867",
     "exception": false,
     "start_time": "2023-10-30T18:53:26.454119",
     "status": "completed"
    },
    "tags": []
   },
   "outputs": [
    {
     "name": "stdout",
     "output_type": "stream",
     "text": [
      "20231030T195326 : amilcar32 : INFO : Notebook ha tardado 324 seconds\n"
     ]
    }
   ],
   "source": [
    "end_time = datetime.datetime.now()\n",
    "total_time = end_time - start_time\n",
    "myfunc.verbose(f\"Notebook ha tardado {total_time.seconds} seconds\")"
   ]
  },
  {
   "cell_type": "markdown",
   "id": "b47e5c09",
   "metadata": {
    "papermill": {
     "duration": 0.005216,
     "end_time": "2023-10-30T18:53:26.499258",
     "exception": false,
     "start_time": "2023-10-30T18:53:26.494042",
     "status": "completed"
    },
    "tags": []
   },
   "source": [
    "#### Guardar métricas"
   ]
  },
  {
   "cell_type": "code",
   "execution_count": 12,
   "id": "1defa26b",
   "metadata": {
    "execution": {
     "iopub.execute_input": "2023-10-30T18:53:26.529233Z",
     "iopub.status.busy": "2023-10-30T18:53:26.529233Z",
     "iopub.status.idle": "2023-10-30T18:53:27.393924Z",
     "shell.execute_reply": "2023-10-30T18:53:27.393924Z"
    },
    "papermill": {
     "duration": 0.889856,
     "end_time": "2023-10-30T18:53:27.398997",
     "exception": false,
     "start_time": "2023-10-30T18:53:26.509141",
     "status": "completed"
    },
    "tags": []
   },
   "outputs": [
    {
     "name": "stdout",
     "output_type": "stream",
     "text": [
      "20231030T195326 : amilcar32 : INFO : Inicio guardar métricas multiclase\n",
      "20231030T195326 : amilcar32 : INFO : Inicio leer fichero ..\\tfm_viu\\ejecuciones\\metricas\\metricas_6578.csv\n"
     ]
    },
    {
     "name": "stdout",
     "output_type": "stream",
     "text": [
      "20231030T195326 : amilcar32 : INFO : Fin leer fichero ..\\tfm_viu\\ejecuciones\\metricas\\metricas_6578.csv\n"
     ]
    },
    {
     "name": "stdout",
     "output_type": "stream",
     "text": [
      "20231030T195327 : amilcar32 : INFO : Inicio guardar fichero ..\\tfm_viu\\ejecuciones\\metricas\\metricas_6578.csv\n",
      "20231030T195327 : amilcar32 : INFO : Fichero borrado ..\\tfm_viu\\ejecuciones\\metricas\\metricas_6578.csv\n",
      "20231030T195327 : amilcar32 : INFO : Fin guardar fichero ..\\tfm_viu\\ejecuciones\\metricas\\metricas_6578.csv\n",
      "20231030T195327 : amilcar32 : INFO : Fin guardar métricas multiclase\n",
      "20231030T195327 : amilcar32 : INFO : Inicio leer fichero ..\\tfm_viu\\ejecuciones\\metricas\\metricas_6578.csv\n",
      "20231030T195327 : amilcar32 : INFO : Fin leer fichero ..\\tfm_viu\\ejecuciones\\metricas\\metricas_6578.csv\n"
     ]
    },
    {
     "data": {
      "text/html": [
       "<div>\n",
       "<style scoped>\n",
       "    .dataframe tbody tr th:only-of-type {\n",
       "        vertical-align: middle;\n",
       "    }\n",
       "\n",
       "    .dataframe tbody tr th {\n",
       "        vertical-align: top;\n",
       "    }\n",
       "\n",
       "    .dataframe thead th {\n",
       "        text-align: right;\n",
       "    }\n",
       "</style>\n",
       "<table border=\"1\" class=\"dataframe\">\n",
       "  <thead>\n",
       "    <tr style=\"text-align: right;\">\n",
       "      <th></th>\n",
       "      <th>tipo</th>\n",
       "      <th>select</th>\n",
       "      <th>clasific</th>\n",
       "      <th>semilla</th>\n",
       "      <th>accuracy</th>\n",
       "      <th>precision</th>\n",
       "      <th>recall</th>\n",
       "      <th>f1_score</th>\n",
       "      <th>roc_auc</th>\n",
       "      <th>hostname</th>\n",
       "      <th>total_time_sec</th>\n",
       "      <th>datetime</th>\n",
       "      <th>fichero_modelo</th>\n",
       "      <th>params</th>\n",
       "      <th>shape</th>\n",
       "      <th>features</th>\n",
       "      <th>roc_auc_ovr</th>\n",
       "      <th>indices_auc</th>\n",
       "      <th>indices_jaccard</th>\n",
       "    </tr>\n",
       "  </thead>\n",
       "  <tbody>\n",
       "    <tr>\n",
       "      <th>0</th>\n",
       "      <td>mul_s</td>\n",
       "      <td>MI</td>\n",
       "      <td>SVM</td>\n",
       "      <td>6578</td>\n",
       "      <td>0.442308</td>\n",
       "      <td>0.439229</td>\n",
       "      <td>0.447294</td>\n",
       "      <td>0.434577</td>\n",
       "      <td>NaN</td>\n",
       "      <td>amilcar32</td>\n",
       "      <td>324</td>\n",
       "      <td>2023-10-30 19:53:27.146955</td>\n",
       "      <td>modelo_6578_mul_s_MI_SVM.pkl</td>\n",
       "      <td>{'selector__k': 1000, 'clasifier__kernel': 'rb...</td>\n",
       "      <td>X_test:(52, 18875)</td>\n",
       "      <td>['ENSG00000003137.9', 'ENSG00000005513.10', 'E...</td>\n",
       "      <td>0.782210</td>\n",
       "      <td>[0.5388026607538803, 0.8579545454545454, 0.698...</td>\n",
       "      <td>[0.17647058823529413, 0.4, 0.07692307692307693...</td>\n",
       "    </tr>\n",
       "    <tr>\n",
       "      <th>0</th>\n",
       "      <td>mul_s</td>\n",
       "      <td>MI</td>\n",
       "      <td>RF</td>\n",
       "      <td>6578</td>\n",
       "      <td>0.346154</td>\n",
       "      <td>0.282828</td>\n",
       "      <td>0.339177</td>\n",
       "      <td>0.299282</td>\n",
       "      <td>NaN</td>\n",
       "      <td>amilcar32</td>\n",
       "      <td>373</td>\n",
       "      <td>2023-10-30 19:47:57.147605</td>\n",
       "      <td>modelo_6578_mul_s_MI_RF.pkl</td>\n",
       "      <td>{'selector__k': 500, 'clasifier__n_estimators'...</td>\n",
       "      <td>X_test:(52, 18875)</td>\n",
       "      <td>['ENSG00000005513.10', 'ENSG00000006453.14', '...</td>\n",
       "      <td>0.717811</td>\n",
       "      <td>[0.5077605321507761, 0.8068181818181819, 0.633...</td>\n",
       "      <td>[0.07142857142857142, 0.35714285714285715, 0.1...</td>\n",
       "    </tr>\n",
       "    <tr>\n",
       "      <th>0</th>\n",
       "      <td>mul_s</td>\n",
       "      <td>MI</td>\n",
       "      <td>LR_L2</td>\n",
       "      <td>6578</td>\n",
       "      <td>0.519231</td>\n",
       "      <td>0.534851</td>\n",
       "      <td>0.531602</td>\n",
       "      <td>0.494628</td>\n",
       "      <td>NaN</td>\n",
       "      <td>amilcar32</td>\n",
       "      <td>613</td>\n",
       "      <td>2023-10-30 19:41:37.805549</td>\n",
       "      <td>modelo_6578_mul_s_MI_LR_L2.pkl</td>\n",
       "      <td>{'selector__k': 500, 'clasifier__solver': 'sag...</td>\n",
       "      <td>X_test:(52, 18875)</td>\n",
       "      <td>['ENSG00000005513.10', 'ENSG00000006453.14', '...</td>\n",
       "      <td>0.802481</td>\n",
       "      <td>[0.583148558758315, 0.8806818181818181, 0.6818...</td>\n",
       "      <td>[0.3125, 0.375, 0.08333333333333333, 0.3333333...</td>\n",
       "    </tr>\n",
       "  </tbody>\n",
       "</table>\n",
       "</div>"
      ],
      "text/plain": [
       "    tipo select clasific  semilla  accuracy  precision    recall  f1_score  \\\n",
       "0  mul_s     MI      SVM     6578  0.442308   0.439229  0.447294  0.434577   \n",
       "0  mul_s     MI       RF     6578  0.346154   0.282828  0.339177  0.299282   \n",
       "0  mul_s     MI    LR_L2     6578  0.519231   0.534851  0.531602  0.494628   \n",
       "\n",
       "   roc_auc   hostname  total_time_sec                    datetime  \\\n",
       "0      NaN  amilcar32             324  2023-10-30 19:53:27.146955   \n",
       "0      NaN  amilcar32             373  2023-10-30 19:47:57.147605   \n",
       "0      NaN  amilcar32             613  2023-10-30 19:41:37.805549   \n",
       "\n",
       "                   fichero_modelo  \\\n",
       "0    modelo_6578_mul_s_MI_SVM.pkl   \n",
       "0     modelo_6578_mul_s_MI_RF.pkl   \n",
       "0  modelo_6578_mul_s_MI_LR_L2.pkl   \n",
       "\n",
       "                                              params               shape  \\\n",
       "0  {'selector__k': 1000, 'clasifier__kernel': 'rb...  X_test:(52, 18875)   \n",
       "0  {'selector__k': 500, 'clasifier__n_estimators'...  X_test:(52, 18875)   \n",
       "0  {'selector__k': 500, 'clasifier__solver': 'sag...  X_test:(52, 18875)   \n",
       "\n",
       "                                            features  roc_auc_ovr  \\\n",
       "0  ['ENSG00000003137.9', 'ENSG00000005513.10', 'E...     0.782210   \n",
       "0  ['ENSG00000005513.10', 'ENSG00000006453.14', '...     0.717811   \n",
       "0  ['ENSG00000005513.10', 'ENSG00000006453.14', '...     0.802481   \n",
       "\n",
       "                                         indices_auc  \\\n",
       "0  [0.5388026607538803, 0.8579545454545454, 0.698...   \n",
       "0  [0.5077605321507761, 0.8068181818181819, 0.633...   \n",
       "0  [0.583148558758315, 0.8806818181818181, 0.6818...   \n",
       "\n",
       "                                     indices_jaccard  \n",
       "0  [0.17647058823529413, 0.4, 0.07692307692307693...  \n",
       "0  [0.07142857142857142, 0.35714285714285715, 0.1...  \n",
       "0  [0.3125, 0.375, 0.08333333333333333, 0.3333333...  "
      ]
     },
     "metadata": {},
     "output_type": "display_data"
    }
   ],
   "source": [
    "if M_TIPO.startswith(\"bin\"):\n",
    "    myfunc.save_metricas_to_csv(random_search, X_test, y_test, M_TIPO, M_SELECT, M_CLASIF, total_time, SEMILLA, myfunc.MET_DIR, M_FICHERO, fichero_modelo)\n",
    "else:\n",
    "    myfunc.save_metricas_multi_to_csv(random_search, X_test, y_test, M_TIPO, M_SELECT, M_CLASIF, total_time, SEMILLA, myfunc.MET_DIR, M_FICHERO, fichero_modelo)\n",
    "\n",
    "df1=myfunc.read_metricas_to_df(myfunc.MET_DIR,M_FICHERO)\n",
    "\n",
    "display(df1.sort_values(\"datetime\", ascending=False)[:3])\n"
   ]
  },
  {
   "cell_type": "markdown",
   "id": "26fcb0a2",
   "metadata": {
    "papermill": {
     "duration": 0.02519,
     "end_time": "2023-10-30T18:53:27.439178",
     "exception": false,
     "start_time": "2023-10-30T18:53:27.413988",
     "status": "completed"
    },
    "tags": []
   },
   "source": [
    "#### Guardar resultados"
   ]
  },
  {
   "cell_type": "code",
   "execution_count": 13,
   "id": "0e0d6b7a",
   "metadata": {
    "execution": {
     "iopub.execute_input": "2023-10-30T18:53:27.489630Z",
     "iopub.status.busy": "2023-10-30T18:53:27.489630Z",
     "iopub.status.idle": "2023-10-30T18:53:28.416377Z",
     "shell.execute_reply": "2023-10-30T18:53:28.416377Z"
    },
    "papermill": {
     "duration": 0.954596,
     "end_time": "2023-10-30T18:53:28.418883",
     "exception": false,
     "start_time": "2023-10-30T18:53:27.464287",
     "status": "completed"
    },
    "tags": []
   },
   "outputs": [
    {
     "name": "stdout",
     "output_type": "stream",
     "text": [
      "20231030T195327 : amilcar32 : INFO : Inicio guardar resultados\n",
      "20231030T195327 : amilcar32 : INFO : Inicio guardar fichero ..\\tfm_viu\\ejecuciones\\metricas\\resultados_6578_mul_s-MI-SVM.csv\n"
     ]
    },
    {
     "name": "stdout",
     "output_type": "stream",
     "text": [
      "20231030T195328 : amilcar32 : INFO : Fin guardar fichero ..\\tfm_viu\\ejecuciones\\metricas\\resultados_6578_mul_s-MI-SVM.csv\n",
      "20231030T195328 : amilcar32 : INFO : Fin guardar resultados\n"
     ]
    }
   ],
   "source": [
    "fichero_resultados=R_FICHERO+\"_\"+M_TIPO+\"-\"+M_SELECT+\"-\"+M_CLASIF+\".csv\"\n",
    "myfunc.save_resultados_to_csv(M_TIPO, M_SELECT, M_CLASIF,  random_search, myfunc.MET_DIR, fichero_resultados)\n"
   ]
  }
 ],
 "metadata": {
  "kernelspec": {
   "display_name": "Python 3 (ipykernel)",
   "language": "python",
   "name": "python3"
  },
  "language_info": {
   "codemirror_mode": {
    "name": "ipython",
    "version": 3
   },
   "file_extension": ".py",
   "mimetype": "text/x-python",
   "name": "python",
   "nbconvert_exporter": "python",
   "pygments_lexer": "ipython3",
   "version": "3.10.12"
  },
  "papermill": {
   "default_parameters": {},
   "duration": 330.260952,
   "end_time": "2023-10-30T18:53:29.456137",
   "environment_variables": {},
   "exception": null,
   "input_path": "03_entrenamiento.ipynb",
   "output_path": "ejecuciones\\training\\03_entrenamiento.20231030T194758.param_0000_6578_mul_s_MI_SVM.output.ipynb",
   "parameters": {
    "MAX_ITERS": 500,
    "M_CLASIF": "SVM",
    "M_FICHERO": "metricas_6578",
    "M_SELECT": "MI",
    "M_TIPO": "mul_s",
    "PRE_DATA_FILE": "rows_transpose_norm_by_gene_id_with_target_num_",
    "P_FICHERO": "param_0000_6578_mul_s_MI_SVM.yaml",
    "R_FICHERO": "resultados_6578",
    "SCORING": "roc_auc_ovr",
    "SEMILLA": 6578,
    "eval_clasifier": "SVC(probability=True, random_state=SEMILLA)",
    "eval_selector": "SelectKBest(score_func=mutual_info_classif_state)",
    "param_distributions": {
     "clasifier__C": [
      100
     ],
     "clasifier__gamma": [
      0.001
     ],
     "clasifier__kernel": [
      "rbf"
     ],
     "selector__k": [
      1000
     ]
    }
   },
   "start_time": "2023-10-30T18:47:59.195185",
   "version": "2.4.0"
  }
 },
 "nbformat": 4,
 "nbformat_minor": 5
}