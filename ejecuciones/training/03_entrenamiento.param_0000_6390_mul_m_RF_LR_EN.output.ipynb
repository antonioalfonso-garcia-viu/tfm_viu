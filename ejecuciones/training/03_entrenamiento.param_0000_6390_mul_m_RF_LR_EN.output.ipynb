{
 "cells": [
  {
   "cell_type": "markdown",
   "id": "41a40eac",
   "metadata": {
    "papermill": {
     "duration": 0.004195,
     "end_time": "2023-10-30T15:36:15.894015",
     "exception": false,
     "start_time": "2023-10-30T15:36:15.889820",
     "status": "completed"
    },
    "tags": []
   },
   "source": [
    "##### Inicio"
   ]
  },
  {
   "cell_type": "markdown",
   "id": "d69d5de2",
   "metadata": {
    "papermill": {
     "duration": 0.003419,
     "end_time": "2023-10-30T15:36:15.901154",
     "exception": false,
     "start_time": "2023-10-30T15:36:15.897735",
     "status": "completed"
    },
    "tags": []
   },
   "source": [
    "#### Carga de datos"
   ]
  },
  {
   "cell_type": "code",
   "execution_count": 1,
   "id": "92532289",
   "metadata": {
    "execution": {
     "iopub.execute_input": "2023-10-30T15:36:15.909322Z",
     "iopub.status.busy": "2023-10-30T15:36:15.909095Z",
     "iopub.status.idle": "2023-10-30T15:36:16.779154Z",
     "shell.execute_reply": "2023-10-30T15:36:16.778647Z"
    },
    "papermill": {
     "duration": 0.875602,
     "end_time": "2023-10-30T15:36:16.780311",
     "exception": false,
     "start_time": "2023-10-30T15:36:15.904709",
     "status": "completed"
    },
    "tags": []
   },
   "outputs": [
    {
     "name": "stdout",
     "output_type": "stream",
     "text": [
      "CPU_COUNT: 8; NODE: amilcar22; sys.version: 3.10.12 (main, Jul  5 2023, 19:22:19) [GCC 11.2.0]\n",
      "LOKY_MAX_CPU_COUNT: 6\n",
      "OMP_NUM_THREADS: 2\n"
     ]
    }
   ],
   "source": [
    "import os\n",
    "import numpy as np\n",
    "import pandas as pd\n",
    "import datetime\n",
    "import sklearn\n",
    "import logging\n",
    "import warnings\n",
    "\n",
    "from sklearn.pipeline import Pipeline\n",
    "from sklearn.model_selection import RandomizedSearchCV, KFold, cross_val_score, train_test_split\n",
    "from sklearn.metrics import accuracy_score, confusion_matrix, classification_report, roc_auc_score\n",
    "\n",
    "#  cargar algoritmos para aprendizaje supervisado\n",
    "from sklearn.feature_selection import SelectKBest, f_classif, SelectFromModel, mutual_info_classif\n",
    "from sklearn.svm import SVC\n",
    "from sklearn.ensemble import RandomForestClassifier\n",
    "from sklearn.linear_model import LogisticRegression,LogisticRegressionCV\n",
    "\n",
    "# importar fichero con utilidades propias\n",
    "from commons import myfunctions as myfunc\n"
   ]
  },
  {
   "cell_type": "markdown",
   "id": "0889b682",
   "metadata": {
    "papermill": {
     "duration": 0.002552,
     "end_time": "2023-10-30T15:36:16.785677",
     "exception": false,
     "start_time": "2023-10-30T15:36:16.783125",
     "status": "completed"
    },
    "tags": []
   },
   "source": [
    "#### Parámetros a utilizar en el entrenamiento.\n",
    "\n",
    "Se indican los 3 algoritmos de *selección de características* (eval_selector_xxx) y los 3 algoritmos para la _clasificación_ (eval_clasifier_xxx)\n",
    "\n",
    "En *param_distributions* se indicar los parámetros que utilizan los algoritmos en la función RandomSearchCV.\n",
    "\n",
    "Esta celda tiene la etiqueta **parameters** que servirá para poder lanzar los entrenamientos con la utilidad **papermill** pasándole un fichero con los parámetros. Los nuevos parámetros se situarán tras esta celda para tener prevalencia."
   ]
  },
  {
   "cell_type": "code",
   "execution_count": 2,
   "id": "56b20bc7",
   "metadata": {
    "execution": {
     "iopub.execute_input": "2023-10-30T15:36:16.791798Z",
     "iopub.status.busy": "2023-10-30T15:36:16.791525Z",
     "iopub.status.idle": "2023-10-30T15:36:16.798711Z",
     "shell.execute_reply": "2023-10-30T15:36:16.798296Z"
    },
    "papermill": {
     "duration": 0.011356,
     "end_time": "2023-10-30T15:36:16.799716",
     "exception": false,
     "start_time": "2023-10-30T15:36:16.788360",
     "status": "completed"
    },
    "tags": [
     "parameters"
    ]
   },
   "outputs": [
    {
     "name": "stdout",
     "output_type": "stream",
     "text": [
      "20231030T163616 : amilcar22 : INFO : Utilizando parámetros de mul_m\n"
     ]
    }
   ],
   "source": [
    "#  Parametros para el entrenamiento\n",
    "\n",
    "SEMILLA=        42\n",
    "M_TIPO=         \"mul_m\"\n",
    "M_SELECT=       \"MI\"\n",
    "M_CLASIF=       \"SVM\"\n",
    "R_FICHERO=      \"resultados\"\n",
    "M_FICHERO=      \"metricas\"\n",
    "PRE_DATA_FILE=  \"rows_transpose_norm_by_gene_id_with_target_num_\"\n",
    "SCORING=        \"roc_auc_ovr\" \n",
    "MAX_ITERS=      100\n",
    "\n",
    "def mutual_info_classif_state(X, y):\n",
    "    return mutual_info_classif(X, y, random_state=SEMILLA)\n",
    "\n",
    "eval_selector_mi = \"SelectKBest(score_func=mutual_info_classif_state)\"\n",
    "eval_selector_rf=  \"SelectFromModel(estimator=RandomForestClassifier(random_state=SEMILLA), threshold=-np.inf)\"\n",
    "eval_selector_anova=  \"SelectKBest(score_func=f_classif)\"\n",
    "\n",
    "eval_clasifier_svm= \"SVC(probability=True, random_state=SEMILLA)\"\n",
    "eval_clasifier_rf= \"RandomForestClassifier(random_state=SEMILLA)\"\n",
    "eval_clasifier_lr= \"LogisticRegressionCV(random_state=SEMILLA)\"\n",
    "\n",
    "if M_TIPO.startswith(\"bin_m\"):\n",
    "    myfunc.verbose(f\"Utilizando parámetros de {M_TIPO}\")\n",
    "    eval_selector = eval_selector_mi\n",
    "    eval_clasifier = eval_clasifier_svm\n",
    "\n",
    "    SEMILLA = 6578\n",
    "    M_SELECT = \"MI\"\n",
    "    M_CLASIF = \"SVM\"\n",
    "    param_distributions = {'selector__k': [1000], \n",
    "         'clasifier__kernel': ['rbf'], 'clasifier__gamma': [0.01], 'clasifier__C': [100]}\n",
    "elif M_TIPO.startswith(\"bin_s\"):\n",
    "    myfunc.verbose(f\"Utilizando parámetros de {M_TIPO}\")\n",
    "    eval_selector = eval_selector_rf\n",
    "    eval_clasifier = eval_clasifier_lr\n",
    "\n",
    "    SEMILLA = 6191\n",
    "    M_SELECT = \"RF\"\n",
    "    M_CLASIF = \"LR_L2\"\n",
    "    param_distributions = {'selector__max_features': [1000], 'selector__estimator__n_estimators': [200], \n",
    "        'clasifier__solver': ['lbfgs'], 'clasifier__penalty': ['l2'], 'clasifier__max_iter': [10000]}\n",
    "\n",
    "elif M_TIPO.startswith(\"mul_m\"):\n",
    "    myfunc.verbose(f\"Utilizando parámetros de {M_TIPO}\")\n",
    " \n",
    "    eval_selector = eval_selector_rf\n",
    "    eval_clasifier = eval_clasifier_lr\n",
    "\n",
    "    SEMILLA = 6191\n",
    "    M_SELECT = \"RF\"\n",
    "    M_CLASIF = \"LR_L2\"\n",
    "    param_distributions = {'selector__max_features': [1000], 'selector__estimator__n_estimators': [400], \n",
    "        'clasifier__solver': ['lbfgs'], 'clasifier__penalty': ['l2'], 'clasifier__max_iter': [10000]}\n",
    "\n",
    "else:\n",
    "    # M_TIPO.startswith(\"mul_s\"):\n",
    "    myfunc.verbose(f\"Utilizando parámetros de {M_TIPO}\")\n",
    "    eval_selector = eval_selector_anova\n",
    "    eval_clasifier = eval_clasifier_lr\n",
    "\n",
    "    SEMILLA = 1860\n",
    "    M_SELECT = \"ANOVA\"\n",
    "    M_CLASIF = \"LR_L2\"\n",
    "    param_distributions = {'selector__k': [1000], \n",
    "        'clasifier__solver': ['saga'], 'clasifier__penalty': ['l2'], 'clasifier__max_iter': [10000]}\n",
    "\n"
   ]
  },
  {
   "cell_type": "code",
   "execution_count": 3,
   "id": "126e4101",
   "metadata": {
    "execution": {
     "iopub.execute_input": "2023-10-30T15:36:16.805750Z",
     "iopub.status.busy": "2023-10-30T15:36:16.805560Z",
     "iopub.status.idle": "2023-10-30T15:36:16.809245Z",
     "shell.execute_reply": "2023-10-30T15:36:16.808828Z"
    },
    "papermill": {
     "duration": 0.008079,
     "end_time": "2023-10-30T15:36:16.810421",
     "exception": false,
     "start_time": "2023-10-30T15:36:16.802342",
     "status": "completed"
    },
    "tags": [
     "injected-parameters"
    ]
   },
   "outputs": [],
   "source": [
    "# Parameters\n",
    "M_TIPO = \"mul_m\"\n",
    "M_SELECT = \"RF\"\n",
    "M_CLASIF = \"LR_EN\"\n",
    "P_FICHERO = \"param_0000_6390_mul_m_RF_LR_EN.yaml\"\n",
    "R_FICHERO = \"resultados_6390\"\n",
    "M_FICHERO = \"metricas_6390\"\n",
    "PRE_DATA_FILE = \"rows_transpose_norm_by_gene_id_with_target_num_\"\n",
    "SCORING = \"roc_auc_ovr\"\n",
    "SEMILLA = 6390\n",
    "MAX_ITERS = 500\n",
    "eval_selector = \"SelectFromModel(estimator=RandomForestClassifier(random_state=SEMILLA), threshold=-np.inf)\"\n",
    "eval_clasifier = \"LogisticRegressionCV(random_state=SEMILLA)\"\n",
    "param_distributions = {\n",
    "    \"selector__max_features\": [1000],\n",
    "    \"selector__estimator__n_estimators\": [400],\n",
    "    \"clasifier__solver\": [\"saga\"],\n",
    "    \"clasifier__penalty\": [\"elasticnet\"],\n",
    "    \"clasifier__max_iter\": [10000],\n",
    "    \"clasifier__l1_ratios\": [[0.1]],\n",
    "}\n"
   ]
  },
  {
   "cell_type": "code",
   "execution_count": 4,
   "id": "98fb0f63",
   "metadata": {
    "execution": {
     "iopub.execute_input": "2023-10-30T15:36:16.816333Z",
     "iopub.status.busy": "2023-10-30T15:36:16.816148Z",
     "iopub.status.idle": "2023-10-30T15:36:16.819190Z",
     "shell.execute_reply": "2023-10-30T15:36:16.818779Z"
    },
    "papermill": {
     "duration": 0.007258,
     "end_time": "2023-10-30T15:36:16.820284",
     "exception": false,
     "start_time": "2023-10-30T15:36:16.813026",
     "status": "completed"
    },
    "tags": []
   },
   "outputs": [],
   "source": [
    "DATA_FILE = PRE_DATA_FILE + M_TIPO\n",
    "\n",
    "# si viene \"None\" en el parámetro max_depth, se le quitan las comillas para que no sea entendido por el algoritmo como un texto\n",
    "if \"clasifier__max_depth\" in param_distributions:\n",
    "    param_distributions['clasifier__max_depth'] = [None if x == 'None' else x for x in param_distributions['clasifier__max_depth']]"
   ]
  },
  {
   "cell_type": "markdown",
   "id": "75146427",
   "metadata": {
    "papermill": {
     "duration": 0.002713,
     "end_time": "2023-10-30T15:36:16.825627",
     "exception": false,
     "start_time": "2023-10-30T15:36:16.822914",
     "status": "completed"
    },
    "tags": []
   },
   "source": [
    "Asignar los algoritmos que se utilizarán en la función RandomSearchCV"
   ]
  },
  {
   "cell_type": "code",
   "execution_count": 5,
   "id": "63fab063",
   "metadata": {
    "execution": {
     "iopub.execute_input": "2023-10-30T15:36:16.833827Z",
     "iopub.status.busy": "2023-10-30T15:36:16.833616Z",
     "iopub.status.idle": "2023-10-30T15:36:16.837094Z",
     "shell.execute_reply": "2023-10-30T15:36:16.836526Z"
    },
    "papermill": {
     "duration": 0.0094,
     "end_time": "2023-10-30T15:36:16.838535",
     "exception": false,
     "start_time": "2023-10-30T15:36:16.829135",
     "status": "completed"
    },
    "tags": []
   },
   "outputs": [],
   "source": [
    "algor_selector=eval(eval_selector)\n",
    "algor_clasifier=eval(eval_clasifier)"
   ]
  },
  {
   "cell_type": "markdown",
   "id": "f8912de7",
   "metadata": {
    "papermill": {
     "duration": 0.003475,
     "end_time": "2023-10-30T15:36:16.845497",
     "exception": false,
     "start_time": "2023-10-30T15:36:16.842022",
     "status": "completed"
    },
    "tags": []
   },
   "source": [
    "#### Comprobar el entorno y leer fichero de muestras"
   ]
  },
  {
   "cell_type": "code",
   "execution_count": 6,
   "id": "6190a3b1",
   "metadata": {
    "execution": {
     "iopub.execute_input": "2023-10-30T15:36:16.853372Z",
     "iopub.status.busy": "2023-10-30T15:36:16.853187Z",
     "iopub.status.idle": "2023-10-30T15:36:17.016399Z",
     "shell.execute_reply": "2023-10-30T15:36:17.015929Z"
    },
    "papermill": {
     "duration": 0.168645,
     "end_time": "2023-10-30T15:36:17.017748",
     "exception": false,
     "start_time": "2023-10-30T15:36:16.849103",
     "status": "completed"
    },
    "tags": []
   },
   "outputs": [
    {
     "name": "stdout",
     "output_type": "stream",
     "text": [
      "20231030T163616 : amilcar22 : INFO : Encontrada carpeta DATA_DIR=../tfm_git/datos\n",
      "20231030T163616 : amilcar22 : INFO : Encontrada carpeta CFDNA_DIR=../tfm_git/datos/cfDNA_5hmC\n",
      "20231030T163616 : amilcar22 : INFO : Encontrada carpeta GENCODE_DIR=../tfm_git/datos/gencode\n",
      "20231030T163616 : amilcar22 : INFO : Encontrada carpeta H5_DIR=../tfm_git/datos/h5\n",
      "20231030T163616 : amilcar22 : INFO : Encontrada carpeta LOG_DIR=../tfm_git/datos/logs\n",
      "20231030T163616 : amilcar22 : INFO : Encontrada carpeta CSV_DIR=../tfm_git/datos/csv\n",
      "20231030T163616 : amilcar22 : INFO : Encontrada carpeta MODEL_DIR=../tfm_git/ejecuciones/modelos\n",
      "20231030T163616 : amilcar22 : INFO : Encontrada carpeta EXEC_DIR=../tfm_git/ejecuciones\n",
      "20231030T163616 : amilcar22 : INFO : Encontrada carpeta MET_DIR=../tfm_git/ejecuciones/metricas\n",
      "20231030T163616 : amilcar22 : INFO : Inicio leer fichero h5 ../tfm_git/datos/h5/rows_transpose_norm_by_gene_id_with_target_num_mul_m.h5\n",
      "20231030T163616 : amilcar22 : INFO : Leyendo clave /df\n",
      "20231030T163616 : amilcar22 : INFO : Tamaño (434, 18876)\n",
      "20231030T163616 : amilcar22 : INFO : Fin leer fichero h5 ../tfm_git/datos/h5/rows_transpose_norm_by_gene_id_with_target_num_mul_m.h5\n"
     ]
    },
    {
     "data": {
      "text/plain": [
       "target\n",
       "0    62\n",
       "1    62\n",
       "2    62\n",
       "3    62\n",
       "4    62\n",
       "5    62\n",
       "6    62\n",
       "dtype: int64"
      ]
     },
     "metadata": {},
     "output_type": "display_data"
    },
    {
     "name": "stdout",
     "output_type": "stream",
     "text": [
      "Shape df: (434, 18876)\n",
      "Shape X_train: (347, 18875)\n",
      "Shape X_test: (87, 18875)\n"
     ]
    }
   ],
   "source": [
    "start_time = datetime.datetime.now()\n",
    "\n",
    "myfunc.reset_vars()\n",
    "\n",
    "myfunc.NOTEBK_FILENAME = myfunc.get_nb_name()\n",
    "\n",
    "myfunc.check_enviroment(myfunc.DATA_DIR, myfunc.CFDNA_DIR, myfunc.GENCODE_DIR, myfunc.H5_DIR, myfunc.LOG_DIR, myfunc.CSV_DIR, myfunc.MODEL_DIR, myfunc.EXEC_DIR, myfunc.MET_DIR)\n",
    "\n",
    "# Leer fichero con las muestras\n",
    "df_t = myfunc.read_h5_to_df(DATA_FILE, myfunc.H5_DIR)\n",
    "display(df_t.groupby(\"target\").size())\n",
    "print(\"Shape df:\",df_t.shape)\n",
    "\n",
    "# Separar caracteristicas/genes de las etiquetas/tipos de cáncer\n",
    "X = df_t.iloc[:, :-1]  # Todas las columnas excepto la última\n",
    "y = df_t.iloc[:, -1]  # La última columna contiene los identificadores de los tipos de cáncer\n",
    "\n",
    "#  Crear el conjunto de datos de entrenamiento y de pruebas, y se fija la semilla para siempre coger el mismo juego de muestras\n",
    "X_train, X_test, y_train, y_test = train_test_split(X, y, test_size=0.2, shuffle=True, random_state=42)\n",
    "print(\"Shape X_train:\",X_train.shape)\n",
    "print(\"Shape X_test:\",X_test.shape)\n"
   ]
  },
  {
   "cell_type": "markdown",
   "id": "79db33ef",
   "metadata": {
    "papermill": {
     "duration": 0.002937,
     "end_time": "2023-10-30T15:36:17.024069",
     "exception": false,
     "start_time": "2023-10-30T15:36:17.021132",
     "status": "completed"
    },
    "tags": []
   },
   "source": [
    "#### Selección de características y clasificación."
   ]
  },
  {
   "cell_type": "code",
   "execution_count": 7,
   "id": "3ec6af0c",
   "metadata": {
    "execution": {
     "iopub.execute_input": "2023-10-30T15:36:17.030713Z",
     "iopub.status.busy": "2023-10-30T15:36:17.030514Z",
     "iopub.status.idle": "2023-10-30T16:08:36.533773Z",
     "shell.execute_reply": "2023-10-30T16:08:36.533154Z"
    },
    "papermill": {
     "duration": 1939.510908,
     "end_time": "2023-10-30T16:08:36.537794",
     "exception": false,
     "start_time": "2023-10-30T15:36:17.026886",
     "status": "completed"
    },
    "tags": []
   },
   "outputs": [
    {
     "name": "stdout",
     "output_type": "stream",
     "text": [
      "20231030T163617 : amilcar22 : INFO : Iniciando entrenamiento\n",
      "num_iter: 1 , max_iter: 1\n",
      "Fitting 5 folds for each of 1 candidates, totalling 5 fits\n"
     ]
    },
    {
     "name": "stdout",
     "output_type": "stream",
     "text": [
      "[CV 2/5] END clasifier__l1_ratios=[0.1], clasifier__max_iter=10000, clasifier__penalty=elasticnet, clasifier__solver=saga, selector__estimator__n_estimators=400, selector__max_features=1000;, score=0.835 total time=12.0min\n"
     ]
    },
    {
     "name": "stdout",
     "output_type": "stream",
     "text": [
      "[CV 4/5] END clasifier__l1_ratios=[0.1], clasifier__max_iter=10000, clasifier__penalty=elasticnet, clasifier__solver=saga, selector__estimator__n_estimators=400, selector__max_features=1000;, score=0.924 total time=12.5min\n"
     ]
    },
    {
     "name": "stdout",
     "output_type": "stream",
     "text": [
      "[CV 1/5] END clasifier__l1_ratios=[0.1], clasifier__max_iter=10000, clasifier__penalty=elasticnet, clasifier__solver=saga, selector__estimator__n_estimators=400, selector__max_features=1000;, score=0.809 total time=13.9min\n"
     ]
    },
    {
     "name": "stdout",
     "output_type": "stream",
     "text": [
      "[CV 5/5] END clasifier__l1_ratios=[0.1], clasifier__max_iter=10000, clasifier__penalty=elasticnet, clasifier__solver=saga, selector__estimator__n_estimators=400, selector__max_features=1000;, score=0.885 total time=16.2min\n"
     ]
    },
    {
     "name": "stdout",
     "output_type": "stream",
     "text": [
      "[CV 3/5] END clasifier__l1_ratios=[0.1], clasifier__max_iter=10000, clasifier__penalty=elasticnet, clasifier__solver=saga, selector__estimator__n_estimators=400, selector__max_features=1000;, score=0.869 total time=17.1min\n"
     ]
    },
    {
     "name": "stdout",
     "output_type": "stream",
     "text": [
      "Mejores Hiperparámetros: {'selector__max_features': 1000, 'selector__estimator__n_estimators': 400, 'clasifier__solver': 'saga', 'clasifier__penalty': 'elasticnet', 'clasifier__max_iter': 10000, 'clasifier__l1_ratios': [0.1]}\n",
      "Mejor Puntuación: 0.8645\n",
      "20231030T170836 : amilcar22 : INFO : Fin entrenamiento\n"
     ]
    }
   ],
   "source": [
    "myfunc.verbose(\"Iniciando entrenamiento\")\n",
    "\n",
    "kf = KFold(n_splits=5, shuffle=True, random_state=SEMILLA)\n",
    "\n",
    "# Crear el pipeline para el flujo de tareas\n",
    "tasks_pipeline = Pipeline([\n",
    "    ('selector', algor_selector),\n",
    "    ('clasifier', algor_clasifier)\n",
    "])\n",
    "\n",
    "# MAX_ITERS puede limitar el número de iteraciones si son excesivas para las combinaciones de parámetros buscando un óptimo local, \n",
    "# sino funcionaría como GridSearchCV al revisar todas las cominaciones de los parámetros\n",
    "num_iteraciones = 1\n",
    "num_iteraciones = num_iteraciones * np.prod([len(elemento1) for _, elemento1 in param_distributions.items()])\n",
    "max_iteraciones = num_iteraciones if num_iteraciones <= MAX_ITERS else MAX_ITERS\n",
    "print(\"num_iter:\",num_iteraciones,\", max_iter:\",max_iteraciones)\n",
    "\n",
    "random_search = RandomizedSearchCV(\n",
    "    tasks_pipeline, \n",
    "    param_distributions, \n",
    "    n_iter=max_iteraciones,\n",
    "    scoring=SCORING,\n",
    "    cv=kf,\n",
    "    verbose=3, \n",
    "    random_state=SEMILLA, \n",
    "    n_jobs=-1\n",
    "    )\n",
    "\n",
    "# Entrenar el modelo\n",
    "random_search.fit(X_train, y_train)\n",
    "\n",
    "# Ver los mejores hiperparámetros encontrados\n",
    "print(f'Mejores Hiperparámetros: {random_search.best_params_}')\n",
    "print(f'Mejor Puntuación: {random_search.best_score_:.4f}')\n",
    "\n",
    "# Nos quedamos con el mejor modelo para ver las métricas\n",
    "mejor_modelo = random_search.best_estimator_\n",
    "\n",
    "myfunc.verbose(\"Fin entrenamiento\")"
   ]
  },
  {
   "cell_type": "markdown",
   "id": "c610275b",
   "metadata": {
    "papermill": {
     "duration": 0.003557,
     "end_time": "2023-10-30T16:08:36.544832",
     "exception": false,
     "start_time": "2023-10-30T16:08:36.541275",
     "status": "completed"
    },
    "tags": []
   },
   "source": [
    "#### Guardar modelo"
   ]
  },
  {
   "cell_type": "code",
   "execution_count": 8,
   "id": "0b5ee9bd",
   "metadata": {
    "execution": {
     "iopub.execute_input": "2023-10-30T16:08:36.552697Z",
     "iopub.status.busy": "2023-10-30T16:08:36.552398Z",
     "iopub.status.idle": "2023-10-30T16:08:36.715169Z",
     "shell.execute_reply": "2023-10-30T16:08:36.714638Z"
    },
    "papermill": {
     "duration": 0.168122,
     "end_time": "2023-10-30T16:08:36.716282",
     "exception": false,
     "start_time": "2023-10-30T16:08:36.548160",
     "status": "completed"
    },
    "tags": []
   },
   "outputs": [
    {
     "name": "stdout",
     "output_type": "stream",
     "text": [
      "20231030T170836 : amilcar22 : INFO : Inicio guardar fichero ../tfm_git/ejecuciones/modelos/modelo_6390_mul_m_RF_LR_EN.pkl\n",
      "20231030T170836 : amilcar22 : INFO : Fin guardar fichero ../tfm_git/ejecuciones/modelos/modelo_6390_mul_m_RF_LR_EN.pkl\n"
     ]
    }
   ],
   "source": [
    "fichero_modelo = str.replace(\"modelo_\"+str(SEMILLA).zfill(4)+\"_\"+M_TIPO+\"_\"+M_SELECT+\"_\"+M_CLASIF+\".pkl\", \" \", \"_\")\n",
    "\n",
    "myfunc.save_modelo(mejor_modelo, myfunc.MODEL_DIR, fichero_modelo)"
   ]
  },
  {
   "cell_type": "markdown",
   "id": "cccdf506",
   "metadata": {
    "papermill": {
     "duration": 0.003264,
     "end_time": "2023-10-30T16:08:36.723249",
     "exception": false,
     "start_time": "2023-10-30T16:08:36.719985",
     "status": "completed"
    },
    "tags": []
   },
   "source": [
    "#### Ver resultados del las iteraciones hechas por RandomSearchCV"
   ]
  },
  {
   "cell_type": "code",
   "execution_count": 9,
   "id": "8964b8cf",
   "metadata": {
    "execution": {
     "iopub.execute_input": "2023-10-30T16:08:36.730994Z",
     "iopub.status.busy": "2023-10-30T16:08:36.730463Z",
     "iopub.status.idle": "2023-10-30T16:08:36.736848Z",
     "shell.execute_reply": "2023-10-30T16:08:36.736291Z"
    },
    "papermill": {
     "duration": 0.011453,
     "end_time": "2023-10-30T16:08:36.737962",
     "exception": false,
     "start_time": "2023-10-30T16:08:36.726509",
     "status": "completed"
    },
    "tags": []
   },
   "outputs": [
    {
     "name": "stdout",
     "output_type": "stream",
     "text": [
      "20231030T170836 : amilcar22 : INFO : Inicio ver resultados\n"
     ]
    },
    {
     "name": "stdout",
     "output_type": "stream",
     "text": [
      "Mejores Hiperparámetros: {'selector__max_features': 1000, 'selector__estimator__n_estimators': 400, 'clasifier__solver': 'saga', 'clasifier__penalty': 'elasticnet', 'clasifier__max_iter': 10000, 'clasifier__l1_ratios': [0.1]}\n",
      "Mejores puntuaciones: 0.8645 | Params: {'selector__max_features': 1000, 'selector__estimator__n_estimators': 400, 'clasifier__solver': 'saga', 'clasifier__penalty': 'elasticnet', 'clasifier__max_iter': 10000, 'clasifier__l1_ratios': [0.1]}\n",
      "Media de las puntuaciones: 0.8645 | Params: {'selector__max_features': 1000, 'selector__estimator__n_estimators': 400, 'clasifier__solver': 'saga', 'clasifier__penalty': 'elasticnet', 'clasifier__max_iter': 10000, 'clasifier__l1_ratios': [0.1]}\n",
      "20231030T170836 : amilcar22 : INFO : Fin resultados\n"
     ]
    }
   ],
   "source": [
    "myfunc.ver_resultados_search(random_search)"
   ]
  },
  {
   "cell_type": "markdown",
   "id": "83f8d09b",
   "metadata": {
    "papermill": {
     "duration": 0.003406,
     "end_time": "2023-10-30T16:08:36.744852",
     "exception": false,
     "start_time": "2023-10-30T16:08:36.741446",
     "status": "completed"
    },
    "tags": []
   },
   "source": [
    "#### Ver métricas del mejor modelo"
   ]
  },
  {
   "cell_type": "code",
   "execution_count": 10,
   "id": "9b889acd",
   "metadata": {
    "execution": {
     "iopub.execute_input": "2023-10-30T16:08:36.752732Z",
     "iopub.status.busy": "2023-10-30T16:08:36.752132Z",
     "iopub.status.idle": "2023-10-30T16:08:37.748223Z",
     "shell.execute_reply": "2023-10-30T16:08:37.747716Z"
    },
    "papermill": {
     "duration": 1.001171,
     "end_time": "2023-10-30T16:08:37.749407",
     "exception": false,
     "start_time": "2023-10-30T16:08:36.748236",
     "status": "completed"
    },
    "tags": []
   },
   "outputs": [
    {
     "name": "stdout",
     "output_type": "stream",
     "text": [
      "20231030T170836 : amilcar22 : INFO : Inicio ver métricas multiclase\n"
     ]
    },
    {
     "name": "stdout",
     "output_type": "stream",
     "text": [
      "              precision    recall  f1-score   support\n",
      "\n",
      "           0       0.44      0.25      0.32        16\n",
      "           1       0.83      0.67      0.74        15\n",
      "           2       0.31      0.36      0.33        11\n",
      "           3       0.25      0.60      0.35         5\n",
      "           4       0.73      0.62      0.67        13\n",
      "           5       0.73      0.89      0.80         9\n",
      "           6       0.68      0.72      0.70        18\n",
      "\n",
      "    accuracy                           0.57        87\n",
      "   macro avg       0.57      0.59      0.56        87\n",
      "weighted avg       0.60      0.57      0.58        87\n",
      "\n",
      "\n",
      "\n",
      "           Exactitud: 0.574713\n",
      "   Precisión (media): 0.567747\n",
      "      Recall (media): 0.586686\n",
      "    F1-score (media): 0.559484\n",
      "\n",
      "\n",
      "AUC para el tipo de cáncer 0-Control.... 0.7025\n",
      "AUC para el tipo de cáncer 1-Bladder.... 0.8963\n",
      "AUC para el tipo de cáncer 2-Breast..... 0.7033\n",
      "AUC para el tipo de cáncer 3-Colorectal. 0.8268\n",
      "AUC para el tipo de cáncer 4-Kidney..... 0.8992\n",
      "AUC para el tipo de cáncer 5-Lung....... 0.9915\n",
      "AUC para el tipo de cáncer 6-Prostate... 0.8575\n",
      "\n",
      "Media de AUC: 0.8396\n"
     ]
    },
    {
     "data": {
      "image/png": "[encoded data removed]",
      "text/plain": [
       "<Figure size 1000x600 with 1 Axes>"
      ]
     },
     "metadata": {},
     "output_type": "display_data"
    },
    {
     "name": "stdout",
     "output_type": "stream",
     "text": [
      "\n",
      "\n"
     ]
    },
    {
     "data": {
      "image/png": "[encoded data removed]",
      "text/plain": [
       "<Figure size 800x400 with 2 Axes>"
      ]
     },
     "metadata": {},
     "output_type": "display_data"
    },
    {
     "name": "stdout",
     "output_type": "stream",
     "text": [
      "\n",
      "\n",
      "Puntuación Jaccard para el cáncer tipo 0-Control.... 0.1905\n",
      "Puntuación Jaccard para el cáncer tipo 1-Bladder.... 0.5882\n",
      "Puntuación Jaccard para el cáncer tipo 2-Breast..... 0.2000\n",
      "Puntuación Jaccard para el cáncer tipo 3-Colorectal. 0.2143\n",
      "Puntuación Jaccard para el cáncer tipo 4-Kidney..... 0.5000\n",
      "Puntuación Jaccard para el cáncer tipo 5-Lung....... 0.6667\n",
      "Puntuación Jaccard para el cáncer tipo 6-Prostate... 0.5417\n",
      "\n",
      "Media de la puntuación de Jaccard: 0.4145\n"
     ]
    }
   ],
   "source": [
    "if M_TIPO.startswith(\"bin\"):\n",
    "    myfunc.ver_metricas(mejor_modelo, X_test, y_test)\n",
    "else:\n",
    "    myfunc.ver_metricas_multi(mejor_modelo, X_test, y_test)\n"
   ]
  },
  {
   "cell_type": "markdown",
   "id": "f04c7c57",
   "metadata": {
    "papermill": {
     "duration": 0.004397,
     "end_time": "2023-10-30T16:08:37.758845",
     "exception": false,
     "start_time": "2023-10-30T16:08:37.754448",
     "status": "completed"
    },
    "tags": []
   },
   "source": [
    "#### Finalización del notebook"
   ]
  },
  {
   "cell_type": "code",
   "execution_count": 11,
   "id": "fc511a41",
   "metadata": {
    "execution": {
     "iopub.execute_input": "2023-10-30T16:08:37.768678Z",
     "iopub.status.busy": "2023-10-30T16:08:37.768416Z",
     "iopub.status.idle": "2023-10-30T16:08:37.771670Z",
     "shell.execute_reply": "2023-10-30T16:08:37.771182Z"
    },
    "papermill": {
     "duration": 0.009691,
     "end_time": "2023-10-30T16:08:37.772823",
     "exception": false,
     "start_time": "2023-10-30T16:08:37.763132",
     "status": "completed"
    },
    "tags": []
   },
   "outputs": [
    {
     "name": "stdout",
     "output_type": "stream",
     "text": [
      "20231030T170837 : amilcar22 : INFO : Notebook ha tardado 1940 seconds\n"
     ]
    }
   ],
   "source": [
    "end_time = datetime.datetime.now()\n",
    "total_time = end_time - start_time\n",
    "myfunc.verbose(f\"Notebook ha tardado {total_time.seconds} seconds\")"
   ]
  },
  {
   "cell_type": "markdown",
   "id": "eac756b3",
   "metadata": {
    "papermill": {
     "duration": 0.004553,
     "end_time": "2023-10-30T16:08:37.781980",
     "exception": false,
     "start_time": "2023-10-30T16:08:37.777427",
     "status": "completed"
    },
    "tags": []
   },
   "source": [
    "#### Guardar métricas"
   ]
  },
  {
   "cell_type": "code",
   "execution_count": 12,
   "id": "44a65ac7",
   "metadata": {
    "execution": {
     "iopub.execute_input": "2023-10-30T16:08:37.792135Z",
     "iopub.status.busy": "2023-10-30T16:08:37.791933Z",
     "iopub.status.idle": "2023-10-30T16:08:38.601037Z",
     "shell.execute_reply": "2023-10-30T16:08:38.600424Z"
    },
    "papermill": {
     "duration": 0.81559,
     "end_time": "2023-10-30T16:08:38.602217",
     "exception": false,
     "start_time": "2023-10-30T16:08:37.786627",
     "status": "completed"
    },
    "tags": []
   },
   "outputs": [
    {
     "name": "stdout",
     "output_type": "stream",
     "text": [
      "20231030T170838 : amilcar22 : INFO : Inicio guardar métricas multiclase\n",
      "20231030T170838 : amilcar22 : INFO : Inicio leer fichero ../tfm_git/ejecuciones/metricas/metricas_6390.csv\n",
      "20231030T170838 : amilcar22 : INFO : Fin leer fichero ../tfm_git/ejecuciones/metricas/metricas_6390.csv\n"
     ]
    },
    {
     "name": "stdout",
     "output_type": "stream",
     "text": [
      "20231030T170838 : amilcar22 : INFO : Inicio guardar fichero ../tfm_git/ejecuciones/metricas/metricas_6390.csv\n",
      "20231030T170838 : amilcar22 : INFO : Fichero borrado ../tfm_git/ejecuciones/metricas/metricas_6390.csv\n",
      "20231030T170838 : amilcar22 : INFO : Fin guardar fichero ../tfm_git/ejecuciones/metricas/metricas_6390.csv\n",
      "20231030T170838 : amilcar22 : INFO : Fin guardar métricas multiclase\n",
      "20231030T170838 : amilcar22 : INFO : Inicio leer fichero ../tfm_git/ejecuciones/metricas/metricas_6390.csv\n",
      "20231030T170838 : amilcar22 : INFO : Fin leer fichero ../tfm_git/ejecuciones/metricas/metricas_6390.csv\n"
     ]
    },
    {
     "data": {
      "text/html": [
       "<div>\n",
       "<style scoped>\n",
       "    .dataframe tbody tr th:only-of-type {\n",
       "        vertical-align: middle;\n",
       "    }\n",
       "\n",
       "    .dataframe tbody tr th {\n",
       "        vertical-align: top;\n",
       "    }\n",
       "\n",
       "    .dataframe thead th {\n",
       "        text-align: right;\n",
       "    }\n",
       "</style>\n",
       "<table border=\"1\" class=\"dataframe\">\n",
       "  <thead>\n",
       "    <tr style=\"text-align: right;\">\n",
       "      <th></th>\n",
       "      <th>tipo</th>\n",
       "      <th>select</th>\n",
       "      <th>clasific</th>\n",
       "      <th>semilla</th>\n",
       "      <th>accuracy</th>\n",
       "      <th>precision</th>\n",
       "      <th>recall</th>\n",
       "      <th>f1_score</th>\n",
       "      <th>roc_auc</th>\n",
       "      <th>hostname</th>\n",
       "      <th>total_time_sec</th>\n",
       "      <th>datetime</th>\n",
       "      <th>fichero_modelo</th>\n",
       "      <th>params</th>\n",
       "      <th>shape</th>\n",
       "      <th>features</th>\n",
       "      <th>roc_auc_ovr</th>\n",
       "      <th>indices_auc</th>\n",
       "      <th>indices_jaccard</th>\n",
       "    </tr>\n",
       "  </thead>\n",
       "  <tbody>\n",
       "    <tr>\n",
       "      <th>0</th>\n",
       "      <td>mul_m</td>\n",
       "      <td>RF</td>\n",
       "      <td>LR_EN</td>\n",
       "      <td>6390</td>\n",
       "      <td>0.574713</td>\n",
       "      <td>0.567747</td>\n",
       "      <td>0.586686</td>\n",
       "      <td>0.559484</td>\n",
       "      <td>NaN</td>\n",
       "      <td>amilcar22</td>\n",
       "      <td>1940</td>\n",
       "      <td>2023-10-30 17:08:38.569259</td>\n",
       "      <td>modelo_6390_mul_m_RF_LR_EN.pkl</td>\n",
       "      <td>{'selector__max_features': 1000, 'selector__es...</td>\n",
       "      <td>X_test:(87, 18875)</td>\n",
       "      <td>['ENSG00000000938.13', 'ENSG00000004799.8', 'E...</td>\n",
       "      <td>0.839578</td>\n",
       "      <td>[0.7024647887323944, 0.8962962962962963, 0.703...</td>\n",
       "      <td>[0.19047619047619047, 0.5882352941176471, 0.2,...</td>\n",
       "    </tr>\n",
       "    <tr>\n",
       "      <th>0</th>\n",
       "      <td>mul_m</td>\n",
       "      <td>MI</td>\n",
       "      <td>SVM</td>\n",
       "      <td>6390</td>\n",
       "      <td>0.551724</td>\n",
       "      <td>0.566481</td>\n",
       "      <td>0.581495</td>\n",
       "      <td>0.562556</td>\n",
       "      <td>NaN</td>\n",
       "      <td>amilcar22</td>\n",
       "      <td>204</td>\n",
       "      <td>2023-10-30 16:36:10.790072</td>\n",
       "      <td>modelo_6390_mul_m_MI_SVM.pkl</td>\n",
       "      <td>{'selector__k': 1000, 'clasifier__kernel': 'rb...</td>\n",
       "      <td>X_test:(87, 18875)</td>\n",
       "      <td>['ENSG00000001084.13', 'ENSG00000001460.18', '...</td>\n",
       "      <td>0.847478</td>\n",
       "      <td>[0.7887323943661972, 0.8296296296296297, 0.772...</td>\n",
       "      <td>[0.20833333333333334, 0.47058823529411764, 0.2...</td>\n",
       "    </tr>\n",
       "    <tr>\n",
       "      <th>0</th>\n",
       "      <td>mul_m</td>\n",
       "      <td>MI</td>\n",
       "      <td>RF</td>\n",
       "      <td>6390</td>\n",
       "      <td>0.459770</td>\n",
       "      <td>0.415008</td>\n",
       "      <td>0.506527</td>\n",
       "      <td>0.436403</td>\n",
       "      <td>NaN</td>\n",
       "      <td>amilcar22</td>\n",
       "      <td>224</td>\n",
       "      <td>2023-10-30 16:32:40.375720</td>\n",
       "      <td>modelo_6390_mul_m_MI_RF.pkl</td>\n",
       "      <td>{'selector__k': 1000, 'clasifier__n_estimators...</td>\n",
       "      <td>X_test:(87, 18875)</td>\n",
       "      <td>['ENSG00000001084.13', 'ENSG00000001460.18', '...</td>\n",
       "      <td>0.804294</td>\n",
       "      <td>[0.6214788732394366, 0.8453703703703704, 0.777...</td>\n",
       "      <td>[0.0, 0.47368421052631576, 0.25, 0.26666666666...</td>\n",
       "    </tr>\n",
       "  </tbody>\n",
       "</table>\n",
       "</div>"
      ],
      "text/plain": [
       "    tipo select clasific  semilla  accuracy  precision    recall  f1_score  \\\n",
       "0  mul_m     RF    LR_EN     6390  0.574713   0.567747  0.586686  0.559484   \n",
       "0  mul_m     MI      SVM     6390  0.551724   0.566481  0.581495  0.562556   \n",
       "0  mul_m     MI       RF     6390  0.459770   0.415008  0.506527  0.436403   \n",
       "\n",
       "   roc_auc   hostname  total_time_sec                    datetime  \\\n",
       "0      NaN  amilcar22            1940  2023-10-30 17:08:38.569259   \n",
       "0      NaN  amilcar22             204  2023-10-30 16:36:10.790072   \n",
       "0      NaN  amilcar22             224  2023-10-30 16:32:40.375720   \n",
       "\n",
       "                   fichero_modelo  \\\n",
       "0  modelo_6390_mul_m_RF_LR_EN.pkl   \n",
       "0    modelo_6390_mul_m_MI_SVM.pkl   \n",
       "0     modelo_6390_mul_m_MI_RF.pkl   \n",
       "\n",
       "                                              params               shape  \\\n",
       "0  {'selector__max_features': 1000, 'selector__es...  X_test:(87, 18875)   \n",
       "0  {'selector__k': 1000, 'clasifier__kernel': 'rb...  X_test:(87, 18875)   \n",
       "0  {'selector__k': 1000, 'clasifier__n_estimators...  X_test:(87, 18875)   \n",
       "\n",
       "                                            features  roc_auc_ovr  \\\n",
       "0  ['ENSG00000000938.13', 'ENSG00000004799.8', 'E...     0.839578   \n",
       "0  ['ENSG00000001084.13', 'ENSG00000001460.18', '...     0.847478   \n",
       "0  ['ENSG00000001084.13', 'ENSG00000001460.18', '...     0.804294   \n",
       "\n",
       "                                         indices_auc  \\\n",
       "0  [0.7024647887323944, 0.8962962962962963, 0.703...   \n",
       "0  [0.7887323943661972, 0.8296296296296297, 0.772...   \n",
       "0  [0.6214788732394366, 0.8453703703703704, 0.777...   \n",
       "\n",
       "                                     indices_jaccard  \n",
       "0  [0.19047619047619047, 0.5882352941176471, 0.2,...  \n",
       "0  [0.20833333333333334, 0.47058823529411764, 0.2...  \n",
       "0  [0.0, 0.47368421052631576, 0.25, 0.26666666666...  "
      ]
     },
     "metadata": {},
     "output_type": "display_data"
    }
   ],
   "source": [
    "if M_TIPO.startswith(\"bin\"):\n",
    "    myfunc.save_metricas_to_csv(random_search, X_test, y_test, M_TIPO, M_SELECT, M_CLASIF, total_time, SEMILLA, myfunc.MET_DIR, M_FICHERO, fichero_modelo)\n",
    "else:\n",
    "    myfunc.save_metricas_multi_to_csv(random_search, X_test, y_test, M_TIPO, M_SELECT, M_CLASIF, total_time, SEMILLA, myfunc.MET_DIR, M_FICHERO, fichero_modelo)\n",
    "\n",
    "df1=myfunc.read_metricas_to_df(myfunc.MET_DIR,M_FICHERO)\n",
    "\n",
    "display(df1.sort_values(\"datetime\", ascending=False)[:3])\n"
   ]
  },
  {
   "cell_type": "markdown",
   "id": "edaba57d",
   "metadata": {
    "papermill": {
     "duration": 0.0051,
     "end_time": "2023-10-30T16:08:38.612665",
     "exception": false,
     "start_time": "2023-10-30T16:08:38.607565",
     "status": "completed"
    },
    "tags": []
   },
   "source": [
    "#### Guardar resultados"
   ]
  },
  {
   "cell_type": "code",
   "execution_count": 13,
   "id": "c2205a98",
   "metadata": {
    "execution": {
     "iopub.execute_input": "2023-10-30T16:08:38.625735Z",
     "iopub.status.busy": "2023-10-30T16:08:38.625244Z",
     "iopub.status.idle": "2023-10-30T16:08:38.633616Z",
     "shell.execute_reply": "2023-10-30T16:08:38.633095Z"
    },
    "papermill": {
     "duration": 0.015293,
     "end_time": "2023-10-30T16:08:38.634737",
     "exception": false,
     "start_time": "2023-10-30T16:08:38.619444",
     "status": "completed"
    },
    "tags": []
   },
   "outputs": [
    {
     "name": "stdout",
     "output_type": "stream",
     "text": [
      "20231030T170838 : amilcar22 : INFO : Inicio guardar resultados\n",
      "20231030T170838 : amilcar22 : INFO : Inicio guardar fichero ../tfm_git/ejecuciones/metricas/resultados_6390_mul_m-RF-LR_EN.csv\n",
      "20231030T170838 : amilcar22 : INFO : Fin guardar fichero ../tfm_git/ejecuciones/metricas/resultados_6390_mul_m-RF-LR_EN.csv\n",
      "20231030T170838 : amilcar22 : INFO : Fin guardar resultados\n"
     ]
    }
   ],
   "source": [
    "fichero_resultados=R_FICHERO+\"_\"+M_TIPO+\"-\"+M_SELECT+\"-\"+M_CLASIF+\".csv\"\n",
    "myfunc.save_resultados_to_csv(M_TIPO, M_SELECT, M_CLASIF,  random_search, myfunc.MET_DIR, fichero_resultados)\n"
   ]
  }
 ],
 "metadata": {
  "kernelspec": {
   "display_name": "Python 3 (ipykernel)",
   "language": "python",
   "name": "python3"
  },
  "language_info": {
   "codemirror_mode": {
    "name": "ipython",
    "version": 3
   },
   "file_extension": ".py",
   "mimetype": "text/x-python",
   "name": "python",
   "nbconvert_exporter": "python",
   "pygments_lexer": "ipython3",
   "version": "3.10.12"
  },
  "papermill": {
   "default_parameters": {},
   "duration": 1946.281339,
   "end_time": "2023-10-30T16:08:41.257154",
   "environment_variables": {},
   "exception": null,
   "input_path": "03_entrenamiento.ipynb",
   "output_path": "ejecuciones/training/03_entrenamiento.20231030T163614.param_0000_6390_mul_m_RF_LR_EN.output.ipynb",
   "parameters": {
    "MAX_ITERS": 500,
    "M_CLASIF": "LR_EN",
    "M_FICHERO": "metricas_6390",
    "M_SELECT": "RF",
    "M_TIPO": "mul_m",
    "PRE_DATA_FILE": "rows_transpose_norm_by_gene_id_with_target_num_",
    "P_FICHERO": "param_0000_6390_mul_m_RF_LR_EN.yaml",
    "R_FICHERO": "resultados_6390",
    "SCORING": "roc_auc_ovr",
    "SEMILLA": 6390,
    "eval_clasifier": "LogisticRegressionCV(random_state=SEMILLA)",
    "eval_selector": "SelectFromModel(estimator=RandomForestClassifier(random_state=SEMILLA), threshold=-np.inf)",
    "param_distributions": {
     "clasifier__l1_ratios": [
      [
       0.1
      ]
     ],
     "clasifier__max_iter": [
      10000
     ],
     "clasifier__penalty": [
      "elasticnet"
     ],
     "clasifier__solver": [
      "saga"
     ],
     "selector__estimator__n_estimators": [
      400
     ],
     "selector__max_features": [
      1000
     ]
    }
   },
   "start_time": "2023-10-30T15:36:14.975815",
   "version": "2.4.0"
  }
 },
 "nbformat": 4,
 "nbformat_minor": 5
}