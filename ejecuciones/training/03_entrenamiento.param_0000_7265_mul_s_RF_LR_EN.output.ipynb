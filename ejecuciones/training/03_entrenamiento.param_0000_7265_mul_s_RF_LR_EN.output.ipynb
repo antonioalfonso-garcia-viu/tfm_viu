{
 "cells": [
  {
   "cell_type": "markdown",
   "id": "001260c8",
   "metadata": {
    "papermill": {
     "duration": 0.005492,
     "end_time": "2023-10-30T16:39:10.941704",
     "exception": false,
     "start_time": "2023-10-30T16:39:10.936212",
     "status": "completed"
    },
    "tags": []
   },
   "source": [
    "##### Inicio"
   ]
  },
  {
   "cell_type": "markdown",
   "id": "2375fe4c",
   "metadata": {
    "papermill": {
     "duration": 0.003453,
     "end_time": "2023-10-30T16:39:10.948961",
     "exception": false,
     "start_time": "2023-10-30T16:39:10.945508",
     "status": "completed"
    },
    "tags": []
   },
   "source": [
    "#### Carga de datos"
   ]
  },
  {
   "cell_type": "code",
   "execution_count": 1,
   "id": "fcbc1ddf",
   "metadata": {
    "execution": {
     "iopub.execute_input": "2023-10-30T16:39:10.957552Z",
     "iopub.status.busy": "2023-10-30T16:39:10.956959Z",
     "iopub.status.idle": "2023-10-30T16:39:12.076891Z",
     "shell.execute_reply": "2023-10-30T16:39:12.076269Z"
    },
    "papermill": {
     "duration": 1.125746,
     "end_time": "2023-10-30T16:39:12.078310",
     "exception": false,
     "start_time": "2023-10-30T16:39:10.952564",
     "status": "completed"
    },
    "tags": []
   },
   "outputs": [
    {
     "name": "stdout",
     "output_type": "stream",
     "text": [
      "CPU_COUNT: 16; NODE: enderlab; sys.version: 3.10.11 (main, May 16 2023, 00:28:57) [GCC 11.2.0]\n",
      "LOKY_MAX_CPU_COUNT is not set.\n",
      "OMP_NUM_THREADS is not set.\n"
     ]
    }
   ],
   "source": [
    "import os\n",
    "import numpy as np\n",
    "import pandas as pd\n",
    "import datetime\n",
    "import sklearn\n",
    "import logging\n",
    "import warnings\n",
    "\n",
    "from sklearn.pipeline import Pipeline\n",
    "from sklearn.model_selection import RandomizedSearchCV, KFold, cross_val_score, train_test_split\n",
    "from sklearn.metrics import accuracy_score, confusion_matrix, classification_report, roc_auc_score\n",
    "\n",
    "#  cargar algoritmos para aprendizaje supervisado\n",
    "from sklearn.feature_selection import SelectKBest, f_classif, SelectFromModel, mutual_info_classif\n",
    "from sklearn.svm import SVC\n",
    "from sklearn.ensemble import RandomForestClassifier\n",
    "from sklearn.linear_model import LogisticRegression,LogisticRegressionCV\n",
    "\n",
    "# importar fichero con utilidades propias\n",
    "from commons import myfunctions as myfunc\n"
   ]
  },
  {
   "cell_type": "markdown",
   "id": "13311343",
   "metadata": {
    "papermill": {
     "duration": 0.003851,
     "end_time": "2023-10-30T16:39:12.086478",
     "exception": false,
     "start_time": "2023-10-30T16:39:12.082627",
     "status": "completed"
    },
    "tags": []
   },
   "source": [
    "#### Parámetros a utilizar en el entrenamiento.\n",
    "\n",
    "Se indican los 3 algoritmos de *selección de características* (eval_selector_xxx) y los 3 algoritmos para la _clasificación_ (eval_clasifier_xxx)\n",
    "\n",
    "En *param_distributions* se indicar los parámetros que utilizan los algoritmos en la función RandomSearchCV.\n",
    "\n",
    "Esta celda tiene la etiqueta **parameters** que servirá para poder lanzar los entrenamientos con la utilidad **papermill** pasándole un fichero con los parámetros. Los nuevos parámetros se situarán tras esta celda para tener prevalencia."
   ]
  },
  {
   "cell_type": "code",
   "execution_count": 2,
   "id": "0b8a8e3b",
   "metadata": {
    "execution": {
     "iopub.execute_input": "2023-10-30T16:39:12.095288Z",
     "iopub.status.busy": "2023-10-30T16:39:12.094976Z",
     "iopub.status.idle": "2023-10-30T16:39:12.103434Z",
     "shell.execute_reply": "2023-10-30T16:39:12.102797Z"
    },
    "papermill": {
     "duration": 0.01451,
     "end_time": "2023-10-30T16:39:12.104749",
     "exception": false,
     "start_time": "2023-10-30T16:39:12.090239",
     "status": "completed"
    },
    "tags": [
     "parameters"
    ]
   },
   "outputs": [
    {
     "name": "stdout",
     "output_type": "stream",
     "text": [
      "20231030T173912 : enderlab : INFO : Utilizando parámetros de mul_m\n"
     ]
    }
   ],
   "source": [
    "#  Parametros para el entrenamiento\n",
    "\n",
    "SEMILLA=        42\n",
    "M_TIPO=         \"mul_m\"\n",
    "M_SELECT=       \"MI\"\n",
    "M_CLASIF=       \"SVM\"\n",
    "R_FICHERO=      \"resultados\"\n",
    "M_FICHERO=      \"metricas\"\n",
    "PRE_DATA_FILE=  \"rows_transpose_norm_by_gene_id_with_target_num_\"\n",
    "SCORING=        \"roc_auc_ovr\" \n",
    "MAX_ITERS=      100\n",
    "\n",
    "def mutual_info_classif_state(X, y):\n",
    "    return mutual_info_classif(X, y, random_state=SEMILLA)\n",
    "\n",
    "eval_selector_mi = \"SelectKBest(score_func=mutual_info_classif_state)\"\n",
    "eval_selector_rf=  \"SelectFromModel(estimator=RandomForestClassifier(random_state=SEMILLA), threshold=-np.inf)\"\n",
    "eval_selector_anova=  \"SelectKBest(score_func=f_classif)\"\n",
    "\n",
    "eval_clasifier_svm= \"SVC(probability=True, random_state=SEMILLA)\"\n",
    "eval_clasifier_rf= \"RandomForestClassifier(random_state=SEMILLA)\"\n",
    "eval_clasifier_lr= \"LogisticRegressionCV(random_state=SEMILLA)\"\n",
    "\n",
    "if M_TIPO.startswith(\"bin_m\"):\n",
    "    myfunc.verbose(f\"Utilizando parámetros de {M_TIPO}\")\n",
    "    eval_selector = eval_selector_mi\n",
    "    eval_clasifier = eval_clasifier_svm\n",
    "\n",
    "    SEMILLA = 6578\n",
    "    M_SELECT = \"MI\"\n",
    "    M_CLASIF = \"SVM\"\n",
    "    param_distributions = {'selector__k': [1000], \n",
    "         'clasifier__kernel': ['rbf'], 'clasifier__gamma': [0.01], 'clasifier__C': [100]}\n",
    "elif M_TIPO.startswith(\"bin_s\"):\n",
    "    myfunc.verbose(f\"Utilizando parámetros de {M_TIPO}\")\n",
    "    eval_selector = eval_selector_rf\n",
    "    eval_clasifier = eval_clasifier_lr\n",
    "\n",
    "    SEMILLA = 6191\n",
    "    M_SELECT = \"RF\"\n",
    "    M_CLASIF = \"LR_L2\"\n",
    "    param_distributions = {'selector__max_features': [1000], 'selector__estimator__n_estimators': [200], \n",
    "        'clasifier__solver': ['lbfgs'], 'clasifier__penalty': ['l2'], 'clasifier__max_iter': [10000]}\n",
    "\n",
    "elif M_TIPO.startswith(\"mul_m\"):\n",
    "    myfunc.verbose(f\"Utilizando parámetros de {M_TIPO}\")\n",
    " \n",
    "    eval_selector = eval_selector_rf\n",
    "    eval_clasifier = eval_clasifier_lr\n",
    "\n",
    "    SEMILLA = 6191\n",
    "    M_SELECT = \"RF\"\n",
    "    M_CLASIF = \"LR_L2\"\n",
    "    param_distributions = {'selector__max_features': [1000], 'selector__estimator__n_estimators': [400], \n",
    "        'clasifier__solver': ['lbfgs'], 'clasifier__penalty': ['l2'], 'clasifier__max_iter': [10000]}\n",
    "\n",
    "else:\n",
    "    # M_TIPO.startswith(\"mul_s\"):\n",
    "    myfunc.verbose(f\"Utilizando parámetros de {M_TIPO}\")\n",
    "    eval_selector = eval_selector_anova\n",
    "    eval_clasifier = eval_clasifier_lr\n",
    "\n",
    "    SEMILLA = 1860\n",
    "    M_SELECT = \"ANOVA\"\n",
    "    M_CLASIF = \"LR_L2\"\n",
    "    param_distributions = {'selector__k': [1000], \n",
    "        'clasifier__solver': ['saga'], 'clasifier__penalty': ['l2'], 'clasifier__max_iter': [10000]}\n",
    "\n"
   ]
  },
  {
   "cell_type": "code",
   "execution_count": 3,
   "id": "a01a1842",
   "metadata": {
    "execution": {
     "iopub.execute_input": "2023-10-30T16:39:12.113391Z",
     "iopub.status.busy": "2023-10-30T16:39:12.112902Z",
     "iopub.status.idle": "2023-10-30T16:39:12.116929Z",
     "shell.execute_reply": "2023-10-30T16:39:12.116408Z"
    },
    "papermill": {
     "duration": 0.009455,
     "end_time": "2023-10-30T16:39:12.118131",
     "exception": false,
     "start_time": "2023-10-30T16:39:12.108676",
     "status": "completed"
    },
    "tags": [
     "injected-parameters"
    ]
   },
   "outputs": [],
   "source": [
    "# Parameters\n",
    "M_TIPO = \"mul_s\"\n",
    "M_SELECT = \"RF\"\n",
    "M_CLASIF = \"LR_EN\"\n",
    "P_FICHERO = \"param_0000_7265_mul_s_RF_LR_EN.yaml\"\n",
    "R_FICHERO = \"resultados_7265\"\n",
    "M_FICHERO = \"metricas_7265\"\n",
    "PRE_DATA_FILE = \"rows_transpose_norm_by_gene_id_with_target_num_\"\n",
    "SCORING = \"roc_auc_ovr\"\n",
    "SEMILLA = 7265\n",
    "MAX_ITERS = 500\n",
    "eval_selector = \"SelectFromModel(estimator=RandomForestClassifier(random_state=SEMILLA), threshold=-np.inf)\"\n",
    "eval_clasifier = \"LogisticRegressionCV(random_state=SEMILLA)\"\n",
    "param_distributions = {\n",
    "    \"selector__max_features\": [500],\n",
    "    \"selector__estimator__n_estimators\": [400],\n",
    "    \"clasifier__solver\": [\"saga\"],\n",
    "    \"clasifier__penalty\": [\"elasticnet\"],\n",
    "    \"clasifier__max_iter\": [10000],\n",
    "    \"clasifier__l1_ratios\": [[0.1]],\n",
    "}\n"
   ]
  },
  {
   "cell_type": "code",
   "execution_count": 4,
   "id": "e032785b",
   "metadata": {
    "execution": {
     "iopub.execute_input": "2023-10-30T16:39:12.126248Z",
     "iopub.status.busy": "2023-10-30T16:39:12.125862Z",
     "iopub.status.idle": "2023-10-30T16:39:12.129067Z",
     "shell.execute_reply": "2023-10-30T16:39:12.128553Z"
    },
    "papermill": {
     "duration": 0.008564,
     "end_time": "2023-10-30T16:39:12.130266",
     "exception": false,
     "start_time": "2023-10-30T16:39:12.121702",
     "status": "completed"
    },
    "tags": []
   },
   "outputs": [],
   "source": [
    "DATA_FILE = PRE_DATA_FILE + M_TIPO\n",
    "\n",
    "# si viene \"None\" en el parámetro max_depth, se le quitan las comillas para que no sea entendido por el algoritmo como un texto\n",
    "if \"clasifier__max_depth\" in param_distributions:\n",
    "    param_distributions['clasifier__max_depth'] = [None if x == 'None' else x for x in param_distributions['clasifier__max_depth']]"
   ]
  },
  {
   "cell_type": "markdown",
   "id": "1e6cb880",
   "metadata": {
    "papermill": {
     "duration": 0.003607,
     "end_time": "2023-10-30T16:39:12.137429",
     "exception": false,
     "start_time": "2023-10-30T16:39:12.133822",
     "status": "completed"
    },
    "tags": []
   },
   "source": [
    "Asignar los algoritmos que se utilizarán en la función RandomSearchCV"
   ]
  },
  {
   "cell_type": "code",
   "execution_count": 5,
   "id": "132c3cd4",
   "metadata": {
    "execution": {
     "iopub.execute_input": "2023-10-30T16:39:12.145581Z",
     "iopub.status.busy": "2023-10-30T16:39:12.145191Z",
     "iopub.status.idle": "2023-10-30T16:39:12.148228Z",
     "shell.execute_reply": "2023-10-30T16:39:12.147699Z"
    },
    "papermill": {
     "duration": 0.008479,
     "end_time": "2023-10-30T16:39:12.149507",
     "exception": false,
     "start_time": "2023-10-30T16:39:12.141028",
     "status": "completed"
    },
    "tags": []
   },
   "outputs": [],
   "source": [
    "algor_selector=eval(eval_selector)\n",
    "algor_clasifier=eval(eval_clasifier)"
   ]
  },
  {
   "cell_type": "markdown",
   "id": "77866268",
   "metadata": {
    "papermill": {
     "duration": 0.004583,
     "end_time": "2023-10-30T16:39:12.157690",
     "exception": false,
     "start_time": "2023-10-30T16:39:12.153107",
     "status": "completed"
    },
    "tags": []
   },
   "source": [
    "#### Comprobar el entorno y leer fichero de muestras"
   ]
  },
  {
   "cell_type": "code",
   "execution_count": 6,
   "id": "52eaba87",
   "metadata": {
    "execution": {
     "iopub.execute_input": "2023-10-30T16:39:12.166532Z",
     "iopub.status.busy": "2023-10-30T16:39:12.166162Z",
     "iopub.status.idle": "2023-10-30T16:39:12.343019Z",
     "shell.execute_reply": "2023-10-30T16:39:12.342442Z"
    },
    "papermill": {
     "duration": 0.182987,
     "end_time": "2023-10-30T16:39:12.344448",
     "exception": false,
     "start_time": "2023-10-30T16:39:12.161461",
     "status": "completed"
    },
    "tags": []
   },
   "outputs": [
    {
     "name": "stdout",
     "output_type": "stream",
     "text": [
      "20231030T173912 : enderlab : INFO : Encontrada carpeta DATA_DIR=../tfm_git/datos\n",
      "20231030T173912 : enderlab : INFO : Encontrada carpeta CFDNA_DIR=../tfm_git/datos/cfDNA_5hmC\n",
      "20231030T173912 : enderlab : INFO : Encontrada carpeta GENCODE_DIR=../tfm_git/datos/gencode\n",
      "20231030T173912 : enderlab : INFO : Encontrada carpeta H5_DIR=../tfm_git/datos/h5\n",
      "20231030T173912 : enderlab : INFO : Encontrada carpeta LOG_DIR=../tfm_git/datos/logs\n",
      "20231030T173912 : enderlab : INFO : Encontrada carpeta CSV_DIR=../tfm_git/datos/csv\n",
      "20231030T173912 : enderlab : INFO : Encontrada carpeta MODEL_DIR=../tfm_git/ejecuciones/modelos\n",
      "20231030T173912 : enderlab : INFO : Encontrada carpeta EXEC_DIR=../tfm_git/ejecuciones\n",
      "20231030T173912 : enderlab : INFO : Encontrada carpeta MET_DIR=../tfm_git/ejecuciones/metricas\n",
      "20231030T173912 : enderlab : INFO : Inicio leer fichero h5 ../tfm_git/datos/h5/rows_transpose_norm_by_gene_id_with_target_num_mul_s.h5\n",
      "20231030T173912 : enderlab : INFO : Leyendo clave /df\n"
     ]
    },
    {
     "name": "stdout",
     "output_type": "stream",
     "text": [
      "20231030T173912 : enderlab : INFO : Tamaño (259, 18876)\n",
      "20231030T173912 : enderlab : INFO : Fin leer fichero h5 ../tfm_git/datos/h5/rows_transpose_norm_by_gene_id_with_target_num_mul_s.h5\n"
     ]
    },
    {
     "data": {
      "text/plain": [
       "target\n",
       "0    37\n",
       "1    37\n",
       "2    37\n",
       "3    37\n",
       "4    37\n",
       "5    37\n",
       "6    37\n",
       "dtype: int64"
      ]
     },
     "metadata": {},
     "output_type": "display_data"
    },
    {
     "name": "stdout",
     "output_type": "stream",
     "text": [
      "Shape df: (259, 18876)\n"
     ]
    },
    {
     "name": "stdout",
     "output_type": "stream",
     "text": [
      "Shape X_train: (207, 18875)\n",
      "Shape X_test: (52, 18875)\n"
     ]
    }
   ],
   "source": [
    "start_time = datetime.datetime.now()\n",
    "\n",
    "myfunc.reset_vars()\n",
    "\n",
    "myfunc.NOTEBK_FILENAME = myfunc.get_nb_name()\n",
    "\n",
    "myfunc.check_enviroment(myfunc.DATA_DIR, myfunc.CFDNA_DIR, myfunc.GENCODE_DIR, myfunc.H5_DIR, myfunc.LOG_DIR, myfunc.CSV_DIR, myfunc.MODEL_DIR, myfunc.EXEC_DIR, myfunc.MET_DIR)\n",
    "\n",
    "# Leer fichero con las muestras\n",
    "df_t = myfunc.read_h5_to_df(DATA_FILE, myfunc.H5_DIR)\n",
    "display(df_t.groupby(\"target\").size())\n",
    "print(\"Shape df:\",df_t.shape)\n",
    "\n",
    "# Separar caracteristicas/genes de las etiquetas/tipos de cáncer\n",
    "X = df_t.iloc[:, :-1]  # Todas las columnas excepto la última\n",
    "y = df_t.iloc[:, -1]  # La última columna contiene los identificadores de los tipos de cáncer\n",
    "\n",
    "#  Crear el conjunto de datos de entrenamiento y de pruebas, y se fija la semilla para siempre coger el mismo juego de muestras\n",
    "X_train, X_test, y_train, y_test = train_test_split(X, y, test_size=0.2, shuffle=True, random_state=42)\n",
    "print(\"Shape X_train:\",X_train.shape)\n",
    "print(\"Shape X_test:\",X_test.shape)\n"
   ]
  },
  {
   "cell_type": "markdown",
   "id": "95503590",
   "metadata": {
    "papermill": {
     "duration": 0.004074,
     "end_time": "2023-10-30T16:39:12.353102",
     "exception": false,
     "start_time": "2023-10-30T16:39:12.349028",
     "status": "completed"
    },
    "tags": []
   },
   "source": [
    "#### Selección de características y clasificación."
   ]
  },
  {
   "cell_type": "code",
   "execution_count": 7,
   "id": "9a49e46c",
   "metadata": {
    "execution": {
     "iopub.execute_input": "2023-10-30T16:39:12.362698Z",
     "iopub.status.busy": "2023-10-30T16:39:12.362257Z",
     "iopub.status.idle": "2023-10-30T16:45:06.246343Z",
     "shell.execute_reply": "2023-10-30T16:45:06.245459Z"
    },
    "papermill": {
     "duration": 353.901901,
     "end_time": "2023-10-30T16:45:06.258961",
     "exception": false,
     "start_time": "2023-10-30T16:39:12.357060",
     "status": "completed"
    },
    "tags": []
   },
   "outputs": [
    {
     "name": "stdout",
     "output_type": "stream",
     "text": [
      "20231030T173912 : enderlab : INFO : Iniciando entrenamiento\n",
      "num_iter: 1 , max_iter: 1\n"
     ]
    },
    {
     "name": "stdout",
     "output_type": "stream",
     "text": [
      "Fitting 5 folds for each of 1 candidates, totalling 5 fits\n"
     ]
    },
    {
     "name": "stdout",
     "output_type": "stream",
     "text": [
      "Mejores Hiperparámetros: {'selector__max_features': 500, 'selector__estimator__n_estimators': 400, 'clasifier__solver': 'saga', 'clasifier__penalty': 'elasticnet', 'clasifier__max_iter': 10000, 'clasifier__l1_ratios': [0.1]}\n",
      "Mejor Puntuación: 0.8043\n",
      "20231030T174506 : enderlab : INFO : Fin entrenamiento\n"
     ]
    }
   ],
   "source": [
    "myfunc.verbose(\"Iniciando entrenamiento\")\n",
    "\n",
    "kf = KFold(n_splits=5, shuffle=True, random_state=SEMILLA)\n",
    "\n",
    "# Crear el pipeline para el flujo de tareas\n",
    "tasks_pipeline = Pipeline([\n",
    "    ('selector', algor_selector),\n",
    "    ('clasifier', algor_clasifier)\n",
    "])\n",
    "\n",
    "# MAX_ITERS puede limitar el número de iteraciones si son excesivas para las combinaciones de parámetros buscando un óptimo local, \n",
    "# sino funcionaría como GridSearchCV al revisar todas las cominaciones de los parámetros\n",
    "num_iteraciones = 1\n",
    "num_iteraciones = num_iteraciones * np.prod([len(elemento1) for _, elemento1 in param_distributions.items()])\n",
    "max_iteraciones = num_iteraciones if num_iteraciones <= MAX_ITERS else MAX_ITERS\n",
    "print(\"num_iter:\",num_iteraciones,\", max_iter:\",max_iteraciones)\n",
    "\n",
    "random_search = RandomizedSearchCV(\n",
    "    tasks_pipeline, \n",
    "    param_distributions, \n",
    "    n_iter=max_iteraciones,\n",
    "    scoring=SCORING,\n",
    "    cv=kf,\n",
    "    verbose=3, \n",
    "    random_state=SEMILLA, \n",
    "    n_jobs=-1\n",
    "    )\n",
    "\n",
    "# Entrenar el modelo\n",
    "random_search.fit(X_train, y_train)\n",
    "\n",
    "# Ver los mejores hiperparámetros encontrados\n",
    "print(f'Mejores Hiperparámetros: {random_search.best_params_}')\n",
    "print(f'Mejor Puntuación: {random_search.best_score_:.4f}')\n",
    "\n",
    "# Nos quedamos con el mejor modelo para ver las métricas\n",
    "mejor_modelo = random_search.best_estimator_\n",
    "\n",
    "myfunc.verbose(\"Fin entrenamiento\")"
   ]
  },
  {
   "cell_type": "markdown",
   "id": "90677f46",
   "metadata": {
    "papermill": {
     "duration": 0.00427,
     "end_time": "2023-10-30T16:45:06.267862",
     "exception": false,
     "start_time": "2023-10-30T16:45:06.263592",
     "status": "completed"
    },
    "tags": []
   },
   "source": [
    "#### Guardar modelo"
   ]
  },
  {
   "cell_type": "code",
   "execution_count": 8,
   "id": "7112502e",
   "metadata": {
    "execution": {
     "iopub.execute_input": "2023-10-30T16:45:06.278282Z",
     "iopub.status.busy": "2023-10-30T16:45:06.277731Z",
     "iopub.status.idle": "2023-10-30T16:45:06.439543Z",
     "shell.execute_reply": "2023-10-30T16:45:06.438961Z"
    },
    "papermill": {
     "duration": 0.168975,
     "end_time": "2023-10-30T16:45:06.440992",
     "exception": false,
     "start_time": "2023-10-30T16:45:06.272017",
     "status": "completed"
    },
    "tags": []
   },
   "outputs": [
    {
     "name": "stdout",
     "output_type": "stream",
     "text": [
      "20231030T174506 : enderlab : INFO : Inicio guardar fichero ../tfm_git/ejecuciones/modelos/modelo_7265_mul_s_RF_LR_EN.pkl\n",
      "20231030T174506 : enderlab : INFO : Fin guardar fichero ../tfm_git/ejecuciones/modelos/modelo_7265_mul_s_RF_LR_EN.pkl\n"
     ]
    }
   ],
   "source": [
    "fichero_modelo = str.replace(\"modelo_\"+str(SEMILLA).zfill(4)+\"_\"+M_TIPO+\"_\"+M_SELECT+\"_\"+M_CLASIF+\".pkl\", \" \", \"_\")\n",
    "\n",
    "myfunc.save_modelo(mejor_modelo, myfunc.MODEL_DIR, fichero_modelo)"
   ]
  },
  {
   "cell_type": "markdown",
   "id": "8e3b6022",
   "metadata": {
    "papermill": {
     "duration": 0.004287,
     "end_time": "2023-10-30T16:45:06.449931",
     "exception": false,
     "start_time": "2023-10-30T16:45:06.445644",
     "status": "completed"
    },
    "tags": []
   },
   "source": [
    "#### Ver resultados del las iteraciones hechas por RandomSearchCV"
   ]
  },
  {
   "cell_type": "code",
   "execution_count": 9,
   "id": "cf7d2554",
   "metadata": {
    "execution": {
     "iopub.execute_input": "2023-10-30T16:45:06.459494Z",
     "iopub.status.busy": "2023-10-30T16:45:06.458942Z",
     "iopub.status.idle": "2023-10-30T16:45:06.466400Z",
     "shell.execute_reply": "2023-10-30T16:45:06.465887Z"
    },
    "papermill": {
     "duration": 0.013532,
     "end_time": "2023-10-30T16:45:06.467558",
     "exception": false,
     "start_time": "2023-10-30T16:45:06.454026",
     "status": "completed"
    },
    "tags": []
   },
   "outputs": [
    {
     "name": "stdout",
     "output_type": "stream",
     "text": [
      "20231030T174506 : enderlab : INFO : Inicio ver resultados\n",
      "Mejores Hiperparámetros: {'selector__max_features': 500, 'selector__estimator__n_estimators': 400, 'clasifier__solver': 'saga', 'clasifier__penalty': 'elasticnet', 'clasifier__max_iter': 10000, 'clasifier__l1_ratios': [0.1]}\n",
      "Mejores puntuaciones: 0.8043 | Params: {'selector__max_features': 500, 'selector__estimator__n_estimators': 400, 'clasifier__solver': 'saga', 'clasifier__penalty': 'elasticnet', 'clasifier__max_iter': 10000, 'clasifier__l1_ratios': [0.1]}\n",
      "Media de las puntuaciones: 0.8043 | Params: {'selector__max_features': 500, 'selector__estimator__n_estimators': 400, 'clasifier__solver': 'saga', 'clasifier__penalty': 'elasticnet', 'clasifier__max_iter': 10000, 'clasifier__l1_ratios': [0.1]}\n",
      "20231030T174506 : enderlab : INFO : Fin resultados\n"
     ]
    }
   ],
   "source": [
    "myfunc.ver_resultados_search(random_search)"
   ]
  },
  {
   "cell_type": "markdown",
   "id": "495cf2a9",
   "metadata": {
    "papermill": {
     "duration": 0.004212,
     "end_time": "2023-10-30T16:45:06.475940",
     "exception": false,
     "start_time": "2023-10-30T16:45:06.471728",
     "status": "completed"
    },
    "tags": []
   },
   "source": [
    "#### Ver métricas del mejor modelo"
   ]
  },
  {
   "cell_type": "code",
   "execution_count": 10,
   "id": "ea8dd8dc",
   "metadata": {
    "execution": {
     "iopub.execute_input": "2023-10-30T16:45:06.485692Z",
     "iopub.status.busy": "2023-10-30T16:45:06.485297Z",
     "iopub.status.idle": "2023-10-30T16:45:07.576759Z",
     "shell.execute_reply": "2023-10-30T16:45:07.576170Z"
    },
    "papermill": {
     "duration": 1.097764,
     "end_time": "2023-10-30T16:45:07.578036",
     "exception": false,
     "start_time": "2023-10-30T16:45:06.480272",
     "status": "completed"
    },
    "tags": []
   },
   "outputs": [
    {
     "name": "stdout",
     "output_type": "stream",
     "text": [
      "20231030T174506 : enderlab : INFO : Inicio ver métricas multiclase\n"
     ]
    },
    {
     "name": "stdout",
     "output_type": "stream",
     "text": [
      "              precision    recall  f1-score   support\n",
      "\n",
      "           0       0.44      0.36      0.40        11\n",
      "           1       1.00      0.50      0.67         8\n",
      "           2       0.25      0.12      0.17         8\n",
      "           3       0.00      0.00      0.00         5\n",
      "           4       0.78      0.88      0.82         8\n",
      "           5       0.57      0.67      0.62         6\n",
      "           6       0.11      0.17      0.13         6\n",
      "\n",
      "    accuracy                           0.40        52\n",
      "   macro avg       0.45      0.39      0.40        52\n",
      "weighted avg       0.48      0.40      0.43        52\n",
      "\n",
      "\n",
      "\n",
      "           Exactitud: 0.403846\n",
      "   Precisión (media): 0.450680\n",
      "      Recall (media): 0.385281\n",
      "    F1-score (media): 0.400797\n",
      "\n",
      "\n",
      "AUC para el tipo de cáncer 0-Control.... 0.5588\n",
      "AUC para el tipo de cáncer 1-Bladder.... 0.7642\n",
      "AUC para el tipo de cáncer 2-Breast..... 0.6250\n",
      "AUC para el tipo de cáncer 3-Colorectal. 0.6298\n",
      "AUC para el tipo de cáncer 4-Kidney..... 0.9659\n",
      "AUC para el tipo de cáncer 5-Lung....... 0.8623\n",
      "AUC para el tipo de cáncer 6-Prostate... 0.7536\n",
      "\n",
      "Media de AUC: 0.7371\n"
     ]
    },
    {
     "data": {
      "image/png": "[encoded data removed]",
      "text/plain": [
       "<Figure size 1000x600 with 1 Axes>"
      ]
     },
     "metadata": {},
     "output_type": "display_data"
    },
    {
     "name": "stdout",
     "output_type": "stream",
     "text": [
      "\n",
      "\n"
     ]
    },
    {
     "data": {
      "image/png": "[encoded data removed]",
      "text/plain": [
       "<Figure size 800x400 with 2 Axes>"
      ]
     },
     "metadata": {},
     "output_type": "display_data"
    },
    {
     "name": "stdout",
     "output_type": "stream",
     "text": [
      "\n",
      "\n",
      "Puntuación Jaccard para el cáncer tipo 0-Control.... 0.2500\n",
      "Puntuación Jaccard para el cáncer tipo 1-Bladder.... 0.5000\n",
      "Puntuación Jaccard para el cáncer tipo 2-Breast..... 0.0909\n",
      "Puntuación Jaccard para el cáncer tipo 3-Colorectal. 0.0000\n",
      "Puntuación Jaccard para el cáncer tipo 4-Kidney..... 0.7000\n",
      "Puntuación Jaccard para el cáncer tipo 5-Lung....... 0.4444\n",
      "Puntuación Jaccard para el cáncer tipo 6-Prostate... 0.0714\n",
      "\n",
      "Media de la puntuación de Jaccard: 0.2938\n"
     ]
    }
   ],
   "source": [
    "if M_TIPO.startswith(\"bin\"):\n",
    "    myfunc.ver_metricas(mejor_modelo, X_test, y_test)\n",
    "else:\n",
    "    myfunc.ver_metricas_multi(mejor_modelo, X_test, y_test)\n"
   ]
  },
  {
   "cell_type": "markdown",
   "id": "08f783b3",
   "metadata": {
    "papermill": {
     "duration": 0.006412,
     "end_time": "2023-10-30T16:45:07.590996",
     "exception": false,
     "start_time": "2023-10-30T16:45:07.584584",
     "status": "completed"
    },
    "tags": []
   },
   "source": [
    "#### Finalización del notebook"
   ]
  },
  {
   "cell_type": "code",
   "execution_count": 11,
   "id": "2c6f3500",
   "metadata": {
    "execution": {
     "iopub.execute_input": "2023-10-30T16:45:07.604852Z",
     "iopub.status.busy": "2023-10-30T16:45:07.604252Z",
     "iopub.status.idle": "2023-10-30T16:45:07.607964Z",
     "shell.execute_reply": "2023-10-30T16:45:07.607437Z"
    },
    "papermill": {
     "duration": 0.012364,
     "end_time": "2023-10-30T16:45:07.609133",
     "exception": false,
     "start_time": "2023-10-30T16:45:07.596769",
     "status": "completed"
    },
    "tags": []
   },
   "outputs": [
    {
     "name": "stdout",
     "output_type": "stream",
     "text": [
      "20231030T174507 : enderlab : INFO : Notebook ha tardado 355 seconds\n"
     ]
    }
   ],
   "source": [
    "end_time = datetime.datetime.now()\n",
    "total_time = end_time - start_time\n",
    "myfunc.verbose(f\"Notebook ha tardado {total_time.seconds} seconds\")"
   ]
  },
  {
   "cell_type": "markdown",
   "id": "57dc2e15",
   "metadata": {
    "papermill": {
     "duration": 0.005695,
     "end_time": "2023-10-30T16:45:07.620650",
     "exception": false,
     "start_time": "2023-10-30T16:45:07.614955",
     "status": "completed"
    },
    "tags": []
   },
   "source": [
    "#### Guardar métricas"
   ]
  },
  {
   "cell_type": "code",
   "execution_count": 12,
   "id": "9a8c7ef6",
   "metadata": {
    "execution": {
     "iopub.execute_input": "2023-10-30T16:45:07.636941Z",
     "iopub.status.busy": "2023-10-30T16:45:07.636559Z",
     "iopub.status.idle": "2023-10-30T16:45:08.512214Z",
     "shell.execute_reply": "2023-10-30T16:45:08.511670Z"
    },
    "papermill": {
     "duration": 0.88704,
     "end_time": "2023-10-30T16:45:08.513525",
     "exception": false,
     "start_time": "2023-10-30T16:45:07.626485",
     "status": "completed"
    },
    "tags": []
   },
   "outputs": [
    {
     "name": "stdout",
     "output_type": "stream",
     "text": [
      "20231030T174507 : enderlab : INFO : Inicio guardar métricas multiclase\n",
      "20231030T174507 : enderlab : INFO : Inicio leer fichero ../tfm_git/ejecuciones/metricas/metricas_7265.csv\n",
      "20231030T174507 : enderlab : INFO : Fin leer fichero ../tfm_git/ejecuciones/metricas/metricas_7265.csv\n"
     ]
    },
    {
     "name": "stdout",
     "output_type": "stream",
     "text": [
      "20231030T174508 : enderlab : INFO : Inicio guardar fichero ../tfm_git/ejecuciones/metricas/metricas_7265.csv\n",
      "20231030T174508 : enderlab : INFO : Fichero borrado ../tfm_git/ejecuciones/metricas/metricas_7265.csv\n",
      "20231030T174508 : enderlab : INFO : Fin guardar fichero ../tfm_git/ejecuciones/metricas/metricas_7265.csv\n",
      "20231030T174508 : enderlab : INFO : Fin guardar métricas multiclase\n",
      "20231030T174508 : enderlab : INFO : Inicio leer fichero ../tfm_git/ejecuciones/metricas/metricas_7265.csv\n",
      "20231030T174508 : enderlab : INFO : Fin leer fichero ../tfm_git/ejecuciones/metricas/metricas_7265.csv\n"
     ]
    },
    {
     "data": {
      "text/html": [
       "<div>\n",
       "<style scoped>\n",
       "    .dataframe tbody tr th:only-of-type {\n",
       "        vertical-align: middle;\n",
       "    }\n",
       "\n",
       "    .dataframe tbody tr th {\n",
       "        vertical-align: top;\n",
       "    }\n",
       "\n",
       "    .dataframe thead th {\n",
       "        text-align: right;\n",
       "    }\n",
       "</style>\n",
       "<table border=\"1\" class=\"dataframe\">\n",
       "  <thead>\n",
       "    <tr style=\"text-align: right;\">\n",
       "      <th></th>\n",
       "      <th>tipo</th>\n",
       "      <th>select</th>\n",
       "      <th>clasific</th>\n",
       "      <th>semilla</th>\n",
       "      <th>accuracy</th>\n",
       "      <th>precision</th>\n",
       "      <th>recall</th>\n",
       "      <th>f1_score</th>\n",
       "      <th>roc_auc</th>\n",
       "      <th>hostname</th>\n",
       "      <th>total_time_sec</th>\n",
       "      <th>datetime</th>\n",
       "      <th>fichero_modelo</th>\n",
       "      <th>params</th>\n",
       "      <th>shape</th>\n",
       "      <th>features</th>\n",
       "      <th>roc_auc_ovr</th>\n",
       "      <th>indices_auc</th>\n",
       "      <th>indices_jaccard</th>\n",
       "    </tr>\n",
       "  </thead>\n",
       "  <tbody>\n",
       "    <tr>\n",
       "      <th>0</th>\n",
       "      <td>mul_s</td>\n",
       "      <td>RF</td>\n",
       "      <td>LR_EN</td>\n",
       "      <td>7265</td>\n",
       "      <td>0.403846</td>\n",
       "      <td>0.450680</td>\n",
       "      <td>0.385281</td>\n",
       "      <td>0.400797</td>\n",
       "      <td>NaN</td>\n",
       "      <td>enderlab</td>\n",
       "      <td>355</td>\n",
       "      <td>2023-10-30 17:45:08.456847</td>\n",
       "      <td>modelo_7265_mul_s_RF_LR_EN.pkl</td>\n",
       "      <td>{'selector__max_features': 500, 'selector__est...</td>\n",
       "      <td>X_test:(52, 18875)</td>\n",
       "      <td>['ENSG00000000938.13', 'ENSG00000004455.18', '...</td>\n",
       "      <td>0.737086</td>\n",
       "      <td>[0.5587583148558759, 0.7642045454545454, 0.625...</td>\n",
       "      <td>[0.25, 0.5, 0.09090909090909091, 0.0, 0.7, 0.4...</td>\n",
       "    </tr>\n",
       "    <tr>\n",
       "      <th>0</th>\n",
       "      <td>mul_s</td>\n",
       "      <td>MI</td>\n",
       "      <td>SVM</td>\n",
       "      <td>7265</td>\n",
       "      <td>0.403846</td>\n",
       "      <td>0.438889</td>\n",
       "      <td>0.416450</td>\n",
       "      <td>0.409891</td>\n",
       "      <td>NaN</td>\n",
       "      <td>enderlab</td>\n",
       "      <td>206</td>\n",
       "      <td>2023-10-30 17:39:05.382448</td>\n",
       "      <td>modelo_7265_mul_s_MI_SVM.pkl</td>\n",
       "      <td>{'selector__k': 1000, 'clasifier__kernel': 'rb...</td>\n",
       "      <td>X_test:(52, 18875)</td>\n",
       "      <td>['ENSG00000003137.9', 'ENSG00000005238.20', 'E...</td>\n",
       "      <td>0.770091</td>\n",
       "      <td>[0.5787139689578714, 0.846590909090909, 0.6704...</td>\n",
       "      <td>[0.14285714285714285, 0.4, 0.0625, 0.166666666...</td>\n",
       "    </tr>\n",
       "    <tr>\n",
       "      <th>0</th>\n",
       "      <td>mul_s</td>\n",
       "      <td>MI</td>\n",
       "      <td>RF</td>\n",
       "      <td>7265</td>\n",
       "      <td>0.384615</td>\n",
       "      <td>0.309266</td>\n",
       "      <td>0.385606</td>\n",
       "      <td>0.331389</td>\n",
       "      <td>NaN</td>\n",
       "      <td>enderlab</td>\n",
       "      <td>231</td>\n",
       "      <td>2023-10-30 17:35:31.720833</td>\n",
       "      <td>modelo_7265_mul_s_MI_RF.pkl</td>\n",
       "      <td>{'selector__k': 500, 'clasifier__n_estimators'...</td>\n",
       "      <td>X_test:(52, 18875)</td>\n",
       "      <td>['ENSG00000005513.10', 'ENSG00000006025.13', '...</td>\n",
       "      <td>0.710645</td>\n",
       "      <td>[0.5011086474501109, 0.7926136363636364, 0.647...</td>\n",
       "      <td>[0.07142857142857142, 0.35714285714285715, 0.1...</td>\n",
       "    </tr>\n",
       "  </tbody>\n",
       "</table>\n",
       "</div>"
      ],
      "text/plain": [
       "    tipo select clasific  semilla  accuracy  precision    recall  f1_score  \\\n",
       "0  mul_s     RF    LR_EN     7265  0.403846   0.450680  0.385281  0.400797   \n",
       "0  mul_s     MI      SVM     7265  0.403846   0.438889  0.416450  0.409891   \n",
       "0  mul_s     MI       RF     7265  0.384615   0.309266  0.385606  0.331389   \n",
       "\n",
       "   roc_auc  hostname  total_time_sec                    datetime  \\\n",
       "0      NaN  enderlab             355  2023-10-30 17:45:08.456847   \n",
       "0      NaN  enderlab             206  2023-10-30 17:39:05.382448   \n",
       "0      NaN  enderlab             231  2023-10-30 17:35:31.720833   \n",
       "\n",
       "                   fichero_modelo  \\\n",
       "0  modelo_7265_mul_s_RF_LR_EN.pkl   \n",
       "0    modelo_7265_mul_s_MI_SVM.pkl   \n",
       "0     modelo_7265_mul_s_MI_RF.pkl   \n",
       "\n",
       "                                              params               shape  \\\n",
       "0  {'selector__max_features': 500, 'selector__est...  X_test:(52, 18875)   \n",
       "0  {'selector__k': 1000, 'clasifier__kernel': 'rb...  X_test:(52, 18875)   \n",
       "0  {'selector__k': 500, 'clasifier__n_estimators'...  X_test:(52, 18875)   \n",
       "\n",
       "                                            features  roc_auc_ovr  \\\n",
       "0  ['ENSG00000000938.13', 'ENSG00000004455.18', '...     0.737086   \n",
       "0  ['ENSG00000003137.9', 'ENSG00000005238.20', 'E...     0.770091   \n",
       "0  ['ENSG00000005513.10', 'ENSG00000006025.13', '...     0.710645   \n",
       "\n",
       "                                         indices_auc  \\\n",
       "0  [0.5587583148558759, 0.7642045454545454, 0.625...   \n",
       "0  [0.5787139689578714, 0.846590909090909, 0.6704...   \n",
       "0  [0.5011086474501109, 0.7926136363636364, 0.647...   \n",
       "\n",
       "                                     indices_jaccard  \n",
       "0  [0.25, 0.5, 0.09090909090909091, 0.0, 0.7, 0.4...  \n",
       "0  [0.14285714285714285, 0.4, 0.0625, 0.166666666...  \n",
       "0  [0.07142857142857142, 0.35714285714285715, 0.1...  "
      ]
     },
     "metadata": {},
     "output_type": "display_data"
    }
   ],
   "source": [
    "if M_TIPO.startswith(\"bin\"):\n",
    "    myfunc.save_metricas_to_csv(random_search, X_test, y_test, M_TIPO, M_SELECT, M_CLASIF, total_time, SEMILLA, myfunc.MET_DIR, M_FICHERO, fichero_modelo)\n",
    "else:\n",
    "    myfunc.save_metricas_multi_to_csv(random_search, X_test, y_test, M_TIPO, M_SELECT, M_CLASIF, total_time, SEMILLA, myfunc.MET_DIR, M_FICHERO, fichero_modelo)\n",
    "\n",
    "df1=myfunc.read_metricas_to_df(myfunc.MET_DIR,M_FICHERO)\n",
    "\n",
    "display(df1.sort_values(\"datetime\", ascending=False)[:3])\n"
   ]
  },
  {
   "cell_type": "markdown",
   "id": "9e8b820d",
   "metadata": {
    "papermill": {
     "duration": 0.006371,
     "end_time": "2023-10-30T16:45:08.526603",
     "exception": false,
     "start_time": "2023-10-30T16:45:08.520232",
     "status": "completed"
    },
    "tags": []
   },
   "source": [
    "#### Guardar resultados"
   ]
  },
  {
   "cell_type": "code",
   "execution_count": 13,
   "id": "4664bd85",
   "metadata": {
    "execution": {
     "iopub.execute_input": "2023-10-30T16:45:08.541572Z",
     "iopub.status.busy": "2023-10-30T16:45:08.541321Z",
     "iopub.status.idle": "2023-10-30T16:45:08.550564Z",
     "shell.execute_reply": "2023-10-30T16:45:08.550044Z"
    },
    "papermill": {
     "duration": 0.017362,
     "end_time": "2023-10-30T16:45:08.551753",
     "exception": false,
     "start_time": "2023-10-30T16:45:08.534391",
     "status": "completed"
    },
    "tags": []
   },
   "outputs": [
    {
     "name": "stdout",
     "output_type": "stream",
     "text": [
      "20231030T174508 : enderlab : INFO : Inicio guardar resultados\n",
      "20231030T174508 : enderlab : INFO : Inicio guardar fichero ../tfm_git/ejecuciones/metricas/resultados_7265_mul_s-RF-LR_EN.csv\n",
      "20231030T174508 : enderlab : INFO : Fin guardar fichero ../tfm_git/ejecuciones/metricas/resultados_7265_mul_s-RF-LR_EN.csv\n",
      "20231030T174508 : enderlab : INFO : Fin guardar resultados\n"
     ]
    }
   ],
   "source": [
    "fichero_resultados=R_FICHERO+\"_\"+M_TIPO+\"-\"+M_SELECT+\"-\"+M_CLASIF+\".csv\"\n",
    "myfunc.save_resultados_to_csv(M_TIPO, M_SELECT, M_CLASIF,  random_search, myfunc.MET_DIR, fichero_resultados)\n"
   ]
  }
 ],
 "metadata": {
  "kernelspec": {
   "display_name": "Python 3 (ipykernel)",
   "language": "python",
   "name": "python3"
  },
  "language_info": {
   "codemirror_mode": {
    "name": "ipython",
    "version": 3
   },
   "file_extension": ".py",
   "mimetype": "text/x-python",
   "name": "python",
   "nbconvert_exporter": "python",
   "pygments_lexer": "ipython3",
   "version": "3.10.11"
  },
  "papermill": {
   "default_parameters": {},
   "duration": 361.429625,
   "end_time": "2023-10-30T16:45:11.176604",
   "environment_variables": {},
   "exception": null,
   "input_path": "03_entrenamiento.ipynb",
   "output_path": "ejecuciones/training/03_entrenamiento.20231030T173909.param_0000_7265_mul_s_RF_LR_EN.output.ipynb",
   "parameters": {
    "MAX_ITERS": 500,
    "M_CLASIF": "LR_EN",
    "M_FICHERO": "metricas_7265",
    "M_SELECT": "RF",
    "M_TIPO": "mul_s",
    "PRE_DATA_FILE": "rows_transpose_norm_by_gene_id_with_target_num_",
    "P_FICHERO": "param_0000_7265_mul_s_RF_LR_EN.yaml",
    "R_FICHERO": "resultados_7265",
    "SCORING": "roc_auc_ovr",
    "SEMILLA": 7265,
    "eval_clasifier": "LogisticRegressionCV(random_state=SEMILLA)",
    "eval_selector": "SelectFromModel(estimator=RandomForestClassifier(random_state=SEMILLA), threshold=-np.inf)",
    "param_distributions": {
     "clasifier__l1_ratios": [
      [
       0.1
      ]
     ],
     "clasifier__max_iter": [
      10000
     ],
     "clasifier__penalty": [
      "elasticnet"
     ],
     "clasifier__solver": [
      "saga"
     ],
     "selector__estimator__n_estimators": [
      400
     ],
     "selector__max_features": [
      500
     ]
    }
   },
   "start_time": "2023-10-30T16:39:09.746979",
   "version": "2.4.0"
  }
 },
 "nbformat": 4,
 "nbformat_minor": 5
}