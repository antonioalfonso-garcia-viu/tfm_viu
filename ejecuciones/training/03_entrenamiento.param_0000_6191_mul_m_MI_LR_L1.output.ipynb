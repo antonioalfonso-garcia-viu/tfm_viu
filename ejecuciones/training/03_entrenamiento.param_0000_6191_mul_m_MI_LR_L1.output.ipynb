{
 "cells": [
  {
   "cell_type": "markdown",
   "id": "f55cf5c6",
   "metadata": {
    "papermill": {
     "duration": 0.004201,
     "end_time": "2023-10-30T07:46:48.457728",
     "exception": false,
     "start_time": "2023-10-30T07:46:48.453527",
     "status": "completed"
    },
    "tags": []
   },
   "source": [
    "##### Inicio"
   ]
  },
  {
   "cell_type": "markdown",
   "id": "c5ed636f",
   "metadata": {
    "papermill": {
     "duration": 0.00337,
     "end_time": "2023-10-30T07:46:48.464784",
     "exception": false,
     "start_time": "2023-10-30T07:46:48.461414",
     "status": "completed"
    },
    "tags": []
   },
   "source": [
    "#### Carga de datos"
   ]
  },
  {
   "cell_type": "code",
   "execution_count": 1,
   "id": "995cd7d6",
   "metadata": {
    "execution": {
     "iopub.execute_input": "2023-10-30T07:46:48.472891Z",
     "iopub.status.busy": "2023-10-30T07:46:48.472660Z",
     "iopub.status.idle": "2023-10-30T07:46:49.341204Z",
     "shell.execute_reply": "2023-10-30T07:46:49.340629Z"
    },
    "papermill": {
     "duration": 0.874291,
     "end_time": "2023-10-30T07:46:49.342552",
     "exception": false,
     "start_time": "2023-10-30T07:46:48.468261",
     "status": "completed"
    },
    "tags": []
   },
   "outputs": [
    {
     "name": "stdout",
     "output_type": "stream",
     "text": [
      "CPU_COUNT: 8; NODE: amilcar22; sys.version: 3.10.12 (main, Jul  5 2023, 19:22:19) [GCC 11.2.0]\n",
      "LOKY_MAX_CPU_COUNT: 6\n",
      "OMP_NUM_THREADS: 2\n"
     ]
    }
   ],
   "source": [
    "import os\n",
    "import numpy as np\n",
    "import pandas as pd\n",
    "import datetime\n",
    "import sklearn\n",
    "import logging\n",
    "import warnings\n",
    "\n",
    "from sklearn.pipeline import Pipeline\n",
    "from sklearn.model_selection import RandomizedSearchCV, KFold, cross_val_score, train_test_split\n",
    "from sklearn.metrics import accuracy_score, confusion_matrix, classification_report, roc_auc_score\n",
    "\n",
    "#  cargar algoritmos para aprendizaje supervisado\n",
    "from sklearn.feature_selection import SelectKBest, f_classif, SelectFromModel, mutual_info_classif\n",
    "from sklearn.svm import SVC\n",
    "from sklearn.ensemble import RandomForestClassifier\n",
    "from sklearn.linear_model import LogisticRegression,LogisticRegressionCV\n",
    "\n",
    "# importar fichero con utilidades propias\n",
    "from commons import myfunctions as myfunc\n"
   ]
  },
  {
   "cell_type": "markdown",
   "id": "5d78e82e",
   "metadata": {
    "papermill": {
     "duration": 0.002479,
     "end_time": "2023-10-30T07:46:49.347921",
     "exception": false,
     "start_time": "2023-10-30T07:46:49.345442",
     "status": "completed"
    },
    "tags": []
   },
   "source": [
    "#### Parámetros a utilizar en el entrenamiento.\n",
    "\n",
    "Se indican los 3 algoritmos de *selección de características* (eval_selector_xxx) y los 3 algoritmos para la _clasificación_ (eval_clasifier_xxx)\n",
    "\n",
    "En *param_distributions* se indicar los parámetros que utilizan los algoritmos en la función RandomSearchCV.\n",
    "\n",
    "Esta celda tiene la etiqueta **parameters** que servirá para poder lanzar los entrenamientos con la utilidad **papermill** pasándole un fichero con los parámetros. Los nuevos parámetros se situarán tras esta celda para tener prevalencia."
   ]
  },
  {
   "cell_type": "code",
   "execution_count": 2,
   "id": "7b52c9ba",
   "metadata": {
    "execution": {
     "iopub.execute_input": "2023-10-30T07:46:49.353936Z",
     "iopub.status.busy": "2023-10-30T07:46:49.353649Z",
     "iopub.status.idle": "2023-10-30T07:46:49.360279Z",
     "shell.execute_reply": "2023-10-30T07:46:49.359821Z"
    },
    "papermill": {
     "duration": 0.01122,
     "end_time": "2023-10-30T07:46:49.361540",
     "exception": false,
     "start_time": "2023-10-30T07:46:49.350320",
     "status": "completed"
    },
    "tags": [
     "parameters"
    ]
   },
   "outputs": [
    {
     "name": "stdout",
     "output_type": "stream",
     "text": [
      "20231030T084649 : amilcar22 : INFO : Utilizando parámetros de mul_m\n"
     ]
    }
   ],
   "source": [
    "#  Parametros para el entrenamiento\n",
    "\n",
    "SEMILLA=        42\n",
    "M_TIPO=         \"mul_m\"\n",
    "M_SELECT=       \"MI\"\n",
    "M_CLASIF=       \"SVM\"\n",
    "R_FICHERO=      \"resultados\"\n",
    "M_FICHERO=      \"metricas\"\n",
    "PRE_DATA_FILE=  \"rows_transpose_norm_by_gene_id_with_target_num_\"\n",
    "SCORING=        \"roc_auc_ovr\" \n",
    "MAX_ITERS=      100\n",
    "\n",
    "def mutual_info_classif_state(X, y):\n",
    "    return mutual_info_classif(X, y, random_state=SEMILLA)\n",
    "\n",
    "eval_selector_mi = \"SelectKBest(score_func=mutual_info_classif_state)\"\n",
    "eval_selector_rf=  \"SelectFromModel(estimator=RandomForestClassifier(random_state=SEMILLA), threshold=-np.inf)\"\n",
    "eval_selector_anova=  \"SelectKBest(score_func=f_classif)\"\n",
    "\n",
    "eval_clasifier_svm= \"SVC(probability=True, random_state=SEMILLA)\"\n",
    "eval_clasifier_rf= \"RandomForestClassifier(random_state=SEMILLA)\"\n",
    "eval_clasifier_lr= \"LogisticRegressionCV(random_state=SEMILLA)\"\n",
    "\n",
    "if M_TIPO.startswith(\"bin_m\"):\n",
    "    myfunc.verbose(f\"Utilizando parámetros de {M_TIPO}\")\n",
    "    eval_selector = eval_selector_mi\n",
    "    eval_clasifier = eval_clasifier_svm\n",
    "\n",
    "    SEMILLA = 6578\n",
    "    M_SELECT = \"MI\"\n",
    "    M_CLASIF = \"SVM\"\n",
    "    param_distributions = {'selector__k': [1000], \n",
    "         'clasifier__kernel': ['rbf'], 'clasifier__gamma': [0.01], 'clasifier__C': [100]}\n",
    "elif M_TIPO.startswith(\"bin_s\"):\n",
    "    myfunc.verbose(f\"Utilizando parámetros de {M_TIPO}\")\n",
    "    eval_selector = eval_selector_rf\n",
    "    eval_clasifier = eval_clasifier_lr\n",
    "\n",
    "    SEMILLA = 6191\n",
    "    M_SELECT = \"RF\"\n",
    "    M_CLASIF = \"LR_L2\"\n",
    "    param_distributions = {'selector__max_features': [1000], 'selector__estimator__n_estimators': [200], \n",
    "        'clasifier__solver': ['lbfgs'], 'clasifier__penalty': ['l2'], 'clasifier__max_iter': [10000]}\n",
    "\n",
    "elif M_TIPO.startswith(\"mul_m\"):\n",
    "    myfunc.verbose(f\"Utilizando parámetros de {M_TIPO}\")\n",
    " \n",
    "    eval_selector = eval_selector_rf\n",
    "    eval_clasifier = eval_clasifier_lr\n",
    "\n",
    "    SEMILLA = 6191\n",
    "    M_SELECT = \"RF\"\n",
    "    M_CLASIF = \"LR_L2\"\n",
    "    param_distributions = {'selector__max_features': [1000], 'selector__estimator__n_estimators': [400], \n",
    "        'clasifier__solver': ['lbfgs'], 'clasifier__penalty': ['l2'], 'clasifier__max_iter': [10000]}\n",
    "\n",
    "else:\n",
    "    # M_TIPO.startswith(\"mul_s\"):\n",
    "    myfunc.verbose(f\"Utilizando parámetros de {M_TIPO}\")\n",
    "    eval_selector = eval_selector_anova\n",
    "    eval_clasifier = eval_clasifier_lr\n",
    "\n",
    "    SEMILLA = 1860\n",
    "    M_SELECT = \"ANOVA\"\n",
    "    M_CLASIF = \"LR_L2\"\n",
    "    param_distributions = {'selector__k': [1000], \n",
    "        'clasifier__solver': ['saga'], 'clasifier__penalty': ['l2'], 'clasifier__max_iter': [10000]}\n",
    "\n"
   ]
  },
  {
   "cell_type": "code",
   "execution_count": 3,
   "id": "8ff4910e",
   "metadata": {
    "execution": {
     "iopub.execute_input": "2023-10-30T07:46:49.367412Z",
     "iopub.status.busy": "2023-10-30T07:46:49.367222Z",
     "iopub.status.idle": "2023-10-30T07:46:49.370632Z",
     "shell.execute_reply": "2023-10-30T07:46:49.370159Z"
    },
    "papermill": {
     "duration": 0.007702,
     "end_time": "2023-10-30T07:46:49.371856",
     "exception": false,
     "start_time": "2023-10-30T07:46:49.364154",
     "status": "completed"
    },
    "tags": [
     "injected-parameters"
    ]
   },
   "outputs": [],
   "source": [
    "# Parameters\n",
    "M_TIPO = \"mul_m\"\n",
    "M_SELECT = \"MI\"\n",
    "M_CLASIF = \"LR_L1\"\n",
    "P_FICHERO = \"param_0000_6191_mul_m_MI_LR_L1.yaml\"\n",
    "R_FICHERO = \"resultados_6191\"\n",
    "M_FICHERO = \"metricas_6191\"\n",
    "PRE_DATA_FILE = \"rows_transpose_norm_by_gene_id_with_target_num_\"\n",
    "SCORING = \"roc_auc_ovr\"\n",
    "SEMILLA = 6191\n",
    "MAX_ITERS = 500\n",
    "eval_selector = \"SelectKBest(score_func=mutual_info_classif_state)\"\n",
    "eval_clasifier = \"LogisticRegressionCV(random_state=SEMILLA)\"\n",
    "param_distributions = {\n",
    "    \"selector__k\": [1000],\n",
    "    \"clasifier__solver\": [\"saga\"],\n",
    "    \"clasifier__penalty\": [\"l1\"],\n",
    "    \"clasifier__max_iter\": [10000],\n",
    "}\n"
   ]
  },
  {
   "cell_type": "code",
   "execution_count": 4,
   "id": "0fab73b1",
   "metadata": {
    "execution": {
     "iopub.execute_input": "2023-10-30T07:46:49.377983Z",
     "iopub.status.busy": "2023-10-30T07:46:49.377798Z",
     "iopub.status.idle": "2023-10-30T07:46:49.380761Z",
     "shell.execute_reply": "2023-10-30T07:46:49.380290Z"
    },
    "papermill": {
     "duration": 0.007404,
     "end_time": "2023-10-30T07:46:49.381960",
     "exception": false,
     "start_time": "2023-10-30T07:46:49.374556",
     "status": "completed"
    },
    "tags": []
   },
   "outputs": [],
   "source": [
    "DATA_FILE = PRE_DATA_FILE + M_TIPO\n",
    "\n",
    "# si viene \"None\" en el parámetro max_depth, se le quitan las comillas para que no sea entendido por el algoritmo como un texto\n",
    "if \"clasifier__max_depth\" in param_distributions:\n",
    "    param_distributions['clasifier__max_depth'] = [None if x == 'None' else x for x in param_distributions['clasifier__max_depth']]"
   ]
  },
  {
   "cell_type": "markdown",
   "id": "175e1e74",
   "metadata": {
    "papermill": {
     "duration": 0.002632,
     "end_time": "2023-10-30T07:46:49.387313",
     "exception": false,
     "start_time": "2023-10-30T07:46:49.384681",
     "status": "completed"
    },
    "tags": []
   },
   "source": [
    "Asignar los algoritmos que se utilizarán en la función RandomSearchCV"
   ]
  },
  {
   "cell_type": "code",
   "execution_count": 5,
   "id": "6201806c",
   "metadata": {
    "execution": {
     "iopub.execute_input": "2023-10-30T07:46:49.393227Z",
     "iopub.status.busy": "2023-10-30T07:46:49.393056Z",
     "iopub.status.idle": "2023-10-30T07:46:49.395695Z",
     "shell.execute_reply": "2023-10-30T07:46:49.395262Z"
    },
    "papermill": {
     "duration": 0.006914,
     "end_time": "2023-10-30T07:46:49.396842",
     "exception": false,
     "start_time": "2023-10-30T07:46:49.389928",
     "status": "completed"
    },
    "tags": []
   },
   "outputs": [],
   "source": [
    "algor_selector=eval(eval_selector)\n",
    "algor_clasifier=eval(eval_clasifier)"
   ]
  },
  {
   "cell_type": "markdown",
   "id": "ffede5ad",
   "metadata": {
    "papermill": {
     "duration": 0.002661,
     "end_time": "2023-10-30T07:46:49.402326",
     "exception": false,
     "start_time": "2023-10-30T07:46:49.399665",
     "status": "completed"
    },
    "tags": []
   },
   "source": [
    "#### Comprobar el entorno y leer fichero de muestras"
   ]
  },
  {
   "cell_type": "code",
   "execution_count": 6,
   "id": "53f5ce5b",
   "metadata": {
    "execution": {
     "iopub.execute_input": "2023-10-30T07:46:49.408163Z",
     "iopub.status.busy": "2023-10-30T07:46:49.407977Z",
     "iopub.status.idle": "2023-10-30T07:46:49.560621Z",
     "shell.execute_reply": "2023-10-30T07:46:49.560122Z"
    },
    "papermill": {
     "duration": 0.156989,
     "end_time": "2023-10-30T07:46:49.561894",
     "exception": false,
     "start_time": "2023-10-30T07:46:49.404905",
     "status": "completed"
    },
    "tags": []
   },
   "outputs": [
    {
     "name": "stdout",
     "output_type": "stream",
     "text": [
      "20231030T084649 : amilcar22 : INFO : Encontrada carpeta DATA_DIR=../tfm_git/datos\n",
      "20231030T084649 : amilcar22 : INFO : Encontrada carpeta CFDNA_DIR=../tfm_git/datos/cfDNA_5hmC\n",
      "20231030T084649 : amilcar22 : INFO : Encontrada carpeta GENCODE_DIR=../tfm_git/datos/gencode\n",
      "20231030T084649 : amilcar22 : INFO : Encontrada carpeta H5_DIR=../tfm_git/datos/h5\n",
      "20231030T084649 : amilcar22 : INFO : Encontrada carpeta LOG_DIR=../tfm_git/datos/logs\n",
      "20231030T084649 : amilcar22 : INFO : Encontrada carpeta CSV_DIR=../tfm_git/datos/csv\n",
      "20231030T084649 : amilcar22 : INFO : Encontrada carpeta MODEL_DIR=../tfm_git/ejecuciones/modelos\n",
      "20231030T084649 : amilcar22 : INFO : Encontrada carpeta EXEC_DIR=../tfm_git/ejecuciones\n",
      "20231030T084649 : amilcar22 : INFO : Encontrada carpeta MET_DIR=../tfm_git/ejecuciones/metricas\n",
      "20231030T084649 : amilcar22 : INFO : Inicio leer fichero h5 ../tfm_git/datos/h5/rows_transpose_norm_by_gene_id_with_target_num_mul_m.h5\n",
      "20231030T084649 : amilcar22 : INFO : Leyendo clave /df\n",
      "20231030T084649 : amilcar22 : INFO : Tamaño (434, 18876)\n",
      "20231030T084649 : amilcar22 : INFO : Fin leer fichero h5 ../tfm_git/datos/h5/rows_transpose_norm_by_gene_id_with_target_num_mul_m.h5\n"
     ]
    },
    {
     "data": {
      "text/plain": [
       "target\n",
       "0    62\n",
       "1    62\n",
       "2    62\n",
       "3    62\n",
       "4    62\n",
       "5    62\n",
       "6    62\n",
       "dtype: int64"
      ]
     },
     "metadata": {},
     "output_type": "display_data"
    },
    {
     "name": "stdout",
     "output_type": "stream",
     "text": [
      "Shape df: (434, 18876)\n"
     ]
    },
    {
     "name": "stdout",
     "output_type": "stream",
     "text": [
      "Shape X_train: (347, 18875)\n",
      "Shape X_test: (87, 18875)\n"
     ]
    }
   ],
   "source": [
    "start_time = datetime.datetime.now()\n",
    "\n",
    "myfunc.reset_vars()\n",
    "\n",
    "myfunc.NOTEBK_FILENAME = myfunc.get_nb_name()\n",
    "\n",
    "myfunc.check_enviroment(myfunc.DATA_DIR, myfunc.CFDNA_DIR, myfunc.GENCODE_DIR, myfunc.H5_DIR, myfunc.LOG_DIR, myfunc.CSV_DIR, myfunc.MODEL_DIR, myfunc.EXEC_DIR, myfunc.MET_DIR)\n",
    "\n",
    "# Leer fichero con las muestras\n",
    "df_t = myfunc.read_h5_to_df(DATA_FILE, myfunc.H5_DIR)\n",
    "display(df_t.groupby(\"target\").size())\n",
    "print(\"Shape df:\",df_t.shape)\n",
    "\n",
    "# Separar caracteristicas/genes de las etiquetas/tipos de cáncer\n",
    "X = df_t.iloc[:, :-1]  # Todas las columnas excepto la última\n",
    "y = df_t.iloc[:, -1]  # La última columna contiene los identificadores de los tipos de cáncer\n",
    "\n",
    "#  Crear el conjunto de datos de entrenamiento y de pruebas, y se fija la semilla para siempre coger el mismo juego de muestras\n",
    "X_train, X_test, y_train, y_test = train_test_split(X, y, test_size=0.2, shuffle=True, random_state=42)\n",
    "print(\"Shape X_train:\",X_train.shape)\n",
    "print(\"Shape X_test:\",X_test.shape)\n"
   ]
  },
  {
   "cell_type": "markdown",
   "id": "c1e96aff",
   "metadata": {
    "papermill": {
     "duration": 0.002718,
     "end_time": "2023-10-30T07:46:49.567855",
     "exception": false,
     "start_time": "2023-10-30T07:46:49.565137",
     "status": "completed"
    },
    "tags": []
   },
   "source": [
    "#### Selección de características y clasificación."
   ]
  },
  {
   "cell_type": "code",
   "execution_count": 7,
   "id": "d2ee7a74",
   "metadata": {
    "execution": {
     "iopub.execute_input": "2023-10-30T07:46:49.574346Z",
     "iopub.status.busy": "2023-10-30T07:46:49.574140Z",
     "iopub.status.idle": "2023-10-30T08:20:14.291381Z",
     "shell.execute_reply": "2023-10-30T08:20:14.290804Z"
    },
    "papermill": {
     "duration": 2004.72474,
     "end_time": "2023-10-30T08:20:14.295458",
     "exception": false,
     "start_time": "2023-10-30T07:46:49.570718",
     "status": "completed"
    },
    "tags": []
   },
   "outputs": [
    {
     "name": "stdout",
     "output_type": "stream",
     "text": [
      "20231030T084649 : amilcar22 : INFO : Iniciando entrenamiento\n",
      "num_iter: 1 , max_iter: 1\n",
      "Fitting 5 folds for each of 1 candidates, totalling 5 fits\n"
     ]
    },
    {
     "name": "stdout",
     "output_type": "stream",
     "text": [
      "[CV 1/5] END clasifier__max_iter=10000, clasifier__penalty=l1, clasifier__solver=saga, selector__k=1000;, score=0.861 total time=11.9min\n"
     ]
    },
    {
     "name": "stdout",
     "output_type": "stream",
     "text": [
      "[CV 3/5] END clasifier__max_iter=10000, clasifier__penalty=l1, clasifier__solver=saga, selector__k=1000;, score=0.881 total time=14.2min\n"
     ]
    },
    {
     "name": "stdout",
     "output_type": "stream",
     "text": [
      "[CV 4/5] END clasifier__max_iter=10000, clasifier__penalty=l1, clasifier__solver=saga, selector__k=1000;, score=0.853 total time=16.8min\n"
     ]
    },
    {
     "name": "stdout",
     "output_type": "stream",
     "text": [
      "[CV 5/5] END clasifier__max_iter=10000, clasifier__penalty=l1, clasifier__solver=saga, selector__k=1000;, score=0.909 total time=18.0min\n"
     ]
    },
    {
     "name": "stdout",
     "output_type": "stream",
     "text": [
      "[CV 2/5] END clasifier__max_iter=10000, clasifier__penalty=l1, clasifier__solver=saga, selector__k=1000;, score=0.856 total time=18.2min\n"
     ]
    },
    {
     "name": "stdout",
     "output_type": "stream",
     "text": [
      "Mejores Hiperparámetros: {'selector__k': 1000, 'clasifier__solver': 'saga', 'clasifier__penalty': 'l1', 'clasifier__max_iter': 10000}\n",
      "Mejor Puntuación: 0.8722\n",
      "20231030T092014 : amilcar22 : INFO : Fin entrenamiento\n"
     ]
    }
   ],
   "source": [
    "myfunc.verbose(\"Iniciando entrenamiento\")\n",
    "\n",
    "kf = KFold(n_splits=5, shuffle=True, random_state=SEMILLA)\n",
    "\n",
    "# Crear el pipeline para el flujo de tareas\n",
    "tasks_pipeline = Pipeline([\n",
    "    ('selector', algor_selector),\n",
    "    ('clasifier', algor_clasifier)\n",
    "])\n",
    "\n",
    "# MAX_ITERS puede limitar el número de iteraciones si son excesivas para las combinaciones de parámetros buscando un óptimo local, \n",
    "# sino funcionaría como GridSearchCV al revisar todas las cominaciones de los parámetros\n",
    "num_iteraciones = 1\n",
    "num_iteraciones = num_iteraciones * np.prod([len(elemento1) for _, elemento1 in param_distributions.items()])\n",
    "max_iteraciones = num_iteraciones if num_iteraciones <= MAX_ITERS else MAX_ITERS\n",
    "print(\"num_iter:\",num_iteraciones,\", max_iter:\",max_iteraciones)\n",
    "\n",
    "random_search = RandomizedSearchCV(\n",
    "    tasks_pipeline, \n",
    "    param_distributions, \n",
    "    n_iter=max_iteraciones,\n",
    "    scoring=SCORING,\n",
    "    cv=kf,\n",
    "    verbose=3, \n",
    "    random_state=SEMILLA, \n",
    "    n_jobs=-1\n",
    "    )\n",
    "\n",
    "# Entrenar el modelo\n",
    "random_search.fit(X_train, y_train)\n",
    "\n",
    "# Ver los mejores hiperparámetros encontrados\n",
    "print(f'Mejores Hiperparámetros: {random_search.best_params_}')\n",
    "print(f'Mejor Puntuación: {random_search.best_score_:.4f}')\n",
    "\n",
    "# Nos quedamos con el mejor modelo para ver las métricas\n",
    "mejor_modelo = random_search.best_estimator_\n",
    "\n",
    "myfunc.verbose(\"Fin entrenamiento\")"
   ]
  },
  {
   "cell_type": "markdown",
   "id": "f8345eec",
   "metadata": {
    "papermill": {
     "duration": 0.003159,
     "end_time": "2023-10-30T08:20:14.302046",
     "exception": false,
     "start_time": "2023-10-30T08:20:14.298887",
     "status": "completed"
    },
    "tags": []
   },
   "source": [
    "#### Guardar modelo"
   ]
  },
  {
   "cell_type": "code",
   "execution_count": 8,
   "id": "d5e240b9",
   "metadata": {
    "execution": {
     "iopub.execute_input": "2023-10-30T08:20:14.309129Z",
     "iopub.status.busy": "2023-10-30T08:20:14.308928Z",
     "iopub.status.idle": "2023-10-30T08:20:14.319046Z",
     "shell.execute_reply": "2023-10-30T08:20:14.318447Z"
    },
    "papermill": {
     "duration": 0.015291,
     "end_time": "2023-10-30T08:20:14.320446",
     "exception": false,
     "start_time": "2023-10-30T08:20:14.305155",
     "status": "completed"
    },
    "tags": []
   },
   "outputs": [
    {
     "name": "stdout",
     "output_type": "stream",
     "text": [
      "20231030T092014 : amilcar22 : INFO : Inicio guardar fichero ../tfm_git/ejecuciones/modelos/modelo_6191_mul_m_MI_LR_L1.pkl\n",
      "20231030T092014 : amilcar22 : INFO : Fin guardar fichero ../tfm_git/ejecuciones/modelos/modelo_6191_mul_m_MI_LR_L1.pkl\n"
     ]
    }
   ],
   "source": [
    "fichero_modelo = str.replace(\"modelo_\"+str(SEMILLA).zfill(4)+\"_\"+M_TIPO+\"_\"+M_SELECT+\"_\"+M_CLASIF+\".pkl\", \" \", \"_\")\n",
    "\n",
    "myfunc.save_modelo(mejor_modelo, myfunc.MODEL_DIR, fichero_modelo)"
   ]
  },
  {
   "cell_type": "markdown",
   "id": "ea3ffa11",
   "metadata": {
    "papermill": {
     "duration": 0.003408,
     "end_time": "2023-10-30T08:20:14.327561",
     "exception": false,
     "start_time": "2023-10-30T08:20:14.324153",
     "status": "completed"
    },
    "tags": []
   },
   "source": [
    "#### Ver resultados del las iteraciones hechas por RandomSearchCV"
   ]
  },
  {
   "cell_type": "code",
   "execution_count": 9,
   "id": "0498a9ca",
   "metadata": {
    "execution": {
     "iopub.execute_input": "2023-10-30T08:20:14.334837Z",
     "iopub.status.busy": "2023-10-30T08:20:14.334637Z",
     "iopub.status.idle": "2023-10-30T08:20:14.340449Z",
     "shell.execute_reply": "2023-10-30T08:20:14.339970Z"
    },
    "papermill": {
     "duration": 0.010862,
     "end_time": "2023-10-30T08:20:14.341685",
     "exception": false,
     "start_time": "2023-10-30T08:20:14.330823",
     "status": "completed"
    },
    "tags": []
   },
   "outputs": [
    {
     "name": "stdout",
     "output_type": "stream",
     "text": [
      "20231030T092014 : amilcar22 : INFO : Inicio ver resultados\n",
      "Mejores Hiperparámetros: {'selector__k': 1000, 'clasifier__solver': 'saga', 'clasifier__penalty': 'l1', 'clasifier__max_iter': 10000}\n",
      "Mejores puntuaciones: 0.8722 | Params: {'selector__k': 1000, 'clasifier__solver': 'saga', 'clasifier__penalty': 'l1', 'clasifier__max_iter': 10000}\n",
      "Media de las puntuaciones: 0.8722 | Params: {'selector__k': 1000, 'clasifier__solver': 'saga', 'clasifier__penalty': 'l1', 'clasifier__max_iter': 10000}\n",
      "20231030T092014 : amilcar22 : INFO : Fin resultados\n"
     ]
    }
   ],
   "source": [
    "myfunc.ver_resultados_search(random_search)"
   ]
  },
  {
   "cell_type": "markdown",
   "id": "a1c6460d",
   "metadata": {
    "papermill": {
     "duration": 0.00381,
     "end_time": "2023-10-30T08:20:14.349439",
     "exception": false,
     "start_time": "2023-10-30T08:20:14.345629",
     "status": "completed"
    },
    "tags": []
   },
   "source": [
    "#### Ver métricas del mejor modelo"
   ]
  },
  {
   "cell_type": "code",
   "execution_count": 10,
   "id": "51609dae",
   "metadata": {
    "execution": {
     "iopub.execute_input": "2023-10-30T08:20:14.356627Z",
     "iopub.status.busy": "2023-10-30T08:20:14.356431Z",
     "iopub.status.idle": "2023-10-30T08:20:14.960270Z",
     "shell.execute_reply": "2023-10-30T08:20:14.959753Z"
    },
    "papermill": {
     "duration": 0.608949,
     "end_time": "2023-10-30T08:20:14.961553",
     "exception": false,
     "start_time": "2023-10-30T08:20:14.352604",
     "status": "completed"
    },
    "tags": []
   },
   "outputs": [
    {
     "name": "stdout",
     "output_type": "stream",
     "text": [
      "20231030T092014 : amilcar22 : INFO : Inicio ver métricas multiclase\n"
     ]
    },
    {
     "name": "stdout",
     "output_type": "stream",
     "text": [
      "              precision    recall  f1-score   support\n",
      "\n",
      "           0       0.69      0.56      0.62        16\n",
      "           1       0.77      0.67      0.71        15\n",
      "           2       0.50      0.45      0.48        11\n",
      "           3       0.42      1.00      0.59         5\n",
      "           4       0.62      0.62      0.62        13\n",
      "           5       0.75      0.67      0.71         9\n",
      "           6       0.61      0.61      0.61        18\n",
      "\n",
      "    accuracy                           0.62        87\n",
      "   macro avg       0.62      0.65      0.62        87\n",
      "weighted avg       0.64      0.62      0.62        87\n",
      "\n",
      "\n",
      "\n",
      "           Exactitud: 0.620690\n",
      "   Precisión (media): 0.622100\n",
      "      Recall (media): 0.653839\n",
      "    F1-score (media): 0.618826\n",
      "\n",
      "\n",
      "AUC para el tipo de cáncer 0-Control.... 0.8812\n",
      "AUC para el tipo de cáncer 1-Bladder.... 0.8917\n",
      "AUC para el tipo de cáncer 2-Breast..... 0.8122\n",
      "AUC para el tipo de cáncer 3-Colorectal. 0.9976\n",
      "AUC para el tipo de cáncer 4-Kidney..... 0.8576\n",
      "AUC para el tipo de cáncer 5-Lung....... 0.9601\n"
     ]
    },
    {
     "name": "stdout",
     "output_type": "stream",
     "text": [
      "AUC para el tipo de cáncer 6-Prostate... 0.8527\n",
      "\n",
      "Media de AUC: 0.8933\n"
     ]
    },
    {
     "data": {
      "image/png": "[encoded data removed]",
      "text/plain": [
       "<Figure size 1000x600 with 1 Axes>"
      ]
     },
     "metadata": {},
     "output_type": "display_data"
    },
    {
     "name": "stdout",
     "output_type": "stream",
     "text": [
      "\n",
      "\n"
     ]
    },
    {
     "data": {
      "image/png": "[encoded data removed]",
      "text/plain": [
       "<Figure size 800x400 with 2 Axes>"
      ]
     },
     "metadata": {},
     "output_type": "display_data"
    },
    {
     "name": "stdout",
     "output_type": "stream",
     "text": [
      "\n",
      "\n",
      "Puntuación Jaccard para el cáncer tipo 0-Control.... 0.4500\n",
      "Puntuación Jaccard para el cáncer tipo 1-Bladder.... 0.5556\n",
      "Puntuación Jaccard para el cáncer tipo 2-Breast..... 0.3125\n",
      "Puntuación Jaccard para el cáncer tipo 3-Colorectal. 0.4167\n",
      "Puntuación Jaccard para el cáncer tipo 4-Kidney..... 0.4444\n",
      "Puntuación Jaccard para el cáncer tipo 5-Lung....... 0.5455\n",
      "Puntuación Jaccard para el cáncer tipo 6-Prostate... 0.4400\n",
      "\n",
      "Media de la puntuación de Jaccard: 0.4521\n"
     ]
    }
   ],
   "source": [
    "if M_TIPO.startswith(\"bin\"):\n",
    "    myfunc.ver_metricas(mejor_modelo, X_test, y_test)\n",
    "else:\n",
    "    myfunc.ver_metricas_multi(mejor_modelo, X_test, y_test)\n"
   ]
  },
  {
   "cell_type": "markdown",
   "id": "b9f163ef",
   "metadata": {
    "papermill": {
     "duration": 0.004465,
     "end_time": "2023-10-30T08:20:14.971014",
     "exception": false,
     "start_time": "2023-10-30T08:20:14.966549",
     "status": "completed"
    },
    "tags": []
   },
   "source": [
    "#### Finalización del notebook"
   ]
  },
  {
   "cell_type": "code",
   "execution_count": 11,
   "id": "b58512c7",
   "metadata": {
    "execution": {
     "iopub.execute_input": "2023-10-30T08:20:14.980318Z",
     "iopub.status.busy": "2023-10-30T08:20:14.980105Z",
     "iopub.status.idle": "2023-10-30T08:20:14.983343Z",
     "shell.execute_reply": "2023-10-30T08:20:14.982914Z"
    },
    "papermill": {
     "duration": 0.009369,
     "end_time": "2023-10-30T08:20:14.984618",
     "exception": false,
     "start_time": "2023-10-30T08:20:14.975249",
     "status": "completed"
    },
    "tags": []
   },
   "outputs": [
    {
     "name": "stdout",
     "output_type": "stream",
     "text": [
      "20231030T092014 : amilcar22 : INFO : Notebook ha tardado 2005 seconds\n"
     ]
    }
   ],
   "source": [
    "end_time = datetime.datetime.now()\n",
    "total_time = end_time - start_time\n",
    "myfunc.verbose(f\"Notebook ha tardado {total_time.seconds} seconds\")"
   ]
  },
  {
   "cell_type": "markdown",
   "id": "a4dd32e6",
   "metadata": {
    "papermill": {
     "duration": 0.004446,
     "end_time": "2023-10-30T08:20:14.993579",
     "exception": false,
     "start_time": "2023-10-30T08:20:14.989133",
     "status": "completed"
    },
    "tags": []
   },
   "source": [
    "#### Guardar métricas"
   ]
  },
  {
   "cell_type": "code",
   "execution_count": 12,
   "id": "a10d56fd",
   "metadata": {
    "execution": {
     "iopub.execute_input": "2023-10-30T08:20:15.003134Z",
     "iopub.status.busy": "2023-10-30T08:20:15.002947Z",
     "iopub.status.idle": "2023-10-30T08:20:15.186116Z",
     "shell.execute_reply": "2023-10-30T08:20:15.185590Z"
    },
    "papermill": {
     "duration": 0.189243,
     "end_time": "2023-10-30T08:20:15.187283",
     "exception": false,
     "start_time": "2023-10-30T08:20:14.998040",
     "status": "completed"
    },
    "tags": []
   },
   "outputs": [
    {
     "name": "stdout",
     "output_type": "stream",
     "text": [
      "20231030T092015 : amilcar22 : INFO : Inicio guardar métricas multiclase\n",
      "20231030T092015 : amilcar22 : INFO : Inicio leer fichero ../tfm_git/ejecuciones/metricas/metricas_6191.csv\n",
      "20231030T092015 : amilcar22 : INFO : Fin leer fichero ../tfm_git/ejecuciones/metricas/metricas_6191.csv\n"
     ]
    },
    {
     "name": "stdout",
     "output_type": "stream",
     "text": [
      "20231030T092015 : amilcar22 : INFO : Inicio guardar fichero ../tfm_git/ejecuciones/metricas/metricas_6191.csv\n",
      "20231030T092015 : amilcar22 : INFO : Fichero borrado ../tfm_git/ejecuciones/metricas/metricas_6191.csv\n",
      "20231030T092015 : amilcar22 : INFO : Fin guardar fichero ../tfm_git/ejecuciones/metricas/metricas_6191.csv\n",
      "20231030T092015 : amilcar22 : INFO : Fin guardar métricas multiclase\n",
      "20231030T092015 : amilcar22 : INFO : Inicio leer fichero ../tfm_git/ejecuciones/metricas/metricas_6191.csv\n",
      "20231030T092015 : amilcar22 : INFO : Fin leer fichero ../tfm_git/ejecuciones/metricas/metricas_6191.csv\n"
     ]
    },
    {
     "data": {
      "text/html": [
       "<div>\n",
       "<style scoped>\n",
       "    .dataframe tbody tr th:only-of-type {\n",
       "        vertical-align: middle;\n",
       "    }\n",
       "\n",
       "    .dataframe tbody tr th {\n",
       "        vertical-align: top;\n",
       "    }\n",
       "\n",
       "    .dataframe thead th {\n",
       "        text-align: right;\n",
       "    }\n",
       "</style>\n",
       "<table border=\"1\" class=\"dataframe\">\n",
       "  <thead>\n",
       "    <tr style=\"text-align: right;\">\n",
       "      <th></th>\n",
       "      <th>tipo</th>\n",
       "      <th>select</th>\n",
       "      <th>clasific</th>\n",
       "      <th>semilla</th>\n",
       "      <th>accuracy</th>\n",
       "      <th>precision</th>\n",
       "      <th>recall</th>\n",
       "      <th>f1_score</th>\n",
       "      <th>roc_auc</th>\n",
       "      <th>hostname</th>\n",
       "      <th>total_time_sec</th>\n",
       "      <th>datetime</th>\n",
       "      <th>fichero_modelo</th>\n",
       "      <th>params</th>\n",
       "      <th>shape</th>\n",
       "      <th>features</th>\n",
       "      <th>roc_auc_ovr</th>\n",
       "      <th>indices_auc</th>\n",
       "      <th>indices_jaccard</th>\n",
       "    </tr>\n",
       "  </thead>\n",
       "  <tbody>\n",
       "    <tr>\n",
       "      <th>0</th>\n",
       "      <td>mul_m</td>\n",
       "      <td>MI</td>\n",
       "      <td>LR_L1</td>\n",
       "      <td>6191</td>\n",
       "      <td>0.620690</td>\n",
       "      <td>0.622100</td>\n",
       "      <td>0.653839</td>\n",
       "      <td>0.618826</td>\n",
       "      <td>NaN</td>\n",
       "      <td>amilcar22</td>\n",
       "      <td>2005</td>\n",
       "      <td>2023-10-30 09:20:15.157233</td>\n",
       "      <td>modelo_6191_mul_m_MI_LR_L1.pkl</td>\n",
       "      <td>{'selector__k': 1000, 'clasifier__solver': 'sa...</td>\n",
       "      <td>X_test:(87, 18875)</td>\n",
       "      <td>['ENSG00000001084.13', 'ENSG00000001460.18', '...</td>\n",
       "      <td>0.893279</td>\n",
       "      <td>[0.8811619718309859, 0.8916666666666666, 0.812...</td>\n",
       "      <td>[0.45, 0.5555555555555556, 0.3125, 0.416666666...</td>\n",
       "    </tr>\n",
       "    <tr>\n",
       "      <th>0</th>\n",
       "      <td>mul_m</td>\n",
       "      <td>MI</td>\n",
       "      <td>LR_EN</td>\n",
       "      <td>6191</td>\n",
       "      <td>0.620690</td>\n",
       "      <td>0.620956</td>\n",
       "      <td>0.653839</td>\n",
       "      <td>0.618064</td>\n",
       "      <td>NaN</td>\n",
       "      <td>amilcar22</td>\n",
       "      <td>1967</td>\n",
       "      <td>2023-10-30 08:46:43.366956</td>\n",
       "      <td>modelo_6191_mul_m_MI_LR_EN.pkl</td>\n",
       "      <td>{'selector__k': 1000, 'clasifier__solver': 'sa...</td>\n",
       "      <td>X_test:(87, 18875)</td>\n",
       "      <td>['ENSG00000001084.13', 'ENSG00000001460.18', '...</td>\n",
       "      <td>0.897262</td>\n",
       "      <td>[0.880281690140845, 0.8925925925925925, 0.8181...</td>\n",
       "      <td>[0.45, 0.5555555555555556, 0.3125, 0.416666666...</td>\n",
       "    </tr>\n",
       "    <tr>\n",
       "      <th>0</th>\n",
       "      <td>mul_m</td>\n",
       "      <td>ANOVA</td>\n",
       "      <td>SVM</td>\n",
       "      <td>6191</td>\n",
       "      <td>0.448276</td>\n",
       "      <td>0.466514</td>\n",
       "      <td>0.477284</td>\n",
       "      <td>0.454199</td>\n",
       "      <td>NaN</td>\n",
       "      <td>amilcar22</td>\n",
       "      <td>3</td>\n",
       "      <td>2023-10-30 08:13:49.459573</td>\n",
       "      <td>modelo_6191_mul_m_ANOVA_SVM.pkl</td>\n",
       "      <td>{'selector__k': 500, 'clasifier__kernel': 'rbf...</td>\n",
       "      <td>X_test:(87, 18875)</td>\n",
       "      <td>['ENSG00000000938.13', 'ENSG00000004660.15', '...</td>\n",
       "      <td>0.815253</td>\n",
       "      <td>[0.7200704225352114, 0.8851851851851852, 0.587...</td>\n",
       "      <td>[0.17391304347826086, 0.42105263157894735, 0.1...</td>\n",
       "    </tr>\n",
       "  </tbody>\n",
       "</table>\n",
       "</div>"
      ],
      "text/plain": [
       "    tipo select clasific  semilla  accuracy  precision    recall  f1_score  \\\n",
       "0  mul_m     MI    LR_L1     6191  0.620690   0.622100  0.653839  0.618826   \n",
       "0  mul_m     MI    LR_EN     6191  0.620690   0.620956  0.653839  0.618064   \n",
       "0  mul_m  ANOVA      SVM     6191  0.448276   0.466514  0.477284  0.454199   \n",
       "\n",
       "   roc_auc   hostname  total_time_sec                    datetime  \\\n",
       "0      NaN  amilcar22            2005  2023-10-30 09:20:15.157233   \n",
       "0      NaN  amilcar22            1967  2023-10-30 08:46:43.366956   \n",
       "0      NaN  amilcar22               3  2023-10-30 08:13:49.459573   \n",
       "\n",
       "                    fichero_modelo  \\\n",
       "0   modelo_6191_mul_m_MI_LR_L1.pkl   \n",
       "0   modelo_6191_mul_m_MI_LR_EN.pkl   \n",
       "0  modelo_6191_mul_m_ANOVA_SVM.pkl   \n",
       "\n",
       "                                              params               shape  \\\n",
       "0  {'selector__k': 1000, 'clasifier__solver': 'sa...  X_test:(87, 18875)   \n",
       "0  {'selector__k': 1000, 'clasifier__solver': 'sa...  X_test:(87, 18875)   \n",
       "0  {'selector__k': 500, 'clasifier__kernel': 'rbf...  X_test:(87, 18875)   \n",
       "\n",
       "                                            features  roc_auc_ovr  \\\n",
       "0  ['ENSG00000001084.13', 'ENSG00000001460.18', '...     0.893279   \n",
       "0  ['ENSG00000001084.13', 'ENSG00000001460.18', '...     0.897262   \n",
       "0  ['ENSG00000000938.13', 'ENSG00000004660.15', '...     0.815253   \n",
       "\n",
       "                                         indices_auc  \\\n",
       "0  [0.8811619718309859, 0.8916666666666666, 0.812...   \n",
       "0  [0.880281690140845, 0.8925925925925925, 0.8181...   \n",
       "0  [0.7200704225352114, 0.8851851851851852, 0.587...   \n",
       "\n",
       "                                     indices_jaccard  \n",
       "0  [0.45, 0.5555555555555556, 0.3125, 0.416666666...  \n",
       "0  [0.45, 0.5555555555555556, 0.3125, 0.416666666...  \n",
       "0  [0.17391304347826086, 0.42105263157894735, 0.1...  "
      ]
     },
     "metadata": {},
     "output_type": "display_data"
    }
   ],
   "source": [
    "if M_TIPO.startswith(\"bin\"):\n",
    "    myfunc.save_metricas_to_csv(random_search, X_test, y_test, M_TIPO, M_SELECT, M_CLASIF, total_time, SEMILLA, myfunc.MET_DIR, M_FICHERO, fichero_modelo)\n",
    "else:\n",
    "    myfunc.save_metricas_multi_to_csv(random_search, X_test, y_test, M_TIPO, M_SELECT, M_CLASIF, total_time, SEMILLA, myfunc.MET_DIR, M_FICHERO, fichero_modelo)\n",
    "\n",
    "df1=myfunc.read_metricas_to_df(myfunc.MET_DIR,M_FICHERO)\n",
    "\n",
    "display(df1.sort_values(\"datetime\", ascending=False)[:3])\n"
   ]
  },
  {
   "cell_type": "markdown",
   "id": "5afa96f6",
   "metadata": {
    "papermill": {
     "duration": 0.004782,
     "end_time": "2023-10-30T08:20:15.197336",
     "exception": false,
     "start_time": "2023-10-30T08:20:15.192554",
     "status": "completed"
    },
    "tags": []
   },
   "source": [
    "#### Guardar resultados"
   ]
  },
  {
   "cell_type": "code",
   "execution_count": 13,
   "id": "8fb6de47",
   "metadata": {
    "execution": {
     "iopub.execute_input": "2023-10-30T08:20:15.207563Z",
     "iopub.status.busy": "2023-10-30T08:20:15.207337Z",
     "iopub.status.idle": "2023-10-30T08:20:15.215386Z",
     "shell.execute_reply": "2023-10-30T08:20:15.214968Z"
    },
    "papermill": {
     "duration": 0.014638,
     "end_time": "2023-10-30T08:20:15.216489",
     "exception": false,
     "start_time": "2023-10-30T08:20:15.201851",
     "status": "completed"
    },
    "tags": []
   },
   "outputs": [
    {
     "name": "stdout",
     "output_type": "stream",
     "text": [
      "20231030T092015 : amilcar22 : INFO : Inicio guardar resultados\n",
      "20231030T092015 : amilcar22 : INFO : Inicio guardar fichero ../tfm_git/ejecuciones/metricas/resultados_6191_mul_m-MI-LR_L1.csv\n",
      "20231030T092015 : amilcar22 : INFO : Fin guardar fichero ../tfm_git/ejecuciones/metricas/resultados_6191_mul_m-MI-LR_L1.csv\n",
      "20231030T092015 : amilcar22 : INFO : Fin guardar resultados\n"
     ]
    }
   ],
   "source": [
    "fichero_resultados=R_FICHERO+\"_\"+M_TIPO+\"-\"+M_SELECT+\"-\"+M_CLASIF+\".csv\"\n",
    "myfunc.save_resultados_to_csv(M_TIPO, M_SELECT, M_CLASIF,  random_search, myfunc.MET_DIR, fichero_resultados)\n"
   ]
  }
 ],
 "metadata": {
  "kernelspec": {
   "display_name": "Python 3 (ipykernel)",
   "language": "python",
   "name": "python3"
  },
  "language_info": {
   "codemirror_mode": {
    "name": "ipython",
    "version": 3
   },
   "file_extension": ".py",
   "mimetype": "text/x-python",
   "name": "python",
   "nbconvert_exporter": "python",
   "pygments_lexer": "ipython3",
   "version": "3.10.12"
  },
  "papermill": {
   "default_parameters": {},
   "duration": 2010.298464,
   "end_time": "2023-10-30T08:20:17.840989",
   "environment_variables": {},
   "exception": null,
   "input_path": "03_entrenamiento.ipynb",
   "output_path": "ejecuciones/training/03_entrenamiento.20231030T084647.param_0000_6191_mul_m_MI_LR_L1.output.ipynb",
   "parameters": {
    "MAX_ITERS": 500,
    "M_CLASIF": "LR_L1",
    "M_FICHERO": "metricas_6191",
    "M_SELECT": "MI",
    "M_TIPO": "mul_m",
    "PRE_DATA_FILE": "rows_transpose_norm_by_gene_id_with_target_num_",
    "P_FICHERO": "param_0000_6191_mul_m_MI_LR_L1.yaml",
    "R_FICHERO": "resultados_6191",
    "SCORING": "roc_auc_ovr",
    "SEMILLA": 6191,
    "eval_clasifier": "LogisticRegressionCV(random_state=SEMILLA)",
    "eval_selector": "SelectKBest(score_func=mutual_info_classif_state)",
    "param_distributions": {
     "clasifier__max_iter": [
      10000
     ],
     "clasifier__penalty": [
      "l1"
     ],
     "clasifier__solver": [
      "saga"
     ],
     "selector__k": [
      1000
     ]
    }
   },
   "start_time": "2023-10-30T07:46:47.542525",
   "version": "2.4.0"
  }
 },
 "nbformat": 4,
 "nbformat_minor": 5
}