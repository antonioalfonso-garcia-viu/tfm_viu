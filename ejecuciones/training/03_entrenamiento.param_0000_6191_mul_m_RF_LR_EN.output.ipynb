{
 "cells": [
  {
   "cell_type": "markdown",
   "id": "36e014b7",
   "metadata": {
    "papermill": {
     "duration": 0.00312,
     "end_time": "2023-10-30T08:31:52.476707",
     "exception": false,
     "start_time": "2023-10-30T08:31:52.473587",
     "status": "completed"
    },
    "tags": []
   },
   "source": [
    "##### Inicio"
   ]
  },
  {
   "cell_type": "markdown",
   "id": "37ee1714",
   "metadata": {
    "papermill": {
     "duration": 0.002341,
     "end_time": "2023-10-30T08:31:52.481602",
     "exception": false,
     "start_time": "2023-10-30T08:31:52.479261",
     "status": "completed"
    },
    "tags": []
   },
   "source": [
    "#### Carga de datos"
   ]
  },
  {
   "cell_type": "code",
   "execution_count": 1,
   "id": "d49a4cee",
   "metadata": {
    "execution": {
     "iopub.execute_input": "2023-10-30T08:31:52.487518Z",
     "iopub.status.busy": "2023-10-30T08:31:52.487293Z",
     "iopub.status.idle": "2023-10-30T08:31:53.345569Z",
     "shell.execute_reply": "2023-10-30T08:31:53.345033Z"
    },
    "papermill": {
     "duration": 0.862915,
     "end_time": "2023-10-30T08:31:53.346882",
     "exception": false,
     "start_time": "2023-10-30T08:31:52.483967",
     "status": "completed"
    },
    "tags": []
   },
   "outputs": [
    {
     "name": "stdout",
     "output_type": "stream",
     "text": [
      "CPU_COUNT: 8; NODE: amilcar22; sys.version: 3.10.12 (main, Jul  5 2023, 19:22:19) [GCC 11.2.0]\n",
      "LOKY_MAX_CPU_COUNT: 6\n",
      "OMP_NUM_THREADS: 2\n"
     ]
    }
   ],
   "source": [
    "import os\n",
    "import numpy as np\n",
    "import pandas as pd\n",
    "import datetime\n",
    "import sklearn\n",
    "import logging\n",
    "import warnings\n",
    "\n",
    "from sklearn.pipeline import Pipeline\n",
    "from sklearn.model_selection import RandomizedSearchCV, KFold, cross_val_score, train_test_split\n",
    "from sklearn.metrics import accuracy_score, confusion_matrix, classification_report, roc_auc_score\n",
    "\n",
    "#  cargar algoritmos para aprendizaje supervisado\n",
    "from sklearn.feature_selection import SelectKBest, f_classif, SelectFromModel, mutual_info_classif\n",
    "from sklearn.svm import SVC\n",
    "from sklearn.ensemble import RandomForestClassifier\n",
    "from sklearn.linear_model import LogisticRegression,LogisticRegressionCV\n",
    "\n",
    "# importar fichero con utilidades propias\n",
    "from commons import myfunctions as myfunc\n"
   ]
  },
  {
   "cell_type": "markdown",
   "id": "8fa9049e",
   "metadata": {
    "papermill": {
     "duration": 0.002555,
     "end_time": "2023-10-30T08:31:53.352325",
     "exception": false,
     "start_time": "2023-10-30T08:31:53.349770",
     "status": "completed"
    },
    "tags": []
   },
   "source": [
    "#### Parámetros a utilizar en el entrenamiento.\n",
    "\n",
    "Se indican los 3 algoritmos de *selección de características* (eval_selector_xxx) y los 3 algoritmos para la _clasificación_ (eval_clasifier_xxx)\n",
    "\n",
    "En *param_distributions* se indicar los parámetros que utilizan los algoritmos en la función RandomSearchCV.\n",
    "\n",
    "Esta celda tiene la etiqueta **parameters** que servirá para poder lanzar los entrenamientos con la utilidad **papermill** pasándole un fichero con los parámetros. Los nuevos parámetros se situarán tras esta celda para tener prevalencia."
   ]
  },
  {
   "cell_type": "code",
   "execution_count": 2,
   "id": "d92283de",
   "metadata": {
    "execution": {
     "iopub.execute_input": "2023-10-30T08:31:53.358254Z",
     "iopub.status.busy": "2023-10-30T08:31:53.357981Z",
     "iopub.status.idle": "2023-10-30T08:31:53.365277Z",
     "shell.execute_reply": "2023-10-30T08:31:53.364813Z"
    },
    "papermill": {
     "duration": 0.011692,
     "end_time": "2023-10-30T08:31:53.366470",
     "exception": false,
     "start_time": "2023-10-30T08:31:53.354778",
     "status": "completed"
    },
    "tags": [
     "parameters"
    ]
   },
   "outputs": [
    {
     "name": "stdout",
     "output_type": "stream",
     "text": [
      "20231030T093153 : amilcar22 : INFO : Utilizando parámetros de mul_m\n"
     ]
    }
   ],
   "source": [
    "#  Parametros para el entrenamiento\n",
    "\n",
    "SEMILLA=        42\n",
    "M_TIPO=         \"mul_m\"\n",
    "M_SELECT=       \"MI\"\n",
    "M_CLASIF=       \"SVM\"\n",
    "R_FICHERO=      \"resultados\"\n",
    "M_FICHERO=      \"metricas\"\n",
    "PRE_DATA_FILE=  \"rows_transpose_norm_by_gene_id_with_target_num_\"\n",
    "SCORING=        \"roc_auc_ovr\" \n",
    "MAX_ITERS=      100\n",
    "\n",
    "def mutual_info_classif_state(X, y):\n",
    "    return mutual_info_classif(X, y, random_state=SEMILLA)\n",
    "\n",
    "eval_selector_mi = \"SelectKBest(score_func=mutual_info_classif_state)\"\n",
    "eval_selector_rf=  \"SelectFromModel(estimator=RandomForestClassifier(random_state=SEMILLA), threshold=-np.inf)\"\n",
    "eval_selector_anova=  \"SelectKBest(score_func=f_classif)\"\n",
    "\n",
    "eval_clasifier_svm= \"SVC(probability=True, random_state=SEMILLA)\"\n",
    "eval_clasifier_rf= \"RandomForestClassifier(random_state=SEMILLA)\"\n",
    "eval_clasifier_lr= \"LogisticRegressionCV(random_state=SEMILLA)\"\n",
    "\n",
    "if M_TIPO.startswith(\"bin_m\"):\n",
    "    myfunc.verbose(f\"Utilizando parámetros de {M_TIPO}\")\n",
    "    eval_selector = eval_selector_mi\n",
    "    eval_clasifier = eval_clasifier_svm\n",
    "\n",
    "    SEMILLA = 6578\n",
    "    M_SELECT = \"MI\"\n",
    "    M_CLASIF = \"SVM\"\n",
    "    param_distributions = {'selector__k': [1000], \n",
    "         'clasifier__kernel': ['rbf'], 'clasifier__gamma': [0.01], 'clasifier__C': [100]}\n",
    "elif M_TIPO.startswith(\"bin_s\"):\n",
    "    myfunc.verbose(f\"Utilizando parámetros de {M_TIPO}\")\n",
    "    eval_selector = eval_selector_rf\n",
    "    eval_clasifier = eval_clasifier_lr\n",
    "\n",
    "    SEMILLA = 6191\n",
    "    M_SELECT = \"RF\"\n",
    "    M_CLASIF = \"LR_L2\"\n",
    "    param_distributions = {'selector__max_features': [1000], 'selector__estimator__n_estimators': [200], \n",
    "        'clasifier__solver': ['lbfgs'], 'clasifier__penalty': ['l2'], 'clasifier__max_iter': [10000]}\n",
    "\n",
    "elif M_TIPO.startswith(\"mul_m\"):\n",
    "    myfunc.verbose(f\"Utilizando parámetros de {M_TIPO}\")\n",
    " \n",
    "    eval_selector = eval_selector_rf\n",
    "    eval_clasifier = eval_clasifier_lr\n",
    "\n",
    "    SEMILLA = 6191\n",
    "    M_SELECT = \"RF\"\n",
    "    M_CLASIF = \"LR_L2\"\n",
    "    param_distributions = {'selector__max_features': [1000], 'selector__estimator__n_estimators': [400], \n",
    "        'clasifier__solver': ['lbfgs'], 'clasifier__penalty': ['l2'], 'clasifier__max_iter': [10000]}\n",
    "\n",
    "else:\n",
    "    # M_TIPO.startswith(\"mul_s\"):\n",
    "    myfunc.verbose(f\"Utilizando parámetros de {M_TIPO}\")\n",
    "    eval_selector = eval_selector_anova\n",
    "    eval_clasifier = eval_clasifier_lr\n",
    "\n",
    "    SEMILLA = 1860\n",
    "    M_SELECT = \"ANOVA\"\n",
    "    M_CLASIF = \"LR_L2\"\n",
    "    param_distributions = {'selector__k': [1000], \n",
    "        'clasifier__solver': ['saga'], 'clasifier__penalty': ['l2'], 'clasifier__max_iter': [10000]}\n",
    "\n"
   ]
  },
  {
   "cell_type": "code",
   "execution_count": 3,
   "id": "0c79100a",
   "metadata": {
    "execution": {
     "iopub.execute_input": "2023-10-30T08:31:53.372464Z",
     "iopub.status.busy": "2023-10-30T08:31:53.372277Z",
     "iopub.status.idle": "2023-10-30T08:31:53.376125Z",
     "shell.execute_reply": "2023-10-30T08:31:53.375616Z"
    },
    "papermill": {
     "duration": 0.008182,
     "end_time": "2023-10-30T08:31:53.377381",
     "exception": false,
     "start_time": "2023-10-30T08:31:53.369199",
     "status": "completed"
    },
    "tags": [
     "injected-parameters"
    ]
   },
   "outputs": [],
   "source": [
    "# Parameters\n",
    "M_TIPO = \"mul_m\"\n",
    "M_SELECT = \"RF\"\n",
    "M_CLASIF = \"LR_EN\"\n",
    "P_FICHERO = \"param_0000_6191_mul_m_RF_LR_EN.yaml\"\n",
    "R_FICHERO = \"resultados_6191\"\n",
    "M_FICHERO = \"metricas_6191\"\n",
    "PRE_DATA_FILE = \"rows_transpose_norm_by_gene_id_with_target_num_\"\n",
    "SCORING = \"roc_auc_ovr\"\n",
    "SEMILLA = 6191\n",
    "MAX_ITERS = 500\n",
    "eval_selector = \"SelectFromModel(estimator=RandomForestClassifier(random_state=SEMILLA), threshold=-np.inf)\"\n",
    "eval_clasifier = \"LogisticRegressionCV(random_state=SEMILLA)\"\n",
    "param_distributions = {\n",
    "    \"selector__max_features\": [1000],\n",
    "    \"selector__estimator__n_estimators\": [400],\n",
    "    \"clasifier__solver\": [\"saga\"],\n",
    "    \"clasifier__penalty\": [\"elasticnet\"],\n",
    "    \"clasifier__max_iter\": [10000],\n",
    "    \"clasifier__l1_ratios\": [[0.1]],\n",
    "}\n"
   ]
  },
  {
   "cell_type": "code",
   "execution_count": 4,
   "id": "9d8125ae",
   "metadata": {
    "execution": {
     "iopub.execute_input": "2023-10-30T08:31:53.383374Z",
     "iopub.status.busy": "2023-10-30T08:31:53.383189Z",
     "iopub.status.idle": "2023-10-30T08:31:53.386226Z",
     "shell.execute_reply": "2023-10-30T08:31:53.385725Z"
    },
    "papermill": {
     "duration": 0.007349,
     "end_time": "2023-10-30T08:31:53.387386",
     "exception": false,
     "start_time": "2023-10-30T08:31:53.380037",
     "status": "completed"
    },
    "tags": []
   },
   "outputs": [],
   "source": [
    "DATA_FILE = PRE_DATA_FILE + M_TIPO\n",
    "\n",
    "# si viene \"None\" en el parámetro max_depth, se le quitan las comillas para que no sea entendido por el algoritmo como un texto\n",
    "if \"clasifier__max_depth\" in param_distributions:\n",
    "    param_distributions['clasifier__max_depth'] = [None if x == 'None' else x for x in param_distributions['clasifier__max_depth']]"
   ]
  },
  {
   "cell_type": "markdown",
   "id": "37bba1e1",
   "metadata": {
    "papermill": {
     "duration": 0.003013,
     "end_time": "2023-10-30T08:31:53.393409",
     "exception": false,
     "start_time": "2023-10-30T08:31:53.390396",
     "status": "completed"
    },
    "tags": []
   },
   "source": [
    "Asignar los algoritmos que se utilizarán en la función RandomSearchCV"
   ]
  },
  {
   "cell_type": "code",
   "execution_count": 5,
   "id": "828f2b8c",
   "metadata": {
    "execution": {
     "iopub.execute_input": "2023-10-30T08:31:53.400219Z",
     "iopub.status.busy": "2023-10-30T08:31:53.400044Z",
     "iopub.status.idle": "2023-10-30T08:31:53.403105Z",
     "shell.execute_reply": "2023-10-30T08:31:53.402536Z"
    },
    "papermill": {
     "duration": 0.007984,
     "end_time": "2023-10-30T08:31:53.404459",
     "exception": false,
     "start_time": "2023-10-30T08:31:53.396475",
     "status": "completed"
    },
    "tags": []
   },
   "outputs": [],
   "source": [
    "algor_selector=eval(eval_selector)\n",
    "algor_clasifier=eval(eval_clasifier)"
   ]
  },
  {
   "cell_type": "markdown",
   "id": "cd11d17e",
   "metadata": {
    "papermill": {
     "duration": 0.002643,
     "end_time": "2023-10-30T08:31:53.410536",
     "exception": false,
     "start_time": "2023-10-30T08:31:53.407893",
     "status": "completed"
    },
    "tags": []
   },
   "source": [
    "#### Comprobar el entorno y leer fichero de muestras"
   ]
  },
  {
   "cell_type": "code",
   "execution_count": 6,
   "id": "fe1ab945",
   "metadata": {
    "execution": {
     "iopub.execute_input": "2023-10-30T08:31:53.416458Z",
     "iopub.status.busy": "2023-10-30T08:31:53.416271Z",
     "iopub.status.idle": "2023-10-30T08:31:53.581136Z",
     "shell.execute_reply": "2023-10-30T08:31:53.580643Z"
    },
    "papermill": {
     "duration": 0.169312,
     "end_time": "2023-10-30T08:31:53.582387",
     "exception": false,
     "start_time": "2023-10-30T08:31:53.413075",
     "status": "completed"
    },
    "tags": []
   },
   "outputs": [
    {
     "name": "stdout",
     "output_type": "stream",
     "text": [
      "20231030T093153 : amilcar22 : INFO : Encontrada carpeta DATA_DIR=../tfm_git/datos\n",
      "20231030T093153 : amilcar22 : INFO : Encontrada carpeta CFDNA_DIR=../tfm_git/datos/cfDNA_5hmC\n",
      "20231030T093153 : amilcar22 : INFO : Encontrada carpeta GENCODE_DIR=../tfm_git/datos/gencode\n",
      "20231030T093153 : amilcar22 : INFO : Encontrada carpeta H5_DIR=../tfm_git/datos/h5\n",
      "20231030T093153 : amilcar22 : INFO : Encontrada carpeta LOG_DIR=../tfm_git/datos/logs\n",
      "20231030T093153 : amilcar22 : INFO : Encontrada carpeta CSV_DIR=../tfm_git/datos/csv\n",
      "20231030T093153 : amilcar22 : INFO : Encontrada carpeta MODEL_DIR=../tfm_git/ejecuciones/modelos\n",
      "20231030T093153 : amilcar22 : INFO : Encontrada carpeta EXEC_DIR=../tfm_git/ejecuciones\n",
      "20231030T093153 : amilcar22 : INFO : Encontrada carpeta MET_DIR=../tfm_git/ejecuciones/metricas\n",
      "20231030T093153 : amilcar22 : INFO : Inicio leer fichero h5 ../tfm_git/datos/h5/rows_transpose_norm_by_gene_id_with_target_num_mul_m.h5\n",
      "20231030T093153 : amilcar22 : INFO : Leyendo clave /df\n",
      "20231030T093153 : amilcar22 : INFO : Tamaño (434, 18876)\n",
      "20231030T093153 : amilcar22 : INFO : Fin leer fichero h5 ../tfm_git/datos/h5/rows_transpose_norm_by_gene_id_with_target_num_mul_m.h5\n"
     ]
    },
    {
     "data": {
      "text/plain": [
       "target\n",
       "0    62\n",
       "1    62\n",
       "2    62\n",
       "3    62\n",
       "4    62\n",
       "5    62\n",
       "6    62\n",
       "dtype: int64"
      ]
     },
     "metadata": {},
     "output_type": "display_data"
    },
    {
     "name": "stdout",
     "output_type": "stream",
     "text": [
      "Shape df: (434, 18876)\n"
     ]
    },
    {
     "name": "stdout",
     "output_type": "stream",
     "text": [
      "Shape X_train: (347, 18875)\n",
      "Shape X_test: (87, 18875)\n"
     ]
    }
   ],
   "source": [
    "start_time = datetime.datetime.now()\n",
    "\n",
    "myfunc.reset_vars()\n",
    "\n",
    "myfunc.NOTEBK_FILENAME = myfunc.get_nb_name()\n",
    "\n",
    "myfunc.check_enviroment(myfunc.DATA_DIR, myfunc.CFDNA_DIR, myfunc.GENCODE_DIR, myfunc.H5_DIR, myfunc.LOG_DIR, myfunc.CSV_DIR, myfunc.MODEL_DIR, myfunc.EXEC_DIR, myfunc.MET_DIR)\n",
    "\n",
    "# Leer fichero con las muestras\n",
    "df_t = myfunc.read_h5_to_df(DATA_FILE, myfunc.H5_DIR)\n",
    "display(df_t.groupby(\"target\").size())\n",
    "print(\"Shape df:\",df_t.shape)\n",
    "\n",
    "# Separar caracteristicas/genes de las etiquetas/tipos de cáncer\n",
    "X = df_t.iloc[:, :-1]  # Todas las columnas excepto la última\n",
    "y = df_t.iloc[:, -1]  # La última columna contiene los identificadores de los tipos de cáncer\n",
    "\n",
    "#  Crear el conjunto de datos de entrenamiento y de pruebas, y se fija la semilla para siempre coger el mismo juego de muestras\n",
    "X_train, X_test, y_train, y_test = train_test_split(X, y, test_size=0.2, shuffle=True, random_state=42)\n",
    "print(\"Shape X_train:\",X_train.shape)\n",
    "print(\"Shape X_test:\",X_test.shape)\n"
   ]
  },
  {
   "cell_type": "markdown",
   "id": "3e462201",
   "metadata": {
    "papermill": {
     "duration": 0.002797,
     "end_time": "2023-10-30T08:31:53.588459",
     "exception": false,
     "start_time": "2023-10-30T08:31:53.585662",
     "status": "completed"
    },
    "tags": []
   },
   "source": [
    "#### Selección de características y clasificación."
   ]
  },
  {
   "cell_type": "code",
   "execution_count": 7,
   "id": "be188fb1",
   "metadata": {
    "execution": {
     "iopub.execute_input": "2023-10-30T08:31:53.594958Z",
     "iopub.status.busy": "2023-10-30T08:31:53.594759Z",
     "iopub.status.idle": "2023-10-30T09:03:01.733398Z",
     "shell.execute_reply": "2023-10-30T09:03:01.732741Z"
    },
    "papermill": {
     "duration": 1868.145934,
     "end_time": "2023-10-30T09:03:01.737203",
     "exception": false,
     "start_time": "2023-10-30T08:31:53.591269",
     "status": "completed"
    },
    "tags": []
   },
   "outputs": [
    {
     "name": "stdout",
     "output_type": "stream",
     "text": [
      "20231030T093153 : amilcar22 : INFO : Iniciando entrenamiento\n",
      "num_iter: 1 , max_iter: 1\n",
      "Fitting 5 folds for each of 1 candidates, totalling 5 fits\n"
     ]
    },
    {
     "name": "stdout",
     "output_type": "stream",
     "text": [
      "[CV 2/5] END clasifier__l1_ratios=[0.1], clasifier__max_iter=10000, clasifier__penalty=elasticnet, clasifier__solver=saga, selector__estimator__n_estimators=400, selector__max_features=1000;, score=0.894 total time=12.3min\n"
     ]
    },
    {
     "name": "stdout",
     "output_type": "stream",
     "text": [
      "[CV 1/5] END clasifier__l1_ratios=[0.1], clasifier__max_iter=10000, clasifier__penalty=elasticnet, clasifier__solver=saga, selector__estimator__n_estimators=400, selector__max_features=1000;, score=0.863 total time=13.9min\n"
     ]
    },
    {
     "name": "stdout",
     "output_type": "stream",
     "text": [
      "[CV 3/5] END clasifier__l1_ratios=[0.1], clasifier__max_iter=10000, clasifier__penalty=elasticnet, clasifier__solver=saga, selector__estimator__n_estimators=400, selector__max_features=1000;, score=0.884 total time=14.0min\n"
     ]
    },
    {
     "name": "stdout",
     "output_type": "stream",
     "text": [
      "[CV 4/5] END clasifier__l1_ratios=[0.1], clasifier__max_iter=10000, clasifier__penalty=elasticnet, clasifier__solver=saga, selector__estimator__n_estimators=400, selector__max_features=1000;, score=0.857 total time=15.1min\n"
     ]
    },
    {
     "name": "stdout",
     "output_type": "stream",
     "text": [
      "[CV 5/5] END clasifier__l1_ratios=[0.1], clasifier__max_iter=10000, clasifier__penalty=elasticnet, clasifier__solver=saga, selector__estimator__n_estimators=400, selector__max_features=1000;, score=0.885 total time=16.1min\n"
     ]
    },
    {
     "name": "stdout",
     "output_type": "stream",
     "text": [
      "Mejores Hiperparámetros: {'selector__max_features': 1000, 'selector__estimator__n_estimators': 400, 'clasifier__solver': 'saga', 'clasifier__penalty': 'elasticnet', 'clasifier__max_iter': 10000, 'clasifier__l1_ratios': [0.1]}\n",
      "Mejor Puntuación: 0.8765\n",
      "20231030T100301 : amilcar22 : INFO : Fin entrenamiento\n"
     ]
    }
   ],
   "source": [
    "myfunc.verbose(\"Iniciando entrenamiento\")\n",
    "\n",
    "kf = KFold(n_splits=5, shuffle=True, random_state=SEMILLA)\n",
    "\n",
    "# Crear el pipeline para el flujo de tareas\n",
    "tasks_pipeline = Pipeline([\n",
    "    ('selector', algor_selector),\n",
    "    ('clasifier', algor_clasifier)\n",
    "])\n",
    "\n",
    "# MAX_ITERS puede limitar el número de iteraciones si son excesivas para las combinaciones de parámetros buscando un óptimo local, \n",
    "# sino funcionaría como GridSearchCV al revisar todas las cominaciones de los parámetros\n",
    "num_iteraciones = 1\n",
    "num_iteraciones = num_iteraciones * np.prod([len(elemento1) for _, elemento1 in param_distributions.items()])\n",
    "max_iteraciones = num_iteraciones if num_iteraciones <= MAX_ITERS else MAX_ITERS\n",
    "print(\"num_iter:\",num_iteraciones,\", max_iter:\",max_iteraciones)\n",
    "\n",
    "random_search = RandomizedSearchCV(\n",
    "    tasks_pipeline, \n",
    "    param_distributions, \n",
    "    n_iter=max_iteraciones,\n",
    "    scoring=SCORING,\n",
    "    cv=kf,\n",
    "    verbose=3, \n",
    "    random_state=SEMILLA, \n",
    "    n_jobs=-1\n",
    "    )\n",
    "\n",
    "# Entrenar el modelo\n",
    "random_search.fit(X_train, y_train)\n",
    "\n",
    "# Ver los mejores hiperparámetros encontrados\n",
    "print(f'Mejores Hiperparámetros: {random_search.best_params_}')\n",
    "print(f'Mejor Puntuación: {random_search.best_score_:.4f}')\n",
    "\n",
    "# Nos quedamos con el mejor modelo para ver las métricas\n",
    "mejor_modelo = random_search.best_estimator_\n",
    "\n",
    "myfunc.verbose(\"Fin entrenamiento\")"
   ]
  },
  {
   "cell_type": "markdown",
   "id": "068f1893",
   "metadata": {
    "papermill": {
     "duration": 0.003087,
     "end_time": "2023-10-30T09:03:01.743426",
     "exception": false,
     "start_time": "2023-10-30T09:03:01.740339",
     "status": "completed"
    },
    "tags": []
   },
   "source": [
    "#### Guardar modelo"
   ]
  },
  {
   "cell_type": "code",
   "execution_count": 8,
   "id": "14f61909",
   "metadata": {
    "execution": {
     "iopub.execute_input": "2023-10-30T09:03:01.750386Z",
     "iopub.status.busy": "2023-10-30T09:03:01.750200Z",
     "iopub.status.idle": "2023-10-30T09:03:01.882103Z",
     "shell.execute_reply": "2023-10-30T09:03:01.881619Z"
    },
    "papermill": {
     "duration": 0.136972,
     "end_time": "2023-10-30T09:03:01.883404",
     "exception": false,
     "start_time": "2023-10-30T09:03:01.746432",
     "status": "completed"
    },
    "tags": []
   },
   "outputs": [
    {
     "name": "stdout",
     "output_type": "stream",
     "text": [
      "20231030T100301 : amilcar22 : INFO : Inicio guardar fichero ../tfm_git/ejecuciones/modelos/modelo_6191_mul_m_RF_LR_EN.pkl\n",
      "20231030T100301 : amilcar22 : INFO : Fin guardar fichero ../tfm_git/ejecuciones/modelos/modelo_6191_mul_m_RF_LR_EN.pkl\n"
     ]
    }
   ],
   "source": [
    "fichero_modelo = str.replace(\"modelo_\"+str(SEMILLA).zfill(4)+\"_\"+M_TIPO+\"_\"+M_SELECT+\"_\"+M_CLASIF+\".pkl\", \" \", \"_\")\n",
    "\n",
    "myfunc.save_modelo(mejor_modelo, myfunc.MODEL_DIR, fichero_modelo)"
   ]
  },
  {
   "cell_type": "markdown",
   "id": "29c3ecdc",
   "metadata": {
    "papermill": {
     "duration": 0.003095,
     "end_time": "2023-10-30T09:03:01.889985",
     "exception": false,
     "start_time": "2023-10-30T09:03:01.886890",
     "status": "completed"
    },
    "tags": []
   },
   "source": [
    "#### Ver resultados del las iteraciones hechas por RandomSearchCV"
   ]
  },
  {
   "cell_type": "code",
   "execution_count": 9,
   "id": "2b0c613f",
   "metadata": {
    "execution": {
     "iopub.execute_input": "2023-10-30T09:03:01.897054Z",
     "iopub.status.busy": "2023-10-30T09:03:01.896858Z",
     "iopub.status.idle": "2023-10-30T09:03:01.902899Z",
     "shell.execute_reply": "2023-10-30T09:03:01.902429Z"
    },
    "papermill": {
     "duration": 0.010835,
     "end_time": "2023-10-30T09:03:01.903904",
     "exception": false,
     "start_time": "2023-10-30T09:03:01.893069",
     "status": "completed"
    },
    "tags": []
   },
   "outputs": [
    {
     "name": "stdout",
     "output_type": "stream",
     "text": [
      "20231030T100301 : amilcar22 : INFO : Inicio ver resultados\n",
      "Mejores Hiperparámetros: {'selector__max_features': 1000, 'selector__estimator__n_estimators': 400, 'clasifier__solver': 'saga', 'clasifier__penalty': 'elasticnet', 'clasifier__max_iter': 10000, 'clasifier__l1_ratios': [0.1]}\n",
      "Mejores puntuaciones: 0.8765 | Params: {'selector__max_features': 1000, 'selector__estimator__n_estimators': 400, 'clasifier__solver': 'saga', 'clasifier__penalty': 'elasticnet', 'clasifier__max_iter': 10000, 'clasifier__l1_ratios': [0.1]}\n",
      "Media de las puntuaciones: 0.8765 | Params: {'selector__max_features': 1000, 'selector__estimator__n_estimators': 400, 'clasifier__solver': 'saga', 'clasifier__penalty': 'elasticnet', 'clasifier__max_iter': 10000, 'clasifier__l1_ratios': [0.1]}\n",
      "20231030T100301 : amilcar22 : INFO : Fin resultados\n"
     ]
    }
   ],
   "source": [
    "myfunc.ver_resultados_search(random_search)"
   ]
  },
  {
   "cell_type": "markdown",
   "id": "28f3e811",
   "metadata": {
    "papermill": {
     "duration": 0.003262,
     "end_time": "2023-10-30T09:03:01.910457",
     "exception": false,
     "start_time": "2023-10-30T09:03:01.907195",
     "status": "completed"
    },
    "tags": []
   },
   "source": [
    "#### Ver métricas del mejor modelo"
   ]
  },
  {
   "cell_type": "code",
   "execution_count": 10,
   "id": "db18cdde",
   "metadata": {
    "execution": {
     "iopub.execute_input": "2023-10-30T09:03:01.917613Z",
     "iopub.status.busy": "2023-10-30T09:03:01.917438Z",
     "iopub.status.idle": "2023-10-30T09:03:02.848126Z",
     "shell.execute_reply": "2023-10-30T09:03:02.847618Z"
    },
    "papermill": {
     "duration": 0.935694,
     "end_time": "2023-10-30T09:03:02.849402",
     "exception": false,
     "start_time": "2023-10-30T09:03:01.913708",
     "status": "completed"
    },
    "tags": []
   },
   "outputs": [
    {
     "name": "stdout",
     "output_type": "stream",
     "text": [
      "20231030T100301 : amilcar22 : INFO : Inicio ver métricas multiclase\n"
     ]
    },
    {
     "name": "stdout",
     "output_type": "stream",
     "text": [
      "              precision    recall  f1-score   support\n",
      "\n",
      "           0       0.50      0.44      0.47        16\n",
      "           1       1.00      0.67      0.80        15\n",
      "           2       0.38      0.55      0.44        11\n",
      "           3       0.33      0.60      0.43         5\n",
      "           4       0.70      0.54      0.61        13\n",
      "           5       0.67      0.67      0.67         9\n",
      "           6       0.58      0.61      0.59        18\n",
      "\n",
      "    accuracy                           0.57        87\n",
      "   macro avg       0.59      0.58      0.57        87\n",
      "weighted avg       0.62      0.57      0.59        87\n",
      "\n",
      "\n",
      "\n",
      "           Exactitud: 0.574713\n",
      "   Precisión (media): 0.593421\n",
      "      Recall (media): 0.580837\n",
      "    F1-score (media): 0.572806\n",
      "\n",
      "\n",
      "AUC para el tipo de cáncer 0-Control.... 0.7500\n",
      "AUC para el tipo de cáncer 1-Bladder.... 0.8898\n",
      "AUC para el tipo de cáncer 2-Breast..... 0.7022\n",
      "AUC para el tipo de cáncer 3-Colorectal. 0.8683\n",
      "AUC para el tipo de cáncer 4-Kidney..... 0.8929\n",
      "AUC para el tipo de cáncer 5-Lung....... 0.9801\n",
      "AUC para el tipo de cáncer 6-Prostate... 0.8575\n",
      "\n",
      "Media de AUC: 0.8487\n"
     ]
    },
    {
     "data": {
      "image/png": "[encoded data removed]",
      "text/plain": [
       "<Figure size 1000x600 with 1 Axes>"
      ]
     },
     "metadata": {},
     "output_type": "display_data"
    },
    {
     "name": "stdout",
     "output_type": "stream",
     "text": [
      "\n",
      "\n"
     ]
    },
    {
     "data": {
      "image/png": "[encoded data removed]",
      "text/plain": [
       "<Figure size 800x400 with 2 Axes>"
      ]
     },
     "metadata": {},
     "output_type": "display_data"
    },
    {
     "name": "stdout",
     "output_type": "stream",
     "text": [
      "\n",
      "\n",
      "Puntuación Jaccard para el cáncer tipo 0-Control.... 0.3043\n",
      "Puntuación Jaccard para el cáncer tipo 1-Bladder.... 0.6667\n",
      "Puntuación Jaccard para el cáncer tipo 2-Breast..... 0.2857\n",
      "Puntuación Jaccard para el cáncer tipo 3-Colorectal. 0.2727\n",
      "Puntuación Jaccard para el cáncer tipo 4-Kidney..... 0.4375\n",
      "Puntuación Jaccard para el cáncer tipo 5-Lung....... 0.5000\n",
      "Puntuación Jaccard para el cáncer tipo 6-Prostate... 0.4231\n",
      "\n",
      "Media de la puntuación de Jaccard: 0.4129\n"
     ]
    }
   ],
   "source": [
    "if M_TIPO.startswith(\"bin\"):\n",
    "    myfunc.ver_metricas(mejor_modelo, X_test, y_test)\n",
    "else:\n",
    "    myfunc.ver_metricas_multi(mejor_modelo, X_test, y_test)\n"
   ]
  },
  {
   "cell_type": "markdown",
   "id": "da2b5357",
   "metadata": {
    "papermill": {
     "duration": 0.004247,
     "end_time": "2023-10-30T09:03:02.858383",
     "exception": false,
     "start_time": "2023-10-30T09:03:02.854136",
     "status": "completed"
    },
    "tags": []
   },
   "source": [
    "#### Finalización del notebook"
   ]
  },
  {
   "cell_type": "code",
   "execution_count": 11,
   "id": "172952d4",
   "metadata": {
    "execution": {
     "iopub.execute_input": "2023-10-30T09:03:02.867619Z",
     "iopub.status.busy": "2023-10-30T09:03:02.867427Z",
     "iopub.status.idle": "2023-10-30T09:03:02.870987Z",
     "shell.execute_reply": "2023-10-30T09:03:02.870489Z"
    },
    "papermill": {
     "duration": 0.009463,
     "end_time": "2023-10-30T09:03:02.872003",
     "exception": false,
     "start_time": "2023-10-30T09:03:02.862540",
     "status": "completed"
    },
    "tags": []
   },
   "outputs": [
    {
     "name": "stdout",
     "output_type": "stream",
     "text": [
      "20231030T100302 : amilcar22 : INFO : Notebook ha tardado 1869 seconds\n"
     ]
    }
   ],
   "source": [
    "end_time = datetime.datetime.now()\n",
    "total_time = end_time - start_time\n",
    "myfunc.verbose(f\"Notebook ha tardado {total_time.seconds} seconds\")"
   ]
  },
  {
   "cell_type": "markdown",
   "id": "5f9a7589",
   "metadata": {
    "papermill": {
     "duration": 0.004238,
     "end_time": "2023-10-30T09:03:02.880548",
     "exception": false,
     "start_time": "2023-10-30T09:03:02.876310",
     "status": "completed"
    },
    "tags": []
   },
   "source": [
    "#### Guardar métricas"
   ]
  },
  {
   "cell_type": "code",
   "execution_count": 12,
   "id": "eeb2e000",
   "metadata": {
    "execution": {
     "iopub.execute_input": "2023-10-30T09:03:02.889886Z",
     "iopub.status.busy": "2023-10-30T09:03:02.889724Z",
     "iopub.status.idle": "2023-10-30T09:03:03.668052Z",
     "shell.execute_reply": "2023-10-30T09:03:03.667529Z"
    },
    "papermill": {
     "duration": 0.784381,
     "end_time": "2023-10-30T09:03:03.669282",
     "exception": false,
     "start_time": "2023-10-30T09:03:02.884901",
     "status": "completed"
    },
    "tags": []
   },
   "outputs": [
    {
     "name": "stdout",
     "output_type": "stream",
     "text": [
      "20231030T100303 : amilcar22 : INFO : Inicio guardar métricas multiclase\n",
      "20231030T100303 : amilcar22 : INFO : Inicio leer fichero ../tfm_git/ejecuciones/metricas/metricas_6191.csv\n",
      "20231030T100303 : amilcar22 : INFO : Fin leer fichero ../tfm_git/ejecuciones/metricas/metricas_6191.csv\n"
     ]
    },
    {
     "name": "stdout",
     "output_type": "stream",
     "text": [
      "20231030T100303 : amilcar22 : INFO : Inicio guardar fichero ../tfm_git/ejecuciones/metricas/metricas_6191.csv\n",
      "20231030T100303 : amilcar22 : INFO : Fichero borrado ../tfm_git/ejecuciones/metricas/metricas_6191.csv\n",
      "20231030T100303 : amilcar22 : INFO : Fin guardar fichero ../tfm_git/ejecuciones/metricas/metricas_6191.csv\n",
      "20231030T100303 : amilcar22 : INFO : Fin guardar métricas multiclase\n",
      "20231030T100303 : amilcar22 : INFO : Inicio leer fichero ../tfm_git/ejecuciones/metricas/metricas_6191.csv\n",
      "20231030T100303 : amilcar22 : INFO : Fin leer fichero ../tfm_git/ejecuciones/metricas/metricas_6191.csv\n"
     ]
    },
    {
     "data": {
      "text/html": [
       "<div>\n",
       "<style scoped>\n",
       "    .dataframe tbody tr th:only-of-type {\n",
       "        vertical-align: middle;\n",
       "    }\n",
       "\n",
       "    .dataframe tbody tr th {\n",
       "        vertical-align: top;\n",
       "    }\n",
       "\n",
       "    .dataframe thead th {\n",
       "        text-align: right;\n",
       "    }\n",
       "</style>\n",
       "<table border=\"1\" class=\"dataframe\">\n",
       "  <thead>\n",
       "    <tr style=\"text-align: right;\">\n",
       "      <th></th>\n",
       "      <th>tipo</th>\n",
       "      <th>select</th>\n",
       "      <th>clasific</th>\n",
       "      <th>semilla</th>\n",
       "      <th>accuracy</th>\n",
       "      <th>precision</th>\n",
       "      <th>recall</th>\n",
       "      <th>f1_score</th>\n",
       "      <th>roc_auc</th>\n",
       "      <th>hostname</th>\n",
       "      <th>total_time_sec</th>\n",
       "      <th>datetime</th>\n",
       "      <th>fichero_modelo</th>\n",
       "      <th>params</th>\n",
       "      <th>shape</th>\n",
       "      <th>features</th>\n",
       "      <th>roc_auc_ovr</th>\n",
       "      <th>indices_auc</th>\n",
       "      <th>indices_jaccard</th>\n",
       "    </tr>\n",
       "  </thead>\n",
       "  <tbody>\n",
       "    <tr>\n",
       "      <th>0</th>\n",
       "      <td>mul_m</td>\n",
       "      <td>RF</td>\n",
       "      <td>LR_EN</td>\n",
       "      <td>6191</td>\n",
       "      <td>0.574713</td>\n",
       "      <td>0.593421</td>\n",
       "      <td>0.580837</td>\n",
       "      <td>0.572806</td>\n",
       "      <td>NaN</td>\n",
       "      <td>amilcar22</td>\n",
       "      <td>1869</td>\n",
       "      <td>2023-10-30 10:03:03.638639</td>\n",
       "      <td>modelo_6191_mul_m_RF_LR_EN.pkl</td>\n",
       "      <td>{'selector__max_features': 1000, 'selector__es...</td>\n",
       "      <td>X_test:(87, 18875)</td>\n",
       "      <td>['ENSG00000000938.13', 'ENSG00000002587.10', '...</td>\n",
       "      <td>0.848677</td>\n",
       "      <td>[0.75, 0.889814814814815, 0.702153110047847, 0...</td>\n",
       "      <td>[0.30434782608695654, 0.6666666666666666, 0.28...</td>\n",
       "    </tr>\n",
       "    <tr>\n",
       "      <th>0</th>\n",
       "      <td>mul_m</td>\n",
       "      <td>MI</td>\n",
       "      <td>SVM</td>\n",
       "      <td>6191</td>\n",
       "      <td>0.528736</td>\n",
       "      <td>0.544686</td>\n",
       "      <td>0.564630</td>\n",
       "      <td>0.539103</td>\n",
       "      <td>NaN</td>\n",
       "      <td>amilcar22</td>\n",
       "      <td>204</td>\n",
       "      <td>2023-10-30 09:31:47.374685</td>\n",
       "      <td>modelo_6191_mul_m_MI_SVM.pkl</td>\n",
       "      <td>{'selector__k': 1000, 'clasifier__kernel': 'rb...</td>\n",
       "      <td>X_test:(87, 18875)</td>\n",
       "      <td>['ENSG00000001084.13', 'ENSG00000001460.18', '...</td>\n",
       "      <td>0.836317</td>\n",
       "      <td>[0.7816901408450705, 0.8425925925925926, 0.721...</td>\n",
       "      <td>[0.19047619047619047, 0.4, 0.23809523809523808...</td>\n",
       "    </tr>\n",
       "    <tr>\n",
       "      <th>0</th>\n",
       "      <td>mul_m</td>\n",
       "      <td>MI</td>\n",
       "      <td>RF</td>\n",
       "      <td>6191</td>\n",
       "      <td>0.459770</td>\n",
       "      <td>0.461438</td>\n",
       "      <td>0.509106</td>\n",
       "      <td>0.443402</td>\n",
       "      <td>NaN</td>\n",
       "      <td>amilcar22</td>\n",
       "      <td>224</td>\n",
       "      <td>2023-10-30 09:28:16.857615</td>\n",
       "      <td>modelo_6191_mul_m_MI_RF.pkl</td>\n",
       "      <td>{'selector__k': 1000, 'clasifier__n_estimators...</td>\n",
       "      <td>X_test:(87, 18875)</td>\n",
       "      <td>['ENSG00000001084.13', 'ENSG00000001460.18', '...</td>\n",
       "      <td>0.793344</td>\n",
       "      <td>[0.6056338028169015, 0.8601851851851853, 0.729...</td>\n",
       "      <td>[0.05263157894736842, 0.5, 0.26666666666666666...</td>\n",
       "    </tr>\n",
       "  </tbody>\n",
       "</table>\n",
       "</div>"
      ],
      "text/plain": [
       "    tipo select clasific  semilla  accuracy  precision    recall  f1_score  \\\n",
       "0  mul_m     RF    LR_EN     6191  0.574713   0.593421  0.580837  0.572806   \n",
       "0  mul_m     MI      SVM     6191  0.528736   0.544686  0.564630  0.539103   \n",
       "0  mul_m     MI       RF     6191  0.459770   0.461438  0.509106  0.443402   \n",
       "\n",
       "   roc_auc   hostname  total_time_sec                    datetime  \\\n",
       "0      NaN  amilcar22            1869  2023-10-30 10:03:03.638639   \n",
       "0      NaN  amilcar22             204  2023-10-30 09:31:47.374685   \n",
       "0      NaN  amilcar22             224  2023-10-30 09:28:16.857615   \n",
       "\n",
       "                   fichero_modelo  \\\n",
       "0  modelo_6191_mul_m_RF_LR_EN.pkl   \n",
       "0    modelo_6191_mul_m_MI_SVM.pkl   \n",
       "0     modelo_6191_mul_m_MI_RF.pkl   \n",
       "\n",
       "                                              params               shape  \\\n",
       "0  {'selector__max_features': 1000, 'selector__es...  X_test:(87, 18875)   \n",
       "0  {'selector__k': 1000, 'clasifier__kernel': 'rb...  X_test:(87, 18875)   \n",
       "0  {'selector__k': 1000, 'clasifier__n_estimators...  X_test:(87, 18875)   \n",
       "\n",
       "                                            features  roc_auc_ovr  \\\n",
       "0  ['ENSG00000000938.13', 'ENSG00000002587.10', '...     0.848677   \n",
       "0  ['ENSG00000001084.13', 'ENSG00000001460.18', '...     0.836317   \n",
       "0  ['ENSG00000001084.13', 'ENSG00000001460.18', '...     0.793344   \n",
       "\n",
       "                                         indices_auc  \\\n",
       "0  [0.75, 0.889814814814815, 0.702153110047847, 0...   \n",
       "0  [0.7816901408450705, 0.8425925925925926, 0.721...   \n",
       "0  [0.6056338028169015, 0.8601851851851853, 0.729...   \n",
       "\n",
       "                                     indices_jaccard  \n",
       "0  [0.30434782608695654, 0.6666666666666666, 0.28...  \n",
       "0  [0.19047619047619047, 0.4, 0.23809523809523808...  \n",
       "0  [0.05263157894736842, 0.5, 0.26666666666666666...  "
      ]
     },
     "metadata": {},
     "output_type": "display_data"
    }
   ],
   "source": [
    "if M_TIPO.startswith(\"bin\"):\n",
    "    myfunc.save_metricas_to_csv(random_search, X_test, y_test, M_TIPO, M_SELECT, M_CLASIF, total_time, SEMILLA, myfunc.MET_DIR, M_FICHERO, fichero_modelo)\n",
    "else:\n",
    "    myfunc.save_metricas_multi_to_csv(random_search, X_test, y_test, M_TIPO, M_SELECT, M_CLASIF, total_time, SEMILLA, myfunc.MET_DIR, M_FICHERO, fichero_modelo)\n",
    "\n",
    "df1=myfunc.read_metricas_to_df(myfunc.MET_DIR,M_FICHERO)\n",
    "\n",
    "display(df1.sort_values(\"datetime\", ascending=False)[:3])\n"
   ]
  },
  {
   "cell_type": "markdown",
   "id": "4299c7ef",
   "metadata": {
    "papermill": {
     "duration": 0.004791,
     "end_time": "2023-10-30T09:03:03.679237",
     "exception": false,
     "start_time": "2023-10-30T09:03:03.674446",
     "status": "completed"
    },
    "tags": []
   },
   "source": [
    "#### Guardar resultados"
   ]
  },
  {
   "cell_type": "code",
   "execution_count": 13,
   "id": "4af5a14e",
   "metadata": {
    "execution": {
     "iopub.execute_input": "2023-10-30T09:03:03.689347Z",
     "iopub.status.busy": "2023-10-30T09:03:03.689156Z",
     "iopub.status.idle": "2023-10-30T09:03:03.697373Z",
     "shell.execute_reply": "2023-10-30T09:03:03.696833Z"
    },
    "papermill": {
     "duration": 0.014622,
     "end_time": "2023-10-30T09:03:03.698548",
     "exception": false,
     "start_time": "2023-10-30T09:03:03.683926",
     "status": "completed"
    },
    "tags": []
   },
   "outputs": [
    {
     "name": "stdout",
     "output_type": "stream",
     "text": [
      "20231030T100303 : amilcar22 : INFO : Inicio guardar resultados\n",
      "20231030T100303 : amilcar22 : INFO : Inicio guardar fichero ../tfm_git/ejecuciones/metricas/resultados_6191_mul_m-RF-LR_EN.csv\n",
      "20231030T100303 : amilcar22 : INFO : Fin guardar fichero ../tfm_git/ejecuciones/metricas/resultados_6191_mul_m-RF-LR_EN.csv\n",
      "20231030T100303 : amilcar22 : INFO : Fin guardar resultados\n"
     ]
    }
   ],
   "source": [
    "fichero_resultados=R_FICHERO+\"_\"+M_TIPO+\"-\"+M_SELECT+\"-\"+M_CLASIF+\".csv\"\n",
    "myfunc.save_resultados_to_csv(M_TIPO, M_SELECT, M_CLASIF,  random_search, myfunc.MET_DIR, fichero_resultados)\n"
   ]
  }
 ],
 "metadata": {
  "kernelspec": {
   "display_name": "Python 3 (ipykernel)",
   "language": "python",
   "name": "python3"
  },
  "language_info": {
   "codemirror_mode": {
    "name": "ipython",
    "version": 3
   },
   "file_extension": ".py",
   "mimetype": "text/x-python",
   "name": "python",
   "nbconvert_exporter": "python",
   "pygments_lexer": "ipython3",
   "version": "3.10.12"
  },
  "papermill": {
   "default_parameters": {},
   "duration": 1874.758156,
   "end_time": "2023-10-30T09:03:06.321393",
   "environment_variables": {},
   "exception": null,
   "input_path": "03_entrenamiento.ipynb",
   "output_path": "ejecuciones/training/03_entrenamiento.20231030T093151.param_0000_6191_mul_m_RF_LR_EN.output.ipynb",
   "parameters": {
    "MAX_ITERS": 500,
    "M_CLASIF": "LR_EN",
    "M_FICHERO": "metricas_6191",
    "M_SELECT": "RF",
    "M_TIPO": "mul_m",
    "PRE_DATA_FILE": "rows_transpose_norm_by_gene_id_with_target_num_",
    "P_FICHERO": "param_0000_6191_mul_m_RF_LR_EN.yaml",
    "R_FICHERO": "resultados_6191",
    "SCORING": "roc_auc_ovr",
    "SEMILLA": 6191,
    "eval_clasifier": "LogisticRegressionCV(random_state=SEMILLA)",
    "eval_selector": "SelectFromModel(estimator=RandomForestClassifier(random_state=SEMILLA), threshold=-np.inf)",
    "param_distributions": {
     "clasifier__l1_ratios": [
      [
       0.1
      ]
     ],
     "clasifier__max_iter": [
      10000
     ],
     "clasifier__penalty": [
      "elasticnet"
     ],
     "clasifier__solver": [
      "saga"
     ],
     "selector__estimator__n_estimators": [
      400
     ],
     "selector__max_features": [
      1000
     ]
    }
   },
   "start_time": "2023-10-30T08:31:51.563237",
   "version": "2.4.0"
  }
 },
 "nbformat": 4,
 "nbformat_minor": 5
}