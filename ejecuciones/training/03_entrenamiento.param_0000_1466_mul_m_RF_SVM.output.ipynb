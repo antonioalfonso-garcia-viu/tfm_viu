{
 "cells": [
  {
   "cell_type": "markdown",
   "id": "28a6a9d9",
   "metadata": {
    "papermill": {
     "duration": 0.004216,
     "end_time": "2023-10-30T02:32:30.963059",
     "exception": false,
     "start_time": "2023-10-30T02:32:30.958843",
     "status": "completed"
    },
    "tags": []
   },
   "source": [
    "##### Inicio"
   ]
  },
  {
   "cell_type": "markdown",
   "id": "7a4e3d86",
   "metadata": {
    "papermill": {
     "duration": 0.003431,
     "end_time": "2023-10-30T02:32:30.970229",
     "exception": false,
     "start_time": "2023-10-30T02:32:30.966798",
     "status": "completed"
    },
    "tags": []
   },
   "source": [
    "#### Carga de datos"
   ]
  },
  {
   "cell_type": "code",
   "execution_count": 1,
   "id": "d494e4e3",
   "metadata": {
    "execution": {
     "iopub.execute_input": "2023-10-30T02:32:30.978489Z",
     "iopub.status.busy": "2023-10-30T02:32:30.978268Z",
     "iopub.status.idle": "2023-10-30T02:32:31.842598Z",
     "shell.execute_reply": "2023-10-30T02:32:31.841892Z"
    },
    "papermill": {
     "duration": 0.870287,
     "end_time": "2023-10-30T02:32:31.844025",
     "exception": false,
     "start_time": "2023-10-30T02:32:30.973738",
     "status": "completed"
    },
    "tags": []
   },
   "outputs": [
    {
     "name": "stdout",
     "output_type": "stream",
     "text": [
      "CPU_COUNT: 8; NODE: amilcar22; sys.version: 3.10.12 (main, Jul  5 2023, 19:22:19) [GCC 11.2.0]\n",
      "LOKY_MAX_CPU_COUNT: 6\n",
      "OMP_NUM_THREADS: 2\n"
     ]
    }
   ],
   "source": [
    "import os\n",
    "import numpy as np\n",
    "import pandas as pd\n",
    "import datetime\n",
    "import sklearn\n",
    "import logging\n",
    "import warnings\n",
    "\n",
    "from sklearn.pipeline import Pipeline\n",
    "from sklearn.model_selection import RandomizedSearchCV, KFold, cross_val_score, train_test_split\n",
    "from sklearn.metrics import accuracy_score, confusion_matrix, classification_report, roc_auc_score\n",
    "\n",
    "#  cargar algoritmos para aprendizaje supervisado\n",
    "from sklearn.feature_selection import SelectKBest, f_classif, SelectFromModel, mutual_info_classif\n",
    "from sklearn.svm import SVC\n",
    "from sklearn.ensemble import RandomForestClassifier\n",
    "from sklearn.linear_model import LogisticRegression,LogisticRegressionCV\n",
    "\n",
    "# importar fichero con utilidades propias\n",
    "from commons import myfunctions as myfunc\n"
   ]
  },
  {
   "cell_type": "markdown",
   "id": "e5eb8463",
   "metadata": {
    "papermill": {
     "duration": 0.002622,
     "end_time": "2023-10-30T02:32:31.849507",
     "exception": false,
     "start_time": "2023-10-30T02:32:31.846885",
     "status": "completed"
    },
    "tags": []
   },
   "source": [
    "#### Parámetros a utilizar en el entrenamiento.\n",
    "\n",
    "Se indican los 3 algoritmos de *selección de características* (eval_selector_xxx) y los 3 algoritmos para la _clasificación_ (eval_clasifier_xxx)\n",
    "\n",
    "En *param_distributions* se indicar los parámetros que utilizan los algoritmos en la función RandomSearchCV.\n",
    "\n",
    "Esta celda tiene la etiqueta **parameters** que servirá para poder lanzar los entrenamientos con la utilidad **papermill** pasándole un fichero con los parámetros. Los nuevos parámetros se situarán tras esta celda para tener prevalencia."
   ]
  },
  {
   "cell_type": "code",
   "execution_count": 2,
   "id": "62abc563",
   "metadata": {
    "execution": {
     "iopub.execute_input": "2023-10-30T02:32:31.855417Z",
     "iopub.status.busy": "2023-10-30T02:32:31.855156Z",
     "iopub.status.idle": "2023-10-30T02:32:31.862083Z",
     "shell.execute_reply": "2023-10-30T02:32:31.861543Z"
    },
    "papermill": {
     "duration": 0.011253,
     "end_time": "2023-10-30T02:32:31.863197",
     "exception": false,
     "start_time": "2023-10-30T02:32:31.851944",
     "status": "completed"
    },
    "tags": [
     "parameters"
    ]
   },
   "outputs": [
    {
     "name": "stdout",
     "output_type": "stream",
     "text": [
      "20231030T033231 : amilcar22 : INFO : Utilizando parámetros de mul_m\n"
     ]
    }
   ],
   "source": [
    "#  Parametros para el entrenamiento\n",
    "\n",
    "SEMILLA=        42\n",
    "M_TIPO=         \"mul_m\"\n",
    "M_SELECT=       \"MI\"\n",
    "M_CLASIF=       \"SVM\"\n",
    "R_FICHERO=      \"resultados\"\n",
    "M_FICHERO=      \"metricas\"\n",
    "PRE_DATA_FILE=  \"rows_transpose_norm_by_gene_id_with_target_num_\"\n",
    "SCORING=        \"roc_auc_ovr\" \n",
    "MAX_ITERS=      100\n",
    "\n",
    "def mutual_info_classif_state(X, y):\n",
    "    return mutual_info_classif(X, y, random_state=SEMILLA)\n",
    "\n",
    "eval_selector_mi = \"SelectKBest(score_func=mutual_info_classif_state)\"\n",
    "eval_selector_rf=  \"SelectFromModel(estimator=RandomForestClassifier(random_state=SEMILLA), threshold=-np.inf)\"\n",
    "eval_selector_anova=  \"SelectKBest(score_func=f_classif)\"\n",
    "\n",
    "eval_clasifier_svm= \"SVC(probability=True, random_state=SEMILLA)\"\n",
    "eval_clasifier_rf= \"RandomForestClassifier(random_state=SEMILLA)\"\n",
    "eval_clasifier_lr= \"LogisticRegressionCV(random_state=SEMILLA)\"\n",
    "\n",
    "if M_TIPO.startswith(\"bin_m\"):\n",
    "    myfunc.verbose(f\"Utilizando parámetros de {M_TIPO}\")\n",
    "    eval_selector = eval_selector_mi\n",
    "    eval_clasifier = eval_clasifier_svm\n",
    "\n",
    "    SEMILLA = 6578\n",
    "    M_SELECT = \"MI\"\n",
    "    M_CLASIF = \"SVM\"\n",
    "    param_distributions = {'selector__k': [1000], \n",
    "         'clasifier__kernel': ['rbf'], 'clasifier__gamma': [0.01], 'clasifier__C': [100]}\n",
    "elif M_TIPO.startswith(\"bin_s\"):\n",
    "    myfunc.verbose(f\"Utilizando parámetros de {M_TIPO}\")\n",
    "    eval_selector = eval_selector_rf\n",
    "    eval_clasifier = eval_clasifier_lr\n",
    "\n",
    "    SEMILLA = 6191\n",
    "    M_SELECT = \"RF\"\n",
    "    M_CLASIF = \"LR_L2\"\n",
    "    param_distributions = {'selector__max_features': [1000], 'selector__estimator__n_estimators': [200], \n",
    "        'clasifier__solver': ['lbfgs'], 'clasifier__penalty': ['l2'], 'clasifier__max_iter': [10000]}\n",
    "\n",
    "elif M_TIPO.startswith(\"mul_m\"):\n",
    "    myfunc.verbose(f\"Utilizando parámetros de {M_TIPO}\")\n",
    " \n",
    "    eval_selector = eval_selector_rf\n",
    "    eval_clasifier = eval_clasifier_lr\n",
    "\n",
    "    SEMILLA = 6191\n",
    "    M_SELECT = \"RF\"\n",
    "    M_CLASIF = \"LR_L2\"\n",
    "    param_distributions = {'selector__max_features': [1000], 'selector__estimator__n_estimators': [400], \n",
    "        'clasifier__solver': ['lbfgs'], 'clasifier__penalty': ['l2'], 'clasifier__max_iter': [10000]}\n",
    "\n",
    "else:\n",
    "    # M_TIPO.startswith(\"mul_s\"):\n",
    "    myfunc.verbose(f\"Utilizando parámetros de {M_TIPO}\")\n",
    "    eval_selector = eval_selector_anova\n",
    "    eval_clasifier = eval_clasifier_lr\n",
    "\n",
    "    SEMILLA = 1860\n",
    "    M_SELECT = \"ANOVA\"\n",
    "    M_CLASIF = \"LR_L2\"\n",
    "    param_distributions = {'selector__k': [1000], \n",
    "        'clasifier__solver': ['saga'], 'clasifier__penalty': ['l2'], 'clasifier__max_iter': [10000]}\n",
    "\n"
   ]
  },
  {
   "cell_type": "code",
   "execution_count": 3,
   "id": "6bfe847b",
   "metadata": {
    "execution": {
     "iopub.execute_input": "2023-10-30T02:32:31.869220Z",
     "iopub.status.busy": "2023-10-30T02:32:31.869027Z",
     "iopub.status.idle": "2023-10-30T02:32:31.872482Z",
     "shell.execute_reply": "2023-10-30T02:32:31.871993Z"
    },
    "papermill": {
     "duration": 0.007827,
     "end_time": "2023-10-30T02:32:31.873677",
     "exception": false,
     "start_time": "2023-10-30T02:32:31.865850",
     "status": "completed"
    },
    "tags": [
     "injected-parameters"
    ]
   },
   "outputs": [],
   "source": [
    "# Parameters\n",
    "M_TIPO = \"mul_m\"\n",
    "M_SELECT = \"RF\"\n",
    "M_CLASIF = \"SVM\"\n",
    "P_FICHERO = \"param_0000_1466_mul_m_RF_SVM.yaml\"\n",
    "R_FICHERO = \"resultados_1466\"\n",
    "M_FICHERO = \"metricas_1466\"\n",
    "PRE_DATA_FILE = \"rows_transpose_norm_by_gene_id_with_target_num_\"\n",
    "SCORING = \"roc_auc_ovr\"\n",
    "SEMILLA = 1466\n",
    "MAX_ITERS = 500\n",
    "eval_selector = \"SelectFromModel(estimator=RandomForestClassifier(random_state=SEMILLA), threshold=-np.inf)\"\n",
    "eval_clasifier = \"SVC(probability=True, random_state=SEMILLA)\"\n",
    "param_distributions = {\n",
    "    \"selector__max_features\": [200],\n",
    "    \"selector__estimator__n_estimators\": [400],\n",
    "    \"clasifier__kernel\": [\"rbf\"],\n",
    "    \"clasifier__gamma\": [0.01],\n",
    "    \"clasifier__C\": [10],\n",
    "}\n"
   ]
  },
  {
   "cell_type": "code",
   "execution_count": 4,
   "id": "13fbae1d",
   "metadata": {
    "execution": {
     "iopub.execute_input": "2023-10-30T02:32:31.879580Z",
     "iopub.status.busy": "2023-10-30T02:32:31.879402Z",
     "iopub.status.idle": "2023-10-30T02:32:31.882265Z",
     "shell.execute_reply": "2023-10-30T02:32:31.881823Z"
    },
    "papermill": {
     "duration": 0.007292,
     "end_time": "2023-10-30T02:32:31.883528",
     "exception": false,
     "start_time": "2023-10-30T02:32:31.876236",
     "status": "completed"
    },
    "tags": []
   },
   "outputs": [],
   "source": [
    "DATA_FILE = PRE_DATA_FILE + M_TIPO\n",
    "\n",
    "# si viene \"None\" en el parámetro max_depth, se le quitan las comillas para que no sea entendido por el algoritmo como un texto\n",
    "if \"clasifier__max_depth\" in param_distributions:\n",
    "    param_distributions['clasifier__max_depth'] = [None if x == 'None' else x for x in param_distributions['clasifier__max_depth']]"
   ]
  },
  {
   "cell_type": "markdown",
   "id": "64a2d299",
   "metadata": {
    "papermill": {
     "duration": 0.002758,
     "end_time": "2023-10-30T02:32:31.889065",
     "exception": false,
     "start_time": "2023-10-30T02:32:31.886307",
     "status": "completed"
    },
    "tags": []
   },
   "source": [
    "Asignar los algoritmos que se utilizarán en la función RandomSearchCV"
   ]
  },
  {
   "cell_type": "code",
   "execution_count": 5,
   "id": "d2ec09f7",
   "metadata": {
    "execution": {
     "iopub.execute_input": "2023-10-30T02:32:31.895406Z",
     "iopub.status.busy": "2023-10-30T02:32:31.895246Z",
     "iopub.status.idle": "2023-10-30T02:32:31.898083Z",
     "shell.execute_reply": "2023-10-30T02:32:31.897415Z"
    },
    "papermill": {
     "duration": 0.007676,
     "end_time": "2023-10-30T02:32:31.899595",
     "exception": false,
     "start_time": "2023-10-30T02:32:31.891919",
     "status": "completed"
    },
    "tags": []
   },
   "outputs": [],
   "source": [
    "algor_selector=eval(eval_selector)\n",
    "algor_clasifier=eval(eval_clasifier)"
   ]
  },
  {
   "cell_type": "markdown",
   "id": "a559cf8e",
   "metadata": {
    "papermill": {
     "duration": 0.003545,
     "end_time": "2023-10-30T02:32:31.906783",
     "exception": false,
     "start_time": "2023-10-30T02:32:31.903238",
     "status": "completed"
    },
    "tags": []
   },
   "source": [
    "#### Comprobar el entorno y leer fichero de muestras"
   ]
  },
  {
   "cell_type": "code",
   "execution_count": 6,
   "id": "f64c9f48",
   "metadata": {
    "execution": {
     "iopub.execute_input": "2023-10-30T02:32:31.914359Z",
     "iopub.status.busy": "2023-10-30T02:32:31.914182Z",
     "iopub.status.idle": "2023-10-30T02:32:32.075941Z",
     "shell.execute_reply": "2023-10-30T02:32:32.075440Z"
    },
    "papermill": {
     "duration": 0.167117,
     "end_time": "2023-10-30T02:32:32.077329",
     "exception": false,
     "start_time": "2023-10-30T02:32:31.910212",
     "status": "completed"
    },
    "tags": []
   },
   "outputs": [
    {
     "name": "stdout",
     "output_type": "stream",
     "text": [
      "20231030T033231 : amilcar22 : INFO : Encontrada carpeta DATA_DIR=../tfm_git/datos\n",
      "20231030T033231 : amilcar22 : INFO : Encontrada carpeta CFDNA_DIR=../tfm_git/datos/cfDNA_5hmC\n",
      "20231030T033231 : amilcar22 : INFO : Encontrada carpeta GENCODE_DIR=../tfm_git/datos/gencode\n",
      "20231030T033231 : amilcar22 : INFO : Encontrada carpeta H5_DIR=../tfm_git/datos/h5\n",
      "20231030T033231 : amilcar22 : INFO : Encontrada carpeta LOG_DIR=../tfm_git/datos/logs\n",
      "20231030T033231 : amilcar22 : INFO : Encontrada carpeta CSV_DIR=../tfm_git/datos/csv\n",
      "20231030T033231 : amilcar22 : INFO : Encontrada carpeta MODEL_DIR=../tfm_git/ejecuciones/modelos\n",
      "20231030T033231 : amilcar22 : INFO : Encontrada carpeta EXEC_DIR=../tfm_git/ejecuciones\n",
      "20231030T033231 : amilcar22 : INFO : Encontrada carpeta MET_DIR=../tfm_git/ejecuciones/metricas\n",
      "20231030T033231 : amilcar22 : INFO : Inicio leer fichero h5 ../tfm_git/datos/h5/rows_transpose_norm_by_gene_id_with_target_num_mul_m.h5\n",
      "20231030T033231 : amilcar22 : INFO : Leyendo clave /df\n",
      "20231030T033232 : amilcar22 : INFO : Tamaño (434, 18876)\n",
      "20231030T033232 : amilcar22 : INFO : Fin leer fichero h5 ../tfm_git/datos/h5/rows_transpose_norm_by_gene_id_with_target_num_mul_m.h5\n"
     ]
    },
    {
     "data": {
      "text/plain": [
       "target\n",
       "0    62\n",
       "1    62\n",
       "2    62\n",
       "3    62\n",
       "4    62\n",
       "5    62\n",
       "6    62\n",
       "dtype: int64"
      ]
     },
     "metadata": {},
     "output_type": "display_data"
    },
    {
     "name": "stdout",
     "output_type": "stream",
     "text": [
      "Shape df: (434, 18876)\n"
     ]
    },
    {
     "name": "stdout",
     "output_type": "stream",
     "text": [
      "Shape X_train: (347, 18875)\n",
      "Shape X_test: (87, 18875)\n"
     ]
    }
   ],
   "source": [
    "start_time = datetime.datetime.now()\n",
    "\n",
    "myfunc.reset_vars()\n",
    "\n",
    "myfunc.NOTEBK_FILENAME = myfunc.get_nb_name()\n",
    "\n",
    "myfunc.check_enviroment(myfunc.DATA_DIR, myfunc.CFDNA_DIR, myfunc.GENCODE_DIR, myfunc.H5_DIR, myfunc.LOG_DIR, myfunc.CSV_DIR, myfunc.MODEL_DIR, myfunc.EXEC_DIR, myfunc.MET_DIR)\n",
    "\n",
    "# Leer fichero con las muestras\n",
    "df_t = myfunc.read_h5_to_df(DATA_FILE, myfunc.H5_DIR)\n",
    "display(df_t.groupby(\"target\").size())\n",
    "print(\"Shape df:\",df_t.shape)\n",
    "\n",
    "# Separar caracteristicas/genes de las etiquetas/tipos de cáncer\n",
    "X = df_t.iloc[:, :-1]  # Todas las columnas excepto la última\n",
    "y = df_t.iloc[:, -1]  # La última columna contiene los identificadores de los tipos de cáncer\n",
    "\n",
    "#  Crear el conjunto de datos de entrenamiento y de pruebas, y se fija la semilla para siempre coger el mismo juego de muestras\n",
    "X_train, X_test, y_train, y_test = train_test_split(X, y, test_size=0.2, shuffle=True, random_state=42)\n",
    "print(\"Shape X_train:\",X_train.shape)\n",
    "print(\"Shape X_test:\",X_test.shape)\n"
   ]
  },
  {
   "cell_type": "markdown",
   "id": "61209194",
   "metadata": {
    "papermill": {
     "duration": 0.002778,
     "end_time": "2023-10-30T02:32:32.083327",
     "exception": false,
     "start_time": "2023-10-30T02:32:32.080549",
     "status": "completed"
    },
    "tags": []
   },
   "source": [
    "#### Selección de características y clasificación."
   ]
  },
  {
   "cell_type": "code",
   "execution_count": 7,
   "id": "72c3b5ef",
   "metadata": {
    "execution": {
     "iopub.execute_input": "2023-10-30T02:32:32.089880Z",
     "iopub.status.busy": "2023-10-30T02:32:32.089707Z",
     "iopub.status.idle": "2023-10-30T02:32:50.015155Z",
     "shell.execute_reply": "2023-10-30T02:32:50.014578Z"
    },
    "papermill": {
     "duration": 17.93028,
     "end_time": "2023-10-30T02:32:50.016418",
     "exception": false,
     "start_time": "2023-10-30T02:32:32.086138",
     "status": "completed"
    },
    "tags": []
   },
   "outputs": [
    {
     "name": "stdout",
     "output_type": "stream",
     "text": [
      "20231030T033232 : amilcar22 : INFO : Iniciando entrenamiento\n",
      "num_iter: 1 , max_iter: 1\n",
      "Fitting 5 folds for each of 1 candidates, totalling 5 fits\n"
     ]
    },
    {
     "name": "stdout",
     "output_type": "stream",
     "text": [
      "Mejores Hiperparámetros: {'selector__max_features': 200, 'selector__estimator__n_estimators': 400, 'clasifier__kernel': 'rbf', 'clasifier__gamma': 0.01, 'clasifier__C': 10}\n",
      "Mejor Puntuación: 0.8481\n",
      "20231030T033250 : amilcar22 : INFO : Fin entrenamiento\n"
     ]
    }
   ],
   "source": [
    "myfunc.verbose(\"Iniciando entrenamiento\")\n",
    "\n",
    "kf = KFold(n_splits=5, shuffle=True, random_state=SEMILLA)\n",
    "\n",
    "# Crear el pipeline para el flujo de tareas\n",
    "tasks_pipeline = Pipeline([\n",
    "    ('selector', algor_selector),\n",
    "    ('clasifier', algor_clasifier)\n",
    "])\n",
    "\n",
    "# MAX_ITERS puede limitar el número de iteraciones si son excesivas para las combinaciones de parámetros buscando un óptimo local, \n",
    "# sino funcionaría como GridSearchCV al revisar todas las cominaciones de los parámetros\n",
    "num_iteraciones = 1\n",
    "num_iteraciones = num_iteraciones * np.prod([len(elemento1) for _, elemento1 in param_distributions.items()])\n",
    "max_iteraciones = num_iteraciones if num_iteraciones <= MAX_ITERS else MAX_ITERS\n",
    "print(\"num_iter:\",num_iteraciones,\", max_iter:\",max_iteraciones)\n",
    "\n",
    "random_search = RandomizedSearchCV(\n",
    "    tasks_pipeline, \n",
    "    param_distributions, \n",
    "    n_iter=max_iteraciones,\n",
    "    scoring=SCORING,\n",
    "    cv=kf,\n",
    "    verbose=3, \n",
    "    random_state=SEMILLA, \n",
    "    n_jobs=-1\n",
    "    )\n",
    "\n",
    "# Entrenar el modelo\n",
    "random_search.fit(X_train, y_train)\n",
    "\n",
    "# Ver los mejores hiperparámetros encontrados\n",
    "print(f'Mejores Hiperparámetros: {random_search.best_params_}')\n",
    "print(f'Mejor Puntuación: {random_search.best_score_:.4f}')\n",
    "\n",
    "# Nos quedamos con el mejor modelo para ver las métricas\n",
    "mejor_modelo = random_search.best_estimator_\n",
    "\n",
    "myfunc.verbose(\"Fin entrenamiento\")"
   ]
  },
  {
   "cell_type": "markdown",
   "id": "8240c421",
   "metadata": {
    "papermill": {
     "duration": 0.002948,
     "end_time": "2023-10-30T02:32:50.022799",
     "exception": false,
     "start_time": "2023-10-30T02:32:50.019851",
     "status": "completed"
    },
    "tags": []
   },
   "source": [
    "#### Guardar modelo"
   ]
  },
  {
   "cell_type": "code",
   "execution_count": 8,
   "id": "3bf208f3",
   "metadata": {
    "execution": {
     "iopub.execute_input": "2023-10-30T02:32:50.029587Z",
     "iopub.status.busy": "2023-10-30T02:32:50.029404Z",
     "iopub.status.idle": "2023-10-30T02:32:50.162655Z",
     "shell.execute_reply": "2023-10-30T02:32:50.162089Z"
    },
    "papermill": {
     "duration": 0.13822,
     "end_time": "2023-10-30T02:32:50.163936",
     "exception": false,
     "start_time": "2023-10-30T02:32:50.025716",
     "status": "completed"
    },
    "tags": []
   },
   "outputs": [
    {
     "name": "stdout",
     "output_type": "stream",
     "text": [
      "20231030T033250 : amilcar22 : INFO : Inicio guardar fichero ../tfm_git/ejecuciones/modelos/modelo_1466_mul_m_RF_SVM.pkl\n",
      "20231030T033250 : amilcar22 : INFO : Fin guardar fichero ../tfm_git/ejecuciones/modelos/modelo_1466_mul_m_RF_SVM.pkl\n"
     ]
    }
   ],
   "source": [
    "fichero_modelo = str.replace(\"modelo_\"+str(SEMILLA).zfill(4)+\"_\"+M_TIPO+\"_\"+M_SELECT+\"_\"+M_CLASIF+\".pkl\", \" \", \"_\")\n",
    "\n",
    "myfunc.save_modelo(mejor_modelo, myfunc.MODEL_DIR, fichero_modelo)"
   ]
  },
  {
   "cell_type": "markdown",
   "id": "5f4cf2de",
   "metadata": {
    "papermill": {
     "duration": 0.003384,
     "end_time": "2023-10-30T02:32:50.170854",
     "exception": false,
     "start_time": "2023-10-30T02:32:50.167470",
     "status": "completed"
    },
    "tags": []
   },
   "source": [
    "#### Ver resultados del las iteraciones hechas por RandomSearchCV"
   ]
  },
  {
   "cell_type": "code",
   "execution_count": 9,
   "id": "dbcaa0a7",
   "metadata": {
    "execution": {
     "iopub.execute_input": "2023-10-30T02:32:50.177688Z",
     "iopub.status.busy": "2023-10-30T02:32:50.177492Z",
     "iopub.status.idle": "2023-10-30T02:32:50.183362Z",
     "shell.execute_reply": "2023-10-30T02:32:50.182865Z"
    },
    "papermill": {
     "duration": 0.010744,
     "end_time": "2023-10-30T02:32:50.184621",
     "exception": false,
     "start_time": "2023-10-30T02:32:50.173877",
     "status": "completed"
    },
    "tags": []
   },
   "outputs": [
    {
     "name": "stdout",
     "output_type": "stream",
     "text": [
      "20231030T033250 : amilcar22 : INFO : Inicio ver resultados\n",
      "Mejores Hiperparámetros: {'selector__max_features': 200, 'selector__estimator__n_estimators': 400, 'clasifier__kernel': 'rbf', 'clasifier__gamma': 0.01, 'clasifier__C': 10}\n",
      "Mejores puntuaciones: 0.8481 | Params: {'selector__max_features': 200, 'selector__estimator__n_estimators': 400, 'clasifier__kernel': 'rbf', 'clasifier__gamma': 0.01, 'clasifier__C': 10}\n",
      "Media de las puntuaciones: 0.8481 | Params: {'selector__max_features': 200, 'selector__estimator__n_estimators': 400, 'clasifier__kernel': 'rbf', 'clasifier__gamma': 0.01, 'clasifier__C': 10}\n",
      "20231030T033250 : amilcar22 : INFO : Fin resultados\n"
     ]
    }
   ],
   "source": [
    "myfunc.ver_resultados_search(random_search)"
   ]
  },
  {
   "cell_type": "markdown",
   "id": "f1e38343",
   "metadata": {
    "papermill": {
     "duration": 0.003012,
     "end_time": "2023-10-30T02:32:50.190918",
     "exception": false,
     "start_time": "2023-10-30T02:32:50.187906",
     "status": "completed"
    },
    "tags": []
   },
   "source": [
    "#### Ver métricas del mejor modelo"
   ]
  },
  {
   "cell_type": "code",
   "execution_count": 10,
   "id": "2ee3b8e9",
   "metadata": {
    "execution": {
     "iopub.execute_input": "2023-10-30T02:32:50.197725Z",
     "iopub.status.busy": "2023-10-30T02:32:50.197547Z",
     "iopub.status.idle": "2023-10-30T02:32:51.135078Z",
     "shell.execute_reply": "2023-10-30T02:32:51.134478Z"
    },
    "papermill": {
     "duration": 0.942431,
     "end_time": "2023-10-30T02:32:51.136412",
     "exception": false,
     "start_time": "2023-10-30T02:32:50.193981",
     "status": "completed"
    },
    "tags": []
   },
   "outputs": [
    {
     "name": "stdout",
     "output_type": "stream",
     "text": [
      "20231030T033250 : amilcar22 : INFO : Inicio ver métricas multiclase\n"
     ]
    },
    {
     "name": "stdout",
     "output_type": "stream",
     "text": [
      "              precision    recall  f1-score   support\n",
      "\n",
      "           0       0.11      0.06      0.08        16\n",
      "           1       0.82      0.60      0.69        15\n",
      "           2       0.33      0.36      0.35        11\n",
      "           3       0.21      0.60      0.32         5\n",
      "           4       0.57      0.62      0.59        13\n",
      "           5       0.64      0.78      0.70         9\n",
      "           6       0.62      0.56      0.59        18\n",
      "\n",
      "    accuracy                           0.48        87\n",
      "   macro avg       0.47      0.51      0.47        87\n",
      "weighted avg       0.50      0.48      0.48        87\n",
      "\n",
      "\n",
      "\n",
      "           Exactitud: 0.482759\n",
      "   Precisión (media): 0.472815\n",
      "      Recall (media): 0.510693\n",
      "    F1-score (media): 0.473822\n",
      "\n",
      "\n",
      "AUC para el tipo de cáncer 0-Control.... 0.5643\n",
      "AUC para el tipo de cáncer 1-Bladder.... 0.9259\n",
      "AUC para el tipo de cáncer 2-Breast..... 0.7069\n",
      "AUC para el tipo de cáncer 3-Colorectal. 0.8634\n",
      "AUC para el tipo de cáncer 4-Kidney..... 0.8264\n",
      "AUC para el tipo de cáncer 5-Lung....... 0.9231\n",
      "AUC para el tipo de cáncer 6-Prostate... 0.8406\n",
      "\n",
      "Media de AUC: 0.8072\n"
     ]
    },
    {
     "data": {
      "image/png": "[encoded data removed]",
      "text/plain": [
       "<Figure size 1000x600 with 1 Axes>"
      ]
     },
     "metadata": {},
     "output_type": "display_data"
    },
    {
     "name": "stdout",
     "output_type": "stream",
     "text": [
      "\n",
      "\n"
     ]
    },
    {
     "data": {
      "image/png": "[encoded data removed]",
      "text/plain": [
       "<Figure size 800x400 with 2 Axes>"
      ]
     },
     "metadata": {},
     "output_type": "display_data"
    },
    {
     "name": "stdout",
     "output_type": "stream",
     "text": [
      "\n",
      "\n",
      "Puntuación Jaccard para el cáncer tipo 0-Control.... 0.0417\n",
      "Puntuación Jaccard para el cáncer tipo 1-Bladder.... 0.5294\n",
      "Puntuación Jaccard para el cáncer tipo 2-Breast..... 0.2105\n",
      "Puntuación Jaccard para el cáncer tipo 3-Colorectal. 0.1875\n",
      "Puntuación Jaccard para el cáncer tipo 4-Kidney..... 0.4211\n",
      "Puntuación Jaccard para el cáncer tipo 5-Lung....... 0.5385\n",
      "Puntuación Jaccard para el cáncer tipo 6-Prostate... 0.4167\n",
      "\n",
      "Media de la puntuación de Jaccard: 0.3350\n"
     ]
    }
   ],
   "source": [
    "if M_TIPO.startswith(\"bin\"):\n",
    "    myfunc.ver_metricas(mejor_modelo, X_test, y_test)\n",
    "else:\n",
    "    myfunc.ver_metricas_multi(mejor_modelo, X_test, y_test)\n"
   ]
  },
  {
   "cell_type": "markdown",
   "id": "7aa3e5fe",
   "metadata": {
    "papermill": {
     "duration": 0.004068,
     "end_time": "2023-10-30T02:32:51.145292",
     "exception": false,
     "start_time": "2023-10-30T02:32:51.141224",
     "status": "completed"
    },
    "tags": []
   },
   "source": [
    "#### Finalización del notebook"
   ]
  },
  {
   "cell_type": "code",
   "execution_count": 11,
   "id": "b22fbf0b",
   "metadata": {
    "execution": {
     "iopub.execute_input": "2023-10-30T02:32:51.168032Z",
     "iopub.status.busy": "2023-10-30T02:32:51.167729Z",
     "iopub.status.idle": "2023-10-30T02:32:51.171192Z",
     "shell.execute_reply": "2023-10-30T02:32:51.170727Z"
    },
    "papermill": {
     "duration": 0.017081,
     "end_time": "2023-10-30T02:32:51.172327",
     "exception": false,
     "start_time": "2023-10-30T02:32:51.155246",
     "status": "completed"
    },
    "tags": []
   },
   "outputs": [
    {
     "name": "stdout",
     "output_type": "stream",
     "text": [
      "20231030T033251 : amilcar22 : INFO : Notebook ha tardado 19 seconds\n"
     ]
    }
   ],
   "source": [
    "end_time = datetime.datetime.now()\n",
    "total_time = end_time - start_time\n",
    "myfunc.verbose(f\"Notebook ha tardado {total_time.seconds} seconds\")"
   ]
  },
  {
   "cell_type": "markdown",
   "id": "be032506",
   "metadata": {
    "papermill": {
     "duration": 0.006774,
     "end_time": "2023-10-30T02:32:51.183881",
     "exception": false,
     "start_time": "2023-10-30T02:32:51.177107",
     "status": "completed"
    },
    "tags": []
   },
   "source": [
    "#### Guardar métricas"
   ]
  },
  {
   "cell_type": "code",
   "execution_count": 12,
   "id": "ea5a43a3",
   "metadata": {
    "execution": {
     "iopub.execute_input": "2023-10-30T02:32:51.193685Z",
     "iopub.status.busy": "2023-10-30T02:32:51.193510Z",
     "iopub.status.idle": "2023-10-30T02:32:51.987546Z",
     "shell.execute_reply": "2023-10-30T02:32:51.987017Z"
    },
    "papermill": {
     "duration": 0.800313,
     "end_time": "2023-10-30T02:32:51.988841",
     "exception": false,
     "start_time": "2023-10-30T02:32:51.188528",
     "status": "completed"
    },
    "tags": []
   },
   "outputs": [
    {
     "name": "stdout",
     "output_type": "stream",
     "text": [
      "20231030T033251 : amilcar22 : INFO : Inicio guardar métricas multiclase\n",
      "20231030T033251 : amilcar22 : INFO : Inicio leer fichero ../tfm_git/ejecuciones/metricas/metricas_1466.csv\n",
      "20231030T033251 : amilcar22 : INFO : Fin leer fichero ../tfm_git/ejecuciones/metricas/metricas_1466.csv\n"
     ]
    },
    {
     "name": "stdout",
     "output_type": "stream",
     "text": [
      "20231030T033251 : amilcar22 : INFO : Inicio guardar fichero ../tfm_git/ejecuciones/metricas/metricas_1466.csv\n",
      "20231030T033251 : amilcar22 : INFO : Fichero borrado ../tfm_git/ejecuciones/metricas/metricas_1466.csv\n",
      "20231030T033251 : amilcar22 : INFO : Fin guardar fichero ../tfm_git/ejecuciones/metricas/metricas_1466.csv\n",
      "20231030T033251 : amilcar22 : INFO : Fin guardar métricas multiclase\n",
      "20231030T033251 : amilcar22 : INFO : Inicio leer fichero ../tfm_git/ejecuciones/metricas/metricas_1466.csv\n",
      "20231030T033251 : amilcar22 : INFO : Fin leer fichero ../tfm_git/ejecuciones/metricas/metricas_1466.csv\n"
     ]
    },
    {
     "data": {
      "text/html": [
       "<div>\n",
       "<style scoped>\n",
       "    .dataframe tbody tr th:only-of-type {\n",
       "        vertical-align: middle;\n",
       "    }\n",
       "\n",
       "    .dataframe tbody tr th {\n",
       "        vertical-align: top;\n",
       "    }\n",
       "\n",
       "    .dataframe thead th {\n",
       "        text-align: right;\n",
       "    }\n",
       "</style>\n",
       "<table border=\"1\" class=\"dataframe\">\n",
       "  <thead>\n",
       "    <tr style=\"text-align: right;\">\n",
       "      <th></th>\n",
       "      <th>tipo</th>\n",
       "      <th>select</th>\n",
       "      <th>clasific</th>\n",
       "      <th>semilla</th>\n",
       "      <th>accuracy</th>\n",
       "      <th>precision</th>\n",
       "      <th>recall</th>\n",
       "      <th>f1_score</th>\n",
       "      <th>roc_auc</th>\n",
       "      <th>hostname</th>\n",
       "      <th>total_time_sec</th>\n",
       "      <th>datetime</th>\n",
       "      <th>fichero_modelo</th>\n",
       "      <th>params</th>\n",
       "      <th>shape</th>\n",
       "      <th>features</th>\n",
       "      <th>roc_auc_ovr</th>\n",
       "      <th>indices_auc</th>\n",
       "      <th>indices_jaccard</th>\n",
       "    </tr>\n",
       "  </thead>\n",
       "  <tbody>\n",
       "    <tr>\n",
       "      <th>0</th>\n",
       "      <td>mul_m</td>\n",
       "      <td>RF</td>\n",
       "      <td>SVM</td>\n",
       "      <td>1466</td>\n",
       "      <td>0.482759</td>\n",
       "      <td>0.472815</td>\n",
       "      <td>0.510693</td>\n",
       "      <td>0.473822</td>\n",
       "      <td>NaN</td>\n",
       "      <td>amilcar22</td>\n",
       "      <td>19</td>\n",
       "      <td>2023-10-30 03:32:51.957959</td>\n",
       "      <td>modelo_1466_mul_m_RF_SVM.pkl</td>\n",
       "      <td>{'selector__max_features': 200, 'selector__est...</td>\n",
       "      <td>X_test:(87, 18875)</td>\n",
       "      <td>['ENSG00000003137.9', 'ENSG00000019169.11', 'E...</td>\n",
       "      <td>0.807228</td>\n",
       "      <td>[0.5642605633802817, 0.925925925925926, 0.7069...</td>\n",
       "      <td>[0.041666666666666664, 0.5294117647058824, 0.2...</td>\n",
       "    </tr>\n",
       "    <tr>\n",
       "      <th>0</th>\n",
       "      <td>mul_m</td>\n",
       "      <td>RF</td>\n",
       "      <td>RF</td>\n",
       "      <td>1466</td>\n",
       "      <td>0.517241</td>\n",
       "      <td>0.442623</td>\n",
       "      <td>0.565301</td>\n",
       "      <td>0.483488</td>\n",
       "      <td>NaN</td>\n",
       "      <td>amilcar22</td>\n",
       "      <td>26</td>\n",
       "      <td>2023-10-30 03:32:25.871267</td>\n",
       "      <td>modelo_1466_mul_m_RF_RF.pkl</td>\n",
       "      <td>{'selector__max_features': 500, 'selector__est...</td>\n",
       "      <td>X_test:(87, 18875)</td>\n",
       "      <td>['ENSG00000000938.13', 'ENSG00000003137.9', 'E...</td>\n",
       "      <td>0.836304</td>\n",
       "      <td>[0.6496478873239436, 0.875, 0.8169856459330144...</td>\n",
       "      <td>[0.0, 0.45, 0.2631578947368421, 0.307692307692...</td>\n",
       "    </tr>\n",
       "    <tr>\n",
       "      <th>0</th>\n",
       "      <td>mul_m</td>\n",
       "      <td>RF</td>\n",
       "      <td>LR_L2</td>\n",
       "      <td>1466</td>\n",
       "      <td>0.597701</td>\n",
       "      <td>0.611651</td>\n",
       "      <td>0.625282</td>\n",
       "      <td>0.602805</td>\n",
       "      <td>NaN</td>\n",
       "      <td>amilcar22</td>\n",
       "      <td>56</td>\n",
       "      <td>2023-10-30 03:31:52.725569</td>\n",
       "      <td>modelo_1466_mul_m_RF_LR_L2.pkl</td>\n",
       "      <td>{'selector__max_features': 1000, 'selector__es...</td>\n",
       "      <td>X_test:(87, 18875)</td>\n",
       "      <td>['ENSG00000000938.13', 'ENSG00000002933.9', 'E...</td>\n",
       "      <td>0.865892</td>\n",
       "      <td>[0.8265845070422535, 0.8907407407407406, 0.771...</td>\n",
       "      <td>[0.35, 0.5555555555555556, 0.2857142857142857,...</td>\n",
       "    </tr>\n",
       "  </tbody>\n",
       "</table>\n",
       "</div>"
      ],
      "text/plain": [
       "    tipo select clasific  semilla  accuracy  precision    recall  f1_score  \\\n",
       "0  mul_m     RF      SVM     1466  0.482759   0.472815  0.510693  0.473822   \n",
       "0  mul_m     RF       RF     1466  0.517241   0.442623  0.565301  0.483488   \n",
       "0  mul_m     RF    LR_L2     1466  0.597701   0.611651  0.625282  0.602805   \n",
       "\n",
       "   roc_auc   hostname  total_time_sec                    datetime  \\\n",
       "0      NaN  amilcar22              19  2023-10-30 03:32:51.957959   \n",
       "0      NaN  amilcar22              26  2023-10-30 03:32:25.871267   \n",
       "0      NaN  amilcar22              56  2023-10-30 03:31:52.725569   \n",
       "\n",
       "                   fichero_modelo  \\\n",
       "0    modelo_1466_mul_m_RF_SVM.pkl   \n",
       "0     modelo_1466_mul_m_RF_RF.pkl   \n",
       "0  modelo_1466_mul_m_RF_LR_L2.pkl   \n",
       "\n",
       "                                              params               shape  \\\n",
       "0  {'selector__max_features': 200, 'selector__est...  X_test:(87, 18875)   \n",
       "0  {'selector__max_features': 500, 'selector__est...  X_test:(87, 18875)   \n",
       "0  {'selector__max_features': 1000, 'selector__es...  X_test:(87, 18875)   \n",
       "\n",
       "                                            features  roc_auc_ovr  \\\n",
       "0  ['ENSG00000003137.9', 'ENSG00000019169.11', 'E...     0.807228   \n",
       "0  ['ENSG00000000938.13', 'ENSG00000003137.9', 'E...     0.836304   \n",
       "0  ['ENSG00000000938.13', 'ENSG00000002933.9', 'E...     0.865892   \n",
       "\n",
       "                                         indices_auc  \\\n",
       "0  [0.5642605633802817, 0.925925925925926, 0.7069...   \n",
       "0  [0.6496478873239436, 0.875, 0.8169856459330144...   \n",
       "0  [0.8265845070422535, 0.8907407407407406, 0.771...   \n",
       "\n",
       "                                     indices_jaccard  \n",
       "0  [0.041666666666666664, 0.5294117647058824, 0.2...  \n",
       "0  [0.0, 0.45, 0.2631578947368421, 0.307692307692...  \n",
       "0  [0.35, 0.5555555555555556, 0.2857142857142857,...  "
      ]
     },
     "metadata": {},
     "output_type": "display_data"
    }
   ],
   "source": [
    "if M_TIPO.startswith(\"bin\"):\n",
    "    myfunc.save_metricas_to_csv(random_search, X_test, y_test, M_TIPO, M_SELECT, M_CLASIF, total_time, SEMILLA, myfunc.MET_DIR, M_FICHERO, fichero_modelo)\n",
    "else:\n",
    "    myfunc.save_metricas_multi_to_csv(random_search, X_test, y_test, M_TIPO, M_SELECT, M_CLASIF, total_time, SEMILLA, myfunc.MET_DIR, M_FICHERO, fichero_modelo)\n",
    "\n",
    "df1=myfunc.read_metricas_to_df(myfunc.MET_DIR,M_FICHERO)\n",
    "\n",
    "display(df1.sort_values(\"datetime\", ascending=False)[:3])\n"
   ]
  },
  {
   "cell_type": "markdown",
   "id": "c8d40574",
   "metadata": {
    "papermill": {
     "duration": 0.004321,
     "end_time": "2023-10-30T02:32:51.998258",
     "exception": false,
     "start_time": "2023-10-30T02:32:51.993937",
     "status": "completed"
    },
    "tags": []
   },
   "source": [
    "#### Guardar resultados"
   ]
  },
  {
   "cell_type": "code",
   "execution_count": 13,
   "id": "09a7a429",
   "metadata": {
    "execution": {
     "iopub.execute_input": "2023-10-30T02:32:52.007761Z",
     "iopub.status.busy": "2023-10-30T02:32:52.007572Z",
     "iopub.status.idle": "2023-10-30T02:32:52.015492Z",
     "shell.execute_reply": "2023-10-30T02:32:52.015041Z"
    },
    "papermill": {
     "duration": 0.0142,
     "end_time": "2023-10-30T02:32:52.016789",
     "exception": false,
     "start_time": "2023-10-30T02:32:52.002589",
     "status": "completed"
    },
    "tags": []
   },
   "outputs": [
    {
     "name": "stdout",
     "output_type": "stream",
     "text": [
      "20231030T033252 : amilcar22 : INFO : Inicio guardar resultados\n",
      "20231030T033252 : amilcar22 : INFO : Inicio guardar fichero ../tfm_git/ejecuciones/metricas/resultados_1466_mul_m-RF-SVM.csv\n",
      "20231030T033252 : amilcar22 : INFO : Fin guardar fichero ../tfm_git/ejecuciones/metricas/resultados_1466_mul_m-RF-SVM.csv\n",
      "20231030T033252 : amilcar22 : INFO : Fin guardar resultados\n"
     ]
    }
   ],
   "source": [
    "fichero_resultados=R_FICHERO+\"_\"+M_TIPO+\"-\"+M_SELECT+\"-\"+M_CLASIF+\".csv\"\n",
    "myfunc.save_resultados_to_csv(M_TIPO, M_SELECT, M_CLASIF,  random_search, myfunc.MET_DIR, fichero_resultados)\n"
   ]
  }
 ],
 "metadata": {
  "kernelspec": {
   "display_name": "Python 3 (ipykernel)",
   "language": "python",
   "name": "python3"
  },
  "language_info": {
   "codemirror_mode": {
    "name": "ipython",
    "version": 3
   },
   "file_extension": ".py",
   "mimetype": "text/x-python",
   "name": "python",
   "nbconvert_exporter": "python",
   "pygments_lexer": "ipython3",
   "version": "3.10.12"
  },
  "papermill": {
   "default_parameters": {},
   "duration": 24.594784,
   "end_time": "2023-10-30T02:32:54.640370",
   "environment_variables": {},
   "exception": null,
   "input_path": "03_entrenamiento.ipynb",
   "output_path": "ejecuciones/training/03_entrenamiento.20231030T033229.param_0000_1466_mul_m_RF_SVM.output.ipynb",
   "parameters": {
    "MAX_ITERS": 500,
    "M_CLASIF": "SVM",
    "M_FICHERO": "metricas_1466",
    "M_SELECT": "RF",
    "M_TIPO": "mul_m",
    "PRE_DATA_FILE": "rows_transpose_norm_by_gene_id_with_target_num_",
    "P_FICHERO": "param_0000_1466_mul_m_RF_SVM.yaml",
    "R_FICHERO": "resultados_1466",
    "SCORING": "roc_auc_ovr",
    "SEMILLA": 1466,
    "eval_clasifier": "SVC(probability=True, random_state=SEMILLA)",
    "eval_selector": "SelectFromModel(estimator=RandomForestClassifier(random_state=SEMILLA), threshold=-np.inf)",
    "param_distributions": {
     "clasifier__C": [
      10
     ],
     "clasifier__gamma": [
      0.01
     ],
     "clasifier__kernel": [
      "rbf"
     ],
     "selector__estimator__n_estimators": [
      400
     ],
     "selector__max_features": [
      200
     ]
    }
   },
   "start_time": "2023-10-30T02:32:30.045586",
   "version": "2.4.0"
  }
 },
 "nbformat": 4,
 "nbformat_minor": 5
}