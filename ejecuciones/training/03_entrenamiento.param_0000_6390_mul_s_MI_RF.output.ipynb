{
 "cells": [
  {
   "cell_type": "markdown",
   "id": "dc69c730",
   "metadata": {
    "papermill": {
     "duration": 0.004385,
     "end_time": "2023-10-30T18:17:02.866248",
     "exception": false,
     "start_time": "2023-10-30T18:17:02.861863",
     "status": "completed"
    },
    "tags": []
   },
   "source": [
    "##### Inicio"
   ]
  },
  {
   "cell_type": "markdown",
   "id": "45fdf6c2",
   "metadata": {
    "papermill": {
     "duration": 0.003584,
     "end_time": "2023-10-30T18:17:02.873701",
     "exception": false,
     "start_time": "2023-10-30T18:17:02.870117",
     "status": "completed"
    },
    "tags": []
   },
   "source": [
    "#### Carga de datos"
   ]
  },
  {
   "cell_type": "code",
   "execution_count": 1,
   "id": "91d55113",
   "metadata": {
    "execution": {
     "iopub.execute_input": "2023-10-30T18:17:02.882165Z",
     "iopub.status.busy": "2023-10-30T18:17:02.881919Z",
     "iopub.status.idle": "2023-10-30T18:17:03.740318Z",
     "shell.execute_reply": "2023-10-30T18:17:03.739840Z"
    },
    "papermill": {
     "duration": 0.864118,
     "end_time": "2023-10-30T18:17:03.741470",
     "exception": false,
     "start_time": "2023-10-30T18:17:02.877352",
     "status": "completed"
    },
    "tags": []
   },
   "outputs": [
    {
     "name": "stdout",
     "output_type": "stream",
     "text": [
      "CPU_COUNT: 8; NODE: amilcar22; sys.version: 3.10.12 (main, Jul  5 2023, 19:22:19) [GCC 11.2.0]\n",
      "LOKY_MAX_CPU_COUNT: 6\n",
      "OMP_NUM_THREADS: 2\n"
     ]
    }
   ],
   "source": [
    "import os\n",
    "import numpy as np\n",
    "import pandas as pd\n",
    "import datetime\n",
    "import sklearn\n",
    "import logging\n",
    "import warnings\n",
    "\n",
    "from sklearn.pipeline import Pipeline\n",
    "from sklearn.model_selection import RandomizedSearchCV, KFold, cross_val_score, train_test_split\n",
    "from sklearn.metrics import accuracy_score, confusion_matrix, classification_report, roc_auc_score\n",
    "\n",
    "#  cargar algoritmos para aprendizaje supervisado\n",
    "from sklearn.feature_selection import SelectKBest, f_classif, SelectFromModel, mutual_info_classif\n",
    "from sklearn.svm import SVC\n",
    "from sklearn.ensemble import RandomForestClassifier\n",
    "from sklearn.linear_model import LogisticRegression,LogisticRegressionCV\n",
    "\n",
    "# importar fichero con utilidades propias\n",
    "from commons import myfunctions as myfunc\n"
   ]
  },
  {
   "cell_type": "markdown",
   "id": "dc2c92f0",
   "metadata": {
    "papermill": {
     "duration": 0.002541,
     "end_time": "2023-10-30T18:17:03.746804",
     "exception": false,
     "start_time": "2023-10-30T18:17:03.744263",
     "status": "completed"
    },
    "tags": []
   },
   "source": [
    "#### Parámetros a utilizar en el entrenamiento.\n",
    "\n",
    "Se indican los 3 algoritmos de *selección de características* (eval_selector_xxx) y los 3 algoritmos para la _clasificación_ (eval_clasifier_xxx)\n",
    "\n",
    "En *param_distributions* se indicar los parámetros que utilizan los algoritmos en la función RandomSearchCV.\n",
    "\n",
    "Esta celda tiene la etiqueta **parameters** que servirá para poder lanzar los entrenamientos con la utilidad **papermill** pasándole un fichero con los parámetros. Los nuevos parámetros se situarán tras esta celda para tener prevalencia."
   ]
  },
  {
   "cell_type": "code",
   "execution_count": 2,
   "id": "d1da610d",
   "metadata": {
    "execution": {
     "iopub.execute_input": "2023-10-30T18:17:03.752758Z",
     "iopub.status.busy": "2023-10-30T18:17:03.752469Z",
     "iopub.status.idle": "2023-10-30T18:17:03.759640Z",
     "shell.execute_reply": "2023-10-30T18:17:03.759123Z"
    },
    "papermill": {
     "duration": 0.011462,
     "end_time": "2023-10-30T18:17:03.760763",
     "exception": false,
     "start_time": "2023-10-30T18:17:03.749301",
     "status": "completed"
    },
    "tags": [
     "parameters"
    ]
   },
   "outputs": [
    {
     "name": "stdout",
     "output_type": "stream",
     "text": [
      "20231030T191703 : amilcar22 : INFO : Utilizando parámetros de mul_m\n"
     ]
    }
   ],
   "source": [
    "#  Parametros para el entrenamiento\n",
    "\n",
    "SEMILLA=        42\n",
    "M_TIPO=         \"mul_m\"\n",
    "M_SELECT=       \"MI\"\n",
    "M_CLASIF=       \"SVM\"\n",
    "R_FICHERO=      \"resultados\"\n",
    "M_FICHERO=      \"metricas\"\n",
    "PRE_DATA_FILE=  \"rows_transpose_norm_by_gene_id_with_target_num_\"\n",
    "SCORING=        \"roc_auc_ovr\" \n",
    "MAX_ITERS=      100\n",
    "\n",
    "def mutual_info_classif_state(X, y):\n",
    "    return mutual_info_classif(X, y, random_state=SEMILLA)\n",
    "\n",
    "eval_selector_mi = \"SelectKBest(score_func=mutual_info_classif_state)\"\n",
    "eval_selector_rf=  \"SelectFromModel(estimator=RandomForestClassifier(random_state=SEMILLA), threshold=-np.inf)\"\n",
    "eval_selector_anova=  \"SelectKBest(score_func=f_classif)\"\n",
    "\n",
    "eval_clasifier_svm= \"SVC(probability=True, random_state=SEMILLA)\"\n",
    "eval_clasifier_rf= \"RandomForestClassifier(random_state=SEMILLA)\"\n",
    "eval_clasifier_lr= \"LogisticRegressionCV(random_state=SEMILLA)\"\n",
    "\n",
    "if M_TIPO.startswith(\"bin_m\"):\n",
    "    myfunc.verbose(f\"Utilizando parámetros de {M_TIPO}\")\n",
    "    eval_selector = eval_selector_mi\n",
    "    eval_clasifier = eval_clasifier_svm\n",
    "\n",
    "    SEMILLA = 6578\n",
    "    M_SELECT = \"MI\"\n",
    "    M_CLASIF = \"SVM\"\n",
    "    param_distributions = {'selector__k': [1000], \n",
    "         'clasifier__kernel': ['rbf'], 'clasifier__gamma': [0.01], 'clasifier__C': [100]}\n",
    "elif M_TIPO.startswith(\"bin_s\"):\n",
    "    myfunc.verbose(f\"Utilizando parámetros de {M_TIPO}\")\n",
    "    eval_selector = eval_selector_rf\n",
    "    eval_clasifier = eval_clasifier_lr\n",
    "\n",
    "    SEMILLA = 6191\n",
    "    M_SELECT = \"RF\"\n",
    "    M_CLASIF = \"LR_L2\"\n",
    "    param_distributions = {'selector__max_features': [1000], 'selector__estimator__n_estimators': [200], \n",
    "        'clasifier__solver': ['lbfgs'], 'clasifier__penalty': ['l2'], 'clasifier__max_iter': [10000]}\n",
    "\n",
    "elif M_TIPO.startswith(\"mul_m\"):\n",
    "    myfunc.verbose(f\"Utilizando parámetros de {M_TIPO}\")\n",
    " \n",
    "    eval_selector = eval_selector_rf\n",
    "    eval_clasifier = eval_clasifier_lr\n",
    "\n",
    "    SEMILLA = 6191\n",
    "    M_SELECT = \"RF\"\n",
    "    M_CLASIF = \"LR_L2\"\n",
    "    param_distributions = {'selector__max_features': [1000], 'selector__estimator__n_estimators': [400], \n",
    "        'clasifier__solver': ['lbfgs'], 'clasifier__penalty': ['l2'], 'clasifier__max_iter': [10000]}\n",
    "\n",
    "else:\n",
    "    # M_TIPO.startswith(\"mul_s\"):\n",
    "    myfunc.verbose(f\"Utilizando parámetros de {M_TIPO}\")\n",
    "    eval_selector = eval_selector_anova\n",
    "    eval_clasifier = eval_clasifier_lr\n",
    "\n",
    "    SEMILLA = 1860\n",
    "    M_SELECT = \"ANOVA\"\n",
    "    M_CLASIF = \"LR_L2\"\n",
    "    param_distributions = {'selector__k': [1000], \n",
    "        'clasifier__solver': ['saga'], 'clasifier__penalty': ['l2'], 'clasifier__max_iter': [10000]}\n",
    "\n"
   ]
  },
  {
   "cell_type": "code",
   "execution_count": 3,
   "id": "074c1151",
   "metadata": {
    "execution": {
     "iopub.execute_input": "2023-10-30T18:17:03.766634Z",
     "iopub.status.busy": "2023-10-30T18:17:03.766456Z",
     "iopub.status.idle": "2023-10-30T18:17:03.770322Z",
     "shell.execute_reply": "2023-10-30T18:17:03.769844Z"
    },
    "papermill": {
     "duration": 0.008193,
     "end_time": "2023-10-30T18:17:03.771560",
     "exception": false,
     "start_time": "2023-10-30T18:17:03.763367",
     "status": "completed"
    },
    "tags": [
     "injected-parameters"
    ]
   },
   "outputs": [],
   "source": [
    "# Parameters\n",
    "M_TIPO = \"mul_s\"\n",
    "M_SELECT = \"MI\"\n",
    "M_CLASIF = \"RF\"\n",
    "P_FICHERO = \"param_0000_6390_mul_s_MI_RF.yaml\"\n",
    "R_FICHERO = \"resultados_6390\"\n",
    "M_FICHERO = \"metricas_6390\"\n",
    "PRE_DATA_FILE = \"rows_transpose_norm_by_gene_id_with_target_num_\"\n",
    "SCORING = \"roc_auc_ovr\"\n",
    "SEMILLA = 6390\n",
    "MAX_ITERS = 500\n",
    "eval_selector = \"SelectKBest(score_func=mutual_info_classif_state)\"\n",
    "eval_clasifier = \"RandomForestClassifier(random_state=SEMILLA)\"\n",
    "param_distributions = {\n",
    "    \"selector__k\": [500],\n",
    "    \"clasifier__n_estimators\": [400],\n",
    "    \"clasifier__min_samples_split\": [10],\n",
    "    \"clasifier__min_samples_leaf\": [5],\n",
    "    \"clasifier__max_features\": [500],\n",
    "    \"clasifier__max_depth\": [30],\n",
    "    \"clasifier__bootstrap\": [True],\n",
    "}\n"
   ]
  },
  {
   "cell_type": "code",
   "execution_count": 4,
   "id": "179482ae",
   "metadata": {
    "execution": {
     "iopub.execute_input": "2023-10-30T18:17:03.777780Z",
     "iopub.status.busy": "2023-10-30T18:17:03.777604Z",
     "iopub.status.idle": "2023-10-30T18:17:03.780752Z",
     "shell.execute_reply": "2023-10-30T18:17:03.780241Z"
    },
    "papermill": {
     "duration": 0.007522,
     "end_time": "2023-10-30T18:17:03.781877",
     "exception": false,
     "start_time": "2023-10-30T18:17:03.774355",
     "status": "completed"
    },
    "tags": []
   },
   "outputs": [],
   "source": [
    "DATA_FILE = PRE_DATA_FILE + M_TIPO\n",
    "\n",
    "# si viene \"None\" en el parámetro max_depth, se le quitan las comillas para que no sea entendido por el algoritmo como un texto\n",
    "if \"clasifier__max_depth\" in param_distributions:\n",
    "    param_distributions['clasifier__max_depth'] = [None if x == 'None' else x for x in param_distributions['clasifier__max_depth']]"
   ]
  },
  {
   "cell_type": "markdown",
   "id": "eea3037e",
   "metadata": {
    "papermill": {
     "duration": 0.002595,
     "end_time": "2023-10-30T18:17:03.787112",
     "exception": false,
     "start_time": "2023-10-30T18:17:03.784517",
     "status": "completed"
    },
    "tags": []
   },
   "source": [
    "Asignar los algoritmos que se utilizarán en la función RandomSearchCV"
   ]
  },
  {
   "cell_type": "code",
   "execution_count": 5,
   "id": "c7e75b1f",
   "metadata": {
    "execution": {
     "iopub.execute_input": "2023-10-30T18:17:03.793073Z",
     "iopub.status.busy": "2023-10-30T18:17:03.792882Z",
     "iopub.status.idle": "2023-10-30T18:17:03.795753Z",
     "shell.execute_reply": "2023-10-30T18:17:03.795237Z"
    },
    "papermill": {
     "duration": 0.007214,
     "end_time": "2023-10-30T18:17:03.796994",
     "exception": false,
     "start_time": "2023-10-30T18:17:03.789780",
     "status": "completed"
    },
    "tags": []
   },
   "outputs": [],
   "source": [
    "algor_selector=eval(eval_selector)\n",
    "algor_clasifier=eval(eval_clasifier)"
   ]
  },
  {
   "cell_type": "markdown",
   "id": "3647687d",
   "metadata": {
    "papermill": {
     "duration": 0.003289,
     "end_time": "2023-10-30T18:17:03.803518",
     "exception": false,
     "start_time": "2023-10-30T18:17:03.800229",
     "status": "completed"
    },
    "tags": []
   },
   "source": [
    "#### Comprobar el entorno y leer fichero de muestras"
   ]
  },
  {
   "cell_type": "code",
   "execution_count": 6,
   "id": "981e7e22",
   "metadata": {
    "execution": {
     "iopub.execute_input": "2023-10-30T18:17:03.810768Z",
     "iopub.status.busy": "2023-10-30T18:17:03.810582Z",
     "iopub.status.idle": "2023-10-30T18:17:03.936959Z",
     "shell.execute_reply": "2023-10-30T18:17:03.936358Z"
    },
    "papermill": {
     "duration": 0.131413,
     "end_time": "2023-10-30T18:17:03.938172",
     "exception": false,
     "start_time": "2023-10-30T18:17:03.806759",
     "status": "completed"
    },
    "tags": []
   },
   "outputs": [
    {
     "name": "stdout",
     "output_type": "stream",
     "text": [
      "20231030T191703 : amilcar22 : INFO : Encontrada carpeta DATA_DIR=../tfm_git/datos\n",
      "20231030T191703 : amilcar22 : INFO : Encontrada carpeta CFDNA_DIR=../tfm_git/datos/cfDNA_5hmC\n",
      "20231030T191703 : amilcar22 : INFO : Encontrada carpeta GENCODE_DIR=../tfm_git/datos/gencode\n",
      "20231030T191703 : amilcar22 : INFO : Encontrada carpeta H5_DIR=../tfm_git/datos/h5\n",
      "20231030T191703 : amilcar22 : INFO : Encontrada carpeta LOG_DIR=../tfm_git/datos/logs\n",
      "20231030T191703 : amilcar22 : INFO : Encontrada carpeta CSV_DIR=../tfm_git/datos/csv\n",
      "20231030T191703 : amilcar22 : INFO : Encontrada carpeta MODEL_DIR=../tfm_git/ejecuciones/modelos\n",
      "20231030T191703 : amilcar22 : INFO : Encontrada carpeta EXEC_DIR=../tfm_git/ejecuciones\n",
      "20231030T191703 : amilcar22 : INFO : Encontrada carpeta MET_DIR=../tfm_git/ejecuciones/metricas\n",
      "20231030T191703 : amilcar22 : INFO : Inicio leer fichero h5 ../tfm_git/datos/h5/rows_transpose_norm_by_gene_id_with_target_num_mul_s.h5\n",
      "20231030T191703 : amilcar22 : INFO : Leyendo clave /df\n",
      "20231030T191703 : amilcar22 : INFO : Tamaño (259, 18876)\n",
      "20231030T191703 : amilcar22 : INFO : Fin leer fichero h5 ../tfm_git/datos/h5/rows_transpose_norm_by_gene_id_with_target_num_mul_s.h5\n"
     ]
    },
    {
     "data": {
      "text/plain": [
       "target\n",
       "0    37\n",
       "1    37\n",
       "2    37\n",
       "3    37\n",
       "4    37\n",
       "5    37\n",
       "6    37\n",
       "dtype: int64"
      ]
     },
     "metadata": {},
     "output_type": "display_data"
    },
    {
     "name": "stdout",
     "output_type": "stream",
     "text": [
      "Shape df: (259, 18876)\n",
      "Shape X_train: (207, 18875)\n",
      "Shape X_test: (52, 18875)\n"
     ]
    }
   ],
   "source": [
    "start_time = datetime.datetime.now()\n",
    "\n",
    "myfunc.reset_vars()\n",
    "\n",
    "myfunc.NOTEBK_FILENAME = myfunc.get_nb_name()\n",
    "\n",
    "myfunc.check_enviroment(myfunc.DATA_DIR, myfunc.CFDNA_DIR, myfunc.GENCODE_DIR, myfunc.H5_DIR, myfunc.LOG_DIR, myfunc.CSV_DIR, myfunc.MODEL_DIR, myfunc.EXEC_DIR, myfunc.MET_DIR)\n",
    "\n",
    "# Leer fichero con las muestras\n",
    "df_t = myfunc.read_h5_to_df(DATA_FILE, myfunc.H5_DIR)\n",
    "display(df_t.groupby(\"target\").size())\n",
    "print(\"Shape df:\",df_t.shape)\n",
    "\n",
    "# Separar caracteristicas/genes de las etiquetas/tipos de cáncer\n",
    "X = df_t.iloc[:, :-1]  # Todas las columnas excepto la última\n",
    "y = df_t.iloc[:, -1]  # La última columna contiene los identificadores de los tipos de cáncer\n",
    "\n",
    "#  Crear el conjunto de datos de entrenamiento y de pruebas, y se fija la semilla para siempre coger el mismo juego de muestras\n",
    "X_train, X_test, y_train, y_test = train_test_split(X, y, test_size=0.2, shuffle=True, random_state=42)\n",
    "print(\"Shape X_train:\",X_train.shape)\n",
    "print(\"Shape X_test:\",X_test.shape)\n"
   ]
  },
  {
   "cell_type": "markdown",
   "id": "55880751",
   "metadata": {
    "papermill": {
     "duration": 0.002768,
     "end_time": "2023-10-30T18:17:03.944223",
     "exception": false,
     "start_time": "2023-10-30T18:17:03.941455",
     "status": "completed"
    },
    "tags": []
   },
   "source": [
    "#### Selección de características y clasificación."
   ]
  },
  {
   "cell_type": "code",
   "execution_count": 7,
   "id": "635878e3",
   "metadata": {
    "execution": {
     "iopub.execute_input": "2023-10-30T18:17:03.950705Z",
     "iopub.status.busy": "2023-10-30T18:17:03.950504Z",
     "iopub.status.idle": "2023-10-30T18:20:35.941023Z",
     "shell.execute_reply": "2023-10-30T18:20:35.940415Z"
    },
    "papermill": {
     "duration": 211.997375,
     "end_time": "2023-10-30T18:20:35.944423",
     "exception": false,
     "start_time": "2023-10-30T18:17:03.947048",
     "status": "completed"
    },
    "tags": []
   },
   "outputs": [
    {
     "name": "stdout",
     "output_type": "stream",
     "text": [
      "20231030T191703 : amilcar22 : INFO : Iniciando entrenamiento\n",
      "num_iter: 1 , max_iter: 1\n"
     ]
    },
    {
     "name": "stdout",
     "output_type": "stream",
     "text": [
      "Fitting 5 folds for each of 1 candidates, totalling 5 fits\n"
     ]
    },
    {
     "name": "stdout",
     "output_type": "stream",
     "text": [
      "Mejores Hiperparámetros: {'selector__k': 500, 'clasifier__n_estimators': 400, 'clasifier__min_samples_split': 10, 'clasifier__min_samples_leaf': 5, 'clasifier__max_features': 500, 'clasifier__max_depth': 30, 'clasifier__bootstrap': True}\n",
      "Mejor Puntuación: 0.7062\n",
      "20231030T192035 : amilcar22 : INFO : Fin entrenamiento\n"
     ]
    }
   ],
   "source": [
    "myfunc.verbose(\"Iniciando entrenamiento\")\n",
    "\n",
    "kf = KFold(n_splits=5, shuffle=True, random_state=SEMILLA)\n",
    "\n",
    "# Crear el pipeline para el flujo de tareas\n",
    "tasks_pipeline = Pipeline([\n",
    "    ('selector', algor_selector),\n",
    "    ('clasifier', algor_clasifier)\n",
    "])\n",
    "\n",
    "# MAX_ITERS puede limitar el número de iteraciones si son excesivas para las combinaciones de parámetros buscando un óptimo local, \n",
    "# sino funcionaría como GridSearchCV al revisar todas las cominaciones de los parámetros\n",
    "num_iteraciones = 1\n",
    "num_iteraciones = num_iteraciones * np.prod([len(elemento1) for _, elemento1 in param_distributions.items()])\n",
    "max_iteraciones = num_iteraciones if num_iteraciones <= MAX_ITERS else MAX_ITERS\n",
    "print(\"num_iter:\",num_iteraciones,\", max_iter:\",max_iteraciones)\n",
    "\n",
    "random_search = RandomizedSearchCV(\n",
    "    tasks_pipeline, \n",
    "    param_distributions, \n",
    "    n_iter=max_iteraciones,\n",
    "    scoring=SCORING,\n",
    "    cv=kf,\n",
    "    verbose=3, \n",
    "    random_state=SEMILLA, \n",
    "    n_jobs=-1\n",
    "    )\n",
    "\n",
    "# Entrenar el modelo\n",
    "random_search.fit(X_train, y_train)\n",
    "\n",
    "# Ver los mejores hiperparámetros encontrados\n",
    "print(f'Mejores Hiperparámetros: {random_search.best_params_}')\n",
    "print(f'Mejor Puntuación: {random_search.best_score_:.4f}')\n",
    "\n",
    "# Nos quedamos con el mejor modelo para ver las métricas\n",
    "mejor_modelo = random_search.best_estimator_\n",
    "\n",
    "myfunc.verbose(\"Fin entrenamiento\")"
   ]
  },
  {
   "cell_type": "markdown",
   "id": "a9363056",
   "metadata": {
    "papermill": {
     "duration": 0.002959,
     "end_time": "2023-10-30T18:20:35.950413",
     "exception": false,
     "start_time": "2023-10-30T18:20:35.947454",
     "status": "completed"
    },
    "tags": []
   },
   "source": [
    "#### Guardar modelo"
   ]
  },
  {
   "cell_type": "code",
   "execution_count": 8,
   "id": "ac62b2cf",
   "metadata": {
    "execution": {
     "iopub.execute_input": "2023-10-30T18:20:35.957186Z",
     "iopub.status.busy": "2023-10-30T18:20:35.956977Z",
     "iopub.status.idle": "2023-10-30T18:20:36.081547Z",
     "shell.execute_reply": "2023-10-30T18:20:36.080918Z"
    },
    "papermill": {
     "duration": 0.129391,
     "end_time": "2023-10-30T18:20:36.082736",
     "exception": false,
     "start_time": "2023-10-30T18:20:35.953345",
     "status": "completed"
    },
    "tags": []
   },
   "outputs": [
    {
     "name": "stdout",
     "output_type": "stream",
     "text": [
      "20231030T192035 : amilcar22 : INFO : Inicio guardar fichero ../tfm_git/ejecuciones/modelos/modelo_6390_mul_s_MI_RF.pkl\n",
      "20231030T192036 : amilcar22 : INFO : Fin guardar fichero ../tfm_git/ejecuciones/modelos/modelo_6390_mul_s_MI_RF.pkl\n"
     ]
    }
   ],
   "source": [
    "fichero_modelo = str.replace(\"modelo_\"+str(SEMILLA).zfill(4)+\"_\"+M_TIPO+\"_\"+M_SELECT+\"_\"+M_CLASIF+\".pkl\", \" \", \"_\")\n",
    "\n",
    "myfunc.save_modelo(mejor_modelo, myfunc.MODEL_DIR, fichero_modelo)"
   ]
  },
  {
   "cell_type": "markdown",
   "id": "af035a35",
   "metadata": {
    "papermill": {
     "duration": 0.003066,
     "end_time": "2023-10-30T18:20:36.089128",
     "exception": false,
     "start_time": "2023-10-30T18:20:36.086062",
     "status": "completed"
    },
    "tags": []
   },
   "source": [
    "#### Ver resultados del las iteraciones hechas por RandomSearchCV"
   ]
  },
  {
   "cell_type": "code",
   "execution_count": 9,
   "id": "86661d0c",
   "metadata": {
    "execution": {
     "iopub.execute_input": "2023-10-30T18:20:36.095904Z",
     "iopub.status.busy": "2023-10-30T18:20:36.095677Z",
     "iopub.status.idle": "2023-10-30T18:20:36.101448Z",
     "shell.execute_reply": "2023-10-30T18:20:36.100937Z"
    },
    "papermill": {
     "duration": 0.010498,
     "end_time": "2023-10-30T18:20:36.102567",
     "exception": false,
     "start_time": "2023-10-30T18:20:36.092069",
     "status": "completed"
    },
    "tags": []
   },
   "outputs": [
    {
     "name": "stdout",
     "output_type": "stream",
     "text": [
      "20231030T192036 : amilcar22 : INFO : Inicio ver resultados\n",
      "Mejores Hiperparámetros: {'selector__k': 500, 'clasifier__n_estimators': 400, 'clasifier__min_samples_split': 10, 'clasifier__min_samples_leaf': 5, 'clasifier__max_features': 500, 'clasifier__max_depth': 30, 'clasifier__bootstrap': True}\n",
      "Mejores puntuaciones: 0.7062 | Params: {'selector__k': 500, 'clasifier__n_estimators': 400, 'clasifier__min_samples_split': 10, 'clasifier__min_samples_leaf': 5, 'clasifier__max_features': 500, 'clasifier__max_depth': 30, 'clasifier__bootstrap': True}\n",
      "Media de las puntuaciones: 0.7062 | Params: {'selector__k': 500, 'clasifier__n_estimators': 400, 'clasifier__min_samples_split': 10, 'clasifier__min_samples_leaf': 5, 'clasifier__max_features': 500, 'clasifier__max_depth': 30, 'clasifier__bootstrap': True}\n",
      "20231030T192036 : amilcar22 : INFO : Fin resultados\n"
     ]
    }
   ],
   "source": [
    "myfunc.ver_resultados_search(random_search)"
   ]
  },
  {
   "cell_type": "markdown",
   "id": "c5cf7da6",
   "metadata": {
    "papermill": {
     "duration": 0.003194,
     "end_time": "2023-10-30T18:20:36.109087",
     "exception": false,
     "start_time": "2023-10-30T18:20:36.105893",
     "status": "completed"
    },
    "tags": []
   },
   "source": [
    "#### Ver métricas del mejor modelo"
   ]
  },
  {
   "cell_type": "code",
   "execution_count": 10,
   "id": "f8671762",
   "metadata": {
    "execution": {
     "iopub.execute_input": "2023-10-30T18:20:36.116261Z",
     "iopub.status.busy": "2023-10-30T18:20:36.116074Z",
     "iopub.status.idle": "2023-10-30T18:20:36.772007Z",
     "shell.execute_reply": "2023-10-30T18:20:36.771422Z"
    },
    "papermill": {
     "duration": 0.660944,
     "end_time": "2023-10-30T18:20:36.773247",
     "exception": false,
     "start_time": "2023-10-30T18:20:36.112303",
     "status": "completed"
    },
    "tags": []
   },
   "outputs": [
    {
     "name": "stdout",
     "output_type": "stream",
     "text": [
      "20231030T192036 : amilcar22 : INFO : Inicio ver métricas multiclase\n"
     ]
    },
    {
     "name": "stdout",
     "output_type": "stream",
     "text": [
      "              precision    recall  f1-score   support\n",
      "\n",
      "           0       0.25      0.09      0.13        11\n",
      "           1       0.50      0.50      0.50         8\n",
      "           2       0.33      0.25      0.29         8\n",
      "           3       0.11      0.20      0.14         5\n",
      "           4       0.70      0.88      0.78         8\n",
      "           5       0.00      0.00      0.00         6\n",
      "           6       0.20      0.33      0.25         6\n",
      "\n",
      "    accuracy                           0.33        52\n",
      "   macro avg       0.30      0.32      0.30        52\n",
      "weighted avg       0.32      0.33      0.31        52\n",
      "\n",
      "\n",
      "\n",
      "           Exactitud: 0.326923\n",
      "   Precisión (media): 0.299206\n",
      "      Recall (media): 0.321320\n",
      "    F1-score (media): 0.298526\n",
      "\n",
      "\n",
      "AUC para el tipo de cáncer 0-Control.... 0.5078\n",
      "AUC para el tipo de cáncer 1-Bladder.... 0.7955\n"
     ]
    },
    {
     "name": "stdout",
     "output_type": "stream",
     "text": [
      "AUC para el tipo de cáncer 2-Breast..... 0.6420\n",
      "AUC para el tipo de cáncer 3-Colorectal. 0.8255\n",
      "AUC para el tipo de cáncer 4-Kidney..... 0.9517\n",
      "AUC para el tipo de cáncer 5-Lung....... 0.6486\n",
      "AUC para el tipo de cáncer 6-Prostate... 0.6486\n",
      "\n",
      "Media de AUC: 0.7171\n"
     ]
    },
    {
     "data": {
      "image/png": "[encoded data removed]",
      "text/plain": [
       "<Figure size 1000x600 with 1 Axes>"
      ]
     },
     "metadata": {},
     "output_type": "display_data"
    },
    {
     "name": "stdout",
     "output_type": "stream",
     "text": [
      "\n",
      "\n"
     ]
    },
    {
     "data": {
      "image/png": "[encoded data removed]",
      "text/plain": [
       "<Figure size 800x400 with 2 Axes>"
      ]
     },
     "metadata": {},
     "output_type": "display_data"
    },
    {
     "name": "stdout",
     "output_type": "stream",
     "text": [
      "\n",
      "\n",
      "Puntuación Jaccard para el cáncer tipo 0-Control.... 0.0714\n",
      "Puntuación Jaccard para el cáncer tipo 1-Bladder.... 0.3333\n",
      "Puntuación Jaccard para el cáncer tipo 2-Breast..... 0.1667\n",
      "Puntuación Jaccard para el cáncer tipo 3-Colorectal. 0.0769\n",
      "Puntuación Jaccard para el cáncer tipo 4-Kidney..... 0.6364\n",
      "Puntuación Jaccard para el cáncer tipo 5-Lung....... 0.0000\n",
      "Puntuación Jaccard para el cáncer tipo 6-Prostate... 0.1429\n",
      "\n",
      "Media de la puntuación de Jaccard: 0.2039\n"
     ]
    }
   ],
   "source": [
    "if M_TIPO.startswith(\"bin\"):\n",
    "    myfunc.ver_metricas(mejor_modelo, X_test, y_test)\n",
    "else:\n",
    "    myfunc.ver_metricas_multi(mejor_modelo, X_test, y_test)\n"
   ]
  },
  {
   "cell_type": "markdown",
   "id": "306aa9a9",
   "metadata": {
    "papermill": {
     "duration": 0.004084,
     "end_time": "2023-10-30T18:20:36.781932",
     "exception": false,
     "start_time": "2023-10-30T18:20:36.777848",
     "status": "completed"
    },
    "tags": []
   },
   "source": [
    "#### Finalización del notebook"
   ]
  },
  {
   "cell_type": "code",
   "execution_count": 11,
   "id": "38c95a16",
   "metadata": {
    "execution": {
     "iopub.execute_input": "2023-10-30T18:20:36.790837Z",
     "iopub.status.busy": "2023-10-30T18:20:36.790644Z",
     "iopub.status.idle": "2023-10-30T18:20:36.794295Z",
     "shell.execute_reply": "2023-10-30T18:20:36.793784Z"
    },
    "papermill": {
     "duration": 0.009388,
     "end_time": "2023-10-30T18:20:36.795370",
     "exception": false,
     "start_time": "2023-10-30T18:20:36.785982",
     "status": "completed"
    },
    "tags": []
   },
   "outputs": [
    {
     "name": "stdout",
     "output_type": "stream",
     "text": [
      "20231030T192036 : amilcar22 : INFO : Notebook ha tardado 212 seconds\n"
     ]
    }
   ],
   "source": [
    "end_time = datetime.datetime.now()\n",
    "total_time = end_time - start_time\n",
    "myfunc.verbose(f\"Notebook ha tardado {total_time.seconds} seconds\")"
   ]
  },
  {
   "cell_type": "markdown",
   "id": "e4692f12",
   "metadata": {
    "papermill": {
     "duration": 0.004119,
     "end_time": "2023-10-30T18:20:36.803674",
     "exception": false,
     "start_time": "2023-10-30T18:20:36.799555",
     "status": "completed"
    },
    "tags": []
   },
   "source": [
    "#### Guardar métricas"
   ]
  },
  {
   "cell_type": "code",
   "execution_count": 12,
   "id": "779c6c31",
   "metadata": {
    "execution": {
     "iopub.execute_input": "2023-10-30T18:20:36.813062Z",
     "iopub.status.busy": "2023-10-30T18:20:36.812859Z",
     "iopub.status.idle": "2023-10-30T18:20:37.072388Z",
     "shell.execute_reply": "2023-10-30T18:20:37.071845Z"
    },
    "papermill": {
     "duration": 0.26573,
     "end_time": "2023-10-30T18:20:37.073650",
     "exception": false,
     "start_time": "2023-10-30T18:20:36.807920",
     "status": "completed"
    },
    "tags": []
   },
   "outputs": [
    {
     "name": "stdout",
     "output_type": "stream",
     "text": [
      "20231030T192036 : amilcar22 : INFO : Inicio guardar métricas multiclase\n",
      "20231030T192036 : amilcar22 : INFO : Inicio leer fichero ../tfm_git/ejecuciones/metricas/metricas_6390.csv\n",
      "20231030T192036 : amilcar22 : INFO : Fin leer fichero ../tfm_git/ejecuciones/metricas/metricas_6390.csv\n"
     ]
    },
    {
     "name": "stdout",
     "output_type": "stream",
     "text": [
      "20231030T192037 : amilcar22 : INFO : Inicio guardar fichero ../tfm_git/ejecuciones/metricas/metricas_6390.csv\n",
      "20231030T192037 : amilcar22 : INFO : Fichero borrado ../tfm_git/ejecuciones/metricas/metricas_6390.csv\n",
      "20231030T192037 : amilcar22 : INFO : Fin guardar fichero ../tfm_git/ejecuciones/metricas/metricas_6390.csv\n",
      "20231030T192037 : amilcar22 : INFO : Fin guardar métricas multiclase\n",
      "20231030T192037 : amilcar22 : INFO : Inicio leer fichero ../tfm_git/ejecuciones/metricas/metricas_6390.csv\n",
      "20231030T192037 : amilcar22 : INFO : Fin leer fichero ../tfm_git/ejecuciones/metricas/metricas_6390.csv\n"
     ]
    },
    {
     "data": {
      "text/html": [
       "<div>\n",
       "<style scoped>\n",
       "    .dataframe tbody tr th:only-of-type {\n",
       "        vertical-align: middle;\n",
       "    }\n",
       "\n",
       "    .dataframe tbody tr th {\n",
       "        vertical-align: top;\n",
       "    }\n",
       "\n",
       "    .dataframe thead th {\n",
       "        text-align: right;\n",
       "    }\n",
       "</style>\n",
       "<table border=\"1\" class=\"dataframe\">\n",
       "  <thead>\n",
       "    <tr style=\"text-align: right;\">\n",
       "      <th></th>\n",
       "      <th>tipo</th>\n",
       "      <th>select</th>\n",
       "      <th>clasific</th>\n",
       "      <th>semilla</th>\n",
       "      <th>accuracy</th>\n",
       "      <th>precision</th>\n",
       "      <th>recall</th>\n",
       "      <th>f1_score</th>\n",
       "      <th>roc_auc</th>\n",
       "      <th>hostname</th>\n",
       "      <th>total_time_sec</th>\n",
       "      <th>datetime</th>\n",
       "      <th>fichero_modelo</th>\n",
       "      <th>params</th>\n",
       "      <th>shape</th>\n",
       "      <th>features</th>\n",
       "      <th>roc_auc_ovr</th>\n",
       "      <th>indices_auc</th>\n",
       "      <th>indices_jaccard</th>\n",
       "    </tr>\n",
       "  </thead>\n",
       "  <tbody>\n",
       "    <tr>\n",
       "      <th>0</th>\n",
       "      <td>mul_s</td>\n",
       "      <td>MI</td>\n",
       "      <td>RF</td>\n",
       "      <td>6390</td>\n",
       "      <td>0.326923</td>\n",
       "      <td>0.299206</td>\n",
       "      <td>0.321320</td>\n",
       "      <td>0.298526</td>\n",
       "      <td>NaN</td>\n",
       "      <td>amilcar22</td>\n",
       "      <td>212</td>\n",
       "      <td>2023-10-30 19:20:37.039750</td>\n",
       "      <td>modelo_6390_mul_s_MI_RF.pkl</td>\n",
       "      <td>{'selector__k': 500, 'clasifier__n_estimators'...</td>\n",
       "      <td>X_test:(52, 18875)</td>\n",
       "      <td>['ENSG00000003137.9', 'ENSG00000005513.10', 'E...</td>\n",
       "      <td>0.717085</td>\n",
       "      <td>[0.5077605321507761, 0.7954545454545454, 0.642...</td>\n",
       "      <td>[0.07142857142857142, 0.3333333333333333, 0.16...</td>\n",
       "    </tr>\n",
       "    <tr>\n",
       "      <th>0</th>\n",
       "      <td>mul_s</td>\n",
       "      <td>MI</td>\n",
       "      <td>LR_L2</td>\n",
       "      <td>6390</td>\n",
       "      <td>0.403846</td>\n",
       "      <td>0.420656</td>\n",
       "      <td>0.416450</td>\n",
       "      <td>0.383821</td>\n",
       "      <td>NaN</td>\n",
       "      <td>amilcar22</td>\n",
       "      <td>536</td>\n",
       "      <td>2023-10-30 19:16:57.751629</td>\n",
       "      <td>modelo_6390_mul_s_MI_LR_L2.pkl</td>\n",
       "      <td>{'selector__k': 500, 'clasifier__solver': 'sag...</td>\n",
       "      <td>X_test:(52, 18875)</td>\n",
       "      <td>['ENSG00000003137.9', 'ENSG00000005513.10', 'E...</td>\n",
       "      <td>0.812258</td>\n",
       "      <td>[0.6186252771618627, 0.8607954545454545, 0.715...</td>\n",
       "      <td>[0.125, 0.375, 0.07142857142857142, 0.2, 0.666...</td>\n",
       "    </tr>\n",
       "    <tr>\n",
       "      <th>0</th>\n",
       "      <td>mul_s</td>\n",
       "      <td>MI</td>\n",
       "      <td>LR_L1</td>\n",
       "      <td>6390</td>\n",
       "      <td>0.442308</td>\n",
       "      <td>0.477417</td>\n",
       "      <td>0.464069</td>\n",
       "      <td>0.429744</td>\n",
       "      <td>NaN</td>\n",
       "      <td>amilcar22</td>\n",
       "      <td>767</td>\n",
       "      <td>2023-10-30 19:07:55.361761</td>\n",
       "      <td>modelo_6390_mul_s_MI_LR_L1.pkl</td>\n",
       "      <td>{'selector__k': 500, 'clasifier__solver': 'sag...</td>\n",
       "      <td>X_test:(52, 18875)</td>\n",
       "      <td>['ENSG00000003137.9', 'ENSG00000005513.10', 'E...</td>\n",
       "      <td>0.792789</td>\n",
       "      <td>[0.5609756097560976, 0.8806818181818181, 0.710...</td>\n",
       "      <td>[0.13333333333333333, 0.375, 0.166666666666666...</td>\n",
       "    </tr>\n",
       "  </tbody>\n",
       "</table>\n",
       "</div>"
      ],
      "text/plain": [
       "    tipo select clasific  semilla  accuracy  precision    recall  f1_score  \\\n",
       "0  mul_s     MI       RF     6390  0.326923   0.299206  0.321320  0.298526   \n",
       "0  mul_s     MI    LR_L2     6390  0.403846   0.420656  0.416450  0.383821   \n",
       "0  mul_s     MI    LR_L1     6390  0.442308   0.477417  0.464069  0.429744   \n",
       "\n",
       "   roc_auc   hostname  total_time_sec                    datetime  \\\n",
       "0      NaN  amilcar22             212  2023-10-30 19:20:37.039750   \n",
       "0      NaN  amilcar22             536  2023-10-30 19:16:57.751629   \n",
       "0      NaN  amilcar22             767  2023-10-30 19:07:55.361761   \n",
       "\n",
       "                   fichero_modelo  \\\n",
       "0     modelo_6390_mul_s_MI_RF.pkl   \n",
       "0  modelo_6390_mul_s_MI_LR_L2.pkl   \n",
       "0  modelo_6390_mul_s_MI_LR_L1.pkl   \n",
       "\n",
       "                                              params               shape  \\\n",
       "0  {'selector__k': 500, 'clasifier__n_estimators'...  X_test:(52, 18875)   \n",
       "0  {'selector__k': 500, 'clasifier__solver': 'sag...  X_test:(52, 18875)   \n",
       "0  {'selector__k': 500, 'clasifier__solver': 'sag...  X_test:(52, 18875)   \n",
       "\n",
       "                                            features  roc_auc_ovr  \\\n",
       "0  ['ENSG00000003137.9', 'ENSG00000005513.10', 'E...     0.717085   \n",
       "0  ['ENSG00000003137.9', 'ENSG00000005513.10', 'E...     0.812258   \n",
       "0  ['ENSG00000003137.9', 'ENSG00000005513.10', 'E...     0.792789   \n",
       "\n",
       "                                         indices_auc  \\\n",
       "0  [0.5077605321507761, 0.7954545454545454, 0.642...   \n",
       "0  [0.6186252771618627, 0.8607954545454545, 0.715...   \n",
       "0  [0.5609756097560976, 0.8806818181818181, 0.710...   \n",
       "\n",
       "                                     indices_jaccard  \n",
       "0  [0.07142857142857142, 0.3333333333333333, 0.16...  \n",
       "0  [0.125, 0.375, 0.07142857142857142, 0.2, 0.666...  \n",
       "0  [0.13333333333333333, 0.375, 0.166666666666666...  "
      ]
     },
     "metadata": {},
     "output_type": "display_data"
    }
   ],
   "source": [
    "if M_TIPO.startswith(\"bin\"):\n",
    "    myfunc.save_metricas_to_csv(random_search, X_test, y_test, M_TIPO, M_SELECT, M_CLASIF, total_time, SEMILLA, myfunc.MET_DIR, M_FICHERO, fichero_modelo)\n",
    "else:\n",
    "    myfunc.save_metricas_multi_to_csv(random_search, X_test, y_test, M_TIPO, M_SELECT, M_CLASIF, total_time, SEMILLA, myfunc.MET_DIR, M_FICHERO, fichero_modelo)\n",
    "\n",
    "df1=myfunc.read_metricas_to_df(myfunc.MET_DIR,M_FICHERO)\n",
    "\n",
    "display(df1.sort_values(\"datetime\", ascending=False)[:3])\n"
   ]
  },
  {
   "cell_type": "markdown",
   "id": "fa0281a4",
   "metadata": {
    "papermill": {
     "duration": 0.004404,
     "end_time": "2023-10-30T18:20:37.082991",
     "exception": false,
     "start_time": "2023-10-30T18:20:37.078587",
     "status": "completed"
    },
    "tags": []
   },
   "source": [
    "#### Guardar resultados"
   ]
  },
  {
   "cell_type": "code",
   "execution_count": 13,
   "id": "5c13bb7c",
   "metadata": {
    "execution": {
     "iopub.execute_input": "2023-10-30T18:20:37.092642Z",
     "iopub.status.busy": "2023-10-30T18:20:37.092409Z",
     "iopub.status.idle": "2023-10-30T18:20:37.100969Z",
     "shell.execute_reply": "2023-10-30T18:20:37.100419Z"
    },
    "papermill": {
     "duration": 0.014709,
     "end_time": "2023-10-30T18:20:37.102133",
     "exception": false,
     "start_time": "2023-10-30T18:20:37.087424",
     "status": "completed"
    },
    "tags": []
   },
   "outputs": [
    {
     "name": "stdout",
     "output_type": "stream",
     "text": [
      "20231030T192037 : amilcar22 : INFO : Inicio guardar resultados\n",
      "20231030T192037 : amilcar22 : INFO : Inicio guardar fichero ../tfm_git/ejecuciones/metricas/resultados_6390_mul_s-MI-RF.csv\n",
      "20231030T192037 : amilcar22 : INFO : Fin guardar fichero ../tfm_git/ejecuciones/metricas/resultados_6390_mul_s-MI-RF.csv\n",
      "20231030T192037 : amilcar22 : INFO : Fin guardar resultados\n"
     ]
    }
   ],
   "source": [
    "fichero_resultados=R_FICHERO+\"_\"+M_TIPO+\"-\"+M_SELECT+\"-\"+M_CLASIF+\".csv\"\n",
    "myfunc.save_resultados_to_csv(M_TIPO, M_SELECT, M_CLASIF,  random_search, myfunc.MET_DIR, fichero_resultados)\n"
   ]
  }
 ],
 "metadata": {
  "kernelspec": {
   "display_name": "Python 3 (ipykernel)",
   "language": "python",
   "name": "python3"
  },
  "language_info": {
   "codemirror_mode": {
    "name": "ipython",
    "version": 3
   },
   "file_extension": ".py",
   "mimetype": "text/x-python",
   "name": "python",
   "nbconvert_exporter": "python",
   "pygments_lexer": "ipython3",
   "version": "3.10.12"
  },
  "papermill": {
   "default_parameters": {},
   "duration": 217.77738,
   "end_time": "2023-10-30T18:20:39.727562",
   "environment_variables": {},
   "exception": null,
   "input_path": "03_entrenamiento.ipynb",
   "output_path": "ejecuciones/training/03_entrenamiento.20231030T191701.param_0000_6390_mul_s_MI_RF.output.ipynb",
   "parameters": {
    "MAX_ITERS": 500,
    "M_CLASIF": "RF",
    "M_FICHERO": "metricas_6390",
    "M_SELECT": "MI",
    "M_TIPO": "mul_s",
    "PRE_DATA_FILE": "rows_transpose_norm_by_gene_id_with_target_num_",
    "P_FICHERO": "param_0000_6390_mul_s_MI_RF.yaml",
    "R_FICHERO": "resultados_6390",
    "SCORING": "roc_auc_ovr",
    "SEMILLA": 6390,
    "eval_clasifier": "RandomForestClassifier(random_state=SEMILLA)",
    "eval_selector": "SelectKBest(score_func=mutual_info_classif_state)",
    "param_distributions": {
     "clasifier__bootstrap": [
      true
     ],
     "clasifier__max_depth": [
      30
     ],
     "clasifier__max_features": [
      500
     ],
     "clasifier__min_samples_leaf": [
      5
     ],
     "clasifier__min_samples_split": [
      10
     ],
     "clasifier__n_estimators": [
      400
     ],
     "selector__k": [
      500
     ]
    }
   },
   "start_time": "2023-10-30T18:17:01.950182",
   "version": "2.4.0"
  }
 },
 "nbformat": 4,
 "nbformat_minor": 5
}