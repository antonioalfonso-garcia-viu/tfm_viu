{
 "cells": [
  {
   "cell_type": "markdown",
   "id": "4a44cba7",
   "metadata": {
    "papermill": {
     "duration": 0.0,
     "end_time": "2023-10-29T22:21:49.953000",
     "exception": false,
     "start_time": "2023-10-29T22:21:49.953000",
     "status": "completed"
    },
    "tags": []
   },
   "source": [
    "##### Inicio"
   ]
  },
  {
   "cell_type": "markdown",
   "id": "55bd1c62",
   "metadata": {
    "papermill": {
     "duration": 0.0,
     "end_time": "2023-10-29T22:21:49.953000",
     "exception": false,
     "start_time": "2023-10-29T22:21:49.953000",
     "status": "completed"
    },
    "tags": []
   },
   "source": [
    "#### Carga de datos"
   ]
  },
  {
   "cell_type": "code",
   "execution_count": 1,
   "id": "4254da9b",
   "metadata": {
    "execution": {
     "iopub.execute_input": "2023-10-29T22:21:49.968441Z",
     "iopub.status.busy": "2023-10-29T22:21:49.968441Z",
     "iopub.status.idle": "2023-10-29T22:21:51.157593Z",
     "shell.execute_reply": "2023-10-29T22:21:51.157593Z"
    },
    "papermill": {
     "duration": 1.189152,
     "end_time": "2023-10-29T22:21:51.157593",
     "exception": false,
     "start_time": "2023-10-29T22:21:49.968441",
     "status": "completed"
    },
    "tags": []
   },
   "outputs": [
    {
     "name": "stdout",
     "output_type": "stream",
     "text": [
      "CPU_COUNT: 24; NODE: amilcar32; sys.version: 3.10.12 | packaged by Anaconda, Inc. | (main, Jul  5 2023, 19:09:20) [MSC v.1916 64 bit (AMD64)]\n",
      "LOKY_MAX_CPU_COUNT is not set.\n",
      "OMP_NUM_THREADS is not set.\n"
     ]
    }
   ],
   "source": [
    "import os\n",
    "import numpy as np\n",
    "import pandas as pd\n",
    "import datetime\n",
    "import sklearn\n",
    "import logging\n",
    "import warnings\n",
    "\n",
    "from sklearn.pipeline import Pipeline\n",
    "from sklearn.model_selection import RandomizedSearchCV, KFold, cross_val_score, train_test_split\n",
    "from sklearn.metrics import accuracy_score, confusion_matrix, classification_report, roc_auc_score\n",
    "\n",
    "#  cargar algoritmos para aprendizaje supervisado\n",
    "from sklearn.feature_selection import SelectKBest, f_classif, SelectFromModel, mutual_info_classif\n",
    "from sklearn.svm import SVC\n",
    "from sklearn.ensemble import RandomForestClassifier\n",
    "from sklearn.linear_model import LogisticRegression,LogisticRegressionCV\n",
    "\n",
    "# importar fichero con utilidades propias\n",
    "from commons import myfunctions as myfunc\n"
   ]
  },
  {
   "cell_type": "markdown",
   "id": "4f23d1b1",
   "metadata": {
    "papermill": {
     "duration": 0.0,
     "end_time": "2023-10-29T22:21:51.157593",
     "exception": false,
     "start_time": "2023-10-29T22:21:51.157593",
     "status": "completed"
    },
    "tags": []
   },
   "source": [
    "#### Parámetros a utilizar en el entrenamiento.\n",
    "\n",
    "Se indican los 3 algoritmos de *selección de características* (eval_selector_xxx) y los 3 algoritmos para la _clasificación_ (eval_clasifier_xxx)\n",
    "\n",
    "En *param_distributions* se indicar los parámetros que utilizan los algoritmos en la función RandomSearchCV.\n",
    "\n",
    "Esta celda tiene la etiqueta **parameters** que servirá para poder lanzar los entrenamientos con la utilidad **papermill** pasándole un fichero con los parámetros. Los nuevos parámetros se situarán tras esta celda para tener prevalencia."
   ]
  },
  {
   "cell_type": "code",
   "execution_count": 2,
   "id": "ace29ba5",
   "metadata": {
    "execution": {
     "iopub.execute_input": "2023-10-29T22:21:51.157593Z",
     "iopub.status.busy": "2023-10-29T22:21:51.157593Z",
     "iopub.status.idle": "2023-10-29T22:21:51.189024Z",
     "shell.execute_reply": "2023-10-29T22:21:51.189024Z"
    },
    "papermill": {
     "duration": 0.031431,
     "end_time": "2023-10-29T22:21:51.189024",
     "exception": false,
     "start_time": "2023-10-29T22:21:51.157593",
     "status": "completed"
    },
    "tags": [
     "parameters"
    ]
   },
   "outputs": [
    {
     "name": "stdout",
     "output_type": "stream",
     "text": [
      "20231029T232151 : amilcar32 : INFO : Utilizando parámetros de mul_m\n"
     ]
    }
   ],
   "source": [
    "#  Parametros para el entrenamiento\n",
    "\n",
    "SEMILLA=        42\n",
    "M_TIPO=         \"mul_m\"\n",
    "M_SELECT=       \"MI\"\n",
    "M_CLASIF=       \"SVM\"\n",
    "R_FICHERO=      \"resultados\"\n",
    "M_FICHERO=      \"metricas\"\n",
    "PRE_DATA_FILE=  \"rows_transpose_norm_by_gene_id_with_target_num_\"\n",
    "SCORING=        \"roc_auc_ovr\" \n",
    "MAX_ITERS=      100\n",
    "\n",
    "def mutual_info_classif_state(X, y):\n",
    "    return mutual_info_classif(X, y, random_state=SEMILLA)\n",
    "\n",
    "eval_selector_mi = \"SelectKBest(score_func=mutual_info_classif_state)\"\n",
    "eval_selector_rf=  \"SelectFromModel(estimator=RandomForestClassifier(random_state=SEMILLA), threshold=-np.inf)\"\n",
    "eval_selector_anova=  \"SelectKBest(score_func=f_classif)\"\n",
    "\n",
    "eval_clasifier_svm= \"SVC(probability=True, random_state=SEMILLA)\"\n",
    "eval_clasifier_rf= \"RandomForestClassifier(random_state=SEMILLA)\"\n",
    "eval_clasifier_lr= \"LogisticRegressionCV(random_state=SEMILLA)\"\n",
    "\n",
    "if M_TIPO.startswith(\"bin_m\"):\n",
    "    myfunc.verbose(f\"Utilizando parámetros de {M_TIPO}\")\n",
    "    eval_selector = eval_selector_mi\n",
    "    eval_clasifier = eval_clasifier_svm\n",
    "\n",
    "    SEMILLA = 6578\n",
    "    M_SELECT = \"MI\"\n",
    "    M_CLASIF = \"SVM\"\n",
    "    param_distributions = {'selector__k': [1000], \n",
    "         'clasifier__kernel': ['rbf'], 'clasifier__gamma': [0.01], 'clasifier__C': [100]}\n",
    "elif M_TIPO.startswith(\"bin_s\"):\n",
    "    myfunc.verbose(f\"Utilizando parámetros de {M_TIPO}\")\n",
    "    eval_selector = eval_selector_rf\n",
    "    eval_clasifier = eval_clasifier_lr\n",
    "\n",
    "    SEMILLA = 6191\n",
    "    M_SELECT = \"RF\"\n",
    "    M_CLASIF = \"LR_L2\"\n",
    "    param_distributions = {'selector__max_features': [1000], 'selector__estimator__n_estimators': [200], \n",
    "        'clasifier__solver': ['lbfgs'], 'clasifier__penalty': ['l2'], 'clasifier__max_iter': [10000]}\n",
    "\n",
    "elif M_TIPO.startswith(\"mul_m\"):\n",
    "    myfunc.verbose(f\"Utilizando parámetros de {M_TIPO}\")\n",
    " \n",
    "    eval_selector = eval_selector_rf\n",
    "    eval_clasifier = eval_clasifier_lr\n",
    "\n",
    "    SEMILLA = 6191\n",
    "    M_SELECT = \"RF\"\n",
    "    M_CLASIF = \"LR_L2\"\n",
    "    param_distributions = {'selector__max_features': [1000], 'selector__estimator__n_estimators': [400], \n",
    "        'clasifier__solver': ['lbfgs'], 'clasifier__penalty': ['l2'], 'clasifier__max_iter': [10000]}\n",
    "\n",
    "else:\n",
    "    # M_TIPO.startswith(\"mul_s\"):\n",
    "    myfunc.verbose(f\"Utilizando parámetros de {M_TIPO}\")\n",
    "    eval_selector = eval_selector_anova\n",
    "    eval_clasifier = eval_clasifier_lr\n",
    "\n",
    "    SEMILLA = 1860\n",
    "    M_SELECT = \"ANOVA\"\n",
    "    M_CLASIF = \"LR_L2\"\n",
    "    param_distributions = {'selector__k': [1000], \n",
    "        'clasifier__solver': ['saga'], 'clasifier__penalty': ['l2'], 'clasifier__max_iter': [10000]}\n",
    "\n"
   ]
  },
  {
   "cell_type": "code",
   "execution_count": 3,
   "id": "1151d15c",
   "metadata": {
    "execution": {
     "iopub.execute_input": "2023-10-29T22:21:51.189024Z",
     "iopub.status.busy": "2023-10-29T22:21:51.189024Z",
     "iopub.status.idle": "2023-10-29T22:21:51.204766Z",
     "shell.execute_reply": "2023-10-29T22:21:51.204766Z"
    },
    "papermill": {
     "duration": 0.015742,
     "end_time": "2023-10-29T22:21:51.204766",
     "exception": false,
     "start_time": "2023-10-29T22:21:51.189024",
     "status": "completed"
    },
    "tags": [
     "injected-parameters"
    ]
   },
   "outputs": [],
   "source": [
    "# Parameters\n",
    "M_TIPO = \"mul_m\"\n",
    "M_SELECT = \"MI\"\n",
    "M_CLASIF = \"LR_L1\"\n",
    "P_FICHERO = \"param_0000_1860_mul_m_MI_LR_L1.yaml\"\n",
    "R_FICHERO = \"resultados_1860\"\n",
    "M_FICHERO = \"metricas_1860\"\n",
    "PRE_DATA_FILE = \"rows_transpose_norm_by_gene_id_with_target_num_\"\n",
    "SCORING = \"roc_auc_ovr\"\n",
    "SEMILLA = 1860\n",
    "MAX_ITERS = 500\n",
    "eval_selector = \"SelectKBest(score_func=mutual_info_classif_state)\"\n",
    "eval_clasifier = \"LogisticRegressionCV(random_state=SEMILLA)\"\n",
    "param_distributions = {\n",
    "    \"selector__k\": [1000],\n",
    "    \"clasifier__solver\": [\"saga\"],\n",
    "    \"clasifier__penalty\": [\"l1\"],\n",
    "    \"clasifier__max_iter\": [10000],\n",
    "}\n"
   ]
  },
  {
   "cell_type": "code",
   "execution_count": 4,
   "id": "1c7f6967",
   "metadata": {
    "execution": {
     "iopub.execute_input": "2023-10-29T22:21:51.204766Z",
     "iopub.status.busy": "2023-10-29T22:21:51.204766Z",
     "iopub.status.idle": "2023-10-29T22:21:51.220398Z",
     "shell.execute_reply": "2023-10-29T22:21:51.220398Z"
    },
    "papermill": {
     "duration": 0.015632,
     "end_time": "2023-10-29T22:21:51.220398",
     "exception": false,
     "start_time": "2023-10-29T22:21:51.204766",
     "status": "completed"
    },
    "tags": []
   },
   "outputs": [],
   "source": [
    "DATA_FILE = PRE_DATA_FILE + M_TIPO\n",
    "\n",
    "# si viene \"None\" en el parámetro max_depth, se le quitan las comillas para que no sea entendido por el algoritmo como un texto\n",
    "if \"clasifier__max_depth\" in param_distributions:\n",
    "    param_distributions['clasifier__max_depth'] = [None if x == 'None' else x for x in param_distributions['clasifier__max_depth']]"
   ]
  },
  {
   "cell_type": "markdown",
   "id": "15d871d6",
   "metadata": {
    "papermill": {
     "duration": 0.0,
     "end_time": "2023-10-29T22:21:51.220398",
     "exception": false,
     "start_time": "2023-10-29T22:21:51.220398",
     "status": "completed"
    },
    "tags": []
   },
   "source": [
    "Asignar los algoritmos que se utilizarán en la función RandomSearchCV"
   ]
  },
  {
   "cell_type": "code",
   "execution_count": 5,
   "id": "8fb8caf8",
   "metadata": {
    "execution": {
     "iopub.execute_input": "2023-10-29T22:21:51.220398Z",
     "iopub.status.busy": "2023-10-29T22:21:51.220398Z",
     "iopub.status.idle": "2023-10-29T22:21:51.251637Z",
     "shell.execute_reply": "2023-10-29T22:21:51.251637Z"
    },
    "papermill": {
     "duration": 0.031239,
     "end_time": "2023-10-29T22:21:51.251637",
     "exception": false,
     "start_time": "2023-10-29T22:21:51.220398",
     "status": "completed"
    },
    "tags": []
   },
   "outputs": [],
   "source": [
    "algor_selector=eval(eval_selector)\n",
    "algor_clasifier=eval(eval_clasifier)"
   ]
  },
  {
   "cell_type": "markdown",
   "id": "90d9fd12",
   "metadata": {
    "papermill": {
     "duration": 0.015623,
     "end_time": "2023-10-29T22:21:51.267260",
     "exception": false,
     "start_time": "2023-10-29T22:21:51.251637",
     "status": "completed"
    },
    "tags": []
   },
   "source": [
    "#### Comprobar el entorno y leer fichero de muestras"
   ]
  },
  {
   "cell_type": "code",
   "execution_count": 6,
   "id": "44ae2338",
   "metadata": {
    "execution": {
     "iopub.execute_input": "2023-10-29T22:21:51.267260Z",
     "iopub.status.busy": "2023-10-29T22:21:51.267260Z",
     "iopub.status.idle": "2023-10-29T22:21:51.455584Z",
     "shell.execute_reply": "2023-10-29T22:21:51.455584Z"
    },
    "papermill": {
     "duration": 0.188324,
     "end_time": "2023-10-29T22:21:51.455584",
     "exception": false,
     "start_time": "2023-10-29T22:21:51.267260",
     "status": "completed"
    },
    "tags": []
   },
   "outputs": [
    {
     "name": "stdout",
     "output_type": "stream",
     "text": [
      "20231029T232151 : amilcar32 : INFO : Encontrada carpeta DATA_DIR=..\\tfm_viu\\datos\n",
      "20231029T232151 : amilcar32 : INFO : Encontrada carpeta CFDNA_DIR=..\\tfm_viu\\datos\\cfDNA_5hmC\n",
      "20231029T232151 : amilcar32 : INFO : Encontrada carpeta GENCODE_DIR=..\\tfm_viu\\datos\\gencode\n",
      "20231029T232151 : amilcar32 : INFO : Encontrada carpeta H5_DIR=..\\tfm_viu\\datos\\h5\n",
      "20231029T232151 : amilcar32 : INFO : Encontrada carpeta LOG_DIR=..\\tfm_viu\\datos\\logs\n",
      "20231029T232151 : amilcar32 : INFO : Encontrada carpeta CSV_DIR=..\\tfm_viu\\datos\\csv\n",
      "20231029T232151 : amilcar32 : INFO : Encontrada carpeta MODEL_DIR=..\\tfm_viu\\ejecuciones\\modelos\n",
      "20231029T232151 : amilcar32 : INFO : Encontrada carpeta EXEC_DIR=..\\tfm_viu\\ejecuciones\n",
      "20231029T232151 : amilcar32 : INFO : Encontrada carpeta MET_DIR=..\\tfm_viu\\ejecuciones\\metricas\n",
      "20231029T232151 : amilcar32 : INFO : Inicio leer fichero h5 ..\\tfm_viu\\datos\\h5\\rows_transpose_norm_by_gene_id_with_target_num_mul_m.h5\n",
      "20231029T232151 : amilcar32 : INFO : Leyendo clave /df\n"
     ]
    },
    {
     "name": "stdout",
     "output_type": "stream",
     "text": [
      "20231029T232151 : amilcar32 : INFO : Tamaño (434, 18876)\n",
      "20231029T232151 : amilcar32 : INFO : Fin leer fichero h5 ..\\tfm_viu\\datos\\h5\\rows_transpose_norm_by_gene_id_with_target_num_mul_m.h5\n"
     ]
    },
    {
     "data": {
      "text/plain": [
       "target\n",
       "0    62\n",
       "1    62\n",
       "2    62\n",
       "3    62\n",
       "4    62\n",
       "5    62\n",
       "6    62\n",
       "dtype: int64"
      ]
     },
     "metadata": {},
     "output_type": "display_data"
    },
    {
     "name": "stdout",
     "output_type": "stream",
     "text": [
      "Shape df: (434, 18876)\n",
      "Shape X_train: (347, 18875)\n",
      "Shape X_test: (87, 18875)\n"
     ]
    }
   ],
   "source": [
    "start_time = datetime.datetime.now()\n",
    "\n",
    "myfunc.reset_vars()\n",
    "\n",
    "myfunc.NOTEBK_FILENAME = myfunc.get_nb_name()\n",
    "\n",
    "myfunc.check_enviroment(myfunc.DATA_DIR, myfunc.CFDNA_DIR, myfunc.GENCODE_DIR, myfunc.H5_DIR, myfunc.LOG_DIR, myfunc.CSV_DIR, myfunc.MODEL_DIR, myfunc.EXEC_DIR, myfunc.MET_DIR)\n",
    "\n",
    "# Leer fichero con las muestras\n",
    "df_t = myfunc.read_h5_to_df(DATA_FILE, myfunc.H5_DIR)\n",
    "display(df_t.groupby(\"target\").size())\n",
    "print(\"Shape df:\",df_t.shape)\n",
    "\n",
    "# Separar caracteristicas/genes de las etiquetas/tipos de cáncer\n",
    "X = df_t.iloc[:, :-1]  # Todas las columnas excepto la última\n",
    "y = df_t.iloc[:, -1]  # La última columna contiene los identificadores de los tipos de cáncer\n",
    "\n",
    "#  Crear el conjunto de datos de entrenamiento y de pruebas, y se fija la semilla para siempre coger el mismo juego de muestras\n",
    "X_train, X_test, y_train, y_test = train_test_split(X, y, test_size=0.2, shuffle=True, random_state=42)\n",
    "print(\"Shape X_train:\",X_train.shape)\n",
    "print(\"Shape X_test:\",X_test.shape)\n"
   ]
  },
  {
   "cell_type": "markdown",
   "id": "8916525e",
   "metadata": {
    "papermill": {
     "duration": 0.0,
     "end_time": "2023-10-29T22:21:51.910093",
     "exception": false,
     "start_time": "2023-10-29T22:21:51.910093",
     "status": "completed"
    },
    "tags": []
   },
   "source": [
    "#### Selección de características y clasificación."
   ]
  },
  {
   "cell_type": "code",
   "execution_count": 7,
   "id": "104a7c22",
   "metadata": {
    "execution": {
     "iopub.execute_input": "2023-10-29T22:21:51.925583Z",
     "iopub.status.busy": "2023-10-29T22:21:51.925583Z",
     "iopub.status.idle": "2023-10-29T23:03:25.997862Z",
     "shell.execute_reply": "2023-10-29T23:03:25.997862Z"
    },
    "papermill": {
     "duration": 2494.087769,
     "end_time": "2023-10-29T23:03:25.997862",
     "exception": false,
     "start_time": "2023-10-29T22:21:51.910093",
     "status": "completed"
    },
    "tags": []
   },
   "outputs": [
    {
     "name": "stdout",
     "output_type": "stream",
     "text": [
      "20231029T232151 : amilcar32 : INFO : Iniciando entrenamiento\n",
      "num_iter: 1 , max_iter: 1\n",
      "Fitting 5 folds for each of 1 candidates, totalling 5 fits\n"
     ]
    },
    {
     "name": "stdout",
     "output_type": "stream",
     "text": [
      "Mejores Hiperparámetros: {'selector__k': 1000, 'clasifier__solver': 'saga', 'clasifier__penalty': 'l1', 'clasifier__max_iter': 10000}\n",
      "Mejor Puntuación: 0.8761\n",
      "20231030T000325 : amilcar32 : INFO : Fin entrenamiento\n"
     ]
    }
   ],
   "source": [
    "myfunc.verbose(\"Iniciando entrenamiento\")\n",
    "\n",
    "kf = KFold(n_splits=5, shuffle=True, random_state=SEMILLA)\n",
    "\n",
    "# Crear el pipeline para el flujo de tareas\n",
    "tasks_pipeline = Pipeline([\n",
    "    ('selector', algor_selector),\n",
    "    ('clasifier', algor_clasifier)\n",
    "])\n",
    "\n",
    "# MAX_ITERS puede limitar el número de iteraciones si son excesivas para las combinaciones de parámetros buscando un óptimo local, \n",
    "# sino funcionaría como GridSearchCV al revisar todas las cominaciones de los parámetros\n",
    "num_iteraciones = 1\n",
    "num_iteraciones = num_iteraciones * np.prod([len(elemento1) for _, elemento1 in param_distributions.items()])\n",
    "max_iteraciones = num_iteraciones if num_iteraciones <= MAX_ITERS else MAX_ITERS\n",
    "print(\"num_iter:\",num_iteraciones,\", max_iter:\",max_iteraciones)\n",
    "\n",
    "random_search = RandomizedSearchCV(\n",
    "    tasks_pipeline, \n",
    "    param_distributions, \n",
    "    n_iter=max_iteraciones,\n",
    "    scoring=SCORING,\n",
    "    cv=kf,\n",
    "    verbose=3, \n",
    "    random_state=SEMILLA, \n",
    "    n_jobs=-1\n",
    "    )\n",
    "\n",
    "# Entrenar el modelo\n",
    "random_search.fit(X_train, y_train)\n",
    "\n",
    "# Ver los mejores hiperparámetros encontrados\n",
    "print(f'Mejores Hiperparámetros: {random_search.best_params_}')\n",
    "print(f'Mejor Puntuación: {random_search.best_score_:.4f}')\n",
    "\n",
    "# Nos quedamos con el mejor modelo para ver las métricas\n",
    "mejor_modelo = random_search.best_estimator_\n",
    "\n",
    "myfunc.verbose(\"Fin entrenamiento\")"
   ]
  },
  {
   "cell_type": "markdown",
   "id": "1a9539e1",
   "metadata": {
    "papermill": {
     "duration": 0.015615,
     "end_time": "2023-10-29T23:03:26.013477",
     "exception": false,
     "start_time": "2023-10-29T23:03:25.997862",
     "status": "completed"
    },
    "tags": []
   },
   "source": [
    "#### Guardar modelo"
   ]
  },
  {
   "cell_type": "code",
   "execution_count": 8,
   "id": "0f6573b0",
   "metadata": {
    "execution": {
     "iopub.execute_input": "2023-10-29T23:03:26.029101Z",
     "iopub.status.busy": "2023-10-29T23:03:26.029101Z",
     "iopub.status.idle": "2023-10-29T23:03:26.060913Z",
     "shell.execute_reply": "2023-10-29T23:03:26.060913Z"
    },
    "papermill": {
     "duration": 0.047436,
     "end_time": "2023-10-29T23:03:26.060913",
     "exception": false,
     "start_time": "2023-10-29T23:03:26.013477",
     "status": "completed"
    },
    "tags": []
   },
   "outputs": [
    {
     "name": "stdout",
     "output_type": "stream",
     "text": [
      "20231030T000326 : amilcar32 : INFO : Inicio guardar fichero ..\\tfm_viu\\ejecuciones\\modelos\\modelo_1860_mul_m_MI_LR_L1.pkl\n",
      "20231030T000326 : amilcar32 : INFO : Fin guardar fichero ..\\tfm_viu\\ejecuciones\\modelos\\modelo_1860_mul_m_MI_LR_L1.pkl\n"
     ]
    }
   ],
   "source": [
    "fichero_modelo = str.replace(\"modelo_\"+str(SEMILLA).zfill(4)+\"_\"+M_TIPO+\"_\"+M_SELECT+\"_\"+M_CLASIF+\".pkl\", \" \", \"_\")\n",
    "\n",
    "myfunc.save_modelo(mejor_modelo, myfunc.MODEL_DIR, fichero_modelo)"
   ]
  },
  {
   "cell_type": "markdown",
   "id": "d576dae8",
   "metadata": {
    "papermill": {
     "duration": 0.01564,
     "end_time": "2023-10-29T23:03:26.076553",
     "exception": false,
     "start_time": "2023-10-29T23:03:26.060913",
     "status": "completed"
    },
    "tags": []
   },
   "source": [
    "#### Ver resultados del las iteraciones hechas por RandomSearchCV"
   ]
  },
  {
   "cell_type": "code",
   "execution_count": 9,
   "id": "b8524116",
   "metadata": {
    "execution": {
     "iopub.execute_input": "2023-10-29T23:03:26.092178Z",
     "iopub.status.busy": "2023-10-29T23:03:26.092178Z",
     "iopub.status.idle": "2023-10-29T23:03:26.123508Z",
     "shell.execute_reply": "2023-10-29T23:03:26.123508Z"
    },
    "papermill": {
     "duration": 0.046955,
     "end_time": "2023-10-29T23:03:26.123508",
     "exception": false,
     "start_time": "2023-10-29T23:03:26.076553",
     "status": "completed"
    },
    "tags": []
   },
   "outputs": [
    {
     "name": "stdout",
     "output_type": "stream",
     "text": [
      "20231030T000326 : amilcar32 : INFO : Inicio ver resultados\n",
      "Mejores Hiperparámetros: {'selector__k': 1000, 'clasifier__solver': 'saga', 'clasifier__penalty': 'l1', 'clasifier__max_iter': 10000}\n",
      "Mejores puntuaciones: 0.8761 | Params: {'selector__k': 1000, 'clasifier__solver': 'saga', 'clasifier__penalty': 'l1', 'clasifier__max_iter': 10000}\n",
      "Media de las puntuaciones: 0.8761 | Params: {'selector__k': 1000, 'clasifier__solver': 'saga', 'clasifier__penalty': 'l1', 'clasifier__max_iter': 10000}\n",
      "20231030T000326 : amilcar32 : INFO : Fin resultados\n"
     ]
    }
   ],
   "source": [
    "myfunc.ver_resultados_search(random_search)"
   ]
  },
  {
   "cell_type": "markdown",
   "id": "3a78a9d9",
   "metadata": {
    "papermill": {
     "duration": 0.015626,
     "end_time": "2023-10-29T23:03:26.139134",
     "exception": false,
     "start_time": "2023-10-29T23:03:26.123508",
     "status": "completed"
    },
    "tags": []
   },
   "source": [
    "#### Ver métricas del mejor modelo"
   ]
  },
  {
   "cell_type": "code",
   "execution_count": 10,
   "id": "66846102",
   "metadata": {
    "execution": {
     "iopub.execute_input": "2023-10-29T23:03:26.154766Z",
     "iopub.status.busy": "2023-10-29T23:03:26.154766Z",
     "iopub.status.idle": "2023-10-29T23:03:27.563835Z",
     "shell.execute_reply": "2023-10-29T23:03:27.563835Z"
    },
    "papermill": {
     "duration": 1.409069,
     "end_time": "2023-10-29T23:03:27.563835",
     "exception": false,
     "start_time": "2023-10-29T23:03:26.154766",
     "status": "completed"
    },
    "tags": []
   },
   "outputs": [
    {
     "name": "stdout",
     "output_type": "stream",
     "text": [
      "20231030T000326 : amilcar32 : INFO : Inicio ver métricas multiclase\n"
     ]
    },
    {
     "name": "stdout",
     "output_type": "stream",
     "text": [
      "              precision    recall  f1-score   support\n",
      "\n",
      "           0       0.82      0.56      0.67        16\n",
      "           1       0.71      0.67      0.69        15\n",
      "           2       0.33      0.27      0.30        11\n",
      "           3       0.36      0.80      0.50         5\n",
      "           4       0.67      0.62      0.64        13\n",
      "           5       0.86      0.67      0.75         9\n",
      "           6       0.61      0.78      0.68        18\n",
      "\n",
      "    accuracy                           0.62        87\n",
      "   macro avg       0.62      0.62      0.60        87\n",
      "weighted avg       0.65      0.62      0.62        87\n",
      "\n",
      "\n",
      "\n",
      "           Exactitud: 0.620690\n",
      "   Precisión (media): 0.623135\n",
      "      Recall (media): 0.623103\n",
      "    F1-score (media): 0.604178\n",
      "\n",
      "\n",
      "AUC para el tipo de cáncer 0-Control.... 0.9129\n",
      "AUC para el tipo de cáncer 1-Bladder.... 0.8796\n",
      "AUC para el tipo de cáncer 2-Breast..... 0.7978\n",
      "AUC para el tipo de cáncer 3-Colorectal. 0.9683\n",
      "AUC para el tipo de cáncer 4-Kidney..... 0.8472\n",
      "AUC para el tipo de cáncer 5-Lung....... 0.9145\n",
      "AUC para el tipo de cáncer 6-Prostate... 0.9002\n",
      "\n",
      "Media de AUC: 0.8886\n"
     ]
    },
    {
     "data": {
      "image/png": "[encoded data removed]",
      "text/plain": [
       "<Figure size 1000x600 with 1 Axes>"
      ]
     },
     "metadata": {},
     "output_type": "display_data"
    },
    {
     "name": "stdout",
     "output_type": "stream",
     "text": [
      "\n",
      "\n"
     ]
    },
    {
     "data": {
      "image/png": "[encoded data removed]",
      "text/plain": [
       "<Figure size 800x400 with 2 Axes>"
      ]
     },
     "metadata": {},
     "output_type": "display_data"
    },
    {
     "name": "stdout",
     "output_type": "stream",
     "text": [
      "\n",
      "\n",
      "Puntuación Jaccard para el cáncer tipo 0-Control.... 0.5000\n",
      "Puntuación Jaccard para el cáncer tipo 1-Bladder.... 0.5263\n",
      "Puntuación Jaccard para el cáncer tipo 2-Breast..... 0.1765\n",
      "Puntuación Jaccard para el cáncer tipo 3-Colorectal. 0.3333\n",
      "Puntuación Jaccard para el cáncer tipo 4-Kidney..... 0.4706\n",
      "Puntuación Jaccard para el cáncer tipo 5-Lung....... 0.6000\n",
      "Puntuación Jaccard para el cáncer tipo 6-Prostate... 0.5185\n",
      "\n",
      "Media de la puntuación de Jaccard: 0.4465\n"
     ]
    }
   ],
   "source": [
    "if M_TIPO.startswith(\"bin\"):\n",
    "    myfunc.ver_metricas(mejor_modelo, X_test, y_test)\n",
    "else:\n",
    "    myfunc.ver_metricas_multi(mejor_modelo, X_test, y_test)\n"
   ]
  },
  {
   "cell_type": "markdown",
   "id": "9c6c7635",
   "metadata": {
    "papermill": {
     "duration": 0.015698,
     "end_time": "2023-10-29T23:03:27.594996",
     "exception": false,
     "start_time": "2023-10-29T23:03:27.579298",
     "status": "completed"
    },
    "tags": []
   },
   "source": [
    "#### Finalización del notebook"
   ]
  },
  {
   "cell_type": "code",
   "execution_count": 11,
   "id": "18493209",
   "metadata": {
    "execution": {
     "iopub.execute_input": "2023-10-29T23:03:27.626236Z",
     "iopub.status.busy": "2023-10-29T23:03:27.626236Z",
     "iopub.status.idle": "2023-10-29T23:03:27.657485Z",
     "shell.execute_reply": "2023-10-29T23:03:27.657485Z"
    },
    "papermill": {
     "duration": 0.04687,
     "end_time": "2023-10-29T23:03:27.657485",
     "exception": false,
     "start_time": "2023-10-29T23:03:27.610615",
     "status": "completed"
    },
    "tags": []
   },
   "outputs": [
    {
     "name": "stdout",
     "output_type": "stream",
     "text": [
      "20231030T000327 : amilcar32 : INFO : Notebook ha tardado 2496 seconds\n"
     ]
    }
   ],
   "source": [
    "end_time = datetime.datetime.now()\n",
    "total_time = end_time - start_time\n",
    "myfunc.verbose(f\"Notebook ha tardado {total_time.seconds} seconds\")"
   ]
  },
  {
   "cell_type": "markdown",
   "id": "aff42d01",
   "metadata": {
    "papermill": {
     "duration": 0.015632,
     "end_time": "2023-10-29T23:03:27.688742",
     "exception": false,
     "start_time": "2023-10-29T23:03:27.673110",
     "status": "completed"
    },
    "tags": []
   },
   "source": [
    "#### Guardar métricas"
   ]
  },
  {
   "cell_type": "code",
   "execution_count": 12,
   "id": "766b9862",
   "metadata": {
    "execution": {
     "iopub.execute_input": "2023-10-29T23:03:27.719987Z",
     "iopub.status.busy": "2023-10-29T23:03:27.704360Z",
     "iopub.status.idle": "2023-10-29T23:03:28.204541Z",
     "shell.execute_reply": "2023-10-29T23:03:28.204541Z"
    },
    "papermill": {
     "duration": 0.500181,
     "end_time": "2023-10-29T23:03:28.204541",
     "exception": false,
     "start_time": "2023-10-29T23:03:27.704360",
     "status": "completed"
    },
    "tags": []
   },
   "outputs": [
    {
     "name": "stdout",
     "output_type": "stream",
     "text": [
      "20231030T000327 : amilcar32 : INFO : Inicio guardar métricas multiclase\n",
      "20231030T000327 : amilcar32 : INFO : Inicio leer fichero ..\\tfm_viu\\ejecuciones\\metricas\\metricas_1860.csv\n",
      "20231030T000327 : amilcar32 : INFO : Fin leer fichero ..\\tfm_viu\\ejecuciones\\metricas\\metricas_1860.csv\n"
     ]
    },
    {
     "name": "stdout",
     "output_type": "stream",
     "text": [
      "20231030T000328 : amilcar32 : INFO : Inicio guardar fichero ..\\tfm_viu\\ejecuciones\\metricas\\metricas_1860.csv\n",
      "20231030T000328 : amilcar32 : INFO : Fichero borrado ..\\tfm_viu\\ejecuciones\\metricas\\metricas_1860.csv\n",
      "20231030T000328 : amilcar32 : INFO : Fin guardar fichero ..\\tfm_viu\\ejecuciones\\metricas\\metricas_1860.csv\n",
      "20231030T000328 : amilcar32 : INFO : Fin guardar métricas multiclase\n",
      "20231030T000328 : amilcar32 : INFO : Inicio leer fichero ..\\tfm_viu\\ejecuciones\\metricas\\metricas_1860.csv\n",
      "20231030T000328 : amilcar32 : INFO : Fin leer fichero ..\\tfm_viu\\ejecuciones\\metricas\\metricas_1860.csv\n"
     ]
    },
    {
     "data": {
      "text/html": [
       "<div>\n",
       "<style scoped>\n",
       "    .dataframe tbody tr th:only-of-type {\n",
       "        vertical-align: middle;\n",
       "    }\n",
       "\n",
       "    .dataframe tbody tr th {\n",
       "        vertical-align: top;\n",
       "    }\n",
       "\n",
       "    .dataframe thead th {\n",
       "        text-align: right;\n",
       "    }\n",
       "</style>\n",
       "<table border=\"1\" class=\"dataframe\">\n",
       "  <thead>\n",
       "    <tr style=\"text-align: right;\">\n",
       "      <th></th>\n",
       "      <th>tipo</th>\n",
       "      <th>select</th>\n",
       "      <th>clasific</th>\n",
       "      <th>semilla</th>\n",
       "      <th>accuracy</th>\n",
       "      <th>precision</th>\n",
       "      <th>recall</th>\n",
       "      <th>f1_score</th>\n",
       "      <th>roc_auc</th>\n",
       "      <th>hostname</th>\n",
       "      <th>total_time_sec</th>\n",
       "      <th>datetime</th>\n",
       "      <th>fichero_modelo</th>\n",
       "      <th>params</th>\n",
       "      <th>shape</th>\n",
       "      <th>features</th>\n",
       "      <th>roc_auc_ovr</th>\n",
       "      <th>indices_auc</th>\n",
       "      <th>indices_jaccard</th>\n",
       "    </tr>\n",
       "  </thead>\n",
       "  <tbody>\n",
       "    <tr>\n",
       "      <th>0</th>\n",
       "      <td>mul_m</td>\n",
       "      <td>MI</td>\n",
       "      <td>LR_L1</td>\n",
       "      <td>1860</td>\n",
       "      <td>0.620690</td>\n",
       "      <td>0.623135</td>\n",
       "      <td>0.623103</td>\n",
       "      <td>0.604178</td>\n",
       "      <td>NaN</td>\n",
       "      <td>amilcar32</td>\n",
       "      <td>2496</td>\n",
       "      <td>2023-10-30 00:03:28.126213</td>\n",
       "      <td>modelo_1860_mul_m_MI_LR_L1.pkl</td>\n",
       "      <td>{'selector__k': 1000, 'clasifier__solver': 'sa...</td>\n",
       "      <td>X_test:(87, 18875)</td>\n",
       "      <td>['ENSG00000001084.13', 'ENSG00000001460.18', '...</td>\n",
       "      <td>0.888644</td>\n",
       "      <td>[0.9128521126760563, 0.8796296296296297, 0.797...</td>\n",
       "      <td>[0.5, 0.5263157894736842, 0.17647058823529413,...</td>\n",
       "    </tr>\n",
       "    <tr>\n",
       "      <th>0</th>\n",
       "      <td>mul_m</td>\n",
       "      <td>MI</td>\n",
       "      <td>LR_EN</td>\n",
       "      <td>1860</td>\n",
       "      <td>0.574713</td>\n",
       "      <td>0.573015</td>\n",
       "      <td>0.566678</td>\n",
       "      <td>0.552960</td>\n",
       "      <td>NaN</td>\n",
       "      <td>amilcar32</td>\n",
       "      <td>2151</td>\n",
       "      <td>2023-10-29 23:21:46.118535</td>\n",
       "      <td>modelo_1860_mul_m_MI_LR_EN.pkl</td>\n",
       "      <td>{'selector__k': 1000, 'clasifier__solver': 'sa...</td>\n",
       "      <td>X_test:(87, 18875)</td>\n",
       "      <td>['ENSG00000001084.13', 'ENSG00000001460.18', '...</td>\n",
       "      <td>0.868805</td>\n",
       "      <td>[0.8820422535211268, 0.8907407407407407, 0.788...</td>\n",
       "      <td>[0.4, 0.5263157894736842, 0.2, 0.2142857142857...</td>\n",
       "    </tr>\n",
       "    <tr>\n",
       "      <th>0</th>\n",
       "      <td>mul_m</td>\n",
       "      <td>ANOVA</td>\n",
       "      <td>SVM</td>\n",
       "      <td>1860</td>\n",
       "      <td>0.448276</td>\n",
       "      <td>0.466514</td>\n",
       "      <td>0.477284</td>\n",
       "      <td>0.454199</td>\n",
       "      <td>NaN</td>\n",
       "      <td>amilcar32</td>\n",
       "      <td>2</td>\n",
       "      <td>2023-10-29 22:45:50.232009</td>\n",
       "      <td>modelo_1860_mul_m_ANOVA_SVM.pkl</td>\n",
       "      <td>{'selector__k': 500, 'clasifier__kernel': 'rbf...</td>\n",
       "      <td>X_test:(87, 18875)</td>\n",
       "      <td>['ENSG00000000938.13', 'ENSG00000004660.15', '...</td>\n",
       "      <td>0.813477</td>\n",
       "      <td>[0.6998239436619719, 0.8842592592592592, 0.575...</td>\n",
       "      <td>[0.17391304347826086, 0.42105263157894735, 0.1...</td>\n",
       "    </tr>\n",
       "  </tbody>\n",
       "</table>\n",
       "</div>"
      ],
      "text/plain": [
       "    tipo select clasific  semilla  accuracy  precision    recall  f1_score  \\\n",
       "0  mul_m     MI    LR_L1     1860  0.620690   0.623135  0.623103  0.604178   \n",
       "0  mul_m     MI    LR_EN     1860  0.574713   0.573015  0.566678  0.552960   \n",
       "0  mul_m  ANOVA      SVM     1860  0.448276   0.466514  0.477284  0.454199   \n",
       "\n",
       "   roc_auc   hostname  total_time_sec                    datetime  \\\n",
       "0      NaN  amilcar32            2496  2023-10-30 00:03:28.126213   \n",
       "0      NaN  amilcar32            2151  2023-10-29 23:21:46.118535   \n",
       "0      NaN  amilcar32               2  2023-10-29 22:45:50.232009   \n",
       "\n",
       "                    fichero_modelo  \\\n",
       "0   modelo_1860_mul_m_MI_LR_L1.pkl   \n",
       "0   modelo_1860_mul_m_MI_LR_EN.pkl   \n",
       "0  modelo_1860_mul_m_ANOVA_SVM.pkl   \n",
       "\n",
       "                                              params               shape  \\\n",
       "0  {'selector__k': 1000, 'clasifier__solver': 'sa...  X_test:(87, 18875)   \n",
       "0  {'selector__k': 1000, 'clasifier__solver': 'sa...  X_test:(87, 18875)   \n",
       "0  {'selector__k': 500, 'clasifier__kernel': 'rbf...  X_test:(87, 18875)   \n",
       "\n",
       "                                            features  roc_auc_ovr  \\\n",
       "0  ['ENSG00000001084.13', 'ENSG00000001460.18', '...     0.888644   \n",
       "0  ['ENSG00000001084.13', 'ENSG00000001460.18', '...     0.868805   \n",
       "0  ['ENSG00000000938.13', 'ENSG00000004660.15', '...     0.813477   \n",
       "\n",
       "                                         indices_auc  \\\n",
       "0  [0.9128521126760563, 0.8796296296296297, 0.797...   \n",
       "0  [0.8820422535211268, 0.8907407407407407, 0.788...   \n",
       "0  [0.6998239436619719, 0.8842592592592592, 0.575...   \n",
       "\n",
       "                                     indices_jaccard  \n",
       "0  [0.5, 0.5263157894736842, 0.17647058823529413,...  \n",
       "0  [0.4, 0.5263157894736842, 0.2, 0.2142857142857...  \n",
       "0  [0.17391304347826086, 0.42105263157894735, 0.1...  "
      ]
     },
     "metadata": {},
     "output_type": "display_data"
    }
   ],
   "source": [
    "if M_TIPO.startswith(\"bin\"):\n",
    "    myfunc.save_metricas_to_csv(random_search, X_test, y_test, M_TIPO, M_SELECT, M_CLASIF, total_time, SEMILLA, myfunc.MET_DIR, M_FICHERO, fichero_modelo)\n",
    "else:\n",
    "    myfunc.save_metricas_multi_to_csv(random_search, X_test, y_test, M_TIPO, M_SELECT, M_CLASIF, total_time, SEMILLA, myfunc.MET_DIR, M_FICHERO, fichero_modelo)\n",
    "\n",
    "df1=myfunc.read_metricas_to_df(myfunc.MET_DIR,M_FICHERO)\n",
    "\n",
    "display(df1.sort_values(\"datetime\", ascending=False)[:3])\n"
   ]
  },
  {
   "cell_type": "markdown",
   "id": "3daa57c5",
   "metadata": {
    "papermill": {
     "duration": 0.01545,
     "end_time": "2023-10-29T23:03:28.219991",
     "exception": false,
     "start_time": "2023-10-29T23:03:28.204541",
     "status": "completed"
    },
    "tags": []
   },
   "source": [
    "#### Guardar resultados"
   ]
  },
  {
   "cell_type": "code",
   "execution_count": 13,
   "id": "a72c679c",
   "metadata": {
    "execution": {
     "iopub.execute_input": "2023-10-29T23:03:28.251158Z",
     "iopub.status.busy": "2023-10-29T23:03:28.235618Z",
     "iopub.status.idle": "2023-10-29T23:03:28.282670Z",
     "shell.execute_reply": "2023-10-29T23:03:28.282670Z"
    },
    "papermill": {
     "duration": 0.047052,
     "end_time": "2023-10-29T23:03:28.282670",
     "exception": false,
     "start_time": "2023-10-29T23:03:28.235618",
     "status": "completed"
    },
    "tags": []
   },
   "outputs": [
    {
     "name": "stdout",
     "output_type": "stream",
     "text": [
      "20231030T000328 : amilcar32 : INFO : Inicio guardar resultados\n",
      "20231030T000328 : amilcar32 : INFO : Inicio guardar fichero ..\\tfm_viu\\ejecuciones\\metricas\\resultados_1860_mul_m-MI-LR_L1.csv\n",
      "20231030T000328 : amilcar32 : INFO : Fin guardar fichero ..\\tfm_viu\\ejecuciones\\metricas\\resultados_1860_mul_m-MI-LR_L1.csv\n",
      "20231030T000328 : amilcar32 : INFO : Fin guardar resultados\n"
     ]
    }
   ],
   "source": [
    "fichero_resultados=R_FICHERO+\"_\"+M_TIPO+\"-\"+M_SELECT+\"-\"+M_CLASIF+\".csv\"\n",
    "myfunc.save_resultados_to_csv(M_TIPO, M_SELECT, M_CLASIF,  random_search, myfunc.MET_DIR, fichero_resultados)\n"
   ]
  }
 ],
 "metadata": {
  "kernelspec": {
   "display_name": "Python 3 (ipykernel)",
   "language": "python",
   "name": "python3"
  },
  "language_info": {
   "codemirror_mode": {
    "name": "ipython",
    "version": 3
   },
   "file_extension": ".py",
   "mimetype": "text/x-python",
   "name": "python",
   "nbconvert_exporter": "python",
   "pygments_lexer": "ipython3",
   "version": "3.10.12"
  },
  "papermill": {
   "default_parameters": {},
   "duration": 2501.07072,
   "end_time": "2023-10-29T23:03:29.192478",
   "environment_variables": {},
   "exception": null,
   "input_path": "03_entrenamiento.ipynb",
   "output_path": "ejecuciones\\training\\03_entrenamiento.20231029T232147.param_0000_1860_mul_m_MI_LR_L1.output.ipynb",
   "parameters": {
    "MAX_ITERS": 500,
    "M_CLASIF": "LR_L1",
    "M_FICHERO": "metricas_1860",
    "M_SELECT": "MI",
    "M_TIPO": "mul_m",
    "PRE_DATA_FILE": "rows_transpose_norm_by_gene_id_with_target_num_",
    "P_FICHERO": "param_0000_1860_mul_m_MI_LR_L1.yaml",
    "R_FICHERO": "resultados_1860",
    "SCORING": "roc_auc_ovr",
    "SEMILLA": 1860,
    "eval_clasifier": "LogisticRegressionCV(random_state=SEMILLA)",
    "eval_selector": "SelectKBest(score_func=mutual_info_classif_state)",
    "param_distributions": {
     "clasifier__max_iter": [
      10000
     ],
     "clasifier__penalty": [
      "l1"
     ],
     "clasifier__solver": [
      "saga"
     ],
     "selector__k": [
      1000
     ]
    }
   },
   "start_time": "2023-10-29T22:21:48.121758",
   "version": "2.4.0"
  }
 },
 "nbformat": 4,
 "nbformat_minor": 5
}