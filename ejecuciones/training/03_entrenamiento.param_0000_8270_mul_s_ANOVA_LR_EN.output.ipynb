{
 "cells": [
  {
   "cell_type": "markdown",
   "id": "3ba6e8fe",
   "metadata": {
    "papermill": {
     "duration": 0.006166,
     "end_time": "2023-10-29T23:34:36.259273",
     "exception": false,
     "start_time": "2023-10-29T23:34:36.253107",
     "status": "completed"
    },
    "tags": []
   },
   "source": [
    "##### Inicio"
   ]
  },
  {
   "cell_type": "markdown",
   "id": "a1e06bd3",
   "metadata": {
    "papermill": {
     "duration": 0.003394,
     "end_time": "2023-10-29T23:34:36.266397",
     "exception": false,
     "start_time": "2023-10-29T23:34:36.263003",
     "status": "completed"
    },
    "tags": []
   },
   "source": [
    "#### Carga de datos"
   ]
  },
  {
   "cell_type": "code",
   "execution_count": 1,
   "id": "e458a130",
   "metadata": {
    "execution": {
     "iopub.execute_input": "2023-10-29T23:34:36.274196Z",
     "iopub.status.busy": "2023-10-29T23:34:36.273957Z",
     "iopub.status.idle": "2023-10-29T23:34:37.376672Z",
     "shell.execute_reply": "2023-10-29T23:34:37.375977Z"
    },
    "papermill": {
     "duration": 1.108353,
     "end_time": "2023-10-29T23:34:37.378110",
     "exception": false,
     "start_time": "2023-10-29T23:34:36.269757",
     "status": "completed"
    },
    "tags": []
   },
   "outputs": [
    {
     "name": "stdout",
     "output_type": "stream",
     "text": [
      "CPU_COUNT: 16; NODE: enderlab; sys.version: 3.10.11 (main, May 16 2023, 00:28:57) [GCC 11.2.0]\n",
      "LOKY_MAX_CPU_COUNT is not set.\n",
      "OMP_NUM_THREADS is not set.\n"
     ]
    }
   ],
   "source": [
    "import os\n",
    "import numpy as np\n",
    "import pandas as pd\n",
    "import datetime\n",
    "import sklearn\n",
    "import logging\n",
    "import warnings\n",
    "\n",
    "from sklearn.pipeline import Pipeline\n",
    "from sklearn.model_selection import RandomizedSearchCV, KFold, cross_val_score, train_test_split\n",
    "from sklearn.metrics import accuracy_score, confusion_matrix, classification_report, roc_auc_score\n",
    "\n",
    "#  cargar algoritmos para aprendizaje supervisado\n",
    "from sklearn.feature_selection import SelectKBest, f_classif, SelectFromModel, mutual_info_classif\n",
    "from sklearn.svm import SVC\n",
    "from sklearn.ensemble import RandomForestClassifier\n",
    "from sklearn.linear_model import LogisticRegression,LogisticRegressionCV\n",
    "\n",
    "# importar fichero con utilidades propias\n",
    "from commons import myfunctions as myfunc\n"
   ]
  },
  {
   "cell_type": "markdown",
   "id": "1ce60692",
   "metadata": {
    "papermill": {
     "duration": 0.003665,
     "end_time": "2023-10-29T23:34:37.385886",
     "exception": false,
     "start_time": "2023-10-29T23:34:37.382221",
     "status": "completed"
    },
    "tags": []
   },
   "source": [
    "#### Parámetros a utilizar en el entrenamiento.\n",
    "\n",
    "Se indican los 3 algoritmos de *selección de características* (eval_selector_xxx) y los 3 algoritmos para la _clasificación_ (eval_clasifier_xxx)\n",
    "\n",
    "En *param_distributions* se indicar los parámetros que utilizan los algoritmos en la función RandomSearchCV.\n",
    "\n",
    "Esta celda tiene la etiqueta **parameters** que servirá para poder lanzar los entrenamientos con la utilidad **papermill** pasándole un fichero con los parámetros. Los nuevos parámetros se situarán tras esta celda para tener prevalencia."
   ]
  },
  {
   "cell_type": "code",
   "execution_count": 2,
   "id": "d4af0179",
   "metadata": {
    "execution": {
     "iopub.execute_input": "2023-10-29T23:34:37.394271Z",
     "iopub.status.busy": "2023-10-29T23:34:37.393931Z",
     "iopub.status.idle": "2023-10-29T23:34:37.402452Z",
     "shell.execute_reply": "2023-10-29T23:34:37.401908Z"
    },
    "papermill": {
     "duration": 0.014287,
     "end_time": "2023-10-29T23:34:37.403646",
     "exception": false,
     "start_time": "2023-10-29T23:34:37.389359",
     "status": "completed"
    },
    "tags": [
     "parameters"
    ]
   },
   "outputs": [
    {
     "name": "stdout",
     "output_type": "stream",
     "text": [
      "20231030T003437 : enderlab : INFO : Utilizando parámetros de mul_m\n"
     ]
    }
   ],
   "source": [
    "#  Parametros para el entrenamiento\n",
    "\n",
    "SEMILLA=        42\n",
    "M_TIPO=         \"mul_m\"\n",
    "M_SELECT=       \"MI\"\n",
    "M_CLASIF=       \"SVM\"\n",
    "R_FICHERO=      \"resultados\"\n",
    "M_FICHERO=      \"metricas\"\n",
    "PRE_DATA_FILE=  \"rows_transpose_norm_by_gene_id_with_target_num_\"\n",
    "SCORING=        \"roc_auc_ovr\" \n",
    "MAX_ITERS=      100\n",
    "\n",
    "def mutual_info_classif_state(X, y):\n",
    "    return mutual_info_classif(X, y, random_state=SEMILLA)\n",
    "\n",
    "eval_selector_mi = \"SelectKBest(score_func=mutual_info_classif_state)\"\n",
    "eval_selector_rf=  \"SelectFromModel(estimator=RandomForestClassifier(random_state=SEMILLA), threshold=-np.inf)\"\n",
    "eval_selector_anova=  \"SelectKBest(score_func=f_classif)\"\n",
    "\n",
    "eval_clasifier_svm= \"SVC(probability=True, random_state=SEMILLA)\"\n",
    "eval_clasifier_rf= \"RandomForestClassifier(random_state=SEMILLA)\"\n",
    "eval_clasifier_lr= \"LogisticRegressionCV(random_state=SEMILLA)\"\n",
    "\n",
    "if M_TIPO.startswith(\"bin_m\"):\n",
    "    myfunc.verbose(f\"Utilizando parámetros de {M_TIPO}\")\n",
    "    eval_selector = eval_selector_mi\n",
    "    eval_clasifier = eval_clasifier_svm\n",
    "\n",
    "    SEMILLA = 6578\n",
    "    M_SELECT = \"MI\"\n",
    "    M_CLASIF = \"SVM\"\n",
    "    param_distributions = {'selector__k': [1000], \n",
    "         'clasifier__kernel': ['rbf'], 'clasifier__gamma': [0.01], 'clasifier__C': [100]}\n",
    "elif M_TIPO.startswith(\"bin_s\"):\n",
    "    myfunc.verbose(f\"Utilizando parámetros de {M_TIPO}\")\n",
    "    eval_selector = eval_selector_rf\n",
    "    eval_clasifier = eval_clasifier_lr\n",
    "\n",
    "    SEMILLA = 6191\n",
    "    M_SELECT = \"RF\"\n",
    "    M_CLASIF = \"LR_L2\"\n",
    "    param_distributions = {'selector__max_features': [1000], 'selector__estimator__n_estimators': [200], \n",
    "        'clasifier__solver': ['lbfgs'], 'clasifier__penalty': ['l2'], 'clasifier__max_iter': [10000]}\n",
    "\n",
    "elif M_TIPO.startswith(\"mul_m\"):\n",
    "    myfunc.verbose(f\"Utilizando parámetros de {M_TIPO}\")\n",
    " \n",
    "    eval_selector = eval_selector_rf\n",
    "    eval_clasifier = eval_clasifier_lr\n",
    "\n",
    "    SEMILLA = 6191\n",
    "    M_SELECT = \"RF\"\n",
    "    M_CLASIF = \"LR_L2\"\n",
    "    param_distributions = {'selector__max_features': [1000], 'selector__estimator__n_estimators': [400], \n",
    "        'clasifier__solver': ['lbfgs'], 'clasifier__penalty': ['l2'], 'clasifier__max_iter': [10000]}\n",
    "\n",
    "else:\n",
    "    # M_TIPO.startswith(\"mul_s\"):\n",
    "    myfunc.verbose(f\"Utilizando parámetros de {M_TIPO}\")\n",
    "    eval_selector = eval_selector_anova\n",
    "    eval_clasifier = eval_clasifier_lr\n",
    "\n",
    "    SEMILLA = 1860\n",
    "    M_SELECT = \"ANOVA\"\n",
    "    M_CLASIF = \"LR_L2\"\n",
    "    param_distributions = {'selector__k': [1000], \n",
    "        'clasifier__solver': ['saga'], 'clasifier__penalty': ['l2'], 'clasifier__max_iter': [10000]}\n",
    "\n"
   ]
  },
  {
   "cell_type": "code",
   "execution_count": 3,
   "id": "b91e3dfe",
   "metadata": {
    "execution": {
     "iopub.execute_input": "2023-10-29T23:34:37.411728Z",
     "iopub.status.busy": "2023-10-29T23:34:37.411364Z",
     "iopub.status.idle": "2023-10-29T23:34:37.415222Z",
     "shell.execute_reply": "2023-10-29T23:34:37.414713Z"
    },
    "papermill": {
     "duration": 0.009197,
     "end_time": "2023-10-29T23:34:37.416403",
     "exception": false,
     "start_time": "2023-10-29T23:34:37.407206",
     "status": "completed"
    },
    "tags": [
     "injected-parameters"
    ]
   },
   "outputs": [],
   "source": [
    "# Parameters\n",
    "M_TIPO = \"mul_s\"\n",
    "M_SELECT = \"ANOVA\"\n",
    "M_CLASIF = \"LR_EN\"\n",
    "P_FICHERO = \"param_0000_8270_mul_s_ANOVA_LR_EN.yaml\"\n",
    "R_FICHERO = \"resultados_8270\"\n",
    "M_FICHERO = \"metricas_8270\"\n",
    "PRE_DATA_FILE = \"rows_transpose_norm_by_gene_id_with_target_num_\"\n",
    "SCORING = \"roc_auc_ovr\"\n",
    "SEMILLA = 8270\n",
    "MAX_ITERS = 500\n",
    "eval_selector = \"SelectKBest(score_func=f_classif)\"\n",
    "eval_clasifier = \"LogisticRegressionCV(random_state=SEMILLA)\"\n",
    "param_distributions = {\n",
    "    \"selector__k\": [1000],\n",
    "    \"clasifier__solver\": [\"saga\"],\n",
    "    \"clasifier__penalty\": [\"elasticnet\"],\n",
    "    \"clasifier__max_iter\": [10000],\n",
    "    \"clasifier__l1_ratios\": [[0.1]],\n",
    "}\n"
   ]
  },
  {
   "cell_type": "code",
   "execution_count": 4,
   "id": "e772a443",
   "metadata": {
    "execution": {
     "iopub.execute_input": "2023-10-29T23:34:37.424740Z",
     "iopub.status.busy": "2023-10-29T23:34:37.424389Z",
     "iopub.status.idle": "2023-10-29T23:34:37.427716Z",
     "shell.execute_reply": "2023-10-29T23:34:37.427200Z"
    },
    "papermill": {
     "duration": 0.008921,
     "end_time": "2023-10-29T23:34:37.428932",
     "exception": false,
     "start_time": "2023-10-29T23:34:37.420011",
     "status": "completed"
    },
    "tags": []
   },
   "outputs": [],
   "source": [
    "DATA_FILE = PRE_DATA_FILE + M_TIPO\n",
    "\n",
    "# si viene \"None\" en el parámetro max_depth, se le quitan las comillas para que no sea entendido por el algoritmo como un texto\n",
    "if \"clasifier__max_depth\" in param_distributions:\n",
    "    param_distributions['clasifier__max_depth'] = [None if x == 'None' else x for x in param_distributions['clasifier__max_depth']]"
   ]
  },
  {
   "cell_type": "markdown",
   "id": "7ed1da48",
   "metadata": {
    "papermill": {
     "duration": 0.003696,
     "end_time": "2023-10-29T23:34:37.436284",
     "exception": false,
     "start_time": "2023-10-29T23:34:37.432588",
     "status": "completed"
    },
    "tags": []
   },
   "source": [
    "Asignar los algoritmos que se utilizarán en la función RandomSearchCV"
   ]
  },
  {
   "cell_type": "code",
   "execution_count": 5,
   "id": "8763c8a2",
   "metadata": {
    "execution": {
     "iopub.execute_input": "2023-10-29T23:34:37.444557Z",
     "iopub.status.busy": "2023-10-29T23:34:37.444109Z",
     "iopub.status.idle": "2023-10-29T23:34:37.446965Z",
     "shell.execute_reply": "2023-10-29T23:34:37.446396Z"
    },
    "papermill": {
     "duration": 0.008261,
     "end_time": "2023-10-29T23:34:37.448179",
     "exception": false,
     "start_time": "2023-10-29T23:34:37.439918",
     "status": "completed"
    },
    "tags": []
   },
   "outputs": [],
   "source": [
    "algor_selector=eval(eval_selector)\n",
    "algor_clasifier=eval(eval_clasifier)"
   ]
  },
  {
   "cell_type": "markdown",
   "id": "2a5589a1",
   "metadata": {
    "papermill": {
     "duration": 0.004463,
     "end_time": "2023-10-29T23:34:37.456306",
     "exception": false,
     "start_time": "2023-10-29T23:34:37.451843",
     "status": "completed"
    },
    "tags": []
   },
   "source": [
    "#### Comprobar el entorno y leer fichero de muestras"
   ]
  },
  {
   "cell_type": "code",
   "execution_count": 6,
   "id": "bed2cea1",
   "metadata": {
    "execution": {
     "iopub.execute_input": "2023-10-29T23:34:37.464871Z",
     "iopub.status.busy": "2023-10-29T23:34:37.464428Z",
     "iopub.status.idle": "2023-10-29T23:34:37.700621Z",
     "shell.execute_reply": "2023-10-29T23:34:37.700030Z"
    },
    "papermill": {
     "duration": 0.241915,
     "end_time": "2023-10-29T23:34:37.701951",
     "exception": false,
     "start_time": "2023-10-29T23:34:37.460036",
     "status": "completed"
    },
    "tags": []
   },
   "outputs": [
    {
     "name": "stdout",
     "output_type": "stream",
     "text": [
      "20231030T003437 : enderlab : INFO : Encontrada carpeta DATA_DIR=../tfm_git/datos\n",
      "20231030T003437 : enderlab : INFO : Encontrada carpeta CFDNA_DIR=../tfm_git/datos/cfDNA_5hmC\n",
      "20231030T003437 : enderlab : INFO : Encontrada carpeta GENCODE_DIR=../tfm_git/datos/gencode\n",
      "20231030T003437 : enderlab : INFO : Encontrada carpeta H5_DIR=../tfm_git/datos/h5\n",
      "20231030T003437 : enderlab : INFO : Encontrada carpeta LOG_DIR=../tfm_git/datos/logs\n",
      "20231030T003437 : enderlab : INFO : Encontrada carpeta CSV_DIR=../tfm_git/datos/csv\n",
      "20231030T003437 : enderlab : INFO : Encontrada carpeta MODEL_DIR=../tfm_git/ejecuciones/modelos\n",
      "20231030T003437 : enderlab : INFO : Encontrada carpeta EXEC_DIR=../tfm_git/ejecuciones\n",
      "20231030T003437 : enderlab : INFO : Encontrada carpeta MET_DIR=../tfm_git/ejecuciones/metricas\n",
      "20231030T003437 : enderlab : INFO : Inicio leer fichero h5 ../tfm_git/datos/h5/rows_transpose_norm_by_gene_id_with_target_num_mul_s.h5\n",
      "20231030T003437 : enderlab : INFO : Leyendo clave /df\n"
     ]
    },
    {
     "name": "stdout",
     "output_type": "stream",
     "text": [
      "20231030T003437 : enderlab : INFO : Tamaño (259, 18876)\n",
      "20231030T003437 : enderlab : INFO : Fin leer fichero h5 ../tfm_git/datos/h5/rows_transpose_norm_by_gene_id_with_target_num_mul_s.h5\n"
     ]
    },
    {
     "data": {
      "text/plain": [
       "target\n",
       "0    37\n",
       "1    37\n",
       "2    37\n",
       "3    37\n",
       "4    37\n",
       "5    37\n",
       "6    37\n",
       "dtype: int64"
      ]
     },
     "metadata": {},
     "output_type": "display_data"
    },
    {
     "name": "stdout",
     "output_type": "stream",
     "text": [
      "Shape df: (259, 18876)\n"
     ]
    },
    {
     "name": "stdout",
     "output_type": "stream",
     "text": [
      "Shape X_train: (207, 18875)\n",
      "Shape X_test: (52, 18875)\n"
     ]
    }
   ],
   "source": [
    "start_time = datetime.datetime.now()\n",
    "\n",
    "myfunc.reset_vars()\n",
    "\n",
    "myfunc.NOTEBK_FILENAME = myfunc.get_nb_name()\n",
    "\n",
    "myfunc.check_enviroment(myfunc.DATA_DIR, myfunc.CFDNA_DIR, myfunc.GENCODE_DIR, myfunc.H5_DIR, myfunc.LOG_DIR, myfunc.CSV_DIR, myfunc.MODEL_DIR, myfunc.EXEC_DIR, myfunc.MET_DIR)\n",
    "\n",
    "# Leer fichero con las muestras\n",
    "df_t = myfunc.read_h5_to_df(DATA_FILE, myfunc.H5_DIR)\n",
    "display(df_t.groupby(\"target\").size())\n",
    "print(\"Shape df:\",df_t.shape)\n",
    "\n",
    "# Separar caracteristicas/genes de las etiquetas/tipos de cáncer\n",
    "X = df_t.iloc[:, :-1]  # Todas las columnas excepto la última\n",
    "y = df_t.iloc[:, -1]  # La última columna contiene los identificadores de los tipos de cáncer\n",
    "\n",
    "#  Crear el conjunto de datos de entrenamiento y de pruebas, y se fija la semilla para siempre coger el mismo juego de muestras\n",
    "X_train, X_test, y_train, y_test = train_test_split(X, y, test_size=0.2, shuffle=True, random_state=42)\n",
    "print(\"Shape X_train:\",X_train.shape)\n",
    "print(\"Shape X_test:\",X_test.shape)\n"
   ]
  },
  {
   "cell_type": "markdown",
   "id": "aa1bd05a",
   "metadata": {
    "papermill": {
     "duration": 0.004099,
     "end_time": "2023-10-29T23:34:37.710549",
     "exception": false,
     "start_time": "2023-10-29T23:34:37.706450",
     "status": "completed"
    },
    "tags": []
   },
   "source": [
    "#### Selección de características y clasificación."
   ]
  },
  {
   "cell_type": "code",
   "execution_count": 7,
   "id": "b0360796",
   "metadata": {
    "execution": {
     "iopub.execute_input": "2023-10-29T23:34:37.720128Z",
     "iopub.status.busy": "2023-10-29T23:34:37.719695Z",
     "iopub.status.idle": "2023-10-29T23:50:15.251000Z",
     "shell.execute_reply": "2023-10-29T23:50:15.249290Z"
    },
    "papermill": {
     "duration": 937.542349,
     "end_time": "2023-10-29T23:50:15.256819",
     "exception": false,
     "start_time": "2023-10-29T23:34:37.714470",
     "status": "completed"
    },
    "tags": []
   },
   "outputs": [
    {
     "name": "stdout",
     "output_type": "stream",
     "text": [
      "20231030T003437 : enderlab : INFO : Iniciando entrenamiento\n",
      "num_iter: 1 , max_iter: 1\n",
      "Fitting 5 folds for each of 1 candidates, totalling 5 fits\n"
     ]
    },
    {
     "name": "stderr",
     "output_type": "stream",
     "text": [
      "/home/expsiviu/miniconda3/envs/viu/lib/python3.10/site-packages/sklearn/feature_selection/_univariate_selection.py:112: UserWarning: Features [  298  1017  1508  1733  1846  2006  2010  2222  2265  2266  2553  2688\n",
      "  2802  2803  2833  2896  3248  3415  3492  4075  5533  5803  6053  6981\n",
      "  6984  7416  7418  8508  8510  8513  8890  9087  9490 10475 11020 11565\n",
      " 11613 11943 12249 12433 12480 12831 13235 13259 13836 13860 13959 14000\n",
      " 14015 14244 14245 14451 14735 14789 14795 14941 14995 15515 15563 15824\n",
      " 15874 16205 16258 16260 16262 16267 16268 16281 16287 16313 16322 16323\n",
      " 16339 16350 16372 16520 16630 16701 16905 16906 16956 16968 17047 17091\n",
      " 17093 17231 17264 17274 17300 17312 17540 17566 18153 18288 18350 18368\n",
      " 18374 18375 18405 18486 18592 18692 18693 18868] are constant.\n",
      "  warnings.warn(\"Features %s are constant.\" % constant_features_idx, UserWarning)\n",
      "/home/expsiviu/miniconda3/envs/viu/lib/python3.10/site-packages/sklearn/feature_selection/_univariate_selection.py:113: RuntimeWarning: invalid value encountered in true_divide\n",
      "  f = msb / msw\n",
      "/home/expsiviu/miniconda3/envs/viu/lib/python3.10/site-packages/sklearn/feature_selection/_univariate_selection.py:112: UserWarning: Features [  298  1508  1733  1846  2010  2222  2265  2266  2553  2688  2802  2803\n",
      "  2833  2896  2957  3248  3415  3492  4075  5490  5668  5803  6053  6981\n",
      "  6984  7418  8508  8510  8513  8791  8890  9087  9490 10475 11020 11613\n",
      " 11943 12249 12480 12518 12801 12831 12888 13225 13235 13259 13836 13848\n",
      " 13959 14000 14015 14244 14245 14451 14559 14789 14794 14795 14941 15044\n",
      " 15183 15515 15516 15563 15824 15874 16018 16244 16245 16258 16267 16268\n",
      " 16281 16287 16294 16312 16313 16318 16323 16349 16350 16372 16373 16630\n",
      " 16667 16679 16701 16905 16906 16968 17024 17047 17091 17093 17231 17264\n",
      " 17274 17300 17312 17540 18245 18350 18368 18374 18375 18405 18421 18486\n",
      " 18592 18692 18868] are constant.\n",
      "  warnings.warn(\"Features %s are constant.\" % constant_features_idx, UserWarning)\n",
      "/home/expsiviu/miniconda3/envs/viu/lib/python3.10/site-packages/sklearn/feature_selection/_univariate_selection.py:113: RuntimeWarning: invalid value encountered in true_divide\n",
      "  f = msb / msw\n",
      "/home/expsiviu/miniconda3/envs/viu/lib/python3.10/site-packages/sklearn/feature_selection/_univariate_selection.py:112: UserWarning: Features [  298  1508  1733  1846  2010  2222  2265  2266  2553  2555  2688  2802\n",
      "  2803  2833  2896  3248  3415  3492  4075  5803  6053  6981  6984  7418\n",
      "  8314  8508  8510  8511  8512  8513  8890  9087  9490 10475 10477 11020\n",
      " 11613 11943 11996 12249 12480 12792 12831 12940 12973 13047 13235 13259\n",
      " 13300 13836 13841 13959 14000 14015 14244 14245 14451 14789 14795 14941\n",
      " 15515 15563 15824 15874 15881 15979 16258 16267 16268 16277 16281 16287\n",
      " 16309 16313 16323 16350 16372 16630 16687 16701 16704 16731 16905 16906\n",
      " 16968 17047 17091 17093 17120 17231 17264 17273 17274 17300 17312 17540\n",
      " 17565 17644 17679 17741 17963 18350 18368 18374 18375 18405 18486 18530\n",
      " 18592 18692 18698 18868] are constant.\n",
      "  warnings.warn(\"Features %s are constant.\" % constant_features_idx, UserWarning)\n",
      "/home/expsiviu/miniconda3/envs/viu/lib/python3.10/site-packages/sklearn/feature_selection/_univariate_selection.py:113: RuntimeWarning: invalid value encountered in true_divide\n",
      "  f = msb / msw\n",
      "/home/expsiviu/miniconda3/envs/viu/lib/python3.10/site-packages/sklearn/feature_selection/_univariate_selection.py:112: UserWarning: Features [  298  1508  1733  1846  2010  2222  2265  2266  2553  2688  2725  2802\n",
      "  2803  2833  2896  3248  3415  3492  4075  4306  5803  6053  6981  6984\n",
      "  7418  7780  8508  8510  8513  8890  9087  9490 10035 10475 11020 11022\n",
      " 11613 11943 11976 12249 12480 12831 13235 13259 13836 13959 14000 14015\n",
      " 14244 14245 14451 14789 14795 14835 14941 15397 15401 15515 15563 15824\n",
      " 15874 16235 16237 16258 16267 16268 16276 16281 16287 16313 16323 16350\n",
      " 16372 16630 16701 16905 16906 16968 17047 17091 17093 17231 17264 17274\n",
      " 17300 17312 17418 17520 17540 17948 18350 18368 18374 18375 18405 18486\n",
      " 18592 18608 18679 18692 18868] are constant.\n",
      "  warnings.warn(\"Features %s are constant.\" % constant_features_idx, UserWarning)\n",
      "/home/expsiviu/miniconda3/envs/viu/lib/python3.10/site-packages/sklearn/feature_selection/_univariate_selection.py:113: RuntimeWarning: invalid value encountered in true_divide\n",
      "  f = msb / msw\n",
      "/home/expsiviu/miniconda3/envs/viu/lib/python3.10/site-packages/sklearn/feature_selection/_univariate_selection.py:112: UserWarning: Features [  298  1508  1733  1846  2010  2222  2265  2266  2553  2688  2802  2803\n",
      "  2833  2896  3248  3415  3492  3804  4075  5803  6053  6981  6984  7418\n",
      "  8508  8510  8513  8890  9087  9090  9490 10475 11020 11562 11613 11943\n",
      " 12249 12480 12831 13235 13259 13577 13836 13959 14000 14015 14244 14245\n",
      " 14451 14789 14795 14941 15071 15290 15515 15563 15785 15824 15874 16258\n",
      " 16267 16268 16278 16279 16281 16287 16313 16323 16347 16350 16372 16565\n",
      " 16630 16701 16819 16870 16905 16906 16968 17047 17055 17075 17091 17093\n",
      " 17231 17264 17274 17300 17312 17540 18350 18368 18374 18375 18405 18486\n",
      " 18592 18692 18868] are constant.\n",
      "  warnings.warn(\"Features %s are constant.\" % constant_features_idx, UserWarning)\n",
      "/home/expsiviu/miniconda3/envs/viu/lib/python3.10/site-packages/sklearn/feature_selection/_univariate_selection.py:113: RuntimeWarning: invalid value encountered in true_divide\n",
      "  f = msb / msw\n"
     ]
    },
    {
     "name": "stderr",
     "output_type": "stream",
     "text": [
      "/home/expsiviu/miniconda3/envs/viu/lib/python3.10/site-packages/sklearn/feature_selection/_univariate_selection.py:112: UserWarning: Features [  298  1508  1733  1846  2010  2222  2265  2266  2553  2688  2802  2803\n",
      "  2833  2896  3248  3415  3492  4075  5803  6053  6981  6984  7418  8508\n",
      "  8510  8513  8890  9087  9490 10475 11020 11613 11943 12249 12480 12831\n",
      " 13235 13259 13836 13959 14000 14015 14244 14245 14451 14789 14795 14941\n",
      " 15515 15563 15824 15874 16258 16267 16268 16281 16287 16313 16323 16350\n",
      " 16372 16630 16701 16905 16906 16968 17047 17091 17093 17231 17264 17274\n",
      " 17300 17312 17540 18350 18368 18374 18375 18405 18486 18592 18692 18868] are constant.\n",
      "  warnings.warn(\"Features %s are constant.\" % constant_features_idx, UserWarning)\n",
      "/home/expsiviu/miniconda3/envs/viu/lib/python3.10/site-packages/sklearn/feature_selection/_univariate_selection.py:113: RuntimeWarning: invalid value encountered in true_divide\n",
      "  f = msb / msw\n"
     ]
    },
    {
     "name": "stdout",
     "output_type": "stream",
     "text": [
      "[CV 2/5] END clasifier__l1_ratios=[0.1], clasifier__max_iter=10000, clasifier__penalty=elasticnet, clasifier__solver=saga, selector__k=1000;, score=0.777 total time= 6.0min\n"
     ]
    },
    {
     "name": "stdout",
     "output_type": "stream",
     "text": [
      "[CV 1/5] END clasifier__l1_ratios=[0.1], clasifier__max_iter=10000, clasifier__penalty=elasticnet, clasifier__solver=saga, selector__k=1000;, score=0.800 total time= 6.3min\n"
     ]
    },
    {
     "name": "stdout",
     "output_type": "stream",
     "text": [
      "[CV 5/5] END clasifier__l1_ratios=[0.1], clasifier__max_iter=10000, clasifier__penalty=elasticnet, clasifier__solver=saga, selector__k=1000;, score=0.859 total time= 6.8min\n"
     ]
    },
    {
     "name": "stdout",
     "output_type": "stream",
     "text": [
      "[CV 4/5] END clasifier__l1_ratios=[0.1], clasifier__max_iter=10000, clasifier__penalty=elasticnet, clasifier__solver=saga, selector__k=1000;, score=0.815 total time= 6.8min\n"
     ]
    },
    {
     "name": "stdout",
     "output_type": "stream",
     "text": [
      "[CV 3/5] END clasifier__l1_ratios=[0.1], clasifier__max_iter=10000, clasifier__penalty=elasticnet, clasifier__solver=saga, selector__k=1000;, score=0.757 total time= 7.1min\n"
     ]
    },
    {
     "name": "stdout",
     "output_type": "stream",
     "text": [
      "Mejores Hiperparámetros: {'selector__k': 1000, 'clasifier__solver': 'saga', 'clasifier__penalty': 'elasticnet', 'clasifier__max_iter': 10000, 'clasifier__l1_ratios': [0.1]}\n",
      "Mejor Puntuación: 0.8017\n",
      "20231030T005015 : enderlab : INFO : Fin entrenamiento\n"
     ]
    }
   ],
   "source": [
    "myfunc.verbose(\"Iniciando entrenamiento\")\n",
    "\n",
    "kf = KFold(n_splits=5, shuffle=True, random_state=SEMILLA)\n",
    "\n",
    "# Crear el pipeline para el flujo de tareas\n",
    "tasks_pipeline = Pipeline([\n",
    "    ('selector', algor_selector),\n",
    "    ('clasifier', algor_clasifier)\n",
    "])\n",
    "\n",
    "# MAX_ITERS puede limitar el número de iteraciones si son excesivas para las combinaciones de parámetros buscando un óptimo local, \n",
    "# sino funcionaría como GridSearchCV al revisar todas las cominaciones de los parámetros\n",
    "num_iteraciones = 1\n",
    "num_iteraciones = num_iteraciones * np.prod([len(elemento1) for _, elemento1 in param_distributions.items()])\n",
    "max_iteraciones = num_iteraciones if num_iteraciones <= MAX_ITERS else MAX_ITERS\n",
    "print(\"num_iter:\",num_iteraciones,\", max_iter:\",max_iteraciones)\n",
    "\n",
    "random_search = RandomizedSearchCV(\n",
    "    tasks_pipeline, \n",
    "    param_distributions, \n",
    "    n_iter=max_iteraciones,\n",
    "    scoring=SCORING,\n",
    "    cv=kf,\n",
    "    verbose=3, \n",
    "    random_state=SEMILLA, \n",
    "    n_jobs=-1\n",
    "    )\n",
    "\n",
    "# Entrenar el modelo\n",
    "random_search.fit(X_train, y_train)\n",
    "\n",
    "# Ver los mejores hiperparámetros encontrados\n",
    "print(f'Mejores Hiperparámetros: {random_search.best_params_}')\n",
    "print(f'Mejor Puntuación: {random_search.best_score_:.4f}')\n",
    "\n",
    "# Nos quedamos con el mejor modelo para ver las métricas\n",
    "mejor_modelo = random_search.best_estimator_\n",
    "\n",
    "myfunc.verbose(\"Fin entrenamiento\")"
   ]
  },
  {
   "cell_type": "markdown",
   "id": "6ab7f074",
   "metadata": {
    "papermill": {
     "duration": 0.004932,
     "end_time": "2023-10-29T23:50:15.267134",
     "exception": false,
     "start_time": "2023-10-29T23:50:15.262202",
     "status": "completed"
    },
    "tags": []
   },
   "source": [
    "#### Guardar modelo"
   ]
  },
  {
   "cell_type": "code",
   "execution_count": 8,
   "id": "9f629228",
   "metadata": {
    "execution": {
     "iopub.execute_input": "2023-10-29T23:50:15.279370Z",
     "iopub.status.busy": "2023-10-29T23:50:15.278653Z",
     "iopub.status.idle": "2023-10-29T23:50:15.294535Z",
     "shell.execute_reply": "2023-10-29T23:50:15.293961Z"
    },
    "papermill": {
     "duration": 0.024064,
     "end_time": "2023-10-29T23:50:15.295869",
     "exception": false,
     "start_time": "2023-10-29T23:50:15.271805",
     "status": "completed"
    },
    "tags": []
   },
   "outputs": [
    {
     "name": "stdout",
     "output_type": "stream",
     "text": [
      "20231030T005015 : enderlab : INFO : Inicio guardar fichero ../tfm_git/ejecuciones/modelos/modelo_8270_mul_s_ANOVA_LR_EN.pkl\n",
      "20231030T005015 : enderlab : INFO : Fin guardar fichero ../tfm_git/ejecuciones/modelos/modelo_8270_mul_s_ANOVA_LR_EN.pkl\n"
     ]
    }
   ],
   "source": [
    "fichero_modelo = str.replace(\"modelo_\"+str(SEMILLA).zfill(4)+\"_\"+M_TIPO+\"_\"+M_SELECT+\"_\"+M_CLASIF+\".pkl\", \" \", \"_\")\n",
    "\n",
    "myfunc.save_modelo(mejor_modelo, myfunc.MODEL_DIR, fichero_modelo)"
   ]
  },
  {
   "cell_type": "markdown",
   "id": "6e078c97",
   "metadata": {
    "papermill": {
     "duration": 0.00493,
     "end_time": "2023-10-29T23:50:15.305466",
     "exception": false,
     "start_time": "2023-10-29T23:50:15.300536",
     "status": "completed"
    },
    "tags": []
   },
   "source": [
    "#### Ver resultados del las iteraciones hechas por RandomSearchCV"
   ]
  },
  {
   "cell_type": "code",
   "execution_count": 9,
   "id": "f439df43",
   "metadata": {
    "execution": {
     "iopub.execute_input": "2023-10-29T23:50:15.316334Z",
     "iopub.status.busy": "2023-10-29T23:50:15.315798Z",
     "iopub.status.idle": "2023-10-29T23:50:15.326430Z",
     "shell.execute_reply": "2023-10-29T23:50:15.325870Z"
    },
    "papermill": {
     "duration": 0.017621,
     "end_time": "2023-10-29T23:50:15.327827",
     "exception": false,
     "start_time": "2023-10-29T23:50:15.310206",
     "status": "completed"
    },
    "tags": []
   },
   "outputs": [
    {
     "name": "stdout",
     "output_type": "stream",
     "text": [
      "20231030T005015 : enderlab : INFO : Inicio ver resultados\n",
      "Mejores Hiperparámetros: {'selector__k': 1000, 'clasifier__solver': 'saga', 'clasifier__penalty': 'elasticnet', 'clasifier__max_iter': 10000, 'clasifier__l1_ratios': [0.1]}\n",
      "Mejores puntuaciones: 0.8017 | Params: {'selector__k': 1000, 'clasifier__solver': 'saga', 'clasifier__penalty': 'elasticnet', 'clasifier__max_iter': 10000, 'clasifier__l1_ratios': [0.1]}\n",
      "Media de las puntuaciones: 0.8017 | Params: {'selector__k': 1000, 'clasifier__solver': 'saga', 'clasifier__penalty': 'elasticnet', 'clasifier__max_iter': 10000, 'clasifier__l1_ratios': [0.1]}\n",
      "20231030T005015 : enderlab : INFO : Fin resultados\n"
     ]
    }
   ],
   "source": [
    "myfunc.ver_resultados_search(random_search)"
   ]
  },
  {
   "cell_type": "markdown",
   "id": "95744b36",
   "metadata": {
    "papermill": {
     "duration": 0.004697,
     "end_time": "2023-10-29T23:50:15.337331",
     "exception": false,
     "start_time": "2023-10-29T23:50:15.332634",
     "status": "completed"
    },
    "tags": []
   },
   "source": [
    "#### Ver métricas del mejor modelo"
   ]
  },
  {
   "cell_type": "code",
   "execution_count": 10,
   "id": "ec0d0a9b",
   "metadata": {
    "execution": {
     "iopub.execute_input": "2023-10-29T23:50:15.348938Z",
     "iopub.status.busy": "2023-10-29T23:50:15.348467Z",
     "iopub.status.idle": "2023-10-29T23:50:16.103149Z",
     "shell.execute_reply": "2023-10-29T23:50:16.102544Z"
    },
    "papermill": {
     "duration": 0.762416,
     "end_time": "2023-10-29T23:50:16.104510",
     "exception": false,
     "start_time": "2023-10-29T23:50:15.342094",
     "status": "completed"
    },
    "tags": []
   },
   "outputs": [
    {
     "name": "stdout",
     "output_type": "stream",
     "text": [
      "20231030T005015 : enderlab : INFO : Inicio ver métricas multiclase\n"
     ]
    },
    {
     "name": "stdout",
     "output_type": "stream",
     "text": [
      "              precision    recall  f1-score   support\n",
      "\n",
      "           0       0.50      0.45      0.48        11\n",
      "           1       0.75      0.38      0.50         8\n",
      "           2       0.40      0.25      0.31         8\n",
      "           3       0.38      0.60      0.46         5\n",
      "           4       0.80      1.00      0.89         8\n",
      "           5       0.33      0.33      0.33         6\n",
      "           6       0.67      1.00      0.80         6\n",
      "\n",
      "    accuracy                           0.56        52\n",
      "   macro avg       0.55      0.57      0.54        52\n",
      "weighted avg       0.56      0.56      0.54        52\n",
      "\n"
     ]
    },
    {
     "name": "stdout",
     "output_type": "stream",
     "text": [
      "\n",
      "\n",
      "           Exactitud: 0.557692\n",
      "   Precisión (media): 0.546429\n",
      "      Recall (media): 0.573268\n",
      "    F1-score (media): 0.538235\n",
      "\n",
      "\n",
      "AUC para el tipo de cáncer 0-Control.... 0.6319\n",
      "AUC para el tipo de cáncer 1-Bladder.... 0.8949\n",
      "AUC para el tipo de cáncer 2-Breast..... 0.7330\n",
      "AUC para el tipo de cáncer 3-Colorectal. 0.7404\n",
      "AUC para el tipo de cáncer 4-Kidney..... 0.9574\n",
      "AUC para el tipo de cáncer 5-Lung....... 0.9130\n",
      "AUC para el tipo de cáncer 6-Prostate... 0.9819\n",
      "\n",
      "Media de AUC: 0.8361\n"
     ]
    },
    {
     "data": {
      "image/png": "[encoded data removed]",
      "text/plain": [
       "<Figure size 1000x600 with 1 Axes>"
      ]
     },
     "metadata": {},
     "output_type": "display_data"
    },
    {
     "name": "stdout",
     "output_type": "stream",
     "text": [
      "\n",
      "\n"
     ]
    },
    {
     "data": {
      "image/png": "[encoded data removed]",
      "text/plain": [
       "<Figure size 800x400 with 2 Axes>"
      ]
     },
     "metadata": {},
     "output_type": "display_data"
    },
    {
     "name": "stdout",
     "output_type": "stream",
     "text": [
      "\n",
      "\n",
      "Puntuación Jaccard para el cáncer tipo 0-Control.... 0.3125\n",
      "Puntuación Jaccard para el cáncer tipo 1-Bladder.... 0.3333\n",
      "Puntuación Jaccard para el cáncer tipo 2-Breast..... 0.1818\n",
      "Puntuación Jaccard para el cáncer tipo 3-Colorectal. 0.3000\n",
      "Puntuación Jaccard para el cáncer tipo 4-Kidney..... 0.8000\n",
      "Puntuación Jaccard para el cáncer tipo 5-Lung....... 0.2000\n",
      "Puntuación Jaccard para el cáncer tipo 6-Prostate... 0.6667\n",
      "\n",
      "Media de la puntuación de Jaccard: 0.3992\n"
     ]
    }
   ],
   "source": [
    "if M_TIPO.startswith(\"bin\"):\n",
    "    myfunc.ver_metricas(mejor_modelo, X_test, y_test)\n",
    "else:\n",
    "    myfunc.ver_metricas_multi(mejor_modelo, X_test, y_test)\n"
   ]
  },
  {
   "cell_type": "markdown",
   "id": "fa351997",
   "metadata": {
    "papermill": {
     "duration": 0.006378,
     "end_time": "2023-10-29T23:50:16.118027",
     "exception": false,
     "start_time": "2023-10-29T23:50:16.111649",
     "status": "completed"
    },
    "tags": []
   },
   "source": [
    "#### Finalización del notebook"
   ]
  },
  {
   "cell_type": "code",
   "execution_count": 11,
   "id": "39fc68e0",
   "metadata": {
    "execution": {
     "iopub.execute_input": "2023-10-29T23:50:16.132060Z",
     "iopub.status.busy": "2023-10-29T23:50:16.131430Z",
     "iopub.status.idle": "2023-10-29T23:50:16.135312Z",
     "shell.execute_reply": "2023-10-29T23:50:16.134754Z"
    },
    "papermill": {
     "duration": 0.012334,
     "end_time": "2023-10-29T23:50:16.136670",
     "exception": false,
     "start_time": "2023-10-29T23:50:16.124336",
     "status": "completed"
    },
    "tags": []
   },
   "outputs": [
    {
     "name": "stdout",
     "output_type": "stream",
     "text": [
      "20231030T005016 : enderlab : INFO : Notebook ha tardado 938 seconds\n"
     ]
    }
   ],
   "source": [
    "end_time = datetime.datetime.now()\n",
    "total_time = end_time - start_time\n",
    "myfunc.verbose(f\"Notebook ha tardado {total_time.seconds} seconds\")"
   ]
  },
  {
   "cell_type": "markdown",
   "id": "9cd835a7",
   "metadata": {
    "papermill": {
     "duration": 0.006306,
     "end_time": "2023-10-29T23:50:16.149313",
     "exception": false,
     "start_time": "2023-10-29T23:50:16.143007",
     "status": "completed"
    },
    "tags": []
   },
   "source": [
    "#### Guardar métricas"
   ]
  },
  {
   "cell_type": "code",
   "execution_count": 12,
   "id": "ff096dec",
   "metadata": {
    "execution": {
     "iopub.execute_input": "2023-10-29T23:50:16.163876Z",
     "iopub.status.busy": "2023-10-29T23:50:16.163265Z",
     "iopub.status.idle": "2023-10-29T23:50:16.415880Z",
     "shell.execute_reply": "2023-10-29T23:50:16.415310Z"
    },
    "papermill": {
     "duration": 0.261453,
     "end_time": "2023-10-29T23:50:16.417300",
     "exception": false,
     "start_time": "2023-10-29T23:50:16.155847",
     "status": "completed"
    },
    "tags": []
   },
   "outputs": [
    {
     "name": "stdout",
     "output_type": "stream",
     "text": [
      "20231030T005016 : enderlab : INFO : Inicio guardar métricas multiclase\n",
      "20231030T005016 : enderlab : INFO : Inicio leer fichero ../tfm_git/ejecuciones/metricas/metricas_8270.csv\n",
      "20231030T005016 : enderlab : INFO : Fin leer fichero ../tfm_git/ejecuciones/metricas/metricas_8270.csv\n"
     ]
    },
    {
     "name": "stdout",
     "output_type": "stream",
     "text": [
      "20231030T005016 : enderlab : INFO : Inicio guardar fichero ../tfm_git/ejecuciones/metricas/metricas_8270.csv\n",
      "20231030T005016 : enderlab : INFO : Fichero borrado ../tfm_git/ejecuciones/metricas/metricas_8270.csv\n"
     ]
    },
    {
     "name": "stdout",
     "output_type": "stream",
     "text": [
      "20231030T005016 : enderlab : INFO : Fin guardar fichero ../tfm_git/ejecuciones/metricas/metricas_8270.csv\n",
      "20231030T005016 : enderlab : INFO : Fin guardar métricas multiclase\n",
      "20231030T005016 : enderlab : INFO : Inicio leer fichero ../tfm_git/ejecuciones/metricas/metricas_8270.csv\n",
      "20231030T005016 : enderlab : INFO : Fin leer fichero ../tfm_git/ejecuciones/metricas/metricas_8270.csv\n"
     ]
    },
    {
     "data": {
      "text/html": [
       "<div>\n",
       "<style scoped>\n",
       "    .dataframe tbody tr th:only-of-type {\n",
       "        vertical-align: middle;\n",
       "    }\n",
       "\n",
       "    .dataframe tbody tr th {\n",
       "        vertical-align: top;\n",
       "    }\n",
       "\n",
       "    .dataframe thead th {\n",
       "        text-align: right;\n",
       "    }\n",
       "</style>\n",
       "<table border=\"1\" class=\"dataframe\">\n",
       "  <thead>\n",
       "    <tr style=\"text-align: right;\">\n",
       "      <th></th>\n",
       "      <th>tipo</th>\n",
       "      <th>select</th>\n",
       "      <th>clasific</th>\n",
       "      <th>semilla</th>\n",
       "      <th>accuracy</th>\n",
       "      <th>precision</th>\n",
       "      <th>recall</th>\n",
       "      <th>f1_score</th>\n",
       "      <th>roc_auc</th>\n",
       "      <th>hostname</th>\n",
       "      <th>total_time_sec</th>\n",
       "      <th>datetime</th>\n",
       "      <th>fichero_modelo</th>\n",
       "      <th>params</th>\n",
       "      <th>shape</th>\n",
       "      <th>features</th>\n",
       "      <th>roc_auc_ovr</th>\n",
       "      <th>indices_auc</th>\n",
       "      <th>indices_jaccard</th>\n",
       "    </tr>\n",
       "  </thead>\n",
       "  <tbody>\n",
       "    <tr>\n",
       "      <th>0</th>\n",
       "      <td>mul_s</td>\n",
       "      <td>ANOVA</td>\n",
       "      <td>LR_EN</td>\n",
       "      <td>8270</td>\n",
       "      <td>0.557692</td>\n",
       "      <td>0.546429</td>\n",
       "      <td>0.573268</td>\n",
       "      <td>0.538235</td>\n",
       "      <td>NaN</td>\n",
       "      <td>enderlab</td>\n",
       "      <td>938</td>\n",
       "      <td>2023-10-30 00:50:16.361736</td>\n",
       "      <td>modelo_8270_mul_s_ANOVA_LR_EN.pkl</td>\n",
       "      <td>{'selector__k': 1000, 'clasifier__solver': 'sa...</td>\n",
       "      <td>X_test:(52, 18875)</td>\n",
       "      <td>['ENSG00000000938.13', 'ENSG00000002834.19', '...</td>\n",
       "      <td>0.836073</td>\n",
       "      <td>[0.6319290465631928, 0.8948863636363635, 0.732...</td>\n",
       "      <td>[0.3125, 0.3333333333333333, 0.181818181818181...</td>\n",
       "    </tr>\n",
       "    <tr>\n",
       "      <th>0</th>\n",
       "      <td>mul_m</td>\n",
       "      <td>RF</td>\n",
       "      <td>SVM</td>\n",
       "      <td>8270</td>\n",
       "      <td>0.540230</td>\n",
       "      <td>0.532497</td>\n",
       "      <td>0.560463</td>\n",
       "      <td>0.526632</td>\n",
       "      <td>NaN</td>\n",
       "      <td>enderlab</td>\n",
       "      <td>22</td>\n",
       "      <td>2023-10-30 00:34:30.716151</td>\n",
       "      <td>modelo_8270_mul_m_RF_SVM.pkl</td>\n",
       "      <td>{'selector__max_features': 200, 'selector__est...</td>\n",
       "      <td>X_test:(87, 18875)</td>\n",
       "      <td>['ENSG00000011465.18', 'ENSG00000018236.15', '...</td>\n",
       "      <td>0.837675</td>\n",
       "      <td>[0.7015845070422536, 0.9083333333333333, 0.724...</td>\n",
       "      <td>[0.14285714285714285, 0.47368421052631576, 0.3...</td>\n",
       "    </tr>\n",
       "    <tr>\n",
       "      <th>0</th>\n",
       "      <td>mul_m</td>\n",
       "      <td>RF</td>\n",
       "      <td>RF</td>\n",
       "      <td>8270</td>\n",
       "      <td>0.505747</td>\n",
       "      <td>0.433260</td>\n",
       "      <td>0.554312</td>\n",
       "      <td>0.473996</td>\n",
       "      <td>NaN</td>\n",
       "      <td>enderlab</td>\n",
       "      <td>30</td>\n",
       "      <td>2023-10-30 00:34:00.860327</td>\n",
       "      <td>modelo_8270_mul_m_RF_RF.pkl</td>\n",
       "      <td>{'selector__max_features': 500, 'selector__est...</td>\n",
       "      <td>X_test:(87, 18875)</td>\n",
       "      <td>['ENSG00000006327.14', 'ENSG00000010030.14', '...</td>\n",
       "      <td>0.831170</td>\n",
       "      <td>[0.6434859154929577, 0.8805555555555556, 0.806...</td>\n",
       "      <td>[0.0, 0.45, 0.2777777777777778, 0.285714285714...</td>\n",
       "    </tr>\n",
       "  </tbody>\n",
       "</table>\n",
       "</div>"
      ],
      "text/plain": [
       "    tipo select clasific  semilla  accuracy  precision    recall  f1_score  \\\n",
       "0  mul_s  ANOVA    LR_EN     8270  0.557692   0.546429  0.573268  0.538235   \n",
       "0  mul_m     RF      SVM     8270  0.540230   0.532497  0.560463  0.526632   \n",
       "0  mul_m     RF       RF     8270  0.505747   0.433260  0.554312  0.473996   \n",
       "\n",
       "   roc_auc  hostname  total_time_sec                    datetime  \\\n",
       "0      NaN  enderlab             938  2023-10-30 00:50:16.361736   \n",
       "0      NaN  enderlab              22  2023-10-30 00:34:30.716151   \n",
       "0      NaN  enderlab              30  2023-10-30 00:34:00.860327   \n",
       "\n",
       "                      fichero_modelo  \\\n",
       "0  modelo_8270_mul_s_ANOVA_LR_EN.pkl   \n",
       "0       modelo_8270_mul_m_RF_SVM.pkl   \n",
       "0        modelo_8270_mul_m_RF_RF.pkl   \n",
       "\n",
       "                                              params               shape  \\\n",
       "0  {'selector__k': 1000, 'clasifier__solver': 'sa...  X_test:(52, 18875)   \n",
       "0  {'selector__max_features': 200, 'selector__est...  X_test:(87, 18875)   \n",
       "0  {'selector__max_features': 500, 'selector__est...  X_test:(87, 18875)   \n",
       "\n",
       "                                            features  roc_auc_ovr  \\\n",
       "0  ['ENSG00000000938.13', 'ENSG00000002834.19', '...     0.836073   \n",
       "0  ['ENSG00000011465.18', 'ENSG00000018236.15', '...     0.837675   \n",
       "0  ['ENSG00000006327.14', 'ENSG00000010030.14', '...     0.831170   \n",
       "\n",
       "                                         indices_auc  \\\n",
       "0  [0.6319290465631928, 0.8948863636363635, 0.732...   \n",
       "0  [0.7015845070422536, 0.9083333333333333, 0.724...   \n",
       "0  [0.6434859154929577, 0.8805555555555556, 0.806...   \n",
       "\n",
       "                                     indices_jaccard  \n",
       "0  [0.3125, 0.3333333333333333, 0.181818181818181...  \n",
       "0  [0.14285714285714285, 0.47368421052631576, 0.3...  \n",
       "0  [0.0, 0.45, 0.2777777777777778, 0.285714285714...  "
      ]
     },
     "metadata": {},
     "output_type": "display_data"
    }
   ],
   "source": [
    "if M_TIPO.startswith(\"bin\"):\n",
    "    myfunc.save_metricas_to_csv(random_search, X_test, y_test, M_TIPO, M_SELECT, M_CLASIF, total_time, SEMILLA, myfunc.MET_DIR, M_FICHERO, fichero_modelo)\n",
    "else:\n",
    "    myfunc.save_metricas_multi_to_csv(random_search, X_test, y_test, M_TIPO, M_SELECT, M_CLASIF, total_time, SEMILLA, myfunc.MET_DIR, M_FICHERO, fichero_modelo)\n",
    "\n",
    "df1=myfunc.read_metricas_to_df(myfunc.MET_DIR,M_FICHERO)\n",
    "\n",
    "display(df1.sort_values(\"datetime\", ascending=False)[:3])\n"
   ]
  },
  {
   "cell_type": "markdown",
   "id": "9f4856b3",
   "metadata": {
    "papermill": {
     "duration": 0.006775,
     "end_time": "2023-10-29T23:50:16.431320",
     "exception": false,
     "start_time": "2023-10-29T23:50:16.424545",
     "status": "completed"
    },
    "tags": []
   },
   "source": [
    "#### Guardar resultados"
   ]
  },
  {
   "cell_type": "code",
   "execution_count": 13,
   "id": "50ce85e8",
   "metadata": {
    "execution": {
     "iopub.execute_input": "2023-10-29T23:50:16.446286Z",
     "iopub.status.busy": "2023-10-29T23:50:16.445758Z",
     "iopub.status.idle": "2023-10-29T23:50:16.455419Z",
     "shell.execute_reply": "2023-10-29T23:50:16.454866Z"
    },
    "papermill": {
     "duration": 0.018486,
     "end_time": "2023-10-29T23:50:16.456674",
     "exception": false,
     "start_time": "2023-10-29T23:50:16.438188",
     "status": "completed"
    },
    "tags": []
   },
   "outputs": [
    {
     "name": "stdout",
     "output_type": "stream",
     "text": [
      "20231030T005016 : enderlab : INFO : Inicio guardar resultados\n",
      "20231030T005016 : enderlab : INFO : Inicio guardar fichero ../tfm_git/ejecuciones/metricas/resultados_8270_mul_s-ANOVA-LR_EN.csv\n",
      "20231030T005016 : enderlab : INFO : Fin guardar fichero ../tfm_git/ejecuciones/metricas/resultados_8270_mul_s-ANOVA-LR_EN.csv\n",
      "20231030T005016 : enderlab : INFO : Fin guardar resultados\n"
     ]
    }
   ],
   "source": [
    "fichero_resultados=R_FICHERO+\"_\"+M_TIPO+\"-\"+M_SELECT+\"-\"+M_CLASIF+\".csv\"\n",
    "myfunc.save_resultados_to_csv(M_TIPO, M_SELECT, M_CLASIF,  random_search, myfunc.MET_DIR, fichero_resultados)\n"
   ]
  }
 ],
 "metadata": {
  "kernelspec": {
   "display_name": "Python 3 (ipykernel)",
   "language": "python",
   "name": "python3"
  },
  "language_info": {
   "codemirror_mode": {
    "name": "ipython",
    "version": 3
   },
   "file_extension": ".py",
   "mimetype": "text/x-python",
   "name": "python",
   "nbconvert_exporter": "python",
   "pygments_lexer": "ipython3",
   "version": "3.10.11"
  },
  "papermill": {
   "default_parameters": {},
   "duration": 944.014294,
   "end_time": "2023-10-29T23:50:19.083385",
   "environment_variables": {},
   "exception": null,
   "input_path": "03_entrenamiento.ipynb",
   "output_path": "ejecuciones/training/03_entrenamiento.20231030T003434.param_0000_8270_mul_s_ANOVA_LR_EN.output.ipynb",
   "parameters": {
    "MAX_ITERS": 500,
    "M_CLASIF": "LR_EN",
    "M_FICHERO": "metricas_8270",
    "M_SELECT": "ANOVA",
    "M_TIPO": "mul_s",
    "PRE_DATA_FILE": "rows_transpose_norm_by_gene_id_with_target_num_",
    "P_FICHERO": "param_0000_8270_mul_s_ANOVA_LR_EN.yaml",
    "R_FICHERO": "resultados_8270",
    "SCORING": "roc_auc_ovr",
    "SEMILLA": 8270,
    "eval_clasifier": "LogisticRegressionCV(random_state=SEMILLA)",
    "eval_selector": "SelectKBest(score_func=f_classif)",
    "param_distributions": {
     "clasifier__l1_ratios": [
      [
       0.1
      ]
     ],
     "clasifier__max_iter": [
      10000
     ],
     "clasifier__penalty": [
      "elasticnet"
     ],
     "clasifier__solver": [
      "saga"
     ],
     "selector__k": [
      1000
     ]
    }
   },
   "start_time": "2023-10-29T23:34:35.069091",
   "version": "2.4.0"
  }
 },
 "nbformat": 4,
 "nbformat_minor": 5
}