{
 "cells": [
  {
   "cell_type": "markdown",
   "id": "317df249",
   "metadata": {
    "papermill": {
     "duration": 0.003077,
     "end_time": "2023-10-30T15:24:40.035820",
     "exception": false,
     "start_time": "2023-10-30T15:24:40.032743",
     "status": "completed"
    },
    "tags": []
   },
   "source": [
    "##### Inicio"
   ]
  },
  {
   "cell_type": "markdown",
   "id": "c75ce179",
   "metadata": {
    "papermill": {
     "duration": 0.002375,
     "end_time": "2023-10-30T15:24:40.040802",
     "exception": false,
     "start_time": "2023-10-30T15:24:40.038427",
     "status": "completed"
    },
    "tags": []
   },
   "source": [
    "#### Carga de datos"
   ]
  },
  {
   "cell_type": "code",
   "execution_count": 1,
   "id": "c3980a79",
   "metadata": {
    "execution": {
     "iopub.execute_input": "2023-10-30T15:24:40.046676Z",
     "iopub.status.busy": "2023-10-30T15:24:40.046444Z",
     "iopub.status.idle": "2023-10-30T15:24:40.910221Z",
     "shell.execute_reply": "2023-10-30T15:24:40.909645Z"
    },
    "papermill": {
     "duration": 0.86839,
     "end_time": "2023-10-30T15:24:40.911584",
     "exception": false,
     "start_time": "2023-10-30T15:24:40.043194",
     "status": "completed"
    },
    "tags": []
   },
   "outputs": [
    {
     "name": "stdout",
     "output_type": "stream",
     "text": [
      "CPU_COUNT: 8; NODE: amilcar22; sys.version: 3.10.12 (main, Jul  5 2023, 19:22:19) [GCC 11.2.0]\n",
      "LOKY_MAX_CPU_COUNT: 6\n",
      "OMP_NUM_THREADS: 2\n"
     ]
    }
   ],
   "source": [
    "import os\n",
    "import numpy as np\n",
    "import pandas as pd\n",
    "import datetime\n",
    "import sklearn\n",
    "import logging\n",
    "import warnings\n",
    "\n",
    "from sklearn.pipeline import Pipeline\n",
    "from sklearn.model_selection import RandomizedSearchCV, KFold, cross_val_score, train_test_split\n",
    "from sklearn.metrics import accuracy_score, confusion_matrix, classification_report, roc_auc_score\n",
    "\n",
    "#  cargar algoritmos para aprendizaje supervisado\n",
    "from sklearn.feature_selection import SelectKBest, f_classif, SelectFromModel, mutual_info_classif\n",
    "from sklearn.svm import SVC\n",
    "from sklearn.ensemble import RandomForestClassifier\n",
    "from sklearn.linear_model import LogisticRegression,LogisticRegressionCV\n",
    "\n",
    "# importar fichero con utilidades propias\n",
    "from commons import myfunctions as myfunc\n"
   ]
  },
  {
   "cell_type": "markdown",
   "id": "d7cecd6f",
   "metadata": {
    "papermill": {
     "duration": 0.0026,
     "end_time": "2023-10-30T15:24:40.917105",
     "exception": false,
     "start_time": "2023-10-30T15:24:40.914505",
     "status": "completed"
    },
    "tags": []
   },
   "source": [
    "#### Parámetros a utilizar en el entrenamiento.\n",
    "\n",
    "Se indican los 3 algoritmos de *selección de características* (eval_selector_xxx) y los 3 algoritmos para la _clasificación_ (eval_clasifier_xxx)\n",
    "\n",
    "En *param_distributions* se indicar los parámetros que utilizan los algoritmos en la función RandomSearchCV.\n",
    "\n",
    "Esta celda tiene la etiqueta **parameters** que servirá para poder lanzar los entrenamientos con la utilidad **papermill** pasándole un fichero con los parámetros. Los nuevos parámetros se situarán tras esta celda para tener prevalencia."
   ]
  },
  {
   "cell_type": "code",
   "execution_count": 2,
   "id": "32543533",
   "metadata": {
    "execution": {
     "iopub.execute_input": "2023-10-30T15:24:40.923178Z",
     "iopub.status.busy": "2023-10-30T15:24:40.922873Z",
     "iopub.status.idle": "2023-10-30T15:24:40.929712Z",
     "shell.execute_reply": "2023-10-30T15:24:40.929295Z"
    },
    "papermill": {
     "duration": 0.011314,
     "end_time": "2023-10-30T15:24:40.930909",
     "exception": false,
     "start_time": "2023-10-30T15:24:40.919595",
     "status": "completed"
    },
    "tags": [
     "parameters"
    ]
   },
   "outputs": [
    {
     "name": "stdout",
     "output_type": "stream",
     "text": [
      "20231030T162440 : amilcar22 : INFO : Utilizando parámetros de mul_m\n"
     ]
    }
   ],
   "source": [
    "#  Parametros para el entrenamiento\n",
    "\n",
    "SEMILLA=        42\n",
    "M_TIPO=         \"mul_m\"\n",
    "M_SELECT=       \"MI\"\n",
    "M_CLASIF=       \"SVM\"\n",
    "R_FICHERO=      \"resultados\"\n",
    "M_FICHERO=      \"metricas\"\n",
    "PRE_DATA_FILE=  \"rows_transpose_norm_by_gene_id_with_target_num_\"\n",
    "SCORING=        \"roc_auc_ovr\" \n",
    "MAX_ITERS=      100\n",
    "\n",
    "def mutual_info_classif_state(X, y):\n",
    "    return mutual_info_classif(X, y, random_state=SEMILLA)\n",
    "\n",
    "eval_selector_mi = \"SelectKBest(score_func=mutual_info_classif_state)\"\n",
    "eval_selector_rf=  \"SelectFromModel(estimator=RandomForestClassifier(random_state=SEMILLA), threshold=-np.inf)\"\n",
    "eval_selector_anova=  \"SelectKBest(score_func=f_classif)\"\n",
    "\n",
    "eval_clasifier_svm= \"SVC(probability=True, random_state=SEMILLA)\"\n",
    "eval_clasifier_rf= \"RandomForestClassifier(random_state=SEMILLA)\"\n",
    "eval_clasifier_lr= \"LogisticRegressionCV(random_state=SEMILLA)\"\n",
    "\n",
    "if M_TIPO.startswith(\"bin_m\"):\n",
    "    myfunc.verbose(f\"Utilizando parámetros de {M_TIPO}\")\n",
    "    eval_selector = eval_selector_mi\n",
    "    eval_clasifier = eval_clasifier_svm\n",
    "\n",
    "    SEMILLA = 6578\n",
    "    M_SELECT = \"MI\"\n",
    "    M_CLASIF = \"SVM\"\n",
    "    param_distributions = {'selector__k': [1000], \n",
    "         'clasifier__kernel': ['rbf'], 'clasifier__gamma': [0.01], 'clasifier__C': [100]}\n",
    "elif M_TIPO.startswith(\"bin_s\"):\n",
    "    myfunc.verbose(f\"Utilizando parámetros de {M_TIPO}\")\n",
    "    eval_selector = eval_selector_rf\n",
    "    eval_clasifier = eval_clasifier_lr\n",
    "\n",
    "    SEMILLA = 6191\n",
    "    M_SELECT = \"RF\"\n",
    "    M_CLASIF = \"LR_L2\"\n",
    "    param_distributions = {'selector__max_features': [1000], 'selector__estimator__n_estimators': [200], \n",
    "        'clasifier__solver': ['lbfgs'], 'clasifier__penalty': ['l2'], 'clasifier__max_iter': [10000]}\n",
    "\n",
    "elif M_TIPO.startswith(\"mul_m\"):\n",
    "    myfunc.verbose(f\"Utilizando parámetros de {M_TIPO}\")\n",
    " \n",
    "    eval_selector = eval_selector_rf\n",
    "    eval_clasifier = eval_clasifier_lr\n",
    "\n",
    "    SEMILLA = 6191\n",
    "    M_SELECT = \"RF\"\n",
    "    M_CLASIF = \"LR_L2\"\n",
    "    param_distributions = {'selector__max_features': [1000], 'selector__estimator__n_estimators': [400], \n",
    "        'clasifier__solver': ['lbfgs'], 'clasifier__penalty': ['l2'], 'clasifier__max_iter': [10000]}\n",
    "\n",
    "else:\n",
    "    # M_TIPO.startswith(\"mul_s\"):\n",
    "    myfunc.verbose(f\"Utilizando parámetros de {M_TIPO}\")\n",
    "    eval_selector = eval_selector_anova\n",
    "    eval_clasifier = eval_clasifier_lr\n",
    "\n",
    "    SEMILLA = 1860\n",
    "    M_SELECT = \"ANOVA\"\n",
    "    M_CLASIF = \"LR_L2\"\n",
    "    param_distributions = {'selector__k': [1000], \n",
    "        'clasifier__solver': ['saga'], 'clasifier__penalty': ['l2'], 'clasifier__max_iter': [10000]}\n",
    "\n"
   ]
  },
  {
   "cell_type": "code",
   "execution_count": 3,
   "id": "51a0ade0",
   "metadata": {
    "execution": {
     "iopub.execute_input": "2023-10-30T15:24:40.936994Z",
     "iopub.status.busy": "2023-10-30T15:24:40.936797Z",
     "iopub.status.idle": "2023-10-30T15:24:40.940327Z",
     "shell.execute_reply": "2023-10-30T15:24:40.939878Z"
    },
    "papermill": {
     "duration": 0.007865,
     "end_time": "2023-10-30T15:24:40.941548",
     "exception": false,
     "start_time": "2023-10-30T15:24:40.933683",
     "status": "completed"
    },
    "tags": [
     "injected-parameters"
    ]
   },
   "outputs": [],
   "source": [
    "# Parameters\n",
    "M_TIPO = \"mul_m\"\n",
    "M_SELECT = \"MI\"\n",
    "M_CLASIF = \"LR_L2\"\n",
    "P_FICHERO = \"param_0000_6390_mul_m_MI_LR_L2.yaml\"\n",
    "R_FICHERO = \"resultados_6390\"\n",
    "M_FICHERO = \"metricas_6390\"\n",
    "PRE_DATA_FILE = \"rows_transpose_norm_by_gene_id_with_target_num_\"\n",
    "SCORING = \"roc_auc_ovr\"\n",
    "SEMILLA = 6390\n",
    "MAX_ITERS = 500\n",
    "eval_selector = \"SelectKBest(score_func=mutual_info_classif_state)\"\n",
    "eval_clasifier = \"LogisticRegressionCV(random_state=SEMILLA)\"\n",
    "param_distributions = {\n",
    "    \"selector__k\": [1000],\n",
    "    \"clasifier__solver\": [\"lbfgs\"],\n",
    "    \"clasifier__penalty\": [\"l2\"],\n",
    "    \"clasifier__max_iter\": [10000],\n",
    "}\n"
   ]
  },
  {
   "cell_type": "code",
   "execution_count": 4,
   "id": "aacba50b",
   "metadata": {
    "execution": {
     "iopub.execute_input": "2023-10-30T15:24:40.947705Z",
     "iopub.status.busy": "2023-10-30T15:24:40.947526Z",
     "iopub.status.idle": "2023-10-30T15:24:40.950444Z",
     "shell.execute_reply": "2023-10-30T15:24:40.949985Z"
    },
    "papermill": {
     "duration": 0.007319,
     "end_time": "2023-10-30T15:24:40.951663",
     "exception": false,
     "start_time": "2023-10-30T15:24:40.944344",
     "status": "completed"
    },
    "tags": []
   },
   "outputs": [],
   "source": [
    "DATA_FILE = PRE_DATA_FILE + M_TIPO\n",
    "\n",
    "# si viene \"None\" en el parámetro max_depth, se le quitan las comillas para que no sea entendido por el algoritmo como un texto\n",
    "if \"clasifier__max_depth\" in param_distributions:\n",
    "    param_distributions['clasifier__max_depth'] = [None if x == 'None' else x for x in param_distributions['clasifier__max_depth']]"
   ]
  },
  {
   "cell_type": "markdown",
   "id": "f9c500de",
   "metadata": {
    "papermill": {
     "duration": 0.002573,
     "end_time": "2023-10-30T15:24:40.957035",
     "exception": false,
     "start_time": "2023-10-30T15:24:40.954462",
     "status": "completed"
    },
    "tags": []
   },
   "source": [
    "Asignar los algoritmos que se utilizarán en la función RandomSearchCV"
   ]
  },
  {
   "cell_type": "code",
   "execution_count": 5,
   "id": "e3fb61c5",
   "metadata": {
    "execution": {
     "iopub.execute_input": "2023-10-30T15:24:40.962920Z",
     "iopub.status.busy": "2023-10-30T15:24:40.962731Z",
     "iopub.status.idle": "2023-10-30T15:24:40.965444Z",
     "shell.execute_reply": "2023-10-30T15:24:40.964886Z"
    },
    "papermill": {
     "duration": 0.007247,
     "end_time": "2023-10-30T15:24:40.966891",
     "exception": false,
     "start_time": "2023-10-30T15:24:40.959644",
     "status": "completed"
    },
    "tags": []
   },
   "outputs": [],
   "source": [
    "algor_selector=eval(eval_selector)\n",
    "algor_clasifier=eval(eval_clasifier)"
   ]
  },
  {
   "cell_type": "markdown",
   "id": "36f13f47",
   "metadata": {
    "papermill": {
     "duration": 0.003687,
     "end_time": "2023-10-30T15:24:40.974316",
     "exception": false,
     "start_time": "2023-10-30T15:24:40.970629",
     "status": "completed"
    },
    "tags": []
   },
   "source": [
    "#### Comprobar el entorno y leer fichero de muestras"
   ]
  },
  {
   "cell_type": "code",
   "execution_count": 6,
   "id": "6fae8040",
   "metadata": {
    "execution": {
     "iopub.execute_input": "2023-10-30T15:24:40.981987Z",
     "iopub.status.busy": "2023-10-30T15:24:40.981800Z",
     "iopub.status.idle": "2023-10-30T15:24:41.145196Z",
     "shell.execute_reply": "2023-10-30T15:24:41.144674Z"
    },
    "papermill": {
     "duration": 0.168666,
     "end_time": "2023-10-30T15:24:41.146483",
     "exception": false,
     "start_time": "2023-10-30T15:24:40.977817",
     "status": "completed"
    },
    "tags": []
   },
   "outputs": [
    {
     "name": "stdout",
     "output_type": "stream",
     "text": [
      "20231030T162440 : amilcar22 : INFO : Encontrada carpeta DATA_DIR=../tfm_git/datos\n",
      "20231030T162440 : amilcar22 : INFO : Encontrada carpeta CFDNA_DIR=../tfm_git/datos/cfDNA_5hmC\n",
      "20231030T162440 : amilcar22 : INFO : Encontrada carpeta GENCODE_DIR=../tfm_git/datos/gencode\n",
      "20231030T162440 : amilcar22 : INFO : Encontrada carpeta H5_DIR=../tfm_git/datos/h5\n",
      "20231030T162440 : amilcar22 : INFO : Encontrada carpeta LOG_DIR=../tfm_git/datos/logs\n",
      "20231030T162440 : amilcar22 : INFO : Encontrada carpeta CSV_DIR=../tfm_git/datos/csv\n",
      "20231030T162440 : amilcar22 : INFO : Encontrada carpeta MODEL_DIR=../tfm_git/ejecuciones/modelos\n",
      "20231030T162440 : amilcar22 : INFO : Encontrada carpeta EXEC_DIR=../tfm_git/ejecuciones\n",
      "20231030T162440 : amilcar22 : INFO : Encontrada carpeta MET_DIR=../tfm_git/ejecuciones/metricas\n",
      "20231030T162440 : amilcar22 : INFO : Inicio leer fichero h5 ../tfm_git/datos/h5/rows_transpose_norm_by_gene_id_with_target_num_mul_m.h5\n",
      "20231030T162441 : amilcar22 : INFO : Leyendo clave /df\n",
      "20231030T162441 : amilcar22 : INFO : Tamaño (434, 18876)\n",
      "20231030T162441 : amilcar22 : INFO : Fin leer fichero h5 ../tfm_git/datos/h5/rows_transpose_norm_by_gene_id_with_target_num_mul_m.h5\n"
     ]
    },
    {
     "data": {
      "text/plain": [
       "target\n",
       "0    62\n",
       "1    62\n",
       "2    62\n",
       "3    62\n",
       "4    62\n",
       "5    62\n",
       "6    62\n",
       "dtype: int64"
      ]
     },
     "metadata": {},
     "output_type": "display_data"
    },
    {
     "name": "stdout",
     "output_type": "stream",
     "text": [
      "Shape df: (434, 18876)\n"
     ]
    },
    {
     "name": "stdout",
     "output_type": "stream",
     "text": [
      "Shape X_train: (347, 18875)\n",
      "Shape X_test: (87, 18875)\n"
     ]
    }
   ],
   "source": [
    "start_time = datetime.datetime.now()\n",
    "\n",
    "myfunc.reset_vars()\n",
    "\n",
    "myfunc.NOTEBK_FILENAME = myfunc.get_nb_name()\n",
    "\n",
    "myfunc.check_enviroment(myfunc.DATA_DIR, myfunc.CFDNA_DIR, myfunc.GENCODE_DIR, myfunc.H5_DIR, myfunc.LOG_DIR, myfunc.CSV_DIR, myfunc.MODEL_DIR, myfunc.EXEC_DIR, myfunc.MET_DIR)\n",
    "\n",
    "# Leer fichero con las muestras\n",
    "df_t = myfunc.read_h5_to_df(DATA_FILE, myfunc.H5_DIR)\n",
    "display(df_t.groupby(\"target\").size())\n",
    "print(\"Shape df:\",df_t.shape)\n",
    "\n",
    "# Separar caracteristicas/genes de las etiquetas/tipos de cáncer\n",
    "X = df_t.iloc[:, :-1]  # Todas las columnas excepto la última\n",
    "y = df_t.iloc[:, -1]  # La última columna contiene los identificadores de los tipos de cáncer\n",
    "\n",
    "#  Crear el conjunto de datos de entrenamiento y de pruebas, y se fija la semilla para siempre coger el mismo juego de muestras\n",
    "X_train, X_test, y_train, y_test = train_test_split(X, y, test_size=0.2, shuffle=True, random_state=42)\n",
    "print(\"Shape X_train:\",X_train.shape)\n",
    "print(\"Shape X_test:\",X_test.shape)\n"
   ]
  },
  {
   "cell_type": "markdown",
   "id": "b570e6cd",
   "metadata": {
    "papermill": {
     "duration": 0.002772,
     "end_time": "2023-10-30T15:24:41.152707",
     "exception": false,
     "start_time": "2023-10-30T15:24:41.149935",
     "status": "completed"
    },
    "tags": []
   },
   "source": [
    "#### Selección de características y clasificación."
   ]
  },
  {
   "cell_type": "code",
   "execution_count": 7,
   "id": "a926be6b",
   "metadata": {
    "execution": {
     "iopub.execute_input": "2023-10-30T15:24:41.159165Z",
     "iopub.status.busy": "2023-10-30T15:24:41.158966Z",
     "iopub.status.idle": "2023-10-30T15:28:48.430425Z",
     "shell.execute_reply": "2023-10-30T15:28:48.429763Z"
    },
    "papermill": {
     "duration": 247.278291,
     "end_time": "2023-10-30T15:28:48.433805",
     "exception": false,
     "start_time": "2023-10-30T15:24:41.155514",
     "status": "completed"
    },
    "tags": []
   },
   "outputs": [
    {
     "name": "stdout",
     "output_type": "stream",
     "text": [
      "20231030T162441 : amilcar22 : INFO : Iniciando entrenamiento\n",
      "num_iter: 1 , max_iter: 1\n",
      "Fitting 5 folds for each of 1 candidates, totalling 5 fits\n"
     ]
    },
    {
     "name": "stdout",
     "output_type": "stream",
     "text": [
      "Mejores Hiperparámetros: {'selector__k': 1000, 'clasifier__solver': 'lbfgs', 'clasifier__penalty': 'l2', 'clasifier__max_iter': 10000}\n",
      "Mejor Puntuación: 0.8567\n",
      "20231030T162848 : amilcar22 : INFO : Fin entrenamiento\n"
     ]
    }
   ],
   "source": [
    "myfunc.verbose(\"Iniciando entrenamiento\")\n",
    "\n",
    "kf = KFold(n_splits=5, shuffle=True, random_state=SEMILLA)\n",
    "\n",
    "# Crear el pipeline para el flujo de tareas\n",
    "tasks_pipeline = Pipeline([\n",
    "    ('selector', algor_selector),\n",
    "    ('clasifier', algor_clasifier)\n",
    "])\n",
    "\n",
    "# MAX_ITERS puede limitar el número de iteraciones si son excesivas para las combinaciones de parámetros buscando un óptimo local, \n",
    "# sino funcionaría como GridSearchCV al revisar todas las cominaciones de los parámetros\n",
    "num_iteraciones = 1\n",
    "num_iteraciones = num_iteraciones * np.prod([len(elemento1) for _, elemento1 in param_distributions.items()])\n",
    "max_iteraciones = num_iteraciones if num_iteraciones <= MAX_ITERS else MAX_ITERS\n",
    "print(\"num_iter:\",num_iteraciones,\", max_iter:\",max_iteraciones)\n",
    "\n",
    "random_search = RandomizedSearchCV(\n",
    "    tasks_pipeline, \n",
    "    param_distributions, \n",
    "    n_iter=max_iteraciones,\n",
    "    scoring=SCORING,\n",
    "    cv=kf,\n",
    "    verbose=3, \n",
    "    random_state=SEMILLA, \n",
    "    n_jobs=-1\n",
    "    )\n",
    "\n",
    "# Entrenar el modelo\n",
    "random_search.fit(X_train, y_train)\n",
    "\n",
    "# Ver los mejores hiperparámetros encontrados\n",
    "print(f'Mejores Hiperparámetros: {random_search.best_params_}')\n",
    "print(f'Mejor Puntuación: {random_search.best_score_:.4f}')\n",
    "\n",
    "# Nos quedamos con el mejor modelo para ver las métricas\n",
    "mejor_modelo = random_search.best_estimator_\n",
    "\n",
    "myfunc.verbose(\"Fin entrenamiento\")"
   ]
  },
  {
   "cell_type": "markdown",
   "id": "318395fa",
   "metadata": {
    "papermill": {
     "duration": 0.002864,
     "end_time": "2023-10-30T15:28:48.440149",
     "exception": false,
     "start_time": "2023-10-30T15:28:48.437285",
     "status": "completed"
    },
    "tags": []
   },
   "source": [
    "#### Guardar modelo"
   ]
  },
  {
   "cell_type": "code",
   "execution_count": 8,
   "id": "16b9180c",
   "metadata": {
    "execution": {
     "iopub.execute_input": "2023-10-30T15:28:48.446918Z",
     "iopub.status.busy": "2023-10-30T15:28:48.446735Z",
     "iopub.status.idle": "2023-10-30T15:28:48.457204Z",
     "shell.execute_reply": "2023-10-30T15:28:48.456588Z"
    },
    "papermill": {
     "duration": 0.015341,
     "end_time": "2023-10-30T15:28:48.458401",
     "exception": false,
     "start_time": "2023-10-30T15:28:48.443060",
     "status": "completed"
    },
    "tags": []
   },
   "outputs": [
    {
     "name": "stdout",
     "output_type": "stream",
     "text": [
      "20231030T162848 : amilcar22 : INFO : Inicio guardar fichero ../tfm_git/ejecuciones/modelos/modelo_6390_mul_m_MI_LR_L2.pkl\n",
      "20231030T162848 : amilcar22 : INFO : Fin guardar fichero ../tfm_git/ejecuciones/modelos/modelo_6390_mul_m_MI_LR_L2.pkl\n"
     ]
    }
   ],
   "source": [
    "fichero_modelo = str.replace(\"modelo_\"+str(SEMILLA).zfill(4)+\"_\"+M_TIPO+\"_\"+M_SELECT+\"_\"+M_CLASIF+\".pkl\", \" \", \"_\")\n",
    "\n",
    "myfunc.save_modelo(mejor_modelo, myfunc.MODEL_DIR, fichero_modelo)"
   ]
  },
  {
   "cell_type": "markdown",
   "id": "94b1cf2b",
   "metadata": {
    "papermill": {
     "duration": 0.002962,
     "end_time": "2023-10-30T15:28:48.464679",
     "exception": false,
     "start_time": "2023-10-30T15:28:48.461717",
     "status": "completed"
    },
    "tags": []
   },
   "source": [
    "#### Ver resultados del las iteraciones hechas por RandomSearchCV"
   ]
  },
  {
   "cell_type": "code",
   "execution_count": 9,
   "id": "9a95b172",
   "metadata": {
    "execution": {
     "iopub.execute_input": "2023-10-30T15:28:48.471688Z",
     "iopub.status.busy": "2023-10-30T15:28:48.471507Z",
     "iopub.status.idle": "2023-10-30T15:28:48.477450Z",
     "shell.execute_reply": "2023-10-30T15:28:48.476904Z"
    },
    "papermill": {
     "duration": 0.010694,
     "end_time": "2023-10-30T15:28:48.478566",
     "exception": false,
     "start_time": "2023-10-30T15:28:48.467872",
     "status": "completed"
    },
    "tags": []
   },
   "outputs": [
    {
     "name": "stdout",
     "output_type": "stream",
     "text": [
      "20231030T162848 : amilcar22 : INFO : Inicio ver resultados\n",
      "Mejores Hiperparámetros: {'selector__k': 1000, 'clasifier__solver': 'lbfgs', 'clasifier__penalty': 'l2', 'clasifier__max_iter': 10000}\n",
      "Mejores puntuaciones: 0.8567 | Params: {'selector__k': 1000, 'clasifier__solver': 'lbfgs', 'clasifier__penalty': 'l2', 'clasifier__max_iter': 10000}\n",
      "Media de las puntuaciones: 0.8567 | Params: {'selector__k': 1000, 'clasifier__solver': 'lbfgs', 'clasifier__penalty': 'l2', 'clasifier__max_iter': 10000}\n",
      "20231030T162848 : amilcar22 : INFO : Fin resultados\n"
     ]
    }
   ],
   "source": [
    "myfunc.ver_resultados_search(random_search)"
   ]
  },
  {
   "cell_type": "markdown",
   "id": "fc60a638",
   "metadata": {
    "papermill": {
     "duration": 0.003138,
     "end_time": "2023-10-30T15:28:48.485022",
     "exception": false,
     "start_time": "2023-10-30T15:28:48.481884",
     "status": "completed"
    },
    "tags": []
   },
   "source": [
    "#### Ver métricas del mejor modelo"
   ]
  },
  {
   "cell_type": "code",
   "execution_count": 10,
   "id": "6665bb43",
   "metadata": {
    "execution": {
     "iopub.execute_input": "2023-10-30T15:28:48.492042Z",
     "iopub.status.busy": "2023-10-30T15:28:48.491867Z",
     "iopub.status.idle": "2023-10-30T15:28:49.138096Z",
     "shell.execute_reply": "2023-10-30T15:28:49.137601Z"
    },
    "papermill": {
     "duration": 0.651201,
     "end_time": "2023-10-30T15:28:49.139358",
     "exception": false,
     "start_time": "2023-10-30T15:28:48.488157",
     "status": "completed"
    },
    "tags": []
   },
   "outputs": [
    {
     "name": "stdout",
     "output_type": "stream",
     "text": [
      "20231030T162848 : amilcar22 : INFO : Inicio ver métricas multiclase\n",
      "              precision    recall  f1-score   support\n",
      "\n",
      "           0       0.77      0.62      0.69        16\n",
      "           1       0.80      0.53      0.64        15\n",
      "           2       0.50      0.45      0.48        11\n",
      "           3       0.56      1.00      0.71         5\n",
      "           4       0.57      0.62      0.59        13\n",
      "           5       0.80      0.89      0.84         9\n",
      "           6       0.57      0.67      0.62        18\n",
      "\n",
      "    accuracy                           0.64        87\n",
      "   macro avg       0.65      0.68      0.65        87\n",
      "weighted avg       0.66      0.64      0.64        87\n",
      "\n",
      "\n",
      "\n",
      "           Exactitud: 0.643678\n",
      "   Precisión (media): 0.652520\n",
      "      Recall (media): 0.683403\n",
      "    F1-score (media): 0.652888\n",
      "\n",
      "\n"
     ]
    },
    {
     "name": "stdout",
     "output_type": "stream",
     "text": [
      "AUC para el tipo de cáncer 0-Control.... 0.8794\n",
      "AUC para el tipo de cáncer 1-Bladder.... 0.8824\n",
      "AUC para el tipo de cáncer 2-Breast..... 0.8577\n",
      "AUC para el tipo de cáncer 3-Colorectal. 0.9902\n",
      "AUC para el tipo de cáncer 4-Kidney..... 0.8503\n",
      "AUC para el tipo de cáncer 5-Lung....... 0.9843\n",
      "AUC para el tipo de cáncer 6-Prostate... 0.8905\n",
      "\n",
      "Media de AUC: 0.9050\n"
     ]
    },
    {
     "data": {
      "image/png": "[encoded data removed]",
      "text/plain": [
       "<Figure size 1000x600 with 1 Axes>"
      ]
     },
     "metadata": {},
     "output_type": "display_data"
    },
    {
     "name": "stdout",
     "output_type": "stream",
     "text": [
      "\n",
      "\n"
     ]
    },
    {
     "data": {
      "image/png": "[encoded data removed]",
      "text/plain": [
       "<Figure size 800x400 with 2 Axes>"
      ]
     },
     "metadata": {},
     "output_type": "display_data"
    },
    {
     "name": "stdout",
     "output_type": "stream",
     "text": [
      "\n",
      "\n",
      "Puntuación Jaccard para el cáncer tipo 0-Control.... 0.5263\n",
      "Puntuación Jaccard para el cáncer tipo 1-Bladder.... 0.4706\n",
      "Puntuación Jaccard para el cáncer tipo 2-Breast..... 0.3125\n",
      "Puntuación Jaccard para el cáncer tipo 3-Colorectal. 0.5556\n",
      "Puntuación Jaccard para el cáncer tipo 4-Kidney..... 0.4211\n",
      "Puntuación Jaccard para el cáncer tipo 5-Lung....... 0.7273\n",
      "Puntuación Jaccard para el cáncer tipo 6-Prostate... 0.4444\n",
      "\n",
      "Media de la puntuación de Jaccard: 0.4940\n"
     ]
    }
   ],
   "source": [
    "if M_TIPO.startswith(\"bin\"):\n",
    "    myfunc.ver_metricas(mejor_modelo, X_test, y_test)\n",
    "else:\n",
    "    myfunc.ver_metricas_multi(mejor_modelo, X_test, y_test)\n"
   ]
  },
  {
   "cell_type": "markdown",
   "id": "900dbd26",
   "metadata": {
    "papermill": {
     "duration": 0.004075,
     "end_time": "2023-10-30T15:28:49.148346",
     "exception": false,
     "start_time": "2023-10-30T15:28:49.144271",
     "status": "completed"
    },
    "tags": []
   },
   "source": [
    "#### Finalización del notebook"
   ]
  },
  {
   "cell_type": "code",
   "execution_count": 11,
   "id": "84ae48ef",
   "metadata": {
    "execution": {
     "iopub.execute_input": "2023-10-30T15:28:49.157371Z",
     "iopub.status.busy": "2023-10-30T15:28:49.157169Z",
     "iopub.status.idle": "2023-10-30T15:28:49.160483Z",
     "shell.execute_reply": "2023-10-30T15:28:49.159982Z"
    },
    "papermill": {
     "duration": 0.009321,
     "end_time": "2023-10-30T15:28:49.161715",
     "exception": false,
     "start_time": "2023-10-30T15:28:49.152394",
     "status": "completed"
    },
    "tags": []
   },
   "outputs": [
    {
     "name": "stdout",
     "output_type": "stream",
     "text": [
      "20231030T162849 : amilcar22 : INFO : Notebook ha tardado 248 seconds\n"
     ]
    }
   ],
   "source": [
    "end_time = datetime.datetime.now()\n",
    "total_time = end_time - start_time\n",
    "myfunc.verbose(f\"Notebook ha tardado {total_time.seconds} seconds\")"
   ]
  },
  {
   "cell_type": "markdown",
   "id": "890c525d",
   "metadata": {
    "papermill": {
     "duration": 0.004122,
     "end_time": "2023-10-30T15:28:49.170276",
     "exception": false,
     "start_time": "2023-10-30T15:28:49.166154",
     "status": "completed"
    },
    "tags": []
   },
   "source": [
    "#### Guardar métricas"
   ]
  },
  {
   "cell_type": "code",
   "execution_count": 12,
   "id": "9f4586b2",
   "metadata": {
    "execution": {
     "iopub.execute_input": "2023-10-30T15:28:49.179295Z",
     "iopub.status.busy": "2023-10-30T15:28:49.179103Z",
     "iopub.status.idle": "2023-10-30T15:28:49.368360Z",
     "shell.execute_reply": "2023-10-30T15:28:49.367799Z"
    },
    "papermill": {
     "duration": 0.195094,
     "end_time": "2023-10-30T15:28:49.369486",
     "exception": false,
     "start_time": "2023-10-30T15:28:49.174392",
     "status": "completed"
    },
    "tags": []
   },
   "outputs": [
    {
     "name": "stdout",
     "output_type": "stream",
     "text": [
      "20231030T162849 : amilcar22 : INFO : Inicio guardar métricas multiclase\n",
      "20231030T162849 : amilcar22 : INFO : Inicio leer fichero ../tfm_git/ejecuciones/metricas/metricas_6390.csv\n",
      "20231030T162849 : amilcar22 : INFO : Fin leer fichero ../tfm_git/ejecuciones/metricas/metricas_6390.csv\n"
     ]
    },
    {
     "name": "stdout",
     "output_type": "stream",
     "text": [
      "20231030T162849 : amilcar22 : INFO : Inicio guardar fichero ../tfm_git/ejecuciones/metricas/metricas_6390.csv\n",
      "20231030T162849 : amilcar22 : INFO : Fichero borrado ../tfm_git/ejecuciones/metricas/metricas_6390.csv\n",
      "20231030T162849 : amilcar22 : INFO : Fin guardar fichero ../tfm_git/ejecuciones/metricas/metricas_6390.csv\n",
      "20231030T162849 : amilcar22 : INFO : Fin guardar métricas multiclase\n",
      "20231030T162849 : amilcar22 : INFO : Inicio leer fichero ../tfm_git/ejecuciones/metricas/metricas_6390.csv\n",
      "20231030T162849 : amilcar22 : INFO : Fin leer fichero ../tfm_git/ejecuciones/metricas/metricas_6390.csv\n"
     ]
    },
    {
     "data": {
      "text/html": [
       "<div>\n",
       "<style scoped>\n",
       "    .dataframe tbody tr th:only-of-type {\n",
       "        vertical-align: middle;\n",
       "    }\n",
       "\n",
       "    .dataframe tbody tr th {\n",
       "        vertical-align: top;\n",
       "    }\n",
       "\n",
       "    .dataframe thead th {\n",
       "        text-align: right;\n",
       "    }\n",
       "</style>\n",
       "<table border=\"1\" class=\"dataframe\">\n",
       "  <thead>\n",
       "    <tr style=\"text-align: right;\">\n",
       "      <th></th>\n",
       "      <th>tipo</th>\n",
       "      <th>select</th>\n",
       "      <th>clasific</th>\n",
       "      <th>semilla</th>\n",
       "      <th>accuracy</th>\n",
       "      <th>precision</th>\n",
       "      <th>recall</th>\n",
       "      <th>f1_score</th>\n",
       "      <th>roc_auc</th>\n",
       "      <th>hostname</th>\n",
       "      <th>total_time_sec</th>\n",
       "      <th>datetime</th>\n",
       "      <th>fichero_modelo</th>\n",
       "      <th>params</th>\n",
       "      <th>shape</th>\n",
       "      <th>features</th>\n",
       "      <th>roc_auc_ovr</th>\n",
       "      <th>indices_auc</th>\n",
       "      <th>indices_jaccard</th>\n",
       "    </tr>\n",
       "  </thead>\n",
       "  <tbody>\n",
       "    <tr>\n",
       "      <th>0</th>\n",
       "      <td>mul_m</td>\n",
       "      <td>MI</td>\n",
       "      <td>LR_L2</td>\n",
       "      <td>6390</td>\n",
       "      <td>0.643678</td>\n",
       "      <td>0.652520</td>\n",
       "      <td>0.683403</td>\n",
       "      <td>0.652888</td>\n",
       "      <td>NaN</td>\n",
       "      <td>amilcar22</td>\n",
       "      <td>248</td>\n",
       "      <td>2023-10-30 16:28:49.338868</td>\n",
       "      <td>modelo_6390_mul_m_MI_LR_L2.pkl</td>\n",
       "      <td>{'selector__k': 1000, 'clasifier__solver': 'lb...</td>\n",
       "      <td>X_test:(87, 18875)</td>\n",
       "      <td>['ENSG00000001084.13', 'ENSG00000001460.18', '...</td>\n",
       "      <td>0.904979</td>\n",
       "      <td>[0.8794014084507042, 0.8824074074074074, 0.857...</td>\n",
       "      <td>[0.5263157894736842, 0.47058823529411764, 0.31...</td>\n",
       "    </tr>\n",
       "    <tr>\n",
       "      <th>0</th>\n",
       "      <td>mul_m</td>\n",
       "      <td>MI</td>\n",
       "      <td>LR_L1</td>\n",
       "      <td>6390</td>\n",
       "      <td>0.609195</td>\n",
       "      <td>0.622186</td>\n",
       "      <td>0.643323</td>\n",
       "      <td>0.621036</td>\n",
       "      <td>NaN</td>\n",
       "      <td>amilcar22</td>\n",
       "      <td>1952</td>\n",
       "      <td>2023-10-30 16:24:34.904690</td>\n",
       "      <td>modelo_6390_mul_m_MI_LR_L1.pkl</td>\n",
       "      <td>{'selector__k': 1000, 'clasifier__solver': 'sa...</td>\n",
       "      <td>X_test:(87, 18875)</td>\n",
       "      <td>['ENSG00000001084.13', 'ENSG00000001460.18', '...</td>\n",
       "      <td>0.899745</td>\n",
       "      <td>[0.8846830985915493, 0.8851851851851852, 0.840...</td>\n",
       "      <td>[0.4, 0.5294117647058824, 0.3125, 0.625, 0.4, ...</td>\n",
       "    </tr>\n",
       "    <tr>\n",
       "      <th>0</th>\n",
       "      <td>mul_m</td>\n",
       "      <td>MI</td>\n",
       "      <td>LR_EN</td>\n",
       "      <td>6390</td>\n",
       "      <td>0.620690</td>\n",
       "      <td>0.626777</td>\n",
       "      <td>0.658601</td>\n",
       "      <td>0.632331</td>\n",
       "      <td>NaN</td>\n",
       "      <td>amilcar22</td>\n",
       "      <td>1789</td>\n",
       "      <td>2023-10-30 15:51:55.958749</td>\n",
       "      <td>modelo_6390_mul_m_MI_LR_EN.pkl</td>\n",
       "      <td>{'selector__k': 1000, 'clasifier__solver': 'sa...</td>\n",
       "      <td>X_test:(87, 18875)</td>\n",
       "      <td>['ENSG00000001084.13', 'ENSG00000001460.18', '...</td>\n",
       "      <td>0.900926</td>\n",
       "      <td>[0.8890845070422535, 0.8833333333333333, 0.843...</td>\n",
       "      <td>[0.45, 0.4444444444444444, 0.3125, 0.625, 0.42...</td>\n",
       "    </tr>\n",
       "  </tbody>\n",
       "</table>\n",
       "</div>"
      ],
      "text/plain": [
       "    tipo select clasific  semilla  accuracy  precision    recall  f1_score  \\\n",
       "0  mul_m     MI    LR_L2     6390  0.643678   0.652520  0.683403  0.652888   \n",
       "0  mul_m     MI    LR_L1     6390  0.609195   0.622186  0.643323  0.621036   \n",
       "0  mul_m     MI    LR_EN     6390  0.620690   0.626777  0.658601  0.632331   \n",
       "\n",
       "   roc_auc   hostname  total_time_sec                    datetime  \\\n",
       "0      NaN  amilcar22             248  2023-10-30 16:28:49.338868   \n",
       "0      NaN  amilcar22            1952  2023-10-30 16:24:34.904690   \n",
       "0      NaN  amilcar22            1789  2023-10-30 15:51:55.958749   \n",
       "\n",
       "                   fichero_modelo  \\\n",
       "0  modelo_6390_mul_m_MI_LR_L2.pkl   \n",
       "0  modelo_6390_mul_m_MI_LR_L1.pkl   \n",
       "0  modelo_6390_mul_m_MI_LR_EN.pkl   \n",
       "\n",
       "                                              params               shape  \\\n",
       "0  {'selector__k': 1000, 'clasifier__solver': 'lb...  X_test:(87, 18875)   \n",
       "0  {'selector__k': 1000, 'clasifier__solver': 'sa...  X_test:(87, 18875)   \n",
       "0  {'selector__k': 1000, 'clasifier__solver': 'sa...  X_test:(87, 18875)   \n",
       "\n",
       "                                            features  roc_auc_ovr  \\\n",
       "0  ['ENSG00000001084.13', 'ENSG00000001460.18', '...     0.904979   \n",
       "0  ['ENSG00000001084.13', 'ENSG00000001460.18', '...     0.899745   \n",
       "0  ['ENSG00000001084.13', 'ENSG00000001460.18', '...     0.900926   \n",
       "\n",
       "                                         indices_auc  \\\n",
       "0  [0.8794014084507042, 0.8824074074074074, 0.857...   \n",
       "0  [0.8846830985915493, 0.8851851851851852, 0.840...   \n",
       "0  [0.8890845070422535, 0.8833333333333333, 0.843...   \n",
       "\n",
       "                                     indices_jaccard  \n",
       "0  [0.5263157894736842, 0.47058823529411764, 0.31...  \n",
       "0  [0.4, 0.5294117647058824, 0.3125, 0.625, 0.4, ...  \n",
       "0  [0.45, 0.4444444444444444, 0.3125, 0.625, 0.42...  "
      ]
     },
     "metadata": {},
     "output_type": "display_data"
    }
   ],
   "source": [
    "if M_TIPO.startswith(\"bin\"):\n",
    "    myfunc.save_metricas_to_csv(random_search, X_test, y_test, M_TIPO, M_SELECT, M_CLASIF, total_time, SEMILLA, myfunc.MET_DIR, M_FICHERO, fichero_modelo)\n",
    "else:\n",
    "    myfunc.save_metricas_multi_to_csv(random_search, X_test, y_test, M_TIPO, M_SELECT, M_CLASIF, total_time, SEMILLA, myfunc.MET_DIR, M_FICHERO, fichero_modelo)\n",
    "\n",
    "df1=myfunc.read_metricas_to_df(myfunc.MET_DIR,M_FICHERO)\n",
    "\n",
    "display(df1.sort_values(\"datetime\", ascending=False)[:3])\n"
   ]
  },
  {
   "cell_type": "markdown",
   "id": "c8809676",
   "metadata": {
    "papermill": {
     "duration": 0.004433,
     "end_time": "2023-10-30T15:28:49.378959",
     "exception": false,
     "start_time": "2023-10-30T15:28:49.374526",
     "status": "completed"
    },
    "tags": []
   },
   "source": [
    "#### Guardar resultados"
   ]
  },
  {
   "cell_type": "code",
   "execution_count": 13,
   "id": "8d3735ae",
   "metadata": {
    "execution": {
     "iopub.execute_input": "2023-10-30T15:28:49.388631Z",
     "iopub.status.busy": "2023-10-30T15:28:49.388414Z",
     "iopub.status.idle": "2023-10-30T15:28:49.396695Z",
     "shell.execute_reply": "2023-10-30T15:28:49.396097Z"
    },
    "papermill": {
     "duration": 0.014419,
     "end_time": "2023-10-30T15:28:49.397777",
     "exception": false,
     "start_time": "2023-10-30T15:28:49.383358",
     "status": "completed"
    },
    "tags": []
   },
   "outputs": [
    {
     "name": "stdout",
     "output_type": "stream",
     "text": [
      "20231030T162849 : amilcar22 : INFO : Inicio guardar resultados\n",
      "20231030T162849 : amilcar22 : INFO : Inicio guardar fichero ../tfm_git/ejecuciones/metricas/resultados_6390_mul_m-MI-LR_L2.csv\n",
      "20231030T162849 : amilcar22 : INFO : Fin guardar fichero ../tfm_git/ejecuciones/metricas/resultados_6390_mul_m-MI-LR_L2.csv\n",
      "20231030T162849 : amilcar22 : INFO : Fin guardar resultados\n"
     ]
    }
   ],
   "source": [
    "fichero_resultados=R_FICHERO+\"_\"+M_TIPO+\"-\"+M_SELECT+\"-\"+M_CLASIF+\".csv\"\n",
    "myfunc.save_resultados_to_csv(M_TIPO, M_SELECT, M_CLASIF,  random_search, myfunc.MET_DIR, fichero_resultados)\n"
   ]
  }
 ],
 "metadata": {
  "kernelspec": {
   "display_name": "Python 3 (ipykernel)",
   "language": "python",
   "name": "python3"
  },
  "language_info": {
   "codemirror_mode": {
    "name": "ipython",
    "version": 3
   },
   "file_extension": ".py",
   "mimetype": "text/x-python",
   "name": "python",
   "nbconvert_exporter": "python",
   "pygments_lexer": "ipython3",
   "version": "3.10.12"
  },
  "papermill": {
   "default_parameters": {},
   "duration": 252.901984,
   "end_time": "2023-10-30T15:28:52.019388",
   "environment_variables": {},
   "exception": null,
   "input_path": "03_entrenamiento.ipynb",
   "output_path": "ejecuciones/training/03_entrenamiento.20231030T162438.param_0000_6390_mul_m_MI_LR_L2.output.ipynb",
   "parameters": {
    "MAX_ITERS": 500,
    "M_CLASIF": "LR_L2",
    "M_FICHERO": "metricas_6390",
    "M_SELECT": "MI",
    "M_TIPO": "mul_m",
    "PRE_DATA_FILE": "rows_transpose_norm_by_gene_id_with_target_num_",
    "P_FICHERO": "param_0000_6390_mul_m_MI_LR_L2.yaml",
    "R_FICHERO": "resultados_6390",
    "SCORING": "roc_auc_ovr",
    "SEMILLA": 6390,
    "eval_clasifier": "LogisticRegressionCV(random_state=SEMILLA)",
    "eval_selector": "SelectKBest(score_func=mutual_info_classif_state)",
    "param_distributions": {
     "clasifier__max_iter": [
      10000
     ],
     "clasifier__penalty": [
      "l2"
     ],
     "clasifier__solver": [
      "lbfgs"
     ],
     "selector__k": [
      1000
     ]
    }
   },
   "start_time": "2023-10-30T15:24:39.117404",
   "version": "2.4.0"
  }
 },
 "nbformat": 4,
 "nbformat_minor": 5
}