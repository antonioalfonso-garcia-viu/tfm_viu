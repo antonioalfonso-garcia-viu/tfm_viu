{
 "cells": [
  {
   "cell_type": "markdown",
   "id": "488bd39c",
   "metadata": {
    "papermill": {
     "duration": 0.008622,
     "end_time": "2023-10-30T16:15:56.180274",
     "exception": false,
     "start_time": "2023-10-30T16:15:56.171652",
     "status": "completed"
    },
    "tags": []
   },
   "source": [
    "##### Inicio"
   ]
  },
  {
   "cell_type": "markdown",
   "id": "c9d85b3c",
   "metadata": {
    "papermill": {
     "duration": 0.00705,
     "end_time": "2023-10-30T16:15:56.193932",
     "exception": false,
     "start_time": "2023-10-30T16:15:56.186882",
     "status": "completed"
    },
    "tags": []
   },
   "source": [
    "#### Carga de datos"
   ]
  },
  {
   "cell_type": "code",
   "execution_count": 1,
   "id": "cfa020ed",
   "metadata": {
    "execution": {
     "iopub.execute_input": "2023-10-30T16:15:56.201260Z",
     "iopub.status.busy": "2023-10-30T16:15:56.199755Z",
     "iopub.status.idle": "2023-10-30T16:15:57.358280Z",
     "shell.execute_reply": "2023-10-30T16:15:57.358280Z"
    },
    "papermill": {
     "duration": 1.162342,
     "end_time": "2023-10-30T16:15:57.359278",
     "exception": false,
     "start_time": "2023-10-30T16:15:56.196936",
     "status": "completed"
    },
    "tags": []
   },
   "outputs": [
    {
     "name": "stdout",
     "output_type": "stream",
     "text": [
      "CPU_COUNT: 24; NODE: amilcar32; sys.version: 3.10.12 | packaged by Anaconda, Inc. | (main, Jul  5 2023, 19:09:20) [MSC v.1916 64 bit (AMD64)]\n",
      "LOKY_MAX_CPU_COUNT is not set.\n",
      "OMP_NUM_THREADS is not set.\n"
     ]
    }
   ],
   "source": [
    "import os\n",
    "import numpy as np\n",
    "import pandas as pd\n",
    "import datetime\n",
    "import sklearn\n",
    "import logging\n",
    "import warnings\n",
    "\n",
    "from sklearn.pipeline import Pipeline\n",
    "from sklearn.model_selection import RandomizedSearchCV, KFold, cross_val_score, train_test_split\n",
    "from sklearn.metrics import accuracy_score, confusion_matrix, classification_report, roc_auc_score\n",
    "\n",
    "#  cargar algoritmos para aprendizaje supervisado\n",
    "from sklearn.feature_selection import SelectKBest, f_classif, SelectFromModel, mutual_info_classif\n",
    "from sklearn.svm import SVC\n",
    "from sklearn.ensemble import RandomForestClassifier\n",
    "from sklearn.linear_model import LogisticRegression,LogisticRegressionCV\n",
    "\n",
    "# importar fichero con utilidades propias\n",
    "from commons import myfunctions as myfunc\n"
   ]
  },
  {
   "cell_type": "markdown",
   "id": "4ea5c79e",
   "metadata": {
    "papermill": {
     "duration": 0.0,
     "end_time": "2023-10-30T16:15:57.363301",
     "exception": false,
     "start_time": "2023-10-30T16:15:57.363301",
     "status": "completed"
    },
    "tags": []
   },
   "source": [
    "#### Parámetros a utilizar en el entrenamiento.\n",
    "\n",
    "Se indican los 3 algoritmos de *selección de características* (eval_selector_xxx) y los 3 algoritmos para la _clasificación_ (eval_clasifier_xxx)\n",
    "\n",
    "En *param_distributions* se indicar los parámetros que utilizan los algoritmos en la función RandomSearchCV.\n",
    "\n",
    "Esta celda tiene la etiqueta **parameters** que servirá para poder lanzar los entrenamientos con la utilidad **papermill** pasándole un fichero con los parámetros. Los nuevos parámetros se situarán tras esta celda para tener prevalencia."
   ]
  },
  {
   "cell_type": "code",
   "execution_count": 2,
   "id": "3a7c1099",
   "metadata": {
    "execution": {
     "iopub.execute_input": "2023-10-30T16:15:57.371316Z",
     "iopub.status.busy": "2023-10-30T16:15:57.371316Z",
     "iopub.status.idle": "2023-10-30T16:15:57.388889Z",
     "shell.execute_reply": "2023-10-30T16:15:57.388889Z"
    },
    "papermill": {
     "duration": 0.028094,
     "end_time": "2023-10-30T16:15:57.391395",
     "exception": false,
     "start_time": "2023-10-30T16:15:57.363301",
     "status": "completed"
    },
    "tags": [
     "parameters"
    ]
   },
   "outputs": [
    {
     "name": "stdout",
     "output_type": "stream",
     "text": [
      "20231030T171557 : amilcar32 : INFO : Utilizando parámetros de mul_m\n"
     ]
    }
   ],
   "source": [
    "#  Parametros para el entrenamiento\n",
    "\n",
    "SEMILLA=        42\n",
    "M_TIPO=         \"mul_m\"\n",
    "M_SELECT=       \"MI\"\n",
    "M_CLASIF=       \"SVM\"\n",
    "R_FICHERO=      \"resultados\"\n",
    "M_FICHERO=      \"metricas\"\n",
    "PRE_DATA_FILE=  \"rows_transpose_norm_by_gene_id_with_target_num_\"\n",
    "SCORING=        \"roc_auc_ovr\" \n",
    "MAX_ITERS=      100\n",
    "\n",
    "def mutual_info_classif_state(X, y):\n",
    "    return mutual_info_classif(X, y, random_state=SEMILLA)\n",
    "\n",
    "eval_selector_mi = \"SelectKBest(score_func=mutual_info_classif_state)\"\n",
    "eval_selector_rf=  \"SelectFromModel(estimator=RandomForestClassifier(random_state=SEMILLA), threshold=-np.inf)\"\n",
    "eval_selector_anova=  \"SelectKBest(score_func=f_classif)\"\n",
    "\n",
    "eval_clasifier_svm= \"SVC(probability=True, random_state=SEMILLA)\"\n",
    "eval_clasifier_rf= \"RandomForestClassifier(random_state=SEMILLA)\"\n",
    "eval_clasifier_lr= \"LogisticRegressionCV(random_state=SEMILLA)\"\n",
    "\n",
    "if M_TIPO.startswith(\"bin_m\"):\n",
    "    myfunc.verbose(f\"Utilizando parámetros de {M_TIPO}\")\n",
    "    eval_selector = eval_selector_mi\n",
    "    eval_clasifier = eval_clasifier_svm\n",
    "\n",
    "    SEMILLA = 6578\n",
    "    M_SELECT = \"MI\"\n",
    "    M_CLASIF = \"SVM\"\n",
    "    param_distributions = {'selector__k': [1000], \n",
    "         'clasifier__kernel': ['rbf'], 'clasifier__gamma': [0.01], 'clasifier__C': [100]}\n",
    "elif M_TIPO.startswith(\"bin_s\"):\n",
    "    myfunc.verbose(f\"Utilizando parámetros de {M_TIPO}\")\n",
    "    eval_selector = eval_selector_rf\n",
    "    eval_clasifier = eval_clasifier_lr\n",
    "\n",
    "    SEMILLA = 6191\n",
    "    M_SELECT = \"RF\"\n",
    "    M_CLASIF = \"LR_L2\"\n",
    "    param_distributions = {'selector__max_features': [1000], 'selector__estimator__n_estimators': [200], \n",
    "        'clasifier__solver': ['lbfgs'], 'clasifier__penalty': ['l2'], 'clasifier__max_iter': [10000]}\n",
    "\n",
    "elif M_TIPO.startswith(\"mul_m\"):\n",
    "    myfunc.verbose(f\"Utilizando parámetros de {M_TIPO}\")\n",
    " \n",
    "    eval_selector = eval_selector_rf\n",
    "    eval_clasifier = eval_clasifier_lr\n",
    "\n",
    "    SEMILLA = 6191\n",
    "    M_SELECT = \"RF\"\n",
    "    M_CLASIF = \"LR_L2\"\n",
    "    param_distributions = {'selector__max_features': [1000], 'selector__estimator__n_estimators': [400], \n",
    "        'clasifier__solver': ['lbfgs'], 'clasifier__penalty': ['l2'], 'clasifier__max_iter': [10000]}\n",
    "\n",
    "else:\n",
    "    # M_TIPO.startswith(\"mul_s\"):\n",
    "    myfunc.verbose(f\"Utilizando parámetros de {M_TIPO}\")\n",
    "    eval_selector = eval_selector_anova\n",
    "    eval_clasifier = eval_clasifier_lr\n",
    "\n",
    "    SEMILLA = 1860\n",
    "    M_SELECT = \"ANOVA\"\n",
    "    M_CLASIF = \"LR_L2\"\n",
    "    param_distributions = {'selector__k': [1000], \n",
    "        'clasifier__solver': ['saga'], 'clasifier__penalty': ['l2'], 'clasifier__max_iter': [10000]}\n",
    "\n"
   ]
  },
  {
   "cell_type": "code",
   "execution_count": 3,
   "id": "12bb89e5",
   "metadata": {
    "execution": {
     "iopub.execute_input": "2023-10-30T16:15:57.398399Z",
     "iopub.status.busy": "2023-10-30T16:15:57.398399Z",
     "iopub.status.idle": "2023-10-30T16:15:57.404072Z",
     "shell.execute_reply": "2023-10-30T16:15:57.404072Z"
    },
    "papermill": {
     "duration": 0.00968,
     "end_time": "2023-10-30T16:15:57.405079",
     "exception": false,
     "start_time": "2023-10-30T16:15:57.395399",
     "status": "completed"
    },
    "tags": [
     "injected-parameters"
    ]
   },
   "outputs": [],
   "source": [
    "# Parameters\n",
    "M_TIPO = \"mul_m\"\n",
    "M_SELECT = \"MI\"\n",
    "M_CLASIF = \"LR_L1\"\n",
    "P_FICHERO = \"param_0000_6578_mul_m_MI_LR_L1.yaml\"\n",
    "R_FICHERO = \"resultados_6578\"\n",
    "M_FICHERO = \"metricas_6578\"\n",
    "PRE_DATA_FILE = \"rows_transpose_norm_by_gene_id_with_target_num_\"\n",
    "SCORING = \"roc_auc_ovr\"\n",
    "SEMILLA = 6578\n",
    "MAX_ITERS = 500\n",
    "eval_selector = \"SelectKBest(score_func=mutual_info_classif_state)\"\n",
    "eval_clasifier = \"LogisticRegressionCV(random_state=SEMILLA)\"\n",
    "param_distributions = {\n",
    "    \"selector__k\": [1000],\n",
    "    \"clasifier__solver\": [\"saga\"],\n",
    "    \"clasifier__penalty\": [\"l1\"],\n",
    "    \"clasifier__max_iter\": [10000],\n",
    "}\n"
   ]
  },
  {
   "cell_type": "code",
   "execution_count": 4,
   "id": "49911e97",
   "metadata": {
    "execution": {
     "iopub.execute_input": "2023-10-30T16:15:57.413962Z",
     "iopub.status.busy": "2023-10-30T16:15:57.413962Z",
     "iopub.status.idle": "2023-10-30T16:15:57.419820Z",
     "shell.execute_reply": "2023-10-30T16:15:57.419820Z"
    },
    "papermill": {
     "duration": 0.012256,
     "end_time": "2023-10-30T16:15:57.421334",
     "exception": false,
     "start_time": "2023-10-30T16:15:57.409078",
     "status": "completed"
    },
    "tags": []
   },
   "outputs": [],
   "source": [
    "DATA_FILE = PRE_DATA_FILE + M_TIPO\n",
    "\n",
    "# si viene \"None\" en el parámetro max_depth, se le quitan las comillas para que no sea entendido por el algoritmo como un texto\n",
    "if \"clasifier__max_depth\" in param_distributions:\n",
    "    param_distributions['clasifier__max_depth'] = [None if x == 'None' else x for x in param_distributions['clasifier__max_depth']]"
   ]
  },
  {
   "cell_type": "markdown",
   "id": "8e00ff12",
   "metadata": {
    "papermill": {
     "duration": 0.003993,
     "end_time": "2023-10-30T16:15:57.429344",
     "exception": false,
     "start_time": "2023-10-30T16:15:57.425351",
     "status": "completed"
    },
    "tags": []
   },
   "source": [
    "Asignar los algoritmos que se utilizarán en la función RandomSearchCV"
   ]
  },
  {
   "cell_type": "code",
   "execution_count": 5,
   "id": "3c32f592",
   "metadata": {
    "execution": {
     "iopub.execute_input": "2023-10-30T16:15:57.436658Z",
     "iopub.status.busy": "2023-10-30T16:15:57.435665Z",
     "iopub.status.idle": "2023-10-30T16:15:57.452241Z",
     "shell.execute_reply": "2023-10-30T16:15:57.451325Z"
    },
    "papermill": {
     "duration": 0.021583,
     "end_time": "2023-10-30T16:15:57.454239",
     "exception": false,
     "start_time": "2023-10-30T16:15:57.432656",
     "status": "completed"
    },
    "tags": []
   },
   "outputs": [],
   "source": [
    "algor_selector=eval(eval_selector)\n",
    "algor_clasifier=eval(eval_clasifier)"
   ]
  },
  {
   "cell_type": "markdown",
   "id": "4ae4d3cf",
   "metadata": {
    "papermill": {
     "duration": 0.007116,
     "end_time": "2023-10-30T16:15:57.468362",
     "exception": false,
     "start_time": "2023-10-30T16:15:57.461246",
     "status": "completed"
    },
    "tags": []
   },
   "source": [
    "#### Comprobar el entorno y leer fichero de muestras"
   ]
  },
  {
   "cell_type": "code",
   "execution_count": 6,
   "id": "43110493",
   "metadata": {
    "execution": {
     "iopub.execute_input": "2023-10-30T16:15:57.476866Z",
     "iopub.status.busy": "2023-10-30T16:15:57.476866Z",
     "iopub.status.idle": "2023-10-30T16:15:57.652644Z",
     "shell.execute_reply": "2023-10-30T16:15:57.652644Z"
    },
    "papermill": {
     "duration": 0.180777,
     "end_time": "2023-10-30T16:15:57.653644",
     "exception": false,
     "start_time": "2023-10-30T16:15:57.472867",
     "status": "completed"
    },
    "tags": []
   },
   "outputs": [
    {
     "name": "stdout",
     "output_type": "stream",
     "text": [
      "20231030T171557 : amilcar32 : INFO : Encontrada carpeta DATA_DIR=..\\tfm_viu\\datos\n",
      "20231030T171557 : amilcar32 : INFO : Encontrada carpeta CFDNA_DIR=..\\tfm_viu\\datos\\cfDNA_5hmC\n",
      "20231030T171557 : amilcar32 : INFO : Encontrada carpeta GENCODE_DIR=..\\tfm_viu\\datos\\gencode\n",
      "20231030T171557 : amilcar32 : INFO : Encontrada carpeta H5_DIR=..\\tfm_viu\\datos\\h5\n",
      "20231030T171557 : amilcar32 : INFO : Encontrada carpeta LOG_DIR=..\\tfm_viu\\datos\\logs\n",
      "20231030T171557 : amilcar32 : INFO : Encontrada carpeta CSV_DIR=..\\tfm_viu\\datos\\csv\n",
      "20231030T171557 : amilcar32 : INFO : Encontrada carpeta MODEL_DIR=..\\tfm_viu\\ejecuciones\\modelos\n",
      "20231030T171557 : amilcar32 : INFO : Encontrada carpeta EXEC_DIR=..\\tfm_viu\\ejecuciones\n",
      "20231030T171557 : amilcar32 : INFO : Encontrada carpeta MET_DIR=..\\tfm_viu\\ejecuciones\\metricas\n",
      "20231030T171557 : amilcar32 : INFO : Inicio leer fichero h5 ..\\tfm_viu\\datos\\h5\\rows_transpose_norm_by_gene_id_with_target_num_mul_m.h5\n",
      "20231030T171557 : amilcar32 : INFO : Leyendo clave /df\n"
     ]
    },
    {
     "name": "stdout",
     "output_type": "stream",
     "text": [
      "20231030T171557 : amilcar32 : INFO : Tamaño (434, 18876)\n",
      "20231030T171557 : amilcar32 : INFO : Fin leer fichero h5 ..\\tfm_viu\\datos\\h5\\rows_transpose_norm_by_gene_id_with_target_num_mul_m.h5\n"
     ]
    },
    {
     "data": {
      "text/plain": [
       "target\n",
       "0    62\n",
       "1    62\n",
       "2    62\n",
       "3    62\n",
       "4    62\n",
       "5    62\n",
       "6    62\n",
       "dtype: int64"
      ]
     },
     "metadata": {},
     "output_type": "display_data"
    },
    {
     "name": "stdout",
     "output_type": "stream",
     "text": [
      "Shape df: (434, 18876)\n",
      "Shape X_train: (347, 18875)\n",
      "Shape X_test: (87, 18875)\n"
     ]
    }
   ],
   "source": [
    "start_time = datetime.datetime.now()\n",
    "\n",
    "myfunc.reset_vars()\n",
    "\n",
    "myfunc.NOTEBK_FILENAME = myfunc.get_nb_name()\n",
    "\n",
    "myfunc.check_enviroment(myfunc.DATA_DIR, myfunc.CFDNA_DIR, myfunc.GENCODE_DIR, myfunc.H5_DIR, myfunc.LOG_DIR, myfunc.CSV_DIR, myfunc.MODEL_DIR, myfunc.EXEC_DIR, myfunc.MET_DIR)\n",
    "\n",
    "# Leer fichero con las muestras\n",
    "df_t = myfunc.read_h5_to_df(DATA_FILE, myfunc.H5_DIR)\n",
    "display(df_t.groupby(\"target\").size())\n",
    "print(\"Shape df:\",df_t.shape)\n",
    "\n",
    "# Separar caracteristicas/genes de las etiquetas/tipos de cáncer\n",
    "X = df_t.iloc[:, :-1]  # Todas las columnas excepto la última\n",
    "y = df_t.iloc[:, -1]  # La última columna contiene los identificadores de los tipos de cáncer\n",
    "\n",
    "#  Crear el conjunto de datos de entrenamiento y de pruebas, y se fija la semilla para siempre coger el mismo juego de muestras\n",
    "X_train, X_test, y_train, y_test = train_test_split(X, y, test_size=0.2, shuffle=True, random_state=42)\n",
    "print(\"Shape X_train:\",X_train.shape)\n",
    "print(\"Shape X_test:\",X_test.shape)\n"
   ]
  },
  {
   "cell_type": "markdown",
   "id": "57ad8945",
   "metadata": {
    "papermill": {
     "duration": 0.003493,
     "end_time": "2023-10-30T16:15:57.661146",
     "exception": false,
     "start_time": "2023-10-30T16:15:57.657653",
     "status": "completed"
    },
    "tags": []
   },
   "source": [
    "#### Selección de características y clasificación."
   ]
  },
  {
   "cell_type": "code",
   "execution_count": 7,
   "id": "d15a7f75",
   "metadata": {
    "execution": {
     "iopub.execute_input": "2023-10-30T16:15:57.663282Z",
     "iopub.status.busy": "2023-10-30T16:15:57.663282Z",
     "iopub.status.idle": "2023-10-30T16:33:24.652921Z",
     "shell.execute_reply": "2023-10-30T16:33:24.651921Z"
    },
    "papermill": {
     "duration": 1046.991639,
     "end_time": "2023-10-30T16:33:24.654921",
     "exception": false,
     "start_time": "2023-10-30T16:15:57.663282",
     "status": "completed"
    },
    "tags": []
   },
   "outputs": [
    {
     "name": "stdout",
     "output_type": "stream",
     "text": [
      "20231030T171557 : amilcar32 : INFO : Iniciando entrenamiento\n",
      "num_iter: 1 , max_iter: 1\n"
     ]
    },
    {
     "name": "stdout",
     "output_type": "stream",
     "text": [
      "Fitting 5 folds for each of 1 candidates, totalling 5 fits\n"
     ]
    },
    {
     "name": "stdout",
     "output_type": "stream",
     "text": [
      "Mejores Hiperparámetros: {'selector__k': 1000, 'clasifier__solver': 'saga', 'clasifier__penalty': 'l1', 'clasifier__max_iter': 10000}\n",
      "Mejor Puntuación: 0.8753\n",
      "20231030T173324 : amilcar32 : INFO : Fin entrenamiento\n"
     ]
    }
   ],
   "source": [
    "myfunc.verbose(\"Iniciando entrenamiento\")\n",
    "\n",
    "kf = KFold(n_splits=5, shuffle=True, random_state=SEMILLA)\n",
    "\n",
    "# Crear el pipeline para el flujo de tareas\n",
    "tasks_pipeline = Pipeline([\n",
    "    ('selector', algor_selector),\n",
    "    ('clasifier', algor_clasifier)\n",
    "])\n",
    "\n",
    "# MAX_ITERS puede limitar el número de iteraciones si son excesivas para las combinaciones de parámetros buscando un óptimo local, \n",
    "# sino funcionaría como GridSearchCV al revisar todas las cominaciones de los parámetros\n",
    "num_iteraciones = 1\n",
    "num_iteraciones = num_iteraciones * np.prod([len(elemento1) for _, elemento1 in param_distributions.items()])\n",
    "max_iteraciones = num_iteraciones if num_iteraciones <= MAX_ITERS else MAX_ITERS\n",
    "print(\"num_iter:\",num_iteraciones,\", max_iter:\",max_iteraciones)\n",
    "\n",
    "random_search = RandomizedSearchCV(\n",
    "    tasks_pipeline, \n",
    "    param_distributions, \n",
    "    n_iter=max_iteraciones,\n",
    "    scoring=SCORING,\n",
    "    cv=kf,\n",
    "    verbose=3, \n",
    "    random_state=SEMILLA, \n",
    "    n_jobs=-1\n",
    "    )\n",
    "\n",
    "# Entrenar el modelo\n",
    "random_search.fit(X_train, y_train)\n",
    "\n",
    "# Ver los mejores hiperparámetros encontrados\n",
    "print(f'Mejores Hiperparámetros: {random_search.best_params_}')\n",
    "print(f'Mejor Puntuación: {random_search.best_score_:.4f}')\n",
    "\n",
    "# Nos quedamos con el mejor modelo para ver las métricas\n",
    "mejor_modelo = random_search.best_estimator_\n",
    "\n",
    "myfunc.verbose(\"Fin entrenamiento\")"
   ]
  },
  {
   "cell_type": "markdown",
   "id": "c9760541",
   "metadata": {
    "papermill": {
     "duration": 0.004018,
     "end_time": "2023-10-30T16:33:24.663400",
     "exception": false,
     "start_time": "2023-10-30T16:33:24.659382",
     "status": "completed"
    },
    "tags": []
   },
   "source": [
    "#### Guardar modelo"
   ]
  },
  {
   "cell_type": "code",
   "execution_count": 8,
   "id": "1e884908",
   "metadata": {
    "execution": {
     "iopub.execute_input": "2023-10-30T16:33:24.672916Z",
     "iopub.status.busy": "2023-10-30T16:33:24.672916Z",
     "iopub.status.idle": "2023-10-30T16:33:24.685808Z",
     "shell.execute_reply": "2023-10-30T16:33:24.685808Z"
    },
    "papermill": {
     "duration": 0.024496,
     "end_time": "2023-10-30T16:33:24.687896",
     "exception": false,
     "start_time": "2023-10-30T16:33:24.663400",
     "status": "completed"
    },
    "tags": []
   },
   "outputs": [
    {
     "name": "stdout",
     "output_type": "stream",
     "text": [
      "20231030T173324 : amilcar32 : INFO : Inicio guardar fichero ..\\tfm_viu\\ejecuciones\\modelos\\modelo_6578_mul_m_MI_LR_L1.pkl\n",
      "20231030T173324 : amilcar32 : INFO : Fin guardar fichero ..\\tfm_viu\\ejecuciones\\modelos\\modelo_6578_mul_m_MI_LR_L1.pkl\n"
     ]
    }
   ],
   "source": [
    "fichero_modelo = str.replace(\"modelo_\"+str(SEMILLA).zfill(4)+\"_\"+M_TIPO+\"_\"+M_SELECT+\"_\"+M_CLASIF+\".pkl\", \" \", \"_\")\n",
    "\n",
    "myfunc.save_modelo(mejor_modelo, myfunc.MODEL_DIR, fichero_modelo)"
   ]
  },
  {
   "cell_type": "markdown",
   "id": "9de9ac82",
   "metadata": {
    "papermill": {
     "duration": 0.00407,
     "end_time": "2023-10-30T16:33:24.694966",
     "exception": false,
     "start_time": "2023-10-30T16:33:24.690896",
     "status": "completed"
    },
    "tags": []
   },
   "source": [
    "#### Ver resultados del las iteraciones hechas por RandomSearchCV"
   ]
  },
  {
   "cell_type": "code",
   "execution_count": 9,
   "id": "b35ac02b",
   "metadata": {
    "execution": {
     "iopub.execute_input": "2023-10-30T16:33:24.702471Z",
     "iopub.status.busy": "2023-10-30T16:33:24.702471Z",
     "iopub.status.idle": "2023-10-30T16:33:24.717005Z",
     "shell.execute_reply": "2023-10-30T16:33:24.717005Z"
    },
    "papermill": {
     "duration": 0.020041,
     "end_time": "2023-10-30T16:33:24.718006",
     "exception": false,
     "start_time": "2023-10-30T16:33:24.697965",
     "status": "completed"
    },
    "tags": []
   },
   "outputs": [
    {
     "name": "stdout",
     "output_type": "stream",
     "text": [
      "20231030T173324 : amilcar32 : INFO : Inicio ver resultados\n",
      "Mejores Hiperparámetros: {'selector__k': 1000, 'clasifier__solver': 'saga', 'clasifier__penalty': 'l1', 'clasifier__max_iter': 10000}\n",
      "Mejores puntuaciones: 0.8753 | Params: {'selector__k': 1000, 'clasifier__solver': 'saga', 'clasifier__penalty': 'l1', 'clasifier__max_iter': 10000}\n",
      "Media de las puntuaciones: 0.8753 | Params: {'selector__k': 1000, 'clasifier__solver': 'saga', 'clasifier__penalty': 'l1', 'clasifier__max_iter': 10000}\n",
      "20231030T173324 : amilcar32 : INFO : Fin resultados\n"
     ]
    }
   ],
   "source": [
    "myfunc.ver_resultados_search(random_search)"
   ]
  },
  {
   "cell_type": "markdown",
   "id": "1f8a5ff3",
   "metadata": {
    "papermill": {
     "duration": 0.004003,
     "end_time": "2023-10-30T16:33:24.726224",
     "exception": false,
     "start_time": "2023-10-30T16:33:24.722221",
     "status": "completed"
    },
    "tags": []
   },
   "source": [
    "#### Ver métricas del mejor modelo"
   ]
  },
  {
   "cell_type": "code",
   "execution_count": 10,
   "id": "52d60d34",
   "metadata": {
    "execution": {
     "iopub.execute_input": "2023-10-30T16:33:24.734734Z",
     "iopub.status.busy": "2023-10-30T16:33:24.734734Z",
     "iopub.status.idle": "2023-10-30T16:33:25.235747Z",
     "shell.execute_reply": "2023-10-30T16:33:25.235747Z"
    },
    "papermill": {
     "duration": 0.508516,
     "end_time": "2023-10-30T16:33:25.237740",
     "exception": false,
     "start_time": "2023-10-30T16:33:24.729224",
     "status": "completed"
    },
    "tags": []
   },
   "outputs": [
    {
     "name": "stdout",
     "output_type": "stream",
     "text": [
      "20231030T173324 : amilcar32 : INFO : Inicio ver métricas multiclase\n"
     ]
    },
    {
     "name": "stdout",
     "output_type": "stream",
     "text": [
      "              precision    recall  f1-score   support\n",
      "\n",
      "           0       0.56      0.31      0.40        16\n",
      "           1       0.77      0.67      0.71        15\n",
      "           2       0.36      0.36      0.36        11\n",
      "           3       0.36      0.80      0.50         5\n",
      "           4       0.50      0.54      0.52        13\n",
      "           5       0.78      0.78      0.78         9\n",
      "           6       0.60      0.67      0.63        18\n",
      "\n",
      "    accuracy                           0.56        87\n",
      "   macro avg       0.56      0.59      0.56        87\n",
      "weighted avg       0.58      0.56      0.56        87\n",
      "\n",
      "\n",
      "\n",
      "           Exactitud: 0.563218\n",
      "   Precisión (media): 0.561405\n",
      "      Recall (media): 0.589387\n",
      "    F1-score (media): 0.557971\n",
      "\n",
      "\n",
      "AUC para el tipo de cáncer 0-Control.... 0.8574\n",
      "AUC para el tipo de cáncer 1-Bladder.... 0.8796\n",
      "AUC para el tipo de cáncer 2-Breast..... 0.7859\n",
      "AUC para el tipo de cáncer 3-Colorectal. 0.9756\n",
      "AUC para el tipo de cáncer 4-Kidney..... 0.8264\n",
      "AUC para el tipo de cáncer 5-Lung....... 0.8960\n",
      "AUC para el tipo de cáncer 6-Prostate... 0.8833\n",
      "\n",
      "Media de AUC: 0.8720\n"
     ]
    },
    {
     "data": {
      "image/png": "[encoded data removed]",
      "text/plain": [
       "<Figure size 1000x600 with 1 Axes>"
      ]
     },
     "metadata": {},
     "output_type": "display_data"
    },
    {
     "name": "stdout",
     "output_type": "stream",
     "text": [
      "\n",
      "\n"
     ]
    },
    {
     "data": {
      "image/png": "[encoded data removed]",
      "text/plain": [
       "<Figure size 800x400 with 2 Axes>"
      ]
     },
     "metadata": {},
     "output_type": "display_data"
    },
    {
     "name": "stdout",
     "output_type": "stream",
     "text": [
      "\n",
      "\n",
      "Puntuación Jaccard para el cáncer tipo 0-Control.... 0.2500\n",
      "Puntuación Jaccard para el cáncer tipo 1-Bladder.... 0.5556\n",
      "Puntuación Jaccard para el cáncer tipo 2-Breast..... 0.2222\n",
      "Puntuación Jaccard para el cáncer tipo 3-Colorectal. 0.3333\n",
      "Puntuación Jaccard para el cáncer tipo 4-Kidney..... 0.3500\n",
      "Puntuación Jaccard para el cáncer tipo 5-Lung....... 0.6364\n",
      "Puntuación Jaccard para el cáncer tipo 6-Prostate... 0.4615\n",
      "\n",
      "Media de la puntuación de Jaccard: 0.4013\n"
     ]
    }
   ],
   "source": [
    "if M_TIPO.startswith(\"bin\"):\n",
    "    myfunc.ver_metricas(mejor_modelo, X_test, y_test)\n",
    "else:\n",
    "    myfunc.ver_metricas_multi(mejor_modelo, X_test, y_test)\n"
   ]
  },
  {
   "cell_type": "markdown",
   "id": "bdbf8e82",
   "metadata": {
    "papermill": {
     "duration": 0.006001,
     "end_time": "2023-10-30T16:33:25.247787",
     "exception": false,
     "start_time": "2023-10-30T16:33:25.241786",
     "status": "completed"
    },
    "tags": []
   },
   "source": [
    "#### Finalización del notebook"
   ]
  },
  {
   "cell_type": "code",
   "execution_count": 11,
   "id": "6040bd1c",
   "metadata": {
    "execution": {
     "iopub.execute_input": "2023-10-30T16:33:25.258547Z",
     "iopub.status.busy": "2023-10-30T16:33:25.257546Z",
     "iopub.status.idle": "2023-10-30T16:33:25.271280Z",
     "shell.execute_reply": "2023-10-30T16:33:25.271077Z"
    },
    "papermill": {
     "duration": 0.019842,
     "end_time": "2023-10-30T16:33:25.272390",
     "exception": false,
     "start_time": "2023-10-30T16:33:25.252548",
     "status": "completed"
    },
    "tags": []
   },
   "outputs": [
    {
     "name": "stdout",
     "output_type": "stream",
     "text": [
      "20231030T173325 : amilcar32 : INFO : Notebook ha tardado 1047 seconds\n"
     ]
    }
   ],
   "source": [
    "end_time = datetime.datetime.now()\n",
    "total_time = end_time - start_time\n",
    "myfunc.verbose(f\"Notebook ha tardado {total_time.seconds} seconds\")"
   ]
  },
  {
   "cell_type": "markdown",
   "id": "9f5b6bea",
   "metadata": {
    "papermill": {
     "duration": 0.005631,
     "end_time": "2023-10-30T16:33:25.285032",
     "exception": false,
     "start_time": "2023-10-30T16:33:25.279401",
     "status": "completed"
    },
    "tags": []
   },
   "source": [
    "#### Guardar métricas"
   ]
  },
  {
   "cell_type": "code",
   "execution_count": 12,
   "id": "a28ff38b",
   "metadata": {
    "execution": {
     "iopub.execute_input": "2023-10-30T16:33:25.295696Z",
     "iopub.status.busy": "2023-10-30T16:33:25.295696Z",
     "iopub.status.idle": "2023-10-30T16:33:25.486399Z",
     "shell.execute_reply": "2023-10-30T16:33:25.486399Z"
    },
    "papermill": {
     "duration": 0.198317,
     "end_time": "2023-10-30T16:33:25.487487",
     "exception": false,
     "start_time": "2023-10-30T16:33:25.289170",
     "status": "completed"
    },
    "tags": []
   },
   "outputs": [
    {
     "name": "stdout",
     "output_type": "stream",
     "text": [
      "20231030T173325 : amilcar32 : INFO : Inicio guardar métricas multiclase\n",
      "20231030T173325 : amilcar32 : INFO : Inicio leer fichero ..\\tfm_viu\\ejecuciones\\metricas\\metricas_6578.csv\n",
      "20231030T173325 : amilcar32 : INFO : Fin leer fichero ..\\tfm_viu\\ejecuciones\\metricas\\metricas_6578.csv\n"
     ]
    },
    {
     "name": "stdout",
     "output_type": "stream",
     "text": [
      "20231030T173325 : amilcar32 : INFO : Inicio guardar fichero ..\\tfm_viu\\ejecuciones\\metricas\\metricas_6578.csv\n"
     ]
    },
    {
     "name": "stdout",
     "output_type": "stream",
     "text": [
      "20231030T173325 : amilcar32 : INFO : Fichero borrado ..\\tfm_viu\\ejecuciones\\metricas\\metricas_6578.csv\n",
      "20231030T173325 : amilcar32 : INFO : Fin guardar fichero ..\\tfm_viu\\ejecuciones\\metricas\\metricas_6578.csv\n",
      "20231030T173325 : amilcar32 : INFO : Fin guardar métricas multiclase\n",
      "20231030T173325 : amilcar32 : INFO : Inicio leer fichero ..\\tfm_viu\\ejecuciones\\metricas\\metricas_6578.csv\n",
      "20231030T173325 : amilcar32 : INFO : Fin leer fichero ..\\tfm_viu\\ejecuciones\\metricas\\metricas_6578.csv\n"
     ]
    },
    {
     "data": {
      "text/html": [
       "<div>\n",
       "<style scoped>\n",
       "    .dataframe tbody tr th:only-of-type {\n",
       "        vertical-align: middle;\n",
       "    }\n",
       "\n",
       "    .dataframe tbody tr th {\n",
       "        vertical-align: top;\n",
       "    }\n",
       "\n",
       "    .dataframe thead th {\n",
       "        text-align: right;\n",
       "    }\n",
       "</style>\n",
       "<table border=\"1\" class=\"dataframe\">\n",
       "  <thead>\n",
       "    <tr style=\"text-align: right;\">\n",
       "      <th></th>\n",
       "      <th>tipo</th>\n",
       "      <th>select</th>\n",
       "      <th>clasific</th>\n",
       "      <th>semilla</th>\n",
       "      <th>accuracy</th>\n",
       "      <th>precision</th>\n",
       "      <th>recall</th>\n",
       "      <th>f1_score</th>\n",
       "      <th>roc_auc</th>\n",
       "      <th>hostname</th>\n",
       "      <th>total_time_sec</th>\n",
       "      <th>datetime</th>\n",
       "      <th>fichero_modelo</th>\n",
       "      <th>params</th>\n",
       "      <th>shape</th>\n",
       "      <th>features</th>\n",
       "      <th>roc_auc_ovr</th>\n",
       "      <th>indices_auc</th>\n",
       "      <th>indices_jaccard</th>\n",
       "    </tr>\n",
       "  </thead>\n",
       "  <tbody>\n",
       "    <tr>\n",
       "      <th>0</th>\n",
       "      <td>mul_m</td>\n",
       "      <td>MI</td>\n",
       "      <td>LR_L1</td>\n",
       "      <td>6578</td>\n",
       "      <td>0.563218</td>\n",
       "      <td>0.561405</td>\n",
       "      <td>0.589387</td>\n",
       "      <td>0.557971</td>\n",
       "      <td>NaN</td>\n",
       "      <td>amilcar32</td>\n",
       "      <td>1047</td>\n",
       "      <td>2023-10-30 17:33:25.450112</td>\n",
       "      <td>modelo_6578_mul_m_MI_LR_L1.pkl</td>\n",
       "      <td>{'selector__k': 1000, 'clasifier__solver': 'sa...</td>\n",
       "      <td>X_test:(87, 18875)</td>\n",
       "      <td>['ENSG00000001084.13', 'ENSG00000001460.18', '...</td>\n",
       "      <td>0.872027</td>\n",
       "      <td>[0.8573943661971831, 0.8796296296296297, 0.785...</td>\n",
       "      <td>[0.25, 0.5555555555555556, 0.2222222222222222,...</td>\n",
       "    </tr>\n",
       "    <tr>\n",
       "      <th>0</th>\n",
       "      <td>mul_m</td>\n",
       "      <td>MI</td>\n",
       "      <td>LR_EN</td>\n",
       "      <td>6578</td>\n",
       "      <td>0.597701</td>\n",
       "      <td>0.605733</td>\n",
       "      <td>0.617638</td>\n",
       "      <td>0.593517</td>\n",
       "      <td>NaN</td>\n",
       "      <td>amilcar32</td>\n",
       "      <td>977</td>\n",
       "      <td>2023-10-30 17:15:53.009642</td>\n",
       "      <td>modelo_6578_mul_m_MI_LR_EN.pkl</td>\n",
       "      <td>{'selector__k': 1000, 'clasifier__solver': 'sa...</td>\n",
       "      <td>X_test:(87, 18875)</td>\n",
       "      <td>['ENSG00000001084.13', 'ENSG00000001460.18', '...</td>\n",
       "      <td>0.881566</td>\n",
       "      <td>[0.8820422535211268, 0.8833333333333333, 0.796...</td>\n",
       "      <td>[0.4444444444444444, 0.5, 0.21052631578947367,...</td>\n",
       "    </tr>\n",
       "    <tr>\n",
       "      <th>0</th>\n",
       "      <td>mul_m</td>\n",
       "      <td>ANOVA</td>\n",
       "      <td>SVM</td>\n",
       "      <td>6578</td>\n",
       "      <td>0.448276</td>\n",
       "      <td>0.466514</td>\n",
       "      <td>0.477284</td>\n",
       "      <td>0.454199</td>\n",
       "      <td>NaN</td>\n",
       "      <td>amilcar32</td>\n",
       "      <td>2</td>\n",
       "      <td>2023-10-30 16:59:30.108284</td>\n",
       "      <td>modelo_6578_mul_m_ANOVA_SVM.pkl</td>\n",
       "      <td>{'selector__k': 500, 'clasifier__kernel': 'rbf...</td>\n",
       "      <td>X_test:(87, 18875)</td>\n",
       "      <td>['ENSG00000000938.13', 'ENSG00000004660.15', '...</td>\n",
       "      <td>0.817545</td>\n",
       "      <td>[0.7200704225352113, 0.8842592592592592, 0.588...</td>\n",
       "      <td>[0.17391304347826086, 0.42105263157894735, 0.1...</td>\n",
       "    </tr>\n",
       "  </tbody>\n",
       "</table>\n",
       "</div>"
      ],
      "text/plain": [
       "    tipo select clasific  semilla  accuracy  precision    recall  f1_score  \\\n",
       "0  mul_m     MI    LR_L1     6578  0.563218   0.561405  0.589387  0.557971   \n",
       "0  mul_m     MI    LR_EN     6578  0.597701   0.605733  0.617638  0.593517   \n",
       "0  mul_m  ANOVA      SVM     6578  0.448276   0.466514  0.477284  0.454199   \n",
       "\n",
       "   roc_auc   hostname  total_time_sec                    datetime  \\\n",
       "0      NaN  amilcar32            1047  2023-10-30 17:33:25.450112   \n",
       "0      NaN  amilcar32             977  2023-10-30 17:15:53.009642   \n",
       "0      NaN  amilcar32               2  2023-10-30 16:59:30.108284   \n",
       "\n",
       "                    fichero_modelo  \\\n",
       "0   modelo_6578_mul_m_MI_LR_L1.pkl   \n",
       "0   modelo_6578_mul_m_MI_LR_EN.pkl   \n",
       "0  modelo_6578_mul_m_ANOVA_SVM.pkl   \n",
       "\n",
       "                                              params               shape  \\\n",
       "0  {'selector__k': 1000, 'clasifier__solver': 'sa...  X_test:(87, 18875)   \n",
       "0  {'selector__k': 1000, 'clasifier__solver': 'sa...  X_test:(87, 18875)   \n",
       "0  {'selector__k': 500, 'clasifier__kernel': 'rbf...  X_test:(87, 18875)   \n",
       "\n",
       "                                            features  roc_auc_ovr  \\\n",
       "0  ['ENSG00000001084.13', 'ENSG00000001460.18', '...     0.872027   \n",
       "0  ['ENSG00000001084.13', 'ENSG00000001460.18', '...     0.881566   \n",
       "0  ['ENSG00000000938.13', 'ENSG00000004660.15', '...     0.817545   \n",
       "\n",
       "                                         indices_auc  \\\n",
       "0  [0.8573943661971831, 0.8796296296296297, 0.785...   \n",
       "0  [0.8820422535211268, 0.8833333333333333, 0.796...   \n",
       "0  [0.7200704225352113, 0.8842592592592592, 0.588...   \n",
       "\n",
       "                                     indices_jaccard  \n",
       "0  [0.25, 0.5555555555555556, 0.2222222222222222,...  \n",
       "0  [0.4444444444444444, 0.5, 0.21052631578947367,...  \n",
       "0  [0.17391304347826086, 0.42105263157894735, 0.1...  "
      ]
     },
     "metadata": {},
     "output_type": "display_data"
    }
   ],
   "source": [
    "if M_TIPO.startswith(\"bin\"):\n",
    "    myfunc.save_metricas_to_csv(random_search, X_test, y_test, M_TIPO, M_SELECT, M_CLASIF, total_time, SEMILLA, myfunc.MET_DIR, M_FICHERO, fichero_modelo)\n",
    "else:\n",
    "    myfunc.save_metricas_multi_to_csv(random_search, X_test, y_test, M_TIPO, M_SELECT, M_CLASIF, total_time, SEMILLA, myfunc.MET_DIR, M_FICHERO, fichero_modelo)\n",
    "\n",
    "df1=myfunc.read_metricas_to_df(myfunc.MET_DIR,M_FICHERO)\n",
    "\n",
    "display(df1.sort_values(\"datetime\", ascending=False)[:3])\n"
   ]
  },
  {
   "cell_type": "markdown",
   "id": "30eae9f4",
   "metadata": {
    "papermill": {
     "duration": 0.005004,
     "end_time": "2023-10-30T16:33:25.498016",
     "exception": false,
     "start_time": "2023-10-30T16:33:25.493012",
     "status": "completed"
    },
    "tags": []
   },
   "source": [
    "#### Guardar resultados"
   ]
  },
  {
   "cell_type": "code",
   "execution_count": 13,
   "id": "606316db",
   "metadata": {
    "execution": {
     "iopub.execute_input": "2023-10-30T16:33:25.509523Z",
     "iopub.status.busy": "2023-10-30T16:33:25.509523Z",
     "iopub.status.idle": "2023-10-30T16:33:25.516711Z",
     "shell.execute_reply": "2023-10-30T16:33:25.516711Z"
    },
    "papermill": {
     "duration": 0.014187,
     "end_time": "2023-10-30T16:33:25.517710",
     "exception": false,
     "start_time": "2023-10-30T16:33:25.503523",
     "status": "completed"
    },
    "tags": []
   },
   "outputs": [
    {
     "name": "stdout",
     "output_type": "stream",
     "text": [
      "20231030T173325 : amilcar32 : INFO : Inicio guardar resultados\n",
      "20231030T173325 : amilcar32 : INFO : Inicio guardar fichero ..\\tfm_viu\\ejecuciones\\metricas\\resultados_6578_mul_m-MI-LR_L1.csv\n",
      "20231030T173325 : amilcar32 : INFO : Fin guardar fichero ..\\tfm_viu\\ejecuciones\\metricas\\resultados_6578_mul_m-MI-LR_L1.csv\n",
      "20231030T173325 : amilcar32 : INFO : Fin guardar resultados\n"
     ]
    }
   ],
   "source": [
    "fichero_resultados=R_FICHERO+\"_\"+M_TIPO+\"-\"+M_SELECT+\"-\"+M_CLASIF+\".csv\"\n",
    "myfunc.save_resultados_to_csv(M_TIPO, M_SELECT, M_CLASIF,  random_search, myfunc.MET_DIR, fichero_resultados)\n"
   ]
  }
 ],
 "metadata": {
  "kernelspec": {
   "display_name": "Python 3 (ipykernel)",
   "language": "python",
   "name": "python3"
  },
  "language_info": {
   "codemirror_mode": {
    "name": "ipython",
    "version": 3
   },
   "file_extension": ".py",
   "mimetype": "text/x-python",
   "name": "python",
   "nbconvert_exporter": "python",
   "pygments_lexer": "ipython3",
   "version": "3.10.12"
  },
  "papermill": {
   "default_parameters": {},
   "duration": 1051.641876,
   "end_time": "2023-10-30T16:33:25.950835",
   "environment_variables": {},
   "exception": null,
   "input_path": "03_entrenamiento.ipynb",
   "output_path": "ejecuciones\\training\\03_entrenamiento.20231030T171553.param_0000_6578_mul_m_MI_LR_L1.output.ipynb",
   "parameters": {
    "MAX_ITERS": 500,
    "M_CLASIF": "LR_L1",
    "M_FICHERO": "metricas_6578",
    "M_SELECT": "MI",
    "M_TIPO": "mul_m",
    "PRE_DATA_FILE": "rows_transpose_norm_by_gene_id_with_target_num_",
    "P_FICHERO": "param_0000_6578_mul_m_MI_LR_L1.yaml",
    "R_FICHERO": "resultados_6578",
    "SCORING": "roc_auc_ovr",
    "SEMILLA": 6578,
    "eval_clasifier": "LogisticRegressionCV(random_state=SEMILLA)",
    "eval_selector": "SelectKBest(score_func=mutual_info_classif_state)",
    "param_distributions": {
     "clasifier__max_iter": [
      10000
     ],
     "clasifier__penalty": [
      "l1"
     ],
     "clasifier__solver": [
      "saga"
     ],
     "selector__k": [
      1000
     ]
    }
   },
   "start_time": "2023-10-30T16:15:54.308959",
   "version": "2.4.0"
  }
 },
 "nbformat": 4,
 "nbformat_minor": 5
}