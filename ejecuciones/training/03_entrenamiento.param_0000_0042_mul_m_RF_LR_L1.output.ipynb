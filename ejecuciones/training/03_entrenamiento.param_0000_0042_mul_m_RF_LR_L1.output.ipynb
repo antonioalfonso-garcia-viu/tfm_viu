{
 "cells": [
  {
   "cell_type": "markdown",
   "id": "98802383",
   "metadata": {
    "papermill": {
     "duration": 0.003126,
     "end_time": "2023-10-27T20:54:07.606021",
     "exception": false,
     "start_time": "2023-10-27T20:54:07.602895",
     "status": "completed"
    },
    "tags": []
   },
   "source": [
    "##### Inicio"
   ]
  },
  {
   "cell_type": "markdown",
   "id": "11794de8",
   "metadata": {
    "papermill": {
     "duration": 0.002314,
     "end_time": "2023-10-27T20:54:07.610930",
     "exception": false,
     "start_time": "2023-10-27T20:54:07.608616",
     "status": "completed"
    },
    "tags": []
   },
   "source": [
    "#### Carga de datos"
   ]
  },
  {
   "cell_type": "code",
   "execution_count": 1,
   "id": "20726091",
   "metadata": {
    "execution": {
     "iopub.execute_input": "2023-10-27T20:54:07.616801Z",
     "iopub.status.busy": "2023-10-27T20:54:07.616582Z",
     "iopub.status.idle": "2023-10-27T20:54:08.481027Z",
     "shell.execute_reply": "2023-10-27T20:54:08.480502Z"
    },
    "papermill": {
     "duration": 0.869067,
     "end_time": "2023-10-27T20:54:08.482387",
     "exception": false,
     "start_time": "2023-10-27T20:54:07.613320",
     "status": "completed"
    },
    "tags": []
   },
   "outputs": [
    {
     "name": "stdout",
     "output_type": "stream",
     "text": [
      "CPU_COUNT: 8; NODE: amilcar22; sys.version: 3.10.12 (main, Jul  5 2023, 19:22:19) [GCC 11.2.0]\n",
      "LOKY_MAX_CPU_COUNT: 6\n",
      "OMP_NUM_THREADS: 2\n"
     ]
    }
   ],
   "source": [
    "import os\n",
    "import numpy as np\n",
    "import pandas as pd\n",
    "import datetime\n",
    "import sklearn\n",
    "import logging\n",
    "import warnings\n",
    "\n",
    "from sklearn.pipeline import Pipeline\n",
    "from sklearn.model_selection import RandomizedSearchCV, KFold, cross_val_score, train_test_split\n",
    "from sklearn.metrics import accuracy_score, confusion_matrix, classification_report, roc_auc_score\n",
    "\n",
    "#  cargar algoritmos para aprendizaje supervisado\n",
    "from sklearn.feature_selection import SelectKBest, f_classif, SelectFromModel, mutual_info_classif\n",
    "from sklearn.svm import SVC\n",
    "from sklearn.ensemble import RandomForestClassifier\n",
    "from sklearn.linear_model import LogisticRegression,LogisticRegressionCV\n",
    "\n",
    "# importar fichero con utilidades propias\n",
    "from commons import myfunctions as myfunc\n"
   ]
  },
  {
   "cell_type": "markdown",
   "id": "d455e44c",
   "metadata": {
    "papermill": {
     "duration": 0.002728,
     "end_time": "2023-10-27T20:54:08.488208",
     "exception": false,
     "start_time": "2023-10-27T20:54:08.485480",
     "status": "completed"
    },
    "tags": []
   },
   "source": [
    "#### Parámetros a utilizar en el entrenamiento.\n",
    "\n",
    "Se indican los 3 algoritmos de *selección de características* (eval_selector_xxx) y los 3 algoritmos para la _clasificación_ (eval_clasifier_xxx)\n",
    "\n",
    "En *param_distributions* se indicar los parámetros que utilizan los algoritmos en la función RandomSearchCV.\n",
    "\n",
    "Esta celda tiene la etiqueta **parameters** que servirá para poder lanzar los entrenamientos con la utilidad **papermill** pasándole un fichero con los parámetros. Los nuevos parámetros se situarán tras esta celda para tener prevalencia."
   ]
  },
  {
   "cell_type": "code",
   "execution_count": 2,
   "id": "0a11d111",
   "metadata": {
    "execution": {
     "iopub.execute_input": "2023-10-27T20:54:08.494182Z",
     "iopub.status.busy": "2023-10-27T20:54:08.493894Z",
     "iopub.status.idle": "2023-10-27T20:54:08.500828Z",
     "shell.execute_reply": "2023-10-27T20:54:08.500402Z"
    },
    "papermill": {
     "duration": 0.011428,
     "end_time": "2023-10-27T20:54:08.502109",
     "exception": false,
     "start_time": "2023-10-27T20:54:08.490681",
     "status": "completed"
    },
    "tags": [
     "parameters"
    ]
   },
   "outputs": [
    {
     "name": "stdout",
     "output_type": "stream",
     "text": [
      "20231027T225408 : amilcar22 : INFO : Utilizando parámetros de mul_m\n"
     ]
    }
   ],
   "source": [
    "#  Parametros para el entrenamiento\n",
    "\n",
    "SEMILLA=        42\n",
    "M_TIPO=         \"mul_m\"\n",
    "M_SELECT=       \"MI\"\n",
    "M_CLASIF=       \"SVM\"\n",
    "R_FICHERO=      \"resultados\"\n",
    "M_FICHERO=      \"metricas\"\n",
    "PRE_DATA_FILE=  \"rows_transpose_norm_by_gene_id_with_target_num_\"\n",
    "SCORING=        \"roc_auc_ovr\" \n",
    "MAX_ITERS=      100\n",
    "\n",
    "def mutual_info_classif_state(X, y):\n",
    "    return mutual_info_classif(X, y, random_state=SEMILLA)\n",
    "\n",
    "eval_selector_mi = \"SelectKBest(score_func=mutual_info_classif_state)\"\n",
    "eval_selector_rf=  \"SelectFromModel(estimator=RandomForestClassifier(random_state=SEMILLA), threshold=-np.inf)\"\n",
    "eval_selector_anova=  \"SelectKBest(score_func=f_classif)\"\n",
    "\n",
    "eval_clasifier_svm= \"SVC(probability=True, random_state=SEMILLA)\"\n",
    "eval_clasifier_rf= \"RandomForestClassifier(random_state=SEMILLA)\"\n",
    "eval_clasifier_lr= \"LogisticRegressionCV(random_state=SEMILLA)\"\n",
    "\n",
    "if M_TIPO.startswith(\"bin_m\"):\n",
    "    myfunc.verbose(f\"Utilizando parámetros de {M_TIPO}\")\n",
    "    eval_selector = eval_selector_mi\n",
    "    eval_clasifier = eval_clasifier_svm\n",
    "\n",
    "    SEMILLA = 6578\n",
    "    M_SELECT = \"MI\"\n",
    "    M_CLASIF = \"SVM\"\n",
    "    param_distributions = {'selector__k': [1000], \n",
    "         'clasifier__kernel': ['rbf'], 'clasifier__gamma': [0.01], 'clasifier__C': [100]}\n",
    "elif M_TIPO.startswith(\"bin_s\"):\n",
    "    myfunc.verbose(f\"Utilizando parámetros de {M_TIPO}\")\n",
    "    eval_selector = eval_selector_rf\n",
    "    eval_clasifier = eval_clasifier_lr\n",
    "\n",
    "    SEMILLA = 6191\n",
    "    M_SELECT = \"RF\"\n",
    "    M_CLASIF = \"LR_L2\"\n",
    "    param_distributions = {'selector__max_features': [1000], 'selector__estimator__n_estimators': [200], \n",
    "        'clasifier__solver': ['lbfgs'], 'clasifier__penalty': ['l2'], 'clasifier__max_iter': [10000]}\n",
    "\n",
    "elif M_TIPO.startswith(\"mul_m\"):\n",
    "    myfunc.verbose(f\"Utilizando parámetros de {M_TIPO}\")\n",
    " \n",
    "    eval_selector = eval_selector_rf\n",
    "    eval_clasifier = eval_clasifier_lr\n",
    "\n",
    "    SEMILLA = 6191\n",
    "    M_SELECT = \"RF\"\n",
    "    M_CLASIF = \"LR_L2\"\n",
    "    param_distributions = {'selector__max_features': [1000], 'selector__estimator__n_estimators': [400], \n",
    "        'clasifier__solver': ['lbfgs'], 'clasifier__penalty': ['l2'], 'clasifier__max_iter': [10000]}\n",
    "\n",
    "else:\n",
    "    # M_TIPO.startswith(\"mul_s\"):\n",
    "    myfunc.verbose(f\"Utilizando parámetros de {M_TIPO}\")\n",
    "    eval_selector = eval_selector_anova\n",
    "    eval_clasifier = eval_clasifier_lr\n",
    "\n",
    "    SEMILLA = 1860\n",
    "    M_SELECT = \"ANOVA\"\n",
    "    M_CLASIF = \"LR_L2\"\n",
    "    param_distributions = {'selector__k': [1000], \n",
    "        'clasifier__solver': ['saga'], 'clasifier__penalty': ['l2'], 'clasifier__max_iter': [10000]}\n",
    "\n"
   ]
  },
  {
   "cell_type": "code",
   "execution_count": 3,
   "id": "1470513f",
   "metadata": {
    "execution": {
     "iopub.execute_input": "2023-10-27T20:54:08.508315Z",
     "iopub.status.busy": "2023-10-27T20:54:08.508124Z",
     "iopub.status.idle": "2023-10-27T20:54:08.511943Z",
     "shell.execute_reply": "2023-10-27T20:54:08.511499Z"
    },
    "papermill": {
     "duration": 0.00831,
     "end_time": "2023-10-27T20:54:08.513205",
     "exception": false,
     "start_time": "2023-10-27T20:54:08.504895",
     "status": "completed"
    },
    "tags": [
     "injected-parameters"
    ]
   },
   "outputs": [],
   "source": [
    "# Parameters\n",
    "M_TIPO = \"mul_m\"\n",
    "M_SELECT = \"RF\"\n",
    "M_CLASIF = \"LR_L1\"\n",
    "P_FICHERO = \"param_0000_0042_mul_m_RF_LR_L1.yaml\"\n",
    "R_FICHERO = \"resultados_0042\"\n",
    "M_FICHERO = \"metricas_0042\"\n",
    "PRE_DATA_FILE = \"rows_transpose_norm_by_gene_id_with_target_num_\"\n",
    "SCORING = \"roc_auc_ovr\"\n",
    "SEMILLA = 42\n",
    "MAX_ITERS = 500\n",
    "eval_selector = \"SelectFromModel(estimator=RandomForestClassifier(random_state=SEMILLA), threshold=-np.inf)\"\n",
    "eval_clasifier = \"LogisticRegressionCV(random_state=SEMILLA)\"\n",
    "param_distributions = {\n",
    "    \"selector__max_features\": [1000],\n",
    "    \"selector__estimator__n_estimators\": [400],\n",
    "    \"clasifier__solver\": [\"saga\"],\n",
    "    \"clasifier__penalty\": [\"l1\"],\n",
    "    \"clasifier__max_iter\": [10000],\n",
    "}\n"
   ]
  },
  {
   "cell_type": "code",
   "execution_count": 4,
   "id": "48fc2bea",
   "metadata": {
    "execution": {
     "iopub.execute_input": "2023-10-27T20:54:08.519155Z",
     "iopub.status.busy": "2023-10-27T20:54:08.518986Z",
     "iopub.status.idle": "2023-10-27T20:54:08.521987Z",
     "shell.execute_reply": "2023-10-27T20:54:08.521499Z"
    },
    "papermill": {
     "duration": 0.007292,
     "end_time": "2023-10-27T20:54:08.523100",
     "exception": false,
     "start_time": "2023-10-27T20:54:08.515808",
     "status": "completed"
    },
    "tags": []
   },
   "outputs": [],
   "source": [
    "DATA_FILE = PRE_DATA_FILE + M_TIPO\n",
    "\n",
    "# si viene \"None\" en el parámetro max_depth, se le quitan las comillas para que no sea entendido por el algoritmo como un texto\n",
    "if \"clasifier__max_depth\" in param_distributions:\n",
    "    param_distributions['clasifier__max_depth'] = [None if x == 'None' else x for x in param_distributions['clasifier__max_depth']]"
   ]
  },
  {
   "cell_type": "markdown",
   "id": "715a2106",
   "metadata": {
    "papermill": {
     "duration": 0.002581,
     "end_time": "2023-10-27T20:54:08.528312",
     "exception": false,
     "start_time": "2023-10-27T20:54:08.525731",
     "status": "completed"
    },
    "tags": []
   },
   "source": [
    "Asignar los algoritmos que se utilizarán en la función RandomSearchCV"
   ]
  },
  {
   "cell_type": "code",
   "execution_count": 5,
   "id": "11c24329",
   "metadata": {
    "execution": {
     "iopub.execute_input": "2023-10-27T20:54:08.534209Z",
     "iopub.status.busy": "2023-10-27T20:54:08.534032Z",
     "iopub.status.idle": "2023-10-27T20:54:08.536982Z",
     "shell.execute_reply": "2023-10-27T20:54:08.536445Z"
    },
    "papermill": {
     "duration": 0.007363,
     "end_time": "2023-10-27T20:54:08.538274",
     "exception": false,
     "start_time": "2023-10-27T20:54:08.530911",
     "status": "completed"
    },
    "tags": []
   },
   "outputs": [],
   "source": [
    "algor_selector=eval(eval_selector)\n",
    "algor_clasifier=eval(eval_clasifier)"
   ]
  },
  {
   "cell_type": "markdown",
   "id": "75bc2277",
   "metadata": {
    "papermill": {
     "duration": 0.003357,
     "end_time": "2023-10-27T20:54:08.544953",
     "exception": false,
     "start_time": "2023-10-27T20:54:08.541596",
     "status": "completed"
    },
    "tags": []
   },
   "source": [
    "#### Comprobar el entorno y leer fichero de muestras"
   ]
  },
  {
   "cell_type": "code",
   "execution_count": 6,
   "id": "26fa99b7",
   "metadata": {
    "execution": {
     "iopub.execute_input": "2023-10-27T20:54:08.552276Z",
     "iopub.status.busy": "2023-10-27T20:54:08.552095Z",
     "iopub.status.idle": "2023-10-27T20:54:08.713756Z",
     "shell.execute_reply": "2023-10-27T20:54:08.713255Z"
    },
    "papermill": {
     "duration": 0.166704,
     "end_time": "2023-10-27T20:54:08.714986",
     "exception": false,
     "start_time": "2023-10-27T20:54:08.548282",
     "status": "completed"
    },
    "tags": []
   },
   "outputs": [
    {
     "name": "stdout",
     "output_type": "stream",
     "text": [
      "20231027T225408 : amilcar22 : INFO : Encontrada carpeta DATA_DIR=../tfm_git/datos\n",
      "20231027T225408 : amilcar22 : INFO : Encontrada carpeta CFDNA_DIR=../tfm_git/datos/cfDNA_5hmC\n",
      "20231027T225408 : amilcar22 : INFO : Encontrada carpeta GENCODE_DIR=../tfm_git/datos/gencode\n",
      "20231027T225408 : amilcar22 : INFO : Encontrada carpeta H5_DIR=../tfm_git/datos/h5\n",
      "20231027T225408 : amilcar22 : INFO : Encontrada carpeta LOG_DIR=../tfm_git/datos/logs\n",
      "20231027T225408 : amilcar22 : INFO : Encontrada carpeta CSV_DIR=../tfm_git/datos/csv\n",
      "20231027T225408 : amilcar22 : INFO : Encontrada carpeta MODEL_DIR=../tfm_git/ejecuciones/modelos\n",
      "20231027T225408 : amilcar22 : INFO : Encontrada carpeta EXEC_DIR=../tfm_git/ejecuciones\n",
      "20231027T225408 : amilcar22 : INFO : Encontrada carpeta MET_DIR=../tfm_git/ejecuciones/metricas\n",
      "20231027T225408 : amilcar22 : INFO : Inicio leer fichero h5 ../tfm_git/datos/h5/rows_transpose_norm_by_gene_id_with_target_num_mul_m.h5\n",
      "20231027T225408 : amilcar22 : INFO : Leyendo clave /df\n",
      "20231027T225408 : amilcar22 : INFO : Tamaño (434, 18876)\n",
      "20231027T225408 : amilcar22 : INFO : Fin leer fichero h5 ../tfm_git/datos/h5/rows_transpose_norm_by_gene_id_with_target_num_mul_m.h5\n"
     ]
    },
    {
     "data": {
      "text/plain": [
       "target\n",
       "0    62\n",
       "1    62\n",
       "2    62\n",
       "3    62\n",
       "4    62\n",
       "5    62\n",
       "6    62\n",
       "dtype: int64"
      ]
     },
     "metadata": {},
     "output_type": "display_data"
    },
    {
     "name": "stdout",
     "output_type": "stream",
     "text": [
      "Shape df: (434, 18876)\n",
      "Shape X_train: (347, 18875)\n",
      "Shape X_test: (87, 18875)\n"
     ]
    }
   ],
   "source": [
    "start_time = datetime.datetime.now()\n",
    "\n",
    "myfunc.reset_vars()\n",
    "\n",
    "myfunc.NOTEBK_FILENAME = myfunc.get_nb_name()\n",
    "\n",
    "myfunc.check_enviroment(myfunc.DATA_DIR, myfunc.CFDNA_DIR, myfunc.GENCODE_DIR, myfunc.H5_DIR, myfunc.LOG_DIR, myfunc.CSV_DIR, myfunc.MODEL_DIR, myfunc.EXEC_DIR, myfunc.MET_DIR)\n",
    "\n",
    "# Leer fichero con las muestras\n",
    "df_t = myfunc.read_h5_to_df(DATA_FILE, myfunc.H5_DIR)\n",
    "display(df_t.groupby(\"target\").size())\n",
    "print(\"Shape df:\",df_t.shape)\n",
    "\n",
    "# Separar caracteristicas/genes de las etiquetas/tipos de cáncer\n",
    "X = df_t.iloc[:, :-1]  # Todas las columnas excepto la última\n",
    "y = df_t.iloc[:, -1]  # La última columna contiene los identificadores de los tipos de cáncer\n",
    "\n",
    "#  Crear el conjunto de datos de entrenamiento y de pruebas\n",
    "X_train, X_test, y_train, y_test = train_test_split(X, y, test_size=0.2, shuffle=True, random_state=SEMILLA)\n",
    "print(\"Shape X_train:\",X_train.shape)\n",
    "print(\"Shape X_test:\",X_test.shape)\n"
   ]
  },
  {
   "cell_type": "markdown",
   "id": "1dbeee8b",
   "metadata": {
    "papermill": {
     "duration": 0.002835,
     "end_time": "2023-10-27T20:54:08.721060",
     "exception": false,
     "start_time": "2023-10-27T20:54:08.718225",
     "status": "completed"
    },
    "tags": []
   },
   "source": [
    "#### Selección de características y clasificación."
   ]
  },
  {
   "cell_type": "code",
   "execution_count": 7,
   "id": "561f736d",
   "metadata": {
    "execution": {
     "iopub.execute_input": "2023-10-27T20:54:08.727501Z",
     "iopub.status.busy": "2023-10-27T20:54:08.727305Z",
     "iopub.status.idle": "2023-10-27T21:27:09.620613Z",
     "shell.execute_reply": "2023-10-27T21:27:09.620017Z"
    },
    "papermill": {
     "duration": 1980.900635,
     "end_time": "2023-10-27T21:27:09.624494",
     "exception": false,
     "start_time": "2023-10-27T20:54:08.723859",
     "status": "completed"
    },
    "tags": []
   },
   "outputs": [
    {
     "name": "stdout",
     "output_type": "stream",
     "text": [
      "20231027T225408 : amilcar22 : INFO : Iniciando entrenamiento\n",
      "num_iter: 1 , max_iter: 1\n",
      "Fitting 5 folds for each of 1 candidates, totalling 5 fits\n"
     ]
    },
    {
     "name": "stdout",
     "output_type": "stream",
     "text": [
      "[CV 1/5] END clasifier__max_iter=10000, clasifier__penalty=l1, clasifier__solver=saga, selector__estimator__n_estimators=400, selector__max_features=1000;, score=0.840 total time=13.4min\n"
     ]
    },
    {
     "name": "stdout",
     "output_type": "stream",
     "text": [
      "[CV 5/5] END clasifier__max_iter=10000, clasifier__penalty=l1, clasifier__solver=saga, selector__estimator__n_estimators=400, selector__max_features=1000;, score=0.888 total time=13.4min\n"
     ]
    },
    {
     "name": "stdout",
     "output_type": "stream",
     "text": [
      "[CV 3/5] END clasifier__max_iter=10000, clasifier__penalty=l1, clasifier__solver=saga, selector__estimator__n_estimators=400, selector__max_features=1000;, score=0.895 total time=13.7min\n"
     ]
    },
    {
     "name": "stdout",
     "output_type": "stream",
     "text": [
      "[CV 2/5] END clasifier__max_iter=10000, clasifier__penalty=l1, clasifier__solver=saga, selector__estimator__n_estimators=400, selector__max_features=1000;, score=0.886 total time=17.1min\n"
     ]
    },
    {
     "name": "stdout",
     "output_type": "stream",
     "text": [
      "[CV 4/5] END clasifier__max_iter=10000, clasifier__penalty=l1, clasifier__solver=saga, selector__estimator__n_estimators=400, selector__max_features=1000;, score=0.861 total time=17.9min\n"
     ]
    },
    {
     "name": "stdout",
     "output_type": "stream",
     "text": [
      "Mejores Hiperparámetros: {'selector__max_features': 1000, 'selector__estimator__n_estimators': 400, 'clasifier__solver': 'saga', 'clasifier__penalty': 'l1', 'clasifier__max_iter': 10000}\n",
      "Mejor Puntuación: 0.8740\n",
      "20231027T232709 : amilcar22 : INFO : Fin entrenamiento\n"
     ]
    }
   ],
   "source": [
    "myfunc.verbose(\"Iniciando entrenamiento\")\n",
    "\n",
    "kf = KFold(n_splits=5, shuffle=True, random_state=SEMILLA)\n",
    "\n",
    "# Crear el pipeline para el flujo de tareas\n",
    "tasks_pipeline = Pipeline([\n",
    "    ('selector', algor_selector),\n",
    "    ('clasifier', algor_clasifier)\n",
    "])\n",
    "\n",
    "# MAX_ITERS puede limitar el número de iteraciones si son excesivas para las combinaciones de parámetros buscando un óptimo local, \n",
    "# sino funcionaría como GridSearchCV al revisar todas las cominaciones de los parámetros\n",
    "num_iteraciones = 1\n",
    "num_iteraciones = num_iteraciones * np.prod([len(elemento1) for _, elemento1 in param_distributions.items()])\n",
    "max_iteraciones = num_iteraciones if num_iteraciones <= MAX_ITERS else MAX_ITERS\n",
    "print(\"num_iter:\",num_iteraciones,\", max_iter:\",max_iteraciones)\n",
    "\n",
    "random_search = RandomizedSearchCV(\n",
    "    tasks_pipeline, \n",
    "    param_distributions, \n",
    "    n_iter=max_iteraciones,\n",
    "    scoring=SCORING,\n",
    "    cv=kf,\n",
    "    verbose=3, \n",
    "    random_state=SEMILLA, \n",
    "    n_jobs=-1\n",
    "    )\n",
    "\n",
    "# Entrenar el modelo\n",
    "random_search.fit(X_train, y_train)\n",
    "\n",
    "# Ver los mejores hiperparámetros encontrados\n",
    "print(f'Mejores Hiperparámetros: {random_search.best_params_}')\n",
    "print(f'Mejor Puntuación: {random_search.best_score_:.4f}')\n",
    "\n",
    "# Nos quedamos con el mejor modelo para ver las métricas\n",
    "mejor_modelo = random_search.best_estimator_\n",
    "\n",
    "myfunc.verbose(\"Fin entrenamiento\")"
   ]
  },
  {
   "cell_type": "markdown",
   "id": "16a41eea",
   "metadata": {
    "papermill": {
     "duration": 0.003086,
     "end_time": "2023-10-27T21:27:09.630716",
     "exception": false,
     "start_time": "2023-10-27T21:27:09.627630",
     "status": "completed"
    },
    "tags": []
   },
   "source": [
    "#### Guardar modelo"
   ]
  },
  {
   "cell_type": "code",
   "execution_count": 8,
   "id": "f22c8d3d",
   "metadata": {
    "execution": {
     "iopub.execute_input": "2023-10-27T21:27:09.637758Z",
     "iopub.status.busy": "2023-10-27T21:27:09.637564Z",
     "iopub.status.idle": "2023-10-27T21:27:09.776219Z",
     "shell.execute_reply": "2023-10-27T21:27:09.775625Z"
    },
    "papermill": {
     "duration": 0.143846,
     "end_time": "2023-10-27T21:27:09.777599",
     "exception": false,
     "start_time": "2023-10-27T21:27:09.633753",
     "status": "completed"
    },
    "tags": []
   },
   "outputs": [
    {
     "name": "stdout",
     "output_type": "stream",
     "text": [
      "20231027T232709 : amilcar22 : INFO : Inicio guardar fichero ../tfm_git/ejecuciones/modelos/modelo_0042_mul_m_RF_LR_L1.pkl\n",
      "20231027T232709 : amilcar22 : INFO : Fin guardar fichero ../tfm_git/ejecuciones/modelos/modelo_0042_mul_m_RF_LR_L1.pkl\n"
     ]
    }
   ],
   "source": [
    "fichero_modelo = str.replace(\"modelo_\"+str(SEMILLA).zfill(4)+\"_\"+M_TIPO+\"_\"+M_SELECT+\"_\"+M_CLASIF+\".pkl\", \" \", \"_\")\n",
    "\n",
    "myfunc.save_modelo(mejor_modelo, myfunc.MODEL_DIR, fichero_modelo)"
   ]
  },
  {
   "cell_type": "markdown",
   "id": "d4c1dc20",
   "metadata": {
    "papermill": {
     "duration": 0.003231,
     "end_time": "2023-10-27T21:27:09.784506",
     "exception": false,
     "start_time": "2023-10-27T21:27:09.781275",
     "status": "completed"
    },
    "tags": []
   },
   "source": [
    "#### Ver resultados del las iteraciones hechas por RandomSearchCV"
   ]
  },
  {
   "cell_type": "code",
   "execution_count": 9,
   "id": "b212c75e",
   "metadata": {
    "execution": {
     "iopub.execute_input": "2023-10-27T21:27:09.791532Z",
     "iopub.status.busy": "2023-10-27T21:27:09.791330Z",
     "iopub.status.idle": "2023-10-27T21:27:09.797348Z",
     "shell.execute_reply": "2023-10-27T21:27:09.796900Z"
    },
    "papermill": {
     "duration": 0.010985,
     "end_time": "2023-10-27T21:27:09.798557",
     "exception": false,
     "start_time": "2023-10-27T21:27:09.787572",
     "status": "completed"
    },
    "tags": []
   },
   "outputs": [
    {
     "name": "stdout",
     "output_type": "stream",
     "text": [
      "20231027T232709 : amilcar22 : INFO : Inicio ver resultados\n",
      "Mejores Hiperparámetros: {'selector__max_features': 1000, 'selector__estimator__n_estimators': 400, 'clasifier__solver': 'saga', 'clasifier__penalty': 'l1', 'clasifier__max_iter': 10000}\n",
      "Mejores puntuaciones: 0.8740 | Params: {'selector__max_features': 1000, 'selector__estimator__n_estimators': 400, 'clasifier__solver': 'saga', 'clasifier__penalty': 'l1', 'clasifier__max_iter': 10000}\n",
      "Media de las puntuaciones: 0.8740 | Params: {'selector__max_features': 1000, 'selector__estimator__n_estimators': 400, 'clasifier__solver': 'saga', 'clasifier__penalty': 'l1', 'clasifier__max_iter': 10000}\n",
      "20231027T232709 : amilcar22 : INFO : Fin resultados\n"
     ]
    }
   ],
   "source": [
    "myfunc.ver_resultados_search(random_search)"
   ]
  },
  {
   "cell_type": "markdown",
   "id": "b7dea89a",
   "metadata": {
    "papermill": {
     "duration": 0.003277,
     "end_time": "2023-10-27T21:27:09.805287",
     "exception": false,
     "start_time": "2023-10-27T21:27:09.802010",
     "status": "completed"
    },
    "tags": []
   },
   "source": [
    "#### Ver métricas del mejor modelo"
   ]
  },
  {
   "cell_type": "code",
   "execution_count": 10,
   "id": "68969445",
   "metadata": {
    "execution": {
     "iopub.execute_input": "2023-10-27T21:27:09.812435Z",
     "iopub.status.busy": "2023-10-27T21:27:09.812237Z",
     "iopub.status.idle": "2023-10-27T21:27:10.774558Z",
     "shell.execute_reply": "2023-10-27T21:27:10.774025Z"
    },
    "papermill": {
     "duration": 0.967335,
     "end_time": "2023-10-27T21:27:10.775881",
     "exception": false,
     "start_time": "2023-10-27T21:27:09.808546",
     "status": "completed"
    },
    "tags": []
   },
   "outputs": [
    {
     "name": "stdout",
     "output_type": "stream",
     "text": [
      "20231027T232709 : amilcar22 : INFO : Inicio ver métricas multiclase\n"
     ]
    },
    {
     "name": "stdout",
     "output_type": "stream",
     "text": [
      "              precision    recall  f1-score   support\n",
      "\n",
      "           0       0.46      0.38      0.41        16\n",
      "           1       0.69      0.60      0.64        15\n",
      "           2       0.33      0.36      0.35        11\n",
      "           3       0.23      0.60      0.33         5\n",
      "           4       0.58      0.54      0.56        13\n",
      "           5       0.64      0.78      0.70         9\n",
      "           6       0.69      0.50      0.58        18\n",
      "\n",
      "    accuracy                           0.52        87\n",
      "   macro avg       0.52      0.54      0.51        87\n",
      "weighted avg       0.56      0.52      0.53        87\n",
      "\n",
      "\n",
      "\n",
      "           Exactitud: 0.517241\n",
      "   Precisión (media): 0.518565\n",
      "      Recall (media): 0.536411\n",
      "    F1-score (media): 0.511208\n",
      "\n",
      "\n",
      "AUC para el tipo de cáncer 0-Control.... 0.7597\n",
      "AUC para el tipo de cáncer 1-Bladder.... 0.8361\n",
      "AUC para el tipo de cáncer 2-Breast..... 0.7536\n",
      "AUC para el tipo de cáncer 3-Colorectal. 0.8171\n",
      "AUC para el tipo de cáncer 4-Kidney..... 0.8940\n",
      "AUC para el tipo de cáncer 5-Lung....... 0.9687\n",
      "AUC para el tipo de cáncer 6-Prostate... 0.8736\n",
      "\n",
      "Media de AUC: 0.8432\n"
     ]
    },
    {
     "data": {
      "image/png": "[encoded data removed]",
      "text/plain": [
       "<Figure size 1000x600 with 1 Axes>"
      ]
     },
     "metadata": {},
     "output_type": "display_data"
    },
    {
     "name": "stdout",
     "output_type": "stream",
     "text": [
      "\n",
      "\n"
     ]
    },
    {
     "data": {
      "image/png": "[encoded data removed]",
      "text/plain": [
       "<Figure size 800x400 with 2 Axes>"
      ]
     },
     "metadata": {},
     "output_type": "display_data"
    },
    {
     "name": "stdout",
     "output_type": "stream",
     "text": [
      "\n",
      "\n",
      "Puntuación Jaccard para el cáncer tipo 0-Control.... 0.2609\n",
      "Puntuación Jaccard para el cáncer tipo 1-Bladder.... 0.4737\n",
      "Puntuación Jaccard para el cáncer tipo 2-Breast..... 0.2105\n",
      "Puntuación Jaccard para el cáncer tipo 3-Colorectal. 0.2000\n",
      "Puntuación Jaccard para el cáncer tipo 4-Kidney..... 0.3889\n",
      "Puntuación Jaccard para el cáncer tipo 5-Lung....... 0.5385\n",
      "Puntuación Jaccard para el cáncer tipo 6-Prostate... 0.4091\n",
      "\n",
      "Media de la puntuación de Jaccard: 0.3545\n"
     ]
    }
   ],
   "source": [
    "if M_TIPO.startswith(\"bin\"):\n",
    "    myfunc.ver_metricas(mejor_modelo, X_test, y_test)\n",
    "else:\n",
    "    myfunc.ver_metricas_multi(mejor_modelo, X_test, y_test)\n"
   ]
  },
  {
   "cell_type": "markdown",
   "id": "55536284",
   "metadata": {
    "papermill": {
     "duration": 0.004529,
     "end_time": "2023-10-27T21:27:10.785519",
     "exception": false,
     "start_time": "2023-10-27T21:27:10.780990",
     "status": "completed"
    },
    "tags": []
   },
   "source": [
    "#### Finalización del notebook"
   ]
  },
  {
   "cell_type": "code",
   "execution_count": 11,
   "id": "4fb47a36",
   "metadata": {
    "execution": {
     "iopub.execute_input": "2023-10-27T21:27:10.795082Z",
     "iopub.status.busy": "2023-10-27T21:27:10.794869Z",
     "iopub.status.idle": "2023-10-27T21:27:10.798455Z",
     "shell.execute_reply": "2023-10-27T21:27:10.798014Z"
    },
    "papermill": {
     "duration": 0.009769,
     "end_time": "2023-10-27T21:27:10.799658",
     "exception": false,
     "start_time": "2023-10-27T21:27:10.789889",
     "status": "completed"
    },
    "tags": []
   },
   "outputs": [
    {
     "name": "stdout",
     "output_type": "stream",
     "text": [
      "20231027T232710 : amilcar22 : INFO : Notebook ha tardado 1982 seconds\n"
     ]
    }
   ],
   "source": [
    "end_time = datetime.datetime.now()\n",
    "total_time = end_time - start_time\n",
    "myfunc.verbose(f\"Notebook ha tardado {total_time.seconds} seconds\")"
   ]
  },
  {
   "cell_type": "markdown",
   "id": "beda065c",
   "metadata": {
    "papermill": {
     "duration": 0.004455,
     "end_time": "2023-10-27T21:27:10.808648",
     "exception": false,
     "start_time": "2023-10-27T21:27:10.804193",
     "status": "completed"
    },
    "tags": []
   },
   "source": [
    "#### Guardar métricas"
   ]
  },
  {
   "cell_type": "code",
   "execution_count": 12,
   "id": "c38108a6",
   "metadata": {
    "execution": {
     "iopub.execute_input": "2023-10-27T21:27:10.818172Z",
     "iopub.status.busy": "2023-10-27T21:27:10.817978Z",
     "iopub.status.idle": "2023-10-27T21:27:11.634144Z",
     "shell.execute_reply": "2023-10-27T21:27:11.633620Z"
    },
    "papermill": {
     "duration": 0.822345,
     "end_time": "2023-10-27T21:27:11.635392",
     "exception": false,
     "start_time": "2023-10-27T21:27:10.813047",
     "status": "completed"
    },
    "tags": []
   },
   "outputs": [
    {
     "name": "stdout",
     "output_type": "stream",
     "text": [
      "20231027T232711 : amilcar22 : INFO : Inicio guardar métricas multiclase\n",
      "20231027T232711 : amilcar22 : INFO : Inicio leer fichero ../tfm_git/ejecuciones/metricas/metricas_0042.csv\n",
      "20231027T232711 : amilcar22 : INFO : Fin leer fichero ../tfm_git/ejecuciones/metricas/metricas_0042.csv\n"
     ]
    },
    {
     "name": "stdout",
     "output_type": "stream",
     "text": [
      "20231027T232711 : amilcar22 : INFO : Inicio guardar fichero ../tfm_git/ejecuciones/metricas/metricas_0042.csv\n",
      "20231027T232711 : amilcar22 : INFO : Fichero borrado ../tfm_git/ejecuciones/metricas/metricas_0042.csv\n",
      "20231027T232711 : amilcar22 : INFO : Fin guardar fichero ../tfm_git/ejecuciones/metricas/metricas_0042.csv\n",
      "20231027T232711 : amilcar22 : INFO : Fin guardar métricas multiclase\n",
      "20231027T232711 : amilcar22 : INFO : Inicio leer fichero ../tfm_git/ejecuciones/metricas/metricas_0042.csv\n",
      "20231027T232711 : amilcar22 : INFO : Fin leer fichero ../tfm_git/ejecuciones/metricas/metricas_0042.csv\n"
     ]
    },
    {
     "data": {
      "text/html": [
       "<div>\n",
       "<style scoped>\n",
       "    .dataframe tbody tr th:only-of-type {\n",
       "        vertical-align: middle;\n",
       "    }\n",
       "\n",
       "    .dataframe tbody tr th {\n",
       "        vertical-align: top;\n",
       "    }\n",
       "\n",
       "    .dataframe thead th {\n",
       "        text-align: right;\n",
       "    }\n",
       "</style>\n",
       "<table border=\"1\" class=\"dataframe\">\n",
       "  <thead>\n",
       "    <tr style=\"text-align: right;\">\n",
       "      <th></th>\n",
       "      <th>tipo</th>\n",
       "      <th>select</th>\n",
       "      <th>clasific</th>\n",
       "      <th>accuracy</th>\n",
       "      <th>precision</th>\n",
       "      <th>recall</th>\n",
       "      <th>f1_score</th>\n",
       "      <th>roc_auc</th>\n",
       "      <th>roc_auc_ovr</th>\n",
       "      <th>hostname</th>\n",
       "      <th>total_time_sec</th>\n",
       "      <th>datetime</th>\n",
       "      <th>fichero_modelo</th>\n",
       "      <th>params</th>\n",
       "      <th>shape</th>\n",
       "      <th>features</th>\n",
       "      <th>semilla</th>\n",
       "      <th>indices_auc</th>\n",
       "      <th>indices_jaccard</th>\n",
       "    </tr>\n",
       "  </thead>\n",
       "  <tbody>\n",
       "    <tr>\n",
       "      <th>0</th>\n",
       "      <td>mul_m</td>\n",
       "      <td>RF</td>\n",
       "      <td>LR_L1</td>\n",
       "      <td>0.517241</td>\n",
       "      <td>0.518565</td>\n",
       "      <td>0.536411</td>\n",
       "      <td>0.511208</td>\n",
       "      <td>NaN</td>\n",
       "      <td>0.843240</td>\n",
       "      <td>amilcar22</td>\n",
       "      <td>1982</td>\n",
       "      <td>2023-10-27 23:27:11.586169</td>\n",
       "      <td>modelo_0042_mul_m_RF_LR_L1.pkl</td>\n",
       "      <td>{'selector__max_features': 1000, 'selector__es...</td>\n",
       "      <td>X_test:(87, 18875)</td>\n",
       "      <td>['ENSG00000000938.13', 'ENSG00000003989.18', '...</td>\n",
       "      <td>42.0</td>\n",
       "      <td>[0.7596830985915493, 0.836111111111111, 0.7535...</td>\n",
       "      <td>[0.2608695652173913, 0.47368421052631576, 0.21...</td>\n",
       "    </tr>\n",
       "    <tr>\n",
       "      <th>0</th>\n",
       "      <td>mul_m</td>\n",
       "      <td>RF</td>\n",
       "      <td>LR_EN</td>\n",
       "      <td>0.563218</td>\n",
       "      <td>0.559808</td>\n",
       "      <td>0.573789</td>\n",
       "      <td>0.554391</td>\n",
       "      <td>NaN</td>\n",
       "      <td>0.854150</td>\n",
       "      <td>amilcar22</td>\n",
       "      <td>1802</td>\n",
       "      <td>2023-10-27 22:54:02.478467</td>\n",
       "      <td>modelo_0042_mul_m_RF_LR_EN.pkl</td>\n",
       "      <td>{'selector__max_features': 1000, 'selector__es...</td>\n",
       "      <td>X_test:(87, 18875)</td>\n",
       "      <td>['ENSG00000000938.13', 'ENSG00000003989.18', '...</td>\n",
       "      <td>42.0</td>\n",
       "      <td>[0.7658450704225352, 0.8472222222222222, 0.767...</td>\n",
       "      <td>[0.3181818181818182, 0.5263157894736842, 0.222...</td>\n",
       "    </tr>\n",
       "    <tr>\n",
       "      <th>0</th>\n",
       "      <td>mul_m</td>\n",
       "      <td>MI</td>\n",
       "      <td>SVM</td>\n",
       "      <td>0.563218</td>\n",
       "      <td>0.578811</td>\n",
       "      <td>0.598360</td>\n",
       "      <td>0.580664</td>\n",
       "      <td>NaN</td>\n",
       "      <td>0.836018</td>\n",
       "      <td>amilcar22</td>\n",
       "      <td>204</td>\n",
       "      <td>2023-10-27 22:23:53.329578</td>\n",
       "      <td>modelo_0042_mul_m_MI_SVM.pkl</td>\n",
       "      <td>{'selector__k': 1000, 'clasifier__kernel': 'rb...</td>\n",
       "      <td>X_test:(87, 18875)</td>\n",
       "      <td>['ENSG00000001084.13', 'ENSG00000001460.18', '...</td>\n",
       "      <td>42.0</td>\n",
       "      <td>[0.8125, 0.8148148148148148, 0.711722488038277...</td>\n",
       "      <td>[0.2727272727272727, 0.4444444444444444, 0.25,...</td>\n",
       "    </tr>\n",
       "  </tbody>\n",
       "</table>\n",
       "</div>"
      ],
      "text/plain": [
       "    tipo select clasific  accuracy  precision    recall  f1_score  roc_auc  \\\n",
       "0  mul_m     RF    LR_L1  0.517241   0.518565  0.536411  0.511208      NaN   \n",
       "0  mul_m     RF    LR_EN  0.563218   0.559808  0.573789  0.554391      NaN   \n",
       "0  mul_m     MI      SVM  0.563218   0.578811  0.598360  0.580664      NaN   \n",
       "\n",
       "   roc_auc_ovr   hostname  total_time_sec                    datetime  \\\n",
       "0     0.843240  amilcar22            1982  2023-10-27 23:27:11.586169   \n",
       "0     0.854150  amilcar22            1802  2023-10-27 22:54:02.478467   \n",
       "0     0.836018  amilcar22             204  2023-10-27 22:23:53.329578   \n",
       "\n",
       "                   fichero_modelo  \\\n",
       "0  modelo_0042_mul_m_RF_LR_L1.pkl   \n",
       "0  modelo_0042_mul_m_RF_LR_EN.pkl   \n",
       "0    modelo_0042_mul_m_MI_SVM.pkl   \n",
       "\n",
       "                                              params               shape  \\\n",
       "0  {'selector__max_features': 1000, 'selector__es...  X_test:(87, 18875)   \n",
       "0  {'selector__max_features': 1000, 'selector__es...  X_test:(87, 18875)   \n",
       "0  {'selector__k': 1000, 'clasifier__kernel': 'rb...  X_test:(87, 18875)   \n",
       "\n",
       "                                            features  semilla  \\\n",
       "0  ['ENSG00000000938.13', 'ENSG00000003989.18', '...     42.0   \n",
       "0  ['ENSG00000000938.13', 'ENSG00000003989.18', '...     42.0   \n",
       "0  ['ENSG00000001084.13', 'ENSG00000001460.18', '...     42.0   \n",
       "\n",
       "                                         indices_auc  \\\n",
       "0  [0.7596830985915493, 0.836111111111111, 0.7535...   \n",
       "0  [0.7658450704225352, 0.8472222222222222, 0.767...   \n",
       "0  [0.8125, 0.8148148148148148, 0.711722488038277...   \n",
       "\n",
       "                                     indices_jaccard  \n",
       "0  [0.2608695652173913, 0.47368421052631576, 0.21...  \n",
       "0  [0.3181818181818182, 0.5263157894736842, 0.222...  \n",
       "0  [0.2727272727272727, 0.4444444444444444, 0.25,...  "
      ]
     },
     "metadata": {},
     "output_type": "display_data"
    }
   ],
   "source": [
    "if M_TIPO.startswith(\"bin\"):\n",
    "    myfunc.save_metricas_to_csv(random_search, X_test, y_test, M_TIPO, M_SELECT, M_CLASIF, total_time, SEMILLA, myfunc.MET_DIR, M_FICHERO, fichero_modelo)\n",
    "else:\n",
    "    myfunc.save_metricas_multi_to_csv(random_search, X_test, y_test, M_TIPO, M_SELECT, M_CLASIF, total_time, SEMILLA, myfunc.MET_DIR, M_FICHERO, fichero_modelo)\n",
    "\n",
    "df1=myfunc.read_metricas_to_df(myfunc.MET_DIR,M_FICHERO)\n",
    "\n",
    "display(df1.sort_values(\"datetime\", ascending=False)[:3])\n"
   ]
  },
  {
   "cell_type": "markdown",
   "id": "4d0b0c29",
   "metadata": {
    "papermill": {
     "duration": 0.004722,
     "end_time": "2023-10-27T21:27:11.645515",
     "exception": false,
     "start_time": "2023-10-27T21:27:11.640793",
     "status": "completed"
    },
    "tags": []
   },
   "source": [
    "#### Guardar resultados"
   ]
  },
  {
   "cell_type": "code",
   "execution_count": 13,
   "id": "80e346f4",
   "metadata": {
    "execution": {
     "iopub.execute_input": "2023-10-27T21:27:11.662580Z",
     "iopub.status.busy": "2023-10-27T21:27:11.662329Z",
     "iopub.status.idle": "2023-10-27T21:27:11.671307Z",
     "shell.execute_reply": "2023-10-27T21:27:11.670857Z"
    },
    "papermill": {
     "duration": 0.022339,
     "end_time": "2023-10-27T21:27:11.672637",
     "exception": false,
     "start_time": "2023-10-27T21:27:11.650298",
     "status": "completed"
    },
    "tags": []
   },
   "outputs": [
    {
     "name": "stdout",
     "output_type": "stream",
     "text": [
      "20231027T232711 : amilcar22 : INFO : Inicio guardar resultados\n",
      "20231027T232711 : amilcar22 : INFO : Inicio guardar fichero ../tfm_git/ejecuciones/metricas/resultados_0042_mul_m-RF-LR_L1.csv\n",
      "20231027T232711 : amilcar22 : INFO : Fin guardar fichero ../tfm_git/ejecuciones/metricas/resultados_0042_mul_m-RF-LR_L1.csv\n",
      "20231027T232711 : amilcar22 : INFO : Fin guardar resultados\n"
     ]
    }
   ],
   "source": [
    "fichero_resultados=R_FICHERO+\"_\"+M_TIPO+\"-\"+M_SELECT+\"-\"+M_CLASIF+\".csv\"\n",
    "myfunc.save_resultados_to_csv(M_TIPO, M_SELECT, M_CLASIF,  random_search, myfunc.MET_DIR, fichero_resultados)\n"
   ]
  }
 ],
 "metadata": {
  "kernelspec": {
   "display_name": "Python 3 (ipykernel)",
   "language": "python",
   "name": "python3"
  },
  "language_info": {
   "codemirror_mode": {
    "name": "ipython",
    "version": 3
   },
   "file_extension": ".py",
   "mimetype": "text/x-python",
   "name": "python",
   "nbconvert_exporter": "python",
   "pygments_lexer": "ipython3",
   "version": "3.10.12"
  },
  "papermill": {
   "default_parameters": {},
   "duration": 1987.615041,
   "end_time": "2023-10-27T21:27:14.297103",
   "environment_variables": {},
   "exception": null,
   "input_path": "03_entrenamiento.ipynb",
   "output_path": "ejecuciones/training/03_entrenamiento.20231027T225406.param_0000_0042_mul_m_RF_LR_L1.output.ipynb",
   "parameters": {
    "MAX_ITERS": 500,
    "M_CLASIF": "LR_L1",
    "M_FICHERO": "metricas_0042",
    "M_SELECT": "RF",
    "M_TIPO": "mul_m",
    "PRE_DATA_FILE": "rows_transpose_norm_by_gene_id_with_target_num_",
    "P_FICHERO": "param_0000_0042_mul_m_RF_LR_L1.yaml",
    "R_FICHERO": "resultados_0042",
    "SCORING": "roc_auc_ovr",
    "SEMILLA": 42,
    "eval_clasifier": "LogisticRegressionCV(random_state=SEMILLA)",
    "eval_selector": "SelectFromModel(estimator=RandomForestClassifier(random_state=SEMILLA), threshold=-np.inf)",
    "param_distributions": {
     "clasifier__max_iter": [
      10000
     ],
     "clasifier__penalty": [
      "l1"
     ],
     "clasifier__solver": [
      "saga"
     ],
     "selector__estimator__n_estimators": [
      400
     ],
     "selector__max_features": [
      1000
     ]
    }
   },
   "start_time": "2023-10-27T20:54:06.682062",
   "version": "2.4.0"
  }
 },
 "nbformat": 4,
 "nbformat_minor": 5
}