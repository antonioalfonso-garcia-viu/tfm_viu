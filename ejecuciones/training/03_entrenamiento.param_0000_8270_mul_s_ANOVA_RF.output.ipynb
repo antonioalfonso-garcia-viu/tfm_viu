{
 "cells": [
  {
   "cell_type": "markdown",
   "id": "9bb7c8b8",
   "metadata": {
    "papermill": {
     "duration": 0.005529,
     "end_time": "2023-10-30T00:13:28.861100",
     "exception": false,
     "start_time": "2023-10-30T00:13:28.855571",
     "status": "completed"
    },
    "tags": []
   },
   "source": [
    "##### Inicio"
   ]
  },
  {
   "cell_type": "markdown",
   "id": "52509805",
   "metadata": {
    "papermill": {
     "duration": 0.003407,
     "end_time": "2023-10-30T00:13:28.868204",
     "exception": false,
     "start_time": "2023-10-30T00:13:28.864797",
     "status": "completed"
    },
    "tags": []
   },
   "source": [
    "#### Carga de datos"
   ]
  },
  {
   "cell_type": "code",
   "execution_count": 1,
   "id": "eddd4f34",
   "metadata": {
    "execution": {
     "iopub.execute_input": "2023-10-30T00:13:28.876584Z",
     "iopub.status.busy": "2023-10-30T00:13:28.876101Z",
     "iopub.status.idle": "2023-10-30T00:13:30.024995Z",
     "shell.execute_reply": "2023-10-30T00:13:30.024354Z"
    },
    "papermill": {
     "duration": 1.155024,
     "end_time": "2023-10-30T00:13:30.026695",
     "exception": false,
     "start_time": "2023-10-30T00:13:28.871671",
     "status": "completed"
    },
    "tags": []
   },
   "outputs": [
    {
     "name": "stdout",
     "output_type": "stream",
     "text": [
      "CPU_COUNT: 16; NODE: enderlab; sys.version: 3.10.11 (main, May 16 2023, 00:28:57) [GCC 11.2.0]\n",
      "LOKY_MAX_CPU_COUNT is not set.\n",
      "OMP_NUM_THREADS is not set.\n"
     ]
    }
   ],
   "source": [
    "import os\n",
    "import numpy as np\n",
    "import pandas as pd\n",
    "import datetime\n",
    "import sklearn\n",
    "import logging\n",
    "import warnings\n",
    "\n",
    "from sklearn.pipeline import Pipeline\n",
    "from sklearn.model_selection import RandomizedSearchCV, KFold, cross_val_score, train_test_split\n",
    "from sklearn.metrics import accuracy_score, confusion_matrix, classification_report, roc_auc_score\n",
    "\n",
    "#  cargar algoritmos para aprendizaje supervisado\n",
    "from sklearn.feature_selection import SelectKBest, f_classif, SelectFromModel, mutual_info_classif\n",
    "from sklearn.svm import SVC\n",
    "from sklearn.ensemble import RandomForestClassifier\n",
    "from sklearn.linear_model import LogisticRegression,LogisticRegressionCV\n",
    "\n",
    "# importar fichero con utilidades propias\n",
    "from commons import myfunctions as myfunc\n"
   ]
  },
  {
   "cell_type": "markdown",
   "id": "d5089dc8",
   "metadata": {
    "papermill": {
     "duration": 0.003698,
     "end_time": "2023-10-30T00:13:30.034960",
     "exception": false,
     "start_time": "2023-10-30T00:13:30.031262",
     "status": "completed"
    },
    "tags": []
   },
   "source": [
    "#### Parámetros a utilizar en el entrenamiento.\n",
    "\n",
    "Se indican los 3 algoritmos de *selección de características* (eval_selector_xxx) y los 3 algoritmos para la _clasificación_ (eval_clasifier_xxx)\n",
    "\n",
    "En *param_distributions* se indicar los parámetros que utilizan los algoritmos en la función RandomSearchCV.\n",
    "\n",
    "Esta celda tiene la etiqueta **parameters** que servirá para poder lanzar los entrenamientos con la utilidad **papermill** pasándole un fichero con los parámetros. Los nuevos parámetros se situarán tras esta celda para tener prevalencia."
   ]
  },
  {
   "cell_type": "code",
   "execution_count": 2,
   "id": "e9b4b4f7",
   "metadata": {
    "execution": {
     "iopub.execute_input": "2023-10-30T00:13:30.043486Z",
     "iopub.status.busy": "2023-10-30T00:13:30.042814Z",
     "iopub.status.idle": "2023-10-30T00:13:30.051664Z",
     "shell.execute_reply": "2023-10-30T00:13:30.051084Z"
    },
    "papermill": {
     "duration": 0.014565,
     "end_time": "2023-10-30T00:13:30.053007",
     "exception": false,
     "start_time": "2023-10-30T00:13:30.038442",
     "status": "completed"
    },
    "tags": [
     "parameters"
    ]
   },
   "outputs": [
    {
     "name": "stdout",
     "output_type": "stream",
     "text": [
      "20231030T011330 : enderlab : INFO : Utilizando parámetros de mul_m\n"
     ]
    }
   ],
   "source": [
    "#  Parametros para el entrenamiento\n",
    "\n",
    "SEMILLA=        42\n",
    "M_TIPO=         \"mul_m\"\n",
    "M_SELECT=       \"MI\"\n",
    "M_CLASIF=       \"SVM\"\n",
    "R_FICHERO=      \"resultados\"\n",
    "M_FICHERO=      \"metricas\"\n",
    "PRE_DATA_FILE=  \"rows_transpose_norm_by_gene_id_with_target_num_\"\n",
    "SCORING=        \"roc_auc_ovr\" \n",
    "MAX_ITERS=      100\n",
    "\n",
    "def mutual_info_classif_state(X, y):\n",
    "    return mutual_info_classif(X, y, random_state=SEMILLA)\n",
    "\n",
    "eval_selector_mi = \"SelectKBest(score_func=mutual_info_classif_state)\"\n",
    "eval_selector_rf=  \"SelectFromModel(estimator=RandomForestClassifier(random_state=SEMILLA), threshold=-np.inf)\"\n",
    "eval_selector_anova=  \"SelectKBest(score_func=f_classif)\"\n",
    "\n",
    "eval_clasifier_svm= \"SVC(probability=True, random_state=SEMILLA)\"\n",
    "eval_clasifier_rf= \"RandomForestClassifier(random_state=SEMILLA)\"\n",
    "eval_clasifier_lr= \"LogisticRegressionCV(random_state=SEMILLA)\"\n",
    "\n",
    "if M_TIPO.startswith(\"bin_m\"):\n",
    "    myfunc.verbose(f\"Utilizando parámetros de {M_TIPO}\")\n",
    "    eval_selector = eval_selector_mi\n",
    "    eval_clasifier = eval_clasifier_svm\n",
    "\n",
    "    SEMILLA = 6578\n",
    "    M_SELECT = \"MI\"\n",
    "    M_CLASIF = \"SVM\"\n",
    "    param_distributions = {'selector__k': [1000], \n",
    "         'clasifier__kernel': ['rbf'], 'clasifier__gamma': [0.01], 'clasifier__C': [100]}\n",
    "elif M_TIPO.startswith(\"bin_s\"):\n",
    "    myfunc.verbose(f\"Utilizando parámetros de {M_TIPO}\")\n",
    "    eval_selector = eval_selector_rf\n",
    "    eval_clasifier = eval_clasifier_lr\n",
    "\n",
    "    SEMILLA = 6191\n",
    "    M_SELECT = \"RF\"\n",
    "    M_CLASIF = \"LR_L2\"\n",
    "    param_distributions = {'selector__max_features': [1000], 'selector__estimator__n_estimators': [200], \n",
    "        'clasifier__solver': ['lbfgs'], 'clasifier__penalty': ['l2'], 'clasifier__max_iter': [10000]}\n",
    "\n",
    "elif M_TIPO.startswith(\"mul_m\"):\n",
    "    myfunc.verbose(f\"Utilizando parámetros de {M_TIPO}\")\n",
    " \n",
    "    eval_selector = eval_selector_rf\n",
    "    eval_clasifier = eval_clasifier_lr\n",
    "\n",
    "    SEMILLA = 6191\n",
    "    M_SELECT = \"RF\"\n",
    "    M_CLASIF = \"LR_L2\"\n",
    "    param_distributions = {'selector__max_features': [1000], 'selector__estimator__n_estimators': [400], \n",
    "        'clasifier__solver': ['lbfgs'], 'clasifier__penalty': ['l2'], 'clasifier__max_iter': [10000]}\n",
    "\n",
    "else:\n",
    "    # M_TIPO.startswith(\"mul_s\"):\n",
    "    myfunc.verbose(f\"Utilizando parámetros de {M_TIPO}\")\n",
    "    eval_selector = eval_selector_anova\n",
    "    eval_clasifier = eval_clasifier_lr\n",
    "\n",
    "    SEMILLA = 1860\n",
    "    M_SELECT = \"ANOVA\"\n",
    "    M_CLASIF = \"LR_L2\"\n",
    "    param_distributions = {'selector__k': [1000], \n",
    "        'clasifier__solver': ['saga'], 'clasifier__penalty': ['l2'], 'clasifier__max_iter': [10000]}\n",
    "\n"
   ]
  },
  {
   "cell_type": "code",
   "execution_count": 3,
   "id": "a3226387",
   "metadata": {
    "execution": {
     "iopub.execute_input": "2023-10-30T00:13:30.061667Z",
     "iopub.status.busy": "2023-10-30T00:13:30.061113Z",
     "iopub.status.idle": "2023-10-30T00:13:30.065543Z",
     "shell.execute_reply": "2023-10-30T00:13:30.064917Z"
    },
    "papermill": {
     "duration": 0.010058,
     "end_time": "2023-10-30T00:13:30.066766",
     "exception": false,
     "start_time": "2023-10-30T00:13:30.056708",
     "status": "completed"
    },
    "tags": [
     "injected-parameters"
    ]
   },
   "outputs": [],
   "source": [
    "# Parameters\n",
    "M_TIPO = \"mul_s\"\n",
    "M_SELECT = \"ANOVA\"\n",
    "M_CLASIF = \"RF\"\n",
    "P_FICHERO = \"param_0000_8270_mul_s_ANOVA_RF.yaml\"\n",
    "R_FICHERO = \"resultados_8270\"\n",
    "M_FICHERO = \"metricas_8270\"\n",
    "PRE_DATA_FILE = \"rows_transpose_norm_by_gene_id_with_target_num_\"\n",
    "SCORING = \"roc_auc_ovr\"\n",
    "SEMILLA = 8270\n",
    "MAX_ITERS = 500\n",
    "eval_selector = \"SelectKBest(score_func=f_classif)\"\n",
    "eval_clasifier = \"RandomForestClassifier(random_state=SEMILLA)\"\n",
    "param_distributions = {\n",
    "    \"selector__k\": [500],\n",
    "    \"clasifier__n_estimators\": [200],\n",
    "    \"clasifier__min_samples_split\": [10],\n",
    "    \"clasifier__min_samples_leaf\": [5],\n",
    "    \"clasifier__max_features\": [200],\n",
    "    \"clasifier__max_depth\": [10],\n",
    "    \"clasifier__bootstrap\": [True],\n",
    "}\n"
   ]
  },
  {
   "cell_type": "code",
   "execution_count": 4,
   "id": "4dfa9c72",
   "metadata": {
    "execution": {
     "iopub.execute_input": "2023-10-30T00:13:30.075164Z",
     "iopub.status.busy": "2023-10-30T00:13:30.074690Z",
     "iopub.status.idle": "2023-10-30T00:13:30.078243Z",
     "shell.execute_reply": "2023-10-30T00:13:30.077695Z"
    },
    "papermill": {
     "duration": 0.009151,
     "end_time": "2023-10-30T00:13:30.079519",
     "exception": false,
     "start_time": "2023-10-30T00:13:30.070368",
     "status": "completed"
    },
    "tags": []
   },
   "outputs": [],
   "source": [
    "DATA_FILE = PRE_DATA_FILE + M_TIPO\n",
    "\n",
    "# si viene \"None\" en el parámetro max_depth, se le quitan las comillas para que no sea entendido por el algoritmo como un texto\n",
    "if \"clasifier__max_depth\" in param_distributions:\n",
    "    param_distributions['clasifier__max_depth'] = [None if x == 'None' else x for x in param_distributions['clasifier__max_depth']]"
   ]
  },
  {
   "cell_type": "markdown",
   "id": "fba2c534",
   "metadata": {
    "papermill": {
     "duration": 0.003658,
     "end_time": "2023-10-30T00:13:30.086824",
     "exception": false,
     "start_time": "2023-10-30T00:13:30.083166",
     "status": "completed"
    },
    "tags": []
   },
   "source": [
    "Asignar los algoritmos que se utilizarán en la función RandomSearchCV"
   ]
  },
  {
   "cell_type": "code",
   "execution_count": 5,
   "id": "d620ec82",
   "metadata": {
    "execution": {
     "iopub.execute_input": "2023-10-30T00:13:30.095425Z",
     "iopub.status.busy": "2023-10-30T00:13:30.094822Z",
     "iopub.status.idle": "2023-10-30T00:13:30.098004Z",
     "shell.execute_reply": "2023-10-30T00:13:30.097449Z"
    },
    "papermill": {
     "duration": 0.008713,
     "end_time": "2023-10-30T00:13:30.099206",
     "exception": false,
     "start_time": "2023-10-30T00:13:30.090493",
     "status": "completed"
    },
    "tags": []
   },
   "outputs": [],
   "source": [
    "algor_selector=eval(eval_selector)\n",
    "algor_clasifier=eval(eval_clasifier)"
   ]
  },
  {
   "cell_type": "markdown",
   "id": "eec20826",
   "metadata": {
    "papermill": {
     "duration": 0.003731,
     "end_time": "2023-10-30T00:13:30.106532",
     "exception": false,
     "start_time": "2023-10-30T00:13:30.102801",
     "status": "completed"
    },
    "tags": []
   },
   "source": [
    "#### Comprobar el entorno y leer fichero de muestras"
   ]
  },
  {
   "cell_type": "code",
   "execution_count": 6,
   "id": "7bb93b84",
   "metadata": {
    "execution": {
     "iopub.execute_input": "2023-10-30T00:13:30.115506Z",
     "iopub.status.busy": "2023-10-30T00:13:30.115000Z",
     "iopub.status.idle": "2023-10-30T00:13:30.296691Z",
     "shell.execute_reply": "2023-10-30T00:13:30.296018Z"
    },
    "papermill": {
     "duration": 0.187926,
     "end_time": "2023-10-30T00:13:30.298190",
     "exception": false,
     "start_time": "2023-10-30T00:13:30.110264",
     "status": "completed"
    },
    "tags": []
   },
   "outputs": [
    {
     "name": "stdout",
     "output_type": "stream",
     "text": [
      "20231030T011330 : enderlab : INFO : Encontrada carpeta DATA_DIR=../tfm_git/datos\n",
      "20231030T011330 : enderlab : INFO : Encontrada carpeta CFDNA_DIR=../tfm_git/datos/cfDNA_5hmC\n",
      "20231030T011330 : enderlab : INFO : Encontrada carpeta GENCODE_DIR=../tfm_git/datos/gencode\n",
      "20231030T011330 : enderlab : INFO : Encontrada carpeta H5_DIR=../tfm_git/datos/h5\n",
      "20231030T011330 : enderlab : INFO : Encontrada carpeta LOG_DIR=../tfm_git/datos/logs\n",
      "20231030T011330 : enderlab : INFO : Encontrada carpeta CSV_DIR=../tfm_git/datos/csv\n",
      "20231030T011330 : enderlab : INFO : Encontrada carpeta MODEL_DIR=../tfm_git/ejecuciones/modelos\n",
      "20231030T011330 : enderlab : INFO : Encontrada carpeta EXEC_DIR=../tfm_git/ejecuciones\n",
      "20231030T011330 : enderlab : INFO : Encontrada carpeta MET_DIR=../tfm_git/ejecuciones/metricas\n",
      "20231030T011330 : enderlab : INFO : Inicio leer fichero h5 ../tfm_git/datos/h5/rows_transpose_norm_by_gene_id_with_target_num_mul_s.h5\n",
      "20231030T011330 : enderlab : INFO : Leyendo clave /df\n"
     ]
    },
    {
     "name": "stdout",
     "output_type": "stream",
     "text": [
      "20231030T011330 : enderlab : INFO : Tamaño (259, 18876)\n",
      "20231030T011330 : enderlab : INFO : Fin leer fichero h5 ../tfm_git/datos/h5/rows_transpose_norm_by_gene_id_with_target_num_mul_s.h5\n"
     ]
    },
    {
     "data": {
      "text/plain": [
       "target\n",
       "0    37\n",
       "1    37\n",
       "2    37\n",
       "3    37\n",
       "4    37\n",
       "5    37\n",
       "6    37\n",
       "dtype: int64"
      ]
     },
     "metadata": {},
     "output_type": "display_data"
    },
    {
     "name": "stdout",
     "output_type": "stream",
     "text": [
      "Shape df: (259, 18876)\n",
      "Shape X_train: (207, 18875)\n",
      "Shape X_test: (52, 18875)\n"
     ]
    }
   ],
   "source": [
    "start_time = datetime.datetime.now()\n",
    "\n",
    "myfunc.reset_vars()\n",
    "\n",
    "myfunc.NOTEBK_FILENAME = myfunc.get_nb_name()\n",
    "\n",
    "myfunc.check_enviroment(myfunc.DATA_DIR, myfunc.CFDNA_DIR, myfunc.GENCODE_DIR, myfunc.H5_DIR, myfunc.LOG_DIR, myfunc.CSV_DIR, myfunc.MODEL_DIR, myfunc.EXEC_DIR, myfunc.MET_DIR)\n",
    "\n",
    "# Leer fichero con las muestras\n",
    "df_t = myfunc.read_h5_to_df(DATA_FILE, myfunc.H5_DIR)\n",
    "display(df_t.groupby(\"target\").size())\n",
    "print(\"Shape df:\",df_t.shape)\n",
    "\n",
    "# Separar caracteristicas/genes de las etiquetas/tipos de cáncer\n",
    "X = df_t.iloc[:, :-1]  # Todas las columnas excepto la última\n",
    "y = df_t.iloc[:, -1]  # La última columna contiene los identificadores de los tipos de cáncer\n",
    "\n",
    "#  Crear el conjunto de datos de entrenamiento y de pruebas, y se fija la semilla para siempre coger el mismo juego de muestras\n",
    "X_train, X_test, y_train, y_test = train_test_split(X, y, test_size=0.2, shuffle=True, random_state=42)\n",
    "print(\"Shape X_train:\",X_train.shape)\n",
    "print(\"Shape X_test:\",X_test.shape)\n"
   ]
  },
  {
   "cell_type": "markdown",
   "id": "fa7ecc05",
   "metadata": {
    "papermill": {
     "duration": 0.004004,
     "end_time": "2023-10-30T00:13:30.307483",
     "exception": false,
     "start_time": "2023-10-30T00:13:30.303479",
     "status": "completed"
    },
    "tags": []
   },
   "source": [
    "#### Selección de características y clasificación."
   ]
  },
  {
   "cell_type": "code",
   "execution_count": 7,
   "id": "6692ed37",
   "metadata": {
    "execution": {
     "iopub.execute_input": "2023-10-30T00:13:30.316759Z",
     "iopub.status.busy": "2023-10-30T00:13:30.316233Z",
     "iopub.status.idle": "2023-10-30T00:13:37.418160Z",
     "shell.execute_reply": "2023-10-30T00:13:37.416818Z"
    },
    "papermill": {
     "duration": 7.108326,
     "end_time": "2023-10-30T00:13:37.419728",
     "exception": false,
     "start_time": "2023-10-30T00:13:30.311402",
     "status": "completed"
    },
    "tags": []
   },
   "outputs": [
    {
     "name": "stdout",
     "output_type": "stream",
     "text": [
      "20231030T011330 : enderlab : INFO : Iniciando entrenamiento\n",
      "num_iter: 1 , max_iter: 1\n"
     ]
    },
    {
     "name": "stdout",
     "output_type": "stream",
     "text": [
      "Fitting 5 folds for each of 1 candidates, totalling 5 fits\n"
     ]
    },
    {
     "name": "stderr",
     "output_type": "stream",
     "text": [
      "/home/expsiviu/miniconda3/envs/viu/lib/python3.10/site-packages/sklearn/feature_selection/_univariate_selection.py:112: UserWarning: Features [  298  1508  1733  1846  2010  2222  2265  2266  2553  2688  2802  2803\n",
      "  2833  2896  2957  3248  3415  3492  4075  5490  5668  5803  6053  6981\n",
      "  6984  7418  8508  8510  8513  8791  8890  9087  9490 10475 11020 11613\n",
      " 11943 12249 12480 12518 12801 12831 12888 13225 13235 13259 13836 13848\n",
      " 13959 14000 14015 14244 14245 14451 14559 14789 14794 14795 14941 15044\n",
      " 15183 15515 15516 15563 15824 15874 16018 16244 16245 16258 16267 16268\n",
      " 16281 16287 16294 16312 16313 16318 16323 16349 16350 16372 16373 16630\n",
      " 16667 16679 16701 16905 16906 16968 17024 17047 17091 17093 17231 17264\n",
      " 17274 17300 17312 17540 18245 18350 18368 18374 18375 18405 18421 18486\n",
      " 18592 18692 18868] are constant.\n",
      "  warnings.warn(\"Features %s are constant.\" % constant_features_idx, UserWarning)\n",
      "/home/expsiviu/miniconda3/envs/viu/lib/python3.10/site-packages/sklearn/feature_selection/_univariate_selection.py:113: RuntimeWarning: invalid value encountered in true_divide\n",
      "  f = msb / msw\n",
      "/home/expsiviu/miniconda3/envs/viu/lib/python3.10/site-packages/sklearn/feature_selection/_univariate_selection.py:112: UserWarning: Features [  298  1508  1733  1846  2010  2222  2265  2266  2553  2688  2802  2803\n",
      "  2833  2896  3248  3415  3492  3804  4075  5803  6053  6981  6984  7418\n",
      "  8508  8510  8513  8890  9087  9090  9490 10475 11020 11562 11613 11943\n",
      " 12249 12480 12831 13235 13259 13577 13836 13959 14000 14015 14244 14245\n",
      " 14451 14789 14795 14941 15071 15290 15515 15563 15785 15824 15874 16258\n",
      " 16267 16268 16278 16279 16281 16287 16313 16323 16347 16350 16372 16565\n",
      " 16630 16701 16819 16870 16905 16906 16968 17047 17055 17075 17091 17093\n",
      " 17231 17264 17274 17300 17312 17540 18350 18368 18374 18375 18405 18486\n",
      " 18592 18692 18868] are constant.\n",
      "  warnings.warn(\"Features %s are constant.\" % constant_features_idx, UserWarning)\n",
      "/home/expsiviu/miniconda3/envs/viu/lib/python3.10/site-packages/sklearn/feature_selection/_univariate_selection.py:113: RuntimeWarning: invalid value encountered in true_divide\n",
      "  f = msb / msw\n",
      "/home/expsiviu/miniconda3/envs/viu/lib/python3.10/site-packages/sklearn/feature_selection/_univariate_selection.py:112: UserWarning: Features [  298  1508  1733  1846  2010  2222  2265  2266  2553  2555  2688  2802\n",
      "  2803  2833  2896  3248  3415  3492  4075  5803  6053  6981  6984  7418\n",
      "  8314  8508  8510  8511  8512  8513  8890  9087  9490 10475 10477 11020\n",
      " 11613 11943 11996 12249 12480 12792 12831 12940 12973 13047 13235 13259\n",
      " 13300 13836 13841 13959 14000 14015 14244 14245 14451 14789 14795 14941\n",
      " 15515 15563 15824 15874 15881 15979 16258 16267 16268 16277 16281 16287\n",
      " 16309 16313 16323 16350 16372 16630 16687 16701 16704 16731 16905 16906\n",
      " 16968 17047 17091 17093 17120 17231 17264 17273 17274 17300 17312 17540\n",
      " 17565 17644 17679 17741 17963 18350 18368 18374 18375 18405 18486 18530\n",
      " 18592 18692 18698 18868] are constant.\n",
      "  warnings.warn(\"Features %s are constant.\" % constant_features_idx, UserWarning)\n",
      "/home/expsiviu/miniconda3/envs/viu/lib/python3.10/site-packages/sklearn/feature_selection/_univariate_selection.py:113: RuntimeWarning: invalid value encountered in true_divide\n",
      "  f = msb / msw\n",
      "/home/expsiviu/miniconda3/envs/viu/lib/python3.10/site-packages/sklearn/feature_selection/_univariate_selection.py:112: UserWarning: Features [  298  1017  1508  1733  1846  2006  2010  2222  2265  2266  2553  2688\n",
      "  2802  2803  2833  2896  3248  3415  3492  4075  5533  5803  6053  6981\n",
      "  6984  7416  7418  8508  8510  8513  8890  9087  9490 10475 11020 11565\n",
      " 11613 11943 12249 12433 12480 12831 13235 13259 13836 13860 13959 14000\n",
      " 14015 14244 14245 14451 14735 14789 14795 14941 14995 15515 15563 15824\n",
      " 15874 16205 16258 16260 16262 16267 16268 16281 16287 16313 16322 16323\n",
      " 16339 16350 16372 16520 16630 16701 16905 16906 16956 16968 17047 17091\n",
      " 17093 17231 17264 17274 17300 17312 17540 17566 18153 18288 18350 18368\n",
      " 18374 18375 18405 18486 18592 18692 18693 18868] are constant.\n",
      "  warnings.warn(\"Features %s are constant.\" % constant_features_idx, UserWarning)\n",
      "/home/expsiviu/miniconda3/envs/viu/lib/python3.10/site-packages/sklearn/feature_selection/_univariate_selection.py:113: RuntimeWarning: invalid value encountered in true_divide\n",
      "  f = msb / msw\n",
      "/home/expsiviu/miniconda3/envs/viu/lib/python3.10/site-packages/sklearn/feature_selection/_univariate_selection.py:112: UserWarning: Features [  298  1508  1733  1846  2010  2222  2265  2266  2553  2688  2725  2802\n",
      "  2803  2833  2896  3248  3415  3492  4075  4306  5803  6053  6981  6984\n",
      "  7418  7780  8508  8510  8513  8890  9087  9490 10035 10475 11020 11022\n",
      " 11613 11943 11976 12249 12480 12831 13235 13259 13836 13959 14000 14015\n",
      " 14244 14245 14451 14789 14795 14835 14941 15397 15401 15515 15563 15824\n",
      " 15874 16235 16237 16258 16267 16268 16276 16281 16287 16313 16323 16350\n",
      " 16372 16630 16701 16905 16906 16968 17047 17091 17093 17231 17264 17274\n",
      " 17300 17312 17418 17520 17540 17948 18350 18368 18374 18375 18405 18486\n",
      " 18592 18608 18679 18692 18868] are constant.\n",
      "  warnings.warn(\"Features %s are constant.\" % constant_features_idx, UserWarning)\n",
      "/home/expsiviu/miniconda3/envs/viu/lib/python3.10/site-packages/sklearn/feature_selection/_univariate_selection.py:113: RuntimeWarning: invalid value encountered in true_divide\n",
      "  f = msb / msw\n"
     ]
    },
    {
     "name": "stderr",
     "output_type": "stream",
     "text": [
      "/home/expsiviu/miniconda3/envs/viu/lib/python3.10/site-packages/sklearn/feature_selection/_univariate_selection.py:112: UserWarning: Features [  298  1508  1733  1846  2010  2222  2265  2266  2553  2688  2802  2803\n",
      "  2833  2896  3248  3415  3492  4075  5803  6053  6981  6984  7418  8508\n",
      "  8510  8513  8890  9087  9490 10475 11020 11613 11943 12249 12480 12831\n",
      " 13235 13259 13836 13959 14000 14015 14244 14245 14451 14789 14795 14941\n",
      " 15515 15563 15824 15874 16258 16267 16268 16281 16287 16313 16323 16350\n",
      " 16372 16630 16701 16905 16906 16968 17047 17091 17093 17231 17264 17274\n",
      " 17300 17312 17540 18350 18368 18374 18375 18405 18486 18592 18692 18868] are constant.\n",
      "  warnings.warn(\"Features %s are constant.\" % constant_features_idx, UserWarning)\n",
      "/home/expsiviu/miniconda3/envs/viu/lib/python3.10/site-packages/sklearn/feature_selection/_univariate_selection.py:113: RuntimeWarning: invalid value encountered in true_divide\n",
      "  f = msb / msw\n"
     ]
    },
    {
     "name": "stdout",
     "output_type": "stream",
     "text": [
      "Mejores Hiperparámetros: {'selector__k': 500, 'clasifier__n_estimators': 200, 'clasifier__min_samples_split': 10, 'clasifier__min_samples_leaf': 5, 'clasifier__max_features': 200, 'clasifier__max_depth': 10, 'clasifier__bootstrap': True}\n",
      "Mejor Puntuación: 0.7567\n",
      "20231030T011337 : enderlab : INFO : Fin entrenamiento\n"
     ]
    }
   ],
   "source": [
    "myfunc.verbose(\"Iniciando entrenamiento\")\n",
    "\n",
    "kf = KFold(n_splits=5, shuffle=True, random_state=SEMILLA)\n",
    "\n",
    "# Crear el pipeline para el flujo de tareas\n",
    "tasks_pipeline = Pipeline([\n",
    "    ('selector', algor_selector),\n",
    "    ('clasifier', algor_clasifier)\n",
    "])\n",
    "\n",
    "# MAX_ITERS puede limitar el número de iteraciones si son excesivas para las combinaciones de parámetros buscando un óptimo local, \n",
    "# sino funcionaría como GridSearchCV al revisar todas las cominaciones de los parámetros\n",
    "num_iteraciones = 1\n",
    "num_iteraciones = num_iteraciones * np.prod([len(elemento1) for _, elemento1 in param_distributions.items()])\n",
    "max_iteraciones = num_iteraciones if num_iteraciones <= MAX_ITERS else MAX_ITERS\n",
    "print(\"num_iter:\",num_iteraciones,\", max_iter:\",max_iteraciones)\n",
    "\n",
    "random_search = RandomizedSearchCV(\n",
    "    tasks_pipeline, \n",
    "    param_distributions, \n",
    "    n_iter=max_iteraciones,\n",
    "    scoring=SCORING,\n",
    "    cv=kf,\n",
    "    verbose=3, \n",
    "    random_state=SEMILLA, \n",
    "    n_jobs=-1\n",
    "    )\n",
    "\n",
    "# Entrenar el modelo\n",
    "random_search.fit(X_train, y_train)\n",
    "\n",
    "# Ver los mejores hiperparámetros encontrados\n",
    "print(f'Mejores Hiperparámetros: {random_search.best_params_}')\n",
    "print(f'Mejor Puntuación: {random_search.best_score_:.4f}')\n",
    "\n",
    "# Nos quedamos con el mejor modelo para ver las métricas\n",
    "mejor_modelo = random_search.best_estimator_\n",
    "\n",
    "myfunc.verbose(\"Fin entrenamiento\")"
   ]
  },
  {
   "cell_type": "markdown",
   "id": "7c4639e4",
   "metadata": {
    "papermill": {
     "duration": 0.004386,
     "end_time": "2023-10-30T00:13:37.429193",
     "exception": false,
     "start_time": "2023-10-30T00:13:37.424807",
     "status": "completed"
    },
    "tags": []
   },
   "source": [
    "#### Guardar modelo"
   ]
  },
  {
   "cell_type": "code",
   "execution_count": 8,
   "id": "a259d32e",
   "metadata": {
    "execution": {
     "iopub.execute_input": "2023-10-30T00:13:37.440056Z",
     "iopub.status.busy": "2023-10-30T00:13:37.439602Z",
     "iopub.status.idle": "2023-10-30T00:13:37.525004Z",
     "shell.execute_reply": "2023-10-30T00:13:37.524367Z"
    },
    "papermill": {
     "duration": 0.092891,
     "end_time": "2023-10-30T00:13:37.526320",
     "exception": false,
     "start_time": "2023-10-30T00:13:37.433429",
     "status": "completed"
    },
    "tags": []
   },
   "outputs": [
    {
     "name": "stdout",
     "output_type": "stream",
     "text": [
      "20231030T011337 : enderlab : INFO : Inicio guardar fichero ../tfm_git/ejecuciones/modelos/modelo_8270_mul_s_ANOVA_RF.pkl\n",
      "20231030T011337 : enderlab : INFO : Fin guardar fichero ../tfm_git/ejecuciones/modelos/modelo_8270_mul_s_ANOVA_RF.pkl\n"
     ]
    }
   ],
   "source": [
    "fichero_modelo = str.replace(\"modelo_\"+str(SEMILLA).zfill(4)+\"_\"+M_TIPO+\"_\"+M_SELECT+\"_\"+M_CLASIF+\".pkl\", \" \", \"_\")\n",
    "\n",
    "myfunc.save_modelo(mejor_modelo, myfunc.MODEL_DIR, fichero_modelo)"
   ]
  },
  {
   "cell_type": "markdown",
   "id": "24ea4ec7",
   "metadata": {
    "papermill": {
     "duration": 0.004472,
     "end_time": "2023-10-30T00:13:37.535383",
     "exception": false,
     "start_time": "2023-10-30T00:13:37.530911",
     "status": "completed"
    },
    "tags": []
   },
   "source": [
    "#### Ver resultados del las iteraciones hechas por RandomSearchCV"
   ]
  },
  {
   "cell_type": "code",
   "execution_count": 9,
   "id": "bd289748",
   "metadata": {
    "execution": {
     "iopub.execute_input": "2023-10-30T00:13:37.545262Z",
     "iopub.status.busy": "2023-10-30T00:13:37.544759Z",
     "iopub.status.idle": "2023-10-30T00:13:37.552963Z",
     "shell.execute_reply": "2023-10-30T00:13:37.552411Z"
    },
    "papermill": {
     "duration": 0.014459,
     "end_time": "2023-10-30T00:13:37.554170",
     "exception": false,
     "start_time": "2023-10-30T00:13:37.539711",
     "status": "completed"
    },
    "tags": []
   },
   "outputs": [
    {
     "name": "stdout",
     "output_type": "stream",
     "text": [
      "20231030T011337 : enderlab : INFO : Inicio ver resultados\n",
      "Mejores Hiperparámetros: {'selector__k': 500, 'clasifier__n_estimators': 200, 'clasifier__min_samples_split': 10, 'clasifier__min_samples_leaf': 5, 'clasifier__max_features': 200, 'clasifier__max_depth': 10, 'clasifier__bootstrap': True}\n",
      "Mejores puntuaciones: 0.7567 | Params: {'selector__k': 500, 'clasifier__n_estimators': 200, 'clasifier__min_samples_split': 10, 'clasifier__min_samples_leaf': 5, 'clasifier__max_features': 200, 'clasifier__max_depth': 10, 'clasifier__bootstrap': True}\n",
      "Media de las puntuaciones: 0.7567 | Params: {'selector__k': 500, 'clasifier__n_estimators': 200, 'clasifier__min_samples_split': 10, 'clasifier__min_samples_leaf': 5, 'clasifier__max_features': 200, 'clasifier__max_depth': 10, 'clasifier__bootstrap': True}\n",
      "20231030T011337 : enderlab : INFO : Fin resultados\n"
     ]
    }
   ],
   "source": [
    "myfunc.ver_resultados_search(random_search)"
   ]
  },
  {
   "cell_type": "markdown",
   "id": "9db1c8cf",
   "metadata": {
    "papermill": {
     "duration": 0.00601,
     "end_time": "2023-10-30T00:13:37.564550",
     "exception": false,
     "start_time": "2023-10-30T00:13:37.558540",
     "status": "completed"
    },
    "tags": []
   },
   "source": [
    "#### Ver métricas del mejor modelo"
   ]
  },
  {
   "cell_type": "code",
   "execution_count": 10,
   "id": "bd0523b3",
   "metadata": {
    "execution": {
     "iopub.execute_input": "2023-10-30T00:13:37.576094Z",
     "iopub.status.busy": "2023-10-30T00:13:37.575616Z",
     "iopub.status.idle": "2023-10-30T00:13:38.337424Z",
     "shell.execute_reply": "2023-10-30T00:13:38.336818Z"
    },
    "papermill": {
     "duration": 0.768758,
     "end_time": "2023-10-30T00:13:38.338850",
     "exception": false,
     "start_time": "2023-10-30T00:13:37.570092",
     "status": "completed"
    },
    "tags": []
   },
   "outputs": [
    {
     "name": "stdout",
     "output_type": "stream",
     "text": [
      "20231030T011337 : enderlab : INFO : Inicio ver métricas multiclase\n"
     ]
    },
    {
     "name": "stdout",
     "output_type": "stream",
     "text": [
      "              precision    recall  f1-score   support\n",
      "\n",
      "           0       0.20      0.09      0.13        11\n",
      "           1       0.56      0.62      0.59         8\n",
      "           2       0.00      0.00      0.00         8\n",
      "           3       0.10      0.20      0.13         5\n",
      "           4       0.78      0.88      0.82         8\n",
      "           5       0.00      0.00      0.00         6\n",
      "           6       0.25      0.33      0.29         6\n",
      "\n",
      "    accuracy                           0.31        52\n",
      "   macro avg       0.27      0.30      0.28        52\n",
      "weighted avg       0.29      0.31      0.29        52\n",
      "\n",
      "\n",
      "\n",
      "           Exactitud: 0.307692\n",
      "   Precisión (media): 0.269048\n",
      "      Recall (media): 0.303463\n",
      "    F1-score (media): 0.279402\n",
      "\n",
      "\n",
      "AUC para el tipo de cáncer 0-Control.... 0.4568\n",
      "AUC para el tipo de cáncer 1-Bladder.... 0.8068\n",
      "AUC para el tipo de cáncer 2-Breast..... 0.6506\n",
      "AUC para el tipo de cáncer 3-Colorectal. 0.7234\n",
      "AUC para el tipo de cáncer 4-Kidney..... 0.9716\n",
      "AUC para el tipo de cáncer 5-Lung....... 0.6268\n",
      "AUC para el tipo de cáncer 6-Prostate... 0.7645\n",
      "\n",
      "Media de AUC: 0.7143\n"
     ]
    },
    {
     "data": {
      "image/png": "[encoded data removed]",
      "text/plain": [
       "<Figure size 1000x600 with 1 Axes>"
      ]
     },
     "metadata": {},
     "output_type": "display_data"
    },
    {
     "name": "stdout",
     "output_type": "stream",
     "text": [
      "\n",
      "\n"
     ]
    },
    {
     "data": {
      "image/png": "[encoded data removed]",
      "text/plain": [
       "<Figure size 800x400 with 2 Axes>"
      ]
     },
     "metadata": {},
     "output_type": "display_data"
    },
    {
     "name": "stdout",
     "output_type": "stream",
     "text": [
      "\n",
      "\n",
      "Puntuación Jaccard para el cáncer tipo 0-Control.... 0.0667\n",
      "Puntuación Jaccard para el cáncer tipo 1-Bladder.... 0.4167\n",
      "Puntuación Jaccard para el cáncer tipo 2-Breast..... 0.0000\n",
      "Puntuación Jaccard para el cáncer tipo 3-Colorectal. 0.0714\n",
      "Puntuación Jaccard para el cáncer tipo 4-Kidney..... 0.7000\n",
      "Puntuación Jaccard para el cáncer tipo 5-Lung....... 0.0000\n",
      "Puntuación Jaccard para el cáncer tipo 6-Prostate... 0.1667\n",
      "\n",
      "Media de la puntuación de Jaccard: 0.2031\n"
     ]
    }
   ],
   "source": [
    "if M_TIPO.startswith(\"bin\"):\n",
    "    myfunc.ver_metricas(mejor_modelo, X_test, y_test)\n",
    "else:\n",
    "    myfunc.ver_metricas_multi(mejor_modelo, X_test, y_test)\n"
   ]
  },
  {
   "cell_type": "markdown",
   "id": "154445ce",
   "metadata": {
    "papermill": {
     "duration": 0.006073,
     "end_time": "2023-10-30T00:13:38.351780",
     "exception": false,
     "start_time": "2023-10-30T00:13:38.345707",
     "status": "completed"
    },
    "tags": []
   },
   "source": [
    "#### Finalización del notebook"
   ]
  },
  {
   "cell_type": "code",
   "execution_count": 11,
   "id": "80891b9b",
   "metadata": {
    "execution": {
     "iopub.execute_input": "2023-10-30T00:13:38.365238Z",
     "iopub.status.busy": "2023-10-30T00:13:38.364649Z",
     "iopub.status.idle": "2023-10-30T00:13:38.368488Z",
     "shell.execute_reply": "2023-10-30T00:13:38.368014Z"
    },
    "papermill": {
     "duration": 0.011795,
     "end_time": "2023-10-30T00:13:38.369669",
     "exception": false,
     "start_time": "2023-10-30T00:13:38.357874",
     "status": "completed"
    },
    "tags": []
   },
   "outputs": [
    {
     "name": "stdout",
     "output_type": "stream",
     "text": [
      "20231030T011338 : enderlab : INFO : Notebook ha tardado 8 seconds\n"
     ]
    }
   ],
   "source": [
    "end_time = datetime.datetime.now()\n",
    "total_time = end_time - start_time\n",
    "myfunc.verbose(f\"Notebook ha tardado {total_time.seconds} seconds\")"
   ]
  },
  {
   "cell_type": "markdown",
   "id": "abefa7c9",
   "metadata": {
    "papermill": {
     "duration": 0.006084,
     "end_time": "2023-10-30T00:13:38.381675",
     "exception": false,
     "start_time": "2023-10-30T00:13:38.375591",
     "status": "completed"
    },
    "tags": []
   },
   "source": [
    "#### Guardar métricas"
   ]
  },
  {
   "cell_type": "code",
   "execution_count": 12,
   "id": "1a5c6e94",
   "metadata": {
    "execution": {
     "iopub.execute_input": "2023-10-30T00:13:38.395515Z",
     "iopub.status.busy": "2023-10-30T00:13:38.394935Z",
     "iopub.status.idle": "2023-10-30T00:13:38.683358Z",
     "shell.execute_reply": "2023-10-30T00:13:38.682723Z"
    },
    "papermill": {
     "duration": 0.296774,
     "end_time": "2023-10-30T00:13:38.684743",
     "exception": false,
     "start_time": "2023-10-30T00:13:38.387969",
     "status": "completed"
    },
    "tags": []
   },
   "outputs": [
    {
     "name": "stdout",
     "output_type": "stream",
     "text": [
      "20231030T011338 : enderlab : INFO : Inicio guardar métricas multiclase\n",
      "20231030T011338 : enderlab : INFO : Inicio leer fichero ../tfm_git/ejecuciones/metricas/metricas_8270.csv\n",
      "20231030T011338 : enderlab : INFO : Fin leer fichero ../tfm_git/ejecuciones/metricas/metricas_8270.csv\n"
     ]
    },
    {
     "name": "stdout",
     "output_type": "stream",
     "text": [
      "20231030T011338 : enderlab : INFO : Inicio guardar fichero ../tfm_git/ejecuciones/metricas/metricas_8270.csv\n",
      "20231030T011338 : enderlab : INFO : Fichero borrado ../tfm_git/ejecuciones/metricas/metricas_8270.csv\n",
      "20231030T011338 : enderlab : INFO : Fin guardar fichero ../tfm_git/ejecuciones/metricas/metricas_8270.csv\n",
      "20231030T011338 : enderlab : INFO : Fin guardar métricas multiclase\n",
      "20231030T011338 : enderlab : INFO : Inicio leer fichero ../tfm_git/ejecuciones/metricas/metricas_8270.csv\n",
      "20231030T011338 : enderlab : INFO : Fin leer fichero ../tfm_git/ejecuciones/metricas/metricas_8270.csv\n"
     ]
    },
    {
     "data": {
      "text/html": [
       "<div>\n",
       "<style scoped>\n",
       "    .dataframe tbody tr th:only-of-type {\n",
       "        vertical-align: middle;\n",
       "    }\n",
       "\n",
       "    .dataframe tbody tr th {\n",
       "        vertical-align: top;\n",
       "    }\n",
       "\n",
       "    .dataframe thead th {\n",
       "        text-align: right;\n",
       "    }\n",
       "</style>\n",
       "<table border=\"1\" class=\"dataframe\">\n",
       "  <thead>\n",
       "    <tr style=\"text-align: right;\">\n",
       "      <th></th>\n",
       "      <th>tipo</th>\n",
       "      <th>select</th>\n",
       "      <th>clasific</th>\n",
       "      <th>semilla</th>\n",
       "      <th>accuracy</th>\n",
       "      <th>precision</th>\n",
       "      <th>recall</th>\n",
       "      <th>f1_score</th>\n",
       "      <th>roc_auc</th>\n",
       "      <th>hostname</th>\n",
       "      <th>total_time_sec</th>\n",
       "      <th>datetime</th>\n",
       "      <th>fichero_modelo</th>\n",
       "      <th>params</th>\n",
       "      <th>shape</th>\n",
       "      <th>features</th>\n",
       "      <th>roc_auc_ovr</th>\n",
       "      <th>indices_auc</th>\n",
       "      <th>indices_jaccard</th>\n",
       "    </tr>\n",
       "  </thead>\n",
       "  <tbody>\n",
       "    <tr>\n",
       "      <th>0</th>\n",
       "      <td>mul_s</td>\n",
       "      <td>ANOVA</td>\n",
       "      <td>RF</td>\n",
       "      <td>8270</td>\n",
       "      <td>0.307692</td>\n",
       "      <td>0.269048</td>\n",
       "      <td>0.303463</td>\n",
       "      <td>0.279402</td>\n",
       "      <td>NaN</td>\n",
       "      <td>enderlab</td>\n",
       "      <td>8</td>\n",
       "      <td>2023-10-30 01:13:38.630205</td>\n",
       "      <td>modelo_8270_mul_s_ANOVA_RF.pkl</td>\n",
       "      <td>{'selector__k': 500, 'clasifier__n_estimators'...</td>\n",
       "      <td>X_test:(52, 18875)</td>\n",
       "      <td>['ENSG00000000938.13', 'ENSG00000002919.15', '...</td>\n",
       "      <td>0.714350</td>\n",
       "      <td>[0.4567627494456763, 0.8068181818181818, 0.650...</td>\n",
       "      <td>[0.06666666666666667, 0.4166666666666667, 0.0,...</td>\n",
       "    </tr>\n",
       "    <tr>\n",
       "      <th>0</th>\n",
       "      <td>mul_s</td>\n",
       "      <td>ANOVA</td>\n",
       "      <td>LR_L2</td>\n",
       "      <td>8270</td>\n",
       "      <td>0.576923</td>\n",
       "      <td>0.595563</td>\n",
       "      <td>0.591126</td>\n",
       "      <td>0.559642</td>\n",
       "      <td>NaN</td>\n",
       "      <td>enderlab</td>\n",
       "      <td>388</td>\n",
       "      <td>2023-10-30 01:13:23.299445</td>\n",
       "      <td>modelo_8270_mul_s_ANOVA_LR_L2.pkl</td>\n",
       "      <td>{'selector__k': 1000, 'clasifier__solver': 'sa...</td>\n",
       "      <td>X_test:(52, 18875)</td>\n",
       "      <td>['ENSG00000000938.13', 'ENSG00000002834.19', '...</td>\n",
       "      <td>0.840903</td>\n",
       "      <td>[0.6452328159645233, 0.9034090909090908, 0.735...</td>\n",
       "      <td>[0.3125, 0.375, 0.2727272727272727, 0.3, 0.727...</td>\n",
       "    </tr>\n",
       "    <tr>\n",
       "      <th>0</th>\n",
       "      <td>mul_s</td>\n",
       "      <td>ANOVA</td>\n",
       "      <td>LR_L1</td>\n",
       "      <td>8270</td>\n",
       "      <td>0.480769</td>\n",
       "      <td>0.429334</td>\n",
       "      <td>0.469697</td>\n",
       "      <td>0.434723</td>\n",
       "      <td>NaN</td>\n",
       "      <td>enderlab</td>\n",
       "      <td>984</td>\n",
       "      <td>2023-10-30 01:06:47.940861</td>\n",
       "      <td>modelo_8270_mul_s_ANOVA_LR_L1.pkl</td>\n",
       "      <td>{'selector__k': 1000, 'clasifier__solver': 'sa...</td>\n",
       "      <td>X_test:(52, 18875)</td>\n",
       "      <td>['ENSG00000000938.13', 'ENSG00000002834.19', '...</td>\n",
       "      <td>0.808219</td>\n",
       "      <td>[0.6053215077605322, 0.8607954545454545, 0.721...</td>\n",
       "      <td>[0.3333333333333333, 0.3, 0.07692307692307693,...</td>\n",
       "    </tr>\n",
       "  </tbody>\n",
       "</table>\n",
       "</div>"
      ],
      "text/plain": [
       "    tipo select clasific  semilla  accuracy  precision    recall  f1_score  \\\n",
       "0  mul_s  ANOVA       RF     8270  0.307692   0.269048  0.303463  0.279402   \n",
       "0  mul_s  ANOVA    LR_L2     8270  0.576923   0.595563  0.591126  0.559642   \n",
       "0  mul_s  ANOVA    LR_L1     8270  0.480769   0.429334  0.469697  0.434723   \n",
       "\n",
       "   roc_auc  hostname  total_time_sec                    datetime  \\\n",
       "0      NaN  enderlab               8  2023-10-30 01:13:38.630205   \n",
       "0      NaN  enderlab             388  2023-10-30 01:13:23.299445   \n",
       "0      NaN  enderlab             984  2023-10-30 01:06:47.940861   \n",
       "\n",
       "                      fichero_modelo  \\\n",
       "0     modelo_8270_mul_s_ANOVA_RF.pkl   \n",
       "0  modelo_8270_mul_s_ANOVA_LR_L2.pkl   \n",
       "0  modelo_8270_mul_s_ANOVA_LR_L1.pkl   \n",
       "\n",
       "                                              params               shape  \\\n",
       "0  {'selector__k': 500, 'clasifier__n_estimators'...  X_test:(52, 18875)   \n",
       "0  {'selector__k': 1000, 'clasifier__solver': 'sa...  X_test:(52, 18875)   \n",
       "0  {'selector__k': 1000, 'clasifier__solver': 'sa...  X_test:(52, 18875)   \n",
       "\n",
       "                                            features  roc_auc_ovr  \\\n",
       "0  ['ENSG00000000938.13', 'ENSG00000002919.15', '...     0.714350   \n",
       "0  ['ENSG00000000938.13', 'ENSG00000002834.19', '...     0.840903   \n",
       "0  ['ENSG00000000938.13', 'ENSG00000002834.19', '...     0.808219   \n",
       "\n",
       "                                         indices_auc  \\\n",
       "0  [0.4567627494456763, 0.8068181818181818, 0.650...   \n",
       "0  [0.6452328159645233, 0.9034090909090908, 0.735...   \n",
       "0  [0.6053215077605322, 0.8607954545454545, 0.721...   \n",
       "\n",
       "                                     indices_jaccard  \n",
       "0  [0.06666666666666667, 0.4166666666666667, 0.0,...  \n",
       "0  [0.3125, 0.375, 0.2727272727272727, 0.3, 0.727...  \n",
       "0  [0.3333333333333333, 0.3, 0.07692307692307693,...  "
      ]
     },
     "metadata": {},
     "output_type": "display_data"
    }
   ],
   "source": [
    "if M_TIPO.startswith(\"bin\"):\n",
    "    myfunc.save_metricas_to_csv(random_search, X_test, y_test, M_TIPO, M_SELECT, M_CLASIF, total_time, SEMILLA, myfunc.MET_DIR, M_FICHERO, fichero_modelo)\n",
    "else:\n",
    "    myfunc.save_metricas_multi_to_csv(random_search, X_test, y_test, M_TIPO, M_SELECT, M_CLASIF, total_time, SEMILLA, myfunc.MET_DIR, M_FICHERO, fichero_modelo)\n",
    "\n",
    "df1=myfunc.read_metricas_to_df(myfunc.MET_DIR,M_FICHERO)\n",
    "\n",
    "display(df1.sort_values(\"datetime\", ascending=False)[:3])\n"
   ]
  },
  {
   "cell_type": "markdown",
   "id": "2a0e89d3",
   "metadata": {
    "papermill": {
     "duration": 0.006622,
     "end_time": "2023-10-30T00:13:38.698428",
     "exception": false,
     "start_time": "2023-10-30T00:13:38.691806",
     "status": "completed"
    },
    "tags": []
   },
   "source": [
    "#### Guardar resultados"
   ]
  },
  {
   "cell_type": "code",
   "execution_count": 13,
   "id": "95c26b36",
   "metadata": {
    "execution": {
     "iopub.execute_input": "2023-10-30T00:13:38.712657Z",
     "iopub.status.busy": "2023-10-30T00:13:38.712143Z",
     "iopub.status.idle": "2023-10-30T00:13:38.721576Z",
     "shell.execute_reply": "2023-10-30T00:13:38.721008Z"
    },
    "papermill": {
     "duration": 0.01786,
     "end_time": "2023-10-30T00:13:38.722799",
     "exception": false,
     "start_time": "2023-10-30T00:13:38.704939",
     "status": "completed"
    },
    "tags": []
   },
   "outputs": [
    {
     "name": "stdout",
     "output_type": "stream",
     "text": [
      "20231030T011338 : enderlab : INFO : Inicio guardar resultados\n",
      "20231030T011338 : enderlab : INFO : Inicio guardar fichero ../tfm_git/ejecuciones/metricas/resultados_8270_mul_s-ANOVA-RF.csv\n",
      "20231030T011338 : enderlab : INFO : Fin guardar fichero ../tfm_git/ejecuciones/metricas/resultados_8270_mul_s-ANOVA-RF.csv\n",
      "20231030T011338 : enderlab : INFO : Fin guardar resultados\n"
     ]
    }
   ],
   "source": [
    "fichero_resultados=R_FICHERO+\"_\"+M_TIPO+\"-\"+M_SELECT+\"-\"+M_CLASIF+\".csv\"\n",
    "myfunc.save_resultados_to_csv(M_TIPO, M_SELECT, M_CLASIF,  random_search, myfunc.MET_DIR, fichero_resultados)\n"
   ]
  }
 ],
 "metadata": {
  "kernelspec": {
   "display_name": "Python 3 (ipykernel)",
   "language": "python",
   "name": "python3"
  },
  "language_info": {
   "codemirror_mode": {
    "name": "ipython",
    "version": 3
   },
   "file_extension": ".py",
   "mimetype": "text/x-python",
   "name": "python",
   "nbconvert_exporter": "python",
   "pygments_lexer": "ipython3",
   "version": "3.10.11"
  },
  "papermill": {
   "default_parameters": {},
   "duration": 13.683677,
   "end_time": "2023-10-30T00:13:41.348571",
   "environment_variables": {},
   "exception": null,
   "input_path": "03_entrenamiento.ipynb",
   "output_path": "ejecuciones/training/03_entrenamiento.20231030T011327.param_0000_8270_mul_s_ANOVA_RF.output.ipynb",
   "parameters": {
    "MAX_ITERS": 500,
    "M_CLASIF": "RF",
    "M_FICHERO": "metricas_8270",
    "M_SELECT": "ANOVA",
    "M_TIPO": "mul_s",
    "PRE_DATA_FILE": "rows_transpose_norm_by_gene_id_with_target_num_",
    "P_FICHERO": "param_0000_8270_mul_s_ANOVA_RF.yaml",
    "R_FICHERO": "resultados_8270",
    "SCORING": "roc_auc_ovr",
    "SEMILLA": 8270,
    "eval_clasifier": "RandomForestClassifier(random_state=SEMILLA)",
    "eval_selector": "SelectKBest(score_func=f_classif)",
    "param_distributions": {
     "clasifier__bootstrap": [
      true
     ],
     "clasifier__max_depth": [
      10
     ],
     "clasifier__max_features": [
      200
     ],
     "clasifier__min_samples_leaf": [
      5
     ],
     "clasifier__min_samples_split": [
      10
     ],
     "clasifier__n_estimators": [
      200
     ],
     "selector__k": [
      500
     ]
    }
   },
   "start_time": "2023-10-30T00:13:27.664894",
   "version": "2.4.0"
  }
 },
 "nbformat": 4,
 "nbformat_minor": 5
}