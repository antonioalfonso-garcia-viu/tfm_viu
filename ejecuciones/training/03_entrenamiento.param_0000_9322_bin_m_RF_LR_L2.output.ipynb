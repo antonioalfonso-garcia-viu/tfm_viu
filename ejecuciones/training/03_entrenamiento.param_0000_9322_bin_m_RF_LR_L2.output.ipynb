{
 "cells": [
  {
   "cell_type": "markdown",
   "id": "d13312fe",
   "metadata": {
    "papermill": {
     "duration": 0.005576,
     "end_time": "2023-10-30T02:21:55.674836",
     "exception": false,
     "start_time": "2023-10-30T02:21:55.669260",
     "status": "completed"
    },
    "tags": []
   },
   "source": [
    "##### Inicio"
   ]
  },
  {
   "cell_type": "markdown",
   "id": "880896ec",
   "metadata": {
    "papermill": {
     "duration": 0.003525,
     "end_time": "2023-10-30T02:21:55.682100",
     "exception": false,
     "start_time": "2023-10-30T02:21:55.678575",
     "status": "completed"
    },
    "tags": []
   },
   "source": [
    "#### Carga de datos"
   ]
  },
  {
   "cell_type": "code",
   "execution_count": 1,
   "id": "499ccf7b",
   "metadata": {
    "execution": {
     "iopub.execute_input": "2023-10-30T02:21:55.690610Z",
     "iopub.status.busy": "2023-10-30T02:21:55.689828Z",
     "iopub.status.idle": "2023-10-30T02:21:56.815119Z",
     "shell.execute_reply": "2023-10-30T02:21:56.814508Z"
    },
    "papermill": {
     "duration": 1.131081,
     "end_time": "2023-10-30T02:21:56.816582",
     "exception": false,
     "start_time": "2023-10-30T02:21:55.685501",
     "status": "completed"
    },
    "tags": []
   },
   "outputs": [
    {
     "name": "stdout",
     "output_type": "stream",
     "text": [
      "CPU_COUNT: 16; NODE: enderlab; sys.version: 3.10.11 (main, May 16 2023, 00:28:57) [GCC 11.2.0]\n",
      "LOKY_MAX_CPU_COUNT is not set.\n",
      "OMP_NUM_THREADS is not set.\n"
     ]
    }
   ],
   "source": [
    "import os\n",
    "import numpy as np\n",
    "import pandas as pd\n",
    "import datetime\n",
    "import sklearn\n",
    "import logging\n",
    "import warnings\n",
    "\n",
    "from sklearn.pipeline import Pipeline\n",
    "from sklearn.model_selection import RandomizedSearchCV, KFold, cross_val_score, train_test_split\n",
    "from sklearn.metrics import accuracy_score, confusion_matrix, classification_report, roc_auc_score\n",
    "\n",
    "#  cargar algoritmos para aprendizaje supervisado\n",
    "from sklearn.feature_selection import SelectKBest, f_classif, SelectFromModel, mutual_info_classif\n",
    "from sklearn.svm import SVC\n",
    "from sklearn.ensemble import RandomForestClassifier\n",
    "from sklearn.linear_model import LogisticRegression,LogisticRegressionCV\n",
    "\n",
    "# importar fichero con utilidades propias\n",
    "from commons import myfunctions as myfunc\n"
   ]
  },
  {
   "cell_type": "markdown",
   "id": "47272655",
   "metadata": {
    "papermill": {
     "duration": 0.003615,
     "end_time": "2023-10-30T02:21:56.824314",
     "exception": false,
     "start_time": "2023-10-30T02:21:56.820699",
     "status": "completed"
    },
    "tags": []
   },
   "source": [
    "#### Parámetros a utilizar en el entrenamiento.\n",
    "\n",
    "Se indican los 3 algoritmos de *selección de características* (eval_selector_xxx) y los 3 algoritmos para la _clasificación_ (eval_clasifier_xxx)\n",
    "\n",
    "En *param_distributions* se indicar los parámetros que utilizan los algoritmos en la función RandomSearchCV.\n",
    "\n",
    "Esta celda tiene la etiqueta **parameters** que servirá para poder lanzar los entrenamientos con la utilidad **papermill** pasándole un fichero con los parámetros. Los nuevos parámetros se situarán tras esta celda para tener prevalencia."
   ]
  },
  {
   "cell_type": "code",
   "execution_count": 2,
   "id": "ff71ff52",
   "metadata": {
    "execution": {
     "iopub.execute_input": "2023-10-30T02:21:56.832551Z",
     "iopub.status.busy": "2023-10-30T02:21:56.832184Z",
     "iopub.status.idle": "2023-10-30T02:21:56.840737Z",
     "shell.execute_reply": "2023-10-30T02:21:56.840188Z"
    },
    "papermill": {
     "duration": 0.014336,
     "end_time": "2023-10-30T02:21:56.842008",
     "exception": false,
     "start_time": "2023-10-30T02:21:56.827672",
     "status": "completed"
    },
    "tags": [
     "parameters"
    ]
   },
   "outputs": [
    {
     "name": "stdout",
     "output_type": "stream",
     "text": [
      "20231030T032156 : enderlab : INFO : Utilizando parámetros de mul_m\n"
     ]
    }
   ],
   "source": [
    "#  Parametros para el entrenamiento\n",
    "\n",
    "SEMILLA=        42\n",
    "M_TIPO=         \"mul_m\"\n",
    "M_SELECT=       \"MI\"\n",
    "M_CLASIF=       \"SVM\"\n",
    "R_FICHERO=      \"resultados\"\n",
    "M_FICHERO=      \"metricas\"\n",
    "PRE_DATA_FILE=  \"rows_transpose_norm_by_gene_id_with_target_num_\"\n",
    "SCORING=        \"roc_auc_ovr\" \n",
    "MAX_ITERS=      100\n",
    "\n",
    "def mutual_info_classif_state(X, y):\n",
    "    return mutual_info_classif(X, y, random_state=SEMILLA)\n",
    "\n",
    "eval_selector_mi = \"SelectKBest(score_func=mutual_info_classif_state)\"\n",
    "eval_selector_rf=  \"SelectFromModel(estimator=RandomForestClassifier(random_state=SEMILLA), threshold=-np.inf)\"\n",
    "eval_selector_anova=  \"SelectKBest(score_func=f_classif)\"\n",
    "\n",
    "eval_clasifier_svm= \"SVC(probability=True, random_state=SEMILLA)\"\n",
    "eval_clasifier_rf= \"RandomForestClassifier(random_state=SEMILLA)\"\n",
    "eval_clasifier_lr= \"LogisticRegressionCV(random_state=SEMILLA)\"\n",
    "\n",
    "if M_TIPO.startswith(\"bin_m\"):\n",
    "    myfunc.verbose(f\"Utilizando parámetros de {M_TIPO}\")\n",
    "    eval_selector = eval_selector_mi\n",
    "    eval_clasifier = eval_clasifier_svm\n",
    "\n",
    "    SEMILLA = 6578\n",
    "    M_SELECT = \"MI\"\n",
    "    M_CLASIF = \"SVM\"\n",
    "    param_distributions = {'selector__k': [1000], \n",
    "         'clasifier__kernel': ['rbf'], 'clasifier__gamma': [0.01], 'clasifier__C': [100]}\n",
    "elif M_TIPO.startswith(\"bin_s\"):\n",
    "    myfunc.verbose(f\"Utilizando parámetros de {M_TIPO}\")\n",
    "    eval_selector = eval_selector_rf\n",
    "    eval_clasifier = eval_clasifier_lr\n",
    "\n",
    "    SEMILLA = 6191\n",
    "    M_SELECT = \"RF\"\n",
    "    M_CLASIF = \"LR_L2\"\n",
    "    param_distributions = {'selector__max_features': [1000], 'selector__estimator__n_estimators': [200], \n",
    "        'clasifier__solver': ['lbfgs'], 'clasifier__penalty': ['l2'], 'clasifier__max_iter': [10000]}\n",
    "\n",
    "elif M_TIPO.startswith(\"mul_m\"):\n",
    "    myfunc.verbose(f\"Utilizando parámetros de {M_TIPO}\")\n",
    " \n",
    "    eval_selector = eval_selector_rf\n",
    "    eval_clasifier = eval_clasifier_lr\n",
    "\n",
    "    SEMILLA = 6191\n",
    "    M_SELECT = \"RF\"\n",
    "    M_CLASIF = \"LR_L2\"\n",
    "    param_distributions = {'selector__max_features': [1000], 'selector__estimator__n_estimators': [400], \n",
    "        'clasifier__solver': ['lbfgs'], 'clasifier__penalty': ['l2'], 'clasifier__max_iter': [10000]}\n",
    "\n",
    "else:\n",
    "    # M_TIPO.startswith(\"mul_s\"):\n",
    "    myfunc.verbose(f\"Utilizando parámetros de {M_TIPO}\")\n",
    "    eval_selector = eval_selector_anova\n",
    "    eval_clasifier = eval_clasifier_lr\n",
    "\n",
    "    SEMILLA = 1860\n",
    "    M_SELECT = \"ANOVA\"\n",
    "    M_CLASIF = \"LR_L2\"\n",
    "    param_distributions = {'selector__k': [1000], \n",
    "        'clasifier__solver': ['saga'], 'clasifier__penalty': ['l2'], 'clasifier__max_iter': [10000]}\n",
    "\n"
   ]
  },
  {
   "cell_type": "code",
   "execution_count": 3,
   "id": "91fb5239",
   "metadata": {
    "execution": {
     "iopub.execute_input": "2023-10-30T02:21:56.850381Z",
     "iopub.status.busy": "2023-10-30T02:21:56.849936Z",
     "iopub.status.idle": "2023-10-30T02:21:56.853845Z",
     "shell.execute_reply": "2023-10-30T02:21:56.853316Z"
    },
    "papermill": {
     "duration": 0.009352,
     "end_time": "2023-10-30T02:21:56.855020",
     "exception": false,
     "start_time": "2023-10-30T02:21:56.845668",
     "status": "completed"
    },
    "tags": [
     "injected-parameters"
    ]
   },
   "outputs": [],
   "source": [
    "# Parameters\n",
    "M_TIPO = \"bin_m\"\n",
    "M_SELECT = \"RF\"\n",
    "M_CLASIF = \"LR_L2\"\n",
    "P_FICHERO = \"param_0000_9322_bin_m_RF_LR_L2.yaml\"\n",
    "R_FICHERO = \"resultados_9322\"\n",
    "M_FICHERO = \"metricas_9322\"\n",
    "PRE_DATA_FILE = \"rows_transpose_norm_by_gene_id_with_target_num_\"\n",
    "SCORING = \"roc_auc_ovr\"\n",
    "SEMILLA = 9322\n",
    "MAX_ITERS = 500\n",
    "eval_selector = \"SelectFromModel(estimator=RandomForestClassifier(random_state=SEMILLA), threshold=-np.inf)\"\n",
    "eval_clasifier = \"LogisticRegressionCV(random_state=SEMILLA)\"\n",
    "param_distributions = {\n",
    "    \"selector__max_features\": [500],\n",
    "    \"selector__estimator__n_estimators\": [100],\n",
    "    \"clasifier__solver\": [\"lbfgs\"],\n",
    "    \"clasifier__penalty\": [\"l2\"],\n",
    "    \"clasifier__max_iter\": [10000],\n",
    "}\n"
   ]
  },
  {
   "cell_type": "code",
   "execution_count": 4,
   "id": "7c9c0697",
   "metadata": {
    "execution": {
     "iopub.execute_input": "2023-10-30T02:21:56.863089Z",
     "iopub.status.busy": "2023-10-30T02:21:56.862758Z",
     "iopub.status.idle": "2023-10-30T02:21:56.865985Z",
     "shell.execute_reply": "2023-10-30T02:21:56.865438Z"
    },
    "papermill": {
     "duration": 0.008658,
     "end_time": "2023-10-30T02:21:56.867168",
     "exception": false,
     "start_time": "2023-10-30T02:21:56.858510",
     "status": "completed"
    },
    "tags": []
   },
   "outputs": [],
   "source": [
    "DATA_FILE = PRE_DATA_FILE + M_TIPO\n",
    "\n",
    "# si viene \"None\" en el parámetro max_depth, se le quitan las comillas para que no sea entendido por el algoritmo como un texto\n",
    "if \"clasifier__max_depth\" in param_distributions:\n",
    "    param_distributions['clasifier__max_depth'] = [None if x == 'None' else x for x in param_distributions['clasifier__max_depth']]"
   ]
  },
  {
   "cell_type": "markdown",
   "id": "68708139",
   "metadata": {
    "papermill": {
     "duration": 0.003565,
     "end_time": "2023-10-30T02:21:56.874288",
     "exception": false,
     "start_time": "2023-10-30T02:21:56.870723",
     "status": "completed"
    },
    "tags": []
   },
   "source": [
    "Asignar los algoritmos que se utilizarán en la función RandomSearchCV"
   ]
  },
  {
   "cell_type": "code",
   "execution_count": 5,
   "id": "7d014177",
   "metadata": {
    "execution": {
     "iopub.execute_input": "2023-10-30T02:21:56.882702Z",
     "iopub.status.busy": "2023-10-30T02:21:56.882263Z",
     "iopub.status.idle": "2023-10-30T02:21:56.885210Z",
     "shell.execute_reply": "2023-10-30T02:21:56.884640Z"
    },
    "papermill": {
     "duration": 0.008509,
     "end_time": "2023-10-30T02:21:56.886410",
     "exception": false,
     "start_time": "2023-10-30T02:21:56.877901",
     "status": "completed"
    },
    "tags": []
   },
   "outputs": [],
   "source": [
    "algor_selector=eval(eval_selector)\n",
    "algor_clasifier=eval(eval_clasifier)"
   ]
  },
  {
   "cell_type": "markdown",
   "id": "2e06b881",
   "metadata": {
    "papermill": {
     "duration": 0.003793,
     "end_time": "2023-10-30T02:21:56.893789",
     "exception": false,
     "start_time": "2023-10-30T02:21:56.889996",
     "status": "completed"
    },
    "tags": []
   },
   "source": [
    "#### Comprobar el entorno y leer fichero de muestras"
   ]
  },
  {
   "cell_type": "code",
   "execution_count": 6,
   "id": "f15788a5",
   "metadata": {
    "execution": {
     "iopub.execute_input": "2023-10-30T02:21:56.902829Z",
     "iopub.status.busy": "2023-10-30T02:21:56.902354Z",
     "iopub.status.idle": "2023-10-30T02:21:57.247054Z",
     "shell.execute_reply": "2023-10-30T02:21:57.246447Z"
    },
    "papermill": {
     "duration": 0.350556,
     "end_time": "2023-10-30T02:21:57.248440",
     "exception": false,
     "start_time": "2023-10-30T02:21:56.897884",
     "status": "completed"
    },
    "tags": []
   },
   "outputs": [
    {
     "name": "stdout",
     "output_type": "stream",
     "text": [
      "20231030T032156 : enderlab : INFO : Encontrada carpeta DATA_DIR=../tfm_git/datos\n",
      "20231030T032156 : enderlab : INFO : Encontrada carpeta CFDNA_DIR=../tfm_git/datos/cfDNA_5hmC\n",
      "20231030T032156 : enderlab : INFO : Encontrada carpeta GENCODE_DIR=../tfm_git/datos/gencode\n",
      "20231030T032156 : enderlab : INFO : Encontrada carpeta H5_DIR=../tfm_git/datos/h5\n",
      "20231030T032156 : enderlab : INFO : Encontrada carpeta LOG_DIR=../tfm_git/datos/logs\n",
      "20231030T032156 : enderlab : INFO : Encontrada carpeta CSV_DIR=../tfm_git/datos/csv\n",
      "20231030T032156 : enderlab : INFO : Encontrada carpeta MODEL_DIR=../tfm_git/ejecuciones/modelos\n",
      "20231030T032156 : enderlab : INFO : Encontrada carpeta EXEC_DIR=../tfm_git/ejecuciones\n",
      "20231030T032156 : enderlab : INFO : Encontrada carpeta MET_DIR=../tfm_git/ejecuciones/metricas\n",
      "20231030T032156 : enderlab : INFO : Inicio leer fichero h5 ../tfm_git/datos/h5/rows_transpose_norm_by_gene_id_with_target_num_bin_m.h5\n",
      "20231030T032156 : enderlab : INFO : Leyendo clave /df\n"
     ]
    },
    {
     "name": "stdout",
     "output_type": "stream",
     "text": [
      "20231030T032157 : enderlab : INFO : Tamaño (720, 18876)\n",
      "20231030T032157 : enderlab : INFO : Fin leer fichero h5 ../tfm_git/datos/h5/rows_transpose_norm_by_gene_id_with_target_num_bin_m.h5\n"
     ]
    },
    {
     "data": {
      "text/plain": [
       "target\n",
       "0    360\n",
       "1    360\n",
       "dtype: int64"
      ]
     },
     "metadata": {},
     "output_type": "display_data"
    },
    {
     "name": "stdout",
     "output_type": "stream",
     "text": [
      "Shape df: (720, 18876)\n",
      "Shape X_train: (576, 18875)\n",
      "Shape X_test: (144, 18875)\n"
     ]
    }
   ],
   "source": [
    "start_time = datetime.datetime.now()\n",
    "\n",
    "myfunc.reset_vars()\n",
    "\n",
    "myfunc.NOTEBK_FILENAME = myfunc.get_nb_name()\n",
    "\n",
    "myfunc.check_enviroment(myfunc.DATA_DIR, myfunc.CFDNA_DIR, myfunc.GENCODE_DIR, myfunc.H5_DIR, myfunc.LOG_DIR, myfunc.CSV_DIR, myfunc.MODEL_DIR, myfunc.EXEC_DIR, myfunc.MET_DIR)\n",
    "\n",
    "# Leer fichero con las muestras\n",
    "df_t = myfunc.read_h5_to_df(DATA_FILE, myfunc.H5_DIR)\n",
    "display(df_t.groupby(\"target\").size())\n",
    "print(\"Shape df:\",df_t.shape)\n",
    "\n",
    "# Separar caracteristicas/genes de las etiquetas/tipos de cáncer\n",
    "X = df_t.iloc[:, :-1]  # Todas las columnas excepto la última\n",
    "y = df_t.iloc[:, -1]  # La última columna contiene los identificadores de los tipos de cáncer\n",
    "\n",
    "#  Crear el conjunto de datos de entrenamiento y de pruebas, y se fija la semilla para siempre coger el mismo juego de muestras\n",
    "X_train, X_test, y_train, y_test = train_test_split(X, y, test_size=0.2, shuffle=True, random_state=42)\n",
    "print(\"Shape X_train:\",X_train.shape)\n",
    "print(\"Shape X_test:\",X_test.shape)\n"
   ]
  },
  {
   "cell_type": "markdown",
   "id": "cde8d075",
   "metadata": {
    "papermill": {
     "duration": 0.004014,
     "end_time": "2023-10-30T02:21:57.257026",
     "exception": false,
     "start_time": "2023-10-30T02:21:57.253012",
     "status": "completed"
    },
    "tags": []
   },
   "source": [
    "#### Selección de características y clasificación."
   ]
  },
  {
   "cell_type": "code",
   "execution_count": 7,
   "id": "0f9a975f",
   "metadata": {
    "execution": {
     "iopub.execute_input": "2023-10-30T02:21:57.266190Z",
     "iopub.status.busy": "2023-10-30T02:21:57.265637Z",
     "iopub.status.idle": "2023-10-30T02:22:11.156009Z",
     "shell.execute_reply": "2023-10-30T02:22:11.152026Z"
    },
    "papermill": {
     "duration": 13.896963,
     "end_time": "2023-10-30T02:22:11.157894",
     "exception": false,
     "start_time": "2023-10-30T02:21:57.260931",
     "status": "completed"
    },
    "tags": []
   },
   "outputs": [
    {
     "name": "stdout",
     "output_type": "stream",
     "text": [
      "20231030T032157 : enderlab : INFO : Iniciando entrenamiento\n",
      "num_iter: 1 , max_iter: 1\n",
      "Fitting 5 folds for each of 1 candidates, totalling 5 fits\n"
     ]
    },
    {
     "name": "stdout",
     "output_type": "stream",
     "text": [
      "Mejores Hiperparámetros: {'selector__max_features': 500, 'selector__estimator__n_estimators': 100, 'clasifier__solver': 'lbfgs', 'clasifier__penalty': 'l2', 'clasifier__max_iter': 10000}\n",
      "Mejor Puntuación: 0.8784\n",
      "20231030T032211 : enderlab : INFO : Fin entrenamiento\n"
     ]
    }
   ],
   "source": [
    "myfunc.verbose(\"Iniciando entrenamiento\")\n",
    "\n",
    "kf = KFold(n_splits=5, shuffle=True, random_state=SEMILLA)\n",
    "\n",
    "# Crear el pipeline para el flujo de tareas\n",
    "tasks_pipeline = Pipeline([\n",
    "    ('selector', algor_selector),\n",
    "    ('clasifier', algor_clasifier)\n",
    "])\n",
    "\n",
    "# MAX_ITERS puede limitar el número de iteraciones si son excesivas para las combinaciones de parámetros buscando un óptimo local, \n",
    "# sino funcionaría como GridSearchCV al revisar todas las cominaciones de los parámetros\n",
    "num_iteraciones = 1\n",
    "num_iteraciones = num_iteraciones * np.prod([len(elemento1) for _, elemento1 in param_distributions.items()])\n",
    "max_iteraciones = num_iteraciones if num_iteraciones <= MAX_ITERS else MAX_ITERS\n",
    "print(\"num_iter:\",num_iteraciones,\", max_iter:\",max_iteraciones)\n",
    "\n",
    "random_search = RandomizedSearchCV(\n",
    "    tasks_pipeline, \n",
    "    param_distributions, \n",
    "    n_iter=max_iteraciones,\n",
    "    scoring=SCORING,\n",
    "    cv=kf,\n",
    "    verbose=3, \n",
    "    random_state=SEMILLA, \n",
    "    n_jobs=-1\n",
    "    )\n",
    "\n",
    "# Entrenar el modelo\n",
    "random_search.fit(X_train, y_train)\n",
    "\n",
    "# Ver los mejores hiperparámetros encontrados\n",
    "print(f'Mejores Hiperparámetros: {random_search.best_params_}')\n",
    "print(f'Mejor Puntuación: {random_search.best_score_:.4f}')\n",
    "\n",
    "# Nos quedamos con el mejor modelo para ver las métricas\n",
    "mejor_modelo = random_search.best_estimator_\n",
    "\n",
    "myfunc.verbose(\"Fin entrenamiento\")"
   ]
  },
  {
   "cell_type": "markdown",
   "id": "67e12ae8",
   "metadata": {
    "papermill": {
     "duration": 0.004107,
     "end_time": "2023-10-30T02:22:11.167188",
     "exception": false,
     "start_time": "2023-10-30T02:22:11.163081",
     "status": "completed"
    },
    "tags": []
   },
   "source": [
    "#### Guardar modelo"
   ]
  },
  {
   "cell_type": "code",
   "execution_count": 8,
   "id": "2517b75e",
   "metadata": {
    "execution": {
     "iopub.execute_input": "2023-10-30T02:22:11.180633Z",
     "iopub.status.busy": "2023-10-30T02:22:11.180008Z",
     "iopub.status.idle": "2023-10-30T02:22:11.268333Z",
     "shell.execute_reply": "2023-10-30T02:22:11.267754Z"
    },
    "papermill": {
     "duration": 0.098443,
     "end_time": "2023-10-30T02:22:11.269637",
     "exception": false,
     "start_time": "2023-10-30T02:22:11.171194",
     "status": "completed"
    },
    "tags": []
   },
   "outputs": [
    {
     "name": "stdout",
     "output_type": "stream",
     "text": [
      "20231030T032211 : enderlab : INFO : Inicio guardar fichero ../tfm_git/ejecuciones/modelos/modelo_9322_bin_m_RF_LR_L2.pkl\n",
      "20231030T032211 : enderlab : INFO : Fin guardar fichero ../tfm_git/ejecuciones/modelos/modelo_9322_bin_m_RF_LR_L2.pkl\n"
     ]
    }
   ],
   "source": [
    "fichero_modelo = str.replace(\"modelo_\"+str(SEMILLA).zfill(4)+\"_\"+M_TIPO+\"_\"+M_SELECT+\"_\"+M_CLASIF+\".pkl\", \" \", \"_\")\n",
    "\n",
    "myfunc.save_modelo(mejor_modelo, myfunc.MODEL_DIR, fichero_modelo)"
   ]
  },
  {
   "cell_type": "markdown",
   "id": "6f11dad0",
   "metadata": {
    "papermill": {
     "duration": 0.004308,
     "end_time": "2023-10-30T02:22:11.278321",
     "exception": false,
     "start_time": "2023-10-30T02:22:11.274013",
     "status": "completed"
    },
    "tags": []
   },
   "source": [
    "#### Ver resultados del las iteraciones hechas por RandomSearchCV"
   ]
  },
  {
   "cell_type": "code",
   "execution_count": 9,
   "id": "a3fcf840",
   "metadata": {
    "execution": {
     "iopub.execute_input": "2023-10-30T02:22:11.287757Z",
     "iopub.status.busy": "2023-10-30T02:22:11.287152Z",
     "iopub.status.idle": "2023-10-30T02:22:11.298940Z",
     "shell.execute_reply": "2023-10-30T02:22:11.298354Z"
    },
    "papermill": {
     "duration": 0.01778,
     "end_time": "2023-10-30T02:22:11.300154",
     "exception": false,
     "start_time": "2023-10-30T02:22:11.282374",
     "status": "completed"
    },
    "tags": []
   },
   "outputs": [
    {
     "name": "stdout",
     "output_type": "stream",
     "text": [
      "20231030T032211 : enderlab : INFO : Inicio ver resultados\n",
      "Mejores Hiperparámetros: {'selector__max_features': 500, 'selector__estimator__n_estimators': 100, 'clasifier__solver': 'lbfgs', 'clasifier__penalty': 'l2', 'clasifier__max_iter': 10000}\n",
      "Mejores puntuaciones: 0.8784 | Params: {'selector__max_features': 500, 'selector__estimator__n_estimators': 100, 'clasifier__solver': 'lbfgs', 'clasifier__penalty': 'l2', 'clasifier__max_iter': 10000}\n",
      "Media de las puntuaciones: 0.8784 | Params: {'selector__max_features': 500, 'selector__estimator__n_estimators': 100, 'clasifier__solver': 'lbfgs', 'clasifier__penalty': 'l2', 'clasifier__max_iter': 10000}\n",
      "20231030T032211 : enderlab : INFO : Fin resultados\n"
     ]
    }
   ],
   "source": [
    "myfunc.ver_resultados_search(random_search)"
   ]
  },
  {
   "cell_type": "markdown",
   "id": "72c68800",
   "metadata": {
    "papermill": {
     "duration": 0.004098,
     "end_time": "2023-10-30T02:22:11.308447",
     "exception": false,
     "start_time": "2023-10-30T02:22:11.304349",
     "status": "completed"
    },
    "tags": []
   },
   "source": [
    "#### Ver métricas del mejor modelo"
   ]
  },
  {
   "cell_type": "code",
   "execution_count": 10,
   "id": "c5033e84",
   "metadata": {
    "execution": {
     "iopub.execute_input": "2023-10-30T02:22:11.318060Z",
     "iopub.status.busy": "2023-10-30T02:22:11.317629Z",
     "iopub.status.idle": "2023-10-30T02:22:11.988861Z",
     "shell.execute_reply": "2023-10-30T02:22:11.988261Z"
    },
    "papermill": {
     "duration": 0.67756,
     "end_time": "2023-10-30T02:22:11.990167",
     "exception": false,
     "start_time": "2023-10-30T02:22:11.312607",
     "status": "completed"
    },
    "tags": []
   },
   "outputs": [
    {
     "name": "stdout",
     "output_type": "stream",
     "text": [
      "20231030T032211 : enderlab : INFO : Inicio ver métricas\n"
     ]
    },
    {
     "name": "stdout",
     "output_type": "stream",
     "text": [
      "              precision    recall  f1-score   support\n",
      "\n",
      "           0       0.89      0.85      0.87        82\n",
      "           1       0.82      0.85      0.83        62\n",
      "\n",
      "    accuracy                           0.85       144\n",
      "   macro avg       0.85      0.85      0.85       144\n",
      "weighted avg       0.86      0.85      0.85       144\n",
      "\n",
      "\n",
      "\n",
      "   Exactitud: 0.8542\n",
      "   Precisión: 0.8507\n",
      "Sensibilidad: 0.8542\n",
      "    F1-score: 0.8521\n",
      "     AUC ROC: 0.9225\n"
     ]
    },
    {
     "data": {
      "image/png": "[encoded data removed]",
      "text/plain": [
       "<Figure size 300x100 with 2 Axes>"
      ]
     },
     "metadata": {},
     "output_type": "display_data"
    },
    {
     "data": {
      "image/png": "[encoded data removed]",
      "text/plain": [
       "<Figure size 800x500 with 1 Axes>"
      ]
     },
     "metadata": {},
     "output_type": "display_data"
    },
    {
     "name": "stdout",
     "output_type": "stream",
     "text": [
      "20231030T032211 : enderlab : INFO : Fin ver métricas\n"
     ]
    }
   ],
   "source": [
    "if M_TIPO.startswith(\"bin\"):\n",
    "    myfunc.ver_metricas(mejor_modelo, X_test, y_test)\n",
    "else:\n",
    "    myfunc.ver_metricas_multi(mejor_modelo, X_test, y_test)\n"
   ]
  },
  {
   "cell_type": "markdown",
   "id": "b17686d0",
   "metadata": {
    "papermill": {
     "duration": 0.005103,
     "end_time": "2023-10-30T02:22:12.000945",
     "exception": false,
     "start_time": "2023-10-30T02:22:11.995842",
     "status": "completed"
    },
    "tags": []
   },
   "source": [
    "#### Finalización del notebook"
   ]
  },
  {
   "cell_type": "code",
   "execution_count": 11,
   "id": "6b375805",
   "metadata": {
    "execution": {
     "iopub.execute_input": "2023-10-30T02:22:12.014695Z",
     "iopub.status.busy": "2023-10-30T02:22:12.014188Z",
     "iopub.status.idle": "2023-10-30T02:22:12.017992Z",
     "shell.execute_reply": "2023-10-30T02:22:12.017439Z"
    },
    "papermill": {
     "duration": 0.011323,
     "end_time": "2023-10-30T02:22:12.019271",
     "exception": false,
     "start_time": "2023-10-30T02:22:12.007948",
     "status": "completed"
    },
    "tags": []
   },
   "outputs": [
    {
     "name": "stdout",
     "output_type": "stream",
     "text": [
      "20231030T032212 : enderlab : INFO : Notebook ha tardado 15 seconds\n"
     ]
    }
   ],
   "source": [
    "end_time = datetime.datetime.now()\n",
    "total_time = end_time - start_time\n",
    "myfunc.verbose(f\"Notebook ha tardado {total_time.seconds} seconds\")"
   ]
  },
  {
   "cell_type": "markdown",
   "id": "09ae0414",
   "metadata": {
    "papermill": {
     "duration": 0.005011,
     "end_time": "2023-10-30T02:22:12.029302",
     "exception": false,
     "start_time": "2023-10-30T02:22:12.024291",
     "status": "completed"
    },
    "tags": []
   },
   "source": [
    "#### Guardar métricas"
   ]
  },
  {
   "cell_type": "code",
   "execution_count": 12,
   "id": "5586165d",
   "metadata": {
    "execution": {
     "iopub.execute_input": "2023-10-30T02:22:12.040635Z",
     "iopub.status.busy": "2023-10-30T02:22:12.040242Z",
     "iopub.status.idle": "2023-10-30T02:22:12.371287Z",
     "shell.execute_reply": "2023-10-30T02:22:12.370678Z"
    },
    "papermill": {
     "duration": 0.338149,
     "end_time": "2023-10-30T02:22:12.372549",
     "exception": false,
     "start_time": "2023-10-30T02:22:12.034400",
     "status": "completed"
    },
    "tags": []
   },
   "outputs": [
    {
     "name": "stdout",
     "output_type": "stream",
     "text": [
      "20231030T032212 : enderlab : INFO : Inicio guardar métricas\n",
      "20231030T032212 : enderlab : INFO : Inicio leer fichero ../tfm_git/ejecuciones/metricas/metricas_9322.csv\n",
      "20231030T032212 : enderlab : INFO : Fin leer fichero ../tfm_git/ejecuciones/metricas/metricas_9322.csv\n"
     ]
    },
    {
     "name": "stdout",
     "output_type": "stream",
     "text": [
      "20231030T032212 : enderlab : INFO : Inicio guardar fichero ../tfm_git/ejecuciones/metricas/metricas_9322.csv\n",
      "20231030T032212 : enderlab : INFO : Fichero borrado ../tfm_git/ejecuciones/metricas/metricas_9322.csv\n",
      "20231030T032212 : enderlab : INFO : Fin guardar fichero ../tfm_git/ejecuciones/metricas/metricas_9322.csv\n",
      "20231030T032212 : enderlab : INFO : Fin guardar métricas\n",
      "20231030T032212 : enderlab : INFO : Inicio leer fichero ../tfm_git/ejecuciones/metricas/metricas_9322.csv\n",
      "20231030T032212 : enderlab : INFO : Fin leer fichero ../tfm_git/ejecuciones/metricas/metricas_9322.csv\n"
     ]
    },
    {
     "data": {
      "text/html": [
       "<div>\n",
       "<style scoped>\n",
       "    .dataframe tbody tr th:only-of-type {\n",
       "        vertical-align: middle;\n",
       "    }\n",
       "\n",
       "    .dataframe tbody tr th {\n",
       "        vertical-align: top;\n",
       "    }\n",
       "\n",
       "    .dataframe thead th {\n",
       "        text-align: right;\n",
       "    }\n",
       "</style>\n",
       "<table border=\"1\" class=\"dataframe\">\n",
       "  <thead>\n",
       "    <tr style=\"text-align: right;\">\n",
       "      <th></th>\n",
       "      <th>tipo</th>\n",
       "      <th>select</th>\n",
       "      <th>clasific</th>\n",
       "      <th>semilla</th>\n",
       "      <th>accuracy</th>\n",
       "      <th>precision</th>\n",
       "      <th>recall</th>\n",
       "      <th>f1_score</th>\n",
       "      <th>roc_auc</th>\n",
       "      <th>hostname</th>\n",
       "      <th>total_time_sec</th>\n",
       "      <th>datetime</th>\n",
       "      <th>fichero_modelo</th>\n",
       "      <th>params</th>\n",
       "      <th>shape</th>\n",
       "      <th>features</th>\n",
       "    </tr>\n",
       "  </thead>\n",
       "  <tbody>\n",
       "    <tr>\n",
       "      <th>0</th>\n",
       "      <td>bin_m</td>\n",
       "      <td>RF</td>\n",
       "      <td>LR_L2</td>\n",
       "      <td>9322</td>\n",
       "      <td>0.854167</td>\n",
       "      <td>0.850730</td>\n",
       "      <td>0.854249</td>\n",
       "      <td>0.852105</td>\n",
       "      <td>0.922502</td>\n",
       "      <td>enderlab</td>\n",
       "      <td>15</td>\n",
       "      <td>2023-10-30 03:22:12.326817</td>\n",
       "      <td>modelo_9322_bin_m_RF_LR_L2.pkl</td>\n",
       "      <td>{'selector__max_features': 500, 'selector__est...</td>\n",
       "      <td>X_test:(144, 18875)</td>\n",
       "      <td>['ENSG00000000971.17', 'ENSG00000001084.13', '...</td>\n",
       "    </tr>\n",
       "    <tr>\n",
       "      <th>0</th>\n",
       "      <td>bin_m</td>\n",
       "      <td>RF</td>\n",
       "      <td>LR_L1</td>\n",
       "      <td>9322</td>\n",
       "      <td>0.847222</td>\n",
       "      <td>0.843823</td>\n",
       "      <td>0.848151</td>\n",
       "      <td>0.845313</td>\n",
       "      <td>0.915421</td>\n",
       "      <td>enderlab</td>\n",
       "      <td>325</td>\n",
       "      <td>2023-10-30 03:21:50.139849</td>\n",
       "      <td>modelo_9322_bin_m_RF_LR_L1.pkl</td>\n",
       "      <td>{'selector__max_features': 500, 'selector__est...</td>\n",
       "      <td>X_test:(144, 18875)</td>\n",
       "      <td>['ENSG00000000971.17', 'ENSG00000001084.13', '...</td>\n",
       "    </tr>\n",
       "    <tr>\n",
       "      <th>0</th>\n",
       "      <td>bin_m</td>\n",
       "      <td>RF</td>\n",
       "      <td>LR_EN</td>\n",
       "      <td>9322</td>\n",
       "      <td>0.854167</td>\n",
       "      <td>0.850730</td>\n",
       "      <td>0.854249</td>\n",
       "      <td>0.852105</td>\n",
       "      <td>0.918961</td>\n",
       "      <td>enderlab</td>\n",
       "      <td>276</td>\n",
       "      <td>2023-10-30 03:16:17.253750</td>\n",
       "      <td>modelo_9322_bin_m_RF_LR_EN.pkl</td>\n",
       "      <td>{'selector__max_features': 500, 'selector__est...</td>\n",
       "      <td>X_test:(144, 18875)</td>\n",
       "      <td>['ENSG00000000971.17', 'ENSG00000001084.13', '...</td>\n",
       "    </tr>\n",
       "  </tbody>\n",
       "</table>\n",
       "</div>"
      ],
      "text/plain": [
       "    tipo select clasific  semilla  accuracy  precision    recall  f1_score  \\\n",
       "0  bin_m     RF    LR_L2     9322  0.854167   0.850730  0.854249  0.852105   \n",
       "0  bin_m     RF    LR_L1     9322  0.847222   0.843823  0.848151  0.845313   \n",
       "0  bin_m     RF    LR_EN     9322  0.854167   0.850730  0.854249  0.852105   \n",
       "\n",
       "    roc_auc  hostname  total_time_sec                    datetime  \\\n",
       "0  0.922502  enderlab              15  2023-10-30 03:22:12.326817   \n",
       "0  0.915421  enderlab             325  2023-10-30 03:21:50.139849   \n",
       "0  0.918961  enderlab             276  2023-10-30 03:16:17.253750   \n",
       "\n",
       "                   fichero_modelo  \\\n",
       "0  modelo_9322_bin_m_RF_LR_L2.pkl   \n",
       "0  modelo_9322_bin_m_RF_LR_L1.pkl   \n",
       "0  modelo_9322_bin_m_RF_LR_EN.pkl   \n",
       "\n",
       "                                              params                shape  \\\n",
       "0  {'selector__max_features': 500, 'selector__est...  X_test:(144, 18875)   \n",
       "0  {'selector__max_features': 500, 'selector__est...  X_test:(144, 18875)   \n",
       "0  {'selector__max_features': 500, 'selector__est...  X_test:(144, 18875)   \n",
       "\n",
       "                                            features  \n",
       "0  ['ENSG00000000971.17', 'ENSG00000001084.13', '...  \n",
       "0  ['ENSG00000000971.17', 'ENSG00000001084.13', '...  \n",
       "0  ['ENSG00000000971.17', 'ENSG00000001084.13', '...  "
      ]
     },
     "metadata": {},
     "output_type": "display_data"
    }
   ],
   "source": [
    "if M_TIPO.startswith(\"bin\"):\n",
    "    myfunc.save_metricas_to_csv(random_search, X_test, y_test, M_TIPO, M_SELECT, M_CLASIF, total_time, SEMILLA, myfunc.MET_DIR, M_FICHERO, fichero_modelo)\n",
    "else:\n",
    "    myfunc.save_metricas_multi_to_csv(random_search, X_test, y_test, M_TIPO, M_SELECT, M_CLASIF, total_time, SEMILLA, myfunc.MET_DIR, M_FICHERO, fichero_modelo)\n",
    "\n",
    "df1=myfunc.read_metricas_to_df(myfunc.MET_DIR,M_FICHERO)\n",
    "\n",
    "display(df1.sort_values(\"datetime\", ascending=False)[:3])\n"
   ]
  },
  {
   "cell_type": "markdown",
   "id": "cb52b3e2",
   "metadata": {
    "papermill": {
     "duration": 0.005405,
     "end_time": "2023-10-30T02:22:12.383883",
     "exception": false,
     "start_time": "2023-10-30T02:22:12.378478",
     "status": "completed"
    },
    "tags": []
   },
   "source": [
    "#### Guardar resultados"
   ]
  },
  {
   "cell_type": "code",
   "execution_count": 13,
   "id": "df5ddfa0",
   "metadata": {
    "execution": {
     "iopub.execute_input": "2023-10-30T02:22:12.395988Z",
     "iopub.status.busy": "2023-10-30T02:22:12.395438Z",
     "iopub.status.idle": "2023-10-30T02:22:12.405694Z",
     "shell.execute_reply": "2023-10-30T02:22:12.405156Z"
    },
    "papermill": {
     "duration": 0.017489,
     "end_time": "2023-10-30T02:22:12.406865",
     "exception": false,
     "start_time": "2023-10-30T02:22:12.389376",
     "status": "completed"
    },
    "tags": []
   },
   "outputs": [
    {
     "name": "stdout",
     "output_type": "stream",
     "text": [
      "20231030T032212 : enderlab : INFO : Inicio guardar resultados\n",
      "20231030T032212 : enderlab : INFO : Inicio guardar fichero ../tfm_git/ejecuciones/metricas/resultados_9322_bin_m-RF-LR_L2.csv\n",
      "20231030T032212 : enderlab : INFO : Fin guardar fichero ../tfm_git/ejecuciones/metricas/resultados_9322_bin_m-RF-LR_L2.csv\n",
      "20231030T032212 : enderlab : INFO : Fin guardar resultados\n"
     ]
    }
   ],
   "source": [
    "fichero_resultados=R_FICHERO+\"_\"+M_TIPO+\"-\"+M_SELECT+\"-\"+M_CLASIF+\".csv\"\n",
    "myfunc.save_resultados_to_csv(M_TIPO, M_SELECT, M_CLASIF,  random_search, myfunc.MET_DIR, fichero_resultados)\n"
   ]
  }
 ],
 "metadata": {
  "kernelspec": {
   "display_name": "Python 3 (ipykernel)",
   "language": "python",
   "name": "python3"
  },
  "language_info": {
   "codemirror_mode": {
    "name": "ipython",
    "version": 3
   },
   "file_extension": ".py",
   "mimetype": "text/x-python",
   "name": "python",
   "nbconvert_exporter": "python",
   "pygments_lexer": "ipython3",
   "version": "3.10.11"
  },
  "papermill": {
   "default_parameters": {},
   "duration": 20.564686,
   "end_time": "2023-10-30T02:22:15.050126",
   "environment_variables": {},
   "exception": null,
   "input_path": "03_entrenamiento.ipynb",
   "output_path": "ejecuciones/training/03_entrenamiento.20231030T032154.param_0000_9322_bin_m_RF_LR_L2.output.ipynb",
   "parameters": {
    "MAX_ITERS": 500,
    "M_CLASIF": "LR_L2",
    "M_FICHERO": "metricas_9322",
    "M_SELECT": "RF",
    "M_TIPO": "bin_m",
    "PRE_DATA_FILE": "rows_transpose_norm_by_gene_id_with_target_num_",
    "P_FICHERO": "param_0000_9322_bin_m_RF_LR_L2.yaml",
    "R_FICHERO": "resultados_9322",
    "SCORING": "roc_auc_ovr",
    "SEMILLA": 9322,
    "eval_clasifier": "LogisticRegressionCV(random_state=SEMILLA)",
    "eval_selector": "SelectFromModel(estimator=RandomForestClassifier(random_state=SEMILLA), threshold=-np.inf)",
    "param_distributions": {
     "clasifier__max_iter": [
      10000
     ],
     "clasifier__penalty": [
      "l2"
     ],
     "clasifier__solver": [
      "lbfgs"
     ],
     "selector__estimator__n_estimators": [
      100
     ],
     "selector__max_features": [
      500
     ]
    }
   },
   "start_time": "2023-10-30T02:21:54.485440",
   "version": "2.4.0"
  }
 },
 "nbformat": 4,
 "nbformat_minor": 5
}