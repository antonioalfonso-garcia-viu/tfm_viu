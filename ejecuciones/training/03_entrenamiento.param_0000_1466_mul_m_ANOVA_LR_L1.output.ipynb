{
 "cells": [
  {
   "cell_type": "markdown",
   "id": "48cbb72b",
   "metadata": {
    "papermill": {
     "duration": 0.004327,
     "end_time": "2023-10-29T23:24:05.517179",
     "exception": false,
     "start_time": "2023-10-29T23:24:05.512852",
     "status": "completed"
    },
    "tags": []
   },
   "source": [
    "##### Inicio"
   ]
  },
  {
   "cell_type": "markdown",
   "id": "fcdcf853",
   "metadata": {
    "papermill": {
     "duration": 0.003508,
     "end_time": "2023-10-29T23:24:05.524507",
     "exception": false,
     "start_time": "2023-10-29T23:24:05.520999",
     "status": "completed"
    },
    "tags": []
   },
   "source": [
    "#### Carga de datos"
   ]
  },
  {
   "cell_type": "code",
   "execution_count": 1,
   "id": "bdb8a9db",
   "metadata": {
    "execution": {
     "iopub.execute_input": "2023-10-29T23:24:05.533079Z",
     "iopub.status.busy": "2023-10-29T23:24:05.532841Z",
     "iopub.status.idle": "2023-10-29T23:24:06.405257Z",
     "shell.execute_reply": "2023-10-29T23:24:06.404666Z"
    },
    "papermill": {
     "duration": 0.87835,
     "end_time": "2023-10-29T23:24:06.406503",
     "exception": false,
     "start_time": "2023-10-29T23:24:05.528153",
     "status": "completed"
    },
    "tags": []
   },
   "outputs": [
    {
     "name": "stdout",
     "output_type": "stream",
     "text": [
      "CPU_COUNT: 8; NODE: amilcar22; sys.version: 3.10.12 (main, Jul  5 2023, 19:22:19) [GCC 11.2.0]\n",
      "LOKY_MAX_CPU_COUNT: 6\n",
      "OMP_NUM_THREADS: 2\n"
     ]
    }
   ],
   "source": [
    "import os\n",
    "import numpy as np\n",
    "import pandas as pd\n",
    "import datetime\n",
    "import sklearn\n",
    "import logging\n",
    "import warnings\n",
    "\n",
    "from sklearn.pipeline import Pipeline\n",
    "from sklearn.model_selection import RandomizedSearchCV, KFold, cross_val_score, train_test_split\n",
    "from sklearn.metrics import accuracy_score, confusion_matrix, classification_report, roc_auc_score\n",
    "\n",
    "#  cargar algoritmos para aprendizaje supervisado\n",
    "from sklearn.feature_selection import SelectKBest, f_classif, SelectFromModel, mutual_info_classif\n",
    "from sklearn.svm import SVC\n",
    "from sklearn.ensemble import RandomForestClassifier\n",
    "from sklearn.linear_model import LogisticRegression,LogisticRegressionCV\n",
    "\n",
    "# importar fichero con utilidades propias\n",
    "from commons import myfunctions as myfunc\n"
   ]
  },
  {
   "cell_type": "markdown",
   "id": "37455d4d",
   "metadata": {
    "papermill": {
     "duration": 0.002486,
     "end_time": "2023-10-29T23:24:06.411932",
     "exception": false,
     "start_time": "2023-10-29T23:24:06.409446",
     "status": "completed"
    },
    "tags": []
   },
   "source": [
    "#### Parámetros a utilizar en el entrenamiento.\n",
    "\n",
    "Se indican los 3 algoritmos de *selección de características* (eval_selector_xxx) y los 3 algoritmos para la _clasificación_ (eval_clasifier_xxx)\n",
    "\n",
    "En *param_distributions* se indicar los parámetros que utilizan los algoritmos en la función RandomSearchCV.\n",
    "\n",
    "Esta celda tiene la etiqueta **parameters** que servirá para poder lanzar los entrenamientos con la utilidad **papermill** pasándole un fichero con los parámetros. Los nuevos parámetros se situarán tras esta celda para tener prevalencia."
   ]
  },
  {
   "cell_type": "code",
   "execution_count": 2,
   "id": "a7a14e64",
   "metadata": {
    "execution": {
     "iopub.execute_input": "2023-10-29T23:24:06.417985Z",
     "iopub.status.busy": "2023-10-29T23:24:06.417716Z",
     "iopub.status.idle": "2023-10-29T23:24:06.424332Z",
     "shell.execute_reply": "2023-10-29T23:24:06.423841Z"
    },
    "papermill": {
     "duration": 0.011107,
     "end_time": "2023-10-29T23:24:06.425495",
     "exception": false,
     "start_time": "2023-10-29T23:24:06.414388",
     "status": "completed"
    },
    "tags": [
     "parameters"
    ]
   },
   "outputs": [
    {
     "name": "stdout",
     "output_type": "stream",
     "text": [
      "20231030T002406 : amilcar22 : INFO : Utilizando parámetros de mul_m\n"
     ]
    }
   ],
   "source": [
    "#  Parametros para el entrenamiento\n",
    "\n",
    "SEMILLA=        42\n",
    "M_TIPO=         \"mul_m\"\n",
    "M_SELECT=       \"MI\"\n",
    "M_CLASIF=       \"SVM\"\n",
    "R_FICHERO=      \"resultados\"\n",
    "M_FICHERO=      \"metricas\"\n",
    "PRE_DATA_FILE=  \"rows_transpose_norm_by_gene_id_with_target_num_\"\n",
    "SCORING=        \"roc_auc_ovr\" \n",
    "MAX_ITERS=      100\n",
    "\n",
    "def mutual_info_classif_state(X, y):\n",
    "    return mutual_info_classif(X, y, random_state=SEMILLA)\n",
    "\n",
    "eval_selector_mi = \"SelectKBest(score_func=mutual_info_classif_state)\"\n",
    "eval_selector_rf=  \"SelectFromModel(estimator=RandomForestClassifier(random_state=SEMILLA), threshold=-np.inf)\"\n",
    "eval_selector_anova=  \"SelectKBest(score_func=f_classif)\"\n",
    "\n",
    "eval_clasifier_svm= \"SVC(probability=True, random_state=SEMILLA)\"\n",
    "eval_clasifier_rf= \"RandomForestClassifier(random_state=SEMILLA)\"\n",
    "eval_clasifier_lr= \"LogisticRegressionCV(random_state=SEMILLA)\"\n",
    "\n",
    "if M_TIPO.startswith(\"bin_m\"):\n",
    "    myfunc.verbose(f\"Utilizando parámetros de {M_TIPO}\")\n",
    "    eval_selector = eval_selector_mi\n",
    "    eval_clasifier = eval_clasifier_svm\n",
    "\n",
    "    SEMILLA = 6578\n",
    "    M_SELECT = \"MI\"\n",
    "    M_CLASIF = \"SVM\"\n",
    "    param_distributions = {'selector__k': [1000], \n",
    "         'clasifier__kernel': ['rbf'], 'clasifier__gamma': [0.01], 'clasifier__C': [100]}\n",
    "elif M_TIPO.startswith(\"bin_s\"):\n",
    "    myfunc.verbose(f\"Utilizando parámetros de {M_TIPO}\")\n",
    "    eval_selector = eval_selector_rf\n",
    "    eval_clasifier = eval_clasifier_lr\n",
    "\n",
    "    SEMILLA = 6191\n",
    "    M_SELECT = \"RF\"\n",
    "    M_CLASIF = \"LR_L2\"\n",
    "    param_distributions = {'selector__max_features': [1000], 'selector__estimator__n_estimators': [200], \n",
    "        'clasifier__solver': ['lbfgs'], 'clasifier__penalty': ['l2'], 'clasifier__max_iter': [10000]}\n",
    "\n",
    "elif M_TIPO.startswith(\"mul_m\"):\n",
    "    myfunc.verbose(f\"Utilizando parámetros de {M_TIPO}\")\n",
    " \n",
    "    eval_selector = eval_selector_rf\n",
    "    eval_clasifier = eval_clasifier_lr\n",
    "\n",
    "    SEMILLA = 6191\n",
    "    M_SELECT = \"RF\"\n",
    "    M_CLASIF = \"LR_L2\"\n",
    "    param_distributions = {'selector__max_features': [1000], 'selector__estimator__n_estimators': [400], \n",
    "        'clasifier__solver': ['lbfgs'], 'clasifier__penalty': ['l2'], 'clasifier__max_iter': [10000]}\n",
    "\n",
    "else:\n",
    "    # M_TIPO.startswith(\"mul_s\"):\n",
    "    myfunc.verbose(f\"Utilizando parámetros de {M_TIPO}\")\n",
    "    eval_selector = eval_selector_anova\n",
    "    eval_clasifier = eval_clasifier_lr\n",
    "\n",
    "    SEMILLA = 1860\n",
    "    M_SELECT = \"ANOVA\"\n",
    "    M_CLASIF = \"LR_L2\"\n",
    "    param_distributions = {'selector__k': [1000], \n",
    "        'clasifier__solver': ['saga'], 'clasifier__penalty': ['l2'], 'clasifier__max_iter': [10000]}\n",
    "\n"
   ]
  },
  {
   "cell_type": "code",
   "execution_count": 3,
   "id": "b6b850bd",
   "metadata": {
    "execution": {
     "iopub.execute_input": "2023-10-29T23:24:06.431473Z",
     "iopub.status.busy": "2023-10-29T23:24:06.431305Z",
     "iopub.status.idle": "2023-10-29T23:24:06.434586Z",
     "shell.execute_reply": "2023-10-29T23:24:06.434145Z"
    },
    "papermill": {
     "duration": 0.007509,
     "end_time": "2023-10-29T23:24:06.435786",
     "exception": false,
     "start_time": "2023-10-29T23:24:06.428277",
     "status": "completed"
    },
    "tags": [
     "injected-parameters"
    ]
   },
   "outputs": [],
   "source": [
    "# Parameters\n",
    "M_TIPO = \"mul_m\"\n",
    "M_SELECT = \"ANOVA\"\n",
    "M_CLASIF = \"LR_L1\"\n",
    "P_FICHERO = \"param_0000_1466_mul_m_ANOVA_LR_L1.yaml\"\n",
    "R_FICHERO = \"resultados_1466\"\n",
    "M_FICHERO = \"metricas_1466\"\n",
    "PRE_DATA_FILE = \"rows_transpose_norm_by_gene_id_with_target_num_\"\n",
    "SCORING = \"roc_auc_ovr\"\n",
    "SEMILLA = 1466\n",
    "MAX_ITERS = 500\n",
    "eval_selector = \"SelectKBest(score_func=f_classif)\"\n",
    "eval_clasifier = \"LogisticRegressionCV(random_state=SEMILLA)\"\n",
    "param_distributions = {\n",
    "    \"selector__k\": [1000],\n",
    "    \"clasifier__solver\": [\"saga\"],\n",
    "    \"clasifier__penalty\": [\"l1\"],\n",
    "    \"clasifier__max_iter\": [10000],\n",
    "}\n"
   ]
  },
  {
   "cell_type": "code",
   "execution_count": 4,
   "id": "a3538550",
   "metadata": {
    "execution": {
     "iopub.execute_input": "2023-10-29T23:24:06.442111Z",
     "iopub.status.busy": "2023-10-29T23:24:06.441756Z",
     "iopub.status.idle": "2023-10-29T23:24:06.444642Z",
     "shell.execute_reply": "2023-10-29T23:24:06.444184Z"
    },
    "papermill": {
     "duration": 0.007323,
     "end_time": "2023-10-29T23:24:06.445848",
     "exception": false,
     "start_time": "2023-10-29T23:24:06.438525",
     "status": "completed"
    },
    "tags": []
   },
   "outputs": [],
   "source": [
    "DATA_FILE = PRE_DATA_FILE + M_TIPO\n",
    "\n",
    "# si viene \"None\" en el parámetro max_depth, se le quitan las comillas para que no sea entendido por el algoritmo como un texto\n",
    "if \"clasifier__max_depth\" in param_distributions:\n",
    "    param_distributions['clasifier__max_depth'] = [None if x == 'None' else x for x in param_distributions['clasifier__max_depth']]"
   ]
  },
  {
   "cell_type": "markdown",
   "id": "fb5c603f",
   "metadata": {
    "papermill": {
     "duration": 0.002623,
     "end_time": "2023-10-29T23:24:06.451252",
     "exception": false,
     "start_time": "2023-10-29T23:24:06.448629",
     "status": "completed"
    },
    "tags": []
   },
   "source": [
    "Asignar los algoritmos que se utilizarán en la función RandomSearchCV"
   ]
  },
  {
   "cell_type": "code",
   "execution_count": 5,
   "id": "474152d3",
   "metadata": {
    "execution": {
     "iopub.execute_input": "2023-10-29T23:24:06.457083Z",
     "iopub.status.busy": "2023-10-29T23:24:06.456926Z",
     "iopub.status.idle": "2023-10-29T23:24:06.459585Z",
     "shell.execute_reply": "2023-10-29T23:24:06.459070Z"
    },
    "papermill": {
     "duration": 0.007133,
     "end_time": "2023-10-29T23:24:06.461031",
     "exception": false,
     "start_time": "2023-10-29T23:24:06.453898",
     "status": "completed"
    },
    "tags": []
   },
   "outputs": [],
   "source": [
    "algor_selector=eval(eval_selector)\n",
    "algor_clasifier=eval(eval_clasifier)"
   ]
  },
  {
   "cell_type": "markdown",
   "id": "1ce2fa13",
   "metadata": {
    "papermill": {
     "duration": 0.003578,
     "end_time": "2023-10-29T23:24:06.468311",
     "exception": false,
     "start_time": "2023-10-29T23:24:06.464733",
     "status": "completed"
    },
    "tags": []
   },
   "source": [
    "#### Comprobar el entorno y leer fichero de muestras"
   ]
  },
  {
   "cell_type": "code",
   "execution_count": 6,
   "id": "9de98454",
   "metadata": {
    "execution": {
     "iopub.execute_input": "2023-10-29T23:24:06.475930Z",
     "iopub.status.busy": "2023-10-29T23:24:06.475694Z",
     "iopub.status.idle": "2023-10-29T23:24:06.640261Z",
     "shell.execute_reply": "2023-10-29T23:24:06.639742Z"
    },
    "papermill": {
     "duration": 0.169844,
     "end_time": "2023-10-29T23:24:06.641590",
     "exception": false,
     "start_time": "2023-10-29T23:24:06.471746",
     "status": "completed"
    },
    "tags": []
   },
   "outputs": [
    {
     "name": "stdout",
     "output_type": "stream",
     "text": [
      "20231030T002406 : amilcar22 : INFO : Encontrada carpeta DATA_DIR=../tfm_git/datos\n",
      "20231030T002406 : amilcar22 : INFO : Encontrada carpeta CFDNA_DIR=../tfm_git/datos/cfDNA_5hmC\n",
      "20231030T002406 : amilcar22 : INFO : Encontrada carpeta GENCODE_DIR=../tfm_git/datos/gencode\n",
      "20231030T002406 : amilcar22 : INFO : Encontrada carpeta H5_DIR=../tfm_git/datos/h5\n",
      "20231030T002406 : amilcar22 : INFO : Encontrada carpeta LOG_DIR=../tfm_git/datos/logs\n",
      "20231030T002406 : amilcar22 : INFO : Encontrada carpeta CSV_DIR=../tfm_git/datos/csv\n",
      "20231030T002406 : amilcar22 : INFO : Encontrada carpeta MODEL_DIR=../tfm_git/ejecuciones/modelos\n",
      "20231030T002406 : amilcar22 : INFO : Encontrada carpeta EXEC_DIR=../tfm_git/ejecuciones\n",
      "20231030T002406 : amilcar22 : INFO : Encontrada carpeta MET_DIR=../tfm_git/ejecuciones/metricas\n",
      "20231030T002406 : amilcar22 : INFO : Inicio leer fichero h5 ../tfm_git/datos/h5/rows_transpose_norm_by_gene_id_with_target_num_mul_m.h5\n",
      "20231030T002406 : amilcar22 : INFO : Leyendo clave /df\n",
      "20231030T002406 : amilcar22 : INFO : Tamaño (434, 18876)\n",
      "20231030T002406 : amilcar22 : INFO : Fin leer fichero h5 ../tfm_git/datos/h5/rows_transpose_norm_by_gene_id_with_target_num_mul_m.h5\n"
     ]
    },
    {
     "data": {
      "text/plain": [
       "target\n",
       "0    62\n",
       "1    62\n",
       "2    62\n",
       "3    62\n",
       "4    62\n",
       "5    62\n",
       "6    62\n",
       "dtype: int64"
      ]
     },
     "metadata": {},
     "output_type": "display_data"
    },
    {
     "name": "stdout",
     "output_type": "stream",
     "text": [
      "Shape df: (434, 18876)\n"
     ]
    },
    {
     "name": "stdout",
     "output_type": "stream",
     "text": [
      "Shape X_train: (347, 18875)\n",
      "Shape X_test: (87, 18875)\n"
     ]
    }
   ],
   "source": [
    "start_time = datetime.datetime.now()\n",
    "\n",
    "myfunc.reset_vars()\n",
    "\n",
    "myfunc.NOTEBK_FILENAME = myfunc.get_nb_name()\n",
    "\n",
    "myfunc.check_enviroment(myfunc.DATA_DIR, myfunc.CFDNA_DIR, myfunc.GENCODE_DIR, myfunc.H5_DIR, myfunc.LOG_DIR, myfunc.CSV_DIR, myfunc.MODEL_DIR, myfunc.EXEC_DIR, myfunc.MET_DIR)\n",
    "\n",
    "# Leer fichero con las muestras\n",
    "df_t = myfunc.read_h5_to_df(DATA_FILE, myfunc.H5_DIR)\n",
    "display(df_t.groupby(\"target\").size())\n",
    "print(\"Shape df:\",df_t.shape)\n",
    "\n",
    "# Separar caracteristicas/genes de las etiquetas/tipos de cáncer\n",
    "X = df_t.iloc[:, :-1]  # Todas las columnas excepto la última\n",
    "y = df_t.iloc[:, -1]  # La última columna contiene los identificadores de los tipos de cáncer\n",
    "\n",
    "#  Crear el conjunto de datos de entrenamiento y de pruebas, y se fija la semilla para siempre coger el mismo juego de muestras\n",
    "X_train, X_test, y_train, y_test = train_test_split(X, y, test_size=0.2, shuffle=True, random_state=42)\n",
    "print(\"Shape X_train:\",X_train.shape)\n",
    "print(\"Shape X_test:\",X_test.shape)\n"
   ]
  },
  {
   "cell_type": "markdown",
   "id": "d9a24e63",
   "metadata": {
    "papermill": {
     "duration": 0.002912,
     "end_time": "2023-10-29T23:24:06.647936",
     "exception": false,
     "start_time": "2023-10-29T23:24:06.645024",
     "status": "completed"
    },
    "tags": []
   },
   "source": [
    "#### Selección de características y clasificación."
   ]
  },
  {
   "cell_type": "code",
   "execution_count": 7,
   "id": "d3de32b9",
   "metadata": {
    "execution": {
     "iopub.execute_input": "2023-10-29T23:24:06.654383Z",
     "iopub.status.busy": "2023-10-29T23:24:06.654208Z",
     "iopub.status.idle": "2023-10-29T23:55:41.322206Z",
     "shell.execute_reply": "2023-10-29T23:55:41.321578Z"
    },
    "papermill": {
     "duration": 1894.67532,
     "end_time": "2023-10-29T23:55:41.326111",
     "exception": false,
     "start_time": "2023-10-29T23:24:06.650791",
     "status": "completed"
    },
    "tags": []
   },
   "outputs": [
    {
     "name": "stdout",
     "output_type": "stream",
     "text": [
      "20231030T002406 : amilcar22 : INFO : Iniciando entrenamiento\n",
      "num_iter: 1 , max_iter: 1\n",
      "Fitting 5 folds for each of 1 candidates, totalling 5 fits\n"
     ]
    },
    {
     "name": "stderr",
     "output_type": "stream",
     "text": [
      "/home/antonio/miniconda3/lib/python3.10/site-packages/sklearn/feature_selection/_univariate_selection.py:112: UserWarning: Features [  298  1508  1733  2010  2265  2266  2271  2553  2803  2896  3415  4075\n",
      "  5803  6981  6984  7416  8513  8791  9087  9490 10475 11020 11562 11613\n",
      " 11943 12249 12480 12831 13047 13300 13836 13848 13959 14015 14559 14795\n",
      " 14941 15183 15397 15515 15563 15824 15881 16258 16276 16277 16287 16313\n",
      " 16323 16339 16372 16701 16870 16905 16906 17024 17093 17231 17264 17273\n",
      " 17274 17963 18368 18374 18405 18608 18693] are constant.\n",
      "  warnings.warn(\"Features %s are constant.\" % constant_features_idx, UserWarning)\n",
      "/home/antonio/miniconda3/lib/python3.10/site-packages/sklearn/feature_selection/_univariate_selection.py:113: RuntimeWarning: invalid value encountered in divide\n",
      "  f = msb / msw\n",
      "/home/antonio/miniconda3/lib/python3.10/site-packages/sklearn/feature_selection/_univariate_selection.py:112: UserWarning: Features [  298  1508  1733  2010  2222  2265  2266  2553  2688  2803  2896  3415\n",
      "  4075  5668  5803  6984  6993  7416  7418  8791  9087  9490 10035 10475\n",
      " 11020 11022 11613 11943 12249 12480 12831 13836 13848 13959 14015 14795\n",
      " 14941 15397 15515 15563 15824 16018 16276 16281 16313 16318 16323 16339\n",
      " 16372 16630 16679 16701 16870 16905 16906 16956 16968 17024 17091 17093\n",
      " 17231 17269 17274 17312 17679 18241 18350 18368 18374 18405 18608] are constant.\n",
      "  warnings.warn(\"Features %s are constant.\" % constant_features_idx, UserWarning)\n",
      "/home/antonio/miniconda3/lib/python3.10/site-packages/sklearn/feature_selection/_univariate_selection.py:113: RuntimeWarning: invalid value encountered in divide\n",
      "  f = msb / msw\n",
      "/home/antonio/miniconda3/lib/python3.10/site-packages/sklearn/feature_selection/_univariate_selection.py:112: UserWarning: Features [  298  1508  1733  1846  2010  2265  2266  2553  2803  2896  3415  3492\n",
      "  4075  4306  5803  6053  6984  7416  7945  8791  9087  9490 10475 11020\n",
      " 11613 11943 12249 12480 12831 13836 13848 13959 14000 14015 14244 14245\n",
      " 14795 14941 15397 15515 15563 15824 16237 16267 16268 16276 16313 16323\n",
      " 16339 16372 16520 16522 16667 16701 16870 16905 16906 17024 17093 17231\n",
      " 17274 17540 18255 18368 18374 18405 18608 18868] are constant.\n",
      "  warnings.warn(\"Features %s are constant.\" % constant_features_idx, UserWarning)\n",
      "/home/antonio/miniconda3/lib/python3.10/site-packages/sklearn/feature_selection/_univariate_selection.py:113: RuntimeWarning: invalid value encountered in divide\n",
      "  f = msb / msw\n"
     ]
    },
    {
     "name": "stderr",
     "output_type": "stream",
     "text": [
      "/home/antonio/miniconda3/lib/python3.10/site-packages/sklearn/feature_selection/_univariate_selection.py:112: UserWarning: Features [  298  1508  1733  2010  2265  2266  2553  2803  2896  3415  4075  5533\n",
      "  5803  6984  7416  8508  8510  8791  9087  9490 10475 11020 11613 11943\n",
      " 12249 12480 12518 12831 13836 13848 13959 14015 14795 14941 15397 15401\n",
      " 15515 15563 15824 16262 16276 16313 16323 16339 16372 16701 16704 16870\n",
      " 16905 16906 17024 17093 17231 17274 17566 18245 18288 18368 18374 18405\n",
      " 18530 18608] are constant.\n",
      "  warnings.warn(\"Features %s are constant.\" % constant_features_idx, UserWarning)\n",
      "/home/antonio/miniconda3/lib/python3.10/site-packages/sklearn/feature_selection/_univariate_selection.py:113: RuntimeWarning: invalid value encountered in divide\n",
      "  f = msb / msw\n",
      "/home/antonio/miniconda3/lib/python3.10/site-packages/sklearn/feature_selection/_univariate_selection.py:112: UserWarning: Features [  298  1508  1733  2010  2265  2266  2553  2803  2896  3415  4075  5803\n",
      "  6984  7416  8791  9087  9490 10475 11020 11613 11943 12249 12433 12480\n",
      " 12831 12888 13235 13836 13848 13860 13959 14015 14735 14789 14795 14941\n",
      " 15397 15515 15516 15563 15824 16260 16276 16278 16279 16313 16323 16339\n",
      " 16372 16701 16819 16870 16905 16906 17024 17093 17231 17274 17418 18368\n",
      " 18374 18405 18546 18608] are constant.\n",
      "  warnings.warn(\"Features %s are constant.\" % constant_features_idx, UserWarning)\n",
      "/home/antonio/miniconda3/lib/python3.10/site-packages/sklearn/feature_selection/_univariate_selection.py:113: RuntimeWarning: invalid value encountered in divide\n",
      "  f = msb / msw\n"
     ]
    },
    {
     "name": "stderr",
     "output_type": "stream",
     "text": [
      "/home/antonio/miniconda3/lib/python3.10/site-packages/sklearn/feature_selection/_univariate_selection.py:112: UserWarning: Features [  298  1508  1733  2010  2265  2266  2553  2803  2896  3415  4075  5803\n",
      "  6984  7416  8791  9087  9490 10475 11020 11613 11943 12249 12480 12831\n",
      " 13836 13848 13959 14015 14795 14941 15397 15515 15563 15824 16276 16313\n",
      " 16323 16339 16372 16701 16870 16905 16906 17024 17093 17231 17274 18368\n",
      " 18374 18405 18608] are constant.\n",
      "  warnings.warn(\"Features %s are constant.\" % constant_features_idx, UserWarning)\n",
      "/home/antonio/miniconda3/lib/python3.10/site-packages/sklearn/feature_selection/_univariate_selection.py:113: RuntimeWarning: invalid value encountered in divide\n",
      "  f = msb / msw\n"
     ]
    },
    {
     "name": "stdout",
     "output_type": "stream",
     "text": [
      "[CV 1/5] END clasifier__max_iter=10000, clasifier__penalty=l1, clasifier__solver=saga, selector__k=1000;, score=0.856 total time=13.5min\n"
     ]
    },
    {
     "name": "stdout",
     "output_type": "stream",
     "text": [
      "[CV 2/5] END clasifier__max_iter=10000, clasifier__penalty=l1, clasifier__solver=saga, selector__k=1000;, score=0.884 total time=14.7min\n"
     ]
    },
    {
     "name": "stdout",
     "output_type": "stream",
     "text": [
      "[CV 3/5] END clasifier__max_iter=10000, clasifier__penalty=l1, clasifier__solver=saga, selector__k=1000;, score=0.814 total time=14.8min\n"
     ]
    },
    {
     "name": "stdout",
     "output_type": "stream",
     "text": [
      "[CV 5/5] END clasifier__max_iter=10000, clasifier__penalty=l1, clasifier__solver=saga, selector__k=1000;, score=0.810 total time=15.3min\n"
     ]
    },
    {
     "name": "stdout",
     "output_type": "stream",
     "text": [
      "[CV 4/5] END clasifier__max_iter=10000, clasifier__penalty=l1, clasifier__solver=saga, selector__k=1000;, score=0.868 total time=16.8min\n"
     ]
    },
    {
     "name": "stdout",
     "output_type": "stream",
     "text": [
      "Mejores Hiperparámetros: {'selector__k': 1000, 'clasifier__solver': 'saga', 'clasifier__penalty': 'l1', 'clasifier__max_iter': 10000}\n",
      "Mejor Puntuación: 0.8464\n",
      "20231030T005541 : amilcar22 : INFO : Fin entrenamiento\n"
     ]
    }
   ],
   "source": [
    "myfunc.verbose(\"Iniciando entrenamiento\")\n",
    "\n",
    "kf = KFold(n_splits=5, shuffle=True, random_state=SEMILLA)\n",
    "\n",
    "# Crear el pipeline para el flujo de tareas\n",
    "tasks_pipeline = Pipeline([\n",
    "    ('selector', algor_selector),\n",
    "    ('clasifier', algor_clasifier)\n",
    "])\n",
    "\n",
    "# MAX_ITERS puede limitar el número de iteraciones si son excesivas para las combinaciones de parámetros buscando un óptimo local, \n",
    "# sino funcionaría como GridSearchCV al revisar todas las cominaciones de los parámetros\n",
    "num_iteraciones = 1\n",
    "num_iteraciones = num_iteraciones * np.prod([len(elemento1) for _, elemento1 in param_distributions.items()])\n",
    "max_iteraciones = num_iteraciones if num_iteraciones <= MAX_ITERS else MAX_ITERS\n",
    "print(\"num_iter:\",num_iteraciones,\", max_iter:\",max_iteraciones)\n",
    "\n",
    "random_search = RandomizedSearchCV(\n",
    "    tasks_pipeline, \n",
    "    param_distributions, \n",
    "    n_iter=max_iteraciones,\n",
    "    scoring=SCORING,\n",
    "    cv=kf,\n",
    "    verbose=3, \n",
    "    random_state=SEMILLA, \n",
    "    n_jobs=-1\n",
    "    )\n",
    "\n",
    "# Entrenar el modelo\n",
    "random_search.fit(X_train, y_train)\n",
    "\n",
    "# Ver los mejores hiperparámetros encontrados\n",
    "print(f'Mejores Hiperparámetros: {random_search.best_params_}')\n",
    "print(f'Mejor Puntuación: {random_search.best_score_:.4f}')\n",
    "\n",
    "# Nos quedamos con el mejor modelo para ver las métricas\n",
    "mejor_modelo = random_search.best_estimator_\n",
    "\n",
    "myfunc.verbose(\"Fin entrenamiento\")"
   ]
  },
  {
   "cell_type": "markdown",
   "id": "554c9fd1",
   "metadata": {
    "papermill": {
     "duration": 0.003207,
     "end_time": "2023-10-29T23:55:41.332680",
     "exception": false,
     "start_time": "2023-10-29T23:55:41.329473",
     "status": "completed"
    },
    "tags": []
   },
   "source": [
    "#### Guardar modelo"
   ]
  },
  {
   "cell_type": "code",
   "execution_count": 8,
   "id": "028f7676",
   "metadata": {
    "execution": {
     "iopub.execute_input": "2023-10-29T23:55:41.340453Z",
     "iopub.status.busy": "2023-10-29T23:55:41.340239Z",
     "iopub.status.idle": "2023-10-29T23:55:41.350504Z",
     "shell.execute_reply": "2023-10-29T23:55:41.349975Z"
    },
    "papermill": {
     "duration": 0.015791,
     "end_time": "2023-10-29T23:55:41.351713",
     "exception": false,
     "start_time": "2023-10-29T23:55:41.335922",
     "status": "completed"
    },
    "tags": []
   },
   "outputs": [
    {
     "name": "stdout",
     "output_type": "stream",
     "text": [
      "20231030T005541 : amilcar22 : INFO : Inicio guardar fichero ../tfm_git/ejecuciones/modelos/modelo_1466_mul_m_ANOVA_LR_L1.pkl\n",
      "20231030T005541 : amilcar22 : INFO : Fin guardar fichero ../tfm_git/ejecuciones/modelos/modelo_1466_mul_m_ANOVA_LR_L1.pkl\n"
     ]
    }
   ],
   "source": [
    "fichero_modelo = str.replace(\"modelo_\"+str(SEMILLA).zfill(4)+\"_\"+M_TIPO+\"_\"+M_SELECT+\"_\"+M_CLASIF+\".pkl\", \" \", \"_\")\n",
    "\n",
    "myfunc.save_modelo(mejor_modelo, myfunc.MODEL_DIR, fichero_modelo)"
   ]
  },
  {
   "cell_type": "markdown",
   "id": "415d1e44",
   "metadata": {
    "papermill": {
     "duration": 0.003347,
     "end_time": "2023-10-29T23:55:41.358518",
     "exception": false,
     "start_time": "2023-10-29T23:55:41.355171",
     "status": "completed"
    },
    "tags": []
   },
   "source": [
    "#### Ver resultados del las iteraciones hechas por RandomSearchCV"
   ]
  },
  {
   "cell_type": "code",
   "execution_count": 9,
   "id": "e6d5adeb",
   "metadata": {
    "execution": {
     "iopub.execute_input": "2023-10-29T23:55:41.365889Z",
     "iopub.status.busy": "2023-10-29T23:55:41.365693Z",
     "iopub.status.idle": "2023-10-29T23:55:41.371635Z",
     "shell.execute_reply": "2023-10-29T23:55:41.371094Z"
    },
    "papermill": {
     "duration": 0.011074,
     "end_time": "2023-10-29T23:55:41.372863",
     "exception": false,
     "start_time": "2023-10-29T23:55:41.361789",
     "status": "completed"
    },
    "tags": []
   },
   "outputs": [
    {
     "name": "stdout",
     "output_type": "stream",
     "text": [
      "20231030T005541 : amilcar22 : INFO : Inicio ver resultados\n",
      "Mejores Hiperparámetros: {'selector__k': 1000, 'clasifier__solver': 'saga', 'clasifier__penalty': 'l1', 'clasifier__max_iter': 10000}\n",
      "Mejores puntuaciones: 0.8464 | Params: {'selector__k': 1000, 'clasifier__solver': 'saga', 'clasifier__penalty': 'l1', 'clasifier__max_iter': 10000}\n",
      "Media de las puntuaciones: 0.8464 | Params: {'selector__k': 1000, 'clasifier__solver': 'saga', 'clasifier__penalty': 'l1', 'clasifier__max_iter': 10000}\n",
      "20231030T005541 : amilcar22 : INFO : Fin resultados\n"
     ]
    }
   ],
   "source": [
    "myfunc.ver_resultados_search(random_search)"
   ]
  },
  {
   "cell_type": "markdown",
   "id": "13198ff2",
   "metadata": {
    "papermill": {
     "duration": 0.00332,
     "end_time": "2023-10-29T23:55:41.379707",
     "exception": false,
     "start_time": "2023-10-29T23:55:41.376387",
     "status": "completed"
    },
    "tags": []
   },
   "source": [
    "#### Ver métricas del mejor modelo"
   ]
  },
  {
   "cell_type": "code",
   "execution_count": 10,
   "id": "6e5c9a6b",
   "metadata": {
    "execution": {
     "iopub.execute_input": "2023-10-29T23:55:41.387256Z",
     "iopub.status.busy": "2023-10-29T23:55:41.387047Z",
     "iopub.status.idle": "2023-10-29T23:55:42.003831Z",
     "shell.execute_reply": "2023-10-29T23:55:42.003203Z"
    },
    "papermill": {
     "duration": 0.622165,
     "end_time": "2023-10-29T23:55:42.005165",
     "exception": false,
     "start_time": "2023-10-29T23:55:41.383000",
     "status": "completed"
    },
    "tags": []
   },
   "outputs": [
    {
     "name": "stdout",
     "output_type": "stream",
     "text": [
      "20231030T005541 : amilcar22 : INFO : Inicio ver métricas multiclase\n"
     ]
    },
    {
     "name": "stdout",
     "output_type": "stream",
     "text": [
      "              precision    recall  f1-score   support\n",
      "\n",
      "           0       0.58      0.44      0.50        16\n",
      "           1       0.69      0.60      0.64        15\n",
      "           2       0.42      0.45      0.43        11\n",
      "           3       0.44      0.80      0.57         5\n",
      "           4       0.53      0.62      0.57        13\n",
      "           5       0.89      0.89      0.89         9\n",
      "           6       0.71      0.67      0.69        18\n",
      "\n",
      "    accuracy                           0.61        87\n",
      "   macro avg       0.61      0.64      0.61        87\n",
      "weighted avg       0.62      0.61      0.61        87\n",
      "\n",
      "\n",
      "\n",
      "           Exactitud: 0.609195\n",
      "   Precisión (media): 0.609265\n",
      "      Recall (media): 0.637569\n",
      "    F1-score (media): 0.613586\n",
      "\n",
      "\n",
      "AUC para el tipo de cáncer 0-Control.... 0.7685\n",
      "AUC para el tipo de cáncer 1-Bladder.... 0.8583\n",
      "AUC para el tipo de cáncer 2-Breast..... 0.7859\n",
      "AUC para el tipo de cáncer 3-Colorectal. 0.9902\n",
      "AUC para el tipo de cáncer 4-Kidney..... 0.8721\n",
      "AUC para el tipo de cáncer 5-Lung....... 0.9701\n",
      "AUC para el tipo de cáncer 6-Prostate... 0.8148\n"
     ]
    },
    {
     "name": "stdout",
     "output_type": "stream",
     "text": [
      "\n",
      "Media de AUC: 0.8657\n"
     ]
    },
    {
     "data": {
      "image/png": "[encoded data removed]",
      "text/plain": [
       "<Figure size 1000x600 with 1 Axes>"
      ]
     },
     "metadata": {},
     "output_type": "display_data"
    },
    {
     "name": "stdout",
     "output_type": "stream",
     "text": [
      "\n",
      "\n"
     ]
    },
    {
     "data": {
      "image/png": "[encoded data removed]",
      "text/plain": [
       "<Figure size 800x400 with 2 Axes>"
      ]
     },
     "metadata": {},
     "output_type": "display_data"
    },
    {
     "name": "stdout",
     "output_type": "stream",
     "text": [
      "\n",
      "\n",
      "Puntuación Jaccard para el cáncer tipo 0-Control.... 0.3333\n",
      "Puntuación Jaccard para el cáncer tipo 1-Bladder.... 0.4737\n",
      "Puntuación Jaccard para el cáncer tipo 2-Breast..... 0.2778\n",
      "Puntuación Jaccard para el cáncer tipo 3-Colorectal. 0.4000\n",
      "Puntuación Jaccard para el cáncer tipo 4-Kidney..... 0.4000\n",
      "Puntuación Jaccard para el cáncer tipo 5-Lung....... 0.8000\n",
      "Puntuación Jaccard para el cáncer tipo 6-Prostate... 0.5217\n",
      "\n",
      "Media de la puntuación de Jaccard: 0.4581\n"
     ]
    }
   ],
   "source": [
    "if M_TIPO.startswith(\"bin\"):\n",
    "    myfunc.ver_metricas(mejor_modelo, X_test, y_test)\n",
    "else:\n",
    "    myfunc.ver_metricas_multi(mejor_modelo, X_test, y_test)\n"
   ]
  },
  {
   "cell_type": "markdown",
   "id": "68fe3b52",
   "metadata": {
    "papermill": {
     "duration": 0.004618,
     "end_time": "2023-10-29T23:55:42.014716",
     "exception": false,
     "start_time": "2023-10-29T23:55:42.010098",
     "status": "completed"
    },
    "tags": []
   },
   "source": [
    "#### Finalización del notebook"
   ]
  },
  {
   "cell_type": "code",
   "execution_count": 11,
   "id": "2ecb3122",
   "metadata": {
    "execution": {
     "iopub.execute_input": "2023-10-29T23:55:42.024359Z",
     "iopub.status.busy": "2023-10-29T23:55:42.024152Z",
     "iopub.status.idle": "2023-10-29T23:55:42.027555Z",
     "shell.execute_reply": "2023-10-29T23:55:42.027042Z"
    },
    "papermill": {
     "duration": 0.00976,
     "end_time": "2023-10-29T23:55:42.028846",
     "exception": false,
     "start_time": "2023-10-29T23:55:42.019086",
     "status": "completed"
    },
    "tags": []
   },
   "outputs": [
    {
     "name": "stdout",
     "output_type": "stream",
     "text": [
      "20231030T005542 : amilcar22 : INFO : Notebook ha tardado 1895 seconds\n"
     ]
    }
   ],
   "source": [
    "end_time = datetime.datetime.now()\n",
    "total_time = end_time - start_time\n",
    "myfunc.verbose(f\"Notebook ha tardado {total_time.seconds} seconds\")"
   ]
  },
  {
   "cell_type": "markdown",
   "id": "74126ac9",
   "metadata": {
    "papermill": {
     "duration": 0.004418,
     "end_time": "2023-10-29T23:55:42.037913",
     "exception": false,
     "start_time": "2023-10-29T23:55:42.033495",
     "status": "completed"
    },
    "tags": []
   },
   "source": [
    "#### Guardar métricas"
   ]
  },
  {
   "cell_type": "code",
   "execution_count": 12,
   "id": "3141b023",
   "metadata": {
    "execution": {
     "iopub.execute_input": "2023-10-29T23:55:42.047568Z",
     "iopub.status.busy": "2023-10-29T23:55:42.047383Z",
     "iopub.status.idle": "2023-10-29T23:55:42.228716Z",
     "shell.execute_reply": "2023-10-29T23:55:42.228168Z"
    },
    "papermill": {
     "duration": 0.187628,
     "end_time": "2023-10-29T23:55:42.229914",
     "exception": false,
     "start_time": "2023-10-29T23:55:42.042286",
     "status": "completed"
    },
    "tags": []
   },
   "outputs": [
    {
     "name": "stdout",
     "output_type": "stream",
     "text": [
      "20231030T005542 : amilcar22 : INFO : Inicio guardar métricas multiclase\n",
      "20231030T005542 : amilcar22 : INFO : Inicio leer fichero ../tfm_git/ejecuciones/metricas/metricas_1466.csv\n",
      "20231030T005542 : amilcar22 : INFO : Fin leer fichero ../tfm_git/ejecuciones/metricas/metricas_1466.csv\n"
     ]
    },
    {
     "name": "stdout",
     "output_type": "stream",
     "text": [
      "20231030T005542 : amilcar22 : INFO : Inicio guardar fichero ../tfm_git/ejecuciones/metricas/metricas_1466.csv\n",
      "20231030T005542 : amilcar22 : INFO : Fichero borrado ../tfm_git/ejecuciones/metricas/metricas_1466.csv\n",
      "20231030T005542 : amilcar22 : INFO : Fin guardar fichero ../tfm_git/ejecuciones/metricas/metricas_1466.csv\n",
      "20231030T005542 : amilcar22 : INFO : Fin guardar métricas multiclase\n",
      "20231030T005542 : amilcar22 : INFO : Inicio leer fichero ../tfm_git/ejecuciones/metricas/metricas_1466.csv\n",
      "20231030T005542 : amilcar22 : INFO : Fin leer fichero ../tfm_git/ejecuciones/metricas/metricas_1466.csv\n"
     ]
    },
    {
     "data": {
      "text/html": [
       "<div>\n",
       "<style scoped>\n",
       "    .dataframe tbody tr th:only-of-type {\n",
       "        vertical-align: middle;\n",
       "    }\n",
       "\n",
       "    .dataframe tbody tr th {\n",
       "        vertical-align: top;\n",
       "    }\n",
       "\n",
       "    .dataframe thead th {\n",
       "        text-align: right;\n",
       "    }\n",
       "</style>\n",
       "<table border=\"1\" class=\"dataframe\">\n",
       "  <thead>\n",
       "    <tr style=\"text-align: right;\">\n",
       "      <th></th>\n",
       "      <th>tipo</th>\n",
       "      <th>select</th>\n",
       "      <th>clasific</th>\n",
       "      <th>semilla</th>\n",
       "      <th>accuracy</th>\n",
       "      <th>precision</th>\n",
       "      <th>recall</th>\n",
       "      <th>f1_score</th>\n",
       "      <th>roc_auc</th>\n",
       "      <th>hostname</th>\n",
       "      <th>total_time_sec</th>\n",
       "      <th>datetime</th>\n",
       "      <th>fichero_modelo</th>\n",
       "      <th>params</th>\n",
       "      <th>shape</th>\n",
       "      <th>features</th>\n",
       "      <th>roc_auc_ovr</th>\n",
       "      <th>indices_auc</th>\n",
       "      <th>indices_jaccard</th>\n",
       "    </tr>\n",
       "  </thead>\n",
       "  <tbody>\n",
       "    <tr>\n",
       "      <th>0</th>\n",
       "      <td>mul_m</td>\n",
       "      <td>ANOVA</td>\n",
       "      <td>LR_L1</td>\n",
       "      <td>1466</td>\n",
       "      <td>0.609195</td>\n",
       "      <td>0.609265</td>\n",
       "      <td>0.637569</td>\n",
       "      <td>0.613586</td>\n",
       "      <td>NaN</td>\n",
       "      <td>amilcar22</td>\n",
       "      <td>1895</td>\n",
       "      <td>2023-10-30 00:55:42.201198</td>\n",
       "      <td>modelo_1466_mul_m_ANOVA_LR_L1.pkl</td>\n",
       "      <td>{'selector__k': 1000, 'clasifier__solver': 'sa...</td>\n",
       "      <td>X_test:(87, 18875)</td>\n",
       "      <td>['ENSG00000000938.13', 'ENSG00000002919.15', '...</td>\n",
       "      <td>0.865713</td>\n",
       "      <td>[0.7684859154929577, 0.8583333333333334, 0.785...</td>\n",
       "      <td>[0.3333333333333333, 0.47368421052631576, 0.27...</td>\n",
       "    </tr>\n",
       "    <tr>\n",
       "      <th>0</th>\n",
       "      <td>mul_m</td>\n",
       "      <td>ANOVA</td>\n",
       "      <td>LR_EN</td>\n",
       "      <td>1466</td>\n",
       "      <td>0.620690</td>\n",
       "      <td>0.627038</td>\n",
       "      <td>0.648558</td>\n",
       "      <td>0.622170</td>\n",
       "      <td>NaN</td>\n",
       "      <td>amilcar22</td>\n",
       "      <td>1917</td>\n",
       "      <td>2023-10-30 00:24:00.399529</td>\n",
       "      <td>modelo_1466_mul_m_ANOVA_LR_EN.pkl</td>\n",
       "      <td>{'selector__k': 1000, 'clasifier__solver': 'sa...</td>\n",
       "      <td>X_test:(87, 18875)</td>\n",
       "      <td>['ENSG00000000938.13', 'ENSG00000002919.15', '...</td>\n",
       "      <td>0.870458</td>\n",
       "      <td>[0.7579225352112676, 0.8740740740740741, 0.791...</td>\n",
       "      <td>[0.35, 0.5294117647058824, 0.2777777777777778,...</td>\n",
       "    </tr>\n",
       "    <tr>\n",
       "      <th>0</th>\n",
       "      <td>bin_s</td>\n",
       "      <td>RF</td>\n",
       "      <td>SVM</td>\n",
       "      <td>1466</td>\n",
       "      <td>0.617978</td>\n",
       "      <td>0.619841</td>\n",
       "      <td>0.614510</td>\n",
       "      <td>0.612051</td>\n",
       "      <td>0.691608</td>\n",
       "      <td>amilcar22</td>\n",
       "      <td>9</td>\n",
       "      <td>2023-10-29 23:51:56.963799</td>\n",
       "      <td>modelo_1466_bin_s_RF_SVM.pkl</td>\n",
       "      <td>{'selector__max_features': 500, 'selector__est...</td>\n",
       "      <td>X_test:(89, 18875)</td>\n",
       "      <td>['ENSG00000000971.17', 'ENSG00000002587.10', '...</td>\n",
       "      <td>NaN</td>\n",
       "      <td>NaN</td>\n",
       "      <td>NaN</td>\n",
       "    </tr>\n",
       "  </tbody>\n",
       "</table>\n",
       "</div>"
      ],
      "text/plain": [
       "    tipo select clasific  semilla  accuracy  precision    recall  f1_score  \\\n",
       "0  mul_m  ANOVA    LR_L1     1466  0.609195   0.609265  0.637569  0.613586   \n",
       "0  mul_m  ANOVA    LR_EN     1466  0.620690   0.627038  0.648558  0.622170   \n",
       "0  bin_s     RF      SVM     1466  0.617978   0.619841  0.614510  0.612051   \n",
       "\n",
       "    roc_auc   hostname  total_time_sec                    datetime  \\\n",
       "0       NaN  amilcar22            1895  2023-10-30 00:55:42.201198   \n",
       "0       NaN  amilcar22            1917  2023-10-30 00:24:00.399529   \n",
       "0  0.691608  amilcar22               9  2023-10-29 23:51:56.963799   \n",
       "\n",
       "                      fichero_modelo  \\\n",
       "0  modelo_1466_mul_m_ANOVA_LR_L1.pkl   \n",
       "0  modelo_1466_mul_m_ANOVA_LR_EN.pkl   \n",
       "0       modelo_1466_bin_s_RF_SVM.pkl   \n",
       "\n",
       "                                              params               shape  \\\n",
       "0  {'selector__k': 1000, 'clasifier__solver': 'sa...  X_test:(87, 18875)   \n",
       "0  {'selector__k': 1000, 'clasifier__solver': 'sa...  X_test:(87, 18875)   \n",
       "0  {'selector__max_features': 500, 'selector__est...  X_test:(89, 18875)   \n",
       "\n",
       "                                            features  roc_auc_ovr  \\\n",
       "0  ['ENSG00000000938.13', 'ENSG00000002919.15', '...     0.865713   \n",
       "0  ['ENSG00000000938.13', 'ENSG00000002919.15', '...     0.870458   \n",
       "0  ['ENSG00000000971.17', 'ENSG00000002587.10', '...          NaN   \n",
       "\n",
       "                                         indices_auc  \\\n",
       "0  [0.7684859154929577, 0.8583333333333334, 0.785...   \n",
       "0  [0.7579225352112676, 0.8740740740740741, 0.791...   \n",
       "0                                                NaN   \n",
       "\n",
       "                                     indices_jaccard  \n",
       "0  [0.3333333333333333, 0.47368421052631576, 0.27...  \n",
       "0  [0.35, 0.5294117647058824, 0.2777777777777778,...  \n",
       "0                                                NaN  "
      ]
     },
     "metadata": {},
     "output_type": "display_data"
    }
   ],
   "source": [
    "if M_TIPO.startswith(\"bin\"):\n",
    "    myfunc.save_metricas_to_csv(random_search, X_test, y_test, M_TIPO, M_SELECT, M_CLASIF, total_time, SEMILLA, myfunc.MET_DIR, M_FICHERO, fichero_modelo)\n",
    "else:\n",
    "    myfunc.save_metricas_multi_to_csv(random_search, X_test, y_test, M_TIPO, M_SELECT, M_CLASIF, total_time, SEMILLA, myfunc.MET_DIR, M_FICHERO, fichero_modelo)\n",
    "\n",
    "df1=myfunc.read_metricas_to_df(myfunc.MET_DIR,M_FICHERO)\n",
    "\n",
    "display(df1.sort_values(\"datetime\", ascending=False)[:3])\n"
   ]
  },
  {
   "cell_type": "markdown",
   "id": "a78e2fc1",
   "metadata": {
    "papermill": {
     "duration": 0.004943,
     "end_time": "2023-10-29T23:55:42.240262",
     "exception": false,
     "start_time": "2023-10-29T23:55:42.235319",
     "status": "completed"
    },
    "tags": []
   },
   "source": [
    "#### Guardar resultados"
   ]
  },
  {
   "cell_type": "code",
   "execution_count": 13,
   "id": "0951cb4d",
   "metadata": {
    "execution": {
     "iopub.execute_input": "2023-10-29T23:55:42.250610Z",
     "iopub.status.busy": "2023-10-29T23:55:42.250417Z",
     "iopub.status.idle": "2023-10-29T23:55:42.259274Z",
     "shell.execute_reply": "2023-10-29T23:55:42.258793Z"
    },
    "papermill": {
     "duration": 0.015429,
     "end_time": "2023-10-29T23:55:42.260410",
     "exception": false,
     "start_time": "2023-10-29T23:55:42.244981",
     "status": "completed"
    },
    "tags": []
   },
   "outputs": [
    {
     "name": "stdout",
     "output_type": "stream",
     "text": [
      "20231030T005542 : amilcar22 : INFO : Inicio guardar resultados\n",
      "20231030T005542 : amilcar22 : INFO : Inicio guardar fichero ../tfm_git/ejecuciones/metricas/resultados_1466_mul_m-ANOVA-LR_L1.csv\n"
     ]
    },
    {
     "name": "stdout",
     "output_type": "stream",
     "text": [
      "20231030T005542 : amilcar22 : INFO : Fin guardar fichero ../tfm_git/ejecuciones/metricas/resultados_1466_mul_m-ANOVA-LR_L1.csv\n",
      "20231030T005542 : amilcar22 : INFO : Fin guardar resultados\n"
     ]
    }
   ],
   "source": [
    "fichero_resultados=R_FICHERO+\"_\"+M_TIPO+\"-\"+M_SELECT+\"-\"+M_CLASIF+\".csv\"\n",
    "myfunc.save_resultados_to_csv(M_TIPO, M_SELECT, M_CLASIF,  random_search, myfunc.MET_DIR, fichero_resultados)\n"
   ]
  }
 ],
 "metadata": {
  "kernelspec": {
   "display_name": "Python 3 (ipykernel)",
   "language": "python",
   "name": "python3"
  },
  "language_info": {
   "codemirror_mode": {
    "name": "ipython",
    "version": 3
   },
   "file_extension": ".py",
   "mimetype": "text/x-python",
   "name": "python",
   "nbconvert_exporter": "python",
   "pygments_lexer": "ipython3",
   "version": "3.10.12"
  },
  "papermill": {
   "default_parameters": {},
   "duration": 1900.281401,
   "end_time": "2023-10-29T23:55:44.885035",
   "environment_variables": {},
   "exception": null,
   "input_path": "03_entrenamiento.ipynb",
   "output_path": "ejecuciones/training/03_entrenamiento.20231030T002404.param_0000_1466_mul_m_ANOVA_LR_L1.output.ipynb",
   "parameters": {
    "MAX_ITERS": 500,
    "M_CLASIF": "LR_L1",
    "M_FICHERO": "metricas_1466",
    "M_SELECT": "ANOVA",
    "M_TIPO": "mul_m",
    "PRE_DATA_FILE": "rows_transpose_norm_by_gene_id_with_target_num_",
    "P_FICHERO": "param_0000_1466_mul_m_ANOVA_LR_L1.yaml",
    "R_FICHERO": "resultados_1466",
    "SCORING": "roc_auc_ovr",
    "SEMILLA": 1466,
    "eval_clasifier": "LogisticRegressionCV(random_state=SEMILLA)",
    "eval_selector": "SelectKBest(score_func=f_classif)",
    "param_distributions": {
     "clasifier__max_iter": [
      10000
     ],
     "clasifier__penalty": [
      "l1"
     ],
     "clasifier__solver": [
      "saga"
     ],
     "selector__k": [
      1000
     ]
    }
   },
   "start_time": "2023-10-29T23:24:04.603634",
   "version": "2.4.0"
  }
 },
 "nbformat": 4,
 "nbformat_minor": 5
}