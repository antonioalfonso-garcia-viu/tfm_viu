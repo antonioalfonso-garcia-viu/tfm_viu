{
 "cells": [
  {
   "cell_type": "markdown",
   "id": "a3f86f36",
   "metadata": {
    "papermill": {
     "duration": 0.003474,
     "end_time": "2023-10-30T08:24:31.406777",
     "exception": false,
     "start_time": "2023-10-30T08:24:31.403303",
     "status": "completed"
    },
    "tags": []
   },
   "source": [
    "##### Inicio"
   ]
  },
  {
   "cell_type": "markdown",
   "id": "f719a3c3",
   "metadata": {
    "papermill": {
     "duration": 0.002729,
     "end_time": "2023-10-30T08:24:31.412514",
     "exception": false,
     "start_time": "2023-10-30T08:24:31.409785",
     "status": "completed"
    },
    "tags": []
   },
   "source": [
    "#### Carga de datos"
   ]
  },
  {
   "cell_type": "code",
   "execution_count": 1,
   "id": "319c06ab",
   "metadata": {
    "execution": {
     "iopub.execute_input": "2023-10-30T08:24:31.419614Z",
     "iopub.status.busy": "2023-10-30T08:24:31.419025Z",
     "iopub.status.idle": "2023-10-30T08:24:32.284228Z",
     "shell.execute_reply": "2023-10-30T08:24:32.283613Z"
    },
    "papermill": {
     "duration": 0.870218,
     "end_time": "2023-10-30T08:24:32.285535",
     "exception": false,
     "start_time": "2023-10-30T08:24:31.415317",
     "status": "completed"
    },
    "tags": []
   },
   "outputs": [
    {
     "name": "stdout",
     "output_type": "stream",
     "text": [
      "CPU_COUNT: 8; NODE: amilcar22; sys.version: 3.10.12 (main, Jul  5 2023, 19:22:19) [GCC 11.2.0]\n",
      "LOKY_MAX_CPU_COUNT: 6\n",
      "OMP_NUM_THREADS: 2\n"
     ]
    }
   ],
   "source": [
    "import os\n",
    "import numpy as np\n",
    "import pandas as pd\n",
    "import datetime\n",
    "import sklearn\n",
    "import logging\n",
    "import warnings\n",
    "\n",
    "from sklearn.pipeline import Pipeline\n",
    "from sklearn.model_selection import RandomizedSearchCV, KFold, cross_val_score, train_test_split\n",
    "from sklearn.metrics import accuracy_score, confusion_matrix, classification_report, roc_auc_score\n",
    "\n",
    "#  cargar algoritmos para aprendizaje supervisado\n",
    "from sklearn.feature_selection import SelectKBest, f_classif, SelectFromModel, mutual_info_classif\n",
    "from sklearn.svm import SVC\n",
    "from sklearn.ensemble import RandomForestClassifier\n",
    "from sklearn.linear_model import LogisticRegression,LogisticRegressionCV\n",
    "\n",
    "# importar fichero con utilidades propias\n",
    "from commons import myfunctions as myfunc\n"
   ]
  },
  {
   "cell_type": "markdown",
   "id": "473ca9a2",
   "metadata": {
    "papermill": {
     "duration": 0.002695,
     "end_time": "2023-10-30T08:24:32.291292",
     "exception": false,
     "start_time": "2023-10-30T08:24:32.288597",
     "status": "completed"
    },
    "tags": []
   },
   "source": [
    "#### Parámetros a utilizar en el entrenamiento.\n",
    "\n",
    "Se indican los 3 algoritmos de *selección de características* (eval_selector_xxx) y los 3 algoritmos para la _clasificación_ (eval_clasifier_xxx)\n",
    "\n",
    "En *param_distributions* se indicar los parámetros que utilizan los algoritmos en la función RandomSearchCV.\n",
    "\n",
    "Esta celda tiene la etiqueta **parameters** que servirá para poder lanzar los entrenamientos con la utilidad **papermill** pasándole un fichero con los parámetros. Los nuevos parámetros se situarán tras esta celda para tener prevalencia."
   ]
  },
  {
   "cell_type": "code",
   "execution_count": 2,
   "id": "d7998db8",
   "metadata": {
    "execution": {
     "iopub.execute_input": "2023-10-30T08:24:32.297562Z",
     "iopub.status.busy": "2023-10-30T08:24:32.297290Z",
     "iopub.status.idle": "2023-10-30T08:24:32.304158Z",
     "shell.execute_reply": "2023-10-30T08:24:32.303741Z"
    },
    "papermill": {
     "duration": 0.01145,
     "end_time": "2023-10-30T08:24:32.305359",
     "exception": false,
     "start_time": "2023-10-30T08:24:32.293909",
     "status": "completed"
    },
    "tags": [
     "parameters"
    ]
   },
   "outputs": [
    {
     "name": "stdout",
     "output_type": "stream",
     "text": [
      "20231030T092432 : amilcar22 : INFO : Utilizando parámetros de mul_m\n"
     ]
    }
   ],
   "source": [
    "#  Parametros para el entrenamiento\n",
    "\n",
    "SEMILLA=        42\n",
    "M_TIPO=         \"mul_m\"\n",
    "M_SELECT=       \"MI\"\n",
    "M_CLASIF=       \"SVM\"\n",
    "R_FICHERO=      \"resultados\"\n",
    "M_FICHERO=      \"metricas\"\n",
    "PRE_DATA_FILE=  \"rows_transpose_norm_by_gene_id_with_target_num_\"\n",
    "SCORING=        \"roc_auc_ovr\" \n",
    "MAX_ITERS=      100\n",
    "\n",
    "def mutual_info_classif_state(X, y):\n",
    "    return mutual_info_classif(X, y, random_state=SEMILLA)\n",
    "\n",
    "eval_selector_mi = \"SelectKBest(score_func=mutual_info_classif_state)\"\n",
    "eval_selector_rf=  \"SelectFromModel(estimator=RandomForestClassifier(random_state=SEMILLA), threshold=-np.inf)\"\n",
    "eval_selector_anova=  \"SelectKBest(score_func=f_classif)\"\n",
    "\n",
    "eval_clasifier_svm= \"SVC(probability=True, random_state=SEMILLA)\"\n",
    "eval_clasifier_rf= \"RandomForestClassifier(random_state=SEMILLA)\"\n",
    "eval_clasifier_lr= \"LogisticRegressionCV(random_state=SEMILLA)\"\n",
    "\n",
    "if M_TIPO.startswith(\"bin_m\"):\n",
    "    myfunc.verbose(f\"Utilizando parámetros de {M_TIPO}\")\n",
    "    eval_selector = eval_selector_mi\n",
    "    eval_clasifier = eval_clasifier_svm\n",
    "\n",
    "    SEMILLA = 6578\n",
    "    M_SELECT = \"MI\"\n",
    "    M_CLASIF = \"SVM\"\n",
    "    param_distributions = {'selector__k': [1000], \n",
    "         'clasifier__kernel': ['rbf'], 'clasifier__gamma': [0.01], 'clasifier__C': [100]}\n",
    "elif M_TIPO.startswith(\"bin_s\"):\n",
    "    myfunc.verbose(f\"Utilizando parámetros de {M_TIPO}\")\n",
    "    eval_selector = eval_selector_rf\n",
    "    eval_clasifier = eval_clasifier_lr\n",
    "\n",
    "    SEMILLA = 6191\n",
    "    M_SELECT = \"RF\"\n",
    "    M_CLASIF = \"LR_L2\"\n",
    "    param_distributions = {'selector__max_features': [1000], 'selector__estimator__n_estimators': [200], \n",
    "        'clasifier__solver': ['lbfgs'], 'clasifier__penalty': ['l2'], 'clasifier__max_iter': [10000]}\n",
    "\n",
    "elif M_TIPO.startswith(\"mul_m\"):\n",
    "    myfunc.verbose(f\"Utilizando parámetros de {M_TIPO}\")\n",
    " \n",
    "    eval_selector = eval_selector_rf\n",
    "    eval_clasifier = eval_clasifier_lr\n",
    "\n",
    "    SEMILLA = 6191\n",
    "    M_SELECT = \"RF\"\n",
    "    M_CLASIF = \"LR_L2\"\n",
    "    param_distributions = {'selector__max_features': [1000], 'selector__estimator__n_estimators': [400], \n",
    "        'clasifier__solver': ['lbfgs'], 'clasifier__penalty': ['l2'], 'clasifier__max_iter': [10000]}\n",
    "\n",
    "else:\n",
    "    # M_TIPO.startswith(\"mul_s\"):\n",
    "    myfunc.verbose(f\"Utilizando parámetros de {M_TIPO}\")\n",
    "    eval_selector = eval_selector_anova\n",
    "    eval_clasifier = eval_clasifier_lr\n",
    "\n",
    "    SEMILLA = 1860\n",
    "    M_SELECT = \"ANOVA\"\n",
    "    M_CLASIF = \"LR_L2\"\n",
    "    param_distributions = {'selector__k': [1000], \n",
    "        'clasifier__solver': ['saga'], 'clasifier__penalty': ['l2'], 'clasifier__max_iter': [10000]}\n",
    "\n"
   ]
  },
  {
   "cell_type": "code",
   "execution_count": 3,
   "id": "f4949c6a",
   "metadata": {
    "execution": {
     "iopub.execute_input": "2023-10-30T08:24:32.311557Z",
     "iopub.status.busy": "2023-10-30T08:24:32.311373Z",
     "iopub.status.idle": "2023-10-30T08:24:32.315209Z",
     "shell.execute_reply": "2023-10-30T08:24:32.314710Z"
    },
    "papermill": {
     "duration": 0.008314,
     "end_time": "2023-10-30T08:24:32.316456",
     "exception": false,
     "start_time": "2023-10-30T08:24:32.308142",
     "status": "completed"
    },
    "tags": [
     "injected-parameters"
    ]
   },
   "outputs": [],
   "source": [
    "# Parameters\n",
    "M_TIPO = \"mul_m\"\n",
    "M_SELECT = \"MI\"\n",
    "M_CLASIF = \"RF\"\n",
    "P_FICHERO = \"param_0000_6191_mul_m_MI_RF.yaml\"\n",
    "R_FICHERO = \"resultados_6191\"\n",
    "M_FICHERO = \"metricas_6191\"\n",
    "PRE_DATA_FILE = \"rows_transpose_norm_by_gene_id_with_target_num_\"\n",
    "SCORING = \"roc_auc_ovr\"\n",
    "SEMILLA = 6191\n",
    "MAX_ITERS = 500\n",
    "eval_selector = \"SelectKBest(score_func=mutual_info_classif_state)\"\n",
    "eval_clasifier = \"RandomForestClassifier(random_state=SEMILLA)\"\n",
    "param_distributions = {\n",
    "    \"selector__k\": [1000],\n",
    "    \"clasifier__n_estimators\": [200],\n",
    "    \"clasifier__min_samples_split\": [10],\n",
    "    \"clasifier__min_samples_leaf\": [5],\n",
    "    \"clasifier__max_features\": [500],\n",
    "    \"clasifier__max_depth\": [10],\n",
    "    \"clasifier__bootstrap\": [True],\n",
    "}\n"
   ]
  },
  {
   "cell_type": "code",
   "execution_count": 4,
   "id": "d38e5ed9",
   "metadata": {
    "execution": {
     "iopub.execute_input": "2023-10-30T08:24:32.322368Z",
     "iopub.status.busy": "2023-10-30T08:24:32.322188Z",
     "iopub.status.idle": "2023-10-30T08:24:32.325047Z",
     "shell.execute_reply": "2023-10-30T08:24:32.324557Z"
    },
    "papermill": {
     "duration": 0.007152,
     "end_time": "2023-10-30T08:24:32.326228",
     "exception": false,
     "start_time": "2023-10-30T08:24:32.319076",
     "status": "completed"
    },
    "tags": []
   },
   "outputs": [],
   "source": [
    "DATA_FILE = PRE_DATA_FILE + M_TIPO\n",
    "\n",
    "# si viene \"None\" en el parámetro max_depth, se le quitan las comillas para que no sea entendido por el algoritmo como un texto\n",
    "if \"clasifier__max_depth\" in param_distributions:\n",
    "    param_distributions['clasifier__max_depth'] = [None if x == 'None' else x for x in param_distributions['clasifier__max_depth']]"
   ]
  },
  {
   "cell_type": "markdown",
   "id": "f36dbbbd",
   "metadata": {
    "papermill": {
     "duration": 0.002921,
     "end_time": "2023-10-30T08:24:32.332154",
     "exception": false,
     "start_time": "2023-10-30T08:24:32.329233",
     "status": "completed"
    },
    "tags": []
   },
   "source": [
    "Asignar los algoritmos que se utilizarán en la función RandomSearchCV"
   ]
  },
  {
   "cell_type": "code",
   "execution_count": 5,
   "id": "45c15518",
   "metadata": {
    "execution": {
     "iopub.execute_input": "2023-10-30T08:24:32.338750Z",
     "iopub.status.busy": "2023-10-30T08:24:32.338579Z",
     "iopub.status.idle": "2023-10-30T08:24:32.341205Z",
     "shell.execute_reply": "2023-10-30T08:24:32.340747Z"
    },
    "papermill": {
     "duration": 0.007264,
     "end_time": "2023-10-30T08:24:32.342395",
     "exception": false,
     "start_time": "2023-10-30T08:24:32.335131",
     "status": "completed"
    },
    "tags": []
   },
   "outputs": [],
   "source": [
    "algor_selector=eval(eval_selector)\n",
    "algor_clasifier=eval(eval_clasifier)"
   ]
  },
  {
   "cell_type": "markdown",
   "id": "a80fed00",
   "metadata": {
    "papermill": {
     "duration": 0.002969,
     "end_time": "2023-10-30T08:24:32.348369",
     "exception": false,
     "start_time": "2023-10-30T08:24:32.345400",
     "status": "completed"
    },
    "tags": []
   },
   "source": [
    "#### Comprobar el entorno y leer fichero de muestras"
   ]
  },
  {
   "cell_type": "code",
   "execution_count": 6,
   "id": "9ba7b5f5",
   "metadata": {
    "execution": {
     "iopub.execute_input": "2023-10-30T08:24:32.355109Z",
     "iopub.status.busy": "2023-10-30T08:24:32.354925Z",
     "iopub.status.idle": "2023-10-30T08:24:32.512495Z",
     "shell.execute_reply": "2023-10-30T08:24:32.511951Z"
    },
    "papermill": {
     "duration": 0.16238,
     "end_time": "2023-10-30T08:24:32.513710",
     "exception": false,
     "start_time": "2023-10-30T08:24:32.351330",
     "status": "completed"
    },
    "tags": []
   },
   "outputs": [
    {
     "name": "stdout",
     "output_type": "stream",
     "text": [
      "20231030T092432 : amilcar22 : INFO : Encontrada carpeta DATA_DIR=../tfm_git/datos\n",
      "20231030T092432 : amilcar22 : INFO : Encontrada carpeta CFDNA_DIR=../tfm_git/datos/cfDNA_5hmC\n",
      "20231030T092432 : amilcar22 : INFO : Encontrada carpeta GENCODE_DIR=../tfm_git/datos/gencode\n",
      "20231030T092432 : amilcar22 : INFO : Encontrada carpeta H5_DIR=../tfm_git/datos/h5\n",
      "20231030T092432 : amilcar22 : INFO : Encontrada carpeta LOG_DIR=../tfm_git/datos/logs\n",
      "20231030T092432 : amilcar22 : INFO : Encontrada carpeta CSV_DIR=../tfm_git/datos/csv\n",
      "20231030T092432 : amilcar22 : INFO : Encontrada carpeta MODEL_DIR=../tfm_git/ejecuciones/modelos\n",
      "20231030T092432 : amilcar22 : INFO : Encontrada carpeta EXEC_DIR=../tfm_git/ejecuciones\n",
      "20231030T092432 : amilcar22 : INFO : Encontrada carpeta MET_DIR=../tfm_git/ejecuciones/metricas\n",
      "20231030T092432 : amilcar22 : INFO : Inicio leer fichero h5 ../tfm_git/datos/h5/rows_transpose_norm_by_gene_id_with_target_num_mul_m.h5\n",
      "20231030T092432 : amilcar22 : INFO : Leyendo clave /df\n",
      "20231030T092432 : amilcar22 : INFO : Tamaño (434, 18876)\n",
      "20231030T092432 : amilcar22 : INFO : Fin leer fichero h5 ../tfm_git/datos/h5/rows_transpose_norm_by_gene_id_with_target_num_mul_m.h5\n"
     ]
    },
    {
     "data": {
      "text/plain": [
       "target\n",
       "0    62\n",
       "1    62\n",
       "2    62\n",
       "3    62\n",
       "4    62\n",
       "5    62\n",
       "6    62\n",
       "dtype: int64"
      ]
     },
     "metadata": {},
     "output_type": "display_data"
    },
    {
     "name": "stdout",
     "output_type": "stream",
     "text": [
      "Shape df: (434, 18876)\n"
     ]
    },
    {
     "name": "stdout",
     "output_type": "stream",
     "text": [
      "Shape X_train: (347, 18875)\n",
      "Shape X_test: (87, 18875)\n"
     ]
    }
   ],
   "source": [
    "start_time = datetime.datetime.now()\n",
    "\n",
    "myfunc.reset_vars()\n",
    "\n",
    "myfunc.NOTEBK_FILENAME = myfunc.get_nb_name()\n",
    "\n",
    "myfunc.check_enviroment(myfunc.DATA_DIR, myfunc.CFDNA_DIR, myfunc.GENCODE_DIR, myfunc.H5_DIR, myfunc.LOG_DIR, myfunc.CSV_DIR, myfunc.MODEL_DIR, myfunc.EXEC_DIR, myfunc.MET_DIR)\n",
    "\n",
    "# Leer fichero con las muestras\n",
    "df_t = myfunc.read_h5_to_df(DATA_FILE, myfunc.H5_DIR)\n",
    "display(df_t.groupby(\"target\").size())\n",
    "print(\"Shape df:\",df_t.shape)\n",
    "\n",
    "# Separar caracteristicas/genes de las etiquetas/tipos de cáncer\n",
    "X = df_t.iloc[:, :-1]  # Todas las columnas excepto la última\n",
    "y = df_t.iloc[:, -1]  # La última columna contiene los identificadores de los tipos de cáncer\n",
    "\n",
    "#  Crear el conjunto de datos de entrenamiento y de pruebas, y se fija la semilla para siempre coger el mismo juego de muestras\n",
    "X_train, X_test, y_train, y_test = train_test_split(X, y, test_size=0.2, shuffle=True, random_state=42)\n",
    "print(\"Shape X_train:\",X_train.shape)\n",
    "print(\"Shape X_test:\",X_test.shape)\n"
   ]
  },
  {
   "cell_type": "markdown",
   "id": "63c9000f",
   "metadata": {
    "papermill": {
     "duration": 0.002839,
     "end_time": "2023-10-30T08:24:32.519951",
     "exception": false,
     "start_time": "2023-10-30T08:24:32.517112",
     "status": "completed"
    },
    "tags": []
   },
   "source": [
    "#### Selección de características y clasificación."
   ]
  },
  {
   "cell_type": "code",
   "execution_count": 7,
   "id": "2a64a83d",
   "metadata": {
    "execution": {
     "iopub.execute_input": "2023-10-30T08:24:32.526545Z",
     "iopub.status.busy": "2023-10-30T08:24:32.526342Z",
     "iopub.status.idle": "2023-10-30T08:28:15.882883Z",
     "shell.execute_reply": "2023-10-30T08:28:15.882150Z"
    },
    "papermill": {
     "duration": 223.364019,
     "end_time": "2023-10-30T08:28:15.886832",
     "exception": false,
     "start_time": "2023-10-30T08:24:32.522813",
     "status": "completed"
    },
    "tags": []
   },
   "outputs": [
    {
     "name": "stdout",
     "output_type": "stream",
     "text": [
      "20231030T092432 : amilcar22 : INFO : Iniciando entrenamiento\n",
      "num_iter: 1 , max_iter: 1\n",
      "Fitting 5 folds for each of 1 candidates, totalling 5 fits\n"
     ]
    },
    {
     "name": "stdout",
     "output_type": "stream",
     "text": [
      "Mejores Hiperparámetros: {'selector__k': 1000, 'clasifier__n_estimators': 200, 'clasifier__min_samples_split': 10, 'clasifier__min_samples_leaf': 5, 'clasifier__max_features': 500, 'clasifier__max_depth': 10, 'clasifier__bootstrap': True}\n",
      "Mejor Puntuación: 0.8118\n",
      "20231030T092815 : amilcar22 : INFO : Fin entrenamiento\n"
     ]
    }
   ],
   "source": [
    "myfunc.verbose(\"Iniciando entrenamiento\")\n",
    "\n",
    "kf = KFold(n_splits=5, shuffle=True, random_state=SEMILLA)\n",
    "\n",
    "# Crear el pipeline para el flujo de tareas\n",
    "tasks_pipeline = Pipeline([\n",
    "    ('selector', algor_selector),\n",
    "    ('clasifier', algor_clasifier)\n",
    "])\n",
    "\n",
    "# MAX_ITERS puede limitar el número de iteraciones si son excesivas para las combinaciones de parámetros buscando un óptimo local, \n",
    "# sino funcionaría como GridSearchCV al revisar todas las cominaciones de los parámetros\n",
    "num_iteraciones = 1\n",
    "num_iteraciones = num_iteraciones * np.prod([len(elemento1) for _, elemento1 in param_distributions.items()])\n",
    "max_iteraciones = num_iteraciones if num_iteraciones <= MAX_ITERS else MAX_ITERS\n",
    "print(\"num_iter:\",num_iteraciones,\", max_iter:\",max_iteraciones)\n",
    "\n",
    "random_search = RandomizedSearchCV(\n",
    "    tasks_pipeline, \n",
    "    param_distributions, \n",
    "    n_iter=max_iteraciones,\n",
    "    scoring=SCORING,\n",
    "    cv=kf,\n",
    "    verbose=3, \n",
    "    random_state=SEMILLA, \n",
    "    n_jobs=-1\n",
    "    )\n",
    "\n",
    "# Entrenar el modelo\n",
    "random_search.fit(X_train, y_train)\n",
    "\n",
    "# Ver los mejores hiperparámetros encontrados\n",
    "print(f'Mejores Hiperparámetros: {random_search.best_params_}')\n",
    "print(f'Mejor Puntuación: {random_search.best_score_:.4f}')\n",
    "\n",
    "# Nos quedamos con el mejor modelo para ver las métricas\n",
    "mejor_modelo = random_search.best_estimator_\n",
    "\n",
    "myfunc.verbose(\"Fin entrenamiento\")"
   ]
  },
  {
   "cell_type": "markdown",
   "id": "70dc66a8",
   "metadata": {
    "papermill": {
     "duration": 0.002921,
     "end_time": "2023-10-30T08:28:15.892788",
     "exception": false,
     "start_time": "2023-10-30T08:28:15.889867",
     "status": "completed"
    },
    "tags": []
   },
   "source": [
    "#### Guardar modelo"
   ]
  },
  {
   "cell_type": "code",
   "execution_count": 8,
   "id": "d8c21cc5",
   "metadata": {
    "execution": {
     "iopub.execute_input": "2023-10-30T08:28:15.899369Z",
     "iopub.status.busy": "2023-10-30T08:28:15.899164Z",
     "iopub.status.idle": "2023-10-30T08:28:15.965582Z",
     "shell.execute_reply": "2023-10-30T08:28:15.964878Z"
    },
    "papermill": {
     "duration": 0.071353,
     "end_time": "2023-10-30T08:28:15.966957",
     "exception": false,
     "start_time": "2023-10-30T08:28:15.895604",
     "status": "completed"
    },
    "tags": []
   },
   "outputs": [
    {
     "name": "stdout",
     "output_type": "stream",
     "text": [
      "20231030T092815 : amilcar22 : INFO : Inicio guardar fichero ../tfm_git/ejecuciones/modelos/modelo_6191_mul_m_MI_RF.pkl\n",
      "20231030T092815 : amilcar22 : INFO : Fin guardar fichero ../tfm_git/ejecuciones/modelos/modelo_6191_mul_m_MI_RF.pkl\n"
     ]
    }
   ],
   "source": [
    "fichero_modelo = str.replace(\"modelo_\"+str(SEMILLA).zfill(4)+\"_\"+M_TIPO+\"_\"+M_SELECT+\"_\"+M_CLASIF+\".pkl\", \" \", \"_\")\n",
    "\n",
    "myfunc.save_modelo(mejor_modelo, myfunc.MODEL_DIR, fichero_modelo)"
   ]
  },
  {
   "cell_type": "markdown",
   "id": "b9081d02",
   "metadata": {
    "papermill": {
     "duration": 0.003058,
     "end_time": "2023-10-30T08:28:15.973323",
     "exception": false,
     "start_time": "2023-10-30T08:28:15.970265",
     "status": "completed"
    },
    "tags": []
   },
   "source": [
    "#### Ver resultados del las iteraciones hechas por RandomSearchCV"
   ]
  },
  {
   "cell_type": "code",
   "execution_count": 9,
   "id": "9f83945b",
   "metadata": {
    "execution": {
     "iopub.execute_input": "2023-10-30T08:28:15.980144Z",
     "iopub.status.busy": "2023-10-30T08:28:15.979954Z",
     "iopub.status.idle": "2023-10-30T08:28:15.985720Z",
     "shell.execute_reply": "2023-10-30T08:28:15.985124Z"
    },
    "papermill": {
     "duration": 0.010568,
     "end_time": "2023-10-30T08:28:15.986853",
     "exception": false,
     "start_time": "2023-10-30T08:28:15.976285",
     "status": "completed"
    },
    "tags": []
   },
   "outputs": [
    {
     "name": "stdout",
     "output_type": "stream",
     "text": [
      "20231030T092815 : amilcar22 : INFO : Inicio ver resultados\n",
      "Mejores Hiperparámetros: {'selector__k': 1000, 'clasifier__n_estimators': 200, 'clasifier__min_samples_split': 10, 'clasifier__min_samples_leaf': 5, 'clasifier__max_features': 500, 'clasifier__max_depth': 10, 'clasifier__bootstrap': True}\n",
      "Mejores puntuaciones: 0.8118 | Params: {'selector__k': 1000, 'clasifier__n_estimators': 200, 'clasifier__min_samples_split': 10, 'clasifier__min_samples_leaf': 5, 'clasifier__max_features': 500, 'clasifier__max_depth': 10, 'clasifier__bootstrap': True}\n",
      "Media de las puntuaciones: 0.8118 | Params: {'selector__k': 1000, 'clasifier__n_estimators': 200, 'clasifier__min_samples_split': 10, 'clasifier__min_samples_leaf': 5, 'clasifier__max_features': 500, 'clasifier__max_depth': 10, 'clasifier__bootstrap': True}\n",
      "20231030T092815 : amilcar22 : INFO : Fin resultados\n"
     ]
    }
   ],
   "source": [
    "myfunc.ver_resultados_search(random_search)"
   ]
  },
  {
   "cell_type": "markdown",
   "id": "d0ae805e",
   "metadata": {
    "papermill": {
     "duration": 0.003034,
     "end_time": "2023-10-30T08:28:15.993062",
     "exception": false,
     "start_time": "2023-10-30T08:28:15.990028",
     "status": "completed"
    },
    "tags": []
   },
   "source": [
    "#### Ver métricas del mejor modelo"
   ]
  },
  {
   "cell_type": "code",
   "execution_count": 10,
   "id": "8300d047",
   "metadata": {
    "execution": {
     "iopub.execute_input": "2023-10-30T08:28:15.999882Z",
     "iopub.status.busy": "2023-10-30T08:28:15.999698Z",
     "iopub.status.idle": "2023-10-30T08:28:16.619705Z",
     "shell.execute_reply": "2023-10-30T08:28:16.619214Z"
    },
    "papermill": {
     "duration": 0.624837,
     "end_time": "2023-10-30T08:28:16.620952",
     "exception": false,
     "start_time": "2023-10-30T08:28:15.996115",
     "status": "completed"
    },
    "tags": []
   },
   "outputs": [
    {
     "name": "stdout",
     "output_type": "stream",
     "text": [
      "20231030T092816 : amilcar22 : INFO : Inicio ver métricas multiclase\n"
     ]
    },
    {
     "name": "stdout",
     "output_type": "stream",
     "text": [
      "              precision    recall  f1-score   support\n",
      "\n",
      "           0       0.25      0.06      0.10        16\n",
      "           1       0.67      0.67      0.67        15\n",
      "           2       0.50      0.36      0.42        11\n",
      "           3       0.21      0.80      0.33         5\n",
      "           4       0.42      0.62      0.50        13\n",
      "           5       0.55      0.67      0.60         9\n",
      "           6       0.64      0.39      0.48        18\n",
      "\n",
      "    accuracy                           0.46        87\n",
      "   macro avg       0.46      0.51      0.44        87\n",
      "weighted avg       0.49      0.46      0.44        87\n",
      "\n",
      "\n",
      "\n",
      "           Exactitud: 0.459770\n",
      "   Precisión (media): 0.461438\n",
      "      Recall (media): 0.509106\n",
      "    F1-score (media): 0.443402\n",
      "\n",
      "\n",
      "AUC para el tipo de cáncer 0-Control.... 0.6056\n",
      "AUC para el tipo de cáncer 1-Bladder.... 0.8602\n",
      "AUC para el tipo de cáncer 2-Breast..... 0.7297\n",
      "AUC para el tipo de cáncer 3-Colorectal. 0.8902\n",
      "AUC para el tipo de cáncer 4-Kidney..... 0.8358\n",
      "AUC para el tipo de cáncer 5-Lung....... 0.8219\n",
      "AUC para el tipo de cáncer 6-Prostate... 0.8100\n"
     ]
    },
    {
     "name": "stdout",
     "output_type": "stream",
     "text": [
      "\n",
      "Media de AUC: 0.7933\n"
     ]
    },
    {
     "data": {
      "image/png": "[encoded data removed]",
      "text/plain": [
       "<Figure size 1000x600 with 1 Axes>"
      ]
     },
     "metadata": {},
     "output_type": "display_data"
    },
    {
     "name": "stdout",
     "output_type": "stream",
     "text": [
      "\n",
      "\n"
     ]
    },
    {
     "data": {
      "image/png": "[encoded data removed]",
      "text/plain": [
       "<Figure size 800x400 with 2 Axes>"
      ]
     },
     "metadata": {},
     "output_type": "display_data"
    },
    {
     "name": "stdout",
     "output_type": "stream",
     "text": [
      "\n",
      "\n",
      "Puntuación Jaccard para el cáncer tipo 0-Control.... 0.0526\n",
      "Puntuación Jaccard para el cáncer tipo 1-Bladder.... 0.5000\n",
      "Puntuación Jaccard para el cáncer tipo 2-Breast..... 0.2667\n",
      "Puntuación Jaccard para el cáncer tipo 3-Colorectal. 0.2000\n",
      "Puntuación Jaccard para el cáncer tipo 4-Kidney..... 0.3333\n",
      "Puntuación Jaccard para el cáncer tipo 5-Lung....... 0.4286\n",
      "Puntuación Jaccard para el cáncer tipo 6-Prostate... 0.3182\n",
      "\n",
      "Media de la puntuación de Jaccard: 0.2999\n"
     ]
    }
   ],
   "source": [
    "if M_TIPO.startswith(\"bin\"):\n",
    "    myfunc.ver_metricas(mejor_modelo, X_test, y_test)\n",
    "else:\n",
    "    myfunc.ver_metricas_multi(mejor_modelo, X_test, y_test)\n"
   ]
  },
  {
   "cell_type": "markdown",
   "id": "f3f3d566",
   "metadata": {
    "papermill": {
     "duration": 0.004117,
     "end_time": "2023-10-30T08:28:16.629557",
     "exception": false,
     "start_time": "2023-10-30T08:28:16.625440",
     "status": "completed"
    },
    "tags": []
   },
   "source": [
    "#### Finalización del notebook"
   ]
  },
  {
   "cell_type": "code",
   "execution_count": 11,
   "id": "632c4552",
   "metadata": {
    "execution": {
     "iopub.execute_input": "2023-10-30T08:28:16.638765Z",
     "iopub.status.busy": "2023-10-30T08:28:16.638561Z",
     "iopub.status.idle": "2023-10-30T08:28:16.641827Z",
     "shell.execute_reply": "2023-10-30T08:28:16.641302Z"
    },
    "papermill": {
     "duration": 0.009171,
     "end_time": "2023-10-30T08:28:16.642979",
     "exception": false,
     "start_time": "2023-10-30T08:28:16.633808",
     "status": "completed"
    },
    "tags": []
   },
   "outputs": [
    {
     "name": "stdout",
     "output_type": "stream",
     "text": [
      "20231030T092816 : amilcar22 : INFO : Notebook ha tardado 224 seconds\n"
     ]
    }
   ],
   "source": [
    "end_time = datetime.datetime.now()\n",
    "total_time = end_time - start_time\n",
    "myfunc.verbose(f\"Notebook ha tardado {total_time.seconds} seconds\")"
   ]
  },
  {
   "cell_type": "markdown",
   "id": "95620005",
   "metadata": {
    "papermill": {
     "duration": 0.004161,
     "end_time": "2023-10-30T08:28:16.651305",
     "exception": false,
     "start_time": "2023-10-30T08:28:16.647144",
     "status": "completed"
    },
    "tags": []
   },
   "source": [
    "#### Guardar métricas"
   ]
  },
  {
   "cell_type": "code",
   "execution_count": 12,
   "id": "f90cbfd0",
   "metadata": {
    "execution": {
     "iopub.execute_input": "2023-10-30T08:28:16.660387Z",
     "iopub.status.busy": "2023-10-30T08:28:16.660195Z",
     "iopub.status.idle": "2023-10-30T08:28:16.886878Z",
     "shell.execute_reply": "2023-10-30T08:28:16.886249Z"
    },
    "papermill": {
     "duration": 0.232769,
     "end_time": "2023-10-30T08:28:16.888222",
     "exception": false,
     "start_time": "2023-10-30T08:28:16.655453",
     "status": "completed"
    },
    "tags": []
   },
   "outputs": [
    {
     "name": "stdout",
     "output_type": "stream",
     "text": [
      "20231030T092816 : amilcar22 : INFO : Inicio guardar métricas multiclase\n",
      "20231030T092816 : amilcar22 : INFO : Inicio leer fichero ../tfm_git/ejecuciones/metricas/metricas_6191.csv\n",
      "20231030T092816 : amilcar22 : INFO : Fin leer fichero ../tfm_git/ejecuciones/metricas/metricas_6191.csv\n"
     ]
    },
    {
     "name": "stdout",
     "output_type": "stream",
     "text": [
      "20231030T092816 : amilcar22 : INFO : Inicio guardar fichero ../tfm_git/ejecuciones/metricas/metricas_6191.csv\n",
      "20231030T092816 : amilcar22 : INFO : Fichero borrado ../tfm_git/ejecuciones/metricas/metricas_6191.csv\n"
     ]
    },
    {
     "name": "stdout",
     "output_type": "stream",
     "text": [
      "20231030T092816 : amilcar22 : INFO : Fin guardar fichero ../tfm_git/ejecuciones/metricas/metricas_6191.csv\n",
      "20231030T092816 : amilcar22 : INFO : Fin guardar métricas multiclase\n",
      "20231030T092816 : amilcar22 : INFO : Inicio leer fichero ../tfm_git/ejecuciones/metricas/metricas_6191.csv\n",
      "20231030T092816 : amilcar22 : INFO : Fin leer fichero ../tfm_git/ejecuciones/metricas/metricas_6191.csv\n"
     ]
    },
    {
     "data": {
      "text/html": [
       "<div>\n",
       "<style scoped>\n",
       "    .dataframe tbody tr th:only-of-type {\n",
       "        vertical-align: middle;\n",
       "    }\n",
       "\n",
       "    .dataframe tbody tr th {\n",
       "        vertical-align: top;\n",
       "    }\n",
       "\n",
       "    .dataframe thead th {\n",
       "        text-align: right;\n",
       "    }\n",
       "</style>\n",
       "<table border=\"1\" class=\"dataframe\">\n",
       "  <thead>\n",
       "    <tr style=\"text-align: right;\">\n",
       "      <th></th>\n",
       "      <th>tipo</th>\n",
       "      <th>select</th>\n",
       "      <th>clasific</th>\n",
       "      <th>semilla</th>\n",
       "      <th>accuracy</th>\n",
       "      <th>precision</th>\n",
       "      <th>recall</th>\n",
       "      <th>f1_score</th>\n",
       "      <th>roc_auc</th>\n",
       "      <th>hostname</th>\n",
       "      <th>total_time_sec</th>\n",
       "      <th>datetime</th>\n",
       "      <th>fichero_modelo</th>\n",
       "      <th>params</th>\n",
       "      <th>shape</th>\n",
       "      <th>features</th>\n",
       "      <th>roc_auc_ovr</th>\n",
       "      <th>indices_auc</th>\n",
       "      <th>indices_jaccard</th>\n",
       "    </tr>\n",
       "  </thead>\n",
       "  <tbody>\n",
       "    <tr>\n",
       "      <th>0</th>\n",
       "      <td>mul_m</td>\n",
       "      <td>MI</td>\n",
       "      <td>RF</td>\n",
       "      <td>6191</td>\n",
       "      <td>0.459770</td>\n",
       "      <td>0.461438</td>\n",
       "      <td>0.509106</td>\n",
       "      <td>0.443402</td>\n",
       "      <td>NaN</td>\n",
       "      <td>amilcar22</td>\n",
       "      <td>224</td>\n",
       "      <td>2023-10-30 09:28:16.857615</td>\n",
       "      <td>modelo_6191_mul_m_MI_RF.pkl</td>\n",
       "      <td>{'selector__k': 1000, 'clasifier__n_estimators...</td>\n",
       "      <td>X_test:(87, 18875)</td>\n",
       "      <td>['ENSG00000001084.13', 'ENSG00000001460.18', '...</td>\n",
       "      <td>0.793344</td>\n",
       "      <td>[0.6056338028169015, 0.8601851851851853, 0.729...</td>\n",
       "      <td>[0.05263157894736842, 0.5, 0.26666666666666666...</td>\n",
       "    </tr>\n",
       "    <tr>\n",
       "      <th>0</th>\n",
       "      <td>mul_m</td>\n",
       "      <td>MI</td>\n",
       "      <td>LR_L2</td>\n",
       "      <td>6191</td>\n",
       "      <td>0.597701</td>\n",
       "      <td>0.587563</td>\n",
       "      <td>0.603046</td>\n",
       "      <td>0.586714</td>\n",
       "      <td>NaN</td>\n",
       "      <td>amilcar22</td>\n",
       "      <td>244</td>\n",
       "      <td>2023-10-30 09:24:26.305576</td>\n",
       "      <td>modelo_6191_mul_m_MI_LR_L2.pkl</td>\n",
       "      <td>{'selector__k': 1000, 'clasifier__solver': 'lb...</td>\n",
       "      <td>X_test:(87, 18875)</td>\n",
       "      <td>['ENSG00000001084.13', 'ENSG00000001460.18', '...</td>\n",
       "      <td>0.893352</td>\n",
       "      <td>[0.8776408450704225, 0.8861111111111111, 0.819...</td>\n",
       "      <td>[0.42857142857142855, 0.47368421052631576, 0.3...</td>\n",
       "    </tr>\n",
       "    <tr>\n",
       "      <th>0</th>\n",
       "      <td>mul_m</td>\n",
       "      <td>MI</td>\n",
       "      <td>LR_L1</td>\n",
       "      <td>6191</td>\n",
       "      <td>0.620690</td>\n",
       "      <td>0.622100</td>\n",
       "      <td>0.653839</td>\n",
       "      <td>0.618826</td>\n",
       "      <td>NaN</td>\n",
       "      <td>amilcar22</td>\n",
       "      <td>2005</td>\n",
       "      <td>2023-10-30 09:20:15.157233</td>\n",
       "      <td>modelo_6191_mul_m_MI_LR_L1.pkl</td>\n",
       "      <td>{'selector__k': 1000, 'clasifier__solver': 'sa...</td>\n",
       "      <td>X_test:(87, 18875)</td>\n",
       "      <td>['ENSG00000001084.13', 'ENSG00000001460.18', '...</td>\n",
       "      <td>0.893279</td>\n",
       "      <td>[0.8811619718309859, 0.8916666666666666, 0.812...</td>\n",
       "      <td>[0.45, 0.5555555555555556, 0.3125, 0.416666666...</td>\n",
       "    </tr>\n",
       "  </tbody>\n",
       "</table>\n",
       "</div>"
      ],
      "text/plain": [
       "    tipo select clasific  semilla  accuracy  precision    recall  f1_score  \\\n",
       "0  mul_m     MI       RF     6191  0.459770   0.461438  0.509106  0.443402   \n",
       "0  mul_m     MI    LR_L2     6191  0.597701   0.587563  0.603046  0.586714   \n",
       "0  mul_m     MI    LR_L1     6191  0.620690   0.622100  0.653839  0.618826   \n",
       "\n",
       "   roc_auc   hostname  total_time_sec                    datetime  \\\n",
       "0      NaN  amilcar22             224  2023-10-30 09:28:16.857615   \n",
       "0      NaN  amilcar22             244  2023-10-30 09:24:26.305576   \n",
       "0      NaN  amilcar22            2005  2023-10-30 09:20:15.157233   \n",
       "\n",
       "                   fichero_modelo  \\\n",
       "0     modelo_6191_mul_m_MI_RF.pkl   \n",
       "0  modelo_6191_mul_m_MI_LR_L2.pkl   \n",
       "0  modelo_6191_mul_m_MI_LR_L1.pkl   \n",
       "\n",
       "                                              params               shape  \\\n",
       "0  {'selector__k': 1000, 'clasifier__n_estimators...  X_test:(87, 18875)   \n",
       "0  {'selector__k': 1000, 'clasifier__solver': 'lb...  X_test:(87, 18875)   \n",
       "0  {'selector__k': 1000, 'clasifier__solver': 'sa...  X_test:(87, 18875)   \n",
       "\n",
       "                                            features  roc_auc_ovr  \\\n",
       "0  ['ENSG00000001084.13', 'ENSG00000001460.18', '...     0.793344   \n",
       "0  ['ENSG00000001084.13', 'ENSG00000001460.18', '...     0.893352   \n",
       "0  ['ENSG00000001084.13', 'ENSG00000001460.18', '...     0.893279   \n",
       "\n",
       "                                         indices_auc  \\\n",
       "0  [0.6056338028169015, 0.8601851851851853, 0.729...   \n",
       "0  [0.8776408450704225, 0.8861111111111111, 0.819...   \n",
       "0  [0.8811619718309859, 0.8916666666666666, 0.812...   \n",
       "\n",
       "                                     indices_jaccard  \n",
       "0  [0.05263157894736842, 0.5, 0.26666666666666666...  \n",
       "0  [0.42857142857142855, 0.47368421052631576, 0.3...  \n",
       "0  [0.45, 0.5555555555555556, 0.3125, 0.416666666...  "
      ]
     },
     "metadata": {},
     "output_type": "display_data"
    }
   ],
   "source": [
    "if M_TIPO.startswith(\"bin\"):\n",
    "    myfunc.save_metricas_to_csv(random_search, X_test, y_test, M_TIPO, M_SELECT, M_CLASIF, total_time, SEMILLA, myfunc.MET_DIR, M_FICHERO, fichero_modelo)\n",
    "else:\n",
    "    myfunc.save_metricas_multi_to_csv(random_search, X_test, y_test, M_TIPO, M_SELECT, M_CLASIF, total_time, SEMILLA, myfunc.MET_DIR, M_FICHERO, fichero_modelo)\n",
    "\n",
    "df1=myfunc.read_metricas_to_df(myfunc.MET_DIR,M_FICHERO)\n",
    "\n",
    "display(df1.sort_values(\"datetime\", ascending=False)[:3])\n"
   ]
  },
  {
   "cell_type": "markdown",
   "id": "3ce0acbe",
   "metadata": {
    "papermill": {
     "duration": 0.004521,
     "end_time": "2023-10-30T08:28:16.897732",
     "exception": false,
     "start_time": "2023-10-30T08:28:16.893211",
     "status": "completed"
    },
    "tags": []
   },
   "source": [
    "#### Guardar resultados"
   ]
  },
  {
   "cell_type": "code",
   "execution_count": 13,
   "id": "103b8998",
   "metadata": {
    "execution": {
     "iopub.execute_input": "2023-10-30T08:28:16.907658Z",
     "iopub.status.busy": "2023-10-30T08:28:16.907462Z",
     "iopub.status.idle": "2023-10-30T08:28:16.916241Z",
     "shell.execute_reply": "2023-10-30T08:28:16.915720Z"
    },
    "papermill": {
     "duration": 0.015226,
     "end_time": "2023-10-30T08:28:16.917487",
     "exception": false,
     "start_time": "2023-10-30T08:28:16.902261",
     "status": "completed"
    },
    "tags": []
   },
   "outputs": [
    {
     "name": "stdout",
     "output_type": "stream",
     "text": [
      "20231030T092816 : amilcar22 : INFO : Inicio guardar resultados\n",
      "20231030T092816 : amilcar22 : INFO : Inicio guardar fichero ../tfm_git/ejecuciones/metricas/resultados_6191_mul_m-MI-RF.csv\n",
      "20231030T092816 : amilcar22 : INFO : Fin guardar fichero ../tfm_git/ejecuciones/metricas/resultados_6191_mul_m-MI-RF.csv\n",
      "20231030T092816 : amilcar22 : INFO : Fin guardar resultados\n"
     ]
    }
   ],
   "source": [
    "fichero_resultados=R_FICHERO+\"_\"+M_TIPO+\"-\"+M_SELECT+\"-\"+M_CLASIF+\".csv\"\n",
    "myfunc.save_resultados_to_csv(M_TIPO, M_SELECT, M_CLASIF,  random_search, myfunc.MET_DIR, fichero_resultados)\n"
   ]
  }
 ],
 "metadata": {
  "kernelspec": {
   "display_name": "Python 3 (ipykernel)",
   "language": "python",
   "name": "python3"
  },
  "language_info": {
   "codemirror_mode": {
    "name": "ipython",
    "version": 3
   },
   "file_extension": ".py",
   "mimetype": "text/x-python",
   "name": "python",
   "nbconvert_exporter": "python",
   "pygments_lexer": "ipython3",
   "version": "3.10.12"
  },
  "papermill": {
   "default_parameters": {},
   "duration": 229.049422,
   "end_time": "2023-10-30T08:28:19.540246",
   "environment_variables": {},
   "exception": null,
   "input_path": "03_entrenamiento.ipynb",
   "output_path": "ejecuciones/training/03_entrenamiento.20231030T092430.param_0000_6191_mul_m_MI_RF.output.ipynb",
   "parameters": {
    "MAX_ITERS": 500,
    "M_CLASIF": "RF",
    "M_FICHERO": "metricas_6191",
    "M_SELECT": "MI",
    "M_TIPO": "mul_m",
    "PRE_DATA_FILE": "rows_transpose_norm_by_gene_id_with_target_num_",
    "P_FICHERO": "param_0000_6191_mul_m_MI_RF.yaml",
    "R_FICHERO": "resultados_6191",
    "SCORING": "roc_auc_ovr",
    "SEMILLA": 6191,
    "eval_clasifier": "RandomForestClassifier(random_state=SEMILLA)",
    "eval_selector": "SelectKBest(score_func=mutual_info_classif_state)",
    "param_distributions": {
     "clasifier__bootstrap": [
      true
     ],
     "clasifier__max_depth": [
      10
     ],
     "clasifier__max_features": [
      500
     ],
     "clasifier__min_samples_leaf": [
      5
     ],
     "clasifier__min_samples_split": [
      10
     ],
     "clasifier__n_estimators": [
      200
     ],
     "selector__k": [
      1000
     ]
    }
   },
   "start_time": "2023-10-30T08:24:30.490824",
   "version": "2.4.0"
  }
 },
 "nbformat": 4,
 "nbformat_minor": 5
}