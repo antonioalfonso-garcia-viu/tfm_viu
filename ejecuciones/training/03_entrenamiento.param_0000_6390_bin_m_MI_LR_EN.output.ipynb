{
 "cells": [
  {
   "cell_type": "markdown",
   "id": "1ecdb1ac",
   "metadata": {
    "papermill": {
     "duration": 0.004323,
     "end_time": "2023-10-30T11:48:44.958546",
     "exception": false,
     "start_time": "2023-10-30T11:48:44.954223",
     "status": "completed"
    },
    "tags": []
   },
   "source": [
    "##### Inicio"
   ]
  },
  {
   "cell_type": "markdown",
   "id": "fb443f6a",
   "metadata": {
    "papermill": {
     "duration": 0.003508,
     "end_time": "2023-10-30T11:48:44.965875",
     "exception": false,
     "start_time": "2023-10-30T11:48:44.962367",
     "status": "completed"
    },
    "tags": []
   },
   "source": [
    "#### Carga de datos"
   ]
  },
  {
   "cell_type": "code",
   "execution_count": 1,
   "id": "b122e8d2",
   "metadata": {
    "execution": {
     "iopub.execute_input": "2023-10-30T11:48:44.974671Z",
     "iopub.status.busy": "2023-10-30T11:48:44.974103Z",
     "iopub.status.idle": "2023-10-30T11:48:45.838034Z",
     "shell.execute_reply": "2023-10-30T11:48:45.837434Z"
    },
    "papermill": {
     "duration": 0.869817,
     "end_time": "2023-10-30T11:48:45.839356",
     "exception": false,
     "start_time": "2023-10-30T11:48:44.969539",
     "status": "completed"
    },
    "tags": []
   },
   "outputs": [
    {
     "name": "stdout",
     "output_type": "stream",
     "text": [
      "CPU_COUNT: 8; NODE: amilcar22; sys.version: 3.10.12 (main, Jul  5 2023, 19:22:19) [GCC 11.2.0]\n",
      "LOKY_MAX_CPU_COUNT: 6\n",
      "OMP_NUM_THREADS: 2\n"
     ]
    }
   ],
   "source": [
    "import os\n",
    "import numpy as np\n",
    "import pandas as pd\n",
    "import datetime\n",
    "import sklearn\n",
    "import logging\n",
    "import warnings\n",
    "\n",
    "from sklearn.pipeline import Pipeline\n",
    "from sklearn.model_selection import RandomizedSearchCV, KFold, cross_val_score, train_test_split\n",
    "from sklearn.metrics import accuracy_score, confusion_matrix, classification_report, roc_auc_score\n",
    "\n",
    "#  cargar algoritmos para aprendizaje supervisado\n",
    "from sklearn.feature_selection import SelectKBest, f_classif, SelectFromModel, mutual_info_classif\n",
    "from sklearn.svm import SVC\n",
    "from sklearn.ensemble import RandomForestClassifier\n",
    "from sklearn.linear_model import LogisticRegression,LogisticRegressionCV\n",
    "\n",
    "# importar fichero con utilidades propias\n",
    "from commons import myfunctions as myfunc\n"
   ]
  },
  {
   "cell_type": "markdown",
   "id": "db5b976a",
   "metadata": {
    "papermill": {
     "duration": 0.002576,
     "end_time": "2023-10-30T11:48:45.844882",
     "exception": false,
     "start_time": "2023-10-30T11:48:45.842306",
     "status": "completed"
    },
    "tags": []
   },
   "source": [
    "#### Parámetros a utilizar en el entrenamiento.\n",
    "\n",
    "Se indican los 3 algoritmos de *selección de características* (eval_selector_xxx) y los 3 algoritmos para la _clasificación_ (eval_clasifier_xxx)\n",
    "\n",
    "En *param_distributions* se indicar los parámetros que utilizan los algoritmos en la función RandomSearchCV.\n",
    "\n",
    "Esta celda tiene la etiqueta **parameters** que servirá para poder lanzar los entrenamientos con la utilidad **papermill** pasándole un fichero con los parámetros. Los nuevos parámetros se situarán tras esta celda para tener prevalencia."
   ]
  },
  {
   "cell_type": "code",
   "execution_count": 2,
   "id": "7e753884",
   "metadata": {
    "execution": {
     "iopub.execute_input": "2023-10-30T11:48:45.850848Z",
     "iopub.status.busy": "2023-10-30T11:48:45.850597Z",
     "iopub.status.idle": "2023-10-30T11:48:45.857152Z",
     "shell.execute_reply": "2023-10-30T11:48:45.856694Z"
    },
    "papermill": {
     "duration": 0.011079,
     "end_time": "2023-10-30T11:48:45.858426",
     "exception": false,
     "start_time": "2023-10-30T11:48:45.847347",
     "status": "completed"
    },
    "tags": [
     "parameters"
    ]
   },
   "outputs": [
    {
     "name": "stdout",
     "output_type": "stream",
     "text": [
      "20231030T124845 : amilcar22 : INFO : Utilizando parámetros de mul_m\n"
     ]
    }
   ],
   "source": [
    "#  Parametros para el entrenamiento\n",
    "\n",
    "SEMILLA=        42\n",
    "M_TIPO=         \"mul_m\"\n",
    "M_SELECT=       \"MI\"\n",
    "M_CLASIF=       \"SVM\"\n",
    "R_FICHERO=      \"resultados\"\n",
    "M_FICHERO=      \"metricas\"\n",
    "PRE_DATA_FILE=  \"rows_transpose_norm_by_gene_id_with_target_num_\"\n",
    "SCORING=        \"roc_auc_ovr\" \n",
    "MAX_ITERS=      100\n",
    "\n",
    "def mutual_info_classif_state(X, y):\n",
    "    return mutual_info_classif(X, y, random_state=SEMILLA)\n",
    "\n",
    "eval_selector_mi = \"SelectKBest(score_func=mutual_info_classif_state)\"\n",
    "eval_selector_rf=  \"SelectFromModel(estimator=RandomForestClassifier(random_state=SEMILLA), threshold=-np.inf)\"\n",
    "eval_selector_anova=  \"SelectKBest(score_func=f_classif)\"\n",
    "\n",
    "eval_clasifier_svm= \"SVC(probability=True, random_state=SEMILLA)\"\n",
    "eval_clasifier_rf= \"RandomForestClassifier(random_state=SEMILLA)\"\n",
    "eval_clasifier_lr= \"LogisticRegressionCV(random_state=SEMILLA)\"\n",
    "\n",
    "if M_TIPO.startswith(\"bin_m\"):\n",
    "    myfunc.verbose(f\"Utilizando parámetros de {M_TIPO}\")\n",
    "    eval_selector = eval_selector_mi\n",
    "    eval_clasifier = eval_clasifier_svm\n",
    "\n",
    "    SEMILLA = 6578\n",
    "    M_SELECT = \"MI\"\n",
    "    M_CLASIF = \"SVM\"\n",
    "    param_distributions = {'selector__k': [1000], \n",
    "         'clasifier__kernel': ['rbf'], 'clasifier__gamma': [0.01], 'clasifier__C': [100]}\n",
    "elif M_TIPO.startswith(\"bin_s\"):\n",
    "    myfunc.verbose(f\"Utilizando parámetros de {M_TIPO}\")\n",
    "    eval_selector = eval_selector_rf\n",
    "    eval_clasifier = eval_clasifier_lr\n",
    "\n",
    "    SEMILLA = 6191\n",
    "    M_SELECT = \"RF\"\n",
    "    M_CLASIF = \"LR_L2\"\n",
    "    param_distributions = {'selector__max_features': [1000], 'selector__estimator__n_estimators': [200], \n",
    "        'clasifier__solver': ['lbfgs'], 'clasifier__penalty': ['l2'], 'clasifier__max_iter': [10000]}\n",
    "\n",
    "elif M_TIPO.startswith(\"mul_m\"):\n",
    "    myfunc.verbose(f\"Utilizando parámetros de {M_TIPO}\")\n",
    " \n",
    "    eval_selector = eval_selector_rf\n",
    "    eval_clasifier = eval_clasifier_lr\n",
    "\n",
    "    SEMILLA = 6191\n",
    "    M_SELECT = \"RF\"\n",
    "    M_CLASIF = \"LR_L2\"\n",
    "    param_distributions = {'selector__max_features': [1000], 'selector__estimator__n_estimators': [400], \n",
    "        'clasifier__solver': ['lbfgs'], 'clasifier__penalty': ['l2'], 'clasifier__max_iter': [10000]}\n",
    "\n",
    "else:\n",
    "    # M_TIPO.startswith(\"mul_s\"):\n",
    "    myfunc.verbose(f\"Utilizando parámetros de {M_TIPO}\")\n",
    "    eval_selector = eval_selector_anova\n",
    "    eval_clasifier = eval_clasifier_lr\n",
    "\n",
    "    SEMILLA = 1860\n",
    "    M_SELECT = \"ANOVA\"\n",
    "    M_CLASIF = \"LR_L2\"\n",
    "    param_distributions = {'selector__k': [1000], \n",
    "        'clasifier__solver': ['saga'], 'clasifier__penalty': ['l2'], 'clasifier__max_iter': [10000]}\n",
    "\n"
   ]
  },
  {
   "cell_type": "code",
   "execution_count": 3,
   "id": "7fd327de",
   "metadata": {
    "execution": {
     "iopub.execute_input": "2023-10-30T11:48:45.864438Z",
     "iopub.status.busy": "2023-10-30T11:48:45.864263Z",
     "iopub.status.idle": "2023-10-30T11:48:45.867932Z",
     "shell.execute_reply": "2023-10-30T11:48:45.867465Z"
    },
    "papermill": {
     "duration": 0.007923,
     "end_time": "2023-10-30T11:48:45.869105",
     "exception": false,
     "start_time": "2023-10-30T11:48:45.861182",
     "status": "completed"
    },
    "tags": [
     "injected-parameters"
    ]
   },
   "outputs": [],
   "source": [
    "# Parameters\n",
    "M_TIPO = \"bin_m\"\n",
    "M_SELECT = \"MI\"\n",
    "M_CLASIF = \"LR_EN\"\n",
    "P_FICHERO = \"param_0000_6390_bin_m_MI_LR_EN.yaml\"\n",
    "R_FICHERO = \"resultados_6390\"\n",
    "M_FICHERO = \"metricas_6390\"\n",
    "PRE_DATA_FILE = \"rows_transpose_norm_by_gene_id_with_target_num_\"\n",
    "SCORING = \"roc_auc_ovr\"\n",
    "SEMILLA = 6390\n",
    "MAX_ITERS = 500\n",
    "eval_selector = \"SelectKBest(score_func=mutual_info_classif_state)\"\n",
    "eval_clasifier = \"LogisticRegressionCV(random_state=SEMILLA)\"\n",
    "param_distributions = {\n",
    "    \"selector__k\": [1000],\n",
    "    \"clasifier__solver\": [\"saga\"],\n",
    "    \"clasifier__penalty\": [\"elasticnet\"],\n",
    "    \"clasifier__max_iter\": [10000],\n",
    "    \"clasifier__l1_ratios\": [[0.45]],\n",
    "}\n"
   ]
  },
  {
   "cell_type": "code",
   "execution_count": 4,
   "id": "5a8766ed",
   "metadata": {
    "execution": {
     "iopub.execute_input": "2023-10-30T11:48:45.875222Z",
     "iopub.status.busy": "2023-10-30T11:48:45.875049Z",
     "iopub.status.idle": "2023-10-30T11:48:45.877953Z",
     "shell.execute_reply": "2023-10-30T11:48:45.877471Z"
    },
    "papermill": {
     "duration": 0.007321,
     "end_time": "2023-10-30T11:48:45.879190",
     "exception": false,
     "start_time": "2023-10-30T11:48:45.871869",
     "status": "completed"
    },
    "tags": []
   },
   "outputs": [],
   "source": [
    "DATA_FILE = PRE_DATA_FILE + M_TIPO\n",
    "\n",
    "# si viene \"None\" en el parámetro max_depth, se le quitan las comillas para que no sea entendido por el algoritmo como un texto\n",
    "if \"clasifier__max_depth\" in param_distributions:\n",
    "    param_distributions['clasifier__max_depth'] = [None if x == 'None' else x for x in param_distributions['clasifier__max_depth']]"
   ]
  },
  {
   "cell_type": "markdown",
   "id": "869b5322",
   "metadata": {
    "papermill": {
     "duration": 0.002794,
     "end_time": "2023-10-30T11:48:45.884885",
     "exception": false,
     "start_time": "2023-10-30T11:48:45.882091",
     "status": "completed"
    },
    "tags": []
   },
   "source": [
    "Asignar los algoritmos que se utilizarán en la función RandomSearchCV"
   ]
  },
  {
   "cell_type": "code",
   "execution_count": 5,
   "id": "09119bfc",
   "metadata": {
    "execution": {
     "iopub.execute_input": "2023-10-30T11:48:45.891288Z",
     "iopub.status.busy": "2023-10-30T11:48:45.891114Z",
     "iopub.status.idle": "2023-10-30T11:48:45.893768Z",
     "shell.execute_reply": "2023-10-30T11:48:45.893257Z"
    },
    "papermill": {
     "duration": 0.007281,
     "end_time": "2023-10-30T11:48:45.895070",
     "exception": false,
     "start_time": "2023-10-30T11:48:45.887789",
     "status": "completed"
    },
    "tags": []
   },
   "outputs": [],
   "source": [
    "algor_selector=eval(eval_selector)\n",
    "algor_clasifier=eval(eval_clasifier)"
   ]
  },
  {
   "cell_type": "markdown",
   "id": "271dfa2d",
   "metadata": {
    "papermill": {
     "duration": 0.00333,
     "end_time": "2023-10-30T11:48:45.901730",
     "exception": false,
     "start_time": "2023-10-30T11:48:45.898400",
     "status": "completed"
    },
    "tags": []
   },
   "source": [
    "#### Comprobar el entorno y leer fichero de muestras"
   ]
  },
  {
   "cell_type": "code",
   "execution_count": 6,
   "id": "61e5407b",
   "metadata": {
    "execution": {
     "iopub.execute_input": "2023-10-30T11:48:45.909155Z",
     "iopub.status.busy": "2023-10-30T11:48:45.908960Z",
     "iopub.status.idle": "2023-10-30T11:48:46.126743Z",
     "shell.execute_reply": "2023-10-30T11:48:46.126218Z"
    },
    "papermill": {
     "duration": 0.223019,
     "end_time": "2023-10-30T11:48:46.128058",
     "exception": false,
     "start_time": "2023-10-30T11:48:45.905039",
     "status": "completed"
    },
    "tags": []
   },
   "outputs": [
    {
     "name": "stdout",
     "output_type": "stream",
     "text": [
      "20231030T124845 : amilcar22 : INFO : Encontrada carpeta DATA_DIR=../tfm_git/datos\n",
      "20231030T124845 : amilcar22 : INFO : Encontrada carpeta CFDNA_DIR=../tfm_git/datos/cfDNA_5hmC\n",
      "20231030T124845 : amilcar22 : INFO : Encontrada carpeta GENCODE_DIR=../tfm_git/datos/gencode\n",
      "20231030T124845 : amilcar22 : INFO : Encontrada carpeta H5_DIR=../tfm_git/datos/h5\n",
      "20231030T124845 : amilcar22 : INFO : Encontrada carpeta LOG_DIR=../tfm_git/datos/logs\n",
      "20231030T124845 : amilcar22 : INFO : Encontrada carpeta CSV_DIR=../tfm_git/datos/csv\n",
      "20231030T124845 : amilcar22 : INFO : Encontrada carpeta MODEL_DIR=../tfm_git/ejecuciones/modelos\n",
      "20231030T124845 : amilcar22 : INFO : Encontrada carpeta EXEC_DIR=../tfm_git/ejecuciones\n",
      "20231030T124845 : amilcar22 : INFO : Encontrada carpeta MET_DIR=../tfm_git/ejecuciones/metricas\n",
      "20231030T124845 : amilcar22 : INFO : Inicio leer fichero h5 ../tfm_git/datos/h5/rows_transpose_norm_by_gene_id_with_target_num_bin_m.h5\n",
      "20231030T124845 : amilcar22 : INFO : Leyendo clave /df\n"
     ]
    },
    {
     "name": "stdout",
     "output_type": "stream",
     "text": [
      "20231030T124846 : amilcar22 : INFO : Tamaño (720, 18876)\n",
      "20231030T124846 : amilcar22 : INFO : Fin leer fichero h5 ../tfm_git/datos/h5/rows_transpose_norm_by_gene_id_with_target_num_bin_m.h5\n"
     ]
    },
    {
     "data": {
      "text/plain": [
       "target\n",
       "0    360\n",
       "1    360\n",
       "dtype: int64"
      ]
     },
     "metadata": {},
     "output_type": "display_data"
    },
    {
     "name": "stdout",
     "output_type": "stream",
     "text": [
      "Shape df: (720, 18876)\n",
      "Shape X_train: (576, 18875)\n",
      "Shape X_test: (144, 18875)\n"
     ]
    }
   ],
   "source": [
    "start_time = datetime.datetime.now()\n",
    "\n",
    "myfunc.reset_vars()\n",
    "\n",
    "myfunc.NOTEBK_FILENAME = myfunc.get_nb_name()\n",
    "\n",
    "myfunc.check_enviroment(myfunc.DATA_DIR, myfunc.CFDNA_DIR, myfunc.GENCODE_DIR, myfunc.H5_DIR, myfunc.LOG_DIR, myfunc.CSV_DIR, myfunc.MODEL_DIR, myfunc.EXEC_DIR, myfunc.MET_DIR)\n",
    "\n",
    "# Leer fichero con las muestras\n",
    "df_t = myfunc.read_h5_to_df(DATA_FILE, myfunc.H5_DIR)\n",
    "display(df_t.groupby(\"target\").size())\n",
    "print(\"Shape df:\",df_t.shape)\n",
    "\n",
    "# Separar caracteristicas/genes de las etiquetas/tipos de cáncer\n",
    "X = df_t.iloc[:, :-1]  # Todas las columnas excepto la última\n",
    "y = df_t.iloc[:, -1]  # La última columna contiene los identificadores de los tipos de cáncer\n",
    "\n",
    "#  Crear el conjunto de datos de entrenamiento y de pruebas, y se fija la semilla para siempre coger el mismo juego de muestras\n",
    "X_train, X_test, y_train, y_test = train_test_split(X, y, test_size=0.2, shuffle=True, random_state=42)\n",
    "print(\"Shape X_train:\",X_train.shape)\n",
    "print(\"Shape X_test:\",X_test.shape)\n"
   ]
  },
  {
   "cell_type": "markdown",
   "id": "5a487390",
   "metadata": {
    "papermill": {
     "duration": 0.002799,
     "end_time": "2023-10-30T11:48:46.134125",
     "exception": false,
     "start_time": "2023-10-30T11:48:46.131326",
     "status": "completed"
    },
    "tags": []
   },
   "source": [
    "#### Selección de características y clasificación."
   ]
  },
  {
   "cell_type": "code",
   "execution_count": 7,
   "id": "e3e31d06",
   "metadata": {
    "execution": {
     "iopub.execute_input": "2023-10-30T11:48:46.140604Z",
     "iopub.status.busy": "2023-10-30T11:48:46.140381Z",
     "iopub.status.idle": "2023-10-30T12:01:35.750483Z",
     "shell.execute_reply": "2023-10-30T12:01:35.749786Z"
    },
    "papermill": {
     "duration": 769.617454,
     "end_time": "2023-10-30T12:01:35.754404",
     "exception": false,
     "start_time": "2023-10-30T11:48:46.136950",
     "status": "completed"
    },
    "tags": []
   },
   "outputs": [
    {
     "name": "stdout",
     "output_type": "stream",
     "text": [
      "20231030T124846 : amilcar22 : INFO : Iniciando entrenamiento\n",
      "num_iter: 1 , max_iter: 1\n",
      "Fitting 5 folds for each of 1 candidates, totalling 5 fits\n"
     ]
    },
    {
     "name": "stdout",
     "output_type": "stream",
     "text": [
      "[CV 3/5] END clasifier__l1_ratios=[0.45], clasifier__max_iter=10000, clasifier__penalty=elasticnet, clasifier__solver=saga, selector__k=1000;, score=0.852 total time= 5.0min\n"
     ]
    },
    {
     "name": "stdout",
     "output_type": "stream",
     "text": [
      "[CV 1/5] END clasifier__l1_ratios=[0.45], clasifier__max_iter=10000, clasifier__penalty=elasticnet, clasifier__solver=saga, selector__k=1000;, score=0.790 total time= 5.5min\n"
     ]
    },
    {
     "name": "stdout",
     "output_type": "stream",
     "text": [
      "[CV 2/5] END clasifier__l1_ratios=[0.45], clasifier__max_iter=10000, clasifier__penalty=elasticnet, clasifier__solver=saga, selector__k=1000;, score=0.820 total time= 5.6min\n"
     ]
    },
    {
     "name": "stdout",
     "output_type": "stream",
     "text": [
      "[CV 5/5] END clasifier__l1_ratios=[0.45], clasifier__max_iter=10000, clasifier__penalty=elasticnet, clasifier__solver=saga, selector__k=1000;, score=0.861 total time= 7.0min\n"
     ]
    },
    {
     "name": "stdout",
     "output_type": "stream",
     "text": [
      "[CV 4/5] END clasifier__l1_ratios=[0.45], clasifier__max_iter=10000, clasifier__penalty=elasticnet, clasifier__solver=saga, selector__k=1000;, score=0.902 total time= 7.1min\n"
     ]
    },
    {
     "name": "stdout",
     "output_type": "stream",
     "text": [
      "Mejores Hiperparámetros: {'selector__k': 1000, 'clasifier__solver': 'saga', 'clasifier__penalty': 'elasticnet', 'clasifier__max_iter': 10000, 'clasifier__l1_ratios': [0.45]}\n",
      "Mejor Puntuación: 0.8449\n",
      "20231030T130135 : amilcar22 : INFO : Fin entrenamiento\n"
     ]
    }
   ],
   "source": [
    "myfunc.verbose(\"Iniciando entrenamiento\")\n",
    "\n",
    "kf = KFold(n_splits=5, shuffle=True, random_state=SEMILLA)\n",
    "\n",
    "# Crear el pipeline para el flujo de tareas\n",
    "tasks_pipeline = Pipeline([\n",
    "    ('selector', algor_selector),\n",
    "    ('clasifier', algor_clasifier)\n",
    "])\n",
    "\n",
    "# MAX_ITERS puede limitar el número de iteraciones si son excesivas para las combinaciones de parámetros buscando un óptimo local, \n",
    "# sino funcionaría como GridSearchCV al revisar todas las cominaciones de los parámetros\n",
    "num_iteraciones = 1\n",
    "num_iteraciones = num_iteraciones * np.prod([len(elemento1) for _, elemento1 in param_distributions.items()])\n",
    "max_iteraciones = num_iteraciones if num_iteraciones <= MAX_ITERS else MAX_ITERS\n",
    "print(\"num_iter:\",num_iteraciones,\", max_iter:\",max_iteraciones)\n",
    "\n",
    "random_search = RandomizedSearchCV(\n",
    "    tasks_pipeline, \n",
    "    param_distributions, \n",
    "    n_iter=max_iteraciones,\n",
    "    scoring=SCORING,\n",
    "    cv=kf,\n",
    "    verbose=3, \n",
    "    random_state=SEMILLA, \n",
    "    n_jobs=-1\n",
    "    )\n",
    "\n",
    "# Entrenar el modelo\n",
    "random_search.fit(X_train, y_train)\n",
    "\n",
    "# Ver los mejores hiperparámetros encontrados\n",
    "print(f'Mejores Hiperparámetros: {random_search.best_params_}')\n",
    "print(f'Mejor Puntuación: {random_search.best_score_:.4f}')\n",
    "\n",
    "# Nos quedamos con el mejor modelo para ver las métricas\n",
    "mejor_modelo = random_search.best_estimator_\n",
    "\n",
    "myfunc.verbose(\"Fin entrenamiento\")"
   ]
  },
  {
   "cell_type": "markdown",
   "id": "3db5f767",
   "metadata": {
    "papermill": {
     "duration": 0.003095,
     "end_time": "2023-10-30T12:01:35.760738",
     "exception": false,
     "start_time": "2023-10-30T12:01:35.757643",
     "status": "completed"
    },
    "tags": []
   },
   "source": [
    "#### Guardar modelo"
   ]
  },
  {
   "cell_type": "code",
   "execution_count": 8,
   "id": "d90232a5",
   "metadata": {
    "execution": {
     "iopub.execute_input": "2023-10-30T12:01:35.767898Z",
     "iopub.status.busy": "2023-10-30T12:01:35.767662Z",
     "iopub.status.idle": "2023-10-30T12:01:35.775774Z",
     "shell.execute_reply": "2023-10-30T12:01:35.775205Z"
    },
    "papermill": {
     "duration": 0.013274,
     "end_time": "2023-10-30T12:01:35.777044",
     "exception": false,
     "start_time": "2023-10-30T12:01:35.763770",
     "status": "completed"
    },
    "tags": []
   },
   "outputs": [
    {
     "name": "stdout",
     "output_type": "stream",
     "text": [
      "20231030T130135 : amilcar22 : INFO : Inicio guardar fichero ../tfm_git/ejecuciones/modelos/modelo_6390_bin_m_MI_LR_EN.pkl\n",
      "20231030T130135 : amilcar22 : INFO : Fin guardar fichero ../tfm_git/ejecuciones/modelos/modelo_6390_bin_m_MI_LR_EN.pkl\n"
     ]
    }
   ],
   "source": [
    "fichero_modelo = str.replace(\"modelo_\"+str(SEMILLA).zfill(4)+\"_\"+M_TIPO+\"_\"+M_SELECT+\"_\"+M_CLASIF+\".pkl\", \" \", \"_\")\n",
    "\n",
    "myfunc.save_modelo(mejor_modelo, myfunc.MODEL_DIR, fichero_modelo)"
   ]
  },
  {
   "cell_type": "markdown",
   "id": "4b9097e5",
   "metadata": {
    "papermill": {
     "duration": 0.003137,
     "end_time": "2023-10-30T12:01:35.783497",
     "exception": false,
     "start_time": "2023-10-30T12:01:35.780360",
     "status": "completed"
    },
    "tags": []
   },
   "source": [
    "#### Ver resultados del las iteraciones hechas por RandomSearchCV"
   ]
  },
  {
   "cell_type": "code",
   "execution_count": 9,
   "id": "9b608c17",
   "metadata": {
    "execution": {
     "iopub.execute_input": "2023-10-30T12:01:35.790518Z",
     "iopub.status.busy": "2023-10-30T12:01:35.790305Z",
     "iopub.status.idle": "2023-10-30T12:01:35.796613Z",
     "shell.execute_reply": "2023-10-30T12:01:35.796100Z"
    },
    "papermill": {
     "duration": 0.011284,
     "end_time": "2023-10-30T12:01:35.797849",
     "exception": false,
     "start_time": "2023-10-30T12:01:35.786565",
     "status": "completed"
    },
    "tags": []
   },
   "outputs": [
    {
     "name": "stdout",
     "output_type": "stream",
     "text": [
      "20231030T130135 : amilcar22 : INFO : Inicio ver resultados\n",
      "Mejores Hiperparámetros: {'selector__k': 1000, 'clasifier__solver': 'saga', 'clasifier__penalty': 'elasticnet', 'clasifier__max_iter': 10000, 'clasifier__l1_ratios': [0.45]}\n",
      "Mejores puntuaciones: 0.8449 | Params: {'selector__k': 1000, 'clasifier__solver': 'saga', 'clasifier__penalty': 'elasticnet', 'clasifier__max_iter': 10000, 'clasifier__l1_ratios': [0.45]}\n",
      "Media de las puntuaciones: 0.8449 | Params: {'selector__k': 1000, 'clasifier__solver': 'saga', 'clasifier__penalty': 'elasticnet', 'clasifier__max_iter': 10000, 'clasifier__l1_ratios': [0.45]}\n",
      "20231030T130135 : amilcar22 : INFO : Fin resultados\n"
     ]
    }
   ],
   "source": [
    "myfunc.ver_resultados_search(random_search)"
   ]
  },
  {
   "cell_type": "markdown",
   "id": "47cd258c",
   "metadata": {
    "papermill": {
     "duration": 0.003349,
     "end_time": "2023-10-30T12:01:35.804689",
     "exception": false,
     "start_time": "2023-10-30T12:01:35.801340",
     "status": "completed"
    },
    "tags": []
   },
   "source": [
    "#### Ver métricas del mejor modelo"
   ]
  },
  {
   "cell_type": "code",
   "execution_count": 10,
   "id": "c3f8f086",
   "metadata": {
    "execution": {
     "iopub.execute_input": "2023-10-30T12:01:35.811949Z",
     "iopub.status.busy": "2023-10-30T12:01:35.811744Z",
     "iopub.status.idle": "2023-10-30T12:01:36.224187Z",
     "shell.execute_reply": "2023-10-30T12:01:36.223627Z"
    },
    "papermill": {
     "duration": 0.417487,
     "end_time": "2023-10-30T12:01:36.225392",
     "exception": false,
     "start_time": "2023-10-30T12:01:35.807905",
     "status": "completed"
    },
    "tags": []
   },
   "outputs": [
    {
     "name": "stdout",
     "output_type": "stream",
     "text": [
      "20231030T130135 : amilcar22 : INFO : Inicio ver métricas\n"
     ]
    },
    {
     "name": "stdout",
     "output_type": "stream",
     "text": [
      "              precision    recall  f1-score   support\n",
      "\n",
      "           0       0.82      0.84      0.83        82\n",
      "           1       0.78      0.76      0.77        62\n",
      "\n",
      "    accuracy                           0.81       144\n",
      "   macro avg       0.80      0.80      0.80       144\n",
      "weighted avg       0.81      0.81      0.81       144\n",
      "\n",
      "\n",
      "\n",
      "   Exactitud: 0.8056\n",
      "   Precisión: 0.8024\n",
      "Sensibilidad: 0.7998\n",
      "    F1-score: 0.8009\n",
      "     AUC ROC: 0.9162\n"
     ]
    },
    {
     "data": {
      "image/png": "[encoded data removed]",
      "text/plain": [
       "<Figure size 300x100 with 2 Axes>"
      ]
     },
     "metadata": {},
     "output_type": "display_data"
    },
    {
     "data": {
      "image/png": "[encoded data removed]",
      "text/plain": [
       "<Figure size 800x500 with 1 Axes>"
      ]
     },
     "metadata": {},
     "output_type": "display_data"
    },
    {
     "name": "stdout",
     "output_type": "stream",
     "text": [
      "20231030T130136 : amilcar22 : INFO : Fin ver métricas\n"
     ]
    }
   ],
   "source": [
    "if M_TIPO.startswith(\"bin\"):\n",
    "    myfunc.ver_metricas(mejor_modelo, X_test, y_test)\n",
    "else:\n",
    "    myfunc.ver_metricas_multi(mejor_modelo, X_test, y_test)\n"
   ]
  },
  {
   "cell_type": "markdown",
   "id": "780c92d0",
   "metadata": {
    "papermill": {
     "duration": 0.003936,
     "end_time": "2023-10-30T12:01:36.233874",
     "exception": false,
     "start_time": "2023-10-30T12:01:36.229938",
     "status": "completed"
    },
    "tags": []
   },
   "source": [
    "#### Finalización del notebook"
   ]
  },
  {
   "cell_type": "code",
   "execution_count": 11,
   "id": "a7b35db9",
   "metadata": {
    "execution": {
     "iopub.execute_input": "2023-10-30T12:01:36.242356Z",
     "iopub.status.busy": "2023-10-30T12:01:36.242154Z",
     "iopub.status.idle": "2023-10-30T12:01:36.245611Z",
     "shell.execute_reply": "2023-10-30T12:01:36.245183Z"
    },
    "papermill": {
     "duration": 0.009051,
     "end_time": "2023-10-30T12:01:36.246752",
     "exception": false,
     "start_time": "2023-10-30T12:01:36.237701",
     "status": "completed"
    },
    "tags": []
   },
   "outputs": [
    {
     "name": "stdout",
     "output_type": "stream",
     "text": [
      "20231030T130136 : amilcar22 : INFO : Notebook ha tardado 770 seconds\n"
     ]
    }
   ],
   "source": [
    "end_time = datetime.datetime.now()\n",
    "total_time = end_time - start_time\n",
    "myfunc.verbose(f\"Notebook ha tardado {total_time.seconds} seconds\")"
   ]
  },
  {
   "cell_type": "markdown",
   "id": "209e7f42",
   "metadata": {
    "papermill": {
     "duration": 0.003863,
     "end_time": "2023-10-30T12:01:36.254726",
     "exception": false,
     "start_time": "2023-10-30T12:01:36.250863",
     "status": "completed"
    },
    "tags": []
   },
   "source": [
    "#### Guardar métricas"
   ]
  },
  {
   "cell_type": "code",
   "execution_count": 12,
   "id": "2f637943",
   "metadata": {
    "execution": {
     "iopub.execute_input": "2023-10-30T12:01:36.263169Z",
     "iopub.status.busy": "2023-10-30T12:01:36.262968Z",
     "iopub.status.idle": "2023-10-30T12:01:36.427447Z",
     "shell.execute_reply": "2023-10-30T12:01:36.426931Z"
    },
    "papermill": {
     "duration": 0.171307,
     "end_time": "2023-10-30T12:01:36.429894",
     "exception": false,
     "start_time": "2023-10-30T12:01:36.258587",
     "status": "completed"
    },
    "tags": []
   },
   "outputs": [
    {
     "name": "stdout",
     "output_type": "stream",
     "text": [
      "20231030T130136 : amilcar22 : INFO : Inicio guardar métricas\n",
      "20231030T130136 : amilcar22 : INFO : Inicio leer fichero ../tfm_git/ejecuciones/metricas/metricas_6390.csv\n",
      "20231030T130136 : amilcar22 : INFO : Fin leer fichero ../tfm_git/ejecuciones/metricas/metricas_6390.csv\n",
      "20231030T130136 : amilcar22 : INFO : Inicio guardar fichero ../tfm_git/ejecuciones/metricas/metricas_6390.csv\n",
      "20231030T130136 : amilcar22 : INFO : Fichero borrado ../tfm_git/ejecuciones/metricas/metricas_6390.csv\n",
      "20231030T130136 : amilcar22 : INFO : Fin guardar fichero ../tfm_git/ejecuciones/metricas/metricas_6390.csv\n",
      "20231030T130136 : amilcar22 : INFO : Fin guardar métricas\n",
      "20231030T130136 : amilcar22 : INFO : Inicio leer fichero ../tfm_git/ejecuciones/metricas/metricas_6390.csv\n",
      "20231030T130136 : amilcar22 : INFO : Fin leer fichero ../tfm_git/ejecuciones/metricas/metricas_6390.csv\n"
     ]
    },
    {
     "data": {
      "text/html": [
       "<div>\n",
       "<style scoped>\n",
       "    .dataframe tbody tr th:only-of-type {\n",
       "        vertical-align: middle;\n",
       "    }\n",
       "\n",
       "    .dataframe tbody tr th {\n",
       "        vertical-align: top;\n",
       "    }\n",
       "\n",
       "    .dataframe thead th {\n",
       "        text-align: right;\n",
       "    }\n",
       "</style>\n",
       "<table border=\"1\" class=\"dataframe\">\n",
       "  <thead>\n",
       "    <tr style=\"text-align: right;\">\n",
       "      <th></th>\n",
       "      <th>tipo</th>\n",
       "      <th>select</th>\n",
       "      <th>clasific</th>\n",
       "      <th>semilla</th>\n",
       "      <th>accuracy</th>\n",
       "      <th>precision</th>\n",
       "      <th>recall</th>\n",
       "      <th>f1_score</th>\n",
       "      <th>roc_auc</th>\n",
       "      <th>hostname</th>\n",
       "      <th>total_time_sec</th>\n",
       "      <th>datetime</th>\n",
       "      <th>fichero_modelo</th>\n",
       "      <th>params</th>\n",
       "      <th>shape</th>\n",
       "      <th>features</th>\n",
       "    </tr>\n",
       "  </thead>\n",
       "  <tbody>\n",
       "    <tr>\n",
       "      <th>0</th>\n",
       "      <td>bin_m</td>\n",
       "      <td>MI</td>\n",
       "      <td>LR_EN</td>\n",
       "      <td>6390</td>\n",
       "      <td>0.805556</td>\n",
       "      <td>0.802381</td>\n",
       "      <td>0.799764</td>\n",
       "      <td>0.800909</td>\n",
       "      <td>0.916208</td>\n",
       "      <td>amilcar22</td>\n",
       "      <td>770</td>\n",
       "      <td>2023-10-30 13:01:36.409442</td>\n",
       "      <td>modelo_6390_bin_m_MI_LR_EN.pkl</td>\n",
       "      <td>{'selector__k': 1000, 'clasifier__solver': 'sa...</td>\n",
       "      <td>X_test:(144, 18875)</td>\n",
       "      <td>['ENSG00000002330.14', 'ENSG00000002933.9', 'E...</td>\n",
       "    </tr>\n",
       "    <tr>\n",
       "      <th>0</th>\n",
       "      <td>bin_m</td>\n",
       "      <td>ANOVA</td>\n",
       "      <td>SVM</td>\n",
       "      <td>6390</td>\n",
       "      <td>0.826389</td>\n",
       "      <td>0.822751</td>\n",
       "      <td>0.823958</td>\n",
       "      <td>0.823313</td>\n",
       "      <td>0.910307</td>\n",
       "      <td>amilcar22</td>\n",
       "      <td>3</td>\n",
       "      <td>2023-10-30 12:48:39.863020</td>\n",
       "      <td>modelo_6390_bin_m_ANOVA_SVM.pkl</td>\n",
       "      <td>{'selector__k': 500, 'clasifier__kernel': 'rbf...</td>\n",
       "      <td>X_test:(144, 18875)</td>\n",
       "      <td>['ENSG00000000971.17', 'ENSG00000001626.18', '...</td>\n",
       "    </tr>\n",
       "    <tr>\n",
       "      <th>0</th>\n",
       "      <td>bin_m</td>\n",
       "      <td>ANOVA</td>\n",
       "      <td>RF</td>\n",
       "      <td>6390</td>\n",
       "      <td>0.819444</td>\n",
       "      <td>0.815893</td>\n",
       "      <td>0.815893</td>\n",
       "      <td>0.815893</td>\n",
       "      <td>0.894768</td>\n",
       "      <td>amilcar22</td>\n",
       "      <td>10</td>\n",
       "      <td>2023-10-30 12:48:30.186949</td>\n",
       "      <td>modelo_6390_bin_m_ANOVA_RF.pkl</td>\n",
       "      <td>{'selector__k': 500, 'clasifier__n_estimators'...</td>\n",
       "      <td>X_test:(144, 18875)</td>\n",
       "      <td>['ENSG00000000971.17', 'ENSG00000001626.18', '...</td>\n",
       "    </tr>\n",
       "  </tbody>\n",
       "</table>\n",
       "</div>"
      ],
      "text/plain": [
       "    tipo select clasific  semilla  accuracy  precision    recall  f1_score  \\\n",
       "0  bin_m     MI    LR_EN     6390  0.805556   0.802381  0.799764  0.800909   \n",
       "0  bin_m  ANOVA      SVM     6390  0.826389   0.822751  0.823958  0.823313   \n",
       "0  bin_m  ANOVA       RF     6390  0.819444   0.815893  0.815893  0.815893   \n",
       "\n",
       "    roc_auc   hostname  total_time_sec                    datetime  \\\n",
       "0  0.916208  amilcar22             770  2023-10-30 13:01:36.409442   \n",
       "0  0.910307  amilcar22               3  2023-10-30 12:48:39.863020   \n",
       "0  0.894768  amilcar22              10  2023-10-30 12:48:30.186949   \n",
       "\n",
       "                    fichero_modelo  \\\n",
       "0   modelo_6390_bin_m_MI_LR_EN.pkl   \n",
       "0  modelo_6390_bin_m_ANOVA_SVM.pkl   \n",
       "0   modelo_6390_bin_m_ANOVA_RF.pkl   \n",
       "\n",
       "                                              params                shape  \\\n",
       "0  {'selector__k': 1000, 'clasifier__solver': 'sa...  X_test:(144, 18875)   \n",
       "0  {'selector__k': 500, 'clasifier__kernel': 'rbf...  X_test:(144, 18875)   \n",
       "0  {'selector__k': 500, 'clasifier__n_estimators'...  X_test:(144, 18875)   \n",
       "\n",
       "                                            features  \n",
       "0  ['ENSG00000002330.14', 'ENSG00000002933.9', 'E...  \n",
       "0  ['ENSG00000000971.17', 'ENSG00000001626.18', '...  \n",
       "0  ['ENSG00000000971.17', 'ENSG00000001626.18', '...  "
      ]
     },
     "metadata": {},
     "output_type": "display_data"
    }
   ],
   "source": [
    "if M_TIPO.startswith(\"bin\"):\n",
    "    myfunc.save_metricas_to_csv(random_search, X_test, y_test, M_TIPO, M_SELECT, M_CLASIF, total_time, SEMILLA, myfunc.MET_DIR, M_FICHERO, fichero_modelo)\n",
    "else:\n",
    "    myfunc.save_metricas_multi_to_csv(random_search, X_test, y_test, M_TIPO, M_SELECT, M_CLASIF, total_time, SEMILLA, myfunc.MET_DIR, M_FICHERO, fichero_modelo)\n",
    "\n",
    "df1=myfunc.read_metricas_to_df(myfunc.MET_DIR,M_FICHERO)\n",
    "\n",
    "display(df1.sort_values(\"datetime\", ascending=False)[:3])\n"
   ]
  },
  {
   "cell_type": "markdown",
   "id": "e8d5b965",
   "metadata": {
    "papermill": {
     "duration": 0.008953,
     "end_time": "2023-10-30T12:01:36.448531",
     "exception": false,
     "start_time": "2023-10-30T12:01:36.439578",
     "status": "completed"
    },
    "tags": []
   },
   "source": [
    "#### Guardar resultados"
   ]
  },
  {
   "cell_type": "code",
   "execution_count": 13,
   "id": "96441c2d",
   "metadata": {
    "execution": {
     "iopub.execute_input": "2023-10-30T12:01:36.467884Z",
     "iopub.status.busy": "2023-10-30T12:01:36.467652Z",
     "iopub.status.idle": "2023-10-30T12:01:36.476490Z",
     "shell.execute_reply": "2023-10-30T12:01:36.476055Z"
    },
    "papermill": {
     "duration": 0.020296,
     "end_time": "2023-10-30T12:01:36.478291",
     "exception": false,
     "start_time": "2023-10-30T12:01:36.457995",
     "status": "completed"
    },
    "tags": []
   },
   "outputs": [
    {
     "name": "stdout",
     "output_type": "stream",
     "text": [
      "20231030T130136 : amilcar22 : INFO : Inicio guardar resultados\n",
      "20231030T130136 : amilcar22 : INFO : Inicio guardar fichero ../tfm_git/ejecuciones/metricas/resultados_6390_bin_m-MI-LR_EN.csv\n",
      "20231030T130136 : amilcar22 : INFO : Fin guardar fichero ../tfm_git/ejecuciones/metricas/resultados_6390_bin_m-MI-LR_EN.csv\n",
      "20231030T130136 : amilcar22 : INFO : Fin guardar resultados\n"
     ]
    }
   ],
   "source": [
    "fichero_resultados=R_FICHERO+\"_\"+M_TIPO+\"-\"+M_SELECT+\"-\"+M_CLASIF+\".csv\"\n",
    "myfunc.save_resultados_to_csv(M_TIPO, M_SELECT, M_CLASIF,  random_search, myfunc.MET_DIR, fichero_resultados)\n"
   ]
  }
 ],
 "metadata": {
  "kernelspec": {
   "display_name": "Python 3 (ipykernel)",
   "language": "python",
   "name": "python3"
  },
  "language_info": {
   "codemirror_mode": {
    "name": "ipython",
    "version": 3
   },
   "file_extension": ".py",
   "mimetype": "text/x-python",
   "name": "python",
   "nbconvert_exporter": "python",
   "pygments_lexer": "ipython3",
   "version": "3.10.12"
  },
  "papermill": {
   "default_parameters": {},
   "duration": 775.066383,
   "end_time": "2023-10-30T12:01:39.105321",
   "environment_variables": {},
   "exception": null,
   "input_path": "03_entrenamiento.ipynb",
   "output_path": "ejecuciones/training/03_entrenamiento.20231030T124843.param_0000_6390_bin_m_MI_LR_EN.output.ipynb",
   "parameters": {
    "MAX_ITERS": 500,
    "M_CLASIF": "LR_EN",
    "M_FICHERO": "metricas_6390",
    "M_SELECT": "MI",
    "M_TIPO": "bin_m",
    "PRE_DATA_FILE": "rows_transpose_norm_by_gene_id_with_target_num_",
    "P_FICHERO": "param_0000_6390_bin_m_MI_LR_EN.yaml",
    "R_FICHERO": "resultados_6390",
    "SCORING": "roc_auc_ovr",
    "SEMILLA": 6390,
    "eval_clasifier": "LogisticRegressionCV(random_state=SEMILLA)",
    "eval_selector": "SelectKBest(score_func=mutual_info_classif_state)",
    "param_distributions": {
     "clasifier__l1_ratios": [
      [
       0.45
      ]
     ],
     "clasifier__max_iter": [
      10000
     ],
     "clasifier__penalty": [
      "elasticnet"
     ],
     "clasifier__solver": [
      "saga"
     ],
     "selector__k": [
      1000
     ]
    }
   },
   "start_time": "2023-10-30T11:48:44.038938",
   "version": "2.4.0"
  }
 },
 "nbformat": 4,
 "nbformat_minor": 5
}