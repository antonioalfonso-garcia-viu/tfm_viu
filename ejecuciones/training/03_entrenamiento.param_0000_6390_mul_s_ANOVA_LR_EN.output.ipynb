{
 "cells": [
  {
   "cell_type": "markdown",
   "id": "ceef3b29",
   "metadata": {
    "papermill": {
     "duration": 0.004375,
     "end_time": "2023-10-30T16:44:07.303091",
     "exception": false,
     "start_time": "2023-10-30T16:44:07.298716",
     "status": "completed"
    },
    "tags": []
   },
   "source": [
    "##### Inicio"
   ]
  },
  {
   "cell_type": "markdown",
   "id": "64e8a815",
   "metadata": {
    "papermill": {
     "duration": 0.003527,
     "end_time": "2023-10-30T16:44:07.310444",
     "exception": false,
     "start_time": "2023-10-30T16:44:07.306917",
     "status": "completed"
    },
    "tags": []
   },
   "source": [
    "#### Carga de datos"
   ]
  },
  {
   "cell_type": "code",
   "execution_count": 1,
   "id": "ec0ff0f1",
   "metadata": {
    "execution": {
     "iopub.execute_input": "2023-10-30T16:44:07.318818Z",
     "iopub.status.busy": "2023-10-30T16:44:07.318572Z",
     "iopub.status.idle": "2023-10-30T16:44:08.180826Z",
     "shell.execute_reply": "2023-10-30T16:44:08.180237Z"
    },
    "papermill": {
     "duration": 0.868079,
     "end_time": "2023-10-30T16:44:08.182136",
     "exception": false,
     "start_time": "2023-10-30T16:44:07.314057",
     "status": "completed"
    },
    "tags": []
   },
   "outputs": [
    {
     "name": "stdout",
     "output_type": "stream",
     "text": [
      "CPU_COUNT: 8; NODE: amilcar22; sys.version: 3.10.12 (main, Jul  5 2023, 19:22:19) [GCC 11.2.0]\n",
      "LOKY_MAX_CPU_COUNT: 6\n",
      "OMP_NUM_THREADS: 2\n"
     ]
    }
   ],
   "source": [
    "import os\n",
    "import numpy as np\n",
    "import pandas as pd\n",
    "import datetime\n",
    "import sklearn\n",
    "import logging\n",
    "import warnings\n",
    "\n",
    "from sklearn.pipeline import Pipeline\n",
    "from sklearn.model_selection import RandomizedSearchCV, KFold, cross_val_score, train_test_split\n",
    "from sklearn.metrics import accuracy_score, confusion_matrix, classification_report, roc_auc_score\n",
    "\n",
    "#  cargar algoritmos para aprendizaje supervisado\n",
    "from sklearn.feature_selection import SelectKBest, f_classif, SelectFromModel, mutual_info_classif\n",
    "from sklearn.svm import SVC\n",
    "from sklearn.ensemble import RandomForestClassifier\n",
    "from sklearn.linear_model import LogisticRegression,LogisticRegressionCV\n",
    "\n",
    "# importar fichero con utilidades propias\n",
    "from commons import myfunctions as myfunc\n"
   ]
  },
  {
   "cell_type": "markdown",
   "id": "02b1249f",
   "metadata": {
    "papermill": {
     "duration": 0.00249,
     "end_time": "2023-10-30T16:44:08.187618",
     "exception": false,
     "start_time": "2023-10-30T16:44:08.185128",
     "status": "completed"
    },
    "tags": []
   },
   "source": [
    "#### Parámetros a utilizar en el entrenamiento.\n",
    "\n",
    "Se indican los 3 algoritmos de *selección de características* (eval_selector_xxx) y los 3 algoritmos para la _clasificación_ (eval_clasifier_xxx)\n",
    "\n",
    "En *param_distributions* se indicar los parámetros que utilizan los algoritmos en la función RandomSearchCV.\n",
    "\n",
    "Esta celda tiene la etiqueta **parameters** que servirá para poder lanzar los entrenamientos con la utilidad **papermill** pasándole un fichero con los parámetros. Los nuevos parámetros se situarán tras esta celda para tener prevalencia."
   ]
  },
  {
   "cell_type": "code",
   "execution_count": 2,
   "id": "637e0e2a",
   "metadata": {
    "execution": {
     "iopub.execute_input": "2023-10-30T16:44:08.193635Z",
     "iopub.status.busy": "2023-10-30T16:44:08.193363Z",
     "iopub.status.idle": "2023-10-30T16:44:08.200242Z",
     "shell.execute_reply": "2023-10-30T16:44:08.199777Z"
    },
    "papermill": {
     "duration": 0.011208,
     "end_time": "2023-10-30T16:44:08.201317",
     "exception": false,
     "start_time": "2023-10-30T16:44:08.190109",
     "status": "completed"
    },
    "tags": [
     "parameters"
    ]
   },
   "outputs": [
    {
     "name": "stdout",
     "output_type": "stream",
     "text": [
      "20231030T174408 : amilcar22 : INFO : Utilizando parámetros de mul_m\n"
     ]
    }
   ],
   "source": [
    "#  Parametros para el entrenamiento\n",
    "\n",
    "SEMILLA=        42\n",
    "M_TIPO=         \"mul_m\"\n",
    "M_SELECT=       \"MI\"\n",
    "M_CLASIF=       \"SVM\"\n",
    "R_FICHERO=      \"resultados\"\n",
    "M_FICHERO=      \"metricas\"\n",
    "PRE_DATA_FILE=  \"rows_transpose_norm_by_gene_id_with_target_num_\"\n",
    "SCORING=        \"roc_auc_ovr\" \n",
    "MAX_ITERS=      100\n",
    "\n",
    "def mutual_info_classif_state(X, y):\n",
    "    return mutual_info_classif(X, y, random_state=SEMILLA)\n",
    "\n",
    "eval_selector_mi = \"SelectKBest(score_func=mutual_info_classif_state)\"\n",
    "eval_selector_rf=  \"SelectFromModel(estimator=RandomForestClassifier(random_state=SEMILLA), threshold=-np.inf)\"\n",
    "eval_selector_anova=  \"SelectKBest(score_func=f_classif)\"\n",
    "\n",
    "eval_clasifier_svm= \"SVC(probability=True, random_state=SEMILLA)\"\n",
    "eval_clasifier_rf= \"RandomForestClassifier(random_state=SEMILLA)\"\n",
    "eval_clasifier_lr= \"LogisticRegressionCV(random_state=SEMILLA)\"\n",
    "\n",
    "if M_TIPO.startswith(\"bin_m\"):\n",
    "    myfunc.verbose(f\"Utilizando parámetros de {M_TIPO}\")\n",
    "    eval_selector = eval_selector_mi\n",
    "    eval_clasifier = eval_clasifier_svm\n",
    "\n",
    "    SEMILLA = 6578\n",
    "    M_SELECT = \"MI\"\n",
    "    M_CLASIF = \"SVM\"\n",
    "    param_distributions = {'selector__k': [1000], \n",
    "         'clasifier__kernel': ['rbf'], 'clasifier__gamma': [0.01], 'clasifier__C': [100]}\n",
    "elif M_TIPO.startswith(\"bin_s\"):\n",
    "    myfunc.verbose(f\"Utilizando parámetros de {M_TIPO}\")\n",
    "    eval_selector = eval_selector_rf\n",
    "    eval_clasifier = eval_clasifier_lr\n",
    "\n",
    "    SEMILLA = 6191\n",
    "    M_SELECT = \"RF\"\n",
    "    M_CLASIF = \"LR_L2\"\n",
    "    param_distributions = {'selector__max_features': [1000], 'selector__estimator__n_estimators': [200], \n",
    "        'clasifier__solver': ['lbfgs'], 'clasifier__penalty': ['l2'], 'clasifier__max_iter': [10000]}\n",
    "\n",
    "elif M_TIPO.startswith(\"mul_m\"):\n",
    "    myfunc.verbose(f\"Utilizando parámetros de {M_TIPO}\")\n",
    " \n",
    "    eval_selector = eval_selector_rf\n",
    "    eval_clasifier = eval_clasifier_lr\n",
    "\n",
    "    SEMILLA = 6191\n",
    "    M_SELECT = \"RF\"\n",
    "    M_CLASIF = \"LR_L2\"\n",
    "    param_distributions = {'selector__max_features': [1000], 'selector__estimator__n_estimators': [400], \n",
    "        'clasifier__solver': ['lbfgs'], 'clasifier__penalty': ['l2'], 'clasifier__max_iter': [10000]}\n",
    "\n",
    "else:\n",
    "    # M_TIPO.startswith(\"mul_s\"):\n",
    "    myfunc.verbose(f\"Utilizando parámetros de {M_TIPO}\")\n",
    "    eval_selector = eval_selector_anova\n",
    "    eval_clasifier = eval_clasifier_lr\n",
    "\n",
    "    SEMILLA = 1860\n",
    "    M_SELECT = \"ANOVA\"\n",
    "    M_CLASIF = \"LR_L2\"\n",
    "    param_distributions = {'selector__k': [1000], \n",
    "        'clasifier__solver': ['saga'], 'clasifier__penalty': ['l2'], 'clasifier__max_iter': [10000]}\n",
    "\n"
   ]
  },
  {
   "cell_type": "code",
   "execution_count": 3,
   "id": "449c7827",
   "metadata": {
    "execution": {
     "iopub.execute_input": "2023-10-30T16:44:08.207620Z",
     "iopub.status.busy": "2023-10-30T16:44:08.207440Z",
     "iopub.status.idle": "2023-10-30T16:44:08.211021Z",
     "shell.execute_reply": "2023-10-30T16:44:08.210505Z"
    },
    "papermill": {
     "duration": 0.008083,
     "end_time": "2023-10-30T16:44:08.212225",
     "exception": false,
     "start_time": "2023-10-30T16:44:08.204142",
     "status": "completed"
    },
    "tags": [
     "injected-parameters"
    ]
   },
   "outputs": [],
   "source": [
    "# Parameters\n",
    "M_TIPO = \"mul_s\"\n",
    "M_SELECT = \"ANOVA\"\n",
    "M_CLASIF = \"LR_EN\"\n",
    "P_FICHERO = \"param_0000_6390_mul_s_ANOVA_LR_EN.yaml\"\n",
    "R_FICHERO = \"resultados_6390\"\n",
    "M_FICHERO = \"metricas_6390\"\n",
    "PRE_DATA_FILE = \"rows_transpose_norm_by_gene_id_with_target_num_\"\n",
    "SCORING = \"roc_auc_ovr\"\n",
    "SEMILLA = 6390\n",
    "MAX_ITERS = 500\n",
    "eval_selector = \"SelectKBest(score_func=f_classif)\"\n",
    "eval_clasifier = \"LogisticRegressionCV(random_state=SEMILLA)\"\n",
    "param_distributions = {\n",
    "    \"selector__k\": [1000],\n",
    "    \"clasifier__solver\": [\"saga\"],\n",
    "    \"clasifier__penalty\": [\"elasticnet\"],\n",
    "    \"clasifier__max_iter\": [10000],\n",
    "    \"clasifier__l1_ratios\": [[0.1]],\n",
    "}\n"
   ]
  },
  {
   "cell_type": "code",
   "execution_count": 4,
   "id": "0907306d",
   "metadata": {
    "execution": {
     "iopub.execute_input": "2023-10-30T16:44:08.218507Z",
     "iopub.status.busy": "2023-10-30T16:44:08.218310Z",
     "iopub.status.idle": "2023-10-30T16:44:08.221470Z",
     "shell.execute_reply": "2023-10-30T16:44:08.220975Z"
    },
    "papermill": {
     "duration": 0.007876,
     "end_time": "2023-10-30T16:44:08.222821",
     "exception": false,
     "start_time": "2023-10-30T16:44:08.214945",
     "status": "completed"
    },
    "tags": []
   },
   "outputs": [],
   "source": [
    "DATA_FILE = PRE_DATA_FILE + M_TIPO\n",
    "\n",
    "# si viene \"None\" en el parámetro max_depth, se le quitan las comillas para que no sea entendido por el algoritmo como un texto\n",
    "if \"clasifier__max_depth\" in param_distributions:\n",
    "    param_distributions['clasifier__max_depth'] = [None if x == 'None' else x for x in param_distributions['clasifier__max_depth']]"
   ]
  },
  {
   "cell_type": "markdown",
   "id": "78ec7a19",
   "metadata": {
    "papermill": {
     "duration": 0.003247,
     "end_time": "2023-10-30T16:44:08.229352",
     "exception": false,
     "start_time": "2023-10-30T16:44:08.226105",
     "status": "completed"
    },
    "tags": []
   },
   "source": [
    "Asignar los algoritmos que se utilizarán en la función RandomSearchCV"
   ]
  },
  {
   "cell_type": "code",
   "execution_count": 5,
   "id": "a5c7ca6f",
   "metadata": {
    "execution": {
     "iopub.execute_input": "2023-10-30T16:44:08.238127Z",
     "iopub.status.busy": "2023-10-30T16:44:08.237910Z",
     "iopub.status.idle": "2023-10-30T16:44:08.241062Z",
     "shell.execute_reply": "2023-10-30T16:44:08.240466Z"
    },
    "papermill": {
     "duration": 0.009116,
     "end_time": "2023-10-30T16:44:08.242465",
     "exception": false,
     "start_time": "2023-10-30T16:44:08.233349",
     "status": "completed"
    },
    "tags": []
   },
   "outputs": [],
   "source": [
    "algor_selector=eval(eval_selector)\n",
    "algor_clasifier=eval(eval_clasifier)"
   ]
  },
  {
   "cell_type": "markdown",
   "id": "550ca8b7",
   "metadata": {
    "papermill": {
     "duration": 0.003582,
     "end_time": "2023-10-30T16:44:08.249625",
     "exception": false,
     "start_time": "2023-10-30T16:44:08.246043",
     "status": "completed"
    },
    "tags": []
   },
   "source": [
    "#### Comprobar el entorno y leer fichero de muestras"
   ]
  },
  {
   "cell_type": "code",
   "execution_count": 6,
   "id": "7af98d72",
   "metadata": {
    "execution": {
     "iopub.execute_input": "2023-10-30T16:44:08.257731Z",
     "iopub.status.busy": "2023-10-30T16:44:08.257534Z",
     "iopub.status.idle": "2023-10-30T16:44:08.388476Z",
     "shell.execute_reply": "2023-10-30T16:44:08.387976Z"
    },
    "papermill": {
     "duration": 0.136395,
     "end_time": "2023-10-30T16:44:08.389701",
     "exception": false,
     "start_time": "2023-10-30T16:44:08.253306",
     "status": "completed"
    },
    "tags": []
   },
   "outputs": [
    {
     "name": "stdout",
     "output_type": "stream",
     "text": [
      "20231030T174408 : amilcar22 : INFO : Encontrada carpeta DATA_DIR=../tfm_git/datos\n",
      "20231030T174408 : amilcar22 : INFO : Encontrada carpeta CFDNA_DIR=../tfm_git/datos/cfDNA_5hmC\n",
      "20231030T174408 : amilcar22 : INFO : Encontrada carpeta GENCODE_DIR=../tfm_git/datos/gencode\n",
      "20231030T174408 : amilcar22 : INFO : Encontrada carpeta H5_DIR=../tfm_git/datos/h5\n",
      "20231030T174408 : amilcar22 : INFO : Encontrada carpeta LOG_DIR=../tfm_git/datos/logs\n",
      "20231030T174408 : amilcar22 : INFO : Encontrada carpeta CSV_DIR=../tfm_git/datos/csv\n",
      "20231030T174408 : amilcar22 : INFO : Encontrada carpeta MODEL_DIR=../tfm_git/ejecuciones/modelos\n",
      "20231030T174408 : amilcar22 : INFO : Encontrada carpeta EXEC_DIR=../tfm_git/ejecuciones\n",
      "20231030T174408 : amilcar22 : INFO : Encontrada carpeta MET_DIR=../tfm_git/ejecuciones/metricas\n",
      "20231030T174408 : amilcar22 : INFO : Inicio leer fichero h5 ../tfm_git/datos/h5/rows_transpose_norm_by_gene_id_with_target_num_mul_s.h5\n",
      "20231030T174408 : amilcar22 : INFO : Leyendo clave /df\n",
      "20231030T174408 : amilcar22 : INFO : Tamaño (259, 18876)\n",
      "20231030T174408 : amilcar22 : INFO : Fin leer fichero h5 ../tfm_git/datos/h5/rows_transpose_norm_by_gene_id_with_target_num_mul_s.h5\n"
     ]
    },
    {
     "data": {
      "text/plain": [
       "target\n",
       "0    37\n",
       "1    37\n",
       "2    37\n",
       "3    37\n",
       "4    37\n",
       "5    37\n",
       "6    37\n",
       "dtype: int64"
      ]
     },
     "metadata": {},
     "output_type": "display_data"
    },
    {
     "name": "stdout",
     "output_type": "stream",
     "text": [
      "Shape df: (259, 18876)\n"
     ]
    },
    {
     "name": "stdout",
     "output_type": "stream",
     "text": [
      "Shape X_train: (207, 18875)\n",
      "Shape X_test: (52, 18875)\n"
     ]
    }
   ],
   "source": [
    "start_time = datetime.datetime.now()\n",
    "\n",
    "myfunc.reset_vars()\n",
    "\n",
    "myfunc.NOTEBK_FILENAME = myfunc.get_nb_name()\n",
    "\n",
    "myfunc.check_enviroment(myfunc.DATA_DIR, myfunc.CFDNA_DIR, myfunc.GENCODE_DIR, myfunc.H5_DIR, myfunc.LOG_DIR, myfunc.CSV_DIR, myfunc.MODEL_DIR, myfunc.EXEC_DIR, myfunc.MET_DIR)\n",
    "\n",
    "# Leer fichero con las muestras\n",
    "df_t = myfunc.read_h5_to_df(DATA_FILE, myfunc.H5_DIR)\n",
    "display(df_t.groupby(\"target\").size())\n",
    "print(\"Shape df:\",df_t.shape)\n",
    "\n",
    "# Separar caracteristicas/genes de las etiquetas/tipos de cáncer\n",
    "X = df_t.iloc[:, :-1]  # Todas las columnas excepto la última\n",
    "y = df_t.iloc[:, -1]  # La última columna contiene los identificadores de los tipos de cáncer\n",
    "\n",
    "#  Crear el conjunto de datos de entrenamiento y de pruebas, y se fija la semilla para siempre coger el mismo juego de muestras\n",
    "X_train, X_test, y_train, y_test = train_test_split(X, y, test_size=0.2, shuffle=True, random_state=42)\n",
    "print(\"Shape X_train:\",X_train.shape)\n",
    "print(\"Shape X_test:\",X_test.shape)\n"
   ]
  },
  {
   "cell_type": "markdown",
   "id": "40447f65",
   "metadata": {
    "papermill": {
     "duration": 0.002748,
     "end_time": "2023-10-30T16:44:08.395868",
     "exception": false,
     "start_time": "2023-10-30T16:44:08.393120",
     "status": "completed"
    },
    "tags": []
   },
   "source": [
    "#### Selección de características y clasificación."
   ]
  },
  {
   "cell_type": "code",
   "execution_count": 7,
   "id": "503d3b35",
   "metadata": {
    "execution": {
     "iopub.execute_input": "2023-10-30T16:44:08.402419Z",
     "iopub.status.busy": "2023-10-30T16:44:08.402202Z",
     "iopub.status.idle": "2023-10-30T17:01:43.472882Z",
     "shell.execute_reply": "2023-10-30T17:01:43.472243Z"
    },
    "papermill": {
     "duration": 1055.078079,
     "end_time": "2023-10-30T17:01:43.476774",
     "exception": false,
     "start_time": "2023-10-30T16:44:08.398695",
     "status": "completed"
    },
    "tags": []
   },
   "outputs": [
    {
     "name": "stdout",
     "output_type": "stream",
     "text": [
      "20231030T174408 : amilcar22 : INFO : Iniciando entrenamiento\n",
      "num_iter: 1 , max_iter: 1\n",
      "Fitting 5 folds for each of 1 candidates, totalling 5 fits\n"
     ]
    },
    {
     "name": "stderr",
     "output_type": "stream",
     "text": [
      "/home/antonio/miniconda3/lib/python3.10/site-packages/sklearn/feature_selection/_univariate_selection.py:112: UserWarning: Features [  298  1508  1733  1846  2010  2222  2265  2266  2553  2688  2802  2803\n",
      "  2833  2896  3248  3415  3492  3804  4075  5803  6053  6981  6984  7416\n",
      "  7418  7945  8508  8510  8513  8890  9087  9490 10475 11020 11562 11613\n",
      " 11943 12249 12480 12489 12831 13235 13259 13836 13959 14000 14015 14244\n",
      " 14245 14451 14789 14795 14941 15397 15515 15563 15824 15874 16258 16267\n",
      " 16268 16281 16287 16313 16323 16339 16350 16372 16520 16630 16667 16679\n",
      " 16701 16905 16906 16968 17047 17091 17093 17231 17264 17274 17300 17312\n",
      " 17418 17540 17566 18288 18350 18368 18374 18375 18405 18486 18592 18608\n",
      " 18692 18868] are constant.\n",
      "  warnings.warn(\"Features %s are constant.\" % constant_features_idx, UserWarning)\n",
      "/home/antonio/miniconda3/lib/python3.10/site-packages/sklearn/feature_selection/_univariate_selection.py:113: RuntimeWarning: invalid value encountered in divide\n",
      "  f = msb / msw\n",
      "/home/antonio/miniconda3/lib/python3.10/site-packages/sklearn/feature_selection/_univariate_selection.py:112: UserWarning: Features [  298  1508  1733  1846  2010  2222  2265  2266  2553  2688  2802  2803\n",
      "  2833  2896  2957  3248  3415  3492  4075  4306  5803  6053  6981  6984\n",
      "  7418  8508  8510  8513  8890  9087  9090  9490 10475 11020 11022 11613\n",
      " 11943 11996 12249 12480 12831 13047 13225 13235 13259 13577 13836 13841\n",
      " 13959 14000 14015 14244 14245 14451 14789 14795 14941 15515 15563 15824\n",
      " 15874 16237 16258 16267 16268 16278 16279 16281 16287 16294 16313 16318\n",
      " 16323 16350 16372 16519 16630 16701 16704 16870 16905 16906 16968 17047\n",
      " 17091 17093 17120 17231 17264 17274 17300 17312 17540 17679 18245 18350\n",
      " 18368 18374 18375 18405 18486 18530 18592 18692 18868] are constant.\n",
      "  warnings.warn(\"Features %s are constant.\" % constant_features_idx, UserWarning)\n",
      "/home/antonio/miniconda3/lib/python3.10/site-packages/sklearn/feature_selection/_univariate_selection.py:113: RuntimeWarning: invalid value encountered in divide\n",
      "  f = msb / msw\n",
      "/home/antonio/miniconda3/lib/python3.10/site-packages/sklearn/feature_selection/_univariate_selection.py:112: UserWarning: Features [  298  1508  1733  1846  2006  2010  2222  2265  2266  2553  2688  2802\n",
      "  2803  2833  2896  3248  3415  3492  4075  5668  5803  6053  6981  6984\n",
      "  7418  7780  8508  8510  8513  8890  9087  9490 10475 11020 11565 11613\n",
      " 11943 12249 12480 12831 12888 13235 13259 13836 13959 14000 14015 14244\n",
      " 14245 14451 14789 14794 14795 14941 15515 15563 15824 15874 15881 16018\n",
      " 16205 16235 16244 16245 16258 16262 16267 16268 16276 16281 16287 16313\n",
      " 16323 16350 16372 16630 16701 16905 16906 16956 16968 17047 17091 17093\n",
      " 17231 17264 17274 17300 17312 17520 17540 18241 18350 18368 18374 18375\n",
      " 18405 18486 18592 18692 18868] are constant.\n",
      "  warnings.warn(\"Features %s are constant.\" % constant_features_idx, UserWarning)\n",
      "/home/antonio/miniconda3/lib/python3.10/site-packages/sklearn/feature_selection/_univariate_selection.py:113: RuntimeWarning: invalid value encountered in divide\n",
      "  f = msb / msw\n"
     ]
    },
    {
     "name": "stderr",
     "output_type": "stream",
     "text": [
      "/home/antonio/miniconda3/lib/python3.10/site-packages/sklearn/feature_selection/_univariate_selection.py:112: UserWarning: Features [  298  1017  1508  1733  1846  2010  2222  2265  2266  2553  2688  2725\n",
      "  2802  2803  2833  2896  3248  3415  3492  4075  5490  5533  5803  6053\n",
      "  6981  6984  7418  8508  8510  8513  8791  8890  9087  9490 10475 11020\n",
      " 11613 11943 12249 12480 12518 12831 12940 13235 13259 13300 13836 13848\n",
      " 13959 14000 14015 14244 14245 14451 14559 14789 14795 14941 15183 15401\n",
      " 15515 15516 15563 15785 15824 15874 16258 16267 16268 16277 16281 16287\n",
      " 16312 16313 16322 16323 16347 16349 16350 16372 16565 16630 16701 16819\n",
      " 16905 16906 16968 17024 17047 17055 17075 17091 17093 17231 17264 17273\n",
      " 17274 17300 17312 17540 17948 17963 18153 18350 18368 18374 18375 18405\n",
      " 18486 18592 18692 18868] are constant.\n",
      "  warnings.warn(\"Features %s are constant.\" % constant_features_idx, UserWarning)\n",
      "/home/antonio/miniconda3/lib/python3.10/site-packages/sklearn/feature_selection/_univariate_selection.py:113: RuntimeWarning: invalid value encountered in divide\n",
      "  f = msb / msw\n",
      "/home/antonio/miniconda3/lib/python3.10/site-packages/sklearn/feature_selection/_univariate_selection.py:112: UserWarning: Features [  298  1508  1733  1846  2010  2222  2265  2266  2553  2555  2688  2802\n",
      "  2803  2833  2896  3248  3415  3492  4075  5803  6053  6981  6984  7418\n",
      "  8314  8508  8510  8511  8512  8513  8890  9087  9490 10035 10475 10477\n",
      " 11020 11613 11943 12249 12433 12480 12831 12973 13235 13259 13836 13860\n",
      " 13959 14000 14015 14244 14245 14451 14735 14789 14795 14835 14941 15071\n",
      " 15515 15563 15824 15874 16258 16260 16267 16268 16281 16287 16313 16323\n",
      " 16350 16372 16373 16630 16701 16731 16905 16906 16968 17047 17091 17093\n",
      " 17231 17264 17274 17300 17312 17540 17741 18350 18368 18374 18375 18405\n",
      " 18421 18486 18592 18679 18692 18698 18868] are constant.\n",
      "  warnings.warn(\"Features %s are constant.\" % constant_features_idx, UserWarning)\n",
      "/home/antonio/miniconda3/lib/python3.10/site-packages/sklearn/feature_selection/_univariate_selection.py:113: RuntimeWarning: invalid value encountered in divide\n",
      "  f = msb / msw\n"
     ]
    },
    {
     "name": "stderr",
     "output_type": "stream",
     "text": [
      "/home/antonio/miniconda3/lib/python3.10/site-packages/sklearn/feature_selection/_univariate_selection.py:112: UserWarning: Features [  298  1508  1733  1846  2010  2222  2265  2266  2553  2688  2802  2803\n",
      "  2833  2896  3248  3415  3492  4075  5803  6053  6981  6984  7418  8508\n",
      "  8510  8513  8890  9087  9490 10475 11020 11613 11943 12249 12480 12831\n",
      " 13235 13259 13836 13959 14000 14015 14244 14245 14451 14789 14795 14941\n",
      " 15515 15563 15824 15874 16258 16267 16268 16281 16287 16313 16323 16350\n",
      " 16372 16630 16701 16905 16906 16968 17047 17091 17093 17231 17264 17274\n",
      " 17300 17312 17540 18350 18368 18374 18375 18405 18486 18592 18692 18868] are constant.\n",
      "  warnings.warn(\"Features %s are constant.\" % constant_features_idx, UserWarning)\n",
      "/home/antonio/miniconda3/lib/python3.10/site-packages/sklearn/feature_selection/_univariate_selection.py:113: RuntimeWarning: invalid value encountered in divide\n",
      "  f = msb / msw\n"
     ]
    },
    {
     "name": "stdout",
     "output_type": "stream",
     "text": [
      "[CV 3/5] END clasifier__l1_ratios=[0.1], clasifier__max_iter=10000, clasifier__penalty=elasticnet, clasifier__solver=saga, selector__k=1000;, score=0.756 total time= 6.7min\n"
     ]
    },
    {
     "name": "stdout",
     "output_type": "stream",
     "text": [
      "[CV 2/5] END clasifier__l1_ratios=[0.1], clasifier__max_iter=10000, clasifier__penalty=elasticnet, clasifier__solver=saga, selector__k=1000;, score=0.747 total time= 7.4min\n"
     ]
    },
    {
     "name": "stdout",
     "output_type": "stream",
     "text": [
      "[CV 4/5] END clasifier__l1_ratios=[0.1], clasifier__max_iter=10000, clasifier__penalty=elasticnet, clasifier__solver=saga, selector__k=1000;, score=0.814 total time= 7.7min\n"
     ]
    },
    {
     "name": "stdout",
     "output_type": "stream",
     "text": [
      "[CV 5/5] END clasifier__l1_ratios=[0.1], clasifier__max_iter=10000, clasifier__penalty=elasticnet, clasifier__solver=saga, selector__k=1000;, score=0.776 total time= 8.4min\n"
     ]
    },
    {
     "name": "stdout",
     "output_type": "stream",
     "text": [
      "[CV 1/5] END clasifier__l1_ratios=[0.1], clasifier__max_iter=10000, clasifier__penalty=elasticnet, clasifier__solver=saga, selector__k=1000;, score=0.839 total time= 9.2min\n"
     ]
    },
    {
     "name": "stdout",
     "output_type": "stream",
     "text": [
      "Mejores Hiperparámetros: {'selector__k': 1000, 'clasifier__solver': 'saga', 'clasifier__penalty': 'elasticnet', 'clasifier__max_iter': 10000, 'clasifier__l1_ratios': [0.1]}\n",
      "Mejor Puntuación: 0.7865\n",
      "20231030T180143 : amilcar22 : INFO : Fin entrenamiento\n"
     ]
    }
   ],
   "source": [
    "myfunc.verbose(\"Iniciando entrenamiento\")\n",
    "\n",
    "kf = KFold(n_splits=5, shuffle=True, random_state=SEMILLA)\n",
    "\n",
    "# Crear el pipeline para el flujo de tareas\n",
    "tasks_pipeline = Pipeline([\n",
    "    ('selector', algor_selector),\n",
    "    ('clasifier', algor_clasifier)\n",
    "])\n",
    "\n",
    "# MAX_ITERS puede limitar el número de iteraciones si son excesivas para las combinaciones de parámetros buscando un óptimo local, \n",
    "# sino funcionaría como GridSearchCV al revisar todas las cominaciones de los parámetros\n",
    "num_iteraciones = 1\n",
    "num_iteraciones = num_iteraciones * np.prod([len(elemento1) for _, elemento1 in param_distributions.items()])\n",
    "max_iteraciones = num_iteraciones if num_iteraciones <= MAX_ITERS else MAX_ITERS\n",
    "print(\"num_iter:\",num_iteraciones,\", max_iter:\",max_iteraciones)\n",
    "\n",
    "random_search = RandomizedSearchCV(\n",
    "    tasks_pipeline, \n",
    "    param_distributions, \n",
    "    n_iter=max_iteraciones,\n",
    "    scoring=SCORING,\n",
    "    cv=kf,\n",
    "    verbose=3, \n",
    "    random_state=SEMILLA, \n",
    "    n_jobs=-1\n",
    "    )\n",
    "\n",
    "# Entrenar el modelo\n",
    "random_search.fit(X_train, y_train)\n",
    "\n",
    "# Ver los mejores hiperparámetros encontrados\n",
    "print(f'Mejores Hiperparámetros: {random_search.best_params_}')\n",
    "print(f'Mejor Puntuación: {random_search.best_score_:.4f}')\n",
    "\n",
    "# Nos quedamos con el mejor modelo para ver las métricas\n",
    "mejor_modelo = random_search.best_estimator_\n",
    "\n",
    "myfunc.verbose(\"Fin entrenamiento\")"
   ]
  },
  {
   "cell_type": "markdown",
   "id": "d71ace23",
   "metadata": {
    "papermill": {
     "duration": 0.003257,
     "end_time": "2023-10-30T17:01:43.483467",
     "exception": false,
     "start_time": "2023-10-30T17:01:43.480210",
     "status": "completed"
    },
    "tags": []
   },
   "source": [
    "#### Guardar modelo"
   ]
  },
  {
   "cell_type": "code",
   "execution_count": 8,
   "id": "ae3fa0e1",
   "metadata": {
    "execution": {
     "iopub.execute_input": "2023-10-30T17:01:43.490895Z",
     "iopub.status.busy": "2023-10-30T17:01:43.490697Z",
     "iopub.status.idle": "2023-10-30T17:01:43.500723Z",
     "shell.execute_reply": "2023-10-30T17:01:43.500142Z"
    },
    "papermill": {
     "duration": 0.015337,
     "end_time": "2023-10-30T17:01:43.502024",
     "exception": false,
     "start_time": "2023-10-30T17:01:43.486687",
     "status": "completed"
    },
    "tags": []
   },
   "outputs": [
    {
     "name": "stdout",
     "output_type": "stream",
     "text": [
      "20231030T180143 : amilcar22 : INFO : Inicio guardar fichero ../tfm_git/ejecuciones/modelos/modelo_6390_mul_s_ANOVA_LR_EN.pkl\n",
      "20231030T180143 : amilcar22 : INFO : Fin guardar fichero ../tfm_git/ejecuciones/modelos/modelo_6390_mul_s_ANOVA_LR_EN.pkl\n"
     ]
    }
   ],
   "source": [
    "fichero_modelo = str.replace(\"modelo_\"+str(SEMILLA).zfill(4)+\"_\"+M_TIPO+\"_\"+M_SELECT+\"_\"+M_CLASIF+\".pkl\", \" \", \"_\")\n",
    "\n",
    "myfunc.save_modelo(mejor_modelo, myfunc.MODEL_DIR, fichero_modelo)"
   ]
  },
  {
   "cell_type": "markdown",
   "id": "7ef08d7e",
   "metadata": {
    "papermill": {
     "duration": 0.003244,
     "end_time": "2023-10-30T17:01:43.509057",
     "exception": false,
     "start_time": "2023-10-30T17:01:43.505813",
     "status": "completed"
    },
    "tags": []
   },
   "source": [
    "#### Ver resultados del las iteraciones hechas por RandomSearchCV"
   ]
  },
  {
   "cell_type": "code",
   "execution_count": 9,
   "id": "43df1f28",
   "metadata": {
    "execution": {
     "iopub.execute_input": "2023-10-30T17:01:43.516413Z",
     "iopub.status.busy": "2023-10-30T17:01:43.516242Z",
     "iopub.status.idle": "2023-10-30T17:01:43.521994Z",
     "shell.execute_reply": "2023-10-30T17:01:43.521516Z"
    },
    "papermill": {
     "duration": 0.010946,
     "end_time": "2023-10-30T17:01:43.523230",
     "exception": false,
     "start_time": "2023-10-30T17:01:43.512284",
     "status": "completed"
    },
    "tags": []
   },
   "outputs": [
    {
     "name": "stdout",
     "output_type": "stream",
     "text": [
      "20231030T180143 : amilcar22 : INFO : Inicio ver resultados\n",
      "Mejores Hiperparámetros: {'selector__k': 1000, 'clasifier__solver': 'saga', 'clasifier__penalty': 'elasticnet', 'clasifier__max_iter': 10000, 'clasifier__l1_ratios': [0.1]}\n",
      "Mejores puntuaciones: 0.7865 | Params: {'selector__k': 1000, 'clasifier__solver': 'saga', 'clasifier__penalty': 'elasticnet', 'clasifier__max_iter': 10000, 'clasifier__l1_ratios': [0.1]}\n",
      "Media de las puntuaciones: 0.7865 | Params: {'selector__k': 1000, 'clasifier__solver': 'saga', 'clasifier__penalty': 'elasticnet', 'clasifier__max_iter': 10000, 'clasifier__l1_ratios': [0.1]}\n",
      "20231030T180143 : amilcar22 : INFO : Fin resultados\n"
     ]
    }
   ],
   "source": [
    "myfunc.ver_resultados_search(random_search)"
   ]
  },
  {
   "cell_type": "markdown",
   "id": "0cadf7ac",
   "metadata": {
    "papermill": {
     "duration": 0.003577,
     "end_time": "2023-10-30T17:01:43.530629",
     "exception": false,
     "start_time": "2023-10-30T17:01:43.527052",
     "status": "completed"
    },
    "tags": []
   },
   "source": [
    "#### Ver métricas del mejor modelo"
   ]
  },
  {
   "cell_type": "code",
   "execution_count": 10,
   "id": "96a10b3c",
   "metadata": {
    "execution": {
     "iopub.execute_input": "2023-10-30T17:01:43.539126Z",
     "iopub.status.busy": "2023-10-30T17:01:43.538955Z",
     "iopub.status.idle": "2023-10-30T17:01:44.145461Z",
     "shell.execute_reply": "2023-10-30T17:01:44.144936Z"
    },
    "papermill": {
     "duration": 0.611921,
     "end_time": "2023-10-30T17:01:44.146724",
     "exception": false,
     "start_time": "2023-10-30T17:01:43.534803",
     "status": "completed"
    },
    "tags": []
   },
   "outputs": [
    {
     "name": "stdout",
     "output_type": "stream",
     "text": [
      "20231030T180143 : amilcar22 : INFO : Inicio ver métricas multiclase\n"
     ]
    },
    {
     "name": "stdout",
     "output_type": "stream",
     "text": [
      "              precision    recall  f1-score   support\n",
      "\n",
      "           0       0.50      0.45      0.48        11\n",
      "           1       0.75      0.38      0.50         8\n",
      "           2       0.40      0.25      0.31         8\n",
      "           3       0.38      0.60      0.46         5\n",
      "           4       0.80      1.00      0.89         8\n",
      "           5       0.33      0.33      0.33         6\n",
      "           6       0.67      1.00      0.80         6\n",
      "\n",
      "    accuracy                           0.56        52\n",
      "   macro avg       0.55      0.57      0.54        52\n",
      "weighted avg       0.56      0.56      0.54        52\n",
      "\n",
      "\n",
      "\n",
      "           Exactitud: 0.557692\n",
      "   Precisión (media): 0.546429\n",
      "      Recall (media): 0.573268\n",
      "    F1-score (media): 0.538235\n",
      "\n",
      "\n",
      "AUC para el tipo de cáncer 0-Control.... 0.6319\n",
      "AUC para el tipo de cáncer 1-Bladder.... 0.8949\n",
      "AUC para el tipo de cáncer 2-Breast..... 0.7330\n",
      "AUC para el tipo de cáncer 3-Colorectal. 0.7447\n",
      "AUC para el tipo de cáncer 4-Kidney..... 0.9574\n",
      "AUC para el tipo de cáncer 5-Lung....... 0.9130\n",
      "AUC para el tipo de cáncer 6-Prostate... 0.9819\n",
      "\n",
      "Media de AUC: 0.8367\n"
     ]
    },
    {
     "data": {
      "image/png": "[encoded data removed]",
      "text/plain": [
       "<Figure size 1000x600 with 1 Axes>"
      ]
     },
     "metadata": {},
     "output_type": "display_data"
    },
    {
     "name": "stdout",
     "output_type": "stream",
     "text": [
      "\n",
      "\n"
     ]
    },
    {
     "data": {
      "image/png": "[encoded data removed]",
      "text/plain": [
       "<Figure size 800x400 with 2 Axes>"
      ]
     },
     "metadata": {},
     "output_type": "display_data"
    },
    {
     "name": "stdout",
     "output_type": "stream",
     "text": [
      "\n",
      "\n"
     ]
    },
    {
     "name": "stdout",
     "output_type": "stream",
     "text": [
      "Puntuación Jaccard para el cáncer tipo 0-Control.... 0.3125\n",
      "Puntuación Jaccard para el cáncer tipo 1-Bladder.... 0.3333\n",
      "Puntuación Jaccard para el cáncer tipo 2-Breast..... 0.1818\n",
      "Puntuación Jaccard para el cáncer tipo 3-Colorectal. 0.3000\n",
      "Puntuación Jaccard para el cáncer tipo 4-Kidney..... 0.8000\n",
      "Puntuación Jaccard para el cáncer tipo 5-Lung....... 0.2000\n",
      "Puntuación Jaccard para el cáncer tipo 6-Prostate... 0.6667\n",
      "\n",
      "Media de la puntuación de Jaccard: 0.3992\n"
     ]
    }
   ],
   "source": [
    "if M_TIPO.startswith(\"bin\"):\n",
    "    myfunc.ver_metricas(mejor_modelo, X_test, y_test)\n",
    "else:\n",
    "    myfunc.ver_metricas_multi(mejor_modelo, X_test, y_test)\n"
   ]
  },
  {
   "cell_type": "markdown",
   "id": "3d54c2e7",
   "metadata": {
    "papermill": {
     "duration": 0.005411,
     "end_time": "2023-10-30T17:01:44.157432",
     "exception": false,
     "start_time": "2023-10-30T17:01:44.152021",
     "status": "completed"
    },
    "tags": []
   },
   "source": [
    "#### Finalización del notebook"
   ]
  },
  {
   "cell_type": "code",
   "execution_count": 11,
   "id": "d63e9579",
   "metadata": {
    "execution": {
     "iopub.execute_input": "2023-10-30T17:01:44.168635Z",
     "iopub.status.busy": "2023-10-30T17:01:44.168275Z",
     "iopub.status.idle": "2023-10-30T17:01:44.171889Z",
     "shell.execute_reply": "2023-10-30T17:01:44.171483Z"
    },
    "papermill": {
     "duration": 0.010801,
     "end_time": "2023-10-30T17:01:44.173088",
     "exception": false,
     "start_time": "2023-10-30T17:01:44.162287",
     "status": "completed"
    },
    "tags": []
   },
   "outputs": [
    {
     "name": "stdout",
     "output_type": "stream",
     "text": [
      "20231030T180144 : amilcar22 : INFO : Notebook ha tardado 1055 seconds\n"
     ]
    }
   ],
   "source": [
    "end_time = datetime.datetime.now()\n",
    "total_time = end_time - start_time\n",
    "myfunc.verbose(f\"Notebook ha tardado {total_time.seconds} seconds\")"
   ]
  },
  {
   "cell_type": "markdown",
   "id": "a96c6eaa",
   "metadata": {
    "papermill": {
     "duration": 0.004503,
     "end_time": "2023-10-30T17:01:44.182425",
     "exception": false,
     "start_time": "2023-10-30T17:01:44.177922",
     "status": "completed"
    },
    "tags": []
   },
   "source": [
    "#### Guardar métricas"
   ]
  },
  {
   "cell_type": "code",
   "execution_count": 12,
   "id": "57794853",
   "metadata": {
    "execution": {
     "iopub.execute_input": "2023-10-30T17:01:44.191974Z",
     "iopub.status.busy": "2023-10-30T17:01:44.191764Z",
     "iopub.status.idle": "2023-10-30T17:01:44.383216Z",
     "shell.execute_reply": "2023-10-30T17:01:44.382785Z"
    },
    "papermill": {
     "duration": 0.197537,
     "end_time": "2023-10-30T17:01:44.384325",
     "exception": false,
     "start_time": "2023-10-30T17:01:44.186788",
     "status": "completed"
    },
    "tags": []
   },
   "outputs": [
    {
     "name": "stdout",
     "output_type": "stream",
     "text": [
      "20231030T180144 : amilcar22 : INFO : Inicio guardar métricas multiclase\n",
      "20231030T180144 : amilcar22 : INFO : Inicio leer fichero ../tfm_git/ejecuciones/metricas/metricas_6390.csv\n",
      "20231030T180144 : amilcar22 : INFO : Fin leer fichero ../tfm_git/ejecuciones/metricas/metricas_6390.csv\n"
     ]
    },
    {
     "name": "stdout",
     "output_type": "stream",
     "text": [
      "20231030T180144 : amilcar22 : INFO : Inicio guardar fichero ../tfm_git/ejecuciones/metricas/metricas_6390.csv\n",
      "20231030T180144 : amilcar22 : INFO : Fichero borrado ../tfm_git/ejecuciones/metricas/metricas_6390.csv\n",
      "20231030T180144 : amilcar22 : INFO : Fin guardar fichero ../tfm_git/ejecuciones/metricas/metricas_6390.csv\n",
      "20231030T180144 : amilcar22 : INFO : Fin guardar métricas multiclase\n",
      "20231030T180144 : amilcar22 : INFO : Inicio leer fichero ../tfm_git/ejecuciones/metricas/metricas_6390.csv\n"
     ]
    },
    {
     "name": "stdout",
     "output_type": "stream",
     "text": [
      "20231030T180144 : amilcar22 : INFO : Fin leer fichero ../tfm_git/ejecuciones/metricas/metricas_6390.csv\n"
     ]
    },
    {
     "data": {
      "text/html": [
       "<div>\n",
       "<style scoped>\n",
       "    .dataframe tbody tr th:only-of-type {\n",
       "        vertical-align: middle;\n",
       "    }\n",
       "\n",
       "    .dataframe tbody tr th {\n",
       "        vertical-align: top;\n",
       "    }\n",
       "\n",
       "    .dataframe thead th {\n",
       "        text-align: right;\n",
       "    }\n",
       "</style>\n",
       "<table border=\"1\" class=\"dataframe\">\n",
       "  <thead>\n",
       "    <tr style=\"text-align: right;\">\n",
       "      <th></th>\n",
       "      <th>tipo</th>\n",
       "      <th>select</th>\n",
       "      <th>clasific</th>\n",
       "      <th>semilla</th>\n",
       "      <th>accuracy</th>\n",
       "      <th>precision</th>\n",
       "      <th>recall</th>\n",
       "      <th>f1_score</th>\n",
       "      <th>roc_auc</th>\n",
       "      <th>hostname</th>\n",
       "      <th>total_time_sec</th>\n",
       "      <th>datetime</th>\n",
       "      <th>fichero_modelo</th>\n",
       "      <th>params</th>\n",
       "      <th>shape</th>\n",
       "      <th>features</th>\n",
       "      <th>roc_auc_ovr</th>\n",
       "      <th>indices_auc</th>\n",
       "      <th>indices_jaccard</th>\n",
       "    </tr>\n",
       "  </thead>\n",
       "  <tbody>\n",
       "    <tr>\n",
       "      <th>0</th>\n",
       "      <td>mul_s</td>\n",
       "      <td>ANOVA</td>\n",
       "      <td>LR_EN</td>\n",
       "      <td>6390</td>\n",
       "      <td>0.557692</td>\n",
       "      <td>0.546429</td>\n",
       "      <td>0.573268</td>\n",
       "      <td>0.538235</td>\n",
       "      <td>NaN</td>\n",
       "      <td>amilcar22</td>\n",
       "      <td>1055</td>\n",
       "      <td>2023-10-30 18:01:44.350850</td>\n",
       "      <td>modelo_6390_mul_s_ANOVA_LR_EN.pkl</td>\n",
       "      <td>{'selector__k': 1000, 'clasifier__solver': 'sa...</td>\n",
       "      <td>X_test:(52, 18875)</td>\n",
       "      <td>['ENSG00000000938.13', 'ENSG00000002834.19', '...</td>\n",
       "      <td>0.836681</td>\n",
       "      <td>[0.6319290465631928, 0.8948863636363635, 0.732...</td>\n",
       "      <td>[0.3125, 0.3333333333333333, 0.181818181818181...</td>\n",
       "    </tr>\n",
       "    <tr>\n",
       "      <th>0</th>\n",
       "      <td>mul_m</td>\n",
       "      <td>RF</td>\n",
       "      <td>SVM</td>\n",
       "      <td>6390</td>\n",
       "      <td>0.517241</td>\n",
       "      <td>0.509912</td>\n",
       "      <td>0.563774</td>\n",
       "      <td>0.517226</td>\n",
       "      <td>NaN</td>\n",
       "      <td>amilcar22</td>\n",
       "      <td>19</td>\n",
       "      <td>2023-10-30 17:44:02.194336</td>\n",
       "      <td>modelo_6390_mul_m_RF_SVM.pkl</td>\n",
       "      <td>{'selector__max_features': 200, 'selector__est...</td>\n",
       "      <td>X_test:(87, 18875)</td>\n",
       "      <td>['ENSG00000000938.13', 'ENSG00000005381.9', 'E...</td>\n",
       "      <td>0.836200</td>\n",
       "      <td>[0.6813380281690141, 0.9231481481481483, 0.738...</td>\n",
       "      <td>[0.04, 0.625, 0.3333333333333333, 0.3333333333...</td>\n",
       "    </tr>\n",
       "    <tr>\n",
       "      <th>0</th>\n",
       "      <td>mul_m</td>\n",
       "      <td>RF</td>\n",
       "      <td>RF</td>\n",
       "      <td>6390</td>\n",
       "      <td>0.494253</td>\n",
       "      <td>0.423879</td>\n",
       "      <td>0.523743</td>\n",
       "      <td>0.460582</td>\n",
       "      <td>NaN</td>\n",
       "      <td>amilcar22</td>\n",
       "      <td>26</td>\n",
       "      <td>2023-10-30 17:43:35.762446</td>\n",
       "      <td>modelo_6390_mul_m_RF_RF.pkl</td>\n",
       "      <td>{'selector__max_features': 500, 'selector__est...</td>\n",
       "      <td>X_test:(87, 18875)</td>\n",
       "      <td>['ENSG00000000938.13', 'ENSG00000005381.9', 'E...</td>\n",
       "      <td>0.817936</td>\n",
       "      <td>[0.6073943661971831, 0.8731481481481482, 0.818...</td>\n",
       "      <td>[0.0, 0.45, 0.21052631578947367, 0.23076923076...</td>\n",
       "    </tr>\n",
       "  </tbody>\n",
       "</table>\n",
       "</div>"
      ],
      "text/plain": [
       "    tipo select clasific  semilla  accuracy  precision    recall  f1_score  \\\n",
       "0  mul_s  ANOVA    LR_EN     6390  0.557692   0.546429  0.573268  0.538235   \n",
       "0  mul_m     RF      SVM     6390  0.517241   0.509912  0.563774  0.517226   \n",
       "0  mul_m     RF       RF     6390  0.494253   0.423879  0.523743  0.460582   \n",
       "\n",
       "   roc_auc   hostname  total_time_sec                    datetime  \\\n",
       "0      NaN  amilcar22            1055  2023-10-30 18:01:44.350850   \n",
       "0      NaN  amilcar22              19  2023-10-30 17:44:02.194336   \n",
       "0      NaN  amilcar22              26  2023-10-30 17:43:35.762446   \n",
       "\n",
       "                      fichero_modelo  \\\n",
       "0  modelo_6390_mul_s_ANOVA_LR_EN.pkl   \n",
       "0       modelo_6390_mul_m_RF_SVM.pkl   \n",
       "0        modelo_6390_mul_m_RF_RF.pkl   \n",
       "\n",
       "                                              params               shape  \\\n",
       "0  {'selector__k': 1000, 'clasifier__solver': 'sa...  X_test:(52, 18875)   \n",
       "0  {'selector__max_features': 200, 'selector__est...  X_test:(87, 18875)   \n",
       "0  {'selector__max_features': 500, 'selector__est...  X_test:(87, 18875)   \n",
       "\n",
       "                                            features  roc_auc_ovr  \\\n",
       "0  ['ENSG00000000938.13', 'ENSG00000002834.19', '...     0.836681   \n",
       "0  ['ENSG00000000938.13', 'ENSG00000005381.9', 'E...     0.836200   \n",
       "0  ['ENSG00000000938.13', 'ENSG00000005381.9', 'E...     0.817936   \n",
       "\n",
       "                                         indices_auc  \\\n",
       "0  [0.6319290465631928, 0.8948863636363635, 0.732...   \n",
       "0  [0.6813380281690141, 0.9231481481481483, 0.738...   \n",
       "0  [0.6073943661971831, 0.8731481481481482, 0.818...   \n",
       "\n",
       "                                     indices_jaccard  \n",
       "0  [0.3125, 0.3333333333333333, 0.181818181818181...  \n",
       "0  [0.04, 0.625, 0.3333333333333333, 0.3333333333...  \n",
       "0  [0.0, 0.45, 0.21052631578947367, 0.23076923076...  "
      ]
     },
     "metadata": {},
     "output_type": "display_data"
    }
   ],
   "source": [
    "if M_TIPO.startswith(\"bin\"):\n",
    "    myfunc.save_metricas_to_csv(random_search, X_test, y_test, M_TIPO, M_SELECT, M_CLASIF, total_time, SEMILLA, myfunc.MET_DIR, M_FICHERO, fichero_modelo)\n",
    "else:\n",
    "    myfunc.save_metricas_multi_to_csv(random_search, X_test, y_test, M_TIPO, M_SELECT, M_CLASIF, total_time, SEMILLA, myfunc.MET_DIR, M_FICHERO, fichero_modelo)\n",
    "\n",
    "df1=myfunc.read_metricas_to_df(myfunc.MET_DIR,M_FICHERO)\n",
    "\n",
    "display(df1.sort_values(\"datetime\", ascending=False)[:3])\n"
   ]
  },
  {
   "cell_type": "markdown",
   "id": "4365a96a",
   "metadata": {
    "papermill": {
     "duration": 0.004824,
     "end_time": "2023-10-30T17:01:44.394730",
     "exception": false,
     "start_time": "2023-10-30T17:01:44.389906",
     "status": "completed"
    },
    "tags": []
   },
   "source": [
    "#### Guardar resultados"
   ]
  },
  {
   "cell_type": "code",
   "execution_count": 13,
   "id": "48f18844",
   "metadata": {
    "execution": {
     "iopub.execute_input": "2023-10-30T17:01:44.405021Z",
     "iopub.status.busy": "2023-10-30T17:01:44.404820Z",
     "iopub.status.idle": "2023-10-30T17:01:44.412774Z",
     "shell.execute_reply": "2023-10-30T17:01:44.412319Z"
    },
    "papermill": {
     "duration": 0.014457,
     "end_time": "2023-10-30T17:01:44.413902",
     "exception": false,
     "start_time": "2023-10-30T17:01:44.399445",
     "status": "completed"
    },
    "tags": []
   },
   "outputs": [
    {
     "name": "stdout",
     "output_type": "stream",
     "text": [
      "20231030T180144 : amilcar22 : INFO : Inicio guardar resultados\n",
      "20231030T180144 : amilcar22 : INFO : Inicio guardar fichero ../tfm_git/ejecuciones/metricas/resultados_6390_mul_s-ANOVA-LR_EN.csv\n",
      "20231030T180144 : amilcar22 : INFO : Fin guardar fichero ../tfm_git/ejecuciones/metricas/resultados_6390_mul_s-ANOVA-LR_EN.csv\n",
      "20231030T180144 : amilcar22 : INFO : Fin guardar resultados\n"
     ]
    }
   ],
   "source": [
    "fichero_resultados=R_FICHERO+\"_\"+M_TIPO+\"-\"+M_SELECT+\"-\"+M_CLASIF+\".csv\"\n",
    "myfunc.save_resultados_to_csv(M_TIPO, M_SELECT, M_CLASIF,  random_search, myfunc.MET_DIR, fichero_resultados)\n"
   ]
  }
 ],
 "metadata": {
  "kernelspec": {
   "display_name": "Python 3 (ipykernel)",
   "language": "python",
   "name": "python3"
  },
  "language_info": {
   "codemirror_mode": {
    "name": "ipython",
    "version": 3
   },
   "file_extension": ".py",
   "mimetype": "text/x-python",
   "name": "python",
   "nbconvert_exporter": "python",
   "pygments_lexer": "ipython3",
   "version": "3.10.12"
  },
  "papermill": {
   "default_parameters": {},
   "duration": 1060.648472,
   "end_time": "2023-10-30T17:01:47.036735",
   "environment_variables": {},
   "exception": null,
   "input_path": "03_entrenamiento.ipynb",
   "output_path": "ejecuciones/training/03_entrenamiento.20231030T174406.param_0000_6390_mul_s_ANOVA_LR_EN.output.ipynb",
   "parameters": {
    "MAX_ITERS": 500,
    "M_CLASIF": "LR_EN",
    "M_FICHERO": "metricas_6390",
    "M_SELECT": "ANOVA",
    "M_TIPO": "mul_s",
    "PRE_DATA_FILE": "rows_transpose_norm_by_gene_id_with_target_num_",
    "P_FICHERO": "param_0000_6390_mul_s_ANOVA_LR_EN.yaml",
    "R_FICHERO": "resultados_6390",
    "SCORING": "roc_auc_ovr",
    "SEMILLA": 6390,
    "eval_clasifier": "LogisticRegressionCV(random_state=SEMILLA)",
    "eval_selector": "SelectKBest(score_func=f_classif)",
    "param_distributions": {
     "clasifier__l1_ratios": [
      [
       0.1
      ]
     ],
     "clasifier__max_iter": [
      10000
     ],
     "clasifier__penalty": [
      "elasticnet"
     ],
     "clasifier__solver": [
      "saga"
     ],
     "selector__k": [
      1000
     ]
    }
   },
   "start_time": "2023-10-30T16:44:06.388263",
   "version": "2.4.0"
  }
 },
 "nbformat": 4,
 "nbformat_minor": 5
}