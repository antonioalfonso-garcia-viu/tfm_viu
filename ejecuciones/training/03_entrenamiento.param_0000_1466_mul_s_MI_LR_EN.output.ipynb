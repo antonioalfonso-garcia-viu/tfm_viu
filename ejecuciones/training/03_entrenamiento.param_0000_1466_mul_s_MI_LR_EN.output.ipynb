{
 "cells": [
  {
   "cell_type": "markdown",
   "id": "e8764d4d",
   "metadata": {
    "papermill": {
     "duration": 0.003207,
     "end_time": "2023-10-30T03:21:07.060755",
     "exception": false,
     "start_time": "2023-10-30T03:21:07.057548",
     "status": "completed"
    },
    "tags": []
   },
   "source": [
    "##### Inicio"
   ]
  },
  {
   "cell_type": "markdown",
   "id": "b7187516",
   "metadata": {
    "papermill": {
     "duration": 0.002357,
     "end_time": "2023-10-30T03:21:07.065631",
     "exception": false,
     "start_time": "2023-10-30T03:21:07.063274",
     "status": "completed"
    },
    "tags": []
   },
   "source": [
    "#### Carga de datos"
   ]
  },
  {
   "cell_type": "code",
   "execution_count": 1,
   "id": "c0dcb27a",
   "metadata": {
    "execution": {
     "iopub.execute_input": "2023-10-30T03:21:07.071531Z",
     "iopub.status.busy": "2023-10-30T03:21:07.071302Z",
     "iopub.status.idle": "2023-10-30T03:21:07.947524Z",
     "shell.execute_reply": "2023-10-30T03:21:07.947017Z"
    },
    "papermill": {
     "duration": 0.880706,
     "end_time": "2023-10-30T03:21:07.948708",
     "exception": false,
     "start_time": "2023-10-30T03:21:07.068002",
     "status": "completed"
    },
    "tags": []
   },
   "outputs": [
    {
     "name": "stdout",
     "output_type": "stream",
     "text": [
      "CPU_COUNT: 8; NODE: amilcar22; sys.version: 3.10.12 (main, Jul  5 2023, 19:22:19) [GCC 11.2.0]\n",
      "LOKY_MAX_CPU_COUNT: 6\n",
      "OMP_NUM_THREADS: 2\n"
     ]
    }
   ],
   "source": [
    "import os\n",
    "import numpy as np\n",
    "import pandas as pd\n",
    "import datetime\n",
    "import sklearn\n",
    "import logging\n",
    "import warnings\n",
    "\n",
    "from sklearn.pipeline import Pipeline\n",
    "from sklearn.model_selection import RandomizedSearchCV, KFold, cross_val_score, train_test_split\n",
    "from sklearn.metrics import accuracy_score, confusion_matrix, classification_report, roc_auc_score\n",
    "\n",
    "#  cargar algoritmos para aprendizaje supervisado\n",
    "from sklearn.feature_selection import SelectKBest, f_classif, SelectFromModel, mutual_info_classif\n",
    "from sklearn.svm import SVC\n",
    "from sklearn.ensemble import RandomForestClassifier\n",
    "from sklearn.linear_model import LogisticRegression,LogisticRegressionCV\n",
    "\n",
    "# importar fichero con utilidades propias\n",
    "from commons import myfunctions as myfunc\n"
   ]
  },
  {
   "cell_type": "markdown",
   "id": "33c62bc2",
   "metadata": {
    "papermill": {
     "duration": 0.002533,
     "end_time": "2023-10-30T03:21:07.954148",
     "exception": false,
     "start_time": "2023-10-30T03:21:07.951615",
     "status": "completed"
    },
    "tags": []
   },
   "source": [
    "#### Parámetros a utilizar en el entrenamiento.\n",
    "\n",
    "Se indican los 3 algoritmos de *selección de características* (eval_selector_xxx) y los 3 algoritmos para la _clasificación_ (eval_clasifier_xxx)\n",
    "\n",
    "En *param_distributions* se indicar los parámetros que utilizan los algoritmos en la función RandomSearchCV.\n",
    "\n",
    "Esta celda tiene la etiqueta **parameters** que servirá para poder lanzar los entrenamientos con la utilidad **papermill** pasándole un fichero con los parámetros. Los nuevos parámetros se situarán tras esta celda para tener prevalencia."
   ]
  },
  {
   "cell_type": "code",
   "execution_count": 2,
   "id": "c33465c9",
   "metadata": {
    "execution": {
     "iopub.execute_input": "2023-10-30T03:21:07.960032Z",
     "iopub.status.busy": "2023-10-30T03:21:07.959781Z",
     "iopub.status.idle": "2023-10-30T03:21:07.966800Z",
     "shell.execute_reply": "2023-10-30T03:21:07.966279Z"
    },
    "papermill": {
     "duration": 0.011416,
     "end_time": "2023-10-30T03:21:07.968041",
     "exception": false,
     "start_time": "2023-10-30T03:21:07.956625",
     "status": "completed"
    },
    "tags": [
     "parameters"
    ]
   },
   "outputs": [
    {
     "name": "stdout",
     "output_type": "stream",
     "text": [
      "20231030T042107 : amilcar22 : INFO : Utilizando parámetros de mul_m\n"
     ]
    }
   ],
   "source": [
    "#  Parametros para el entrenamiento\n",
    "\n",
    "SEMILLA=        42\n",
    "M_TIPO=         \"mul_m\"\n",
    "M_SELECT=       \"MI\"\n",
    "M_CLASIF=       \"SVM\"\n",
    "R_FICHERO=      \"resultados\"\n",
    "M_FICHERO=      \"metricas\"\n",
    "PRE_DATA_FILE=  \"rows_transpose_norm_by_gene_id_with_target_num_\"\n",
    "SCORING=        \"roc_auc_ovr\" \n",
    "MAX_ITERS=      100\n",
    "\n",
    "def mutual_info_classif_state(X, y):\n",
    "    return mutual_info_classif(X, y, random_state=SEMILLA)\n",
    "\n",
    "eval_selector_mi = \"SelectKBest(score_func=mutual_info_classif_state)\"\n",
    "eval_selector_rf=  \"SelectFromModel(estimator=RandomForestClassifier(random_state=SEMILLA), threshold=-np.inf)\"\n",
    "eval_selector_anova=  \"SelectKBest(score_func=f_classif)\"\n",
    "\n",
    "eval_clasifier_svm= \"SVC(probability=True, random_state=SEMILLA)\"\n",
    "eval_clasifier_rf= \"RandomForestClassifier(random_state=SEMILLA)\"\n",
    "eval_clasifier_lr= \"LogisticRegressionCV(random_state=SEMILLA)\"\n",
    "\n",
    "if M_TIPO.startswith(\"bin_m\"):\n",
    "    myfunc.verbose(f\"Utilizando parámetros de {M_TIPO}\")\n",
    "    eval_selector = eval_selector_mi\n",
    "    eval_clasifier = eval_clasifier_svm\n",
    "\n",
    "    SEMILLA = 6578\n",
    "    M_SELECT = \"MI\"\n",
    "    M_CLASIF = \"SVM\"\n",
    "    param_distributions = {'selector__k': [1000], \n",
    "         'clasifier__kernel': ['rbf'], 'clasifier__gamma': [0.01], 'clasifier__C': [100]}\n",
    "elif M_TIPO.startswith(\"bin_s\"):\n",
    "    myfunc.verbose(f\"Utilizando parámetros de {M_TIPO}\")\n",
    "    eval_selector = eval_selector_rf\n",
    "    eval_clasifier = eval_clasifier_lr\n",
    "\n",
    "    SEMILLA = 6191\n",
    "    M_SELECT = \"RF\"\n",
    "    M_CLASIF = \"LR_L2\"\n",
    "    param_distributions = {'selector__max_features': [1000], 'selector__estimator__n_estimators': [200], \n",
    "        'clasifier__solver': ['lbfgs'], 'clasifier__penalty': ['l2'], 'clasifier__max_iter': [10000]}\n",
    "\n",
    "elif M_TIPO.startswith(\"mul_m\"):\n",
    "    myfunc.verbose(f\"Utilizando parámetros de {M_TIPO}\")\n",
    " \n",
    "    eval_selector = eval_selector_rf\n",
    "    eval_clasifier = eval_clasifier_lr\n",
    "\n",
    "    SEMILLA = 6191\n",
    "    M_SELECT = \"RF\"\n",
    "    M_CLASIF = \"LR_L2\"\n",
    "    param_distributions = {'selector__max_features': [1000], 'selector__estimator__n_estimators': [400], \n",
    "        'clasifier__solver': ['lbfgs'], 'clasifier__penalty': ['l2'], 'clasifier__max_iter': [10000]}\n",
    "\n",
    "else:\n",
    "    # M_TIPO.startswith(\"mul_s\"):\n",
    "    myfunc.verbose(f\"Utilizando parámetros de {M_TIPO}\")\n",
    "    eval_selector = eval_selector_anova\n",
    "    eval_clasifier = eval_clasifier_lr\n",
    "\n",
    "    SEMILLA = 1860\n",
    "    M_SELECT = \"ANOVA\"\n",
    "    M_CLASIF = \"LR_L2\"\n",
    "    param_distributions = {'selector__k': [1000], \n",
    "        'clasifier__solver': ['saga'], 'clasifier__penalty': ['l2'], 'clasifier__max_iter': [10000]}\n",
    "\n"
   ]
  },
  {
   "cell_type": "code",
   "execution_count": 3,
   "id": "e2fdbe37",
   "metadata": {
    "execution": {
     "iopub.execute_input": "2023-10-30T03:21:07.974170Z",
     "iopub.status.busy": "2023-10-30T03:21:07.973998Z",
     "iopub.status.idle": "2023-10-30T03:21:07.977309Z",
     "shell.execute_reply": "2023-10-30T03:21:07.976847Z"
    },
    "papermill": {
     "duration": 0.007623,
     "end_time": "2023-10-30T03:21:07.978457",
     "exception": false,
     "start_time": "2023-10-30T03:21:07.970834",
     "status": "completed"
    },
    "tags": [
     "injected-parameters"
    ]
   },
   "outputs": [],
   "source": [
    "# Parameters\n",
    "M_TIPO = \"mul_s\"\n",
    "M_SELECT = \"MI\"\n",
    "M_CLASIF = \"LR_EN\"\n",
    "P_FICHERO = \"param_0000_1466_mul_s_MI_LR_EN.yaml\"\n",
    "R_FICHERO = \"resultados_1466\"\n",
    "M_FICHERO = \"metricas_1466\"\n",
    "PRE_DATA_FILE = \"rows_transpose_norm_by_gene_id_with_target_num_\"\n",
    "SCORING = \"roc_auc_ovr\"\n",
    "SEMILLA = 1466\n",
    "MAX_ITERS = 500\n",
    "eval_selector = \"SelectKBest(score_func=mutual_info_classif_state)\"\n",
    "eval_clasifier = \"LogisticRegressionCV(random_state=SEMILLA)\"\n",
    "param_distributions = {\n",
    "    \"selector__k\": [1000],\n",
    "    \"clasifier__solver\": [\"saga\"],\n",
    "    \"clasifier__penalty\": [\"elasticnet\"],\n",
    "    \"clasifier__max_iter\": [10000],\n",
    "    \"clasifier__l1_ratios\": [[0.75]],\n",
    "}\n"
   ]
  },
  {
   "cell_type": "code",
   "execution_count": 4,
   "id": "2210c1b7",
   "metadata": {
    "execution": {
     "iopub.execute_input": "2023-10-30T03:21:07.984998Z",
     "iopub.status.busy": "2023-10-30T03:21:07.984820Z",
     "iopub.status.idle": "2023-10-30T03:21:07.987844Z",
     "shell.execute_reply": "2023-10-30T03:21:07.987278Z"
    },
    "papermill": {
     "duration": 0.007739,
     "end_time": "2023-10-30T03:21:07.989093",
     "exception": false,
     "start_time": "2023-10-30T03:21:07.981354",
     "status": "completed"
    },
    "tags": []
   },
   "outputs": [],
   "source": [
    "DATA_FILE = PRE_DATA_FILE + M_TIPO\n",
    "\n",
    "# si viene \"None\" en el parámetro max_depth, se le quitan las comillas para que no sea entendido por el algoritmo como un texto\n",
    "if \"clasifier__max_depth\" in param_distributions:\n",
    "    param_distributions['clasifier__max_depth'] = [None if x == 'None' else x for x in param_distributions['clasifier__max_depth']]"
   ]
  },
  {
   "cell_type": "markdown",
   "id": "c6f2131d",
   "metadata": {
    "papermill": {
     "duration": 0.002856,
     "end_time": "2023-10-30T03:21:07.994802",
     "exception": false,
     "start_time": "2023-10-30T03:21:07.991946",
     "status": "completed"
    },
    "tags": []
   },
   "source": [
    "Asignar los algoritmos que se utilizarán en la función RandomSearchCV"
   ]
  },
  {
   "cell_type": "code",
   "execution_count": 5,
   "id": "053e3fad",
   "metadata": {
    "execution": {
     "iopub.execute_input": "2023-10-30T03:21:08.001265Z",
     "iopub.status.busy": "2023-10-30T03:21:08.001081Z",
     "iopub.status.idle": "2023-10-30T03:21:08.003866Z",
     "shell.execute_reply": "2023-10-30T03:21:08.003322Z"
    },
    "papermill": {
     "duration": 0.007403,
     "end_time": "2023-10-30T03:21:08.005077",
     "exception": false,
     "start_time": "2023-10-30T03:21:07.997674",
     "status": "completed"
    },
    "tags": []
   },
   "outputs": [],
   "source": [
    "algor_selector=eval(eval_selector)\n",
    "algor_clasifier=eval(eval_clasifier)"
   ]
  },
  {
   "cell_type": "markdown",
   "id": "b285a278",
   "metadata": {
    "papermill": {
     "duration": 0.003047,
     "end_time": "2023-10-30T03:21:08.011102",
     "exception": false,
     "start_time": "2023-10-30T03:21:08.008055",
     "status": "completed"
    },
    "tags": []
   },
   "source": [
    "#### Comprobar el entorno y leer fichero de muestras"
   ]
  },
  {
   "cell_type": "code",
   "execution_count": 6,
   "id": "e4b54898",
   "metadata": {
    "execution": {
     "iopub.execute_input": "2023-10-30T03:21:08.017925Z",
     "iopub.status.busy": "2023-10-30T03:21:08.017728Z",
     "iopub.status.idle": "2023-10-30T03:21:08.136480Z",
     "shell.execute_reply": "2023-10-30T03:21:08.135850Z"
    },
    "papermill": {
     "duration": 0.12361,
     "end_time": "2023-10-30T03:21:08.137709",
     "exception": false,
     "start_time": "2023-10-30T03:21:08.014099",
     "status": "completed"
    },
    "tags": []
   },
   "outputs": [
    {
     "name": "stdout",
     "output_type": "stream",
     "text": [
      "20231030T042108 : amilcar22 : INFO : Encontrada carpeta DATA_DIR=../tfm_git/datos\n",
      "20231030T042108 : amilcar22 : INFO : Encontrada carpeta CFDNA_DIR=../tfm_git/datos/cfDNA_5hmC\n",
      "20231030T042108 : amilcar22 : INFO : Encontrada carpeta GENCODE_DIR=../tfm_git/datos/gencode\n",
      "20231030T042108 : amilcar22 : INFO : Encontrada carpeta H5_DIR=../tfm_git/datos/h5\n",
      "20231030T042108 : amilcar22 : INFO : Encontrada carpeta LOG_DIR=../tfm_git/datos/logs\n",
      "20231030T042108 : amilcar22 : INFO : Encontrada carpeta CSV_DIR=../tfm_git/datos/csv\n",
      "20231030T042108 : amilcar22 : INFO : Encontrada carpeta MODEL_DIR=../tfm_git/ejecuciones/modelos\n",
      "20231030T042108 : amilcar22 : INFO : Encontrada carpeta EXEC_DIR=../tfm_git/ejecuciones\n",
      "20231030T042108 : amilcar22 : INFO : Encontrada carpeta MET_DIR=../tfm_git/ejecuciones/metricas\n",
      "20231030T042108 : amilcar22 : INFO : Inicio leer fichero h5 ../tfm_git/datos/h5/rows_transpose_norm_by_gene_id_with_target_num_mul_s.h5\n",
      "20231030T042108 : amilcar22 : INFO : Leyendo clave /df\n",
      "20231030T042108 : amilcar22 : INFO : Tamaño (259, 18876)\n",
      "20231030T042108 : amilcar22 : INFO : Fin leer fichero h5 ../tfm_git/datos/h5/rows_transpose_norm_by_gene_id_with_target_num_mul_s.h5\n"
     ]
    },
    {
     "data": {
      "text/plain": [
       "target\n",
       "0    37\n",
       "1    37\n",
       "2    37\n",
       "3    37\n",
       "4    37\n",
       "5    37\n",
       "6    37\n",
       "dtype: int64"
      ]
     },
     "metadata": {},
     "output_type": "display_data"
    },
    {
     "name": "stdout",
     "output_type": "stream",
     "text": [
      "Shape df: (259, 18876)\n",
      "Shape X_train: (207, 18875)\n",
      "Shape X_test: (52, 18875)\n"
     ]
    }
   ],
   "source": [
    "start_time = datetime.datetime.now()\n",
    "\n",
    "myfunc.reset_vars()\n",
    "\n",
    "myfunc.NOTEBK_FILENAME = myfunc.get_nb_name()\n",
    "\n",
    "myfunc.check_enviroment(myfunc.DATA_DIR, myfunc.CFDNA_DIR, myfunc.GENCODE_DIR, myfunc.H5_DIR, myfunc.LOG_DIR, myfunc.CSV_DIR, myfunc.MODEL_DIR, myfunc.EXEC_DIR, myfunc.MET_DIR)\n",
    "\n",
    "# Leer fichero con las muestras\n",
    "df_t = myfunc.read_h5_to_df(DATA_FILE, myfunc.H5_DIR)\n",
    "display(df_t.groupby(\"target\").size())\n",
    "print(\"Shape df:\",df_t.shape)\n",
    "\n",
    "# Separar caracteristicas/genes de las etiquetas/tipos de cáncer\n",
    "X = df_t.iloc[:, :-1]  # Todas las columnas excepto la última\n",
    "y = df_t.iloc[:, -1]  # La última columna contiene los identificadores de los tipos de cáncer\n",
    "\n",
    "#  Crear el conjunto de datos de entrenamiento y de pruebas, y se fija la semilla para siempre coger el mismo juego de muestras\n",
    "X_train, X_test, y_train, y_test = train_test_split(X, y, test_size=0.2, shuffle=True, random_state=42)\n",
    "print(\"Shape X_train:\",X_train.shape)\n",
    "print(\"Shape X_test:\",X_test.shape)\n"
   ]
  },
  {
   "cell_type": "markdown",
   "id": "7399dc22",
   "metadata": {
    "papermill": {
     "duration": 0.002681,
     "end_time": "2023-10-30T03:21:08.143578",
     "exception": false,
     "start_time": "2023-10-30T03:21:08.140897",
     "status": "completed"
    },
    "tags": []
   },
   "source": [
    "#### Selección de características y clasificación."
   ]
  },
  {
   "cell_type": "code",
   "execution_count": 7,
   "id": "7dec1c44",
   "metadata": {
    "execution": {
     "iopub.execute_input": "2023-10-30T03:21:08.149929Z",
     "iopub.status.busy": "2023-10-30T03:21:08.149746Z",
     "iopub.status.idle": "2023-10-30T03:45:38.232982Z",
     "shell.execute_reply": "2023-10-30T03:45:38.232362Z"
    },
    "papermill": {
     "duration": 1470.090647,
     "end_time": "2023-10-30T03:45:38.236946",
     "exception": false,
     "start_time": "2023-10-30T03:21:08.146299",
     "status": "completed"
    },
    "tags": []
   },
   "outputs": [
    {
     "name": "stdout",
     "output_type": "stream",
     "text": [
      "20231030T042108 : amilcar22 : INFO : Iniciando entrenamiento\n",
      "num_iter: 1 , max_iter: 1\n",
      "Fitting 5 folds for each of 1 candidates, totalling 5 fits\n"
     ]
    },
    {
     "name": "stdout",
     "output_type": "stream",
     "text": [
      "[CV 3/5] END clasifier__l1_ratios=[0.75], clasifier__max_iter=10000, clasifier__penalty=elasticnet, clasifier__solver=saga, selector__k=1000;, score=0.758 total time= 8.9min\n"
     ]
    },
    {
     "name": "stdout",
     "output_type": "stream",
     "text": [
      "[CV 1/5] END clasifier__l1_ratios=[0.75], clasifier__max_iter=10000, clasifier__penalty=elasticnet, clasifier__solver=saga, selector__k=1000;, score=0.707 total time= 8.9min\n"
     ]
    },
    {
     "name": "stdout",
     "output_type": "stream",
     "text": [
      "[CV 4/5] END clasifier__l1_ratios=[0.75], clasifier__max_iter=10000, clasifier__penalty=elasticnet, clasifier__solver=saga, selector__k=1000;, score=0.778 total time= 9.3min\n"
     ]
    },
    {
     "name": "stdout",
     "output_type": "stream",
     "text": [
      "[CV 5/5] END clasifier__l1_ratios=[0.75], clasifier__max_iter=10000, clasifier__penalty=elasticnet, clasifier__solver=saga, selector__k=1000;, score=0.728 total time=11.7min\n"
     ]
    },
    {
     "name": "stdout",
     "output_type": "stream",
     "text": [
      "[CV 2/5] END clasifier__l1_ratios=[0.75], clasifier__max_iter=10000, clasifier__penalty=elasticnet, clasifier__solver=saga, selector__k=1000;, score=0.818 total time=12.8min\n"
     ]
    },
    {
     "name": "stdout",
     "output_type": "stream",
     "text": [
      "Mejores Hiperparámetros: {'selector__k': 1000, 'clasifier__solver': 'saga', 'clasifier__penalty': 'elasticnet', 'clasifier__max_iter': 10000, 'clasifier__l1_ratios': [0.75]}\n",
      "Mejor Puntuación: 0.7580\n",
      "20231030T044538 : amilcar22 : INFO : Fin entrenamiento\n"
     ]
    }
   ],
   "source": [
    "myfunc.verbose(\"Iniciando entrenamiento\")\n",
    "\n",
    "kf = KFold(n_splits=5, shuffle=True, random_state=SEMILLA)\n",
    "\n",
    "# Crear el pipeline para el flujo de tareas\n",
    "tasks_pipeline = Pipeline([\n",
    "    ('selector', algor_selector),\n",
    "    ('clasifier', algor_clasifier)\n",
    "])\n",
    "\n",
    "# MAX_ITERS puede limitar el número de iteraciones si son excesivas para las combinaciones de parámetros buscando un óptimo local, \n",
    "# sino funcionaría como GridSearchCV al revisar todas las cominaciones de los parámetros\n",
    "num_iteraciones = 1\n",
    "num_iteraciones = num_iteraciones * np.prod([len(elemento1) for _, elemento1 in param_distributions.items()])\n",
    "max_iteraciones = num_iteraciones if num_iteraciones <= MAX_ITERS else MAX_ITERS\n",
    "print(\"num_iter:\",num_iteraciones,\", max_iter:\",max_iteraciones)\n",
    "\n",
    "random_search = RandomizedSearchCV(\n",
    "    tasks_pipeline, \n",
    "    param_distributions, \n",
    "    n_iter=max_iteraciones,\n",
    "    scoring=SCORING,\n",
    "    cv=kf,\n",
    "    verbose=3, \n",
    "    random_state=SEMILLA, \n",
    "    n_jobs=-1\n",
    "    )\n",
    "\n",
    "# Entrenar el modelo\n",
    "random_search.fit(X_train, y_train)\n",
    "\n",
    "# Ver los mejores hiperparámetros encontrados\n",
    "print(f'Mejores Hiperparámetros: {random_search.best_params_}')\n",
    "print(f'Mejor Puntuación: {random_search.best_score_:.4f}')\n",
    "\n",
    "# Nos quedamos con el mejor modelo para ver las métricas\n",
    "mejor_modelo = random_search.best_estimator_\n",
    "\n",
    "myfunc.verbose(\"Fin entrenamiento\")"
   ]
  },
  {
   "cell_type": "markdown",
   "id": "b342908e",
   "metadata": {
    "papermill": {
     "duration": 0.003615,
     "end_time": "2023-10-30T03:45:38.243743",
     "exception": false,
     "start_time": "2023-10-30T03:45:38.240128",
     "status": "completed"
    },
    "tags": []
   },
   "source": [
    "#### Guardar modelo"
   ]
  },
  {
   "cell_type": "code",
   "execution_count": 8,
   "id": "8a54c6cf",
   "metadata": {
    "execution": {
     "iopub.execute_input": "2023-10-30T03:45:38.250800Z",
     "iopub.status.busy": "2023-10-30T03:45:38.250551Z",
     "iopub.status.idle": "2023-10-30T03:45:38.260554Z",
     "shell.execute_reply": "2023-10-30T03:45:38.259946Z"
    },
    "papermill": {
     "duration": 0.015088,
     "end_time": "2023-10-30T03:45:38.261854",
     "exception": false,
     "start_time": "2023-10-30T03:45:38.246766",
     "status": "completed"
    },
    "tags": []
   },
   "outputs": [
    {
     "name": "stdout",
     "output_type": "stream",
     "text": [
      "20231030T044538 : amilcar22 : INFO : Inicio guardar fichero ../tfm_git/ejecuciones/modelos/modelo_1466_mul_s_MI_LR_EN.pkl\n",
      "20231030T044538 : amilcar22 : INFO : Fin guardar fichero ../tfm_git/ejecuciones/modelos/modelo_1466_mul_s_MI_LR_EN.pkl\n"
     ]
    }
   ],
   "source": [
    "fichero_modelo = str.replace(\"modelo_\"+str(SEMILLA).zfill(4)+\"_\"+M_TIPO+\"_\"+M_SELECT+\"_\"+M_CLASIF+\".pkl\", \" \", \"_\")\n",
    "\n",
    "myfunc.save_modelo(mejor_modelo, myfunc.MODEL_DIR, fichero_modelo)"
   ]
  },
  {
   "cell_type": "markdown",
   "id": "6a99b209",
   "metadata": {
    "papermill": {
     "duration": 0.003176,
     "end_time": "2023-10-30T03:45:38.268548",
     "exception": false,
     "start_time": "2023-10-30T03:45:38.265372",
     "status": "completed"
    },
    "tags": []
   },
   "source": [
    "#### Ver resultados del las iteraciones hechas por RandomSearchCV"
   ]
  },
  {
   "cell_type": "code",
   "execution_count": 9,
   "id": "81f1348b",
   "metadata": {
    "execution": {
     "iopub.execute_input": "2023-10-30T03:45:38.275663Z",
     "iopub.status.busy": "2023-10-30T03:45:38.275440Z",
     "iopub.status.idle": "2023-10-30T03:45:38.281630Z",
     "shell.execute_reply": "2023-10-30T03:45:38.281095Z"
    },
    "papermill": {
     "duration": 0.011184,
     "end_time": "2023-10-30T03:45:38.282835",
     "exception": false,
     "start_time": "2023-10-30T03:45:38.271651",
     "status": "completed"
    },
    "tags": []
   },
   "outputs": [
    {
     "name": "stdout",
     "output_type": "stream",
     "text": [
      "20231030T044538 : amilcar22 : INFO : Inicio ver resultados\n",
      "Mejores Hiperparámetros: {'selector__k': 1000, 'clasifier__solver': 'saga', 'clasifier__penalty': 'elasticnet', 'clasifier__max_iter': 10000, 'clasifier__l1_ratios': [0.75]}\n",
      "Mejores puntuaciones: 0.7580 | Params: {'selector__k': 1000, 'clasifier__solver': 'saga', 'clasifier__penalty': 'elasticnet', 'clasifier__max_iter': 10000, 'clasifier__l1_ratios': [0.75]}\n",
      "Media de las puntuaciones: 0.7580 | Params: {'selector__k': 1000, 'clasifier__solver': 'saga', 'clasifier__penalty': 'elasticnet', 'clasifier__max_iter': 10000, 'clasifier__l1_ratios': [0.75]}\n",
      "20231030T044538 : amilcar22 : INFO : Fin resultados\n"
     ]
    }
   ],
   "source": [
    "myfunc.ver_resultados_search(random_search)"
   ]
  },
  {
   "cell_type": "markdown",
   "id": "b01355cd",
   "metadata": {
    "papermill": {
     "duration": 0.003106,
     "end_time": "2023-10-30T03:45:38.289236",
     "exception": false,
     "start_time": "2023-10-30T03:45:38.286130",
     "status": "completed"
    },
    "tags": []
   },
   "source": [
    "#### Ver métricas del mejor modelo"
   ]
  },
  {
   "cell_type": "code",
   "execution_count": 10,
   "id": "b5c3b6a2",
   "metadata": {
    "execution": {
     "iopub.execute_input": "2023-10-30T03:45:38.296342Z",
     "iopub.status.busy": "2023-10-30T03:45:38.296138Z",
     "iopub.status.idle": "2023-10-30T03:45:38.899737Z",
     "shell.execute_reply": "2023-10-30T03:45:38.899253Z"
    },
    "papermill": {
     "duration": 0.60861,
     "end_time": "2023-10-30T03:45:38.901004",
     "exception": false,
     "start_time": "2023-10-30T03:45:38.292394",
     "status": "completed"
    },
    "tags": []
   },
   "outputs": [
    {
     "name": "stdout",
     "output_type": "stream",
     "text": [
      "20231030T044538 : amilcar22 : INFO : Inicio ver métricas multiclase\n",
      "              precision    recall  f1-score   support\n",
      "\n",
      "           0       0.50      0.36      0.42        11\n",
      "           1       0.80      0.50      0.62         8\n",
      "           2       0.33      0.25      0.29         8\n",
      "           3       0.29      0.40      0.33         5\n",
      "           4       0.67      1.00      0.80         8\n",
      "           5       0.50      0.33      0.40         6\n",
      "           6       0.50      0.83      0.62         6\n",
      "\n",
      "    accuracy                           0.52        52\n",
      "   macro avg       0.51      0.53      0.50        52\n",
      "weighted avg       0.53      0.52      0.50        52\n",
      "\n"
     ]
    },
    {
     "name": "stdout",
     "output_type": "stream",
     "text": [
      "\n",
      "\n",
      "           Exactitud: 0.519231\n",
      "   Precisión (media): 0.512245\n",
      "      Recall (media): 0.525758\n",
      "    F1-score (media): 0.497212\n",
      "\n",
      "\n",
      "AUC para el tipo de cáncer 0-Control.... 0.5831\n",
      "AUC para el tipo de cáncer 1-Bladder.... 0.9119\n",
      "AUC para el tipo de cáncer 2-Breast..... 0.6477\n",
      "AUC para el tipo de cáncer 3-Colorectal. 0.7830\n",
      "AUC para el tipo de cáncer 4-Kidney..... 0.9545\n",
      "AUC para el tipo de cáncer 5-Lung....... 0.9384\n",
      "AUC para el tipo de cáncer 6-Prostate... 0.8768\n",
      "\n",
      "Media de AUC: 0.8136\n"
     ]
    },
    {
     "data": {
      "image/png": "[encoded data removed]",
      "text/plain": [
       "<Figure size 1000x600 with 1 Axes>"
      ]
     },
     "metadata": {},
     "output_type": "display_data"
    },
    {
     "name": "stdout",
     "output_type": "stream",
     "text": [
      "\n",
      "\n"
     ]
    },
    {
     "data": {
      "image/png": "[encoded data removed]",
      "text/plain": [
       "<Figure size 800x400 with 2 Axes>"
      ]
     },
     "metadata": {},
     "output_type": "display_data"
    },
    {
     "name": "stdout",
     "output_type": "stream",
     "text": [
      "\n",
      "\n",
      "Puntuación Jaccard para el cáncer tipo 0-Control.... 0.2667\n",
      "Puntuación Jaccard para el cáncer tipo 1-Bladder.... 0.4444\n",
      "Puntuación Jaccard para el cáncer tipo 2-Breast..... 0.1667\n",
      "Puntuación Jaccard para el cáncer tipo 3-Colorectal. 0.2000\n",
      "Puntuación Jaccard para el cáncer tipo 4-Kidney..... 0.6667\n",
      "Puntuación Jaccard para el cáncer tipo 5-Lung....... 0.2500\n",
      "Puntuación Jaccard para el cáncer tipo 6-Prostate... 0.4545\n",
      "\n",
      "Media de la puntuación de Jaccard: 0.3499\n"
     ]
    }
   ],
   "source": [
    "if M_TIPO.startswith(\"bin\"):\n",
    "    myfunc.ver_metricas(mejor_modelo, X_test, y_test)\n",
    "else:\n",
    "    myfunc.ver_metricas_multi(mejor_modelo, X_test, y_test)\n"
   ]
  },
  {
   "cell_type": "markdown",
   "id": "8dbed5fb",
   "metadata": {
    "papermill": {
     "duration": 0.00416,
     "end_time": "2023-10-30T03:45:38.909830",
     "exception": false,
     "start_time": "2023-10-30T03:45:38.905670",
     "status": "completed"
    },
    "tags": []
   },
   "source": [
    "#### Finalización del notebook"
   ]
  },
  {
   "cell_type": "code",
   "execution_count": 11,
   "id": "5026cf54",
   "metadata": {
    "execution": {
     "iopub.execute_input": "2023-10-30T03:45:38.919099Z",
     "iopub.status.busy": "2023-10-30T03:45:38.918874Z",
     "iopub.status.idle": "2023-10-30T03:45:38.922551Z",
     "shell.execute_reply": "2023-10-30T03:45:38.922117Z"
    },
    "papermill": {
     "duration": 0.009639,
     "end_time": "2023-10-30T03:45:38.923626",
     "exception": false,
     "start_time": "2023-10-30T03:45:38.913987",
     "status": "completed"
    },
    "tags": []
   },
   "outputs": [
    {
     "name": "stdout",
     "output_type": "stream",
     "text": [
      "20231030T044538 : amilcar22 : INFO : Notebook ha tardado 1470 seconds\n"
     ]
    }
   ],
   "source": [
    "end_time = datetime.datetime.now()\n",
    "total_time = end_time - start_time\n",
    "myfunc.verbose(f\"Notebook ha tardado {total_time.seconds} seconds\")"
   ]
  },
  {
   "cell_type": "markdown",
   "id": "56778592",
   "metadata": {
    "papermill": {
     "duration": 0.004212,
     "end_time": "2023-10-30T03:45:38.932057",
     "exception": false,
     "start_time": "2023-10-30T03:45:38.927845",
     "status": "completed"
    },
    "tags": []
   },
   "source": [
    "#### Guardar métricas"
   ]
  },
  {
   "cell_type": "code",
   "execution_count": 12,
   "id": "7363c881",
   "metadata": {
    "execution": {
     "iopub.execute_input": "2023-10-30T03:45:38.941190Z",
     "iopub.status.busy": "2023-10-30T03:45:38.940993Z",
     "iopub.status.idle": "2023-10-30T03:45:39.135315Z",
     "shell.execute_reply": "2023-10-30T03:45:39.134810Z"
    },
    "papermill": {
     "duration": 0.201009,
     "end_time": "2023-10-30T03:45:39.137245",
     "exception": false,
     "start_time": "2023-10-30T03:45:38.936236",
     "status": "completed"
    },
    "tags": []
   },
   "outputs": [
    {
     "name": "stdout",
     "output_type": "stream",
     "text": [
      "20231030T044538 : amilcar22 : INFO : Inicio guardar métricas multiclase\n",
      "20231030T044538 : amilcar22 : INFO : Inicio leer fichero ../tfm_git/ejecuciones/metricas/metricas_1466.csv\n",
      "20231030T044538 : amilcar22 : INFO : Fin leer fichero ../tfm_git/ejecuciones/metricas/metricas_1466.csv\n"
     ]
    },
    {
     "name": "stdout",
     "output_type": "stream",
     "text": [
      "20231030T044539 : amilcar22 : INFO : Inicio guardar fichero ../tfm_git/ejecuciones/metricas/metricas_1466.csv\n",
      "20231030T044539 : amilcar22 : INFO : Fichero borrado ../tfm_git/ejecuciones/metricas/metricas_1466.csv\n",
      "20231030T044539 : amilcar22 : INFO : Fin guardar fichero ../tfm_git/ejecuciones/metricas/metricas_1466.csv\n",
      "20231030T044539 : amilcar22 : INFO : Fin guardar métricas multiclase\n",
      "20231030T044539 : amilcar22 : INFO : Inicio leer fichero ../tfm_git/ejecuciones/metricas/metricas_1466.csv\n"
     ]
    },
    {
     "name": "stdout",
     "output_type": "stream",
     "text": [
      "20231030T044539 : amilcar22 : INFO : Fin leer fichero ../tfm_git/ejecuciones/metricas/metricas_1466.csv\n"
     ]
    },
    {
     "data": {
      "text/html": [
       "<div>\n",
       "<style scoped>\n",
       "    .dataframe tbody tr th:only-of-type {\n",
       "        vertical-align: middle;\n",
       "    }\n",
       "\n",
       "    .dataframe tbody tr th {\n",
       "        vertical-align: top;\n",
       "    }\n",
       "\n",
       "    .dataframe thead th {\n",
       "        text-align: right;\n",
       "    }\n",
       "</style>\n",
       "<table border=\"1\" class=\"dataframe\">\n",
       "  <thead>\n",
       "    <tr style=\"text-align: right;\">\n",
       "      <th></th>\n",
       "      <th>tipo</th>\n",
       "      <th>select</th>\n",
       "      <th>clasific</th>\n",
       "      <th>semilla</th>\n",
       "      <th>accuracy</th>\n",
       "      <th>precision</th>\n",
       "      <th>recall</th>\n",
       "      <th>f1_score</th>\n",
       "      <th>roc_auc</th>\n",
       "      <th>hostname</th>\n",
       "      <th>total_time_sec</th>\n",
       "      <th>datetime</th>\n",
       "      <th>fichero_modelo</th>\n",
       "      <th>params</th>\n",
       "      <th>shape</th>\n",
       "      <th>features</th>\n",
       "      <th>roc_auc_ovr</th>\n",
       "      <th>indices_auc</th>\n",
       "      <th>indices_jaccard</th>\n",
       "    </tr>\n",
       "  </thead>\n",
       "  <tbody>\n",
       "    <tr>\n",
       "      <th>0</th>\n",
       "      <td>mul_s</td>\n",
       "      <td>MI</td>\n",
       "      <td>LR_EN</td>\n",
       "      <td>1466</td>\n",
       "      <td>0.519231</td>\n",
       "      <td>0.512245</td>\n",
       "      <td>0.525758</td>\n",
       "      <td>0.497212</td>\n",
       "      <td>NaN</td>\n",
       "      <td>amilcar22</td>\n",
       "      <td>1470</td>\n",
       "      <td>2023-10-30 04:45:39.100576</td>\n",
       "      <td>modelo_1466_mul_s_MI_LR_EN.pkl</td>\n",
       "      <td>{'selector__k': 1000, 'clasifier__solver': 'sa...</td>\n",
       "      <td>X_test:(52, 18875)</td>\n",
       "      <td>['ENSG00000003137.9', 'ENSG00000005513.10', 'E...</td>\n",
       "      <td>0.813650</td>\n",
       "      <td>[0.5831485587583148, 0.9119318181818182, 0.647...</td>\n",
       "      <td>[0.26666666666666666, 0.4444444444444444, 0.16...</td>\n",
       "    </tr>\n",
       "    <tr>\n",
       "      <th>0</th>\n",
       "      <td>mul_s</td>\n",
       "      <td>ANOVA</td>\n",
       "      <td>SVM</td>\n",
       "      <td>1466</td>\n",
       "      <td>0.365385</td>\n",
       "      <td>0.363152</td>\n",
       "      <td>0.374892</td>\n",
       "      <td>0.331833</td>\n",
       "      <td>NaN</td>\n",
       "      <td>amilcar22</td>\n",
       "      <td>2</td>\n",
       "      <td>2023-10-30 04:21:01.967320</td>\n",
       "      <td>modelo_1466_mul_s_ANOVA_SVM.pkl</td>\n",
       "      <td>{'selector__k': 200, 'clasifier__kernel': 'rbf...</td>\n",
       "      <td>X_test:(52, 18875)</td>\n",
       "      <td>['ENSG00000000938.13', 'ENSG00000005381.9', 'E...</td>\n",
       "      <td>0.756605</td>\n",
       "      <td>[0.43015521064301554, 0.8181818181818181, 0.66...</td>\n",
       "      <td>[0.08333333333333333, 0.5, 0.0, 0.071428571428...</td>\n",
       "    </tr>\n",
       "    <tr>\n",
       "      <th>0</th>\n",
       "      <td>mul_s</td>\n",
       "      <td>ANOVA</td>\n",
       "      <td>RF</td>\n",
       "      <td>1466</td>\n",
       "      <td>0.269231</td>\n",
       "      <td>0.238095</td>\n",
       "      <td>0.261797</td>\n",
       "      <td>0.245338</td>\n",
       "      <td>NaN</td>\n",
       "      <td>amilcar22</td>\n",
       "      <td>7</td>\n",
       "      <td>2023-10-30 04:20:53.049731</td>\n",
       "      <td>modelo_1466_mul_s_ANOVA_RF.pkl</td>\n",
       "      <td>{'selector__k': 500, 'clasifier__n_estimators'...</td>\n",
       "      <td>X_test:(52, 18875)</td>\n",
       "      <td>['ENSG00000000938.13', 'ENSG00000002919.15', '...</td>\n",
       "      <td>0.707277</td>\n",
       "      <td>[0.4079822616407982, 0.8125, 0.678977272727272...</td>\n",
       "      <td>[0.0625, 0.3333333333333333, 0.0, 0.0769230769...</td>\n",
       "    </tr>\n",
       "  </tbody>\n",
       "</table>\n",
       "</div>"
      ],
      "text/plain": [
       "    tipo select clasific  semilla  accuracy  precision    recall  f1_score  \\\n",
       "0  mul_s     MI    LR_EN     1466  0.519231   0.512245  0.525758  0.497212   \n",
       "0  mul_s  ANOVA      SVM     1466  0.365385   0.363152  0.374892  0.331833   \n",
       "0  mul_s  ANOVA       RF     1466  0.269231   0.238095  0.261797  0.245338   \n",
       "\n",
       "   roc_auc   hostname  total_time_sec                    datetime  \\\n",
       "0      NaN  amilcar22            1470  2023-10-30 04:45:39.100576   \n",
       "0      NaN  amilcar22               2  2023-10-30 04:21:01.967320   \n",
       "0      NaN  amilcar22               7  2023-10-30 04:20:53.049731   \n",
       "\n",
       "                    fichero_modelo  \\\n",
       "0   modelo_1466_mul_s_MI_LR_EN.pkl   \n",
       "0  modelo_1466_mul_s_ANOVA_SVM.pkl   \n",
       "0   modelo_1466_mul_s_ANOVA_RF.pkl   \n",
       "\n",
       "                                              params               shape  \\\n",
       "0  {'selector__k': 1000, 'clasifier__solver': 'sa...  X_test:(52, 18875)   \n",
       "0  {'selector__k': 200, 'clasifier__kernel': 'rbf...  X_test:(52, 18875)   \n",
       "0  {'selector__k': 500, 'clasifier__n_estimators'...  X_test:(52, 18875)   \n",
       "\n",
       "                                            features  roc_auc_ovr  \\\n",
       "0  ['ENSG00000003137.9', 'ENSG00000005513.10', 'E...     0.813650   \n",
       "0  ['ENSG00000000938.13', 'ENSG00000005381.9', 'E...     0.756605   \n",
       "0  ['ENSG00000000938.13', 'ENSG00000002919.15', '...     0.707277   \n",
       "\n",
       "                                         indices_auc  \\\n",
       "0  [0.5831485587583148, 0.9119318181818182, 0.647...   \n",
       "0  [0.43015521064301554, 0.8181818181818181, 0.66...   \n",
       "0  [0.4079822616407982, 0.8125, 0.678977272727272...   \n",
       "\n",
       "                                     indices_jaccard  \n",
       "0  [0.26666666666666666, 0.4444444444444444, 0.16...  \n",
       "0  [0.08333333333333333, 0.5, 0.0, 0.071428571428...  \n",
       "0  [0.0625, 0.3333333333333333, 0.0, 0.0769230769...  "
      ]
     },
     "metadata": {},
     "output_type": "display_data"
    }
   ],
   "source": [
    "if M_TIPO.startswith(\"bin\"):\n",
    "    myfunc.save_metricas_to_csv(random_search, X_test, y_test, M_TIPO, M_SELECT, M_CLASIF, total_time, SEMILLA, myfunc.MET_DIR, M_FICHERO, fichero_modelo)\n",
    "else:\n",
    "    myfunc.save_metricas_multi_to_csv(random_search, X_test, y_test, M_TIPO, M_SELECT, M_CLASIF, total_time, SEMILLA, myfunc.MET_DIR, M_FICHERO, fichero_modelo)\n",
    "\n",
    "df1=myfunc.read_metricas_to_df(myfunc.MET_DIR,M_FICHERO)\n",
    "\n",
    "display(df1.sort_values(\"datetime\", ascending=False)[:3])\n"
   ]
  },
  {
   "cell_type": "markdown",
   "id": "c8d83ba2",
   "metadata": {
    "papermill": {
     "duration": 0.009774,
     "end_time": "2023-10-30T03:45:39.157712",
     "exception": false,
     "start_time": "2023-10-30T03:45:39.147938",
     "status": "completed"
    },
    "tags": []
   },
   "source": [
    "#### Guardar resultados"
   ]
  },
  {
   "cell_type": "code",
   "execution_count": 13,
   "id": "867df7d6",
   "metadata": {
    "execution": {
     "iopub.execute_input": "2023-10-30T03:45:39.171079Z",
     "iopub.status.busy": "2023-10-30T03:45:39.170870Z",
     "iopub.status.idle": "2023-10-30T03:45:39.179328Z",
     "shell.execute_reply": "2023-10-30T03:45:39.178835Z"
    },
    "papermill": {
     "duration": 0.014771,
     "end_time": "2023-10-30T03:45:39.180553",
     "exception": false,
     "start_time": "2023-10-30T03:45:39.165782",
     "status": "completed"
    },
    "tags": []
   },
   "outputs": [
    {
     "name": "stdout",
     "output_type": "stream",
     "text": [
      "20231030T044539 : amilcar22 : INFO : Inicio guardar resultados\n",
      "20231030T044539 : amilcar22 : INFO : Inicio guardar fichero ../tfm_git/ejecuciones/metricas/resultados_1466_mul_s-MI-LR_EN.csv\n",
      "20231030T044539 : amilcar22 : INFO : Fin guardar fichero ../tfm_git/ejecuciones/metricas/resultados_1466_mul_s-MI-LR_EN.csv\n",
      "20231030T044539 : amilcar22 : INFO : Fin guardar resultados\n"
     ]
    }
   ],
   "source": [
    "fichero_resultados=R_FICHERO+\"_\"+M_TIPO+\"-\"+M_SELECT+\"-\"+M_CLASIF+\".csv\"\n",
    "myfunc.save_resultados_to_csv(M_TIPO, M_SELECT, M_CLASIF,  random_search, myfunc.MET_DIR, fichero_resultados)\n"
   ]
  }
 ],
 "metadata": {
  "kernelspec": {
   "display_name": "Python 3 (ipykernel)",
   "language": "python",
   "name": "python3"
  },
  "language_info": {
   "codemirror_mode": {
    "name": "ipython",
    "version": 3
   },
   "file_extension": ".py",
   "mimetype": "text/x-python",
   "name": "python",
   "nbconvert_exporter": "python",
   "pygments_lexer": "ipython3",
   "version": "3.10.12"
  },
  "papermill": {
   "default_parameters": {},
   "duration": 1475.657143,
   "end_time": "2023-10-30T03:45:41.804119",
   "environment_variables": {},
   "exception": null,
   "input_path": "03_entrenamiento.ipynb",
   "output_path": "ejecuciones/training/03_entrenamiento.20231030T042105.param_0000_1466_mul_s_MI_LR_EN.output.ipynb",
   "parameters": {
    "MAX_ITERS": 500,
    "M_CLASIF": "LR_EN",
    "M_FICHERO": "metricas_1466",
    "M_SELECT": "MI",
    "M_TIPO": "mul_s",
    "PRE_DATA_FILE": "rows_transpose_norm_by_gene_id_with_target_num_",
    "P_FICHERO": "param_0000_1466_mul_s_MI_LR_EN.yaml",
    "R_FICHERO": "resultados_1466",
    "SCORING": "roc_auc_ovr",
    "SEMILLA": 1466,
    "eval_clasifier": "LogisticRegressionCV(random_state=SEMILLA)",
    "eval_selector": "SelectKBest(score_func=mutual_info_classif_state)",
    "param_distributions": {
     "clasifier__l1_ratios": [
      [
       0.75
      ]
     ],
     "clasifier__max_iter": [
      10000
     ],
     "clasifier__penalty": [
      "elasticnet"
     ],
     "clasifier__solver": [
      "saga"
     ],
     "selector__k": [
      1000
     ]
    }
   },
   "start_time": "2023-10-30T03:21:06.146976",
   "version": "2.4.0"
  }
 },
 "nbformat": 4,
 "nbformat_minor": 5
}