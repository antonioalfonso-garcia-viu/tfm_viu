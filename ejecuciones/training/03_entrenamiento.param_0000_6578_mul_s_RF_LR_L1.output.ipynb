{
 "cells": [
  {
   "cell_type": "markdown",
   "id": "8d33edb2",
   "metadata": {
    "papermill": {
     "duration": 0.008756,
     "end_time": "2023-10-30T19:02:19.132895",
     "exception": false,
     "start_time": "2023-10-30T19:02:19.124139",
     "status": "completed"
    },
    "tags": []
   },
   "source": [
    "##### Inicio"
   ]
  },
  {
   "cell_type": "markdown",
   "id": "8947c345",
   "metadata": {
    "papermill": {
     "duration": 0.007169,
     "end_time": "2023-10-30T19:02:19.148975",
     "exception": false,
     "start_time": "2023-10-30T19:02:19.141806",
     "status": "completed"
    },
    "tags": []
   },
   "source": [
    "#### Carga de datos"
   ]
  },
  {
   "cell_type": "code",
   "execution_count": 1,
   "id": "77562410",
   "metadata": {
    "execution": {
     "iopub.execute_input": "2023-10-30T19:02:19.157503Z",
     "iopub.status.busy": "2023-10-30T19:02:19.156501Z",
     "iopub.status.idle": "2023-10-30T19:02:20.335151Z",
     "shell.execute_reply": "2023-10-30T19:02:20.335151Z"
    },
    "papermill": {
     "duration": 1.182671,
     "end_time": "2023-10-30T19:02:20.336171",
     "exception": false,
     "start_time": "2023-10-30T19:02:19.153500",
     "status": "completed"
    },
    "tags": []
   },
   "outputs": [
    {
     "name": "stdout",
     "output_type": "stream",
     "text": [
      "CPU_COUNT: 24; NODE: amilcar32; sys.version: 3.10.12 | packaged by Anaconda, Inc. | (main, Jul  5 2023, 19:09:20) [MSC v.1916 64 bit (AMD64)]\n",
      "LOKY_MAX_CPU_COUNT is not set.\n",
      "OMP_NUM_THREADS is not set.\n"
     ]
    }
   ],
   "source": [
    "import os\n",
    "import numpy as np\n",
    "import pandas as pd\n",
    "import datetime\n",
    "import sklearn\n",
    "import logging\n",
    "import warnings\n",
    "\n",
    "from sklearn.pipeline import Pipeline\n",
    "from sklearn.model_selection import RandomizedSearchCV, KFold, cross_val_score, train_test_split\n",
    "from sklearn.metrics import accuracy_score, confusion_matrix, classification_report, roc_auc_score\n",
    "\n",
    "#  cargar algoritmos para aprendizaje supervisado\n",
    "from sklearn.feature_selection import SelectKBest, f_classif, SelectFromModel, mutual_info_classif\n",
    "from sklearn.svm import SVC\n",
    "from sklearn.ensemble import RandomForestClassifier\n",
    "from sklearn.linear_model import LogisticRegression,LogisticRegressionCV\n",
    "\n",
    "# importar fichero con utilidades propias\n",
    "from commons import myfunctions as myfunc\n"
   ]
  },
  {
   "cell_type": "markdown",
   "id": "aa781c1c",
   "metadata": {
    "papermill": {
     "duration": 0.002953,
     "end_time": "2023-10-30T19:02:20.342892",
     "exception": false,
     "start_time": "2023-10-30T19:02:20.339939",
     "status": "completed"
    },
    "tags": []
   },
   "source": [
    "#### Parámetros a utilizar en el entrenamiento.\n",
    "\n",
    "Se indican los 3 algoritmos de *selección de características* (eval_selector_xxx) y los 3 algoritmos para la _clasificación_ (eval_clasifier_xxx)\n",
    "\n",
    "En *param_distributions* se indicar los parámetros que utilizan los algoritmos en la función RandomSearchCV.\n",
    "\n",
    "Esta celda tiene la etiqueta **parameters** que servirá para poder lanzar los entrenamientos con la utilidad **papermill** pasándole un fichero con los parámetros. Los nuevos parámetros se situarán tras esta celda para tener prevalencia."
   ]
  },
  {
   "cell_type": "code",
   "execution_count": 2,
   "id": "117a8046",
   "metadata": {
    "execution": {
     "iopub.execute_input": "2023-10-30T19:02:20.348892Z",
     "iopub.status.busy": "2023-10-30T19:02:20.348892Z",
     "iopub.status.idle": "2023-10-30T19:02:20.366050Z",
     "shell.execute_reply": "2023-10-30T19:02:20.366050Z"
    },
    "papermill": {
     "duration": 0.022152,
     "end_time": "2023-10-30T19:02:20.368044",
     "exception": false,
     "start_time": "2023-10-30T19:02:20.345892",
     "status": "completed"
    },
    "tags": [
     "parameters"
    ]
   },
   "outputs": [
    {
     "name": "stdout",
     "output_type": "stream",
     "text": [
      "20231030T200220 : amilcar32 : INFO : Utilizando parámetros de mul_m\n"
     ]
    }
   ],
   "source": [
    "#  Parametros para el entrenamiento\n",
    "\n",
    "SEMILLA=        42\n",
    "M_TIPO=         \"mul_m\"\n",
    "M_SELECT=       \"MI\"\n",
    "M_CLASIF=       \"SVM\"\n",
    "R_FICHERO=      \"resultados\"\n",
    "M_FICHERO=      \"metricas\"\n",
    "PRE_DATA_FILE=  \"rows_transpose_norm_by_gene_id_with_target_num_\"\n",
    "SCORING=        \"roc_auc_ovr\" \n",
    "MAX_ITERS=      100\n",
    "\n",
    "def mutual_info_classif_state(X, y):\n",
    "    return mutual_info_classif(X, y, random_state=SEMILLA)\n",
    "\n",
    "eval_selector_mi = \"SelectKBest(score_func=mutual_info_classif_state)\"\n",
    "eval_selector_rf=  \"SelectFromModel(estimator=RandomForestClassifier(random_state=SEMILLA), threshold=-np.inf)\"\n",
    "eval_selector_anova=  \"SelectKBest(score_func=f_classif)\"\n",
    "\n",
    "eval_clasifier_svm= \"SVC(probability=True, random_state=SEMILLA)\"\n",
    "eval_clasifier_rf= \"RandomForestClassifier(random_state=SEMILLA)\"\n",
    "eval_clasifier_lr= \"LogisticRegressionCV(random_state=SEMILLA)\"\n",
    "\n",
    "if M_TIPO.startswith(\"bin_m\"):\n",
    "    myfunc.verbose(f\"Utilizando parámetros de {M_TIPO}\")\n",
    "    eval_selector = eval_selector_mi\n",
    "    eval_clasifier = eval_clasifier_svm\n",
    "\n",
    "    SEMILLA = 6578\n",
    "    M_SELECT = \"MI\"\n",
    "    M_CLASIF = \"SVM\"\n",
    "    param_distributions = {'selector__k': [1000], \n",
    "         'clasifier__kernel': ['rbf'], 'clasifier__gamma': [0.01], 'clasifier__C': [100]}\n",
    "elif M_TIPO.startswith(\"bin_s\"):\n",
    "    myfunc.verbose(f\"Utilizando parámetros de {M_TIPO}\")\n",
    "    eval_selector = eval_selector_rf\n",
    "    eval_clasifier = eval_clasifier_lr\n",
    "\n",
    "    SEMILLA = 6191\n",
    "    M_SELECT = \"RF\"\n",
    "    M_CLASIF = \"LR_L2\"\n",
    "    param_distributions = {'selector__max_features': [1000], 'selector__estimator__n_estimators': [200], \n",
    "        'clasifier__solver': ['lbfgs'], 'clasifier__penalty': ['l2'], 'clasifier__max_iter': [10000]}\n",
    "\n",
    "elif M_TIPO.startswith(\"mul_m\"):\n",
    "    myfunc.verbose(f\"Utilizando parámetros de {M_TIPO}\")\n",
    " \n",
    "    eval_selector = eval_selector_rf\n",
    "    eval_clasifier = eval_clasifier_lr\n",
    "\n",
    "    SEMILLA = 6191\n",
    "    M_SELECT = \"RF\"\n",
    "    M_CLASIF = \"LR_L2\"\n",
    "    param_distributions = {'selector__max_features': [1000], 'selector__estimator__n_estimators': [400], \n",
    "        'clasifier__solver': ['lbfgs'], 'clasifier__penalty': ['l2'], 'clasifier__max_iter': [10000]}\n",
    "\n",
    "else:\n",
    "    # M_TIPO.startswith(\"mul_s\"):\n",
    "    myfunc.verbose(f\"Utilizando parámetros de {M_TIPO}\")\n",
    "    eval_selector = eval_selector_anova\n",
    "    eval_clasifier = eval_clasifier_lr\n",
    "\n",
    "    SEMILLA = 1860\n",
    "    M_SELECT = \"ANOVA\"\n",
    "    M_CLASIF = \"LR_L2\"\n",
    "    param_distributions = {'selector__k': [1000], \n",
    "        'clasifier__solver': ['saga'], 'clasifier__penalty': ['l2'], 'clasifier__max_iter': [10000]}\n",
    "\n"
   ]
  },
  {
   "cell_type": "code",
   "execution_count": 3,
   "id": "e6b37812",
   "metadata": {
    "execution": {
     "iopub.execute_input": "2023-10-30T19:02:20.375652Z",
     "iopub.status.busy": "2023-10-30T19:02:20.375652Z",
     "iopub.status.idle": "2023-10-30T19:02:20.380703Z",
     "shell.execute_reply": "2023-10-30T19:02:20.380703Z"
    },
    "papermill": {
     "duration": 0.01005,
     "end_time": "2023-10-30T19:02:20.381703",
     "exception": false,
     "start_time": "2023-10-30T19:02:20.371653",
     "status": "completed"
    },
    "tags": [
     "injected-parameters"
    ]
   },
   "outputs": [],
   "source": [
    "# Parameters\n",
    "M_TIPO = \"mul_s\"\n",
    "M_SELECT = \"RF\"\n",
    "M_CLASIF = \"LR_L1\"\n",
    "P_FICHERO = \"param_0000_6578_mul_s_RF_LR_L1.yaml\"\n",
    "R_FICHERO = \"resultados_6578\"\n",
    "M_FICHERO = \"metricas_6578\"\n",
    "PRE_DATA_FILE = \"rows_transpose_norm_by_gene_id_with_target_num_\"\n",
    "SCORING = \"roc_auc_ovr\"\n",
    "SEMILLA = 6578\n",
    "MAX_ITERS = 500\n",
    "eval_selector = \"SelectFromModel(estimator=RandomForestClassifier(random_state=SEMILLA), threshold=-np.inf)\"\n",
    "eval_clasifier = \"LogisticRegressionCV(random_state=SEMILLA)\"\n",
    "param_distributions = {\n",
    "    \"selector__max_features\": [500],\n",
    "    \"selector__estimator__n_estimators\": [100],\n",
    "    \"clasifier__solver\": [\"saga\"],\n",
    "    \"clasifier__penalty\": [\"l1\"],\n",
    "    \"clasifier__max_iter\": [10000],\n",
    "}\n"
   ]
  },
  {
   "cell_type": "code",
   "execution_count": 4,
   "id": "a6794c9e",
   "metadata": {
    "execution": {
     "iopub.execute_input": "2023-10-30T19:02:20.389723Z",
     "iopub.status.busy": "2023-10-30T19:02:20.388702Z",
     "iopub.status.idle": "2023-10-30T19:02:20.396511Z",
     "shell.execute_reply": "2023-10-30T19:02:20.396511Z"
    },
    "papermill": {
     "duration": 0.014446,
     "end_time": "2023-10-30T19:02:20.399156",
     "exception": false,
     "start_time": "2023-10-30T19:02:20.384710",
     "status": "completed"
    },
    "tags": []
   },
   "outputs": [],
   "source": [
    "DATA_FILE = PRE_DATA_FILE + M_TIPO\n",
    "\n",
    "# si viene \"None\" en el parámetro max_depth, se le quitan las comillas para que no sea entendido por el algoritmo como un texto\n",
    "if \"clasifier__max_depth\" in param_distributions:\n",
    "    param_distributions['clasifier__max_depth'] = [None if x == 'None' else x for x in param_distributions['clasifier__max_depth']]"
   ]
  },
  {
   "cell_type": "markdown",
   "id": "2e4cef1d",
   "metadata": {
    "papermill": {
     "duration": 0.002991,
     "end_time": "2023-10-30T19:02:20.406241",
     "exception": false,
     "start_time": "2023-10-30T19:02:20.403250",
     "status": "completed"
    },
    "tags": []
   },
   "source": [
    "Asignar los algoritmos que se utilizarán en la función RandomSearchCV"
   ]
  },
  {
   "cell_type": "code",
   "execution_count": 5,
   "id": "7330257b",
   "metadata": {
    "execution": {
     "iopub.execute_input": "2023-10-30T19:02:20.413024Z",
     "iopub.status.busy": "2023-10-30T19:02:20.411966Z",
     "iopub.status.idle": "2023-10-30T19:02:20.427799Z",
     "shell.execute_reply": "2023-10-30T19:02:20.426804Z"
    },
    "papermill": {
     "duration": 0.020381,
     "end_time": "2023-10-30T19:02:20.429312",
     "exception": false,
     "start_time": "2023-10-30T19:02:20.408931",
     "status": "completed"
    },
    "tags": []
   },
   "outputs": [],
   "source": [
    "algor_selector=eval(eval_selector)\n",
    "algor_clasifier=eval(eval_clasifier)"
   ]
  },
  {
   "cell_type": "markdown",
   "id": "15790e3c",
   "metadata": {
    "papermill": {
     "duration": 0.004019,
     "end_time": "2023-10-30T19:02:20.437857",
     "exception": false,
     "start_time": "2023-10-30T19:02:20.433838",
     "status": "completed"
    },
    "tags": []
   },
   "source": [
    "#### Comprobar el entorno y leer fichero de muestras"
   ]
  },
  {
   "cell_type": "code",
   "execution_count": 6,
   "id": "a019e458",
   "metadata": {
    "execution": {
     "iopub.execute_input": "2023-10-30T19:02:20.444868Z",
     "iopub.status.busy": "2023-10-30T19:02:20.444868Z",
     "iopub.status.idle": "2023-10-30T19:02:20.571090Z",
     "shell.execute_reply": "2023-10-30T19:02:20.571090Z"
    },
    "papermill": {
     "duration": 0.131229,
     "end_time": "2023-10-30T19:02:20.572089",
     "exception": false,
     "start_time": "2023-10-30T19:02:20.440860",
     "status": "completed"
    },
    "tags": []
   },
   "outputs": [
    {
     "name": "stdout",
     "output_type": "stream",
     "text": [
      "20231030T200220 : amilcar32 : INFO : Encontrada carpeta DATA_DIR=..\\tfm_viu\\datos\n",
      "20231030T200220 : amilcar32 : INFO : Encontrada carpeta CFDNA_DIR=..\\tfm_viu\\datos\\cfDNA_5hmC\n",
      "20231030T200220 : amilcar32 : INFO : Encontrada carpeta GENCODE_DIR=..\\tfm_viu\\datos\\gencode\n",
      "20231030T200220 : amilcar32 : INFO : Encontrada carpeta H5_DIR=..\\tfm_viu\\datos\\h5\n",
      "20231030T200220 : amilcar32 : INFO : Encontrada carpeta LOG_DIR=..\\tfm_viu\\datos\\logs\n",
      "20231030T200220 : amilcar32 : INFO : Encontrada carpeta CSV_DIR=..\\tfm_viu\\datos\\csv\n",
      "20231030T200220 : amilcar32 : INFO : Encontrada carpeta MODEL_DIR=..\\tfm_viu\\ejecuciones\\modelos\n",
      "20231030T200220 : amilcar32 : INFO : Encontrada carpeta EXEC_DIR=..\\tfm_viu\\ejecuciones\n",
      "20231030T200220 : amilcar32 : INFO : Encontrada carpeta MET_DIR=..\\tfm_viu\\ejecuciones\\metricas\n",
      "20231030T200220 : amilcar32 : INFO : Inicio leer fichero h5 ..\\tfm_viu\\datos\\h5\\rows_transpose_norm_by_gene_id_with_target_num_mul_s.h5\n",
      "20231030T200220 : amilcar32 : INFO : Leyendo clave /df\n",
      "20231030T200220 : amilcar32 : INFO : Tamaño (259, 18876)\n",
      "20231030T200220 : amilcar32 : INFO : Fin leer fichero h5 ..\\tfm_viu\\datos\\h5\\rows_transpose_norm_by_gene_id_with_target_num_mul_s.h5\n"
     ]
    },
    {
     "data": {
      "text/plain": [
       "target\n",
       "0    37\n",
       "1    37\n",
       "2    37\n",
       "3    37\n",
       "4    37\n",
       "5    37\n",
       "6    37\n",
       "dtype: int64"
      ]
     },
     "metadata": {},
     "output_type": "display_data"
    },
    {
     "name": "stdout",
     "output_type": "stream",
     "text": [
      "Shape df: (259, 18876)\n",
      "Shape X_train: (207, 18875)\n",
      "Shape X_test: (52, 18875)\n"
     ]
    }
   ],
   "source": [
    "start_time = datetime.datetime.now()\n",
    "\n",
    "myfunc.reset_vars()\n",
    "\n",
    "myfunc.NOTEBK_FILENAME = myfunc.get_nb_name()\n",
    "\n",
    "myfunc.check_enviroment(myfunc.DATA_DIR, myfunc.CFDNA_DIR, myfunc.GENCODE_DIR, myfunc.H5_DIR, myfunc.LOG_DIR, myfunc.CSV_DIR, myfunc.MODEL_DIR, myfunc.EXEC_DIR, myfunc.MET_DIR)\n",
    "\n",
    "# Leer fichero con las muestras\n",
    "df_t = myfunc.read_h5_to_df(DATA_FILE, myfunc.H5_DIR)\n",
    "display(df_t.groupby(\"target\").size())\n",
    "print(\"Shape df:\",df_t.shape)\n",
    "\n",
    "# Separar caracteristicas/genes de las etiquetas/tipos de cáncer\n",
    "X = df_t.iloc[:, :-1]  # Todas las columnas excepto la última\n",
    "y = df_t.iloc[:, -1]  # La última columna contiene los identificadores de los tipos de cáncer\n",
    "\n",
    "#  Crear el conjunto de datos de entrenamiento y de pruebas, y se fija la semilla para siempre coger el mismo juego de muestras\n",
    "X_train, X_test, y_train, y_test = train_test_split(X, y, test_size=0.2, shuffle=True, random_state=42)\n",
    "print(\"Shape X_train:\",X_train.shape)\n",
    "print(\"Shape X_test:\",X_test.shape)\n"
   ]
  },
  {
   "cell_type": "markdown",
   "id": "feb59cc9",
   "metadata": {
    "papermill": {
     "duration": 0.002503,
     "end_time": "2023-10-30T19:02:20.578593",
     "exception": false,
     "start_time": "2023-10-30T19:02:20.576090",
     "status": "completed"
    },
    "tags": []
   },
   "source": [
    "#### Selección de características y clasificación."
   ]
  },
  {
   "cell_type": "code",
   "execution_count": 7,
   "id": "e84b4206",
   "metadata": {
    "execution": {
     "iopub.execute_input": "2023-10-30T19:02:20.586598Z",
     "iopub.status.busy": "2023-10-30T19:02:20.586598Z",
     "iopub.status.idle": "2023-10-30T19:12:31.573220Z",
     "shell.execute_reply": "2023-10-30T19:12:31.572379Z"
    },
    "papermill": {
     "duration": 610.994698,
     "end_time": "2023-10-30T19:12:31.577296",
     "exception": false,
     "start_time": "2023-10-30T19:02:20.582598",
     "status": "completed"
    },
    "tags": []
   },
   "outputs": [
    {
     "name": "stdout",
     "output_type": "stream",
     "text": [
      "20231030T200220 : amilcar32 : INFO : Iniciando entrenamiento\n",
      "num_iter: 1 , max_iter: 1\n",
      "Fitting 5 folds for each of 1 candidates, totalling 5 fits\n"
     ]
    },
    {
     "name": "stdout",
     "output_type": "stream",
     "text": [
      "Mejores Hiperparámetros: {'selector__max_features': 500, 'selector__estimator__n_estimators': 100, 'clasifier__solver': 'saga', 'clasifier__penalty': 'l1', 'clasifier__max_iter': 10000}\n",
      "Mejor Puntuación: 0.8019\n",
      "20231030T201231 : amilcar32 : INFO : Fin entrenamiento\n"
     ]
    }
   ],
   "source": [
    "myfunc.verbose(\"Iniciando entrenamiento\")\n",
    "\n",
    "kf = KFold(n_splits=5, shuffle=True, random_state=SEMILLA)\n",
    "\n",
    "# Crear el pipeline para el flujo de tareas\n",
    "tasks_pipeline = Pipeline([\n",
    "    ('selector', algor_selector),\n",
    "    ('clasifier', algor_clasifier)\n",
    "])\n",
    "\n",
    "# MAX_ITERS puede limitar el número de iteraciones si son excesivas para las combinaciones de parámetros buscando un óptimo local, \n",
    "# sino funcionaría como GridSearchCV al revisar todas las cominaciones de los parámetros\n",
    "num_iteraciones = 1\n",
    "num_iteraciones = num_iteraciones * np.prod([len(elemento1) for _, elemento1 in param_distributions.items()])\n",
    "max_iteraciones = num_iteraciones if num_iteraciones <= MAX_ITERS else MAX_ITERS\n",
    "print(\"num_iter:\",num_iteraciones,\", max_iter:\",max_iteraciones)\n",
    "\n",
    "random_search = RandomizedSearchCV(\n",
    "    tasks_pipeline, \n",
    "    param_distributions, \n",
    "    n_iter=max_iteraciones,\n",
    "    scoring=SCORING,\n",
    "    cv=kf,\n",
    "    verbose=3, \n",
    "    random_state=SEMILLA, \n",
    "    n_jobs=-1\n",
    "    )\n",
    "\n",
    "# Entrenar el modelo\n",
    "random_search.fit(X_train, y_train)\n",
    "\n",
    "# Ver los mejores hiperparámetros encontrados\n",
    "print(f'Mejores Hiperparámetros: {random_search.best_params_}')\n",
    "print(f'Mejor Puntuación: {random_search.best_score_:.4f}')\n",
    "\n",
    "# Nos quedamos con el mejor modelo para ver las métricas\n",
    "mejor_modelo = random_search.best_estimator_\n",
    "\n",
    "myfunc.verbose(\"Fin entrenamiento\")"
   ]
  },
  {
   "cell_type": "markdown",
   "id": "6a38738d",
   "metadata": {
    "papermill": {
     "duration": 0.009423,
     "end_time": "2023-10-30T19:12:31.596149",
     "exception": false,
     "start_time": "2023-10-30T19:12:31.586726",
     "status": "completed"
    },
    "tags": []
   },
   "source": [
    "#### Guardar modelo"
   ]
  },
  {
   "cell_type": "code",
   "execution_count": 8,
   "id": "0a7c2393",
   "metadata": {
    "execution": {
     "iopub.execute_input": "2023-10-30T19:12:31.609739Z",
     "iopub.status.busy": "2023-10-30T19:12:31.609739Z",
     "iopub.status.idle": "2023-10-30T19:12:31.682933Z",
     "shell.execute_reply": "2023-10-30T19:12:31.681916Z"
    },
    "papermill": {
     "duration": 0.083262,
     "end_time": "2023-10-30T19:12:31.685930",
     "exception": false,
     "start_time": "2023-10-30T19:12:31.602668",
     "status": "completed"
    },
    "tags": []
   },
   "outputs": [
    {
     "name": "stdout",
     "output_type": "stream",
     "text": [
      "20231030T201231 : amilcar32 : INFO : Inicio guardar fichero ..\\tfm_viu\\ejecuciones\\modelos\\modelo_6578_mul_s_RF_LR_L1.pkl\n",
      "20231030T201231 : amilcar32 : INFO : Fin guardar fichero ..\\tfm_viu\\ejecuciones\\modelos\\modelo_6578_mul_s_RF_LR_L1.pkl\n"
     ]
    }
   ],
   "source": [
    "fichero_modelo = str.replace(\"modelo_\"+str(SEMILLA).zfill(4)+\"_\"+M_TIPO+\"_\"+M_SELECT+\"_\"+M_CLASIF+\".pkl\", \" \", \"_\")\n",
    "\n",
    "myfunc.save_modelo(mejor_modelo, myfunc.MODEL_DIR, fichero_modelo)"
   ]
  },
  {
   "cell_type": "markdown",
   "id": "01eb0012",
   "metadata": {
    "papermill": {
     "duration": 0.004998,
     "end_time": "2023-10-30T19:12:31.696716",
     "exception": false,
     "start_time": "2023-10-30T19:12:31.691718",
     "status": "completed"
    },
    "tags": []
   },
   "source": [
    "#### Ver resultados del las iteraciones hechas por RandomSearchCV"
   ]
  },
  {
   "cell_type": "code",
   "execution_count": 9,
   "id": "1fcc0887",
   "metadata": {
    "execution": {
     "iopub.execute_input": "2023-10-30T19:12:31.711660Z",
     "iopub.status.busy": "2023-10-30T19:12:31.711660Z",
     "iopub.status.idle": "2023-10-30T19:12:31.730983Z",
     "shell.execute_reply": "2023-10-30T19:12:31.729987Z"
    },
    "papermill": {
     "duration": 0.030741,
     "end_time": "2023-10-30T19:12:31.731989",
     "exception": false,
     "start_time": "2023-10-30T19:12:31.701248",
     "status": "completed"
    },
    "tags": []
   },
   "outputs": [
    {
     "name": "stdout",
     "output_type": "stream",
     "text": [
      "20231030T201231 : amilcar32 : INFO : Inicio ver resultados\n",
      "Mejores Hiperparámetros: {'selector__max_features': 500, 'selector__estimator__n_estimators': 100, 'clasifier__solver': 'saga', 'clasifier__penalty': 'l1', 'clasifier__max_iter': 10000}\n",
      "Mejores puntuaciones: 0.8019 | Params: {'selector__max_features': 500, 'selector__estimator__n_estimators': 100, 'clasifier__solver': 'saga', 'clasifier__penalty': 'l1', 'clasifier__max_iter': 10000}\n",
      "Media de las puntuaciones: 0.8019 | Params: {'selector__max_features': 500, 'selector__estimator__n_estimators': 100, 'clasifier__solver': 'saga', 'clasifier__penalty': 'l1', 'clasifier__max_iter': 10000}\n",
      "20231030T201231 : amilcar32 : INFO : Fin resultados\n"
     ]
    }
   ],
   "source": [
    "myfunc.ver_resultados_search(random_search)"
   ]
  },
  {
   "cell_type": "markdown",
   "id": "944b3c48",
   "metadata": {
    "papermill": {
     "duration": 0.008364,
     "end_time": "2023-10-30T19:12:31.745350",
     "exception": false,
     "start_time": "2023-10-30T19:12:31.736986",
     "status": "completed"
    },
    "tags": []
   },
   "source": [
    "#### Ver métricas del mejor modelo"
   ]
  },
  {
   "cell_type": "code",
   "execution_count": 10,
   "id": "c67c66a3",
   "metadata": {
    "execution": {
     "iopub.execute_input": "2023-10-30T19:12:31.764029Z",
     "iopub.status.busy": "2023-10-30T19:12:31.762522Z",
     "iopub.status.idle": "2023-10-30T19:12:33.414930Z",
     "shell.execute_reply": "2023-10-30T19:12:33.413930Z"
    },
    "papermill": {
     "duration": 1.665996,
     "end_time": "2023-10-30T19:12:33.417932",
     "exception": false,
     "start_time": "2023-10-30T19:12:31.751936",
     "status": "completed"
    },
    "tags": []
   },
   "outputs": [
    {
     "name": "stdout",
     "output_type": "stream",
     "text": [
      "20231030T201231 : amilcar32 : INFO : Inicio ver métricas multiclase\n"
     ]
    },
    {
     "name": "stdout",
     "output_type": "stream",
     "text": [
      "              precision    recall  f1-score   support\n",
      "\n",
      "           0       0.22      0.18      0.20        11\n",
      "           1       0.33      0.12      0.18         8\n",
      "           2       0.20      0.12      0.15         8\n",
      "           3       0.10      0.20      0.13         5\n",
      "           4       0.75      0.75      0.75         8\n",
      "           5       0.20      0.17      0.18         6\n",
      "           6       0.25      0.50      0.33         6\n",
      "\n",
      "    accuracy                           0.29        52\n",
      "   macro avg       0.29      0.29      0.28        52\n",
      "weighted avg       0.31      0.29      0.28        52\n",
      "\n",
      "\n",
      "\n",
      "           Exactitud: 0.288462\n",
      "   Precisión (media): 0.293651\n",
      "      Recall (media): 0.292641\n",
      "    F1-score (media): 0.276307\n",
      "\n",
      "\n",
      "AUC para el tipo de cáncer 0-Control.... 0.5100\n",
      "AUC para el tipo de cáncer 1-Bladder.... 0.8040\n",
      "AUC para el tipo de cáncer 2-Breast..... 0.6364\n",
      "AUC para el tipo de cáncer 3-Colorectal. 0.5787\n",
      "AUC para el tipo de cáncer 4-Kidney..... 0.8977\n",
      "AUC para el tipo de cáncer 5-Lung....... 0.8587\n",
      "AUC para el tipo de cáncer 6-Prostate... 0.8732\n",
      "\n",
      "Media de AUC: 0.7370\n"
     ]
    },
    {
     "data": {
      "image/png": "[encoded data removed]",
      "text/plain": [
       "<Figure size 1000x600 with 1 Axes>"
      ]
     },
     "metadata": {},
     "output_type": "display_data"
    },
    {
     "name": "stdout",
     "output_type": "stream",
     "text": [
      "\n",
      "\n"
     ]
    },
    {
     "data": {
      "image/png": "[encoded data removed]",
      "text/plain": [
       "<Figure size 800x400 with 2 Axes>"
      ]
     },
     "metadata": {},
     "output_type": "display_data"
    },
    {
     "name": "stdout",
     "output_type": "stream",
     "text": [
      "\n",
      "\n",
      "Puntuación Jaccard para el cáncer tipo 0-Control.... 0.1111\n",
      "Puntuación Jaccard para el cáncer tipo 1-Bladder.... 0.1000\n",
      "Puntuación Jaccard para el cáncer tipo 2-Breast..... 0.0833\n",
      "Puntuación Jaccard para el cáncer tipo 3-Colorectal. 0.0714\n",
      "Puntuación Jaccard para el cáncer tipo 4-Kidney..... 0.6000\n",
      "Puntuación Jaccard para el cáncer tipo 5-Lung....... 0.1000\n",
      "Puntuación Jaccard para el cáncer tipo 6-Prostate... 0.2000\n",
      "\n",
      "Media de la puntuación de Jaccard: 0.1808\n"
     ]
    }
   ],
   "source": [
    "if M_TIPO.startswith(\"bin\"):\n",
    "    myfunc.ver_metricas(mejor_modelo, X_test, y_test)\n",
    "else:\n",
    "    myfunc.ver_metricas_multi(mejor_modelo, X_test, y_test)\n"
   ]
  },
  {
   "cell_type": "markdown",
   "id": "406261c6",
   "metadata": {
    "papermill": {
     "duration": 0.014621,
     "end_time": "2023-10-30T19:12:33.449152",
     "exception": false,
     "start_time": "2023-10-30T19:12:33.434531",
     "status": "completed"
    },
    "tags": []
   },
   "source": [
    "#### Finalización del notebook"
   ]
  },
  {
   "cell_type": "code",
   "execution_count": 11,
   "id": "1e48f2de",
   "metadata": {
    "execution": {
     "iopub.execute_input": "2023-10-30T19:12:33.481721Z",
     "iopub.status.busy": "2023-10-30T19:12:33.480708Z",
     "iopub.status.idle": "2023-10-30T19:12:33.492910Z",
     "shell.execute_reply": "2023-10-30T19:12:33.491971Z"
    },
    "papermill": {
     "duration": 0.030395,
     "end_time": "2023-10-30T19:12:33.495974",
     "exception": false,
     "start_time": "2023-10-30T19:12:33.465579",
     "status": "completed"
    },
    "tags": []
   },
   "outputs": [
    {
     "name": "stdout",
     "output_type": "stream",
     "text": [
      "20231030T201233 : amilcar32 : INFO : Notebook ha tardado 613 seconds\n"
     ]
    }
   ],
   "source": [
    "end_time = datetime.datetime.now()\n",
    "total_time = end_time - start_time\n",
    "myfunc.verbose(f\"Notebook ha tardado {total_time.seconds} seconds\")"
   ]
  },
  {
   "cell_type": "markdown",
   "id": "1cafc5f0",
   "metadata": {
    "papermill": {
     "duration": 0.017028,
     "end_time": "2023-10-30T19:12:33.531901",
     "exception": false,
     "start_time": "2023-10-30T19:12:33.514873",
     "status": "completed"
    },
    "tags": []
   },
   "source": [
    "#### Guardar métricas"
   ]
  },
  {
   "cell_type": "code",
   "execution_count": 12,
   "id": "dd9253b5",
   "metadata": {
    "execution": {
     "iopub.execute_input": "2023-10-30T19:12:33.552277Z",
     "iopub.status.busy": "2023-10-30T19:12:33.552277Z",
     "iopub.status.idle": "2023-10-30T19:12:34.342045Z",
     "shell.execute_reply": "2023-10-30T19:12:34.341052Z"
    },
    "papermill": {
     "duration": 0.803301,
     "end_time": "2023-10-30T19:12:34.346058",
     "exception": false,
     "start_time": "2023-10-30T19:12:33.542757",
     "status": "completed"
    },
    "tags": []
   },
   "outputs": [
    {
     "name": "stdout",
     "output_type": "stream",
     "text": [
      "20231030T201233 : amilcar32 : INFO : Inicio guardar métricas multiclase\n",
      "20231030T201233 : amilcar32 : INFO : Inicio leer fichero ..\\tfm_viu\\ejecuciones\\metricas\\metricas_6578.csv\n",
      "20231030T201233 : amilcar32 : INFO : Fin leer fichero ..\\tfm_viu\\ejecuciones\\metricas\\metricas_6578.csv\n"
     ]
    },
    {
     "name": "stdout",
     "output_type": "stream",
     "text": [
      "20231030T201234 : amilcar32 : INFO : Inicio guardar fichero ..\\tfm_viu\\ejecuciones\\metricas\\metricas_6578.csv\n",
      "20231030T201234 : amilcar32 : INFO : Fichero borrado ..\\tfm_viu\\ejecuciones\\metricas\\metricas_6578.csv\n",
      "20231030T201234 : amilcar32 : INFO : Fin guardar fichero ..\\tfm_viu\\ejecuciones\\metricas\\metricas_6578.csv\n",
      "20231030T201234 : amilcar32 : INFO : Fin guardar métricas multiclase\n",
      "20231030T201234 : amilcar32 : INFO : Inicio leer fichero ..\\tfm_viu\\ejecuciones\\metricas\\metricas_6578.csv\n",
      "20231030T201234 : amilcar32 : INFO : Fin leer fichero ..\\tfm_viu\\ejecuciones\\metricas\\metricas_6578.csv\n"
     ]
    },
    {
     "data": {
      "text/html": [
       "<div>\n",
       "<style scoped>\n",
       "    .dataframe tbody tr th:only-of-type {\n",
       "        vertical-align: middle;\n",
       "    }\n",
       "\n",
       "    .dataframe tbody tr th {\n",
       "        vertical-align: top;\n",
       "    }\n",
       "\n",
       "    .dataframe thead th {\n",
       "        text-align: right;\n",
       "    }\n",
       "</style>\n",
       "<table border=\"1\" class=\"dataframe\">\n",
       "  <thead>\n",
       "    <tr style=\"text-align: right;\">\n",
       "      <th></th>\n",
       "      <th>tipo</th>\n",
       "      <th>select</th>\n",
       "      <th>clasific</th>\n",
       "      <th>semilla</th>\n",
       "      <th>accuracy</th>\n",
       "      <th>precision</th>\n",
       "      <th>recall</th>\n",
       "      <th>f1_score</th>\n",
       "      <th>roc_auc</th>\n",
       "      <th>hostname</th>\n",
       "      <th>total_time_sec</th>\n",
       "      <th>datetime</th>\n",
       "      <th>fichero_modelo</th>\n",
       "      <th>params</th>\n",
       "      <th>shape</th>\n",
       "      <th>features</th>\n",
       "      <th>roc_auc_ovr</th>\n",
       "      <th>indices_auc</th>\n",
       "      <th>indices_jaccard</th>\n",
       "    </tr>\n",
       "  </thead>\n",
       "  <tbody>\n",
       "    <tr>\n",
       "      <th>0</th>\n",
       "      <td>mul_s</td>\n",
       "      <td>RF</td>\n",
       "      <td>LR_L1</td>\n",
       "      <td>6578</td>\n",
       "      <td>0.288462</td>\n",
       "      <td>0.293651</td>\n",
       "      <td>0.292641</td>\n",
       "      <td>0.276307</td>\n",
       "      <td>NaN</td>\n",
       "      <td>amilcar32</td>\n",
       "      <td>613</td>\n",
       "      <td>2023-10-30 20:12:34.236485</td>\n",
       "      <td>modelo_6578_mul_s_RF_LR_L1.pkl</td>\n",
       "      <td>{'selector__max_features': 500, 'selector__est...</td>\n",
       "      <td>X_test:(52, 18875)</td>\n",
       "      <td>['ENSG00000005381.9', 'ENSG00000006625.18', 'E...</td>\n",
       "      <td>0.736950</td>\n",
       "      <td>[0.5099778270509978, 0.8039772727272727, 0.636...</td>\n",
       "      <td>[0.1111111111111111, 0.1, 0.08333333333333333,...</td>\n",
       "    </tr>\n",
       "    <tr>\n",
       "      <th>0</th>\n",
       "      <td>mul_s</td>\n",
       "      <td>RF</td>\n",
       "      <td>LR_EN</td>\n",
       "      <td>6578</td>\n",
       "      <td>0.403846</td>\n",
       "      <td>0.396599</td>\n",
       "      <td>0.416558</td>\n",
       "      <td>0.401021</td>\n",
       "      <td>NaN</td>\n",
       "      <td>amilcar32</td>\n",
       "      <td>519</td>\n",
       "      <td>2023-10-30 20:02:15.046365</td>\n",
       "      <td>modelo_6578_mul_s_RF_LR_EN.pkl</td>\n",
       "      <td>{'selector__max_features': 500, 'selector__est...</td>\n",
       "      <td>X_test:(52, 18875)</td>\n",
       "      <td>['ENSG00000005381.9', 'ENSG00000005513.10', 'E...</td>\n",
       "      <td>0.779055</td>\n",
       "      <td>[0.5521064301552107, 0.84375, 0.73011363636363...</td>\n",
       "      <td>[0.058823529411764705, 0.5, 0.1538461538461538...</td>\n",
       "    </tr>\n",
       "    <tr>\n",
       "      <th>0</th>\n",
       "      <td>mul_s</td>\n",
       "      <td>MI</td>\n",
       "      <td>SVM</td>\n",
       "      <td>6578</td>\n",
       "      <td>0.442308</td>\n",
       "      <td>0.439229</td>\n",
       "      <td>0.447294</td>\n",
       "      <td>0.434577</td>\n",
       "      <td>NaN</td>\n",
       "      <td>amilcar32</td>\n",
       "      <td>324</td>\n",
       "      <td>2023-10-30 19:53:27.146955</td>\n",
       "      <td>modelo_6578_mul_s_MI_SVM.pkl</td>\n",
       "      <td>{'selector__k': 1000, 'clasifier__kernel': 'rb...</td>\n",
       "      <td>X_test:(52, 18875)</td>\n",
       "      <td>['ENSG00000003137.9', 'ENSG00000005513.10', 'E...</td>\n",
       "      <td>0.782210</td>\n",
       "      <td>[0.5388026607538803, 0.8579545454545454, 0.698...</td>\n",
       "      <td>[0.17647058823529413, 0.4, 0.07692307692307693...</td>\n",
       "    </tr>\n",
       "  </tbody>\n",
       "</table>\n",
       "</div>"
      ],
      "text/plain": [
       "    tipo select clasific  semilla  accuracy  precision    recall  f1_score  \\\n",
       "0  mul_s     RF    LR_L1     6578  0.288462   0.293651  0.292641  0.276307   \n",
       "0  mul_s     RF    LR_EN     6578  0.403846   0.396599  0.416558  0.401021   \n",
       "0  mul_s     MI      SVM     6578  0.442308   0.439229  0.447294  0.434577   \n",
       "\n",
       "   roc_auc   hostname  total_time_sec                    datetime  \\\n",
       "0      NaN  amilcar32             613  2023-10-30 20:12:34.236485   \n",
       "0      NaN  amilcar32             519  2023-10-30 20:02:15.046365   \n",
       "0      NaN  amilcar32             324  2023-10-30 19:53:27.146955   \n",
       "\n",
       "                   fichero_modelo  \\\n",
       "0  modelo_6578_mul_s_RF_LR_L1.pkl   \n",
       "0  modelo_6578_mul_s_RF_LR_EN.pkl   \n",
       "0    modelo_6578_mul_s_MI_SVM.pkl   \n",
       "\n",
       "                                              params               shape  \\\n",
       "0  {'selector__max_features': 500, 'selector__est...  X_test:(52, 18875)   \n",
       "0  {'selector__max_features': 500, 'selector__est...  X_test:(52, 18875)   \n",
       "0  {'selector__k': 1000, 'clasifier__kernel': 'rb...  X_test:(52, 18875)   \n",
       "\n",
       "                                            features  roc_auc_ovr  \\\n",
       "0  ['ENSG00000005381.9', 'ENSG00000006625.18', 'E...     0.736950   \n",
       "0  ['ENSG00000005381.9', 'ENSG00000005513.10', 'E...     0.779055   \n",
       "0  ['ENSG00000003137.9', 'ENSG00000005513.10', 'E...     0.782210   \n",
       "\n",
       "                                         indices_auc  \\\n",
       "0  [0.5099778270509978, 0.8039772727272727, 0.636...   \n",
       "0  [0.5521064301552107, 0.84375, 0.73011363636363...   \n",
       "0  [0.5388026607538803, 0.8579545454545454, 0.698...   \n",
       "\n",
       "                                     indices_jaccard  \n",
       "0  [0.1111111111111111, 0.1, 0.08333333333333333,...  \n",
       "0  [0.058823529411764705, 0.5, 0.1538461538461538...  \n",
       "0  [0.17647058823529413, 0.4, 0.07692307692307693...  "
      ]
     },
     "metadata": {},
     "output_type": "display_data"
    }
   ],
   "source": [
    "if M_TIPO.startswith(\"bin\"):\n",
    "    myfunc.save_metricas_to_csv(random_search, X_test, y_test, M_TIPO, M_SELECT, M_CLASIF, total_time, SEMILLA, myfunc.MET_DIR, M_FICHERO, fichero_modelo)\n",
    "else:\n",
    "    myfunc.save_metricas_multi_to_csv(random_search, X_test, y_test, M_TIPO, M_SELECT, M_CLASIF, total_time, SEMILLA, myfunc.MET_DIR, M_FICHERO, fichero_modelo)\n",
    "\n",
    "df1=myfunc.read_metricas_to_df(myfunc.MET_DIR,M_FICHERO)\n",
    "\n",
    "display(df1.sort_values(\"datetime\", ascending=False)[:3])\n"
   ]
  },
  {
   "cell_type": "markdown",
   "id": "9e7be296",
   "metadata": {
    "papermill": {
     "duration": 0.019226,
     "end_time": "2023-10-30T19:12:34.388650",
     "exception": false,
     "start_time": "2023-10-30T19:12:34.369424",
     "status": "completed"
    },
    "tags": []
   },
   "source": [
    "#### Guardar resultados"
   ]
  },
  {
   "cell_type": "code",
   "execution_count": 13,
   "id": "bb5ce03c",
   "metadata": {
    "execution": {
     "iopub.execute_input": "2023-10-30T19:12:34.413443Z",
     "iopub.status.busy": "2023-10-30T19:12:34.413443Z",
     "iopub.status.idle": "2023-10-30T19:12:34.435736Z",
     "shell.execute_reply": "2023-10-30T19:12:34.434739Z"
    },
    "papermill": {
     "duration": 0.038324,
     "end_time": "2023-10-30T19:12:34.440571",
     "exception": false,
     "start_time": "2023-10-30T19:12:34.402247",
     "status": "completed"
    },
    "tags": []
   },
   "outputs": [
    {
     "name": "stdout",
     "output_type": "stream",
     "text": [
      "20231030T201234 : amilcar32 : INFO : Inicio guardar resultados\n",
      "20231030T201234 : amilcar32 : INFO : Inicio guardar fichero ..\\tfm_viu\\ejecuciones\\metricas\\resultados_6578_mul_s-RF-LR_L1.csv\n",
      "20231030T201234 : amilcar32 : INFO : Fin guardar fichero ..\\tfm_viu\\ejecuciones\\metricas\\resultados_6578_mul_s-RF-LR_L1.csv\n",
      "20231030T201234 : amilcar32 : INFO : Fin guardar resultados\n"
     ]
    }
   ],
   "source": [
    "fichero_resultados=R_FICHERO+\"_\"+M_TIPO+\"-\"+M_SELECT+\"-\"+M_CLASIF+\".csv\"\n",
    "myfunc.save_resultados_to_csv(M_TIPO, M_SELECT, M_CLASIF,  random_search, myfunc.MET_DIR, fichero_resultados)\n"
   ]
  }
 ],
 "metadata": {
  "kernelspec": {
   "display_name": "Python 3 (ipykernel)",
   "language": "python",
   "name": "python3"
  },
  "language_info": {
   "codemirror_mode": {
    "name": "ipython",
    "version": 3
   },
   "file_extension": ".py",
   "mimetype": "text/x-python",
   "name": "python",
   "nbconvert_exporter": "python",
   "pygments_lexer": "ipython3",
   "version": "3.10.12"
  },
  "papermill": {
   "default_parameters": {},
   "duration": 618.085419,
   "end_time": "2023-10-30T19:12:35.356353",
   "environment_variables": {},
   "exception": null,
   "input_path": "03_entrenamiento.ipynb",
   "output_path": "ejecuciones\\training\\03_entrenamiento.20231030T200216.param_0000_6578_mul_s_RF_LR_L1.output.ipynb",
   "parameters": {
    "MAX_ITERS": 500,
    "M_CLASIF": "LR_L1",
    "M_FICHERO": "metricas_6578",
    "M_SELECT": "RF",
    "M_TIPO": "mul_s",
    "PRE_DATA_FILE": "rows_transpose_norm_by_gene_id_with_target_num_",
    "P_FICHERO": "param_0000_6578_mul_s_RF_LR_L1.yaml",
    "R_FICHERO": "resultados_6578",
    "SCORING": "roc_auc_ovr",
    "SEMILLA": 6578,
    "eval_clasifier": "LogisticRegressionCV(random_state=SEMILLA)",
    "eval_selector": "SelectFromModel(estimator=RandomForestClassifier(random_state=SEMILLA), threshold=-np.inf)",
    "param_distributions": {
     "clasifier__max_iter": [
      10000
     ],
     "clasifier__penalty": [
      "l1"
     ],
     "clasifier__solver": [
      "saga"
     ],
     "selector__estimator__n_estimators": [
      100
     ],
     "selector__max_features": [
      500
     ]
    }
   },
   "start_time": "2023-10-30T19:02:17.270934",
   "version": "2.4.0"
  }
 },
 "nbformat": 4,
 "nbformat_minor": 5
}