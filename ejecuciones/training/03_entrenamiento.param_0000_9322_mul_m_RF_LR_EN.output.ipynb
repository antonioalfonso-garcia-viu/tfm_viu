{
 "cells": [
  {
   "cell_type": "markdown",
   "id": "580a11a8",
   "metadata": {
    "papermill": {
     "duration": 0.005821,
     "end_time": "2023-10-30T05:06:16.106205",
     "exception": false,
     "start_time": "2023-10-30T05:06:16.100384",
     "status": "completed"
    },
    "tags": []
   },
   "source": [
    "##### Inicio"
   ]
  },
  {
   "cell_type": "markdown",
   "id": "59e6f42c",
   "metadata": {
    "papermill": {
     "duration": 0.003421,
     "end_time": "2023-10-30T05:06:16.113368",
     "exception": false,
     "start_time": "2023-10-30T05:06:16.109947",
     "status": "completed"
    },
    "tags": []
   },
   "source": [
    "#### Carga de datos"
   ]
  },
  {
   "cell_type": "code",
   "execution_count": 1,
   "id": "11247027",
   "metadata": {
    "execution": {
     "iopub.execute_input": "2023-10-30T05:06:16.121392Z",
     "iopub.status.busy": "2023-10-30T05:06:16.120873Z",
     "iopub.status.idle": "2023-10-30T05:06:17.245029Z",
     "shell.execute_reply": "2023-10-30T05:06:17.244387Z"
    },
    "papermill": {
     "duration": 1.129889,
     "end_time": "2023-10-30T05:06:17.246550",
     "exception": false,
     "start_time": "2023-10-30T05:06:16.116661",
     "status": "completed"
    },
    "tags": []
   },
   "outputs": [
    {
     "name": "stdout",
     "output_type": "stream",
     "text": [
      "CPU_COUNT: 16; NODE: enderlab; sys.version: 3.10.11 (main, May 16 2023, 00:28:57) [GCC 11.2.0]\n",
      "LOKY_MAX_CPU_COUNT is not set.\n",
      "OMP_NUM_THREADS is not set.\n"
     ]
    }
   ],
   "source": [
    "import os\n",
    "import numpy as np\n",
    "import pandas as pd\n",
    "import datetime\n",
    "import sklearn\n",
    "import logging\n",
    "import warnings\n",
    "\n",
    "from sklearn.pipeline import Pipeline\n",
    "from sklearn.model_selection import RandomizedSearchCV, KFold, cross_val_score, train_test_split\n",
    "from sklearn.metrics import accuracy_score, confusion_matrix, classification_report, roc_auc_score\n",
    "\n",
    "#  cargar algoritmos para aprendizaje supervisado\n",
    "from sklearn.feature_selection import SelectKBest, f_classif, SelectFromModel, mutual_info_classif\n",
    "from sklearn.svm import SVC\n",
    "from sklearn.ensemble import RandomForestClassifier\n",
    "from sklearn.linear_model import LogisticRegression,LogisticRegressionCV\n",
    "\n",
    "# importar fichero con utilidades propias\n",
    "from commons import myfunctions as myfunc\n"
   ]
  },
  {
   "cell_type": "markdown",
   "id": "625fc297",
   "metadata": {
    "papermill": {
     "duration": 0.003622,
     "end_time": "2023-10-30T05:06:17.254334",
     "exception": false,
     "start_time": "2023-10-30T05:06:17.250712",
     "status": "completed"
    },
    "tags": []
   },
   "source": [
    "#### Parámetros a utilizar en el entrenamiento.\n",
    "\n",
    "Se indican los 3 algoritmos de *selección de características* (eval_selector_xxx) y los 3 algoritmos para la _clasificación_ (eval_clasifier_xxx)\n",
    "\n",
    "En *param_distributions* se indicar los parámetros que utilizan los algoritmos en la función RandomSearchCV.\n",
    "\n",
    "Esta celda tiene la etiqueta **parameters** que servirá para poder lanzar los entrenamientos con la utilidad **papermill** pasándole un fichero con los parámetros. Los nuevos parámetros se situarán tras esta celda para tener prevalencia."
   ]
  },
  {
   "cell_type": "code",
   "execution_count": 2,
   "id": "b0640d0e",
   "metadata": {
    "execution": {
     "iopub.execute_input": "2023-10-30T05:06:17.262677Z",
     "iopub.status.busy": "2023-10-30T05:06:17.262188Z",
     "iopub.status.idle": "2023-10-30T05:06:17.270781Z",
     "shell.execute_reply": "2023-10-30T05:06:17.270242Z"
    },
    "papermill": {
     "duration": 0.01427,
     "end_time": "2023-10-30T05:06:17.272017",
     "exception": false,
     "start_time": "2023-10-30T05:06:17.257747",
     "status": "completed"
    },
    "tags": [
     "parameters"
    ]
   },
   "outputs": [
    {
     "name": "stdout",
     "output_type": "stream",
     "text": [
      "20231030T060617 : enderlab : INFO : Utilizando parámetros de mul_m\n"
     ]
    }
   ],
   "source": [
    "#  Parametros para el entrenamiento\n",
    "\n",
    "SEMILLA=        42\n",
    "M_TIPO=         \"mul_m\"\n",
    "M_SELECT=       \"MI\"\n",
    "M_CLASIF=       \"SVM\"\n",
    "R_FICHERO=      \"resultados\"\n",
    "M_FICHERO=      \"metricas\"\n",
    "PRE_DATA_FILE=  \"rows_transpose_norm_by_gene_id_with_target_num_\"\n",
    "SCORING=        \"roc_auc_ovr\" \n",
    "MAX_ITERS=      100\n",
    "\n",
    "def mutual_info_classif_state(X, y):\n",
    "    return mutual_info_classif(X, y, random_state=SEMILLA)\n",
    "\n",
    "eval_selector_mi = \"SelectKBest(score_func=mutual_info_classif_state)\"\n",
    "eval_selector_rf=  \"SelectFromModel(estimator=RandomForestClassifier(random_state=SEMILLA), threshold=-np.inf)\"\n",
    "eval_selector_anova=  \"SelectKBest(score_func=f_classif)\"\n",
    "\n",
    "eval_clasifier_svm= \"SVC(probability=True, random_state=SEMILLA)\"\n",
    "eval_clasifier_rf= \"RandomForestClassifier(random_state=SEMILLA)\"\n",
    "eval_clasifier_lr= \"LogisticRegressionCV(random_state=SEMILLA)\"\n",
    "\n",
    "if M_TIPO.startswith(\"bin_m\"):\n",
    "    myfunc.verbose(f\"Utilizando parámetros de {M_TIPO}\")\n",
    "    eval_selector = eval_selector_mi\n",
    "    eval_clasifier = eval_clasifier_svm\n",
    "\n",
    "    SEMILLA = 6578\n",
    "    M_SELECT = \"MI\"\n",
    "    M_CLASIF = \"SVM\"\n",
    "    param_distributions = {'selector__k': [1000], \n",
    "         'clasifier__kernel': ['rbf'], 'clasifier__gamma': [0.01], 'clasifier__C': [100]}\n",
    "elif M_TIPO.startswith(\"bin_s\"):\n",
    "    myfunc.verbose(f\"Utilizando parámetros de {M_TIPO}\")\n",
    "    eval_selector = eval_selector_rf\n",
    "    eval_clasifier = eval_clasifier_lr\n",
    "\n",
    "    SEMILLA = 6191\n",
    "    M_SELECT = \"RF\"\n",
    "    M_CLASIF = \"LR_L2\"\n",
    "    param_distributions = {'selector__max_features': [1000], 'selector__estimator__n_estimators': [200], \n",
    "        'clasifier__solver': ['lbfgs'], 'clasifier__penalty': ['l2'], 'clasifier__max_iter': [10000]}\n",
    "\n",
    "elif M_TIPO.startswith(\"mul_m\"):\n",
    "    myfunc.verbose(f\"Utilizando parámetros de {M_TIPO}\")\n",
    " \n",
    "    eval_selector = eval_selector_rf\n",
    "    eval_clasifier = eval_clasifier_lr\n",
    "\n",
    "    SEMILLA = 6191\n",
    "    M_SELECT = \"RF\"\n",
    "    M_CLASIF = \"LR_L2\"\n",
    "    param_distributions = {'selector__max_features': [1000], 'selector__estimator__n_estimators': [400], \n",
    "        'clasifier__solver': ['lbfgs'], 'clasifier__penalty': ['l2'], 'clasifier__max_iter': [10000]}\n",
    "\n",
    "else:\n",
    "    # M_TIPO.startswith(\"mul_s\"):\n",
    "    myfunc.verbose(f\"Utilizando parámetros de {M_TIPO}\")\n",
    "    eval_selector = eval_selector_anova\n",
    "    eval_clasifier = eval_clasifier_lr\n",
    "\n",
    "    SEMILLA = 1860\n",
    "    M_SELECT = \"ANOVA\"\n",
    "    M_CLASIF = \"LR_L2\"\n",
    "    param_distributions = {'selector__k': [1000], \n",
    "        'clasifier__solver': ['saga'], 'clasifier__penalty': ['l2'], 'clasifier__max_iter': [10000]}\n",
    "\n"
   ]
  },
  {
   "cell_type": "code",
   "execution_count": 3,
   "id": "b463a6cb",
   "metadata": {
    "execution": {
     "iopub.execute_input": "2023-10-30T05:06:17.280050Z",
     "iopub.status.busy": "2023-10-30T05:06:17.279676Z",
     "iopub.status.idle": "2023-10-30T05:06:17.283696Z",
     "shell.execute_reply": "2023-10-30T05:06:17.283177Z"
    },
    "papermill": {
     "duration": 0.009414,
     "end_time": "2023-10-30T05:06:17.284948",
     "exception": false,
     "start_time": "2023-10-30T05:06:17.275534",
     "status": "completed"
    },
    "tags": [
     "injected-parameters"
    ]
   },
   "outputs": [],
   "source": [
    "# Parameters\n",
    "M_TIPO = \"mul_m\"\n",
    "M_SELECT = \"RF\"\n",
    "M_CLASIF = \"LR_EN\"\n",
    "P_FICHERO = \"param_0000_9322_mul_m_RF_LR_EN.yaml\"\n",
    "R_FICHERO = \"resultados_9322\"\n",
    "M_FICHERO = \"metricas_9322\"\n",
    "PRE_DATA_FILE = \"rows_transpose_norm_by_gene_id_with_target_num_\"\n",
    "SCORING = \"roc_auc_ovr\"\n",
    "SEMILLA = 9322\n",
    "MAX_ITERS = 500\n",
    "eval_selector = \"SelectFromModel(estimator=RandomForestClassifier(random_state=SEMILLA), threshold=-np.inf)\"\n",
    "eval_clasifier = \"LogisticRegressionCV(random_state=SEMILLA)\"\n",
    "param_distributions = {\n",
    "    \"selector__max_features\": [1000],\n",
    "    \"selector__estimator__n_estimators\": [400],\n",
    "    \"clasifier__solver\": [\"saga\"],\n",
    "    \"clasifier__penalty\": [\"elasticnet\"],\n",
    "    \"clasifier__max_iter\": [10000],\n",
    "    \"clasifier__l1_ratios\": [[0.1]],\n",
    "}\n"
   ]
  },
  {
   "cell_type": "code",
   "execution_count": 4,
   "id": "18100189",
   "metadata": {
    "execution": {
     "iopub.execute_input": "2023-10-30T05:06:17.293132Z",
     "iopub.status.busy": "2023-10-30T05:06:17.292758Z",
     "iopub.status.idle": "2023-10-30T05:06:17.296049Z",
     "shell.execute_reply": "2023-10-30T05:06:17.295498Z"
    },
    "papermill": {
     "duration": 0.008769,
     "end_time": "2023-10-30T05:06:17.297314",
     "exception": false,
     "start_time": "2023-10-30T05:06:17.288545",
     "status": "completed"
    },
    "tags": []
   },
   "outputs": [],
   "source": [
    "DATA_FILE = PRE_DATA_FILE + M_TIPO\n",
    "\n",
    "# si viene \"None\" en el parámetro max_depth, se le quitan las comillas para que no sea entendido por el algoritmo como un texto\n",
    "if \"clasifier__max_depth\" in param_distributions:\n",
    "    param_distributions['clasifier__max_depth'] = [None if x == 'None' else x for x in param_distributions['clasifier__max_depth']]"
   ]
  },
  {
   "cell_type": "markdown",
   "id": "fc3bf32e",
   "metadata": {
    "papermill": {
     "duration": 0.00361,
     "end_time": "2023-10-30T05:06:17.304435",
     "exception": false,
     "start_time": "2023-10-30T05:06:17.300825",
     "status": "completed"
    },
    "tags": []
   },
   "source": [
    "Asignar los algoritmos que se utilizarán en la función RandomSearchCV"
   ]
  },
  {
   "cell_type": "code",
   "execution_count": 5,
   "id": "78d72e4d",
   "metadata": {
    "execution": {
     "iopub.execute_input": "2023-10-30T05:06:17.312640Z",
     "iopub.status.busy": "2023-10-30T05:06:17.312303Z",
     "iopub.status.idle": "2023-10-30T05:06:17.315108Z",
     "shell.execute_reply": "2023-10-30T05:06:17.314610Z"
    },
    "papermill": {
     "duration": 0.008593,
     "end_time": "2023-10-30T05:06:17.316602",
     "exception": false,
     "start_time": "2023-10-30T05:06:17.308009",
     "status": "completed"
    },
    "tags": []
   },
   "outputs": [],
   "source": [
    "algor_selector=eval(eval_selector)\n",
    "algor_clasifier=eval(eval_clasifier)"
   ]
  },
  {
   "cell_type": "markdown",
   "id": "289cd865",
   "metadata": {
    "papermill": {
     "duration": 0.003804,
     "end_time": "2023-10-30T05:06:17.324006",
     "exception": false,
     "start_time": "2023-10-30T05:06:17.320202",
     "status": "completed"
    },
    "tags": []
   },
   "source": [
    "#### Comprobar el entorno y leer fichero de muestras"
   ]
  },
  {
   "cell_type": "code",
   "execution_count": 6,
   "id": "100c1f5b",
   "metadata": {
    "execution": {
     "iopub.execute_input": "2023-10-30T05:06:17.332614Z",
     "iopub.status.busy": "2023-10-30T05:06:17.332144Z",
     "iopub.status.idle": "2023-10-30T05:06:17.578048Z",
     "shell.execute_reply": "2023-10-30T05:06:17.577444Z"
    },
    "papermill": {
     "duration": 0.251575,
     "end_time": "2023-10-30T05:06:17.579388",
     "exception": false,
     "start_time": "2023-10-30T05:06:17.327813",
     "status": "completed"
    },
    "tags": []
   },
   "outputs": [
    {
     "name": "stdout",
     "output_type": "stream",
     "text": [
      "20231030T060617 : enderlab : INFO : Encontrada carpeta DATA_DIR=../tfm_git/datos\n",
      "20231030T060617 : enderlab : INFO : Encontrada carpeta CFDNA_DIR=../tfm_git/datos/cfDNA_5hmC\n",
      "20231030T060617 : enderlab : INFO : Encontrada carpeta GENCODE_DIR=../tfm_git/datos/gencode\n",
      "20231030T060617 : enderlab : INFO : Encontrada carpeta H5_DIR=../tfm_git/datos/h5\n",
      "20231030T060617 : enderlab : INFO : Encontrada carpeta LOG_DIR=../tfm_git/datos/logs\n",
      "20231030T060617 : enderlab : INFO : Encontrada carpeta CSV_DIR=../tfm_git/datos/csv\n",
      "20231030T060617 : enderlab : INFO : Encontrada carpeta MODEL_DIR=../tfm_git/ejecuciones/modelos\n",
      "20231030T060617 : enderlab : INFO : Encontrada carpeta EXEC_DIR=../tfm_git/ejecuciones\n",
      "20231030T060617 : enderlab : INFO : Encontrada carpeta MET_DIR=../tfm_git/ejecuciones/metricas\n",
      "20231030T060617 : enderlab : INFO : Inicio leer fichero h5 ../tfm_git/datos/h5/rows_transpose_norm_by_gene_id_with_target_num_mul_m.h5\n",
      "20231030T060617 : enderlab : INFO : Leyendo clave /df\n"
     ]
    },
    {
     "name": "stdout",
     "output_type": "stream",
     "text": [
      "20231030T060617 : enderlab : INFO : Tamaño (434, 18876)\n",
      "20231030T060617 : enderlab : INFO : Fin leer fichero h5 ../tfm_git/datos/h5/rows_transpose_norm_by_gene_id_with_target_num_mul_m.h5\n"
     ]
    },
    {
     "data": {
      "text/plain": [
       "target\n",
       "0    62\n",
       "1    62\n",
       "2    62\n",
       "3    62\n",
       "4    62\n",
       "5    62\n",
       "6    62\n",
       "dtype: int64"
      ]
     },
     "metadata": {},
     "output_type": "display_data"
    },
    {
     "name": "stdout",
     "output_type": "stream",
     "text": [
      "Shape df: (434, 18876)\n"
     ]
    },
    {
     "name": "stdout",
     "output_type": "stream",
     "text": [
      "Shape X_train: (347, 18875)\n",
      "Shape X_test: (87, 18875)\n"
     ]
    }
   ],
   "source": [
    "start_time = datetime.datetime.now()\n",
    "\n",
    "myfunc.reset_vars()\n",
    "\n",
    "myfunc.NOTEBK_FILENAME = myfunc.get_nb_name()\n",
    "\n",
    "myfunc.check_enviroment(myfunc.DATA_DIR, myfunc.CFDNA_DIR, myfunc.GENCODE_DIR, myfunc.H5_DIR, myfunc.LOG_DIR, myfunc.CSV_DIR, myfunc.MODEL_DIR, myfunc.EXEC_DIR, myfunc.MET_DIR)\n",
    "\n",
    "# Leer fichero con las muestras\n",
    "df_t = myfunc.read_h5_to_df(DATA_FILE, myfunc.H5_DIR)\n",
    "display(df_t.groupby(\"target\").size())\n",
    "print(\"Shape df:\",df_t.shape)\n",
    "\n",
    "# Separar caracteristicas/genes de las etiquetas/tipos de cáncer\n",
    "X = df_t.iloc[:, :-1]  # Todas las columnas excepto la última\n",
    "y = df_t.iloc[:, -1]  # La última columna contiene los identificadores de los tipos de cáncer\n",
    "\n",
    "#  Crear el conjunto de datos de entrenamiento y de pruebas, y se fija la semilla para siempre coger el mismo juego de muestras\n",
    "X_train, X_test, y_train, y_test = train_test_split(X, y, test_size=0.2, shuffle=True, random_state=42)\n",
    "print(\"Shape X_train:\",X_train.shape)\n",
    "print(\"Shape X_test:\",X_test.shape)\n"
   ]
  },
  {
   "cell_type": "markdown",
   "id": "5c5ff851",
   "metadata": {
    "papermill": {
     "duration": 0.00426,
     "end_time": "2023-10-30T05:06:17.588233",
     "exception": false,
     "start_time": "2023-10-30T05:06:17.583973",
     "status": "completed"
    },
    "tags": []
   },
   "source": [
    "#### Selección de características y clasificación."
   ]
  },
  {
   "cell_type": "code",
   "execution_count": 7,
   "id": "a8d717e4",
   "metadata": {
    "execution": {
     "iopub.execute_input": "2023-10-30T05:06:17.598381Z",
     "iopub.status.busy": "2023-10-30T05:06:17.597827Z",
     "iopub.status.idle": "2023-10-30T05:34:29.177215Z",
     "shell.execute_reply": "2023-10-30T05:34:29.176536Z"
    },
    "papermill": {
     "duration": 1691.591415,
     "end_time": "2023-10-30T05:34:29.183874",
     "exception": false,
     "start_time": "2023-10-30T05:06:17.592459",
     "status": "completed"
    },
    "tags": []
   },
   "outputs": [
    {
     "name": "stdout",
     "output_type": "stream",
     "text": [
      "20231030T060617 : enderlab : INFO : Iniciando entrenamiento\n",
      "num_iter: 1 , max_iter: 1\n",
      "Fitting 5 folds for each of 1 candidates, totalling 5 fits\n"
     ]
    },
    {
     "name": "stdout",
     "output_type": "stream",
     "text": [
      "[CV 3/5] END clasifier__l1_ratios=[0.1], clasifier__max_iter=10000, clasifier__penalty=elasticnet, clasifier__solver=saga, selector__estimator__n_estimators=400, selector__max_features=1000;, score=0.898 total time=11.1min\n"
     ]
    },
    {
     "name": "stdout",
     "output_type": "stream",
     "text": [
      "[CV 5/5] END clasifier__l1_ratios=[0.1], clasifier__max_iter=10000, clasifier__penalty=elasticnet, clasifier__solver=saga, selector__estimator__n_estimators=400, selector__max_features=1000;, score=0.880 total time=11.5min\n"
     ]
    },
    {
     "name": "stdout",
     "output_type": "stream",
     "text": [
      "[CV 1/5] END clasifier__l1_ratios=[0.1], clasifier__max_iter=10000, clasifier__penalty=elasticnet, clasifier__solver=saga, selector__estimator__n_estimators=400, selector__max_features=1000;, score=0.910 total time=11.5min\n"
     ]
    },
    {
     "name": "stdout",
     "output_type": "stream",
     "text": [
      "[CV 2/5] END clasifier__l1_ratios=[0.1], clasifier__max_iter=10000, clasifier__penalty=elasticnet, clasifier__solver=saga, selector__estimator__n_estimators=400, selector__max_features=1000;, score=0.822 total time=12.2min\n"
     ]
    },
    {
     "name": "stdout",
     "output_type": "stream",
     "text": [
      "[CV 4/5] END clasifier__l1_ratios=[0.1], clasifier__max_iter=10000, clasifier__penalty=elasticnet, clasifier__solver=saga, selector__estimator__n_estimators=400, selector__max_features=1000;, score=0.880 total time=13.0min\n"
     ]
    },
    {
     "name": "stdout",
     "output_type": "stream",
     "text": [
      "Mejores Hiperparámetros: {'selector__max_features': 1000, 'selector__estimator__n_estimators': 400, 'clasifier__solver': 'saga', 'clasifier__penalty': 'elasticnet', 'clasifier__max_iter': 10000, 'clasifier__l1_ratios': [0.1]}\n",
      "Mejor Puntuación: 0.8779\n",
      "20231030T063429 : enderlab : INFO : Fin entrenamiento\n"
     ]
    }
   ],
   "source": [
    "myfunc.verbose(\"Iniciando entrenamiento\")\n",
    "\n",
    "kf = KFold(n_splits=5, shuffle=True, random_state=SEMILLA)\n",
    "\n",
    "# Crear el pipeline para el flujo de tareas\n",
    "tasks_pipeline = Pipeline([\n",
    "    ('selector', algor_selector),\n",
    "    ('clasifier', algor_clasifier)\n",
    "])\n",
    "\n",
    "# MAX_ITERS puede limitar el número de iteraciones si son excesivas para las combinaciones de parámetros buscando un óptimo local, \n",
    "# sino funcionaría como GridSearchCV al revisar todas las cominaciones de los parámetros\n",
    "num_iteraciones = 1\n",
    "num_iteraciones = num_iteraciones * np.prod([len(elemento1) for _, elemento1 in param_distributions.items()])\n",
    "max_iteraciones = num_iteraciones if num_iteraciones <= MAX_ITERS else MAX_ITERS\n",
    "print(\"num_iter:\",num_iteraciones,\", max_iter:\",max_iteraciones)\n",
    "\n",
    "random_search = RandomizedSearchCV(\n",
    "    tasks_pipeline, \n",
    "    param_distributions, \n",
    "    n_iter=max_iteraciones,\n",
    "    scoring=SCORING,\n",
    "    cv=kf,\n",
    "    verbose=3, \n",
    "    random_state=SEMILLA, \n",
    "    n_jobs=-1\n",
    "    )\n",
    "\n",
    "# Entrenar el modelo\n",
    "random_search.fit(X_train, y_train)\n",
    "\n",
    "# Ver los mejores hiperparámetros encontrados\n",
    "print(f'Mejores Hiperparámetros: {random_search.best_params_}')\n",
    "print(f'Mejor Puntuación: {random_search.best_score_:.4f}')\n",
    "\n",
    "# Nos quedamos con el mejor modelo para ver las métricas\n",
    "mejor_modelo = random_search.best_estimator_\n",
    "\n",
    "myfunc.verbose(\"Fin entrenamiento\")"
   ]
  },
  {
   "cell_type": "markdown",
   "id": "afe27db0",
   "metadata": {
    "papermill": {
     "duration": 0.004525,
     "end_time": "2023-10-30T05:34:29.193159",
     "exception": false,
     "start_time": "2023-10-30T05:34:29.188634",
     "status": "completed"
    },
    "tags": []
   },
   "source": [
    "#### Guardar modelo"
   ]
  },
  {
   "cell_type": "code",
   "execution_count": 8,
   "id": "298ddc37",
   "metadata": {
    "execution": {
     "iopub.execute_input": "2023-10-30T05:34:29.203354Z",
     "iopub.status.busy": "2023-10-30T05:34:29.202826Z",
     "iopub.status.idle": "2023-10-30T05:34:29.364744Z",
     "shell.execute_reply": "2023-10-30T05:34:29.364164Z"
    },
    "papermill": {
     "duration": 0.168723,
     "end_time": "2023-10-30T05:34:29.366146",
     "exception": false,
     "start_time": "2023-10-30T05:34:29.197423",
     "status": "completed"
    },
    "tags": []
   },
   "outputs": [
    {
     "name": "stdout",
     "output_type": "stream",
     "text": [
      "20231030T063429 : enderlab : INFO : Inicio guardar fichero ../tfm_git/ejecuciones/modelos/modelo_9322_mul_m_RF_LR_EN.pkl\n",
      "20231030T063429 : enderlab : INFO : Fin guardar fichero ../tfm_git/ejecuciones/modelos/modelo_9322_mul_m_RF_LR_EN.pkl\n"
     ]
    }
   ],
   "source": [
    "fichero_modelo = str.replace(\"modelo_\"+str(SEMILLA).zfill(4)+\"_\"+M_TIPO+\"_\"+M_SELECT+\"_\"+M_CLASIF+\".pkl\", \" \", \"_\")\n",
    "\n",
    "myfunc.save_modelo(mejor_modelo, myfunc.MODEL_DIR, fichero_modelo)"
   ]
  },
  {
   "cell_type": "markdown",
   "id": "3c2679ec",
   "metadata": {
    "papermill": {
     "duration": 0.004482,
     "end_time": "2023-10-30T05:34:29.375507",
     "exception": false,
     "start_time": "2023-10-30T05:34:29.371025",
     "status": "completed"
    },
    "tags": []
   },
   "source": [
    "#### Ver resultados del las iteraciones hechas por RandomSearchCV"
   ]
  },
  {
   "cell_type": "code",
   "execution_count": 9,
   "id": "390e09c2",
   "metadata": {
    "execution": {
     "iopub.execute_input": "2023-10-30T05:34:29.385512Z",
     "iopub.status.busy": "2023-10-30T05:34:29.385050Z",
     "iopub.status.idle": "2023-10-30T05:34:29.392090Z",
     "shell.execute_reply": "2023-10-30T05:34:29.391581Z"
    },
    "papermill": {
     "duration": 0.013498,
     "end_time": "2023-10-30T05:34:29.393343",
     "exception": false,
     "start_time": "2023-10-30T05:34:29.379845",
     "status": "completed"
    },
    "tags": []
   },
   "outputs": [
    {
     "name": "stdout",
     "output_type": "stream",
     "text": [
      "20231030T063429 : enderlab : INFO : Inicio ver resultados\n",
      "Mejores Hiperparámetros: {'selector__max_features': 1000, 'selector__estimator__n_estimators': 400, 'clasifier__solver': 'saga', 'clasifier__penalty': 'elasticnet', 'clasifier__max_iter': 10000, 'clasifier__l1_ratios': [0.1]}\n",
      "Mejores puntuaciones: 0.8779 | Params: {'selector__max_features': 1000, 'selector__estimator__n_estimators': 400, 'clasifier__solver': 'saga', 'clasifier__penalty': 'elasticnet', 'clasifier__max_iter': 10000, 'clasifier__l1_ratios': [0.1]}\n",
      "Media de las puntuaciones: 0.8779 | Params: {'selector__max_features': 1000, 'selector__estimator__n_estimators': 400, 'clasifier__solver': 'saga', 'clasifier__penalty': 'elasticnet', 'clasifier__max_iter': 10000, 'clasifier__l1_ratios': [0.1]}\n",
      "20231030T063429 : enderlab : INFO : Fin resultados\n"
     ]
    }
   ],
   "source": [
    "myfunc.ver_resultados_search(random_search)"
   ]
  },
  {
   "cell_type": "markdown",
   "id": "7109b701",
   "metadata": {
    "papermill": {
     "duration": 0.004538,
     "end_time": "2023-10-30T05:34:29.402327",
     "exception": false,
     "start_time": "2023-10-30T05:34:29.397789",
     "status": "completed"
    },
    "tags": []
   },
   "source": [
    "#### Ver métricas del mejor modelo"
   ]
  },
  {
   "cell_type": "code",
   "execution_count": 10,
   "id": "b41e56c2",
   "metadata": {
    "execution": {
     "iopub.execute_input": "2023-10-30T05:34:29.412582Z",
     "iopub.status.busy": "2023-10-30T05:34:29.412093Z",
     "iopub.status.idle": "2023-10-30T05:34:30.533394Z",
     "shell.execute_reply": "2023-10-30T05:34:30.532811Z"
    },
    "papermill": {
     "duration": 1.127884,
     "end_time": "2023-10-30T05:34:30.534702",
     "exception": false,
     "start_time": "2023-10-30T05:34:29.406818",
     "status": "completed"
    },
    "tags": []
   },
   "outputs": [
    {
     "name": "stdout",
     "output_type": "stream",
     "text": [
      "20231030T063429 : enderlab : INFO : Inicio ver métricas multiclase\n"
     ]
    },
    {
     "name": "stdout",
     "output_type": "stream",
     "text": [
      "              precision    recall  f1-score   support\n",
      "\n",
      "           0       0.60      0.38      0.46        16\n",
      "           1       0.73      0.73      0.73        15\n",
      "           2       0.42      0.45      0.43        11\n",
      "           3       0.31      0.80      0.44         5\n",
      "           4       0.78      0.54      0.64        13\n",
      "           5       0.78      0.78      0.78         9\n",
      "           6       0.63      0.67      0.65        18\n",
      "\n",
      "    accuracy                           0.60        87\n",
      "   macro avg       0.61      0.62      0.59        87\n",
      "weighted avg       0.63      0.60      0.60        87\n",
      "\n",
      "\n",
      "\n",
      "           Exactitud: 0.597701\n",
      "   Precisión (media): 0.606404\n",
      "      Recall (media): 0.620826\n",
      "    F1-score (media): 0.590984\n",
      "\n",
      "\n",
      "AUC para el tipo de cáncer 0-Control.... 0.7746\n",
      "AUC para el tipo de cáncer 1-Bladder.... 0.9009\n",
      "AUC para el tipo de cáncer 2-Breast..... 0.7560\n",
      "AUC para el tipo de cáncer 3-Colorectal. 0.8902\n",
      "AUC para el tipo de cáncer 4-Kidney..... 0.9075\n",
      "AUC para el tipo de cáncer 5-Lung....... 0.9744\n",
      "AUC para el tipo de cáncer 6-Prostate... 0.8478\n",
      "\n",
      "Media de AUC: 0.8645\n"
     ]
    },
    {
     "data": {
      "image/png": "[encoded data removed]",
      "text/plain": [
       "<Figure size 1000x600 with 1 Axes>"
      ]
     },
     "metadata": {},
     "output_type": "display_data"
    },
    {
     "name": "stdout",
     "output_type": "stream",
     "text": [
      "\n",
      "\n"
     ]
    },
    {
     "data": {
      "image/png": "[encoded data removed]",
      "text/plain": [
       "<Figure size 800x400 with 2 Axes>"
      ]
     },
     "metadata": {},
     "output_type": "display_data"
    },
    {
     "name": "stdout",
     "output_type": "stream",
     "text": [
      "\n",
      "\n",
      "Puntuación Jaccard para el cáncer tipo 0-Control.... 0.3000\n",
      "Puntuación Jaccard para el cáncer tipo 1-Bladder.... 0.5789\n",
      "Puntuación Jaccard para el cáncer tipo 2-Breast..... 0.2778\n",
      "Puntuación Jaccard para el cáncer tipo 3-Colorectal. 0.2857\n",
      "Puntuación Jaccard para el cáncer tipo 4-Kidney..... 0.4667\n",
      "Puntuación Jaccard para el cáncer tipo 5-Lung....... 0.6364\n",
      "Puntuación Jaccard para el cáncer tipo 6-Prostate... 0.4800\n",
      "\n",
      "Media de la puntuación de Jaccard: 0.4322\n"
     ]
    }
   ],
   "source": [
    "if M_TIPO.startswith(\"bin\"):\n",
    "    myfunc.ver_metricas(mejor_modelo, X_test, y_test)\n",
    "else:\n",
    "    myfunc.ver_metricas_multi(mejor_modelo, X_test, y_test)\n"
   ]
  },
  {
   "cell_type": "markdown",
   "id": "21fc9824",
   "metadata": {
    "papermill": {
     "duration": 0.006242,
     "end_time": "2023-10-30T05:34:30.547692",
     "exception": false,
     "start_time": "2023-10-30T05:34:30.541450",
     "status": "completed"
    },
    "tags": []
   },
   "source": [
    "#### Finalización del notebook"
   ]
  },
  {
   "cell_type": "code",
   "execution_count": 11,
   "id": "279d76f6",
   "metadata": {
    "execution": {
     "iopub.execute_input": "2023-10-30T05:34:30.561190Z",
     "iopub.status.busy": "2023-10-30T05:34:30.560633Z",
     "iopub.status.idle": "2023-10-30T05:34:30.564515Z",
     "shell.execute_reply": "2023-10-30T05:34:30.563981Z"
    },
    "papermill": {
     "duration": 0.012068,
     "end_time": "2023-10-30T05:34:30.565743",
     "exception": false,
     "start_time": "2023-10-30T05:34:30.553675",
     "status": "completed"
    },
    "tags": []
   },
   "outputs": [
    {
     "name": "stdout",
     "output_type": "stream",
     "text": [
      "20231030T063430 : enderlab : INFO : Notebook ha tardado 1693 seconds\n"
     ]
    }
   ],
   "source": [
    "end_time = datetime.datetime.now()\n",
    "total_time = end_time - start_time\n",
    "myfunc.verbose(f\"Notebook ha tardado {total_time.seconds} seconds\")"
   ]
  },
  {
   "cell_type": "markdown",
   "id": "f7fd9191",
   "metadata": {
    "papermill": {
     "duration": 0.005976,
     "end_time": "2023-10-30T05:34:30.577733",
     "exception": false,
     "start_time": "2023-10-30T05:34:30.571757",
     "status": "completed"
    },
    "tags": []
   },
   "source": [
    "#### Guardar métricas"
   ]
  },
  {
   "cell_type": "code",
   "execution_count": 12,
   "id": "e4896aee",
   "metadata": {
    "execution": {
     "iopub.execute_input": "2023-10-30T05:34:30.591004Z",
     "iopub.status.busy": "2023-10-30T05:34:30.590643Z",
     "iopub.status.idle": "2023-10-30T05:34:31.593341Z",
     "shell.execute_reply": "2023-10-30T05:34:31.592793Z"
    },
    "papermill": {
     "duration": 1.010898,
     "end_time": "2023-10-30T05:34:31.594717",
     "exception": false,
     "start_time": "2023-10-30T05:34:30.583819",
     "status": "completed"
    },
    "tags": []
   },
   "outputs": [
    {
     "name": "stdout",
     "output_type": "stream",
     "text": [
      "20231030T063430 : enderlab : INFO : Inicio guardar métricas multiclase\n",
      "20231030T063430 : enderlab : INFO : Inicio leer fichero ../tfm_git/ejecuciones/metricas/metricas_9322.csv\n",
      "20231030T063430 : enderlab : INFO : Fin leer fichero ../tfm_git/ejecuciones/metricas/metricas_9322.csv\n"
     ]
    },
    {
     "name": "stdout",
     "output_type": "stream",
     "text": [
      "20231030T063431 : enderlab : INFO : Inicio guardar fichero ../tfm_git/ejecuciones/metricas/metricas_9322.csv\n",
      "20231030T063431 : enderlab : INFO : Fichero borrado ../tfm_git/ejecuciones/metricas/metricas_9322.csv\n",
      "20231030T063431 : enderlab : INFO : Fin guardar fichero ../tfm_git/ejecuciones/metricas/metricas_9322.csv\n",
      "20231030T063431 : enderlab : INFO : Fin guardar métricas multiclase\n",
      "20231030T063431 : enderlab : INFO : Inicio leer fichero ../tfm_git/ejecuciones/metricas/metricas_9322.csv\n",
      "20231030T063431 : enderlab : INFO : Fin leer fichero ../tfm_git/ejecuciones/metricas/metricas_9322.csv\n"
     ]
    },
    {
     "data": {
      "text/html": [
       "<div>\n",
       "<style scoped>\n",
       "    .dataframe tbody tr th:only-of-type {\n",
       "        vertical-align: middle;\n",
       "    }\n",
       "\n",
       "    .dataframe tbody tr th {\n",
       "        vertical-align: top;\n",
       "    }\n",
       "\n",
       "    .dataframe thead th {\n",
       "        text-align: right;\n",
       "    }\n",
       "</style>\n",
       "<table border=\"1\" class=\"dataframe\">\n",
       "  <thead>\n",
       "    <tr style=\"text-align: right;\">\n",
       "      <th></th>\n",
       "      <th>tipo</th>\n",
       "      <th>select</th>\n",
       "      <th>clasific</th>\n",
       "      <th>semilla</th>\n",
       "      <th>accuracy</th>\n",
       "      <th>precision</th>\n",
       "      <th>recall</th>\n",
       "      <th>f1_score</th>\n",
       "      <th>roc_auc</th>\n",
       "      <th>hostname</th>\n",
       "      <th>total_time_sec</th>\n",
       "      <th>datetime</th>\n",
       "      <th>fichero_modelo</th>\n",
       "      <th>params</th>\n",
       "      <th>shape</th>\n",
       "      <th>features</th>\n",
       "      <th>roc_auc_ovr</th>\n",
       "      <th>indices_auc</th>\n",
       "      <th>indices_jaccard</th>\n",
       "    </tr>\n",
       "  </thead>\n",
       "  <tbody>\n",
       "    <tr>\n",
       "      <th>0</th>\n",
       "      <td>mul_m</td>\n",
       "      <td>RF</td>\n",
       "      <td>LR_EN</td>\n",
       "      <td>9322</td>\n",
       "      <td>0.597701</td>\n",
       "      <td>0.606404</td>\n",
       "      <td>0.620826</td>\n",
       "      <td>0.590984</td>\n",
       "      <td>NaN</td>\n",
       "      <td>enderlab</td>\n",
       "      <td>1693</td>\n",
       "      <td>2023-10-30 06:34:31.547074</td>\n",
       "      <td>modelo_9322_mul_m_RF_LR_EN.pkl</td>\n",
       "      <td>{'selector__max_features': 1000, 'selector__es...</td>\n",
       "      <td>X_test:(87, 18875)</td>\n",
       "      <td>['ENSG00000004799.8', 'ENSG00000006327.14', 'E...</td>\n",
       "      <td>0.864495</td>\n",
       "      <td>[0.7746478873239437, 0.9009259259259259, 0.755...</td>\n",
       "      <td>[0.3, 0.5789473684210527, 0.2777777777777778, ...</td>\n",
       "    </tr>\n",
       "    <tr>\n",
       "      <th>0</th>\n",
       "      <td>mul_m</td>\n",
       "      <td>MI</td>\n",
       "      <td>SVM</td>\n",
       "      <td>9322</td>\n",
       "      <td>0.551724</td>\n",
       "      <td>0.581092</td>\n",
       "      <td>0.581892</td>\n",
       "      <td>0.573695</td>\n",
       "      <td>NaN</td>\n",
       "      <td>enderlab</td>\n",
       "      <td>225</td>\n",
       "      <td>2023-10-30 06:06:10.582141</td>\n",
       "      <td>modelo_9322_mul_m_MI_SVM.pkl</td>\n",
       "      <td>{'selector__k': 1000, 'clasifier__kernel': 'rb...</td>\n",
       "      <td>X_test:(87, 18875)</td>\n",
       "      <td>['ENSG00000001084.13', 'ENSG00000001460.18', '...</td>\n",
       "      <td>0.824191</td>\n",
       "      <td>[0.7904929577464789, 0.8027777777777778, 0.723...</td>\n",
       "      <td>[0.30434782608695654, 0.3888888888888889, 0.23...</td>\n",
       "    </tr>\n",
       "    <tr>\n",
       "      <th>0</th>\n",
       "      <td>mul_m</td>\n",
       "      <td>MI</td>\n",
       "      <td>RF</td>\n",
       "      <td>9322</td>\n",
       "      <td>0.459770</td>\n",
       "      <td>0.485399</td>\n",
       "      <td>0.485693</td>\n",
       "      <td>0.442419</td>\n",
       "      <td>NaN</td>\n",
       "      <td>enderlab</td>\n",
       "      <td>250</td>\n",
       "      <td>2023-10-30 06:02:17.710654</td>\n",
       "      <td>modelo_9322_mul_m_MI_RF.pkl</td>\n",
       "      <td>{'selector__k': 1000, 'clasifier__n_estimators...</td>\n",
       "      <td>X_test:(87, 18875)</td>\n",
       "      <td>['ENSG00000001084.13', 'ENSG00000001460.18', '...</td>\n",
       "      <td>0.782481</td>\n",
       "      <td>[0.5713028169014084, 0.8435185185185186, 0.722...</td>\n",
       "      <td>[0.15789473684210525, 0.4090909090909091, 0.26...</td>\n",
       "    </tr>\n",
       "  </tbody>\n",
       "</table>\n",
       "</div>"
      ],
      "text/plain": [
       "    tipo select clasific  semilla  accuracy  precision    recall  f1_score  \\\n",
       "0  mul_m     RF    LR_EN     9322  0.597701   0.606404  0.620826  0.590984   \n",
       "0  mul_m     MI      SVM     9322  0.551724   0.581092  0.581892  0.573695   \n",
       "0  mul_m     MI       RF     9322  0.459770   0.485399  0.485693  0.442419   \n",
       "\n",
       "   roc_auc  hostname  total_time_sec                    datetime  \\\n",
       "0      NaN  enderlab            1693  2023-10-30 06:34:31.547074   \n",
       "0      NaN  enderlab             225  2023-10-30 06:06:10.582141   \n",
       "0      NaN  enderlab             250  2023-10-30 06:02:17.710654   \n",
       "\n",
       "                   fichero_modelo  \\\n",
       "0  modelo_9322_mul_m_RF_LR_EN.pkl   \n",
       "0    modelo_9322_mul_m_MI_SVM.pkl   \n",
       "0     modelo_9322_mul_m_MI_RF.pkl   \n",
       "\n",
       "                                              params               shape  \\\n",
       "0  {'selector__max_features': 1000, 'selector__es...  X_test:(87, 18875)   \n",
       "0  {'selector__k': 1000, 'clasifier__kernel': 'rb...  X_test:(87, 18875)   \n",
       "0  {'selector__k': 1000, 'clasifier__n_estimators...  X_test:(87, 18875)   \n",
       "\n",
       "                                            features  roc_auc_ovr  \\\n",
       "0  ['ENSG00000004799.8', 'ENSG00000006327.14', 'E...     0.864495   \n",
       "0  ['ENSG00000001084.13', 'ENSG00000001460.18', '...     0.824191   \n",
       "0  ['ENSG00000001084.13', 'ENSG00000001460.18', '...     0.782481   \n",
       "\n",
       "                                         indices_auc  \\\n",
       "0  [0.7746478873239437, 0.9009259259259259, 0.755...   \n",
       "0  [0.7904929577464789, 0.8027777777777778, 0.723...   \n",
       "0  [0.5713028169014084, 0.8435185185185186, 0.722...   \n",
       "\n",
       "                                     indices_jaccard  \n",
       "0  [0.3, 0.5789473684210527, 0.2777777777777778, ...  \n",
       "0  [0.30434782608695654, 0.3888888888888889, 0.23...  \n",
       "0  [0.15789473684210525, 0.4090909090909091, 0.26...  "
      ]
     },
     "metadata": {},
     "output_type": "display_data"
    }
   ],
   "source": [
    "if M_TIPO.startswith(\"bin\"):\n",
    "    myfunc.save_metricas_to_csv(random_search, X_test, y_test, M_TIPO, M_SELECT, M_CLASIF, total_time, SEMILLA, myfunc.MET_DIR, M_FICHERO, fichero_modelo)\n",
    "else:\n",
    "    myfunc.save_metricas_multi_to_csv(random_search, X_test, y_test, M_TIPO, M_SELECT, M_CLASIF, total_time, SEMILLA, myfunc.MET_DIR, M_FICHERO, fichero_modelo)\n",
    "\n",
    "df1=myfunc.read_metricas_to_df(myfunc.MET_DIR,M_FICHERO)\n",
    "\n",
    "display(df1.sort_values(\"datetime\", ascending=False)[:3])\n"
   ]
  },
  {
   "cell_type": "markdown",
   "id": "78c9cb18",
   "metadata": {
    "papermill": {
     "duration": 0.006491,
     "end_time": "2023-10-30T05:34:31.608217",
     "exception": false,
     "start_time": "2023-10-30T05:34:31.601726",
     "status": "completed"
    },
    "tags": []
   },
   "source": [
    "#### Guardar resultados"
   ]
  },
  {
   "cell_type": "code",
   "execution_count": 13,
   "id": "91dfb958",
   "metadata": {
    "execution": {
     "iopub.execute_input": "2023-10-30T05:34:31.622541Z",
     "iopub.status.busy": "2023-10-30T05:34:31.621948Z",
     "iopub.status.idle": "2023-10-30T05:34:31.631425Z",
     "shell.execute_reply": "2023-10-30T05:34:31.630872Z"
    },
    "papermill": {
     "duration": 0.01811,
     "end_time": "2023-10-30T05:34:31.632726",
     "exception": false,
     "start_time": "2023-10-30T05:34:31.614616",
     "status": "completed"
    },
    "tags": []
   },
   "outputs": [
    {
     "name": "stdout",
     "output_type": "stream",
     "text": [
      "20231030T063431 : enderlab : INFO : Inicio guardar resultados\n",
      "20231030T063431 : enderlab : INFO : Inicio guardar fichero ../tfm_git/ejecuciones/metricas/resultados_9322_mul_m-RF-LR_EN.csv\n",
      "20231030T063431 : enderlab : INFO : Fin guardar fichero ../tfm_git/ejecuciones/metricas/resultados_9322_mul_m-RF-LR_EN.csv\n",
      "20231030T063431 : enderlab : INFO : Fin guardar resultados\n"
     ]
    }
   ],
   "source": [
    "fichero_resultados=R_FICHERO+\"_\"+M_TIPO+\"-\"+M_SELECT+\"-\"+M_CLASIF+\".csv\"\n",
    "myfunc.save_resultados_to_csv(M_TIPO, M_SELECT, M_CLASIF,  random_search, myfunc.MET_DIR, fichero_resultados)\n"
   ]
  }
 ],
 "metadata": {
  "kernelspec": {
   "display_name": "Python 3 (ipykernel)",
   "language": "python",
   "name": "python3"
  },
  "language_info": {
   "codemirror_mode": {
    "name": "ipython",
    "version": 3
   },
   "file_extension": ".py",
   "mimetype": "text/x-python",
   "name": "python",
   "nbconvert_exporter": "python",
   "pygments_lexer": "ipython3",
   "version": "3.10.11"
  },
  "papermill": {
   "default_parameters": {},
   "duration": 1699.342135,
   "end_time": "2023-10-30T05:34:34.258569",
   "environment_variables": {},
   "exception": null,
   "input_path": "03_entrenamiento.ipynb",
   "output_path": "ejecuciones/training/03_entrenamiento.20231030T060614.param_0000_9322_mul_m_RF_LR_EN.output.ipynb",
   "parameters": {
    "MAX_ITERS": 500,
    "M_CLASIF": "LR_EN",
    "M_FICHERO": "metricas_9322",
    "M_SELECT": "RF",
    "M_TIPO": "mul_m",
    "PRE_DATA_FILE": "rows_transpose_norm_by_gene_id_with_target_num_",
    "P_FICHERO": "param_0000_9322_mul_m_RF_LR_EN.yaml",
    "R_FICHERO": "resultados_9322",
    "SCORING": "roc_auc_ovr",
    "SEMILLA": 9322,
    "eval_clasifier": "LogisticRegressionCV(random_state=SEMILLA)",
    "eval_selector": "SelectFromModel(estimator=RandomForestClassifier(random_state=SEMILLA), threshold=-np.inf)",
    "param_distributions": {
     "clasifier__l1_ratios": [
      [
       0.1
      ]
     ],
     "clasifier__max_iter": [
      10000
     ],
     "clasifier__penalty": [
      "elasticnet"
     ],
     "clasifier__solver": [
      "saga"
     ],
     "selector__estimator__n_estimators": [
      400
     ],
     "selector__max_features": [
      1000
     ]
    }
   },
   "start_time": "2023-10-30T05:06:14.916434",
   "version": "2.4.0"
  }
 },
 "nbformat": 4,
 "nbformat_minor": 5
}