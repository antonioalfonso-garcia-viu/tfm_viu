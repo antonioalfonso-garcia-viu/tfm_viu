{
 "cells": [
  {
   "cell_type": "markdown",
   "id": "4de3b491",
   "metadata": {
    "papermill": {
     "duration": 0.0,
     "end_time": "2023-10-30T02:11:22.840201",
     "exception": false,
     "start_time": "2023-10-30T02:11:22.840201",
     "status": "completed"
    },
    "tags": []
   },
   "source": [
    "##### Inicio"
   ]
  },
  {
   "cell_type": "markdown",
   "id": "6a5274f8",
   "metadata": {
    "papermill": {
     "duration": 0.0,
     "end_time": "2023-10-30T02:11:22.840201",
     "exception": false,
     "start_time": "2023-10-30T02:11:22.840201",
     "status": "completed"
    },
    "tags": []
   },
   "source": [
    "#### Carga de datos"
   ]
  },
  {
   "cell_type": "code",
   "execution_count": 1,
   "id": "7588c89f",
   "metadata": {
    "execution": {
     "iopub.execute_input": "2023-10-30T02:11:22.855651Z",
     "iopub.status.busy": "2023-10-30T02:11:22.855651Z",
     "iopub.status.idle": "2023-10-30T02:11:24.030272Z",
     "shell.execute_reply": "2023-10-30T02:11:24.030272Z"
    },
    "papermill": {
     "duration": 1.174621,
     "end_time": "2023-10-30T02:11:24.030272",
     "exception": false,
     "start_time": "2023-10-30T02:11:22.855651",
     "status": "completed"
    },
    "tags": []
   },
   "outputs": [
    {
     "name": "stdout",
     "output_type": "stream",
     "text": [
      "CPU_COUNT: 24; NODE: amilcar32; sys.version: 3.10.12 | packaged by Anaconda, Inc. | (main, Jul  5 2023, 19:09:20) [MSC v.1916 64 bit (AMD64)]\n",
      "LOKY_MAX_CPU_COUNT is not set.\n",
      "OMP_NUM_THREADS is not set.\n"
     ]
    }
   ],
   "source": [
    "import os\n",
    "import numpy as np\n",
    "import pandas as pd\n",
    "import datetime\n",
    "import sklearn\n",
    "import logging\n",
    "import warnings\n",
    "\n",
    "from sklearn.pipeline import Pipeline\n",
    "from sklearn.model_selection import RandomizedSearchCV, KFold, cross_val_score, train_test_split\n",
    "from sklearn.metrics import accuracy_score, confusion_matrix, classification_report, roc_auc_score\n",
    "\n",
    "#  cargar algoritmos para aprendizaje supervisado\n",
    "from sklearn.feature_selection import SelectKBest, f_classif, SelectFromModel, mutual_info_classif\n",
    "from sklearn.svm import SVC\n",
    "from sklearn.ensemble import RandomForestClassifier\n",
    "from sklearn.linear_model import LogisticRegression,LogisticRegressionCV\n",
    "\n",
    "# importar fichero con utilidades propias\n",
    "from commons import myfunctions as myfunc\n"
   ]
  },
  {
   "cell_type": "markdown",
   "id": "f695eb08",
   "metadata": {
    "papermill": {
     "duration": 0.0,
     "end_time": "2023-10-30T02:11:24.030272",
     "exception": false,
     "start_time": "2023-10-30T02:11:24.030272",
     "status": "completed"
    },
    "tags": []
   },
   "source": [
    "#### Parámetros a utilizar en el entrenamiento.\n",
    "\n",
    "Se indican los 3 algoritmos de *selección de características* (eval_selector_xxx) y los 3 algoritmos para la _clasificación_ (eval_clasifier_xxx)\n",
    "\n",
    "En *param_distributions* se indicar los parámetros que utilizan los algoritmos en la función RandomSearchCV.\n",
    "\n",
    "Esta celda tiene la etiqueta **parameters** que servirá para poder lanzar los entrenamientos con la utilidad **papermill** pasándole un fichero con los parámetros. Los nuevos parámetros se situarán tras esta celda para tener prevalencia."
   ]
  },
  {
   "cell_type": "code",
   "execution_count": 2,
   "id": "ddc9bc63",
   "metadata": {
    "execution": {
     "iopub.execute_input": "2023-10-30T02:11:24.030272Z",
     "iopub.status.busy": "2023-10-30T02:11:24.030272Z",
     "iopub.status.idle": "2023-10-30T02:11:24.061532Z",
     "shell.execute_reply": "2023-10-30T02:11:24.061532Z"
    },
    "papermill": {
     "duration": 0.03126,
     "end_time": "2023-10-30T02:11:24.061532",
     "exception": false,
     "start_time": "2023-10-30T02:11:24.030272",
     "status": "completed"
    },
    "tags": [
     "parameters"
    ]
   },
   "outputs": [
    {
     "name": "stdout",
     "output_type": "stream",
     "text": [
      "20231030T031124 : amilcar32 : INFO : Utilizando parámetros de mul_m\n"
     ]
    }
   ],
   "source": [
    "#  Parametros para el entrenamiento\n",
    "\n",
    "SEMILLA=        42\n",
    "M_TIPO=         \"mul_m\"\n",
    "M_SELECT=       \"MI\"\n",
    "M_CLASIF=       \"SVM\"\n",
    "R_FICHERO=      \"resultados\"\n",
    "M_FICHERO=      \"metricas\"\n",
    "PRE_DATA_FILE=  \"rows_transpose_norm_by_gene_id_with_target_num_\"\n",
    "SCORING=        \"roc_auc_ovr\" \n",
    "MAX_ITERS=      100\n",
    "\n",
    "def mutual_info_classif_state(X, y):\n",
    "    return mutual_info_classif(X, y, random_state=SEMILLA)\n",
    "\n",
    "eval_selector_mi = \"SelectKBest(score_func=mutual_info_classif_state)\"\n",
    "eval_selector_rf=  \"SelectFromModel(estimator=RandomForestClassifier(random_state=SEMILLA), threshold=-np.inf)\"\n",
    "eval_selector_anova=  \"SelectKBest(score_func=f_classif)\"\n",
    "\n",
    "eval_clasifier_svm= \"SVC(probability=True, random_state=SEMILLA)\"\n",
    "eval_clasifier_rf= \"RandomForestClassifier(random_state=SEMILLA)\"\n",
    "eval_clasifier_lr= \"LogisticRegressionCV(random_state=SEMILLA)\"\n",
    "\n",
    "if M_TIPO.startswith(\"bin_m\"):\n",
    "    myfunc.verbose(f\"Utilizando parámetros de {M_TIPO}\")\n",
    "    eval_selector = eval_selector_mi\n",
    "    eval_clasifier = eval_clasifier_svm\n",
    "\n",
    "    SEMILLA = 6578\n",
    "    M_SELECT = \"MI\"\n",
    "    M_CLASIF = \"SVM\"\n",
    "    param_distributions = {'selector__k': [1000], \n",
    "         'clasifier__kernel': ['rbf'], 'clasifier__gamma': [0.01], 'clasifier__C': [100]}\n",
    "elif M_TIPO.startswith(\"bin_s\"):\n",
    "    myfunc.verbose(f\"Utilizando parámetros de {M_TIPO}\")\n",
    "    eval_selector = eval_selector_rf\n",
    "    eval_clasifier = eval_clasifier_lr\n",
    "\n",
    "    SEMILLA = 6191\n",
    "    M_SELECT = \"RF\"\n",
    "    M_CLASIF = \"LR_L2\"\n",
    "    param_distributions = {'selector__max_features': [1000], 'selector__estimator__n_estimators': [200], \n",
    "        'clasifier__solver': ['lbfgs'], 'clasifier__penalty': ['l2'], 'clasifier__max_iter': [10000]}\n",
    "\n",
    "elif M_TIPO.startswith(\"mul_m\"):\n",
    "    myfunc.verbose(f\"Utilizando parámetros de {M_TIPO}\")\n",
    " \n",
    "    eval_selector = eval_selector_rf\n",
    "    eval_clasifier = eval_clasifier_lr\n",
    "\n",
    "    SEMILLA = 6191\n",
    "    M_SELECT = \"RF\"\n",
    "    M_CLASIF = \"LR_L2\"\n",
    "    param_distributions = {'selector__max_features': [1000], 'selector__estimator__n_estimators': [400], \n",
    "        'clasifier__solver': ['lbfgs'], 'clasifier__penalty': ['l2'], 'clasifier__max_iter': [10000]}\n",
    "\n",
    "else:\n",
    "    # M_TIPO.startswith(\"mul_s\"):\n",
    "    myfunc.verbose(f\"Utilizando parámetros de {M_TIPO}\")\n",
    "    eval_selector = eval_selector_anova\n",
    "    eval_clasifier = eval_clasifier_lr\n",
    "\n",
    "    SEMILLA = 1860\n",
    "    M_SELECT = \"ANOVA\"\n",
    "    M_CLASIF = \"LR_L2\"\n",
    "    param_distributions = {'selector__k': [1000], \n",
    "        'clasifier__solver': ['saga'], 'clasifier__penalty': ['l2'], 'clasifier__max_iter': [10000]}\n",
    "\n"
   ]
  },
  {
   "cell_type": "code",
   "execution_count": 3,
   "id": "090866b4",
   "metadata": {
    "execution": {
     "iopub.execute_input": "2023-10-30T02:11:24.077164Z",
     "iopub.status.busy": "2023-10-30T02:11:24.077164Z",
     "iopub.status.idle": "2023-10-30T02:11:24.092782Z",
     "shell.execute_reply": "2023-10-30T02:11:24.092782Z"
    },
    "papermill": {
     "duration": 0.03125,
     "end_time": "2023-10-30T02:11:24.092782",
     "exception": false,
     "start_time": "2023-10-30T02:11:24.061532",
     "status": "completed"
    },
    "tags": [
     "injected-parameters"
    ]
   },
   "outputs": [],
   "source": [
    "# Parameters\n",
    "M_TIPO = \"mul_s\"\n",
    "M_SELECT = \"MI\"\n",
    "M_CLASIF = \"LR_L1\"\n",
    "P_FICHERO = \"param_0000_1860_mul_s_MI_LR_L1.yaml\"\n",
    "R_FICHERO = \"resultados_1860\"\n",
    "M_FICHERO = \"metricas_1860\"\n",
    "PRE_DATA_FILE = \"rows_transpose_norm_by_gene_id_with_target_num_\"\n",
    "SCORING = \"roc_auc_ovr\"\n",
    "SEMILLA = 1860\n",
    "MAX_ITERS = 500\n",
    "eval_selector = \"SelectKBest(score_func=mutual_info_classif_state)\"\n",
    "eval_clasifier = \"LogisticRegressionCV(random_state=SEMILLA)\"\n",
    "param_distributions = {\n",
    "    \"selector__k\": [500],\n",
    "    \"clasifier__solver\": [\"saga\"],\n",
    "    \"clasifier__penalty\": [\"l1\"],\n",
    "    \"clasifier__max_iter\": [10000],\n",
    "}\n"
   ]
  },
  {
   "cell_type": "code",
   "execution_count": 4,
   "id": "f1167ed4",
   "metadata": {
    "execution": {
     "iopub.execute_input": "2023-10-30T02:11:24.092782Z",
     "iopub.status.busy": "2023-10-30T02:11:24.092782Z",
     "iopub.status.idle": "2023-10-30T02:11:24.124034Z",
     "shell.execute_reply": "2023-10-30T02:11:24.124034Z"
    },
    "papermill": {
     "duration": 0.031252,
     "end_time": "2023-10-30T02:11:24.124034",
     "exception": false,
     "start_time": "2023-10-30T02:11:24.092782",
     "status": "completed"
    },
    "tags": []
   },
   "outputs": [],
   "source": [
    "DATA_FILE = PRE_DATA_FILE + M_TIPO\n",
    "\n",
    "# si viene \"None\" en el parámetro max_depth, se le quitan las comillas para que no sea entendido por el algoritmo como un texto\n",
    "if \"clasifier__max_depth\" in param_distributions:\n",
    "    param_distributions['clasifier__max_depth'] = [None if x == 'None' else x for x in param_distributions['clasifier__max_depth']]"
   ]
  },
  {
   "cell_type": "markdown",
   "id": "3eb8c26c",
   "metadata": {
    "papermill": {
     "duration": 0.0,
     "end_time": "2023-10-30T02:11:24.124034",
     "exception": false,
     "start_time": "2023-10-30T02:11:24.124034",
     "status": "completed"
    },
    "tags": []
   },
   "source": [
    "Asignar los algoritmos que se utilizarán en la función RandomSearchCV"
   ]
  },
  {
   "cell_type": "code",
   "execution_count": 5,
   "id": "5e374063",
   "metadata": {
    "execution": {
     "iopub.execute_input": "2023-10-30T02:11:24.140762Z",
     "iopub.status.busy": "2023-10-30T02:11:24.140762Z",
     "iopub.status.idle": "2023-10-30T02:11:24.155851Z",
     "shell.execute_reply": "2023-10-30T02:11:24.155851Z"
    },
    "papermill": {
     "duration": 0.015089,
     "end_time": "2023-10-30T02:11:24.155851",
     "exception": false,
     "start_time": "2023-10-30T02:11:24.140762",
     "status": "completed"
    },
    "tags": []
   },
   "outputs": [],
   "source": [
    "algor_selector=eval(eval_selector)\n",
    "algor_clasifier=eval(eval_clasifier)"
   ]
  },
  {
   "cell_type": "markdown",
   "id": "76e91bdc",
   "metadata": {
    "papermill": {
     "duration": 0.0,
     "end_time": "2023-10-30T02:11:24.155851",
     "exception": false,
     "start_time": "2023-10-30T02:11:24.155851",
     "status": "completed"
    },
    "tags": []
   },
   "source": [
    "#### Comprobar el entorno y leer fichero de muestras"
   ]
  },
  {
   "cell_type": "code",
   "execution_count": 6,
   "id": "45b654f9",
   "metadata": {
    "execution": {
     "iopub.execute_input": "2023-10-30T02:11:24.155851Z",
     "iopub.status.busy": "2023-10-30T02:11:24.155851Z",
     "iopub.status.idle": "2023-10-30T02:11:24.296660Z",
     "shell.execute_reply": "2023-10-30T02:11:24.296660Z"
    },
    "papermill": {
     "duration": 0.140809,
     "end_time": "2023-10-30T02:11:24.296660",
     "exception": false,
     "start_time": "2023-10-30T02:11:24.155851",
     "status": "completed"
    },
    "tags": []
   },
   "outputs": [
    {
     "name": "stdout",
     "output_type": "stream",
     "text": [
      "20231030T031124 : amilcar32 : INFO : Encontrada carpeta DATA_DIR=..\\tfm_viu\\datos\n",
      "20231030T031124 : amilcar32 : INFO : Encontrada carpeta CFDNA_DIR=..\\tfm_viu\\datos\\cfDNA_5hmC\n",
      "20231030T031124 : amilcar32 : INFO : Encontrada carpeta GENCODE_DIR=..\\tfm_viu\\datos\\gencode\n",
      "20231030T031124 : amilcar32 : INFO : Encontrada carpeta H5_DIR=..\\tfm_viu\\datos\\h5\n",
      "20231030T031124 : amilcar32 : INFO : Encontrada carpeta LOG_DIR=..\\tfm_viu\\datos\\logs\n",
      "20231030T031124 : amilcar32 : INFO : Encontrada carpeta CSV_DIR=..\\tfm_viu\\datos\\csv\n",
      "20231030T031124 : amilcar32 : INFO : Encontrada carpeta MODEL_DIR=..\\tfm_viu\\ejecuciones\\modelos\n",
      "20231030T031124 : amilcar32 : INFO : Encontrada carpeta EXEC_DIR=..\\tfm_viu\\ejecuciones\n",
      "20231030T031124 : amilcar32 : INFO : Encontrada carpeta MET_DIR=..\\tfm_viu\\ejecuciones\\metricas\n",
      "20231030T031124 : amilcar32 : INFO : Inicio leer fichero h5 ..\\tfm_viu\\datos\\h5\\rows_transpose_norm_by_gene_id_with_target_num_mul_s.h5\n",
      "20231030T031124 : amilcar32 : INFO : Leyendo clave /df\n"
     ]
    },
    {
     "name": "stdout",
     "output_type": "stream",
     "text": [
      "20231030T031124 : amilcar32 : INFO : Tamaño (259, 18876)\n",
      "20231030T031124 : amilcar32 : INFO : Fin leer fichero h5 ..\\tfm_viu\\datos\\h5\\rows_transpose_norm_by_gene_id_with_target_num_mul_s.h5\n"
     ]
    },
    {
     "data": {
      "text/plain": [
       "target\n",
       "0    37\n",
       "1    37\n",
       "2    37\n",
       "3    37\n",
       "4    37\n",
       "5    37\n",
       "6    37\n",
       "dtype: int64"
      ]
     },
     "metadata": {},
     "output_type": "display_data"
    },
    {
     "name": "stdout",
     "output_type": "stream",
     "text": [
      "Shape df: (259, 18876)\n",
      "Shape X_train: (207, 18875)\n",
      "Shape X_test: (52, 18875)\n"
     ]
    }
   ],
   "source": [
    "start_time = datetime.datetime.now()\n",
    "\n",
    "myfunc.reset_vars()\n",
    "\n",
    "myfunc.NOTEBK_FILENAME = myfunc.get_nb_name()\n",
    "\n",
    "myfunc.check_enviroment(myfunc.DATA_DIR, myfunc.CFDNA_DIR, myfunc.GENCODE_DIR, myfunc.H5_DIR, myfunc.LOG_DIR, myfunc.CSV_DIR, myfunc.MODEL_DIR, myfunc.EXEC_DIR, myfunc.MET_DIR)\n",
    "\n",
    "# Leer fichero con las muestras\n",
    "df_t = myfunc.read_h5_to_df(DATA_FILE, myfunc.H5_DIR)\n",
    "display(df_t.groupby(\"target\").size())\n",
    "print(\"Shape df:\",df_t.shape)\n",
    "\n",
    "# Separar caracteristicas/genes de las etiquetas/tipos de cáncer\n",
    "X = df_t.iloc[:, :-1]  # Todas las columnas excepto la última\n",
    "y = df_t.iloc[:, -1]  # La última columna contiene los identificadores de los tipos de cáncer\n",
    "\n",
    "#  Crear el conjunto de datos de entrenamiento y de pruebas, y se fija la semilla para siempre coger el mismo juego de muestras\n",
    "X_train, X_test, y_train, y_test = train_test_split(X, y, test_size=0.2, shuffle=True, random_state=42)\n",
    "print(\"Shape X_train:\",X_train.shape)\n",
    "print(\"Shape X_test:\",X_test.shape)\n"
   ]
  },
  {
   "cell_type": "markdown",
   "id": "55094d2b",
   "metadata": {
    "papermill": {
     "duration": 0.0,
     "end_time": "2023-10-30T02:11:24.299993",
     "exception": false,
     "start_time": "2023-10-30T02:11:24.299993",
     "status": "completed"
    },
    "tags": []
   },
   "source": [
    "#### Selección de características y clasificación."
   ]
  },
  {
   "cell_type": "code",
   "execution_count": 7,
   "id": "7aa4685d",
   "metadata": {
    "execution": {
     "iopub.execute_input": "2023-10-30T02:11:24.312731Z",
     "iopub.status.busy": "2023-10-30T02:11:24.312731Z",
     "iopub.status.idle": "2023-10-30T02:28:01.916571Z",
     "shell.execute_reply": "2023-10-30T02:28:01.916571Z"
    },
    "papermill": {
     "duration": 997.616578,
     "end_time": "2023-10-30T02:28:01.916571",
     "exception": false,
     "start_time": "2023-10-30T02:11:24.299993",
     "status": "completed"
    },
    "tags": []
   },
   "outputs": [
    {
     "name": "stdout",
     "output_type": "stream",
     "text": [
      "20231030T031124 : amilcar32 : INFO : Iniciando entrenamiento\n",
      "num_iter: 1 , max_iter: 1\n",
      "Fitting 5 folds for each of 1 candidates, totalling 5 fits\n"
     ]
    },
    {
     "name": "stdout",
     "output_type": "stream",
     "text": [
      "Mejores Hiperparámetros: {'selector__k': 500, 'clasifier__solver': 'saga', 'clasifier__penalty': 'l1', 'clasifier__max_iter': 10000}\n",
      "Mejor Puntuación: 0.7772\n",
      "20231030T032801 : amilcar32 : INFO : Fin entrenamiento\n"
     ]
    }
   ],
   "source": [
    "myfunc.verbose(\"Iniciando entrenamiento\")\n",
    "\n",
    "kf = KFold(n_splits=5, shuffle=True, random_state=SEMILLA)\n",
    "\n",
    "# Crear el pipeline para el flujo de tareas\n",
    "tasks_pipeline = Pipeline([\n",
    "    ('selector', algor_selector),\n",
    "    ('clasifier', algor_clasifier)\n",
    "])\n",
    "\n",
    "# MAX_ITERS puede limitar el número de iteraciones si son excesivas para las combinaciones de parámetros buscando un óptimo local, \n",
    "# sino funcionaría como GridSearchCV al revisar todas las cominaciones de los parámetros\n",
    "num_iteraciones = 1\n",
    "num_iteraciones = num_iteraciones * np.prod([len(elemento1) for _, elemento1 in param_distributions.items()])\n",
    "max_iteraciones = num_iteraciones if num_iteraciones <= MAX_ITERS else MAX_ITERS\n",
    "print(\"num_iter:\",num_iteraciones,\", max_iter:\",max_iteraciones)\n",
    "\n",
    "random_search = RandomizedSearchCV(\n",
    "    tasks_pipeline, \n",
    "    param_distributions, \n",
    "    n_iter=max_iteraciones,\n",
    "    scoring=SCORING,\n",
    "    cv=kf,\n",
    "    verbose=3, \n",
    "    random_state=SEMILLA, \n",
    "    n_jobs=-1\n",
    "    )\n",
    "\n",
    "# Entrenar el modelo\n",
    "random_search.fit(X_train, y_train)\n",
    "\n",
    "# Ver los mejores hiperparámetros encontrados\n",
    "print(f'Mejores Hiperparámetros: {random_search.best_params_}')\n",
    "print(f'Mejor Puntuación: {random_search.best_score_:.4f}')\n",
    "\n",
    "# Nos quedamos con el mejor modelo para ver las métricas\n",
    "mejor_modelo = random_search.best_estimator_\n",
    "\n",
    "myfunc.verbose(\"Fin entrenamiento\")"
   ]
  },
  {
   "cell_type": "markdown",
   "id": "fc504ce3",
   "metadata": {
    "papermill": {
     "duration": 0.015594,
     "end_time": "2023-10-30T02:28:01.932165",
     "exception": false,
     "start_time": "2023-10-30T02:28:01.916571",
     "status": "completed"
    },
    "tags": []
   },
   "source": [
    "#### Guardar modelo"
   ]
  },
  {
   "cell_type": "code",
   "execution_count": 8,
   "id": "b88e6a27",
   "metadata": {
    "execution": {
     "iopub.execute_input": "2023-10-30T02:28:01.947782Z",
     "iopub.status.busy": "2023-10-30T02:28:01.947782Z",
     "iopub.status.idle": "2023-10-30T02:28:01.994757Z",
     "shell.execute_reply": "2023-10-30T02:28:01.994757Z"
    },
    "papermill": {
     "duration": 0.046975,
     "end_time": "2023-10-30T02:28:01.994757",
     "exception": false,
     "start_time": "2023-10-30T02:28:01.947782",
     "status": "completed"
    },
    "tags": []
   },
   "outputs": [
    {
     "name": "stdout",
     "output_type": "stream",
     "text": [
      "20231030T032801 : amilcar32 : INFO : Inicio guardar fichero ..\\tfm_viu\\ejecuciones\\modelos\\modelo_1860_mul_s_MI_LR_L1.pkl\n",
      "20231030T032801 : amilcar32 : INFO : Fin guardar fichero ..\\tfm_viu\\ejecuciones\\modelos\\modelo_1860_mul_s_MI_LR_L1.pkl\n"
     ]
    }
   ],
   "source": [
    "fichero_modelo = str.replace(\"modelo_\"+str(SEMILLA).zfill(4)+\"_\"+M_TIPO+\"_\"+M_SELECT+\"_\"+M_CLASIF+\".pkl\", \" \", \"_\")\n",
    "\n",
    "myfunc.save_modelo(mejor_modelo, myfunc.MODEL_DIR, fichero_modelo)"
   ]
  },
  {
   "cell_type": "markdown",
   "id": "ed472027",
   "metadata": {
    "papermill": {
     "duration": 0.017654,
     "end_time": "2023-10-30T02:28:02.012411",
     "exception": false,
     "start_time": "2023-10-30T02:28:01.994757",
     "status": "completed"
    },
    "tags": []
   },
   "source": [
    "#### Ver resultados del las iteraciones hechas por RandomSearchCV"
   ]
  },
  {
   "cell_type": "code",
   "execution_count": 9,
   "id": "1196c021",
   "metadata": {
    "execution": {
     "iopub.execute_input": "2023-10-30T02:28:02.026520Z",
     "iopub.status.busy": "2023-10-30T02:28:02.026520Z",
     "iopub.status.idle": "2023-10-30T02:28:02.042368Z",
     "shell.execute_reply": "2023-10-30T02:28:02.042368Z"
    },
    "papermill": {
     "duration": 0.015848,
     "end_time": "2023-10-30T02:28:02.042368",
     "exception": false,
     "start_time": "2023-10-30T02:28:02.026520",
     "status": "completed"
    },
    "tags": []
   },
   "outputs": [
    {
     "name": "stdout",
     "output_type": "stream",
     "text": [
      "20231030T032802 : amilcar32 : INFO : Inicio ver resultados\n",
      "Mejores Hiperparámetros: {'selector__k': 500, 'clasifier__solver': 'saga', 'clasifier__penalty': 'l1', 'clasifier__max_iter': 10000}\n",
      "Mejores puntuaciones: 0.7772 | Params: {'selector__k': 500, 'clasifier__solver': 'saga', 'clasifier__penalty': 'l1', 'clasifier__max_iter': 10000}\n",
      "Media de las puntuaciones: 0.7772 | Params: {'selector__k': 500, 'clasifier__solver': 'saga', 'clasifier__penalty': 'l1', 'clasifier__max_iter': 10000}\n",
      "20231030T032802 : amilcar32 : INFO : Fin resultados\n"
     ]
    }
   ],
   "source": [
    "myfunc.ver_resultados_search(random_search)"
   ]
  },
  {
   "cell_type": "markdown",
   "id": "843a5373",
   "metadata": {
    "papermill": {
     "duration": 0.0,
     "end_time": "2023-10-30T02:28:02.042368",
     "exception": false,
     "start_time": "2023-10-30T02:28:02.042368",
     "status": "completed"
    },
    "tags": []
   },
   "source": [
    "#### Ver métricas del mejor modelo"
   ]
  },
  {
   "cell_type": "code",
   "execution_count": 10,
   "id": "00643dde",
   "metadata": {
    "execution": {
     "iopub.execute_input": "2023-10-30T02:28:02.057882Z",
     "iopub.status.busy": "2023-10-30T02:28:02.057882Z",
     "iopub.status.idle": "2023-10-30T02:28:03.466357Z",
     "shell.execute_reply": "2023-10-30T02:28:03.466357Z"
    },
    "papermill": {
     "duration": 1.408475,
     "end_time": "2023-10-30T02:28:03.466357",
     "exception": false,
     "start_time": "2023-10-30T02:28:02.057882",
     "status": "completed"
    },
    "tags": []
   },
   "outputs": [
    {
     "name": "stdout",
     "output_type": "stream",
     "text": [
      "20231030T032802 : amilcar32 : INFO : Inicio ver métricas multiclase\n"
     ]
    },
    {
     "name": "stdout",
     "output_type": "stream",
     "text": [
      "              precision    recall  f1-score   support\n",
      "\n",
      "           0       0.42      0.45      0.43        11\n",
      "           1       1.00      0.38      0.55         8\n",
      "           2       0.20      0.12      0.15         8\n",
      "           3       0.38      0.60      0.46         5\n",
      "           4       0.62      1.00      0.76         8\n",
      "           5       0.67      0.33      0.44         6\n",
      "           6       0.38      0.50      0.43         6\n",
      "\n",
      "    accuracy                           0.48        52\n",
      "   macro avg       0.52      0.48      0.46        52\n",
      "weighted avg       0.52      0.48      0.46        52\n",
      "\n",
      "\n",
      "\n",
      "           Exactitud: 0.480769\n",
      "   Precisión (media): 0.521245\n",
      "      Recall (media): 0.483983\n",
      "    F1-score (media): 0.461506\n",
      "\n",
      "\n",
      "AUC para el tipo de cáncer 0-Control.... 0.6208\n",
      "AUC para el tipo de cáncer 1-Bladder.... 0.9006\n",
      "AUC para el tipo de cáncer 2-Breast..... 0.6506\n",
      "AUC para el tipo de cáncer 3-Colorectal. 0.8979\n",
      "AUC para el tipo de cáncer 4-Kidney..... 0.9318\n",
      "AUC para el tipo de cáncer 5-Lung....... 0.9493\n",
      "AUC para el tipo de cáncer 6-Prostate... 0.8587\n",
      "\n",
      "Media de AUC: 0.8299\n"
     ]
    },
    {
     "data": {
      "image/png": "[encoded data removed]",
      "text/plain": [
       "<Figure size 1000x600 with 1 Axes>"
      ]
     },
     "metadata": {},
     "output_type": "display_data"
    },
    {
     "name": "stdout",
     "output_type": "stream",
     "text": [
      "\n",
      "\n"
     ]
    },
    {
     "data": {
      "image/png": "[encoded data removed]",
      "text/plain": [
       "<Figure size 800x400 with 2 Axes>"
      ]
     },
     "metadata": {},
     "output_type": "display_data"
    },
    {
     "name": "stdout",
     "output_type": "stream",
     "text": [
      "\n",
      "\n",
      "Puntuación Jaccard para el cáncer tipo 0-Control.... 0.2778\n",
      "Puntuación Jaccard para el cáncer tipo 1-Bladder.... 0.3750\n",
      "Puntuación Jaccard para el cáncer tipo 2-Breast..... 0.0833\n",
      "Puntuación Jaccard para el cáncer tipo 3-Colorectal. 0.3000\n",
      "Puntuación Jaccard para el cáncer tipo 4-Kidney..... 0.6154\n",
      "Puntuación Jaccard para el cáncer tipo 5-Lung....... 0.2857\n",
      "Puntuación Jaccard para el cáncer tipo 6-Prostate... 0.2727\n",
      "\n",
      "Media de la puntuación de Jaccard: 0.3157\n"
     ]
    }
   ],
   "source": [
    "if M_TIPO.startswith(\"bin\"):\n",
    "    myfunc.ver_metricas(mejor_modelo, X_test, y_test)\n",
    "else:\n",
    "    myfunc.ver_metricas_multi(mejor_modelo, X_test, y_test)\n"
   ]
  },
  {
   "cell_type": "markdown",
   "id": "2e0ce15c",
   "metadata": {
    "papermill": {
     "duration": 0.015624,
     "end_time": "2023-10-30T02:28:03.497450",
     "exception": false,
     "start_time": "2023-10-30T02:28:03.481826",
     "status": "completed"
    },
    "tags": []
   },
   "source": [
    "#### Finalización del notebook"
   ]
  },
  {
   "cell_type": "code",
   "execution_count": 11,
   "id": "e596d620",
   "metadata": {
    "execution": {
     "iopub.execute_input": "2023-10-30T02:28:03.528643Z",
     "iopub.status.busy": "2023-10-30T02:28:03.528643Z",
     "iopub.status.idle": "2023-10-30T02:28:03.544501Z",
     "shell.execute_reply": "2023-10-30T02:28:03.544501Z"
    },
    "papermill": {
     "duration": 0.031438,
     "end_time": "2023-10-30T02:28:03.544501",
     "exception": false,
     "start_time": "2023-10-30T02:28:03.513063",
     "status": "completed"
    },
    "tags": []
   },
   "outputs": [
    {
     "name": "stdout",
     "output_type": "stream",
     "text": [
      "20231030T032803 : amilcar32 : INFO : Notebook ha tardado 999 seconds\n"
     ]
    }
   ],
   "source": [
    "end_time = datetime.datetime.now()\n",
    "total_time = end_time - start_time\n",
    "myfunc.verbose(f\"Notebook ha tardado {total_time.seconds} seconds\")"
   ]
  },
  {
   "cell_type": "markdown",
   "id": "1e2c22bd",
   "metadata": {
    "papermill": {
     "duration": 0.015626,
     "end_time": "2023-10-30T02:28:03.575523",
     "exception": false,
     "start_time": "2023-10-30T02:28:03.559897",
     "status": "completed"
    },
    "tags": []
   },
   "source": [
    "#### Guardar métricas"
   ]
  },
  {
   "cell_type": "code",
   "execution_count": 12,
   "id": "2643c3d4",
   "metadata": {
    "execution": {
     "iopub.execute_input": "2023-10-30T02:28:03.606753Z",
     "iopub.status.busy": "2023-10-30T02:28:03.606753Z",
     "iopub.status.idle": "2023-10-30T02:28:04.075963Z",
     "shell.execute_reply": "2023-10-30T02:28:04.075963Z"
    },
    "papermill": {
     "duration": 0.484833,
     "end_time": "2023-10-30T02:28:04.075963",
     "exception": false,
     "start_time": "2023-10-30T02:28:03.591130",
     "status": "completed"
    },
    "tags": []
   },
   "outputs": [
    {
     "name": "stdout",
     "output_type": "stream",
     "text": [
      "20231030T032803 : amilcar32 : INFO : Inicio guardar métricas multiclase\n",
      "20231030T032803 : amilcar32 : INFO : Inicio leer fichero ..\\tfm_viu\\ejecuciones\\metricas\\metricas_1860.csv\n",
      "20231030T032803 : amilcar32 : INFO : Fin leer fichero ..\\tfm_viu\\ejecuciones\\metricas\\metricas_1860.csv\n"
     ]
    },
    {
     "name": "stdout",
     "output_type": "stream",
     "text": [
      "20231030T032803 : amilcar32 : INFO : Inicio guardar fichero ..\\tfm_viu\\ejecuciones\\metricas\\metricas_1860.csv\n",
      "20231030T032803 : amilcar32 : INFO : Fichero borrado ..\\tfm_viu\\ejecuciones\\metricas\\metricas_1860.csv\n",
      "20231030T032804 : amilcar32 : INFO : Fin guardar fichero ..\\tfm_viu\\ejecuciones\\metricas\\metricas_1860.csv\n",
      "20231030T032804 : amilcar32 : INFO : Fin guardar métricas multiclase\n",
      "20231030T032804 : amilcar32 : INFO : Inicio leer fichero ..\\tfm_viu\\ejecuciones\\metricas\\metricas_1860.csv\n",
      "20231030T032804 : amilcar32 : INFO : Fin leer fichero ..\\tfm_viu\\ejecuciones\\metricas\\metricas_1860.csv\n"
     ]
    },
    {
     "data": {
      "text/html": [
       "<div>\n",
       "<style scoped>\n",
       "    .dataframe tbody tr th:only-of-type {\n",
       "        vertical-align: middle;\n",
       "    }\n",
       "\n",
       "    .dataframe tbody tr th {\n",
       "        vertical-align: top;\n",
       "    }\n",
       "\n",
       "    .dataframe thead th {\n",
       "        text-align: right;\n",
       "    }\n",
       "</style>\n",
       "<table border=\"1\" class=\"dataframe\">\n",
       "  <thead>\n",
       "    <tr style=\"text-align: right;\">\n",
       "      <th></th>\n",
       "      <th>tipo</th>\n",
       "      <th>select</th>\n",
       "      <th>clasific</th>\n",
       "      <th>semilla</th>\n",
       "      <th>accuracy</th>\n",
       "      <th>precision</th>\n",
       "      <th>recall</th>\n",
       "      <th>f1_score</th>\n",
       "      <th>roc_auc</th>\n",
       "      <th>hostname</th>\n",
       "      <th>total_time_sec</th>\n",
       "      <th>datetime</th>\n",
       "      <th>fichero_modelo</th>\n",
       "      <th>params</th>\n",
       "      <th>shape</th>\n",
       "      <th>features</th>\n",
       "      <th>roc_auc_ovr</th>\n",
       "      <th>indices_auc</th>\n",
       "      <th>indices_jaccard</th>\n",
       "    </tr>\n",
       "  </thead>\n",
       "  <tbody>\n",
       "    <tr>\n",
       "      <th>0</th>\n",
       "      <td>mul_s</td>\n",
       "      <td>MI</td>\n",
       "      <td>LR_L1</td>\n",
       "      <td>1860</td>\n",
       "      <td>0.480769</td>\n",
       "      <td>0.521245</td>\n",
       "      <td>0.483983</td>\n",
       "      <td>0.461506</td>\n",
       "      <td>NaN</td>\n",
       "      <td>amilcar32</td>\n",
       "      <td>999</td>\n",
       "      <td>2023-10-30 03:28:03.982032</td>\n",
       "      <td>modelo_1860_mul_s_MI_LR_L1.pkl</td>\n",
       "      <td>{'selector__k': 500, 'clasifier__solver': 'sag...</td>\n",
       "      <td>X_test:(52, 18875)</td>\n",
       "      <td>['ENSG00000005513.10', 'ENSG00000006025.13', '...</td>\n",
       "      <td>0.829949</td>\n",
       "      <td>[0.6208425720620843, 0.9005681818181819, 0.650...</td>\n",
       "      <td>[0.2777777777777778, 0.375, 0.0833333333333333...</td>\n",
       "    </tr>\n",
       "    <tr>\n",
       "      <th>0</th>\n",
       "      <td>mul_s</td>\n",
       "      <td>MI</td>\n",
       "      <td>LR_EN</td>\n",
       "      <td>1860</td>\n",
       "      <td>0.500000</td>\n",
       "      <td>0.522655</td>\n",
       "      <td>0.512662</td>\n",
       "      <td>0.492041</td>\n",
       "      <td>NaN</td>\n",
       "      <td>amilcar32</td>\n",
       "      <td>1589</td>\n",
       "      <td>2023-10-30 03:11:18.960583</td>\n",
       "      <td>modelo_1860_mul_s_MI_LR_EN.pkl</td>\n",
       "      <td>{'selector__k': 1000, 'clasifier__solver': 'sa...</td>\n",
       "      <td>X_test:(52, 18875)</td>\n",
       "      <td>['ENSG00000003137.9', 'ENSG00000004939.16', 'E...</td>\n",
       "      <td>0.857763</td>\n",
       "      <td>[0.6873614190687362, 0.9232954545454546, 0.775...</td>\n",
       "      <td>[0.25, 0.4444444444444444, 0.16666666666666666...</td>\n",
       "    </tr>\n",
       "    <tr>\n",
       "      <th>0</th>\n",
       "      <td>mul_s</td>\n",
       "      <td>ANOVA</td>\n",
       "      <td>SVM</td>\n",
       "      <td>1860</td>\n",
       "      <td>0.365385</td>\n",
       "      <td>0.363152</td>\n",
       "      <td>0.374892</td>\n",
       "      <td>0.331833</td>\n",
       "      <td>NaN</td>\n",
       "      <td>amilcar32</td>\n",
       "      <td>2</td>\n",
       "      <td>2023-10-30 02:44:44.720949</td>\n",
       "      <td>modelo_1860_mul_s_ANOVA_SVM.pkl</td>\n",
       "      <td>{'selector__k': 200, 'clasifier__kernel': 'rbf...</td>\n",
       "      <td>X_test:(52, 18875)</td>\n",
       "      <td>['ENSG00000000938.13', 'ENSG00000005381.9', 'E...</td>\n",
       "      <td>0.753440</td>\n",
       "      <td>[0.4168514412416851, 0.8210227272727272, 0.647...</td>\n",
       "      <td>[0.08333333333333333, 0.5, 0.0, 0.071428571428...</td>\n",
       "    </tr>\n",
       "  </tbody>\n",
       "</table>\n",
       "</div>"
      ],
      "text/plain": [
       "    tipo select clasific  semilla  accuracy  precision    recall  f1_score  \\\n",
       "0  mul_s     MI    LR_L1     1860  0.480769   0.521245  0.483983  0.461506   \n",
       "0  mul_s     MI    LR_EN     1860  0.500000   0.522655  0.512662  0.492041   \n",
       "0  mul_s  ANOVA      SVM     1860  0.365385   0.363152  0.374892  0.331833   \n",
       "\n",
       "   roc_auc   hostname  total_time_sec                    datetime  \\\n",
       "0      NaN  amilcar32             999  2023-10-30 03:28:03.982032   \n",
       "0      NaN  amilcar32            1589  2023-10-30 03:11:18.960583   \n",
       "0      NaN  amilcar32               2  2023-10-30 02:44:44.720949   \n",
       "\n",
       "                    fichero_modelo  \\\n",
       "0   modelo_1860_mul_s_MI_LR_L1.pkl   \n",
       "0   modelo_1860_mul_s_MI_LR_EN.pkl   \n",
       "0  modelo_1860_mul_s_ANOVA_SVM.pkl   \n",
       "\n",
       "                                              params               shape  \\\n",
       "0  {'selector__k': 500, 'clasifier__solver': 'sag...  X_test:(52, 18875)   \n",
       "0  {'selector__k': 1000, 'clasifier__solver': 'sa...  X_test:(52, 18875)   \n",
       "0  {'selector__k': 200, 'clasifier__kernel': 'rbf...  X_test:(52, 18875)   \n",
       "\n",
       "                                            features  roc_auc_ovr  \\\n",
       "0  ['ENSG00000005513.10', 'ENSG00000006025.13', '...     0.829949   \n",
       "0  ['ENSG00000003137.9', 'ENSG00000004939.16', 'E...     0.857763   \n",
       "0  ['ENSG00000000938.13', 'ENSG00000005381.9', 'E...     0.753440   \n",
       "\n",
       "                                         indices_auc  \\\n",
       "0  [0.6208425720620843, 0.9005681818181819, 0.650...   \n",
       "0  [0.6873614190687362, 0.9232954545454546, 0.775...   \n",
       "0  [0.4168514412416851, 0.8210227272727272, 0.647...   \n",
       "\n",
       "                                     indices_jaccard  \n",
       "0  [0.2777777777777778, 0.375, 0.0833333333333333...  \n",
       "0  [0.25, 0.4444444444444444, 0.16666666666666666...  \n",
       "0  [0.08333333333333333, 0.5, 0.0, 0.071428571428...  "
      ]
     },
     "metadata": {},
     "output_type": "display_data"
    }
   ],
   "source": [
    "if M_TIPO.startswith(\"bin\"):\n",
    "    myfunc.save_metricas_to_csv(random_search, X_test, y_test, M_TIPO, M_SELECT, M_CLASIF, total_time, SEMILLA, myfunc.MET_DIR, M_FICHERO, fichero_modelo)\n",
    "else:\n",
    "    myfunc.save_metricas_multi_to_csv(random_search, X_test, y_test, M_TIPO, M_SELECT, M_CLASIF, total_time, SEMILLA, myfunc.MET_DIR, M_FICHERO, fichero_modelo)\n",
    "\n",
    "df1=myfunc.read_metricas_to_df(myfunc.MET_DIR,M_FICHERO)\n",
    "\n",
    "display(df1.sort_values(\"datetime\", ascending=False)[:3])\n"
   ]
  },
  {
   "cell_type": "markdown",
   "id": "b78ba217",
   "metadata": {
    "papermill": {
     "duration": 0.015601,
     "end_time": "2023-10-30T02:28:04.107041",
     "exception": false,
     "start_time": "2023-10-30T02:28:04.091440",
     "status": "completed"
    },
    "tags": []
   },
   "source": [
    "#### Guardar resultados"
   ]
  },
  {
   "cell_type": "code",
   "execution_count": 13,
   "id": "0f9dbb83",
   "metadata": {
    "execution": {
     "iopub.execute_input": "2023-10-30T02:28:04.122674Z",
     "iopub.status.busy": "2023-10-30T02:28:04.122674Z",
     "iopub.status.idle": "2023-10-30T02:28:04.153923Z",
     "shell.execute_reply": "2023-10-30T02:28:04.153923Z"
    },
    "papermill": {
     "duration": 0.046882,
     "end_time": "2023-10-30T02:28:04.153923",
     "exception": false,
     "start_time": "2023-10-30T02:28:04.107041",
     "status": "completed"
    },
    "tags": []
   },
   "outputs": [
    {
     "name": "stdout",
     "output_type": "stream",
     "text": [
      "20231030T032804 : amilcar32 : INFO : Inicio guardar resultados\n",
      "20231030T032804 : amilcar32 : INFO : Inicio guardar fichero ..\\tfm_viu\\ejecuciones\\metricas\\resultados_1860_mul_s-MI-LR_L1.csv\n",
      "20231030T032804 : amilcar32 : INFO : Fin guardar fichero ..\\tfm_viu\\ejecuciones\\metricas\\resultados_1860_mul_s-MI-LR_L1.csv\n",
      "20231030T032804 : amilcar32 : INFO : Fin guardar resultados\n"
     ]
    }
   ],
   "source": [
    "fichero_resultados=R_FICHERO+\"_\"+M_TIPO+\"-\"+M_SELECT+\"-\"+M_CLASIF+\".csv\"\n",
    "myfunc.save_resultados_to_csv(M_TIPO, M_SELECT, M_CLASIF,  random_search, myfunc.MET_DIR, fichero_resultados)\n"
   ]
  }
 ],
 "metadata": {
  "kernelspec": {
   "display_name": "Python 3 (ipykernel)",
   "language": "python",
   "name": "python3"
  },
  "language_info": {
   "codemirror_mode": {
    "name": "ipython",
    "version": 3
   },
   "file_extension": ".py",
   "mimetype": "text/x-python",
   "name": "python",
   "nbconvert_exporter": "python",
   "pygments_lexer": "ipython3",
   "version": "3.10.12"
  },
  "papermill": {
   "default_parameters": {},
   "duration": 1003.928572,
   "end_time": "2023-10-30T02:28:04.938981",
   "environment_variables": {},
   "exception": null,
   "input_path": "03_entrenamiento.ipynb",
   "output_path": "ejecuciones\\training\\03_entrenamiento.20231030T_31120.param_0000_1860_mul_s_MI_LR_L1.output.ipynb",
   "parameters": {
    "MAX_ITERS": 500,
    "M_CLASIF": "LR_L1",
    "M_FICHERO": "metricas_1860",
    "M_SELECT": "MI",
    "M_TIPO": "mul_s",
    "PRE_DATA_FILE": "rows_transpose_norm_by_gene_id_with_target_num_",
    "P_FICHERO": "param_0000_1860_mul_s_MI_LR_L1.yaml",
    "R_FICHERO": "resultados_1860",
    "SCORING": "roc_auc_ovr",
    "SEMILLA": 1860,
    "eval_clasifier": "LogisticRegressionCV(random_state=SEMILLA)",
    "eval_selector": "SelectKBest(score_func=mutual_info_classif_state)",
    "param_distributions": {
     "clasifier__max_iter": [
      10000
     ],
     "clasifier__penalty": [
      "l1"
     ],
     "clasifier__solver": [
      "saga"
     ],
     "selector__k": [
      500
     ]
    }
   },
   "start_time": "2023-10-30T02:11:21.010409",
   "version": "2.4.0"
  }
 },
 "nbformat": 4,
 "nbformat_minor": 5
}