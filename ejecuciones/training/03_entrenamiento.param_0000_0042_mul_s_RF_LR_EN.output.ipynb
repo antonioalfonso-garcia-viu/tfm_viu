{
 "cells": [
  {
   "cell_type": "markdown",
   "id": "15739d6a",
   "metadata": {
    "papermill": {
     "duration": 0.003507,
     "end_time": "2023-10-27T23:06:52.723764",
     "exception": false,
     "start_time": "2023-10-27T23:06:52.720257",
     "status": "completed"
    },
    "tags": []
   },
   "source": [
    "##### Inicio"
   ]
  },
  {
   "cell_type": "markdown",
   "id": "f6f4cc3e",
   "metadata": {
    "papermill": {
     "duration": 0.002812,
     "end_time": "2023-10-27T23:06:52.729643",
     "exception": false,
     "start_time": "2023-10-27T23:06:52.726831",
     "status": "completed"
    },
    "tags": []
   },
   "source": [
    "#### Carga de datos"
   ]
  },
  {
   "cell_type": "code",
   "execution_count": 1,
   "id": "0d06f767",
   "metadata": {
    "execution": {
     "iopub.execute_input": "2023-10-27T23:06:52.736519Z",
     "iopub.status.busy": "2023-10-27T23:06:52.736284Z",
     "iopub.status.idle": "2023-10-27T23:06:53.607116Z",
     "shell.execute_reply": "2023-10-27T23:06:53.606561Z"
    },
    "papermill": {
     "duration": 0.875935,
     "end_time": "2023-10-27T23:06:53.608479",
     "exception": false,
     "start_time": "2023-10-27T23:06:52.732544",
     "status": "completed"
    },
    "tags": []
   },
   "outputs": [
    {
     "name": "stdout",
     "output_type": "stream",
     "text": [
      "CPU_COUNT: 8; NODE: amilcar22; sys.version: 3.10.12 (main, Jul  5 2023, 19:22:19) [GCC 11.2.0]\n",
      "LOKY_MAX_CPU_COUNT: 6\n",
      "OMP_NUM_THREADS: 2\n"
     ]
    }
   ],
   "source": [
    "import os\n",
    "import numpy as np\n",
    "import pandas as pd\n",
    "import datetime\n",
    "import sklearn\n",
    "import logging\n",
    "import warnings\n",
    "\n",
    "from sklearn.pipeline import Pipeline\n",
    "from sklearn.model_selection import RandomizedSearchCV, KFold, cross_val_score, train_test_split\n",
    "from sklearn.metrics import accuracy_score, confusion_matrix, classification_report, roc_auc_score\n",
    "\n",
    "#  cargar algoritmos para aprendizaje supervisado\n",
    "from sklearn.feature_selection import SelectKBest, f_classif, SelectFromModel, mutual_info_classif\n",
    "from sklearn.svm import SVC\n",
    "from sklearn.ensemble import RandomForestClassifier\n",
    "from sklearn.linear_model import LogisticRegression,LogisticRegressionCV\n",
    "\n",
    "# importar fichero con utilidades propias\n",
    "from commons import myfunctions as myfunc\n"
   ]
  },
  {
   "cell_type": "markdown",
   "id": "c86a81ca",
   "metadata": {
    "papermill": {
     "duration": 0.0026,
     "end_time": "2023-10-27T23:06:53.614096",
     "exception": false,
     "start_time": "2023-10-27T23:06:53.611496",
     "status": "completed"
    },
    "tags": []
   },
   "source": [
    "#### Parámetros a utilizar en el entrenamiento.\n",
    "\n",
    "Se indican los 3 algoritmos de *selección de características* (eval_selector_xxx) y los 3 algoritmos para la _clasificación_ (eval_clasifier_xxx)\n",
    "\n",
    "En *param_distributions* se indicar los parámetros que utilizan los algoritmos en la función RandomSearchCV.\n",
    "\n",
    "Esta celda tiene la etiqueta **parameters** que servirá para poder lanzar los entrenamientos con la utilidad **papermill** pasándole un fichero con los parámetros. Los nuevos parámetros se situarán tras esta celda para tener prevalencia."
   ]
  },
  {
   "cell_type": "code",
   "execution_count": 2,
   "id": "21b4744c",
   "metadata": {
    "execution": {
     "iopub.execute_input": "2023-10-27T23:06:53.620010Z",
     "iopub.status.busy": "2023-10-27T23:06:53.619739Z",
     "iopub.status.idle": "2023-10-27T23:06:53.626588Z",
     "shell.execute_reply": "2023-10-27T23:06:53.626166Z"
    },
    "papermill": {
     "duration": 0.011163,
     "end_time": "2023-10-27T23:06:53.627754",
     "exception": false,
     "start_time": "2023-10-27T23:06:53.616591",
     "status": "completed"
    },
    "tags": [
     "parameters"
    ]
   },
   "outputs": [
    {
     "name": "stdout",
     "output_type": "stream",
     "text": [
      "20231028T010653 : amilcar22 : INFO : Utilizando parámetros de mul_m\n"
     ]
    }
   ],
   "source": [
    "#  Parametros para el entrenamiento\n",
    "\n",
    "SEMILLA=        42\n",
    "M_TIPO=         \"mul_m\"\n",
    "M_SELECT=       \"MI\"\n",
    "M_CLASIF=       \"SVM\"\n",
    "R_FICHERO=      \"resultados\"\n",
    "M_FICHERO=      \"metricas\"\n",
    "PRE_DATA_FILE=  \"rows_transpose_norm_by_gene_id_with_target_num_\"\n",
    "SCORING=        \"roc_auc_ovr\" \n",
    "MAX_ITERS=      100\n",
    "\n",
    "def mutual_info_classif_state(X, y):\n",
    "    return mutual_info_classif(X, y, random_state=SEMILLA)\n",
    "\n",
    "eval_selector_mi = \"SelectKBest(score_func=mutual_info_classif_state)\"\n",
    "eval_selector_rf=  \"SelectFromModel(estimator=RandomForestClassifier(random_state=SEMILLA), threshold=-np.inf)\"\n",
    "eval_selector_anova=  \"SelectKBest(score_func=f_classif)\"\n",
    "\n",
    "eval_clasifier_svm= \"SVC(probability=True, random_state=SEMILLA)\"\n",
    "eval_clasifier_rf= \"RandomForestClassifier(random_state=SEMILLA)\"\n",
    "eval_clasifier_lr= \"LogisticRegressionCV(random_state=SEMILLA)\"\n",
    "\n",
    "if M_TIPO.startswith(\"bin_m\"):\n",
    "    myfunc.verbose(f\"Utilizando parámetros de {M_TIPO}\")\n",
    "    eval_selector = eval_selector_mi\n",
    "    eval_clasifier = eval_clasifier_svm\n",
    "\n",
    "    SEMILLA = 6578\n",
    "    M_SELECT = \"MI\"\n",
    "    M_CLASIF = \"SVM\"\n",
    "    param_distributions = {'selector__k': [1000], \n",
    "         'clasifier__kernel': ['rbf'], 'clasifier__gamma': [0.01], 'clasifier__C': [100]}\n",
    "elif M_TIPO.startswith(\"bin_s\"):\n",
    "    myfunc.verbose(f\"Utilizando parámetros de {M_TIPO}\")\n",
    "    eval_selector = eval_selector_rf\n",
    "    eval_clasifier = eval_clasifier_lr\n",
    "\n",
    "    SEMILLA = 6191\n",
    "    M_SELECT = \"RF\"\n",
    "    M_CLASIF = \"LR_L2\"\n",
    "    param_distributions = {'selector__max_features': [1000], 'selector__estimator__n_estimators': [200], \n",
    "        'clasifier__solver': ['lbfgs'], 'clasifier__penalty': ['l2'], 'clasifier__max_iter': [10000]}\n",
    "\n",
    "elif M_TIPO.startswith(\"mul_m\"):\n",
    "    myfunc.verbose(f\"Utilizando parámetros de {M_TIPO}\")\n",
    " \n",
    "    eval_selector = eval_selector_rf\n",
    "    eval_clasifier = eval_clasifier_lr\n",
    "\n",
    "    SEMILLA = 6191\n",
    "    M_SELECT = \"RF\"\n",
    "    M_CLASIF = \"LR_L2\"\n",
    "    param_distributions = {'selector__max_features': [1000], 'selector__estimator__n_estimators': [400], \n",
    "        'clasifier__solver': ['lbfgs'], 'clasifier__penalty': ['l2'], 'clasifier__max_iter': [10000]}\n",
    "\n",
    "else:\n",
    "    # M_TIPO.startswith(\"mul_s\"):\n",
    "    myfunc.verbose(f\"Utilizando parámetros de {M_TIPO}\")\n",
    "    eval_selector = eval_selector_anova\n",
    "    eval_clasifier = eval_clasifier_lr\n",
    "\n",
    "    SEMILLA = 1860\n",
    "    M_SELECT = \"ANOVA\"\n",
    "    M_CLASIF = \"LR_L2\"\n",
    "    param_distributions = {'selector__k': [1000], \n",
    "        'clasifier__solver': ['saga'], 'clasifier__penalty': ['l2'], 'clasifier__max_iter': [10000]}\n",
    "\n"
   ]
  },
  {
   "cell_type": "code",
   "execution_count": 3,
   "id": "51a24955",
   "metadata": {
    "execution": {
     "iopub.execute_input": "2023-10-27T23:06:53.633901Z",
     "iopub.status.busy": "2023-10-27T23:06:53.633727Z",
     "iopub.status.idle": "2023-10-27T23:06:53.637113Z",
     "shell.execute_reply": "2023-10-27T23:06:53.636641Z"
    },
    "papermill": {
     "duration": 0.007773,
     "end_time": "2023-10-27T23:06:53.638343",
     "exception": false,
     "start_time": "2023-10-27T23:06:53.630570",
     "status": "completed"
    },
    "tags": [
     "injected-parameters"
    ]
   },
   "outputs": [],
   "source": [
    "# Parameters\n",
    "M_TIPO = \"mul_s\"\n",
    "M_SELECT = \"RF\"\n",
    "M_CLASIF = \"LR_EN\"\n",
    "P_FICHERO = \"param_0000_0042_mul_s_RF_LR_EN.yaml\"\n",
    "R_FICHERO = \"resultados_0042\"\n",
    "M_FICHERO = \"metricas_0042\"\n",
    "PRE_DATA_FILE = \"rows_transpose_norm_by_gene_id_with_target_num_\"\n",
    "SCORING = \"roc_auc_ovr\"\n",
    "SEMILLA = 42\n",
    "MAX_ITERS = 500\n",
    "eval_selector = \"SelectFromModel(estimator=RandomForestClassifier(random_state=SEMILLA), threshold=-np.inf)\"\n",
    "eval_clasifier = \"LogisticRegressionCV(random_state=SEMILLA)\"\n",
    "param_distributions = {\n",
    "    \"selector__max_features\": [500],\n",
    "    \"selector__estimator__n_estimators\": [400],\n",
    "    \"clasifier__solver\": [\"saga\"],\n",
    "    \"clasifier__penalty\": [\"elasticnet\"],\n",
    "    \"clasifier__max_iter\": [10000],\n",
    "    \"clasifier__l1_ratios\": [[0.1]],\n",
    "}\n"
   ]
  },
  {
   "cell_type": "code",
   "execution_count": 4,
   "id": "35ea8bf3",
   "metadata": {
    "execution": {
     "iopub.execute_input": "2023-10-27T23:06:53.644561Z",
     "iopub.status.busy": "2023-10-27T23:06:53.644383Z",
     "iopub.status.idle": "2023-10-27T23:06:53.647405Z",
     "shell.execute_reply": "2023-10-27T23:06:53.646939Z"
    },
    "papermill": {
     "duration": 0.007606,
     "end_time": "2023-10-27T23:06:53.648683",
     "exception": false,
     "start_time": "2023-10-27T23:06:53.641077",
     "status": "completed"
    },
    "tags": []
   },
   "outputs": [],
   "source": [
    "DATA_FILE = PRE_DATA_FILE + M_TIPO\n",
    "\n",
    "# si viene \"None\" en el parámetro max_depth, se le quitan las comillas para que no sea entendido por el algoritmo como un texto\n",
    "if \"clasifier__max_depth\" in param_distributions:\n",
    "    param_distributions['clasifier__max_depth'] = [None if x == 'None' else x for x in param_distributions['clasifier__max_depth']]"
   ]
  },
  {
   "cell_type": "markdown",
   "id": "498a2666",
   "metadata": {
    "papermill": {
     "duration": 0.002834,
     "end_time": "2023-10-27T23:06:53.654404",
     "exception": false,
     "start_time": "2023-10-27T23:06:53.651570",
     "status": "completed"
    },
    "tags": []
   },
   "source": [
    "Asignar los algoritmos que se utilizarán en la función RandomSearchCV"
   ]
  },
  {
   "cell_type": "code",
   "execution_count": 5,
   "id": "6685fa94",
   "metadata": {
    "execution": {
     "iopub.execute_input": "2023-10-27T23:06:53.660771Z",
     "iopub.status.busy": "2023-10-27T23:06:53.660546Z",
     "iopub.status.idle": "2023-10-27T23:06:53.663352Z",
     "shell.execute_reply": "2023-10-27T23:06:53.662830Z"
    },
    "papermill": {
     "duration": 0.007386,
     "end_time": "2023-10-27T23:06:53.664619",
     "exception": false,
     "start_time": "2023-10-27T23:06:53.657233",
     "status": "completed"
    },
    "tags": []
   },
   "outputs": [],
   "source": [
    "algor_selector=eval(eval_selector)\n",
    "algor_clasifier=eval(eval_clasifier)"
   ]
  },
  {
   "cell_type": "markdown",
   "id": "c6788c07",
   "metadata": {
    "papermill": {
     "duration": 0.002818,
     "end_time": "2023-10-27T23:06:53.670249",
     "exception": false,
     "start_time": "2023-10-27T23:06:53.667431",
     "status": "completed"
    },
    "tags": []
   },
   "source": [
    "#### Comprobar el entorno y leer fichero de muestras"
   ]
  },
  {
   "cell_type": "code",
   "execution_count": 6,
   "id": "7f8004ab",
   "metadata": {
    "execution": {
     "iopub.execute_input": "2023-10-27T23:06:53.676528Z",
     "iopub.status.busy": "2023-10-27T23:06:53.676366Z",
     "iopub.status.idle": "2023-10-27T23:06:53.797341Z",
     "shell.execute_reply": "2023-10-27T23:06:53.796776Z"
    },
    "papermill": {
     "duration": 0.125617,
     "end_time": "2023-10-27T23:06:53.798651",
     "exception": false,
     "start_time": "2023-10-27T23:06:53.673034",
     "status": "completed"
    },
    "tags": []
   },
   "outputs": [
    {
     "name": "stdout",
     "output_type": "stream",
     "text": [
      "20231028T010653 : amilcar22 : INFO : Encontrada carpeta DATA_DIR=../tfm_git/datos\n",
      "20231028T010653 : amilcar22 : INFO : Encontrada carpeta CFDNA_DIR=../tfm_git/datos/cfDNA_5hmC\n",
      "20231028T010653 : amilcar22 : INFO : Encontrada carpeta GENCODE_DIR=../tfm_git/datos/gencode\n",
      "20231028T010653 : amilcar22 : INFO : Encontrada carpeta H5_DIR=../tfm_git/datos/h5\n",
      "20231028T010653 : amilcar22 : INFO : Encontrada carpeta LOG_DIR=../tfm_git/datos/logs\n",
      "20231028T010653 : amilcar22 : INFO : Encontrada carpeta CSV_DIR=../tfm_git/datos/csv\n",
      "20231028T010653 : amilcar22 : INFO : Encontrada carpeta MODEL_DIR=../tfm_git/ejecuciones/modelos\n",
      "20231028T010653 : amilcar22 : INFO : Encontrada carpeta EXEC_DIR=../tfm_git/ejecuciones\n",
      "20231028T010653 : amilcar22 : INFO : Encontrada carpeta MET_DIR=../tfm_git/ejecuciones/metricas\n",
      "20231028T010653 : amilcar22 : INFO : Inicio leer fichero h5 ../tfm_git/datos/h5/rows_transpose_norm_by_gene_id_with_target_num_mul_s.h5\n",
      "20231028T010653 : amilcar22 : INFO : Leyendo clave /df\n",
      "20231028T010653 : amilcar22 : INFO : Tamaño (259, 18876)\n",
      "20231028T010653 : amilcar22 : INFO : Fin leer fichero h5 ../tfm_git/datos/h5/rows_transpose_norm_by_gene_id_with_target_num_mul_s.h5\n"
     ]
    },
    {
     "data": {
      "text/plain": [
       "target\n",
       "0    37\n",
       "1    37\n",
       "2    37\n",
       "3    37\n",
       "4    37\n",
       "5    37\n",
       "6    37\n",
       "dtype: int64"
      ]
     },
     "metadata": {},
     "output_type": "display_data"
    },
    {
     "name": "stdout",
     "output_type": "stream",
     "text": [
      "Shape df: (259, 18876)\n",
      "Shape X_train: (207, 18875)\n",
      "Shape X_test: (52, 18875)\n"
     ]
    }
   ],
   "source": [
    "start_time = datetime.datetime.now()\n",
    "\n",
    "myfunc.reset_vars()\n",
    "\n",
    "myfunc.NOTEBK_FILENAME = myfunc.get_nb_name()\n",
    "\n",
    "myfunc.check_enviroment(myfunc.DATA_DIR, myfunc.CFDNA_DIR, myfunc.GENCODE_DIR, myfunc.H5_DIR, myfunc.LOG_DIR, myfunc.CSV_DIR, myfunc.MODEL_DIR, myfunc.EXEC_DIR, myfunc.MET_DIR)\n",
    "\n",
    "# Leer fichero con las muestras\n",
    "df_t = myfunc.read_h5_to_df(DATA_FILE, myfunc.H5_DIR)\n",
    "display(df_t.groupby(\"target\").size())\n",
    "print(\"Shape df:\",df_t.shape)\n",
    "\n",
    "# Separar caracteristicas/genes de las etiquetas/tipos de cáncer\n",
    "X = df_t.iloc[:, :-1]  # Todas las columnas excepto la última\n",
    "y = df_t.iloc[:, -1]  # La última columna contiene los identificadores de los tipos de cáncer\n",
    "\n",
    "#  Crear el conjunto de datos de entrenamiento y de pruebas\n",
    "X_train, X_test, y_train, y_test = train_test_split(X, y, test_size=0.2, shuffle=True, random_state=SEMILLA)\n",
    "print(\"Shape X_train:\",X_train.shape)\n",
    "print(\"Shape X_test:\",X_test.shape)\n"
   ]
  },
  {
   "cell_type": "markdown",
   "id": "c1edc297",
   "metadata": {
    "papermill": {
     "duration": 0.002838,
     "end_time": "2023-10-27T23:06:53.804862",
     "exception": false,
     "start_time": "2023-10-27T23:06:53.802024",
     "status": "completed"
    },
    "tags": []
   },
   "source": [
    "#### Selección de características y clasificación."
   ]
  },
  {
   "cell_type": "code",
   "execution_count": 7,
   "id": "56ddce0c",
   "metadata": {
    "execution": {
     "iopub.execute_input": "2023-10-27T23:06:53.811497Z",
     "iopub.status.busy": "2023-10-27T23:06:53.811100Z",
     "iopub.status.idle": "2023-10-27T23:14:19.648216Z",
     "shell.execute_reply": "2023-10-27T23:14:19.647534Z"
    },
    "papermill": {
     "duration": 445.844336,
     "end_time": "2023-10-27T23:14:19.652021",
     "exception": false,
     "start_time": "2023-10-27T23:06:53.807685",
     "status": "completed"
    },
    "tags": []
   },
   "outputs": [
    {
     "name": "stdout",
     "output_type": "stream",
     "text": [
      "20231028T010653 : amilcar22 : INFO : Iniciando entrenamiento\n",
      "num_iter: 1 , max_iter: 1\n",
      "Fitting 5 folds for each of 1 candidates, totalling 5 fits\n"
     ]
    },
    {
     "name": "stdout",
     "output_type": "stream",
     "text": [
      "Mejores Hiperparámetros: {'selector__max_features': 500, 'selector__estimator__n_estimators': 400, 'clasifier__solver': 'saga', 'clasifier__penalty': 'elasticnet', 'clasifier__max_iter': 10000, 'clasifier__l1_ratios': [0.1]}\n",
      "Mejor Puntuación: 0.7861\n",
      "20231028T011419 : amilcar22 : INFO : Fin entrenamiento\n"
     ]
    }
   ],
   "source": [
    "myfunc.verbose(\"Iniciando entrenamiento\")\n",
    "\n",
    "kf = KFold(n_splits=5, shuffle=True, random_state=SEMILLA)\n",
    "\n",
    "# Crear el pipeline para el flujo de tareas\n",
    "tasks_pipeline = Pipeline([\n",
    "    ('selector', algor_selector),\n",
    "    ('clasifier', algor_clasifier)\n",
    "])\n",
    "\n",
    "# MAX_ITERS puede limitar el número de iteraciones si son excesivas para las combinaciones de parámetros buscando un óptimo local, \n",
    "# sino funcionaría como GridSearchCV al revisar todas las cominaciones de los parámetros\n",
    "num_iteraciones = 1\n",
    "num_iteraciones = num_iteraciones * np.prod([len(elemento1) for _, elemento1 in param_distributions.items()])\n",
    "max_iteraciones = num_iteraciones if num_iteraciones <= MAX_ITERS else MAX_ITERS\n",
    "print(\"num_iter:\",num_iteraciones,\", max_iter:\",max_iteraciones)\n",
    "\n",
    "random_search = RandomizedSearchCV(\n",
    "    tasks_pipeline, \n",
    "    param_distributions, \n",
    "    n_iter=max_iteraciones,\n",
    "    scoring=SCORING,\n",
    "    cv=kf,\n",
    "    verbose=3, \n",
    "    random_state=SEMILLA, \n",
    "    n_jobs=-1\n",
    "    )\n",
    "\n",
    "# Entrenar el modelo\n",
    "random_search.fit(X_train, y_train)\n",
    "\n",
    "# Ver los mejores hiperparámetros encontrados\n",
    "print(f'Mejores Hiperparámetros: {random_search.best_params_}')\n",
    "print(f'Mejor Puntuación: {random_search.best_score_:.4f}')\n",
    "\n",
    "# Nos quedamos con el mejor modelo para ver las métricas\n",
    "mejor_modelo = random_search.best_estimator_\n",
    "\n",
    "myfunc.verbose(\"Fin entrenamiento\")"
   ]
  },
  {
   "cell_type": "markdown",
   "id": "4cd3c32d",
   "metadata": {
    "papermill": {
     "duration": 0.002858,
     "end_time": "2023-10-27T23:14:19.657940",
     "exception": false,
     "start_time": "2023-10-27T23:14:19.655082",
     "status": "completed"
    },
    "tags": []
   },
   "source": [
    "#### Guardar modelo"
   ]
  },
  {
   "cell_type": "code",
   "execution_count": 8,
   "id": "ee86be9d",
   "metadata": {
    "execution": {
     "iopub.execute_input": "2023-10-27T23:14:19.664765Z",
     "iopub.status.busy": "2023-10-27T23:14:19.664529Z",
     "iopub.status.idle": "2023-10-27T23:14:19.799667Z",
     "shell.execute_reply": "2023-10-27T23:14:19.799039Z"
    },
    "papermill": {
     "duration": 0.140164,
     "end_time": "2023-10-27T23:14:19.801020",
     "exception": false,
     "start_time": "2023-10-27T23:14:19.660856",
     "status": "completed"
    },
    "tags": []
   },
   "outputs": [
    {
     "name": "stdout",
     "output_type": "stream",
     "text": [
      "20231028T011419 : amilcar22 : INFO : Inicio guardar fichero ../tfm_git/ejecuciones/modelos/modelo_0042_mul_s_RF_LR_EN.pkl\n",
      "20231028T011419 : amilcar22 : INFO : Fin guardar fichero ../tfm_git/ejecuciones/modelos/modelo_0042_mul_s_RF_LR_EN.pkl\n"
     ]
    }
   ],
   "source": [
    "fichero_modelo = str.replace(\"modelo_\"+str(SEMILLA).zfill(4)+\"_\"+M_TIPO+\"_\"+M_SELECT+\"_\"+M_CLASIF+\".pkl\", \" \", \"_\")\n",
    "\n",
    "myfunc.save_modelo(mejor_modelo, myfunc.MODEL_DIR, fichero_modelo)"
   ]
  },
  {
   "cell_type": "markdown",
   "id": "e740c51a",
   "metadata": {
    "papermill": {
     "duration": 0.003022,
     "end_time": "2023-10-27T23:14:19.807626",
     "exception": false,
     "start_time": "2023-10-27T23:14:19.804604",
     "status": "completed"
    },
    "tags": []
   },
   "source": [
    "#### Ver resultados del las iteraciones hechas por RandomSearchCV"
   ]
  },
  {
   "cell_type": "code",
   "execution_count": 9,
   "id": "e1142d92",
   "metadata": {
    "execution": {
     "iopub.execute_input": "2023-10-27T23:14:19.814506Z",
     "iopub.status.busy": "2023-10-27T23:14:19.814272Z",
     "iopub.status.idle": "2023-10-27T23:14:19.820487Z",
     "shell.execute_reply": "2023-10-27T23:14:19.819907Z"
    },
    "papermill": {
     "duration": 0.011141,
     "end_time": "2023-10-27T23:14:19.821711",
     "exception": false,
     "start_time": "2023-10-27T23:14:19.810570",
     "status": "completed"
    },
    "tags": []
   },
   "outputs": [
    {
     "name": "stdout",
     "output_type": "stream",
     "text": [
      "20231028T011419 : amilcar22 : INFO : Inicio ver resultados\n",
      "Mejores Hiperparámetros: {'selector__max_features': 500, 'selector__estimator__n_estimators': 400, 'clasifier__solver': 'saga', 'clasifier__penalty': 'elasticnet', 'clasifier__max_iter': 10000, 'clasifier__l1_ratios': [0.1]}\n",
      "Mejores puntuaciones: 0.7861 | Params: {'selector__max_features': 500, 'selector__estimator__n_estimators': 400, 'clasifier__solver': 'saga', 'clasifier__penalty': 'elasticnet', 'clasifier__max_iter': 10000, 'clasifier__l1_ratios': [0.1]}\n",
      "Media de las puntuaciones: 0.7861 | Params: {'selector__max_features': 500, 'selector__estimator__n_estimators': 400, 'clasifier__solver': 'saga', 'clasifier__penalty': 'elasticnet', 'clasifier__max_iter': 10000, 'clasifier__l1_ratios': [0.1]}\n",
      "20231028T011419 : amilcar22 : INFO : Fin resultados\n"
     ]
    }
   ],
   "source": [
    "myfunc.ver_resultados_search(random_search)"
   ]
  },
  {
   "cell_type": "markdown",
   "id": "2cd84b1b",
   "metadata": {
    "papermill": {
     "duration": 0.003028,
     "end_time": "2023-10-27T23:14:19.827974",
     "exception": false,
     "start_time": "2023-10-27T23:14:19.824946",
     "status": "completed"
    },
    "tags": []
   },
   "source": [
    "#### Ver métricas del mejor modelo"
   ]
  },
  {
   "cell_type": "code",
   "execution_count": 10,
   "id": "974d1e60",
   "metadata": {
    "execution": {
     "iopub.execute_input": "2023-10-27T23:14:19.834751Z",
     "iopub.status.busy": "2023-10-27T23:14:19.834548Z",
     "iopub.status.idle": "2023-10-27T23:14:20.761692Z",
     "shell.execute_reply": "2023-10-27T23:14:20.761182Z"
    },
    "papermill": {
     "duration": 0.932069,
     "end_time": "2023-10-27T23:14:20.762993",
     "exception": false,
     "start_time": "2023-10-27T23:14:19.830924",
     "status": "completed"
    },
    "tags": []
   },
   "outputs": [
    {
     "name": "stdout",
     "output_type": "stream",
     "text": [
      "20231028T011419 : amilcar22 : INFO : Inicio ver métricas multiclase\n"
     ]
    },
    {
     "name": "stdout",
     "output_type": "stream",
     "text": [
      "              precision    recall  f1-score   support\n",
      "\n",
      "           0       0.22      0.18      0.20        11\n",
      "           1       0.83      0.62      0.71         8\n",
      "           2       0.29      0.25      0.27         8\n",
      "           3       0.00      0.00      0.00         5\n",
      "           4       0.67      0.75      0.71         8\n",
      "           5       0.60      0.50      0.55         6\n",
      "           6       0.45      0.83      0.59         6\n",
      "\n",
      "    accuracy                           0.44        52\n",
      "   macro avg       0.44      0.45      0.43        52\n",
      "weighted avg       0.44      0.44      0.43        52\n",
      "\n",
      "\n",
      "\n",
      "           Exactitud: 0.442308\n",
      "   Precisión (media): 0.437497\n",
      "      Recall (media): 0.448593\n",
      "    F1-score (media): 0.431504\n",
      "\n",
      "\n",
      "AUC para el tipo de cáncer 0-Control.... 0.6009\n",
      "AUC para el tipo de cáncer 1-Bladder.... 0.8892\n",
      "AUC para el tipo de cáncer 2-Breast..... 0.7131\n",
      "AUC para el tipo de cáncer 3-Colorectal. 0.6383\n",
      "AUC para el tipo de cáncer 4-Kidney..... 0.9176\n",
      "AUC para el tipo de cáncer 5-Lung....... 0.9203\n",
      "AUC para el tipo de cáncer 6-Prostate... 0.9130\n",
      "\n",
      "Media de AUC: 0.7989\n"
     ]
    },
    {
     "data": {
      "image/png": "[encoded data removed]",
      "text/plain": [
       "<Figure size 1000x600 with 1 Axes>"
      ]
     },
     "metadata": {},
     "output_type": "display_data"
    },
    {
     "name": "stdout",
     "output_type": "stream",
     "text": [
      "\n",
      "\n"
     ]
    },
    {
     "data": {
      "image/png": "[encoded data removed]",
      "text/plain": [
       "<Figure size 800x400 with 2 Axes>"
      ]
     },
     "metadata": {},
     "output_type": "display_data"
    },
    {
     "name": "stdout",
     "output_type": "stream",
     "text": [
      "\n",
      "\n",
      "Puntuación Jaccard para el cáncer tipo 0-Control.... 0.1111\n",
      "Puntuación Jaccard para el cáncer tipo 1-Bladder.... 0.5556\n",
      "Puntuación Jaccard para el cáncer tipo 2-Breast..... 0.1538\n",
      "Puntuación Jaccard para el cáncer tipo 3-Colorectal. 0.0000\n",
      "Puntuación Jaccard para el cáncer tipo 4-Kidney..... 0.5455\n",
      "Puntuación Jaccard para el cáncer tipo 5-Lung....... 0.3750\n",
      "Puntuación Jaccard para el cáncer tipo 6-Prostate... 0.4167\n",
      "\n",
      "Media de la puntuación de Jaccard: 0.3082\n"
     ]
    }
   ],
   "source": [
    "if M_TIPO.startswith(\"bin\"):\n",
    "    myfunc.ver_metricas(mejor_modelo, X_test, y_test)\n",
    "else:\n",
    "    myfunc.ver_metricas_multi(mejor_modelo, X_test, y_test)\n"
   ]
  },
  {
   "cell_type": "markdown",
   "id": "166e87c9",
   "metadata": {
    "papermill": {
     "duration": 0.004191,
     "end_time": "2023-10-27T23:14:20.771976",
     "exception": false,
     "start_time": "2023-10-27T23:14:20.767785",
     "status": "completed"
    },
    "tags": []
   },
   "source": [
    "#### Finalización del notebook"
   ]
  },
  {
   "cell_type": "code",
   "execution_count": 11,
   "id": "16952ab5",
   "metadata": {
    "execution": {
     "iopub.execute_input": "2023-10-27T23:14:20.780855Z",
     "iopub.status.busy": "2023-10-27T23:14:20.780647Z",
     "iopub.status.idle": "2023-10-27T23:14:20.783852Z",
     "shell.execute_reply": "2023-10-27T23:14:20.783384Z"
    },
    "papermill": {
     "duration": 0.009062,
     "end_time": "2023-10-27T23:14:20.785003",
     "exception": false,
     "start_time": "2023-10-27T23:14:20.775941",
     "status": "completed"
    },
    "tags": []
   },
   "outputs": [
    {
     "name": "stdout",
     "output_type": "stream",
     "text": [
      "20231028T011420 : amilcar22 : INFO : Notebook ha tardado 447 seconds\n"
     ]
    }
   ],
   "source": [
    "end_time = datetime.datetime.now()\n",
    "total_time = end_time - start_time\n",
    "myfunc.verbose(f\"Notebook ha tardado {total_time.seconds} seconds\")"
   ]
  },
  {
   "cell_type": "markdown",
   "id": "b27c7be0",
   "metadata": {
    "papermill": {
     "duration": 0.00427,
     "end_time": "2023-10-27T23:14:20.793647",
     "exception": false,
     "start_time": "2023-10-27T23:14:20.789377",
     "status": "completed"
    },
    "tags": []
   },
   "source": [
    "#### Guardar métricas"
   ]
  },
  {
   "cell_type": "code",
   "execution_count": 12,
   "id": "df103657",
   "metadata": {
    "execution": {
     "iopub.execute_input": "2023-10-27T23:14:20.802541Z",
     "iopub.status.busy": "2023-10-27T23:14:20.802357Z",
     "iopub.status.idle": "2023-10-27T23:14:21.600806Z",
     "shell.execute_reply": "2023-10-27T23:14:21.600320Z"
    },
    "papermill": {
     "duration": 0.804337,
     "end_time": "2023-10-27T23:14:21.602074",
     "exception": false,
     "start_time": "2023-10-27T23:14:20.797737",
     "status": "completed"
    },
    "tags": []
   },
   "outputs": [
    {
     "name": "stdout",
     "output_type": "stream",
     "text": [
      "20231028T011421 : amilcar22 : INFO : Inicio guardar métricas multiclase\n",
      "20231028T011421 : amilcar22 : INFO : Inicio leer fichero ../tfm_git/ejecuciones/metricas/metricas_0042.csv\n",
      "20231028T011421 : amilcar22 : INFO : Fin leer fichero ../tfm_git/ejecuciones/metricas/metricas_0042.csv\n"
     ]
    },
    {
     "name": "stdout",
     "output_type": "stream",
     "text": [
      "20231028T011421 : amilcar22 : INFO : Inicio guardar fichero ../tfm_git/ejecuciones/metricas/metricas_0042.csv\n",
      "20231028T011421 : amilcar22 : INFO : Fichero borrado ../tfm_git/ejecuciones/metricas/metricas_0042.csv\n",
      "20231028T011421 : amilcar22 : INFO : Fin guardar fichero ../tfm_git/ejecuciones/metricas/metricas_0042.csv\n",
      "20231028T011421 : amilcar22 : INFO : Fin guardar métricas multiclase\n",
      "20231028T011421 : amilcar22 : INFO : Inicio leer fichero ../tfm_git/ejecuciones/metricas/metricas_0042.csv\n",
      "20231028T011421 : amilcar22 : INFO : Fin leer fichero ../tfm_git/ejecuciones/metricas/metricas_0042.csv\n"
     ]
    },
    {
     "data": {
      "text/html": [
       "<div>\n",
       "<style scoped>\n",
       "    .dataframe tbody tr th:only-of-type {\n",
       "        vertical-align: middle;\n",
       "    }\n",
       "\n",
       "    .dataframe tbody tr th {\n",
       "        vertical-align: top;\n",
       "    }\n",
       "\n",
       "    .dataframe thead th {\n",
       "        text-align: right;\n",
       "    }\n",
       "</style>\n",
       "<table border=\"1\" class=\"dataframe\">\n",
       "  <thead>\n",
       "    <tr style=\"text-align: right;\">\n",
       "      <th></th>\n",
       "      <th>tipo</th>\n",
       "      <th>select</th>\n",
       "      <th>clasific</th>\n",
       "      <th>accuracy</th>\n",
       "      <th>precision</th>\n",
       "      <th>recall</th>\n",
       "      <th>f1_score</th>\n",
       "      <th>roc_auc</th>\n",
       "      <th>roc_auc_ovr</th>\n",
       "      <th>hostname</th>\n",
       "      <th>total_time_sec</th>\n",
       "      <th>datetime</th>\n",
       "      <th>fichero_modelo</th>\n",
       "      <th>params</th>\n",
       "      <th>shape</th>\n",
       "      <th>features</th>\n",
       "      <th>semilla</th>\n",
       "      <th>indices_auc</th>\n",
       "      <th>indices_jaccard</th>\n",
       "    </tr>\n",
       "  </thead>\n",
       "  <tbody>\n",
       "    <tr>\n",
       "      <th>0</th>\n",
       "      <td>mul_s</td>\n",
       "      <td>RF</td>\n",
       "      <td>LR_EN</td>\n",
       "      <td>0.442308</td>\n",
       "      <td>0.437497</td>\n",
       "      <td>0.448593</td>\n",
       "      <td>0.431504</td>\n",
       "      <td>NaN</td>\n",
       "      <td>0.798915</td>\n",
       "      <td>amilcar22</td>\n",
       "      <td>447</td>\n",
       "      <td>2023-10-28 01:14:21.551207</td>\n",
       "      <td>modelo_0042_mul_s_RF_LR_EN.pkl</td>\n",
       "      <td>{'selector__max_features': 500, 'selector__est...</td>\n",
       "      <td>X_test:(52, 18875)</td>\n",
       "      <td>['ENSG00000002919.15', 'ENSG00000007237.19', '...</td>\n",
       "      <td>42.0</td>\n",
       "      <td>[0.6008869179600886, 0.8892045454545455, 0.713...</td>\n",
       "      <td>[0.1111111111111111, 0.5555555555555556, 0.153...</td>\n",
       "    </tr>\n",
       "    <tr>\n",
       "      <th>0</th>\n",
       "      <td>mul_s</td>\n",
       "      <td>MI</td>\n",
       "      <td>SVM</td>\n",
       "      <td>0.403846</td>\n",
       "      <td>0.400665</td>\n",
       "      <td>0.421320</td>\n",
       "      <td>0.397621</td>\n",
       "      <td>NaN</td>\n",
       "      <td>0.762944</td>\n",
       "      <td>amilcar22</td>\n",
       "      <td>191</td>\n",
       "      <td>2023-10-28 01:06:47.596314</td>\n",
       "      <td>modelo_0042_mul_s_MI_SVM.pkl</td>\n",
       "      <td>{'selector__k': 1000, 'clasifier__kernel': 'rb...</td>\n",
       "      <td>X_test:(52, 18875)</td>\n",
       "      <td>['ENSG00000003137.9', 'ENSG00000004939.16', 'E...</td>\n",
       "      <td>42.0</td>\n",
       "      <td>[0.5321507760532151, 0.8636363636363638, 0.647...</td>\n",
       "      <td>[0.06666666666666667, 0.4, 0.06666666666666667...</td>\n",
       "    </tr>\n",
       "    <tr>\n",
       "      <th>0</th>\n",
       "      <td>mul_s</td>\n",
       "      <td>MI</td>\n",
       "      <td>RF</td>\n",
       "      <td>0.326923</td>\n",
       "      <td>0.267857</td>\n",
       "      <td>0.315368</td>\n",
       "      <td>0.283044</td>\n",
       "      <td>NaN</td>\n",
       "      <td>0.712195</td>\n",
       "      <td>amilcar22</td>\n",
       "      <td>211</td>\n",
       "      <td>2023-10-28 01:03:29.411968</td>\n",
       "      <td>modelo_0042_mul_s_MI_RF.pkl</td>\n",
       "      <td>{'selector__k': 500, 'clasifier__n_estimators'...</td>\n",
       "      <td>X_test:(52, 18875)</td>\n",
       "      <td>['ENSG00000005513.10', 'ENSG00000006025.13', '...</td>\n",
       "      <td>42.0</td>\n",
       "      <td>[0.4878048780487805, 0.7982954545454546, 0.650...</td>\n",
       "      <td>[0.06666666666666667, 0.35714285714285715, 0.2...</td>\n",
       "    </tr>\n",
       "  </tbody>\n",
       "</table>\n",
       "</div>"
      ],
      "text/plain": [
       "    tipo select clasific  accuracy  precision    recall  f1_score  roc_auc  \\\n",
       "0  mul_s     RF    LR_EN  0.442308   0.437497  0.448593  0.431504      NaN   \n",
       "0  mul_s     MI      SVM  0.403846   0.400665  0.421320  0.397621      NaN   \n",
       "0  mul_s     MI       RF  0.326923   0.267857  0.315368  0.283044      NaN   \n",
       "\n",
       "   roc_auc_ovr   hostname  total_time_sec                    datetime  \\\n",
       "0     0.798915  amilcar22             447  2023-10-28 01:14:21.551207   \n",
       "0     0.762944  amilcar22             191  2023-10-28 01:06:47.596314   \n",
       "0     0.712195  amilcar22             211  2023-10-28 01:03:29.411968   \n",
       "\n",
       "                   fichero_modelo  \\\n",
       "0  modelo_0042_mul_s_RF_LR_EN.pkl   \n",
       "0    modelo_0042_mul_s_MI_SVM.pkl   \n",
       "0     modelo_0042_mul_s_MI_RF.pkl   \n",
       "\n",
       "                                              params               shape  \\\n",
       "0  {'selector__max_features': 500, 'selector__est...  X_test:(52, 18875)   \n",
       "0  {'selector__k': 1000, 'clasifier__kernel': 'rb...  X_test:(52, 18875)   \n",
       "0  {'selector__k': 500, 'clasifier__n_estimators'...  X_test:(52, 18875)   \n",
       "\n",
       "                                            features  semilla  \\\n",
       "0  ['ENSG00000002919.15', 'ENSG00000007237.19', '...     42.0   \n",
       "0  ['ENSG00000003137.9', 'ENSG00000004939.16', 'E...     42.0   \n",
       "0  ['ENSG00000005513.10', 'ENSG00000006025.13', '...     42.0   \n",
       "\n",
       "                                         indices_auc  \\\n",
       "0  [0.6008869179600886, 0.8892045454545455, 0.713...   \n",
       "0  [0.5321507760532151, 0.8636363636363638, 0.647...   \n",
       "0  [0.4878048780487805, 0.7982954545454546, 0.650...   \n",
       "\n",
       "                                     indices_jaccard  \n",
       "0  [0.1111111111111111, 0.5555555555555556, 0.153...  \n",
       "0  [0.06666666666666667, 0.4, 0.06666666666666667...  \n",
       "0  [0.06666666666666667, 0.35714285714285715, 0.2...  "
      ]
     },
     "metadata": {},
     "output_type": "display_data"
    }
   ],
   "source": [
    "if M_TIPO.startswith(\"bin\"):\n",
    "    myfunc.save_metricas_to_csv(random_search, X_test, y_test, M_TIPO, M_SELECT, M_CLASIF, total_time, SEMILLA, myfunc.MET_DIR, M_FICHERO, fichero_modelo)\n",
    "else:\n",
    "    myfunc.save_metricas_multi_to_csv(random_search, X_test, y_test, M_TIPO, M_SELECT, M_CLASIF, total_time, SEMILLA, myfunc.MET_DIR, M_FICHERO, fichero_modelo)\n",
    "\n",
    "df1=myfunc.read_metricas_to_df(myfunc.MET_DIR,M_FICHERO)\n",
    "\n",
    "display(df1.sort_values(\"datetime\", ascending=False)[:3])\n"
   ]
  },
  {
   "cell_type": "markdown",
   "id": "29170325",
   "metadata": {
    "papermill": {
     "duration": 0.004423,
     "end_time": "2023-10-27T23:14:21.611431",
     "exception": false,
     "start_time": "2023-10-27T23:14:21.607008",
     "status": "completed"
    },
    "tags": []
   },
   "source": [
    "#### Guardar resultados"
   ]
  },
  {
   "cell_type": "code",
   "execution_count": 13,
   "id": "73ba8e3a",
   "metadata": {
    "execution": {
     "iopub.execute_input": "2023-10-27T23:14:21.620893Z",
     "iopub.status.busy": "2023-10-27T23:14:21.620688Z",
     "iopub.status.idle": "2023-10-27T23:14:21.629257Z",
     "shell.execute_reply": "2023-10-27T23:14:21.628716Z"
    },
    "papermill": {
     "duration": 0.01486,
     "end_time": "2023-10-27T23:14:21.630558",
     "exception": false,
     "start_time": "2023-10-27T23:14:21.615698",
     "status": "completed"
    },
    "tags": []
   },
   "outputs": [
    {
     "name": "stdout",
     "output_type": "stream",
     "text": [
      "20231028T011421 : amilcar22 : INFO : Inicio guardar resultados\n",
      "20231028T011421 : amilcar22 : INFO : Inicio guardar fichero ../tfm_git/ejecuciones/metricas/resultados_0042_mul_s-RF-LR_EN.csv\n",
      "20231028T011421 : amilcar22 : INFO : Fin guardar fichero ../tfm_git/ejecuciones/metricas/resultados_0042_mul_s-RF-LR_EN.csv\n",
      "20231028T011421 : amilcar22 : INFO : Fin guardar resultados\n"
     ]
    }
   ],
   "source": [
    "fichero_resultados=R_FICHERO+\"_\"+M_TIPO+\"-\"+M_SELECT+\"-\"+M_CLASIF+\".csv\"\n",
    "myfunc.save_resultados_to_csv(M_TIPO, M_SELECT, M_CLASIF,  random_search, myfunc.MET_DIR, fichero_resultados)\n"
   ]
  }
 ],
 "metadata": {
  "kernelspec": {
   "display_name": "Python 3 (ipykernel)",
   "language": "python",
   "name": "python3"
  },
  "language_info": {
   "codemirror_mode": {
    "name": "ipython",
    "version": 3
   },
   "file_extension": ".py",
   "mimetype": "text/x-python",
   "name": "python",
   "nbconvert_exporter": "python",
   "pygments_lexer": "ipython3",
   "version": "3.10.12"
  },
  "papermill": {
   "default_parameters": {},
   "duration": 452.450946,
   "end_time": "2023-10-27T23:14:24.253715",
   "environment_variables": {},
   "exception": null,
   "input_path": "03_entrenamiento.ipynb",
   "output_path": "ejecuciones/training/03_entrenamiento.20231028T010651.param_0000_0042_mul_s_RF_LR_EN.output.ipynb",
   "parameters": {
    "MAX_ITERS": 500,
    "M_CLASIF": "LR_EN",
    "M_FICHERO": "metricas_0042",
    "M_SELECT": "RF",
    "M_TIPO": "mul_s",
    "PRE_DATA_FILE": "rows_transpose_norm_by_gene_id_with_target_num_",
    "P_FICHERO": "param_0000_0042_mul_s_RF_LR_EN.yaml",
    "R_FICHERO": "resultados_0042",
    "SCORING": "roc_auc_ovr",
    "SEMILLA": 42,
    "eval_clasifier": "LogisticRegressionCV(random_state=SEMILLA)",
    "eval_selector": "SelectFromModel(estimator=RandomForestClassifier(random_state=SEMILLA), threshold=-np.inf)",
    "param_distributions": {
     "clasifier__l1_ratios": [
      [
       0.1
      ]
     ],
     "clasifier__max_iter": [
      10000
     ],
     "clasifier__penalty": [
      "elasticnet"
     ],
     "clasifier__solver": [
      "saga"
     ],
     "selector__estimator__n_estimators": [
      400
     ],
     "selector__max_features": [
      500
     ]
    }
   },
   "start_time": "2023-10-27T23:06:51.802769",
   "version": "2.4.0"
  }
 },
 "nbformat": 4,
 "nbformat_minor": 5
}