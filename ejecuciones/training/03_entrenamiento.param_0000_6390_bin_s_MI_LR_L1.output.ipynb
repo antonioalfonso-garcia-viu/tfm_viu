{
 "cells": [
  {
   "cell_type": "markdown",
   "id": "1c5105a1",
   "metadata": {
    "papermill": {
     "duration": 0.00308,
     "end_time": "2023-10-30T12:46:34.544712",
     "exception": false,
     "start_time": "2023-10-30T12:46:34.541632",
     "status": "completed"
    },
    "tags": []
   },
   "source": [
    "##### Inicio"
   ]
  },
  {
   "cell_type": "markdown",
   "id": "aa44f31d",
   "metadata": {
    "papermill": {
     "duration": 0.003401,
     "end_time": "2023-10-30T12:46:34.550650",
     "exception": false,
     "start_time": "2023-10-30T12:46:34.547249",
     "status": "completed"
    },
    "tags": []
   },
   "source": [
    "#### Carga de datos"
   ]
  },
  {
   "cell_type": "code",
   "execution_count": 1,
   "id": "dcf078e4",
   "metadata": {
    "execution": {
     "iopub.execute_input": "2023-10-30T12:46:34.558743Z",
     "iopub.status.busy": "2023-10-30T12:46:34.558497Z",
     "iopub.status.idle": "2023-10-30T12:46:35.430452Z",
     "shell.execute_reply": "2023-10-30T12:46:35.429900Z"
    },
    "papermill": {
     "duration": 0.877801,
     "end_time": "2023-10-30T12:46:35.431937",
     "exception": false,
     "start_time": "2023-10-30T12:46:34.554136",
     "status": "completed"
    },
    "tags": []
   },
   "outputs": [
    {
     "name": "stdout",
     "output_type": "stream",
     "text": [
      "CPU_COUNT: 8; NODE: amilcar22; sys.version: 3.10.12 (main, Jul  5 2023, 19:22:19) [GCC 11.2.0]\n",
      "LOKY_MAX_CPU_COUNT: 6\n",
      "OMP_NUM_THREADS: 2\n"
     ]
    }
   ],
   "source": [
    "import os\n",
    "import numpy as np\n",
    "import pandas as pd\n",
    "import datetime\n",
    "import sklearn\n",
    "import logging\n",
    "import warnings\n",
    "\n",
    "from sklearn.pipeline import Pipeline\n",
    "from sklearn.model_selection import RandomizedSearchCV, KFold, cross_val_score, train_test_split\n",
    "from sklearn.metrics import accuracy_score, confusion_matrix, classification_report, roc_auc_score\n",
    "\n",
    "#  cargar algoritmos para aprendizaje supervisado\n",
    "from sklearn.feature_selection import SelectKBest, f_classif, SelectFromModel, mutual_info_classif\n",
    "from sklearn.svm import SVC\n",
    "from sklearn.ensemble import RandomForestClassifier\n",
    "from sklearn.linear_model import LogisticRegression,LogisticRegressionCV\n",
    "\n",
    "# importar fichero con utilidades propias\n",
    "from commons import myfunctions as myfunc\n"
   ]
  },
  {
   "cell_type": "markdown",
   "id": "84eaa34d",
   "metadata": {
    "papermill": {
     "duration": 0.002569,
     "end_time": "2023-10-30T12:46:35.437470",
     "exception": false,
     "start_time": "2023-10-30T12:46:35.434901",
     "status": "completed"
    },
    "tags": []
   },
   "source": [
    "#### Parámetros a utilizar en el entrenamiento.\n",
    "\n",
    "Se indican los 3 algoritmos de *selección de características* (eval_selector_xxx) y los 3 algoritmos para la _clasificación_ (eval_clasifier_xxx)\n",
    "\n",
    "En *param_distributions* se indicar los parámetros que utilizan los algoritmos en la función RandomSearchCV.\n",
    "\n",
    "Esta celda tiene la etiqueta **parameters** que servirá para poder lanzar los entrenamientos con la utilidad **papermill** pasándole un fichero con los parámetros. Los nuevos parámetros se situarán tras esta celda para tener prevalencia."
   ]
  },
  {
   "cell_type": "code",
   "execution_count": 2,
   "id": "42d6438e",
   "metadata": {
    "execution": {
     "iopub.execute_input": "2023-10-30T12:46:35.443463Z",
     "iopub.status.busy": "2023-10-30T12:46:35.443166Z",
     "iopub.status.idle": "2023-10-30T12:46:35.450192Z",
     "shell.execute_reply": "2023-10-30T12:46:35.449751Z"
    },
    "papermill": {
     "duration": 0.011495,
     "end_time": "2023-10-30T12:46:35.451401",
     "exception": false,
     "start_time": "2023-10-30T12:46:35.439906",
     "status": "completed"
    },
    "tags": [
     "parameters"
    ]
   },
   "outputs": [
    {
     "name": "stdout",
     "output_type": "stream",
     "text": [
      "20231030T134635 : amilcar22 : INFO : Utilizando parámetros de mul_m\n"
     ]
    }
   ],
   "source": [
    "#  Parametros para el entrenamiento\n",
    "\n",
    "SEMILLA=        42\n",
    "M_TIPO=         \"mul_m\"\n",
    "M_SELECT=       \"MI\"\n",
    "M_CLASIF=       \"SVM\"\n",
    "R_FICHERO=      \"resultados\"\n",
    "M_FICHERO=      \"metricas\"\n",
    "PRE_DATA_FILE=  \"rows_transpose_norm_by_gene_id_with_target_num_\"\n",
    "SCORING=        \"roc_auc_ovr\" \n",
    "MAX_ITERS=      100\n",
    "\n",
    "def mutual_info_classif_state(X, y):\n",
    "    return mutual_info_classif(X, y, random_state=SEMILLA)\n",
    "\n",
    "eval_selector_mi = \"SelectKBest(score_func=mutual_info_classif_state)\"\n",
    "eval_selector_rf=  \"SelectFromModel(estimator=RandomForestClassifier(random_state=SEMILLA), threshold=-np.inf)\"\n",
    "eval_selector_anova=  \"SelectKBest(score_func=f_classif)\"\n",
    "\n",
    "eval_clasifier_svm= \"SVC(probability=True, random_state=SEMILLA)\"\n",
    "eval_clasifier_rf= \"RandomForestClassifier(random_state=SEMILLA)\"\n",
    "eval_clasifier_lr= \"LogisticRegressionCV(random_state=SEMILLA)\"\n",
    "\n",
    "if M_TIPO.startswith(\"bin_m\"):\n",
    "    myfunc.verbose(f\"Utilizando parámetros de {M_TIPO}\")\n",
    "    eval_selector = eval_selector_mi\n",
    "    eval_clasifier = eval_clasifier_svm\n",
    "\n",
    "    SEMILLA = 6578\n",
    "    M_SELECT = \"MI\"\n",
    "    M_CLASIF = \"SVM\"\n",
    "    param_distributions = {'selector__k': [1000], \n",
    "         'clasifier__kernel': ['rbf'], 'clasifier__gamma': [0.01], 'clasifier__C': [100]}\n",
    "elif M_TIPO.startswith(\"bin_s\"):\n",
    "    myfunc.verbose(f\"Utilizando parámetros de {M_TIPO}\")\n",
    "    eval_selector = eval_selector_rf\n",
    "    eval_clasifier = eval_clasifier_lr\n",
    "\n",
    "    SEMILLA = 6191\n",
    "    M_SELECT = \"RF\"\n",
    "    M_CLASIF = \"LR_L2\"\n",
    "    param_distributions = {'selector__max_features': [1000], 'selector__estimator__n_estimators': [200], \n",
    "        'clasifier__solver': ['lbfgs'], 'clasifier__penalty': ['l2'], 'clasifier__max_iter': [10000]}\n",
    "\n",
    "elif M_TIPO.startswith(\"mul_m\"):\n",
    "    myfunc.verbose(f\"Utilizando parámetros de {M_TIPO}\")\n",
    " \n",
    "    eval_selector = eval_selector_rf\n",
    "    eval_clasifier = eval_clasifier_lr\n",
    "\n",
    "    SEMILLA = 6191\n",
    "    M_SELECT = \"RF\"\n",
    "    M_CLASIF = \"LR_L2\"\n",
    "    param_distributions = {'selector__max_features': [1000], 'selector__estimator__n_estimators': [400], \n",
    "        'clasifier__solver': ['lbfgs'], 'clasifier__penalty': ['l2'], 'clasifier__max_iter': [10000]}\n",
    "\n",
    "else:\n",
    "    # M_TIPO.startswith(\"mul_s\"):\n",
    "    myfunc.verbose(f\"Utilizando parámetros de {M_TIPO}\")\n",
    "    eval_selector = eval_selector_anova\n",
    "    eval_clasifier = eval_clasifier_lr\n",
    "\n",
    "    SEMILLA = 1860\n",
    "    M_SELECT = \"ANOVA\"\n",
    "    M_CLASIF = \"LR_L2\"\n",
    "    param_distributions = {'selector__k': [1000], \n",
    "        'clasifier__solver': ['saga'], 'clasifier__penalty': ['l2'], 'clasifier__max_iter': [10000]}\n",
    "\n"
   ]
  },
  {
   "cell_type": "code",
   "execution_count": 3,
   "id": "d2904d6d",
   "metadata": {
    "execution": {
     "iopub.execute_input": "2023-10-30T12:46:35.457624Z",
     "iopub.status.busy": "2023-10-30T12:46:35.457433Z",
     "iopub.status.idle": "2023-10-30T12:46:35.460865Z",
     "shell.execute_reply": "2023-10-30T12:46:35.460283Z"
    },
    "papermill": {
     "duration": 0.007902,
     "end_time": "2023-10-30T12:46:35.462073",
     "exception": false,
     "start_time": "2023-10-30T12:46:35.454171",
     "status": "completed"
    },
    "tags": [
     "injected-parameters"
    ]
   },
   "outputs": [],
   "source": [
    "# Parameters\n",
    "M_TIPO = \"bin_s\"\n",
    "M_SELECT = \"MI\"\n",
    "M_CLASIF = \"LR_L1\"\n",
    "P_FICHERO = \"param_0000_6390_bin_s_MI_LR_L1.yaml\"\n",
    "R_FICHERO = \"resultados_6390\"\n",
    "M_FICHERO = \"metricas_6390\"\n",
    "PRE_DATA_FILE = \"rows_transpose_norm_by_gene_id_with_target_num_\"\n",
    "SCORING = \"roc_auc_ovr\"\n",
    "SEMILLA = 6390\n",
    "MAX_ITERS = 500\n",
    "eval_selector = \"SelectKBest(score_func=mutual_info_classif_state)\"\n",
    "eval_clasifier = \"LogisticRegressionCV(random_state=SEMILLA)\"\n",
    "param_distributions = {\n",
    "    \"selector__k\": [1000],\n",
    "    \"clasifier__solver\": [\"saga\"],\n",
    "    \"clasifier__penalty\": [\"l1\"],\n",
    "    \"clasifier__max_iter\": [10000],\n",
    "}\n"
   ]
  },
  {
   "cell_type": "code",
   "execution_count": 4,
   "id": "9bb78342",
   "metadata": {
    "execution": {
     "iopub.execute_input": "2023-10-30T12:46:35.468375Z",
     "iopub.status.busy": "2023-10-30T12:46:35.468201Z",
     "iopub.status.idle": "2023-10-30T12:46:35.471120Z",
     "shell.execute_reply": "2023-10-30T12:46:35.470598Z"
    },
    "papermill": {
     "duration": 0.00753,
     "end_time": "2023-10-30T12:46:35.472396",
     "exception": false,
     "start_time": "2023-10-30T12:46:35.464866",
     "status": "completed"
    },
    "tags": []
   },
   "outputs": [],
   "source": [
    "DATA_FILE = PRE_DATA_FILE + M_TIPO\n",
    "\n",
    "# si viene \"None\" en el parámetro max_depth, se le quitan las comillas para que no sea entendido por el algoritmo como un texto\n",
    "if \"clasifier__max_depth\" in param_distributions:\n",
    "    param_distributions['clasifier__max_depth'] = [None if x == 'None' else x for x in param_distributions['clasifier__max_depth']]"
   ]
  },
  {
   "cell_type": "markdown",
   "id": "9f6f4066",
   "metadata": {
    "papermill": {
     "duration": 0.002796,
     "end_time": "2023-10-30T12:46:35.478075",
     "exception": false,
     "start_time": "2023-10-30T12:46:35.475279",
     "status": "completed"
    },
    "tags": []
   },
   "source": [
    "Asignar los algoritmos que se utilizarán en la función RandomSearchCV"
   ]
  },
  {
   "cell_type": "code",
   "execution_count": 5,
   "id": "87b9c15e",
   "metadata": {
    "execution": {
     "iopub.execute_input": "2023-10-30T12:46:35.484500Z",
     "iopub.status.busy": "2023-10-30T12:46:35.484311Z",
     "iopub.status.idle": "2023-10-30T12:46:35.487176Z",
     "shell.execute_reply": "2023-10-30T12:46:35.486621Z"
    },
    "papermill": {
     "duration": 0.007505,
     "end_time": "2023-10-30T12:46:35.488445",
     "exception": false,
     "start_time": "2023-10-30T12:46:35.480940",
     "status": "completed"
    },
    "tags": []
   },
   "outputs": [],
   "source": [
    "algor_selector=eval(eval_selector)\n",
    "algor_clasifier=eval(eval_clasifier)"
   ]
  },
  {
   "cell_type": "markdown",
   "id": "0e0ef920",
   "metadata": {
    "papermill": {
     "duration": 0.003331,
     "end_time": "2023-10-30T12:46:35.495070",
     "exception": false,
     "start_time": "2023-10-30T12:46:35.491739",
     "status": "completed"
    },
    "tags": []
   },
   "source": [
    "#### Comprobar el entorno y leer fichero de muestras"
   ]
  },
  {
   "cell_type": "code",
   "execution_count": 6,
   "id": "7eee6f62",
   "metadata": {
    "execution": {
     "iopub.execute_input": "2023-10-30T12:46:35.502268Z",
     "iopub.status.busy": "2023-10-30T12:46:35.502079Z",
     "iopub.status.idle": "2023-10-30T12:46:35.657872Z",
     "shell.execute_reply": "2023-10-30T12:46:35.657359Z"
    },
    "papermill": {
     "duration": 0.160832,
     "end_time": "2023-10-30T12:46:35.659196",
     "exception": false,
     "start_time": "2023-10-30T12:46:35.498364",
     "status": "completed"
    },
    "tags": []
   },
   "outputs": [
    {
     "name": "stdout",
     "output_type": "stream",
     "text": [
      "20231030T134635 : amilcar22 : INFO : Encontrada carpeta DATA_DIR=../tfm_git/datos\n",
      "20231030T134635 : amilcar22 : INFO : Encontrada carpeta CFDNA_DIR=../tfm_git/datos/cfDNA_5hmC\n",
      "20231030T134635 : amilcar22 : INFO : Encontrada carpeta GENCODE_DIR=../tfm_git/datos/gencode\n",
      "20231030T134635 : amilcar22 : INFO : Encontrada carpeta H5_DIR=../tfm_git/datos/h5\n",
      "20231030T134635 : amilcar22 : INFO : Encontrada carpeta LOG_DIR=../tfm_git/datos/logs\n",
      "20231030T134635 : amilcar22 : INFO : Encontrada carpeta CSV_DIR=../tfm_git/datos/csv\n",
      "20231030T134635 : amilcar22 : INFO : Encontrada carpeta MODEL_DIR=../tfm_git/ejecuciones/modelos\n",
      "20231030T134635 : amilcar22 : INFO : Encontrada carpeta EXEC_DIR=../tfm_git/ejecuciones\n",
      "20231030T134635 : amilcar22 : INFO : Encontrada carpeta MET_DIR=../tfm_git/ejecuciones/metricas\n",
      "20231030T134635 : amilcar22 : INFO : Inicio leer fichero h5 ../tfm_git/datos/h5/rows_transpose_norm_by_gene_id_with_target_num_bin_s.h5\n",
      "20231030T134635 : amilcar22 : INFO : Leyendo clave /df\n",
      "20231030T134635 : amilcar22 : INFO : Tamaño (443, 18876)\n",
      "20231030T134635 : amilcar22 : INFO : Fin leer fichero h5 ../tfm_git/datos/h5/rows_transpose_norm_by_gene_id_with_target_num_bin_s.h5\n"
     ]
    },
    {
     "data": {
      "text/plain": [
       "target\n",
       "0    221\n",
       "1    222\n",
       "dtype: int64"
      ]
     },
     "metadata": {},
     "output_type": "display_data"
    },
    {
     "name": "stdout",
     "output_type": "stream",
     "text": [
      "Shape df: (443, 18876)\n"
     ]
    },
    {
     "name": "stdout",
     "output_type": "stream",
     "text": [
      "Shape X_train: (354, 18875)\n",
      "Shape X_test: (89, 18875)\n"
     ]
    }
   ],
   "source": [
    "start_time = datetime.datetime.now()\n",
    "\n",
    "myfunc.reset_vars()\n",
    "\n",
    "myfunc.NOTEBK_FILENAME = myfunc.get_nb_name()\n",
    "\n",
    "myfunc.check_enviroment(myfunc.DATA_DIR, myfunc.CFDNA_DIR, myfunc.GENCODE_DIR, myfunc.H5_DIR, myfunc.LOG_DIR, myfunc.CSV_DIR, myfunc.MODEL_DIR, myfunc.EXEC_DIR, myfunc.MET_DIR)\n",
    "\n",
    "# Leer fichero con las muestras\n",
    "df_t = myfunc.read_h5_to_df(DATA_FILE, myfunc.H5_DIR)\n",
    "display(df_t.groupby(\"target\").size())\n",
    "print(\"Shape df:\",df_t.shape)\n",
    "\n",
    "# Separar caracteristicas/genes de las etiquetas/tipos de cáncer\n",
    "X = df_t.iloc[:, :-1]  # Todas las columnas excepto la última\n",
    "y = df_t.iloc[:, -1]  # La última columna contiene los identificadores de los tipos de cáncer\n",
    "\n",
    "#  Crear el conjunto de datos de entrenamiento y de pruebas, y se fija la semilla para siempre coger el mismo juego de muestras\n",
    "X_train, X_test, y_train, y_test = train_test_split(X, y, test_size=0.2, shuffle=True, random_state=42)\n",
    "print(\"Shape X_train:\",X_train.shape)\n",
    "print(\"Shape X_test:\",X_test.shape)\n"
   ]
  },
  {
   "cell_type": "markdown",
   "id": "21046c92",
   "metadata": {
    "papermill": {
     "duration": 0.002955,
     "end_time": "2023-10-30T12:46:35.665701",
     "exception": false,
     "start_time": "2023-10-30T12:46:35.662746",
     "status": "completed"
    },
    "tags": []
   },
   "source": [
    "#### Selección de características y clasificación."
   ]
  },
  {
   "cell_type": "code",
   "execution_count": 7,
   "id": "948768ff",
   "metadata": {
    "execution": {
     "iopub.execute_input": "2023-10-30T12:46:35.672203Z",
     "iopub.status.busy": "2023-10-30T12:46:35.672005Z",
     "iopub.status.idle": "2023-10-30T12:55:14.714664Z",
     "shell.execute_reply": "2023-10-30T12:55:14.713973Z"
    },
    "papermill": {
     "duration": 519.049736,
     "end_time": "2023-10-30T12:55:14.718274",
     "exception": false,
     "start_time": "2023-10-30T12:46:35.668538",
     "status": "completed"
    },
    "tags": []
   },
   "outputs": [
    {
     "name": "stdout",
     "output_type": "stream",
     "text": [
      "20231030T134635 : amilcar22 : INFO : Iniciando entrenamiento\n",
      "num_iter: 1 , max_iter: 1\n",
      "Fitting 5 folds for each of 1 candidates, totalling 5 fits\n"
     ]
    },
    {
     "name": "stdout",
     "output_type": "stream",
     "text": [
      "[CV 1/5] END clasifier__max_iter=10000, clasifier__penalty=l1, clasifier__solver=saga, selector__k=1000;, score=0.769 total time= 2.8min\n"
     ]
    },
    {
     "name": "stdout",
     "output_type": "stream",
     "text": [
      "[CV 3/5] END clasifier__max_iter=10000, clasifier__penalty=l1, clasifier__solver=saga, selector__k=1000;, score=0.711 total time= 3.0min\n"
     ]
    },
    {
     "name": "stdout",
     "output_type": "stream",
     "text": [
      "[CV 2/5] END clasifier__max_iter=10000, clasifier__penalty=l1, clasifier__solver=saga, selector__k=1000;, score=0.811 total time= 3.0min\n"
     ]
    },
    {
     "name": "stdout",
     "output_type": "stream",
     "text": [
      "Mejores Hiperparámetros: {'selector__k': 1000, 'clasifier__solver': 'saga', 'clasifier__penalty': 'l1', 'clasifier__max_iter': 10000}\n",
      "Mejor Puntuación: 0.7707\n",
      "20231030T135514 : amilcar22 : INFO : Fin entrenamiento\n"
     ]
    }
   ],
   "source": [
    "myfunc.verbose(\"Iniciando entrenamiento\")\n",
    "\n",
    "kf = KFold(n_splits=5, shuffle=True, random_state=SEMILLA)\n",
    "\n",
    "# Crear el pipeline para el flujo de tareas\n",
    "tasks_pipeline = Pipeline([\n",
    "    ('selector', algor_selector),\n",
    "    ('clasifier', algor_clasifier)\n",
    "])\n",
    "\n",
    "# MAX_ITERS puede limitar el número de iteraciones si son excesivas para las combinaciones de parámetros buscando un óptimo local, \n",
    "# sino funcionaría como GridSearchCV al revisar todas las cominaciones de los parámetros\n",
    "num_iteraciones = 1\n",
    "num_iteraciones = num_iteraciones * np.prod([len(elemento1) for _, elemento1 in param_distributions.items()])\n",
    "max_iteraciones = num_iteraciones if num_iteraciones <= MAX_ITERS else MAX_ITERS\n",
    "print(\"num_iter:\",num_iteraciones,\", max_iter:\",max_iteraciones)\n",
    "\n",
    "random_search = RandomizedSearchCV(\n",
    "    tasks_pipeline, \n",
    "    param_distributions, \n",
    "    n_iter=max_iteraciones,\n",
    "    scoring=SCORING,\n",
    "    cv=kf,\n",
    "    verbose=3, \n",
    "    random_state=SEMILLA, \n",
    "    n_jobs=-1\n",
    "    )\n",
    "\n",
    "# Entrenar el modelo\n",
    "random_search.fit(X_train, y_train)\n",
    "\n",
    "# Ver los mejores hiperparámetros encontrados\n",
    "print(f'Mejores Hiperparámetros: {random_search.best_params_}')\n",
    "print(f'Mejor Puntuación: {random_search.best_score_:.4f}')\n",
    "\n",
    "# Nos quedamos con el mejor modelo para ver las métricas\n",
    "mejor_modelo = random_search.best_estimator_\n",
    "\n",
    "myfunc.verbose(\"Fin entrenamiento\")"
   ]
  },
  {
   "cell_type": "markdown",
   "id": "b4df8e17",
   "metadata": {
    "papermill": {
     "duration": 0.002948,
     "end_time": "2023-10-30T12:55:14.724303",
     "exception": false,
     "start_time": "2023-10-30T12:55:14.721355",
     "status": "completed"
    },
    "tags": []
   },
   "source": [
    "#### Guardar modelo"
   ]
  },
  {
   "cell_type": "code",
   "execution_count": 8,
   "id": "2858d07b",
   "metadata": {
    "execution": {
     "iopub.execute_input": "2023-10-30T12:55:14.731272Z",
     "iopub.status.busy": "2023-10-30T12:55:14.731067Z",
     "iopub.status.idle": "2023-10-30T12:55:14.738508Z",
     "shell.execute_reply": "2023-10-30T12:55:14.738007Z"
    },
    "papermill": {
     "duration": 0.012533,
     "end_time": "2023-10-30T12:55:14.739877",
     "exception": false,
     "start_time": "2023-10-30T12:55:14.727344",
     "status": "completed"
    },
    "tags": []
   },
   "outputs": [
    {
     "name": "stdout",
     "output_type": "stream",
     "text": [
      "20231030T135514 : amilcar22 : INFO : Inicio guardar fichero ../tfm_git/ejecuciones/modelos/modelo_6390_bin_s_MI_LR_L1.pkl\n",
      "20231030T135514 : amilcar22 : INFO : Fin guardar fichero ../tfm_git/ejecuciones/modelos/modelo_6390_bin_s_MI_LR_L1.pkl\n"
     ]
    }
   ],
   "source": [
    "fichero_modelo = str.replace(\"modelo_\"+str(SEMILLA).zfill(4)+\"_\"+M_TIPO+\"_\"+M_SELECT+\"_\"+M_CLASIF+\".pkl\", \" \", \"_\")\n",
    "\n",
    "myfunc.save_modelo(mejor_modelo, myfunc.MODEL_DIR, fichero_modelo)"
   ]
  },
  {
   "cell_type": "markdown",
   "id": "5df12287",
   "metadata": {
    "papermill": {
     "duration": 0.003066,
     "end_time": "2023-10-30T12:55:14.746159",
     "exception": false,
     "start_time": "2023-10-30T12:55:14.743093",
     "status": "completed"
    },
    "tags": []
   },
   "source": [
    "#### Ver resultados del las iteraciones hechas por RandomSearchCV"
   ]
  },
  {
   "cell_type": "code",
   "execution_count": 9,
   "id": "c3bfdeea",
   "metadata": {
    "execution": {
     "iopub.execute_input": "2023-10-30T12:55:14.753024Z",
     "iopub.status.busy": "2023-10-30T12:55:14.752812Z",
     "iopub.status.idle": "2023-10-30T12:55:14.759018Z",
     "shell.execute_reply": "2023-10-30T12:55:14.758552Z"
    },
    "papermill": {
     "duration": 0.011099,
     "end_time": "2023-10-30T12:55:14.760291",
     "exception": false,
     "start_time": "2023-10-30T12:55:14.749192",
     "status": "completed"
    },
    "tags": []
   },
   "outputs": [
    {
     "name": "stdout",
     "output_type": "stream",
     "text": [
      "20231030T135514 : amilcar22 : INFO : Inicio ver resultados\n",
      "Mejores Hiperparámetros: {'selector__k': 1000, 'clasifier__solver': 'saga', 'clasifier__penalty': 'l1', 'clasifier__max_iter': 10000}\n",
      "Mejores puntuaciones: 0.7707 | Params: {'selector__k': 1000, 'clasifier__solver': 'saga', 'clasifier__penalty': 'l1', 'clasifier__max_iter': 10000}\n",
      "Media de las puntuaciones: 0.7707 | Params: {'selector__k': 1000, 'clasifier__solver': 'saga', 'clasifier__penalty': 'l1', 'clasifier__max_iter': 10000}\n",
      "20231030T135514 : amilcar22 : INFO : Fin resultados\n"
     ]
    }
   ],
   "source": [
    "myfunc.ver_resultados_search(random_search)"
   ]
  },
  {
   "cell_type": "markdown",
   "id": "5f2f3ec2",
   "metadata": {
    "papermill": {
     "duration": 0.003102,
     "end_time": "2023-10-30T12:55:14.766636",
     "exception": false,
     "start_time": "2023-10-30T12:55:14.763534",
     "status": "completed"
    },
    "tags": []
   },
   "source": [
    "#### Ver métricas del mejor modelo"
   ]
  },
  {
   "cell_type": "code",
   "execution_count": 10,
   "id": "c4adee84",
   "metadata": {
    "execution": {
     "iopub.execute_input": "2023-10-30T12:55:14.773652Z",
     "iopub.status.busy": "2023-10-30T12:55:14.773454Z",
     "iopub.status.idle": "2023-10-30T12:55:15.165720Z",
     "shell.execute_reply": "2023-10-30T12:55:15.165118Z"
    },
    "papermill": {
     "duration": 0.397078,
     "end_time": "2023-10-30T12:55:15.166826",
     "exception": false,
     "start_time": "2023-10-30T12:55:14.769748",
     "status": "completed"
    },
    "tags": []
   },
   "outputs": [
    {
     "name": "stdout",
     "output_type": "stream",
     "text": [
      "20231030T135514 : amilcar22 : INFO : Inicio ver métricas\n",
      "              precision    recall  f1-score   support\n",
      "\n",
      "           0       0.70      0.72      0.71        46\n",
      "           1       0.69      0.67      0.68        43\n",
      "\n",
      "    accuracy                           0.70        89\n",
      "   macro avg       0.70      0.70      0.70        89\n",
      "weighted avg       0.70      0.70      0.70        89\n",
      "\n",
      "\n",
      "\n",
      "   Exactitud: 0.6966\n",
      "   Precisión: 0.6963\n",
      "Sensibilidad: 0.6959\n",
      "    F1-score: 0.6960\n",
      "     AUC ROC: 0.7583\n"
     ]
    },
    {
     "data": {
      "image/png": "[encoded data removed]",
      "text/plain": [
       "<Figure size 300x100 with 2 Axes>"
      ]
     },
     "metadata": {},
     "output_type": "display_data"
    },
    {
     "data": {
      "image/png": "[encoded data removed]",
      "text/plain": [
       "<Figure size 800x500 with 1 Axes>"
      ]
     },
     "metadata": {},
     "output_type": "display_data"
    },
    {
     "name": "stdout",
     "output_type": "stream",
     "text": [
      "20231030T135515 : amilcar22 : INFO : Fin ver métricas\n"
     ]
    }
   ],
   "source": [
    "if M_TIPO.startswith(\"bin\"):\n",
    "    myfunc.ver_metricas(mejor_modelo, X_test, y_test)\n",
    "else:\n",
    "    myfunc.ver_metricas_multi(mejor_modelo, X_test, y_test)\n"
   ]
  },
  {
   "cell_type": "markdown",
   "id": "6a7a5868",
   "metadata": {
    "papermill": {
     "duration": 0.003701,
     "end_time": "2023-10-30T12:55:15.174636",
     "exception": false,
     "start_time": "2023-10-30T12:55:15.170935",
     "status": "completed"
    },
    "tags": []
   },
   "source": [
    "#### Finalización del notebook"
   ]
  },
  {
   "cell_type": "code",
   "execution_count": 11,
   "id": "76bdb2bb",
   "metadata": {
    "execution": {
     "iopub.execute_input": "2023-10-30T12:55:15.182678Z",
     "iopub.status.busy": "2023-10-30T12:55:15.182485Z",
     "iopub.status.idle": "2023-10-30T12:55:15.186163Z",
     "shell.execute_reply": "2023-10-30T12:55:15.185638Z"
    },
    "papermill": {
     "duration": 0.00903,
     "end_time": "2023-10-30T12:55:15.187259",
     "exception": false,
     "start_time": "2023-10-30T12:55:15.178229",
     "status": "completed"
    },
    "tags": []
   },
   "outputs": [
    {
     "name": "stdout",
     "output_type": "stream",
     "text": [
      "20231030T135515 : amilcar22 : INFO : Notebook ha tardado 519 seconds\n"
     ]
    }
   ],
   "source": [
    "end_time = datetime.datetime.now()\n",
    "total_time = end_time - start_time\n",
    "myfunc.verbose(f\"Notebook ha tardado {total_time.seconds} seconds\")"
   ]
  },
  {
   "cell_type": "markdown",
   "id": "90c9b8d3",
   "metadata": {
    "papermill": {
     "duration": 0.003718,
     "end_time": "2023-10-30T12:55:15.194745",
     "exception": false,
     "start_time": "2023-10-30T12:55:15.191027",
     "status": "completed"
    },
    "tags": []
   },
   "source": [
    "#### Guardar métricas"
   ]
  },
  {
   "cell_type": "code",
   "execution_count": 12,
   "id": "781c76ce",
   "metadata": {
    "execution": {
     "iopub.execute_input": "2023-10-30T12:55:15.202914Z",
     "iopub.status.busy": "2023-10-30T12:55:15.202750Z",
     "iopub.status.idle": "2023-10-30T12:55:15.364043Z",
     "shell.execute_reply": "2023-10-30T12:55:15.363477Z"
    },
    "papermill": {
     "duration": 0.166757,
     "end_time": "2023-10-30T12:55:15.365228",
     "exception": false,
     "start_time": "2023-10-30T12:55:15.198471",
     "status": "completed"
    },
    "tags": []
   },
   "outputs": [
    {
     "name": "stdout",
     "output_type": "stream",
     "text": [
      "20231030T135515 : amilcar22 : INFO : Inicio guardar métricas\n",
      "20231030T135515 : amilcar22 : INFO : Inicio leer fichero ../tfm_git/ejecuciones/metricas/metricas_6390.csv\n",
      "20231030T135515 : amilcar22 : INFO : Fin leer fichero ../tfm_git/ejecuciones/metricas/metricas_6390.csv\n",
      "20231030T135515 : amilcar22 : INFO : Inicio guardar fichero ../tfm_git/ejecuciones/metricas/metricas_6390.csv\n",
      "20231030T135515 : amilcar22 : INFO : Fichero borrado ../tfm_git/ejecuciones/metricas/metricas_6390.csv\n",
      "20231030T135515 : amilcar22 : INFO : Fin guardar fichero ../tfm_git/ejecuciones/metricas/metricas_6390.csv\n",
      "20231030T135515 : amilcar22 : INFO : Fin guardar métricas\n",
      "20231030T135515 : amilcar22 : INFO : Inicio leer fichero ../tfm_git/ejecuciones/metricas/metricas_6390.csv\n",
      "20231030T135515 : amilcar22 : INFO : Fin leer fichero ../tfm_git/ejecuciones/metricas/metricas_6390.csv\n"
     ]
    },
    {
     "data": {
      "text/html": [
       "<div>\n",
       "<style scoped>\n",
       "    .dataframe tbody tr th:only-of-type {\n",
       "        vertical-align: middle;\n",
       "    }\n",
       "\n",
       "    .dataframe tbody tr th {\n",
       "        vertical-align: top;\n",
       "    }\n",
       "\n",
       "    .dataframe thead th {\n",
       "        text-align: right;\n",
       "    }\n",
       "</style>\n",
       "<table border=\"1\" class=\"dataframe\">\n",
       "  <thead>\n",
       "    <tr style=\"text-align: right;\">\n",
       "      <th></th>\n",
       "      <th>tipo</th>\n",
       "      <th>select</th>\n",
       "      <th>clasific</th>\n",
       "      <th>semilla</th>\n",
       "      <th>accuracy</th>\n",
       "      <th>precision</th>\n",
       "      <th>recall</th>\n",
       "      <th>f1_score</th>\n",
       "      <th>roc_auc</th>\n",
       "      <th>hostname</th>\n",
       "      <th>total_time_sec</th>\n",
       "      <th>datetime</th>\n",
       "      <th>fichero_modelo</th>\n",
       "      <th>params</th>\n",
       "      <th>shape</th>\n",
       "      <th>features</th>\n",
       "    </tr>\n",
       "  </thead>\n",
       "  <tbody>\n",
       "    <tr>\n",
       "      <th>0</th>\n",
       "      <td>bin_s</td>\n",
       "      <td>MI</td>\n",
       "      <td>LR_L1</td>\n",
       "      <td>6390</td>\n",
       "      <td>0.696629</td>\n",
       "      <td>0.696302</td>\n",
       "      <td>0.695905</td>\n",
       "      <td>0.696015</td>\n",
       "      <td>0.758342</td>\n",
       "      <td>amilcar22</td>\n",
       "      <td>519</td>\n",
       "      <td>2023-10-30 13:55:15.342461</td>\n",
       "      <td>modelo_6390_bin_s_MI_LR_L1.pkl</td>\n",
       "      <td>{'selector__k': 1000, 'clasifier__solver': 'sa...</td>\n",
       "      <td>X_test:(89, 18875)</td>\n",
       "      <td>['ENSG00000002933.9', 'ENSG00000003402.21', 'E...</td>\n",
       "    </tr>\n",
       "    <tr>\n",
       "      <th>0</th>\n",
       "      <td>bin_s</td>\n",
       "      <td>MI</td>\n",
       "      <td>LR_EN</td>\n",
       "      <td>6390</td>\n",
       "      <td>0.696629</td>\n",
       "      <td>0.698400</td>\n",
       "      <td>0.694388</td>\n",
       "      <td>0.694158</td>\n",
       "      <td>0.779070</td>\n",
       "      <td>amilcar22</td>\n",
       "      <td>285</td>\n",
       "      <td>2023-10-30 13:46:29.448181</td>\n",
       "      <td>modelo_6390_bin_s_MI_LR_EN.pkl</td>\n",
       "      <td>{'selector__k': 500, 'clasifier__solver': 'sag...</td>\n",
       "      <td>X_test:(89, 18875)</td>\n",
       "      <td>['ENSG00000003402.21', 'ENSG00000004864.14', '...</td>\n",
       "    </tr>\n",
       "    <tr>\n",
       "      <th>0</th>\n",
       "      <td>bin_s</td>\n",
       "      <td>ANOVA</td>\n",
       "      <td>SVM</td>\n",
       "      <td>6390</td>\n",
       "      <td>0.674157</td>\n",
       "      <td>0.680214</td>\n",
       "      <td>0.670374</td>\n",
       "      <td>0.668124</td>\n",
       "      <td>0.721183</td>\n",
       "      <td>amilcar22</td>\n",
       "      <td>2</td>\n",
       "      <td>2023-10-30 13:41:37.385929</td>\n",
       "      <td>modelo_6390_bin_s_ANOVA_SVM.pkl</td>\n",
       "      <td>{'selector__k': 250, 'clasifier__kernel': 'rbf...</td>\n",
       "      <td>X_test:(89, 18875)</td>\n",
       "      <td>['ENSG00000000938.13', 'ENSG00000000971.17', '...</td>\n",
       "    </tr>\n",
       "  </tbody>\n",
       "</table>\n",
       "</div>"
      ],
      "text/plain": [
       "    tipo select clasific  semilla  accuracy  precision    recall  f1_score  \\\n",
       "0  bin_s     MI    LR_L1     6390  0.696629   0.696302  0.695905  0.696015   \n",
       "0  bin_s     MI    LR_EN     6390  0.696629   0.698400  0.694388  0.694158   \n",
       "0  bin_s  ANOVA      SVM     6390  0.674157   0.680214  0.670374  0.668124   \n",
       "\n",
       "    roc_auc   hostname  total_time_sec                    datetime  \\\n",
       "0  0.758342  amilcar22             519  2023-10-30 13:55:15.342461   \n",
       "0  0.779070  amilcar22             285  2023-10-30 13:46:29.448181   \n",
       "0  0.721183  amilcar22               2  2023-10-30 13:41:37.385929   \n",
       "\n",
       "                    fichero_modelo  \\\n",
       "0   modelo_6390_bin_s_MI_LR_L1.pkl   \n",
       "0   modelo_6390_bin_s_MI_LR_EN.pkl   \n",
       "0  modelo_6390_bin_s_ANOVA_SVM.pkl   \n",
       "\n",
       "                                              params               shape  \\\n",
       "0  {'selector__k': 1000, 'clasifier__solver': 'sa...  X_test:(89, 18875)   \n",
       "0  {'selector__k': 500, 'clasifier__solver': 'sag...  X_test:(89, 18875)   \n",
       "0  {'selector__k': 250, 'clasifier__kernel': 'rbf...  X_test:(89, 18875)   \n",
       "\n",
       "                                            features  \n",
       "0  ['ENSG00000002933.9', 'ENSG00000003402.21', 'E...  \n",
       "0  ['ENSG00000003402.21', 'ENSG00000004864.14', '...  \n",
       "0  ['ENSG00000000938.13', 'ENSG00000000971.17', '...  "
      ]
     },
     "metadata": {},
     "output_type": "display_data"
    }
   ],
   "source": [
    "if M_TIPO.startswith(\"bin\"):\n",
    "    myfunc.save_metricas_to_csv(random_search, X_test, y_test, M_TIPO, M_SELECT, M_CLASIF, total_time, SEMILLA, myfunc.MET_DIR, M_FICHERO, fichero_modelo)\n",
    "else:\n",
    "    myfunc.save_metricas_multi_to_csv(random_search, X_test, y_test, M_TIPO, M_SELECT, M_CLASIF, total_time, SEMILLA, myfunc.MET_DIR, M_FICHERO, fichero_modelo)\n",
    "\n",
    "df1=myfunc.read_metricas_to_df(myfunc.MET_DIR,M_FICHERO)\n",
    "\n",
    "display(df1.sort_values(\"datetime\", ascending=False)[:3])\n"
   ]
  },
  {
   "cell_type": "markdown",
   "id": "f0d177f0",
   "metadata": {
    "papermill": {
     "duration": 0.004113,
     "end_time": "2023-10-30T12:55:15.373904",
     "exception": false,
     "start_time": "2023-10-30T12:55:15.369791",
     "status": "completed"
    },
    "tags": []
   },
   "source": [
    "#### Guardar resultados"
   ]
  },
  {
   "cell_type": "code",
   "execution_count": 13,
   "id": "bd94d2b7",
   "metadata": {
    "execution": {
     "iopub.execute_input": "2023-10-30T12:55:15.382715Z",
     "iopub.status.busy": "2023-10-30T12:55:15.382530Z",
     "iopub.status.idle": "2023-10-30T12:55:15.391210Z",
     "shell.execute_reply": "2023-10-30T12:55:15.390749Z"
    },
    "papermill": {
     "duration": 0.014368,
     "end_time": "2023-10-30T12:55:15.392329",
     "exception": false,
     "start_time": "2023-10-30T12:55:15.377961",
     "status": "completed"
    },
    "tags": []
   },
   "outputs": [
    {
     "name": "stdout",
     "output_type": "stream",
     "text": [
      "20231030T135515 : amilcar22 : INFO : Inicio guardar resultados\n",
      "20231030T135515 : amilcar22 : INFO : Inicio guardar fichero ../tfm_git/ejecuciones/metricas/resultados_6390_bin_s-MI-LR_L1.csv\n"
     ]
    },
    {
     "name": "stdout",
     "output_type": "stream",
     "text": [
      "20231030T135515 : amilcar22 : INFO : Fin guardar fichero ../tfm_git/ejecuciones/metricas/resultados_6390_bin_s-MI-LR_L1.csv\n",
      "20231030T135515 : amilcar22 : INFO : Fin guardar resultados\n"
     ]
    }
   ],
   "source": [
    "fichero_resultados=R_FICHERO+\"_\"+M_TIPO+\"-\"+M_SELECT+\"-\"+M_CLASIF+\".csv\"\n",
    "myfunc.save_resultados_to_csv(M_TIPO, M_SELECT, M_CLASIF,  random_search, myfunc.MET_DIR, fichero_resultados)\n"
   ]
  }
 ],
 "metadata": {
  "kernelspec": {
   "display_name": "Python 3 (ipykernel)",
   "language": "python",
   "name": "python3"
  },
  "language_info": {
   "codemirror_mode": {
    "name": "ipython",
    "version": 3
   },
   "file_extension": ".py",
   "mimetype": "text/x-python",
   "name": "python",
   "nbconvert_exporter": "python",
   "pygments_lexer": "ipython3",
   "version": "3.10.12"
  },
  "papermill": {
   "default_parameters": {},
   "duration": 524.38426,
   "end_time": "2023-10-30T12:55:18.014485",
   "environment_variables": {},
   "exception": null,
   "input_path": "03_entrenamiento.ipynb",
   "output_path": "ejecuciones/training/03_entrenamiento.20231030T134633.param_0000_6390_bin_s_MI_LR_L1.output.ipynb",
   "parameters": {
    "MAX_ITERS": 500,
    "M_CLASIF": "LR_L1",
    "M_FICHERO": "metricas_6390",
    "M_SELECT": "MI",
    "M_TIPO": "bin_s",
    "PRE_DATA_FILE": "rows_transpose_norm_by_gene_id_with_target_num_",
    "P_FICHERO": "param_0000_6390_bin_s_MI_LR_L1.yaml",
    "R_FICHERO": "resultados_6390",
    "SCORING": "roc_auc_ovr",
    "SEMILLA": 6390,
    "eval_clasifier": "LogisticRegressionCV(random_state=SEMILLA)",
    "eval_selector": "SelectKBest(score_func=mutual_info_classif_state)",
    "param_distributions": {
     "clasifier__max_iter": [
      10000
     ],
     "clasifier__penalty": [
      "l1"
     ],
     "clasifier__solver": [
      "saga"
     ],
     "selector__k": [
      1000
     ]
    }
   },
   "start_time": "2023-10-30T12:46:33.630225",
   "version": "2.4.0"
  }
 },
 "nbformat": 4,
 "nbformat_minor": 5
}