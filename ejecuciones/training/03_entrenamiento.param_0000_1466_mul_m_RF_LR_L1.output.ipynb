{
 "cells": [
  {
   "cell_type": "markdown",
   "id": "437db9e0",
   "metadata": {
    "papermill": {
     "duration": 0.003154,
     "end_time": "2023-10-30T01:55:14.842340",
     "exception": false,
     "start_time": "2023-10-30T01:55:14.839186",
     "status": "completed"
    },
    "tags": []
   },
   "source": [
    "##### Inicio"
   ]
  },
  {
   "cell_type": "markdown",
   "id": "318e5a8b",
   "metadata": {
    "papermill": {
     "duration": 0.002326,
     "end_time": "2023-10-30T01:55:14.847269",
     "exception": false,
     "start_time": "2023-10-30T01:55:14.844943",
     "status": "completed"
    },
    "tags": []
   },
   "source": [
    "#### Carga de datos"
   ]
  },
  {
   "cell_type": "code",
   "execution_count": 1,
   "id": "ea97bab0",
   "metadata": {
    "execution": {
     "iopub.execute_input": "2023-10-30T01:55:14.853116Z",
     "iopub.status.busy": "2023-10-30T01:55:14.852898Z",
     "iopub.status.idle": "2023-10-30T01:55:15.718558Z",
     "shell.execute_reply": "2023-10-30T01:55:15.717915Z"
    },
    "papermill": {
     "duration": 0.87032,
     "end_time": "2023-10-30T01:55:15.719984",
     "exception": false,
     "start_time": "2023-10-30T01:55:14.849664",
     "status": "completed"
    },
    "tags": []
   },
   "outputs": [
    {
     "name": "stdout",
     "output_type": "stream",
     "text": [
      "CPU_COUNT: 8; NODE: amilcar22; sys.version: 3.10.12 (main, Jul  5 2023, 19:22:19) [GCC 11.2.0]\n",
      "LOKY_MAX_CPU_COUNT: 6\n",
      "OMP_NUM_THREADS: 2\n"
     ]
    }
   ],
   "source": [
    "import os\n",
    "import numpy as np\n",
    "import pandas as pd\n",
    "import datetime\n",
    "import sklearn\n",
    "import logging\n",
    "import warnings\n",
    "\n",
    "from sklearn.pipeline import Pipeline\n",
    "from sklearn.model_selection import RandomizedSearchCV, KFold, cross_val_score, train_test_split\n",
    "from sklearn.metrics import accuracy_score, confusion_matrix, classification_report, roc_auc_score\n",
    "\n",
    "#  cargar algoritmos para aprendizaje supervisado\n",
    "from sklearn.feature_selection import SelectKBest, f_classif, SelectFromModel, mutual_info_classif\n",
    "from sklearn.svm import SVC\n",
    "from sklearn.ensemble import RandomForestClassifier\n",
    "from sklearn.linear_model import LogisticRegression,LogisticRegressionCV\n",
    "\n",
    "# importar fichero con utilidades propias\n",
    "from commons import myfunctions as myfunc\n"
   ]
  },
  {
   "cell_type": "markdown",
   "id": "a19239fa",
   "metadata": {
    "papermill": {
     "duration": 0.002693,
     "end_time": "2023-10-30T01:55:15.725838",
     "exception": false,
     "start_time": "2023-10-30T01:55:15.723145",
     "status": "completed"
    },
    "tags": []
   },
   "source": [
    "#### Parámetros a utilizar en el entrenamiento.\n",
    "\n",
    "Se indican los 3 algoritmos de *selección de características* (eval_selector_xxx) y los 3 algoritmos para la _clasificación_ (eval_clasifier_xxx)\n",
    "\n",
    "En *param_distributions* se indicar los parámetros que utilizan los algoritmos en la función RandomSearchCV.\n",
    "\n",
    "Esta celda tiene la etiqueta **parameters** que servirá para poder lanzar los entrenamientos con la utilidad **papermill** pasándole un fichero con los parámetros. Los nuevos parámetros se situarán tras esta celda para tener prevalencia."
   ]
  },
  {
   "cell_type": "code",
   "execution_count": 2,
   "id": "d3658778",
   "metadata": {
    "execution": {
     "iopub.execute_input": "2023-10-30T01:55:15.732007Z",
     "iopub.status.busy": "2023-10-30T01:55:15.731713Z",
     "iopub.status.idle": "2023-10-30T01:55:15.738635Z",
     "shell.execute_reply": "2023-10-30T01:55:15.738215Z"
    },
    "papermill": {
     "duration": 0.011315,
     "end_time": "2023-10-30T01:55:15.739816",
     "exception": false,
     "start_time": "2023-10-30T01:55:15.728501",
     "status": "completed"
    },
    "tags": [
     "parameters"
    ]
   },
   "outputs": [
    {
     "name": "stdout",
     "output_type": "stream",
     "text": [
      "20231030T025515 : amilcar22 : INFO : Utilizando parámetros de mul_m\n"
     ]
    }
   ],
   "source": [
    "#  Parametros para el entrenamiento\n",
    "\n",
    "SEMILLA=        42\n",
    "M_TIPO=         \"mul_m\"\n",
    "M_SELECT=       \"MI\"\n",
    "M_CLASIF=       \"SVM\"\n",
    "R_FICHERO=      \"resultados\"\n",
    "M_FICHERO=      \"metricas\"\n",
    "PRE_DATA_FILE=  \"rows_transpose_norm_by_gene_id_with_target_num_\"\n",
    "SCORING=        \"roc_auc_ovr\" \n",
    "MAX_ITERS=      100\n",
    "\n",
    "def mutual_info_classif_state(X, y):\n",
    "    return mutual_info_classif(X, y, random_state=SEMILLA)\n",
    "\n",
    "eval_selector_mi = \"SelectKBest(score_func=mutual_info_classif_state)\"\n",
    "eval_selector_rf=  \"SelectFromModel(estimator=RandomForestClassifier(random_state=SEMILLA), threshold=-np.inf)\"\n",
    "eval_selector_anova=  \"SelectKBest(score_func=f_classif)\"\n",
    "\n",
    "eval_clasifier_svm= \"SVC(probability=True, random_state=SEMILLA)\"\n",
    "eval_clasifier_rf= \"RandomForestClassifier(random_state=SEMILLA)\"\n",
    "eval_clasifier_lr= \"LogisticRegressionCV(random_state=SEMILLA)\"\n",
    "\n",
    "if M_TIPO.startswith(\"bin_m\"):\n",
    "    myfunc.verbose(f\"Utilizando parámetros de {M_TIPO}\")\n",
    "    eval_selector = eval_selector_mi\n",
    "    eval_clasifier = eval_clasifier_svm\n",
    "\n",
    "    SEMILLA = 6578\n",
    "    M_SELECT = \"MI\"\n",
    "    M_CLASIF = \"SVM\"\n",
    "    param_distributions = {'selector__k': [1000], \n",
    "         'clasifier__kernel': ['rbf'], 'clasifier__gamma': [0.01], 'clasifier__C': [100]}\n",
    "elif M_TIPO.startswith(\"bin_s\"):\n",
    "    myfunc.verbose(f\"Utilizando parámetros de {M_TIPO}\")\n",
    "    eval_selector = eval_selector_rf\n",
    "    eval_clasifier = eval_clasifier_lr\n",
    "\n",
    "    SEMILLA = 6191\n",
    "    M_SELECT = \"RF\"\n",
    "    M_CLASIF = \"LR_L2\"\n",
    "    param_distributions = {'selector__max_features': [1000], 'selector__estimator__n_estimators': [200], \n",
    "        'clasifier__solver': ['lbfgs'], 'clasifier__penalty': ['l2'], 'clasifier__max_iter': [10000]}\n",
    "\n",
    "elif M_TIPO.startswith(\"mul_m\"):\n",
    "    myfunc.verbose(f\"Utilizando parámetros de {M_TIPO}\")\n",
    " \n",
    "    eval_selector = eval_selector_rf\n",
    "    eval_clasifier = eval_clasifier_lr\n",
    "\n",
    "    SEMILLA = 6191\n",
    "    M_SELECT = \"RF\"\n",
    "    M_CLASIF = \"LR_L2\"\n",
    "    param_distributions = {'selector__max_features': [1000], 'selector__estimator__n_estimators': [400], \n",
    "        'clasifier__solver': ['lbfgs'], 'clasifier__penalty': ['l2'], 'clasifier__max_iter': [10000]}\n",
    "\n",
    "else:\n",
    "    # M_TIPO.startswith(\"mul_s\"):\n",
    "    myfunc.verbose(f\"Utilizando parámetros de {M_TIPO}\")\n",
    "    eval_selector = eval_selector_anova\n",
    "    eval_clasifier = eval_clasifier_lr\n",
    "\n",
    "    SEMILLA = 1860\n",
    "    M_SELECT = \"ANOVA\"\n",
    "    M_CLASIF = \"LR_L2\"\n",
    "    param_distributions = {'selector__k': [1000], \n",
    "        'clasifier__solver': ['saga'], 'clasifier__penalty': ['l2'], 'clasifier__max_iter': [10000]}\n",
    "\n"
   ]
  },
  {
   "cell_type": "code",
   "execution_count": 3,
   "id": "d35f20d0",
   "metadata": {
    "execution": {
     "iopub.execute_input": "2023-10-30T01:55:15.746212Z",
     "iopub.status.busy": "2023-10-30T01:55:15.746026Z",
     "iopub.status.idle": "2023-10-30T01:55:15.749670Z",
     "shell.execute_reply": "2023-10-30T01:55:15.749230Z"
    },
    "papermill": {
     "duration": 0.008066,
     "end_time": "2023-10-30T01:55:15.750834",
     "exception": false,
     "start_time": "2023-10-30T01:55:15.742768",
     "status": "completed"
    },
    "tags": [
     "injected-parameters"
    ]
   },
   "outputs": [],
   "source": [
    "# Parameters\n",
    "M_TIPO = \"mul_m\"\n",
    "M_SELECT = \"RF\"\n",
    "M_CLASIF = \"LR_L1\"\n",
    "P_FICHERO = \"param_0000_1466_mul_m_RF_LR_L1.yaml\"\n",
    "R_FICHERO = \"resultados_1466\"\n",
    "M_FICHERO = \"metricas_1466\"\n",
    "PRE_DATA_FILE = \"rows_transpose_norm_by_gene_id_with_target_num_\"\n",
    "SCORING = \"roc_auc_ovr\"\n",
    "SEMILLA = 1466\n",
    "MAX_ITERS = 500\n",
    "eval_selector = \"SelectFromModel(estimator=RandomForestClassifier(random_state=SEMILLA), threshold=-np.inf)\"\n",
    "eval_clasifier = \"LogisticRegressionCV(random_state=SEMILLA)\"\n",
    "param_distributions = {\n",
    "    \"selector__max_features\": [1000],\n",
    "    \"selector__estimator__n_estimators\": [400],\n",
    "    \"clasifier__solver\": [\"saga\"],\n",
    "    \"clasifier__penalty\": [\"l1\"],\n",
    "    \"clasifier__max_iter\": [10000],\n",
    "}\n"
   ]
  },
  {
   "cell_type": "code",
   "execution_count": 4,
   "id": "e2fa46f4",
   "metadata": {
    "execution": {
     "iopub.execute_input": "2023-10-30T01:55:15.756989Z",
     "iopub.status.busy": "2023-10-30T01:55:15.756828Z",
     "iopub.status.idle": "2023-10-30T01:55:15.759668Z",
     "shell.execute_reply": "2023-10-30T01:55:15.759205Z"
    },
    "papermill": {
     "duration": 0.007296,
     "end_time": "2023-10-30T01:55:15.760872",
     "exception": false,
     "start_time": "2023-10-30T01:55:15.753576",
     "status": "completed"
    },
    "tags": []
   },
   "outputs": [],
   "source": [
    "DATA_FILE = PRE_DATA_FILE + M_TIPO\n",
    "\n",
    "# si viene \"None\" en el parámetro max_depth, se le quitan las comillas para que no sea entendido por el algoritmo como un texto\n",
    "if \"clasifier__max_depth\" in param_distributions:\n",
    "    param_distributions['clasifier__max_depth'] = [None if x == 'None' else x for x in param_distributions['clasifier__max_depth']]"
   ]
  },
  {
   "cell_type": "markdown",
   "id": "4a7a9933",
   "metadata": {
    "papermill": {
     "duration": 0.002574,
     "end_time": "2023-10-30T01:55:15.766188",
     "exception": false,
     "start_time": "2023-10-30T01:55:15.763614",
     "status": "completed"
    },
    "tags": []
   },
   "source": [
    "Asignar los algoritmos que se utilizarán en la función RandomSearchCV"
   ]
  },
  {
   "cell_type": "code",
   "execution_count": 5,
   "id": "045651ab",
   "metadata": {
    "execution": {
     "iopub.execute_input": "2023-10-30T01:55:15.771995Z",
     "iopub.status.busy": "2023-10-30T01:55:15.771836Z",
     "iopub.status.idle": "2023-10-30T01:55:15.774551Z",
     "shell.execute_reply": "2023-10-30T01:55:15.774083Z"
    },
    "papermill": {
     "duration": 0.006969,
     "end_time": "2023-10-30T01:55:15.775756",
     "exception": false,
     "start_time": "2023-10-30T01:55:15.768787",
     "status": "completed"
    },
    "tags": []
   },
   "outputs": [],
   "source": [
    "algor_selector=eval(eval_selector)\n",
    "algor_clasifier=eval(eval_clasifier)"
   ]
  },
  {
   "cell_type": "markdown",
   "id": "c38da3ba",
   "metadata": {
    "papermill": {
     "duration": 0.002671,
     "end_time": "2023-10-30T01:55:15.781223",
     "exception": false,
     "start_time": "2023-10-30T01:55:15.778552",
     "status": "completed"
    },
    "tags": []
   },
   "source": [
    "#### Comprobar el entorno y leer fichero de muestras"
   ]
  },
  {
   "cell_type": "code",
   "execution_count": 6,
   "id": "9c7230da",
   "metadata": {
    "execution": {
     "iopub.execute_input": "2023-10-30T01:55:15.787044Z",
     "iopub.status.busy": "2023-10-30T01:55:15.786892Z",
     "iopub.status.idle": "2023-10-30T01:55:15.940531Z",
     "shell.execute_reply": "2023-10-30T01:55:15.940015Z"
    },
    "papermill": {
     "duration": 0.158143,
     "end_time": "2023-10-30T01:55:15.941903",
     "exception": false,
     "start_time": "2023-10-30T01:55:15.783760",
     "status": "completed"
    },
    "tags": []
   },
   "outputs": [
    {
     "name": "stdout",
     "output_type": "stream",
     "text": [
      "20231030T025515 : amilcar22 : INFO : Encontrada carpeta DATA_DIR=../tfm_git/datos\n",
      "20231030T025515 : amilcar22 : INFO : Encontrada carpeta CFDNA_DIR=../tfm_git/datos/cfDNA_5hmC\n",
      "20231030T025515 : amilcar22 : INFO : Encontrada carpeta GENCODE_DIR=../tfm_git/datos/gencode\n",
      "20231030T025515 : amilcar22 : INFO : Encontrada carpeta H5_DIR=../tfm_git/datos/h5\n",
      "20231030T025515 : amilcar22 : INFO : Encontrada carpeta LOG_DIR=../tfm_git/datos/logs\n",
      "20231030T025515 : amilcar22 : INFO : Encontrada carpeta CSV_DIR=../tfm_git/datos/csv\n",
      "20231030T025515 : amilcar22 : INFO : Encontrada carpeta MODEL_DIR=../tfm_git/ejecuciones/modelos\n",
      "20231030T025515 : amilcar22 : INFO : Encontrada carpeta EXEC_DIR=../tfm_git/ejecuciones\n",
      "20231030T025515 : amilcar22 : INFO : Encontrada carpeta MET_DIR=../tfm_git/ejecuciones/metricas\n",
      "20231030T025515 : amilcar22 : INFO : Inicio leer fichero h5 ../tfm_git/datos/h5/rows_transpose_norm_by_gene_id_with_target_num_mul_m.h5\n",
      "20231030T025515 : amilcar22 : INFO : Leyendo clave /df\n",
      "20231030T025515 : amilcar22 : INFO : Tamaño (434, 18876)\n",
      "20231030T025515 : amilcar22 : INFO : Fin leer fichero h5 ../tfm_git/datos/h5/rows_transpose_norm_by_gene_id_with_target_num_mul_m.h5\n"
     ]
    },
    {
     "data": {
      "text/plain": [
       "target\n",
       "0    62\n",
       "1    62\n",
       "2    62\n",
       "3    62\n",
       "4    62\n",
       "5    62\n",
       "6    62\n",
       "dtype: int64"
      ]
     },
     "metadata": {},
     "output_type": "display_data"
    },
    {
     "name": "stdout",
     "output_type": "stream",
     "text": [
      "Shape df: (434, 18876)\n",
      "Shape X_train: (347, 18875)\n",
      "Shape X_test: (87, 18875)\n"
     ]
    }
   ],
   "source": [
    "start_time = datetime.datetime.now()\n",
    "\n",
    "myfunc.reset_vars()\n",
    "\n",
    "myfunc.NOTEBK_FILENAME = myfunc.get_nb_name()\n",
    "\n",
    "myfunc.check_enviroment(myfunc.DATA_DIR, myfunc.CFDNA_DIR, myfunc.GENCODE_DIR, myfunc.H5_DIR, myfunc.LOG_DIR, myfunc.CSV_DIR, myfunc.MODEL_DIR, myfunc.EXEC_DIR, myfunc.MET_DIR)\n",
    "\n",
    "# Leer fichero con las muestras\n",
    "df_t = myfunc.read_h5_to_df(DATA_FILE, myfunc.H5_DIR)\n",
    "display(df_t.groupby(\"target\").size())\n",
    "print(\"Shape df:\",df_t.shape)\n",
    "\n",
    "# Separar caracteristicas/genes de las etiquetas/tipos de cáncer\n",
    "X = df_t.iloc[:, :-1]  # Todas las columnas excepto la última\n",
    "y = df_t.iloc[:, -1]  # La última columna contiene los identificadores de los tipos de cáncer\n",
    "\n",
    "#  Crear el conjunto de datos de entrenamiento y de pruebas, y se fija la semilla para siempre coger el mismo juego de muestras\n",
    "X_train, X_test, y_train, y_test = train_test_split(X, y, test_size=0.2, shuffle=True, random_state=42)\n",
    "print(\"Shape X_train:\",X_train.shape)\n",
    "print(\"Shape X_test:\",X_test.shape)\n"
   ]
  },
  {
   "cell_type": "markdown",
   "id": "71ec2505",
   "metadata": {
    "papermill": {
     "duration": 0.002758,
     "end_time": "2023-10-30T01:55:15.948060",
     "exception": false,
     "start_time": "2023-10-30T01:55:15.945302",
     "status": "completed"
    },
    "tags": []
   },
   "source": [
    "#### Selección de características y clasificación."
   ]
  },
  {
   "cell_type": "code",
   "execution_count": 7,
   "id": "53550a81",
   "metadata": {
    "execution": {
     "iopub.execute_input": "2023-10-30T01:55:15.954494Z",
     "iopub.status.busy": "2023-10-30T01:55:15.954298Z",
     "iopub.status.idle": "2023-10-30T02:30:47.427486Z",
     "shell.execute_reply": "2023-10-30T02:30:47.426800Z"
    },
    "papermill": {
     "duration": 2131.480347,
     "end_time": "2023-10-30T02:30:47.431214",
     "exception": false,
     "start_time": "2023-10-30T01:55:15.950867",
     "status": "completed"
    },
    "tags": []
   },
   "outputs": [
    {
     "name": "stdout",
     "output_type": "stream",
     "text": [
      "20231030T025515 : amilcar22 : INFO : Iniciando entrenamiento\n",
      "num_iter: 1 , max_iter: 1\n",
      "Fitting 5 folds for each of 1 candidates, totalling 5 fits\n"
     ]
    },
    {
     "name": "stdout",
     "output_type": "stream",
     "text": [
      "[CV 4/5] END clasifier__max_iter=10000, clasifier__penalty=l1, clasifier__solver=saga, selector__estimator__n_estimators=400, selector__max_features=1000;, score=0.899 total time=12.7min\n"
     ]
    },
    {
     "name": "stdout",
     "output_type": "stream",
     "text": [
      "[CV 5/5] END clasifier__max_iter=10000, clasifier__penalty=l1, clasifier__solver=saga, selector__estimator__n_estimators=400, selector__max_features=1000;, score=0.853 total time=12.7min\n"
     ]
    },
    {
     "name": "stdout",
     "output_type": "stream",
     "text": [
      "[CV 3/5] END clasifier__max_iter=10000, clasifier__penalty=l1, clasifier__solver=saga, selector__estimator__n_estimators=400, selector__max_features=1000;, score=0.826 total time=12.7min\n"
     ]
    },
    {
     "name": "stdout",
     "output_type": "stream",
     "text": [
      "[CV 1/5] END clasifier__max_iter=10000, clasifier__penalty=l1, clasifier__solver=saga, selector__estimator__n_estimators=400, selector__max_features=1000;, score=0.874 total time=16.9min\n"
     ]
    },
    {
     "name": "stdout",
     "output_type": "stream",
     "text": [
      "[CV 2/5] END clasifier__max_iter=10000, clasifier__penalty=l1, clasifier__solver=saga, selector__estimator__n_estimators=400, selector__max_features=1000;, score=0.881 total time=17.7min\n"
     ]
    },
    {
     "name": "stdout",
     "output_type": "stream",
     "text": [
      "Mejores Hiperparámetros: {'selector__max_features': 1000, 'selector__estimator__n_estimators': 400, 'clasifier__solver': 'saga', 'clasifier__penalty': 'l1', 'clasifier__max_iter': 10000}\n",
      "Mejor Puntuación: 0.8666\n",
      "20231030T033047 : amilcar22 : INFO : Fin entrenamiento\n"
     ]
    }
   ],
   "source": [
    "myfunc.verbose(\"Iniciando entrenamiento\")\n",
    "\n",
    "kf = KFold(n_splits=5, shuffle=True, random_state=SEMILLA)\n",
    "\n",
    "# Crear el pipeline para el flujo de tareas\n",
    "tasks_pipeline = Pipeline([\n",
    "    ('selector', algor_selector),\n",
    "    ('clasifier', algor_clasifier)\n",
    "])\n",
    "\n",
    "# MAX_ITERS puede limitar el número de iteraciones si son excesivas para las combinaciones de parámetros buscando un óptimo local, \n",
    "# sino funcionaría como GridSearchCV al revisar todas las cominaciones de los parámetros\n",
    "num_iteraciones = 1\n",
    "num_iteraciones = num_iteraciones * np.prod([len(elemento1) for _, elemento1 in param_distributions.items()])\n",
    "max_iteraciones = num_iteraciones if num_iteraciones <= MAX_ITERS else MAX_ITERS\n",
    "print(\"num_iter:\",num_iteraciones,\", max_iter:\",max_iteraciones)\n",
    "\n",
    "random_search = RandomizedSearchCV(\n",
    "    tasks_pipeline, \n",
    "    param_distributions, \n",
    "    n_iter=max_iteraciones,\n",
    "    scoring=SCORING,\n",
    "    cv=kf,\n",
    "    verbose=3, \n",
    "    random_state=SEMILLA, \n",
    "    n_jobs=-1\n",
    "    )\n",
    "\n",
    "# Entrenar el modelo\n",
    "random_search.fit(X_train, y_train)\n",
    "\n",
    "# Ver los mejores hiperparámetros encontrados\n",
    "print(f'Mejores Hiperparámetros: {random_search.best_params_}')\n",
    "print(f'Mejor Puntuación: {random_search.best_score_:.4f}')\n",
    "\n",
    "# Nos quedamos con el mejor modelo para ver las métricas\n",
    "mejor_modelo = random_search.best_estimator_\n",
    "\n",
    "myfunc.verbose(\"Fin entrenamiento\")"
   ]
  },
  {
   "cell_type": "markdown",
   "id": "b21abfdf",
   "metadata": {
    "papermill": {
     "duration": 0.003055,
     "end_time": "2023-10-30T02:30:47.437473",
     "exception": false,
     "start_time": "2023-10-30T02:30:47.434418",
     "status": "completed"
    },
    "tags": []
   },
   "source": [
    "#### Guardar modelo"
   ]
  },
  {
   "cell_type": "code",
   "execution_count": 8,
   "id": "20c1787a",
   "metadata": {
    "execution": {
     "iopub.execute_input": "2023-10-30T02:30:47.444705Z",
     "iopub.status.busy": "2023-10-30T02:30:47.444459Z",
     "iopub.status.idle": "2023-10-30T02:30:47.583506Z",
     "shell.execute_reply": "2023-10-30T02:30:47.582993Z"
    },
    "papermill": {
     "duration": 0.144224,
     "end_time": "2023-10-30T02:30:47.584771",
     "exception": false,
     "start_time": "2023-10-30T02:30:47.440547",
     "status": "completed"
    },
    "tags": []
   },
   "outputs": [
    {
     "name": "stdout",
     "output_type": "stream",
     "text": [
      "20231030T033047 : amilcar22 : INFO : Inicio guardar fichero ../tfm_git/ejecuciones/modelos/modelo_1466_mul_m_RF_LR_L1.pkl\n",
      "20231030T033047 : amilcar22 : INFO : Fin guardar fichero ../tfm_git/ejecuciones/modelos/modelo_1466_mul_m_RF_LR_L1.pkl\n"
     ]
    }
   ],
   "source": [
    "fichero_modelo = str.replace(\"modelo_\"+str(SEMILLA).zfill(4)+\"_\"+M_TIPO+\"_\"+M_SELECT+\"_\"+M_CLASIF+\".pkl\", \" \", \"_\")\n",
    "\n",
    "myfunc.save_modelo(mejor_modelo, myfunc.MODEL_DIR, fichero_modelo)"
   ]
  },
  {
   "cell_type": "markdown",
   "id": "823ecf04",
   "metadata": {
    "papermill": {
     "duration": 0.003239,
     "end_time": "2023-10-30T02:30:47.591577",
     "exception": false,
     "start_time": "2023-10-30T02:30:47.588338",
     "status": "completed"
    },
    "tags": []
   },
   "source": [
    "#### Ver resultados del las iteraciones hechas por RandomSearchCV"
   ]
  },
  {
   "cell_type": "code",
   "execution_count": 9,
   "id": "8422f7aa",
   "metadata": {
    "execution": {
     "iopub.execute_input": "2023-10-30T02:30:47.607058Z",
     "iopub.status.busy": "2023-10-30T02:30:47.606788Z",
     "iopub.status.idle": "2023-10-30T02:30:47.612411Z",
     "shell.execute_reply": "2023-10-30T02:30:47.611932Z"
    },
    "papermill": {
     "duration": 0.011312,
     "end_time": "2023-10-30T02:30:47.613533",
     "exception": false,
     "start_time": "2023-10-30T02:30:47.602221",
     "status": "completed"
    },
    "tags": []
   },
   "outputs": [
    {
     "name": "stdout",
     "output_type": "stream",
     "text": [
      "20231030T033047 : amilcar22 : INFO : Inicio ver resultados\n",
      "Mejores Hiperparámetros: {'selector__max_features': 1000, 'selector__estimator__n_estimators': 400, 'clasifier__solver': 'saga', 'clasifier__penalty': 'l1', 'clasifier__max_iter': 10000}\n",
      "Mejores puntuaciones: 0.8666 | Params: {'selector__max_features': 1000, 'selector__estimator__n_estimators': 400, 'clasifier__solver': 'saga', 'clasifier__penalty': 'l1', 'clasifier__max_iter': 10000}\n",
      "Media de las puntuaciones: 0.8666 | Params: {'selector__max_features': 1000, 'selector__estimator__n_estimators': 400, 'clasifier__solver': 'saga', 'clasifier__penalty': 'l1', 'clasifier__max_iter': 10000}\n",
      "20231030T033047 : amilcar22 : INFO : Fin resultados\n"
     ]
    }
   ],
   "source": [
    "myfunc.ver_resultados_search(random_search)"
   ]
  },
  {
   "cell_type": "markdown",
   "id": "3fd34a70",
   "metadata": {
    "papermill": {
     "duration": 0.003071,
     "end_time": "2023-10-30T02:30:47.619887",
     "exception": false,
     "start_time": "2023-10-30T02:30:47.616816",
     "status": "completed"
    },
    "tags": []
   },
   "source": [
    "#### Ver métricas del mejor modelo"
   ]
  },
  {
   "cell_type": "code",
   "execution_count": 10,
   "id": "d1fef161",
   "metadata": {
    "execution": {
     "iopub.execute_input": "2023-10-30T02:30:47.626948Z",
     "iopub.status.busy": "2023-10-30T02:30:47.626769Z",
     "iopub.status.idle": "2023-10-30T02:30:48.566061Z",
     "shell.execute_reply": "2023-10-30T02:30:48.565530Z"
    },
    "papermill": {
     "duration": 0.944308,
     "end_time": "2023-10-30T02:30:48.567370",
     "exception": false,
     "start_time": "2023-10-30T02:30:47.623062",
     "status": "completed"
    },
    "tags": []
   },
   "outputs": [
    {
     "name": "stdout",
     "output_type": "stream",
     "text": [
      "20231030T033047 : amilcar22 : INFO : Inicio ver métricas multiclase\n"
     ]
    },
    {
     "name": "stdout",
     "output_type": "stream",
     "text": [
      "              precision    recall  f1-score   support\n",
      "\n",
      "           0       0.64      0.44      0.52        16\n",
      "           1       0.77      0.67      0.71        15\n",
      "           2       0.38      0.45      0.42        11\n",
      "           3       0.25      0.80      0.38         5\n",
      "           4       0.56      0.38      0.45        13\n",
      "           5       0.78      0.78      0.78         9\n",
      "           6       0.62      0.56      0.59        18\n",
      "\n",
      "    accuracy                           0.55        87\n",
      "   macro avg       0.57      0.58      0.55        87\n",
      "weighted avg       0.61      0.55      0.56        87\n",
      "\n",
      "\n",
      "\n",
      "           Exactitud: 0.551724\n",
      "   Precisión (media): 0.571220\n",
      "      Recall (media): 0.582380\n",
      "    F1-score (media): 0.550140\n",
      "\n",
      "\n",
      "AUC para el tipo de cáncer 0-Control.... 0.7914\n",
      "AUC para el tipo de cáncer 1-Bladder.... 0.8889\n",
      "AUC para el tipo de cáncer 2-Breast..... 0.7787\n",
      "AUC para el tipo de cáncer 3-Colorectal. 0.8756\n",
      "AUC para el tipo de cáncer 4-Kidney..... 0.9023\n",
      "AUC para el tipo de cáncer 5-Lung....... 0.9900\n",
      "AUC para el tipo de cáncer 6-Prostate... 0.8043\n",
      "\n",
      "Media de AUC: 0.8616\n"
     ]
    },
    {
     "data": {
      "image/png": "[encoded data removed]",
      "text/plain": [
       "<Figure size 1000x600 with 1 Axes>"
      ]
     },
     "metadata": {},
     "output_type": "display_data"
    },
    {
     "name": "stdout",
     "output_type": "stream",
     "text": [
      "\n",
      "\n"
     ]
    },
    {
     "data": {
      "image/png": "[encoded data removed]",
      "text/plain": [
       "<Figure size 800x400 with 2 Axes>"
      ]
     },
     "metadata": {},
     "output_type": "display_data"
    },
    {
     "name": "stdout",
     "output_type": "stream",
     "text": [
      "\n",
      "\n",
      "Puntuación Jaccard para el cáncer tipo 0-Control.... 0.3500\n",
      "Puntuación Jaccard para el cáncer tipo 1-Bladder.... 0.5556\n",
      "Puntuación Jaccard para el cáncer tipo 2-Breast..... 0.2632\n",
      "Puntuación Jaccard para el cáncer tipo 3-Colorectal. 0.2353\n",
      "Puntuación Jaccard para el cáncer tipo 4-Kidney..... 0.2941\n",
      "Puntuación Jaccard para el cáncer tipo 5-Lung....... 0.6364\n",
      "Puntuación Jaccard para el cáncer tipo 6-Prostate... 0.4167\n",
      "\n",
      "Media de la puntuación de Jaccard: 0.3930\n"
     ]
    }
   ],
   "source": [
    "if M_TIPO.startswith(\"bin\"):\n",
    "    myfunc.ver_metricas(mejor_modelo, X_test, y_test)\n",
    "else:\n",
    "    myfunc.ver_metricas_multi(mejor_modelo, X_test, y_test)\n"
   ]
  },
  {
   "cell_type": "markdown",
   "id": "5306ac64",
   "metadata": {
    "papermill": {
     "duration": 0.004309,
     "end_time": "2023-10-30T02:30:48.576484",
     "exception": false,
     "start_time": "2023-10-30T02:30:48.572175",
     "status": "completed"
    },
    "tags": []
   },
   "source": [
    "#### Finalización del notebook"
   ]
  },
  {
   "cell_type": "code",
   "execution_count": 11,
   "id": "ef59b94a",
   "metadata": {
    "execution": {
     "iopub.execute_input": "2023-10-30T02:30:48.585712Z",
     "iopub.status.busy": "2023-10-30T02:30:48.585497Z",
     "iopub.status.idle": "2023-10-30T02:30:48.588996Z",
     "shell.execute_reply": "2023-10-30T02:30:48.588485Z"
    },
    "papermill": {
     "duration": 0.009404,
     "end_time": "2023-10-30T02:30:48.590066",
     "exception": false,
     "start_time": "2023-10-30T02:30:48.580662",
     "status": "completed"
    },
    "tags": []
   },
   "outputs": [
    {
     "name": "stdout",
     "output_type": "stream",
     "text": [
      "20231030T033048 : amilcar22 : INFO : Notebook ha tardado 2132 seconds\n"
     ]
    }
   ],
   "source": [
    "end_time = datetime.datetime.now()\n",
    "total_time = end_time - start_time\n",
    "myfunc.verbose(f\"Notebook ha tardado {total_time.seconds} seconds\")"
   ]
  },
  {
   "cell_type": "markdown",
   "id": "0dfdc2c0",
   "metadata": {
    "papermill": {
     "duration": 0.004268,
     "end_time": "2023-10-30T02:30:48.598862",
     "exception": false,
     "start_time": "2023-10-30T02:30:48.594594",
     "status": "completed"
    },
    "tags": []
   },
   "source": [
    "#### Guardar métricas"
   ]
  },
  {
   "cell_type": "code",
   "execution_count": 12,
   "id": "ce1a610f",
   "metadata": {
    "execution": {
     "iopub.execute_input": "2023-10-30T02:30:48.608218Z",
     "iopub.status.busy": "2023-10-30T02:30:48.608037Z",
     "iopub.status.idle": "2023-10-30T02:30:49.387897Z",
     "shell.execute_reply": "2023-10-30T02:30:49.387378Z"
    },
    "papermill": {
     "duration": 0.785867,
     "end_time": "2023-10-30T02:30:49.389048",
     "exception": false,
     "start_time": "2023-10-30T02:30:48.603181",
     "status": "completed"
    },
    "tags": []
   },
   "outputs": [
    {
     "name": "stdout",
     "output_type": "stream",
     "text": [
      "20231030T033048 : amilcar22 : INFO : Inicio guardar métricas multiclase\n",
      "20231030T033048 : amilcar22 : INFO : Inicio leer fichero ../tfm_git/ejecuciones/metricas/metricas_1466.csv\n",
      "20231030T033048 : amilcar22 : INFO : Fin leer fichero ../tfm_git/ejecuciones/metricas/metricas_1466.csv\n"
     ]
    },
    {
     "name": "stdout",
     "output_type": "stream",
     "text": [
      "20231030T033049 : amilcar22 : INFO : Inicio guardar fichero ../tfm_git/ejecuciones/metricas/metricas_1466.csv\n",
      "20231030T033049 : amilcar22 : INFO : Fichero borrado ../tfm_git/ejecuciones/metricas/metricas_1466.csv\n",
      "20231030T033049 : amilcar22 : INFO : Fin guardar fichero ../tfm_git/ejecuciones/metricas/metricas_1466.csv\n",
      "20231030T033049 : amilcar22 : INFO : Fin guardar métricas multiclase\n",
      "20231030T033049 : amilcar22 : INFO : Inicio leer fichero ../tfm_git/ejecuciones/metricas/metricas_1466.csv\n",
      "20231030T033049 : amilcar22 : INFO : Fin leer fichero ../tfm_git/ejecuciones/metricas/metricas_1466.csv\n"
     ]
    },
    {
     "data": {
      "text/html": [
       "<div>\n",
       "<style scoped>\n",
       "    .dataframe tbody tr th:only-of-type {\n",
       "        vertical-align: middle;\n",
       "    }\n",
       "\n",
       "    .dataframe tbody tr th {\n",
       "        vertical-align: top;\n",
       "    }\n",
       "\n",
       "    .dataframe thead th {\n",
       "        text-align: right;\n",
       "    }\n",
       "</style>\n",
       "<table border=\"1\" class=\"dataframe\">\n",
       "  <thead>\n",
       "    <tr style=\"text-align: right;\">\n",
       "      <th></th>\n",
       "      <th>tipo</th>\n",
       "      <th>select</th>\n",
       "      <th>clasific</th>\n",
       "      <th>semilla</th>\n",
       "      <th>accuracy</th>\n",
       "      <th>precision</th>\n",
       "      <th>recall</th>\n",
       "      <th>f1_score</th>\n",
       "      <th>roc_auc</th>\n",
       "      <th>hostname</th>\n",
       "      <th>total_time_sec</th>\n",
       "      <th>datetime</th>\n",
       "      <th>fichero_modelo</th>\n",
       "      <th>params</th>\n",
       "      <th>shape</th>\n",
       "      <th>features</th>\n",
       "      <th>roc_auc_ovr</th>\n",
       "      <th>indices_auc</th>\n",
       "      <th>indices_jaccard</th>\n",
       "    </tr>\n",
       "  </thead>\n",
       "  <tbody>\n",
       "    <tr>\n",
       "      <th>0</th>\n",
       "      <td>mul_m</td>\n",
       "      <td>RF</td>\n",
       "      <td>LR_L1</td>\n",
       "      <td>1466</td>\n",
       "      <td>0.551724</td>\n",
       "      <td>0.571220</td>\n",
       "      <td>0.582380</td>\n",
       "      <td>0.550140</td>\n",
       "      <td>NaN</td>\n",
       "      <td>amilcar22</td>\n",
       "      <td>2132</td>\n",
       "      <td>2023-10-30 03:30:49.357978</td>\n",
       "      <td>modelo_1466_mul_m_RF_LR_L1.pkl</td>\n",
       "      <td>{'selector__max_features': 1000, 'selector__es...</td>\n",
       "      <td>X_test:(87, 18875)</td>\n",
       "      <td>['ENSG00000000938.13', 'ENSG00000002933.9', 'E...</td>\n",
       "      <td>0.861606</td>\n",
       "      <td>[0.7913732394366197, 0.8888888888888888, 0.778...</td>\n",
       "      <td>[0.35, 0.5555555555555556, 0.2631578947368421,...</td>\n",
       "    </tr>\n",
       "    <tr>\n",
       "      <th>0</th>\n",
       "      <td>mul_m</td>\n",
       "      <td>RF</td>\n",
       "      <td>LR_EN</td>\n",
       "      <td>1466</td>\n",
       "      <td>0.586207</td>\n",
       "      <td>0.589589</td>\n",
       "      <td>0.616768</td>\n",
       "      <td>0.586628</td>\n",
       "      <td>NaN</td>\n",
       "      <td>amilcar22</td>\n",
       "      <td>2032</td>\n",
       "      <td>2023-10-30 02:55:09.730164</td>\n",
       "      <td>modelo_1466_mul_m_RF_LR_EN.pkl</td>\n",
       "      <td>{'selector__max_features': 1000, 'selector__es...</td>\n",
       "      <td>X_test:(87, 18875)</td>\n",
       "      <td>['ENSG00000000938.13', 'ENSG00000002933.9', 'E...</td>\n",
       "      <td>0.862610</td>\n",
       "      <td>[0.795774647887324, 0.8935185185185185, 0.7691...</td>\n",
       "      <td>[0.35, 0.5789473684210527, 0.2222222222222222,...</td>\n",
       "    </tr>\n",
       "    <tr>\n",
       "      <th>0</th>\n",
       "      <td>mul_m</td>\n",
       "      <td>MI</td>\n",
       "      <td>SVM</td>\n",
       "      <td>1466</td>\n",
       "      <td>0.494253</td>\n",
       "      <td>0.506609</td>\n",
       "      <td>0.522188</td>\n",
       "      <td>0.508114</td>\n",
       "      <td>NaN</td>\n",
       "      <td>amilcar22</td>\n",
       "      <td>203</td>\n",
       "      <td>2023-10-30 02:21:10.091056</td>\n",
       "      <td>modelo_1466_mul_m_MI_SVM.pkl</td>\n",
       "      <td>{'selector__k': 1000, 'clasifier__kernel': 'rb...</td>\n",
       "      <td>X_test:(87, 18875)</td>\n",
       "      <td>['ENSG00000001084.13', 'ENSG00000001460.18', '...</td>\n",
       "      <td>0.825072</td>\n",
       "      <td>[0.7684859154929577, 0.8101851851851851, 0.734...</td>\n",
       "      <td>[0.22727272727272727, 0.3684210526315789, 0.15...</td>\n",
       "    </tr>\n",
       "  </tbody>\n",
       "</table>\n",
       "</div>"
      ],
      "text/plain": [
       "    tipo select clasific  semilla  accuracy  precision    recall  f1_score  \\\n",
       "0  mul_m     RF    LR_L1     1466  0.551724   0.571220  0.582380  0.550140   \n",
       "0  mul_m     RF    LR_EN     1466  0.586207   0.589589  0.616768  0.586628   \n",
       "0  mul_m     MI      SVM     1466  0.494253   0.506609  0.522188  0.508114   \n",
       "\n",
       "   roc_auc   hostname  total_time_sec                    datetime  \\\n",
       "0      NaN  amilcar22            2132  2023-10-30 03:30:49.357978   \n",
       "0      NaN  amilcar22            2032  2023-10-30 02:55:09.730164   \n",
       "0      NaN  amilcar22             203  2023-10-30 02:21:10.091056   \n",
       "\n",
       "                   fichero_modelo  \\\n",
       "0  modelo_1466_mul_m_RF_LR_L1.pkl   \n",
       "0  modelo_1466_mul_m_RF_LR_EN.pkl   \n",
       "0    modelo_1466_mul_m_MI_SVM.pkl   \n",
       "\n",
       "                                              params               shape  \\\n",
       "0  {'selector__max_features': 1000, 'selector__es...  X_test:(87, 18875)   \n",
       "0  {'selector__max_features': 1000, 'selector__es...  X_test:(87, 18875)   \n",
       "0  {'selector__k': 1000, 'clasifier__kernel': 'rb...  X_test:(87, 18875)   \n",
       "\n",
       "                                            features  roc_auc_ovr  \\\n",
       "0  ['ENSG00000000938.13', 'ENSG00000002933.9', 'E...     0.861606   \n",
       "0  ['ENSG00000000938.13', 'ENSG00000002933.9', 'E...     0.862610   \n",
       "0  ['ENSG00000001084.13', 'ENSG00000001460.18', '...     0.825072   \n",
       "\n",
       "                                         indices_auc  \\\n",
       "0  [0.7913732394366197, 0.8888888888888888, 0.778...   \n",
       "0  [0.795774647887324, 0.8935185185185185, 0.7691...   \n",
       "0  [0.7684859154929577, 0.8101851851851851, 0.734...   \n",
       "\n",
       "                                     indices_jaccard  \n",
       "0  [0.35, 0.5555555555555556, 0.2631578947368421,...  \n",
       "0  [0.35, 0.5789473684210527, 0.2222222222222222,...  \n",
       "0  [0.22727272727272727, 0.3684210526315789, 0.15...  "
      ]
     },
     "metadata": {},
     "output_type": "display_data"
    }
   ],
   "source": [
    "if M_TIPO.startswith(\"bin\"):\n",
    "    myfunc.save_metricas_to_csv(random_search, X_test, y_test, M_TIPO, M_SELECT, M_CLASIF, total_time, SEMILLA, myfunc.MET_DIR, M_FICHERO, fichero_modelo)\n",
    "else:\n",
    "    myfunc.save_metricas_multi_to_csv(random_search, X_test, y_test, M_TIPO, M_SELECT, M_CLASIF, total_time, SEMILLA, myfunc.MET_DIR, M_FICHERO, fichero_modelo)\n",
    "\n",
    "df1=myfunc.read_metricas_to_df(myfunc.MET_DIR,M_FICHERO)\n",
    "\n",
    "display(df1.sort_values(\"datetime\", ascending=False)[:3])\n"
   ]
  },
  {
   "cell_type": "markdown",
   "id": "fc93fbb0",
   "metadata": {
    "papermill": {
     "duration": 0.004489,
     "end_time": "2023-10-30T02:30:49.398695",
     "exception": false,
     "start_time": "2023-10-30T02:30:49.394206",
     "status": "completed"
    },
    "tags": []
   },
   "source": [
    "#### Guardar resultados"
   ]
  },
  {
   "cell_type": "code",
   "execution_count": 13,
   "id": "217ec3c7",
   "metadata": {
    "execution": {
     "iopub.execute_input": "2023-10-30T02:30:49.408491Z",
     "iopub.status.busy": "2023-10-30T02:30:49.408297Z",
     "iopub.status.idle": "2023-10-30T02:30:49.416785Z",
     "shell.execute_reply": "2023-10-30T02:30:49.416253Z"
    },
    "papermill": {
     "duration": 0.01471,
     "end_time": "2023-10-30T02:30:49.417877",
     "exception": false,
     "start_time": "2023-10-30T02:30:49.403167",
     "status": "completed"
    },
    "tags": []
   },
   "outputs": [
    {
     "name": "stdout",
     "output_type": "stream",
     "text": [
      "20231030T033049 : amilcar22 : INFO : Inicio guardar resultados\n",
      "20231030T033049 : amilcar22 : INFO : Inicio guardar fichero ../tfm_git/ejecuciones/metricas/resultados_1466_mul_m-RF-LR_L1.csv\n",
      "20231030T033049 : amilcar22 : INFO : Fin guardar fichero ../tfm_git/ejecuciones/metricas/resultados_1466_mul_m-RF-LR_L1.csv\n",
      "20231030T033049 : amilcar22 : INFO : Fin guardar resultados\n"
     ]
    }
   ],
   "source": [
    "fichero_resultados=R_FICHERO+\"_\"+M_TIPO+\"-\"+M_SELECT+\"-\"+M_CLASIF+\".csv\"\n",
    "myfunc.save_resultados_to_csv(M_TIPO, M_SELECT, M_CLASIF,  random_search, myfunc.MET_DIR, fichero_resultados)\n"
   ]
  }
 ],
 "metadata": {
  "kernelspec": {
   "display_name": "Python 3 (ipykernel)",
   "language": "python",
   "name": "python3"
  },
  "language_info": {
   "codemirror_mode": {
    "name": "ipython",
    "version": 3
   },
   "file_extension": ".py",
   "mimetype": "text/x-python",
   "name": "python",
   "nbconvert_exporter": "python",
   "pygments_lexer": "ipython3",
   "version": "3.10.12"
  },
  "papermill": {
   "default_parameters": {},
   "duration": 2138.114693,
   "end_time": "2023-10-30T02:30:52.041662",
   "environment_variables": {},
   "exception": null,
   "input_path": "03_entrenamiento.ipynb",
   "output_path": "ejecuciones/training/03_entrenamiento.20231030T025513.param_0000_1466_mul_m_RF_LR_L1.output.ipynb",
   "parameters": {
    "MAX_ITERS": 500,
    "M_CLASIF": "LR_L1",
    "M_FICHERO": "metricas_1466",
    "M_SELECT": "RF",
    "M_TIPO": "mul_m",
    "PRE_DATA_FILE": "rows_transpose_norm_by_gene_id_with_target_num_",
    "P_FICHERO": "param_0000_1466_mul_m_RF_LR_L1.yaml",
    "R_FICHERO": "resultados_1466",
    "SCORING": "roc_auc_ovr",
    "SEMILLA": 1466,
    "eval_clasifier": "LogisticRegressionCV(random_state=SEMILLA)",
    "eval_selector": "SelectFromModel(estimator=RandomForestClassifier(random_state=SEMILLA), threshold=-np.inf)",
    "param_distributions": {
     "clasifier__max_iter": [
      10000
     ],
     "clasifier__penalty": [
      "l1"
     ],
     "clasifier__solver": [
      "saga"
     ],
     "selector__estimator__n_estimators": [
      400
     ],
     "selector__max_features": [
      1000
     ]
    }
   },
   "start_time": "2023-10-30T01:55:13.926969",
   "version": "2.4.0"
  }
 },
 "nbformat": 4,
 "nbformat_minor": 5
}