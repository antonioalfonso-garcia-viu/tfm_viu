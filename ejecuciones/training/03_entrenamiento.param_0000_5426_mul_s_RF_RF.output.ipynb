{
 "cells": [
  {
   "cell_type": "markdown",
   "id": "9ce0ee78",
   "metadata": {
    "papermill": {
     "duration": 0.0,
     "end_time": "2023-10-30T12:38:06.465621",
     "exception": false,
     "start_time": "2023-10-30T12:38:06.465621",
     "status": "completed"
    },
    "tags": []
   },
   "source": [
    "##### Inicio"
   ]
  },
  {
   "cell_type": "markdown",
   "id": "853ff8f0",
   "metadata": {
    "papermill": {
     "duration": 0.0,
     "end_time": "2023-10-30T12:38:06.481341",
     "exception": false,
     "start_time": "2023-10-30T12:38:06.481341",
     "status": "completed"
    },
    "tags": []
   },
   "source": [
    "#### Carga de datos"
   ]
  },
  {
   "cell_type": "code",
   "execution_count": 1,
   "id": "d9ddb0bc",
   "metadata": {
    "execution": {
     "iopub.execute_input": "2023-10-30T12:38:06.481341Z",
     "iopub.status.busy": "2023-10-30T12:38:06.481341Z",
     "iopub.status.idle": "2023-10-30T12:38:07.644405Z",
     "shell.execute_reply": "2023-10-30T12:38:07.644405Z"
    },
    "papermill": {
     "duration": 1.163064,
     "end_time": "2023-10-30T12:38:07.644405",
     "exception": false,
     "start_time": "2023-10-30T12:38:06.481341",
     "status": "completed"
    },
    "tags": []
   },
   "outputs": [
    {
     "name": "stdout",
     "output_type": "stream",
     "text": [
      "CPU_COUNT: 24; NODE: amilcar32; sys.version: 3.10.12 | packaged by Anaconda, Inc. | (main, Jul  5 2023, 19:09:20) [MSC v.1916 64 bit (AMD64)]\n",
      "LOKY_MAX_CPU_COUNT is not set.\n",
      "OMP_NUM_THREADS is not set.\n"
     ]
    }
   ],
   "source": [
    "import os\n",
    "import numpy as np\n",
    "import pandas as pd\n",
    "import datetime\n",
    "import sklearn\n",
    "import logging\n",
    "import warnings\n",
    "\n",
    "from sklearn.pipeline import Pipeline\n",
    "from sklearn.model_selection import RandomizedSearchCV, KFold, cross_val_score, train_test_split\n",
    "from sklearn.metrics import accuracy_score, confusion_matrix, classification_report, roc_auc_score\n",
    "\n",
    "#  cargar algoritmos para aprendizaje supervisado\n",
    "from sklearn.feature_selection import SelectKBest, f_classif, SelectFromModel, mutual_info_classif\n",
    "from sklearn.svm import SVC\n",
    "from sklearn.ensemble import RandomForestClassifier\n",
    "from sklearn.linear_model import LogisticRegression,LogisticRegressionCV\n",
    "\n",
    "# importar fichero con utilidades propias\n",
    "from commons import myfunctions as myfunc\n"
   ]
  },
  {
   "cell_type": "markdown",
   "id": "b97d57d6",
   "metadata": {
    "papermill": {
     "duration": 0.0,
     "end_time": "2023-10-30T12:38:07.644405",
     "exception": false,
     "start_time": "2023-10-30T12:38:07.644405",
     "status": "completed"
    },
    "tags": []
   },
   "source": [
    "#### Parámetros a utilizar en el entrenamiento.\n",
    "\n",
    "Se indican los 3 algoritmos de *selección de características* (eval_selector_xxx) y los 3 algoritmos para la _clasificación_ (eval_clasifier_xxx)\n",
    "\n",
    "En *param_distributions* se indicar los parámetros que utilizan los algoritmos en la función RandomSearchCV.\n",
    "\n",
    "Esta celda tiene la etiqueta **parameters** que servirá para poder lanzar los entrenamientos con la utilidad **papermill** pasándole un fichero con los parámetros. Los nuevos parámetros se situarán tras esta celda para tener prevalencia."
   ]
  },
  {
   "cell_type": "code",
   "execution_count": 2,
   "id": "1f6e158f",
   "metadata": {
    "execution": {
     "iopub.execute_input": "2023-10-30T12:38:07.644405Z",
     "iopub.status.busy": "2023-10-30T12:38:07.644405Z",
     "iopub.status.idle": "2023-10-30T12:38:07.676303Z",
     "shell.execute_reply": "2023-10-30T12:38:07.676303Z"
    },
    "papermill": {
     "duration": 0.031898,
     "end_time": "2023-10-30T12:38:07.676303",
     "exception": false,
     "start_time": "2023-10-30T12:38:07.644405",
     "status": "completed"
    },
    "tags": [
     "parameters"
    ]
   },
   "outputs": [
    {
     "name": "stdout",
     "output_type": "stream",
     "text": [
      "20231030T133807 : amilcar32 : INFO : Utilizando parámetros de mul_m\n"
     ]
    }
   ],
   "source": [
    "#  Parametros para el entrenamiento\n",
    "\n",
    "SEMILLA=        42\n",
    "M_TIPO=         \"mul_m\"\n",
    "M_SELECT=       \"MI\"\n",
    "M_CLASIF=       \"SVM\"\n",
    "R_FICHERO=      \"resultados\"\n",
    "M_FICHERO=      \"metricas\"\n",
    "PRE_DATA_FILE=  \"rows_transpose_norm_by_gene_id_with_target_num_\"\n",
    "SCORING=        \"roc_auc_ovr\" \n",
    "MAX_ITERS=      100\n",
    "\n",
    "def mutual_info_classif_state(X, y):\n",
    "    return mutual_info_classif(X, y, random_state=SEMILLA)\n",
    "\n",
    "eval_selector_mi = \"SelectKBest(score_func=mutual_info_classif_state)\"\n",
    "eval_selector_rf=  \"SelectFromModel(estimator=RandomForestClassifier(random_state=SEMILLA), threshold=-np.inf)\"\n",
    "eval_selector_anova=  \"SelectKBest(score_func=f_classif)\"\n",
    "\n",
    "eval_clasifier_svm= \"SVC(probability=True, random_state=SEMILLA)\"\n",
    "eval_clasifier_rf= \"RandomForestClassifier(random_state=SEMILLA)\"\n",
    "eval_clasifier_lr= \"LogisticRegressionCV(random_state=SEMILLA)\"\n",
    "\n",
    "if M_TIPO.startswith(\"bin_m\"):\n",
    "    myfunc.verbose(f\"Utilizando parámetros de {M_TIPO}\")\n",
    "    eval_selector = eval_selector_mi\n",
    "    eval_clasifier = eval_clasifier_svm\n",
    "\n",
    "    SEMILLA = 6578\n",
    "    M_SELECT = \"MI\"\n",
    "    M_CLASIF = \"SVM\"\n",
    "    param_distributions = {'selector__k': [1000], \n",
    "         'clasifier__kernel': ['rbf'], 'clasifier__gamma': [0.01], 'clasifier__C': [100]}\n",
    "elif M_TIPO.startswith(\"bin_s\"):\n",
    "    myfunc.verbose(f\"Utilizando parámetros de {M_TIPO}\")\n",
    "    eval_selector = eval_selector_rf\n",
    "    eval_clasifier = eval_clasifier_lr\n",
    "\n",
    "    SEMILLA = 6191\n",
    "    M_SELECT = \"RF\"\n",
    "    M_CLASIF = \"LR_L2\"\n",
    "    param_distributions = {'selector__max_features': [1000], 'selector__estimator__n_estimators': [200], \n",
    "        'clasifier__solver': ['lbfgs'], 'clasifier__penalty': ['l2'], 'clasifier__max_iter': [10000]}\n",
    "\n",
    "elif M_TIPO.startswith(\"mul_m\"):\n",
    "    myfunc.verbose(f\"Utilizando parámetros de {M_TIPO}\")\n",
    " \n",
    "    eval_selector = eval_selector_rf\n",
    "    eval_clasifier = eval_clasifier_lr\n",
    "\n",
    "    SEMILLA = 6191\n",
    "    M_SELECT = \"RF\"\n",
    "    M_CLASIF = \"LR_L2\"\n",
    "    param_distributions = {'selector__max_features': [1000], 'selector__estimator__n_estimators': [400], \n",
    "        'clasifier__solver': ['lbfgs'], 'clasifier__penalty': ['l2'], 'clasifier__max_iter': [10000]}\n",
    "\n",
    "else:\n",
    "    # M_TIPO.startswith(\"mul_s\"):\n",
    "    myfunc.verbose(f\"Utilizando parámetros de {M_TIPO}\")\n",
    "    eval_selector = eval_selector_anova\n",
    "    eval_clasifier = eval_clasifier_lr\n",
    "\n",
    "    SEMILLA = 1860\n",
    "    M_SELECT = \"ANOVA\"\n",
    "    M_CLASIF = \"LR_L2\"\n",
    "    param_distributions = {'selector__k': [1000], \n",
    "        'clasifier__solver': ['saga'], 'clasifier__penalty': ['l2'], 'clasifier__max_iter': [10000]}\n",
    "\n"
   ]
  },
  {
   "cell_type": "code",
   "execution_count": 3,
   "id": "96d48c3a",
   "metadata": {
    "execution": {
     "iopub.execute_input": "2023-10-30T12:38:07.676303Z",
     "iopub.status.busy": "2023-10-30T12:38:07.676303Z",
     "iopub.status.idle": "2023-10-30T12:38:07.692044Z",
     "shell.execute_reply": "2023-10-30T12:38:07.692044Z"
    },
    "papermill": {
     "duration": 0.015741,
     "end_time": "2023-10-30T12:38:07.692044",
     "exception": false,
     "start_time": "2023-10-30T12:38:07.676303",
     "status": "completed"
    },
    "tags": [
     "injected-parameters"
    ]
   },
   "outputs": [],
   "source": [
    "# Parameters\n",
    "M_TIPO = \"mul_s\"\n",
    "M_SELECT = \"RF\"\n",
    "M_CLASIF = \"RF\"\n",
    "P_FICHERO = \"param_0000_5426_mul_s_RF_RF.yaml\"\n",
    "R_FICHERO = \"resultados_5426\"\n",
    "M_FICHERO = \"metricas_5426\"\n",
    "PRE_DATA_FILE = \"rows_transpose_norm_by_gene_id_with_target_num_\"\n",
    "SCORING = \"roc_auc_ovr\"\n",
    "SEMILLA = 5426\n",
    "MAX_ITERS = 500\n",
    "eval_selector = \"SelectFromModel(estimator=RandomForestClassifier(random_state=SEMILLA), threshold=-np.inf)\"\n",
    "eval_clasifier = \"RandomForestClassifier(random_state=SEMILLA)\"\n",
    "param_distributions = {\n",
    "    \"selector__max_features\": [1000],\n",
    "    \"selector__estimator__n_estimators\": [100],\n",
    "    \"clasifier__n_estimators\": [200],\n",
    "    \"clasifier__min_samples_split\": [10],\n",
    "    \"clasifier__min_samples_leaf\": [5],\n",
    "    \"clasifier__max_features\": [1000],\n",
    "    \"clasifier__max_depth\": [10],\n",
    "    \"clasifier__bootstrap\": [True],\n",
    "}\n"
   ]
  },
  {
   "cell_type": "code",
   "execution_count": 4,
   "id": "4377aa40",
   "metadata": {
    "execution": {
     "iopub.execute_input": "2023-10-30T12:38:07.694382Z",
     "iopub.status.busy": "2023-10-30T12:38:07.694382Z",
     "iopub.status.idle": "2023-10-30T12:38:07.708083Z",
     "shell.execute_reply": "2023-10-30T12:38:07.708083Z"
    },
    "papermill": {
     "duration": 0.013701,
     "end_time": "2023-10-30T12:38:07.708083",
     "exception": false,
     "start_time": "2023-10-30T12:38:07.694382",
     "status": "completed"
    },
    "tags": []
   },
   "outputs": [],
   "source": [
    "DATA_FILE = PRE_DATA_FILE + M_TIPO\n",
    "\n",
    "# si viene \"None\" en el parámetro max_depth, se le quitan las comillas para que no sea entendido por el algoritmo como un texto\n",
    "if \"clasifier__max_depth\" in param_distributions:\n",
    "    param_distributions['clasifier__max_depth'] = [None if x == 'None' else x for x in param_distributions['clasifier__max_depth']]"
   ]
  },
  {
   "cell_type": "markdown",
   "id": "366bb1e5",
   "metadata": {
    "papermill": {
     "duration": 0.0,
     "end_time": "2023-10-30T12:38:07.708083",
     "exception": false,
     "start_time": "2023-10-30T12:38:07.708083",
     "status": "completed"
    },
    "tags": []
   },
   "source": [
    "Asignar los algoritmos que se utilizarán en la función RandomSearchCV"
   ]
  },
  {
   "cell_type": "code",
   "execution_count": 5,
   "id": "3217d86b",
   "metadata": {
    "execution": {
     "iopub.execute_input": "2023-10-30T12:38:07.723729Z",
     "iopub.status.busy": "2023-10-30T12:38:07.708083Z",
     "iopub.status.idle": "2023-10-30T12:38:07.739430Z",
     "shell.execute_reply": "2023-10-30T12:38:07.739430Z"
    },
    "papermill": {
     "duration": 0.031347,
     "end_time": "2023-10-30T12:38:07.739430",
     "exception": false,
     "start_time": "2023-10-30T12:38:07.708083",
     "status": "completed"
    },
    "tags": []
   },
   "outputs": [],
   "source": [
    "algor_selector=eval(eval_selector)\n",
    "algor_clasifier=eval(eval_clasifier)"
   ]
  },
  {
   "cell_type": "markdown",
   "id": "0dedda98",
   "metadata": {
    "papermill": {
     "duration": 0.0,
     "end_time": "2023-10-30T12:38:07.739430",
     "exception": false,
     "start_time": "2023-10-30T12:38:07.739430",
     "status": "completed"
    },
    "tags": []
   },
   "source": [
    "#### Comprobar el entorno y leer fichero de muestras"
   ]
  },
  {
   "cell_type": "code",
   "execution_count": 6,
   "id": "f50387f6",
   "metadata": {
    "execution": {
     "iopub.execute_input": "2023-10-30T12:38:07.755048Z",
     "iopub.status.busy": "2023-10-30T12:38:07.755048Z",
     "iopub.status.idle": "2023-10-30T12:38:07.897430Z",
     "shell.execute_reply": "2023-10-30T12:38:07.897430Z"
    },
    "papermill": {
     "duration": 0.142382,
     "end_time": "2023-10-30T12:38:07.897430",
     "exception": false,
     "start_time": "2023-10-30T12:38:07.755048",
     "status": "completed"
    },
    "tags": []
   },
   "outputs": [
    {
     "name": "stdout",
     "output_type": "stream",
     "text": [
      "20231030T133807 : amilcar32 : INFO : Encontrada carpeta DATA_DIR=..\\tfm_viu\\datos\n",
      "20231030T133807 : amilcar32 : INFO : Encontrada carpeta CFDNA_DIR=..\\tfm_viu\\datos\\cfDNA_5hmC\n",
      "20231030T133807 : amilcar32 : INFO : Encontrada carpeta GENCODE_DIR=..\\tfm_viu\\datos\\gencode\n",
      "20231030T133807 : amilcar32 : INFO : Encontrada carpeta H5_DIR=..\\tfm_viu\\datos\\h5\n",
      "20231030T133807 : amilcar32 : INFO : Encontrada carpeta LOG_DIR=..\\tfm_viu\\datos\\logs\n",
      "20231030T133807 : amilcar32 : INFO : Encontrada carpeta CSV_DIR=..\\tfm_viu\\datos\\csv\n",
      "20231030T133807 : amilcar32 : INFO : Encontrada carpeta MODEL_DIR=..\\tfm_viu\\ejecuciones\\modelos\n",
      "20231030T133807 : amilcar32 : INFO : Encontrada carpeta EXEC_DIR=..\\tfm_viu\\ejecuciones\n",
      "20231030T133807 : amilcar32 : INFO : Encontrada carpeta MET_DIR=..\\tfm_viu\\ejecuciones\\metricas\n",
      "20231030T133807 : amilcar32 : INFO : Inicio leer fichero h5 ..\\tfm_viu\\datos\\h5\\rows_transpose_norm_by_gene_id_with_target_num_mul_s.h5\n",
      "20231030T133807 : amilcar32 : INFO : Leyendo clave /df\n"
     ]
    },
    {
     "name": "stdout",
     "output_type": "stream",
     "text": [
      "20231030T133807 : amilcar32 : INFO : Tamaño (259, 18876)\n",
      "20231030T133807 : amilcar32 : INFO : Fin leer fichero h5 ..\\tfm_viu\\datos\\h5\\rows_transpose_norm_by_gene_id_with_target_num_mul_s.h5\n"
     ]
    },
    {
     "data": {
      "text/plain": [
       "target\n",
       "0    37\n",
       "1    37\n",
       "2    37\n",
       "3    37\n",
       "4    37\n",
       "5    37\n",
       "6    37\n",
       "dtype: int64"
      ]
     },
     "metadata": {},
     "output_type": "display_data"
    },
    {
     "name": "stdout",
     "output_type": "stream",
     "text": [
      "Shape df: (259, 18876)\n",
      "Shape X_train: (207, 18875)\n",
      "Shape X_test: (52, 18875)\n"
     ]
    }
   ],
   "source": [
    "start_time = datetime.datetime.now()\n",
    "\n",
    "myfunc.reset_vars()\n",
    "\n",
    "myfunc.NOTEBK_FILENAME = myfunc.get_nb_name()\n",
    "\n",
    "myfunc.check_enviroment(myfunc.DATA_DIR, myfunc.CFDNA_DIR, myfunc.GENCODE_DIR, myfunc.H5_DIR, myfunc.LOG_DIR, myfunc.CSV_DIR, myfunc.MODEL_DIR, myfunc.EXEC_DIR, myfunc.MET_DIR)\n",
    "\n",
    "# Leer fichero con las muestras\n",
    "df_t = myfunc.read_h5_to_df(DATA_FILE, myfunc.H5_DIR)\n",
    "display(df_t.groupby(\"target\").size())\n",
    "print(\"Shape df:\",df_t.shape)\n",
    "\n",
    "# Separar caracteristicas/genes de las etiquetas/tipos de cáncer\n",
    "X = df_t.iloc[:, :-1]  # Todas las columnas excepto la última\n",
    "y = df_t.iloc[:, -1]  # La última columna contiene los identificadores de los tipos de cáncer\n",
    "\n",
    "#  Crear el conjunto de datos de entrenamiento y de pruebas, y se fija la semilla para siempre coger el mismo juego de muestras\n",
    "X_train, X_test, y_train, y_test = train_test_split(X, y, test_size=0.2, shuffle=True, random_state=42)\n",
    "print(\"Shape X_train:\",X_train.shape)\n",
    "print(\"Shape X_test:\",X_test.shape)\n"
   ]
  },
  {
   "cell_type": "markdown",
   "id": "15a12f67",
   "metadata": {
    "papermill": {
     "duration": 0.0,
     "end_time": "2023-10-30T12:38:07.897430",
     "exception": false,
     "start_time": "2023-10-30T12:38:07.897430",
     "status": "completed"
    },
    "tags": []
   },
   "source": [
    "#### Selección de características y clasificación."
   ]
  },
  {
   "cell_type": "code",
   "execution_count": 7,
   "id": "89fbbbca",
   "metadata": {
    "execution": {
     "iopub.execute_input": "2023-10-30T12:38:07.912942Z",
     "iopub.status.busy": "2023-10-30T12:38:07.912942Z",
     "iopub.status.idle": "2023-10-30T12:39:35.506494Z",
     "shell.execute_reply": "2023-10-30T12:39:35.506494Z"
    },
    "papermill": {
     "duration": 87.593552,
     "end_time": "2023-10-30T12:39:35.506494",
     "exception": false,
     "start_time": "2023-10-30T12:38:07.912942",
     "status": "completed"
    },
    "tags": []
   },
   "outputs": [
    {
     "name": "stdout",
     "output_type": "stream",
     "text": [
      "20231030T133807 : amilcar32 : INFO : Iniciando entrenamiento\n",
      "num_iter: 1 , max_iter: 1\n",
      "Fitting 5 folds for each of 1 candidates, totalling 5 fits\n"
     ]
    },
    {
     "name": "stdout",
     "output_type": "stream",
     "text": [
      "Mejores Hiperparámetros: {'selector__max_features': 1000, 'selector__estimator__n_estimators': 100, 'clasifier__n_estimators': 200, 'clasifier__min_samples_split': 10, 'clasifier__min_samples_leaf': 5, 'clasifier__max_features': 1000, 'clasifier__max_depth': 10, 'clasifier__bootstrap': True}\n",
      "Mejor Puntuación: 0.7614\n",
      "20231030T133935 : amilcar32 : INFO : Fin entrenamiento\n"
     ]
    }
   ],
   "source": [
    "myfunc.verbose(\"Iniciando entrenamiento\")\n",
    "\n",
    "kf = KFold(n_splits=5, shuffle=True, random_state=SEMILLA)\n",
    "\n",
    "# Crear el pipeline para el flujo de tareas\n",
    "tasks_pipeline = Pipeline([\n",
    "    ('selector', algor_selector),\n",
    "    ('clasifier', algor_clasifier)\n",
    "])\n",
    "\n",
    "# MAX_ITERS puede limitar el número de iteraciones si son excesivas para las combinaciones de parámetros buscando un óptimo local, \n",
    "# sino funcionaría como GridSearchCV al revisar todas las cominaciones de los parámetros\n",
    "num_iteraciones = 1\n",
    "num_iteraciones = num_iteraciones * np.prod([len(elemento1) for _, elemento1 in param_distributions.items()])\n",
    "max_iteraciones = num_iteraciones if num_iteraciones <= MAX_ITERS else MAX_ITERS\n",
    "print(\"num_iter:\",num_iteraciones,\", max_iter:\",max_iteraciones)\n",
    "\n",
    "random_search = RandomizedSearchCV(\n",
    "    tasks_pipeline, \n",
    "    param_distributions, \n",
    "    n_iter=max_iteraciones,\n",
    "    scoring=SCORING,\n",
    "    cv=kf,\n",
    "    verbose=3, \n",
    "    random_state=SEMILLA, \n",
    "    n_jobs=-1\n",
    "    )\n",
    "\n",
    "# Entrenar el modelo\n",
    "random_search.fit(X_train, y_train)\n",
    "\n",
    "# Ver los mejores hiperparámetros encontrados\n",
    "print(f'Mejores Hiperparámetros: {random_search.best_params_}')\n",
    "print(f'Mejor Puntuación: {random_search.best_score_:.4f}')\n",
    "\n",
    "# Nos quedamos con el mejor modelo para ver las métricas\n",
    "mejor_modelo = random_search.best_estimator_\n",
    "\n",
    "myfunc.verbose(\"Fin entrenamiento\")"
   ]
  },
  {
   "cell_type": "markdown",
   "id": "c79dd299",
   "metadata": {
    "papermill": {
     "duration": 0.015633,
     "end_time": "2023-10-30T12:39:35.522127",
     "exception": false,
     "start_time": "2023-10-30T12:39:35.506494",
     "status": "completed"
    },
    "tags": []
   },
   "source": [
    "#### Guardar modelo"
   ]
  },
  {
   "cell_type": "code",
   "execution_count": 8,
   "id": "052425d0",
   "metadata": {
    "execution": {
     "iopub.execute_input": "2023-10-30T12:39:35.537760Z",
     "iopub.status.busy": "2023-10-30T12:39:35.537760Z",
     "iopub.status.idle": "2023-10-30T12:39:35.853011Z",
     "shell.execute_reply": "2023-10-30T12:39:35.853011Z"
    },
    "papermill": {
     "duration": 0.315251,
     "end_time": "2023-10-30T12:39:35.853011",
     "exception": false,
     "start_time": "2023-10-30T12:39:35.537760",
     "status": "completed"
    },
    "tags": []
   },
   "outputs": [
    {
     "name": "stdout",
     "output_type": "stream",
     "text": [
      "20231030T133935 : amilcar32 : INFO : Inicio guardar fichero ..\\tfm_viu\\ejecuciones\\modelos\\modelo_5426_mul_s_RF_RF.pkl\n"
     ]
    },
    {
     "name": "stdout",
     "output_type": "stream",
     "text": [
      "20231030T133935 : amilcar32 : INFO : Fin guardar fichero ..\\tfm_viu\\ejecuciones\\modelos\\modelo_5426_mul_s_RF_RF.pkl\n"
     ]
    }
   ],
   "source": [
    "fichero_modelo = str.replace(\"modelo_\"+str(SEMILLA).zfill(4)+\"_\"+M_TIPO+\"_\"+M_SELECT+\"_\"+M_CLASIF+\".pkl\", \" \", \"_\")\n",
    "\n",
    "myfunc.save_modelo(mejor_modelo, myfunc.MODEL_DIR, fichero_modelo)"
   ]
  },
  {
   "cell_type": "markdown",
   "id": "fe3bfe05",
   "metadata": {
    "papermill": {
     "duration": 0.013496,
     "end_time": "2023-10-30T12:39:35.870614",
     "exception": false,
     "start_time": "2023-10-30T12:39:35.857118",
     "status": "completed"
    },
    "tags": []
   },
   "source": [
    "#### Ver resultados del las iteraciones hechas por RandomSearchCV"
   ]
  },
  {
   "cell_type": "code",
   "execution_count": 9,
   "id": "2cf064d7",
   "metadata": {
    "execution": {
     "iopub.execute_input": "2023-10-30T12:39:35.885235Z",
     "iopub.status.busy": "2023-10-30T12:39:35.885235Z",
     "iopub.status.idle": "2023-10-30T12:39:35.900945Z",
     "shell.execute_reply": "2023-10-30T12:39:35.900945Z"
    },
    "papermill": {
     "duration": 0.030331,
     "end_time": "2023-10-30T12:39:35.900945",
     "exception": false,
     "start_time": "2023-10-30T12:39:35.870614",
     "status": "completed"
    },
    "tags": []
   },
   "outputs": [
    {
     "name": "stdout",
     "output_type": "stream",
     "text": [
      "20231030T133935 : amilcar32 : INFO : Inicio ver resultados\n",
      "Mejores Hiperparámetros: {'selector__max_features': 1000, 'selector__estimator__n_estimators': 100, 'clasifier__n_estimators': 200, 'clasifier__min_samples_split': 10, 'clasifier__min_samples_leaf': 5, 'clasifier__max_features': 1000, 'clasifier__max_depth': 10, 'clasifier__bootstrap': True}\n",
      "Mejores puntuaciones: 0.7614 | Params: {'selector__max_features': 1000, 'selector__estimator__n_estimators': 100, 'clasifier__n_estimators': 200, 'clasifier__min_samples_split': 10, 'clasifier__min_samples_leaf': 5, 'clasifier__max_features': 1000, 'clasifier__max_depth': 10, 'clasifier__bootstrap': True}\n",
      "Media de las puntuaciones: 0.7614 | Params: {'selector__max_features': 1000, 'selector__estimator__n_estimators': 100, 'clasifier__n_estimators': 200, 'clasifier__min_samples_split': 10, 'clasifier__min_samples_leaf': 5, 'clasifier__max_features': 1000, 'clasifier__max_depth': 10, 'clasifier__bootstrap': True}\n",
      "20231030T133935 : amilcar32 : INFO : Fin resultados\n"
     ]
    }
   ],
   "source": [
    "myfunc.ver_resultados_search(random_search)"
   ]
  },
  {
   "cell_type": "markdown",
   "id": "35973b44",
   "metadata": {
    "papermill": {
     "duration": 0.01563,
     "end_time": "2023-10-30T12:39:35.932207",
     "exception": false,
     "start_time": "2023-10-30T12:39:35.916577",
     "status": "completed"
    },
    "tags": []
   },
   "source": [
    "#### Ver métricas del mejor modelo"
   ]
  },
  {
   "cell_type": "code",
   "execution_count": 10,
   "id": "63a7f3c6",
   "metadata": {
    "execution": {
     "iopub.execute_input": "2023-10-30T12:39:35.947825Z",
     "iopub.status.busy": "2023-10-30T12:39:35.947825Z",
     "iopub.status.idle": "2023-10-30T12:39:37.491284Z",
     "shell.execute_reply": "2023-10-30T12:39:37.491284Z"
    },
    "papermill": {
     "duration": 1.559077,
     "end_time": "2023-10-30T12:39:37.491284",
     "exception": false,
     "start_time": "2023-10-30T12:39:35.932207",
     "status": "completed"
    },
    "tags": []
   },
   "outputs": [
    {
     "name": "stdout",
     "output_type": "stream",
     "text": [
      "20231030T133935 : amilcar32 : INFO : Inicio ver métricas multiclase\n"
     ]
    },
    {
     "name": "stdout",
     "output_type": "stream",
     "text": [
      "              precision    recall  f1-score   support\n",
      "\n",
      "           0       0.33      0.09      0.14        11\n",
      "           1       0.62      0.62      0.62         8\n",
      "           2       0.40      0.25      0.31         8\n",
      "           3       0.09      0.20      0.13         5\n",
      "           4       0.78      0.88      0.82         8\n",
      "           5       0.43      0.50      0.46         6\n",
      "           6       0.22      0.33      0.27         6\n",
      "\n",
      "    accuracy                           0.40        52\n",
      "   macro avg       0.41      0.41      0.39        52\n",
      "weighted avg       0.43      0.40      0.40        52\n",
      "\n",
      "\n",
      "\n",
      "           Exactitud: 0.403846\n",
      "   Precisión (media): 0.411116\n",
      "      Recall (media): 0.410606\n",
      "    F1-score (media): 0.393183\n",
      "\n",
      "\n",
      "AUC para el tipo de cáncer 0-Control.... 0.4922\n",
      "AUC para el tipo de cáncer 1-Bladder.... 0.8438\n",
      "AUC para el tipo de cáncer 2-Breast..... 0.7273\n",
      "AUC para el tipo de cáncer 3-Colorectal. 0.7915\n",
      "AUC para el tipo de cáncer 4-Kidney..... 0.9602\n",
      "AUC para el tipo de cáncer 5-Lung....... 0.7645\n",
      "AUC para el tipo de cáncer 6-Prostate... 0.7428\n",
      "\n",
      "Media de AUC: 0.7603\n"
     ]
    },
    {
     "data": {
      "image/png": "[encoded data removed]",
      "text/plain": [
       "<Figure size 1000x600 with 1 Axes>"
      ]
     },
     "metadata": {},
     "output_type": "display_data"
    },
    {
     "name": "stdout",
     "output_type": "stream",
     "text": [
      "\n",
      "\n"
     ]
    },
    {
     "data": {
      "image/png": "[encoded data removed]",
      "text/plain": [
       "<Figure size 800x400 with 2 Axes>"
      ]
     },
     "metadata": {},
     "output_type": "display_data"
    },
    {
     "name": "stdout",
     "output_type": "stream",
     "text": [
      "\n",
      "\n",
      "Puntuación Jaccard para el cáncer tipo 0-Control.... 0.0769\n",
      "Puntuación Jaccard para el cáncer tipo 1-Bladder.... 0.4545\n",
      "Puntuación Jaccard para el cáncer tipo 2-Breast..... 0.1818\n",
      "Puntuación Jaccard para el cáncer tipo 3-Colorectal. 0.0667\n",
      "Puntuación Jaccard para el cáncer tipo 4-Kidney..... 0.7000\n",
      "Puntuación Jaccard para el cáncer tipo 5-Lung....... 0.3000\n",
      "Puntuación Jaccard para el cáncer tipo 6-Prostate... 0.1538\n",
      "\n",
      "Media de la puntuación de Jaccard: 0.2763\n"
     ]
    }
   ],
   "source": [
    "if M_TIPO.startswith(\"bin\"):\n",
    "    myfunc.ver_metricas(mejor_modelo, X_test, y_test)\n",
    "else:\n",
    "    myfunc.ver_metricas_multi(mejor_modelo, X_test, y_test)\n"
   ]
  },
  {
   "cell_type": "markdown",
   "id": "eee74ee8",
   "metadata": {
    "papermill": {
     "duration": 0.01563,
     "end_time": "2023-10-30T12:39:37.522360",
     "exception": false,
     "start_time": "2023-10-30T12:39:37.506730",
     "status": "completed"
    },
    "tags": []
   },
   "source": [
    "#### Finalización del notebook"
   ]
  },
  {
   "cell_type": "code",
   "execution_count": 11,
   "id": "bb631097",
   "metadata": {
    "execution": {
     "iopub.execute_input": "2023-10-30T12:39:37.537983Z",
     "iopub.status.busy": "2023-10-30T12:39:37.537983Z",
     "iopub.status.idle": "2023-10-30T12:39:37.569405Z",
     "shell.execute_reply": "2023-10-30T12:39:37.569405Z"
    },
    "papermill": {
     "duration": 0.047045,
     "end_time": "2023-10-30T12:39:37.569405",
     "exception": false,
     "start_time": "2023-10-30T12:39:37.522360",
     "status": "completed"
    },
    "tags": []
   },
   "outputs": [
    {
     "name": "stdout",
     "output_type": "stream",
     "text": [
      "20231030T133937 : amilcar32 : INFO : Notebook ha tardado 89 seconds\n"
     ]
    }
   ],
   "source": [
    "end_time = datetime.datetime.now()\n",
    "total_time = end_time - start_time\n",
    "myfunc.verbose(f\"Notebook ha tardado {total_time.seconds} seconds\")"
   ]
  },
  {
   "cell_type": "markdown",
   "id": "143fdaf9",
   "metadata": {
    "papermill": {
     "duration": 0.015532,
     "end_time": "2023-10-30T12:39:37.601119",
     "exception": false,
     "start_time": "2023-10-30T12:39:37.585587",
     "status": "completed"
    },
    "tags": []
   },
   "source": [
    "#### Guardar métricas"
   ]
  },
  {
   "cell_type": "code",
   "execution_count": 12,
   "id": "ae6cdd51",
   "metadata": {
    "execution": {
     "iopub.execute_input": "2023-10-30T12:39:37.632466Z",
     "iopub.status.busy": "2023-10-30T12:39:37.632466Z",
     "iopub.status.idle": "2023-10-30T12:39:38.390060Z",
     "shell.execute_reply": "2023-10-30T12:39:38.390060Z"
    },
    "papermill": {
     "duration": 0.773229,
     "end_time": "2023-10-30T12:39:38.390060",
     "exception": false,
     "start_time": "2023-10-30T12:39:37.616831",
     "status": "completed"
    },
    "tags": []
   },
   "outputs": [
    {
     "name": "stdout",
     "output_type": "stream",
     "text": [
      "20231030T133937 : amilcar32 : INFO : Inicio guardar métricas multiclase\n",
      "20231030T133937 : amilcar32 : INFO : Inicio leer fichero ..\\tfm_viu\\ejecuciones\\metricas\\metricas_5426.csv\n",
      "20231030T133937 : amilcar32 : INFO : Fin leer fichero ..\\tfm_viu\\ejecuciones\\metricas\\metricas_5426.csv\n"
     ]
    },
    {
     "name": "stdout",
     "output_type": "stream",
     "text": [
      "20231030T133938 : amilcar32 : INFO : Inicio guardar fichero ..\\tfm_viu\\ejecuciones\\metricas\\metricas_5426.csv\n",
      "20231030T133938 : amilcar32 : INFO : Fichero borrado ..\\tfm_viu\\ejecuciones\\metricas\\metricas_5426.csv\n",
      "20231030T133938 : amilcar32 : INFO : Fin guardar fichero ..\\tfm_viu\\ejecuciones\\metricas\\metricas_5426.csv\n",
      "20231030T133938 : amilcar32 : INFO : Fin guardar métricas multiclase\n",
      "20231030T133938 : amilcar32 : INFO : Inicio leer fichero ..\\tfm_viu\\ejecuciones\\metricas\\metricas_5426.csv\n",
      "20231030T133938 : amilcar32 : INFO : Fin leer fichero ..\\tfm_viu\\ejecuciones\\metricas\\metricas_5426.csv\n"
     ]
    },
    {
     "data": {
      "text/html": [
       "<div>\n",
       "<style scoped>\n",
       "    .dataframe tbody tr th:only-of-type {\n",
       "        vertical-align: middle;\n",
       "    }\n",
       "\n",
       "    .dataframe tbody tr th {\n",
       "        vertical-align: top;\n",
       "    }\n",
       "\n",
       "    .dataframe thead th {\n",
       "        text-align: right;\n",
       "    }\n",
       "</style>\n",
       "<table border=\"1\" class=\"dataframe\">\n",
       "  <thead>\n",
       "    <tr style=\"text-align: right;\">\n",
       "      <th></th>\n",
       "      <th>tipo</th>\n",
       "      <th>select</th>\n",
       "      <th>clasific</th>\n",
       "      <th>semilla</th>\n",
       "      <th>accuracy</th>\n",
       "      <th>precision</th>\n",
       "      <th>recall</th>\n",
       "      <th>f1_score</th>\n",
       "      <th>roc_auc</th>\n",
       "      <th>hostname</th>\n",
       "      <th>total_time_sec</th>\n",
       "      <th>datetime</th>\n",
       "      <th>fichero_modelo</th>\n",
       "      <th>params</th>\n",
       "      <th>shape</th>\n",
       "      <th>features</th>\n",
       "      <th>roc_auc_ovr</th>\n",
       "      <th>indices_auc</th>\n",
       "      <th>indices_jaccard</th>\n",
       "    </tr>\n",
       "  </thead>\n",
       "  <tbody>\n",
       "    <tr>\n",
       "      <th>0</th>\n",
       "      <td>mul_s</td>\n",
       "      <td>RF</td>\n",
       "      <td>RF</td>\n",
       "      <td>5426</td>\n",
       "      <td>0.403846</td>\n",
       "      <td>0.411116</td>\n",
       "      <td>0.410606</td>\n",
       "      <td>0.393183</td>\n",
       "      <td>NaN</td>\n",
       "      <td>amilcar32</td>\n",
       "      <td>89</td>\n",
       "      <td>2023-10-30 13:39:38.295125</td>\n",
       "      <td>modelo_5426_mul_s_RF_RF.pkl</td>\n",
       "      <td>{'selector__max_features': 1000, 'selector__es...</td>\n",
       "      <td>X_test:(52, 18875)</td>\n",
       "      <td>['ENSG00000001460.18', 'ENSG00000002933.9', 'E...</td>\n",
       "      <td>0.760318</td>\n",
       "      <td>[0.49223946784922396, 0.84375, 0.7272727272727...</td>\n",
       "      <td>[0.07692307692307693, 0.45454545454545453, 0.1...</td>\n",
       "    </tr>\n",
       "    <tr>\n",
       "      <th>0</th>\n",
       "      <td>mul_s</td>\n",
       "      <td>RF</td>\n",
       "      <td>LR_L2</td>\n",
       "      <td>5426</td>\n",
       "      <td>0.500000</td>\n",
       "      <td>0.488492</td>\n",
       "      <td>0.529545</td>\n",
       "      <td>0.492705</td>\n",
       "      <td>NaN</td>\n",
       "      <td>amilcar32</td>\n",
       "      <td>30</td>\n",
       "      <td>2023-10-30 13:38:02.250025</td>\n",
       "      <td>modelo_5426_mul_s_RF_LR_L2.pkl</td>\n",
       "      <td>{'selector__max_features': 500, 'selector__est...</td>\n",
       "      <td>X_test:(52, 18875)</td>\n",
       "      <td>['ENSG00000003402.21', 'ENSG00000005075.16', '...</td>\n",
       "      <td>0.814987</td>\n",
       "      <td>[0.5764966740576497, 0.8295454545454545, 0.718...</td>\n",
       "      <td>[0.13333333333333333, 0.5555555555555556, 0.08...</td>\n",
       "    </tr>\n",
       "    <tr>\n",
       "      <th>0</th>\n",
       "      <td>mul_s</td>\n",
       "      <td>RF</td>\n",
       "      <td>LR_L1</td>\n",
       "      <td>5426</td>\n",
       "      <td>0.346154</td>\n",
       "      <td>0.364482</td>\n",
       "      <td>0.367857</td>\n",
       "      <td>0.353053</td>\n",
       "      <td>NaN</td>\n",
       "      <td>amilcar32</td>\n",
       "      <td>614</td>\n",
       "      <td>2023-10-30 13:37:25.749509</td>\n",
       "      <td>modelo_5426_mul_s_RF_LR_L1.pkl</td>\n",
       "      <td>{'selector__max_features': 500, 'selector__est...</td>\n",
       "      <td>X_test:(52, 18875)</td>\n",
       "      <td>['ENSG00000003402.21', 'ENSG00000005238.20', '...</td>\n",
       "      <td>0.739210</td>\n",
       "      <td>[0.41019955654101997, 0.8210227272727273, 0.69...</td>\n",
       "      <td>[0.0, 0.4444444444444444, 0.18181818181818182,...</td>\n",
       "    </tr>\n",
       "  </tbody>\n",
       "</table>\n",
       "</div>"
      ],
      "text/plain": [
       "    tipo select clasific  semilla  accuracy  precision    recall  f1_score  \\\n",
       "0  mul_s     RF       RF     5426  0.403846   0.411116  0.410606  0.393183   \n",
       "0  mul_s     RF    LR_L2     5426  0.500000   0.488492  0.529545  0.492705   \n",
       "0  mul_s     RF    LR_L1     5426  0.346154   0.364482  0.367857  0.353053   \n",
       "\n",
       "   roc_auc   hostname  total_time_sec                    datetime  \\\n",
       "0      NaN  amilcar32              89  2023-10-30 13:39:38.295125   \n",
       "0      NaN  amilcar32              30  2023-10-30 13:38:02.250025   \n",
       "0      NaN  amilcar32             614  2023-10-30 13:37:25.749509   \n",
       "\n",
       "                   fichero_modelo  \\\n",
       "0     modelo_5426_mul_s_RF_RF.pkl   \n",
       "0  modelo_5426_mul_s_RF_LR_L2.pkl   \n",
       "0  modelo_5426_mul_s_RF_LR_L1.pkl   \n",
       "\n",
       "                                              params               shape  \\\n",
       "0  {'selector__max_features': 1000, 'selector__es...  X_test:(52, 18875)   \n",
       "0  {'selector__max_features': 500, 'selector__est...  X_test:(52, 18875)   \n",
       "0  {'selector__max_features': 500, 'selector__est...  X_test:(52, 18875)   \n",
       "\n",
       "                                            features  roc_auc_ovr  \\\n",
       "0  ['ENSG00000001460.18', 'ENSG00000002933.9', 'E...     0.760318   \n",
       "0  ['ENSG00000003402.21', 'ENSG00000005075.16', '...     0.814987   \n",
       "0  ['ENSG00000003402.21', 'ENSG00000005238.20', '...     0.739210   \n",
       "\n",
       "                                         indices_auc  \\\n",
       "0  [0.49223946784922396, 0.84375, 0.7272727272727...   \n",
       "0  [0.5764966740576497, 0.8295454545454545, 0.718...   \n",
       "0  [0.41019955654101997, 0.8210227272727273, 0.69...   \n",
       "\n",
       "                                     indices_jaccard  \n",
       "0  [0.07692307692307693, 0.45454545454545453, 0.1...  \n",
       "0  [0.13333333333333333, 0.5555555555555556, 0.08...  \n",
       "0  [0.0, 0.4444444444444444, 0.18181818181818182,...  "
      ]
     },
     "metadata": {},
     "output_type": "display_data"
    }
   ],
   "source": [
    "if M_TIPO.startswith(\"bin\"):\n",
    "    myfunc.save_metricas_to_csv(random_search, X_test, y_test, M_TIPO, M_SELECT, M_CLASIF, total_time, SEMILLA, myfunc.MET_DIR, M_FICHERO, fichero_modelo)\n",
    "else:\n",
    "    myfunc.save_metricas_multi_to_csv(random_search, X_test, y_test, M_TIPO, M_SELECT, M_CLASIF, total_time, SEMILLA, myfunc.MET_DIR, M_FICHERO, fichero_modelo)\n",
    "\n",
    "df1=myfunc.read_metricas_to_df(myfunc.MET_DIR,M_FICHERO)\n",
    "\n",
    "display(df1.sort_values(\"datetime\", ascending=False)[:3])\n"
   ]
  },
  {
   "cell_type": "markdown",
   "id": "7ebdf75f",
   "metadata": {
    "papermill": {
     "duration": 0.015613,
     "end_time": "2023-10-30T12:39:38.421408",
     "exception": false,
     "start_time": "2023-10-30T12:39:38.405795",
     "status": "completed"
    },
    "tags": []
   },
   "source": [
    "#### Guardar resultados"
   ]
  },
  {
   "cell_type": "code",
   "execution_count": 13,
   "id": "c696e7b0",
   "metadata": {
    "execution": {
     "iopub.execute_input": "2023-10-30T12:39:38.452647Z",
     "iopub.status.busy": "2023-10-30T12:39:38.452647Z",
     "iopub.status.idle": "2023-10-30T12:39:38.468278Z",
     "shell.execute_reply": "2023-10-30T12:39:38.468278Z"
    },
    "papermill": {
     "duration": 0.03316,
     "end_time": "2023-10-30T12:39:38.470183",
     "exception": false,
     "start_time": "2023-10-30T12:39:38.437023",
     "status": "completed"
    },
    "tags": []
   },
   "outputs": [
    {
     "name": "stdout",
     "output_type": "stream",
     "text": [
      "20231030T133938 : amilcar32 : INFO : Inicio guardar resultados\n",
      "20231030T133938 : amilcar32 : INFO : Inicio guardar fichero ..\\tfm_viu\\ejecuciones\\metricas\\resultados_5426_mul_s-RF-RF.csv\n",
      "20231030T133938 : amilcar32 : INFO : Fin guardar fichero ..\\tfm_viu\\ejecuciones\\metricas\\resultados_5426_mul_s-RF-RF.csv\n",
      "20231030T133938 : amilcar32 : INFO : Fin guardar resultados\n"
     ]
    }
   ],
   "source": [
    "fichero_resultados=R_FICHERO+\"_\"+M_TIPO+\"-\"+M_SELECT+\"-\"+M_CLASIF+\".csv\"\n",
    "myfunc.save_resultados_to_csv(M_TIPO, M_SELECT, M_CLASIF,  random_search, myfunc.MET_DIR, fichero_resultados)\n"
   ]
  }
 ],
 "metadata": {
  "kernelspec": {
   "display_name": "Python 3 (ipykernel)",
   "language": "python",
   "name": "python3"
  },
  "language_info": {
   "codemirror_mode": {
    "name": "ipython",
    "version": 3
   },
   "file_extension": ".py",
   "mimetype": "text/x-python",
   "name": "python",
   "nbconvert_exporter": "python",
   "pygments_lexer": "ipython3",
   "version": "3.10.12"
  },
  "papermill": {
   "default_parameters": {},
   "duration": 94.724154,
   "end_time": "2023-10-30T12:39:39.381719",
   "environment_variables": {},
   "exception": null,
   "input_path": "03_entrenamiento.ipynb",
   "output_path": "ejecuciones\\training\\03_entrenamiento.20231030T133803.param_0000_5426_mul_s_RF_RF.output.ipynb",
   "parameters": {
    "MAX_ITERS": 500,
    "M_CLASIF": "RF",
    "M_FICHERO": "metricas_5426",
    "M_SELECT": "RF",
    "M_TIPO": "mul_s",
    "PRE_DATA_FILE": "rows_transpose_norm_by_gene_id_with_target_num_",
    "P_FICHERO": "param_0000_5426_mul_s_RF_RF.yaml",
    "R_FICHERO": "resultados_5426",
    "SCORING": "roc_auc_ovr",
    "SEMILLA": 5426,
    "eval_clasifier": "RandomForestClassifier(random_state=SEMILLA)",
    "eval_selector": "SelectFromModel(estimator=RandomForestClassifier(random_state=SEMILLA), threshold=-np.inf)",
    "param_distributions": {
     "clasifier__bootstrap": [
      true
     ],
     "clasifier__max_depth": [
      10
     ],
     "clasifier__max_features": [
      1000
     ],
     "clasifier__min_samples_leaf": [
      5
     ],
     "clasifier__min_samples_split": [
      10
     ],
     "clasifier__n_estimators": [
      200
     ],
     "selector__estimator__n_estimators": [
      100
     ],
     "selector__max_features": [
      1000
     ]
    }
   },
   "start_time": "2023-10-30T12:38:04.657565",
   "version": "2.4.0"
  }
 },
 "nbformat": 4,
 "nbformat_minor": 5
}