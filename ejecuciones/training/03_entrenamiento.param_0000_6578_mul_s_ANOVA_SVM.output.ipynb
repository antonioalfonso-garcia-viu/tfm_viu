{
 "cells": [
  {
   "cell_type": "markdown",
   "id": "b78f36ad",
   "metadata": {
    "papermill": {
     "duration": 0.007392,
     "end_time": "2023-10-30T17:49:25.369877",
     "exception": false,
     "start_time": "2023-10-30T17:49:25.362485",
     "status": "completed"
    },
    "tags": []
   },
   "source": [
    "##### Inicio"
   ]
  },
  {
   "cell_type": "markdown",
   "id": "cda29c58",
   "metadata": {
    "papermill": {
     "duration": 0.0,
     "end_time": "2023-10-30T17:49:25.369877",
     "exception": false,
     "start_time": "2023-10-30T17:49:25.369877",
     "status": "completed"
    },
    "tags": []
   },
   "source": [
    "#### Carga de datos"
   ]
  },
  {
   "cell_type": "code",
   "execution_count": 1,
   "id": "706b3370",
   "metadata": {
    "execution": {
     "iopub.execute_input": "2023-10-30T17:49:25.382873Z",
     "iopub.status.busy": "2023-10-30T17:49:25.382873Z",
     "iopub.status.idle": "2023-10-30T17:49:26.541829Z",
     "shell.execute_reply": "2023-10-30T17:49:26.540945Z"
    },
    "papermill": {
     "duration": 1.163986,
     "end_time": "2023-10-30T17:49:26.542830",
     "exception": false,
     "start_time": "2023-10-30T17:49:25.378844",
     "status": "completed"
    },
    "tags": []
   },
   "outputs": [
    {
     "name": "stdout",
     "output_type": "stream",
     "text": [
      "CPU_COUNT: 24; NODE: amilcar32; sys.version: 3.10.12 | packaged by Anaconda, Inc. | (main, Jul  5 2023, 19:09:20) [MSC v.1916 64 bit (AMD64)]\n",
      "LOKY_MAX_CPU_COUNT is not set.\n",
      "OMP_NUM_THREADS is not set.\n"
     ]
    }
   ],
   "source": [
    "import os\n",
    "import numpy as np\n",
    "import pandas as pd\n",
    "import datetime\n",
    "import sklearn\n",
    "import logging\n",
    "import warnings\n",
    "\n",
    "from sklearn.pipeline import Pipeline\n",
    "from sklearn.model_selection import RandomizedSearchCV, KFold, cross_val_score, train_test_split\n",
    "from sklearn.metrics import accuracy_score, confusion_matrix, classification_report, roc_auc_score\n",
    "\n",
    "#  cargar algoritmos para aprendizaje supervisado\n",
    "from sklearn.feature_selection import SelectKBest, f_classif, SelectFromModel, mutual_info_classif\n",
    "from sklearn.svm import SVC\n",
    "from sklearn.ensemble import RandomForestClassifier\n",
    "from sklearn.linear_model import LogisticRegression,LogisticRegressionCV\n",
    "\n",
    "# importar fichero con utilidades propias\n",
    "from commons import myfunctions as myfunc\n"
   ]
  },
  {
   "cell_type": "markdown",
   "id": "5f26c234",
   "metadata": {
    "papermill": {
     "duration": 0.003999,
     "end_time": "2023-10-30T17:49:26.549837",
     "exception": false,
     "start_time": "2023-10-30T17:49:26.545838",
     "status": "completed"
    },
    "tags": []
   },
   "source": [
    "#### Parámetros a utilizar en el entrenamiento.\n",
    "\n",
    "Se indican los 3 algoritmos de *selección de características* (eval_selector_xxx) y los 3 algoritmos para la _clasificación_ (eval_clasifier_xxx)\n",
    "\n",
    "En *param_distributions* se indicar los parámetros que utilizan los algoritmos en la función RandomSearchCV.\n",
    "\n",
    "Esta celda tiene la etiqueta **parameters** que servirá para poder lanzar los entrenamientos con la utilidad **papermill** pasándole un fichero con los parámetros. Los nuevos parámetros se situarán tras esta celda para tener prevalencia."
   ]
  },
  {
   "cell_type": "code",
   "execution_count": 2,
   "id": "5ef0a408",
   "metadata": {
    "execution": {
     "iopub.execute_input": "2023-10-30T17:49:26.555896Z",
     "iopub.status.busy": "2023-10-30T17:49:26.555896Z",
     "iopub.status.idle": "2023-10-30T17:49:26.572508Z",
     "shell.execute_reply": "2023-10-30T17:49:26.572508Z"
    },
    "papermill": {
     "duration": 0.022615,
     "end_time": "2023-10-30T17:49:26.574509",
     "exception": false,
     "start_time": "2023-10-30T17:49:26.551894",
     "status": "completed"
    },
    "tags": [
     "parameters"
    ]
   },
   "outputs": [
    {
     "name": "stdout",
     "output_type": "stream",
     "text": [
      "20231030T184926 : amilcar32 : INFO : Utilizando parámetros de mul_m\n"
     ]
    }
   ],
   "source": [
    "#  Parametros para el entrenamiento\n",
    "\n",
    "SEMILLA=        42\n",
    "M_TIPO=         \"mul_m\"\n",
    "M_SELECT=       \"MI\"\n",
    "M_CLASIF=       \"SVM\"\n",
    "R_FICHERO=      \"resultados\"\n",
    "M_FICHERO=      \"metricas\"\n",
    "PRE_DATA_FILE=  \"rows_transpose_norm_by_gene_id_with_target_num_\"\n",
    "SCORING=        \"roc_auc_ovr\" \n",
    "MAX_ITERS=      100\n",
    "\n",
    "def mutual_info_classif_state(X, y):\n",
    "    return mutual_info_classif(X, y, random_state=SEMILLA)\n",
    "\n",
    "eval_selector_mi = \"SelectKBest(score_func=mutual_info_classif_state)\"\n",
    "eval_selector_rf=  \"SelectFromModel(estimator=RandomForestClassifier(random_state=SEMILLA), threshold=-np.inf)\"\n",
    "eval_selector_anova=  \"SelectKBest(score_func=f_classif)\"\n",
    "\n",
    "eval_clasifier_svm= \"SVC(probability=True, random_state=SEMILLA)\"\n",
    "eval_clasifier_rf= \"RandomForestClassifier(random_state=SEMILLA)\"\n",
    "eval_clasifier_lr= \"LogisticRegressionCV(random_state=SEMILLA)\"\n",
    "\n",
    "if M_TIPO.startswith(\"bin_m\"):\n",
    "    myfunc.verbose(f\"Utilizando parámetros de {M_TIPO}\")\n",
    "    eval_selector = eval_selector_mi\n",
    "    eval_clasifier = eval_clasifier_svm\n",
    "\n",
    "    SEMILLA = 6578\n",
    "    M_SELECT = \"MI\"\n",
    "    M_CLASIF = \"SVM\"\n",
    "    param_distributions = {'selector__k': [1000], \n",
    "         'clasifier__kernel': ['rbf'], 'clasifier__gamma': [0.01], 'clasifier__C': [100]}\n",
    "elif M_TIPO.startswith(\"bin_s\"):\n",
    "    myfunc.verbose(f\"Utilizando parámetros de {M_TIPO}\")\n",
    "    eval_selector = eval_selector_rf\n",
    "    eval_clasifier = eval_clasifier_lr\n",
    "\n",
    "    SEMILLA = 6191\n",
    "    M_SELECT = \"RF\"\n",
    "    M_CLASIF = \"LR_L2\"\n",
    "    param_distributions = {'selector__max_features': [1000], 'selector__estimator__n_estimators': [200], \n",
    "        'clasifier__solver': ['lbfgs'], 'clasifier__penalty': ['l2'], 'clasifier__max_iter': [10000]}\n",
    "\n",
    "elif M_TIPO.startswith(\"mul_m\"):\n",
    "    myfunc.verbose(f\"Utilizando parámetros de {M_TIPO}\")\n",
    " \n",
    "    eval_selector = eval_selector_rf\n",
    "    eval_clasifier = eval_clasifier_lr\n",
    "\n",
    "    SEMILLA = 6191\n",
    "    M_SELECT = \"RF\"\n",
    "    M_CLASIF = \"LR_L2\"\n",
    "    param_distributions = {'selector__max_features': [1000], 'selector__estimator__n_estimators': [400], \n",
    "        'clasifier__solver': ['lbfgs'], 'clasifier__penalty': ['l2'], 'clasifier__max_iter': [10000]}\n",
    "\n",
    "else:\n",
    "    # M_TIPO.startswith(\"mul_s\"):\n",
    "    myfunc.verbose(f\"Utilizando parámetros de {M_TIPO}\")\n",
    "    eval_selector = eval_selector_anova\n",
    "    eval_clasifier = eval_clasifier_lr\n",
    "\n",
    "    SEMILLA = 1860\n",
    "    M_SELECT = \"ANOVA\"\n",
    "    M_CLASIF = \"LR_L2\"\n",
    "    param_distributions = {'selector__k': [1000], \n",
    "        'clasifier__solver': ['saga'], 'clasifier__penalty': ['l2'], 'clasifier__max_iter': [10000]}\n",
    "\n"
   ]
  },
  {
   "cell_type": "code",
   "execution_count": 3,
   "id": "dbff3bce",
   "metadata": {
    "execution": {
     "iopub.execute_input": "2023-10-30T17:49:26.584251Z",
     "iopub.status.busy": "2023-10-30T17:49:26.584251Z",
     "iopub.status.idle": "2023-10-30T17:49:26.588457Z",
     "shell.execute_reply": "2023-10-30T17:49:26.588253Z"
    },
    "papermill": {
     "duration": 0.012234,
     "end_time": "2023-10-30T17:49:26.590976",
     "exception": false,
     "start_time": "2023-10-30T17:49:26.578742",
     "status": "completed"
    },
    "tags": [
     "injected-parameters"
    ]
   },
   "outputs": [],
   "source": [
    "# Parameters\n",
    "M_TIPO = \"mul_s\"\n",
    "M_SELECT = \"ANOVA\"\n",
    "M_CLASIF = \"SVM\"\n",
    "P_FICHERO = \"param_0000_6578_mul_s_ANOVA_SVM.yaml\"\n",
    "R_FICHERO = \"resultados_6578\"\n",
    "M_FICHERO = \"metricas_6578\"\n",
    "PRE_DATA_FILE = \"rows_transpose_norm_by_gene_id_with_target_num_\"\n",
    "SCORING = \"roc_auc_ovr\"\n",
    "SEMILLA = 6578\n",
    "MAX_ITERS = 500\n",
    "eval_selector = \"SelectKBest(score_func=f_classif)\"\n",
    "eval_clasifier = \"SVC(probability=True, random_state=SEMILLA)\"\n",
    "param_distributions = {\n",
    "    \"selector__k\": [200],\n",
    "    \"clasifier__kernel\": [\"rbf\"],\n",
    "    \"clasifier__gamma\": [0.01],\n",
    "    \"clasifier__C\": [10],\n",
    "}\n"
   ]
  },
  {
   "cell_type": "code",
   "execution_count": 4,
   "id": "8d7785ab",
   "metadata": {
    "execution": {
     "iopub.execute_input": "2023-10-30T17:49:26.597972Z",
     "iopub.status.busy": "2023-10-30T17:49:26.597972Z",
     "iopub.status.idle": "2023-10-30T17:49:26.603468Z",
     "shell.execute_reply": "2023-10-30T17:49:26.603468Z"
    },
    "papermill": {
     "duration": 0.009506,
     "end_time": "2023-10-30T17:49:26.604484",
     "exception": false,
     "start_time": "2023-10-30T17:49:26.594978",
     "status": "completed"
    },
    "tags": []
   },
   "outputs": [],
   "source": [
    "DATA_FILE = PRE_DATA_FILE + M_TIPO\n",
    "\n",
    "# si viene \"None\" en el parámetro max_depth, se le quitan las comillas para que no sea entendido por el algoritmo como un texto\n",
    "if \"clasifier__max_depth\" in param_distributions:\n",
    "    param_distributions['clasifier__max_depth'] = [None if x == 'None' else x for x in param_distributions['clasifier__max_depth']]"
   ]
  },
  {
   "cell_type": "markdown",
   "id": "7440f05c",
   "metadata": {
    "papermill": {
     "duration": 0.003514,
     "end_time": "2023-10-30T17:49:26.611998",
     "exception": false,
     "start_time": "2023-10-30T17:49:26.608484",
     "status": "completed"
    },
    "tags": []
   },
   "source": [
    "Asignar los algoritmos que se utilizarán en la función RandomSearchCV"
   ]
  },
  {
   "cell_type": "code",
   "execution_count": 5,
   "id": "3c56824b",
   "metadata": {
    "execution": {
     "iopub.execute_input": "2023-10-30T17:49:26.620084Z",
     "iopub.status.busy": "2023-10-30T17:49:26.620084Z",
     "iopub.status.idle": "2023-10-30T17:49:26.628143Z",
     "shell.execute_reply": "2023-10-30T17:49:26.627862Z"
    },
    "papermill": {
     "duration": 0.017146,
     "end_time": "2023-10-30T17:49:26.629144",
     "exception": false,
     "start_time": "2023-10-30T17:49:26.611998",
     "status": "completed"
    },
    "tags": []
   },
   "outputs": [],
   "source": [
    "algor_selector=eval(eval_selector)\n",
    "algor_clasifier=eval(eval_clasifier)"
   ]
  },
  {
   "cell_type": "markdown",
   "id": "d42314c9",
   "metadata": {
    "papermill": {
     "duration": 0.006164,
     "end_time": "2023-10-30T17:49:26.639818",
     "exception": false,
     "start_time": "2023-10-30T17:49:26.633654",
     "status": "completed"
    },
    "tags": []
   },
   "source": [
    "#### Comprobar el entorno y leer fichero de muestras"
   ]
  },
  {
   "cell_type": "code",
   "execution_count": 6,
   "id": "0f5f8e45",
   "metadata": {
    "execution": {
     "iopub.execute_input": "2023-10-30T17:49:26.646897Z",
     "iopub.status.busy": "2023-10-30T17:49:26.646897Z",
     "iopub.status.idle": "2023-10-30T17:49:26.785795Z",
     "shell.execute_reply": "2023-10-30T17:49:26.785795Z"
    },
    "papermill": {
     "duration": 0.1439,
     "end_time": "2023-10-30T17:49:26.786795",
     "exception": false,
     "start_time": "2023-10-30T17:49:26.642895",
     "status": "completed"
    },
    "tags": []
   },
   "outputs": [
    {
     "name": "stdout",
     "output_type": "stream",
     "text": [
      "20231030T184926 : amilcar32 : INFO : Encontrada carpeta DATA_DIR=..\\tfm_viu\\datos\n",
      "20231030T184926 : amilcar32 : INFO : Encontrada carpeta CFDNA_DIR=..\\tfm_viu\\datos\\cfDNA_5hmC\n",
      "20231030T184926 : amilcar32 : INFO : Encontrada carpeta GENCODE_DIR=..\\tfm_viu\\datos\\gencode\n",
      "20231030T184926 : amilcar32 : INFO : Encontrada carpeta H5_DIR=..\\tfm_viu\\datos\\h5\n",
      "20231030T184926 : amilcar32 : INFO : Encontrada carpeta LOG_DIR=..\\tfm_viu\\datos\\logs\n",
      "20231030T184926 : amilcar32 : INFO : Encontrada carpeta CSV_DIR=..\\tfm_viu\\datos\\csv\n",
      "20231030T184926 : amilcar32 : INFO : Encontrada carpeta MODEL_DIR=..\\tfm_viu\\ejecuciones\\modelos\n",
      "20231030T184926 : amilcar32 : INFO : Encontrada carpeta EXEC_DIR=..\\tfm_viu\\ejecuciones\n",
      "20231030T184926 : amilcar32 : INFO : Encontrada carpeta MET_DIR=..\\tfm_viu\\ejecuciones\\metricas\n",
      "20231030T184926 : amilcar32 : INFO : Inicio leer fichero h5 ..\\tfm_viu\\datos\\h5\\rows_transpose_norm_by_gene_id_with_target_num_mul_s.h5\n",
      "20231030T184926 : amilcar32 : INFO : Leyendo clave /df\n",
      "20231030T184926 : amilcar32 : INFO : Tamaño (259, 18876)\n",
      "20231030T184926 : amilcar32 : INFO : Fin leer fichero h5 ..\\tfm_viu\\datos\\h5\\rows_transpose_norm_by_gene_id_with_target_num_mul_s.h5\n"
     ]
    },
    {
     "data": {
      "text/plain": [
       "target\n",
       "0    37\n",
       "1    37\n",
       "2    37\n",
       "3    37\n",
       "4    37\n",
       "5    37\n",
       "6    37\n",
       "dtype: int64"
      ]
     },
     "metadata": {},
     "output_type": "display_data"
    },
    {
     "name": "stdout",
     "output_type": "stream",
     "text": [
      "Shape df: (259, 18876)\n",
      "Shape X_train: (207, 18875)\n",
      "Shape X_test: (52, 18875)\n"
     ]
    }
   ],
   "source": [
    "start_time = datetime.datetime.now()\n",
    "\n",
    "myfunc.reset_vars()\n",
    "\n",
    "myfunc.NOTEBK_FILENAME = myfunc.get_nb_name()\n",
    "\n",
    "myfunc.check_enviroment(myfunc.DATA_DIR, myfunc.CFDNA_DIR, myfunc.GENCODE_DIR, myfunc.H5_DIR, myfunc.LOG_DIR, myfunc.CSV_DIR, myfunc.MODEL_DIR, myfunc.EXEC_DIR, myfunc.MET_DIR)\n",
    "\n",
    "# Leer fichero con las muestras\n",
    "df_t = myfunc.read_h5_to_df(DATA_FILE, myfunc.H5_DIR)\n",
    "display(df_t.groupby(\"target\").size())\n",
    "print(\"Shape df:\",df_t.shape)\n",
    "\n",
    "# Separar caracteristicas/genes de las etiquetas/tipos de cáncer\n",
    "X = df_t.iloc[:, :-1]  # Todas las columnas excepto la última\n",
    "y = df_t.iloc[:, -1]  # La última columna contiene los identificadores de los tipos de cáncer\n",
    "\n",
    "#  Crear el conjunto de datos de entrenamiento y de pruebas, y se fija la semilla para siempre coger el mismo juego de muestras\n",
    "X_train, X_test, y_train, y_test = train_test_split(X, y, test_size=0.2, shuffle=True, random_state=42)\n",
    "print(\"Shape X_train:\",X_train.shape)\n",
    "print(\"Shape X_test:\",X_test.shape)\n"
   ]
  },
  {
   "cell_type": "markdown",
   "id": "2e76e498",
   "metadata": {
    "papermill": {
     "duration": 0.004007,
     "end_time": "2023-10-30T17:49:26.795388",
     "exception": false,
     "start_time": "2023-10-30T17:49:26.791381",
     "status": "completed"
    },
    "tags": []
   },
   "source": [
    "#### Selección de características y clasificación."
   ]
  },
  {
   "cell_type": "code",
   "execution_count": 7,
   "id": "7932d663",
   "metadata": {
    "execution": {
     "iopub.execute_input": "2023-10-30T17:49:26.802904Z",
     "iopub.status.busy": "2023-10-30T17:49:26.801903Z",
     "iopub.status.idle": "2023-10-30T17:49:28.585819Z",
     "shell.execute_reply": "2023-10-30T17:49:28.585819Z"
    },
    "papermill": {
     "duration": 1.789516,
     "end_time": "2023-10-30T17:49:28.587904",
     "exception": false,
     "start_time": "2023-10-30T17:49:26.798388",
     "status": "completed"
    },
    "tags": []
   },
   "outputs": [
    {
     "name": "stdout",
     "output_type": "stream",
     "text": [
      "20231030T184926 : amilcar32 : INFO : Iniciando entrenamiento\n",
      "num_iter: 1 , max_iter: 1\n",
      "Fitting 5 folds for each of 1 candidates, totalling 5 fits\n"
     ]
    },
    {
     "name": "stdout",
     "output_type": "stream",
     "text": [
      "Mejores Hiperparámetros: {'selector__k': 200, 'clasifier__kernel': 'rbf', 'clasifier__gamma': 0.01, 'clasifier__C': 10}\n",
      "Mejor Puntuación: 0.7650\n",
      "20231030T184928 : amilcar32 : INFO : Fin entrenamiento\n"
     ]
    },
    {
     "name": "stderr",
     "output_type": "stream",
     "text": [
      "C:\\Users\\viu\\miniconda3\\lib\\site-packages\\sklearn\\feature_selection\\_univariate_selection.py:112: UserWarning: Features [  298  1508  1733  1846  2010  2222  2265  2266  2553  2688  2802  2803\n",
      "  2833  2896  3248  3415  3492  4075  5803  6053  6981  6984  7418  8508\n",
      "  8510  8513  8890  9087  9490 10475 11020 11613 11943 12249 12480 12831\n",
      " 13235 13259 13836 13959 14000 14015 14244 14245 14451 14789 14795 14941\n",
      " 15515 15563 15824 15874 16258 16267 16268 16281 16287 16313 16323 16350\n",
      " 16372 16630 16701 16905 16906 16968 17047 17091 17093 17231 17264 17274\n",
      " 17300 17312 17540 18350 18368 18374 18375 18405 18486 18592 18692 18868] are constant.\n",
      "  warnings.warn(\"Features %s are constant.\" % constant_features_idx, UserWarning)\n",
      "C:\\Users\\viu\\miniconda3\\lib\\site-packages\\sklearn\\feature_selection\\_univariate_selection.py:113: RuntimeWarning: invalid value encountered in divide\n",
      "  f = msb / msw\n"
     ]
    }
   ],
   "source": [
    "myfunc.verbose(\"Iniciando entrenamiento\")\n",
    "\n",
    "kf = KFold(n_splits=5, shuffle=True, random_state=SEMILLA)\n",
    "\n",
    "# Crear el pipeline para el flujo de tareas\n",
    "tasks_pipeline = Pipeline([\n",
    "    ('selector', algor_selector),\n",
    "    ('clasifier', algor_clasifier)\n",
    "])\n",
    "\n",
    "# MAX_ITERS puede limitar el número de iteraciones si son excesivas para las combinaciones de parámetros buscando un óptimo local, \n",
    "# sino funcionaría como GridSearchCV al revisar todas las cominaciones de los parámetros\n",
    "num_iteraciones = 1\n",
    "num_iteraciones = num_iteraciones * np.prod([len(elemento1) for _, elemento1 in param_distributions.items()])\n",
    "max_iteraciones = num_iteraciones if num_iteraciones <= MAX_ITERS else MAX_ITERS\n",
    "print(\"num_iter:\",num_iteraciones,\", max_iter:\",max_iteraciones)\n",
    "\n",
    "random_search = RandomizedSearchCV(\n",
    "    tasks_pipeline, \n",
    "    param_distributions, \n",
    "    n_iter=max_iteraciones,\n",
    "    scoring=SCORING,\n",
    "    cv=kf,\n",
    "    verbose=3, \n",
    "    random_state=SEMILLA, \n",
    "    n_jobs=-1\n",
    "    )\n",
    "\n",
    "# Entrenar el modelo\n",
    "random_search.fit(X_train, y_train)\n",
    "\n",
    "# Ver los mejores hiperparámetros encontrados\n",
    "print(f'Mejores Hiperparámetros: {random_search.best_params_}')\n",
    "print(f'Mejor Puntuación: {random_search.best_score_:.4f}')\n",
    "\n",
    "# Nos quedamos con el mejor modelo para ver las métricas\n",
    "mejor_modelo = random_search.best_estimator_\n",
    "\n",
    "myfunc.verbose(\"Fin entrenamiento\")"
   ]
  },
  {
   "cell_type": "markdown",
   "id": "3c0685b2",
   "metadata": {
    "papermill": {
     "duration": 0.004007,
     "end_time": "2023-10-30T17:49:28.595427",
     "exception": false,
     "start_time": "2023-10-30T17:49:28.591420",
     "status": "completed"
    },
    "tags": []
   },
   "source": [
    "#### Guardar modelo"
   ]
  },
  {
   "cell_type": "code",
   "execution_count": 8,
   "id": "5c14104a",
   "metadata": {
    "execution": {
     "iopub.execute_input": "2023-10-30T17:49:28.602937Z",
     "iopub.status.busy": "2023-10-30T17:49:28.602937Z",
     "iopub.status.idle": "2023-10-30T17:49:28.616419Z",
     "shell.execute_reply": "2023-10-30T17:49:28.616419Z"
    },
    "papermill": {
     "duration": 0.019989,
     "end_time": "2023-10-30T17:49:28.618413",
     "exception": false,
     "start_time": "2023-10-30T17:49:28.598424",
     "status": "completed"
    },
    "tags": []
   },
   "outputs": [
    {
     "name": "stdout",
     "output_type": "stream",
     "text": [
      "20231030T184928 : amilcar32 : INFO : Inicio guardar fichero ..\\tfm_viu\\ejecuciones\\modelos\\modelo_6578_mul_s_ANOVA_SVM.pkl\n",
      "20231030T184928 : amilcar32 : INFO : Fin guardar fichero ..\\tfm_viu\\ejecuciones\\modelos\\modelo_6578_mul_s_ANOVA_SVM.pkl\n"
     ]
    }
   ],
   "source": [
    "fichero_modelo = str.replace(\"modelo_\"+str(SEMILLA).zfill(4)+\"_\"+M_TIPO+\"_\"+M_SELECT+\"_\"+M_CLASIF+\".pkl\", \" \", \"_\")\n",
    "\n",
    "myfunc.save_modelo(mejor_modelo, myfunc.MODEL_DIR, fichero_modelo)"
   ]
  },
  {
   "cell_type": "markdown",
   "id": "3672dc2c",
   "metadata": {
    "papermill": {
     "duration": 0.003008,
     "end_time": "2023-10-30T17:49:28.625940",
     "exception": false,
     "start_time": "2023-10-30T17:49:28.622932",
     "status": "completed"
    },
    "tags": []
   },
   "source": [
    "#### Ver resultados del las iteraciones hechas por RandomSearchCV"
   ]
  },
  {
   "cell_type": "code",
   "execution_count": 9,
   "id": "631fb2a3",
   "metadata": {
    "execution": {
     "iopub.execute_input": "2023-10-30T17:49:28.633667Z",
     "iopub.status.busy": "2023-10-30T17:49:28.633667Z",
     "iopub.status.idle": "2023-10-30T17:49:28.648414Z",
     "shell.execute_reply": "2023-10-30T17:49:28.648414Z"
    },
    "papermill": {
     "duration": 0.020981,
     "end_time": "2023-10-30T17:49:28.649921",
     "exception": false,
     "start_time": "2023-10-30T17:49:28.628940",
     "status": "completed"
    },
    "tags": []
   },
   "outputs": [
    {
     "name": "stdout",
     "output_type": "stream",
     "text": [
      "20231030T184928 : amilcar32 : INFO : Inicio ver resultados\n",
      "Mejores Hiperparámetros: {'selector__k': 200, 'clasifier__kernel': 'rbf', 'clasifier__gamma': 0.01, 'clasifier__C': 10}\n",
      "Mejores puntuaciones: 0.7650 | Params: {'selector__k': 200, 'clasifier__kernel': 'rbf', 'clasifier__gamma': 0.01, 'clasifier__C': 10}\n",
      "Media de las puntuaciones: 0.7650 | Params: {'selector__k': 200, 'clasifier__kernel': 'rbf', 'clasifier__gamma': 0.01, 'clasifier__C': 10}\n",
      "20231030T184928 : amilcar32 : INFO : Fin resultados\n"
     ]
    }
   ],
   "source": [
    "myfunc.ver_resultados_search(random_search)"
   ]
  },
  {
   "cell_type": "markdown",
   "id": "dabb7cb2",
   "metadata": {
    "papermill": {
     "duration": 0.003999,
     "end_time": "2023-10-30T17:49:28.657933",
     "exception": false,
     "start_time": "2023-10-30T17:49:28.653934",
     "status": "completed"
    },
    "tags": []
   },
   "source": [
    "#### Ver métricas del mejor modelo"
   ]
  },
  {
   "cell_type": "code",
   "execution_count": 10,
   "id": "46cb00ef",
   "metadata": {
    "execution": {
     "iopub.execute_input": "2023-10-30T17:49:28.666060Z",
     "iopub.status.busy": "2023-10-30T17:49:28.665060Z",
     "iopub.status.idle": "2023-10-30T17:49:29.164262Z",
     "shell.execute_reply": "2023-10-30T17:49:29.164262Z"
    },
    "papermill": {
     "duration": 0.505254,
     "end_time": "2023-10-30T17:49:29.166256",
     "exception": false,
     "start_time": "2023-10-30T17:49:28.661002",
     "status": "completed"
    },
    "tags": []
   },
   "outputs": [
    {
     "name": "stdout",
     "output_type": "stream",
     "text": [
      "20231030T184928 : amilcar32 : INFO : Inicio ver métricas multiclase\n"
     ]
    },
    {
     "name": "stdout",
     "output_type": "stream",
     "text": [
      "              precision    recall  f1-score   support\n",
      "\n",
      "           0       0.50      0.09      0.15        11\n",
      "           1       0.71      0.62      0.67         8\n",
      "           2       0.00      0.00      0.00         8\n",
      "           3       0.10      0.20      0.13         5\n",
      "           4       0.78      0.88      0.82         8\n",
      "           5       0.20      0.17      0.18         6\n",
      "           6       0.25      0.67      0.36         6\n",
      "\n",
      "    accuracy                           0.37        52\n",
      "   macro avg       0.36      0.37      0.33        52\n",
      "weighted avg       0.40      0.37      0.34        52\n",
      "\n",
      "\n",
      "\n",
      "           Exactitud: 0.365385\n",
      "   Precisión (media): 0.363152\n",
      "      Recall (media): 0.374892\n",
      "    F1-score (media): 0.331833\n",
      "\n",
      "\n",
      "AUC para el tipo de cáncer 0-Control.... 0.4435\n",
      "AUC para el tipo de cáncer 1-Bladder.... 0.8210\n",
      "AUC para el tipo de cáncer 2-Breast..... 0.6676\n",
      "AUC para el tipo de cáncer 3-Colorectal. 0.7617\n",
      "AUC para el tipo de cáncer 4-Kidney..... 0.9744\n",
      "AUC para el tipo de cáncer 5-Lung....... 0.8696\n",
      "AUC para el tipo de cáncer 6-Prostate... 0.7862\n",
      "\n",
      "Media de AUC: 0.7606\n"
     ]
    },
    {
     "data": {
      "image/png": "[encoded data removed]",
      "text/plain": [
       "<Figure size 1000x600 with 1 Axes>"
      ]
     },
     "metadata": {},
     "output_type": "display_data"
    },
    {
     "name": "stdout",
     "output_type": "stream",
     "text": [
      "\n",
      "\n"
     ]
    },
    {
     "data": {
      "image/png": "[encoded data removed]",
      "text/plain": [
       "<Figure size 800x400 with 2 Axes>"
      ]
     },
     "metadata": {},
     "output_type": "display_data"
    },
    {
     "name": "stdout",
     "output_type": "stream",
     "text": [
      "\n",
      "\n",
      "Puntuación Jaccard para el cáncer tipo 0-Control.... 0.0833\n",
      "Puntuación Jaccard para el cáncer tipo 1-Bladder.... 0.5000\n",
      "Puntuación Jaccard para el cáncer tipo 2-Breast..... 0.0000\n",
      "Puntuación Jaccard para el cáncer tipo 3-Colorectal. 0.0714\n",
      "Puntuación Jaccard para el cáncer tipo 4-Kidney..... 0.7000\n",
      "Puntuación Jaccard para el cáncer tipo 5-Lung....... 0.1000\n",
      "Puntuación Jaccard para el cáncer tipo 6-Prostate... 0.2222\n",
      "\n",
      "Media de la puntuación de Jaccard: 0.2396\n"
     ]
    }
   ],
   "source": [
    "if M_TIPO.startswith(\"bin\"):\n",
    "    myfunc.ver_metricas(mejor_modelo, X_test, y_test)\n",
    "else:\n",
    "    myfunc.ver_metricas_multi(mejor_modelo, X_test, y_test)\n"
   ]
  },
  {
   "cell_type": "markdown",
   "id": "dfe79faf",
   "metadata": {
    "papermill": {
     "duration": 0.006005,
     "end_time": "2023-10-30T17:49:29.176791",
     "exception": false,
     "start_time": "2023-10-30T17:49:29.170786",
     "status": "completed"
    },
    "tags": []
   },
   "source": [
    "#### Finalización del notebook"
   ]
  },
  {
   "cell_type": "code",
   "execution_count": 11,
   "id": "8efc7dc2",
   "metadata": {
    "execution": {
     "iopub.execute_input": "2023-10-30T17:49:29.186797Z",
     "iopub.status.busy": "2023-10-30T17:49:29.185756Z",
     "iopub.status.idle": "2023-10-30T17:49:29.196036Z",
     "shell.execute_reply": "2023-10-30T17:49:29.196036Z"
    },
    "papermill": {
     "duration": 0.016798,
     "end_time": "2023-10-30T17:49:29.197093",
     "exception": false,
     "start_time": "2023-10-30T17:49:29.180295",
     "status": "completed"
    },
    "tags": []
   },
   "outputs": [
    {
     "name": "stdout",
     "output_type": "stream",
     "text": [
      "20231030T184929 : amilcar32 : INFO : Notebook ha tardado 2 seconds\n"
     ]
    }
   ],
   "source": [
    "end_time = datetime.datetime.now()\n",
    "total_time = end_time - start_time\n",
    "myfunc.verbose(f\"Notebook ha tardado {total_time.seconds} seconds\")"
   ]
  },
  {
   "cell_type": "markdown",
   "id": "a7c855c2",
   "metadata": {
    "papermill": {
     "duration": 0.004993,
     "end_time": "2023-10-30T17:49:29.206767",
     "exception": false,
     "start_time": "2023-10-30T17:49:29.201774",
     "status": "completed"
    },
    "tags": []
   },
   "source": [
    "#### Guardar métricas"
   ]
  },
  {
   "cell_type": "code",
   "execution_count": 12,
   "id": "f8aa9ba4",
   "metadata": {
    "execution": {
     "iopub.execute_input": "2023-10-30T17:49:29.216662Z",
     "iopub.status.busy": "2023-10-30T17:49:29.216662Z",
     "iopub.status.idle": "2023-10-30T17:49:29.417846Z",
     "shell.execute_reply": "2023-10-30T17:49:29.417846Z"
    },
    "papermill": {
     "duration": 0.208422,
     "end_time": "2023-10-30T17:49:29.419843",
     "exception": false,
     "start_time": "2023-10-30T17:49:29.211421",
     "status": "completed"
    },
    "tags": []
   },
   "outputs": [
    {
     "name": "stdout",
     "output_type": "stream",
     "text": [
      "20231030T184929 : amilcar32 : INFO : Inicio guardar métricas multiclase\n",
      "20231030T184929 : amilcar32 : INFO : Inicio leer fichero ..\\tfm_viu\\ejecuciones\\metricas\\metricas_6578.csv\n",
      "20231030T184929 : amilcar32 : INFO : Fin leer fichero ..\\tfm_viu\\ejecuciones\\metricas\\metricas_6578.csv\n"
     ]
    },
    {
     "name": "stdout",
     "output_type": "stream",
     "text": [
      "20231030T184929 : amilcar32 : INFO : Inicio guardar fichero ..\\tfm_viu\\ejecuciones\\metricas\\metricas_6578.csv\n"
     ]
    },
    {
     "name": "stdout",
     "output_type": "stream",
     "text": [
      "20231030T184929 : amilcar32 : INFO : Fichero borrado ..\\tfm_viu\\ejecuciones\\metricas\\metricas_6578.csv\n",
      "20231030T184929 : amilcar32 : INFO : Fin guardar fichero ..\\tfm_viu\\ejecuciones\\metricas\\metricas_6578.csv\n",
      "20231030T184929 : amilcar32 : INFO : Fin guardar métricas multiclase\n",
      "20231030T184929 : amilcar32 : INFO : Inicio leer fichero ..\\tfm_viu\\ejecuciones\\metricas\\metricas_6578.csv\n",
      "20231030T184929 : amilcar32 : INFO : Fin leer fichero ..\\tfm_viu\\ejecuciones\\metricas\\metricas_6578.csv\n"
     ]
    },
    {
     "data": {
      "text/html": [
       "<div>\n",
       "<style scoped>\n",
       "    .dataframe tbody tr th:only-of-type {\n",
       "        vertical-align: middle;\n",
       "    }\n",
       "\n",
       "    .dataframe tbody tr th {\n",
       "        vertical-align: top;\n",
       "    }\n",
       "\n",
       "    .dataframe thead th {\n",
       "        text-align: right;\n",
       "    }\n",
       "</style>\n",
       "<table border=\"1\" class=\"dataframe\">\n",
       "  <thead>\n",
       "    <tr style=\"text-align: right;\">\n",
       "      <th></th>\n",
       "      <th>tipo</th>\n",
       "      <th>select</th>\n",
       "      <th>clasific</th>\n",
       "      <th>semilla</th>\n",
       "      <th>accuracy</th>\n",
       "      <th>precision</th>\n",
       "      <th>recall</th>\n",
       "      <th>f1_score</th>\n",
       "      <th>roc_auc</th>\n",
       "      <th>hostname</th>\n",
       "      <th>total_time_sec</th>\n",
       "      <th>datetime</th>\n",
       "      <th>fichero_modelo</th>\n",
       "      <th>params</th>\n",
       "      <th>shape</th>\n",
       "      <th>features</th>\n",
       "      <th>roc_auc_ovr</th>\n",
       "      <th>indices_auc</th>\n",
       "      <th>indices_jaccard</th>\n",
       "    </tr>\n",
       "  </thead>\n",
       "  <tbody>\n",
       "    <tr>\n",
       "      <th>0</th>\n",
       "      <td>mul_s</td>\n",
       "      <td>ANOVA</td>\n",
       "      <td>SVM</td>\n",
       "      <td>6578</td>\n",
       "      <td>0.365385</td>\n",
       "      <td>0.363152</td>\n",
       "      <td>0.374892</td>\n",
       "      <td>0.331833</td>\n",
       "      <td>NaN</td>\n",
       "      <td>amilcar32</td>\n",
       "      <td>2</td>\n",
       "      <td>2023-10-30 18:49:29.375647</td>\n",
       "      <td>modelo_6578_mul_s_ANOVA_SVM.pkl</td>\n",
       "      <td>{'selector__k': 200, 'clasifier__kernel': 'rbf...</td>\n",
       "      <td>X_test:(52, 18875)</td>\n",
       "      <td>['ENSG00000000938.13', 'ENSG00000005381.9', 'E...</td>\n",
       "      <td>0.760575</td>\n",
       "      <td>[0.44345898004434586, 0.8210227272727272, 0.66...</td>\n",
       "      <td>[0.08333333333333333, 0.5, 0.0, 0.071428571428...</td>\n",
       "    </tr>\n",
       "    <tr>\n",
       "      <th>0</th>\n",
       "      <td>mul_s</td>\n",
       "      <td>ANOVA</td>\n",
       "      <td>RF</td>\n",
       "      <td>6578</td>\n",
       "      <td>0.326923</td>\n",
       "      <td>0.296898</td>\n",
       "      <td>0.327273</td>\n",
       "      <td>0.299360</td>\n",
       "      <td>NaN</td>\n",
       "      <td>amilcar32</td>\n",
       "      <td>22</td>\n",
       "      <td>2023-10-30 18:49:20.857027</td>\n",
       "      <td>modelo_6578_mul_s_ANOVA_RF.pkl</td>\n",
       "      <td>{'selector__k': 500, 'clasifier__n_estimators'...</td>\n",
       "      <td>X_test:(52, 18875)</td>\n",
       "      <td>['ENSG00000000938.13', 'ENSG00000002919.15', '...</td>\n",
       "      <td>0.718273</td>\n",
       "      <td>[0.45232815964523276, 0.8267045454545454, 0.68...</td>\n",
       "      <td>[0.07142857142857142, 0.3333333333333333, 0.07...</td>\n",
       "    </tr>\n",
       "    <tr>\n",
       "      <th>0</th>\n",
       "      <td>mul_s</td>\n",
       "      <td>ANOVA</td>\n",
       "      <td>LR_L2</td>\n",
       "      <td>6578</td>\n",
       "      <td>0.576923</td>\n",
       "      <td>0.595563</td>\n",
       "      <td>0.591126</td>\n",
       "      <td>0.559642</td>\n",
       "      <td>NaN</td>\n",
       "      <td>amilcar32</td>\n",
       "      <td>611</td>\n",
       "      <td>2023-10-30 18:48:52.947318</td>\n",
       "      <td>modelo_6578_mul_s_ANOVA_LR_L2.pkl</td>\n",
       "      <td>{'selector__k': 1000, 'clasifier__solver': 'sa...</td>\n",
       "      <td>X_test:(52, 18875)</td>\n",
       "      <td>['ENSG00000000938.13', 'ENSG00000002834.19', '...</td>\n",
       "      <td>0.840903</td>\n",
       "      <td>[0.6452328159645233, 0.9034090909090908, 0.735...</td>\n",
       "      <td>[0.3125, 0.375, 0.2727272727272727, 0.3, 0.727...</td>\n",
       "    </tr>\n",
       "  </tbody>\n",
       "</table>\n",
       "</div>"
      ],
      "text/plain": [
       "    tipo select clasific  semilla  accuracy  precision    recall  f1_score  \\\n",
       "0  mul_s  ANOVA      SVM     6578  0.365385   0.363152  0.374892  0.331833   \n",
       "0  mul_s  ANOVA       RF     6578  0.326923   0.296898  0.327273  0.299360   \n",
       "0  mul_s  ANOVA    LR_L2     6578  0.576923   0.595563  0.591126  0.559642   \n",
       "\n",
       "   roc_auc   hostname  total_time_sec                    datetime  \\\n",
       "0      NaN  amilcar32               2  2023-10-30 18:49:29.375647   \n",
       "0      NaN  amilcar32              22  2023-10-30 18:49:20.857027   \n",
       "0      NaN  amilcar32             611  2023-10-30 18:48:52.947318   \n",
       "\n",
       "                      fichero_modelo  \\\n",
       "0    modelo_6578_mul_s_ANOVA_SVM.pkl   \n",
       "0     modelo_6578_mul_s_ANOVA_RF.pkl   \n",
       "0  modelo_6578_mul_s_ANOVA_LR_L2.pkl   \n",
       "\n",
       "                                              params               shape  \\\n",
       "0  {'selector__k': 200, 'clasifier__kernel': 'rbf...  X_test:(52, 18875)   \n",
       "0  {'selector__k': 500, 'clasifier__n_estimators'...  X_test:(52, 18875)   \n",
       "0  {'selector__k': 1000, 'clasifier__solver': 'sa...  X_test:(52, 18875)   \n",
       "\n",
       "                                            features  roc_auc_ovr  \\\n",
       "0  ['ENSG00000000938.13', 'ENSG00000005381.9', 'E...     0.760575   \n",
       "0  ['ENSG00000000938.13', 'ENSG00000002919.15', '...     0.718273   \n",
       "0  ['ENSG00000000938.13', 'ENSG00000002834.19', '...     0.840903   \n",
       "\n",
       "                                         indices_auc  \\\n",
       "0  [0.44345898004434586, 0.8210227272727272, 0.66...   \n",
       "0  [0.45232815964523276, 0.8267045454545454, 0.68...   \n",
       "0  [0.6452328159645233, 0.9034090909090908, 0.735...   \n",
       "\n",
       "                                     indices_jaccard  \n",
       "0  [0.08333333333333333, 0.5, 0.0, 0.071428571428...  \n",
       "0  [0.07142857142857142, 0.3333333333333333, 0.07...  \n",
       "0  [0.3125, 0.375, 0.2727272727272727, 0.3, 0.727...  "
      ]
     },
     "metadata": {},
     "output_type": "display_data"
    }
   ],
   "source": [
    "if M_TIPO.startswith(\"bin\"):\n",
    "    myfunc.save_metricas_to_csv(random_search, X_test, y_test, M_TIPO, M_SELECT, M_CLASIF, total_time, SEMILLA, myfunc.MET_DIR, M_FICHERO, fichero_modelo)\n",
    "else:\n",
    "    myfunc.save_metricas_multi_to_csv(random_search, X_test, y_test, M_TIPO, M_SELECT, M_CLASIF, total_time, SEMILLA, myfunc.MET_DIR, M_FICHERO, fichero_modelo)\n",
    "\n",
    "df1=myfunc.read_metricas_to_df(myfunc.MET_DIR,M_FICHERO)\n",
    "\n",
    "display(df1.sort_values(\"datetime\", ascending=False)[:3])\n"
   ]
  },
  {
   "cell_type": "markdown",
   "id": "f530c96e",
   "metadata": {
    "papermill": {
     "duration": 0.004519,
     "end_time": "2023-10-30T17:49:29.429871",
     "exception": false,
     "start_time": "2023-10-30T17:49:29.425352",
     "status": "completed"
    },
    "tags": []
   },
   "source": [
    "#### Guardar resultados"
   ]
  },
  {
   "cell_type": "code",
   "execution_count": 13,
   "id": "d71539a2",
   "metadata": {
    "execution": {
     "iopub.execute_input": "2023-10-30T17:49:29.439988Z",
     "iopub.status.busy": "2023-10-30T17:49:29.439988Z",
     "iopub.status.idle": "2023-10-30T17:49:29.450500Z",
     "shell.execute_reply": "2023-10-30T17:49:29.450190Z"
    },
    "papermill": {
     "duration": 0.016618,
     "end_time": "2023-10-30T17:49:29.451507",
     "exception": false,
     "start_time": "2023-10-30T17:49:29.434889",
     "status": "completed"
    },
    "tags": []
   },
   "outputs": [
    {
     "name": "stdout",
     "output_type": "stream",
     "text": [
      "20231030T184929 : amilcar32 : INFO : Inicio guardar resultados\n",
      "20231030T184929 : amilcar32 : INFO : Inicio guardar fichero ..\\tfm_viu\\ejecuciones\\metricas\\resultados_6578_mul_s-ANOVA-SVM.csv\n",
      "20231030T184929 : amilcar32 : INFO : Fin guardar fichero ..\\tfm_viu\\ejecuciones\\metricas\\resultados_6578_mul_s-ANOVA-SVM.csv\n",
      "20231030T184929 : amilcar32 : INFO : Fin guardar resultados\n"
     ]
    }
   ],
   "source": [
    "fichero_resultados=R_FICHERO+\"_\"+M_TIPO+\"-\"+M_SELECT+\"-\"+M_CLASIF+\".csv\"\n",
    "myfunc.save_resultados_to_csv(M_TIPO, M_SELECT, M_CLASIF,  random_search, myfunc.MET_DIR, fichero_resultados)\n"
   ]
  }
 ],
 "metadata": {
  "kernelspec": {
   "display_name": "Python 3 (ipykernel)",
   "language": "python",
   "name": "python3"
  },
  "language_info": {
   "codemirror_mode": {
    "name": "ipython",
    "version": 3
   },
   "file_extension": ".py",
   "mimetype": "text/x-python",
   "name": "python",
   "nbconvert_exporter": "python",
   "pygments_lexer": "ipython3",
   "version": "3.10.12"
  },
  "papermill": {
   "default_parameters": {},
   "duration": 6.48928,
   "end_time": "2023-10-30T17:49:30.031834",
   "environment_variables": {},
   "exception": null,
   "input_path": "03_entrenamiento.ipynb",
   "output_path": "ejecuciones\\training\\03_entrenamiento.20231030T184922.param_0000_6578_mul_s_ANOVA_SVM.output.ipynb",
   "parameters": {
    "MAX_ITERS": 500,
    "M_CLASIF": "SVM",
    "M_FICHERO": "metricas_6578",
    "M_SELECT": "ANOVA",
    "M_TIPO": "mul_s",
    "PRE_DATA_FILE": "rows_transpose_norm_by_gene_id_with_target_num_",
    "P_FICHERO": "param_0000_6578_mul_s_ANOVA_SVM.yaml",
    "R_FICHERO": "resultados_6578",
    "SCORING": "roc_auc_ovr",
    "SEMILLA": 6578,
    "eval_clasifier": "SVC(probability=True, random_state=SEMILLA)",
    "eval_selector": "SelectKBest(score_func=f_classif)",
    "param_distributions": {
     "clasifier__C": [
      10
     ],
     "clasifier__gamma": [
      0.01
     ],
     "clasifier__kernel": [
      "rbf"
     ],
     "selector__k": [
      200
     ]
    }
   },
   "start_time": "2023-10-30T17:49:23.542554",
   "version": "2.4.0"
  }
 },
 "nbformat": 4,
 "nbformat_minor": 5
}