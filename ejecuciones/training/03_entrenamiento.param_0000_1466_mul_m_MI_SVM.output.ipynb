{
 "cells": [
  {
   "cell_type": "markdown",
   "id": "0fc368a8",
   "metadata": {
    "papermill": {
     "duration": 0.003207,
     "end_time": "2023-10-30T01:17:45.609556",
     "exception": false,
     "start_time": "2023-10-30T01:17:45.606349",
     "status": "completed"
    },
    "tags": []
   },
   "source": [
    "##### Inicio"
   ]
  },
  {
   "cell_type": "markdown",
   "id": "b820f2d6",
   "metadata": {
    "papermill": {
     "duration": 0.0024,
     "end_time": "2023-10-30T01:17:45.614558",
     "exception": false,
     "start_time": "2023-10-30T01:17:45.612158",
     "status": "completed"
    },
    "tags": []
   },
   "source": [
    "#### Carga de datos"
   ]
  },
  {
   "cell_type": "code",
   "execution_count": 1,
   "id": "e3795ede",
   "metadata": {
    "execution": {
     "iopub.execute_input": "2023-10-30T01:17:45.620661Z",
     "iopub.status.busy": "2023-10-30T01:17:45.620397Z",
     "iopub.status.idle": "2023-10-30T01:17:46.483204Z",
     "shell.execute_reply": "2023-10-30T01:17:46.482629Z"
    },
    "papermill": {
     "duration": 0.867616,
     "end_time": "2023-10-30T01:17:46.484632",
     "exception": false,
     "start_time": "2023-10-30T01:17:45.617016",
     "status": "completed"
    },
    "tags": []
   },
   "outputs": [
    {
     "name": "stdout",
     "output_type": "stream",
     "text": [
      "CPU_COUNT: 8; NODE: amilcar22; sys.version: 3.10.12 (main, Jul  5 2023, 19:22:19) [GCC 11.2.0]\n",
      "LOKY_MAX_CPU_COUNT: 6\n",
      "OMP_NUM_THREADS: 2\n"
     ]
    }
   ],
   "source": [
    "import os\n",
    "import numpy as np\n",
    "import pandas as pd\n",
    "import datetime\n",
    "import sklearn\n",
    "import logging\n",
    "import warnings\n",
    "\n",
    "from sklearn.pipeline import Pipeline\n",
    "from sklearn.model_selection import RandomizedSearchCV, KFold, cross_val_score, train_test_split\n",
    "from sklearn.metrics import accuracy_score, confusion_matrix, classification_report, roc_auc_score\n",
    "\n",
    "#  cargar algoritmos para aprendizaje supervisado\n",
    "from sklearn.feature_selection import SelectKBest, f_classif, SelectFromModel, mutual_info_classif\n",
    "from sklearn.svm import SVC\n",
    "from sklearn.ensemble import RandomForestClassifier\n",
    "from sklearn.linear_model import LogisticRegression,LogisticRegressionCV\n",
    "\n",
    "# importar fichero con utilidades propias\n",
    "from commons import myfunctions as myfunc\n"
   ]
  },
  {
   "cell_type": "markdown",
   "id": "3fd7b427",
   "metadata": {
    "papermill": {
     "duration": 0.00267,
     "end_time": "2023-10-30T01:17:46.490397",
     "exception": false,
     "start_time": "2023-10-30T01:17:46.487727",
     "status": "completed"
    },
    "tags": []
   },
   "source": [
    "#### Parámetros a utilizar en el entrenamiento.\n",
    "\n",
    "Se indican los 3 algoritmos de *selección de características* (eval_selector_xxx) y los 3 algoritmos para la _clasificación_ (eval_clasifier_xxx)\n",
    "\n",
    "En *param_distributions* se indicar los parámetros que utilizan los algoritmos en la función RandomSearchCV.\n",
    "\n",
    "Esta celda tiene la etiqueta **parameters** que servirá para poder lanzar los entrenamientos con la utilidad **papermill** pasándole un fichero con los parámetros. Los nuevos parámetros se situarán tras esta celda para tener prevalencia."
   ]
  },
  {
   "cell_type": "code",
   "execution_count": 2,
   "id": "14bc9f37",
   "metadata": {
    "execution": {
     "iopub.execute_input": "2023-10-30T01:17:46.496451Z",
     "iopub.status.busy": "2023-10-30T01:17:46.496183Z",
     "iopub.status.idle": "2023-10-30T01:17:46.503215Z",
     "shell.execute_reply": "2023-10-30T01:17:46.502751Z"
    },
    "papermill": {
     "duration": 0.011471,
     "end_time": "2023-10-30T01:17:46.504381",
     "exception": false,
     "start_time": "2023-10-30T01:17:46.492910",
     "status": "completed"
    },
    "tags": [
     "parameters"
    ]
   },
   "outputs": [
    {
     "name": "stdout",
     "output_type": "stream",
     "text": [
      "20231030T021746 : amilcar22 : INFO : Utilizando parámetros de mul_m\n"
     ]
    }
   ],
   "source": [
    "#  Parametros para el entrenamiento\n",
    "\n",
    "SEMILLA=        42\n",
    "M_TIPO=         \"mul_m\"\n",
    "M_SELECT=       \"MI\"\n",
    "M_CLASIF=       \"SVM\"\n",
    "R_FICHERO=      \"resultados\"\n",
    "M_FICHERO=      \"metricas\"\n",
    "PRE_DATA_FILE=  \"rows_transpose_norm_by_gene_id_with_target_num_\"\n",
    "SCORING=        \"roc_auc_ovr\" \n",
    "MAX_ITERS=      100\n",
    "\n",
    "def mutual_info_classif_state(X, y):\n",
    "    return mutual_info_classif(X, y, random_state=SEMILLA)\n",
    "\n",
    "eval_selector_mi = \"SelectKBest(score_func=mutual_info_classif_state)\"\n",
    "eval_selector_rf=  \"SelectFromModel(estimator=RandomForestClassifier(random_state=SEMILLA), threshold=-np.inf)\"\n",
    "eval_selector_anova=  \"SelectKBest(score_func=f_classif)\"\n",
    "\n",
    "eval_clasifier_svm= \"SVC(probability=True, random_state=SEMILLA)\"\n",
    "eval_clasifier_rf= \"RandomForestClassifier(random_state=SEMILLA)\"\n",
    "eval_clasifier_lr= \"LogisticRegressionCV(random_state=SEMILLA)\"\n",
    "\n",
    "if M_TIPO.startswith(\"bin_m\"):\n",
    "    myfunc.verbose(f\"Utilizando parámetros de {M_TIPO}\")\n",
    "    eval_selector = eval_selector_mi\n",
    "    eval_clasifier = eval_clasifier_svm\n",
    "\n",
    "    SEMILLA = 6578\n",
    "    M_SELECT = \"MI\"\n",
    "    M_CLASIF = \"SVM\"\n",
    "    param_distributions = {'selector__k': [1000], \n",
    "         'clasifier__kernel': ['rbf'], 'clasifier__gamma': [0.01], 'clasifier__C': [100]}\n",
    "elif M_TIPO.startswith(\"bin_s\"):\n",
    "    myfunc.verbose(f\"Utilizando parámetros de {M_TIPO}\")\n",
    "    eval_selector = eval_selector_rf\n",
    "    eval_clasifier = eval_clasifier_lr\n",
    "\n",
    "    SEMILLA = 6191\n",
    "    M_SELECT = \"RF\"\n",
    "    M_CLASIF = \"LR_L2\"\n",
    "    param_distributions = {'selector__max_features': [1000], 'selector__estimator__n_estimators': [200], \n",
    "        'clasifier__solver': ['lbfgs'], 'clasifier__penalty': ['l2'], 'clasifier__max_iter': [10000]}\n",
    "\n",
    "elif M_TIPO.startswith(\"mul_m\"):\n",
    "    myfunc.verbose(f\"Utilizando parámetros de {M_TIPO}\")\n",
    " \n",
    "    eval_selector = eval_selector_rf\n",
    "    eval_clasifier = eval_clasifier_lr\n",
    "\n",
    "    SEMILLA = 6191\n",
    "    M_SELECT = \"RF\"\n",
    "    M_CLASIF = \"LR_L2\"\n",
    "    param_distributions = {'selector__max_features': [1000], 'selector__estimator__n_estimators': [400], \n",
    "        'clasifier__solver': ['lbfgs'], 'clasifier__penalty': ['l2'], 'clasifier__max_iter': [10000]}\n",
    "\n",
    "else:\n",
    "    # M_TIPO.startswith(\"mul_s\"):\n",
    "    myfunc.verbose(f\"Utilizando parámetros de {M_TIPO}\")\n",
    "    eval_selector = eval_selector_anova\n",
    "    eval_clasifier = eval_clasifier_lr\n",
    "\n",
    "    SEMILLA = 1860\n",
    "    M_SELECT = \"ANOVA\"\n",
    "    M_CLASIF = \"LR_L2\"\n",
    "    param_distributions = {'selector__k': [1000], \n",
    "        'clasifier__solver': ['saga'], 'clasifier__penalty': ['l2'], 'clasifier__max_iter': [10000]}\n",
    "\n"
   ]
  },
  {
   "cell_type": "code",
   "execution_count": 3,
   "id": "3c87aadb",
   "metadata": {
    "execution": {
     "iopub.execute_input": "2023-10-30T01:17:46.510728Z",
     "iopub.status.busy": "2023-10-30T01:17:46.510534Z",
     "iopub.status.idle": "2023-10-30T01:17:46.513906Z",
     "shell.execute_reply": "2023-10-30T01:17:46.513504Z"
    },
    "papermill": {
     "duration": 0.007804,
     "end_time": "2023-10-30T01:17:46.515073",
     "exception": false,
     "start_time": "2023-10-30T01:17:46.507269",
     "status": "completed"
    },
    "tags": [
     "injected-parameters"
    ]
   },
   "outputs": [],
   "source": [
    "# Parameters\n",
    "M_TIPO = \"mul_m\"\n",
    "M_SELECT = \"MI\"\n",
    "M_CLASIF = \"SVM\"\n",
    "P_FICHERO = \"param_0000_1466_mul_m_MI_SVM.yaml\"\n",
    "R_FICHERO = \"resultados_1466\"\n",
    "M_FICHERO = \"metricas_1466\"\n",
    "PRE_DATA_FILE = \"rows_transpose_norm_by_gene_id_with_target_num_\"\n",
    "SCORING = \"roc_auc_ovr\"\n",
    "SEMILLA = 1466\n",
    "MAX_ITERS = 500\n",
    "eval_selector = \"SelectKBest(score_func=mutual_info_classif_state)\"\n",
    "eval_clasifier = \"SVC(probability=True, random_state=SEMILLA)\"\n",
    "param_distributions = {\n",
    "    \"selector__k\": [1000],\n",
    "    \"clasifier__kernel\": [\"rbf\"],\n",
    "    \"clasifier__gamma\": [0.001],\n",
    "    \"clasifier__C\": [100],\n",
    "}\n"
   ]
  },
  {
   "cell_type": "code",
   "execution_count": 4,
   "id": "3d2c8931",
   "metadata": {
    "execution": {
     "iopub.execute_input": "2023-10-30T01:17:46.521577Z",
     "iopub.status.busy": "2023-10-30T01:17:46.521401Z",
     "iopub.status.idle": "2023-10-30T01:17:46.524604Z",
     "shell.execute_reply": "2023-10-30T01:17:46.524108Z"
    },
    "papermill": {
     "duration": 0.007808,
     "end_time": "2023-10-30T01:17:46.525844",
     "exception": false,
     "start_time": "2023-10-30T01:17:46.518036",
     "status": "completed"
    },
    "tags": []
   },
   "outputs": [],
   "source": [
    "DATA_FILE = PRE_DATA_FILE + M_TIPO\n",
    "\n",
    "# si viene \"None\" en el parámetro max_depth, se le quitan las comillas para que no sea entendido por el algoritmo como un texto\n",
    "if \"clasifier__max_depth\" in param_distributions:\n",
    "    param_distributions['clasifier__max_depth'] = [None if x == 'None' else x for x in param_distributions['clasifier__max_depth']]"
   ]
  },
  {
   "cell_type": "markdown",
   "id": "37591065",
   "metadata": {
    "papermill": {
     "duration": 0.002944,
     "end_time": "2023-10-30T01:17:46.531815",
     "exception": false,
     "start_time": "2023-10-30T01:17:46.528871",
     "status": "completed"
    },
    "tags": []
   },
   "source": [
    "Asignar los algoritmos que se utilizarán en la función RandomSearchCV"
   ]
  },
  {
   "cell_type": "code",
   "execution_count": 5,
   "id": "75a5492b",
   "metadata": {
    "execution": {
     "iopub.execute_input": "2023-10-30T01:17:46.538599Z",
     "iopub.status.busy": "2023-10-30T01:17:46.538419Z",
     "iopub.status.idle": "2023-10-30T01:17:46.541172Z",
     "shell.execute_reply": "2023-10-30T01:17:46.540673Z"
    },
    "papermill": {
     "duration": 0.007588,
     "end_time": "2023-10-30T01:17:46.542435",
     "exception": false,
     "start_time": "2023-10-30T01:17:46.534847",
     "status": "completed"
    },
    "tags": []
   },
   "outputs": [],
   "source": [
    "algor_selector=eval(eval_selector)\n",
    "algor_clasifier=eval(eval_clasifier)"
   ]
  },
  {
   "cell_type": "markdown",
   "id": "9b1b0878",
   "metadata": {
    "papermill": {
     "duration": 0.003413,
     "end_time": "2023-10-30T01:17:46.549250",
     "exception": false,
     "start_time": "2023-10-30T01:17:46.545837",
     "status": "completed"
    },
    "tags": []
   },
   "source": [
    "#### Comprobar el entorno y leer fichero de muestras"
   ]
  },
  {
   "cell_type": "code",
   "execution_count": 6,
   "id": "87cbc10a",
   "metadata": {
    "execution": {
     "iopub.execute_input": "2023-10-30T01:17:46.556780Z",
     "iopub.status.busy": "2023-10-30T01:17:46.556597Z",
     "iopub.status.idle": "2023-10-30T01:17:46.718534Z",
     "shell.execute_reply": "2023-10-30T01:17:46.717997Z"
    },
    "papermill": {
     "duration": 0.167226,
     "end_time": "2023-10-30T01:17:46.719880",
     "exception": false,
     "start_time": "2023-10-30T01:17:46.552654",
     "status": "completed"
    },
    "tags": []
   },
   "outputs": [
    {
     "name": "stdout",
     "output_type": "stream",
     "text": [
      "20231030T021746 : amilcar22 : INFO : Encontrada carpeta DATA_DIR=../tfm_git/datos\n",
      "20231030T021746 : amilcar22 : INFO : Encontrada carpeta CFDNA_DIR=../tfm_git/datos/cfDNA_5hmC\n",
      "20231030T021746 : amilcar22 : INFO : Encontrada carpeta GENCODE_DIR=../tfm_git/datos/gencode\n",
      "20231030T021746 : amilcar22 : INFO : Encontrada carpeta H5_DIR=../tfm_git/datos/h5\n",
      "20231030T021746 : amilcar22 : INFO : Encontrada carpeta LOG_DIR=../tfm_git/datos/logs\n",
      "20231030T021746 : amilcar22 : INFO : Encontrada carpeta CSV_DIR=../tfm_git/datos/csv\n",
      "20231030T021746 : amilcar22 : INFO : Encontrada carpeta MODEL_DIR=../tfm_git/ejecuciones/modelos\n",
      "20231030T021746 : amilcar22 : INFO : Encontrada carpeta EXEC_DIR=../tfm_git/ejecuciones\n",
      "20231030T021746 : amilcar22 : INFO : Encontrada carpeta MET_DIR=../tfm_git/ejecuciones/metricas\n",
      "20231030T021746 : amilcar22 : INFO : Inicio leer fichero h5 ../tfm_git/datos/h5/rows_transpose_norm_by_gene_id_with_target_num_mul_m.h5\n",
      "20231030T021746 : amilcar22 : INFO : Leyendo clave /df\n",
      "20231030T021746 : amilcar22 : INFO : Tamaño (434, 18876)\n",
      "20231030T021746 : amilcar22 : INFO : Fin leer fichero h5 ../tfm_git/datos/h5/rows_transpose_norm_by_gene_id_with_target_num_mul_m.h5\n"
     ]
    },
    {
     "data": {
      "text/plain": [
       "target\n",
       "0    62\n",
       "1    62\n",
       "2    62\n",
       "3    62\n",
       "4    62\n",
       "5    62\n",
       "6    62\n",
       "dtype: int64"
      ]
     },
     "metadata": {},
     "output_type": "display_data"
    },
    {
     "name": "stdout",
     "output_type": "stream",
     "text": [
      "Shape df: (434, 18876)\n",
      "Shape X_train: (347, 18875)\n",
      "Shape X_test: (87, 18875)\n"
     ]
    }
   ],
   "source": [
    "start_time = datetime.datetime.now()\n",
    "\n",
    "myfunc.reset_vars()\n",
    "\n",
    "myfunc.NOTEBK_FILENAME = myfunc.get_nb_name()\n",
    "\n",
    "myfunc.check_enviroment(myfunc.DATA_DIR, myfunc.CFDNA_DIR, myfunc.GENCODE_DIR, myfunc.H5_DIR, myfunc.LOG_DIR, myfunc.CSV_DIR, myfunc.MODEL_DIR, myfunc.EXEC_DIR, myfunc.MET_DIR)\n",
    "\n",
    "# Leer fichero con las muestras\n",
    "df_t = myfunc.read_h5_to_df(DATA_FILE, myfunc.H5_DIR)\n",
    "display(df_t.groupby(\"target\").size())\n",
    "print(\"Shape df:\",df_t.shape)\n",
    "\n",
    "# Separar caracteristicas/genes de las etiquetas/tipos de cáncer\n",
    "X = df_t.iloc[:, :-1]  # Todas las columnas excepto la última\n",
    "y = df_t.iloc[:, -1]  # La última columna contiene los identificadores de los tipos de cáncer\n",
    "\n",
    "#  Crear el conjunto de datos de entrenamiento y de pruebas, y se fija la semilla para siempre coger el mismo juego de muestras\n",
    "X_train, X_test, y_train, y_test = train_test_split(X, y, test_size=0.2, shuffle=True, random_state=42)\n",
    "print(\"Shape X_train:\",X_train.shape)\n",
    "print(\"Shape X_test:\",X_test.shape)\n"
   ]
  },
  {
   "cell_type": "markdown",
   "id": "3900b52d",
   "metadata": {
    "papermill": {
     "duration": 0.002951,
     "end_time": "2023-10-30T01:17:46.726424",
     "exception": false,
     "start_time": "2023-10-30T01:17:46.723473",
     "status": "completed"
    },
    "tags": []
   },
   "source": [
    "#### Selección de características y clasificación."
   ]
  },
  {
   "cell_type": "code",
   "execution_count": 7,
   "id": "48ab4dc4",
   "metadata": {
    "execution": {
     "iopub.execute_input": "2023-10-30T01:17:46.732994Z",
     "iopub.status.busy": "2023-10-30T01:17:46.732805Z",
     "iopub.status.idle": "2023-10-30T01:21:09.200726Z",
     "shell.execute_reply": "2023-10-30T01:21:09.200121Z"
    },
    "papermill": {
     "duration": 202.47541,
     "end_time": "2023-10-30T01:21:09.204711",
     "exception": false,
     "start_time": "2023-10-30T01:17:46.729301",
     "status": "completed"
    },
    "tags": []
   },
   "outputs": [
    {
     "name": "stdout",
     "output_type": "stream",
     "text": [
      "20231030T021746 : amilcar22 : INFO : Iniciando entrenamiento\n",
      "num_iter: 1 , max_iter: 1\n",
      "Fitting 5 folds for each of 1 candidates, totalling 5 fits\n"
     ]
    },
    {
     "name": "stdout",
     "output_type": "stream",
     "text": [
      "Mejores Hiperparámetros: {'selector__k': 1000, 'clasifier__kernel': 'rbf', 'clasifier__gamma': 0.001, 'clasifier__C': 100}\n",
      "Mejor Puntuación: 0.8571\n",
      "20231030T022109 : amilcar22 : INFO : Fin entrenamiento\n"
     ]
    }
   ],
   "source": [
    "myfunc.verbose(\"Iniciando entrenamiento\")\n",
    "\n",
    "kf = KFold(n_splits=5, shuffle=True, random_state=SEMILLA)\n",
    "\n",
    "# Crear el pipeline para el flujo de tareas\n",
    "tasks_pipeline = Pipeline([\n",
    "    ('selector', algor_selector),\n",
    "    ('clasifier', algor_clasifier)\n",
    "])\n",
    "\n",
    "# MAX_ITERS puede limitar el número de iteraciones si son excesivas para las combinaciones de parámetros buscando un óptimo local, \n",
    "# sino funcionaría como GridSearchCV al revisar todas las cominaciones de los parámetros\n",
    "num_iteraciones = 1\n",
    "num_iteraciones = num_iteraciones * np.prod([len(elemento1) for _, elemento1 in param_distributions.items()])\n",
    "max_iteraciones = num_iteraciones if num_iteraciones <= MAX_ITERS else MAX_ITERS\n",
    "print(\"num_iter:\",num_iteraciones,\", max_iter:\",max_iteraciones)\n",
    "\n",
    "random_search = RandomizedSearchCV(\n",
    "    tasks_pipeline, \n",
    "    param_distributions, \n",
    "    n_iter=max_iteraciones,\n",
    "    scoring=SCORING,\n",
    "    cv=kf,\n",
    "    verbose=3, \n",
    "    random_state=SEMILLA, \n",
    "    n_jobs=-1\n",
    "    )\n",
    "\n",
    "# Entrenar el modelo\n",
    "random_search.fit(X_train, y_train)\n",
    "\n",
    "# Ver los mejores hiperparámetros encontrados\n",
    "print(f'Mejores Hiperparámetros: {random_search.best_params_}')\n",
    "print(f'Mejor Puntuación: {random_search.best_score_:.4f}')\n",
    "\n",
    "# Nos quedamos con el mejor modelo para ver las métricas\n",
    "mejor_modelo = random_search.best_estimator_\n",
    "\n",
    "myfunc.verbose(\"Fin entrenamiento\")"
   ]
  },
  {
   "cell_type": "markdown",
   "id": "954f0e68",
   "metadata": {
    "papermill": {
     "duration": 0.003378,
     "end_time": "2023-10-30T01:21:09.211324",
     "exception": false,
     "start_time": "2023-10-30T01:21:09.207946",
     "status": "completed"
    },
    "tags": []
   },
   "source": [
    "#### Guardar modelo"
   ]
  },
  {
   "cell_type": "code",
   "execution_count": 8,
   "id": "d6df4240",
   "metadata": {
    "execution": {
     "iopub.execute_input": "2023-10-30T01:21:09.218148Z",
     "iopub.status.busy": "2023-10-30T01:21:09.217949Z",
     "iopub.status.idle": "2023-10-30T01:21:09.226793Z",
     "shell.execute_reply": "2023-10-30T01:21:09.226205Z"
    },
    "papermill": {
     "duration": 0.013831,
     "end_time": "2023-10-30T01:21:09.228148",
     "exception": false,
     "start_time": "2023-10-30T01:21:09.214317",
     "status": "completed"
    },
    "tags": []
   },
   "outputs": [
    {
     "name": "stdout",
     "output_type": "stream",
     "text": [
      "20231030T022109 : amilcar22 : INFO : Inicio guardar fichero ../tfm_git/ejecuciones/modelos/modelo_1466_mul_m_MI_SVM.pkl\n",
      "20231030T022109 : amilcar22 : INFO : Fin guardar fichero ../tfm_git/ejecuciones/modelos/modelo_1466_mul_m_MI_SVM.pkl\n"
     ]
    }
   ],
   "source": [
    "fichero_modelo = str.replace(\"modelo_\"+str(SEMILLA).zfill(4)+\"_\"+M_TIPO+\"_\"+M_SELECT+\"_\"+M_CLASIF+\".pkl\", \" \", \"_\")\n",
    "\n",
    "myfunc.save_modelo(mejor_modelo, myfunc.MODEL_DIR, fichero_modelo)"
   ]
  },
  {
   "cell_type": "markdown",
   "id": "3f238de9",
   "metadata": {
    "papermill": {
     "duration": 0.003084,
     "end_time": "2023-10-30T01:21:09.234601",
     "exception": false,
     "start_time": "2023-10-30T01:21:09.231517",
     "status": "completed"
    },
    "tags": []
   },
   "source": [
    "#### Ver resultados del las iteraciones hechas por RandomSearchCV"
   ]
  },
  {
   "cell_type": "code",
   "execution_count": 9,
   "id": "e826eba2",
   "metadata": {
    "execution": {
     "iopub.execute_input": "2023-10-30T01:21:09.241598Z",
     "iopub.status.busy": "2023-10-30T01:21:09.241429Z",
     "iopub.status.idle": "2023-10-30T01:21:09.247157Z",
     "shell.execute_reply": "2023-10-30T01:21:09.246746Z"
    },
    "papermill": {
     "duration": 0.010589,
     "end_time": "2023-10-30T01:21:09.248347",
     "exception": false,
     "start_time": "2023-10-30T01:21:09.237758",
     "status": "completed"
    },
    "tags": []
   },
   "outputs": [
    {
     "name": "stdout",
     "output_type": "stream",
     "text": [
      "20231030T022109 : amilcar22 : INFO : Inicio ver resultados\n",
      "Mejores Hiperparámetros: {'selector__k': 1000, 'clasifier__kernel': 'rbf', 'clasifier__gamma': 0.001, 'clasifier__C': 100}\n",
      "Mejores puntuaciones: 0.8571 | Params: {'selector__k': 1000, 'clasifier__kernel': 'rbf', 'clasifier__gamma': 0.001, 'clasifier__C': 100}\n",
      "Media de las puntuaciones: 0.8571 | Params: {'selector__k': 1000, 'clasifier__kernel': 'rbf', 'clasifier__gamma': 0.001, 'clasifier__C': 100}\n",
      "20231030T022109 : amilcar22 : INFO : Fin resultados\n"
     ]
    }
   ],
   "source": [
    "myfunc.ver_resultados_search(random_search)"
   ]
  },
  {
   "cell_type": "markdown",
   "id": "bc9763ab",
   "metadata": {
    "papermill": {
     "duration": 0.003086,
     "end_time": "2023-10-30T01:21:09.254704",
     "exception": false,
     "start_time": "2023-10-30T01:21:09.251618",
     "status": "completed"
    },
    "tags": []
   },
   "source": [
    "#### Ver métricas del mejor modelo"
   ]
  },
  {
   "cell_type": "code",
   "execution_count": 10,
   "id": "ce76d0c4",
   "metadata": {
    "execution": {
     "iopub.execute_input": "2023-10-30T01:21:09.261899Z",
     "iopub.status.busy": "2023-10-30T01:21:09.261694Z",
     "iopub.status.idle": "2023-10-30T01:21:09.871288Z",
     "shell.execute_reply": "2023-10-30T01:21:09.870821Z"
    },
    "papermill": {
     "duration": 0.614823,
     "end_time": "2023-10-30T01:21:09.872598",
     "exception": false,
     "start_time": "2023-10-30T01:21:09.257775",
     "status": "completed"
    },
    "tags": []
   },
   "outputs": [
    {
     "name": "stdout",
     "output_type": "stream",
     "text": [
      "20231030T022109 : amilcar22 : INFO : Inicio ver métricas multiclase\n"
     ]
    },
    {
     "name": "stdout",
     "output_type": "stream",
     "text": [
      "              precision    recall  f1-score   support\n",
      "\n",
      "           0       0.45      0.31      0.37        16\n",
      "           1       0.64      0.47      0.54        15\n",
      "           2       0.25      0.27      0.26        11\n",
      "           3       0.67      0.80      0.73         5\n",
      "           4       0.56      0.69      0.62        13\n",
      "           5       0.50      0.56      0.53         9\n",
      "           6       0.48      0.56      0.51        18\n",
      "\n",
      "    accuracy                           0.49        87\n",
      "   macro avg       0.51      0.52      0.51        87\n",
      "weighted avg       0.50      0.49      0.49        87\n",
      "\n",
      "\n",
      "\n",
      "           Exactitud: 0.494253\n",
      "   Precisión (media): 0.506609\n",
      "      Recall (media): 0.522188\n",
      "    F1-score (media): 0.508114\n",
      "\n",
      "\n",
      "AUC para el tipo de cáncer 0-Control.... 0.7685\n",
      "AUC para el tipo de cáncer 1-Bladder.... 0.8102\n",
      "AUC para el tipo de cáncer 2-Breast..... 0.7344\n",
      "AUC para el tipo de cáncer 3-Colorectal. 0.8780\n",
      "AUC para el tipo de cáncer 4-Kidney..... 0.8046\n",
      "AUC para el tipo de cáncer 5-Lung....... 0.9046\n",
      "AUC para el tipo de cáncer 6-Prostate... 0.8752\n",
      "\n",
      "Media de AUC: 0.8251\n"
     ]
    },
    {
     "data": {
      "image/png": "[encoded data removed]",
      "text/plain": [
       "<Figure size 1000x600 with 1 Axes>"
      ]
     },
     "metadata": {},
     "output_type": "display_data"
    },
    {
     "name": "stdout",
     "output_type": "stream",
     "text": [
      "\n",
      "\n"
     ]
    },
    {
     "data": {
      "image/png": "[encoded data removed]",
      "text/plain": [
       "<Figure size 800x400 with 2 Axes>"
      ]
     },
     "metadata": {},
     "output_type": "display_data"
    },
    {
     "name": "stdout",
     "output_type": "stream",
     "text": [
      "\n",
      "\n",
      "Puntuación Jaccard para el cáncer tipo 0-Control.... 0.2273\n",
      "Puntuación Jaccard para el cáncer tipo 1-Bladder.... 0.3684\n",
      "Puntuación Jaccard para el cáncer tipo 2-Breast..... 0.1500\n",
      "Puntuación Jaccard para el cáncer tipo 3-Colorectal. 0.5714\n",
      "Puntuación Jaccard para el cáncer tipo 4-Kidney..... 0.4500\n",
      "Puntuación Jaccard para el cáncer tipo 5-Lung....... 0.3571\n",
      "Puntuación Jaccard para el cáncer tipo 6-Prostate... 0.3448\n",
      "\n",
      "Media de la puntuación de Jaccard: 0.3527\n"
     ]
    }
   ],
   "source": [
    "if M_TIPO.startswith(\"bin\"):\n",
    "    myfunc.ver_metricas(mejor_modelo, X_test, y_test)\n",
    "else:\n",
    "    myfunc.ver_metricas_multi(mejor_modelo, X_test, y_test)\n"
   ]
  },
  {
   "cell_type": "markdown",
   "id": "dba5a152",
   "metadata": {
    "papermill": {
     "duration": 0.004191,
     "end_time": "2023-10-30T01:21:09.881800",
     "exception": false,
     "start_time": "2023-10-30T01:21:09.877609",
     "status": "completed"
    },
    "tags": []
   },
   "source": [
    "#### Finalización del notebook"
   ]
  },
  {
   "cell_type": "code",
   "execution_count": 11,
   "id": "a00e6b06",
   "metadata": {
    "execution": {
     "iopub.execute_input": "2023-10-30T01:21:09.890822Z",
     "iopub.status.busy": "2023-10-30T01:21:09.890628Z",
     "iopub.status.idle": "2023-10-30T01:21:09.893891Z",
     "shell.execute_reply": "2023-10-30T01:21:09.893440Z"
    },
    "papermill": {
     "duration": 0.009175,
     "end_time": "2023-10-30T01:21:09.895028",
     "exception": false,
     "start_time": "2023-10-30T01:21:09.885853",
     "status": "completed"
    },
    "tags": []
   },
   "outputs": [
    {
     "name": "stdout",
     "output_type": "stream",
     "text": [
      "20231030T022109 : amilcar22 : INFO : Notebook ha tardado 203 seconds\n"
     ]
    }
   ],
   "source": [
    "end_time = datetime.datetime.now()\n",
    "total_time = end_time - start_time\n",
    "myfunc.verbose(f\"Notebook ha tardado {total_time.seconds} seconds\")"
   ]
  },
  {
   "cell_type": "markdown",
   "id": "0be960e0",
   "metadata": {
    "papermill": {
     "duration": 0.004162,
     "end_time": "2023-10-30T01:21:09.903657",
     "exception": false,
     "start_time": "2023-10-30T01:21:09.899495",
     "status": "completed"
    },
    "tags": []
   },
   "source": [
    "#### Guardar métricas"
   ]
  },
  {
   "cell_type": "code",
   "execution_count": 12,
   "id": "5ab899e6",
   "metadata": {
    "execution": {
     "iopub.execute_input": "2023-10-30T01:21:09.912847Z",
     "iopub.status.busy": "2023-10-30T01:21:09.912490Z",
     "iopub.status.idle": "2023-10-30T01:21:10.121246Z",
     "shell.execute_reply": "2023-10-30T01:21:10.120753Z"
    },
    "papermill": {
     "duration": 0.21477,
     "end_time": "2023-10-30T01:21:10.122561",
     "exception": false,
     "start_time": "2023-10-30T01:21:09.907791",
     "status": "completed"
    },
    "tags": []
   },
   "outputs": [
    {
     "name": "stdout",
     "output_type": "stream",
     "text": [
      "20231030T022109 : amilcar22 : INFO : Inicio guardar métricas multiclase\n",
      "20231030T022109 : amilcar22 : INFO : Inicio leer fichero ../tfm_git/ejecuciones/metricas/metricas_1466.csv\n",
      "20231030T022109 : amilcar22 : INFO : Fin leer fichero ../tfm_git/ejecuciones/metricas/metricas_1466.csv\n"
     ]
    },
    {
     "name": "stdout",
     "output_type": "stream",
     "text": [
      "20231030T022110 : amilcar22 : INFO : Inicio guardar fichero ../tfm_git/ejecuciones/metricas/metricas_1466.csv\n"
     ]
    },
    {
     "name": "stdout",
     "output_type": "stream",
     "text": [
      "20231030T022110 : amilcar22 : INFO : Fichero borrado ../tfm_git/ejecuciones/metricas/metricas_1466.csv\n",
      "20231030T022110 : amilcar22 : INFO : Fin guardar fichero ../tfm_git/ejecuciones/metricas/metricas_1466.csv\n",
      "20231030T022110 : amilcar22 : INFO : Fin guardar métricas multiclase\n",
      "20231030T022110 : amilcar22 : INFO : Inicio leer fichero ../tfm_git/ejecuciones/metricas/metricas_1466.csv\n",
      "20231030T022110 : amilcar22 : INFO : Fin leer fichero ../tfm_git/ejecuciones/metricas/metricas_1466.csv\n"
     ]
    },
    {
     "data": {
      "text/html": [
       "<div>\n",
       "<style scoped>\n",
       "    .dataframe tbody tr th:only-of-type {\n",
       "        vertical-align: middle;\n",
       "    }\n",
       "\n",
       "    .dataframe tbody tr th {\n",
       "        vertical-align: top;\n",
       "    }\n",
       "\n",
       "    .dataframe thead th {\n",
       "        text-align: right;\n",
       "    }\n",
       "</style>\n",
       "<table border=\"1\" class=\"dataframe\">\n",
       "  <thead>\n",
       "    <tr style=\"text-align: right;\">\n",
       "      <th></th>\n",
       "      <th>tipo</th>\n",
       "      <th>select</th>\n",
       "      <th>clasific</th>\n",
       "      <th>semilla</th>\n",
       "      <th>accuracy</th>\n",
       "      <th>precision</th>\n",
       "      <th>recall</th>\n",
       "      <th>f1_score</th>\n",
       "      <th>roc_auc</th>\n",
       "      <th>hostname</th>\n",
       "      <th>total_time_sec</th>\n",
       "      <th>datetime</th>\n",
       "      <th>fichero_modelo</th>\n",
       "      <th>params</th>\n",
       "      <th>shape</th>\n",
       "      <th>features</th>\n",
       "      <th>roc_auc_ovr</th>\n",
       "      <th>indices_auc</th>\n",
       "      <th>indices_jaccard</th>\n",
       "    </tr>\n",
       "  </thead>\n",
       "  <tbody>\n",
       "    <tr>\n",
       "      <th>0</th>\n",
       "      <td>mul_m</td>\n",
       "      <td>MI</td>\n",
       "      <td>SVM</td>\n",
       "      <td>1466</td>\n",
       "      <td>0.494253</td>\n",
       "      <td>0.506609</td>\n",
       "      <td>0.522188</td>\n",
       "      <td>0.508114</td>\n",
       "      <td>NaN</td>\n",
       "      <td>amilcar22</td>\n",
       "      <td>203</td>\n",
       "      <td>2023-10-30 02:21:10.091056</td>\n",
       "      <td>modelo_1466_mul_m_MI_SVM.pkl</td>\n",
       "      <td>{'selector__k': 1000, 'clasifier__kernel': 'rb...</td>\n",
       "      <td>X_test:(87, 18875)</td>\n",
       "      <td>['ENSG00000001084.13', 'ENSG00000001460.18', '...</td>\n",
       "      <td>0.825072</td>\n",
       "      <td>[0.7684859154929577, 0.8101851851851851, 0.734...</td>\n",
       "      <td>[0.22727272727272727, 0.3684210526315789, 0.15...</td>\n",
       "    </tr>\n",
       "    <tr>\n",
       "      <th>0</th>\n",
       "      <td>mul_m</td>\n",
       "      <td>MI</td>\n",
       "      <td>RF</td>\n",
       "      <td>1466</td>\n",
       "      <td>0.436782</td>\n",
       "      <td>0.453337</td>\n",
       "      <td>0.482992</td>\n",
       "      <td>0.423543</td>\n",
       "      <td>NaN</td>\n",
       "      <td>amilcar22</td>\n",
       "      <td>223</td>\n",
       "      <td>2023-10-30 02:17:40.501231</td>\n",
       "      <td>modelo_1466_mul_m_MI_RF.pkl</td>\n",
       "      <td>{'selector__k': 1000, 'clasifier__n_estimators...</td>\n",
       "      <td>X_test:(87, 18875)</td>\n",
       "      <td>['ENSG00000001084.13', 'ENSG00000001460.18', '...</td>\n",
       "      <td>0.771446</td>\n",
       "      <td>[0.5651408450704225, 0.8314814814814814, 0.714...</td>\n",
       "      <td>[0.10526315789473684, 0.3157894736842105, 0.26...</td>\n",
       "    </tr>\n",
       "    <tr>\n",
       "      <th>0</th>\n",
       "      <td>mul_m</td>\n",
       "      <td>MI</td>\n",
       "      <td>LR_L2</td>\n",
       "      <td>1466</td>\n",
       "      <td>0.586207</td>\n",
       "      <td>0.575025</td>\n",
       "      <td>0.601765</td>\n",
       "      <td>0.579196</td>\n",
       "      <td>NaN</td>\n",
       "      <td>amilcar22</td>\n",
       "      <td>242</td>\n",
       "      <td>2023-10-30 02:13:50.541373</td>\n",
       "      <td>modelo_1466_mul_m_MI_LR_L2.pkl</td>\n",
       "      <td>{'selector__k': 1000, 'clasifier__solver': 'lb...</td>\n",
       "      <td>X_test:(87, 18875)</td>\n",
       "      <td>['ENSG00000001084.13', 'ENSG00000001460.18', '...</td>\n",
       "      <td>0.879383</td>\n",
       "      <td>[0.8565140845070423, 0.8731481481481482, 0.805...</td>\n",
       "      <td>[0.38095238095238093, 0.45, 0.2222222222222222...</td>\n",
       "    </tr>\n",
       "  </tbody>\n",
       "</table>\n",
       "</div>"
      ],
      "text/plain": [
       "    tipo select clasific  semilla  accuracy  precision    recall  f1_score  \\\n",
       "0  mul_m     MI      SVM     1466  0.494253   0.506609  0.522188  0.508114   \n",
       "0  mul_m     MI       RF     1466  0.436782   0.453337  0.482992  0.423543   \n",
       "0  mul_m     MI    LR_L2     1466  0.586207   0.575025  0.601765  0.579196   \n",
       "\n",
       "   roc_auc   hostname  total_time_sec                    datetime  \\\n",
       "0      NaN  amilcar22             203  2023-10-30 02:21:10.091056   \n",
       "0      NaN  amilcar22             223  2023-10-30 02:17:40.501231   \n",
       "0      NaN  amilcar22             242  2023-10-30 02:13:50.541373   \n",
       "\n",
       "                   fichero_modelo  \\\n",
       "0    modelo_1466_mul_m_MI_SVM.pkl   \n",
       "0     modelo_1466_mul_m_MI_RF.pkl   \n",
       "0  modelo_1466_mul_m_MI_LR_L2.pkl   \n",
       "\n",
       "                                              params               shape  \\\n",
       "0  {'selector__k': 1000, 'clasifier__kernel': 'rb...  X_test:(87, 18875)   \n",
       "0  {'selector__k': 1000, 'clasifier__n_estimators...  X_test:(87, 18875)   \n",
       "0  {'selector__k': 1000, 'clasifier__solver': 'lb...  X_test:(87, 18875)   \n",
       "\n",
       "                                            features  roc_auc_ovr  \\\n",
       "0  ['ENSG00000001084.13', 'ENSG00000001460.18', '...     0.825072   \n",
       "0  ['ENSG00000001084.13', 'ENSG00000001460.18', '...     0.771446   \n",
       "0  ['ENSG00000001084.13', 'ENSG00000001460.18', '...     0.879383   \n",
       "\n",
       "                                         indices_auc  \\\n",
       "0  [0.7684859154929577, 0.8101851851851851, 0.734...   \n",
       "0  [0.5651408450704225, 0.8314814814814814, 0.714...   \n",
       "0  [0.8565140845070423, 0.8731481481481482, 0.805...   \n",
       "\n",
       "                                     indices_jaccard  \n",
       "0  [0.22727272727272727, 0.3684210526315789, 0.15...  \n",
       "0  [0.10526315789473684, 0.3157894736842105, 0.26...  \n",
       "0  [0.38095238095238093, 0.45, 0.2222222222222222...  "
      ]
     },
     "metadata": {},
     "output_type": "display_data"
    }
   ],
   "source": [
    "if M_TIPO.startswith(\"bin\"):\n",
    "    myfunc.save_metricas_to_csv(random_search, X_test, y_test, M_TIPO, M_SELECT, M_CLASIF, total_time, SEMILLA, myfunc.MET_DIR, M_FICHERO, fichero_modelo)\n",
    "else:\n",
    "    myfunc.save_metricas_multi_to_csv(random_search, X_test, y_test, M_TIPO, M_SELECT, M_CLASIF, total_time, SEMILLA, myfunc.MET_DIR, M_FICHERO, fichero_modelo)\n",
    "\n",
    "df1=myfunc.read_metricas_to_df(myfunc.MET_DIR,M_FICHERO)\n",
    "\n",
    "display(df1.sort_values(\"datetime\", ascending=False)[:3])\n"
   ]
  },
  {
   "cell_type": "markdown",
   "id": "73361ea1",
   "metadata": {
    "papermill": {
     "duration": 0.004762,
     "end_time": "2023-10-30T01:21:10.132673",
     "exception": false,
     "start_time": "2023-10-30T01:21:10.127911",
     "status": "completed"
    },
    "tags": []
   },
   "source": [
    "#### Guardar resultados"
   ]
  },
  {
   "cell_type": "code",
   "execution_count": 13,
   "id": "28448b95",
   "metadata": {
    "execution": {
     "iopub.execute_input": "2023-10-30T01:21:10.142347Z",
     "iopub.status.busy": "2023-10-30T01:21:10.142165Z",
     "iopub.status.idle": "2023-10-30T01:21:10.149951Z",
     "shell.execute_reply": "2023-10-30T01:21:10.149475Z"
    },
    "papermill": {
     "duration": 0.014144,
     "end_time": "2023-10-30T01:21:10.151211",
     "exception": false,
     "start_time": "2023-10-30T01:21:10.137067",
     "status": "completed"
    },
    "tags": []
   },
   "outputs": [
    {
     "name": "stdout",
     "output_type": "stream",
     "text": [
      "20231030T022110 : amilcar22 : INFO : Inicio guardar resultados\n",
      "20231030T022110 : amilcar22 : INFO : Inicio guardar fichero ../tfm_git/ejecuciones/metricas/resultados_1466_mul_m-MI-SVM.csv\n",
      "20231030T022110 : amilcar22 : INFO : Fin guardar fichero ../tfm_git/ejecuciones/metricas/resultados_1466_mul_m-MI-SVM.csv\n",
      "20231030T022110 : amilcar22 : INFO : Fin guardar resultados\n"
     ]
    }
   ],
   "source": [
    "fichero_resultados=R_FICHERO+\"_\"+M_TIPO+\"-\"+M_SELECT+\"-\"+M_CLASIF+\".csv\"\n",
    "myfunc.save_resultados_to_csv(M_TIPO, M_SELECT, M_CLASIF,  random_search, myfunc.MET_DIR, fichero_resultados)\n"
   ]
  }
 ],
 "metadata": {
  "kernelspec": {
   "display_name": "Python 3 (ipykernel)",
   "language": "python",
   "name": "python3"
  },
  "language_info": {
   "codemirror_mode": {
    "name": "ipython",
    "version": 3
   },
   "file_extension": ".py",
   "mimetype": "text/x-python",
   "name": "python",
   "nbconvert_exporter": "python",
   "pygments_lexer": "ipython3",
   "version": "3.10.12"
  },
  "papermill": {
   "default_parameters": {},
   "duration": 208.085498,
   "end_time": "2023-10-30T01:21:12.775114",
   "environment_variables": {},
   "exception": null,
   "input_path": "03_entrenamiento.ipynb",
   "output_path": "ejecuciones/training/03_entrenamiento.20231030T021744.param_0000_1466_mul_m_MI_SVM.output.ipynb",
   "parameters": {
    "MAX_ITERS": 500,
    "M_CLASIF": "SVM",
    "M_FICHERO": "metricas_1466",
    "M_SELECT": "MI",
    "M_TIPO": "mul_m",
    "PRE_DATA_FILE": "rows_transpose_norm_by_gene_id_with_target_num_",
    "P_FICHERO": "param_0000_1466_mul_m_MI_SVM.yaml",
    "R_FICHERO": "resultados_1466",
    "SCORING": "roc_auc_ovr",
    "SEMILLA": 1466,
    "eval_clasifier": "SVC(probability=True, random_state=SEMILLA)",
    "eval_selector": "SelectKBest(score_func=mutual_info_classif_state)",
    "param_distributions": {
     "clasifier__C": [
      100
     ],
     "clasifier__gamma": [
      0.001
     ],
     "clasifier__kernel": [
      "rbf"
     ],
     "selector__k": [
      1000
     ]
    }
   },
   "start_time": "2023-10-30T01:17:44.689616",
   "version": "2.4.0"
  }
 },
 "nbformat": 4,
 "nbformat_minor": 5
}