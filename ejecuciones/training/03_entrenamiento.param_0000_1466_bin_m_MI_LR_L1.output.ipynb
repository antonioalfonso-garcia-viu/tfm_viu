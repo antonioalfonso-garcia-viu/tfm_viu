{
 "cells": [
  {
   "cell_type": "markdown",
   "id": "dc9cec25",
   "metadata": {
    "papermill": {
     "duration": 0.004247,
     "end_time": "2023-10-29T21:39:55.756628",
     "exception": false,
     "start_time": "2023-10-29T21:39:55.752381",
     "status": "completed"
    },
    "tags": []
   },
   "source": [
    "##### Inicio"
   ]
  },
  {
   "cell_type": "markdown",
   "id": "5da0d128",
   "metadata": {
    "papermill": {
     "duration": 0.003428,
     "end_time": "2023-10-29T21:39:55.763771",
     "exception": false,
     "start_time": "2023-10-29T21:39:55.760343",
     "status": "completed"
    },
    "tags": []
   },
   "source": [
    "#### Carga de datos"
   ]
  },
  {
   "cell_type": "code",
   "execution_count": 1,
   "id": "7e7135c1",
   "metadata": {
    "execution": {
     "iopub.execute_input": "2023-10-29T21:39:55.771940Z",
     "iopub.status.busy": "2023-10-29T21:39:55.771688Z",
     "iopub.status.idle": "2023-10-29T21:39:56.651176Z",
     "shell.execute_reply": "2023-10-29T21:39:56.650623Z"
    },
    "papermill": {
     "duration": 0.885124,
     "end_time": "2023-10-29T21:39:56.652413",
     "exception": false,
     "start_time": "2023-10-29T21:39:55.767289",
     "status": "completed"
    },
    "tags": []
   },
   "outputs": [
    {
     "name": "stdout",
     "output_type": "stream",
     "text": [
      "CPU_COUNT: 8; NODE: amilcar22; sys.version: 3.10.12 (main, Jul  5 2023, 19:22:19) [GCC 11.2.0]\n",
      "LOKY_MAX_CPU_COUNT: 6\n",
      "OMP_NUM_THREADS: 2\n"
     ]
    }
   ],
   "source": [
    "import os\n",
    "import numpy as np\n",
    "import pandas as pd\n",
    "import datetime\n",
    "import sklearn\n",
    "import logging\n",
    "import warnings\n",
    "\n",
    "from sklearn.pipeline import Pipeline\n",
    "from sklearn.model_selection import RandomizedSearchCV, KFold, cross_val_score, train_test_split\n",
    "from sklearn.metrics import accuracy_score, confusion_matrix, classification_report, roc_auc_score\n",
    "\n",
    "#  cargar algoritmos para aprendizaje supervisado\n",
    "from sklearn.feature_selection import SelectKBest, f_classif, SelectFromModel, mutual_info_classif\n",
    "from sklearn.svm import SVC\n",
    "from sklearn.ensemble import RandomForestClassifier\n",
    "from sklearn.linear_model import LogisticRegression,LogisticRegressionCV\n",
    "\n",
    "# importar fichero con utilidades propias\n",
    "from commons import myfunctions as myfunc\n"
   ]
  },
  {
   "cell_type": "markdown",
   "id": "12ce993d",
   "metadata": {
    "papermill": {
     "duration": 0.002676,
     "end_time": "2023-10-29T21:39:56.658105",
     "exception": false,
     "start_time": "2023-10-29T21:39:56.655429",
     "status": "completed"
    },
    "tags": []
   },
   "source": [
    "#### Parámetros a utilizar en el entrenamiento.\n",
    "\n",
    "Se indican los 3 algoritmos de *selección de características* (eval_selector_xxx) y los 3 algoritmos para la _clasificación_ (eval_clasifier_xxx)\n",
    "\n",
    "En *param_distributions* se indicar los parámetros que utilizan los algoritmos en la función RandomSearchCV.\n",
    "\n",
    "Esta celda tiene la etiqueta **parameters** que servirá para poder lanzar los entrenamientos con la utilidad **papermill** pasándole un fichero con los parámetros. Los nuevos parámetros se situarán tras esta celda para tener prevalencia."
   ]
  },
  {
   "cell_type": "code",
   "execution_count": 2,
   "id": "f592d50b",
   "metadata": {
    "execution": {
     "iopub.execute_input": "2023-10-29T21:39:56.664219Z",
     "iopub.status.busy": "2023-10-29T21:39:56.663936Z",
     "iopub.status.idle": "2023-10-29T21:39:56.670659Z",
     "shell.execute_reply": "2023-10-29T21:39:56.670245Z"
    },
    "papermill": {
     "duration": 0.011036,
     "end_time": "2023-10-29T21:39:56.671753",
     "exception": false,
     "start_time": "2023-10-29T21:39:56.660717",
     "status": "completed"
    },
    "tags": [
     "parameters"
    ]
   },
   "outputs": [
    {
     "name": "stdout",
     "output_type": "stream",
     "text": [
      "20231029T223956 : amilcar22 : INFO : Utilizando parámetros de mul_m\n"
     ]
    }
   ],
   "source": [
    "#  Parametros para el entrenamiento\n",
    "\n",
    "SEMILLA=        42\n",
    "M_TIPO=         \"mul_m\"\n",
    "M_SELECT=       \"MI\"\n",
    "M_CLASIF=       \"SVM\"\n",
    "R_FICHERO=      \"resultados\"\n",
    "M_FICHERO=      \"metricas\"\n",
    "PRE_DATA_FILE=  \"rows_transpose_norm_by_gene_id_with_target_num_\"\n",
    "SCORING=        \"roc_auc_ovr\" \n",
    "MAX_ITERS=      100\n",
    "\n",
    "def mutual_info_classif_state(X, y):\n",
    "    return mutual_info_classif(X, y, random_state=SEMILLA)\n",
    "\n",
    "eval_selector_mi = \"SelectKBest(score_func=mutual_info_classif_state)\"\n",
    "eval_selector_rf=  \"SelectFromModel(estimator=RandomForestClassifier(random_state=SEMILLA), threshold=-np.inf)\"\n",
    "eval_selector_anova=  \"SelectKBest(score_func=f_classif)\"\n",
    "\n",
    "eval_clasifier_svm= \"SVC(probability=True, random_state=SEMILLA)\"\n",
    "eval_clasifier_rf= \"RandomForestClassifier(random_state=SEMILLA)\"\n",
    "eval_clasifier_lr= \"LogisticRegressionCV(random_state=SEMILLA)\"\n",
    "\n",
    "if M_TIPO.startswith(\"bin_m\"):\n",
    "    myfunc.verbose(f\"Utilizando parámetros de {M_TIPO}\")\n",
    "    eval_selector = eval_selector_mi\n",
    "    eval_clasifier = eval_clasifier_svm\n",
    "\n",
    "    SEMILLA = 6578\n",
    "    M_SELECT = \"MI\"\n",
    "    M_CLASIF = \"SVM\"\n",
    "    param_distributions = {'selector__k': [1000], \n",
    "         'clasifier__kernel': ['rbf'], 'clasifier__gamma': [0.01], 'clasifier__C': [100]}\n",
    "elif M_TIPO.startswith(\"bin_s\"):\n",
    "    myfunc.verbose(f\"Utilizando parámetros de {M_TIPO}\")\n",
    "    eval_selector = eval_selector_rf\n",
    "    eval_clasifier = eval_clasifier_lr\n",
    "\n",
    "    SEMILLA = 6191\n",
    "    M_SELECT = \"RF\"\n",
    "    M_CLASIF = \"LR_L2\"\n",
    "    param_distributions = {'selector__max_features': [1000], 'selector__estimator__n_estimators': [200], \n",
    "        'clasifier__solver': ['lbfgs'], 'clasifier__penalty': ['l2'], 'clasifier__max_iter': [10000]}\n",
    "\n",
    "elif M_TIPO.startswith(\"mul_m\"):\n",
    "    myfunc.verbose(f\"Utilizando parámetros de {M_TIPO}\")\n",
    " \n",
    "    eval_selector = eval_selector_rf\n",
    "    eval_clasifier = eval_clasifier_lr\n",
    "\n",
    "    SEMILLA = 6191\n",
    "    M_SELECT = \"RF\"\n",
    "    M_CLASIF = \"LR_L2\"\n",
    "    param_distributions = {'selector__max_features': [1000], 'selector__estimator__n_estimators': [400], \n",
    "        'clasifier__solver': ['lbfgs'], 'clasifier__penalty': ['l2'], 'clasifier__max_iter': [10000]}\n",
    "\n",
    "else:\n",
    "    # M_TIPO.startswith(\"mul_s\"):\n",
    "    myfunc.verbose(f\"Utilizando parámetros de {M_TIPO}\")\n",
    "    eval_selector = eval_selector_anova\n",
    "    eval_clasifier = eval_clasifier_lr\n",
    "\n",
    "    SEMILLA = 1860\n",
    "    M_SELECT = \"ANOVA\"\n",
    "    M_CLASIF = \"LR_L2\"\n",
    "    param_distributions = {'selector__k': [1000], \n",
    "        'clasifier__solver': ['saga'], 'clasifier__penalty': ['l2'], 'clasifier__max_iter': [10000]}\n",
    "\n"
   ]
  },
  {
   "cell_type": "code",
   "execution_count": 3,
   "id": "acc22b40",
   "metadata": {
    "execution": {
     "iopub.execute_input": "2023-10-29T21:39:56.677911Z",
     "iopub.status.busy": "2023-10-29T21:39:56.677719Z",
     "iopub.status.idle": "2023-10-29T21:39:56.681205Z",
     "shell.execute_reply": "2023-10-29T21:39:56.680726Z"
    },
    "papermill": {
     "duration": 0.007868,
     "end_time": "2023-10-29T21:39:56.682410",
     "exception": false,
     "start_time": "2023-10-29T21:39:56.674542",
     "status": "completed"
    },
    "tags": [
     "injected-parameters"
    ]
   },
   "outputs": [],
   "source": [
    "# Parameters\n",
    "M_TIPO = \"bin_m\"\n",
    "M_SELECT = \"MI\"\n",
    "M_CLASIF = \"LR_L1\"\n",
    "P_FICHERO = \"param_0000_1466_bin_m_MI_LR_L1.yaml\"\n",
    "R_FICHERO = \"resultados_1466\"\n",
    "M_FICHERO = \"metricas_1466\"\n",
    "PRE_DATA_FILE = \"rows_transpose_norm_by_gene_id_with_target_num_\"\n",
    "SCORING = \"roc_auc_ovr\"\n",
    "SEMILLA = 1466\n",
    "MAX_ITERS = 500\n",
    "eval_selector = \"SelectKBest(score_func=mutual_info_classif_state)\"\n",
    "eval_clasifier = \"LogisticRegressionCV(random_state=SEMILLA)\"\n",
    "param_distributions = {\n",
    "    \"selector__k\": [500],\n",
    "    \"clasifier__solver\": [\"saga\"],\n",
    "    \"clasifier__penalty\": [\"l1\"],\n",
    "    \"clasifier__max_iter\": [10000],\n",
    "}\n"
   ]
  },
  {
   "cell_type": "code",
   "execution_count": 4,
   "id": "99e1ccf9",
   "metadata": {
    "execution": {
     "iopub.execute_input": "2023-10-29T21:39:56.689006Z",
     "iopub.status.busy": "2023-10-29T21:39:56.688827Z",
     "iopub.status.idle": "2023-10-29T21:39:56.691898Z",
     "shell.execute_reply": "2023-10-29T21:39:56.691334Z"
    },
    "papermill": {
     "duration": 0.007783,
     "end_time": "2023-10-29T21:39:56.693135",
     "exception": false,
     "start_time": "2023-10-29T21:39:56.685352",
     "status": "completed"
    },
    "tags": []
   },
   "outputs": [],
   "source": [
    "DATA_FILE = PRE_DATA_FILE + M_TIPO\n",
    "\n",
    "# si viene \"None\" en el parámetro max_depth, se le quitan las comillas para que no sea entendido por el algoritmo como un texto\n",
    "if \"clasifier__max_depth\" in param_distributions:\n",
    "    param_distributions['clasifier__max_depth'] = [None if x == 'None' else x for x in param_distributions['clasifier__max_depth']]"
   ]
  },
  {
   "cell_type": "markdown",
   "id": "25827b8b",
   "metadata": {
    "papermill": {
     "duration": 0.00291,
     "end_time": "2023-10-29T21:39:56.699031",
     "exception": false,
     "start_time": "2023-10-29T21:39:56.696121",
     "status": "completed"
    },
    "tags": []
   },
   "source": [
    "Asignar los algoritmos que se utilizarán en la función RandomSearchCV"
   ]
  },
  {
   "cell_type": "code",
   "execution_count": 5,
   "id": "cd2db2bb",
   "metadata": {
    "execution": {
     "iopub.execute_input": "2023-10-29T21:39:56.705594Z",
     "iopub.status.busy": "2023-10-29T21:39:56.705426Z",
     "iopub.status.idle": "2023-10-29T21:39:56.708073Z",
     "shell.execute_reply": "2023-10-29T21:39:56.707592Z"
    },
    "papermill": {
     "duration": 0.007309,
     "end_time": "2023-10-29T21:39:56.709320",
     "exception": false,
     "start_time": "2023-10-29T21:39:56.702011",
     "status": "completed"
    },
    "tags": []
   },
   "outputs": [],
   "source": [
    "algor_selector=eval(eval_selector)\n",
    "algor_clasifier=eval(eval_clasifier)"
   ]
  },
  {
   "cell_type": "markdown",
   "id": "d252c6cf",
   "metadata": {
    "papermill": {
     "duration": 0.003247,
     "end_time": "2023-10-29T21:39:56.715824",
     "exception": false,
     "start_time": "2023-10-29T21:39:56.712577",
     "status": "completed"
    },
    "tags": []
   },
   "source": [
    "#### Comprobar el entorno y leer fichero de muestras"
   ]
  },
  {
   "cell_type": "code",
   "execution_count": 6,
   "id": "58f839e4",
   "metadata": {
    "execution": {
     "iopub.execute_input": "2023-10-29T21:39:56.723082Z",
     "iopub.status.busy": "2023-10-29T21:39:56.722896Z",
     "iopub.status.idle": "2023-10-29T21:39:56.943662Z",
     "shell.execute_reply": "2023-10-29T21:39:56.943206Z"
    },
    "papermill": {
     "duration": 0.225855,
     "end_time": "2023-10-29T21:39:56.944929",
     "exception": false,
     "start_time": "2023-10-29T21:39:56.719074",
     "status": "completed"
    },
    "tags": []
   },
   "outputs": [
    {
     "name": "stdout",
     "output_type": "stream",
     "text": [
      "20231029T223956 : amilcar22 : INFO : Encontrada carpeta DATA_DIR=../tfm_git/datos\n",
      "20231029T223956 : amilcar22 : INFO : Encontrada carpeta CFDNA_DIR=../tfm_git/datos/cfDNA_5hmC\n",
      "20231029T223956 : amilcar22 : INFO : Encontrada carpeta GENCODE_DIR=../tfm_git/datos/gencode\n",
      "20231029T223956 : amilcar22 : INFO : Encontrada carpeta H5_DIR=../tfm_git/datos/h5\n",
      "20231029T223956 : amilcar22 : INFO : Encontrada carpeta LOG_DIR=../tfm_git/datos/logs\n",
      "20231029T223956 : amilcar22 : INFO : Encontrada carpeta CSV_DIR=../tfm_git/datos/csv\n",
      "20231029T223956 : amilcar22 : INFO : Encontrada carpeta MODEL_DIR=../tfm_git/ejecuciones/modelos\n",
      "20231029T223956 : amilcar22 : INFO : Encontrada carpeta EXEC_DIR=../tfm_git/ejecuciones\n",
      "20231029T223956 : amilcar22 : INFO : Encontrada carpeta MET_DIR=../tfm_git/ejecuciones/metricas\n",
      "20231029T223956 : amilcar22 : INFO : Inicio leer fichero h5 ../tfm_git/datos/h5/rows_transpose_norm_by_gene_id_with_target_num_bin_m.h5\n",
      "20231029T223956 : amilcar22 : INFO : Leyendo clave /df\n"
     ]
    },
    {
     "name": "stdout",
     "output_type": "stream",
     "text": [
      "20231029T223956 : amilcar22 : INFO : Tamaño (720, 18876)\n",
      "20231029T223956 : amilcar22 : INFO : Fin leer fichero h5 ../tfm_git/datos/h5/rows_transpose_norm_by_gene_id_with_target_num_bin_m.h5\n"
     ]
    },
    {
     "data": {
      "text/plain": [
       "target\n",
       "0    360\n",
       "1    360\n",
       "dtype: int64"
      ]
     },
     "metadata": {},
     "output_type": "display_data"
    },
    {
     "name": "stdout",
     "output_type": "stream",
     "text": [
      "Shape df: (720, 18876)\n",
      "Shape X_train: (576, 18875)\n",
      "Shape X_test: (144, 18875)\n"
     ]
    }
   ],
   "source": [
    "start_time = datetime.datetime.now()\n",
    "\n",
    "myfunc.reset_vars()\n",
    "\n",
    "myfunc.NOTEBK_FILENAME = myfunc.get_nb_name()\n",
    "\n",
    "myfunc.check_enviroment(myfunc.DATA_DIR, myfunc.CFDNA_DIR, myfunc.GENCODE_DIR, myfunc.H5_DIR, myfunc.LOG_DIR, myfunc.CSV_DIR, myfunc.MODEL_DIR, myfunc.EXEC_DIR, myfunc.MET_DIR)\n",
    "\n",
    "# Leer fichero con las muestras\n",
    "df_t = myfunc.read_h5_to_df(DATA_FILE, myfunc.H5_DIR)\n",
    "display(df_t.groupby(\"target\").size())\n",
    "print(\"Shape df:\",df_t.shape)\n",
    "\n",
    "# Separar caracteristicas/genes de las etiquetas/tipos de cáncer\n",
    "X = df_t.iloc[:, :-1]  # Todas las columnas excepto la última\n",
    "y = df_t.iloc[:, -1]  # La última columna contiene los identificadores de los tipos de cáncer\n",
    "\n",
    "#  Crear el conjunto de datos de entrenamiento y de pruebas, y se fija la semilla para siempre coger el mismo juego de muestras\n",
    "X_train, X_test, y_train, y_test = train_test_split(X, y, test_size=0.2, shuffle=True, random_state=42)\n",
    "print(\"Shape X_train:\",X_train.shape)\n",
    "print(\"Shape X_test:\",X_test.shape)\n"
   ]
  },
  {
   "cell_type": "markdown",
   "id": "05393e0c",
   "metadata": {
    "papermill": {
     "duration": 0.002929,
     "end_time": "2023-10-29T21:39:56.951275",
     "exception": false,
     "start_time": "2023-10-29T21:39:56.948346",
     "status": "completed"
    },
    "tags": []
   },
   "source": [
    "#### Selección de características y clasificación."
   ]
  },
  {
   "cell_type": "code",
   "execution_count": 7,
   "id": "497616e1",
   "metadata": {
    "execution": {
     "iopub.execute_input": "2023-10-29T21:39:56.957761Z",
     "iopub.status.busy": "2023-10-29T21:39:56.957558Z",
     "iopub.status.idle": "2023-10-29T21:47:59.125780Z",
     "shell.execute_reply": "2023-10-29T21:47:59.125185Z"
    },
    "papermill": {
     "duration": 482.172838,
     "end_time": "2023-10-29T21:47:59.126976",
     "exception": false,
     "start_time": "2023-10-29T21:39:56.954138",
     "status": "completed"
    },
    "tags": []
   },
   "outputs": [
    {
     "name": "stdout",
     "output_type": "stream",
     "text": [
      "20231029T223956 : amilcar22 : INFO : Iniciando entrenamiento\n",
      "num_iter: 1 , max_iter: 1\n",
      "Fitting 5 folds for each of 1 candidates, totalling 5 fits\n"
     ]
    },
    {
     "name": "stdout",
     "output_type": "stream",
     "text": [
      "[CV 2/5] END clasifier__max_iter=10000, clasifier__penalty=l1, clasifier__solver=saga, selector__k=500;, score=0.875 total time= 3.0min\n"
     ]
    },
    {
     "name": "stdout",
     "output_type": "stream",
     "text": [
      "Mejores Hiperparámetros: {'selector__k': 500, 'clasifier__solver': 'saga', 'clasifier__penalty': 'l1', 'clasifier__max_iter': 10000}\n",
      "Mejor Puntuación: 0.8332\n",
      "20231029T224759 : amilcar22 : INFO : Fin entrenamiento\n"
     ]
    }
   ],
   "source": [
    "myfunc.verbose(\"Iniciando entrenamiento\")\n",
    "\n",
    "kf = KFold(n_splits=5, shuffle=True, random_state=SEMILLA)\n",
    "\n",
    "# Crear el pipeline para el flujo de tareas\n",
    "tasks_pipeline = Pipeline([\n",
    "    ('selector', algor_selector),\n",
    "    ('clasifier', algor_clasifier)\n",
    "])\n",
    "\n",
    "# MAX_ITERS puede limitar el número de iteraciones si son excesivas para las combinaciones de parámetros buscando un óptimo local, \n",
    "# sino funcionaría como GridSearchCV al revisar todas las cominaciones de los parámetros\n",
    "num_iteraciones = 1\n",
    "num_iteraciones = num_iteraciones * np.prod([len(elemento1) for _, elemento1 in param_distributions.items()])\n",
    "max_iteraciones = num_iteraciones if num_iteraciones <= MAX_ITERS else MAX_ITERS\n",
    "print(\"num_iter:\",num_iteraciones,\", max_iter:\",max_iteraciones)\n",
    "\n",
    "random_search = RandomizedSearchCV(\n",
    "    tasks_pipeline, \n",
    "    param_distributions, \n",
    "    n_iter=max_iteraciones,\n",
    "    scoring=SCORING,\n",
    "    cv=kf,\n",
    "    verbose=3, \n",
    "    random_state=SEMILLA, \n",
    "    n_jobs=-1\n",
    "    )\n",
    "\n",
    "# Entrenar el modelo\n",
    "random_search.fit(X_train, y_train)\n",
    "\n",
    "# Ver los mejores hiperparámetros encontrados\n",
    "print(f'Mejores Hiperparámetros: {random_search.best_params_}')\n",
    "print(f'Mejor Puntuación: {random_search.best_score_:.4f}')\n",
    "\n",
    "# Nos quedamos con el mejor modelo para ver las métricas\n",
    "mejor_modelo = random_search.best_estimator_\n",
    "\n",
    "myfunc.verbose(\"Fin entrenamiento\")"
   ]
  },
  {
   "cell_type": "markdown",
   "id": "1bb24b0c",
   "metadata": {
    "papermill": {
     "duration": 0.003052,
     "end_time": "2023-10-29T21:47:59.133320",
     "exception": false,
     "start_time": "2023-10-29T21:47:59.130268",
     "status": "completed"
    },
    "tags": []
   },
   "source": [
    "#### Guardar modelo"
   ]
  },
  {
   "cell_type": "code",
   "execution_count": 8,
   "id": "ea96a9bc",
   "metadata": {
    "execution": {
     "iopub.execute_input": "2023-10-29T21:47:59.140530Z",
     "iopub.status.busy": "2023-10-29T21:47:59.140038Z",
     "iopub.status.idle": "2023-10-29T21:47:59.147996Z",
     "shell.execute_reply": "2023-10-29T21:47:59.147402Z"
    },
    "papermill": {
     "duration": 0.012953,
     "end_time": "2023-10-29T21:47:59.149288",
     "exception": false,
     "start_time": "2023-10-29T21:47:59.136335",
     "status": "completed"
    },
    "tags": []
   },
   "outputs": [
    {
     "name": "stdout",
     "output_type": "stream",
     "text": [
      "20231029T224759 : amilcar22 : INFO : Inicio guardar fichero ../tfm_git/ejecuciones/modelos/modelo_1466_bin_m_MI_LR_L1.pkl\n",
      "20231029T224759 : amilcar22 : INFO : Fin guardar fichero ../tfm_git/ejecuciones/modelos/modelo_1466_bin_m_MI_LR_L1.pkl\n"
     ]
    }
   ],
   "source": [
    "fichero_modelo = str.replace(\"modelo_\"+str(SEMILLA).zfill(4)+\"_\"+M_TIPO+\"_\"+M_SELECT+\"_\"+M_CLASIF+\".pkl\", \" \", \"_\")\n",
    "\n",
    "myfunc.save_modelo(mejor_modelo, myfunc.MODEL_DIR, fichero_modelo)"
   ]
  },
  {
   "cell_type": "markdown",
   "id": "5833a7c4",
   "metadata": {
    "papermill": {
     "duration": 0.002902,
     "end_time": "2023-10-29T21:47:59.155639",
     "exception": false,
     "start_time": "2023-10-29T21:47:59.152737",
     "status": "completed"
    },
    "tags": []
   },
   "source": [
    "#### Ver resultados del las iteraciones hechas por RandomSearchCV"
   ]
  },
  {
   "cell_type": "code",
   "execution_count": 9,
   "id": "02e38377",
   "metadata": {
    "execution": {
     "iopub.execute_input": "2023-10-29T21:47:59.162459Z",
     "iopub.status.busy": "2023-10-29T21:47:59.162244Z",
     "iopub.status.idle": "2023-10-29T21:47:59.168493Z",
     "shell.execute_reply": "2023-10-29T21:47:59.168036Z"
    },
    "papermill": {
     "duration": 0.011079,
     "end_time": "2023-10-29T21:47:59.169660",
     "exception": false,
     "start_time": "2023-10-29T21:47:59.158581",
     "status": "completed"
    },
    "tags": []
   },
   "outputs": [
    {
     "name": "stdout",
     "output_type": "stream",
     "text": [
      "20231029T224759 : amilcar22 : INFO : Inicio ver resultados\n",
      "Mejores Hiperparámetros: {'selector__k': 500, 'clasifier__solver': 'saga', 'clasifier__penalty': 'l1', 'clasifier__max_iter': 10000}\n",
      "Mejores puntuaciones: 0.8332 | Params: {'selector__k': 500, 'clasifier__solver': 'saga', 'clasifier__penalty': 'l1', 'clasifier__max_iter': 10000}\n",
      "Media de las puntuaciones: 0.8332 | Params: {'selector__k': 500, 'clasifier__solver': 'saga', 'clasifier__penalty': 'l1', 'clasifier__max_iter': 10000}\n",
      "20231029T224759 : amilcar22 : INFO : Fin resultados\n"
     ]
    }
   ],
   "source": [
    "myfunc.ver_resultados_search(random_search)"
   ]
  },
  {
   "cell_type": "markdown",
   "id": "ca96edc4",
   "metadata": {
    "papermill": {
     "duration": 0.003194,
     "end_time": "2023-10-29T21:47:59.176196",
     "exception": false,
     "start_time": "2023-10-29T21:47:59.173002",
     "status": "completed"
    },
    "tags": []
   },
   "source": [
    "#### Ver métricas del mejor modelo"
   ]
  },
  {
   "cell_type": "code",
   "execution_count": 10,
   "id": "eb52d45a",
   "metadata": {
    "execution": {
     "iopub.execute_input": "2023-10-29T21:47:59.183418Z",
     "iopub.status.busy": "2023-10-29T21:47:59.183217Z",
     "iopub.status.idle": "2023-10-29T21:47:59.579311Z",
     "shell.execute_reply": "2023-10-29T21:47:59.578816Z"
    },
    "papermill": {
     "duration": 0.401072,
     "end_time": "2023-10-29T21:47:59.580517",
     "exception": false,
     "start_time": "2023-10-29T21:47:59.179445",
     "status": "completed"
    },
    "tags": []
   },
   "outputs": [
    {
     "name": "stdout",
     "output_type": "stream",
     "text": [
      "20231029T224759 : amilcar22 : INFO : Inicio ver métricas\n",
      "              precision    recall  f1-score   support\n",
      "\n",
      "           0       0.84      0.84      0.84        82\n",
      "           1       0.79      0.79      0.79        62\n",
      "\n",
      "    accuracy                           0.82       144\n",
      "   macro avg       0.82      0.82      0.82       144\n",
      "weighted avg       0.82      0.82      0.82       144\n",
      "\n",
      "\n",
      "\n",
      "   Exactitud: 0.8194\n",
      "   Precisión: 0.8159\n",
      "Sensibilidad: 0.8159\n",
      "    F1-score: 0.8159\n",
      "     AUC ROC: 0.8855\n"
     ]
    },
    {
     "data": {
      "image/png": "[encoded data removed]",
      "text/plain": [
       "<Figure size 300x100 with 2 Axes>"
      ]
     },
     "metadata": {},
     "output_type": "display_data"
    },
    {
     "data": {
      "image/png": "[encoded data removed]",
      "text/plain": [
       "<Figure size 800x500 with 1 Axes>"
      ]
     },
     "metadata": {},
     "output_type": "display_data"
    },
    {
     "name": "stdout",
     "output_type": "stream",
     "text": [
      "20231029T224759 : amilcar22 : INFO : Fin ver métricas\n"
     ]
    }
   ],
   "source": [
    "if M_TIPO.startswith(\"bin\"):\n",
    "    myfunc.ver_metricas(mejor_modelo, X_test, y_test)\n",
    "else:\n",
    "    myfunc.ver_metricas_multi(mejor_modelo, X_test, y_test)\n"
   ]
  },
  {
   "cell_type": "markdown",
   "id": "e7ada60f",
   "metadata": {
    "papermill": {
     "duration": 0.003635,
     "end_time": "2023-10-29T21:47:59.588380",
     "exception": false,
     "start_time": "2023-10-29T21:47:59.584745",
     "status": "completed"
    },
    "tags": []
   },
   "source": [
    "#### Finalización del notebook"
   ]
  },
  {
   "cell_type": "code",
   "execution_count": 11,
   "id": "b871d83d",
   "metadata": {
    "execution": {
     "iopub.execute_input": "2023-10-29T21:47:59.596499Z",
     "iopub.status.busy": "2023-10-29T21:47:59.596305Z",
     "iopub.status.idle": "2023-10-29T21:47:59.599583Z",
     "shell.execute_reply": "2023-10-29T21:47:59.599180Z"
    },
    "papermill": {
     "duration": 0.008767,
     "end_time": "2023-10-29T21:47:59.600763",
     "exception": false,
     "start_time": "2023-10-29T21:47:59.591996",
     "status": "completed"
    },
    "tags": []
   },
   "outputs": [
    {
     "name": "stdout",
     "output_type": "stream",
     "text": [
      "20231029T224759 : amilcar22 : INFO : Notebook ha tardado 482 seconds\n"
     ]
    }
   ],
   "source": [
    "end_time = datetime.datetime.now()\n",
    "total_time = end_time - start_time\n",
    "myfunc.verbose(f\"Notebook ha tardado {total_time.seconds} seconds\")"
   ]
  },
  {
   "cell_type": "markdown",
   "id": "fb1ed33a",
   "metadata": {
    "papermill": {
     "duration": 0.003898,
     "end_time": "2023-10-29T21:47:59.608684",
     "exception": false,
     "start_time": "2023-10-29T21:47:59.604786",
     "status": "completed"
    },
    "tags": []
   },
   "source": [
    "#### Guardar métricas"
   ]
  },
  {
   "cell_type": "code",
   "execution_count": 12,
   "id": "30bd3f7a",
   "metadata": {
    "execution": {
     "iopub.execute_input": "2023-10-29T21:47:59.616912Z",
     "iopub.status.busy": "2023-10-29T21:47:59.616721Z",
     "iopub.status.idle": "2023-10-29T21:47:59.775905Z",
     "shell.execute_reply": "2023-10-29T21:47:59.775442Z"
    },
    "papermill": {
     "duration": 0.166028,
     "end_time": "2023-10-29T21:47:59.778387",
     "exception": false,
     "start_time": "2023-10-29T21:47:59.612359",
     "status": "completed"
    },
    "tags": []
   },
   "outputs": [
    {
     "name": "stdout",
     "output_type": "stream",
     "text": [
      "20231029T224759 : amilcar22 : INFO : Inicio guardar métricas\n",
      "20231029T224759 : amilcar22 : INFO : Inicio leer fichero ../tfm_git/ejecuciones/metricas/metricas_1466.csv\n",
      "20231029T224759 : amilcar22 : INFO : Fin leer fichero ../tfm_git/ejecuciones/metricas/metricas_1466.csv\n",
      "20231029T224759 : amilcar22 : INFO : Inicio guardar fichero ../tfm_git/ejecuciones/metricas/metricas_1466.csv\n",
      "20231029T224759 : amilcar22 : INFO : Fichero borrado ../tfm_git/ejecuciones/metricas/metricas_1466.csv\n",
      "20231029T224759 : amilcar22 : INFO : Fin guardar fichero ../tfm_git/ejecuciones/metricas/metricas_1466.csv\n",
      "20231029T224759 : amilcar22 : INFO : Fin guardar métricas\n",
      "20231029T224759 : amilcar22 : INFO : Inicio leer fichero ../tfm_git/ejecuciones/metricas/metricas_1466.csv\n",
      "20231029T224759 : amilcar22 : INFO : Fin leer fichero ../tfm_git/ejecuciones/metricas/metricas_1466.csv\n"
     ]
    },
    {
     "data": {
      "text/html": [
       "<div>\n",
       "<style scoped>\n",
       "    .dataframe tbody tr th:only-of-type {\n",
       "        vertical-align: middle;\n",
       "    }\n",
       "\n",
       "    .dataframe tbody tr th {\n",
       "        vertical-align: top;\n",
       "    }\n",
       "\n",
       "    .dataframe thead th {\n",
       "        text-align: right;\n",
       "    }\n",
       "</style>\n",
       "<table border=\"1\" class=\"dataframe\">\n",
       "  <thead>\n",
       "    <tr style=\"text-align: right;\">\n",
       "      <th></th>\n",
       "      <th>tipo</th>\n",
       "      <th>select</th>\n",
       "      <th>clasific</th>\n",
       "      <th>semilla</th>\n",
       "      <th>accuracy</th>\n",
       "      <th>precision</th>\n",
       "      <th>recall</th>\n",
       "      <th>f1_score</th>\n",
       "      <th>roc_auc</th>\n",
       "      <th>hostname</th>\n",
       "      <th>total_time_sec</th>\n",
       "      <th>datetime</th>\n",
       "      <th>fichero_modelo</th>\n",
       "      <th>params</th>\n",
       "      <th>shape</th>\n",
       "      <th>features</th>\n",
       "    </tr>\n",
       "  </thead>\n",
       "  <tbody>\n",
       "    <tr>\n",
       "      <th>0</th>\n",
       "      <td>bin_m</td>\n",
       "      <td>MI</td>\n",
       "      <td>LR_L1</td>\n",
       "      <td>1466</td>\n",
       "      <td>0.819444</td>\n",
       "      <td>0.815893</td>\n",
       "      <td>0.815893</td>\n",
       "      <td>0.815893</td>\n",
       "      <td>0.885523</td>\n",
       "      <td>amilcar22</td>\n",
       "      <td>482</td>\n",
       "      <td>2023-10-29 22:47:59.758372</td>\n",
       "      <td>modelo_1466_bin_m_MI_LR_L1.pkl</td>\n",
       "      <td>{'selector__k': 500, 'clasifier__solver': 'sag...</td>\n",
       "      <td>X_test:(144, 18875)</td>\n",
       "      <td>['ENSG00000002330.14', 'ENSG00000002933.9', 'E...</td>\n",
       "    </tr>\n",
       "    <tr>\n",
       "      <th>0</th>\n",
       "      <td>bin_m</td>\n",
       "      <td>MI</td>\n",
       "      <td>LR_EN</td>\n",
       "      <td>1466</td>\n",
       "      <td>0.840278</td>\n",
       "      <td>0.837081</td>\n",
       "      <td>0.842054</td>\n",
       "      <td>0.838526</td>\n",
       "      <td>0.907160</td>\n",
       "      <td>amilcar22</td>\n",
       "      <td>762</td>\n",
       "      <td>2023-10-29 22:39:50.662473</td>\n",
       "      <td>modelo_1466_bin_m_MI_LR_EN.pkl</td>\n",
       "      <td>{'selector__k': 1000, 'clasifier__solver': 'sa...</td>\n",
       "      <td>X_test:(144, 18875)</td>\n",
       "      <td>['ENSG00000002330.14', 'ENSG00000002933.9', 'E...</td>\n",
       "    </tr>\n",
       "    <tr>\n",
       "      <th>0</th>\n",
       "      <td>bin_m</td>\n",
       "      <td>ANOVA</td>\n",
       "      <td>SVM</td>\n",
       "      <td>1466</td>\n",
       "      <td>0.826389</td>\n",
       "      <td>0.822751</td>\n",
       "      <td>0.823958</td>\n",
       "      <td>0.823313</td>\n",
       "      <td>0.910307</td>\n",
       "      <td>amilcar22</td>\n",
       "      <td>3</td>\n",
       "      <td>2023-10-29 22:27:01.993012</td>\n",
       "      <td>modelo_1466_bin_m_ANOVA_SVM.pkl</td>\n",
       "      <td>{'selector__k': 500, 'clasifier__kernel': 'rbf...</td>\n",
       "      <td>X_test:(144, 18875)</td>\n",
       "      <td>['ENSG00000000971.17', 'ENSG00000001626.18', '...</td>\n",
       "    </tr>\n",
       "  </tbody>\n",
       "</table>\n",
       "</div>"
      ],
      "text/plain": [
       "    tipo select clasific  semilla  accuracy  precision    recall  f1_score  \\\n",
       "0  bin_m     MI    LR_L1     1466  0.819444   0.815893  0.815893  0.815893   \n",
       "0  bin_m     MI    LR_EN     1466  0.840278   0.837081  0.842054  0.838526   \n",
       "0  bin_m  ANOVA      SVM     1466  0.826389   0.822751  0.823958  0.823313   \n",
       "\n",
       "    roc_auc   hostname  total_time_sec                    datetime  \\\n",
       "0  0.885523  amilcar22             482  2023-10-29 22:47:59.758372   \n",
       "0  0.907160  amilcar22             762  2023-10-29 22:39:50.662473   \n",
       "0  0.910307  amilcar22               3  2023-10-29 22:27:01.993012   \n",
       "\n",
       "                    fichero_modelo  \\\n",
       "0   modelo_1466_bin_m_MI_LR_L1.pkl   \n",
       "0   modelo_1466_bin_m_MI_LR_EN.pkl   \n",
       "0  modelo_1466_bin_m_ANOVA_SVM.pkl   \n",
       "\n",
       "                                              params                shape  \\\n",
       "0  {'selector__k': 500, 'clasifier__solver': 'sag...  X_test:(144, 18875)   \n",
       "0  {'selector__k': 1000, 'clasifier__solver': 'sa...  X_test:(144, 18875)   \n",
       "0  {'selector__k': 500, 'clasifier__kernel': 'rbf...  X_test:(144, 18875)   \n",
       "\n",
       "                                            features  \n",
       "0  ['ENSG00000002330.14', 'ENSG00000002933.9', 'E...  \n",
       "0  ['ENSG00000002330.14', 'ENSG00000002933.9', 'E...  \n",
       "0  ['ENSG00000000971.17', 'ENSG00000001626.18', '...  "
      ]
     },
     "metadata": {},
     "output_type": "display_data"
    }
   ],
   "source": [
    "if M_TIPO.startswith(\"bin\"):\n",
    "    myfunc.save_metricas_to_csv(random_search, X_test, y_test, M_TIPO, M_SELECT, M_CLASIF, total_time, SEMILLA, myfunc.MET_DIR, M_FICHERO, fichero_modelo)\n",
    "else:\n",
    "    myfunc.save_metricas_multi_to_csv(random_search, X_test, y_test, M_TIPO, M_SELECT, M_CLASIF, total_time, SEMILLA, myfunc.MET_DIR, M_FICHERO, fichero_modelo)\n",
    "\n",
    "df1=myfunc.read_metricas_to_df(myfunc.MET_DIR,M_FICHERO)\n",
    "\n",
    "display(df1.sort_values(\"datetime\", ascending=False)[:3])\n"
   ]
  },
  {
   "cell_type": "markdown",
   "id": "3a8e5a00",
   "metadata": {
    "papermill": {
     "duration": 0.008439,
     "end_time": "2023-10-29T21:47:59.796237",
     "exception": false,
     "start_time": "2023-10-29T21:47:59.787798",
     "status": "completed"
    },
    "tags": []
   },
   "source": [
    "#### Guardar resultados"
   ]
  },
  {
   "cell_type": "code",
   "execution_count": 13,
   "id": "cb7bef38",
   "metadata": {
    "execution": {
     "iopub.execute_input": "2023-10-29T21:47:59.814227Z",
     "iopub.status.busy": "2023-10-29T21:47:59.814014Z",
     "iopub.status.idle": "2023-10-29T21:47:59.822694Z",
     "shell.execute_reply": "2023-10-29T21:47:59.822271Z"
    },
    "papermill": {
     "duration": 0.019781,
     "end_time": "2023-10-29T21:47:59.824529",
     "exception": false,
     "start_time": "2023-10-29T21:47:59.804748",
     "status": "completed"
    },
    "tags": []
   },
   "outputs": [
    {
     "name": "stdout",
     "output_type": "stream",
     "text": [
      "20231029T224759 : amilcar22 : INFO : Inicio guardar resultados\n",
      "20231029T224759 : amilcar22 : INFO : Inicio guardar fichero ../tfm_git/ejecuciones/metricas/resultados_1466_bin_m-MI-LR_L1.csv\n",
      "20231029T224759 : amilcar22 : INFO : Fin guardar fichero ../tfm_git/ejecuciones/metricas/resultados_1466_bin_m-MI-LR_L1.csv\n",
      "20231029T224759 : amilcar22 : INFO : Fin guardar resultados\n"
     ]
    }
   ],
   "source": [
    "fichero_resultados=R_FICHERO+\"_\"+M_TIPO+\"-\"+M_SELECT+\"-\"+M_CLASIF+\".csv\"\n",
    "myfunc.save_resultados_to_csv(M_TIPO, M_SELECT, M_CLASIF,  random_search, myfunc.MET_DIR, fichero_resultados)\n"
   ]
  }
 ],
 "metadata": {
  "kernelspec": {
   "display_name": "Python 3 (ipykernel)",
   "language": "python",
   "name": "python3"
  },
  "language_info": {
   "codemirror_mode": {
    "name": "ipython",
    "version": 3
   },
   "file_extension": ".py",
   "mimetype": "text/x-python",
   "name": "python",
   "nbconvert_exporter": "python",
   "pygments_lexer": "ipython3",
   "version": "3.10.12"
  },
  "papermill": {
   "default_parameters": {},
   "duration": 487.607155,
   "end_time": "2023-10-29T21:48:02.448246",
   "environment_variables": {},
   "exception": null,
   "input_path": "03_entrenamiento.ipynb",
   "output_path": "ejecuciones/training/03_entrenamiento.20231029T223954.param_0000_1466_bin_m_MI_LR_L1.output.ipynb",
   "parameters": {
    "MAX_ITERS": 500,
    "M_CLASIF": "LR_L1",
    "M_FICHERO": "metricas_1466",
    "M_SELECT": "MI",
    "M_TIPO": "bin_m",
    "PRE_DATA_FILE": "rows_transpose_norm_by_gene_id_with_target_num_",
    "P_FICHERO": "param_0000_1466_bin_m_MI_LR_L1.yaml",
    "R_FICHERO": "resultados_1466",
    "SCORING": "roc_auc_ovr",
    "SEMILLA": 1466,
    "eval_clasifier": "LogisticRegressionCV(random_state=SEMILLA)",
    "eval_selector": "SelectKBest(score_func=mutual_info_classif_state)",
    "param_distributions": {
     "clasifier__max_iter": [
      10000
     ],
     "clasifier__penalty": [
      "l1"
     ],
     "clasifier__solver": [
      "saga"
     ],
     "selector__k": [
      500
     ]
    }
   },
   "start_time": "2023-10-29T21:39:54.841091",
   "version": "2.4.0"
  }
 },
 "nbformat": 4,
 "nbformat_minor": 5
}