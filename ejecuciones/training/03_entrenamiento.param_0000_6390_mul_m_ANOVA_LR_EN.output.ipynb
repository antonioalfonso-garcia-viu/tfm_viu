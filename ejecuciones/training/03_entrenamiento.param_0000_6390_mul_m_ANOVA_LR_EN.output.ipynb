{
 "cells": [
  {
   "cell_type": "markdown",
   "id": "a870b7e8",
   "metadata": {
    "papermill": {
     "duration": 0.003118,
     "end_time": "2023-10-30T13:15:06.797147",
     "exception": false,
     "start_time": "2023-10-30T13:15:06.794029",
     "status": "completed"
    },
    "tags": []
   },
   "source": [
    "##### Inicio"
   ]
  },
  {
   "cell_type": "markdown",
   "id": "a860eb1b",
   "metadata": {
    "papermill": {
     "duration": 0.002326,
     "end_time": "2023-10-30T13:15:06.802048",
     "exception": false,
     "start_time": "2023-10-30T13:15:06.799722",
     "status": "completed"
    },
    "tags": []
   },
   "source": [
    "#### Carga de datos"
   ]
  },
  {
   "cell_type": "code",
   "execution_count": 1,
   "id": "9db54f41",
   "metadata": {
    "execution": {
     "iopub.execute_input": "2023-10-30T13:15:06.807893Z",
     "iopub.status.busy": "2023-10-30T13:15:06.807642Z",
     "iopub.status.idle": "2023-10-30T13:15:07.674499Z",
     "shell.execute_reply": "2023-10-30T13:15:07.673941Z"
    },
    "papermill": {
     "duration": 0.871417,
     "end_time": "2023-10-30T13:15:07.675826",
     "exception": false,
     "start_time": "2023-10-30T13:15:06.804409",
     "status": "completed"
    },
    "tags": []
   },
   "outputs": [
    {
     "name": "stdout",
     "output_type": "stream",
     "text": [
      "CPU_COUNT: 8; NODE: amilcar22; sys.version: 3.10.12 (main, Jul  5 2023, 19:22:19) [GCC 11.2.0]\n",
      "LOKY_MAX_CPU_COUNT: 6\n",
      "OMP_NUM_THREADS: 2\n"
     ]
    }
   ],
   "source": [
    "import os\n",
    "import numpy as np\n",
    "import pandas as pd\n",
    "import datetime\n",
    "import sklearn\n",
    "import logging\n",
    "import warnings\n",
    "\n",
    "from sklearn.pipeline import Pipeline\n",
    "from sklearn.model_selection import RandomizedSearchCV, KFold, cross_val_score, train_test_split\n",
    "from sklearn.metrics import accuracy_score, confusion_matrix, classification_report, roc_auc_score\n",
    "\n",
    "#  cargar algoritmos para aprendizaje supervisado\n",
    "from sklearn.feature_selection import SelectKBest, f_classif, SelectFromModel, mutual_info_classif\n",
    "from sklearn.svm import SVC\n",
    "from sklearn.ensemble import RandomForestClassifier\n",
    "from sklearn.linear_model import LogisticRegression,LogisticRegressionCV\n",
    "\n",
    "# importar fichero con utilidades propias\n",
    "from commons import myfunctions as myfunc\n"
   ]
  },
  {
   "cell_type": "markdown",
   "id": "212198ae",
   "metadata": {
    "papermill": {
     "duration": 0.002603,
     "end_time": "2023-10-30T13:15:07.681475",
     "exception": false,
     "start_time": "2023-10-30T13:15:07.678872",
     "status": "completed"
    },
    "tags": []
   },
   "source": [
    "#### Parámetros a utilizar en el entrenamiento.\n",
    "\n",
    "Se indican los 3 algoritmos de *selección de características* (eval_selector_xxx) y los 3 algoritmos para la _clasificación_ (eval_clasifier_xxx)\n",
    "\n",
    "En *param_distributions* se indicar los parámetros que utilizan los algoritmos en la función RandomSearchCV.\n",
    "\n",
    "Esta celda tiene la etiqueta **parameters** que servirá para poder lanzar los entrenamientos con la utilidad **papermill** pasándole un fichero con los parámetros. Los nuevos parámetros se situarán tras esta celda para tener prevalencia."
   ]
  },
  {
   "cell_type": "code",
   "execution_count": 2,
   "id": "589cf8d8",
   "metadata": {
    "execution": {
     "iopub.execute_input": "2023-10-30T13:15:07.687529Z",
     "iopub.status.busy": "2023-10-30T13:15:07.687227Z",
     "iopub.status.idle": "2023-10-30T13:15:07.694143Z",
     "shell.execute_reply": "2023-10-30T13:15:07.693719Z"
    },
    "papermill": {
     "duration": 0.011358,
     "end_time": "2023-10-30T13:15:07.695325",
     "exception": false,
     "start_time": "2023-10-30T13:15:07.683967",
     "status": "completed"
    },
    "tags": [
     "parameters"
    ]
   },
   "outputs": [
    {
     "name": "stdout",
     "output_type": "stream",
     "text": [
      "20231030T141507 : amilcar22 : INFO : Utilizando parámetros de mul_m\n"
     ]
    }
   ],
   "source": [
    "#  Parametros para el entrenamiento\n",
    "\n",
    "SEMILLA=        42\n",
    "M_TIPO=         \"mul_m\"\n",
    "M_SELECT=       \"MI\"\n",
    "M_CLASIF=       \"SVM\"\n",
    "R_FICHERO=      \"resultados\"\n",
    "M_FICHERO=      \"metricas\"\n",
    "PRE_DATA_FILE=  \"rows_transpose_norm_by_gene_id_with_target_num_\"\n",
    "SCORING=        \"roc_auc_ovr\" \n",
    "MAX_ITERS=      100\n",
    "\n",
    "def mutual_info_classif_state(X, y):\n",
    "    return mutual_info_classif(X, y, random_state=SEMILLA)\n",
    "\n",
    "eval_selector_mi = \"SelectKBest(score_func=mutual_info_classif_state)\"\n",
    "eval_selector_rf=  \"SelectFromModel(estimator=RandomForestClassifier(random_state=SEMILLA), threshold=-np.inf)\"\n",
    "eval_selector_anova=  \"SelectKBest(score_func=f_classif)\"\n",
    "\n",
    "eval_clasifier_svm= \"SVC(probability=True, random_state=SEMILLA)\"\n",
    "eval_clasifier_rf= \"RandomForestClassifier(random_state=SEMILLA)\"\n",
    "eval_clasifier_lr= \"LogisticRegressionCV(random_state=SEMILLA)\"\n",
    "\n",
    "if M_TIPO.startswith(\"bin_m\"):\n",
    "    myfunc.verbose(f\"Utilizando parámetros de {M_TIPO}\")\n",
    "    eval_selector = eval_selector_mi\n",
    "    eval_clasifier = eval_clasifier_svm\n",
    "\n",
    "    SEMILLA = 6578\n",
    "    M_SELECT = \"MI\"\n",
    "    M_CLASIF = \"SVM\"\n",
    "    param_distributions = {'selector__k': [1000], \n",
    "         'clasifier__kernel': ['rbf'], 'clasifier__gamma': [0.01], 'clasifier__C': [100]}\n",
    "elif M_TIPO.startswith(\"bin_s\"):\n",
    "    myfunc.verbose(f\"Utilizando parámetros de {M_TIPO}\")\n",
    "    eval_selector = eval_selector_rf\n",
    "    eval_clasifier = eval_clasifier_lr\n",
    "\n",
    "    SEMILLA = 6191\n",
    "    M_SELECT = \"RF\"\n",
    "    M_CLASIF = \"LR_L2\"\n",
    "    param_distributions = {'selector__max_features': [1000], 'selector__estimator__n_estimators': [200], \n",
    "        'clasifier__solver': ['lbfgs'], 'clasifier__penalty': ['l2'], 'clasifier__max_iter': [10000]}\n",
    "\n",
    "elif M_TIPO.startswith(\"mul_m\"):\n",
    "    myfunc.verbose(f\"Utilizando parámetros de {M_TIPO}\")\n",
    " \n",
    "    eval_selector = eval_selector_rf\n",
    "    eval_clasifier = eval_clasifier_lr\n",
    "\n",
    "    SEMILLA = 6191\n",
    "    M_SELECT = \"RF\"\n",
    "    M_CLASIF = \"LR_L2\"\n",
    "    param_distributions = {'selector__max_features': [1000], 'selector__estimator__n_estimators': [400], \n",
    "        'clasifier__solver': ['lbfgs'], 'clasifier__penalty': ['l2'], 'clasifier__max_iter': [10000]}\n",
    "\n",
    "else:\n",
    "    # M_TIPO.startswith(\"mul_s\"):\n",
    "    myfunc.verbose(f\"Utilizando parámetros de {M_TIPO}\")\n",
    "    eval_selector = eval_selector_anova\n",
    "    eval_clasifier = eval_clasifier_lr\n",
    "\n",
    "    SEMILLA = 1860\n",
    "    M_SELECT = \"ANOVA\"\n",
    "    M_CLASIF = \"LR_L2\"\n",
    "    param_distributions = {'selector__k': [1000], \n",
    "        'clasifier__solver': ['saga'], 'clasifier__penalty': ['l2'], 'clasifier__max_iter': [10000]}\n",
    "\n"
   ]
  },
  {
   "cell_type": "code",
   "execution_count": 3,
   "id": "441343fd",
   "metadata": {
    "execution": {
     "iopub.execute_input": "2023-10-30T13:15:07.701470Z",
     "iopub.status.busy": "2023-10-30T13:15:07.701287Z",
     "iopub.status.idle": "2023-10-30T13:15:07.704921Z",
     "shell.execute_reply": "2023-10-30T13:15:07.704474Z"
    },
    "papermill": {
     "duration": 0.007972,
     "end_time": "2023-10-30T13:15:07.706041",
     "exception": false,
     "start_time": "2023-10-30T13:15:07.698069",
     "status": "completed"
    },
    "tags": [
     "injected-parameters"
    ]
   },
   "outputs": [],
   "source": [
    "# Parameters\n",
    "M_TIPO = \"mul_m\"\n",
    "M_SELECT = \"ANOVA\"\n",
    "M_CLASIF = \"LR_EN\"\n",
    "P_FICHERO = \"param_0000_6390_mul_m_ANOVA_LR_EN.yaml\"\n",
    "R_FICHERO = \"resultados_6390\"\n",
    "M_FICHERO = \"metricas_6390\"\n",
    "PRE_DATA_FILE = \"rows_transpose_norm_by_gene_id_with_target_num_\"\n",
    "SCORING = \"roc_auc_ovr\"\n",
    "SEMILLA = 6390\n",
    "MAX_ITERS = 500\n",
    "eval_selector = \"SelectKBest(score_func=f_classif)\"\n",
    "eval_clasifier = \"LogisticRegressionCV(random_state=SEMILLA)\"\n",
    "param_distributions = {\n",
    "    \"selector__k\": [1000],\n",
    "    \"clasifier__solver\": [\"saga\"],\n",
    "    \"clasifier__penalty\": [\"elasticnet\"],\n",
    "    \"clasifier__max_iter\": [10000],\n",
    "    \"clasifier__l1_ratios\": [[0.1]],\n",
    "}\n"
   ]
  },
  {
   "cell_type": "code",
   "execution_count": 4,
   "id": "658bd4b2",
   "metadata": {
    "execution": {
     "iopub.execute_input": "2023-10-30T13:15:07.712218Z",
     "iopub.status.busy": "2023-10-30T13:15:07.712042Z",
     "iopub.status.idle": "2023-10-30T13:15:07.714934Z",
     "shell.execute_reply": "2023-10-30T13:15:07.714468Z"
    },
    "papermill": {
     "duration": 0.00734,
     "end_time": "2023-10-30T13:15:07.716156",
     "exception": false,
     "start_time": "2023-10-30T13:15:07.708816",
     "status": "completed"
    },
    "tags": []
   },
   "outputs": [],
   "source": [
    "DATA_FILE = PRE_DATA_FILE + M_TIPO\n",
    "\n",
    "# si viene \"None\" en el parámetro max_depth, se le quitan las comillas para que no sea entendido por el algoritmo como un texto\n",
    "if \"clasifier__max_depth\" in param_distributions:\n",
    "    param_distributions['clasifier__max_depth'] = [None if x == 'None' else x for x in param_distributions['clasifier__max_depth']]"
   ]
  },
  {
   "cell_type": "markdown",
   "id": "ed9fb6da",
   "metadata": {
    "papermill": {
     "duration": 0.002563,
     "end_time": "2023-10-30T13:15:07.721503",
     "exception": false,
     "start_time": "2023-10-30T13:15:07.718940",
     "status": "completed"
    },
    "tags": []
   },
   "source": [
    "Asignar los algoritmos que se utilizarán en la función RandomSearchCV"
   ]
  },
  {
   "cell_type": "code",
   "execution_count": 5,
   "id": "d04b6a40",
   "metadata": {
    "execution": {
     "iopub.execute_input": "2023-10-30T13:15:07.727390Z",
     "iopub.status.busy": "2023-10-30T13:15:07.727201Z",
     "iopub.status.idle": "2023-10-30T13:15:07.729889Z",
     "shell.execute_reply": "2023-10-30T13:15:07.729357Z"
    },
    "papermill": {
     "duration": 0.007208,
     "end_time": "2023-10-30T13:15:07.731303",
     "exception": false,
     "start_time": "2023-10-30T13:15:07.724095",
     "status": "completed"
    },
    "tags": []
   },
   "outputs": [],
   "source": [
    "algor_selector=eval(eval_selector)\n",
    "algor_clasifier=eval(eval_clasifier)"
   ]
  },
  {
   "cell_type": "markdown",
   "id": "22827b4b",
   "metadata": {
    "papermill": {
     "duration": 0.003761,
     "end_time": "2023-10-30T13:15:07.738739",
     "exception": false,
     "start_time": "2023-10-30T13:15:07.734978",
     "status": "completed"
    },
    "tags": []
   },
   "source": [
    "#### Comprobar el entorno y leer fichero de muestras"
   ]
  },
  {
   "cell_type": "code",
   "execution_count": 6,
   "id": "da81ba75",
   "metadata": {
    "execution": {
     "iopub.execute_input": "2023-10-30T13:15:07.746620Z",
     "iopub.status.busy": "2023-10-30T13:15:07.746439Z",
     "iopub.status.idle": "2023-10-30T13:15:07.909361Z",
     "shell.execute_reply": "2023-10-30T13:15:07.908841Z"
    },
    "papermill": {
     "duration": 0.168265,
     "end_time": "2023-10-30T13:15:07.910623",
     "exception": false,
     "start_time": "2023-10-30T13:15:07.742358",
     "status": "completed"
    },
    "tags": []
   },
   "outputs": [
    {
     "name": "stdout",
     "output_type": "stream",
     "text": [
      "20231030T141507 : amilcar22 : INFO : Encontrada carpeta DATA_DIR=../tfm_git/datos\n",
      "20231030T141507 : amilcar22 : INFO : Encontrada carpeta CFDNA_DIR=../tfm_git/datos/cfDNA_5hmC\n",
      "20231030T141507 : amilcar22 : INFO : Encontrada carpeta GENCODE_DIR=../tfm_git/datos/gencode\n",
      "20231030T141507 : amilcar22 : INFO : Encontrada carpeta H5_DIR=../tfm_git/datos/h5\n",
      "20231030T141507 : amilcar22 : INFO : Encontrada carpeta LOG_DIR=../tfm_git/datos/logs\n",
      "20231030T141507 : amilcar22 : INFO : Encontrada carpeta CSV_DIR=../tfm_git/datos/csv\n",
      "20231030T141507 : amilcar22 : INFO : Encontrada carpeta MODEL_DIR=../tfm_git/ejecuciones/modelos\n",
      "20231030T141507 : amilcar22 : INFO : Encontrada carpeta EXEC_DIR=../tfm_git/ejecuciones\n",
      "20231030T141507 : amilcar22 : INFO : Encontrada carpeta MET_DIR=../tfm_git/ejecuciones/metricas\n",
      "20231030T141507 : amilcar22 : INFO : Inicio leer fichero h5 ../tfm_git/datos/h5/rows_transpose_norm_by_gene_id_with_target_num_mul_m.h5\n",
      "20231030T141507 : amilcar22 : INFO : Leyendo clave /df\n",
      "20231030T141507 : amilcar22 : INFO : Tamaño (434, 18876)\n",
      "20231030T141507 : amilcar22 : INFO : Fin leer fichero h5 ../tfm_git/datos/h5/rows_transpose_norm_by_gene_id_with_target_num_mul_m.h5\n"
     ]
    },
    {
     "data": {
      "text/plain": [
       "target\n",
       "0    62\n",
       "1    62\n",
       "2    62\n",
       "3    62\n",
       "4    62\n",
       "5    62\n",
       "6    62\n",
       "dtype: int64"
      ]
     },
     "metadata": {},
     "output_type": "display_data"
    },
    {
     "name": "stdout",
     "output_type": "stream",
     "text": [
      "Shape df: (434, 18876)\n"
     ]
    },
    {
     "name": "stdout",
     "output_type": "stream",
     "text": [
      "Shape X_train: (347, 18875)\n",
      "Shape X_test: (87, 18875)\n"
     ]
    }
   ],
   "source": [
    "start_time = datetime.datetime.now()\n",
    "\n",
    "myfunc.reset_vars()\n",
    "\n",
    "myfunc.NOTEBK_FILENAME = myfunc.get_nb_name()\n",
    "\n",
    "myfunc.check_enviroment(myfunc.DATA_DIR, myfunc.CFDNA_DIR, myfunc.GENCODE_DIR, myfunc.H5_DIR, myfunc.LOG_DIR, myfunc.CSV_DIR, myfunc.MODEL_DIR, myfunc.EXEC_DIR, myfunc.MET_DIR)\n",
    "\n",
    "# Leer fichero con las muestras\n",
    "df_t = myfunc.read_h5_to_df(DATA_FILE, myfunc.H5_DIR)\n",
    "display(df_t.groupby(\"target\").size())\n",
    "print(\"Shape df:\",df_t.shape)\n",
    "\n",
    "# Separar caracteristicas/genes de las etiquetas/tipos de cáncer\n",
    "X = df_t.iloc[:, :-1]  # Todas las columnas excepto la última\n",
    "y = df_t.iloc[:, -1]  # La última columna contiene los identificadores de los tipos de cáncer\n",
    "\n",
    "#  Crear el conjunto de datos de entrenamiento y de pruebas, y se fija la semilla para siempre coger el mismo juego de muestras\n",
    "X_train, X_test, y_train, y_test = train_test_split(X, y, test_size=0.2, shuffle=True, random_state=42)\n",
    "print(\"Shape X_train:\",X_train.shape)\n",
    "print(\"Shape X_test:\",X_test.shape)\n"
   ]
  },
  {
   "cell_type": "markdown",
   "id": "fd534ec7",
   "metadata": {
    "papermill": {
     "duration": 0.00282,
     "end_time": "2023-10-30T13:15:07.916867",
     "exception": false,
     "start_time": "2023-10-30T13:15:07.914047",
     "status": "completed"
    },
    "tags": []
   },
   "source": [
    "#### Selección de características y clasificación."
   ]
  },
  {
   "cell_type": "code",
   "execution_count": 7,
   "id": "d205fab2",
   "metadata": {
    "execution": {
     "iopub.execute_input": "2023-10-30T13:15:07.923681Z",
     "iopub.status.busy": "2023-10-30T13:15:07.923176Z",
     "iopub.status.idle": "2023-10-30T13:48:06.357557Z",
     "shell.execute_reply": "2023-10-30T13:48:06.356872Z"
    },
    "papermill": {
     "duration": 1978.442106,
     "end_time": "2023-10-30T13:48:06.361778",
     "exception": false,
     "start_time": "2023-10-30T13:15:07.919672",
     "status": "completed"
    },
    "tags": []
   },
   "outputs": [
    {
     "name": "stdout",
     "output_type": "stream",
     "text": [
      "20231030T141507 : amilcar22 : INFO : Iniciando entrenamiento\n",
      "num_iter: 1 , max_iter: 1\n",
      "Fitting 5 folds for each of 1 candidates, totalling 5 fits\n"
     ]
    },
    {
     "name": "stderr",
     "output_type": "stream",
     "text": [
      "/home/antonio/miniconda3/lib/python3.10/site-packages/sklearn/feature_selection/_univariate_selection.py:112: UserWarning: Features [  298  1508  1733  2010  2265  2266  2553  2803  2896  3415  3492  4075\n",
      "  5803  6984  6993  7416  8791  9087  9490 10035 10475 11020 11022 11565\n",
      " 11613 11943 12249 12480 12831 12888 13836 13848 13959 14000 14015 14789\n",
      " 14795 14941 15397 15515 15563 15824 16258 16276 16281 16313 16323 16339\n",
      " 16372 16701 16704 16870 16905 16906 17024 17093 17231 17274 18288 18368\n",
      " 18374 18405 18530 18608 18693] are constant.\n",
      "  warnings.warn(\"Features %s are constant.\" % constant_features_idx, UserWarning)\n",
      "/home/antonio/miniconda3/lib/python3.10/site-packages/sklearn/feature_selection/_univariate_selection.py:113: RuntimeWarning: invalid value encountered in divide\n",
      "  f = msb / msw\n",
      "/home/antonio/miniconda3/lib/python3.10/site-packages/sklearn/feature_selection/_univariate_selection.py:112: UserWarning: Features [  298   382  1508  1733  2010  2265  2266  2553  2803  2896  3415  4075\n",
      "  5803  6984  7416  8791  9087  9490 10475 11020 11419 11613 11943 12249\n",
      " 12480 12831 12973 13300 13836 13848 13959 14015 14451 14735 14795 14941\n",
      " 15397 15401 15515 15563 15824 16260 16276 16313 16323 16339 16372 16520\n",
      " 16701 16870 16905 16906 17024 17093 17231 17274 17312 17418 18245 18368\n",
      " 18374 18405 18546 18608] are constant.\n",
      "  warnings.warn(\"Features %s are constant.\" % constant_features_idx, UserWarning)\n",
      "/home/antonio/miniconda3/lib/python3.10/site-packages/sklearn/feature_selection/_univariate_selection.py:113: RuntimeWarning: invalid value encountered in divide\n",
      "  f = msb / msw\n",
      "/home/antonio/miniconda3/lib/python3.10/site-packages/sklearn/feature_selection/_univariate_selection.py:112: UserWarning: Features [  298  1508  1733  2010  2265  2266  2553  2803  2896  3415  4075  5533\n",
      "  5803  6984  7416  8513  8791  9087  9490 10475 11020 11562 11613 11943\n",
      " 12249 12480 12831 13047 13259 13836 13848 13959 14015 14795 14941 15397\n",
      " 15515 15563 15824 15881 16262 16267 16276 16278 16279 16287 16313 16323\n",
      " 16339 16372 16701 16870 16905 16906 16956 17024 17093 17231 17274 17741\n",
      " 18241 18368 18374 18405 18608] are constant.\n",
      "  warnings.warn(\"Features %s are constant.\" % constant_features_idx, UserWarning)\n",
      "/home/antonio/miniconda3/lib/python3.10/site-packages/sklearn/feature_selection/_univariate_selection.py:113: RuntimeWarning: invalid value encountered in divide\n",
      "  f = msb / msw\n"
     ]
    },
    {
     "name": "stderr",
     "output_type": "stream",
     "text": [
      "/home/antonio/miniconda3/lib/python3.10/site-packages/sklearn/feature_selection/_univariate_selection.py:112: UserWarning: Features [  298  1508  1733  1846  2010  2222  2265  2266  2553  2803  2896  3415\n",
      "  4075  5668  5803  6053  6984  7416  8791  9087  9490 10475 11020 11613\n",
      " 11943 12249 12433 12480 12831 13235 13836 13848 13860 13959 14015 14244\n",
      " 14559 14637 14795 14941 15183 15397 15515 15516 15563 15824 16018 16276\n",
      " 16312 16313 16323 16339 16372 16522 16701 16870 16905 16906 17024 17093\n",
      " 17231 17264 17269 17274 17540 18368 18374 18405 18486 18608 18692 18868] are constant.\n",
      "  warnings.warn(\"Features %s are constant.\" % constant_features_idx, UserWarning)\n",
      "/home/antonio/miniconda3/lib/python3.10/site-packages/sklearn/feature_selection/_univariate_selection.py:113: RuntimeWarning: invalid value encountered in divide\n",
      "  f = msb / msw\n",
      "/home/antonio/miniconda3/lib/python3.10/site-packages/sklearn/feature_selection/_univariate_selection.py:112: UserWarning: Features [  298  1508  1733  2010  2265  2266  2553  2688  2803  2896  3415  4075\n",
      "  5803  6981  6984  7416  7418  8510  8791  9087  9490 10475 11020 11613\n",
      " 11943 11946 12249 12480 12831 12940 13836 13848 13959 14015 14245 14795\n",
      " 14941 15397 15515 15563 15824 16268 16276 16313 16323 16339 16372 16479\n",
      " 16630 16667 16679 16701 16819 16870 16905 16906 16968 17024 17091 17093\n",
      " 17231 17274 17566 18368 18374 18405 18608] are constant.\n",
      "  warnings.warn(\"Features %s are constant.\" % constant_features_idx, UserWarning)\n",
      "/home/antonio/miniconda3/lib/python3.10/site-packages/sklearn/feature_selection/_univariate_selection.py:113: RuntimeWarning: invalid value encountered in divide\n",
      "  f = msb / msw\n"
     ]
    },
    {
     "name": "stderr",
     "output_type": "stream",
     "text": [
      "/home/antonio/miniconda3/lib/python3.10/site-packages/sklearn/feature_selection/_univariate_selection.py:112: UserWarning: Features [  298  1508  1733  2010  2265  2266  2553  2803  2896  3415  4075  5803\n",
      "  6984  7416  8791  9087  9490 10475 11020 11613 11943 12249 12480 12831\n",
      " 13836 13848 13959 14015 14795 14941 15397 15515 15563 15824 16276 16313\n",
      " 16323 16339 16372 16701 16870 16905 16906 17024 17093 17231 17274 18368\n",
      " 18374 18405 18608] are constant.\n",
      "  warnings.warn(\"Features %s are constant.\" % constant_features_idx, UserWarning)\n",
      "/home/antonio/miniconda3/lib/python3.10/site-packages/sklearn/feature_selection/_univariate_selection.py:113: RuntimeWarning: invalid value encountered in divide\n",
      "  f = msb / msw\n"
     ]
    },
    {
     "name": "stdout",
     "output_type": "stream",
     "text": [
      "[CV 2/5] END clasifier__l1_ratios=[0.1], clasifier__max_iter=10000, clasifier__penalty=elasticnet, clasifier__solver=saga, selector__k=1000;, score=0.836 total time=13.0min\n"
     ]
    },
    {
     "name": "stdout",
     "output_type": "stream",
     "text": [
      "[CV 1/5] END clasifier__l1_ratios=[0.1], clasifier__max_iter=10000, clasifier__penalty=elasticnet, clasifier__solver=saga, selector__k=1000;, score=0.810 total time=13.4min\n"
     ]
    },
    {
     "name": "stdout",
     "output_type": "stream",
     "text": [
      "[CV 3/5] END clasifier__l1_ratios=[0.1], clasifier__max_iter=10000, clasifier__penalty=elasticnet, clasifier__solver=saga, selector__k=1000;, score=0.865 total time=14.0min\n"
     ]
    },
    {
     "name": "stdout",
     "output_type": "stream",
     "text": [
      "[CV 4/5] END clasifier__l1_ratios=[0.1], clasifier__max_iter=10000, clasifier__penalty=elasticnet, clasifier__solver=saga, selector__k=1000;, score=0.877 total time=16.1min\n"
     ]
    },
    {
     "name": "stdout",
     "output_type": "stream",
     "text": [
      "[CV 5/5] END clasifier__l1_ratios=[0.1], clasifier__max_iter=10000, clasifier__penalty=elasticnet, clasifier__solver=saga, selector__k=1000;, score=0.912 total time=16.6min\n"
     ]
    },
    {
     "name": "stdout",
     "output_type": "stream",
     "text": [
      "Mejores Hiperparámetros: {'selector__k': 1000, 'clasifier__solver': 'saga', 'clasifier__penalty': 'elasticnet', 'clasifier__max_iter': 10000, 'clasifier__l1_ratios': [0.1]}\n",
      "Mejor Puntuación: 0.8602\n",
      "20231030T144806 : amilcar22 : INFO : Fin entrenamiento\n"
     ]
    }
   ],
   "source": [
    "myfunc.verbose(\"Iniciando entrenamiento\")\n",
    "\n",
    "kf = KFold(n_splits=5, shuffle=True, random_state=SEMILLA)\n",
    "\n",
    "# Crear el pipeline para el flujo de tareas\n",
    "tasks_pipeline = Pipeline([\n",
    "    ('selector', algor_selector),\n",
    "    ('clasifier', algor_clasifier)\n",
    "])\n",
    "\n",
    "# MAX_ITERS puede limitar el número de iteraciones si son excesivas para las combinaciones de parámetros buscando un óptimo local, \n",
    "# sino funcionaría como GridSearchCV al revisar todas las cominaciones de los parámetros\n",
    "num_iteraciones = 1\n",
    "num_iteraciones = num_iteraciones * np.prod([len(elemento1) for _, elemento1 in param_distributions.items()])\n",
    "max_iteraciones = num_iteraciones if num_iteraciones <= MAX_ITERS else MAX_ITERS\n",
    "print(\"num_iter:\",num_iteraciones,\", max_iter:\",max_iteraciones)\n",
    "\n",
    "random_search = RandomizedSearchCV(\n",
    "    tasks_pipeline, \n",
    "    param_distributions, \n",
    "    n_iter=max_iteraciones,\n",
    "    scoring=SCORING,\n",
    "    cv=kf,\n",
    "    verbose=3, \n",
    "    random_state=SEMILLA, \n",
    "    n_jobs=-1\n",
    "    )\n",
    "\n",
    "# Entrenar el modelo\n",
    "random_search.fit(X_train, y_train)\n",
    "\n",
    "# Ver los mejores hiperparámetros encontrados\n",
    "print(f'Mejores Hiperparámetros: {random_search.best_params_}')\n",
    "print(f'Mejor Puntuación: {random_search.best_score_:.4f}')\n",
    "\n",
    "# Nos quedamos con el mejor modelo para ver las métricas\n",
    "mejor_modelo = random_search.best_estimator_\n",
    "\n",
    "myfunc.verbose(\"Fin entrenamiento\")"
   ]
  },
  {
   "cell_type": "markdown",
   "id": "db26b576",
   "metadata": {
    "papermill": {
     "duration": 0.003378,
     "end_time": "2023-10-30T13:48:06.368688",
     "exception": false,
     "start_time": "2023-10-30T13:48:06.365310",
     "status": "completed"
    },
    "tags": []
   },
   "source": [
    "#### Guardar modelo"
   ]
  },
  {
   "cell_type": "code",
   "execution_count": 8,
   "id": "881f3bee",
   "metadata": {
    "execution": {
     "iopub.execute_input": "2023-10-30T13:48:06.376003Z",
     "iopub.status.busy": "2023-10-30T13:48:06.375768Z",
     "iopub.status.idle": "2023-10-30T13:48:06.386874Z",
     "shell.execute_reply": "2023-10-30T13:48:06.386380Z"
    },
    "papermill": {
     "duration": 0.016276,
     "end_time": "2023-10-30T13:48:06.388105",
     "exception": false,
     "start_time": "2023-10-30T13:48:06.371829",
     "status": "completed"
    },
    "tags": []
   },
   "outputs": [
    {
     "name": "stdout",
     "output_type": "stream",
     "text": [
      "20231030T144806 : amilcar22 : INFO : Inicio guardar fichero ../tfm_git/ejecuciones/modelos/modelo_6390_mul_m_ANOVA_LR_EN.pkl\n",
      "20231030T144806 : amilcar22 : INFO : Fin guardar fichero ../tfm_git/ejecuciones/modelos/modelo_6390_mul_m_ANOVA_LR_EN.pkl\n"
     ]
    }
   ],
   "source": [
    "fichero_modelo = str.replace(\"modelo_\"+str(SEMILLA).zfill(4)+\"_\"+M_TIPO+\"_\"+M_SELECT+\"_\"+M_CLASIF+\".pkl\", \" \", \"_\")\n",
    "\n",
    "myfunc.save_modelo(mejor_modelo, myfunc.MODEL_DIR, fichero_modelo)"
   ]
  },
  {
   "cell_type": "markdown",
   "id": "f688dc51",
   "metadata": {
    "papermill": {
     "duration": 0.003379,
     "end_time": "2023-10-30T13:48:06.395107",
     "exception": false,
     "start_time": "2023-10-30T13:48:06.391728",
     "status": "completed"
    },
    "tags": []
   },
   "source": [
    "#### Ver resultados del las iteraciones hechas por RandomSearchCV"
   ]
  },
  {
   "cell_type": "code",
   "execution_count": 9,
   "id": "e72164a8",
   "metadata": {
    "execution": {
     "iopub.execute_input": "2023-10-30T13:48:06.402564Z",
     "iopub.status.busy": "2023-10-30T13:48:06.402344Z",
     "iopub.status.idle": "2023-10-30T13:48:06.408583Z",
     "shell.execute_reply": "2023-10-30T13:48:06.408147Z"
    },
    "papermill": {
     "duration": 0.01143,
     "end_time": "2023-10-30T13:48:06.409833",
     "exception": false,
     "start_time": "2023-10-30T13:48:06.398403",
     "status": "completed"
    },
    "tags": []
   },
   "outputs": [
    {
     "name": "stdout",
     "output_type": "stream",
     "text": [
      "20231030T144806 : amilcar22 : INFO : Inicio ver resultados\n",
      "Mejores Hiperparámetros: {'selector__k': 1000, 'clasifier__solver': 'saga', 'clasifier__penalty': 'elasticnet', 'clasifier__max_iter': 10000, 'clasifier__l1_ratios': [0.1]}\n",
      "Mejores puntuaciones: 0.8602 | Params: {'selector__k': 1000, 'clasifier__solver': 'saga', 'clasifier__penalty': 'elasticnet', 'clasifier__max_iter': 10000, 'clasifier__l1_ratios': [0.1]}\n",
      "Media de las puntuaciones: 0.8602 | Params: {'selector__k': 1000, 'clasifier__solver': 'saga', 'clasifier__penalty': 'elasticnet', 'clasifier__max_iter': 10000, 'clasifier__l1_ratios': [0.1]}\n",
      "20231030T144806 : amilcar22 : INFO : Fin resultados\n"
     ]
    }
   ],
   "source": [
    "myfunc.ver_resultados_search(random_search)"
   ]
  },
  {
   "cell_type": "markdown",
   "id": "0d31da46",
   "metadata": {
    "papermill": {
     "duration": 0.003472,
     "end_time": "2023-10-30T13:48:06.416955",
     "exception": false,
     "start_time": "2023-10-30T13:48:06.413483",
     "status": "completed"
    },
    "tags": []
   },
   "source": [
    "#### Ver métricas del mejor modelo"
   ]
  },
  {
   "cell_type": "code",
   "execution_count": 10,
   "id": "8df73fe0",
   "metadata": {
    "execution": {
     "iopub.execute_input": "2023-10-30T13:48:06.424699Z",
     "iopub.status.busy": "2023-10-30T13:48:06.424482Z",
     "iopub.status.idle": "2023-10-30T13:48:07.023159Z",
     "shell.execute_reply": "2023-10-30T13:48:07.022592Z"
    },
    "papermill": {
     "duration": 0.604079,
     "end_time": "2023-10-30T13:48:07.024488",
     "exception": false,
     "start_time": "2023-10-30T13:48:06.420409",
     "status": "completed"
    },
    "tags": []
   },
   "outputs": [
    {
     "name": "stdout",
     "output_type": "stream",
     "text": [
      "20231030T144806 : amilcar22 : INFO : Inicio ver métricas multiclase\n"
     ]
    },
    {
     "name": "stdout",
     "output_type": "stream",
     "text": [
      "              precision    recall  f1-score   support\n",
      "\n",
      "           0       0.64      0.44      0.52        16\n",
      "           1       0.82      0.60      0.69        15\n",
      "           2       0.42      0.45      0.43        11\n",
      "           3       0.40      0.80      0.53         5\n",
      "           4       0.56      0.69      0.62        13\n",
      "           5       0.89      0.89      0.89         9\n",
      "           6       0.67      0.67      0.67        18\n",
      "\n",
      "    accuracy                           0.62        87\n",
      "   macro avg       0.63      0.65      0.62        87\n",
      "weighted avg       0.65      0.62      0.62        87\n",
      "\n",
      "\n",
      "\n",
      "           Exactitud: 0.620690\n",
      "   Precisión (media): 0.627038\n",
      "      Recall (media): 0.648558\n",
      "    F1-score (media): 0.622170\n",
      "\n",
      "\n",
      "AUC para el tipo de cáncer 0-Control.... 0.7570\n",
      "AUC para el tipo de cáncer 1-Bladder.... 0.8741\n",
      "AUC para el tipo de cáncer 2-Breast..... 0.7919\n",
      "AUC para el tipo de cáncer 3-Colorectal. 0.9927\n",
      "AUC para el tipo de cáncer 4-Kidney..... 0.8877\n",
      "AUC para el tipo de cáncer 5-Lung....... 0.9701\n",
      "AUC para el tipo de cáncer 6-Prostate... 0.8188\n"
     ]
    },
    {
     "name": "stdout",
     "output_type": "stream",
     "text": [
      "\n",
      "Media de AUC: 0.8703\n"
     ]
    },
    {
     "data": {
      "image/png": "[encoded data removed]",
      "text/plain": [
       "<Figure size 1000x600 with 1 Axes>"
      ]
     },
     "metadata": {},
     "output_type": "display_data"
    },
    {
     "name": "stdout",
     "output_type": "stream",
     "text": [
      "\n",
      "\n"
     ]
    },
    {
     "data": {
      "image/png": "[encoded data removed]",
      "text/plain": [
       "<Figure size 800x400 with 2 Axes>"
      ]
     },
     "metadata": {},
     "output_type": "display_data"
    },
    {
     "name": "stdout",
     "output_type": "stream",
     "text": [
      "\n",
      "\n",
      "Puntuación Jaccard para el cáncer tipo 0-Control.... 0.3500\n",
      "Puntuación Jaccard para el cáncer tipo 1-Bladder.... 0.5294\n",
      "Puntuación Jaccard para el cáncer tipo 2-Breast..... 0.2778\n",
      "Puntuación Jaccard para el cáncer tipo 3-Colorectal. 0.3636\n",
      "Puntuación Jaccard para el cáncer tipo 4-Kidney..... 0.4500\n",
      "Puntuación Jaccard para el cáncer tipo 5-Lung....... 0.8000\n",
      "Puntuación Jaccard para el cáncer tipo 6-Prostate... 0.5000\n",
      "\n",
      "Media de la puntuación de Jaccard: 0.4673\n"
     ]
    }
   ],
   "source": [
    "if M_TIPO.startswith(\"bin\"):\n",
    "    myfunc.ver_metricas(mejor_modelo, X_test, y_test)\n",
    "else:\n",
    "    myfunc.ver_metricas_multi(mejor_modelo, X_test, y_test)\n"
   ]
  },
  {
   "cell_type": "markdown",
   "id": "f8225136",
   "metadata": {
    "papermill": {
     "duration": 0.004527,
     "end_time": "2023-10-30T13:48:07.033996",
     "exception": false,
     "start_time": "2023-10-30T13:48:07.029469",
     "status": "completed"
    },
    "tags": []
   },
   "source": [
    "#### Finalización del notebook"
   ]
  },
  {
   "cell_type": "code",
   "execution_count": 11,
   "id": "28a14ee1",
   "metadata": {
    "execution": {
     "iopub.execute_input": "2023-10-30T13:48:07.043744Z",
     "iopub.status.busy": "2023-10-30T13:48:07.043541Z",
     "iopub.status.idle": "2023-10-30T13:48:07.047208Z",
     "shell.execute_reply": "2023-10-30T13:48:07.046741Z"
    },
    "papermill": {
     "duration": 0.009876,
     "end_time": "2023-10-30T13:48:07.048277",
     "exception": false,
     "start_time": "2023-10-30T13:48:07.038401",
     "status": "completed"
    },
    "tags": []
   },
   "outputs": [
    {
     "name": "stdout",
     "output_type": "stream",
     "text": [
      "20231030T144807 : amilcar22 : INFO : Notebook ha tardado 1979 seconds\n"
     ]
    }
   ],
   "source": [
    "end_time = datetime.datetime.now()\n",
    "total_time = end_time - start_time\n",
    "myfunc.verbose(f\"Notebook ha tardado {total_time.seconds} seconds\")"
   ]
  },
  {
   "cell_type": "markdown",
   "id": "d6d3953b",
   "metadata": {
    "papermill": {
     "duration": 0.004472,
     "end_time": "2023-10-30T13:48:07.057272",
     "exception": false,
     "start_time": "2023-10-30T13:48:07.052800",
     "status": "completed"
    },
    "tags": []
   },
   "source": [
    "#### Guardar métricas"
   ]
  },
  {
   "cell_type": "code",
   "execution_count": 12,
   "id": "76a51100",
   "metadata": {
    "execution": {
     "iopub.execute_input": "2023-10-30T13:48:07.067033Z",
     "iopub.status.busy": "2023-10-30T13:48:07.066834Z",
     "iopub.status.idle": "2023-10-30T13:48:07.252104Z",
     "shell.execute_reply": "2023-10-30T13:48:07.251603Z"
    },
    "papermill": {
     "duration": 0.19163,
     "end_time": "2023-10-30T13:48:07.253290",
     "exception": false,
     "start_time": "2023-10-30T13:48:07.061660",
     "status": "completed"
    },
    "tags": []
   },
   "outputs": [
    {
     "name": "stdout",
     "output_type": "stream",
     "text": [
      "20231030T144807 : amilcar22 : INFO : Inicio guardar métricas multiclase\n",
      "20231030T144807 : amilcar22 : INFO : Inicio leer fichero ../tfm_git/ejecuciones/metricas/metricas_6390.csv\n",
      "20231030T144807 : amilcar22 : INFO : Fin leer fichero ../tfm_git/ejecuciones/metricas/metricas_6390.csv\n"
     ]
    },
    {
     "name": "stdout",
     "output_type": "stream",
     "text": [
      "20231030T144807 : amilcar22 : INFO : Inicio guardar fichero ../tfm_git/ejecuciones/metricas/metricas_6390.csv\n",
      "20231030T144807 : amilcar22 : INFO : Fichero borrado ../tfm_git/ejecuciones/metricas/metricas_6390.csv\n",
      "20231030T144807 : amilcar22 : INFO : Fin guardar fichero ../tfm_git/ejecuciones/metricas/metricas_6390.csv\n",
      "20231030T144807 : amilcar22 : INFO : Fin guardar métricas multiclase\n",
      "20231030T144807 : amilcar22 : INFO : Inicio leer fichero ../tfm_git/ejecuciones/metricas/metricas_6390.csv\n",
      "20231030T144807 : amilcar22 : INFO : Fin leer fichero ../tfm_git/ejecuciones/metricas/metricas_6390.csv\n"
     ]
    },
    {
     "data": {
      "text/html": [
       "<div>\n",
       "<style scoped>\n",
       "    .dataframe tbody tr th:only-of-type {\n",
       "        vertical-align: middle;\n",
       "    }\n",
       "\n",
       "    .dataframe tbody tr th {\n",
       "        vertical-align: top;\n",
       "    }\n",
       "\n",
       "    .dataframe thead th {\n",
       "        text-align: right;\n",
       "    }\n",
       "</style>\n",
       "<table border=\"1\" class=\"dataframe\">\n",
       "  <thead>\n",
       "    <tr style=\"text-align: right;\">\n",
       "      <th></th>\n",
       "      <th>tipo</th>\n",
       "      <th>select</th>\n",
       "      <th>clasific</th>\n",
       "      <th>semilla</th>\n",
       "      <th>accuracy</th>\n",
       "      <th>precision</th>\n",
       "      <th>recall</th>\n",
       "      <th>f1_score</th>\n",
       "      <th>roc_auc</th>\n",
       "      <th>hostname</th>\n",
       "      <th>total_time_sec</th>\n",
       "      <th>datetime</th>\n",
       "      <th>fichero_modelo</th>\n",
       "      <th>params</th>\n",
       "      <th>shape</th>\n",
       "      <th>features</th>\n",
       "      <th>roc_auc_ovr</th>\n",
       "      <th>indices_auc</th>\n",
       "      <th>indices_jaccard</th>\n",
       "    </tr>\n",
       "  </thead>\n",
       "  <tbody>\n",
       "    <tr>\n",
       "      <th>0</th>\n",
       "      <td>mul_m</td>\n",
       "      <td>ANOVA</td>\n",
       "      <td>LR_EN</td>\n",
       "      <td>6390</td>\n",
       "      <td>0.620690</td>\n",
       "      <td>0.627038</td>\n",
       "      <td>0.648558</td>\n",
       "      <td>0.622170</td>\n",
       "      <td>NaN</td>\n",
       "      <td>amilcar22</td>\n",
       "      <td>1979</td>\n",
       "      <td>2023-10-30 14:48:07.226121</td>\n",
       "      <td>modelo_6390_mul_m_ANOVA_LR_EN.pkl</td>\n",
       "      <td>{'selector__k': 1000, 'clasifier__solver': 'sa...</td>\n",
       "      <td>X_test:(87, 18875)</td>\n",
       "      <td>['ENSG00000000938.13', 'ENSG00000002919.15', '...</td>\n",
       "      <td>0.870332</td>\n",
       "      <td>[0.7570422535211268, 0.8740740740740741, 0.791...</td>\n",
       "      <td>[0.35, 0.5294117647058824, 0.2777777777777778,...</td>\n",
       "    </tr>\n",
       "    <tr>\n",
       "      <th>0</th>\n",
       "      <td>bin_s</td>\n",
       "      <td>RF</td>\n",
       "      <td>SVM</td>\n",
       "      <td>6390</td>\n",
       "      <td>0.584270</td>\n",
       "      <td>0.584119</td>\n",
       "      <td>0.581143</td>\n",
       "      <td>0.578954</td>\n",
       "      <td>0.669869</td>\n",
       "      <td>amilcar22</td>\n",
       "      <td>9</td>\n",
       "      <td>2023-10-30 14:15:01.694184</td>\n",
       "      <td>modelo_6390_bin_s_RF_SVM.pkl</td>\n",
       "      <td>{'selector__max_features': 500, 'selector__est...</td>\n",
       "      <td>X_test:(89, 18875)</td>\n",
       "      <td>['ENSG00000003137.9', 'ENSG00000007237.19', 'E...</td>\n",
       "      <td>NaN</td>\n",
       "      <td>NaN</td>\n",
       "      <td>NaN</td>\n",
       "    </tr>\n",
       "    <tr>\n",
       "      <th>0</th>\n",
       "      <td>bin_s</td>\n",
       "      <td>RF</td>\n",
       "      <td>RF</td>\n",
       "      <td>6390</td>\n",
       "      <td>0.606742</td>\n",
       "      <td>0.606122</td>\n",
       "      <td>0.605157</td>\n",
       "      <td>0.604946</td>\n",
       "      <td>0.708291</td>\n",
       "      <td>amilcar22</td>\n",
       "      <td>30</td>\n",
       "      <td>2023-10-30 14:14:45.568542</td>\n",
       "      <td>modelo_6390_bin_s_RF_RF.pkl</td>\n",
       "      <td>{'selector__max_features': 500, 'selector__est...</td>\n",
       "      <td>X_test:(89, 18875)</td>\n",
       "      <td>['ENSG00000002587.10', 'ENSG00000003137.9', 'E...</td>\n",
       "      <td>NaN</td>\n",
       "      <td>NaN</td>\n",
       "      <td>NaN</td>\n",
       "    </tr>\n",
       "  </tbody>\n",
       "</table>\n",
       "</div>"
      ],
      "text/plain": [
       "    tipo select clasific  semilla  accuracy  precision    recall  f1_score  \\\n",
       "0  mul_m  ANOVA    LR_EN     6390  0.620690   0.627038  0.648558  0.622170   \n",
       "0  bin_s     RF      SVM     6390  0.584270   0.584119  0.581143  0.578954   \n",
       "0  bin_s     RF       RF     6390  0.606742   0.606122  0.605157  0.604946   \n",
       "\n",
       "    roc_auc   hostname  total_time_sec                    datetime  \\\n",
       "0       NaN  amilcar22            1979  2023-10-30 14:48:07.226121   \n",
       "0  0.669869  amilcar22               9  2023-10-30 14:15:01.694184   \n",
       "0  0.708291  amilcar22              30  2023-10-30 14:14:45.568542   \n",
       "\n",
       "                      fichero_modelo  \\\n",
       "0  modelo_6390_mul_m_ANOVA_LR_EN.pkl   \n",
       "0       modelo_6390_bin_s_RF_SVM.pkl   \n",
       "0        modelo_6390_bin_s_RF_RF.pkl   \n",
       "\n",
       "                                              params               shape  \\\n",
       "0  {'selector__k': 1000, 'clasifier__solver': 'sa...  X_test:(87, 18875)   \n",
       "0  {'selector__max_features': 500, 'selector__est...  X_test:(89, 18875)   \n",
       "0  {'selector__max_features': 500, 'selector__est...  X_test:(89, 18875)   \n",
       "\n",
       "                                            features  roc_auc_ovr  \\\n",
       "0  ['ENSG00000000938.13', 'ENSG00000002919.15', '...     0.870332   \n",
       "0  ['ENSG00000003137.9', 'ENSG00000007237.19', 'E...          NaN   \n",
       "0  ['ENSG00000002587.10', 'ENSG00000003137.9', 'E...          NaN   \n",
       "\n",
       "                                         indices_auc  \\\n",
       "0  [0.7570422535211268, 0.8740740740740741, 0.791...   \n",
       "0                                                NaN   \n",
       "0                                                NaN   \n",
       "\n",
       "                                     indices_jaccard  \n",
       "0  [0.35, 0.5294117647058824, 0.2777777777777778,...  \n",
       "0                                                NaN  \n",
       "0                                                NaN  "
      ]
     },
     "metadata": {},
     "output_type": "display_data"
    }
   ],
   "source": [
    "if M_TIPO.startswith(\"bin\"):\n",
    "    myfunc.save_metricas_to_csv(random_search, X_test, y_test, M_TIPO, M_SELECT, M_CLASIF, total_time, SEMILLA, myfunc.MET_DIR, M_FICHERO, fichero_modelo)\n",
    "else:\n",
    "    myfunc.save_metricas_multi_to_csv(random_search, X_test, y_test, M_TIPO, M_SELECT, M_CLASIF, total_time, SEMILLA, myfunc.MET_DIR, M_FICHERO, fichero_modelo)\n",
    "\n",
    "df1=myfunc.read_metricas_to_df(myfunc.MET_DIR,M_FICHERO)\n",
    "\n",
    "display(df1.sort_values(\"datetime\", ascending=False)[:3])\n"
   ]
  },
  {
   "cell_type": "markdown",
   "id": "947faec2",
   "metadata": {
    "papermill": {
     "duration": 0.004873,
     "end_time": "2023-10-30T13:48:07.263502",
     "exception": false,
     "start_time": "2023-10-30T13:48:07.258629",
     "status": "completed"
    },
    "tags": []
   },
   "source": [
    "#### Guardar resultados"
   ]
  },
  {
   "cell_type": "code",
   "execution_count": 13,
   "id": "a8c8ab92",
   "metadata": {
    "execution": {
     "iopub.execute_input": "2023-10-30T13:48:07.273860Z",
     "iopub.status.busy": "2023-10-30T13:48:07.273668Z",
     "iopub.status.idle": "2023-10-30T13:48:07.282412Z",
     "shell.execute_reply": "2023-10-30T13:48:07.281955Z"
    },
    "papermill": {
     "duration": 0.015361,
     "end_time": "2023-10-30T13:48:07.283576",
     "exception": false,
     "start_time": "2023-10-30T13:48:07.268215",
     "status": "completed"
    },
    "tags": []
   },
   "outputs": [
    {
     "name": "stdout",
     "output_type": "stream",
     "text": [
      "20231030T144807 : amilcar22 : INFO : Inicio guardar resultados\n",
      "20231030T144807 : amilcar22 : INFO : Inicio guardar fichero ../tfm_git/ejecuciones/metricas/resultados_6390_mul_m-ANOVA-LR_EN.csv\n",
      "20231030T144807 : amilcar22 : INFO : Fin guardar fichero ../tfm_git/ejecuciones/metricas/resultados_6390_mul_m-ANOVA-LR_EN.csv\n",
      "20231030T144807 : amilcar22 : INFO : Fin guardar resultados\n"
     ]
    }
   ],
   "source": [
    "fichero_resultados=R_FICHERO+\"_\"+M_TIPO+\"-\"+M_SELECT+\"-\"+M_CLASIF+\".csv\"\n",
    "myfunc.save_resultados_to_csv(M_TIPO, M_SELECT, M_CLASIF,  random_search, myfunc.MET_DIR, fichero_resultados)\n"
   ]
  }
 ],
 "metadata": {
  "kernelspec": {
   "display_name": "Python 3 (ipykernel)",
   "language": "python",
   "name": "python3"
  },
  "language_info": {
   "codemirror_mode": {
    "name": "ipython",
    "version": 3
   },
   "file_extension": ".py",
   "mimetype": "text/x-python",
   "name": "python",
   "nbconvert_exporter": "python",
   "pygments_lexer": "ipython3",
   "version": "3.10.12"
  },
  "papermill": {
   "default_parameters": {},
   "duration": 1984.026468,
   "end_time": "2023-10-30T13:48:09.908760",
   "environment_variables": {},
   "exception": null,
   "input_path": "03_entrenamiento.ipynb",
   "output_path": "ejecuciones/training/03_entrenamiento.20231030T141505.param_0000_6390_mul_m_ANOVA_LR_EN.output.ipynb",
   "parameters": {
    "MAX_ITERS": 500,
    "M_CLASIF": "LR_EN",
    "M_FICHERO": "metricas_6390",
    "M_SELECT": "ANOVA",
    "M_TIPO": "mul_m",
    "PRE_DATA_FILE": "rows_transpose_norm_by_gene_id_with_target_num_",
    "P_FICHERO": "param_0000_6390_mul_m_ANOVA_LR_EN.yaml",
    "R_FICHERO": "resultados_6390",
    "SCORING": "roc_auc_ovr",
    "SEMILLA": 6390,
    "eval_clasifier": "LogisticRegressionCV(random_state=SEMILLA)",
    "eval_selector": "SelectKBest(score_func=f_classif)",
    "param_distributions": {
     "clasifier__l1_ratios": [
      [
       0.1
      ]
     ],
     "clasifier__max_iter": [
      10000
     ],
     "clasifier__penalty": [
      "elasticnet"
     ],
     "clasifier__solver": [
      "saga"
     ],
     "selector__k": [
      1000
     ]
    }
   },
   "start_time": "2023-10-30T13:15:05.882292",
   "version": "2.4.0"
  }
 },
 "nbformat": 4,
 "nbformat_minor": 5
}