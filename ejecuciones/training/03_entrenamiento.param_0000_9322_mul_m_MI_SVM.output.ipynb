{
 "cells": [
  {
   "cell_type": "markdown",
   "id": "6c315c03",
   "metadata": {
    "papermill": {
     "duration": 0.005524,
     "end_time": "2023-10-30T05:02:23.234048",
     "exception": false,
     "start_time": "2023-10-30T05:02:23.228524",
     "status": "completed"
    },
    "tags": []
   },
   "source": [
    "##### Inicio"
   ]
  },
  {
   "cell_type": "markdown",
   "id": "a16aeee5",
   "metadata": {
    "papermill": {
     "duration": 0.00341,
     "end_time": "2023-10-30T05:02:23.241201",
     "exception": false,
     "start_time": "2023-10-30T05:02:23.237791",
     "status": "completed"
    },
    "tags": []
   },
   "source": [
    "#### Carga de datos"
   ]
  },
  {
   "cell_type": "code",
   "execution_count": 1,
   "id": "8fb1805b",
   "metadata": {
    "execution": {
     "iopub.execute_input": "2023-10-30T05:02:23.249374Z",
     "iopub.status.busy": "2023-10-30T05:02:23.248829Z",
     "iopub.status.idle": "2023-10-30T05:02:24.348918Z",
     "shell.execute_reply": "2023-10-30T05:02:24.348300Z"
    },
    "papermill": {
     "duration": 1.105883,
     "end_time": "2023-10-30T05:02:24.350404",
     "exception": false,
     "start_time": "2023-10-30T05:02:23.244521",
     "status": "completed"
    },
    "tags": []
   },
   "outputs": [
    {
     "name": "stdout",
     "output_type": "stream",
     "text": [
      "CPU_COUNT: 16; NODE: enderlab; sys.version: 3.10.11 (main, May 16 2023, 00:28:57) [GCC 11.2.0]\n",
      "LOKY_MAX_CPU_COUNT is not set.\n",
      "OMP_NUM_THREADS is not set.\n"
     ]
    }
   ],
   "source": [
    "import os\n",
    "import numpy as np\n",
    "import pandas as pd\n",
    "import datetime\n",
    "import sklearn\n",
    "import logging\n",
    "import warnings\n",
    "\n",
    "from sklearn.pipeline import Pipeline\n",
    "from sklearn.model_selection import RandomizedSearchCV, KFold, cross_val_score, train_test_split\n",
    "from sklearn.metrics import accuracy_score, confusion_matrix, classification_report, roc_auc_score\n",
    "\n",
    "#  cargar algoritmos para aprendizaje supervisado\n",
    "from sklearn.feature_selection import SelectKBest, f_classif, SelectFromModel, mutual_info_classif\n",
    "from sklearn.svm import SVC\n",
    "from sklearn.ensemble import RandomForestClassifier\n",
    "from sklearn.linear_model import LogisticRegression,LogisticRegressionCV\n",
    "\n",
    "# importar fichero con utilidades propias\n",
    "from commons import myfunctions as myfunc\n"
   ]
  },
  {
   "cell_type": "markdown",
   "id": "897c0e2f",
   "metadata": {
    "papermill": {
     "duration": 0.00355,
     "end_time": "2023-10-30T05:02:24.358037",
     "exception": false,
     "start_time": "2023-10-30T05:02:24.354487",
     "status": "completed"
    },
    "tags": []
   },
   "source": [
    "#### Parámetros a utilizar en el entrenamiento.\n",
    "\n",
    "Se indican los 3 algoritmos de *selección de características* (eval_selector_xxx) y los 3 algoritmos para la _clasificación_ (eval_clasifier_xxx)\n",
    "\n",
    "En *param_distributions* se indicar los parámetros que utilizan los algoritmos en la función RandomSearchCV.\n",
    "\n",
    "Esta celda tiene la etiqueta **parameters** que servirá para poder lanzar los entrenamientos con la utilidad **papermill** pasándole un fichero con los parámetros. Los nuevos parámetros se situarán tras esta celda para tener prevalencia."
   ]
  },
  {
   "cell_type": "code",
   "execution_count": 2,
   "id": "648c13d7",
   "metadata": {
    "execution": {
     "iopub.execute_input": "2023-10-30T05:02:24.366287Z",
     "iopub.status.busy": "2023-10-30T05:02:24.365892Z",
     "iopub.status.idle": "2023-10-30T05:02:24.374251Z",
     "shell.execute_reply": "2023-10-30T05:02:24.373709Z"
    },
    "papermill": {
     "duration": 0.013949,
     "end_time": "2023-10-30T05:02:24.375434",
     "exception": false,
     "start_time": "2023-10-30T05:02:24.361485",
     "status": "completed"
    },
    "tags": [
     "parameters"
    ]
   },
   "outputs": [
    {
     "name": "stdout",
     "output_type": "stream",
     "text": [
      "20231030T060224 : enderlab : INFO : Utilizando parámetros de mul_m\n"
     ]
    }
   ],
   "source": [
    "#  Parametros para el entrenamiento\n",
    "\n",
    "SEMILLA=        42\n",
    "M_TIPO=         \"mul_m\"\n",
    "M_SELECT=       \"MI\"\n",
    "M_CLASIF=       \"SVM\"\n",
    "R_FICHERO=      \"resultados\"\n",
    "M_FICHERO=      \"metricas\"\n",
    "PRE_DATA_FILE=  \"rows_transpose_norm_by_gene_id_with_target_num_\"\n",
    "SCORING=        \"roc_auc_ovr\" \n",
    "MAX_ITERS=      100\n",
    "\n",
    "def mutual_info_classif_state(X, y):\n",
    "    return mutual_info_classif(X, y, random_state=SEMILLA)\n",
    "\n",
    "eval_selector_mi = \"SelectKBest(score_func=mutual_info_classif_state)\"\n",
    "eval_selector_rf=  \"SelectFromModel(estimator=RandomForestClassifier(random_state=SEMILLA), threshold=-np.inf)\"\n",
    "eval_selector_anova=  \"SelectKBest(score_func=f_classif)\"\n",
    "\n",
    "eval_clasifier_svm= \"SVC(probability=True, random_state=SEMILLA)\"\n",
    "eval_clasifier_rf= \"RandomForestClassifier(random_state=SEMILLA)\"\n",
    "eval_clasifier_lr= \"LogisticRegressionCV(random_state=SEMILLA)\"\n",
    "\n",
    "if M_TIPO.startswith(\"bin_m\"):\n",
    "    myfunc.verbose(f\"Utilizando parámetros de {M_TIPO}\")\n",
    "    eval_selector = eval_selector_mi\n",
    "    eval_clasifier = eval_clasifier_svm\n",
    "\n",
    "    SEMILLA = 6578\n",
    "    M_SELECT = \"MI\"\n",
    "    M_CLASIF = \"SVM\"\n",
    "    param_distributions = {'selector__k': [1000], \n",
    "         'clasifier__kernel': ['rbf'], 'clasifier__gamma': [0.01], 'clasifier__C': [100]}\n",
    "elif M_TIPO.startswith(\"bin_s\"):\n",
    "    myfunc.verbose(f\"Utilizando parámetros de {M_TIPO}\")\n",
    "    eval_selector = eval_selector_rf\n",
    "    eval_clasifier = eval_clasifier_lr\n",
    "\n",
    "    SEMILLA = 6191\n",
    "    M_SELECT = \"RF\"\n",
    "    M_CLASIF = \"LR_L2\"\n",
    "    param_distributions = {'selector__max_features': [1000], 'selector__estimator__n_estimators': [200], \n",
    "        'clasifier__solver': ['lbfgs'], 'clasifier__penalty': ['l2'], 'clasifier__max_iter': [10000]}\n",
    "\n",
    "elif M_TIPO.startswith(\"mul_m\"):\n",
    "    myfunc.verbose(f\"Utilizando parámetros de {M_TIPO}\")\n",
    " \n",
    "    eval_selector = eval_selector_rf\n",
    "    eval_clasifier = eval_clasifier_lr\n",
    "\n",
    "    SEMILLA = 6191\n",
    "    M_SELECT = \"RF\"\n",
    "    M_CLASIF = \"LR_L2\"\n",
    "    param_distributions = {'selector__max_features': [1000], 'selector__estimator__n_estimators': [400], \n",
    "        'clasifier__solver': ['lbfgs'], 'clasifier__penalty': ['l2'], 'clasifier__max_iter': [10000]}\n",
    "\n",
    "else:\n",
    "    # M_TIPO.startswith(\"mul_s\"):\n",
    "    myfunc.verbose(f\"Utilizando parámetros de {M_TIPO}\")\n",
    "    eval_selector = eval_selector_anova\n",
    "    eval_clasifier = eval_clasifier_lr\n",
    "\n",
    "    SEMILLA = 1860\n",
    "    M_SELECT = \"ANOVA\"\n",
    "    M_CLASIF = \"LR_L2\"\n",
    "    param_distributions = {'selector__k': [1000], \n",
    "        'clasifier__solver': ['saga'], 'clasifier__penalty': ['l2'], 'clasifier__max_iter': [10000]}\n",
    "\n"
   ]
  },
  {
   "cell_type": "code",
   "execution_count": 3,
   "id": "de093c6e",
   "metadata": {
    "execution": {
     "iopub.execute_input": "2023-10-30T05:02:24.383610Z",
     "iopub.status.busy": "2023-10-30T05:02:24.383189Z",
     "iopub.status.idle": "2023-10-30T05:02:24.387146Z",
     "shell.execute_reply": "2023-10-30T05:02:24.386631Z"
    },
    "papermill": {
     "duration": 0.009436,
     "end_time": "2023-10-30T05:02:24.388407",
     "exception": false,
     "start_time": "2023-10-30T05:02:24.378971",
     "status": "completed"
    },
    "tags": [
     "injected-parameters"
    ]
   },
   "outputs": [],
   "source": [
    "# Parameters\n",
    "M_TIPO = \"mul_m\"\n",
    "M_SELECT = \"MI\"\n",
    "M_CLASIF = \"SVM\"\n",
    "P_FICHERO = \"param_0000_9322_mul_m_MI_SVM.yaml\"\n",
    "R_FICHERO = \"resultados_9322\"\n",
    "M_FICHERO = \"metricas_9322\"\n",
    "PRE_DATA_FILE = \"rows_transpose_norm_by_gene_id_with_target_num_\"\n",
    "SCORING = \"roc_auc_ovr\"\n",
    "SEMILLA = 9322\n",
    "MAX_ITERS = 500\n",
    "eval_selector = \"SelectKBest(score_func=mutual_info_classif_state)\"\n",
    "eval_clasifier = \"SVC(probability=True, random_state=SEMILLA)\"\n",
    "param_distributions = {\n",
    "    \"selector__k\": [1000],\n",
    "    \"clasifier__kernel\": [\"rbf\"],\n",
    "    \"clasifier__gamma\": [0.001],\n",
    "    \"clasifier__C\": [100],\n",
    "}\n"
   ]
  },
  {
   "cell_type": "code",
   "execution_count": 4,
   "id": "95d2767e",
   "metadata": {
    "execution": {
     "iopub.execute_input": "2023-10-30T05:02:24.397033Z",
     "iopub.status.busy": "2023-10-30T05:02:24.396560Z",
     "iopub.status.idle": "2023-10-30T05:02:24.399793Z",
     "shell.execute_reply": "2023-10-30T05:02:24.399277Z"
    },
    "papermill": {
     "duration": 0.009041,
     "end_time": "2023-10-30T05:02:24.400991",
     "exception": false,
     "start_time": "2023-10-30T05:02:24.391950",
     "status": "completed"
    },
    "tags": []
   },
   "outputs": [],
   "source": [
    "DATA_FILE = PRE_DATA_FILE + M_TIPO\n",
    "\n",
    "# si viene \"None\" en el parámetro max_depth, se le quitan las comillas para que no sea entendido por el algoritmo como un texto\n",
    "if \"clasifier__max_depth\" in param_distributions:\n",
    "    param_distributions['clasifier__max_depth'] = [None if x == 'None' else x for x in param_distributions['clasifier__max_depth']]"
   ]
  },
  {
   "cell_type": "markdown",
   "id": "5b89c496",
   "metadata": {
    "papermill": {
     "duration": 0.003951,
     "end_time": "2023-10-30T05:02:24.408553",
     "exception": false,
     "start_time": "2023-10-30T05:02:24.404602",
     "status": "completed"
    },
    "tags": []
   },
   "source": [
    "Asignar los algoritmos que se utilizarán en la función RandomSearchCV"
   ]
  },
  {
   "cell_type": "code",
   "execution_count": 5,
   "id": "9dece48d",
   "metadata": {
    "execution": {
     "iopub.execute_input": "2023-10-30T05:02:24.416772Z",
     "iopub.status.busy": "2023-10-30T05:02:24.416265Z",
     "iopub.status.idle": "2023-10-30T05:02:24.419210Z",
     "shell.execute_reply": "2023-10-30T05:02:24.418680Z"
    },
    "papermill": {
     "duration": 0.008261,
     "end_time": "2023-10-30T05:02:24.420427",
     "exception": false,
     "start_time": "2023-10-30T05:02:24.412166",
     "status": "completed"
    },
    "tags": []
   },
   "outputs": [],
   "source": [
    "algor_selector=eval(eval_selector)\n",
    "algor_clasifier=eval(eval_clasifier)"
   ]
  },
  {
   "cell_type": "markdown",
   "id": "970e2aa0",
   "metadata": {
    "papermill": {
     "duration": 0.003673,
     "end_time": "2023-10-30T05:02:24.427610",
     "exception": false,
     "start_time": "2023-10-30T05:02:24.423937",
     "status": "completed"
    },
    "tags": []
   },
   "source": [
    "#### Comprobar el entorno y leer fichero de muestras"
   ]
  },
  {
   "cell_type": "code",
   "execution_count": 6,
   "id": "c486e37f",
   "metadata": {
    "execution": {
     "iopub.execute_input": "2023-10-30T05:02:24.435835Z",
     "iopub.status.busy": "2023-10-30T05:02:24.435350Z",
     "iopub.status.idle": "2023-10-30T05:02:24.678100Z",
     "shell.execute_reply": "2023-10-30T05:02:24.677431Z"
    },
    "papermill": {
     "duration": 0.248305,
     "end_time": "2023-10-30T05:02:24.679495",
     "exception": false,
     "start_time": "2023-10-30T05:02:24.431190",
     "status": "completed"
    },
    "tags": []
   },
   "outputs": [
    {
     "name": "stdout",
     "output_type": "stream",
     "text": [
      "20231030T060224 : enderlab : INFO : Encontrada carpeta DATA_DIR=../tfm_git/datos\n",
      "20231030T060224 : enderlab : INFO : Encontrada carpeta CFDNA_DIR=../tfm_git/datos/cfDNA_5hmC\n",
      "20231030T060224 : enderlab : INFO : Encontrada carpeta GENCODE_DIR=../tfm_git/datos/gencode\n",
      "20231030T060224 : enderlab : INFO : Encontrada carpeta H5_DIR=../tfm_git/datos/h5\n",
      "20231030T060224 : enderlab : INFO : Encontrada carpeta LOG_DIR=../tfm_git/datos/logs\n",
      "20231030T060224 : enderlab : INFO : Encontrada carpeta CSV_DIR=../tfm_git/datos/csv\n",
      "20231030T060224 : enderlab : INFO : Encontrada carpeta MODEL_DIR=../tfm_git/ejecuciones/modelos\n",
      "20231030T060224 : enderlab : INFO : Encontrada carpeta EXEC_DIR=../tfm_git/ejecuciones\n",
      "20231030T060224 : enderlab : INFO : Encontrada carpeta MET_DIR=../tfm_git/ejecuciones/metricas\n",
      "20231030T060224 : enderlab : INFO : Inicio leer fichero h5 ../tfm_git/datos/h5/rows_transpose_norm_by_gene_id_with_target_num_mul_m.h5\n",
      "20231030T060224 : enderlab : INFO : Leyendo clave /df\n"
     ]
    },
    {
     "name": "stdout",
     "output_type": "stream",
     "text": [
      "20231030T060224 : enderlab : INFO : Tamaño (434, 18876)\n",
      "20231030T060224 : enderlab : INFO : Fin leer fichero h5 ../tfm_git/datos/h5/rows_transpose_norm_by_gene_id_with_target_num_mul_m.h5\n"
     ]
    },
    {
     "data": {
      "text/plain": [
       "target\n",
       "0    62\n",
       "1    62\n",
       "2    62\n",
       "3    62\n",
       "4    62\n",
       "5    62\n",
       "6    62\n",
       "dtype: int64"
      ]
     },
     "metadata": {},
     "output_type": "display_data"
    },
    {
     "name": "stdout",
     "output_type": "stream",
     "text": [
      "Shape df: (434, 18876)\n"
     ]
    },
    {
     "name": "stdout",
     "output_type": "stream",
     "text": [
      "Shape X_train: (347, 18875)\n",
      "Shape X_test: (87, 18875)\n"
     ]
    }
   ],
   "source": [
    "start_time = datetime.datetime.now()\n",
    "\n",
    "myfunc.reset_vars()\n",
    "\n",
    "myfunc.NOTEBK_FILENAME = myfunc.get_nb_name()\n",
    "\n",
    "myfunc.check_enviroment(myfunc.DATA_DIR, myfunc.CFDNA_DIR, myfunc.GENCODE_DIR, myfunc.H5_DIR, myfunc.LOG_DIR, myfunc.CSV_DIR, myfunc.MODEL_DIR, myfunc.EXEC_DIR, myfunc.MET_DIR)\n",
    "\n",
    "# Leer fichero con las muestras\n",
    "df_t = myfunc.read_h5_to_df(DATA_FILE, myfunc.H5_DIR)\n",
    "display(df_t.groupby(\"target\").size())\n",
    "print(\"Shape df:\",df_t.shape)\n",
    "\n",
    "# Separar caracteristicas/genes de las etiquetas/tipos de cáncer\n",
    "X = df_t.iloc[:, :-1]  # Todas las columnas excepto la última\n",
    "y = df_t.iloc[:, -1]  # La última columna contiene los identificadores de los tipos de cáncer\n",
    "\n",
    "#  Crear el conjunto de datos de entrenamiento y de pruebas, y se fija la semilla para siempre coger el mismo juego de muestras\n",
    "X_train, X_test, y_train, y_test = train_test_split(X, y, test_size=0.2, shuffle=True, random_state=42)\n",
    "print(\"Shape X_train:\",X_train.shape)\n",
    "print(\"Shape X_test:\",X_test.shape)\n"
   ]
  },
  {
   "cell_type": "markdown",
   "id": "38cf87e2",
   "metadata": {
    "papermill": {
     "duration": 0.004081,
     "end_time": "2023-10-30T05:02:24.688145",
     "exception": false,
     "start_time": "2023-10-30T05:02:24.684064",
     "status": "completed"
    },
    "tags": []
   },
   "source": [
    "#### Selección de características y clasificación."
   ]
  },
  {
   "cell_type": "code",
   "execution_count": 7,
   "id": "5c81d0f1",
   "metadata": {
    "execution": {
     "iopub.execute_input": "2023-10-30T05:02:24.697304Z",
     "iopub.status.busy": "2023-10-30T05:02:24.696803Z",
     "iopub.status.idle": "2023-10-30T05:06:09.508250Z",
     "shell.execute_reply": "2023-10-30T05:06:09.507445Z"
    },
    "papermill": {
     "duration": 224.821472,
     "end_time": "2023-10-30T05:06:09.513529",
     "exception": false,
     "start_time": "2023-10-30T05:02:24.692057",
     "status": "completed"
    },
    "tags": []
   },
   "outputs": [
    {
     "name": "stdout",
     "output_type": "stream",
     "text": [
      "20231030T060224 : enderlab : INFO : Iniciando entrenamiento\n",
      "num_iter: 1 , max_iter: 1\n",
      "Fitting 5 folds for each of 1 candidates, totalling 5 fits\n"
     ]
    },
    {
     "name": "stdout",
     "output_type": "stream",
     "text": [
      "Mejores Hiperparámetros: {'selector__k': 1000, 'clasifier__kernel': 'rbf', 'clasifier__gamma': 0.001, 'clasifier__C': 100}\n",
      "Mejor Puntuación: 0.8515\n",
      "20231030T060609 : enderlab : INFO : Fin entrenamiento\n"
     ]
    }
   ],
   "source": [
    "myfunc.verbose(\"Iniciando entrenamiento\")\n",
    "\n",
    "kf = KFold(n_splits=5, shuffle=True, random_state=SEMILLA)\n",
    "\n",
    "# Crear el pipeline para el flujo de tareas\n",
    "tasks_pipeline = Pipeline([\n",
    "    ('selector', algor_selector),\n",
    "    ('clasifier', algor_clasifier)\n",
    "])\n",
    "\n",
    "# MAX_ITERS puede limitar el número de iteraciones si son excesivas para las combinaciones de parámetros buscando un óptimo local, \n",
    "# sino funcionaría como GridSearchCV al revisar todas las cominaciones de los parámetros\n",
    "num_iteraciones = 1\n",
    "num_iteraciones = num_iteraciones * np.prod([len(elemento1) for _, elemento1 in param_distributions.items()])\n",
    "max_iteraciones = num_iteraciones if num_iteraciones <= MAX_ITERS else MAX_ITERS\n",
    "print(\"num_iter:\",num_iteraciones,\", max_iter:\",max_iteraciones)\n",
    "\n",
    "random_search = RandomizedSearchCV(\n",
    "    tasks_pipeline, \n",
    "    param_distributions, \n",
    "    n_iter=max_iteraciones,\n",
    "    scoring=SCORING,\n",
    "    cv=kf,\n",
    "    verbose=3, \n",
    "    random_state=SEMILLA, \n",
    "    n_jobs=-1\n",
    "    )\n",
    "\n",
    "# Entrenar el modelo\n",
    "random_search.fit(X_train, y_train)\n",
    "\n",
    "# Ver los mejores hiperparámetros encontrados\n",
    "print(f'Mejores Hiperparámetros: {random_search.best_params_}')\n",
    "print(f'Mejor Puntuación: {random_search.best_score_:.4f}')\n",
    "\n",
    "# Nos quedamos con el mejor modelo para ver las métricas\n",
    "mejor_modelo = random_search.best_estimator_\n",
    "\n",
    "myfunc.verbose(\"Fin entrenamiento\")"
   ]
  },
  {
   "cell_type": "markdown",
   "id": "f99d0894",
   "metadata": {
    "papermill": {
     "duration": 0.004018,
     "end_time": "2023-10-30T05:06:09.521828",
     "exception": false,
     "start_time": "2023-10-30T05:06:09.517810",
     "status": "completed"
    },
    "tags": []
   },
   "source": [
    "#### Guardar modelo"
   ]
  },
  {
   "cell_type": "code",
   "execution_count": 8,
   "id": "1a12f664",
   "metadata": {
    "execution": {
     "iopub.execute_input": "2023-10-30T05:06:09.531209Z",
     "iopub.status.busy": "2023-10-30T05:06:09.530656Z",
     "iopub.status.idle": "2023-10-30T05:06:09.541364Z",
     "shell.execute_reply": "2023-10-30T05:06:09.540817Z"
    },
    "papermill": {
     "duration": 0.016824,
     "end_time": "2023-10-30T05:06:09.542550",
     "exception": false,
     "start_time": "2023-10-30T05:06:09.525726",
     "status": "completed"
    },
    "tags": []
   },
   "outputs": [
    {
     "name": "stdout",
     "output_type": "stream",
     "text": [
      "20231030T060609 : enderlab : INFO : Inicio guardar fichero ../tfm_git/ejecuciones/modelos/modelo_9322_mul_m_MI_SVM.pkl\n",
      "20231030T060609 : enderlab : INFO : Fin guardar fichero ../tfm_git/ejecuciones/modelos/modelo_9322_mul_m_MI_SVM.pkl\n"
     ]
    }
   ],
   "source": [
    "fichero_modelo = str.replace(\"modelo_\"+str(SEMILLA).zfill(4)+\"_\"+M_TIPO+\"_\"+M_SELECT+\"_\"+M_CLASIF+\".pkl\", \" \", \"_\")\n",
    "\n",
    "myfunc.save_modelo(mejor_modelo, myfunc.MODEL_DIR, fichero_modelo)"
   ]
  },
  {
   "cell_type": "markdown",
   "id": "aa448841",
   "metadata": {
    "papermill": {
     "duration": 0.004097,
     "end_time": "2023-10-30T05:06:09.550614",
     "exception": false,
     "start_time": "2023-10-30T05:06:09.546517",
     "status": "completed"
    },
    "tags": []
   },
   "source": [
    "#### Ver resultados del las iteraciones hechas por RandomSearchCV"
   ]
  },
  {
   "cell_type": "code",
   "execution_count": 9,
   "id": "147931e1",
   "metadata": {
    "execution": {
     "iopub.execute_input": "2023-10-30T05:06:09.559987Z",
     "iopub.status.busy": "2023-10-30T05:06:09.559456Z",
     "iopub.status.idle": "2023-10-30T05:06:09.565794Z",
     "shell.execute_reply": "2023-10-30T05:06:09.565238Z"
    },
    "papermill": {
     "duration": 0.013822,
     "end_time": "2023-10-30T05:06:09.568430",
     "exception": false,
     "start_time": "2023-10-30T05:06:09.554608",
     "status": "completed"
    },
    "tags": []
   },
   "outputs": [
    {
     "name": "stdout",
     "output_type": "stream",
     "text": [
      "20231030T060609 : enderlab : INFO : Inicio ver resultados\n",
      "Mejores Hiperparámetros: {'selector__k': 1000, 'clasifier__kernel': 'rbf', 'clasifier__gamma': 0.001, 'clasifier__C': 100}\n",
      "Mejores puntuaciones: 0.8515 | Params: {'selector__k': 1000, 'clasifier__kernel': 'rbf', 'clasifier__gamma': 0.001, 'clasifier__C': 100}\n",
      "Media de las puntuaciones: 0.8515 | Params: {'selector__k': 1000, 'clasifier__kernel': 'rbf', 'clasifier__gamma': 0.001, 'clasifier__C': 100}\n",
      "20231030T060609 : enderlab : INFO : Fin resultados\n"
     ]
    }
   ],
   "source": [
    "myfunc.ver_resultados_search(random_search)"
   ]
  },
  {
   "cell_type": "markdown",
   "id": "3e18d35b",
   "metadata": {
    "papermill": {
     "duration": 0.00435,
     "end_time": "2023-10-30T05:06:09.577172",
     "exception": false,
     "start_time": "2023-10-30T05:06:09.572822",
     "status": "completed"
    },
    "tags": []
   },
   "source": [
    "#### Ver métricas del mejor modelo"
   ]
  },
  {
   "cell_type": "code",
   "execution_count": 10,
   "id": "6bfa84cc",
   "metadata": {
    "execution": {
     "iopub.execute_input": "2023-10-30T05:06:09.586802Z",
     "iopub.status.busy": "2023-10-30T05:06:09.586289Z",
     "iopub.status.idle": "2023-10-30T05:06:10.302491Z",
     "shell.execute_reply": "2023-10-30T05:06:10.301914Z"
    },
    "papermill": {
     "duration": 0.722394,
     "end_time": "2023-10-30T05:06:10.303784",
     "exception": false,
     "start_time": "2023-10-30T05:06:09.581390",
     "status": "completed"
    },
    "tags": []
   },
   "outputs": [
    {
     "name": "stdout",
     "output_type": "stream",
     "text": [
      "20231030T060609 : enderlab : INFO : Inicio ver métricas multiclase\n"
     ]
    },
    {
     "name": "stdout",
     "output_type": "stream",
     "text": [
      "              precision    recall  f1-score   support\n",
      "\n",
      "           0       0.50      0.44      0.47        16\n",
      "           1       0.70      0.47      0.56        15\n",
      "           2       0.33      0.45      0.38        11\n",
      "           3       0.67      0.80      0.73         5\n",
      "           4       0.53      0.69      0.60        13\n",
      "           5       0.75      0.67      0.71         9\n",
      "           6       0.59      0.56      0.57        18\n",
      "\n",
      "    accuracy                           0.55        87\n",
      "   macro avg       0.58      0.58      0.57        87\n",
      "weighted avg       0.57      0.55      0.55        87\n",
      "\n",
      "\n",
      "\n",
      "           Exactitud: 0.551724\n",
      "   Precisión (media): 0.581092\n",
      "      Recall (media): 0.581892\n",
      "    F1-score (media): 0.573695\n",
      "\n",
      "\n",
      "AUC para el tipo de cáncer 0-Control.... 0.7905\n"
     ]
    },
    {
     "name": "stdout",
     "output_type": "stream",
     "text": [
      "AUC para el tipo de cáncer 1-Bladder.... 0.8028\n",
      "AUC para el tipo de cáncer 2-Breast..... 0.7237\n",
      "AUC para el tipo de cáncer 3-Colorectal. 0.8634\n",
      "AUC para el tipo de cáncer 4-Kidney..... 0.8056\n",
      "AUC para el tipo de cáncer 5-Lung....... 0.9017\n",
      "AUC para el tipo de cáncer 6-Prostate... 0.8816\n",
      "\n",
      "Media de AUC: 0.8242\n"
     ]
    },
    {
     "data": {
      "image/png": "[encoded data removed]",
      "text/plain": [
       "<Figure size 1000x600 with 1 Axes>"
      ]
     },
     "metadata": {},
     "output_type": "display_data"
    },
    {
     "name": "stdout",
     "output_type": "stream",
     "text": [
      "\n",
      "\n"
     ]
    },
    {
     "data": {
      "image/png": "[encoded data removed]",
      "text/plain": [
       "<Figure size 800x400 with 2 Axes>"
      ]
     },
     "metadata": {},
     "output_type": "display_data"
    },
    {
     "name": "stdout",
     "output_type": "stream",
     "text": [
      "\n",
      "\n",
      "Puntuación Jaccard para el cáncer tipo 0-Control.... 0.3043\n",
      "Puntuación Jaccard para el cáncer tipo 1-Bladder.... 0.3889\n",
      "Puntuación Jaccard para el cáncer tipo 2-Breast..... 0.2381\n",
      "Puntuación Jaccard para el cáncer tipo 3-Colorectal. 0.5714\n",
      "Puntuación Jaccard para el cáncer tipo 4-Kidney..... 0.4286\n",
      "Puntuación Jaccard para el cáncer tipo 5-Lung....... 0.5455\n",
      "Puntuación Jaccard para el cáncer tipo 6-Prostate... 0.4000\n",
      "\n",
      "Media de la puntuación de Jaccard: 0.4110\n"
     ]
    }
   ],
   "source": [
    "if M_TIPO.startswith(\"bin\"):\n",
    "    myfunc.ver_metricas(mejor_modelo, X_test, y_test)\n",
    "else:\n",
    "    myfunc.ver_metricas_multi(mejor_modelo, X_test, y_test)\n"
   ]
  },
  {
   "cell_type": "markdown",
   "id": "25d785bf",
   "metadata": {
    "papermill": {
     "duration": 0.005772,
     "end_time": "2023-10-30T05:06:10.315924",
     "exception": false,
     "start_time": "2023-10-30T05:06:10.310152",
     "status": "completed"
    },
    "tags": []
   },
   "source": [
    "#### Finalización del notebook"
   ]
  },
  {
   "cell_type": "code",
   "execution_count": 11,
   "id": "3240c4a9",
   "metadata": {
    "execution": {
     "iopub.execute_input": "2023-10-30T05:06:10.328567Z",
     "iopub.status.busy": "2023-10-30T05:06:10.327955Z",
     "iopub.status.idle": "2023-10-30T05:06:10.331911Z",
     "shell.execute_reply": "2023-10-30T05:06:10.331282Z"
    },
    "papermill": {
     "duration": 0.011524,
     "end_time": "2023-10-30T05:06:10.333124",
     "exception": false,
     "start_time": "2023-10-30T05:06:10.321600",
     "status": "completed"
    },
    "tags": []
   },
   "outputs": [
    {
     "name": "stdout",
     "output_type": "stream",
     "text": [
      "20231030T060610 : enderlab : INFO : Notebook ha tardado 225 seconds\n"
     ]
    }
   ],
   "source": [
    "end_time = datetime.datetime.now()\n",
    "total_time = end_time - start_time\n",
    "myfunc.verbose(f\"Notebook ha tardado {total_time.seconds} seconds\")"
   ]
  },
  {
   "cell_type": "markdown",
   "id": "c834e5ef",
   "metadata": {
    "papermill": {
     "duration": 0.005655,
     "end_time": "2023-10-30T05:06:10.344447",
     "exception": false,
     "start_time": "2023-10-30T05:06:10.338792",
     "status": "completed"
    },
    "tags": []
   },
   "source": [
    "#### Guardar métricas"
   ]
  },
  {
   "cell_type": "code",
   "execution_count": 12,
   "id": "a1abda09",
   "metadata": {
    "execution": {
     "iopub.execute_input": "2023-10-30T05:06:10.357332Z",
     "iopub.status.busy": "2023-10-30T05:06:10.356874Z",
     "iopub.status.idle": "2023-10-30T05:06:10.628206Z",
     "shell.execute_reply": "2023-10-30T05:06:10.627632Z"
    },
    "papermill": {
     "duration": 0.279156,
     "end_time": "2023-10-30T05:06:10.629478",
     "exception": false,
     "start_time": "2023-10-30T05:06:10.350322",
     "status": "completed"
    },
    "tags": []
   },
   "outputs": [
    {
     "name": "stdout",
     "output_type": "stream",
     "text": [
      "20231030T060610 : enderlab : INFO : Inicio guardar métricas multiclase\n",
      "20231030T060610 : enderlab : INFO : Inicio leer fichero ../tfm_git/ejecuciones/metricas/metricas_9322.csv\n",
      "20231030T060610 : enderlab : INFO : Fin leer fichero ../tfm_git/ejecuciones/metricas/metricas_9322.csv\n"
     ]
    },
    {
     "name": "stdout",
     "output_type": "stream",
     "text": [
      "20231030T060610 : enderlab : INFO : Inicio guardar fichero ../tfm_git/ejecuciones/metricas/metricas_9322.csv\n",
      "20231030T060610 : enderlab : INFO : Fichero borrado ../tfm_git/ejecuciones/metricas/metricas_9322.csv\n",
      "20231030T060610 : enderlab : INFO : Fin guardar fichero ../tfm_git/ejecuciones/metricas/metricas_9322.csv\n",
      "20231030T060610 : enderlab : INFO : Fin guardar métricas multiclase\n",
      "20231030T060610 : enderlab : INFO : Inicio leer fichero ../tfm_git/ejecuciones/metricas/metricas_9322.csv\n",
      "20231030T060610 : enderlab : INFO : Fin leer fichero ../tfm_git/ejecuciones/metricas/metricas_9322.csv\n"
     ]
    },
    {
     "data": {
      "text/html": [
       "<div>\n",
       "<style scoped>\n",
       "    .dataframe tbody tr th:only-of-type {\n",
       "        vertical-align: middle;\n",
       "    }\n",
       "\n",
       "    .dataframe tbody tr th {\n",
       "        vertical-align: top;\n",
       "    }\n",
       "\n",
       "    .dataframe thead th {\n",
       "        text-align: right;\n",
       "    }\n",
       "</style>\n",
       "<table border=\"1\" class=\"dataframe\">\n",
       "  <thead>\n",
       "    <tr style=\"text-align: right;\">\n",
       "      <th></th>\n",
       "      <th>tipo</th>\n",
       "      <th>select</th>\n",
       "      <th>clasific</th>\n",
       "      <th>semilla</th>\n",
       "      <th>accuracy</th>\n",
       "      <th>precision</th>\n",
       "      <th>recall</th>\n",
       "      <th>f1_score</th>\n",
       "      <th>roc_auc</th>\n",
       "      <th>hostname</th>\n",
       "      <th>total_time_sec</th>\n",
       "      <th>datetime</th>\n",
       "      <th>fichero_modelo</th>\n",
       "      <th>params</th>\n",
       "      <th>shape</th>\n",
       "      <th>features</th>\n",
       "      <th>roc_auc_ovr</th>\n",
       "      <th>indices_auc</th>\n",
       "      <th>indices_jaccard</th>\n",
       "    </tr>\n",
       "  </thead>\n",
       "  <tbody>\n",
       "    <tr>\n",
       "      <th>0</th>\n",
       "      <td>mul_m</td>\n",
       "      <td>MI</td>\n",
       "      <td>SVM</td>\n",
       "      <td>9322</td>\n",
       "      <td>0.551724</td>\n",
       "      <td>0.581092</td>\n",
       "      <td>0.581892</td>\n",
       "      <td>0.573695</td>\n",
       "      <td>NaN</td>\n",
       "      <td>enderlab</td>\n",
       "      <td>225</td>\n",
       "      <td>2023-10-30 06:06:10.582141</td>\n",
       "      <td>modelo_9322_mul_m_MI_SVM.pkl</td>\n",
       "      <td>{'selector__k': 1000, 'clasifier__kernel': 'rb...</td>\n",
       "      <td>X_test:(87, 18875)</td>\n",
       "      <td>['ENSG00000001084.13', 'ENSG00000001460.18', '...</td>\n",
       "      <td>0.824191</td>\n",
       "      <td>[0.7904929577464789, 0.8027777777777778, 0.723...</td>\n",
       "      <td>[0.30434782608695654, 0.3888888888888889, 0.23...</td>\n",
       "    </tr>\n",
       "    <tr>\n",
       "      <th>0</th>\n",
       "      <td>mul_m</td>\n",
       "      <td>MI</td>\n",
       "      <td>RF</td>\n",
       "      <td>9322</td>\n",
       "      <td>0.459770</td>\n",
       "      <td>0.485399</td>\n",
       "      <td>0.485693</td>\n",
       "      <td>0.442419</td>\n",
       "      <td>NaN</td>\n",
       "      <td>enderlab</td>\n",
       "      <td>250</td>\n",
       "      <td>2023-10-30 06:02:17.710654</td>\n",
       "      <td>modelo_9322_mul_m_MI_RF.pkl</td>\n",
       "      <td>{'selector__k': 1000, 'clasifier__n_estimators...</td>\n",
       "      <td>X_test:(87, 18875)</td>\n",
       "      <td>['ENSG00000001084.13', 'ENSG00000001460.18', '...</td>\n",
       "      <td>0.782481</td>\n",
       "      <td>[0.5713028169014084, 0.8435185185185186, 0.722...</td>\n",
       "      <td>[0.15789473684210525, 0.4090909090909091, 0.26...</td>\n",
       "    </tr>\n",
       "    <tr>\n",
       "      <th>0</th>\n",
       "      <td>mul_m</td>\n",
       "      <td>MI</td>\n",
       "      <td>LR_L2</td>\n",
       "      <td>9322</td>\n",
       "      <td>0.574713</td>\n",
       "      <td>0.573376</td>\n",
       "      <td>0.593706</td>\n",
       "      <td>0.575835</td>\n",
       "      <td>NaN</td>\n",
       "      <td>enderlab</td>\n",
       "      <td>251</td>\n",
       "      <td>2023-10-30 05:58:00.501950</td>\n",
       "      <td>modelo_9322_mul_m_MI_LR_L2.pkl</td>\n",
       "      <td>{'selector__k': 1000, 'clasifier__solver': 'lb...</td>\n",
       "      <td>X_test:(87, 18875)</td>\n",
       "      <td>['ENSG00000001084.13', 'ENSG00000001460.18', '...</td>\n",
       "      <td>0.884245</td>\n",
       "      <td>[0.8855633802816901, 0.8629629629629629, 0.820...</td>\n",
       "      <td>[0.38095238095238093, 0.35, 0.2105263157894736...</td>\n",
       "    </tr>\n",
       "  </tbody>\n",
       "</table>\n",
       "</div>"
      ],
      "text/plain": [
       "    tipo select clasific  semilla  accuracy  precision    recall  f1_score  \\\n",
       "0  mul_m     MI      SVM     9322  0.551724   0.581092  0.581892  0.573695   \n",
       "0  mul_m     MI       RF     9322  0.459770   0.485399  0.485693  0.442419   \n",
       "0  mul_m     MI    LR_L2     9322  0.574713   0.573376  0.593706  0.575835   \n",
       "\n",
       "   roc_auc  hostname  total_time_sec                    datetime  \\\n",
       "0      NaN  enderlab             225  2023-10-30 06:06:10.582141   \n",
       "0      NaN  enderlab             250  2023-10-30 06:02:17.710654   \n",
       "0      NaN  enderlab             251  2023-10-30 05:58:00.501950   \n",
       "\n",
       "                   fichero_modelo  \\\n",
       "0    modelo_9322_mul_m_MI_SVM.pkl   \n",
       "0     modelo_9322_mul_m_MI_RF.pkl   \n",
       "0  modelo_9322_mul_m_MI_LR_L2.pkl   \n",
       "\n",
       "                                              params               shape  \\\n",
       "0  {'selector__k': 1000, 'clasifier__kernel': 'rb...  X_test:(87, 18875)   \n",
       "0  {'selector__k': 1000, 'clasifier__n_estimators...  X_test:(87, 18875)   \n",
       "0  {'selector__k': 1000, 'clasifier__solver': 'lb...  X_test:(87, 18875)   \n",
       "\n",
       "                                            features  roc_auc_ovr  \\\n",
       "0  ['ENSG00000001084.13', 'ENSG00000001460.18', '...     0.824191   \n",
       "0  ['ENSG00000001084.13', 'ENSG00000001460.18', '...     0.782481   \n",
       "0  ['ENSG00000001084.13', 'ENSG00000001460.18', '...     0.884245   \n",
       "\n",
       "                                         indices_auc  \\\n",
       "0  [0.7904929577464789, 0.8027777777777778, 0.723...   \n",
       "0  [0.5713028169014084, 0.8435185185185186, 0.722...   \n",
       "0  [0.8855633802816901, 0.8629629629629629, 0.820...   \n",
       "\n",
       "                                     indices_jaccard  \n",
       "0  [0.30434782608695654, 0.3888888888888889, 0.23...  \n",
       "0  [0.15789473684210525, 0.4090909090909091, 0.26...  \n",
       "0  [0.38095238095238093, 0.35, 0.2105263157894736...  "
      ]
     },
     "metadata": {},
     "output_type": "display_data"
    }
   ],
   "source": [
    "if M_TIPO.startswith(\"bin\"):\n",
    "    myfunc.save_metricas_to_csv(random_search, X_test, y_test, M_TIPO, M_SELECT, M_CLASIF, total_time, SEMILLA, myfunc.MET_DIR, M_FICHERO, fichero_modelo)\n",
    "else:\n",
    "    myfunc.save_metricas_multi_to_csv(random_search, X_test, y_test, M_TIPO, M_SELECT, M_CLASIF, total_time, SEMILLA, myfunc.MET_DIR, M_FICHERO, fichero_modelo)\n",
    "\n",
    "df1=myfunc.read_metricas_to_df(myfunc.MET_DIR,M_FICHERO)\n",
    "\n",
    "display(df1.sort_values(\"datetime\", ascending=False)[:3])\n"
   ]
  },
  {
   "cell_type": "markdown",
   "id": "1a7ef030",
   "metadata": {
    "papermill": {
     "duration": 0.007079,
     "end_time": "2023-10-30T05:06:10.643136",
     "exception": false,
     "start_time": "2023-10-30T05:06:10.636057",
     "status": "completed"
    },
    "tags": []
   },
   "source": [
    "#### Guardar resultados"
   ]
  },
  {
   "cell_type": "code",
   "execution_count": 13,
   "id": "d3a0555d",
   "metadata": {
    "execution": {
     "iopub.execute_input": "2023-10-30T05:06:10.657274Z",
     "iopub.status.busy": "2023-10-30T05:06:10.656644Z",
     "iopub.status.idle": "2023-10-30T05:06:10.665572Z",
     "shell.execute_reply": "2023-10-30T05:06:10.665028Z"
    },
    "papermill": {
     "duration": 0.016901,
     "end_time": "2023-10-30T05:06:10.666813",
     "exception": false,
     "start_time": "2023-10-30T05:06:10.649912",
     "status": "completed"
    },
    "tags": []
   },
   "outputs": [
    {
     "name": "stdout",
     "output_type": "stream",
     "text": [
      "20231030T060610 : enderlab : INFO : Inicio guardar resultados\n",
      "20231030T060610 : enderlab : INFO : Inicio guardar fichero ../tfm_git/ejecuciones/metricas/resultados_9322_mul_m-MI-SVM.csv\n",
      "20231030T060610 : enderlab : INFO : Fin guardar fichero ../tfm_git/ejecuciones/metricas/resultados_9322_mul_m-MI-SVM.csv\n",
      "20231030T060610 : enderlab : INFO : Fin guardar resultados\n"
     ]
    }
   ],
   "source": [
    "fichero_resultados=R_FICHERO+\"_\"+M_TIPO+\"-\"+M_SELECT+\"-\"+M_CLASIF+\".csv\"\n",
    "myfunc.save_resultados_to_csv(M_TIPO, M_SELECT, M_CLASIF,  random_search, myfunc.MET_DIR, fichero_resultados)\n"
   ]
  }
 ],
 "metadata": {
  "kernelspec": {
   "display_name": "Python 3 (ipykernel)",
   "language": "python",
   "name": "python3"
  },
  "language_info": {
   "codemirror_mode": {
    "name": "ipython",
    "version": 3
   },
   "file_extension": ".py",
   "mimetype": "text/x-python",
   "name": "python",
   "nbconvert_exporter": "python",
   "pygments_lexer": "ipython3",
   "version": "3.10.11"
  },
  "papermill": {
   "default_parameters": {},
   "duration": 231.246183,
   "end_time": "2023-10-30T05:06:13.290759",
   "environment_variables": {},
   "exception": null,
   "input_path": "03_entrenamiento.ipynb",
   "output_path": "ejecuciones/training/03_entrenamiento.20231030T060221.param_0000_9322_mul_m_MI_SVM.output.ipynb",
   "parameters": {
    "MAX_ITERS": 500,
    "M_CLASIF": "SVM",
    "M_FICHERO": "metricas_9322",
    "M_SELECT": "MI",
    "M_TIPO": "mul_m",
    "PRE_DATA_FILE": "rows_transpose_norm_by_gene_id_with_target_num_",
    "P_FICHERO": "param_0000_9322_mul_m_MI_SVM.yaml",
    "R_FICHERO": "resultados_9322",
    "SCORING": "roc_auc_ovr",
    "SEMILLA": 9322,
    "eval_clasifier": "SVC(probability=True, random_state=SEMILLA)",
    "eval_selector": "SelectKBest(score_func=mutual_info_classif_state)",
    "param_distributions": {
     "clasifier__C": [
      100
     ],
     "clasifier__gamma": [
      0.001
     ],
     "clasifier__kernel": [
      "rbf"
     ],
     "selector__k": [
      1000
     ]
    }
   },
   "start_time": "2023-10-30T05:02:22.044576",
   "version": "2.4.0"
  }
 },
 "nbformat": 4,
 "nbformat_minor": 5
}