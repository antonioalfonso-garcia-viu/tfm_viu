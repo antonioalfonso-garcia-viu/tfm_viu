{
 "cells": [
  {
   "cell_type": "markdown",
   "id": "a42d2029",
   "metadata": {
    "papermill": {
     "duration": 0.00435,
     "end_time": "2023-10-30T05:06:10.243856",
     "exception": false,
     "start_time": "2023-10-30T05:06:10.239506",
     "status": "completed"
    },
    "tags": []
   },
   "source": [
    "##### Inicio"
   ]
  },
  {
   "cell_type": "markdown",
   "id": "a9d7c8b5",
   "metadata": {
    "papermill": {
     "duration": 0.003525,
     "end_time": "2023-10-30T05:06:10.251218",
     "exception": false,
     "start_time": "2023-10-30T05:06:10.247693",
     "status": "completed"
    },
    "tags": []
   },
   "source": [
    "#### Carga de datos"
   ]
  },
  {
   "cell_type": "code",
   "execution_count": 1,
   "id": "142459e6",
   "metadata": {
    "execution": {
     "iopub.execute_input": "2023-10-30T05:06:10.259585Z",
     "iopub.status.busy": "2023-10-30T05:06:10.259343Z",
     "iopub.status.idle": "2023-10-30T05:06:11.127496Z",
     "shell.execute_reply": "2023-10-30T05:06:11.127003Z"
    },
    "papermill": {
     "duration": 0.873912,
     "end_time": "2023-10-30T05:06:11.128742",
     "exception": false,
     "start_time": "2023-10-30T05:06:10.254830",
     "status": "completed"
    },
    "tags": []
   },
   "outputs": [
    {
     "name": "stdout",
     "output_type": "stream",
     "text": [
      "CPU_COUNT: 8; NODE: amilcar22; sys.version: 3.10.12 (main, Jul  5 2023, 19:22:19) [GCC 11.2.0]\n",
      "LOKY_MAX_CPU_COUNT: 6\n",
      "OMP_NUM_THREADS: 2\n"
     ]
    }
   ],
   "source": [
    "import os\n",
    "import numpy as np\n",
    "import pandas as pd\n",
    "import datetime\n",
    "import sklearn\n",
    "import logging\n",
    "import warnings\n",
    "\n",
    "from sklearn.pipeline import Pipeline\n",
    "from sklearn.model_selection import RandomizedSearchCV, KFold, cross_val_score, train_test_split\n",
    "from sklearn.metrics import accuracy_score, confusion_matrix, classification_report, roc_auc_score\n",
    "\n",
    "#  cargar algoritmos para aprendizaje supervisado\n",
    "from sklearn.feature_selection import SelectKBest, f_classif, SelectFromModel, mutual_info_classif\n",
    "from sklearn.svm import SVC\n",
    "from sklearn.ensemble import RandomForestClassifier\n",
    "from sklearn.linear_model import LogisticRegression,LogisticRegressionCV\n",
    "\n",
    "# importar fichero con utilidades propias\n",
    "from commons import myfunctions as myfunc\n"
   ]
  },
  {
   "cell_type": "markdown",
   "id": "afdd03e7",
   "metadata": {
    "papermill": {
     "duration": 0.002486,
     "end_time": "2023-10-30T05:06:11.134034",
     "exception": false,
     "start_time": "2023-10-30T05:06:11.131548",
     "status": "completed"
    },
    "tags": []
   },
   "source": [
    "#### Parámetros a utilizar en el entrenamiento.\n",
    "\n",
    "Se indican los 3 algoritmos de *selección de características* (eval_selector_xxx) y los 3 algoritmos para la _clasificación_ (eval_clasifier_xxx)\n",
    "\n",
    "En *param_distributions* se indicar los parámetros que utilizan los algoritmos en la función RandomSearchCV.\n",
    "\n",
    "Esta celda tiene la etiqueta **parameters** que servirá para poder lanzar los entrenamientos con la utilidad **papermill** pasándole un fichero con los parámetros. Los nuevos parámetros se situarán tras esta celda para tener prevalencia."
   ]
  },
  {
   "cell_type": "code",
   "execution_count": 2,
   "id": "566b1dae",
   "metadata": {
    "execution": {
     "iopub.execute_input": "2023-10-30T05:06:11.140113Z",
     "iopub.status.busy": "2023-10-30T05:06:11.139839Z",
     "iopub.status.idle": "2023-10-30T05:06:11.146644Z",
     "shell.execute_reply": "2023-10-30T05:06:11.146182Z"
    },
    "papermill": {
     "duration": 0.011309,
     "end_time": "2023-10-30T05:06:11.147744",
     "exception": false,
     "start_time": "2023-10-30T05:06:11.136435",
     "status": "completed"
    },
    "tags": [
     "parameters"
    ]
   },
   "outputs": [
    {
     "name": "stdout",
     "output_type": "stream",
     "text": [
      "20231030T060611 : amilcar22 : INFO : Utilizando parámetros de mul_m\n"
     ]
    }
   ],
   "source": [
    "#  Parametros para el entrenamiento\n",
    "\n",
    "SEMILLA=        42\n",
    "M_TIPO=         \"mul_m\"\n",
    "M_SELECT=       \"MI\"\n",
    "M_CLASIF=       \"SVM\"\n",
    "R_FICHERO=      \"resultados\"\n",
    "M_FICHERO=      \"metricas\"\n",
    "PRE_DATA_FILE=  \"rows_transpose_norm_by_gene_id_with_target_num_\"\n",
    "SCORING=        \"roc_auc_ovr\" \n",
    "MAX_ITERS=      100\n",
    "\n",
    "def mutual_info_classif_state(X, y):\n",
    "    return mutual_info_classif(X, y, random_state=SEMILLA)\n",
    "\n",
    "eval_selector_mi = \"SelectKBest(score_func=mutual_info_classif_state)\"\n",
    "eval_selector_rf=  \"SelectFromModel(estimator=RandomForestClassifier(random_state=SEMILLA), threshold=-np.inf)\"\n",
    "eval_selector_anova=  \"SelectKBest(score_func=f_classif)\"\n",
    "\n",
    "eval_clasifier_svm= \"SVC(probability=True, random_state=SEMILLA)\"\n",
    "eval_clasifier_rf= \"RandomForestClassifier(random_state=SEMILLA)\"\n",
    "eval_clasifier_lr= \"LogisticRegressionCV(random_state=SEMILLA)\"\n",
    "\n",
    "if M_TIPO.startswith(\"bin_m\"):\n",
    "    myfunc.verbose(f\"Utilizando parámetros de {M_TIPO}\")\n",
    "    eval_selector = eval_selector_mi\n",
    "    eval_clasifier = eval_clasifier_svm\n",
    "\n",
    "    SEMILLA = 6578\n",
    "    M_SELECT = \"MI\"\n",
    "    M_CLASIF = \"SVM\"\n",
    "    param_distributions = {'selector__k': [1000], \n",
    "         'clasifier__kernel': ['rbf'], 'clasifier__gamma': [0.01], 'clasifier__C': [100]}\n",
    "elif M_TIPO.startswith(\"bin_s\"):\n",
    "    myfunc.verbose(f\"Utilizando parámetros de {M_TIPO}\")\n",
    "    eval_selector = eval_selector_rf\n",
    "    eval_clasifier = eval_clasifier_lr\n",
    "\n",
    "    SEMILLA = 6191\n",
    "    M_SELECT = \"RF\"\n",
    "    M_CLASIF = \"LR_L2\"\n",
    "    param_distributions = {'selector__max_features': [1000], 'selector__estimator__n_estimators': [200], \n",
    "        'clasifier__solver': ['lbfgs'], 'clasifier__penalty': ['l2'], 'clasifier__max_iter': [10000]}\n",
    "\n",
    "elif M_TIPO.startswith(\"mul_m\"):\n",
    "    myfunc.verbose(f\"Utilizando parámetros de {M_TIPO}\")\n",
    " \n",
    "    eval_selector = eval_selector_rf\n",
    "    eval_clasifier = eval_clasifier_lr\n",
    "\n",
    "    SEMILLA = 6191\n",
    "    M_SELECT = \"RF\"\n",
    "    M_CLASIF = \"LR_L2\"\n",
    "    param_distributions = {'selector__max_features': [1000], 'selector__estimator__n_estimators': [400], \n",
    "        'clasifier__solver': ['lbfgs'], 'clasifier__penalty': ['l2'], 'clasifier__max_iter': [10000]}\n",
    "\n",
    "else:\n",
    "    # M_TIPO.startswith(\"mul_s\"):\n",
    "    myfunc.verbose(f\"Utilizando parámetros de {M_TIPO}\")\n",
    "    eval_selector = eval_selector_anova\n",
    "    eval_clasifier = eval_clasifier_lr\n",
    "\n",
    "    SEMILLA = 1860\n",
    "    M_SELECT = \"ANOVA\"\n",
    "    M_CLASIF = \"LR_L2\"\n",
    "    param_distributions = {'selector__k': [1000], \n",
    "        'clasifier__solver': ['saga'], 'clasifier__penalty': ['l2'], 'clasifier__max_iter': [10000]}\n",
    "\n"
   ]
  },
  {
   "cell_type": "code",
   "execution_count": 3,
   "id": "8e165c67",
   "metadata": {
    "execution": {
     "iopub.execute_input": "2023-10-30T05:06:11.153730Z",
     "iopub.status.busy": "2023-10-30T05:06:11.153539Z",
     "iopub.status.idle": "2023-10-30T05:06:11.157311Z",
     "shell.execute_reply": "2023-10-30T05:06:11.156822Z"
    },
    "papermill": {
     "duration": 0.008157,
     "end_time": "2023-10-30T05:06:11.158495",
     "exception": false,
     "start_time": "2023-10-30T05:06:11.150338",
     "status": "completed"
    },
    "tags": [
     "injected-parameters"
    ]
   },
   "outputs": [],
   "source": [
    "# Parameters\n",
    "M_TIPO = \"bin_m\"\n",
    "M_SELECT = \"MI\"\n",
    "M_CLASIF = \"RF\"\n",
    "P_FICHERO = \"param_0000_6191_bin_m_MI_RF.yaml\"\n",
    "R_FICHERO = \"resultados_6191\"\n",
    "M_FICHERO = \"metricas_6191\"\n",
    "PRE_DATA_FILE = \"rows_transpose_norm_by_gene_id_with_target_num_\"\n",
    "SCORING = \"roc_auc_ovr\"\n",
    "SEMILLA = 6191\n",
    "MAX_ITERS = 500\n",
    "eval_selector = \"SelectKBest(score_func=mutual_info_classif_state)\"\n",
    "eval_clasifier = \"RandomForestClassifier(random_state=SEMILLA)\"\n",
    "param_distributions = {\n",
    "    \"selector__k\": [1000],\n",
    "    \"clasifier__n_estimators\": [400],\n",
    "    \"clasifier__min_samples_split\": [10],\n",
    "    \"clasifier__min_samples_leaf\": [5],\n",
    "    \"clasifier__max_features\": [1000],\n",
    "    \"clasifier__max_depth\": [20],\n",
    "    \"clasifier__bootstrap\": [True],\n",
    "}\n"
   ]
  },
  {
   "cell_type": "code",
   "execution_count": 4,
   "id": "6ec6ade6",
   "metadata": {
    "execution": {
     "iopub.execute_input": "2023-10-30T05:06:11.165108Z",
     "iopub.status.busy": "2023-10-30T05:06:11.164925Z",
     "iopub.status.idle": "2023-10-30T05:06:11.168019Z",
     "shell.execute_reply": "2023-10-30T05:06:11.167517Z"
    },
    "papermill": {
     "duration": 0.007722,
     "end_time": "2023-10-30T05:06:11.169150",
     "exception": false,
     "start_time": "2023-10-30T05:06:11.161428",
     "status": "completed"
    },
    "tags": []
   },
   "outputs": [],
   "source": [
    "DATA_FILE = PRE_DATA_FILE + M_TIPO\n",
    "\n",
    "# si viene \"None\" en el parámetro max_depth, se le quitan las comillas para que no sea entendido por el algoritmo como un texto\n",
    "if \"clasifier__max_depth\" in param_distributions:\n",
    "    param_distributions['clasifier__max_depth'] = [None if x == 'None' else x for x in param_distributions['clasifier__max_depth']]"
   ]
  },
  {
   "cell_type": "markdown",
   "id": "6ddfee61",
   "metadata": {
    "papermill": {
     "duration": 0.002798,
     "end_time": "2023-10-30T05:06:11.174783",
     "exception": false,
     "start_time": "2023-10-30T05:06:11.171985",
     "status": "completed"
    },
    "tags": []
   },
   "source": [
    "Asignar los algoritmos que se utilizarán en la función RandomSearchCV"
   ]
  },
  {
   "cell_type": "code",
   "execution_count": 5,
   "id": "135e47db",
   "metadata": {
    "execution": {
     "iopub.execute_input": "2023-10-30T05:06:11.181222Z",
     "iopub.status.busy": "2023-10-30T05:06:11.181040Z",
     "iopub.status.idle": "2023-10-30T05:06:11.184087Z",
     "shell.execute_reply": "2023-10-30T05:06:11.183556Z"
    },
    "papermill": {
     "duration": 0.007675,
     "end_time": "2023-10-30T05:06:11.185334",
     "exception": false,
     "start_time": "2023-10-30T05:06:11.177659",
     "status": "completed"
    },
    "tags": []
   },
   "outputs": [],
   "source": [
    "algor_selector=eval(eval_selector)\n",
    "algor_clasifier=eval(eval_clasifier)"
   ]
  },
  {
   "cell_type": "markdown",
   "id": "d8b83671",
   "metadata": {
    "papermill": {
     "duration": 0.00332,
     "end_time": "2023-10-30T05:06:11.191986",
     "exception": false,
     "start_time": "2023-10-30T05:06:11.188666",
     "status": "completed"
    },
    "tags": []
   },
   "source": [
    "#### Comprobar el entorno y leer fichero de muestras"
   ]
  },
  {
   "cell_type": "code",
   "execution_count": 6,
   "id": "a56b0cde",
   "metadata": {
    "execution": {
     "iopub.execute_input": "2023-10-30T05:06:11.199481Z",
     "iopub.status.busy": "2023-10-30T05:06:11.199294Z",
     "iopub.status.idle": "2023-10-30T05:06:11.416449Z",
     "shell.execute_reply": "2023-10-30T05:06:11.415876Z"
    },
    "papermill": {
     "duration": 0.222391,
     "end_time": "2023-10-30T05:06:11.417697",
     "exception": false,
     "start_time": "2023-10-30T05:06:11.195306",
     "status": "completed"
    },
    "tags": []
   },
   "outputs": [
    {
     "name": "stdout",
     "output_type": "stream",
     "text": [
      "20231030T060611 : amilcar22 : INFO : Encontrada carpeta DATA_DIR=../tfm_git/datos\n",
      "20231030T060611 : amilcar22 : INFO : Encontrada carpeta CFDNA_DIR=../tfm_git/datos/cfDNA_5hmC\n",
      "20231030T060611 : amilcar22 : INFO : Encontrada carpeta GENCODE_DIR=../tfm_git/datos/gencode\n",
      "20231030T060611 : amilcar22 : INFO : Encontrada carpeta H5_DIR=../tfm_git/datos/h5\n",
      "20231030T060611 : amilcar22 : INFO : Encontrada carpeta LOG_DIR=../tfm_git/datos/logs\n",
      "20231030T060611 : amilcar22 : INFO : Encontrada carpeta CSV_DIR=../tfm_git/datos/csv\n",
      "20231030T060611 : amilcar22 : INFO : Encontrada carpeta MODEL_DIR=../tfm_git/ejecuciones/modelos\n",
      "20231030T060611 : amilcar22 : INFO : Encontrada carpeta EXEC_DIR=../tfm_git/ejecuciones\n",
      "20231030T060611 : amilcar22 : INFO : Encontrada carpeta MET_DIR=../tfm_git/ejecuciones/metricas\n",
      "20231030T060611 : amilcar22 : INFO : Inicio leer fichero h5 ../tfm_git/datos/h5/rows_transpose_norm_by_gene_id_with_target_num_bin_m.h5\n",
      "20231030T060611 : amilcar22 : INFO : Leyendo clave /df\n"
     ]
    },
    {
     "name": "stdout",
     "output_type": "stream",
     "text": [
      "20231030T060611 : amilcar22 : INFO : Tamaño (720, 18876)\n",
      "20231030T060611 : amilcar22 : INFO : Fin leer fichero h5 ../tfm_git/datos/h5/rows_transpose_norm_by_gene_id_with_target_num_bin_m.h5\n"
     ]
    },
    {
     "data": {
      "text/plain": [
       "target\n",
       "0    360\n",
       "1    360\n",
       "dtype: int64"
      ]
     },
     "metadata": {},
     "output_type": "display_data"
    },
    {
     "name": "stdout",
     "output_type": "stream",
     "text": [
      "Shape df: (720, 18876)\n"
     ]
    },
    {
     "name": "stdout",
     "output_type": "stream",
     "text": [
      "Shape X_train: (576, 18875)\n",
      "Shape X_test: (144, 18875)\n"
     ]
    }
   ],
   "source": [
    "start_time = datetime.datetime.now()\n",
    "\n",
    "myfunc.reset_vars()\n",
    "\n",
    "myfunc.NOTEBK_FILENAME = myfunc.get_nb_name()\n",
    "\n",
    "myfunc.check_enviroment(myfunc.DATA_DIR, myfunc.CFDNA_DIR, myfunc.GENCODE_DIR, myfunc.H5_DIR, myfunc.LOG_DIR, myfunc.CSV_DIR, myfunc.MODEL_DIR, myfunc.EXEC_DIR, myfunc.MET_DIR)\n",
    "\n",
    "# Leer fichero con las muestras\n",
    "df_t = myfunc.read_h5_to_df(DATA_FILE, myfunc.H5_DIR)\n",
    "display(df_t.groupby(\"target\").size())\n",
    "print(\"Shape df:\",df_t.shape)\n",
    "\n",
    "# Separar caracteristicas/genes de las etiquetas/tipos de cáncer\n",
    "X = df_t.iloc[:, :-1]  # Todas las columnas excepto la última\n",
    "y = df_t.iloc[:, -1]  # La última columna contiene los identificadores de los tipos de cáncer\n",
    "\n",
    "#  Crear el conjunto de datos de entrenamiento y de pruebas, y se fija la semilla para siempre coger el mismo juego de muestras\n",
    "X_train, X_test, y_train, y_test = train_test_split(X, y, test_size=0.2, shuffle=True, random_state=42)\n",
    "print(\"Shape X_train:\",X_train.shape)\n",
    "print(\"Shape X_test:\",X_test.shape)\n"
   ]
  },
  {
   "cell_type": "markdown",
   "id": "6eab0638",
   "metadata": {
    "papermill": {
     "duration": 0.002802,
     "end_time": "2023-10-30T05:06:11.423771",
     "exception": false,
     "start_time": "2023-10-30T05:06:11.420969",
     "status": "completed"
    },
    "tags": []
   },
   "source": [
    "#### Selección de características y clasificación."
   ]
  },
  {
   "cell_type": "code",
   "execution_count": 7,
   "id": "f1d07d80",
   "metadata": {
    "execution": {
     "iopub.execute_input": "2023-10-30T05:06:11.430275Z",
     "iopub.status.busy": "2023-10-30T05:06:11.430106Z",
     "iopub.status.idle": "2023-10-30T05:10:04.998579Z",
     "shell.execute_reply": "2023-10-30T05:10:04.997900Z"
    },
    "papermill": {
     "duration": 233.575597,
     "end_time": "2023-10-30T05:10:05.002163",
     "exception": false,
     "start_time": "2023-10-30T05:06:11.426566",
     "status": "completed"
    },
    "tags": []
   },
   "outputs": [
    {
     "name": "stdout",
     "output_type": "stream",
     "text": [
      "20231030T060611 : amilcar22 : INFO : Iniciando entrenamiento\n",
      "num_iter: 1 , max_iter: 1\n",
      "Fitting 5 folds for each of 1 candidates, totalling 5 fits\n"
     ]
    },
    {
     "name": "stdout",
     "output_type": "stream",
     "text": [
      "Mejores Hiperparámetros: {'selector__k': 1000, 'clasifier__n_estimators': 400, 'clasifier__min_samples_split': 10, 'clasifier__min_samples_leaf': 5, 'clasifier__max_features': 1000, 'clasifier__max_depth': 20, 'clasifier__bootstrap': True}\n",
      "Mejor Puntuación: 0.8288\n",
      "20231030T061004 : amilcar22 : INFO : Fin entrenamiento\n"
     ]
    }
   ],
   "source": [
    "myfunc.verbose(\"Iniciando entrenamiento\")\n",
    "\n",
    "kf = KFold(n_splits=5, shuffle=True, random_state=SEMILLA)\n",
    "\n",
    "# Crear el pipeline para el flujo de tareas\n",
    "tasks_pipeline = Pipeline([\n",
    "    ('selector', algor_selector),\n",
    "    ('clasifier', algor_clasifier)\n",
    "])\n",
    "\n",
    "# MAX_ITERS puede limitar el número de iteraciones si son excesivas para las combinaciones de parámetros buscando un óptimo local, \n",
    "# sino funcionaría como GridSearchCV al revisar todas las cominaciones de los parámetros\n",
    "num_iteraciones = 1\n",
    "num_iteraciones = num_iteraciones * np.prod([len(elemento1) for _, elemento1 in param_distributions.items()])\n",
    "max_iteraciones = num_iteraciones if num_iteraciones <= MAX_ITERS else MAX_ITERS\n",
    "print(\"num_iter:\",num_iteraciones,\", max_iter:\",max_iteraciones)\n",
    "\n",
    "random_search = RandomizedSearchCV(\n",
    "    tasks_pipeline, \n",
    "    param_distributions, \n",
    "    n_iter=max_iteraciones,\n",
    "    scoring=SCORING,\n",
    "    cv=kf,\n",
    "    verbose=3, \n",
    "    random_state=SEMILLA, \n",
    "    n_jobs=-1\n",
    "    )\n",
    "\n",
    "# Entrenar el modelo\n",
    "random_search.fit(X_train, y_train)\n",
    "\n",
    "# Ver los mejores hiperparámetros encontrados\n",
    "print(f'Mejores Hiperparámetros: {random_search.best_params_}')\n",
    "print(f'Mejor Puntuación: {random_search.best_score_:.4f}')\n",
    "\n",
    "# Nos quedamos con el mejor modelo para ver las métricas\n",
    "mejor_modelo = random_search.best_estimator_\n",
    "\n",
    "myfunc.verbose(\"Fin entrenamiento\")"
   ]
  },
  {
   "cell_type": "markdown",
   "id": "9f2a23d8",
   "metadata": {
    "papermill": {
     "duration": 0.002885,
     "end_time": "2023-10-30T05:10:05.008143",
     "exception": false,
     "start_time": "2023-10-30T05:10:05.005258",
     "status": "completed"
    },
    "tags": []
   },
   "source": [
    "#### Guardar modelo"
   ]
  },
  {
   "cell_type": "code",
   "execution_count": 8,
   "id": "a8eb00f6",
   "metadata": {
    "execution": {
     "iopub.execute_input": "2023-10-30T05:10:05.015021Z",
     "iopub.status.busy": "2023-10-30T05:10:05.014815Z",
     "iopub.status.idle": "2023-10-30T05:10:05.139472Z",
     "shell.execute_reply": "2023-10-30T05:10:05.138968Z"
    },
    "papermill": {
     "duration": 0.129616,
     "end_time": "2023-10-30T05:10:05.140689",
     "exception": false,
     "start_time": "2023-10-30T05:10:05.011073",
     "status": "completed"
    },
    "tags": []
   },
   "outputs": [
    {
     "name": "stdout",
     "output_type": "stream",
     "text": [
      "20231030T061005 : amilcar22 : INFO : Inicio guardar fichero ../tfm_git/ejecuciones/modelos/modelo_6191_bin_m_MI_RF.pkl\n",
      "20231030T061005 : amilcar22 : INFO : Fin guardar fichero ../tfm_git/ejecuciones/modelos/modelo_6191_bin_m_MI_RF.pkl\n"
     ]
    }
   ],
   "source": [
    "fichero_modelo = str.replace(\"modelo_\"+str(SEMILLA).zfill(4)+\"_\"+M_TIPO+\"_\"+M_SELECT+\"_\"+M_CLASIF+\".pkl\", \" \", \"_\")\n",
    "\n",
    "myfunc.save_modelo(mejor_modelo, myfunc.MODEL_DIR, fichero_modelo)"
   ]
  },
  {
   "cell_type": "markdown",
   "id": "68c082e9",
   "metadata": {
    "papermill": {
     "duration": 0.002934,
     "end_time": "2023-10-30T05:10:05.147185",
     "exception": false,
     "start_time": "2023-10-30T05:10:05.144251",
     "status": "completed"
    },
    "tags": []
   },
   "source": [
    "#### Ver resultados del las iteraciones hechas por RandomSearchCV"
   ]
  },
  {
   "cell_type": "code",
   "execution_count": 9,
   "id": "30c438d0",
   "metadata": {
    "execution": {
     "iopub.execute_input": "2023-10-30T05:10:05.153922Z",
     "iopub.status.busy": "2023-10-30T05:10:05.153751Z",
     "iopub.status.idle": "2023-10-30T05:10:05.159783Z",
     "shell.execute_reply": "2023-10-30T05:10:05.159326Z"
    },
    "papermill": {
     "duration": 0.010803,
     "end_time": "2023-10-30T05:10:05.160932",
     "exception": false,
     "start_time": "2023-10-30T05:10:05.150129",
     "status": "completed"
    },
    "tags": []
   },
   "outputs": [
    {
     "name": "stdout",
     "output_type": "stream",
     "text": [
      "20231030T061005 : amilcar22 : INFO : Inicio ver resultados\n",
      "Mejores Hiperparámetros: {'selector__k': 1000, 'clasifier__n_estimators': 400, 'clasifier__min_samples_split': 10, 'clasifier__min_samples_leaf': 5, 'clasifier__max_features': 1000, 'clasifier__max_depth': 20, 'clasifier__bootstrap': True}\n",
      "Mejores puntuaciones: 0.8288 | Params: {'selector__k': 1000, 'clasifier__n_estimators': 400, 'clasifier__min_samples_split': 10, 'clasifier__min_samples_leaf': 5, 'clasifier__max_features': 1000, 'clasifier__max_depth': 20, 'clasifier__bootstrap': True}\n",
      "Media de las puntuaciones: 0.8288 | Params: {'selector__k': 1000, 'clasifier__n_estimators': 400, 'clasifier__min_samples_split': 10, 'clasifier__min_samples_leaf': 5, 'clasifier__max_features': 1000, 'clasifier__max_depth': 20, 'clasifier__bootstrap': True}\n",
      "20231030T061005 : amilcar22 : INFO : Fin resultados\n"
     ]
    }
   ],
   "source": [
    "myfunc.ver_resultados_search(random_search)"
   ]
  },
  {
   "cell_type": "markdown",
   "id": "5e2fd039",
   "metadata": {
    "papermill": {
     "duration": 0.003002,
     "end_time": "2023-10-30T05:10:05.167329",
     "exception": false,
     "start_time": "2023-10-30T05:10:05.164327",
     "status": "completed"
    },
    "tags": []
   },
   "source": [
    "#### Ver métricas del mejor modelo"
   ]
  },
  {
   "cell_type": "code",
   "execution_count": 10,
   "id": "522e293f",
   "metadata": {
    "execution": {
     "iopub.execute_input": "2023-10-30T05:10:05.174144Z",
     "iopub.status.busy": "2023-10-30T05:10:05.173982Z",
     "iopub.status.idle": "2023-10-30T05:10:05.643717Z",
     "shell.execute_reply": "2023-10-30T05:10:05.643273Z"
    },
    "papermill": {
     "duration": 0.474473,
     "end_time": "2023-10-30T05:10:05.644846",
     "exception": false,
     "start_time": "2023-10-30T05:10:05.170373",
     "status": "completed"
    },
    "tags": []
   },
   "outputs": [
    {
     "name": "stdout",
     "output_type": "stream",
     "text": [
      "20231030T061005 : amilcar22 : INFO : Inicio ver métricas\n"
     ]
    },
    {
     "name": "stdout",
     "output_type": "stream",
     "text": [
      "              precision    recall  f1-score   support\n",
      "\n",
      "           0       0.85      0.80      0.83        82\n",
      "           1       0.76      0.81      0.78        62\n",
      "\n",
      "    accuracy                           0.81       144\n",
      "   macro avg       0.80      0.81      0.80       144\n",
      "weighted avg       0.81      0.81      0.81       144\n",
      "\n",
      "\n",
      "\n",
      "   Exactitud: 0.8056\n",
      "   Precisión: 0.8019\n",
      "Sensibilidad: 0.8057\n",
      "    F1-score: 0.8031\n",
      "     AUC ROC: 0.8879\n"
     ]
    },
    {
     "data": {
      "image/png": "[encoded data removed]",
      "text/plain": [
       "<Figure size 300x100 with 2 Axes>"
      ]
     },
     "metadata": {},
     "output_type": "display_data"
    },
    {
     "data": {
      "image/png": "[encoded data removed]",
      "text/plain": [
       "<Figure size 800x500 with 1 Axes>"
      ]
     },
     "metadata": {},
     "output_type": "display_data"
    },
    {
     "name": "stdout",
     "output_type": "stream",
     "text": [
      "20231030T061005 : amilcar22 : INFO : Fin ver métricas\n"
     ]
    }
   ],
   "source": [
    "if M_TIPO.startswith(\"bin\"):\n",
    "    myfunc.ver_metricas(mejor_modelo, X_test, y_test)\n",
    "else:\n",
    "    myfunc.ver_metricas_multi(mejor_modelo, X_test, y_test)\n"
   ]
  },
  {
   "cell_type": "markdown",
   "id": "b23018ac",
   "metadata": {
    "papermill": {
     "duration": 0.003603,
     "end_time": "2023-10-30T05:10:05.652593",
     "exception": false,
     "start_time": "2023-10-30T05:10:05.648990",
     "status": "completed"
    },
    "tags": []
   },
   "source": [
    "#### Finalización del notebook"
   ]
  },
  {
   "cell_type": "code",
   "execution_count": 11,
   "id": "c7362825",
   "metadata": {
    "execution": {
     "iopub.execute_input": "2023-10-30T05:10:05.660623Z",
     "iopub.status.busy": "2023-10-30T05:10:05.660424Z",
     "iopub.status.idle": "2023-10-30T05:10:05.663818Z",
     "shell.execute_reply": "2023-10-30T05:10:05.663383Z"
    },
    "papermill": {
     "duration": 0.008772,
     "end_time": "2023-10-30T05:10:05.664961",
     "exception": false,
     "start_time": "2023-10-30T05:10:05.656189",
     "status": "completed"
    },
    "tags": []
   },
   "outputs": [
    {
     "name": "stdout",
     "output_type": "stream",
     "text": [
      "20231030T061005 : amilcar22 : INFO : Notebook ha tardado 234 seconds\n"
     ]
    }
   ],
   "source": [
    "end_time = datetime.datetime.now()\n",
    "total_time = end_time - start_time\n",
    "myfunc.verbose(f\"Notebook ha tardado {total_time.seconds} seconds\")"
   ]
  },
  {
   "cell_type": "markdown",
   "id": "660a3a44",
   "metadata": {
    "papermill": {
     "duration": 0.003693,
     "end_time": "2023-10-30T05:10:05.672859",
     "exception": false,
     "start_time": "2023-10-30T05:10:05.669166",
     "status": "completed"
    },
    "tags": []
   },
   "source": [
    "#### Guardar métricas"
   ]
  },
  {
   "cell_type": "code",
   "execution_count": 12,
   "id": "b39a65f5",
   "metadata": {
    "execution": {
     "iopub.execute_input": "2023-10-30T05:10:05.681008Z",
     "iopub.status.busy": "2023-10-30T05:10:05.680818Z",
     "iopub.status.idle": "2023-10-30T05:10:05.919656Z",
     "shell.execute_reply": "2023-10-30T05:10:05.919109Z"
    },
    "papermill": {
     "duration": 0.244377,
     "end_time": "2023-10-30T05:10:05.920923",
     "exception": false,
     "start_time": "2023-10-30T05:10:05.676546",
     "status": "completed"
    },
    "tags": []
   },
   "outputs": [
    {
     "name": "stdout",
     "output_type": "stream",
     "text": [
      "20231030T061005 : amilcar22 : INFO : Inicio guardar métricas\n",
      "20231030T061005 : amilcar22 : INFO : Inicio leer fichero ../tfm_git/ejecuciones/metricas/metricas_6191.csv\n",
      "20231030T061005 : amilcar22 : INFO : Fin leer fichero ../tfm_git/ejecuciones/metricas/metricas_6191.csv\n"
     ]
    },
    {
     "name": "stdout",
     "output_type": "stream",
     "text": [
      "20231030T061005 : amilcar22 : INFO : Inicio guardar fichero ../tfm_git/ejecuciones/metricas/metricas_6191.csv\n",
      "20231030T061005 : amilcar22 : INFO : Fichero borrado ../tfm_git/ejecuciones/metricas/metricas_6191.csv\n",
      "20231030T061005 : amilcar22 : INFO : Fin guardar fichero ../tfm_git/ejecuciones/metricas/metricas_6191.csv\n",
      "20231030T061005 : amilcar22 : INFO : Fin guardar métricas\n",
      "20231030T061005 : amilcar22 : INFO : Inicio leer fichero ../tfm_git/ejecuciones/metricas/metricas_6191.csv\n",
      "20231030T061005 : amilcar22 : INFO : Fin leer fichero ../tfm_git/ejecuciones/metricas/metricas_6191.csv\n"
     ]
    },
    {
     "data": {
      "text/html": [
       "<div>\n",
       "<style scoped>\n",
       "    .dataframe tbody tr th:only-of-type {\n",
       "        vertical-align: middle;\n",
       "    }\n",
       "\n",
       "    .dataframe tbody tr th {\n",
       "        vertical-align: top;\n",
       "    }\n",
       "\n",
       "    .dataframe thead th {\n",
       "        text-align: right;\n",
       "    }\n",
       "</style>\n",
       "<table border=\"1\" class=\"dataframe\">\n",
       "  <thead>\n",
       "    <tr style=\"text-align: right;\">\n",
       "      <th></th>\n",
       "      <th>tipo</th>\n",
       "      <th>select</th>\n",
       "      <th>clasific</th>\n",
       "      <th>semilla</th>\n",
       "      <th>accuracy</th>\n",
       "      <th>precision</th>\n",
       "      <th>recall</th>\n",
       "      <th>f1_score</th>\n",
       "      <th>roc_auc</th>\n",
       "      <th>hostname</th>\n",
       "      <th>total_time_sec</th>\n",
       "      <th>datetime</th>\n",
       "      <th>fichero_modelo</th>\n",
       "      <th>params</th>\n",
       "      <th>shape</th>\n",
       "      <th>features</th>\n",
       "    </tr>\n",
       "  </thead>\n",
       "  <tbody>\n",
       "    <tr>\n",
       "      <th>0</th>\n",
       "      <td>bin_m</td>\n",
       "      <td>MI</td>\n",
       "      <td>RF</td>\n",
       "      <td>6191</td>\n",
       "      <td>0.805556</td>\n",
       "      <td>0.801865</td>\n",
       "      <td>0.805665</td>\n",
       "      <td>0.803125</td>\n",
       "      <td>0.887884</td>\n",
       "      <td>amilcar22</td>\n",
       "      <td>234</td>\n",
       "      <td>2023-10-30 06:10:05.901380</td>\n",
       "      <td>modelo_6191_bin_m_MI_RF.pkl</td>\n",
       "      <td>{'selector__k': 1000, 'clasifier__n_estimators...</td>\n",
       "      <td>X_test:(144, 18875)</td>\n",
       "      <td>['ENSG00000002330.14', 'ENSG00000002933.9', 'E...</td>\n",
       "    </tr>\n",
       "    <tr>\n",
       "      <th>0</th>\n",
       "      <td>bin_m</td>\n",
       "      <td>MI</td>\n",
       "      <td>LR_L2</td>\n",
       "      <td>6191</td>\n",
       "      <td>0.895833</td>\n",
       "      <td>0.892795</td>\n",
       "      <td>0.896735</td>\n",
       "      <td>0.894361</td>\n",
       "      <td>0.946892</td>\n",
       "      <td>amilcar22</td>\n",
       "      <td>109</td>\n",
       "      <td>2023-10-30 06:06:05.156216</td>\n",
       "      <td>modelo_6191_bin_m_MI_LR_L2.pkl</td>\n",
       "      <td>{'selector__k': 1000, 'clasifier__solver': 'lb...</td>\n",
       "      <td>X_test:(144, 18875)</td>\n",
       "      <td>['ENSG00000002330.14', 'ENSG00000002933.9', 'E...</td>\n",
       "    </tr>\n",
       "    <tr>\n",
       "      <th>0</th>\n",
       "      <td>bin_m</td>\n",
       "      <td>MI</td>\n",
       "      <td>LR_L1</td>\n",
       "      <td>6191</td>\n",
       "      <td>0.840278</td>\n",
       "      <td>0.837971</td>\n",
       "      <td>0.844020</td>\n",
       "      <td>0.838965</td>\n",
       "      <td>0.922305</td>\n",
       "      <td>amilcar22</td>\n",
       "      <td>439</td>\n",
       "      <td>2023-10-30 06:04:09.117193</td>\n",
       "      <td>modelo_6191_bin_m_MI_LR_L1.pkl</td>\n",
       "      <td>{'selector__k': 500, 'clasifier__solver': 'sag...</td>\n",
       "      <td>X_test:(144, 18875)</td>\n",
       "      <td>['ENSG00000002330.14', 'ENSG00000004864.14', '...</td>\n",
       "    </tr>\n",
       "  </tbody>\n",
       "</table>\n",
       "</div>"
      ],
      "text/plain": [
       "    tipo select clasific  semilla  accuracy  precision    recall  f1_score  \\\n",
       "0  bin_m     MI       RF     6191  0.805556   0.801865  0.805665  0.803125   \n",
       "0  bin_m     MI    LR_L2     6191  0.895833   0.892795  0.896735  0.894361   \n",
       "0  bin_m     MI    LR_L1     6191  0.840278   0.837971  0.844020  0.838965   \n",
       "\n",
       "    roc_auc   hostname  total_time_sec                    datetime  \\\n",
       "0  0.887884  amilcar22             234  2023-10-30 06:10:05.901380   \n",
       "0  0.946892  amilcar22             109  2023-10-30 06:06:05.156216   \n",
       "0  0.922305  amilcar22             439  2023-10-30 06:04:09.117193   \n",
       "\n",
       "                   fichero_modelo  \\\n",
       "0     modelo_6191_bin_m_MI_RF.pkl   \n",
       "0  modelo_6191_bin_m_MI_LR_L2.pkl   \n",
       "0  modelo_6191_bin_m_MI_LR_L1.pkl   \n",
       "\n",
       "                                              params                shape  \\\n",
       "0  {'selector__k': 1000, 'clasifier__n_estimators...  X_test:(144, 18875)   \n",
       "0  {'selector__k': 1000, 'clasifier__solver': 'lb...  X_test:(144, 18875)   \n",
       "0  {'selector__k': 500, 'clasifier__solver': 'sag...  X_test:(144, 18875)   \n",
       "\n",
       "                                            features  \n",
       "0  ['ENSG00000002330.14', 'ENSG00000002933.9', 'E...  \n",
       "0  ['ENSG00000002330.14', 'ENSG00000002933.9', 'E...  \n",
       "0  ['ENSG00000002330.14', 'ENSG00000004864.14', '...  "
      ]
     },
     "metadata": {},
     "output_type": "display_data"
    }
   ],
   "source": [
    "if M_TIPO.startswith(\"bin\"):\n",
    "    myfunc.save_metricas_to_csv(random_search, X_test, y_test, M_TIPO, M_SELECT, M_CLASIF, total_time, SEMILLA, myfunc.MET_DIR, M_FICHERO, fichero_modelo)\n",
    "else:\n",
    "    myfunc.save_metricas_multi_to_csv(random_search, X_test, y_test, M_TIPO, M_SELECT, M_CLASIF, total_time, SEMILLA, myfunc.MET_DIR, M_FICHERO, fichero_modelo)\n",
    "\n",
    "df1=myfunc.read_metricas_to_df(myfunc.MET_DIR,M_FICHERO)\n",
    "\n",
    "display(df1.sort_values(\"datetime\", ascending=False)[:3])\n"
   ]
  },
  {
   "cell_type": "markdown",
   "id": "31059b41",
   "metadata": {
    "papermill": {
     "duration": 0.00387,
     "end_time": "2023-10-30T05:10:05.929441",
     "exception": false,
     "start_time": "2023-10-30T05:10:05.925571",
     "status": "completed"
    },
    "tags": []
   },
   "source": [
    "#### Guardar resultados"
   ]
  },
  {
   "cell_type": "code",
   "execution_count": 13,
   "id": "1c6785d8",
   "metadata": {
    "execution": {
     "iopub.execute_input": "2023-10-30T05:10:05.937956Z",
     "iopub.status.busy": "2023-10-30T05:10:05.937759Z",
     "iopub.status.idle": "2023-10-30T05:10:05.946493Z",
     "shell.execute_reply": "2023-10-30T05:10:05.945955Z"
    },
    "papermill": {
     "duration": 0.014499,
     "end_time": "2023-10-30T05:10:05.947738",
     "exception": false,
     "start_time": "2023-10-30T05:10:05.933239",
     "status": "completed"
    },
    "tags": []
   },
   "outputs": [
    {
     "name": "stdout",
     "output_type": "stream",
     "text": [
      "20231030T061005 : amilcar22 : INFO : Inicio guardar resultados\n",
      "20231030T061005 : amilcar22 : INFO : Inicio guardar fichero ../tfm_git/ejecuciones/metricas/resultados_6191_bin_m-MI-RF.csv\n",
      "20231030T061005 : amilcar22 : INFO : Fin guardar fichero ../tfm_git/ejecuciones/metricas/resultados_6191_bin_m-MI-RF.csv\n",
      "20231030T061005 : amilcar22 : INFO : Fin guardar resultados\n"
     ]
    }
   ],
   "source": [
    "fichero_resultados=R_FICHERO+\"_\"+M_TIPO+\"-\"+M_SELECT+\"-\"+M_CLASIF+\".csv\"\n",
    "myfunc.save_resultados_to_csv(M_TIPO, M_SELECT, M_CLASIF,  random_search, myfunc.MET_DIR, fichero_resultados)\n"
   ]
  }
 ],
 "metadata": {
  "kernelspec": {
   "display_name": "Python 3 (ipykernel)",
   "language": "python",
   "name": "python3"
  },
  "language_info": {
   "codemirror_mode": {
    "name": "ipython",
    "version": 3
   },
   "file_extension": ".py",
   "mimetype": "text/x-python",
   "name": "python",
   "nbconvert_exporter": "python",
   "pygments_lexer": "ipython3",
   "version": "3.10.12"
  },
  "papermill": {
   "default_parameters": {},
   "duration": 239.241959,
   "end_time": "2023-10-30T05:10:08.569842",
   "environment_variables": {},
   "exception": null,
   "input_path": "03_entrenamiento.ipynb",
   "output_path": "ejecuciones/training/03_entrenamiento.20231030T060608.param_0000_6191_bin_m_MI_RF.output.ipynb",
   "parameters": {
    "MAX_ITERS": 500,
    "M_CLASIF": "RF",
    "M_FICHERO": "metricas_6191",
    "M_SELECT": "MI",
    "M_TIPO": "bin_m",
    "PRE_DATA_FILE": "rows_transpose_norm_by_gene_id_with_target_num_",
    "P_FICHERO": "param_0000_6191_bin_m_MI_RF.yaml",
    "R_FICHERO": "resultados_6191",
    "SCORING": "roc_auc_ovr",
    "SEMILLA": 6191,
    "eval_clasifier": "RandomForestClassifier(random_state=SEMILLA)",
    "eval_selector": "SelectKBest(score_func=mutual_info_classif_state)",
    "param_distributions": {
     "clasifier__bootstrap": [
      true
     ],
     "clasifier__max_depth": [
      20
     ],
     "clasifier__max_features": [
      1000
     ],
     "clasifier__min_samples_leaf": [
      5
     ],
     "clasifier__min_samples_split": [
      10
     ],
     "clasifier__n_estimators": [
      400
     ],
     "selector__k": [
      1000
     ]
    }
   },
   "start_time": "2023-10-30T05:06:09.327883",
   "version": "2.4.0"
  }
 },
 "nbformat": 4,
 "nbformat_minor": 5
}