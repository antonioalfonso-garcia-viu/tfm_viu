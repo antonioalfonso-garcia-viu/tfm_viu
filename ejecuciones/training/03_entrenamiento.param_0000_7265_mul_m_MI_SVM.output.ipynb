{
 "cells": [
  {
   "cell_type": "markdown",
   "id": "3187bbd5",
   "metadata": {
    "papermill": {
     "duration": 0.008228,
     "end_time": "2023-10-30T14:10:31.667402",
     "exception": false,
     "start_time": "2023-10-30T14:10:31.659174",
     "status": "completed"
    },
    "tags": []
   },
   "source": [
    "##### Inicio"
   ]
  },
  {
   "cell_type": "markdown",
   "id": "7c1a6c76",
   "metadata": {
    "papermill": {
     "duration": 0.004894,
     "end_time": "2023-10-30T14:10:31.678155",
     "exception": false,
     "start_time": "2023-10-30T14:10:31.673261",
     "status": "completed"
    },
    "tags": []
   },
   "source": [
    "#### Carga de datos"
   ]
  },
  {
   "cell_type": "code",
   "execution_count": 1,
   "id": "82de276d",
   "metadata": {
    "execution": {
     "iopub.execute_input": "2023-10-30T14:10:31.686742Z",
     "iopub.status.busy": "2023-10-30T14:10:31.686014Z",
     "iopub.status.idle": "2023-10-30T14:10:32.809506Z",
     "shell.execute_reply": "2023-10-30T14:10:32.808815Z"
    },
    "papermill": {
     "duration": 1.129458,
     "end_time": "2023-10-30T14:10:32.811031",
     "exception": false,
     "start_time": "2023-10-30T14:10:31.681573",
     "status": "completed"
    },
    "tags": []
   },
   "outputs": [
    {
     "name": "stdout",
     "output_type": "stream",
     "text": [
      "CPU_COUNT: 16; NODE: enderlab; sys.version: 3.10.11 (main, May 16 2023, 00:28:57) [GCC 11.2.0]\n",
      "LOKY_MAX_CPU_COUNT is not set.\n",
      "OMP_NUM_THREADS is not set.\n"
     ]
    }
   ],
   "source": [
    "import os\n",
    "import numpy as np\n",
    "import pandas as pd\n",
    "import datetime\n",
    "import sklearn\n",
    "import logging\n",
    "import warnings\n",
    "\n",
    "from sklearn.pipeline import Pipeline\n",
    "from sklearn.model_selection import RandomizedSearchCV, KFold, cross_val_score, train_test_split\n",
    "from sklearn.metrics import accuracy_score, confusion_matrix, classification_report, roc_auc_score\n",
    "\n",
    "#  cargar algoritmos para aprendizaje supervisado\n",
    "from sklearn.feature_selection import SelectKBest, f_classif, SelectFromModel, mutual_info_classif\n",
    "from sklearn.svm import SVC\n",
    "from sklearn.ensemble import RandomForestClassifier\n",
    "from sklearn.linear_model import LogisticRegression,LogisticRegressionCV\n",
    "\n",
    "# importar fichero con utilidades propias\n",
    "from commons import myfunctions as myfunc\n"
   ]
  },
  {
   "cell_type": "markdown",
   "id": "b50f580c",
   "metadata": {
    "papermill": {
     "duration": 0.003635,
     "end_time": "2023-10-30T14:10:32.818813",
     "exception": false,
     "start_time": "2023-10-30T14:10:32.815178",
     "status": "completed"
    },
    "tags": []
   },
   "source": [
    "#### Parámetros a utilizar en el entrenamiento.\n",
    "\n",
    "Se indican los 3 algoritmos de *selección de características* (eval_selector_xxx) y los 3 algoritmos para la _clasificación_ (eval_clasifier_xxx)\n",
    "\n",
    "En *param_distributions* se indicar los parámetros que utilizan los algoritmos en la función RandomSearchCV.\n",
    "\n",
    "Esta celda tiene la etiqueta **parameters** que servirá para poder lanzar los entrenamientos con la utilidad **papermill** pasándole un fichero con los parámetros. Los nuevos parámetros se situarán tras esta celda para tener prevalencia."
   ]
  },
  {
   "cell_type": "code",
   "execution_count": 2,
   "id": "1716faa9",
   "metadata": {
    "execution": {
     "iopub.execute_input": "2023-10-30T14:10:32.827517Z",
     "iopub.status.busy": "2023-10-30T14:10:32.826990Z",
     "iopub.status.idle": "2023-10-30T14:10:32.836023Z",
     "shell.execute_reply": "2023-10-30T14:10:32.835440Z"
    },
    "papermill": {
     "duration": 0.01504,
     "end_time": "2023-10-30T14:10:32.837311",
     "exception": false,
     "start_time": "2023-10-30T14:10:32.822271",
     "status": "completed"
    },
    "tags": [
     "parameters"
    ]
   },
   "outputs": [
    {
     "name": "stdout",
     "output_type": "stream",
     "text": [
      "20231030T151032 : enderlab : INFO : Utilizando parámetros de mul_m\n"
     ]
    }
   ],
   "source": [
    "#  Parametros para el entrenamiento\n",
    "\n",
    "SEMILLA=        42\n",
    "M_TIPO=         \"mul_m\"\n",
    "M_SELECT=       \"MI\"\n",
    "M_CLASIF=       \"SVM\"\n",
    "R_FICHERO=      \"resultados\"\n",
    "M_FICHERO=      \"metricas\"\n",
    "PRE_DATA_FILE=  \"rows_transpose_norm_by_gene_id_with_target_num_\"\n",
    "SCORING=        \"roc_auc_ovr\" \n",
    "MAX_ITERS=      100\n",
    "\n",
    "def mutual_info_classif_state(X, y):\n",
    "    return mutual_info_classif(X, y, random_state=SEMILLA)\n",
    "\n",
    "eval_selector_mi = \"SelectKBest(score_func=mutual_info_classif_state)\"\n",
    "eval_selector_rf=  \"SelectFromModel(estimator=RandomForestClassifier(random_state=SEMILLA), threshold=-np.inf)\"\n",
    "eval_selector_anova=  \"SelectKBest(score_func=f_classif)\"\n",
    "\n",
    "eval_clasifier_svm= \"SVC(probability=True, random_state=SEMILLA)\"\n",
    "eval_clasifier_rf= \"RandomForestClassifier(random_state=SEMILLA)\"\n",
    "eval_clasifier_lr= \"LogisticRegressionCV(random_state=SEMILLA)\"\n",
    "\n",
    "if M_TIPO.startswith(\"bin_m\"):\n",
    "    myfunc.verbose(f\"Utilizando parámetros de {M_TIPO}\")\n",
    "    eval_selector = eval_selector_mi\n",
    "    eval_clasifier = eval_clasifier_svm\n",
    "\n",
    "    SEMILLA = 6578\n",
    "    M_SELECT = \"MI\"\n",
    "    M_CLASIF = \"SVM\"\n",
    "    param_distributions = {'selector__k': [1000], \n",
    "         'clasifier__kernel': ['rbf'], 'clasifier__gamma': [0.01], 'clasifier__C': [100]}\n",
    "elif M_TIPO.startswith(\"bin_s\"):\n",
    "    myfunc.verbose(f\"Utilizando parámetros de {M_TIPO}\")\n",
    "    eval_selector = eval_selector_rf\n",
    "    eval_clasifier = eval_clasifier_lr\n",
    "\n",
    "    SEMILLA = 6191\n",
    "    M_SELECT = \"RF\"\n",
    "    M_CLASIF = \"LR_L2\"\n",
    "    param_distributions = {'selector__max_features': [1000], 'selector__estimator__n_estimators': [200], \n",
    "        'clasifier__solver': ['lbfgs'], 'clasifier__penalty': ['l2'], 'clasifier__max_iter': [10000]}\n",
    "\n",
    "elif M_TIPO.startswith(\"mul_m\"):\n",
    "    myfunc.verbose(f\"Utilizando parámetros de {M_TIPO}\")\n",
    " \n",
    "    eval_selector = eval_selector_rf\n",
    "    eval_clasifier = eval_clasifier_lr\n",
    "\n",
    "    SEMILLA = 6191\n",
    "    M_SELECT = \"RF\"\n",
    "    M_CLASIF = \"LR_L2\"\n",
    "    param_distributions = {'selector__max_features': [1000], 'selector__estimator__n_estimators': [400], \n",
    "        'clasifier__solver': ['lbfgs'], 'clasifier__penalty': ['l2'], 'clasifier__max_iter': [10000]}\n",
    "\n",
    "else:\n",
    "    # M_TIPO.startswith(\"mul_s\"):\n",
    "    myfunc.verbose(f\"Utilizando parámetros de {M_TIPO}\")\n",
    "    eval_selector = eval_selector_anova\n",
    "    eval_clasifier = eval_clasifier_lr\n",
    "\n",
    "    SEMILLA = 1860\n",
    "    M_SELECT = \"ANOVA\"\n",
    "    M_CLASIF = \"LR_L2\"\n",
    "    param_distributions = {'selector__k': [1000], \n",
    "        'clasifier__solver': ['saga'], 'clasifier__penalty': ['l2'], 'clasifier__max_iter': [10000]}\n",
    "\n"
   ]
  },
  {
   "cell_type": "code",
   "execution_count": 3,
   "id": "c76a5252",
   "metadata": {
    "execution": {
     "iopub.execute_input": "2023-10-30T14:10:32.845913Z",
     "iopub.status.busy": "2023-10-30T14:10:32.845371Z",
     "iopub.status.idle": "2023-10-30T14:10:32.849486Z",
     "shell.execute_reply": "2023-10-30T14:10:32.848939Z"
    },
    "papermill": {
     "duration": 0.009656,
     "end_time": "2023-10-30T14:10:32.850739",
     "exception": false,
     "start_time": "2023-10-30T14:10:32.841083",
     "status": "completed"
    },
    "tags": [
     "injected-parameters"
    ]
   },
   "outputs": [],
   "source": [
    "# Parameters\n",
    "M_TIPO = \"mul_m\"\n",
    "M_SELECT = \"MI\"\n",
    "M_CLASIF = \"SVM\"\n",
    "P_FICHERO = \"param_0000_7265_mul_m_MI_SVM.yaml\"\n",
    "R_FICHERO = \"resultados_7265\"\n",
    "M_FICHERO = \"metricas_7265\"\n",
    "PRE_DATA_FILE = \"rows_transpose_norm_by_gene_id_with_target_num_\"\n",
    "SCORING = \"roc_auc_ovr\"\n",
    "SEMILLA = 7265\n",
    "MAX_ITERS = 500\n",
    "eval_selector = \"SelectKBest(score_func=mutual_info_classif_state)\"\n",
    "eval_clasifier = \"SVC(probability=True, random_state=SEMILLA)\"\n",
    "param_distributions = {\n",
    "    \"selector__k\": [1000],\n",
    "    \"clasifier__kernel\": [\"rbf\"],\n",
    "    \"clasifier__gamma\": [0.001],\n",
    "    \"clasifier__C\": [100],\n",
    "}\n"
   ]
  },
  {
   "cell_type": "code",
   "execution_count": 4,
   "id": "b3deac2b",
   "metadata": {
    "execution": {
     "iopub.execute_input": "2023-10-30T14:10:32.859459Z",
     "iopub.status.busy": "2023-10-30T14:10:32.858875Z",
     "iopub.status.idle": "2023-10-30T14:10:32.862468Z",
     "shell.execute_reply": "2023-10-30T14:10:32.861908Z"
    },
    "papermill": {
     "duration": 0.00946,
     "end_time": "2023-10-30T14:10:32.863722",
     "exception": false,
     "start_time": "2023-10-30T14:10:32.854262",
     "status": "completed"
    },
    "tags": []
   },
   "outputs": [],
   "source": [
    "DATA_FILE = PRE_DATA_FILE + M_TIPO\n",
    "\n",
    "# si viene \"None\" en el parámetro max_depth, se le quitan las comillas para que no sea entendido por el algoritmo como un texto\n",
    "if \"clasifier__max_depth\" in param_distributions:\n",
    "    param_distributions['clasifier__max_depth'] = [None if x == 'None' else x for x in param_distributions['clasifier__max_depth']]"
   ]
  },
  {
   "cell_type": "markdown",
   "id": "d2b4f0f5",
   "metadata": {
    "papermill": {
     "duration": 0.00364,
     "end_time": "2023-10-30T14:10:32.871087",
     "exception": false,
     "start_time": "2023-10-30T14:10:32.867447",
     "status": "completed"
    },
    "tags": []
   },
   "source": [
    "Asignar los algoritmos que se utilizarán en la función RandomSearchCV"
   ]
  },
  {
   "cell_type": "code",
   "execution_count": 5,
   "id": "c041dab3",
   "metadata": {
    "execution": {
     "iopub.execute_input": "2023-10-30T14:10:32.879485Z",
     "iopub.status.busy": "2023-10-30T14:10:32.879106Z",
     "iopub.status.idle": "2023-10-30T14:10:32.882009Z",
     "shell.execute_reply": "2023-10-30T14:10:32.881498Z"
    },
    "papermill": {
     "duration": 0.008495,
     "end_time": "2023-10-30T14:10:32.883241",
     "exception": false,
     "start_time": "2023-10-30T14:10:32.874746",
     "status": "completed"
    },
    "tags": []
   },
   "outputs": [],
   "source": [
    "algor_selector=eval(eval_selector)\n",
    "algor_clasifier=eval(eval_clasifier)"
   ]
  },
  {
   "cell_type": "markdown",
   "id": "05982cc9",
   "metadata": {
    "papermill": {
     "duration": 0.003664,
     "end_time": "2023-10-30T14:10:32.890554",
     "exception": false,
     "start_time": "2023-10-30T14:10:32.886890",
     "status": "completed"
    },
    "tags": []
   },
   "source": [
    "#### Comprobar el entorno y leer fichero de muestras"
   ]
  },
  {
   "cell_type": "code",
   "execution_count": 6,
   "id": "c484de65",
   "metadata": {
    "execution": {
     "iopub.execute_input": "2023-10-30T14:10:32.899021Z",
     "iopub.status.busy": "2023-10-30T14:10:32.898554Z",
     "iopub.status.idle": "2023-10-30T14:10:33.148840Z",
     "shell.execute_reply": "2023-10-30T14:10:33.148175Z"
    },
    "papermill": {
     "duration": 0.256073,
     "end_time": "2023-10-30T14:10:33.150227",
     "exception": false,
     "start_time": "2023-10-30T14:10:32.894154",
     "status": "completed"
    },
    "tags": []
   },
   "outputs": [
    {
     "name": "stdout",
     "output_type": "stream",
     "text": [
      "20231030T151032 : enderlab : INFO : Encontrada carpeta DATA_DIR=../tfm_git/datos\n",
      "20231030T151032 : enderlab : INFO : Encontrada carpeta CFDNA_DIR=../tfm_git/datos/cfDNA_5hmC\n",
      "20231030T151032 : enderlab : INFO : Encontrada carpeta GENCODE_DIR=../tfm_git/datos/gencode\n",
      "20231030T151032 : enderlab : INFO : Encontrada carpeta H5_DIR=../tfm_git/datos/h5\n",
      "20231030T151032 : enderlab : INFO : Encontrada carpeta LOG_DIR=../tfm_git/datos/logs\n",
      "20231030T151032 : enderlab : INFO : Encontrada carpeta CSV_DIR=../tfm_git/datos/csv\n",
      "20231030T151032 : enderlab : INFO : Encontrada carpeta MODEL_DIR=../tfm_git/ejecuciones/modelos\n",
      "20231030T151032 : enderlab : INFO : Encontrada carpeta EXEC_DIR=../tfm_git/ejecuciones\n",
      "20231030T151032 : enderlab : INFO : Encontrada carpeta MET_DIR=../tfm_git/ejecuciones/metricas\n",
      "20231030T151032 : enderlab : INFO : Inicio leer fichero h5 ../tfm_git/datos/h5/rows_transpose_norm_by_gene_id_with_target_num_mul_m.h5\n",
      "20231030T151032 : enderlab : INFO : Leyendo clave /df\n"
     ]
    },
    {
     "name": "stdout",
     "output_type": "stream",
     "text": [
      "20231030T151033 : enderlab : INFO : Tamaño (434, 18876)\n",
      "20231030T151033 : enderlab : INFO : Fin leer fichero h5 ../tfm_git/datos/h5/rows_transpose_norm_by_gene_id_with_target_num_mul_m.h5\n"
     ]
    },
    {
     "data": {
      "text/plain": [
       "target\n",
       "0    62\n",
       "1    62\n",
       "2    62\n",
       "3    62\n",
       "4    62\n",
       "5    62\n",
       "6    62\n",
       "dtype: int64"
      ]
     },
     "metadata": {},
     "output_type": "display_data"
    },
    {
     "name": "stdout",
     "output_type": "stream",
     "text": [
      "Shape df: (434, 18876)\n"
     ]
    },
    {
     "name": "stdout",
     "output_type": "stream",
     "text": [
      "Shape X_train: (347, 18875)\n",
      "Shape X_test: (87, 18875)\n"
     ]
    }
   ],
   "source": [
    "start_time = datetime.datetime.now()\n",
    "\n",
    "myfunc.reset_vars()\n",
    "\n",
    "myfunc.NOTEBK_FILENAME = myfunc.get_nb_name()\n",
    "\n",
    "myfunc.check_enviroment(myfunc.DATA_DIR, myfunc.CFDNA_DIR, myfunc.GENCODE_DIR, myfunc.H5_DIR, myfunc.LOG_DIR, myfunc.CSV_DIR, myfunc.MODEL_DIR, myfunc.EXEC_DIR, myfunc.MET_DIR)\n",
    "\n",
    "# Leer fichero con las muestras\n",
    "df_t = myfunc.read_h5_to_df(DATA_FILE, myfunc.H5_DIR)\n",
    "display(df_t.groupby(\"target\").size())\n",
    "print(\"Shape df:\",df_t.shape)\n",
    "\n",
    "# Separar caracteristicas/genes de las etiquetas/tipos de cáncer\n",
    "X = df_t.iloc[:, :-1]  # Todas las columnas excepto la última\n",
    "y = df_t.iloc[:, -1]  # La última columna contiene los identificadores de los tipos de cáncer\n",
    "\n",
    "#  Crear el conjunto de datos de entrenamiento y de pruebas, y se fija la semilla para siempre coger el mismo juego de muestras\n",
    "X_train, X_test, y_train, y_test = train_test_split(X, y, test_size=0.2, shuffle=True, random_state=42)\n",
    "print(\"Shape X_train:\",X_train.shape)\n",
    "print(\"Shape X_test:\",X_test.shape)\n"
   ]
  },
  {
   "cell_type": "markdown",
   "id": "13220883",
   "metadata": {
    "papermill": {
     "duration": 0.004134,
     "end_time": "2023-10-30T14:10:33.159030",
     "exception": false,
     "start_time": "2023-10-30T14:10:33.154896",
     "status": "completed"
    },
    "tags": []
   },
   "source": [
    "#### Selección de características y clasificación."
   ]
  },
  {
   "cell_type": "code",
   "execution_count": 7,
   "id": "5414ad34",
   "metadata": {
    "execution": {
     "iopub.execute_input": "2023-10-30T14:10:33.168569Z",
     "iopub.status.busy": "2023-10-30T14:10:33.168003Z",
     "iopub.status.idle": "2023-10-30T14:14:17.383351Z",
     "shell.execute_reply": "2023-10-30T14:14:17.382544Z"
    },
    "papermill": {
     "duration": 224.227796,
     "end_time": "2023-10-30T14:14:17.390767",
     "exception": false,
     "start_time": "2023-10-30T14:10:33.162971",
     "status": "completed"
    },
    "tags": []
   },
   "outputs": [
    {
     "name": "stdout",
     "output_type": "stream",
     "text": [
      "20231030T151033 : enderlab : INFO : Iniciando entrenamiento\n",
      "num_iter: 1 , max_iter: 1\n",
      "Fitting 5 folds for each of 1 candidates, totalling 5 fits\n"
     ]
    },
    {
     "name": "stdout",
     "output_type": "stream",
     "text": [
      "Mejores Hiperparámetros: {'selector__k': 1000, 'clasifier__kernel': 'rbf', 'clasifier__gamma': 0.001, 'clasifier__C': 100}\n",
      "Mejor Puntuación: 0.8659\n",
      "20231030T151417 : enderlab : INFO : Fin entrenamiento\n"
     ]
    }
   ],
   "source": [
    "myfunc.verbose(\"Iniciando entrenamiento\")\n",
    "\n",
    "kf = KFold(n_splits=5, shuffle=True, random_state=SEMILLA)\n",
    "\n",
    "# Crear el pipeline para el flujo de tareas\n",
    "tasks_pipeline = Pipeline([\n",
    "    ('selector', algor_selector),\n",
    "    ('clasifier', algor_clasifier)\n",
    "])\n",
    "\n",
    "# MAX_ITERS puede limitar el número de iteraciones si son excesivas para las combinaciones de parámetros buscando un óptimo local, \n",
    "# sino funcionaría como GridSearchCV al revisar todas las cominaciones de los parámetros\n",
    "num_iteraciones = 1\n",
    "num_iteraciones = num_iteraciones * np.prod([len(elemento1) for _, elemento1 in param_distributions.items()])\n",
    "max_iteraciones = num_iteraciones if num_iteraciones <= MAX_ITERS else MAX_ITERS\n",
    "print(\"num_iter:\",num_iteraciones,\", max_iter:\",max_iteraciones)\n",
    "\n",
    "random_search = RandomizedSearchCV(\n",
    "    tasks_pipeline, \n",
    "    param_distributions, \n",
    "    n_iter=max_iteraciones,\n",
    "    scoring=SCORING,\n",
    "    cv=kf,\n",
    "    verbose=3, \n",
    "    random_state=SEMILLA, \n",
    "    n_jobs=-1\n",
    "    )\n",
    "\n",
    "# Entrenar el modelo\n",
    "random_search.fit(X_train, y_train)\n",
    "\n",
    "# Ver los mejores hiperparámetros encontrados\n",
    "print(f'Mejores Hiperparámetros: {random_search.best_params_}')\n",
    "print(f'Mejor Puntuación: {random_search.best_score_:.4f}')\n",
    "\n",
    "# Nos quedamos con el mejor modelo para ver las métricas\n",
    "mejor_modelo = random_search.best_estimator_\n",
    "\n",
    "myfunc.verbose(\"Fin entrenamiento\")"
   ]
  },
  {
   "cell_type": "markdown",
   "id": "11240a77",
   "metadata": {
    "papermill": {
     "duration": 0.004316,
     "end_time": "2023-10-30T14:14:17.399798",
     "exception": false,
     "start_time": "2023-10-30T14:14:17.395482",
     "status": "completed"
    },
    "tags": []
   },
   "source": [
    "#### Guardar modelo"
   ]
  },
  {
   "cell_type": "code",
   "execution_count": 8,
   "id": "6687cd21",
   "metadata": {
    "execution": {
     "iopub.execute_input": "2023-10-30T14:14:17.409542Z",
     "iopub.status.busy": "2023-10-30T14:14:17.409166Z",
     "iopub.status.idle": "2023-10-30T14:14:17.420013Z",
     "shell.execute_reply": "2023-10-30T14:14:17.419439Z"
    },
    "papermill": {
     "duration": 0.017415,
     "end_time": "2023-10-30T14:14:17.421283",
     "exception": false,
     "start_time": "2023-10-30T14:14:17.403868",
     "status": "completed"
    },
    "tags": []
   },
   "outputs": [
    {
     "name": "stdout",
     "output_type": "stream",
     "text": [
      "20231030T151417 : enderlab : INFO : Inicio guardar fichero ../tfm_git/ejecuciones/modelos/modelo_7265_mul_m_MI_SVM.pkl\n",
      "20231030T151417 : enderlab : INFO : Fin guardar fichero ../tfm_git/ejecuciones/modelos/modelo_7265_mul_m_MI_SVM.pkl\n"
     ]
    }
   ],
   "source": [
    "fichero_modelo = str.replace(\"modelo_\"+str(SEMILLA).zfill(4)+\"_\"+M_TIPO+\"_\"+M_SELECT+\"_\"+M_CLASIF+\".pkl\", \" \", \"_\")\n",
    "\n",
    "myfunc.save_modelo(mejor_modelo, myfunc.MODEL_DIR, fichero_modelo)"
   ]
  },
  {
   "cell_type": "markdown",
   "id": "ceb40f09",
   "metadata": {
    "papermill": {
     "duration": 0.004244,
     "end_time": "2023-10-30T14:14:17.429725",
     "exception": false,
     "start_time": "2023-10-30T14:14:17.425481",
     "status": "completed"
    },
    "tags": []
   },
   "source": [
    "#### Ver resultados del las iteraciones hechas por RandomSearchCV"
   ]
  },
  {
   "cell_type": "code",
   "execution_count": 9,
   "id": "41dcf4d4",
   "metadata": {
    "execution": {
     "iopub.execute_input": "2023-10-30T14:14:17.439237Z",
     "iopub.status.busy": "2023-10-30T14:14:17.438811Z",
     "iopub.status.idle": "2023-10-30T14:14:17.445560Z",
     "shell.execute_reply": "2023-10-30T14:14:17.444983Z"
    },
    "papermill": {
     "duration": 0.012956,
     "end_time": "2023-10-30T14:14:17.446813",
     "exception": false,
     "start_time": "2023-10-30T14:14:17.433857",
     "status": "completed"
    },
    "tags": []
   },
   "outputs": [
    {
     "name": "stdout",
     "output_type": "stream",
     "text": [
      "20231030T151417 : enderlab : INFO : Inicio ver resultados\n",
      "Mejores Hiperparámetros: {'selector__k': 1000, 'clasifier__kernel': 'rbf', 'clasifier__gamma': 0.001, 'clasifier__C': 100}\n",
      "Mejores puntuaciones: 0.8659 | Params: {'selector__k': 1000, 'clasifier__kernel': 'rbf', 'clasifier__gamma': 0.001, 'clasifier__C': 100}\n",
      "Media de las puntuaciones: 0.8659 | Params: {'selector__k': 1000, 'clasifier__kernel': 'rbf', 'clasifier__gamma': 0.001, 'clasifier__C': 100}\n",
      "20231030T151417 : enderlab : INFO : Fin resultados\n"
     ]
    }
   ],
   "source": [
    "myfunc.ver_resultados_search(random_search)"
   ]
  },
  {
   "cell_type": "markdown",
   "id": "53896f6e",
   "metadata": {
    "papermill": {
     "duration": 0.004236,
     "end_time": "2023-10-30T14:14:17.455277",
     "exception": false,
     "start_time": "2023-10-30T14:14:17.451041",
     "status": "completed"
    },
    "tags": []
   },
   "source": [
    "#### Ver métricas del mejor modelo"
   ]
  },
  {
   "cell_type": "code",
   "execution_count": 10,
   "id": "410257f8",
   "metadata": {
    "execution": {
     "iopub.execute_input": "2023-10-30T14:14:17.473660Z",
     "iopub.status.busy": "2023-10-30T14:14:17.473236Z",
     "iopub.status.idle": "2023-10-30T14:14:18.230159Z",
     "shell.execute_reply": "2023-10-30T14:14:18.229407Z"
    },
    "papermill": {
     "duration": 0.763561,
     "end_time": "2023-10-30T14:14:18.231538",
     "exception": false,
     "start_time": "2023-10-30T14:14:17.467977",
     "status": "completed"
    },
    "tags": []
   },
   "outputs": [
    {
     "name": "stdout",
     "output_type": "stream",
     "text": [
      "20231030T151417 : enderlab : INFO : Inicio ver métricas multiclase\n"
     ]
    },
    {
     "name": "stdout",
     "output_type": "stream",
     "text": [
      "              precision    recall  f1-score   support\n",
      "\n",
      "           0       0.36      0.25      0.30        16\n",
      "           1       0.58      0.47      0.52        15\n",
      "           2       0.20      0.27      0.23        11\n",
      "           3       0.57      0.80      0.67         5\n",
      "           4       0.60      0.69      0.64        13\n",
      "           5       0.67      0.44      0.53         9\n",
      "           6       0.57      0.67      0.62        18\n",
      "\n",
      "    accuracy                           0.49        87\n",
      "   macro avg       0.51      0.51      0.50        87\n",
      "weighted avg       0.50      0.49      0.49        87\n",
      "\n",
      "\n",
      "\n",
      "           Exactitud: 0.494253\n",
      "   Precisión (media): 0.508071\n",
      "      Recall (media): 0.513259\n",
      "    F1-score (media): 0.500547\n",
      "\n",
      "\n",
      "AUC para el tipo de cáncer 0-Control.... 0.7993\n",
      "AUC para el tipo de cáncer 1-Bladder.... 0.8037\n",
      "AUC para el tipo de cáncer 2-Breast..... 0.6842\n",
      "AUC para el tipo de cáncer 3-Colorectal. 0.8683\n",
      "AUC para el tipo de cáncer 4-Kidney..... 0.7963\n",
      "AUC para el tipo de cáncer 5-Lung....... 0.8875\n",
      "AUC para el tipo de cáncer 6-Prostate... 0.8849\n"
     ]
    },
    {
     "name": "stdout",
     "output_type": "stream",
     "text": [
      "\n",
      "Media de AUC: 0.8177\n"
     ]
    },
    {
     "data": {
      "image/png": "[encoded data removed]",
      "text/plain": [
       "<Figure size 1000x600 with 1 Axes>"
      ]
     },
     "metadata": {},
     "output_type": "display_data"
    },
    {
     "name": "stdout",
     "output_type": "stream",
     "text": [
      "\n",
      "\n"
     ]
    },
    {
     "data": {
      "image/png": "[encoded data removed]",
      "text/plain": [
       "<Figure size 800x400 with 2 Axes>"
      ]
     },
     "metadata": {},
     "output_type": "display_data"
    },
    {
     "name": "stdout",
     "output_type": "stream",
     "text": [
      "\n",
      "\n",
      "Puntuación Jaccard para el cáncer tipo 0-Control.... 0.1739\n",
      "Puntuación Jaccard para el cáncer tipo 1-Bladder.... 0.3500\n",
      "Puntuación Jaccard para el cáncer tipo 2-Breast..... 0.1304\n",
      "Puntuación Jaccard para el cáncer tipo 3-Colorectal. 0.5000\n",
      "Puntuación Jaccard para el cáncer tipo 4-Kidney..... 0.4737\n",
      "Puntuación Jaccard para el cáncer tipo 5-Lung....... 0.3636\n",
      "Puntuación Jaccard para el cáncer tipo 6-Prostate... 0.4444\n",
      "\n",
      "Media de la puntuación de Jaccard: 0.3480\n"
     ]
    }
   ],
   "source": [
    "if M_TIPO.startswith(\"bin\"):\n",
    "    myfunc.ver_metricas(mejor_modelo, X_test, y_test)\n",
    "else:\n",
    "    myfunc.ver_metricas_multi(mejor_modelo, X_test, y_test)\n"
   ]
  },
  {
   "cell_type": "markdown",
   "id": "298e8f2a",
   "metadata": {
    "papermill": {
     "duration": 0.006002,
     "end_time": "2023-10-30T14:14:18.244173",
     "exception": false,
     "start_time": "2023-10-30T14:14:18.238171",
     "status": "completed"
    },
    "tags": []
   },
   "source": [
    "#### Finalización del notebook"
   ]
  },
  {
   "cell_type": "code",
   "execution_count": 11,
   "id": "8c1c7136",
   "metadata": {
    "execution": {
     "iopub.execute_input": "2023-10-30T14:14:18.257737Z",
     "iopub.status.busy": "2023-10-30T14:14:18.256855Z",
     "iopub.status.idle": "2023-10-30T14:14:18.261094Z",
     "shell.execute_reply": "2023-10-30T14:14:18.260539Z"
    },
    "papermill": {
     "duration": 0.012249,
     "end_time": "2023-10-30T14:14:18.262322",
     "exception": false,
     "start_time": "2023-10-30T14:14:18.250073",
     "status": "completed"
    },
    "tags": []
   },
   "outputs": [
    {
     "name": "stdout",
     "output_type": "stream",
     "text": [
      "20231030T151418 : enderlab : INFO : Notebook ha tardado 225 seconds\n"
     ]
    }
   ],
   "source": [
    "end_time = datetime.datetime.now()\n",
    "total_time = end_time - start_time\n",
    "myfunc.verbose(f\"Notebook ha tardado {total_time.seconds} seconds\")"
   ]
  },
  {
   "cell_type": "markdown",
   "id": "276226cb",
   "metadata": {
    "papermill": {
     "duration": 0.006909,
     "end_time": "2023-10-30T14:14:18.275065",
     "exception": false,
     "start_time": "2023-10-30T14:14:18.268156",
     "status": "completed"
    },
    "tags": []
   },
   "source": [
    "#### Guardar métricas"
   ]
  },
  {
   "cell_type": "code",
   "execution_count": 12,
   "id": "35156632",
   "metadata": {
    "execution": {
     "iopub.execute_input": "2023-10-30T14:14:18.289798Z",
     "iopub.status.busy": "2023-10-30T14:14:18.289316Z",
     "iopub.status.idle": "2023-10-30T14:14:18.572431Z",
     "shell.execute_reply": "2023-10-30T14:14:18.571859Z"
    },
    "papermill": {
     "duration": 0.291817,
     "end_time": "2023-10-30T14:14:18.573794",
     "exception": false,
     "start_time": "2023-10-30T14:14:18.281977",
     "status": "completed"
    },
    "tags": []
   },
   "outputs": [
    {
     "name": "stdout",
     "output_type": "stream",
     "text": [
      "20231030T151418 : enderlab : INFO : Inicio guardar métricas multiclase\n",
      "20231030T151418 : enderlab : INFO : Inicio leer fichero ../tfm_git/ejecuciones/metricas/metricas_7265.csv\n",
      "20231030T151418 : enderlab : INFO : Fin leer fichero ../tfm_git/ejecuciones/metricas/metricas_7265.csv\n"
     ]
    },
    {
     "name": "stdout",
     "output_type": "stream",
     "text": [
      "20231030T151418 : enderlab : INFO : Inicio guardar fichero ../tfm_git/ejecuciones/metricas/metricas_7265.csv\n",
      "20231030T151418 : enderlab : INFO : Fichero borrado ../tfm_git/ejecuciones/metricas/metricas_7265.csv\n",
      "20231030T151418 : enderlab : INFO : Fin guardar fichero ../tfm_git/ejecuciones/metricas/metricas_7265.csv\n",
      "20231030T151418 : enderlab : INFO : Fin guardar métricas multiclase\n",
      "20231030T151418 : enderlab : INFO : Inicio leer fichero ../tfm_git/ejecuciones/metricas/metricas_7265.csv\n",
      "20231030T151418 : enderlab : INFO : Fin leer fichero ../tfm_git/ejecuciones/metricas/metricas_7265.csv\n"
     ]
    },
    {
     "data": {
      "text/html": [
       "<div>\n",
       "<style scoped>\n",
       "    .dataframe tbody tr th:only-of-type {\n",
       "        vertical-align: middle;\n",
       "    }\n",
       "\n",
       "    .dataframe tbody tr th {\n",
       "        vertical-align: top;\n",
       "    }\n",
       "\n",
       "    .dataframe thead th {\n",
       "        text-align: right;\n",
       "    }\n",
       "</style>\n",
       "<table border=\"1\" class=\"dataframe\">\n",
       "  <thead>\n",
       "    <tr style=\"text-align: right;\">\n",
       "      <th></th>\n",
       "      <th>tipo</th>\n",
       "      <th>select</th>\n",
       "      <th>clasific</th>\n",
       "      <th>semilla</th>\n",
       "      <th>accuracy</th>\n",
       "      <th>precision</th>\n",
       "      <th>recall</th>\n",
       "      <th>f1_score</th>\n",
       "      <th>roc_auc</th>\n",
       "      <th>hostname</th>\n",
       "      <th>total_time_sec</th>\n",
       "      <th>datetime</th>\n",
       "      <th>fichero_modelo</th>\n",
       "      <th>params</th>\n",
       "      <th>shape</th>\n",
       "      <th>features</th>\n",
       "      <th>roc_auc_ovr</th>\n",
       "      <th>indices_auc</th>\n",
       "      <th>indices_jaccard</th>\n",
       "    </tr>\n",
       "  </thead>\n",
       "  <tbody>\n",
       "    <tr>\n",
       "      <th>0</th>\n",
       "      <td>mul_m</td>\n",
       "      <td>MI</td>\n",
       "      <td>SVM</td>\n",
       "      <td>7265</td>\n",
       "      <td>0.494253</td>\n",
       "      <td>0.508071</td>\n",
       "      <td>0.513259</td>\n",
       "      <td>0.500547</td>\n",
       "      <td>NaN</td>\n",
       "      <td>enderlab</td>\n",
       "      <td>225</td>\n",
       "      <td>2023-10-30 15:14:18.526193</td>\n",
       "      <td>modelo_7265_mul_m_MI_SVM.pkl</td>\n",
       "      <td>{'selector__k': 1000, 'clasifier__kernel': 'rb...</td>\n",
       "      <td>X_test:(87, 18875)</td>\n",
       "      <td>['ENSG00000001084.13', 'ENSG00000001460.18', '...</td>\n",
       "      <td>0.817727</td>\n",
       "      <td>[0.7992957746478873, 0.8037037037037038, 0.684...</td>\n",
       "      <td>[0.17391304347826086, 0.35, 0.1304347826086956...</td>\n",
       "    </tr>\n",
       "    <tr>\n",
       "      <th>0</th>\n",
       "      <td>mul_m</td>\n",
       "      <td>MI</td>\n",
       "      <td>RF</td>\n",
       "      <td>7265</td>\n",
       "      <td>0.436782</td>\n",
       "      <td>0.461126</td>\n",
       "      <td>0.462357</td>\n",
       "      <td>0.414443</td>\n",
       "      <td>NaN</td>\n",
       "      <td>enderlab</td>\n",
       "      <td>252</td>\n",
       "      <td>2023-10-30 15:10:26.091524</td>\n",
       "      <td>modelo_7265_mul_m_MI_RF.pkl</td>\n",
       "      <td>{'selector__k': 1000, 'clasifier__n_estimators...</td>\n",
       "      <td>X_test:(87, 18875)</td>\n",
       "      <td>['ENSG00000001084.13', 'ENSG00000001460.18', '...</td>\n",
       "      <td>0.785596</td>\n",
       "      <td>[0.5968309859154929, 0.836111111111111, 0.7858...</td>\n",
       "      <td>[0.11764705882352941, 0.3157894736842105, 0.21...</td>\n",
       "    </tr>\n",
       "    <tr>\n",
       "      <th>0</th>\n",
       "      <td>mul_m</td>\n",
       "      <td>MI</td>\n",
       "      <td>LR_L2</td>\n",
       "      <td>7265</td>\n",
       "      <td>0.551724</td>\n",
       "      <td>0.548951</td>\n",
       "      <td>0.569333</td>\n",
       "      <td>0.540118</td>\n",
       "      <td>NaN</td>\n",
       "      <td>enderlab</td>\n",
       "      <td>252</td>\n",
       "      <td>2023-10-30 15:06:06.763149</td>\n",
       "      <td>modelo_7265_mul_m_MI_LR_L2.pkl</td>\n",
       "      <td>{'selector__k': 1000, 'clasifier__solver': 'lb...</td>\n",
       "      <td>X_test:(87, 18875)</td>\n",
       "      <td>['ENSG00000001084.13', 'ENSG00000001460.18', '...</td>\n",
       "      <td>0.871191</td>\n",
       "      <td>[0.8890845070422535, 0.8564814814814814, 0.773...</td>\n",
       "      <td>[0.3157894736842105, 0.4, 0.15789473684210525,...</td>\n",
       "    </tr>\n",
       "  </tbody>\n",
       "</table>\n",
       "</div>"
      ],
      "text/plain": [
       "    tipo select clasific  semilla  accuracy  precision    recall  f1_score  \\\n",
       "0  mul_m     MI      SVM     7265  0.494253   0.508071  0.513259  0.500547   \n",
       "0  mul_m     MI       RF     7265  0.436782   0.461126  0.462357  0.414443   \n",
       "0  mul_m     MI    LR_L2     7265  0.551724   0.548951  0.569333  0.540118   \n",
       "\n",
       "   roc_auc  hostname  total_time_sec                    datetime  \\\n",
       "0      NaN  enderlab             225  2023-10-30 15:14:18.526193   \n",
       "0      NaN  enderlab             252  2023-10-30 15:10:26.091524   \n",
       "0      NaN  enderlab             252  2023-10-30 15:06:06.763149   \n",
       "\n",
       "                   fichero_modelo  \\\n",
       "0    modelo_7265_mul_m_MI_SVM.pkl   \n",
       "0     modelo_7265_mul_m_MI_RF.pkl   \n",
       "0  modelo_7265_mul_m_MI_LR_L2.pkl   \n",
       "\n",
       "                                              params               shape  \\\n",
       "0  {'selector__k': 1000, 'clasifier__kernel': 'rb...  X_test:(87, 18875)   \n",
       "0  {'selector__k': 1000, 'clasifier__n_estimators...  X_test:(87, 18875)   \n",
       "0  {'selector__k': 1000, 'clasifier__solver': 'lb...  X_test:(87, 18875)   \n",
       "\n",
       "                                            features  roc_auc_ovr  \\\n",
       "0  ['ENSG00000001084.13', 'ENSG00000001460.18', '...     0.817727   \n",
       "0  ['ENSG00000001084.13', 'ENSG00000001460.18', '...     0.785596   \n",
       "0  ['ENSG00000001084.13', 'ENSG00000001460.18', '...     0.871191   \n",
       "\n",
       "                                         indices_auc  \\\n",
       "0  [0.7992957746478873, 0.8037037037037038, 0.684...   \n",
       "0  [0.5968309859154929, 0.836111111111111, 0.7858...   \n",
       "0  [0.8890845070422535, 0.8564814814814814, 0.773...   \n",
       "\n",
       "                                     indices_jaccard  \n",
       "0  [0.17391304347826086, 0.35, 0.1304347826086956...  \n",
       "0  [0.11764705882352941, 0.3157894736842105, 0.21...  \n",
       "0  [0.3157894736842105, 0.4, 0.15789473684210525,...  "
      ]
     },
     "metadata": {},
     "output_type": "display_data"
    }
   ],
   "source": [
    "if M_TIPO.startswith(\"bin\"):\n",
    "    myfunc.save_metricas_to_csv(random_search, X_test, y_test, M_TIPO, M_SELECT, M_CLASIF, total_time, SEMILLA, myfunc.MET_DIR, M_FICHERO, fichero_modelo)\n",
    "else:\n",
    "    myfunc.save_metricas_multi_to_csv(random_search, X_test, y_test, M_TIPO, M_SELECT, M_CLASIF, total_time, SEMILLA, myfunc.MET_DIR, M_FICHERO, fichero_modelo)\n",
    "\n",
    "df1=myfunc.read_metricas_to_df(myfunc.MET_DIR,M_FICHERO)\n",
    "\n",
    "display(df1.sort_values(\"datetime\", ascending=False)[:3])\n"
   ]
  },
  {
   "cell_type": "markdown",
   "id": "d83185fc",
   "metadata": {
    "papermill": {
     "duration": 0.006391,
     "end_time": "2023-10-30T14:14:18.587056",
     "exception": false,
     "start_time": "2023-10-30T14:14:18.580665",
     "status": "completed"
    },
    "tags": []
   },
   "source": [
    "#### Guardar resultados"
   ]
  },
  {
   "cell_type": "code",
   "execution_count": 13,
   "id": "4f022bc3",
   "metadata": {
    "execution": {
     "iopub.execute_input": "2023-10-30T14:14:18.600990Z",
     "iopub.status.busy": "2023-10-30T14:14:18.600491Z",
     "iopub.status.idle": "2023-10-30T14:14:18.609631Z",
     "shell.execute_reply": "2023-10-30T14:14:18.609085Z"
    },
    "papermill": {
     "duration": 0.017454,
     "end_time": "2023-10-30T14:14:18.610898",
     "exception": false,
     "start_time": "2023-10-30T14:14:18.593444",
     "status": "completed"
    },
    "tags": []
   },
   "outputs": [
    {
     "name": "stdout",
     "output_type": "stream",
     "text": [
      "20231030T151418 : enderlab : INFO : Inicio guardar resultados\n",
      "20231030T151418 : enderlab : INFO : Inicio guardar fichero ../tfm_git/ejecuciones/metricas/resultados_7265_mul_m-MI-SVM.csv\n",
      "20231030T151418 : enderlab : INFO : Fin guardar fichero ../tfm_git/ejecuciones/metricas/resultados_7265_mul_m-MI-SVM.csv\n",
      "20231030T151418 : enderlab : INFO : Fin guardar resultados\n"
     ]
    }
   ],
   "source": [
    "fichero_resultados=R_FICHERO+\"_\"+M_TIPO+\"-\"+M_SELECT+\"-\"+M_CLASIF+\".csv\"\n",
    "myfunc.save_resultados_to_csv(M_TIPO, M_SELECT, M_CLASIF,  random_search, myfunc.MET_DIR, fichero_resultados)\n"
   ]
  }
 ],
 "metadata": {
  "kernelspec": {
   "display_name": "Python 3 (ipykernel)",
   "language": "python",
   "name": "python3"
  },
  "language_info": {
   "codemirror_mode": {
    "name": "ipython",
    "version": 3
   },
   "file_extension": ".py",
   "mimetype": "text/x-python",
   "name": "python",
   "nbconvert_exporter": "python",
   "pygments_lexer": "ipython3",
   "version": "3.10.11"
  },
  "papermill": {
   "default_parameters": {},
   "duration": 230.776311,
   "end_time": "2023-10-30T14:14:21.235776",
   "environment_variables": {},
   "exception": null,
   "input_path": "03_entrenamiento.ipynb",
   "output_path": "ejecuciones/training/03_entrenamiento.20231030T151029.param_0000_7265_mul_m_MI_SVM.output.ipynb",
   "parameters": {
    "MAX_ITERS": 500,
    "M_CLASIF": "SVM",
    "M_FICHERO": "metricas_7265",
    "M_SELECT": "MI",
    "M_TIPO": "mul_m",
    "PRE_DATA_FILE": "rows_transpose_norm_by_gene_id_with_target_num_",
    "P_FICHERO": "param_0000_7265_mul_m_MI_SVM.yaml",
    "R_FICHERO": "resultados_7265",
    "SCORING": "roc_auc_ovr",
    "SEMILLA": 7265,
    "eval_clasifier": "SVC(probability=True, random_state=SEMILLA)",
    "eval_selector": "SelectKBest(score_func=mutual_info_classif_state)",
    "param_distributions": {
     "clasifier__C": [
      100
     ],
     "clasifier__gamma": [
      0.001
     ],
     "clasifier__kernel": [
      "rbf"
     ],
     "selector__k": [
      1000
     ]
    }
   },
   "start_time": "2023-10-30T14:10:30.459465",
   "version": "2.4.0"
  }
 },
 "nbformat": 4,
 "nbformat_minor": 5
}