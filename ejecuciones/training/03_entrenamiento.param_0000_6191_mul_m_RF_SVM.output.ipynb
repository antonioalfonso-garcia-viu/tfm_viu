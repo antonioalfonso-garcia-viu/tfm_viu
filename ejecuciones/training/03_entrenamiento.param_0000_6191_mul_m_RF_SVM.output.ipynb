{
 "cells": [
  {
   "cell_type": "markdown",
   "id": "88c8fff0",
   "metadata": {
    "papermill": {
     "duration": 0.003185,
     "end_time": "2023-10-30T09:38:23.285153",
     "exception": false,
     "start_time": "2023-10-30T09:38:23.281968",
     "status": "completed"
    },
    "tags": []
   },
   "source": [
    "##### Inicio"
   ]
  },
  {
   "cell_type": "markdown",
   "id": "d81cf60e",
   "metadata": {
    "papermill": {
     "duration": 0.002385,
     "end_time": "2023-10-30T09:38:23.290081",
     "exception": false,
     "start_time": "2023-10-30T09:38:23.287696",
     "status": "completed"
    },
    "tags": []
   },
   "source": [
    "#### Carga de datos"
   ]
  },
  {
   "cell_type": "code",
   "execution_count": 1,
   "id": "1e45763f",
   "metadata": {
    "execution": {
     "iopub.execute_input": "2023-10-30T09:38:23.296075Z",
     "iopub.status.busy": "2023-10-30T09:38:23.295835Z",
     "iopub.status.idle": "2023-10-30T09:38:24.150454Z",
     "shell.execute_reply": "2023-10-30T09:38:24.149749Z"
    },
    "papermill": {
     "duration": 0.859428,
     "end_time": "2023-10-30T09:38:24.151882",
     "exception": false,
     "start_time": "2023-10-30T09:38:23.292454",
     "status": "completed"
    },
    "tags": []
   },
   "outputs": [
    {
     "name": "stdout",
     "output_type": "stream",
     "text": [
      "CPU_COUNT: 8; NODE: amilcar22; sys.version: 3.10.12 (main, Jul  5 2023, 19:22:19) [GCC 11.2.0]\n",
      "LOKY_MAX_CPU_COUNT: 6\n",
      "OMP_NUM_THREADS: 2\n"
     ]
    }
   ],
   "source": [
    "import os\n",
    "import numpy as np\n",
    "import pandas as pd\n",
    "import datetime\n",
    "import sklearn\n",
    "import logging\n",
    "import warnings\n",
    "\n",
    "from sklearn.pipeline import Pipeline\n",
    "from sklearn.model_selection import RandomizedSearchCV, KFold, cross_val_score, train_test_split\n",
    "from sklearn.metrics import accuracy_score, confusion_matrix, classification_report, roc_auc_score\n",
    "\n",
    "#  cargar algoritmos para aprendizaje supervisado\n",
    "from sklearn.feature_selection import SelectKBest, f_classif, SelectFromModel, mutual_info_classif\n",
    "from sklearn.svm import SVC\n",
    "from sklearn.ensemble import RandomForestClassifier\n",
    "from sklearn.linear_model import LogisticRegression,LogisticRegressionCV\n",
    "\n",
    "# importar fichero con utilidades propias\n",
    "from commons import myfunctions as myfunc\n"
   ]
  },
  {
   "cell_type": "markdown",
   "id": "346d7908",
   "metadata": {
    "papermill": {
     "duration": 0.002554,
     "end_time": "2023-10-30T09:38:24.157273",
     "exception": false,
     "start_time": "2023-10-30T09:38:24.154719",
     "status": "completed"
    },
    "tags": []
   },
   "source": [
    "#### Parámetros a utilizar en el entrenamiento.\n",
    "\n",
    "Se indican los 3 algoritmos de *selección de características* (eval_selector_xxx) y los 3 algoritmos para la _clasificación_ (eval_clasifier_xxx)\n",
    "\n",
    "En *param_distributions* se indicar los parámetros que utilizan los algoritmos en la función RandomSearchCV.\n",
    "\n",
    "Esta celda tiene la etiqueta **parameters** que servirá para poder lanzar los entrenamientos con la utilidad **papermill** pasándole un fichero con los parámetros. Los nuevos parámetros se situarán tras esta celda para tener prevalencia."
   ]
  },
  {
   "cell_type": "code",
   "execution_count": 2,
   "id": "726fb6bb",
   "metadata": {
    "execution": {
     "iopub.execute_input": "2023-10-30T09:38:24.163330Z",
     "iopub.status.busy": "2023-10-30T09:38:24.163084Z",
     "iopub.status.idle": "2023-10-30T09:38:24.169606Z",
     "shell.execute_reply": "2023-10-30T09:38:24.169017Z"
    },
    "papermill": {
     "duration": 0.011045,
     "end_time": "2023-10-30T09:38:24.170744",
     "exception": false,
     "start_time": "2023-10-30T09:38:24.159699",
     "status": "completed"
    },
    "tags": [
     "parameters"
    ]
   },
   "outputs": [
    {
     "name": "stdout",
     "output_type": "stream",
     "text": [
      "20231030T103824 : amilcar22 : INFO : Utilizando parámetros de mul_m\n"
     ]
    }
   ],
   "source": [
    "#  Parametros para el entrenamiento\n",
    "\n",
    "SEMILLA=        42\n",
    "M_TIPO=         \"mul_m\"\n",
    "M_SELECT=       \"MI\"\n",
    "M_CLASIF=       \"SVM\"\n",
    "R_FICHERO=      \"resultados\"\n",
    "M_FICHERO=      \"metricas\"\n",
    "PRE_DATA_FILE=  \"rows_transpose_norm_by_gene_id_with_target_num_\"\n",
    "SCORING=        \"roc_auc_ovr\" \n",
    "MAX_ITERS=      100\n",
    "\n",
    "def mutual_info_classif_state(X, y):\n",
    "    return mutual_info_classif(X, y, random_state=SEMILLA)\n",
    "\n",
    "eval_selector_mi = \"SelectKBest(score_func=mutual_info_classif_state)\"\n",
    "eval_selector_rf=  \"SelectFromModel(estimator=RandomForestClassifier(random_state=SEMILLA), threshold=-np.inf)\"\n",
    "eval_selector_anova=  \"SelectKBest(score_func=f_classif)\"\n",
    "\n",
    "eval_clasifier_svm= \"SVC(probability=True, random_state=SEMILLA)\"\n",
    "eval_clasifier_rf= \"RandomForestClassifier(random_state=SEMILLA)\"\n",
    "eval_clasifier_lr= \"LogisticRegressionCV(random_state=SEMILLA)\"\n",
    "\n",
    "if M_TIPO.startswith(\"bin_m\"):\n",
    "    myfunc.verbose(f\"Utilizando parámetros de {M_TIPO}\")\n",
    "    eval_selector = eval_selector_mi\n",
    "    eval_clasifier = eval_clasifier_svm\n",
    "\n",
    "    SEMILLA = 6578\n",
    "    M_SELECT = \"MI\"\n",
    "    M_CLASIF = \"SVM\"\n",
    "    param_distributions = {'selector__k': [1000], \n",
    "         'clasifier__kernel': ['rbf'], 'clasifier__gamma': [0.01], 'clasifier__C': [100]}\n",
    "elif M_TIPO.startswith(\"bin_s\"):\n",
    "    myfunc.verbose(f\"Utilizando parámetros de {M_TIPO}\")\n",
    "    eval_selector = eval_selector_rf\n",
    "    eval_clasifier = eval_clasifier_lr\n",
    "\n",
    "    SEMILLA = 6191\n",
    "    M_SELECT = \"RF\"\n",
    "    M_CLASIF = \"LR_L2\"\n",
    "    param_distributions = {'selector__max_features': [1000], 'selector__estimator__n_estimators': [200], \n",
    "        'clasifier__solver': ['lbfgs'], 'clasifier__penalty': ['l2'], 'clasifier__max_iter': [10000]}\n",
    "\n",
    "elif M_TIPO.startswith(\"mul_m\"):\n",
    "    myfunc.verbose(f\"Utilizando parámetros de {M_TIPO}\")\n",
    " \n",
    "    eval_selector = eval_selector_rf\n",
    "    eval_clasifier = eval_clasifier_lr\n",
    "\n",
    "    SEMILLA = 6191\n",
    "    M_SELECT = \"RF\"\n",
    "    M_CLASIF = \"LR_L2\"\n",
    "    param_distributions = {'selector__max_features': [1000], 'selector__estimator__n_estimators': [400], \n",
    "        'clasifier__solver': ['lbfgs'], 'clasifier__penalty': ['l2'], 'clasifier__max_iter': [10000]}\n",
    "\n",
    "else:\n",
    "    # M_TIPO.startswith(\"mul_s\"):\n",
    "    myfunc.verbose(f\"Utilizando parámetros de {M_TIPO}\")\n",
    "    eval_selector = eval_selector_anova\n",
    "    eval_clasifier = eval_clasifier_lr\n",
    "\n",
    "    SEMILLA = 1860\n",
    "    M_SELECT = \"ANOVA\"\n",
    "    M_CLASIF = \"LR_L2\"\n",
    "    param_distributions = {'selector__k': [1000], \n",
    "        'clasifier__solver': ['saga'], 'clasifier__penalty': ['l2'], 'clasifier__max_iter': [10000]}\n",
    "\n"
   ]
  },
  {
   "cell_type": "code",
   "execution_count": 3,
   "id": "99c580e0",
   "metadata": {
    "execution": {
     "iopub.execute_input": "2023-10-30T09:38:24.176709Z",
     "iopub.status.busy": "2023-10-30T09:38:24.176512Z",
     "iopub.status.idle": "2023-10-30T09:38:24.179935Z",
     "shell.execute_reply": "2023-10-30T09:38:24.179448Z"
    },
    "papermill": {
     "duration": 0.007852,
     "end_time": "2023-10-30T09:38:24.181218",
     "exception": false,
     "start_time": "2023-10-30T09:38:24.173366",
     "status": "completed"
    },
    "tags": [
     "injected-parameters"
    ]
   },
   "outputs": [],
   "source": [
    "# Parameters\n",
    "M_TIPO = \"mul_m\"\n",
    "M_SELECT = \"RF\"\n",
    "M_CLASIF = \"SVM\"\n",
    "P_FICHERO = \"param_0000_6191_mul_m_RF_SVM.yaml\"\n",
    "R_FICHERO = \"resultados_6191\"\n",
    "M_FICHERO = \"metricas_6191\"\n",
    "PRE_DATA_FILE = \"rows_transpose_norm_by_gene_id_with_target_num_\"\n",
    "SCORING = \"roc_auc_ovr\"\n",
    "SEMILLA = 6191\n",
    "MAX_ITERS = 500\n",
    "eval_selector = \"SelectFromModel(estimator=RandomForestClassifier(random_state=SEMILLA), threshold=-np.inf)\"\n",
    "eval_clasifier = \"SVC(probability=True, random_state=SEMILLA)\"\n",
    "param_distributions = {\n",
    "    \"selector__max_features\": [200],\n",
    "    \"selector__estimator__n_estimators\": [400],\n",
    "    \"clasifier__kernel\": [\"rbf\"],\n",
    "    \"clasifier__gamma\": [0.01],\n",
    "    \"clasifier__C\": [10],\n",
    "}\n"
   ]
  },
  {
   "cell_type": "code",
   "execution_count": 4,
   "id": "1718c86b",
   "metadata": {
    "execution": {
     "iopub.execute_input": "2023-10-30T09:38:24.187300Z",
     "iopub.status.busy": "2023-10-30T09:38:24.187113Z",
     "iopub.status.idle": "2023-10-30T09:38:24.190050Z",
     "shell.execute_reply": "2023-10-30T09:38:24.189532Z"
    },
    "papermill": {
     "duration": 0.007362,
     "end_time": "2023-10-30T09:38:24.191326",
     "exception": false,
     "start_time": "2023-10-30T09:38:24.183964",
     "status": "completed"
    },
    "tags": []
   },
   "outputs": [],
   "source": [
    "DATA_FILE = PRE_DATA_FILE + M_TIPO\n",
    "\n",
    "# si viene \"None\" en el parámetro max_depth, se le quitan las comillas para que no sea entendido por el algoritmo como un texto\n",
    "if \"clasifier__max_depth\" in param_distributions:\n",
    "    param_distributions['clasifier__max_depth'] = [None if x == 'None' else x for x in param_distributions['clasifier__max_depth']]"
   ]
  },
  {
   "cell_type": "markdown",
   "id": "d331ebf9",
   "metadata": {
    "papermill": {
     "duration": 0.002535,
     "end_time": "2023-10-30T09:38:24.196481",
     "exception": false,
     "start_time": "2023-10-30T09:38:24.193946",
     "status": "completed"
    },
    "tags": []
   },
   "source": [
    "Asignar los algoritmos que se utilizarán en la función RandomSearchCV"
   ]
  },
  {
   "cell_type": "code",
   "execution_count": 5,
   "id": "a208f498",
   "metadata": {
    "execution": {
     "iopub.execute_input": "2023-10-30T09:38:24.202288Z",
     "iopub.status.busy": "2023-10-30T09:38:24.202111Z",
     "iopub.status.idle": "2023-10-30T09:38:24.204856Z",
     "shell.execute_reply": "2023-10-30T09:38:24.204347Z"
    },
    "papermill": {
     "duration": 0.006926,
     "end_time": "2023-10-30T09:38:24.205975",
     "exception": false,
     "start_time": "2023-10-30T09:38:24.199049",
     "status": "completed"
    },
    "tags": []
   },
   "outputs": [],
   "source": [
    "algor_selector=eval(eval_selector)\n",
    "algor_clasifier=eval(eval_clasifier)"
   ]
  },
  {
   "cell_type": "markdown",
   "id": "0f91d3ed",
   "metadata": {
    "papermill": {
     "duration": 0.002612,
     "end_time": "2023-10-30T09:38:24.211217",
     "exception": false,
     "start_time": "2023-10-30T09:38:24.208605",
     "status": "completed"
    },
    "tags": []
   },
   "source": [
    "#### Comprobar el entorno y leer fichero de muestras"
   ]
  },
  {
   "cell_type": "code",
   "execution_count": 6,
   "id": "07cf7a8f",
   "metadata": {
    "execution": {
     "iopub.execute_input": "2023-10-30T09:38:24.217301Z",
     "iopub.status.busy": "2023-10-30T09:38:24.217116Z",
     "iopub.status.idle": "2023-10-30T09:38:24.377553Z",
     "shell.execute_reply": "2023-10-30T09:38:24.377071Z"
    },
    "papermill": {
     "duration": 0.164975,
     "end_time": "2023-10-30T09:38:24.378807",
     "exception": false,
     "start_time": "2023-10-30T09:38:24.213832",
     "status": "completed"
    },
    "tags": []
   },
   "outputs": [
    {
     "name": "stdout",
     "output_type": "stream",
     "text": [
      "20231030T103824 : amilcar22 : INFO : Encontrada carpeta DATA_DIR=../tfm_git/datos\n",
      "20231030T103824 : amilcar22 : INFO : Encontrada carpeta CFDNA_DIR=../tfm_git/datos/cfDNA_5hmC\n",
      "20231030T103824 : amilcar22 : INFO : Encontrada carpeta GENCODE_DIR=../tfm_git/datos/gencode\n",
      "20231030T103824 : amilcar22 : INFO : Encontrada carpeta H5_DIR=../tfm_git/datos/h5\n",
      "20231030T103824 : amilcar22 : INFO : Encontrada carpeta LOG_DIR=../tfm_git/datos/logs\n",
      "20231030T103824 : amilcar22 : INFO : Encontrada carpeta CSV_DIR=../tfm_git/datos/csv\n",
      "20231030T103824 : amilcar22 : INFO : Encontrada carpeta MODEL_DIR=../tfm_git/ejecuciones/modelos\n",
      "20231030T103824 : amilcar22 : INFO : Encontrada carpeta EXEC_DIR=../tfm_git/ejecuciones\n",
      "20231030T103824 : amilcar22 : INFO : Encontrada carpeta MET_DIR=../tfm_git/ejecuciones/metricas\n",
      "20231030T103824 : amilcar22 : INFO : Inicio leer fichero h5 ../tfm_git/datos/h5/rows_transpose_norm_by_gene_id_with_target_num_mul_m.h5\n",
      "20231030T103824 : amilcar22 : INFO : Leyendo clave /df\n",
      "20231030T103824 : amilcar22 : INFO : Tamaño (434, 18876)\n",
      "20231030T103824 : amilcar22 : INFO : Fin leer fichero h5 ../tfm_git/datos/h5/rows_transpose_norm_by_gene_id_with_target_num_mul_m.h5\n"
     ]
    },
    {
     "data": {
      "text/plain": [
       "target\n",
       "0    62\n",
       "1    62\n",
       "2    62\n",
       "3    62\n",
       "4    62\n",
       "5    62\n",
       "6    62\n",
       "dtype: int64"
      ]
     },
     "metadata": {},
     "output_type": "display_data"
    },
    {
     "name": "stdout",
     "output_type": "stream",
     "text": [
      "Shape df: (434, 18876)\n"
     ]
    },
    {
     "name": "stdout",
     "output_type": "stream",
     "text": [
      "Shape X_train: (347, 18875)\n",
      "Shape X_test: (87, 18875)\n"
     ]
    }
   ],
   "source": [
    "start_time = datetime.datetime.now()\n",
    "\n",
    "myfunc.reset_vars()\n",
    "\n",
    "myfunc.NOTEBK_FILENAME = myfunc.get_nb_name()\n",
    "\n",
    "myfunc.check_enviroment(myfunc.DATA_DIR, myfunc.CFDNA_DIR, myfunc.GENCODE_DIR, myfunc.H5_DIR, myfunc.LOG_DIR, myfunc.CSV_DIR, myfunc.MODEL_DIR, myfunc.EXEC_DIR, myfunc.MET_DIR)\n",
    "\n",
    "# Leer fichero con las muestras\n",
    "df_t = myfunc.read_h5_to_df(DATA_FILE, myfunc.H5_DIR)\n",
    "display(df_t.groupby(\"target\").size())\n",
    "print(\"Shape df:\",df_t.shape)\n",
    "\n",
    "# Separar caracteristicas/genes de las etiquetas/tipos de cáncer\n",
    "X = df_t.iloc[:, :-1]  # Todas las columnas excepto la última\n",
    "y = df_t.iloc[:, -1]  # La última columna contiene los identificadores de los tipos de cáncer\n",
    "\n",
    "#  Crear el conjunto de datos de entrenamiento y de pruebas, y se fija la semilla para siempre coger el mismo juego de muestras\n",
    "X_train, X_test, y_train, y_test = train_test_split(X, y, test_size=0.2, shuffle=True, random_state=42)\n",
    "print(\"Shape X_train:\",X_train.shape)\n",
    "print(\"Shape X_test:\",X_test.shape)\n"
   ]
  },
  {
   "cell_type": "markdown",
   "id": "851b255d",
   "metadata": {
    "papermill": {
     "duration": 0.002817,
     "end_time": "2023-10-30T09:38:24.384978",
     "exception": false,
     "start_time": "2023-10-30T09:38:24.382161",
     "status": "completed"
    },
    "tags": []
   },
   "source": [
    "#### Selección de características y clasificación."
   ]
  },
  {
   "cell_type": "code",
   "execution_count": 7,
   "id": "44736ab0",
   "metadata": {
    "execution": {
     "iopub.execute_input": "2023-10-30T09:38:24.391390Z",
     "iopub.status.busy": "2023-10-30T09:38:24.391198Z",
     "iopub.status.idle": "2023-10-30T09:38:42.709931Z",
     "shell.execute_reply": "2023-10-30T09:38:42.709300Z"
    },
    "papermill": {
     "duration": 18.323471,
     "end_time": "2023-10-30T09:38:42.711204",
     "exception": false,
     "start_time": "2023-10-30T09:38:24.387733",
     "status": "completed"
    },
    "tags": []
   },
   "outputs": [
    {
     "name": "stdout",
     "output_type": "stream",
     "text": [
      "20231030T103824 : amilcar22 : INFO : Iniciando entrenamiento\n",
      "num_iter: 1 , max_iter: 1\n",
      "Fitting 5 folds for each of 1 candidates, totalling 5 fits\n"
     ]
    },
    {
     "name": "stdout",
     "output_type": "stream",
     "text": [
      "Mejores Hiperparámetros: {'selector__max_features': 200, 'selector__estimator__n_estimators': 400, 'clasifier__kernel': 'rbf', 'clasifier__gamma': 0.01, 'clasifier__C': 10}\n",
      "Mejor Puntuación: 0.8546\n",
      "20231030T103842 : amilcar22 : INFO : Fin entrenamiento\n"
     ]
    }
   ],
   "source": [
    "myfunc.verbose(\"Iniciando entrenamiento\")\n",
    "\n",
    "kf = KFold(n_splits=5, shuffle=True, random_state=SEMILLA)\n",
    "\n",
    "# Crear el pipeline para el flujo de tareas\n",
    "tasks_pipeline = Pipeline([\n",
    "    ('selector', algor_selector),\n",
    "    ('clasifier', algor_clasifier)\n",
    "])\n",
    "\n",
    "# MAX_ITERS puede limitar el número de iteraciones si son excesivas para las combinaciones de parámetros buscando un óptimo local, \n",
    "# sino funcionaría como GridSearchCV al revisar todas las cominaciones de los parámetros\n",
    "num_iteraciones = 1\n",
    "num_iteraciones = num_iteraciones * np.prod([len(elemento1) for _, elemento1 in param_distributions.items()])\n",
    "max_iteraciones = num_iteraciones if num_iteraciones <= MAX_ITERS else MAX_ITERS\n",
    "print(\"num_iter:\",num_iteraciones,\", max_iter:\",max_iteraciones)\n",
    "\n",
    "random_search = RandomizedSearchCV(\n",
    "    tasks_pipeline, \n",
    "    param_distributions, \n",
    "    n_iter=max_iteraciones,\n",
    "    scoring=SCORING,\n",
    "    cv=kf,\n",
    "    verbose=3, \n",
    "    random_state=SEMILLA, \n",
    "    n_jobs=-1\n",
    "    )\n",
    "\n",
    "# Entrenar el modelo\n",
    "random_search.fit(X_train, y_train)\n",
    "\n",
    "# Ver los mejores hiperparámetros encontrados\n",
    "print(f'Mejores Hiperparámetros: {random_search.best_params_}')\n",
    "print(f'Mejor Puntuación: {random_search.best_score_:.4f}')\n",
    "\n",
    "# Nos quedamos con el mejor modelo para ver las métricas\n",
    "mejor_modelo = random_search.best_estimator_\n",
    "\n",
    "myfunc.verbose(\"Fin entrenamiento\")"
   ]
  },
  {
   "cell_type": "markdown",
   "id": "7428cd2a",
   "metadata": {
    "papermill": {
     "duration": 0.003148,
     "end_time": "2023-10-30T09:38:42.717907",
     "exception": false,
     "start_time": "2023-10-30T09:38:42.714759",
     "status": "completed"
    },
    "tags": []
   },
   "source": [
    "#### Guardar modelo"
   ]
  },
  {
   "cell_type": "code",
   "execution_count": 8,
   "id": "965063d0",
   "metadata": {
    "execution": {
     "iopub.execute_input": "2023-10-30T09:38:42.724658Z",
     "iopub.status.busy": "2023-10-30T09:38:42.724416Z",
     "iopub.status.idle": "2023-10-30T09:38:42.853702Z",
     "shell.execute_reply": "2023-10-30T09:38:42.853107Z"
    },
    "papermill": {
     "duration": 0.134239,
     "end_time": "2023-10-30T09:38:42.855076",
     "exception": false,
     "start_time": "2023-10-30T09:38:42.720837",
     "status": "completed"
    },
    "tags": []
   },
   "outputs": [
    {
     "name": "stdout",
     "output_type": "stream",
     "text": [
      "20231030T103842 : amilcar22 : INFO : Inicio guardar fichero ../tfm_git/ejecuciones/modelos/modelo_6191_mul_m_RF_SVM.pkl\n",
      "20231030T103842 : amilcar22 : INFO : Fin guardar fichero ../tfm_git/ejecuciones/modelos/modelo_6191_mul_m_RF_SVM.pkl\n"
     ]
    }
   ],
   "source": [
    "fichero_modelo = str.replace(\"modelo_\"+str(SEMILLA).zfill(4)+\"_\"+M_TIPO+\"_\"+M_SELECT+\"_\"+M_CLASIF+\".pkl\", \" \", \"_\")\n",
    "\n",
    "myfunc.save_modelo(mejor_modelo, myfunc.MODEL_DIR, fichero_modelo)"
   ]
  },
  {
   "cell_type": "markdown",
   "id": "7494dfc3",
   "metadata": {
    "papermill": {
     "duration": 0.003347,
     "end_time": "2023-10-30T09:38:42.861912",
     "exception": false,
     "start_time": "2023-10-30T09:38:42.858565",
     "status": "completed"
    },
    "tags": []
   },
   "source": [
    "#### Ver resultados del las iteraciones hechas por RandomSearchCV"
   ]
  },
  {
   "cell_type": "code",
   "execution_count": 9,
   "id": "8375cde7",
   "metadata": {
    "execution": {
     "iopub.execute_input": "2023-10-30T09:38:42.868756Z",
     "iopub.status.busy": "2023-10-30T09:38:42.868524Z",
     "iopub.status.idle": "2023-10-30T09:38:42.874466Z",
     "shell.execute_reply": "2023-10-30T09:38:42.873988Z"
    },
    "papermill": {
     "duration": 0.010647,
     "end_time": "2023-10-30T09:38:42.875678",
     "exception": false,
     "start_time": "2023-10-30T09:38:42.865031",
     "status": "completed"
    },
    "tags": []
   },
   "outputs": [
    {
     "name": "stdout",
     "output_type": "stream",
     "text": [
      "20231030T103842 : amilcar22 : INFO : Inicio ver resultados\n",
      "Mejores Hiperparámetros: {'selector__max_features': 200, 'selector__estimator__n_estimators': 400, 'clasifier__kernel': 'rbf', 'clasifier__gamma': 0.01, 'clasifier__C': 10}\n",
      "Mejores puntuaciones: 0.8546 | Params: {'selector__max_features': 200, 'selector__estimator__n_estimators': 400, 'clasifier__kernel': 'rbf', 'clasifier__gamma': 0.01, 'clasifier__C': 10}\n",
      "Media de las puntuaciones: 0.8546 | Params: {'selector__max_features': 200, 'selector__estimator__n_estimators': 400, 'clasifier__kernel': 'rbf', 'clasifier__gamma': 0.01, 'clasifier__C': 10}\n",
      "20231030T103842 : amilcar22 : INFO : Fin resultados\n"
     ]
    }
   ],
   "source": [
    "myfunc.ver_resultados_search(random_search)"
   ]
  },
  {
   "cell_type": "markdown",
   "id": "77b38fe0",
   "metadata": {
    "papermill": {
     "duration": 0.002995,
     "end_time": "2023-10-30T09:38:42.881947",
     "exception": false,
     "start_time": "2023-10-30T09:38:42.878952",
     "status": "completed"
    },
    "tags": []
   },
   "source": [
    "#### Ver métricas del mejor modelo"
   ]
  },
  {
   "cell_type": "code",
   "execution_count": 10,
   "id": "9d26b7b0",
   "metadata": {
    "execution": {
     "iopub.execute_input": "2023-10-30T09:38:42.888941Z",
     "iopub.status.busy": "2023-10-30T09:38:42.888775Z",
     "iopub.status.idle": "2023-10-30T09:38:43.839492Z",
     "shell.execute_reply": "2023-10-30T09:38:43.839067Z"
    },
    "papermill": {
     "duration": 0.955563,
     "end_time": "2023-10-30T09:38:43.840776",
     "exception": false,
     "start_time": "2023-10-30T09:38:42.885213",
     "status": "completed"
    },
    "tags": []
   },
   "outputs": [
    {
     "name": "stdout",
     "output_type": "stream",
     "text": [
      "20231030T103842 : amilcar22 : INFO : Inicio ver métricas multiclase\n"
     ]
    },
    {
     "name": "stdout",
     "output_type": "stream",
     "text": [
      "              precision    recall  f1-score   support\n",
      "\n",
      "           0       0.29      0.12      0.17        16\n",
      "           1       0.75      0.60      0.67        15\n",
      "           2       0.62      0.45      0.53        11\n",
      "           3       0.17      0.60      0.26         5\n",
      "           4       0.56      0.69      0.62        13\n",
      "           5       0.64      0.78      0.70         9\n",
      "           6       0.67      0.56      0.61        18\n",
      "\n",
      "    accuracy                           0.52        87\n",
      "   macro avg       0.53      0.54      0.51        87\n",
      "weighted avg       0.56      0.52      0.52        87\n",
      "\n",
      "\n",
      "\n",
      "           Exactitud: 0.517241\n",
      "   Precisión (media): 0.527559\n",
      "      Recall (media): 0.543598\n",
      "    F1-score (media): 0.507788\n",
      "\n",
      "\n",
      "AUC para el tipo de cáncer 0-Control.... 0.5616\n",
      "AUC para el tipo de cáncer 1-Bladder.... 0.9241\n",
      "AUC para el tipo de cáncer 2-Breast..... 0.7093\n",
      "AUC para el tipo de cáncer 3-Colorectal. 0.8610\n",
      "AUC para el tipo de cáncer 4-Kidney..... 0.8306\n",
      "AUC para el tipo de cáncer 5-Lung....... 0.9217\n",
      "AUC para el tipo de cáncer 6-Prostate... 0.8865\n",
      "\n",
      "Media de AUC: 0.8135\n"
     ]
    },
    {
     "data": {
      "image/png": "[encoded data removed]",
      "text/plain": [
       "<Figure size 1000x600 with 1 Axes>"
      ]
     },
     "metadata": {},
     "output_type": "display_data"
    },
    {
     "name": "stdout",
     "output_type": "stream",
     "text": [
      "\n",
      "\n"
     ]
    },
    {
     "data": {
      "image/png": "[encoded data removed]",
      "text/plain": [
       "<Figure size 800x400 with 2 Axes>"
      ]
     },
     "metadata": {},
     "output_type": "display_data"
    },
    {
     "name": "stdout",
     "output_type": "stream",
     "text": [
      "\n",
      "\n",
      "Puntuación Jaccard para el cáncer tipo 0-Control.... 0.0952\n",
      "Puntuación Jaccard para el cáncer tipo 1-Bladder.... 0.5000\n",
      "Puntuación Jaccard para el cáncer tipo 2-Breast..... 0.3571\n",
      "Puntuación Jaccard para el cáncer tipo 3-Colorectal. 0.1500\n",
      "Puntuación Jaccard para el cáncer tipo 4-Kidney..... 0.4500\n",
      "Puntuación Jaccard para el cáncer tipo 5-Lung....... 0.5385\n",
      "Puntuación Jaccard para el cáncer tipo 6-Prostate... 0.4348\n",
      "\n",
      "Media de la puntuación de Jaccard: 0.3608\n"
     ]
    }
   ],
   "source": [
    "if M_TIPO.startswith(\"bin\"):\n",
    "    myfunc.ver_metricas(mejor_modelo, X_test, y_test)\n",
    "else:\n",
    "    myfunc.ver_metricas_multi(mejor_modelo, X_test, y_test)\n"
   ]
  },
  {
   "cell_type": "markdown",
   "id": "c9e6c64d",
   "metadata": {
    "papermill": {
     "duration": 0.004074,
     "end_time": "2023-10-30T09:38:43.849603",
     "exception": false,
     "start_time": "2023-10-30T09:38:43.845529",
     "status": "completed"
    },
    "tags": []
   },
   "source": [
    "#### Finalización del notebook"
   ]
  },
  {
   "cell_type": "code",
   "execution_count": 11,
   "id": "8ef6be0e",
   "metadata": {
    "execution": {
     "iopub.execute_input": "2023-10-30T09:38:43.858854Z",
     "iopub.status.busy": "2023-10-30T09:38:43.858650Z",
     "iopub.status.idle": "2023-10-30T09:38:43.862129Z",
     "shell.execute_reply": "2023-10-30T09:38:43.861660Z"
    },
    "papermill": {
     "duration": 0.009299,
     "end_time": "2023-10-30T09:38:43.863236",
     "exception": false,
     "start_time": "2023-10-30T09:38:43.853937",
     "status": "completed"
    },
    "tags": []
   },
   "outputs": [
    {
     "name": "stdout",
     "output_type": "stream",
     "text": [
      "20231030T103843 : amilcar22 : INFO : Notebook ha tardado 19 seconds\n"
     ]
    }
   ],
   "source": [
    "end_time = datetime.datetime.now()\n",
    "total_time = end_time - start_time\n",
    "myfunc.verbose(f\"Notebook ha tardado {total_time.seconds} seconds\")"
   ]
  },
  {
   "cell_type": "markdown",
   "id": "393b1490",
   "metadata": {
    "papermill": {
     "duration": 0.004086,
     "end_time": "2023-10-30T09:38:43.871788",
     "exception": false,
     "start_time": "2023-10-30T09:38:43.867702",
     "status": "completed"
    },
    "tags": []
   },
   "source": [
    "#### Guardar métricas"
   ]
  },
  {
   "cell_type": "code",
   "execution_count": 12,
   "id": "8b78f21f",
   "metadata": {
    "execution": {
     "iopub.execute_input": "2023-10-30T09:38:43.880857Z",
     "iopub.status.busy": "2023-10-30T09:38:43.880659Z",
     "iopub.status.idle": "2023-10-30T09:38:44.681663Z",
     "shell.execute_reply": "2023-10-30T09:38:44.681129Z"
    },
    "papermill": {
     "duration": 0.806989,
     "end_time": "2023-10-30T09:38:44.682949",
     "exception": false,
     "start_time": "2023-10-30T09:38:43.875960",
     "status": "completed"
    },
    "tags": []
   },
   "outputs": [
    {
     "name": "stdout",
     "output_type": "stream",
     "text": [
      "20231030T103844 : amilcar22 : INFO : Inicio guardar métricas multiclase\n",
      "20231030T103844 : amilcar22 : INFO : Inicio leer fichero ../tfm_git/ejecuciones/metricas/metricas_6191.csv\n",
      "20231030T103844 : amilcar22 : INFO : Fin leer fichero ../tfm_git/ejecuciones/metricas/metricas_6191.csv\n"
     ]
    },
    {
     "name": "stdout",
     "output_type": "stream",
     "text": [
      "20231030T103844 : amilcar22 : INFO : Inicio guardar fichero ../tfm_git/ejecuciones/metricas/metricas_6191.csv\n",
      "20231030T103844 : amilcar22 : INFO : Fichero borrado ../tfm_git/ejecuciones/metricas/metricas_6191.csv\n",
      "20231030T103844 : amilcar22 : INFO : Fin guardar fichero ../tfm_git/ejecuciones/metricas/metricas_6191.csv\n",
      "20231030T103844 : amilcar22 : INFO : Fin guardar métricas multiclase\n",
      "20231030T103844 : amilcar22 : INFO : Inicio leer fichero ../tfm_git/ejecuciones/metricas/metricas_6191.csv\n",
      "20231030T103844 : amilcar22 : INFO : Fin leer fichero ../tfm_git/ejecuciones/metricas/metricas_6191.csv\n"
     ]
    },
    {
     "data": {
      "text/html": [
       "<div>\n",
       "<style scoped>\n",
       "    .dataframe tbody tr th:only-of-type {\n",
       "        vertical-align: middle;\n",
       "    }\n",
       "\n",
       "    .dataframe tbody tr th {\n",
       "        vertical-align: top;\n",
       "    }\n",
       "\n",
       "    .dataframe thead th {\n",
       "        text-align: right;\n",
       "    }\n",
       "</style>\n",
       "<table border=\"1\" class=\"dataframe\">\n",
       "  <thead>\n",
       "    <tr style=\"text-align: right;\">\n",
       "      <th></th>\n",
       "      <th>tipo</th>\n",
       "      <th>select</th>\n",
       "      <th>clasific</th>\n",
       "      <th>semilla</th>\n",
       "      <th>accuracy</th>\n",
       "      <th>precision</th>\n",
       "      <th>recall</th>\n",
       "      <th>f1_score</th>\n",
       "      <th>roc_auc</th>\n",
       "      <th>hostname</th>\n",
       "      <th>total_time_sec</th>\n",
       "      <th>datetime</th>\n",
       "      <th>fichero_modelo</th>\n",
       "      <th>params</th>\n",
       "      <th>shape</th>\n",
       "      <th>features</th>\n",
       "      <th>roc_auc_ovr</th>\n",
       "      <th>indices_auc</th>\n",
       "      <th>indices_jaccard</th>\n",
       "    </tr>\n",
       "  </thead>\n",
       "  <tbody>\n",
       "    <tr>\n",
       "      <th>0</th>\n",
       "      <td>mul_m</td>\n",
       "      <td>RF</td>\n",
       "      <td>SVM</td>\n",
       "      <td>6191</td>\n",
       "      <td>0.517241</td>\n",
       "      <td>0.527559</td>\n",
       "      <td>0.543598</td>\n",
       "      <td>0.507788</td>\n",
       "      <td>NaN</td>\n",
       "      <td>amilcar22</td>\n",
       "      <td>19</td>\n",
       "      <td>2023-10-30 10:38:44.651597</td>\n",
       "      <td>modelo_6191_mul_m_RF_SVM.pkl</td>\n",
       "      <td>{'selector__max_features': 200, 'selector__est...</td>\n",
       "      <td>X_test:(87, 18875)</td>\n",
       "      <td>['ENSG00000000938.13', 'ENSG00000005381.9', 'E...</td>\n",
       "      <td>0.813527</td>\n",
       "      <td>[0.5616197183098591, 0.924074074074074, 0.7093...</td>\n",
       "      <td>[0.09523809523809523, 0.5, 0.35714285714285715...</td>\n",
       "    </tr>\n",
       "    <tr>\n",
       "      <th>0</th>\n",
       "      <td>mul_m</td>\n",
       "      <td>RF</td>\n",
       "      <td>RF</td>\n",
       "      <td>6191</td>\n",
       "      <td>0.471264</td>\n",
       "      <td>0.407831</td>\n",
       "      <td>0.506527</td>\n",
       "      <td>0.441072</td>\n",
       "      <td>NaN</td>\n",
       "      <td>amilcar22</td>\n",
       "      <td>26</td>\n",
       "      <td>2023-10-30 10:38:18.181731</td>\n",
       "      <td>modelo_6191_mul_m_RF_RF.pkl</td>\n",
       "      <td>{'selector__max_features': 500, 'selector__est...</td>\n",
       "      <td>X_test:(87, 18875)</td>\n",
       "      <td>['ENSG00000000938.13', 'ENSG00000002726.21', '...</td>\n",
       "      <td>0.818092</td>\n",
       "      <td>[0.5959507042253521, 0.8740740740740741, 0.797...</td>\n",
       "      <td>[0.0, 0.5714285714285714, 0.23529411764705882,...</td>\n",
       "    </tr>\n",
       "    <tr>\n",
       "      <th>0</th>\n",
       "      <td>mul_m</td>\n",
       "      <td>RF</td>\n",
       "      <td>LR_L2</td>\n",
       "      <td>6191</td>\n",
       "      <td>0.574713</td>\n",
       "      <td>0.586013</td>\n",
       "      <td>0.609485</td>\n",
       "      <td>0.575142</td>\n",
       "      <td>NaN</td>\n",
       "      <td>amilcar22</td>\n",
       "      <td>55</td>\n",
       "      <td>2023-10-30 10:37:44.968517</td>\n",
       "      <td>modelo_6191_mul_m_RF_LR_L2.pkl</td>\n",
       "      <td>{'selector__max_features': 1000, 'selector__es...</td>\n",
       "      <td>X_test:(87, 18875)</td>\n",
       "      <td>['ENSG00000000938.13', 'ENSG00000002587.10', '...</td>\n",
       "      <td>0.855568</td>\n",
       "      <td>[0.766725352112676, 0.9009259259259259, 0.7488...</td>\n",
       "      <td>[0.19047619047619047, 0.625, 0.285714285714285...</td>\n",
       "    </tr>\n",
       "  </tbody>\n",
       "</table>\n",
       "</div>"
      ],
      "text/plain": [
       "    tipo select clasific  semilla  accuracy  precision    recall  f1_score  \\\n",
       "0  mul_m     RF      SVM     6191  0.517241   0.527559  0.543598  0.507788   \n",
       "0  mul_m     RF       RF     6191  0.471264   0.407831  0.506527  0.441072   \n",
       "0  mul_m     RF    LR_L2     6191  0.574713   0.586013  0.609485  0.575142   \n",
       "\n",
       "   roc_auc   hostname  total_time_sec                    datetime  \\\n",
       "0      NaN  amilcar22              19  2023-10-30 10:38:44.651597   \n",
       "0      NaN  amilcar22              26  2023-10-30 10:38:18.181731   \n",
       "0      NaN  amilcar22              55  2023-10-30 10:37:44.968517   \n",
       "\n",
       "                   fichero_modelo  \\\n",
       "0    modelo_6191_mul_m_RF_SVM.pkl   \n",
       "0     modelo_6191_mul_m_RF_RF.pkl   \n",
       "0  modelo_6191_mul_m_RF_LR_L2.pkl   \n",
       "\n",
       "                                              params               shape  \\\n",
       "0  {'selector__max_features': 200, 'selector__est...  X_test:(87, 18875)   \n",
       "0  {'selector__max_features': 500, 'selector__est...  X_test:(87, 18875)   \n",
       "0  {'selector__max_features': 1000, 'selector__es...  X_test:(87, 18875)   \n",
       "\n",
       "                                            features  roc_auc_ovr  \\\n",
       "0  ['ENSG00000000938.13', 'ENSG00000005381.9', 'E...     0.813527   \n",
       "0  ['ENSG00000000938.13', 'ENSG00000002726.21', '...     0.818092   \n",
       "0  ['ENSG00000000938.13', 'ENSG00000002587.10', '...     0.855568   \n",
       "\n",
       "                                         indices_auc  \\\n",
       "0  [0.5616197183098591, 0.924074074074074, 0.7093...   \n",
       "0  [0.5959507042253521, 0.8740740740740741, 0.797...   \n",
       "0  [0.766725352112676, 0.9009259259259259, 0.7488...   \n",
       "\n",
       "                                     indices_jaccard  \n",
       "0  [0.09523809523809523, 0.5, 0.35714285714285715...  \n",
       "0  [0.0, 0.5714285714285714, 0.23529411764705882,...  \n",
       "0  [0.19047619047619047, 0.625, 0.285714285714285...  "
      ]
     },
     "metadata": {},
     "output_type": "display_data"
    }
   ],
   "source": [
    "if M_TIPO.startswith(\"bin\"):\n",
    "    myfunc.save_metricas_to_csv(random_search, X_test, y_test, M_TIPO, M_SELECT, M_CLASIF, total_time, SEMILLA, myfunc.MET_DIR, M_FICHERO, fichero_modelo)\n",
    "else:\n",
    "    myfunc.save_metricas_multi_to_csv(random_search, X_test, y_test, M_TIPO, M_SELECT, M_CLASIF, total_time, SEMILLA, myfunc.MET_DIR, M_FICHERO, fichero_modelo)\n",
    "\n",
    "df1=myfunc.read_metricas_to_df(myfunc.MET_DIR,M_FICHERO)\n",
    "\n",
    "display(df1.sort_values(\"datetime\", ascending=False)[:3])\n"
   ]
  },
  {
   "cell_type": "markdown",
   "id": "f774a519",
   "metadata": {
    "papermill": {
     "duration": 0.004834,
     "end_time": "2023-10-30T09:38:44.693171",
     "exception": false,
     "start_time": "2023-10-30T09:38:44.688337",
     "status": "completed"
    },
    "tags": []
   },
   "source": [
    "#### Guardar resultados"
   ]
  },
  {
   "cell_type": "code",
   "execution_count": 13,
   "id": "a5eddd03",
   "metadata": {
    "execution": {
     "iopub.execute_input": "2023-10-30T09:38:44.702603Z",
     "iopub.status.busy": "2023-10-30T09:38:44.702398Z",
     "iopub.status.idle": "2023-10-30T09:38:44.710923Z",
     "shell.execute_reply": "2023-10-30T09:38:44.710379Z"
    },
    "papermill": {
     "duration": 0.014732,
     "end_time": "2023-10-30T09:38:44.712198",
     "exception": false,
     "start_time": "2023-10-30T09:38:44.697466",
     "status": "completed"
    },
    "tags": []
   },
   "outputs": [
    {
     "name": "stdout",
     "output_type": "stream",
     "text": [
      "20231030T103844 : amilcar22 : INFO : Inicio guardar resultados\n",
      "20231030T103844 : amilcar22 : INFO : Inicio guardar fichero ../tfm_git/ejecuciones/metricas/resultados_6191_mul_m-RF-SVM.csv\n",
      "20231030T103844 : amilcar22 : INFO : Fin guardar fichero ../tfm_git/ejecuciones/metricas/resultados_6191_mul_m-RF-SVM.csv\n",
      "20231030T103844 : amilcar22 : INFO : Fin guardar resultados\n"
     ]
    }
   ],
   "source": [
    "fichero_resultados=R_FICHERO+\"_\"+M_TIPO+\"-\"+M_SELECT+\"-\"+M_CLASIF+\".csv\"\n",
    "myfunc.save_resultados_to_csv(M_TIPO, M_SELECT, M_CLASIF,  random_search, myfunc.MET_DIR, fichero_resultados)\n"
   ]
  }
 ],
 "metadata": {
  "kernelspec": {
   "display_name": "Python 3 (ipykernel)",
   "language": "python",
   "name": "python3"
  },
  "language_info": {
   "codemirror_mode": {
    "name": "ipython",
    "version": 3
   },
   "file_extension": ".py",
   "mimetype": "text/x-python",
   "name": "python",
   "nbconvert_exporter": "python",
   "pygments_lexer": "ipython3",
   "version": "3.10.12"
  },
  "papermill": {
   "default_parameters": {},
   "duration": 24.96507,
   "end_time": "2023-10-30T09:38:47.333983",
   "environment_variables": {},
   "exception": null,
   "input_path": "03_entrenamiento.ipynb",
   "output_path": "ejecuciones/training/03_entrenamiento.20231030T103821.param_0000_6191_mul_m_RF_SVM.output.ipynb",
   "parameters": {
    "MAX_ITERS": 500,
    "M_CLASIF": "SVM",
    "M_FICHERO": "metricas_6191",
    "M_SELECT": "RF",
    "M_TIPO": "mul_m",
    "PRE_DATA_FILE": "rows_transpose_norm_by_gene_id_with_target_num_",
    "P_FICHERO": "param_0000_6191_mul_m_RF_SVM.yaml",
    "R_FICHERO": "resultados_6191",
    "SCORING": "roc_auc_ovr",
    "SEMILLA": 6191,
    "eval_clasifier": "SVC(probability=True, random_state=SEMILLA)",
    "eval_selector": "SelectFromModel(estimator=RandomForestClassifier(random_state=SEMILLA), threshold=-np.inf)",
    "param_distributions": {
     "clasifier__C": [
      10
     ],
     "clasifier__gamma": [
      0.01
     ],
     "clasifier__kernel": [
      "rbf"
     ],
     "selector__estimator__n_estimators": [
      400
     ],
     "selector__max_features": [
      200
     ]
    }
   },
   "start_time": "2023-10-30T09:38:22.368913",
   "version": "2.4.0"
  }
 },
 "nbformat": 4,
 "nbformat_minor": 5
}