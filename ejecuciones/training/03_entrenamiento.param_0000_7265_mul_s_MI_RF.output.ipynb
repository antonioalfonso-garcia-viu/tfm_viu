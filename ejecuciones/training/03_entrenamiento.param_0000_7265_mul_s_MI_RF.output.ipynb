{
 "cells": [
  {
   "cell_type": "markdown",
   "id": "1daf20b7",
   "metadata": {
    "papermill": {
     "duration": 0.005655,
     "end_time": "2023-10-30T16:31:38.621300",
     "exception": false,
     "start_time": "2023-10-30T16:31:38.615645",
     "status": "completed"
    },
    "tags": []
   },
   "source": [
    "##### Inicio"
   ]
  },
  {
   "cell_type": "markdown",
   "id": "5150d301",
   "metadata": {
    "papermill": {
     "duration": 0.003379,
     "end_time": "2023-10-30T16:31:38.628459",
     "exception": false,
     "start_time": "2023-10-30T16:31:38.625080",
     "status": "completed"
    },
    "tags": []
   },
   "source": [
    "#### Carga de datos"
   ]
  },
  {
   "cell_type": "code",
   "execution_count": 1,
   "id": "562ef5da",
   "metadata": {
    "execution": {
     "iopub.execute_input": "2023-10-30T16:31:38.636906Z",
     "iopub.status.busy": "2023-10-30T16:31:38.636162Z",
     "iopub.status.idle": "2023-10-30T16:31:39.760935Z",
     "shell.execute_reply": "2023-10-30T16:31:39.760331Z"
    },
    "papermill": {
     "duration": 1.130618,
     "end_time": "2023-10-30T16:31:39.762452",
     "exception": false,
     "start_time": "2023-10-30T16:31:38.631834",
     "status": "completed"
    },
    "tags": []
   },
   "outputs": [
    {
     "name": "stdout",
     "output_type": "stream",
     "text": [
      "CPU_COUNT: 16; NODE: enderlab; sys.version: 3.10.11 (main, May 16 2023, 00:28:57) [GCC 11.2.0]\n",
      "LOKY_MAX_CPU_COUNT is not set.\n",
      "OMP_NUM_THREADS is not set.\n"
     ]
    }
   ],
   "source": [
    "import os\n",
    "import numpy as np\n",
    "import pandas as pd\n",
    "import datetime\n",
    "import sklearn\n",
    "import logging\n",
    "import warnings\n",
    "\n",
    "from sklearn.pipeline import Pipeline\n",
    "from sklearn.model_selection import RandomizedSearchCV, KFold, cross_val_score, train_test_split\n",
    "from sklearn.metrics import accuracy_score, confusion_matrix, classification_report, roc_auc_score\n",
    "\n",
    "#  cargar algoritmos para aprendizaje supervisado\n",
    "from sklearn.feature_selection import SelectKBest, f_classif, SelectFromModel, mutual_info_classif\n",
    "from sklearn.svm import SVC\n",
    "from sklearn.ensemble import RandomForestClassifier\n",
    "from sklearn.linear_model import LogisticRegression,LogisticRegressionCV\n",
    "\n",
    "# importar fichero con utilidades propias\n",
    "from commons import myfunctions as myfunc\n"
   ]
  },
  {
   "cell_type": "markdown",
   "id": "262a932d",
   "metadata": {
    "papermill": {
     "duration": 0.003666,
     "end_time": "2023-10-30T16:31:39.770155",
     "exception": false,
     "start_time": "2023-10-30T16:31:39.766489",
     "status": "completed"
    },
    "tags": []
   },
   "source": [
    "#### Parámetros a utilizar en el entrenamiento.\n",
    "\n",
    "Se indican los 3 algoritmos de *selección de características* (eval_selector_xxx) y los 3 algoritmos para la _clasificación_ (eval_clasifier_xxx)\n",
    "\n",
    "En *param_distributions* se indicar los parámetros que utilizan los algoritmos en la función RandomSearchCV.\n",
    "\n",
    "Esta celda tiene la etiqueta **parameters** que servirá para poder lanzar los entrenamientos con la utilidad **papermill** pasándole un fichero con los parámetros. Los nuevos parámetros se situarán tras esta celda para tener prevalencia."
   ]
  },
  {
   "cell_type": "code",
   "execution_count": 2,
   "id": "b16568bf",
   "metadata": {
    "execution": {
     "iopub.execute_input": "2023-10-30T16:31:39.778510Z",
     "iopub.status.busy": "2023-10-30T16:31:39.778166Z",
     "iopub.status.idle": "2023-10-30T16:31:39.786606Z",
     "shell.execute_reply": "2023-10-30T16:31:39.786058Z"
    },
    "papermill": {
     "duration": 0.014294,
     "end_time": "2023-10-30T16:31:39.787865",
     "exception": false,
     "start_time": "2023-10-30T16:31:39.773571",
     "status": "completed"
    },
    "tags": [
     "parameters"
    ]
   },
   "outputs": [
    {
     "name": "stdout",
     "output_type": "stream",
     "text": [
      "20231030T173139 : enderlab : INFO : Utilizando parámetros de mul_m\n"
     ]
    }
   ],
   "source": [
    "#  Parametros para el entrenamiento\n",
    "\n",
    "SEMILLA=        42\n",
    "M_TIPO=         \"mul_m\"\n",
    "M_SELECT=       \"MI\"\n",
    "M_CLASIF=       \"SVM\"\n",
    "R_FICHERO=      \"resultados\"\n",
    "M_FICHERO=      \"metricas\"\n",
    "PRE_DATA_FILE=  \"rows_transpose_norm_by_gene_id_with_target_num_\"\n",
    "SCORING=        \"roc_auc_ovr\" \n",
    "MAX_ITERS=      100\n",
    "\n",
    "def mutual_info_classif_state(X, y):\n",
    "    return mutual_info_classif(X, y, random_state=SEMILLA)\n",
    "\n",
    "eval_selector_mi = \"SelectKBest(score_func=mutual_info_classif_state)\"\n",
    "eval_selector_rf=  \"SelectFromModel(estimator=RandomForestClassifier(random_state=SEMILLA), threshold=-np.inf)\"\n",
    "eval_selector_anova=  \"SelectKBest(score_func=f_classif)\"\n",
    "\n",
    "eval_clasifier_svm= \"SVC(probability=True, random_state=SEMILLA)\"\n",
    "eval_clasifier_rf= \"RandomForestClassifier(random_state=SEMILLA)\"\n",
    "eval_clasifier_lr= \"LogisticRegressionCV(random_state=SEMILLA)\"\n",
    "\n",
    "if M_TIPO.startswith(\"bin_m\"):\n",
    "    myfunc.verbose(f\"Utilizando parámetros de {M_TIPO}\")\n",
    "    eval_selector = eval_selector_mi\n",
    "    eval_clasifier = eval_clasifier_svm\n",
    "\n",
    "    SEMILLA = 6578\n",
    "    M_SELECT = \"MI\"\n",
    "    M_CLASIF = \"SVM\"\n",
    "    param_distributions = {'selector__k': [1000], \n",
    "         'clasifier__kernel': ['rbf'], 'clasifier__gamma': [0.01], 'clasifier__C': [100]}\n",
    "elif M_TIPO.startswith(\"bin_s\"):\n",
    "    myfunc.verbose(f\"Utilizando parámetros de {M_TIPO}\")\n",
    "    eval_selector = eval_selector_rf\n",
    "    eval_clasifier = eval_clasifier_lr\n",
    "\n",
    "    SEMILLA = 6191\n",
    "    M_SELECT = \"RF\"\n",
    "    M_CLASIF = \"LR_L2\"\n",
    "    param_distributions = {'selector__max_features': [1000], 'selector__estimator__n_estimators': [200], \n",
    "        'clasifier__solver': ['lbfgs'], 'clasifier__penalty': ['l2'], 'clasifier__max_iter': [10000]}\n",
    "\n",
    "elif M_TIPO.startswith(\"mul_m\"):\n",
    "    myfunc.verbose(f\"Utilizando parámetros de {M_TIPO}\")\n",
    " \n",
    "    eval_selector = eval_selector_rf\n",
    "    eval_clasifier = eval_clasifier_lr\n",
    "\n",
    "    SEMILLA = 6191\n",
    "    M_SELECT = \"RF\"\n",
    "    M_CLASIF = \"LR_L2\"\n",
    "    param_distributions = {'selector__max_features': [1000], 'selector__estimator__n_estimators': [400], \n",
    "        'clasifier__solver': ['lbfgs'], 'clasifier__penalty': ['l2'], 'clasifier__max_iter': [10000]}\n",
    "\n",
    "else:\n",
    "    # M_TIPO.startswith(\"mul_s\"):\n",
    "    myfunc.verbose(f\"Utilizando parámetros de {M_TIPO}\")\n",
    "    eval_selector = eval_selector_anova\n",
    "    eval_clasifier = eval_clasifier_lr\n",
    "\n",
    "    SEMILLA = 1860\n",
    "    M_SELECT = \"ANOVA\"\n",
    "    M_CLASIF = \"LR_L2\"\n",
    "    param_distributions = {'selector__k': [1000], \n",
    "        'clasifier__solver': ['saga'], 'clasifier__penalty': ['l2'], 'clasifier__max_iter': [10000]}\n",
    "\n"
   ]
  },
  {
   "cell_type": "code",
   "execution_count": 3,
   "id": "74346d48",
   "metadata": {
    "execution": {
     "iopub.execute_input": "2023-10-30T16:31:39.796152Z",
     "iopub.status.busy": "2023-10-30T16:31:39.795601Z",
     "iopub.status.idle": "2023-10-30T16:31:39.799718Z",
     "shell.execute_reply": "2023-10-30T16:31:39.799198Z"
    },
    "papermill": {
     "duration": 0.009517,
     "end_time": "2023-10-30T16:31:39.800956",
     "exception": false,
     "start_time": "2023-10-30T16:31:39.791439",
     "status": "completed"
    },
    "tags": [
     "injected-parameters"
    ]
   },
   "outputs": [],
   "source": [
    "# Parameters\n",
    "M_TIPO = \"mul_s\"\n",
    "M_SELECT = \"MI\"\n",
    "M_CLASIF = \"RF\"\n",
    "P_FICHERO = \"param_0000_7265_mul_s_MI_RF.yaml\"\n",
    "R_FICHERO = \"resultados_7265\"\n",
    "M_FICHERO = \"metricas_7265\"\n",
    "PRE_DATA_FILE = \"rows_transpose_norm_by_gene_id_with_target_num_\"\n",
    "SCORING = \"roc_auc_ovr\"\n",
    "SEMILLA = 7265\n",
    "MAX_ITERS = 500\n",
    "eval_selector = \"SelectKBest(score_func=mutual_info_classif_state)\"\n",
    "eval_clasifier = \"RandomForestClassifier(random_state=SEMILLA)\"\n",
    "param_distributions = {\n",
    "    \"selector__k\": [500],\n",
    "    \"clasifier__n_estimators\": [400],\n",
    "    \"clasifier__min_samples_split\": [10],\n",
    "    \"clasifier__min_samples_leaf\": [5],\n",
    "    \"clasifier__max_features\": [500],\n",
    "    \"clasifier__max_depth\": [30],\n",
    "    \"clasifier__bootstrap\": [True],\n",
    "}\n"
   ]
  },
  {
   "cell_type": "code",
   "execution_count": 4,
   "id": "5928c8d2",
   "metadata": {
    "execution": {
     "iopub.execute_input": "2023-10-30T16:31:39.809325Z",
     "iopub.status.busy": "2023-10-30T16:31:39.808934Z",
     "iopub.status.idle": "2023-10-30T16:31:39.812118Z",
     "shell.execute_reply": "2023-10-30T16:31:39.811622Z"
    },
    "papermill": {
     "duration": 0.00877,
     "end_time": "2023-10-30T16:31:39.813327",
     "exception": false,
     "start_time": "2023-10-30T16:31:39.804557",
     "status": "completed"
    },
    "tags": []
   },
   "outputs": [],
   "source": [
    "DATA_FILE = PRE_DATA_FILE + M_TIPO\n",
    "\n",
    "# si viene \"None\" en el parámetro max_depth, se le quitan las comillas para que no sea entendido por el algoritmo como un texto\n",
    "if \"clasifier__max_depth\" in param_distributions:\n",
    "    param_distributions['clasifier__max_depth'] = [None if x == 'None' else x for x in param_distributions['clasifier__max_depth']]"
   ]
  },
  {
   "cell_type": "markdown",
   "id": "974f4c1c",
   "metadata": {
    "papermill": {
     "duration": 0.003675,
     "end_time": "2023-10-30T16:31:39.820554",
     "exception": false,
     "start_time": "2023-10-30T16:31:39.816879",
     "status": "completed"
    },
    "tags": []
   },
   "source": [
    "Asignar los algoritmos que se utilizarán en la función RandomSearchCV"
   ]
  },
  {
   "cell_type": "code",
   "execution_count": 5,
   "id": "4766048c",
   "metadata": {
    "execution": {
     "iopub.execute_input": "2023-10-30T16:31:39.828727Z",
     "iopub.status.busy": "2023-10-30T16:31:39.828340Z",
     "iopub.status.idle": "2023-10-30T16:31:39.831176Z",
     "shell.execute_reply": "2023-10-30T16:31:39.830663Z"
    },
    "papermill": {
     "duration": 0.008187,
     "end_time": "2023-10-30T16:31:39.832401",
     "exception": false,
     "start_time": "2023-10-30T16:31:39.824214",
     "status": "completed"
    },
    "tags": []
   },
   "outputs": [],
   "source": [
    "algor_selector=eval(eval_selector)\n",
    "algor_clasifier=eval(eval_clasifier)"
   ]
  },
  {
   "cell_type": "markdown",
   "id": "3551e8d6",
   "metadata": {
    "papermill": {
     "duration": 0.00362,
     "end_time": "2023-10-30T16:31:39.839573",
     "exception": false,
     "start_time": "2023-10-30T16:31:39.835953",
     "status": "completed"
    },
    "tags": []
   },
   "source": [
    "#### Comprobar el entorno y leer fichero de muestras"
   ]
  },
  {
   "cell_type": "code",
   "execution_count": 6,
   "id": "fba6e627",
   "metadata": {
    "execution": {
     "iopub.execute_input": "2023-10-30T16:31:39.847854Z",
     "iopub.status.busy": "2023-10-30T16:31:39.847466Z",
     "iopub.status.idle": "2023-10-30T16:31:40.030111Z",
     "shell.execute_reply": "2023-10-30T16:31:40.029516Z"
    },
    "papermill": {
     "duration": 0.188112,
     "end_time": "2023-10-30T16:31:40.031356",
     "exception": false,
     "start_time": "2023-10-30T16:31:39.843244",
     "status": "completed"
    },
    "tags": []
   },
   "outputs": [
    {
     "name": "stdout",
     "output_type": "stream",
     "text": [
      "20231030T173139 : enderlab : INFO : Encontrada carpeta DATA_DIR=../tfm_git/datos\n",
      "20231030T173139 : enderlab : INFO : Encontrada carpeta CFDNA_DIR=../tfm_git/datos/cfDNA_5hmC\n",
      "20231030T173139 : enderlab : INFO : Encontrada carpeta GENCODE_DIR=../tfm_git/datos/gencode\n",
      "20231030T173139 : enderlab : INFO : Encontrada carpeta H5_DIR=../tfm_git/datos/h5\n",
      "20231030T173139 : enderlab : INFO : Encontrada carpeta LOG_DIR=../tfm_git/datos/logs\n",
      "20231030T173139 : enderlab : INFO : Encontrada carpeta CSV_DIR=../tfm_git/datos/csv\n",
      "20231030T173139 : enderlab : INFO : Encontrada carpeta MODEL_DIR=../tfm_git/ejecuciones/modelos\n",
      "20231030T173139 : enderlab : INFO : Encontrada carpeta EXEC_DIR=../tfm_git/ejecuciones\n",
      "20231030T173139 : enderlab : INFO : Encontrada carpeta MET_DIR=../tfm_git/ejecuciones/metricas\n",
      "20231030T173139 : enderlab : INFO : Inicio leer fichero h5 ../tfm_git/datos/h5/rows_transpose_norm_by_gene_id_with_target_num_mul_s.h5\n",
      "20231030T173139 : enderlab : INFO : Leyendo clave /df\n"
     ]
    },
    {
     "name": "stdout",
     "output_type": "stream",
     "text": [
      "20231030T173139 : enderlab : INFO : Tamaño (259, 18876)\n",
      "20231030T173139 : enderlab : INFO : Fin leer fichero h5 ../tfm_git/datos/h5/rows_transpose_norm_by_gene_id_with_target_num_mul_s.h5\n"
     ]
    },
    {
     "data": {
      "text/plain": [
       "target\n",
       "0    37\n",
       "1    37\n",
       "2    37\n",
       "3    37\n",
       "4    37\n",
       "5    37\n",
       "6    37\n",
       "dtype: int64"
      ]
     },
     "metadata": {},
     "output_type": "display_data"
    },
    {
     "name": "stdout",
     "output_type": "stream",
     "text": [
      "Shape df: (259, 18876)\n"
     ]
    },
    {
     "name": "stdout",
     "output_type": "stream",
     "text": [
      "Shape X_train: (207, 18875)\n",
      "Shape X_test: (52, 18875)\n"
     ]
    }
   ],
   "source": [
    "start_time = datetime.datetime.now()\n",
    "\n",
    "myfunc.reset_vars()\n",
    "\n",
    "myfunc.NOTEBK_FILENAME = myfunc.get_nb_name()\n",
    "\n",
    "myfunc.check_enviroment(myfunc.DATA_DIR, myfunc.CFDNA_DIR, myfunc.GENCODE_DIR, myfunc.H5_DIR, myfunc.LOG_DIR, myfunc.CSV_DIR, myfunc.MODEL_DIR, myfunc.EXEC_DIR, myfunc.MET_DIR)\n",
    "\n",
    "# Leer fichero con las muestras\n",
    "df_t = myfunc.read_h5_to_df(DATA_FILE, myfunc.H5_DIR)\n",
    "display(df_t.groupby(\"target\").size())\n",
    "print(\"Shape df:\",df_t.shape)\n",
    "\n",
    "# Separar caracteristicas/genes de las etiquetas/tipos de cáncer\n",
    "X = df_t.iloc[:, :-1]  # Todas las columnas excepto la última\n",
    "y = df_t.iloc[:, -1]  # La última columna contiene los identificadores de los tipos de cáncer\n",
    "\n",
    "#  Crear el conjunto de datos de entrenamiento y de pruebas, y se fija la semilla para siempre coger el mismo juego de muestras\n",
    "X_train, X_test, y_train, y_test = train_test_split(X, y, test_size=0.2, shuffle=True, random_state=42)\n",
    "print(\"Shape X_train:\",X_train.shape)\n",
    "print(\"Shape X_test:\",X_test.shape)\n"
   ]
  },
  {
   "cell_type": "markdown",
   "id": "86bc7572",
   "metadata": {
    "papermill": {
     "duration": 0.004095,
     "end_time": "2023-10-30T16:31:40.040714",
     "exception": false,
     "start_time": "2023-10-30T16:31:40.036619",
     "status": "completed"
    },
    "tags": []
   },
   "source": [
    "#### Selección de características y clasificación."
   ]
  },
  {
   "cell_type": "code",
   "execution_count": 7,
   "id": "b1860182",
   "metadata": {
    "execution": {
     "iopub.execute_input": "2023-10-30T16:31:40.049866Z",
     "iopub.status.busy": "2023-10-30T16:31:40.049390Z",
     "iopub.status.idle": "2023-10-30T16:35:30.393177Z",
     "shell.execute_reply": "2023-10-30T16:35:30.392293Z"
    },
    "papermill": {
     "duration": 230.355398,
     "end_time": "2023-10-30T16:35:30.400088",
     "exception": false,
     "start_time": "2023-10-30T16:31:40.044690",
     "status": "completed"
    },
    "tags": []
   },
   "outputs": [
    {
     "name": "stdout",
     "output_type": "stream",
     "text": [
      "20231030T173140 : enderlab : INFO : Iniciando entrenamiento\n",
      "num_iter: 1 , max_iter: 1\n"
     ]
    },
    {
     "name": "stdout",
     "output_type": "stream",
     "text": [
      "Fitting 5 folds for each of 1 candidates, totalling 5 fits\n"
     ]
    },
    {
     "name": "stdout",
     "output_type": "stream",
     "text": [
      "Mejores Hiperparámetros: {'selector__k': 500, 'clasifier__n_estimators': 400, 'clasifier__min_samples_split': 10, 'clasifier__min_samples_leaf': 5, 'clasifier__max_features': 500, 'clasifier__max_depth': 30, 'clasifier__bootstrap': True}\n",
      "Mejor Puntuación: 0.7220\n",
      "20231030T173530 : enderlab : INFO : Fin entrenamiento\n"
     ]
    }
   ],
   "source": [
    "myfunc.verbose(\"Iniciando entrenamiento\")\n",
    "\n",
    "kf = KFold(n_splits=5, shuffle=True, random_state=SEMILLA)\n",
    "\n",
    "# Crear el pipeline para el flujo de tareas\n",
    "tasks_pipeline = Pipeline([\n",
    "    ('selector', algor_selector),\n",
    "    ('clasifier', algor_clasifier)\n",
    "])\n",
    "\n",
    "# MAX_ITERS puede limitar el número de iteraciones si son excesivas para las combinaciones de parámetros buscando un óptimo local, \n",
    "# sino funcionaría como GridSearchCV al revisar todas las cominaciones de los parámetros\n",
    "num_iteraciones = 1\n",
    "num_iteraciones = num_iteraciones * np.prod([len(elemento1) for _, elemento1 in param_distributions.items()])\n",
    "max_iteraciones = num_iteraciones if num_iteraciones <= MAX_ITERS else MAX_ITERS\n",
    "print(\"num_iter:\",num_iteraciones,\", max_iter:\",max_iteraciones)\n",
    "\n",
    "random_search = RandomizedSearchCV(\n",
    "    tasks_pipeline, \n",
    "    param_distributions, \n",
    "    n_iter=max_iteraciones,\n",
    "    scoring=SCORING,\n",
    "    cv=kf,\n",
    "    verbose=3, \n",
    "    random_state=SEMILLA, \n",
    "    n_jobs=-1\n",
    "    )\n",
    "\n",
    "# Entrenar el modelo\n",
    "random_search.fit(X_train, y_train)\n",
    "\n",
    "# Ver los mejores hiperparámetros encontrados\n",
    "print(f'Mejores Hiperparámetros: {random_search.best_params_}')\n",
    "print(f'Mejor Puntuación: {random_search.best_score_:.4f}')\n",
    "\n",
    "# Nos quedamos con el mejor modelo para ver las métricas\n",
    "mejor_modelo = random_search.best_estimator_\n",
    "\n",
    "myfunc.verbose(\"Fin entrenamiento\")"
   ]
  },
  {
   "cell_type": "markdown",
   "id": "83861c7f",
   "metadata": {
    "papermill": {
     "duration": 0.004207,
     "end_time": "2023-10-30T16:35:30.410104",
     "exception": false,
     "start_time": "2023-10-30T16:35:30.405897",
     "status": "completed"
    },
    "tags": []
   },
   "source": [
    "#### Guardar modelo"
   ]
  },
  {
   "cell_type": "code",
   "execution_count": 8,
   "id": "28892c50",
   "metadata": {
    "execution": {
     "iopub.execute_input": "2023-10-30T16:35:30.423101Z",
     "iopub.status.busy": "2023-10-30T16:35:30.422519Z",
     "iopub.status.idle": "2023-10-30T16:35:30.577306Z",
     "shell.execute_reply": "2023-10-30T16:35:30.576710Z"
    },
    "papermill": {
     "duration": 0.164254,
     "end_time": "2023-10-30T16:35:30.578699",
     "exception": false,
     "start_time": "2023-10-30T16:35:30.414445",
     "status": "completed"
    },
    "tags": []
   },
   "outputs": [
    {
     "name": "stdout",
     "output_type": "stream",
     "text": [
      "20231030T173530 : enderlab : INFO : Inicio guardar fichero ../tfm_git/ejecuciones/modelos/modelo_7265_mul_s_MI_RF.pkl\n",
      "20231030T173530 : enderlab : INFO : Fin guardar fichero ../tfm_git/ejecuciones/modelos/modelo_7265_mul_s_MI_RF.pkl\n"
     ]
    }
   ],
   "source": [
    "fichero_modelo = str.replace(\"modelo_\"+str(SEMILLA).zfill(4)+\"_\"+M_TIPO+\"_\"+M_SELECT+\"_\"+M_CLASIF+\".pkl\", \" \", \"_\")\n",
    "\n",
    "myfunc.save_modelo(mejor_modelo, myfunc.MODEL_DIR, fichero_modelo)"
   ]
  },
  {
   "cell_type": "markdown",
   "id": "aaed7afd",
   "metadata": {
    "papermill": {
     "duration": 0.004499,
     "end_time": "2023-10-30T16:35:30.588977",
     "exception": false,
     "start_time": "2023-10-30T16:35:30.584478",
     "status": "completed"
    },
    "tags": []
   },
   "source": [
    "#### Ver resultados del las iteraciones hechas por RandomSearchCV"
   ]
  },
  {
   "cell_type": "code",
   "execution_count": 9,
   "id": "e9ed3aee",
   "metadata": {
    "execution": {
     "iopub.execute_input": "2023-10-30T16:35:30.598761Z",
     "iopub.status.busy": "2023-10-30T16:35:30.598299Z",
     "iopub.status.idle": "2023-10-30T16:35:30.605298Z",
     "shell.execute_reply": "2023-10-30T16:35:30.604715Z"
    },
    "papermill": {
     "duration": 0.013486,
     "end_time": "2023-10-30T16:35:30.606600",
     "exception": false,
     "start_time": "2023-10-30T16:35:30.593114",
     "status": "completed"
    },
    "tags": []
   },
   "outputs": [
    {
     "name": "stdout",
     "output_type": "stream",
     "text": [
      "20231030T173530 : enderlab : INFO : Inicio ver resultados\n",
      "Mejores Hiperparámetros: {'selector__k': 500, 'clasifier__n_estimators': 400, 'clasifier__min_samples_split': 10, 'clasifier__min_samples_leaf': 5, 'clasifier__max_features': 500, 'clasifier__max_depth': 30, 'clasifier__bootstrap': True}\n",
      "Mejores puntuaciones: 0.7220 | Params: {'selector__k': 500, 'clasifier__n_estimators': 400, 'clasifier__min_samples_split': 10, 'clasifier__min_samples_leaf': 5, 'clasifier__max_features': 500, 'clasifier__max_depth': 30, 'clasifier__bootstrap': True}\n",
      "Media de las puntuaciones: 0.7220 | Params: {'selector__k': 500, 'clasifier__n_estimators': 400, 'clasifier__min_samples_split': 10, 'clasifier__min_samples_leaf': 5, 'clasifier__max_features': 500, 'clasifier__max_depth': 30, 'clasifier__bootstrap': True}\n",
      "20231030T173530 : enderlab : INFO : Fin resultados\n"
     ]
    }
   ],
   "source": [
    "myfunc.ver_resultados_search(random_search)"
   ]
  },
  {
   "cell_type": "markdown",
   "id": "275c6feb",
   "metadata": {
    "papermill": {
     "duration": 0.004096,
     "end_time": "2023-10-30T16:35:30.614926",
     "exception": false,
     "start_time": "2023-10-30T16:35:30.610830",
     "status": "completed"
    },
    "tags": []
   },
   "source": [
    "#### Ver métricas del mejor modelo"
   ]
  },
  {
   "cell_type": "code",
   "execution_count": 10,
   "id": "f836fa56",
   "metadata": {
    "execution": {
     "iopub.execute_input": "2023-10-30T16:35:30.624470Z",
     "iopub.status.busy": "2023-10-30T16:35:30.624243Z",
     "iopub.status.idle": "2023-10-30T16:35:31.396584Z",
     "shell.execute_reply": "2023-10-30T16:35:31.395832Z"
    },
    "papermill": {
     "duration": 0.77871,
     "end_time": "2023-10-30T16:35:31.398039",
     "exception": false,
     "start_time": "2023-10-30T16:35:30.619329",
     "status": "completed"
    },
    "tags": []
   },
   "outputs": [
    {
     "name": "stdout",
     "output_type": "stream",
     "text": [
      "20231030T173530 : enderlab : INFO : Inicio ver métricas multiclase\n"
     ]
    },
    {
     "name": "stdout",
     "output_type": "stream",
     "text": [
      "              precision    recall  f1-score   support\n",
      "\n",
      "           0       0.25      0.09      0.13        11\n",
      "           1       0.45      0.62      0.53         8\n",
      "           2       0.29      0.25      0.27         8\n",
      "           3       0.22      0.40      0.29         5\n",
      "           4       0.67      1.00      0.80         8\n",
      "           5       0.00      0.00      0.00         6\n",
      "           6       0.29      0.33      0.31         6\n",
      "\n",
      "    accuracy                           0.38        52\n",
      "   macro avg       0.31      0.39      0.33        52\n",
      "weighted avg       0.32      0.38      0.34        52\n",
      "\n",
      "\n",
      "\n",
      "           Exactitud: 0.384615\n",
      "   Precisión (media): 0.309266\n",
      "      Recall (media): 0.385606\n",
      "    F1-score (media): 0.331389\n",
      "\n",
      "\n",
      "AUC para el tipo de cáncer 0-Control.... 0.5011\n",
      "AUC para el tipo de cáncer 1-Bladder.... 0.7926\n",
      "AUC para el tipo de cáncer 2-Breast..... 0.6477\n",
      "AUC para el tipo de cáncer 3-Colorectal. 0.8213\n",
      "AUC para el tipo de cáncer 4-Kidney..... 0.9545\n",
      "AUC para el tipo de cáncer 5-Lung....... 0.5942\n",
      "AUC para el tipo de cáncer 6-Prostate... 0.6630\n",
      "\n",
      "Media de AUC: 0.7106\n"
     ]
    },
    {
     "data": {
      "image/png": "[encoded data removed]",
      "text/plain": [
       "<Figure size 1000x600 with 1 Axes>"
      ]
     },
     "metadata": {},
     "output_type": "display_data"
    },
    {
     "name": "stdout",
     "output_type": "stream",
     "text": [
      "\n",
      "\n"
     ]
    },
    {
     "data": {
      "image/png": "[encoded data removed]",
      "text/plain": [
       "<Figure size 800x400 with 2 Axes>"
      ]
     },
     "metadata": {},
     "output_type": "display_data"
    },
    {
     "name": "stdout",
     "output_type": "stream",
     "text": [
      "\n",
      "\n",
      "Puntuación Jaccard para el cáncer tipo 0-Control.... 0.0714\n",
      "Puntuación Jaccard para el cáncer tipo 1-Bladder.... 0.3571\n",
      "Puntuación Jaccard para el cáncer tipo 2-Breast..... 0.1538\n",
      "Puntuación Jaccard para el cáncer tipo 3-Colorectal. 0.1667\n",
      "Puntuación Jaccard para el cáncer tipo 4-Kidney..... 0.6667\n",
      "Puntuación Jaccard para el cáncer tipo 5-Lung....... 0.0000\n",
      "Puntuación Jaccard para el cáncer tipo 6-Prostate... 0.1818\n",
      "\n",
      "Media de la puntuación de Jaccard: 0.2282\n"
     ]
    }
   ],
   "source": [
    "if M_TIPO.startswith(\"bin\"):\n",
    "    myfunc.ver_metricas(mejor_modelo, X_test, y_test)\n",
    "else:\n",
    "    myfunc.ver_metricas_multi(mejor_modelo, X_test, y_test)\n"
   ]
  },
  {
   "cell_type": "markdown",
   "id": "8363a971",
   "metadata": {
    "papermill": {
     "duration": 0.005969,
     "end_time": "2023-10-30T16:35:31.411135",
     "exception": false,
     "start_time": "2023-10-30T16:35:31.405166",
     "status": "completed"
    },
    "tags": []
   },
   "source": [
    "#### Finalización del notebook"
   ]
  },
  {
   "cell_type": "code",
   "execution_count": 11,
   "id": "5361e2df",
   "metadata": {
    "execution": {
     "iopub.execute_input": "2023-10-30T16:35:31.423857Z",
     "iopub.status.busy": "2023-10-30T16:35:31.423303Z",
     "iopub.status.idle": "2023-10-30T16:35:31.427251Z",
     "shell.execute_reply": "2023-10-30T16:35:31.426692Z"
    },
    "papermill": {
     "duration": 0.011653,
     "end_time": "2023-10-30T16:35:31.428443",
     "exception": false,
     "start_time": "2023-10-30T16:35:31.416790",
     "status": "completed"
    },
    "tags": []
   },
   "outputs": [
    {
     "name": "stdout",
     "output_type": "stream",
     "text": [
      "20231030T173531 : enderlab : INFO : Notebook ha tardado 231 seconds\n"
     ]
    }
   ],
   "source": [
    "end_time = datetime.datetime.now()\n",
    "total_time = end_time - start_time\n",
    "myfunc.verbose(f\"Notebook ha tardado {total_time.seconds} seconds\")"
   ]
  },
  {
   "cell_type": "markdown",
   "id": "345a851c",
   "metadata": {
    "papermill": {
     "duration": 0.005788,
     "end_time": "2023-10-30T16:35:31.440106",
     "exception": false,
     "start_time": "2023-10-30T16:35:31.434318",
     "status": "completed"
    },
    "tags": []
   },
   "source": [
    "#### Guardar métricas"
   ]
  },
  {
   "cell_type": "code",
   "execution_count": 12,
   "id": "4590a5f2",
   "metadata": {
    "execution": {
     "iopub.execute_input": "2023-10-30T16:35:31.453210Z",
     "iopub.status.busy": "2023-10-30T16:35:31.452781Z",
     "iopub.status.idle": "2023-10-30T16:35:31.775423Z",
     "shell.execute_reply": "2023-10-30T16:35:31.774834Z"
    },
    "papermill": {
     "duration": 0.330765,
     "end_time": "2023-10-30T16:35:31.776771",
     "exception": false,
     "start_time": "2023-10-30T16:35:31.446006",
     "status": "completed"
    },
    "tags": []
   },
   "outputs": [
    {
     "name": "stdout",
     "output_type": "stream",
     "text": [
      "20231030T173531 : enderlab : INFO : Inicio guardar métricas multiclase\n",
      "20231030T173531 : enderlab : INFO : Inicio leer fichero ../tfm_git/ejecuciones/metricas/metricas_7265.csv\n",
      "20231030T173531 : enderlab : INFO : Fin leer fichero ../tfm_git/ejecuciones/metricas/metricas_7265.csv\n"
     ]
    },
    {
     "name": "stdout",
     "output_type": "stream",
     "text": [
      "20231030T173531 : enderlab : INFO : Inicio guardar fichero ../tfm_git/ejecuciones/metricas/metricas_7265.csv\n",
      "20231030T173531 : enderlab : INFO : Fichero borrado ../tfm_git/ejecuciones/metricas/metricas_7265.csv\n",
      "20231030T173531 : enderlab : INFO : Fin guardar fichero ../tfm_git/ejecuciones/metricas/metricas_7265.csv\n",
      "20231030T173531 : enderlab : INFO : Fin guardar métricas multiclase\n",
      "20231030T173531 : enderlab : INFO : Inicio leer fichero ../tfm_git/ejecuciones/metricas/metricas_7265.csv\n",
      "20231030T173531 : enderlab : INFO : Fin leer fichero ../tfm_git/ejecuciones/metricas/metricas_7265.csv\n"
     ]
    },
    {
     "data": {
      "text/html": [
       "<div>\n",
       "<style scoped>\n",
       "    .dataframe tbody tr th:only-of-type {\n",
       "        vertical-align: middle;\n",
       "    }\n",
       "\n",
       "    .dataframe tbody tr th {\n",
       "        vertical-align: top;\n",
       "    }\n",
       "\n",
       "    .dataframe thead th {\n",
       "        text-align: right;\n",
       "    }\n",
       "</style>\n",
       "<table border=\"1\" class=\"dataframe\">\n",
       "  <thead>\n",
       "    <tr style=\"text-align: right;\">\n",
       "      <th></th>\n",
       "      <th>tipo</th>\n",
       "      <th>select</th>\n",
       "      <th>clasific</th>\n",
       "      <th>semilla</th>\n",
       "      <th>accuracy</th>\n",
       "      <th>precision</th>\n",
       "      <th>recall</th>\n",
       "      <th>f1_score</th>\n",
       "      <th>roc_auc</th>\n",
       "      <th>hostname</th>\n",
       "      <th>total_time_sec</th>\n",
       "      <th>datetime</th>\n",
       "      <th>fichero_modelo</th>\n",
       "      <th>params</th>\n",
       "      <th>shape</th>\n",
       "      <th>features</th>\n",
       "      <th>roc_auc_ovr</th>\n",
       "      <th>indices_auc</th>\n",
       "      <th>indices_jaccard</th>\n",
       "    </tr>\n",
       "  </thead>\n",
       "  <tbody>\n",
       "    <tr>\n",
       "      <th>0</th>\n",
       "      <td>mul_s</td>\n",
       "      <td>MI</td>\n",
       "      <td>RF</td>\n",
       "      <td>7265</td>\n",
       "      <td>0.384615</td>\n",
       "      <td>0.309266</td>\n",
       "      <td>0.385606</td>\n",
       "      <td>0.331389</td>\n",
       "      <td>NaN</td>\n",
       "      <td>enderlab</td>\n",
       "      <td>231</td>\n",
       "      <td>2023-10-30 17:35:31.720833</td>\n",
       "      <td>modelo_7265_mul_s_MI_RF.pkl</td>\n",
       "      <td>{'selector__k': 500, 'clasifier__n_estimators'...</td>\n",
       "      <td>X_test:(52, 18875)</td>\n",
       "      <td>['ENSG00000005513.10', 'ENSG00000006025.13', '...</td>\n",
       "      <td>0.710645</td>\n",
       "      <td>[0.5011086474501109, 0.7926136363636364, 0.647...</td>\n",
       "      <td>[0.07142857142857142, 0.35714285714285715, 0.1...</td>\n",
       "    </tr>\n",
       "    <tr>\n",
       "      <th>0</th>\n",
       "      <td>mul_s</td>\n",
       "      <td>MI</td>\n",
       "      <td>LR_L2</td>\n",
       "      <td>7265</td>\n",
       "      <td>0.480769</td>\n",
       "      <td>0.506279</td>\n",
       "      <td>0.505628</td>\n",
       "      <td>0.459934</td>\n",
       "      <td>NaN</td>\n",
       "      <td>enderlab</td>\n",
       "      <td>431</td>\n",
       "      <td>2023-10-30 17:31:33.071553</td>\n",
       "      <td>modelo_7265_mul_s_MI_LR_L2.pkl</td>\n",
       "      <td>{'selector__k': 500, 'clasifier__solver': 'sag...</td>\n",
       "      <td>X_test:(52, 18875)</td>\n",
       "      <td>['ENSG00000005513.10', 'ENSG00000006025.13', '...</td>\n",
       "      <td>0.799958</td>\n",
       "      <td>[0.5543237250554324, 0.8835227272727273, 0.681...</td>\n",
       "      <td>[0.2, 0.375, 0.08333333333333333, 0.25, 0.6153...</td>\n",
       "    </tr>\n",
       "    <tr>\n",
       "      <th>0</th>\n",
       "      <td>mul_s</td>\n",
       "      <td>MI</td>\n",
       "      <td>LR_L1</td>\n",
       "      <td>7265</td>\n",
       "      <td>0.461538</td>\n",
       "      <td>0.494913</td>\n",
       "      <td>0.482900</td>\n",
       "      <td>0.465917</td>\n",
       "      <td>NaN</td>\n",
       "      <td>enderlab</td>\n",
       "      <td>694</td>\n",
       "      <td>2023-10-30 17:24:14.850731</td>\n",
       "      <td>modelo_7265_mul_s_MI_LR_L1.pkl</td>\n",
       "      <td>{'selector__k': 500, 'clasifier__solver': 'sag...</td>\n",
       "      <td>X_test:(52, 18875)</td>\n",
       "      <td>['ENSG00000005513.10', 'ENSG00000006025.13', '...</td>\n",
       "      <td>0.824916</td>\n",
       "      <td>[0.6274944567627494, 0.8806818181818182, 0.713...</td>\n",
       "      <td>[0.26666666666666666, 0.3333333333333333, 0.07...</td>\n",
       "    </tr>\n",
       "  </tbody>\n",
       "</table>\n",
       "</div>"
      ],
      "text/plain": [
       "    tipo select clasific  semilla  accuracy  precision    recall  f1_score  \\\n",
       "0  mul_s     MI       RF     7265  0.384615   0.309266  0.385606  0.331389   \n",
       "0  mul_s     MI    LR_L2     7265  0.480769   0.506279  0.505628  0.459934   \n",
       "0  mul_s     MI    LR_L1     7265  0.461538   0.494913  0.482900  0.465917   \n",
       "\n",
       "   roc_auc  hostname  total_time_sec                    datetime  \\\n",
       "0      NaN  enderlab             231  2023-10-30 17:35:31.720833   \n",
       "0      NaN  enderlab             431  2023-10-30 17:31:33.071553   \n",
       "0      NaN  enderlab             694  2023-10-30 17:24:14.850731   \n",
       "\n",
       "                   fichero_modelo  \\\n",
       "0     modelo_7265_mul_s_MI_RF.pkl   \n",
       "0  modelo_7265_mul_s_MI_LR_L2.pkl   \n",
       "0  modelo_7265_mul_s_MI_LR_L1.pkl   \n",
       "\n",
       "                                              params               shape  \\\n",
       "0  {'selector__k': 500, 'clasifier__n_estimators'...  X_test:(52, 18875)   \n",
       "0  {'selector__k': 500, 'clasifier__solver': 'sag...  X_test:(52, 18875)   \n",
       "0  {'selector__k': 500, 'clasifier__solver': 'sag...  X_test:(52, 18875)   \n",
       "\n",
       "                                            features  roc_auc_ovr  \\\n",
       "0  ['ENSG00000005513.10', 'ENSG00000006025.13', '...     0.710645   \n",
       "0  ['ENSG00000005513.10', 'ENSG00000006025.13', '...     0.799958   \n",
       "0  ['ENSG00000005513.10', 'ENSG00000006025.13', '...     0.824916   \n",
       "\n",
       "                                         indices_auc  \\\n",
       "0  [0.5011086474501109, 0.7926136363636364, 0.647...   \n",
       "0  [0.5543237250554324, 0.8835227272727273, 0.681...   \n",
       "0  [0.6274944567627494, 0.8806818181818182, 0.713...   \n",
       "\n",
       "                                     indices_jaccard  \n",
       "0  [0.07142857142857142, 0.35714285714285715, 0.1...  \n",
       "0  [0.2, 0.375, 0.08333333333333333, 0.25, 0.6153...  \n",
       "0  [0.26666666666666666, 0.3333333333333333, 0.07...  "
      ]
     },
     "metadata": {},
     "output_type": "display_data"
    }
   ],
   "source": [
    "if M_TIPO.startswith(\"bin\"):\n",
    "    myfunc.save_metricas_to_csv(random_search, X_test, y_test, M_TIPO, M_SELECT, M_CLASIF, total_time, SEMILLA, myfunc.MET_DIR, M_FICHERO, fichero_modelo)\n",
    "else:\n",
    "    myfunc.save_metricas_multi_to_csv(random_search, X_test, y_test, M_TIPO, M_SELECT, M_CLASIF, total_time, SEMILLA, myfunc.MET_DIR, M_FICHERO, fichero_modelo)\n",
    "\n",
    "df1=myfunc.read_metricas_to_df(myfunc.MET_DIR,M_FICHERO)\n",
    "\n",
    "display(df1.sort_values(\"datetime\", ascending=False)[:3])\n"
   ]
  },
  {
   "cell_type": "markdown",
   "id": "df24c195",
   "metadata": {
    "papermill": {
     "duration": 0.006589,
     "end_time": "2023-10-30T16:35:31.790144",
     "exception": false,
     "start_time": "2023-10-30T16:35:31.783555",
     "status": "completed"
    },
    "tags": []
   },
   "source": [
    "#### Guardar resultados"
   ]
  },
  {
   "cell_type": "code",
   "execution_count": 13,
   "id": "a1cc5088",
   "metadata": {
    "execution": {
     "iopub.execute_input": "2023-10-30T16:35:31.805014Z",
     "iopub.status.busy": "2023-10-30T16:35:31.804304Z",
     "iopub.status.idle": "2023-10-30T16:35:31.814534Z",
     "shell.execute_reply": "2023-10-30T16:35:31.813928Z"
    },
    "papermill": {
     "duration": 0.019359,
     "end_time": "2023-10-30T16:35:31.815812",
     "exception": false,
     "start_time": "2023-10-30T16:35:31.796453",
     "status": "completed"
    },
    "tags": []
   },
   "outputs": [
    {
     "name": "stdout",
     "output_type": "stream",
     "text": [
      "20231030T173531 : enderlab : INFO : Inicio guardar resultados\n",
      "20231030T173531 : enderlab : INFO : Inicio guardar fichero ../tfm_git/ejecuciones/metricas/resultados_7265_mul_s-MI-RF.csv\n",
      "20231030T173531 : enderlab : INFO : Fin guardar fichero ../tfm_git/ejecuciones/metricas/resultados_7265_mul_s-MI-RF.csv\n",
      "20231030T173531 : enderlab : INFO : Fin guardar resultados\n"
     ]
    }
   ],
   "source": [
    "fichero_resultados=R_FICHERO+\"_\"+M_TIPO+\"-\"+M_SELECT+\"-\"+M_CLASIF+\".csv\"\n",
    "myfunc.save_resultados_to_csv(M_TIPO, M_SELECT, M_CLASIF,  random_search, myfunc.MET_DIR, fichero_resultados)\n"
   ]
  }
 ],
 "metadata": {
  "kernelspec": {
   "display_name": "Python 3 (ipykernel)",
   "language": "python",
   "name": "python3"
  },
  "language_info": {
   "codemirror_mode": {
    "name": "ipython",
    "version": 3
   },
   "file_extension": ".py",
   "mimetype": "text/x-python",
   "name": "python",
   "nbconvert_exporter": "python",
   "pygments_lexer": "ipython3",
   "version": "3.10.11"
  },
  "papermill": {
   "default_parameters": {},
   "duration": 237.009927,
   "end_time": "2023-10-30T16:35:34.440490",
   "environment_variables": {},
   "exception": null,
   "input_path": "03_entrenamiento.ipynb",
   "output_path": "ejecuciones/training/03_entrenamiento.20231030T173136.param_0000_7265_mul_s_MI_RF.output.ipynb",
   "parameters": {
    "MAX_ITERS": 500,
    "M_CLASIF": "RF",
    "M_FICHERO": "metricas_7265",
    "M_SELECT": "MI",
    "M_TIPO": "mul_s",
    "PRE_DATA_FILE": "rows_transpose_norm_by_gene_id_with_target_num_",
    "P_FICHERO": "param_0000_7265_mul_s_MI_RF.yaml",
    "R_FICHERO": "resultados_7265",
    "SCORING": "roc_auc_ovr",
    "SEMILLA": 7265,
    "eval_clasifier": "RandomForestClassifier(random_state=SEMILLA)",
    "eval_selector": "SelectKBest(score_func=mutual_info_classif_state)",
    "param_distributions": {
     "clasifier__bootstrap": [
      true
     ],
     "clasifier__max_depth": [
      30
     ],
     "clasifier__max_features": [
      500
     ],
     "clasifier__min_samples_leaf": [
      5
     ],
     "clasifier__min_samples_split": [
      10
     ],
     "clasifier__n_estimators": [
      400
     ],
     "selector__k": [
      500
     ]
    }
   },
   "start_time": "2023-10-30T16:31:37.430563",
   "version": "2.4.0"
  }
 },
 "nbformat": 4,
 "nbformat_minor": 5
}