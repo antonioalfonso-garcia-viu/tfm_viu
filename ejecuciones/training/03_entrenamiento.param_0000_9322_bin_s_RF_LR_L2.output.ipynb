{
 "cells": [
  {
   "cell_type": "markdown",
   "id": "837e7fbe",
   "metadata": {
    "papermill": {
     "duration": 0.00578,
     "end_time": "2023-10-30T03:02:05.427085",
     "exception": false,
     "start_time": "2023-10-30T03:02:05.421305",
     "status": "completed"
    },
    "tags": []
   },
   "source": [
    "##### Inicio"
   ]
  },
  {
   "cell_type": "markdown",
   "id": "3efeccf8",
   "metadata": {
    "papermill": {
     "duration": 0.003505,
     "end_time": "2023-10-30T03:02:05.434392",
     "exception": false,
     "start_time": "2023-10-30T03:02:05.430887",
     "status": "completed"
    },
    "tags": []
   },
   "source": [
    "#### Carga de datos"
   ]
  },
  {
   "cell_type": "code",
   "execution_count": 1,
   "id": "b1572863",
   "metadata": {
    "execution": {
     "iopub.execute_input": "2023-10-30T03:02:05.442649Z",
     "iopub.status.busy": "2023-10-30T03:02:05.442110Z",
     "iopub.status.idle": "2023-10-30T03:02:06.564427Z",
     "shell.execute_reply": "2023-10-30T03:02:06.563688Z"
    },
    "papermill": {
     "duration": 1.128167,
     "end_time": "2023-10-30T03:02:06.565922",
     "exception": false,
     "start_time": "2023-10-30T03:02:05.437755",
     "status": "completed"
    },
    "tags": []
   },
   "outputs": [
    {
     "name": "stdout",
     "output_type": "stream",
     "text": [
      "CPU_COUNT: 16; NODE: enderlab; sys.version: 3.10.11 (main, May 16 2023, 00:28:57) [GCC 11.2.0]\n",
      "LOKY_MAX_CPU_COUNT is not set.\n",
      "OMP_NUM_THREADS is not set.\n"
     ]
    }
   ],
   "source": [
    "import os\n",
    "import numpy as np\n",
    "import pandas as pd\n",
    "import datetime\n",
    "import sklearn\n",
    "import logging\n",
    "import warnings\n",
    "\n",
    "from sklearn.pipeline import Pipeline\n",
    "from sklearn.model_selection import RandomizedSearchCV, KFold, cross_val_score, train_test_split\n",
    "from sklearn.metrics import accuracy_score, confusion_matrix, classification_report, roc_auc_score\n",
    "\n",
    "#  cargar algoritmos para aprendizaje supervisado\n",
    "from sklearn.feature_selection import SelectKBest, f_classif, SelectFromModel, mutual_info_classif\n",
    "from sklearn.svm import SVC\n",
    "from sklearn.ensemble import RandomForestClassifier\n",
    "from sklearn.linear_model import LogisticRegression,LogisticRegressionCV\n",
    "\n",
    "# importar fichero con utilidades propias\n",
    "from commons import myfunctions as myfunc\n"
   ]
  },
  {
   "cell_type": "markdown",
   "id": "2b4adb9c",
   "metadata": {
    "papermill": {
     "duration": 0.003589,
     "end_time": "2023-10-30T03:02:06.573683",
     "exception": false,
     "start_time": "2023-10-30T03:02:06.570094",
     "status": "completed"
    },
    "tags": []
   },
   "source": [
    "#### Parámetros a utilizar en el entrenamiento.\n",
    "\n",
    "Se indican los 3 algoritmos de *selección de características* (eval_selector_xxx) y los 3 algoritmos para la _clasificación_ (eval_clasifier_xxx)\n",
    "\n",
    "En *param_distributions* se indicar los parámetros que utilizan los algoritmos en la función RandomSearchCV.\n",
    "\n",
    "Esta celda tiene la etiqueta **parameters** que servirá para poder lanzar los entrenamientos con la utilidad **papermill** pasándole un fichero con los parámetros. Los nuevos parámetros se situarán tras esta celda para tener prevalencia."
   ]
  },
  {
   "cell_type": "code",
   "execution_count": 2,
   "id": "dc04f78b",
   "metadata": {
    "execution": {
     "iopub.execute_input": "2023-10-30T03:02:06.582517Z",
     "iopub.status.busy": "2023-10-30T03:02:06.582086Z",
     "iopub.status.idle": "2023-10-30T03:02:06.590674Z",
     "shell.execute_reply": "2023-10-30T03:02:06.590139Z"
    },
    "papermill": {
     "duration": 0.014888,
     "end_time": "2023-10-30T03:02:06.592012",
     "exception": false,
     "start_time": "2023-10-30T03:02:06.577124",
     "status": "completed"
    },
    "tags": [
     "parameters"
    ]
   },
   "outputs": [
    {
     "name": "stdout",
     "output_type": "stream",
     "text": [
      "20231030T040206 : enderlab : INFO : Utilizando parámetros de mul_m\n"
     ]
    }
   ],
   "source": [
    "#  Parametros para el entrenamiento\n",
    "\n",
    "SEMILLA=        42\n",
    "M_TIPO=         \"mul_m\"\n",
    "M_SELECT=       \"MI\"\n",
    "M_CLASIF=       \"SVM\"\n",
    "R_FICHERO=      \"resultados\"\n",
    "M_FICHERO=      \"metricas\"\n",
    "PRE_DATA_FILE=  \"rows_transpose_norm_by_gene_id_with_target_num_\"\n",
    "SCORING=        \"roc_auc_ovr\" \n",
    "MAX_ITERS=      100\n",
    "\n",
    "def mutual_info_classif_state(X, y):\n",
    "    return mutual_info_classif(X, y, random_state=SEMILLA)\n",
    "\n",
    "eval_selector_mi = \"SelectKBest(score_func=mutual_info_classif_state)\"\n",
    "eval_selector_rf=  \"SelectFromModel(estimator=RandomForestClassifier(random_state=SEMILLA), threshold=-np.inf)\"\n",
    "eval_selector_anova=  \"SelectKBest(score_func=f_classif)\"\n",
    "\n",
    "eval_clasifier_svm= \"SVC(probability=True, random_state=SEMILLA)\"\n",
    "eval_clasifier_rf= \"RandomForestClassifier(random_state=SEMILLA)\"\n",
    "eval_clasifier_lr= \"LogisticRegressionCV(random_state=SEMILLA)\"\n",
    "\n",
    "if M_TIPO.startswith(\"bin_m\"):\n",
    "    myfunc.verbose(f\"Utilizando parámetros de {M_TIPO}\")\n",
    "    eval_selector = eval_selector_mi\n",
    "    eval_clasifier = eval_clasifier_svm\n",
    "\n",
    "    SEMILLA = 6578\n",
    "    M_SELECT = \"MI\"\n",
    "    M_CLASIF = \"SVM\"\n",
    "    param_distributions = {'selector__k': [1000], \n",
    "         'clasifier__kernel': ['rbf'], 'clasifier__gamma': [0.01], 'clasifier__C': [100]}\n",
    "elif M_TIPO.startswith(\"bin_s\"):\n",
    "    myfunc.verbose(f\"Utilizando parámetros de {M_TIPO}\")\n",
    "    eval_selector = eval_selector_rf\n",
    "    eval_clasifier = eval_clasifier_lr\n",
    "\n",
    "    SEMILLA = 6191\n",
    "    M_SELECT = \"RF\"\n",
    "    M_CLASIF = \"LR_L2\"\n",
    "    param_distributions = {'selector__max_features': [1000], 'selector__estimator__n_estimators': [200], \n",
    "        'clasifier__solver': ['lbfgs'], 'clasifier__penalty': ['l2'], 'clasifier__max_iter': [10000]}\n",
    "\n",
    "elif M_TIPO.startswith(\"mul_m\"):\n",
    "    myfunc.verbose(f\"Utilizando parámetros de {M_TIPO}\")\n",
    " \n",
    "    eval_selector = eval_selector_rf\n",
    "    eval_clasifier = eval_clasifier_lr\n",
    "\n",
    "    SEMILLA = 6191\n",
    "    M_SELECT = \"RF\"\n",
    "    M_CLASIF = \"LR_L2\"\n",
    "    param_distributions = {'selector__max_features': [1000], 'selector__estimator__n_estimators': [400], \n",
    "        'clasifier__solver': ['lbfgs'], 'clasifier__penalty': ['l2'], 'clasifier__max_iter': [10000]}\n",
    "\n",
    "else:\n",
    "    # M_TIPO.startswith(\"mul_s\"):\n",
    "    myfunc.verbose(f\"Utilizando parámetros de {M_TIPO}\")\n",
    "    eval_selector = eval_selector_anova\n",
    "    eval_clasifier = eval_clasifier_lr\n",
    "\n",
    "    SEMILLA = 1860\n",
    "    M_SELECT = \"ANOVA\"\n",
    "    M_CLASIF = \"LR_L2\"\n",
    "    param_distributions = {'selector__k': [1000], \n",
    "        'clasifier__solver': ['saga'], 'clasifier__penalty': ['l2'], 'clasifier__max_iter': [10000]}\n",
    "\n"
   ]
  },
  {
   "cell_type": "code",
   "execution_count": 3,
   "id": "38b4acca",
   "metadata": {
    "execution": {
     "iopub.execute_input": "2023-10-30T03:02:06.600154Z",
     "iopub.status.busy": "2023-10-30T03:02:06.599765Z",
     "iopub.status.idle": "2023-10-30T03:02:06.603689Z",
     "shell.execute_reply": "2023-10-30T03:02:06.603176Z"
    },
    "papermill": {
     "duration": 0.009298,
     "end_time": "2023-10-30T03:02:06.604883",
     "exception": false,
     "start_time": "2023-10-30T03:02:06.595585",
     "status": "completed"
    },
    "tags": [
     "injected-parameters"
    ]
   },
   "outputs": [],
   "source": [
    "# Parameters\n",
    "M_TIPO = \"bin_s\"\n",
    "M_SELECT = \"RF\"\n",
    "M_CLASIF = \"LR_L2\"\n",
    "P_FICHERO = \"param_0000_9322_bin_s_RF_LR_L2.yaml\"\n",
    "R_FICHERO = \"resultados_9322\"\n",
    "M_FICHERO = \"metricas_9322\"\n",
    "PRE_DATA_FILE = \"rows_transpose_norm_by_gene_id_with_target_num_\"\n",
    "SCORING = \"roc_auc_ovr\"\n",
    "SEMILLA = 9322\n",
    "MAX_ITERS = 500\n",
    "eval_selector = \"SelectFromModel(estimator=RandomForestClassifier(random_state=SEMILLA), threshold=-np.inf)\"\n",
    "eval_clasifier = \"LogisticRegressionCV(random_state=SEMILLA)\"\n",
    "param_distributions = {\n",
    "    \"selector__max_features\": [1000],\n",
    "    \"selector__estimator__n_estimators\": [200],\n",
    "    \"clasifier__solver\": [\"lbfgs\"],\n",
    "    \"clasifier__penalty\": [\"l2\"],\n",
    "    \"clasifier__max_iter\": [10000],\n",
    "}\n"
   ]
  },
  {
   "cell_type": "code",
   "execution_count": 4,
   "id": "73d7a8b2",
   "metadata": {
    "execution": {
     "iopub.execute_input": "2023-10-30T03:02:06.614474Z",
     "iopub.status.busy": "2023-10-30T03:02:06.614101Z",
     "iopub.status.idle": "2023-10-30T03:02:06.617276Z",
     "shell.execute_reply": "2023-10-30T03:02:06.616771Z"
    },
    "papermill": {
     "duration": 0.010068,
     "end_time": "2023-10-30T03:02:06.618541",
     "exception": false,
     "start_time": "2023-10-30T03:02:06.608473",
     "status": "completed"
    },
    "tags": []
   },
   "outputs": [],
   "source": [
    "DATA_FILE = PRE_DATA_FILE + M_TIPO\n",
    "\n",
    "# si viene \"None\" en el parámetro max_depth, se le quitan las comillas para que no sea entendido por el algoritmo como un texto\n",
    "if \"clasifier__max_depth\" in param_distributions:\n",
    "    param_distributions['clasifier__max_depth'] = [None if x == 'None' else x for x in param_distributions['clasifier__max_depth']]"
   ]
  },
  {
   "cell_type": "markdown",
   "id": "404f092b",
   "metadata": {
    "papermill": {
     "duration": 0.003962,
     "end_time": "2023-10-30T03:02:06.626036",
     "exception": false,
     "start_time": "2023-10-30T03:02:06.622074",
     "status": "completed"
    },
    "tags": []
   },
   "source": [
    "Asignar los algoritmos que se utilizarán en la función RandomSearchCV"
   ]
  },
  {
   "cell_type": "code",
   "execution_count": 5,
   "id": "0a8a4f57",
   "metadata": {
    "execution": {
     "iopub.execute_input": "2023-10-30T03:02:06.634476Z",
     "iopub.status.busy": "2023-10-30T03:02:06.634001Z",
     "iopub.status.idle": "2023-10-30T03:02:06.636931Z",
     "shell.execute_reply": "2023-10-30T03:02:06.636393Z"
    },
    "papermill": {
     "duration": 0.008412,
     "end_time": "2023-10-30T03:02:06.638144",
     "exception": false,
     "start_time": "2023-10-30T03:02:06.629732",
     "status": "completed"
    },
    "tags": []
   },
   "outputs": [],
   "source": [
    "algor_selector=eval(eval_selector)\n",
    "algor_clasifier=eval(eval_clasifier)"
   ]
  },
  {
   "cell_type": "markdown",
   "id": "7e0d6a25",
   "metadata": {
    "papermill": {
     "duration": 0.005048,
     "end_time": "2023-10-30T03:02:06.646869",
     "exception": false,
     "start_time": "2023-10-30T03:02:06.641821",
     "status": "completed"
    },
    "tags": []
   },
   "source": [
    "#### Comprobar el entorno y leer fichero de muestras"
   ]
  },
  {
   "cell_type": "code",
   "execution_count": 6,
   "id": "da079627",
   "metadata": {
    "execution": {
     "iopub.execute_input": "2023-10-30T03:02:06.655409Z",
     "iopub.status.busy": "2023-10-30T03:02:06.655034Z",
     "iopub.status.idle": "2023-10-30T03:02:06.911796Z",
     "shell.execute_reply": "2023-10-30T03:02:06.911034Z"
    },
    "papermill": {
     "duration": 0.262627,
     "end_time": "2023-10-30T03:02:06.913221",
     "exception": false,
     "start_time": "2023-10-30T03:02:06.650594",
     "status": "completed"
    },
    "tags": []
   },
   "outputs": [
    {
     "name": "stdout",
     "output_type": "stream",
     "text": [
      "20231030T040206 : enderlab : INFO : Encontrada carpeta DATA_DIR=../tfm_git/datos\n",
      "20231030T040206 : enderlab : INFO : Encontrada carpeta CFDNA_DIR=../tfm_git/datos/cfDNA_5hmC\n",
      "20231030T040206 : enderlab : INFO : Encontrada carpeta GENCODE_DIR=../tfm_git/datos/gencode\n",
      "20231030T040206 : enderlab : INFO : Encontrada carpeta H5_DIR=../tfm_git/datos/h5\n",
      "20231030T040206 : enderlab : INFO : Encontrada carpeta LOG_DIR=../tfm_git/datos/logs\n",
      "20231030T040206 : enderlab : INFO : Encontrada carpeta CSV_DIR=../tfm_git/datos/csv\n",
      "20231030T040206 : enderlab : INFO : Encontrada carpeta MODEL_DIR=../tfm_git/ejecuciones/modelos\n",
      "20231030T040206 : enderlab : INFO : Encontrada carpeta EXEC_DIR=../tfm_git/ejecuciones\n",
      "20231030T040206 : enderlab : INFO : Encontrada carpeta MET_DIR=../tfm_git/ejecuciones/metricas\n",
      "20231030T040206 : enderlab : INFO : Inicio leer fichero h5 ../tfm_git/datos/h5/rows_transpose_norm_by_gene_id_with_target_num_bin_s.h5\n",
      "20231030T040206 : enderlab : INFO : Leyendo clave /df\n"
     ]
    },
    {
     "name": "stdout",
     "output_type": "stream",
     "text": [
      "20231030T040206 : enderlab : INFO : Tamaño (443, 18876)\n",
      "20231030T040206 : enderlab : INFO : Fin leer fichero h5 ../tfm_git/datos/h5/rows_transpose_norm_by_gene_id_with_target_num_bin_s.h5\n"
     ]
    },
    {
     "data": {
      "text/plain": [
       "target\n",
       "0    221\n",
       "1    222\n",
       "dtype: int64"
      ]
     },
     "metadata": {},
     "output_type": "display_data"
    },
    {
     "name": "stdout",
     "output_type": "stream",
     "text": [
      "Shape df: (443, 18876)\n"
     ]
    },
    {
     "name": "stdout",
     "output_type": "stream",
     "text": [
      "Shape X_train: (354, 18875)\n",
      "Shape X_test: (89, 18875)\n"
     ]
    }
   ],
   "source": [
    "start_time = datetime.datetime.now()\n",
    "\n",
    "myfunc.reset_vars()\n",
    "\n",
    "myfunc.NOTEBK_FILENAME = myfunc.get_nb_name()\n",
    "\n",
    "myfunc.check_enviroment(myfunc.DATA_DIR, myfunc.CFDNA_DIR, myfunc.GENCODE_DIR, myfunc.H5_DIR, myfunc.LOG_DIR, myfunc.CSV_DIR, myfunc.MODEL_DIR, myfunc.EXEC_DIR, myfunc.MET_DIR)\n",
    "\n",
    "# Leer fichero con las muestras\n",
    "df_t = myfunc.read_h5_to_df(DATA_FILE, myfunc.H5_DIR)\n",
    "display(df_t.groupby(\"target\").size())\n",
    "print(\"Shape df:\",df_t.shape)\n",
    "\n",
    "# Separar caracteristicas/genes de las etiquetas/tipos de cáncer\n",
    "X = df_t.iloc[:, :-1]  # Todas las columnas excepto la última\n",
    "y = df_t.iloc[:, -1]  # La última columna contiene los identificadores de los tipos de cáncer\n",
    "\n",
    "#  Crear el conjunto de datos de entrenamiento y de pruebas, y se fija la semilla para siempre coger el mismo juego de muestras\n",
    "X_train, X_test, y_train, y_test = train_test_split(X, y, test_size=0.2, shuffle=True, random_state=42)\n",
    "print(\"Shape X_train:\",X_train.shape)\n",
    "print(\"Shape X_test:\",X_test.shape)\n"
   ]
  },
  {
   "cell_type": "markdown",
   "id": "71333594",
   "metadata": {
    "papermill": {
     "duration": 0.004379,
     "end_time": "2023-10-30T03:02:06.922284",
     "exception": false,
     "start_time": "2023-10-30T03:02:06.917905",
     "status": "completed"
    },
    "tags": []
   },
   "source": [
    "#### Selección de características y clasificación."
   ]
  },
  {
   "cell_type": "code",
   "execution_count": 7,
   "id": "4c256f30",
   "metadata": {
    "execution": {
     "iopub.execute_input": "2023-10-30T03:02:06.931720Z",
     "iopub.status.busy": "2023-10-30T03:02:06.931214Z",
     "iopub.status.idle": "2023-10-30T03:02:20.148122Z",
     "shell.execute_reply": "2023-10-30T03:02:20.144558Z"
    },
    "papermill": {
     "duration": 13.223776,
     "end_time": "2023-10-30T03:02:20.149998",
     "exception": false,
     "start_time": "2023-10-30T03:02:06.926222",
     "status": "completed"
    },
    "tags": []
   },
   "outputs": [
    {
     "name": "stdout",
     "output_type": "stream",
     "text": [
      "20231030T040206 : enderlab : INFO : Iniciando entrenamiento\n",
      "num_iter: 1 , max_iter: 1\n",
      "Fitting 5 folds for each of 1 candidates, totalling 5 fits\n"
     ]
    },
    {
     "name": "stdout",
     "output_type": "stream",
     "text": [
      "Mejores Hiperparámetros: {'selector__max_features': 1000, 'selector__estimator__n_estimators': 200, 'clasifier__solver': 'lbfgs', 'clasifier__penalty': 'l2', 'clasifier__max_iter': 10000}\n",
      "Mejor Puntuación: 0.7936\n",
      "20231030T040220 : enderlab : INFO : Fin entrenamiento\n"
     ]
    }
   ],
   "source": [
    "myfunc.verbose(\"Iniciando entrenamiento\")\n",
    "\n",
    "kf = KFold(n_splits=5, shuffle=True, random_state=SEMILLA)\n",
    "\n",
    "# Crear el pipeline para el flujo de tareas\n",
    "tasks_pipeline = Pipeline([\n",
    "    ('selector', algor_selector),\n",
    "    ('clasifier', algor_clasifier)\n",
    "])\n",
    "\n",
    "# MAX_ITERS puede limitar el número de iteraciones si son excesivas para las combinaciones de parámetros buscando un óptimo local, \n",
    "# sino funcionaría como GridSearchCV al revisar todas las cominaciones de los parámetros\n",
    "num_iteraciones = 1\n",
    "num_iteraciones = num_iteraciones * np.prod([len(elemento1) for _, elemento1 in param_distributions.items()])\n",
    "max_iteraciones = num_iteraciones if num_iteraciones <= MAX_ITERS else MAX_ITERS\n",
    "print(\"num_iter:\",num_iteraciones,\", max_iter:\",max_iteraciones)\n",
    "\n",
    "random_search = RandomizedSearchCV(\n",
    "    tasks_pipeline, \n",
    "    param_distributions, \n",
    "    n_iter=max_iteraciones,\n",
    "    scoring=SCORING,\n",
    "    cv=kf,\n",
    "    verbose=3, \n",
    "    random_state=SEMILLA, \n",
    "    n_jobs=-1\n",
    "    )\n",
    "\n",
    "# Entrenar el modelo\n",
    "random_search.fit(X_train, y_train)\n",
    "\n",
    "# Ver los mejores hiperparámetros encontrados\n",
    "print(f'Mejores Hiperparámetros: {random_search.best_params_}')\n",
    "print(f'Mejor Puntuación: {random_search.best_score_:.4f}')\n",
    "\n",
    "# Nos quedamos con el mejor modelo para ver las métricas\n",
    "mejor_modelo = random_search.best_estimator_\n",
    "\n",
    "myfunc.verbose(\"Fin entrenamiento\")"
   ]
  },
  {
   "cell_type": "markdown",
   "id": "72b6907c",
   "metadata": {
    "papermill": {
     "duration": 0.004218,
     "end_time": "2023-10-30T03:02:20.159498",
     "exception": false,
     "start_time": "2023-10-30T03:02:20.155280",
     "status": "completed"
    },
    "tags": []
   },
   "source": [
    "#### Guardar modelo"
   ]
  },
  {
   "cell_type": "code",
   "execution_count": 8,
   "id": "c3f31c2d",
   "metadata": {
    "execution": {
     "iopub.execute_input": "2023-10-30T03:02:20.173230Z",
     "iopub.status.busy": "2023-10-30T03:02:20.172614Z",
     "iopub.status.idle": "2023-10-30T03:02:20.288854Z",
     "shell.execute_reply": "2023-10-30T03:02:20.288211Z"
    },
    "papermill": {
     "duration": 0.127135,
     "end_time": "2023-10-30T03:02:20.290738",
     "exception": false,
     "start_time": "2023-10-30T03:02:20.163603",
     "status": "completed"
    },
    "tags": []
   },
   "outputs": [
    {
     "name": "stdout",
     "output_type": "stream",
     "text": [
      "20231030T040220 : enderlab : INFO : Inicio guardar fichero ../tfm_git/ejecuciones/modelos/modelo_9322_bin_s_RF_LR_L2.pkl\n",
      "20231030T040220 : enderlab : INFO : Fin guardar fichero ../tfm_git/ejecuciones/modelos/modelo_9322_bin_s_RF_LR_L2.pkl\n"
     ]
    }
   ],
   "source": [
    "fichero_modelo = str.replace(\"modelo_\"+str(SEMILLA).zfill(4)+\"_\"+M_TIPO+\"_\"+M_SELECT+\"_\"+M_CLASIF+\".pkl\", \" \", \"_\")\n",
    "\n",
    "myfunc.save_modelo(mejor_modelo, myfunc.MODEL_DIR, fichero_modelo)"
   ]
  },
  {
   "cell_type": "markdown",
   "id": "a7a6aa2f",
   "metadata": {
    "papermill": {
     "duration": 0.005872,
     "end_time": "2023-10-30T03:02:20.303708",
     "exception": false,
     "start_time": "2023-10-30T03:02:20.297836",
     "status": "completed"
    },
    "tags": []
   },
   "source": [
    "#### Ver resultados del las iteraciones hechas por RandomSearchCV"
   ]
  },
  {
   "cell_type": "code",
   "execution_count": 9,
   "id": "1c5513df",
   "metadata": {
    "execution": {
     "iopub.execute_input": "2023-10-30T03:02:20.313667Z",
     "iopub.status.busy": "2023-10-30T03:02:20.313089Z",
     "iopub.status.idle": "2023-10-30T03:02:20.325012Z",
     "shell.execute_reply": "2023-10-30T03:02:20.324442Z"
    },
    "papermill": {
     "duration": 0.018344,
     "end_time": "2023-10-30T03:02:20.326301",
     "exception": false,
     "start_time": "2023-10-30T03:02:20.307957",
     "status": "completed"
    },
    "tags": []
   },
   "outputs": [
    {
     "name": "stdout",
     "output_type": "stream",
     "text": [
      "20231030T040220 : enderlab : INFO : Inicio ver resultados\n",
      "Mejores Hiperparámetros: {'selector__max_features': 1000, 'selector__estimator__n_estimators': 200, 'clasifier__solver': 'lbfgs', 'clasifier__penalty': 'l2', 'clasifier__max_iter': 10000}\n",
      "Mejores puntuaciones: 0.7936 | Params: {'selector__max_features': 1000, 'selector__estimator__n_estimators': 200, 'clasifier__solver': 'lbfgs', 'clasifier__penalty': 'l2', 'clasifier__max_iter': 10000}\n",
      "Media de las puntuaciones: 0.7936 | Params: {'selector__max_features': 1000, 'selector__estimator__n_estimators': 200, 'clasifier__solver': 'lbfgs', 'clasifier__penalty': 'l2', 'clasifier__max_iter': 10000}\n",
      "20231030T040220 : enderlab : INFO : Fin resultados\n"
     ]
    }
   ],
   "source": [
    "myfunc.ver_resultados_search(random_search)"
   ]
  },
  {
   "cell_type": "markdown",
   "id": "8a8074ce",
   "metadata": {
    "papermill": {
     "duration": 0.005549,
     "end_time": "2023-10-30T03:02:20.336989",
     "exception": false,
     "start_time": "2023-10-30T03:02:20.331440",
     "status": "completed"
    },
    "tags": []
   },
   "source": [
    "#### Ver métricas del mejor modelo"
   ]
  },
  {
   "cell_type": "code",
   "execution_count": 10,
   "id": "ed63e1ee",
   "metadata": {
    "execution": {
     "iopub.execute_input": "2023-10-30T03:02:20.350535Z",
     "iopub.status.busy": "2023-10-30T03:02:20.349950Z",
     "iopub.status.idle": "2023-10-30T03:02:21.105638Z",
     "shell.execute_reply": "2023-10-30T03:02:21.105015Z"
    },
    "papermill": {
     "duration": 0.766021,
     "end_time": "2023-10-30T03:02:21.107399",
     "exception": false,
     "start_time": "2023-10-30T03:02:20.341378",
     "status": "completed"
    },
    "tags": []
   },
   "outputs": [
    {
     "name": "stdout",
     "output_type": "stream",
     "text": [
      "20231030T040220 : enderlab : INFO : Inicio ver métricas\n"
     ]
    },
    {
     "name": "stdout",
     "output_type": "stream",
     "text": [
      "              precision    recall  f1-score   support\n",
      "\n",
      "           0       0.66      0.67      0.67        46\n",
      "           1       0.64      0.63      0.64        43\n",
      "\n",
      "    accuracy                           0.65        89\n",
      "   macro avg       0.65      0.65      0.65        89\n",
      "weighted avg       0.65      0.65      0.65        89\n",
      "\n",
      "\n",
      "\n",
      "   Exactitud: 0.6517\n",
      "   Precisión: 0.6512\n",
      "Sensibilidad: 0.6509\n",
      "    F1-score: 0.6510\n",
      "     AUC ROC: 0.7538\n"
     ]
    },
    {
     "data": {
      "image/png": "[encoded data removed]",
      "text/plain": [
       "<Figure size 300x100 with 2 Axes>"
      ]
     },
     "metadata": {},
     "output_type": "display_data"
    },
    {
     "data": {
      "image/png": "[encoded data removed]",
      "text/plain": [
       "<Figure size 800x500 with 1 Axes>"
      ]
     },
     "metadata": {},
     "output_type": "display_data"
    },
    {
     "name": "stdout",
     "output_type": "stream",
     "text": [
      "20231030T040221 : enderlab : INFO : Fin ver métricas\n"
     ]
    }
   ],
   "source": [
    "if M_TIPO.startswith(\"bin\"):\n",
    "    myfunc.ver_metricas(mejor_modelo, X_test, y_test)\n",
    "else:\n",
    "    myfunc.ver_metricas_multi(mejor_modelo, X_test, y_test)\n"
   ]
  },
  {
   "cell_type": "markdown",
   "id": "f85accd8",
   "metadata": {
    "papermill": {
     "duration": 0.005621,
     "end_time": "2023-10-30T03:02:21.119679",
     "exception": false,
     "start_time": "2023-10-30T03:02:21.114058",
     "status": "completed"
    },
    "tags": []
   },
   "source": [
    "#### Finalización del notebook"
   ]
  },
  {
   "cell_type": "code",
   "execution_count": 11,
   "id": "541d4943",
   "metadata": {
    "execution": {
     "iopub.execute_input": "2023-10-30T03:02:21.131602Z",
     "iopub.status.busy": "2023-10-30T03:02:21.131048Z",
     "iopub.status.idle": "2023-10-30T03:02:21.135053Z",
     "shell.execute_reply": "2023-10-30T03:02:21.134496Z"
    },
    "papermill": {
     "duration": 0.011082,
     "end_time": "2023-10-30T03:02:21.136247",
     "exception": false,
     "start_time": "2023-10-30T03:02:21.125165",
     "status": "completed"
    },
    "tags": []
   },
   "outputs": [
    {
     "name": "stdout",
     "output_type": "stream",
     "text": [
      "20231030T040221 : enderlab : INFO : Notebook ha tardado 14 seconds\n"
     ]
    }
   ],
   "source": [
    "end_time = datetime.datetime.now()\n",
    "total_time = end_time - start_time\n",
    "myfunc.verbose(f\"Notebook ha tardado {total_time.seconds} seconds\")"
   ]
  },
  {
   "cell_type": "markdown",
   "id": "43fd8024",
   "metadata": {
    "papermill": {
     "duration": 0.005085,
     "end_time": "2023-10-30T03:02:21.146399",
     "exception": false,
     "start_time": "2023-10-30T03:02:21.141314",
     "status": "completed"
    },
    "tags": []
   },
   "source": [
    "#### Guardar métricas"
   ]
  },
  {
   "cell_type": "code",
   "execution_count": 12,
   "id": "c2764b0d",
   "metadata": {
    "execution": {
     "iopub.execute_input": "2023-10-30T03:02:21.157930Z",
     "iopub.status.busy": "2023-10-30T03:02:21.157395Z",
     "iopub.status.idle": "2023-10-30T03:02:21.633685Z",
     "shell.execute_reply": "2023-10-30T03:02:21.633102Z"
    },
    "papermill": {
     "duration": 0.483459,
     "end_time": "2023-10-30T03:02:21.634992",
     "exception": false,
     "start_time": "2023-10-30T03:02:21.151533",
     "status": "completed"
    },
    "tags": []
   },
   "outputs": [
    {
     "name": "stdout",
     "output_type": "stream",
     "text": [
      "20231030T040221 : enderlab : INFO : Inicio guardar métricas\n",
      "20231030T040221 : enderlab : INFO : Inicio leer fichero ../tfm_git/ejecuciones/metricas/metricas_9322.csv\n",
      "20231030T040221 : enderlab : INFO : Fin leer fichero ../tfm_git/ejecuciones/metricas/metricas_9322.csv\n"
     ]
    },
    {
     "name": "stdout",
     "output_type": "stream",
     "text": [
      "20231030T040221 : enderlab : INFO : Inicio guardar fichero ../tfm_git/ejecuciones/metricas/metricas_9322.csv\n",
      "20231030T040221 : enderlab : INFO : Fichero borrado ../tfm_git/ejecuciones/metricas/metricas_9322.csv\n",
      "20231030T040221 : enderlab : INFO : Fin guardar fichero ../tfm_git/ejecuciones/metricas/metricas_9322.csv\n",
      "20231030T040221 : enderlab : INFO : Fin guardar métricas\n",
      "20231030T040221 : enderlab : INFO : Inicio leer fichero ../tfm_git/ejecuciones/metricas/metricas_9322.csv\n",
      "20231030T040221 : enderlab : INFO : Fin leer fichero ../tfm_git/ejecuciones/metricas/metricas_9322.csv\n"
     ]
    },
    {
     "data": {
      "text/html": [
       "<div>\n",
       "<style scoped>\n",
       "    .dataframe tbody tr th:only-of-type {\n",
       "        vertical-align: middle;\n",
       "    }\n",
       "\n",
       "    .dataframe tbody tr th {\n",
       "        vertical-align: top;\n",
       "    }\n",
       "\n",
       "    .dataframe thead th {\n",
       "        text-align: right;\n",
       "    }\n",
       "</style>\n",
       "<table border=\"1\" class=\"dataframe\">\n",
       "  <thead>\n",
       "    <tr style=\"text-align: right;\">\n",
       "      <th></th>\n",
       "      <th>tipo</th>\n",
       "      <th>select</th>\n",
       "      <th>clasific</th>\n",
       "      <th>semilla</th>\n",
       "      <th>accuracy</th>\n",
       "      <th>precision</th>\n",
       "      <th>recall</th>\n",
       "      <th>f1_score</th>\n",
       "      <th>roc_auc</th>\n",
       "      <th>hostname</th>\n",
       "      <th>total_time_sec</th>\n",
       "      <th>datetime</th>\n",
       "      <th>fichero_modelo</th>\n",
       "      <th>params</th>\n",
       "      <th>shape</th>\n",
       "      <th>features</th>\n",
       "    </tr>\n",
       "  </thead>\n",
       "  <tbody>\n",
       "    <tr>\n",
       "      <th>0</th>\n",
       "      <td>bin_s</td>\n",
       "      <td>RF</td>\n",
       "      <td>LR_L2</td>\n",
       "      <td>9322</td>\n",
       "      <td>0.651685</td>\n",
       "      <td>0.651216</td>\n",
       "      <td>0.650910</td>\n",
       "      <td>0.650980</td>\n",
       "      <td>0.753792</td>\n",
       "      <td>enderlab</td>\n",
       "      <td>14</td>\n",
       "      <td>2023-10-30 04:02:21.583036</td>\n",
       "      <td>modelo_9322_bin_s_RF_LR_L2.pkl</td>\n",
       "      <td>{'selector__max_features': 1000, 'selector__es...</td>\n",
       "      <td>X_test:(89, 18875)</td>\n",
       "      <td>['ENSG00000002587.10', 'ENSG00000003509.16', '...</td>\n",
       "    </tr>\n",
       "    <tr>\n",
       "      <th>0</th>\n",
       "      <td>bin_s</td>\n",
       "      <td>RF</td>\n",
       "      <td>LR_L1</td>\n",
       "      <td>9322</td>\n",
       "      <td>0.651685</td>\n",
       "      <td>0.651531</td>\n",
       "      <td>0.650152</td>\n",
       "      <td>0.650095</td>\n",
       "      <td>0.762892</td>\n",
       "      <td>enderlab</td>\n",
       "      <td>388</td>\n",
       "      <td>2023-10-30 04:01:59.885526</td>\n",
       "      <td>modelo_9322_bin_s_RF_LR_L1.pkl</td>\n",
       "      <td>{'selector__max_features': 1000, 'selector__es...</td>\n",
       "      <td>X_test:(89, 18875)</td>\n",
       "      <td>['ENSG00000002587.10', 'ENSG00000003509.16', '...</td>\n",
       "    </tr>\n",
       "    <tr>\n",
       "      <th>0</th>\n",
       "      <td>bin_s</td>\n",
       "      <td>RF</td>\n",
       "      <td>LR_EN</td>\n",
       "      <td>9322</td>\n",
       "      <td>0.707865</td>\n",
       "      <td>0.707825</td>\n",
       "      <td>0.706775</td>\n",
       "      <td>0.706940</td>\n",
       "      <td>0.787159</td>\n",
       "      <td>enderlab</td>\n",
       "      <td>176</td>\n",
       "      <td>2023-10-30 03:55:24.238131</td>\n",
       "      <td>modelo_9322_bin_s_RF_LR_EN.pkl</td>\n",
       "      <td>{'selector__max_features': 500, 'selector__est...</td>\n",
       "      <td>X_test:(89, 18875)</td>\n",
       "      <td>['ENSG00000002587.10', 'ENSG00000003509.16', '...</td>\n",
       "    </tr>\n",
       "  </tbody>\n",
       "</table>\n",
       "</div>"
      ],
      "text/plain": [
       "    tipo select clasific  semilla  accuracy  precision    recall  f1_score  \\\n",
       "0  bin_s     RF    LR_L2     9322  0.651685   0.651216  0.650910  0.650980   \n",
       "0  bin_s     RF    LR_L1     9322  0.651685   0.651531  0.650152  0.650095   \n",
       "0  bin_s     RF    LR_EN     9322  0.707865   0.707825  0.706775  0.706940   \n",
       "\n",
       "    roc_auc  hostname  total_time_sec                    datetime  \\\n",
       "0  0.753792  enderlab              14  2023-10-30 04:02:21.583036   \n",
       "0  0.762892  enderlab             388  2023-10-30 04:01:59.885526   \n",
       "0  0.787159  enderlab             176  2023-10-30 03:55:24.238131   \n",
       "\n",
       "                   fichero_modelo  \\\n",
       "0  modelo_9322_bin_s_RF_LR_L2.pkl   \n",
       "0  modelo_9322_bin_s_RF_LR_L1.pkl   \n",
       "0  modelo_9322_bin_s_RF_LR_EN.pkl   \n",
       "\n",
       "                                              params               shape  \\\n",
       "0  {'selector__max_features': 1000, 'selector__es...  X_test:(89, 18875)   \n",
       "0  {'selector__max_features': 1000, 'selector__es...  X_test:(89, 18875)   \n",
       "0  {'selector__max_features': 500, 'selector__est...  X_test:(89, 18875)   \n",
       "\n",
       "                                            features  \n",
       "0  ['ENSG00000002587.10', 'ENSG00000003509.16', '...  \n",
       "0  ['ENSG00000002587.10', 'ENSG00000003509.16', '...  \n",
       "0  ['ENSG00000002587.10', 'ENSG00000003509.16', '...  "
      ]
     },
     "metadata": {},
     "output_type": "display_data"
    }
   ],
   "source": [
    "if M_TIPO.startswith(\"bin\"):\n",
    "    myfunc.save_metricas_to_csv(random_search, X_test, y_test, M_TIPO, M_SELECT, M_CLASIF, total_time, SEMILLA, myfunc.MET_DIR, M_FICHERO, fichero_modelo)\n",
    "else:\n",
    "    myfunc.save_metricas_multi_to_csv(random_search, X_test, y_test, M_TIPO, M_SELECT, M_CLASIF, total_time, SEMILLA, myfunc.MET_DIR, M_FICHERO, fichero_modelo)\n",
    "\n",
    "df1=myfunc.read_metricas_to_df(myfunc.MET_DIR,M_FICHERO)\n",
    "\n",
    "display(df1.sort_values(\"datetime\", ascending=False)[:3])\n"
   ]
  },
  {
   "cell_type": "markdown",
   "id": "8afe9d7c",
   "metadata": {
    "papermill": {
     "duration": 0.005715,
     "end_time": "2023-10-30T03:02:21.646818",
     "exception": false,
     "start_time": "2023-10-30T03:02:21.641103",
     "status": "completed"
    },
    "tags": []
   },
   "source": [
    "#### Guardar resultados"
   ]
  },
  {
   "cell_type": "code",
   "execution_count": 13,
   "id": "5f2e7d0e",
   "metadata": {
    "execution": {
     "iopub.execute_input": "2023-10-30T03:02:21.659149Z",
     "iopub.status.busy": "2023-10-30T03:02:21.658680Z",
     "iopub.status.idle": "2023-10-30T03:02:21.669463Z",
     "shell.execute_reply": "2023-10-30T03:02:21.668843Z"
    },
    "papermill": {
     "duration": 0.01831,
     "end_time": "2023-10-30T03:02:21.670718",
     "exception": false,
     "start_time": "2023-10-30T03:02:21.652408",
     "status": "completed"
    },
    "tags": []
   },
   "outputs": [
    {
     "name": "stdout",
     "output_type": "stream",
     "text": [
      "20231030T040221 : enderlab : INFO : Inicio guardar resultados\n",
      "20231030T040221 : enderlab : INFO : Inicio guardar fichero ../tfm_git/ejecuciones/metricas/resultados_9322_bin_s-RF-LR_L2.csv\n",
      "20231030T040221 : enderlab : INFO : Fin guardar fichero ../tfm_git/ejecuciones/metricas/resultados_9322_bin_s-RF-LR_L2.csv\n",
      "20231030T040221 : enderlab : INFO : Fin guardar resultados\n"
     ]
    }
   ],
   "source": [
    "fichero_resultados=R_FICHERO+\"_\"+M_TIPO+\"-\"+M_SELECT+\"-\"+M_CLASIF+\".csv\"\n",
    "myfunc.save_resultados_to_csv(M_TIPO, M_SELECT, M_CLASIF,  random_search, myfunc.MET_DIR, fichero_resultados)\n"
   ]
  }
 ],
 "metadata": {
  "kernelspec": {
   "display_name": "Python 3 (ipykernel)",
   "language": "python",
   "name": "python3"
  },
  "language_info": {
   "codemirror_mode": {
    "name": "ipython",
    "version": 3
   },
   "file_extension": ".py",
   "mimetype": "text/x-python",
   "name": "python",
   "nbconvert_exporter": "python",
   "pygments_lexer": "ipython3",
   "version": "3.10.11"
  },
  "papermill": {
   "default_parameters": {},
   "duration": 20.057731,
   "end_time": "2023-10-30T03:02:24.293120",
   "environment_variables": {},
   "exception": null,
   "input_path": "03_entrenamiento.ipynb",
   "output_path": "ejecuciones/training/03_entrenamiento.20231030T040203.param_0000_9322_bin_s_RF_LR_L2.output.ipynb",
   "parameters": {
    "MAX_ITERS": 500,
    "M_CLASIF": "LR_L2",
    "M_FICHERO": "metricas_9322",
    "M_SELECT": "RF",
    "M_TIPO": "bin_s",
    "PRE_DATA_FILE": "rows_transpose_norm_by_gene_id_with_target_num_",
    "P_FICHERO": "param_0000_9322_bin_s_RF_LR_L2.yaml",
    "R_FICHERO": "resultados_9322",
    "SCORING": "roc_auc_ovr",
    "SEMILLA": 9322,
    "eval_clasifier": "LogisticRegressionCV(random_state=SEMILLA)",
    "eval_selector": "SelectFromModel(estimator=RandomForestClassifier(random_state=SEMILLA), threshold=-np.inf)",
    "param_distributions": {
     "clasifier__max_iter": [
      10000
     ],
     "clasifier__penalty": [
      "l2"
     ],
     "clasifier__solver": [
      "lbfgs"
     ],
     "selector__estimator__n_estimators": [
      200
     ],
     "selector__max_features": [
      1000
     ]
    }
   },
   "start_time": "2023-10-30T03:02:04.235389",
   "version": "2.4.0"
  }
 },
 "nbformat": 4,
 "nbformat_minor": 5
}