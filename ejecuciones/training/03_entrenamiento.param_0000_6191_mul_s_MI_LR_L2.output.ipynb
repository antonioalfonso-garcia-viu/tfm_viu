{
 "cells": [
  {
   "cell_type": "markdown",
   "id": "21499dbd",
   "metadata": {
    "papermill": {
     "duration": 0.004362,
     "end_time": "2023-10-30T11:03:49.152074",
     "exception": false,
     "start_time": "2023-10-30T11:03:49.147712",
     "status": "completed"
    },
    "tags": []
   },
   "source": [
    "##### Inicio"
   ]
  },
  {
   "cell_type": "markdown",
   "id": "fd69277f",
   "metadata": {
    "papermill": {
     "duration": 0.003557,
     "end_time": "2023-10-30T11:03:49.159497",
     "exception": false,
     "start_time": "2023-10-30T11:03:49.155940",
     "status": "completed"
    },
    "tags": []
   },
   "source": [
    "#### Carga de datos"
   ]
  },
  {
   "cell_type": "code",
   "execution_count": 1,
   "id": "8abb6641",
   "metadata": {
    "execution": {
     "iopub.execute_input": "2023-10-30T11:03:49.167945Z",
     "iopub.status.busy": "2023-10-30T11:03:49.167704Z",
     "iopub.status.idle": "2023-10-30T11:03:50.037046Z",
     "shell.execute_reply": "2023-10-30T11:03:50.036469Z"
    },
    "papermill": {
     "duration": 0.875164,
     "end_time": "2023-10-30T11:03:50.038315",
     "exception": false,
     "start_time": "2023-10-30T11:03:49.163151",
     "status": "completed"
    },
    "tags": []
   },
   "outputs": [
    {
     "name": "stdout",
     "output_type": "stream",
     "text": [
      "CPU_COUNT: 8; NODE: amilcar22; sys.version: 3.10.12 (main, Jul  5 2023, 19:22:19) [GCC 11.2.0]\n",
      "LOKY_MAX_CPU_COUNT: 6\n",
      "OMP_NUM_THREADS: 2\n"
     ]
    }
   ],
   "source": [
    "import os\n",
    "import numpy as np\n",
    "import pandas as pd\n",
    "import datetime\n",
    "import sklearn\n",
    "import logging\n",
    "import warnings\n",
    "\n",
    "from sklearn.pipeline import Pipeline\n",
    "from sklearn.model_selection import RandomizedSearchCV, KFold, cross_val_score, train_test_split\n",
    "from sklearn.metrics import accuracy_score, confusion_matrix, classification_report, roc_auc_score\n",
    "\n",
    "#  cargar algoritmos para aprendizaje supervisado\n",
    "from sklearn.feature_selection import SelectKBest, f_classif, SelectFromModel, mutual_info_classif\n",
    "from sklearn.svm import SVC\n",
    "from sklearn.ensemble import RandomForestClassifier\n",
    "from sklearn.linear_model import LogisticRegression,LogisticRegressionCV\n",
    "\n",
    "# importar fichero con utilidades propias\n",
    "from commons import myfunctions as myfunc\n"
   ]
  },
  {
   "cell_type": "markdown",
   "id": "9c123bbf",
   "metadata": {
    "papermill": {
     "duration": 0.002582,
     "end_time": "2023-10-30T11:03:50.043779",
     "exception": false,
     "start_time": "2023-10-30T11:03:50.041197",
     "status": "completed"
    },
    "tags": []
   },
   "source": [
    "#### Parámetros a utilizar en el entrenamiento.\n",
    "\n",
    "Se indican los 3 algoritmos de *selección de características* (eval_selector_xxx) y los 3 algoritmos para la _clasificación_ (eval_clasifier_xxx)\n",
    "\n",
    "En *param_distributions* se indicar los parámetros que utilizan los algoritmos en la función RandomSearchCV.\n",
    "\n",
    "Esta celda tiene la etiqueta **parameters** que servirá para poder lanzar los entrenamientos con la utilidad **papermill** pasándole un fichero con los parámetros. Los nuevos parámetros se situarán tras esta celda para tener prevalencia."
   ]
  },
  {
   "cell_type": "code",
   "execution_count": 2,
   "id": "6fa303a0",
   "metadata": {
    "execution": {
     "iopub.execute_input": "2023-10-30T11:03:50.049872Z",
     "iopub.status.busy": "2023-10-30T11:03:50.049575Z",
     "iopub.status.idle": "2023-10-30T11:03:50.056842Z",
     "shell.execute_reply": "2023-10-30T11:03:50.056303Z"
    },
    "papermill": {
     "duration": 0.011595,
     "end_time": "2023-10-30T11:03:50.057874",
     "exception": false,
     "start_time": "2023-10-30T11:03:50.046279",
     "status": "completed"
    },
    "tags": [
     "parameters"
    ]
   },
   "outputs": [
    {
     "name": "stdout",
     "output_type": "stream",
     "text": [
      "20231030T120350 : amilcar22 : INFO : Utilizando parámetros de mul_m\n"
     ]
    }
   ],
   "source": [
    "#  Parametros para el entrenamiento\n",
    "\n",
    "SEMILLA=        42\n",
    "M_TIPO=         \"mul_m\"\n",
    "M_SELECT=       \"MI\"\n",
    "M_CLASIF=       \"SVM\"\n",
    "R_FICHERO=      \"resultados\"\n",
    "M_FICHERO=      \"metricas\"\n",
    "PRE_DATA_FILE=  \"rows_transpose_norm_by_gene_id_with_target_num_\"\n",
    "SCORING=        \"roc_auc_ovr\" \n",
    "MAX_ITERS=      100\n",
    "\n",
    "def mutual_info_classif_state(X, y):\n",
    "    return mutual_info_classif(X, y, random_state=SEMILLA)\n",
    "\n",
    "eval_selector_mi = \"SelectKBest(score_func=mutual_info_classif_state)\"\n",
    "eval_selector_rf=  \"SelectFromModel(estimator=RandomForestClassifier(random_state=SEMILLA), threshold=-np.inf)\"\n",
    "eval_selector_anova=  \"SelectKBest(score_func=f_classif)\"\n",
    "\n",
    "eval_clasifier_svm= \"SVC(probability=True, random_state=SEMILLA)\"\n",
    "eval_clasifier_rf= \"RandomForestClassifier(random_state=SEMILLA)\"\n",
    "eval_clasifier_lr= \"LogisticRegressionCV(random_state=SEMILLA)\"\n",
    "\n",
    "if M_TIPO.startswith(\"bin_m\"):\n",
    "    myfunc.verbose(f\"Utilizando parámetros de {M_TIPO}\")\n",
    "    eval_selector = eval_selector_mi\n",
    "    eval_clasifier = eval_clasifier_svm\n",
    "\n",
    "    SEMILLA = 6578\n",
    "    M_SELECT = \"MI\"\n",
    "    M_CLASIF = \"SVM\"\n",
    "    param_distributions = {'selector__k': [1000], \n",
    "         'clasifier__kernel': ['rbf'], 'clasifier__gamma': [0.01], 'clasifier__C': [100]}\n",
    "elif M_TIPO.startswith(\"bin_s\"):\n",
    "    myfunc.verbose(f\"Utilizando parámetros de {M_TIPO}\")\n",
    "    eval_selector = eval_selector_rf\n",
    "    eval_clasifier = eval_clasifier_lr\n",
    "\n",
    "    SEMILLA = 6191\n",
    "    M_SELECT = \"RF\"\n",
    "    M_CLASIF = \"LR_L2\"\n",
    "    param_distributions = {'selector__max_features': [1000], 'selector__estimator__n_estimators': [200], \n",
    "        'clasifier__solver': ['lbfgs'], 'clasifier__penalty': ['l2'], 'clasifier__max_iter': [10000]}\n",
    "\n",
    "elif M_TIPO.startswith(\"mul_m\"):\n",
    "    myfunc.verbose(f\"Utilizando parámetros de {M_TIPO}\")\n",
    " \n",
    "    eval_selector = eval_selector_rf\n",
    "    eval_clasifier = eval_clasifier_lr\n",
    "\n",
    "    SEMILLA = 6191\n",
    "    M_SELECT = \"RF\"\n",
    "    M_CLASIF = \"LR_L2\"\n",
    "    param_distributions = {'selector__max_features': [1000], 'selector__estimator__n_estimators': [400], \n",
    "        'clasifier__solver': ['lbfgs'], 'clasifier__penalty': ['l2'], 'clasifier__max_iter': [10000]}\n",
    "\n",
    "else:\n",
    "    # M_TIPO.startswith(\"mul_s\"):\n",
    "    myfunc.verbose(f\"Utilizando parámetros de {M_TIPO}\")\n",
    "    eval_selector = eval_selector_anova\n",
    "    eval_clasifier = eval_clasifier_lr\n",
    "\n",
    "    SEMILLA = 1860\n",
    "    M_SELECT = \"ANOVA\"\n",
    "    M_CLASIF = \"LR_L2\"\n",
    "    param_distributions = {'selector__k': [1000], \n",
    "        'clasifier__solver': ['saga'], 'clasifier__penalty': ['l2'], 'clasifier__max_iter': [10000]}\n",
    "\n"
   ]
  },
  {
   "cell_type": "code",
   "execution_count": 3,
   "id": "492d5eaf",
   "metadata": {
    "execution": {
     "iopub.execute_input": "2023-10-30T11:03:50.063766Z",
     "iopub.status.busy": "2023-10-30T11:03:50.063579Z",
     "iopub.status.idle": "2023-10-30T11:03:50.067181Z",
     "shell.execute_reply": "2023-10-30T11:03:50.066718Z"
    },
    "papermill": {
     "duration": 0.007912,
     "end_time": "2023-10-30T11:03:50.068370",
     "exception": false,
     "start_time": "2023-10-30T11:03:50.060458",
     "status": "completed"
    },
    "tags": [
     "injected-parameters"
    ]
   },
   "outputs": [],
   "source": [
    "# Parameters\n",
    "M_TIPO = \"mul_s\"\n",
    "M_SELECT = \"MI\"\n",
    "M_CLASIF = \"LR_L2\"\n",
    "P_FICHERO = \"param_0000_6191_mul_s_MI_LR_L2.yaml\"\n",
    "R_FICHERO = \"resultados_6191\"\n",
    "M_FICHERO = \"metricas_6191\"\n",
    "PRE_DATA_FILE = \"rows_transpose_norm_by_gene_id_with_target_num_\"\n",
    "SCORING = \"roc_auc_ovr\"\n",
    "SEMILLA = 6191\n",
    "MAX_ITERS = 500\n",
    "eval_selector = \"SelectKBest(score_func=mutual_info_classif_state)\"\n",
    "eval_clasifier = \"LogisticRegressionCV(random_state=SEMILLA)\"\n",
    "param_distributions = {\n",
    "    \"selector__k\": [500],\n",
    "    \"clasifier__solver\": [\"saga\"],\n",
    "    \"clasifier__penalty\": [\"l2\"],\n",
    "    \"clasifier__max_iter\": [10000],\n",
    "}\n"
   ]
  },
  {
   "cell_type": "code",
   "execution_count": 4,
   "id": "1659f088",
   "metadata": {
    "execution": {
     "iopub.execute_input": "2023-10-30T11:03:50.074419Z",
     "iopub.status.busy": "2023-10-30T11:03:50.074253Z",
     "iopub.status.idle": "2023-10-30T11:03:50.077210Z",
     "shell.execute_reply": "2023-10-30T11:03:50.076700Z"
    },
    "papermill": {
     "duration": 0.007472,
     "end_time": "2023-10-30T11:03:50.078453",
     "exception": false,
     "start_time": "2023-10-30T11:03:50.070981",
     "status": "completed"
    },
    "tags": []
   },
   "outputs": [],
   "source": [
    "DATA_FILE = PRE_DATA_FILE + M_TIPO\n",
    "\n",
    "# si viene \"None\" en el parámetro max_depth, se le quitan las comillas para que no sea entendido por el algoritmo como un texto\n",
    "if \"clasifier__max_depth\" in param_distributions:\n",
    "    param_distributions['clasifier__max_depth'] = [None if x == 'None' else x for x in param_distributions['clasifier__max_depth']]"
   ]
  },
  {
   "cell_type": "markdown",
   "id": "8ddd2a61",
   "metadata": {
    "papermill": {
     "duration": 0.002799,
     "end_time": "2023-10-30T11:03:50.084155",
     "exception": false,
     "start_time": "2023-10-30T11:03:50.081356",
     "status": "completed"
    },
    "tags": []
   },
   "source": [
    "Asignar los algoritmos que se utilizarán en la función RandomSearchCV"
   ]
  },
  {
   "cell_type": "code",
   "execution_count": 5,
   "id": "d9731cf5",
   "metadata": {
    "execution": {
     "iopub.execute_input": "2023-10-30T11:03:50.090583Z",
     "iopub.status.busy": "2023-10-30T11:03:50.090404Z",
     "iopub.status.idle": "2023-10-30T11:03:50.093103Z",
     "shell.execute_reply": "2023-10-30T11:03:50.092580Z"
    },
    "papermill": {
     "duration": 0.007335,
     "end_time": "2023-10-30T11:03:50.094363",
     "exception": false,
     "start_time": "2023-10-30T11:03:50.087028",
     "status": "completed"
    },
    "tags": []
   },
   "outputs": [],
   "source": [
    "algor_selector=eval(eval_selector)\n",
    "algor_clasifier=eval(eval_clasifier)"
   ]
  },
  {
   "cell_type": "markdown",
   "id": "cbb82397",
   "metadata": {
    "papermill": {
     "duration": 0.003055,
     "end_time": "2023-10-30T11:03:50.100488",
     "exception": false,
     "start_time": "2023-10-30T11:03:50.097433",
     "status": "completed"
    },
    "tags": []
   },
   "source": [
    "#### Comprobar el entorno y leer fichero de muestras"
   ]
  },
  {
   "cell_type": "code",
   "execution_count": 6,
   "id": "213148cf",
   "metadata": {
    "execution": {
     "iopub.execute_input": "2023-10-30T11:03:50.107376Z",
     "iopub.status.busy": "2023-10-30T11:03:50.107186Z",
     "iopub.status.idle": "2023-10-30T11:03:50.233736Z",
     "shell.execute_reply": "2023-10-30T11:03:50.233164Z"
    },
    "papermill": {
     "duration": 0.131498,
     "end_time": "2023-10-30T11:03:50.235013",
     "exception": false,
     "start_time": "2023-10-30T11:03:50.103515",
     "status": "completed"
    },
    "tags": []
   },
   "outputs": [
    {
     "name": "stdout",
     "output_type": "stream",
     "text": [
      "20231030T120350 : amilcar22 : INFO : Encontrada carpeta DATA_DIR=../tfm_git/datos\n",
      "20231030T120350 : amilcar22 : INFO : Encontrada carpeta CFDNA_DIR=../tfm_git/datos/cfDNA_5hmC\n",
      "20231030T120350 : amilcar22 : INFO : Encontrada carpeta GENCODE_DIR=../tfm_git/datos/gencode\n",
      "20231030T120350 : amilcar22 : INFO : Encontrada carpeta H5_DIR=../tfm_git/datos/h5\n",
      "20231030T120350 : amilcar22 : INFO : Encontrada carpeta LOG_DIR=../tfm_git/datos/logs\n",
      "20231030T120350 : amilcar22 : INFO : Encontrada carpeta CSV_DIR=../tfm_git/datos/csv\n",
      "20231030T120350 : amilcar22 : INFO : Encontrada carpeta MODEL_DIR=../tfm_git/ejecuciones/modelos\n",
      "20231030T120350 : amilcar22 : INFO : Encontrada carpeta EXEC_DIR=../tfm_git/ejecuciones\n",
      "20231030T120350 : amilcar22 : INFO : Encontrada carpeta MET_DIR=../tfm_git/ejecuciones/metricas\n",
      "20231030T120350 : amilcar22 : INFO : Inicio leer fichero h5 ../tfm_git/datos/h5/rows_transpose_norm_by_gene_id_with_target_num_mul_s.h5\n",
      "20231030T120350 : amilcar22 : INFO : Leyendo clave /df\n",
      "20231030T120350 : amilcar22 : INFO : Tamaño (259, 18876)\n",
      "20231030T120350 : amilcar22 : INFO : Fin leer fichero h5 ../tfm_git/datos/h5/rows_transpose_norm_by_gene_id_with_target_num_mul_s.h5\n"
     ]
    },
    {
     "data": {
      "text/plain": [
       "target\n",
       "0    37\n",
       "1    37\n",
       "2    37\n",
       "3    37\n",
       "4    37\n",
       "5    37\n",
       "6    37\n",
       "dtype: int64"
      ]
     },
     "metadata": {},
     "output_type": "display_data"
    },
    {
     "name": "stdout",
     "output_type": "stream",
     "text": [
      "Shape df: (259, 18876)\n",
      "Shape X_train: (207, 18875)\n",
      "Shape X_test: (52, 18875)\n"
     ]
    }
   ],
   "source": [
    "start_time = datetime.datetime.now()\n",
    "\n",
    "myfunc.reset_vars()\n",
    "\n",
    "myfunc.NOTEBK_FILENAME = myfunc.get_nb_name()\n",
    "\n",
    "myfunc.check_enviroment(myfunc.DATA_DIR, myfunc.CFDNA_DIR, myfunc.GENCODE_DIR, myfunc.H5_DIR, myfunc.LOG_DIR, myfunc.CSV_DIR, myfunc.MODEL_DIR, myfunc.EXEC_DIR, myfunc.MET_DIR)\n",
    "\n",
    "# Leer fichero con las muestras\n",
    "df_t = myfunc.read_h5_to_df(DATA_FILE, myfunc.H5_DIR)\n",
    "display(df_t.groupby(\"target\").size())\n",
    "print(\"Shape df:\",df_t.shape)\n",
    "\n",
    "# Separar caracteristicas/genes de las etiquetas/tipos de cáncer\n",
    "X = df_t.iloc[:, :-1]  # Todas las columnas excepto la última\n",
    "y = df_t.iloc[:, -1]  # La última columna contiene los identificadores de los tipos de cáncer\n",
    "\n",
    "#  Crear el conjunto de datos de entrenamiento y de pruebas, y se fija la semilla para siempre coger el mismo juego de muestras\n",
    "X_train, X_test, y_train, y_test = train_test_split(X, y, test_size=0.2, shuffle=True, random_state=42)\n",
    "print(\"Shape X_train:\",X_train.shape)\n",
    "print(\"Shape X_test:\",X_test.shape)\n"
   ]
  },
  {
   "cell_type": "markdown",
   "id": "30067cfc",
   "metadata": {
    "papermill": {
     "duration": 0.002828,
     "end_time": "2023-10-30T11:03:50.241167",
     "exception": false,
     "start_time": "2023-10-30T11:03:50.238339",
     "status": "completed"
    },
    "tags": []
   },
   "source": [
    "#### Selección de características y clasificación."
   ]
  },
  {
   "cell_type": "code",
   "execution_count": 7,
   "id": "ce50f36d",
   "metadata": {
    "execution": {
     "iopub.execute_input": "2023-10-30T11:03:50.247643Z",
     "iopub.status.busy": "2023-10-30T11:03:50.247448Z",
     "iopub.status.idle": "2023-10-30T11:12:45.801491Z",
     "shell.execute_reply": "2023-10-30T11:12:45.800913Z"
    },
    "papermill": {
     "duration": 535.558826,
     "end_time": "2023-10-30T11:12:45.802798",
     "exception": false,
     "start_time": "2023-10-30T11:03:50.243972",
     "status": "completed"
    },
    "tags": []
   },
   "outputs": [
    {
     "name": "stdout",
     "output_type": "stream",
     "text": [
      "20231030T120350 : amilcar22 : INFO : Iniciando entrenamiento\n",
      "num_iter: 1 , max_iter: 1\n"
     ]
    },
    {
     "name": "stdout",
     "output_type": "stream",
     "text": [
      "Fitting 5 folds for each of 1 candidates, totalling 5 fits\n"
     ]
    },
    {
     "name": "stdout",
     "output_type": "stream",
     "text": [
      "[CV 2/5] END clasifier__max_iter=10000, clasifier__penalty=l2, clasifier__solver=saga, selector__k=500;, score=0.747 total time= 3.5min\n"
     ]
    },
    {
     "name": "stdout",
     "output_type": "stream",
     "text": [
      "[CV 5/5] END clasifier__max_iter=10000, clasifier__penalty=l2, clasifier__solver=saga, selector__k=500;, score=0.770 total time= 3.7min\n"
     ]
    },
    {
     "name": "stdout",
     "output_type": "stream",
     "text": [
      "[CV 1/5] END clasifier__max_iter=10000, clasifier__penalty=l2, clasifier__solver=saga, selector__k=500;, score=0.836 total time= 3.8min\n"
     ]
    },
    {
     "name": "stdout",
     "output_type": "stream",
     "text": [
      "Mejores Hiperparámetros: {'selector__k': 500, 'clasifier__solver': 'saga', 'clasifier__penalty': 'l2', 'clasifier__max_iter': 10000}\n",
      "Mejor Puntuación: 0.7709\n",
      "20231030T121245 : amilcar22 : INFO : Fin entrenamiento\n"
     ]
    }
   ],
   "source": [
    "myfunc.verbose(\"Iniciando entrenamiento\")\n",
    "\n",
    "kf = KFold(n_splits=5, shuffle=True, random_state=SEMILLA)\n",
    "\n",
    "# Crear el pipeline para el flujo de tareas\n",
    "tasks_pipeline = Pipeline([\n",
    "    ('selector', algor_selector),\n",
    "    ('clasifier', algor_clasifier)\n",
    "])\n",
    "\n",
    "# MAX_ITERS puede limitar el número de iteraciones si son excesivas para las combinaciones de parámetros buscando un óptimo local, \n",
    "# sino funcionaría como GridSearchCV al revisar todas las cominaciones de los parámetros\n",
    "num_iteraciones = 1\n",
    "num_iteraciones = num_iteraciones * np.prod([len(elemento1) for _, elemento1 in param_distributions.items()])\n",
    "max_iteraciones = num_iteraciones if num_iteraciones <= MAX_ITERS else MAX_ITERS\n",
    "print(\"num_iter:\",num_iteraciones,\", max_iter:\",max_iteraciones)\n",
    "\n",
    "random_search = RandomizedSearchCV(\n",
    "    tasks_pipeline, \n",
    "    param_distributions, \n",
    "    n_iter=max_iteraciones,\n",
    "    scoring=SCORING,\n",
    "    cv=kf,\n",
    "    verbose=3, \n",
    "    random_state=SEMILLA, \n",
    "    n_jobs=-1\n",
    "    )\n",
    "\n",
    "# Entrenar el modelo\n",
    "random_search.fit(X_train, y_train)\n",
    "\n",
    "# Ver los mejores hiperparámetros encontrados\n",
    "print(f'Mejores Hiperparámetros: {random_search.best_params_}')\n",
    "print(f'Mejor Puntuación: {random_search.best_score_:.4f}')\n",
    "\n",
    "# Nos quedamos con el mejor modelo para ver las métricas\n",
    "mejor_modelo = random_search.best_estimator_\n",
    "\n",
    "myfunc.verbose(\"Fin entrenamiento\")"
   ]
  },
  {
   "cell_type": "markdown",
   "id": "51c5de01",
   "metadata": {
    "papermill": {
     "duration": 0.003154,
     "end_time": "2023-10-30T11:12:45.809622",
     "exception": false,
     "start_time": "2023-10-30T11:12:45.806468",
     "status": "completed"
    },
    "tags": []
   },
   "source": [
    "#### Guardar modelo"
   ]
  },
  {
   "cell_type": "code",
   "execution_count": 8,
   "id": "5c5985f2",
   "metadata": {
    "execution": {
     "iopub.execute_input": "2023-10-30T11:12:45.816703Z",
     "iopub.status.busy": "2023-10-30T11:12:45.816462Z",
     "iopub.status.idle": "2023-10-30T11:12:45.825881Z",
     "shell.execute_reply": "2023-10-30T11:12:45.825333Z"
    },
    "papermill": {
     "duration": 0.014439,
     "end_time": "2023-10-30T11:12:45.827159",
     "exception": false,
     "start_time": "2023-10-30T11:12:45.812720",
     "status": "completed"
    },
    "tags": []
   },
   "outputs": [
    {
     "name": "stdout",
     "output_type": "stream",
     "text": [
      "20231030T121245 : amilcar22 : INFO : Inicio guardar fichero ../tfm_git/ejecuciones/modelos/modelo_6191_mul_s_MI_LR_L2.pkl\n",
      "20231030T121245 : amilcar22 : INFO : Fin guardar fichero ../tfm_git/ejecuciones/modelos/modelo_6191_mul_s_MI_LR_L2.pkl\n"
     ]
    }
   ],
   "source": [
    "fichero_modelo = str.replace(\"modelo_\"+str(SEMILLA).zfill(4)+\"_\"+M_TIPO+\"_\"+M_SELECT+\"_\"+M_CLASIF+\".pkl\", \" \", \"_\")\n",
    "\n",
    "myfunc.save_modelo(mejor_modelo, myfunc.MODEL_DIR, fichero_modelo)"
   ]
  },
  {
   "cell_type": "markdown",
   "id": "bb86cccf",
   "metadata": {
    "papermill": {
     "duration": 0.003186,
     "end_time": "2023-10-30T11:12:45.833851",
     "exception": false,
     "start_time": "2023-10-30T11:12:45.830665",
     "status": "completed"
    },
    "tags": []
   },
   "source": [
    "#### Ver resultados del las iteraciones hechas por RandomSearchCV"
   ]
  },
  {
   "cell_type": "code",
   "execution_count": 9,
   "id": "857a5ce6",
   "metadata": {
    "execution": {
     "iopub.execute_input": "2023-10-30T11:12:45.841132Z",
     "iopub.status.busy": "2023-10-30T11:12:45.840911Z",
     "iopub.status.idle": "2023-10-30T11:12:45.846670Z",
     "shell.execute_reply": "2023-10-30T11:12:45.846183Z"
    },
    "papermill": {
     "duration": 0.010634,
     "end_time": "2023-10-30T11:12:45.847822",
     "exception": false,
     "start_time": "2023-10-30T11:12:45.837188",
     "status": "completed"
    },
    "tags": []
   },
   "outputs": [
    {
     "name": "stdout",
     "output_type": "stream",
     "text": [
      "20231030T121245 : amilcar22 : INFO : Inicio ver resultados\n",
      "Mejores Hiperparámetros: {'selector__k': 500, 'clasifier__solver': 'saga', 'clasifier__penalty': 'l2', 'clasifier__max_iter': 10000}\n",
      "Mejores puntuaciones: 0.7709 | Params: {'selector__k': 500, 'clasifier__solver': 'saga', 'clasifier__penalty': 'l2', 'clasifier__max_iter': 10000}\n",
      "Media de las puntuaciones: 0.7709 | Params: {'selector__k': 500, 'clasifier__solver': 'saga', 'clasifier__penalty': 'l2', 'clasifier__max_iter': 10000}\n",
      "20231030T121245 : amilcar22 : INFO : Fin resultados\n"
     ]
    }
   ],
   "source": [
    "myfunc.ver_resultados_search(random_search)"
   ]
  },
  {
   "cell_type": "markdown",
   "id": "78e9377a",
   "metadata": {
    "papermill": {
     "duration": 0.003154,
     "end_time": "2023-10-30T11:12:45.854460",
     "exception": false,
     "start_time": "2023-10-30T11:12:45.851306",
     "status": "completed"
    },
    "tags": []
   },
   "source": [
    "#### Ver métricas del mejor modelo"
   ]
  },
  {
   "cell_type": "code",
   "execution_count": 10,
   "id": "980448f8",
   "metadata": {
    "execution": {
     "iopub.execute_input": "2023-10-30T11:12:45.861568Z",
     "iopub.status.busy": "2023-10-30T11:12:45.861371Z",
     "iopub.status.idle": "2023-10-30T11:12:46.462748Z",
     "shell.execute_reply": "2023-10-30T11:12:46.462187Z"
    },
    "papermill": {
     "duration": 0.606512,
     "end_time": "2023-10-30T11:12:46.464098",
     "exception": false,
     "start_time": "2023-10-30T11:12:45.857586",
     "status": "completed"
    },
    "tags": []
   },
   "outputs": [
    {
     "name": "stdout",
     "output_type": "stream",
     "text": [
      "20231030T121245 : amilcar22 : INFO : Inicio ver métricas multiclase\n",
      "              precision    recall  f1-score   support\n",
      "\n",
      "           0       0.50      0.27      0.35        11\n",
      "           1       1.00      0.50      0.67         8\n",
      "           2       0.20      0.12      0.15         8\n",
      "           3       0.27      0.60      0.37         5\n",
      "           4       0.67      1.00      0.80         8\n",
      "           5       0.75      0.50      0.60         6\n",
      "           6       0.40      0.67      0.50         6\n",
      "\n",
      "    accuracy                           0.50        52\n",
      "   macro avg       0.54      0.52      0.49        52\n",
      "weighted avg       0.55      0.50      0.49        52\n",
      "\n"
     ]
    },
    {
     "name": "stdout",
     "output_type": "stream",
     "text": [
      "\n",
      "\n",
      "           Exactitud: 0.500000\n",
      "   Precisión (media): 0.541342\n",
      "      Recall (media): 0.523485\n",
      "    F1-score (media): 0.492636\n",
      "\n",
      "\n",
      "AUC para el tipo de cáncer 0-Control.... 0.5787\n",
      "AUC para el tipo de cáncer 1-Bladder.... 0.8977\n",
      "AUC para el tipo de cáncer 2-Breast..... 0.7472\n",
      "AUC para el tipo de cáncer 3-Colorectal. 0.7617\n",
      "AUC para el tipo de cáncer 4-Kidney..... 0.9432\n",
      "AUC para el tipo de cáncer 5-Lung....... 0.9529\n",
      "AUC para el tipo de cáncer 6-Prostate... 0.8442\n",
      "\n",
      "Media de AUC: 0.8179\n"
     ]
    },
    {
     "data": {
      "image/png": "[encoded data removed]",
      "text/plain": [
       "<Figure size 1000x600 with 1 Axes>"
      ]
     },
     "metadata": {},
     "output_type": "display_data"
    },
    {
     "name": "stdout",
     "output_type": "stream",
     "text": [
      "\n",
      "\n"
     ]
    },
    {
     "data": {
      "image/png": "[encoded data removed]",
      "text/plain": [
       "<Figure size 800x400 with 2 Axes>"
      ]
     },
     "metadata": {},
     "output_type": "display_data"
    },
    {
     "name": "stdout",
     "output_type": "stream",
     "text": [
      "\n",
      "\n",
      "Puntuación Jaccard para el cáncer tipo 0-Control.... 0.2143\n",
      "Puntuación Jaccard para el cáncer tipo 1-Bladder.... 0.5000\n",
      "Puntuación Jaccard para el cáncer tipo 2-Breast..... 0.0833\n",
      "Puntuación Jaccard para el cáncer tipo 3-Colorectal. 0.2308\n",
      "Puntuación Jaccard para el cáncer tipo 4-Kidney..... 0.6667\n",
      "Puntuación Jaccard para el cáncer tipo 5-Lung....... 0.4286\n",
      "Puntuación Jaccard para el cáncer tipo 6-Prostate... 0.3333\n",
      "\n",
      "Media de la puntuación de Jaccard: 0.3510\n"
     ]
    }
   ],
   "source": [
    "if M_TIPO.startswith(\"bin\"):\n",
    "    myfunc.ver_metricas(mejor_modelo, X_test, y_test)\n",
    "else:\n",
    "    myfunc.ver_metricas_multi(mejor_modelo, X_test, y_test)\n"
   ]
  },
  {
   "cell_type": "markdown",
   "id": "257c5611",
   "metadata": {
    "papermill": {
     "duration": 0.004441,
     "end_time": "2023-10-30T11:12:46.473492",
     "exception": false,
     "start_time": "2023-10-30T11:12:46.469051",
     "status": "completed"
    },
    "tags": []
   },
   "source": [
    "#### Finalización del notebook"
   ]
  },
  {
   "cell_type": "code",
   "execution_count": 11,
   "id": "7ece0861",
   "metadata": {
    "execution": {
     "iopub.execute_input": "2023-10-30T11:12:46.482799Z",
     "iopub.status.busy": "2023-10-30T11:12:46.482593Z",
     "iopub.status.idle": "2023-10-30T11:12:46.485904Z",
     "shell.execute_reply": "2023-10-30T11:12:46.485483Z"
    },
    "papermill": {
     "duration": 0.00937,
     "end_time": "2023-10-30T11:12:46.487088",
     "exception": false,
     "start_time": "2023-10-30T11:12:46.477718",
     "status": "completed"
    },
    "tags": []
   },
   "outputs": [
    {
     "name": "stdout",
     "output_type": "stream",
     "text": [
      "20231030T121246 : amilcar22 : INFO : Notebook ha tardado 536 seconds\n"
     ]
    }
   ],
   "source": [
    "end_time = datetime.datetime.now()\n",
    "total_time = end_time - start_time\n",
    "myfunc.verbose(f\"Notebook ha tardado {total_time.seconds} seconds\")"
   ]
  },
  {
   "cell_type": "markdown",
   "id": "28597527",
   "metadata": {
    "papermill": {
     "duration": 0.004303,
     "end_time": "2023-10-30T11:12:46.495979",
     "exception": false,
     "start_time": "2023-10-30T11:12:46.491676",
     "status": "completed"
    },
    "tags": []
   },
   "source": [
    "#### Guardar métricas"
   ]
  },
  {
   "cell_type": "code",
   "execution_count": 12,
   "id": "9e0d5806",
   "metadata": {
    "execution": {
     "iopub.execute_input": "2023-10-30T11:12:46.505172Z",
     "iopub.status.busy": "2023-10-30T11:12:46.504982Z",
     "iopub.status.idle": "2023-10-30T11:12:46.690243Z",
     "shell.execute_reply": "2023-10-30T11:12:46.689753Z"
    },
    "papermill": {
     "duration": 0.191319,
     "end_time": "2023-10-30T11:12:46.691539",
     "exception": false,
     "start_time": "2023-10-30T11:12:46.500220",
     "status": "completed"
    },
    "tags": []
   },
   "outputs": [
    {
     "name": "stdout",
     "output_type": "stream",
     "text": [
      "20231030T121246 : amilcar22 : INFO : Inicio guardar métricas multiclase\n",
      "20231030T121246 : amilcar22 : INFO : Inicio leer fichero ../tfm_git/ejecuciones/metricas/metricas_6191.csv\n",
      "20231030T121246 : amilcar22 : INFO : Fin leer fichero ../tfm_git/ejecuciones/metricas/metricas_6191.csv\n",
      "20231030T121246 : amilcar22 : INFO : Inicio guardar fichero ../tfm_git/ejecuciones/metricas/metricas_6191.csv\n",
      "20231030T121246 : amilcar22 : INFO : Fichero borrado ../tfm_git/ejecuciones/metricas/metricas_6191.csv\n"
     ]
    },
    {
     "name": "stdout",
     "output_type": "stream",
     "text": [
      "20231030T121246 : amilcar22 : INFO : Fin guardar fichero ../tfm_git/ejecuciones/metricas/metricas_6191.csv\n",
      "20231030T121246 : amilcar22 : INFO : Fin guardar métricas multiclase\n",
      "20231030T121246 : amilcar22 : INFO : Inicio leer fichero ../tfm_git/ejecuciones/metricas/metricas_6191.csv\n",
      "20231030T121246 : amilcar22 : INFO : Fin leer fichero ../tfm_git/ejecuciones/metricas/metricas_6191.csv\n"
     ]
    },
    {
     "data": {
      "text/html": [
       "<div>\n",
       "<style scoped>\n",
       "    .dataframe tbody tr th:only-of-type {\n",
       "        vertical-align: middle;\n",
       "    }\n",
       "\n",
       "    .dataframe tbody tr th {\n",
       "        vertical-align: top;\n",
       "    }\n",
       "\n",
       "    .dataframe thead th {\n",
       "        text-align: right;\n",
       "    }\n",
       "</style>\n",
       "<table border=\"1\" class=\"dataframe\">\n",
       "  <thead>\n",
       "    <tr style=\"text-align: right;\">\n",
       "      <th></th>\n",
       "      <th>tipo</th>\n",
       "      <th>select</th>\n",
       "      <th>clasific</th>\n",
       "      <th>semilla</th>\n",
       "      <th>accuracy</th>\n",
       "      <th>precision</th>\n",
       "      <th>recall</th>\n",
       "      <th>f1_score</th>\n",
       "      <th>roc_auc</th>\n",
       "      <th>hostname</th>\n",
       "      <th>total_time_sec</th>\n",
       "      <th>datetime</th>\n",
       "      <th>fichero_modelo</th>\n",
       "      <th>params</th>\n",
       "      <th>shape</th>\n",
       "      <th>features</th>\n",
       "      <th>roc_auc_ovr</th>\n",
       "      <th>indices_auc</th>\n",
       "      <th>indices_jaccard</th>\n",
       "    </tr>\n",
       "  </thead>\n",
       "  <tbody>\n",
       "    <tr>\n",
       "      <th>0</th>\n",
       "      <td>mul_s</td>\n",
       "      <td>MI</td>\n",
       "      <td>LR_L2</td>\n",
       "      <td>6191</td>\n",
       "      <td>0.500000</td>\n",
       "      <td>0.541342</td>\n",
       "      <td>0.523485</td>\n",
       "      <td>0.492636</td>\n",
       "      <td>NaN</td>\n",
       "      <td>amilcar22</td>\n",
       "      <td>536</td>\n",
       "      <td>2023-10-30 12:12:46.656882</td>\n",
       "      <td>modelo_6191_mul_s_MI_LR_L2.pkl</td>\n",
       "      <td>{'selector__k': 500, 'clasifier__solver': 'sag...</td>\n",
       "      <td>X_test:(52, 18875)</td>\n",
       "      <td>['ENSG00000005513.10', 'ENSG00000006025.13', '...</td>\n",
       "      <td>0.817941</td>\n",
       "      <td>[0.5787139689578714, 0.8977272727272727, 0.747...</td>\n",
       "      <td>[0.21428571428571427, 0.5, 0.08333333333333333...</td>\n",
       "    </tr>\n",
       "    <tr>\n",
       "      <th>0</th>\n",
       "      <td>mul_s</td>\n",
       "      <td>MI</td>\n",
       "      <td>LR_L1</td>\n",
       "      <td>6191</td>\n",
       "      <td>0.519231</td>\n",
       "      <td>0.533220</td>\n",
       "      <td>0.536472</td>\n",
       "      <td>0.506716</td>\n",
       "      <td>NaN</td>\n",
       "      <td>amilcar22</td>\n",
       "      <td>734</td>\n",
       "      <td>2023-10-30 12:03:44.032730</td>\n",
       "      <td>modelo_6191_mul_s_MI_LR_L1.pkl</td>\n",
       "      <td>{'selector__k': 500, 'clasifier__solver': 'sag...</td>\n",
       "      <td>X_test:(52, 18875)</td>\n",
       "      <td>['ENSG00000005513.10', 'ENSG00000006025.13', '...</td>\n",
       "      <td>0.825325</td>\n",
       "      <td>[0.5986696230598669, 0.8977272727272728, 0.775...</td>\n",
       "      <td>[0.2857142857142857, 0.4444444444444444, 0.083...</td>\n",
       "    </tr>\n",
       "    <tr>\n",
       "      <th>0</th>\n",
       "      <td>mul_s</td>\n",
       "      <td>MI</td>\n",
       "      <td>LR_EN</td>\n",
       "      <td>6191</td>\n",
       "      <td>0.500000</td>\n",
       "      <td>0.489286</td>\n",
       "      <td>0.491234</td>\n",
       "      <td>0.479909</td>\n",
       "      <td>NaN</td>\n",
       "      <td>amilcar22</td>\n",
       "      <td>1397</td>\n",
       "      <td>2023-10-30 11:51:23.452002</td>\n",
       "      <td>modelo_6191_mul_s_MI_LR_EN.pkl</td>\n",
       "      <td>{'selector__k': 1000, 'clasifier__solver': 'sa...</td>\n",
       "      <td>X_test:(52, 18875)</td>\n",
       "      <td>['ENSG00000003137.9', 'ENSG00000004864.14', 'E...</td>\n",
       "      <td>0.813018</td>\n",
       "      <td>[0.6363636363636364, 0.9204545454545454, 0.693...</td>\n",
       "      <td>[0.26666666666666666, 0.5555555555555556, 0.14...</td>\n",
       "    </tr>\n",
       "  </tbody>\n",
       "</table>\n",
       "</div>"
      ],
      "text/plain": [
       "    tipo select clasific  semilla  accuracy  precision    recall  f1_score  \\\n",
       "0  mul_s     MI    LR_L2     6191  0.500000   0.541342  0.523485  0.492636   \n",
       "0  mul_s     MI    LR_L1     6191  0.519231   0.533220  0.536472  0.506716   \n",
       "0  mul_s     MI    LR_EN     6191  0.500000   0.489286  0.491234  0.479909   \n",
       "\n",
       "   roc_auc   hostname  total_time_sec                    datetime  \\\n",
       "0      NaN  amilcar22             536  2023-10-30 12:12:46.656882   \n",
       "0      NaN  amilcar22             734  2023-10-30 12:03:44.032730   \n",
       "0      NaN  amilcar22            1397  2023-10-30 11:51:23.452002   \n",
       "\n",
       "                   fichero_modelo  \\\n",
       "0  modelo_6191_mul_s_MI_LR_L2.pkl   \n",
       "0  modelo_6191_mul_s_MI_LR_L1.pkl   \n",
       "0  modelo_6191_mul_s_MI_LR_EN.pkl   \n",
       "\n",
       "                                              params               shape  \\\n",
       "0  {'selector__k': 500, 'clasifier__solver': 'sag...  X_test:(52, 18875)   \n",
       "0  {'selector__k': 500, 'clasifier__solver': 'sag...  X_test:(52, 18875)   \n",
       "0  {'selector__k': 1000, 'clasifier__solver': 'sa...  X_test:(52, 18875)   \n",
       "\n",
       "                                            features  roc_auc_ovr  \\\n",
       "0  ['ENSG00000005513.10', 'ENSG00000006025.13', '...     0.817941   \n",
       "0  ['ENSG00000005513.10', 'ENSG00000006025.13', '...     0.825325   \n",
       "0  ['ENSG00000003137.9', 'ENSG00000004864.14', 'E...     0.813018   \n",
       "\n",
       "                                         indices_auc  \\\n",
       "0  [0.5787139689578714, 0.8977272727272727, 0.747...   \n",
       "0  [0.5986696230598669, 0.8977272727272728, 0.775...   \n",
       "0  [0.6363636363636364, 0.9204545454545454, 0.693...   \n",
       "\n",
       "                                     indices_jaccard  \n",
       "0  [0.21428571428571427, 0.5, 0.08333333333333333...  \n",
       "0  [0.2857142857142857, 0.4444444444444444, 0.083...  \n",
       "0  [0.26666666666666666, 0.5555555555555556, 0.14...  "
      ]
     },
     "metadata": {},
     "output_type": "display_data"
    }
   ],
   "source": [
    "if M_TIPO.startswith(\"bin\"):\n",
    "    myfunc.save_metricas_to_csv(random_search, X_test, y_test, M_TIPO, M_SELECT, M_CLASIF, total_time, SEMILLA, myfunc.MET_DIR, M_FICHERO, fichero_modelo)\n",
    "else:\n",
    "    myfunc.save_metricas_multi_to_csv(random_search, X_test, y_test, M_TIPO, M_SELECT, M_CLASIF, total_time, SEMILLA, myfunc.MET_DIR, M_FICHERO, fichero_modelo)\n",
    "\n",
    "df1=myfunc.read_metricas_to_df(myfunc.MET_DIR,M_FICHERO)\n",
    "\n",
    "display(df1.sort_values(\"datetime\", ascending=False)[:3])\n"
   ]
  },
  {
   "cell_type": "markdown",
   "id": "eed079eb",
   "metadata": {
    "papermill": {
     "duration": 0.004771,
     "end_time": "2023-10-30T11:12:46.701702",
     "exception": false,
     "start_time": "2023-10-30T11:12:46.696931",
     "status": "completed"
    },
    "tags": []
   },
   "source": [
    "#### Guardar resultados"
   ]
  },
  {
   "cell_type": "code",
   "execution_count": 13,
   "id": "7c23b9f5",
   "metadata": {
    "execution": {
     "iopub.execute_input": "2023-10-30T11:12:46.711768Z",
     "iopub.status.busy": "2023-10-30T11:12:46.711567Z",
     "iopub.status.idle": "2023-10-30T11:12:46.719845Z",
     "shell.execute_reply": "2023-10-30T11:12:46.719431Z"
    },
    "papermill": {
     "duration": 0.015023,
     "end_time": "2023-10-30T11:12:46.721128",
     "exception": false,
     "start_time": "2023-10-30T11:12:46.706105",
     "status": "completed"
    },
    "tags": []
   },
   "outputs": [
    {
     "name": "stdout",
     "output_type": "stream",
     "text": [
      "20231030T121246 : amilcar22 : INFO : Inicio guardar resultados\n",
      "20231030T121246 : amilcar22 : INFO : Inicio guardar fichero ../tfm_git/ejecuciones/metricas/resultados_6191_mul_s-MI-LR_L2.csv\n",
      "20231030T121246 : amilcar22 : INFO : Fin guardar fichero ../tfm_git/ejecuciones/metricas/resultados_6191_mul_s-MI-LR_L2.csv\n",
      "20231030T121246 : amilcar22 : INFO : Fin guardar resultados\n"
     ]
    }
   ],
   "source": [
    "fichero_resultados=R_FICHERO+\"_\"+M_TIPO+\"-\"+M_SELECT+\"-\"+M_CLASIF+\".csv\"\n",
    "myfunc.save_resultados_to_csv(M_TIPO, M_SELECT, M_CLASIF,  random_search, myfunc.MET_DIR, fichero_resultados)\n"
   ]
  }
 ],
 "metadata": {
  "kernelspec": {
   "display_name": "Python 3 (ipykernel)",
   "language": "python",
   "name": "python3"
  },
  "language_info": {
   "codemirror_mode": {
    "name": "ipython",
    "version": 3
   },
   "file_extension": ".py",
   "mimetype": "text/x-python",
   "name": "python",
   "nbconvert_exporter": "python",
   "pygments_lexer": "ipython3",
   "version": "3.10.12"
  },
  "papermill": {
   "default_parameters": {},
   "duration": 541.105608,
   "end_time": "2023-10-30T11:12:49.344345",
   "environment_variables": {},
   "exception": null,
   "input_path": "03_entrenamiento.ipynb",
   "output_path": "ejecuciones/training/03_entrenamiento.20231030T120347.param_0000_6191_mul_s_MI_LR_L2.output.ipynb",
   "parameters": {
    "MAX_ITERS": 500,
    "M_CLASIF": "LR_L2",
    "M_FICHERO": "metricas_6191",
    "M_SELECT": "MI",
    "M_TIPO": "mul_s",
    "PRE_DATA_FILE": "rows_transpose_norm_by_gene_id_with_target_num_",
    "P_FICHERO": "param_0000_6191_mul_s_MI_LR_L2.yaml",
    "R_FICHERO": "resultados_6191",
    "SCORING": "roc_auc_ovr",
    "SEMILLA": 6191,
    "eval_clasifier": "LogisticRegressionCV(random_state=SEMILLA)",
    "eval_selector": "SelectKBest(score_func=mutual_info_classif_state)",
    "param_distributions": {
     "clasifier__max_iter": [
      10000
     ],
     "clasifier__penalty": [
      "l2"
     ],
     "clasifier__solver": [
      "saga"
     ],
     "selector__k": [
      500
     ]
    }
   },
   "start_time": "2023-10-30T11:03:48.238737",
   "version": "2.4.0"
  }
 },
 "nbformat": 4,
 "nbformat_minor": 5
}