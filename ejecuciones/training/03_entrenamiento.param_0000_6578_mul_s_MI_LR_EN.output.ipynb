{
 "cells": [
  {
   "cell_type": "markdown",
   "id": "12b80c98",
   "metadata": {
    "papermill": {
     "duration": 0.009429,
     "end_time": "2023-10-30T17:49:32.677491",
     "exception": false,
     "start_time": "2023-10-30T17:49:32.668062",
     "status": "completed"
    },
    "tags": []
   },
   "source": [
    "##### Inicio"
   ]
  },
  {
   "cell_type": "markdown",
   "id": "96fff009",
   "metadata": {
    "papermill": {
     "duration": 0.004371,
     "end_time": "2023-10-30T17:49:32.687435",
     "exception": false,
     "start_time": "2023-10-30T17:49:32.683064",
     "status": "completed"
    },
    "tags": []
   },
   "source": [
    "#### Carga de datos"
   ]
  },
  {
   "cell_type": "code",
   "execution_count": 1,
   "id": "df959532",
   "metadata": {
    "execution": {
     "iopub.execute_input": "2023-10-30T17:49:32.695318Z",
     "iopub.status.busy": "2023-10-30T17:49:32.694309Z",
     "iopub.status.idle": "2023-10-30T17:49:33.881184Z",
     "shell.execute_reply": "2023-10-30T17:49:33.880179Z"
    },
    "papermill": {
     "duration": 1.190876,
     "end_time": "2023-10-30T17:49:33.882184",
     "exception": false,
     "start_time": "2023-10-30T17:49:32.691308",
     "status": "completed"
    },
    "tags": []
   },
   "outputs": [
    {
     "name": "stdout",
     "output_type": "stream",
     "text": [
      "CPU_COUNT: 24; NODE: amilcar32; sys.version: 3.10.12 | packaged by Anaconda, Inc. | (main, Jul  5 2023, 19:09:20) [MSC v.1916 64 bit (AMD64)]\n",
      "LOKY_MAX_CPU_COUNT is not set.\n",
      "OMP_NUM_THREADS is not set.\n"
     ]
    }
   ],
   "source": [
    "import os\n",
    "import numpy as np\n",
    "import pandas as pd\n",
    "import datetime\n",
    "import sklearn\n",
    "import logging\n",
    "import warnings\n",
    "\n",
    "from sklearn.pipeline import Pipeline\n",
    "from sklearn.model_selection import RandomizedSearchCV, KFold, cross_val_score, train_test_split\n",
    "from sklearn.metrics import accuracy_score, confusion_matrix, classification_report, roc_auc_score\n",
    "\n",
    "#  cargar algoritmos para aprendizaje supervisado\n",
    "from sklearn.feature_selection import SelectKBest, f_classif, SelectFromModel, mutual_info_classif\n",
    "from sklearn.svm import SVC\n",
    "from sklearn.ensemble import RandomForestClassifier\n",
    "from sklearn.linear_model import LogisticRegression,LogisticRegressionCV\n",
    "\n",
    "# importar fichero con utilidades propias\n",
    "from commons import myfunctions as myfunc\n"
   ]
  },
  {
   "cell_type": "markdown",
   "id": "264ccff0",
   "metadata": {
    "papermill": {
     "duration": 0.003104,
     "end_time": "2023-10-30T17:49:33.888295",
     "exception": false,
     "start_time": "2023-10-30T17:49:33.885191",
     "status": "completed"
    },
    "tags": []
   },
   "source": [
    "#### Parámetros a utilizar en el entrenamiento.\n",
    "\n",
    "Se indican los 3 algoritmos de *selección de características* (eval_selector_xxx) y los 3 algoritmos para la _clasificación_ (eval_clasifier_xxx)\n",
    "\n",
    "En *param_distributions* se indicar los parámetros que utilizan los algoritmos en la función RandomSearchCV.\n",
    "\n",
    "Esta celda tiene la etiqueta **parameters** que servirá para poder lanzar los entrenamientos con la utilidad **papermill** pasándole un fichero con los parámetros. Los nuevos parámetros se situarán tras esta celda para tener prevalencia."
   ]
  },
  {
   "cell_type": "code",
   "execution_count": 2,
   "id": "bb3491dc",
   "metadata": {
    "execution": {
     "iopub.execute_input": "2023-10-30T17:49:33.895518Z",
     "iopub.status.busy": "2023-10-30T17:49:33.894519Z",
     "iopub.status.idle": "2023-10-30T17:49:33.911001Z",
     "shell.execute_reply": "2023-10-30T17:49:33.911001Z"
    },
    "papermill": {
     "duration": 0.020488,
     "end_time": "2023-10-30T17:49:33.912002",
     "exception": false,
     "start_time": "2023-10-30T17:49:33.891514",
     "status": "completed"
    },
    "tags": [
     "parameters"
    ]
   },
   "outputs": [
    {
     "name": "stdout",
     "output_type": "stream",
     "text": [
      "20231030T184933 : amilcar32 : INFO : Utilizando parámetros de mul_m\n"
     ]
    }
   ],
   "source": [
    "#  Parametros para el entrenamiento\n",
    "\n",
    "SEMILLA=        42\n",
    "M_TIPO=         \"mul_m\"\n",
    "M_SELECT=       \"MI\"\n",
    "M_CLASIF=       \"SVM\"\n",
    "R_FICHERO=      \"resultados\"\n",
    "M_FICHERO=      \"metricas\"\n",
    "PRE_DATA_FILE=  \"rows_transpose_norm_by_gene_id_with_target_num_\"\n",
    "SCORING=        \"roc_auc_ovr\" \n",
    "MAX_ITERS=      100\n",
    "\n",
    "def mutual_info_classif_state(X, y):\n",
    "    return mutual_info_classif(X, y, random_state=SEMILLA)\n",
    "\n",
    "eval_selector_mi = \"SelectKBest(score_func=mutual_info_classif_state)\"\n",
    "eval_selector_rf=  \"SelectFromModel(estimator=RandomForestClassifier(random_state=SEMILLA), threshold=-np.inf)\"\n",
    "eval_selector_anova=  \"SelectKBest(score_func=f_classif)\"\n",
    "\n",
    "eval_clasifier_svm= \"SVC(probability=True, random_state=SEMILLA)\"\n",
    "eval_clasifier_rf= \"RandomForestClassifier(random_state=SEMILLA)\"\n",
    "eval_clasifier_lr= \"LogisticRegressionCV(random_state=SEMILLA)\"\n",
    "\n",
    "if M_TIPO.startswith(\"bin_m\"):\n",
    "    myfunc.verbose(f\"Utilizando parámetros de {M_TIPO}\")\n",
    "    eval_selector = eval_selector_mi\n",
    "    eval_clasifier = eval_clasifier_svm\n",
    "\n",
    "    SEMILLA = 6578\n",
    "    M_SELECT = \"MI\"\n",
    "    M_CLASIF = \"SVM\"\n",
    "    param_distributions = {'selector__k': [1000], \n",
    "         'clasifier__kernel': ['rbf'], 'clasifier__gamma': [0.01], 'clasifier__C': [100]}\n",
    "elif M_TIPO.startswith(\"bin_s\"):\n",
    "    myfunc.verbose(f\"Utilizando parámetros de {M_TIPO}\")\n",
    "    eval_selector = eval_selector_rf\n",
    "    eval_clasifier = eval_clasifier_lr\n",
    "\n",
    "    SEMILLA = 6191\n",
    "    M_SELECT = \"RF\"\n",
    "    M_CLASIF = \"LR_L2\"\n",
    "    param_distributions = {'selector__max_features': [1000], 'selector__estimator__n_estimators': [200], \n",
    "        'clasifier__solver': ['lbfgs'], 'clasifier__penalty': ['l2'], 'clasifier__max_iter': [10000]}\n",
    "\n",
    "elif M_TIPO.startswith(\"mul_m\"):\n",
    "    myfunc.verbose(f\"Utilizando parámetros de {M_TIPO}\")\n",
    " \n",
    "    eval_selector = eval_selector_rf\n",
    "    eval_clasifier = eval_clasifier_lr\n",
    "\n",
    "    SEMILLA = 6191\n",
    "    M_SELECT = \"RF\"\n",
    "    M_CLASIF = \"LR_L2\"\n",
    "    param_distributions = {'selector__max_features': [1000], 'selector__estimator__n_estimators': [400], \n",
    "        'clasifier__solver': ['lbfgs'], 'clasifier__penalty': ['l2'], 'clasifier__max_iter': [10000]}\n",
    "\n",
    "else:\n",
    "    # M_TIPO.startswith(\"mul_s\"):\n",
    "    myfunc.verbose(f\"Utilizando parámetros de {M_TIPO}\")\n",
    "    eval_selector = eval_selector_anova\n",
    "    eval_clasifier = eval_clasifier_lr\n",
    "\n",
    "    SEMILLA = 1860\n",
    "    M_SELECT = \"ANOVA\"\n",
    "    M_CLASIF = \"LR_L2\"\n",
    "    param_distributions = {'selector__k': [1000], \n",
    "        'clasifier__solver': ['saga'], 'clasifier__penalty': ['l2'], 'clasifier__max_iter': [10000]}\n",
    "\n"
   ]
  },
  {
   "cell_type": "code",
   "execution_count": 3,
   "id": "16c7694a",
   "metadata": {
    "execution": {
     "iopub.execute_input": "2023-10-30T17:49:33.919003Z",
     "iopub.status.busy": "2023-10-30T17:49:33.919003Z",
     "iopub.status.idle": "2023-10-30T17:49:33.926425Z",
     "shell.execute_reply": "2023-10-30T17:49:33.926425Z"
    },
    "papermill": {
     "duration": 0.012424,
     "end_time": "2023-10-30T17:49:33.927426",
     "exception": false,
     "start_time": "2023-10-30T17:49:33.915002",
     "status": "completed"
    },
    "tags": [
     "injected-parameters"
    ]
   },
   "outputs": [],
   "source": [
    "# Parameters\n",
    "M_TIPO = \"mul_s\"\n",
    "M_SELECT = \"MI\"\n",
    "M_CLASIF = \"LR_EN\"\n",
    "P_FICHERO = \"param_0000_6578_mul_s_MI_LR_EN.yaml\"\n",
    "R_FICHERO = \"resultados_6578\"\n",
    "M_FICHERO = \"metricas_6578\"\n",
    "PRE_DATA_FILE = \"rows_transpose_norm_by_gene_id_with_target_num_\"\n",
    "SCORING = \"roc_auc_ovr\"\n",
    "SEMILLA = 6578\n",
    "MAX_ITERS = 500\n",
    "eval_selector = \"SelectKBest(score_func=mutual_info_classif_state)\"\n",
    "eval_clasifier = \"LogisticRegressionCV(random_state=SEMILLA)\"\n",
    "param_distributions = {\n",
    "    \"selector__k\": [1000],\n",
    "    \"clasifier__solver\": [\"saga\"],\n",
    "    \"clasifier__penalty\": [\"elasticnet\"],\n",
    "    \"clasifier__max_iter\": [10000],\n",
    "    \"clasifier__l1_ratios\": [[0.75]],\n",
    "}\n"
   ]
  },
  {
   "cell_type": "code",
   "execution_count": 4,
   "id": "b1b4f3cc",
   "metadata": {
    "execution": {
     "iopub.execute_input": "2023-10-30T17:49:33.934507Z",
     "iopub.status.busy": "2023-10-30T17:49:33.934507Z",
     "iopub.status.idle": "2023-10-30T17:49:33.941669Z",
     "shell.execute_reply": "2023-10-30T17:49:33.941669Z"
    },
    "papermill": {
     "duration": 0.013243,
     "end_time": "2023-10-30T17:49:33.943670",
     "exception": false,
     "start_time": "2023-10-30T17:49:33.930427",
     "status": "completed"
    },
    "tags": []
   },
   "outputs": [],
   "source": [
    "DATA_FILE = PRE_DATA_FILE + M_TIPO\n",
    "\n",
    "# si viene \"None\" en el parámetro max_depth, se le quitan las comillas para que no sea entendido por el algoritmo como un texto\n",
    "if \"clasifier__max_depth\" in param_distributions:\n",
    "    param_distributions['clasifier__max_depth'] = [None if x == 'None' else x for x in param_distributions['clasifier__max_depth']]"
   ]
  },
  {
   "cell_type": "markdown",
   "id": "dba80ff3",
   "metadata": {
    "papermill": {
     "duration": 0.003518,
     "end_time": "2023-10-30T17:49:33.950190",
     "exception": false,
     "start_time": "2023-10-30T17:49:33.946672",
     "status": "completed"
    },
    "tags": []
   },
   "source": [
    "Asignar los algoritmos que se utilizarán en la función RandomSearchCV"
   ]
  },
  {
   "cell_type": "code",
   "execution_count": 5,
   "id": "1e5c9643",
   "metadata": {
    "execution": {
     "iopub.execute_input": "2023-10-30T17:49:33.956202Z",
     "iopub.status.busy": "2023-10-30T17:49:33.956202Z",
     "iopub.status.idle": "2023-10-30T17:49:33.974239Z",
     "shell.execute_reply": "2023-10-30T17:49:33.973244Z"
    },
    "papermill": {
     "duration": 0.024049,
     "end_time": "2023-10-30T17:49:33.976248",
     "exception": false,
     "start_time": "2023-10-30T17:49:33.952199",
     "status": "completed"
    },
    "tags": []
   },
   "outputs": [],
   "source": [
    "algor_selector=eval(eval_selector)\n",
    "algor_clasifier=eval(eval_clasifier)"
   ]
  },
  {
   "cell_type": "markdown",
   "id": "4577be79",
   "metadata": {
    "papermill": {
     "duration": 0.003014,
     "end_time": "2023-10-30T17:49:33.983331",
     "exception": false,
     "start_time": "2023-10-30T17:49:33.980317",
     "status": "completed"
    },
    "tags": []
   },
   "source": [
    "#### Comprobar el entorno y leer fichero de muestras"
   ]
  },
  {
   "cell_type": "code",
   "execution_count": 6,
   "id": "3347f32d",
   "metadata": {
    "execution": {
     "iopub.execute_input": "2023-10-30T17:49:33.990008Z",
     "iopub.status.busy": "2023-10-30T17:49:33.990008Z",
     "iopub.status.idle": "2023-10-30T17:49:34.113124Z",
     "shell.execute_reply": "2023-10-30T17:49:34.113124Z"
    },
    "papermill": {
     "duration": 0.126802,
     "end_time": "2023-10-30T17:49:34.113124",
     "exception": false,
     "start_time": "2023-10-30T17:49:33.986322",
     "status": "completed"
    },
    "tags": []
   },
   "outputs": [
    {
     "name": "stdout",
     "output_type": "stream",
     "text": [
      "20231030T184933 : amilcar32 : INFO : Encontrada carpeta DATA_DIR=..\\tfm_viu\\datos\n",
      "20231030T184933 : amilcar32 : INFO : Encontrada carpeta CFDNA_DIR=..\\tfm_viu\\datos\\cfDNA_5hmC\n",
      "20231030T184933 : amilcar32 : INFO : Encontrada carpeta GENCODE_DIR=..\\tfm_viu\\datos\\gencode\n",
      "20231030T184933 : amilcar32 : INFO : Encontrada carpeta H5_DIR=..\\tfm_viu\\datos\\h5\n",
      "20231030T184933 : amilcar32 : INFO : Encontrada carpeta LOG_DIR=..\\tfm_viu\\datos\\logs\n",
      "20231030T184933 : amilcar32 : INFO : Encontrada carpeta CSV_DIR=..\\tfm_viu\\datos\\csv\n",
      "20231030T184933 : amilcar32 : INFO : Encontrada carpeta MODEL_DIR=..\\tfm_viu\\ejecuciones\\modelos\n",
      "20231030T184933 : amilcar32 : INFO : Encontrada carpeta EXEC_DIR=..\\tfm_viu\\ejecuciones\n",
      "20231030T184933 : amilcar32 : INFO : Encontrada carpeta MET_DIR=..\\tfm_viu\\ejecuciones\\metricas\n",
      "20231030T184933 : amilcar32 : INFO : Inicio leer fichero h5 ..\\tfm_viu\\datos\\h5\\rows_transpose_norm_by_gene_id_with_target_num_mul_s.h5\n",
      "20231030T184934 : amilcar32 : INFO : Leyendo clave /df\n",
      "20231030T184934 : amilcar32 : INFO : Tamaño (259, 18876)\n",
      "20231030T184934 : amilcar32 : INFO : Fin leer fichero h5 ..\\tfm_viu\\datos\\h5\\rows_transpose_norm_by_gene_id_with_target_num_mul_s.h5\n"
     ]
    },
    {
     "data": {
      "text/plain": [
       "target\n",
       "0    37\n",
       "1    37\n",
       "2    37\n",
       "3    37\n",
       "4    37\n",
       "5    37\n",
       "6    37\n",
       "dtype: int64"
      ]
     },
     "metadata": {},
     "output_type": "display_data"
    },
    {
     "name": "stdout",
     "output_type": "stream",
     "text": [
      "Shape df: (259, 18876)\n",
      "Shape X_train: (207, 18875)\n",
      "Shape X_test: (52, 18875)\n"
     ]
    }
   ],
   "source": [
    "start_time = datetime.datetime.now()\n",
    "\n",
    "myfunc.reset_vars()\n",
    "\n",
    "myfunc.NOTEBK_FILENAME = myfunc.get_nb_name()\n",
    "\n",
    "myfunc.check_enviroment(myfunc.DATA_DIR, myfunc.CFDNA_DIR, myfunc.GENCODE_DIR, myfunc.H5_DIR, myfunc.LOG_DIR, myfunc.CSV_DIR, myfunc.MODEL_DIR, myfunc.EXEC_DIR, myfunc.MET_DIR)\n",
    "\n",
    "# Leer fichero con las muestras\n",
    "df_t = myfunc.read_h5_to_df(DATA_FILE, myfunc.H5_DIR)\n",
    "display(df_t.groupby(\"target\").size())\n",
    "print(\"Shape df:\",df_t.shape)\n",
    "\n",
    "# Separar caracteristicas/genes de las etiquetas/tipos de cáncer\n",
    "X = df_t.iloc[:, :-1]  # Todas las columnas excepto la última\n",
    "y = df_t.iloc[:, -1]  # La última columna contiene los identificadores de los tipos de cáncer\n",
    "\n",
    "#  Crear el conjunto de datos de entrenamiento y de pruebas, y se fija la semilla para siempre coger el mismo juego de muestras\n",
    "X_train, X_test, y_train, y_test = train_test_split(X, y, test_size=0.2, shuffle=True, random_state=42)\n",
    "print(\"Shape X_train:\",X_train.shape)\n",
    "print(\"Shape X_test:\",X_test.shape)\n"
   ]
  },
  {
   "cell_type": "markdown",
   "id": "2b98a0b1",
   "metadata": {
    "papermill": {
     "duration": 0.007071,
     "end_time": "2023-10-30T17:49:34.120195",
     "exception": false,
     "start_time": "2023-10-30T17:49:34.113124",
     "status": "completed"
    },
    "tags": []
   },
   "source": [
    "#### Selección de características y clasificación."
   ]
  },
  {
   "cell_type": "code",
   "execution_count": 7,
   "id": "4b6f3989",
   "metadata": {
    "execution": {
     "iopub.execute_input": "2023-10-30T17:49:34.128348Z",
     "iopub.status.busy": "2023-10-30T17:49:34.128348Z",
     "iopub.status.idle": "2023-10-30T18:14:52.632191Z",
     "shell.execute_reply": "2023-10-30T18:14:52.631187Z"
    },
    "papermill": {
     "duration": 1518.523301,
     "end_time": "2023-10-30T18:14:52.643496",
     "exception": false,
     "start_time": "2023-10-30T17:49:34.120195",
     "status": "completed"
    },
    "tags": []
   },
   "outputs": [
    {
     "name": "stdout",
     "output_type": "stream",
     "text": [
      "20231030T184934 : amilcar32 : INFO : Iniciando entrenamiento\n",
      "num_iter: 1 , max_iter: 1\n",
      "Fitting 5 folds for each of 1 candidates, totalling 5 fits\n"
     ]
    },
    {
     "name": "stdout",
     "output_type": "stream",
     "text": [
      "Mejores Hiperparámetros: {'selector__k': 1000, 'clasifier__solver': 'saga', 'clasifier__penalty': 'elasticnet', 'clasifier__max_iter': 10000, 'clasifier__l1_ratios': [0.75]}\n",
      "Mejor Puntuación: 0.8022\n",
      "20231030T191452 : amilcar32 : INFO : Fin entrenamiento\n"
     ]
    }
   ],
   "source": [
    "myfunc.verbose(\"Iniciando entrenamiento\")\n",
    "\n",
    "kf = KFold(n_splits=5, shuffle=True, random_state=SEMILLA)\n",
    "\n",
    "# Crear el pipeline para el flujo de tareas\n",
    "tasks_pipeline = Pipeline([\n",
    "    ('selector', algor_selector),\n",
    "    ('clasifier', algor_clasifier)\n",
    "])\n",
    "\n",
    "# MAX_ITERS puede limitar el número de iteraciones si son excesivas para las combinaciones de parámetros buscando un óptimo local, \n",
    "# sino funcionaría como GridSearchCV al revisar todas las cominaciones de los parámetros\n",
    "num_iteraciones = 1\n",
    "num_iteraciones = num_iteraciones * np.prod([len(elemento1) for _, elemento1 in param_distributions.items()])\n",
    "max_iteraciones = num_iteraciones if num_iteraciones <= MAX_ITERS else MAX_ITERS\n",
    "print(\"num_iter:\",num_iteraciones,\", max_iter:\",max_iteraciones)\n",
    "\n",
    "random_search = RandomizedSearchCV(\n",
    "    tasks_pipeline, \n",
    "    param_distributions, \n",
    "    n_iter=max_iteraciones,\n",
    "    scoring=SCORING,\n",
    "    cv=kf,\n",
    "    verbose=3, \n",
    "    random_state=SEMILLA, \n",
    "    n_jobs=-1\n",
    "    )\n",
    "\n",
    "# Entrenar el modelo\n",
    "random_search.fit(X_train, y_train)\n",
    "\n",
    "# Ver los mejores hiperparámetros encontrados\n",
    "print(f'Mejores Hiperparámetros: {random_search.best_params_}')\n",
    "print(f'Mejor Puntuación: {random_search.best_score_:.4f}')\n",
    "\n",
    "# Nos quedamos con el mejor modelo para ver las métricas\n",
    "mejor_modelo = random_search.best_estimator_\n",
    "\n",
    "myfunc.verbose(\"Fin entrenamiento\")"
   ]
  },
  {
   "cell_type": "markdown",
   "id": "58f627b2",
   "metadata": {
    "papermill": {
     "duration": 0.008871,
     "end_time": "2023-10-30T18:14:52.664909",
     "exception": false,
     "start_time": "2023-10-30T18:14:52.656038",
     "status": "completed"
    },
    "tags": []
   },
   "source": [
    "#### Guardar modelo"
   ]
  },
  {
   "cell_type": "code",
   "execution_count": 8,
   "id": "04271653",
   "metadata": {
    "execution": {
     "iopub.execute_input": "2023-10-30T18:14:52.690352Z",
     "iopub.status.busy": "2023-10-30T18:14:52.689837Z",
     "iopub.status.idle": "2023-10-30T18:14:52.712150Z",
     "shell.execute_reply": "2023-10-30T18:14:52.710926Z"
    },
    "papermill": {
     "duration": 0.036632,
     "end_time": "2023-10-30T18:14:52.715673",
     "exception": false,
     "start_time": "2023-10-30T18:14:52.679041",
     "status": "completed"
    },
    "tags": []
   },
   "outputs": [
    {
     "name": "stdout",
     "output_type": "stream",
     "text": [
      "20231030T191452 : amilcar32 : INFO : Inicio guardar fichero ..\\tfm_viu\\ejecuciones\\modelos\\modelo_6578_mul_s_MI_LR_EN.pkl\n",
      "20231030T191452 : amilcar32 : INFO : Fin guardar fichero ..\\tfm_viu\\ejecuciones\\modelos\\modelo_6578_mul_s_MI_LR_EN.pkl\n"
     ]
    }
   ],
   "source": [
    "fichero_modelo = str.replace(\"modelo_\"+str(SEMILLA).zfill(4)+\"_\"+M_TIPO+\"_\"+M_SELECT+\"_\"+M_CLASIF+\".pkl\", \" \", \"_\")\n",
    "\n",
    "myfunc.save_modelo(mejor_modelo, myfunc.MODEL_DIR, fichero_modelo)"
   ]
  },
  {
   "cell_type": "markdown",
   "id": "df5af3b8",
   "metadata": {
    "papermill": {
     "duration": 0.009531,
     "end_time": "2023-10-30T18:14:52.731724",
     "exception": false,
     "start_time": "2023-10-30T18:14:52.722193",
     "status": "completed"
    },
    "tags": []
   },
   "source": [
    "#### Ver resultados del las iteraciones hechas por RandomSearchCV"
   ]
  },
  {
   "cell_type": "code",
   "execution_count": 9,
   "id": "39b397ba",
   "metadata": {
    "execution": {
     "iopub.execute_input": "2023-10-30T18:14:52.752710Z",
     "iopub.status.busy": "2023-10-30T18:14:52.751712Z",
     "iopub.status.idle": "2023-10-30T18:14:52.775789Z",
     "shell.execute_reply": "2023-10-30T18:14:52.773131Z"
    },
    "papermill": {
     "duration": 0.038623,
     "end_time": "2023-10-30T18:14:52.779710",
     "exception": false,
     "start_time": "2023-10-30T18:14:52.741087",
     "status": "completed"
    },
    "tags": []
   },
   "outputs": [
    {
     "name": "stdout",
     "output_type": "stream",
     "text": [
      "20231030T191452 : amilcar32 : INFO : Inicio ver resultados\n",
      "Mejores Hiperparámetros: {'selector__k': 1000, 'clasifier__solver': 'saga', 'clasifier__penalty': 'elasticnet', 'clasifier__max_iter': 10000, 'clasifier__l1_ratios': [0.75]}\n",
      "Mejores puntuaciones: 0.8022 | Params: {'selector__k': 1000, 'clasifier__solver': 'saga', 'clasifier__penalty': 'elasticnet', 'clasifier__max_iter': 10000, 'clasifier__l1_ratios': [0.75]}\n",
      "Media de las puntuaciones: 0.8022 | Params: {'selector__k': 1000, 'clasifier__solver': 'saga', 'clasifier__penalty': 'elasticnet', 'clasifier__max_iter': 10000, 'clasifier__l1_ratios': [0.75]}\n",
      "20231030T191452 : amilcar32 : INFO : Fin resultados\n"
     ]
    }
   ],
   "source": [
    "myfunc.ver_resultados_search(random_search)"
   ]
  },
  {
   "cell_type": "markdown",
   "id": "81e780c1",
   "metadata": {
    "papermill": {
     "duration": 0.014862,
     "end_time": "2023-10-30T18:14:52.814816",
     "exception": false,
     "start_time": "2023-10-30T18:14:52.799954",
     "status": "completed"
    },
    "tags": []
   },
   "source": [
    "#### Ver métricas del mejor modelo"
   ]
  },
  {
   "cell_type": "code",
   "execution_count": 10,
   "id": "c00fe24c",
   "metadata": {
    "execution": {
     "iopub.execute_input": "2023-10-30T18:14:52.834399Z",
     "iopub.status.busy": "2023-10-30T18:14:52.834399Z",
     "iopub.status.idle": "2023-10-30T18:14:54.351689Z",
     "shell.execute_reply": "2023-10-30T18:14:54.349960Z"
    },
    "papermill": {
     "duration": 1.527817,
     "end_time": "2023-10-30T18:14:54.354695",
     "exception": false,
     "start_time": "2023-10-30T18:14:52.826878",
     "status": "completed"
    },
    "tags": []
   },
   "outputs": [
    {
     "name": "stdout",
     "output_type": "stream",
     "text": [
      "20231030T191452 : amilcar32 : INFO : Inicio ver métricas multiclase\n"
     ]
    },
    {
     "name": "stdout",
     "output_type": "stream",
     "text": [
      "              precision    recall  f1-score   support\n",
      "\n",
      "           0       0.43      0.27      0.33        11\n",
      "           1       1.00      0.62      0.77         8\n",
      "           2       0.20      0.12      0.15         8\n",
      "           3       0.29      0.40      0.33         5\n",
      "           4       0.58      0.88      0.70         8\n",
      "           5       0.67      0.33      0.44         6\n",
      "           6       0.38      0.83      0.53         6\n",
      "\n",
      "    accuracy                           0.48        52\n",
      "   macro avg       0.51      0.49      0.47        52\n",
      "weighted avg       0.51      0.48      0.46        52\n",
      "\n",
      "\n",
      "\n",
      "           Exactitud: 0.480769\n",
      "   Precisión (media): 0.506986\n",
      "      Recall (media): 0.494913\n",
      "    F1-score (media): 0.465786\n",
      "\n",
      "\n",
      "AUC para el tipo de cáncer 0-Control.... 0.6608\n",
      "AUC para el tipo de cáncer 1-Bladder.... 0.9119\n",
      "AUC para el tipo de cáncer 2-Breast..... 0.7273\n",
      "AUC para el tipo de cáncer 3-Colorectal. 0.8511\n",
      "AUC para el tipo de cáncer 4-Kidney..... 0.9403\n",
      "AUC para el tipo de cáncer 5-Lung....... 0.9457\n",
      "AUC para el tipo de cáncer 6-Prostate... 0.9384\n",
      "\n",
      "Media de AUC: 0.8536\n"
     ]
    },
    {
     "data": {
      "image/png": "[encoded data removed]",
      "text/plain": [
       "<Figure size 1000x600 with 1 Axes>"
      ]
     },
     "metadata": {},
     "output_type": "display_data"
    },
    {
     "name": "stdout",
     "output_type": "stream",
     "text": [
      "\n",
      "\n"
     ]
    },
    {
     "data": {
      "image/png": "[encoded data removed]",
      "text/plain": [
       "<Figure size 800x400 with 2 Axes>"
      ]
     },
     "metadata": {},
     "output_type": "display_data"
    },
    {
     "name": "stdout",
     "output_type": "stream",
     "text": [
      "\n",
      "\n",
      "Puntuación Jaccard para el cáncer tipo 0-Control.... 0.2000\n",
      "Puntuación Jaccard para el cáncer tipo 1-Bladder.... 0.6250\n",
      "Puntuación Jaccard para el cáncer tipo 2-Breast..... 0.0833\n",
      "Puntuación Jaccard para el cáncer tipo 3-Colorectal. 0.2000\n",
      "Puntuación Jaccard para el cáncer tipo 4-Kidney..... 0.5385\n",
      "Puntuación Jaccard para el cáncer tipo 5-Lung....... 0.2857\n",
      "Puntuación Jaccard para el cáncer tipo 6-Prostate... 0.3571\n",
      "\n",
      "Media de la puntuación de Jaccard: 0.3271\n"
     ]
    }
   ],
   "source": [
    "if M_TIPO.startswith(\"bin\"):\n",
    "    myfunc.ver_metricas(mejor_modelo, X_test, y_test)\n",
    "else:\n",
    "    myfunc.ver_metricas_multi(mejor_modelo, X_test, y_test)\n"
   ]
  },
  {
   "cell_type": "markdown",
   "id": "0c5820a1",
   "metadata": {
    "papermill": {
     "duration": 0.013702,
     "end_time": "2023-10-30T18:14:54.381514",
     "exception": false,
     "start_time": "2023-10-30T18:14:54.367812",
     "status": "completed"
    },
    "tags": []
   },
   "source": [
    "#### Finalización del notebook"
   ]
  },
  {
   "cell_type": "code",
   "execution_count": 11,
   "id": "2c3d39ea",
   "metadata": {
    "execution": {
     "iopub.execute_input": "2023-10-30T18:14:54.407672Z",
     "iopub.status.busy": "2023-10-30T18:14:54.407672Z",
     "iopub.status.idle": "2023-10-30T18:14:54.429765Z",
     "shell.execute_reply": "2023-10-30T18:14:54.428253Z"
    },
    "papermill": {
     "duration": 0.038682,
     "end_time": "2023-10-30T18:14:54.433237",
     "exception": false,
     "start_time": "2023-10-30T18:14:54.394555",
     "status": "completed"
    },
    "tags": []
   },
   "outputs": [
    {
     "name": "stdout",
     "output_type": "stream",
     "text": [
      "20231030T191454 : amilcar32 : INFO : Notebook ha tardado 1520 seconds\n"
     ]
    }
   ],
   "source": [
    "end_time = datetime.datetime.now()\n",
    "total_time = end_time - start_time\n",
    "myfunc.verbose(f\"Notebook ha tardado {total_time.seconds} seconds\")"
   ]
  },
  {
   "cell_type": "markdown",
   "id": "7cc82195",
   "metadata": {
    "papermill": {
     "duration": 0.012524,
     "end_time": "2023-10-30T18:14:54.458120",
     "exception": false,
     "start_time": "2023-10-30T18:14:54.445596",
     "status": "completed"
    },
    "tags": []
   },
   "source": [
    "#### Guardar métricas"
   ]
  },
  {
   "cell_type": "code",
   "execution_count": 12,
   "id": "9d44242f",
   "metadata": {
    "execution": {
     "iopub.execute_input": "2023-10-30T18:14:54.486759Z",
     "iopub.status.busy": "2023-10-30T18:14:54.485759Z",
     "iopub.status.idle": "2023-10-30T18:14:54.944695Z",
     "shell.execute_reply": "2023-10-30T18:14:54.944695Z"
    },
    "papermill": {
     "duration": 0.474505,
     "end_time": "2023-10-30T18:14:54.946711",
     "exception": false,
     "start_time": "2023-10-30T18:14:54.472206",
     "status": "completed"
    },
    "tags": []
   },
   "outputs": [
    {
     "name": "stdout",
     "output_type": "stream",
     "text": [
      "20231030T191454 : amilcar32 : INFO : Inicio guardar métricas multiclase\n",
      "20231030T191454 : amilcar32 : INFO : Inicio leer fichero ..\\tfm_viu\\ejecuciones\\metricas\\metricas_6578.csv\n",
      "20231030T191454 : amilcar32 : INFO : Fin leer fichero ..\\tfm_viu\\ejecuciones\\metricas\\metricas_6578.csv\n"
     ]
    },
    {
     "name": "stdout",
     "output_type": "stream",
     "text": [
      "20231030T191454 : amilcar32 : INFO : Inicio guardar fichero ..\\tfm_viu\\ejecuciones\\metricas\\metricas_6578.csv\n",
      "20231030T191454 : amilcar32 : INFO : Fichero borrado ..\\tfm_viu\\ejecuciones\\metricas\\metricas_6578.csv\n",
      "20231030T191454 : amilcar32 : INFO : Fin guardar fichero ..\\tfm_viu\\ejecuciones\\metricas\\metricas_6578.csv\n",
      "20231030T191454 : amilcar32 : INFO : Fin guardar métricas multiclase\n",
      "20231030T191454 : amilcar32 : INFO : Inicio leer fichero ..\\tfm_viu\\ejecuciones\\metricas\\metricas_6578.csv\n",
      "20231030T191454 : amilcar32 : INFO : Fin leer fichero ..\\tfm_viu\\ejecuciones\\metricas\\metricas_6578.csv\n"
     ]
    },
    {
     "data": {
      "text/html": [
       "<div>\n",
       "<style scoped>\n",
       "    .dataframe tbody tr th:only-of-type {\n",
       "        vertical-align: middle;\n",
       "    }\n",
       "\n",
       "    .dataframe tbody tr th {\n",
       "        vertical-align: top;\n",
       "    }\n",
       "\n",
       "    .dataframe thead th {\n",
       "        text-align: right;\n",
       "    }\n",
       "</style>\n",
       "<table border=\"1\" class=\"dataframe\">\n",
       "  <thead>\n",
       "    <tr style=\"text-align: right;\">\n",
       "      <th></th>\n",
       "      <th>tipo</th>\n",
       "      <th>select</th>\n",
       "      <th>clasific</th>\n",
       "      <th>semilla</th>\n",
       "      <th>accuracy</th>\n",
       "      <th>precision</th>\n",
       "      <th>recall</th>\n",
       "      <th>f1_score</th>\n",
       "      <th>roc_auc</th>\n",
       "      <th>hostname</th>\n",
       "      <th>total_time_sec</th>\n",
       "      <th>datetime</th>\n",
       "      <th>fichero_modelo</th>\n",
       "      <th>params</th>\n",
       "      <th>shape</th>\n",
       "      <th>features</th>\n",
       "      <th>roc_auc_ovr</th>\n",
       "      <th>indices_auc</th>\n",
       "      <th>indices_jaccard</th>\n",
       "    </tr>\n",
       "  </thead>\n",
       "  <tbody>\n",
       "    <tr>\n",
       "      <th>0</th>\n",
       "      <td>mul_s</td>\n",
       "      <td>MI</td>\n",
       "      <td>LR_EN</td>\n",
       "      <td>6578</td>\n",
       "      <td>0.480769</td>\n",
       "      <td>0.506986</td>\n",
       "      <td>0.494913</td>\n",
       "      <td>0.465786</td>\n",
       "      <td>NaN</td>\n",
       "      <td>amilcar32</td>\n",
       "      <td>1520</td>\n",
       "      <td>2023-10-30 19:14:54.865998</td>\n",
       "      <td>modelo_6578_mul_s_MI_LR_EN.pkl</td>\n",
       "      <td>{'selector__k': 1000, 'clasifier__solver': 'sa...</td>\n",
       "      <td>X_test:(52, 18875)</td>\n",
       "      <td>['ENSG00000003137.9', 'ENSG00000005513.10', 'E...</td>\n",
       "      <td>0.853632</td>\n",
       "      <td>[0.6607538802660754, 0.9119318181818181, 0.727...</td>\n",
       "      <td>[0.2, 0.625, 0.08333333333333333, 0.2, 0.53846...</td>\n",
       "    </tr>\n",
       "    <tr>\n",
       "      <th>0</th>\n",
       "      <td>mul_s</td>\n",
       "      <td>ANOVA</td>\n",
       "      <td>SVM</td>\n",
       "      <td>6578</td>\n",
       "      <td>0.365385</td>\n",
       "      <td>0.363152</td>\n",
       "      <td>0.374892</td>\n",
       "      <td>0.331833</td>\n",
       "      <td>NaN</td>\n",
       "      <td>amilcar32</td>\n",
       "      <td>2</td>\n",
       "      <td>2023-10-30 18:49:29.375647</td>\n",
       "      <td>modelo_6578_mul_s_ANOVA_SVM.pkl</td>\n",
       "      <td>{'selector__k': 200, 'clasifier__kernel': 'rbf...</td>\n",
       "      <td>X_test:(52, 18875)</td>\n",
       "      <td>['ENSG00000000938.13', 'ENSG00000005381.9', 'E...</td>\n",
       "      <td>0.760575</td>\n",
       "      <td>[0.44345898004434586, 0.8210227272727272, 0.66...</td>\n",
       "      <td>[0.08333333333333333, 0.5, 0.0, 0.071428571428...</td>\n",
       "    </tr>\n",
       "    <tr>\n",
       "      <th>0</th>\n",
       "      <td>mul_s</td>\n",
       "      <td>ANOVA</td>\n",
       "      <td>RF</td>\n",
       "      <td>6578</td>\n",
       "      <td>0.326923</td>\n",
       "      <td>0.296898</td>\n",
       "      <td>0.327273</td>\n",
       "      <td>0.299360</td>\n",
       "      <td>NaN</td>\n",
       "      <td>amilcar32</td>\n",
       "      <td>22</td>\n",
       "      <td>2023-10-30 18:49:20.857027</td>\n",
       "      <td>modelo_6578_mul_s_ANOVA_RF.pkl</td>\n",
       "      <td>{'selector__k': 500, 'clasifier__n_estimators'...</td>\n",
       "      <td>X_test:(52, 18875)</td>\n",
       "      <td>['ENSG00000000938.13', 'ENSG00000002919.15', '...</td>\n",
       "      <td>0.718273</td>\n",
       "      <td>[0.45232815964523276, 0.8267045454545454, 0.68...</td>\n",
       "      <td>[0.07142857142857142, 0.3333333333333333, 0.07...</td>\n",
       "    </tr>\n",
       "  </tbody>\n",
       "</table>\n",
       "</div>"
      ],
      "text/plain": [
       "    tipo select clasific  semilla  accuracy  precision    recall  f1_score  \\\n",
       "0  mul_s     MI    LR_EN     6578  0.480769   0.506986  0.494913  0.465786   \n",
       "0  mul_s  ANOVA      SVM     6578  0.365385   0.363152  0.374892  0.331833   \n",
       "0  mul_s  ANOVA       RF     6578  0.326923   0.296898  0.327273  0.299360   \n",
       "\n",
       "   roc_auc   hostname  total_time_sec                    datetime  \\\n",
       "0      NaN  amilcar32            1520  2023-10-30 19:14:54.865998   \n",
       "0      NaN  amilcar32               2  2023-10-30 18:49:29.375647   \n",
       "0      NaN  amilcar32              22  2023-10-30 18:49:20.857027   \n",
       "\n",
       "                    fichero_modelo  \\\n",
       "0   modelo_6578_mul_s_MI_LR_EN.pkl   \n",
       "0  modelo_6578_mul_s_ANOVA_SVM.pkl   \n",
       "0   modelo_6578_mul_s_ANOVA_RF.pkl   \n",
       "\n",
       "                                              params               shape  \\\n",
       "0  {'selector__k': 1000, 'clasifier__solver': 'sa...  X_test:(52, 18875)   \n",
       "0  {'selector__k': 200, 'clasifier__kernel': 'rbf...  X_test:(52, 18875)   \n",
       "0  {'selector__k': 500, 'clasifier__n_estimators'...  X_test:(52, 18875)   \n",
       "\n",
       "                                            features  roc_auc_ovr  \\\n",
       "0  ['ENSG00000003137.9', 'ENSG00000005513.10', 'E...     0.853632   \n",
       "0  ['ENSG00000000938.13', 'ENSG00000005381.9', 'E...     0.760575   \n",
       "0  ['ENSG00000000938.13', 'ENSG00000002919.15', '...     0.718273   \n",
       "\n",
       "                                         indices_auc  \\\n",
       "0  [0.6607538802660754, 0.9119318181818181, 0.727...   \n",
       "0  [0.44345898004434586, 0.8210227272727272, 0.66...   \n",
       "0  [0.45232815964523276, 0.8267045454545454, 0.68...   \n",
       "\n",
       "                                     indices_jaccard  \n",
       "0  [0.2, 0.625, 0.08333333333333333, 0.2, 0.53846...  \n",
       "0  [0.08333333333333333, 0.5, 0.0, 0.071428571428...  \n",
       "0  [0.07142857142857142, 0.3333333333333333, 0.07...  "
      ]
     },
     "metadata": {},
     "output_type": "display_data"
    }
   ],
   "source": [
    "if M_TIPO.startswith(\"bin\"):\n",
    "    myfunc.save_metricas_to_csv(random_search, X_test, y_test, M_TIPO, M_SELECT, M_CLASIF, total_time, SEMILLA, myfunc.MET_DIR, M_FICHERO, fichero_modelo)\n",
    "else:\n",
    "    myfunc.save_metricas_multi_to_csv(random_search, X_test, y_test, M_TIPO, M_SELECT, M_CLASIF, total_time, SEMILLA, myfunc.MET_DIR, M_FICHERO, fichero_modelo)\n",
    "\n",
    "df1=myfunc.read_metricas_to_df(myfunc.MET_DIR,M_FICHERO)\n",
    "\n",
    "display(df1.sort_values(\"datetime\", ascending=False)[:3])\n"
   ]
  },
  {
   "cell_type": "markdown",
   "id": "ce6a8796",
   "metadata": {
    "papermill": {
     "duration": 0.010527,
     "end_time": "2023-10-30T18:14:54.963484",
     "exception": false,
     "start_time": "2023-10-30T18:14:54.952957",
     "status": "completed"
    },
    "tags": []
   },
   "source": [
    "#### Guardar resultados"
   ]
  },
  {
   "cell_type": "code",
   "execution_count": 13,
   "id": "7e8c7d95",
   "metadata": {
    "execution": {
     "iopub.execute_input": "2023-10-30T18:14:54.987255Z",
     "iopub.status.busy": "2023-10-30T18:14:54.987255Z",
     "iopub.status.idle": "2023-10-30T18:14:55.014937Z",
     "shell.execute_reply": "2023-10-30T18:14:55.013924Z"
    },
    "papermill": {
     "duration": 0.04328,
     "end_time": "2023-10-30T18:14:55.018015",
     "exception": false,
     "start_time": "2023-10-30T18:14:54.974735",
     "status": "completed"
    },
    "tags": []
   },
   "outputs": [
    {
     "name": "stdout",
     "output_type": "stream",
     "text": [
      "20231030T191454 : amilcar32 : INFO : Inicio guardar resultados\n",
      "20231030T191454 : amilcar32 : INFO : Inicio guardar fichero ..\\tfm_viu\\ejecuciones\\metricas\\resultados_6578_mul_s-MI-LR_EN.csv\n",
      "20231030T191455 : amilcar32 : INFO : Fin guardar fichero ..\\tfm_viu\\ejecuciones\\metricas\\resultados_6578_mul_s-MI-LR_EN.csv\n",
      "20231030T191455 : amilcar32 : INFO : Fin guardar resultados\n"
     ]
    }
   ],
   "source": [
    "fichero_resultados=R_FICHERO+\"_\"+M_TIPO+\"-\"+M_SELECT+\"-\"+M_CLASIF+\".csv\"\n",
    "myfunc.save_resultados_to_csv(M_TIPO, M_SELECT, M_CLASIF,  random_search, myfunc.MET_DIR, fichero_resultados)\n"
   ]
  }
 ],
 "metadata": {
  "kernelspec": {
   "display_name": "Python 3 (ipykernel)",
   "language": "python",
   "name": "python3"
  },
  "language_info": {
   "codemirror_mode": {
    "name": "ipython",
    "version": 3
   },
   "file_extension": ".py",
   "mimetype": "text/x-python",
   "name": "python",
   "nbconvert_exporter": "python",
   "pygments_lexer": "ipython3",
   "version": "3.10.12"
  },
  "papermill": {
   "default_parameters": {},
   "duration": 1525.180376,
   "end_time": "2023-10-30T18:14:56.033099",
   "environment_variables": {},
   "exception": null,
   "input_path": "03_entrenamiento.ipynb",
   "output_path": "ejecuciones\\training\\03_entrenamiento.20231030T184930.param_0000_6578_mul_s_MI_LR_EN.output.ipynb",
   "parameters": {
    "MAX_ITERS": 500,
    "M_CLASIF": "LR_EN",
    "M_FICHERO": "metricas_6578",
    "M_SELECT": "MI",
    "M_TIPO": "mul_s",
    "PRE_DATA_FILE": "rows_transpose_norm_by_gene_id_with_target_num_",
    "P_FICHERO": "param_0000_6578_mul_s_MI_LR_EN.yaml",
    "R_FICHERO": "resultados_6578",
    "SCORING": "roc_auc_ovr",
    "SEMILLA": 6578,
    "eval_clasifier": "LogisticRegressionCV(random_state=SEMILLA)",
    "eval_selector": "SelectKBest(score_func=mutual_info_classif_state)",
    "param_distributions": {
     "clasifier__l1_ratios": [
      [
       0.75
      ]
     ],
     "clasifier__max_iter": [
      10000
     ],
     "clasifier__penalty": [
      "elasticnet"
     ],
     "clasifier__solver": [
      "saga"
     ],
     "selector__k": [
      1000
     ]
    }
   },
   "start_time": "2023-10-30T17:49:30.852723",
   "version": "2.4.0"
  }
 },
 "nbformat": 4,
 "nbformat_minor": 5
}