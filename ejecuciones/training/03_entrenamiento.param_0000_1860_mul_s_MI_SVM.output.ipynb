{
 "cells": [
  {
   "cell_type": "markdown",
   "id": "56f59b5e",
   "metadata": {
    "papermill": {
     "duration": 0.0,
     "end_time": "2023-10-30T02:44:34.408785",
     "exception": false,
     "start_time": "2023-10-30T02:44:34.408785",
     "status": "completed"
    },
    "tags": []
   },
   "source": [
    "##### Inicio"
   ]
  },
  {
   "cell_type": "markdown",
   "id": "877647e6",
   "metadata": {
    "papermill": {
     "duration": 0.01551,
     "end_time": "2023-10-30T02:44:34.424295",
     "exception": false,
     "start_time": "2023-10-30T02:44:34.408785",
     "status": "completed"
    },
    "tags": []
   },
   "source": [
    "#### Carga de datos"
   ]
  },
  {
   "cell_type": "code",
   "execution_count": 1,
   "id": "60f171ff",
   "metadata": {
    "execution": {
     "iopub.execute_input": "2023-10-30T02:44:34.424295Z",
     "iopub.status.busy": "2023-10-30T02:44:34.424295Z",
     "iopub.status.idle": "2023-10-30T02:44:35.599529Z",
     "shell.execute_reply": "2023-10-30T02:44:35.599529Z"
    },
    "papermill": {
     "duration": 1.175234,
     "end_time": "2023-10-30T02:44:35.599529",
     "exception": false,
     "start_time": "2023-10-30T02:44:34.424295",
     "status": "completed"
    },
    "tags": []
   },
   "outputs": [
    {
     "name": "stdout",
     "output_type": "stream",
     "text": [
      "CPU_COUNT: 24; NODE: amilcar32; sys.version: 3.10.12 | packaged by Anaconda, Inc. | (main, Jul  5 2023, 19:09:20) [MSC v.1916 64 bit (AMD64)]\n",
      "LOKY_MAX_CPU_COUNT is not set.\n",
      "OMP_NUM_THREADS is not set.\n"
     ]
    }
   ],
   "source": [
    "import os\n",
    "import numpy as np\n",
    "import pandas as pd\n",
    "import datetime\n",
    "import sklearn\n",
    "import logging\n",
    "import warnings\n",
    "\n",
    "from sklearn.pipeline import Pipeline\n",
    "from sklearn.model_selection import RandomizedSearchCV, KFold, cross_val_score, train_test_split\n",
    "from sklearn.metrics import accuracy_score, confusion_matrix, classification_report, roc_auc_score\n",
    "\n",
    "#  cargar algoritmos para aprendizaje supervisado\n",
    "from sklearn.feature_selection import SelectKBest, f_classif, SelectFromModel, mutual_info_classif\n",
    "from sklearn.svm import SVC\n",
    "from sklearn.ensemble import RandomForestClassifier\n",
    "from sklearn.linear_model import LogisticRegression,LogisticRegressionCV\n",
    "\n",
    "# importar fichero con utilidades propias\n",
    "from commons import myfunctions as myfunc\n"
   ]
  },
  {
   "cell_type": "markdown",
   "id": "0d00b88f",
   "metadata": {
    "papermill": {
     "duration": 0.0,
     "end_time": "2023-10-30T02:44:35.599529",
     "exception": false,
     "start_time": "2023-10-30T02:44:35.599529",
     "status": "completed"
    },
    "tags": []
   },
   "source": [
    "#### Parámetros a utilizar en el entrenamiento.\n",
    "\n",
    "Se indican los 3 algoritmos de *selección de características* (eval_selector_xxx) y los 3 algoritmos para la _clasificación_ (eval_clasifier_xxx)\n",
    "\n",
    "En *param_distributions* se indicar los parámetros que utilizan los algoritmos en la función RandomSearchCV.\n",
    "\n",
    "Esta celda tiene la etiqueta **parameters** que servirá para poder lanzar los entrenamientos con la utilidad **papermill** pasándole un fichero con los parámetros. Los nuevos parámetros se situarán tras esta celda para tener prevalencia."
   ]
  },
  {
   "cell_type": "code",
   "execution_count": 2,
   "id": "df09a7ac",
   "metadata": {
    "execution": {
     "iopub.execute_input": "2023-10-30T02:44:35.615144Z",
     "iopub.status.busy": "2023-10-30T02:44:35.615144Z",
     "iopub.status.idle": "2023-10-30T02:44:35.630781Z",
     "shell.execute_reply": "2023-10-30T02:44:35.630781Z"
    },
    "papermill": {
     "duration": 0.031252,
     "end_time": "2023-10-30T02:44:35.630781",
     "exception": false,
     "start_time": "2023-10-30T02:44:35.599529",
     "status": "completed"
    },
    "tags": [
     "parameters"
    ]
   },
   "outputs": [
    {
     "name": "stdout",
     "output_type": "stream",
     "text": [
      "20231030T034435 : amilcar32 : INFO : Utilizando parámetros de mul_m\n"
     ]
    }
   ],
   "source": [
    "#  Parametros para el entrenamiento\n",
    "\n",
    "SEMILLA=        42\n",
    "M_TIPO=         \"mul_m\"\n",
    "M_SELECT=       \"MI\"\n",
    "M_CLASIF=       \"SVM\"\n",
    "R_FICHERO=      \"resultados\"\n",
    "M_FICHERO=      \"metricas\"\n",
    "PRE_DATA_FILE=  \"rows_transpose_norm_by_gene_id_with_target_num_\"\n",
    "SCORING=        \"roc_auc_ovr\" \n",
    "MAX_ITERS=      100\n",
    "\n",
    "def mutual_info_classif_state(X, y):\n",
    "    return mutual_info_classif(X, y, random_state=SEMILLA)\n",
    "\n",
    "eval_selector_mi = \"SelectKBest(score_func=mutual_info_classif_state)\"\n",
    "eval_selector_rf=  \"SelectFromModel(estimator=RandomForestClassifier(random_state=SEMILLA), threshold=-np.inf)\"\n",
    "eval_selector_anova=  \"SelectKBest(score_func=f_classif)\"\n",
    "\n",
    "eval_clasifier_svm= \"SVC(probability=True, random_state=SEMILLA)\"\n",
    "eval_clasifier_rf= \"RandomForestClassifier(random_state=SEMILLA)\"\n",
    "eval_clasifier_lr= \"LogisticRegressionCV(random_state=SEMILLA)\"\n",
    "\n",
    "if M_TIPO.startswith(\"bin_m\"):\n",
    "    myfunc.verbose(f\"Utilizando parámetros de {M_TIPO}\")\n",
    "    eval_selector = eval_selector_mi\n",
    "    eval_clasifier = eval_clasifier_svm\n",
    "\n",
    "    SEMILLA = 6578\n",
    "    M_SELECT = \"MI\"\n",
    "    M_CLASIF = \"SVM\"\n",
    "    param_distributions = {'selector__k': [1000], \n",
    "         'clasifier__kernel': ['rbf'], 'clasifier__gamma': [0.01], 'clasifier__C': [100]}\n",
    "elif M_TIPO.startswith(\"bin_s\"):\n",
    "    myfunc.verbose(f\"Utilizando parámetros de {M_TIPO}\")\n",
    "    eval_selector = eval_selector_rf\n",
    "    eval_clasifier = eval_clasifier_lr\n",
    "\n",
    "    SEMILLA = 6191\n",
    "    M_SELECT = \"RF\"\n",
    "    M_CLASIF = \"LR_L2\"\n",
    "    param_distributions = {'selector__max_features': [1000], 'selector__estimator__n_estimators': [200], \n",
    "        'clasifier__solver': ['lbfgs'], 'clasifier__penalty': ['l2'], 'clasifier__max_iter': [10000]}\n",
    "\n",
    "elif M_TIPO.startswith(\"mul_m\"):\n",
    "    myfunc.verbose(f\"Utilizando parámetros de {M_TIPO}\")\n",
    " \n",
    "    eval_selector = eval_selector_rf\n",
    "    eval_clasifier = eval_clasifier_lr\n",
    "\n",
    "    SEMILLA = 6191\n",
    "    M_SELECT = \"RF\"\n",
    "    M_CLASIF = \"LR_L2\"\n",
    "    param_distributions = {'selector__max_features': [1000], 'selector__estimator__n_estimators': [400], \n",
    "        'clasifier__solver': ['lbfgs'], 'clasifier__penalty': ['l2'], 'clasifier__max_iter': [10000]}\n",
    "\n",
    "else:\n",
    "    # M_TIPO.startswith(\"mul_s\"):\n",
    "    myfunc.verbose(f\"Utilizando parámetros de {M_TIPO}\")\n",
    "    eval_selector = eval_selector_anova\n",
    "    eval_clasifier = eval_clasifier_lr\n",
    "\n",
    "    SEMILLA = 1860\n",
    "    M_SELECT = \"ANOVA\"\n",
    "    M_CLASIF = \"LR_L2\"\n",
    "    param_distributions = {'selector__k': [1000], \n",
    "        'clasifier__solver': ['saga'], 'clasifier__penalty': ['l2'], 'clasifier__max_iter': [10000]}\n",
    "\n"
   ]
  },
  {
   "cell_type": "code",
   "execution_count": 3,
   "id": "a94ce598",
   "metadata": {
    "execution": {
     "iopub.execute_input": "2023-10-30T02:44:35.630781Z",
     "iopub.status.busy": "2023-10-30T02:44:35.630781Z",
     "iopub.status.idle": "2023-10-30T02:44:35.646410Z",
     "shell.execute_reply": "2023-10-30T02:44:35.646410Z"
    },
    "papermill": {
     "duration": 0.015629,
     "end_time": "2023-10-30T02:44:35.646410",
     "exception": false,
     "start_time": "2023-10-30T02:44:35.630781",
     "status": "completed"
    },
    "tags": [
     "injected-parameters"
    ]
   },
   "outputs": [],
   "source": [
    "# Parameters\n",
    "M_TIPO = \"mul_s\"\n",
    "M_SELECT = \"MI\"\n",
    "M_CLASIF = \"SVM\"\n",
    "P_FICHERO = \"param_0000_1860_mul_s_MI_SVM.yaml\"\n",
    "R_FICHERO = \"resultados_1860\"\n",
    "M_FICHERO = \"metricas_1860\"\n",
    "PRE_DATA_FILE = \"rows_transpose_norm_by_gene_id_with_target_num_\"\n",
    "SCORING = \"roc_auc_ovr\"\n",
    "SEMILLA = 1860\n",
    "MAX_ITERS = 500\n",
    "eval_selector = \"SelectKBest(score_func=mutual_info_classif_state)\"\n",
    "eval_clasifier = \"SVC(probability=True, random_state=SEMILLA)\"\n",
    "param_distributions = {\n",
    "    \"selector__k\": [1000],\n",
    "    \"clasifier__kernel\": [\"rbf\"],\n",
    "    \"clasifier__gamma\": [0.001],\n",
    "    \"clasifier__C\": [100],\n",
    "}\n"
   ]
  },
  {
   "cell_type": "code",
   "execution_count": 4,
   "id": "7dab8a19",
   "metadata": {
    "execution": {
     "iopub.execute_input": "2023-10-30T02:44:35.646410Z",
     "iopub.status.busy": "2023-10-30T02:44:35.646410Z",
     "iopub.status.idle": "2023-10-30T02:44:35.662033Z",
     "shell.execute_reply": "2023-10-30T02:44:35.662033Z"
    },
    "papermill": {
     "duration": 0.015623,
     "end_time": "2023-10-30T02:44:35.662033",
     "exception": false,
     "start_time": "2023-10-30T02:44:35.646410",
     "status": "completed"
    },
    "tags": []
   },
   "outputs": [],
   "source": [
    "DATA_FILE = PRE_DATA_FILE + M_TIPO\n",
    "\n",
    "# si viene \"None\" en el parámetro max_depth, se le quitan las comillas para que no sea entendido por el algoritmo como un texto\n",
    "if \"clasifier__max_depth\" in param_distributions:\n",
    "    param_distributions['clasifier__max_depth'] = [None if x == 'None' else x for x in param_distributions['clasifier__max_depth']]"
   ]
  },
  {
   "cell_type": "markdown",
   "id": "4caf3ad0",
   "metadata": {
    "papermill": {
     "duration": 0.0,
     "end_time": "2023-10-30T02:44:35.662033",
     "exception": false,
     "start_time": "2023-10-30T02:44:35.662033",
     "status": "completed"
    },
    "tags": []
   },
   "source": [
    "Asignar los algoritmos que se utilizarán en la función RandomSearchCV"
   ]
  },
  {
   "cell_type": "code",
   "execution_count": 5,
   "id": "239d9b49",
   "metadata": {
    "execution": {
     "iopub.execute_input": "2023-10-30T02:44:35.662033Z",
     "iopub.status.busy": "2023-10-30T02:44:35.662033Z",
     "iopub.status.idle": "2023-10-30T02:44:35.677650Z",
     "shell.execute_reply": "2023-10-30T02:44:35.677650Z"
    },
    "papermill": {
     "duration": 0.015617,
     "end_time": "2023-10-30T02:44:35.677650",
     "exception": false,
     "start_time": "2023-10-30T02:44:35.662033",
     "status": "completed"
    },
    "tags": []
   },
   "outputs": [],
   "source": [
    "algor_selector=eval(eval_selector)\n",
    "algor_clasifier=eval(eval_clasifier)"
   ]
  },
  {
   "cell_type": "markdown",
   "id": "3118aaa2",
   "metadata": {
    "papermill": {
     "duration": 0.0,
     "end_time": "2023-10-30T02:44:35.677650",
     "exception": false,
     "start_time": "2023-10-30T02:44:35.677650",
     "status": "completed"
    },
    "tags": []
   },
   "source": [
    "#### Comprobar el entorno y leer fichero de muestras"
   ]
  },
  {
   "cell_type": "code",
   "execution_count": 6,
   "id": "877dbfc2",
   "metadata": {
    "execution": {
     "iopub.execute_input": "2023-10-30T02:44:35.677650Z",
     "iopub.status.busy": "2023-10-30T02:44:35.677650Z",
     "iopub.status.idle": "2023-10-30T02:44:35.818470Z",
     "shell.execute_reply": "2023-10-30T02:44:35.818470Z"
    },
    "papermill": {
     "duration": 0.14082,
     "end_time": "2023-10-30T02:44:35.818470",
     "exception": false,
     "start_time": "2023-10-30T02:44:35.677650",
     "status": "completed"
    },
    "tags": []
   },
   "outputs": [
    {
     "name": "stdout",
     "output_type": "stream",
     "text": [
      "20231030T034435 : amilcar32 : INFO : Encontrada carpeta DATA_DIR=..\\tfm_viu\\datos\n",
      "20231030T034435 : amilcar32 : INFO : Encontrada carpeta CFDNA_DIR=..\\tfm_viu\\datos\\cfDNA_5hmC\n",
      "20231030T034435 : amilcar32 : INFO : Encontrada carpeta GENCODE_DIR=..\\tfm_viu\\datos\\gencode\n",
      "20231030T034435 : amilcar32 : INFO : Encontrada carpeta H5_DIR=..\\tfm_viu\\datos\\h5\n",
      "20231030T034435 : amilcar32 : INFO : Encontrada carpeta LOG_DIR=..\\tfm_viu\\datos\\logs\n",
      "20231030T034435 : amilcar32 : INFO : Encontrada carpeta CSV_DIR=..\\tfm_viu\\datos\\csv\n",
      "20231030T034435 : amilcar32 : INFO : Encontrada carpeta MODEL_DIR=..\\tfm_viu\\ejecuciones\\modelos\n",
      "20231030T034435 : amilcar32 : INFO : Encontrada carpeta EXEC_DIR=..\\tfm_viu\\ejecuciones\n",
      "20231030T034435 : amilcar32 : INFO : Encontrada carpeta MET_DIR=..\\tfm_viu\\ejecuciones\\metricas\n",
      "20231030T034435 : amilcar32 : INFO : Inicio leer fichero h5 ..\\tfm_viu\\datos\\h5\\rows_transpose_norm_by_gene_id_with_target_num_mul_s.h5\n",
      "20231030T034435 : amilcar32 : INFO : Leyendo clave /df\n",
      "20231030T034435 : amilcar32 : INFO : Tamaño (259, 18876)\n",
      "20231030T034435 : amilcar32 : INFO : Fin leer fichero h5 ..\\tfm_viu\\datos\\h5\\rows_transpose_norm_by_gene_id_with_target_num_mul_s.h5\n"
     ]
    },
    {
     "data": {
      "text/plain": [
       "target\n",
       "0    37\n",
       "1    37\n",
       "2    37\n",
       "3    37\n",
       "4    37\n",
       "5    37\n",
       "6    37\n",
       "dtype: int64"
      ]
     },
     "metadata": {},
     "output_type": "display_data"
    },
    {
     "name": "stdout",
     "output_type": "stream",
     "text": [
      "Shape df: (259, 18876)\n"
     ]
    },
    {
     "name": "stdout",
     "output_type": "stream",
     "text": [
      "Shape X_train: (207, 18875)\n",
      "Shape X_test: (52, 18875)\n"
     ]
    }
   ],
   "source": [
    "start_time = datetime.datetime.now()\n",
    "\n",
    "myfunc.reset_vars()\n",
    "\n",
    "myfunc.NOTEBK_FILENAME = myfunc.get_nb_name()\n",
    "\n",
    "myfunc.check_enviroment(myfunc.DATA_DIR, myfunc.CFDNA_DIR, myfunc.GENCODE_DIR, myfunc.H5_DIR, myfunc.LOG_DIR, myfunc.CSV_DIR, myfunc.MODEL_DIR, myfunc.EXEC_DIR, myfunc.MET_DIR)\n",
    "\n",
    "# Leer fichero con las muestras\n",
    "df_t = myfunc.read_h5_to_df(DATA_FILE, myfunc.H5_DIR)\n",
    "display(df_t.groupby(\"target\").size())\n",
    "print(\"Shape df:\",df_t.shape)\n",
    "\n",
    "# Separar caracteristicas/genes de las etiquetas/tipos de cáncer\n",
    "X = df_t.iloc[:, :-1]  # Todas las columnas excepto la última\n",
    "y = df_t.iloc[:, -1]  # La última columna contiene los identificadores de los tipos de cáncer\n",
    "\n",
    "#  Crear el conjunto de datos de entrenamiento y de pruebas, y se fija la semilla para siempre coger el mismo juego de muestras\n",
    "X_train, X_test, y_train, y_test = train_test_split(X, y, test_size=0.2, shuffle=True, random_state=42)\n",
    "print(\"Shape X_train:\",X_train.shape)\n",
    "print(\"Shape X_test:\",X_test.shape)\n"
   ]
  },
  {
   "cell_type": "markdown",
   "id": "1df87ba5",
   "metadata": {
    "papermill": {
     "duration": 0.0,
     "end_time": "2023-10-30T02:44:35.818470",
     "exception": false,
     "start_time": "2023-10-30T02:44:35.818470",
     "status": "completed"
    },
    "tags": []
   },
   "source": [
    "#### Selección de características y clasificación."
   ]
  },
  {
   "cell_type": "code",
   "execution_count": 7,
   "id": "0c66aebe",
   "metadata": {
    "execution": {
     "iopub.execute_input": "2023-10-30T02:44:35.818470Z",
     "iopub.status.busy": "2023-10-30T02:44:35.818470Z",
     "iopub.status.idle": "2023-10-30T02:48:56.652261Z",
     "shell.execute_reply": "2023-10-30T02:48:56.652261Z"
    },
    "papermill": {
     "duration": 260.833791,
     "end_time": "2023-10-30T02:48:56.652261",
     "exception": false,
     "start_time": "2023-10-30T02:44:35.818470",
     "status": "completed"
    },
    "tags": []
   },
   "outputs": [
    {
     "name": "stdout",
     "output_type": "stream",
     "text": [
      "20231030T034435 : amilcar32 : INFO : Iniciando entrenamiento\n",
      "num_iter: 1 , max_iter: 1\n",
      "Fitting 5 folds for each of 1 candidates, totalling 5 fits\n"
     ]
    },
    {
     "name": "stdout",
     "output_type": "stream",
     "text": [
      "Mejores Hiperparámetros: {'selector__k': 1000, 'clasifier__kernel': 'rbf', 'clasifier__gamma': 0.001, 'clasifier__C': 100}\n",
      "Mejor Puntuación: 0.7517\n",
      "20231030T034856 : amilcar32 : INFO : Fin entrenamiento\n"
     ]
    }
   ],
   "source": [
    "myfunc.verbose(\"Iniciando entrenamiento\")\n",
    "\n",
    "kf = KFold(n_splits=5, shuffle=True, random_state=SEMILLA)\n",
    "\n",
    "# Crear el pipeline para el flujo de tareas\n",
    "tasks_pipeline = Pipeline([\n",
    "    ('selector', algor_selector),\n",
    "    ('clasifier', algor_clasifier)\n",
    "])\n",
    "\n",
    "# MAX_ITERS puede limitar el número de iteraciones si son excesivas para las combinaciones de parámetros buscando un óptimo local, \n",
    "# sino funcionaría como GridSearchCV al revisar todas las cominaciones de los parámetros\n",
    "num_iteraciones = 1\n",
    "num_iteraciones = num_iteraciones * np.prod([len(elemento1) for _, elemento1 in param_distributions.items()])\n",
    "max_iteraciones = num_iteraciones if num_iteraciones <= MAX_ITERS else MAX_ITERS\n",
    "print(\"num_iter:\",num_iteraciones,\", max_iter:\",max_iteraciones)\n",
    "\n",
    "random_search = RandomizedSearchCV(\n",
    "    tasks_pipeline, \n",
    "    param_distributions, \n",
    "    n_iter=max_iteraciones,\n",
    "    scoring=SCORING,\n",
    "    cv=kf,\n",
    "    verbose=3, \n",
    "    random_state=SEMILLA, \n",
    "    n_jobs=-1\n",
    "    )\n",
    "\n",
    "# Entrenar el modelo\n",
    "random_search.fit(X_train, y_train)\n",
    "\n",
    "# Ver los mejores hiperparámetros encontrados\n",
    "print(f'Mejores Hiperparámetros: {random_search.best_params_}')\n",
    "print(f'Mejor Puntuación: {random_search.best_score_:.4f}')\n",
    "\n",
    "# Nos quedamos con el mejor modelo para ver las métricas\n",
    "mejor_modelo = random_search.best_estimator_\n",
    "\n",
    "myfunc.verbose(\"Fin entrenamiento\")"
   ]
  },
  {
   "cell_type": "markdown",
   "id": "321967ef",
   "metadata": {
    "papermill": {
     "duration": 0.0,
     "end_time": "2023-10-30T02:48:56.667784",
     "exception": false,
     "start_time": "2023-10-30T02:48:56.667784",
     "status": "completed"
    },
    "tags": []
   },
   "source": [
    "#### Guardar modelo"
   ]
  },
  {
   "cell_type": "code",
   "execution_count": 8,
   "id": "9fa9552b",
   "metadata": {
    "execution": {
     "iopub.execute_input": "2023-10-30T02:48:56.683384Z",
     "iopub.status.busy": "2023-10-30T02:48:56.683384Z",
     "iopub.status.idle": "2023-10-30T02:48:56.714664Z",
     "shell.execute_reply": "2023-10-30T02:48:56.714664Z"
    },
    "papermill": {
     "duration": 0.03128,
     "end_time": "2023-10-30T02:48:56.714664",
     "exception": false,
     "start_time": "2023-10-30T02:48:56.683384",
     "status": "completed"
    },
    "tags": []
   },
   "outputs": [
    {
     "name": "stdout",
     "output_type": "stream",
     "text": [
      "20231030T034856 : amilcar32 : INFO : Inicio guardar fichero ..\\tfm_viu\\ejecuciones\\modelos\\modelo_1860_mul_s_MI_SVM.pkl\n",
      "20231030T034856 : amilcar32 : INFO : Fin guardar fichero ..\\tfm_viu\\ejecuciones\\modelos\\modelo_1860_mul_s_MI_SVM.pkl\n"
     ]
    }
   ],
   "source": [
    "fichero_modelo = str.replace(\"modelo_\"+str(SEMILLA).zfill(4)+\"_\"+M_TIPO+\"_\"+M_SELECT+\"_\"+M_CLASIF+\".pkl\", \" \", \"_\")\n",
    "\n",
    "myfunc.save_modelo(mejor_modelo, myfunc.MODEL_DIR, fichero_modelo)"
   ]
  },
  {
   "cell_type": "markdown",
   "id": "621b5961",
   "metadata": {
    "papermill": {
     "duration": 0.015634,
     "end_time": "2023-10-30T02:48:56.745909",
     "exception": false,
     "start_time": "2023-10-30T02:48:56.730275",
     "status": "completed"
    },
    "tags": []
   },
   "source": [
    "#### Ver resultados del las iteraciones hechas por RandomSearchCV"
   ]
  },
  {
   "cell_type": "code",
   "execution_count": 9,
   "id": "55387ffd",
   "metadata": {
    "execution": {
     "iopub.execute_input": "2023-10-30T02:48:56.761534Z",
     "iopub.status.busy": "2023-10-30T02:48:56.761534Z",
     "iopub.status.idle": "2023-10-30T02:48:56.792941Z",
     "shell.execute_reply": "2023-10-30T02:48:56.792941Z"
    },
    "papermill": {
     "duration": 0.047032,
     "end_time": "2023-10-30T02:48:56.792941",
     "exception": false,
     "start_time": "2023-10-30T02:48:56.745909",
     "status": "completed"
    },
    "tags": []
   },
   "outputs": [
    {
     "name": "stdout",
     "output_type": "stream",
     "text": [
      "20231030T034856 : amilcar32 : INFO : Inicio ver resultados\n",
      "Mejores Hiperparámetros: {'selector__k': 1000, 'clasifier__kernel': 'rbf', 'clasifier__gamma': 0.001, 'clasifier__C': 100}\n",
      "Mejores puntuaciones: 0.7517 | Params: {'selector__k': 1000, 'clasifier__kernel': 'rbf', 'clasifier__gamma': 0.001, 'clasifier__C': 100}\n",
      "Media de las puntuaciones: 0.7517 | Params: {'selector__k': 1000, 'clasifier__kernel': 'rbf', 'clasifier__gamma': 0.001, 'clasifier__C': 100}\n",
      "20231030T034856 : amilcar32 : INFO : Fin resultados\n"
     ]
    }
   ],
   "source": [
    "myfunc.ver_resultados_search(random_search)"
   ]
  },
  {
   "cell_type": "markdown",
   "id": "d8b2183a",
   "metadata": {
    "papermill": {
     "duration": 0.015542,
     "end_time": "2023-10-30T02:48:56.823957",
     "exception": false,
     "start_time": "2023-10-30T02:48:56.808415",
     "status": "completed"
    },
    "tags": []
   },
   "source": [
    "#### Ver métricas del mejor modelo"
   ]
  },
  {
   "cell_type": "code",
   "execution_count": 10,
   "id": "58e574e9",
   "metadata": {
    "execution": {
     "iopub.execute_input": "2023-10-30T02:48:56.839582Z",
     "iopub.status.busy": "2023-10-30T02:48:56.839582Z",
     "iopub.status.idle": "2023-10-30T02:48:58.374763Z",
     "shell.execute_reply": "2023-10-30T02:48:58.374763Z"
    },
    "papermill": {
     "duration": 1.550806,
     "end_time": "2023-10-30T02:48:58.374763",
     "exception": false,
     "start_time": "2023-10-30T02:48:56.823957",
     "status": "completed"
    },
    "tags": []
   },
   "outputs": [
    {
     "name": "stdout",
     "output_type": "stream",
     "text": [
      "20231030T034856 : amilcar32 : INFO : Inicio ver métricas multiclase\n"
     ]
    },
    {
     "name": "stdout",
     "output_type": "stream",
     "text": [
      "              precision    recall  f1-score   support\n",
      "\n",
      "           0       0.40      0.18      0.25        11\n",
      "           1       0.67      0.50      0.57         8\n",
      "           2       0.17      0.12      0.14         8\n",
      "           3       0.25      0.40      0.31         5\n",
      "           4       0.58      0.88      0.70         8\n",
      "           5       0.60      0.50      0.55         6\n",
      "           6       0.30      0.50      0.37         6\n",
      "\n",
      "    accuracy                           0.42        52\n",
      "   macro avg       0.42      0.44      0.41        52\n",
      "weighted avg       0.43      0.42      0.41        52\n",
      "\n",
      "\n",
      "\n",
      "           Exactitud: 0.423077\n",
      "   Precisión (media): 0.423810\n",
      "      Recall (media): 0.440260\n",
      "    F1-score (media): 0.413205\n",
      "\n",
      "\n",
      "AUC para el tipo de cáncer 0-Control.... 0.5366\n",
      "AUC para el tipo de cáncer 1-Bladder.... 0.8693\n",
      "AUC para el tipo de cáncer 2-Breast..... 0.6705\n",
      "AUC para el tipo de cáncer 3-Colorectal. 0.8170\n",
      "AUC para el tipo de cáncer 4-Kidney..... 0.9744\n",
      "AUC para el tipo de cáncer 5-Lung....... 0.7790\n",
      "AUC para el tipo de cáncer 6-Prostate... 0.7464\n",
      "\n",
      "Media de AUC: 0.7705\n"
     ]
    },
    {
     "data": {
      "image/png": "[encoded data removed]",
      "text/plain": [
       "<Figure size 1000x600 with 1 Axes>"
      ]
     },
     "metadata": {},
     "output_type": "display_data"
    },
    {
     "name": "stdout",
     "output_type": "stream",
     "text": [
      "\n",
      "\n"
     ]
    },
    {
     "data": {
      "image/png": "[encoded data removed]",
      "text/plain": [
       "<Figure size 800x400 with 2 Axes>"
      ]
     },
     "metadata": {},
     "output_type": "display_data"
    },
    {
     "name": "stdout",
     "output_type": "stream",
     "text": [
      "\n",
      "\n",
      "Puntuación Jaccard para el cáncer tipo 0-Control.... 0.1429\n",
      "Puntuación Jaccard para el cáncer tipo 1-Bladder.... 0.4000\n",
      "Puntuación Jaccard para el cáncer tipo 2-Breast..... 0.0769\n",
      "Puntuación Jaccard para el cáncer tipo 3-Colorectal. 0.1818\n",
      "Puntuación Jaccard para el cáncer tipo 4-Kidney..... 0.5385\n",
      "Puntuación Jaccard para el cáncer tipo 5-Lung....... 0.3750\n",
      "Puntuación Jaccard para el cáncer tipo 6-Prostate... 0.2308\n",
      "\n",
      "Media de la puntuación de Jaccard: 0.2780\n"
     ]
    }
   ],
   "source": [
    "if M_TIPO.startswith(\"bin\"):\n",
    "    myfunc.ver_metricas(mejor_modelo, X_test, y_test)\n",
    "else:\n",
    "    myfunc.ver_metricas_multi(mejor_modelo, X_test, y_test)\n"
   ]
  },
  {
   "cell_type": "markdown",
   "id": "f345698a",
   "metadata": {
    "papermill": {
     "duration": 0.015622,
     "end_time": "2023-10-30T02:48:58.405858",
     "exception": false,
     "start_time": "2023-10-30T02:48:58.390236",
     "status": "completed"
    },
    "tags": []
   },
   "source": [
    "#### Finalización del notebook"
   ]
  },
  {
   "cell_type": "code",
   "execution_count": 11,
   "id": "f020ff6e",
   "metadata": {
    "execution": {
     "iopub.execute_input": "2023-10-30T02:48:58.421480Z",
     "iopub.status.busy": "2023-10-30T02:48:58.421480Z",
     "iopub.status.idle": "2023-10-30T02:48:58.452832Z",
     "shell.execute_reply": "2023-10-30T02:48:58.452832Z"
    },
    "papermill": {
     "duration": 0.046974,
     "end_time": "2023-10-30T02:48:58.452832",
     "exception": false,
     "start_time": "2023-10-30T02:48:58.405858",
     "status": "completed"
    },
    "tags": []
   },
   "outputs": [
    {
     "name": "stdout",
     "output_type": "stream",
     "text": [
      "20231030T034858 : amilcar32 : INFO : Notebook ha tardado 262 seconds\n"
     ]
    }
   ],
   "source": [
    "end_time = datetime.datetime.now()\n",
    "total_time = end_time - start_time\n",
    "myfunc.verbose(f\"Notebook ha tardado {total_time.seconds} seconds\")"
   ]
  },
  {
   "cell_type": "markdown",
   "id": "7bee4feb",
   "metadata": {
    "papermill": {
     "duration": 0.0,
     "end_time": "2023-10-30T02:48:58.468915",
     "exception": false,
     "start_time": "2023-10-30T02:48:58.468915",
     "status": "completed"
    },
    "tags": []
   },
   "source": [
    "#### Guardar métricas"
   ]
  },
  {
   "cell_type": "code",
   "execution_count": 12,
   "id": "425c22d1",
   "metadata": {
    "execution": {
     "iopub.execute_input": "2023-10-30T02:48:58.484423Z",
     "iopub.status.busy": "2023-10-30T02:48:58.484423Z",
     "iopub.status.idle": "2023-10-30T02:48:59.078399Z",
     "shell.execute_reply": "2023-10-30T02:48:59.078399Z"
    },
    "papermill": {
     "duration": 0.593976,
     "end_time": "2023-10-30T02:48:59.078399",
     "exception": false,
     "start_time": "2023-10-30T02:48:58.484423",
     "status": "completed"
    },
    "tags": []
   },
   "outputs": [
    {
     "name": "stdout",
     "output_type": "stream",
     "text": [
      "20231030T034858 : amilcar32 : INFO : Inicio guardar métricas multiclase\n",
      "20231030T034858 : amilcar32 : INFO : Inicio leer fichero ..\\tfm_viu\\ejecuciones\\metricas\\metricas_1860.csv\n",
      "20231030T034858 : amilcar32 : INFO : Fin leer fichero ..\\tfm_viu\\ejecuciones\\metricas\\metricas_1860.csv\n"
     ]
    },
    {
     "name": "stdout",
     "output_type": "stream",
     "text": [
      "20231030T034858 : amilcar32 : INFO : Inicio guardar fichero ..\\tfm_viu\\ejecuciones\\metricas\\metricas_1860.csv\n",
      "20231030T034858 : amilcar32 : INFO : Fichero borrado ..\\tfm_viu\\ejecuciones\\metricas\\metricas_1860.csv\n",
      "20231030T034859 : amilcar32 : INFO : Fin guardar fichero ..\\tfm_viu\\ejecuciones\\metricas\\metricas_1860.csv\n",
      "20231030T034859 : amilcar32 : INFO : Fin guardar métricas multiclase\n",
      "20231030T034859 : amilcar32 : INFO : Inicio leer fichero ..\\tfm_viu\\ejecuciones\\metricas\\metricas_1860.csv\n",
      "20231030T034859 : amilcar32 : INFO : Fin leer fichero ..\\tfm_viu\\ejecuciones\\metricas\\metricas_1860.csv\n"
     ]
    },
    {
     "data": {
      "text/html": [
       "<div>\n",
       "<style scoped>\n",
       "    .dataframe tbody tr th:only-of-type {\n",
       "        vertical-align: middle;\n",
       "    }\n",
       "\n",
       "    .dataframe tbody tr th {\n",
       "        vertical-align: top;\n",
       "    }\n",
       "\n",
       "    .dataframe thead th {\n",
       "        text-align: right;\n",
       "    }\n",
       "</style>\n",
       "<table border=\"1\" class=\"dataframe\">\n",
       "  <thead>\n",
       "    <tr style=\"text-align: right;\">\n",
       "      <th></th>\n",
       "      <th>tipo</th>\n",
       "      <th>select</th>\n",
       "      <th>clasific</th>\n",
       "      <th>semilla</th>\n",
       "      <th>accuracy</th>\n",
       "      <th>precision</th>\n",
       "      <th>recall</th>\n",
       "      <th>f1_score</th>\n",
       "      <th>roc_auc</th>\n",
       "      <th>hostname</th>\n",
       "      <th>total_time_sec</th>\n",
       "      <th>datetime</th>\n",
       "      <th>fichero_modelo</th>\n",
       "      <th>params</th>\n",
       "      <th>shape</th>\n",
       "      <th>features</th>\n",
       "      <th>roc_auc_ovr</th>\n",
       "      <th>indices_auc</th>\n",
       "      <th>indices_jaccard</th>\n",
       "    </tr>\n",
       "  </thead>\n",
       "  <tbody>\n",
       "    <tr>\n",
       "      <th>0</th>\n",
       "      <td>mul_s</td>\n",
       "      <td>MI</td>\n",
       "      <td>SVM</td>\n",
       "      <td>1860</td>\n",
       "      <td>0.423077</td>\n",
       "      <td>0.423810</td>\n",
       "      <td>0.440260</td>\n",
       "      <td>0.413205</td>\n",
       "      <td>NaN</td>\n",
       "      <td>amilcar32</td>\n",
       "      <td>262</td>\n",
       "      <td>2023-10-30 03:48:58.969331</td>\n",
       "      <td>modelo_1860_mul_s_MI_SVM.pkl</td>\n",
       "      <td>{'selector__k': 1000, 'clasifier__kernel': 'rb...</td>\n",
       "      <td>X_test:(52, 18875)</td>\n",
       "      <td>['ENSG00000003137.9', 'ENSG00000004939.16', 'E...</td>\n",
       "      <td>0.770453</td>\n",
       "      <td>[0.5365853658536586, 0.8693181818181819, 0.670...</td>\n",
       "      <td>[0.14285714285714285, 0.4, 0.07692307692307693...</td>\n",
       "    </tr>\n",
       "    <tr>\n",
       "      <th>0</th>\n",
       "      <td>mul_s</td>\n",
       "      <td>MI</td>\n",
       "      <td>RF</td>\n",
       "      <td>1860</td>\n",
       "      <td>0.326923</td>\n",
       "      <td>0.276927</td>\n",
       "      <td>0.321320</td>\n",
       "      <td>0.287164</td>\n",
       "      <td>NaN</td>\n",
       "      <td>amilcar32</td>\n",
       "      <td>356</td>\n",
       "      <td>2023-10-30 03:44:30.560254</td>\n",
       "      <td>modelo_1860_mul_s_MI_RF.pkl</td>\n",
       "      <td>{'selector__k': 500, 'clasifier__n_estimators'...</td>\n",
       "      <td>X_test:(52, 18875)</td>\n",
       "      <td>['ENSG00000005513.10', 'ENSG00000006025.13', '...</td>\n",
       "      <td>0.689651</td>\n",
       "      <td>[0.43237250554323725, 0.7670454545454546, 0.63...</td>\n",
       "      <td>[0.07142857142857142, 0.3076923076923077, 0.15...</td>\n",
       "    </tr>\n",
       "    <tr>\n",
       "      <th>0</th>\n",
       "      <td>mul_s</td>\n",
       "      <td>MI</td>\n",
       "      <td>LR_L2</td>\n",
       "      <td>1860</td>\n",
       "      <td>0.500000</td>\n",
       "      <td>0.535173</td>\n",
       "      <td>0.507792</td>\n",
       "      <td>0.491640</td>\n",
       "      <td>NaN</td>\n",
       "      <td>amilcar32</td>\n",
       "      <td>618</td>\n",
       "      <td>2023-10-30 03:38:28.183877</td>\n",
       "      <td>modelo_1860_mul_s_MI_LR_L2.pkl</td>\n",
       "      <td>{'selector__k': 500, 'clasifier__solver': 'sag...</td>\n",
       "      <td>X_test:(52, 18875)</td>\n",
       "      <td>['ENSG00000005513.10', 'ENSG00000006025.13', '...</td>\n",
       "      <td>0.829688</td>\n",
       "      <td>[0.6341463414634146, 0.9034090909090908, 0.642...</td>\n",
       "      <td>[0.29411764705882354, 0.5, 0.07692307692307693...</td>\n",
       "    </tr>\n",
       "  </tbody>\n",
       "</table>\n",
       "</div>"
      ],
      "text/plain": [
       "    tipo select clasific  semilla  accuracy  precision    recall  f1_score  \\\n",
       "0  mul_s     MI      SVM     1860  0.423077   0.423810  0.440260  0.413205   \n",
       "0  mul_s     MI       RF     1860  0.326923   0.276927  0.321320  0.287164   \n",
       "0  mul_s     MI    LR_L2     1860  0.500000   0.535173  0.507792  0.491640   \n",
       "\n",
       "   roc_auc   hostname  total_time_sec                    datetime  \\\n",
       "0      NaN  amilcar32             262  2023-10-30 03:48:58.969331   \n",
       "0      NaN  amilcar32             356  2023-10-30 03:44:30.560254   \n",
       "0      NaN  amilcar32             618  2023-10-30 03:38:28.183877   \n",
       "\n",
       "                   fichero_modelo  \\\n",
       "0    modelo_1860_mul_s_MI_SVM.pkl   \n",
       "0     modelo_1860_mul_s_MI_RF.pkl   \n",
       "0  modelo_1860_mul_s_MI_LR_L2.pkl   \n",
       "\n",
       "                                              params               shape  \\\n",
       "0  {'selector__k': 1000, 'clasifier__kernel': 'rb...  X_test:(52, 18875)   \n",
       "0  {'selector__k': 500, 'clasifier__n_estimators'...  X_test:(52, 18875)   \n",
       "0  {'selector__k': 500, 'clasifier__solver': 'sag...  X_test:(52, 18875)   \n",
       "\n",
       "                                            features  roc_auc_ovr  \\\n",
       "0  ['ENSG00000003137.9', 'ENSG00000004939.16', 'E...     0.770453   \n",
       "0  ['ENSG00000005513.10', 'ENSG00000006025.13', '...     0.689651   \n",
       "0  ['ENSG00000005513.10', 'ENSG00000006025.13', '...     0.829688   \n",
       "\n",
       "                                         indices_auc  \\\n",
       "0  [0.5365853658536586, 0.8693181818181819, 0.670...   \n",
       "0  [0.43237250554323725, 0.7670454545454546, 0.63...   \n",
       "0  [0.6341463414634146, 0.9034090909090908, 0.642...   \n",
       "\n",
       "                                     indices_jaccard  \n",
       "0  [0.14285714285714285, 0.4, 0.07692307692307693...  \n",
       "0  [0.07142857142857142, 0.3076923076923077, 0.15...  \n",
       "0  [0.29411764705882354, 0.5, 0.07692307692307693...  "
      ]
     },
     "metadata": {},
     "output_type": "display_data"
    }
   ],
   "source": [
    "if M_TIPO.startswith(\"bin\"):\n",
    "    myfunc.save_metricas_to_csv(random_search, X_test, y_test, M_TIPO, M_SELECT, M_CLASIF, total_time, SEMILLA, myfunc.MET_DIR, M_FICHERO, fichero_modelo)\n",
    "else:\n",
    "    myfunc.save_metricas_multi_to_csv(random_search, X_test, y_test, M_TIPO, M_SELECT, M_CLASIF, total_time, SEMILLA, myfunc.MET_DIR, M_FICHERO, fichero_modelo)\n",
    "\n",
    "df1=myfunc.read_metricas_to_df(myfunc.MET_DIR,M_FICHERO)\n",
    "\n",
    "display(df1.sort_values(\"datetime\", ascending=False)[:3])\n"
   ]
  },
  {
   "cell_type": "markdown",
   "id": "1c5e564a",
   "metadata": {
    "papermill": {
     "duration": 0.015626,
     "end_time": "2023-10-30T02:48:59.094025",
     "exception": false,
     "start_time": "2023-10-30T02:48:59.078399",
     "status": "completed"
    },
    "tags": []
   },
   "source": [
    "#### Guardar resultados"
   ]
  },
  {
   "cell_type": "code",
   "execution_count": 13,
   "id": "99d8bf71",
   "metadata": {
    "execution": {
     "iopub.execute_input": "2023-10-30T02:48:59.094025Z",
     "iopub.status.busy": "2023-10-30T02:48:59.094025Z",
     "iopub.status.idle": "2023-10-30T02:48:59.125354Z",
     "shell.execute_reply": "2023-10-30T02:48:59.125354Z"
    },
    "papermill": {
     "duration": 0.031329,
     "end_time": "2023-10-30T02:48:59.125354",
     "exception": false,
     "start_time": "2023-10-30T02:48:59.094025",
     "status": "completed"
    },
    "tags": []
   },
   "outputs": [
    {
     "name": "stdout",
     "output_type": "stream",
     "text": [
      "20231030T034859 : amilcar32 : INFO : Inicio guardar resultados\n",
      "20231030T034859 : amilcar32 : INFO : Inicio guardar fichero ..\\tfm_viu\\ejecuciones\\metricas\\resultados_1860_mul_s-MI-SVM.csv\n",
      "20231030T034859 : amilcar32 : INFO : Fin guardar fichero ..\\tfm_viu\\ejecuciones\\metricas\\resultados_1860_mul_s-MI-SVM.csv\n",
      "20231030T034859 : amilcar32 : INFO : Fin guardar resultados\n"
     ]
    }
   ],
   "source": [
    "fichero_resultados=R_FICHERO+\"_\"+M_TIPO+\"-\"+M_SELECT+\"-\"+M_CLASIF+\".csv\"\n",
    "myfunc.save_resultados_to_csv(M_TIPO, M_SELECT, M_CLASIF,  random_search, myfunc.MET_DIR, fichero_resultados)\n"
   ]
  }
 ],
 "metadata": {
  "kernelspec": {
   "display_name": "Python 3 (ipykernel)",
   "language": "python",
   "name": "python3"
  },
  "language_info": {
   "codemirror_mode": {
    "name": "ipython",
    "version": 3
   },
   "file_extension": ".py",
   "mimetype": "text/x-python",
   "name": "python",
   "nbconvert_exporter": "python",
   "pygments_lexer": "ipython3",
   "version": "3.10.12"
  },
  "papermill": {
   "default_parameters": {},
   "duration": 267.66089,
   "end_time": "2023-10-30T02:49:00.254660",
   "environment_variables": {},
   "exception": null,
   "input_path": "03_entrenamiento.ipynb",
   "output_path": "ejecuciones\\training\\03_entrenamiento.20231030T_34431.param_0000_1860_mul_s_MI_SVM.output.ipynb",
   "parameters": {
    "MAX_ITERS": 500,
    "M_CLASIF": "SVM",
    "M_FICHERO": "metricas_1860",
    "M_SELECT": "MI",
    "M_TIPO": "mul_s",
    "PRE_DATA_FILE": "rows_transpose_norm_by_gene_id_with_target_num_",
    "P_FICHERO": "param_0000_1860_mul_s_MI_SVM.yaml",
    "R_FICHERO": "resultados_1860",
    "SCORING": "roc_auc_ovr",
    "SEMILLA": 1860,
    "eval_clasifier": "SVC(probability=True, random_state=SEMILLA)",
    "eval_selector": "SelectKBest(score_func=mutual_info_classif_state)",
    "param_distributions": {
     "clasifier__C": [
      100
     ],
     "clasifier__gamma": [
      0.001
     ],
     "clasifier__kernel": [
      "rbf"
     ],
     "selector__k": [
      1000
     ]
    }
   },
   "start_time": "2023-10-30T02:44:32.593770",
   "version": "2.4.0"
  }
 },
 "nbformat": 4,
 "nbformat_minor": 5
}