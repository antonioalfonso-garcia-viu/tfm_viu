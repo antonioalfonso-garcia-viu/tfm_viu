{
 "cells": [
  {
   "cell_type": "markdown",
   "id": "a57724da",
   "metadata": {
    "papermill": {
     "duration": 0.00314,
     "end_time": "2023-10-30T16:43:07.873751",
     "exception": false,
     "start_time": "2023-10-30T16:43:07.870611",
     "status": "completed"
    },
    "tags": []
   },
   "source": [
    "##### Inicio"
   ]
  },
  {
   "cell_type": "markdown",
   "id": "f96b892d",
   "metadata": {
    "papermill": {
     "duration": 0.002352,
     "end_time": "2023-10-30T16:43:07.878642",
     "exception": false,
     "start_time": "2023-10-30T16:43:07.876290",
     "status": "completed"
    },
    "tags": []
   },
   "source": [
    "#### Carga de datos"
   ]
  },
  {
   "cell_type": "code",
   "execution_count": 1,
   "id": "81adc8d9",
   "metadata": {
    "execution": {
     "iopub.execute_input": "2023-10-30T16:43:07.884472Z",
     "iopub.status.busy": "2023-10-30T16:43:07.884244Z",
     "iopub.status.idle": "2023-10-30T16:43:08.748301Z",
     "shell.execute_reply": "2023-10-30T16:43:08.747689Z"
    },
    "papermill": {
     "duration": 0.868536,
     "end_time": "2023-10-30T16:43:08.749559",
     "exception": false,
     "start_time": "2023-10-30T16:43:07.881023",
     "status": "completed"
    },
    "tags": []
   },
   "outputs": [
    {
     "name": "stdout",
     "output_type": "stream",
     "text": [
      "CPU_COUNT: 8; NODE: amilcar22; sys.version: 3.10.12 (main, Jul  5 2023, 19:22:19) [GCC 11.2.0]\n",
      "LOKY_MAX_CPU_COUNT: 6\n",
      "OMP_NUM_THREADS: 2\n"
     ]
    }
   ],
   "source": [
    "import os\n",
    "import numpy as np\n",
    "import pandas as pd\n",
    "import datetime\n",
    "import sklearn\n",
    "import logging\n",
    "import warnings\n",
    "\n",
    "from sklearn.pipeline import Pipeline\n",
    "from sklearn.model_selection import RandomizedSearchCV, KFold, cross_val_score, train_test_split\n",
    "from sklearn.metrics import accuracy_score, confusion_matrix, classification_report, roc_auc_score\n",
    "\n",
    "#  cargar algoritmos para aprendizaje supervisado\n",
    "from sklearn.feature_selection import SelectKBest, f_classif, SelectFromModel, mutual_info_classif\n",
    "from sklearn.svm import SVC\n",
    "from sklearn.ensemble import RandomForestClassifier\n",
    "from sklearn.linear_model import LogisticRegression,LogisticRegressionCV\n",
    "\n",
    "# importar fichero con utilidades propias\n",
    "from commons import myfunctions as myfunc\n"
   ]
  },
  {
   "cell_type": "markdown",
   "id": "80927249",
   "metadata": {
    "papermill": {
     "duration": 0.002685,
     "end_time": "2023-10-30T16:43:08.755300",
     "exception": false,
     "start_time": "2023-10-30T16:43:08.752615",
     "status": "completed"
    },
    "tags": []
   },
   "source": [
    "#### Parámetros a utilizar en el entrenamiento.\n",
    "\n",
    "Se indican los 3 algoritmos de *selección de características* (eval_selector_xxx) y los 3 algoritmos para la _clasificación_ (eval_clasifier_xxx)\n",
    "\n",
    "En *param_distributions* se indicar los parámetros que utilizan los algoritmos en la función RandomSearchCV.\n",
    "\n",
    "Esta celda tiene la etiqueta **parameters** que servirá para poder lanzar los entrenamientos con la utilidad **papermill** pasándole un fichero con los parámetros. Los nuevos parámetros se situarán tras esta celda para tener prevalencia."
   ]
  },
  {
   "cell_type": "code",
   "execution_count": 2,
   "id": "d33b7bba",
   "metadata": {
    "execution": {
     "iopub.execute_input": "2023-10-30T16:43:08.761357Z",
     "iopub.status.busy": "2023-10-30T16:43:08.761074Z",
     "iopub.status.idle": "2023-10-30T16:43:08.768049Z",
     "shell.execute_reply": "2023-10-30T16:43:08.767581Z"
    },
    "papermill": {
     "duration": 0.011332,
     "end_time": "2023-10-30T16:43:08.769196",
     "exception": false,
     "start_time": "2023-10-30T16:43:08.757864",
     "status": "completed"
    },
    "tags": [
     "parameters"
    ]
   },
   "outputs": [
    {
     "name": "stdout",
     "output_type": "stream",
     "text": [
      "20231030T174308 : amilcar22 : INFO : Utilizando parámetros de mul_m\n"
     ]
    }
   ],
   "source": [
    "#  Parametros para el entrenamiento\n",
    "\n",
    "SEMILLA=        42\n",
    "M_TIPO=         \"mul_m\"\n",
    "M_SELECT=       \"MI\"\n",
    "M_CLASIF=       \"SVM\"\n",
    "R_FICHERO=      \"resultados\"\n",
    "M_FICHERO=      \"metricas\"\n",
    "PRE_DATA_FILE=  \"rows_transpose_norm_by_gene_id_with_target_num_\"\n",
    "SCORING=        \"roc_auc_ovr\" \n",
    "MAX_ITERS=      100\n",
    "\n",
    "def mutual_info_classif_state(X, y):\n",
    "    return mutual_info_classif(X, y, random_state=SEMILLA)\n",
    "\n",
    "eval_selector_mi = \"SelectKBest(score_func=mutual_info_classif_state)\"\n",
    "eval_selector_rf=  \"SelectFromModel(estimator=RandomForestClassifier(random_state=SEMILLA), threshold=-np.inf)\"\n",
    "eval_selector_anova=  \"SelectKBest(score_func=f_classif)\"\n",
    "\n",
    "eval_clasifier_svm= \"SVC(probability=True, random_state=SEMILLA)\"\n",
    "eval_clasifier_rf= \"RandomForestClassifier(random_state=SEMILLA)\"\n",
    "eval_clasifier_lr= \"LogisticRegressionCV(random_state=SEMILLA)\"\n",
    "\n",
    "if M_TIPO.startswith(\"bin_m\"):\n",
    "    myfunc.verbose(f\"Utilizando parámetros de {M_TIPO}\")\n",
    "    eval_selector = eval_selector_mi\n",
    "    eval_clasifier = eval_clasifier_svm\n",
    "\n",
    "    SEMILLA = 6578\n",
    "    M_SELECT = \"MI\"\n",
    "    M_CLASIF = \"SVM\"\n",
    "    param_distributions = {'selector__k': [1000], \n",
    "         'clasifier__kernel': ['rbf'], 'clasifier__gamma': [0.01], 'clasifier__C': [100]}\n",
    "elif M_TIPO.startswith(\"bin_s\"):\n",
    "    myfunc.verbose(f\"Utilizando parámetros de {M_TIPO}\")\n",
    "    eval_selector = eval_selector_rf\n",
    "    eval_clasifier = eval_clasifier_lr\n",
    "\n",
    "    SEMILLA = 6191\n",
    "    M_SELECT = \"RF\"\n",
    "    M_CLASIF = \"LR_L2\"\n",
    "    param_distributions = {'selector__max_features': [1000], 'selector__estimator__n_estimators': [200], \n",
    "        'clasifier__solver': ['lbfgs'], 'clasifier__penalty': ['l2'], 'clasifier__max_iter': [10000]}\n",
    "\n",
    "elif M_TIPO.startswith(\"mul_m\"):\n",
    "    myfunc.verbose(f\"Utilizando parámetros de {M_TIPO}\")\n",
    " \n",
    "    eval_selector = eval_selector_rf\n",
    "    eval_clasifier = eval_clasifier_lr\n",
    "\n",
    "    SEMILLA = 6191\n",
    "    M_SELECT = \"RF\"\n",
    "    M_CLASIF = \"LR_L2\"\n",
    "    param_distributions = {'selector__max_features': [1000], 'selector__estimator__n_estimators': [400], \n",
    "        'clasifier__solver': ['lbfgs'], 'clasifier__penalty': ['l2'], 'clasifier__max_iter': [10000]}\n",
    "\n",
    "else:\n",
    "    # M_TIPO.startswith(\"mul_s\"):\n",
    "    myfunc.verbose(f\"Utilizando parámetros de {M_TIPO}\")\n",
    "    eval_selector = eval_selector_anova\n",
    "    eval_clasifier = eval_clasifier_lr\n",
    "\n",
    "    SEMILLA = 1860\n",
    "    M_SELECT = \"ANOVA\"\n",
    "    M_CLASIF = \"LR_L2\"\n",
    "    param_distributions = {'selector__k': [1000], \n",
    "        'clasifier__solver': ['saga'], 'clasifier__penalty': ['l2'], 'clasifier__max_iter': [10000]}\n",
    "\n"
   ]
  },
  {
   "cell_type": "code",
   "execution_count": 3,
   "id": "ead7ec5d",
   "metadata": {
    "execution": {
     "iopub.execute_input": "2023-10-30T16:43:08.775309Z",
     "iopub.status.busy": "2023-10-30T16:43:08.775106Z",
     "iopub.status.idle": "2023-10-30T16:43:08.779102Z",
     "shell.execute_reply": "2023-10-30T16:43:08.778582Z"
    },
    "papermill": {
     "duration": 0.008405,
     "end_time": "2023-10-30T16:43:08.780309",
     "exception": false,
     "start_time": "2023-10-30T16:43:08.771904",
     "status": "completed"
    },
    "tags": [
     "injected-parameters"
    ]
   },
   "outputs": [],
   "source": [
    "# Parameters\n",
    "M_TIPO = \"mul_m\"\n",
    "M_SELECT = \"RF\"\n",
    "M_CLASIF = \"RF\"\n",
    "P_FICHERO = \"param_0000_6390_mul_m_RF_RF.yaml\"\n",
    "R_FICHERO = \"resultados_6390\"\n",
    "M_FICHERO = \"metricas_6390\"\n",
    "PRE_DATA_FILE = \"rows_transpose_norm_by_gene_id_with_target_num_\"\n",
    "SCORING = \"roc_auc_ovr\"\n",
    "SEMILLA = 6390\n",
    "MAX_ITERS = 500\n",
    "eval_selector = \"SelectFromModel(estimator=RandomForestClassifier(random_state=SEMILLA), threshold=-np.inf)\"\n",
    "eval_clasifier = \"RandomForestClassifier(random_state=SEMILLA)\"\n",
    "param_distributions = {\n",
    "    \"selector__max_features\": [500],\n",
    "    \"selector__estimator__n_estimators\": [200],\n",
    "    \"clasifier__n_estimators\": [400],\n",
    "    \"clasifier__min_samples_split\": [10],\n",
    "    \"clasifier__min_samples_leaf\": [5],\n",
    "    \"clasifier__max_features\": [200],\n",
    "    \"clasifier__max_depth\": [20],\n",
    "    \"clasifier__bootstrap\": [True],\n",
    "}\n"
   ]
  },
  {
   "cell_type": "code",
   "execution_count": 4,
   "id": "c81a8dc7",
   "metadata": {
    "execution": {
     "iopub.execute_input": "2023-10-30T16:43:08.786508Z",
     "iopub.status.busy": "2023-10-30T16:43:08.786323Z",
     "iopub.status.idle": "2023-10-30T16:43:08.789603Z",
     "shell.execute_reply": "2023-10-30T16:43:08.789085Z"
    },
    "papermill": {
     "duration": 0.007816,
     "end_time": "2023-10-30T16:43:08.790850",
     "exception": false,
     "start_time": "2023-10-30T16:43:08.783034",
     "status": "completed"
    },
    "tags": []
   },
   "outputs": [],
   "source": [
    "DATA_FILE = PRE_DATA_FILE + M_TIPO\n",
    "\n",
    "# si viene \"None\" en el parámetro max_depth, se le quitan las comillas para que no sea entendido por el algoritmo como un texto\n",
    "if \"clasifier__max_depth\" in param_distributions:\n",
    "    param_distributions['clasifier__max_depth'] = [None if x == 'None' else x for x in param_distributions['clasifier__max_depth']]"
   ]
  },
  {
   "cell_type": "markdown",
   "id": "7e06261e",
   "metadata": {
    "papermill": {
     "duration": 0.002649,
     "end_time": "2023-10-30T16:43:08.796327",
     "exception": false,
     "start_time": "2023-10-30T16:43:08.793678",
     "status": "completed"
    },
    "tags": []
   },
   "source": [
    "Asignar los algoritmos que se utilizarán en la función RandomSearchCV"
   ]
  },
  {
   "cell_type": "code",
   "execution_count": 5,
   "id": "a9db5155",
   "metadata": {
    "execution": {
     "iopub.execute_input": "2023-10-30T16:43:08.802234Z",
     "iopub.status.busy": "2023-10-30T16:43:08.802041Z",
     "iopub.status.idle": "2023-10-30T16:43:08.804803Z",
     "shell.execute_reply": "2023-10-30T16:43:08.804325Z"
    },
    "papermill": {
     "duration": 0.007052,
     "end_time": "2023-10-30T16:43:08.806008",
     "exception": false,
     "start_time": "2023-10-30T16:43:08.798956",
     "status": "completed"
    },
    "tags": []
   },
   "outputs": [],
   "source": [
    "algor_selector=eval(eval_selector)\n",
    "algor_clasifier=eval(eval_clasifier)"
   ]
  },
  {
   "cell_type": "markdown",
   "id": "abd7ad69",
   "metadata": {
    "papermill": {
     "duration": 0.002778,
     "end_time": "2023-10-30T16:43:08.811642",
     "exception": false,
     "start_time": "2023-10-30T16:43:08.808864",
     "status": "completed"
    },
    "tags": []
   },
   "source": [
    "#### Comprobar el entorno y leer fichero de muestras"
   ]
  },
  {
   "cell_type": "code",
   "execution_count": 6,
   "id": "14a6ca21",
   "metadata": {
    "execution": {
     "iopub.execute_input": "2023-10-30T16:43:08.818890Z",
     "iopub.status.busy": "2023-10-30T16:43:08.818700Z",
     "iopub.status.idle": "2023-10-30T16:43:08.982529Z",
     "shell.execute_reply": "2023-10-30T16:43:08.982025Z"
    },
    "papermill": {
     "duration": 0.169224,
     "end_time": "2023-10-30T16:43:08.983903",
     "exception": false,
     "start_time": "2023-10-30T16:43:08.814679",
     "status": "completed"
    },
    "tags": []
   },
   "outputs": [
    {
     "name": "stdout",
     "output_type": "stream",
     "text": [
      "20231030T174308 : amilcar22 : INFO : Encontrada carpeta DATA_DIR=../tfm_git/datos\n",
      "20231030T174308 : amilcar22 : INFO : Encontrada carpeta CFDNA_DIR=../tfm_git/datos/cfDNA_5hmC\n",
      "20231030T174308 : amilcar22 : INFO : Encontrada carpeta GENCODE_DIR=../tfm_git/datos/gencode\n",
      "20231030T174308 : amilcar22 : INFO : Encontrada carpeta H5_DIR=../tfm_git/datos/h5\n",
      "20231030T174308 : amilcar22 : INFO : Encontrada carpeta LOG_DIR=../tfm_git/datos/logs\n",
      "20231030T174308 : amilcar22 : INFO : Encontrada carpeta CSV_DIR=../tfm_git/datos/csv\n",
      "20231030T174308 : amilcar22 : INFO : Encontrada carpeta MODEL_DIR=../tfm_git/ejecuciones/modelos\n",
      "20231030T174308 : amilcar22 : INFO : Encontrada carpeta EXEC_DIR=../tfm_git/ejecuciones\n",
      "20231030T174308 : amilcar22 : INFO : Encontrada carpeta MET_DIR=../tfm_git/ejecuciones/metricas\n",
      "20231030T174308 : amilcar22 : INFO : Inicio leer fichero h5 ../tfm_git/datos/h5/rows_transpose_norm_by_gene_id_with_target_num_mul_m.h5\n",
      "20231030T174308 : amilcar22 : INFO : Leyendo clave /df\n",
      "20231030T174308 : amilcar22 : INFO : Tamaño (434, 18876)\n",
      "20231030T174308 : amilcar22 : INFO : Fin leer fichero h5 ../tfm_git/datos/h5/rows_transpose_norm_by_gene_id_with_target_num_mul_m.h5\n"
     ]
    },
    {
     "data": {
      "text/plain": [
       "target\n",
       "0    62\n",
       "1    62\n",
       "2    62\n",
       "3    62\n",
       "4    62\n",
       "5    62\n",
       "6    62\n",
       "dtype: int64"
      ]
     },
     "metadata": {},
     "output_type": "display_data"
    },
    {
     "name": "stdout",
     "output_type": "stream",
     "text": [
      "Shape df: (434, 18876)\n"
     ]
    },
    {
     "name": "stdout",
     "output_type": "stream",
     "text": [
      "Shape X_train: (347, 18875)\n",
      "Shape X_test: (87, 18875)\n"
     ]
    }
   ],
   "source": [
    "start_time = datetime.datetime.now()\n",
    "\n",
    "myfunc.reset_vars()\n",
    "\n",
    "myfunc.NOTEBK_FILENAME = myfunc.get_nb_name()\n",
    "\n",
    "myfunc.check_enviroment(myfunc.DATA_DIR, myfunc.CFDNA_DIR, myfunc.GENCODE_DIR, myfunc.H5_DIR, myfunc.LOG_DIR, myfunc.CSV_DIR, myfunc.MODEL_DIR, myfunc.EXEC_DIR, myfunc.MET_DIR)\n",
    "\n",
    "# Leer fichero con las muestras\n",
    "df_t = myfunc.read_h5_to_df(DATA_FILE, myfunc.H5_DIR)\n",
    "display(df_t.groupby(\"target\").size())\n",
    "print(\"Shape df:\",df_t.shape)\n",
    "\n",
    "# Separar caracteristicas/genes de las etiquetas/tipos de cáncer\n",
    "X = df_t.iloc[:, :-1]  # Todas las columnas excepto la última\n",
    "y = df_t.iloc[:, -1]  # La última columna contiene los identificadores de los tipos de cáncer\n",
    "\n",
    "#  Crear el conjunto de datos de entrenamiento y de pruebas, y se fija la semilla para siempre coger el mismo juego de muestras\n",
    "X_train, X_test, y_train, y_test = train_test_split(X, y, test_size=0.2, shuffle=True, random_state=42)\n",
    "print(\"Shape X_train:\",X_train.shape)\n",
    "print(\"Shape X_test:\",X_test.shape)\n"
   ]
  },
  {
   "cell_type": "markdown",
   "id": "c7521de3",
   "metadata": {
    "papermill": {
     "duration": 0.002852,
     "end_time": "2023-10-30T16:43:08.990136",
     "exception": false,
     "start_time": "2023-10-30T16:43:08.987284",
     "status": "completed"
    },
    "tags": []
   },
   "source": [
    "#### Selección de características y clasificación."
   ]
  },
  {
   "cell_type": "code",
   "execution_count": 7,
   "id": "9fae46a4",
   "metadata": {
    "execution": {
     "iopub.execute_input": "2023-10-30T16:43:08.996829Z",
     "iopub.status.busy": "2023-10-30T16:43:08.996630Z",
     "iopub.status.idle": "2023-10-30T16:43:34.158387Z",
     "shell.execute_reply": "2023-10-30T16:43:34.157791Z"
    },
    "papermill": {
     "duration": 25.166782,
     "end_time": "2023-10-30T16:43:34.159738",
     "exception": false,
     "start_time": "2023-10-30T16:43:08.992956",
     "status": "completed"
    },
    "tags": []
   },
   "outputs": [
    {
     "name": "stdout",
     "output_type": "stream",
     "text": [
      "20231030T174308 : amilcar22 : INFO : Iniciando entrenamiento\n",
      "num_iter: 1 , max_iter: 1\n",
      "Fitting 5 folds for each of 1 candidates, totalling 5 fits\n"
     ]
    },
    {
     "name": "stdout",
     "output_type": "stream",
     "text": [
      "Mejores Hiperparámetros: {'selector__max_features': 500, 'selector__estimator__n_estimators': 200, 'clasifier__n_estimators': 400, 'clasifier__min_samples_split': 10, 'clasifier__min_samples_leaf': 5, 'clasifier__max_features': 200, 'clasifier__max_depth': 20, 'clasifier__bootstrap': True}\n",
      "Mejor Puntuación: 0.8247\n",
      "20231030T174334 : amilcar22 : INFO : Fin entrenamiento\n"
     ]
    }
   ],
   "source": [
    "myfunc.verbose(\"Iniciando entrenamiento\")\n",
    "\n",
    "kf = KFold(n_splits=5, shuffle=True, random_state=SEMILLA)\n",
    "\n",
    "# Crear el pipeline para el flujo de tareas\n",
    "tasks_pipeline = Pipeline([\n",
    "    ('selector', algor_selector),\n",
    "    ('clasifier', algor_clasifier)\n",
    "])\n",
    "\n",
    "# MAX_ITERS puede limitar el número de iteraciones si son excesivas para las combinaciones de parámetros buscando un óptimo local, \n",
    "# sino funcionaría como GridSearchCV al revisar todas las cominaciones de los parámetros\n",
    "num_iteraciones = 1\n",
    "num_iteraciones = num_iteraciones * np.prod([len(elemento1) for _, elemento1 in param_distributions.items()])\n",
    "max_iteraciones = num_iteraciones if num_iteraciones <= MAX_ITERS else MAX_ITERS\n",
    "print(\"num_iter:\",num_iteraciones,\", max_iter:\",max_iteraciones)\n",
    "\n",
    "random_search = RandomizedSearchCV(\n",
    "    tasks_pipeline, \n",
    "    param_distributions, \n",
    "    n_iter=max_iteraciones,\n",
    "    scoring=SCORING,\n",
    "    cv=kf,\n",
    "    verbose=3, \n",
    "    random_state=SEMILLA, \n",
    "    n_jobs=-1\n",
    "    )\n",
    "\n",
    "# Entrenar el modelo\n",
    "random_search.fit(X_train, y_train)\n",
    "\n",
    "# Ver los mejores hiperparámetros encontrados\n",
    "print(f'Mejores Hiperparámetros: {random_search.best_params_}')\n",
    "print(f'Mejor Puntuación: {random_search.best_score_:.4f}')\n",
    "\n",
    "# Nos quedamos con el mejor modelo para ver las métricas\n",
    "mejor_modelo = random_search.best_estimator_\n",
    "\n",
    "myfunc.verbose(\"Fin entrenamiento\")"
   ]
  },
  {
   "cell_type": "markdown",
   "id": "bbbff09b",
   "metadata": {
    "papermill": {
     "duration": 0.003182,
     "end_time": "2023-10-30T16:43:34.166442",
     "exception": false,
     "start_time": "2023-10-30T16:43:34.163260",
     "status": "completed"
    },
    "tags": []
   },
   "source": [
    "#### Guardar modelo"
   ]
  },
  {
   "cell_type": "code",
   "execution_count": 8,
   "id": "05c23c80",
   "metadata": {
    "execution": {
     "iopub.execute_input": "2023-10-30T16:43:34.185443Z",
     "iopub.status.busy": "2023-10-30T16:43:34.185187Z",
     "iopub.status.idle": "2023-10-30T16:43:34.373674Z",
     "shell.execute_reply": "2023-10-30T16:43:34.373154Z"
    },
    "papermill": {
     "duration": 0.200308,
     "end_time": "2023-10-30T16:43:34.374974",
     "exception": false,
     "start_time": "2023-10-30T16:43:34.174666",
     "status": "completed"
    },
    "tags": []
   },
   "outputs": [
    {
     "name": "stdout",
     "output_type": "stream",
     "text": [
      "20231030T174334 : amilcar22 : INFO : Inicio guardar fichero ../tfm_git/ejecuciones/modelos/modelo_6390_mul_m_RF_RF.pkl\n"
     ]
    },
    {
     "name": "stdout",
     "output_type": "stream",
     "text": [
      "20231030T174334 : amilcar22 : INFO : Fin guardar fichero ../tfm_git/ejecuciones/modelos/modelo_6390_mul_m_RF_RF.pkl\n"
     ]
    }
   ],
   "source": [
    "fichero_modelo = str.replace(\"modelo_\"+str(SEMILLA).zfill(4)+\"_\"+M_TIPO+\"_\"+M_SELECT+\"_\"+M_CLASIF+\".pkl\", \" \", \"_\")\n",
    "\n",
    "myfunc.save_modelo(mejor_modelo, myfunc.MODEL_DIR, fichero_modelo)"
   ]
  },
  {
   "cell_type": "markdown",
   "id": "1378651f",
   "metadata": {
    "papermill": {
     "duration": 0.003447,
     "end_time": "2023-10-30T16:43:34.381964",
     "exception": false,
     "start_time": "2023-10-30T16:43:34.378517",
     "status": "completed"
    },
    "tags": []
   },
   "source": [
    "#### Ver resultados del las iteraciones hechas por RandomSearchCV"
   ]
  },
  {
   "cell_type": "code",
   "execution_count": 9,
   "id": "b1b48c54",
   "metadata": {
    "execution": {
     "iopub.execute_input": "2023-10-30T16:43:34.388887Z",
     "iopub.status.busy": "2023-10-30T16:43:34.388681Z",
     "iopub.status.idle": "2023-10-30T16:43:34.394704Z",
     "shell.execute_reply": "2023-10-30T16:43:34.394243Z"
    },
    "papermill": {
     "duration": 0.01079,
     "end_time": "2023-10-30T16:43:34.395876",
     "exception": false,
     "start_time": "2023-10-30T16:43:34.385086",
     "status": "completed"
    },
    "tags": []
   },
   "outputs": [
    {
     "name": "stdout",
     "output_type": "stream",
     "text": [
      "20231030T174334 : amilcar22 : INFO : Inicio ver resultados\n",
      "Mejores Hiperparámetros: {'selector__max_features': 500, 'selector__estimator__n_estimators': 200, 'clasifier__n_estimators': 400, 'clasifier__min_samples_split': 10, 'clasifier__min_samples_leaf': 5, 'clasifier__max_features': 200, 'clasifier__max_depth': 20, 'clasifier__bootstrap': True}\n",
      "Mejores puntuaciones: 0.8247 | Params: {'selector__max_features': 500, 'selector__estimator__n_estimators': 200, 'clasifier__n_estimators': 400, 'clasifier__min_samples_split': 10, 'clasifier__min_samples_leaf': 5, 'clasifier__max_features': 200, 'clasifier__max_depth': 20, 'clasifier__bootstrap': True}\n",
      "Media de las puntuaciones: 0.8247 | Params: {'selector__max_features': 500, 'selector__estimator__n_estimators': 200, 'clasifier__n_estimators': 400, 'clasifier__min_samples_split': 10, 'clasifier__min_samples_leaf': 5, 'clasifier__max_features': 200, 'clasifier__max_depth': 20, 'clasifier__bootstrap': True}\n",
      "20231030T174334 : amilcar22 : INFO : Fin resultados\n"
     ]
    }
   ],
   "source": [
    "myfunc.ver_resultados_search(random_search)"
   ]
  },
  {
   "cell_type": "markdown",
   "id": "e5eacfc6",
   "metadata": {
    "papermill": {
     "duration": 0.003103,
     "end_time": "2023-10-30T16:43:34.402277",
     "exception": false,
     "start_time": "2023-10-30T16:43:34.399174",
     "status": "completed"
    },
    "tags": []
   },
   "source": [
    "#### Ver métricas del mejor modelo"
   ]
  },
  {
   "cell_type": "code",
   "execution_count": 10,
   "id": "c22f5b01",
   "metadata": {
    "execution": {
     "iopub.execute_input": "2023-10-30T16:43:34.409197Z",
     "iopub.status.busy": "2023-10-30T16:43:34.408999Z",
     "iopub.status.idle": "2023-10-30T16:43:35.189461Z",
     "shell.execute_reply": "2023-10-30T16:43:35.188927Z"
    },
    "papermill": {
     "duration": 0.785394,
     "end_time": "2023-10-30T16:43:35.190789",
     "exception": false,
     "start_time": "2023-10-30T16:43:34.405395",
     "status": "completed"
    },
    "tags": []
   },
   "outputs": [
    {
     "name": "stdout",
     "output_type": "stream",
     "text": [
      "20231030T174334 : amilcar22 : INFO : Inicio ver métricas multiclase\n"
     ]
    },
    {
     "name": "stdout",
     "output_type": "stream",
     "text": [
      "              precision    recall  f1-score   support\n",
      "\n",
      "           0       0.00      0.00      0.00        16\n",
      "           1       0.64      0.60      0.62        15\n",
      "           2       0.33      0.36      0.35        11\n",
      "           3       0.27      0.60      0.37         5\n",
      "           4       0.53      0.77      0.62        13\n",
      "           5       0.64      0.78      0.70         9\n",
      "           6       0.56      0.56      0.56        18\n",
      "\n",
      "    accuracy                           0.49        87\n",
      "   macro avg       0.42      0.52      0.46        87\n",
      "weighted avg       0.43      0.49      0.45        87\n",
      "\n",
      "\n",
      "\n",
      "           Exactitud: 0.494253\n",
      "   Precisión (media): 0.423879\n",
      "      Recall (media): 0.523743\n",
      "    F1-score (media): 0.460582\n",
      "\n",
      "\n",
      "AUC para el tipo de cáncer 0-Control.... 0.6074\n",
      "AUC para el tipo de cáncer 1-Bladder.... 0.8731\n",
      "AUC para el tipo de cáncer 2-Breast..... 0.8182\n",
      "AUC para el tipo de cáncer 3-Colorectal. 0.8390\n",
      "AUC para el tipo de cáncer 4-Kidney..... 0.8524\n",
      "AUC para el tipo de cáncer 5-Lung....... 0.8989\n",
      "AUC para el tipo de cáncer 6-Prostate... 0.8366\n",
      "\n",
      "Media de AUC: 0.8179\n"
     ]
    },
    {
     "data": {
      "image/png": "[encoded data removed]",
      "text/plain": [
       "<Figure size 1000x600 with 1 Axes>"
      ]
     },
     "metadata": {},
     "output_type": "display_data"
    },
    {
     "name": "stdout",
     "output_type": "stream",
     "text": [
      "\n",
      "\n"
     ]
    },
    {
     "data": {
      "image/png": "[encoded data removed]",
      "text/plain": [
       "<Figure size 800x400 with 2 Axes>"
      ]
     },
     "metadata": {},
     "output_type": "display_data"
    },
    {
     "name": "stdout",
     "output_type": "stream",
     "text": [
      "\n",
      "\n",
      "Puntuación Jaccard para el cáncer tipo 0-Control.... 0.0000\n",
      "Puntuación Jaccard para el cáncer tipo 1-Bladder.... 0.4500\n",
      "Puntuación Jaccard para el cáncer tipo 2-Breast..... 0.2105\n",
      "Puntuación Jaccard para el cáncer tipo 3-Colorectal. 0.2308\n",
      "Puntuación Jaccard para el cáncer tipo 4-Kidney..... 0.4545\n",
      "Puntuación Jaccard para el cáncer tipo 5-Lung....... 0.5385\n",
      "Puntuación Jaccard para el cáncer tipo 6-Prostate... 0.3846\n",
      "\n",
      "Media de la puntuación de Jaccard: 0.3241\n"
     ]
    }
   ],
   "source": [
    "if M_TIPO.startswith(\"bin\"):\n",
    "    myfunc.ver_metricas(mejor_modelo, X_test, y_test)\n",
    "else:\n",
    "    myfunc.ver_metricas_multi(mejor_modelo, X_test, y_test)\n"
   ]
  },
  {
   "cell_type": "markdown",
   "id": "418b40d2",
   "metadata": {
    "papermill": {
     "duration": 0.004119,
     "end_time": "2023-10-30T16:43:35.199501",
     "exception": false,
     "start_time": "2023-10-30T16:43:35.195382",
     "status": "completed"
    },
    "tags": []
   },
   "source": [
    "#### Finalización del notebook"
   ]
  },
  {
   "cell_type": "code",
   "execution_count": 11,
   "id": "60059ad2",
   "metadata": {
    "execution": {
     "iopub.execute_input": "2023-10-30T16:43:35.218468Z",
     "iopub.status.busy": "2023-10-30T16:43:35.218266Z",
     "iopub.status.idle": "2023-10-30T16:43:35.221721Z",
     "shell.execute_reply": "2023-10-30T16:43:35.221252Z"
    },
    "papermill": {
     "duration": 0.016744,
     "end_time": "2023-10-30T16:43:35.222814",
     "exception": false,
     "start_time": "2023-10-30T16:43:35.206070",
     "status": "completed"
    },
    "tags": []
   },
   "outputs": [
    {
     "name": "stdout",
     "output_type": "stream",
     "text": [
      "20231030T174335 : amilcar22 : INFO : Notebook ha tardado 26 seconds\n"
     ]
    }
   ],
   "source": [
    "end_time = datetime.datetime.now()\n",
    "total_time = end_time - start_time\n",
    "myfunc.verbose(f\"Notebook ha tardado {total_time.seconds} seconds\")"
   ]
  },
  {
   "cell_type": "markdown",
   "id": "4a19f059",
   "metadata": {
    "papermill": {
     "duration": 0.006146,
     "end_time": "2023-10-30T16:43:35.233440",
     "exception": false,
     "start_time": "2023-10-30T16:43:35.227294",
     "status": "completed"
    },
    "tags": []
   },
   "source": [
    "#### Guardar métricas"
   ]
  },
  {
   "cell_type": "code",
   "execution_count": 12,
   "id": "dcbcb42f",
   "metadata": {
    "execution": {
     "iopub.execute_input": "2023-10-30T16:43:35.248642Z",
     "iopub.status.busy": "2023-10-30T16:43:35.248421Z",
     "iopub.status.idle": "2023-10-30T16:43:35.791908Z",
     "shell.execute_reply": "2023-10-30T16:43:35.791428Z"
    },
    "papermill": {
     "duration": 0.549767,
     "end_time": "2023-10-30T16:43:35.793202",
     "exception": false,
     "start_time": "2023-10-30T16:43:35.243435",
     "status": "completed"
    },
    "tags": []
   },
   "outputs": [
    {
     "name": "stdout",
     "output_type": "stream",
     "text": [
      "20231030T174335 : amilcar22 : INFO : Inicio guardar métricas multiclase\n",
      "20231030T174335 : amilcar22 : INFO : Inicio leer fichero ../tfm_git/ejecuciones/metricas/metricas_6390.csv\n",
      "20231030T174335 : amilcar22 : INFO : Fin leer fichero ../tfm_git/ejecuciones/metricas/metricas_6390.csv\n"
     ]
    },
    {
     "name": "stdout",
     "output_type": "stream",
     "text": [
      "20231030T174335 : amilcar22 : INFO : Inicio guardar fichero ../tfm_git/ejecuciones/metricas/metricas_6390.csv\n",
      "20231030T174335 : amilcar22 : INFO : Fichero borrado ../tfm_git/ejecuciones/metricas/metricas_6390.csv\n",
      "20231030T174335 : amilcar22 : INFO : Fin guardar fichero ../tfm_git/ejecuciones/metricas/metricas_6390.csv\n",
      "20231030T174335 : amilcar22 : INFO : Fin guardar métricas multiclase\n",
      "20231030T174335 : amilcar22 : INFO : Inicio leer fichero ../tfm_git/ejecuciones/metricas/metricas_6390.csv\n",
      "20231030T174335 : amilcar22 : INFO : Fin leer fichero ../tfm_git/ejecuciones/metricas/metricas_6390.csv\n"
     ]
    },
    {
     "data": {
      "text/html": [
       "<div>\n",
       "<style scoped>\n",
       "    .dataframe tbody tr th:only-of-type {\n",
       "        vertical-align: middle;\n",
       "    }\n",
       "\n",
       "    .dataframe tbody tr th {\n",
       "        vertical-align: top;\n",
       "    }\n",
       "\n",
       "    .dataframe thead th {\n",
       "        text-align: right;\n",
       "    }\n",
       "</style>\n",
       "<table border=\"1\" class=\"dataframe\">\n",
       "  <thead>\n",
       "    <tr style=\"text-align: right;\">\n",
       "      <th></th>\n",
       "      <th>tipo</th>\n",
       "      <th>select</th>\n",
       "      <th>clasific</th>\n",
       "      <th>semilla</th>\n",
       "      <th>accuracy</th>\n",
       "      <th>precision</th>\n",
       "      <th>recall</th>\n",
       "      <th>f1_score</th>\n",
       "      <th>roc_auc</th>\n",
       "      <th>hostname</th>\n",
       "      <th>total_time_sec</th>\n",
       "      <th>datetime</th>\n",
       "      <th>fichero_modelo</th>\n",
       "      <th>params</th>\n",
       "      <th>shape</th>\n",
       "      <th>features</th>\n",
       "      <th>roc_auc_ovr</th>\n",
       "      <th>indices_auc</th>\n",
       "      <th>indices_jaccard</th>\n",
       "    </tr>\n",
       "  </thead>\n",
       "  <tbody>\n",
       "    <tr>\n",
       "      <th>0</th>\n",
       "      <td>mul_m</td>\n",
       "      <td>RF</td>\n",
       "      <td>RF</td>\n",
       "      <td>6390</td>\n",
       "      <td>0.494253</td>\n",
       "      <td>0.423879</td>\n",
       "      <td>0.523743</td>\n",
       "      <td>0.460582</td>\n",
       "      <td>NaN</td>\n",
       "      <td>amilcar22</td>\n",
       "      <td>26</td>\n",
       "      <td>2023-10-30 17:43:35.762446</td>\n",
       "      <td>modelo_6390_mul_m_RF_RF.pkl</td>\n",
       "      <td>{'selector__max_features': 500, 'selector__est...</td>\n",
       "      <td>X_test:(87, 18875)</td>\n",
       "      <td>['ENSG00000000938.13', 'ENSG00000005381.9', 'E...</td>\n",
       "      <td>0.817936</td>\n",
       "      <td>[0.6073943661971831, 0.8731481481481482, 0.818...</td>\n",
       "      <td>[0.0, 0.45, 0.21052631578947367, 0.23076923076...</td>\n",
       "    </tr>\n",
       "    <tr>\n",
       "      <th>0</th>\n",
       "      <td>mul_m</td>\n",
       "      <td>RF</td>\n",
       "      <td>LR_L2</td>\n",
       "      <td>6390</td>\n",
       "      <td>0.540230</td>\n",
       "      <td>0.548989</td>\n",
       "      <td>0.551292</td>\n",
       "      <td>0.534838</td>\n",
       "      <td>NaN</td>\n",
       "      <td>amilcar22</td>\n",
       "      <td>57</td>\n",
       "      <td>2023-10-30 17:43:02.743249</td>\n",
       "      <td>modelo_6390_mul_m_RF_LR_L2.pkl</td>\n",
       "      <td>{'selector__max_features': 1000, 'selector__es...</td>\n",
       "      <td>X_test:(87, 18875)</td>\n",
       "      <td>['ENSG00000000938.13', 'ENSG00000004799.8', 'E...</td>\n",
       "      <td>0.846037</td>\n",
       "      <td>[0.7411971830985915, 0.8944444444444445, 0.706...</td>\n",
       "      <td>[0.20833333333333334, 0.5294117647058824, 0.22...</td>\n",
       "    </tr>\n",
       "    <tr>\n",
       "      <th>0</th>\n",
       "      <td>mul_m</td>\n",
       "      <td>RF</td>\n",
       "      <td>LR_L1</td>\n",
       "      <td>6390</td>\n",
       "      <td>0.551724</td>\n",
       "      <td>0.559972</td>\n",
       "      <td>0.565762</td>\n",
       "      <td>0.541193</td>\n",
       "      <td>NaN</td>\n",
       "      <td>amilcar22</td>\n",
       "      <td>1993</td>\n",
       "      <td>2023-10-30 17:41:58.786851</td>\n",
       "      <td>modelo_6390_mul_m_RF_LR_L1.pkl</td>\n",
       "      <td>{'selector__max_features': 1000, 'selector__es...</td>\n",
       "      <td>X_test:(87, 18875)</td>\n",
       "      <td>['ENSG00000000938.13', 'ENSG00000004799.8', 'E...</td>\n",
       "      <td>0.830559</td>\n",
       "      <td>[0.7068661971830986, 0.8925925925925926, 0.690...</td>\n",
       "      <td>[0.19047619047619047, 0.625, 0.142857142857142...</td>\n",
       "    </tr>\n",
       "  </tbody>\n",
       "</table>\n",
       "</div>"
      ],
      "text/plain": [
       "    tipo select clasific  semilla  accuracy  precision    recall  f1_score  \\\n",
       "0  mul_m     RF       RF     6390  0.494253   0.423879  0.523743  0.460582   \n",
       "0  mul_m     RF    LR_L2     6390  0.540230   0.548989  0.551292  0.534838   \n",
       "0  mul_m     RF    LR_L1     6390  0.551724   0.559972  0.565762  0.541193   \n",
       "\n",
       "   roc_auc   hostname  total_time_sec                    datetime  \\\n",
       "0      NaN  amilcar22              26  2023-10-30 17:43:35.762446   \n",
       "0      NaN  amilcar22              57  2023-10-30 17:43:02.743249   \n",
       "0      NaN  amilcar22            1993  2023-10-30 17:41:58.786851   \n",
       "\n",
       "                   fichero_modelo  \\\n",
       "0     modelo_6390_mul_m_RF_RF.pkl   \n",
       "0  modelo_6390_mul_m_RF_LR_L2.pkl   \n",
       "0  modelo_6390_mul_m_RF_LR_L1.pkl   \n",
       "\n",
       "                                              params               shape  \\\n",
       "0  {'selector__max_features': 500, 'selector__est...  X_test:(87, 18875)   \n",
       "0  {'selector__max_features': 1000, 'selector__es...  X_test:(87, 18875)   \n",
       "0  {'selector__max_features': 1000, 'selector__es...  X_test:(87, 18875)   \n",
       "\n",
       "                                            features  roc_auc_ovr  \\\n",
       "0  ['ENSG00000000938.13', 'ENSG00000005381.9', 'E...     0.817936   \n",
       "0  ['ENSG00000000938.13', 'ENSG00000004799.8', 'E...     0.846037   \n",
       "0  ['ENSG00000000938.13', 'ENSG00000004799.8', 'E...     0.830559   \n",
       "\n",
       "                                         indices_auc  \\\n",
       "0  [0.6073943661971831, 0.8731481481481482, 0.818...   \n",
       "0  [0.7411971830985915, 0.8944444444444445, 0.706...   \n",
       "0  [0.7068661971830986, 0.8925925925925926, 0.690...   \n",
       "\n",
       "                                     indices_jaccard  \n",
       "0  [0.0, 0.45, 0.21052631578947367, 0.23076923076...  \n",
       "0  [0.20833333333333334, 0.5294117647058824, 0.22...  \n",
       "0  [0.19047619047619047, 0.625, 0.142857142857142...  "
      ]
     },
     "metadata": {},
     "output_type": "display_data"
    }
   ],
   "source": [
    "if M_TIPO.startswith(\"bin\"):\n",
    "    myfunc.save_metricas_to_csv(random_search, X_test, y_test, M_TIPO, M_SELECT, M_CLASIF, total_time, SEMILLA, myfunc.MET_DIR, M_FICHERO, fichero_modelo)\n",
    "else:\n",
    "    myfunc.save_metricas_multi_to_csv(random_search, X_test, y_test, M_TIPO, M_SELECT, M_CLASIF, total_time, SEMILLA, myfunc.MET_DIR, M_FICHERO, fichero_modelo)\n",
    "\n",
    "df1=myfunc.read_metricas_to_df(myfunc.MET_DIR,M_FICHERO)\n",
    "\n",
    "display(df1.sort_values(\"datetime\", ascending=False)[:3])\n"
   ]
  },
  {
   "cell_type": "markdown",
   "id": "01c0fb6b",
   "metadata": {
    "papermill": {
     "duration": 0.004453,
     "end_time": "2023-10-30T16:43:35.802653",
     "exception": false,
     "start_time": "2023-10-30T16:43:35.798200",
     "status": "completed"
    },
    "tags": []
   },
   "source": [
    "#### Guardar resultados"
   ]
  },
  {
   "cell_type": "code",
   "execution_count": 13,
   "id": "bf2c1d2a",
   "metadata": {
    "execution": {
     "iopub.execute_input": "2023-10-30T16:43:35.812254Z",
     "iopub.status.busy": "2023-10-30T16:43:35.812049Z",
     "iopub.status.idle": "2023-10-30T16:43:35.820691Z",
     "shell.execute_reply": "2023-10-30T16:43:35.820217Z"
    },
    "papermill": {
     "duration": 0.014886,
     "end_time": "2023-10-30T16:43:35.821938",
     "exception": false,
     "start_time": "2023-10-30T16:43:35.807052",
     "status": "completed"
    },
    "tags": []
   },
   "outputs": [
    {
     "name": "stdout",
     "output_type": "stream",
     "text": [
      "20231030T174335 : amilcar22 : INFO : Inicio guardar resultados\n",
      "20231030T174335 : amilcar22 : INFO : Inicio guardar fichero ../tfm_git/ejecuciones/metricas/resultados_6390_mul_m-RF-RF.csv\n",
      "20231030T174335 : amilcar22 : INFO : Fin guardar fichero ../tfm_git/ejecuciones/metricas/resultados_6390_mul_m-RF-RF.csv\n",
      "20231030T174335 : amilcar22 : INFO : Fin guardar resultados\n"
     ]
    }
   ],
   "source": [
    "fichero_resultados=R_FICHERO+\"_\"+M_TIPO+\"-\"+M_SELECT+\"-\"+M_CLASIF+\".csv\"\n",
    "myfunc.save_resultados_to_csv(M_TIPO, M_SELECT, M_CLASIF,  random_search, myfunc.MET_DIR, fichero_resultados)\n"
   ]
  }
 ],
 "metadata": {
  "kernelspec": {
   "display_name": "Python 3 (ipykernel)",
   "language": "python",
   "name": "python3"
  },
  "language_info": {
   "codemirror_mode": {
    "name": "ipython",
    "version": 3
   },
   "file_extension": ".py",
   "mimetype": "text/x-python",
   "name": "python",
   "nbconvert_exporter": "python",
   "pygments_lexer": "ipython3",
   "version": "3.10.12"
  },
  "papermill": {
   "default_parameters": {},
   "duration": 31.484474,
   "end_time": "2023-10-30T16:43:38.443629",
   "environment_variables": {},
   "exception": null,
   "input_path": "03_entrenamiento.ipynb",
   "output_path": "ejecuciones/training/03_entrenamiento.20231030T174306.param_0000_6390_mul_m_RF_RF.output.ipynb",
   "parameters": {
    "MAX_ITERS": 500,
    "M_CLASIF": "RF",
    "M_FICHERO": "metricas_6390",
    "M_SELECT": "RF",
    "M_TIPO": "mul_m",
    "PRE_DATA_FILE": "rows_transpose_norm_by_gene_id_with_target_num_",
    "P_FICHERO": "param_0000_6390_mul_m_RF_RF.yaml",
    "R_FICHERO": "resultados_6390",
    "SCORING": "roc_auc_ovr",
    "SEMILLA": 6390,
    "eval_clasifier": "RandomForestClassifier(random_state=SEMILLA)",
    "eval_selector": "SelectFromModel(estimator=RandomForestClassifier(random_state=SEMILLA), threshold=-np.inf)",
    "param_distributions": {
     "clasifier__bootstrap": [
      true
     ],
     "clasifier__max_depth": [
      20
     ],
     "clasifier__max_features": [
      200
     ],
     "clasifier__min_samples_leaf": [
      5
     ],
     "clasifier__min_samples_split": [
      10
     ],
     "clasifier__n_estimators": [
      400
     ],
     "selector__estimator__n_estimators": [
      200
     ],
     "selector__max_features": [
      500
     ]
    }
   },
   "start_time": "2023-10-30T16:43:06.959155",
   "version": "2.4.0"
  }
 },
 "nbformat": 4,
 "nbformat_minor": 5
}