{
 "cells": [
  {
   "cell_type": "markdown",
   "id": "97834017",
   "metadata": {
    "papermill": {
     "duration": 0.005286,
     "end_time": "2023-10-30T07:01:24.570532",
     "exception": false,
     "start_time": "2023-10-30T07:01:24.565246",
     "status": "completed"
    },
    "tags": []
   },
   "source": [
    "##### Inicio"
   ]
  },
  {
   "cell_type": "markdown",
   "id": "b2eee3c5",
   "metadata": {
    "papermill": {
     "duration": 0.003346,
     "end_time": "2023-10-30T07:01:24.577543",
     "exception": false,
     "start_time": "2023-10-30T07:01:24.574197",
     "status": "completed"
    },
    "tags": []
   },
   "source": [
    "#### Carga de datos"
   ]
  },
  {
   "cell_type": "code",
   "execution_count": 1,
   "id": "cd7d8990",
   "metadata": {
    "execution": {
     "iopub.execute_input": "2023-10-30T07:01:24.585489Z",
     "iopub.status.busy": "2023-10-30T07:01:24.585091Z",
     "iopub.status.idle": "2023-10-30T07:01:25.721364Z",
     "shell.execute_reply": "2023-10-30T07:01:25.720721Z"
    },
    "papermill": {
     "duration": 1.141853,
     "end_time": "2023-10-30T07:01:25.722804",
     "exception": false,
     "start_time": "2023-10-30T07:01:24.580951",
     "status": "completed"
    },
    "tags": []
   },
   "outputs": [
    {
     "name": "stdout",
     "output_type": "stream",
     "text": [
      "CPU_COUNT: 16; NODE: enderlab; sys.version: 3.10.11 (main, May 16 2023, 00:28:57) [GCC 11.2.0]\n",
      "LOKY_MAX_CPU_COUNT is not set.\n",
      "OMP_NUM_THREADS is not set.\n"
     ]
    }
   ],
   "source": [
    "import os\n",
    "import numpy as np\n",
    "import pandas as pd\n",
    "import datetime\n",
    "import sklearn\n",
    "import logging\n",
    "import warnings\n",
    "\n",
    "from sklearn.pipeline import Pipeline\n",
    "from sklearn.model_selection import RandomizedSearchCV, KFold, cross_val_score, train_test_split\n",
    "from sklearn.metrics import accuracy_score, confusion_matrix, classification_report, roc_auc_score\n",
    "\n",
    "#  cargar algoritmos para aprendizaje supervisado\n",
    "from sklearn.feature_selection import SelectKBest, f_classif, SelectFromModel, mutual_info_classif\n",
    "from sklearn.svm import SVC\n",
    "from sklearn.ensemble import RandomForestClassifier\n",
    "from sklearn.linear_model import LogisticRegression,LogisticRegressionCV\n",
    "\n",
    "# importar fichero con utilidades propias\n",
    "from commons import myfunctions as myfunc\n"
   ]
  },
  {
   "cell_type": "markdown",
   "id": "31f4a6ef",
   "metadata": {
    "papermill": {
     "duration": 0.003518,
     "end_time": "2023-10-30T07:01:25.730338",
     "exception": false,
     "start_time": "2023-10-30T07:01:25.726820",
     "status": "completed"
    },
    "tags": []
   },
   "source": [
    "#### Parámetros a utilizar en el entrenamiento.\n",
    "\n",
    "Se indican los 3 algoritmos de *selección de características* (eval_selector_xxx) y los 3 algoritmos para la _clasificación_ (eval_clasifier_xxx)\n",
    "\n",
    "En *param_distributions* se indicar los parámetros que utilizan los algoritmos en la función RandomSearchCV.\n",
    "\n",
    "Esta celda tiene la etiqueta **parameters** que servirá para poder lanzar los entrenamientos con la utilidad **papermill** pasándole un fichero con los parámetros. Los nuevos parámetros se situarán tras esta celda para tener prevalencia."
   ]
  },
  {
   "cell_type": "code",
   "execution_count": 2,
   "id": "0692936f",
   "metadata": {
    "execution": {
     "iopub.execute_input": "2023-10-30T07:01:25.738796Z",
     "iopub.status.busy": "2023-10-30T07:01:25.738273Z",
     "iopub.status.idle": "2023-10-30T07:01:25.746837Z",
     "shell.execute_reply": "2023-10-30T07:01:25.746295Z"
    },
    "papermill": {
     "duration": 0.014217,
     "end_time": "2023-10-30T07:01:25.748045",
     "exception": false,
     "start_time": "2023-10-30T07:01:25.733828",
     "status": "completed"
    },
    "tags": [
     "parameters"
    ]
   },
   "outputs": [
    {
     "name": "stdout",
     "output_type": "stream",
     "text": [
      "20231030T080125 : enderlab : INFO : Utilizando parámetros de mul_m\n"
     ]
    }
   ],
   "source": [
    "#  Parametros para el entrenamiento\n",
    "\n",
    "SEMILLA=        42\n",
    "M_TIPO=         \"mul_m\"\n",
    "M_SELECT=       \"MI\"\n",
    "M_CLASIF=       \"SVM\"\n",
    "R_FICHERO=      \"resultados\"\n",
    "M_FICHERO=      \"metricas\"\n",
    "PRE_DATA_FILE=  \"rows_transpose_norm_by_gene_id_with_target_num_\"\n",
    "SCORING=        \"roc_auc_ovr\" \n",
    "MAX_ITERS=      100\n",
    "\n",
    "def mutual_info_classif_state(X, y):\n",
    "    return mutual_info_classif(X, y, random_state=SEMILLA)\n",
    "\n",
    "eval_selector_mi = \"SelectKBest(score_func=mutual_info_classif_state)\"\n",
    "eval_selector_rf=  \"SelectFromModel(estimator=RandomForestClassifier(random_state=SEMILLA), threshold=-np.inf)\"\n",
    "eval_selector_anova=  \"SelectKBest(score_func=f_classif)\"\n",
    "\n",
    "eval_clasifier_svm= \"SVC(probability=True, random_state=SEMILLA)\"\n",
    "eval_clasifier_rf= \"RandomForestClassifier(random_state=SEMILLA)\"\n",
    "eval_clasifier_lr= \"LogisticRegressionCV(random_state=SEMILLA)\"\n",
    "\n",
    "if M_TIPO.startswith(\"bin_m\"):\n",
    "    myfunc.verbose(f\"Utilizando parámetros de {M_TIPO}\")\n",
    "    eval_selector = eval_selector_mi\n",
    "    eval_clasifier = eval_clasifier_svm\n",
    "\n",
    "    SEMILLA = 6578\n",
    "    M_SELECT = \"MI\"\n",
    "    M_CLASIF = \"SVM\"\n",
    "    param_distributions = {'selector__k': [1000], \n",
    "         'clasifier__kernel': ['rbf'], 'clasifier__gamma': [0.01], 'clasifier__C': [100]}\n",
    "elif M_TIPO.startswith(\"bin_s\"):\n",
    "    myfunc.verbose(f\"Utilizando parámetros de {M_TIPO}\")\n",
    "    eval_selector = eval_selector_rf\n",
    "    eval_clasifier = eval_clasifier_lr\n",
    "\n",
    "    SEMILLA = 6191\n",
    "    M_SELECT = \"RF\"\n",
    "    M_CLASIF = \"LR_L2\"\n",
    "    param_distributions = {'selector__max_features': [1000], 'selector__estimator__n_estimators': [200], \n",
    "        'clasifier__solver': ['lbfgs'], 'clasifier__penalty': ['l2'], 'clasifier__max_iter': [10000]}\n",
    "\n",
    "elif M_TIPO.startswith(\"mul_m\"):\n",
    "    myfunc.verbose(f\"Utilizando parámetros de {M_TIPO}\")\n",
    " \n",
    "    eval_selector = eval_selector_rf\n",
    "    eval_clasifier = eval_clasifier_lr\n",
    "\n",
    "    SEMILLA = 6191\n",
    "    M_SELECT = \"RF\"\n",
    "    M_CLASIF = \"LR_L2\"\n",
    "    param_distributions = {'selector__max_features': [1000], 'selector__estimator__n_estimators': [400], \n",
    "        'clasifier__solver': ['lbfgs'], 'clasifier__penalty': ['l2'], 'clasifier__max_iter': [10000]}\n",
    "\n",
    "else:\n",
    "    # M_TIPO.startswith(\"mul_s\"):\n",
    "    myfunc.verbose(f\"Utilizando parámetros de {M_TIPO}\")\n",
    "    eval_selector = eval_selector_anova\n",
    "    eval_clasifier = eval_clasifier_lr\n",
    "\n",
    "    SEMILLA = 1860\n",
    "    M_SELECT = \"ANOVA\"\n",
    "    M_CLASIF = \"LR_L2\"\n",
    "    param_distributions = {'selector__k': [1000], \n",
    "        'clasifier__solver': ['saga'], 'clasifier__penalty': ['l2'], 'clasifier__max_iter': [10000]}\n",
    "\n"
   ]
  },
  {
   "cell_type": "code",
   "execution_count": 3,
   "id": "4d137f2e",
   "metadata": {
    "execution": {
     "iopub.execute_input": "2023-10-30T07:01:25.756086Z",
     "iopub.status.busy": "2023-10-30T07:01:25.755621Z",
     "iopub.status.idle": "2023-10-30T07:01:25.759439Z",
     "shell.execute_reply": "2023-10-30T07:01:25.758922Z"
    },
    "papermill": {
     "duration": 0.009114,
     "end_time": "2023-10-30T07:01:25.760622",
     "exception": false,
     "start_time": "2023-10-30T07:01:25.751508",
     "status": "completed"
    },
    "tags": [
     "injected-parameters"
    ]
   },
   "outputs": [],
   "source": [
    "# Parameters\n",
    "M_TIPO = \"mul_s\"\n",
    "M_SELECT = \"MI\"\n",
    "M_CLASIF = \"LR_L1\"\n",
    "P_FICHERO = \"param_0000_9322_mul_s_MI_LR_L1.yaml\"\n",
    "R_FICHERO = \"resultados_9322\"\n",
    "M_FICHERO = \"metricas_9322\"\n",
    "PRE_DATA_FILE = \"rows_transpose_norm_by_gene_id_with_target_num_\"\n",
    "SCORING = \"roc_auc_ovr\"\n",
    "SEMILLA = 9322\n",
    "MAX_ITERS = 500\n",
    "eval_selector = \"SelectKBest(score_func=mutual_info_classif_state)\"\n",
    "eval_clasifier = \"LogisticRegressionCV(random_state=SEMILLA)\"\n",
    "param_distributions = {\n",
    "    \"selector__k\": [500],\n",
    "    \"clasifier__solver\": [\"saga\"],\n",
    "    \"clasifier__penalty\": [\"l1\"],\n",
    "    \"clasifier__max_iter\": [10000],\n",
    "}\n"
   ]
  },
  {
   "cell_type": "code",
   "execution_count": 4,
   "id": "e1c338c1",
   "metadata": {
    "execution": {
     "iopub.execute_input": "2023-10-30T07:01:25.768785Z",
     "iopub.status.busy": "2023-10-30T07:01:25.768266Z",
     "iopub.status.idle": "2023-10-30T07:01:25.771556Z",
     "shell.execute_reply": "2023-10-30T07:01:25.771028Z"
    },
    "papermill": {
     "duration": 0.008677,
     "end_time": "2023-10-30T07:01:25.772756",
     "exception": false,
     "start_time": "2023-10-30T07:01:25.764079",
     "status": "completed"
    },
    "tags": []
   },
   "outputs": [],
   "source": [
    "DATA_FILE = PRE_DATA_FILE + M_TIPO\n",
    "\n",
    "# si viene \"None\" en el parámetro max_depth, se le quitan las comillas para que no sea entendido por el algoritmo como un texto\n",
    "if \"clasifier__max_depth\" in param_distributions:\n",
    "    param_distributions['clasifier__max_depth'] = [None if x == 'None' else x for x in param_distributions['clasifier__max_depth']]"
   ]
  },
  {
   "cell_type": "markdown",
   "id": "f6645e75",
   "metadata": {
    "papermill": {
     "duration": 0.003687,
     "end_time": "2023-10-30T07:01:25.779942",
     "exception": false,
     "start_time": "2023-10-30T07:01:25.776255",
     "status": "completed"
    },
    "tags": []
   },
   "source": [
    "Asignar los algoritmos que se utilizarán en la función RandomSearchCV"
   ]
  },
  {
   "cell_type": "code",
   "execution_count": 5,
   "id": "14a3edb2",
   "metadata": {
    "execution": {
     "iopub.execute_input": "2023-10-30T07:01:25.788046Z",
     "iopub.status.busy": "2023-10-30T07:01:25.787615Z",
     "iopub.status.idle": "2023-10-30T07:01:25.790642Z",
     "shell.execute_reply": "2023-10-30T07:01:25.790062Z"
    },
    "papermill": {
     "duration": 0.008352,
     "end_time": "2023-10-30T07:01:25.791873",
     "exception": false,
     "start_time": "2023-10-30T07:01:25.783521",
     "status": "completed"
    },
    "tags": []
   },
   "outputs": [],
   "source": [
    "algor_selector=eval(eval_selector)\n",
    "algor_clasifier=eval(eval_clasifier)"
   ]
  },
  {
   "cell_type": "markdown",
   "id": "d10044e3",
   "metadata": {
    "papermill": {
     "duration": 0.003627,
     "end_time": "2023-10-30T07:01:25.799052",
     "exception": false,
     "start_time": "2023-10-30T07:01:25.795425",
     "status": "completed"
    },
    "tags": []
   },
   "source": [
    "#### Comprobar el entorno y leer fichero de muestras"
   ]
  },
  {
   "cell_type": "code",
   "execution_count": 6,
   "id": "65368317",
   "metadata": {
    "execution": {
     "iopub.execute_input": "2023-10-30T07:01:25.807277Z",
     "iopub.status.busy": "2023-10-30T07:01:25.806837Z",
     "iopub.status.idle": "2023-10-30T07:01:25.979561Z",
     "shell.execute_reply": "2023-10-30T07:01:25.978984Z"
    },
    "papermill": {
     "duration": 0.178222,
     "end_time": "2023-10-30T07:01:25.980835",
     "exception": false,
     "start_time": "2023-10-30T07:01:25.802613",
     "status": "completed"
    },
    "tags": []
   },
   "outputs": [
    {
     "name": "stdout",
     "output_type": "stream",
     "text": [
      "20231030T080125 : enderlab : INFO : Encontrada carpeta DATA_DIR=../tfm_git/datos\n",
      "20231030T080125 : enderlab : INFO : Encontrada carpeta CFDNA_DIR=../tfm_git/datos/cfDNA_5hmC\n",
      "20231030T080125 : enderlab : INFO : Encontrada carpeta GENCODE_DIR=../tfm_git/datos/gencode\n",
      "20231030T080125 : enderlab : INFO : Encontrada carpeta H5_DIR=../tfm_git/datos/h5\n",
      "20231030T080125 : enderlab : INFO : Encontrada carpeta LOG_DIR=../tfm_git/datos/logs\n",
      "20231030T080125 : enderlab : INFO : Encontrada carpeta CSV_DIR=../tfm_git/datos/csv\n",
      "20231030T080125 : enderlab : INFO : Encontrada carpeta MODEL_DIR=../tfm_git/ejecuciones/modelos\n",
      "20231030T080125 : enderlab : INFO : Encontrada carpeta EXEC_DIR=../tfm_git/ejecuciones\n",
      "20231030T080125 : enderlab : INFO : Encontrada carpeta MET_DIR=../tfm_git/ejecuciones/metricas\n",
      "20231030T080125 : enderlab : INFO : Inicio leer fichero h5 ../tfm_git/datos/h5/rows_transpose_norm_by_gene_id_with_target_num_mul_s.h5\n",
      "20231030T080125 : enderlab : INFO : Leyendo clave /df\n"
     ]
    },
    {
     "name": "stdout",
     "output_type": "stream",
     "text": [
      "20231030T080125 : enderlab : INFO : Tamaño (259, 18876)\n",
      "20231030T080125 : enderlab : INFO : Fin leer fichero h5 ../tfm_git/datos/h5/rows_transpose_norm_by_gene_id_with_target_num_mul_s.h5\n"
     ]
    },
    {
     "data": {
      "text/plain": [
       "target\n",
       "0    37\n",
       "1    37\n",
       "2    37\n",
       "3    37\n",
       "4    37\n",
       "5    37\n",
       "6    37\n",
       "dtype: int64"
      ]
     },
     "metadata": {},
     "output_type": "display_data"
    },
    {
     "name": "stdout",
     "output_type": "stream",
     "text": [
      "Shape df: (259, 18876)\n"
     ]
    },
    {
     "name": "stdout",
     "output_type": "stream",
     "text": [
      "Shape X_train: (207, 18875)\n",
      "Shape X_test: (52, 18875)\n"
     ]
    }
   ],
   "source": [
    "start_time = datetime.datetime.now()\n",
    "\n",
    "myfunc.reset_vars()\n",
    "\n",
    "myfunc.NOTEBK_FILENAME = myfunc.get_nb_name()\n",
    "\n",
    "myfunc.check_enviroment(myfunc.DATA_DIR, myfunc.CFDNA_DIR, myfunc.GENCODE_DIR, myfunc.H5_DIR, myfunc.LOG_DIR, myfunc.CSV_DIR, myfunc.MODEL_DIR, myfunc.EXEC_DIR, myfunc.MET_DIR)\n",
    "\n",
    "# Leer fichero con las muestras\n",
    "df_t = myfunc.read_h5_to_df(DATA_FILE, myfunc.H5_DIR)\n",
    "display(df_t.groupby(\"target\").size())\n",
    "print(\"Shape df:\",df_t.shape)\n",
    "\n",
    "# Separar caracteristicas/genes de las etiquetas/tipos de cáncer\n",
    "X = df_t.iloc[:, :-1]  # Todas las columnas excepto la última\n",
    "y = df_t.iloc[:, -1]  # La última columna contiene los identificadores de los tipos de cáncer\n",
    "\n",
    "#  Crear el conjunto de datos de entrenamiento y de pruebas, y se fija la semilla para siempre coger el mismo juego de muestras\n",
    "X_train, X_test, y_train, y_test = train_test_split(X, y, test_size=0.2, shuffle=True, random_state=42)\n",
    "print(\"Shape X_train:\",X_train.shape)\n",
    "print(\"Shape X_test:\",X_test.shape)\n"
   ]
  },
  {
   "cell_type": "markdown",
   "id": "6b6ee7f0",
   "metadata": {
    "papermill": {
     "duration": 0.003992,
     "end_time": "2023-10-30T07:01:25.989094",
     "exception": false,
     "start_time": "2023-10-30T07:01:25.985102",
     "status": "completed"
    },
    "tags": []
   },
   "source": [
    "#### Selección de características y clasificación."
   ]
  },
  {
   "cell_type": "code",
   "execution_count": 7,
   "id": "f594c6b8",
   "metadata": {
    "execution": {
     "iopub.execute_input": "2023-10-30T07:01:25.998527Z",
     "iopub.status.busy": "2023-10-30T07:01:25.998046Z",
     "iopub.status.idle": "2023-10-30T07:12:27.385998Z",
     "shell.execute_reply": "2023-10-30T07:12:27.385130Z"
    },
    "papermill": {
     "duration": 661.399335,
     "end_time": "2023-10-30T07:12:27.392307",
     "exception": false,
     "start_time": "2023-10-30T07:01:25.992972",
     "status": "completed"
    },
    "tags": []
   },
   "outputs": [
    {
     "name": "stdout",
     "output_type": "stream",
     "text": [
      "20231030T080126 : enderlab : INFO : Iniciando entrenamiento\n",
      "num_iter: 1 , max_iter: 1\n"
     ]
    },
    {
     "name": "stdout",
     "output_type": "stream",
     "text": [
      "Fitting 5 folds for each of 1 candidates, totalling 5 fits\n"
     ]
    },
    {
     "name": "stdout",
     "output_type": "stream",
     "text": [
      "[CV 4/5] END clasifier__max_iter=10000, clasifier__penalty=l1, clasifier__solver=saga, selector__k=500;, score=0.790 total time= 4.1min\n"
     ]
    },
    {
     "name": "stdout",
     "output_type": "stream",
     "text": [
      "[CV 3/5] END clasifier__max_iter=10000, clasifier__penalty=l1, clasifier__solver=saga, selector__k=500;, score=0.827 total time= 4.5min\n"
     ]
    },
    {
     "name": "stdout",
     "output_type": "stream",
     "text": [
      "[CV 1/5] END clasifier__max_iter=10000, clasifier__penalty=l1, clasifier__solver=saga, selector__k=500;, score=0.707 total time= 4.7min\n"
     ]
    },
    {
     "name": "stdout",
     "output_type": "stream",
     "text": [
      "[CV 2/5] END clasifier__max_iter=10000, clasifier__penalty=l1, clasifier__solver=saga, selector__k=500;, score=0.734 total time= 5.0min\n"
     ]
    },
    {
     "name": "stdout",
     "output_type": "stream",
     "text": [
      "[CV 5/5] END clasifier__max_iter=10000, clasifier__penalty=l1, clasifier__solver=saga, selector__k=500;, score=0.766 total time= 5.3min\n"
     ]
    },
    {
     "name": "stdout",
     "output_type": "stream",
     "text": [
      "Mejores Hiperparámetros: {'selector__k': 500, 'clasifier__solver': 'saga', 'clasifier__penalty': 'l1', 'clasifier__max_iter': 10000}\n",
      "Mejor Puntuación: 0.7650\n",
      "20231030T081227 : enderlab : INFO : Fin entrenamiento\n"
     ]
    }
   ],
   "source": [
    "myfunc.verbose(\"Iniciando entrenamiento\")\n",
    "\n",
    "kf = KFold(n_splits=5, shuffle=True, random_state=SEMILLA)\n",
    "\n",
    "# Crear el pipeline para el flujo de tareas\n",
    "tasks_pipeline = Pipeline([\n",
    "    ('selector', algor_selector),\n",
    "    ('clasifier', algor_clasifier)\n",
    "])\n",
    "\n",
    "# MAX_ITERS puede limitar el número de iteraciones si son excesivas para las combinaciones de parámetros buscando un óptimo local, \n",
    "# sino funcionaría como GridSearchCV al revisar todas las cominaciones de los parámetros\n",
    "num_iteraciones = 1\n",
    "num_iteraciones = num_iteraciones * np.prod([len(elemento1) for _, elemento1 in param_distributions.items()])\n",
    "max_iteraciones = num_iteraciones if num_iteraciones <= MAX_ITERS else MAX_ITERS\n",
    "print(\"num_iter:\",num_iteraciones,\", max_iter:\",max_iteraciones)\n",
    "\n",
    "random_search = RandomizedSearchCV(\n",
    "    tasks_pipeline, \n",
    "    param_distributions, \n",
    "    n_iter=max_iteraciones,\n",
    "    scoring=SCORING,\n",
    "    cv=kf,\n",
    "    verbose=3, \n",
    "    random_state=SEMILLA, \n",
    "    n_jobs=-1\n",
    "    )\n",
    "\n",
    "# Entrenar el modelo\n",
    "random_search.fit(X_train, y_train)\n",
    "\n",
    "# Ver los mejores hiperparámetros encontrados\n",
    "print(f'Mejores Hiperparámetros: {random_search.best_params_}')\n",
    "print(f'Mejor Puntuación: {random_search.best_score_:.4f}')\n",
    "\n",
    "# Nos quedamos con el mejor modelo para ver las métricas\n",
    "mejor_modelo = random_search.best_estimator_\n",
    "\n",
    "myfunc.verbose(\"Fin entrenamiento\")"
   ]
  },
  {
   "cell_type": "markdown",
   "id": "046be4fe",
   "metadata": {
    "papermill": {
     "duration": 0.004402,
     "end_time": "2023-10-30T07:12:27.401459",
     "exception": false,
     "start_time": "2023-10-30T07:12:27.397057",
     "status": "completed"
    },
    "tags": []
   },
   "source": [
    "#### Guardar modelo"
   ]
  },
  {
   "cell_type": "code",
   "execution_count": 8,
   "id": "10eca1e2",
   "metadata": {
    "execution": {
     "iopub.execute_input": "2023-10-30T07:12:27.411625Z",
     "iopub.status.busy": "2023-10-30T07:12:27.411255Z",
     "iopub.status.idle": "2023-10-30T07:12:27.423169Z",
     "shell.execute_reply": "2023-10-30T07:12:27.422608Z"
    },
    "papermill": {
     "duration": 0.018579,
     "end_time": "2023-10-30T07:12:27.424405",
     "exception": false,
     "start_time": "2023-10-30T07:12:27.405826",
     "status": "completed"
    },
    "tags": []
   },
   "outputs": [
    {
     "name": "stdout",
     "output_type": "stream",
     "text": [
      "20231030T081227 : enderlab : INFO : Inicio guardar fichero ../tfm_git/ejecuciones/modelos/modelo_9322_mul_s_MI_LR_L1.pkl\n",
      "20231030T081227 : enderlab : INFO : Fin guardar fichero ../tfm_git/ejecuciones/modelos/modelo_9322_mul_s_MI_LR_L1.pkl\n"
     ]
    }
   ],
   "source": [
    "fichero_modelo = str.replace(\"modelo_\"+str(SEMILLA).zfill(4)+\"_\"+M_TIPO+\"_\"+M_SELECT+\"_\"+M_CLASIF+\".pkl\", \" \", \"_\")\n",
    "\n",
    "myfunc.save_modelo(mejor_modelo, myfunc.MODEL_DIR, fichero_modelo)"
   ]
  },
  {
   "cell_type": "markdown",
   "id": "08b3ae41",
   "metadata": {
    "papermill": {
     "duration": 0.004458,
     "end_time": "2023-10-30T07:12:27.433286",
     "exception": false,
     "start_time": "2023-10-30T07:12:27.428828",
     "status": "completed"
    },
    "tags": []
   },
   "source": [
    "#### Ver resultados del las iteraciones hechas por RandomSearchCV"
   ]
  },
  {
   "cell_type": "code",
   "execution_count": 9,
   "id": "2f17733b",
   "metadata": {
    "execution": {
     "iopub.execute_input": "2023-10-30T07:12:27.443880Z",
     "iopub.status.busy": "2023-10-30T07:12:27.443378Z",
     "iopub.status.idle": "2023-10-30T07:12:27.451537Z",
     "shell.execute_reply": "2023-10-30T07:12:27.450978Z"
    },
    "papermill": {
     "duration": 0.015402,
     "end_time": "2023-10-30T07:12:27.453039",
     "exception": false,
     "start_time": "2023-10-30T07:12:27.437637",
     "status": "completed"
    },
    "tags": []
   },
   "outputs": [
    {
     "name": "stdout",
     "output_type": "stream",
     "text": [
      "20231030T081227 : enderlab : INFO : Inicio ver resultados\n",
      "Mejores Hiperparámetros: {'selector__k': 500, 'clasifier__solver': 'saga', 'clasifier__penalty': 'l1', 'clasifier__max_iter': 10000}\n",
      "Mejores puntuaciones: 0.7650 | Params: {'selector__k': 500, 'clasifier__solver': 'saga', 'clasifier__penalty': 'l1', 'clasifier__max_iter': 10000}\n",
      "Media de las puntuaciones: 0.7650 | Params: {'selector__k': 500, 'clasifier__solver': 'saga', 'clasifier__penalty': 'l1', 'clasifier__max_iter': 10000}\n",
      "20231030T081227 : enderlab : INFO : Fin resultados\n"
     ]
    }
   ],
   "source": [
    "myfunc.ver_resultados_search(random_search)"
   ]
  },
  {
   "cell_type": "markdown",
   "id": "fa581d5e",
   "metadata": {
    "papermill": {
     "duration": 0.004475,
     "end_time": "2023-10-30T07:12:27.462395",
     "exception": false,
     "start_time": "2023-10-30T07:12:27.457920",
     "status": "completed"
    },
    "tags": []
   },
   "source": [
    "#### Ver métricas del mejor modelo"
   ]
  },
  {
   "cell_type": "code",
   "execution_count": 10,
   "id": "0048f461",
   "metadata": {
    "execution": {
     "iopub.execute_input": "2023-10-30T07:12:27.472408Z",
     "iopub.status.busy": "2023-10-30T07:12:27.472016Z",
     "iopub.status.idle": "2023-10-30T07:12:28.186457Z",
     "shell.execute_reply": "2023-10-30T07:12:28.185809Z"
    },
    "papermill": {
     "duration": 0.720882,
     "end_time": "2023-10-30T07:12:28.187763",
     "exception": false,
     "start_time": "2023-10-30T07:12:27.466881",
     "status": "completed"
    },
    "tags": []
   },
   "outputs": [
    {
     "name": "stdout",
     "output_type": "stream",
     "text": [
      "20231030T081227 : enderlab : INFO : Inicio ver métricas multiclase\n"
     ]
    },
    {
     "name": "stdout",
     "output_type": "stream",
     "text": [
      "              precision    recall  f1-score   support\n",
      "\n",
      "           0       0.50      0.36      0.42        11\n",
      "           1       0.75      0.38      0.50         8\n",
      "           2       0.12      0.12      0.12         8\n",
      "           3       0.33      0.60      0.43         5\n",
      "           4       0.58      0.88      0.70         8\n",
      "           5       0.67      0.33      0.44         6\n",
      "           6       0.38      0.50      0.43         6\n",
      "\n",
      "    accuracy                           0.44        52\n",
      "   macro avg       0.48      0.45      0.44        52\n",
      "weighted avg       0.48      0.44      0.43        52\n",
      "\n",
      "\n",
      "\n",
      "           Exactitud: 0.442308\n",
      "   Precisión (media): 0.476190\n",
      "      Recall (media): 0.453139\n",
      "    F1-score (media): 0.435377\n",
      "\n",
      "\n",
      "AUC para el tipo de cáncer 0-Control.... 0.5698\n",
      "AUC para el tipo de cáncer 1-Bladder.... 0.8864\n",
      "AUC para el tipo de cáncer 2-Breast..... 0.7102\n",
      "AUC para el tipo de cáncer 3-Colorectal. 0.8298\n"
     ]
    },
    {
     "name": "stdout",
     "output_type": "stream",
     "text": [
      "AUC para el tipo de cáncer 4-Kidney..... 0.9261\n",
      "AUC para el tipo de cáncer 5-Lung....... 0.9457\n",
      "AUC para el tipo de cáncer 6-Prostate... 0.8514\n",
      "\n",
      "Media de AUC: 0.8171\n"
     ]
    },
    {
     "data": {
      "image/png": "[encoded data removed]",
      "text/plain": [
       "<Figure size 1000x600 with 1 Axes>"
      ]
     },
     "metadata": {},
     "output_type": "display_data"
    },
    {
     "name": "stdout",
     "output_type": "stream",
     "text": [
      "\n",
      "\n"
     ]
    },
    {
     "data": {
      "image/png": "[encoded data removed]",
      "text/plain": [
       "<Figure size 800x400 with 2 Axes>"
      ]
     },
     "metadata": {},
     "output_type": "display_data"
    },
    {
     "name": "stdout",
     "output_type": "stream",
     "text": [
      "\n",
      "\n",
      "Puntuación Jaccard para el cáncer tipo 0-Control.... 0.2667\n",
      "Puntuación Jaccard para el cáncer tipo 1-Bladder.... 0.3333\n",
      "Puntuación Jaccard para el cáncer tipo 2-Breast..... 0.0667\n",
      "Puntuación Jaccard para el cáncer tipo 3-Colorectal. 0.2727\n",
      "Puntuación Jaccard para el cáncer tipo 4-Kidney..... 0.5385\n",
      "Puntuación Jaccard para el cáncer tipo 5-Lung....... 0.2857\n",
      "Puntuación Jaccard para el cáncer tipo 6-Prostate... 0.2727\n",
      "\n",
      "Media de la puntuación de Jaccard: 0.2909\n"
     ]
    }
   ],
   "source": [
    "if M_TIPO.startswith(\"bin\"):\n",
    "    myfunc.ver_metricas(mejor_modelo, X_test, y_test)\n",
    "else:\n",
    "    myfunc.ver_metricas_multi(mejor_modelo, X_test, y_test)\n"
   ]
  },
  {
   "cell_type": "markdown",
   "id": "06fbd1b0",
   "metadata": {
    "papermill": {
     "duration": 0.006131,
     "end_time": "2023-10-30T07:12:28.200771",
     "exception": false,
     "start_time": "2023-10-30T07:12:28.194640",
     "status": "completed"
    },
    "tags": []
   },
   "source": [
    "#### Finalización del notebook"
   ]
  },
  {
   "cell_type": "code",
   "execution_count": 11,
   "id": "449df1cc",
   "metadata": {
    "execution": {
     "iopub.execute_input": "2023-10-30T07:12:28.214254Z",
     "iopub.status.busy": "2023-10-30T07:12:28.213572Z",
     "iopub.status.idle": "2023-10-30T07:12:28.218567Z",
     "shell.execute_reply": "2023-10-30T07:12:28.217992Z"
    },
    "papermill": {
     "duration": 0.013081,
     "end_time": "2023-10-30T07:12:28.219824",
     "exception": false,
     "start_time": "2023-10-30T07:12:28.206743",
     "status": "completed"
    },
    "tags": []
   },
   "outputs": [
    {
     "name": "stdout",
     "output_type": "stream",
     "text": [
      "20231030T081228 : enderlab : INFO : Notebook ha tardado 662 seconds\n"
     ]
    }
   ],
   "source": [
    "end_time = datetime.datetime.now()\n",
    "total_time = end_time - start_time\n",
    "myfunc.verbose(f\"Notebook ha tardado {total_time.seconds} seconds\")"
   ]
  },
  {
   "cell_type": "markdown",
   "id": "1a82dbe6",
   "metadata": {
    "papermill": {
     "duration": 0.006015,
     "end_time": "2023-10-30T07:12:28.231936",
     "exception": false,
     "start_time": "2023-10-30T07:12:28.225921",
     "status": "completed"
    },
    "tags": []
   },
   "source": [
    "#### Guardar métricas"
   ]
  },
  {
   "cell_type": "code",
   "execution_count": 12,
   "id": "ba8fa46d",
   "metadata": {
    "execution": {
     "iopub.execute_input": "2023-10-30T07:12:28.245254Z",
     "iopub.status.busy": "2023-10-30T07:12:28.244722Z",
     "iopub.status.idle": "2023-10-30T07:12:28.488464Z",
     "shell.execute_reply": "2023-10-30T07:12:28.487879Z"
    },
    "papermill": {
     "duration": 0.251756,
     "end_time": "2023-10-30T07:12:28.489717",
     "exception": false,
     "start_time": "2023-10-30T07:12:28.237961",
     "status": "completed"
    },
    "tags": []
   },
   "outputs": [
    {
     "name": "stdout",
     "output_type": "stream",
     "text": [
      "20231030T081228 : enderlab : INFO : Inicio guardar métricas multiclase\n",
      "20231030T081228 : enderlab : INFO : Inicio leer fichero ../tfm_git/ejecuciones/metricas/metricas_9322.csv\n",
      "20231030T081228 : enderlab : INFO : Fin leer fichero ../tfm_git/ejecuciones/metricas/metricas_9322.csv\n"
     ]
    },
    {
     "name": "stdout",
     "output_type": "stream",
     "text": [
      "20231030T081228 : enderlab : INFO : Inicio guardar fichero ../tfm_git/ejecuciones/metricas/metricas_9322.csv\n",
      "20231030T081228 : enderlab : INFO : Fichero borrado ../tfm_git/ejecuciones/metricas/metricas_9322.csv\n"
     ]
    },
    {
     "name": "stdout",
     "output_type": "stream",
     "text": [
      "20231030T081228 : enderlab : INFO : Fin guardar fichero ../tfm_git/ejecuciones/metricas/metricas_9322.csv\n",
      "20231030T081228 : enderlab : INFO : Fin guardar métricas multiclase\n",
      "20231030T081228 : enderlab : INFO : Inicio leer fichero ../tfm_git/ejecuciones/metricas/metricas_9322.csv\n",
      "20231030T081228 : enderlab : INFO : Fin leer fichero ../tfm_git/ejecuciones/metricas/metricas_9322.csv\n"
     ]
    },
    {
     "data": {
      "text/html": [
       "<div>\n",
       "<style scoped>\n",
       "    .dataframe tbody tr th:only-of-type {\n",
       "        vertical-align: middle;\n",
       "    }\n",
       "\n",
       "    .dataframe tbody tr th {\n",
       "        vertical-align: top;\n",
       "    }\n",
       "\n",
       "    .dataframe thead th {\n",
       "        text-align: right;\n",
       "    }\n",
       "</style>\n",
       "<table border=\"1\" class=\"dataframe\">\n",
       "  <thead>\n",
       "    <tr style=\"text-align: right;\">\n",
       "      <th></th>\n",
       "      <th>tipo</th>\n",
       "      <th>select</th>\n",
       "      <th>clasific</th>\n",
       "      <th>semilla</th>\n",
       "      <th>accuracy</th>\n",
       "      <th>precision</th>\n",
       "      <th>recall</th>\n",
       "      <th>f1_score</th>\n",
       "      <th>roc_auc</th>\n",
       "      <th>hostname</th>\n",
       "      <th>total_time_sec</th>\n",
       "      <th>datetime</th>\n",
       "      <th>fichero_modelo</th>\n",
       "      <th>params</th>\n",
       "      <th>shape</th>\n",
       "      <th>features</th>\n",
       "      <th>roc_auc_ovr</th>\n",
       "      <th>indices_auc</th>\n",
       "      <th>indices_jaccard</th>\n",
       "    </tr>\n",
       "  </thead>\n",
       "  <tbody>\n",
       "    <tr>\n",
       "      <th>0</th>\n",
       "      <td>mul_s</td>\n",
       "      <td>MI</td>\n",
       "      <td>LR_L1</td>\n",
       "      <td>9322</td>\n",
       "      <td>0.442308</td>\n",
       "      <td>0.476190</td>\n",
       "      <td>0.453139</td>\n",
       "      <td>0.435377</td>\n",
       "      <td>NaN</td>\n",
       "      <td>enderlab</td>\n",
       "      <td>662</td>\n",
       "      <td>2023-10-30 08:12:28.435005</td>\n",
       "      <td>modelo_9322_mul_s_MI_LR_L1.pkl</td>\n",
       "      <td>{'selector__k': 500, 'clasifier__solver': 'sag...</td>\n",
       "      <td>X_test:(52, 18875)</td>\n",
       "      <td>['ENSG00000003137.9', 'ENSG00000005513.10', 'E...</td>\n",
       "      <td>0.817066</td>\n",
       "      <td>[0.5698447893569845, 0.8863636363636365, 0.710...</td>\n",
       "      <td>[0.26666666666666666, 0.3333333333333333, 0.06...</td>\n",
       "    </tr>\n",
       "    <tr>\n",
       "      <th>0</th>\n",
       "      <td>mul_s</td>\n",
       "      <td>MI</td>\n",
       "      <td>LR_EN</td>\n",
       "      <td>9322</td>\n",
       "      <td>0.557692</td>\n",
       "      <td>0.556494</td>\n",
       "      <td>0.556494</td>\n",
       "      <td>0.533153</td>\n",
       "      <td>NaN</td>\n",
       "      <td>enderlab</td>\n",
       "      <td>1077</td>\n",
       "      <td>2023-10-30 08:01:19.024782</td>\n",
       "      <td>modelo_9322_mul_s_MI_LR_EN.pkl</td>\n",
       "      <td>{'selector__k': 1000, 'clasifier__solver': 'sa...</td>\n",
       "      <td>X_test:(52, 18875)</td>\n",
       "      <td>['ENSG00000003137.9', 'ENSG00000005513.10', 'E...</td>\n",
       "      <td>0.834715</td>\n",
       "      <td>[0.6784922394678493, 0.9005681818181819, 0.732...</td>\n",
       "      <td>[0.375, 0.625, 0.1, 0.3, 0.6666666666666666, 0...</td>\n",
       "    </tr>\n",
       "    <tr>\n",
       "      <th>0</th>\n",
       "      <td>mul_s</td>\n",
       "      <td>ANOVA</td>\n",
       "      <td>SVM</td>\n",
       "      <td>9322</td>\n",
       "      <td>0.365385</td>\n",
       "      <td>0.363152</td>\n",
       "      <td>0.374892</td>\n",
       "      <td>0.331833</td>\n",
       "      <td>NaN</td>\n",
       "      <td>enderlab</td>\n",
       "      <td>2</td>\n",
       "      <td>2023-10-30 07:43:14.095969</td>\n",
       "      <td>modelo_9322_mul_s_ANOVA_SVM.pkl</td>\n",
       "      <td>{'selector__k': 200, 'clasifier__kernel': 'rbf...</td>\n",
       "      <td>X_test:(52, 18875)</td>\n",
       "      <td>['ENSG00000000938.13', 'ENSG00000005381.9', 'E...</td>\n",
       "      <td>0.763634</td>\n",
       "      <td>[0.43458980044345896, 0.8210227272727272, 0.67...</td>\n",
       "      <td>[0.08333333333333333, 0.5, 0.0, 0.071428571428...</td>\n",
       "    </tr>\n",
       "  </tbody>\n",
       "</table>\n",
       "</div>"
      ],
      "text/plain": [
       "    tipo select clasific  semilla  accuracy  precision    recall  f1_score  \\\n",
       "0  mul_s     MI    LR_L1     9322  0.442308   0.476190  0.453139  0.435377   \n",
       "0  mul_s     MI    LR_EN     9322  0.557692   0.556494  0.556494  0.533153   \n",
       "0  mul_s  ANOVA      SVM     9322  0.365385   0.363152  0.374892  0.331833   \n",
       "\n",
       "   roc_auc  hostname  total_time_sec                    datetime  \\\n",
       "0      NaN  enderlab             662  2023-10-30 08:12:28.435005   \n",
       "0      NaN  enderlab            1077  2023-10-30 08:01:19.024782   \n",
       "0      NaN  enderlab               2  2023-10-30 07:43:14.095969   \n",
       "\n",
       "                    fichero_modelo  \\\n",
       "0   modelo_9322_mul_s_MI_LR_L1.pkl   \n",
       "0   modelo_9322_mul_s_MI_LR_EN.pkl   \n",
       "0  modelo_9322_mul_s_ANOVA_SVM.pkl   \n",
       "\n",
       "                                              params               shape  \\\n",
       "0  {'selector__k': 500, 'clasifier__solver': 'sag...  X_test:(52, 18875)   \n",
       "0  {'selector__k': 1000, 'clasifier__solver': 'sa...  X_test:(52, 18875)   \n",
       "0  {'selector__k': 200, 'clasifier__kernel': 'rbf...  X_test:(52, 18875)   \n",
       "\n",
       "                                            features  roc_auc_ovr  \\\n",
       "0  ['ENSG00000003137.9', 'ENSG00000005513.10', 'E...     0.817066   \n",
       "0  ['ENSG00000003137.9', 'ENSG00000005513.10', 'E...     0.834715   \n",
       "0  ['ENSG00000000938.13', 'ENSG00000005381.9', 'E...     0.763634   \n",
       "\n",
       "                                         indices_auc  \\\n",
       "0  [0.5698447893569845, 0.8863636363636365, 0.710...   \n",
       "0  [0.6784922394678493, 0.9005681818181819, 0.732...   \n",
       "0  [0.43458980044345896, 0.8210227272727272, 0.67...   \n",
       "\n",
       "                                     indices_jaccard  \n",
       "0  [0.26666666666666666, 0.3333333333333333, 0.06...  \n",
       "0  [0.375, 0.625, 0.1, 0.3, 0.6666666666666666, 0...  \n",
       "0  [0.08333333333333333, 0.5, 0.0, 0.071428571428...  "
      ]
     },
     "metadata": {},
     "output_type": "display_data"
    }
   ],
   "source": [
    "if M_TIPO.startswith(\"bin\"):\n",
    "    myfunc.save_metricas_to_csv(random_search, X_test, y_test, M_TIPO, M_SELECT, M_CLASIF, total_time, SEMILLA, myfunc.MET_DIR, M_FICHERO, fichero_modelo)\n",
    "else:\n",
    "    myfunc.save_metricas_multi_to_csv(random_search, X_test, y_test, M_TIPO, M_SELECT, M_CLASIF, total_time, SEMILLA, myfunc.MET_DIR, M_FICHERO, fichero_modelo)\n",
    "\n",
    "df1=myfunc.read_metricas_to_df(myfunc.MET_DIR,M_FICHERO)\n",
    "\n",
    "display(df1.sort_values(\"datetime\", ascending=False)[:3])\n"
   ]
  },
  {
   "cell_type": "markdown",
   "id": "85cc9c0b",
   "metadata": {
    "papermill": {
     "duration": 0.006594,
     "end_time": "2023-10-30T07:12:28.504396",
     "exception": false,
     "start_time": "2023-10-30T07:12:28.497802",
     "status": "completed"
    },
    "tags": []
   },
   "source": [
    "#### Guardar resultados"
   ]
  },
  {
   "cell_type": "code",
   "execution_count": 13,
   "id": "f5f44512",
   "metadata": {
    "execution": {
     "iopub.execute_input": "2023-10-30T07:12:28.518777Z",
     "iopub.status.busy": "2023-10-30T07:12:28.518144Z",
     "iopub.status.idle": "2023-10-30T07:12:28.527453Z",
     "shell.execute_reply": "2023-10-30T07:12:28.526899Z"
    },
    "papermill": {
     "duration": 0.017798,
     "end_time": "2023-10-30T07:12:28.528729",
     "exception": false,
     "start_time": "2023-10-30T07:12:28.510931",
     "status": "completed"
    },
    "tags": []
   },
   "outputs": [
    {
     "name": "stdout",
     "output_type": "stream",
     "text": [
      "20231030T081228 : enderlab : INFO : Inicio guardar resultados\n",
      "20231030T081228 : enderlab : INFO : Inicio guardar fichero ../tfm_git/ejecuciones/metricas/resultados_9322_mul_s-MI-LR_L1.csv\n",
      "20231030T081228 : enderlab : INFO : Fin guardar fichero ../tfm_git/ejecuciones/metricas/resultados_9322_mul_s-MI-LR_L1.csv\n",
      "20231030T081228 : enderlab : INFO : Fin guardar resultados\n"
     ]
    }
   ],
   "source": [
    "fichero_resultados=R_FICHERO+\"_\"+M_TIPO+\"-\"+M_SELECT+\"-\"+M_CLASIF+\".csv\"\n",
    "myfunc.save_resultados_to_csv(M_TIPO, M_SELECT, M_CLASIF,  random_search, myfunc.MET_DIR, fichero_resultados)\n"
   ]
  }
 ],
 "metadata": {
  "kernelspec": {
   "display_name": "Python 3 (ipykernel)",
   "language": "python",
   "name": "python3"
  },
  "language_info": {
   "codemirror_mode": {
    "name": "ipython",
    "version": 3
   },
   "file_extension": ".py",
   "mimetype": "text/x-python",
   "name": "python",
   "nbconvert_exporter": "python",
   "pygments_lexer": "ipython3",
   "version": "3.10.11"
  },
  "papermill": {
   "default_parameters": {},
   "duration": 667.769445,
   "end_time": "2023-10-30T07:12:31.153005",
   "environment_variables": {},
   "exception": null,
   "input_path": "03_entrenamiento.ipynb",
   "output_path": "ejecuciones/training/03_entrenamiento.20231030T080122.param_0000_9322_mul_s_MI_LR_L1.output.ipynb",
   "parameters": {
    "MAX_ITERS": 500,
    "M_CLASIF": "LR_L1",
    "M_FICHERO": "metricas_9322",
    "M_SELECT": "MI",
    "M_TIPO": "mul_s",
    "PRE_DATA_FILE": "rows_transpose_norm_by_gene_id_with_target_num_",
    "P_FICHERO": "param_0000_9322_mul_s_MI_LR_L1.yaml",
    "R_FICHERO": "resultados_9322",
    "SCORING": "roc_auc_ovr",
    "SEMILLA": 9322,
    "eval_clasifier": "LogisticRegressionCV(random_state=SEMILLA)",
    "eval_selector": "SelectKBest(score_func=mutual_info_classif_state)",
    "param_distributions": {
     "clasifier__max_iter": [
      10000
     ],
     "clasifier__penalty": [
      "l1"
     ],
     "clasifier__solver": [
      "saga"
     ],
     "selector__k": [
      500
     ]
    }
   },
   "start_time": "2023-10-30T07:01:23.383560",
   "version": "2.4.0"
  }
 },
 "nbformat": 4,
 "nbformat_minor": 5
}