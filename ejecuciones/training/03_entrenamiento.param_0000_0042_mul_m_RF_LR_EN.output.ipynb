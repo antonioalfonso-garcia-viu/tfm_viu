{
 "cells": [
  {
   "cell_type": "markdown",
   "id": "f88e9847",
   "metadata": {
    "papermill": {
     "duration": 0.004387,
     "end_time": "2023-10-27T20:23:58.476937",
     "exception": false,
     "start_time": "2023-10-27T20:23:58.472550",
     "status": "completed"
    },
    "tags": []
   },
   "source": [
    "##### Inicio"
   ]
  },
  {
   "cell_type": "markdown",
   "id": "15dc50c9",
   "metadata": {
    "papermill": {
     "duration": 0.003553,
     "end_time": "2023-10-27T20:23:58.484363",
     "exception": false,
     "start_time": "2023-10-27T20:23:58.480810",
     "status": "completed"
    },
    "tags": []
   },
   "source": [
    "#### Carga de datos"
   ]
  },
  {
   "cell_type": "code",
   "execution_count": 1,
   "id": "106abb66",
   "metadata": {
    "execution": {
     "iopub.execute_input": "2023-10-27T20:23:58.493106Z",
     "iopub.status.busy": "2023-10-27T20:23:58.492616Z",
     "iopub.status.idle": "2023-10-27T20:23:59.366281Z",
     "shell.execute_reply": "2023-10-27T20:23:59.365768Z"
    },
    "papermill": {
     "duration": 0.879616,
     "end_time": "2023-10-27T20:23:59.367651",
     "exception": false,
     "start_time": "2023-10-27T20:23:58.488035",
     "status": "completed"
    },
    "tags": []
   },
   "outputs": [
    {
     "name": "stdout",
     "output_type": "stream",
     "text": [
      "CPU_COUNT: 8; NODE: amilcar22; sys.version: 3.10.12 (main, Jul  5 2023, 19:22:19) [GCC 11.2.0]\n",
      "LOKY_MAX_CPU_COUNT: 6\n",
      "OMP_NUM_THREADS: 2\n"
     ]
    }
   ],
   "source": [
    "import os\n",
    "import numpy as np\n",
    "import pandas as pd\n",
    "import datetime\n",
    "import sklearn\n",
    "import logging\n",
    "import warnings\n",
    "\n",
    "from sklearn.pipeline import Pipeline\n",
    "from sklearn.model_selection import RandomizedSearchCV, KFold, cross_val_score, train_test_split\n",
    "from sklearn.metrics import accuracy_score, confusion_matrix, classification_report, roc_auc_score\n",
    "\n",
    "#  cargar algoritmos para aprendizaje supervisado\n",
    "from sklearn.feature_selection import SelectKBest, f_classif, SelectFromModel, mutual_info_classif\n",
    "from sklearn.svm import SVC\n",
    "from sklearn.ensemble import RandomForestClassifier\n",
    "from sklearn.linear_model import LogisticRegression,LogisticRegressionCV\n",
    "\n",
    "# importar fichero con utilidades propias\n",
    "from commons import myfunctions as myfunc\n"
   ]
  },
  {
   "cell_type": "markdown",
   "id": "cd16cba5",
   "metadata": {
    "papermill": {
     "duration": 0.002639,
     "end_time": "2023-10-27T20:23:59.373361",
     "exception": false,
     "start_time": "2023-10-27T20:23:59.370722",
     "status": "completed"
    },
    "tags": []
   },
   "source": [
    "#### Parámetros a utilizar en el entrenamiento.\n",
    "\n",
    "Se indican los 3 algoritmos de *selección de características* (eval_selector_xxx) y los 3 algoritmos para la _clasificación_ (eval_clasifier_xxx)\n",
    "\n",
    "En *param_distributions* se indicar los parámetros que utilizan los algoritmos en la función RandomSearchCV.\n",
    "\n",
    "Esta celda tiene la etiqueta **parameters** que servirá para poder lanzar los entrenamientos con la utilidad **papermill** pasándole un fichero con los parámetros. Los nuevos parámetros se situarán tras esta celda para tener prevalencia."
   ]
  },
  {
   "cell_type": "code",
   "execution_count": 2,
   "id": "02f1c638",
   "metadata": {
    "execution": {
     "iopub.execute_input": "2023-10-27T20:23:59.379459Z",
     "iopub.status.busy": "2023-10-27T20:23:59.379207Z",
     "iopub.status.idle": "2023-10-27T20:23:59.385910Z",
     "shell.execute_reply": "2023-10-27T20:23:59.385336Z"
    },
    "papermill": {
     "duration": 0.011185,
     "end_time": "2023-10-27T20:23:59.387111",
     "exception": false,
     "start_time": "2023-10-27T20:23:59.375926",
     "status": "completed"
    },
    "tags": [
     "parameters"
    ]
   },
   "outputs": [
    {
     "name": "stdout",
     "output_type": "stream",
     "text": [
      "20231027T222359 : amilcar22 : INFO : Utilizando parámetros de mul_m\n"
     ]
    }
   ],
   "source": [
    "#  Parametros para el entrenamiento\n",
    "\n",
    "SEMILLA=        42\n",
    "M_TIPO=         \"mul_m\"\n",
    "M_SELECT=       \"MI\"\n",
    "M_CLASIF=       \"SVM\"\n",
    "R_FICHERO=      \"resultados\"\n",
    "M_FICHERO=      \"metricas\"\n",
    "PRE_DATA_FILE=  \"rows_transpose_norm_by_gene_id_with_target_num_\"\n",
    "SCORING=        \"roc_auc_ovr\" \n",
    "MAX_ITERS=      100\n",
    "\n",
    "def mutual_info_classif_state(X, y):\n",
    "    return mutual_info_classif(X, y, random_state=SEMILLA)\n",
    "\n",
    "eval_selector_mi = \"SelectKBest(score_func=mutual_info_classif_state)\"\n",
    "eval_selector_rf=  \"SelectFromModel(estimator=RandomForestClassifier(random_state=SEMILLA), threshold=-np.inf)\"\n",
    "eval_selector_anova=  \"SelectKBest(score_func=f_classif)\"\n",
    "\n",
    "eval_clasifier_svm= \"SVC(probability=True, random_state=SEMILLA)\"\n",
    "eval_clasifier_rf= \"RandomForestClassifier(random_state=SEMILLA)\"\n",
    "eval_clasifier_lr= \"LogisticRegressionCV(random_state=SEMILLA)\"\n",
    "\n",
    "if M_TIPO.startswith(\"bin_m\"):\n",
    "    myfunc.verbose(f\"Utilizando parámetros de {M_TIPO}\")\n",
    "    eval_selector = eval_selector_mi\n",
    "    eval_clasifier = eval_clasifier_svm\n",
    "\n",
    "    SEMILLA = 6578\n",
    "    M_SELECT = \"MI\"\n",
    "    M_CLASIF = \"SVM\"\n",
    "    param_distributions = {'selector__k': [1000], \n",
    "         'clasifier__kernel': ['rbf'], 'clasifier__gamma': [0.01], 'clasifier__C': [100]}\n",
    "elif M_TIPO.startswith(\"bin_s\"):\n",
    "    myfunc.verbose(f\"Utilizando parámetros de {M_TIPO}\")\n",
    "    eval_selector = eval_selector_rf\n",
    "    eval_clasifier = eval_clasifier_lr\n",
    "\n",
    "    SEMILLA = 6191\n",
    "    M_SELECT = \"RF\"\n",
    "    M_CLASIF = \"LR_L2\"\n",
    "    param_distributions = {'selector__max_features': [1000], 'selector__estimator__n_estimators': [200], \n",
    "        'clasifier__solver': ['lbfgs'], 'clasifier__penalty': ['l2'], 'clasifier__max_iter': [10000]}\n",
    "\n",
    "elif M_TIPO.startswith(\"mul_m\"):\n",
    "    myfunc.verbose(f\"Utilizando parámetros de {M_TIPO}\")\n",
    " \n",
    "    eval_selector = eval_selector_rf\n",
    "    eval_clasifier = eval_clasifier_lr\n",
    "\n",
    "    SEMILLA = 6191\n",
    "    M_SELECT = \"RF\"\n",
    "    M_CLASIF = \"LR_L2\"\n",
    "    param_distributions = {'selector__max_features': [1000], 'selector__estimator__n_estimators': [400], \n",
    "        'clasifier__solver': ['lbfgs'], 'clasifier__penalty': ['l2'], 'clasifier__max_iter': [10000]}\n",
    "\n",
    "else:\n",
    "    # M_TIPO.startswith(\"mul_s\"):\n",
    "    myfunc.verbose(f\"Utilizando parámetros de {M_TIPO}\")\n",
    "    eval_selector = eval_selector_anova\n",
    "    eval_clasifier = eval_clasifier_lr\n",
    "\n",
    "    SEMILLA = 1860\n",
    "    M_SELECT = \"ANOVA\"\n",
    "    M_CLASIF = \"LR_L2\"\n",
    "    param_distributions = {'selector__k': [1000], \n",
    "        'clasifier__solver': ['saga'], 'clasifier__penalty': ['l2'], 'clasifier__max_iter': [10000]}\n",
    "\n"
   ]
  },
  {
   "cell_type": "code",
   "execution_count": 3,
   "id": "4d5953ff",
   "metadata": {
    "execution": {
     "iopub.execute_input": "2023-10-27T20:23:59.393152Z",
     "iopub.status.busy": "2023-10-27T20:23:59.392980Z",
     "iopub.status.idle": "2023-10-27T20:23:59.396475Z",
     "shell.execute_reply": "2023-10-27T20:23:59.396066Z"
    },
    "papermill": {
     "duration": 0.007842,
     "end_time": "2023-10-27T20:23:59.397708",
     "exception": false,
     "start_time": "2023-10-27T20:23:59.389866",
     "status": "completed"
    },
    "tags": [
     "injected-parameters"
    ]
   },
   "outputs": [],
   "source": [
    "# Parameters\n",
    "M_TIPO = \"mul_m\"\n",
    "M_SELECT = \"RF\"\n",
    "M_CLASIF = \"LR_EN\"\n",
    "P_FICHERO = \"param_0000_0042_mul_m_RF_LR_EN.yaml\"\n",
    "R_FICHERO = \"resultados_0042\"\n",
    "M_FICHERO = \"metricas_0042\"\n",
    "PRE_DATA_FILE = \"rows_transpose_norm_by_gene_id_with_target_num_\"\n",
    "SCORING = \"roc_auc_ovr\"\n",
    "SEMILLA = 42\n",
    "MAX_ITERS = 500\n",
    "eval_selector = \"SelectFromModel(estimator=RandomForestClassifier(random_state=SEMILLA), threshold=-np.inf)\"\n",
    "eval_clasifier = \"LogisticRegressionCV(random_state=SEMILLA)\"\n",
    "param_distributions = {\n",
    "    \"selector__max_features\": [1000],\n",
    "    \"selector__estimator__n_estimators\": [400],\n",
    "    \"clasifier__solver\": [\"saga\"],\n",
    "    \"clasifier__penalty\": [\"elasticnet\"],\n",
    "    \"clasifier__max_iter\": [10000],\n",
    "    \"clasifier__l1_ratios\": [[0.1]],\n",
    "}\n"
   ]
  },
  {
   "cell_type": "code",
   "execution_count": 4,
   "id": "d304afdd",
   "metadata": {
    "execution": {
     "iopub.execute_input": "2023-10-27T20:23:59.403868Z",
     "iopub.status.busy": "2023-10-27T20:23:59.403713Z",
     "iopub.status.idle": "2023-10-27T20:23:59.406711Z",
     "shell.execute_reply": "2023-10-27T20:23:59.406232Z"
    },
    "papermill": {
     "duration": 0.007494,
     "end_time": "2023-10-27T20:23:59.407959",
     "exception": false,
     "start_time": "2023-10-27T20:23:59.400465",
     "status": "completed"
    },
    "tags": []
   },
   "outputs": [],
   "source": [
    "DATA_FILE = PRE_DATA_FILE + M_TIPO\n",
    "\n",
    "# si viene \"None\" en el parámetro max_depth, se le quitan las comillas para que no sea entendido por el algoritmo como un texto\n",
    "if \"clasifier__max_depth\" in param_distributions:\n",
    "    param_distributions['clasifier__max_depth'] = [None if x == 'None' else x for x in param_distributions['clasifier__max_depth']]"
   ]
  },
  {
   "cell_type": "markdown",
   "id": "0cdc2714",
   "metadata": {
    "papermill": {
     "duration": 0.002562,
     "end_time": "2023-10-27T20:23:59.413238",
     "exception": false,
     "start_time": "2023-10-27T20:23:59.410676",
     "status": "completed"
    },
    "tags": []
   },
   "source": [
    "Asignar los algoritmos que se utilizarán en la función RandomSearchCV"
   ]
  },
  {
   "cell_type": "code",
   "execution_count": 5,
   "id": "d2429e3d",
   "metadata": {
    "execution": {
     "iopub.execute_input": "2023-10-27T20:23:59.419286Z",
     "iopub.status.busy": "2023-10-27T20:23:59.419097Z",
     "iopub.status.idle": "2023-10-27T20:23:59.421897Z",
     "shell.execute_reply": "2023-10-27T20:23:59.421391Z"
    },
    "papermill": {
     "duration": 0.007291,
     "end_time": "2023-10-27T20:23:59.423193",
     "exception": false,
     "start_time": "2023-10-27T20:23:59.415902",
     "status": "completed"
    },
    "tags": []
   },
   "outputs": [],
   "source": [
    "algor_selector=eval(eval_selector)\n",
    "algor_clasifier=eval(eval_clasifier)"
   ]
  },
  {
   "cell_type": "markdown",
   "id": "de1e3bc6",
   "metadata": {
    "papermill": {
     "duration": 0.003366,
     "end_time": "2023-10-27T20:23:59.429944",
     "exception": false,
     "start_time": "2023-10-27T20:23:59.426578",
     "status": "completed"
    },
    "tags": []
   },
   "source": [
    "#### Comprobar el entorno y leer fichero de muestras"
   ]
  },
  {
   "cell_type": "code",
   "execution_count": 6,
   "id": "207d712d",
   "metadata": {
    "execution": {
     "iopub.execute_input": "2023-10-27T20:23:59.437475Z",
     "iopub.status.busy": "2023-10-27T20:23:59.437283Z",
     "iopub.status.idle": "2023-10-27T20:23:59.601131Z",
     "shell.execute_reply": "2023-10-27T20:23:59.600591Z"
    },
    "papermill": {
     "duration": 0.169204,
     "end_time": "2023-10-27T20:23:59.602492",
     "exception": false,
     "start_time": "2023-10-27T20:23:59.433288",
     "status": "completed"
    },
    "tags": []
   },
   "outputs": [
    {
     "name": "stdout",
     "output_type": "stream",
     "text": [
      "20231027T222359 : amilcar22 : INFO : Encontrada carpeta DATA_DIR=../tfm_git/datos\n",
      "20231027T222359 : amilcar22 : INFO : Encontrada carpeta CFDNA_DIR=../tfm_git/datos/cfDNA_5hmC\n",
      "20231027T222359 : amilcar22 : INFO : Encontrada carpeta GENCODE_DIR=../tfm_git/datos/gencode\n",
      "20231027T222359 : amilcar22 : INFO : Encontrada carpeta H5_DIR=../tfm_git/datos/h5\n",
      "20231027T222359 : amilcar22 : INFO : Encontrada carpeta LOG_DIR=../tfm_git/datos/logs\n",
      "20231027T222359 : amilcar22 : INFO : Encontrada carpeta CSV_DIR=../tfm_git/datos/csv\n",
      "20231027T222359 : amilcar22 : INFO : Encontrada carpeta MODEL_DIR=../tfm_git/ejecuciones/modelos\n",
      "20231027T222359 : amilcar22 : INFO : Encontrada carpeta EXEC_DIR=../tfm_git/ejecuciones\n",
      "20231027T222359 : amilcar22 : INFO : Encontrada carpeta MET_DIR=../tfm_git/ejecuciones/metricas\n",
      "20231027T222359 : amilcar22 : INFO : Inicio leer fichero h5 ../tfm_git/datos/h5/rows_transpose_norm_by_gene_id_with_target_num_mul_m.h5\n",
      "20231027T222359 : amilcar22 : INFO : Leyendo clave /df\n",
      "20231027T222359 : amilcar22 : INFO : Tamaño (434, 18876)\n",
      "20231027T222359 : amilcar22 : INFO : Fin leer fichero h5 ../tfm_git/datos/h5/rows_transpose_norm_by_gene_id_with_target_num_mul_m.h5\n"
     ]
    },
    {
     "data": {
      "text/plain": [
       "target\n",
       "0    62\n",
       "1    62\n",
       "2    62\n",
       "3    62\n",
       "4    62\n",
       "5    62\n",
       "6    62\n",
       "dtype: int64"
      ]
     },
     "metadata": {},
     "output_type": "display_data"
    },
    {
     "name": "stdout",
     "output_type": "stream",
     "text": [
      "Shape df: (434, 18876)\n",
      "Shape X_train: (347, 18875)\n",
      "Shape X_test: (87, 18875)\n"
     ]
    }
   ],
   "source": [
    "start_time = datetime.datetime.now()\n",
    "\n",
    "myfunc.reset_vars()\n",
    "\n",
    "myfunc.NOTEBK_FILENAME = myfunc.get_nb_name()\n",
    "\n",
    "myfunc.check_enviroment(myfunc.DATA_DIR, myfunc.CFDNA_DIR, myfunc.GENCODE_DIR, myfunc.H5_DIR, myfunc.LOG_DIR, myfunc.CSV_DIR, myfunc.MODEL_DIR, myfunc.EXEC_DIR, myfunc.MET_DIR)\n",
    "\n",
    "# Leer fichero con las muestras\n",
    "df_t = myfunc.read_h5_to_df(DATA_FILE, myfunc.H5_DIR)\n",
    "display(df_t.groupby(\"target\").size())\n",
    "print(\"Shape df:\",df_t.shape)\n",
    "\n",
    "# Separar caracteristicas/genes de las etiquetas/tipos de cáncer\n",
    "X = df_t.iloc[:, :-1]  # Todas las columnas excepto la última\n",
    "y = df_t.iloc[:, -1]  # La última columna contiene los identificadores de los tipos de cáncer\n",
    "\n",
    "#  Crear el conjunto de datos de entrenamiento y de pruebas\n",
    "X_train, X_test, y_train, y_test = train_test_split(X, y, test_size=0.2, shuffle=True, random_state=SEMILLA)\n",
    "print(\"Shape X_train:\",X_train.shape)\n",
    "print(\"Shape X_test:\",X_test.shape)\n"
   ]
  },
  {
   "cell_type": "markdown",
   "id": "555a931a",
   "metadata": {
    "papermill": {
     "duration": 0.002822,
     "end_time": "2023-10-27T20:23:59.608666",
     "exception": false,
     "start_time": "2023-10-27T20:23:59.605844",
     "status": "completed"
    },
    "tags": []
   },
   "source": [
    "#### Selección de características y clasificación."
   ]
  },
  {
   "cell_type": "code",
   "execution_count": 7,
   "id": "c4aaec9a",
   "metadata": {
    "execution": {
     "iopub.execute_input": "2023-10-27T20:23:59.615174Z",
     "iopub.status.busy": "2023-10-27T20:23:59.614994Z",
     "iopub.status.idle": "2023-10-27T20:54:00.549459Z",
     "shell.execute_reply": "2023-10-27T20:54:00.548667Z"
    },
    "papermill": {
     "duration": 1800.942123,
     "end_time": "2023-10-27T20:54:00.553560",
     "exception": false,
     "start_time": "2023-10-27T20:23:59.611437",
     "status": "completed"
    },
    "tags": []
   },
   "outputs": [
    {
     "name": "stdout",
     "output_type": "stream",
     "text": [
      "20231027T222359 : amilcar22 : INFO : Iniciando entrenamiento\n",
      "num_iter: 1 , max_iter: 1\n",
      "Fitting 5 folds for each of 1 candidates, totalling 5 fits\n"
     ]
    },
    {
     "name": "stdout",
     "output_type": "stream",
     "text": [
      "[CV 2/5] END clasifier__l1_ratios=[0.1], clasifier__max_iter=10000, clasifier__penalty=elasticnet, clasifier__solver=saga, selector__estimator__n_estimators=400, selector__max_features=1000;, score=0.888 total time=12.4min\n"
     ]
    },
    {
     "name": "stdout",
     "output_type": "stream",
     "text": [
      "[CV 5/5] END clasifier__l1_ratios=[0.1], clasifier__max_iter=10000, clasifier__penalty=elasticnet, clasifier__solver=saga, selector__estimator__n_estimators=400, selector__max_features=1000;, score=0.891 total time=13.0min\n"
     ]
    },
    {
     "name": "stdout",
     "output_type": "stream",
     "text": [
      "[CV 3/5] END clasifier__l1_ratios=[0.1], clasifier__max_iter=10000, clasifier__penalty=elasticnet, clasifier__solver=saga, selector__estimator__n_estimators=400, selector__max_features=1000;, score=0.898 total time=13.9min\n"
     ]
    },
    {
     "name": "stdout",
     "output_type": "stream",
     "text": [
      "[CV 4/5] END clasifier__l1_ratios=[0.1], clasifier__max_iter=10000, clasifier__penalty=elasticnet, clasifier__solver=saga, selector__estimator__n_estimators=400, selector__max_features=1000;, score=0.862 total time=16.0min\n"
     ]
    },
    {
     "name": "stdout",
     "output_type": "stream",
     "text": [
      "[CV 1/5] END clasifier__l1_ratios=[0.1], clasifier__max_iter=10000, clasifier__penalty=elasticnet, clasifier__solver=saga, selector__estimator__n_estimators=400, selector__max_features=1000;, score=0.844 total time=16.1min\n"
     ]
    },
    {
     "name": "stdout",
     "output_type": "stream",
     "text": [
      "Mejores Hiperparámetros: {'selector__max_features': 1000, 'selector__estimator__n_estimators': 400, 'clasifier__solver': 'saga', 'clasifier__penalty': 'elasticnet', 'clasifier__max_iter': 10000, 'clasifier__l1_ratios': [0.1]}\n",
      "Mejor Puntuación: 0.8766\n",
      "20231027T225400 : amilcar22 : INFO : Fin entrenamiento\n"
     ]
    }
   ],
   "source": [
    "myfunc.verbose(\"Iniciando entrenamiento\")\n",
    "\n",
    "kf = KFold(n_splits=5, shuffle=True, random_state=SEMILLA)\n",
    "\n",
    "# Crear el pipeline para el flujo de tareas\n",
    "tasks_pipeline = Pipeline([\n",
    "    ('selector', algor_selector),\n",
    "    ('clasifier', algor_clasifier)\n",
    "])\n",
    "\n",
    "# MAX_ITERS puede limitar el número de iteraciones si son excesivas para las combinaciones de parámetros buscando un óptimo local, \n",
    "# sino funcionaría como GridSearchCV al revisar todas las cominaciones de los parámetros\n",
    "num_iteraciones = 1\n",
    "num_iteraciones = num_iteraciones * np.prod([len(elemento1) for _, elemento1 in param_distributions.items()])\n",
    "max_iteraciones = num_iteraciones if num_iteraciones <= MAX_ITERS else MAX_ITERS\n",
    "print(\"num_iter:\",num_iteraciones,\", max_iter:\",max_iteraciones)\n",
    "\n",
    "random_search = RandomizedSearchCV(\n",
    "    tasks_pipeline, \n",
    "    param_distributions, \n",
    "    n_iter=max_iteraciones,\n",
    "    scoring=SCORING,\n",
    "    cv=kf,\n",
    "    verbose=3, \n",
    "    random_state=SEMILLA, \n",
    "    n_jobs=-1\n",
    "    )\n",
    "\n",
    "# Entrenar el modelo\n",
    "random_search.fit(X_train, y_train)\n",
    "\n",
    "# Ver los mejores hiperparámetros encontrados\n",
    "print(f'Mejores Hiperparámetros: {random_search.best_params_}')\n",
    "print(f'Mejor Puntuación: {random_search.best_score_:.4f}')\n",
    "\n",
    "# Nos quedamos con el mejor modelo para ver las métricas\n",
    "mejor_modelo = random_search.best_estimator_\n",
    "\n",
    "myfunc.verbose(\"Fin entrenamiento\")"
   ]
  },
  {
   "cell_type": "markdown",
   "id": "d766d318",
   "metadata": {
    "papermill": {
     "duration": 0.00297,
     "end_time": "2023-10-27T20:54:00.559670",
     "exception": false,
     "start_time": "2023-10-27T20:54:00.556700",
     "status": "completed"
    },
    "tags": []
   },
   "source": [
    "#### Guardar modelo"
   ]
  },
  {
   "cell_type": "code",
   "execution_count": 8,
   "id": "6538cc1d",
   "metadata": {
    "execution": {
     "iopub.execute_input": "2023-10-27T20:54:00.566757Z",
     "iopub.status.busy": "2023-10-27T20:54:00.566526Z",
     "iopub.status.idle": "2023-10-27T20:54:00.701292Z",
     "shell.execute_reply": "2023-10-27T20:54:00.700619Z"
    },
    "papermill": {
     "duration": 0.139867,
     "end_time": "2023-10-27T20:54:00.702530",
     "exception": false,
     "start_time": "2023-10-27T20:54:00.562663",
     "status": "completed"
    },
    "tags": []
   },
   "outputs": [
    {
     "name": "stdout",
     "output_type": "stream",
     "text": [
      "20231027T225400 : amilcar22 : INFO : Inicio guardar fichero ../tfm_git/ejecuciones/modelos/modelo_0042_mul_m_RF_LR_EN.pkl\n",
      "20231027T225400 : amilcar22 : INFO : Fin guardar fichero ../tfm_git/ejecuciones/modelos/modelo_0042_mul_m_RF_LR_EN.pkl\n"
     ]
    }
   ],
   "source": [
    "fichero_modelo = str.replace(\"modelo_\"+str(SEMILLA).zfill(4)+\"_\"+M_TIPO+\"_\"+M_SELECT+\"_\"+M_CLASIF+\".pkl\", \" \", \"_\")\n",
    "\n",
    "myfunc.save_modelo(mejor_modelo, myfunc.MODEL_DIR, fichero_modelo)"
   ]
  },
  {
   "cell_type": "markdown",
   "id": "da4c3bf3",
   "metadata": {
    "papermill": {
     "duration": 0.003059,
     "end_time": "2023-10-27T20:54:00.709087",
     "exception": false,
     "start_time": "2023-10-27T20:54:00.706028",
     "status": "completed"
    },
    "tags": []
   },
   "source": [
    "#### Ver resultados del las iteraciones hechas por RandomSearchCV"
   ]
  },
  {
   "cell_type": "code",
   "execution_count": 9,
   "id": "79a9d223",
   "metadata": {
    "execution": {
     "iopub.execute_input": "2023-10-27T20:54:00.716083Z",
     "iopub.status.busy": "2023-10-27T20:54:00.715873Z",
     "iopub.status.idle": "2023-10-27T20:54:00.722059Z",
     "shell.execute_reply": "2023-10-27T20:54:00.721618Z"
    },
    "papermill": {
     "duration": 0.011202,
     "end_time": "2023-10-27T20:54:00.723371",
     "exception": false,
     "start_time": "2023-10-27T20:54:00.712169",
     "status": "completed"
    },
    "tags": []
   },
   "outputs": [
    {
     "name": "stdout",
     "output_type": "stream",
     "text": [
      "20231027T225400 : amilcar22 : INFO : Inicio ver resultados\n",
      "Mejores Hiperparámetros: {'selector__max_features': 1000, 'selector__estimator__n_estimators': 400, 'clasifier__solver': 'saga', 'clasifier__penalty': 'elasticnet', 'clasifier__max_iter': 10000, 'clasifier__l1_ratios': [0.1]}\n",
      "Mejores puntuaciones: 0.8766 | Params: {'selector__max_features': 1000, 'selector__estimator__n_estimators': 400, 'clasifier__solver': 'saga', 'clasifier__penalty': 'elasticnet', 'clasifier__max_iter': 10000, 'clasifier__l1_ratios': [0.1]}\n",
      "Media de las puntuaciones: 0.8766 | Params: {'selector__max_features': 1000, 'selector__estimator__n_estimators': 400, 'clasifier__solver': 'saga', 'clasifier__penalty': 'elasticnet', 'clasifier__max_iter': 10000, 'clasifier__l1_ratios': [0.1]}\n",
      "20231027T225400 : amilcar22 : INFO : Fin resultados\n"
     ]
    }
   ],
   "source": [
    "myfunc.ver_resultados_search(random_search)"
   ]
  },
  {
   "cell_type": "markdown",
   "id": "03fa74b8",
   "metadata": {
    "papermill": {
     "duration": 0.003174,
     "end_time": "2023-10-27T20:54:00.729840",
     "exception": false,
     "start_time": "2023-10-27T20:54:00.726666",
     "status": "completed"
    },
    "tags": []
   },
   "source": [
    "#### Ver métricas del mejor modelo"
   ]
  },
  {
   "cell_type": "code",
   "execution_count": 10,
   "id": "cedcd6f3",
   "metadata": {
    "execution": {
     "iopub.execute_input": "2023-10-27T20:54:00.736874Z",
     "iopub.status.busy": "2023-10-27T20:54:00.736686Z",
     "iopub.status.idle": "2023-10-27T20:54:01.678460Z",
     "shell.execute_reply": "2023-10-27T20:54:01.677976Z"
    },
    "papermill": {
     "duration": 0.946819,
     "end_time": "2023-10-27T20:54:01.679777",
     "exception": false,
     "start_time": "2023-10-27T20:54:00.732958",
     "status": "completed"
    },
    "tags": []
   },
   "outputs": [
    {
     "name": "stdout",
     "output_type": "stream",
     "text": [
      "20231027T225400 : amilcar22 : INFO : Inicio ver métricas multiclase\n"
     ]
    },
    {
     "name": "stdout",
     "output_type": "stream",
     "text": [
      "              precision    recall  f1-score   support\n",
      "\n",
      "           0       0.54      0.44      0.48        16\n",
      "           1       0.71      0.67      0.69        15\n",
      "           2       0.36      0.36      0.36        11\n",
      "           3       0.25      0.60      0.35         5\n",
      "           4       0.73      0.62      0.67        13\n",
      "           5       0.70      0.78      0.74         9\n",
      "           6       0.62      0.56      0.59        18\n",
      "\n",
      "    accuracy                           0.56        87\n",
      "   macro avg       0.56      0.57      0.55        87\n",
      "weighted avg       0.59      0.56      0.57        87\n",
      "\n",
      "\n",
      "\n",
      "           Exactitud: 0.563218\n",
      "   Precisión (media): 0.559808\n",
      "      Recall (media): 0.573789\n",
      "    F1-score (media): 0.554391\n",
      "\n",
      "\n",
      "AUC para el tipo de cáncer 0-Control.... 0.7658\n",
      "AUC para el tipo de cáncer 1-Bladder.... 0.8472\n",
      "AUC para el tipo de cáncer 2-Breast..... 0.7679\n",
      "AUC para el tipo de cáncer 3-Colorectal. 0.8415\n",
      "AUC para el tipo de cáncer 4-Kidney..... 0.9054\n",
      "AUC para el tipo de cáncer 5-Lung....... 0.9744\n",
      "AUC para el tipo de cáncer 6-Prostate... 0.8768\n",
      "\n",
      "Media de AUC: 0.8541\n"
     ]
    },
    {
     "data": {
      "image/png": "[encoded data removed]",
      "text/plain": [
       "<Figure size 1000x600 with 1 Axes>"
      ]
     },
     "metadata": {},
     "output_type": "display_data"
    },
    {
     "name": "stdout",
     "output_type": "stream",
     "text": [
      "\n",
      "\n"
     ]
    },
    {
     "data": {
      "image/png": "[encoded data removed]",
      "text/plain": [
       "<Figure size 800x400 with 2 Axes>"
      ]
     },
     "metadata": {},
     "output_type": "display_data"
    },
    {
     "name": "stdout",
     "output_type": "stream",
     "text": [
      "\n",
      "\n",
      "Puntuación Jaccard para el cáncer tipo 0-Control.... 0.3182\n",
      "Puntuación Jaccard para el cáncer tipo 1-Bladder.... 0.5263\n",
      "Puntuación Jaccard para el cáncer tipo 2-Breast..... 0.2222\n",
      "Puntuación Jaccard para el cáncer tipo 3-Colorectal. 0.2143\n",
      "Puntuación Jaccard para el cáncer tipo 4-Kidney..... 0.5000\n",
      "Puntuación Jaccard para el cáncer tipo 5-Lung....... 0.5833\n",
      "Puntuación Jaccard para el cáncer tipo 6-Prostate... 0.4167\n",
      "\n",
      "Media de la puntuación de Jaccard: 0.3973\n"
     ]
    }
   ],
   "source": [
    "if M_TIPO.startswith(\"bin\"):\n",
    "    myfunc.ver_metricas(mejor_modelo, X_test, y_test)\n",
    "else:\n",
    "    myfunc.ver_metricas_multi(mejor_modelo, X_test, y_test)\n"
   ]
  },
  {
   "cell_type": "markdown",
   "id": "20c85fb9",
   "metadata": {
    "papermill": {
     "duration": 0.004184,
     "end_time": "2023-10-27T20:54:01.688747",
     "exception": false,
     "start_time": "2023-10-27T20:54:01.684563",
     "status": "completed"
    },
    "tags": []
   },
   "source": [
    "#### Finalización del notebook"
   ]
  },
  {
   "cell_type": "code",
   "execution_count": 11,
   "id": "bf1ec685",
   "metadata": {
    "execution": {
     "iopub.execute_input": "2023-10-27T20:54:01.697984Z",
     "iopub.status.busy": "2023-10-27T20:54:01.697777Z",
     "iopub.status.idle": "2023-10-27T20:54:01.701143Z",
     "shell.execute_reply": "2023-10-27T20:54:01.700637Z"
    },
    "papermill": {
     "duration": 0.009408,
     "end_time": "2023-10-27T20:54:01.702309",
     "exception": false,
     "start_time": "2023-10-27T20:54:01.692901",
     "status": "completed"
    },
    "tags": []
   },
   "outputs": [
    {
     "name": "stdout",
     "output_type": "stream",
     "text": [
      "20231027T225401 : amilcar22 : INFO : Notebook ha tardado 1802 seconds\n"
     ]
    }
   ],
   "source": [
    "end_time = datetime.datetime.now()\n",
    "total_time = end_time - start_time\n",
    "myfunc.verbose(f\"Notebook ha tardado {total_time.seconds} seconds\")"
   ]
  },
  {
   "cell_type": "markdown",
   "id": "3a0a0e51",
   "metadata": {
    "papermill": {
     "duration": 0.004188,
     "end_time": "2023-10-27T20:54:01.710834",
     "exception": false,
     "start_time": "2023-10-27T20:54:01.706646",
     "status": "completed"
    },
    "tags": []
   },
   "source": [
    "#### Guardar métricas"
   ]
  },
  {
   "cell_type": "code",
   "execution_count": 12,
   "id": "fdae5315",
   "metadata": {
    "execution": {
     "iopub.execute_input": "2023-10-27T20:54:01.720150Z",
     "iopub.status.busy": "2023-10-27T20:54:01.719955Z",
     "iopub.status.idle": "2023-10-27T20:54:02.525375Z",
     "shell.execute_reply": "2023-10-27T20:54:02.524719Z"
    },
    "papermill": {
     "duration": 0.81157,
     "end_time": "2023-10-27T20:54:02.526656",
     "exception": false,
     "start_time": "2023-10-27T20:54:01.715086",
     "status": "completed"
    },
    "tags": []
   },
   "outputs": [
    {
     "name": "stdout",
     "output_type": "stream",
     "text": [
      "20231027T225401 : amilcar22 : INFO : Inicio guardar métricas multiclase\n",
      "20231027T225401 : amilcar22 : INFO : Inicio leer fichero ../tfm_git/ejecuciones/metricas/metricas_0042.csv\n",
      "20231027T225401 : amilcar22 : INFO : Fin leer fichero ../tfm_git/ejecuciones/metricas/metricas_0042.csv\n"
     ]
    },
    {
     "name": "stdout",
     "output_type": "stream",
     "text": [
      "20231027T225402 : amilcar22 : INFO : Inicio guardar fichero ../tfm_git/ejecuciones/metricas/metricas_0042.csv\n",
      "20231027T225402 : amilcar22 : INFO : Fichero borrado ../tfm_git/ejecuciones/metricas/metricas_0042.csv\n",
      "20231027T225402 : amilcar22 : INFO : Fin guardar fichero ../tfm_git/ejecuciones/metricas/metricas_0042.csv\n",
      "20231027T225402 : amilcar22 : INFO : Fin guardar métricas multiclase\n",
      "20231027T225402 : amilcar22 : INFO : Inicio leer fichero ../tfm_git/ejecuciones/metricas/metricas_0042.csv\n",
      "20231027T225402 : amilcar22 : INFO : Fin leer fichero ../tfm_git/ejecuciones/metricas/metricas_0042.csv\n"
     ]
    },
    {
     "data": {
      "text/html": [
       "<div>\n",
       "<style scoped>\n",
       "    .dataframe tbody tr th:only-of-type {\n",
       "        vertical-align: middle;\n",
       "    }\n",
       "\n",
       "    .dataframe tbody tr th {\n",
       "        vertical-align: top;\n",
       "    }\n",
       "\n",
       "    .dataframe thead th {\n",
       "        text-align: right;\n",
       "    }\n",
       "</style>\n",
       "<table border=\"1\" class=\"dataframe\">\n",
       "  <thead>\n",
       "    <tr style=\"text-align: right;\">\n",
       "      <th></th>\n",
       "      <th>tipo</th>\n",
       "      <th>select</th>\n",
       "      <th>clasific</th>\n",
       "      <th>accuracy</th>\n",
       "      <th>precision</th>\n",
       "      <th>recall</th>\n",
       "      <th>f1_score</th>\n",
       "      <th>roc_auc</th>\n",
       "      <th>roc_auc_ovr</th>\n",
       "      <th>hostname</th>\n",
       "      <th>total_time_sec</th>\n",
       "      <th>datetime</th>\n",
       "      <th>fichero_modelo</th>\n",
       "      <th>params</th>\n",
       "      <th>shape</th>\n",
       "      <th>features</th>\n",
       "      <th>semilla</th>\n",
       "      <th>indices_auc</th>\n",
       "      <th>indices_jaccard</th>\n",
       "    </tr>\n",
       "  </thead>\n",
       "  <tbody>\n",
       "    <tr>\n",
       "      <th>0</th>\n",
       "      <td>mul_m</td>\n",
       "      <td>RF</td>\n",
       "      <td>LR_EN</td>\n",
       "      <td>0.563218</td>\n",
       "      <td>0.559808</td>\n",
       "      <td>0.573789</td>\n",
       "      <td>0.554391</td>\n",
       "      <td>NaN</td>\n",
       "      <td>0.854150</td>\n",
       "      <td>amilcar22</td>\n",
       "      <td>1802</td>\n",
       "      <td>2023-10-27 22:54:02.478467</td>\n",
       "      <td>modelo_0042_mul_m_RF_LR_EN.pkl</td>\n",
       "      <td>{'selector__max_features': 1000, 'selector__es...</td>\n",
       "      <td>X_test:(87, 18875)</td>\n",
       "      <td>['ENSG00000000938.13', 'ENSG00000003989.18', '...</td>\n",
       "      <td>42.0</td>\n",
       "      <td>[0.7658450704225352, 0.8472222222222222, 0.767...</td>\n",
       "      <td>[0.3181818181818182, 0.5263157894736842, 0.222...</td>\n",
       "    </tr>\n",
       "    <tr>\n",
       "      <th>0</th>\n",
       "      <td>mul_m</td>\n",
       "      <td>MI</td>\n",
       "      <td>SVM</td>\n",
       "      <td>0.563218</td>\n",
       "      <td>0.578811</td>\n",
       "      <td>0.598360</td>\n",
       "      <td>0.580664</td>\n",
       "      <td>NaN</td>\n",
       "      <td>0.836018</td>\n",
       "      <td>amilcar22</td>\n",
       "      <td>204</td>\n",
       "      <td>2023-10-27 22:23:53.329578</td>\n",
       "      <td>modelo_0042_mul_m_MI_SVM.pkl</td>\n",
       "      <td>{'selector__k': 1000, 'clasifier__kernel': 'rb...</td>\n",
       "      <td>X_test:(87, 18875)</td>\n",
       "      <td>['ENSG00000001084.13', 'ENSG00000001460.18', '...</td>\n",
       "      <td>42.0</td>\n",
       "      <td>[0.8125, 0.8148148148148148, 0.711722488038277...</td>\n",
       "      <td>[0.2727272727272727, 0.4444444444444444, 0.25,...</td>\n",
       "    </tr>\n",
       "    <tr>\n",
       "      <th>0</th>\n",
       "      <td>mul_m</td>\n",
       "      <td>MI</td>\n",
       "      <td>RF</td>\n",
       "      <td>0.448276</td>\n",
       "      <td>0.400874</td>\n",
       "      <td>0.477545</td>\n",
       "      <td>0.418321</td>\n",
       "      <td>NaN</td>\n",
       "      <td>0.811033</td>\n",
       "      <td>amilcar22</td>\n",
       "      <td>224</td>\n",
       "      <td>2023-10-27 22:20:22.517088</td>\n",
       "      <td>modelo_0042_mul_m_MI_RF.pkl</td>\n",
       "      <td>{'selector__k': 1000, 'clasifier__n_estimators...</td>\n",
       "      <td>X_test:(87, 18875)</td>\n",
       "      <td>['ENSG00000001084.13', 'ENSG00000001460.18', '...</td>\n",
       "      <td>42.0</td>\n",
       "      <td>[0.6487676056338029, 0.862037037037037, 0.7595...</td>\n",
       "      <td>[0.0, 0.5, 0.15789473684210525, 0.157894736842...</td>\n",
       "    </tr>\n",
       "  </tbody>\n",
       "</table>\n",
       "</div>"
      ],
      "text/plain": [
       "    tipo select clasific  accuracy  precision    recall  f1_score  roc_auc  \\\n",
       "0  mul_m     RF    LR_EN  0.563218   0.559808  0.573789  0.554391      NaN   \n",
       "0  mul_m     MI      SVM  0.563218   0.578811  0.598360  0.580664      NaN   \n",
       "0  mul_m     MI       RF  0.448276   0.400874  0.477545  0.418321      NaN   \n",
       "\n",
       "   roc_auc_ovr   hostname  total_time_sec                    datetime  \\\n",
       "0     0.854150  amilcar22            1802  2023-10-27 22:54:02.478467   \n",
       "0     0.836018  amilcar22             204  2023-10-27 22:23:53.329578   \n",
       "0     0.811033  amilcar22             224  2023-10-27 22:20:22.517088   \n",
       "\n",
       "                   fichero_modelo  \\\n",
       "0  modelo_0042_mul_m_RF_LR_EN.pkl   \n",
       "0    modelo_0042_mul_m_MI_SVM.pkl   \n",
       "0     modelo_0042_mul_m_MI_RF.pkl   \n",
       "\n",
       "                                              params               shape  \\\n",
       "0  {'selector__max_features': 1000, 'selector__es...  X_test:(87, 18875)   \n",
       "0  {'selector__k': 1000, 'clasifier__kernel': 'rb...  X_test:(87, 18875)   \n",
       "0  {'selector__k': 1000, 'clasifier__n_estimators...  X_test:(87, 18875)   \n",
       "\n",
       "                                            features  semilla  \\\n",
       "0  ['ENSG00000000938.13', 'ENSG00000003989.18', '...     42.0   \n",
       "0  ['ENSG00000001084.13', 'ENSG00000001460.18', '...     42.0   \n",
       "0  ['ENSG00000001084.13', 'ENSG00000001460.18', '...     42.0   \n",
       "\n",
       "                                         indices_auc  \\\n",
       "0  [0.7658450704225352, 0.8472222222222222, 0.767...   \n",
       "0  [0.8125, 0.8148148148148148, 0.711722488038277...   \n",
       "0  [0.6487676056338029, 0.862037037037037, 0.7595...   \n",
       "\n",
       "                                     indices_jaccard  \n",
       "0  [0.3181818181818182, 0.5263157894736842, 0.222...  \n",
       "0  [0.2727272727272727, 0.4444444444444444, 0.25,...  \n",
       "0  [0.0, 0.5, 0.15789473684210525, 0.157894736842...  "
      ]
     },
     "metadata": {},
     "output_type": "display_data"
    }
   ],
   "source": [
    "if M_TIPO.startswith(\"bin\"):\n",
    "    myfunc.save_metricas_to_csv(random_search, X_test, y_test, M_TIPO, M_SELECT, M_CLASIF, total_time, SEMILLA, myfunc.MET_DIR, M_FICHERO, fichero_modelo)\n",
    "else:\n",
    "    myfunc.save_metricas_multi_to_csv(random_search, X_test, y_test, M_TIPO, M_SELECT, M_CLASIF, total_time, SEMILLA, myfunc.MET_DIR, M_FICHERO, fichero_modelo)\n",
    "\n",
    "df1=myfunc.read_metricas_to_df(myfunc.MET_DIR,M_FICHERO)\n",
    "\n",
    "display(df1.sort_values(\"datetime\", ascending=False)[:3])\n"
   ]
  },
  {
   "cell_type": "markdown",
   "id": "afaaa5c4",
   "metadata": {
    "papermill": {
     "duration": 0.004576,
     "end_time": "2023-10-27T20:54:02.536430",
     "exception": false,
     "start_time": "2023-10-27T20:54:02.531854",
     "status": "completed"
    },
    "tags": []
   },
   "source": [
    "#### Guardar resultados"
   ]
  },
  {
   "cell_type": "code",
   "execution_count": 13,
   "id": "e53ce775",
   "metadata": {
    "execution": {
     "iopub.execute_input": "2023-10-27T20:54:02.546457Z",
     "iopub.status.busy": "2023-10-27T20:54:02.546250Z",
     "iopub.status.idle": "2023-10-27T20:54:02.555195Z",
     "shell.execute_reply": "2023-10-27T20:54:02.554633Z"
    },
    "papermill": {
     "duration": 0.015519,
     "end_time": "2023-10-27T20:54:02.556568",
     "exception": false,
     "start_time": "2023-10-27T20:54:02.541049",
     "status": "completed"
    },
    "tags": []
   },
   "outputs": [
    {
     "name": "stdout",
     "output_type": "stream",
     "text": [
      "20231027T225402 : amilcar22 : INFO : Inicio guardar resultados\n",
      "20231027T225402 : amilcar22 : INFO : Inicio guardar fichero ../tfm_git/ejecuciones/metricas/resultados_0042_mul_m-RF-LR_EN.csv\n",
      "20231027T225402 : amilcar22 : INFO : Fin guardar fichero ../tfm_git/ejecuciones/metricas/resultados_0042_mul_m-RF-LR_EN.csv\n",
      "20231027T225402 : amilcar22 : INFO : Fin guardar resultados\n"
     ]
    }
   ],
   "source": [
    "fichero_resultados=R_FICHERO+\"_\"+M_TIPO+\"-\"+M_SELECT+\"-\"+M_CLASIF+\".csv\"\n",
    "myfunc.save_resultados_to_csv(M_TIPO, M_SELECT, M_CLASIF,  random_search, myfunc.MET_DIR, fichero_resultados)\n"
   ]
  }
 ],
 "metadata": {
  "kernelspec": {
   "display_name": "Python 3 (ipykernel)",
   "language": "python",
   "name": "python3"
  },
  "language_info": {
   "codemirror_mode": {
    "name": "ipython",
    "version": 3
   },
   "file_extension": ".py",
   "mimetype": "text/x-python",
   "name": "python",
   "nbconvert_exporter": "python",
   "pygments_lexer": "ipython3",
   "version": "3.10.12"
  },
  "papermill": {
   "default_parameters": {},
   "duration": 1807.630356,
   "end_time": "2023-10-27T20:54:05.180284",
   "environment_variables": {},
   "exception": null,
   "input_path": "03_entrenamiento.ipynb",
   "output_path": "ejecuciones/training/03_entrenamiento.20231027T222357.param_0000_0042_mul_m_RF_LR_EN.output.ipynb",
   "parameters": {
    "MAX_ITERS": 500,
    "M_CLASIF": "LR_EN",
    "M_FICHERO": "metricas_0042",
    "M_SELECT": "RF",
    "M_TIPO": "mul_m",
    "PRE_DATA_FILE": "rows_transpose_norm_by_gene_id_with_target_num_",
    "P_FICHERO": "param_0000_0042_mul_m_RF_LR_EN.yaml",
    "R_FICHERO": "resultados_0042",
    "SCORING": "roc_auc_ovr",
    "SEMILLA": 42,
    "eval_clasifier": "LogisticRegressionCV(random_state=SEMILLA)",
    "eval_selector": "SelectFromModel(estimator=RandomForestClassifier(random_state=SEMILLA), threshold=-np.inf)",
    "param_distributions": {
     "clasifier__l1_ratios": [
      [
       0.1
      ]
     ],
     "clasifier__max_iter": [
      10000
     ],
     "clasifier__penalty": [
      "elasticnet"
     ],
     "clasifier__solver": [
      "saga"
     ],
     "selector__estimator__n_estimators": [
      400
     ],
     "selector__max_features": [
      1000
     ]
    }
   },
   "start_time": "2023-10-27T20:23:57.549928",
   "version": "2.4.0"
  }
 },
 "nbformat": 4,
 "nbformat_minor": 5
}