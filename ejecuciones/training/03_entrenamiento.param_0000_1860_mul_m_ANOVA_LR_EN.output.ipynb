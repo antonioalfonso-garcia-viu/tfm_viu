{
 "cells": [
  {
   "cell_type": "markdown",
   "id": "3460566c",
   "metadata": {
    "papermill": {
     "duration": 0.0,
     "end_time": "2023-10-29T20:22:37.571505",
     "exception": false,
     "start_time": "2023-10-29T20:22:37.571505",
     "status": "completed"
    },
    "tags": []
   },
   "source": [
    "##### Inicio"
   ]
  },
  {
   "cell_type": "markdown",
   "id": "983638bc",
   "metadata": {
    "papermill": {
     "duration": 0.0,
     "end_time": "2023-10-29T20:22:37.571505",
     "exception": false,
     "start_time": "2023-10-29T20:22:37.571505",
     "status": "completed"
    },
    "tags": []
   },
   "source": [
    "#### Carga de datos"
   ]
  },
  {
   "cell_type": "code",
   "execution_count": 1,
   "id": "c6886e78",
   "metadata": {
    "execution": {
     "iopub.execute_input": "2023-10-29T20:22:37.587004Z",
     "iopub.status.busy": "2023-10-29T20:22:37.587004Z",
     "iopub.status.idle": "2023-10-29T20:22:38.728423Z",
     "shell.execute_reply": "2023-10-29T20:22:38.728423Z"
    },
    "papermill": {
     "duration": 1.141419,
     "end_time": "2023-10-29T20:22:38.728423",
     "exception": false,
     "start_time": "2023-10-29T20:22:37.587004",
     "status": "completed"
    },
    "tags": []
   },
   "outputs": [
    {
     "name": "stdout",
     "output_type": "stream",
     "text": [
      "CPU_COUNT: 24; NODE: amilcar32; sys.version: 3.10.12 | packaged by Anaconda, Inc. | (main, Jul  5 2023, 19:09:20) [MSC v.1916 64 bit (AMD64)]\n",
      "LOKY_MAX_CPU_COUNT is not set.\n",
      "OMP_NUM_THREADS is not set.\n"
     ]
    }
   ],
   "source": [
    "import os\n",
    "import numpy as np\n",
    "import pandas as pd\n",
    "import datetime\n",
    "import sklearn\n",
    "import logging\n",
    "import warnings\n",
    "\n",
    "from sklearn.pipeline import Pipeline\n",
    "from sklearn.model_selection import RandomizedSearchCV, KFold, cross_val_score, train_test_split\n",
    "from sklearn.metrics import accuracy_score, confusion_matrix, classification_report, roc_auc_score\n",
    "\n",
    "#  cargar algoritmos para aprendizaje supervisado\n",
    "from sklearn.feature_selection import SelectKBest, f_classif, SelectFromModel, mutual_info_classif\n",
    "from sklearn.svm import SVC\n",
    "from sklearn.ensemble import RandomForestClassifier\n",
    "from sklearn.linear_model import LogisticRegression,LogisticRegressionCV\n",
    "\n",
    "# importar fichero con utilidades propias\n",
    "from commons import myfunctions as myfunc\n"
   ]
  },
  {
   "cell_type": "markdown",
   "id": "4a8706b2",
   "metadata": {
    "papermill": {
     "duration": 0.0,
     "end_time": "2023-10-29T20:22:38.728423",
     "exception": false,
     "start_time": "2023-10-29T20:22:38.728423",
     "status": "completed"
    },
    "tags": []
   },
   "source": [
    "#### Parámetros a utilizar en el entrenamiento.\n",
    "\n",
    "Se indican los 3 algoritmos de *selección de características* (eval_selector_xxx) y los 3 algoritmos para la _clasificación_ (eval_clasifier_xxx)\n",
    "\n",
    "En *param_distributions* se indicar los parámetros que utilizan los algoritmos en la función RandomSearchCV.\n",
    "\n",
    "Esta celda tiene la etiqueta **parameters** que servirá para poder lanzar los entrenamientos con la utilidad **papermill** pasándole un fichero con los parámetros. Los nuevos parámetros se situarán tras esta celda para tener prevalencia."
   ]
  },
  {
   "cell_type": "code",
   "execution_count": 2,
   "id": "273a8194",
   "metadata": {
    "execution": {
     "iopub.execute_input": "2023-10-29T20:22:38.728423Z",
     "iopub.status.busy": "2023-10-29T20:22:38.728423Z",
     "iopub.status.idle": "2023-10-29T20:22:38.759753Z",
     "shell.execute_reply": "2023-10-29T20:22:38.759753Z"
    },
    "papermill": {
     "duration": 0.03133,
     "end_time": "2023-10-29T20:22:38.759753",
     "exception": false,
     "start_time": "2023-10-29T20:22:38.728423",
     "status": "completed"
    },
    "tags": [
     "parameters"
    ]
   },
   "outputs": [
    {
     "name": "stdout",
     "output_type": "stream",
     "text": [
      "20231029T212238 : amilcar32 : INFO : Utilizando parámetros de mul_m\n"
     ]
    }
   ],
   "source": [
    "#  Parametros para el entrenamiento\n",
    "\n",
    "SEMILLA=        42\n",
    "M_TIPO=         \"mul_m\"\n",
    "M_SELECT=       \"MI\"\n",
    "M_CLASIF=       \"SVM\"\n",
    "R_FICHERO=      \"resultados\"\n",
    "M_FICHERO=      \"metricas\"\n",
    "PRE_DATA_FILE=  \"rows_transpose_norm_by_gene_id_with_target_num_\"\n",
    "SCORING=        \"roc_auc_ovr\" \n",
    "MAX_ITERS=      100\n",
    "\n",
    "def mutual_info_classif_state(X, y):\n",
    "    return mutual_info_classif(X, y, random_state=SEMILLA)\n",
    "\n",
    "eval_selector_mi = \"SelectKBest(score_func=mutual_info_classif_state)\"\n",
    "eval_selector_rf=  \"SelectFromModel(estimator=RandomForestClassifier(random_state=SEMILLA), threshold=-np.inf)\"\n",
    "eval_selector_anova=  \"SelectKBest(score_func=f_classif)\"\n",
    "\n",
    "eval_clasifier_svm= \"SVC(probability=True, random_state=SEMILLA)\"\n",
    "eval_clasifier_rf= \"RandomForestClassifier(random_state=SEMILLA)\"\n",
    "eval_clasifier_lr= \"LogisticRegressionCV(random_state=SEMILLA)\"\n",
    "\n",
    "if M_TIPO.startswith(\"bin_m\"):\n",
    "    myfunc.verbose(f\"Utilizando parámetros de {M_TIPO}\")\n",
    "    eval_selector = eval_selector_mi\n",
    "    eval_clasifier = eval_clasifier_svm\n",
    "\n",
    "    SEMILLA = 6578\n",
    "    M_SELECT = \"MI\"\n",
    "    M_CLASIF = \"SVM\"\n",
    "    param_distributions = {'selector__k': [1000], \n",
    "         'clasifier__kernel': ['rbf'], 'clasifier__gamma': [0.01], 'clasifier__C': [100]}\n",
    "elif M_TIPO.startswith(\"bin_s\"):\n",
    "    myfunc.verbose(f\"Utilizando parámetros de {M_TIPO}\")\n",
    "    eval_selector = eval_selector_rf\n",
    "    eval_clasifier = eval_clasifier_lr\n",
    "\n",
    "    SEMILLA = 6191\n",
    "    M_SELECT = \"RF\"\n",
    "    M_CLASIF = \"LR_L2\"\n",
    "    param_distributions = {'selector__max_features': [1000], 'selector__estimator__n_estimators': [200], \n",
    "        'clasifier__solver': ['lbfgs'], 'clasifier__penalty': ['l2'], 'clasifier__max_iter': [10000]}\n",
    "\n",
    "elif M_TIPO.startswith(\"mul_m\"):\n",
    "    myfunc.verbose(f\"Utilizando parámetros de {M_TIPO}\")\n",
    " \n",
    "    eval_selector = eval_selector_rf\n",
    "    eval_clasifier = eval_clasifier_lr\n",
    "\n",
    "    SEMILLA = 6191\n",
    "    M_SELECT = \"RF\"\n",
    "    M_CLASIF = \"LR_L2\"\n",
    "    param_distributions = {'selector__max_features': [1000], 'selector__estimator__n_estimators': [400], \n",
    "        'clasifier__solver': ['lbfgs'], 'clasifier__penalty': ['l2'], 'clasifier__max_iter': [10000]}\n",
    "\n",
    "else:\n",
    "    # M_TIPO.startswith(\"mul_s\"):\n",
    "    myfunc.verbose(f\"Utilizando parámetros de {M_TIPO}\")\n",
    "    eval_selector = eval_selector_anova\n",
    "    eval_clasifier = eval_clasifier_lr\n",
    "\n",
    "    SEMILLA = 1860\n",
    "    M_SELECT = \"ANOVA\"\n",
    "    M_CLASIF = \"LR_L2\"\n",
    "    param_distributions = {'selector__k': [1000], \n",
    "        'clasifier__solver': ['saga'], 'clasifier__penalty': ['l2'], 'clasifier__max_iter': [10000]}\n",
    "\n"
   ]
  },
  {
   "cell_type": "code",
   "execution_count": 3,
   "id": "379847e7",
   "metadata": {
    "execution": {
     "iopub.execute_input": "2023-10-29T20:22:38.759753Z",
     "iopub.status.busy": "2023-10-29T20:22:38.759753Z",
     "iopub.status.idle": "2023-10-29T20:22:38.791003Z",
     "shell.execute_reply": "2023-10-29T20:22:38.791003Z"
    },
    "papermill": {
     "duration": 0.03125,
     "end_time": "2023-10-29T20:22:38.791003",
     "exception": false,
     "start_time": "2023-10-29T20:22:38.759753",
     "status": "completed"
    },
    "tags": [
     "injected-parameters"
    ]
   },
   "outputs": [],
   "source": [
    "# Parameters\n",
    "M_TIPO = \"mul_m\"\n",
    "M_SELECT = \"ANOVA\"\n",
    "M_CLASIF = \"LR_EN\"\n",
    "P_FICHERO = \"param_0000_1860_mul_m_ANOVA_LR_EN.yaml\"\n",
    "R_FICHERO = \"resultados_1860\"\n",
    "M_FICHERO = \"metricas_1860\"\n",
    "PRE_DATA_FILE = \"rows_transpose_norm_by_gene_id_with_target_num_\"\n",
    "SCORING = \"roc_auc_ovr\"\n",
    "SEMILLA = 1860\n",
    "MAX_ITERS = 500\n",
    "eval_selector = \"SelectKBest(score_func=f_classif)\"\n",
    "eval_clasifier = \"LogisticRegressionCV(random_state=SEMILLA)\"\n",
    "param_distributions = {\n",
    "    \"selector__k\": [1000],\n",
    "    \"clasifier__solver\": [\"saga\"],\n",
    "    \"clasifier__penalty\": [\"elasticnet\"],\n",
    "    \"clasifier__max_iter\": [10000],\n",
    "    \"clasifier__l1_ratios\": [[0.1]],\n",
    "}\n"
   ]
  },
  {
   "cell_type": "code",
   "execution_count": 4,
   "id": "a1df94db",
   "metadata": {
    "execution": {
     "iopub.execute_input": "2023-10-29T20:22:38.806635Z",
     "iopub.status.busy": "2023-10-29T20:22:38.806635Z",
     "iopub.status.idle": "2023-10-29T20:22:38.822804Z",
     "shell.execute_reply": "2023-10-29T20:22:38.822804Z"
    },
    "papermill": {
     "duration": 0.031801,
     "end_time": "2023-10-29T20:22:38.822804",
     "exception": false,
     "start_time": "2023-10-29T20:22:38.791003",
     "status": "completed"
    },
    "tags": []
   },
   "outputs": [],
   "source": [
    "DATA_FILE = PRE_DATA_FILE + M_TIPO\n",
    "\n",
    "# si viene \"None\" en el parámetro max_depth, se le quitan las comillas para que no sea entendido por el algoritmo como un texto\n",
    "if \"clasifier__max_depth\" in param_distributions:\n",
    "    param_distributions['clasifier__max_depth'] = [None if x == 'None' else x for x in param_distributions['clasifier__max_depth']]"
   ]
  },
  {
   "cell_type": "markdown",
   "id": "60d3cedb",
   "metadata": {
    "papermill": {
     "duration": 0.0,
     "end_time": "2023-10-29T20:22:38.822804",
     "exception": false,
     "start_time": "2023-10-29T20:22:38.822804",
     "status": "completed"
    },
    "tags": []
   },
   "source": [
    "Asignar los algoritmos que se utilizarán en la función RandomSearchCV"
   ]
  },
  {
   "cell_type": "code",
   "execution_count": 5,
   "id": "bbb6daf7",
   "metadata": {
    "execution": {
     "iopub.execute_input": "2023-10-29T20:22:38.838524Z",
     "iopub.status.busy": "2023-10-29T20:22:38.838524Z",
     "iopub.status.idle": "2023-10-29T20:22:38.854146Z",
     "shell.execute_reply": "2023-10-29T20:22:38.854146Z"
    },
    "papermill": {
     "duration": 0.031342,
     "end_time": "2023-10-29T20:22:38.854146",
     "exception": false,
     "start_time": "2023-10-29T20:22:38.822804",
     "status": "completed"
    },
    "tags": []
   },
   "outputs": [],
   "source": [
    "algor_selector=eval(eval_selector)\n",
    "algor_clasifier=eval(eval_clasifier)"
   ]
  },
  {
   "cell_type": "markdown",
   "id": "10132bc5",
   "metadata": {
    "papermill": {
     "duration": 0.015624,
     "end_time": "2023-10-29T20:22:38.869770",
     "exception": false,
     "start_time": "2023-10-29T20:22:38.854146",
     "status": "completed"
    },
    "tags": []
   },
   "source": [
    "#### Comprobar el entorno y leer fichero de muestras"
   ]
  },
  {
   "cell_type": "code",
   "execution_count": 6,
   "id": "8fece71b",
   "metadata": {
    "execution": {
     "iopub.execute_input": "2023-10-29T20:22:38.869770Z",
     "iopub.status.busy": "2023-10-29T20:22:38.869770Z",
     "iopub.status.idle": "2023-10-29T20:22:39.057955Z",
     "shell.execute_reply": "2023-10-29T20:22:39.057955Z"
    },
    "papermill": {
     "duration": 0.188185,
     "end_time": "2023-10-29T20:22:39.057955",
     "exception": false,
     "start_time": "2023-10-29T20:22:38.869770",
     "status": "completed"
    },
    "tags": []
   },
   "outputs": [
    {
     "name": "stdout",
     "output_type": "stream",
     "text": [
      "20231029T212238 : amilcar32 : INFO : Encontrada carpeta DATA_DIR=..\\tfm_viu\\datos\n",
      "20231029T212238 : amilcar32 : INFO : Encontrada carpeta CFDNA_DIR=..\\tfm_viu\\datos\\cfDNA_5hmC\n",
      "20231029T212238 : amilcar32 : INFO : Encontrada carpeta GENCODE_DIR=..\\tfm_viu\\datos\\gencode\n",
      "20231029T212238 : amilcar32 : INFO : Encontrada carpeta H5_DIR=..\\tfm_viu\\datos\\h5\n",
      "20231029T212238 : amilcar32 : INFO : Encontrada carpeta LOG_DIR=..\\tfm_viu\\datos\\logs\n",
      "20231029T212238 : amilcar32 : INFO : Encontrada carpeta CSV_DIR=..\\tfm_viu\\datos\\csv\n",
      "20231029T212238 : amilcar32 : INFO : Encontrada carpeta MODEL_DIR=..\\tfm_viu\\ejecuciones\\modelos\n",
      "20231029T212238 : amilcar32 : INFO : Encontrada carpeta EXEC_DIR=..\\tfm_viu\\ejecuciones\n",
      "20231029T212238 : amilcar32 : INFO : Encontrada carpeta MET_DIR=..\\tfm_viu\\ejecuciones\\metricas\n",
      "20231029T212238 : amilcar32 : INFO : Inicio leer fichero h5 ..\\tfm_viu\\datos\\h5\\rows_transpose_norm_by_gene_id_with_target_num_mul_m.h5\n",
      "20231029T212238 : amilcar32 : INFO : Leyendo clave /df\n"
     ]
    },
    {
     "name": "stdout",
     "output_type": "stream",
     "text": [
      "20231029T212238 : amilcar32 : INFO : Tamaño (434, 18876)\n",
      "20231029T212238 : amilcar32 : INFO : Fin leer fichero h5 ..\\tfm_viu\\datos\\h5\\rows_transpose_norm_by_gene_id_with_target_num_mul_m.h5\n"
     ]
    },
    {
     "data": {
      "text/plain": [
       "target\n",
       "0    62\n",
       "1    62\n",
       "2    62\n",
       "3    62\n",
       "4    62\n",
       "5    62\n",
       "6    62\n",
       "dtype: int64"
      ]
     },
     "metadata": {},
     "output_type": "display_data"
    },
    {
     "name": "stdout",
     "output_type": "stream",
     "text": [
      "Shape df: (434, 18876)\n",
      "Shape X_train: (347, 18875)\n",
      "Shape X_test: (87, 18875)\n"
     ]
    }
   ],
   "source": [
    "start_time = datetime.datetime.now()\n",
    "\n",
    "myfunc.reset_vars()\n",
    "\n",
    "myfunc.NOTEBK_FILENAME = myfunc.get_nb_name()\n",
    "\n",
    "myfunc.check_enviroment(myfunc.DATA_DIR, myfunc.CFDNA_DIR, myfunc.GENCODE_DIR, myfunc.H5_DIR, myfunc.LOG_DIR, myfunc.CSV_DIR, myfunc.MODEL_DIR, myfunc.EXEC_DIR, myfunc.MET_DIR)\n",
    "\n",
    "# Leer fichero con las muestras\n",
    "df_t = myfunc.read_h5_to_df(DATA_FILE, myfunc.H5_DIR)\n",
    "display(df_t.groupby(\"target\").size())\n",
    "print(\"Shape df:\",df_t.shape)\n",
    "\n",
    "# Separar caracteristicas/genes de las etiquetas/tipos de cáncer\n",
    "X = df_t.iloc[:, :-1]  # Todas las columnas excepto la última\n",
    "y = df_t.iloc[:, -1]  # La última columna contiene los identificadores de los tipos de cáncer\n",
    "\n",
    "#  Crear el conjunto de datos de entrenamiento y de pruebas, y se fija la semilla para siempre coger el mismo juego de muestras\n",
    "X_train, X_test, y_train, y_test = train_test_split(X, y, test_size=0.2, shuffle=True, random_state=42)\n",
    "print(\"Shape X_train:\",X_train.shape)\n",
    "print(\"Shape X_test:\",X_test.shape)\n"
   ]
  },
  {
   "cell_type": "markdown",
   "id": "4a09e642",
   "metadata": {
    "papermill": {
     "duration": 0.0,
     "end_time": "2023-10-29T20:22:39.057955",
     "exception": false,
     "start_time": "2023-10-29T20:22:39.057955",
     "status": "completed"
    },
    "tags": []
   },
   "source": [
    "#### Selección de características y clasificación."
   ]
  },
  {
   "cell_type": "code",
   "execution_count": 7,
   "id": "1c53abc4",
   "metadata": {
    "execution": {
     "iopub.execute_input": "2023-10-29T20:22:39.073706Z",
     "iopub.status.busy": "2023-10-29T20:22:39.073706Z",
     "iopub.status.idle": "2023-10-29T21:02:34.600471Z",
     "shell.execute_reply": "2023-10-29T21:02:34.600471Z"
    },
    "papermill": {
     "duration": 2395.542516,
     "end_time": "2023-10-29T21:02:34.600471",
     "exception": false,
     "start_time": "2023-10-29T20:22:39.057955",
     "status": "completed"
    },
    "tags": []
   },
   "outputs": [
    {
     "name": "stdout",
     "output_type": "stream",
     "text": [
      "20231029T212239 : amilcar32 : INFO : Iniciando entrenamiento\n",
      "num_iter: 1 , max_iter: 1\n",
      "Fitting 5 folds for each of 1 candidates, totalling 5 fits\n"
     ]
    },
    {
     "name": "stderr",
     "output_type": "stream",
     "text": [
      "C:\\Users\\viu\\miniconda3\\lib\\site-packages\\sklearn\\feature_selection\\_univariate_selection.py:112: UserWarning: Features [  298  1508  1733  2010  2265  2266  2553  2803  2896  3415  4075  5803\n",
      "  6984  7416  8791  9087  9490 10475 11020 11613 11943 12249 12480 12831\n",
      " 13836 13848 13959 14015 14795 14941 15397 15515 15563 15824 16276 16313\n",
      " 16323 16339 16372 16701 16870 16905 16906 17024 17093 17231 17274 18368\n",
      " 18374 18405 18608] are constant.\n",
      "  warnings.warn(\"Features %s are constant.\" % constant_features_idx, UserWarning)\n",
      "C:\\Users\\viu\\miniconda3\\lib\\site-packages\\sklearn\\feature_selection\\_univariate_selection.py:113: RuntimeWarning: invalid value encountered in divide\n",
      "  f = msb / msw\n"
     ]
    },
    {
     "name": "stdout",
     "output_type": "stream",
     "text": [
      "Mejores Hiperparámetros: {'selector__k': 1000, 'clasifier__solver': 'saga', 'clasifier__penalty': 'elasticnet', 'clasifier__max_iter': 10000, 'clasifier__l1_ratios': [0.1]}\n",
      "Mejor Puntuación: 0.8768\n",
      "20231029T220234 : amilcar32 : INFO : Fin entrenamiento\n"
     ]
    }
   ],
   "source": [
    "myfunc.verbose(\"Iniciando entrenamiento\")\n",
    "\n",
    "kf = KFold(n_splits=5, shuffle=True, random_state=SEMILLA)\n",
    "\n",
    "# Crear el pipeline para el flujo de tareas\n",
    "tasks_pipeline = Pipeline([\n",
    "    ('selector', algor_selector),\n",
    "    ('clasifier', algor_clasifier)\n",
    "])\n",
    "\n",
    "# MAX_ITERS puede limitar el número de iteraciones si son excesivas para las combinaciones de parámetros buscando un óptimo local, \n",
    "# sino funcionaría como GridSearchCV al revisar todas las cominaciones de los parámetros\n",
    "num_iteraciones = 1\n",
    "num_iteraciones = num_iteraciones * np.prod([len(elemento1) for _, elemento1 in param_distributions.items()])\n",
    "max_iteraciones = num_iteraciones if num_iteraciones <= MAX_ITERS else MAX_ITERS\n",
    "print(\"num_iter:\",num_iteraciones,\", max_iter:\",max_iteraciones)\n",
    "\n",
    "random_search = RandomizedSearchCV(\n",
    "    tasks_pipeline, \n",
    "    param_distributions, \n",
    "    n_iter=max_iteraciones,\n",
    "    scoring=SCORING,\n",
    "    cv=kf,\n",
    "    verbose=3, \n",
    "    random_state=SEMILLA, \n",
    "    n_jobs=-1\n",
    "    )\n",
    "\n",
    "# Entrenar el modelo\n",
    "random_search.fit(X_train, y_train)\n",
    "\n",
    "# Ver los mejores hiperparámetros encontrados\n",
    "print(f'Mejores Hiperparámetros: {random_search.best_params_}')\n",
    "print(f'Mejor Puntuación: {random_search.best_score_:.4f}')\n",
    "\n",
    "# Nos quedamos con el mejor modelo para ver las métricas\n",
    "mejor_modelo = random_search.best_estimator_\n",
    "\n",
    "myfunc.verbose(\"Fin entrenamiento\")"
   ]
  },
  {
   "cell_type": "markdown",
   "id": "45b8412a",
   "metadata": {
    "papermill": {
     "duration": 0.01562,
     "end_time": "2023-10-29T21:02:34.631732",
     "exception": false,
     "start_time": "2023-10-29T21:02:34.616112",
     "status": "completed"
    },
    "tags": []
   },
   "source": [
    "#### Guardar modelo"
   ]
  },
  {
   "cell_type": "code",
   "execution_count": 8,
   "id": "207b67ce",
   "metadata": {
    "execution": {
     "iopub.execute_input": "2023-10-29T21:02:34.647351Z",
     "iopub.status.busy": "2023-10-29T21:02:34.647351Z",
     "iopub.status.idle": "2023-10-29T21:02:34.678788Z",
     "shell.execute_reply": "2023-10-29T21:02:34.678788Z"
    },
    "papermill": {
     "duration": 0.047056,
     "end_time": "2023-10-29T21:02:34.678788",
     "exception": false,
     "start_time": "2023-10-29T21:02:34.631732",
     "status": "completed"
    },
    "tags": []
   },
   "outputs": [
    {
     "name": "stdout",
     "output_type": "stream",
     "text": [
      "20231029T220234 : amilcar32 : INFO : Inicio guardar fichero ..\\tfm_viu\\ejecuciones\\modelos\\modelo_1860_mul_m_ANOVA_LR_EN.pkl\n",
      "20231029T220234 : amilcar32 : INFO : Fin guardar fichero ..\\tfm_viu\\ejecuciones\\modelos\\modelo_1860_mul_m_ANOVA_LR_EN.pkl\n"
     ]
    }
   ],
   "source": [
    "fichero_modelo = str.replace(\"modelo_\"+str(SEMILLA).zfill(4)+\"_\"+M_TIPO+\"_\"+M_SELECT+\"_\"+M_CLASIF+\".pkl\", \" \", \"_\")\n",
    "\n",
    "myfunc.save_modelo(mejor_modelo, myfunc.MODEL_DIR, fichero_modelo)"
   ]
  },
  {
   "cell_type": "markdown",
   "id": "45156848",
   "metadata": {
    "papermill": {
     "duration": 0.015623,
     "end_time": "2023-10-29T21:02:34.709860",
     "exception": false,
     "start_time": "2023-10-29T21:02:34.694237",
     "status": "completed"
    },
    "tags": []
   },
   "source": [
    "#### Ver resultados del las iteraciones hechas por RandomSearchCV"
   ]
  },
  {
   "cell_type": "code",
   "execution_count": 9,
   "id": "e93c8d12",
   "metadata": {
    "execution": {
     "iopub.execute_input": "2023-10-29T21:02:34.725491Z",
     "iopub.status.busy": "2023-10-29T21:02:34.725491Z",
     "iopub.status.idle": "2023-10-29T21:02:34.756899Z",
     "shell.execute_reply": "2023-10-29T21:02:34.756899Z"
    },
    "papermill": {
     "duration": 0.047039,
     "end_time": "2023-10-29T21:02:34.756899",
     "exception": false,
     "start_time": "2023-10-29T21:02:34.709860",
     "status": "completed"
    },
    "tags": []
   },
   "outputs": [
    {
     "name": "stdout",
     "output_type": "stream",
     "text": [
      "20231029T220234 : amilcar32 : INFO : Inicio ver resultados\n",
      "Mejores Hiperparámetros: {'selector__k': 1000, 'clasifier__solver': 'saga', 'clasifier__penalty': 'elasticnet', 'clasifier__max_iter': 10000, 'clasifier__l1_ratios': [0.1]}\n",
      "Mejores puntuaciones: 0.8768 | Params: {'selector__k': 1000, 'clasifier__solver': 'saga', 'clasifier__penalty': 'elasticnet', 'clasifier__max_iter': 10000, 'clasifier__l1_ratios': [0.1]}\n",
      "Media de las puntuaciones: 0.8768 | Params: {'selector__k': 1000, 'clasifier__solver': 'saga', 'clasifier__penalty': 'elasticnet', 'clasifier__max_iter': 10000, 'clasifier__l1_ratios': [0.1]}\n",
      "20231029T220234 : amilcar32 : INFO : Fin resultados\n"
     ]
    }
   ],
   "source": [
    "myfunc.ver_resultados_search(random_search)"
   ]
  },
  {
   "cell_type": "markdown",
   "id": "d48b026f",
   "metadata": {
    "papermill": {
     "duration": 0.01545,
     "end_time": "2023-10-29T21:02:34.772349",
     "exception": false,
     "start_time": "2023-10-29T21:02:34.756899",
     "status": "completed"
    },
    "tags": []
   },
   "source": [
    "#### Ver métricas del mejor modelo"
   ]
  },
  {
   "cell_type": "code",
   "execution_count": 10,
   "id": "67f3f699",
   "metadata": {
    "execution": {
     "iopub.execute_input": "2023-10-29T21:02:34.787973Z",
     "iopub.status.busy": "2023-10-29T21:02:34.787973Z",
     "iopub.status.idle": "2023-10-29T21:02:36.163125Z",
     "shell.execute_reply": "2023-10-29T21:02:36.163125Z"
    },
    "papermill": {
     "duration": 1.390776,
     "end_time": "2023-10-29T21:02:36.163125",
     "exception": false,
     "start_time": "2023-10-29T21:02:34.772349",
     "status": "completed"
    },
    "tags": []
   },
   "outputs": [
    {
     "name": "stdout",
     "output_type": "stream",
     "text": [
      "20231029T220234 : amilcar32 : INFO : Inicio ver métricas multiclase\n"
     ]
    },
    {
     "name": "stdout",
     "output_type": "stream",
     "text": [
      "              precision    recall  f1-score   support\n",
      "\n",
      "           0       0.64      0.44      0.52        16\n",
      "           1       0.82      0.60      0.69        15\n",
      "           2       0.42      0.45      0.43        11\n",
      "           3       0.40      0.80      0.53         5\n",
      "           4       0.56      0.69      0.62        13\n",
      "           5       0.89      0.89      0.89         9\n",
      "           6       0.67      0.67      0.67        18\n",
      "\n",
      "    accuracy                           0.62        87\n",
      "   macro avg       0.63      0.65      0.62        87\n",
      "weighted avg       0.65      0.62      0.62        87\n",
      "\n",
      "\n",
      "\n",
      "           Exactitud: 0.620690\n",
      "   Precisión (media): 0.627038\n",
      "      Recall (media): 0.648558\n",
      "    F1-score (media): 0.622170\n",
      "\n",
      "\n",
      "AUC para el tipo de cáncer 0-Control.... 0.7588\n",
      "AUC para el tipo de cáncer 1-Bladder.... 0.8741\n",
      "AUC para el tipo de cáncer 2-Breast..... 0.7919\n",
      "AUC para el tipo de cáncer 3-Colorectal. 0.9927\n",
      "AUC para el tipo de cáncer 4-Kidney..... 0.8877\n",
      "AUC para el tipo de cáncer 5-Lung....... 0.9701\n",
      "AUC para el tipo de cáncer 6-Prostate... 0.8188\n",
      "\n",
      "Media de AUC: 0.8706\n"
     ]
    },
    {
     "data": {
      "image/png": "[encoded data removed]",
      "text/plain": [
       "<Figure size 1000x600 with 1 Axes>"
      ]
     },
     "metadata": {},
     "output_type": "display_data"
    },
    {
     "name": "stdout",
     "output_type": "stream",
     "text": [
      "\n",
      "\n"
     ]
    },
    {
     "data": {
      "image/png": "[encoded data removed]",
      "text/plain": [
       "<Figure size 800x400 with 2 Axes>"
      ]
     },
     "metadata": {},
     "output_type": "display_data"
    },
    {
     "name": "stdout",
     "output_type": "stream",
     "text": [
      "\n",
      "\n",
      "Puntuación Jaccard para el cáncer tipo 0-Control.... 0.3500\n",
      "Puntuación Jaccard para el cáncer tipo 1-Bladder.... 0.5294\n",
      "Puntuación Jaccard para el cáncer tipo 2-Breast..... 0.2778\n",
      "Puntuación Jaccard para el cáncer tipo 3-Colorectal. 0.3636\n",
      "Puntuación Jaccard para el cáncer tipo 4-Kidney..... 0.4500\n",
      "Puntuación Jaccard para el cáncer tipo 5-Lung....... 0.8000\n",
      "Puntuación Jaccard para el cáncer tipo 6-Prostate... 0.5000\n",
      "\n",
      "Media de la puntuación de Jaccard: 0.4673\n"
     ]
    }
   ],
   "source": [
    "if M_TIPO.startswith(\"bin\"):\n",
    "    myfunc.ver_metricas(mejor_modelo, X_test, y_test)\n",
    "else:\n",
    "    myfunc.ver_metricas_multi(mejor_modelo, X_test, y_test)\n"
   ]
  },
  {
   "cell_type": "markdown",
   "id": "a3ce754a",
   "metadata": {
    "papermill": {
     "duration": 0.015612,
     "end_time": "2023-10-29T21:02:36.194218",
     "exception": false,
     "start_time": "2023-10-29T21:02:36.178606",
     "status": "completed"
    },
    "tags": []
   },
   "source": [
    "#### Finalización del notebook"
   ]
  },
  {
   "cell_type": "code",
   "execution_count": 11,
   "id": "5440f202",
   "metadata": {
    "execution": {
     "iopub.execute_input": "2023-10-29T21:02:36.209847Z",
     "iopub.status.busy": "2023-10-29T21:02:36.209847Z",
     "iopub.status.idle": "2023-10-29T21:02:36.225609Z",
     "shell.execute_reply": "2023-10-29T21:02:36.225609Z"
    },
    "papermill": {
     "duration": 0.031391,
     "end_time": "2023-10-29T21:02:36.225609",
     "exception": false,
     "start_time": "2023-10-29T21:02:36.194218",
     "status": "completed"
    },
    "tags": []
   },
   "outputs": [
    {
     "name": "stdout",
     "output_type": "stream",
     "text": [
      "20231029T220236 : amilcar32 : INFO : Notebook ha tardado 2397 seconds\n"
     ]
    }
   ],
   "source": [
    "end_time = datetime.datetime.now()\n",
    "total_time = end_time - start_time\n",
    "myfunc.verbose(f\"Notebook ha tardado {total_time.seconds} seconds\")"
   ]
  },
  {
   "cell_type": "markdown",
   "id": "73c4ac14",
   "metadata": {
    "papermill": {
     "duration": 0.015627,
     "end_time": "2023-10-29T21:02:36.256739",
     "exception": false,
     "start_time": "2023-10-29T21:02:36.241112",
     "status": "completed"
    },
    "tags": []
   },
   "source": [
    "#### Guardar métricas"
   ]
  },
  {
   "cell_type": "code",
   "execution_count": 12,
   "id": "07f0ac26",
   "metadata": {
    "execution": {
     "iopub.execute_input": "2023-10-29T21:02:36.287991Z",
     "iopub.status.busy": "2023-10-29T21:02:36.272363Z",
     "iopub.status.idle": "2023-10-29T21:02:36.788594Z",
     "shell.execute_reply": "2023-10-29T21:02:36.788594Z"
    },
    "papermill": {
     "duration": 0.516231,
     "end_time": "2023-10-29T21:02:36.788594",
     "exception": false,
     "start_time": "2023-10-29T21:02:36.272363",
     "status": "completed"
    },
    "tags": []
   },
   "outputs": [
    {
     "name": "stdout",
     "output_type": "stream",
     "text": [
      "20231029T220236 : amilcar32 : INFO : Inicio guardar métricas multiclase\n",
      "20231029T220236 : amilcar32 : INFO : Inicio leer fichero ..\\tfm_viu\\ejecuciones\\metricas\\metricas_1860.csv\n",
      "20231029T220236 : amilcar32 : INFO : Fin leer fichero ..\\tfm_viu\\ejecuciones\\metricas\\metricas_1860.csv\n"
     ]
    },
    {
     "name": "stdout",
     "output_type": "stream",
     "text": [
      "20231029T220236 : amilcar32 : INFO : Inicio guardar fichero ..\\tfm_viu\\ejecuciones\\metricas\\metricas_1860.csv\n",
      "20231029T220236 : amilcar32 : INFO : Fichero borrado ..\\tfm_viu\\ejecuciones\\metricas\\metricas_1860.csv\n",
      "20231029T220236 : amilcar32 : INFO : Fin guardar fichero ..\\tfm_viu\\ejecuciones\\metricas\\metricas_1860.csv\n",
      "20231029T220236 : amilcar32 : INFO : Fin guardar métricas multiclase\n",
      "20231029T220236 : amilcar32 : INFO : Inicio leer fichero ..\\tfm_viu\\ejecuciones\\metricas\\metricas_1860.csv\n",
      "20231029T220236 : amilcar32 : INFO : Fin leer fichero ..\\tfm_viu\\ejecuciones\\metricas\\metricas_1860.csv\n"
     ]
    },
    {
     "data": {
      "text/html": [
       "<div>\n",
       "<style scoped>\n",
       "    .dataframe tbody tr th:only-of-type {\n",
       "        vertical-align: middle;\n",
       "    }\n",
       "\n",
       "    .dataframe tbody tr th {\n",
       "        vertical-align: top;\n",
       "    }\n",
       "\n",
       "    .dataframe thead th {\n",
       "        text-align: right;\n",
       "    }\n",
       "</style>\n",
       "<table border=\"1\" class=\"dataframe\">\n",
       "  <thead>\n",
       "    <tr style=\"text-align: right;\">\n",
       "      <th></th>\n",
       "      <th>tipo</th>\n",
       "      <th>select</th>\n",
       "      <th>clasific</th>\n",
       "      <th>semilla</th>\n",
       "      <th>accuracy</th>\n",
       "      <th>precision</th>\n",
       "      <th>recall</th>\n",
       "      <th>f1_score</th>\n",
       "      <th>roc_auc</th>\n",
       "      <th>hostname</th>\n",
       "      <th>total_time_sec</th>\n",
       "      <th>datetime</th>\n",
       "      <th>fichero_modelo</th>\n",
       "      <th>params</th>\n",
       "      <th>shape</th>\n",
       "      <th>features</th>\n",
       "      <th>roc_auc_ovr</th>\n",
       "      <th>indices_auc</th>\n",
       "      <th>indices_jaccard</th>\n",
       "    </tr>\n",
       "  </thead>\n",
       "  <tbody>\n",
       "    <tr>\n",
       "      <th>0</th>\n",
       "      <td>mul_m</td>\n",
       "      <td>ANOVA</td>\n",
       "      <td>LR_EN</td>\n",
       "      <td>1860</td>\n",
       "      <td>0.620690</td>\n",
       "      <td>0.627038</td>\n",
       "      <td>0.648558</td>\n",
       "      <td>0.622170</td>\n",
       "      <td>NaN</td>\n",
       "      <td>amilcar32</td>\n",
       "      <td>2397</td>\n",
       "      <td>2023-10-29 22:02:36.679024</td>\n",
       "      <td>modelo_1860_mul_m_ANOVA_LR_EN.pkl</td>\n",
       "      <td>{'selector__k': 1000, 'clasifier__solver': 'sa...</td>\n",
       "      <td>X_test:(87, 18875)</td>\n",
       "      <td>['ENSG00000000938.13', 'ENSG00000002919.15', '...</td>\n",
       "      <td>0.870584</td>\n",
       "      <td>[0.7588028169014085, 0.8740740740740741, 0.791...</td>\n",
       "      <td>[0.35, 0.5294117647058824, 0.2777777777777778,...</td>\n",
       "    </tr>\n",
       "    <tr>\n",
       "      <th>0</th>\n",
       "      <td>bin_s</td>\n",
       "      <td>RF</td>\n",
       "      <td>SVM</td>\n",
       "      <td>1860</td>\n",
       "      <td>0.617978</td>\n",
       "      <td>0.621753</td>\n",
       "      <td>0.613751</td>\n",
       "      <td>0.609649</td>\n",
       "      <td>0.660768</td>\n",
       "      <td>amilcar32</td>\n",
       "      <td>27</td>\n",
       "      <td>2023-10-29 21:22:33.550941</td>\n",
       "      <td>modelo_1860_bin_s_RF_SVM.pkl</td>\n",
       "      <td>{'selector__max_features': 500, 'selector__est...</td>\n",
       "      <td>X_test:(89, 18875)</td>\n",
       "      <td>['ENSG00000000971.17', 'ENSG00000005175.10', '...</td>\n",
       "      <td>NaN</td>\n",
       "      <td>NaN</td>\n",
       "      <td>NaN</td>\n",
       "    </tr>\n",
       "    <tr>\n",
       "      <th>0</th>\n",
       "      <td>bin_s</td>\n",
       "      <td>RF</td>\n",
       "      <td>RF</td>\n",
       "      <td>1860</td>\n",
       "      <td>0.573034</td>\n",
       "      <td>0.572051</td>\n",
       "      <td>0.571031</td>\n",
       "      <td>0.570376</td>\n",
       "      <td>0.702224</td>\n",
       "      <td>amilcar32</td>\n",
       "      <td>103</td>\n",
       "      <td>2023-10-29 21:22:00.257603</td>\n",
       "      <td>modelo_1860_bin_s_RF_RF.pkl</td>\n",
       "      <td>{'selector__max_features': 500, 'selector__est...</td>\n",
       "      <td>X_test:(89, 18875)</td>\n",
       "      <td>['ENSG00000000419.14', 'ENSG00000000971.17', '...</td>\n",
       "      <td>NaN</td>\n",
       "      <td>NaN</td>\n",
       "      <td>NaN</td>\n",
       "    </tr>\n",
       "  </tbody>\n",
       "</table>\n",
       "</div>"
      ],
      "text/plain": [
       "    tipo select clasific  semilla  accuracy  precision    recall  f1_score  \\\n",
       "0  mul_m  ANOVA    LR_EN     1860  0.620690   0.627038  0.648558  0.622170   \n",
       "0  bin_s     RF      SVM     1860  0.617978   0.621753  0.613751  0.609649   \n",
       "0  bin_s     RF       RF     1860  0.573034   0.572051  0.571031  0.570376   \n",
       "\n",
       "    roc_auc   hostname  total_time_sec                    datetime  \\\n",
       "0       NaN  amilcar32            2397  2023-10-29 22:02:36.679024   \n",
       "0  0.660768  amilcar32              27  2023-10-29 21:22:33.550941   \n",
       "0  0.702224  amilcar32             103  2023-10-29 21:22:00.257603   \n",
       "\n",
       "                      fichero_modelo  \\\n",
       "0  modelo_1860_mul_m_ANOVA_LR_EN.pkl   \n",
       "0       modelo_1860_bin_s_RF_SVM.pkl   \n",
       "0        modelo_1860_bin_s_RF_RF.pkl   \n",
       "\n",
       "                                              params               shape  \\\n",
       "0  {'selector__k': 1000, 'clasifier__solver': 'sa...  X_test:(87, 18875)   \n",
       "0  {'selector__max_features': 500, 'selector__est...  X_test:(89, 18875)   \n",
       "0  {'selector__max_features': 500, 'selector__est...  X_test:(89, 18875)   \n",
       "\n",
       "                                            features  roc_auc_ovr  \\\n",
       "0  ['ENSG00000000938.13', 'ENSG00000002919.15', '...     0.870584   \n",
       "0  ['ENSG00000000971.17', 'ENSG00000005175.10', '...          NaN   \n",
       "0  ['ENSG00000000419.14', 'ENSG00000000971.17', '...          NaN   \n",
       "\n",
       "                                         indices_auc  \\\n",
       "0  [0.7588028169014085, 0.8740740740740741, 0.791...   \n",
       "0                                                NaN   \n",
       "0                                                NaN   \n",
       "\n",
       "                                     indices_jaccard  \n",
       "0  [0.35, 0.5294117647058824, 0.2777777777777778,...  \n",
       "0                                                NaN  \n",
       "0                                                NaN  "
      ]
     },
     "metadata": {},
     "output_type": "display_data"
    }
   ],
   "source": [
    "if M_TIPO.startswith(\"bin\"):\n",
    "    myfunc.save_metricas_to_csv(random_search, X_test, y_test, M_TIPO, M_SELECT, M_CLASIF, total_time, SEMILLA, myfunc.MET_DIR, M_FICHERO, fichero_modelo)\n",
    "else:\n",
    "    myfunc.save_metricas_multi_to_csv(random_search, X_test, y_test, M_TIPO, M_SELECT, M_CLASIF, total_time, SEMILLA, myfunc.MET_DIR, M_FICHERO, fichero_modelo)\n",
    "\n",
    "df1=myfunc.read_metricas_to_df(myfunc.MET_DIR,M_FICHERO)\n",
    "\n",
    "display(df1.sort_values(\"datetime\", ascending=False)[:3])\n"
   ]
  },
  {
   "cell_type": "markdown",
   "id": "72f301b5",
   "metadata": {
    "papermill": {
     "duration": 0.015623,
     "end_time": "2023-10-29T21:02:36.819663",
     "exception": false,
     "start_time": "2023-10-29T21:02:36.804040",
     "status": "completed"
    },
    "tags": []
   },
   "source": [
    "#### Guardar resultados"
   ]
  },
  {
   "cell_type": "code",
   "execution_count": 13,
   "id": "5e5ac6cc",
   "metadata": {
    "execution": {
     "iopub.execute_input": "2023-10-29T21:02:36.850900Z",
     "iopub.status.busy": "2023-10-29T21:02:36.850900Z",
     "iopub.status.idle": "2023-10-29T21:02:36.866630Z",
     "shell.execute_reply": "2023-10-29T21:02:36.866630Z"
    },
    "papermill": {
     "duration": 0.031354,
     "end_time": "2023-10-29T21:02:36.866630",
     "exception": false,
     "start_time": "2023-10-29T21:02:36.835276",
     "status": "completed"
    },
    "tags": []
   },
   "outputs": [
    {
     "name": "stdout",
     "output_type": "stream",
     "text": [
      "20231029T220236 : amilcar32 : INFO : Inicio guardar resultados\n",
      "20231029T220236 : amilcar32 : INFO : Inicio guardar fichero ..\\tfm_viu\\ejecuciones\\metricas\\resultados_1860_mul_m-ANOVA-LR_EN.csv\n",
      "20231029T220236 : amilcar32 : INFO : Fin guardar fichero ..\\tfm_viu\\ejecuciones\\metricas\\resultados_1860_mul_m-ANOVA-LR_EN.csv\n",
      "20231029T220236 : amilcar32 : INFO : Fin guardar resultados\n"
     ]
    }
   ],
   "source": [
    "fichero_resultados=R_FICHERO+\"_\"+M_TIPO+\"-\"+M_SELECT+\"-\"+M_CLASIF+\".csv\"\n",
    "myfunc.save_resultados_to_csv(M_TIPO, M_SELECT, M_CLASIF,  random_search, myfunc.MET_DIR, fichero_resultados)\n"
   ]
  }
 ],
 "metadata": {
  "kernelspec": {
   "display_name": "Python 3 (ipykernel)",
   "language": "python",
   "name": "python3"
  },
  "language_info": {
   "codemirror_mode": {
    "name": "ipython",
    "version": 3
   },
   "file_extension": ".py",
   "mimetype": "text/x-python",
   "name": "python",
   "nbconvert_exporter": "python",
   "pygments_lexer": "ipython3",
   "version": "3.10.12"
  },
  "papermill": {
   "default_parameters": {},
   "duration": 2401.87592,
   "end_time": "2023-10-29T21:02:37.663329",
   "environment_variables": {},
   "exception": null,
   "input_path": "03_entrenamiento.ipynb",
   "output_path": "ejecuciones\\training\\03_entrenamiento.20231029T212235.param_0000_1860_mul_m_ANOVA_LR_EN.output.ipynb",
   "parameters": {
    "MAX_ITERS": 500,
    "M_CLASIF": "LR_EN",
    "M_FICHERO": "metricas_1860",
    "M_SELECT": "ANOVA",
    "M_TIPO": "mul_m",
    "PRE_DATA_FILE": "rows_transpose_norm_by_gene_id_with_target_num_",
    "P_FICHERO": "param_0000_1860_mul_m_ANOVA_LR_EN.yaml",
    "R_FICHERO": "resultados_1860",
    "SCORING": "roc_auc_ovr",
    "SEMILLA": 1860,
    "eval_clasifier": "LogisticRegressionCV(random_state=SEMILLA)",
    "eval_selector": "SelectKBest(score_func=f_classif)",
    "param_distributions": {
     "clasifier__l1_ratios": [
      [
       0.1
      ]
     ],
     "clasifier__max_iter": [
      10000
     ],
     "clasifier__penalty": [
      "elasticnet"
     ],
     "clasifier__solver": [
      "saga"
     ],
     "selector__k": [
      1000
     ]
    }
   },
   "start_time": "2023-10-29T20:22:35.787409",
   "version": "2.4.0"
  }
 },
 "nbformat": 4,
 "nbformat_minor": 5
}