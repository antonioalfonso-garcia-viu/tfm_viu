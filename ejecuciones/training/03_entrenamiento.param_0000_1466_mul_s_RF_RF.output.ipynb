{
 "cells": [
  {
   "cell_type": "markdown",
   "id": "208d2587",
   "metadata": {
    "papermill": {
     "duration": 0.003466,
     "end_time": "2023-10-30T04:32:00.139001",
     "exception": false,
     "start_time": "2023-10-30T04:32:00.135535",
     "status": "completed"
    },
    "tags": []
   },
   "source": [
    "##### Inicio"
   ]
  },
  {
   "cell_type": "markdown",
   "id": "17a4d75a",
   "metadata": {
    "papermill": {
     "duration": 0.002732,
     "end_time": "2023-10-30T04:32:00.144720",
     "exception": false,
     "start_time": "2023-10-30T04:32:00.141988",
     "status": "completed"
    },
    "tags": []
   },
   "source": [
    "#### Carga de datos"
   ]
  },
  {
   "cell_type": "code",
   "execution_count": 1,
   "id": "59e84fa9",
   "metadata": {
    "execution": {
     "iopub.execute_input": "2023-10-30T04:32:00.151452Z",
     "iopub.status.busy": "2023-10-30T04:32:00.151228Z",
     "iopub.status.idle": "2023-10-30T04:32:01.020212Z",
     "shell.execute_reply": "2023-10-30T04:32:01.019624Z"
    },
    "papermill": {
     "duration": 0.874066,
     "end_time": "2023-10-30T04:32:01.021568",
     "exception": false,
     "start_time": "2023-10-30T04:32:00.147502",
     "status": "completed"
    },
    "tags": []
   },
   "outputs": [
    {
     "name": "stdout",
     "output_type": "stream",
     "text": [
      "CPU_COUNT: 8; NODE: amilcar22; sys.version: 3.10.12 (main, Jul  5 2023, 19:22:19) [GCC 11.2.0]\n",
      "LOKY_MAX_CPU_COUNT: 6\n",
      "OMP_NUM_THREADS: 2\n"
     ]
    }
   ],
   "source": [
    "import os\n",
    "import numpy as np\n",
    "import pandas as pd\n",
    "import datetime\n",
    "import sklearn\n",
    "import logging\n",
    "import warnings\n",
    "\n",
    "from sklearn.pipeline import Pipeline\n",
    "from sklearn.model_selection import RandomizedSearchCV, KFold, cross_val_score, train_test_split\n",
    "from sklearn.metrics import accuracy_score, confusion_matrix, classification_report, roc_auc_score\n",
    "\n",
    "#  cargar algoritmos para aprendizaje supervisado\n",
    "from sklearn.feature_selection import SelectKBest, f_classif, SelectFromModel, mutual_info_classif\n",
    "from sklearn.svm import SVC\n",
    "from sklearn.ensemble import RandomForestClassifier\n",
    "from sklearn.linear_model import LogisticRegression,LogisticRegressionCV\n",
    "\n",
    "# importar fichero con utilidades propias\n",
    "from commons import myfunctions as myfunc\n"
   ]
  },
  {
   "cell_type": "markdown",
   "id": "d49c4bbd",
   "metadata": {
    "papermill": {
     "duration": 0.002547,
     "end_time": "2023-10-30T04:32:01.027057",
     "exception": false,
     "start_time": "2023-10-30T04:32:01.024510",
     "status": "completed"
    },
    "tags": []
   },
   "source": [
    "#### Parámetros a utilizar en el entrenamiento.\n",
    "\n",
    "Se indican los 3 algoritmos de *selección de características* (eval_selector_xxx) y los 3 algoritmos para la _clasificación_ (eval_clasifier_xxx)\n",
    "\n",
    "En *param_distributions* se indicar los parámetros que utilizan los algoritmos en la función RandomSearchCV.\n",
    "\n",
    "Esta celda tiene la etiqueta **parameters** que servirá para poder lanzar los entrenamientos con la utilidad **papermill** pasándole un fichero con los parámetros. Los nuevos parámetros se situarán tras esta celda para tener prevalencia."
   ]
  },
  {
   "cell_type": "code",
   "execution_count": 2,
   "id": "7e8788e5",
   "metadata": {
    "execution": {
     "iopub.execute_input": "2023-10-30T04:32:01.033137Z",
     "iopub.status.busy": "2023-10-30T04:32:01.032855Z",
     "iopub.status.idle": "2023-10-30T04:32:01.039911Z",
     "shell.execute_reply": "2023-10-30T04:32:01.039345Z"
    },
    "papermill": {
     "duration": 0.011627,
     "end_time": "2023-10-30T04:32:01.041190",
     "exception": false,
     "start_time": "2023-10-30T04:32:01.029563",
     "status": "completed"
    },
    "tags": [
     "parameters"
    ]
   },
   "outputs": [
    {
     "name": "stdout",
     "output_type": "stream",
     "text": [
      "20231030T053201 : amilcar22 : INFO : Utilizando parámetros de mul_m\n"
     ]
    }
   ],
   "source": [
    "#  Parametros para el entrenamiento\n",
    "\n",
    "SEMILLA=        42\n",
    "M_TIPO=         \"mul_m\"\n",
    "M_SELECT=       \"MI\"\n",
    "M_CLASIF=       \"SVM\"\n",
    "R_FICHERO=      \"resultados\"\n",
    "M_FICHERO=      \"metricas\"\n",
    "PRE_DATA_FILE=  \"rows_transpose_norm_by_gene_id_with_target_num_\"\n",
    "SCORING=        \"roc_auc_ovr\" \n",
    "MAX_ITERS=      100\n",
    "\n",
    "def mutual_info_classif_state(X, y):\n",
    "    return mutual_info_classif(X, y, random_state=SEMILLA)\n",
    "\n",
    "eval_selector_mi = \"SelectKBest(score_func=mutual_info_classif_state)\"\n",
    "eval_selector_rf=  \"SelectFromModel(estimator=RandomForestClassifier(random_state=SEMILLA), threshold=-np.inf)\"\n",
    "eval_selector_anova=  \"SelectKBest(score_func=f_classif)\"\n",
    "\n",
    "eval_clasifier_svm= \"SVC(probability=True, random_state=SEMILLA)\"\n",
    "eval_clasifier_rf= \"RandomForestClassifier(random_state=SEMILLA)\"\n",
    "eval_clasifier_lr= \"LogisticRegressionCV(random_state=SEMILLA)\"\n",
    "\n",
    "if M_TIPO.startswith(\"bin_m\"):\n",
    "    myfunc.verbose(f\"Utilizando parámetros de {M_TIPO}\")\n",
    "    eval_selector = eval_selector_mi\n",
    "    eval_clasifier = eval_clasifier_svm\n",
    "\n",
    "    SEMILLA = 6578\n",
    "    M_SELECT = \"MI\"\n",
    "    M_CLASIF = \"SVM\"\n",
    "    param_distributions = {'selector__k': [1000], \n",
    "         'clasifier__kernel': ['rbf'], 'clasifier__gamma': [0.01], 'clasifier__C': [100]}\n",
    "elif M_TIPO.startswith(\"bin_s\"):\n",
    "    myfunc.verbose(f\"Utilizando parámetros de {M_TIPO}\")\n",
    "    eval_selector = eval_selector_rf\n",
    "    eval_clasifier = eval_clasifier_lr\n",
    "\n",
    "    SEMILLA = 6191\n",
    "    M_SELECT = \"RF\"\n",
    "    M_CLASIF = \"LR_L2\"\n",
    "    param_distributions = {'selector__max_features': [1000], 'selector__estimator__n_estimators': [200], \n",
    "        'clasifier__solver': ['lbfgs'], 'clasifier__penalty': ['l2'], 'clasifier__max_iter': [10000]}\n",
    "\n",
    "elif M_TIPO.startswith(\"mul_m\"):\n",
    "    myfunc.verbose(f\"Utilizando parámetros de {M_TIPO}\")\n",
    " \n",
    "    eval_selector = eval_selector_rf\n",
    "    eval_clasifier = eval_clasifier_lr\n",
    "\n",
    "    SEMILLA = 6191\n",
    "    M_SELECT = \"RF\"\n",
    "    M_CLASIF = \"LR_L2\"\n",
    "    param_distributions = {'selector__max_features': [1000], 'selector__estimator__n_estimators': [400], \n",
    "        'clasifier__solver': ['lbfgs'], 'clasifier__penalty': ['l2'], 'clasifier__max_iter': [10000]}\n",
    "\n",
    "else:\n",
    "    # M_TIPO.startswith(\"mul_s\"):\n",
    "    myfunc.verbose(f\"Utilizando parámetros de {M_TIPO}\")\n",
    "    eval_selector = eval_selector_anova\n",
    "    eval_clasifier = eval_clasifier_lr\n",
    "\n",
    "    SEMILLA = 1860\n",
    "    M_SELECT = \"ANOVA\"\n",
    "    M_CLASIF = \"LR_L2\"\n",
    "    param_distributions = {'selector__k': [1000], \n",
    "        'clasifier__solver': ['saga'], 'clasifier__penalty': ['l2'], 'clasifier__max_iter': [10000]}\n",
    "\n"
   ]
  },
  {
   "cell_type": "code",
   "execution_count": 3,
   "id": "52f869fe",
   "metadata": {
    "execution": {
     "iopub.execute_input": "2023-10-30T04:32:01.047269Z",
     "iopub.status.busy": "2023-10-30T04:32:01.047075Z",
     "iopub.status.idle": "2023-10-30T04:32:01.050785Z",
     "shell.execute_reply": "2023-10-30T04:32:01.050323Z"
    },
    "papermill": {
     "duration": 0.008062,
     "end_time": "2023-10-30T04:32:01.051980",
     "exception": false,
     "start_time": "2023-10-30T04:32:01.043918",
     "status": "completed"
    },
    "tags": [
     "injected-parameters"
    ]
   },
   "outputs": [],
   "source": [
    "# Parameters\n",
    "M_TIPO = \"mul_s\"\n",
    "M_SELECT = \"RF\"\n",
    "M_CLASIF = \"RF\"\n",
    "P_FICHERO = \"param_0000_1466_mul_s_RF_RF.yaml\"\n",
    "R_FICHERO = \"resultados_1466\"\n",
    "M_FICHERO = \"metricas_1466\"\n",
    "PRE_DATA_FILE = \"rows_transpose_norm_by_gene_id_with_target_num_\"\n",
    "SCORING = \"roc_auc_ovr\"\n",
    "SEMILLA = 1466\n",
    "MAX_ITERS = 500\n",
    "eval_selector = \"SelectFromModel(estimator=RandomForestClassifier(random_state=SEMILLA), threshold=-np.inf)\"\n",
    "eval_clasifier = \"RandomForestClassifier(random_state=SEMILLA)\"\n",
    "param_distributions = {\n",
    "    \"selector__max_features\": [1000],\n",
    "    \"selector__estimator__n_estimators\": [100],\n",
    "    \"clasifier__n_estimators\": [200],\n",
    "    \"clasifier__min_samples_split\": [10],\n",
    "    \"clasifier__min_samples_leaf\": [5],\n",
    "    \"clasifier__max_features\": [1000],\n",
    "    \"clasifier__max_depth\": [10],\n",
    "    \"clasifier__bootstrap\": [True],\n",
    "}\n"
   ]
  },
  {
   "cell_type": "code",
   "execution_count": 4,
   "id": "33959598",
   "metadata": {
    "execution": {
     "iopub.execute_input": "2023-10-30T04:32:01.058167Z",
     "iopub.status.busy": "2023-10-30T04:32:01.058012Z",
     "iopub.status.idle": "2023-10-30T04:32:01.061098Z",
     "shell.execute_reply": "2023-10-30T04:32:01.060580Z"
    },
    "papermill": {
     "duration": 0.007612,
     "end_time": "2023-10-30T04:32:01.062343",
     "exception": false,
     "start_time": "2023-10-30T04:32:01.054731",
     "status": "completed"
    },
    "tags": []
   },
   "outputs": [],
   "source": [
    "DATA_FILE = PRE_DATA_FILE + M_TIPO\n",
    "\n",
    "# si viene \"None\" en el parámetro max_depth, se le quitan las comillas para que no sea entendido por el algoritmo como un texto\n",
    "if \"clasifier__max_depth\" in param_distributions:\n",
    "    param_distributions['clasifier__max_depth'] = [None if x == 'None' else x for x in param_distributions['clasifier__max_depth']]"
   ]
  },
  {
   "cell_type": "markdown",
   "id": "e1142b82",
   "metadata": {
    "papermill": {
     "duration": 0.002911,
     "end_time": "2023-10-30T04:32:01.068262",
     "exception": false,
     "start_time": "2023-10-30T04:32:01.065351",
     "status": "completed"
    },
    "tags": []
   },
   "source": [
    "Asignar los algoritmos que se utilizarán en la función RandomSearchCV"
   ]
  },
  {
   "cell_type": "code",
   "execution_count": 5,
   "id": "7024c2ff",
   "metadata": {
    "execution": {
     "iopub.execute_input": "2023-10-30T04:32:01.074923Z",
     "iopub.status.busy": "2023-10-30T04:32:01.074743Z",
     "iopub.status.idle": "2023-10-30T04:32:01.077426Z",
     "shell.execute_reply": "2023-10-30T04:32:01.076894Z"
    },
    "papermill": {
     "duration": 0.007451,
     "end_time": "2023-10-30T04:32:01.078728",
     "exception": false,
     "start_time": "2023-10-30T04:32:01.071277",
     "status": "completed"
    },
    "tags": []
   },
   "outputs": [],
   "source": [
    "algor_selector=eval(eval_selector)\n",
    "algor_clasifier=eval(eval_clasifier)"
   ]
  },
  {
   "cell_type": "markdown",
   "id": "eb073387",
   "metadata": {
    "papermill": {
     "duration": 0.003276,
     "end_time": "2023-10-30T04:32:01.085293",
     "exception": false,
     "start_time": "2023-10-30T04:32:01.082017",
     "status": "completed"
    },
    "tags": []
   },
   "source": [
    "#### Comprobar el entorno y leer fichero de muestras"
   ]
  },
  {
   "cell_type": "code",
   "execution_count": 6,
   "id": "3bb927cd",
   "metadata": {
    "execution": {
     "iopub.execute_input": "2023-10-30T04:32:01.092577Z",
     "iopub.status.busy": "2023-10-30T04:32:01.092373Z",
     "iopub.status.idle": "2023-10-30T04:32:01.218999Z",
     "shell.execute_reply": "2023-10-30T04:32:01.218428Z"
    },
    "papermill": {
     "duration": 0.131805,
     "end_time": "2023-10-30T04:32:01.220322",
     "exception": false,
     "start_time": "2023-10-30T04:32:01.088517",
     "status": "completed"
    },
    "tags": []
   },
   "outputs": [
    {
     "name": "stdout",
     "output_type": "stream",
     "text": [
      "20231030T053201 : amilcar22 : INFO : Encontrada carpeta DATA_DIR=../tfm_git/datos\n",
      "20231030T053201 : amilcar22 : INFO : Encontrada carpeta CFDNA_DIR=../tfm_git/datos/cfDNA_5hmC\n",
      "20231030T053201 : amilcar22 : INFO : Encontrada carpeta GENCODE_DIR=../tfm_git/datos/gencode\n",
      "20231030T053201 : amilcar22 : INFO : Encontrada carpeta H5_DIR=../tfm_git/datos/h5\n",
      "20231030T053201 : amilcar22 : INFO : Encontrada carpeta LOG_DIR=../tfm_git/datos/logs\n",
      "20231030T053201 : amilcar22 : INFO : Encontrada carpeta CSV_DIR=../tfm_git/datos/csv\n",
      "20231030T053201 : amilcar22 : INFO : Encontrada carpeta MODEL_DIR=../tfm_git/ejecuciones/modelos\n",
      "20231030T053201 : amilcar22 : INFO : Encontrada carpeta EXEC_DIR=../tfm_git/ejecuciones\n",
      "20231030T053201 : amilcar22 : INFO : Encontrada carpeta MET_DIR=../tfm_git/ejecuciones/metricas\n",
      "20231030T053201 : amilcar22 : INFO : Inicio leer fichero h5 ../tfm_git/datos/h5/rows_transpose_norm_by_gene_id_with_target_num_mul_s.h5\n",
      "20231030T053201 : amilcar22 : INFO : Leyendo clave /df\n",
      "20231030T053201 : amilcar22 : INFO : Tamaño (259, 18876)\n",
      "20231030T053201 : amilcar22 : INFO : Fin leer fichero h5 ../tfm_git/datos/h5/rows_transpose_norm_by_gene_id_with_target_num_mul_s.h5\n"
     ]
    },
    {
     "data": {
      "text/plain": [
       "target\n",
       "0    37\n",
       "1    37\n",
       "2    37\n",
       "3    37\n",
       "4    37\n",
       "5    37\n",
       "6    37\n",
       "dtype: int64"
      ]
     },
     "metadata": {},
     "output_type": "display_data"
    },
    {
     "name": "stdout",
     "output_type": "stream",
     "text": [
      "Shape df: (259, 18876)\n",
      "Shape X_train: (207, 18875)\n",
      "Shape X_test: (52, 18875)\n"
     ]
    }
   ],
   "source": [
    "start_time = datetime.datetime.now()\n",
    "\n",
    "myfunc.reset_vars()\n",
    "\n",
    "myfunc.NOTEBK_FILENAME = myfunc.get_nb_name()\n",
    "\n",
    "myfunc.check_enviroment(myfunc.DATA_DIR, myfunc.CFDNA_DIR, myfunc.GENCODE_DIR, myfunc.H5_DIR, myfunc.LOG_DIR, myfunc.CSV_DIR, myfunc.MODEL_DIR, myfunc.EXEC_DIR, myfunc.MET_DIR)\n",
    "\n",
    "# Leer fichero con las muestras\n",
    "df_t = myfunc.read_h5_to_df(DATA_FILE, myfunc.H5_DIR)\n",
    "display(df_t.groupby(\"target\").size())\n",
    "print(\"Shape df:\",df_t.shape)\n",
    "\n",
    "# Separar caracteristicas/genes de las etiquetas/tipos de cáncer\n",
    "X = df_t.iloc[:, :-1]  # Todas las columnas excepto la última\n",
    "y = df_t.iloc[:, -1]  # La última columna contiene los identificadores de los tipos de cáncer\n",
    "\n",
    "#  Crear el conjunto de datos de entrenamiento y de pruebas, y se fija la semilla para siempre coger el mismo juego de muestras\n",
    "X_train, X_test, y_train, y_test = train_test_split(X, y, test_size=0.2, shuffle=True, random_state=42)\n",
    "print(\"Shape X_train:\",X_train.shape)\n",
    "print(\"Shape X_test:\",X_test.shape)\n"
   ]
  },
  {
   "cell_type": "markdown",
   "id": "59012493",
   "metadata": {
    "papermill": {
     "duration": 0.00282,
     "end_time": "2023-10-30T04:32:01.226473",
     "exception": false,
     "start_time": "2023-10-30T04:32:01.223653",
     "status": "completed"
    },
    "tags": []
   },
   "source": [
    "#### Selección de características y clasificación."
   ]
  },
  {
   "cell_type": "code",
   "execution_count": 7,
   "id": "52117794",
   "metadata": {
    "execution": {
     "iopub.execute_input": "2023-10-30T04:32:01.233017Z",
     "iopub.status.busy": "2023-10-30T04:32:01.232819Z",
     "iopub.status.idle": "2023-10-30T04:32:24.555839Z",
     "shell.execute_reply": "2023-10-30T04:32:24.555214Z"
    },
    "papermill": {
     "duration": 23.327855,
     "end_time": "2023-10-30T04:32:24.557207",
     "exception": false,
     "start_time": "2023-10-30T04:32:01.229352",
     "status": "completed"
    },
    "tags": []
   },
   "outputs": [
    {
     "name": "stdout",
     "output_type": "stream",
     "text": [
      "20231030T053201 : amilcar22 : INFO : Iniciando entrenamiento\n",
      "num_iter: 1 , max_iter: 1\n"
     ]
    },
    {
     "name": "stdout",
     "output_type": "stream",
     "text": [
      "Fitting 5 folds for each of 1 candidates, totalling 5 fits\n"
     ]
    },
    {
     "name": "stdout",
     "output_type": "stream",
     "text": [
      "Mejores Hiperparámetros: {'selector__max_features': 1000, 'selector__estimator__n_estimators': 100, 'clasifier__n_estimators': 200, 'clasifier__min_samples_split': 10, 'clasifier__min_samples_leaf': 5, 'clasifier__max_features': 1000, 'clasifier__max_depth': 10, 'clasifier__bootstrap': True}\n",
      "Mejor Puntuación: 0.7725\n",
      "20231030T053224 : amilcar22 : INFO : Fin entrenamiento\n"
     ]
    }
   ],
   "source": [
    "myfunc.verbose(\"Iniciando entrenamiento\")\n",
    "\n",
    "kf = KFold(n_splits=5, shuffle=True, random_state=SEMILLA)\n",
    "\n",
    "# Crear el pipeline para el flujo de tareas\n",
    "tasks_pipeline = Pipeline([\n",
    "    ('selector', algor_selector),\n",
    "    ('clasifier', algor_clasifier)\n",
    "])\n",
    "\n",
    "# MAX_ITERS puede limitar el número de iteraciones si son excesivas para las combinaciones de parámetros buscando un óptimo local, \n",
    "# sino funcionaría como GridSearchCV al revisar todas las cominaciones de los parámetros\n",
    "num_iteraciones = 1\n",
    "num_iteraciones = num_iteraciones * np.prod([len(elemento1) for _, elemento1 in param_distributions.items()])\n",
    "max_iteraciones = num_iteraciones if num_iteraciones <= MAX_ITERS else MAX_ITERS\n",
    "print(\"num_iter:\",num_iteraciones,\", max_iter:\",max_iteraciones)\n",
    "\n",
    "random_search = RandomizedSearchCV(\n",
    "    tasks_pipeline, \n",
    "    param_distributions, \n",
    "    n_iter=max_iteraciones,\n",
    "    scoring=SCORING,\n",
    "    cv=kf,\n",
    "    verbose=3, \n",
    "    random_state=SEMILLA, \n",
    "    n_jobs=-1\n",
    "    )\n",
    "\n",
    "# Entrenar el modelo\n",
    "random_search.fit(X_train, y_train)\n",
    "\n",
    "# Ver los mejores hiperparámetros encontrados\n",
    "print(f'Mejores Hiperparámetros: {random_search.best_params_}')\n",
    "print(f'Mejor Puntuación: {random_search.best_score_:.4f}')\n",
    "\n",
    "# Nos quedamos con el mejor modelo para ver las métricas\n",
    "mejor_modelo = random_search.best_estimator_\n",
    "\n",
    "myfunc.verbose(\"Fin entrenamiento\")"
   ]
  },
  {
   "cell_type": "markdown",
   "id": "9c926650",
   "metadata": {
    "papermill": {
     "duration": 0.002945,
     "end_time": "2023-10-30T04:32:24.563667",
     "exception": false,
     "start_time": "2023-10-30T04:32:24.560722",
     "status": "completed"
    },
    "tags": []
   },
   "source": [
    "#### Guardar modelo"
   ]
  },
  {
   "cell_type": "code",
   "execution_count": 8,
   "id": "f7e6622a",
   "metadata": {
    "execution": {
     "iopub.execute_input": "2023-10-30T04:32:24.570570Z",
     "iopub.status.busy": "2023-10-30T04:32:24.570381Z",
     "iopub.status.idle": "2023-10-30T04:32:24.670454Z",
     "shell.execute_reply": "2023-10-30T04:32:24.669725Z"
    },
    "papermill": {
     "duration": 0.10525,
     "end_time": "2023-10-30T04:32:24.671888",
     "exception": false,
     "start_time": "2023-10-30T04:32:24.566638",
     "status": "completed"
    },
    "tags": []
   },
   "outputs": [
    {
     "name": "stdout",
     "output_type": "stream",
     "text": [
      "20231030T053224 : amilcar22 : INFO : Inicio guardar fichero ../tfm_git/ejecuciones/modelos/modelo_1466_mul_s_RF_RF.pkl\n",
      "20231030T053224 : amilcar22 : INFO : Fin guardar fichero ../tfm_git/ejecuciones/modelos/modelo_1466_mul_s_RF_RF.pkl\n"
     ]
    }
   ],
   "source": [
    "fichero_modelo = str.replace(\"modelo_\"+str(SEMILLA).zfill(4)+\"_\"+M_TIPO+\"_\"+M_SELECT+\"_\"+M_CLASIF+\".pkl\", \" \", \"_\")\n",
    "\n",
    "myfunc.save_modelo(mejor_modelo, myfunc.MODEL_DIR, fichero_modelo)"
   ]
  },
  {
   "cell_type": "markdown",
   "id": "436e8c85",
   "metadata": {
    "papermill": {
     "duration": 0.003342,
     "end_time": "2023-10-30T04:32:24.678628",
     "exception": false,
     "start_time": "2023-10-30T04:32:24.675286",
     "status": "completed"
    },
    "tags": []
   },
   "source": [
    "#### Ver resultados del las iteraciones hechas por RandomSearchCV"
   ]
  },
  {
   "cell_type": "code",
   "execution_count": 9,
   "id": "946b4922",
   "metadata": {
    "execution": {
     "iopub.execute_input": "2023-10-30T04:32:24.685459Z",
     "iopub.status.busy": "2023-10-30T04:32:24.685272Z",
     "iopub.status.idle": "2023-10-30T04:32:24.691010Z",
     "shell.execute_reply": "2023-10-30T04:32:24.690566Z"
    },
    "papermill": {
     "duration": 0.010506,
     "end_time": "2023-10-30T04:32:24.692108",
     "exception": false,
     "start_time": "2023-10-30T04:32:24.681602",
     "status": "completed"
    },
    "tags": []
   },
   "outputs": [
    {
     "name": "stdout",
     "output_type": "stream",
     "text": [
      "20231030T053224 : amilcar22 : INFO : Inicio ver resultados\n",
      "Mejores Hiperparámetros: {'selector__max_features': 1000, 'selector__estimator__n_estimators': 100, 'clasifier__n_estimators': 200, 'clasifier__min_samples_split': 10, 'clasifier__min_samples_leaf': 5, 'clasifier__max_features': 1000, 'clasifier__max_depth': 10, 'clasifier__bootstrap': True}\n",
      "Mejores puntuaciones: 0.7725 | Params: {'selector__max_features': 1000, 'selector__estimator__n_estimators': 100, 'clasifier__n_estimators': 200, 'clasifier__min_samples_split': 10, 'clasifier__min_samples_leaf': 5, 'clasifier__max_features': 1000, 'clasifier__max_depth': 10, 'clasifier__bootstrap': True}\n",
      "Media de las puntuaciones: 0.7725 | Params: {'selector__max_features': 1000, 'selector__estimator__n_estimators': 100, 'clasifier__n_estimators': 200, 'clasifier__min_samples_split': 10, 'clasifier__min_samples_leaf': 5, 'clasifier__max_features': 1000, 'clasifier__max_depth': 10, 'clasifier__bootstrap': True}\n",
      "20231030T053224 : amilcar22 : INFO : Fin resultados\n"
     ]
    }
   ],
   "source": [
    "myfunc.ver_resultados_search(random_search)"
   ]
  },
  {
   "cell_type": "markdown",
   "id": "2646effc",
   "metadata": {
    "papermill": {
     "duration": 0.003079,
     "end_time": "2023-10-30T04:32:24.698559",
     "exception": false,
     "start_time": "2023-10-30T04:32:24.695480",
     "status": "completed"
    },
    "tags": []
   },
   "source": [
    "#### Ver métricas del mejor modelo"
   ]
  },
  {
   "cell_type": "code",
   "execution_count": 10,
   "id": "0fbec0f4",
   "metadata": {
    "execution": {
     "iopub.execute_input": "2023-10-30T04:32:24.705454Z",
     "iopub.status.busy": "2023-10-30T04:32:24.705256Z",
     "iopub.status.idle": "2023-10-30T04:32:25.402805Z",
     "shell.execute_reply": "2023-10-30T04:32:25.402317Z"
    },
    "papermill": {
     "duration": 0.702456,
     "end_time": "2023-10-30T04:32:25.404122",
     "exception": false,
     "start_time": "2023-10-30T04:32:24.701666",
     "status": "completed"
    },
    "tags": []
   },
   "outputs": [
    {
     "name": "stdout",
     "output_type": "stream",
     "text": [
      "20231030T053224 : amilcar22 : INFO : Inicio ver métricas multiclase\n"
     ]
    },
    {
     "name": "stdout",
     "output_type": "stream",
     "text": [
      "              precision    recall  f1-score   support\n",
      "\n",
      "           0       0.33      0.09      0.14        11\n",
      "           1       0.57      0.50      0.53         8\n",
      "           2       0.33      0.25      0.29         8\n",
      "           3       0.00      0.00      0.00         5\n",
      "           4       0.70      0.88      0.78         8\n",
      "           5       0.43      0.50      0.46         6\n",
      "           6       0.20      0.33      0.25         6\n",
      "\n",
      "    accuracy                           0.37        52\n",
      "   macro avg       0.37      0.36      0.35        52\n",
      "weighted avg       0.39      0.37      0.36        52\n",
      "\n",
      "\n",
      "\n",
      "           Exactitud: 0.365385\n",
      "   Precisión (media): 0.366667\n",
      "      Recall (media): 0.364177\n",
      "    F1-score (media): 0.350174\n",
      "\n",
      "\n",
      "AUC para el tipo de cáncer 0-Control.... 0.4945\n",
      "AUC para el tipo de cáncer 1-Bladder.... 0.8239\n",
      "AUC para el tipo de cáncer 2-Breast..... 0.7500\n",
      "AUC para el tipo de cáncer 3-Colorectal. 0.7447\n",
      "AUC para el tipo de cáncer 4-Kidney..... 0.9688\n",
      "AUC para el tipo de cáncer 5-Lung....... 0.8478\n",
      "AUC para el tipo de cáncer 6-Prostate... 0.7645\n",
      "\n",
      "Media de AUC: 0.7706\n"
     ]
    },
    {
     "data": {
      "image/png": "[encoded data removed]",
      "text/plain": [
       "<Figure size 1000x600 with 1 Axes>"
      ]
     },
     "metadata": {},
     "output_type": "display_data"
    },
    {
     "name": "stdout",
     "output_type": "stream",
     "text": [
      "\n",
      "\n"
     ]
    },
    {
     "data": {
      "image/png": "[encoded data removed]",
      "text/plain": [
       "<Figure size 800x400 with 2 Axes>"
      ]
     },
     "metadata": {},
     "output_type": "display_data"
    },
    {
     "name": "stdout",
     "output_type": "stream",
     "text": [
      "\n",
      "\n",
      "Puntuación Jaccard para el cáncer tipo 0-Control.... 0.0769\n",
      "Puntuación Jaccard para el cáncer tipo 1-Bladder.... 0.3636\n",
      "Puntuación Jaccard para el cáncer tipo 2-Breast..... 0.1667\n",
      "Puntuación Jaccard para el cáncer tipo 3-Colorectal. 0.0000\n",
      "Puntuación Jaccard para el cáncer tipo 4-Kidney..... 0.6364\n",
      "Puntuación Jaccard para el cáncer tipo 5-Lung....... 0.3000\n",
      "Puntuación Jaccard para el cáncer tipo 6-Prostate... 0.1429\n",
      "\n",
      "Media de la puntuación de Jaccard: 0.2409\n"
     ]
    }
   ],
   "source": [
    "if M_TIPO.startswith(\"bin\"):\n",
    "    myfunc.ver_metricas(mejor_modelo, X_test, y_test)\n",
    "else:\n",
    "    myfunc.ver_metricas_multi(mejor_modelo, X_test, y_test)\n"
   ]
  },
  {
   "cell_type": "markdown",
   "id": "ea6a02e6",
   "metadata": {
    "papermill": {
     "duration": 0.004175,
     "end_time": "2023-10-30T04:32:25.413207",
     "exception": false,
     "start_time": "2023-10-30T04:32:25.409032",
     "status": "completed"
    },
    "tags": []
   },
   "source": [
    "#### Finalización del notebook"
   ]
  },
  {
   "cell_type": "code",
   "execution_count": 11,
   "id": "4483337f",
   "metadata": {
    "execution": {
     "iopub.execute_input": "2023-10-30T04:32:25.422364Z",
     "iopub.status.busy": "2023-10-30T04:32:25.422159Z",
     "iopub.status.idle": "2023-10-30T04:32:25.425442Z",
     "shell.execute_reply": "2023-10-30T04:32:25.425029Z"
    },
    "papermill": {
     "duration": 0.00927,
     "end_time": "2023-10-30T04:32:25.426668",
     "exception": false,
     "start_time": "2023-10-30T04:32:25.417398",
     "status": "completed"
    },
    "tags": []
   },
   "outputs": [
    {
     "name": "stdout",
     "output_type": "stream",
     "text": [
      "20231030T053225 : amilcar22 : INFO : Notebook ha tardado 24 seconds\n"
     ]
    }
   ],
   "source": [
    "end_time = datetime.datetime.now()\n",
    "total_time = end_time - start_time\n",
    "myfunc.verbose(f\"Notebook ha tardado {total_time.seconds} seconds\")"
   ]
  },
  {
   "cell_type": "markdown",
   "id": "2ca61aa3",
   "metadata": {
    "papermill": {
     "duration": 0.004159,
     "end_time": "2023-10-30T04:32:25.435204",
     "exception": false,
     "start_time": "2023-10-30T04:32:25.431045",
     "status": "completed"
    },
    "tags": []
   },
   "source": [
    "#### Guardar métricas"
   ]
  },
  {
   "cell_type": "code",
   "execution_count": 12,
   "id": "ad41b9fa",
   "metadata": {
    "execution": {
     "iopub.execute_input": "2023-10-30T04:32:25.444285Z",
     "iopub.status.busy": "2023-10-30T04:32:25.444106Z",
     "iopub.status.idle": "2023-10-30T04:32:25.772491Z",
     "shell.execute_reply": "2023-10-30T04:32:25.772020Z"
    },
    "papermill": {
     "duration": 0.334342,
     "end_time": "2023-10-30T04:32:25.773748",
     "exception": false,
     "start_time": "2023-10-30T04:32:25.439406",
     "status": "completed"
    },
    "tags": []
   },
   "outputs": [
    {
     "name": "stdout",
     "output_type": "stream",
     "text": [
      "20231030T053225 : amilcar22 : INFO : Inicio guardar métricas multiclase\n",
      "20231030T053225 : amilcar22 : INFO : Inicio leer fichero ../tfm_git/ejecuciones/metricas/metricas_1466.csv\n",
      "20231030T053225 : amilcar22 : INFO : Fin leer fichero ../tfm_git/ejecuciones/metricas/metricas_1466.csv\n"
     ]
    },
    {
     "name": "stdout",
     "output_type": "stream",
     "text": [
      "20231030T053225 : amilcar22 : INFO : Inicio guardar fichero ../tfm_git/ejecuciones/metricas/metricas_1466.csv\n",
      "20231030T053225 : amilcar22 : INFO : Fichero borrado ../tfm_git/ejecuciones/metricas/metricas_1466.csv\n",
      "20231030T053225 : amilcar22 : INFO : Fin guardar fichero ../tfm_git/ejecuciones/metricas/metricas_1466.csv\n",
      "20231030T053225 : amilcar22 : INFO : Fin guardar métricas multiclase\n",
      "20231030T053225 : amilcar22 : INFO : Inicio leer fichero ../tfm_git/ejecuciones/metricas/metricas_1466.csv\n",
      "20231030T053225 : amilcar22 : INFO : Fin leer fichero ../tfm_git/ejecuciones/metricas/metricas_1466.csv\n"
     ]
    },
    {
     "data": {
      "text/html": [
       "<div>\n",
       "<style scoped>\n",
       "    .dataframe tbody tr th:only-of-type {\n",
       "        vertical-align: middle;\n",
       "    }\n",
       "\n",
       "    .dataframe tbody tr th {\n",
       "        vertical-align: top;\n",
       "    }\n",
       "\n",
       "    .dataframe thead th {\n",
       "        text-align: right;\n",
       "    }\n",
       "</style>\n",
       "<table border=\"1\" class=\"dataframe\">\n",
       "  <thead>\n",
       "    <tr style=\"text-align: right;\">\n",
       "      <th></th>\n",
       "      <th>tipo</th>\n",
       "      <th>select</th>\n",
       "      <th>clasific</th>\n",
       "      <th>semilla</th>\n",
       "      <th>accuracy</th>\n",
       "      <th>precision</th>\n",
       "      <th>recall</th>\n",
       "      <th>f1_score</th>\n",
       "      <th>roc_auc</th>\n",
       "      <th>hostname</th>\n",
       "      <th>total_time_sec</th>\n",
       "      <th>datetime</th>\n",
       "      <th>fichero_modelo</th>\n",
       "      <th>params</th>\n",
       "      <th>shape</th>\n",
       "      <th>features</th>\n",
       "      <th>roc_auc_ovr</th>\n",
       "      <th>indices_auc</th>\n",
       "      <th>indices_jaccard</th>\n",
       "    </tr>\n",
       "  </thead>\n",
       "  <tbody>\n",
       "    <tr>\n",
       "      <th>0</th>\n",
       "      <td>mul_s</td>\n",
       "      <td>RF</td>\n",
       "      <td>RF</td>\n",
       "      <td>1466</td>\n",
       "      <td>0.365385</td>\n",
       "      <td>0.366667</td>\n",
       "      <td>0.364177</td>\n",
       "      <td>0.350174</td>\n",
       "      <td>NaN</td>\n",
       "      <td>amilcar22</td>\n",
       "      <td>24</td>\n",
       "      <td>2023-10-30 05:32:25.737862</td>\n",
       "      <td>modelo_1466_mul_s_RF_RF.pkl</td>\n",
       "      <td>{'selector__max_features': 1000, 'selector__es...</td>\n",
       "      <td>X_test:(52, 18875)</td>\n",
       "      <td>['ENSG00000005513.10', 'ENSG00000006625.18', '...</td>\n",
       "      <td>0.770581</td>\n",
       "      <td>[0.4944567627494457, 0.8238636363636364, 0.75,...</td>\n",
       "      <td>[0.07692307692307693, 0.36363636363636365, 0.1...</td>\n",
       "    </tr>\n",
       "    <tr>\n",
       "      <th>0</th>\n",
       "      <td>mul_s</td>\n",
       "      <td>RF</td>\n",
       "      <td>LR_L2</td>\n",
       "      <td>1466</td>\n",
       "      <td>0.480769</td>\n",
       "      <td>0.513889</td>\n",
       "      <td>0.496104</td>\n",
       "      <td>0.479481</td>\n",
       "      <td>NaN</td>\n",
       "      <td>amilcar22</td>\n",
       "      <td>17</td>\n",
       "      <td>2023-10-30 05:31:55.027532</td>\n",
       "      <td>modelo_1466_mul_s_RF_LR_L2.pkl</td>\n",
       "      <td>{'selector__max_features': 500, 'selector__est...</td>\n",
       "      <td>X_test:(52, 18875)</td>\n",
       "      <td>['ENSG00000000938.13', 'ENSG00000005513.10', '...</td>\n",
       "      <td>0.846526</td>\n",
       "      <td>[0.7782705099778271, 0.8693181818181819, 0.767...</td>\n",
       "      <td>[0.17647058823529413, 0.5555555555555556, 0.2,...</td>\n",
       "    </tr>\n",
       "    <tr>\n",
       "      <th>0</th>\n",
       "      <td>mul_s</td>\n",
       "      <td>RF</td>\n",
       "      <td>LR_L1</td>\n",
       "      <td>1466</td>\n",
       "      <td>0.442308</td>\n",
       "      <td>0.450433</td>\n",
       "      <td>0.448593</td>\n",
       "      <td>0.433873</td>\n",
       "      <td>NaN</td>\n",
       "      <td>amilcar22</td>\n",
       "      <td>521</td>\n",
       "      <td>2023-10-30 05:31:31.161663</td>\n",
       "      <td>modelo_1466_mul_s_RF_LR_L1.pkl</td>\n",
       "      <td>{'selector__max_features': 500, 'selector__est...</td>\n",
       "      <td>X_test:(52, 18875)</td>\n",
       "      <td>['ENSG00000005513.10', 'ENSG00000010165.20', '...</td>\n",
       "      <td>0.813518</td>\n",
       "      <td>[0.6341463414634146, 0.8607954545454546, 0.764...</td>\n",
       "      <td>[0.11764705882352941, 0.4444444444444444, 0.18...</td>\n",
       "    </tr>\n",
       "  </tbody>\n",
       "</table>\n",
       "</div>"
      ],
      "text/plain": [
       "    tipo select clasific  semilla  accuracy  precision    recall  f1_score  \\\n",
       "0  mul_s     RF       RF     1466  0.365385   0.366667  0.364177  0.350174   \n",
       "0  mul_s     RF    LR_L2     1466  0.480769   0.513889  0.496104  0.479481   \n",
       "0  mul_s     RF    LR_L1     1466  0.442308   0.450433  0.448593  0.433873   \n",
       "\n",
       "   roc_auc   hostname  total_time_sec                    datetime  \\\n",
       "0      NaN  amilcar22              24  2023-10-30 05:32:25.737862   \n",
       "0      NaN  amilcar22              17  2023-10-30 05:31:55.027532   \n",
       "0      NaN  amilcar22             521  2023-10-30 05:31:31.161663   \n",
       "\n",
       "                   fichero_modelo  \\\n",
       "0     modelo_1466_mul_s_RF_RF.pkl   \n",
       "0  modelo_1466_mul_s_RF_LR_L2.pkl   \n",
       "0  modelo_1466_mul_s_RF_LR_L1.pkl   \n",
       "\n",
       "                                              params               shape  \\\n",
       "0  {'selector__max_features': 1000, 'selector__es...  X_test:(52, 18875)   \n",
       "0  {'selector__max_features': 500, 'selector__est...  X_test:(52, 18875)   \n",
       "0  {'selector__max_features': 500, 'selector__est...  X_test:(52, 18875)   \n",
       "\n",
       "                                            features  roc_auc_ovr  \\\n",
       "0  ['ENSG00000005513.10', 'ENSG00000006625.18', '...     0.770581   \n",
       "0  ['ENSG00000000938.13', 'ENSG00000005513.10', '...     0.846526   \n",
       "0  ['ENSG00000005513.10', 'ENSG00000010165.20', '...     0.813518   \n",
       "\n",
       "                                         indices_auc  \\\n",
       "0  [0.4944567627494457, 0.8238636363636364, 0.75,...   \n",
       "0  [0.7782705099778271, 0.8693181818181819, 0.767...   \n",
       "0  [0.6341463414634146, 0.8607954545454546, 0.764...   \n",
       "\n",
       "                                     indices_jaccard  \n",
       "0  [0.07692307692307693, 0.36363636363636365, 0.1...  \n",
       "0  [0.17647058823529413, 0.5555555555555556, 0.2,...  \n",
       "0  [0.11764705882352941, 0.4444444444444444, 0.18...  "
      ]
     },
     "metadata": {},
     "output_type": "display_data"
    }
   ],
   "source": [
    "if M_TIPO.startswith(\"bin\"):\n",
    "    myfunc.save_metricas_to_csv(random_search, X_test, y_test, M_TIPO, M_SELECT, M_CLASIF, total_time, SEMILLA, myfunc.MET_DIR, M_FICHERO, fichero_modelo)\n",
    "else:\n",
    "    myfunc.save_metricas_multi_to_csv(random_search, X_test, y_test, M_TIPO, M_SELECT, M_CLASIF, total_time, SEMILLA, myfunc.MET_DIR, M_FICHERO, fichero_modelo)\n",
    "\n",
    "df1=myfunc.read_metricas_to_df(myfunc.MET_DIR,M_FICHERO)\n",
    "\n",
    "display(df1.sort_values(\"datetime\", ascending=False)[:3])\n"
   ]
  },
  {
   "cell_type": "markdown",
   "id": "3c31b782",
   "metadata": {
    "papermill": {
     "duration": 0.004383,
     "end_time": "2023-10-30T04:32:25.783204",
     "exception": false,
     "start_time": "2023-10-30T04:32:25.778821",
     "status": "completed"
    },
    "tags": []
   },
   "source": [
    "#### Guardar resultados"
   ]
  },
  {
   "cell_type": "code",
   "execution_count": 13,
   "id": "c94fde3a",
   "metadata": {
    "execution": {
     "iopub.execute_input": "2023-10-30T04:32:25.792948Z",
     "iopub.status.busy": "2023-10-30T04:32:25.792745Z",
     "iopub.status.idle": "2023-10-30T04:32:25.801341Z",
     "shell.execute_reply": "2023-10-30T04:32:25.800762Z"
    },
    "papermill": {
     "duration": 0.014994,
     "end_time": "2023-10-30T04:32:25.802666",
     "exception": false,
     "start_time": "2023-10-30T04:32:25.787672",
     "status": "completed"
    },
    "tags": []
   },
   "outputs": [
    {
     "name": "stdout",
     "output_type": "stream",
     "text": [
      "20231030T053225 : amilcar22 : INFO : Inicio guardar resultados\n",
      "20231030T053225 : amilcar22 : INFO : Inicio guardar fichero ../tfm_git/ejecuciones/metricas/resultados_1466_mul_s-RF-RF.csv\n",
      "20231030T053225 : amilcar22 : INFO : Fin guardar fichero ../tfm_git/ejecuciones/metricas/resultados_1466_mul_s-RF-RF.csv\n",
      "20231030T053225 : amilcar22 : INFO : Fin guardar resultados\n"
     ]
    }
   ],
   "source": [
    "fichero_resultados=R_FICHERO+\"_\"+M_TIPO+\"-\"+M_SELECT+\"-\"+M_CLASIF+\".csv\"\n",
    "myfunc.save_resultados_to_csv(M_TIPO, M_SELECT, M_CLASIF,  random_search, myfunc.MET_DIR, fichero_resultados)\n"
   ]
  }
 ],
 "metadata": {
  "kernelspec": {
   "display_name": "Python 3 (ipykernel)",
   "language": "python",
   "name": "python3"
  },
  "language_info": {
   "codemirror_mode": {
    "name": "ipython",
    "version": 3
   },
   "file_extension": ".py",
   "mimetype": "text/x-python",
   "name": "python",
   "nbconvert_exporter": "python",
   "pygments_lexer": "ipython3",
   "version": "3.10.12"
  },
  "papermill": {
   "default_parameters": {},
   "duration": 29.201356,
   "end_time": "2023-10-30T04:32:28.424583",
   "environment_variables": {},
   "exception": null,
   "input_path": "03_entrenamiento.ipynb",
   "output_path": "ejecuciones/training/03_entrenamiento.20231030T053158.param_0000_1466_mul_s_RF_RF.output.ipynb",
   "parameters": {
    "MAX_ITERS": 500,
    "M_CLASIF": "RF",
    "M_FICHERO": "metricas_1466",
    "M_SELECT": "RF",
    "M_TIPO": "mul_s",
    "PRE_DATA_FILE": "rows_transpose_norm_by_gene_id_with_target_num_",
    "P_FICHERO": "param_0000_1466_mul_s_RF_RF.yaml",
    "R_FICHERO": "resultados_1466",
    "SCORING": "roc_auc_ovr",
    "SEMILLA": 1466,
    "eval_clasifier": "RandomForestClassifier(random_state=SEMILLA)",
    "eval_selector": "SelectFromModel(estimator=RandomForestClassifier(random_state=SEMILLA), threshold=-np.inf)",
    "param_distributions": {
     "clasifier__bootstrap": [
      true
     ],
     "clasifier__max_depth": [
      10
     ],
     "clasifier__max_features": [
      1000
     ],
     "clasifier__min_samples_leaf": [
      5
     ],
     "clasifier__min_samples_split": [
      10
     ],
     "clasifier__n_estimators": [
      200
     ],
     "selector__estimator__n_estimators": [
      100
     ],
     "selector__max_features": [
      1000
     ]
    }
   },
   "start_time": "2023-10-30T04:31:59.223227",
   "version": "2.4.0"
  }
 },
 "nbformat": 4,
 "nbformat_minor": 5
}