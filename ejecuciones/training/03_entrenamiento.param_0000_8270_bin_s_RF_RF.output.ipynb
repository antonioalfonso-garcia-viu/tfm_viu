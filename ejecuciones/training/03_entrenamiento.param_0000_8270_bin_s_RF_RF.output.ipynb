{
 "cells": [
  {
   "cell_type": "markdown",
   "id": "b03c71d5",
   "metadata": {
    "papermill": {
     "duration": 0.005631,
     "end_time": "2023-10-29T20:32:37.620539",
     "exception": false,
     "start_time": "2023-10-29T20:32:37.614908",
     "status": "completed"
    },
    "tags": []
   },
   "source": [
    "##### Inicio"
   ]
  },
  {
   "cell_type": "markdown",
   "id": "a2c0325c",
   "metadata": {
    "papermill": {
     "duration": 0.003361,
     "end_time": "2023-10-29T20:32:37.627654",
     "exception": false,
     "start_time": "2023-10-29T20:32:37.624293",
     "status": "completed"
    },
    "tags": []
   },
   "source": [
    "#### Carga de datos"
   ]
  },
  {
   "cell_type": "code",
   "execution_count": 1,
   "id": "9869eff2",
   "metadata": {
    "execution": {
     "iopub.execute_input": "2023-10-29T20:32:37.636009Z",
     "iopub.status.busy": "2023-10-29T20:32:37.635331Z",
     "iopub.status.idle": "2023-10-29T20:32:38.736419Z",
     "shell.execute_reply": "2023-10-29T20:32:38.735652Z"
    },
    "papermill": {
     "duration": 1.106902,
     "end_time": "2023-10-29T20:32:38.737964",
     "exception": false,
     "start_time": "2023-10-29T20:32:37.631062",
     "status": "completed"
    },
    "tags": []
   },
   "outputs": [
    {
     "name": "stdout",
     "output_type": "stream",
     "text": [
      "CPU_COUNT: 16; NODE: enderlab; sys.version: 3.10.11 (main, May 16 2023, 00:28:57) [GCC 11.2.0]\n",
      "LOKY_MAX_CPU_COUNT is not set.\n",
      "OMP_NUM_THREADS is not set.\n"
     ]
    }
   ],
   "source": [
    "import os\n",
    "import numpy as np\n",
    "import pandas as pd\n",
    "import datetime\n",
    "import sklearn\n",
    "import logging\n",
    "import warnings\n",
    "\n",
    "from sklearn.pipeline import Pipeline\n",
    "from sklearn.model_selection import RandomizedSearchCV, KFold, cross_val_score, train_test_split\n",
    "from sklearn.metrics import accuracy_score, confusion_matrix, classification_report, roc_auc_score\n",
    "\n",
    "#  cargar algoritmos para aprendizaje supervisado\n",
    "from sklearn.feature_selection import SelectKBest, f_classif, SelectFromModel, mutual_info_classif\n",
    "from sklearn.svm import SVC\n",
    "from sklearn.ensemble import RandomForestClassifier\n",
    "from sklearn.linear_model import LogisticRegression,LogisticRegressionCV\n",
    "\n",
    "# importar fichero con utilidades propias\n",
    "from commons import myfunctions as myfunc\n"
   ]
  },
  {
   "cell_type": "markdown",
   "id": "c910505d",
   "metadata": {
    "papermill": {
     "duration": 0.014628,
     "end_time": "2023-10-29T20:32:38.756551",
     "exception": false,
     "start_time": "2023-10-29T20:32:38.741923",
     "status": "completed"
    },
    "tags": []
   },
   "source": [
    "#### Parámetros a utilizar en el entrenamiento.\n",
    "\n",
    "Se indican los 3 algoritmos de *selección de características* (eval_selector_xxx) y los 3 algoritmos para la _clasificación_ (eval_clasifier_xxx)\n",
    "\n",
    "En *param_distributions* se indicar los parámetros que utilizan los algoritmos en la función RandomSearchCV.\n",
    "\n",
    "Esta celda tiene la etiqueta **parameters** que servirá para poder lanzar los entrenamientos con la utilidad **papermill** pasándole un fichero con los parámetros. Los nuevos parámetros se situarán tras esta celda para tener prevalencia."
   ]
  },
  {
   "cell_type": "code",
   "execution_count": 2,
   "id": "640e4f72",
   "metadata": {
    "execution": {
     "iopub.execute_input": "2023-10-29T20:32:38.765372Z",
     "iopub.status.busy": "2023-10-29T20:32:38.765009Z",
     "iopub.status.idle": "2023-10-29T20:32:38.773382Z",
     "shell.execute_reply": "2023-10-29T20:32:38.772843Z"
    },
    "papermill": {
     "duration": 0.014129,
     "end_time": "2023-10-29T20:32:38.774562",
     "exception": false,
     "start_time": "2023-10-29T20:32:38.760433",
     "status": "completed"
    },
    "tags": [
     "parameters"
    ]
   },
   "outputs": [
    {
     "name": "stdout",
     "output_type": "stream",
     "text": [
      "20231029T213238 : enderlab : INFO : Utilizando parámetros de mul_m\n"
     ]
    }
   ],
   "source": [
    "#  Parametros para el entrenamiento\n",
    "\n",
    "SEMILLA=        42\n",
    "M_TIPO=         \"mul_m\"\n",
    "M_SELECT=       \"MI\"\n",
    "M_CLASIF=       \"SVM\"\n",
    "R_FICHERO=      \"resultados\"\n",
    "M_FICHERO=      \"metricas\"\n",
    "PRE_DATA_FILE=  \"rows_transpose_norm_by_gene_id_with_target_num_\"\n",
    "SCORING=        \"roc_auc_ovr\" \n",
    "MAX_ITERS=      100\n",
    "\n",
    "def mutual_info_classif_state(X, y):\n",
    "    return mutual_info_classif(X, y, random_state=SEMILLA)\n",
    "\n",
    "eval_selector_mi = \"SelectKBest(score_func=mutual_info_classif_state)\"\n",
    "eval_selector_rf=  \"SelectFromModel(estimator=RandomForestClassifier(random_state=SEMILLA), threshold=-np.inf)\"\n",
    "eval_selector_anova=  \"SelectKBest(score_func=f_classif)\"\n",
    "\n",
    "eval_clasifier_svm= \"SVC(probability=True, random_state=SEMILLA)\"\n",
    "eval_clasifier_rf= \"RandomForestClassifier(random_state=SEMILLA)\"\n",
    "eval_clasifier_lr= \"LogisticRegressionCV(random_state=SEMILLA)\"\n",
    "\n",
    "if M_TIPO.startswith(\"bin_m\"):\n",
    "    myfunc.verbose(f\"Utilizando parámetros de {M_TIPO}\")\n",
    "    eval_selector = eval_selector_mi\n",
    "    eval_clasifier = eval_clasifier_svm\n",
    "\n",
    "    SEMILLA = 6578\n",
    "    M_SELECT = \"MI\"\n",
    "    M_CLASIF = \"SVM\"\n",
    "    param_distributions = {'selector__k': [1000], \n",
    "         'clasifier__kernel': ['rbf'], 'clasifier__gamma': [0.01], 'clasifier__C': [100]}\n",
    "elif M_TIPO.startswith(\"bin_s\"):\n",
    "    myfunc.verbose(f\"Utilizando parámetros de {M_TIPO}\")\n",
    "    eval_selector = eval_selector_rf\n",
    "    eval_clasifier = eval_clasifier_lr\n",
    "\n",
    "    SEMILLA = 6191\n",
    "    M_SELECT = \"RF\"\n",
    "    M_CLASIF = \"LR_L2\"\n",
    "    param_distributions = {'selector__max_features': [1000], 'selector__estimator__n_estimators': [200], \n",
    "        'clasifier__solver': ['lbfgs'], 'clasifier__penalty': ['l2'], 'clasifier__max_iter': [10000]}\n",
    "\n",
    "elif M_TIPO.startswith(\"mul_m\"):\n",
    "    myfunc.verbose(f\"Utilizando parámetros de {M_TIPO}\")\n",
    " \n",
    "    eval_selector = eval_selector_rf\n",
    "    eval_clasifier = eval_clasifier_lr\n",
    "\n",
    "    SEMILLA = 6191\n",
    "    M_SELECT = \"RF\"\n",
    "    M_CLASIF = \"LR_L2\"\n",
    "    param_distributions = {'selector__max_features': [1000], 'selector__estimator__n_estimators': [400], \n",
    "        'clasifier__solver': ['lbfgs'], 'clasifier__penalty': ['l2'], 'clasifier__max_iter': [10000]}\n",
    "\n",
    "else:\n",
    "    # M_TIPO.startswith(\"mul_s\"):\n",
    "    myfunc.verbose(f\"Utilizando parámetros de {M_TIPO}\")\n",
    "    eval_selector = eval_selector_anova\n",
    "    eval_clasifier = eval_clasifier_lr\n",
    "\n",
    "    SEMILLA = 1860\n",
    "    M_SELECT = \"ANOVA\"\n",
    "    M_CLASIF = \"LR_L2\"\n",
    "    param_distributions = {'selector__k': [1000], \n",
    "        'clasifier__solver': ['saga'], 'clasifier__penalty': ['l2'], 'clasifier__max_iter': [10000]}\n",
    "\n"
   ]
  },
  {
   "cell_type": "code",
   "execution_count": 3,
   "id": "80350f0a",
   "metadata": {
    "execution": {
     "iopub.execute_input": "2023-10-29T20:32:38.782938Z",
     "iopub.status.busy": "2023-10-29T20:32:38.782481Z",
     "iopub.status.idle": "2023-10-29T20:32:38.786516Z",
     "shell.execute_reply": "2023-10-29T20:32:38.786009Z"
    },
    "papermill": {
     "duration": 0.009491,
     "end_time": "2023-10-29T20:32:38.787767",
     "exception": false,
     "start_time": "2023-10-29T20:32:38.778276",
     "status": "completed"
    },
    "tags": [
     "injected-parameters"
    ]
   },
   "outputs": [],
   "source": [
    "# Parameters\n",
    "M_TIPO = \"bin_s\"\n",
    "M_SELECT = \"RF\"\n",
    "M_CLASIF = \"RF\"\n",
    "P_FICHERO = \"param_0000_8270_bin_s_RF_RF.yaml\"\n",
    "R_FICHERO = \"resultados_8270\"\n",
    "M_FICHERO = \"metricas_8270\"\n",
    "PRE_DATA_FILE = \"rows_transpose_norm_by_gene_id_with_target_num_\"\n",
    "SCORING = \"roc_auc_ovr\"\n",
    "SEMILLA = 8270\n",
    "MAX_ITERS = 500\n",
    "eval_selector = \"SelectFromModel(estimator=RandomForestClassifier(random_state=SEMILLA), threshold=-np.inf)\"\n",
    "eval_clasifier = \"RandomForestClassifier(random_state=SEMILLA)\"\n",
    "param_distributions = {\n",
    "    \"selector__max_features\": [500],\n",
    "    \"selector__estimator__n_estimators\": [400],\n",
    "    \"clasifier__n_estimators\": [400],\n",
    "    \"clasifier__min_samples_split\": [10],\n",
    "    \"clasifier__min_samples_leaf\": [5],\n",
    "    \"clasifier__max_features\": [200],\n",
    "    \"clasifier__max_depth\": [10],\n",
    "    \"clasifier__bootstrap\": [True],\n",
    "}\n"
   ]
  },
  {
   "cell_type": "code",
   "execution_count": 4,
   "id": "a2ea703d",
   "metadata": {
    "execution": {
     "iopub.execute_input": "2023-10-29T20:32:38.796029Z",
     "iopub.status.busy": "2023-10-29T20:32:38.795562Z",
     "iopub.status.idle": "2023-10-29T20:32:38.798812Z",
     "shell.execute_reply": "2023-10-29T20:32:38.798287Z"
    },
    "papermill": {
     "duration": 0.008803,
     "end_time": "2023-10-29T20:32:38.800081",
     "exception": false,
     "start_time": "2023-10-29T20:32:38.791278",
     "status": "completed"
    },
    "tags": []
   },
   "outputs": [],
   "source": [
    "DATA_FILE = PRE_DATA_FILE + M_TIPO\n",
    "\n",
    "# si viene \"None\" en el parámetro max_depth, se le quitan las comillas para que no sea entendido por el algoritmo como un texto\n",
    "if \"clasifier__max_depth\" in param_distributions:\n",
    "    param_distributions['clasifier__max_depth'] = [None if x == 'None' else x for x in param_distributions['clasifier__max_depth']]"
   ]
  },
  {
   "cell_type": "markdown",
   "id": "f99ca0a7",
   "metadata": {
    "papermill": {
     "duration": 0.003634,
     "end_time": "2023-10-29T20:32:38.807293",
     "exception": false,
     "start_time": "2023-10-29T20:32:38.803659",
     "status": "completed"
    },
    "tags": []
   },
   "source": [
    "Asignar los algoritmos que se utilizarán en la función RandomSearchCV"
   ]
  },
  {
   "cell_type": "code",
   "execution_count": 5,
   "id": "e4d92e06",
   "metadata": {
    "execution": {
     "iopub.execute_input": "2023-10-29T20:32:38.815620Z",
     "iopub.status.busy": "2023-10-29T20:32:38.815249Z",
     "iopub.status.idle": "2023-10-29T20:32:38.818147Z",
     "shell.execute_reply": "2023-10-29T20:32:38.817604Z"
    },
    "papermill": {
     "duration": 0.008396,
     "end_time": "2023-10-29T20:32:38.819371",
     "exception": false,
     "start_time": "2023-10-29T20:32:38.810975",
     "status": "completed"
    },
    "tags": []
   },
   "outputs": [],
   "source": [
    "algor_selector=eval(eval_selector)\n",
    "algor_clasifier=eval(eval_clasifier)"
   ]
  },
  {
   "cell_type": "markdown",
   "id": "2a4e3920",
   "metadata": {
    "papermill": {
     "duration": 0.003642,
     "end_time": "2023-10-29T20:32:38.826578",
     "exception": false,
     "start_time": "2023-10-29T20:32:38.822936",
     "status": "completed"
    },
    "tags": []
   },
   "source": [
    "#### Comprobar el entorno y leer fichero de muestras"
   ]
  },
  {
   "cell_type": "code",
   "execution_count": 6,
   "id": "83d82073",
   "metadata": {
    "execution": {
     "iopub.execute_input": "2023-10-29T20:32:38.835143Z",
     "iopub.status.busy": "2023-10-29T20:32:38.834668Z",
     "iopub.status.idle": "2023-10-29T20:32:39.074398Z",
     "shell.execute_reply": "2023-10-29T20:32:39.073768Z"
    },
    "papermill": {
     "duration": 0.245493,
     "end_time": "2023-10-29T20:32:39.075726",
     "exception": false,
     "start_time": "2023-10-29T20:32:38.830233",
     "status": "completed"
    },
    "tags": []
   },
   "outputs": [
    {
     "name": "stdout",
     "output_type": "stream",
     "text": [
      "20231029T213238 : enderlab : INFO : Encontrada carpeta DATA_DIR=../tfm_git/datos\n",
      "20231029T213238 : enderlab : INFO : Encontrada carpeta CFDNA_DIR=../tfm_git/datos/cfDNA_5hmC\n",
      "20231029T213238 : enderlab : INFO : Encontrada carpeta GENCODE_DIR=../tfm_git/datos/gencode\n",
      "20231029T213238 : enderlab : INFO : Encontrada carpeta H5_DIR=../tfm_git/datos/h5\n",
      "20231029T213238 : enderlab : INFO : Encontrada carpeta LOG_DIR=../tfm_git/datos/logs\n",
      "20231029T213238 : enderlab : INFO : Encontrada carpeta CSV_DIR=../tfm_git/datos/csv\n",
      "20231029T213238 : enderlab : INFO : Encontrada carpeta MODEL_DIR=../tfm_git/ejecuciones/modelos\n",
      "20231029T213238 : enderlab : INFO : Encontrada carpeta EXEC_DIR=../tfm_git/ejecuciones\n",
      "20231029T213238 : enderlab : INFO : Encontrada carpeta MET_DIR=../tfm_git/ejecuciones/metricas\n",
      "20231029T213238 : enderlab : INFO : Inicio leer fichero h5 ../tfm_git/datos/h5/rows_transpose_norm_by_gene_id_with_target_num_bin_s.h5\n",
      "20231029T213238 : enderlab : INFO : Leyendo clave /df\n"
     ]
    },
    {
     "name": "stdout",
     "output_type": "stream",
     "text": [
      "20231029T213238 : enderlab : INFO : Tamaño (443, 18876)\n",
      "20231029T213238 : enderlab : INFO : Fin leer fichero h5 ../tfm_git/datos/h5/rows_transpose_norm_by_gene_id_with_target_num_bin_s.h5\n"
     ]
    },
    {
     "data": {
      "text/plain": [
       "target\n",
       "0    221\n",
       "1    222\n",
       "dtype: int64"
      ]
     },
     "metadata": {},
     "output_type": "display_data"
    },
    {
     "name": "stdout",
     "output_type": "stream",
     "text": [
      "Shape df: (443, 18876)\n"
     ]
    },
    {
     "name": "stdout",
     "output_type": "stream",
     "text": [
      "Shape X_train: (354, 18875)\n",
      "Shape X_test: (89, 18875)\n"
     ]
    }
   ],
   "source": [
    "start_time = datetime.datetime.now()\n",
    "\n",
    "myfunc.reset_vars()\n",
    "\n",
    "myfunc.NOTEBK_FILENAME = myfunc.get_nb_name()\n",
    "\n",
    "myfunc.check_enviroment(myfunc.DATA_DIR, myfunc.CFDNA_DIR, myfunc.GENCODE_DIR, myfunc.H5_DIR, myfunc.LOG_DIR, myfunc.CSV_DIR, myfunc.MODEL_DIR, myfunc.EXEC_DIR, myfunc.MET_DIR)\n",
    "\n",
    "# Leer fichero con las muestras\n",
    "df_t = myfunc.read_h5_to_df(DATA_FILE, myfunc.H5_DIR)\n",
    "display(df_t.groupby(\"target\").size())\n",
    "print(\"Shape df:\",df_t.shape)\n",
    "\n",
    "# Separar caracteristicas/genes de las etiquetas/tipos de cáncer\n",
    "X = df_t.iloc[:, :-1]  # Todas las columnas excepto la última\n",
    "y = df_t.iloc[:, -1]  # La última columna contiene los identificadores de los tipos de cáncer\n",
    "\n",
    "#  Crear el conjunto de datos de entrenamiento y de pruebas, y se fija la semilla para siempre coger el mismo juego de muestras\n",
    "X_train, X_test, y_train, y_test = train_test_split(X, y, test_size=0.2, shuffle=True, random_state=42)\n",
    "print(\"Shape X_train:\",X_train.shape)\n",
    "print(\"Shape X_test:\",X_test.shape)\n"
   ]
  },
  {
   "cell_type": "markdown",
   "id": "d6e319ac",
   "metadata": {
    "papermill": {
     "duration": 0.004169,
     "end_time": "2023-10-29T20:32:39.084996",
     "exception": false,
     "start_time": "2023-10-29T20:32:39.080827",
     "status": "completed"
    },
    "tags": []
   },
   "source": [
    "#### Selección de características y clasificación."
   ]
  },
  {
   "cell_type": "code",
   "execution_count": 7,
   "id": "1b6b42c2",
   "metadata": {
    "execution": {
     "iopub.execute_input": "2023-10-29T20:32:39.100534Z",
     "iopub.status.busy": "2023-10-29T20:32:39.099972Z",
     "iopub.status.idle": "2023-10-29T20:33:12.425342Z",
     "shell.execute_reply": "2023-10-29T20:33:12.423861Z"
    },
    "papermill": {
     "duration": 33.340866,
     "end_time": "2023-10-29T20:33:12.429777",
     "exception": false,
     "start_time": "2023-10-29T20:32:39.088911",
     "status": "completed"
    },
    "tags": []
   },
   "outputs": [
    {
     "name": "stdout",
     "output_type": "stream",
     "text": [
      "20231029T213239 : enderlab : INFO : Iniciando entrenamiento\n",
      "num_iter: 1 , max_iter: 1\n",
      "Fitting 5 folds for each of 1 candidates, totalling 5 fits\n"
     ]
    },
    {
     "name": "stdout",
     "output_type": "stream",
     "text": [
      "Mejores Hiperparámetros: {'selector__max_features': 500, 'selector__estimator__n_estimators': 400, 'clasifier__n_estimators': 400, 'clasifier__min_samples_split': 10, 'clasifier__min_samples_leaf': 5, 'clasifier__max_features': 200, 'clasifier__max_depth': 10, 'clasifier__bootstrap': True}\n",
      "Mejor Puntuación: 0.7687\n",
      "20231029T213312 : enderlab : INFO : Fin entrenamiento\n"
     ]
    }
   ],
   "source": [
    "myfunc.verbose(\"Iniciando entrenamiento\")\n",
    "\n",
    "kf = KFold(n_splits=5, shuffle=True, random_state=SEMILLA)\n",
    "\n",
    "# Crear el pipeline para el flujo de tareas\n",
    "tasks_pipeline = Pipeline([\n",
    "    ('selector', algor_selector),\n",
    "    ('clasifier', algor_clasifier)\n",
    "])\n",
    "\n",
    "# MAX_ITERS puede limitar el número de iteraciones si son excesivas para las combinaciones de parámetros buscando un óptimo local, \n",
    "# sino funcionaría como GridSearchCV al revisar todas las cominaciones de los parámetros\n",
    "num_iteraciones = 1\n",
    "num_iteraciones = num_iteraciones * np.prod([len(elemento1) for _, elemento1 in param_distributions.items()])\n",
    "max_iteraciones = num_iteraciones if num_iteraciones <= MAX_ITERS else MAX_ITERS\n",
    "print(\"num_iter:\",num_iteraciones,\", max_iter:\",max_iteraciones)\n",
    "\n",
    "random_search = RandomizedSearchCV(\n",
    "    tasks_pipeline, \n",
    "    param_distributions, \n",
    "    n_iter=max_iteraciones,\n",
    "    scoring=SCORING,\n",
    "    cv=kf,\n",
    "    verbose=3, \n",
    "    random_state=SEMILLA, \n",
    "    n_jobs=-1\n",
    "    )\n",
    "\n",
    "# Entrenar el modelo\n",
    "random_search.fit(X_train, y_train)\n",
    "\n",
    "# Ver los mejores hiperparámetros encontrados\n",
    "print(f'Mejores Hiperparámetros: {random_search.best_params_}')\n",
    "print(f'Mejor Puntuación: {random_search.best_score_:.4f}')\n",
    "\n",
    "# Nos quedamos con el mejor modelo para ver las métricas\n",
    "mejor_modelo = random_search.best_estimator_\n",
    "\n",
    "myfunc.verbose(\"Fin entrenamiento\")"
   ]
  },
  {
   "cell_type": "markdown",
   "id": "d0a2e19c",
   "metadata": {
    "papermill": {
     "duration": 0.004256,
     "end_time": "2023-10-29T20:33:12.438749",
     "exception": false,
     "start_time": "2023-10-29T20:33:12.434493",
     "status": "completed"
    },
    "tags": []
   },
   "source": [
    "#### Guardar modelo"
   ]
  },
  {
   "cell_type": "code",
   "execution_count": 8,
   "id": "c3ab5481",
   "metadata": {
    "execution": {
     "iopub.execute_input": "2023-10-29T20:33:12.448973Z",
     "iopub.status.busy": "2023-10-29T20:33:12.448662Z",
     "iopub.status.idle": "2023-10-29T20:33:12.756304Z",
     "shell.execute_reply": "2023-10-29T20:33:12.755698Z"
    },
    "papermill": {
     "duration": 0.314847,
     "end_time": "2023-10-29T20:33:12.757613",
     "exception": false,
     "start_time": "2023-10-29T20:33:12.442766",
     "status": "completed"
    },
    "tags": []
   },
   "outputs": [
    {
     "name": "stdout",
     "output_type": "stream",
     "text": [
      "20231029T213312 : enderlab : INFO : Inicio guardar fichero ../tfm_git/ejecuciones/modelos/modelo_8270_bin_s_RF_RF.pkl\n"
     ]
    },
    {
     "name": "stdout",
     "output_type": "stream",
     "text": [
      "20231029T213312 : enderlab : INFO : Fin guardar fichero ../tfm_git/ejecuciones/modelos/modelo_8270_bin_s_RF_RF.pkl\n"
     ]
    }
   ],
   "source": [
    "fichero_modelo = str.replace(\"modelo_\"+str(SEMILLA).zfill(4)+\"_\"+M_TIPO+\"_\"+M_SELECT+\"_\"+M_CLASIF+\".pkl\", \" \", \"_\")\n",
    "\n",
    "myfunc.save_modelo(mejor_modelo, myfunc.MODEL_DIR, fichero_modelo)"
   ]
  },
  {
   "cell_type": "markdown",
   "id": "10d15831",
   "metadata": {
    "papermill": {
     "duration": 0.004243,
     "end_time": "2023-10-29T20:33:12.766538",
     "exception": false,
     "start_time": "2023-10-29T20:33:12.762295",
     "status": "completed"
    },
    "tags": []
   },
   "source": [
    "#### Ver resultados del las iteraciones hechas por RandomSearchCV"
   ]
  },
  {
   "cell_type": "code",
   "execution_count": 9,
   "id": "9cc6a538",
   "metadata": {
    "execution": {
     "iopub.execute_input": "2023-10-29T20:33:12.776120Z",
     "iopub.status.busy": "2023-10-29T20:33:12.775642Z",
     "iopub.status.idle": "2023-10-29T20:33:12.785805Z",
     "shell.execute_reply": "2023-10-29T20:33:12.785233Z"
    },
    "papermill": {
     "duration": 0.016372,
     "end_time": "2023-10-29T20:33:12.787054",
     "exception": false,
     "start_time": "2023-10-29T20:33:12.770682",
     "status": "completed"
    },
    "tags": []
   },
   "outputs": [
    {
     "name": "stdout",
     "output_type": "stream",
     "text": [
      "20231029T213312 : enderlab : INFO : Inicio ver resultados\n",
      "Mejores Hiperparámetros: {'selector__max_features': 500, 'selector__estimator__n_estimators': 400, 'clasifier__n_estimators': 400, 'clasifier__min_samples_split': 10, 'clasifier__min_samples_leaf': 5, 'clasifier__max_features': 200, 'clasifier__max_depth': 10, 'clasifier__bootstrap': True}\n",
      "Mejores puntuaciones: 0.7687 | Params: {'selector__max_features': 500, 'selector__estimator__n_estimators': 400, 'clasifier__n_estimators': 400, 'clasifier__min_samples_split': 10, 'clasifier__min_samples_leaf': 5, 'clasifier__max_features': 200, 'clasifier__max_depth': 10, 'clasifier__bootstrap': True}\n",
      "Media de las puntuaciones: 0.7687 | Params: {'selector__max_features': 500, 'selector__estimator__n_estimators': 400, 'clasifier__n_estimators': 400, 'clasifier__min_samples_split': 10, 'clasifier__min_samples_leaf': 5, 'clasifier__max_features': 200, 'clasifier__max_depth': 10, 'clasifier__bootstrap': True}\n",
      "20231029T213312 : enderlab : INFO : Fin resultados\n"
     ]
    }
   ],
   "source": [
    "myfunc.ver_resultados_search(random_search)"
   ]
  },
  {
   "cell_type": "markdown",
   "id": "75ab289d",
   "metadata": {
    "papermill": {
     "duration": 0.0044,
     "end_time": "2023-10-29T20:33:12.795682",
     "exception": false,
     "start_time": "2023-10-29T20:33:12.791282",
     "status": "completed"
    },
    "tags": []
   },
   "source": [
    "#### Ver métricas del mejor modelo"
   ]
  },
  {
   "cell_type": "code",
   "execution_count": 10,
   "id": "8435ee36",
   "metadata": {
    "execution": {
     "iopub.execute_input": "2023-10-29T20:33:12.807216Z",
     "iopub.status.busy": "2023-10-29T20:33:12.806740Z",
     "iopub.status.idle": "2023-10-29T20:33:13.841301Z",
     "shell.execute_reply": "2023-10-29T20:33:13.840698Z"
    },
    "papermill": {
     "duration": 1.042749,
     "end_time": "2023-10-29T20:33:13.842643",
     "exception": false,
     "start_time": "2023-10-29T20:33:12.799894",
     "status": "completed"
    },
    "tags": []
   },
   "outputs": [
    {
     "name": "stdout",
     "output_type": "stream",
     "text": [
      "20231029T213312 : enderlab : INFO : Inicio ver métricas\n"
     ]
    },
    {
     "name": "stdout",
     "output_type": "stream",
     "text": [
      "              precision    recall  f1-score   support\n",
      "\n",
      "           0       0.60      0.61      0.60        46\n",
      "           1       0.57      0.56      0.56        43\n",
      "\n",
      "    accuracy                           0.58        89\n",
      "   macro avg       0.58      0.58      0.58        89\n",
      "weighted avg       0.58      0.58      0.58        89\n",
      "\n",
      "\n",
      "\n",
      "   Exactitud: 0.5843\n",
      "   Precisión: 0.5836\n",
      "Sensibilidad: 0.5834\n",
      "    F1-score: 0.5834\n",
      "     AUC ROC: 0.7149\n"
     ]
    },
    {
     "data": {
      "image/png": "[encoded data removed]",
      "text/plain": [
       "<Figure size 300x100 with 2 Axes>"
      ]
     },
     "metadata": {},
     "output_type": "display_data"
    },
    {
     "data": {
      "image/png": "[encoded data removed]",
      "text/plain": [
       "<Figure size 800x500 with 1 Axes>"
      ]
     },
     "metadata": {},
     "output_type": "display_data"
    },
    {
     "name": "stdout",
     "output_type": "stream",
     "text": [
      "20231029T213313 : enderlab : INFO : Fin ver métricas\n"
     ]
    }
   ],
   "source": [
    "if M_TIPO.startswith(\"bin\"):\n",
    "    myfunc.ver_metricas(mejor_modelo, X_test, y_test)\n",
    "else:\n",
    "    myfunc.ver_metricas_multi(mejor_modelo, X_test, y_test)\n"
   ]
  },
  {
   "cell_type": "markdown",
   "id": "2ba20e73",
   "metadata": {
    "papermill": {
     "duration": 0.005414,
     "end_time": "2023-10-29T20:33:13.854055",
     "exception": false,
     "start_time": "2023-10-29T20:33:13.848641",
     "status": "completed"
    },
    "tags": []
   },
   "source": [
    "#### Finalización del notebook"
   ]
  },
  {
   "cell_type": "code",
   "execution_count": 11,
   "id": "6e3a1e6e",
   "metadata": {
    "execution": {
     "iopub.execute_input": "2023-10-29T20:33:13.865547Z",
     "iopub.status.busy": "2023-10-29T20:33:13.865064Z",
     "iopub.status.idle": "2023-10-29T20:33:13.868834Z",
     "shell.execute_reply": "2023-10-29T20:33:13.868304Z"
    },
    "papermill": {
     "duration": 0.010815,
     "end_time": "2023-10-29T20:33:13.870040",
     "exception": false,
     "start_time": "2023-10-29T20:33:13.859225",
     "status": "completed"
    },
    "tags": []
   },
   "outputs": [
    {
     "name": "stdout",
     "output_type": "stream",
     "text": [
      "20231029T213313 : enderlab : INFO : Notebook ha tardado 35 seconds\n"
     ]
    }
   ],
   "source": [
    "end_time = datetime.datetime.now()\n",
    "total_time = end_time - start_time\n",
    "myfunc.verbose(f\"Notebook ha tardado {total_time.seconds} seconds\")"
   ]
  },
  {
   "cell_type": "markdown",
   "id": "d25811de",
   "metadata": {
    "papermill": {
     "duration": 0.005409,
     "end_time": "2023-10-29T20:33:13.880578",
     "exception": false,
     "start_time": "2023-10-29T20:33:13.875169",
     "status": "completed"
    },
    "tags": []
   },
   "source": [
    "#### Guardar métricas"
   ]
  },
  {
   "cell_type": "code",
   "execution_count": 12,
   "id": "4be0e25d",
   "metadata": {
    "execution": {
     "iopub.execute_input": "2023-10-29T20:33:13.892248Z",
     "iopub.status.busy": "2023-10-29T20:33:13.891776Z",
     "iopub.status.idle": "2023-10-29T20:33:15.019663Z",
     "shell.execute_reply": "2023-10-29T20:33:15.019094Z"
    },
    "papermill": {
     "duration": 1.135207,
     "end_time": "2023-10-29T20:33:15.021000",
     "exception": false,
     "start_time": "2023-10-29T20:33:13.885793",
     "status": "completed"
    },
    "tags": []
   },
   "outputs": [
    {
     "name": "stdout",
     "output_type": "stream",
     "text": [
      "20231029T213314 : enderlab : INFO : Inicio guardar métricas\n",
      "20231029T213314 : enderlab : INFO : Inicio leer fichero ../tfm_git/ejecuciones/metricas/metricas_8270.csv\n",
      "20231029T213314 : enderlab : INFO : Fin leer fichero ../tfm_git/ejecuciones/metricas/metricas_8270.csv\n"
     ]
    },
    {
     "name": "stdout",
     "output_type": "stream",
     "text": [
      "20231029T213314 : enderlab : INFO : Inicio guardar fichero ../tfm_git/ejecuciones/metricas/metricas_8270.csv\n",
      "20231029T213314 : enderlab : INFO : Fichero borrado ../tfm_git/ejecuciones/metricas/metricas_8270.csv\n",
      "20231029T213314 : enderlab : INFO : Fin guardar fichero ../tfm_git/ejecuciones/metricas/metricas_8270.csv\n",
      "20231029T213314 : enderlab : INFO : Fin guardar métricas\n",
      "20231029T213314 : enderlab : INFO : Inicio leer fichero ../tfm_git/ejecuciones/metricas/metricas_8270.csv\n",
      "20231029T213315 : enderlab : INFO : Fin leer fichero ../tfm_git/ejecuciones/metricas/metricas_8270.csv\n"
     ]
    },
    {
     "data": {
      "text/html": [
       "<div>\n",
       "<style scoped>\n",
       "    .dataframe tbody tr th:only-of-type {\n",
       "        vertical-align: middle;\n",
       "    }\n",
       "\n",
       "    .dataframe tbody tr th {\n",
       "        vertical-align: top;\n",
       "    }\n",
       "\n",
       "    .dataframe thead th {\n",
       "        text-align: right;\n",
       "    }\n",
       "</style>\n",
       "<table border=\"1\" class=\"dataframe\">\n",
       "  <thead>\n",
       "    <tr style=\"text-align: right;\">\n",
       "      <th></th>\n",
       "      <th>tipo</th>\n",
       "      <th>select</th>\n",
       "      <th>clasific</th>\n",
       "      <th>semilla</th>\n",
       "      <th>accuracy</th>\n",
       "      <th>precision</th>\n",
       "      <th>recall</th>\n",
       "      <th>f1_score</th>\n",
       "      <th>roc_auc</th>\n",
       "      <th>hostname</th>\n",
       "      <th>total_time_sec</th>\n",
       "      <th>datetime</th>\n",
       "      <th>fichero_modelo</th>\n",
       "      <th>params</th>\n",
       "      <th>shape</th>\n",
       "      <th>features</th>\n",
       "    </tr>\n",
       "  </thead>\n",
       "  <tbody>\n",
       "    <tr>\n",
       "      <th>0</th>\n",
       "      <td>bin_s</td>\n",
       "      <td>RF</td>\n",
       "      <td>RF</td>\n",
       "      <td>8270</td>\n",
       "      <td>0.584270</td>\n",
       "      <td>0.583587</td>\n",
       "      <td>0.583418</td>\n",
       "      <td>0.583428</td>\n",
       "      <td>0.714863</td>\n",
       "      <td>enderlab</td>\n",
       "      <td>35</td>\n",
       "      <td>2023-10-29 21:33:14.981302</td>\n",
       "      <td>modelo_8270_bin_s_RF_RF.pkl</td>\n",
       "      <td>{'selector__max_features': 500, 'selector__est...</td>\n",
       "      <td>X_test:(89, 18875)</td>\n",
       "      <td>['ENSG00000000971.17', 'ENSG00000002587.10', '...</td>\n",
       "    </tr>\n",
       "    <tr>\n",
       "      <th>0</th>\n",
       "      <td>bin_s</td>\n",
       "      <td>RF</td>\n",
       "      <td>LR_L2</td>\n",
       "      <td>8270</td>\n",
       "      <td>0.730337</td>\n",
       "      <td>0.730030</td>\n",
       "      <td>0.730030</td>\n",
       "      <td>0.730030</td>\n",
       "      <td>0.810920</td>\n",
       "      <td>enderlab</td>\n",
       "      <td>14</td>\n",
       "      <td>2023-10-29 21:32:32.081408</td>\n",
       "      <td>modelo_8270_bin_s_RF_LR_L2.pkl</td>\n",
       "      <td>{'selector__max_features': 1000, 'selector__es...</td>\n",
       "      <td>X_test:(89, 18875)</td>\n",
       "      <td>['ENSG00000000938.13', 'ENSG00000002587.10', '...</td>\n",
       "    </tr>\n",
       "    <tr>\n",
       "      <th>0</th>\n",
       "      <td>bin_s</td>\n",
       "      <td>RF</td>\n",
       "      <td>LR_L1</td>\n",
       "      <td>8270</td>\n",
       "      <td>0.707865</td>\n",
       "      <td>0.707825</td>\n",
       "      <td>0.706775</td>\n",
       "      <td>0.706940</td>\n",
       "      <td>0.769970</td>\n",
       "      <td>enderlab</td>\n",
       "      <td>376</td>\n",
       "      <td>2023-10-29 21:32:10.860854</td>\n",
       "      <td>modelo_8270_bin_s_RF_LR_L1.pkl</td>\n",
       "      <td>{'selector__max_features': 1000, 'selector__es...</td>\n",
       "      <td>X_test:(89, 18875)</td>\n",
       "      <td>['ENSG00000000938.13', 'ENSG00000004059.11', '...</td>\n",
       "    </tr>\n",
       "  </tbody>\n",
       "</table>\n",
       "</div>"
      ],
      "text/plain": [
       "    tipo select clasific  semilla  accuracy  precision    recall  f1_score  \\\n",
       "0  bin_s     RF       RF     8270  0.584270   0.583587  0.583418  0.583428   \n",
       "0  bin_s     RF    LR_L2     8270  0.730337   0.730030  0.730030  0.730030   \n",
       "0  bin_s     RF    LR_L1     8270  0.707865   0.707825  0.706775  0.706940   \n",
       "\n",
       "    roc_auc  hostname  total_time_sec                    datetime  \\\n",
       "0  0.714863  enderlab              35  2023-10-29 21:33:14.981302   \n",
       "0  0.810920  enderlab              14  2023-10-29 21:32:32.081408   \n",
       "0  0.769970  enderlab             376  2023-10-29 21:32:10.860854   \n",
       "\n",
       "                   fichero_modelo  \\\n",
       "0     modelo_8270_bin_s_RF_RF.pkl   \n",
       "0  modelo_8270_bin_s_RF_LR_L2.pkl   \n",
       "0  modelo_8270_bin_s_RF_LR_L1.pkl   \n",
       "\n",
       "                                              params               shape  \\\n",
       "0  {'selector__max_features': 500, 'selector__est...  X_test:(89, 18875)   \n",
       "0  {'selector__max_features': 1000, 'selector__es...  X_test:(89, 18875)   \n",
       "0  {'selector__max_features': 1000, 'selector__es...  X_test:(89, 18875)   \n",
       "\n",
       "                                            features  \n",
       "0  ['ENSG00000000971.17', 'ENSG00000002587.10', '...  \n",
       "0  ['ENSG00000000938.13', 'ENSG00000002587.10', '...  \n",
       "0  ['ENSG00000000938.13', 'ENSG00000004059.11', '...  "
      ]
     },
     "metadata": {},
     "output_type": "display_data"
    }
   ],
   "source": [
    "if M_TIPO.startswith(\"bin\"):\n",
    "    myfunc.save_metricas_to_csv(random_search, X_test, y_test, M_TIPO, M_SELECT, M_CLASIF, total_time, SEMILLA, myfunc.MET_DIR, M_FICHERO, fichero_modelo)\n",
    "else:\n",
    "    myfunc.save_metricas_multi_to_csv(random_search, X_test, y_test, M_TIPO, M_SELECT, M_CLASIF, total_time, SEMILLA, myfunc.MET_DIR, M_FICHERO, fichero_modelo)\n",
    "\n",
    "df1=myfunc.read_metricas_to_df(myfunc.MET_DIR,M_FICHERO)\n",
    "\n",
    "display(df1.sort_values(\"datetime\", ascending=False)[:3])\n"
   ]
  },
  {
   "cell_type": "markdown",
   "id": "352aaf08",
   "metadata": {
    "papermill": {
     "duration": 0.005679,
     "end_time": "2023-10-29T20:33:15.032726",
     "exception": false,
     "start_time": "2023-10-29T20:33:15.027047",
     "status": "completed"
    },
    "tags": []
   },
   "source": [
    "#### Guardar resultados"
   ]
  },
  {
   "cell_type": "code",
   "execution_count": 13,
   "id": "9d3697ed",
   "metadata": {
    "execution": {
     "iopub.execute_input": "2023-10-29T20:33:15.044946Z",
     "iopub.status.busy": "2023-10-29T20:33:15.044487Z",
     "iopub.status.idle": "2023-10-29T20:33:15.053725Z",
     "shell.execute_reply": "2023-10-29T20:33:15.053176Z"
    },
    "papermill": {
     "duration": 0.016707,
     "end_time": "2023-10-29T20:33:15.054920",
     "exception": false,
     "start_time": "2023-10-29T20:33:15.038213",
     "status": "completed"
    },
    "tags": []
   },
   "outputs": [
    {
     "name": "stdout",
     "output_type": "stream",
     "text": [
      "20231029T213315 : enderlab : INFO : Inicio guardar resultados\n",
      "20231029T213315 : enderlab : INFO : Inicio guardar fichero ../tfm_git/ejecuciones/metricas/resultados_8270_bin_s-RF-RF.csv\n",
      "20231029T213315 : enderlab : INFO : Fin guardar fichero ../tfm_git/ejecuciones/metricas/resultados_8270_bin_s-RF-RF.csv\n",
      "20231029T213315 : enderlab : INFO : Fin guardar resultados\n"
     ]
    }
   ],
   "source": [
    "fichero_resultados=R_FICHERO+\"_\"+M_TIPO+\"-\"+M_SELECT+\"-\"+M_CLASIF+\".csv\"\n",
    "myfunc.save_resultados_to_csv(M_TIPO, M_SELECT, M_CLASIF,  random_search, myfunc.MET_DIR, fichero_resultados)\n"
   ]
  }
 ],
 "metadata": {
  "kernelspec": {
   "display_name": "Python 3 (ipykernel)",
   "language": "python",
   "name": "python3"
  },
  "language_info": {
   "codemirror_mode": {
    "name": "ipython",
    "version": 3
   },
   "file_extension": ".py",
   "mimetype": "text/x-python",
   "name": "python",
   "nbconvert_exporter": "python",
   "pygments_lexer": "ipython3",
   "version": "3.10.11"
  },
  "papermill": {
   "default_parameters": {},
   "duration": 41.247956,
   "end_time": "2023-10-29T20:33:17.676910",
   "environment_variables": {},
   "exception": null,
   "input_path": "03_entrenamiento.ipynb",
   "output_path": "ejecuciones/training/03_entrenamiento.20231029T213235.param_0000_8270_bin_s_RF_RF.output.ipynb",
   "parameters": {
    "MAX_ITERS": 500,
    "M_CLASIF": "RF",
    "M_FICHERO": "metricas_8270",
    "M_SELECT": "RF",
    "M_TIPO": "bin_s",
    "PRE_DATA_FILE": "rows_transpose_norm_by_gene_id_with_target_num_",
    "P_FICHERO": "param_0000_8270_bin_s_RF_RF.yaml",
    "R_FICHERO": "resultados_8270",
    "SCORING": "roc_auc_ovr",
    "SEMILLA": 8270,
    "eval_clasifier": "RandomForestClassifier(random_state=SEMILLA)",
    "eval_selector": "SelectFromModel(estimator=RandomForestClassifier(random_state=SEMILLA), threshold=-np.inf)",
    "param_distributions": {
     "clasifier__bootstrap": [
      true
     ],
     "clasifier__max_depth": [
      10
     ],
     "clasifier__max_features": [
      200
     ],
     "clasifier__min_samples_leaf": [
      5
     ],
     "clasifier__min_samples_split": [
      10
     ],
     "clasifier__n_estimators": [
      400
     ],
     "selector__estimator__n_estimators": [
      400
     ],
     "selector__max_features": [
      500
     ]
    }
   },
   "start_time": "2023-10-29T20:32:36.428954",
   "version": "2.4.0"
  }
 },
 "nbformat": 4,
 "nbformat_minor": 5
}