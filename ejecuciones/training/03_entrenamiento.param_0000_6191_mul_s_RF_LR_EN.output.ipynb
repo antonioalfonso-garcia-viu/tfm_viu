{
 "cells": [
  {
   "cell_type": "markdown",
   "id": "d66cc938",
   "metadata": {
    "papermill": {
     "duration": 0.003143,
     "end_time": "2023-10-30T11:19:48.184971",
     "exception": false,
     "start_time": "2023-10-30T11:19:48.181828",
     "status": "completed"
    },
    "tags": []
   },
   "source": [
    "##### Inicio"
   ]
  },
  {
   "cell_type": "markdown",
   "id": "cefe3fe0",
   "metadata": {
    "papermill": {
     "duration": 0.002351,
     "end_time": "2023-10-30T11:19:48.189904",
     "exception": false,
     "start_time": "2023-10-30T11:19:48.187553",
     "status": "completed"
    },
    "tags": []
   },
   "source": [
    "#### Carga de datos"
   ]
  },
  {
   "cell_type": "code",
   "execution_count": 1,
   "id": "e41bbcfc",
   "metadata": {
    "execution": {
     "iopub.execute_input": "2023-10-30T11:19:48.195763Z",
     "iopub.status.busy": "2023-10-30T11:19:48.195531Z",
     "iopub.status.idle": "2023-10-30T11:19:49.058323Z",
     "shell.execute_reply": "2023-10-30T11:19:49.057711Z"
    },
    "papermill": {
     "duration": 0.867388,
     "end_time": "2023-10-30T11:19:49.059654",
     "exception": false,
     "start_time": "2023-10-30T11:19:48.192266",
     "status": "completed"
    },
    "tags": []
   },
   "outputs": [
    {
     "name": "stdout",
     "output_type": "stream",
     "text": [
      "CPU_COUNT: 8; NODE: amilcar22; sys.version: 3.10.12 (main, Jul  5 2023, 19:22:19) [GCC 11.2.0]\n",
      "LOKY_MAX_CPU_COUNT: 6\n",
      "OMP_NUM_THREADS: 2\n"
     ]
    }
   ],
   "source": [
    "import os\n",
    "import numpy as np\n",
    "import pandas as pd\n",
    "import datetime\n",
    "import sklearn\n",
    "import logging\n",
    "import warnings\n",
    "\n",
    "from sklearn.pipeline import Pipeline\n",
    "from sklearn.model_selection import RandomizedSearchCV, KFold, cross_val_score, train_test_split\n",
    "from sklearn.metrics import accuracy_score, confusion_matrix, classification_report, roc_auc_score\n",
    "\n",
    "#  cargar algoritmos para aprendizaje supervisado\n",
    "from sklearn.feature_selection import SelectKBest, f_classif, SelectFromModel, mutual_info_classif\n",
    "from sklearn.svm import SVC\n",
    "from sklearn.ensemble import RandomForestClassifier\n",
    "from sklearn.linear_model import LogisticRegression,LogisticRegressionCV\n",
    "\n",
    "# importar fichero con utilidades propias\n",
    "from commons import myfunctions as myfunc\n"
   ]
  },
  {
   "cell_type": "markdown",
   "id": "80923d98",
   "metadata": {
    "papermill": {
     "duration": 0.002752,
     "end_time": "2023-10-30T11:19:49.065472",
     "exception": false,
     "start_time": "2023-10-30T11:19:49.062720",
     "status": "completed"
    },
    "tags": []
   },
   "source": [
    "#### Parámetros a utilizar en el entrenamiento.\n",
    "\n",
    "Se indican los 3 algoritmos de *selección de características* (eval_selector_xxx) y los 3 algoritmos para la _clasificación_ (eval_clasifier_xxx)\n",
    "\n",
    "En *param_distributions* se indicar los parámetros que utilizan los algoritmos en la función RandomSearchCV.\n",
    "\n",
    "Esta celda tiene la etiqueta **parameters** que servirá para poder lanzar los entrenamientos con la utilidad **papermill** pasándole un fichero con los parámetros. Los nuevos parámetros se situarán tras esta celda para tener prevalencia."
   ]
  },
  {
   "cell_type": "code",
   "execution_count": 2,
   "id": "9ab548c0",
   "metadata": {
    "execution": {
     "iopub.execute_input": "2023-10-30T11:19:49.071693Z",
     "iopub.status.busy": "2023-10-30T11:19:49.071402Z",
     "iopub.status.idle": "2023-10-30T11:19:49.078263Z",
     "shell.execute_reply": "2023-10-30T11:19:49.077782Z"
    },
    "papermill": {
     "duration": 0.011298,
     "end_time": "2023-10-30T11:19:49.079403",
     "exception": false,
     "start_time": "2023-10-30T11:19:49.068105",
     "status": "completed"
    },
    "tags": [
     "parameters"
    ]
   },
   "outputs": [
    {
     "name": "stdout",
     "output_type": "stream",
     "text": [
      "20231030T121949 : amilcar22 : INFO : Utilizando parámetros de mul_m\n"
     ]
    }
   ],
   "source": [
    "#  Parametros para el entrenamiento\n",
    "\n",
    "SEMILLA=        42\n",
    "M_TIPO=         \"mul_m\"\n",
    "M_SELECT=       \"MI\"\n",
    "M_CLASIF=       \"SVM\"\n",
    "R_FICHERO=      \"resultados\"\n",
    "M_FICHERO=      \"metricas\"\n",
    "PRE_DATA_FILE=  \"rows_transpose_norm_by_gene_id_with_target_num_\"\n",
    "SCORING=        \"roc_auc_ovr\" \n",
    "MAX_ITERS=      100\n",
    "\n",
    "def mutual_info_classif_state(X, y):\n",
    "    return mutual_info_classif(X, y, random_state=SEMILLA)\n",
    "\n",
    "eval_selector_mi = \"SelectKBest(score_func=mutual_info_classif_state)\"\n",
    "eval_selector_rf=  \"SelectFromModel(estimator=RandomForestClassifier(random_state=SEMILLA), threshold=-np.inf)\"\n",
    "eval_selector_anova=  \"SelectKBest(score_func=f_classif)\"\n",
    "\n",
    "eval_clasifier_svm= \"SVC(probability=True, random_state=SEMILLA)\"\n",
    "eval_clasifier_rf= \"RandomForestClassifier(random_state=SEMILLA)\"\n",
    "eval_clasifier_lr= \"LogisticRegressionCV(random_state=SEMILLA)\"\n",
    "\n",
    "if M_TIPO.startswith(\"bin_m\"):\n",
    "    myfunc.verbose(f\"Utilizando parámetros de {M_TIPO}\")\n",
    "    eval_selector = eval_selector_mi\n",
    "    eval_clasifier = eval_clasifier_svm\n",
    "\n",
    "    SEMILLA = 6578\n",
    "    M_SELECT = \"MI\"\n",
    "    M_CLASIF = \"SVM\"\n",
    "    param_distributions = {'selector__k': [1000], \n",
    "         'clasifier__kernel': ['rbf'], 'clasifier__gamma': [0.01], 'clasifier__C': [100]}\n",
    "elif M_TIPO.startswith(\"bin_s\"):\n",
    "    myfunc.verbose(f\"Utilizando parámetros de {M_TIPO}\")\n",
    "    eval_selector = eval_selector_rf\n",
    "    eval_clasifier = eval_clasifier_lr\n",
    "\n",
    "    SEMILLA = 6191\n",
    "    M_SELECT = \"RF\"\n",
    "    M_CLASIF = \"LR_L2\"\n",
    "    param_distributions = {'selector__max_features': [1000], 'selector__estimator__n_estimators': [200], \n",
    "        'clasifier__solver': ['lbfgs'], 'clasifier__penalty': ['l2'], 'clasifier__max_iter': [10000]}\n",
    "\n",
    "elif M_TIPO.startswith(\"mul_m\"):\n",
    "    myfunc.verbose(f\"Utilizando parámetros de {M_TIPO}\")\n",
    " \n",
    "    eval_selector = eval_selector_rf\n",
    "    eval_clasifier = eval_clasifier_lr\n",
    "\n",
    "    SEMILLA = 6191\n",
    "    M_SELECT = \"RF\"\n",
    "    M_CLASIF = \"LR_L2\"\n",
    "    param_distributions = {'selector__max_features': [1000], 'selector__estimator__n_estimators': [400], \n",
    "        'clasifier__solver': ['lbfgs'], 'clasifier__penalty': ['l2'], 'clasifier__max_iter': [10000]}\n",
    "\n",
    "else:\n",
    "    # M_TIPO.startswith(\"mul_s\"):\n",
    "    myfunc.verbose(f\"Utilizando parámetros de {M_TIPO}\")\n",
    "    eval_selector = eval_selector_anova\n",
    "    eval_clasifier = eval_clasifier_lr\n",
    "\n",
    "    SEMILLA = 1860\n",
    "    M_SELECT = \"ANOVA\"\n",
    "    M_CLASIF = \"LR_L2\"\n",
    "    param_distributions = {'selector__k': [1000], \n",
    "        'clasifier__solver': ['saga'], 'clasifier__penalty': ['l2'], 'clasifier__max_iter': [10000]}\n",
    "\n"
   ]
  },
  {
   "cell_type": "code",
   "execution_count": 3,
   "id": "23f693a5",
   "metadata": {
    "execution": {
     "iopub.execute_input": "2023-10-30T11:19:49.085729Z",
     "iopub.status.busy": "2023-10-30T11:19:49.085542Z",
     "iopub.status.idle": "2023-10-30T11:19:49.089033Z",
     "shell.execute_reply": "2023-10-30T11:19:49.088534Z"
    },
    "papermill": {
     "duration": 0.008011,
     "end_time": "2023-10-30T11:19:49.090268",
     "exception": false,
     "start_time": "2023-10-30T11:19:49.082257",
     "status": "completed"
    },
    "tags": [
     "injected-parameters"
    ]
   },
   "outputs": [],
   "source": [
    "# Parameters\n",
    "M_TIPO = \"mul_s\"\n",
    "M_SELECT = \"RF\"\n",
    "M_CLASIF = \"LR_EN\"\n",
    "P_FICHERO = \"param_0000_6191_mul_s_RF_LR_EN.yaml\"\n",
    "R_FICHERO = \"resultados_6191\"\n",
    "M_FICHERO = \"metricas_6191\"\n",
    "PRE_DATA_FILE = \"rows_transpose_norm_by_gene_id_with_target_num_\"\n",
    "SCORING = \"roc_auc_ovr\"\n",
    "SEMILLA = 6191\n",
    "MAX_ITERS = 500\n",
    "eval_selector = \"SelectFromModel(estimator=RandomForestClassifier(random_state=SEMILLA), threshold=-np.inf)\"\n",
    "eval_clasifier = \"LogisticRegressionCV(random_state=SEMILLA)\"\n",
    "param_distributions = {\n",
    "    \"selector__max_features\": [500],\n",
    "    \"selector__estimator__n_estimators\": [400],\n",
    "    \"clasifier__solver\": [\"saga\"],\n",
    "    \"clasifier__penalty\": [\"elasticnet\"],\n",
    "    \"clasifier__max_iter\": [10000],\n",
    "    \"clasifier__l1_ratios\": [[0.1]],\n",
    "}\n"
   ]
  },
  {
   "cell_type": "code",
   "execution_count": 4,
   "id": "9f78a981",
   "metadata": {
    "execution": {
     "iopub.execute_input": "2023-10-30T11:19:49.096459Z",
     "iopub.status.busy": "2023-10-30T11:19:49.096287Z",
     "iopub.status.idle": "2023-10-30T11:19:49.099510Z",
     "shell.execute_reply": "2023-10-30T11:19:49.099035Z"
    },
    "papermill": {
     "duration": 0.007752,
     "end_time": "2023-10-30T11:19:49.100749",
     "exception": false,
     "start_time": "2023-10-30T11:19:49.092997",
     "status": "completed"
    },
    "tags": []
   },
   "outputs": [],
   "source": [
    "DATA_FILE = PRE_DATA_FILE + M_TIPO\n",
    "\n",
    "# si viene \"None\" en el parámetro max_depth, se le quitan las comillas para que no sea entendido por el algoritmo como un texto\n",
    "if \"clasifier__max_depth\" in param_distributions:\n",
    "    param_distributions['clasifier__max_depth'] = [None if x == 'None' else x for x in param_distributions['clasifier__max_depth']]"
   ]
  },
  {
   "cell_type": "markdown",
   "id": "0e0f5071",
   "metadata": {
    "papermill": {
     "duration": 0.002581,
     "end_time": "2023-10-30T11:19:49.106043",
     "exception": false,
     "start_time": "2023-10-30T11:19:49.103462",
     "status": "completed"
    },
    "tags": []
   },
   "source": [
    "Asignar los algoritmos que se utilizarán en la función RandomSearchCV"
   ]
  },
  {
   "cell_type": "code",
   "execution_count": 5,
   "id": "659bc380",
   "metadata": {
    "execution": {
     "iopub.execute_input": "2023-10-30T11:19:49.111964Z",
     "iopub.status.busy": "2023-10-30T11:19:49.111799Z",
     "iopub.status.idle": "2023-10-30T11:19:49.114669Z",
     "shell.execute_reply": "2023-10-30T11:19:49.114142Z"
    },
    "papermill": {
     "duration": 0.007211,
     "end_time": "2023-10-30T11:19:49.115882",
     "exception": false,
     "start_time": "2023-10-30T11:19:49.108671",
     "status": "completed"
    },
    "tags": []
   },
   "outputs": [],
   "source": [
    "algor_selector=eval(eval_selector)\n",
    "algor_clasifier=eval(eval_clasifier)"
   ]
  },
  {
   "cell_type": "markdown",
   "id": "54e39ad2",
   "metadata": {
    "papermill": {
     "duration": 0.002721,
     "end_time": "2023-10-30T11:19:49.121397",
     "exception": false,
     "start_time": "2023-10-30T11:19:49.118676",
     "status": "completed"
    },
    "tags": []
   },
   "source": [
    "#### Comprobar el entorno y leer fichero de muestras"
   ]
  },
  {
   "cell_type": "code",
   "execution_count": 6,
   "id": "0023d60c",
   "metadata": {
    "execution": {
     "iopub.execute_input": "2023-10-30T11:19:49.127813Z",
     "iopub.status.busy": "2023-10-30T11:19:49.127331Z",
     "iopub.status.idle": "2023-10-30T11:19:49.247271Z",
     "shell.execute_reply": "2023-10-30T11:19:49.246713Z"
    },
    "papermill": {
     "duration": 0.124404,
     "end_time": "2023-10-30T11:19:49.248512",
     "exception": false,
     "start_time": "2023-10-30T11:19:49.124108",
     "status": "completed"
    },
    "tags": []
   },
   "outputs": [
    {
     "name": "stdout",
     "output_type": "stream",
     "text": [
      "20231030T121949 : amilcar22 : INFO : Encontrada carpeta DATA_DIR=../tfm_git/datos\n",
      "20231030T121949 : amilcar22 : INFO : Encontrada carpeta CFDNA_DIR=../tfm_git/datos/cfDNA_5hmC\n",
      "20231030T121949 : amilcar22 : INFO : Encontrada carpeta GENCODE_DIR=../tfm_git/datos/gencode\n",
      "20231030T121949 : amilcar22 : INFO : Encontrada carpeta H5_DIR=../tfm_git/datos/h5\n",
      "20231030T121949 : amilcar22 : INFO : Encontrada carpeta LOG_DIR=../tfm_git/datos/logs\n",
      "20231030T121949 : amilcar22 : INFO : Encontrada carpeta CSV_DIR=../tfm_git/datos/csv\n",
      "20231030T121949 : amilcar22 : INFO : Encontrada carpeta MODEL_DIR=../tfm_git/ejecuciones/modelos\n",
      "20231030T121949 : amilcar22 : INFO : Encontrada carpeta EXEC_DIR=../tfm_git/ejecuciones\n",
      "20231030T121949 : amilcar22 : INFO : Encontrada carpeta MET_DIR=../tfm_git/ejecuciones/metricas\n",
      "20231030T121949 : amilcar22 : INFO : Inicio leer fichero h5 ../tfm_git/datos/h5/rows_transpose_norm_by_gene_id_with_target_num_mul_s.h5\n",
      "20231030T121949 : amilcar22 : INFO : Leyendo clave /df\n",
      "20231030T121949 : amilcar22 : INFO : Tamaño (259, 18876)\n",
      "20231030T121949 : amilcar22 : INFO : Fin leer fichero h5 ../tfm_git/datos/h5/rows_transpose_norm_by_gene_id_with_target_num_mul_s.h5\n"
     ]
    },
    {
     "data": {
      "text/plain": [
       "target\n",
       "0    37\n",
       "1    37\n",
       "2    37\n",
       "3    37\n",
       "4    37\n",
       "5    37\n",
       "6    37\n",
       "dtype: int64"
      ]
     },
     "metadata": {},
     "output_type": "display_data"
    },
    {
     "name": "stdout",
     "output_type": "stream",
     "text": [
      "Shape df: (259, 18876)\n",
      "Shape X_train: (207, 18875)\n",
      "Shape X_test: (52, 18875)\n"
     ]
    }
   ],
   "source": [
    "start_time = datetime.datetime.now()\n",
    "\n",
    "myfunc.reset_vars()\n",
    "\n",
    "myfunc.NOTEBK_FILENAME = myfunc.get_nb_name()\n",
    "\n",
    "myfunc.check_enviroment(myfunc.DATA_DIR, myfunc.CFDNA_DIR, myfunc.GENCODE_DIR, myfunc.H5_DIR, myfunc.LOG_DIR, myfunc.CSV_DIR, myfunc.MODEL_DIR, myfunc.EXEC_DIR, myfunc.MET_DIR)\n",
    "\n",
    "# Leer fichero con las muestras\n",
    "df_t = myfunc.read_h5_to_df(DATA_FILE, myfunc.H5_DIR)\n",
    "display(df_t.groupby(\"target\").size())\n",
    "print(\"Shape df:\",df_t.shape)\n",
    "\n",
    "# Separar caracteristicas/genes de las etiquetas/tipos de cáncer\n",
    "X = df_t.iloc[:, :-1]  # Todas las columnas excepto la última\n",
    "y = df_t.iloc[:, -1]  # La última columna contiene los identificadores de los tipos de cáncer\n",
    "\n",
    "#  Crear el conjunto de datos de entrenamiento y de pruebas, y se fija la semilla para siempre coger el mismo juego de muestras\n",
    "X_train, X_test, y_train, y_test = train_test_split(X, y, test_size=0.2, shuffle=True, random_state=42)\n",
    "print(\"Shape X_train:\",X_train.shape)\n",
    "print(\"Shape X_test:\",X_test.shape)\n"
   ]
  },
  {
   "cell_type": "markdown",
   "id": "19b52c61",
   "metadata": {
    "papermill": {
     "duration": 0.002761,
     "end_time": "2023-10-30T11:19:49.254571",
     "exception": false,
     "start_time": "2023-10-30T11:19:49.251810",
     "status": "completed"
    },
    "tags": []
   },
   "source": [
    "#### Selección de características y clasificación."
   ]
  },
  {
   "cell_type": "code",
   "execution_count": 7,
   "id": "6feb4116",
   "metadata": {
    "execution": {
     "iopub.execute_input": "2023-10-30T11:19:49.260998Z",
     "iopub.status.busy": "2023-10-30T11:19:49.260796Z",
     "iopub.status.idle": "2023-10-30T11:27:18.205594Z",
     "shell.execute_reply": "2023-10-30T11:27:18.204735Z"
    },
    "papermill": {
     "duration": 448.952152,
     "end_time": "2023-10-30T11:27:18.209495",
     "exception": false,
     "start_time": "2023-10-30T11:19:49.257343",
     "status": "completed"
    },
    "tags": []
   },
   "outputs": [
    {
     "name": "stdout",
     "output_type": "stream",
     "text": [
      "20231030T121949 : amilcar22 : INFO : Iniciando entrenamiento\n",
      "num_iter: 1 , max_iter: 1\n",
      "Fitting 5 folds for each of 1 candidates, totalling 5 fits\n"
     ]
    },
    {
     "name": "stdout",
     "output_type": "stream",
     "text": [
      "Mejores Hiperparámetros: {'selector__max_features': 500, 'selector__estimator__n_estimators': 400, 'clasifier__solver': 'saga', 'clasifier__penalty': 'elasticnet', 'clasifier__max_iter': 10000, 'clasifier__l1_ratios': [0.1]}\n",
      "Mejor Puntuación: 0.7719\n",
      "20231030T122718 : amilcar22 : INFO : Fin entrenamiento\n"
     ]
    }
   ],
   "source": [
    "myfunc.verbose(\"Iniciando entrenamiento\")\n",
    "\n",
    "kf = KFold(n_splits=5, shuffle=True, random_state=SEMILLA)\n",
    "\n",
    "# Crear el pipeline para el flujo de tareas\n",
    "tasks_pipeline = Pipeline([\n",
    "    ('selector', algor_selector),\n",
    "    ('clasifier', algor_clasifier)\n",
    "])\n",
    "\n",
    "# MAX_ITERS puede limitar el número de iteraciones si son excesivas para las combinaciones de parámetros buscando un óptimo local, \n",
    "# sino funcionaría como GridSearchCV al revisar todas las cominaciones de los parámetros\n",
    "num_iteraciones = 1\n",
    "num_iteraciones = num_iteraciones * np.prod([len(elemento1) for _, elemento1 in param_distributions.items()])\n",
    "max_iteraciones = num_iteraciones if num_iteraciones <= MAX_ITERS else MAX_ITERS\n",
    "print(\"num_iter:\",num_iteraciones,\", max_iter:\",max_iteraciones)\n",
    "\n",
    "random_search = RandomizedSearchCV(\n",
    "    tasks_pipeline, \n",
    "    param_distributions, \n",
    "    n_iter=max_iteraciones,\n",
    "    scoring=SCORING,\n",
    "    cv=kf,\n",
    "    verbose=3, \n",
    "    random_state=SEMILLA, \n",
    "    n_jobs=-1\n",
    "    )\n",
    "\n",
    "# Entrenar el modelo\n",
    "random_search.fit(X_train, y_train)\n",
    "\n",
    "# Ver los mejores hiperparámetros encontrados\n",
    "print(f'Mejores Hiperparámetros: {random_search.best_params_}')\n",
    "print(f'Mejor Puntuación: {random_search.best_score_:.4f}')\n",
    "\n",
    "# Nos quedamos con el mejor modelo para ver las métricas\n",
    "mejor_modelo = random_search.best_estimator_\n",
    "\n",
    "myfunc.verbose(\"Fin entrenamiento\")"
   ]
  },
  {
   "cell_type": "markdown",
   "id": "6d41e829",
   "metadata": {
    "papermill": {
     "duration": 0.002833,
     "end_time": "2023-10-30T11:27:18.215247",
     "exception": false,
     "start_time": "2023-10-30T11:27:18.212414",
     "status": "completed"
    },
    "tags": []
   },
   "source": [
    "#### Guardar modelo"
   ]
  },
  {
   "cell_type": "code",
   "execution_count": 8,
   "id": "100ba8b5",
   "metadata": {
    "execution": {
     "iopub.execute_input": "2023-10-30T11:27:18.221962Z",
     "iopub.status.busy": "2023-10-30T11:27:18.221735Z",
     "iopub.status.idle": "2023-10-30T11:27:18.351986Z",
     "shell.execute_reply": "2023-10-30T11:27:18.351387Z"
    },
    "papermill": {
     "duration": 0.135068,
     "end_time": "2023-10-30T11:27:18.353193",
     "exception": false,
     "start_time": "2023-10-30T11:27:18.218125",
     "status": "completed"
    },
    "tags": []
   },
   "outputs": [
    {
     "name": "stdout",
     "output_type": "stream",
     "text": [
      "20231030T122718 : amilcar22 : INFO : Inicio guardar fichero ../tfm_git/ejecuciones/modelos/modelo_6191_mul_s_RF_LR_EN.pkl\n",
      "20231030T122718 : amilcar22 : INFO : Fin guardar fichero ../tfm_git/ejecuciones/modelos/modelo_6191_mul_s_RF_LR_EN.pkl\n"
     ]
    }
   ],
   "source": [
    "fichero_modelo = str.replace(\"modelo_\"+str(SEMILLA).zfill(4)+\"_\"+M_TIPO+\"_\"+M_SELECT+\"_\"+M_CLASIF+\".pkl\", \" \", \"_\")\n",
    "\n",
    "myfunc.save_modelo(mejor_modelo, myfunc.MODEL_DIR, fichero_modelo)"
   ]
  },
  {
   "cell_type": "markdown",
   "id": "9fadf523",
   "metadata": {
    "papermill": {
     "duration": 0.002914,
     "end_time": "2023-10-30T11:27:18.359348",
     "exception": false,
     "start_time": "2023-10-30T11:27:18.356434",
     "status": "completed"
    },
    "tags": []
   },
   "source": [
    "#### Ver resultados del las iteraciones hechas por RandomSearchCV"
   ]
  },
  {
   "cell_type": "code",
   "execution_count": 9,
   "id": "8aad0975",
   "metadata": {
    "execution": {
     "iopub.execute_input": "2023-10-30T11:27:18.366091Z",
     "iopub.status.busy": "2023-10-30T11:27:18.365866Z",
     "iopub.status.idle": "2023-10-30T11:27:18.372174Z",
     "shell.execute_reply": "2023-10-30T11:27:18.371544Z"
    },
    "papermill": {
     "duration": 0.011095,
     "end_time": "2023-10-30T11:27:18.373326",
     "exception": false,
     "start_time": "2023-10-30T11:27:18.362231",
     "status": "completed"
    },
    "tags": []
   },
   "outputs": [
    {
     "name": "stdout",
     "output_type": "stream",
     "text": [
      "20231030T122718 : amilcar22 : INFO : Inicio ver resultados\n",
      "Mejores Hiperparámetros: {'selector__max_features': 500, 'selector__estimator__n_estimators': 400, 'clasifier__solver': 'saga', 'clasifier__penalty': 'elasticnet', 'clasifier__max_iter': 10000, 'clasifier__l1_ratios': [0.1]}\n",
      "Mejores puntuaciones: 0.7719 | Params: {'selector__max_features': 500, 'selector__estimator__n_estimators': 400, 'clasifier__solver': 'saga', 'clasifier__penalty': 'elasticnet', 'clasifier__max_iter': 10000, 'clasifier__l1_ratios': [0.1]}\n",
      "Media de las puntuaciones: 0.7719 | Params: {'selector__max_features': 500, 'selector__estimator__n_estimators': 400, 'clasifier__solver': 'saga', 'clasifier__penalty': 'elasticnet', 'clasifier__max_iter': 10000, 'clasifier__l1_ratios': [0.1]}\n",
      "20231030T122718 : amilcar22 : INFO : Fin resultados\n"
     ]
    }
   ],
   "source": [
    "myfunc.ver_resultados_search(random_search)"
   ]
  },
  {
   "cell_type": "markdown",
   "id": "37896aa7",
   "metadata": {
    "papermill": {
     "duration": 0.002956,
     "end_time": "2023-10-30T11:27:18.379177",
     "exception": false,
     "start_time": "2023-10-30T11:27:18.376221",
     "status": "completed"
    },
    "tags": []
   },
   "source": [
    "#### Ver métricas del mejor modelo"
   ]
  },
  {
   "cell_type": "code",
   "execution_count": 10,
   "id": "c47e9158",
   "metadata": {
    "execution": {
     "iopub.execute_input": "2023-10-30T11:27:18.385822Z",
     "iopub.status.busy": "2023-10-30T11:27:18.385634Z",
     "iopub.status.idle": "2023-10-30T11:27:19.295938Z",
     "shell.execute_reply": "2023-10-30T11:27:19.295514Z"
    },
    "papermill": {
     "duration": 0.914994,
     "end_time": "2023-10-30T11:27:19.297097",
     "exception": false,
     "start_time": "2023-10-30T11:27:18.382103",
     "status": "completed"
    },
    "tags": []
   },
   "outputs": [
    {
     "name": "stdout",
     "output_type": "stream",
     "text": [
      "20231030T122718 : amilcar22 : INFO : Inicio ver métricas multiclase\n"
     ]
    },
    {
     "name": "stdout",
     "output_type": "stream",
     "text": [
      "              precision    recall  f1-score   support\n",
      "\n",
      "           0       0.20      0.09      0.13        11\n",
      "           1       0.50      0.12      0.20         8\n",
      "           2       0.20      0.25      0.22         8\n",
      "           3       0.00      0.00      0.00         5\n",
      "           4       0.54      0.88      0.67         8\n",
      "           5       0.40      0.33      0.36         6\n",
      "           6       0.22      0.33      0.27         6\n",
      "\n",
      "    accuracy                           0.29        52\n",
      "   macro avg       0.29      0.29      0.26        52\n",
      "weighted avg       0.30      0.29      0.27        52\n",
      "\n",
      "\n",
      "\n",
      "           Exactitud: 0.288462\n",
      "   Precisión (media): 0.294383\n",
      "      Recall (media): 0.286797\n",
      "    F1-score (media): 0.263456\n",
      "\n",
      "\n",
      "AUC para el tipo de cáncer 0-Control.... 0.5455\n",
      "AUC para el tipo de cáncer 1-Bladder.... 0.8608\n",
      "AUC para el tipo de cáncer 2-Breast..... 0.7585\n",
      "AUC para el tipo de cáncer 3-Colorectal. 0.5787\n",
      "AUC para el tipo de cáncer 4-Kidney..... 0.9517\n",
      "AUC para el tipo de cáncer 5-Lung....... 0.8370\n",
      "AUC para el tipo de cáncer 6-Prostate... 0.8551\n",
      "\n",
      "Media de AUC: 0.7696\n"
     ]
    },
    {
     "data": {
      "image/png": "[encoded data removed]",
      "text/plain": [
       "<Figure size 1000x600 with 1 Axes>"
      ]
     },
     "metadata": {},
     "output_type": "display_data"
    },
    {
     "name": "stdout",
     "output_type": "stream",
     "text": [
      "\n",
      "\n"
     ]
    },
    {
     "data": {
      "image/png": "[encoded data removed]",
      "text/plain": [
       "<Figure size 800x400 with 2 Axes>"
      ]
     },
     "metadata": {},
     "output_type": "display_data"
    },
    {
     "name": "stdout",
     "output_type": "stream",
     "text": [
      "\n",
      "\n",
      "Puntuación Jaccard para el cáncer tipo 0-Control.... 0.0667\n",
      "Puntuación Jaccard para el cáncer tipo 1-Bladder.... 0.1111\n",
      "Puntuación Jaccard para el cáncer tipo 2-Breast..... 0.1250\n",
      "Puntuación Jaccard para el cáncer tipo 3-Colorectal. 0.0000\n",
      "Puntuación Jaccard para el cáncer tipo 4-Kidney..... 0.5000\n",
      "Puntuación Jaccard para el cáncer tipo 5-Lung....... 0.2222\n",
      "Puntuación Jaccard para el cáncer tipo 6-Prostate... 0.1538\n",
      "\n",
      "Media de la puntuación de Jaccard: 0.1684\n"
     ]
    }
   ],
   "source": [
    "if M_TIPO.startswith(\"bin\"):\n",
    "    myfunc.ver_metricas(mejor_modelo, X_test, y_test)\n",
    "else:\n",
    "    myfunc.ver_metricas_multi(mejor_modelo, X_test, y_test)\n"
   ]
  },
  {
   "cell_type": "markdown",
   "id": "e5186e0a",
   "metadata": {
    "papermill": {
     "duration": 0.004016,
     "end_time": "2023-10-30T11:27:19.305570",
     "exception": false,
     "start_time": "2023-10-30T11:27:19.301554",
     "status": "completed"
    },
    "tags": []
   },
   "source": [
    "#### Finalización del notebook"
   ]
  },
  {
   "cell_type": "code",
   "execution_count": 11,
   "id": "69cf3ef8",
   "metadata": {
    "execution": {
     "iopub.execute_input": "2023-10-30T11:27:19.314450Z",
     "iopub.status.busy": "2023-10-30T11:27:19.314234Z",
     "iopub.status.idle": "2023-10-30T11:27:19.317551Z",
     "shell.execute_reply": "2023-10-30T11:27:19.317057Z"
    },
    "papermill": {
     "duration": 0.009221,
     "end_time": "2023-10-30T11:27:19.318701",
     "exception": false,
     "start_time": "2023-10-30T11:27:19.309480",
     "status": "completed"
    },
    "tags": []
   },
   "outputs": [
    {
     "name": "stdout",
     "output_type": "stream",
     "text": [
      "20231030T122719 : amilcar22 : INFO : Notebook ha tardado 450 seconds\n"
     ]
    }
   ],
   "source": [
    "end_time = datetime.datetime.now()\n",
    "total_time = end_time - start_time\n",
    "myfunc.verbose(f\"Notebook ha tardado {total_time.seconds} seconds\")"
   ]
  },
  {
   "cell_type": "markdown",
   "id": "59e28d52",
   "metadata": {
    "papermill": {
     "duration": 0.004015,
     "end_time": "2023-10-30T11:27:19.326752",
     "exception": false,
     "start_time": "2023-10-30T11:27:19.322737",
     "status": "completed"
    },
    "tags": []
   },
   "source": [
    "#### Guardar métricas"
   ]
  },
  {
   "cell_type": "code",
   "execution_count": 12,
   "id": "8c0b760f",
   "metadata": {
    "execution": {
     "iopub.execute_input": "2023-10-30T11:27:19.335501Z",
     "iopub.status.busy": "2023-10-30T11:27:19.335307Z",
     "iopub.status.idle": "2023-10-30T11:27:20.092641Z",
     "shell.execute_reply": "2023-10-30T11:27:20.092050Z"
    },
    "papermill": {
     "duration": 0.76316,
     "end_time": "2023-10-30T11:27:20.093877",
     "exception": false,
     "start_time": "2023-10-30T11:27:19.330717",
     "status": "completed"
    },
    "tags": []
   },
   "outputs": [
    {
     "name": "stdout",
     "output_type": "stream",
     "text": [
      "20231030T122719 : amilcar22 : INFO : Inicio guardar métricas multiclase\n",
      "20231030T122719 : amilcar22 : INFO : Inicio leer fichero ../tfm_git/ejecuciones/metricas/metricas_6191.csv\n",
      "20231030T122719 : amilcar22 : INFO : Fin leer fichero ../tfm_git/ejecuciones/metricas/metricas_6191.csv\n"
     ]
    },
    {
     "name": "stdout",
     "output_type": "stream",
     "text": [
      "20231030T122720 : amilcar22 : INFO : Inicio guardar fichero ../tfm_git/ejecuciones/metricas/metricas_6191.csv\n",
      "20231030T122720 : amilcar22 : INFO : Fichero borrado ../tfm_git/ejecuciones/metricas/metricas_6191.csv\n",
      "20231030T122720 : amilcar22 : INFO : Fin guardar fichero ../tfm_git/ejecuciones/metricas/metricas_6191.csv\n",
      "20231030T122720 : amilcar22 : INFO : Fin guardar métricas multiclase\n",
      "20231030T122720 : amilcar22 : INFO : Inicio leer fichero ../tfm_git/ejecuciones/metricas/metricas_6191.csv\n",
      "20231030T122720 : amilcar22 : INFO : Fin leer fichero ../tfm_git/ejecuciones/metricas/metricas_6191.csv\n"
     ]
    },
    {
     "data": {
      "text/html": [
       "<div>\n",
       "<style scoped>\n",
       "    .dataframe tbody tr th:only-of-type {\n",
       "        vertical-align: middle;\n",
       "    }\n",
       "\n",
       "    .dataframe tbody tr th {\n",
       "        vertical-align: top;\n",
       "    }\n",
       "\n",
       "    .dataframe thead th {\n",
       "        text-align: right;\n",
       "    }\n",
       "</style>\n",
       "<table border=\"1\" class=\"dataframe\">\n",
       "  <thead>\n",
       "    <tr style=\"text-align: right;\">\n",
       "      <th></th>\n",
       "      <th>tipo</th>\n",
       "      <th>select</th>\n",
       "      <th>clasific</th>\n",
       "      <th>semilla</th>\n",
       "      <th>accuracy</th>\n",
       "      <th>precision</th>\n",
       "      <th>recall</th>\n",
       "      <th>f1_score</th>\n",
       "      <th>roc_auc</th>\n",
       "      <th>hostname</th>\n",
       "      <th>total_time_sec</th>\n",
       "      <th>datetime</th>\n",
       "      <th>fichero_modelo</th>\n",
       "      <th>params</th>\n",
       "      <th>shape</th>\n",
       "      <th>features</th>\n",
       "      <th>roc_auc_ovr</th>\n",
       "      <th>indices_auc</th>\n",
       "      <th>indices_jaccard</th>\n",
       "    </tr>\n",
       "  </thead>\n",
       "  <tbody>\n",
       "    <tr>\n",
       "      <th>0</th>\n",
       "      <td>mul_s</td>\n",
       "      <td>RF</td>\n",
       "      <td>LR_EN</td>\n",
       "      <td>6191</td>\n",
       "      <td>0.288462</td>\n",
       "      <td>0.294383</td>\n",
       "      <td>0.286797</td>\n",
       "      <td>0.263456</td>\n",
       "      <td>NaN</td>\n",
       "      <td>amilcar22</td>\n",
       "      <td>450</td>\n",
       "      <td>2023-10-30 12:27:20.059003</td>\n",
       "      <td>modelo_6191_mul_s_RF_LR_EN.pkl</td>\n",
       "      <td>{'selector__max_features': 500, 'selector__est...</td>\n",
       "      <td>X_test:(52, 18875)</td>\n",
       "      <td>['ENSG00000003137.9', 'ENSG00000005381.9', 'EN...</td>\n",
       "      <td>0.769604</td>\n",
       "      <td>[0.5454545454545454, 0.8607954545454545, 0.758...</td>\n",
       "      <td>[0.06666666666666667, 0.1111111111111111, 0.12...</td>\n",
       "    </tr>\n",
       "    <tr>\n",
       "      <th>0</th>\n",
       "      <td>mul_s</td>\n",
       "      <td>MI</td>\n",
       "      <td>SVM</td>\n",
       "      <td>6191</td>\n",
       "      <td>0.461538</td>\n",
       "      <td>0.468975</td>\n",
       "      <td>0.465152</td>\n",
       "      <td>0.454242</td>\n",
       "      <td>NaN</td>\n",
       "      <td>amilcar22</td>\n",
       "      <td>191</td>\n",
       "      <td>2023-10-30 12:19:43.070965</td>\n",
       "      <td>modelo_6191_mul_s_MI_SVM.pkl</td>\n",
       "      <td>{'selector__k': 1000, 'clasifier__kernel': 'rb...</td>\n",
       "      <td>X_test:(52, 18875)</td>\n",
       "      <td>['ENSG00000003137.9', 'ENSG00000004864.14', 'E...</td>\n",
       "      <td>0.776523</td>\n",
       "      <td>[0.5698447893569845, 0.8721590909090909, 0.644...</td>\n",
       "      <td>[0.21428571428571427, 0.3333333333333333, 0.13...</td>\n",
       "    </tr>\n",
       "    <tr>\n",
       "      <th>0</th>\n",
       "      <td>mul_s</td>\n",
       "      <td>MI</td>\n",
       "      <td>RF</td>\n",
       "      <td>6191</td>\n",
       "      <td>0.346154</td>\n",
       "      <td>0.288652</td>\n",
       "      <td>0.339177</td>\n",
       "      <td>0.301359</td>\n",
       "      <td>NaN</td>\n",
       "      <td>amilcar22</td>\n",
       "      <td>212</td>\n",
       "      <td>2023-10-30 12:16:25.518076</td>\n",
       "      <td>modelo_6191_mul_s_MI_RF.pkl</td>\n",
       "      <td>{'selector__k': 500, 'clasifier__n_estimators'...</td>\n",
       "      <td>X_test:(52, 18875)</td>\n",
       "      <td>['ENSG00000005513.10', 'ENSG00000006025.13', '...</td>\n",
       "      <td>0.703084</td>\n",
       "      <td>[0.4767184035476718, 0.8039772727272727, 0.616...</td>\n",
       "      <td>[0.07142857142857142, 0.38461538461538464, 0.1...</td>\n",
       "    </tr>\n",
       "  </tbody>\n",
       "</table>\n",
       "</div>"
      ],
      "text/plain": [
       "    tipo select clasific  semilla  accuracy  precision    recall  f1_score  \\\n",
       "0  mul_s     RF    LR_EN     6191  0.288462   0.294383  0.286797  0.263456   \n",
       "0  mul_s     MI      SVM     6191  0.461538   0.468975  0.465152  0.454242   \n",
       "0  mul_s     MI       RF     6191  0.346154   0.288652  0.339177  0.301359   \n",
       "\n",
       "   roc_auc   hostname  total_time_sec                    datetime  \\\n",
       "0      NaN  amilcar22             450  2023-10-30 12:27:20.059003   \n",
       "0      NaN  amilcar22             191  2023-10-30 12:19:43.070965   \n",
       "0      NaN  amilcar22             212  2023-10-30 12:16:25.518076   \n",
       "\n",
       "                   fichero_modelo  \\\n",
       "0  modelo_6191_mul_s_RF_LR_EN.pkl   \n",
       "0    modelo_6191_mul_s_MI_SVM.pkl   \n",
       "0     modelo_6191_mul_s_MI_RF.pkl   \n",
       "\n",
       "                                              params               shape  \\\n",
       "0  {'selector__max_features': 500, 'selector__est...  X_test:(52, 18875)   \n",
       "0  {'selector__k': 1000, 'clasifier__kernel': 'rb...  X_test:(52, 18875)   \n",
       "0  {'selector__k': 500, 'clasifier__n_estimators'...  X_test:(52, 18875)   \n",
       "\n",
       "                                            features  roc_auc_ovr  \\\n",
       "0  ['ENSG00000003137.9', 'ENSG00000005381.9', 'EN...     0.769604   \n",
       "0  ['ENSG00000003137.9', 'ENSG00000004864.14', 'E...     0.776523   \n",
       "0  ['ENSG00000005513.10', 'ENSG00000006025.13', '...     0.703084   \n",
       "\n",
       "                                         indices_auc  \\\n",
       "0  [0.5454545454545454, 0.8607954545454545, 0.758...   \n",
       "0  [0.5698447893569845, 0.8721590909090909, 0.644...   \n",
       "0  [0.4767184035476718, 0.8039772727272727, 0.616...   \n",
       "\n",
       "                                     indices_jaccard  \n",
       "0  [0.06666666666666667, 0.1111111111111111, 0.12...  \n",
       "0  [0.21428571428571427, 0.3333333333333333, 0.13...  \n",
       "0  [0.07142857142857142, 0.38461538461538464, 0.1...  "
      ]
     },
     "metadata": {},
     "output_type": "display_data"
    }
   ],
   "source": [
    "if M_TIPO.startswith(\"bin\"):\n",
    "    myfunc.save_metricas_to_csv(random_search, X_test, y_test, M_TIPO, M_SELECT, M_CLASIF, total_time, SEMILLA, myfunc.MET_DIR, M_FICHERO, fichero_modelo)\n",
    "else:\n",
    "    myfunc.save_metricas_multi_to_csv(random_search, X_test, y_test, M_TIPO, M_SELECT, M_CLASIF, total_time, SEMILLA, myfunc.MET_DIR, M_FICHERO, fichero_modelo)\n",
    "\n",
    "df1=myfunc.read_metricas_to_df(myfunc.MET_DIR,M_FICHERO)\n",
    "\n",
    "display(df1.sort_values(\"datetime\", ascending=False)[:3])\n"
   ]
  },
  {
   "cell_type": "markdown",
   "id": "5f8b638a",
   "metadata": {
    "papermill": {
     "duration": 0.00428,
     "end_time": "2023-10-30T11:27:20.102858",
     "exception": false,
     "start_time": "2023-10-30T11:27:20.098578",
     "status": "completed"
    },
    "tags": []
   },
   "source": [
    "#### Guardar resultados"
   ]
  },
  {
   "cell_type": "code",
   "execution_count": 13,
   "id": "bfe484dc",
   "metadata": {
    "execution": {
     "iopub.execute_input": "2023-10-30T11:27:20.112238Z",
     "iopub.status.busy": "2023-10-30T11:27:20.112031Z",
     "iopub.status.idle": "2023-10-30T11:27:20.120790Z",
     "shell.execute_reply": "2023-10-30T11:27:20.120252Z"
    },
    "papermill": {
     "duration": 0.014922,
     "end_time": "2023-10-30T11:27:20.122000",
     "exception": false,
     "start_time": "2023-10-30T11:27:20.107078",
     "status": "completed"
    },
    "tags": []
   },
   "outputs": [
    {
     "name": "stdout",
     "output_type": "stream",
     "text": [
      "20231030T122720 : amilcar22 : INFO : Inicio guardar resultados\n",
      "20231030T122720 : amilcar22 : INFO : Inicio guardar fichero ../tfm_git/ejecuciones/metricas/resultados_6191_mul_s-RF-LR_EN.csv\n",
      "20231030T122720 : amilcar22 : INFO : Fin guardar fichero ../tfm_git/ejecuciones/metricas/resultados_6191_mul_s-RF-LR_EN.csv\n",
      "20231030T122720 : amilcar22 : INFO : Fin guardar resultados\n"
     ]
    }
   ],
   "source": [
    "fichero_resultados=R_FICHERO+\"_\"+M_TIPO+\"-\"+M_SELECT+\"-\"+M_CLASIF+\".csv\"\n",
    "myfunc.save_resultados_to_csv(M_TIPO, M_SELECT, M_CLASIF,  random_search, myfunc.MET_DIR, fichero_resultados)\n"
   ]
  }
 ],
 "metadata": {
  "kernelspec": {
   "display_name": "Python 3 (ipykernel)",
   "language": "python",
   "name": "python3"
  },
  "language_info": {
   "codemirror_mode": {
    "name": "ipython",
    "version": 3
   },
   "file_extension": ".py",
   "mimetype": "text/x-python",
   "name": "python",
   "nbconvert_exporter": "python",
   "pygments_lexer": "ipython3",
   "version": "3.10.12"
  },
  "papermill": {
   "default_parameters": {},
   "duration": 455.476806,
   "end_time": "2023-10-30T11:27:22.744636",
   "environment_variables": {},
   "exception": null,
   "input_path": "03_entrenamiento.ipynb",
   "output_path": "ejecuciones/training/03_entrenamiento.20231030T121946.param_0000_6191_mul_s_RF_LR_EN.output.ipynb",
   "parameters": {
    "MAX_ITERS": 500,
    "M_CLASIF": "LR_EN",
    "M_FICHERO": "metricas_6191",
    "M_SELECT": "RF",
    "M_TIPO": "mul_s",
    "PRE_DATA_FILE": "rows_transpose_norm_by_gene_id_with_target_num_",
    "P_FICHERO": "param_0000_6191_mul_s_RF_LR_EN.yaml",
    "R_FICHERO": "resultados_6191",
    "SCORING": "roc_auc_ovr",
    "SEMILLA": 6191,
    "eval_clasifier": "LogisticRegressionCV(random_state=SEMILLA)",
    "eval_selector": "SelectFromModel(estimator=RandomForestClassifier(random_state=SEMILLA), threshold=-np.inf)",
    "param_distributions": {
     "clasifier__l1_ratios": [
      [
       0.1
      ]
     ],
     "clasifier__max_iter": [
      10000
     ],
     "clasifier__penalty": [
      "elasticnet"
     ],
     "clasifier__solver": [
      "saga"
     ],
     "selector__estimator__n_estimators": [
      400
     ],
     "selector__max_features": [
      500
     ]
    }
   },
   "start_time": "2023-10-30T11:19:47.267830",
   "version": "2.4.0"
  }
 },
 "nbformat": 4,
 "nbformat_minor": 5
}