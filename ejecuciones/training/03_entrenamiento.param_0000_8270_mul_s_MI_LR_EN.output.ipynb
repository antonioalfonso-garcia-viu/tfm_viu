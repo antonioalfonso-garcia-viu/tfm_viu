{
 "cells": [
  {
   "cell_type": "markdown",
   "id": "9903006a",
   "metadata": {
    "papermill": {
     "duration": 0.00435,
     "end_time": "2023-10-30T00:13:53.991515",
     "exception": false,
     "start_time": "2023-10-30T00:13:53.987165",
     "status": "completed"
    },
    "tags": []
   },
   "source": [
    "##### Inicio"
   ]
  },
  {
   "cell_type": "markdown",
   "id": "098d9eff",
   "metadata": {
    "papermill": {
     "duration": 0.003387,
     "end_time": "2023-10-30T00:13:53.998628",
     "exception": false,
     "start_time": "2023-10-30T00:13:53.995241",
     "status": "completed"
    },
    "tags": []
   },
   "source": [
    "#### Carga de datos"
   ]
  },
  {
   "cell_type": "code",
   "execution_count": 1,
   "id": "eec5dcf8",
   "metadata": {
    "execution": {
     "iopub.execute_input": "2023-10-30T00:13:54.006857Z",
     "iopub.status.busy": "2023-10-30T00:13:54.006419Z",
     "iopub.status.idle": "2023-10-30T00:13:55.129330Z",
     "shell.execute_reply": "2023-10-30T00:13:55.128709Z"
    },
    "papermill": {
     "duration": 1.128852,
     "end_time": "2023-10-30T00:13:55.130803",
     "exception": false,
     "start_time": "2023-10-30T00:13:54.001951",
     "status": "completed"
    },
    "tags": []
   },
   "outputs": [
    {
     "name": "stdout",
     "output_type": "stream",
     "text": [
      "CPU_COUNT: 16; NODE: enderlab; sys.version: 3.10.11 (main, May 16 2023, 00:28:57) [GCC 11.2.0]\n",
      "LOKY_MAX_CPU_COUNT is not set.\n",
      "OMP_NUM_THREADS is not set.\n"
     ]
    }
   ],
   "source": [
    "import os\n",
    "import numpy as np\n",
    "import pandas as pd\n",
    "import datetime\n",
    "import sklearn\n",
    "import logging\n",
    "import warnings\n",
    "\n",
    "from sklearn.pipeline import Pipeline\n",
    "from sklearn.model_selection import RandomizedSearchCV, KFold, cross_val_score, train_test_split\n",
    "from sklearn.metrics import accuracy_score, confusion_matrix, classification_report, roc_auc_score\n",
    "\n",
    "#  cargar algoritmos para aprendizaje supervisado\n",
    "from sklearn.feature_selection import SelectKBest, f_classif, SelectFromModel, mutual_info_classif\n",
    "from sklearn.svm import SVC\n",
    "from sklearn.ensemble import RandomForestClassifier\n",
    "from sklearn.linear_model import LogisticRegression,LogisticRegressionCV\n",
    "\n",
    "# importar fichero con utilidades propias\n",
    "from commons import myfunctions as myfunc\n"
   ]
  },
  {
   "cell_type": "markdown",
   "id": "fab15a32",
   "metadata": {
    "papermill": {
     "duration": 0.003553,
     "end_time": "2023-10-30T00:13:55.138602",
     "exception": false,
     "start_time": "2023-10-30T00:13:55.135049",
     "status": "completed"
    },
    "tags": []
   },
   "source": [
    "#### Parámetros a utilizar en el entrenamiento.\n",
    "\n",
    "Se indican los 3 algoritmos de *selección de características* (eval_selector_xxx) y los 3 algoritmos para la _clasificación_ (eval_clasifier_xxx)\n",
    "\n",
    "En *param_distributions* se indicar los parámetros que utilizan los algoritmos en la función RandomSearchCV.\n",
    "\n",
    "Esta celda tiene la etiqueta **parameters** que servirá para poder lanzar los entrenamientos con la utilidad **papermill** pasándole un fichero con los parámetros. Los nuevos parámetros se situarán tras esta celda para tener prevalencia."
   ]
  },
  {
   "cell_type": "code",
   "execution_count": 2,
   "id": "a1e9f19f",
   "metadata": {
    "execution": {
     "iopub.execute_input": "2023-10-30T00:13:55.146954Z",
     "iopub.status.busy": "2023-10-30T00:13:55.146551Z",
     "iopub.status.idle": "2023-10-30T00:13:55.155118Z",
     "shell.execute_reply": "2023-10-30T00:13:55.154575Z"
    },
    "papermill": {
     "duration": 0.014353,
     "end_time": "2023-10-30T00:13:55.156381",
     "exception": false,
     "start_time": "2023-10-30T00:13:55.142028",
     "status": "completed"
    },
    "tags": [
     "parameters"
    ]
   },
   "outputs": [
    {
     "name": "stdout",
     "output_type": "stream",
     "text": [
      "20231030T011355 : enderlab : INFO : Utilizando parámetros de mul_m\n"
     ]
    }
   ],
   "source": [
    "#  Parametros para el entrenamiento\n",
    "\n",
    "SEMILLA=        42\n",
    "M_TIPO=         \"mul_m\"\n",
    "M_SELECT=       \"MI\"\n",
    "M_CLASIF=       \"SVM\"\n",
    "R_FICHERO=      \"resultados\"\n",
    "M_FICHERO=      \"metricas\"\n",
    "PRE_DATA_FILE=  \"rows_transpose_norm_by_gene_id_with_target_num_\"\n",
    "SCORING=        \"roc_auc_ovr\" \n",
    "MAX_ITERS=      100\n",
    "\n",
    "def mutual_info_classif_state(X, y):\n",
    "    return mutual_info_classif(X, y, random_state=SEMILLA)\n",
    "\n",
    "eval_selector_mi = \"SelectKBest(score_func=mutual_info_classif_state)\"\n",
    "eval_selector_rf=  \"SelectFromModel(estimator=RandomForestClassifier(random_state=SEMILLA), threshold=-np.inf)\"\n",
    "eval_selector_anova=  \"SelectKBest(score_func=f_classif)\"\n",
    "\n",
    "eval_clasifier_svm= \"SVC(probability=True, random_state=SEMILLA)\"\n",
    "eval_clasifier_rf= \"RandomForestClassifier(random_state=SEMILLA)\"\n",
    "eval_clasifier_lr= \"LogisticRegressionCV(random_state=SEMILLA)\"\n",
    "\n",
    "if M_TIPO.startswith(\"bin_m\"):\n",
    "    myfunc.verbose(f\"Utilizando parámetros de {M_TIPO}\")\n",
    "    eval_selector = eval_selector_mi\n",
    "    eval_clasifier = eval_clasifier_svm\n",
    "\n",
    "    SEMILLA = 6578\n",
    "    M_SELECT = \"MI\"\n",
    "    M_CLASIF = \"SVM\"\n",
    "    param_distributions = {'selector__k': [1000], \n",
    "         'clasifier__kernel': ['rbf'], 'clasifier__gamma': [0.01], 'clasifier__C': [100]}\n",
    "elif M_TIPO.startswith(\"bin_s\"):\n",
    "    myfunc.verbose(f\"Utilizando parámetros de {M_TIPO}\")\n",
    "    eval_selector = eval_selector_rf\n",
    "    eval_clasifier = eval_clasifier_lr\n",
    "\n",
    "    SEMILLA = 6191\n",
    "    M_SELECT = \"RF\"\n",
    "    M_CLASIF = \"LR_L2\"\n",
    "    param_distributions = {'selector__max_features': [1000], 'selector__estimator__n_estimators': [200], \n",
    "        'clasifier__solver': ['lbfgs'], 'clasifier__penalty': ['l2'], 'clasifier__max_iter': [10000]}\n",
    "\n",
    "elif M_TIPO.startswith(\"mul_m\"):\n",
    "    myfunc.verbose(f\"Utilizando parámetros de {M_TIPO}\")\n",
    " \n",
    "    eval_selector = eval_selector_rf\n",
    "    eval_clasifier = eval_clasifier_lr\n",
    "\n",
    "    SEMILLA = 6191\n",
    "    M_SELECT = \"RF\"\n",
    "    M_CLASIF = \"LR_L2\"\n",
    "    param_distributions = {'selector__max_features': [1000], 'selector__estimator__n_estimators': [400], \n",
    "        'clasifier__solver': ['lbfgs'], 'clasifier__penalty': ['l2'], 'clasifier__max_iter': [10000]}\n",
    "\n",
    "else:\n",
    "    # M_TIPO.startswith(\"mul_s\"):\n",
    "    myfunc.verbose(f\"Utilizando parámetros de {M_TIPO}\")\n",
    "    eval_selector = eval_selector_anova\n",
    "    eval_clasifier = eval_clasifier_lr\n",
    "\n",
    "    SEMILLA = 1860\n",
    "    M_SELECT = \"ANOVA\"\n",
    "    M_CLASIF = \"LR_L2\"\n",
    "    param_distributions = {'selector__k': [1000], \n",
    "        'clasifier__solver': ['saga'], 'clasifier__penalty': ['l2'], 'clasifier__max_iter': [10000]}\n",
    "\n"
   ]
  },
  {
   "cell_type": "code",
   "execution_count": 3,
   "id": "6773ed39",
   "metadata": {
    "execution": {
     "iopub.execute_input": "2023-10-30T00:13:55.164608Z",
     "iopub.status.busy": "2023-10-30T00:13:55.164238Z",
     "iopub.status.idle": "2023-10-30T00:13:55.168171Z",
     "shell.execute_reply": "2023-10-30T00:13:55.167649Z"
    },
    "papermill": {
     "duration": 0.009513,
     "end_time": "2023-10-30T00:13:55.169424",
     "exception": false,
     "start_time": "2023-10-30T00:13:55.159911",
     "status": "completed"
    },
    "tags": [
     "injected-parameters"
    ]
   },
   "outputs": [],
   "source": [
    "# Parameters\n",
    "M_TIPO = \"mul_s\"\n",
    "M_SELECT = \"MI\"\n",
    "M_CLASIF = \"LR_EN\"\n",
    "P_FICHERO = \"param_0000_8270_mul_s_MI_LR_EN.yaml\"\n",
    "R_FICHERO = \"resultados_8270\"\n",
    "M_FICHERO = \"metricas_8270\"\n",
    "PRE_DATA_FILE = \"rows_transpose_norm_by_gene_id_with_target_num_\"\n",
    "SCORING = \"roc_auc_ovr\"\n",
    "SEMILLA = 8270\n",
    "MAX_ITERS = 500\n",
    "eval_selector = \"SelectKBest(score_func=mutual_info_classif_state)\"\n",
    "eval_clasifier = \"LogisticRegressionCV(random_state=SEMILLA)\"\n",
    "param_distributions = {\n",
    "    \"selector__k\": [1000],\n",
    "    \"clasifier__solver\": [\"saga\"],\n",
    "    \"clasifier__penalty\": [\"elasticnet\"],\n",
    "    \"clasifier__max_iter\": [10000],\n",
    "    \"clasifier__l1_ratios\": [[0.75]],\n",
    "}\n"
   ]
  },
  {
   "cell_type": "code",
   "execution_count": 4,
   "id": "bf82e64d",
   "metadata": {
    "execution": {
     "iopub.execute_input": "2023-10-30T00:13:55.178226Z",
     "iopub.status.busy": "2023-10-30T00:13:55.177739Z",
     "iopub.status.idle": "2023-10-30T00:13:55.181051Z",
     "shell.execute_reply": "2023-10-30T00:13:55.180503Z"
    },
    "papermill": {
     "duration": 0.00866,
     "end_time": "2023-10-30T00:13:55.182257",
     "exception": false,
     "start_time": "2023-10-30T00:13:55.173597",
     "status": "completed"
    },
    "tags": []
   },
   "outputs": [],
   "source": [
    "DATA_FILE = PRE_DATA_FILE + M_TIPO\n",
    "\n",
    "# si viene \"None\" en el parámetro max_depth, se le quitan las comillas para que no sea entendido por el algoritmo como un texto\n",
    "if \"clasifier__max_depth\" in param_distributions:\n",
    "    param_distributions['clasifier__max_depth'] = [None if x == 'None' else x for x in param_distributions['clasifier__max_depth']]"
   ]
  },
  {
   "cell_type": "markdown",
   "id": "c397ca5f",
   "metadata": {
    "papermill": {
     "duration": 0.003812,
     "end_time": "2023-10-30T00:13:55.189561",
     "exception": false,
     "start_time": "2023-10-30T00:13:55.185749",
     "status": "completed"
    },
    "tags": []
   },
   "source": [
    "Asignar los algoritmos que se utilizarán en la función RandomSearchCV"
   ]
  },
  {
   "cell_type": "code",
   "execution_count": 5,
   "id": "cf00c1b0",
   "metadata": {
    "execution": {
     "iopub.execute_input": "2023-10-30T00:13:55.197797Z",
     "iopub.status.busy": "2023-10-30T00:13:55.197312Z",
     "iopub.status.idle": "2023-10-30T00:13:55.200186Z",
     "shell.execute_reply": "2023-10-30T00:13:55.199657Z"
    },
    "papermill": {
     "duration": 0.008204,
     "end_time": "2023-10-30T00:13:55.201366",
     "exception": false,
     "start_time": "2023-10-30T00:13:55.193162",
     "status": "completed"
    },
    "tags": []
   },
   "outputs": [],
   "source": [
    "algor_selector=eval(eval_selector)\n",
    "algor_clasifier=eval(eval_clasifier)"
   ]
  },
  {
   "cell_type": "markdown",
   "id": "03f3bf78",
   "metadata": {
    "papermill": {
     "duration": 0.003702,
     "end_time": "2023-10-30T00:13:55.208653",
     "exception": false,
     "start_time": "2023-10-30T00:13:55.204951",
     "status": "completed"
    },
    "tags": []
   },
   "source": [
    "#### Comprobar el entorno y leer fichero de muestras"
   ]
  },
  {
   "cell_type": "code",
   "execution_count": 6,
   "id": "253d804f",
   "metadata": {
    "execution": {
     "iopub.execute_input": "2023-10-30T00:13:55.216923Z",
     "iopub.status.busy": "2023-10-30T00:13:55.216545Z",
     "iopub.status.idle": "2023-10-30T00:13:55.395535Z",
     "shell.execute_reply": "2023-10-30T00:13:55.394887Z"
    },
    "papermill": {
     "duration": 0.18459,
     "end_time": "2023-10-30T00:13:55.396859",
     "exception": false,
     "start_time": "2023-10-30T00:13:55.212269",
     "status": "completed"
    },
    "tags": []
   },
   "outputs": [
    {
     "name": "stdout",
     "output_type": "stream",
     "text": [
      "20231030T011355 : enderlab : INFO : Encontrada carpeta DATA_DIR=../tfm_git/datos\n",
      "20231030T011355 : enderlab : INFO : Encontrada carpeta CFDNA_DIR=../tfm_git/datos/cfDNA_5hmC\n",
      "20231030T011355 : enderlab : INFO : Encontrada carpeta GENCODE_DIR=../tfm_git/datos/gencode\n",
      "20231030T011355 : enderlab : INFO : Encontrada carpeta H5_DIR=../tfm_git/datos/h5\n",
      "20231030T011355 : enderlab : INFO : Encontrada carpeta LOG_DIR=../tfm_git/datos/logs\n",
      "20231030T011355 : enderlab : INFO : Encontrada carpeta CSV_DIR=../tfm_git/datos/csv\n",
      "20231030T011355 : enderlab : INFO : Encontrada carpeta MODEL_DIR=../tfm_git/ejecuciones/modelos\n",
      "20231030T011355 : enderlab : INFO : Encontrada carpeta EXEC_DIR=../tfm_git/ejecuciones\n",
      "20231030T011355 : enderlab : INFO : Encontrada carpeta MET_DIR=../tfm_git/ejecuciones/metricas\n",
      "20231030T011355 : enderlab : INFO : Inicio leer fichero h5 ../tfm_git/datos/h5/rows_transpose_norm_by_gene_id_with_target_num_mul_s.h5\n",
      "20231030T011355 : enderlab : INFO : Leyendo clave /df\n"
     ]
    },
    {
     "name": "stdout",
     "output_type": "stream",
     "text": [
      "20231030T011355 : enderlab : INFO : Tamaño (259, 18876)\n",
      "20231030T011355 : enderlab : INFO : Fin leer fichero h5 ../tfm_git/datos/h5/rows_transpose_norm_by_gene_id_with_target_num_mul_s.h5\n"
     ]
    },
    {
     "data": {
      "text/plain": [
       "target\n",
       "0    37\n",
       "1    37\n",
       "2    37\n",
       "3    37\n",
       "4    37\n",
       "5    37\n",
       "6    37\n",
       "dtype: int64"
      ]
     },
     "metadata": {},
     "output_type": "display_data"
    },
    {
     "name": "stdout",
     "output_type": "stream",
     "text": [
      "Shape df: (259, 18876)\n"
     ]
    },
    {
     "name": "stdout",
     "output_type": "stream",
     "text": [
      "Shape X_train: (207, 18875)\n",
      "Shape X_test: (52, 18875)\n"
     ]
    }
   ],
   "source": [
    "start_time = datetime.datetime.now()\n",
    "\n",
    "myfunc.reset_vars()\n",
    "\n",
    "myfunc.NOTEBK_FILENAME = myfunc.get_nb_name()\n",
    "\n",
    "myfunc.check_enviroment(myfunc.DATA_DIR, myfunc.CFDNA_DIR, myfunc.GENCODE_DIR, myfunc.H5_DIR, myfunc.LOG_DIR, myfunc.CSV_DIR, myfunc.MODEL_DIR, myfunc.EXEC_DIR, myfunc.MET_DIR)\n",
    "\n",
    "# Leer fichero con las muestras\n",
    "df_t = myfunc.read_h5_to_df(DATA_FILE, myfunc.H5_DIR)\n",
    "display(df_t.groupby(\"target\").size())\n",
    "print(\"Shape df:\",df_t.shape)\n",
    "\n",
    "# Separar caracteristicas/genes de las etiquetas/tipos de cáncer\n",
    "X = df_t.iloc[:, :-1]  # Todas las columnas excepto la última\n",
    "y = df_t.iloc[:, -1]  # La última columna contiene los identificadores de los tipos de cáncer\n",
    "\n",
    "#  Crear el conjunto de datos de entrenamiento y de pruebas, y se fija la semilla para siempre coger el mismo juego de muestras\n",
    "X_train, X_test, y_train, y_test = train_test_split(X, y, test_size=0.2, shuffle=True, random_state=42)\n",
    "print(\"Shape X_train:\",X_train.shape)\n",
    "print(\"Shape X_test:\",X_test.shape)\n"
   ]
  },
  {
   "cell_type": "markdown",
   "id": "3a6c364c",
   "metadata": {
    "papermill": {
     "duration": 0.004331,
     "end_time": "2023-10-30T00:13:55.405721",
     "exception": false,
     "start_time": "2023-10-30T00:13:55.401390",
     "status": "completed"
    },
    "tags": []
   },
   "source": [
    "#### Selección de características y clasificación."
   ]
  },
  {
   "cell_type": "code",
   "execution_count": 7,
   "id": "e9a22117",
   "metadata": {
    "execution": {
     "iopub.execute_input": "2023-10-30T00:13:55.415437Z",
     "iopub.status.busy": "2023-10-30T00:13:55.414979Z",
     "iopub.status.idle": "2023-10-30T00:32:54.225568Z",
     "shell.execute_reply": "2023-10-30T00:32:54.224867Z"
    },
    "papermill": {
     "duration": 1138.822097,
     "end_time": "2023-10-30T00:32:54.231769",
     "exception": false,
     "start_time": "2023-10-30T00:13:55.409672",
     "status": "completed"
    },
    "tags": []
   },
   "outputs": [
    {
     "name": "stdout",
     "output_type": "stream",
     "text": [
      "20231030T011355 : enderlab : INFO : Iniciando entrenamiento\n",
      "num_iter: 1 , max_iter: 1\n"
     ]
    },
    {
     "name": "stdout",
     "output_type": "stream",
     "text": [
      "Fitting 5 folds for each of 1 candidates, totalling 5 fits\n"
     ]
    },
    {
     "name": "stdout",
     "output_type": "stream",
     "text": [
      "[CV 2/5] END clasifier__l1_ratios=[0.75], clasifier__max_iter=10000, clasifier__penalty=elasticnet, clasifier__solver=saga, selector__k=1000;, score=0.754 total time= 6.6min\n"
     ]
    },
    {
     "name": "stdout",
     "output_type": "stream",
     "text": [
      "[CV 3/5] END clasifier__l1_ratios=[0.75], clasifier__max_iter=10000, clasifier__penalty=elasticnet, clasifier__solver=saga, selector__k=1000;, score=0.740 total time= 6.8min\n"
     ]
    },
    {
     "name": "stdout",
     "output_type": "stream",
     "text": [
      "[CV 4/5] END clasifier__l1_ratios=[0.75], clasifier__max_iter=10000, clasifier__penalty=elasticnet, clasifier__solver=saga, selector__k=1000;, score=0.821 total time= 7.7min\n"
     ]
    },
    {
     "name": "stdout",
     "output_type": "stream",
     "text": [
      "[CV 1/5] END clasifier__l1_ratios=[0.75], clasifier__max_iter=10000, clasifier__penalty=elasticnet, clasifier__solver=saga, selector__k=1000;, score=0.825 total time= 8.1min\n"
     ]
    },
    {
     "name": "stdout",
     "output_type": "stream",
     "text": [
      "[CV 5/5] END clasifier__l1_ratios=[0.75], clasifier__max_iter=10000, clasifier__penalty=elasticnet, clasifier__solver=saga, selector__k=1000;, score=0.780 total time= 8.8min\n"
     ]
    },
    {
     "name": "stdout",
     "output_type": "stream",
     "text": [
      "Mejores Hiperparámetros: {'selector__k': 1000, 'clasifier__solver': 'saga', 'clasifier__penalty': 'elasticnet', 'clasifier__max_iter': 10000, 'clasifier__l1_ratios': [0.75]}\n",
      "Mejor Puntuación: 0.7839\n",
      "20231030T013254 : enderlab : INFO : Fin entrenamiento\n"
     ]
    }
   ],
   "source": [
    "myfunc.verbose(\"Iniciando entrenamiento\")\n",
    "\n",
    "kf = KFold(n_splits=5, shuffle=True, random_state=SEMILLA)\n",
    "\n",
    "# Crear el pipeline para el flujo de tareas\n",
    "tasks_pipeline = Pipeline([\n",
    "    ('selector', algor_selector),\n",
    "    ('clasifier', algor_clasifier)\n",
    "])\n",
    "\n",
    "# MAX_ITERS puede limitar el número de iteraciones si son excesivas para las combinaciones de parámetros buscando un óptimo local, \n",
    "# sino funcionaría como GridSearchCV al revisar todas las cominaciones de los parámetros\n",
    "num_iteraciones = 1\n",
    "num_iteraciones = num_iteraciones * np.prod([len(elemento1) for _, elemento1 in param_distributions.items()])\n",
    "max_iteraciones = num_iteraciones if num_iteraciones <= MAX_ITERS else MAX_ITERS\n",
    "print(\"num_iter:\",num_iteraciones,\", max_iter:\",max_iteraciones)\n",
    "\n",
    "random_search = RandomizedSearchCV(\n",
    "    tasks_pipeline, \n",
    "    param_distributions, \n",
    "    n_iter=max_iteraciones,\n",
    "    scoring=SCORING,\n",
    "    cv=kf,\n",
    "    verbose=3, \n",
    "    random_state=SEMILLA, \n",
    "    n_jobs=-1\n",
    "    )\n",
    "\n",
    "# Entrenar el modelo\n",
    "random_search.fit(X_train, y_train)\n",
    "\n",
    "# Ver los mejores hiperparámetros encontrados\n",
    "print(f'Mejores Hiperparámetros: {random_search.best_params_}')\n",
    "print(f'Mejor Puntuación: {random_search.best_score_:.4f}')\n",
    "\n",
    "# Nos quedamos con el mejor modelo para ver las métricas\n",
    "mejor_modelo = random_search.best_estimator_\n",
    "\n",
    "myfunc.verbose(\"Fin entrenamiento\")"
   ]
  },
  {
   "cell_type": "markdown",
   "id": "2e3d9e82",
   "metadata": {
    "papermill": {
     "duration": 0.004537,
     "end_time": "2023-10-30T00:32:54.241202",
     "exception": false,
     "start_time": "2023-10-30T00:32:54.236665",
     "status": "completed"
    },
    "tags": []
   },
   "source": [
    "#### Guardar modelo"
   ]
  },
  {
   "cell_type": "code",
   "execution_count": 8,
   "id": "7ff0b44f",
   "metadata": {
    "execution": {
     "iopub.execute_input": "2023-10-30T00:32:54.251666Z",
     "iopub.status.busy": "2023-10-30T00:32:54.251053Z",
     "iopub.status.idle": "2023-10-30T00:32:54.263464Z",
     "shell.execute_reply": "2023-10-30T00:32:54.262791Z"
    },
    "papermill": {
     "duration": 0.019265,
     "end_time": "2023-10-30T00:32:54.264809",
     "exception": false,
     "start_time": "2023-10-30T00:32:54.245544",
     "status": "completed"
    },
    "tags": []
   },
   "outputs": [
    {
     "name": "stdout",
     "output_type": "stream",
     "text": [
      "20231030T013254 : enderlab : INFO : Inicio guardar fichero ../tfm_git/ejecuciones/modelos/modelo_8270_mul_s_MI_LR_EN.pkl\n",
      "20231030T013254 : enderlab : INFO : Fin guardar fichero ../tfm_git/ejecuciones/modelos/modelo_8270_mul_s_MI_LR_EN.pkl\n"
     ]
    }
   ],
   "source": [
    "fichero_modelo = str.replace(\"modelo_\"+str(SEMILLA).zfill(4)+\"_\"+M_TIPO+\"_\"+M_SELECT+\"_\"+M_CLASIF+\".pkl\", \" \", \"_\")\n",
    "\n",
    "myfunc.save_modelo(mejor_modelo, myfunc.MODEL_DIR, fichero_modelo)"
   ]
  },
  {
   "cell_type": "markdown",
   "id": "6f264430",
   "metadata": {
    "papermill": {
     "duration": 0.004446,
     "end_time": "2023-10-30T00:32:54.273858",
     "exception": false,
     "start_time": "2023-10-30T00:32:54.269412",
     "status": "completed"
    },
    "tags": []
   },
   "source": [
    "#### Ver resultados del las iteraciones hechas por RandomSearchCV"
   ]
  },
  {
   "cell_type": "code",
   "execution_count": 9,
   "id": "1c3435c5",
   "metadata": {
    "execution": {
     "iopub.execute_input": "2023-10-30T00:32:54.284629Z",
     "iopub.status.busy": "2023-10-30T00:32:54.284052Z",
     "iopub.status.idle": "2023-10-30T00:32:54.290921Z",
     "shell.execute_reply": "2023-10-30T00:32:54.290390Z"
    },
    "papermill": {
     "duration": 0.013302,
     "end_time": "2023-10-30T00:32:54.292232",
     "exception": false,
     "start_time": "2023-10-30T00:32:54.278930",
     "status": "completed"
    },
    "tags": []
   },
   "outputs": [
    {
     "name": "stdout",
     "output_type": "stream",
     "text": [
      "20231030T013254 : enderlab : INFO : Inicio ver resultados\n",
      "Mejores Hiperparámetros: {'selector__k': 1000, 'clasifier__solver': 'saga', 'clasifier__penalty': 'elasticnet', 'clasifier__max_iter': 10000, 'clasifier__l1_ratios': [0.75]}\n",
      "Mejores puntuaciones: 0.7839 | Params: {'selector__k': 1000, 'clasifier__solver': 'saga', 'clasifier__penalty': 'elasticnet', 'clasifier__max_iter': 10000, 'clasifier__l1_ratios': [0.75]}\n",
      "Media de las puntuaciones: 0.7839 | Params: {'selector__k': 1000, 'clasifier__solver': 'saga', 'clasifier__penalty': 'elasticnet', 'clasifier__max_iter': 10000, 'clasifier__l1_ratios': [0.75]}\n",
      "20231030T013254 : enderlab : INFO : Fin resultados\n"
     ]
    }
   ],
   "source": [
    "myfunc.ver_resultados_search(random_search)"
   ]
  },
  {
   "cell_type": "markdown",
   "id": "40980ea8",
   "metadata": {
    "papermill": {
     "duration": 0.007926,
     "end_time": "2023-10-30T00:32:54.304560",
     "exception": false,
     "start_time": "2023-10-30T00:32:54.296634",
     "status": "completed"
    },
    "tags": []
   },
   "source": [
    "#### Ver métricas del mejor modelo"
   ]
  },
  {
   "cell_type": "code",
   "execution_count": 10,
   "id": "e5b49af9",
   "metadata": {
    "execution": {
     "iopub.execute_input": "2023-10-30T00:32:54.314827Z",
     "iopub.status.busy": "2023-10-30T00:32:54.314439Z",
     "iopub.status.idle": "2023-10-30T00:32:55.000451Z",
     "shell.execute_reply": "2023-10-30T00:32:54.999867Z"
    },
    "papermill": {
     "duration": 0.692521,
     "end_time": "2023-10-30T00:32:55.001759",
     "exception": false,
     "start_time": "2023-10-30T00:32:54.309238",
     "status": "completed"
    },
    "tags": []
   },
   "outputs": [
    {
     "name": "stdout",
     "output_type": "stream",
     "text": [
      "20231030T013254 : enderlab : INFO : Inicio ver métricas multiclase\n"
     ]
    },
    {
     "name": "stdout",
     "output_type": "stream",
     "text": [
      "              precision    recall  f1-score   support\n",
      "\n",
      "           0       0.60      0.55      0.57        11\n",
      "           1       0.83      0.62      0.71         8\n",
      "           2       0.25      0.12      0.17         8\n",
      "           3       0.33      0.60      0.43         5\n",
      "           4       0.67      1.00      0.80         8\n",
      "           5       1.00      0.33      0.50         6\n",
      "           6       0.44      0.67      0.53         6\n",
      "\n",
      "    accuracy                           0.56        52\n",
      "   macro avg       0.59      0.56      0.53        52\n",
      "weighted avg       0.59      0.56      0.54        52\n",
      "\n",
      "\n",
      "\n",
      "           Exactitud: 0.557692\n",
      "   Precisión (media): 0.589683\n",
      "      Recall (media): 0.556494\n",
      "    F1-score (media): 0.530612\n",
      "\n",
      "\n",
      "AUC para el tipo de cáncer 0-Control.... 0.7140\n",
      "AUC para el tipo de cáncer 1-Bladder.... 0.9375\n",
      "AUC para el tipo de cáncer 2-Breast..... 0.7386\n",
      "AUC para el tipo de cáncer 3-Colorectal. 0.7660\n",
      "AUC para el tipo de cáncer 4-Kidney..... 0.9432\n",
      "AUC para el tipo de cáncer 5-Lung....... 0.9457\n",
      "AUC para el tipo de cáncer 6-Prostate... 0.8551\n"
     ]
    },
    {
     "name": "stdout",
     "output_type": "stream",
     "text": [
      "\n",
      "Media de AUC: 0.8429\n"
     ]
    },
    {
     "data": {
      "image/png": "[encoded data removed]",
      "text/plain": [
       "<Figure size 1000x600 with 1 Axes>"
      ]
     },
     "metadata": {},
     "output_type": "display_data"
    },
    {
     "name": "stdout",
     "output_type": "stream",
     "text": [
      "\n",
      "\n"
     ]
    },
    {
     "data": {
      "image/png": "[encoded data removed]",
      "text/plain": [
       "<Figure size 800x400 with 2 Axes>"
      ]
     },
     "metadata": {},
     "output_type": "display_data"
    },
    {
     "name": "stdout",
     "output_type": "stream",
     "text": [
      "\n",
      "\n",
      "Puntuación Jaccard para el cáncer tipo 0-Control.... 0.4000\n",
      "Puntuación Jaccard para el cáncer tipo 1-Bladder.... 0.5556\n",
      "Puntuación Jaccard para el cáncer tipo 2-Breast..... 0.0909\n",
      "Puntuación Jaccard para el cáncer tipo 3-Colorectal. 0.2727\n",
      "Puntuación Jaccard para el cáncer tipo 4-Kidney..... 0.6667\n",
      "Puntuación Jaccard para el cáncer tipo 5-Lung....... 0.3333\n",
      "Puntuación Jaccard para el cáncer tipo 6-Prostate... 0.3636\n",
      "\n",
      "Media de la puntuación de Jaccard: 0.3833\n"
     ]
    }
   ],
   "source": [
    "if M_TIPO.startswith(\"bin\"):\n",
    "    myfunc.ver_metricas(mejor_modelo, X_test, y_test)\n",
    "else:\n",
    "    myfunc.ver_metricas_multi(mejor_modelo, X_test, y_test)\n"
   ]
  },
  {
   "cell_type": "markdown",
   "id": "b974f908",
   "metadata": {
    "papermill": {
     "duration": 0.006102,
     "end_time": "2023-10-30T00:32:55.014710",
     "exception": false,
     "start_time": "2023-10-30T00:32:55.008608",
     "status": "completed"
    },
    "tags": []
   },
   "source": [
    "#### Finalización del notebook"
   ]
  },
  {
   "cell_type": "code",
   "execution_count": 11,
   "id": "acb773df",
   "metadata": {
    "execution": {
     "iopub.execute_input": "2023-10-30T00:32:55.027812Z",
     "iopub.status.busy": "2023-10-30T00:32:55.027318Z",
     "iopub.status.idle": "2023-10-30T00:32:55.031010Z",
     "shell.execute_reply": "2023-10-30T00:32:55.030480Z"
    },
    "papermill": {
     "duration": 0.011644,
     "end_time": "2023-10-30T00:32:55.032289",
     "exception": false,
     "start_time": "2023-10-30T00:32:55.020645",
     "status": "completed"
    },
    "tags": []
   },
   "outputs": [
    {
     "name": "stdout",
     "output_type": "stream",
     "text": [
      "20231030T013255 : enderlab : INFO : Notebook ha tardado 1139 seconds\n"
     ]
    }
   ],
   "source": [
    "end_time = datetime.datetime.now()\n",
    "total_time = end_time - start_time\n",
    "myfunc.verbose(f\"Notebook ha tardado {total_time.seconds} seconds\")"
   ]
  },
  {
   "cell_type": "markdown",
   "id": "c74a0870",
   "metadata": {
    "papermill": {
     "duration": 0.005984,
     "end_time": "2023-10-30T00:32:55.044200",
     "exception": false,
     "start_time": "2023-10-30T00:32:55.038216",
     "status": "completed"
    },
    "tags": []
   },
   "source": [
    "#### Guardar métricas"
   ]
  },
  {
   "cell_type": "code",
   "execution_count": 12,
   "id": "03b480c9",
   "metadata": {
    "execution": {
     "iopub.execute_input": "2023-10-30T00:32:55.058154Z",
     "iopub.status.busy": "2023-10-30T00:32:55.057672Z",
     "iopub.status.idle": "2023-10-30T00:32:55.301380Z",
     "shell.execute_reply": "2023-10-30T00:32:55.300826Z"
    },
    "papermill": {
     "duration": 0.252131,
     "end_time": "2023-10-30T00:32:55.302654",
     "exception": false,
     "start_time": "2023-10-30T00:32:55.050523",
     "status": "completed"
    },
    "tags": []
   },
   "outputs": [
    {
     "name": "stdout",
     "output_type": "stream",
     "text": [
      "20231030T013255 : enderlab : INFO : Inicio guardar métricas multiclase\n",
      "20231030T013255 : enderlab : INFO : Inicio leer fichero ../tfm_git/ejecuciones/metricas/metricas_8270.csv\n",
      "20231030T013255 : enderlab : INFO : Fin leer fichero ../tfm_git/ejecuciones/metricas/metricas_8270.csv\n"
     ]
    },
    {
     "name": "stdout",
     "output_type": "stream",
     "text": [
      "20231030T013255 : enderlab : INFO : Inicio guardar fichero ../tfm_git/ejecuciones/metricas/metricas_8270.csv\n",
      "20231030T013255 : enderlab : INFO : Fichero borrado ../tfm_git/ejecuciones/metricas/metricas_8270.csv\n"
     ]
    },
    {
     "name": "stdout",
     "output_type": "stream",
     "text": [
      "20231030T013255 : enderlab : INFO : Fin guardar fichero ../tfm_git/ejecuciones/metricas/metricas_8270.csv\n",
      "20231030T013255 : enderlab : INFO : Fin guardar métricas multiclase\n",
      "20231030T013255 : enderlab : INFO : Inicio leer fichero ../tfm_git/ejecuciones/metricas/metricas_8270.csv\n",
      "20231030T013255 : enderlab : INFO : Fin leer fichero ../tfm_git/ejecuciones/metricas/metricas_8270.csv\n"
     ]
    },
    {
     "data": {
      "text/html": [
       "<div>\n",
       "<style scoped>\n",
       "    .dataframe tbody tr th:only-of-type {\n",
       "        vertical-align: middle;\n",
       "    }\n",
       "\n",
       "    .dataframe tbody tr th {\n",
       "        vertical-align: top;\n",
       "    }\n",
       "\n",
       "    .dataframe thead th {\n",
       "        text-align: right;\n",
       "    }\n",
       "</style>\n",
       "<table border=\"1\" class=\"dataframe\">\n",
       "  <thead>\n",
       "    <tr style=\"text-align: right;\">\n",
       "      <th></th>\n",
       "      <th>tipo</th>\n",
       "      <th>select</th>\n",
       "      <th>clasific</th>\n",
       "      <th>semilla</th>\n",
       "      <th>accuracy</th>\n",
       "      <th>precision</th>\n",
       "      <th>recall</th>\n",
       "      <th>f1_score</th>\n",
       "      <th>roc_auc</th>\n",
       "      <th>hostname</th>\n",
       "      <th>total_time_sec</th>\n",
       "      <th>datetime</th>\n",
       "      <th>fichero_modelo</th>\n",
       "      <th>params</th>\n",
       "      <th>shape</th>\n",
       "      <th>features</th>\n",
       "      <th>roc_auc_ovr</th>\n",
       "      <th>indices_auc</th>\n",
       "      <th>indices_jaccard</th>\n",
       "    </tr>\n",
       "  </thead>\n",
       "  <tbody>\n",
       "    <tr>\n",
       "      <th>0</th>\n",
       "      <td>mul_s</td>\n",
       "      <td>MI</td>\n",
       "      <td>LR_EN</td>\n",
       "      <td>8270</td>\n",
       "      <td>0.557692</td>\n",
       "      <td>0.589683</td>\n",
       "      <td>0.556494</td>\n",
       "      <td>0.530612</td>\n",
       "      <td>NaN</td>\n",
       "      <td>enderlab</td>\n",
       "      <td>1139</td>\n",
       "      <td>2023-10-30 01:32:55.249206</td>\n",
       "      <td>modelo_8270_mul_s_MI_LR_EN.pkl</td>\n",
       "      <td>{'selector__k': 1000, 'clasifier__solver': 'sa...</td>\n",
       "      <td>X_test:(52, 18875)</td>\n",
       "      <td>['ENSG00000003137.9', 'ENSG00000004864.14', 'E...</td>\n",
       "      <td>0.842853</td>\n",
       "      <td>[0.713968957871397, 0.9375, 0.7386363636363635...</td>\n",
       "      <td>[0.4, 0.5555555555555556, 0.09090909090909091,...</td>\n",
       "    </tr>\n",
       "    <tr>\n",
       "      <th>0</th>\n",
       "      <td>mul_s</td>\n",
       "      <td>ANOVA</td>\n",
       "      <td>SVM</td>\n",
       "      <td>8270</td>\n",
       "      <td>0.365385</td>\n",
       "      <td>0.363152</td>\n",
       "      <td>0.374892</td>\n",
       "      <td>0.331833</td>\n",
       "      <td>NaN</td>\n",
       "      <td>enderlab</td>\n",
       "      <td>2</td>\n",
       "      <td>2023-10-30 01:13:48.408465</td>\n",
       "      <td>modelo_8270_mul_s_ANOVA_SVM.pkl</td>\n",
       "      <td>{'selector__k': 200, 'clasifier__kernel': 'rbf...</td>\n",
       "      <td>X_test:(52, 18875)</td>\n",
       "      <td>['ENSG00000000938.13', 'ENSG00000005381.9', 'E...</td>\n",
       "      <td>0.764106</td>\n",
       "      <td>[0.43458980044345896, 0.8352272727272727, 0.67...</td>\n",
       "      <td>[0.08333333333333333, 0.5, 0.0, 0.071428571428...</td>\n",
       "    </tr>\n",
       "    <tr>\n",
       "      <th>0</th>\n",
       "      <td>mul_s</td>\n",
       "      <td>ANOVA</td>\n",
       "      <td>RF</td>\n",
       "      <td>8270</td>\n",
       "      <td>0.307692</td>\n",
       "      <td>0.269048</td>\n",
       "      <td>0.303463</td>\n",
       "      <td>0.279402</td>\n",
       "      <td>NaN</td>\n",
       "      <td>enderlab</td>\n",
       "      <td>8</td>\n",
       "      <td>2023-10-30 01:13:38.630205</td>\n",
       "      <td>modelo_8270_mul_s_ANOVA_RF.pkl</td>\n",
       "      <td>{'selector__k': 500, 'clasifier__n_estimators'...</td>\n",
       "      <td>X_test:(52, 18875)</td>\n",
       "      <td>['ENSG00000000938.13', 'ENSG00000002919.15', '...</td>\n",
       "      <td>0.714350</td>\n",
       "      <td>[0.4567627494456763, 0.8068181818181818, 0.650...</td>\n",
       "      <td>[0.06666666666666667, 0.4166666666666667, 0.0,...</td>\n",
       "    </tr>\n",
       "  </tbody>\n",
       "</table>\n",
       "</div>"
      ],
      "text/plain": [
       "    tipo select clasific  semilla  accuracy  precision    recall  f1_score  \\\n",
       "0  mul_s     MI    LR_EN     8270  0.557692   0.589683  0.556494  0.530612   \n",
       "0  mul_s  ANOVA      SVM     8270  0.365385   0.363152  0.374892  0.331833   \n",
       "0  mul_s  ANOVA       RF     8270  0.307692   0.269048  0.303463  0.279402   \n",
       "\n",
       "   roc_auc  hostname  total_time_sec                    datetime  \\\n",
       "0      NaN  enderlab            1139  2023-10-30 01:32:55.249206   \n",
       "0      NaN  enderlab               2  2023-10-30 01:13:48.408465   \n",
       "0      NaN  enderlab               8  2023-10-30 01:13:38.630205   \n",
       "\n",
       "                    fichero_modelo  \\\n",
       "0   modelo_8270_mul_s_MI_LR_EN.pkl   \n",
       "0  modelo_8270_mul_s_ANOVA_SVM.pkl   \n",
       "0   modelo_8270_mul_s_ANOVA_RF.pkl   \n",
       "\n",
       "                                              params               shape  \\\n",
       "0  {'selector__k': 1000, 'clasifier__solver': 'sa...  X_test:(52, 18875)   \n",
       "0  {'selector__k': 200, 'clasifier__kernel': 'rbf...  X_test:(52, 18875)   \n",
       "0  {'selector__k': 500, 'clasifier__n_estimators'...  X_test:(52, 18875)   \n",
       "\n",
       "                                            features  roc_auc_ovr  \\\n",
       "0  ['ENSG00000003137.9', 'ENSG00000004864.14', 'E...     0.842853   \n",
       "0  ['ENSG00000000938.13', 'ENSG00000005381.9', 'E...     0.764106   \n",
       "0  ['ENSG00000000938.13', 'ENSG00000002919.15', '...     0.714350   \n",
       "\n",
       "                                         indices_auc  \\\n",
       "0  [0.713968957871397, 0.9375, 0.7386363636363635...   \n",
       "0  [0.43458980044345896, 0.8352272727272727, 0.67...   \n",
       "0  [0.4567627494456763, 0.8068181818181818, 0.650...   \n",
       "\n",
       "                                     indices_jaccard  \n",
       "0  [0.4, 0.5555555555555556, 0.09090909090909091,...  \n",
       "0  [0.08333333333333333, 0.5, 0.0, 0.071428571428...  \n",
       "0  [0.06666666666666667, 0.4166666666666667, 0.0,...  "
      ]
     },
     "metadata": {},
     "output_type": "display_data"
    }
   ],
   "source": [
    "if M_TIPO.startswith(\"bin\"):\n",
    "    myfunc.save_metricas_to_csv(random_search, X_test, y_test, M_TIPO, M_SELECT, M_CLASIF, total_time, SEMILLA, myfunc.MET_DIR, M_FICHERO, fichero_modelo)\n",
    "else:\n",
    "    myfunc.save_metricas_multi_to_csv(random_search, X_test, y_test, M_TIPO, M_SELECT, M_CLASIF, total_time, SEMILLA, myfunc.MET_DIR, M_FICHERO, fichero_modelo)\n",
    "\n",
    "df1=myfunc.read_metricas_to_df(myfunc.MET_DIR,M_FICHERO)\n",
    "\n",
    "display(df1.sort_values(\"datetime\", ascending=False)[:3])\n"
   ]
  },
  {
   "cell_type": "markdown",
   "id": "e79ed8da",
   "metadata": {
    "papermill": {
     "duration": 0.006742,
     "end_time": "2023-10-30T00:32:55.316464",
     "exception": false,
     "start_time": "2023-10-30T00:32:55.309722",
     "status": "completed"
    },
    "tags": []
   },
   "source": [
    "#### Guardar resultados"
   ]
  },
  {
   "cell_type": "code",
   "execution_count": 13,
   "id": "4d6110c5",
   "metadata": {
    "execution": {
     "iopub.execute_input": "2023-10-30T00:32:55.330843Z",
     "iopub.status.busy": "2023-10-30T00:32:55.330355Z",
     "iopub.status.idle": "2023-10-30T00:32:55.339894Z",
     "shell.execute_reply": "2023-10-30T00:32:55.339365Z"
    },
    "papermill": {
     "duration": 0.018092,
     "end_time": "2023-10-30T00:32:55.341183",
     "exception": false,
     "start_time": "2023-10-30T00:32:55.323091",
     "status": "completed"
    },
    "tags": []
   },
   "outputs": [
    {
     "name": "stdout",
     "output_type": "stream",
     "text": [
      "20231030T013255 : enderlab : INFO : Inicio guardar resultados\n",
      "20231030T013255 : enderlab : INFO : Inicio guardar fichero ../tfm_git/ejecuciones/metricas/resultados_8270_mul_s-MI-LR_EN.csv\n",
      "20231030T013255 : enderlab : INFO : Fin guardar fichero ../tfm_git/ejecuciones/metricas/resultados_8270_mul_s-MI-LR_EN.csv\n",
      "20231030T013255 : enderlab : INFO : Fin guardar resultados\n"
     ]
    }
   ],
   "source": [
    "fichero_resultados=R_FICHERO+\"_\"+M_TIPO+\"-\"+M_SELECT+\"-\"+M_CLASIF+\".csv\"\n",
    "myfunc.save_resultados_to_csv(M_TIPO, M_SELECT, M_CLASIF,  random_search, myfunc.MET_DIR, fichero_resultados)\n"
   ]
  }
 ],
 "metadata": {
  "kernelspec": {
   "display_name": "Python 3 (ipykernel)",
   "language": "python",
   "name": "python3"
  },
  "language_info": {
   "codemirror_mode": {
    "name": "ipython",
    "version": 3
   },
   "file_extension": ".py",
   "mimetype": "text/x-python",
   "name": "python",
   "nbconvert_exporter": "python",
   "pygments_lexer": "ipython3",
   "version": "3.10.11"
  },
  "papermill": {
   "default_parameters": {},
   "duration": 1145.163758,
   "end_time": "2023-10-30T00:32:57.966178",
   "environment_variables": {},
   "exception": null,
   "input_path": "03_entrenamiento.ipynb",
   "output_path": "ejecuciones/training/03_entrenamiento.20231030T011352.param_0000_8270_mul_s_MI_LR_EN.output.ipynb",
   "parameters": {
    "MAX_ITERS": 500,
    "M_CLASIF": "LR_EN",
    "M_FICHERO": "metricas_8270",
    "M_SELECT": "MI",
    "M_TIPO": "mul_s",
    "PRE_DATA_FILE": "rows_transpose_norm_by_gene_id_with_target_num_",
    "P_FICHERO": "param_0000_8270_mul_s_MI_LR_EN.yaml",
    "R_FICHERO": "resultados_8270",
    "SCORING": "roc_auc_ovr",
    "SEMILLA": 8270,
    "eval_clasifier": "LogisticRegressionCV(random_state=SEMILLA)",
    "eval_selector": "SelectKBest(score_func=mutual_info_classif_state)",
    "param_distributions": {
     "clasifier__l1_ratios": [
      [
       0.75
      ]
     ],
     "clasifier__max_iter": [
      10000
     ],
     "clasifier__penalty": [
      "elasticnet"
     ],
     "clasifier__solver": [
      "saga"
     ],
     "selector__k": [
      1000
     ]
    }
   },
   "start_time": "2023-10-30T00:13:52.802420",
   "version": "2.4.0"
  }
 },
 "nbformat": 4,
 "nbformat_minor": 5
}