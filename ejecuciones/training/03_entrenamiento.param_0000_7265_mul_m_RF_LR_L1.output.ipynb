{
 "cells": [
  {
   "cell_type": "markdown",
   "id": "4eb59b26",
   "metadata": {
    "papermill": {
     "duration": 0.006023,
     "end_time": "2023-10-30T14:42:25.615810",
     "exception": false,
     "start_time": "2023-10-30T14:42:25.609787",
     "status": "completed"
    },
    "tags": []
   },
   "source": [
    "##### Inicio"
   ]
  },
  {
   "cell_type": "markdown",
   "id": "793cdcb4",
   "metadata": {
    "papermill": {
     "duration": 0.003363,
     "end_time": "2023-10-30T14:42:25.622931",
     "exception": false,
     "start_time": "2023-10-30T14:42:25.619568",
     "status": "completed"
    },
    "tags": []
   },
   "source": [
    "#### Carga de datos"
   ]
  },
  {
   "cell_type": "code",
   "execution_count": 1,
   "id": "1e4fe297",
   "metadata": {
    "execution": {
     "iopub.execute_input": "2023-10-30T14:42:25.631058Z",
     "iopub.status.busy": "2023-10-30T14:42:25.630495Z",
     "iopub.status.idle": "2023-10-30T14:42:26.735800Z",
     "shell.execute_reply": "2023-10-30T14:42:26.735137Z"
    },
    "papermill": {
     "duration": 1.111249,
     "end_time": "2023-10-30T14:42:26.737487",
     "exception": false,
     "start_time": "2023-10-30T14:42:25.626238",
     "status": "completed"
    },
    "tags": []
   },
   "outputs": [
    {
     "name": "stdout",
     "output_type": "stream",
     "text": [
      "CPU_COUNT: 16; NODE: enderlab; sys.version: 3.10.11 (main, May 16 2023, 00:28:57) [GCC 11.2.0]\n",
      "LOKY_MAX_CPU_COUNT is not set.\n",
      "OMP_NUM_THREADS is not set.\n"
     ]
    }
   ],
   "source": [
    "import os\n",
    "import numpy as np\n",
    "import pandas as pd\n",
    "import datetime\n",
    "import sklearn\n",
    "import logging\n",
    "import warnings\n",
    "\n",
    "from sklearn.pipeline import Pipeline\n",
    "from sklearn.model_selection import RandomizedSearchCV, KFold, cross_val_score, train_test_split\n",
    "from sklearn.metrics import accuracy_score, confusion_matrix, classification_report, roc_auc_score\n",
    "\n",
    "#  cargar algoritmos para aprendizaje supervisado\n",
    "from sklearn.feature_selection import SelectKBest, f_classif, SelectFromModel, mutual_info_classif\n",
    "from sklearn.svm import SVC\n",
    "from sklearn.ensemble import RandomForestClassifier\n",
    "from sklearn.linear_model import LogisticRegression,LogisticRegressionCV\n",
    "\n",
    "# importar fichero con utilidades propias\n",
    "from commons import myfunctions as myfunc\n"
   ]
  },
  {
   "cell_type": "markdown",
   "id": "974e6dc2",
   "metadata": {
    "papermill": {
     "duration": 0.005414,
     "end_time": "2023-10-30T14:42:26.746954",
     "exception": false,
     "start_time": "2023-10-30T14:42:26.741540",
     "status": "completed"
    },
    "tags": []
   },
   "source": [
    "#### Parámetros a utilizar en el entrenamiento.\n",
    "\n",
    "Se indican los 3 algoritmos de *selección de características* (eval_selector_xxx) y los 3 algoritmos para la _clasificación_ (eval_clasifier_xxx)\n",
    "\n",
    "En *param_distributions* se indicar los parámetros que utilizan los algoritmos en la función RandomSearchCV.\n",
    "\n",
    "Esta celda tiene la etiqueta **parameters** que servirá para poder lanzar los entrenamientos con la utilidad **papermill** pasándole un fichero con los parámetros. Los nuevos parámetros se situarán tras esta celda para tener prevalencia."
   ]
  },
  {
   "cell_type": "code",
   "execution_count": 2,
   "id": "9615fffb",
   "metadata": {
    "execution": {
     "iopub.execute_input": "2023-10-30T14:42:26.755298Z",
     "iopub.status.busy": "2023-10-30T14:42:26.754782Z",
     "iopub.status.idle": "2023-10-30T14:42:26.763544Z",
     "shell.execute_reply": "2023-10-30T14:42:26.762979Z"
    },
    "papermill": {
     "duration": 0.014389,
     "end_time": "2023-10-30T14:42:26.764764",
     "exception": false,
     "start_time": "2023-10-30T14:42:26.750375",
     "status": "completed"
    },
    "tags": [
     "parameters"
    ]
   },
   "outputs": [
    {
     "name": "stdout",
     "output_type": "stream",
     "text": [
      "20231030T154226 : enderlab : INFO : Utilizando parámetros de mul_m\n"
     ]
    }
   ],
   "source": [
    "#  Parametros para el entrenamiento\n",
    "\n",
    "SEMILLA=        42\n",
    "M_TIPO=         \"mul_m\"\n",
    "M_SELECT=       \"MI\"\n",
    "M_CLASIF=       \"SVM\"\n",
    "R_FICHERO=      \"resultados\"\n",
    "M_FICHERO=      \"metricas\"\n",
    "PRE_DATA_FILE=  \"rows_transpose_norm_by_gene_id_with_target_num_\"\n",
    "SCORING=        \"roc_auc_ovr\" \n",
    "MAX_ITERS=      100\n",
    "\n",
    "def mutual_info_classif_state(X, y):\n",
    "    return mutual_info_classif(X, y, random_state=SEMILLA)\n",
    "\n",
    "eval_selector_mi = \"SelectKBest(score_func=mutual_info_classif_state)\"\n",
    "eval_selector_rf=  \"SelectFromModel(estimator=RandomForestClassifier(random_state=SEMILLA), threshold=-np.inf)\"\n",
    "eval_selector_anova=  \"SelectKBest(score_func=f_classif)\"\n",
    "\n",
    "eval_clasifier_svm= \"SVC(probability=True, random_state=SEMILLA)\"\n",
    "eval_clasifier_rf= \"RandomForestClassifier(random_state=SEMILLA)\"\n",
    "eval_clasifier_lr= \"LogisticRegressionCV(random_state=SEMILLA)\"\n",
    "\n",
    "if M_TIPO.startswith(\"bin_m\"):\n",
    "    myfunc.verbose(f\"Utilizando parámetros de {M_TIPO}\")\n",
    "    eval_selector = eval_selector_mi\n",
    "    eval_clasifier = eval_clasifier_svm\n",
    "\n",
    "    SEMILLA = 6578\n",
    "    M_SELECT = \"MI\"\n",
    "    M_CLASIF = \"SVM\"\n",
    "    param_distributions = {'selector__k': [1000], \n",
    "         'clasifier__kernel': ['rbf'], 'clasifier__gamma': [0.01], 'clasifier__C': [100]}\n",
    "elif M_TIPO.startswith(\"bin_s\"):\n",
    "    myfunc.verbose(f\"Utilizando parámetros de {M_TIPO}\")\n",
    "    eval_selector = eval_selector_rf\n",
    "    eval_clasifier = eval_clasifier_lr\n",
    "\n",
    "    SEMILLA = 6191\n",
    "    M_SELECT = \"RF\"\n",
    "    M_CLASIF = \"LR_L2\"\n",
    "    param_distributions = {'selector__max_features': [1000], 'selector__estimator__n_estimators': [200], \n",
    "        'clasifier__solver': ['lbfgs'], 'clasifier__penalty': ['l2'], 'clasifier__max_iter': [10000]}\n",
    "\n",
    "elif M_TIPO.startswith(\"mul_m\"):\n",
    "    myfunc.verbose(f\"Utilizando parámetros de {M_TIPO}\")\n",
    " \n",
    "    eval_selector = eval_selector_rf\n",
    "    eval_clasifier = eval_clasifier_lr\n",
    "\n",
    "    SEMILLA = 6191\n",
    "    M_SELECT = \"RF\"\n",
    "    M_CLASIF = \"LR_L2\"\n",
    "    param_distributions = {'selector__max_features': [1000], 'selector__estimator__n_estimators': [400], \n",
    "        'clasifier__solver': ['lbfgs'], 'clasifier__penalty': ['l2'], 'clasifier__max_iter': [10000]}\n",
    "\n",
    "else:\n",
    "    # M_TIPO.startswith(\"mul_s\"):\n",
    "    myfunc.verbose(f\"Utilizando parámetros de {M_TIPO}\")\n",
    "    eval_selector = eval_selector_anova\n",
    "    eval_clasifier = eval_clasifier_lr\n",
    "\n",
    "    SEMILLA = 1860\n",
    "    M_SELECT = \"ANOVA\"\n",
    "    M_CLASIF = \"LR_L2\"\n",
    "    param_distributions = {'selector__k': [1000], \n",
    "        'clasifier__solver': ['saga'], 'clasifier__penalty': ['l2'], 'clasifier__max_iter': [10000]}\n",
    "\n"
   ]
  },
  {
   "cell_type": "code",
   "execution_count": 3,
   "id": "b8cd64bd",
   "metadata": {
    "execution": {
     "iopub.execute_input": "2023-10-30T14:42:26.772887Z",
     "iopub.status.busy": "2023-10-30T14:42:26.772508Z",
     "iopub.status.idle": "2023-10-30T14:42:26.776389Z",
     "shell.execute_reply": "2023-10-30T14:42:26.775871Z"
    },
    "papermill": {
     "duration": 0.009423,
     "end_time": "2023-10-30T14:42:26.777775",
     "exception": false,
     "start_time": "2023-10-30T14:42:26.768352",
     "status": "completed"
    },
    "tags": [
     "injected-parameters"
    ]
   },
   "outputs": [],
   "source": [
    "# Parameters\n",
    "M_TIPO = \"mul_m\"\n",
    "M_SELECT = \"RF\"\n",
    "M_CLASIF = \"LR_L1\"\n",
    "P_FICHERO = \"param_0000_7265_mul_m_RF_LR_L1.yaml\"\n",
    "R_FICHERO = \"resultados_7265\"\n",
    "M_FICHERO = \"metricas_7265\"\n",
    "PRE_DATA_FILE = \"rows_transpose_norm_by_gene_id_with_target_num_\"\n",
    "SCORING = \"roc_auc_ovr\"\n",
    "SEMILLA = 7265\n",
    "MAX_ITERS = 500\n",
    "eval_selector = \"SelectFromModel(estimator=RandomForestClassifier(random_state=SEMILLA), threshold=-np.inf)\"\n",
    "eval_clasifier = \"LogisticRegressionCV(random_state=SEMILLA)\"\n",
    "param_distributions = {\n",
    "    \"selector__max_features\": [1000],\n",
    "    \"selector__estimator__n_estimators\": [400],\n",
    "    \"clasifier__solver\": [\"saga\"],\n",
    "    \"clasifier__penalty\": [\"l1\"],\n",
    "    \"clasifier__max_iter\": [10000],\n",
    "}\n"
   ]
  },
  {
   "cell_type": "code",
   "execution_count": 4,
   "id": "b2c9750d",
   "metadata": {
    "execution": {
     "iopub.execute_input": "2023-10-30T14:42:26.785830Z",
     "iopub.status.busy": "2023-10-30T14:42:26.785466Z",
     "iopub.status.idle": "2023-10-30T14:42:26.788746Z",
     "shell.execute_reply": "2023-10-30T14:42:26.788160Z"
    },
    "papermill": {
     "duration": 0.008665,
     "end_time": "2023-10-30T14:42:26.789972",
     "exception": false,
     "start_time": "2023-10-30T14:42:26.781307",
     "status": "completed"
    },
    "tags": []
   },
   "outputs": [],
   "source": [
    "DATA_FILE = PRE_DATA_FILE + M_TIPO\n",
    "\n",
    "# si viene \"None\" en el parámetro max_depth, se le quitan las comillas para que no sea entendido por el algoritmo como un texto\n",
    "if \"clasifier__max_depth\" in param_distributions:\n",
    "    param_distributions['clasifier__max_depth'] = [None if x == 'None' else x for x in param_distributions['clasifier__max_depth']]"
   ]
  },
  {
   "cell_type": "markdown",
   "id": "3a1a137a",
   "metadata": {
    "papermill": {
     "duration": 0.003532,
     "end_time": "2023-10-30T14:42:26.797015",
     "exception": false,
     "start_time": "2023-10-30T14:42:26.793483",
     "status": "completed"
    },
    "tags": []
   },
   "source": [
    "Asignar los algoritmos que se utilizarán en la función RandomSearchCV"
   ]
  },
  {
   "cell_type": "code",
   "execution_count": 5,
   "id": "c89e9087",
   "metadata": {
    "execution": {
     "iopub.execute_input": "2023-10-30T14:42:26.805069Z",
     "iopub.status.busy": "2023-10-30T14:42:26.804711Z",
     "iopub.status.idle": "2023-10-30T14:42:26.807573Z",
     "shell.execute_reply": "2023-10-30T14:42:26.807049Z"
    },
    "papermill": {
     "duration": 0.008116,
     "end_time": "2023-10-30T14:42:26.808764",
     "exception": false,
     "start_time": "2023-10-30T14:42:26.800648",
     "status": "completed"
    },
    "tags": []
   },
   "outputs": [],
   "source": [
    "algor_selector=eval(eval_selector)\n",
    "algor_clasifier=eval(eval_clasifier)"
   ]
  },
  {
   "cell_type": "markdown",
   "id": "62419001",
   "metadata": {
    "papermill": {
     "duration": 0.003634,
     "end_time": "2023-10-30T14:42:26.815913",
     "exception": false,
     "start_time": "2023-10-30T14:42:26.812279",
     "status": "completed"
    },
    "tags": []
   },
   "source": [
    "#### Comprobar el entorno y leer fichero de muestras"
   ]
  },
  {
   "cell_type": "code",
   "execution_count": 6,
   "id": "6af519a1",
   "metadata": {
    "execution": {
     "iopub.execute_input": "2023-10-30T14:42:26.824101Z",
     "iopub.status.busy": "2023-10-30T14:42:26.823650Z",
     "iopub.status.idle": "2023-10-30T14:42:27.070440Z",
     "shell.execute_reply": "2023-10-30T14:42:27.069818Z"
    },
    "papermill": {
     "duration": 0.252292,
     "end_time": "2023-10-30T14:42:27.071799",
     "exception": false,
     "start_time": "2023-10-30T14:42:26.819507",
     "status": "completed"
    },
    "tags": []
   },
   "outputs": [
    {
     "name": "stdout",
     "output_type": "stream",
     "text": [
      "20231030T154226 : enderlab : INFO : Encontrada carpeta DATA_DIR=../tfm_git/datos\n",
      "20231030T154226 : enderlab : INFO : Encontrada carpeta CFDNA_DIR=../tfm_git/datos/cfDNA_5hmC\n",
      "20231030T154226 : enderlab : INFO : Encontrada carpeta GENCODE_DIR=../tfm_git/datos/gencode\n",
      "20231030T154226 : enderlab : INFO : Encontrada carpeta H5_DIR=../tfm_git/datos/h5\n",
      "20231030T154226 : enderlab : INFO : Encontrada carpeta LOG_DIR=../tfm_git/datos/logs\n",
      "20231030T154226 : enderlab : INFO : Encontrada carpeta CSV_DIR=../tfm_git/datos/csv\n",
      "20231030T154226 : enderlab : INFO : Encontrada carpeta MODEL_DIR=../tfm_git/ejecuciones/modelos\n",
      "20231030T154226 : enderlab : INFO : Encontrada carpeta EXEC_DIR=../tfm_git/ejecuciones\n",
      "20231030T154226 : enderlab : INFO : Encontrada carpeta MET_DIR=../tfm_git/ejecuciones/metricas\n",
      "20231030T154226 : enderlab : INFO : Inicio leer fichero h5 ../tfm_git/datos/h5/rows_transpose_norm_by_gene_id_with_target_num_mul_m.h5\n",
      "20231030T154226 : enderlab : INFO : Leyendo clave /df\n"
     ]
    },
    {
     "name": "stdout",
     "output_type": "stream",
     "text": [
      "20231030T154226 : enderlab : INFO : Tamaño (434, 18876)\n",
      "20231030T154226 : enderlab : INFO : Fin leer fichero h5 ../tfm_git/datos/h5/rows_transpose_norm_by_gene_id_with_target_num_mul_m.h5\n"
     ]
    },
    {
     "data": {
      "text/plain": [
       "target\n",
       "0    62\n",
       "1    62\n",
       "2    62\n",
       "3    62\n",
       "4    62\n",
       "5    62\n",
       "6    62\n",
       "dtype: int64"
      ]
     },
     "metadata": {},
     "output_type": "display_data"
    },
    {
     "name": "stdout",
     "output_type": "stream",
     "text": [
      "Shape df: (434, 18876)\n"
     ]
    },
    {
     "name": "stdout",
     "output_type": "stream",
     "text": [
      "Shape X_train: (347, 18875)\n",
      "Shape X_test: (87, 18875)\n"
     ]
    }
   ],
   "source": [
    "start_time = datetime.datetime.now()\n",
    "\n",
    "myfunc.reset_vars()\n",
    "\n",
    "myfunc.NOTEBK_FILENAME = myfunc.get_nb_name()\n",
    "\n",
    "myfunc.check_enviroment(myfunc.DATA_DIR, myfunc.CFDNA_DIR, myfunc.GENCODE_DIR, myfunc.H5_DIR, myfunc.LOG_DIR, myfunc.CSV_DIR, myfunc.MODEL_DIR, myfunc.EXEC_DIR, myfunc.MET_DIR)\n",
    "\n",
    "# Leer fichero con las muestras\n",
    "df_t = myfunc.read_h5_to_df(DATA_FILE, myfunc.H5_DIR)\n",
    "display(df_t.groupby(\"target\").size())\n",
    "print(\"Shape df:\",df_t.shape)\n",
    "\n",
    "# Separar caracteristicas/genes de las etiquetas/tipos de cáncer\n",
    "X = df_t.iloc[:, :-1]  # Todas las columnas excepto la última\n",
    "y = df_t.iloc[:, -1]  # La última columna contiene los identificadores de los tipos de cáncer\n",
    "\n",
    "#  Crear el conjunto de datos de entrenamiento y de pruebas, y se fija la semilla para siempre coger el mismo juego de muestras\n",
    "X_train, X_test, y_train, y_test = train_test_split(X, y, test_size=0.2, shuffle=True, random_state=42)\n",
    "print(\"Shape X_train:\",X_train.shape)\n",
    "print(\"Shape X_test:\",X_test.shape)\n"
   ]
  },
  {
   "cell_type": "markdown",
   "id": "3a11821f",
   "metadata": {
    "papermill": {
     "duration": 0.004093,
     "end_time": "2023-10-30T14:42:27.080545",
     "exception": false,
     "start_time": "2023-10-30T14:42:27.076452",
     "status": "completed"
    },
    "tags": []
   },
   "source": [
    "#### Selección de características y clasificación."
   ]
  },
  {
   "cell_type": "code",
   "execution_count": 7,
   "id": "f936e0fd",
   "metadata": {
    "execution": {
     "iopub.execute_input": "2023-10-30T14:42:27.089758Z",
     "iopub.status.busy": "2023-10-30T14:42:27.089228Z",
     "iopub.status.idle": "2023-10-30T15:11:09.648951Z",
     "shell.execute_reply": "2023-10-30T15:11:09.647526Z"
    },
    "papermill": {
     "duration": 1722.570021,
     "end_time": "2023-10-30T15:11:09.654506",
     "exception": false,
     "start_time": "2023-10-30T14:42:27.084485",
     "status": "completed"
    },
    "tags": []
   },
   "outputs": [
    {
     "name": "stdout",
     "output_type": "stream",
     "text": [
      "20231030T154227 : enderlab : INFO : Iniciando entrenamiento\n",
      "num_iter: 1 , max_iter: 1\n",
      "Fitting 5 folds for each of 1 candidates, totalling 5 fits\n"
     ]
    },
    {
     "name": "stdout",
     "output_type": "stream",
     "text": [
      "[CV 4/5] END clasifier__max_iter=10000, clasifier__penalty=l1, clasifier__solver=saga, selector__estimator__n_estimators=400, selector__max_features=1000;, score=0.810 total time=11.3min\n"
     ]
    },
    {
     "name": "stdout",
     "output_type": "stream",
     "text": [
      "[CV 2/5] END clasifier__max_iter=10000, clasifier__penalty=l1, clasifier__solver=saga, selector__estimator__n_estimators=400, selector__max_features=1000;, score=0.854 total time=11.7min\n"
     ]
    },
    {
     "name": "stdout",
     "output_type": "stream",
     "text": [
      "[CV 5/5] END clasifier__max_iter=10000, clasifier__penalty=l1, clasifier__solver=saga, selector__estimator__n_estimators=400, selector__max_features=1000;, score=0.901 total time=11.7min\n"
     ]
    },
    {
     "name": "stdout",
     "output_type": "stream",
     "text": [
      "[CV 3/5] END clasifier__max_iter=10000, clasifier__penalty=l1, clasifier__solver=saga, selector__estimator__n_estimators=400, selector__max_features=1000;, score=0.856 total time=12.6min\n"
     ]
    },
    {
     "name": "stdout",
     "output_type": "stream",
     "text": [
      "[CV 1/5] END clasifier__max_iter=10000, clasifier__penalty=l1, clasifier__solver=saga, selector__estimator__n_estimators=400, selector__max_features=1000;, score=0.848 total time=13.5min\n"
     ]
    },
    {
     "name": "stdout",
     "output_type": "stream",
     "text": [
      "Mejores Hiperparámetros: {'selector__max_features': 1000, 'selector__estimator__n_estimators': 400, 'clasifier__solver': 'saga', 'clasifier__penalty': 'l1', 'clasifier__max_iter': 10000}\n",
      "Mejor Puntuación: 0.8537\n",
      "20231030T161109 : enderlab : INFO : Fin entrenamiento\n"
     ]
    }
   ],
   "source": [
    "myfunc.verbose(\"Iniciando entrenamiento\")\n",
    "\n",
    "kf = KFold(n_splits=5, shuffle=True, random_state=SEMILLA)\n",
    "\n",
    "# Crear el pipeline para el flujo de tareas\n",
    "tasks_pipeline = Pipeline([\n",
    "    ('selector', algor_selector),\n",
    "    ('clasifier', algor_clasifier)\n",
    "])\n",
    "\n",
    "# MAX_ITERS puede limitar el número de iteraciones si son excesivas para las combinaciones de parámetros buscando un óptimo local, \n",
    "# sino funcionaría como GridSearchCV al revisar todas las cominaciones de los parámetros\n",
    "num_iteraciones = 1\n",
    "num_iteraciones = num_iteraciones * np.prod([len(elemento1) for _, elemento1 in param_distributions.items()])\n",
    "max_iteraciones = num_iteraciones if num_iteraciones <= MAX_ITERS else MAX_ITERS\n",
    "print(\"num_iter:\",num_iteraciones,\", max_iter:\",max_iteraciones)\n",
    "\n",
    "random_search = RandomizedSearchCV(\n",
    "    tasks_pipeline, \n",
    "    param_distributions, \n",
    "    n_iter=max_iteraciones,\n",
    "    scoring=SCORING,\n",
    "    cv=kf,\n",
    "    verbose=3, \n",
    "    random_state=SEMILLA, \n",
    "    n_jobs=-1\n",
    "    )\n",
    "\n",
    "# Entrenar el modelo\n",
    "random_search.fit(X_train, y_train)\n",
    "\n",
    "# Ver los mejores hiperparámetros encontrados\n",
    "print(f'Mejores Hiperparámetros: {random_search.best_params_}')\n",
    "print(f'Mejor Puntuación: {random_search.best_score_:.4f}')\n",
    "\n",
    "# Nos quedamos con el mejor modelo para ver las métricas\n",
    "mejor_modelo = random_search.best_estimator_\n",
    "\n",
    "myfunc.verbose(\"Fin entrenamiento\")"
   ]
  },
  {
   "cell_type": "markdown",
   "id": "35f96341",
   "metadata": {
    "papermill": {
     "duration": 0.004281,
     "end_time": "2023-10-30T15:11:09.663303",
     "exception": false,
     "start_time": "2023-10-30T15:11:09.659022",
     "status": "completed"
    },
    "tags": []
   },
   "source": [
    "#### Guardar modelo"
   ]
  },
  {
   "cell_type": "code",
   "execution_count": 8,
   "id": "37f3a475",
   "metadata": {
    "execution": {
     "iopub.execute_input": "2023-10-30T15:11:09.673602Z",
     "iopub.status.busy": "2023-10-30T15:11:09.672927Z",
     "iopub.status.idle": "2023-10-30T15:11:09.830046Z",
     "shell.execute_reply": "2023-10-30T15:11:09.829441Z"
    },
    "papermill": {
     "duration": 0.163767,
     "end_time": "2023-10-30T15:11:09.831327",
     "exception": false,
     "start_time": "2023-10-30T15:11:09.667560",
     "status": "completed"
    },
    "tags": []
   },
   "outputs": [
    {
     "name": "stdout",
     "output_type": "stream",
     "text": [
      "20231030T161109 : enderlab : INFO : Inicio guardar fichero ../tfm_git/ejecuciones/modelos/modelo_7265_mul_m_RF_LR_L1.pkl\n",
      "20231030T161109 : enderlab : INFO : Fin guardar fichero ../tfm_git/ejecuciones/modelos/modelo_7265_mul_m_RF_LR_L1.pkl\n"
     ]
    }
   ],
   "source": [
    "fichero_modelo = str.replace(\"modelo_\"+str(SEMILLA).zfill(4)+\"_\"+M_TIPO+\"_\"+M_SELECT+\"_\"+M_CLASIF+\".pkl\", \" \", \"_\")\n",
    "\n",
    "myfunc.save_modelo(mejor_modelo, myfunc.MODEL_DIR, fichero_modelo)"
   ]
  },
  {
   "cell_type": "markdown",
   "id": "88d9d921",
   "metadata": {
    "papermill": {
     "duration": 0.004553,
     "end_time": "2023-10-30T15:11:09.840664",
     "exception": false,
     "start_time": "2023-10-30T15:11:09.836111",
     "status": "completed"
    },
    "tags": []
   },
   "source": [
    "#### Ver resultados del las iteraciones hechas por RandomSearchCV"
   ]
  },
  {
   "cell_type": "code",
   "execution_count": 9,
   "id": "c21f050f",
   "metadata": {
    "execution": {
     "iopub.execute_input": "2023-10-30T15:11:09.850403Z",
     "iopub.status.busy": "2023-10-30T15:11:09.849989Z",
     "iopub.status.idle": "2023-10-30T15:11:09.857167Z",
     "shell.execute_reply": "2023-10-30T15:11:09.856648Z"
    },
    "papermill": {
     "duration": 0.01351,
     "end_time": "2023-10-30T15:11:09.858452",
     "exception": false,
     "start_time": "2023-10-30T15:11:09.844942",
     "status": "completed"
    },
    "tags": []
   },
   "outputs": [
    {
     "name": "stdout",
     "output_type": "stream",
     "text": [
      "20231030T161109 : enderlab : INFO : Inicio ver resultados\n",
      "Mejores Hiperparámetros: {'selector__max_features': 1000, 'selector__estimator__n_estimators': 400, 'clasifier__solver': 'saga', 'clasifier__penalty': 'l1', 'clasifier__max_iter': 10000}\n",
      "Mejores puntuaciones: 0.8537 | Params: {'selector__max_features': 1000, 'selector__estimator__n_estimators': 400, 'clasifier__solver': 'saga', 'clasifier__penalty': 'l1', 'clasifier__max_iter': 10000}\n",
      "Media de las puntuaciones: 0.8537 | Params: {'selector__max_features': 1000, 'selector__estimator__n_estimators': 400, 'clasifier__solver': 'saga', 'clasifier__penalty': 'l1', 'clasifier__max_iter': 10000}\n",
      "20231030T161109 : enderlab : INFO : Fin resultados\n"
     ]
    }
   ],
   "source": [
    "myfunc.ver_resultados_search(random_search)"
   ]
  },
  {
   "cell_type": "markdown",
   "id": "283fc180",
   "metadata": {
    "papermill": {
     "duration": 0.004454,
     "end_time": "2023-10-30T15:11:09.867311",
     "exception": false,
     "start_time": "2023-10-30T15:11:09.862857",
     "status": "completed"
    },
    "tags": []
   },
   "source": [
    "#### Ver métricas del mejor modelo"
   ]
  },
  {
   "cell_type": "code",
   "execution_count": 10,
   "id": "71e4b24b",
   "metadata": {
    "execution": {
     "iopub.execute_input": "2023-10-30T15:11:09.877897Z",
     "iopub.status.busy": "2023-10-30T15:11:09.877367Z",
     "iopub.status.idle": "2023-10-30T15:11:10.997356Z",
     "shell.execute_reply": "2023-10-30T15:11:10.996789Z"
    },
    "papermill": {
     "duration": 1.12705,
     "end_time": "2023-10-30T15:11:10.998819",
     "exception": false,
     "start_time": "2023-10-30T15:11:09.871769",
     "status": "completed"
    },
    "tags": []
   },
   "outputs": [
    {
     "name": "stdout",
     "output_type": "stream",
     "text": [
      "20231030T161109 : enderlab : INFO : Inicio ver métricas multiclase\n"
     ]
    },
    {
     "name": "stdout",
     "output_type": "stream",
     "text": [
      "              precision    recall  f1-score   support\n",
      "\n",
      "           0       0.67      0.38      0.48        16\n",
      "           1       0.67      0.67      0.67        15\n",
      "           2       0.30      0.27      0.29        11\n",
      "           3       0.29      0.80      0.42         5\n",
      "           4       0.73      0.62      0.67        13\n",
      "           5       0.75      1.00      0.86         9\n",
      "           6       0.69      0.61      0.65        18\n",
      "\n",
      "    accuracy                           0.59        87\n",
      "   macro avg       0.58      0.62      0.57        87\n",
      "weighted avg       0.62      0.59      0.59        87\n",
      "\n",
      "\n",
      "\n",
      "           Exactitud: 0.586207\n",
      "   Precisión (media): 0.583403\n",
      "      Recall (media): 0.620127\n",
      "    F1-score (media): 0.574900\n",
      "\n",
      "\n",
      "AUC para el tipo de cáncer 0-Control.... 0.8336\n",
      "AUC para el tipo de cáncer 1-Bladder.... 0.8926\n",
      "AUC para el tipo de cáncer 2-Breast..... 0.7213\n",
      "AUC para el tipo de cáncer 3-Colorectal. 0.8024\n",
      "AUC para el tipo de cáncer 4-Kidney..... 0.8877\n",
      "AUC para el tipo de cáncer 5-Lung....... 0.9886\n",
      "AUC para el tipo de cáncer 6-Prostate... 0.8341\n",
      "\n",
      "Media de AUC: 0.8515\n"
     ]
    },
    {
     "data": {
      "image/png": "[encoded data removed]",
      "text/plain": [
       "<Figure size 1000x600 with 1 Axes>"
      ]
     },
     "metadata": {},
     "output_type": "display_data"
    },
    {
     "name": "stdout",
     "output_type": "stream",
     "text": [
      "\n",
      "\n"
     ]
    },
    {
     "data": {
      "image/png": "[encoded data removed]",
      "text/plain": [
       "<Figure size 800x400 with 2 Axes>"
      ]
     },
     "metadata": {},
     "output_type": "display_data"
    },
    {
     "name": "stdout",
     "output_type": "stream",
     "text": [
      "\n",
      "\n",
      "Puntuación Jaccard para el cáncer tipo 0-Control.... 0.3158\n",
      "Puntuación Jaccard para el cáncer tipo 1-Bladder.... 0.5000\n",
      "Puntuación Jaccard para el cáncer tipo 2-Breast..... 0.1667\n",
      "Puntuación Jaccard para el cáncer tipo 3-Colorectal. 0.2667\n",
      "Puntuación Jaccard para el cáncer tipo 4-Kidney..... 0.5000\n",
      "Puntuación Jaccard para el cáncer tipo 5-Lung....... 0.7500\n",
      "Puntuación Jaccard para el cáncer tipo 6-Prostate... 0.4783\n",
      "\n",
      "Media de la puntuación de Jaccard: 0.4253\n"
     ]
    }
   ],
   "source": [
    "if M_TIPO.startswith(\"bin\"):\n",
    "    myfunc.ver_metricas(mejor_modelo, X_test, y_test)\n",
    "else:\n",
    "    myfunc.ver_metricas_multi(mejor_modelo, X_test, y_test)\n"
   ]
  },
  {
   "cell_type": "markdown",
   "id": "57588406",
   "metadata": {
    "papermill": {
     "duration": 0.006081,
     "end_time": "2023-10-30T15:11:11.011526",
     "exception": false,
     "start_time": "2023-10-30T15:11:11.005445",
     "status": "completed"
    },
    "tags": []
   },
   "source": [
    "#### Finalización del notebook"
   ]
  },
  {
   "cell_type": "code",
   "execution_count": 11,
   "id": "b898fa90",
   "metadata": {
    "execution": {
     "iopub.execute_input": "2023-10-30T15:11:11.024612Z",
     "iopub.status.busy": "2023-10-30T15:11:11.024147Z",
     "iopub.status.idle": "2023-10-30T15:11:11.027953Z",
     "shell.execute_reply": "2023-10-30T15:11:11.027438Z"
    },
    "papermill": {
     "duration": 0.011821,
     "end_time": "2023-10-30T15:11:11.029166",
     "exception": false,
     "start_time": "2023-10-30T15:11:11.017345",
     "status": "completed"
    },
    "tags": []
   },
   "outputs": [
    {
     "name": "stdout",
     "output_type": "stream",
     "text": [
      "20231030T161111 : enderlab : INFO : Notebook ha tardado 1724 seconds\n"
     ]
    }
   ],
   "source": [
    "end_time = datetime.datetime.now()\n",
    "total_time = end_time - start_time\n",
    "myfunc.verbose(f\"Notebook ha tardado {total_time.seconds} seconds\")"
   ]
  },
  {
   "cell_type": "markdown",
   "id": "741b7cfc",
   "metadata": {
    "papermill": {
     "duration": 0.005878,
     "end_time": "2023-10-30T15:11:11.040938",
     "exception": false,
     "start_time": "2023-10-30T15:11:11.035060",
     "status": "completed"
    },
    "tags": []
   },
   "source": [
    "#### Guardar métricas"
   ]
  },
  {
   "cell_type": "code",
   "execution_count": 12,
   "id": "ef5bc212",
   "metadata": {
    "execution": {
     "iopub.execute_input": "2023-10-30T15:11:11.054177Z",
     "iopub.status.busy": "2023-10-30T15:11:11.053656Z",
     "iopub.status.idle": "2023-10-30T15:11:12.062741Z",
     "shell.execute_reply": "2023-10-30T15:11:12.062174Z"
    },
    "papermill": {
     "duration": 1.01709,
     "end_time": "2023-10-30T15:11:12.064014",
     "exception": false,
     "start_time": "2023-10-30T15:11:11.046924",
     "status": "completed"
    },
    "tags": []
   },
   "outputs": [
    {
     "name": "stdout",
     "output_type": "stream",
     "text": [
      "20231030T161111 : enderlab : INFO : Inicio guardar métricas multiclase\n",
      "20231030T161111 : enderlab : INFO : Inicio leer fichero ../tfm_git/ejecuciones/metricas/metricas_7265.csv\n",
      "20231030T161111 : enderlab : INFO : Fin leer fichero ../tfm_git/ejecuciones/metricas/metricas_7265.csv\n"
     ]
    },
    {
     "name": "stdout",
     "output_type": "stream",
     "text": [
      "20231030T161112 : enderlab : INFO : Inicio guardar fichero ../tfm_git/ejecuciones/metricas/metricas_7265.csv\n",
      "20231030T161112 : enderlab : INFO : Fichero borrado ../tfm_git/ejecuciones/metricas/metricas_7265.csv\n",
      "20231030T161112 : enderlab : INFO : Fin guardar fichero ../tfm_git/ejecuciones/metricas/metricas_7265.csv\n",
      "20231030T161112 : enderlab : INFO : Fin guardar métricas multiclase\n",
      "20231030T161112 : enderlab : INFO : Inicio leer fichero ../tfm_git/ejecuciones/metricas/metricas_7265.csv\n",
      "20231030T161112 : enderlab : INFO : Fin leer fichero ../tfm_git/ejecuciones/metricas/metricas_7265.csv\n"
     ]
    },
    {
     "data": {
      "text/html": [
       "<div>\n",
       "<style scoped>\n",
       "    .dataframe tbody tr th:only-of-type {\n",
       "        vertical-align: middle;\n",
       "    }\n",
       "\n",
       "    .dataframe tbody tr th {\n",
       "        vertical-align: top;\n",
       "    }\n",
       "\n",
       "    .dataframe thead th {\n",
       "        text-align: right;\n",
       "    }\n",
       "</style>\n",
       "<table border=\"1\" class=\"dataframe\">\n",
       "  <thead>\n",
       "    <tr style=\"text-align: right;\">\n",
       "      <th></th>\n",
       "      <th>tipo</th>\n",
       "      <th>select</th>\n",
       "      <th>clasific</th>\n",
       "      <th>semilla</th>\n",
       "      <th>accuracy</th>\n",
       "      <th>precision</th>\n",
       "      <th>recall</th>\n",
       "      <th>f1_score</th>\n",
       "      <th>roc_auc</th>\n",
       "      <th>hostname</th>\n",
       "      <th>total_time_sec</th>\n",
       "      <th>datetime</th>\n",
       "      <th>fichero_modelo</th>\n",
       "      <th>params</th>\n",
       "      <th>shape</th>\n",
       "      <th>features</th>\n",
       "      <th>roc_auc_ovr</th>\n",
       "      <th>indices_auc</th>\n",
       "      <th>indices_jaccard</th>\n",
       "    </tr>\n",
       "  </thead>\n",
       "  <tbody>\n",
       "    <tr>\n",
       "      <th>0</th>\n",
       "      <td>mul_m</td>\n",
       "      <td>RF</td>\n",
       "      <td>LR_L1</td>\n",
       "      <td>7265</td>\n",
       "      <td>0.586207</td>\n",
       "      <td>0.583403</td>\n",
       "      <td>0.620127</td>\n",
       "      <td>0.574900</td>\n",
       "      <td>NaN</td>\n",
       "      <td>enderlab</td>\n",
       "      <td>1724</td>\n",
       "      <td>2023-10-30 16:11:12.016643</td>\n",
       "      <td>modelo_7265_mul_m_RF_LR_L1.pkl</td>\n",
       "      <td>{'selector__max_features': 1000, 'selector__es...</td>\n",
       "      <td>X_test:(87, 18875)</td>\n",
       "      <td>['ENSG00000000938.13', 'ENSG00000001084.13', '...</td>\n",
       "      <td>0.851490</td>\n",
       "      <td>[0.8336267605633803, 0.8925925925925926, 0.721...</td>\n",
       "      <td>[0.3157894736842105, 0.5, 0.16666666666666666,...</td>\n",
       "    </tr>\n",
       "    <tr>\n",
       "      <th>0</th>\n",
       "      <td>mul_m</td>\n",
       "      <td>RF</td>\n",
       "      <td>LR_EN</td>\n",
       "      <td>7265</td>\n",
       "      <td>0.574713</td>\n",
       "      <td>0.570101</td>\n",
       "      <td>0.604254</td>\n",
       "      <td>0.567065</td>\n",
       "      <td>NaN</td>\n",
       "      <td>enderlab</td>\n",
       "      <td>1673</td>\n",
       "      <td>2023-10-30 15:42:20.077570</td>\n",
       "      <td>modelo_7265_mul_m_RF_LR_EN.pkl</td>\n",
       "      <td>{'selector__max_features': 1000, 'selector__es...</td>\n",
       "      <td>X_test:(87, 18875)</td>\n",
       "      <td>['ENSG00000000938.13', 'ENSG00000001084.13', '...</td>\n",
       "      <td>0.858221</td>\n",
       "      <td>[0.8477112676056339, 0.8972222222222223, 0.729...</td>\n",
       "      <td>[0.2608695652173913, 0.5263157894736842, 0.187...</td>\n",
       "    </tr>\n",
       "    <tr>\n",
       "      <th>0</th>\n",
       "      <td>mul_m</td>\n",
       "      <td>MI</td>\n",
       "      <td>SVM</td>\n",
       "      <td>7265</td>\n",
       "      <td>0.494253</td>\n",
       "      <td>0.508071</td>\n",
       "      <td>0.513259</td>\n",
       "      <td>0.500547</td>\n",
       "      <td>NaN</td>\n",
       "      <td>enderlab</td>\n",
       "      <td>225</td>\n",
       "      <td>2023-10-30 15:14:18.526193</td>\n",
       "      <td>modelo_7265_mul_m_MI_SVM.pkl</td>\n",
       "      <td>{'selector__k': 1000, 'clasifier__kernel': 'rb...</td>\n",
       "      <td>X_test:(87, 18875)</td>\n",
       "      <td>['ENSG00000001084.13', 'ENSG00000001460.18', '...</td>\n",
       "      <td>0.817727</td>\n",
       "      <td>[0.7992957746478873, 0.8037037037037038, 0.684...</td>\n",
       "      <td>[0.17391304347826086, 0.35, 0.1304347826086956...</td>\n",
       "    </tr>\n",
       "  </tbody>\n",
       "</table>\n",
       "</div>"
      ],
      "text/plain": [
       "    tipo select clasific  semilla  accuracy  precision    recall  f1_score  \\\n",
       "0  mul_m     RF    LR_L1     7265  0.586207   0.583403  0.620127  0.574900   \n",
       "0  mul_m     RF    LR_EN     7265  0.574713   0.570101  0.604254  0.567065   \n",
       "0  mul_m     MI      SVM     7265  0.494253   0.508071  0.513259  0.500547   \n",
       "\n",
       "   roc_auc  hostname  total_time_sec                    datetime  \\\n",
       "0      NaN  enderlab            1724  2023-10-30 16:11:12.016643   \n",
       "0      NaN  enderlab            1673  2023-10-30 15:42:20.077570   \n",
       "0      NaN  enderlab             225  2023-10-30 15:14:18.526193   \n",
       "\n",
       "                   fichero_modelo  \\\n",
       "0  modelo_7265_mul_m_RF_LR_L1.pkl   \n",
       "0  modelo_7265_mul_m_RF_LR_EN.pkl   \n",
       "0    modelo_7265_mul_m_MI_SVM.pkl   \n",
       "\n",
       "                                              params               shape  \\\n",
       "0  {'selector__max_features': 1000, 'selector__es...  X_test:(87, 18875)   \n",
       "0  {'selector__max_features': 1000, 'selector__es...  X_test:(87, 18875)   \n",
       "0  {'selector__k': 1000, 'clasifier__kernel': 'rb...  X_test:(87, 18875)   \n",
       "\n",
       "                                            features  roc_auc_ovr  \\\n",
       "0  ['ENSG00000000938.13', 'ENSG00000001084.13', '...     0.851490   \n",
       "0  ['ENSG00000000938.13', 'ENSG00000001084.13', '...     0.858221   \n",
       "0  ['ENSG00000001084.13', 'ENSG00000001460.18', '...     0.817727   \n",
       "\n",
       "                                         indices_auc  \\\n",
       "0  [0.8336267605633803, 0.8925925925925926, 0.721...   \n",
       "0  [0.8477112676056339, 0.8972222222222223, 0.729...   \n",
       "0  [0.7992957746478873, 0.8037037037037038, 0.684...   \n",
       "\n",
       "                                     indices_jaccard  \n",
       "0  [0.3157894736842105, 0.5, 0.16666666666666666,...  \n",
       "0  [0.2608695652173913, 0.5263157894736842, 0.187...  \n",
       "0  [0.17391304347826086, 0.35, 0.1304347826086956...  "
      ]
     },
     "metadata": {},
     "output_type": "display_data"
    }
   ],
   "source": [
    "if M_TIPO.startswith(\"bin\"):\n",
    "    myfunc.save_metricas_to_csv(random_search, X_test, y_test, M_TIPO, M_SELECT, M_CLASIF, total_time, SEMILLA, myfunc.MET_DIR, M_FICHERO, fichero_modelo)\n",
    "else:\n",
    "    myfunc.save_metricas_multi_to_csv(random_search, X_test, y_test, M_TIPO, M_SELECT, M_CLASIF, total_time, SEMILLA, myfunc.MET_DIR, M_FICHERO, fichero_modelo)\n",
    "\n",
    "df1=myfunc.read_metricas_to_df(myfunc.MET_DIR,M_FICHERO)\n",
    "\n",
    "display(df1.sort_values(\"datetime\", ascending=False)[:3])\n"
   ]
  },
  {
   "cell_type": "markdown",
   "id": "6fc672cf",
   "metadata": {
    "papermill": {
     "duration": 0.006342,
     "end_time": "2023-10-30T15:11:12.077182",
     "exception": false,
     "start_time": "2023-10-30T15:11:12.070840",
     "status": "completed"
    },
    "tags": []
   },
   "source": [
    "#### Guardar resultados"
   ]
  },
  {
   "cell_type": "code",
   "execution_count": 13,
   "id": "f0e9d276",
   "metadata": {
    "execution": {
     "iopub.execute_input": "2023-10-30T15:11:12.090931Z",
     "iopub.status.busy": "2023-10-30T15:11:12.090528Z",
     "iopub.status.idle": "2023-10-30T15:11:12.099104Z",
     "shell.execute_reply": "2023-10-30T15:11:12.098582Z"
    },
    "papermill": {
     "duration": 0.016798,
     "end_time": "2023-10-30T15:11:12.100279",
     "exception": false,
     "start_time": "2023-10-30T15:11:12.083481",
     "status": "completed"
    },
    "tags": []
   },
   "outputs": [
    {
     "name": "stdout",
     "output_type": "stream",
     "text": [
      "20231030T161112 : enderlab : INFO : Inicio guardar resultados\n",
      "20231030T161112 : enderlab : INFO : Inicio guardar fichero ../tfm_git/ejecuciones/metricas/resultados_7265_mul_m-RF-LR_L1.csv\n",
      "20231030T161112 : enderlab : INFO : Fin guardar fichero ../tfm_git/ejecuciones/metricas/resultados_7265_mul_m-RF-LR_L1.csv\n",
      "20231030T161112 : enderlab : INFO : Fin guardar resultados\n"
     ]
    }
   ],
   "source": [
    "fichero_resultados=R_FICHERO+\"_\"+M_TIPO+\"-\"+M_SELECT+\"-\"+M_CLASIF+\".csv\"\n",
    "myfunc.save_resultados_to_csv(M_TIPO, M_SELECT, M_CLASIF,  random_search, myfunc.MET_DIR, fichero_resultados)\n"
   ]
  }
 ],
 "metadata": {
  "kernelspec": {
   "display_name": "Python 3 (ipykernel)",
   "language": "python",
   "name": "python3"
  },
  "language_info": {
   "codemirror_mode": {
    "name": "ipython",
    "version": 3
   },
   "file_extension": ".py",
   "mimetype": "text/x-python",
   "name": "python",
   "nbconvert_exporter": "python",
   "pygments_lexer": "ipython3",
   "version": "3.10.11"
  },
  "papermill": {
   "default_parameters": {},
   "duration": 1730.300762,
   "end_time": "2023-10-30T15:11:14.725517",
   "environment_variables": {},
   "exception": null,
   "input_path": "03_entrenamiento.ipynb",
   "output_path": "ejecuciones/training/03_entrenamiento.20231030T154223.param_0000_7265_mul_m_RF_LR_L1.output.ipynb",
   "parameters": {
    "MAX_ITERS": 500,
    "M_CLASIF": "LR_L1",
    "M_FICHERO": "metricas_7265",
    "M_SELECT": "RF",
    "M_TIPO": "mul_m",
    "PRE_DATA_FILE": "rows_transpose_norm_by_gene_id_with_target_num_",
    "P_FICHERO": "param_0000_7265_mul_m_RF_LR_L1.yaml",
    "R_FICHERO": "resultados_7265",
    "SCORING": "roc_auc_ovr",
    "SEMILLA": 7265,
    "eval_clasifier": "LogisticRegressionCV(random_state=SEMILLA)",
    "eval_selector": "SelectFromModel(estimator=RandomForestClassifier(random_state=SEMILLA), threshold=-np.inf)",
    "param_distributions": {
     "clasifier__max_iter": [
      10000
     ],
     "clasifier__penalty": [
      "l1"
     ],
     "clasifier__solver": [
      "saga"
     ],
     "selector__estimator__n_estimators": [
      400
     ],
     "selector__max_features": [
      1000
     ]
    }
   },
   "start_time": "2023-10-30T14:42:24.424755",
   "version": "2.4.0"
  }
 },
 "nbformat": 4,
 "nbformat_minor": 5
}