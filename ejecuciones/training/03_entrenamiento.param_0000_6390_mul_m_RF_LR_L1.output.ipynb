{
 "cells": [
  {
   "cell_type": "markdown",
   "id": "45a7002c",
   "metadata": {
    "papermill": {
     "duration": 0.003198,
     "end_time": "2023-10-30T16:08:43.683733",
     "exception": false,
     "start_time": "2023-10-30T16:08:43.680535",
     "status": "completed"
    },
    "tags": []
   },
   "source": [
    "##### Inicio"
   ]
  },
  {
   "cell_type": "markdown",
   "id": "577f3b08",
   "metadata": {
    "papermill": {
     "duration": 0.002494,
     "end_time": "2023-10-30T16:08:43.689011",
     "exception": false,
     "start_time": "2023-10-30T16:08:43.686517",
     "status": "completed"
    },
    "tags": []
   },
   "source": [
    "#### Carga de datos"
   ]
  },
  {
   "cell_type": "code",
   "execution_count": 1,
   "id": "25734d5d",
   "metadata": {
    "execution": {
     "iopub.execute_input": "2023-10-30T16:08:43.695256Z",
     "iopub.status.busy": "2023-10-30T16:08:43.695039Z",
     "iopub.status.idle": "2023-10-30T16:08:44.578741Z",
     "shell.execute_reply": "2023-10-30T16:08:44.578085Z"
    },
    "papermill": {
     "duration": 0.888394,
     "end_time": "2023-10-30T16:08:44.580047",
     "exception": false,
     "start_time": "2023-10-30T16:08:43.691653",
     "status": "completed"
    },
    "tags": []
   },
   "outputs": [
    {
     "name": "stdout",
     "output_type": "stream",
     "text": [
      "CPU_COUNT: 8; NODE: amilcar22; sys.version: 3.10.12 (main, Jul  5 2023, 19:22:19) [GCC 11.2.0]\n",
      "LOKY_MAX_CPU_COUNT: 6\n",
      "OMP_NUM_THREADS: 2\n"
     ]
    }
   ],
   "source": [
    "import os\n",
    "import numpy as np\n",
    "import pandas as pd\n",
    "import datetime\n",
    "import sklearn\n",
    "import logging\n",
    "import warnings\n",
    "\n",
    "from sklearn.pipeline import Pipeline\n",
    "from sklearn.model_selection import RandomizedSearchCV, KFold, cross_val_score, train_test_split\n",
    "from sklearn.metrics import accuracy_score, confusion_matrix, classification_report, roc_auc_score\n",
    "\n",
    "#  cargar algoritmos para aprendizaje supervisado\n",
    "from sklearn.feature_selection import SelectKBest, f_classif, SelectFromModel, mutual_info_classif\n",
    "from sklearn.svm import SVC\n",
    "from sklearn.ensemble import RandomForestClassifier\n",
    "from sklearn.linear_model import LogisticRegression,LogisticRegressionCV\n",
    "\n",
    "# importar fichero con utilidades propias\n",
    "from commons import myfunctions as myfunc\n"
   ]
  },
  {
   "cell_type": "markdown",
   "id": "d784f015",
   "metadata": {
    "papermill": {
     "duration": 0.00264,
     "end_time": "2023-10-30T16:08:44.585612",
     "exception": false,
     "start_time": "2023-10-30T16:08:44.582972",
     "status": "completed"
    },
    "tags": []
   },
   "source": [
    "#### Parámetros a utilizar en el entrenamiento.\n",
    "\n",
    "Se indican los 3 algoritmos de *selección de características* (eval_selector_xxx) y los 3 algoritmos para la _clasificación_ (eval_clasifier_xxx)\n",
    "\n",
    "En *param_distributions* se indicar los parámetros que utilizan los algoritmos en la función RandomSearchCV.\n",
    "\n",
    "Esta celda tiene la etiqueta **parameters** que servirá para poder lanzar los entrenamientos con la utilidad **papermill** pasándole un fichero con los parámetros. Los nuevos parámetros se situarán tras esta celda para tener prevalencia."
   ]
  },
  {
   "cell_type": "code",
   "execution_count": 2,
   "id": "83e5ea4c",
   "metadata": {
    "execution": {
     "iopub.execute_input": "2023-10-30T16:08:44.591744Z",
     "iopub.status.busy": "2023-10-30T16:08:44.591479Z",
     "iopub.status.idle": "2023-10-30T16:08:44.598368Z",
     "shell.execute_reply": "2023-10-30T16:08:44.597950Z"
    },
    "papermill": {
     "duration": 0.011615,
     "end_time": "2023-10-30T16:08:44.599747",
     "exception": false,
     "start_time": "2023-10-30T16:08:44.588132",
     "status": "completed"
    },
    "tags": [
     "parameters"
    ]
   },
   "outputs": [
    {
     "name": "stdout",
     "output_type": "stream",
     "text": [
      "20231030T170844 : amilcar22 : INFO : Utilizando parámetros de mul_m\n"
     ]
    }
   ],
   "source": [
    "#  Parametros para el entrenamiento\n",
    "\n",
    "SEMILLA=        42\n",
    "M_TIPO=         \"mul_m\"\n",
    "M_SELECT=       \"MI\"\n",
    "M_CLASIF=       \"SVM\"\n",
    "R_FICHERO=      \"resultados\"\n",
    "M_FICHERO=      \"metricas\"\n",
    "PRE_DATA_FILE=  \"rows_transpose_norm_by_gene_id_with_target_num_\"\n",
    "SCORING=        \"roc_auc_ovr\" \n",
    "MAX_ITERS=      100\n",
    "\n",
    "def mutual_info_classif_state(X, y):\n",
    "    return mutual_info_classif(X, y, random_state=SEMILLA)\n",
    "\n",
    "eval_selector_mi = \"SelectKBest(score_func=mutual_info_classif_state)\"\n",
    "eval_selector_rf=  \"SelectFromModel(estimator=RandomForestClassifier(random_state=SEMILLA), threshold=-np.inf)\"\n",
    "eval_selector_anova=  \"SelectKBest(score_func=f_classif)\"\n",
    "\n",
    "eval_clasifier_svm= \"SVC(probability=True, random_state=SEMILLA)\"\n",
    "eval_clasifier_rf= \"RandomForestClassifier(random_state=SEMILLA)\"\n",
    "eval_clasifier_lr= \"LogisticRegressionCV(random_state=SEMILLA)\"\n",
    "\n",
    "if M_TIPO.startswith(\"bin_m\"):\n",
    "    myfunc.verbose(f\"Utilizando parámetros de {M_TIPO}\")\n",
    "    eval_selector = eval_selector_mi\n",
    "    eval_clasifier = eval_clasifier_svm\n",
    "\n",
    "    SEMILLA = 6578\n",
    "    M_SELECT = \"MI\"\n",
    "    M_CLASIF = \"SVM\"\n",
    "    param_distributions = {'selector__k': [1000], \n",
    "         'clasifier__kernel': ['rbf'], 'clasifier__gamma': [0.01], 'clasifier__C': [100]}\n",
    "elif M_TIPO.startswith(\"bin_s\"):\n",
    "    myfunc.verbose(f\"Utilizando parámetros de {M_TIPO}\")\n",
    "    eval_selector = eval_selector_rf\n",
    "    eval_clasifier = eval_clasifier_lr\n",
    "\n",
    "    SEMILLA = 6191\n",
    "    M_SELECT = \"RF\"\n",
    "    M_CLASIF = \"LR_L2\"\n",
    "    param_distributions = {'selector__max_features': [1000], 'selector__estimator__n_estimators': [200], \n",
    "        'clasifier__solver': ['lbfgs'], 'clasifier__penalty': ['l2'], 'clasifier__max_iter': [10000]}\n",
    "\n",
    "elif M_TIPO.startswith(\"mul_m\"):\n",
    "    myfunc.verbose(f\"Utilizando parámetros de {M_TIPO}\")\n",
    " \n",
    "    eval_selector = eval_selector_rf\n",
    "    eval_clasifier = eval_clasifier_lr\n",
    "\n",
    "    SEMILLA = 6191\n",
    "    M_SELECT = \"RF\"\n",
    "    M_CLASIF = \"LR_L2\"\n",
    "    param_distributions = {'selector__max_features': [1000], 'selector__estimator__n_estimators': [400], \n",
    "        'clasifier__solver': ['lbfgs'], 'clasifier__penalty': ['l2'], 'clasifier__max_iter': [10000]}\n",
    "\n",
    "else:\n",
    "    # M_TIPO.startswith(\"mul_s\"):\n",
    "    myfunc.verbose(f\"Utilizando parámetros de {M_TIPO}\")\n",
    "    eval_selector = eval_selector_anova\n",
    "    eval_clasifier = eval_clasifier_lr\n",
    "\n",
    "    SEMILLA = 1860\n",
    "    M_SELECT = \"ANOVA\"\n",
    "    M_CLASIF = \"LR_L2\"\n",
    "    param_distributions = {'selector__k': [1000], \n",
    "        'clasifier__solver': ['saga'], 'clasifier__penalty': ['l2'], 'clasifier__max_iter': [10000]}\n",
    "\n"
   ]
  },
  {
   "cell_type": "code",
   "execution_count": 3,
   "id": "76cd43e4",
   "metadata": {
    "execution": {
     "iopub.execute_input": "2023-10-30T16:08:44.610268Z",
     "iopub.status.busy": "2023-10-30T16:08:44.609926Z",
     "iopub.status.idle": "2023-10-30T16:08:44.615326Z",
     "shell.execute_reply": "2023-10-30T16:08:44.614686Z"
    },
    "papermill": {
     "duration": 0.012549,
     "end_time": "2023-10-30T16:08:44.616924",
     "exception": false,
     "start_time": "2023-10-30T16:08:44.604375",
     "status": "completed"
    },
    "tags": [
     "injected-parameters"
    ]
   },
   "outputs": [],
   "source": [
    "# Parameters\n",
    "M_TIPO = \"mul_m\"\n",
    "M_SELECT = \"RF\"\n",
    "M_CLASIF = \"LR_L1\"\n",
    "P_FICHERO = \"param_0000_6390_mul_m_RF_LR_L1.yaml\"\n",
    "R_FICHERO = \"resultados_6390\"\n",
    "M_FICHERO = \"metricas_6390\"\n",
    "PRE_DATA_FILE = \"rows_transpose_norm_by_gene_id_with_target_num_\"\n",
    "SCORING = \"roc_auc_ovr\"\n",
    "SEMILLA = 6390\n",
    "MAX_ITERS = 500\n",
    "eval_selector = \"SelectFromModel(estimator=RandomForestClassifier(random_state=SEMILLA), threshold=-np.inf)\"\n",
    "eval_clasifier = \"LogisticRegressionCV(random_state=SEMILLA)\"\n",
    "param_distributions = {\n",
    "    \"selector__max_features\": [1000],\n",
    "    \"selector__estimator__n_estimators\": [400],\n",
    "    \"clasifier__solver\": [\"saga\"],\n",
    "    \"clasifier__penalty\": [\"l1\"],\n",
    "    \"clasifier__max_iter\": [10000],\n",
    "}\n"
   ]
  },
  {
   "cell_type": "code",
   "execution_count": 4,
   "id": "7205f80a",
   "metadata": {
    "execution": {
     "iopub.execute_input": "2023-10-30T16:08:44.627363Z",
     "iopub.status.busy": "2023-10-30T16:08:44.627148Z",
     "iopub.status.idle": "2023-10-30T16:08:44.630331Z",
     "shell.execute_reply": "2023-10-30T16:08:44.629847Z"
    },
    "papermill": {
     "duration": 0.009868,
     "end_time": "2023-10-30T16:08:44.631700",
     "exception": false,
     "start_time": "2023-10-30T16:08:44.621832",
     "status": "completed"
    },
    "tags": []
   },
   "outputs": [],
   "source": [
    "DATA_FILE = PRE_DATA_FILE + M_TIPO\n",
    "\n",
    "# si viene \"None\" en el parámetro max_depth, se le quitan las comillas para que no sea entendido por el algoritmo como un texto\n",
    "if \"clasifier__max_depth\" in param_distributions:\n",
    "    param_distributions['clasifier__max_depth'] = [None if x == 'None' else x for x in param_distributions['clasifier__max_depth']]"
   ]
  },
  {
   "cell_type": "markdown",
   "id": "884b333b",
   "metadata": {
    "papermill": {
     "duration": 0.004295,
     "end_time": "2023-10-30T16:08:44.640417",
     "exception": false,
     "start_time": "2023-10-30T16:08:44.636122",
     "status": "completed"
    },
    "tags": []
   },
   "source": [
    "Asignar los algoritmos que se utilizarán en la función RandomSearchCV"
   ]
  },
  {
   "cell_type": "code",
   "execution_count": 5,
   "id": "8cc1cbbd",
   "metadata": {
    "execution": {
     "iopub.execute_input": "2023-10-30T16:08:44.650041Z",
     "iopub.status.busy": "2023-10-30T16:08:44.649854Z",
     "iopub.status.idle": "2023-10-30T16:08:44.652638Z",
     "shell.execute_reply": "2023-10-30T16:08:44.652134Z"
    },
    "papermill": {
     "duration": 0.00918,
     "end_time": "2023-10-30T16:08:44.654017",
     "exception": false,
     "start_time": "2023-10-30T16:08:44.644837",
     "status": "completed"
    },
    "tags": []
   },
   "outputs": [],
   "source": [
    "algor_selector=eval(eval_selector)\n",
    "algor_clasifier=eval(eval_clasifier)"
   ]
  },
  {
   "cell_type": "markdown",
   "id": "b17478ba",
   "metadata": {
    "papermill": {
     "duration": 0.004463,
     "end_time": "2023-10-30T16:08:44.662870",
     "exception": false,
     "start_time": "2023-10-30T16:08:44.658407",
     "status": "completed"
    },
    "tags": []
   },
   "source": [
    "#### Comprobar el entorno y leer fichero de muestras"
   ]
  },
  {
   "cell_type": "code",
   "execution_count": 6,
   "id": "981f6b59",
   "metadata": {
    "execution": {
     "iopub.execute_input": "2023-10-30T16:08:44.669842Z",
     "iopub.status.busy": "2023-10-30T16:08:44.669660Z",
     "iopub.status.idle": "2023-10-30T16:08:44.827325Z",
     "shell.execute_reply": "2023-10-30T16:08:44.826764Z"
    },
    "papermill": {
     "duration": 0.162284,
     "end_time": "2023-10-30T16:08:44.828497",
     "exception": false,
     "start_time": "2023-10-30T16:08:44.666213",
     "status": "completed"
    },
    "tags": []
   },
   "outputs": [
    {
     "name": "stdout",
     "output_type": "stream",
     "text": [
      "20231030T170844 : amilcar22 : INFO : Encontrada carpeta DATA_DIR=../tfm_git/datos\n",
      "20231030T170844 : amilcar22 : INFO : Encontrada carpeta CFDNA_DIR=../tfm_git/datos/cfDNA_5hmC\n",
      "20231030T170844 : amilcar22 : INFO : Encontrada carpeta GENCODE_DIR=../tfm_git/datos/gencode\n",
      "20231030T170844 : amilcar22 : INFO : Encontrada carpeta H5_DIR=../tfm_git/datos/h5\n",
      "20231030T170844 : amilcar22 : INFO : Encontrada carpeta LOG_DIR=../tfm_git/datos/logs\n",
      "20231030T170844 : amilcar22 : INFO : Encontrada carpeta CSV_DIR=../tfm_git/datos/csv\n",
      "20231030T170844 : amilcar22 : INFO : Encontrada carpeta MODEL_DIR=../tfm_git/ejecuciones/modelos\n",
      "20231030T170844 : amilcar22 : INFO : Encontrada carpeta EXEC_DIR=../tfm_git/ejecuciones\n",
      "20231030T170844 : amilcar22 : INFO : Encontrada carpeta MET_DIR=../tfm_git/ejecuciones/metricas\n",
      "20231030T170844 : amilcar22 : INFO : Inicio leer fichero h5 ../tfm_git/datos/h5/rows_transpose_norm_by_gene_id_with_target_num_mul_m.h5\n",
      "20231030T170844 : amilcar22 : INFO : Leyendo clave /df\n",
      "20231030T170844 : amilcar22 : INFO : Tamaño (434, 18876)\n",
      "20231030T170844 : amilcar22 : INFO : Fin leer fichero h5 ../tfm_git/datos/h5/rows_transpose_norm_by_gene_id_with_target_num_mul_m.h5\n"
     ]
    },
    {
     "data": {
      "text/plain": [
       "target\n",
       "0    62\n",
       "1    62\n",
       "2    62\n",
       "3    62\n",
       "4    62\n",
       "5    62\n",
       "6    62\n",
       "dtype: int64"
      ]
     },
     "metadata": {},
     "output_type": "display_data"
    },
    {
     "name": "stdout",
     "output_type": "stream",
     "text": [
      "Shape df: (434, 18876)\n"
     ]
    },
    {
     "name": "stdout",
     "output_type": "stream",
     "text": [
      "Shape X_train: (347, 18875)\n",
      "Shape X_test: (87, 18875)\n"
     ]
    }
   ],
   "source": [
    "start_time = datetime.datetime.now()\n",
    "\n",
    "myfunc.reset_vars()\n",
    "\n",
    "myfunc.NOTEBK_FILENAME = myfunc.get_nb_name()\n",
    "\n",
    "myfunc.check_enviroment(myfunc.DATA_DIR, myfunc.CFDNA_DIR, myfunc.GENCODE_DIR, myfunc.H5_DIR, myfunc.LOG_DIR, myfunc.CSV_DIR, myfunc.MODEL_DIR, myfunc.EXEC_DIR, myfunc.MET_DIR)\n",
    "\n",
    "# Leer fichero con las muestras\n",
    "df_t = myfunc.read_h5_to_df(DATA_FILE, myfunc.H5_DIR)\n",
    "display(df_t.groupby(\"target\").size())\n",
    "print(\"Shape df:\",df_t.shape)\n",
    "\n",
    "# Separar caracteristicas/genes de las etiquetas/tipos de cáncer\n",
    "X = df_t.iloc[:, :-1]  # Todas las columnas excepto la última\n",
    "y = df_t.iloc[:, -1]  # La última columna contiene los identificadores de los tipos de cáncer\n",
    "\n",
    "#  Crear el conjunto de datos de entrenamiento y de pruebas, y se fija la semilla para siempre coger el mismo juego de muestras\n",
    "X_train, X_test, y_train, y_test = train_test_split(X, y, test_size=0.2, shuffle=True, random_state=42)\n",
    "print(\"Shape X_train:\",X_train.shape)\n",
    "print(\"Shape X_test:\",X_test.shape)\n"
   ]
  },
  {
   "cell_type": "markdown",
   "id": "74245ba0",
   "metadata": {
    "papermill": {
     "duration": 0.003002,
     "end_time": "2023-10-30T16:08:44.835005",
     "exception": false,
     "start_time": "2023-10-30T16:08:44.832003",
     "status": "completed"
    },
    "tags": []
   },
   "source": [
    "#### Selección de características y clasificación."
   ]
  },
  {
   "cell_type": "code",
   "execution_count": 7,
   "id": "dc73e740",
   "metadata": {
    "execution": {
     "iopub.execute_input": "2023-10-30T16:08:44.841778Z",
     "iopub.status.busy": "2023-10-30T16:08:44.841577Z",
     "iopub.status.idle": "2023-10-30T16:41:56.846257Z",
     "shell.execute_reply": "2023-10-30T16:41:56.845574Z"
    },
    "papermill": {
     "duration": 1992.012223,
     "end_time": "2023-10-30T16:41:56.850200",
     "exception": false,
     "start_time": "2023-10-30T16:08:44.837977",
     "status": "completed"
    },
    "tags": []
   },
   "outputs": [
    {
     "name": "stdout",
     "output_type": "stream",
     "text": [
      "20231030T170844 : amilcar22 : INFO : Iniciando entrenamiento\n",
      "num_iter: 1 , max_iter: 1\n",
      "Fitting 5 folds for each of 1 candidates, totalling 5 fits\n"
     ]
    },
    {
     "name": "stdout",
     "output_type": "stream",
     "text": [
      "[CV 2/5] END clasifier__max_iter=10000, clasifier__penalty=l1, clasifier__solver=saga, selector__estimator__n_estimators=400, selector__max_features=1000;, score=0.818 total time=13.4min\n"
     ]
    },
    {
     "name": "stdout",
     "output_type": "stream",
     "text": [
      "[CV 5/5] END clasifier__max_iter=10000, clasifier__penalty=l1, clasifier__solver=saga, selector__estimator__n_estimators=400, selector__max_features=1000;, score=0.873 total time=13.7min\n"
     ]
    },
    {
     "name": "stdout",
     "output_type": "stream",
     "text": [
      "[CV 3/5] END clasifier__max_iter=10000, clasifier__penalty=l1, clasifier__solver=saga, selector__estimator__n_estimators=400, selector__max_features=1000;, score=0.859 total time=16.1min\n"
     ]
    },
    {
     "name": "stdout",
     "output_type": "stream",
     "text": [
      "[CV 4/5] END clasifier__max_iter=10000, clasifier__penalty=l1, clasifier__solver=saga, selector__estimator__n_estimators=400, selector__max_features=1000;, score=0.934 total time=16.5min\n"
     ]
    },
    {
     "name": "stdout",
     "output_type": "stream",
     "text": [
      "[CV 1/5] END clasifier__max_iter=10000, clasifier__penalty=l1, clasifier__solver=saga, selector__estimator__n_estimators=400, selector__max_features=1000;, score=0.809 total time=17.7min\n"
     ]
    },
    {
     "name": "stdout",
     "output_type": "stream",
     "text": [
      "Mejores Hiperparámetros: {'selector__max_features': 1000, 'selector__estimator__n_estimators': 400, 'clasifier__solver': 'saga', 'clasifier__penalty': 'l1', 'clasifier__max_iter': 10000}\n",
      "Mejor Puntuación: 0.8586\n",
      "20231030T174156 : amilcar22 : INFO : Fin entrenamiento\n"
     ]
    }
   ],
   "source": [
    "myfunc.verbose(\"Iniciando entrenamiento\")\n",
    "\n",
    "kf = KFold(n_splits=5, shuffle=True, random_state=SEMILLA)\n",
    "\n",
    "# Crear el pipeline para el flujo de tareas\n",
    "tasks_pipeline = Pipeline([\n",
    "    ('selector', algor_selector),\n",
    "    ('clasifier', algor_clasifier)\n",
    "])\n",
    "\n",
    "# MAX_ITERS puede limitar el número de iteraciones si son excesivas para las combinaciones de parámetros buscando un óptimo local, \n",
    "# sino funcionaría como GridSearchCV al revisar todas las cominaciones de los parámetros\n",
    "num_iteraciones = 1\n",
    "num_iteraciones = num_iteraciones * np.prod([len(elemento1) for _, elemento1 in param_distributions.items()])\n",
    "max_iteraciones = num_iteraciones if num_iteraciones <= MAX_ITERS else MAX_ITERS\n",
    "print(\"num_iter:\",num_iteraciones,\", max_iter:\",max_iteraciones)\n",
    "\n",
    "random_search = RandomizedSearchCV(\n",
    "    tasks_pipeline, \n",
    "    param_distributions, \n",
    "    n_iter=max_iteraciones,\n",
    "    scoring=SCORING,\n",
    "    cv=kf,\n",
    "    verbose=3, \n",
    "    random_state=SEMILLA, \n",
    "    n_jobs=-1\n",
    "    )\n",
    "\n",
    "# Entrenar el modelo\n",
    "random_search.fit(X_train, y_train)\n",
    "\n",
    "# Ver los mejores hiperparámetros encontrados\n",
    "print(f'Mejores Hiperparámetros: {random_search.best_params_}')\n",
    "print(f'Mejor Puntuación: {random_search.best_score_:.4f}')\n",
    "\n",
    "# Nos quedamos con el mejor modelo para ver las métricas\n",
    "mejor_modelo = random_search.best_estimator_\n",
    "\n",
    "myfunc.verbose(\"Fin entrenamiento\")"
   ]
  },
  {
   "cell_type": "markdown",
   "id": "8a1a1e40",
   "metadata": {
    "papermill": {
     "duration": 0.003098,
     "end_time": "2023-10-30T16:41:56.856594",
     "exception": false,
     "start_time": "2023-10-30T16:41:56.853496",
     "status": "completed"
    },
    "tags": []
   },
   "source": [
    "#### Guardar modelo"
   ]
  },
  {
   "cell_type": "code",
   "execution_count": 8,
   "id": "0f36b38e",
   "metadata": {
    "execution": {
     "iopub.execute_input": "2023-10-30T16:41:56.863793Z",
     "iopub.status.busy": "2023-10-30T16:41:56.863578Z",
     "iopub.status.idle": "2023-10-30T16:41:56.997308Z",
     "shell.execute_reply": "2023-10-30T16:41:56.996717Z"
    },
    "papermill": {
     "duration": 0.138913,
     "end_time": "2023-10-30T16:41:56.998537",
     "exception": false,
     "start_time": "2023-10-30T16:41:56.859624",
     "status": "completed"
    },
    "tags": []
   },
   "outputs": [
    {
     "name": "stdout",
     "output_type": "stream",
     "text": [
      "20231030T174156 : amilcar22 : INFO : Inicio guardar fichero ../tfm_git/ejecuciones/modelos/modelo_6390_mul_m_RF_LR_L1.pkl\n",
      "20231030T174156 : amilcar22 : INFO : Fin guardar fichero ../tfm_git/ejecuciones/modelos/modelo_6390_mul_m_RF_LR_L1.pkl\n"
     ]
    }
   ],
   "source": [
    "fichero_modelo = str.replace(\"modelo_\"+str(SEMILLA).zfill(4)+\"_\"+M_TIPO+\"_\"+M_SELECT+\"_\"+M_CLASIF+\".pkl\", \" \", \"_\")\n",
    "\n",
    "myfunc.save_modelo(mejor_modelo, myfunc.MODEL_DIR, fichero_modelo)"
   ]
  },
  {
   "cell_type": "markdown",
   "id": "3d3c2d58",
   "metadata": {
    "papermill": {
     "duration": 0.003201,
     "end_time": "2023-10-30T16:41:57.005271",
     "exception": false,
     "start_time": "2023-10-30T16:41:57.002070",
     "status": "completed"
    },
    "tags": []
   },
   "source": [
    "#### Ver resultados del las iteraciones hechas por RandomSearchCV"
   ]
  },
  {
   "cell_type": "code",
   "execution_count": 9,
   "id": "d6dfa5bc",
   "metadata": {
    "execution": {
     "iopub.execute_input": "2023-10-30T16:41:57.012580Z",
     "iopub.status.busy": "2023-10-30T16:41:57.012344Z",
     "iopub.status.idle": "2023-10-30T16:41:57.018771Z",
     "shell.execute_reply": "2023-10-30T16:41:57.018299Z"
    },
    "papermill": {
     "duration": 0.011521,
     "end_time": "2023-10-30T16:41:57.019999",
     "exception": false,
     "start_time": "2023-10-30T16:41:57.008478",
     "status": "completed"
    },
    "tags": []
   },
   "outputs": [
    {
     "name": "stdout",
     "output_type": "stream",
     "text": [
      "20231030T174157 : amilcar22 : INFO : Inicio ver resultados\n",
      "Mejores Hiperparámetros: {'selector__max_features': 1000, 'selector__estimator__n_estimators': 400, 'clasifier__solver': 'saga', 'clasifier__penalty': 'l1', 'clasifier__max_iter': 10000}\n",
      "Mejores puntuaciones: 0.8586 | Params: {'selector__max_features': 1000, 'selector__estimator__n_estimators': 400, 'clasifier__solver': 'saga', 'clasifier__penalty': 'l1', 'clasifier__max_iter': 10000}\n",
      "Media de las puntuaciones: 0.8586 | Params: {'selector__max_features': 1000, 'selector__estimator__n_estimators': 400, 'clasifier__solver': 'saga', 'clasifier__penalty': 'l1', 'clasifier__max_iter': 10000}\n",
      "20231030T174157 : amilcar22 : INFO : Fin resultados\n"
     ]
    }
   ],
   "source": [
    "myfunc.ver_resultados_search(random_search)"
   ]
  },
  {
   "cell_type": "markdown",
   "id": "aabf9d6a",
   "metadata": {
    "papermill": {
     "duration": 0.003308,
     "end_time": "2023-10-30T16:41:57.026636",
     "exception": false,
     "start_time": "2023-10-30T16:41:57.023328",
     "status": "completed"
    },
    "tags": []
   },
   "source": [
    "#### Ver métricas del mejor modelo"
   ]
  },
  {
   "cell_type": "code",
   "execution_count": 10,
   "id": "5dc25ef8",
   "metadata": {
    "execution": {
     "iopub.execute_input": "2023-10-30T16:41:57.033936Z",
     "iopub.status.busy": "2023-10-30T16:41:57.033720Z",
     "iopub.status.idle": "2023-10-30T16:41:57.975360Z",
     "shell.execute_reply": "2023-10-30T16:41:57.974902Z"
    },
    "papermill": {
     "duration": 0.94677,
     "end_time": "2023-10-30T16:41:57.976645",
     "exception": false,
     "start_time": "2023-10-30T16:41:57.029875",
     "status": "completed"
    },
    "tags": []
   },
   "outputs": [
    {
     "name": "stdout",
     "output_type": "stream",
     "text": [
      "20231030T174157 : amilcar22 : INFO : Inicio ver métricas multiclase\n"
     ]
    },
    {
     "name": "stdout",
     "output_type": "stream",
     "text": [
      "              precision    recall  f1-score   support\n",
      "\n",
      "           0       0.44      0.25      0.32        16\n",
      "           1       0.91      0.67      0.77        15\n",
      "           2       0.23      0.27      0.25        11\n",
      "           3       0.21      0.60      0.32         5\n",
      "           4       0.73      0.62      0.67        13\n",
      "           5       0.73      0.89      0.80         9\n",
      "           6       0.67      0.67      0.67        18\n",
      "\n",
      "    accuracy                           0.55        87\n",
      "   macro avg       0.56      0.57      0.54        87\n",
      "weighted avg       0.60      0.55      0.56        87\n",
      "\n",
      "\n",
      "\n",
      "           Exactitud: 0.551724\n",
      "   Precisión (media): 0.559972\n",
      "      Recall (media): 0.565762\n",
      "    F1-score (media): 0.541193\n",
      "\n",
      "\n",
      "AUC para el tipo de cáncer 0-Control.... 0.7069\n",
      "AUC para el tipo de cáncer 1-Bladder.... 0.8926\n",
      "AUC para el tipo de cáncer 2-Breast..... 0.6902\n",
      "AUC para el tipo de cáncer 3-Colorectal. 0.7927\n",
      "AUC para el tipo de cáncer 4-Kidney..... 0.8940\n",
      "AUC para el tipo de cáncer 5-Lung....... 0.9858\n",
      "AUC para el tipo de cáncer 6-Prostate... 0.8519\n",
      "\n",
      "Media de AUC: 0.8306\n"
     ]
    },
    {
     "data": {
      "image/png": "[encoded data removed]",
      "text/plain": [
       "<Figure size 1000x600 with 1 Axes>"
      ]
     },
     "metadata": {},
     "output_type": "display_data"
    },
    {
     "name": "stdout",
     "output_type": "stream",
     "text": [
      "\n",
      "\n"
     ]
    },
    {
     "data": {
      "image/png": "[encoded data removed]",
      "text/plain": [
       "<Figure size 800x400 with 2 Axes>"
      ]
     },
     "metadata": {},
     "output_type": "display_data"
    },
    {
     "name": "stdout",
     "output_type": "stream",
     "text": [
      "\n",
      "\n",
      "Puntuación Jaccard para el cáncer tipo 0-Control.... 0.1905\n",
      "Puntuación Jaccard para el cáncer tipo 1-Bladder.... 0.6250\n",
      "Puntuación Jaccard para el cáncer tipo 2-Breast..... 0.1429\n",
      "Puntuación Jaccard para el cáncer tipo 3-Colorectal. 0.1875\n",
      "Puntuación Jaccard para el cáncer tipo 4-Kidney..... 0.5000\n",
      "Puntuación Jaccard para el cáncer tipo 5-Lung....... 0.6667\n",
      "Puntuación Jaccard para el cáncer tipo 6-Prostate... 0.5000\n",
      "\n",
      "Media de la puntuación de Jaccard: 0.4018\n"
     ]
    }
   ],
   "source": [
    "if M_TIPO.startswith(\"bin\"):\n",
    "    myfunc.ver_metricas(mejor_modelo, X_test, y_test)\n",
    "else:\n",
    "    myfunc.ver_metricas_multi(mejor_modelo, X_test, y_test)\n"
   ]
  },
  {
   "cell_type": "markdown",
   "id": "008402be",
   "metadata": {
    "papermill": {
     "duration": 0.004321,
     "end_time": "2023-10-30T16:41:57.985738",
     "exception": false,
     "start_time": "2023-10-30T16:41:57.981417",
     "status": "completed"
    },
    "tags": []
   },
   "source": [
    "#### Finalización del notebook"
   ]
  },
  {
   "cell_type": "code",
   "execution_count": 11,
   "id": "75e63289",
   "metadata": {
    "execution": {
     "iopub.execute_input": "2023-10-30T16:41:57.995300Z",
     "iopub.status.busy": "2023-10-30T16:41:57.995118Z",
     "iopub.status.idle": "2023-10-30T16:41:57.998806Z",
     "shell.execute_reply": "2023-10-30T16:41:57.998383Z"
    },
    "papermill": {
     "duration": 0.009869,
     "end_time": "2023-10-30T16:41:57.999894",
     "exception": false,
     "start_time": "2023-10-30T16:41:57.990025",
     "status": "completed"
    },
    "tags": []
   },
   "outputs": [
    {
     "name": "stdout",
     "output_type": "stream",
     "text": [
      "20231030T174157 : amilcar22 : INFO : Notebook ha tardado 1993 seconds\n"
     ]
    }
   ],
   "source": [
    "end_time = datetime.datetime.now()\n",
    "total_time = end_time - start_time\n",
    "myfunc.verbose(f\"Notebook ha tardado {total_time.seconds} seconds\")"
   ]
  },
  {
   "cell_type": "markdown",
   "id": "05473cbb",
   "metadata": {
    "papermill": {
     "duration": 0.004508,
     "end_time": "2023-10-30T16:41:58.008717",
     "exception": false,
     "start_time": "2023-10-30T16:41:58.004209",
     "status": "completed"
    },
    "tags": []
   },
   "source": [
    "#### Guardar métricas"
   ]
  },
  {
   "cell_type": "code",
   "execution_count": 12,
   "id": "8dd7600b",
   "metadata": {
    "execution": {
     "iopub.execute_input": "2023-10-30T16:41:58.018185Z",
     "iopub.status.busy": "2023-10-30T16:41:58.017991Z",
     "iopub.status.idle": "2023-10-30T16:41:58.816999Z",
     "shell.execute_reply": "2023-10-30T16:41:58.816374Z"
    },
    "papermill": {
     "duration": 0.805239,
     "end_time": "2023-10-30T16:41:58.818256",
     "exception": false,
     "start_time": "2023-10-30T16:41:58.013017",
     "status": "completed"
    },
    "tags": []
   },
   "outputs": [
    {
     "name": "stdout",
     "output_type": "stream",
     "text": [
      "20231030T174158 : amilcar22 : INFO : Inicio guardar métricas multiclase\n",
      "20231030T174158 : amilcar22 : INFO : Inicio leer fichero ../tfm_git/ejecuciones/metricas/metricas_6390.csv\n",
      "20231030T174158 : amilcar22 : INFO : Fin leer fichero ../tfm_git/ejecuciones/metricas/metricas_6390.csv\n"
     ]
    },
    {
     "name": "stdout",
     "output_type": "stream",
     "text": [
      "20231030T174158 : amilcar22 : INFO : Inicio guardar fichero ../tfm_git/ejecuciones/metricas/metricas_6390.csv\n",
      "20231030T174158 : amilcar22 : INFO : Fichero borrado ../tfm_git/ejecuciones/metricas/metricas_6390.csv\n",
      "20231030T174158 : amilcar22 : INFO : Fin guardar fichero ../tfm_git/ejecuciones/metricas/metricas_6390.csv\n",
      "20231030T174158 : amilcar22 : INFO : Fin guardar métricas multiclase\n",
      "20231030T174158 : amilcar22 : INFO : Inicio leer fichero ../tfm_git/ejecuciones/metricas/metricas_6390.csv\n",
      "20231030T174158 : amilcar22 : INFO : Fin leer fichero ../tfm_git/ejecuciones/metricas/metricas_6390.csv\n"
     ]
    },
    {
     "data": {
      "text/html": [
       "<div>\n",
       "<style scoped>\n",
       "    .dataframe tbody tr th:only-of-type {\n",
       "        vertical-align: middle;\n",
       "    }\n",
       "\n",
       "    .dataframe tbody tr th {\n",
       "        vertical-align: top;\n",
       "    }\n",
       "\n",
       "    .dataframe thead th {\n",
       "        text-align: right;\n",
       "    }\n",
       "</style>\n",
       "<table border=\"1\" class=\"dataframe\">\n",
       "  <thead>\n",
       "    <tr style=\"text-align: right;\">\n",
       "      <th></th>\n",
       "      <th>tipo</th>\n",
       "      <th>select</th>\n",
       "      <th>clasific</th>\n",
       "      <th>semilla</th>\n",
       "      <th>accuracy</th>\n",
       "      <th>precision</th>\n",
       "      <th>recall</th>\n",
       "      <th>f1_score</th>\n",
       "      <th>roc_auc</th>\n",
       "      <th>hostname</th>\n",
       "      <th>total_time_sec</th>\n",
       "      <th>datetime</th>\n",
       "      <th>fichero_modelo</th>\n",
       "      <th>params</th>\n",
       "      <th>shape</th>\n",
       "      <th>features</th>\n",
       "      <th>roc_auc_ovr</th>\n",
       "      <th>indices_auc</th>\n",
       "      <th>indices_jaccard</th>\n",
       "    </tr>\n",
       "  </thead>\n",
       "  <tbody>\n",
       "    <tr>\n",
       "      <th>0</th>\n",
       "      <td>mul_m</td>\n",
       "      <td>RF</td>\n",
       "      <td>LR_L1</td>\n",
       "      <td>6390</td>\n",
       "      <td>0.551724</td>\n",
       "      <td>0.559972</td>\n",
       "      <td>0.565762</td>\n",
       "      <td>0.541193</td>\n",
       "      <td>NaN</td>\n",
       "      <td>amilcar22</td>\n",
       "      <td>1993</td>\n",
       "      <td>2023-10-30 17:41:58.786851</td>\n",
       "      <td>modelo_6390_mul_m_RF_LR_L1.pkl</td>\n",
       "      <td>{'selector__max_features': 1000, 'selector__es...</td>\n",
       "      <td>X_test:(87, 18875)</td>\n",
       "      <td>['ENSG00000000938.13', 'ENSG00000004799.8', 'E...</td>\n",
       "      <td>0.830559</td>\n",
       "      <td>[0.7068661971830986, 0.8925925925925926, 0.690...</td>\n",
       "      <td>[0.19047619047619047, 0.625, 0.142857142857142...</td>\n",
       "    </tr>\n",
       "    <tr>\n",
       "      <th>0</th>\n",
       "      <td>mul_m</td>\n",
       "      <td>RF</td>\n",
       "      <td>LR_EN</td>\n",
       "      <td>6390</td>\n",
       "      <td>0.574713</td>\n",
       "      <td>0.567747</td>\n",
       "      <td>0.586686</td>\n",
       "      <td>0.559484</td>\n",
       "      <td>NaN</td>\n",
       "      <td>amilcar22</td>\n",
       "      <td>1940</td>\n",
       "      <td>2023-10-30 17:08:38.569259</td>\n",
       "      <td>modelo_6390_mul_m_RF_LR_EN.pkl</td>\n",
       "      <td>{'selector__max_features': 1000, 'selector__es...</td>\n",
       "      <td>X_test:(87, 18875)</td>\n",
       "      <td>['ENSG00000000938.13', 'ENSG00000004799.8', 'E...</td>\n",
       "      <td>0.839578</td>\n",
       "      <td>[0.7024647887323944, 0.8962962962962963, 0.703...</td>\n",
       "      <td>[0.19047619047619047, 0.5882352941176471, 0.2,...</td>\n",
       "    </tr>\n",
       "    <tr>\n",
       "      <th>0</th>\n",
       "      <td>mul_m</td>\n",
       "      <td>MI</td>\n",
       "      <td>SVM</td>\n",
       "      <td>6390</td>\n",
       "      <td>0.551724</td>\n",
       "      <td>0.566481</td>\n",
       "      <td>0.581495</td>\n",
       "      <td>0.562556</td>\n",
       "      <td>NaN</td>\n",
       "      <td>amilcar22</td>\n",
       "      <td>204</td>\n",
       "      <td>2023-10-30 16:36:10.790072</td>\n",
       "      <td>modelo_6390_mul_m_MI_SVM.pkl</td>\n",
       "      <td>{'selector__k': 1000, 'clasifier__kernel': 'rb...</td>\n",
       "      <td>X_test:(87, 18875)</td>\n",
       "      <td>['ENSG00000001084.13', 'ENSG00000001460.18', '...</td>\n",
       "      <td>0.847478</td>\n",
       "      <td>[0.7887323943661972, 0.8296296296296297, 0.772...</td>\n",
       "      <td>[0.20833333333333334, 0.47058823529411764, 0.2...</td>\n",
       "    </tr>\n",
       "  </tbody>\n",
       "</table>\n",
       "</div>"
      ],
      "text/plain": [
       "    tipo select clasific  semilla  accuracy  precision    recall  f1_score  \\\n",
       "0  mul_m     RF    LR_L1     6390  0.551724   0.559972  0.565762  0.541193   \n",
       "0  mul_m     RF    LR_EN     6390  0.574713   0.567747  0.586686  0.559484   \n",
       "0  mul_m     MI      SVM     6390  0.551724   0.566481  0.581495  0.562556   \n",
       "\n",
       "   roc_auc   hostname  total_time_sec                    datetime  \\\n",
       "0      NaN  amilcar22            1993  2023-10-30 17:41:58.786851   \n",
       "0      NaN  amilcar22            1940  2023-10-30 17:08:38.569259   \n",
       "0      NaN  amilcar22             204  2023-10-30 16:36:10.790072   \n",
       "\n",
       "                   fichero_modelo  \\\n",
       "0  modelo_6390_mul_m_RF_LR_L1.pkl   \n",
       "0  modelo_6390_mul_m_RF_LR_EN.pkl   \n",
       "0    modelo_6390_mul_m_MI_SVM.pkl   \n",
       "\n",
       "                                              params               shape  \\\n",
       "0  {'selector__max_features': 1000, 'selector__es...  X_test:(87, 18875)   \n",
       "0  {'selector__max_features': 1000, 'selector__es...  X_test:(87, 18875)   \n",
       "0  {'selector__k': 1000, 'clasifier__kernel': 'rb...  X_test:(87, 18875)   \n",
       "\n",
       "                                            features  roc_auc_ovr  \\\n",
       "0  ['ENSG00000000938.13', 'ENSG00000004799.8', 'E...     0.830559   \n",
       "0  ['ENSG00000000938.13', 'ENSG00000004799.8', 'E...     0.839578   \n",
       "0  ['ENSG00000001084.13', 'ENSG00000001460.18', '...     0.847478   \n",
       "\n",
       "                                         indices_auc  \\\n",
       "0  [0.7068661971830986, 0.8925925925925926, 0.690...   \n",
       "0  [0.7024647887323944, 0.8962962962962963, 0.703...   \n",
       "0  [0.7887323943661972, 0.8296296296296297, 0.772...   \n",
       "\n",
       "                                     indices_jaccard  \n",
       "0  [0.19047619047619047, 0.625, 0.142857142857142...  \n",
       "0  [0.19047619047619047, 0.5882352941176471, 0.2,...  \n",
       "0  [0.20833333333333334, 0.47058823529411764, 0.2...  "
      ]
     },
     "metadata": {},
     "output_type": "display_data"
    }
   ],
   "source": [
    "if M_TIPO.startswith(\"bin\"):\n",
    "    myfunc.save_metricas_to_csv(random_search, X_test, y_test, M_TIPO, M_SELECT, M_CLASIF, total_time, SEMILLA, myfunc.MET_DIR, M_FICHERO, fichero_modelo)\n",
    "else:\n",
    "    myfunc.save_metricas_multi_to_csv(random_search, X_test, y_test, M_TIPO, M_SELECT, M_CLASIF, total_time, SEMILLA, myfunc.MET_DIR, M_FICHERO, fichero_modelo)\n",
    "\n",
    "df1=myfunc.read_metricas_to_df(myfunc.MET_DIR,M_FICHERO)\n",
    "\n",
    "display(df1.sort_values(\"datetime\", ascending=False)[:3])\n"
   ]
  },
  {
   "cell_type": "markdown",
   "id": "999a8135",
   "metadata": {
    "papermill": {
     "duration": 0.004809,
     "end_time": "2023-10-30T16:41:58.828296",
     "exception": false,
     "start_time": "2023-10-30T16:41:58.823487",
     "status": "completed"
    },
    "tags": []
   },
   "source": [
    "#### Guardar resultados"
   ]
  },
  {
   "cell_type": "code",
   "execution_count": 13,
   "id": "251676f0",
   "metadata": {
    "execution": {
     "iopub.execute_input": "2023-10-30T16:41:58.838678Z",
     "iopub.status.busy": "2023-10-30T16:41:58.838486Z",
     "iopub.status.idle": "2023-10-30T16:41:58.846559Z",
     "shell.execute_reply": "2023-10-30T16:41:58.846088Z"
    },
    "papermill": {
     "duration": 0.014768,
     "end_time": "2023-10-30T16:41:58.847693",
     "exception": false,
     "start_time": "2023-10-30T16:41:58.832925",
     "status": "completed"
    },
    "tags": []
   },
   "outputs": [
    {
     "name": "stdout",
     "output_type": "stream",
     "text": [
      "20231030T174158 : amilcar22 : INFO : Inicio guardar resultados\n",
      "20231030T174158 : amilcar22 : INFO : Inicio guardar fichero ../tfm_git/ejecuciones/metricas/resultados_6390_mul_m-RF-LR_L1.csv\n",
      "20231030T174158 : amilcar22 : INFO : Fin guardar fichero ../tfm_git/ejecuciones/metricas/resultados_6390_mul_m-RF-LR_L1.csv\n",
      "20231030T174158 : amilcar22 : INFO : Fin guardar resultados\n"
     ]
    }
   ],
   "source": [
    "fichero_resultados=R_FICHERO+\"_\"+M_TIPO+\"-\"+M_SELECT+\"-\"+M_CLASIF+\".csv\"\n",
    "myfunc.save_resultados_to_csv(M_TIPO, M_SELECT, M_CLASIF,  random_search, myfunc.MET_DIR, fichero_resultados)\n"
   ]
  }
 ],
 "metadata": {
  "kernelspec": {
   "display_name": "Python 3 (ipykernel)",
   "language": "python",
   "name": "python3"
  },
  "language_info": {
   "codemirror_mode": {
    "name": "ipython",
    "version": 3
   },
   "file_extension": ".py",
   "mimetype": "text/x-python",
   "name": "python",
   "nbconvert_exporter": "python",
   "pygments_lexer": "ipython3",
   "version": "3.10.12"
  },
  "papermill": {
   "default_parameters": {},
   "duration": 1998.709937,
   "end_time": "2023-10-30T16:42:01.470587",
   "environment_variables": {},
   "exception": null,
   "input_path": "03_entrenamiento.ipynb",
   "output_path": "ejecuciones/training/03_entrenamiento.20231030T170842.param_0000_6390_mul_m_RF_LR_L1.output.ipynb",
   "parameters": {
    "MAX_ITERS": 500,
    "M_CLASIF": "LR_L1",
    "M_FICHERO": "metricas_6390",
    "M_SELECT": "RF",
    "M_TIPO": "mul_m",
    "PRE_DATA_FILE": "rows_transpose_norm_by_gene_id_with_target_num_",
    "P_FICHERO": "param_0000_6390_mul_m_RF_LR_L1.yaml",
    "R_FICHERO": "resultados_6390",
    "SCORING": "roc_auc_ovr",
    "SEMILLA": 6390,
    "eval_clasifier": "LogisticRegressionCV(random_state=SEMILLA)",
    "eval_selector": "SelectFromModel(estimator=RandomForestClassifier(random_state=SEMILLA), threshold=-np.inf)",
    "param_distributions": {
     "clasifier__max_iter": [
      10000
     ],
     "clasifier__penalty": [
      "l1"
     ],
     "clasifier__solver": [
      "saga"
     ],
     "selector__estimator__n_estimators": [
      400
     ],
     "selector__max_features": [
      1000
     ]
    }
   },
   "start_time": "2023-10-30T16:08:42.760650",
   "version": "2.4.0"
  }
 },
 "nbformat": 4,
 "nbformat_minor": 5
}