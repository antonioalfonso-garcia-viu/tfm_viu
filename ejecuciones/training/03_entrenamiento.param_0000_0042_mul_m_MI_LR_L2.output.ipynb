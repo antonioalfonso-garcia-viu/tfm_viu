{
 "cells": [
  {
   "cell_type": "markdown",
   "id": "0b6044e3",
   "metadata": {
    "papermill": {
     "duration": 0.003169,
     "end_time": "2023-10-27T20:12:20.486631",
     "exception": false,
     "start_time": "2023-10-27T20:12:20.483462",
     "status": "completed"
    },
    "tags": []
   },
   "source": [
    "##### Inicio"
   ]
  },
  {
   "cell_type": "markdown",
   "id": "bf35dfae",
   "metadata": {
    "papermill": {
     "duration": 0.002348,
     "end_time": "2023-10-27T20:12:20.491605",
     "exception": false,
     "start_time": "2023-10-27T20:12:20.489257",
     "status": "completed"
    },
    "tags": []
   },
   "source": [
    "#### Carga de datos"
   ]
  },
  {
   "cell_type": "code",
   "execution_count": 1,
   "id": "a0a3034a",
   "metadata": {
    "execution": {
     "iopub.execute_input": "2023-10-27T20:12:20.497574Z",
     "iopub.status.busy": "2023-10-27T20:12:20.497344Z",
     "iopub.status.idle": "2023-10-27T20:12:21.375455Z",
     "shell.execute_reply": "2023-10-27T20:12:21.374919Z"
    },
    "papermill": {
     "duration": 0.882773,
     "end_time": "2023-10-27T20:12:21.376810",
     "exception": false,
     "start_time": "2023-10-27T20:12:20.494037",
     "status": "completed"
    },
    "tags": []
   },
   "outputs": [
    {
     "name": "stdout",
     "output_type": "stream",
     "text": [
      "CPU_COUNT: 8; NODE: amilcar22; sys.version: 3.10.12 (main, Jul  5 2023, 19:22:19) [GCC 11.2.0]\n",
      "LOKY_MAX_CPU_COUNT: 6\n",
      "OMP_NUM_THREADS: 2\n"
     ]
    }
   ],
   "source": [
    "import os\n",
    "import numpy as np\n",
    "import pandas as pd\n",
    "import datetime\n",
    "import sklearn\n",
    "import logging\n",
    "import warnings\n",
    "\n",
    "from sklearn.pipeline import Pipeline\n",
    "from sklearn.model_selection import RandomizedSearchCV, KFold, cross_val_score, train_test_split\n",
    "from sklearn.metrics import accuracy_score, confusion_matrix, classification_report, roc_auc_score\n",
    "\n",
    "#  cargar algoritmos para aprendizaje supervisado\n",
    "from sklearn.feature_selection import SelectKBest, f_classif, SelectFromModel, mutual_info_classif\n",
    "from sklearn.svm import SVC\n",
    "from sklearn.ensemble import RandomForestClassifier\n",
    "from sklearn.linear_model import LogisticRegression,LogisticRegressionCV\n",
    "\n",
    "# importar fichero con utilidades propias\n",
    "from commons import myfunctions as myfunc\n"
   ]
  },
  {
   "cell_type": "markdown",
   "id": "7c271b30",
   "metadata": {
    "papermill": {
     "duration": 0.00264,
     "end_time": "2023-10-27T20:12:21.382406",
     "exception": false,
     "start_time": "2023-10-27T20:12:21.379766",
     "status": "completed"
    },
    "tags": []
   },
   "source": [
    "#### Parámetros a utilizar en el entrenamiento.\n",
    "\n",
    "Se indican los 3 algoritmos de *selección de características* (eval_selector_xxx) y los 3 algoritmos para la _clasificación_ (eval_clasifier_xxx)\n",
    "\n",
    "En *param_distributions* se indicar los parámetros que utilizan los algoritmos en la función RandomSearchCV.\n",
    "\n",
    "Esta celda tiene la etiqueta **parameters** que servirá para poder lanzar los entrenamientos con la utilidad **papermill** pasándole un fichero con los parámetros. Los nuevos parámetros se situarán tras esta celda para tener prevalencia."
   ]
  },
  {
   "cell_type": "code",
   "execution_count": 2,
   "id": "9852c750",
   "metadata": {
    "execution": {
     "iopub.execute_input": "2023-10-27T20:12:21.388513Z",
     "iopub.status.busy": "2023-10-27T20:12:21.388230Z",
     "iopub.status.idle": "2023-10-27T20:12:21.395215Z",
     "shell.execute_reply": "2023-10-27T20:12:21.394739Z"
    },
    "papermill": {
     "duration": 0.011457,
     "end_time": "2023-10-27T20:12:21.396414",
     "exception": false,
     "start_time": "2023-10-27T20:12:21.384957",
     "status": "completed"
    },
    "tags": [
     "parameters"
    ]
   },
   "outputs": [
    {
     "name": "stdout",
     "output_type": "stream",
     "text": [
      "20231027T221221 : amilcar22 : INFO : Utilizando parámetros de mul_m\n"
     ]
    }
   ],
   "source": [
    "#  Parametros para el entrenamiento\n",
    "\n",
    "SEMILLA=        42\n",
    "M_TIPO=         \"mul_m\"\n",
    "M_SELECT=       \"MI\"\n",
    "M_CLASIF=       \"SVM\"\n",
    "R_FICHERO=      \"resultados\"\n",
    "M_FICHERO=      \"metricas\"\n",
    "PRE_DATA_FILE=  \"rows_transpose_norm_by_gene_id_with_target_num_\"\n",
    "SCORING=        \"roc_auc_ovr\" \n",
    "MAX_ITERS=      100\n",
    "\n",
    "def mutual_info_classif_state(X, y):\n",
    "    return mutual_info_classif(X, y, random_state=SEMILLA)\n",
    "\n",
    "eval_selector_mi = \"SelectKBest(score_func=mutual_info_classif_state)\"\n",
    "eval_selector_rf=  \"SelectFromModel(estimator=RandomForestClassifier(random_state=SEMILLA), threshold=-np.inf)\"\n",
    "eval_selector_anova=  \"SelectKBest(score_func=f_classif)\"\n",
    "\n",
    "eval_clasifier_svm= \"SVC(probability=True, random_state=SEMILLA)\"\n",
    "eval_clasifier_rf= \"RandomForestClassifier(random_state=SEMILLA)\"\n",
    "eval_clasifier_lr= \"LogisticRegressionCV(random_state=SEMILLA)\"\n",
    "\n",
    "if M_TIPO.startswith(\"bin_m\"):\n",
    "    myfunc.verbose(f\"Utilizando parámetros de {M_TIPO}\")\n",
    "    eval_selector = eval_selector_mi\n",
    "    eval_clasifier = eval_clasifier_svm\n",
    "\n",
    "    SEMILLA = 6578\n",
    "    M_SELECT = \"MI\"\n",
    "    M_CLASIF = \"SVM\"\n",
    "    param_distributions = {'selector__k': [1000], \n",
    "         'clasifier__kernel': ['rbf'], 'clasifier__gamma': [0.01], 'clasifier__C': [100]}\n",
    "elif M_TIPO.startswith(\"bin_s\"):\n",
    "    myfunc.verbose(f\"Utilizando parámetros de {M_TIPO}\")\n",
    "    eval_selector = eval_selector_rf\n",
    "    eval_clasifier = eval_clasifier_lr\n",
    "\n",
    "    SEMILLA = 6191\n",
    "    M_SELECT = \"RF\"\n",
    "    M_CLASIF = \"LR_L2\"\n",
    "    param_distributions = {'selector__max_features': [1000], 'selector__estimator__n_estimators': [200], \n",
    "        'clasifier__solver': ['lbfgs'], 'clasifier__penalty': ['l2'], 'clasifier__max_iter': [10000]}\n",
    "\n",
    "elif M_TIPO.startswith(\"mul_m\"):\n",
    "    myfunc.verbose(f\"Utilizando parámetros de {M_TIPO}\")\n",
    " \n",
    "    eval_selector = eval_selector_rf\n",
    "    eval_clasifier = eval_clasifier_lr\n",
    "\n",
    "    SEMILLA = 6191\n",
    "    M_SELECT = \"RF\"\n",
    "    M_CLASIF = \"LR_L2\"\n",
    "    param_distributions = {'selector__max_features': [1000], 'selector__estimator__n_estimators': [400], \n",
    "        'clasifier__solver': ['lbfgs'], 'clasifier__penalty': ['l2'], 'clasifier__max_iter': [10000]}\n",
    "\n",
    "else:\n",
    "    # M_TIPO.startswith(\"mul_s\"):\n",
    "    myfunc.verbose(f\"Utilizando parámetros de {M_TIPO}\")\n",
    "    eval_selector = eval_selector_anova\n",
    "    eval_clasifier = eval_clasifier_lr\n",
    "\n",
    "    SEMILLA = 1860\n",
    "    M_SELECT = \"ANOVA\"\n",
    "    M_CLASIF = \"LR_L2\"\n",
    "    param_distributions = {'selector__k': [1000], \n",
    "        'clasifier__solver': ['saga'], 'clasifier__penalty': ['l2'], 'clasifier__max_iter': [10000]}\n",
    "\n"
   ]
  },
  {
   "cell_type": "code",
   "execution_count": 3,
   "id": "6255c4cd",
   "metadata": {
    "execution": {
     "iopub.execute_input": "2023-10-27T20:12:21.402384Z",
     "iopub.status.busy": "2023-10-27T20:12:21.402212Z",
     "iopub.status.idle": "2023-10-27T20:12:21.405741Z",
     "shell.execute_reply": "2023-10-27T20:12:21.405243Z"
    },
    "papermill": {
     "duration": 0.007977,
     "end_time": "2023-10-27T20:12:21.407032",
     "exception": false,
     "start_time": "2023-10-27T20:12:21.399055",
     "status": "completed"
    },
    "tags": [
     "injected-parameters"
    ]
   },
   "outputs": [],
   "source": [
    "# Parameters\n",
    "M_TIPO = \"mul_m\"\n",
    "M_SELECT = \"MI\"\n",
    "M_CLASIF = \"LR_L2\"\n",
    "P_FICHERO = \"param_0000_0042_mul_m_MI_LR_L2.yaml\"\n",
    "R_FICHERO = \"resultados_0042\"\n",
    "M_FICHERO = \"metricas_0042\"\n",
    "PRE_DATA_FILE = \"rows_transpose_norm_by_gene_id_with_target_num_\"\n",
    "SCORING = \"roc_auc_ovr\"\n",
    "SEMILLA = 42\n",
    "MAX_ITERS = 500\n",
    "eval_selector = \"SelectKBest(score_func=mutual_info_classif_state)\"\n",
    "eval_clasifier = \"LogisticRegressionCV(random_state=SEMILLA)\"\n",
    "param_distributions = {\n",
    "    \"selector__k\": [1000],\n",
    "    \"clasifier__solver\": [\"lbfgs\"],\n",
    "    \"clasifier__penalty\": [\"l2\"],\n",
    "    \"clasifier__max_iter\": [10000],\n",
    "}\n"
   ]
  },
  {
   "cell_type": "code",
   "execution_count": 4,
   "id": "bc53fafe",
   "metadata": {
    "execution": {
     "iopub.execute_input": "2023-10-27T20:12:21.413135Z",
     "iopub.status.busy": "2023-10-27T20:12:21.412965Z",
     "iopub.status.idle": "2023-10-27T20:12:21.415945Z",
     "shell.execute_reply": "2023-10-27T20:12:21.415412Z"
    },
    "papermill": {
     "duration": 0.007507,
     "end_time": "2023-10-27T20:12:21.417261",
     "exception": false,
     "start_time": "2023-10-27T20:12:21.409754",
     "status": "completed"
    },
    "tags": []
   },
   "outputs": [],
   "source": [
    "DATA_FILE = PRE_DATA_FILE + M_TIPO\n",
    "\n",
    "# si viene \"None\" en el parámetro max_depth, se le quitan las comillas para que no sea entendido por el algoritmo como un texto\n",
    "if \"clasifier__max_depth\" in param_distributions:\n",
    "    param_distributions['clasifier__max_depth'] = [None if x == 'None' else x for x in param_distributions['clasifier__max_depth']]"
   ]
  },
  {
   "cell_type": "markdown",
   "id": "20c559d0",
   "metadata": {
    "papermill": {
     "duration": 0.002766,
     "end_time": "2023-10-27T20:12:21.422877",
     "exception": false,
     "start_time": "2023-10-27T20:12:21.420111",
     "status": "completed"
    },
    "tags": []
   },
   "source": [
    "Asignar los algoritmos que se utilizarán en la función RandomSearchCV"
   ]
  },
  {
   "cell_type": "code",
   "execution_count": 5,
   "id": "80f5e107",
   "metadata": {
    "execution": {
     "iopub.execute_input": "2023-10-27T20:12:21.429112Z",
     "iopub.status.busy": "2023-10-27T20:12:21.428928Z",
     "iopub.status.idle": "2023-10-27T20:12:21.431854Z",
     "shell.execute_reply": "2023-10-27T20:12:21.431222Z"
    },
    "papermill": {
     "duration": 0.007599,
     "end_time": "2023-10-27T20:12:21.433278",
     "exception": false,
     "start_time": "2023-10-27T20:12:21.425679",
     "status": "completed"
    },
    "tags": []
   },
   "outputs": [],
   "source": [
    "algor_selector=eval(eval_selector)\n",
    "algor_clasifier=eval(eval_clasifier)"
   ]
  },
  {
   "cell_type": "markdown",
   "id": "0b8f8d42",
   "metadata": {
    "papermill": {
     "duration": 0.003471,
     "end_time": "2023-10-27T20:12:21.440244",
     "exception": false,
     "start_time": "2023-10-27T20:12:21.436773",
     "status": "completed"
    },
    "tags": []
   },
   "source": [
    "#### Comprobar el entorno y leer fichero de muestras"
   ]
  },
  {
   "cell_type": "code",
   "execution_count": 6,
   "id": "21927d58",
   "metadata": {
    "execution": {
     "iopub.execute_input": "2023-10-27T20:12:21.447920Z",
     "iopub.status.busy": "2023-10-27T20:12:21.447722Z",
     "iopub.status.idle": "2023-10-27T20:12:21.606736Z",
     "shell.execute_reply": "2023-10-27T20:12:21.606196Z"
    },
    "papermill": {
     "duration": 0.164511,
     "end_time": "2023-10-27T20:12:21.608191",
     "exception": false,
     "start_time": "2023-10-27T20:12:21.443680",
     "status": "completed"
    },
    "tags": []
   },
   "outputs": [
    {
     "name": "stdout",
     "output_type": "stream",
     "text": [
      "20231027T221221 : amilcar22 : INFO : Encontrada carpeta DATA_DIR=../tfm_git/datos\n",
      "20231027T221221 : amilcar22 : INFO : Encontrada carpeta CFDNA_DIR=../tfm_git/datos/cfDNA_5hmC\n",
      "20231027T221221 : amilcar22 : INFO : Encontrada carpeta GENCODE_DIR=../tfm_git/datos/gencode\n",
      "20231027T221221 : amilcar22 : INFO : Encontrada carpeta H5_DIR=../tfm_git/datos/h5\n",
      "20231027T221221 : amilcar22 : INFO : Encontrada carpeta LOG_DIR=../tfm_git/datos/logs\n",
      "20231027T221221 : amilcar22 : INFO : Encontrada carpeta CSV_DIR=../tfm_git/datos/csv\n",
      "20231027T221221 : amilcar22 : INFO : Encontrada carpeta MODEL_DIR=../tfm_git/ejecuciones/modelos\n",
      "20231027T221221 : amilcar22 : INFO : Encontrada carpeta EXEC_DIR=../tfm_git/ejecuciones\n",
      "20231027T221221 : amilcar22 : INFO : Encontrada carpeta MET_DIR=../tfm_git/ejecuciones/metricas\n",
      "20231027T221221 : amilcar22 : INFO : Inicio leer fichero h5 ../tfm_git/datos/h5/rows_transpose_norm_by_gene_id_with_target_num_mul_m.h5\n",
      "20231027T221221 : amilcar22 : INFO : Leyendo clave /df\n",
      "20231027T221221 : amilcar22 : INFO : Tamaño (434, 18876)\n",
      "20231027T221221 : amilcar22 : INFO : Fin leer fichero h5 ../tfm_git/datos/h5/rows_transpose_norm_by_gene_id_with_target_num_mul_m.h5\n"
     ]
    },
    {
     "data": {
      "text/plain": [
       "target\n",
       "0    62\n",
       "1    62\n",
       "2    62\n",
       "3    62\n",
       "4    62\n",
       "5    62\n",
       "6    62\n",
       "dtype: int64"
      ]
     },
     "metadata": {},
     "output_type": "display_data"
    },
    {
     "name": "stdout",
     "output_type": "stream",
     "text": [
      "Shape df: (434, 18876)\n"
     ]
    },
    {
     "name": "stdout",
     "output_type": "stream",
     "text": [
      "Shape X_train: (347, 18875)\n",
      "Shape X_test: (87, 18875)\n"
     ]
    }
   ],
   "source": [
    "start_time = datetime.datetime.now()\n",
    "\n",
    "myfunc.reset_vars()\n",
    "\n",
    "myfunc.NOTEBK_FILENAME = myfunc.get_nb_name()\n",
    "\n",
    "myfunc.check_enviroment(myfunc.DATA_DIR, myfunc.CFDNA_DIR, myfunc.GENCODE_DIR, myfunc.H5_DIR, myfunc.LOG_DIR, myfunc.CSV_DIR, myfunc.MODEL_DIR, myfunc.EXEC_DIR, myfunc.MET_DIR)\n",
    "\n",
    "# Leer fichero con las muestras\n",
    "df_t = myfunc.read_h5_to_df(DATA_FILE, myfunc.H5_DIR)\n",
    "display(df_t.groupby(\"target\").size())\n",
    "print(\"Shape df:\",df_t.shape)\n",
    "\n",
    "# Separar caracteristicas/genes de las etiquetas/tipos de cáncer\n",
    "X = df_t.iloc[:, :-1]  # Todas las columnas excepto la última\n",
    "y = df_t.iloc[:, -1]  # La última columna contiene los identificadores de los tipos de cáncer\n",
    "\n",
    "#  Crear el conjunto de datos de entrenamiento y de pruebas\n",
    "X_train, X_test, y_train, y_test = train_test_split(X, y, test_size=0.2, shuffle=True, random_state=SEMILLA)\n",
    "print(\"Shape X_train:\",X_train.shape)\n",
    "print(\"Shape X_test:\",X_test.shape)\n"
   ]
  },
  {
   "cell_type": "markdown",
   "id": "023b9521",
   "metadata": {
    "papermill": {
     "duration": 0.002916,
     "end_time": "2023-10-27T20:12:21.614505",
     "exception": false,
     "start_time": "2023-10-27T20:12:21.611589",
     "status": "completed"
    },
    "tags": []
   },
   "source": [
    "#### Selección de características y clasificación."
   ]
  },
  {
   "cell_type": "code",
   "execution_count": 7,
   "id": "4fc07e59",
   "metadata": {
    "execution": {
     "iopub.execute_input": "2023-10-27T20:12:21.621083Z",
     "iopub.status.busy": "2023-10-27T20:12:21.620881Z",
     "iopub.status.idle": "2023-10-27T20:16:30.547610Z",
     "shell.execute_reply": "2023-10-27T20:16:30.546948Z"
    },
    "papermill": {
     "duration": 248.934053,
     "end_time": "2023-10-27T20:16:30.551404",
     "exception": false,
     "start_time": "2023-10-27T20:12:21.617351",
     "status": "completed"
    },
    "tags": []
   },
   "outputs": [
    {
     "name": "stdout",
     "output_type": "stream",
     "text": [
      "20231027T221221 : amilcar22 : INFO : Iniciando entrenamiento\n",
      "num_iter: 1 , max_iter: 1\n",
      "Fitting 5 folds for each of 1 candidates, totalling 5 fits\n"
     ]
    },
    {
     "name": "stdout",
     "output_type": "stream",
     "text": [
      "Mejores Hiperparámetros: {'selector__k': 1000, 'clasifier__solver': 'lbfgs', 'clasifier__penalty': 'l2', 'clasifier__max_iter': 10000}\n",
      "Mejor Puntuación: 0.8988\n",
      "20231027T221630 : amilcar22 : INFO : Fin entrenamiento\n"
     ]
    }
   ],
   "source": [
    "myfunc.verbose(\"Iniciando entrenamiento\")\n",
    "\n",
    "kf = KFold(n_splits=5, shuffle=True, random_state=SEMILLA)\n",
    "\n",
    "# Crear el pipeline para el flujo de tareas\n",
    "tasks_pipeline = Pipeline([\n",
    "    ('selector', algor_selector),\n",
    "    ('clasifier', algor_clasifier)\n",
    "])\n",
    "\n",
    "# MAX_ITERS puede limitar el número de iteraciones si son excesivas para las combinaciones de parámetros buscando un óptimo local, \n",
    "# sino funcionaría como GridSearchCV al revisar todas las cominaciones de los parámetros\n",
    "num_iteraciones = 1\n",
    "num_iteraciones = num_iteraciones * np.prod([len(elemento1) for _, elemento1 in param_distributions.items()])\n",
    "max_iteraciones = num_iteraciones if num_iteraciones <= MAX_ITERS else MAX_ITERS\n",
    "print(\"num_iter:\",num_iteraciones,\", max_iter:\",max_iteraciones)\n",
    "\n",
    "random_search = RandomizedSearchCV(\n",
    "    tasks_pipeline, \n",
    "    param_distributions, \n",
    "    n_iter=max_iteraciones,\n",
    "    scoring=SCORING,\n",
    "    cv=kf,\n",
    "    verbose=3, \n",
    "    random_state=SEMILLA, \n",
    "    n_jobs=-1\n",
    "    )\n",
    "\n",
    "# Entrenar el modelo\n",
    "random_search.fit(X_train, y_train)\n",
    "\n",
    "# Ver los mejores hiperparámetros encontrados\n",
    "print(f'Mejores Hiperparámetros: {random_search.best_params_}')\n",
    "print(f'Mejor Puntuación: {random_search.best_score_:.4f}')\n",
    "\n",
    "# Nos quedamos con el mejor modelo para ver las métricas\n",
    "mejor_modelo = random_search.best_estimator_\n",
    "\n",
    "myfunc.verbose(\"Fin entrenamiento\")"
   ]
  },
  {
   "cell_type": "markdown",
   "id": "a53cc4ad",
   "metadata": {
    "papermill": {
     "duration": 0.003077,
     "end_time": "2023-10-27T20:16:30.557803",
     "exception": false,
     "start_time": "2023-10-27T20:16:30.554726",
     "status": "completed"
    },
    "tags": []
   },
   "source": [
    "#### Guardar modelo"
   ]
  },
  {
   "cell_type": "code",
   "execution_count": 8,
   "id": "9403d5fc",
   "metadata": {
    "execution": {
     "iopub.execute_input": "2023-10-27T20:16:30.565142Z",
     "iopub.status.busy": "2023-10-27T20:16:30.564475Z",
     "iopub.status.idle": "2023-10-27T20:16:30.574306Z",
     "shell.execute_reply": "2023-10-27T20:16:30.573787Z"
    },
    "papermill": {
     "duration": 0.014653,
     "end_time": "2023-10-27T20:16:30.575521",
     "exception": false,
     "start_time": "2023-10-27T20:16:30.560868",
     "status": "completed"
    },
    "tags": []
   },
   "outputs": [
    {
     "name": "stdout",
     "output_type": "stream",
     "text": [
      "20231027T221630 : amilcar22 : INFO : Inicio guardar fichero ../tfm_git/ejecuciones/modelos/modelo_0042_mul_m_MI_LR_L2.pkl\n",
      "20231027T221630 : amilcar22 : INFO : Fin guardar fichero ../tfm_git/ejecuciones/modelos/modelo_0042_mul_m_MI_LR_L2.pkl\n"
     ]
    }
   ],
   "source": [
    "fichero_modelo = str.replace(\"modelo_\"+str(SEMILLA).zfill(4)+\"_\"+M_TIPO+\"_\"+M_SELECT+\"_\"+M_CLASIF+\".pkl\", \" \", \"_\")\n",
    "\n",
    "myfunc.save_modelo(mejor_modelo, myfunc.MODEL_DIR, fichero_modelo)"
   ]
  },
  {
   "cell_type": "markdown",
   "id": "15e51786",
   "metadata": {
    "papermill": {
     "duration": 0.003123,
     "end_time": "2023-10-27T20:16:30.582015",
     "exception": false,
     "start_time": "2023-10-27T20:16:30.578892",
     "status": "completed"
    },
    "tags": []
   },
   "source": [
    "#### Ver resultados del las iteraciones hechas por RandomSearchCV"
   ]
  },
  {
   "cell_type": "code",
   "execution_count": 9,
   "id": "7d199da3",
   "metadata": {
    "execution": {
     "iopub.execute_input": "2023-10-27T20:16:30.588850Z",
     "iopub.status.busy": "2023-10-27T20:16:30.588664Z",
     "iopub.status.idle": "2023-10-27T20:16:30.594095Z",
     "shell.execute_reply": "2023-10-27T20:16:30.593644Z"
    },
    "papermill": {
     "duration": 0.010147,
     "end_time": "2023-10-27T20:16:30.595218",
     "exception": false,
     "start_time": "2023-10-27T20:16:30.585071",
     "status": "completed"
    },
    "tags": []
   },
   "outputs": [
    {
     "name": "stdout",
     "output_type": "stream",
     "text": [
      "20231027T221630 : amilcar22 : INFO : Inicio ver resultados\n",
      "Mejores Hiperparámetros: {'selector__k': 1000, 'clasifier__solver': 'lbfgs', 'clasifier__penalty': 'l2', 'clasifier__max_iter': 10000}\n",
      "Mejores puntuaciones: 0.8988 | Params: {'selector__k': 1000, 'clasifier__solver': 'lbfgs', 'clasifier__penalty': 'l2', 'clasifier__max_iter': 10000}\n",
      "Media de las puntuaciones: 0.8988 | Params: {'selector__k': 1000, 'clasifier__solver': 'lbfgs', 'clasifier__penalty': 'l2', 'clasifier__max_iter': 10000}\n",
      "20231027T221630 : amilcar22 : INFO : Fin resultados\n"
     ]
    }
   ],
   "source": [
    "myfunc.ver_resultados_search(random_search)"
   ]
  },
  {
   "cell_type": "markdown",
   "id": "e4815b97",
   "metadata": {
    "papermill": {
     "duration": 0.003199,
     "end_time": "2023-10-27T20:16:30.601818",
     "exception": false,
     "start_time": "2023-10-27T20:16:30.598619",
     "status": "completed"
    },
    "tags": []
   },
   "source": [
    "#### Ver métricas del mejor modelo"
   ]
  },
  {
   "cell_type": "code",
   "execution_count": 10,
   "id": "0eb473df",
   "metadata": {
    "execution": {
     "iopub.execute_input": "2023-10-27T20:16:30.609101Z",
     "iopub.status.busy": "2023-10-27T20:16:30.608521Z",
     "iopub.status.idle": "2023-10-27T20:16:31.262386Z",
     "shell.execute_reply": "2023-10-27T20:16:31.261854Z"
    },
    "papermill": {
     "duration": 0.658727,
     "end_time": "2023-10-27T20:16:31.263676",
     "exception": false,
     "start_time": "2023-10-27T20:16:30.604949",
     "status": "completed"
    },
    "tags": []
   },
   "outputs": [
    {
     "name": "stdout",
     "output_type": "stream",
     "text": [
      "20231027T221630 : amilcar22 : INFO : Inicio ver métricas multiclase\n",
      "              precision    recall  f1-score   support\n",
      "\n",
      "           0       0.73      0.69      0.71        16\n",
      "           1       0.67      0.53      0.59        15\n",
      "           2       0.40      0.36      0.38        11\n",
      "           3       0.36      0.80      0.50         5\n",
      "           4       0.67      0.62      0.64        13\n",
      "           5       0.88      0.78      0.82         9\n",
      "           6       0.68      0.72      0.70        18\n",
      "\n",
      "    accuracy                           0.63        87\n",
      "   macro avg       0.63      0.64      0.62        87\n",
      "weighted avg       0.65      0.63      0.64        87\n",
      "\n",
      "\n",
      "\n",
      "           Exactitud: 0.632184\n",
      "   Precisión (media): 0.627073\n",
      "      Recall (media): 0.642836\n",
      "    F1-score (media): 0.621351\n",
      "\n",
      "\n"
     ]
    },
    {
     "name": "stdout",
     "output_type": "stream",
     "text": [
      "AUC para el tipo de cáncer 0-Control.... 0.8856\n",
      "AUC para el tipo de cáncer 1-Bladder.... 0.8750\n",
      "AUC para el tipo de cáncer 2-Breast..... 0.8266\n",
      "AUC para el tipo de cáncer 3-Colorectal. 0.9732\n",
      "AUC para el tipo de cáncer 4-Kidney..... 0.8607\n",
      "AUC para el tipo de cáncer 5-Lung....... 0.9644\n",
      "AUC para el tipo de cáncer 6-Prostate... 0.8889\n",
      "\n",
      "Media de AUC: 0.8963\n"
     ]
    },
    {
     "data": {
      "image/png": "[encoded data removed]",
      "text/plain": [
       "<Figure size 1000x600 with 1 Axes>"
      ]
     },
     "metadata": {},
     "output_type": "display_data"
    },
    {
     "name": "stdout",
     "output_type": "stream",
     "text": [
      "\n",
      "\n"
     ]
    },
    {
     "data": {
      "image/png": "[encoded data removed]",
      "text/plain": [
       "<Figure size 800x400 with 2 Axes>"
      ]
     },
     "metadata": {},
     "output_type": "display_data"
    },
    {
     "name": "stdout",
     "output_type": "stream",
     "text": [
      "\n",
      "\n",
      "Puntuación Jaccard para el cáncer tipo 0-Control.... 0.5500\n",
      "Puntuación Jaccard para el cáncer tipo 1-Bladder.... 0.4211\n",
      "Puntuación Jaccard para el cáncer tipo 2-Breast..... 0.2353\n",
      "Puntuación Jaccard para el cáncer tipo 3-Colorectal. 0.3333\n",
      "Puntuación Jaccard para el cáncer tipo 4-Kidney..... 0.4706\n",
      "Puntuación Jaccard para el cáncer tipo 5-Lung....... 0.7000\n",
      "Puntuación Jaccard para el cáncer tipo 6-Prostate... 0.5417\n",
      "\n",
      "Media de la puntuación de Jaccard: 0.4646\n"
     ]
    }
   ],
   "source": [
    "if M_TIPO.startswith(\"bin\"):\n",
    "    myfunc.ver_metricas(mejor_modelo, X_test, y_test)\n",
    "else:\n",
    "    myfunc.ver_metricas_multi(mejor_modelo, X_test, y_test)\n"
   ]
  },
  {
   "cell_type": "markdown",
   "id": "c181e86f",
   "metadata": {
    "papermill": {
     "duration": 0.004176,
     "end_time": "2023-10-27T20:16:31.272612",
     "exception": false,
     "start_time": "2023-10-27T20:16:31.268436",
     "status": "completed"
    },
    "tags": []
   },
   "source": [
    "#### Finalización del notebook"
   ]
  },
  {
   "cell_type": "code",
   "execution_count": 11,
   "id": "eb28d6a4",
   "metadata": {
    "execution": {
     "iopub.execute_input": "2023-10-27T20:16:31.281607Z",
     "iopub.status.busy": "2023-10-27T20:16:31.281416Z",
     "iopub.status.idle": "2023-10-27T20:16:31.284808Z",
     "shell.execute_reply": "2023-10-27T20:16:31.284372Z"
    },
    "papermill": {
     "duration": 0.009323,
     "end_time": "2023-10-27T20:16:31.286041",
     "exception": false,
     "start_time": "2023-10-27T20:16:31.276718",
     "status": "completed"
    },
    "tags": []
   },
   "outputs": [
    {
     "name": "stdout",
     "output_type": "stream",
     "text": [
      "20231027T221631 : amilcar22 : INFO : Notebook ha tardado 249 seconds\n"
     ]
    }
   ],
   "source": [
    "end_time = datetime.datetime.now()\n",
    "total_time = end_time - start_time\n",
    "myfunc.verbose(f\"Notebook ha tardado {total_time.seconds} seconds\")"
   ]
  },
  {
   "cell_type": "markdown",
   "id": "b916f239",
   "metadata": {
    "papermill": {
     "duration": 0.004139,
     "end_time": "2023-10-27T20:16:31.294647",
     "exception": false,
     "start_time": "2023-10-27T20:16:31.290508",
     "status": "completed"
    },
    "tags": []
   },
   "source": [
    "#### Guardar métricas"
   ]
  },
  {
   "cell_type": "code",
   "execution_count": 12,
   "id": "eb35c3a7",
   "metadata": {
    "execution": {
     "iopub.execute_input": "2023-10-27T20:16:31.303779Z",
     "iopub.status.busy": "2023-10-27T20:16:31.303573Z",
     "iopub.status.idle": "2023-10-27T20:16:31.512993Z",
     "shell.execute_reply": "2023-10-27T20:16:31.512455Z"
    },
    "papermill": {
     "duration": 0.215362,
     "end_time": "2023-10-27T20:16:31.514213",
     "exception": false,
     "start_time": "2023-10-27T20:16:31.298851",
     "status": "completed"
    },
    "tags": []
   },
   "outputs": [
    {
     "name": "stdout",
     "output_type": "stream",
     "text": [
      "20231027T221631 : amilcar22 : INFO : Inicio guardar métricas multiclase\n",
      "20231027T221631 : amilcar22 : INFO : Inicio leer fichero ../tfm_git/ejecuciones/metricas/metricas_0042.csv\n",
      "20231027T221631 : amilcar22 : INFO : Fin leer fichero ../tfm_git/ejecuciones/metricas/metricas_0042.csv\n"
     ]
    },
    {
     "name": "stdout",
     "output_type": "stream",
     "text": [
      "20231027T221631 : amilcar22 : INFO : Inicio guardar fichero ../tfm_git/ejecuciones/metricas/metricas_0042.csv\n",
      "20231027T221631 : amilcar22 : INFO : Fichero borrado ../tfm_git/ejecuciones/metricas/metricas_0042.csv\n"
     ]
    },
    {
     "name": "stdout",
     "output_type": "stream",
     "text": [
      "20231027T221631 : amilcar22 : INFO : Fin guardar fichero ../tfm_git/ejecuciones/metricas/metricas_0042.csv\n",
      "20231027T221631 : amilcar22 : INFO : Fin guardar métricas multiclase\n",
      "20231027T221631 : amilcar22 : INFO : Inicio leer fichero ../tfm_git/ejecuciones/metricas/metricas_0042.csv\n",
      "20231027T221631 : amilcar22 : INFO : Fin leer fichero ../tfm_git/ejecuciones/metricas/metricas_0042.csv\n"
     ]
    },
    {
     "data": {
      "text/html": [
       "<div>\n",
       "<style scoped>\n",
       "    .dataframe tbody tr th:only-of-type {\n",
       "        vertical-align: middle;\n",
       "    }\n",
       "\n",
       "    .dataframe tbody tr th {\n",
       "        vertical-align: top;\n",
       "    }\n",
       "\n",
       "    .dataframe thead th {\n",
       "        text-align: right;\n",
       "    }\n",
       "</style>\n",
       "<table border=\"1\" class=\"dataframe\">\n",
       "  <thead>\n",
       "    <tr style=\"text-align: right;\">\n",
       "      <th></th>\n",
       "      <th>tipo</th>\n",
       "      <th>select</th>\n",
       "      <th>clasific</th>\n",
       "      <th>accuracy</th>\n",
       "      <th>precision</th>\n",
       "      <th>recall</th>\n",
       "      <th>f1_score</th>\n",
       "      <th>roc_auc</th>\n",
       "      <th>roc_auc_ovr</th>\n",
       "      <th>hostname</th>\n",
       "      <th>total_time_sec</th>\n",
       "      <th>datetime</th>\n",
       "      <th>fichero_modelo</th>\n",
       "      <th>params</th>\n",
       "      <th>shape</th>\n",
       "      <th>features</th>\n",
       "      <th>semilla</th>\n",
       "      <th>indices_auc</th>\n",
       "      <th>indices_jaccard</th>\n",
       "    </tr>\n",
       "  </thead>\n",
       "  <tbody>\n",
       "    <tr>\n",
       "      <th>0</th>\n",
       "      <td>mul_m</td>\n",
       "      <td>MI</td>\n",
       "      <td>LR_L2</td>\n",
       "      <td>0.632184</td>\n",
       "      <td>0.627073</td>\n",
       "      <td>0.642836</td>\n",
       "      <td>0.621351</td>\n",
       "      <td>NaN</td>\n",
       "      <td>0.896325</td>\n",
       "      <td>amilcar22</td>\n",
       "      <td>249</td>\n",
       "      <td>2023-10-27 22:16:31.466388</td>\n",
       "      <td>modelo_0042_mul_m_MI_LR_L2.pkl</td>\n",
       "      <td>{'selector__k': 1000, 'clasifier__solver': 'lb...</td>\n",
       "      <td>X_test:(87, 18875)</td>\n",
       "      <td>['ENSG00000001084.13', 'ENSG00000001460.18', '...</td>\n",
       "      <td>42.0</td>\n",
       "      <td>[0.8855633802816901, 0.875, 0.8265550239234449...</td>\n",
       "      <td>[0.55, 0.42105263157894735, 0.2352941176470588...</td>\n",
       "    </tr>\n",
       "    <tr>\n",
       "      <th>0</th>\n",
       "      <td>mul_m</td>\n",
       "      <td>MI</td>\n",
       "      <td>LR_L1</td>\n",
       "      <td>0.632184</td>\n",
       "      <td>0.635526</td>\n",
       "      <td>0.656130</td>\n",
       "      <td>0.624401</td>\n",
       "      <td>NaN</td>\n",
       "      <td>0.896305</td>\n",
       "      <td>amilcar22</td>\n",
       "      <td>2029</td>\n",
       "      <td>2023-10-27 22:12:15.322539</td>\n",
       "      <td>modelo_0042_mul_m_MI_LR_L1.pkl</td>\n",
       "      <td>{'selector__k': 1000, 'clasifier__solver': 'sa...</td>\n",
       "      <td>X_test:(87, 18875)</td>\n",
       "      <td>['ENSG00000001084.13', 'ENSG00000001460.18', '...</td>\n",
       "      <td>42.0</td>\n",
       "      <td>[0.8934859154929577, 0.8851851851851852, 0.809...</td>\n",
       "      <td>[0.5263157894736842, 0.5, 0.23529411764705882,...</td>\n",
       "    </tr>\n",
       "    <tr>\n",
       "      <th>0</th>\n",
       "      <td>mul_m</td>\n",
       "      <td>MI</td>\n",
       "      <td>LR_EN</td>\n",
       "      <td>0.632184</td>\n",
       "      <td>0.635591</td>\n",
       "      <td>0.657122</td>\n",
       "      <td>0.628271</td>\n",
       "      <td>NaN</td>\n",
       "      <td>0.899159</td>\n",
       "      <td>amilcar22</td>\n",
       "      <td>1851</td>\n",
       "      <td>2023-10-27 21:38:19.893219</td>\n",
       "      <td>modelo_0042_mul_m_MI_LR_EN.pkl</td>\n",
       "      <td>{'selector__k': 1000, 'clasifier__solver': 'sa...</td>\n",
       "      <td>X_test:(87, 18875)</td>\n",
       "      <td>['ENSG00000001084.13', 'ENSG00000001460.18', '...</td>\n",
       "      <td>42.0</td>\n",
       "      <td>[0.8873239436619718, 0.8787037037037037, 0.820...</td>\n",
       "      <td>[0.5789473684210527, 0.5, 0.2222222222222222, ...</td>\n",
       "    </tr>\n",
       "  </tbody>\n",
       "</table>\n",
       "</div>"
      ],
      "text/plain": [
       "    tipo select clasific  accuracy  precision    recall  f1_score  roc_auc  \\\n",
       "0  mul_m     MI    LR_L2  0.632184   0.627073  0.642836  0.621351      NaN   \n",
       "0  mul_m     MI    LR_L1  0.632184   0.635526  0.656130  0.624401      NaN   \n",
       "0  mul_m     MI    LR_EN  0.632184   0.635591  0.657122  0.628271      NaN   \n",
       "\n",
       "   roc_auc_ovr   hostname  total_time_sec                    datetime  \\\n",
       "0     0.896325  amilcar22             249  2023-10-27 22:16:31.466388   \n",
       "0     0.896305  amilcar22            2029  2023-10-27 22:12:15.322539   \n",
       "0     0.899159  amilcar22            1851  2023-10-27 21:38:19.893219   \n",
       "\n",
       "                   fichero_modelo  \\\n",
       "0  modelo_0042_mul_m_MI_LR_L2.pkl   \n",
       "0  modelo_0042_mul_m_MI_LR_L1.pkl   \n",
       "0  modelo_0042_mul_m_MI_LR_EN.pkl   \n",
       "\n",
       "                                              params               shape  \\\n",
       "0  {'selector__k': 1000, 'clasifier__solver': 'lb...  X_test:(87, 18875)   \n",
       "0  {'selector__k': 1000, 'clasifier__solver': 'sa...  X_test:(87, 18875)   \n",
       "0  {'selector__k': 1000, 'clasifier__solver': 'sa...  X_test:(87, 18875)   \n",
       "\n",
       "                                            features  semilla  \\\n",
       "0  ['ENSG00000001084.13', 'ENSG00000001460.18', '...     42.0   \n",
       "0  ['ENSG00000001084.13', 'ENSG00000001460.18', '...     42.0   \n",
       "0  ['ENSG00000001084.13', 'ENSG00000001460.18', '...     42.0   \n",
       "\n",
       "                                         indices_auc  \\\n",
       "0  [0.8855633802816901, 0.875, 0.8265550239234449...   \n",
       "0  [0.8934859154929577, 0.8851851851851852, 0.809...   \n",
       "0  [0.8873239436619718, 0.8787037037037037, 0.820...   \n",
       "\n",
       "                                     indices_jaccard  \n",
       "0  [0.55, 0.42105263157894735, 0.2352941176470588...  \n",
       "0  [0.5263157894736842, 0.5, 0.23529411764705882,...  \n",
       "0  [0.5789473684210527, 0.5, 0.2222222222222222, ...  "
      ]
     },
     "metadata": {},
     "output_type": "display_data"
    }
   ],
   "source": [
    "if M_TIPO.startswith(\"bin\"):\n",
    "    myfunc.save_metricas_to_csv(random_search, X_test, y_test, M_TIPO, M_SELECT, M_CLASIF, total_time, SEMILLA, myfunc.MET_DIR, M_FICHERO, fichero_modelo)\n",
    "else:\n",
    "    myfunc.save_metricas_multi_to_csv(random_search, X_test, y_test, M_TIPO, M_SELECT, M_CLASIF, total_time, SEMILLA, myfunc.MET_DIR, M_FICHERO, fichero_modelo)\n",
    "\n",
    "df1=myfunc.read_metricas_to_df(myfunc.MET_DIR,M_FICHERO)\n",
    "\n",
    "display(df1.sort_values(\"datetime\", ascending=False)[:3])\n"
   ]
  },
  {
   "cell_type": "markdown",
   "id": "b83f3ed6",
   "metadata": {
    "papermill": {
     "duration": 0.004716,
     "end_time": "2023-10-27T20:16:31.524161",
     "exception": false,
     "start_time": "2023-10-27T20:16:31.519445",
     "status": "completed"
    },
    "tags": []
   },
   "source": [
    "#### Guardar resultados"
   ]
  },
  {
   "cell_type": "code",
   "execution_count": 13,
   "id": "5d5bc33d",
   "metadata": {
    "execution": {
     "iopub.execute_input": "2023-10-27T20:16:31.533926Z",
     "iopub.status.busy": "2023-10-27T20:16:31.533696Z",
     "iopub.status.idle": "2023-10-27T20:16:31.542303Z",
     "shell.execute_reply": "2023-10-27T20:16:31.541834Z"
    },
    "papermill": {
     "duration": 0.01497,
     "end_time": "2023-10-27T20:16:31.543607",
     "exception": false,
     "start_time": "2023-10-27T20:16:31.528637",
     "status": "completed"
    },
    "tags": []
   },
   "outputs": [
    {
     "name": "stdout",
     "output_type": "stream",
     "text": [
      "20231027T221631 : amilcar22 : INFO : Inicio guardar resultados\n",
      "20231027T221631 : amilcar22 : INFO : Inicio guardar fichero ../tfm_git/ejecuciones/metricas/resultados_0042_mul_m-MI-LR_L2.csv\n",
      "20231027T221631 : amilcar22 : INFO : Fin guardar fichero ../tfm_git/ejecuciones/metricas/resultados_0042_mul_m-MI-LR_L2.csv\n",
      "20231027T221631 : amilcar22 : INFO : Fin guardar resultados\n"
     ]
    }
   ],
   "source": [
    "fichero_resultados=R_FICHERO+\"_\"+M_TIPO+\"-\"+M_SELECT+\"-\"+M_CLASIF+\".csv\"\n",
    "myfunc.save_resultados_to_csv(M_TIPO, M_SELECT, M_CLASIF,  random_search, myfunc.MET_DIR, fichero_resultados)\n"
   ]
  }
 ],
 "metadata": {
  "kernelspec": {
   "display_name": "Python 3 (ipykernel)",
   "language": "python",
   "name": "python3"
  },
  "language_info": {
   "codemirror_mode": {
    "name": "ipython",
    "version": 3
   },
   "file_extension": ".py",
   "mimetype": "text/x-python",
   "name": "python",
   "nbconvert_exporter": "python",
   "pygments_lexer": "ipython3",
   "version": "3.10.12"
  },
  "papermill": {
   "default_parameters": {},
   "duration": 254.606233,
   "end_time": "2023-10-27T20:16:34.167681",
   "environment_variables": {},
   "exception": null,
   "input_path": "03_entrenamiento.ipynb",
   "output_path": "ejecuciones/training/03_entrenamiento.20231027T221219.param_0000_0042_mul_m_MI_LR_L2.output.ipynb",
   "parameters": {
    "MAX_ITERS": 500,
    "M_CLASIF": "LR_L2",
    "M_FICHERO": "metricas_0042",
    "M_SELECT": "MI",
    "M_TIPO": "mul_m",
    "PRE_DATA_FILE": "rows_transpose_norm_by_gene_id_with_target_num_",
    "P_FICHERO": "param_0000_0042_mul_m_MI_LR_L2.yaml",
    "R_FICHERO": "resultados_0042",
    "SCORING": "roc_auc_ovr",
    "SEMILLA": 42,
    "eval_clasifier": "LogisticRegressionCV(random_state=SEMILLA)",
    "eval_selector": "SelectKBest(score_func=mutual_info_classif_state)",
    "param_distributions": {
     "clasifier__max_iter": [
      10000
     ],
     "clasifier__penalty": [
      "l2"
     ],
     "clasifier__solver": [
      "lbfgs"
     ],
     "selector__k": [
      1000
     ]
    }
   },
   "start_time": "2023-10-27T20:12:19.561448",
   "version": "2.4.0"
  }
 },
 "nbformat": 4,
 "nbformat_minor": 5
}