{
 "cells": [
  {
   "cell_type": "markdown",
   "id": "76dc8ddf",
   "metadata": {
    "papermill": {
     "duration": 0.0,
     "end_time": "2023-10-30T10:12:57.892202",
     "exception": false,
     "start_time": "2023-10-30T10:12:57.892202",
     "status": "completed"
    },
    "tags": []
   },
   "source": [
    "##### Inicio"
   ]
  },
  {
   "cell_type": "markdown",
   "id": "902313ff",
   "metadata": {
    "papermill": {
     "duration": 0.0,
     "end_time": "2023-10-30T10:12:57.892202",
     "exception": false,
     "start_time": "2023-10-30T10:12:57.892202",
     "status": "completed"
    },
    "tags": []
   },
   "source": [
    "#### Carga de datos"
   ]
  },
  {
   "cell_type": "code",
   "execution_count": 1,
   "id": "374e9990",
   "metadata": {
    "execution": {
     "iopub.execute_input": "2023-10-30T10:12:57.907915Z",
     "iopub.status.busy": "2023-10-30T10:12:57.907915Z",
     "iopub.status.idle": "2023-10-30T10:12:59.056311Z",
     "shell.execute_reply": "2023-10-30T10:12:59.056311Z"
    },
    "papermill": {
     "duration": 1.164109,
     "end_time": "2023-10-30T10:12:59.056311",
     "exception": false,
     "start_time": "2023-10-30T10:12:57.892202",
     "status": "completed"
    },
    "tags": []
   },
   "outputs": [
    {
     "name": "stdout",
     "output_type": "stream",
     "text": [
      "CPU_COUNT: 24; NODE: amilcar32; sys.version: 3.10.12 | packaged by Anaconda, Inc. | (main, Jul  5 2023, 19:09:20) [MSC v.1916 64 bit (AMD64)]\n",
      "LOKY_MAX_CPU_COUNT is not set.\n",
      "OMP_NUM_THREADS is not set.\n"
     ]
    }
   ],
   "source": [
    "import os\n",
    "import numpy as np\n",
    "import pandas as pd\n",
    "import datetime\n",
    "import sklearn\n",
    "import logging\n",
    "import warnings\n",
    "\n",
    "from sklearn.pipeline import Pipeline\n",
    "from sklearn.model_selection import RandomizedSearchCV, KFold, cross_val_score, train_test_split\n",
    "from sklearn.metrics import accuracy_score, confusion_matrix, classification_report, roc_auc_score\n",
    "\n",
    "#  cargar algoritmos para aprendizaje supervisado\n",
    "from sklearn.feature_selection import SelectKBest, f_classif, SelectFromModel, mutual_info_classif\n",
    "from sklearn.svm import SVC\n",
    "from sklearn.ensemble import RandomForestClassifier\n",
    "from sklearn.linear_model import LogisticRegression,LogisticRegressionCV\n",
    "\n",
    "# importar fichero con utilidades propias\n",
    "from commons import myfunctions as myfunc\n"
   ]
  },
  {
   "cell_type": "markdown",
   "id": "7ffd9718",
   "metadata": {
    "papermill": {
     "duration": 0.0,
     "end_time": "2023-10-30T10:12:59.056311",
     "exception": false,
     "start_time": "2023-10-30T10:12:59.056311",
     "status": "completed"
    },
    "tags": []
   },
   "source": [
    "#### Parámetros a utilizar en el entrenamiento.\n",
    "\n",
    "Se indican los 3 algoritmos de *selección de características* (eval_selector_xxx) y los 3 algoritmos para la _clasificación_ (eval_clasifier_xxx)\n",
    "\n",
    "En *param_distributions* se indicar los parámetros que utilizan los algoritmos en la función RandomSearchCV.\n",
    "\n",
    "Esta celda tiene la etiqueta **parameters** que servirá para poder lanzar los entrenamientos con la utilidad **papermill** pasándole un fichero con los parámetros. Los nuevos parámetros se situarán tras esta celda para tener prevalencia."
   ]
  },
  {
   "cell_type": "code",
   "execution_count": 2,
   "id": "746d7693",
   "metadata": {
    "execution": {
     "iopub.execute_input": "2023-10-30T10:12:59.056311Z",
     "iopub.status.busy": "2023-10-30T10:12:59.056311Z",
     "iopub.status.idle": "2023-10-30T10:12:59.087658Z",
     "shell.execute_reply": "2023-10-30T10:12:59.087658Z"
    },
    "papermill": {
     "duration": 0.031347,
     "end_time": "2023-10-30T10:12:59.087658",
     "exception": false,
     "start_time": "2023-10-30T10:12:59.056311",
     "status": "completed"
    },
    "tags": [
     "parameters"
    ]
   },
   "outputs": [
    {
     "name": "stdout",
     "output_type": "stream",
     "text": [
      "20231030T111259 : amilcar32 : INFO : Utilizando parámetros de mul_m\n"
     ]
    }
   ],
   "source": [
    "#  Parametros para el entrenamiento\n",
    "\n",
    "SEMILLA=        42\n",
    "M_TIPO=         \"mul_m\"\n",
    "M_SELECT=       \"MI\"\n",
    "M_CLASIF=       \"SVM\"\n",
    "R_FICHERO=      \"resultados\"\n",
    "M_FICHERO=      \"metricas\"\n",
    "PRE_DATA_FILE=  \"rows_transpose_norm_by_gene_id_with_target_num_\"\n",
    "SCORING=        \"roc_auc_ovr\" \n",
    "MAX_ITERS=      100\n",
    "\n",
    "def mutual_info_classif_state(X, y):\n",
    "    return mutual_info_classif(X, y, random_state=SEMILLA)\n",
    "\n",
    "eval_selector_mi = \"SelectKBest(score_func=mutual_info_classif_state)\"\n",
    "eval_selector_rf=  \"SelectFromModel(estimator=RandomForestClassifier(random_state=SEMILLA), threshold=-np.inf)\"\n",
    "eval_selector_anova=  \"SelectKBest(score_func=f_classif)\"\n",
    "\n",
    "eval_clasifier_svm= \"SVC(probability=True, random_state=SEMILLA)\"\n",
    "eval_clasifier_rf= \"RandomForestClassifier(random_state=SEMILLA)\"\n",
    "eval_clasifier_lr= \"LogisticRegressionCV(random_state=SEMILLA)\"\n",
    "\n",
    "if M_TIPO.startswith(\"bin_m\"):\n",
    "    myfunc.verbose(f\"Utilizando parámetros de {M_TIPO}\")\n",
    "    eval_selector = eval_selector_mi\n",
    "    eval_clasifier = eval_clasifier_svm\n",
    "\n",
    "    SEMILLA = 6578\n",
    "    M_SELECT = \"MI\"\n",
    "    M_CLASIF = \"SVM\"\n",
    "    param_distributions = {'selector__k': [1000], \n",
    "         'clasifier__kernel': ['rbf'], 'clasifier__gamma': [0.01], 'clasifier__C': [100]}\n",
    "elif M_TIPO.startswith(\"bin_s\"):\n",
    "    myfunc.verbose(f\"Utilizando parámetros de {M_TIPO}\")\n",
    "    eval_selector = eval_selector_rf\n",
    "    eval_clasifier = eval_clasifier_lr\n",
    "\n",
    "    SEMILLA = 6191\n",
    "    M_SELECT = \"RF\"\n",
    "    M_CLASIF = \"LR_L2\"\n",
    "    param_distributions = {'selector__max_features': [1000], 'selector__estimator__n_estimators': [200], \n",
    "        'clasifier__solver': ['lbfgs'], 'clasifier__penalty': ['l2'], 'clasifier__max_iter': [10000]}\n",
    "\n",
    "elif M_TIPO.startswith(\"mul_m\"):\n",
    "    myfunc.verbose(f\"Utilizando parámetros de {M_TIPO}\")\n",
    " \n",
    "    eval_selector = eval_selector_rf\n",
    "    eval_clasifier = eval_clasifier_lr\n",
    "\n",
    "    SEMILLA = 6191\n",
    "    M_SELECT = \"RF\"\n",
    "    M_CLASIF = \"LR_L2\"\n",
    "    param_distributions = {'selector__max_features': [1000], 'selector__estimator__n_estimators': [400], \n",
    "        'clasifier__solver': ['lbfgs'], 'clasifier__penalty': ['l2'], 'clasifier__max_iter': [10000]}\n",
    "\n",
    "else:\n",
    "    # M_TIPO.startswith(\"mul_s\"):\n",
    "    myfunc.verbose(f\"Utilizando parámetros de {M_TIPO}\")\n",
    "    eval_selector = eval_selector_anova\n",
    "    eval_clasifier = eval_clasifier_lr\n",
    "\n",
    "    SEMILLA = 1860\n",
    "    M_SELECT = \"ANOVA\"\n",
    "    M_CLASIF = \"LR_L2\"\n",
    "    param_distributions = {'selector__k': [1000], \n",
    "        'clasifier__solver': ['saga'], 'clasifier__penalty': ['l2'], 'clasifier__max_iter': [10000]}\n",
    "\n"
   ]
  },
  {
   "cell_type": "code",
   "execution_count": 3,
   "id": "f08edbd2",
   "metadata": {
    "execution": {
     "iopub.execute_input": "2023-10-30T10:12:59.087658Z",
     "iopub.status.busy": "2023-10-30T10:12:59.087658Z",
     "iopub.status.idle": "2023-10-30T10:12:59.103284Z",
     "shell.execute_reply": "2023-10-30T10:12:59.103284Z"
    },
    "papermill": {
     "duration": 0.015626,
     "end_time": "2023-10-30T10:12:59.103284",
     "exception": false,
     "start_time": "2023-10-30T10:12:59.087658",
     "status": "completed"
    },
    "tags": [
     "injected-parameters"
    ]
   },
   "outputs": [],
   "source": [
    "# Parameters\n",
    "M_TIPO = \"mul_m\"\n",
    "M_SELECT = \"RF\"\n",
    "M_CLASIF = \"SVM\"\n",
    "P_FICHERO = \"param_0000_5426_mul_m_RF_SVM.yaml\"\n",
    "R_FICHERO = \"resultados_5426\"\n",
    "M_FICHERO = \"metricas_5426\"\n",
    "PRE_DATA_FILE = \"rows_transpose_norm_by_gene_id_with_target_num_\"\n",
    "SCORING = \"roc_auc_ovr\"\n",
    "SEMILLA = 5426\n",
    "MAX_ITERS = 500\n",
    "eval_selector = \"SelectFromModel(estimator=RandomForestClassifier(random_state=SEMILLA), threshold=-np.inf)\"\n",
    "eval_clasifier = \"SVC(probability=True, random_state=SEMILLA)\"\n",
    "param_distributions = {\n",
    "    \"selector__max_features\": [200],\n",
    "    \"selector__estimator__n_estimators\": [400],\n",
    "    \"clasifier__kernel\": [\"rbf\"],\n",
    "    \"clasifier__gamma\": [0.01],\n",
    "    \"clasifier__C\": [10],\n",
    "}\n"
   ]
  },
  {
   "cell_type": "code",
   "execution_count": 4,
   "id": "1e160fe4",
   "metadata": {
    "execution": {
     "iopub.execute_input": "2023-10-30T10:12:59.103284Z",
     "iopub.status.busy": "2023-10-30T10:12:59.103284Z",
     "iopub.status.idle": "2023-10-30T10:12:59.118910Z",
     "shell.execute_reply": "2023-10-30T10:12:59.118910Z"
    },
    "papermill": {
     "duration": 0.018716,
     "end_time": "2023-10-30T10:12:59.122000",
     "exception": false,
     "start_time": "2023-10-30T10:12:59.103284",
     "status": "completed"
    },
    "tags": []
   },
   "outputs": [],
   "source": [
    "DATA_FILE = PRE_DATA_FILE + M_TIPO\n",
    "\n",
    "# si viene \"None\" en el parámetro max_depth, se le quitan las comillas para que no sea entendido por el algoritmo como un texto\n",
    "if \"clasifier__max_depth\" in param_distributions:\n",
    "    param_distributions['clasifier__max_depth'] = [None if x == 'None' else x for x in param_distributions['clasifier__max_depth']]"
   ]
  },
  {
   "cell_type": "markdown",
   "id": "3ff16e06",
   "metadata": {
    "papermill": {
     "duration": 0.0,
     "end_time": "2023-10-30T10:12:59.122000",
     "exception": false,
     "start_time": "2023-10-30T10:12:59.122000",
     "status": "completed"
    },
    "tags": []
   },
   "source": [
    "Asignar los algoritmos que se utilizarán en la función RandomSearchCV"
   ]
  },
  {
   "cell_type": "code",
   "execution_count": 5,
   "id": "c56b0d8d",
   "metadata": {
    "execution": {
     "iopub.execute_input": "2023-10-30T10:12:59.135085Z",
     "iopub.status.busy": "2023-10-30T10:12:59.135085Z",
     "iopub.status.idle": "2023-10-30T10:12:59.150810Z",
     "shell.execute_reply": "2023-10-30T10:12:59.150810Z"
    },
    "papermill": {
     "duration": 0.015725,
     "end_time": "2023-10-30T10:12:59.150810",
     "exception": false,
     "start_time": "2023-10-30T10:12:59.135085",
     "status": "completed"
    },
    "tags": []
   },
   "outputs": [],
   "source": [
    "algor_selector=eval(eval_selector)\n",
    "algor_clasifier=eval(eval_clasifier)"
   ]
  },
  {
   "cell_type": "markdown",
   "id": "4f25adad",
   "metadata": {
    "papermill": {
     "duration": 0.0,
     "end_time": "2023-10-30T10:12:59.150810",
     "exception": false,
     "start_time": "2023-10-30T10:12:59.150810",
     "status": "completed"
    },
    "tags": []
   },
   "source": [
    "#### Comprobar el entorno y leer fichero de muestras"
   ]
  },
  {
   "cell_type": "code",
   "execution_count": 6,
   "id": "17a814f8",
   "metadata": {
    "execution": {
     "iopub.execute_input": "2023-10-30T10:12:59.170102Z",
     "iopub.status.busy": "2023-10-30T10:12:59.170102Z",
     "iopub.status.idle": "2023-10-30T10:12:59.355816Z",
     "shell.execute_reply": "2023-10-30T10:12:59.355816Z"
    },
    "papermill": {
     "duration": 0.185714,
     "end_time": "2023-10-30T10:12:59.355816",
     "exception": false,
     "start_time": "2023-10-30T10:12:59.170102",
     "status": "completed"
    },
    "tags": []
   },
   "outputs": [
    {
     "name": "stdout",
     "output_type": "stream",
     "text": [
      "20231030T111259 : amilcar32 : INFO : Encontrada carpeta DATA_DIR=..\\tfm_viu\\datos\n",
      "20231030T111259 : amilcar32 : INFO : Encontrada carpeta CFDNA_DIR=..\\tfm_viu\\datos\\cfDNA_5hmC\n",
      "20231030T111259 : amilcar32 : INFO : Encontrada carpeta GENCODE_DIR=..\\tfm_viu\\datos\\gencode\n",
      "20231030T111259 : amilcar32 : INFO : Encontrada carpeta H5_DIR=..\\tfm_viu\\datos\\h5\n",
      "20231030T111259 : amilcar32 : INFO : Encontrada carpeta LOG_DIR=..\\tfm_viu\\datos\\logs\n",
      "20231030T111259 : amilcar32 : INFO : Encontrada carpeta CSV_DIR=..\\tfm_viu\\datos\\csv\n",
      "20231030T111259 : amilcar32 : INFO : Encontrada carpeta MODEL_DIR=..\\tfm_viu\\ejecuciones\\modelos\n",
      "20231030T111259 : amilcar32 : INFO : Encontrada carpeta EXEC_DIR=..\\tfm_viu\\ejecuciones\n",
      "20231030T111259 : amilcar32 : INFO : Encontrada carpeta MET_DIR=..\\tfm_viu\\ejecuciones\\metricas\n",
      "20231030T111259 : amilcar32 : INFO : Inicio leer fichero h5 ..\\tfm_viu\\datos\\h5\\rows_transpose_norm_by_gene_id_with_target_num_mul_m.h5\n",
      "20231030T111259 : amilcar32 : INFO : Leyendo clave /df\n"
     ]
    },
    {
     "name": "stdout",
     "output_type": "stream",
     "text": [
      "20231030T111259 : amilcar32 : INFO : Tamaño (434, 18876)\n",
      "20231030T111259 : amilcar32 : INFO : Fin leer fichero h5 ..\\tfm_viu\\datos\\h5\\rows_transpose_norm_by_gene_id_with_target_num_mul_m.h5\n"
     ]
    },
    {
     "data": {
      "text/plain": [
       "target\n",
       "0    62\n",
       "1    62\n",
       "2    62\n",
       "3    62\n",
       "4    62\n",
       "5    62\n",
       "6    62\n",
       "dtype: int64"
      ]
     },
     "metadata": {},
     "output_type": "display_data"
    },
    {
     "name": "stdout",
     "output_type": "stream",
     "text": [
      "Shape df: (434, 18876)\n",
      "Shape X_train: (347, 18875)\n",
      "Shape X_test: (87, 18875)\n"
     ]
    }
   ],
   "source": [
    "start_time = datetime.datetime.now()\n",
    "\n",
    "myfunc.reset_vars()\n",
    "\n",
    "myfunc.NOTEBK_FILENAME = myfunc.get_nb_name()\n",
    "\n",
    "myfunc.check_enviroment(myfunc.DATA_DIR, myfunc.CFDNA_DIR, myfunc.GENCODE_DIR, myfunc.H5_DIR, myfunc.LOG_DIR, myfunc.CSV_DIR, myfunc.MODEL_DIR, myfunc.EXEC_DIR, myfunc.MET_DIR)\n",
    "\n",
    "# Leer fichero con las muestras\n",
    "df_t = myfunc.read_h5_to_df(DATA_FILE, myfunc.H5_DIR)\n",
    "display(df_t.groupby(\"target\").size())\n",
    "print(\"Shape df:\",df_t.shape)\n",
    "\n",
    "# Separar caracteristicas/genes de las etiquetas/tipos de cáncer\n",
    "X = df_t.iloc[:, :-1]  # Todas las columnas excepto la última\n",
    "y = df_t.iloc[:, -1]  # La última columna contiene los identificadores de los tipos de cáncer\n",
    "\n",
    "#  Crear el conjunto de datos de entrenamiento y de pruebas, y se fija la semilla para siempre coger el mismo juego de muestras\n",
    "X_train, X_test, y_train, y_test = train_test_split(X, y, test_size=0.2, shuffle=True, random_state=42)\n",
    "print(\"Shape X_train:\",X_train.shape)\n",
    "print(\"Shape X_test:\",X_test.shape)\n"
   ]
  },
  {
   "cell_type": "markdown",
   "id": "06f0de93",
   "metadata": {
    "papermill": {
     "duration": 0.0,
     "end_time": "2023-10-30T10:12:59.355816",
     "exception": false,
     "start_time": "2023-10-30T10:12:59.355816",
     "status": "completed"
    },
    "tags": []
   },
   "source": [
    "#### Selección de características y clasificación."
   ]
  },
  {
   "cell_type": "code",
   "execution_count": 7,
   "id": "4c608aa2",
   "metadata": {
    "execution": {
     "iopub.execute_input": "2023-10-30T10:12:59.371436Z",
     "iopub.status.busy": "2023-10-30T10:12:59.371436Z",
     "iopub.status.idle": "2023-10-30T10:14:01.830292Z",
     "shell.execute_reply": "2023-10-30T10:14:01.830292Z"
    },
    "papermill": {
     "duration": 62.474476,
     "end_time": "2023-10-30T10:14:01.830292",
     "exception": false,
     "start_time": "2023-10-30T10:12:59.355816",
     "status": "completed"
    },
    "tags": []
   },
   "outputs": [
    {
     "name": "stdout",
     "output_type": "stream",
     "text": [
      "20231030T111259 : amilcar32 : INFO : Iniciando entrenamiento\n",
      "num_iter: 1 , max_iter: 1\n"
     ]
    },
    {
     "name": "stdout",
     "output_type": "stream",
     "text": [
      "Fitting 5 folds for each of 1 candidates, totalling 5 fits\n"
     ]
    },
    {
     "name": "stdout",
     "output_type": "stream",
     "text": [
      "Mejores Hiperparámetros: {'selector__max_features': 200, 'selector__estimator__n_estimators': 400, 'clasifier__kernel': 'rbf', 'clasifier__gamma': 0.01, 'clasifier__C': 10}\n",
      "Mejor Puntuación: 0.8347\n",
      "20231030T111401 : amilcar32 : INFO : Fin entrenamiento\n"
     ]
    }
   ],
   "source": [
    "myfunc.verbose(\"Iniciando entrenamiento\")\n",
    "\n",
    "kf = KFold(n_splits=5, shuffle=True, random_state=SEMILLA)\n",
    "\n",
    "# Crear el pipeline para el flujo de tareas\n",
    "tasks_pipeline = Pipeline([\n",
    "    ('selector', algor_selector),\n",
    "    ('clasifier', algor_clasifier)\n",
    "])\n",
    "\n",
    "# MAX_ITERS puede limitar el número de iteraciones si son excesivas para las combinaciones de parámetros buscando un óptimo local, \n",
    "# sino funcionaría como GridSearchCV al revisar todas las cominaciones de los parámetros\n",
    "num_iteraciones = 1\n",
    "num_iteraciones = num_iteraciones * np.prod([len(elemento1) for _, elemento1 in param_distributions.items()])\n",
    "max_iteraciones = num_iteraciones if num_iteraciones <= MAX_ITERS else MAX_ITERS\n",
    "print(\"num_iter:\",num_iteraciones,\", max_iter:\",max_iteraciones)\n",
    "\n",
    "random_search = RandomizedSearchCV(\n",
    "    tasks_pipeline, \n",
    "    param_distributions, \n",
    "    n_iter=max_iteraciones,\n",
    "    scoring=SCORING,\n",
    "    cv=kf,\n",
    "    verbose=3, \n",
    "    random_state=SEMILLA, \n",
    "    n_jobs=-1\n",
    "    )\n",
    "\n",
    "# Entrenar el modelo\n",
    "random_search.fit(X_train, y_train)\n",
    "\n",
    "# Ver los mejores hiperparámetros encontrados\n",
    "print(f'Mejores Hiperparámetros: {random_search.best_params_}')\n",
    "print(f'Mejor Puntuación: {random_search.best_score_:.4f}')\n",
    "\n",
    "# Nos quedamos con el mejor modelo para ver las métricas\n",
    "mejor_modelo = random_search.best_estimator_\n",
    "\n",
    "myfunc.verbose(\"Fin entrenamiento\")"
   ]
  },
  {
   "cell_type": "markdown",
   "id": "e19c4d6d",
   "metadata": {
    "papermill": {
     "duration": 0.0,
     "end_time": "2023-10-30T10:14:01.845816",
     "exception": false,
     "start_time": "2023-10-30T10:14:01.845816",
     "status": "completed"
    },
    "tags": []
   },
   "source": [
    "#### Guardar modelo"
   ]
  },
  {
   "cell_type": "code",
   "execution_count": 8,
   "id": "af157e15",
   "metadata": {
    "execution": {
     "iopub.execute_input": "2023-10-30T10:14:01.863530Z",
     "iopub.status.busy": "2023-10-30T10:14:01.863530Z",
     "iopub.status.idle": "2023-10-30T10:14:02.177245Z",
     "shell.execute_reply": "2023-10-30T10:14:02.177245Z"
    },
    "papermill": {
     "duration": 0.331429,
     "end_time": "2023-10-30T10:14:02.177245",
     "exception": false,
     "start_time": "2023-10-30T10:14:01.845816",
     "status": "completed"
    },
    "tags": []
   },
   "outputs": [
    {
     "name": "stdout",
     "output_type": "stream",
     "text": [
      "20231030T111401 : amilcar32 : INFO : Inicio guardar fichero ..\\tfm_viu\\ejecuciones\\modelos\\modelo_5426_mul_m_RF_SVM.pkl\n"
     ]
    },
    {
     "name": "stdout",
     "output_type": "stream",
     "text": [
      "20231030T111402 : amilcar32 : INFO : Fin guardar fichero ..\\tfm_viu\\ejecuciones\\modelos\\modelo_5426_mul_m_RF_SVM.pkl\n"
     ]
    }
   ],
   "source": [
    "fichero_modelo = str.replace(\"modelo_\"+str(SEMILLA).zfill(4)+\"_\"+M_TIPO+\"_\"+M_SELECT+\"_\"+M_CLASIF+\".pkl\", \" \", \"_\")\n",
    "\n",
    "myfunc.save_modelo(mejor_modelo, myfunc.MODEL_DIR, fichero_modelo)"
   ]
  },
  {
   "cell_type": "markdown",
   "id": "18d90305",
   "metadata": {
    "papermill": {
     "duration": 0.01568,
     "end_time": "2023-10-30T10:14:02.192925",
     "exception": false,
     "start_time": "2023-10-30T10:14:02.177245",
     "status": "completed"
    },
    "tags": []
   },
   "source": [
    "#### Ver resultados del las iteraciones hechas por RandomSearchCV"
   ]
  },
  {
   "cell_type": "code",
   "execution_count": 9,
   "id": "1e433f6c",
   "metadata": {
    "execution": {
     "iopub.execute_input": "2023-10-30T10:14:02.208579Z",
     "iopub.status.busy": "2023-10-30T10:14:02.208579Z",
     "iopub.status.idle": "2023-10-30T10:14:02.240005Z",
     "shell.execute_reply": "2023-10-30T10:14:02.240005Z"
    },
    "papermill": {
     "duration": 0.04708,
     "end_time": "2023-10-30T10:14:02.240005",
     "exception": false,
     "start_time": "2023-10-30T10:14:02.192925",
     "status": "completed"
    },
    "tags": []
   },
   "outputs": [
    {
     "name": "stdout",
     "output_type": "stream",
     "text": [
      "20231030T111402 : amilcar32 : INFO : Inicio ver resultados\n",
      "Mejores Hiperparámetros: {'selector__max_features': 200, 'selector__estimator__n_estimators': 400, 'clasifier__kernel': 'rbf', 'clasifier__gamma': 0.01, 'clasifier__C': 10}\n",
      "Mejores puntuaciones: 0.8347 | Params: {'selector__max_features': 200, 'selector__estimator__n_estimators': 400, 'clasifier__kernel': 'rbf', 'clasifier__gamma': 0.01, 'clasifier__C': 10}\n",
      "Media de las puntuaciones: 0.8347 | Params: {'selector__max_features': 200, 'selector__estimator__n_estimators': 400, 'clasifier__kernel': 'rbf', 'clasifier__gamma': 0.01, 'clasifier__C': 10}\n",
      "20231030T111402 : amilcar32 : INFO : Fin resultados\n"
     ]
    }
   ],
   "source": [
    "myfunc.ver_resultados_search(random_search)"
   ]
  },
  {
   "cell_type": "markdown",
   "id": "be610af5",
   "metadata": {
    "papermill": {
     "duration": 0.01618,
     "end_time": "2023-10-30T10:14:02.271640",
     "exception": false,
     "start_time": "2023-10-30T10:14:02.255460",
     "status": "completed"
    },
    "tags": []
   },
   "source": [
    "#### Ver métricas del mejor modelo"
   ]
  },
  {
   "cell_type": "code",
   "execution_count": 10,
   "id": "eb1f7f82",
   "metadata": {
    "execution": {
     "iopub.execute_input": "2023-10-30T10:14:02.287356Z",
     "iopub.status.busy": "2023-10-30T10:14:02.287356Z",
     "iopub.status.idle": "2023-10-30T10:14:04.635177Z",
     "shell.execute_reply": "2023-10-30T10:14:04.634598Z"
    },
    "papermill": {
     "duration": 2.363537,
     "end_time": "2023-10-30T10:14:04.635177",
     "exception": false,
     "start_time": "2023-10-30T10:14:02.271640",
     "status": "completed"
    },
    "tags": []
   },
   "outputs": [
    {
     "name": "stdout",
     "output_type": "stream",
     "text": [
      "20231030T111402 : amilcar32 : INFO : Inicio ver métricas multiclase\n"
     ]
    },
    {
     "name": "stdout",
     "output_type": "stream",
     "text": [
      "              precision    recall  f1-score   support\n",
      "\n",
      "           0       0.38      0.19      0.25        16\n",
      "           1       0.75      0.60      0.67        15\n",
      "           2       0.25      0.27      0.26        11\n",
      "           3       0.44      0.80      0.57         5\n",
      "           4       0.53      0.62      0.57        13\n",
      "           5       0.58      0.78      0.67         9\n",
      "           6       0.53      0.56      0.54        18\n",
      "\n",
      "    accuracy                           0.51        87\n",
      "   macro avg       0.49      0.54      0.50        87\n",
      "weighted avg       0.50      0.51      0.49        87\n",
      "\n",
      "\n",
      "\n",
      "           Exactitud: 0.505747\n",
      "   Precisión (media): 0.494632\n",
      "      Recall (media): 0.544135\n",
      "    F1-score (media): 0.503943\n",
      "\n",
      "\n",
      "AUC para el tipo de cáncer 0-Control.... 0.6708\n",
      "AUC para el tipo de cáncer 1-Bladder.... 0.8963\n",
      "AUC para el tipo de cáncer 2-Breast..... 0.6447\n",
      "AUC para el tipo de cáncer 3-Colorectal. 0.9488\n",
      "AUC para el tipo de cáncer 4-Kidney..... 0.8285\n",
      "AUC para el tipo de cáncer 5-Lung....... 0.9330\n",
      "AUC para el tipo de cáncer 6-Prostate... 0.8567\n",
      "\n",
      "Media de AUC: 0.8255\n"
     ]
    },
    {
     "data": {
      "image/png": "[encoded data removed]",
      "text/plain": [
       "<Figure size 1000x600 with 1 Axes>"
      ]
     },
     "metadata": {},
     "output_type": "display_data"
    },
    {
     "name": "stdout",
     "output_type": "stream",
     "text": [
      "\n",
      "\n"
     ]
    },
    {
     "data": {
      "image/png": "[encoded data removed]",
      "text/plain": [
       "<Figure size 800x400 with 2 Axes>"
      ]
     },
     "metadata": {},
     "output_type": "display_data"
    },
    {
     "name": "stdout",
     "output_type": "stream",
     "text": [
      "\n",
      "\n",
      "Puntuación Jaccard para el cáncer tipo 0-Control.... 0.1429\n",
      "Puntuación Jaccard para el cáncer tipo 1-Bladder.... 0.5000\n",
      "Puntuación Jaccard para el cáncer tipo 2-Breast..... 0.1500\n",
      "Puntuación Jaccard para el cáncer tipo 3-Colorectal. 0.4000\n",
      "Puntuación Jaccard para el cáncer tipo 4-Kidney..... 0.4000\n",
      "Puntuación Jaccard para el cáncer tipo 5-Lung....... 0.5000\n",
      "Puntuación Jaccard para el cáncer tipo 6-Prostate... 0.3704\n",
      "\n",
      "Media de la puntuación de Jaccard: 0.3519\n"
     ]
    }
   ],
   "source": [
    "if M_TIPO.startswith(\"bin\"):\n",
    "    myfunc.ver_metricas(mejor_modelo, X_test, y_test)\n",
    "else:\n",
    "    myfunc.ver_metricas_multi(mejor_modelo, X_test, y_test)\n"
   ]
  },
  {
   "cell_type": "markdown",
   "id": "5137563e",
   "metadata": {
    "papermill": {
     "duration": 0.020328,
     "end_time": "2023-10-30T10:14:04.671088",
     "exception": false,
     "start_time": "2023-10-30T10:14:04.650760",
     "status": "completed"
    },
    "tags": []
   },
   "source": [
    "#### Finalización del notebook"
   ]
  },
  {
   "cell_type": "code",
   "execution_count": 11,
   "id": "ed9d764b",
   "metadata": {
    "execution": {
     "iopub.execute_input": "2023-10-30T10:14:04.698398Z",
     "iopub.status.busy": "2023-10-30T10:14:04.698398Z",
     "iopub.status.idle": "2023-10-30T10:14:04.714182Z",
     "shell.execute_reply": "2023-10-30T10:14:04.714182Z"
    },
    "papermill": {
     "duration": 0.031499,
     "end_time": "2023-10-30T10:14:04.714182",
     "exception": false,
     "start_time": "2023-10-30T10:14:04.682683",
     "status": "completed"
    },
    "tags": []
   },
   "outputs": [
    {
     "name": "stdout",
     "output_type": "stream",
     "text": [
      "20231030T111404 : amilcar32 : INFO : Notebook ha tardado 65 seconds\n"
     ]
    }
   ],
   "source": [
    "end_time = datetime.datetime.now()\n",
    "total_time = end_time - start_time\n",
    "myfunc.verbose(f\"Notebook ha tardado {total_time.seconds} seconds\")"
   ]
  },
  {
   "cell_type": "markdown",
   "id": "abe1f31a",
   "metadata": {
    "papermill": {
     "duration": 0.015619,
     "end_time": "2023-10-30T10:14:04.745281",
     "exception": false,
     "start_time": "2023-10-30T10:14:04.729662",
     "status": "completed"
    },
    "tags": []
   },
   "source": [
    "#### Guardar métricas"
   ]
  },
  {
   "cell_type": "code",
   "execution_count": 12,
   "id": "b7c80377",
   "metadata": {
    "execution": {
     "iopub.execute_input": "2023-10-30T10:14:04.777684Z",
     "iopub.status.busy": "2023-10-30T10:14:04.777684Z",
     "iopub.status.idle": "2023-10-30T10:14:06.793823Z",
     "shell.execute_reply": "2023-10-30T10:14:06.793823Z"
    },
    "papermill": {
     "duration": 2.022326,
     "end_time": "2023-10-30T10:14:06.793823",
     "exception": false,
     "start_time": "2023-10-30T10:14:04.771497",
     "status": "completed"
    },
    "tags": []
   },
   "outputs": [
    {
     "name": "stdout",
     "output_type": "stream",
     "text": [
      "20231030T111405 : amilcar32 : INFO : Inicio guardar métricas multiclase\n",
      "20231030T111405 : amilcar32 : INFO : Inicio leer fichero ..\\tfm_viu\\ejecuciones\\metricas\\metricas_5426.csv\n",
      "20231030T111405 : amilcar32 : INFO : Fin leer fichero ..\\tfm_viu\\ejecuciones\\metricas\\metricas_5426.csv\n"
     ]
    },
    {
     "name": "stdout",
     "output_type": "stream",
     "text": [
      "20231030T111406 : amilcar32 : INFO : Inicio guardar fichero ..\\tfm_viu\\ejecuciones\\metricas\\metricas_5426.csv\n",
      "20231030T111406 : amilcar32 : INFO : Fichero borrado ..\\tfm_viu\\ejecuciones\\metricas\\metricas_5426.csv\n",
      "20231030T111406 : amilcar32 : INFO : Fin guardar fichero ..\\tfm_viu\\ejecuciones\\metricas\\metricas_5426.csv\n",
      "20231030T111406 : amilcar32 : INFO : Fin guardar métricas multiclase\n",
      "20231030T111406 : amilcar32 : INFO : Inicio leer fichero ..\\tfm_viu\\ejecuciones\\metricas\\metricas_5426.csv\n",
      "20231030T111406 : amilcar32 : INFO : Fin leer fichero ..\\tfm_viu\\ejecuciones\\metricas\\metricas_5426.csv\n"
     ]
    },
    {
     "data": {
      "text/html": [
       "<div>\n",
       "<style scoped>\n",
       "    .dataframe tbody tr th:only-of-type {\n",
       "        vertical-align: middle;\n",
       "    }\n",
       "\n",
       "    .dataframe tbody tr th {\n",
       "        vertical-align: top;\n",
       "    }\n",
       "\n",
       "    .dataframe thead th {\n",
       "        text-align: right;\n",
       "    }\n",
       "</style>\n",
       "<table border=\"1\" class=\"dataframe\">\n",
       "  <thead>\n",
       "    <tr style=\"text-align: right;\">\n",
       "      <th></th>\n",
       "      <th>tipo</th>\n",
       "      <th>select</th>\n",
       "      <th>clasific</th>\n",
       "      <th>semilla</th>\n",
       "      <th>accuracy</th>\n",
       "      <th>precision</th>\n",
       "      <th>recall</th>\n",
       "      <th>f1_score</th>\n",
       "      <th>roc_auc</th>\n",
       "      <th>hostname</th>\n",
       "      <th>total_time_sec</th>\n",
       "      <th>datetime</th>\n",
       "      <th>fichero_modelo</th>\n",
       "      <th>params</th>\n",
       "      <th>shape</th>\n",
       "      <th>features</th>\n",
       "      <th>roc_auc_ovr</th>\n",
       "      <th>indices_auc</th>\n",
       "      <th>indices_jaccard</th>\n",
       "    </tr>\n",
       "  </thead>\n",
       "  <tbody>\n",
       "    <tr>\n",
       "      <th>0</th>\n",
       "      <td>mul_m</td>\n",
       "      <td>RF</td>\n",
       "      <td>SVM</td>\n",
       "      <td>5426</td>\n",
       "      <td>0.505747</td>\n",
       "      <td>0.494632</td>\n",
       "      <td>0.544135</td>\n",
       "      <td>0.503943</td>\n",
       "      <td>NaN</td>\n",
       "      <td>amilcar32</td>\n",
       "      <td>65</td>\n",
       "      <td>2023-10-30 11:14:06.699434</td>\n",
       "      <td>modelo_5426_mul_m_RF_SVM.pkl</td>\n",
       "      <td>{'selector__max_features': 200, 'selector__est...</td>\n",
       "      <td>X_test:(87, 18875)</td>\n",
       "      <td>['ENSG00000000938.13', 'ENSG00000011465.18', '...</td>\n",
       "      <td>0.825543</td>\n",
       "      <td>[0.670774647887324, 0.8962962962962964, 0.6447...</td>\n",
       "      <td>[0.14285714285714285, 0.5, 0.15, 0.4, 0.4, 0.5...</td>\n",
       "    </tr>\n",
       "    <tr>\n",
       "      <th>0</th>\n",
       "      <td>mul_m</td>\n",
       "      <td>RF</td>\n",
       "      <td>RF</td>\n",
       "      <td>5426</td>\n",
       "      <td>0.505747</td>\n",
       "      <td>0.440957</td>\n",
       "      <td>0.557776</td>\n",
       "      <td>0.478087</td>\n",
       "      <td>NaN</td>\n",
       "      <td>amilcar32</td>\n",
       "      <td>93</td>\n",
       "      <td>2023-10-30 11:12:53.832828</td>\n",
       "      <td>modelo_5426_mul_m_RF_RF.pkl</td>\n",
       "      <td>{'selector__max_features': 500, 'selector__est...</td>\n",
       "      <td>X_test:(87, 18875)</td>\n",
       "      <td>['ENSG00000005108.17', 'ENSG00000006007.12', '...</td>\n",
       "      <td>0.836880</td>\n",
       "      <td>[0.6522887323943661, 0.8851851851851852, 0.824...</td>\n",
       "      <td>[0.0, 0.4, 0.3157894736842105, 0.2857142857142...</td>\n",
       "    </tr>\n",
       "    <tr>\n",
       "      <th>0</th>\n",
       "      <td>mul_m</td>\n",
       "      <td>RF</td>\n",
       "      <td>LR_L2</td>\n",
       "      <td>5426</td>\n",
       "      <td>0.528736</td>\n",
       "      <td>0.538512</td>\n",
       "      <td>0.586226</td>\n",
       "      <td>0.528191</td>\n",
       "      <td>NaN</td>\n",
       "      <td>amilcar32</td>\n",
       "      <td>99</td>\n",
       "      <td>2023-10-30 11:11:13.407141</td>\n",
       "      <td>modelo_5426_mul_m_RF_LR_L2.pkl</td>\n",
       "      <td>{'selector__max_features': 1000, 'selector__es...</td>\n",
       "      <td>X_test:(87, 18875)</td>\n",
       "      <td>['ENSG00000000938.13', 'ENSG00000002933.9', 'E...</td>\n",
       "      <td>0.843174</td>\n",
       "      <td>[0.682218309859155, 0.8990740740740741, 0.7177...</td>\n",
       "      <td>[0.13636363636363635, 0.5555555555555556, 0.33...</td>\n",
       "    </tr>\n",
       "  </tbody>\n",
       "</table>\n",
       "</div>"
      ],
      "text/plain": [
       "    tipo select clasific  semilla  accuracy  precision    recall  f1_score  \\\n",
       "0  mul_m     RF      SVM     5426  0.505747   0.494632  0.544135  0.503943   \n",
       "0  mul_m     RF       RF     5426  0.505747   0.440957  0.557776  0.478087   \n",
       "0  mul_m     RF    LR_L2     5426  0.528736   0.538512  0.586226  0.528191   \n",
       "\n",
       "   roc_auc   hostname  total_time_sec                    datetime  \\\n",
       "0      NaN  amilcar32              65  2023-10-30 11:14:06.699434   \n",
       "0      NaN  amilcar32              93  2023-10-30 11:12:53.832828   \n",
       "0      NaN  amilcar32              99  2023-10-30 11:11:13.407141   \n",
       "\n",
       "                   fichero_modelo  \\\n",
       "0    modelo_5426_mul_m_RF_SVM.pkl   \n",
       "0     modelo_5426_mul_m_RF_RF.pkl   \n",
       "0  modelo_5426_mul_m_RF_LR_L2.pkl   \n",
       "\n",
       "                                              params               shape  \\\n",
       "0  {'selector__max_features': 200, 'selector__est...  X_test:(87, 18875)   \n",
       "0  {'selector__max_features': 500, 'selector__est...  X_test:(87, 18875)   \n",
       "0  {'selector__max_features': 1000, 'selector__es...  X_test:(87, 18875)   \n",
       "\n",
       "                                            features  roc_auc_ovr  \\\n",
       "0  ['ENSG00000000938.13', 'ENSG00000011465.18', '...     0.825543   \n",
       "0  ['ENSG00000005108.17', 'ENSG00000006007.12', '...     0.836880   \n",
       "0  ['ENSG00000000938.13', 'ENSG00000002933.9', 'E...     0.843174   \n",
       "\n",
       "                                         indices_auc  \\\n",
       "0  [0.670774647887324, 0.8962962962962964, 0.6447...   \n",
       "0  [0.6522887323943661, 0.8851851851851852, 0.824...   \n",
       "0  [0.682218309859155, 0.8990740740740741, 0.7177...   \n",
       "\n",
       "                                     indices_jaccard  \n",
       "0  [0.14285714285714285, 0.5, 0.15, 0.4, 0.4, 0.5...  \n",
       "0  [0.0, 0.4, 0.3157894736842105, 0.2857142857142...  \n",
       "0  [0.13636363636363635, 0.5555555555555556, 0.33...  "
      ]
     },
     "metadata": {},
     "output_type": "display_data"
    }
   ],
   "source": [
    "if M_TIPO.startswith(\"bin\"):\n",
    "    myfunc.save_metricas_to_csv(random_search, X_test, y_test, M_TIPO, M_SELECT, M_CLASIF, total_time, SEMILLA, myfunc.MET_DIR, M_FICHERO, fichero_modelo)\n",
    "else:\n",
    "    myfunc.save_metricas_multi_to_csv(random_search, X_test, y_test, M_TIPO, M_SELECT, M_CLASIF, total_time, SEMILLA, myfunc.MET_DIR, M_FICHERO, fichero_modelo)\n",
    "\n",
    "df1=myfunc.read_metricas_to_df(myfunc.MET_DIR,M_FICHERO)\n",
    "\n",
    "display(df1.sort_values(\"datetime\", ascending=False)[:3])\n"
   ]
  },
  {
   "cell_type": "markdown",
   "id": "4718f13c",
   "metadata": {
    "papermill": {
     "duration": 0.01603,
     "end_time": "2023-10-30T10:14:06.825390",
     "exception": false,
     "start_time": "2023-10-30T10:14:06.809360",
     "status": "completed"
    },
    "tags": []
   },
   "source": [
    "#### Guardar resultados"
   ]
  },
  {
   "cell_type": "code",
   "execution_count": 13,
   "id": "bb024de9",
   "metadata": {
    "execution": {
     "iopub.execute_input": "2023-10-30T10:14:06.841099Z",
     "iopub.status.busy": "2023-10-30T10:14:06.841099Z",
     "iopub.status.idle": "2023-10-30T10:14:06.856659Z",
     "shell.execute_reply": "2023-10-30T10:14:06.856659Z"
    },
    "papermill": {
     "duration": 0.031269,
     "end_time": "2023-10-30T10:14:06.856659",
     "exception": false,
     "start_time": "2023-10-30T10:14:06.825390",
     "status": "completed"
    },
    "tags": []
   },
   "outputs": [
    {
     "name": "stdout",
     "output_type": "stream",
     "text": [
      "20231030T111406 : amilcar32 : INFO : Inicio guardar resultados\n",
      "20231030T111406 : amilcar32 : INFO : Inicio guardar fichero ..\\tfm_viu\\ejecuciones\\metricas\\resultados_5426_mul_m-RF-SVM.csv\n",
      "20231030T111406 : amilcar32 : INFO : Fin guardar fichero ..\\tfm_viu\\ejecuciones\\metricas\\resultados_5426_mul_m-RF-SVM.csv\n",
      "20231030T111406 : amilcar32 : INFO : Fin guardar resultados\n"
     ]
    }
   ],
   "source": [
    "fichero_resultados=R_FICHERO+\"_\"+M_TIPO+\"-\"+M_SELECT+\"-\"+M_CLASIF+\".csv\"\n",
    "myfunc.save_resultados_to_csv(M_TIPO, M_SELECT, M_CLASIF,  random_search, myfunc.MET_DIR, fichero_resultados)\n"
   ]
  }
 ],
 "metadata": {
  "kernelspec": {
   "display_name": "Python 3 (ipykernel)",
   "language": "python",
   "name": "python3"
  },
  "language_info": {
   "codemirror_mode": {
    "name": "ipython",
    "version": 3
   },
   "file_extension": ".py",
   "mimetype": "text/x-python",
   "name": "python",
   "nbconvert_exporter": "python",
   "pygments_lexer": "ipython3",
   "version": "3.10.12"
  },
  "papermill": {
   "default_parameters": {},
   "duration": 71.781311,
   "end_time": "2023-10-30T10:14:07.864510",
   "environment_variables": {},
   "exception": null,
   "input_path": "03_entrenamiento.ipynb",
   "output_path": "ejecuciones\\training\\03_entrenamiento.20231030T111255.param_0000_5426_mul_m_RF_SVM.output.ipynb",
   "parameters": {
    "MAX_ITERS": 500,
    "M_CLASIF": "SVM",
    "M_FICHERO": "metricas_5426",
    "M_SELECT": "RF",
    "M_TIPO": "mul_m",
    "PRE_DATA_FILE": "rows_transpose_norm_by_gene_id_with_target_num_",
    "P_FICHERO": "param_0000_5426_mul_m_RF_SVM.yaml",
    "R_FICHERO": "resultados_5426",
    "SCORING": "roc_auc_ovr",
    "SEMILLA": 5426,
    "eval_clasifier": "SVC(probability=True, random_state=SEMILLA)",
    "eval_selector": "SelectFromModel(estimator=RandomForestClassifier(random_state=SEMILLA), threshold=-np.inf)",
    "param_distributions": {
     "clasifier__C": [
      10
     ],
     "clasifier__gamma": [
      0.01
     ],
     "clasifier__kernel": [
      "rbf"
     ],
     "selector__estimator__n_estimators": [
      400
     ],
     "selector__max_features": [
      200
     ]
    }
   },
   "start_time": "2023-10-30T10:12:56.083199",
   "version": "2.4.0"
  }
 },
 "nbformat": 4,
 "nbformat_minor": 5
}