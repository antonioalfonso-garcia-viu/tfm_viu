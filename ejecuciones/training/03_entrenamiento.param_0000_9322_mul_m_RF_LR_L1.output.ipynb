{
 "cells": [
  {
   "cell_type": "markdown",
   "id": "233d1eaa",
   "metadata": {
    "papermill": {
     "duration": 0.005298,
     "end_time": "2023-10-30T05:34:37.078286",
     "exception": false,
     "start_time": "2023-10-30T05:34:37.072988",
     "status": "completed"
    },
    "tags": []
   },
   "source": [
    "##### Inicio"
   ]
  },
  {
   "cell_type": "markdown",
   "id": "d43bb246",
   "metadata": {
    "papermill": {
     "duration": 0.003367,
     "end_time": "2023-10-30T05:34:37.085311",
     "exception": false,
     "start_time": "2023-10-30T05:34:37.081944",
     "status": "completed"
    },
    "tags": []
   },
   "source": [
    "#### Carga de datos"
   ]
  },
  {
   "cell_type": "code",
   "execution_count": 1,
   "id": "62344857",
   "metadata": {
    "execution": {
     "iopub.execute_input": "2023-10-30T05:34:37.093317Z",
     "iopub.status.busy": "2023-10-30T05:34:37.092751Z",
     "iopub.status.idle": "2023-10-30T05:34:38.233406Z",
     "shell.execute_reply": "2023-10-30T05:34:38.232702Z"
    },
    "papermill": {
     "duration": 1.146309,
     "end_time": "2023-10-30T05:34:38.234907",
     "exception": false,
     "start_time": "2023-10-30T05:34:37.088598",
     "status": "completed"
    },
    "tags": []
   },
   "outputs": [
    {
     "name": "stdout",
     "output_type": "stream",
     "text": [
      "CPU_COUNT: 16; NODE: enderlab; sys.version: 3.10.11 (main, May 16 2023, 00:28:57) [GCC 11.2.0]\n",
      "LOKY_MAX_CPU_COUNT is not set.\n",
      "OMP_NUM_THREADS is not set.\n"
     ]
    }
   ],
   "source": [
    "import os\n",
    "import numpy as np\n",
    "import pandas as pd\n",
    "import datetime\n",
    "import sklearn\n",
    "import logging\n",
    "import warnings\n",
    "\n",
    "from sklearn.pipeline import Pipeline\n",
    "from sklearn.model_selection import RandomizedSearchCV, KFold, cross_val_score, train_test_split\n",
    "from sklearn.metrics import accuracy_score, confusion_matrix, classification_report, roc_auc_score\n",
    "\n",
    "#  cargar algoritmos para aprendizaje supervisado\n",
    "from sklearn.feature_selection import SelectKBest, f_classif, SelectFromModel, mutual_info_classif\n",
    "from sklearn.svm import SVC\n",
    "from sklearn.ensemble import RandomForestClassifier\n",
    "from sklearn.linear_model import LogisticRegression,LogisticRegressionCV\n",
    "\n",
    "# importar fichero con utilidades propias\n",
    "from commons import myfunctions as myfunc\n"
   ]
  },
  {
   "cell_type": "markdown",
   "id": "473c5523",
   "metadata": {
    "papermill": {
     "duration": 0.003786,
     "end_time": "2023-10-30T05:34:38.242788",
     "exception": false,
     "start_time": "2023-10-30T05:34:38.239002",
     "status": "completed"
    },
    "tags": []
   },
   "source": [
    "#### Parámetros a utilizar en el entrenamiento.\n",
    "\n",
    "Se indican los 3 algoritmos de *selección de características* (eval_selector_xxx) y los 3 algoritmos para la _clasificación_ (eval_clasifier_xxx)\n",
    "\n",
    "En *param_distributions* se indicar los parámetros que utilizan los algoritmos en la función RandomSearchCV.\n",
    "\n",
    "Esta celda tiene la etiqueta **parameters** que servirá para poder lanzar los entrenamientos con la utilidad **papermill** pasándole un fichero con los parámetros. Los nuevos parámetros se situarán tras esta celda para tener prevalencia."
   ]
  },
  {
   "cell_type": "code",
   "execution_count": 2,
   "id": "3cf567d2",
   "metadata": {
    "execution": {
     "iopub.execute_input": "2023-10-30T05:34:38.251216Z",
     "iopub.status.busy": "2023-10-30T05:34:38.250863Z",
     "iopub.status.idle": "2023-10-30T05:34:38.259321Z",
     "shell.execute_reply": "2023-10-30T05:34:38.258707Z"
    },
    "papermill": {
     "duration": 0.014395,
     "end_time": "2023-10-30T05:34:38.260582",
     "exception": false,
     "start_time": "2023-10-30T05:34:38.246187",
     "status": "completed"
    },
    "tags": [
     "parameters"
    ]
   },
   "outputs": [
    {
     "name": "stdout",
     "output_type": "stream",
     "text": [
      "20231030T063438 : enderlab : INFO : Utilizando parámetros de mul_m\n"
     ]
    }
   ],
   "source": [
    "#  Parametros para el entrenamiento\n",
    "\n",
    "SEMILLA=        42\n",
    "M_TIPO=         \"mul_m\"\n",
    "M_SELECT=       \"MI\"\n",
    "M_CLASIF=       \"SVM\"\n",
    "R_FICHERO=      \"resultados\"\n",
    "M_FICHERO=      \"metricas\"\n",
    "PRE_DATA_FILE=  \"rows_transpose_norm_by_gene_id_with_target_num_\"\n",
    "SCORING=        \"roc_auc_ovr\" \n",
    "MAX_ITERS=      100\n",
    "\n",
    "def mutual_info_classif_state(X, y):\n",
    "    return mutual_info_classif(X, y, random_state=SEMILLA)\n",
    "\n",
    "eval_selector_mi = \"SelectKBest(score_func=mutual_info_classif_state)\"\n",
    "eval_selector_rf=  \"SelectFromModel(estimator=RandomForestClassifier(random_state=SEMILLA), threshold=-np.inf)\"\n",
    "eval_selector_anova=  \"SelectKBest(score_func=f_classif)\"\n",
    "\n",
    "eval_clasifier_svm= \"SVC(probability=True, random_state=SEMILLA)\"\n",
    "eval_clasifier_rf= \"RandomForestClassifier(random_state=SEMILLA)\"\n",
    "eval_clasifier_lr= \"LogisticRegressionCV(random_state=SEMILLA)\"\n",
    "\n",
    "if M_TIPO.startswith(\"bin_m\"):\n",
    "    myfunc.verbose(f\"Utilizando parámetros de {M_TIPO}\")\n",
    "    eval_selector = eval_selector_mi\n",
    "    eval_clasifier = eval_clasifier_svm\n",
    "\n",
    "    SEMILLA = 6578\n",
    "    M_SELECT = \"MI\"\n",
    "    M_CLASIF = \"SVM\"\n",
    "    param_distributions = {'selector__k': [1000], \n",
    "         'clasifier__kernel': ['rbf'], 'clasifier__gamma': [0.01], 'clasifier__C': [100]}\n",
    "elif M_TIPO.startswith(\"bin_s\"):\n",
    "    myfunc.verbose(f\"Utilizando parámetros de {M_TIPO}\")\n",
    "    eval_selector = eval_selector_rf\n",
    "    eval_clasifier = eval_clasifier_lr\n",
    "\n",
    "    SEMILLA = 6191\n",
    "    M_SELECT = \"RF\"\n",
    "    M_CLASIF = \"LR_L2\"\n",
    "    param_distributions = {'selector__max_features': [1000], 'selector__estimator__n_estimators': [200], \n",
    "        'clasifier__solver': ['lbfgs'], 'clasifier__penalty': ['l2'], 'clasifier__max_iter': [10000]}\n",
    "\n",
    "elif M_TIPO.startswith(\"mul_m\"):\n",
    "    myfunc.verbose(f\"Utilizando parámetros de {M_TIPO}\")\n",
    " \n",
    "    eval_selector = eval_selector_rf\n",
    "    eval_clasifier = eval_clasifier_lr\n",
    "\n",
    "    SEMILLA = 6191\n",
    "    M_SELECT = \"RF\"\n",
    "    M_CLASIF = \"LR_L2\"\n",
    "    param_distributions = {'selector__max_features': [1000], 'selector__estimator__n_estimators': [400], \n",
    "        'clasifier__solver': ['lbfgs'], 'clasifier__penalty': ['l2'], 'clasifier__max_iter': [10000]}\n",
    "\n",
    "else:\n",
    "    # M_TIPO.startswith(\"mul_s\"):\n",
    "    myfunc.verbose(f\"Utilizando parámetros de {M_TIPO}\")\n",
    "    eval_selector = eval_selector_anova\n",
    "    eval_clasifier = eval_clasifier_lr\n",
    "\n",
    "    SEMILLA = 1860\n",
    "    M_SELECT = \"ANOVA\"\n",
    "    M_CLASIF = \"LR_L2\"\n",
    "    param_distributions = {'selector__k': [1000], \n",
    "        'clasifier__solver': ['saga'], 'clasifier__penalty': ['l2'], 'clasifier__max_iter': [10000]}\n",
    "\n"
   ]
  },
  {
   "cell_type": "code",
   "execution_count": 3,
   "id": "7b4520a1",
   "metadata": {
    "execution": {
     "iopub.execute_input": "2023-10-30T05:34:38.268969Z",
     "iopub.status.busy": "2023-10-30T05:34:38.268497Z",
     "iopub.status.idle": "2023-10-30T05:34:38.272510Z",
     "shell.execute_reply": "2023-10-30T05:34:38.271946Z"
    },
    "papermill": {
     "duration": 0.009666,
     "end_time": "2023-10-30T05:34:38.273721",
     "exception": false,
     "start_time": "2023-10-30T05:34:38.264055",
     "status": "completed"
    },
    "tags": [
     "injected-parameters"
    ]
   },
   "outputs": [],
   "source": [
    "# Parameters\n",
    "M_TIPO = \"mul_m\"\n",
    "M_SELECT = \"RF\"\n",
    "M_CLASIF = \"LR_L1\"\n",
    "P_FICHERO = \"param_0000_9322_mul_m_RF_LR_L1.yaml\"\n",
    "R_FICHERO = \"resultados_9322\"\n",
    "M_FICHERO = \"metricas_9322\"\n",
    "PRE_DATA_FILE = \"rows_transpose_norm_by_gene_id_with_target_num_\"\n",
    "SCORING = \"roc_auc_ovr\"\n",
    "SEMILLA = 9322\n",
    "MAX_ITERS = 500\n",
    "eval_selector = \"SelectFromModel(estimator=RandomForestClassifier(random_state=SEMILLA), threshold=-np.inf)\"\n",
    "eval_clasifier = \"LogisticRegressionCV(random_state=SEMILLA)\"\n",
    "param_distributions = {\n",
    "    \"selector__max_features\": [1000],\n",
    "    \"selector__estimator__n_estimators\": [400],\n",
    "    \"clasifier__solver\": [\"saga\"],\n",
    "    \"clasifier__penalty\": [\"l1\"],\n",
    "    \"clasifier__max_iter\": [10000],\n",
    "}\n"
   ]
  },
  {
   "cell_type": "code",
   "execution_count": 4,
   "id": "14601a66",
   "metadata": {
    "execution": {
     "iopub.execute_input": "2023-10-30T05:34:38.281981Z",
     "iopub.status.busy": "2023-10-30T05:34:38.281527Z",
     "iopub.status.idle": "2023-10-30T05:34:38.284793Z",
     "shell.execute_reply": "2023-10-30T05:34:38.284238Z"
    },
    "papermill": {
     "duration": 0.008773,
     "end_time": "2023-10-30T05:34:38.286014",
     "exception": false,
     "start_time": "2023-10-30T05:34:38.277241",
     "status": "completed"
    },
    "tags": []
   },
   "outputs": [],
   "source": [
    "DATA_FILE = PRE_DATA_FILE + M_TIPO\n",
    "\n",
    "# si viene \"None\" en el parámetro max_depth, se le quitan las comillas para que no sea entendido por el algoritmo como un texto\n",
    "if \"clasifier__max_depth\" in param_distributions:\n",
    "    param_distributions['clasifier__max_depth'] = [None if x == 'None' else x for x in param_distributions['clasifier__max_depth']]"
   ]
  },
  {
   "cell_type": "markdown",
   "id": "a914a2b0",
   "metadata": {
    "papermill": {
     "duration": 0.003572,
     "end_time": "2023-10-30T05:34:38.293097",
     "exception": false,
     "start_time": "2023-10-30T05:34:38.289525",
     "status": "completed"
    },
    "tags": []
   },
   "source": [
    "Asignar los algoritmos que se utilizarán en la función RandomSearchCV"
   ]
  },
  {
   "cell_type": "code",
   "execution_count": 5,
   "id": "dc30c988",
   "metadata": {
    "execution": {
     "iopub.execute_input": "2023-10-30T05:34:38.301365Z",
     "iopub.status.busy": "2023-10-30T05:34:38.300978Z",
     "iopub.status.idle": "2023-10-30T05:34:38.303941Z",
     "shell.execute_reply": "2023-10-30T05:34:38.303429Z"
    },
    "papermill": {
     "duration": 0.008464,
     "end_time": "2023-10-30T05:34:38.305126",
     "exception": false,
     "start_time": "2023-10-30T05:34:38.296662",
     "status": "completed"
    },
    "tags": []
   },
   "outputs": [],
   "source": [
    "algor_selector=eval(eval_selector)\n",
    "algor_clasifier=eval(eval_clasifier)"
   ]
  },
  {
   "cell_type": "markdown",
   "id": "076727b2",
   "metadata": {
    "papermill": {
     "duration": 0.003672,
     "end_time": "2023-10-30T05:34:38.312549",
     "exception": false,
     "start_time": "2023-10-30T05:34:38.308877",
     "status": "completed"
    },
    "tags": []
   },
   "source": [
    "#### Comprobar el entorno y leer fichero de muestras"
   ]
  },
  {
   "cell_type": "code",
   "execution_count": 6,
   "id": "3c2bdcc8",
   "metadata": {
    "execution": {
     "iopub.execute_input": "2023-10-30T05:34:38.320874Z",
     "iopub.status.busy": "2023-10-30T05:34:38.320387Z",
     "iopub.status.idle": "2023-10-30T05:34:38.572241Z",
     "shell.execute_reply": "2023-10-30T05:34:38.571592Z"
    },
    "papermill": {
     "duration": 0.25751,
     "end_time": "2023-10-30T05:34:38.573669",
     "exception": false,
     "start_time": "2023-10-30T05:34:38.316159",
     "status": "completed"
    },
    "tags": []
   },
   "outputs": [
    {
     "name": "stdout",
     "output_type": "stream",
     "text": [
      "20231030T063438 : enderlab : INFO : Encontrada carpeta DATA_DIR=../tfm_git/datos\n",
      "20231030T063438 : enderlab : INFO : Encontrada carpeta CFDNA_DIR=../tfm_git/datos/cfDNA_5hmC\n",
      "20231030T063438 : enderlab : INFO : Encontrada carpeta GENCODE_DIR=../tfm_git/datos/gencode\n",
      "20231030T063438 : enderlab : INFO : Encontrada carpeta H5_DIR=../tfm_git/datos/h5\n",
      "20231030T063438 : enderlab : INFO : Encontrada carpeta LOG_DIR=../tfm_git/datos/logs\n",
      "20231030T063438 : enderlab : INFO : Encontrada carpeta CSV_DIR=../tfm_git/datos/csv\n",
      "20231030T063438 : enderlab : INFO : Encontrada carpeta MODEL_DIR=../tfm_git/ejecuciones/modelos\n",
      "20231030T063438 : enderlab : INFO : Encontrada carpeta EXEC_DIR=../tfm_git/ejecuciones\n",
      "20231030T063438 : enderlab : INFO : Encontrada carpeta MET_DIR=../tfm_git/ejecuciones/metricas\n",
      "20231030T063438 : enderlab : INFO : Inicio leer fichero h5 ../tfm_git/datos/h5/rows_transpose_norm_by_gene_id_with_target_num_mul_m.h5\n",
      "20231030T063438 : enderlab : INFO : Leyendo clave /df\n"
     ]
    },
    {
     "name": "stdout",
     "output_type": "stream",
     "text": [
      "20231030T063438 : enderlab : INFO : Tamaño (434, 18876)\n",
      "20231030T063438 : enderlab : INFO : Fin leer fichero h5 ../tfm_git/datos/h5/rows_transpose_norm_by_gene_id_with_target_num_mul_m.h5\n"
     ]
    },
    {
     "data": {
      "text/plain": [
       "target\n",
       "0    62\n",
       "1    62\n",
       "2    62\n",
       "3    62\n",
       "4    62\n",
       "5    62\n",
       "6    62\n",
       "dtype: int64"
      ]
     },
     "metadata": {},
     "output_type": "display_data"
    },
    {
     "name": "stdout",
     "output_type": "stream",
     "text": [
      "Shape df: (434, 18876)\n"
     ]
    },
    {
     "name": "stdout",
     "output_type": "stream",
     "text": [
      "Shape X_train: (347, 18875)\n",
      "Shape X_test: (87, 18875)\n"
     ]
    }
   ],
   "source": [
    "start_time = datetime.datetime.now()\n",
    "\n",
    "myfunc.reset_vars()\n",
    "\n",
    "myfunc.NOTEBK_FILENAME = myfunc.get_nb_name()\n",
    "\n",
    "myfunc.check_enviroment(myfunc.DATA_DIR, myfunc.CFDNA_DIR, myfunc.GENCODE_DIR, myfunc.H5_DIR, myfunc.LOG_DIR, myfunc.CSV_DIR, myfunc.MODEL_DIR, myfunc.EXEC_DIR, myfunc.MET_DIR)\n",
    "\n",
    "# Leer fichero con las muestras\n",
    "df_t = myfunc.read_h5_to_df(DATA_FILE, myfunc.H5_DIR)\n",
    "display(df_t.groupby(\"target\").size())\n",
    "print(\"Shape df:\",df_t.shape)\n",
    "\n",
    "# Separar caracteristicas/genes de las etiquetas/tipos de cáncer\n",
    "X = df_t.iloc[:, :-1]  # Todas las columnas excepto la última\n",
    "y = df_t.iloc[:, -1]  # La última columna contiene los identificadores de los tipos de cáncer\n",
    "\n",
    "#  Crear el conjunto de datos de entrenamiento y de pruebas, y se fija la semilla para siempre coger el mismo juego de muestras\n",
    "X_train, X_test, y_train, y_test = train_test_split(X, y, test_size=0.2, shuffle=True, random_state=42)\n",
    "print(\"Shape X_train:\",X_train.shape)\n",
    "print(\"Shape X_test:\",X_test.shape)\n"
   ]
  },
  {
   "cell_type": "markdown",
   "id": "5c157499",
   "metadata": {
    "papermill": {
     "duration": 0.004258,
     "end_time": "2023-10-30T05:34:38.582475",
     "exception": false,
     "start_time": "2023-10-30T05:34:38.578217",
     "status": "completed"
    },
    "tags": []
   },
   "source": [
    "#### Selección de características y clasificación."
   ]
  },
  {
   "cell_type": "code",
   "execution_count": 7,
   "id": "19063e1a",
   "metadata": {
    "execution": {
     "iopub.execute_input": "2023-10-30T05:34:38.592455Z",
     "iopub.status.busy": "2023-10-30T05:34:38.591942Z",
     "iopub.status.idle": "2023-10-30T06:02:36.790850Z",
     "shell.execute_reply": "2023-10-30T06:02:36.790099Z"
    },
    "papermill": {
     "duration": 1678.210528,
     "end_time": "2023-10-30T06:02:36.797063",
     "exception": false,
     "start_time": "2023-10-30T05:34:38.586535",
     "status": "completed"
    },
    "tags": []
   },
   "outputs": [
    {
     "name": "stdout",
     "output_type": "stream",
     "text": [
      "20231030T063438 : enderlab : INFO : Iniciando entrenamiento\n",
      "num_iter: 1 , max_iter: 1\n",
      "Fitting 5 folds for each of 1 candidates, totalling 5 fits\n"
     ]
    },
    {
     "name": "stdout",
     "output_type": "stream",
     "text": [
      "[CV 1/5] END clasifier__max_iter=10000, clasifier__penalty=l1, clasifier__solver=saga, selector__estimator__n_estimators=400, selector__max_features=1000;, score=0.901 total time=11.4min\n"
     ]
    },
    {
     "name": "stdout",
     "output_type": "stream",
     "text": [
      "[CV 5/5] END clasifier__max_iter=10000, clasifier__penalty=l1, clasifier__solver=saga, selector__estimator__n_estimators=400, selector__max_features=1000;, score=0.874 total time=11.8min\n"
     ]
    },
    {
     "name": "stdout",
     "output_type": "stream",
     "text": [
      "[CV 4/5] END clasifier__max_iter=10000, clasifier__penalty=l1, clasifier__solver=saga, selector__estimator__n_estimators=400, selector__max_features=1000;, score=0.877 total time=12.1min\n"
     ]
    },
    {
     "name": "stdout",
     "output_type": "stream",
     "text": [
      "[CV 3/5] END clasifier__max_iter=10000, clasifier__penalty=l1, clasifier__solver=saga, selector__estimator__n_estimators=400, selector__max_features=1000;, score=0.889 total time=12.3min\n"
     ]
    },
    {
     "name": "stdout",
     "output_type": "stream",
     "text": [
      "[CV 2/5] END clasifier__max_iter=10000, clasifier__penalty=l1, clasifier__solver=saga, selector__estimator__n_estimators=400, selector__max_features=1000;, score=0.826 total time=12.9min\n"
     ]
    },
    {
     "name": "stdout",
     "output_type": "stream",
     "text": [
      "Mejores Hiperparámetros: {'selector__max_features': 1000, 'selector__estimator__n_estimators': 400, 'clasifier__solver': 'saga', 'clasifier__penalty': 'l1', 'clasifier__max_iter': 10000}\n",
      "Mejor Puntuación: 0.8733\n",
      "20231030T070236 : enderlab : INFO : Fin entrenamiento\n"
     ]
    }
   ],
   "source": [
    "myfunc.verbose(\"Iniciando entrenamiento\")\n",
    "\n",
    "kf = KFold(n_splits=5, shuffle=True, random_state=SEMILLA)\n",
    "\n",
    "# Crear el pipeline para el flujo de tareas\n",
    "tasks_pipeline = Pipeline([\n",
    "    ('selector', algor_selector),\n",
    "    ('clasifier', algor_clasifier)\n",
    "])\n",
    "\n",
    "# MAX_ITERS puede limitar el número de iteraciones si son excesivas para las combinaciones de parámetros buscando un óptimo local, \n",
    "# sino funcionaría como GridSearchCV al revisar todas las cominaciones de los parámetros\n",
    "num_iteraciones = 1\n",
    "num_iteraciones = num_iteraciones * np.prod([len(elemento1) for _, elemento1 in param_distributions.items()])\n",
    "max_iteraciones = num_iteraciones if num_iteraciones <= MAX_ITERS else MAX_ITERS\n",
    "print(\"num_iter:\",num_iteraciones,\", max_iter:\",max_iteraciones)\n",
    "\n",
    "random_search = RandomizedSearchCV(\n",
    "    tasks_pipeline, \n",
    "    param_distributions, \n",
    "    n_iter=max_iteraciones,\n",
    "    scoring=SCORING,\n",
    "    cv=kf,\n",
    "    verbose=3, \n",
    "    random_state=SEMILLA, \n",
    "    n_jobs=-1\n",
    "    )\n",
    "\n",
    "# Entrenar el modelo\n",
    "random_search.fit(X_train, y_train)\n",
    "\n",
    "# Ver los mejores hiperparámetros encontrados\n",
    "print(f'Mejores Hiperparámetros: {random_search.best_params_}')\n",
    "print(f'Mejor Puntuación: {random_search.best_score_:.4f}')\n",
    "\n",
    "# Nos quedamos con el mejor modelo para ver las métricas\n",
    "mejor_modelo = random_search.best_estimator_\n",
    "\n",
    "myfunc.verbose(\"Fin entrenamiento\")"
   ]
  },
  {
   "cell_type": "markdown",
   "id": "15121728",
   "metadata": {
    "papermill": {
     "duration": 0.00434,
     "end_time": "2023-10-30T06:02:36.806003",
     "exception": false,
     "start_time": "2023-10-30T06:02:36.801663",
     "status": "completed"
    },
    "tags": []
   },
   "source": [
    "#### Guardar modelo"
   ]
  },
  {
   "cell_type": "code",
   "execution_count": 8,
   "id": "1082d0b6",
   "metadata": {
    "execution": {
     "iopub.execute_input": "2023-10-30T06:02:36.816310Z",
     "iopub.status.busy": "2023-10-30T06:02:36.815767Z",
     "iopub.status.idle": "2023-10-30T06:02:36.980262Z",
     "shell.execute_reply": "2023-10-30T06:02:36.979688Z"
    },
    "papermill": {
     "duration": 0.171306,
     "end_time": "2023-10-30T06:02:36.981550",
     "exception": false,
     "start_time": "2023-10-30T06:02:36.810244",
     "status": "completed"
    },
    "tags": []
   },
   "outputs": [
    {
     "name": "stdout",
     "output_type": "stream",
     "text": [
      "20231030T070236 : enderlab : INFO : Inicio guardar fichero ../tfm_git/ejecuciones/modelos/modelo_9322_mul_m_RF_LR_L1.pkl\n",
      "20231030T070236 : enderlab : INFO : Fin guardar fichero ../tfm_git/ejecuciones/modelos/modelo_9322_mul_m_RF_LR_L1.pkl\n"
     ]
    }
   ],
   "source": [
    "fichero_modelo = str.replace(\"modelo_\"+str(SEMILLA).zfill(4)+\"_\"+M_TIPO+\"_\"+M_SELECT+\"_\"+M_CLASIF+\".pkl\", \" \", \"_\")\n",
    "\n",
    "myfunc.save_modelo(mejor_modelo, myfunc.MODEL_DIR, fichero_modelo)"
   ]
  },
  {
   "cell_type": "markdown",
   "id": "6c7a1415",
   "metadata": {
    "papermill": {
     "duration": 0.004393,
     "end_time": "2023-10-30T06:02:36.990536",
     "exception": false,
     "start_time": "2023-10-30T06:02:36.986143",
     "status": "completed"
    },
    "tags": []
   },
   "source": [
    "#### Ver resultados del las iteraciones hechas por RandomSearchCV"
   ]
  },
  {
   "cell_type": "code",
   "execution_count": 9,
   "id": "65fdc1a3",
   "metadata": {
    "execution": {
     "iopub.execute_input": "2023-10-30T06:02:37.000399Z",
     "iopub.status.busy": "2023-10-30T06:02:36.999996Z",
     "iopub.status.idle": "2023-10-30T06:02:37.009308Z",
     "shell.execute_reply": "2023-10-30T06:02:37.008770Z"
    },
    "papermill": {
     "duration": 0.015804,
     "end_time": "2023-10-30T06:02:37.010553",
     "exception": false,
     "start_time": "2023-10-30T06:02:36.994749",
     "status": "completed"
    },
    "tags": []
   },
   "outputs": [
    {
     "name": "stdout",
     "output_type": "stream",
     "text": [
      "20231030T070237 : enderlab : INFO : Inicio ver resultados\n",
      "Mejores Hiperparámetros: {'selector__max_features': 1000, 'selector__estimator__n_estimators': 400, 'clasifier__solver': 'saga', 'clasifier__penalty': 'l1', 'clasifier__max_iter': 10000}\n",
      "Mejores puntuaciones: 0.8733 | Params: {'selector__max_features': 1000, 'selector__estimator__n_estimators': 400, 'clasifier__solver': 'saga', 'clasifier__penalty': 'l1', 'clasifier__max_iter': 10000}\n",
      "Media de las puntuaciones: 0.8733 | Params: {'selector__max_features': 1000, 'selector__estimator__n_estimators': 400, 'clasifier__solver': 'saga', 'clasifier__penalty': 'l1', 'clasifier__max_iter': 10000}\n",
      "20231030T070237 : enderlab : INFO : Fin resultados\n"
     ]
    }
   ],
   "source": [
    "myfunc.ver_resultados_search(random_search)"
   ]
  },
  {
   "cell_type": "markdown",
   "id": "2bfa21b7",
   "metadata": {
    "papermill": {
     "duration": 0.004776,
     "end_time": "2023-10-30T06:02:37.019745",
     "exception": false,
     "start_time": "2023-10-30T06:02:37.014969",
     "status": "completed"
    },
    "tags": []
   },
   "source": [
    "#### Ver métricas del mejor modelo"
   ]
  },
  {
   "cell_type": "code",
   "execution_count": 10,
   "id": "681cb33b",
   "metadata": {
    "execution": {
     "iopub.execute_input": "2023-10-30T06:02:37.029848Z",
     "iopub.status.busy": "2023-10-30T06:02:37.029491Z",
     "iopub.status.idle": "2023-10-30T06:02:38.170790Z",
     "shell.execute_reply": "2023-10-30T06:02:38.170206Z"
    },
    "papermill": {
     "duration": 1.147878,
     "end_time": "2023-10-30T06:02:38.172114",
     "exception": false,
     "start_time": "2023-10-30T06:02:37.024236",
     "status": "completed"
    },
    "tags": []
   },
   "outputs": [
    {
     "name": "stdout",
     "output_type": "stream",
     "text": [
      "20231030T070237 : enderlab : INFO : Inicio ver métricas multiclase\n"
     ]
    },
    {
     "name": "stdout",
     "output_type": "stream",
     "text": [
      "              precision    recall  f1-score   support\n",
      "\n",
      "           0       0.60      0.38      0.46        16\n",
      "           1       0.71      0.67      0.69        15\n",
      "           2       0.33      0.45      0.38        11\n",
      "           3       0.33      0.80      0.47         5\n",
      "           4       0.70      0.54      0.61        13\n",
      "           5       0.67      0.67      0.67         9\n",
      "           6       0.59      0.56      0.57        18\n",
      "\n",
      "    accuracy                           0.55        87\n",
      "   macro avg       0.56      0.58      0.55        87\n",
      "weighted avg       0.59      0.55      0.56        87\n",
      "\n",
      "\n",
      "\n",
      "           Exactitud: 0.551724\n",
      "   Precisión (media): 0.562265\n",
      "      Recall (media): 0.579557\n",
      "    F1-score (media): 0.550455\n",
      "\n",
      "\n",
      "AUC para el tipo de cáncer 0-Control.... 0.7359\n",
      "AUC para el tipo de cáncer 1-Bladder.... 0.8944\n",
      "AUC para el tipo de cáncer 2-Breast..... 0.7297\n",
      "AUC para el tipo de cáncer 3-Colorectal. 0.8488\n",
      "AUC para el tipo de cáncer 4-Kidney..... 0.8846\n",
      "AUC para el tipo de cáncer 5-Lung....... 0.9644\n",
      "AUC para el tipo de cáncer 6-Prostate... 0.8486\n",
      "\n",
      "Media de AUC: 0.8438\n"
     ]
    },
    {
     "data": {
      "image/png": "[encoded data removed]",
      "text/plain": [
       "<Figure size 1000x600 with 1 Axes>"
      ]
     },
     "metadata": {},
     "output_type": "display_data"
    },
    {
     "name": "stdout",
     "output_type": "stream",
     "text": [
      "\n",
      "\n"
     ]
    },
    {
     "data": {
      "image/png": "[encoded data removed]",
      "text/plain": [
       "<Figure size 800x400 with 2 Axes>"
      ]
     },
     "metadata": {},
     "output_type": "display_data"
    },
    {
     "name": "stdout",
     "output_type": "stream",
     "text": [
      "\n",
      "\n",
      "Puntuación Jaccard para el cáncer tipo 0-Control.... 0.3000\n",
      "Puntuación Jaccard para el cáncer tipo 1-Bladder.... 0.5263\n",
      "Puntuación Jaccard para el cáncer tipo 2-Breast..... 0.2381\n",
      "Puntuación Jaccard para el cáncer tipo 3-Colorectal. 0.3077\n",
      "Puntuación Jaccard para el cáncer tipo 4-Kidney..... 0.4375\n",
      "Puntuación Jaccard para el cáncer tipo 5-Lung....... 0.5000\n",
      "Puntuación Jaccard para el cáncer tipo 6-Prostate... 0.4000\n",
      "\n",
      "Media de la puntuación de Jaccard: 0.3871\n"
     ]
    }
   ],
   "source": [
    "if M_TIPO.startswith(\"bin\"):\n",
    "    myfunc.ver_metricas(mejor_modelo, X_test, y_test)\n",
    "else:\n",
    "    myfunc.ver_metricas_multi(mejor_modelo, X_test, y_test)\n"
   ]
  },
  {
   "cell_type": "markdown",
   "id": "514745d6",
   "metadata": {
    "papermill": {
     "duration": 0.006021,
     "end_time": "2023-10-30T06:02:38.184796",
     "exception": false,
     "start_time": "2023-10-30T06:02:38.178775",
     "status": "completed"
    },
    "tags": []
   },
   "source": [
    "#### Finalización del notebook"
   ]
  },
  {
   "cell_type": "code",
   "execution_count": 11,
   "id": "c4c6d35c",
   "metadata": {
    "execution": {
     "iopub.execute_input": "2023-10-30T06:02:38.198282Z",
     "iopub.status.busy": "2023-10-30T06:02:38.197639Z",
     "iopub.status.idle": "2023-10-30T06:02:38.201947Z",
     "shell.execute_reply": "2023-10-30T06:02:38.201288Z"
    },
    "papermill": {
     "duration": 0.012553,
     "end_time": "2023-10-30T06:02:38.203209",
     "exception": false,
     "start_time": "2023-10-30T06:02:38.190656",
     "status": "completed"
    },
    "tags": []
   },
   "outputs": [
    {
     "name": "stdout",
     "output_type": "stream",
     "text": [
      "20231030T070238 : enderlab : INFO : Notebook ha tardado 1679 seconds\n"
     ]
    }
   ],
   "source": [
    "end_time = datetime.datetime.now()\n",
    "total_time = end_time - start_time\n",
    "myfunc.verbose(f\"Notebook ha tardado {total_time.seconds} seconds\")"
   ]
  },
  {
   "cell_type": "markdown",
   "id": "784c4c8b",
   "metadata": {
    "papermill": {
     "duration": 0.005905,
     "end_time": "2023-10-30T06:02:38.215037",
     "exception": false,
     "start_time": "2023-10-30T06:02:38.209132",
     "status": "completed"
    },
    "tags": []
   },
   "source": [
    "#### Guardar métricas"
   ]
  },
  {
   "cell_type": "code",
   "execution_count": 12,
   "id": "97bda8e2",
   "metadata": {
    "execution": {
     "iopub.execute_input": "2023-10-30T06:02:38.228296Z",
     "iopub.status.busy": "2023-10-30T06:02:38.227899Z",
     "iopub.status.idle": "2023-10-30T06:02:39.255076Z",
     "shell.execute_reply": "2023-10-30T06:02:39.254543Z"
    },
    "papermill": {
     "duration": 1.035369,
     "end_time": "2023-10-30T06:02:39.256478",
     "exception": false,
     "start_time": "2023-10-30T06:02:38.221109",
     "status": "completed"
    },
    "tags": []
   },
   "outputs": [
    {
     "name": "stdout",
     "output_type": "stream",
     "text": [
      "20231030T070238 : enderlab : INFO : Inicio guardar métricas multiclase\n",
      "20231030T070238 : enderlab : INFO : Inicio leer fichero ../tfm_git/ejecuciones/metricas/metricas_9322.csv\n",
      "20231030T070238 : enderlab : INFO : Fin leer fichero ../tfm_git/ejecuciones/metricas/metricas_9322.csv\n"
     ]
    },
    {
     "name": "stdout",
     "output_type": "stream",
     "text": [
      "20231030T070239 : enderlab : INFO : Inicio guardar fichero ../tfm_git/ejecuciones/metricas/metricas_9322.csv\n",
      "20231030T070239 : enderlab : INFO : Fichero borrado ../tfm_git/ejecuciones/metricas/metricas_9322.csv\n",
      "20231030T070239 : enderlab : INFO : Fin guardar fichero ../tfm_git/ejecuciones/metricas/metricas_9322.csv\n",
      "20231030T070239 : enderlab : INFO : Fin guardar métricas multiclase\n",
      "20231030T070239 : enderlab : INFO : Inicio leer fichero ../tfm_git/ejecuciones/metricas/metricas_9322.csv\n",
      "20231030T070239 : enderlab : INFO : Fin leer fichero ../tfm_git/ejecuciones/metricas/metricas_9322.csv\n"
     ]
    },
    {
     "data": {
      "text/html": [
       "<div>\n",
       "<style scoped>\n",
       "    .dataframe tbody tr th:only-of-type {\n",
       "        vertical-align: middle;\n",
       "    }\n",
       "\n",
       "    .dataframe tbody tr th {\n",
       "        vertical-align: top;\n",
       "    }\n",
       "\n",
       "    .dataframe thead th {\n",
       "        text-align: right;\n",
       "    }\n",
       "</style>\n",
       "<table border=\"1\" class=\"dataframe\">\n",
       "  <thead>\n",
       "    <tr style=\"text-align: right;\">\n",
       "      <th></th>\n",
       "      <th>tipo</th>\n",
       "      <th>select</th>\n",
       "      <th>clasific</th>\n",
       "      <th>semilla</th>\n",
       "      <th>accuracy</th>\n",
       "      <th>precision</th>\n",
       "      <th>recall</th>\n",
       "      <th>f1_score</th>\n",
       "      <th>roc_auc</th>\n",
       "      <th>hostname</th>\n",
       "      <th>total_time_sec</th>\n",
       "      <th>datetime</th>\n",
       "      <th>fichero_modelo</th>\n",
       "      <th>params</th>\n",
       "      <th>shape</th>\n",
       "      <th>features</th>\n",
       "      <th>roc_auc_ovr</th>\n",
       "      <th>indices_auc</th>\n",
       "      <th>indices_jaccard</th>\n",
       "    </tr>\n",
       "  </thead>\n",
       "  <tbody>\n",
       "    <tr>\n",
       "      <th>0</th>\n",
       "      <td>mul_m</td>\n",
       "      <td>RF</td>\n",
       "      <td>LR_L1</td>\n",
       "      <td>9322</td>\n",
       "      <td>0.551724</td>\n",
       "      <td>0.562265</td>\n",
       "      <td>0.579557</td>\n",
       "      <td>0.550455</td>\n",
       "      <td>NaN</td>\n",
       "      <td>enderlab</td>\n",
       "      <td>1679</td>\n",
       "      <td>2023-10-30 07:02:39.208366</td>\n",
       "      <td>modelo_9322_mul_m_RF_LR_L1.pkl</td>\n",
       "      <td>{'selector__max_features': 1000, 'selector__es...</td>\n",
       "      <td>X_test:(87, 18875)</td>\n",
       "      <td>['ENSG00000004799.8', 'ENSG00000006327.14', 'E...</td>\n",
       "      <td>0.843777</td>\n",
       "      <td>[0.7359154929577465, 0.8944444444444445, 0.729...</td>\n",
       "      <td>[0.3, 0.5263157894736842, 0.23809523809523808,...</td>\n",
       "    </tr>\n",
       "    <tr>\n",
       "      <th>0</th>\n",
       "      <td>mul_m</td>\n",
       "      <td>RF</td>\n",
       "      <td>LR_EN</td>\n",
       "      <td>9322</td>\n",
       "      <td>0.597701</td>\n",
       "      <td>0.606404</td>\n",
       "      <td>0.620826</td>\n",
       "      <td>0.590984</td>\n",
       "      <td>NaN</td>\n",
       "      <td>enderlab</td>\n",
       "      <td>1693</td>\n",
       "      <td>2023-10-30 06:34:31.547074</td>\n",
       "      <td>modelo_9322_mul_m_RF_LR_EN.pkl</td>\n",
       "      <td>{'selector__max_features': 1000, 'selector__es...</td>\n",
       "      <td>X_test:(87, 18875)</td>\n",
       "      <td>['ENSG00000004799.8', 'ENSG00000006327.14', 'E...</td>\n",
       "      <td>0.864495</td>\n",
       "      <td>[0.7746478873239437, 0.9009259259259259, 0.755...</td>\n",
       "      <td>[0.3, 0.5789473684210527, 0.2777777777777778, ...</td>\n",
       "    </tr>\n",
       "    <tr>\n",
       "      <th>0</th>\n",
       "      <td>mul_m</td>\n",
       "      <td>MI</td>\n",
       "      <td>SVM</td>\n",
       "      <td>9322</td>\n",
       "      <td>0.551724</td>\n",
       "      <td>0.581092</td>\n",
       "      <td>0.581892</td>\n",
       "      <td>0.573695</td>\n",
       "      <td>NaN</td>\n",
       "      <td>enderlab</td>\n",
       "      <td>225</td>\n",
       "      <td>2023-10-30 06:06:10.582141</td>\n",
       "      <td>modelo_9322_mul_m_MI_SVM.pkl</td>\n",
       "      <td>{'selector__k': 1000, 'clasifier__kernel': 'rb...</td>\n",
       "      <td>X_test:(87, 18875)</td>\n",
       "      <td>['ENSG00000001084.13', 'ENSG00000001460.18', '...</td>\n",
       "      <td>0.824191</td>\n",
       "      <td>[0.7904929577464789, 0.8027777777777778, 0.723...</td>\n",
       "      <td>[0.30434782608695654, 0.3888888888888889, 0.23...</td>\n",
       "    </tr>\n",
       "  </tbody>\n",
       "</table>\n",
       "</div>"
      ],
      "text/plain": [
       "    tipo select clasific  semilla  accuracy  precision    recall  f1_score  \\\n",
       "0  mul_m     RF    LR_L1     9322  0.551724   0.562265  0.579557  0.550455   \n",
       "0  mul_m     RF    LR_EN     9322  0.597701   0.606404  0.620826  0.590984   \n",
       "0  mul_m     MI      SVM     9322  0.551724   0.581092  0.581892  0.573695   \n",
       "\n",
       "   roc_auc  hostname  total_time_sec                    datetime  \\\n",
       "0      NaN  enderlab            1679  2023-10-30 07:02:39.208366   \n",
       "0      NaN  enderlab            1693  2023-10-30 06:34:31.547074   \n",
       "0      NaN  enderlab             225  2023-10-30 06:06:10.582141   \n",
       "\n",
       "                   fichero_modelo  \\\n",
       "0  modelo_9322_mul_m_RF_LR_L1.pkl   \n",
       "0  modelo_9322_mul_m_RF_LR_EN.pkl   \n",
       "0    modelo_9322_mul_m_MI_SVM.pkl   \n",
       "\n",
       "                                              params               shape  \\\n",
       "0  {'selector__max_features': 1000, 'selector__es...  X_test:(87, 18875)   \n",
       "0  {'selector__max_features': 1000, 'selector__es...  X_test:(87, 18875)   \n",
       "0  {'selector__k': 1000, 'clasifier__kernel': 'rb...  X_test:(87, 18875)   \n",
       "\n",
       "                                            features  roc_auc_ovr  \\\n",
       "0  ['ENSG00000004799.8', 'ENSG00000006327.14', 'E...     0.843777   \n",
       "0  ['ENSG00000004799.8', 'ENSG00000006327.14', 'E...     0.864495   \n",
       "0  ['ENSG00000001084.13', 'ENSG00000001460.18', '...     0.824191   \n",
       "\n",
       "                                         indices_auc  \\\n",
       "0  [0.7359154929577465, 0.8944444444444445, 0.729...   \n",
       "0  [0.7746478873239437, 0.9009259259259259, 0.755...   \n",
       "0  [0.7904929577464789, 0.8027777777777778, 0.723...   \n",
       "\n",
       "                                     indices_jaccard  \n",
       "0  [0.3, 0.5263157894736842, 0.23809523809523808,...  \n",
       "0  [0.3, 0.5789473684210527, 0.2777777777777778, ...  \n",
       "0  [0.30434782608695654, 0.3888888888888889, 0.23...  "
      ]
     },
     "metadata": {},
     "output_type": "display_data"
    }
   ],
   "source": [
    "if M_TIPO.startswith(\"bin\"):\n",
    "    myfunc.save_metricas_to_csv(random_search, X_test, y_test, M_TIPO, M_SELECT, M_CLASIF, total_time, SEMILLA, myfunc.MET_DIR, M_FICHERO, fichero_modelo)\n",
    "else:\n",
    "    myfunc.save_metricas_multi_to_csv(random_search, X_test, y_test, M_TIPO, M_SELECT, M_CLASIF, total_time, SEMILLA, myfunc.MET_DIR, M_FICHERO, fichero_modelo)\n",
    "\n",
    "df1=myfunc.read_metricas_to_df(myfunc.MET_DIR,M_FICHERO)\n",
    "\n",
    "display(df1.sort_values(\"datetime\", ascending=False)[:3])\n"
   ]
  },
  {
   "cell_type": "markdown",
   "id": "8e55737f",
   "metadata": {
    "papermill": {
     "duration": 0.006319,
     "end_time": "2023-10-30T06:02:39.269600",
     "exception": false,
     "start_time": "2023-10-30T06:02:39.263281",
     "status": "completed"
    },
    "tags": []
   },
   "source": [
    "#### Guardar resultados"
   ]
  },
  {
   "cell_type": "code",
   "execution_count": 13,
   "id": "18e3506f",
   "metadata": {
    "execution": {
     "iopub.execute_input": "2023-10-30T06:02:39.283490Z",
     "iopub.status.busy": "2023-10-30T06:02:39.283052Z",
     "iopub.status.idle": "2023-10-30T06:02:39.291510Z",
     "shell.execute_reply": "2023-10-30T06:02:39.291000Z"
    },
    "papermill": {
     "duration": 0.016968,
     "end_time": "2023-10-30T06:02:39.292782",
     "exception": false,
     "start_time": "2023-10-30T06:02:39.275814",
     "status": "completed"
    },
    "tags": []
   },
   "outputs": [
    {
     "name": "stdout",
     "output_type": "stream",
     "text": [
      "20231030T070239 : enderlab : INFO : Inicio guardar resultados\n",
      "20231030T070239 : enderlab : INFO : Inicio guardar fichero ../tfm_git/ejecuciones/metricas/resultados_9322_mul_m-RF-LR_L1.csv\n",
      "20231030T070239 : enderlab : INFO : Fin guardar fichero ../tfm_git/ejecuciones/metricas/resultados_9322_mul_m-RF-LR_L1.csv\n",
      "20231030T070239 : enderlab : INFO : Fin guardar resultados\n"
     ]
    }
   ],
   "source": [
    "fichero_resultados=R_FICHERO+\"_\"+M_TIPO+\"-\"+M_SELECT+\"-\"+M_CLASIF+\".csv\"\n",
    "myfunc.save_resultados_to_csv(M_TIPO, M_SELECT, M_CLASIF,  random_search, myfunc.MET_DIR, fichero_resultados)\n"
   ]
  }
 ],
 "metadata": {
  "kernelspec": {
   "display_name": "Python 3 (ipykernel)",
   "language": "python",
   "name": "python3"
  },
  "language_info": {
   "codemirror_mode": {
    "name": "ipython",
    "version": 3
   },
   "file_extension": ".py",
   "mimetype": "text/x-python",
   "name": "python",
   "nbconvert_exporter": "python",
   "pygments_lexer": "ipython3",
   "version": "3.10.11"
  },
  "papermill": {
   "default_parameters": {},
   "duration": 1686.026048,
   "end_time": "2023-10-30T06:02:41.917679",
   "environment_variables": {},
   "exception": null,
   "input_path": "03_entrenamiento.ipynb",
   "output_path": "ejecuciones/training/03_entrenamiento.20231030T063435.param_0000_9322_mul_m_RF_LR_L1.output.ipynb",
   "parameters": {
    "MAX_ITERS": 500,
    "M_CLASIF": "LR_L1",
    "M_FICHERO": "metricas_9322",
    "M_SELECT": "RF",
    "M_TIPO": "mul_m",
    "PRE_DATA_FILE": "rows_transpose_norm_by_gene_id_with_target_num_",
    "P_FICHERO": "param_0000_9322_mul_m_RF_LR_L1.yaml",
    "R_FICHERO": "resultados_9322",
    "SCORING": "roc_auc_ovr",
    "SEMILLA": 9322,
    "eval_clasifier": "LogisticRegressionCV(random_state=SEMILLA)",
    "eval_selector": "SelectFromModel(estimator=RandomForestClassifier(random_state=SEMILLA), threshold=-np.inf)",
    "param_distributions": {
     "clasifier__max_iter": [
      10000
     ],
     "clasifier__penalty": [
      "l1"
     ],
     "clasifier__solver": [
      "saga"
     ],
     "selector__estimator__n_estimators": [
      400
     ],
     "selector__max_features": [
      1000
     ]
    }
   },
   "start_time": "2023-10-30T05:34:35.891631",
   "version": "2.4.0"
  }
 },
 "nbformat": 4,
 "nbformat_minor": 5
}