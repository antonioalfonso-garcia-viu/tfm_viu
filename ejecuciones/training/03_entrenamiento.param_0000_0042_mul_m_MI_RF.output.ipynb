{
 "cells": [
  {
   "cell_type": "markdown",
   "id": "ee0cbef7",
   "metadata": {
    "papermill": {
     "duration": 0.004195,
     "end_time": "2023-10-27T20:16:36.640689",
     "exception": false,
     "start_time": "2023-10-27T20:16:36.636494",
     "status": "completed"
    },
    "tags": []
   },
   "source": [
    "##### Inicio"
   ]
  },
  {
   "cell_type": "markdown",
   "id": "fb8f5dc0",
   "metadata": {
    "papermill": {
     "duration": 0.003379,
     "end_time": "2023-10-27T20:16:36.647737",
     "exception": false,
     "start_time": "2023-10-27T20:16:36.644358",
     "status": "completed"
    },
    "tags": []
   },
   "source": [
    "#### Carga de datos"
   ]
  },
  {
   "cell_type": "code",
   "execution_count": 1,
   "id": "a2b0c76a",
   "metadata": {
    "execution": {
     "iopub.execute_input": "2023-10-27T20:16:36.656210Z",
     "iopub.status.busy": "2023-10-27T20:16:36.655659Z",
     "iopub.status.idle": "2023-10-27T20:16:37.537777Z",
     "shell.execute_reply": "2023-10-27T20:16:37.537192Z"
    },
    "papermill": {
     "duration": 0.887885,
     "end_time": "2023-10-27T20:16:37.539108",
     "exception": false,
     "start_time": "2023-10-27T20:16:36.651223",
     "status": "completed"
    },
    "tags": []
   },
   "outputs": [
    {
     "name": "stdout",
     "output_type": "stream",
     "text": [
      "CPU_COUNT: 8; NODE: amilcar22; sys.version: 3.10.12 (main, Jul  5 2023, 19:22:19) [GCC 11.2.0]\n",
      "LOKY_MAX_CPU_COUNT: 6\n",
      "OMP_NUM_THREADS: 2\n"
     ]
    }
   ],
   "source": [
    "import os\n",
    "import numpy as np\n",
    "import pandas as pd\n",
    "import datetime\n",
    "import sklearn\n",
    "import logging\n",
    "import warnings\n",
    "\n",
    "from sklearn.pipeline import Pipeline\n",
    "from sklearn.model_selection import RandomizedSearchCV, KFold, cross_val_score, train_test_split\n",
    "from sklearn.metrics import accuracy_score, confusion_matrix, classification_report, roc_auc_score\n",
    "\n",
    "#  cargar algoritmos para aprendizaje supervisado\n",
    "from sklearn.feature_selection import SelectKBest, f_classif, SelectFromModel, mutual_info_classif\n",
    "from sklearn.svm import SVC\n",
    "from sklearn.ensemble import RandomForestClassifier\n",
    "from sklearn.linear_model import LogisticRegression,LogisticRegressionCV\n",
    "\n",
    "# importar fichero con utilidades propias\n",
    "from commons import myfunctions as myfunc\n"
   ]
  },
  {
   "cell_type": "markdown",
   "id": "71e0e18d",
   "metadata": {
    "papermill": {
     "duration": 0.002608,
     "end_time": "2023-10-27T20:16:37.544579",
     "exception": false,
     "start_time": "2023-10-27T20:16:37.541971",
     "status": "completed"
    },
    "tags": []
   },
   "source": [
    "#### Parámetros a utilizar en el entrenamiento.\n",
    "\n",
    "Se indican los 3 algoritmos de *selección de características* (eval_selector_xxx) y los 3 algoritmos para la _clasificación_ (eval_clasifier_xxx)\n",
    "\n",
    "En *param_distributions* se indicar los parámetros que utilizan los algoritmos en la función RandomSearchCV.\n",
    "\n",
    "Esta celda tiene la etiqueta **parameters** que servirá para poder lanzar los entrenamientos con la utilidad **papermill** pasándole un fichero con los parámetros. Los nuevos parámetros se situarán tras esta celda para tener prevalencia."
   ]
  },
  {
   "cell_type": "code",
   "execution_count": 2,
   "id": "069acdc5",
   "metadata": {
    "execution": {
     "iopub.execute_input": "2023-10-27T20:16:37.550660Z",
     "iopub.status.busy": "2023-10-27T20:16:37.550361Z",
     "iopub.status.idle": "2023-10-27T20:16:37.557742Z",
     "shell.execute_reply": "2023-10-27T20:16:37.557188Z"
    },
    "papermill": {
     "duration": 0.011853,
     "end_time": "2023-10-27T20:16:37.558907",
     "exception": false,
     "start_time": "2023-10-27T20:16:37.547054",
     "status": "completed"
    },
    "tags": [
     "parameters"
    ]
   },
   "outputs": [
    {
     "name": "stdout",
     "output_type": "stream",
     "text": [
      "20231027T221637 : amilcar22 : INFO : Utilizando parámetros de mul_m\n"
     ]
    }
   ],
   "source": [
    "#  Parametros para el entrenamiento\n",
    "\n",
    "SEMILLA=        42\n",
    "M_TIPO=         \"mul_m\"\n",
    "M_SELECT=       \"MI\"\n",
    "M_CLASIF=       \"SVM\"\n",
    "R_FICHERO=      \"resultados\"\n",
    "M_FICHERO=      \"metricas\"\n",
    "PRE_DATA_FILE=  \"rows_transpose_norm_by_gene_id_with_target_num_\"\n",
    "SCORING=        \"roc_auc_ovr\" \n",
    "MAX_ITERS=      100\n",
    "\n",
    "def mutual_info_classif_state(X, y):\n",
    "    return mutual_info_classif(X, y, random_state=SEMILLA)\n",
    "\n",
    "eval_selector_mi = \"SelectKBest(score_func=mutual_info_classif_state)\"\n",
    "eval_selector_rf=  \"SelectFromModel(estimator=RandomForestClassifier(random_state=SEMILLA), threshold=-np.inf)\"\n",
    "eval_selector_anova=  \"SelectKBest(score_func=f_classif)\"\n",
    "\n",
    "eval_clasifier_svm= \"SVC(probability=True, random_state=SEMILLA)\"\n",
    "eval_clasifier_rf= \"RandomForestClassifier(random_state=SEMILLA)\"\n",
    "eval_clasifier_lr= \"LogisticRegressionCV(random_state=SEMILLA)\"\n",
    "\n",
    "if M_TIPO.startswith(\"bin_m\"):\n",
    "    myfunc.verbose(f\"Utilizando parámetros de {M_TIPO}\")\n",
    "    eval_selector = eval_selector_mi\n",
    "    eval_clasifier = eval_clasifier_svm\n",
    "\n",
    "    SEMILLA = 6578\n",
    "    M_SELECT = \"MI\"\n",
    "    M_CLASIF = \"SVM\"\n",
    "    param_distributions = {'selector__k': [1000], \n",
    "         'clasifier__kernel': ['rbf'], 'clasifier__gamma': [0.01], 'clasifier__C': [100]}\n",
    "elif M_TIPO.startswith(\"bin_s\"):\n",
    "    myfunc.verbose(f\"Utilizando parámetros de {M_TIPO}\")\n",
    "    eval_selector = eval_selector_rf\n",
    "    eval_clasifier = eval_clasifier_lr\n",
    "\n",
    "    SEMILLA = 6191\n",
    "    M_SELECT = \"RF\"\n",
    "    M_CLASIF = \"LR_L2\"\n",
    "    param_distributions = {'selector__max_features': [1000], 'selector__estimator__n_estimators': [200], \n",
    "        'clasifier__solver': ['lbfgs'], 'clasifier__penalty': ['l2'], 'clasifier__max_iter': [10000]}\n",
    "\n",
    "elif M_TIPO.startswith(\"mul_m\"):\n",
    "    myfunc.verbose(f\"Utilizando parámetros de {M_TIPO}\")\n",
    " \n",
    "    eval_selector = eval_selector_rf\n",
    "    eval_clasifier = eval_clasifier_lr\n",
    "\n",
    "    SEMILLA = 6191\n",
    "    M_SELECT = \"RF\"\n",
    "    M_CLASIF = \"LR_L2\"\n",
    "    param_distributions = {'selector__max_features': [1000], 'selector__estimator__n_estimators': [400], \n",
    "        'clasifier__solver': ['lbfgs'], 'clasifier__penalty': ['l2'], 'clasifier__max_iter': [10000]}\n",
    "\n",
    "else:\n",
    "    # M_TIPO.startswith(\"mul_s\"):\n",
    "    myfunc.verbose(f\"Utilizando parámetros de {M_TIPO}\")\n",
    "    eval_selector = eval_selector_anova\n",
    "    eval_clasifier = eval_clasifier_lr\n",
    "\n",
    "    SEMILLA = 1860\n",
    "    M_SELECT = \"ANOVA\"\n",
    "    M_CLASIF = \"LR_L2\"\n",
    "    param_distributions = {'selector__k': [1000], \n",
    "        'clasifier__solver': ['saga'], 'clasifier__penalty': ['l2'], 'clasifier__max_iter': [10000]}\n",
    "\n"
   ]
  },
  {
   "cell_type": "code",
   "execution_count": 3,
   "id": "f8ee7c03",
   "metadata": {
    "execution": {
     "iopub.execute_input": "2023-10-27T20:16:37.564834Z",
     "iopub.status.busy": "2023-10-27T20:16:37.564653Z",
     "iopub.status.idle": "2023-10-27T20:16:37.568443Z",
     "shell.execute_reply": "2023-10-27T20:16:37.567937Z"
    },
    "papermill": {
     "duration": 0.008124,
     "end_time": "2023-10-27T20:16:37.569666",
     "exception": false,
     "start_time": "2023-10-27T20:16:37.561542",
     "status": "completed"
    },
    "tags": [
     "injected-parameters"
    ]
   },
   "outputs": [],
   "source": [
    "# Parameters\n",
    "M_TIPO = \"mul_m\"\n",
    "M_SELECT = \"MI\"\n",
    "M_CLASIF = \"RF\"\n",
    "P_FICHERO = \"param_0000_0042_mul_m_MI_RF.yaml\"\n",
    "R_FICHERO = \"resultados_0042\"\n",
    "M_FICHERO = \"metricas_0042\"\n",
    "PRE_DATA_FILE = \"rows_transpose_norm_by_gene_id_with_target_num_\"\n",
    "SCORING = \"roc_auc_ovr\"\n",
    "SEMILLA = 42\n",
    "MAX_ITERS = 500\n",
    "eval_selector = \"SelectKBest(score_func=mutual_info_classif_state)\"\n",
    "eval_clasifier = \"RandomForestClassifier(random_state=SEMILLA)\"\n",
    "param_distributions = {\n",
    "    \"selector__k\": [1000],\n",
    "    \"clasifier__n_estimators\": [200],\n",
    "    \"clasifier__min_samples_split\": [10],\n",
    "    \"clasifier__min_samples_leaf\": [5],\n",
    "    \"clasifier__max_features\": [500],\n",
    "    \"clasifier__max_depth\": [10],\n",
    "    \"clasifier__bootstrap\": [True],\n",
    "}\n"
   ]
  },
  {
   "cell_type": "code",
   "execution_count": 4,
   "id": "28701e78",
   "metadata": {
    "execution": {
     "iopub.execute_input": "2023-10-27T20:16:37.575671Z",
     "iopub.status.busy": "2023-10-27T20:16:37.575512Z",
     "iopub.status.idle": "2023-10-27T20:16:37.578528Z",
     "shell.execute_reply": "2023-10-27T20:16:37.578021Z"
    },
    "papermill": {
     "duration": 0.007271,
     "end_time": "2023-10-27T20:16:37.579622",
     "exception": false,
     "start_time": "2023-10-27T20:16:37.572351",
     "status": "completed"
    },
    "tags": []
   },
   "outputs": [],
   "source": [
    "DATA_FILE = PRE_DATA_FILE + M_TIPO\n",
    "\n",
    "# si viene \"None\" en el parámetro max_depth, se le quitan las comillas para que no sea entendido por el algoritmo como un texto\n",
    "if \"clasifier__max_depth\" in param_distributions:\n",
    "    param_distributions['clasifier__max_depth'] = [None if x == 'None' else x for x in param_distributions['clasifier__max_depth']]"
   ]
  },
  {
   "cell_type": "markdown",
   "id": "1e9e0a46",
   "metadata": {
    "papermill": {
     "duration": 0.002597,
     "end_time": "2023-10-27T20:16:37.584858",
     "exception": false,
     "start_time": "2023-10-27T20:16:37.582261",
     "status": "completed"
    },
    "tags": []
   },
   "source": [
    "Asignar los algoritmos que se utilizarán en la función RandomSearchCV"
   ]
  },
  {
   "cell_type": "code",
   "execution_count": 5,
   "id": "686c6170",
   "metadata": {
    "execution": {
     "iopub.execute_input": "2023-10-27T20:16:37.590852Z",
     "iopub.status.busy": "2023-10-27T20:16:37.590674Z",
     "iopub.status.idle": "2023-10-27T20:16:37.593678Z",
     "shell.execute_reply": "2023-10-27T20:16:37.593121Z"
    },
    "papermill": {
     "duration": 0.007563,
     "end_time": "2023-10-27T20:16:37.595047",
     "exception": false,
     "start_time": "2023-10-27T20:16:37.587484",
     "status": "completed"
    },
    "tags": []
   },
   "outputs": [],
   "source": [
    "algor_selector=eval(eval_selector)\n",
    "algor_clasifier=eval(eval_clasifier)"
   ]
  },
  {
   "cell_type": "markdown",
   "id": "fc50f8dd",
   "metadata": {
    "papermill": {
     "duration": 0.003471,
     "end_time": "2023-10-27T20:16:37.601979",
     "exception": false,
     "start_time": "2023-10-27T20:16:37.598508",
     "status": "completed"
    },
    "tags": []
   },
   "source": [
    "#### Comprobar el entorno y leer fichero de muestras"
   ]
  },
  {
   "cell_type": "code",
   "execution_count": 6,
   "id": "c5877702",
   "metadata": {
    "execution": {
     "iopub.execute_input": "2023-10-27T20:16:37.609517Z",
     "iopub.status.busy": "2023-10-27T20:16:37.609327Z",
     "iopub.status.idle": "2023-10-27T20:16:37.772306Z",
     "shell.execute_reply": "2023-10-27T20:16:37.771706Z"
    },
    "papermill": {
     "duration": 0.168153,
     "end_time": "2023-10-27T20:16:37.773530",
     "exception": false,
     "start_time": "2023-10-27T20:16:37.605377",
     "status": "completed"
    },
    "tags": []
   },
   "outputs": [
    {
     "name": "stdout",
     "output_type": "stream",
     "text": [
      "20231027T221637 : amilcar22 : INFO : Encontrada carpeta DATA_DIR=../tfm_git/datos\n",
      "20231027T221637 : amilcar22 : INFO : Encontrada carpeta CFDNA_DIR=../tfm_git/datos/cfDNA_5hmC\n",
      "20231027T221637 : amilcar22 : INFO : Encontrada carpeta GENCODE_DIR=../tfm_git/datos/gencode\n",
      "20231027T221637 : amilcar22 : INFO : Encontrada carpeta H5_DIR=../tfm_git/datos/h5\n",
      "20231027T221637 : amilcar22 : INFO : Encontrada carpeta LOG_DIR=../tfm_git/datos/logs\n",
      "20231027T221637 : amilcar22 : INFO : Encontrada carpeta CSV_DIR=../tfm_git/datos/csv\n",
      "20231027T221637 : amilcar22 : INFO : Encontrada carpeta MODEL_DIR=../tfm_git/ejecuciones/modelos\n",
      "20231027T221637 : amilcar22 : INFO : Encontrada carpeta EXEC_DIR=../tfm_git/ejecuciones\n",
      "20231027T221637 : amilcar22 : INFO : Encontrada carpeta MET_DIR=../tfm_git/ejecuciones/metricas\n",
      "20231027T221637 : amilcar22 : INFO : Inicio leer fichero h5 ../tfm_git/datos/h5/rows_transpose_norm_by_gene_id_with_target_num_mul_m.h5\n",
      "20231027T221637 : amilcar22 : INFO : Leyendo clave /df\n",
      "20231027T221637 : amilcar22 : INFO : Tamaño (434, 18876)\n",
      "20231027T221637 : amilcar22 : INFO : Fin leer fichero h5 ../tfm_git/datos/h5/rows_transpose_norm_by_gene_id_with_target_num_mul_m.h5\n"
     ]
    },
    {
     "data": {
      "text/plain": [
       "target\n",
       "0    62\n",
       "1    62\n",
       "2    62\n",
       "3    62\n",
       "4    62\n",
       "5    62\n",
       "6    62\n",
       "dtype: int64"
      ]
     },
     "metadata": {},
     "output_type": "display_data"
    },
    {
     "name": "stdout",
     "output_type": "stream",
     "text": [
      "Shape df: (434, 18876)\n",
      "Shape X_train: (347, 18875)\n",
      "Shape X_test: (87, 18875)\n"
     ]
    }
   ],
   "source": [
    "start_time = datetime.datetime.now()\n",
    "\n",
    "myfunc.reset_vars()\n",
    "\n",
    "myfunc.NOTEBK_FILENAME = myfunc.get_nb_name()\n",
    "\n",
    "myfunc.check_enviroment(myfunc.DATA_DIR, myfunc.CFDNA_DIR, myfunc.GENCODE_DIR, myfunc.H5_DIR, myfunc.LOG_DIR, myfunc.CSV_DIR, myfunc.MODEL_DIR, myfunc.EXEC_DIR, myfunc.MET_DIR)\n",
    "\n",
    "# Leer fichero con las muestras\n",
    "df_t = myfunc.read_h5_to_df(DATA_FILE, myfunc.H5_DIR)\n",
    "display(df_t.groupby(\"target\").size())\n",
    "print(\"Shape df:\",df_t.shape)\n",
    "\n",
    "# Separar caracteristicas/genes de las etiquetas/tipos de cáncer\n",
    "X = df_t.iloc[:, :-1]  # Todas las columnas excepto la última\n",
    "y = df_t.iloc[:, -1]  # La última columna contiene los identificadores de los tipos de cáncer\n",
    "\n",
    "#  Crear el conjunto de datos de entrenamiento y de pruebas\n",
    "X_train, X_test, y_train, y_test = train_test_split(X, y, test_size=0.2, shuffle=True, random_state=SEMILLA)\n",
    "print(\"Shape X_train:\",X_train.shape)\n",
    "print(\"Shape X_test:\",X_test.shape)\n"
   ]
  },
  {
   "cell_type": "markdown",
   "id": "ba52fe42",
   "metadata": {
    "papermill": {
     "duration": 0.002792,
     "end_time": "2023-10-27T20:16:37.779553",
     "exception": false,
     "start_time": "2023-10-27T20:16:37.776761",
     "status": "completed"
    },
    "tags": []
   },
   "source": [
    "#### Selección de características y clasificación."
   ]
  },
  {
   "cell_type": "code",
   "execution_count": 7,
   "id": "1c8b391e",
   "metadata": {
    "execution": {
     "iopub.execute_input": "2023-10-27T20:16:37.786014Z",
     "iopub.status.busy": "2023-10-27T20:16:37.785847Z",
     "iopub.status.idle": "2023-10-27T20:20:21.525601Z",
     "shell.execute_reply": "2023-10-27T20:20:21.525012Z"
    },
    "papermill": {
     "duration": 223.746831,
     "end_time": "2023-10-27T20:20:21.529190",
     "exception": false,
     "start_time": "2023-10-27T20:16:37.782359",
     "status": "completed"
    },
    "tags": []
   },
   "outputs": [
    {
     "name": "stdout",
     "output_type": "stream",
     "text": [
      "20231027T221637 : amilcar22 : INFO : Iniciando entrenamiento\n",
      "num_iter: 1 , max_iter: 1\n",
      "Fitting 5 folds for each of 1 candidates, totalling 5 fits\n"
     ]
    },
    {
     "name": "stdout",
     "output_type": "stream",
     "text": [
      "Mejores Hiperparámetros: {'selector__k': 1000, 'clasifier__n_estimators': 200, 'clasifier__min_samples_split': 10, 'clasifier__min_samples_leaf': 5, 'clasifier__max_features': 500, 'clasifier__max_depth': 10, 'clasifier__bootstrap': True}\n",
      "Mejor Puntuación: 0.8173\n",
      "20231027T222021 : amilcar22 : INFO : Fin entrenamiento\n"
     ]
    }
   ],
   "source": [
    "myfunc.verbose(\"Iniciando entrenamiento\")\n",
    "\n",
    "kf = KFold(n_splits=5, shuffle=True, random_state=SEMILLA)\n",
    "\n",
    "# Crear el pipeline para el flujo de tareas\n",
    "tasks_pipeline = Pipeline([\n",
    "    ('selector', algor_selector),\n",
    "    ('clasifier', algor_clasifier)\n",
    "])\n",
    "\n",
    "# MAX_ITERS puede limitar el número de iteraciones si son excesivas para las combinaciones de parámetros buscando un óptimo local, \n",
    "# sino funcionaría como GridSearchCV al revisar todas las cominaciones de los parámetros\n",
    "num_iteraciones = 1\n",
    "num_iteraciones = num_iteraciones * np.prod([len(elemento1) for _, elemento1 in param_distributions.items()])\n",
    "max_iteraciones = num_iteraciones if num_iteraciones <= MAX_ITERS else MAX_ITERS\n",
    "print(\"num_iter:\",num_iteraciones,\", max_iter:\",max_iteraciones)\n",
    "\n",
    "random_search = RandomizedSearchCV(\n",
    "    tasks_pipeline, \n",
    "    param_distributions, \n",
    "    n_iter=max_iteraciones,\n",
    "    scoring=SCORING,\n",
    "    cv=kf,\n",
    "    verbose=3, \n",
    "    random_state=SEMILLA, \n",
    "    n_jobs=-1\n",
    "    )\n",
    "\n",
    "# Entrenar el modelo\n",
    "random_search.fit(X_train, y_train)\n",
    "\n",
    "# Ver los mejores hiperparámetros encontrados\n",
    "print(f'Mejores Hiperparámetros: {random_search.best_params_}')\n",
    "print(f'Mejor Puntuación: {random_search.best_score_:.4f}')\n",
    "\n",
    "# Nos quedamos con el mejor modelo para ver las métricas\n",
    "mejor_modelo = random_search.best_estimator_\n",
    "\n",
    "myfunc.verbose(\"Fin entrenamiento\")"
   ]
  },
  {
   "cell_type": "markdown",
   "id": "83ab5d82",
   "metadata": {
    "papermill": {
     "duration": 0.002878,
     "end_time": "2023-10-27T20:20:21.535055",
     "exception": false,
     "start_time": "2023-10-27T20:20:21.532177",
     "status": "completed"
    },
    "tags": []
   },
   "source": [
    "#### Guardar modelo"
   ]
  },
  {
   "cell_type": "code",
   "execution_count": 8,
   "id": "58819f1c",
   "metadata": {
    "execution": {
     "iopub.execute_input": "2023-10-27T20:20:21.541678Z",
     "iopub.status.busy": "2023-10-27T20:20:21.541476Z",
     "iopub.status.idle": "2023-10-27T20:20:21.608430Z",
     "shell.execute_reply": "2023-10-27T20:20:21.607798Z"
    },
    "papermill": {
     "duration": 0.071722,
     "end_time": "2023-10-27T20:20:21.609659",
     "exception": false,
     "start_time": "2023-10-27T20:20:21.537937",
     "status": "completed"
    },
    "tags": []
   },
   "outputs": [
    {
     "name": "stdout",
     "output_type": "stream",
     "text": [
      "20231027T222021 : amilcar22 : INFO : Inicio guardar fichero ../tfm_git/ejecuciones/modelos/modelo_0042_mul_m_MI_RF.pkl\n",
      "20231027T222021 : amilcar22 : INFO : Fin guardar fichero ../tfm_git/ejecuciones/modelos/modelo_0042_mul_m_MI_RF.pkl\n"
     ]
    }
   ],
   "source": [
    "fichero_modelo = str.replace(\"modelo_\"+str(SEMILLA).zfill(4)+\"_\"+M_TIPO+\"_\"+M_SELECT+\"_\"+M_CLASIF+\".pkl\", \" \", \"_\")\n",
    "\n",
    "myfunc.save_modelo(mejor_modelo, myfunc.MODEL_DIR, fichero_modelo)"
   ]
  },
  {
   "cell_type": "markdown",
   "id": "91f0c15f",
   "metadata": {
    "papermill": {
     "duration": 0.003189,
     "end_time": "2023-10-27T20:20:21.616065",
     "exception": false,
     "start_time": "2023-10-27T20:20:21.612876",
     "status": "completed"
    },
    "tags": []
   },
   "source": [
    "#### Ver resultados del las iteraciones hechas por RandomSearchCV"
   ]
  },
  {
   "cell_type": "code",
   "execution_count": 9,
   "id": "347cbbce",
   "metadata": {
    "execution": {
     "iopub.execute_input": "2023-10-27T20:20:21.622769Z",
     "iopub.status.busy": "2023-10-27T20:20:21.622570Z",
     "iopub.status.idle": "2023-10-27T20:20:21.628582Z",
     "shell.execute_reply": "2023-10-27T20:20:21.628098Z"
    },
    "papermill": {
     "duration": 0.010688,
     "end_time": "2023-10-27T20:20:21.629659",
     "exception": false,
     "start_time": "2023-10-27T20:20:21.618971",
     "status": "completed"
    },
    "tags": []
   },
   "outputs": [
    {
     "name": "stdout",
     "output_type": "stream",
     "text": [
      "20231027T222021 : amilcar22 : INFO : Inicio ver resultados\n",
      "Mejores Hiperparámetros: {'selector__k': 1000, 'clasifier__n_estimators': 200, 'clasifier__min_samples_split': 10, 'clasifier__min_samples_leaf': 5, 'clasifier__max_features': 500, 'clasifier__max_depth': 10, 'clasifier__bootstrap': True}\n",
      "Mejores puntuaciones: 0.8173 | Params: {'selector__k': 1000, 'clasifier__n_estimators': 200, 'clasifier__min_samples_split': 10, 'clasifier__min_samples_leaf': 5, 'clasifier__max_features': 500, 'clasifier__max_depth': 10, 'clasifier__bootstrap': True}\n",
      "Media de las puntuaciones: 0.8173 | Params: {'selector__k': 1000, 'clasifier__n_estimators': 200, 'clasifier__min_samples_split': 10, 'clasifier__min_samples_leaf': 5, 'clasifier__max_features': 500, 'clasifier__max_depth': 10, 'clasifier__bootstrap': True}\n",
      "20231027T222021 : amilcar22 : INFO : Fin resultados\n"
     ]
    }
   ],
   "source": [
    "myfunc.ver_resultados_search(random_search)"
   ]
  },
  {
   "cell_type": "markdown",
   "id": "2570c1d6",
   "metadata": {
    "papermill": {
     "duration": 0.003137,
     "end_time": "2023-10-27T20:20:21.635959",
     "exception": false,
     "start_time": "2023-10-27T20:20:21.632822",
     "status": "completed"
    },
    "tags": []
   },
   "source": [
    "#### Ver métricas del mejor modelo"
   ]
  },
  {
   "cell_type": "code",
   "execution_count": 10,
   "id": "888d5630",
   "metadata": {
    "execution": {
     "iopub.execute_input": "2023-10-27T20:20:21.642905Z",
     "iopub.status.busy": "2023-10-27T20:20:21.642742Z",
     "iopub.status.idle": "2023-10-27T20:20:22.269174Z",
     "shell.execute_reply": "2023-10-27T20:20:22.268703Z"
    },
    "papermill": {
     "duration": 0.63127,
     "end_time": "2023-10-27T20:20:22.270280",
     "exception": false,
     "start_time": "2023-10-27T20:20:21.639010",
     "status": "completed"
    },
    "tags": []
   },
   "outputs": [
    {
     "name": "stdout",
     "output_type": "stream",
     "text": [
      "20231027T222021 : amilcar22 : INFO : Inicio ver métricas multiclase\n"
     ]
    },
    {
     "name": "stdout",
     "output_type": "stream",
     "text": [
      "              precision    recall  f1-score   support\n",
      "\n",
      "           0       0.00      0.00      0.00        16\n",
      "           1       0.67      0.67      0.67        15\n",
      "           2       0.27      0.27      0.27        11\n",
      "           3       0.18      0.60      0.27         5\n",
      "           4       0.53      0.69      0.60        13\n",
      "           5       0.55      0.67      0.60         9\n",
      "           6       0.62      0.44      0.52        18\n",
      "\n",
      "    accuracy                           0.45        87\n",
      "   macro avg       0.40      0.48      0.42        87\n",
      "weighted avg       0.42      0.45      0.42        87\n",
      "\n",
      "\n",
      "\n",
      "           Exactitud: 0.448276\n",
      "   Precisión (media): 0.400874\n",
      "      Recall (media): 0.477545\n",
      "    F1-score (media): 0.418321\n",
      "\n",
      "\n",
      "AUC para el tipo de cáncer 0-Control.... 0.6488\n",
      "AUC para el tipo de cáncer 1-Bladder.... 0.8620\n",
      "AUC para el tipo de cáncer 2-Breast..... 0.7596\n",
      "AUC para el tipo de cáncer 3-Colorectal. 0.8902\n",
      "AUC para el tipo de cáncer 4-Kidney..... 0.8160\n"
     ]
    },
    {
     "name": "stdout",
     "output_type": "stream",
     "text": [
      "AUC para el tipo de cáncer 5-Lung....... 0.8818\n",
      "AUC para el tipo de cáncer 6-Prostate... 0.8188\n",
      "\n",
      "Media de AUC: 0.8110\n"
     ]
    },
    {
     "data": {
      "image/png": "[encoded data removed]",
      "text/plain": [
       "<Figure size 1000x600 with 1 Axes>"
      ]
     },
     "metadata": {},
     "output_type": "display_data"
    },
    {
     "name": "stdout",
     "output_type": "stream",
     "text": [
      "\n",
      "\n"
     ]
    },
    {
     "data": {
      "image/png": "[encoded data removed]",
      "text/plain": [
       "<Figure size 800x400 with 2 Axes>"
      ]
     },
     "metadata": {},
     "output_type": "display_data"
    },
    {
     "name": "stdout",
     "output_type": "stream",
     "text": [
      "\n",
      "\n",
      "Puntuación Jaccard para el cáncer tipo 0-Control.... 0.0000\n",
      "Puntuación Jaccard para el cáncer tipo 1-Bladder.... 0.5000\n",
      "Puntuación Jaccard para el cáncer tipo 2-Breast..... 0.1579\n",
      "Puntuación Jaccard para el cáncer tipo 3-Colorectal. 0.1579\n",
      "Puntuación Jaccard para el cáncer tipo 4-Kidney..... 0.4286\n",
      "Puntuación Jaccard para el cáncer tipo 5-Lung....... 0.4286\n",
      "Puntuación Jaccard para el cáncer tipo 6-Prostate... 0.3478\n",
      "\n",
      "Media de la puntuación de Jaccard: 0.2887\n"
     ]
    }
   ],
   "source": [
    "if M_TIPO.startswith(\"bin\"):\n",
    "    myfunc.ver_metricas(mejor_modelo, X_test, y_test)\n",
    "else:\n",
    "    myfunc.ver_metricas_multi(mejor_modelo, X_test, y_test)\n"
   ]
  },
  {
   "cell_type": "markdown",
   "id": "9708210b",
   "metadata": {
    "papermill": {
     "duration": 0.004121,
     "end_time": "2023-10-27T20:20:22.278938",
     "exception": false,
     "start_time": "2023-10-27T20:20:22.274817",
     "status": "completed"
    },
    "tags": []
   },
   "source": [
    "#### Finalización del notebook"
   ]
  },
  {
   "cell_type": "code",
   "execution_count": 11,
   "id": "9d1a7e78",
   "metadata": {
    "execution": {
     "iopub.execute_input": "2023-10-27T20:20:22.288221Z",
     "iopub.status.busy": "2023-10-27T20:20:22.287969Z",
     "iopub.status.idle": "2023-10-27T20:20:22.291815Z",
     "shell.execute_reply": "2023-10-27T20:20:22.291390Z"
    },
    "papermill": {
     "duration": 0.009579,
     "end_time": "2023-10-27T20:20:22.292847",
     "exception": false,
     "start_time": "2023-10-27T20:20:22.283268",
     "status": "completed"
    },
    "tags": []
   },
   "outputs": [
    {
     "name": "stdout",
     "output_type": "stream",
     "text": [
      "20231027T222022 : amilcar22 : INFO : Notebook ha tardado 224 seconds\n"
     ]
    }
   ],
   "source": [
    "end_time = datetime.datetime.now()\n",
    "total_time = end_time - start_time\n",
    "myfunc.verbose(f\"Notebook ha tardado {total_time.seconds} seconds\")"
   ]
  },
  {
   "cell_type": "markdown",
   "id": "286cb10d",
   "metadata": {
    "papermill": {
     "duration": 0.004144,
     "end_time": "2023-10-27T20:20:22.301160",
     "exception": false,
     "start_time": "2023-10-27T20:20:22.297016",
     "status": "completed"
    },
    "tags": []
   },
   "source": [
    "#### Guardar métricas"
   ]
  },
  {
   "cell_type": "code",
   "execution_count": 12,
   "id": "6fbf3cc8",
   "metadata": {
    "execution": {
     "iopub.execute_input": "2023-10-27T20:20:22.310660Z",
     "iopub.status.busy": "2023-10-27T20:20:22.310449Z",
     "iopub.status.idle": "2023-10-27T20:20:22.561744Z",
     "shell.execute_reply": "2023-10-27T20:20:22.561250Z"
    },
    "papermill": {
     "duration": 0.257536,
     "end_time": "2023-10-27T20:20:22.563052",
     "exception": false,
     "start_time": "2023-10-27T20:20:22.305516",
     "status": "completed"
    },
    "tags": []
   },
   "outputs": [
    {
     "name": "stdout",
     "output_type": "stream",
     "text": [
      "20231027T222022 : amilcar22 : INFO : Inicio guardar métricas multiclase\n",
      "20231027T222022 : amilcar22 : INFO : Inicio leer fichero ../tfm_git/ejecuciones/metricas/metricas_0042.csv\n",
      "20231027T222022 : amilcar22 : INFO : Fin leer fichero ../tfm_git/ejecuciones/metricas/metricas_0042.csv\n"
     ]
    },
    {
     "name": "stdout",
     "output_type": "stream",
     "text": [
      "20231027T222022 : amilcar22 : INFO : Inicio guardar fichero ../tfm_git/ejecuciones/metricas/metricas_0042.csv\n",
      "20231027T222022 : amilcar22 : INFO : Fichero borrado ../tfm_git/ejecuciones/metricas/metricas_0042.csv\n",
      "20231027T222022 : amilcar22 : INFO : Fin guardar fichero ../tfm_git/ejecuciones/metricas/metricas_0042.csv\n",
      "20231027T222022 : amilcar22 : INFO : Fin guardar métricas multiclase\n",
      "20231027T222022 : amilcar22 : INFO : Inicio leer fichero ../tfm_git/ejecuciones/metricas/metricas_0042.csv\n",
      "20231027T222022 : amilcar22 : INFO : Fin leer fichero ../tfm_git/ejecuciones/metricas/metricas_0042.csv\n"
     ]
    },
    {
     "data": {
      "text/html": [
       "<div>\n",
       "<style scoped>\n",
       "    .dataframe tbody tr th:only-of-type {\n",
       "        vertical-align: middle;\n",
       "    }\n",
       "\n",
       "    .dataframe tbody tr th {\n",
       "        vertical-align: top;\n",
       "    }\n",
       "\n",
       "    .dataframe thead th {\n",
       "        text-align: right;\n",
       "    }\n",
       "</style>\n",
       "<table border=\"1\" class=\"dataframe\">\n",
       "  <thead>\n",
       "    <tr style=\"text-align: right;\">\n",
       "      <th></th>\n",
       "      <th>tipo</th>\n",
       "      <th>select</th>\n",
       "      <th>clasific</th>\n",
       "      <th>accuracy</th>\n",
       "      <th>precision</th>\n",
       "      <th>recall</th>\n",
       "      <th>f1_score</th>\n",
       "      <th>roc_auc</th>\n",
       "      <th>roc_auc_ovr</th>\n",
       "      <th>hostname</th>\n",
       "      <th>total_time_sec</th>\n",
       "      <th>datetime</th>\n",
       "      <th>fichero_modelo</th>\n",
       "      <th>params</th>\n",
       "      <th>shape</th>\n",
       "      <th>features</th>\n",
       "      <th>semilla</th>\n",
       "      <th>indices_auc</th>\n",
       "      <th>indices_jaccard</th>\n",
       "    </tr>\n",
       "  </thead>\n",
       "  <tbody>\n",
       "    <tr>\n",
       "      <th>0</th>\n",
       "      <td>mul_m</td>\n",
       "      <td>MI</td>\n",
       "      <td>RF</td>\n",
       "      <td>0.448276</td>\n",
       "      <td>0.400874</td>\n",
       "      <td>0.477545</td>\n",
       "      <td>0.418321</td>\n",
       "      <td>NaN</td>\n",
       "      <td>0.811033</td>\n",
       "      <td>amilcar22</td>\n",
       "      <td>224</td>\n",
       "      <td>2023-10-27 22:20:22.517088</td>\n",
       "      <td>modelo_0042_mul_m_MI_RF.pkl</td>\n",
       "      <td>{'selector__k': 1000, 'clasifier__n_estimators...</td>\n",
       "      <td>X_test:(87, 18875)</td>\n",
       "      <td>['ENSG00000001084.13', 'ENSG00000001460.18', '...</td>\n",
       "      <td>42.0</td>\n",
       "      <td>[0.6487676056338029, 0.862037037037037, 0.7595...</td>\n",
       "      <td>[0.0, 0.5, 0.15789473684210525, 0.157894736842...</td>\n",
       "    </tr>\n",
       "    <tr>\n",
       "      <th>0</th>\n",
       "      <td>mul_m</td>\n",
       "      <td>MI</td>\n",
       "      <td>LR_L2</td>\n",
       "      <td>0.632184</td>\n",
       "      <td>0.627073</td>\n",
       "      <td>0.642836</td>\n",
       "      <td>0.621351</td>\n",
       "      <td>NaN</td>\n",
       "      <td>0.896325</td>\n",
       "      <td>amilcar22</td>\n",
       "      <td>249</td>\n",
       "      <td>2023-10-27 22:16:31.466388</td>\n",
       "      <td>modelo_0042_mul_m_MI_LR_L2.pkl</td>\n",
       "      <td>{'selector__k': 1000, 'clasifier__solver': 'lb...</td>\n",
       "      <td>X_test:(87, 18875)</td>\n",
       "      <td>['ENSG00000001084.13', 'ENSG00000001460.18', '...</td>\n",
       "      <td>42.0</td>\n",
       "      <td>[0.8855633802816901, 0.875, 0.8265550239234449...</td>\n",
       "      <td>[0.55, 0.42105263157894735, 0.2352941176470588...</td>\n",
       "    </tr>\n",
       "    <tr>\n",
       "      <th>0</th>\n",
       "      <td>mul_m</td>\n",
       "      <td>MI</td>\n",
       "      <td>LR_L1</td>\n",
       "      <td>0.632184</td>\n",
       "      <td>0.635526</td>\n",
       "      <td>0.656130</td>\n",
       "      <td>0.624401</td>\n",
       "      <td>NaN</td>\n",
       "      <td>0.896305</td>\n",
       "      <td>amilcar22</td>\n",
       "      <td>2029</td>\n",
       "      <td>2023-10-27 22:12:15.322539</td>\n",
       "      <td>modelo_0042_mul_m_MI_LR_L1.pkl</td>\n",
       "      <td>{'selector__k': 1000, 'clasifier__solver': 'sa...</td>\n",
       "      <td>X_test:(87, 18875)</td>\n",
       "      <td>['ENSG00000001084.13', 'ENSG00000001460.18', '...</td>\n",
       "      <td>42.0</td>\n",
       "      <td>[0.8934859154929577, 0.8851851851851852, 0.809...</td>\n",
       "      <td>[0.5263157894736842, 0.5, 0.23529411764705882,...</td>\n",
       "    </tr>\n",
       "  </tbody>\n",
       "</table>\n",
       "</div>"
      ],
      "text/plain": [
       "    tipo select clasific  accuracy  precision    recall  f1_score  roc_auc  \\\n",
       "0  mul_m     MI       RF  0.448276   0.400874  0.477545  0.418321      NaN   \n",
       "0  mul_m     MI    LR_L2  0.632184   0.627073  0.642836  0.621351      NaN   \n",
       "0  mul_m     MI    LR_L1  0.632184   0.635526  0.656130  0.624401      NaN   \n",
       "\n",
       "   roc_auc_ovr   hostname  total_time_sec                    datetime  \\\n",
       "0     0.811033  amilcar22             224  2023-10-27 22:20:22.517088   \n",
       "0     0.896325  amilcar22             249  2023-10-27 22:16:31.466388   \n",
       "0     0.896305  amilcar22            2029  2023-10-27 22:12:15.322539   \n",
       "\n",
       "                   fichero_modelo  \\\n",
       "0     modelo_0042_mul_m_MI_RF.pkl   \n",
       "0  modelo_0042_mul_m_MI_LR_L2.pkl   \n",
       "0  modelo_0042_mul_m_MI_LR_L1.pkl   \n",
       "\n",
       "                                              params               shape  \\\n",
       "0  {'selector__k': 1000, 'clasifier__n_estimators...  X_test:(87, 18875)   \n",
       "0  {'selector__k': 1000, 'clasifier__solver': 'lb...  X_test:(87, 18875)   \n",
       "0  {'selector__k': 1000, 'clasifier__solver': 'sa...  X_test:(87, 18875)   \n",
       "\n",
       "                                            features  semilla  \\\n",
       "0  ['ENSG00000001084.13', 'ENSG00000001460.18', '...     42.0   \n",
       "0  ['ENSG00000001084.13', 'ENSG00000001460.18', '...     42.0   \n",
       "0  ['ENSG00000001084.13', 'ENSG00000001460.18', '...     42.0   \n",
       "\n",
       "                                         indices_auc  \\\n",
       "0  [0.6487676056338029, 0.862037037037037, 0.7595...   \n",
       "0  [0.8855633802816901, 0.875, 0.8265550239234449...   \n",
       "0  [0.8934859154929577, 0.8851851851851852, 0.809...   \n",
       "\n",
       "                                     indices_jaccard  \n",
       "0  [0.0, 0.5, 0.15789473684210525, 0.157894736842...  \n",
       "0  [0.55, 0.42105263157894735, 0.2352941176470588...  \n",
       "0  [0.5263157894736842, 0.5, 0.23529411764705882,...  "
      ]
     },
     "metadata": {},
     "output_type": "display_data"
    }
   ],
   "source": [
    "if M_TIPO.startswith(\"bin\"):\n",
    "    myfunc.save_metricas_to_csv(random_search, X_test, y_test, M_TIPO, M_SELECT, M_CLASIF, total_time, SEMILLA, myfunc.MET_DIR, M_FICHERO, fichero_modelo)\n",
    "else:\n",
    "    myfunc.save_metricas_multi_to_csv(random_search, X_test, y_test, M_TIPO, M_SELECT, M_CLASIF, total_time, SEMILLA, myfunc.MET_DIR, M_FICHERO, fichero_modelo)\n",
    "\n",
    "df1=myfunc.read_metricas_to_df(myfunc.MET_DIR,M_FICHERO)\n",
    "\n",
    "display(df1.sort_values(\"datetime\", ascending=False)[:3])\n"
   ]
  },
  {
   "cell_type": "markdown",
   "id": "d18681b5",
   "metadata": {
    "papermill": {
     "duration": 0.004408,
     "end_time": "2023-10-27T20:20:22.572573",
     "exception": false,
     "start_time": "2023-10-27T20:20:22.568165",
     "status": "completed"
    },
    "tags": []
   },
   "source": [
    "#### Guardar resultados"
   ]
  },
  {
   "cell_type": "code",
   "execution_count": 13,
   "id": "bc7eecf6",
   "metadata": {
    "execution": {
     "iopub.execute_input": "2023-10-27T20:20:22.582128Z",
     "iopub.status.busy": "2023-10-27T20:20:22.581919Z",
     "iopub.status.idle": "2023-10-27T20:20:22.590107Z",
     "shell.execute_reply": "2023-10-27T20:20:22.589525Z"
    },
    "papermill": {
     "duration": 0.014439,
     "end_time": "2023-10-27T20:20:22.591363",
     "exception": false,
     "start_time": "2023-10-27T20:20:22.576924",
     "status": "completed"
    },
    "tags": []
   },
   "outputs": [
    {
     "name": "stdout",
     "output_type": "stream",
     "text": [
      "20231027T222022 : amilcar22 : INFO : Inicio guardar resultados\n",
      "20231027T222022 : amilcar22 : INFO : Inicio guardar fichero ../tfm_git/ejecuciones/metricas/resultados_0042_mul_m-MI-RF.csv\n",
      "20231027T222022 : amilcar22 : INFO : Fin guardar fichero ../tfm_git/ejecuciones/metricas/resultados_0042_mul_m-MI-RF.csv\n",
      "20231027T222022 : amilcar22 : INFO : Fin guardar resultados\n"
     ]
    }
   ],
   "source": [
    "fichero_resultados=R_FICHERO+\"_\"+M_TIPO+\"-\"+M_SELECT+\"-\"+M_CLASIF+\".csv\"\n",
    "myfunc.save_resultados_to_csv(M_TIPO, M_SELECT, M_CLASIF,  random_search, myfunc.MET_DIR, fichero_resultados)\n"
   ]
  }
 ],
 "metadata": {
  "kernelspec": {
   "display_name": "Python 3 (ipykernel)",
   "language": "python",
   "name": "python3"
  },
  "language_info": {
   "codemirror_mode": {
    "name": "ipython",
    "version": 3
   },
   "file_extension": ".py",
   "mimetype": "text/x-python",
   "name": "python",
   "nbconvert_exporter": "python",
   "pygments_lexer": "ipython3",
   "version": "3.10.12"
  },
  "papermill": {
   "default_parameters": {},
   "duration": 229.492228,
   "end_time": "2023-10-27T20:20:25.212948",
   "environment_variables": {},
   "exception": null,
   "input_path": "03_entrenamiento.ipynb",
   "output_path": "ejecuciones/training/03_entrenamiento.20231027T221635.param_0000_0042_mul_m_MI_RF.output.ipynb",
   "parameters": {
    "MAX_ITERS": 500,
    "M_CLASIF": "RF",
    "M_FICHERO": "metricas_0042",
    "M_SELECT": "MI",
    "M_TIPO": "mul_m",
    "PRE_DATA_FILE": "rows_transpose_norm_by_gene_id_with_target_num_",
    "P_FICHERO": "param_0000_0042_mul_m_MI_RF.yaml",
    "R_FICHERO": "resultados_0042",
    "SCORING": "roc_auc_ovr",
    "SEMILLA": 42,
    "eval_clasifier": "RandomForestClassifier(random_state=SEMILLA)",
    "eval_selector": "SelectKBest(score_func=mutual_info_classif_state)",
    "param_distributions": {
     "clasifier__bootstrap": [
      true
     ],
     "clasifier__max_depth": [
      10
     ],
     "clasifier__max_features": [
      500
     ],
     "clasifier__min_samples_leaf": [
      5
     ],
     "clasifier__min_samples_split": [
      10
     ],
     "clasifier__n_estimators": [
      200
     ],
     "selector__k": [
      1000
     ]
    }
   },
   "start_time": "2023-10-27T20:16:35.720720",
   "version": "2.4.0"
  }
 },
 "nbformat": 4,
 "nbformat_minor": 5
}