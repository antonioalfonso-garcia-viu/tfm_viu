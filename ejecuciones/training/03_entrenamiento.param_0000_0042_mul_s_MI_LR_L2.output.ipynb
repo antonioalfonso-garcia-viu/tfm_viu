{
 "cells": [
  {
   "cell_type": "markdown",
   "id": "2f19efc6",
   "metadata": {
    "papermill": {
     "duration": 0.003472,
     "end_time": "2023-10-27T22:51:00.817370",
     "exception": false,
     "start_time": "2023-10-27T22:51:00.813898",
     "status": "completed"
    },
    "tags": []
   },
   "source": [
    "##### Inicio"
   ]
  },
  {
   "cell_type": "markdown",
   "id": "9d947406",
   "metadata": {
    "papermill": {
     "duration": 0.0027,
     "end_time": "2023-10-27T22:51:00.823022",
     "exception": false,
     "start_time": "2023-10-27T22:51:00.820322",
     "status": "completed"
    },
    "tags": []
   },
   "source": [
    "#### Carga de datos"
   ]
  },
  {
   "cell_type": "code",
   "execution_count": 1,
   "id": "915ba268",
   "metadata": {
    "execution": {
     "iopub.execute_input": "2023-10-27T22:51:00.829687Z",
     "iopub.status.busy": "2023-10-27T22:51:00.829430Z",
     "iopub.status.idle": "2023-10-27T22:51:01.699545Z",
     "shell.execute_reply": "2023-10-27T22:51:01.699000Z"
    },
    "papermill": {
     "duration": 0.875116,
     "end_time": "2023-10-27T22:51:01.700919",
     "exception": false,
     "start_time": "2023-10-27T22:51:00.825803",
     "status": "completed"
    },
    "tags": []
   },
   "outputs": [
    {
     "name": "stdout",
     "output_type": "stream",
     "text": [
      "CPU_COUNT: 8; NODE: amilcar22; sys.version: 3.10.12 (main, Jul  5 2023, 19:22:19) [GCC 11.2.0]\n",
      "LOKY_MAX_CPU_COUNT: 6\n",
      "OMP_NUM_THREADS: 2\n"
     ]
    }
   ],
   "source": [
    "import os\n",
    "import numpy as np\n",
    "import pandas as pd\n",
    "import datetime\n",
    "import sklearn\n",
    "import logging\n",
    "import warnings\n",
    "\n",
    "from sklearn.pipeline import Pipeline\n",
    "from sklearn.model_selection import RandomizedSearchCV, KFold, cross_val_score, train_test_split\n",
    "from sklearn.metrics import accuracy_score, confusion_matrix, classification_report, roc_auc_score\n",
    "\n",
    "#  cargar algoritmos para aprendizaje supervisado\n",
    "from sklearn.feature_selection import SelectKBest, f_classif, SelectFromModel, mutual_info_classif\n",
    "from sklearn.svm import SVC\n",
    "from sklearn.ensemble import RandomForestClassifier\n",
    "from sklearn.linear_model import LogisticRegression,LogisticRegressionCV\n",
    "\n",
    "# importar fichero con utilidades propias\n",
    "from commons import myfunctions as myfunc\n"
   ]
  },
  {
   "cell_type": "markdown",
   "id": "36ad7dd8",
   "metadata": {
    "papermill": {
     "duration": 0.002601,
     "end_time": "2023-10-27T22:51:01.706411",
     "exception": false,
     "start_time": "2023-10-27T22:51:01.703810",
     "status": "completed"
    },
    "tags": []
   },
   "source": [
    "#### Parámetros a utilizar en el entrenamiento.\n",
    "\n",
    "Se indican los 3 algoritmos de *selección de características* (eval_selector_xxx) y los 3 algoritmos para la _clasificación_ (eval_clasifier_xxx)\n",
    "\n",
    "En *param_distributions* se indicar los parámetros que utilizan los algoritmos en la función RandomSearchCV.\n",
    "\n",
    "Esta celda tiene la etiqueta **parameters** que servirá para poder lanzar los entrenamientos con la utilidad **papermill** pasándole un fichero con los parámetros. Los nuevos parámetros se situarán tras esta celda para tener prevalencia."
   ]
  },
  {
   "cell_type": "code",
   "execution_count": 2,
   "id": "6366b04a",
   "metadata": {
    "execution": {
     "iopub.execute_input": "2023-10-27T22:51:01.720728Z",
     "iopub.status.busy": "2023-10-27T22:51:01.720412Z",
     "iopub.status.idle": "2023-10-27T22:51:01.727713Z",
     "shell.execute_reply": "2023-10-27T22:51:01.727189Z"
    },
    "papermill": {
     "duration": 0.020085,
     "end_time": "2023-10-27T22:51:01.728997",
     "exception": false,
     "start_time": "2023-10-27T22:51:01.708912",
     "status": "completed"
    },
    "tags": [
     "parameters"
    ]
   },
   "outputs": [
    {
     "name": "stdout",
     "output_type": "stream",
     "text": [
      "20231028T005101 : amilcar22 : INFO : Utilizando parámetros de mul_m\n"
     ]
    }
   ],
   "source": [
    "#  Parametros para el entrenamiento\n",
    "\n",
    "SEMILLA=        42\n",
    "M_TIPO=         \"mul_m\"\n",
    "M_SELECT=       \"MI\"\n",
    "M_CLASIF=       \"SVM\"\n",
    "R_FICHERO=      \"resultados\"\n",
    "M_FICHERO=      \"metricas\"\n",
    "PRE_DATA_FILE=  \"rows_transpose_norm_by_gene_id_with_target_num_\"\n",
    "SCORING=        \"roc_auc_ovr\" \n",
    "MAX_ITERS=      100\n",
    "\n",
    "def mutual_info_classif_state(X, y):\n",
    "    return mutual_info_classif(X, y, random_state=SEMILLA)\n",
    "\n",
    "eval_selector_mi = \"SelectKBest(score_func=mutual_info_classif_state)\"\n",
    "eval_selector_rf=  \"SelectFromModel(estimator=RandomForestClassifier(random_state=SEMILLA), threshold=-np.inf)\"\n",
    "eval_selector_anova=  \"SelectKBest(score_func=f_classif)\"\n",
    "\n",
    "eval_clasifier_svm= \"SVC(probability=True, random_state=SEMILLA)\"\n",
    "eval_clasifier_rf= \"RandomForestClassifier(random_state=SEMILLA)\"\n",
    "eval_clasifier_lr= \"LogisticRegressionCV(random_state=SEMILLA)\"\n",
    "\n",
    "if M_TIPO.startswith(\"bin_m\"):\n",
    "    myfunc.verbose(f\"Utilizando parámetros de {M_TIPO}\")\n",
    "    eval_selector = eval_selector_mi\n",
    "    eval_clasifier = eval_clasifier_svm\n",
    "\n",
    "    SEMILLA = 6578\n",
    "    M_SELECT = \"MI\"\n",
    "    M_CLASIF = \"SVM\"\n",
    "    param_distributions = {'selector__k': [1000], \n",
    "         'clasifier__kernel': ['rbf'], 'clasifier__gamma': [0.01], 'clasifier__C': [100]}\n",
    "elif M_TIPO.startswith(\"bin_s\"):\n",
    "    myfunc.verbose(f\"Utilizando parámetros de {M_TIPO}\")\n",
    "    eval_selector = eval_selector_rf\n",
    "    eval_clasifier = eval_clasifier_lr\n",
    "\n",
    "    SEMILLA = 6191\n",
    "    M_SELECT = \"RF\"\n",
    "    M_CLASIF = \"LR_L2\"\n",
    "    param_distributions = {'selector__max_features': [1000], 'selector__estimator__n_estimators': [200], \n",
    "        'clasifier__solver': ['lbfgs'], 'clasifier__penalty': ['l2'], 'clasifier__max_iter': [10000]}\n",
    "\n",
    "elif M_TIPO.startswith(\"mul_m\"):\n",
    "    myfunc.verbose(f\"Utilizando parámetros de {M_TIPO}\")\n",
    " \n",
    "    eval_selector = eval_selector_rf\n",
    "    eval_clasifier = eval_clasifier_lr\n",
    "\n",
    "    SEMILLA = 6191\n",
    "    M_SELECT = \"RF\"\n",
    "    M_CLASIF = \"LR_L2\"\n",
    "    param_distributions = {'selector__max_features': [1000], 'selector__estimator__n_estimators': [400], \n",
    "        'clasifier__solver': ['lbfgs'], 'clasifier__penalty': ['l2'], 'clasifier__max_iter': [10000]}\n",
    "\n",
    "else:\n",
    "    # M_TIPO.startswith(\"mul_s\"):\n",
    "    myfunc.verbose(f\"Utilizando parámetros de {M_TIPO}\")\n",
    "    eval_selector = eval_selector_anova\n",
    "    eval_clasifier = eval_clasifier_lr\n",
    "\n",
    "    SEMILLA = 1860\n",
    "    M_SELECT = \"ANOVA\"\n",
    "    M_CLASIF = \"LR_L2\"\n",
    "    param_distributions = {'selector__k': [1000], \n",
    "        'clasifier__solver': ['saga'], 'clasifier__penalty': ['l2'], 'clasifier__max_iter': [10000]}\n",
    "\n"
   ]
  },
  {
   "cell_type": "code",
   "execution_count": 3,
   "id": "9b8689b1",
   "metadata": {
    "execution": {
     "iopub.execute_input": "2023-10-27T22:51:01.735095Z",
     "iopub.status.busy": "2023-10-27T22:51:01.734898Z",
     "iopub.status.idle": "2023-10-27T22:51:01.738515Z",
     "shell.execute_reply": "2023-10-27T22:51:01.738026Z"
    },
    "papermill": {
     "duration": 0.007837,
     "end_time": "2023-10-27T22:51:01.739587",
     "exception": false,
     "start_time": "2023-10-27T22:51:01.731750",
     "status": "completed"
    },
    "tags": [
     "injected-parameters"
    ]
   },
   "outputs": [],
   "source": [
    "# Parameters\n",
    "M_TIPO = \"mul_s\"\n",
    "M_SELECT = \"MI\"\n",
    "M_CLASIF = \"LR_L2\"\n",
    "P_FICHERO = \"param_0000_0042_mul_s_MI_LR_L2.yaml\"\n",
    "R_FICHERO = \"resultados_0042\"\n",
    "M_FICHERO = \"metricas_0042\"\n",
    "PRE_DATA_FILE = \"rows_transpose_norm_by_gene_id_with_target_num_\"\n",
    "SCORING = \"roc_auc_ovr\"\n",
    "SEMILLA = 42\n",
    "MAX_ITERS = 500\n",
    "eval_selector = \"SelectKBest(score_func=mutual_info_classif_state)\"\n",
    "eval_clasifier = \"LogisticRegressionCV(random_state=SEMILLA)\"\n",
    "param_distributions = {\n",
    "    \"selector__k\": [500],\n",
    "    \"clasifier__solver\": [\"saga\"],\n",
    "    \"clasifier__penalty\": [\"l2\"],\n",
    "    \"clasifier__max_iter\": [10000],\n",
    "}\n"
   ]
  },
  {
   "cell_type": "code",
   "execution_count": 4,
   "id": "260d6094",
   "metadata": {
    "execution": {
     "iopub.execute_input": "2023-10-27T22:51:01.745500Z",
     "iopub.status.busy": "2023-10-27T22:51:01.745324Z",
     "iopub.status.idle": "2023-10-27T22:51:01.748290Z",
     "shell.execute_reply": "2023-10-27T22:51:01.747737Z"
    },
    "papermill": {
     "duration": 0.007414,
     "end_time": "2023-10-27T22:51:01.749584",
     "exception": false,
     "start_time": "2023-10-27T22:51:01.742170",
     "status": "completed"
    },
    "tags": []
   },
   "outputs": [],
   "source": [
    "DATA_FILE = PRE_DATA_FILE + M_TIPO\n",
    "\n",
    "# si viene \"None\" en el parámetro max_depth, se le quitan las comillas para que no sea entendido por el algoritmo como un texto\n",
    "if \"clasifier__max_depth\" in param_distributions:\n",
    "    param_distributions['clasifier__max_depth'] = [None if x == 'None' else x for x in param_distributions['clasifier__max_depth']]"
   ]
  },
  {
   "cell_type": "markdown",
   "id": "49fdf536",
   "metadata": {
    "papermill": {
     "duration": 0.002529,
     "end_time": "2023-10-27T22:51:01.754828",
     "exception": false,
     "start_time": "2023-10-27T22:51:01.752299",
     "status": "completed"
    },
    "tags": []
   },
   "source": [
    "Asignar los algoritmos que se utilizarán en la función RandomSearchCV"
   ]
  },
  {
   "cell_type": "code",
   "execution_count": 5,
   "id": "a75d197b",
   "metadata": {
    "execution": {
     "iopub.execute_input": "2023-10-27T22:51:01.760720Z",
     "iopub.status.busy": "2023-10-27T22:51:01.760544Z",
     "iopub.status.idle": "2023-10-27T22:51:01.763251Z",
     "shell.execute_reply": "2023-10-27T22:51:01.762743Z"
    },
    "papermill": {
     "duration": 0.00695,
     "end_time": "2023-10-27T22:51:01.764410",
     "exception": false,
     "start_time": "2023-10-27T22:51:01.757460",
     "status": "completed"
    },
    "tags": []
   },
   "outputs": [],
   "source": [
    "algor_selector=eval(eval_selector)\n",
    "algor_clasifier=eval(eval_clasifier)"
   ]
  },
  {
   "cell_type": "markdown",
   "id": "2a0a1930",
   "metadata": {
    "papermill": {
     "duration": 0.002636,
     "end_time": "2023-10-27T22:51:01.769637",
     "exception": false,
     "start_time": "2023-10-27T22:51:01.767001",
     "status": "completed"
    },
    "tags": []
   },
   "source": [
    "#### Comprobar el entorno y leer fichero de muestras"
   ]
  },
  {
   "cell_type": "code",
   "execution_count": 6,
   "id": "9257f3ef",
   "metadata": {
    "execution": {
     "iopub.execute_input": "2023-10-27T22:51:01.775539Z",
     "iopub.status.busy": "2023-10-27T22:51:01.775366Z",
     "iopub.status.idle": "2023-10-27T22:51:01.893614Z",
     "shell.execute_reply": "2023-10-27T22:51:01.892963Z"
    },
    "papermill": {
     "duration": 0.12276,
     "end_time": "2023-10-27T22:51:01.895018",
     "exception": false,
     "start_time": "2023-10-27T22:51:01.772258",
     "status": "completed"
    },
    "tags": []
   },
   "outputs": [
    {
     "name": "stdout",
     "output_type": "stream",
     "text": [
      "20231028T005101 : amilcar22 : INFO : Encontrada carpeta DATA_DIR=../tfm_git/datos\n",
      "20231028T005101 : amilcar22 : INFO : Encontrada carpeta CFDNA_DIR=../tfm_git/datos/cfDNA_5hmC\n",
      "20231028T005101 : amilcar22 : INFO : Encontrada carpeta GENCODE_DIR=../tfm_git/datos/gencode\n",
      "20231028T005101 : amilcar22 : INFO : Encontrada carpeta H5_DIR=../tfm_git/datos/h5\n",
      "20231028T005101 : amilcar22 : INFO : Encontrada carpeta LOG_DIR=../tfm_git/datos/logs\n",
      "20231028T005101 : amilcar22 : INFO : Encontrada carpeta CSV_DIR=../tfm_git/datos/csv\n",
      "20231028T005101 : amilcar22 : INFO : Encontrada carpeta MODEL_DIR=../tfm_git/ejecuciones/modelos\n",
      "20231028T005101 : amilcar22 : INFO : Encontrada carpeta EXEC_DIR=../tfm_git/ejecuciones\n",
      "20231028T005101 : amilcar22 : INFO : Encontrada carpeta MET_DIR=../tfm_git/ejecuciones/metricas\n",
      "20231028T005101 : amilcar22 : INFO : Inicio leer fichero h5 ../tfm_git/datos/h5/rows_transpose_norm_by_gene_id_with_target_num_mul_s.h5\n",
      "20231028T005101 : amilcar22 : INFO : Leyendo clave /df\n",
      "20231028T005101 : amilcar22 : INFO : Tamaño (259, 18876)\n",
      "20231028T005101 : amilcar22 : INFO : Fin leer fichero h5 ../tfm_git/datos/h5/rows_transpose_norm_by_gene_id_with_target_num_mul_s.h5\n"
     ]
    },
    {
     "data": {
      "text/plain": [
       "target\n",
       "0    37\n",
       "1    37\n",
       "2    37\n",
       "3    37\n",
       "4    37\n",
       "5    37\n",
       "6    37\n",
       "dtype: int64"
      ]
     },
     "metadata": {},
     "output_type": "display_data"
    },
    {
     "name": "stdout",
     "output_type": "stream",
     "text": [
      "Shape df: (259, 18876)\n",
      "Shape X_train: (207, 18875)\n",
      "Shape X_test: (52, 18875)\n"
     ]
    }
   ],
   "source": [
    "start_time = datetime.datetime.now()\n",
    "\n",
    "myfunc.reset_vars()\n",
    "\n",
    "myfunc.NOTEBK_FILENAME = myfunc.get_nb_name()\n",
    "\n",
    "myfunc.check_enviroment(myfunc.DATA_DIR, myfunc.CFDNA_DIR, myfunc.GENCODE_DIR, myfunc.H5_DIR, myfunc.LOG_DIR, myfunc.CSV_DIR, myfunc.MODEL_DIR, myfunc.EXEC_DIR, myfunc.MET_DIR)\n",
    "\n",
    "# Leer fichero con las muestras\n",
    "df_t = myfunc.read_h5_to_df(DATA_FILE, myfunc.H5_DIR)\n",
    "display(df_t.groupby(\"target\").size())\n",
    "print(\"Shape df:\",df_t.shape)\n",
    "\n",
    "# Separar caracteristicas/genes de las etiquetas/tipos de cáncer\n",
    "X = df_t.iloc[:, :-1]  # Todas las columnas excepto la última\n",
    "y = df_t.iloc[:, -1]  # La última columna contiene los identificadores de los tipos de cáncer\n",
    "\n",
    "#  Crear el conjunto de datos de entrenamiento y de pruebas\n",
    "X_train, X_test, y_train, y_test = train_test_split(X, y, test_size=0.2, shuffle=True, random_state=SEMILLA)\n",
    "print(\"Shape X_train:\",X_train.shape)\n",
    "print(\"Shape X_test:\",X_test.shape)\n"
   ]
  },
  {
   "cell_type": "markdown",
   "id": "71de0f47",
   "metadata": {
    "papermill": {
     "duration": 0.002818,
     "end_time": "2023-10-27T22:51:01.901253",
     "exception": false,
     "start_time": "2023-10-27T22:51:01.898435",
     "status": "completed"
    },
    "tags": []
   },
   "source": [
    "#### Selección de características y clasificación."
   ]
  },
  {
   "cell_type": "code",
   "execution_count": 7,
   "id": "daed0cb8",
   "metadata": {
    "execution": {
     "iopub.execute_input": "2023-10-27T22:51:01.907671Z",
     "iopub.status.busy": "2023-10-27T22:51:01.907488Z",
     "iopub.status.idle": "2023-10-27T22:59:50.294371Z",
     "shell.execute_reply": "2023-10-27T22:59:50.293801Z"
    },
    "papermill": {
     "duration": 528.391647,
     "end_time": "2023-10-27T22:59:50.295744",
     "exception": false,
     "start_time": "2023-10-27T22:51:01.904097",
     "status": "completed"
    },
    "tags": []
   },
   "outputs": [
    {
     "name": "stdout",
     "output_type": "stream",
     "text": [
      "20231028T005101 : amilcar22 : INFO : Iniciando entrenamiento\n",
      "num_iter: 1 , max_iter: 1\n",
      "Fitting 5 folds for each of 1 candidates, totalling 5 fits\n"
     ]
    },
    {
     "name": "stdout",
     "output_type": "stream",
     "text": [
      "[CV 3/5] END clasifier__max_iter=10000, clasifier__penalty=l2, clasifier__solver=saga, selector__k=500;, score=0.773 total time= 3.6min\n"
     ]
    },
    {
     "name": "stdout",
     "output_type": "stream",
     "text": [
      "[CV 1/5] END clasifier__max_iter=10000, clasifier__penalty=l2, clasifier__solver=saga, selector__k=500;, score=0.889 total time= 3.6min\n"
     ]
    },
    {
     "name": "stdout",
     "output_type": "stream",
     "text": [
      "[CV 4/5] END clasifier__max_iter=10000, clasifier__penalty=l2, clasifier__solver=saga, selector__k=500;, score=0.787 total time= 3.7min\n"
     ]
    },
    {
     "name": "stdout",
     "output_type": "stream",
     "text": [
      "Mejores Hiperparámetros: {'selector__k': 500, 'clasifier__solver': 'saga', 'clasifier__penalty': 'l2', 'clasifier__max_iter': 10000}\n",
      "Mejor Puntuación: 0.7962\n",
      "20231028T005950 : amilcar22 : INFO : Fin entrenamiento\n"
     ]
    }
   ],
   "source": [
    "myfunc.verbose(\"Iniciando entrenamiento\")\n",
    "\n",
    "kf = KFold(n_splits=5, shuffle=True, random_state=SEMILLA)\n",
    "\n",
    "# Crear el pipeline para el flujo de tareas\n",
    "tasks_pipeline = Pipeline([\n",
    "    ('selector', algor_selector),\n",
    "    ('clasifier', algor_clasifier)\n",
    "])\n",
    "\n",
    "# MAX_ITERS puede limitar el número de iteraciones si son excesivas para las combinaciones de parámetros buscando un óptimo local, \n",
    "# sino funcionaría como GridSearchCV al revisar todas las cominaciones de los parámetros\n",
    "num_iteraciones = 1\n",
    "num_iteraciones = num_iteraciones * np.prod([len(elemento1) for _, elemento1 in param_distributions.items()])\n",
    "max_iteraciones = num_iteraciones if num_iteraciones <= MAX_ITERS else MAX_ITERS\n",
    "print(\"num_iter:\",num_iteraciones,\", max_iter:\",max_iteraciones)\n",
    "\n",
    "random_search = RandomizedSearchCV(\n",
    "    tasks_pipeline, \n",
    "    param_distributions, \n",
    "    n_iter=max_iteraciones,\n",
    "    scoring=SCORING,\n",
    "    cv=kf,\n",
    "    verbose=3, \n",
    "    random_state=SEMILLA, \n",
    "    n_jobs=-1\n",
    "    )\n",
    "\n",
    "# Entrenar el modelo\n",
    "random_search.fit(X_train, y_train)\n",
    "\n",
    "# Ver los mejores hiperparámetros encontrados\n",
    "print(f'Mejores Hiperparámetros: {random_search.best_params_}')\n",
    "print(f'Mejor Puntuación: {random_search.best_score_:.4f}')\n",
    "\n",
    "# Nos quedamos con el mejor modelo para ver las métricas\n",
    "mejor_modelo = random_search.best_estimator_\n",
    "\n",
    "myfunc.verbose(\"Fin entrenamiento\")"
   ]
  },
  {
   "cell_type": "markdown",
   "id": "147b8ed8",
   "metadata": {
    "papermill": {
     "duration": 0.002961,
     "end_time": "2023-10-27T22:59:50.302406",
     "exception": false,
     "start_time": "2023-10-27T22:59:50.299445",
     "status": "completed"
    },
    "tags": []
   },
   "source": [
    "#### Guardar modelo"
   ]
  },
  {
   "cell_type": "code",
   "execution_count": 8,
   "id": "da332329",
   "metadata": {
    "execution": {
     "iopub.execute_input": "2023-10-27T22:59:50.309434Z",
     "iopub.status.busy": "2023-10-27T22:59:50.309245Z",
     "iopub.status.idle": "2023-10-27T22:59:50.318002Z",
     "shell.execute_reply": "2023-10-27T22:59:50.317452Z"
    },
    "papermill": {
     "duration": 0.013848,
     "end_time": "2023-10-27T22:59:50.319200",
     "exception": false,
     "start_time": "2023-10-27T22:59:50.305352",
     "status": "completed"
    },
    "tags": []
   },
   "outputs": [
    {
     "name": "stdout",
     "output_type": "stream",
     "text": [
      "20231028T005950 : amilcar22 : INFO : Inicio guardar fichero ../tfm_git/ejecuciones/modelos/modelo_0042_mul_s_MI_LR_L2.pkl\n",
      "20231028T005950 : amilcar22 : INFO : Fin guardar fichero ../tfm_git/ejecuciones/modelos/modelo_0042_mul_s_MI_LR_L2.pkl\n"
     ]
    }
   ],
   "source": [
    "fichero_modelo = str.replace(\"modelo_\"+str(SEMILLA).zfill(4)+\"_\"+M_TIPO+\"_\"+M_SELECT+\"_\"+M_CLASIF+\".pkl\", \" \", \"_\")\n",
    "\n",
    "myfunc.save_modelo(mejor_modelo, myfunc.MODEL_DIR, fichero_modelo)"
   ]
  },
  {
   "cell_type": "markdown",
   "id": "fdf171eb",
   "metadata": {
    "papermill": {
     "duration": 0.003219,
     "end_time": "2023-10-27T22:59:50.325759",
     "exception": false,
     "start_time": "2023-10-27T22:59:50.322540",
     "status": "completed"
    },
    "tags": []
   },
   "source": [
    "#### Ver resultados del las iteraciones hechas por RandomSearchCV"
   ]
  },
  {
   "cell_type": "code",
   "execution_count": 9,
   "id": "d2203a19",
   "metadata": {
    "execution": {
     "iopub.execute_input": "2023-10-27T22:59:50.333012Z",
     "iopub.status.busy": "2023-10-27T22:59:50.332784Z",
     "iopub.status.idle": "2023-10-27T22:59:50.338928Z",
     "shell.execute_reply": "2023-10-27T22:59:50.338422Z"
    },
    "papermill": {
     "duration": 0.011164,
     "end_time": "2023-10-27T22:59:50.340220",
     "exception": false,
     "start_time": "2023-10-27T22:59:50.329056",
     "status": "completed"
    },
    "tags": []
   },
   "outputs": [
    {
     "name": "stdout",
     "output_type": "stream",
     "text": [
      "20231028T005950 : amilcar22 : INFO : Inicio ver resultados\n",
      "Mejores Hiperparámetros: {'selector__k': 500, 'clasifier__solver': 'saga', 'clasifier__penalty': 'l2', 'clasifier__max_iter': 10000}\n",
      "Mejores puntuaciones: 0.7962 | Params: {'selector__k': 500, 'clasifier__solver': 'saga', 'clasifier__penalty': 'l2', 'clasifier__max_iter': 10000}\n",
      "Media de las puntuaciones: 0.7962 | Params: {'selector__k': 500, 'clasifier__solver': 'saga', 'clasifier__penalty': 'l2', 'clasifier__max_iter': 10000}\n",
      "20231028T005950 : amilcar22 : INFO : Fin resultados\n"
     ]
    }
   ],
   "source": [
    "myfunc.ver_resultados_search(random_search)"
   ]
  },
  {
   "cell_type": "markdown",
   "id": "b12ed7d3",
   "metadata": {
    "papermill": {
     "duration": 0.003236,
     "end_time": "2023-10-27T22:59:50.347012",
     "exception": false,
     "start_time": "2023-10-27T22:59:50.343776",
     "status": "completed"
    },
    "tags": []
   },
   "source": [
    "#### Ver métricas del mejor modelo"
   ]
  },
  {
   "cell_type": "code",
   "execution_count": 10,
   "id": "0e2c62fe",
   "metadata": {
    "execution": {
     "iopub.execute_input": "2023-10-27T22:59:50.354141Z",
     "iopub.status.busy": "2023-10-27T22:59:50.353950Z",
     "iopub.status.idle": "2023-10-27T22:59:50.945621Z",
     "shell.execute_reply": "2023-10-27T22:59:50.945087Z"
    },
    "papermill": {
     "duration": 0.596785,
     "end_time": "2023-10-27T22:59:50.946987",
     "exception": false,
     "start_time": "2023-10-27T22:59:50.350202",
     "status": "completed"
    },
    "tags": []
   },
   "outputs": [
    {
     "name": "stdout",
     "output_type": "stream",
     "text": [
      "20231028T005950 : amilcar22 : INFO : Inicio ver métricas multiclase\n",
      "              precision    recall  f1-score   support\n",
      "\n",
      "           0       0.50      0.36      0.42        11\n",
      "           1       1.00      0.38      0.55         8\n",
      "           2       0.25      0.25      0.25         8\n",
      "           3       0.30      0.60      0.40         5\n",
      "           4       0.64      0.88      0.74         8\n",
      "           5       0.75      0.50      0.60         6\n",
      "           6       0.50      0.67      0.57         6\n",
      "\n",
      "    accuracy                           0.50        52\n",
      "   macro avg       0.56      0.52      0.50        52\n",
      "weighted avg       0.57      0.50      0.50        52\n",
      "\n"
     ]
    },
    {
     "name": "stdout",
     "output_type": "stream",
     "text": [
      "\n",
      "\n",
      "           Exactitud: 0.500000\n",
      "   Precisión (media): 0.562338\n",
      "      Recall (media): 0.518615\n",
      "    F1-score (media): 0.503540\n",
      "\n",
      "\n",
      "AUC para el tipo de cáncer 0-Control.... 0.5565\n",
      "AUC para el tipo de cáncer 1-Bladder.... 0.8977\n",
      "AUC para el tipo de cáncer 2-Breast..... 0.7244\n",
      "AUC para el tipo de cáncer 3-Colorectal. 0.7915\n",
      "AUC para el tipo de cáncer 4-Kidney..... 0.9290\n",
      "AUC para el tipo de cáncer 5-Lung....... 0.8949\n",
      "AUC para el tipo de cáncer 6-Prostate... 0.9130\n",
      "\n",
      "Media de AUC: 0.8153\n"
     ]
    },
    {
     "data": {
      "image/png": "[encoded data removed]",
      "text/plain": [
       "<Figure size 1000x600 with 1 Axes>"
      ]
     },
     "metadata": {},
     "output_type": "display_data"
    },
    {
     "name": "stdout",
     "output_type": "stream",
     "text": [
      "\n",
      "\n"
     ]
    },
    {
     "data": {
      "image/png": "[encoded data removed]",
      "text/plain": [
       "<Figure size 800x400 with 2 Axes>"
      ]
     },
     "metadata": {},
     "output_type": "display_data"
    },
    {
     "name": "stdout",
     "output_type": "stream",
     "text": [
      "\n",
      "\n",
      "Puntuación Jaccard para el cáncer tipo 0-Control.... 0.2667\n",
      "Puntuación Jaccard para el cáncer tipo 1-Bladder.... 0.3750\n",
      "Puntuación Jaccard para el cáncer tipo 2-Breast..... 0.1429\n",
      "Puntuación Jaccard para el cáncer tipo 3-Colorectal. 0.2500\n",
      "Puntuación Jaccard para el cáncer tipo 4-Kidney..... 0.5833\n",
      "Puntuación Jaccard para el cáncer tipo 5-Lung....... 0.4286\n",
      "Puntuación Jaccard para el cáncer tipo 6-Prostate... 0.4000\n",
      "\n",
      "Media de la puntuación de Jaccard: 0.3495\n"
     ]
    }
   ],
   "source": [
    "if M_TIPO.startswith(\"bin\"):\n",
    "    myfunc.ver_metricas(mejor_modelo, X_test, y_test)\n",
    "else:\n",
    "    myfunc.ver_metricas_multi(mejor_modelo, X_test, y_test)\n"
   ]
  },
  {
   "cell_type": "markdown",
   "id": "ec501562",
   "metadata": {
    "papermill": {
     "duration": 0.004207,
     "end_time": "2023-10-27T22:59:50.955917",
     "exception": false,
     "start_time": "2023-10-27T22:59:50.951710",
     "status": "completed"
    },
    "tags": []
   },
   "source": [
    "#### Finalización del notebook"
   ]
  },
  {
   "cell_type": "code",
   "execution_count": 11,
   "id": "3f5147f9",
   "metadata": {
    "execution": {
     "iopub.execute_input": "2023-10-27T22:59:50.964963Z",
     "iopub.status.busy": "2023-10-27T22:59:50.964753Z",
     "iopub.status.idle": "2023-10-27T22:59:50.968228Z",
     "shell.execute_reply": "2023-10-27T22:59:50.967664Z"
    },
    "papermill": {
     "duration": 0.009401,
     "end_time": "2023-10-27T22:59:50.969405",
     "exception": false,
     "start_time": "2023-10-27T22:59:50.960004",
     "status": "completed"
    },
    "tags": []
   },
   "outputs": [
    {
     "name": "stdout",
     "output_type": "stream",
     "text": [
      "20231028T005950 : amilcar22 : INFO : Notebook ha tardado 529 seconds\n"
     ]
    }
   ],
   "source": [
    "end_time = datetime.datetime.now()\n",
    "total_time = end_time - start_time\n",
    "myfunc.verbose(f\"Notebook ha tardado {total_time.seconds} seconds\")"
   ]
  },
  {
   "cell_type": "markdown",
   "id": "22afc050",
   "metadata": {
    "papermill": {
     "duration": 0.004205,
     "end_time": "2023-10-27T22:59:50.978105",
     "exception": false,
     "start_time": "2023-10-27T22:59:50.973900",
     "status": "completed"
    },
    "tags": []
   },
   "source": [
    "#### Guardar métricas"
   ]
  },
  {
   "cell_type": "code",
   "execution_count": 12,
   "id": "ea196854",
   "metadata": {
    "execution": {
     "iopub.execute_input": "2023-10-27T22:59:50.987271Z",
     "iopub.status.busy": "2023-10-27T22:59:50.987078Z",
     "iopub.status.idle": "2023-10-27T22:59:51.189639Z",
     "shell.execute_reply": "2023-10-27T22:59:51.189089Z"
    },
    "papermill": {
     "duration": 0.208532,
     "end_time": "2023-10-27T22:59:51.190922",
     "exception": false,
     "start_time": "2023-10-27T22:59:50.982390",
     "status": "completed"
    },
    "tags": []
   },
   "outputs": [
    {
     "name": "stdout",
     "output_type": "stream",
     "text": [
      "20231028T005950 : amilcar22 : INFO : Inicio guardar métricas multiclase\n",
      "20231028T005950 : amilcar22 : INFO : Inicio leer fichero ../tfm_git/ejecuciones/metricas/metricas_0042.csv\n",
      "20231028T005951 : amilcar22 : INFO : Fin leer fichero ../tfm_git/ejecuciones/metricas/metricas_0042.csv\n",
      "20231028T005951 : amilcar22 : INFO : Inicio guardar fichero ../tfm_git/ejecuciones/metricas/metricas_0042.csv\n",
      "20231028T005951 : amilcar22 : INFO : Fichero borrado ../tfm_git/ejecuciones/metricas/metricas_0042.csv\n"
     ]
    },
    {
     "name": "stdout",
     "output_type": "stream",
     "text": [
      "20231028T005951 : amilcar22 : INFO : Fin guardar fichero ../tfm_git/ejecuciones/metricas/metricas_0042.csv\n",
      "20231028T005951 : amilcar22 : INFO : Fin guardar métricas multiclase\n",
      "20231028T005951 : amilcar22 : INFO : Inicio leer fichero ../tfm_git/ejecuciones/metricas/metricas_0042.csv\n",
      "20231028T005951 : amilcar22 : INFO : Fin leer fichero ../tfm_git/ejecuciones/metricas/metricas_0042.csv\n"
     ]
    },
    {
     "data": {
      "text/html": [
       "<div>\n",
       "<style scoped>\n",
       "    .dataframe tbody tr th:only-of-type {\n",
       "        vertical-align: middle;\n",
       "    }\n",
       "\n",
       "    .dataframe tbody tr th {\n",
       "        vertical-align: top;\n",
       "    }\n",
       "\n",
       "    .dataframe thead th {\n",
       "        text-align: right;\n",
       "    }\n",
       "</style>\n",
       "<table border=\"1\" class=\"dataframe\">\n",
       "  <thead>\n",
       "    <tr style=\"text-align: right;\">\n",
       "      <th></th>\n",
       "      <th>tipo</th>\n",
       "      <th>select</th>\n",
       "      <th>clasific</th>\n",
       "      <th>accuracy</th>\n",
       "      <th>precision</th>\n",
       "      <th>recall</th>\n",
       "      <th>f1_score</th>\n",
       "      <th>roc_auc</th>\n",
       "      <th>roc_auc_ovr</th>\n",
       "      <th>hostname</th>\n",
       "      <th>total_time_sec</th>\n",
       "      <th>datetime</th>\n",
       "      <th>fichero_modelo</th>\n",
       "      <th>params</th>\n",
       "      <th>shape</th>\n",
       "      <th>features</th>\n",
       "      <th>semilla</th>\n",
       "      <th>indices_auc</th>\n",
       "      <th>indices_jaccard</th>\n",
       "    </tr>\n",
       "  </thead>\n",
       "  <tbody>\n",
       "    <tr>\n",
       "      <th>0</th>\n",
       "      <td>mul_s</td>\n",
       "      <td>MI</td>\n",
       "      <td>LR_L2</td>\n",
       "      <td>0.500000</td>\n",
       "      <td>0.562338</td>\n",
       "      <td>0.518615</td>\n",
       "      <td>0.503540</td>\n",
       "      <td>NaN</td>\n",
       "      <td>0.815305</td>\n",
       "      <td>amilcar22</td>\n",
       "      <td>529</td>\n",
       "      <td>2023-10-28 00:59:51.140815</td>\n",
       "      <td>modelo_0042_mul_s_MI_LR_L2.pkl</td>\n",
       "      <td>{'selector__k': 500, 'clasifier__solver': 'sag...</td>\n",
       "      <td>X_test:(52, 18875)</td>\n",
       "      <td>['ENSG00000005513.10', 'ENSG00000006025.13', '...</td>\n",
       "      <td>42.0</td>\n",
       "      <td>[0.5565410199556541, 0.8977272727272727, 0.724...</td>\n",
       "      <td>[0.26666666666666666, 0.375, 0.142857142857142...</td>\n",
       "    </tr>\n",
       "    <tr>\n",
       "      <th>0</th>\n",
       "      <td>mul_s</td>\n",
       "      <td>MI</td>\n",
       "      <td>LR_L1</td>\n",
       "      <td>0.461538</td>\n",
       "      <td>0.565986</td>\n",
       "      <td>0.487771</td>\n",
       "      <td>0.479136</td>\n",
       "      <td>NaN</td>\n",
       "      <td>0.831382</td>\n",
       "      <td>amilcar22</td>\n",
       "      <td>717</td>\n",
       "      <td>2023-10-28 00:50:55.671180</td>\n",
       "      <td>modelo_0042_mul_s_MI_LR_L1.pkl</td>\n",
       "      <td>{'selector__k': 500, 'clasifier__solver': 'sag...</td>\n",
       "      <td>X_test:(52, 18875)</td>\n",
       "      <td>['ENSG00000005513.10', 'ENSG00000006025.13', '...</td>\n",
       "      <td>42.0</td>\n",
       "      <td>[0.5831485587583148, 0.9147727272727273, 0.747...</td>\n",
       "      <td>[0.2, 0.375, 0.21428571428571427, 0.25, 0.3846...</td>\n",
       "    </tr>\n",
       "    <tr>\n",
       "      <th>0</th>\n",
       "      <td>mul_s</td>\n",
       "      <td>MI</td>\n",
       "      <td>LR_EN</td>\n",
       "      <td>0.519231</td>\n",
       "      <td>0.554762</td>\n",
       "      <td>0.524567</td>\n",
       "      <td>0.512104</td>\n",
       "      <td>NaN</td>\n",
       "      <td>0.843323</td>\n",
       "      <td>amilcar22</td>\n",
       "      <td>1313</td>\n",
       "      <td>2023-10-28 00:38:51.645232</td>\n",
       "      <td>modelo_0042_mul_s_MI_LR_EN.pkl</td>\n",
       "      <td>{'selector__k': 1000, 'clasifier__solver': 'sa...</td>\n",
       "      <td>X_test:(52, 18875)</td>\n",
       "      <td>['ENSG00000003137.9', 'ENSG00000004939.16', 'E...</td>\n",
       "      <td>42.0</td>\n",
       "      <td>[0.6718403547671841, 0.9375, 0.769886363636363...</td>\n",
       "      <td>[0.26666666666666666, 0.625, 0.142857142857142...</td>\n",
       "    </tr>\n",
       "  </tbody>\n",
       "</table>\n",
       "</div>"
      ],
      "text/plain": [
       "    tipo select clasific  accuracy  precision    recall  f1_score  roc_auc  \\\n",
       "0  mul_s     MI    LR_L2  0.500000   0.562338  0.518615  0.503540      NaN   \n",
       "0  mul_s     MI    LR_L1  0.461538   0.565986  0.487771  0.479136      NaN   \n",
       "0  mul_s     MI    LR_EN  0.519231   0.554762  0.524567  0.512104      NaN   \n",
       "\n",
       "   roc_auc_ovr   hostname  total_time_sec                    datetime  \\\n",
       "0     0.815305  amilcar22             529  2023-10-28 00:59:51.140815   \n",
       "0     0.831382  amilcar22             717  2023-10-28 00:50:55.671180   \n",
       "0     0.843323  amilcar22            1313  2023-10-28 00:38:51.645232   \n",
       "\n",
       "                   fichero_modelo  \\\n",
       "0  modelo_0042_mul_s_MI_LR_L2.pkl   \n",
       "0  modelo_0042_mul_s_MI_LR_L1.pkl   \n",
       "0  modelo_0042_mul_s_MI_LR_EN.pkl   \n",
       "\n",
       "                                              params               shape  \\\n",
       "0  {'selector__k': 500, 'clasifier__solver': 'sag...  X_test:(52, 18875)   \n",
       "0  {'selector__k': 500, 'clasifier__solver': 'sag...  X_test:(52, 18875)   \n",
       "0  {'selector__k': 1000, 'clasifier__solver': 'sa...  X_test:(52, 18875)   \n",
       "\n",
       "                                            features  semilla  \\\n",
       "0  ['ENSG00000005513.10', 'ENSG00000006025.13', '...     42.0   \n",
       "0  ['ENSG00000005513.10', 'ENSG00000006025.13', '...     42.0   \n",
       "0  ['ENSG00000003137.9', 'ENSG00000004939.16', 'E...     42.0   \n",
       "\n",
       "                                         indices_auc  \\\n",
       "0  [0.5565410199556541, 0.8977272727272727, 0.724...   \n",
       "0  [0.5831485587583148, 0.9147727272727273, 0.747...   \n",
       "0  [0.6718403547671841, 0.9375, 0.769886363636363...   \n",
       "\n",
       "                                     indices_jaccard  \n",
       "0  [0.26666666666666666, 0.375, 0.142857142857142...  \n",
       "0  [0.2, 0.375, 0.21428571428571427, 0.25, 0.3846...  \n",
       "0  [0.26666666666666666, 0.625, 0.142857142857142...  "
      ]
     },
     "metadata": {},
     "output_type": "display_data"
    }
   ],
   "source": [
    "if M_TIPO.startswith(\"bin\"):\n",
    "    myfunc.save_metricas_to_csv(random_search, X_test, y_test, M_TIPO, M_SELECT, M_CLASIF, total_time, SEMILLA, myfunc.MET_DIR, M_FICHERO, fichero_modelo)\n",
    "else:\n",
    "    myfunc.save_metricas_multi_to_csv(random_search, X_test, y_test, M_TIPO, M_SELECT, M_CLASIF, total_time, SEMILLA, myfunc.MET_DIR, M_FICHERO, fichero_modelo)\n",
    "\n",
    "df1=myfunc.read_metricas_to_df(myfunc.MET_DIR,M_FICHERO)\n",
    "\n",
    "display(df1.sort_values(\"datetime\", ascending=False)[:3])\n"
   ]
  },
  {
   "cell_type": "markdown",
   "id": "ed777a70",
   "metadata": {
    "papermill": {
     "duration": 0.004475,
     "end_time": "2023-10-27T22:59:51.200319",
     "exception": false,
     "start_time": "2023-10-27T22:59:51.195844",
     "status": "completed"
    },
    "tags": []
   },
   "source": [
    "#### Guardar resultados"
   ]
  },
  {
   "cell_type": "code",
   "execution_count": 13,
   "id": "3f542497",
   "metadata": {
    "execution": {
     "iopub.execute_input": "2023-10-27T22:59:51.209872Z",
     "iopub.status.busy": "2023-10-27T22:59:51.209660Z",
     "iopub.status.idle": "2023-10-27T22:59:51.217898Z",
     "shell.execute_reply": "2023-10-27T22:59:51.217391Z"
    },
    "papermill": {
     "duration": 0.014587,
     "end_time": "2023-10-27T22:59:51.219199",
     "exception": false,
     "start_time": "2023-10-27T22:59:51.204612",
     "status": "completed"
    },
    "tags": []
   },
   "outputs": [
    {
     "name": "stdout",
     "output_type": "stream",
     "text": [
      "20231028T005951 : amilcar22 : INFO : Inicio guardar resultados\n",
      "20231028T005951 : amilcar22 : INFO : Inicio guardar fichero ../tfm_git/ejecuciones/metricas/resultados_0042_mul_s-MI-LR_L2.csv\n",
      "20231028T005951 : amilcar22 : INFO : Fin guardar fichero ../tfm_git/ejecuciones/metricas/resultados_0042_mul_s-MI-LR_L2.csv\n",
      "20231028T005951 : amilcar22 : INFO : Fin guardar resultados\n"
     ]
    }
   ],
   "source": [
    "fichero_resultados=R_FICHERO+\"_\"+M_TIPO+\"-\"+M_SELECT+\"-\"+M_CLASIF+\".csv\"\n",
    "myfunc.save_resultados_to_csv(M_TIPO, M_SELECT, M_CLASIF,  random_search, myfunc.MET_DIR, fichero_resultados)\n"
   ]
  }
 ],
 "metadata": {
  "kernelspec": {
   "display_name": "Python 3 (ipykernel)",
   "language": "python",
   "name": "python3"
  },
  "language_info": {
   "codemirror_mode": {
    "name": "ipython",
    "version": 3
   },
   "file_extension": ".py",
   "mimetype": "text/x-python",
   "name": "python",
   "nbconvert_exporter": "python",
   "pygments_lexer": "ipython3",
   "version": "3.10.12"
  },
  "papermill": {
   "default_parameters": {},
   "duration": 533.949411,
   "end_time": "2023-10-27T22:59:53.842224",
   "environment_variables": {},
   "exception": null,
   "input_path": "03_entrenamiento.ipynb",
   "output_path": "ejecuciones/training/03_entrenamiento.20231028T005059.param_0000_0042_mul_s_MI_LR_L2.output.ipynb",
   "parameters": {
    "MAX_ITERS": 500,
    "M_CLASIF": "LR_L2",
    "M_FICHERO": "metricas_0042",
    "M_SELECT": "MI",
    "M_TIPO": "mul_s",
    "PRE_DATA_FILE": "rows_transpose_norm_by_gene_id_with_target_num_",
    "P_FICHERO": "param_0000_0042_mul_s_MI_LR_L2.yaml",
    "R_FICHERO": "resultados_0042",
    "SCORING": "roc_auc_ovr",
    "SEMILLA": 42,
    "eval_clasifier": "LogisticRegressionCV(random_state=SEMILLA)",
    "eval_selector": "SelectKBest(score_func=mutual_info_classif_state)",
    "param_distributions": {
     "clasifier__max_iter": [
      10000
     ],
     "clasifier__penalty": [
      "l2"
     ],
     "clasifier__solver": [
      "saga"
     ],
     "selector__k": [
      500
     ]
    }
   },
   "start_time": "2023-10-27T22:50:59.892813",
   "version": "2.4.0"
  }
 },
 "nbformat": 4,
 "nbformat_minor": 5
}