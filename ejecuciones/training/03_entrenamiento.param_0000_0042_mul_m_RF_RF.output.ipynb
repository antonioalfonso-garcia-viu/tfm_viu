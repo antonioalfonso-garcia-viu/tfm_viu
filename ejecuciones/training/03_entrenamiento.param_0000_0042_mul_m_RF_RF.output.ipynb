{
 "cells": [
  {
   "cell_type": "markdown",
   "id": "746b8515",
   "metadata": {
    "papermill": {
     "duration": 0.004375,
     "end_time": "2023-10-27T21:28:19.164988",
     "exception": false,
     "start_time": "2023-10-27T21:28:19.160613",
     "status": "completed"
    },
    "tags": []
   },
   "source": [
    "##### Inicio"
   ]
  },
  {
   "cell_type": "markdown",
   "id": "0dccee86",
   "metadata": {
    "papermill": {
     "duration": 0.003543,
     "end_time": "2023-10-27T21:28:19.172373",
     "exception": false,
     "start_time": "2023-10-27T21:28:19.168830",
     "status": "completed"
    },
    "tags": []
   },
   "source": [
    "#### Carga de datos"
   ]
  },
  {
   "cell_type": "code",
   "execution_count": 1,
   "id": "6990f053",
   "metadata": {
    "execution": {
     "iopub.execute_input": "2023-10-27T21:28:19.180897Z",
     "iopub.status.busy": "2023-10-27T21:28:19.180664Z",
     "iopub.status.idle": "2023-10-27T21:28:20.061992Z",
     "shell.execute_reply": "2023-10-27T21:28:20.061474Z"
    },
    "papermill": {
     "duration": 0.887078,
     "end_time": "2023-10-27T21:28:20.063178",
     "exception": false,
     "start_time": "2023-10-27T21:28:19.176100",
     "status": "completed"
    },
    "tags": []
   },
   "outputs": [
    {
     "name": "stdout",
     "output_type": "stream",
     "text": [
      "CPU_COUNT: 8; NODE: amilcar22; sys.version: 3.10.12 (main, Jul  5 2023, 19:22:19) [GCC 11.2.0]\n",
      "LOKY_MAX_CPU_COUNT: 6\n",
      "OMP_NUM_THREADS: 2\n"
     ]
    }
   ],
   "source": [
    "import os\n",
    "import numpy as np\n",
    "import pandas as pd\n",
    "import datetime\n",
    "import sklearn\n",
    "import logging\n",
    "import warnings\n",
    "\n",
    "from sklearn.pipeline import Pipeline\n",
    "from sklearn.model_selection import RandomizedSearchCV, KFold, cross_val_score, train_test_split\n",
    "from sklearn.metrics import accuracy_score, confusion_matrix, classification_report, roc_auc_score\n",
    "\n",
    "#  cargar algoritmos para aprendizaje supervisado\n",
    "from sklearn.feature_selection import SelectKBest, f_classif, SelectFromModel, mutual_info_classif\n",
    "from sklearn.svm import SVC\n",
    "from sklearn.ensemble import RandomForestClassifier\n",
    "from sklearn.linear_model import LogisticRegression,LogisticRegressionCV\n",
    "\n",
    "# importar fichero con utilidades propias\n",
    "from commons import myfunctions as myfunc\n"
   ]
  },
  {
   "cell_type": "markdown",
   "id": "e9e66516",
   "metadata": {
    "papermill": {
     "duration": 0.002625,
     "end_time": "2023-10-27T21:28:20.068665",
     "exception": false,
     "start_time": "2023-10-27T21:28:20.066040",
     "status": "completed"
    },
    "tags": []
   },
   "source": [
    "#### Parámetros a utilizar en el entrenamiento.\n",
    "\n",
    "Se indican los 3 algoritmos de *selección de características* (eval_selector_xxx) y los 3 algoritmos para la _clasificación_ (eval_clasifier_xxx)\n",
    "\n",
    "En *param_distributions* se indicar los parámetros que utilizan los algoritmos en la función RandomSearchCV.\n",
    "\n",
    "Esta celda tiene la etiqueta **parameters** que servirá para poder lanzar los entrenamientos con la utilidad **papermill** pasándole un fichero con los parámetros. Los nuevos parámetros se situarán tras esta celda para tener prevalencia."
   ]
  },
  {
   "cell_type": "code",
   "execution_count": 2,
   "id": "ea688e26",
   "metadata": {
    "execution": {
     "iopub.execute_input": "2023-10-27T21:28:20.075064Z",
     "iopub.status.busy": "2023-10-27T21:28:20.074763Z",
     "iopub.status.idle": "2023-10-27T21:28:20.081952Z",
     "shell.execute_reply": "2023-10-27T21:28:20.081386Z"
    },
    "papermill": {
     "duration": 0.011939,
     "end_time": "2023-10-27T21:28:20.083121",
     "exception": false,
     "start_time": "2023-10-27T21:28:20.071182",
     "status": "completed"
    },
    "tags": [
     "parameters"
    ]
   },
   "outputs": [
    {
     "name": "stdout",
     "output_type": "stream",
     "text": [
      "20231027T232820 : amilcar22 : INFO : Utilizando parámetros de mul_m\n"
     ]
    }
   ],
   "source": [
    "#  Parametros para el entrenamiento\n",
    "\n",
    "SEMILLA=        42\n",
    "M_TIPO=         \"mul_m\"\n",
    "M_SELECT=       \"MI\"\n",
    "M_CLASIF=       \"SVM\"\n",
    "R_FICHERO=      \"resultados\"\n",
    "M_FICHERO=      \"metricas\"\n",
    "PRE_DATA_FILE=  \"rows_transpose_norm_by_gene_id_with_target_num_\"\n",
    "SCORING=        \"roc_auc_ovr\" \n",
    "MAX_ITERS=      100\n",
    "\n",
    "def mutual_info_classif_state(X, y):\n",
    "    return mutual_info_classif(X, y, random_state=SEMILLA)\n",
    "\n",
    "eval_selector_mi = \"SelectKBest(score_func=mutual_info_classif_state)\"\n",
    "eval_selector_rf=  \"SelectFromModel(estimator=RandomForestClassifier(random_state=SEMILLA), threshold=-np.inf)\"\n",
    "eval_selector_anova=  \"SelectKBest(score_func=f_classif)\"\n",
    "\n",
    "eval_clasifier_svm= \"SVC(probability=True, random_state=SEMILLA)\"\n",
    "eval_clasifier_rf= \"RandomForestClassifier(random_state=SEMILLA)\"\n",
    "eval_clasifier_lr= \"LogisticRegressionCV(random_state=SEMILLA)\"\n",
    "\n",
    "if M_TIPO.startswith(\"bin_m\"):\n",
    "    myfunc.verbose(f\"Utilizando parámetros de {M_TIPO}\")\n",
    "    eval_selector = eval_selector_mi\n",
    "    eval_clasifier = eval_clasifier_svm\n",
    "\n",
    "    SEMILLA = 6578\n",
    "    M_SELECT = \"MI\"\n",
    "    M_CLASIF = \"SVM\"\n",
    "    param_distributions = {'selector__k': [1000], \n",
    "         'clasifier__kernel': ['rbf'], 'clasifier__gamma': [0.01], 'clasifier__C': [100]}\n",
    "elif M_TIPO.startswith(\"bin_s\"):\n",
    "    myfunc.verbose(f\"Utilizando parámetros de {M_TIPO}\")\n",
    "    eval_selector = eval_selector_rf\n",
    "    eval_clasifier = eval_clasifier_lr\n",
    "\n",
    "    SEMILLA = 6191\n",
    "    M_SELECT = \"RF\"\n",
    "    M_CLASIF = \"LR_L2\"\n",
    "    param_distributions = {'selector__max_features': [1000], 'selector__estimator__n_estimators': [200], \n",
    "        'clasifier__solver': ['lbfgs'], 'clasifier__penalty': ['l2'], 'clasifier__max_iter': [10000]}\n",
    "\n",
    "elif M_TIPO.startswith(\"mul_m\"):\n",
    "    myfunc.verbose(f\"Utilizando parámetros de {M_TIPO}\")\n",
    " \n",
    "    eval_selector = eval_selector_rf\n",
    "    eval_clasifier = eval_clasifier_lr\n",
    "\n",
    "    SEMILLA = 6191\n",
    "    M_SELECT = \"RF\"\n",
    "    M_CLASIF = \"LR_L2\"\n",
    "    param_distributions = {'selector__max_features': [1000], 'selector__estimator__n_estimators': [400], \n",
    "        'clasifier__solver': ['lbfgs'], 'clasifier__penalty': ['l2'], 'clasifier__max_iter': [10000]}\n",
    "\n",
    "else:\n",
    "    # M_TIPO.startswith(\"mul_s\"):\n",
    "    myfunc.verbose(f\"Utilizando parámetros de {M_TIPO}\")\n",
    "    eval_selector = eval_selector_anova\n",
    "    eval_clasifier = eval_clasifier_lr\n",
    "\n",
    "    SEMILLA = 1860\n",
    "    M_SELECT = \"ANOVA\"\n",
    "    M_CLASIF = \"LR_L2\"\n",
    "    param_distributions = {'selector__k': [1000], \n",
    "        'clasifier__solver': ['saga'], 'clasifier__penalty': ['l2'], 'clasifier__max_iter': [10000]}\n",
    "\n"
   ]
  },
  {
   "cell_type": "code",
   "execution_count": 3,
   "id": "39d2335b",
   "metadata": {
    "execution": {
     "iopub.execute_input": "2023-10-27T21:28:20.089340Z",
     "iopub.status.busy": "2023-10-27T21:28:20.089155Z",
     "iopub.status.idle": "2023-10-27T21:28:20.093212Z",
     "shell.execute_reply": "2023-10-27T21:28:20.092661Z"
    },
    "papermill": {
     "duration": 0.008504,
     "end_time": "2023-10-27T21:28:20.094413",
     "exception": false,
     "start_time": "2023-10-27T21:28:20.085909",
     "status": "completed"
    },
    "tags": [
     "injected-parameters"
    ]
   },
   "outputs": [],
   "source": [
    "# Parameters\n",
    "M_TIPO = \"mul_m\"\n",
    "M_SELECT = \"RF\"\n",
    "M_CLASIF = \"RF\"\n",
    "P_FICHERO = \"param_0000_0042_mul_m_RF_RF.yaml\"\n",
    "R_FICHERO = \"resultados_0042\"\n",
    "M_FICHERO = \"metricas_0042\"\n",
    "PRE_DATA_FILE = \"rows_transpose_norm_by_gene_id_with_target_num_\"\n",
    "SCORING = \"roc_auc_ovr\"\n",
    "SEMILLA = 42\n",
    "MAX_ITERS = 500\n",
    "eval_selector = \"SelectFromModel(estimator=RandomForestClassifier(random_state=SEMILLA), threshold=-np.inf)\"\n",
    "eval_clasifier = \"RandomForestClassifier(random_state=SEMILLA)\"\n",
    "param_distributions = {\n",
    "    \"selector__max_features\": [500],\n",
    "    \"selector__estimator__n_estimators\": [200],\n",
    "    \"clasifier__n_estimators\": [400],\n",
    "    \"clasifier__min_samples_split\": [10],\n",
    "    \"clasifier__min_samples_leaf\": [5],\n",
    "    \"clasifier__max_features\": [200],\n",
    "    \"clasifier__max_depth\": [20],\n",
    "    \"clasifier__bootstrap\": [True],\n",
    "}\n"
   ]
  },
  {
   "cell_type": "code",
   "execution_count": 4,
   "id": "b9ac27d1",
   "metadata": {
    "execution": {
     "iopub.execute_input": "2023-10-27T21:28:20.100780Z",
     "iopub.status.busy": "2023-10-27T21:28:20.100592Z",
     "iopub.status.idle": "2023-10-27T21:28:20.103643Z",
     "shell.execute_reply": "2023-10-27T21:28:20.103220Z"
    },
    "papermill": {
     "duration": 0.007578,
     "end_time": "2023-10-27T21:28:20.104823",
     "exception": false,
     "start_time": "2023-10-27T21:28:20.097245",
     "status": "completed"
    },
    "tags": []
   },
   "outputs": [],
   "source": [
    "DATA_FILE = PRE_DATA_FILE + M_TIPO\n",
    "\n",
    "# si viene \"None\" en el parámetro max_depth, se le quitan las comillas para que no sea entendido por el algoritmo como un texto\n",
    "if \"clasifier__max_depth\" in param_distributions:\n",
    "    param_distributions['clasifier__max_depth'] = [None if x == 'None' else x for x in param_distributions['clasifier__max_depth']]"
   ]
  },
  {
   "cell_type": "markdown",
   "id": "f0fcbd5d",
   "metadata": {
    "papermill": {
     "duration": 0.002675,
     "end_time": "2023-10-27T21:28:20.110208",
     "exception": false,
     "start_time": "2023-10-27T21:28:20.107533",
     "status": "completed"
    },
    "tags": []
   },
   "source": [
    "Asignar los algoritmos que se utilizarán en la función RandomSearchCV"
   ]
  },
  {
   "cell_type": "code",
   "execution_count": 5,
   "id": "4e56447b",
   "metadata": {
    "execution": {
     "iopub.execute_input": "2023-10-27T21:28:20.116385Z",
     "iopub.status.busy": "2023-10-27T21:28:20.116201Z",
     "iopub.status.idle": "2023-10-27T21:28:20.119216Z",
     "shell.execute_reply": "2023-10-27T21:28:20.118680Z"
    },
    "papermill": {
     "duration": 0.007611,
     "end_time": "2023-10-27T21:28:20.120561",
     "exception": false,
     "start_time": "2023-10-27T21:28:20.112950",
     "status": "completed"
    },
    "tags": []
   },
   "outputs": [],
   "source": [
    "algor_selector=eval(eval_selector)\n",
    "algor_clasifier=eval(eval_clasifier)"
   ]
  },
  {
   "cell_type": "markdown",
   "id": "05feddc0",
   "metadata": {
    "papermill": {
     "duration": 0.003375,
     "end_time": "2023-10-27T21:28:20.127280",
     "exception": false,
     "start_time": "2023-10-27T21:28:20.123905",
     "status": "completed"
    },
    "tags": []
   },
   "source": [
    "#### Comprobar el entorno y leer fichero de muestras"
   ]
  },
  {
   "cell_type": "code",
   "execution_count": 6,
   "id": "8ce777d4",
   "metadata": {
    "execution": {
     "iopub.execute_input": "2023-10-27T21:28:20.134730Z",
     "iopub.status.busy": "2023-10-27T21:28:20.134549Z",
     "iopub.status.idle": "2023-10-27T21:28:20.301984Z",
     "shell.execute_reply": "2023-10-27T21:28:20.301466Z"
    },
    "papermill": {
     "duration": 0.172734,
     "end_time": "2023-10-27T21:28:20.303348",
     "exception": false,
     "start_time": "2023-10-27T21:28:20.130614",
     "status": "completed"
    },
    "tags": []
   },
   "outputs": [
    {
     "name": "stdout",
     "output_type": "stream",
     "text": [
      "20231027T232820 : amilcar22 : INFO : Encontrada carpeta DATA_DIR=../tfm_git/datos\n",
      "20231027T232820 : amilcar22 : INFO : Encontrada carpeta CFDNA_DIR=../tfm_git/datos/cfDNA_5hmC\n",
      "20231027T232820 : amilcar22 : INFO : Encontrada carpeta GENCODE_DIR=../tfm_git/datos/gencode\n",
      "20231027T232820 : amilcar22 : INFO : Encontrada carpeta H5_DIR=../tfm_git/datos/h5\n",
      "20231027T232820 : amilcar22 : INFO : Encontrada carpeta LOG_DIR=../tfm_git/datos/logs\n",
      "20231027T232820 : amilcar22 : INFO : Encontrada carpeta CSV_DIR=../tfm_git/datos/csv\n",
      "20231027T232820 : amilcar22 : INFO : Encontrada carpeta MODEL_DIR=../tfm_git/ejecuciones/modelos\n",
      "20231027T232820 : amilcar22 : INFO : Encontrada carpeta EXEC_DIR=../tfm_git/ejecuciones\n",
      "20231027T232820 : amilcar22 : INFO : Encontrada carpeta MET_DIR=../tfm_git/ejecuciones/metricas\n",
      "20231027T232820 : amilcar22 : INFO : Inicio leer fichero h5 ../tfm_git/datos/h5/rows_transpose_norm_by_gene_id_with_target_num_mul_m.h5\n",
      "20231027T232820 : amilcar22 : INFO : Leyendo clave /df\n",
      "20231027T232820 : amilcar22 : INFO : Tamaño (434, 18876)\n",
      "20231027T232820 : amilcar22 : INFO : Fin leer fichero h5 ../tfm_git/datos/h5/rows_transpose_norm_by_gene_id_with_target_num_mul_m.h5\n"
     ]
    },
    {
     "data": {
      "text/plain": [
       "target\n",
       "0    62\n",
       "1    62\n",
       "2    62\n",
       "3    62\n",
       "4    62\n",
       "5    62\n",
       "6    62\n",
       "dtype: int64"
      ]
     },
     "metadata": {},
     "output_type": "display_data"
    },
    {
     "name": "stdout",
     "output_type": "stream",
     "text": [
      "Shape df: (434, 18876)\n",
      "Shape X_train: (347, 18875)\n",
      "Shape X_test: (87, 18875)\n"
     ]
    }
   ],
   "source": [
    "start_time = datetime.datetime.now()\n",
    "\n",
    "myfunc.reset_vars()\n",
    "\n",
    "myfunc.NOTEBK_FILENAME = myfunc.get_nb_name()\n",
    "\n",
    "myfunc.check_enviroment(myfunc.DATA_DIR, myfunc.CFDNA_DIR, myfunc.GENCODE_DIR, myfunc.H5_DIR, myfunc.LOG_DIR, myfunc.CSV_DIR, myfunc.MODEL_DIR, myfunc.EXEC_DIR, myfunc.MET_DIR)\n",
    "\n",
    "# Leer fichero con las muestras\n",
    "df_t = myfunc.read_h5_to_df(DATA_FILE, myfunc.H5_DIR)\n",
    "display(df_t.groupby(\"target\").size())\n",
    "print(\"Shape df:\",df_t.shape)\n",
    "\n",
    "# Separar caracteristicas/genes de las etiquetas/tipos de cáncer\n",
    "X = df_t.iloc[:, :-1]  # Todas las columnas excepto la última\n",
    "y = df_t.iloc[:, -1]  # La última columna contiene los identificadores de los tipos de cáncer\n",
    "\n",
    "#  Crear el conjunto de datos de entrenamiento y de pruebas\n",
    "X_train, X_test, y_train, y_test = train_test_split(X, y, test_size=0.2, shuffle=True, random_state=SEMILLA)\n",
    "print(\"Shape X_train:\",X_train.shape)\n",
    "print(\"Shape X_test:\",X_test.shape)\n"
   ]
  },
  {
   "cell_type": "markdown",
   "id": "ff6aba60",
   "metadata": {
    "papermill": {
     "duration": 0.002907,
     "end_time": "2023-10-27T21:28:20.309469",
     "exception": false,
     "start_time": "2023-10-27T21:28:20.306562",
     "status": "completed"
    },
    "tags": []
   },
   "source": [
    "#### Selección de características y clasificación."
   ]
  },
  {
   "cell_type": "code",
   "execution_count": 7,
   "id": "88eca8c5",
   "metadata": {
    "execution": {
     "iopub.execute_input": "2023-10-27T21:28:20.315945Z",
     "iopub.status.busy": "2023-10-27T21:28:20.315771Z",
     "iopub.status.idle": "2023-10-27T21:28:45.815512Z",
     "shell.execute_reply": "2023-10-27T21:28:45.814817Z"
    },
    "papermill": {
     "duration": 25.504587,
     "end_time": "2023-10-27T21:28:45.816877",
     "exception": false,
     "start_time": "2023-10-27T21:28:20.312290",
     "status": "completed"
    },
    "tags": []
   },
   "outputs": [
    {
     "name": "stdout",
     "output_type": "stream",
     "text": [
      "20231027T232820 : amilcar22 : INFO : Iniciando entrenamiento\n",
      "num_iter: 1 , max_iter: 1\n",
      "Fitting 5 folds for each of 1 candidates, totalling 5 fits\n"
     ]
    },
    {
     "name": "stdout",
     "output_type": "stream",
     "text": [
      "Mejores Hiperparámetros: {'selector__max_features': 500, 'selector__estimator__n_estimators': 200, 'clasifier__n_estimators': 400, 'clasifier__min_samples_split': 10, 'clasifier__min_samples_leaf': 5, 'clasifier__max_features': 200, 'clasifier__max_depth': 20, 'clasifier__bootstrap': True}\n",
      "Mejor Puntuación: 0.8453\n",
      "20231027T232845 : amilcar22 : INFO : Fin entrenamiento\n"
     ]
    }
   ],
   "source": [
    "myfunc.verbose(\"Iniciando entrenamiento\")\n",
    "\n",
    "kf = KFold(n_splits=5, shuffle=True, random_state=SEMILLA)\n",
    "\n",
    "# Crear el pipeline para el flujo de tareas\n",
    "tasks_pipeline = Pipeline([\n",
    "    ('selector', algor_selector),\n",
    "    ('clasifier', algor_clasifier)\n",
    "])\n",
    "\n",
    "# MAX_ITERS puede limitar el número de iteraciones si son excesivas para las combinaciones de parámetros buscando un óptimo local, \n",
    "# sino funcionaría como GridSearchCV al revisar todas las cominaciones de los parámetros\n",
    "num_iteraciones = 1\n",
    "num_iteraciones = num_iteraciones * np.prod([len(elemento1) for _, elemento1 in param_distributions.items()])\n",
    "max_iteraciones = num_iteraciones if num_iteraciones <= MAX_ITERS else MAX_ITERS\n",
    "print(\"num_iter:\",num_iteraciones,\", max_iter:\",max_iteraciones)\n",
    "\n",
    "random_search = RandomizedSearchCV(\n",
    "    tasks_pipeline, \n",
    "    param_distributions, \n",
    "    n_iter=max_iteraciones,\n",
    "    scoring=SCORING,\n",
    "    cv=kf,\n",
    "    verbose=3, \n",
    "    random_state=SEMILLA, \n",
    "    n_jobs=-1\n",
    "    )\n",
    "\n",
    "# Entrenar el modelo\n",
    "random_search.fit(X_train, y_train)\n",
    "\n",
    "# Ver los mejores hiperparámetros encontrados\n",
    "print(f'Mejores Hiperparámetros: {random_search.best_params_}')\n",
    "print(f'Mejor Puntuación: {random_search.best_score_:.4f}')\n",
    "\n",
    "# Nos quedamos con el mejor modelo para ver las métricas\n",
    "mejor_modelo = random_search.best_estimator_\n",
    "\n",
    "myfunc.verbose(\"Fin entrenamiento\")"
   ]
  },
  {
   "cell_type": "markdown",
   "id": "2445553b",
   "metadata": {
    "papermill": {
     "duration": 0.002745,
     "end_time": "2023-10-27T21:28:45.823186",
     "exception": false,
     "start_time": "2023-10-27T21:28:45.820441",
     "status": "completed"
    },
    "tags": []
   },
   "source": [
    "#### Guardar modelo"
   ]
  },
  {
   "cell_type": "code",
   "execution_count": 8,
   "id": "0460291b",
   "metadata": {
    "execution": {
     "iopub.execute_input": "2023-10-27T21:28:45.833356Z",
     "iopub.status.busy": "2023-10-27T21:28:45.833147Z",
     "iopub.status.idle": "2023-10-27T21:28:46.022488Z",
     "shell.execute_reply": "2023-10-27T21:28:46.021918Z"
    },
    "papermill": {
     "duration": 0.197796,
     "end_time": "2023-10-27T21:28:46.023816",
     "exception": false,
     "start_time": "2023-10-27T21:28:45.826020",
     "status": "completed"
    },
    "tags": []
   },
   "outputs": [
    {
     "name": "stdout",
     "output_type": "stream",
     "text": [
      "20231027T232845 : amilcar22 : INFO : Inicio guardar fichero ../tfm_git/ejecuciones/modelos/modelo_0042_mul_m_RF_RF.pkl\n"
     ]
    },
    {
     "name": "stdout",
     "output_type": "stream",
     "text": [
      "20231027T232846 : amilcar22 : INFO : Fin guardar fichero ../tfm_git/ejecuciones/modelos/modelo_0042_mul_m_RF_RF.pkl\n"
     ]
    }
   ],
   "source": [
    "fichero_modelo = str.replace(\"modelo_\"+str(SEMILLA).zfill(4)+\"_\"+M_TIPO+\"_\"+M_SELECT+\"_\"+M_CLASIF+\".pkl\", \" \", \"_\")\n",
    "\n",
    "myfunc.save_modelo(mejor_modelo, myfunc.MODEL_DIR, fichero_modelo)"
   ]
  },
  {
   "cell_type": "markdown",
   "id": "68c02abe",
   "metadata": {
    "papermill": {
     "duration": 0.002925,
     "end_time": "2023-10-27T21:28:46.030003",
     "exception": false,
     "start_time": "2023-10-27T21:28:46.027078",
     "status": "completed"
    },
    "tags": []
   },
   "source": [
    "#### Ver resultados del las iteraciones hechas por RandomSearchCV"
   ]
  },
  {
   "cell_type": "code",
   "execution_count": 9,
   "id": "2f497df6",
   "metadata": {
    "execution": {
     "iopub.execute_input": "2023-10-27T21:28:46.036655Z",
     "iopub.status.busy": "2023-10-27T21:28:46.036454Z",
     "iopub.status.idle": "2023-10-27T21:28:46.042589Z",
     "shell.execute_reply": "2023-10-27T21:28:46.042068Z"
    },
    "papermill": {
     "duration": 0.01079,
     "end_time": "2023-10-27T21:28:46.043675",
     "exception": false,
     "start_time": "2023-10-27T21:28:46.032885",
     "status": "completed"
    },
    "tags": []
   },
   "outputs": [
    {
     "name": "stdout",
     "output_type": "stream",
     "text": [
      "20231027T232846 : amilcar22 : INFO : Inicio ver resultados\n",
      "Mejores Hiperparámetros: {'selector__max_features': 500, 'selector__estimator__n_estimators': 200, 'clasifier__n_estimators': 400, 'clasifier__min_samples_split': 10, 'clasifier__min_samples_leaf': 5, 'clasifier__max_features': 200, 'clasifier__max_depth': 20, 'clasifier__bootstrap': True}\n",
      "Mejores puntuaciones: 0.8453 | Params: {'selector__max_features': 500, 'selector__estimator__n_estimators': 200, 'clasifier__n_estimators': 400, 'clasifier__min_samples_split': 10, 'clasifier__min_samples_leaf': 5, 'clasifier__max_features': 200, 'clasifier__max_depth': 20, 'clasifier__bootstrap': True}\n",
      "Media de las puntuaciones: 0.8453 | Params: {'selector__max_features': 500, 'selector__estimator__n_estimators': 200, 'clasifier__n_estimators': 400, 'clasifier__min_samples_split': 10, 'clasifier__min_samples_leaf': 5, 'clasifier__max_features': 200, 'clasifier__max_depth': 20, 'clasifier__bootstrap': True}\n",
      "20231027T232846 : amilcar22 : INFO : Fin resultados\n"
     ]
    }
   ],
   "source": [
    "myfunc.ver_resultados_search(random_search)"
   ]
  },
  {
   "cell_type": "markdown",
   "id": "a383b17a",
   "metadata": {
    "papermill": {
     "duration": 0.002967,
     "end_time": "2023-10-27T21:28:46.049758",
     "exception": false,
     "start_time": "2023-10-27T21:28:46.046791",
     "status": "completed"
    },
    "tags": []
   },
   "source": [
    "#### Ver métricas del mejor modelo"
   ]
  },
  {
   "cell_type": "code",
   "execution_count": 10,
   "id": "d9cc0c1c",
   "metadata": {
    "execution": {
     "iopub.execute_input": "2023-10-27T21:28:46.056625Z",
     "iopub.status.busy": "2023-10-27T21:28:46.056451Z",
     "iopub.status.idle": "2023-10-27T21:28:46.850606Z",
     "shell.execute_reply": "2023-10-27T21:28:46.850178Z"
    },
    "papermill": {
     "duration": 0.798974,
     "end_time": "2023-10-27T21:28:46.851797",
     "exception": false,
     "start_time": "2023-10-27T21:28:46.052823",
     "status": "completed"
    },
    "tags": []
   },
   "outputs": [
    {
     "name": "stdout",
     "output_type": "stream",
     "text": [
      "20231027T232846 : amilcar22 : INFO : Inicio ver métricas multiclase\n"
     ]
    },
    {
     "name": "stdout",
     "output_type": "stream",
     "text": [
      "              precision    recall  f1-score   support\n",
      "\n",
      "           0       0.00      0.00      0.00        16\n",
      "           1       0.62      0.53      0.57        15\n",
      "           2       0.46      0.55      0.50        11\n",
      "           3       0.36      0.80      0.50         5\n",
      "           4       0.47      0.62      0.53        13\n",
      "           5       0.64      0.78      0.70         9\n",
      "           6       0.56      0.56      0.56        18\n",
      "\n",
      "    accuracy                           0.49        87\n",
      "   macro avg       0.44      0.55      0.48        87\n",
      "weighted avg       0.44      0.49      0.46        87\n",
      "\n",
      "\n",
      "\n",
      "           Exactitud: 0.494253\n",
      "   Precisión (media): 0.443295\n",
      "      Recall (media): 0.546787\n",
      "    F1-score (media): 0.480045\n",
      "\n",
      "\n",
      "AUC para el tipo de cáncer 0-Control.... 0.6268\n",
      "AUC para el tipo de cáncer 1-Bladder.... 0.8741\n",
      "AUC para el tipo de cáncer 2-Breast..... 0.8098\n",
      "AUC para el tipo de cáncer 3-Colorectal. 0.9098\n",
      "AUC para el tipo de cáncer 4-Kidney..... 0.8378\n",
      "AUC para el tipo de cáncer 5-Lung....... 0.9117\n",
      "AUC para el tipo de cáncer 6-Prostate... 0.8535\n",
      "\n",
      "Media de AUC: 0.8319\n"
     ]
    },
    {
     "data": {
      "image/png": "[encoded data removed]",
      "text/plain": [
       "<Figure size 1000x600 with 1 Axes>"
      ]
     },
     "metadata": {},
     "output_type": "display_data"
    },
    {
     "name": "stdout",
     "output_type": "stream",
     "text": [
      "\n",
      "\n"
     ]
    },
    {
     "data": {
      "image/png": "[encoded data removed]",
      "text/plain": [
       "<Figure size 800x400 with 2 Axes>"
      ]
     },
     "metadata": {},
     "output_type": "display_data"
    },
    {
     "name": "stdout",
     "output_type": "stream",
     "text": [
      "\n",
      "\n",
      "Puntuación Jaccard para el cáncer tipo 0-Control.... 0.0000\n",
      "Puntuación Jaccard para el cáncer tipo 1-Bladder.... 0.4000\n",
      "Puntuación Jaccard para el cáncer tipo 2-Breast..... 0.3333\n",
      "Puntuación Jaccard para el cáncer tipo 3-Colorectal. 0.3333\n",
      "Puntuación Jaccard para el cáncer tipo 4-Kidney..... 0.3636\n",
      "Puntuación Jaccard para el cáncer tipo 5-Lung....... 0.5385\n",
      "Puntuación Jaccard para el cáncer tipo 6-Prostate... 0.3846\n",
      "\n",
      "Media de la puntuación de Jaccard: 0.3362\n"
     ]
    }
   ],
   "source": [
    "if M_TIPO.startswith(\"bin\"):\n",
    "    myfunc.ver_metricas(mejor_modelo, X_test, y_test)\n",
    "else:\n",
    "    myfunc.ver_metricas_multi(mejor_modelo, X_test, y_test)\n"
   ]
  },
  {
   "cell_type": "markdown",
   "id": "f9a538a1",
   "metadata": {
    "papermill": {
     "duration": 0.004119,
     "end_time": "2023-10-27T21:28:46.860577",
     "exception": false,
     "start_time": "2023-10-27T21:28:46.856458",
     "status": "completed"
    },
    "tags": []
   },
   "source": [
    "#### Finalización del notebook"
   ]
  },
  {
   "cell_type": "code",
   "execution_count": 11,
   "id": "54a761ed",
   "metadata": {
    "execution": {
     "iopub.execute_input": "2023-10-27T21:28:46.869594Z",
     "iopub.status.busy": "2023-10-27T21:28:46.869389Z",
     "iopub.status.idle": "2023-10-27T21:28:46.872596Z",
     "shell.execute_reply": "2023-10-27T21:28:46.872052Z"
    },
    "papermill": {
     "duration": 0.009073,
     "end_time": "2023-10-27T21:28:46.873764",
     "exception": false,
     "start_time": "2023-10-27T21:28:46.864691",
     "status": "completed"
    },
    "tags": []
   },
   "outputs": [
    {
     "name": "stdout",
     "output_type": "stream",
     "text": [
      "20231027T232846 : amilcar22 : INFO : Notebook ha tardado 26 seconds\n"
     ]
    }
   ],
   "source": [
    "end_time = datetime.datetime.now()\n",
    "total_time = end_time - start_time\n",
    "myfunc.verbose(f\"Notebook ha tardado {total_time.seconds} seconds\")"
   ]
  },
  {
   "cell_type": "markdown",
   "id": "8e809e82",
   "metadata": {
    "papermill": {
     "duration": 0.004047,
     "end_time": "2023-10-27T21:28:46.881968",
     "exception": false,
     "start_time": "2023-10-27T21:28:46.877921",
     "status": "completed"
    },
    "tags": []
   },
   "source": [
    "#### Guardar métricas"
   ]
  },
  {
   "cell_type": "code",
   "execution_count": 12,
   "id": "21736644",
   "metadata": {
    "execution": {
     "iopub.execute_input": "2023-10-27T21:28:46.890880Z",
     "iopub.status.busy": "2023-10-27T21:28:46.890688Z",
     "iopub.status.idle": "2023-10-27T21:28:47.453295Z",
     "shell.execute_reply": "2023-10-27T21:28:47.452713Z"
    },
    "papermill": {
     "duration": 0.568452,
     "end_time": "2023-10-27T21:28:47.454500",
     "exception": false,
     "start_time": "2023-10-27T21:28:46.886048",
     "status": "completed"
    },
    "tags": []
   },
   "outputs": [
    {
     "name": "stdout",
     "output_type": "stream",
     "text": [
      "20231027T232846 : amilcar22 : INFO : Inicio guardar métricas multiclase\n",
      "20231027T232846 : amilcar22 : INFO : Inicio leer fichero ../tfm_git/ejecuciones/metricas/metricas_0042.csv\n",
      "20231027T232846 : amilcar22 : INFO : Fin leer fichero ../tfm_git/ejecuciones/metricas/metricas_0042.csv\n"
     ]
    },
    {
     "name": "stdout",
     "output_type": "stream",
     "text": [
      "20231027T232847 : amilcar22 : INFO : Inicio guardar fichero ../tfm_git/ejecuciones/metricas/metricas_0042.csv\n",
      "20231027T232847 : amilcar22 : INFO : Fichero borrado ../tfm_git/ejecuciones/metricas/metricas_0042.csv\n",
      "20231027T232847 : amilcar22 : INFO : Fin guardar fichero ../tfm_git/ejecuciones/metricas/metricas_0042.csv\n",
      "20231027T232847 : amilcar22 : INFO : Fin guardar métricas multiclase\n",
      "20231027T232847 : amilcar22 : INFO : Inicio leer fichero ../tfm_git/ejecuciones/metricas/metricas_0042.csv\n",
      "20231027T232847 : amilcar22 : INFO : Fin leer fichero ../tfm_git/ejecuciones/metricas/metricas_0042.csv\n"
     ]
    },
    {
     "data": {
      "text/html": [
       "<div>\n",
       "<style scoped>\n",
       "    .dataframe tbody tr th:only-of-type {\n",
       "        vertical-align: middle;\n",
       "    }\n",
       "\n",
       "    .dataframe tbody tr th {\n",
       "        vertical-align: top;\n",
       "    }\n",
       "\n",
       "    .dataframe thead th {\n",
       "        text-align: right;\n",
       "    }\n",
       "</style>\n",
       "<table border=\"1\" class=\"dataframe\">\n",
       "  <thead>\n",
       "    <tr style=\"text-align: right;\">\n",
       "      <th></th>\n",
       "      <th>tipo</th>\n",
       "      <th>select</th>\n",
       "      <th>clasific</th>\n",
       "      <th>accuracy</th>\n",
       "      <th>precision</th>\n",
       "      <th>recall</th>\n",
       "      <th>f1_score</th>\n",
       "      <th>roc_auc</th>\n",
       "      <th>roc_auc_ovr</th>\n",
       "      <th>hostname</th>\n",
       "      <th>total_time_sec</th>\n",
       "      <th>datetime</th>\n",
       "      <th>fichero_modelo</th>\n",
       "      <th>params</th>\n",
       "      <th>shape</th>\n",
       "      <th>features</th>\n",
       "      <th>semilla</th>\n",
       "      <th>indices_auc</th>\n",
       "      <th>indices_jaccard</th>\n",
       "    </tr>\n",
       "  </thead>\n",
       "  <tbody>\n",
       "    <tr>\n",
       "      <th>0</th>\n",
       "      <td>mul_m</td>\n",
       "      <td>RF</td>\n",
       "      <td>RF</td>\n",
       "      <td>0.494253</td>\n",
       "      <td>0.443295</td>\n",
       "      <td>0.546787</td>\n",
       "      <td>0.480045</td>\n",
       "      <td>NaN</td>\n",
       "      <td>0.831911</td>\n",
       "      <td>amilcar22</td>\n",
       "      <td>26</td>\n",
       "      <td>2023-10-27 23:28:47.407544</td>\n",
       "      <td>modelo_0042_mul_m_RF_RF.pkl</td>\n",
       "      <td>{'selector__max_features': 500, 'selector__est...</td>\n",
       "      <td>X_test:(87, 18875)</td>\n",
       "      <td>['ENSG00000000938.13', 'ENSG00000003989.18', '...</td>\n",
       "      <td>42.0</td>\n",
       "      <td>[0.6267605633802816, 0.8740740740740741, 0.809...</td>\n",
       "      <td>[0.0, 0.4, 0.3333333333333333, 0.3333333333333...</td>\n",
       "    </tr>\n",
       "    <tr>\n",
       "      <th>0</th>\n",
       "      <td>mul_m</td>\n",
       "      <td>RF</td>\n",
       "      <td>LR_L2</td>\n",
       "      <td>0.574713</td>\n",
       "      <td>0.584639</td>\n",
       "      <td>0.581725</td>\n",
       "      <td>0.570146</td>\n",
       "      <td>NaN</td>\n",
       "      <td>0.860975</td>\n",
       "      <td>amilcar22</td>\n",
       "      <td>55</td>\n",
       "      <td>2023-10-27 23:28:14.014362</td>\n",
       "      <td>modelo_0042_mul_m_RF_LR_L2.pkl</td>\n",
       "      <td>{'selector__max_features': 1000, 'selector__es...</td>\n",
       "      <td>X_test:(87, 18875)</td>\n",
       "      <td>['ENSG00000000938.13', 'ENSG00000003989.18', '...</td>\n",
       "      <td>42.0</td>\n",
       "      <td>[0.772887323943662, 0.85, 0.7811004784688995, ...</td>\n",
       "      <td>[0.3333333333333333, 0.5263157894736842, 0.222...</td>\n",
       "    </tr>\n",
       "    <tr>\n",
       "      <th>0</th>\n",
       "      <td>mul_m</td>\n",
       "      <td>RF</td>\n",
       "      <td>LR_L1</td>\n",
       "      <td>0.517241</td>\n",
       "      <td>0.518565</td>\n",
       "      <td>0.536411</td>\n",
       "      <td>0.511208</td>\n",
       "      <td>NaN</td>\n",
       "      <td>0.843240</td>\n",
       "      <td>amilcar22</td>\n",
       "      <td>1982</td>\n",
       "      <td>2023-10-27 23:27:11.586169</td>\n",
       "      <td>modelo_0042_mul_m_RF_LR_L1.pkl</td>\n",
       "      <td>{'selector__max_features': 1000, 'selector__es...</td>\n",
       "      <td>X_test:(87, 18875)</td>\n",
       "      <td>['ENSG00000000938.13', 'ENSG00000003989.18', '...</td>\n",
       "      <td>42.0</td>\n",
       "      <td>[0.7596830985915493, 0.836111111111111, 0.7535...</td>\n",
       "      <td>[0.2608695652173913, 0.47368421052631576, 0.21...</td>\n",
       "    </tr>\n",
       "  </tbody>\n",
       "</table>\n",
       "</div>"
      ],
      "text/plain": [
       "    tipo select clasific  accuracy  precision    recall  f1_score  roc_auc  \\\n",
       "0  mul_m     RF       RF  0.494253   0.443295  0.546787  0.480045      NaN   \n",
       "0  mul_m     RF    LR_L2  0.574713   0.584639  0.581725  0.570146      NaN   \n",
       "0  mul_m     RF    LR_L1  0.517241   0.518565  0.536411  0.511208      NaN   \n",
       "\n",
       "   roc_auc_ovr   hostname  total_time_sec                    datetime  \\\n",
       "0     0.831911  amilcar22              26  2023-10-27 23:28:47.407544   \n",
       "0     0.860975  amilcar22              55  2023-10-27 23:28:14.014362   \n",
       "0     0.843240  amilcar22            1982  2023-10-27 23:27:11.586169   \n",
       "\n",
       "                   fichero_modelo  \\\n",
       "0     modelo_0042_mul_m_RF_RF.pkl   \n",
       "0  modelo_0042_mul_m_RF_LR_L2.pkl   \n",
       "0  modelo_0042_mul_m_RF_LR_L1.pkl   \n",
       "\n",
       "                                              params               shape  \\\n",
       "0  {'selector__max_features': 500, 'selector__est...  X_test:(87, 18875)   \n",
       "0  {'selector__max_features': 1000, 'selector__es...  X_test:(87, 18875)   \n",
       "0  {'selector__max_features': 1000, 'selector__es...  X_test:(87, 18875)   \n",
       "\n",
       "                                            features  semilla  \\\n",
       "0  ['ENSG00000000938.13', 'ENSG00000003989.18', '...     42.0   \n",
       "0  ['ENSG00000000938.13', 'ENSG00000003989.18', '...     42.0   \n",
       "0  ['ENSG00000000938.13', 'ENSG00000003989.18', '...     42.0   \n",
       "\n",
       "                                         indices_auc  \\\n",
       "0  [0.6267605633802816, 0.8740740740740741, 0.809...   \n",
       "0  [0.772887323943662, 0.85, 0.7811004784688995, ...   \n",
       "0  [0.7596830985915493, 0.836111111111111, 0.7535...   \n",
       "\n",
       "                                     indices_jaccard  \n",
       "0  [0.0, 0.4, 0.3333333333333333, 0.3333333333333...  \n",
       "0  [0.3333333333333333, 0.5263157894736842, 0.222...  \n",
       "0  [0.2608695652173913, 0.47368421052631576, 0.21...  "
      ]
     },
     "metadata": {},
     "output_type": "display_data"
    }
   ],
   "source": [
    "if M_TIPO.startswith(\"bin\"):\n",
    "    myfunc.save_metricas_to_csv(random_search, X_test, y_test, M_TIPO, M_SELECT, M_CLASIF, total_time, SEMILLA, myfunc.MET_DIR, M_FICHERO, fichero_modelo)\n",
    "else:\n",
    "    myfunc.save_metricas_multi_to_csv(random_search, X_test, y_test, M_TIPO, M_SELECT, M_CLASIF, total_time, SEMILLA, myfunc.MET_DIR, M_FICHERO, fichero_modelo)\n",
    "\n",
    "df1=myfunc.read_metricas_to_df(myfunc.MET_DIR,M_FICHERO)\n",
    "\n",
    "display(df1.sort_values(\"datetime\", ascending=False)[:3])\n"
   ]
  },
  {
   "cell_type": "markdown",
   "id": "3bbe159b",
   "metadata": {
    "papermill": {
     "duration": 0.004326,
     "end_time": "2023-10-27T21:28:47.463675",
     "exception": false,
     "start_time": "2023-10-27T21:28:47.459349",
     "status": "completed"
    },
    "tags": []
   },
   "source": [
    "#### Guardar resultados"
   ]
  },
  {
   "cell_type": "code",
   "execution_count": 13,
   "id": "eb2771c4",
   "metadata": {
    "execution": {
     "iopub.execute_input": "2023-10-27T21:28:47.473285Z",
     "iopub.status.busy": "2023-10-27T21:28:47.473097Z",
     "iopub.status.idle": "2023-10-27T21:28:47.481280Z",
     "shell.execute_reply": "2023-10-27T21:28:47.480761Z"
    },
    "papermill": {
     "duration": 0.014537,
     "end_time": "2023-10-27T21:28:47.482605",
     "exception": false,
     "start_time": "2023-10-27T21:28:47.468068",
     "status": "completed"
    },
    "tags": []
   },
   "outputs": [
    {
     "name": "stdout",
     "output_type": "stream",
     "text": [
      "20231027T232847 : amilcar22 : INFO : Inicio guardar resultados\n",
      "20231027T232847 : amilcar22 : INFO : Inicio guardar fichero ../tfm_git/ejecuciones/metricas/resultados_0042_mul_m-RF-RF.csv\n",
      "20231027T232847 : amilcar22 : INFO : Fin guardar fichero ../tfm_git/ejecuciones/metricas/resultados_0042_mul_m-RF-RF.csv\n",
      "20231027T232847 : amilcar22 : INFO : Fin guardar resultados\n"
     ]
    }
   ],
   "source": [
    "fichero_resultados=R_FICHERO+\"_\"+M_TIPO+\"-\"+M_SELECT+\"-\"+M_CLASIF+\".csv\"\n",
    "myfunc.save_resultados_to_csv(M_TIPO, M_SELECT, M_CLASIF,  random_search, myfunc.MET_DIR, fichero_resultados)\n"
   ]
  }
 ],
 "metadata": {
  "kernelspec": {
   "display_name": "Python 3 (ipykernel)",
   "language": "python",
   "name": "python3"
  },
  "language_info": {
   "codemirror_mode": {
    "name": "ipython",
    "version": 3
   },
   "file_extension": ".py",
   "mimetype": "text/x-python",
   "name": "python",
   "nbconvert_exporter": "python",
   "pygments_lexer": "ipython3",
   "version": "3.10.12"
  },
  "papermill": {
   "default_parameters": {},
   "duration": 31.861962,
   "end_time": "2023-10-27T21:28:50.105378",
   "environment_variables": {},
   "exception": null,
   "input_path": "03_entrenamiento.ipynb",
   "output_path": "ejecuciones/training/03_entrenamiento.20231027T232817.param_0000_0042_mul_m_RF_RF.output.ipynb",
   "parameters": {
    "MAX_ITERS": 500,
    "M_CLASIF": "RF",
    "M_FICHERO": "metricas_0042",
    "M_SELECT": "RF",
    "M_TIPO": "mul_m",
    "PRE_DATA_FILE": "rows_transpose_norm_by_gene_id_with_target_num_",
    "P_FICHERO": "param_0000_0042_mul_m_RF_RF.yaml",
    "R_FICHERO": "resultados_0042",
    "SCORING": "roc_auc_ovr",
    "SEMILLA": 42,
    "eval_clasifier": "RandomForestClassifier(random_state=SEMILLA)",
    "eval_selector": "SelectFromModel(estimator=RandomForestClassifier(random_state=SEMILLA), threshold=-np.inf)",
    "param_distributions": {
     "clasifier__bootstrap": [
      true
     ],
     "clasifier__max_depth": [
      20
     ],
     "clasifier__max_features": [
      200
     ],
     "clasifier__min_samples_leaf": [
      5
     ],
     "clasifier__min_samples_split": [
      10
     ],
     "clasifier__n_estimators": [
      400
     ],
     "selector__estimator__n_estimators": [
      200
     ],
     "selector__max_features": [
      500
     ]
    }
   },
   "start_time": "2023-10-27T21:28:18.243416",
   "version": "2.4.0"
  }
 },
 "nbformat": 4,
 "nbformat_minor": 5
}