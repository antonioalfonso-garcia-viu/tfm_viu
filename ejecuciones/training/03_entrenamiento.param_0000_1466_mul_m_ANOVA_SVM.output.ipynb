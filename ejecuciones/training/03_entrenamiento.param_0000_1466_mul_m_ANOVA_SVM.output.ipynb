{
 "cells": [
  {
   "cell_type": "markdown",
   "id": "f7362adb",
   "metadata": {
    "papermill": {
     "duration": 0.004363,
     "end_time": "2023-10-29T23:57:10.058637",
     "exception": false,
     "start_time": "2023-10-29T23:57:10.054274",
     "status": "completed"
    },
    "tags": []
   },
   "source": [
    "##### Inicio"
   ]
  },
  {
   "cell_type": "markdown",
   "id": "f70a9775",
   "metadata": {
    "papermill": {
     "duration": 0.003514,
     "end_time": "2023-10-29T23:57:10.065998",
     "exception": false,
     "start_time": "2023-10-29T23:57:10.062484",
     "status": "completed"
    },
    "tags": []
   },
   "source": [
    "#### Carga de datos"
   ]
  },
  {
   "cell_type": "code",
   "execution_count": 1,
   "id": "25a02b3f",
   "metadata": {
    "execution": {
     "iopub.execute_input": "2023-10-29T23:57:10.074429Z",
     "iopub.status.busy": "2023-10-29T23:57:10.074190Z",
     "iopub.status.idle": "2023-10-29T23:57:10.944493Z",
     "shell.execute_reply": "2023-10-29T23:57:10.943967Z"
    },
    "papermill": {
     "duration": 0.876077,
     "end_time": "2023-10-29T23:57:10.945711",
     "exception": false,
     "start_time": "2023-10-29T23:57:10.069634",
     "status": "completed"
    },
    "tags": []
   },
   "outputs": [
    {
     "name": "stdout",
     "output_type": "stream",
     "text": [
      "CPU_COUNT: 8; NODE: amilcar22; sys.version: 3.10.12 (main, Jul  5 2023, 19:22:19) [GCC 11.2.0]\n",
      "LOKY_MAX_CPU_COUNT: 6\n",
      "OMP_NUM_THREADS: 2\n"
     ]
    }
   ],
   "source": [
    "import os\n",
    "import numpy as np\n",
    "import pandas as pd\n",
    "import datetime\n",
    "import sklearn\n",
    "import logging\n",
    "import warnings\n",
    "\n",
    "from sklearn.pipeline import Pipeline\n",
    "from sklearn.model_selection import RandomizedSearchCV, KFold, cross_val_score, train_test_split\n",
    "from sklearn.metrics import accuracy_score, confusion_matrix, classification_report, roc_auc_score\n",
    "\n",
    "#  cargar algoritmos para aprendizaje supervisado\n",
    "from sklearn.feature_selection import SelectKBest, f_classif, SelectFromModel, mutual_info_classif\n",
    "from sklearn.svm import SVC\n",
    "from sklearn.ensemble import RandomForestClassifier\n",
    "from sklearn.linear_model import LogisticRegression,LogisticRegressionCV\n",
    "\n",
    "# importar fichero con utilidades propias\n",
    "from commons import myfunctions as myfunc\n"
   ]
  },
  {
   "cell_type": "markdown",
   "id": "34b7eebc",
   "metadata": {
    "papermill": {
     "duration": 0.002498,
     "end_time": "2023-10-29T23:57:10.951320",
     "exception": false,
     "start_time": "2023-10-29T23:57:10.948822",
     "status": "completed"
    },
    "tags": []
   },
   "source": [
    "#### Parámetros a utilizar en el entrenamiento.\n",
    "\n",
    "Se indican los 3 algoritmos de *selección de características* (eval_selector_xxx) y los 3 algoritmos para la _clasificación_ (eval_clasifier_xxx)\n",
    "\n",
    "En *param_distributions* se indicar los parámetros que utilizan los algoritmos en la función RandomSearchCV.\n",
    "\n",
    "Esta celda tiene la etiqueta **parameters** que servirá para poder lanzar los entrenamientos con la utilidad **papermill** pasándole un fichero con los parámetros. Los nuevos parámetros se situarán tras esta celda para tener prevalencia."
   ]
  },
  {
   "cell_type": "code",
   "execution_count": 2,
   "id": "0f509c8b",
   "metadata": {
    "execution": {
     "iopub.execute_input": "2023-10-29T23:57:10.957149Z",
     "iopub.status.busy": "2023-10-29T23:57:10.956880Z",
     "iopub.status.idle": "2023-10-29T23:57:10.963656Z",
     "shell.execute_reply": "2023-10-29T23:57:10.963191Z"
    },
    "papermill": {
     "duration": 0.011014,
     "end_time": "2023-10-29T23:57:10.964766",
     "exception": false,
     "start_time": "2023-10-29T23:57:10.953752",
     "status": "completed"
    },
    "tags": [
     "parameters"
    ]
   },
   "outputs": [
    {
     "name": "stdout",
     "output_type": "stream",
     "text": [
      "20231030T005710 : amilcar22 : INFO : Utilizando parámetros de mul_m\n"
     ]
    }
   ],
   "source": [
    "#  Parametros para el entrenamiento\n",
    "\n",
    "SEMILLA=        42\n",
    "M_TIPO=         \"mul_m\"\n",
    "M_SELECT=       \"MI\"\n",
    "M_CLASIF=       \"SVM\"\n",
    "R_FICHERO=      \"resultados\"\n",
    "M_FICHERO=      \"metricas\"\n",
    "PRE_DATA_FILE=  \"rows_transpose_norm_by_gene_id_with_target_num_\"\n",
    "SCORING=        \"roc_auc_ovr\" \n",
    "MAX_ITERS=      100\n",
    "\n",
    "def mutual_info_classif_state(X, y):\n",
    "    return mutual_info_classif(X, y, random_state=SEMILLA)\n",
    "\n",
    "eval_selector_mi = \"SelectKBest(score_func=mutual_info_classif_state)\"\n",
    "eval_selector_rf=  \"SelectFromModel(estimator=RandomForestClassifier(random_state=SEMILLA), threshold=-np.inf)\"\n",
    "eval_selector_anova=  \"SelectKBest(score_func=f_classif)\"\n",
    "\n",
    "eval_clasifier_svm= \"SVC(probability=True, random_state=SEMILLA)\"\n",
    "eval_clasifier_rf= \"RandomForestClassifier(random_state=SEMILLA)\"\n",
    "eval_clasifier_lr= \"LogisticRegressionCV(random_state=SEMILLA)\"\n",
    "\n",
    "if M_TIPO.startswith(\"bin_m\"):\n",
    "    myfunc.verbose(f\"Utilizando parámetros de {M_TIPO}\")\n",
    "    eval_selector = eval_selector_mi\n",
    "    eval_clasifier = eval_clasifier_svm\n",
    "\n",
    "    SEMILLA = 6578\n",
    "    M_SELECT = \"MI\"\n",
    "    M_CLASIF = \"SVM\"\n",
    "    param_distributions = {'selector__k': [1000], \n",
    "         'clasifier__kernel': ['rbf'], 'clasifier__gamma': [0.01], 'clasifier__C': [100]}\n",
    "elif M_TIPO.startswith(\"bin_s\"):\n",
    "    myfunc.verbose(f\"Utilizando parámetros de {M_TIPO}\")\n",
    "    eval_selector = eval_selector_rf\n",
    "    eval_clasifier = eval_clasifier_lr\n",
    "\n",
    "    SEMILLA = 6191\n",
    "    M_SELECT = \"RF\"\n",
    "    M_CLASIF = \"LR_L2\"\n",
    "    param_distributions = {'selector__max_features': [1000], 'selector__estimator__n_estimators': [200], \n",
    "        'clasifier__solver': ['lbfgs'], 'clasifier__penalty': ['l2'], 'clasifier__max_iter': [10000]}\n",
    "\n",
    "elif M_TIPO.startswith(\"mul_m\"):\n",
    "    myfunc.verbose(f\"Utilizando parámetros de {M_TIPO}\")\n",
    " \n",
    "    eval_selector = eval_selector_rf\n",
    "    eval_clasifier = eval_clasifier_lr\n",
    "\n",
    "    SEMILLA = 6191\n",
    "    M_SELECT = \"RF\"\n",
    "    M_CLASIF = \"LR_L2\"\n",
    "    param_distributions = {'selector__max_features': [1000], 'selector__estimator__n_estimators': [400], \n",
    "        'clasifier__solver': ['lbfgs'], 'clasifier__penalty': ['l2'], 'clasifier__max_iter': [10000]}\n",
    "\n",
    "else:\n",
    "    # M_TIPO.startswith(\"mul_s\"):\n",
    "    myfunc.verbose(f\"Utilizando parámetros de {M_TIPO}\")\n",
    "    eval_selector = eval_selector_anova\n",
    "    eval_clasifier = eval_clasifier_lr\n",
    "\n",
    "    SEMILLA = 1860\n",
    "    M_SELECT = \"ANOVA\"\n",
    "    M_CLASIF = \"LR_L2\"\n",
    "    param_distributions = {'selector__k': [1000], \n",
    "        'clasifier__solver': ['saga'], 'clasifier__penalty': ['l2'], 'clasifier__max_iter': [10000]}\n",
    "\n"
   ]
  },
  {
   "cell_type": "code",
   "execution_count": 3,
   "id": "f8bdb952",
   "metadata": {
    "execution": {
     "iopub.execute_input": "2023-10-29T23:57:10.971169Z",
     "iopub.status.busy": "2023-10-29T23:57:10.970717Z",
     "iopub.status.idle": "2023-10-29T23:57:10.974121Z",
     "shell.execute_reply": "2023-10-29T23:57:10.973685Z"
    },
    "papermill": {
     "duration": 0.007711,
     "end_time": "2023-10-29T23:57:10.975307",
     "exception": false,
     "start_time": "2023-10-29T23:57:10.967596",
     "status": "completed"
    },
    "tags": [
     "injected-parameters"
    ]
   },
   "outputs": [],
   "source": [
    "# Parameters\n",
    "M_TIPO = \"mul_m\"\n",
    "M_SELECT = \"ANOVA\"\n",
    "M_CLASIF = \"SVM\"\n",
    "P_FICHERO = \"param_0000_1466_mul_m_ANOVA_SVM.yaml\"\n",
    "R_FICHERO = \"resultados_1466\"\n",
    "M_FICHERO = \"metricas_1466\"\n",
    "PRE_DATA_FILE = \"rows_transpose_norm_by_gene_id_with_target_num_\"\n",
    "SCORING = \"roc_auc_ovr\"\n",
    "SEMILLA = 1466\n",
    "MAX_ITERS = 500\n",
    "eval_selector = \"SelectKBest(score_func=f_classif)\"\n",
    "eval_clasifier = \"SVC(probability=True, random_state=SEMILLA)\"\n",
    "param_distributions = {\n",
    "    \"selector__k\": [500],\n",
    "    \"clasifier__kernel\": [\"rbf\"],\n",
    "    \"clasifier__gamma\": [0.01],\n",
    "    \"clasifier__C\": [100],\n",
    "}\n"
   ]
  },
  {
   "cell_type": "code",
   "execution_count": 4,
   "id": "a7d98f6b",
   "metadata": {
    "execution": {
     "iopub.execute_input": "2023-10-29T23:57:10.981505Z",
     "iopub.status.busy": "2023-10-29T23:57:10.981333Z",
     "iopub.status.idle": "2023-10-29T23:57:10.984283Z",
     "shell.execute_reply": "2023-10-29T23:57:10.983749Z"
    },
    "papermill": {
     "duration": 0.007324,
     "end_time": "2023-10-29T23:57:10.985407",
     "exception": false,
     "start_time": "2023-10-29T23:57:10.978083",
     "status": "completed"
    },
    "tags": []
   },
   "outputs": [],
   "source": [
    "DATA_FILE = PRE_DATA_FILE + M_TIPO\n",
    "\n",
    "# si viene \"None\" en el parámetro max_depth, se le quitan las comillas para que no sea entendido por el algoritmo como un texto\n",
    "if \"clasifier__max_depth\" in param_distributions:\n",
    "    param_distributions['clasifier__max_depth'] = [None if x == 'None' else x for x in param_distributions['clasifier__max_depth']]"
   ]
  },
  {
   "cell_type": "markdown",
   "id": "90cf0cdd",
   "metadata": {
    "papermill": {
     "duration": 0.002872,
     "end_time": "2023-10-29T23:57:10.991232",
     "exception": false,
     "start_time": "2023-10-29T23:57:10.988360",
     "status": "completed"
    },
    "tags": []
   },
   "source": [
    "Asignar los algoritmos que se utilizarán en la función RandomSearchCV"
   ]
  },
  {
   "cell_type": "code",
   "execution_count": 5,
   "id": "bfc5d4ca",
   "metadata": {
    "execution": {
     "iopub.execute_input": "2023-10-29T23:57:10.997655Z",
     "iopub.status.busy": "2023-10-29T23:57:10.997480Z",
     "iopub.status.idle": "2023-10-29T23:57:11.000194Z",
     "shell.execute_reply": "2023-10-29T23:57:10.999705Z"
    },
    "papermill": {
     "duration": 0.00736,
     "end_time": "2023-10-29T23:57:11.001473",
     "exception": false,
     "start_time": "2023-10-29T23:57:10.994113",
     "status": "completed"
    },
    "tags": []
   },
   "outputs": [],
   "source": [
    "algor_selector=eval(eval_selector)\n",
    "algor_clasifier=eval(eval_clasifier)"
   ]
  },
  {
   "cell_type": "markdown",
   "id": "7bee3b83",
   "metadata": {
    "papermill": {
     "duration": 0.003258,
     "end_time": "2023-10-29T23:57:11.007991",
     "exception": false,
     "start_time": "2023-10-29T23:57:11.004733",
     "status": "completed"
    },
    "tags": []
   },
   "source": [
    "#### Comprobar el entorno y leer fichero de muestras"
   ]
  },
  {
   "cell_type": "code",
   "execution_count": 6,
   "id": "20f426bc",
   "metadata": {
    "execution": {
     "iopub.execute_input": "2023-10-29T23:57:11.015256Z",
     "iopub.status.busy": "2023-10-29T23:57:11.015068Z",
     "iopub.status.idle": "2023-10-29T23:57:11.178202Z",
     "shell.execute_reply": "2023-10-29T23:57:11.177687Z"
    },
    "papermill": {
     "duration": 0.168209,
     "end_time": "2023-10-29T23:57:11.179448",
     "exception": false,
     "start_time": "2023-10-29T23:57:11.011239",
     "status": "completed"
    },
    "tags": []
   },
   "outputs": [
    {
     "name": "stdout",
     "output_type": "stream",
     "text": [
      "20231030T005711 : amilcar22 : INFO : Encontrada carpeta DATA_DIR=../tfm_git/datos\n",
      "20231030T005711 : amilcar22 : INFO : Encontrada carpeta CFDNA_DIR=../tfm_git/datos/cfDNA_5hmC\n",
      "20231030T005711 : amilcar22 : INFO : Encontrada carpeta GENCODE_DIR=../tfm_git/datos/gencode\n",
      "20231030T005711 : amilcar22 : INFO : Encontrada carpeta H5_DIR=../tfm_git/datos/h5\n",
      "20231030T005711 : amilcar22 : INFO : Encontrada carpeta LOG_DIR=../tfm_git/datos/logs\n",
      "20231030T005711 : amilcar22 : INFO : Encontrada carpeta CSV_DIR=../tfm_git/datos/csv\n",
      "20231030T005711 : amilcar22 : INFO : Encontrada carpeta MODEL_DIR=../tfm_git/ejecuciones/modelos\n",
      "20231030T005711 : amilcar22 : INFO : Encontrada carpeta EXEC_DIR=../tfm_git/ejecuciones\n",
      "20231030T005711 : amilcar22 : INFO : Encontrada carpeta MET_DIR=../tfm_git/ejecuciones/metricas\n",
      "20231030T005711 : amilcar22 : INFO : Inicio leer fichero h5 ../tfm_git/datos/h5/rows_transpose_norm_by_gene_id_with_target_num_mul_m.h5\n",
      "20231030T005711 : amilcar22 : INFO : Leyendo clave /df\n",
      "20231030T005711 : amilcar22 : INFO : Tamaño (434, 18876)\n",
      "20231030T005711 : amilcar22 : INFO : Fin leer fichero h5 ../tfm_git/datos/h5/rows_transpose_norm_by_gene_id_with_target_num_mul_m.h5\n"
     ]
    },
    {
     "data": {
      "text/plain": [
       "target\n",
       "0    62\n",
       "1    62\n",
       "2    62\n",
       "3    62\n",
       "4    62\n",
       "5    62\n",
       "6    62\n",
       "dtype: int64"
      ]
     },
     "metadata": {},
     "output_type": "display_data"
    },
    {
     "name": "stdout",
     "output_type": "stream",
     "text": [
      "Shape df: (434, 18876)\n",
      "Shape X_train: (347, 18875)\n",
      "Shape X_test: (87, 18875)\n"
     ]
    }
   ],
   "source": [
    "start_time = datetime.datetime.now()\n",
    "\n",
    "myfunc.reset_vars()\n",
    "\n",
    "myfunc.NOTEBK_FILENAME = myfunc.get_nb_name()\n",
    "\n",
    "myfunc.check_enviroment(myfunc.DATA_DIR, myfunc.CFDNA_DIR, myfunc.GENCODE_DIR, myfunc.H5_DIR, myfunc.LOG_DIR, myfunc.CSV_DIR, myfunc.MODEL_DIR, myfunc.EXEC_DIR, myfunc.MET_DIR)\n",
    "\n",
    "# Leer fichero con las muestras\n",
    "df_t = myfunc.read_h5_to_df(DATA_FILE, myfunc.H5_DIR)\n",
    "display(df_t.groupby(\"target\").size())\n",
    "print(\"Shape df:\",df_t.shape)\n",
    "\n",
    "# Separar caracteristicas/genes de las etiquetas/tipos de cáncer\n",
    "X = df_t.iloc[:, :-1]  # Todas las columnas excepto la última\n",
    "y = df_t.iloc[:, -1]  # La última columna contiene los identificadores de los tipos de cáncer\n",
    "\n",
    "#  Crear el conjunto de datos de entrenamiento y de pruebas, y se fija la semilla para siempre coger el mismo juego de muestras\n",
    "X_train, X_test, y_train, y_test = train_test_split(X, y, test_size=0.2, shuffle=True, random_state=42)\n",
    "print(\"Shape X_train:\",X_train.shape)\n",
    "print(\"Shape X_test:\",X_test.shape)\n"
   ]
  },
  {
   "cell_type": "markdown",
   "id": "eb74ec2c",
   "metadata": {
    "papermill": {
     "duration": 0.002829,
     "end_time": "2023-10-29T23:57:11.185661",
     "exception": false,
     "start_time": "2023-10-29T23:57:11.182832",
     "status": "completed"
    },
    "tags": []
   },
   "source": [
    "#### Selección de características y clasificación."
   ]
  },
  {
   "cell_type": "code",
   "execution_count": 7,
   "id": "1860f60b",
   "metadata": {
    "execution": {
     "iopub.execute_input": "2023-10-29T23:57:11.192042Z",
     "iopub.status.busy": "2023-10-29T23:57:11.191828Z",
     "iopub.status.idle": "2023-10-29T23:57:13.414000Z",
     "shell.execute_reply": "2023-10-29T23:57:13.413360Z"
    },
    "papermill": {
     "duration": 2.226958,
     "end_time": "2023-10-29T23:57:13.415345",
     "exception": false,
     "start_time": "2023-10-29T23:57:11.188387",
     "status": "completed"
    },
    "tags": []
   },
   "outputs": [
    {
     "name": "stdout",
     "output_type": "stream",
     "text": [
      "20231030T005711 : amilcar22 : INFO : Iniciando entrenamiento\n",
      "num_iter: 1 , max_iter: 1\n",
      "Fitting 5 folds for each of 1 candidates, totalling 5 fits\n"
     ]
    },
    {
     "name": "stderr",
     "output_type": "stream",
     "text": [
      "/home/antonio/miniconda3/lib/python3.10/site-packages/sklearn/feature_selection/_univariate_selection.py:112: UserWarning: Features [  298  1508  1733  1846  2010  2265  2266  2553  2803  2896  3415  3492\n",
      "  4075  4306  5803  6053  6984  7416  7945  8791  9087  9490 10475 11020\n",
      " 11613 11943 12249 12480 12831 13836 13848 13959 14000 14015 14244 14245\n",
      " 14795 14941 15397 15515 15563 15824 16237 16267 16268 16276 16313 16323\n",
      " 16339 16372 16520 16522 16667 16701 16870 16905 16906 17024 17093 17231\n",
      " 17274 17540 18255 18368 18374 18405 18608 18868] are constant.\n",
      "  warnings.warn(\"Features %s are constant.\" % constant_features_idx, UserWarning)\n",
      "/home/antonio/miniconda3/lib/python3.10/site-packages/sklearn/feature_selection/_univariate_selection.py:113: RuntimeWarning: invalid value encountered in divide\n",
      "  f = msb / msw\n",
      "/home/antonio/miniconda3/lib/python3.10/site-packages/sklearn/feature_selection/_univariate_selection.py:112: UserWarning: Features [  298  1508  1733  2010  2222  2265  2266  2553  2688  2803  2896  3415\n",
      "  4075  5668  5803  6984  6993  7416  7418  8791  9087  9490 10035 10475\n",
      " 11020 11022 11613 11943 12249 12480 12831 13836 13848 13959 14015 14795\n",
      " 14941 15397 15515 15563 15824 16018 16276 16281 16313 16318 16323 16339\n",
      " 16372 16630 16679 16701 16870 16905 16906 16956 16968 17024 17091 17093\n",
      " 17231 17269 17274 17312 17679 18241 18350 18368 18374 18405 18608] are constant.\n",
      "  warnings.warn(\"Features %s are constant.\" % constant_features_idx, UserWarning)\n",
      "/home/antonio/miniconda3/lib/python3.10/site-packages/sklearn/feature_selection/_univariate_selection.py:113: RuntimeWarning: invalid value encountered in divide\n",
      "  f = msb / msw\n",
      "/home/antonio/miniconda3/lib/python3.10/site-packages/sklearn/feature_selection/_univariate_selection.py:112: UserWarning: Features [  298  1508  1733  2010  2265  2266  2271  2553  2803  2896  3415  4075\n",
      "  5803  6981  6984  7416  8513  8791  9087  9490 10475 11020 11562 11613\n",
      " 11943 12249 12480 12831 13047 13300 13836 13848 13959 14015 14559 14795\n",
      " 14941 15183 15397 15515 15563 15824 15881 16258 16276 16277 16287 16313\n",
      " 16323 16339 16372 16701 16870 16905 16906 17024 17093 17231 17264 17273\n",
      " 17274 17963 18368 18374 18405 18608 18693] are constant.\n",
      "  warnings.warn(\"Features %s are constant.\" % constant_features_idx, UserWarning)\n",
      "/home/antonio/miniconda3/lib/python3.10/site-packages/sklearn/feature_selection/_univariate_selection.py:113: RuntimeWarning: invalid value encountered in divide\n",
      "  f = msb / msw\n"
     ]
    },
    {
     "name": "stderr",
     "output_type": "stream",
     "text": [
      "/home/antonio/miniconda3/lib/python3.10/site-packages/sklearn/feature_selection/_univariate_selection.py:112: UserWarning: Features [  298  1508  1733  2010  2265  2266  2553  2803  2896  3415  4075  5533\n",
      "  5803  6984  7416  8508  8510  8791  9087  9490 10475 11020 11613 11943\n",
      " 12249 12480 12518 12831 13836 13848 13959 14015 14795 14941 15397 15401\n",
      " 15515 15563 15824 16262 16276 16313 16323 16339 16372 16701 16704 16870\n",
      " 16905 16906 17024 17093 17231 17274 17566 18245 18288 18368 18374 18405\n",
      " 18530 18608] are constant.\n",
      "  warnings.warn(\"Features %s are constant.\" % constant_features_idx, UserWarning)\n",
      "/home/antonio/miniconda3/lib/python3.10/site-packages/sklearn/feature_selection/_univariate_selection.py:113: RuntimeWarning: invalid value encountered in divide\n",
      "  f = msb / msw\n",
      "/home/antonio/miniconda3/lib/python3.10/site-packages/sklearn/feature_selection/_univariate_selection.py:112: UserWarning: Features [  298  1508  1733  2010  2265  2266  2553  2803  2896  3415  4075  5803\n",
      "  6984  7416  8791  9087  9490 10475 11020 11613 11943 12249 12433 12480\n",
      " 12831 12888 13235 13836 13848 13860 13959 14015 14735 14789 14795 14941\n",
      " 15397 15515 15516 15563 15824 16260 16276 16278 16279 16313 16323 16339\n",
      " 16372 16701 16819 16870 16905 16906 17024 17093 17231 17274 17418 18368\n",
      " 18374 18405 18546 18608] are constant.\n",
      "  warnings.warn(\"Features %s are constant.\" % constant_features_idx, UserWarning)\n",
      "/home/antonio/miniconda3/lib/python3.10/site-packages/sklearn/feature_selection/_univariate_selection.py:113: RuntimeWarning: invalid value encountered in divide\n",
      "  f = msb / msw\n"
     ]
    },
    {
     "name": "stderr",
     "output_type": "stream",
     "text": [
      "/home/antonio/miniconda3/lib/python3.10/site-packages/sklearn/feature_selection/_univariate_selection.py:112: UserWarning: Features [  298  1508  1733  2010  2265  2266  2553  2803  2896  3415  4075  5803\n",
      "  6984  7416  8791  9087  9490 10475 11020 11613 11943 12249 12480 12831\n",
      " 13836 13848 13959 14015 14795 14941 15397 15515 15563 15824 16276 16313\n",
      " 16323 16339 16372 16701 16870 16905 16906 17024 17093 17231 17274 18368\n",
      " 18374 18405 18608] are constant.\n",
      "  warnings.warn(\"Features %s are constant.\" % constant_features_idx, UserWarning)\n",
      "/home/antonio/miniconda3/lib/python3.10/site-packages/sklearn/feature_selection/_univariate_selection.py:113: RuntimeWarning: invalid value encountered in divide\n",
      "  f = msb / msw\n"
     ]
    },
    {
     "name": "stdout",
     "output_type": "stream",
     "text": [
      "Mejores Hiperparámetros: {'selector__k': 500, 'clasifier__kernel': 'rbf', 'clasifier__gamma': 0.01, 'clasifier__C': 100}\n",
      "Mejor Puntuación: 0.8457\n",
      "20231030T005713 : amilcar22 : INFO : Fin entrenamiento\n"
     ]
    }
   ],
   "source": [
    "myfunc.verbose(\"Iniciando entrenamiento\")\n",
    "\n",
    "kf = KFold(n_splits=5, shuffle=True, random_state=SEMILLA)\n",
    "\n",
    "# Crear el pipeline para el flujo de tareas\n",
    "tasks_pipeline = Pipeline([\n",
    "    ('selector', algor_selector),\n",
    "    ('clasifier', algor_clasifier)\n",
    "])\n",
    "\n",
    "# MAX_ITERS puede limitar el número de iteraciones si son excesivas para las combinaciones de parámetros buscando un óptimo local, \n",
    "# sino funcionaría como GridSearchCV al revisar todas las cominaciones de los parámetros\n",
    "num_iteraciones = 1\n",
    "num_iteraciones = num_iteraciones * np.prod([len(elemento1) for _, elemento1 in param_distributions.items()])\n",
    "max_iteraciones = num_iteraciones if num_iteraciones <= MAX_ITERS else MAX_ITERS\n",
    "print(\"num_iter:\",num_iteraciones,\", max_iter:\",max_iteraciones)\n",
    "\n",
    "random_search = RandomizedSearchCV(\n",
    "    tasks_pipeline, \n",
    "    param_distributions, \n",
    "    n_iter=max_iteraciones,\n",
    "    scoring=SCORING,\n",
    "    cv=kf,\n",
    "    verbose=3, \n",
    "    random_state=SEMILLA, \n",
    "    n_jobs=-1\n",
    "    )\n",
    "\n",
    "# Entrenar el modelo\n",
    "random_search.fit(X_train, y_train)\n",
    "\n",
    "# Ver los mejores hiperparámetros encontrados\n",
    "print(f'Mejores Hiperparámetros: {random_search.best_params_}')\n",
    "print(f'Mejor Puntuación: {random_search.best_score_:.4f}')\n",
    "\n",
    "# Nos quedamos con el mejor modelo para ver las métricas\n",
    "mejor_modelo = random_search.best_estimator_\n",
    "\n",
    "myfunc.verbose(\"Fin entrenamiento\")"
   ]
  },
  {
   "cell_type": "markdown",
   "id": "d2f3e7cd",
   "metadata": {
    "papermill": {
     "duration": 0.003388,
     "end_time": "2023-10-29T23:57:13.422216",
     "exception": false,
     "start_time": "2023-10-29T23:57:13.418828",
     "status": "completed"
    },
    "tags": []
   },
   "source": [
    "#### Guardar modelo"
   ]
  },
  {
   "cell_type": "code",
   "execution_count": 8,
   "id": "e8b888e4",
   "metadata": {
    "execution": {
     "iopub.execute_input": "2023-10-29T23:57:13.429185Z",
     "iopub.status.busy": "2023-10-29T23:57:13.428957Z",
     "iopub.status.idle": "2023-10-29T23:57:13.438143Z",
     "shell.execute_reply": "2023-10-29T23:57:13.437547Z"
    },
    "papermill": {
     "duration": 0.014312,
     "end_time": "2023-10-29T23:57:13.439483",
     "exception": false,
     "start_time": "2023-10-29T23:57:13.425171",
     "status": "completed"
    },
    "tags": []
   },
   "outputs": [
    {
     "name": "stdout",
     "output_type": "stream",
     "text": [
      "20231030T005713 : amilcar22 : INFO : Inicio guardar fichero ../tfm_git/ejecuciones/modelos/modelo_1466_mul_m_ANOVA_SVM.pkl\n",
      "20231030T005713 : amilcar22 : INFO : Fin guardar fichero ../tfm_git/ejecuciones/modelos/modelo_1466_mul_m_ANOVA_SVM.pkl\n"
     ]
    }
   ],
   "source": [
    "fichero_modelo = str.replace(\"modelo_\"+str(SEMILLA).zfill(4)+\"_\"+M_TIPO+\"_\"+M_SELECT+\"_\"+M_CLASIF+\".pkl\", \" \", \"_\")\n",
    "\n",
    "myfunc.save_modelo(mejor_modelo, myfunc.MODEL_DIR, fichero_modelo)"
   ]
  },
  {
   "cell_type": "markdown",
   "id": "7c818903",
   "metadata": {
    "papermill": {
     "duration": 0.003125,
     "end_time": "2023-10-29T23:57:13.445853",
     "exception": false,
     "start_time": "2023-10-29T23:57:13.442728",
     "status": "completed"
    },
    "tags": []
   },
   "source": [
    "#### Ver resultados del las iteraciones hechas por RandomSearchCV"
   ]
  },
  {
   "cell_type": "code",
   "execution_count": 9,
   "id": "83d1312c",
   "metadata": {
    "execution": {
     "iopub.execute_input": "2023-10-29T23:57:13.452885Z",
     "iopub.status.busy": "2023-10-29T23:57:13.452677Z",
     "iopub.status.idle": "2023-10-29T23:57:13.458941Z",
     "shell.execute_reply": "2023-10-29T23:57:13.458358Z"
    },
    "papermill": {
     "duration": 0.011197,
     "end_time": "2023-10-29T23:57:13.460095",
     "exception": false,
     "start_time": "2023-10-29T23:57:13.448898",
     "status": "completed"
    },
    "tags": []
   },
   "outputs": [
    {
     "name": "stdout",
     "output_type": "stream",
     "text": [
      "20231030T005713 : amilcar22 : INFO : Inicio ver resultados\n",
      "Mejores Hiperparámetros: {'selector__k': 500, 'clasifier__kernel': 'rbf', 'clasifier__gamma': 0.01, 'clasifier__C': 100}\n",
      "Mejores puntuaciones: 0.8457 | Params: {'selector__k': 500, 'clasifier__kernel': 'rbf', 'clasifier__gamma': 0.01, 'clasifier__C': 100}\n",
      "Media de las puntuaciones: 0.8457 | Params: {'selector__k': 500, 'clasifier__kernel': 'rbf', 'clasifier__gamma': 0.01, 'clasifier__C': 100}\n",
      "20231030T005713 : amilcar22 : INFO : Fin resultados\n"
     ]
    }
   ],
   "source": [
    "myfunc.ver_resultados_search(random_search)"
   ]
  },
  {
   "cell_type": "markdown",
   "id": "59b11bc1",
   "metadata": {
    "papermill": {
     "duration": 0.003279,
     "end_time": "2023-10-29T23:57:13.466703",
     "exception": false,
     "start_time": "2023-10-29T23:57:13.463424",
     "status": "completed"
    },
    "tags": []
   },
   "source": [
    "#### Ver métricas del mejor modelo"
   ]
  },
  {
   "cell_type": "code",
   "execution_count": 10,
   "id": "8a673056",
   "metadata": {
    "execution": {
     "iopub.execute_input": "2023-10-29T23:57:13.474410Z",
     "iopub.status.busy": "2023-10-29T23:57:13.474213Z",
     "iopub.status.idle": "2023-10-29T23:57:14.108153Z",
     "shell.execute_reply": "2023-10-29T23:57:14.107725Z"
    },
    "papermill": {
     "duration": 0.639219,
     "end_time": "2023-10-29T23:57:14.109363",
     "exception": false,
     "start_time": "2023-10-29T23:57:13.470144",
     "status": "completed"
    },
    "tags": []
   },
   "outputs": [
    {
     "name": "stdout",
     "output_type": "stream",
     "text": [
      "20231030T005713 : amilcar22 : INFO : Inicio ver métricas multiclase\n"
     ]
    },
    {
     "name": "stdout",
     "output_type": "stream",
     "text": [
      "              precision    recall  f1-score   support\n",
      "\n",
      "           0       0.36      0.25      0.30        16\n",
      "           1       0.67      0.53      0.59        15\n",
      "           2       0.24      0.36      0.29        11\n",
      "           3       0.25      0.60      0.35         5\n",
      "           4       0.50      0.54      0.52        13\n",
      "           5       0.67      0.67      0.67         9\n",
      "           6       0.58      0.39      0.47        18\n",
      "\n",
      "    accuracy                           0.45        87\n",
      "   macro avg       0.47      0.48      0.45        87\n",
      "weighted avg       0.49      0.45      0.46        87\n",
      "\n",
      "\n",
      "\n",
      "           Exactitud: 0.448276\n",
      "   Precisión (media): 0.466514\n",
      "      Recall (media): 0.477284\n",
      "    F1-score (media): 0.454199\n",
      "\n",
      "\n",
      "AUC para el tipo de cáncer 0-Control.... 0.7086\n",
      "AUC para el tipo de cáncer 1-Bladder.... 0.8852\n",
      "AUC para el tipo de cáncer 2-Breast..... 0.5742\n",
      "AUC para el tipo de cáncer 3-Colorectal. 0.9268\n",
      "AUC para el tipo de cáncer 4-Kidney..... 0.8347\n",
      "AUC para el tipo de cáncer 5-Lung....... 0.9444\n",
      "AUC para el tipo de cáncer 6-Prostate... 0.8245\n",
      "\n",
      "Media de AUC: 0.8141\n"
     ]
    },
    {
     "data": {
      "image/png": "[encoded data removed]",
      "text/plain": [
       "<Figure size 1000x600 with 1 Axes>"
      ]
     },
     "metadata": {},
     "output_type": "display_data"
    },
    {
     "name": "stdout",
     "output_type": "stream",
     "text": [
      "\n",
      "\n"
     ]
    },
    {
     "data": {
      "image/png": "[encoded data removed]",
      "text/plain": [
       "<Figure size 800x400 with 2 Axes>"
      ]
     },
     "metadata": {},
     "output_type": "display_data"
    },
    {
     "name": "stdout",
     "output_type": "stream",
     "text": [
      "\n",
      "\n",
      "Puntuación Jaccard para el cáncer tipo 0-Control.... 0.1739\n",
      "Puntuación Jaccard para el cáncer tipo 1-Bladder.... 0.4211\n",
      "Puntuación Jaccard para el cáncer tipo 2-Breast..... 0.1667\n",
      "Puntuación Jaccard para el cáncer tipo 3-Colorectal. 0.2143\n",
      "Puntuación Jaccard para el cáncer tipo 4-Kidney..... 0.3500\n",
      "Puntuación Jaccard para el cáncer tipo 5-Lung....... 0.5000\n",
      "Puntuación Jaccard para el cáncer tipo 6-Prostate... 0.3043\n",
      "\n",
      "Media de la puntuación de Jaccard: 0.3043\n"
     ]
    }
   ],
   "source": [
    "if M_TIPO.startswith(\"bin\"):\n",
    "    myfunc.ver_metricas(mejor_modelo, X_test, y_test)\n",
    "else:\n",
    "    myfunc.ver_metricas_multi(mejor_modelo, X_test, y_test)\n"
   ]
  },
  {
   "cell_type": "markdown",
   "id": "e3da37d3",
   "metadata": {
    "papermill": {
     "duration": 0.004385,
     "end_time": "2023-10-29T23:57:14.118931",
     "exception": false,
     "start_time": "2023-10-29T23:57:14.114546",
     "status": "completed"
    },
    "tags": []
   },
   "source": [
    "#### Finalización del notebook"
   ]
  },
  {
   "cell_type": "code",
   "execution_count": 11,
   "id": "5b0dbf8b",
   "metadata": {
    "execution": {
     "iopub.execute_input": "2023-10-29T23:57:14.128160Z",
     "iopub.status.busy": "2023-10-29T23:57:14.127952Z",
     "iopub.status.idle": "2023-10-29T23:57:14.131355Z",
     "shell.execute_reply": "2023-10-29T23:57:14.130811Z"
    },
    "papermill": {
     "duration": 0.009368,
     "end_time": "2023-10-29T23:57:14.132511",
     "exception": false,
     "start_time": "2023-10-29T23:57:14.123143",
     "status": "completed"
    },
    "tags": []
   },
   "outputs": [
    {
     "name": "stdout",
     "output_type": "stream",
     "text": [
      "20231030T005714 : amilcar22 : INFO : Notebook ha tardado 3 seconds\n"
     ]
    }
   ],
   "source": [
    "end_time = datetime.datetime.now()\n",
    "total_time = end_time - start_time\n",
    "myfunc.verbose(f\"Notebook ha tardado {total_time.seconds} seconds\")"
   ]
  },
  {
   "cell_type": "markdown",
   "id": "9c727a23",
   "metadata": {
    "papermill": {
     "duration": 0.004262,
     "end_time": "2023-10-29T23:57:14.141070",
     "exception": false,
     "start_time": "2023-10-29T23:57:14.136808",
     "status": "completed"
    },
    "tags": []
   },
   "source": [
    "#### Guardar métricas"
   ]
  },
  {
   "cell_type": "code",
   "execution_count": 12,
   "id": "0e6c3445",
   "metadata": {
    "execution": {
     "iopub.execute_input": "2023-10-29T23:57:14.150256Z",
     "iopub.status.busy": "2023-10-29T23:57:14.150063Z",
     "iopub.status.idle": "2023-10-29T23:57:14.351893Z",
     "shell.execute_reply": "2023-10-29T23:57:14.351333Z"
    },
    "papermill": {
     "duration": 0.207806,
     "end_time": "2023-10-29T23:57:14.353096",
     "exception": false,
     "start_time": "2023-10-29T23:57:14.145290",
     "status": "completed"
    },
    "tags": []
   },
   "outputs": [
    {
     "name": "stdout",
     "output_type": "stream",
     "text": [
      "20231030T005714 : amilcar22 : INFO : Inicio guardar métricas multiclase\n",
      "20231030T005714 : amilcar22 : INFO : Inicio leer fichero ../tfm_git/ejecuciones/metricas/metricas_1466.csv\n",
      "20231030T005714 : amilcar22 : INFO : Fin leer fichero ../tfm_git/ejecuciones/metricas/metricas_1466.csv\n"
     ]
    },
    {
     "name": "stdout",
     "output_type": "stream",
     "text": [
      "20231030T005714 : amilcar22 : INFO : Inicio guardar fichero ../tfm_git/ejecuciones/metricas/metricas_1466.csv\n",
      "20231030T005714 : amilcar22 : INFO : Fichero borrado ../tfm_git/ejecuciones/metricas/metricas_1466.csv\n"
     ]
    },
    {
     "name": "stdout",
     "output_type": "stream",
     "text": [
      "20231030T005714 : amilcar22 : INFO : Fin guardar fichero ../tfm_git/ejecuciones/metricas/metricas_1466.csv\n",
      "20231030T005714 : amilcar22 : INFO : Fin guardar métricas multiclase\n",
      "20231030T005714 : amilcar22 : INFO : Inicio leer fichero ../tfm_git/ejecuciones/metricas/metricas_1466.csv\n",
      "20231030T005714 : amilcar22 : INFO : Fin leer fichero ../tfm_git/ejecuciones/metricas/metricas_1466.csv\n"
     ]
    },
    {
     "data": {
      "text/html": [
       "<div>\n",
       "<style scoped>\n",
       "    .dataframe tbody tr th:only-of-type {\n",
       "        vertical-align: middle;\n",
       "    }\n",
       "\n",
       "    .dataframe tbody tr th {\n",
       "        vertical-align: top;\n",
       "    }\n",
       "\n",
       "    .dataframe thead th {\n",
       "        text-align: right;\n",
       "    }\n",
       "</style>\n",
       "<table border=\"1\" class=\"dataframe\">\n",
       "  <thead>\n",
       "    <tr style=\"text-align: right;\">\n",
       "      <th></th>\n",
       "      <th>tipo</th>\n",
       "      <th>select</th>\n",
       "      <th>clasific</th>\n",
       "      <th>semilla</th>\n",
       "      <th>accuracy</th>\n",
       "      <th>precision</th>\n",
       "      <th>recall</th>\n",
       "      <th>f1_score</th>\n",
       "      <th>roc_auc</th>\n",
       "      <th>hostname</th>\n",
       "      <th>total_time_sec</th>\n",
       "      <th>datetime</th>\n",
       "      <th>fichero_modelo</th>\n",
       "      <th>params</th>\n",
       "      <th>shape</th>\n",
       "      <th>features</th>\n",
       "      <th>roc_auc_ovr</th>\n",
       "      <th>indices_auc</th>\n",
       "      <th>indices_jaccard</th>\n",
       "    </tr>\n",
       "  </thead>\n",
       "  <tbody>\n",
       "    <tr>\n",
       "      <th>0</th>\n",
       "      <td>mul_m</td>\n",
       "      <td>ANOVA</td>\n",
       "      <td>SVM</td>\n",
       "      <td>1466</td>\n",
       "      <td>0.448276</td>\n",
       "      <td>0.466514</td>\n",
       "      <td>0.477284</td>\n",
       "      <td>0.454199</td>\n",
       "      <td>NaN</td>\n",
       "      <td>amilcar22</td>\n",
       "      <td>3</td>\n",
       "      <td>2023-10-30 00:57:14.323749</td>\n",
       "      <td>modelo_1466_mul_m_ANOVA_SVM.pkl</td>\n",
       "      <td>{'selector__k': 500, 'clasifier__kernel': 'rbf...</td>\n",
       "      <td>X_test:(87, 18875)</td>\n",
       "      <td>['ENSG00000000938.13', 'ENSG00000004660.15', '...</td>\n",
       "      <td>0.814063</td>\n",
       "      <td>[0.7086267605633803, 0.8851851851851852, 0.574...</td>\n",
       "      <td>[0.17391304347826086, 0.42105263157894735, 0.1...</td>\n",
       "    </tr>\n",
       "    <tr>\n",
       "      <th>0</th>\n",
       "      <td>mul_m</td>\n",
       "      <td>ANOVA</td>\n",
       "      <td>RF</td>\n",
       "      <td>1466</td>\n",
       "      <td>0.448276</td>\n",
       "      <td>0.400048</td>\n",
       "      <td>0.474326</td>\n",
       "      <td>0.416777</td>\n",
       "      <td>NaN</td>\n",
       "      <td>amilcar22</td>\n",
       "      <td>19</td>\n",
       "      <td>2023-10-30 00:57:04.968483</td>\n",
       "      <td>modelo_1466_mul_m_ANOVA_RF.pkl</td>\n",
       "      <td>{'selector__k': 1000, 'clasifier__n_estimators...</td>\n",
       "      <td>X_test:(87, 18875)</td>\n",
       "      <td>['ENSG00000000938.13', 'ENSG00000002919.15', '...</td>\n",
       "      <td>0.779299</td>\n",
       "      <td>[0.6144366197183099, 0.8731481481481481, 0.623...</td>\n",
       "      <td>[0.0, 0.45454545454545453, 0.13333333333333333...</td>\n",
       "    </tr>\n",
       "    <tr>\n",
       "      <th>0</th>\n",
       "      <td>mul_m</td>\n",
       "      <td>ANOVA</td>\n",
       "      <td>LR_L2</td>\n",
       "      <td>1466</td>\n",
       "      <td>0.574713</td>\n",
       "      <td>0.575394</td>\n",
       "      <td>0.599781</td>\n",
       "      <td>0.570721</td>\n",
       "      <td>NaN</td>\n",
       "      <td>amilcar22</td>\n",
       "      <td>50</td>\n",
       "      <td>2023-10-30 00:56:38.676456</td>\n",
       "      <td>modelo_1466_mul_m_ANOVA_LR_L2.pkl</td>\n",
       "      <td>{'selector__k': 1000, 'clasifier__solver': 'lb...</td>\n",
       "      <td>X_test:(87, 18875)</td>\n",
       "      <td>['ENSG00000000938.13', 'ENSG00000002919.15', '...</td>\n",
       "      <td>0.871233</td>\n",
       "      <td>[0.7790492957746479, 0.8796296296296297, 0.785...</td>\n",
       "      <td>[0.3, 0.5, 0.21052631578947367, 0.333333333333...</td>\n",
       "    </tr>\n",
       "  </tbody>\n",
       "</table>\n",
       "</div>"
      ],
      "text/plain": [
       "    tipo select clasific  semilla  accuracy  precision    recall  f1_score  \\\n",
       "0  mul_m  ANOVA      SVM     1466  0.448276   0.466514  0.477284  0.454199   \n",
       "0  mul_m  ANOVA       RF     1466  0.448276   0.400048  0.474326  0.416777   \n",
       "0  mul_m  ANOVA    LR_L2     1466  0.574713   0.575394  0.599781  0.570721   \n",
       "\n",
       "   roc_auc   hostname  total_time_sec                    datetime  \\\n",
       "0      NaN  amilcar22               3  2023-10-30 00:57:14.323749   \n",
       "0      NaN  amilcar22              19  2023-10-30 00:57:04.968483   \n",
       "0      NaN  amilcar22              50  2023-10-30 00:56:38.676456   \n",
       "\n",
       "                      fichero_modelo  \\\n",
       "0    modelo_1466_mul_m_ANOVA_SVM.pkl   \n",
       "0     modelo_1466_mul_m_ANOVA_RF.pkl   \n",
       "0  modelo_1466_mul_m_ANOVA_LR_L2.pkl   \n",
       "\n",
       "                                              params               shape  \\\n",
       "0  {'selector__k': 500, 'clasifier__kernel': 'rbf...  X_test:(87, 18875)   \n",
       "0  {'selector__k': 1000, 'clasifier__n_estimators...  X_test:(87, 18875)   \n",
       "0  {'selector__k': 1000, 'clasifier__solver': 'lb...  X_test:(87, 18875)   \n",
       "\n",
       "                                            features  roc_auc_ovr  \\\n",
       "0  ['ENSG00000000938.13', 'ENSG00000004660.15', '...     0.814063   \n",
       "0  ['ENSG00000000938.13', 'ENSG00000002919.15', '...     0.779299   \n",
       "0  ['ENSG00000000938.13', 'ENSG00000002919.15', '...     0.871233   \n",
       "\n",
       "                                         indices_auc  \\\n",
       "0  [0.7086267605633803, 0.8851851851851852, 0.574...   \n",
       "0  [0.6144366197183099, 0.8731481481481481, 0.623...   \n",
       "0  [0.7790492957746479, 0.8796296296296297, 0.785...   \n",
       "\n",
       "                                     indices_jaccard  \n",
       "0  [0.17391304347826086, 0.42105263157894735, 0.1...  \n",
       "0  [0.0, 0.45454545454545453, 0.13333333333333333...  \n",
       "0  [0.3, 0.5, 0.21052631578947367, 0.333333333333...  "
      ]
     },
     "metadata": {},
     "output_type": "display_data"
    }
   ],
   "source": [
    "if M_TIPO.startswith(\"bin\"):\n",
    "    myfunc.save_metricas_to_csv(random_search, X_test, y_test, M_TIPO, M_SELECT, M_CLASIF, total_time, SEMILLA, myfunc.MET_DIR, M_FICHERO, fichero_modelo)\n",
    "else:\n",
    "    myfunc.save_metricas_multi_to_csv(random_search, X_test, y_test, M_TIPO, M_SELECT, M_CLASIF, total_time, SEMILLA, myfunc.MET_DIR, M_FICHERO, fichero_modelo)\n",
    "\n",
    "df1=myfunc.read_metricas_to_df(myfunc.MET_DIR,M_FICHERO)\n",
    "\n",
    "display(df1.sort_values(\"datetime\", ascending=False)[:3])\n"
   ]
  },
  {
   "cell_type": "markdown",
   "id": "0b4aeb53",
   "metadata": {
    "papermill": {
     "duration": 0.004457,
     "end_time": "2023-10-29T23:57:14.362476",
     "exception": false,
     "start_time": "2023-10-29T23:57:14.358019",
     "status": "completed"
    },
    "tags": []
   },
   "source": [
    "#### Guardar resultados"
   ]
  },
  {
   "cell_type": "code",
   "execution_count": 13,
   "id": "bc03bcbc",
   "metadata": {
    "execution": {
     "iopub.execute_input": "2023-10-29T23:57:14.372326Z",
     "iopub.status.busy": "2023-10-29T23:57:14.372126Z",
     "iopub.status.idle": "2023-10-29T23:57:14.380923Z",
     "shell.execute_reply": "2023-10-29T23:57:14.380491Z"
    },
    "papermill": {
     "duration": 0.015228,
     "end_time": "2023-10-29T23:57:14.382215",
     "exception": false,
     "start_time": "2023-10-29T23:57:14.366987",
     "status": "completed"
    },
    "tags": []
   },
   "outputs": [
    {
     "name": "stdout",
     "output_type": "stream",
     "text": [
      "20231030T005714 : amilcar22 : INFO : Inicio guardar resultados\n",
      "20231030T005714 : amilcar22 : INFO : Inicio guardar fichero ../tfm_git/ejecuciones/metricas/resultados_1466_mul_m-ANOVA-SVM.csv\n",
      "20231030T005714 : amilcar22 : INFO : Fin guardar fichero ../tfm_git/ejecuciones/metricas/resultados_1466_mul_m-ANOVA-SVM.csv\n",
      "20231030T005714 : amilcar22 : INFO : Fin guardar resultados\n"
     ]
    }
   ],
   "source": [
    "fichero_resultados=R_FICHERO+\"_\"+M_TIPO+\"-\"+M_SELECT+\"-\"+M_CLASIF+\".csv\"\n",
    "myfunc.save_resultados_to_csv(M_TIPO, M_SELECT, M_CLASIF,  random_search, myfunc.MET_DIR, fichero_resultados)\n"
   ]
  }
 ],
 "metadata": {
  "kernelspec": {
   "display_name": "Python 3 (ipykernel)",
   "language": "python",
   "name": "python3"
  },
  "language_info": {
   "codemirror_mode": {
    "name": "ipython",
    "version": 3
   },
   "file_extension": ".py",
   "mimetype": "text/x-python",
   "name": "python",
   "nbconvert_exporter": "python",
   "pygments_lexer": "ipython3",
   "version": "3.10.12"
  },
  "papermill": {
   "default_parameters": {},
   "duration": 7.859191,
   "end_time": "2023-10-29T23:57:17.003920",
   "environment_variables": {},
   "exception": null,
   "input_path": "03_entrenamiento.ipynb",
   "output_path": "ejecuciones/training/03_entrenamiento.20231030T005708.param_0000_1466_mul_m_ANOVA_SVM.output.ipynb",
   "parameters": {
    "MAX_ITERS": 500,
    "M_CLASIF": "SVM",
    "M_FICHERO": "metricas_1466",
    "M_SELECT": "ANOVA",
    "M_TIPO": "mul_m",
    "PRE_DATA_FILE": "rows_transpose_norm_by_gene_id_with_target_num_",
    "P_FICHERO": "param_0000_1466_mul_m_ANOVA_SVM.yaml",
    "R_FICHERO": "resultados_1466",
    "SCORING": "roc_auc_ovr",
    "SEMILLA": 1466,
    "eval_clasifier": "SVC(probability=True, random_state=SEMILLA)",
    "eval_selector": "SelectKBest(score_func=f_classif)",
    "param_distributions": {
     "clasifier__C": [
      100
     ],
     "clasifier__gamma": [
      0.01
     ],
     "clasifier__kernel": [
      "rbf"
     ],
     "selector__k": [
      500
     ]
    }
   },
   "start_time": "2023-10-29T23:57:09.144729",
   "version": "2.4.0"
  }
 },
 "nbformat": 4,
 "nbformat_minor": 5
}