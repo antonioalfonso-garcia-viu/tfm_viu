{
 "cells": [
  {
   "cell_type": "markdown",
   "id": "e48ccb49",
   "metadata": {
    "papermill": {
     "duration": 0.005495,
     "end_time": "2023-10-29T22:25:06.962650",
     "exception": false,
     "start_time": "2023-10-29T22:25:06.957155",
     "status": "completed"
    },
    "tags": []
   },
   "source": [
    "##### Inicio"
   ]
  },
  {
   "cell_type": "markdown",
   "id": "903a9cb3",
   "metadata": {
    "papermill": {
     "duration": 0.007144,
     "end_time": "2023-10-29T22:25:06.973553",
     "exception": false,
     "start_time": "2023-10-29T22:25:06.966409",
     "status": "completed"
    },
    "tags": []
   },
   "source": [
    "#### Carga de datos"
   ]
  },
  {
   "cell_type": "code",
   "execution_count": 1,
   "id": "07cb8bb6",
   "metadata": {
    "execution": {
     "iopub.execute_input": "2023-10-29T22:25:06.981973Z",
     "iopub.status.busy": "2023-10-29T22:25:06.981384Z",
     "iopub.status.idle": "2023-10-29T22:25:08.138738Z",
     "shell.execute_reply": "2023-10-29T22:25:08.138109Z"
    },
    "papermill": {
     "duration": 1.163327,
     "end_time": "2023-10-29T22:25:08.140240",
     "exception": false,
     "start_time": "2023-10-29T22:25:06.976913",
     "status": "completed"
    },
    "tags": []
   },
   "outputs": [
    {
     "name": "stdout",
     "output_type": "stream",
     "text": [
      "CPU_COUNT: 16; NODE: enderlab; sys.version: 3.10.11 (main, May 16 2023, 00:28:57) [GCC 11.2.0]\n",
      "LOKY_MAX_CPU_COUNT is not set.\n",
      "OMP_NUM_THREADS is not set.\n"
     ]
    }
   ],
   "source": [
    "import os\n",
    "import numpy as np\n",
    "import pandas as pd\n",
    "import datetime\n",
    "import sklearn\n",
    "import logging\n",
    "import warnings\n",
    "\n",
    "from sklearn.pipeline import Pipeline\n",
    "from sklearn.model_selection import RandomizedSearchCV, KFold, cross_val_score, train_test_split\n",
    "from sklearn.metrics import accuracy_score, confusion_matrix, classification_report, roc_auc_score\n",
    "\n",
    "#  cargar algoritmos para aprendizaje supervisado\n",
    "from sklearn.feature_selection import SelectKBest, f_classif, SelectFromModel, mutual_info_classif\n",
    "from sklearn.svm import SVC\n",
    "from sklearn.ensemble import RandomForestClassifier\n",
    "from sklearn.linear_model import LogisticRegression,LogisticRegressionCV\n",
    "\n",
    "# importar fichero con utilidades propias\n",
    "from commons import myfunctions as myfunc\n"
   ]
  },
  {
   "cell_type": "markdown",
   "id": "ec1e7a25",
   "metadata": {
    "papermill": {
     "duration": 0.003645,
     "end_time": "2023-10-29T22:25:08.148176",
     "exception": false,
     "start_time": "2023-10-29T22:25:08.144531",
     "status": "completed"
    },
    "tags": []
   },
   "source": [
    "#### Parámetros a utilizar en el entrenamiento.\n",
    "\n",
    "Se indican los 3 algoritmos de *selección de características* (eval_selector_xxx) y los 3 algoritmos para la _clasificación_ (eval_clasifier_xxx)\n",
    "\n",
    "En *param_distributions* se indicar los parámetros que utilizan los algoritmos en la función RandomSearchCV.\n",
    "\n",
    "Esta celda tiene la etiqueta **parameters** que servirá para poder lanzar los entrenamientos con la utilidad **papermill** pasándole un fichero con los parámetros. Los nuevos parámetros se situarán tras esta celda para tener prevalencia."
   ]
  },
  {
   "cell_type": "code",
   "execution_count": 2,
   "id": "c2aa0cdd",
   "metadata": {
    "execution": {
     "iopub.execute_input": "2023-10-29T22:25:08.156619Z",
     "iopub.status.busy": "2023-10-29T22:25:08.156075Z",
     "iopub.status.idle": "2023-10-29T22:25:08.164657Z",
     "shell.execute_reply": "2023-10-29T22:25:08.164115Z"
    },
    "papermill": {
     "duration": 0.014264,
     "end_time": "2023-10-29T22:25:08.165862",
     "exception": false,
     "start_time": "2023-10-29T22:25:08.151598",
     "status": "completed"
    },
    "tags": [
     "parameters"
    ]
   },
   "outputs": [
    {
     "name": "stdout",
     "output_type": "stream",
     "text": [
      "20231029T232508 : enderlab : INFO : Utilizando parámetros de mul_m\n"
     ]
    }
   ],
   "source": [
    "#  Parametros para el entrenamiento\n",
    "\n",
    "SEMILLA=        42\n",
    "M_TIPO=         \"mul_m\"\n",
    "M_SELECT=       \"MI\"\n",
    "M_CLASIF=       \"SVM\"\n",
    "R_FICHERO=      \"resultados\"\n",
    "M_FICHERO=      \"metricas\"\n",
    "PRE_DATA_FILE=  \"rows_transpose_norm_by_gene_id_with_target_num_\"\n",
    "SCORING=        \"roc_auc_ovr\" \n",
    "MAX_ITERS=      100\n",
    "\n",
    "def mutual_info_classif_state(X, y):\n",
    "    return mutual_info_classif(X, y, random_state=SEMILLA)\n",
    "\n",
    "eval_selector_mi = \"SelectKBest(score_func=mutual_info_classif_state)\"\n",
    "eval_selector_rf=  \"SelectFromModel(estimator=RandomForestClassifier(random_state=SEMILLA), threshold=-np.inf)\"\n",
    "eval_selector_anova=  \"SelectKBest(score_func=f_classif)\"\n",
    "\n",
    "eval_clasifier_svm= \"SVC(probability=True, random_state=SEMILLA)\"\n",
    "eval_clasifier_rf= \"RandomForestClassifier(random_state=SEMILLA)\"\n",
    "eval_clasifier_lr= \"LogisticRegressionCV(random_state=SEMILLA)\"\n",
    "\n",
    "if M_TIPO.startswith(\"bin_m\"):\n",
    "    myfunc.verbose(f\"Utilizando parámetros de {M_TIPO}\")\n",
    "    eval_selector = eval_selector_mi\n",
    "    eval_clasifier = eval_clasifier_svm\n",
    "\n",
    "    SEMILLA = 6578\n",
    "    M_SELECT = \"MI\"\n",
    "    M_CLASIF = \"SVM\"\n",
    "    param_distributions = {'selector__k': [1000], \n",
    "         'clasifier__kernel': ['rbf'], 'clasifier__gamma': [0.01], 'clasifier__C': [100]}\n",
    "elif M_TIPO.startswith(\"bin_s\"):\n",
    "    myfunc.verbose(f\"Utilizando parámetros de {M_TIPO}\")\n",
    "    eval_selector = eval_selector_rf\n",
    "    eval_clasifier = eval_clasifier_lr\n",
    "\n",
    "    SEMILLA = 6191\n",
    "    M_SELECT = \"RF\"\n",
    "    M_CLASIF = \"LR_L2\"\n",
    "    param_distributions = {'selector__max_features': [1000], 'selector__estimator__n_estimators': [200], \n",
    "        'clasifier__solver': ['lbfgs'], 'clasifier__penalty': ['l2'], 'clasifier__max_iter': [10000]}\n",
    "\n",
    "elif M_TIPO.startswith(\"mul_m\"):\n",
    "    myfunc.verbose(f\"Utilizando parámetros de {M_TIPO}\")\n",
    " \n",
    "    eval_selector = eval_selector_rf\n",
    "    eval_clasifier = eval_clasifier_lr\n",
    "\n",
    "    SEMILLA = 6191\n",
    "    M_SELECT = \"RF\"\n",
    "    M_CLASIF = \"LR_L2\"\n",
    "    param_distributions = {'selector__max_features': [1000], 'selector__estimator__n_estimators': [400], \n",
    "        'clasifier__solver': ['lbfgs'], 'clasifier__penalty': ['l2'], 'clasifier__max_iter': [10000]}\n",
    "\n",
    "else:\n",
    "    # M_TIPO.startswith(\"mul_s\"):\n",
    "    myfunc.verbose(f\"Utilizando parámetros de {M_TIPO}\")\n",
    "    eval_selector = eval_selector_anova\n",
    "    eval_clasifier = eval_clasifier_lr\n",
    "\n",
    "    SEMILLA = 1860\n",
    "    M_SELECT = \"ANOVA\"\n",
    "    M_CLASIF = \"LR_L2\"\n",
    "    param_distributions = {'selector__k': [1000], \n",
    "        'clasifier__solver': ['saga'], 'clasifier__penalty': ['l2'], 'clasifier__max_iter': [10000]}\n",
    "\n"
   ]
  },
  {
   "cell_type": "code",
   "execution_count": 3,
   "id": "c3e12a19",
   "metadata": {
    "execution": {
     "iopub.execute_input": "2023-10-29T22:25:08.174142Z",
     "iopub.status.busy": "2023-10-29T22:25:08.173680Z",
     "iopub.status.idle": "2023-10-29T22:25:08.177764Z",
     "shell.execute_reply": "2023-10-29T22:25:08.177166Z"
    },
    "papermill": {
     "duration": 0.009475,
     "end_time": "2023-10-29T22:25:08.178946",
     "exception": false,
     "start_time": "2023-10-29T22:25:08.169471",
     "status": "completed"
    },
    "tags": [
     "injected-parameters"
    ]
   },
   "outputs": [],
   "source": [
    "# Parameters\n",
    "M_TIPO = \"mul_m\"\n",
    "M_SELECT = \"MI\"\n",
    "M_CLASIF = \"LR_L2\"\n",
    "P_FICHERO = \"param_0000_8270_mul_m_MI_LR_L2.yaml\"\n",
    "R_FICHERO = \"resultados_8270\"\n",
    "M_FICHERO = \"metricas_8270\"\n",
    "PRE_DATA_FILE = \"rows_transpose_norm_by_gene_id_with_target_num_\"\n",
    "SCORING = \"roc_auc_ovr\"\n",
    "SEMILLA = 8270\n",
    "MAX_ITERS = 500\n",
    "eval_selector = \"SelectKBest(score_func=mutual_info_classif_state)\"\n",
    "eval_clasifier = \"LogisticRegressionCV(random_state=SEMILLA)\"\n",
    "param_distributions = {\n",
    "    \"selector__k\": [1000],\n",
    "    \"clasifier__solver\": [\"lbfgs\"],\n",
    "    \"clasifier__penalty\": [\"l2\"],\n",
    "    \"clasifier__max_iter\": [10000],\n",
    "}\n"
   ]
  },
  {
   "cell_type": "code",
   "execution_count": 4,
   "id": "6b85d4b2",
   "metadata": {
    "execution": {
     "iopub.execute_input": "2023-10-29T22:25:08.187653Z",
     "iopub.status.busy": "2023-10-29T22:25:08.187174Z",
     "iopub.status.idle": "2023-10-29T22:25:08.190468Z",
     "shell.execute_reply": "2023-10-29T22:25:08.189943Z"
    },
    "papermill": {
     "duration": 0.009326,
     "end_time": "2023-10-29T22:25:08.191779",
     "exception": false,
     "start_time": "2023-10-29T22:25:08.182453",
     "status": "completed"
    },
    "tags": []
   },
   "outputs": [],
   "source": [
    "DATA_FILE = PRE_DATA_FILE + M_TIPO\n",
    "\n",
    "# si viene \"None\" en el parámetro max_depth, se le quitan las comillas para que no sea entendido por el algoritmo como un texto\n",
    "if \"clasifier__max_depth\" in param_distributions:\n",
    "    param_distributions['clasifier__max_depth'] = [None if x == 'None' else x for x in param_distributions['clasifier__max_depth']]"
   ]
  },
  {
   "cell_type": "markdown",
   "id": "e4beaa7f",
   "metadata": {
    "papermill": {
     "duration": 0.003576,
     "end_time": "2023-10-29T22:25:08.199066",
     "exception": false,
     "start_time": "2023-10-29T22:25:08.195490",
     "status": "completed"
    },
    "tags": []
   },
   "source": [
    "Asignar los algoritmos que se utilizarán en la función RandomSearchCV"
   ]
  },
  {
   "cell_type": "code",
   "execution_count": 5,
   "id": "cb8b937e",
   "metadata": {
    "execution": {
     "iopub.execute_input": "2023-10-29T22:25:08.207707Z",
     "iopub.status.busy": "2023-10-29T22:25:08.207219Z",
     "iopub.status.idle": "2023-10-29T22:25:08.210140Z",
     "shell.execute_reply": "2023-10-29T22:25:08.209606Z"
    },
    "papermill": {
     "duration": 0.008497,
     "end_time": "2023-10-29T22:25:08.211330",
     "exception": false,
     "start_time": "2023-10-29T22:25:08.202833",
     "status": "completed"
    },
    "tags": []
   },
   "outputs": [],
   "source": [
    "algor_selector=eval(eval_selector)\n",
    "algor_clasifier=eval(eval_clasifier)"
   ]
  },
  {
   "cell_type": "markdown",
   "id": "1c3c1ad6",
   "metadata": {
    "papermill": {
     "duration": 0.003608,
     "end_time": "2023-10-29T22:25:08.218472",
     "exception": false,
     "start_time": "2023-10-29T22:25:08.214864",
     "status": "completed"
    },
    "tags": []
   },
   "source": [
    "#### Comprobar el entorno y leer fichero de muestras"
   ]
  },
  {
   "cell_type": "code",
   "execution_count": 6,
   "id": "50ec49b0",
   "metadata": {
    "execution": {
     "iopub.execute_input": "2023-10-29T22:25:08.226639Z",
     "iopub.status.busy": "2023-10-29T22:25:08.226432Z",
     "iopub.status.idle": "2023-10-29T22:25:08.464701Z",
     "shell.execute_reply": "2023-10-29T22:25:08.464100Z"
    },
    "papermill": {
     "duration": 0.243968,
     "end_time": "2023-10-29T22:25:08.466019",
     "exception": false,
     "start_time": "2023-10-29T22:25:08.222051",
     "status": "completed"
    },
    "tags": []
   },
   "outputs": [
    {
     "name": "stdout",
     "output_type": "stream",
     "text": [
      "20231029T232508 : enderlab : INFO : Encontrada carpeta DATA_DIR=../tfm_git/datos\n",
      "20231029T232508 : enderlab : INFO : Encontrada carpeta CFDNA_DIR=../tfm_git/datos/cfDNA_5hmC\n",
      "20231029T232508 : enderlab : INFO : Encontrada carpeta GENCODE_DIR=../tfm_git/datos/gencode\n",
      "20231029T232508 : enderlab : INFO : Encontrada carpeta H5_DIR=../tfm_git/datos/h5\n",
      "20231029T232508 : enderlab : INFO : Encontrada carpeta LOG_DIR=../tfm_git/datos/logs\n",
      "20231029T232508 : enderlab : INFO : Encontrada carpeta CSV_DIR=../tfm_git/datos/csv\n",
      "20231029T232508 : enderlab : INFO : Encontrada carpeta MODEL_DIR=../tfm_git/ejecuciones/modelos\n",
      "20231029T232508 : enderlab : INFO : Encontrada carpeta EXEC_DIR=../tfm_git/ejecuciones\n",
      "20231029T232508 : enderlab : INFO : Encontrada carpeta MET_DIR=../tfm_git/ejecuciones/metricas\n",
      "20231029T232508 : enderlab : INFO : Inicio leer fichero h5 ../tfm_git/datos/h5/rows_transpose_norm_by_gene_id_with_target_num_mul_m.h5\n",
      "20231029T232508 : enderlab : INFO : Leyendo clave /df\n"
     ]
    },
    {
     "name": "stdout",
     "output_type": "stream",
     "text": [
      "20231029T232508 : enderlab : INFO : Tamaño (434, 18876)\n",
      "20231029T232508 : enderlab : INFO : Fin leer fichero h5 ../tfm_git/datos/h5/rows_transpose_norm_by_gene_id_with_target_num_mul_m.h5\n"
     ]
    },
    {
     "data": {
      "text/plain": [
       "target\n",
       "0    62\n",
       "1    62\n",
       "2    62\n",
       "3    62\n",
       "4    62\n",
       "5    62\n",
       "6    62\n",
       "dtype: int64"
      ]
     },
     "metadata": {},
     "output_type": "display_data"
    },
    {
     "name": "stdout",
     "output_type": "stream",
     "text": [
      "Shape df: (434, 18876)\n"
     ]
    },
    {
     "name": "stdout",
     "output_type": "stream",
     "text": [
      "Shape X_train: (347, 18875)\n",
      "Shape X_test: (87, 18875)\n"
     ]
    }
   ],
   "source": [
    "start_time = datetime.datetime.now()\n",
    "\n",
    "myfunc.reset_vars()\n",
    "\n",
    "myfunc.NOTEBK_FILENAME = myfunc.get_nb_name()\n",
    "\n",
    "myfunc.check_enviroment(myfunc.DATA_DIR, myfunc.CFDNA_DIR, myfunc.GENCODE_DIR, myfunc.H5_DIR, myfunc.LOG_DIR, myfunc.CSV_DIR, myfunc.MODEL_DIR, myfunc.EXEC_DIR, myfunc.MET_DIR)\n",
    "\n",
    "# Leer fichero con las muestras\n",
    "df_t = myfunc.read_h5_to_df(DATA_FILE, myfunc.H5_DIR)\n",
    "display(df_t.groupby(\"target\").size())\n",
    "print(\"Shape df:\",df_t.shape)\n",
    "\n",
    "# Separar caracteristicas/genes de las etiquetas/tipos de cáncer\n",
    "X = df_t.iloc[:, :-1]  # Todas las columnas excepto la última\n",
    "y = df_t.iloc[:, -1]  # La última columna contiene los identificadores de los tipos de cáncer\n",
    "\n",
    "#  Crear el conjunto de datos de entrenamiento y de pruebas, y se fija la semilla para siempre coger el mismo juego de muestras\n",
    "X_train, X_test, y_train, y_test = train_test_split(X, y, test_size=0.2, shuffle=True, random_state=42)\n",
    "print(\"Shape X_train:\",X_train.shape)\n",
    "print(\"Shape X_test:\",X_test.shape)\n"
   ]
  },
  {
   "cell_type": "markdown",
   "id": "36c7ea06",
   "metadata": {
    "papermill": {
     "duration": 0.004066,
     "end_time": "2023-10-29T22:25:08.475136",
     "exception": false,
     "start_time": "2023-10-29T22:25:08.471070",
     "status": "completed"
    },
    "tags": []
   },
   "source": [
    "#### Selección de características y clasificación."
   ]
  },
  {
   "cell_type": "code",
   "execution_count": 7,
   "id": "6d8ea9f1",
   "metadata": {
    "execution": {
     "iopub.execute_input": "2023-10-29T22:25:08.484509Z",
     "iopub.status.busy": "2023-10-29T22:25:08.484027Z",
     "iopub.status.idle": "2023-10-29T22:29:21.225871Z",
     "shell.execute_reply": "2023-10-29T22:29:21.225263Z"
    },
    "papermill": {
     "duration": 252.755778,
     "end_time": "2023-10-29T22:29:21.234868",
     "exception": false,
     "start_time": "2023-10-29T22:25:08.479090",
     "status": "completed"
    },
    "tags": []
   },
   "outputs": [
    {
     "name": "stdout",
     "output_type": "stream",
     "text": [
      "20231029T232508 : enderlab : INFO : Iniciando entrenamiento\n",
      "num_iter: 1 , max_iter: 1\n",
      "Fitting 5 folds for each of 1 candidates, totalling 5 fits\n"
     ]
    },
    {
     "name": "stdout",
     "output_type": "stream",
     "text": [
      "Mejores Hiperparámetros: {'selector__k': 1000, 'clasifier__solver': 'lbfgs', 'clasifier__penalty': 'l2', 'clasifier__max_iter': 10000}\n",
      "Mejor Puntuación: 0.8730\n",
      "20231029T232921 : enderlab : INFO : Fin entrenamiento\n"
     ]
    }
   ],
   "source": [
    "myfunc.verbose(\"Iniciando entrenamiento\")\n",
    "\n",
    "kf = KFold(n_splits=5, shuffle=True, random_state=SEMILLA)\n",
    "\n",
    "# Crear el pipeline para el flujo de tareas\n",
    "tasks_pipeline = Pipeline([\n",
    "    ('selector', algor_selector),\n",
    "    ('clasifier', algor_clasifier)\n",
    "])\n",
    "\n",
    "# MAX_ITERS puede limitar el número de iteraciones si son excesivas para las combinaciones de parámetros buscando un óptimo local, \n",
    "# sino funcionaría como GridSearchCV al revisar todas las cominaciones de los parámetros\n",
    "num_iteraciones = 1\n",
    "num_iteraciones = num_iteraciones * np.prod([len(elemento1) for _, elemento1 in param_distributions.items()])\n",
    "max_iteraciones = num_iteraciones if num_iteraciones <= MAX_ITERS else MAX_ITERS\n",
    "print(\"num_iter:\",num_iteraciones,\", max_iter:\",max_iteraciones)\n",
    "\n",
    "random_search = RandomizedSearchCV(\n",
    "    tasks_pipeline, \n",
    "    param_distributions, \n",
    "    n_iter=max_iteraciones,\n",
    "    scoring=SCORING,\n",
    "    cv=kf,\n",
    "    verbose=3, \n",
    "    random_state=SEMILLA, \n",
    "    n_jobs=-1\n",
    "    )\n",
    "\n",
    "# Entrenar el modelo\n",
    "random_search.fit(X_train, y_train)\n",
    "\n",
    "# Ver los mejores hiperparámetros encontrados\n",
    "print(f'Mejores Hiperparámetros: {random_search.best_params_}')\n",
    "print(f'Mejor Puntuación: {random_search.best_score_:.4f}')\n",
    "\n",
    "# Nos quedamos con el mejor modelo para ver las métricas\n",
    "mejor_modelo = random_search.best_estimator_\n",
    "\n",
    "myfunc.verbose(\"Fin entrenamiento\")"
   ]
  },
  {
   "cell_type": "markdown",
   "id": "833e825f",
   "metadata": {
    "papermill": {
     "duration": 0.004233,
     "end_time": "2023-10-29T22:29:21.243688",
     "exception": false,
     "start_time": "2023-10-29T22:29:21.239455",
     "status": "completed"
    },
    "tags": []
   },
   "source": [
    "#### Guardar modelo"
   ]
  },
  {
   "cell_type": "code",
   "execution_count": 8,
   "id": "7bb462f5",
   "metadata": {
    "execution": {
     "iopub.execute_input": "2023-10-29T22:29:21.253233Z",
     "iopub.status.busy": "2023-10-29T22:29:21.252836Z",
     "iopub.status.idle": "2023-10-29T22:29:21.265499Z",
     "shell.execute_reply": "2023-10-29T22:29:21.265004Z"
    },
    "papermill": {
     "duration": 0.018942,
     "end_time": "2023-10-29T22:29:21.266700",
     "exception": false,
     "start_time": "2023-10-29T22:29:21.247758",
     "status": "completed"
    },
    "tags": []
   },
   "outputs": [
    {
     "name": "stdout",
     "output_type": "stream",
     "text": [
      "20231029T232921 : enderlab : INFO : Inicio guardar fichero ../tfm_git/ejecuciones/modelos/modelo_8270_mul_m_MI_LR_L2.pkl\n",
      "20231029T232921 : enderlab : INFO : Fin guardar fichero ../tfm_git/ejecuciones/modelos/modelo_8270_mul_m_MI_LR_L2.pkl\n"
     ]
    }
   ],
   "source": [
    "fichero_modelo = str.replace(\"modelo_\"+str(SEMILLA).zfill(4)+\"_\"+M_TIPO+\"_\"+M_SELECT+\"_\"+M_CLASIF+\".pkl\", \" \", \"_\")\n",
    "\n",
    "myfunc.save_modelo(mejor_modelo, myfunc.MODEL_DIR, fichero_modelo)"
   ]
  },
  {
   "cell_type": "markdown",
   "id": "d92956d8",
   "metadata": {
    "papermill": {
     "duration": 0.004149,
     "end_time": "2023-10-29T22:29:21.274966",
     "exception": false,
     "start_time": "2023-10-29T22:29:21.270817",
     "status": "completed"
    },
    "tags": []
   },
   "source": [
    "#### Ver resultados del las iteraciones hechas por RandomSearchCV"
   ]
  },
  {
   "cell_type": "code",
   "execution_count": 9,
   "id": "da5f3df2",
   "metadata": {
    "execution": {
     "iopub.execute_input": "2023-10-29T22:29:21.291055Z",
     "iopub.status.busy": "2023-10-29T22:29:21.290488Z",
     "iopub.status.idle": "2023-10-29T22:29:21.296207Z",
     "shell.execute_reply": "2023-10-29T22:29:21.295712Z"
    },
    "papermill": {
     "duration": 0.01574,
     "end_time": "2023-10-29T22:29:21.297417",
     "exception": false,
     "start_time": "2023-10-29T22:29:21.281677",
     "status": "completed"
    },
    "tags": []
   },
   "outputs": [
    {
     "name": "stdout",
     "output_type": "stream",
     "text": [
      "20231029T232921 : enderlab : INFO : Inicio ver resultados\n",
      "Mejores Hiperparámetros: {'selector__k': 1000, 'clasifier__solver': 'lbfgs', 'clasifier__penalty': 'l2', 'clasifier__max_iter': 10000}\n",
      "Mejores puntuaciones: 0.8730 | Params: {'selector__k': 1000, 'clasifier__solver': 'lbfgs', 'clasifier__penalty': 'l2', 'clasifier__max_iter': 10000}\n",
      "Media de las puntuaciones: 0.8730 | Params: {'selector__k': 1000, 'clasifier__solver': 'lbfgs', 'clasifier__penalty': 'l2', 'clasifier__max_iter': 10000}\n",
      "20231029T232921 : enderlab : INFO : Fin resultados\n"
     ]
    }
   ],
   "source": [
    "myfunc.ver_resultados_search(random_search)"
   ]
  },
  {
   "cell_type": "markdown",
   "id": "f607c48c",
   "metadata": {
    "papermill": {
     "duration": 0.004152,
     "end_time": "2023-10-29T22:29:21.305869",
     "exception": false,
     "start_time": "2023-10-29T22:29:21.301717",
     "status": "completed"
    },
    "tags": []
   },
   "source": [
    "#### Ver métricas del mejor modelo"
   ]
  },
  {
   "cell_type": "code",
   "execution_count": 10,
   "id": "d4c40eb2",
   "metadata": {
    "execution": {
     "iopub.execute_input": "2023-10-29T22:29:21.315088Z",
     "iopub.status.busy": "2023-10-29T22:29:21.314824Z",
     "iopub.status.idle": "2023-10-29T22:29:22.013992Z",
     "shell.execute_reply": "2023-10-29T22:29:22.013401Z"
    },
    "papermill": {
     "duration": 0.705227,
     "end_time": "2023-10-29T22:29:22.015264",
     "exception": false,
     "start_time": "2023-10-29T22:29:21.310037",
     "status": "completed"
    },
    "tags": []
   },
   "outputs": [
    {
     "name": "stdout",
     "output_type": "stream",
     "text": [
      "20231029T232921 : enderlab : INFO : Inicio ver métricas multiclase\n"
     ]
    },
    {
     "name": "stdout",
     "output_type": "stream",
     "text": [
      "              precision    recall  f1-score   support\n",
      "\n",
      "           0       0.64      0.56      0.60        16\n",
      "           1       0.69      0.60      0.64        15\n",
      "           2       0.45      0.45      0.45        11\n",
      "           3       0.57      0.80      0.67         5\n",
      "           4       0.62      0.62      0.62        13\n",
      "           5       0.78      0.78      0.78         9\n",
      "           6       0.65      0.72      0.68        18\n",
      "\n",
      "    accuracy                           0.63        87\n",
      "   macro avg       0.63      0.65      0.63        87\n",
      "weighted avg       0.63      0.63      0.63        87\n",
      "\n",
      "\n",
      "\n",
      "           Exactitud: 0.632184\n",
      "   Precisión (media): 0.629186\n",
      "      Recall (media): 0.647490\n",
      "    F1-score (media): 0.634492\n",
      "\n",
      "\n",
      "AUC para el tipo de cáncer 0-Control.... 0.8829\n",
      "AUC para el tipo de cáncer 1-Bladder.... 0.8731\n",
      "AUC para el tipo de cáncer 2-Breast..... 0.8026\n",
      "AUC para el tipo de cáncer 3-Colorectal. 0.9902\n",
      "AUC para el tipo de cáncer 4-Kidney..... 0.8576\n",
      "AUC para el tipo de cáncer 5-Lung....... 0.9259\n",
      "AUC para el tipo de cáncer 6-Prostate... 0.8953\n"
     ]
    },
    {
     "name": "stdout",
     "output_type": "stream",
     "text": [
      "\n",
      "Media de AUC: 0.8897\n"
     ]
    },
    {
     "data": {
      "image/png": "[encoded data removed]",
      "text/plain": [
       "<Figure size 1000x600 with 1 Axes>"
      ]
     },
     "metadata": {},
     "output_type": "display_data"
    },
    {
     "name": "stdout",
     "output_type": "stream",
     "text": [
      "\n",
      "\n"
     ]
    },
    {
     "data": {
      "image/png": "[encoded data removed]",
      "text/plain": [
       "<Figure size 800x400 with 2 Axes>"
      ]
     },
     "metadata": {},
     "output_type": "display_data"
    },
    {
     "name": "stdout",
     "output_type": "stream",
     "text": [
      "\n",
      "\n",
      "Puntuación Jaccard para el cáncer tipo 0-Control.... 0.4286\n",
      "Puntuación Jaccard para el cáncer tipo 1-Bladder.... 0.4737\n",
      "Puntuación Jaccard para el cáncer tipo 2-Breast..... 0.2941\n",
      "Puntuación Jaccard para el cáncer tipo 3-Colorectal. 0.5000\n",
      "Puntuación Jaccard para el cáncer tipo 4-Kidney..... 0.4444\n",
      "Puntuación Jaccard para el cáncer tipo 5-Lung....... 0.6364\n",
      "Puntuación Jaccard para el cáncer tipo 6-Prostate... 0.5200\n",
      "\n",
      "Media de la puntuación de Jaccard: 0.4710\n"
     ]
    }
   ],
   "source": [
    "if M_TIPO.startswith(\"bin\"):\n",
    "    myfunc.ver_metricas(mejor_modelo, X_test, y_test)\n",
    "else:\n",
    "    myfunc.ver_metricas_multi(mejor_modelo, X_test, y_test)\n"
   ]
  },
  {
   "cell_type": "markdown",
   "id": "0967bf51",
   "metadata": {
    "papermill": {
     "duration": 0.006361,
     "end_time": "2023-10-29T22:29:22.028219",
     "exception": false,
     "start_time": "2023-10-29T22:29:22.021858",
     "status": "completed"
    },
    "tags": []
   },
   "source": [
    "#### Finalización del notebook"
   ]
  },
  {
   "cell_type": "code",
   "execution_count": 11,
   "id": "36f0464a",
   "metadata": {
    "execution": {
     "iopub.execute_input": "2023-10-29T22:29:22.041296Z",
     "iopub.status.busy": "2023-10-29T22:29:22.040691Z",
     "iopub.status.idle": "2023-10-29T22:29:22.044491Z",
     "shell.execute_reply": "2023-10-29T22:29:22.043956Z"
    },
    "papermill": {
     "duration": 0.01155,
     "end_time": "2023-10-29T22:29:22.045708",
     "exception": false,
     "start_time": "2023-10-29T22:29:22.034158",
     "status": "completed"
    },
    "tags": []
   },
   "outputs": [
    {
     "name": "stdout",
     "output_type": "stream",
     "text": [
      "20231029T232922 : enderlab : INFO : Notebook ha tardado 253 seconds\n"
     ]
    }
   ],
   "source": [
    "end_time = datetime.datetime.now()\n",
    "total_time = end_time - start_time\n",
    "myfunc.verbose(f\"Notebook ha tardado {total_time.seconds} seconds\")"
   ]
  },
  {
   "cell_type": "markdown",
   "id": "216c6644",
   "metadata": {
    "papermill": {
     "duration": 0.005804,
     "end_time": "2023-10-29T22:29:22.057563",
     "exception": false,
     "start_time": "2023-10-29T22:29:22.051759",
     "status": "completed"
    },
    "tags": []
   },
   "source": [
    "#### Guardar métricas"
   ]
  },
  {
   "cell_type": "code",
   "execution_count": 12,
   "id": "182a2759",
   "metadata": {
    "execution": {
     "iopub.execute_input": "2023-10-29T22:29:22.070603Z",
     "iopub.status.busy": "2023-10-29T22:29:22.070078Z",
     "iopub.status.idle": "2023-10-29T22:29:22.309744Z",
     "shell.execute_reply": "2023-10-29T22:29:22.309184Z"
    },
    "papermill": {
     "duration": 0.247807,
     "end_time": "2023-10-29T22:29:22.311159",
     "exception": false,
     "start_time": "2023-10-29T22:29:22.063352",
     "status": "completed"
    },
    "tags": []
   },
   "outputs": [
    {
     "name": "stdout",
     "output_type": "stream",
     "text": [
      "20231029T232922 : enderlab : INFO : Inicio guardar métricas multiclase\n",
      "20231029T232922 : enderlab : INFO : Inicio leer fichero ../tfm_git/ejecuciones/metricas/metricas_8270.csv\n",
      "20231029T232922 : enderlab : INFO : Fin leer fichero ../tfm_git/ejecuciones/metricas/metricas_8270.csv\n"
     ]
    },
    {
     "name": "stdout",
     "output_type": "stream",
     "text": [
      "20231029T232922 : enderlab : INFO : Inicio guardar fichero ../tfm_git/ejecuciones/metricas/metricas_8270.csv\n",
      "20231029T232922 : enderlab : INFO : Fichero borrado ../tfm_git/ejecuciones/metricas/metricas_8270.csv\n"
     ]
    },
    {
     "name": "stdout",
     "output_type": "stream",
     "text": [
      "20231029T232922 : enderlab : INFO : Fin guardar fichero ../tfm_git/ejecuciones/metricas/metricas_8270.csv\n",
      "20231029T232922 : enderlab : INFO : Fin guardar métricas multiclase\n",
      "20231029T232922 : enderlab : INFO : Inicio leer fichero ../tfm_git/ejecuciones/metricas/metricas_8270.csv\n",
      "20231029T232922 : enderlab : INFO : Fin leer fichero ../tfm_git/ejecuciones/metricas/metricas_8270.csv\n"
     ]
    },
    {
     "data": {
      "text/html": [
       "<div>\n",
       "<style scoped>\n",
       "    .dataframe tbody tr th:only-of-type {\n",
       "        vertical-align: middle;\n",
       "    }\n",
       "\n",
       "    .dataframe tbody tr th {\n",
       "        vertical-align: top;\n",
       "    }\n",
       "\n",
       "    .dataframe thead th {\n",
       "        text-align: right;\n",
       "    }\n",
       "</style>\n",
       "<table border=\"1\" class=\"dataframe\">\n",
       "  <thead>\n",
       "    <tr style=\"text-align: right;\">\n",
       "      <th></th>\n",
       "      <th>tipo</th>\n",
       "      <th>select</th>\n",
       "      <th>clasific</th>\n",
       "      <th>semilla</th>\n",
       "      <th>accuracy</th>\n",
       "      <th>precision</th>\n",
       "      <th>recall</th>\n",
       "      <th>f1_score</th>\n",
       "      <th>roc_auc</th>\n",
       "      <th>hostname</th>\n",
       "      <th>total_time_sec</th>\n",
       "      <th>datetime</th>\n",
       "      <th>fichero_modelo</th>\n",
       "      <th>params</th>\n",
       "      <th>shape</th>\n",
       "      <th>features</th>\n",
       "      <th>roc_auc_ovr</th>\n",
       "      <th>indices_auc</th>\n",
       "      <th>indices_jaccard</th>\n",
       "    </tr>\n",
       "  </thead>\n",
       "  <tbody>\n",
       "    <tr>\n",
       "      <th>0</th>\n",
       "      <td>mul_m</td>\n",
       "      <td>MI</td>\n",
       "      <td>LR_L2</td>\n",
       "      <td>8270</td>\n",
       "      <td>0.632184</td>\n",
       "      <td>0.629186</td>\n",
       "      <td>0.647490</td>\n",
       "      <td>0.634492</td>\n",
       "      <td>NaN</td>\n",
       "      <td>enderlab</td>\n",
       "      <td>253</td>\n",
       "      <td>2023-10-29 23:29:22.264500</td>\n",
       "      <td>modelo_8270_mul_m_MI_LR_L2.pkl</td>\n",
       "      <td>{'selector__k': 1000, 'clasifier__solver': 'lb...</td>\n",
       "      <td>X_test:(87, 18875)</td>\n",
       "      <td>['ENSG00000001460.18', 'ENSG00000004660.15', '...</td>\n",
       "      <td>0.889684</td>\n",
       "      <td>[0.8829225352112676, 0.8731481481481482, 0.802...</td>\n",
       "      <td>[0.42857142857142855, 0.47368421052631576, 0.2...</td>\n",
       "    </tr>\n",
       "    <tr>\n",
       "      <th>0</th>\n",
       "      <td>mul_m</td>\n",
       "      <td>MI</td>\n",
       "      <td>LR_L1</td>\n",
       "      <td>8270</td>\n",
       "      <td>0.655172</td>\n",
       "      <td>0.654633</td>\n",
       "      <td>0.683403</td>\n",
       "      <td>0.659399</td>\n",
       "      <td>NaN</td>\n",
       "      <td>enderlab</td>\n",
       "      <td>1592</td>\n",
       "      <td>2023-10-29 23:25:01.365105</td>\n",
       "      <td>modelo_8270_mul_m_MI_LR_L1.pkl</td>\n",
       "      <td>{'selector__k': 1000, 'clasifier__solver': 'sa...</td>\n",
       "      <td>X_test:(87, 18875)</td>\n",
       "      <td>['ENSG00000001460.18', 'ENSG00000004660.15', '...</td>\n",
       "      <td>0.884685</td>\n",
       "      <td>[0.8961267605633803, 0.8703703703703703, 0.795...</td>\n",
       "      <td>[0.5, 0.4444444444444444, 0.3125, 0.625, 0.421...</td>\n",
       "    </tr>\n",
       "    <tr>\n",
       "      <th>0</th>\n",
       "      <td>mul_m</td>\n",
       "      <td>MI</td>\n",
       "      <td>LR_EN</td>\n",
       "      <td>8270</td>\n",
       "      <td>0.655172</td>\n",
       "      <td>0.653953</td>\n",
       "      <td>0.683403</td>\n",
       "      <td>0.659074</td>\n",
       "      <td>NaN</td>\n",
       "      <td>enderlab</td>\n",
       "      <td>1548</td>\n",
       "      <td>2023-10-29 22:58:21.586950</td>\n",
       "      <td>modelo_8270_mul_m_MI_LR_EN.pkl</td>\n",
       "      <td>{'selector__k': 1000, 'clasifier__solver': 'sa...</td>\n",
       "      <td>X_test:(87, 18875)</td>\n",
       "      <td>['ENSG00000001460.18', 'ENSG00000004660.15', '...</td>\n",
       "      <td>0.892560</td>\n",
       "      <td>[0.8961267605633803, 0.875925925925926, 0.8038...</td>\n",
       "      <td>[0.5, 0.4444444444444444, 0.3125, 0.625, 0.4, ...</td>\n",
       "    </tr>\n",
       "  </tbody>\n",
       "</table>\n",
       "</div>"
      ],
      "text/plain": [
       "    tipo select clasific  semilla  accuracy  precision    recall  f1_score  \\\n",
       "0  mul_m     MI    LR_L2     8270  0.632184   0.629186  0.647490  0.634492   \n",
       "0  mul_m     MI    LR_L1     8270  0.655172   0.654633  0.683403  0.659399   \n",
       "0  mul_m     MI    LR_EN     8270  0.655172   0.653953  0.683403  0.659074   \n",
       "\n",
       "   roc_auc  hostname  total_time_sec                    datetime  \\\n",
       "0      NaN  enderlab             253  2023-10-29 23:29:22.264500   \n",
       "0      NaN  enderlab            1592  2023-10-29 23:25:01.365105   \n",
       "0      NaN  enderlab            1548  2023-10-29 22:58:21.586950   \n",
       "\n",
       "                   fichero_modelo  \\\n",
       "0  modelo_8270_mul_m_MI_LR_L2.pkl   \n",
       "0  modelo_8270_mul_m_MI_LR_L1.pkl   \n",
       "0  modelo_8270_mul_m_MI_LR_EN.pkl   \n",
       "\n",
       "                                              params               shape  \\\n",
       "0  {'selector__k': 1000, 'clasifier__solver': 'lb...  X_test:(87, 18875)   \n",
       "0  {'selector__k': 1000, 'clasifier__solver': 'sa...  X_test:(87, 18875)   \n",
       "0  {'selector__k': 1000, 'clasifier__solver': 'sa...  X_test:(87, 18875)   \n",
       "\n",
       "                                            features  roc_auc_ovr  \\\n",
       "0  ['ENSG00000001460.18', 'ENSG00000004660.15', '...     0.889684   \n",
       "0  ['ENSG00000001460.18', 'ENSG00000004660.15', '...     0.884685   \n",
       "0  ['ENSG00000001460.18', 'ENSG00000004660.15', '...     0.892560   \n",
       "\n",
       "                                         indices_auc  \\\n",
       "0  [0.8829225352112676, 0.8731481481481482, 0.802...   \n",
       "0  [0.8961267605633803, 0.8703703703703703, 0.795...   \n",
       "0  [0.8961267605633803, 0.875925925925926, 0.8038...   \n",
       "\n",
       "                                     indices_jaccard  \n",
       "0  [0.42857142857142855, 0.47368421052631576, 0.2...  \n",
       "0  [0.5, 0.4444444444444444, 0.3125, 0.625, 0.421...  \n",
       "0  [0.5, 0.4444444444444444, 0.3125, 0.625, 0.4, ...  "
      ]
     },
     "metadata": {},
     "output_type": "display_data"
    }
   ],
   "source": [
    "if M_TIPO.startswith(\"bin\"):\n",
    "    myfunc.save_metricas_to_csv(random_search, X_test, y_test, M_TIPO, M_SELECT, M_CLASIF, total_time, SEMILLA, myfunc.MET_DIR, M_FICHERO, fichero_modelo)\n",
    "else:\n",
    "    myfunc.save_metricas_multi_to_csv(random_search, X_test, y_test, M_TIPO, M_SELECT, M_CLASIF, total_time, SEMILLA, myfunc.MET_DIR, M_FICHERO, fichero_modelo)\n",
    "\n",
    "df1=myfunc.read_metricas_to_df(myfunc.MET_DIR,M_FICHERO)\n",
    "\n",
    "display(df1.sort_values(\"datetime\", ascending=False)[:3])\n"
   ]
  },
  {
   "cell_type": "markdown",
   "id": "e94ec2c0",
   "metadata": {
    "papermill": {
     "duration": 0.006284,
     "end_time": "2023-10-29T22:29:22.324106",
     "exception": false,
     "start_time": "2023-10-29T22:29:22.317822",
     "status": "completed"
    },
    "tags": []
   },
   "source": [
    "#### Guardar resultados"
   ]
  },
  {
   "cell_type": "code",
   "execution_count": 13,
   "id": "8bea67c9",
   "metadata": {
    "execution": {
     "iopub.execute_input": "2023-10-29T22:29:22.338075Z",
     "iopub.status.busy": "2023-10-29T22:29:22.337449Z",
     "iopub.status.idle": "2023-10-29T22:29:22.347325Z",
     "shell.execute_reply": "2023-10-29T22:29:22.346736Z"
    },
    "papermill": {
     "duration": 0.018336,
     "end_time": "2023-10-29T22:29:22.348640",
     "exception": false,
     "start_time": "2023-10-29T22:29:22.330304",
     "status": "completed"
    },
    "tags": []
   },
   "outputs": [
    {
     "name": "stdout",
     "output_type": "stream",
     "text": [
      "20231029T232922 : enderlab : INFO : Inicio guardar resultados\n",
      "20231029T232922 : enderlab : INFO : Inicio guardar fichero ../tfm_git/ejecuciones/metricas/resultados_8270_mul_m-MI-LR_L2.csv\n",
      "20231029T232922 : enderlab : INFO : Fin guardar fichero ../tfm_git/ejecuciones/metricas/resultados_8270_mul_m-MI-LR_L2.csv\n",
      "20231029T232922 : enderlab : INFO : Fin guardar resultados\n"
     ]
    }
   ],
   "source": [
    "fichero_resultados=R_FICHERO+\"_\"+M_TIPO+\"-\"+M_SELECT+\"-\"+M_CLASIF+\".csv\"\n",
    "myfunc.save_resultados_to_csv(M_TIPO, M_SELECT, M_CLASIF,  random_search, myfunc.MET_DIR, fichero_resultados)\n"
   ]
  }
 ],
 "metadata": {
  "kernelspec": {
   "display_name": "Python 3 (ipykernel)",
   "language": "python",
   "name": "python3"
  },
  "language_info": {
   "codemirror_mode": {
    "name": "ipython",
    "version": 3
   },
   "file_extension": ".py",
   "mimetype": "text/x-python",
   "name": "python",
   "nbconvert_exporter": "python",
   "pygments_lexer": "ipython3",
   "version": "3.10.11"
  },
  "papermill": {
   "default_parameters": {},
   "duration": 259.212885,
   "end_time": "2023-10-29T22:29:24.974257",
   "environment_variables": {},
   "exception": null,
   "input_path": "03_entrenamiento.ipynb",
   "output_path": "ejecuciones/training/03_entrenamiento.20231029T232505.param_0000_8270_mul_m_MI_LR_L2.output.ipynb",
   "parameters": {
    "MAX_ITERS": 500,
    "M_CLASIF": "LR_L2",
    "M_FICHERO": "metricas_8270",
    "M_SELECT": "MI",
    "M_TIPO": "mul_m",
    "PRE_DATA_FILE": "rows_transpose_norm_by_gene_id_with_target_num_",
    "P_FICHERO": "param_0000_8270_mul_m_MI_LR_L2.yaml",
    "R_FICHERO": "resultados_8270",
    "SCORING": "roc_auc_ovr",
    "SEMILLA": 8270,
    "eval_clasifier": "LogisticRegressionCV(random_state=SEMILLA)",
    "eval_selector": "SelectKBest(score_func=mutual_info_classif_state)",
    "param_distributions": {
     "clasifier__max_iter": [
      10000
     ],
     "clasifier__penalty": [
      "l2"
     ],
     "clasifier__solver": [
      "lbfgs"
     ],
     "selector__k": [
      1000
     ]
    }
   },
   "start_time": "2023-10-29T22:25:05.761372",
   "version": "2.4.0"
  }
 },
 "nbformat": 4,
 "nbformat_minor": 5
}