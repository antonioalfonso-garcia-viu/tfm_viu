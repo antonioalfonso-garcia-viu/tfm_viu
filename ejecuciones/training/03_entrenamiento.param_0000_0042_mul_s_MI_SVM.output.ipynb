{
 "cells": [
  {
   "cell_type": "markdown",
   "id": "ac1dc319",
   "metadata": {
    "papermill": {
     "duration": 0.004314,
     "end_time": "2023-10-27T23:03:34.562009",
     "exception": false,
     "start_time": "2023-10-27T23:03:34.557695",
     "status": "completed"
    },
    "tags": []
   },
   "source": [
    "##### Inicio"
   ]
  },
  {
   "cell_type": "markdown",
   "id": "1b94eec8",
   "metadata": {
    "papermill": {
     "duration": 0.003522,
     "end_time": "2023-10-27T23:03:34.569336",
     "exception": false,
     "start_time": "2023-10-27T23:03:34.565814",
     "status": "completed"
    },
    "tags": []
   },
   "source": [
    "#### Carga de datos"
   ]
  },
  {
   "cell_type": "code",
   "execution_count": 1,
   "id": "6cb939c3",
   "metadata": {
    "execution": {
     "iopub.execute_input": "2023-10-27T23:03:34.577686Z",
     "iopub.status.busy": "2023-10-27T23:03:34.577438Z",
     "iopub.status.idle": "2023-10-27T23:03:35.446730Z",
     "shell.execute_reply": "2023-10-27T23:03:35.446197Z"
    },
    "papermill": {
     "duration": 0.87507,
     "end_time": "2023-10-27T23:03:35.448014",
     "exception": false,
     "start_time": "2023-10-27T23:03:34.572944",
     "status": "completed"
    },
    "tags": []
   },
   "outputs": [
    {
     "name": "stdout",
     "output_type": "stream",
     "text": [
      "CPU_COUNT: 8; NODE: amilcar22; sys.version: 3.10.12 (main, Jul  5 2023, 19:22:19) [GCC 11.2.0]\n",
      "LOKY_MAX_CPU_COUNT: 6\n",
      "OMP_NUM_THREADS: 2\n"
     ]
    }
   ],
   "source": [
    "import os\n",
    "import numpy as np\n",
    "import pandas as pd\n",
    "import datetime\n",
    "import sklearn\n",
    "import logging\n",
    "import warnings\n",
    "\n",
    "from sklearn.pipeline import Pipeline\n",
    "from sklearn.model_selection import RandomizedSearchCV, KFold, cross_val_score, train_test_split\n",
    "from sklearn.metrics import accuracy_score, confusion_matrix, classification_report, roc_auc_score\n",
    "\n",
    "#  cargar algoritmos para aprendizaje supervisado\n",
    "from sklearn.feature_selection import SelectKBest, f_classif, SelectFromModel, mutual_info_classif\n",
    "from sklearn.svm import SVC\n",
    "from sklearn.ensemble import RandomForestClassifier\n",
    "from sklearn.linear_model import LogisticRegression,LogisticRegressionCV\n",
    "\n",
    "# importar fichero con utilidades propias\n",
    "from commons import myfunctions as myfunc\n"
   ]
  },
  {
   "cell_type": "markdown",
   "id": "602d04f0",
   "metadata": {
    "papermill": {
     "duration": 0.002507,
     "end_time": "2023-10-27T23:03:35.453367",
     "exception": false,
     "start_time": "2023-10-27T23:03:35.450860",
     "status": "completed"
    },
    "tags": []
   },
   "source": [
    "#### Parámetros a utilizar en el entrenamiento.\n",
    "\n",
    "Se indican los 3 algoritmos de *selección de características* (eval_selector_xxx) y los 3 algoritmos para la _clasificación_ (eval_clasifier_xxx)\n",
    "\n",
    "En *param_distributions* se indicar los parámetros que utilizan los algoritmos en la función RandomSearchCV.\n",
    "\n",
    "Esta celda tiene la etiqueta **parameters** que servirá para poder lanzar los entrenamientos con la utilidad **papermill** pasándole un fichero con los parámetros. Los nuevos parámetros se situarán tras esta celda para tener prevalencia."
   ]
  },
  {
   "cell_type": "code",
   "execution_count": 2,
   "id": "22d2cf1f",
   "metadata": {
    "execution": {
     "iopub.execute_input": "2023-10-27T23:03:35.459254Z",
     "iopub.status.busy": "2023-10-27T23:03:35.458953Z",
     "iopub.status.idle": "2023-10-27T23:03:35.466024Z",
     "shell.execute_reply": "2023-10-27T23:03:35.465579Z"
    },
    "papermill": {
     "duration": 0.011465,
     "end_time": "2023-10-27T23:03:35.467253",
     "exception": false,
     "start_time": "2023-10-27T23:03:35.455788",
     "status": "completed"
    },
    "tags": [
     "parameters"
    ]
   },
   "outputs": [
    {
     "name": "stdout",
     "output_type": "stream",
     "text": [
      "20231028T010335 : amilcar22 : INFO : Utilizando parámetros de mul_m\n"
     ]
    }
   ],
   "source": [
    "#  Parametros para el entrenamiento\n",
    "\n",
    "SEMILLA=        42\n",
    "M_TIPO=         \"mul_m\"\n",
    "M_SELECT=       \"MI\"\n",
    "M_CLASIF=       \"SVM\"\n",
    "R_FICHERO=      \"resultados\"\n",
    "M_FICHERO=      \"metricas\"\n",
    "PRE_DATA_FILE=  \"rows_transpose_norm_by_gene_id_with_target_num_\"\n",
    "SCORING=        \"roc_auc_ovr\" \n",
    "MAX_ITERS=      100\n",
    "\n",
    "def mutual_info_classif_state(X, y):\n",
    "    return mutual_info_classif(X, y, random_state=SEMILLA)\n",
    "\n",
    "eval_selector_mi = \"SelectKBest(score_func=mutual_info_classif_state)\"\n",
    "eval_selector_rf=  \"SelectFromModel(estimator=RandomForestClassifier(random_state=SEMILLA), threshold=-np.inf)\"\n",
    "eval_selector_anova=  \"SelectKBest(score_func=f_classif)\"\n",
    "\n",
    "eval_clasifier_svm= \"SVC(probability=True, random_state=SEMILLA)\"\n",
    "eval_clasifier_rf= \"RandomForestClassifier(random_state=SEMILLA)\"\n",
    "eval_clasifier_lr= \"LogisticRegressionCV(random_state=SEMILLA)\"\n",
    "\n",
    "if M_TIPO.startswith(\"bin_m\"):\n",
    "    myfunc.verbose(f\"Utilizando parámetros de {M_TIPO}\")\n",
    "    eval_selector = eval_selector_mi\n",
    "    eval_clasifier = eval_clasifier_svm\n",
    "\n",
    "    SEMILLA = 6578\n",
    "    M_SELECT = \"MI\"\n",
    "    M_CLASIF = \"SVM\"\n",
    "    param_distributions = {'selector__k': [1000], \n",
    "         'clasifier__kernel': ['rbf'], 'clasifier__gamma': [0.01], 'clasifier__C': [100]}\n",
    "elif M_TIPO.startswith(\"bin_s\"):\n",
    "    myfunc.verbose(f\"Utilizando parámetros de {M_TIPO}\")\n",
    "    eval_selector = eval_selector_rf\n",
    "    eval_clasifier = eval_clasifier_lr\n",
    "\n",
    "    SEMILLA = 6191\n",
    "    M_SELECT = \"RF\"\n",
    "    M_CLASIF = \"LR_L2\"\n",
    "    param_distributions = {'selector__max_features': [1000], 'selector__estimator__n_estimators': [200], \n",
    "        'clasifier__solver': ['lbfgs'], 'clasifier__penalty': ['l2'], 'clasifier__max_iter': [10000]}\n",
    "\n",
    "elif M_TIPO.startswith(\"mul_m\"):\n",
    "    myfunc.verbose(f\"Utilizando parámetros de {M_TIPO}\")\n",
    " \n",
    "    eval_selector = eval_selector_rf\n",
    "    eval_clasifier = eval_clasifier_lr\n",
    "\n",
    "    SEMILLA = 6191\n",
    "    M_SELECT = \"RF\"\n",
    "    M_CLASIF = \"LR_L2\"\n",
    "    param_distributions = {'selector__max_features': [1000], 'selector__estimator__n_estimators': [400], \n",
    "        'clasifier__solver': ['lbfgs'], 'clasifier__penalty': ['l2'], 'clasifier__max_iter': [10000]}\n",
    "\n",
    "else:\n",
    "    # M_TIPO.startswith(\"mul_s\"):\n",
    "    myfunc.verbose(f\"Utilizando parámetros de {M_TIPO}\")\n",
    "    eval_selector = eval_selector_anova\n",
    "    eval_clasifier = eval_clasifier_lr\n",
    "\n",
    "    SEMILLA = 1860\n",
    "    M_SELECT = \"ANOVA\"\n",
    "    M_CLASIF = \"LR_L2\"\n",
    "    param_distributions = {'selector__k': [1000], \n",
    "        'clasifier__solver': ['saga'], 'clasifier__penalty': ['l2'], 'clasifier__max_iter': [10000]}\n",
    "\n"
   ]
  },
  {
   "cell_type": "code",
   "execution_count": 3,
   "id": "42d8e78b",
   "metadata": {
    "execution": {
     "iopub.execute_input": "2023-10-27T23:03:35.473310Z",
     "iopub.status.busy": "2023-10-27T23:03:35.473122Z",
     "iopub.status.idle": "2023-10-27T23:03:35.476787Z",
     "shell.execute_reply": "2023-10-27T23:03:35.476339Z"
    },
    "papermill": {
     "duration": 0.008128,
     "end_time": "2023-10-27T23:03:35.478090",
     "exception": false,
     "start_time": "2023-10-27T23:03:35.469962",
     "status": "completed"
    },
    "tags": [
     "injected-parameters"
    ]
   },
   "outputs": [],
   "source": [
    "# Parameters\n",
    "M_TIPO = \"mul_s\"\n",
    "M_SELECT = \"MI\"\n",
    "M_CLASIF = \"SVM\"\n",
    "P_FICHERO = \"param_0000_0042_mul_s_MI_SVM.yaml\"\n",
    "R_FICHERO = \"resultados_0042\"\n",
    "M_FICHERO = \"metricas_0042\"\n",
    "PRE_DATA_FILE = \"rows_transpose_norm_by_gene_id_with_target_num_\"\n",
    "SCORING = \"roc_auc_ovr\"\n",
    "SEMILLA = 42\n",
    "MAX_ITERS = 500\n",
    "eval_selector = \"SelectKBest(score_func=mutual_info_classif_state)\"\n",
    "eval_clasifier = \"SVC(probability=True, random_state=SEMILLA)\"\n",
    "param_distributions = {\n",
    "    \"selector__k\": [1000],\n",
    "    \"clasifier__kernel\": [\"rbf\"],\n",
    "    \"clasifier__gamma\": [0.001],\n",
    "    \"clasifier__C\": [100],\n",
    "}\n"
   ]
  },
  {
   "cell_type": "code",
   "execution_count": 4,
   "id": "665d75fc",
   "metadata": {
    "execution": {
     "iopub.execute_input": "2023-10-27T23:03:35.484083Z",
     "iopub.status.busy": "2023-10-27T23:03:35.483873Z",
     "iopub.status.idle": "2023-10-27T23:03:35.486874Z",
     "shell.execute_reply": "2023-10-27T23:03:35.486410Z"
    },
    "papermill": {
     "duration": 0.007222,
     "end_time": "2023-10-27T23:03:35.488000",
     "exception": false,
     "start_time": "2023-10-27T23:03:35.480778",
     "status": "completed"
    },
    "tags": []
   },
   "outputs": [],
   "source": [
    "DATA_FILE = PRE_DATA_FILE + M_TIPO\n",
    "\n",
    "# si viene \"None\" en el parámetro max_depth, se le quitan las comillas para que no sea entendido por el algoritmo como un texto\n",
    "if \"clasifier__max_depth\" in param_distributions:\n",
    "    param_distributions['clasifier__max_depth'] = [None if x == 'None' else x for x in param_distributions['clasifier__max_depth']]"
   ]
  },
  {
   "cell_type": "markdown",
   "id": "af808918",
   "metadata": {
    "papermill": {
     "duration": 0.00265,
     "end_time": "2023-10-27T23:03:35.493408",
     "exception": false,
     "start_time": "2023-10-27T23:03:35.490758",
     "status": "completed"
    },
    "tags": []
   },
   "source": [
    "Asignar los algoritmos que se utilizarán en la función RandomSearchCV"
   ]
  },
  {
   "cell_type": "code",
   "execution_count": 5,
   "id": "c1e648ed",
   "metadata": {
    "execution": {
     "iopub.execute_input": "2023-10-27T23:03:35.499375Z",
     "iopub.status.busy": "2023-10-27T23:03:35.499182Z",
     "iopub.status.idle": "2023-10-27T23:03:35.501952Z",
     "shell.execute_reply": "2023-10-27T23:03:35.501473Z"
    },
    "papermill": {
     "duration": 0.00693,
     "end_time": "2023-10-27T23:03:35.503066",
     "exception": false,
     "start_time": "2023-10-27T23:03:35.496136",
     "status": "completed"
    },
    "tags": []
   },
   "outputs": [],
   "source": [
    "algor_selector=eval(eval_selector)\n",
    "algor_clasifier=eval(eval_clasifier)"
   ]
  },
  {
   "cell_type": "markdown",
   "id": "252bcef2",
   "metadata": {
    "papermill": {
     "duration": 0.002696,
     "end_time": "2023-10-27T23:03:35.508576",
     "exception": false,
     "start_time": "2023-10-27T23:03:35.505880",
     "status": "completed"
    },
    "tags": []
   },
   "source": [
    "#### Comprobar el entorno y leer fichero de muestras"
   ]
  },
  {
   "cell_type": "code",
   "execution_count": 6,
   "id": "38e7b1ce",
   "metadata": {
    "execution": {
     "iopub.execute_input": "2023-10-27T23:03:35.514453Z",
     "iopub.status.busy": "2023-10-27T23:03:35.514263Z",
     "iopub.status.idle": "2023-10-27T23:03:35.634018Z",
     "shell.execute_reply": "2023-10-27T23:03:35.633496Z"
    },
    "papermill": {
     "duration": 0.124342,
     "end_time": "2023-10-27T23:03:35.635458",
     "exception": false,
     "start_time": "2023-10-27T23:03:35.511116",
     "status": "completed"
    },
    "tags": []
   },
   "outputs": [
    {
     "name": "stdout",
     "output_type": "stream",
     "text": [
      "20231028T010335 : amilcar22 : INFO : Encontrada carpeta DATA_DIR=../tfm_git/datos\n",
      "20231028T010335 : amilcar22 : INFO : Encontrada carpeta CFDNA_DIR=../tfm_git/datos/cfDNA_5hmC\n",
      "20231028T010335 : amilcar22 : INFO : Encontrada carpeta GENCODE_DIR=../tfm_git/datos/gencode\n",
      "20231028T010335 : amilcar22 : INFO : Encontrada carpeta H5_DIR=../tfm_git/datos/h5\n",
      "20231028T010335 : amilcar22 : INFO : Encontrada carpeta LOG_DIR=../tfm_git/datos/logs\n",
      "20231028T010335 : amilcar22 : INFO : Encontrada carpeta CSV_DIR=../tfm_git/datos/csv\n",
      "20231028T010335 : amilcar22 : INFO : Encontrada carpeta MODEL_DIR=../tfm_git/ejecuciones/modelos\n",
      "20231028T010335 : amilcar22 : INFO : Encontrada carpeta EXEC_DIR=../tfm_git/ejecuciones\n",
      "20231028T010335 : amilcar22 : INFO : Encontrada carpeta MET_DIR=../tfm_git/ejecuciones/metricas\n",
      "20231028T010335 : amilcar22 : INFO : Inicio leer fichero h5 ../tfm_git/datos/h5/rows_transpose_norm_by_gene_id_with_target_num_mul_s.h5\n",
      "20231028T010335 : amilcar22 : INFO : Leyendo clave /df\n",
      "20231028T010335 : amilcar22 : INFO : Tamaño (259, 18876)\n",
      "20231028T010335 : amilcar22 : INFO : Fin leer fichero h5 ../tfm_git/datos/h5/rows_transpose_norm_by_gene_id_with_target_num_mul_s.h5\n"
     ]
    },
    {
     "data": {
      "text/plain": [
       "target\n",
       "0    37\n",
       "1    37\n",
       "2    37\n",
       "3    37\n",
       "4    37\n",
       "5    37\n",
       "6    37\n",
       "dtype: int64"
      ]
     },
     "metadata": {},
     "output_type": "display_data"
    },
    {
     "name": "stdout",
     "output_type": "stream",
     "text": [
      "Shape df: (259, 18876)\n",
      "Shape X_train: (207, 18875)\n",
      "Shape X_test: (52, 18875)\n"
     ]
    }
   ],
   "source": [
    "start_time = datetime.datetime.now()\n",
    "\n",
    "myfunc.reset_vars()\n",
    "\n",
    "myfunc.NOTEBK_FILENAME = myfunc.get_nb_name()\n",
    "\n",
    "myfunc.check_enviroment(myfunc.DATA_DIR, myfunc.CFDNA_DIR, myfunc.GENCODE_DIR, myfunc.H5_DIR, myfunc.LOG_DIR, myfunc.CSV_DIR, myfunc.MODEL_DIR, myfunc.EXEC_DIR, myfunc.MET_DIR)\n",
    "\n",
    "# Leer fichero con las muestras\n",
    "df_t = myfunc.read_h5_to_df(DATA_FILE, myfunc.H5_DIR)\n",
    "display(df_t.groupby(\"target\").size())\n",
    "print(\"Shape df:\",df_t.shape)\n",
    "\n",
    "# Separar caracteristicas/genes de las etiquetas/tipos de cáncer\n",
    "X = df_t.iloc[:, :-1]  # Todas las columnas excepto la última\n",
    "y = df_t.iloc[:, -1]  # La última columna contiene los identificadores de los tipos de cáncer\n",
    "\n",
    "#  Crear el conjunto de datos de entrenamiento y de pruebas\n",
    "X_train, X_test, y_train, y_test = train_test_split(X, y, test_size=0.2, shuffle=True, random_state=SEMILLA)\n",
    "print(\"Shape X_train:\",X_train.shape)\n",
    "print(\"Shape X_test:\",X_test.shape)\n"
   ]
  },
  {
   "cell_type": "markdown",
   "id": "afd40b03",
   "metadata": {
    "papermill": {
     "duration": 0.00281,
     "end_time": "2023-10-27T23:03:35.641565",
     "exception": false,
     "start_time": "2023-10-27T23:03:35.638755",
     "status": "completed"
    },
    "tags": []
   },
   "source": [
    "#### Selección de características y clasificación."
   ]
  },
  {
   "cell_type": "code",
   "execution_count": 7,
   "id": "b271351f",
   "metadata": {
    "execution": {
     "iopub.execute_input": "2023-10-27T23:03:35.647960Z",
     "iopub.status.busy": "2023-10-27T23:03:35.647758Z",
     "iopub.status.idle": "2023-10-27T23:06:46.713632Z",
     "shell.execute_reply": "2023-10-27T23:06:46.712963Z"
    },
    "papermill": {
     "duration": 191.073134,
     "end_time": "2023-10-27T23:06:46.717487",
     "exception": false,
     "start_time": "2023-10-27T23:03:35.644353",
     "status": "completed"
    },
    "tags": []
   },
   "outputs": [
    {
     "name": "stdout",
     "output_type": "stream",
     "text": [
      "20231028T010335 : amilcar22 : INFO : Iniciando entrenamiento\n",
      "num_iter: 1 , max_iter: 1\n",
      "Fitting 5 folds for each of 1 candidates, totalling 5 fits\n"
     ]
    },
    {
     "name": "stdout",
     "output_type": "stream",
     "text": [
      "Mejores Hiperparámetros: {'selector__k': 1000, 'clasifier__kernel': 'rbf', 'clasifier__gamma': 0.001, 'clasifier__C': 100}\n",
      "Mejor Puntuación: 0.7749\n",
      "20231028T010646 : amilcar22 : INFO : Fin entrenamiento\n"
     ]
    }
   ],
   "source": [
    "myfunc.verbose(\"Iniciando entrenamiento\")\n",
    "\n",
    "kf = KFold(n_splits=5, shuffle=True, random_state=SEMILLA)\n",
    "\n",
    "# Crear el pipeline para el flujo de tareas\n",
    "tasks_pipeline = Pipeline([\n",
    "    ('selector', algor_selector),\n",
    "    ('clasifier', algor_clasifier)\n",
    "])\n",
    "\n",
    "# MAX_ITERS puede limitar el número de iteraciones si son excesivas para las combinaciones de parámetros buscando un óptimo local, \n",
    "# sino funcionaría como GridSearchCV al revisar todas las cominaciones de los parámetros\n",
    "num_iteraciones = 1\n",
    "num_iteraciones = num_iteraciones * np.prod([len(elemento1) for _, elemento1 in param_distributions.items()])\n",
    "max_iteraciones = num_iteraciones if num_iteraciones <= MAX_ITERS else MAX_ITERS\n",
    "print(\"num_iter:\",num_iteraciones,\", max_iter:\",max_iteraciones)\n",
    "\n",
    "random_search = RandomizedSearchCV(\n",
    "    tasks_pipeline, \n",
    "    param_distributions, \n",
    "    n_iter=max_iteraciones,\n",
    "    scoring=SCORING,\n",
    "    cv=kf,\n",
    "    verbose=3, \n",
    "    random_state=SEMILLA, \n",
    "    n_jobs=-1\n",
    "    )\n",
    "\n",
    "# Entrenar el modelo\n",
    "random_search.fit(X_train, y_train)\n",
    "\n",
    "# Ver los mejores hiperparámetros encontrados\n",
    "print(f'Mejores Hiperparámetros: {random_search.best_params_}')\n",
    "print(f'Mejor Puntuación: {random_search.best_score_:.4f}')\n",
    "\n",
    "# Nos quedamos con el mejor modelo para ver las métricas\n",
    "mejor_modelo = random_search.best_estimator_\n",
    "\n",
    "myfunc.verbose(\"Fin entrenamiento\")"
   ]
  },
  {
   "cell_type": "markdown",
   "id": "896f2f36",
   "metadata": {
    "papermill": {
     "duration": 0.002827,
     "end_time": "2023-10-27T23:06:46.723250",
     "exception": false,
     "start_time": "2023-10-27T23:06:46.720423",
     "status": "completed"
    },
    "tags": []
   },
   "source": [
    "#### Guardar modelo"
   ]
  },
  {
   "cell_type": "code",
   "execution_count": 8,
   "id": "3876509d",
   "metadata": {
    "execution": {
     "iopub.execute_input": "2023-10-27T23:06:46.729856Z",
     "iopub.status.busy": "2023-10-27T23:06:46.729632Z",
     "iopub.status.idle": "2023-10-27T23:06:46.738614Z",
     "shell.execute_reply": "2023-10-27T23:06:46.738008Z"
    },
    "papermill": {
     "duration": 0.013835,
     "end_time": "2023-10-27T23:06:46.739898",
     "exception": false,
     "start_time": "2023-10-27T23:06:46.726063",
     "status": "completed"
    },
    "tags": []
   },
   "outputs": [
    {
     "name": "stdout",
     "output_type": "stream",
     "text": [
      "20231028T010646 : amilcar22 : INFO : Inicio guardar fichero ../tfm_git/ejecuciones/modelos/modelo_0042_mul_s_MI_SVM.pkl\n",
      "20231028T010646 : amilcar22 : INFO : Fin guardar fichero ../tfm_git/ejecuciones/modelos/modelo_0042_mul_s_MI_SVM.pkl\n"
     ]
    }
   ],
   "source": [
    "fichero_modelo = str.replace(\"modelo_\"+str(SEMILLA).zfill(4)+\"_\"+M_TIPO+\"_\"+M_SELECT+\"_\"+M_CLASIF+\".pkl\", \" \", \"_\")\n",
    "\n",
    "myfunc.save_modelo(mejor_modelo, myfunc.MODEL_DIR, fichero_modelo)"
   ]
  },
  {
   "cell_type": "markdown",
   "id": "aaac13e2",
   "metadata": {
    "papermill": {
     "duration": 0.002884,
     "end_time": "2023-10-27T23:06:46.745969",
     "exception": false,
     "start_time": "2023-10-27T23:06:46.743085",
     "status": "completed"
    },
    "tags": []
   },
   "source": [
    "#### Ver resultados del las iteraciones hechas por RandomSearchCV"
   ]
  },
  {
   "cell_type": "code",
   "execution_count": 9,
   "id": "ca695313",
   "metadata": {
    "execution": {
     "iopub.execute_input": "2023-10-27T23:06:46.752624Z",
     "iopub.status.busy": "2023-10-27T23:06:46.752409Z",
     "iopub.status.idle": "2023-10-27T23:06:46.758390Z",
     "shell.execute_reply": "2023-10-27T23:06:46.757893Z"
    },
    "papermill": {
     "duration": 0.010663,
     "end_time": "2023-10-27T23:06:46.759597",
     "exception": false,
     "start_time": "2023-10-27T23:06:46.748934",
     "status": "completed"
    },
    "tags": []
   },
   "outputs": [
    {
     "name": "stdout",
     "output_type": "stream",
     "text": [
      "20231028T010646 : amilcar22 : INFO : Inicio ver resultados\n",
      "Mejores Hiperparámetros: {'selector__k': 1000, 'clasifier__kernel': 'rbf', 'clasifier__gamma': 0.001, 'clasifier__C': 100}\n",
      "Mejores puntuaciones: 0.7749 | Params: {'selector__k': 1000, 'clasifier__kernel': 'rbf', 'clasifier__gamma': 0.001, 'clasifier__C': 100}\n",
      "Media de las puntuaciones: 0.7749 | Params: {'selector__k': 1000, 'clasifier__kernel': 'rbf', 'clasifier__gamma': 0.001, 'clasifier__C': 100}\n",
      "20231028T010646 : amilcar22 : INFO : Fin resultados\n"
     ]
    }
   ],
   "source": [
    "myfunc.ver_resultados_search(random_search)"
   ]
  },
  {
   "cell_type": "markdown",
   "id": "24c2ac93",
   "metadata": {
    "papermill": {
     "duration": 0.003432,
     "end_time": "2023-10-27T23:06:46.766536",
     "exception": false,
     "start_time": "2023-10-27T23:06:46.763104",
     "status": "completed"
    },
    "tags": []
   },
   "source": [
    "#### Ver métricas del mejor modelo"
   ]
  },
  {
   "cell_type": "code",
   "execution_count": 10,
   "id": "bd9942a0",
   "metadata": {
    "execution": {
     "iopub.execute_input": "2023-10-27T23:06:46.774388Z",
     "iopub.status.busy": "2023-10-27T23:06:46.774185Z",
     "iopub.status.idle": "2023-10-27T23:06:47.389677Z",
     "shell.execute_reply": "2023-10-27T23:06:47.389153Z"
    },
    "papermill": {
     "duration": 0.620995,
     "end_time": "2023-10-27T23:06:47.390982",
     "exception": false,
     "start_time": "2023-10-27T23:06:46.769987",
     "status": "completed"
    },
    "tags": []
   },
   "outputs": [
    {
     "name": "stdout",
     "output_type": "stream",
     "text": [
      "20231028T010646 : amilcar22 : INFO : Inicio ver métricas multiclase\n"
     ]
    },
    {
     "name": "stdout",
     "output_type": "stream",
     "text": [
      "              precision    recall  f1-score   support\n",
      "\n",
      "           0       0.20      0.09      0.13        11\n",
      "           1       0.67      0.50      0.57         8\n",
      "           2       0.12      0.12      0.12         8\n",
      "           3       0.20      0.40      0.27         5\n",
      "           4       0.73      1.00      0.84         8\n",
      "           5       0.60      0.50      0.55         6\n",
      "           6       0.29      0.33      0.31         6\n",
      "\n",
      "    accuracy                           0.40        52\n",
      "   macro avg       0.40      0.42      0.40        52\n",
      "weighted avg       0.40      0.40      0.39        52\n",
      "\n",
      "\n",
      "\n",
      "           Exactitud: 0.403846\n",
      "   Precisión (media): 0.400665\n",
      "      Recall (media): 0.421320\n",
      "    F1-score (media): 0.397621\n",
      "\n",
      "\n",
      "AUC para el tipo de cáncer 0-Control.... 0.5322\n",
      "AUC para el tipo de cáncer 1-Bladder.... 0.8636\n",
      "AUC para el tipo de cáncer 2-Breast..... 0.6477\n"
     ]
    },
    {
     "name": "stdout",
     "output_type": "stream",
     "text": [
      "AUC para el tipo de cáncer 3-Colorectal. 0.7574\n",
      "AUC para el tipo de cáncer 4-Kidney..... 0.9744\n",
      "AUC para el tipo de cáncer 5-Lung....... 0.7899\n",
      "AUC para el tipo de cáncer 6-Prostate... 0.7754\n",
      "\n",
      "Media de AUC: 0.7629\n"
     ]
    },
    {
     "data": {
      "image/png": "[encoded data removed]",
      "text/plain": [
       "<Figure size 1000x600 with 1 Axes>"
      ]
     },
     "metadata": {},
     "output_type": "display_data"
    },
    {
     "name": "stdout",
     "output_type": "stream",
     "text": [
      "\n",
      "\n"
     ]
    },
    {
     "data": {
      "image/png": "[encoded data removed]",
      "text/plain": [
       "<Figure size 800x400 with 2 Axes>"
      ]
     },
     "metadata": {},
     "output_type": "display_data"
    },
    {
     "name": "stdout",
     "output_type": "stream",
     "text": [
      "\n",
      "\n",
      "Puntuación Jaccard para el cáncer tipo 0-Control.... 0.0667\n",
      "Puntuación Jaccard para el cáncer tipo 1-Bladder.... 0.4000\n",
      "Puntuación Jaccard para el cáncer tipo 2-Breast..... 0.0667\n",
      "Puntuación Jaccard para el cáncer tipo 3-Colorectal. 0.1538\n",
      "Puntuación Jaccard para el cáncer tipo 4-Kidney..... 0.7273\n",
      "Puntuación Jaccard para el cáncer tipo 5-Lung....... 0.3750\n",
      "Puntuación Jaccard para el cáncer tipo 6-Prostate... 0.1818\n",
      "\n",
      "Media de la puntuación de Jaccard: 0.2816\n"
     ]
    }
   ],
   "source": [
    "if M_TIPO.startswith(\"bin\"):\n",
    "    myfunc.ver_metricas(mejor_modelo, X_test, y_test)\n",
    "else:\n",
    "    myfunc.ver_metricas_multi(mejor_modelo, X_test, y_test)\n"
   ]
  },
  {
   "cell_type": "markdown",
   "id": "f5dc8d42",
   "metadata": {
    "papermill": {
     "duration": 0.004318,
     "end_time": "2023-10-27T23:06:47.400113",
     "exception": false,
     "start_time": "2023-10-27T23:06:47.395795",
     "status": "completed"
    },
    "tags": []
   },
   "source": [
    "#### Finalización del notebook"
   ]
  },
  {
   "cell_type": "code",
   "execution_count": 11,
   "id": "57ee0618",
   "metadata": {
    "execution": {
     "iopub.execute_input": "2023-10-27T23:06:47.409077Z",
     "iopub.status.busy": "2023-10-27T23:06:47.408872Z",
     "iopub.status.idle": "2023-10-27T23:06:47.411953Z",
     "shell.execute_reply": "2023-10-27T23:06:47.411468Z"
    },
    "papermill": {
     "duration": 0.009039,
     "end_time": "2023-10-27T23:06:47.413169",
     "exception": false,
     "start_time": "2023-10-27T23:06:47.404130",
     "status": "completed"
    },
    "tags": []
   },
   "outputs": [
    {
     "name": "stdout",
     "output_type": "stream",
     "text": [
      "20231028T010647 : amilcar22 : INFO : Notebook ha tardado 191 seconds\n"
     ]
    }
   ],
   "source": [
    "end_time = datetime.datetime.now()\n",
    "total_time = end_time - start_time\n",
    "myfunc.verbose(f\"Notebook ha tardado {total_time.seconds} seconds\")"
   ]
  },
  {
   "cell_type": "markdown",
   "id": "297eba13",
   "metadata": {
    "papermill": {
     "duration": 0.004046,
     "end_time": "2023-10-27T23:06:47.421478",
     "exception": false,
     "start_time": "2023-10-27T23:06:47.417432",
     "status": "completed"
    },
    "tags": []
   },
   "source": [
    "#### Guardar métricas"
   ]
  },
  {
   "cell_type": "code",
   "execution_count": 12,
   "id": "068cac8e",
   "metadata": {
    "execution": {
     "iopub.execute_input": "2023-10-27T23:06:47.430426Z",
     "iopub.status.busy": "2023-10-27T23:06:47.430233Z",
     "iopub.status.idle": "2023-10-27T23:06:47.646199Z",
     "shell.execute_reply": "2023-10-27T23:06:47.645642Z"
    },
    "papermill": {
     "duration": 0.221995,
     "end_time": "2023-10-27T23:06:47.647553",
     "exception": false,
     "start_time": "2023-10-27T23:06:47.425558",
     "status": "completed"
    },
    "tags": []
   },
   "outputs": [
    {
     "name": "stdout",
     "output_type": "stream",
     "text": [
      "20231028T010647 : amilcar22 : INFO : Inicio guardar métricas multiclase\n",
      "20231028T010647 : amilcar22 : INFO : Inicio leer fichero ../tfm_git/ejecuciones/metricas/metricas_0042.csv\n",
      "20231028T010647 : amilcar22 : INFO : Fin leer fichero ../tfm_git/ejecuciones/metricas/metricas_0042.csv\n"
     ]
    },
    {
     "name": "stdout",
     "output_type": "stream",
     "text": [
      "20231028T010647 : amilcar22 : INFO : Inicio guardar fichero ../tfm_git/ejecuciones/metricas/metricas_0042.csv\n",
      "20231028T010647 : amilcar22 : INFO : Fichero borrado ../tfm_git/ejecuciones/metricas/metricas_0042.csv\n"
     ]
    },
    {
     "name": "stdout",
     "output_type": "stream",
     "text": [
      "20231028T010647 : amilcar22 : INFO : Fin guardar fichero ../tfm_git/ejecuciones/metricas/metricas_0042.csv\n",
      "20231028T010647 : amilcar22 : INFO : Fin guardar métricas multiclase\n",
      "20231028T010647 : amilcar22 : INFO : Inicio leer fichero ../tfm_git/ejecuciones/metricas/metricas_0042.csv\n",
      "20231028T010647 : amilcar22 : INFO : Fin leer fichero ../tfm_git/ejecuciones/metricas/metricas_0042.csv\n"
     ]
    },
    {
     "data": {
      "text/html": [
       "<div>\n",
       "<style scoped>\n",
       "    .dataframe tbody tr th:only-of-type {\n",
       "        vertical-align: middle;\n",
       "    }\n",
       "\n",
       "    .dataframe tbody tr th {\n",
       "        vertical-align: top;\n",
       "    }\n",
       "\n",
       "    .dataframe thead th {\n",
       "        text-align: right;\n",
       "    }\n",
       "</style>\n",
       "<table border=\"1\" class=\"dataframe\">\n",
       "  <thead>\n",
       "    <tr style=\"text-align: right;\">\n",
       "      <th></th>\n",
       "      <th>tipo</th>\n",
       "      <th>select</th>\n",
       "      <th>clasific</th>\n",
       "      <th>accuracy</th>\n",
       "      <th>precision</th>\n",
       "      <th>recall</th>\n",
       "      <th>f1_score</th>\n",
       "      <th>roc_auc</th>\n",
       "      <th>roc_auc_ovr</th>\n",
       "      <th>hostname</th>\n",
       "      <th>total_time_sec</th>\n",
       "      <th>datetime</th>\n",
       "      <th>fichero_modelo</th>\n",
       "      <th>params</th>\n",
       "      <th>shape</th>\n",
       "      <th>features</th>\n",
       "      <th>semilla</th>\n",
       "      <th>indices_auc</th>\n",
       "      <th>indices_jaccard</th>\n",
       "    </tr>\n",
       "  </thead>\n",
       "  <tbody>\n",
       "    <tr>\n",
       "      <th>0</th>\n",
       "      <td>mul_s</td>\n",
       "      <td>MI</td>\n",
       "      <td>SVM</td>\n",
       "      <td>0.403846</td>\n",
       "      <td>0.400665</td>\n",
       "      <td>0.421320</td>\n",
       "      <td>0.397621</td>\n",
       "      <td>NaN</td>\n",
       "      <td>0.762944</td>\n",
       "      <td>amilcar22</td>\n",
       "      <td>191</td>\n",
       "      <td>2023-10-28 01:06:47.596314</td>\n",
       "      <td>modelo_0042_mul_s_MI_SVM.pkl</td>\n",
       "      <td>{'selector__k': 1000, 'clasifier__kernel': 'rb...</td>\n",
       "      <td>X_test:(52, 18875)</td>\n",
       "      <td>['ENSG00000003137.9', 'ENSG00000004939.16', 'E...</td>\n",
       "      <td>42.0</td>\n",
       "      <td>[0.5321507760532151, 0.8636363636363638, 0.647...</td>\n",
       "      <td>[0.06666666666666667, 0.4, 0.06666666666666667...</td>\n",
       "    </tr>\n",
       "    <tr>\n",
       "      <th>0</th>\n",
       "      <td>mul_s</td>\n",
       "      <td>MI</td>\n",
       "      <td>RF</td>\n",
       "      <td>0.326923</td>\n",
       "      <td>0.267857</td>\n",
       "      <td>0.315368</td>\n",
       "      <td>0.283044</td>\n",
       "      <td>NaN</td>\n",
       "      <td>0.712195</td>\n",
       "      <td>amilcar22</td>\n",
       "      <td>211</td>\n",
       "      <td>2023-10-28 01:03:29.411968</td>\n",
       "      <td>modelo_0042_mul_s_MI_RF.pkl</td>\n",
       "      <td>{'selector__k': 500, 'clasifier__n_estimators'...</td>\n",
       "      <td>X_test:(52, 18875)</td>\n",
       "      <td>['ENSG00000005513.10', 'ENSG00000006025.13', '...</td>\n",
       "      <td>42.0</td>\n",
       "      <td>[0.4878048780487805, 0.7982954545454546, 0.650...</td>\n",
       "      <td>[0.06666666666666667, 0.35714285714285715, 0.2...</td>\n",
       "    </tr>\n",
       "    <tr>\n",
       "      <th>0</th>\n",
       "      <td>mul_s</td>\n",
       "      <td>MI</td>\n",
       "      <td>LR_L2</td>\n",
       "      <td>0.500000</td>\n",
       "      <td>0.562338</td>\n",
       "      <td>0.518615</td>\n",
       "      <td>0.503540</td>\n",
       "      <td>NaN</td>\n",
       "      <td>0.815305</td>\n",
       "      <td>amilcar22</td>\n",
       "      <td>529</td>\n",
       "      <td>2023-10-28 00:59:51.140815</td>\n",
       "      <td>modelo_0042_mul_s_MI_LR_L2.pkl</td>\n",
       "      <td>{'selector__k': 500, 'clasifier__solver': 'sag...</td>\n",
       "      <td>X_test:(52, 18875)</td>\n",
       "      <td>['ENSG00000005513.10', 'ENSG00000006025.13', '...</td>\n",
       "      <td>42.0</td>\n",
       "      <td>[0.5565410199556541, 0.8977272727272727, 0.724...</td>\n",
       "      <td>[0.26666666666666666, 0.375, 0.142857142857142...</td>\n",
       "    </tr>\n",
       "  </tbody>\n",
       "</table>\n",
       "</div>"
      ],
      "text/plain": [
       "    tipo select clasific  accuracy  precision    recall  f1_score  roc_auc  \\\n",
       "0  mul_s     MI      SVM  0.403846   0.400665  0.421320  0.397621      NaN   \n",
       "0  mul_s     MI       RF  0.326923   0.267857  0.315368  0.283044      NaN   \n",
       "0  mul_s     MI    LR_L2  0.500000   0.562338  0.518615  0.503540      NaN   \n",
       "\n",
       "   roc_auc_ovr   hostname  total_time_sec                    datetime  \\\n",
       "0     0.762944  amilcar22             191  2023-10-28 01:06:47.596314   \n",
       "0     0.712195  amilcar22             211  2023-10-28 01:03:29.411968   \n",
       "0     0.815305  amilcar22             529  2023-10-28 00:59:51.140815   \n",
       "\n",
       "                   fichero_modelo  \\\n",
       "0    modelo_0042_mul_s_MI_SVM.pkl   \n",
       "0     modelo_0042_mul_s_MI_RF.pkl   \n",
       "0  modelo_0042_mul_s_MI_LR_L2.pkl   \n",
       "\n",
       "                                              params               shape  \\\n",
       "0  {'selector__k': 1000, 'clasifier__kernel': 'rb...  X_test:(52, 18875)   \n",
       "0  {'selector__k': 500, 'clasifier__n_estimators'...  X_test:(52, 18875)   \n",
       "0  {'selector__k': 500, 'clasifier__solver': 'sag...  X_test:(52, 18875)   \n",
       "\n",
       "                                            features  semilla  \\\n",
       "0  ['ENSG00000003137.9', 'ENSG00000004939.16', 'E...     42.0   \n",
       "0  ['ENSG00000005513.10', 'ENSG00000006025.13', '...     42.0   \n",
       "0  ['ENSG00000005513.10', 'ENSG00000006025.13', '...     42.0   \n",
       "\n",
       "                                         indices_auc  \\\n",
       "0  [0.5321507760532151, 0.8636363636363638, 0.647...   \n",
       "0  [0.4878048780487805, 0.7982954545454546, 0.650...   \n",
       "0  [0.5565410199556541, 0.8977272727272727, 0.724...   \n",
       "\n",
       "                                     indices_jaccard  \n",
       "0  [0.06666666666666667, 0.4, 0.06666666666666667...  \n",
       "0  [0.06666666666666667, 0.35714285714285715, 0.2...  \n",
       "0  [0.26666666666666666, 0.375, 0.142857142857142...  "
      ]
     },
     "metadata": {},
     "output_type": "display_data"
    }
   ],
   "source": [
    "if M_TIPO.startswith(\"bin\"):\n",
    "    myfunc.save_metricas_to_csv(random_search, X_test, y_test, M_TIPO, M_SELECT, M_CLASIF, total_time, SEMILLA, myfunc.MET_DIR, M_FICHERO, fichero_modelo)\n",
    "else:\n",
    "    myfunc.save_metricas_multi_to_csv(random_search, X_test, y_test, M_TIPO, M_SELECT, M_CLASIF, total_time, SEMILLA, myfunc.MET_DIR, M_FICHERO, fichero_modelo)\n",
    "\n",
    "df1=myfunc.read_metricas_to_df(myfunc.MET_DIR,M_FICHERO)\n",
    "\n",
    "display(df1.sort_values(\"datetime\", ascending=False)[:3])\n"
   ]
  },
  {
   "cell_type": "markdown",
   "id": "8fd05a70",
   "metadata": {
    "papermill": {
     "duration": 0.004601,
     "end_time": "2023-10-27T23:06:47.657218",
     "exception": false,
     "start_time": "2023-10-27T23:06:47.652617",
     "status": "completed"
    },
    "tags": []
   },
   "source": [
    "#### Guardar resultados"
   ]
  },
  {
   "cell_type": "code",
   "execution_count": 13,
   "id": "f6d0512f",
   "metadata": {
    "execution": {
     "iopub.execute_input": "2023-10-27T23:06:47.666739Z",
     "iopub.status.busy": "2023-10-27T23:06:47.666527Z",
     "iopub.status.idle": "2023-10-27T23:06:47.674869Z",
     "shell.execute_reply": "2023-10-27T23:06:47.674396Z"
    },
    "papermill": {
     "duration": 0.014637,
     "end_time": "2023-10-27T23:06:47.676129",
     "exception": false,
     "start_time": "2023-10-27T23:06:47.661492",
     "status": "completed"
    },
    "tags": []
   },
   "outputs": [
    {
     "name": "stdout",
     "output_type": "stream",
     "text": [
      "20231028T010647 : amilcar22 : INFO : Inicio guardar resultados\n",
      "20231028T010647 : amilcar22 : INFO : Inicio guardar fichero ../tfm_git/ejecuciones/metricas/resultados_0042_mul_s-MI-SVM.csv\n",
      "20231028T010647 : amilcar22 : INFO : Fin guardar fichero ../tfm_git/ejecuciones/metricas/resultados_0042_mul_s-MI-SVM.csv\n",
      "20231028T010647 : amilcar22 : INFO : Fin guardar resultados\n"
     ]
    }
   ],
   "source": [
    "fichero_resultados=R_FICHERO+\"_\"+M_TIPO+\"-\"+M_SELECT+\"-\"+M_CLASIF+\".csv\"\n",
    "myfunc.save_resultados_to_csv(M_TIPO, M_SELECT, M_CLASIF,  random_search, myfunc.MET_DIR, fichero_resultados)\n"
   ]
  }
 ],
 "metadata": {
  "kernelspec": {
   "display_name": "Python 3 (ipykernel)",
   "language": "python",
   "name": "python3"
  },
  "language_info": {
   "codemirror_mode": {
    "name": "ipython",
    "version": 3
   },
   "file_extension": ".py",
   "mimetype": "text/x-python",
   "name": "python",
   "nbconvert_exporter": "python",
   "pygments_lexer": "ipython3",
   "version": "3.10.12"
  },
  "papermill": {
   "default_parameters": {},
   "duration": 196.659457,
   "end_time": "2023-10-27T23:06:50.298518",
   "environment_variables": {},
   "exception": null,
   "input_path": "03_entrenamiento.ipynb",
   "output_path": "ejecuciones/training/03_entrenamiento.20231028T010333.param_0000_0042_mul_s_MI_SVM.output.ipynb",
   "parameters": {
    "MAX_ITERS": 500,
    "M_CLASIF": "SVM",
    "M_FICHERO": "metricas_0042",
    "M_SELECT": "MI",
    "M_TIPO": "mul_s",
    "PRE_DATA_FILE": "rows_transpose_norm_by_gene_id_with_target_num_",
    "P_FICHERO": "param_0000_0042_mul_s_MI_SVM.yaml",
    "R_FICHERO": "resultados_0042",
    "SCORING": "roc_auc_ovr",
    "SEMILLA": 42,
    "eval_clasifier": "SVC(probability=True, random_state=SEMILLA)",
    "eval_selector": "SelectKBest(score_func=mutual_info_classif_state)",
    "param_distributions": {
     "clasifier__C": [
      100
     ],
     "clasifier__gamma": [
      0.001
     ],
     "clasifier__kernel": [
      "rbf"
     ],
     "selector__k": [
      1000
     ]
    }
   },
   "start_time": "2023-10-27T23:03:33.639061",
   "version": "2.4.0"
  }
 },
 "nbformat": 4,
 "nbformat_minor": 5
}