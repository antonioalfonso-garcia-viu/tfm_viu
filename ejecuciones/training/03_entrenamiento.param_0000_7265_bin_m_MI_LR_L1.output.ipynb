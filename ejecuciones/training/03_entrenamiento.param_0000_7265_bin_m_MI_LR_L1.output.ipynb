{
 "cells": [
  {
   "cell_type": "markdown",
   "id": "f6842137",
   "metadata": {
    "papermill": {
     "duration": 0.005539,
     "end_time": "2023-10-30T10:55:32.115038",
     "exception": false,
     "start_time": "2023-10-30T10:55:32.109499",
     "status": "completed"
    },
    "tags": []
   },
   "source": [
    "##### Inicio"
   ]
  },
  {
   "cell_type": "markdown",
   "id": "54c5b201",
   "metadata": {
    "papermill": {
     "duration": 0.003476,
     "end_time": "2023-10-30T10:55:32.122316",
     "exception": false,
     "start_time": "2023-10-30T10:55:32.118840",
     "status": "completed"
    },
    "tags": []
   },
   "source": [
    "#### Carga de datos"
   ]
  },
  {
   "cell_type": "code",
   "execution_count": 1,
   "id": "fcbc5c97",
   "metadata": {
    "execution": {
     "iopub.execute_input": "2023-10-30T10:55:32.130786Z",
     "iopub.status.busy": "2023-10-30T10:55:32.130113Z",
     "iopub.status.idle": "2023-10-30T10:55:33.285422Z",
     "shell.execute_reply": "2023-10-30T10:55:33.284757Z"
    },
    "papermill": {
     "duration": 1.16121,
     "end_time": "2023-10-30T10:55:33.286879",
     "exception": false,
     "start_time": "2023-10-30T10:55:32.125669",
     "status": "completed"
    },
    "tags": []
   },
   "outputs": [
    {
     "name": "stdout",
     "output_type": "stream",
     "text": [
      "CPU_COUNT: 16; NODE: enderlab; sys.version: 3.10.11 (main, May 16 2023, 00:28:57) [GCC 11.2.0]\n",
      "LOKY_MAX_CPU_COUNT is not set.\n",
      "OMP_NUM_THREADS is not set.\n"
     ]
    }
   ],
   "source": [
    "import os\n",
    "import numpy as np\n",
    "import pandas as pd\n",
    "import datetime\n",
    "import sklearn\n",
    "import logging\n",
    "import warnings\n",
    "\n",
    "from sklearn.pipeline import Pipeline\n",
    "from sklearn.model_selection import RandomizedSearchCV, KFold, cross_val_score, train_test_split\n",
    "from sklearn.metrics import accuracy_score, confusion_matrix, classification_report, roc_auc_score\n",
    "\n",
    "#  cargar algoritmos para aprendizaje supervisado\n",
    "from sklearn.feature_selection import SelectKBest, f_classif, SelectFromModel, mutual_info_classif\n",
    "from sklearn.svm import SVC\n",
    "from sklearn.ensemble import RandomForestClassifier\n",
    "from sklearn.linear_model import LogisticRegression,LogisticRegressionCV\n",
    "\n",
    "# importar fichero con utilidades propias\n",
    "from commons import myfunctions as myfunc\n"
   ]
  },
  {
   "cell_type": "markdown",
   "id": "0a2c02d1",
   "metadata": {
    "papermill": {
     "duration": 0.003588,
     "end_time": "2023-10-30T10:55:33.294733",
     "exception": false,
     "start_time": "2023-10-30T10:55:33.291145",
     "status": "completed"
    },
    "tags": []
   },
   "source": [
    "#### Parámetros a utilizar en el entrenamiento.\n",
    "\n",
    "Se indican los 3 algoritmos de *selección de características* (eval_selector_xxx) y los 3 algoritmos para la _clasificación_ (eval_clasifier_xxx)\n",
    "\n",
    "En *param_distributions* se indicar los parámetros que utilizan los algoritmos en la función RandomSearchCV.\n",
    "\n",
    "Esta celda tiene la etiqueta **parameters** que servirá para poder lanzar los entrenamientos con la utilidad **papermill** pasándole un fichero con los parámetros. Los nuevos parámetros se situarán tras esta celda para tener prevalencia."
   ]
  },
  {
   "cell_type": "code",
   "execution_count": 2,
   "id": "770f8376",
   "metadata": {
    "execution": {
     "iopub.execute_input": "2023-10-30T10:55:33.303165Z",
     "iopub.status.busy": "2023-10-30T10:55:33.302481Z",
     "iopub.status.idle": "2023-10-30T10:55:33.311407Z",
     "shell.execute_reply": "2023-10-30T10:55:33.310834Z"
    },
    "papermill": {
     "duration": 0.014755,
     "end_time": "2023-10-30T10:55:33.312911",
     "exception": false,
     "start_time": "2023-10-30T10:55:33.298156",
     "status": "completed"
    },
    "tags": [
     "parameters"
    ]
   },
   "outputs": [
    {
     "name": "stdout",
     "output_type": "stream",
     "text": [
      "20231030T115533 : enderlab : INFO : Utilizando parámetros de mul_m\n"
     ]
    }
   ],
   "source": [
    "#  Parametros para el entrenamiento\n",
    "\n",
    "SEMILLA=        42\n",
    "M_TIPO=         \"mul_m\"\n",
    "M_SELECT=       \"MI\"\n",
    "M_CLASIF=       \"SVM\"\n",
    "R_FICHERO=      \"resultados\"\n",
    "M_FICHERO=      \"metricas\"\n",
    "PRE_DATA_FILE=  \"rows_transpose_norm_by_gene_id_with_target_num_\"\n",
    "SCORING=        \"roc_auc_ovr\" \n",
    "MAX_ITERS=      100\n",
    "\n",
    "def mutual_info_classif_state(X, y):\n",
    "    return mutual_info_classif(X, y, random_state=SEMILLA)\n",
    "\n",
    "eval_selector_mi = \"SelectKBest(score_func=mutual_info_classif_state)\"\n",
    "eval_selector_rf=  \"SelectFromModel(estimator=RandomForestClassifier(random_state=SEMILLA), threshold=-np.inf)\"\n",
    "eval_selector_anova=  \"SelectKBest(score_func=f_classif)\"\n",
    "\n",
    "eval_clasifier_svm= \"SVC(probability=True, random_state=SEMILLA)\"\n",
    "eval_clasifier_rf= \"RandomForestClassifier(random_state=SEMILLA)\"\n",
    "eval_clasifier_lr= \"LogisticRegressionCV(random_state=SEMILLA)\"\n",
    "\n",
    "if M_TIPO.startswith(\"bin_m\"):\n",
    "    myfunc.verbose(f\"Utilizando parámetros de {M_TIPO}\")\n",
    "    eval_selector = eval_selector_mi\n",
    "    eval_clasifier = eval_clasifier_svm\n",
    "\n",
    "    SEMILLA = 6578\n",
    "    M_SELECT = \"MI\"\n",
    "    M_CLASIF = \"SVM\"\n",
    "    param_distributions = {'selector__k': [1000], \n",
    "         'clasifier__kernel': ['rbf'], 'clasifier__gamma': [0.01], 'clasifier__C': [100]}\n",
    "elif M_TIPO.startswith(\"bin_s\"):\n",
    "    myfunc.verbose(f\"Utilizando parámetros de {M_TIPO}\")\n",
    "    eval_selector = eval_selector_rf\n",
    "    eval_clasifier = eval_clasifier_lr\n",
    "\n",
    "    SEMILLA = 6191\n",
    "    M_SELECT = \"RF\"\n",
    "    M_CLASIF = \"LR_L2\"\n",
    "    param_distributions = {'selector__max_features': [1000], 'selector__estimator__n_estimators': [200], \n",
    "        'clasifier__solver': ['lbfgs'], 'clasifier__penalty': ['l2'], 'clasifier__max_iter': [10000]}\n",
    "\n",
    "elif M_TIPO.startswith(\"mul_m\"):\n",
    "    myfunc.verbose(f\"Utilizando parámetros de {M_TIPO}\")\n",
    " \n",
    "    eval_selector = eval_selector_rf\n",
    "    eval_clasifier = eval_clasifier_lr\n",
    "\n",
    "    SEMILLA = 6191\n",
    "    M_SELECT = \"RF\"\n",
    "    M_CLASIF = \"LR_L2\"\n",
    "    param_distributions = {'selector__max_features': [1000], 'selector__estimator__n_estimators': [400], \n",
    "        'clasifier__solver': ['lbfgs'], 'clasifier__penalty': ['l2'], 'clasifier__max_iter': [10000]}\n",
    "\n",
    "else:\n",
    "    # M_TIPO.startswith(\"mul_s\"):\n",
    "    myfunc.verbose(f\"Utilizando parámetros de {M_TIPO}\")\n",
    "    eval_selector = eval_selector_anova\n",
    "    eval_clasifier = eval_clasifier_lr\n",
    "\n",
    "    SEMILLA = 1860\n",
    "    M_SELECT = \"ANOVA\"\n",
    "    M_CLASIF = \"LR_L2\"\n",
    "    param_distributions = {'selector__k': [1000], \n",
    "        'clasifier__solver': ['saga'], 'clasifier__penalty': ['l2'], 'clasifier__max_iter': [10000]}\n",
    "\n"
   ]
  },
  {
   "cell_type": "code",
   "execution_count": 3,
   "id": "4ae15f6b",
   "metadata": {
    "execution": {
     "iopub.execute_input": "2023-10-30T10:55:33.322676Z",
     "iopub.status.busy": "2023-10-30T10:55:33.322164Z",
     "iopub.status.idle": "2023-10-30T10:55:33.326278Z",
     "shell.execute_reply": "2023-10-30T10:55:33.325725Z"
    },
    "papermill": {
     "duration": 0.010751,
     "end_time": "2023-10-30T10:55:33.327851",
     "exception": false,
     "start_time": "2023-10-30T10:55:33.317100",
     "status": "completed"
    },
    "tags": [
     "injected-parameters"
    ]
   },
   "outputs": [],
   "source": [
    "# Parameters\n",
    "M_TIPO = \"bin_m\"\n",
    "M_SELECT = \"MI\"\n",
    "M_CLASIF = \"LR_L1\"\n",
    "P_FICHERO = \"param_0000_7265_bin_m_MI_LR_L1.yaml\"\n",
    "R_FICHERO = \"resultados_7265\"\n",
    "M_FICHERO = \"metricas_7265\"\n",
    "PRE_DATA_FILE = \"rows_transpose_norm_by_gene_id_with_target_num_\"\n",
    "SCORING = \"roc_auc_ovr\"\n",
    "SEMILLA = 7265\n",
    "MAX_ITERS = 500\n",
    "eval_selector = \"SelectKBest(score_func=mutual_info_classif_state)\"\n",
    "eval_clasifier = \"LogisticRegressionCV(random_state=SEMILLA)\"\n",
    "param_distributions = {\n",
    "    \"selector__k\": [500],\n",
    "    \"clasifier__solver\": [\"saga\"],\n",
    "    \"clasifier__penalty\": [\"l1\"],\n",
    "    \"clasifier__max_iter\": [10000],\n",
    "}\n"
   ]
  },
  {
   "cell_type": "code",
   "execution_count": 4,
   "id": "718ab81e",
   "metadata": {
    "execution": {
     "iopub.execute_input": "2023-10-30T10:55:33.336704Z",
     "iopub.status.busy": "2023-10-30T10:55:33.336285Z",
     "iopub.status.idle": "2023-10-30T10:55:33.339710Z",
     "shell.execute_reply": "2023-10-30T10:55:33.339170Z"
    },
    "papermill": {
     "duration": 0.009082,
     "end_time": "2023-10-30T10:55:33.340894",
     "exception": false,
     "start_time": "2023-10-30T10:55:33.331812",
     "status": "completed"
    },
    "tags": []
   },
   "outputs": [],
   "source": [
    "DATA_FILE = PRE_DATA_FILE + M_TIPO\n",
    "\n",
    "# si viene \"None\" en el parámetro max_depth, se le quitan las comillas para que no sea entendido por el algoritmo como un texto\n",
    "if \"clasifier__max_depth\" in param_distributions:\n",
    "    param_distributions['clasifier__max_depth'] = [None if x == 'None' else x for x in param_distributions['clasifier__max_depth']]"
   ]
  },
  {
   "cell_type": "markdown",
   "id": "d033cf47",
   "metadata": {
    "papermill": {
     "duration": 0.003559,
     "end_time": "2023-10-30T10:55:33.347971",
     "exception": false,
     "start_time": "2023-10-30T10:55:33.344412",
     "status": "completed"
    },
    "tags": []
   },
   "source": [
    "Asignar los algoritmos que se utilizarán en la función RandomSearchCV"
   ]
  },
  {
   "cell_type": "code",
   "execution_count": 5,
   "id": "3e5b6459",
   "metadata": {
    "execution": {
     "iopub.execute_input": "2023-10-30T10:55:33.356309Z",
     "iopub.status.busy": "2023-10-30T10:55:33.355850Z",
     "iopub.status.idle": "2023-10-30T10:55:33.358932Z",
     "shell.execute_reply": "2023-10-30T10:55:33.358388Z"
    },
    "papermill": {
     "duration": 0.00854,
     "end_time": "2023-10-30T10:55:33.360105",
     "exception": false,
     "start_time": "2023-10-30T10:55:33.351565",
     "status": "completed"
    },
    "tags": []
   },
   "outputs": [],
   "source": [
    "algor_selector=eval(eval_selector)\n",
    "algor_clasifier=eval(eval_clasifier)"
   ]
  },
  {
   "cell_type": "markdown",
   "id": "c0c5624a",
   "metadata": {
    "papermill": {
     "duration": 0.003672,
     "end_time": "2023-10-30T10:55:33.367337",
     "exception": false,
     "start_time": "2023-10-30T10:55:33.363665",
     "status": "completed"
    },
    "tags": []
   },
   "source": [
    "#### Comprobar el entorno y leer fichero de muestras"
   ]
  },
  {
   "cell_type": "code",
   "execution_count": 6,
   "id": "91ff2352",
   "metadata": {
    "execution": {
     "iopub.execute_input": "2023-10-30T10:55:33.375844Z",
     "iopub.status.busy": "2023-10-30T10:55:33.375321Z",
     "iopub.status.idle": "2023-10-30T10:55:33.700852Z",
     "shell.execute_reply": "2023-10-30T10:55:33.700196Z"
    },
    "papermill": {
     "duration": 0.331501,
     "end_time": "2023-10-30T10:55:33.702456",
     "exception": false,
     "start_time": "2023-10-30T10:55:33.370955",
     "status": "completed"
    },
    "tags": []
   },
   "outputs": [
    {
     "name": "stdout",
     "output_type": "stream",
     "text": [
      "20231030T115533 : enderlab : INFO : Encontrada carpeta DATA_DIR=../tfm_git/datos\n",
      "20231030T115533 : enderlab : INFO : Encontrada carpeta CFDNA_DIR=../tfm_git/datos/cfDNA_5hmC\n",
      "20231030T115533 : enderlab : INFO : Encontrada carpeta GENCODE_DIR=../tfm_git/datos/gencode\n",
      "20231030T115533 : enderlab : INFO : Encontrada carpeta H5_DIR=../tfm_git/datos/h5\n",
      "20231030T115533 : enderlab : INFO : Encontrada carpeta LOG_DIR=../tfm_git/datos/logs\n",
      "20231030T115533 : enderlab : INFO : Encontrada carpeta CSV_DIR=../tfm_git/datos/csv\n",
      "20231030T115533 : enderlab : INFO : Encontrada carpeta MODEL_DIR=../tfm_git/ejecuciones/modelos\n",
      "20231030T115533 : enderlab : INFO : Encontrada carpeta EXEC_DIR=../tfm_git/ejecuciones\n",
      "20231030T115533 : enderlab : INFO : Encontrada carpeta MET_DIR=../tfm_git/ejecuciones/metricas\n",
      "20231030T115533 : enderlab : INFO : Inicio leer fichero h5 ../tfm_git/datos/h5/rows_transpose_norm_by_gene_id_with_target_num_bin_m.h5\n",
      "20231030T115533 : enderlab : INFO : Leyendo clave /df\n"
     ]
    },
    {
     "name": "stdout",
     "output_type": "stream",
     "text": [
      "20231030T115533 : enderlab : INFO : Tamaño (720, 18876)\n",
      "20231030T115533 : enderlab : INFO : Fin leer fichero h5 ../tfm_git/datos/h5/rows_transpose_norm_by_gene_id_with_target_num_bin_m.h5\n"
     ]
    },
    {
     "data": {
      "text/plain": [
       "target\n",
       "0    360\n",
       "1    360\n",
       "dtype: int64"
      ]
     },
     "metadata": {},
     "output_type": "display_data"
    },
    {
     "name": "stdout",
     "output_type": "stream",
     "text": [
      "Shape df: (720, 18876)\n",
      "Shape X_train: (576, 18875)\n",
      "Shape X_test: (144, 18875)\n"
     ]
    }
   ],
   "source": [
    "start_time = datetime.datetime.now()\n",
    "\n",
    "myfunc.reset_vars()\n",
    "\n",
    "myfunc.NOTEBK_FILENAME = myfunc.get_nb_name()\n",
    "\n",
    "myfunc.check_enviroment(myfunc.DATA_DIR, myfunc.CFDNA_DIR, myfunc.GENCODE_DIR, myfunc.H5_DIR, myfunc.LOG_DIR, myfunc.CSV_DIR, myfunc.MODEL_DIR, myfunc.EXEC_DIR, myfunc.MET_DIR)\n",
    "\n",
    "# Leer fichero con las muestras\n",
    "df_t = myfunc.read_h5_to_df(DATA_FILE, myfunc.H5_DIR)\n",
    "display(df_t.groupby(\"target\").size())\n",
    "print(\"Shape df:\",df_t.shape)\n",
    "\n",
    "# Separar caracteristicas/genes de las etiquetas/tipos de cáncer\n",
    "X = df_t.iloc[:, :-1]  # Todas las columnas excepto la última\n",
    "y = df_t.iloc[:, -1]  # La última columna contiene los identificadores de los tipos de cáncer\n",
    "\n",
    "#  Crear el conjunto de datos de entrenamiento y de pruebas, y se fija la semilla para siempre coger el mismo juego de muestras\n",
    "X_train, X_test, y_train, y_test = train_test_split(X, y, test_size=0.2, shuffle=True, random_state=42)\n",
    "print(\"Shape X_train:\",X_train.shape)\n",
    "print(\"Shape X_test:\",X_test.shape)\n"
   ]
  },
  {
   "cell_type": "markdown",
   "id": "875369f3",
   "metadata": {
    "papermill": {
     "duration": 0.004263,
     "end_time": "2023-10-30T10:55:33.711608",
     "exception": false,
     "start_time": "2023-10-30T10:55:33.707345",
     "status": "completed"
    },
    "tags": []
   },
   "source": [
    "#### Selección de características y clasificación."
   ]
  },
  {
   "cell_type": "code",
   "execution_count": 7,
   "id": "c3993716",
   "metadata": {
    "execution": {
     "iopub.execute_input": "2023-10-30T10:55:33.721012Z",
     "iopub.status.busy": "2023-10-30T10:55:33.720367Z",
     "iopub.status.idle": "2023-10-30T11:02:44.220891Z",
     "shell.execute_reply": "2023-10-30T11:02:44.214608Z"
    },
    "papermill": {
     "duration": 430.514544,
     "end_time": "2023-10-30T11:02:44.230124",
     "exception": false,
     "start_time": "2023-10-30T10:55:33.715580",
     "status": "completed"
    },
    "tags": []
   },
   "outputs": [
    {
     "name": "stdout",
     "output_type": "stream",
     "text": [
      "20231030T115533 : enderlab : INFO : Iniciando entrenamiento\n",
      "num_iter: 1 , max_iter: 1\n",
      "Fitting 5 folds for each of 1 candidates, totalling 5 fits\n"
     ]
    },
    {
     "name": "stdout",
     "output_type": "stream",
     "text": [
      "Mejores Hiperparámetros: {'selector__k': 500, 'clasifier__solver': 'saga', 'clasifier__penalty': 'l1', 'clasifier__max_iter': 10000}\n",
      "Mejor Puntuación: 0.8240\n",
      "20231030T120244 : enderlab : INFO : Fin entrenamiento\n"
     ]
    }
   ],
   "source": [
    "myfunc.verbose(\"Iniciando entrenamiento\")\n",
    "\n",
    "kf = KFold(n_splits=5, shuffle=True, random_state=SEMILLA)\n",
    "\n",
    "# Crear el pipeline para el flujo de tareas\n",
    "tasks_pipeline = Pipeline([\n",
    "    ('selector', algor_selector),\n",
    "    ('clasifier', algor_clasifier)\n",
    "])\n",
    "\n",
    "# MAX_ITERS puede limitar el número de iteraciones si son excesivas para las combinaciones de parámetros buscando un óptimo local, \n",
    "# sino funcionaría como GridSearchCV al revisar todas las cominaciones de los parámetros\n",
    "num_iteraciones = 1\n",
    "num_iteraciones = num_iteraciones * np.prod([len(elemento1) for _, elemento1 in param_distributions.items()])\n",
    "max_iteraciones = num_iteraciones if num_iteraciones <= MAX_ITERS else MAX_ITERS\n",
    "print(\"num_iter:\",num_iteraciones,\", max_iter:\",max_iteraciones)\n",
    "\n",
    "random_search = RandomizedSearchCV(\n",
    "    tasks_pipeline, \n",
    "    param_distributions, \n",
    "    n_iter=max_iteraciones,\n",
    "    scoring=SCORING,\n",
    "    cv=kf,\n",
    "    verbose=3, \n",
    "    random_state=SEMILLA, \n",
    "    n_jobs=-1\n",
    "    )\n",
    "\n",
    "# Entrenar el modelo\n",
    "random_search.fit(X_train, y_train)\n",
    "\n",
    "# Ver los mejores hiperparámetros encontrados\n",
    "print(f'Mejores Hiperparámetros: {random_search.best_params_}')\n",
    "print(f'Mejor Puntuación: {random_search.best_score_:.4f}')\n",
    "\n",
    "# Nos quedamos con el mejor modelo para ver las métricas\n",
    "mejor_modelo = random_search.best_estimator_\n",
    "\n",
    "myfunc.verbose(\"Fin entrenamiento\")"
   ]
  },
  {
   "cell_type": "markdown",
   "id": "f3c5b9a8",
   "metadata": {
    "papermill": {
     "duration": 0.004393,
     "end_time": "2023-10-30T11:02:44.239371",
     "exception": false,
     "start_time": "2023-10-30T11:02:44.234978",
     "status": "completed"
    },
    "tags": []
   },
   "source": [
    "#### Guardar modelo"
   ]
  },
  {
   "cell_type": "code",
   "execution_count": 8,
   "id": "18fa74fd",
   "metadata": {
    "execution": {
     "iopub.execute_input": "2023-10-30T11:02:44.249947Z",
     "iopub.status.busy": "2023-10-30T11:02:44.249624Z",
     "iopub.status.idle": "2023-10-30T11:02:44.261751Z",
     "shell.execute_reply": "2023-10-30T11:02:44.261134Z"
    },
    "papermill": {
     "duration": 0.019668,
     "end_time": "2023-10-30T11:02:44.263129",
     "exception": false,
     "start_time": "2023-10-30T11:02:44.243461",
     "status": "completed"
    },
    "tags": []
   },
   "outputs": [
    {
     "name": "stdout",
     "output_type": "stream",
     "text": [
      "20231030T120244 : enderlab : INFO : Inicio guardar fichero ../tfm_git/ejecuciones/modelos/modelo_7265_bin_m_MI_LR_L1.pkl\n",
      "20231030T120244 : enderlab : INFO : Fin guardar fichero ../tfm_git/ejecuciones/modelos/modelo_7265_bin_m_MI_LR_L1.pkl\n"
     ]
    }
   ],
   "source": [
    "fichero_modelo = str.replace(\"modelo_\"+str(SEMILLA).zfill(4)+\"_\"+M_TIPO+\"_\"+M_SELECT+\"_\"+M_CLASIF+\".pkl\", \" \", \"_\")\n",
    "\n",
    "myfunc.save_modelo(mejor_modelo, myfunc.MODEL_DIR, fichero_modelo)"
   ]
  },
  {
   "cell_type": "markdown",
   "id": "1e1861f3",
   "metadata": {
    "papermill": {
     "duration": 0.004193,
     "end_time": "2023-10-30T11:02:44.271361",
     "exception": false,
     "start_time": "2023-10-30T11:02:44.267168",
     "status": "completed"
    },
    "tags": []
   },
   "source": [
    "#### Ver resultados del las iteraciones hechas por RandomSearchCV"
   ]
  },
  {
   "cell_type": "code",
   "execution_count": 9,
   "id": "cf09d766",
   "metadata": {
    "execution": {
     "iopub.execute_input": "2023-10-30T11:02:44.281105Z",
     "iopub.status.busy": "2023-10-30T11:02:44.280565Z",
     "iopub.status.idle": "2023-10-30T11:02:44.288886Z",
     "shell.execute_reply": "2023-10-30T11:02:44.288303Z"
    },
    "papermill": {
     "duration": 0.014687,
     "end_time": "2023-10-30T11:02:44.290150",
     "exception": false,
     "start_time": "2023-10-30T11:02:44.275463",
     "status": "completed"
    },
    "tags": []
   },
   "outputs": [
    {
     "name": "stdout",
     "output_type": "stream",
     "text": [
      "20231030T120244 : enderlab : INFO : Inicio ver resultados\n",
      "Mejores Hiperparámetros: {'selector__k': 500, 'clasifier__solver': 'saga', 'clasifier__penalty': 'l1', 'clasifier__max_iter': 10000}\n",
      "Mejores puntuaciones: 0.8240 | Params: {'selector__k': 500, 'clasifier__solver': 'saga', 'clasifier__penalty': 'l1', 'clasifier__max_iter': 10000}\n",
      "Media de las puntuaciones: 0.8240 | Params: {'selector__k': 500, 'clasifier__solver': 'saga', 'clasifier__penalty': 'l1', 'clasifier__max_iter': 10000}\n",
      "20231030T120244 : enderlab : INFO : Fin resultados\n"
     ]
    }
   ],
   "source": [
    "myfunc.ver_resultados_search(random_search)"
   ]
  },
  {
   "cell_type": "markdown",
   "id": "e59c89e8",
   "metadata": {
    "papermill": {
     "duration": 0.00443,
     "end_time": "2023-10-30T11:02:44.298771",
     "exception": false,
     "start_time": "2023-10-30T11:02:44.294341",
     "status": "completed"
    },
    "tags": []
   },
   "source": [
    "#### Ver métricas del mejor modelo"
   ]
  },
  {
   "cell_type": "code",
   "execution_count": 10,
   "id": "fe2fbc85",
   "metadata": {
    "execution": {
     "iopub.execute_input": "2023-10-30T11:02:44.308346Z",
     "iopub.status.busy": "2023-10-30T11:02:44.307858Z",
     "iopub.status.idle": "2023-10-30T11:02:44.857807Z",
     "shell.execute_reply": "2023-10-30T11:02:44.857183Z"
    },
    "papermill": {
     "duration": 0.556212,
     "end_time": "2023-10-30T11:02:44.859216",
     "exception": false,
     "start_time": "2023-10-30T11:02:44.303004",
     "status": "completed"
    },
    "tags": []
   },
   "outputs": [
    {
     "name": "stdout",
     "output_type": "stream",
     "text": [
      "20231030T120244 : enderlab : INFO : Inicio ver métricas\n"
     ]
    },
    {
     "name": "stdout",
     "output_type": "stream",
     "text": [
      "              precision    recall  f1-score   support\n",
      "\n",
      "           0       0.84      0.80      0.82        82\n",
      "           1       0.75      0.79      0.77        62\n",
      "\n",
      "    accuracy                           0.80       144\n",
      "   macro avg       0.79      0.80      0.80       144\n",
      "weighted avg       0.80      0.80      0.80       144\n",
      "\n",
      "\n",
      "\n",
      "   Exactitud: 0.7986\n",
      "   Precisión: 0.7946\n",
      "Sensibilidad: 0.7976\n",
      "    F1-score: 0.7958\n",
      "     AUC ROC: 0.8731\n"
     ]
    },
    {
     "data": {
      "image/png": "[encoded data removed]",
      "text/plain": [
       "<Figure size 300x100 with 2 Axes>"
      ]
     },
     "metadata": {},
     "output_type": "display_data"
    },
    {
     "data": {
      "image/png": "[encoded data removed]",
      "text/plain": [
       "<Figure size 800x500 with 1 Axes>"
      ]
     },
     "metadata": {},
     "output_type": "display_data"
    },
    {
     "name": "stdout",
     "output_type": "stream",
     "text": [
      "20231030T120244 : enderlab : INFO : Fin ver métricas\n"
     ]
    }
   ],
   "source": [
    "if M_TIPO.startswith(\"bin\"):\n",
    "    myfunc.ver_metricas(mejor_modelo, X_test, y_test)\n",
    "else:\n",
    "    myfunc.ver_metricas_multi(mejor_modelo, X_test, y_test)\n"
   ]
  },
  {
   "cell_type": "markdown",
   "id": "37a3aa2c",
   "metadata": {
    "papermill": {
     "duration": 0.005419,
     "end_time": "2023-10-30T11:02:44.870353",
     "exception": false,
     "start_time": "2023-10-30T11:02:44.864934",
     "status": "completed"
    },
    "tags": []
   },
   "source": [
    "#### Finalización del notebook"
   ]
  },
  {
   "cell_type": "code",
   "execution_count": 11,
   "id": "3bb8ae2a",
   "metadata": {
    "execution": {
     "iopub.execute_input": "2023-10-30T11:02:44.881574Z",
     "iopub.status.busy": "2023-10-30T11:02:44.881256Z",
     "iopub.status.idle": "2023-10-30T11:02:44.885137Z",
     "shell.execute_reply": "2023-10-30T11:02:44.884586Z"
    },
    "papermill": {
     "duration": 0.011001,
     "end_time": "2023-10-30T11:02:44.886404",
     "exception": false,
     "start_time": "2023-10-30T11:02:44.875403",
     "status": "completed"
    },
    "tags": []
   },
   "outputs": [
    {
     "name": "stdout",
     "output_type": "stream",
     "text": [
      "20231030T120244 : enderlab : INFO : Notebook ha tardado 431 seconds\n"
     ]
    }
   ],
   "source": [
    "end_time = datetime.datetime.now()\n",
    "total_time = end_time - start_time\n",
    "myfunc.verbose(f\"Notebook ha tardado {total_time.seconds} seconds\")"
   ]
  },
  {
   "cell_type": "markdown",
   "id": "ab7f6659",
   "metadata": {
    "papermill": {
     "duration": 0.005163,
     "end_time": "2023-10-30T11:02:44.896636",
     "exception": false,
     "start_time": "2023-10-30T11:02:44.891473",
     "status": "completed"
    },
    "tags": []
   },
   "source": [
    "#### Guardar métricas"
   ]
  },
  {
   "cell_type": "code",
   "execution_count": 12,
   "id": "edf0fe3a",
   "metadata": {
    "execution": {
     "iopub.execute_input": "2023-10-30T11:02:44.907760Z",
     "iopub.status.busy": "2023-10-30T11:02:44.907390Z",
     "iopub.status.idle": "2023-10-30T11:02:45.124181Z",
     "shell.execute_reply": "2023-10-30T11:02:45.123589Z"
    },
    "papermill": {
     "duration": 0.223867,
     "end_time": "2023-10-30T11:02:45.125547",
     "exception": false,
     "start_time": "2023-10-30T11:02:44.901680",
     "status": "completed"
    },
    "tags": []
   },
   "outputs": [
    {
     "name": "stdout",
     "output_type": "stream",
     "text": [
      "20231030T120244 : enderlab : INFO : Inicio guardar métricas\n",
      "20231030T120244 : enderlab : INFO : Inicio leer fichero ../tfm_git/ejecuciones/metricas/metricas_7265.csv\n",
      "20231030T120244 : enderlab : INFO : Fin leer fichero ../tfm_git/ejecuciones/metricas/metricas_7265.csv\n"
     ]
    },
    {
     "name": "stdout",
     "output_type": "stream",
     "text": [
      "20231030T120245 : enderlab : INFO : Inicio guardar fichero ../tfm_git/ejecuciones/metricas/metricas_7265.csv\n",
      "20231030T120245 : enderlab : INFO : Fichero borrado ../tfm_git/ejecuciones/metricas/metricas_7265.csv\n",
      "20231030T120245 : enderlab : INFO : Fin guardar fichero ../tfm_git/ejecuciones/metricas/metricas_7265.csv\n",
      "20231030T120245 : enderlab : INFO : Fin guardar métricas\n",
      "20231030T120245 : enderlab : INFO : Inicio leer fichero ../tfm_git/ejecuciones/metricas/metricas_7265.csv\n",
      "20231030T120245 : enderlab : INFO : Fin leer fichero ../tfm_git/ejecuciones/metricas/metricas_7265.csv\n"
     ]
    },
    {
     "data": {
      "text/html": [
       "<div>\n",
       "<style scoped>\n",
       "    .dataframe tbody tr th:only-of-type {\n",
       "        vertical-align: middle;\n",
       "    }\n",
       "\n",
       "    .dataframe tbody tr th {\n",
       "        vertical-align: top;\n",
       "    }\n",
       "\n",
       "    .dataframe thead th {\n",
       "        text-align: right;\n",
       "    }\n",
       "</style>\n",
       "<table border=\"1\" class=\"dataframe\">\n",
       "  <thead>\n",
       "    <tr style=\"text-align: right;\">\n",
       "      <th></th>\n",
       "      <th>tipo</th>\n",
       "      <th>select</th>\n",
       "      <th>clasific</th>\n",
       "      <th>semilla</th>\n",
       "      <th>accuracy</th>\n",
       "      <th>precision</th>\n",
       "      <th>recall</th>\n",
       "      <th>f1_score</th>\n",
       "      <th>roc_auc</th>\n",
       "      <th>hostname</th>\n",
       "      <th>total_time_sec</th>\n",
       "      <th>datetime</th>\n",
       "      <th>fichero_modelo</th>\n",
       "      <th>params</th>\n",
       "      <th>shape</th>\n",
       "      <th>features</th>\n",
       "    </tr>\n",
       "  </thead>\n",
       "  <tbody>\n",
       "    <tr>\n",
       "      <th>0</th>\n",
       "      <td>bin_m</td>\n",
       "      <td>MI</td>\n",
       "      <td>LR_L1</td>\n",
       "      <td>7265</td>\n",
       "      <td>0.798611</td>\n",
       "      <td>0.794645</td>\n",
       "      <td>0.797600</td>\n",
       "      <td>0.795765</td>\n",
       "      <td>0.873131</td>\n",
       "      <td>enderlab</td>\n",
       "      <td>431</td>\n",
       "      <td>2023-10-30 12:02:45.090591</td>\n",
       "      <td>modelo_7265_bin_m_MI_LR_L1.pkl</td>\n",
       "      <td>{'selector__k': 500, 'clasifier__solver': 'sag...</td>\n",
       "      <td>X_test:(144, 18875)</td>\n",
       "      <td>['ENSG00000002330.14', 'ENSG00000004864.14', '...</td>\n",
       "    </tr>\n",
       "    <tr>\n",
       "      <th>0</th>\n",
       "      <td>bin_m</td>\n",
       "      <td>MI</td>\n",
       "      <td>LR_EN</td>\n",
       "      <td>7265</td>\n",
       "      <td>0.840278</td>\n",
       "      <td>0.838784</td>\n",
       "      <td>0.834186</td>\n",
       "      <td>0.836096</td>\n",
       "      <td>0.905586</td>\n",
       "      <td>enderlab</td>\n",
       "      <td>644</td>\n",
       "      <td>2023-10-30 11:55:26.529169</td>\n",
       "      <td>modelo_7265_bin_m_MI_LR_EN.pkl</td>\n",
       "      <td>{'selector__k': 1000, 'clasifier__solver': 'sa...</td>\n",
       "      <td>X_test:(144, 18875)</td>\n",
       "      <td>['ENSG00000002330.14', 'ENSG00000002933.9', 'E...</td>\n",
       "    </tr>\n",
       "    <tr>\n",
       "      <th>0</th>\n",
       "      <td>bin_m</td>\n",
       "      <td>ANOVA</td>\n",
       "      <td>SVM</td>\n",
       "      <td>7265</td>\n",
       "      <td>0.826389</td>\n",
       "      <td>0.822751</td>\n",
       "      <td>0.823958</td>\n",
       "      <td>0.823313</td>\n",
       "      <td>0.910307</td>\n",
       "      <td>enderlab</td>\n",
       "      <td>3</td>\n",
       "      <td>2023-10-30 11:44:35.142852</td>\n",
       "      <td>modelo_7265_bin_m_ANOVA_SVM.pkl</td>\n",
       "      <td>{'selector__k': 500, 'clasifier__kernel': 'rbf...</td>\n",
       "      <td>X_test:(144, 18875)</td>\n",
       "      <td>['ENSG00000000971.17', 'ENSG00000001626.18', '...</td>\n",
       "    </tr>\n",
       "  </tbody>\n",
       "</table>\n",
       "</div>"
      ],
      "text/plain": [
       "    tipo select clasific  semilla  accuracy  precision    recall  f1_score  \\\n",
       "0  bin_m     MI    LR_L1     7265  0.798611   0.794645  0.797600  0.795765   \n",
       "0  bin_m     MI    LR_EN     7265  0.840278   0.838784  0.834186  0.836096   \n",
       "0  bin_m  ANOVA      SVM     7265  0.826389   0.822751  0.823958  0.823313   \n",
       "\n",
       "    roc_auc  hostname  total_time_sec                    datetime  \\\n",
       "0  0.873131  enderlab             431  2023-10-30 12:02:45.090591   \n",
       "0  0.905586  enderlab             644  2023-10-30 11:55:26.529169   \n",
       "0  0.910307  enderlab               3  2023-10-30 11:44:35.142852   \n",
       "\n",
       "                    fichero_modelo  \\\n",
       "0   modelo_7265_bin_m_MI_LR_L1.pkl   \n",
       "0   modelo_7265_bin_m_MI_LR_EN.pkl   \n",
       "0  modelo_7265_bin_m_ANOVA_SVM.pkl   \n",
       "\n",
       "                                              params                shape  \\\n",
       "0  {'selector__k': 500, 'clasifier__solver': 'sag...  X_test:(144, 18875)   \n",
       "0  {'selector__k': 1000, 'clasifier__solver': 'sa...  X_test:(144, 18875)   \n",
       "0  {'selector__k': 500, 'clasifier__kernel': 'rbf...  X_test:(144, 18875)   \n",
       "\n",
       "                                            features  \n",
       "0  ['ENSG00000002330.14', 'ENSG00000004864.14', '...  \n",
       "0  ['ENSG00000002330.14', 'ENSG00000002933.9', 'E...  \n",
       "0  ['ENSG00000000971.17', 'ENSG00000001626.18', '...  "
      ]
     },
     "metadata": {},
     "output_type": "display_data"
    }
   ],
   "source": [
    "if M_TIPO.startswith(\"bin\"):\n",
    "    myfunc.save_metricas_to_csv(random_search, X_test, y_test, M_TIPO, M_SELECT, M_CLASIF, total_time, SEMILLA, myfunc.MET_DIR, M_FICHERO, fichero_modelo)\n",
    "else:\n",
    "    myfunc.save_metricas_multi_to_csv(random_search, X_test, y_test, M_TIPO, M_SELECT, M_CLASIF, total_time, SEMILLA, myfunc.MET_DIR, M_FICHERO, fichero_modelo)\n",
    "\n",
    "df1=myfunc.read_metricas_to_df(myfunc.MET_DIR,M_FICHERO)\n",
    "\n",
    "display(df1.sort_values(\"datetime\", ascending=False)[:3])\n"
   ]
  },
  {
   "cell_type": "markdown",
   "id": "cead385c",
   "metadata": {
    "papermill": {
     "duration": 0.00558,
     "end_time": "2023-10-30T11:02:45.137055",
     "exception": false,
     "start_time": "2023-10-30T11:02:45.131475",
     "status": "completed"
    },
    "tags": []
   },
   "source": [
    "#### Guardar resultados"
   ]
  },
  {
   "cell_type": "code",
   "execution_count": 13,
   "id": "26c35661",
   "metadata": {
    "execution": {
     "iopub.execute_input": "2023-10-30T11:02:45.151700Z",
     "iopub.status.busy": "2023-10-30T11:02:45.151107Z",
     "iopub.status.idle": "2023-10-30T11:02:45.160977Z",
     "shell.execute_reply": "2023-10-30T11:02:45.160441Z"
    },
    "papermill": {
     "duration": 0.017228,
     "end_time": "2023-10-30T11:02:45.162190",
     "exception": false,
     "start_time": "2023-10-30T11:02:45.144962",
     "status": "completed"
    },
    "tags": []
   },
   "outputs": [
    {
     "name": "stdout",
     "output_type": "stream",
     "text": [
      "20231030T120245 : enderlab : INFO : Inicio guardar resultados\n",
      "20231030T120245 : enderlab : INFO : Inicio guardar fichero ../tfm_git/ejecuciones/metricas/resultados_7265_bin_m-MI-LR_L1.csv\n",
      "20231030T120245 : enderlab : INFO : Fin guardar fichero ../tfm_git/ejecuciones/metricas/resultados_7265_bin_m-MI-LR_L1.csv\n",
      "20231030T120245 : enderlab : INFO : Fin guardar resultados\n"
     ]
    }
   ],
   "source": [
    "fichero_resultados=R_FICHERO+\"_\"+M_TIPO+\"-\"+M_SELECT+\"-\"+M_CLASIF+\".csv\"\n",
    "myfunc.save_resultados_to_csv(M_TIPO, M_SELECT, M_CLASIF,  random_search, myfunc.MET_DIR, fichero_resultados)\n"
   ]
  }
 ],
 "metadata": {
  "kernelspec": {
   "display_name": "Python 3 (ipykernel)",
   "language": "python",
   "name": "python3"
  },
  "language_info": {
   "codemirror_mode": {
    "name": "ipython",
    "version": 3
   },
   "file_extension": ".py",
   "mimetype": "text/x-python",
   "name": "python",
   "nbconvert_exporter": "python",
   "pygments_lexer": "ipython3",
   "version": "3.10.11"
  },
  "papermill": {
   "default_parameters": {},
   "duration": 436.883746,
   "end_time": "2023-10-30T11:02:47.797826",
   "environment_variables": {},
   "exception": null,
   "input_path": "03_entrenamiento.ipynb",
   "output_path": "ejecuciones/training/03_entrenamiento.20231030T115530.param_0000_7265_bin_m_MI_LR_L1.output.ipynb",
   "parameters": {
    "MAX_ITERS": 500,
    "M_CLASIF": "LR_L1",
    "M_FICHERO": "metricas_7265",
    "M_SELECT": "MI",
    "M_TIPO": "bin_m",
    "PRE_DATA_FILE": "rows_transpose_norm_by_gene_id_with_target_num_",
    "P_FICHERO": "param_0000_7265_bin_m_MI_LR_L1.yaml",
    "R_FICHERO": "resultados_7265",
    "SCORING": "roc_auc_ovr",
    "SEMILLA": 7265,
    "eval_clasifier": "LogisticRegressionCV(random_state=SEMILLA)",
    "eval_selector": "SelectKBest(score_func=mutual_info_classif_state)",
    "param_distributions": {
     "clasifier__max_iter": [
      10000
     ],
     "clasifier__penalty": [
      "l1"
     ],
     "clasifier__solver": [
      "saga"
     ],
     "selector__k": [
      500
     ]
    }
   },
   "start_time": "2023-10-30T10:55:30.914080",
   "version": "2.4.0"
  }
 },
 "nbformat": 4,
 "nbformat_minor": 5
}