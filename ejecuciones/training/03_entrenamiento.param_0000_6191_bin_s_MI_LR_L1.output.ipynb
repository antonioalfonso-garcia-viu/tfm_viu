{
 "cells": [
  {
   "cell_type": "markdown",
   "id": "64326287",
   "metadata": {
    "papermill": {
     "duration": 0.003449,
     "end_time": "2023-10-30T05:40:05.686153",
     "exception": false,
     "start_time": "2023-10-30T05:40:05.682704",
     "status": "completed"
    },
    "tags": []
   },
   "source": [
    "##### Inicio"
   ]
  },
  {
   "cell_type": "markdown",
   "id": "ec66292e",
   "metadata": {
    "papermill": {
     "duration": 0.002687,
     "end_time": "2023-10-30T05:40:05.691802",
     "exception": false,
     "start_time": "2023-10-30T05:40:05.689115",
     "status": "completed"
    },
    "tags": []
   },
   "source": [
    "#### Carga de datos"
   ]
  },
  {
   "cell_type": "code",
   "execution_count": 1,
   "id": "cf9c715f",
   "metadata": {
    "execution": {
     "iopub.execute_input": "2023-10-30T05:40:05.698375Z",
     "iopub.status.busy": "2023-10-30T05:40:05.698154Z",
     "iopub.status.idle": "2023-10-30T05:40:06.561924Z",
     "shell.execute_reply": "2023-10-30T05:40:06.561427Z"
    },
    "papermill": {
     "duration": 0.868648,
     "end_time": "2023-10-30T05:40:06.563219",
     "exception": false,
     "start_time": "2023-10-30T05:40:05.694571",
     "status": "completed"
    },
    "tags": []
   },
   "outputs": [
    {
     "name": "stdout",
     "output_type": "stream",
     "text": [
      "CPU_COUNT: 8; NODE: amilcar22; sys.version: 3.10.12 (main, Jul  5 2023, 19:22:19) [GCC 11.2.0]\n",
      "LOKY_MAX_CPU_COUNT: 6\n",
      "OMP_NUM_THREADS: 2\n"
     ]
    }
   ],
   "source": [
    "import os\n",
    "import numpy as np\n",
    "import pandas as pd\n",
    "import datetime\n",
    "import sklearn\n",
    "import logging\n",
    "import warnings\n",
    "\n",
    "from sklearn.pipeline import Pipeline\n",
    "from sklearn.model_selection import RandomizedSearchCV, KFold, cross_val_score, train_test_split\n",
    "from sklearn.metrics import accuracy_score, confusion_matrix, classification_report, roc_auc_score\n",
    "\n",
    "#  cargar algoritmos para aprendizaje supervisado\n",
    "from sklearn.feature_selection import SelectKBest, f_classif, SelectFromModel, mutual_info_classif\n",
    "from sklearn.svm import SVC\n",
    "from sklearn.ensemble import RandomForestClassifier\n",
    "from sklearn.linear_model import LogisticRegression,LogisticRegressionCV\n",
    "\n",
    "# importar fichero con utilidades propias\n",
    "from commons import myfunctions as myfunc\n"
   ]
  },
  {
   "cell_type": "markdown",
   "id": "912ad993",
   "metadata": {
    "papermill": {
     "duration": 0.00261,
     "end_time": "2023-10-30T05:40:06.568841",
     "exception": false,
     "start_time": "2023-10-30T05:40:06.566231",
     "status": "completed"
    },
    "tags": []
   },
   "source": [
    "#### Parámetros a utilizar en el entrenamiento.\n",
    "\n",
    "Se indican los 3 algoritmos de *selección de características* (eval_selector_xxx) y los 3 algoritmos para la _clasificación_ (eval_clasifier_xxx)\n",
    "\n",
    "En *param_distributions* se indicar los parámetros que utilizan los algoritmos en la función RandomSearchCV.\n",
    "\n",
    "Esta celda tiene la etiqueta **parameters** que servirá para poder lanzar los entrenamientos con la utilidad **papermill** pasándole un fichero con los parámetros. Los nuevos parámetros se situarán tras esta celda para tener prevalencia."
   ]
  },
  {
   "cell_type": "code",
   "execution_count": 2,
   "id": "19d011b8",
   "metadata": {
    "execution": {
     "iopub.execute_input": "2023-10-30T05:40:06.574684Z",
     "iopub.status.busy": "2023-10-30T05:40:06.574400Z",
     "iopub.status.idle": "2023-10-30T05:40:06.581202Z",
     "shell.execute_reply": "2023-10-30T05:40:06.580759Z"
    },
    "papermill": {
     "duration": 0.011059,
     "end_time": "2023-10-30T05:40:06.582336",
     "exception": false,
     "start_time": "2023-10-30T05:40:06.571277",
     "status": "completed"
    },
    "tags": [
     "parameters"
    ]
   },
   "outputs": [
    {
     "name": "stdout",
     "output_type": "stream",
     "text": [
      "20231030T064006 : amilcar22 : INFO : Utilizando parámetros de mul_m\n"
     ]
    }
   ],
   "source": [
    "#  Parametros para el entrenamiento\n",
    "\n",
    "SEMILLA=        42\n",
    "M_TIPO=         \"mul_m\"\n",
    "M_SELECT=       \"MI\"\n",
    "M_CLASIF=       \"SVM\"\n",
    "R_FICHERO=      \"resultados\"\n",
    "M_FICHERO=      \"metricas\"\n",
    "PRE_DATA_FILE=  \"rows_transpose_norm_by_gene_id_with_target_num_\"\n",
    "SCORING=        \"roc_auc_ovr\" \n",
    "MAX_ITERS=      100\n",
    "\n",
    "def mutual_info_classif_state(X, y):\n",
    "    return mutual_info_classif(X, y, random_state=SEMILLA)\n",
    "\n",
    "eval_selector_mi = \"SelectKBest(score_func=mutual_info_classif_state)\"\n",
    "eval_selector_rf=  \"SelectFromModel(estimator=RandomForestClassifier(random_state=SEMILLA), threshold=-np.inf)\"\n",
    "eval_selector_anova=  \"SelectKBest(score_func=f_classif)\"\n",
    "\n",
    "eval_clasifier_svm= \"SVC(probability=True, random_state=SEMILLA)\"\n",
    "eval_clasifier_rf= \"RandomForestClassifier(random_state=SEMILLA)\"\n",
    "eval_clasifier_lr= \"LogisticRegressionCV(random_state=SEMILLA)\"\n",
    "\n",
    "if M_TIPO.startswith(\"bin_m\"):\n",
    "    myfunc.verbose(f\"Utilizando parámetros de {M_TIPO}\")\n",
    "    eval_selector = eval_selector_mi\n",
    "    eval_clasifier = eval_clasifier_svm\n",
    "\n",
    "    SEMILLA = 6578\n",
    "    M_SELECT = \"MI\"\n",
    "    M_CLASIF = \"SVM\"\n",
    "    param_distributions = {'selector__k': [1000], \n",
    "         'clasifier__kernel': ['rbf'], 'clasifier__gamma': [0.01], 'clasifier__C': [100]}\n",
    "elif M_TIPO.startswith(\"bin_s\"):\n",
    "    myfunc.verbose(f\"Utilizando parámetros de {M_TIPO}\")\n",
    "    eval_selector = eval_selector_rf\n",
    "    eval_clasifier = eval_clasifier_lr\n",
    "\n",
    "    SEMILLA = 6191\n",
    "    M_SELECT = \"RF\"\n",
    "    M_CLASIF = \"LR_L2\"\n",
    "    param_distributions = {'selector__max_features': [1000], 'selector__estimator__n_estimators': [200], \n",
    "        'clasifier__solver': ['lbfgs'], 'clasifier__penalty': ['l2'], 'clasifier__max_iter': [10000]}\n",
    "\n",
    "elif M_TIPO.startswith(\"mul_m\"):\n",
    "    myfunc.verbose(f\"Utilizando parámetros de {M_TIPO}\")\n",
    " \n",
    "    eval_selector = eval_selector_rf\n",
    "    eval_clasifier = eval_clasifier_lr\n",
    "\n",
    "    SEMILLA = 6191\n",
    "    M_SELECT = \"RF\"\n",
    "    M_CLASIF = \"LR_L2\"\n",
    "    param_distributions = {'selector__max_features': [1000], 'selector__estimator__n_estimators': [400], \n",
    "        'clasifier__solver': ['lbfgs'], 'clasifier__penalty': ['l2'], 'clasifier__max_iter': [10000]}\n",
    "\n",
    "else:\n",
    "    # M_TIPO.startswith(\"mul_s\"):\n",
    "    myfunc.verbose(f\"Utilizando parámetros de {M_TIPO}\")\n",
    "    eval_selector = eval_selector_anova\n",
    "    eval_clasifier = eval_clasifier_lr\n",
    "\n",
    "    SEMILLA = 1860\n",
    "    M_SELECT = \"ANOVA\"\n",
    "    M_CLASIF = \"LR_L2\"\n",
    "    param_distributions = {'selector__k': [1000], \n",
    "        'clasifier__solver': ['saga'], 'clasifier__penalty': ['l2'], 'clasifier__max_iter': [10000]}\n",
    "\n"
   ]
  },
  {
   "cell_type": "code",
   "execution_count": 3,
   "id": "7723375b",
   "metadata": {
    "execution": {
     "iopub.execute_input": "2023-10-30T05:40:06.588588Z",
     "iopub.status.busy": "2023-10-30T05:40:06.588399Z",
     "iopub.status.idle": "2023-10-30T05:40:06.591742Z",
     "shell.execute_reply": "2023-10-30T05:40:06.591283Z"
    },
    "papermill": {
     "duration": 0.007659,
     "end_time": "2023-10-30T05:40:06.592873",
     "exception": false,
     "start_time": "2023-10-30T05:40:06.585214",
     "status": "completed"
    },
    "tags": [
     "injected-parameters"
    ]
   },
   "outputs": [],
   "source": [
    "# Parameters\n",
    "M_TIPO = \"bin_s\"\n",
    "M_SELECT = \"MI\"\n",
    "M_CLASIF = \"LR_L1\"\n",
    "P_FICHERO = \"param_0000_6191_bin_s_MI_LR_L1.yaml\"\n",
    "R_FICHERO = \"resultados_6191\"\n",
    "M_FICHERO = \"metricas_6191\"\n",
    "PRE_DATA_FILE = \"rows_transpose_norm_by_gene_id_with_target_num_\"\n",
    "SCORING = \"roc_auc_ovr\"\n",
    "SEMILLA = 6191\n",
    "MAX_ITERS = 500\n",
    "eval_selector = \"SelectKBest(score_func=mutual_info_classif_state)\"\n",
    "eval_clasifier = \"LogisticRegressionCV(random_state=SEMILLA)\"\n",
    "param_distributions = {\n",
    "    \"selector__k\": [1000],\n",
    "    \"clasifier__solver\": [\"saga\"],\n",
    "    \"clasifier__penalty\": [\"l1\"],\n",
    "    \"clasifier__max_iter\": [10000],\n",
    "}\n"
   ]
  },
  {
   "cell_type": "code",
   "execution_count": 4,
   "id": "a0348a88",
   "metadata": {
    "execution": {
     "iopub.execute_input": "2023-10-30T05:40:06.599440Z",
     "iopub.status.busy": "2023-10-30T05:40:06.599263Z",
     "iopub.status.idle": "2023-10-30T05:40:06.602209Z",
     "shell.execute_reply": "2023-10-30T05:40:06.601720Z"
    },
    "papermill": {
     "duration": 0.007609,
     "end_time": "2023-10-30T05:40:06.603418",
     "exception": false,
     "start_time": "2023-10-30T05:40:06.595809",
     "status": "completed"
    },
    "tags": []
   },
   "outputs": [],
   "source": [
    "DATA_FILE = PRE_DATA_FILE + M_TIPO\n",
    "\n",
    "# si viene \"None\" en el parámetro max_depth, se le quitan las comillas para que no sea entendido por el algoritmo como un texto\n",
    "if \"clasifier__max_depth\" in param_distributions:\n",
    "    param_distributions['clasifier__max_depth'] = [None if x == 'None' else x for x in param_distributions['clasifier__max_depth']]"
   ]
  },
  {
   "cell_type": "markdown",
   "id": "5b2ad064",
   "metadata": {
    "papermill": {
     "duration": 0.002802,
     "end_time": "2023-10-30T05:40:06.609133",
     "exception": false,
     "start_time": "2023-10-30T05:40:06.606331",
     "status": "completed"
    },
    "tags": []
   },
   "source": [
    "Asignar los algoritmos que se utilizarán en la función RandomSearchCV"
   ]
  },
  {
   "cell_type": "code",
   "execution_count": 5,
   "id": "58fd818b",
   "metadata": {
    "execution": {
     "iopub.execute_input": "2023-10-30T05:40:06.615468Z",
     "iopub.status.busy": "2023-10-30T05:40:06.615302Z",
     "iopub.status.idle": "2023-10-30T05:40:06.617983Z",
     "shell.execute_reply": "2023-10-30T05:40:06.617466Z"
    },
    "papermill": {
     "duration": 0.007301,
     "end_time": "2023-10-30T05:40:06.619299",
     "exception": false,
     "start_time": "2023-10-30T05:40:06.611998",
     "status": "completed"
    },
    "tags": []
   },
   "outputs": [],
   "source": [
    "algor_selector=eval(eval_selector)\n",
    "algor_clasifier=eval(eval_clasifier)"
   ]
  },
  {
   "cell_type": "markdown",
   "id": "ae948aa4",
   "metadata": {
    "papermill": {
     "duration": 0.003476,
     "end_time": "2023-10-30T05:40:06.626224",
     "exception": false,
     "start_time": "2023-10-30T05:40:06.622748",
     "status": "completed"
    },
    "tags": []
   },
   "source": [
    "#### Comprobar el entorno y leer fichero de muestras"
   ]
  },
  {
   "cell_type": "code",
   "execution_count": 6,
   "id": "349bc794",
   "metadata": {
    "execution": {
     "iopub.execute_input": "2023-10-30T05:40:06.633706Z",
     "iopub.status.busy": "2023-10-30T05:40:06.633517Z",
     "iopub.status.idle": "2023-10-30T05:40:06.794097Z",
     "shell.execute_reply": "2023-10-30T05:40:06.793565Z"
    },
    "papermill": {
     "duration": 0.165819,
     "end_time": "2023-10-30T05:40:06.795441",
     "exception": false,
     "start_time": "2023-10-30T05:40:06.629622",
     "status": "completed"
    },
    "tags": []
   },
   "outputs": [
    {
     "name": "stdout",
     "output_type": "stream",
     "text": [
      "20231030T064006 : amilcar22 : INFO : Encontrada carpeta DATA_DIR=../tfm_git/datos\n",
      "20231030T064006 : amilcar22 : INFO : Encontrada carpeta CFDNA_DIR=../tfm_git/datos/cfDNA_5hmC\n",
      "20231030T064006 : amilcar22 : INFO : Encontrada carpeta GENCODE_DIR=../tfm_git/datos/gencode\n",
      "20231030T064006 : amilcar22 : INFO : Encontrada carpeta H5_DIR=../tfm_git/datos/h5\n",
      "20231030T064006 : amilcar22 : INFO : Encontrada carpeta LOG_DIR=../tfm_git/datos/logs\n",
      "20231030T064006 : amilcar22 : INFO : Encontrada carpeta CSV_DIR=../tfm_git/datos/csv\n",
      "20231030T064006 : amilcar22 : INFO : Encontrada carpeta MODEL_DIR=../tfm_git/ejecuciones/modelos\n",
      "20231030T064006 : amilcar22 : INFO : Encontrada carpeta EXEC_DIR=../tfm_git/ejecuciones\n",
      "20231030T064006 : amilcar22 : INFO : Encontrada carpeta MET_DIR=../tfm_git/ejecuciones/metricas\n",
      "20231030T064006 : amilcar22 : INFO : Inicio leer fichero h5 ../tfm_git/datos/h5/rows_transpose_norm_by_gene_id_with_target_num_bin_s.h5\n",
      "20231030T064006 : amilcar22 : INFO : Leyendo clave /df\n",
      "20231030T064006 : amilcar22 : INFO : Tamaño (443, 18876)\n",
      "20231030T064006 : amilcar22 : INFO : Fin leer fichero h5 ../tfm_git/datos/h5/rows_transpose_norm_by_gene_id_with_target_num_bin_s.h5\n"
     ]
    },
    {
     "data": {
      "text/plain": [
       "target\n",
       "0    221\n",
       "1    222\n",
       "dtype: int64"
      ]
     },
     "metadata": {},
     "output_type": "display_data"
    },
    {
     "name": "stdout",
     "output_type": "stream",
     "text": [
      "Shape df: (443, 18876)\n"
     ]
    },
    {
     "name": "stdout",
     "output_type": "stream",
     "text": [
      "Shape X_train: (354, 18875)\n",
      "Shape X_test: (89, 18875)\n"
     ]
    }
   ],
   "source": [
    "start_time = datetime.datetime.now()\n",
    "\n",
    "myfunc.reset_vars()\n",
    "\n",
    "myfunc.NOTEBK_FILENAME = myfunc.get_nb_name()\n",
    "\n",
    "myfunc.check_enviroment(myfunc.DATA_DIR, myfunc.CFDNA_DIR, myfunc.GENCODE_DIR, myfunc.H5_DIR, myfunc.LOG_DIR, myfunc.CSV_DIR, myfunc.MODEL_DIR, myfunc.EXEC_DIR, myfunc.MET_DIR)\n",
    "\n",
    "# Leer fichero con las muestras\n",
    "df_t = myfunc.read_h5_to_df(DATA_FILE, myfunc.H5_DIR)\n",
    "display(df_t.groupby(\"target\").size())\n",
    "print(\"Shape df:\",df_t.shape)\n",
    "\n",
    "# Separar caracteristicas/genes de las etiquetas/tipos de cáncer\n",
    "X = df_t.iloc[:, :-1]  # Todas las columnas excepto la última\n",
    "y = df_t.iloc[:, -1]  # La última columna contiene los identificadores de los tipos de cáncer\n",
    "\n",
    "#  Crear el conjunto de datos de entrenamiento y de pruebas, y se fija la semilla para siempre coger el mismo juego de muestras\n",
    "X_train, X_test, y_train, y_test = train_test_split(X, y, test_size=0.2, shuffle=True, random_state=42)\n",
    "print(\"Shape X_train:\",X_train.shape)\n",
    "print(\"Shape X_test:\",X_test.shape)\n"
   ]
  },
  {
   "cell_type": "markdown",
   "id": "bdb6322a",
   "metadata": {
    "papermill": {
     "duration": 0.002958,
     "end_time": "2023-10-30T05:40:06.801812",
     "exception": false,
     "start_time": "2023-10-30T05:40:06.798854",
     "status": "completed"
    },
    "tags": []
   },
   "source": [
    "#### Selección de características y clasificación."
   ]
  },
  {
   "cell_type": "code",
   "execution_count": 7,
   "id": "10ba8f6f",
   "metadata": {
    "execution": {
     "iopub.execute_input": "2023-10-30T05:40:06.808388Z",
     "iopub.status.busy": "2023-10-30T05:40:06.808193Z",
     "iopub.status.idle": "2023-10-30T05:48:19.604282Z",
     "shell.execute_reply": "2023-10-30T05:48:19.603706Z"
    },
    "papermill": {
     "duration": 492.800785,
     "end_time": "2023-10-30T05:48:19.605577",
     "exception": false,
     "start_time": "2023-10-30T05:40:06.804792",
     "status": "completed"
    },
    "tags": []
   },
   "outputs": [
    {
     "name": "stdout",
     "output_type": "stream",
     "text": [
      "20231030T064006 : amilcar22 : INFO : Iniciando entrenamiento\n",
      "num_iter: 1 , max_iter: 1\n",
      "Fitting 5 folds for each of 1 candidates, totalling 5 fits\n"
     ]
    },
    {
     "name": "stdout",
     "output_type": "stream",
     "text": [
      "[CV 1/5] END clasifier__max_iter=10000, clasifier__penalty=l1, clasifier__solver=saga, selector__k=1000;, score=0.696 total time= 2.7min\n"
     ]
    },
    {
     "name": "stdout",
     "output_type": "stream",
     "text": [
      "Mejores Hiperparámetros: {'selector__k': 1000, 'clasifier__solver': 'saga', 'clasifier__penalty': 'l1', 'clasifier__max_iter': 10000}\n",
      "Mejor Puntuación: 0.7240\n",
      "20231030T064819 : amilcar22 : INFO : Fin entrenamiento\n"
     ]
    }
   ],
   "source": [
    "myfunc.verbose(\"Iniciando entrenamiento\")\n",
    "\n",
    "kf = KFold(n_splits=5, shuffle=True, random_state=SEMILLA)\n",
    "\n",
    "# Crear el pipeline para el flujo de tareas\n",
    "tasks_pipeline = Pipeline([\n",
    "    ('selector', algor_selector),\n",
    "    ('clasifier', algor_clasifier)\n",
    "])\n",
    "\n",
    "# MAX_ITERS puede limitar el número de iteraciones si son excesivas para las combinaciones de parámetros buscando un óptimo local, \n",
    "# sino funcionaría como GridSearchCV al revisar todas las cominaciones de los parámetros\n",
    "num_iteraciones = 1\n",
    "num_iteraciones = num_iteraciones * np.prod([len(elemento1) for _, elemento1 in param_distributions.items()])\n",
    "max_iteraciones = num_iteraciones if num_iteraciones <= MAX_ITERS else MAX_ITERS\n",
    "print(\"num_iter:\",num_iteraciones,\", max_iter:\",max_iteraciones)\n",
    "\n",
    "random_search = RandomizedSearchCV(\n",
    "    tasks_pipeline, \n",
    "    param_distributions, \n",
    "    n_iter=max_iteraciones,\n",
    "    scoring=SCORING,\n",
    "    cv=kf,\n",
    "    verbose=3, \n",
    "    random_state=SEMILLA, \n",
    "    n_jobs=-1\n",
    "    )\n",
    "\n",
    "# Entrenar el modelo\n",
    "random_search.fit(X_train, y_train)\n",
    "\n",
    "# Ver los mejores hiperparámetros encontrados\n",
    "print(f'Mejores Hiperparámetros: {random_search.best_params_}')\n",
    "print(f'Mejor Puntuación: {random_search.best_score_:.4f}')\n",
    "\n",
    "# Nos quedamos con el mejor modelo para ver las métricas\n",
    "mejor_modelo = random_search.best_estimator_\n",
    "\n",
    "myfunc.verbose(\"Fin entrenamiento\")"
   ]
  },
  {
   "cell_type": "markdown",
   "id": "e2472f57",
   "metadata": {
    "papermill": {
     "duration": 0.002951,
     "end_time": "2023-10-30T05:48:19.611890",
     "exception": false,
     "start_time": "2023-10-30T05:48:19.608939",
     "status": "completed"
    },
    "tags": []
   },
   "source": [
    "#### Guardar modelo"
   ]
  },
  {
   "cell_type": "code",
   "execution_count": 8,
   "id": "18a2a499",
   "metadata": {
    "execution": {
     "iopub.execute_input": "2023-10-30T05:48:19.618729Z",
     "iopub.status.busy": "2023-10-30T05:48:19.618530Z",
     "iopub.status.idle": "2023-10-30T05:48:19.626008Z",
     "shell.execute_reply": "2023-10-30T05:48:19.625497Z"
    },
    "papermill": {
     "duration": 0.012499,
     "end_time": "2023-10-30T05:48:19.627321",
     "exception": false,
     "start_time": "2023-10-30T05:48:19.614822",
     "status": "completed"
    },
    "tags": []
   },
   "outputs": [
    {
     "name": "stdout",
     "output_type": "stream",
     "text": [
      "20231030T064819 : amilcar22 : INFO : Inicio guardar fichero ../tfm_git/ejecuciones/modelos/modelo_6191_bin_s_MI_LR_L1.pkl\n",
      "20231030T064819 : amilcar22 : INFO : Fin guardar fichero ../tfm_git/ejecuciones/modelos/modelo_6191_bin_s_MI_LR_L1.pkl\n"
     ]
    }
   ],
   "source": [
    "fichero_modelo = str.replace(\"modelo_\"+str(SEMILLA).zfill(4)+\"_\"+M_TIPO+\"_\"+M_SELECT+\"_\"+M_CLASIF+\".pkl\", \" \", \"_\")\n",
    "\n",
    "myfunc.save_modelo(mejor_modelo, myfunc.MODEL_DIR, fichero_modelo)"
   ]
  },
  {
   "cell_type": "markdown",
   "id": "0e316089",
   "metadata": {
    "papermill": {
     "duration": 0.002964,
     "end_time": "2023-10-30T05:48:19.633746",
     "exception": false,
     "start_time": "2023-10-30T05:48:19.630782",
     "status": "completed"
    },
    "tags": []
   },
   "source": [
    "#### Ver resultados del las iteraciones hechas por RandomSearchCV"
   ]
  },
  {
   "cell_type": "code",
   "execution_count": 9,
   "id": "099ed127",
   "metadata": {
    "execution": {
     "iopub.execute_input": "2023-10-30T05:48:19.640544Z",
     "iopub.status.busy": "2023-10-30T05:48:19.640353Z",
     "iopub.status.idle": "2023-10-30T05:48:19.646541Z",
     "shell.execute_reply": "2023-10-30T05:48:19.645999Z"
    },
    "papermill": {
     "duration": 0.010912,
     "end_time": "2023-10-30T05:48:19.647647",
     "exception": false,
     "start_time": "2023-10-30T05:48:19.636735",
     "status": "completed"
    },
    "tags": []
   },
   "outputs": [
    {
     "name": "stdout",
     "output_type": "stream",
     "text": [
      "20231030T064819 : amilcar22 : INFO : Inicio ver resultados\n",
      "Mejores Hiperparámetros: {'selector__k': 1000, 'clasifier__solver': 'saga', 'clasifier__penalty': 'l1', 'clasifier__max_iter': 10000}\n",
      "Mejores puntuaciones: 0.7240 | Params: {'selector__k': 1000, 'clasifier__solver': 'saga', 'clasifier__penalty': 'l1', 'clasifier__max_iter': 10000}\n",
      "Media de las puntuaciones: 0.7240 | Params: {'selector__k': 1000, 'clasifier__solver': 'saga', 'clasifier__penalty': 'l1', 'clasifier__max_iter': 10000}\n",
      "20231030T064819 : amilcar22 : INFO : Fin resultados\n"
     ]
    }
   ],
   "source": [
    "myfunc.ver_resultados_search(random_search)"
   ]
  },
  {
   "cell_type": "markdown",
   "id": "68562e00",
   "metadata": {
    "papermill": {
     "duration": 0.003039,
     "end_time": "2023-10-30T05:48:19.653838",
     "exception": false,
     "start_time": "2023-10-30T05:48:19.650799",
     "status": "completed"
    },
    "tags": []
   },
   "source": [
    "#### Ver métricas del mejor modelo"
   ]
  },
  {
   "cell_type": "code",
   "execution_count": 10,
   "id": "55572dd6",
   "metadata": {
    "execution": {
     "iopub.execute_input": "2023-10-30T05:48:19.660678Z",
     "iopub.status.busy": "2023-10-30T05:48:19.660477Z",
     "iopub.status.idle": "2023-10-30T05:48:20.057927Z",
     "shell.execute_reply": "2023-10-30T05:48:20.057304Z"
    },
    "papermill": {
     "duration": 0.402207,
     "end_time": "2023-10-30T05:48:20.059091",
     "exception": false,
     "start_time": "2023-10-30T05:48:19.656884",
     "status": "completed"
    },
    "tags": []
   },
   "outputs": [
    {
     "name": "stdout",
     "output_type": "stream",
     "text": [
      "20231030T064819 : amilcar22 : INFO : Inicio ver métricas\n",
      "              precision    recall  f1-score   support\n",
      "\n",
      "           0       0.63      0.67      0.65        46\n",
      "           1       0.62      0.58      0.60        43\n",
      "\n",
      "    accuracy                           0.63        89\n",
      "   macro avg       0.63      0.63      0.63        89\n",
      "weighted avg       0.63      0.63      0.63        89\n",
      "\n",
      "\n",
      "\n",
      "   Exactitud: 0.6292\n",
      "   Precisión: 0.6288\n",
      "Sensibilidad: 0.6277\n",
      "    F1-score: 0.6275\n",
      "     AUC ROC: 0.7300\n"
     ]
    },
    {
     "data": {
      "image/png": "[encoded data removed]",
      "text/plain": [
       "<Figure size 300x100 with 2 Axes>"
      ]
     },
     "metadata": {},
     "output_type": "display_data"
    },
    {
     "data": {
      "image/png": "[encoded data removed]",
      "text/plain": [
       "<Figure size 800x500 with 1 Axes>"
      ]
     },
     "metadata": {},
     "output_type": "display_data"
    },
    {
     "name": "stdout",
     "output_type": "stream",
     "text": [
      "20231030T064820 : amilcar22 : INFO : Fin ver métricas\n"
     ]
    }
   ],
   "source": [
    "if M_TIPO.startswith(\"bin\"):\n",
    "    myfunc.ver_metricas(mejor_modelo, X_test, y_test)\n",
    "else:\n",
    "    myfunc.ver_metricas_multi(mejor_modelo, X_test, y_test)\n"
   ]
  },
  {
   "cell_type": "markdown",
   "id": "fe55a35e",
   "metadata": {
    "papermill": {
     "duration": 0.00361,
     "end_time": "2023-10-30T05:48:20.066788",
     "exception": false,
     "start_time": "2023-10-30T05:48:20.063178",
     "status": "completed"
    },
    "tags": []
   },
   "source": [
    "#### Finalización del notebook"
   ]
  },
  {
   "cell_type": "code",
   "execution_count": 11,
   "id": "dc1bb320",
   "metadata": {
    "execution": {
     "iopub.execute_input": "2023-10-30T05:48:20.074886Z",
     "iopub.status.busy": "2023-10-30T05:48:20.074691Z",
     "iopub.status.idle": "2023-10-30T05:48:20.078378Z",
     "shell.execute_reply": "2023-10-30T05:48:20.077918Z"
    },
    "papermill": {
     "duration": 0.009054,
     "end_time": "2023-10-30T05:48:20.079464",
     "exception": false,
     "start_time": "2023-10-30T05:48:20.070410",
     "status": "completed"
    },
    "tags": []
   },
   "outputs": [
    {
     "name": "stdout",
     "output_type": "stream",
     "text": [
      "20231030T064820 : amilcar22 : INFO : Notebook ha tardado 493 seconds\n"
     ]
    }
   ],
   "source": [
    "end_time = datetime.datetime.now()\n",
    "total_time = end_time - start_time\n",
    "myfunc.verbose(f\"Notebook ha tardado {total_time.seconds} seconds\")"
   ]
  },
  {
   "cell_type": "markdown",
   "id": "4a18cb8e",
   "metadata": {
    "papermill": {
     "duration": 0.003629,
     "end_time": "2023-10-30T05:48:20.086831",
     "exception": false,
     "start_time": "2023-10-30T05:48:20.083202",
     "status": "completed"
    },
    "tags": []
   },
   "source": [
    "#### Guardar métricas"
   ]
  },
  {
   "cell_type": "code",
   "execution_count": 12,
   "id": "92cc9e7a",
   "metadata": {
    "execution": {
     "iopub.execute_input": "2023-10-30T05:48:20.095020Z",
     "iopub.status.busy": "2023-10-30T05:48:20.094859Z",
     "iopub.status.idle": "2023-10-30T05:48:20.262442Z",
     "shell.execute_reply": "2023-10-30T05:48:20.261943Z"
    },
    "papermill": {
     "duration": 0.173187,
     "end_time": "2023-10-30T05:48:20.263632",
     "exception": false,
     "start_time": "2023-10-30T05:48:20.090445",
     "status": "completed"
    },
    "tags": []
   },
   "outputs": [
    {
     "name": "stdout",
     "output_type": "stream",
     "text": [
      "20231030T064820 : amilcar22 : INFO : Inicio guardar métricas\n",
      "20231030T064820 : amilcar22 : INFO : Inicio leer fichero ../tfm_git/ejecuciones/metricas/metricas_6191.csv\n",
      "20231030T064820 : amilcar22 : INFO : Fin leer fichero ../tfm_git/ejecuciones/metricas/metricas_6191.csv\n",
      "20231030T064820 : amilcar22 : INFO : Inicio guardar fichero ../tfm_git/ejecuciones/metricas/metricas_6191.csv\n",
      "20231030T064820 : amilcar22 : INFO : Fichero borrado ../tfm_git/ejecuciones/metricas/metricas_6191.csv\n",
      "20231030T064820 : amilcar22 : INFO : Fin guardar fichero ../tfm_git/ejecuciones/metricas/metricas_6191.csv\n",
      "20231030T064820 : amilcar22 : INFO : Fin guardar métricas\n",
      "20231030T064820 : amilcar22 : INFO : Inicio leer fichero ../tfm_git/ejecuciones/metricas/metricas_6191.csv\n",
      "20231030T064820 : amilcar22 : INFO : Fin leer fichero ../tfm_git/ejecuciones/metricas/metricas_6191.csv\n"
     ]
    },
    {
     "data": {
      "text/html": [
       "<div>\n",
       "<style scoped>\n",
       "    .dataframe tbody tr th:only-of-type {\n",
       "        vertical-align: middle;\n",
       "    }\n",
       "\n",
       "    .dataframe tbody tr th {\n",
       "        vertical-align: top;\n",
       "    }\n",
       "\n",
       "    .dataframe thead th {\n",
       "        text-align: right;\n",
       "    }\n",
       "</style>\n",
       "<table border=\"1\" class=\"dataframe\">\n",
       "  <thead>\n",
       "    <tr style=\"text-align: right;\">\n",
       "      <th></th>\n",
       "      <th>tipo</th>\n",
       "      <th>select</th>\n",
       "      <th>clasific</th>\n",
       "      <th>semilla</th>\n",
       "      <th>accuracy</th>\n",
       "      <th>precision</th>\n",
       "      <th>recall</th>\n",
       "      <th>f1_score</th>\n",
       "      <th>roc_auc</th>\n",
       "      <th>hostname</th>\n",
       "      <th>total_time_sec</th>\n",
       "      <th>datetime</th>\n",
       "      <th>fichero_modelo</th>\n",
       "      <th>params</th>\n",
       "      <th>shape</th>\n",
       "      <th>features</th>\n",
       "    </tr>\n",
       "  </thead>\n",
       "  <tbody>\n",
       "    <tr>\n",
       "      <th>0</th>\n",
       "      <td>bin_s</td>\n",
       "      <td>MI</td>\n",
       "      <td>LR_L1</td>\n",
       "      <td>6191</td>\n",
       "      <td>0.629213</td>\n",
       "      <td>0.628827</td>\n",
       "      <td>0.627654</td>\n",
       "      <td>0.627521</td>\n",
       "      <td>0.730030</td>\n",
       "      <td>amilcar22</td>\n",
       "      <td>493</td>\n",
       "      <td>2023-10-30 06:48:20.240861</td>\n",
       "      <td>modelo_6191_bin_s_MI_LR_L1.pkl</td>\n",
       "      <td>{'selector__k': 1000, 'clasifier__solver': 'sa...</td>\n",
       "      <td>X_test:(89, 18875)</td>\n",
       "      <td>['ENSG00000002933.9', 'ENSG00000003402.21', 'E...</td>\n",
       "    </tr>\n",
       "    <tr>\n",
       "      <th>0</th>\n",
       "      <td>bin_s</td>\n",
       "      <td>MI</td>\n",
       "      <td>LR_EN</td>\n",
       "      <td>6191</td>\n",
       "      <td>0.584270</td>\n",
       "      <td>0.584119</td>\n",
       "      <td>0.581143</td>\n",
       "      <td>0.578954</td>\n",
       "      <td>0.654196</td>\n",
       "      <td>amilcar22</td>\n",
       "      <td>271</td>\n",
       "      <td>2023-10-30 06:40:00.576470</td>\n",
       "      <td>modelo_6191_bin_s_MI_LR_EN.pkl</td>\n",
       "      <td>{'selector__k': 500, 'clasifier__solver': 'sag...</td>\n",
       "      <td>X_test:(89, 18875)</td>\n",
       "      <td>['ENSG00000003402.21', 'ENSG00000006712.15', '...</td>\n",
       "    </tr>\n",
       "    <tr>\n",
       "      <th>0</th>\n",
       "      <td>bin_s</td>\n",
       "      <td>ANOVA</td>\n",
       "      <td>SVM</td>\n",
       "      <td>6191</td>\n",
       "      <td>0.674157</td>\n",
       "      <td>0.680214</td>\n",
       "      <td>0.670374</td>\n",
       "      <td>0.668124</td>\n",
       "      <td>0.721436</td>\n",
       "      <td>amilcar22</td>\n",
       "      <td>2</td>\n",
       "      <td>2023-10-30 06:35:22.951799</td>\n",
       "      <td>modelo_6191_bin_s_ANOVA_SVM.pkl</td>\n",
       "      <td>{'selector__k': 250, 'clasifier__kernel': 'rbf...</td>\n",
       "      <td>X_test:(89, 18875)</td>\n",
       "      <td>['ENSG00000000938.13', 'ENSG00000000971.17', '...</td>\n",
       "    </tr>\n",
       "  </tbody>\n",
       "</table>\n",
       "</div>"
      ],
      "text/plain": [
       "    tipo select clasific  semilla  accuracy  precision    recall  f1_score  \\\n",
       "0  bin_s     MI    LR_L1     6191  0.629213   0.628827  0.627654  0.627521   \n",
       "0  bin_s     MI    LR_EN     6191  0.584270   0.584119  0.581143  0.578954   \n",
       "0  bin_s  ANOVA      SVM     6191  0.674157   0.680214  0.670374  0.668124   \n",
       "\n",
       "    roc_auc   hostname  total_time_sec                    datetime  \\\n",
       "0  0.730030  amilcar22             493  2023-10-30 06:48:20.240861   \n",
       "0  0.654196  amilcar22             271  2023-10-30 06:40:00.576470   \n",
       "0  0.721436  amilcar22               2  2023-10-30 06:35:22.951799   \n",
       "\n",
       "                    fichero_modelo  \\\n",
       "0   modelo_6191_bin_s_MI_LR_L1.pkl   \n",
       "0   modelo_6191_bin_s_MI_LR_EN.pkl   \n",
       "0  modelo_6191_bin_s_ANOVA_SVM.pkl   \n",
       "\n",
       "                                              params               shape  \\\n",
       "0  {'selector__k': 1000, 'clasifier__solver': 'sa...  X_test:(89, 18875)   \n",
       "0  {'selector__k': 500, 'clasifier__solver': 'sag...  X_test:(89, 18875)   \n",
       "0  {'selector__k': 250, 'clasifier__kernel': 'rbf...  X_test:(89, 18875)   \n",
       "\n",
       "                                            features  \n",
       "0  ['ENSG00000002933.9', 'ENSG00000003402.21', 'E...  \n",
       "0  ['ENSG00000003402.21', 'ENSG00000006712.15', '...  \n",
       "0  ['ENSG00000000938.13', 'ENSG00000000971.17', '...  "
      ]
     },
     "metadata": {},
     "output_type": "display_data"
    }
   ],
   "source": [
    "if M_TIPO.startswith(\"bin\"):\n",
    "    myfunc.save_metricas_to_csv(random_search, X_test, y_test, M_TIPO, M_SELECT, M_CLASIF, total_time, SEMILLA, myfunc.MET_DIR, M_FICHERO, fichero_modelo)\n",
    "else:\n",
    "    myfunc.save_metricas_multi_to_csv(random_search, X_test, y_test, M_TIPO, M_SELECT, M_CLASIF, total_time, SEMILLA, myfunc.MET_DIR, M_FICHERO, fichero_modelo)\n",
    "\n",
    "df1=myfunc.read_metricas_to_df(myfunc.MET_DIR,M_FICHERO)\n",
    "\n",
    "display(df1.sort_values(\"datetime\", ascending=False)[:3])\n"
   ]
  },
  {
   "cell_type": "markdown",
   "id": "87520570",
   "metadata": {
    "papermill": {
     "duration": 0.003998,
     "end_time": "2023-10-30T05:48:20.272302",
     "exception": false,
     "start_time": "2023-10-30T05:48:20.268304",
     "status": "completed"
    },
    "tags": []
   },
   "source": [
    "#### Guardar resultados"
   ]
  },
  {
   "cell_type": "code",
   "execution_count": 13,
   "id": "4ddc0514",
   "metadata": {
    "execution": {
     "iopub.execute_input": "2023-10-30T05:48:20.280877Z",
     "iopub.status.busy": "2023-10-30T05:48:20.280670Z",
     "iopub.status.idle": "2023-10-30T05:48:20.289094Z",
     "shell.execute_reply": "2023-10-30T05:48:20.288660Z"
    },
    "papermill": {
     "duration": 0.014031,
     "end_time": "2023-10-30T05:48:20.290161",
     "exception": false,
     "start_time": "2023-10-30T05:48:20.276130",
     "status": "completed"
    },
    "tags": []
   },
   "outputs": [
    {
     "name": "stdout",
     "output_type": "stream",
     "text": [
      "20231030T064820 : amilcar22 : INFO : Inicio guardar resultados\n",
      "20231030T064820 : amilcar22 : INFO : Inicio guardar fichero ../tfm_git/ejecuciones/metricas/resultados_6191_bin_s-MI-LR_L1.csv\n",
      "20231030T064820 : amilcar22 : INFO : Fin guardar fichero ../tfm_git/ejecuciones/metricas/resultados_6191_bin_s-MI-LR_L1.csv\n",
      "20231030T064820 : amilcar22 : INFO : Fin guardar resultados\n"
     ]
    }
   ],
   "source": [
    "fichero_resultados=R_FICHERO+\"_\"+M_TIPO+\"-\"+M_SELECT+\"-\"+M_CLASIF+\".csv\"\n",
    "myfunc.save_resultados_to_csv(M_TIPO, M_SELECT, M_CLASIF,  random_search, myfunc.MET_DIR, fichero_resultados)\n"
   ]
  }
 ],
 "metadata": {
  "kernelspec": {
   "display_name": "Python 3 (ipykernel)",
   "language": "python",
   "name": "python3"
  },
  "language_info": {
   "codemirror_mode": {
    "name": "ipython",
    "version": 3
   },
   "file_extension": ".py",
   "mimetype": "text/x-python",
   "name": "python",
   "nbconvert_exporter": "python",
   "pygments_lexer": "ipython3",
   "version": "3.10.12"
  },
  "papermill": {
   "default_parameters": {},
   "duration": 498.143137,
   "end_time": "2023-10-30T05:48:22.911675",
   "environment_variables": {},
   "exception": null,
   "input_path": "03_entrenamiento.ipynb",
   "output_path": "ejecuciones/training/03_entrenamiento.20231030T064004.param_0000_6191_bin_s_MI_LR_L1.output.ipynb",
   "parameters": {
    "MAX_ITERS": 500,
    "M_CLASIF": "LR_L1",
    "M_FICHERO": "metricas_6191",
    "M_SELECT": "MI",
    "M_TIPO": "bin_s",
    "PRE_DATA_FILE": "rows_transpose_norm_by_gene_id_with_target_num_",
    "P_FICHERO": "param_0000_6191_bin_s_MI_LR_L1.yaml",
    "R_FICHERO": "resultados_6191",
    "SCORING": "roc_auc_ovr",
    "SEMILLA": 6191,
    "eval_clasifier": "LogisticRegressionCV(random_state=SEMILLA)",
    "eval_selector": "SelectKBest(score_func=mutual_info_classif_state)",
    "param_distributions": {
     "clasifier__max_iter": [
      10000
     ],
     "clasifier__penalty": [
      "l1"
     ],
     "clasifier__solver": [
      "saga"
     ],
     "selector__k": [
      1000
     ]
    }
   },
   "start_time": "2023-10-30T05:40:04.768538",
   "version": "2.4.0"
  }
 },
 "nbformat": 4,
 "nbformat_minor": 5
}