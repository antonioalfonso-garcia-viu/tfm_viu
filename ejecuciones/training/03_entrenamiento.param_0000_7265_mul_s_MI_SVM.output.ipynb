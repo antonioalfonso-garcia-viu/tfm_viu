{
 "cells": [
  {
   "cell_type": "markdown",
   "id": "1c57034d",
   "metadata": {
    "papermill": {
     "duration": 0.005606,
     "end_time": "2023-10-30T16:35:37.270255",
     "exception": false,
     "start_time": "2023-10-30T16:35:37.264649",
     "status": "completed"
    },
    "tags": []
   },
   "source": [
    "##### Inicio"
   ]
  },
  {
   "cell_type": "markdown",
   "id": "46abdd7c",
   "metadata": {
    "papermill": {
     "duration": 0.003451,
     "end_time": "2023-10-30T16:35:37.277482",
     "exception": false,
     "start_time": "2023-10-30T16:35:37.274031",
     "status": "completed"
    },
    "tags": []
   },
   "source": [
    "#### Carga de datos"
   ]
  },
  {
   "cell_type": "code",
   "execution_count": 1,
   "id": "caca5fac",
   "metadata": {
    "execution": {
     "iopub.execute_input": "2023-10-30T16:35:37.285653Z",
     "iopub.status.busy": "2023-10-30T16:35:37.285334Z",
     "iopub.status.idle": "2023-10-30T16:35:38.409574Z",
     "shell.execute_reply": "2023-10-30T16:35:38.408963Z"
    },
    "papermill": {
     "duration": 1.130168,
     "end_time": "2023-10-30T16:35:38.411043",
     "exception": false,
     "start_time": "2023-10-30T16:35:37.280875",
     "status": "completed"
    },
    "tags": []
   },
   "outputs": [
    {
     "name": "stdout",
     "output_type": "stream",
     "text": [
      "CPU_COUNT: 16; NODE: enderlab; sys.version: 3.10.11 (main, May 16 2023, 00:28:57) [GCC 11.2.0]\n",
      "LOKY_MAX_CPU_COUNT is not set.\n",
      "OMP_NUM_THREADS is not set.\n"
     ]
    }
   ],
   "source": [
    "import os\n",
    "import numpy as np\n",
    "import pandas as pd\n",
    "import datetime\n",
    "import sklearn\n",
    "import logging\n",
    "import warnings\n",
    "\n",
    "from sklearn.pipeline import Pipeline\n",
    "from sklearn.model_selection import RandomizedSearchCV, KFold, cross_val_score, train_test_split\n",
    "from sklearn.metrics import accuracy_score, confusion_matrix, classification_report, roc_auc_score\n",
    "\n",
    "#  cargar algoritmos para aprendizaje supervisado\n",
    "from sklearn.feature_selection import SelectKBest, f_classif, SelectFromModel, mutual_info_classif\n",
    "from sklearn.svm import SVC\n",
    "from sklearn.ensemble import RandomForestClassifier\n",
    "from sklearn.linear_model import LogisticRegression,LogisticRegressionCV\n",
    "\n",
    "# importar fichero con utilidades propias\n",
    "from commons import myfunctions as myfunc\n"
   ]
  },
  {
   "cell_type": "markdown",
   "id": "09cc1cc5",
   "metadata": {
    "papermill": {
     "duration": 0.003786,
     "end_time": "2023-10-30T16:35:38.419078",
     "exception": false,
     "start_time": "2023-10-30T16:35:38.415292",
     "status": "completed"
    },
    "tags": []
   },
   "source": [
    "#### Parámetros a utilizar en el entrenamiento.\n",
    "\n",
    "Se indican los 3 algoritmos de *selección de características* (eval_selector_xxx) y los 3 algoritmos para la _clasificación_ (eval_clasifier_xxx)\n",
    "\n",
    "En *param_distributions* se indicar los parámetros que utilizan los algoritmos en la función RandomSearchCV.\n",
    "\n",
    "Esta celda tiene la etiqueta **parameters** que servirá para poder lanzar los entrenamientos con la utilidad **papermill** pasándole un fichero con los parámetros. Los nuevos parámetros se situarán tras esta celda para tener prevalencia."
   ]
  },
  {
   "cell_type": "code",
   "execution_count": 2,
   "id": "692f5260",
   "metadata": {
    "execution": {
     "iopub.execute_input": "2023-10-30T16:35:38.427708Z",
     "iopub.status.busy": "2023-10-30T16:35:38.427361Z",
     "iopub.status.idle": "2023-10-30T16:35:38.435779Z",
     "shell.execute_reply": "2023-10-30T16:35:38.435247Z"
    },
    "papermill": {
     "duration": 0.014306,
     "end_time": "2023-10-30T16:35:38.437034",
     "exception": false,
     "start_time": "2023-10-30T16:35:38.422728",
     "status": "completed"
    },
    "tags": [
     "parameters"
    ]
   },
   "outputs": [
    {
     "name": "stdout",
     "output_type": "stream",
     "text": [
      "20231030T173538 : enderlab : INFO : Utilizando parámetros de mul_m\n"
     ]
    }
   ],
   "source": [
    "#  Parametros para el entrenamiento\n",
    "\n",
    "SEMILLA=        42\n",
    "M_TIPO=         \"mul_m\"\n",
    "M_SELECT=       \"MI\"\n",
    "M_CLASIF=       \"SVM\"\n",
    "R_FICHERO=      \"resultados\"\n",
    "M_FICHERO=      \"metricas\"\n",
    "PRE_DATA_FILE=  \"rows_transpose_norm_by_gene_id_with_target_num_\"\n",
    "SCORING=        \"roc_auc_ovr\" \n",
    "MAX_ITERS=      100\n",
    "\n",
    "def mutual_info_classif_state(X, y):\n",
    "    return mutual_info_classif(X, y, random_state=SEMILLA)\n",
    "\n",
    "eval_selector_mi = \"SelectKBest(score_func=mutual_info_classif_state)\"\n",
    "eval_selector_rf=  \"SelectFromModel(estimator=RandomForestClassifier(random_state=SEMILLA), threshold=-np.inf)\"\n",
    "eval_selector_anova=  \"SelectKBest(score_func=f_classif)\"\n",
    "\n",
    "eval_clasifier_svm= \"SVC(probability=True, random_state=SEMILLA)\"\n",
    "eval_clasifier_rf= \"RandomForestClassifier(random_state=SEMILLA)\"\n",
    "eval_clasifier_lr= \"LogisticRegressionCV(random_state=SEMILLA)\"\n",
    "\n",
    "if M_TIPO.startswith(\"bin_m\"):\n",
    "    myfunc.verbose(f\"Utilizando parámetros de {M_TIPO}\")\n",
    "    eval_selector = eval_selector_mi\n",
    "    eval_clasifier = eval_clasifier_svm\n",
    "\n",
    "    SEMILLA = 6578\n",
    "    M_SELECT = \"MI\"\n",
    "    M_CLASIF = \"SVM\"\n",
    "    param_distributions = {'selector__k': [1000], \n",
    "         'clasifier__kernel': ['rbf'], 'clasifier__gamma': [0.01], 'clasifier__C': [100]}\n",
    "elif M_TIPO.startswith(\"bin_s\"):\n",
    "    myfunc.verbose(f\"Utilizando parámetros de {M_TIPO}\")\n",
    "    eval_selector = eval_selector_rf\n",
    "    eval_clasifier = eval_clasifier_lr\n",
    "\n",
    "    SEMILLA = 6191\n",
    "    M_SELECT = \"RF\"\n",
    "    M_CLASIF = \"LR_L2\"\n",
    "    param_distributions = {'selector__max_features': [1000], 'selector__estimator__n_estimators': [200], \n",
    "        'clasifier__solver': ['lbfgs'], 'clasifier__penalty': ['l2'], 'clasifier__max_iter': [10000]}\n",
    "\n",
    "elif M_TIPO.startswith(\"mul_m\"):\n",
    "    myfunc.verbose(f\"Utilizando parámetros de {M_TIPO}\")\n",
    " \n",
    "    eval_selector = eval_selector_rf\n",
    "    eval_clasifier = eval_clasifier_lr\n",
    "\n",
    "    SEMILLA = 6191\n",
    "    M_SELECT = \"RF\"\n",
    "    M_CLASIF = \"LR_L2\"\n",
    "    param_distributions = {'selector__max_features': [1000], 'selector__estimator__n_estimators': [400], \n",
    "        'clasifier__solver': ['lbfgs'], 'clasifier__penalty': ['l2'], 'clasifier__max_iter': [10000]}\n",
    "\n",
    "else:\n",
    "    # M_TIPO.startswith(\"mul_s\"):\n",
    "    myfunc.verbose(f\"Utilizando parámetros de {M_TIPO}\")\n",
    "    eval_selector = eval_selector_anova\n",
    "    eval_clasifier = eval_clasifier_lr\n",
    "\n",
    "    SEMILLA = 1860\n",
    "    M_SELECT = \"ANOVA\"\n",
    "    M_CLASIF = \"LR_L2\"\n",
    "    param_distributions = {'selector__k': [1000], \n",
    "        'clasifier__solver': ['saga'], 'clasifier__penalty': ['l2'], 'clasifier__max_iter': [10000]}\n",
    "\n"
   ]
  },
  {
   "cell_type": "code",
   "execution_count": 3,
   "id": "5802c9e7",
   "metadata": {
    "execution": {
     "iopub.execute_input": "2023-10-30T16:35:38.455618Z",
     "iopub.status.busy": "2023-10-30T16:35:38.455089Z",
     "iopub.status.idle": "2023-10-30T16:35:38.459023Z",
     "shell.execute_reply": "2023-10-30T16:35:38.458500Z"
    },
    "papermill": {
     "duration": 0.01946,
     "end_time": "2023-10-30T16:35:38.460236",
     "exception": false,
     "start_time": "2023-10-30T16:35:38.440776",
     "status": "completed"
    },
    "tags": [
     "injected-parameters"
    ]
   },
   "outputs": [],
   "source": [
    "# Parameters\n",
    "M_TIPO = \"mul_s\"\n",
    "M_SELECT = \"MI\"\n",
    "M_CLASIF = \"SVM\"\n",
    "P_FICHERO = \"param_0000_7265_mul_s_MI_SVM.yaml\"\n",
    "R_FICHERO = \"resultados_7265\"\n",
    "M_FICHERO = \"metricas_7265\"\n",
    "PRE_DATA_FILE = \"rows_transpose_norm_by_gene_id_with_target_num_\"\n",
    "SCORING = \"roc_auc_ovr\"\n",
    "SEMILLA = 7265\n",
    "MAX_ITERS = 500\n",
    "eval_selector = \"SelectKBest(score_func=mutual_info_classif_state)\"\n",
    "eval_clasifier = \"SVC(probability=True, random_state=SEMILLA)\"\n",
    "param_distributions = {\n",
    "    \"selector__k\": [1000],\n",
    "    \"clasifier__kernel\": [\"rbf\"],\n",
    "    \"clasifier__gamma\": [0.001],\n",
    "    \"clasifier__C\": [100],\n",
    "}\n"
   ]
  },
  {
   "cell_type": "code",
   "execution_count": 4,
   "id": "78a3e292",
   "metadata": {
    "execution": {
     "iopub.execute_input": "2023-10-30T16:35:38.468874Z",
     "iopub.status.busy": "2023-10-30T16:35:38.468386Z",
     "iopub.status.idle": "2023-10-30T16:35:38.471623Z",
     "shell.execute_reply": "2023-10-30T16:35:38.471112Z"
    },
    "papermill": {
     "duration": 0.008874,
     "end_time": "2023-10-30T16:35:38.472839",
     "exception": false,
     "start_time": "2023-10-30T16:35:38.463965",
     "status": "completed"
    },
    "tags": []
   },
   "outputs": [],
   "source": [
    "DATA_FILE = PRE_DATA_FILE + M_TIPO\n",
    "\n",
    "# si viene \"None\" en el parámetro max_depth, se le quitan las comillas para que no sea entendido por el algoritmo como un texto\n",
    "if \"clasifier__max_depth\" in param_distributions:\n",
    "    param_distributions['clasifier__max_depth'] = [None if x == 'None' else x for x in param_distributions['clasifier__max_depth']]"
   ]
  },
  {
   "cell_type": "markdown",
   "id": "75baaebe",
   "metadata": {
    "papermill": {
     "duration": 0.003857,
     "end_time": "2023-10-30T16:35:38.480369",
     "exception": false,
     "start_time": "2023-10-30T16:35:38.476512",
     "status": "completed"
    },
    "tags": []
   },
   "source": [
    "Asignar los algoritmos que se utilizarán en la función RandomSearchCV"
   ]
  },
  {
   "cell_type": "code",
   "execution_count": 5,
   "id": "737ed8f8",
   "metadata": {
    "execution": {
     "iopub.execute_input": "2023-10-30T16:35:38.489486Z",
     "iopub.status.busy": "2023-10-30T16:35:38.488904Z",
     "iopub.status.idle": "2023-10-30T16:35:38.491830Z",
     "shell.execute_reply": "2023-10-30T16:35:38.491323Z"
    },
    "papermill": {
     "duration": 0.0089,
     "end_time": "2023-10-30T16:35:38.492962",
     "exception": false,
     "start_time": "2023-10-30T16:35:38.484062",
     "status": "completed"
    },
    "tags": []
   },
   "outputs": [],
   "source": [
    "algor_selector=eval(eval_selector)\n",
    "algor_clasifier=eval(eval_clasifier)"
   ]
  },
  {
   "cell_type": "markdown",
   "id": "b12b6723",
   "metadata": {
    "papermill": {
     "duration": 0.003769,
     "end_time": "2023-10-30T16:35:38.500365",
     "exception": false,
     "start_time": "2023-10-30T16:35:38.496596",
     "status": "completed"
    },
    "tags": []
   },
   "source": [
    "#### Comprobar el entorno y leer fichero de muestras"
   ]
  },
  {
   "cell_type": "code",
   "execution_count": 6,
   "id": "c1a4b510",
   "metadata": {
    "execution": {
     "iopub.execute_input": "2023-10-30T16:35:38.512626Z",
     "iopub.status.busy": "2023-10-30T16:35:38.512148Z",
     "iopub.status.idle": "2023-10-30T16:35:38.692439Z",
     "shell.execute_reply": "2023-10-30T16:35:38.691819Z"
    },
    "papermill": {
     "duration": 0.189859,
     "end_time": "2023-10-30T16:35:38.693799",
     "exception": false,
     "start_time": "2023-10-30T16:35:38.503940",
     "status": "completed"
    },
    "tags": []
   },
   "outputs": [
    {
     "name": "stdout",
     "output_type": "stream",
     "text": [
      "20231030T173538 : enderlab : INFO : Encontrada carpeta DATA_DIR=../tfm_git/datos\n",
      "20231030T173538 : enderlab : INFO : Encontrada carpeta CFDNA_DIR=../tfm_git/datos/cfDNA_5hmC\n",
      "20231030T173538 : enderlab : INFO : Encontrada carpeta GENCODE_DIR=../tfm_git/datos/gencode\n",
      "20231030T173538 : enderlab : INFO : Encontrada carpeta H5_DIR=../tfm_git/datos/h5\n",
      "20231030T173538 : enderlab : INFO : Encontrada carpeta LOG_DIR=../tfm_git/datos/logs\n",
      "20231030T173538 : enderlab : INFO : Encontrada carpeta CSV_DIR=../tfm_git/datos/csv\n",
      "20231030T173538 : enderlab : INFO : Encontrada carpeta MODEL_DIR=../tfm_git/ejecuciones/modelos\n",
      "20231030T173538 : enderlab : INFO : Encontrada carpeta EXEC_DIR=../tfm_git/ejecuciones\n",
      "20231030T173538 : enderlab : INFO : Encontrada carpeta MET_DIR=../tfm_git/ejecuciones/metricas\n",
      "20231030T173538 : enderlab : INFO : Inicio leer fichero h5 ../tfm_git/datos/h5/rows_transpose_norm_by_gene_id_with_target_num_mul_s.h5\n",
      "20231030T173538 : enderlab : INFO : Leyendo clave /df\n"
     ]
    },
    {
     "name": "stdout",
     "output_type": "stream",
     "text": [
      "20231030T173538 : enderlab : INFO : Tamaño (259, 18876)\n",
      "20231030T173538 : enderlab : INFO : Fin leer fichero h5 ../tfm_git/datos/h5/rows_transpose_norm_by_gene_id_with_target_num_mul_s.h5\n"
     ]
    },
    {
     "data": {
      "text/plain": [
       "target\n",
       "0    37\n",
       "1    37\n",
       "2    37\n",
       "3    37\n",
       "4    37\n",
       "5    37\n",
       "6    37\n",
       "dtype: int64"
      ]
     },
     "metadata": {},
     "output_type": "display_data"
    },
    {
     "name": "stdout",
     "output_type": "stream",
     "text": [
      "Shape df: (259, 18876)\n",
      "Shape X_train: (207, 18875)\n",
      "Shape X_test: (52, 18875)\n"
     ]
    }
   ],
   "source": [
    "start_time = datetime.datetime.now()\n",
    "\n",
    "myfunc.reset_vars()\n",
    "\n",
    "myfunc.NOTEBK_FILENAME = myfunc.get_nb_name()\n",
    "\n",
    "myfunc.check_enviroment(myfunc.DATA_DIR, myfunc.CFDNA_DIR, myfunc.GENCODE_DIR, myfunc.H5_DIR, myfunc.LOG_DIR, myfunc.CSV_DIR, myfunc.MODEL_DIR, myfunc.EXEC_DIR, myfunc.MET_DIR)\n",
    "\n",
    "# Leer fichero con las muestras\n",
    "df_t = myfunc.read_h5_to_df(DATA_FILE, myfunc.H5_DIR)\n",
    "display(df_t.groupby(\"target\").size())\n",
    "print(\"Shape df:\",df_t.shape)\n",
    "\n",
    "# Separar caracteristicas/genes de las etiquetas/tipos de cáncer\n",
    "X = df_t.iloc[:, :-1]  # Todas las columnas excepto la última\n",
    "y = df_t.iloc[:, -1]  # La última columna contiene los identificadores de los tipos de cáncer\n",
    "\n",
    "#  Crear el conjunto de datos de entrenamiento y de pruebas, y se fija la semilla para siempre coger el mismo juego de muestras\n",
    "X_train, X_test, y_train, y_test = train_test_split(X, y, test_size=0.2, shuffle=True, random_state=42)\n",
    "print(\"Shape X_train:\",X_train.shape)\n",
    "print(\"Shape X_test:\",X_test.shape)\n"
   ]
  },
  {
   "cell_type": "markdown",
   "id": "07568dcb",
   "metadata": {
    "papermill": {
     "duration": 0.009132,
     "end_time": "2023-10-30T16:35:38.707498",
     "exception": false,
     "start_time": "2023-10-30T16:35:38.698366",
     "status": "completed"
    },
    "tags": []
   },
   "source": [
    "#### Selección de características y clasificación."
   ]
  },
  {
   "cell_type": "code",
   "execution_count": 7,
   "id": "a56cadd2",
   "metadata": {
    "execution": {
     "iopub.execute_input": "2023-10-30T16:35:38.717911Z",
     "iopub.status.busy": "2023-10-30T16:35:38.717269Z",
     "iopub.status.idle": "2023-10-30T16:39:04.323881Z",
     "shell.execute_reply": "2023-10-30T16:39:04.323117Z"
    },
    "papermill": {
     "duration": 205.61659,
     "end_time": "2023-10-30T16:39:04.328909",
     "exception": false,
     "start_time": "2023-10-30T16:35:38.712319",
     "status": "completed"
    },
    "tags": []
   },
   "outputs": [
    {
     "name": "stdout",
     "output_type": "stream",
     "text": [
      "20231030T173538 : enderlab : INFO : Iniciando entrenamiento\n",
      "num_iter: 1 , max_iter: 1\n"
     ]
    },
    {
     "name": "stdout",
     "output_type": "stream",
     "text": [
      "Fitting 5 folds for each of 1 candidates, totalling 5 fits\n"
     ]
    },
    {
     "name": "stdout",
     "output_type": "stream",
     "text": [
      "Mejores Hiperparámetros: {'selector__k': 1000, 'clasifier__kernel': 'rbf', 'clasifier__gamma': 0.001, 'clasifier__C': 100}\n",
      "Mejor Puntuación: 0.7527\n",
      "20231030T173904 : enderlab : INFO : Fin entrenamiento\n"
     ]
    }
   ],
   "source": [
    "myfunc.verbose(\"Iniciando entrenamiento\")\n",
    "\n",
    "kf = KFold(n_splits=5, shuffle=True, random_state=SEMILLA)\n",
    "\n",
    "# Crear el pipeline para el flujo de tareas\n",
    "tasks_pipeline = Pipeline([\n",
    "    ('selector', algor_selector),\n",
    "    ('clasifier', algor_clasifier)\n",
    "])\n",
    "\n",
    "# MAX_ITERS puede limitar el número de iteraciones si son excesivas para las combinaciones de parámetros buscando un óptimo local, \n",
    "# sino funcionaría como GridSearchCV al revisar todas las cominaciones de los parámetros\n",
    "num_iteraciones = 1\n",
    "num_iteraciones = num_iteraciones * np.prod([len(elemento1) for _, elemento1 in param_distributions.items()])\n",
    "max_iteraciones = num_iteraciones if num_iteraciones <= MAX_ITERS else MAX_ITERS\n",
    "print(\"num_iter:\",num_iteraciones,\", max_iter:\",max_iteraciones)\n",
    "\n",
    "random_search = RandomizedSearchCV(\n",
    "    tasks_pipeline, \n",
    "    param_distributions, \n",
    "    n_iter=max_iteraciones,\n",
    "    scoring=SCORING,\n",
    "    cv=kf,\n",
    "    verbose=3, \n",
    "    random_state=SEMILLA, \n",
    "    n_jobs=-1\n",
    "    )\n",
    "\n",
    "# Entrenar el modelo\n",
    "random_search.fit(X_train, y_train)\n",
    "\n",
    "# Ver los mejores hiperparámetros encontrados\n",
    "print(f'Mejores Hiperparámetros: {random_search.best_params_}')\n",
    "print(f'Mejor Puntuación: {random_search.best_score_:.4f}')\n",
    "\n",
    "# Nos quedamos con el mejor modelo para ver las métricas\n",
    "mejor_modelo = random_search.best_estimator_\n",
    "\n",
    "myfunc.verbose(\"Fin entrenamiento\")"
   ]
  },
  {
   "cell_type": "markdown",
   "id": "71934cf7",
   "metadata": {
    "papermill": {
     "duration": 0.004074,
     "end_time": "2023-10-30T16:39:04.337355",
     "exception": false,
     "start_time": "2023-10-30T16:39:04.333281",
     "status": "completed"
    },
    "tags": []
   },
   "source": [
    "#### Guardar modelo"
   ]
  },
  {
   "cell_type": "code",
   "execution_count": 8,
   "id": "c15f081d",
   "metadata": {
    "execution": {
     "iopub.execute_input": "2023-10-30T16:39:04.347154Z",
     "iopub.status.busy": "2023-10-30T16:39:04.346605Z",
     "iopub.status.idle": "2023-10-30T16:39:04.356409Z",
     "shell.execute_reply": "2023-10-30T16:39:04.355873Z"
    },
    "papermill": {
     "duration": 0.016376,
     "end_time": "2023-10-30T16:39:04.357954",
     "exception": false,
     "start_time": "2023-10-30T16:39:04.341578",
     "status": "completed"
    },
    "tags": []
   },
   "outputs": [
    {
     "name": "stdout",
     "output_type": "stream",
     "text": [
      "20231030T173904 : enderlab : INFO : Inicio guardar fichero ../tfm_git/ejecuciones/modelos/modelo_7265_mul_s_MI_SVM.pkl\n",
      "20231030T173904 : enderlab : INFO : Fin guardar fichero ../tfm_git/ejecuciones/modelos/modelo_7265_mul_s_MI_SVM.pkl\n"
     ]
    }
   ],
   "source": [
    "fichero_modelo = str.replace(\"modelo_\"+str(SEMILLA).zfill(4)+\"_\"+M_TIPO+\"_\"+M_SELECT+\"_\"+M_CLASIF+\".pkl\", \" \", \"_\")\n",
    "\n",
    "myfunc.save_modelo(mejor_modelo, myfunc.MODEL_DIR, fichero_modelo)"
   ]
  },
  {
   "cell_type": "markdown",
   "id": "a2699f45",
   "metadata": {
    "papermill": {
     "duration": 0.004103,
     "end_time": "2023-10-30T16:39:04.366090",
     "exception": false,
     "start_time": "2023-10-30T16:39:04.361987",
     "status": "completed"
    },
    "tags": []
   },
   "source": [
    "#### Ver resultados del las iteraciones hechas por RandomSearchCV"
   ]
  },
  {
   "cell_type": "code",
   "execution_count": 9,
   "id": "6308a7dd",
   "metadata": {
    "execution": {
     "iopub.execute_input": "2023-10-30T16:39:04.392542Z",
     "iopub.status.busy": "2023-10-30T16:39:04.391944Z",
     "iopub.status.idle": "2023-10-30T16:39:04.398280Z",
     "shell.execute_reply": "2023-10-30T16:39:04.397734Z"
    },
    "papermill": {
     "duration": 0.031001,
     "end_time": "2023-10-30T16:39:04.401087",
     "exception": false,
     "start_time": "2023-10-30T16:39:04.370086",
     "status": "completed"
    },
    "tags": []
   },
   "outputs": [
    {
     "name": "stdout",
     "output_type": "stream",
     "text": [
      "20231030T173904 : enderlab : INFO : Inicio ver resultados\n",
      "Mejores Hiperparámetros: {'selector__k': 1000, 'clasifier__kernel': 'rbf', 'clasifier__gamma': 0.001, 'clasifier__C': 100}\n",
      "Mejores puntuaciones: 0.7527 | Params: {'selector__k': 1000, 'clasifier__kernel': 'rbf', 'clasifier__gamma': 0.001, 'clasifier__C': 100}\n",
      "Media de las puntuaciones: 0.7527 | Params: {'selector__k': 1000, 'clasifier__kernel': 'rbf', 'clasifier__gamma': 0.001, 'clasifier__C': 100}\n",
      "20231030T173904 : enderlab : INFO : Fin resultados\n"
     ]
    }
   ],
   "source": [
    "myfunc.ver_resultados_search(random_search)"
   ]
  },
  {
   "cell_type": "markdown",
   "id": "6f295b49",
   "metadata": {
    "papermill": {
     "duration": 0.004355,
     "end_time": "2023-10-30T16:39:04.409986",
     "exception": false,
     "start_time": "2023-10-30T16:39:04.405631",
     "status": "completed"
    },
    "tags": []
   },
   "source": [
    "#### Ver métricas del mejor modelo"
   ]
  },
  {
   "cell_type": "code",
   "execution_count": 10,
   "id": "fd4a4374",
   "metadata": {
    "execution": {
     "iopub.execute_input": "2023-10-30T16:39:04.420432Z",
     "iopub.status.busy": "2023-10-30T16:39:04.420074Z",
     "iopub.status.idle": "2023-10-30T16:39:05.119681Z",
     "shell.execute_reply": "2023-10-30T16:39:05.119086Z"
    },
    "papermill": {
     "duration": 0.705769,
     "end_time": "2023-10-30T16:39:05.121036",
     "exception": false,
     "start_time": "2023-10-30T16:39:04.415267",
     "status": "completed"
    },
    "tags": []
   },
   "outputs": [
    {
     "name": "stdout",
     "output_type": "stream",
     "text": [
      "20231030T173904 : enderlab : INFO : Inicio ver métricas multiclase\n"
     ]
    },
    {
     "name": "stdout",
     "output_type": "stream",
     "text": [
      "              precision    recall  f1-score   support\n",
      "\n",
      "           0       0.40      0.18      0.25        11\n",
      "           1       0.67      0.50      0.57         8\n",
      "           2       0.11      0.12      0.12         8\n",
      "           3       0.22      0.40      0.29         5\n",
      "           4       0.70      0.88      0.78         8\n",
      "           5       0.75      0.50      0.60         6\n",
      "           6       0.22      0.33      0.27         6\n",
      "\n",
      "    accuracy                           0.40        52\n",
      "   macro avg       0.44      0.42      0.41        52\n",
      "weighted avg       0.45      0.40      0.41        52\n",
      "\n"
     ]
    },
    {
     "name": "stdout",
     "output_type": "stream",
     "text": [
      "\n",
      "\n",
      "           Exactitud: 0.403846\n",
      "   Precisión (media): 0.438889\n",
      "      Recall (media): 0.416450\n",
      "    F1-score (media): 0.409891\n",
      "\n",
      "\n",
      "AUC para el tipo de cáncer 0-Control.... 0.5787\n",
      "AUC para el tipo de cáncer 1-Bladder.... 0.8466\n",
      "AUC para el tipo de cáncer 2-Breast..... 0.6705\n",
      "AUC para el tipo de cáncer 3-Colorectal. 0.7234\n",
      "AUC para el tipo de cáncer 4-Kidney..... 0.9773\n",
      "AUC para el tipo de cáncer 5-Lung....... 0.8116\n",
      "AUC para el tipo de cáncer 6-Prostate... 0.7826\n",
      "\n",
      "Media de AUC: 0.7701\n"
     ]
    },
    {
     "data": {
      "image/png": "[encoded data removed]",
      "text/plain": [
       "<Figure size 1000x600 with 1 Axes>"
      ]
     },
     "metadata": {},
     "output_type": "display_data"
    },
    {
     "name": "stdout",
     "output_type": "stream",
     "text": [
      "\n",
      "\n"
     ]
    },
    {
     "data": {
      "image/png": "[encoded data removed]",
      "text/plain": [
       "<Figure size 800x400 with 2 Axes>"
      ]
     },
     "metadata": {},
     "output_type": "display_data"
    },
    {
     "name": "stdout",
     "output_type": "stream",
     "text": [
      "\n",
      "\n",
      "Puntuación Jaccard para el cáncer tipo 0-Control.... 0.1429\n",
      "Puntuación Jaccard para el cáncer tipo 1-Bladder.... 0.4000\n",
      "Puntuación Jaccard para el cáncer tipo 2-Breast..... 0.0625\n",
      "Puntuación Jaccard para el cáncer tipo 3-Colorectal. 0.1667\n",
      "Puntuación Jaccard para el cáncer tipo 4-Kidney..... 0.6364\n",
      "Puntuación Jaccard para el cáncer tipo 5-Lung....... 0.4286\n",
      "Puntuación Jaccard para el cáncer tipo 6-Prostate... 0.1538\n",
      "\n",
      "Media de la puntuación de Jaccard: 0.2844\n"
     ]
    }
   ],
   "source": [
    "if M_TIPO.startswith(\"bin\"):\n",
    "    myfunc.ver_metricas(mejor_modelo, X_test, y_test)\n",
    "else:\n",
    "    myfunc.ver_metricas_multi(mejor_modelo, X_test, y_test)\n"
   ]
  },
  {
   "cell_type": "markdown",
   "id": "affd9c08",
   "metadata": {
    "papermill": {
     "duration": 0.005841,
     "end_time": "2023-10-30T16:39:05.133339",
     "exception": false,
     "start_time": "2023-10-30T16:39:05.127498",
     "status": "completed"
    },
    "tags": []
   },
   "source": [
    "#### Finalización del notebook"
   ]
  },
  {
   "cell_type": "code",
   "execution_count": 11,
   "id": "16064e7e",
   "metadata": {
    "execution": {
     "iopub.execute_input": "2023-10-30T16:39:05.145788Z",
     "iopub.status.busy": "2023-10-30T16:39:05.145359Z",
     "iopub.status.idle": "2023-10-30T16:39:05.149063Z",
     "shell.execute_reply": "2023-10-30T16:39:05.148536Z"
    },
    "papermill": {
     "duration": 0.011237,
     "end_time": "2023-10-30T16:39:05.150264",
     "exception": false,
     "start_time": "2023-10-30T16:39:05.139027",
     "status": "completed"
    },
    "tags": []
   },
   "outputs": [
    {
     "name": "stdout",
     "output_type": "stream",
     "text": [
      "20231030T173905 : enderlab : INFO : Notebook ha tardado 206 seconds\n"
     ]
    }
   ],
   "source": [
    "end_time = datetime.datetime.now()\n",
    "total_time = end_time - start_time\n",
    "myfunc.verbose(f\"Notebook ha tardado {total_time.seconds} seconds\")"
   ]
  },
  {
   "cell_type": "markdown",
   "id": "37d4af9f",
   "metadata": {
    "papermill": {
     "duration": 0.005794,
     "end_time": "2023-10-30T16:39:05.161681",
     "exception": false,
     "start_time": "2023-10-30T16:39:05.155887",
     "status": "completed"
    },
    "tags": []
   },
   "source": [
    "#### Guardar métricas"
   ]
  },
  {
   "cell_type": "code",
   "execution_count": 12,
   "id": "6d8c27dc",
   "metadata": {
    "execution": {
     "iopub.execute_input": "2023-10-30T16:39:05.175341Z",
     "iopub.status.busy": "2023-10-30T16:39:05.174895Z",
     "iopub.status.idle": "2023-10-30T16:39:05.436495Z",
     "shell.execute_reply": "2023-10-30T16:39:05.435942Z"
    },
    "papermill": {
     "duration": 0.26951,
     "end_time": "2023-10-30T16:39:05.437738",
     "exception": false,
     "start_time": "2023-10-30T16:39:05.168228",
     "status": "completed"
    },
    "tags": []
   },
   "outputs": [
    {
     "name": "stdout",
     "output_type": "stream",
     "text": [
      "20231030T173905 : enderlab : INFO : Inicio guardar métricas multiclase\n",
      "20231030T173905 : enderlab : INFO : Inicio leer fichero ../tfm_git/ejecuciones/metricas/metricas_7265.csv\n",
      "20231030T173905 : enderlab : INFO : Fin leer fichero ../tfm_git/ejecuciones/metricas/metricas_7265.csv\n"
     ]
    },
    {
     "name": "stdout",
     "output_type": "stream",
     "text": [
      "20231030T173905 : enderlab : INFO : Inicio guardar fichero ../tfm_git/ejecuciones/metricas/metricas_7265.csv\n",
      "20231030T173905 : enderlab : INFO : Fichero borrado ../tfm_git/ejecuciones/metricas/metricas_7265.csv\n",
      "20231030T173905 : enderlab : INFO : Fin guardar fichero ../tfm_git/ejecuciones/metricas/metricas_7265.csv\n",
      "20231030T173905 : enderlab : INFO : Fin guardar métricas multiclase\n",
      "20231030T173905 : enderlab : INFO : Inicio leer fichero ../tfm_git/ejecuciones/metricas/metricas_7265.csv\n",
      "20231030T173905 : enderlab : INFO : Fin leer fichero ../tfm_git/ejecuciones/metricas/metricas_7265.csv\n"
     ]
    },
    {
     "data": {
      "text/html": [
       "<div>\n",
       "<style scoped>\n",
       "    .dataframe tbody tr th:only-of-type {\n",
       "        vertical-align: middle;\n",
       "    }\n",
       "\n",
       "    .dataframe tbody tr th {\n",
       "        vertical-align: top;\n",
       "    }\n",
       "\n",
       "    .dataframe thead th {\n",
       "        text-align: right;\n",
       "    }\n",
       "</style>\n",
       "<table border=\"1\" class=\"dataframe\">\n",
       "  <thead>\n",
       "    <tr style=\"text-align: right;\">\n",
       "      <th></th>\n",
       "      <th>tipo</th>\n",
       "      <th>select</th>\n",
       "      <th>clasific</th>\n",
       "      <th>semilla</th>\n",
       "      <th>accuracy</th>\n",
       "      <th>precision</th>\n",
       "      <th>recall</th>\n",
       "      <th>f1_score</th>\n",
       "      <th>roc_auc</th>\n",
       "      <th>hostname</th>\n",
       "      <th>total_time_sec</th>\n",
       "      <th>datetime</th>\n",
       "      <th>fichero_modelo</th>\n",
       "      <th>params</th>\n",
       "      <th>shape</th>\n",
       "      <th>features</th>\n",
       "      <th>roc_auc_ovr</th>\n",
       "      <th>indices_auc</th>\n",
       "      <th>indices_jaccard</th>\n",
       "    </tr>\n",
       "  </thead>\n",
       "  <tbody>\n",
       "    <tr>\n",
       "      <th>0</th>\n",
       "      <td>mul_s</td>\n",
       "      <td>MI</td>\n",
       "      <td>SVM</td>\n",
       "      <td>7265</td>\n",
       "      <td>0.403846</td>\n",
       "      <td>0.438889</td>\n",
       "      <td>0.416450</td>\n",
       "      <td>0.409891</td>\n",
       "      <td>NaN</td>\n",
       "      <td>enderlab</td>\n",
       "      <td>206</td>\n",
       "      <td>2023-10-30 17:39:05.382448</td>\n",
       "      <td>modelo_7265_mul_s_MI_SVM.pkl</td>\n",
       "      <td>{'selector__k': 1000, 'clasifier__kernel': 'rb...</td>\n",
       "      <td>X_test:(52, 18875)</td>\n",
       "      <td>['ENSG00000003137.9', 'ENSG00000005238.20', 'E...</td>\n",
       "      <td>0.770091</td>\n",
       "      <td>[0.5787139689578714, 0.846590909090909, 0.6704...</td>\n",
       "      <td>[0.14285714285714285, 0.4, 0.0625, 0.166666666...</td>\n",
       "    </tr>\n",
       "    <tr>\n",
       "      <th>0</th>\n",
       "      <td>mul_s</td>\n",
       "      <td>MI</td>\n",
       "      <td>RF</td>\n",
       "      <td>7265</td>\n",
       "      <td>0.384615</td>\n",
       "      <td>0.309266</td>\n",
       "      <td>0.385606</td>\n",
       "      <td>0.331389</td>\n",
       "      <td>NaN</td>\n",
       "      <td>enderlab</td>\n",
       "      <td>231</td>\n",
       "      <td>2023-10-30 17:35:31.720833</td>\n",
       "      <td>modelo_7265_mul_s_MI_RF.pkl</td>\n",
       "      <td>{'selector__k': 500, 'clasifier__n_estimators'...</td>\n",
       "      <td>X_test:(52, 18875)</td>\n",
       "      <td>['ENSG00000005513.10', 'ENSG00000006025.13', '...</td>\n",
       "      <td>0.710645</td>\n",
       "      <td>[0.5011086474501109, 0.7926136363636364, 0.647...</td>\n",
       "      <td>[0.07142857142857142, 0.35714285714285715, 0.1...</td>\n",
       "    </tr>\n",
       "    <tr>\n",
       "      <th>0</th>\n",
       "      <td>mul_s</td>\n",
       "      <td>MI</td>\n",
       "      <td>LR_L2</td>\n",
       "      <td>7265</td>\n",
       "      <td>0.480769</td>\n",
       "      <td>0.506279</td>\n",
       "      <td>0.505628</td>\n",
       "      <td>0.459934</td>\n",
       "      <td>NaN</td>\n",
       "      <td>enderlab</td>\n",
       "      <td>431</td>\n",
       "      <td>2023-10-30 17:31:33.071553</td>\n",
       "      <td>modelo_7265_mul_s_MI_LR_L2.pkl</td>\n",
       "      <td>{'selector__k': 500, 'clasifier__solver': 'sag...</td>\n",
       "      <td>X_test:(52, 18875)</td>\n",
       "      <td>['ENSG00000005513.10', 'ENSG00000006025.13', '...</td>\n",
       "      <td>0.799958</td>\n",
       "      <td>[0.5543237250554324, 0.8835227272727273, 0.681...</td>\n",
       "      <td>[0.2, 0.375, 0.08333333333333333, 0.25, 0.6153...</td>\n",
       "    </tr>\n",
       "  </tbody>\n",
       "</table>\n",
       "</div>"
      ],
      "text/plain": [
       "    tipo select clasific  semilla  accuracy  precision    recall  f1_score  \\\n",
       "0  mul_s     MI      SVM     7265  0.403846   0.438889  0.416450  0.409891   \n",
       "0  mul_s     MI       RF     7265  0.384615   0.309266  0.385606  0.331389   \n",
       "0  mul_s     MI    LR_L2     7265  0.480769   0.506279  0.505628  0.459934   \n",
       "\n",
       "   roc_auc  hostname  total_time_sec                    datetime  \\\n",
       "0      NaN  enderlab             206  2023-10-30 17:39:05.382448   \n",
       "0      NaN  enderlab             231  2023-10-30 17:35:31.720833   \n",
       "0      NaN  enderlab             431  2023-10-30 17:31:33.071553   \n",
       "\n",
       "                   fichero_modelo  \\\n",
       "0    modelo_7265_mul_s_MI_SVM.pkl   \n",
       "0     modelo_7265_mul_s_MI_RF.pkl   \n",
       "0  modelo_7265_mul_s_MI_LR_L2.pkl   \n",
       "\n",
       "                                              params               shape  \\\n",
       "0  {'selector__k': 1000, 'clasifier__kernel': 'rb...  X_test:(52, 18875)   \n",
       "0  {'selector__k': 500, 'clasifier__n_estimators'...  X_test:(52, 18875)   \n",
       "0  {'selector__k': 500, 'clasifier__solver': 'sag...  X_test:(52, 18875)   \n",
       "\n",
       "                                            features  roc_auc_ovr  \\\n",
       "0  ['ENSG00000003137.9', 'ENSG00000005238.20', 'E...     0.770091   \n",
       "0  ['ENSG00000005513.10', 'ENSG00000006025.13', '...     0.710645   \n",
       "0  ['ENSG00000005513.10', 'ENSG00000006025.13', '...     0.799958   \n",
       "\n",
       "                                         indices_auc  \\\n",
       "0  [0.5787139689578714, 0.846590909090909, 0.6704...   \n",
       "0  [0.5011086474501109, 0.7926136363636364, 0.647...   \n",
       "0  [0.5543237250554324, 0.8835227272727273, 0.681...   \n",
       "\n",
       "                                     indices_jaccard  \n",
       "0  [0.14285714285714285, 0.4, 0.0625, 0.166666666...  \n",
       "0  [0.07142857142857142, 0.35714285714285715, 0.1...  \n",
       "0  [0.2, 0.375, 0.08333333333333333, 0.25, 0.6153...  "
      ]
     },
     "metadata": {},
     "output_type": "display_data"
    }
   ],
   "source": [
    "if M_TIPO.startswith(\"bin\"):\n",
    "    myfunc.save_metricas_to_csv(random_search, X_test, y_test, M_TIPO, M_SELECT, M_CLASIF, total_time, SEMILLA, myfunc.MET_DIR, M_FICHERO, fichero_modelo)\n",
    "else:\n",
    "    myfunc.save_metricas_multi_to_csv(random_search, X_test, y_test, M_TIPO, M_SELECT, M_CLASIF, total_time, SEMILLA, myfunc.MET_DIR, M_FICHERO, fichero_modelo)\n",
    "\n",
    "df1=myfunc.read_metricas_to_df(myfunc.MET_DIR,M_FICHERO)\n",
    "\n",
    "display(df1.sort_values(\"datetime\", ascending=False)[:3])\n"
   ]
  },
  {
   "cell_type": "markdown",
   "id": "95e941cb",
   "metadata": {
    "papermill": {
     "duration": 0.006113,
     "end_time": "2023-10-30T16:39:05.450396",
     "exception": false,
     "start_time": "2023-10-30T16:39:05.444283",
     "status": "completed"
    },
    "tags": []
   },
   "source": [
    "#### Guardar resultados"
   ]
  },
  {
   "cell_type": "code",
   "execution_count": 13,
   "id": "6c9b04b7",
   "metadata": {
    "execution": {
     "iopub.execute_input": "2023-10-30T16:39:05.464576Z",
     "iopub.status.busy": "2023-10-30T16:39:05.463943Z",
     "iopub.status.idle": "2023-10-30T16:39:05.473495Z",
     "shell.execute_reply": "2023-10-30T16:39:05.472945Z"
    },
    "papermill": {
     "duration": 0.018107,
     "end_time": "2023-10-30T16:39:05.474631",
     "exception": false,
     "start_time": "2023-10-30T16:39:05.456524",
     "status": "completed"
    },
    "tags": []
   },
   "outputs": [
    {
     "name": "stdout",
     "output_type": "stream",
     "text": [
      "20231030T173905 : enderlab : INFO : Inicio guardar resultados\n",
      "20231030T173905 : enderlab : INFO : Inicio guardar fichero ../tfm_git/ejecuciones/metricas/resultados_7265_mul_s-MI-SVM.csv\n",
      "20231030T173905 : enderlab : INFO : Fin guardar fichero ../tfm_git/ejecuciones/metricas/resultados_7265_mul_s-MI-SVM.csv\n",
      "20231030T173905 : enderlab : INFO : Fin guardar resultados\n"
     ]
    }
   ],
   "source": [
    "fichero_resultados=R_FICHERO+\"_\"+M_TIPO+\"-\"+M_SELECT+\"-\"+M_CLASIF+\".csv\"\n",
    "myfunc.save_resultados_to_csv(M_TIPO, M_SELECT, M_CLASIF,  random_search, myfunc.MET_DIR, fichero_resultados)\n"
   ]
  }
 ],
 "metadata": {
  "kernelspec": {
   "display_name": "Python 3 (ipykernel)",
   "language": "python",
   "name": "python3"
  },
  "language_info": {
   "codemirror_mode": {
    "name": "ipython",
    "version": 3
   },
   "file_extension": ".py",
   "mimetype": "text/x-python",
   "name": "python",
   "nbconvert_exporter": "python",
   "pygments_lexer": "ipython3",
   "version": "3.10.11"
  },
  "papermill": {
   "default_parameters": {},
   "duration": 212.020477,
   "end_time": "2023-10-30T16:39:08.098862",
   "environment_variables": {},
   "exception": null,
   "input_path": "03_entrenamiento.ipynb",
   "output_path": "ejecuciones/training/03_entrenamiento.20231030T173535.param_0000_7265_mul_s_MI_SVM.output.ipynb",
   "parameters": {
    "MAX_ITERS": 500,
    "M_CLASIF": "SVM",
    "M_FICHERO": "metricas_7265",
    "M_SELECT": "MI",
    "M_TIPO": "mul_s",
    "PRE_DATA_FILE": "rows_transpose_norm_by_gene_id_with_target_num_",
    "P_FICHERO": "param_0000_7265_mul_s_MI_SVM.yaml",
    "R_FICHERO": "resultados_7265",
    "SCORING": "roc_auc_ovr",
    "SEMILLA": 7265,
    "eval_clasifier": "SVC(probability=True, random_state=SEMILLA)",
    "eval_selector": "SelectKBest(score_func=mutual_info_classif_state)",
    "param_distributions": {
     "clasifier__C": [
      100
     ],
     "clasifier__gamma": [
      0.001
     ],
     "clasifier__kernel": [
      "rbf"
     ],
     "selector__k": [
      1000
     ]
    }
   },
   "start_time": "2023-10-30T16:35:36.078385",
   "version": "2.4.0"
  }
 },
 "nbformat": 4,
 "nbformat_minor": 5
}