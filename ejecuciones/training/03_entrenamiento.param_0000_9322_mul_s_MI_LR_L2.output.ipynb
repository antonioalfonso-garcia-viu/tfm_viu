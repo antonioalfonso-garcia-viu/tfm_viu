{
 "cells": [
  {
   "cell_type": "markdown",
   "id": "1fed4462",
   "metadata": {
    "papermill": {
     "duration": 0.006137,
     "end_time": "2023-10-30T07:12:34.042016",
     "exception": false,
     "start_time": "2023-10-30T07:12:34.035879",
     "status": "completed"
    },
    "tags": []
   },
   "source": [
    "##### Inicio"
   ]
  },
  {
   "cell_type": "markdown",
   "id": "38d5ccde",
   "metadata": {
    "papermill": {
     "duration": 0.00338,
     "end_time": "2023-10-30T07:12:34.049129",
     "exception": false,
     "start_time": "2023-10-30T07:12:34.045749",
     "status": "completed"
    },
    "tags": []
   },
   "source": [
    "#### Carga de datos"
   ]
  },
  {
   "cell_type": "code",
   "execution_count": 1,
   "id": "4343acc9",
   "metadata": {
    "execution": {
     "iopub.execute_input": "2023-10-30T07:12:34.057338Z",
     "iopub.status.busy": "2023-10-30T07:12:34.056798Z",
     "iopub.status.idle": "2023-10-30T07:12:35.168172Z",
     "shell.execute_reply": "2023-10-30T07:12:35.167565Z"
    },
    "papermill": {
     "duration": 1.117027,
     "end_time": "2023-10-30T07:12:35.169622",
     "exception": false,
     "start_time": "2023-10-30T07:12:34.052595",
     "status": "completed"
    },
    "tags": []
   },
   "outputs": [
    {
     "name": "stdout",
     "output_type": "stream",
     "text": [
      "CPU_COUNT: 16; NODE: enderlab; sys.version: 3.10.11 (main, May 16 2023, 00:28:57) [GCC 11.2.0]\n",
      "LOKY_MAX_CPU_COUNT is not set.\n",
      "OMP_NUM_THREADS is not set.\n"
     ]
    }
   ],
   "source": [
    "import os\n",
    "import numpy as np\n",
    "import pandas as pd\n",
    "import datetime\n",
    "import sklearn\n",
    "import logging\n",
    "import warnings\n",
    "\n",
    "from sklearn.pipeline import Pipeline\n",
    "from sklearn.model_selection import RandomizedSearchCV, KFold, cross_val_score, train_test_split\n",
    "from sklearn.metrics import accuracy_score, confusion_matrix, classification_report, roc_auc_score\n",
    "\n",
    "#  cargar algoritmos para aprendizaje supervisado\n",
    "from sklearn.feature_selection import SelectKBest, f_classif, SelectFromModel, mutual_info_classif\n",
    "from sklearn.svm import SVC\n",
    "from sklearn.ensemble import RandomForestClassifier\n",
    "from sklearn.linear_model import LogisticRegression,LogisticRegressionCV\n",
    "\n",
    "# importar fichero con utilidades propias\n",
    "from commons import myfunctions as myfunc\n"
   ]
  },
  {
   "cell_type": "markdown",
   "id": "73d24d5c",
   "metadata": {
    "papermill": {
     "duration": 0.003591,
     "end_time": "2023-10-30T07:12:35.177230",
     "exception": false,
     "start_time": "2023-10-30T07:12:35.173639",
     "status": "completed"
    },
    "tags": []
   },
   "source": [
    "#### Parámetros a utilizar en el entrenamiento.\n",
    "\n",
    "Se indican los 3 algoritmos de *selección de características* (eval_selector_xxx) y los 3 algoritmos para la _clasificación_ (eval_clasifier_xxx)\n",
    "\n",
    "En *param_distributions* se indicar los parámetros que utilizan los algoritmos en la función RandomSearchCV.\n",
    "\n",
    "Esta celda tiene la etiqueta **parameters** que servirá para poder lanzar los entrenamientos con la utilidad **papermill** pasándole un fichero con los parámetros. Los nuevos parámetros se situarán tras esta celda para tener prevalencia."
   ]
  },
  {
   "cell_type": "code",
   "execution_count": 2,
   "id": "b4958773",
   "metadata": {
    "execution": {
     "iopub.execute_input": "2023-10-30T07:12:35.185500Z",
     "iopub.status.busy": "2023-10-30T07:12:35.184982Z",
     "iopub.status.idle": "2023-10-30T07:12:35.193664Z",
     "shell.execute_reply": "2023-10-30T07:12:35.193124Z"
    },
    "papermill": {
     "duration": 0.014315,
     "end_time": "2023-10-30T07:12:35.194914",
     "exception": false,
     "start_time": "2023-10-30T07:12:35.180599",
     "status": "completed"
    },
    "tags": [
     "parameters"
    ]
   },
   "outputs": [
    {
     "name": "stdout",
     "output_type": "stream",
     "text": [
      "20231030T081235 : enderlab : INFO : Utilizando parámetros de mul_m\n"
     ]
    }
   ],
   "source": [
    "#  Parametros para el entrenamiento\n",
    "\n",
    "SEMILLA=        42\n",
    "M_TIPO=         \"mul_m\"\n",
    "M_SELECT=       \"MI\"\n",
    "M_CLASIF=       \"SVM\"\n",
    "R_FICHERO=      \"resultados\"\n",
    "M_FICHERO=      \"metricas\"\n",
    "PRE_DATA_FILE=  \"rows_transpose_norm_by_gene_id_with_target_num_\"\n",
    "SCORING=        \"roc_auc_ovr\" \n",
    "MAX_ITERS=      100\n",
    "\n",
    "def mutual_info_classif_state(X, y):\n",
    "    return mutual_info_classif(X, y, random_state=SEMILLA)\n",
    "\n",
    "eval_selector_mi = \"SelectKBest(score_func=mutual_info_classif_state)\"\n",
    "eval_selector_rf=  \"SelectFromModel(estimator=RandomForestClassifier(random_state=SEMILLA), threshold=-np.inf)\"\n",
    "eval_selector_anova=  \"SelectKBest(score_func=f_classif)\"\n",
    "\n",
    "eval_clasifier_svm= \"SVC(probability=True, random_state=SEMILLA)\"\n",
    "eval_clasifier_rf= \"RandomForestClassifier(random_state=SEMILLA)\"\n",
    "eval_clasifier_lr= \"LogisticRegressionCV(random_state=SEMILLA)\"\n",
    "\n",
    "if M_TIPO.startswith(\"bin_m\"):\n",
    "    myfunc.verbose(f\"Utilizando parámetros de {M_TIPO}\")\n",
    "    eval_selector = eval_selector_mi\n",
    "    eval_clasifier = eval_clasifier_svm\n",
    "\n",
    "    SEMILLA = 6578\n",
    "    M_SELECT = \"MI\"\n",
    "    M_CLASIF = \"SVM\"\n",
    "    param_distributions = {'selector__k': [1000], \n",
    "         'clasifier__kernel': ['rbf'], 'clasifier__gamma': [0.01], 'clasifier__C': [100]}\n",
    "elif M_TIPO.startswith(\"bin_s\"):\n",
    "    myfunc.verbose(f\"Utilizando parámetros de {M_TIPO}\")\n",
    "    eval_selector = eval_selector_rf\n",
    "    eval_clasifier = eval_clasifier_lr\n",
    "\n",
    "    SEMILLA = 6191\n",
    "    M_SELECT = \"RF\"\n",
    "    M_CLASIF = \"LR_L2\"\n",
    "    param_distributions = {'selector__max_features': [1000], 'selector__estimator__n_estimators': [200], \n",
    "        'clasifier__solver': ['lbfgs'], 'clasifier__penalty': ['l2'], 'clasifier__max_iter': [10000]}\n",
    "\n",
    "elif M_TIPO.startswith(\"mul_m\"):\n",
    "    myfunc.verbose(f\"Utilizando parámetros de {M_TIPO}\")\n",
    " \n",
    "    eval_selector = eval_selector_rf\n",
    "    eval_clasifier = eval_clasifier_lr\n",
    "\n",
    "    SEMILLA = 6191\n",
    "    M_SELECT = \"RF\"\n",
    "    M_CLASIF = \"LR_L2\"\n",
    "    param_distributions = {'selector__max_features': [1000], 'selector__estimator__n_estimators': [400], \n",
    "        'clasifier__solver': ['lbfgs'], 'clasifier__penalty': ['l2'], 'clasifier__max_iter': [10000]}\n",
    "\n",
    "else:\n",
    "    # M_TIPO.startswith(\"mul_s\"):\n",
    "    myfunc.verbose(f\"Utilizando parámetros de {M_TIPO}\")\n",
    "    eval_selector = eval_selector_anova\n",
    "    eval_clasifier = eval_clasifier_lr\n",
    "\n",
    "    SEMILLA = 1860\n",
    "    M_SELECT = \"ANOVA\"\n",
    "    M_CLASIF = \"LR_L2\"\n",
    "    param_distributions = {'selector__k': [1000], \n",
    "        'clasifier__solver': ['saga'], 'clasifier__penalty': ['l2'], 'clasifier__max_iter': [10000]}\n",
    "\n"
   ]
  },
  {
   "cell_type": "code",
   "execution_count": 3,
   "id": "5d70276d",
   "metadata": {
    "execution": {
     "iopub.execute_input": "2023-10-30T07:12:35.203205Z",
     "iopub.status.busy": "2023-10-30T07:12:35.202765Z",
     "iopub.status.idle": "2023-10-30T07:12:35.206649Z",
     "shell.execute_reply": "2023-10-30T07:12:35.206123Z"
    },
    "papermill": {
     "duration": 0.009365,
     "end_time": "2023-10-30T07:12:35.207853",
     "exception": false,
     "start_time": "2023-10-30T07:12:35.198488",
     "status": "completed"
    },
    "tags": [
     "injected-parameters"
    ]
   },
   "outputs": [],
   "source": [
    "# Parameters\n",
    "M_TIPO = \"mul_s\"\n",
    "M_SELECT = \"MI\"\n",
    "M_CLASIF = \"LR_L2\"\n",
    "P_FICHERO = \"param_0000_9322_mul_s_MI_LR_L2.yaml\"\n",
    "R_FICHERO = \"resultados_9322\"\n",
    "M_FICHERO = \"metricas_9322\"\n",
    "PRE_DATA_FILE = \"rows_transpose_norm_by_gene_id_with_target_num_\"\n",
    "SCORING = \"roc_auc_ovr\"\n",
    "SEMILLA = 9322\n",
    "MAX_ITERS = 500\n",
    "eval_selector = \"SelectKBest(score_func=mutual_info_classif_state)\"\n",
    "eval_clasifier = \"LogisticRegressionCV(random_state=SEMILLA)\"\n",
    "param_distributions = {\n",
    "    \"selector__k\": [500],\n",
    "    \"clasifier__solver\": [\"saga\"],\n",
    "    \"clasifier__penalty\": [\"l2\"],\n",
    "    \"clasifier__max_iter\": [10000],\n",
    "}\n"
   ]
  },
  {
   "cell_type": "code",
   "execution_count": 4,
   "id": "3046aeea",
   "metadata": {
    "execution": {
     "iopub.execute_input": "2023-10-30T07:12:35.216226Z",
     "iopub.status.busy": "2023-10-30T07:12:35.215736Z",
     "iopub.status.idle": "2023-10-30T07:12:35.219058Z",
     "shell.execute_reply": "2023-10-30T07:12:35.218559Z"
    },
    "papermill": {
     "duration": 0.008866,
     "end_time": "2023-10-30T07:12:35.220255",
     "exception": false,
     "start_time": "2023-10-30T07:12:35.211389",
     "status": "completed"
    },
    "tags": []
   },
   "outputs": [],
   "source": [
    "DATA_FILE = PRE_DATA_FILE + M_TIPO\n",
    "\n",
    "# si viene \"None\" en el parámetro max_depth, se le quitan las comillas para que no sea entendido por el algoritmo como un texto\n",
    "if \"clasifier__max_depth\" in param_distributions:\n",
    "    param_distributions['clasifier__max_depth'] = [None if x == 'None' else x for x in param_distributions['clasifier__max_depth']]"
   ]
  },
  {
   "cell_type": "markdown",
   "id": "a6a7524a",
   "metadata": {
    "papermill": {
     "duration": 0.003548,
     "end_time": "2023-10-30T07:12:35.227281",
     "exception": false,
     "start_time": "2023-10-30T07:12:35.223733",
     "status": "completed"
    },
    "tags": []
   },
   "source": [
    "Asignar los algoritmos que se utilizarán en la función RandomSearchCV"
   ]
  },
  {
   "cell_type": "code",
   "execution_count": 5,
   "id": "2e70e3e8",
   "metadata": {
    "execution": {
     "iopub.execute_input": "2023-10-30T07:12:35.235457Z",
     "iopub.status.busy": "2023-10-30T07:12:35.235020Z",
     "iopub.status.idle": "2023-10-30T07:12:35.237863Z",
     "shell.execute_reply": "2023-10-30T07:12:35.237353Z"
    },
    "papermill": {
     "duration": 0.00816,
     "end_time": "2023-10-30T07:12:35.239042",
     "exception": false,
     "start_time": "2023-10-30T07:12:35.230882",
     "status": "completed"
    },
    "tags": []
   },
   "outputs": [],
   "source": [
    "algor_selector=eval(eval_selector)\n",
    "algor_clasifier=eval(eval_clasifier)"
   ]
  },
  {
   "cell_type": "markdown",
   "id": "ff0d1530",
   "metadata": {
    "papermill": {
     "duration": 0.003553,
     "end_time": "2023-10-30T07:12:35.246115",
     "exception": false,
     "start_time": "2023-10-30T07:12:35.242562",
     "status": "completed"
    },
    "tags": []
   },
   "source": [
    "#### Comprobar el entorno y leer fichero de muestras"
   ]
  },
  {
   "cell_type": "code",
   "execution_count": 6,
   "id": "ad3b57a7",
   "metadata": {
    "execution": {
     "iopub.execute_input": "2023-10-30T07:12:35.254302Z",
     "iopub.status.busy": "2023-10-30T07:12:35.253855Z",
     "iopub.status.idle": "2023-10-30T07:12:35.438521Z",
     "shell.execute_reply": "2023-10-30T07:12:35.437870Z"
    },
    "papermill": {
     "duration": 0.190151,
     "end_time": "2023-10-30T07:12:35.439851",
     "exception": false,
     "start_time": "2023-10-30T07:12:35.249700",
     "status": "completed"
    },
    "tags": []
   },
   "outputs": [
    {
     "name": "stdout",
     "output_type": "stream",
     "text": [
      "20231030T081235 : enderlab : INFO : Encontrada carpeta DATA_DIR=../tfm_git/datos\n",
      "20231030T081235 : enderlab : INFO : Encontrada carpeta CFDNA_DIR=../tfm_git/datos/cfDNA_5hmC\n",
      "20231030T081235 : enderlab : INFO : Encontrada carpeta GENCODE_DIR=../tfm_git/datos/gencode\n",
      "20231030T081235 : enderlab : INFO : Encontrada carpeta H5_DIR=../tfm_git/datos/h5\n",
      "20231030T081235 : enderlab : INFO : Encontrada carpeta LOG_DIR=../tfm_git/datos/logs\n",
      "20231030T081235 : enderlab : INFO : Encontrada carpeta CSV_DIR=../tfm_git/datos/csv\n",
      "20231030T081235 : enderlab : INFO : Encontrada carpeta MODEL_DIR=../tfm_git/ejecuciones/modelos\n",
      "20231030T081235 : enderlab : INFO : Encontrada carpeta EXEC_DIR=../tfm_git/ejecuciones\n",
      "20231030T081235 : enderlab : INFO : Encontrada carpeta MET_DIR=../tfm_git/ejecuciones/metricas\n",
      "20231030T081235 : enderlab : INFO : Inicio leer fichero h5 ../tfm_git/datos/h5/rows_transpose_norm_by_gene_id_with_target_num_mul_s.h5\n",
      "20231030T081235 : enderlab : INFO : Leyendo clave /df\n"
     ]
    },
    {
     "name": "stdout",
     "output_type": "stream",
     "text": [
      "20231030T081235 : enderlab : INFO : Tamaño (259, 18876)\n",
      "20231030T081235 : enderlab : INFO : Fin leer fichero h5 ../tfm_git/datos/h5/rows_transpose_norm_by_gene_id_with_target_num_mul_s.h5\n"
     ]
    },
    {
     "data": {
      "text/plain": [
       "target\n",
       "0    37\n",
       "1    37\n",
       "2    37\n",
       "3    37\n",
       "4    37\n",
       "5    37\n",
       "6    37\n",
       "dtype: int64"
      ]
     },
     "metadata": {},
     "output_type": "display_data"
    },
    {
     "name": "stdout",
     "output_type": "stream",
     "text": [
      "Shape df: (259, 18876)\n",
      "Shape X_train: (207, 18875)\n",
      "Shape X_test: (52, 18875)\n"
     ]
    }
   ],
   "source": [
    "start_time = datetime.datetime.now()\n",
    "\n",
    "myfunc.reset_vars()\n",
    "\n",
    "myfunc.NOTEBK_FILENAME = myfunc.get_nb_name()\n",
    "\n",
    "myfunc.check_enviroment(myfunc.DATA_DIR, myfunc.CFDNA_DIR, myfunc.GENCODE_DIR, myfunc.H5_DIR, myfunc.LOG_DIR, myfunc.CSV_DIR, myfunc.MODEL_DIR, myfunc.EXEC_DIR, myfunc.MET_DIR)\n",
    "\n",
    "# Leer fichero con las muestras\n",
    "df_t = myfunc.read_h5_to_df(DATA_FILE, myfunc.H5_DIR)\n",
    "display(df_t.groupby(\"target\").size())\n",
    "print(\"Shape df:\",df_t.shape)\n",
    "\n",
    "# Separar caracteristicas/genes de las etiquetas/tipos de cáncer\n",
    "X = df_t.iloc[:, :-1]  # Todas las columnas excepto la última\n",
    "y = df_t.iloc[:, -1]  # La última columna contiene los identificadores de los tipos de cáncer\n",
    "\n",
    "#  Crear el conjunto de datos de entrenamiento y de pruebas, y se fija la semilla para siempre coger el mismo juego de muestras\n",
    "X_train, X_test, y_train, y_test = train_test_split(X, y, test_size=0.2, shuffle=True, random_state=42)\n",
    "print(\"Shape X_train:\",X_train.shape)\n",
    "print(\"Shape X_test:\",X_test.shape)\n"
   ]
  },
  {
   "cell_type": "markdown",
   "id": "09b66a75",
   "metadata": {
    "papermill": {
     "duration": 0.004028,
     "end_time": "2023-10-30T07:12:35.448405",
     "exception": false,
     "start_time": "2023-10-30T07:12:35.444377",
     "status": "completed"
    },
    "tags": []
   },
   "source": [
    "#### Selección de características y clasificación."
   ]
  },
  {
   "cell_type": "code",
   "execution_count": 7,
   "id": "a4eda913",
   "metadata": {
    "execution": {
     "iopub.execute_input": "2023-10-30T07:12:35.457369Z",
     "iopub.status.busy": "2023-10-30T07:12:35.456949Z",
     "iopub.status.idle": "2023-10-30T07:19:42.519318Z",
     "shell.execute_reply": "2023-10-30T07:19:42.518424Z"
    },
    "papermill": {
     "duration": 427.07404,
     "end_time": "2023-10-30T07:19:42.526306",
     "exception": false,
     "start_time": "2023-10-30T07:12:35.452266",
     "status": "completed"
    },
    "tags": []
   },
   "outputs": [
    {
     "name": "stdout",
     "output_type": "stream",
     "text": [
      "20231030T081235 : enderlab : INFO : Iniciando entrenamiento\n",
      "num_iter: 1 , max_iter: 1\n"
     ]
    },
    {
     "name": "stdout",
     "output_type": "stream",
     "text": [
      "Fitting 5 folds for each of 1 candidates, totalling 5 fits\n"
     ]
    },
    {
     "name": "stdout",
     "output_type": "stream",
     "text": [
      "Mejores Hiperparámetros: {'selector__k': 500, 'clasifier__solver': 'saga', 'clasifier__penalty': 'l2', 'clasifier__max_iter': 10000}\n",
      "Mejor Puntuación: 0.7850\n",
      "20231030T081942 : enderlab : INFO : Fin entrenamiento\n"
     ]
    }
   ],
   "source": [
    "myfunc.verbose(\"Iniciando entrenamiento\")\n",
    "\n",
    "kf = KFold(n_splits=5, shuffle=True, random_state=SEMILLA)\n",
    "\n",
    "# Crear el pipeline para el flujo de tareas\n",
    "tasks_pipeline = Pipeline([\n",
    "    ('selector', algor_selector),\n",
    "    ('clasifier', algor_clasifier)\n",
    "])\n",
    "\n",
    "# MAX_ITERS puede limitar el número de iteraciones si son excesivas para las combinaciones de parámetros buscando un óptimo local, \n",
    "# sino funcionaría como GridSearchCV al revisar todas las cominaciones de los parámetros\n",
    "num_iteraciones = 1\n",
    "num_iteraciones = num_iteraciones * np.prod([len(elemento1) for _, elemento1 in param_distributions.items()])\n",
    "max_iteraciones = num_iteraciones if num_iteraciones <= MAX_ITERS else MAX_ITERS\n",
    "print(\"num_iter:\",num_iteraciones,\", max_iter:\",max_iteraciones)\n",
    "\n",
    "random_search = RandomizedSearchCV(\n",
    "    tasks_pipeline, \n",
    "    param_distributions, \n",
    "    n_iter=max_iteraciones,\n",
    "    scoring=SCORING,\n",
    "    cv=kf,\n",
    "    verbose=3, \n",
    "    random_state=SEMILLA, \n",
    "    n_jobs=-1\n",
    "    )\n",
    "\n",
    "# Entrenar el modelo\n",
    "random_search.fit(X_train, y_train)\n",
    "\n",
    "# Ver los mejores hiperparámetros encontrados\n",
    "print(f'Mejores Hiperparámetros: {random_search.best_params_}')\n",
    "print(f'Mejor Puntuación: {random_search.best_score_:.4f}')\n",
    "\n",
    "# Nos quedamos con el mejor modelo para ver las métricas\n",
    "mejor_modelo = random_search.best_estimator_\n",
    "\n",
    "myfunc.verbose(\"Fin entrenamiento\")"
   ]
  },
  {
   "cell_type": "markdown",
   "id": "651a186e",
   "metadata": {
    "papermill": {
     "duration": 0.004171,
     "end_time": "2023-10-30T07:19:42.534967",
     "exception": false,
     "start_time": "2023-10-30T07:19:42.530796",
     "status": "completed"
    },
    "tags": []
   },
   "source": [
    "#### Guardar modelo"
   ]
  },
  {
   "cell_type": "code",
   "execution_count": 8,
   "id": "c7defeb7",
   "metadata": {
    "execution": {
     "iopub.execute_input": "2023-10-30T07:19:42.544998Z",
     "iopub.status.busy": "2023-10-30T07:19:42.544644Z",
     "iopub.status.idle": "2023-10-30T07:19:42.556553Z",
     "shell.execute_reply": "2023-10-30T07:19:42.555982Z"
    },
    "papermill": {
     "duration": 0.018722,
     "end_time": "2023-10-30T07:19:42.557895",
     "exception": false,
     "start_time": "2023-10-30T07:19:42.539173",
     "status": "completed"
    },
    "tags": []
   },
   "outputs": [
    {
     "name": "stdout",
     "output_type": "stream",
     "text": [
      "20231030T081942 : enderlab : INFO : Inicio guardar fichero ../tfm_git/ejecuciones/modelos/modelo_9322_mul_s_MI_LR_L2.pkl\n",
      "20231030T081942 : enderlab : INFO : Fin guardar fichero ../tfm_git/ejecuciones/modelos/modelo_9322_mul_s_MI_LR_L2.pkl\n"
     ]
    }
   ],
   "source": [
    "fichero_modelo = str.replace(\"modelo_\"+str(SEMILLA).zfill(4)+\"_\"+M_TIPO+\"_\"+M_SELECT+\"_\"+M_CLASIF+\".pkl\", \" \", \"_\")\n",
    "\n",
    "myfunc.save_modelo(mejor_modelo, myfunc.MODEL_DIR, fichero_modelo)"
   ]
  },
  {
   "cell_type": "markdown",
   "id": "f6201cb0",
   "metadata": {
    "papermill": {
     "duration": 0.004338,
     "end_time": "2023-10-30T07:19:42.566501",
     "exception": false,
     "start_time": "2023-10-30T07:19:42.562163",
     "status": "completed"
    },
    "tags": []
   },
   "source": [
    "#### Ver resultados del las iteraciones hechas por RandomSearchCV"
   ]
  },
  {
   "cell_type": "code",
   "execution_count": 9,
   "id": "1915556f",
   "metadata": {
    "execution": {
     "iopub.execute_input": "2023-10-30T07:19:42.576301Z",
     "iopub.status.busy": "2023-10-30T07:19:42.575819Z",
     "iopub.status.idle": "2023-10-30T07:19:42.582797Z",
     "shell.execute_reply": "2023-10-30T07:19:42.582253Z"
    },
    "papermill": {
     "duration": 0.013274,
     "end_time": "2023-10-30T07:19:42.584002",
     "exception": false,
     "start_time": "2023-10-30T07:19:42.570728",
     "status": "completed"
    },
    "tags": []
   },
   "outputs": [
    {
     "name": "stdout",
     "output_type": "stream",
     "text": [
      "20231030T081942 : enderlab : INFO : Inicio ver resultados\n",
      "Mejores Hiperparámetros: {'selector__k': 500, 'clasifier__solver': 'saga', 'clasifier__penalty': 'l2', 'clasifier__max_iter': 10000}\n",
      "Mejores puntuaciones: 0.7850 | Params: {'selector__k': 500, 'clasifier__solver': 'saga', 'clasifier__penalty': 'l2', 'clasifier__max_iter': 10000}\n",
      "Media de las puntuaciones: 0.7850 | Params: {'selector__k': 500, 'clasifier__solver': 'saga', 'clasifier__penalty': 'l2', 'clasifier__max_iter': 10000}\n",
      "20231030T081942 : enderlab : INFO : Fin resultados\n"
     ]
    }
   ],
   "source": [
    "myfunc.ver_resultados_search(random_search)"
   ]
  },
  {
   "cell_type": "markdown",
   "id": "8d5c7760",
   "metadata": {
    "papermill": {
     "duration": 0.004482,
     "end_time": "2023-10-30T07:19:42.592810",
     "exception": false,
     "start_time": "2023-10-30T07:19:42.588328",
     "status": "completed"
    },
    "tags": []
   },
   "source": [
    "#### Ver métricas del mejor modelo"
   ]
  },
  {
   "cell_type": "code",
   "execution_count": 10,
   "id": "36232b22",
   "metadata": {
    "execution": {
     "iopub.execute_input": "2023-10-30T07:19:42.602226Z",
     "iopub.status.busy": "2023-10-30T07:19:42.602016Z",
     "iopub.status.idle": "2023-10-30T07:19:43.306801Z",
     "shell.execute_reply": "2023-10-30T07:19:43.306092Z"
    },
    "papermill": {
     "duration": 0.711031,
     "end_time": "2023-10-30T07:19:43.308135",
     "exception": false,
     "start_time": "2023-10-30T07:19:42.597104",
     "status": "completed"
    },
    "tags": []
   },
   "outputs": [
    {
     "name": "stdout",
     "output_type": "stream",
     "text": [
      "20231030T081942 : enderlab : INFO : Inicio ver métricas multiclase\n"
     ]
    },
    {
     "name": "stdout",
     "output_type": "stream",
     "text": [
      "              precision    recall  f1-score   support\n",
      "\n",
      "           0       0.43      0.27      0.33        11\n",
      "           1       0.50      0.25      0.33         8\n",
      "           2       0.12      0.12      0.12         8\n",
      "           3       0.27      0.60      0.37         5\n",
      "           4       0.64      0.88      0.74         8\n",
      "           5       1.00      0.33      0.50         6\n",
      "           6       0.33      0.50      0.40         6\n",
      "\n",
      "    accuracy                           0.40        52\n",
      "   macro avg       0.47      0.42      0.40        52\n",
      "weighted avg       0.46      0.40      0.39        52\n",
      "\n",
      "\n",
      "\n",
      "           Exactitud: 0.403846\n",
      "   Precisión (media): 0.470857\n",
      "      Recall (media): 0.422294\n",
      "    F1-score (media): 0.400501\n",
      "\n",
      "\n",
      "AUC para el tipo de cáncer 0-Control.... 0.5765\n",
      "AUC para el tipo de cáncer 1-Bladder.... 0.8750\n",
      "AUC para el tipo de cáncer 2-Breast..... 0.7131\n"
     ]
    },
    {
     "name": "stdout",
     "output_type": "stream",
     "text": [
      "AUC para el tipo de cáncer 3-Colorectal. 0.8468\n",
      "AUC para el tipo de cáncer 4-Kidney..... 0.9261\n",
      "AUC para el tipo de cáncer 5-Lung....... 0.9239\n",
      "AUC para el tipo de cáncer 6-Prostate... 0.8514\n",
      "\n",
      "Media de AUC: 0.8161\n"
     ]
    },
    {
     "data": {
      "image/png": "[encoded data removed]",
      "text/plain": [
       "<Figure size 1000x600 with 1 Axes>"
      ]
     },
     "metadata": {},
     "output_type": "display_data"
    },
    {
     "name": "stdout",
     "output_type": "stream",
     "text": [
      "\n",
      "\n"
     ]
    },
    {
     "data": {
      "image/png": "[encoded data removed]",
      "text/plain": [
       "<Figure size 800x400 with 2 Axes>"
      ]
     },
     "metadata": {},
     "output_type": "display_data"
    },
    {
     "name": "stdout",
     "output_type": "stream",
     "text": [
      "\n",
      "\n",
      "Puntuación Jaccard para el cáncer tipo 0-Control.... 0.2000\n",
      "Puntuación Jaccard para el cáncer tipo 1-Bladder.... 0.2000\n",
      "Puntuación Jaccard para el cáncer tipo 2-Breast..... 0.0667\n",
      "Puntuación Jaccard para el cáncer tipo 3-Colorectal. 0.2308\n",
      "Puntuación Jaccard para el cáncer tipo 4-Kidney..... 0.5833\n",
      "Puntuación Jaccard para el cáncer tipo 5-Lung....... 0.3333\n",
      "Puntuación Jaccard para el cáncer tipo 6-Prostate... 0.2500\n",
      "\n",
      "Media de la puntuación de Jaccard: 0.2663\n"
     ]
    }
   ],
   "source": [
    "if M_TIPO.startswith(\"bin\"):\n",
    "    myfunc.ver_metricas(mejor_modelo, X_test, y_test)\n",
    "else:\n",
    "    myfunc.ver_metricas_multi(mejor_modelo, X_test, y_test)\n"
   ]
  },
  {
   "cell_type": "markdown",
   "id": "45532805",
   "metadata": {
    "papermill": {
     "duration": 0.006015,
     "end_time": "2023-10-30T07:19:43.320866",
     "exception": false,
     "start_time": "2023-10-30T07:19:43.314851",
     "status": "completed"
    },
    "tags": []
   },
   "source": [
    "#### Finalización del notebook"
   ]
  },
  {
   "cell_type": "code",
   "execution_count": 11,
   "id": "69536466",
   "metadata": {
    "execution": {
     "iopub.execute_input": "2023-10-30T07:19:43.333738Z",
     "iopub.status.busy": "2023-10-30T07:19:43.333150Z",
     "iopub.status.idle": "2023-10-30T07:19:43.337120Z",
     "shell.execute_reply": "2023-10-30T07:19:43.336572Z"
    },
    "papermill": {
     "duration": 0.011737,
     "end_time": "2023-10-30T07:19:43.338315",
     "exception": false,
     "start_time": "2023-10-30T07:19:43.326578",
     "status": "completed"
    },
    "tags": []
   },
   "outputs": [
    {
     "name": "stdout",
     "output_type": "stream",
     "text": [
      "20231030T081943 : enderlab : INFO : Notebook ha tardado 428 seconds\n"
     ]
    }
   ],
   "source": [
    "end_time = datetime.datetime.now()\n",
    "total_time = end_time - start_time\n",
    "myfunc.verbose(f\"Notebook ha tardado {total_time.seconds} seconds\")"
   ]
  },
  {
   "cell_type": "markdown",
   "id": "a3d813c5",
   "metadata": {
    "papermill": {
     "duration": 0.005923,
     "end_time": "2023-10-30T07:19:43.350090",
     "exception": false,
     "start_time": "2023-10-30T07:19:43.344167",
     "status": "completed"
    },
    "tags": []
   },
   "source": [
    "#### Guardar métricas"
   ]
  },
  {
   "cell_type": "code",
   "execution_count": 12,
   "id": "05210c0c",
   "metadata": {
    "execution": {
     "iopub.execute_input": "2023-10-30T07:19:43.363106Z",
     "iopub.status.busy": "2023-10-30T07:19:43.362708Z",
     "iopub.status.idle": "2023-10-30T07:19:43.613501Z",
     "shell.execute_reply": "2023-10-30T07:19:43.612924Z"
    },
    "papermill": {
     "duration": 0.258795,
     "end_time": "2023-10-30T07:19:43.614845",
     "exception": false,
     "start_time": "2023-10-30T07:19:43.356050",
     "status": "completed"
    },
    "tags": []
   },
   "outputs": [
    {
     "name": "stdout",
     "output_type": "stream",
     "text": [
      "20231030T081943 : enderlab : INFO : Inicio guardar métricas multiclase\n",
      "20231030T081943 : enderlab : INFO : Inicio leer fichero ../tfm_git/ejecuciones/metricas/metricas_9322.csv\n",
      "20231030T081943 : enderlab : INFO : Fin leer fichero ../tfm_git/ejecuciones/metricas/metricas_9322.csv\n"
     ]
    },
    {
     "name": "stdout",
     "output_type": "stream",
     "text": [
      "20231030T081943 : enderlab : INFO : Inicio guardar fichero ../tfm_git/ejecuciones/metricas/metricas_9322.csv\n",
      "20231030T081943 : enderlab : INFO : Fichero borrado ../tfm_git/ejecuciones/metricas/metricas_9322.csv\n"
     ]
    },
    {
     "name": "stdout",
     "output_type": "stream",
     "text": [
      "20231030T081943 : enderlab : INFO : Fin guardar fichero ../tfm_git/ejecuciones/metricas/metricas_9322.csv\n",
      "20231030T081943 : enderlab : INFO : Fin guardar métricas multiclase\n",
      "20231030T081943 : enderlab : INFO : Inicio leer fichero ../tfm_git/ejecuciones/metricas/metricas_9322.csv\n",
      "20231030T081943 : enderlab : INFO : Fin leer fichero ../tfm_git/ejecuciones/metricas/metricas_9322.csv\n"
     ]
    },
    {
     "data": {
      "text/html": [
       "<div>\n",
       "<style scoped>\n",
       "    .dataframe tbody tr th:only-of-type {\n",
       "        vertical-align: middle;\n",
       "    }\n",
       "\n",
       "    .dataframe tbody tr th {\n",
       "        vertical-align: top;\n",
       "    }\n",
       "\n",
       "    .dataframe thead th {\n",
       "        text-align: right;\n",
       "    }\n",
       "</style>\n",
       "<table border=\"1\" class=\"dataframe\">\n",
       "  <thead>\n",
       "    <tr style=\"text-align: right;\">\n",
       "      <th></th>\n",
       "      <th>tipo</th>\n",
       "      <th>select</th>\n",
       "      <th>clasific</th>\n",
       "      <th>semilla</th>\n",
       "      <th>accuracy</th>\n",
       "      <th>precision</th>\n",
       "      <th>recall</th>\n",
       "      <th>f1_score</th>\n",
       "      <th>roc_auc</th>\n",
       "      <th>hostname</th>\n",
       "      <th>total_time_sec</th>\n",
       "      <th>datetime</th>\n",
       "      <th>fichero_modelo</th>\n",
       "      <th>params</th>\n",
       "      <th>shape</th>\n",
       "      <th>features</th>\n",
       "      <th>roc_auc_ovr</th>\n",
       "      <th>indices_auc</th>\n",
       "      <th>indices_jaccard</th>\n",
       "    </tr>\n",
       "  </thead>\n",
       "  <tbody>\n",
       "    <tr>\n",
       "      <th>0</th>\n",
       "      <td>mul_s</td>\n",
       "      <td>MI</td>\n",
       "      <td>LR_L2</td>\n",
       "      <td>9322</td>\n",
       "      <td>0.403846</td>\n",
       "      <td>0.470857</td>\n",
       "      <td>0.422294</td>\n",
       "      <td>0.400501</td>\n",
       "      <td>NaN</td>\n",
       "      <td>enderlab</td>\n",
       "      <td>428</td>\n",
       "      <td>2023-10-30 08:19:43.560002</td>\n",
       "      <td>modelo_9322_mul_s_MI_LR_L2.pkl</td>\n",
       "      <td>{'selector__k': 500, 'clasifier__solver': 'sag...</td>\n",
       "      <td>X_test:(52, 18875)</td>\n",
       "      <td>['ENSG00000003137.9', 'ENSG00000005513.10', 'E...</td>\n",
       "      <td>0.816125</td>\n",
       "      <td>[0.5764966740576497, 0.875, 0.7130681818181819...</td>\n",
       "      <td>[0.2, 0.2, 0.06666666666666667, 0.230769230769...</td>\n",
       "    </tr>\n",
       "    <tr>\n",
       "      <th>0</th>\n",
       "      <td>mul_s</td>\n",
       "      <td>MI</td>\n",
       "      <td>LR_L1</td>\n",
       "      <td>9322</td>\n",
       "      <td>0.442308</td>\n",
       "      <td>0.476190</td>\n",
       "      <td>0.453139</td>\n",
       "      <td>0.435377</td>\n",
       "      <td>NaN</td>\n",
       "      <td>enderlab</td>\n",
       "      <td>662</td>\n",
       "      <td>2023-10-30 08:12:28.435005</td>\n",
       "      <td>modelo_9322_mul_s_MI_LR_L1.pkl</td>\n",
       "      <td>{'selector__k': 500, 'clasifier__solver': 'sag...</td>\n",
       "      <td>X_test:(52, 18875)</td>\n",
       "      <td>['ENSG00000003137.9', 'ENSG00000005513.10', 'E...</td>\n",
       "      <td>0.817066</td>\n",
       "      <td>[0.5698447893569845, 0.8863636363636365, 0.710...</td>\n",
       "      <td>[0.26666666666666666, 0.3333333333333333, 0.06...</td>\n",
       "    </tr>\n",
       "    <tr>\n",
       "      <th>0</th>\n",
       "      <td>mul_s</td>\n",
       "      <td>MI</td>\n",
       "      <td>LR_EN</td>\n",
       "      <td>9322</td>\n",
       "      <td>0.557692</td>\n",
       "      <td>0.556494</td>\n",
       "      <td>0.556494</td>\n",
       "      <td>0.533153</td>\n",
       "      <td>NaN</td>\n",
       "      <td>enderlab</td>\n",
       "      <td>1077</td>\n",
       "      <td>2023-10-30 08:01:19.024782</td>\n",
       "      <td>modelo_9322_mul_s_MI_LR_EN.pkl</td>\n",
       "      <td>{'selector__k': 1000, 'clasifier__solver': 'sa...</td>\n",
       "      <td>X_test:(52, 18875)</td>\n",
       "      <td>['ENSG00000003137.9', 'ENSG00000005513.10', 'E...</td>\n",
       "      <td>0.834715</td>\n",
       "      <td>[0.6784922394678493, 0.9005681818181819, 0.732...</td>\n",
       "      <td>[0.375, 0.625, 0.1, 0.3, 0.6666666666666666, 0...</td>\n",
       "    </tr>\n",
       "  </tbody>\n",
       "</table>\n",
       "</div>"
      ],
      "text/plain": [
       "    tipo select clasific  semilla  accuracy  precision    recall  f1_score  \\\n",
       "0  mul_s     MI    LR_L2     9322  0.403846   0.470857  0.422294  0.400501   \n",
       "0  mul_s     MI    LR_L1     9322  0.442308   0.476190  0.453139  0.435377   \n",
       "0  mul_s     MI    LR_EN     9322  0.557692   0.556494  0.556494  0.533153   \n",
       "\n",
       "   roc_auc  hostname  total_time_sec                    datetime  \\\n",
       "0      NaN  enderlab             428  2023-10-30 08:19:43.560002   \n",
       "0      NaN  enderlab             662  2023-10-30 08:12:28.435005   \n",
       "0      NaN  enderlab            1077  2023-10-30 08:01:19.024782   \n",
       "\n",
       "                   fichero_modelo  \\\n",
       "0  modelo_9322_mul_s_MI_LR_L2.pkl   \n",
       "0  modelo_9322_mul_s_MI_LR_L1.pkl   \n",
       "0  modelo_9322_mul_s_MI_LR_EN.pkl   \n",
       "\n",
       "                                              params               shape  \\\n",
       "0  {'selector__k': 500, 'clasifier__solver': 'sag...  X_test:(52, 18875)   \n",
       "0  {'selector__k': 500, 'clasifier__solver': 'sag...  X_test:(52, 18875)   \n",
       "0  {'selector__k': 1000, 'clasifier__solver': 'sa...  X_test:(52, 18875)   \n",
       "\n",
       "                                            features  roc_auc_ovr  \\\n",
       "0  ['ENSG00000003137.9', 'ENSG00000005513.10', 'E...     0.816125   \n",
       "0  ['ENSG00000003137.9', 'ENSG00000005513.10', 'E...     0.817066   \n",
       "0  ['ENSG00000003137.9', 'ENSG00000005513.10', 'E...     0.834715   \n",
       "\n",
       "                                         indices_auc  \\\n",
       "0  [0.5764966740576497, 0.875, 0.7130681818181819...   \n",
       "0  [0.5698447893569845, 0.8863636363636365, 0.710...   \n",
       "0  [0.6784922394678493, 0.9005681818181819, 0.732...   \n",
       "\n",
       "                                     indices_jaccard  \n",
       "0  [0.2, 0.2, 0.06666666666666667, 0.230769230769...  \n",
       "0  [0.26666666666666666, 0.3333333333333333, 0.06...  \n",
       "0  [0.375, 0.625, 0.1, 0.3, 0.6666666666666666, 0...  "
      ]
     },
     "metadata": {},
     "output_type": "display_data"
    }
   ],
   "source": [
    "if M_TIPO.startswith(\"bin\"):\n",
    "    myfunc.save_metricas_to_csv(random_search, X_test, y_test, M_TIPO, M_SELECT, M_CLASIF, total_time, SEMILLA, myfunc.MET_DIR, M_FICHERO, fichero_modelo)\n",
    "else:\n",
    "    myfunc.save_metricas_multi_to_csv(random_search, X_test, y_test, M_TIPO, M_SELECT, M_CLASIF, total_time, SEMILLA, myfunc.MET_DIR, M_FICHERO, fichero_modelo)\n",
    "\n",
    "df1=myfunc.read_metricas_to_df(myfunc.MET_DIR,M_FICHERO)\n",
    "\n",
    "display(df1.sort_values(\"datetime\", ascending=False)[:3])\n"
   ]
  },
  {
   "cell_type": "markdown",
   "id": "66711f71",
   "metadata": {
    "papermill": {
     "duration": 0.006393,
     "end_time": "2023-10-30T07:19:43.628085",
     "exception": false,
     "start_time": "2023-10-30T07:19:43.621692",
     "status": "completed"
    },
    "tags": []
   },
   "source": [
    "#### Guardar resultados"
   ]
  },
  {
   "cell_type": "code",
   "execution_count": 13,
   "id": "03d681f5",
   "metadata": {
    "execution": {
     "iopub.execute_input": "2023-10-30T07:19:43.641993Z",
     "iopub.status.busy": "2023-10-30T07:19:43.641364Z",
     "iopub.status.idle": "2023-10-30T07:19:43.650955Z",
     "shell.execute_reply": "2023-10-30T07:19:43.650410Z"
    },
    "papermill": {
     "duration": 0.01785,
     "end_time": "2023-10-30T07:19:43.652191",
     "exception": false,
     "start_time": "2023-10-30T07:19:43.634341",
     "status": "completed"
    },
    "tags": []
   },
   "outputs": [
    {
     "name": "stdout",
     "output_type": "stream",
     "text": [
      "20231030T081943 : enderlab : INFO : Inicio guardar resultados\n",
      "20231030T081943 : enderlab : INFO : Inicio guardar fichero ../tfm_git/ejecuciones/metricas/resultados_9322_mul_s-MI-LR_L2.csv\n",
      "20231030T081943 : enderlab : INFO : Fin guardar fichero ../tfm_git/ejecuciones/metricas/resultados_9322_mul_s-MI-LR_L2.csv\n",
      "20231030T081943 : enderlab : INFO : Fin guardar resultados\n"
     ]
    }
   ],
   "source": [
    "fichero_resultados=R_FICHERO+\"_\"+M_TIPO+\"-\"+M_SELECT+\"-\"+M_CLASIF+\".csv\"\n",
    "myfunc.save_resultados_to_csv(M_TIPO, M_SELECT, M_CLASIF,  random_search, myfunc.MET_DIR, fichero_resultados)\n"
   ]
  }
 ],
 "metadata": {
  "kernelspec": {
   "display_name": "Python 3 (ipykernel)",
   "language": "python",
   "name": "python3"
  },
  "language_info": {
   "codemirror_mode": {
    "name": "ipython",
    "version": 3
   },
   "file_extension": ".py",
   "mimetype": "text/x-python",
   "name": "python",
   "nbconvert_exporter": "python",
   "pygments_lexer": "ipython3",
   "version": "3.10.11"
  },
  "papermill": {
   "default_parameters": {},
   "duration": 433.438258,
   "end_time": "2023-10-30T07:19:46.277112",
   "environment_variables": {},
   "exception": null,
   "input_path": "03_entrenamiento.ipynb",
   "output_path": "ejecuciones/training/03_entrenamiento.20231030T081232.param_0000_9322_mul_s_MI_LR_L2.output.ipynb",
   "parameters": {
    "MAX_ITERS": 500,
    "M_CLASIF": "LR_L2",
    "M_FICHERO": "metricas_9322",
    "M_SELECT": "MI",
    "M_TIPO": "mul_s",
    "PRE_DATA_FILE": "rows_transpose_norm_by_gene_id_with_target_num_",
    "P_FICHERO": "param_0000_9322_mul_s_MI_LR_L2.yaml",
    "R_FICHERO": "resultados_9322",
    "SCORING": "roc_auc_ovr",
    "SEMILLA": 9322,
    "eval_clasifier": "LogisticRegressionCV(random_state=SEMILLA)",
    "eval_selector": "SelectKBest(score_func=mutual_info_classif_state)",
    "param_distributions": {
     "clasifier__max_iter": [
      10000
     ],
     "clasifier__penalty": [
      "l2"
     ],
     "clasifier__solver": [
      "saga"
     ],
     "selector__k": [
      500
     ]
    }
   },
   "start_time": "2023-10-30T07:12:32.838854",
   "version": "2.4.0"
  }
 },
 "nbformat": 4,
 "nbformat_minor": 5
}