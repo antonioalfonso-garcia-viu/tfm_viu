{
 "cells": [
  {
   "cell_type": "markdown",
   "id": "57f2049e",
   "metadata": {
    "papermill": {
     "duration": 0.009527,
     "end_time": "2023-10-30T16:56:22.571928",
     "exception": false,
     "start_time": "2023-10-30T16:56:22.562401",
     "status": "completed"
    },
    "tags": []
   },
   "source": [
    "##### Inicio"
   ]
  },
  {
   "cell_type": "markdown",
   "id": "e8898c92",
   "metadata": {
    "papermill": {
     "duration": 0.003504,
     "end_time": "2023-10-30T16:56:22.581945",
     "exception": false,
     "start_time": "2023-10-30T16:56:22.578441",
     "status": "completed"
    },
    "tags": []
   },
   "source": [
    "#### Carga de datos"
   ]
  },
  {
   "cell_type": "code",
   "execution_count": 1,
   "id": "2c8a7c3f",
   "metadata": {
    "execution": {
     "iopub.execute_input": "2023-10-30T16:56:22.587952Z",
     "iopub.status.busy": "2023-10-30T16:56:22.587952Z",
     "iopub.status.idle": "2023-10-30T16:56:23.807201Z",
     "shell.execute_reply": "2023-10-30T16:56:23.807201Z"
    },
    "papermill": {
     "duration": 1.223251,
     "end_time": "2023-10-30T16:56:23.808202",
     "exception": false,
     "start_time": "2023-10-30T16:56:22.584951",
     "status": "completed"
    },
    "tags": []
   },
   "outputs": [
    {
     "name": "stdout",
     "output_type": "stream",
     "text": [
      "CPU_COUNT: 24; NODE: amilcar32; sys.version: 3.10.12 | packaged by Anaconda, Inc. | (main, Jul  5 2023, 19:09:20) [MSC v.1916 64 bit (AMD64)]\n",
      "LOKY_MAX_CPU_COUNT is not set.\n",
      "OMP_NUM_THREADS is not set.\n"
     ]
    }
   ],
   "source": [
    "import os\n",
    "import numpy as np\n",
    "import pandas as pd\n",
    "import datetime\n",
    "import sklearn\n",
    "import logging\n",
    "import warnings\n",
    "\n",
    "from sklearn.pipeline import Pipeline\n",
    "from sklearn.model_selection import RandomizedSearchCV, KFold, cross_val_score, train_test_split\n",
    "from sklearn.metrics import accuracy_score, confusion_matrix, classification_report, roc_auc_score\n",
    "\n",
    "#  cargar algoritmos para aprendizaje supervisado\n",
    "from sklearn.feature_selection import SelectKBest, f_classif, SelectFromModel, mutual_info_classif\n",
    "from sklearn.svm import SVC\n",
    "from sklearn.ensemble import RandomForestClassifier\n",
    "from sklearn.linear_model import LogisticRegression,LogisticRegressionCV\n",
    "\n",
    "# importar fichero con utilidades propias\n",
    "from commons import myfunctions as myfunc\n"
   ]
  },
  {
   "cell_type": "markdown",
   "id": "fa173141",
   "metadata": {
    "papermill": {
     "duration": 0.003463,
     "end_time": "2023-10-30T16:56:23.815196",
     "exception": false,
     "start_time": "2023-10-30T16:56:23.811733",
     "status": "completed"
    },
    "tags": []
   },
   "source": [
    "#### Parámetros a utilizar en el entrenamiento.\n",
    "\n",
    "Se indican los 3 algoritmos de *selección de características* (eval_selector_xxx) y los 3 algoritmos para la _clasificación_ (eval_clasifier_xxx)\n",
    "\n",
    "En *param_distributions* se indicar los parámetros que utilizan los algoritmos en la función RandomSearchCV.\n",
    "\n",
    "Esta celda tiene la etiqueta **parameters** que servirá para poder lanzar los entrenamientos con la utilidad **papermill** pasándole un fichero con los parámetros. Los nuevos parámetros se situarán tras esta celda para tener prevalencia."
   ]
  },
  {
   "cell_type": "code",
   "execution_count": 2,
   "id": "0b8333ff",
   "metadata": {
    "execution": {
     "iopub.execute_input": "2023-10-30T16:56:23.824146Z",
     "iopub.status.busy": "2023-10-30T16:56:23.823145Z",
     "iopub.status.idle": "2023-10-30T16:56:23.845886Z",
     "shell.execute_reply": "2023-10-30T16:56:23.844893Z"
    },
    "papermill": {
     "duration": 0.028012,
     "end_time": "2023-10-30T16:56:23.847656",
     "exception": false,
     "start_time": "2023-10-30T16:56:23.819644",
     "status": "completed"
    },
    "tags": [
     "parameters"
    ]
   },
   "outputs": [
    {
     "name": "stdout",
     "output_type": "stream",
     "text": [
      "20231030T175623 : amilcar32 : INFO : Utilizando parámetros de mul_m\n"
     ]
    }
   ],
   "source": [
    "#  Parametros para el entrenamiento\n",
    "\n",
    "SEMILLA=        42\n",
    "M_TIPO=         \"mul_m\"\n",
    "M_SELECT=       \"MI\"\n",
    "M_CLASIF=       \"SVM\"\n",
    "R_FICHERO=      \"resultados\"\n",
    "M_FICHERO=      \"metricas\"\n",
    "PRE_DATA_FILE=  \"rows_transpose_norm_by_gene_id_with_target_num_\"\n",
    "SCORING=        \"roc_auc_ovr\" \n",
    "MAX_ITERS=      100\n",
    "\n",
    "def mutual_info_classif_state(X, y):\n",
    "    return mutual_info_classif(X, y, random_state=SEMILLA)\n",
    "\n",
    "eval_selector_mi = \"SelectKBest(score_func=mutual_info_classif_state)\"\n",
    "eval_selector_rf=  \"SelectFromModel(estimator=RandomForestClassifier(random_state=SEMILLA), threshold=-np.inf)\"\n",
    "eval_selector_anova=  \"SelectKBest(score_func=f_classif)\"\n",
    "\n",
    "eval_clasifier_svm= \"SVC(probability=True, random_state=SEMILLA)\"\n",
    "eval_clasifier_rf= \"RandomForestClassifier(random_state=SEMILLA)\"\n",
    "eval_clasifier_lr= \"LogisticRegressionCV(random_state=SEMILLA)\"\n",
    "\n",
    "if M_TIPO.startswith(\"bin_m\"):\n",
    "    myfunc.verbose(f\"Utilizando parámetros de {M_TIPO}\")\n",
    "    eval_selector = eval_selector_mi\n",
    "    eval_clasifier = eval_clasifier_svm\n",
    "\n",
    "    SEMILLA = 6578\n",
    "    M_SELECT = \"MI\"\n",
    "    M_CLASIF = \"SVM\"\n",
    "    param_distributions = {'selector__k': [1000], \n",
    "         'clasifier__kernel': ['rbf'], 'clasifier__gamma': [0.01], 'clasifier__C': [100]}\n",
    "elif M_TIPO.startswith(\"bin_s\"):\n",
    "    myfunc.verbose(f\"Utilizando parámetros de {M_TIPO}\")\n",
    "    eval_selector = eval_selector_rf\n",
    "    eval_clasifier = eval_clasifier_lr\n",
    "\n",
    "    SEMILLA = 6191\n",
    "    M_SELECT = \"RF\"\n",
    "    M_CLASIF = \"LR_L2\"\n",
    "    param_distributions = {'selector__max_features': [1000], 'selector__estimator__n_estimators': [200], \n",
    "        'clasifier__solver': ['lbfgs'], 'clasifier__penalty': ['l2'], 'clasifier__max_iter': [10000]}\n",
    "\n",
    "elif M_TIPO.startswith(\"mul_m\"):\n",
    "    myfunc.verbose(f\"Utilizando parámetros de {M_TIPO}\")\n",
    " \n",
    "    eval_selector = eval_selector_rf\n",
    "    eval_clasifier = eval_clasifier_lr\n",
    "\n",
    "    SEMILLA = 6191\n",
    "    M_SELECT = \"RF\"\n",
    "    M_CLASIF = \"LR_L2\"\n",
    "    param_distributions = {'selector__max_features': [1000], 'selector__estimator__n_estimators': [400], \n",
    "        'clasifier__solver': ['lbfgs'], 'clasifier__penalty': ['l2'], 'clasifier__max_iter': [10000]}\n",
    "\n",
    "else:\n",
    "    # M_TIPO.startswith(\"mul_s\"):\n",
    "    myfunc.verbose(f\"Utilizando parámetros de {M_TIPO}\")\n",
    "    eval_selector = eval_selector_anova\n",
    "    eval_clasifier = eval_clasifier_lr\n",
    "\n",
    "    SEMILLA = 1860\n",
    "    M_SELECT = \"ANOVA\"\n",
    "    M_CLASIF = \"LR_L2\"\n",
    "    param_distributions = {'selector__k': [1000], \n",
    "        'clasifier__solver': ['saga'], 'clasifier__penalty': ['l2'], 'clasifier__max_iter': [10000]}\n",
    "\n"
   ]
  },
  {
   "cell_type": "code",
   "execution_count": 3,
   "id": "6f38074e",
   "metadata": {
    "execution": {
     "iopub.execute_input": "2023-10-30T16:56:23.858891Z",
     "iopub.status.busy": "2023-10-30T16:56:23.858891Z",
     "iopub.status.idle": "2023-10-30T16:56:23.877043Z",
     "shell.execute_reply": "2023-10-30T16:56:23.876043Z"
    },
    "papermill": {
     "duration": 0.02618,
     "end_time": "2023-10-30T16:56:23.879043",
     "exception": false,
     "start_time": "2023-10-30T16:56:23.852863",
     "status": "completed"
    },
    "tags": [
     "injected-parameters"
    ]
   },
   "outputs": [],
   "source": [
    "# Parameters\n",
    "M_TIPO = \"mul_m\"\n",
    "M_SELECT = \"RF\"\n",
    "M_CLASIF = \"LR_L1\"\n",
    "P_FICHERO = \"param_0000_6578_mul_m_RF_LR_L1.yaml\"\n",
    "R_FICHERO = \"resultados_6578\"\n",
    "M_FICHERO = \"metricas_6578\"\n",
    "PRE_DATA_FILE = \"rows_transpose_norm_by_gene_id_with_target_num_\"\n",
    "SCORING = \"roc_auc_ovr\"\n",
    "SEMILLA = 6578\n",
    "MAX_ITERS = 500\n",
    "eval_selector = \"SelectFromModel(estimator=RandomForestClassifier(random_state=SEMILLA), threshold=-np.inf)\"\n",
    "eval_clasifier = \"LogisticRegressionCV(random_state=SEMILLA)\"\n",
    "param_distributions = {\n",
    "    \"selector__max_features\": [1000],\n",
    "    \"selector__estimator__n_estimators\": [400],\n",
    "    \"clasifier__solver\": [\"saga\"],\n",
    "    \"clasifier__penalty\": [\"l1\"],\n",
    "    \"clasifier__max_iter\": [10000],\n",
    "}\n"
   ]
  },
  {
   "cell_type": "code",
   "execution_count": 4,
   "id": "89b8f79e",
   "metadata": {
    "execution": {
     "iopub.execute_input": "2023-10-30T16:56:23.891660Z",
     "iopub.status.busy": "2023-10-30T16:56:23.891660Z",
     "iopub.status.idle": "2023-10-30T16:56:23.908378Z",
     "shell.execute_reply": "2023-10-30T16:56:23.907377Z"
    },
    "papermill": {
     "duration": 0.025333,
     "end_time": "2023-10-30T16:56:23.911907",
     "exception": false,
     "start_time": "2023-10-30T16:56:23.886574",
     "status": "completed"
    },
    "tags": []
   },
   "outputs": [],
   "source": [
    "DATA_FILE = PRE_DATA_FILE + M_TIPO\n",
    "\n",
    "# si viene \"None\" en el parámetro max_depth, se le quitan las comillas para que no sea entendido por el algoritmo como un texto\n",
    "if \"clasifier__max_depth\" in param_distributions:\n",
    "    param_distributions['clasifier__max_depth'] = [None if x == 'None' else x for x in param_distributions['clasifier__max_depth']]"
   ]
  },
  {
   "cell_type": "markdown",
   "id": "23154903",
   "metadata": {
    "papermill": {
     "duration": 0.005075,
     "end_time": "2023-10-30T16:56:23.924498",
     "exception": false,
     "start_time": "2023-10-30T16:56:23.919423",
     "status": "completed"
    },
    "tags": []
   },
   "source": [
    "Asignar los algoritmos que se utilizarán en la función RandomSearchCV"
   ]
  },
  {
   "cell_type": "code",
   "execution_count": 5,
   "id": "ac1896e6",
   "metadata": {
    "execution": {
     "iopub.execute_input": "2023-10-30T16:56:23.932820Z",
     "iopub.status.busy": "2023-10-30T16:56:23.932820Z",
     "iopub.status.idle": "2023-10-30T16:56:23.937822Z",
     "shell.execute_reply": "2023-10-30T16:56:23.937822Z"
    },
    "papermill": {
     "duration": 0.011841,
     "end_time": "2023-10-30T16:56:23.940330",
     "exception": false,
     "start_time": "2023-10-30T16:56:23.928489",
     "status": "completed"
    },
    "tags": []
   },
   "outputs": [],
   "source": [
    "algor_selector=eval(eval_selector)\n",
    "algor_clasifier=eval(eval_clasifier)"
   ]
  },
  {
   "cell_type": "markdown",
   "id": "dac51668",
   "metadata": {
    "papermill": {
     "duration": 0.002945,
     "end_time": "2023-10-30T16:56:23.948290",
     "exception": false,
     "start_time": "2023-10-30T16:56:23.945345",
     "status": "completed"
    },
    "tags": []
   },
   "source": [
    "#### Comprobar el entorno y leer fichero de muestras"
   ]
  },
  {
   "cell_type": "code",
   "execution_count": 6,
   "id": "94beebff",
   "metadata": {
    "execution": {
     "iopub.execute_input": "2023-10-30T16:56:23.954809Z",
     "iopub.status.busy": "2023-10-30T16:56:23.954809Z",
     "iopub.status.idle": "2023-10-30T16:56:24.129205Z",
     "shell.execute_reply": "2023-10-30T16:56:24.129205Z"
    },
    "papermill": {
     "duration": 0.180916,
     "end_time": "2023-10-30T16:56:24.131721",
     "exception": false,
     "start_time": "2023-10-30T16:56:23.950805",
     "status": "completed"
    },
    "tags": []
   },
   "outputs": [
    {
     "name": "stdout",
     "output_type": "stream",
     "text": [
      "20231030T175623 : amilcar32 : INFO : Encontrada carpeta DATA_DIR=..\\tfm_viu\\datos\n",
      "20231030T175623 : amilcar32 : INFO : Encontrada carpeta CFDNA_DIR=..\\tfm_viu\\datos\\cfDNA_5hmC\n",
      "20231030T175623 : amilcar32 : INFO : Encontrada carpeta GENCODE_DIR=..\\tfm_viu\\datos\\gencode\n",
      "20231030T175623 : amilcar32 : INFO : Encontrada carpeta H5_DIR=..\\tfm_viu\\datos\\h5\n",
      "20231030T175623 : amilcar32 : INFO : Encontrada carpeta LOG_DIR=..\\tfm_viu\\datos\\logs\n",
      "20231030T175623 : amilcar32 : INFO : Encontrada carpeta CSV_DIR=..\\tfm_viu\\datos\\csv\n",
      "20231030T175623 : amilcar32 : INFO : Encontrada carpeta MODEL_DIR=..\\tfm_viu\\ejecuciones\\modelos\n",
      "20231030T175623 : amilcar32 : INFO : Encontrada carpeta EXEC_DIR=..\\tfm_viu\\ejecuciones\n",
      "20231030T175623 : amilcar32 : INFO : Encontrada carpeta MET_DIR=..\\tfm_viu\\ejecuciones\\metricas\n",
      "20231030T175623 : amilcar32 : INFO : Inicio leer fichero h5 ..\\tfm_viu\\datos\\h5\\rows_transpose_norm_by_gene_id_with_target_num_mul_m.h5\n",
      "20231030T175623 : amilcar32 : INFO : Leyendo clave /df\n"
     ]
    },
    {
     "name": "stdout",
     "output_type": "stream",
     "text": [
      "20231030T175624 : amilcar32 : INFO : Tamaño (434, 18876)\n",
      "20231030T175624 : amilcar32 : INFO : Fin leer fichero h5 ..\\tfm_viu\\datos\\h5\\rows_transpose_norm_by_gene_id_with_target_num_mul_m.h5\n"
     ]
    },
    {
     "data": {
      "text/plain": [
       "target\n",
       "0    62\n",
       "1    62\n",
       "2    62\n",
       "3    62\n",
       "4    62\n",
       "5    62\n",
       "6    62\n",
       "dtype: int64"
      ]
     },
     "metadata": {},
     "output_type": "display_data"
    },
    {
     "name": "stdout",
     "output_type": "stream",
     "text": [
      "Shape df: (434, 18876)\n",
      "Shape X_train: (347, 18875)\n",
      "Shape X_test: (87, 18875)\n"
     ]
    }
   ],
   "source": [
    "start_time = datetime.datetime.now()\n",
    "\n",
    "myfunc.reset_vars()\n",
    "\n",
    "myfunc.NOTEBK_FILENAME = myfunc.get_nb_name()\n",
    "\n",
    "myfunc.check_enviroment(myfunc.DATA_DIR, myfunc.CFDNA_DIR, myfunc.GENCODE_DIR, myfunc.H5_DIR, myfunc.LOG_DIR, myfunc.CSV_DIR, myfunc.MODEL_DIR, myfunc.EXEC_DIR, myfunc.MET_DIR)\n",
    "\n",
    "# Leer fichero con las muestras\n",
    "df_t = myfunc.read_h5_to_df(DATA_FILE, myfunc.H5_DIR)\n",
    "display(df_t.groupby(\"target\").size())\n",
    "print(\"Shape df:\",df_t.shape)\n",
    "\n",
    "# Separar caracteristicas/genes de las etiquetas/tipos de cáncer\n",
    "X = df_t.iloc[:, :-1]  # Todas las columnas excepto la última\n",
    "y = df_t.iloc[:, -1]  # La última columna contiene los identificadores de los tipos de cáncer\n",
    "\n",
    "#  Crear el conjunto de datos de entrenamiento y de pruebas, y se fija la semilla para siempre coger el mismo juego de muestras\n",
    "X_train, X_test, y_train, y_test = train_test_split(X, y, test_size=0.2, shuffle=True, random_state=42)\n",
    "print(\"Shape X_train:\",X_train.shape)\n",
    "print(\"Shape X_test:\",X_test.shape)\n"
   ]
  },
  {
   "cell_type": "markdown",
   "id": "62b9a448",
   "metadata": {
    "papermill": {
     "duration": 0.003992,
     "end_time": "2023-10-30T16:56:24.140719",
     "exception": false,
     "start_time": "2023-10-30T16:56:24.136727",
     "status": "completed"
    },
    "tags": []
   },
   "source": [
    "#### Selección de características y clasificación."
   ]
  },
  {
   "cell_type": "code",
   "execution_count": 7,
   "id": "213a0837",
   "metadata": {
    "execution": {
     "iopub.execute_input": "2023-10-30T16:56:24.147782Z",
     "iopub.status.busy": "2023-10-30T16:56:24.147782Z",
     "iopub.status.idle": "2023-10-30T17:13:21.873149Z",
     "shell.execute_reply": "2023-10-30T17:13:21.873149Z"
    },
    "papermill": {
     "duration": 1017.731368,
     "end_time": "2023-10-30T17:13:21.875149",
     "exception": false,
     "start_time": "2023-10-30T16:56:24.143781",
     "status": "completed"
    },
    "tags": []
   },
   "outputs": [
    {
     "name": "stdout",
     "output_type": "stream",
     "text": [
      "20231030T175624 : amilcar32 : INFO : Iniciando entrenamiento\n",
      "num_iter: 1 , max_iter: 1\n"
     ]
    },
    {
     "name": "stdout",
     "output_type": "stream",
     "text": [
      "Fitting 5 folds for each of 1 candidates, totalling 5 fits\n"
     ]
    },
    {
     "name": "stdout",
     "output_type": "stream",
     "text": [
      "Mejores Hiperparámetros: {'selector__max_features': 1000, 'selector__estimator__n_estimators': 400, 'clasifier__solver': 'saga', 'clasifier__penalty': 'l1', 'clasifier__max_iter': 10000}\n",
      "Mejor Puntuación: 0.8675\n",
      "20231030T181321 : amilcar32 : INFO : Fin entrenamiento\n"
     ]
    }
   ],
   "source": [
    "myfunc.verbose(\"Iniciando entrenamiento\")\n",
    "\n",
    "kf = KFold(n_splits=5, shuffle=True, random_state=SEMILLA)\n",
    "\n",
    "# Crear el pipeline para el flujo de tareas\n",
    "tasks_pipeline = Pipeline([\n",
    "    ('selector', algor_selector),\n",
    "    ('clasifier', algor_clasifier)\n",
    "])\n",
    "\n",
    "# MAX_ITERS puede limitar el número de iteraciones si son excesivas para las combinaciones de parámetros buscando un óptimo local, \n",
    "# sino funcionaría como GridSearchCV al revisar todas las cominaciones de los parámetros\n",
    "num_iteraciones = 1\n",
    "num_iteraciones = num_iteraciones * np.prod([len(elemento1) for _, elemento1 in param_distributions.items()])\n",
    "max_iteraciones = num_iteraciones if num_iteraciones <= MAX_ITERS else MAX_ITERS\n",
    "print(\"num_iter:\",num_iteraciones,\", max_iter:\",max_iteraciones)\n",
    "\n",
    "random_search = RandomizedSearchCV(\n",
    "    tasks_pipeline, \n",
    "    param_distributions, \n",
    "    n_iter=max_iteraciones,\n",
    "    scoring=SCORING,\n",
    "    cv=kf,\n",
    "    verbose=3, \n",
    "    random_state=SEMILLA, \n",
    "    n_jobs=-1\n",
    "    )\n",
    "\n",
    "# Entrenar el modelo\n",
    "random_search.fit(X_train, y_train)\n",
    "\n",
    "# Ver los mejores hiperparámetros encontrados\n",
    "print(f'Mejores Hiperparámetros: {random_search.best_params_}')\n",
    "print(f'Mejor Puntuación: {random_search.best_score_:.4f}')\n",
    "\n",
    "# Nos quedamos con el mejor modelo para ver las métricas\n",
    "mejor_modelo = random_search.best_estimator_\n",
    "\n",
    "myfunc.verbose(\"Fin entrenamiento\")"
   ]
  },
  {
   "cell_type": "markdown",
   "id": "981ade7a",
   "metadata": {
    "papermill": {
     "duration": 0.004041,
     "end_time": "2023-10-30T17:13:21.882190",
     "exception": false,
     "start_time": "2023-10-30T17:13:21.878149",
     "status": "completed"
    },
    "tags": []
   },
   "source": [
    "#### Guardar modelo"
   ]
  },
  {
   "cell_type": "code",
   "execution_count": 8,
   "id": "95270a9c",
   "metadata": {
    "execution": {
     "iopub.execute_input": "2023-10-30T17:13:21.889303Z",
     "iopub.status.busy": "2023-10-30T17:13:21.889303Z",
     "iopub.status.idle": "2023-10-30T17:13:22.032327Z",
     "shell.execute_reply": "2023-10-30T17:13:22.031324Z"
    },
    "papermill": {
     "duration": 0.149128,
     "end_time": "2023-10-30T17:13:22.034326",
     "exception": false,
     "start_time": "2023-10-30T17:13:21.885198",
     "status": "completed"
    },
    "tags": []
   },
   "outputs": [
    {
     "name": "stdout",
     "output_type": "stream",
     "text": [
      "20231030T181321 : amilcar32 : INFO : Inicio guardar fichero ..\\tfm_viu\\ejecuciones\\modelos\\modelo_6578_mul_m_RF_LR_L1.pkl\n",
      "20231030T181322 : amilcar32 : INFO : Fin guardar fichero ..\\tfm_viu\\ejecuciones\\modelos\\modelo_6578_mul_m_RF_LR_L1.pkl\n"
     ]
    }
   ],
   "source": [
    "fichero_modelo = str.replace(\"modelo_\"+str(SEMILLA).zfill(4)+\"_\"+M_TIPO+\"_\"+M_SELECT+\"_\"+M_CLASIF+\".pkl\", \" \", \"_\")\n",
    "\n",
    "myfunc.save_modelo(mejor_modelo, myfunc.MODEL_DIR, fichero_modelo)"
   ]
  },
  {
   "cell_type": "markdown",
   "id": "fdc62779",
   "metadata": {
    "papermill": {
     "duration": 0.008005,
     "end_time": "2023-10-30T17:13:22.049980",
     "exception": false,
     "start_time": "2023-10-30T17:13:22.041975",
     "status": "completed"
    },
    "tags": []
   },
   "source": [
    "#### Ver resultados del las iteraciones hechas por RandomSearchCV"
   ]
  },
  {
   "cell_type": "code",
   "execution_count": 9,
   "id": "c4af2f80",
   "metadata": {
    "execution": {
     "iopub.execute_input": "2023-10-30T17:13:22.059491Z",
     "iopub.status.busy": "2023-10-30T17:13:22.059491Z",
     "iopub.status.idle": "2023-10-30T17:13:22.072984Z",
     "shell.execute_reply": "2023-10-30T17:13:22.072775Z"
    },
    "papermill": {
     "duration": 0.019483,
     "end_time": "2023-10-30T17:13:22.073986",
     "exception": false,
     "start_time": "2023-10-30T17:13:22.054503",
     "status": "completed"
    },
    "tags": []
   },
   "outputs": [
    {
     "name": "stdout",
     "output_type": "stream",
     "text": [
      "20231030T181322 : amilcar32 : INFO : Inicio ver resultados\n",
      "Mejores Hiperparámetros: {'selector__max_features': 1000, 'selector__estimator__n_estimators': 400, 'clasifier__solver': 'saga', 'clasifier__penalty': 'l1', 'clasifier__max_iter': 10000}\n",
      "Mejores puntuaciones: 0.8675 | Params: {'selector__max_features': 1000, 'selector__estimator__n_estimators': 400, 'clasifier__solver': 'saga', 'clasifier__penalty': 'l1', 'clasifier__max_iter': 10000}\n",
      "Media de las puntuaciones: 0.8675 | Params: {'selector__max_features': 1000, 'selector__estimator__n_estimators': 400, 'clasifier__solver': 'saga', 'clasifier__penalty': 'l1', 'clasifier__max_iter': 10000}\n",
      "20231030T181322 : amilcar32 : INFO : Fin resultados\n"
     ]
    }
   ],
   "source": [
    "myfunc.ver_resultados_search(random_search)"
   ]
  },
  {
   "cell_type": "markdown",
   "id": "b161ec37",
   "metadata": {
    "papermill": {
     "duration": 0.004514,
     "end_time": "2023-10-30T17:13:22.082498",
     "exception": false,
     "start_time": "2023-10-30T17:13:22.077984",
     "status": "completed"
    },
    "tags": []
   },
   "source": [
    "#### Ver métricas del mejor modelo"
   ]
  },
  {
   "cell_type": "code",
   "execution_count": 10,
   "id": "46c08856",
   "metadata": {
    "execution": {
     "iopub.execute_input": "2023-10-30T17:13:22.093144Z",
     "iopub.status.busy": "2023-10-30T17:13:22.093144Z",
     "iopub.status.idle": "2023-10-30T17:13:22.902333Z",
     "shell.execute_reply": "2023-10-30T17:13:22.901418Z"
    },
    "papermill": {
     "duration": 0.816836,
     "end_time": "2023-10-30T17:13:22.903332",
     "exception": false,
     "start_time": "2023-10-30T17:13:22.086496",
     "status": "completed"
    },
    "tags": []
   },
   "outputs": [
    {
     "name": "stdout",
     "output_type": "stream",
     "text": [
      "20231030T181322 : amilcar32 : INFO : Inicio ver métricas multiclase\n"
     ]
    },
    {
     "name": "stdout",
     "output_type": "stream",
     "text": [
      "              precision    recall  f1-score   support\n",
      "\n",
      "           0       0.45      0.31      0.37        16\n",
      "           1       0.69      0.60      0.64        15\n",
      "           2       0.33      0.27      0.30        11\n",
      "           3       0.12      0.40      0.19         5\n",
      "           4       0.62      0.38      0.48        13\n",
      "           5       0.64      0.78      0.70         9\n",
      "           6       0.63      0.67      0.65        18\n",
      "\n",
      "    accuracy                           0.49        87\n",
      "   macro avg       0.50      0.49      0.48        87\n",
      "weighted avg       0.54      0.49      0.51        87\n",
      "\n",
      "\n",
      "\n",
      "           Exactitud: 0.494253\n",
      "   Precisión (media): 0.499733\n",
      "      Recall (media): 0.487755\n",
      "    F1-score (media): 0.475506\n",
      "\n",
      "\n",
      "AUC para el tipo de cáncer 0-Control.... 0.7579\n",
      "AUC para el tipo de cáncer 1-Bladder.... 0.8676\n",
      "AUC para el tipo de cáncer 2-Breast..... 0.6914\n",
      "AUC para el tipo de cáncer 3-Colorectal. 0.8073\n",
      "AUC para el tipo de cáncer 4-Kidney..... 0.9189\n",
      "AUC para el tipo de cáncer 5-Lung....... 0.9758\n",
      "AUC para el tipo de cáncer 6-Prostate... 0.8406\n",
      "\n",
      "Media de AUC: 0.8371\n"
     ]
    },
    {
     "data": {
      "image/png": "[encoded data removed]",
      "text/plain": [
       "<Figure size 1000x600 with 1 Axes>"
      ]
     },
     "metadata": {},
     "output_type": "display_data"
    },
    {
     "name": "stdout",
     "output_type": "stream",
     "text": [
      "\n",
      "\n"
     ]
    },
    {
     "data": {
      "image/png": "[encoded data removed]",
      "text/plain": [
       "<Figure size 800x400 with 2 Axes>"
      ]
     },
     "metadata": {},
     "output_type": "display_data"
    },
    {
     "name": "stdout",
     "output_type": "stream",
     "text": [
      "\n",
      "\n",
      "Puntuación Jaccard para el cáncer tipo 0-Control.... 0.2273\n",
      "Puntuación Jaccard para el cáncer tipo 1-Bladder.... 0.4737\n",
      "Puntuación Jaccard para el cáncer tipo 2-Breast..... 0.1765\n",
      "Puntuación Jaccard para el cáncer tipo 3-Colorectal. 0.1053\n",
      "Puntuación Jaccard para el cáncer tipo 4-Kidney..... 0.3125\n",
      "Puntuación Jaccard para el cáncer tipo 5-Lung....... 0.5385\n",
      "Puntuación Jaccard para el cáncer tipo 6-Prostate... 0.4800\n",
      "\n",
      "Media de la puntuación de Jaccard: 0.3305\n"
     ]
    }
   ],
   "source": [
    "if M_TIPO.startswith(\"bin\"):\n",
    "    myfunc.ver_metricas(mejor_modelo, X_test, y_test)\n",
    "else:\n",
    "    myfunc.ver_metricas_multi(mejor_modelo, X_test, y_test)\n"
   ]
  },
  {
   "cell_type": "markdown",
   "id": "be79d9f3",
   "metadata": {
    "papermill": {
     "duration": 0.007373,
     "end_time": "2023-10-30T17:13:22.917707",
     "exception": false,
     "start_time": "2023-10-30T17:13:22.910334",
     "status": "completed"
    },
    "tags": []
   },
   "source": [
    "#### Finalización del notebook"
   ]
  },
  {
   "cell_type": "code",
   "execution_count": 11,
   "id": "f7f7d4c8",
   "metadata": {
    "execution": {
     "iopub.execute_input": "2023-10-30T17:13:22.929698Z",
     "iopub.status.busy": "2023-10-30T17:13:22.928651Z",
     "iopub.status.idle": "2023-10-30T17:13:22.932258Z",
     "shell.execute_reply": "2023-10-30T17:13:22.932258Z"
    },
    "papermill": {
     "duration": 0.010029,
     "end_time": "2023-10-30T17:13:22.933257",
     "exception": false,
     "start_time": "2023-10-30T17:13:22.923228",
     "status": "completed"
    },
    "tags": []
   },
   "outputs": [
    {
     "name": "stdout",
     "output_type": "stream",
     "text": [
      "20231030T181322 : amilcar32 : INFO : Notebook ha tardado 1018 seconds\n"
     ]
    }
   ],
   "source": [
    "end_time = datetime.datetime.now()\n",
    "total_time = end_time - start_time\n",
    "myfunc.verbose(f\"Notebook ha tardado {total_time.seconds} seconds\")"
   ]
  },
  {
   "cell_type": "markdown",
   "id": "6f1157c0",
   "metadata": {
    "papermill": {
     "duration": 0.004047,
     "end_time": "2023-10-30T17:13:22.942425",
     "exception": false,
     "start_time": "2023-10-30T17:13:22.938378",
     "status": "completed"
    },
    "tags": []
   },
   "source": [
    "#### Guardar métricas"
   ]
  },
  {
   "cell_type": "code",
   "execution_count": 12,
   "id": "3de7f1ad",
   "metadata": {
    "execution": {
     "iopub.execute_input": "2023-10-30T17:13:22.953595Z",
     "iopub.status.busy": "2023-10-30T17:13:22.952595Z",
     "iopub.status.idle": "2023-10-30T17:13:23.686437Z",
     "shell.execute_reply": "2023-10-30T17:13:23.685438Z"
    },
    "papermill": {
     "duration": 0.742713,
     "end_time": "2023-10-30T17:13:23.690146",
     "exception": false,
     "start_time": "2023-10-30T17:13:22.947433",
     "status": "completed"
    },
    "tags": []
   },
   "outputs": [
    {
     "name": "stdout",
     "output_type": "stream",
     "text": [
      "20231030T181323 : amilcar32 : INFO : Inicio guardar métricas multiclase\n",
      "20231030T181323 : amilcar32 : INFO : Inicio leer fichero ..\\tfm_viu\\ejecuciones\\metricas\\metricas_6578.csv\n",
      "20231030T181323 : amilcar32 : INFO : Fin leer fichero ..\\tfm_viu\\ejecuciones\\metricas\\metricas_6578.csv\n"
     ]
    },
    {
     "name": "stdout",
     "output_type": "stream",
     "text": [
      "20231030T181323 : amilcar32 : INFO : Inicio guardar fichero ..\\tfm_viu\\ejecuciones\\metricas\\metricas_6578.csv\n",
      "20231030T181323 : amilcar32 : INFO : Fichero borrado ..\\tfm_viu\\ejecuciones\\metricas\\metricas_6578.csv\n",
      "20231030T181323 : amilcar32 : INFO : Fin guardar fichero ..\\tfm_viu\\ejecuciones\\metricas\\metricas_6578.csv\n",
      "20231030T181323 : amilcar32 : INFO : Fin guardar métricas multiclase\n",
      "20231030T181323 : amilcar32 : INFO : Inicio leer fichero ..\\tfm_viu\\ejecuciones\\metricas\\metricas_6578.csv\n",
      "20231030T181323 : amilcar32 : INFO : Fin leer fichero ..\\tfm_viu\\ejecuciones\\metricas\\metricas_6578.csv\n"
     ]
    },
    {
     "data": {
      "text/html": [
       "<div>\n",
       "<style scoped>\n",
       "    .dataframe tbody tr th:only-of-type {\n",
       "        vertical-align: middle;\n",
       "    }\n",
       "\n",
       "    .dataframe tbody tr th {\n",
       "        vertical-align: top;\n",
       "    }\n",
       "\n",
       "    .dataframe thead th {\n",
       "        text-align: right;\n",
       "    }\n",
       "</style>\n",
       "<table border=\"1\" class=\"dataframe\">\n",
       "  <thead>\n",
       "    <tr style=\"text-align: right;\">\n",
       "      <th></th>\n",
       "      <th>tipo</th>\n",
       "      <th>select</th>\n",
       "      <th>clasific</th>\n",
       "      <th>semilla</th>\n",
       "      <th>accuracy</th>\n",
       "      <th>precision</th>\n",
       "      <th>recall</th>\n",
       "      <th>f1_score</th>\n",
       "      <th>roc_auc</th>\n",
       "      <th>hostname</th>\n",
       "      <th>total_time_sec</th>\n",
       "      <th>datetime</th>\n",
       "      <th>fichero_modelo</th>\n",
       "      <th>params</th>\n",
       "      <th>shape</th>\n",
       "      <th>features</th>\n",
       "      <th>roc_auc_ovr</th>\n",
       "      <th>indices_auc</th>\n",
       "      <th>indices_jaccard</th>\n",
       "    </tr>\n",
       "  </thead>\n",
       "  <tbody>\n",
       "    <tr>\n",
       "      <th>0</th>\n",
       "      <td>mul_m</td>\n",
       "      <td>RF</td>\n",
       "      <td>LR_L1</td>\n",
       "      <td>6578</td>\n",
       "      <td>0.494253</td>\n",
       "      <td>0.499733</td>\n",
       "      <td>0.487755</td>\n",
       "      <td>0.475506</td>\n",
       "      <td>NaN</td>\n",
       "      <td>amilcar32</td>\n",
       "      <td>1018</td>\n",
       "      <td>2023-10-30 18:13:23.620333</td>\n",
       "      <td>modelo_6578_mul_m_RF_LR_L1.pkl</td>\n",
       "      <td>{'selector__max_features': 1000, 'selector__es...</td>\n",
       "      <td>X_test:(87, 18875)</td>\n",
       "      <td>['ENSG00000000971.17', 'ENSG00000003137.9', 'E...</td>\n",
       "      <td>0.837072</td>\n",
       "      <td>[0.7579225352112676, 0.8675925925925927, 0.691...</td>\n",
       "      <td>[0.22727272727272727, 0.47368421052631576, 0.1...</td>\n",
       "    </tr>\n",
       "    <tr>\n",
       "      <th>0</th>\n",
       "      <td>mul_m</td>\n",
       "      <td>RF</td>\n",
       "      <td>LR_EN</td>\n",
       "      <td>6578</td>\n",
       "      <td>0.574713</td>\n",
       "      <td>0.565620</td>\n",
       "      <td>0.583619</td>\n",
       "      <td>0.555161</td>\n",
       "      <td>NaN</td>\n",
       "      <td>amilcar32</td>\n",
       "      <td>881</td>\n",
       "      <td>2023-10-30 17:56:19.277788</td>\n",
       "      <td>modelo_6578_mul_m_RF_LR_EN.pkl</td>\n",
       "      <td>{'selector__max_features': 1000, 'selector__es...</td>\n",
       "      <td>X_test:(87, 18875)</td>\n",
       "      <td>['ENSG00000000971.17', 'ENSG00000003137.9', 'E...</td>\n",
       "      <td>0.854496</td>\n",
       "      <td>[0.789612676056338, 0.8685185185185185, 0.7057...</td>\n",
       "      <td>[0.2727272727272727, 0.5, 0.2, 0.2, 0.53333333...</td>\n",
       "    </tr>\n",
       "    <tr>\n",
       "      <th>0</th>\n",
       "      <td>mul_m</td>\n",
       "      <td>MI</td>\n",
       "      <td>SVM</td>\n",
       "      <td>6578</td>\n",
       "      <td>0.505747</td>\n",
       "      <td>0.512032</td>\n",
       "      <td>0.539066</td>\n",
       "      <td>0.514065</td>\n",
       "      <td>NaN</td>\n",
       "      <td>amilcar32</td>\n",
       "      <td>134</td>\n",
       "      <td>2023-10-30 17:41:32.706844</td>\n",
       "      <td>modelo_6578_mul_m_MI_SVM.pkl</td>\n",
       "      <td>{'selector__k': 1000, 'clasifier__kernel': 'rb...</td>\n",
       "      <td>X_test:(87, 18875)</td>\n",
       "      <td>['ENSG00000001084.13', 'ENSG00000001460.18', '...</td>\n",
       "      <td>0.820154</td>\n",
       "      <td>[0.772887323943662, 0.8361111111111111, 0.7236...</td>\n",
       "      <td>[0.17391304347826086, 0.3888888888888889, 0.21...</td>\n",
       "    </tr>\n",
       "  </tbody>\n",
       "</table>\n",
       "</div>"
      ],
      "text/plain": [
       "    tipo select clasific  semilla  accuracy  precision    recall  f1_score  \\\n",
       "0  mul_m     RF    LR_L1     6578  0.494253   0.499733  0.487755  0.475506   \n",
       "0  mul_m     RF    LR_EN     6578  0.574713   0.565620  0.583619  0.555161   \n",
       "0  mul_m     MI      SVM     6578  0.505747   0.512032  0.539066  0.514065   \n",
       "\n",
       "   roc_auc   hostname  total_time_sec                    datetime  \\\n",
       "0      NaN  amilcar32            1018  2023-10-30 18:13:23.620333   \n",
       "0      NaN  amilcar32             881  2023-10-30 17:56:19.277788   \n",
       "0      NaN  amilcar32             134  2023-10-30 17:41:32.706844   \n",
       "\n",
       "                   fichero_modelo  \\\n",
       "0  modelo_6578_mul_m_RF_LR_L1.pkl   \n",
       "0  modelo_6578_mul_m_RF_LR_EN.pkl   \n",
       "0    modelo_6578_mul_m_MI_SVM.pkl   \n",
       "\n",
       "                                              params               shape  \\\n",
       "0  {'selector__max_features': 1000, 'selector__es...  X_test:(87, 18875)   \n",
       "0  {'selector__max_features': 1000, 'selector__es...  X_test:(87, 18875)   \n",
       "0  {'selector__k': 1000, 'clasifier__kernel': 'rb...  X_test:(87, 18875)   \n",
       "\n",
       "                                            features  roc_auc_ovr  \\\n",
       "0  ['ENSG00000000971.17', 'ENSG00000003137.9', 'E...     0.837072   \n",
       "0  ['ENSG00000000971.17', 'ENSG00000003137.9', 'E...     0.854496   \n",
       "0  ['ENSG00000001084.13', 'ENSG00000001460.18', '...     0.820154   \n",
       "\n",
       "                                         indices_auc  \\\n",
       "0  [0.7579225352112676, 0.8675925925925927, 0.691...   \n",
       "0  [0.789612676056338, 0.8685185185185185, 0.7057...   \n",
       "0  [0.772887323943662, 0.8361111111111111, 0.7236...   \n",
       "\n",
       "                                     indices_jaccard  \n",
       "0  [0.22727272727272727, 0.47368421052631576, 0.1...  \n",
       "0  [0.2727272727272727, 0.5, 0.2, 0.2, 0.53333333...  \n",
       "0  [0.17391304347826086, 0.3888888888888889, 0.21...  "
      ]
     },
     "metadata": {},
     "output_type": "display_data"
    }
   ],
   "source": [
    "if M_TIPO.startswith(\"bin\"):\n",
    "    myfunc.save_metricas_to_csv(random_search, X_test, y_test, M_TIPO, M_SELECT, M_CLASIF, total_time, SEMILLA, myfunc.MET_DIR, M_FICHERO, fichero_modelo)\n",
    "else:\n",
    "    myfunc.save_metricas_multi_to_csv(random_search, X_test, y_test, M_TIPO, M_SELECT, M_CLASIF, total_time, SEMILLA, myfunc.MET_DIR, M_FICHERO, fichero_modelo)\n",
    "\n",
    "df1=myfunc.read_metricas_to_df(myfunc.MET_DIR,M_FICHERO)\n",
    "\n",
    "display(df1.sort_values(\"datetime\", ascending=False)[:3])\n"
   ]
  },
  {
   "cell_type": "markdown",
   "id": "665d204d",
   "metadata": {
    "papermill": {
     "duration": 0.008513,
     "end_time": "2023-10-30T17:13:23.710185",
     "exception": false,
     "start_time": "2023-10-30T17:13:23.701672",
     "status": "completed"
    },
    "tags": []
   },
   "source": [
    "#### Guardar resultados"
   ]
  },
  {
   "cell_type": "code",
   "execution_count": 13,
   "id": "492aaaa0",
   "metadata": {
    "execution": {
     "iopub.execute_input": "2023-10-30T17:13:23.734768Z",
     "iopub.status.busy": "2023-10-30T17:13:23.733767Z",
     "iopub.status.idle": "2023-10-30T17:13:23.748145Z",
     "shell.execute_reply": "2023-10-30T17:13:23.748145Z"
    },
    "papermill": {
     "duration": 0.030541,
     "end_time": "2023-10-30T17:13:23.750902",
     "exception": false,
     "start_time": "2023-10-30T17:13:23.720361",
     "status": "completed"
    },
    "tags": []
   },
   "outputs": [
    {
     "name": "stdout",
     "output_type": "stream",
     "text": [
      "20231030T181323 : amilcar32 : INFO : Inicio guardar resultados\n",
      "20231030T181323 : amilcar32 : INFO : Inicio guardar fichero ..\\tfm_viu\\ejecuciones\\metricas\\resultados_6578_mul_m-RF-LR_L1.csv\n",
      "20231030T181323 : amilcar32 : INFO : Fin guardar fichero ..\\tfm_viu\\ejecuciones\\metricas\\resultados_6578_mul_m-RF-LR_L1.csv\n",
      "20231030T181323 : amilcar32 : INFO : Fin guardar resultados\n"
     ]
    }
   ],
   "source": [
    "fichero_resultados=R_FICHERO+\"_\"+M_TIPO+\"-\"+M_SELECT+\"-\"+M_CLASIF+\".csv\"\n",
    "myfunc.save_resultados_to_csv(M_TIPO, M_SELECT, M_CLASIF,  random_search, myfunc.MET_DIR, fichero_resultados)\n"
   ]
  }
 ],
 "metadata": {
  "kernelspec": {
   "display_name": "Python 3 (ipykernel)",
   "language": "python",
   "name": "python3"
  },
  "language_info": {
   "codemirror_mode": {
    "name": "ipython",
    "version": 3
   },
   "file_extension": ".py",
   "mimetype": "text/x-python",
   "name": "python",
   "nbconvert_exporter": "python",
   "pygments_lexer": "ipython3",
   "version": "3.10.12"
  },
  "papermill": {
   "default_parameters": {},
   "duration": 1023.597716,
   "end_time": "2023-10-30T17:13:24.190168",
   "environment_variables": {},
   "exception": null,
   "input_path": "03_entrenamiento.ipynb",
   "output_path": "ejecuciones\\training\\03_entrenamiento.20231030T175619.param_0000_6578_mul_m_RF_LR_L1.output.ipynb",
   "parameters": {
    "MAX_ITERS": 500,
    "M_CLASIF": "LR_L1",
    "M_FICHERO": "metricas_6578",
    "M_SELECT": "RF",
    "M_TIPO": "mul_m",
    "PRE_DATA_FILE": "rows_transpose_norm_by_gene_id_with_target_num_",
    "P_FICHERO": "param_0000_6578_mul_m_RF_LR_L1.yaml",
    "R_FICHERO": "resultados_6578",
    "SCORING": "roc_auc_ovr",
    "SEMILLA": 6578,
    "eval_clasifier": "LogisticRegressionCV(random_state=SEMILLA)",
    "eval_selector": "SelectFromModel(estimator=RandomForestClassifier(random_state=SEMILLA), threshold=-np.inf)",
    "param_distributions": {
     "clasifier__max_iter": [
      10000
     ],
     "clasifier__penalty": [
      "l1"
     ],
     "clasifier__solver": [
      "saga"
     ],
     "selector__estimator__n_estimators": [
      400
     ],
     "selector__max_features": [
      1000
     ]
    }
   },
   "start_time": "2023-10-30T16:56:20.592452",
   "version": "2.4.0"
  }
 },
 "nbformat": 4,
 "nbformat_minor": 5
}