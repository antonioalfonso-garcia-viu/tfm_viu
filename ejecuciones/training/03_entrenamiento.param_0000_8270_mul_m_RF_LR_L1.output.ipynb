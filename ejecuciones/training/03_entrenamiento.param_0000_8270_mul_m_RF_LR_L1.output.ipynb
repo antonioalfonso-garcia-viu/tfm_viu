{
 "cells": [
  {
   "cell_type": "markdown",
   "id": "766c1f4a",
   "metadata": {
    "papermill": {
     "duration": 0.005702,
     "end_time": "2023-10-29T23:05:01.105583",
     "exception": false,
     "start_time": "2023-10-29T23:05:01.099881",
     "status": "completed"
    },
    "tags": []
   },
   "source": [
    "##### Inicio"
   ]
  },
  {
   "cell_type": "markdown",
   "id": "b535b1bb",
   "metadata": {
    "papermill": {
     "duration": 0.017692,
     "end_time": "2023-10-29T23:05:01.127004",
     "exception": false,
     "start_time": "2023-10-29T23:05:01.109312",
     "status": "completed"
    },
    "tags": []
   },
   "source": [
    "#### Carga de datos"
   ]
  },
  {
   "cell_type": "code",
   "execution_count": 1,
   "id": "703fb0de",
   "metadata": {
    "execution": {
     "iopub.execute_input": "2023-10-29T23:05:01.135443Z",
     "iopub.status.busy": "2023-10-29T23:05:01.134838Z",
     "iopub.status.idle": "2023-10-29T23:05:02.270449Z",
     "shell.execute_reply": "2023-10-29T23:05:02.269472Z"
    },
    "papermill": {
     "duration": 1.141645,
     "end_time": "2023-10-29T23:05:02.272053",
     "exception": false,
     "start_time": "2023-10-29T23:05:01.130408",
     "status": "completed"
    },
    "tags": []
   },
   "outputs": [
    {
     "name": "stdout",
     "output_type": "stream",
     "text": [
      "CPU_COUNT: 16; NODE: enderlab; sys.version: 3.10.11 (main, May 16 2023, 00:28:57) [GCC 11.2.0]\n",
      "LOKY_MAX_CPU_COUNT is not set.\n",
      "OMP_NUM_THREADS is not set.\n"
     ]
    }
   ],
   "source": [
    "import os\n",
    "import numpy as np\n",
    "import pandas as pd\n",
    "import datetime\n",
    "import sklearn\n",
    "import logging\n",
    "import warnings\n",
    "\n",
    "from sklearn.pipeline import Pipeline\n",
    "from sklearn.model_selection import RandomizedSearchCV, KFold, cross_val_score, train_test_split\n",
    "from sklearn.metrics import accuracy_score, confusion_matrix, classification_report, roc_auc_score\n",
    "\n",
    "#  cargar algoritmos para aprendizaje supervisado\n",
    "from sklearn.feature_selection import SelectKBest, f_classif, SelectFromModel, mutual_info_classif\n",
    "from sklearn.svm import SVC\n",
    "from sklearn.ensemble import RandomForestClassifier\n",
    "from sklearn.linear_model import LogisticRegression,LogisticRegressionCV\n",
    "\n",
    "# importar fichero con utilidades propias\n",
    "from commons import myfunctions as myfunc\n"
   ]
  },
  {
   "cell_type": "markdown",
   "id": "c56513fa",
   "metadata": {
    "papermill": {
     "duration": 0.003897,
     "end_time": "2023-10-29T23:05:02.280186",
     "exception": false,
     "start_time": "2023-10-29T23:05:02.276289",
     "status": "completed"
    },
    "tags": []
   },
   "source": [
    "#### Parámetros a utilizar en el entrenamiento.\n",
    "\n",
    "Se indican los 3 algoritmos de *selección de características* (eval_selector_xxx) y los 3 algoritmos para la _clasificación_ (eval_clasifier_xxx)\n",
    "\n",
    "En *param_distributions* se indicar los parámetros que utilizan los algoritmos en la función RandomSearchCV.\n",
    "\n",
    "Esta celda tiene la etiqueta **parameters** que servirá para poder lanzar los entrenamientos con la utilidad **papermill** pasándole un fichero con los parámetros. Los nuevos parámetros se situarán tras esta celda para tener prevalencia."
   ]
  },
  {
   "cell_type": "code",
   "execution_count": 2,
   "id": "4dacb576",
   "metadata": {
    "execution": {
     "iopub.execute_input": "2023-10-29T23:05:02.294226Z",
     "iopub.status.busy": "2023-10-29T23:05:02.293307Z",
     "iopub.status.idle": "2023-10-29T23:05:02.303076Z",
     "shell.execute_reply": "2023-10-29T23:05:02.302376Z"
    },
    "papermill": {
     "duration": 0.02042,
     "end_time": "2023-10-29T23:05:02.304487",
     "exception": false,
     "start_time": "2023-10-29T23:05:02.284067",
     "status": "completed"
    },
    "tags": [
     "parameters"
    ]
   },
   "outputs": [
    {
     "name": "stdout",
     "output_type": "stream",
     "text": [
      "20231030T000502 : enderlab : INFO : Utilizando parámetros de mul_m\n"
     ]
    }
   ],
   "source": [
    "#  Parametros para el entrenamiento\n",
    "\n",
    "SEMILLA=        42\n",
    "M_TIPO=         \"mul_m\"\n",
    "M_SELECT=       \"MI\"\n",
    "M_CLASIF=       \"SVM\"\n",
    "R_FICHERO=      \"resultados\"\n",
    "M_FICHERO=      \"metricas\"\n",
    "PRE_DATA_FILE=  \"rows_transpose_norm_by_gene_id_with_target_num_\"\n",
    "SCORING=        \"roc_auc_ovr\" \n",
    "MAX_ITERS=      100\n",
    "\n",
    "def mutual_info_classif_state(X, y):\n",
    "    return mutual_info_classif(X, y, random_state=SEMILLA)\n",
    "\n",
    "eval_selector_mi = \"SelectKBest(score_func=mutual_info_classif_state)\"\n",
    "eval_selector_rf=  \"SelectFromModel(estimator=RandomForestClassifier(random_state=SEMILLA), threshold=-np.inf)\"\n",
    "eval_selector_anova=  \"SelectKBest(score_func=f_classif)\"\n",
    "\n",
    "eval_clasifier_svm= \"SVC(probability=True, random_state=SEMILLA)\"\n",
    "eval_clasifier_rf= \"RandomForestClassifier(random_state=SEMILLA)\"\n",
    "eval_clasifier_lr= \"LogisticRegressionCV(random_state=SEMILLA)\"\n",
    "\n",
    "if M_TIPO.startswith(\"bin_m\"):\n",
    "    myfunc.verbose(f\"Utilizando parámetros de {M_TIPO}\")\n",
    "    eval_selector = eval_selector_mi\n",
    "    eval_clasifier = eval_clasifier_svm\n",
    "\n",
    "    SEMILLA = 6578\n",
    "    M_SELECT = \"MI\"\n",
    "    M_CLASIF = \"SVM\"\n",
    "    param_distributions = {'selector__k': [1000], \n",
    "         'clasifier__kernel': ['rbf'], 'clasifier__gamma': [0.01], 'clasifier__C': [100]}\n",
    "elif M_TIPO.startswith(\"bin_s\"):\n",
    "    myfunc.verbose(f\"Utilizando parámetros de {M_TIPO}\")\n",
    "    eval_selector = eval_selector_rf\n",
    "    eval_clasifier = eval_clasifier_lr\n",
    "\n",
    "    SEMILLA = 6191\n",
    "    M_SELECT = \"RF\"\n",
    "    M_CLASIF = \"LR_L2\"\n",
    "    param_distributions = {'selector__max_features': [1000], 'selector__estimator__n_estimators': [200], \n",
    "        'clasifier__solver': ['lbfgs'], 'clasifier__penalty': ['l2'], 'clasifier__max_iter': [10000]}\n",
    "\n",
    "elif M_TIPO.startswith(\"mul_m\"):\n",
    "    myfunc.verbose(f\"Utilizando parámetros de {M_TIPO}\")\n",
    " \n",
    "    eval_selector = eval_selector_rf\n",
    "    eval_clasifier = eval_clasifier_lr\n",
    "\n",
    "    SEMILLA = 6191\n",
    "    M_SELECT = \"RF\"\n",
    "    M_CLASIF = \"LR_L2\"\n",
    "    param_distributions = {'selector__max_features': [1000], 'selector__estimator__n_estimators': [400], \n",
    "        'clasifier__solver': ['lbfgs'], 'clasifier__penalty': ['l2'], 'clasifier__max_iter': [10000]}\n",
    "\n",
    "else:\n",
    "    # M_TIPO.startswith(\"mul_s\"):\n",
    "    myfunc.verbose(f\"Utilizando parámetros de {M_TIPO}\")\n",
    "    eval_selector = eval_selector_anova\n",
    "    eval_clasifier = eval_clasifier_lr\n",
    "\n",
    "    SEMILLA = 1860\n",
    "    M_SELECT = \"ANOVA\"\n",
    "    M_CLASIF = \"LR_L2\"\n",
    "    param_distributions = {'selector__k': [1000], \n",
    "        'clasifier__solver': ['saga'], 'clasifier__penalty': ['l2'], 'clasifier__max_iter': [10000]}\n",
    "\n"
   ]
  },
  {
   "cell_type": "code",
   "execution_count": 3,
   "id": "2bd8e8b9",
   "metadata": {
    "execution": {
     "iopub.execute_input": "2023-10-29T23:05:02.313810Z",
     "iopub.status.busy": "2023-10-29T23:05:02.313398Z",
     "iopub.status.idle": "2023-10-29T23:05:02.318013Z",
     "shell.execute_reply": "2023-10-29T23:05:02.317377Z"
    },
    "papermill": {
     "duration": 0.010851,
     "end_time": "2023-10-29T23:05:02.319351",
     "exception": false,
     "start_time": "2023-10-29T23:05:02.308500",
     "status": "completed"
    },
    "tags": [
     "injected-parameters"
    ]
   },
   "outputs": [],
   "source": [
    "# Parameters\n",
    "M_TIPO = \"mul_m\"\n",
    "M_SELECT = \"RF\"\n",
    "M_CLASIF = \"LR_L1\"\n",
    "P_FICHERO = \"param_0000_8270_mul_m_RF_LR_L1.yaml\"\n",
    "R_FICHERO = \"resultados_8270\"\n",
    "M_FICHERO = \"metricas_8270\"\n",
    "PRE_DATA_FILE = \"rows_transpose_norm_by_gene_id_with_target_num_\"\n",
    "SCORING = \"roc_auc_ovr\"\n",
    "SEMILLA = 8270\n",
    "MAX_ITERS = 500\n",
    "eval_selector = \"SelectFromModel(estimator=RandomForestClassifier(random_state=SEMILLA), threshold=-np.inf)\"\n",
    "eval_clasifier = \"LogisticRegressionCV(random_state=SEMILLA)\"\n",
    "param_distributions = {\n",
    "    \"selector__max_features\": [1000],\n",
    "    \"selector__estimator__n_estimators\": [400],\n",
    "    \"clasifier__solver\": [\"saga\"],\n",
    "    \"clasifier__penalty\": [\"l1\"],\n",
    "    \"clasifier__max_iter\": [10000],\n",
    "}\n"
   ]
  },
  {
   "cell_type": "code",
   "execution_count": 4,
   "id": "91a40299",
   "metadata": {
    "execution": {
     "iopub.execute_input": "2023-10-29T23:05:02.328546Z",
     "iopub.status.busy": "2023-10-29T23:05:02.328131Z",
     "iopub.status.idle": "2023-10-29T23:05:02.332535Z",
     "shell.execute_reply": "2023-10-29T23:05:02.331746Z"
    },
    "papermill": {
     "duration": 0.010823,
     "end_time": "2023-10-29T23:05:02.334034",
     "exception": false,
     "start_time": "2023-10-29T23:05:02.323211",
     "status": "completed"
    },
    "tags": []
   },
   "outputs": [],
   "source": [
    "DATA_FILE = PRE_DATA_FILE + M_TIPO\n",
    "\n",
    "# si viene \"None\" en el parámetro max_depth, se le quitan las comillas para que no sea entendido por el algoritmo como un texto\n",
    "if \"clasifier__max_depth\" in param_distributions:\n",
    "    param_distributions['clasifier__max_depth'] = [None if x == 'None' else x for x in param_distributions['clasifier__max_depth']]"
   ]
  },
  {
   "cell_type": "markdown",
   "id": "0691c0d2",
   "metadata": {
    "papermill": {
     "duration": 0.003861,
     "end_time": "2023-10-29T23:05:02.341857",
     "exception": false,
     "start_time": "2023-10-29T23:05:02.337996",
     "status": "completed"
    },
    "tags": []
   },
   "source": [
    "Asignar los algoritmos que se utilizarán en la función RandomSearchCV"
   ]
  },
  {
   "cell_type": "code",
   "execution_count": 5,
   "id": "24864031",
   "metadata": {
    "execution": {
     "iopub.execute_input": "2023-10-29T23:05:02.351012Z",
     "iopub.status.busy": "2023-10-29T23:05:02.350448Z",
     "iopub.status.idle": "2023-10-29T23:05:02.354237Z",
     "shell.execute_reply": "2023-10-29T23:05:02.353530Z"
    },
    "papermill": {
     "duration": 0.009782,
     "end_time": "2023-10-29T23:05:02.355519",
     "exception": false,
     "start_time": "2023-10-29T23:05:02.345737",
     "status": "completed"
    },
    "tags": []
   },
   "outputs": [],
   "source": [
    "algor_selector=eval(eval_selector)\n",
    "algor_clasifier=eval(eval_clasifier)"
   ]
  },
  {
   "cell_type": "markdown",
   "id": "c4af0fac",
   "metadata": {
    "papermill": {
     "duration": 0.003884,
     "end_time": "2023-10-29T23:05:02.363197",
     "exception": false,
     "start_time": "2023-10-29T23:05:02.359313",
     "status": "completed"
    },
    "tags": []
   },
   "source": [
    "#### Comprobar el entorno y leer fichero de muestras"
   ]
  },
  {
   "cell_type": "code",
   "execution_count": 6,
   "id": "8bb1c5bf",
   "metadata": {
    "execution": {
     "iopub.execute_input": "2023-10-29T23:05:02.374500Z",
     "iopub.status.busy": "2023-10-29T23:05:02.373221Z",
     "iopub.status.idle": "2023-10-29T23:05:02.619653Z",
     "shell.execute_reply": "2023-10-29T23:05:02.618948Z"
    },
    "papermill": {
     "duration": 0.254679,
     "end_time": "2023-10-29T23:05:02.621658",
     "exception": false,
     "start_time": "2023-10-29T23:05:02.366979",
     "status": "completed"
    },
    "tags": []
   },
   "outputs": [
    {
     "name": "stdout",
     "output_type": "stream",
     "text": [
      "20231030T000502 : enderlab : INFO : Encontrada carpeta DATA_DIR=../tfm_git/datos\n",
      "20231030T000502 : enderlab : INFO : Encontrada carpeta CFDNA_DIR=../tfm_git/datos/cfDNA_5hmC\n",
      "20231030T000502 : enderlab : INFO : Encontrada carpeta GENCODE_DIR=../tfm_git/datos/gencode\n",
      "20231030T000502 : enderlab : INFO : Encontrada carpeta H5_DIR=../tfm_git/datos/h5\n",
      "20231030T000502 : enderlab : INFO : Encontrada carpeta LOG_DIR=../tfm_git/datos/logs\n",
      "20231030T000502 : enderlab : INFO : Encontrada carpeta CSV_DIR=../tfm_git/datos/csv\n",
      "20231030T000502 : enderlab : INFO : Encontrada carpeta MODEL_DIR=../tfm_git/ejecuciones/modelos\n",
      "20231030T000502 : enderlab : INFO : Encontrada carpeta EXEC_DIR=../tfm_git/ejecuciones\n",
      "20231030T000502 : enderlab : INFO : Encontrada carpeta MET_DIR=../tfm_git/ejecuciones/metricas\n",
      "20231030T000502 : enderlab : INFO : Inicio leer fichero h5 ../tfm_git/datos/h5/rows_transpose_norm_by_gene_id_with_target_num_mul_m.h5\n",
      "20231030T000502 : enderlab : INFO : Leyendo clave /df\n"
     ]
    },
    {
     "name": "stdout",
     "output_type": "stream",
     "text": [
      "20231030T000502 : enderlab : INFO : Tamaño (434, 18876)\n",
      "20231030T000502 : enderlab : INFO : Fin leer fichero h5 ../tfm_git/datos/h5/rows_transpose_norm_by_gene_id_with_target_num_mul_m.h5\n"
     ]
    },
    {
     "data": {
      "text/plain": [
       "target\n",
       "0    62\n",
       "1    62\n",
       "2    62\n",
       "3    62\n",
       "4    62\n",
       "5    62\n",
       "6    62\n",
       "dtype: int64"
      ]
     },
     "metadata": {},
     "output_type": "display_data"
    },
    {
     "name": "stdout",
     "output_type": "stream",
     "text": [
      "Shape df: (434, 18876)\n"
     ]
    },
    {
     "name": "stdout",
     "output_type": "stream",
     "text": [
      "Shape X_train: (347, 18875)\n",
      "Shape X_test: (87, 18875)\n"
     ]
    }
   ],
   "source": [
    "start_time = datetime.datetime.now()\n",
    "\n",
    "myfunc.reset_vars()\n",
    "\n",
    "myfunc.NOTEBK_FILENAME = myfunc.get_nb_name()\n",
    "\n",
    "myfunc.check_enviroment(myfunc.DATA_DIR, myfunc.CFDNA_DIR, myfunc.GENCODE_DIR, myfunc.H5_DIR, myfunc.LOG_DIR, myfunc.CSV_DIR, myfunc.MODEL_DIR, myfunc.EXEC_DIR, myfunc.MET_DIR)\n",
    "\n",
    "# Leer fichero con las muestras\n",
    "df_t = myfunc.read_h5_to_df(DATA_FILE, myfunc.H5_DIR)\n",
    "display(df_t.groupby(\"target\").size())\n",
    "print(\"Shape df:\",df_t.shape)\n",
    "\n",
    "# Separar caracteristicas/genes de las etiquetas/tipos de cáncer\n",
    "X = df_t.iloc[:, :-1]  # Todas las columnas excepto la última\n",
    "y = df_t.iloc[:, -1]  # La última columna contiene los identificadores de los tipos de cáncer\n",
    "\n",
    "#  Crear el conjunto de datos de entrenamiento y de pruebas, y se fija la semilla para siempre coger el mismo juego de muestras\n",
    "X_train, X_test, y_train, y_test = train_test_split(X, y, test_size=0.2, shuffle=True, random_state=42)\n",
    "print(\"Shape X_train:\",X_train.shape)\n",
    "print(\"Shape X_test:\",X_test.shape)\n"
   ]
  },
  {
   "cell_type": "markdown",
   "id": "1ce3670c",
   "metadata": {
    "papermill": {
     "duration": 0.004171,
     "end_time": "2023-10-29T23:05:02.631193",
     "exception": false,
     "start_time": "2023-10-29T23:05:02.627022",
     "status": "completed"
    },
    "tags": []
   },
   "source": [
    "#### Selección de características y clasificación."
   ]
  },
  {
   "cell_type": "code",
   "execution_count": 7,
   "id": "3afd90c9",
   "metadata": {
    "execution": {
     "iopub.execute_input": "2023-10-29T23:05:02.641116Z",
     "iopub.status.busy": "2023-10-29T23:05:02.640591Z",
     "iopub.status.idle": "2023-10-29T23:32:27.835205Z",
     "shell.execute_reply": "2023-10-29T23:32:27.834301Z"
    },
    "papermill": {
     "duration": 1645.205872,
     "end_time": "2023-10-29T23:32:27.841200",
     "exception": false,
     "start_time": "2023-10-29T23:05:02.635328",
     "status": "completed"
    },
    "tags": []
   },
   "outputs": [
    {
     "name": "stdout",
     "output_type": "stream",
     "text": [
      "20231030T000502 : enderlab : INFO : Iniciando entrenamiento\n",
      "num_iter: 1 , max_iter: 1\n",
      "Fitting 5 folds for each of 1 candidates, totalling 5 fits\n"
     ]
    },
    {
     "name": "stdout",
     "output_type": "stream",
     "text": [
      "[CV 1/5] END clasifier__max_iter=10000, clasifier__penalty=l1, clasifier__solver=saga, selector__estimator__n_estimators=400, selector__max_features=1000;, score=0.864 total time=10.5min\n"
     ]
    },
    {
     "name": "stdout",
     "output_type": "stream",
     "text": [
      "[CV 3/5] END clasifier__max_iter=10000, clasifier__penalty=l1, clasifier__solver=saga, selector__estimator__n_estimators=400, selector__max_features=1000;, score=0.913 total time=11.8min\n"
     ]
    },
    {
     "name": "stdout",
     "output_type": "stream",
     "text": [
      "[CV 2/5] END clasifier__max_iter=10000, clasifier__penalty=l1, clasifier__solver=saga, selector__estimator__n_estimators=400, selector__max_features=1000;, score=0.882 total time=11.9min\n"
     ]
    },
    {
     "name": "stdout",
     "output_type": "stream",
     "text": [
      "[CV 5/5] END clasifier__max_iter=10000, clasifier__penalty=l1, clasifier__solver=saga, selector__estimator__n_estimators=400, selector__max_features=1000;, score=0.844 total time=11.9min\n"
     ]
    },
    {
     "name": "stdout",
     "output_type": "stream",
     "text": [
      "[CV 4/5] END clasifier__max_iter=10000, clasifier__penalty=l1, clasifier__solver=saga, selector__estimator__n_estimators=400, selector__max_features=1000;, score=0.897 total time=12.3min\n"
     ]
    },
    {
     "name": "stdout",
     "output_type": "stream",
     "text": [
      "Mejores Hiperparámetros: {'selector__max_features': 1000, 'selector__estimator__n_estimators': 400, 'clasifier__solver': 'saga', 'clasifier__penalty': 'l1', 'clasifier__max_iter': 10000}\n",
      "Mejor Puntuación: 0.8798\n",
      "20231030T003227 : enderlab : INFO : Fin entrenamiento\n"
     ]
    }
   ],
   "source": [
    "myfunc.verbose(\"Iniciando entrenamiento\")\n",
    "\n",
    "kf = KFold(n_splits=5, shuffle=True, random_state=SEMILLA)\n",
    "\n",
    "# Crear el pipeline para el flujo de tareas\n",
    "tasks_pipeline = Pipeline([\n",
    "    ('selector', algor_selector),\n",
    "    ('clasifier', algor_clasifier)\n",
    "])\n",
    "\n",
    "# MAX_ITERS puede limitar el número de iteraciones si son excesivas para las combinaciones de parámetros buscando un óptimo local, \n",
    "# sino funcionaría como GridSearchCV al revisar todas las cominaciones de los parámetros\n",
    "num_iteraciones = 1\n",
    "num_iteraciones = num_iteraciones * np.prod([len(elemento1) for _, elemento1 in param_distributions.items()])\n",
    "max_iteraciones = num_iteraciones if num_iteraciones <= MAX_ITERS else MAX_ITERS\n",
    "print(\"num_iter:\",num_iteraciones,\", max_iter:\",max_iteraciones)\n",
    "\n",
    "random_search = RandomizedSearchCV(\n",
    "    tasks_pipeline, \n",
    "    param_distributions, \n",
    "    n_iter=max_iteraciones,\n",
    "    scoring=SCORING,\n",
    "    cv=kf,\n",
    "    verbose=3, \n",
    "    random_state=SEMILLA, \n",
    "    n_jobs=-1\n",
    "    )\n",
    "\n",
    "# Entrenar el modelo\n",
    "random_search.fit(X_train, y_train)\n",
    "\n",
    "# Ver los mejores hiperparámetros encontrados\n",
    "print(f'Mejores Hiperparámetros: {random_search.best_params_}')\n",
    "print(f'Mejor Puntuación: {random_search.best_score_:.4f}')\n",
    "\n",
    "# Nos quedamos con el mejor modelo para ver las métricas\n",
    "mejor_modelo = random_search.best_estimator_\n",
    "\n",
    "myfunc.verbose(\"Fin entrenamiento\")"
   ]
  },
  {
   "cell_type": "markdown",
   "id": "7fd1e287",
   "metadata": {
    "papermill": {
     "duration": 0.004437,
     "end_time": "2023-10-29T23:32:27.850304",
     "exception": false,
     "start_time": "2023-10-29T23:32:27.845867",
     "status": "completed"
    },
    "tags": []
   },
   "source": [
    "#### Guardar modelo"
   ]
  },
  {
   "cell_type": "code",
   "execution_count": 8,
   "id": "fcf5f907",
   "metadata": {
    "execution": {
     "iopub.execute_input": "2023-10-29T23:32:27.860608Z",
     "iopub.status.busy": "2023-10-29T23:32:27.859993Z",
     "iopub.status.idle": "2023-10-29T23:32:28.015534Z",
     "shell.execute_reply": "2023-10-29T23:32:28.014936Z"
    },
    "papermill": {
     "duration": 0.162274,
     "end_time": "2023-10-29T23:32:28.016828",
     "exception": false,
     "start_time": "2023-10-29T23:32:27.854554",
     "status": "completed"
    },
    "tags": []
   },
   "outputs": [
    {
     "name": "stdout",
     "output_type": "stream",
     "text": [
      "20231030T003227 : enderlab : INFO : Inicio guardar fichero ../tfm_git/ejecuciones/modelos/modelo_8270_mul_m_RF_LR_L1.pkl\n",
      "20231030T003228 : enderlab : INFO : Fin guardar fichero ../tfm_git/ejecuciones/modelos/modelo_8270_mul_m_RF_LR_L1.pkl\n"
     ]
    }
   ],
   "source": [
    "fichero_modelo = str.replace(\"modelo_\"+str(SEMILLA).zfill(4)+\"_\"+M_TIPO+\"_\"+M_SELECT+\"_\"+M_CLASIF+\".pkl\", \" \", \"_\")\n",
    "\n",
    "myfunc.save_modelo(mejor_modelo, myfunc.MODEL_DIR, fichero_modelo)"
   ]
  },
  {
   "cell_type": "markdown",
   "id": "38ec38f5",
   "metadata": {
    "papermill": {
     "duration": 0.004678,
     "end_time": "2023-10-29T23:32:28.026153",
     "exception": false,
     "start_time": "2023-10-29T23:32:28.021475",
     "status": "completed"
    },
    "tags": []
   },
   "source": [
    "#### Ver resultados del las iteraciones hechas por RandomSearchCV"
   ]
  },
  {
   "cell_type": "code",
   "execution_count": 9,
   "id": "e316fbed",
   "metadata": {
    "execution": {
     "iopub.execute_input": "2023-10-29T23:32:28.036330Z",
     "iopub.status.busy": "2023-10-29T23:32:28.035795Z",
     "iopub.status.idle": "2023-10-29T23:32:28.044528Z",
     "shell.execute_reply": "2023-10-29T23:32:28.044007Z"
    },
    "papermill": {
     "duration": 0.015289,
     "end_time": "2023-10-29T23:32:28.045770",
     "exception": false,
     "start_time": "2023-10-29T23:32:28.030481",
     "status": "completed"
    },
    "tags": []
   },
   "outputs": [
    {
     "name": "stdout",
     "output_type": "stream",
     "text": [
      "20231030T003228 : enderlab : INFO : Inicio ver resultados\n",
      "Mejores Hiperparámetros: {'selector__max_features': 1000, 'selector__estimator__n_estimators': 400, 'clasifier__solver': 'saga', 'clasifier__penalty': 'l1', 'clasifier__max_iter': 10000}\n",
      "Mejores puntuaciones: 0.8798 | Params: {'selector__max_features': 1000, 'selector__estimator__n_estimators': 400, 'clasifier__solver': 'saga', 'clasifier__penalty': 'l1', 'clasifier__max_iter': 10000}\n",
      "Media de las puntuaciones: 0.8798 | Params: {'selector__max_features': 1000, 'selector__estimator__n_estimators': 400, 'clasifier__solver': 'saga', 'clasifier__penalty': 'l1', 'clasifier__max_iter': 10000}\n",
      "20231030T003228 : enderlab : INFO : Fin resultados\n"
     ]
    }
   ],
   "source": [
    "myfunc.ver_resultados_search(random_search)"
   ]
  },
  {
   "cell_type": "markdown",
   "id": "14dc5f54",
   "metadata": {
    "papermill": {
     "duration": 0.00435,
     "end_time": "2023-10-29T23:32:28.054569",
     "exception": false,
     "start_time": "2023-10-29T23:32:28.050219",
     "status": "completed"
    },
    "tags": []
   },
   "source": [
    "#### Ver métricas del mejor modelo"
   ]
  },
  {
   "cell_type": "code",
   "execution_count": 10,
   "id": "fdc8c82b",
   "metadata": {
    "execution": {
     "iopub.execute_input": "2023-10-29T23:32:28.064867Z",
     "iopub.status.busy": "2023-10-29T23:32:28.064474Z",
     "iopub.status.idle": "2023-10-29T23:32:29.187559Z",
     "shell.execute_reply": "2023-10-29T23:32:29.186917Z"
    },
    "papermill": {
     "duration": 1.129671,
     "end_time": "2023-10-29T23:32:29.188852",
     "exception": false,
     "start_time": "2023-10-29T23:32:28.059181",
     "status": "completed"
    },
    "tags": []
   },
   "outputs": [
    {
     "name": "stdout",
     "output_type": "stream",
     "text": [
      "20231030T003228 : enderlab : INFO : Inicio ver métricas multiclase\n"
     ]
    },
    {
     "name": "stdout",
     "output_type": "stream",
     "text": [
      "              precision    recall  f1-score   support\n",
      "\n",
      "           0       0.33      0.12      0.18        16\n",
      "           1       0.75      0.60      0.67        15\n",
      "           2       0.21      0.27      0.24        11\n",
      "           3       0.33      1.00      0.50         5\n",
      "           4       0.73      0.62      0.67        13\n",
      "           5       0.58      0.78      0.67         9\n",
      "           6       0.59      0.56      0.57        18\n",
      "\n",
      "    accuracy                           0.51        87\n",
      "   macro avg       0.50      0.56      0.50        87\n",
      "weighted avg       0.53      0.51      0.49        87\n",
      "\n",
      "\n",
      "\n",
      "           Exactitud: 0.505747\n",
      "   Precisión (media): 0.504256\n",
      "      Recall (media): 0.563778\n",
      "    F1-score (media): 0.499035\n",
      "\n",
      "\n",
      "AUC para el tipo de cáncer 0-Control.... 0.6356\n",
      "AUC para el tipo de cáncer 1-Bladder.... 0.8574\n",
      "AUC para el tipo de cáncer 2-Breast..... 0.7010\n",
      "AUC para el tipo de cáncer 3-Colorectal. 0.9244\n",
      "AUC para el tipo de cáncer 4-Kidney..... 0.9064\n",
      "AUC para el tipo de cáncer 5-Lung....... 0.9630\n",
      "AUC para el tipo de cáncer 6-Prostate... 0.8374\n",
      "\n",
      "Media de AUC: 0.8322\n"
     ]
    },
    {
     "data": {
      "image/png": "[encoded data removed]",
      "text/plain": [
       "<Figure size 1000x600 with 1 Axes>"
      ]
     },
     "metadata": {},
     "output_type": "display_data"
    },
    {
     "name": "stdout",
     "output_type": "stream",
     "text": [
      "\n",
      "\n"
     ]
    },
    {
     "data": {
      "image/png": "[encoded data removed]",
      "text/plain": [
       "<Figure size 800x400 with 2 Axes>"
      ]
     },
     "metadata": {},
     "output_type": "display_data"
    },
    {
     "name": "stdout",
     "output_type": "stream",
     "text": [
      "\n",
      "\n",
      "Puntuación Jaccard para el cáncer tipo 0-Control.... 0.1000\n",
      "Puntuación Jaccard para el cáncer tipo 1-Bladder.... 0.5000\n",
      "Puntuación Jaccard para el cáncer tipo 2-Breast..... 0.1364\n",
      "Puntuación Jaccard para el cáncer tipo 3-Colorectal. 0.3333\n",
      "Puntuación Jaccard para el cáncer tipo 4-Kidney..... 0.5000\n",
      "Puntuación Jaccard para el cáncer tipo 5-Lung....... 0.5000\n",
      "Puntuación Jaccard para el cáncer tipo 6-Prostate... 0.4000\n",
      "\n",
      "Media de la puntuación de Jaccard: 0.3528\n"
     ]
    }
   ],
   "source": [
    "if M_TIPO.startswith(\"bin\"):\n",
    "    myfunc.ver_metricas(mejor_modelo, X_test, y_test)\n",
    "else:\n",
    "    myfunc.ver_metricas_multi(mejor_modelo, X_test, y_test)\n"
   ]
  },
  {
   "cell_type": "markdown",
   "id": "43759a48",
   "metadata": {
    "papermill": {
     "duration": 0.006092,
     "end_time": "2023-10-29T23:32:29.201650",
     "exception": false,
     "start_time": "2023-10-29T23:32:29.195558",
     "status": "completed"
    },
    "tags": []
   },
   "source": [
    "#### Finalización del notebook"
   ]
  },
  {
   "cell_type": "code",
   "execution_count": 11,
   "id": "b2834eab",
   "metadata": {
    "execution": {
     "iopub.execute_input": "2023-10-29T23:32:29.214850Z",
     "iopub.status.busy": "2023-10-29T23:32:29.214318Z",
     "iopub.status.idle": "2023-10-29T23:32:29.218438Z",
     "shell.execute_reply": "2023-10-29T23:32:29.217834Z"
    },
    "papermill": {
     "duration": 0.012132,
     "end_time": "2023-10-29T23:32:29.219655",
     "exception": false,
     "start_time": "2023-10-29T23:32:29.207523",
     "status": "completed"
    },
    "tags": []
   },
   "outputs": [
    {
     "name": "stdout",
     "output_type": "stream",
     "text": [
      "20231030T003229 : enderlab : INFO : Notebook ha tardado 1646 seconds\n"
     ]
    }
   ],
   "source": [
    "end_time = datetime.datetime.now()\n",
    "total_time = end_time - start_time\n",
    "myfunc.verbose(f\"Notebook ha tardado {total_time.seconds} seconds\")"
   ]
  },
  {
   "cell_type": "markdown",
   "id": "6b50c601",
   "metadata": {
    "papermill": {
     "duration": 0.005981,
     "end_time": "2023-10-29T23:32:29.231591",
     "exception": false,
     "start_time": "2023-10-29T23:32:29.225610",
     "status": "completed"
    },
    "tags": []
   },
   "source": [
    "#### Guardar métricas"
   ]
  },
  {
   "cell_type": "code",
   "execution_count": 12,
   "id": "dc95a9b7",
   "metadata": {
    "execution": {
     "iopub.execute_input": "2023-10-29T23:32:29.245036Z",
     "iopub.status.busy": "2023-10-29T23:32:29.244585Z",
     "iopub.status.idle": "2023-10-29T23:32:30.277212Z",
     "shell.execute_reply": "2023-10-29T23:32:30.276646Z"
    },
    "papermill": {
     "duration": 1.040816,
     "end_time": "2023-10-29T23:32:30.278509",
     "exception": false,
     "start_time": "2023-10-29T23:32:29.237693",
     "status": "completed"
    },
    "tags": []
   },
   "outputs": [
    {
     "name": "stdout",
     "output_type": "stream",
     "text": [
      "20231030T003229 : enderlab : INFO : Inicio guardar métricas multiclase\n",
      "20231030T003229 : enderlab : INFO : Inicio leer fichero ../tfm_git/ejecuciones/metricas/metricas_8270.csv\n",
      "20231030T003229 : enderlab : INFO : Fin leer fichero ../tfm_git/ejecuciones/metricas/metricas_8270.csv\n"
     ]
    },
    {
     "name": "stdout",
     "output_type": "stream",
     "text": [
      "20231030T003230 : enderlab : INFO : Inicio guardar fichero ../tfm_git/ejecuciones/metricas/metricas_8270.csv\n",
      "20231030T003230 : enderlab : INFO : Fichero borrado ../tfm_git/ejecuciones/metricas/metricas_8270.csv\n",
      "20231030T003230 : enderlab : INFO : Fin guardar fichero ../tfm_git/ejecuciones/metricas/metricas_8270.csv\n",
      "20231030T003230 : enderlab : INFO : Fin guardar métricas multiclase\n",
      "20231030T003230 : enderlab : INFO : Inicio leer fichero ../tfm_git/ejecuciones/metricas/metricas_8270.csv\n",
      "20231030T003230 : enderlab : INFO : Fin leer fichero ../tfm_git/ejecuciones/metricas/metricas_8270.csv\n"
     ]
    },
    {
     "data": {
      "text/html": [
       "<div>\n",
       "<style scoped>\n",
       "    .dataframe tbody tr th:only-of-type {\n",
       "        vertical-align: middle;\n",
       "    }\n",
       "\n",
       "    .dataframe tbody tr th {\n",
       "        vertical-align: top;\n",
       "    }\n",
       "\n",
       "    .dataframe thead th {\n",
       "        text-align: right;\n",
       "    }\n",
       "</style>\n",
       "<table border=\"1\" class=\"dataframe\">\n",
       "  <thead>\n",
       "    <tr style=\"text-align: right;\">\n",
       "      <th></th>\n",
       "      <th>tipo</th>\n",
       "      <th>select</th>\n",
       "      <th>clasific</th>\n",
       "      <th>semilla</th>\n",
       "      <th>accuracy</th>\n",
       "      <th>precision</th>\n",
       "      <th>recall</th>\n",
       "      <th>f1_score</th>\n",
       "      <th>roc_auc</th>\n",
       "      <th>hostname</th>\n",
       "      <th>total_time_sec</th>\n",
       "      <th>datetime</th>\n",
       "      <th>fichero_modelo</th>\n",
       "      <th>params</th>\n",
       "      <th>shape</th>\n",
       "      <th>features</th>\n",
       "      <th>roc_auc_ovr</th>\n",
       "      <th>indices_auc</th>\n",
       "      <th>indices_jaccard</th>\n",
       "    </tr>\n",
       "  </thead>\n",
       "  <tbody>\n",
       "    <tr>\n",
       "      <th>0</th>\n",
       "      <td>mul_m</td>\n",
       "      <td>RF</td>\n",
       "      <td>LR_L1</td>\n",
       "      <td>8270</td>\n",
       "      <td>0.505747</td>\n",
       "      <td>0.504256</td>\n",
       "      <td>0.563778</td>\n",
       "      <td>0.499035</td>\n",
       "      <td>NaN</td>\n",
       "      <td>enderlab</td>\n",
       "      <td>1646</td>\n",
       "      <td>2023-10-30 00:32:30.228519</td>\n",
       "      <td>modelo_8270_mul_m_RF_LR_L1.pkl</td>\n",
       "      <td>{'selector__max_features': 1000, 'selector__es...</td>\n",
       "      <td>X_test:(87, 18875)</td>\n",
       "      <td>['ENSG00000002933.9', 'ENSG00000006468.15', 'E...</td>\n",
       "      <td>0.832155</td>\n",
       "      <td>[0.6355633802816901, 0.8574074074074074, 0.700...</td>\n",
       "      <td>[0.1, 0.5, 0.13636363636363635, 0.333333333333...</td>\n",
       "    </tr>\n",
       "    <tr>\n",
       "      <th>0</th>\n",
       "      <td>mul_m</td>\n",
       "      <td>RF</td>\n",
       "      <td>LR_EN</td>\n",
       "      <td>8270</td>\n",
       "      <td>0.517241</td>\n",
       "      <td>0.505966</td>\n",
       "      <td>0.581116</td>\n",
       "      <td>0.505304</td>\n",
       "      <td>NaN</td>\n",
       "      <td>enderlab</td>\n",
       "      <td>1633</td>\n",
       "      <td>2023-10-30 00:04:55.583566</td>\n",
       "      <td>modelo_8270_mul_m_RF_LR_EN.pkl</td>\n",
       "      <td>{'selector__max_features': 1000, 'selector__es...</td>\n",
       "      <td>X_test:(87, 18875)</td>\n",
       "      <td>['ENSG00000002933.9', 'ENSG00000006468.15', 'E...</td>\n",
       "      <td>0.843227</td>\n",
       "      <td>[0.664612676056338, 0.8555555555555555, 0.7093...</td>\n",
       "      <td>[0.1, 0.4444444444444444, 0.15789473684210525,...</td>\n",
       "    </tr>\n",
       "    <tr>\n",
       "      <th>0</th>\n",
       "      <td>mul_m</td>\n",
       "      <td>MI</td>\n",
       "      <td>SVM</td>\n",
       "      <td>8270</td>\n",
       "      <td>0.517241</td>\n",
       "      <td>0.544727</td>\n",
       "      <td>0.546989</td>\n",
       "      <td>0.538051</td>\n",
       "      <td>NaN</td>\n",
       "      <td>enderlab</td>\n",
       "      <td>226</td>\n",
       "      <td>2023-10-29 23:37:34.392882</td>\n",
       "      <td>modelo_8270_mul_m_MI_SVM.pkl</td>\n",
       "      <td>{'selector__k': 1000, 'clasifier__kernel': 'rb...</td>\n",
       "      <td>X_test:(87, 18875)</td>\n",
       "      <td>['ENSG00000001460.18', 'ENSG00000004660.15', '...</td>\n",
       "      <td>0.827736</td>\n",
       "      <td>[0.7904929577464789, 0.8240740740740741, 0.739...</td>\n",
       "      <td>[0.25, 0.3684210526315789, 0.14285714285714285...</td>\n",
       "    </tr>\n",
       "  </tbody>\n",
       "</table>\n",
       "</div>"
      ],
      "text/plain": [
       "    tipo select clasific  semilla  accuracy  precision    recall  f1_score  \\\n",
       "0  mul_m     RF    LR_L1     8270  0.505747   0.504256  0.563778  0.499035   \n",
       "0  mul_m     RF    LR_EN     8270  0.517241   0.505966  0.581116  0.505304   \n",
       "0  mul_m     MI      SVM     8270  0.517241   0.544727  0.546989  0.538051   \n",
       "\n",
       "   roc_auc  hostname  total_time_sec                    datetime  \\\n",
       "0      NaN  enderlab            1646  2023-10-30 00:32:30.228519   \n",
       "0      NaN  enderlab            1633  2023-10-30 00:04:55.583566   \n",
       "0      NaN  enderlab             226  2023-10-29 23:37:34.392882   \n",
       "\n",
       "                   fichero_modelo  \\\n",
       "0  modelo_8270_mul_m_RF_LR_L1.pkl   \n",
       "0  modelo_8270_mul_m_RF_LR_EN.pkl   \n",
       "0    modelo_8270_mul_m_MI_SVM.pkl   \n",
       "\n",
       "                                              params               shape  \\\n",
       "0  {'selector__max_features': 1000, 'selector__es...  X_test:(87, 18875)   \n",
       "0  {'selector__max_features': 1000, 'selector__es...  X_test:(87, 18875)   \n",
       "0  {'selector__k': 1000, 'clasifier__kernel': 'rb...  X_test:(87, 18875)   \n",
       "\n",
       "                                            features  roc_auc_ovr  \\\n",
       "0  ['ENSG00000002933.9', 'ENSG00000006468.15', 'E...     0.832155   \n",
       "0  ['ENSG00000002933.9', 'ENSG00000006468.15', 'E...     0.843227   \n",
       "0  ['ENSG00000001460.18', 'ENSG00000004660.15', '...     0.827736   \n",
       "\n",
       "                                         indices_auc  \\\n",
       "0  [0.6355633802816901, 0.8574074074074074, 0.700...   \n",
       "0  [0.664612676056338, 0.8555555555555555, 0.7093...   \n",
       "0  [0.7904929577464789, 0.8240740740740741, 0.739...   \n",
       "\n",
       "                                     indices_jaccard  \n",
       "0  [0.1, 0.5, 0.13636363636363635, 0.333333333333...  \n",
       "0  [0.1, 0.4444444444444444, 0.15789473684210525,...  \n",
       "0  [0.25, 0.3684210526315789, 0.14285714285714285...  "
      ]
     },
     "metadata": {},
     "output_type": "display_data"
    }
   ],
   "source": [
    "if M_TIPO.startswith(\"bin\"):\n",
    "    myfunc.save_metricas_to_csv(random_search, X_test, y_test, M_TIPO, M_SELECT, M_CLASIF, total_time, SEMILLA, myfunc.MET_DIR, M_FICHERO, fichero_modelo)\n",
    "else:\n",
    "    myfunc.save_metricas_multi_to_csv(random_search, X_test, y_test, M_TIPO, M_SELECT, M_CLASIF, total_time, SEMILLA, myfunc.MET_DIR, M_FICHERO, fichero_modelo)\n",
    "\n",
    "df1=myfunc.read_metricas_to_df(myfunc.MET_DIR,M_FICHERO)\n",
    "\n",
    "display(df1.sort_values(\"datetime\", ascending=False)[:3])\n"
   ]
  },
  {
   "cell_type": "markdown",
   "id": "7ce5ede9",
   "metadata": {
    "papermill": {
     "duration": 0.006445,
     "end_time": "2023-10-29T23:32:30.291863",
     "exception": false,
     "start_time": "2023-10-29T23:32:30.285418",
     "status": "completed"
    },
    "tags": []
   },
   "source": [
    "#### Guardar resultados"
   ]
  },
  {
   "cell_type": "code",
   "execution_count": 13,
   "id": "086e4681",
   "metadata": {
    "execution": {
     "iopub.execute_input": "2023-10-29T23:32:30.306182Z",
     "iopub.status.busy": "2023-10-29T23:32:30.305539Z",
     "iopub.status.idle": "2023-10-29T23:32:30.314762Z",
     "shell.execute_reply": "2023-10-29T23:32:30.314209Z"
    },
    "papermill": {
     "duration": 0.017766,
     "end_time": "2023-10-29T23:32:30.315944",
     "exception": false,
     "start_time": "2023-10-29T23:32:30.298178",
     "status": "completed"
    },
    "tags": []
   },
   "outputs": [
    {
     "name": "stdout",
     "output_type": "stream",
     "text": [
      "20231030T003230 : enderlab : INFO : Inicio guardar resultados\n",
      "20231030T003230 : enderlab : INFO : Inicio guardar fichero ../tfm_git/ejecuciones/metricas/resultados_8270_mul_m-RF-LR_L1.csv\n",
      "20231030T003230 : enderlab : INFO : Fin guardar fichero ../tfm_git/ejecuciones/metricas/resultados_8270_mul_m-RF-LR_L1.csv\n",
      "20231030T003230 : enderlab : INFO : Fin guardar resultados\n"
     ]
    }
   ],
   "source": [
    "fichero_resultados=R_FICHERO+\"_\"+M_TIPO+\"-\"+M_SELECT+\"-\"+M_CLASIF+\".csv\"\n",
    "myfunc.save_resultados_to_csv(M_TIPO, M_SELECT, M_CLASIF,  random_search, myfunc.MET_DIR, fichero_resultados)\n"
   ]
  }
 ],
 "metadata": {
  "kernelspec": {
   "display_name": "Python 3 (ipykernel)",
   "language": "python",
   "name": "python3"
  },
  "language_info": {
   "codemirror_mode": {
    "name": "ipython",
    "version": 3
   },
   "file_extension": ".py",
   "mimetype": "text/x-python",
   "name": "python",
   "nbconvert_exporter": "python",
   "pygments_lexer": "ipython3",
   "version": "3.10.11"
  },
  "papermill": {
   "default_parameters": {},
   "duration": 1653.030793,
   "end_time": "2023-10-29T23:32:32.941858",
   "environment_variables": {},
   "exception": null,
   "input_path": "03_entrenamiento.ipynb",
   "output_path": "ejecuciones/training/03_entrenamiento.20231030T000459.param_0000_8270_mul_m_RF_LR_L1.output.ipynb",
   "parameters": {
    "MAX_ITERS": 500,
    "M_CLASIF": "LR_L1",
    "M_FICHERO": "metricas_8270",
    "M_SELECT": "RF",
    "M_TIPO": "mul_m",
    "PRE_DATA_FILE": "rows_transpose_norm_by_gene_id_with_target_num_",
    "P_FICHERO": "param_0000_8270_mul_m_RF_LR_L1.yaml",
    "R_FICHERO": "resultados_8270",
    "SCORING": "roc_auc_ovr",
    "SEMILLA": 8270,
    "eval_clasifier": "LogisticRegressionCV(random_state=SEMILLA)",
    "eval_selector": "SelectFromModel(estimator=RandomForestClassifier(random_state=SEMILLA), threshold=-np.inf)",
    "param_distributions": {
     "clasifier__max_iter": [
      10000
     ],
     "clasifier__penalty": [
      "l1"
     ],
     "clasifier__solver": [
      "saga"
     ],
     "selector__estimator__n_estimators": [
      400
     ],
     "selector__max_features": [
      1000
     ]
    }
   },
   "start_time": "2023-10-29T23:04:59.911065",
   "version": "2.4.0"
  }
 },
 "nbformat": 4,
 "nbformat_minor": 5
}