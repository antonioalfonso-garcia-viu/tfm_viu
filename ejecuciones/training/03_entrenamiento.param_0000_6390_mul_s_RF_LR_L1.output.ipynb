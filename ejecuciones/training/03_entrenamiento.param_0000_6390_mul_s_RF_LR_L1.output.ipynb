{
 "cells": [
  {
   "cell_type": "markdown",
   "id": "8f45a388",
   "metadata": {
    "papermill": {
     "duration": 0.004335,
     "end_time": "2023-10-30T18:31:53.848744",
     "exception": false,
     "start_time": "2023-10-30T18:31:53.844409",
     "status": "completed"
    },
    "tags": []
   },
   "source": [
    "##### Inicio"
   ]
  },
  {
   "cell_type": "markdown",
   "id": "f0d4abc3",
   "metadata": {
    "papermill": {
     "duration": 0.003523,
     "end_time": "2023-10-30T18:31:53.856071",
     "exception": false,
     "start_time": "2023-10-30T18:31:53.852548",
     "status": "completed"
    },
    "tags": []
   },
   "source": [
    "#### Carga de datos"
   ]
  },
  {
   "cell_type": "code",
   "execution_count": 1,
   "id": "a11e33ea",
   "metadata": {
    "execution": {
     "iopub.execute_input": "2023-10-30T18:31:53.864570Z",
     "iopub.status.busy": "2023-10-30T18:31:53.864310Z",
     "iopub.status.idle": "2023-10-30T18:31:54.727617Z",
     "shell.execute_reply": "2023-10-30T18:31:54.727066Z"
    },
    "papermill": {
     "duration": 0.869196,
     "end_time": "2023-10-30T18:31:54.728867",
     "exception": false,
     "start_time": "2023-10-30T18:31:53.859671",
     "status": "completed"
    },
    "tags": []
   },
   "outputs": [
    {
     "name": "stdout",
     "output_type": "stream",
     "text": [
      "CPU_COUNT: 8; NODE: amilcar22; sys.version: 3.10.12 (main, Jul  5 2023, 19:22:19) [GCC 11.2.0]\n",
      "LOKY_MAX_CPU_COUNT: 6\n",
      "OMP_NUM_THREADS: 2\n"
     ]
    }
   ],
   "source": [
    "import os\n",
    "import numpy as np\n",
    "import pandas as pd\n",
    "import datetime\n",
    "import sklearn\n",
    "import logging\n",
    "import warnings\n",
    "\n",
    "from sklearn.pipeline import Pipeline\n",
    "from sklearn.model_selection import RandomizedSearchCV, KFold, cross_val_score, train_test_split\n",
    "from sklearn.metrics import accuracy_score, confusion_matrix, classification_report, roc_auc_score\n",
    "\n",
    "#  cargar algoritmos para aprendizaje supervisado\n",
    "from sklearn.feature_selection import SelectKBest, f_classif, SelectFromModel, mutual_info_classif\n",
    "from sklearn.svm import SVC\n",
    "from sklearn.ensemble import RandomForestClassifier\n",
    "from sklearn.linear_model import LogisticRegression,LogisticRegressionCV\n",
    "\n",
    "# importar fichero con utilidades propias\n",
    "from commons import myfunctions as myfunc\n"
   ]
  },
  {
   "cell_type": "markdown",
   "id": "a345ef78",
   "metadata": {
    "papermill": {
     "duration": 0.002578,
     "end_time": "2023-10-30T18:31:54.734265",
     "exception": false,
     "start_time": "2023-10-30T18:31:54.731687",
     "status": "completed"
    },
    "tags": []
   },
   "source": [
    "#### Parámetros a utilizar en el entrenamiento.\n",
    "\n",
    "Se indican los 3 algoritmos de *selección de características* (eval_selector_xxx) y los 3 algoritmos para la _clasificación_ (eval_clasifier_xxx)\n",
    "\n",
    "En *param_distributions* se indicar los parámetros que utilizan los algoritmos en la función RandomSearchCV.\n",
    "\n",
    "Esta celda tiene la etiqueta **parameters** que servirá para poder lanzar los entrenamientos con la utilidad **papermill** pasándole un fichero con los parámetros. Los nuevos parámetros se situarán tras esta celda para tener prevalencia."
   ]
  },
  {
   "cell_type": "code",
   "execution_count": 2,
   "id": "f8ac36dc",
   "metadata": {
    "execution": {
     "iopub.execute_input": "2023-10-30T18:31:54.755570Z",
     "iopub.status.busy": "2023-10-30T18:31:54.755287Z",
     "iopub.status.idle": "2023-10-30T18:31:54.762328Z",
     "shell.execute_reply": "2023-10-30T18:31:54.761810Z"
    },
    "papermill": {
     "duration": 0.026737,
     "end_time": "2023-10-30T18:31:54.763495",
     "exception": false,
     "start_time": "2023-10-30T18:31:54.736758",
     "status": "completed"
    },
    "tags": [
     "parameters"
    ]
   },
   "outputs": [
    {
     "name": "stdout",
     "output_type": "stream",
     "text": [
      "20231030T193154 : amilcar22 : INFO : Utilizando parámetros de mul_m\n"
     ]
    }
   ],
   "source": [
    "#  Parametros para el entrenamiento\n",
    "\n",
    "SEMILLA=        42\n",
    "M_TIPO=         \"mul_m\"\n",
    "M_SELECT=       \"MI\"\n",
    "M_CLASIF=       \"SVM\"\n",
    "R_FICHERO=      \"resultados\"\n",
    "M_FICHERO=      \"metricas\"\n",
    "PRE_DATA_FILE=  \"rows_transpose_norm_by_gene_id_with_target_num_\"\n",
    "SCORING=        \"roc_auc_ovr\" \n",
    "MAX_ITERS=      100\n",
    "\n",
    "def mutual_info_classif_state(X, y):\n",
    "    return mutual_info_classif(X, y, random_state=SEMILLA)\n",
    "\n",
    "eval_selector_mi = \"SelectKBest(score_func=mutual_info_classif_state)\"\n",
    "eval_selector_rf=  \"SelectFromModel(estimator=RandomForestClassifier(random_state=SEMILLA), threshold=-np.inf)\"\n",
    "eval_selector_anova=  \"SelectKBest(score_func=f_classif)\"\n",
    "\n",
    "eval_clasifier_svm= \"SVC(probability=True, random_state=SEMILLA)\"\n",
    "eval_clasifier_rf= \"RandomForestClassifier(random_state=SEMILLA)\"\n",
    "eval_clasifier_lr= \"LogisticRegressionCV(random_state=SEMILLA)\"\n",
    "\n",
    "if M_TIPO.startswith(\"bin_m\"):\n",
    "    myfunc.verbose(f\"Utilizando parámetros de {M_TIPO}\")\n",
    "    eval_selector = eval_selector_mi\n",
    "    eval_clasifier = eval_clasifier_svm\n",
    "\n",
    "    SEMILLA = 6578\n",
    "    M_SELECT = \"MI\"\n",
    "    M_CLASIF = \"SVM\"\n",
    "    param_distributions = {'selector__k': [1000], \n",
    "         'clasifier__kernel': ['rbf'], 'clasifier__gamma': [0.01], 'clasifier__C': [100]}\n",
    "elif M_TIPO.startswith(\"bin_s\"):\n",
    "    myfunc.verbose(f\"Utilizando parámetros de {M_TIPO}\")\n",
    "    eval_selector = eval_selector_rf\n",
    "    eval_clasifier = eval_clasifier_lr\n",
    "\n",
    "    SEMILLA = 6191\n",
    "    M_SELECT = \"RF\"\n",
    "    M_CLASIF = \"LR_L2\"\n",
    "    param_distributions = {'selector__max_features': [1000], 'selector__estimator__n_estimators': [200], \n",
    "        'clasifier__solver': ['lbfgs'], 'clasifier__penalty': ['l2'], 'clasifier__max_iter': [10000]}\n",
    "\n",
    "elif M_TIPO.startswith(\"mul_m\"):\n",
    "    myfunc.verbose(f\"Utilizando parámetros de {M_TIPO}\")\n",
    " \n",
    "    eval_selector = eval_selector_rf\n",
    "    eval_clasifier = eval_clasifier_lr\n",
    "\n",
    "    SEMILLA = 6191\n",
    "    M_SELECT = \"RF\"\n",
    "    M_CLASIF = \"LR_L2\"\n",
    "    param_distributions = {'selector__max_features': [1000], 'selector__estimator__n_estimators': [400], \n",
    "        'clasifier__solver': ['lbfgs'], 'clasifier__penalty': ['l2'], 'clasifier__max_iter': [10000]}\n",
    "\n",
    "else:\n",
    "    # M_TIPO.startswith(\"mul_s\"):\n",
    "    myfunc.verbose(f\"Utilizando parámetros de {M_TIPO}\")\n",
    "    eval_selector = eval_selector_anova\n",
    "    eval_clasifier = eval_clasifier_lr\n",
    "\n",
    "    SEMILLA = 1860\n",
    "    M_SELECT = \"ANOVA\"\n",
    "    M_CLASIF = \"LR_L2\"\n",
    "    param_distributions = {'selector__k': [1000], \n",
    "        'clasifier__solver': ['saga'], 'clasifier__penalty': ['l2'], 'clasifier__max_iter': [10000]}\n",
    "\n"
   ]
  },
  {
   "cell_type": "code",
   "execution_count": 3,
   "id": "67f8e7d7",
   "metadata": {
    "execution": {
     "iopub.execute_input": "2023-10-30T18:31:54.769415Z",
     "iopub.status.busy": "2023-10-30T18:31:54.769224Z",
     "iopub.status.idle": "2023-10-30T18:31:54.772915Z",
     "shell.execute_reply": "2023-10-30T18:31:54.772400Z"
    },
    "papermill": {
     "duration": 0.008056,
     "end_time": "2023-10-30T18:31:54.774170",
     "exception": false,
     "start_time": "2023-10-30T18:31:54.766114",
     "status": "completed"
    },
    "tags": [
     "injected-parameters"
    ]
   },
   "outputs": [],
   "source": [
    "# Parameters\n",
    "M_TIPO = \"mul_s\"\n",
    "M_SELECT = \"RF\"\n",
    "M_CLASIF = \"LR_L1\"\n",
    "P_FICHERO = \"param_0000_6390_mul_s_RF_LR_L1.yaml\"\n",
    "R_FICHERO = \"resultados_6390\"\n",
    "M_FICHERO = \"metricas_6390\"\n",
    "PRE_DATA_FILE = \"rows_transpose_norm_by_gene_id_with_target_num_\"\n",
    "SCORING = \"roc_auc_ovr\"\n",
    "SEMILLA = 6390\n",
    "MAX_ITERS = 500\n",
    "eval_selector = \"SelectFromModel(estimator=RandomForestClassifier(random_state=SEMILLA), threshold=-np.inf)\"\n",
    "eval_clasifier = \"LogisticRegressionCV(random_state=SEMILLA)\"\n",
    "param_distributions = {\n",
    "    \"selector__max_features\": [500],\n",
    "    \"selector__estimator__n_estimators\": [100],\n",
    "    \"clasifier__solver\": [\"saga\"],\n",
    "    \"clasifier__penalty\": [\"l1\"],\n",
    "    \"clasifier__max_iter\": [10000],\n",
    "}\n"
   ]
  },
  {
   "cell_type": "code",
   "execution_count": 4,
   "id": "755ccefe",
   "metadata": {
    "execution": {
     "iopub.execute_input": "2023-10-30T18:31:54.781102Z",
     "iopub.status.busy": "2023-10-30T18:31:54.780920Z",
     "iopub.status.idle": "2023-10-30T18:31:54.784437Z",
     "shell.execute_reply": "2023-10-30T18:31:54.783856Z"
    },
    "papermill": {
     "duration": 0.008605,
     "end_time": "2023-10-30T18:31:54.785869",
     "exception": false,
     "start_time": "2023-10-30T18:31:54.777264",
     "status": "completed"
    },
    "tags": []
   },
   "outputs": [],
   "source": [
    "DATA_FILE = PRE_DATA_FILE + M_TIPO\n",
    "\n",
    "# si viene \"None\" en el parámetro max_depth, se le quitan las comillas para que no sea entendido por el algoritmo como un texto\n",
    "if \"clasifier__max_depth\" in param_distributions:\n",
    "    param_distributions['clasifier__max_depth'] = [None if x == 'None' else x for x in param_distributions['clasifier__max_depth']]"
   ]
  },
  {
   "cell_type": "markdown",
   "id": "e8471f64",
   "metadata": {
    "papermill": {
     "duration": 0.003493,
     "end_time": "2023-10-30T18:31:54.792879",
     "exception": false,
     "start_time": "2023-10-30T18:31:54.789386",
     "status": "completed"
    },
    "tags": []
   },
   "source": [
    "Asignar los algoritmos que se utilizarán en la función RandomSearchCV"
   ]
  },
  {
   "cell_type": "code",
   "execution_count": 5,
   "id": "825cbf6e",
   "metadata": {
    "execution": {
     "iopub.execute_input": "2023-10-30T18:31:54.800785Z",
     "iopub.status.busy": "2023-10-30T18:31:54.800578Z",
     "iopub.status.idle": "2023-10-30T18:31:54.803987Z",
     "shell.execute_reply": "2023-10-30T18:31:54.803366Z"
    },
    "papermill": {
     "duration": 0.009049,
     "end_time": "2023-10-30T18:31:54.805481",
     "exception": false,
     "start_time": "2023-10-30T18:31:54.796432",
     "status": "completed"
    },
    "tags": []
   },
   "outputs": [],
   "source": [
    "algor_selector=eval(eval_selector)\n",
    "algor_clasifier=eval(eval_clasifier)"
   ]
  },
  {
   "cell_type": "markdown",
   "id": "88fa8f87",
   "metadata": {
    "papermill": {
     "duration": 0.003918,
     "end_time": "2023-10-30T18:31:54.813204",
     "exception": false,
     "start_time": "2023-10-30T18:31:54.809286",
     "status": "completed"
    },
    "tags": []
   },
   "source": [
    "#### Comprobar el entorno y leer fichero de muestras"
   ]
  },
  {
   "cell_type": "code",
   "execution_count": 6,
   "id": "1a220bbd",
   "metadata": {
    "execution": {
     "iopub.execute_input": "2023-10-30T18:31:54.821388Z",
     "iopub.status.busy": "2023-10-30T18:31:54.821189Z",
     "iopub.status.idle": "2023-10-30T18:31:54.954491Z",
     "shell.execute_reply": "2023-10-30T18:31:54.953947Z"
    },
    "papermill": {
     "duration": 0.138865,
     "end_time": "2023-10-30T18:31:54.955864",
     "exception": false,
     "start_time": "2023-10-30T18:31:54.816999",
     "status": "completed"
    },
    "tags": []
   },
   "outputs": [
    {
     "name": "stdout",
     "output_type": "stream",
     "text": [
      "20231030T193154 : amilcar22 : INFO : Encontrada carpeta DATA_DIR=../tfm_git/datos\n",
      "20231030T193154 : amilcar22 : INFO : Encontrada carpeta CFDNA_DIR=../tfm_git/datos/cfDNA_5hmC\n",
      "20231030T193154 : amilcar22 : INFO : Encontrada carpeta GENCODE_DIR=../tfm_git/datos/gencode\n",
      "20231030T193154 : amilcar22 : INFO : Encontrada carpeta H5_DIR=../tfm_git/datos/h5\n",
      "20231030T193154 : amilcar22 : INFO : Encontrada carpeta LOG_DIR=../tfm_git/datos/logs\n",
      "20231030T193154 : amilcar22 : INFO : Encontrada carpeta CSV_DIR=../tfm_git/datos/csv\n",
      "20231030T193154 : amilcar22 : INFO : Encontrada carpeta MODEL_DIR=../tfm_git/ejecuciones/modelos\n",
      "20231030T193154 : amilcar22 : INFO : Encontrada carpeta EXEC_DIR=../tfm_git/ejecuciones\n",
      "20231030T193154 : amilcar22 : INFO : Encontrada carpeta MET_DIR=../tfm_git/ejecuciones/metricas\n",
      "20231030T193154 : amilcar22 : INFO : Inicio leer fichero h5 ../tfm_git/datos/h5/rows_transpose_norm_by_gene_id_with_target_num_mul_s.h5\n",
      "20231030T193154 : amilcar22 : INFO : Leyendo clave /df\n",
      "20231030T193154 : amilcar22 : INFO : Tamaño (259, 18876)\n",
      "20231030T193154 : amilcar22 : INFO : Fin leer fichero h5 ../tfm_git/datos/h5/rows_transpose_norm_by_gene_id_with_target_num_mul_s.h5\n"
     ]
    },
    {
     "data": {
      "text/plain": [
       "target\n",
       "0    37\n",
       "1    37\n",
       "2    37\n",
       "3    37\n",
       "4    37\n",
       "5    37\n",
       "6    37\n",
       "dtype: int64"
      ]
     },
     "metadata": {},
     "output_type": "display_data"
    },
    {
     "name": "stdout",
     "output_type": "stream",
     "text": [
      "Shape df: (259, 18876)\n"
     ]
    },
    {
     "name": "stdout",
     "output_type": "stream",
     "text": [
      "Shape X_train: (207, 18875)\n",
      "Shape X_test: (52, 18875)\n"
     ]
    }
   ],
   "source": [
    "start_time = datetime.datetime.now()\n",
    "\n",
    "myfunc.reset_vars()\n",
    "\n",
    "myfunc.NOTEBK_FILENAME = myfunc.get_nb_name()\n",
    "\n",
    "myfunc.check_enviroment(myfunc.DATA_DIR, myfunc.CFDNA_DIR, myfunc.GENCODE_DIR, myfunc.H5_DIR, myfunc.LOG_DIR, myfunc.CSV_DIR, myfunc.MODEL_DIR, myfunc.EXEC_DIR, myfunc.MET_DIR)\n",
    "\n",
    "# Leer fichero con las muestras\n",
    "df_t = myfunc.read_h5_to_df(DATA_FILE, myfunc.H5_DIR)\n",
    "display(df_t.groupby(\"target\").size())\n",
    "print(\"Shape df:\",df_t.shape)\n",
    "\n",
    "# Separar caracteristicas/genes de las etiquetas/tipos de cáncer\n",
    "X = df_t.iloc[:, :-1]  # Todas las columnas excepto la última\n",
    "y = df_t.iloc[:, -1]  # La última columna contiene los identificadores de los tipos de cáncer\n",
    "\n",
    "#  Crear el conjunto de datos de entrenamiento y de pruebas, y se fija la semilla para siempre coger el mismo juego de muestras\n",
    "X_train, X_test, y_train, y_test = train_test_split(X, y, test_size=0.2, shuffle=True, random_state=42)\n",
    "print(\"Shape X_train:\",X_train.shape)\n",
    "print(\"Shape X_test:\",X_test.shape)\n"
   ]
  },
  {
   "cell_type": "markdown",
   "id": "9d35e2de",
   "metadata": {
    "papermill": {
     "duration": 0.002846,
     "end_time": "2023-10-30T18:31:54.962005",
     "exception": false,
     "start_time": "2023-10-30T18:31:54.959159",
     "status": "completed"
    },
    "tags": []
   },
   "source": [
    "#### Selección de características y clasificación."
   ]
  },
  {
   "cell_type": "code",
   "execution_count": 7,
   "id": "a8f84331",
   "metadata": {
    "execution": {
     "iopub.execute_input": "2023-10-30T18:31:54.970395Z",
     "iopub.status.busy": "2023-10-30T18:31:54.970199Z",
     "iopub.status.idle": "2023-10-30T18:40:20.449932Z",
     "shell.execute_reply": "2023-10-30T18:40:20.449238Z"
    },
    "papermill": {
     "duration": 505.48488,
     "end_time": "2023-10-30T18:40:20.451342",
     "exception": false,
     "start_time": "2023-10-30T18:31:54.966462",
     "status": "completed"
    },
    "tags": []
   },
   "outputs": [
    {
     "name": "stdout",
     "output_type": "stream",
     "text": [
      "20231030T193154 : amilcar22 : INFO : Iniciando entrenamiento\n",
      "num_iter: 1 , max_iter: 1\n",
      "Fitting 5 folds for each of 1 candidates, totalling 5 fits\n"
     ]
    },
    {
     "name": "stdout",
     "output_type": "stream",
     "text": [
      "[CV 1/5] END clasifier__max_iter=10000, clasifier__penalty=l1, clasifier__solver=saga, selector__estimator__n_estimators=100, selector__max_features=500;, score=0.835 total time= 3.3min\n"
     ]
    },
    {
     "name": "stdout",
     "output_type": "stream",
     "text": [
      "[CV 2/5] END clasifier__max_iter=10000, clasifier__penalty=l1, clasifier__solver=saga, selector__estimator__n_estimators=100, selector__max_features=500;, score=0.731 total time= 3.3min\n"
     ]
    },
    {
     "name": "stdout",
     "output_type": "stream",
     "text": [
      "Mejores Hiperparámetros: {'selector__max_features': 500, 'selector__estimator__n_estimators': 100, 'clasifier__solver': 'saga', 'clasifier__penalty': 'l1', 'clasifier__max_iter': 10000}\n",
      "Mejor Puntuación: 0.7588\n",
      "20231030T194020 : amilcar22 : INFO : Fin entrenamiento\n"
     ]
    }
   ],
   "source": [
    "myfunc.verbose(\"Iniciando entrenamiento\")\n",
    "\n",
    "kf = KFold(n_splits=5, shuffle=True, random_state=SEMILLA)\n",
    "\n",
    "# Crear el pipeline para el flujo de tareas\n",
    "tasks_pipeline = Pipeline([\n",
    "    ('selector', algor_selector),\n",
    "    ('clasifier', algor_clasifier)\n",
    "])\n",
    "\n",
    "# MAX_ITERS puede limitar el número de iteraciones si son excesivas para las combinaciones de parámetros buscando un óptimo local, \n",
    "# sino funcionaría como GridSearchCV al revisar todas las cominaciones de los parámetros\n",
    "num_iteraciones = 1\n",
    "num_iteraciones = num_iteraciones * np.prod([len(elemento1) for _, elemento1 in param_distributions.items()])\n",
    "max_iteraciones = num_iteraciones if num_iteraciones <= MAX_ITERS else MAX_ITERS\n",
    "print(\"num_iter:\",num_iteraciones,\", max_iter:\",max_iteraciones)\n",
    "\n",
    "random_search = RandomizedSearchCV(\n",
    "    tasks_pipeline, \n",
    "    param_distributions, \n",
    "    n_iter=max_iteraciones,\n",
    "    scoring=SCORING,\n",
    "    cv=kf,\n",
    "    verbose=3, \n",
    "    random_state=SEMILLA, \n",
    "    n_jobs=-1\n",
    "    )\n",
    "\n",
    "# Entrenar el modelo\n",
    "random_search.fit(X_train, y_train)\n",
    "\n",
    "# Ver los mejores hiperparámetros encontrados\n",
    "print(f'Mejores Hiperparámetros: {random_search.best_params_}')\n",
    "print(f'Mejor Puntuación: {random_search.best_score_:.4f}')\n",
    "\n",
    "# Nos quedamos con el mejor modelo para ver las métricas\n",
    "mejor_modelo = random_search.best_estimator_\n",
    "\n",
    "myfunc.verbose(\"Fin entrenamiento\")"
   ]
  },
  {
   "cell_type": "markdown",
   "id": "b1cf7055",
   "metadata": {
    "papermill": {
     "duration": 0.003115,
     "end_time": "2023-10-30T18:40:20.458031",
     "exception": false,
     "start_time": "2023-10-30T18:40:20.454916",
     "status": "completed"
    },
    "tags": []
   },
   "source": [
    "#### Guardar modelo"
   ]
  },
  {
   "cell_type": "code",
   "execution_count": 8,
   "id": "0a718be6",
   "metadata": {
    "execution": {
     "iopub.execute_input": "2023-10-30T18:40:20.464964Z",
     "iopub.status.busy": "2023-10-30T18:40:20.464745Z",
     "iopub.status.idle": "2023-10-30T18:40:20.507152Z",
     "shell.execute_reply": "2023-10-30T18:40:20.506563Z"
    },
    "papermill": {
     "duration": 0.047567,
     "end_time": "2023-10-30T18:40:20.508575",
     "exception": false,
     "start_time": "2023-10-30T18:40:20.461008",
     "status": "completed"
    },
    "tags": []
   },
   "outputs": [
    {
     "name": "stdout",
     "output_type": "stream",
     "text": [
      "20231030T194020 : amilcar22 : INFO : Inicio guardar fichero ../tfm_git/ejecuciones/modelos/modelo_6390_mul_s_RF_LR_L1.pkl\n",
      "20231030T194020 : amilcar22 : INFO : Fin guardar fichero ../tfm_git/ejecuciones/modelos/modelo_6390_mul_s_RF_LR_L1.pkl\n"
     ]
    }
   ],
   "source": [
    "fichero_modelo = str.replace(\"modelo_\"+str(SEMILLA).zfill(4)+\"_\"+M_TIPO+\"_\"+M_SELECT+\"_\"+M_CLASIF+\".pkl\", \" \", \"_\")\n",
    "\n",
    "myfunc.save_modelo(mejor_modelo, myfunc.MODEL_DIR, fichero_modelo)"
   ]
  },
  {
   "cell_type": "markdown",
   "id": "e6d42c06",
   "metadata": {
    "papermill": {
     "duration": 0.003073,
     "end_time": "2023-10-30T18:40:20.515129",
     "exception": false,
     "start_time": "2023-10-30T18:40:20.512056",
     "status": "completed"
    },
    "tags": []
   },
   "source": [
    "#### Ver resultados del las iteraciones hechas por RandomSearchCV"
   ]
  },
  {
   "cell_type": "code",
   "execution_count": 9,
   "id": "f74c3921",
   "metadata": {
    "execution": {
     "iopub.execute_input": "2023-10-30T18:40:20.522039Z",
     "iopub.status.busy": "2023-10-30T18:40:20.521819Z",
     "iopub.status.idle": "2023-10-30T18:40:20.528002Z",
     "shell.execute_reply": "2023-10-30T18:40:20.527525Z"
    },
    "papermill": {
     "duration": 0.011039,
     "end_time": "2023-10-30T18:40:20.529220",
     "exception": false,
     "start_time": "2023-10-30T18:40:20.518181",
     "status": "completed"
    },
    "tags": []
   },
   "outputs": [
    {
     "name": "stdout",
     "output_type": "stream",
     "text": [
      "20231030T194020 : amilcar22 : INFO : Inicio ver resultados\n",
      "Mejores Hiperparámetros: {'selector__max_features': 500, 'selector__estimator__n_estimators': 100, 'clasifier__solver': 'saga', 'clasifier__penalty': 'l1', 'clasifier__max_iter': 10000}\n",
      "Mejores puntuaciones: 0.7588 | Params: {'selector__max_features': 500, 'selector__estimator__n_estimators': 100, 'clasifier__solver': 'saga', 'clasifier__penalty': 'l1', 'clasifier__max_iter': 10000}\n",
      "Media de las puntuaciones: 0.7588 | Params: {'selector__max_features': 500, 'selector__estimator__n_estimators': 100, 'clasifier__solver': 'saga', 'clasifier__penalty': 'l1', 'clasifier__max_iter': 10000}\n",
      "20231030T194020 : amilcar22 : INFO : Fin resultados\n"
     ]
    }
   ],
   "source": [
    "myfunc.ver_resultados_search(random_search)"
   ]
  },
  {
   "cell_type": "markdown",
   "id": "c09f2026",
   "metadata": {
    "papermill": {
     "duration": 0.003045,
     "end_time": "2023-10-30T18:40:20.535534",
     "exception": false,
     "start_time": "2023-10-30T18:40:20.532489",
     "status": "completed"
    },
    "tags": []
   },
   "source": [
    "#### Ver métricas del mejor modelo"
   ]
  },
  {
   "cell_type": "code",
   "execution_count": 10,
   "id": "30065294",
   "metadata": {
    "execution": {
     "iopub.execute_input": "2023-10-30T18:40:20.542518Z",
     "iopub.status.busy": "2023-10-30T18:40:20.542316Z",
     "iopub.status.idle": "2023-10-30T18:40:21.197892Z",
     "shell.execute_reply": "2023-10-30T18:40:21.197371Z"
    },
    "papermill": {
     "duration": 0.660518,
     "end_time": "2023-10-30T18:40:21.199185",
     "exception": false,
     "start_time": "2023-10-30T18:40:20.538667",
     "status": "completed"
    },
    "tags": []
   },
   "outputs": [
    {
     "name": "stdout",
     "output_type": "stream",
     "text": [
      "20231030T194020 : amilcar22 : INFO : Inicio ver métricas multiclase\n"
     ]
    },
    {
     "name": "stdout",
     "output_type": "stream",
     "text": [
      "              precision    recall  f1-score   support\n",
      "\n",
      "           0       0.13      0.18      0.15        11\n",
      "           1       1.00      0.38      0.55         8\n",
      "           2       0.33      0.12      0.18         8\n",
      "           3       0.00      0.00      0.00         5\n",
      "           4       0.44      0.50      0.47         8\n",
      "           5       0.50      0.33      0.40         6\n",
      "           6       0.25      0.50      0.33         6\n",
      "\n",
      "    accuracy                           0.29        52\n",
      "   macro avg       0.38      0.29      0.30        52\n",
      "weighted avg       0.39      0.29      0.30        52\n",
      "\n",
      "\n",
      "\n",
      "           Exactitud: 0.288462\n",
      "   Precisión (media): 0.380159\n",
      "      Recall (media): 0.287879\n",
      "    F1-score (media): 0.297863\n",
      "\n",
      "\n",
      "AUC para el tipo de cáncer 0-Control.... 0.5410\n",
      "AUC para el tipo de cáncer 1-Bladder.... 0.8352\n",
      "AUC para el tipo de cáncer 2-Breast..... 0.7216\n",
      "AUC para el tipo de cáncer 3-Colorectal. 0.5660\n",
      "AUC para el tipo de cáncer 4-Kidney..... 0.8295\n",
      "AUC para el tipo de cáncer 5-Lung....... 0.8370\n",
      "AUC para el tipo de cáncer 6-Prostate... 0.8623\n",
      "\n",
      "Media de AUC: 0.7418\n"
     ]
    },
    {
     "data": {
      "image/png": "[encoded data removed]",
      "text/plain": [
       "<Figure size 1000x600 with 1 Axes>"
      ]
     },
     "metadata": {},
     "output_type": "display_data"
    },
    {
     "name": "stdout",
     "output_type": "stream",
     "text": [
      "\n",
      "\n"
     ]
    },
    {
     "data": {
      "image/png": "[encoded data removed]",
      "text/plain": [
       "<Figure size 800x400 with 2 Axes>"
      ]
     },
     "metadata": {},
     "output_type": "display_data"
    },
    {
     "name": "stdout",
     "output_type": "stream",
     "text": [
      "\n",
      "\n",
      "Puntuación Jaccard para el cáncer tipo 0-Control.... 0.0833\n",
      "Puntuación Jaccard para el cáncer tipo 1-Bladder.... 0.3750\n",
      "Puntuación Jaccard para el cáncer tipo 2-Breast..... 0.1000\n",
      "Puntuación Jaccard para el cáncer tipo 3-Colorectal. 0.0000\n",
      "Puntuación Jaccard para el cáncer tipo 4-Kidney..... 0.3077\n",
      "Puntuación Jaccard para el cáncer tipo 5-Lung....... 0.2500\n",
      "Puntuación Jaccard para el cáncer tipo 6-Prostate... 0.2000\n",
      "\n",
      "Media de la puntuación de Jaccard: 0.1880\n"
     ]
    }
   ],
   "source": [
    "if M_TIPO.startswith(\"bin\"):\n",
    "    myfunc.ver_metricas(mejor_modelo, X_test, y_test)\n",
    "else:\n",
    "    myfunc.ver_metricas_multi(mejor_modelo, X_test, y_test)\n"
   ]
  },
  {
   "cell_type": "markdown",
   "id": "1a575f6a",
   "metadata": {
    "papermill": {
     "duration": 0.004197,
     "end_time": "2023-10-30T18:40:21.208353",
     "exception": false,
     "start_time": "2023-10-30T18:40:21.204156",
     "status": "completed"
    },
    "tags": []
   },
   "source": [
    "#### Finalización del notebook"
   ]
  },
  {
   "cell_type": "code",
   "execution_count": 11,
   "id": "5d822462",
   "metadata": {
    "execution": {
     "iopub.execute_input": "2023-10-30T18:40:21.217557Z",
     "iopub.status.busy": "2023-10-30T18:40:21.217332Z",
     "iopub.status.idle": "2023-10-30T18:40:21.220700Z",
     "shell.execute_reply": "2023-10-30T18:40:21.220247Z"
    },
    "papermill": {
     "duration": 0.009407,
     "end_time": "2023-10-30T18:40:21.221950",
     "exception": false,
     "start_time": "2023-10-30T18:40:21.212543",
     "status": "completed"
    },
    "tags": []
   },
   "outputs": [
    {
     "name": "stdout",
     "output_type": "stream",
     "text": [
      "20231030T194021 : amilcar22 : INFO : Notebook ha tardado 506 seconds\n"
     ]
    }
   ],
   "source": [
    "end_time = datetime.datetime.now()\n",
    "total_time = end_time - start_time\n",
    "myfunc.verbose(f\"Notebook ha tardado {total_time.seconds} seconds\")"
   ]
  },
  {
   "cell_type": "markdown",
   "id": "faf16e69",
   "metadata": {
    "papermill": {
     "duration": 0.004125,
     "end_time": "2023-10-30T18:40:21.230255",
     "exception": false,
     "start_time": "2023-10-30T18:40:21.226130",
     "status": "completed"
    },
    "tags": []
   },
   "source": [
    "#### Guardar métricas"
   ]
  },
  {
   "cell_type": "code",
   "execution_count": 12,
   "id": "b65fe303",
   "metadata": {
    "execution": {
     "iopub.execute_input": "2023-10-30T18:40:21.239414Z",
     "iopub.status.busy": "2023-10-30T18:40:21.239193Z",
     "iopub.status.idle": "2023-10-30T18:40:21.526949Z",
     "shell.execute_reply": "2023-10-30T18:40:21.526406Z"
    },
    "papermill": {
     "duration": 0.293827,
     "end_time": "2023-10-30T18:40:21.528280",
     "exception": false,
     "start_time": "2023-10-30T18:40:21.234453",
     "status": "completed"
    },
    "tags": []
   },
   "outputs": [
    {
     "name": "stdout",
     "output_type": "stream",
     "text": [
      "20231030T194021 : amilcar22 : INFO : Inicio guardar métricas multiclase\n",
      "20231030T194021 : amilcar22 : INFO : Inicio leer fichero ../tfm_git/ejecuciones/metricas/metricas_6390.csv\n",
      "20231030T194021 : amilcar22 : INFO : Fin leer fichero ../tfm_git/ejecuciones/metricas/metricas_6390.csv\n"
     ]
    },
    {
     "name": "stdout",
     "output_type": "stream",
     "text": [
      "20231030T194021 : amilcar22 : INFO : Inicio guardar fichero ../tfm_git/ejecuciones/metricas/metricas_6390.csv\n",
      "20231030T194021 : amilcar22 : INFO : Fichero borrado ../tfm_git/ejecuciones/metricas/metricas_6390.csv\n",
      "20231030T194021 : amilcar22 : INFO : Fin guardar fichero ../tfm_git/ejecuciones/metricas/metricas_6390.csv\n",
      "20231030T194021 : amilcar22 : INFO : Fin guardar métricas multiclase\n",
      "20231030T194021 : amilcar22 : INFO : Inicio leer fichero ../tfm_git/ejecuciones/metricas/metricas_6390.csv\n",
      "20231030T194021 : amilcar22 : INFO : Fin leer fichero ../tfm_git/ejecuciones/metricas/metricas_6390.csv\n"
     ]
    },
    {
     "data": {
      "text/html": [
       "<div>\n",
       "<style scoped>\n",
       "    .dataframe tbody tr th:only-of-type {\n",
       "        vertical-align: middle;\n",
       "    }\n",
       "\n",
       "    .dataframe tbody tr th {\n",
       "        vertical-align: top;\n",
       "    }\n",
       "\n",
       "    .dataframe thead th {\n",
       "        text-align: right;\n",
       "    }\n",
       "</style>\n",
       "<table border=\"1\" class=\"dataframe\">\n",
       "  <thead>\n",
       "    <tr style=\"text-align: right;\">\n",
       "      <th></th>\n",
       "      <th>tipo</th>\n",
       "      <th>select</th>\n",
       "      <th>clasific</th>\n",
       "      <th>semilla</th>\n",
       "      <th>accuracy</th>\n",
       "      <th>precision</th>\n",
       "      <th>recall</th>\n",
       "      <th>f1_score</th>\n",
       "      <th>roc_auc</th>\n",
       "      <th>hostname</th>\n",
       "      <th>total_time_sec</th>\n",
       "      <th>datetime</th>\n",
       "      <th>fichero_modelo</th>\n",
       "      <th>params</th>\n",
       "      <th>shape</th>\n",
       "      <th>features</th>\n",
       "      <th>roc_auc_ovr</th>\n",
       "      <th>indices_auc</th>\n",
       "      <th>indices_jaccard</th>\n",
       "    </tr>\n",
       "  </thead>\n",
       "  <tbody>\n",
       "    <tr>\n",
       "      <th>0</th>\n",
       "      <td>mul_s</td>\n",
       "      <td>RF</td>\n",
       "      <td>LR_L1</td>\n",
       "      <td>6390</td>\n",
       "      <td>0.288462</td>\n",
       "      <td>0.380159</td>\n",
       "      <td>0.287879</td>\n",
       "      <td>0.297863</td>\n",
       "      <td>NaN</td>\n",
       "      <td>amilcar22</td>\n",
       "      <td>506</td>\n",
       "      <td>2023-10-30 19:40:21.492797</td>\n",
       "      <td>modelo_6390_mul_s_RF_LR_L1.pkl</td>\n",
       "      <td>{'selector__max_features': 500, 'selector__est...</td>\n",
       "      <td>X_test:(52, 18875)</td>\n",
       "      <td>['ENSG00000003056.8', 'ENSG00000005381.9', 'EN...</td>\n",
       "      <td>0.741802</td>\n",
       "      <td>[0.541019955654102, 0.8352272727272727, 0.7215...</td>\n",
       "      <td>[0.08333333333333333, 0.375, 0.1, 0.0, 0.30769...</td>\n",
       "    </tr>\n",
       "    <tr>\n",
       "      <th>0</th>\n",
       "      <td>mul_s</td>\n",
       "      <td>RF</td>\n",
       "      <td>LR_EN</td>\n",
       "      <td>6390</td>\n",
       "      <td>0.461538</td>\n",
       "      <td>0.461379</td>\n",
       "      <td>0.449675</td>\n",
       "      <td>0.442580</td>\n",
       "      <td>NaN</td>\n",
       "      <td>amilcar22</td>\n",
       "      <td>466</td>\n",
       "      <td>2023-10-30 19:31:48.721649</td>\n",
       "      <td>modelo_6390_mul_s_RF_LR_EN.pkl</td>\n",
       "      <td>{'selector__max_features': 500, 'selector__est...</td>\n",
       "      <td>X_test:(52, 18875)</td>\n",
       "      <td>['ENSG00000000938.13', 'ENSG00000005108.17', '...</td>\n",
       "      <td>0.805780</td>\n",
       "      <td>[0.6851441241685144, 0.8835227272727273, 0.664...</td>\n",
       "      <td>[0.17647058823529413, 0.5555555555555556, 0.15...</td>\n",
       "    </tr>\n",
       "    <tr>\n",
       "      <th>0</th>\n",
       "      <td>mul_s</td>\n",
       "      <td>MI</td>\n",
       "      <td>SVM</td>\n",
       "      <td>6390</td>\n",
       "      <td>0.403846</td>\n",
       "      <td>0.384055</td>\n",
       "      <td>0.421320</td>\n",
       "      <td>0.388019</td>\n",
       "      <td>NaN</td>\n",
       "      <td>amilcar22</td>\n",
       "      <td>192</td>\n",
       "      <td>2023-10-30 19:23:55.527507</td>\n",
       "      <td>modelo_6390_mul_s_MI_SVM.pkl</td>\n",
       "      <td>{'selector__k': 1000, 'clasifier__kernel': 'rb...</td>\n",
       "      <td>X_test:(52, 18875)</td>\n",
       "      <td>['ENSG00000003137.9', 'ENSG00000004864.14', 'E...</td>\n",
       "      <td>0.789563</td>\n",
       "      <td>[0.5831485587583148, 0.8607954545454546, 0.741...</td>\n",
       "      <td>[0.07142857142857142, 0.3333333333333333, 0.07...</td>\n",
       "    </tr>\n",
       "  </tbody>\n",
       "</table>\n",
       "</div>"
      ],
      "text/plain": [
       "    tipo select clasific  semilla  accuracy  precision    recall  f1_score  \\\n",
       "0  mul_s     RF    LR_L1     6390  0.288462   0.380159  0.287879  0.297863   \n",
       "0  mul_s     RF    LR_EN     6390  0.461538   0.461379  0.449675  0.442580   \n",
       "0  mul_s     MI      SVM     6390  0.403846   0.384055  0.421320  0.388019   \n",
       "\n",
       "   roc_auc   hostname  total_time_sec                    datetime  \\\n",
       "0      NaN  amilcar22             506  2023-10-30 19:40:21.492797   \n",
       "0      NaN  amilcar22             466  2023-10-30 19:31:48.721649   \n",
       "0      NaN  amilcar22             192  2023-10-30 19:23:55.527507   \n",
       "\n",
       "                   fichero_modelo  \\\n",
       "0  modelo_6390_mul_s_RF_LR_L1.pkl   \n",
       "0  modelo_6390_mul_s_RF_LR_EN.pkl   \n",
       "0    modelo_6390_mul_s_MI_SVM.pkl   \n",
       "\n",
       "                                              params               shape  \\\n",
       "0  {'selector__max_features': 500, 'selector__est...  X_test:(52, 18875)   \n",
       "0  {'selector__max_features': 500, 'selector__est...  X_test:(52, 18875)   \n",
       "0  {'selector__k': 1000, 'clasifier__kernel': 'rb...  X_test:(52, 18875)   \n",
       "\n",
       "                                            features  roc_auc_ovr  \\\n",
       "0  ['ENSG00000003056.8', 'ENSG00000005381.9', 'EN...     0.741802   \n",
       "0  ['ENSG00000000938.13', 'ENSG00000005108.17', '...     0.805780   \n",
       "0  ['ENSG00000003137.9', 'ENSG00000004864.14', 'E...     0.789563   \n",
       "\n",
       "                                         indices_auc  \\\n",
       "0  [0.541019955654102, 0.8352272727272727, 0.7215...   \n",
       "0  [0.6851441241685144, 0.8835227272727273, 0.664...   \n",
       "0  [0.5831485587583148, 0.8607954545454546, 0.741...   \n",
       "\n",
       "                                     indices_jaccard  \n",
       "0  [0.08333333333333333, 0.375, 0.1, 0.0, 0.30769...  \n",
       "0  [0.17647058823529413, 0.5555555555555556, 0.15...  \n",
       "0  [0.07142857142857142, 0.3333333333333333, 0.07...  "
      ]
     },
     "metadata": {},
     "output_type": "display_data"
    }
   ],
   "source": [
    "if M_TIPO.startswith(\"bin\"):\n",
    "    myfunc.save_metricas_to_csv(random_search, X_test, y_test, M_TIPO, M_SELECT, M_CLASIF, total_time, SEMILLA, myfunc.MET_DIR, M_FICHERO, fichero_modelo)\n",
    "else:\n",
    "    myfunc.save_metricas_multi_to_csv(random_search, X_test, y_test, M_TIPO, M_SELECT, M_CLASIF, total_time, SEMILLA, myfunc.MET_DIR, M_FICHERO, fichero_modelo)\n",
    "\n",
    "df1=myfunc.read_metricas_to_df(myfunc.MET_DIR,M_FICHERO)\n",
    "\n",
    "display(df1.sort_values(\"datetime\", ascending=False)[:3])\n"
   ]
  },
  {
   "cell_type": "markdown",
   "id": "868bc721",
   "metadata": {
    "papermill": {
     "duration": 0.004481,
     "end_time": "2023-10-30T18:40:21.537799",
     "exception": false,
     "start_time": "2023-10-30T18:40:21.533318",
     "status": "completed"
    },
    "tags": []
   },
   "source": [
    "#### Guardar resultados"
   ]
  },
  {
   "cell_type": "code",
   "execution_count": 13,
   "id": "3e609a4f",
   "metadata": {
    "execution": {
     "iopub.execute_input": "2023-10-30T18:40:21.547477Z",
     "iopub.status.busy": "2023-10-30T18:40:21.547255Z",
     "iopub.status.idle": "2023-10-30T18:40:21.555939Z",
     "shell.execute_reply": "2023-10-30T18:40:21.555441Z"
    },
    "papermill": {
     "duration": 0.014988,
     "end_time": "2023-10-30T18:40:21.557225",
     "exception": false,
     "start_time": "2023-10-30T18:40:21.542237",
     "status": "completed"
    },
    "tags": []
   },
   "outputs": [
    {
     "name": "stdout",
     "output_type": "stream",
     "text": [
      "20231030T194021 : amilcar22 : INFO : Inicio guardar resultados\n",
      "20231030T194021 : amilcar22 : INFO : Inicio guardar fichero ../tfm_git/ejecuciones/metricas/resultados_6390_mul_s-RF-LR_L1.csv\n",
      "20231030T194021 : amilcar22 : INFO : Fin guardar fichero ../tfm_git/ejecuciones/metricas/resultados_6390_mul_s-RF-LR_L1.csv\n",
      "20231030T194021 : amilcar22 : INFO : Fin guardar resultados\n"
     ]
    }
   ],
   "source": [
    "fichero_resultados=R_FICHERO+\"_\"+M_TIPO+\"-\"+M_SELECT+\"-\"+M_CLASIF+\".csv\"\n",
    "myfunc.save_resultados_to_csv(M_TIPO, M_SELECT, M_CLASIF,  random_search, myfunc.MET_DIR, fichero_resultados)\n"
   ]
  }
 ],
 "metadata": {
  "kernelspec": {
   "display_name": "Python 3 (ipykernel)",
   "language": "python",
   "name": "python3"
  },
  "language_info": {
   "codemirror_mode": {
    "name": "ipython",
    "version": 3
   },
   "file_extension": ".py",
   "mimetype": "text/x-python",
   "name": "python",
   "nbconvert_exporter": "python",
   "pygments_lexer": "ipython3",
   "version": "3.10.12"
  },
  "papermill": {
   "default_parameters": {},
   "duration": 511.24561,
   "end_time": "2023-10-30T18:40:24.179173",
   "environment_variables": {},
   "exception": null,
   "input_path": "03_entrenamiento.ipynb",
   "output_path": "ejecuciones/training/03_entrenamiento.20231030T193152.param_0000_6390_mul_s_RF_LR_L1.output.ipynb",
   "parameters": {
    "MAX_ITERS": 500,
    "M_CLASIF": "LR_L1",
    "M_FICHERO": "metricas_6390",
    "M_SELECT": "RF",
    "M_TIPO": "mul_s",
    "PRE_DATA_FILE": "rows_transpose_norm_by_gene_id_with_target_num_",
    "P_FICHERO": "param_0000_6390_mul_s_RF_LR_L1.yaml",
    "R_FICHERO": "resultados_6390",
    "SCORING": "roc_auc_ovr",
    "SEMILLA": 6390,
    "eval_clasifier": "LogisticRegressionCV(random_state=SEMILLA)",
    "eval_selector": "SelectFromModel(estimator=RandomForestClassifier(random_state=SEMILLA), threshold=-np.inf)",
    "param_distributions": {
     "clasifier__max_iter": [
      10000
     ],
     "clasifier__penalty": [
      "l1"
     ],
     "clasifier__solver": [
      "saga"
     ],
     "selector__estimator__n_estimators": [
      100
     ],
     "selector__max_features": [
      500
     ]
    }
   },
   "start_time": "2023-10-30T18:31:52.933563",
   "version": "2.4.0"
  }
 },
 "nbformat": 4,
 "nbformat_minor": 5
}