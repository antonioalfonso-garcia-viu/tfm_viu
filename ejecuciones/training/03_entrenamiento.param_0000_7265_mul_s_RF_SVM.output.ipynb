{
 "cells": [
  {
   "cell_type": "markdown",
   "id": "bcf7dbde",
   "metadata": {
    "papermill": {
     "duration": 0.00563,
     "end_time": "2023-10-30T16:52:58.404473",
     "exception": false,
     "start_time": "2023-10-30T16:52:58.398843",
     "status": "completed"
    },
    "tags": []
   },
   "source": [
    "##### Inicio"
   ]
  },
  {
   "cell_type": "markdown",
   "id": "54d5eb59",
   "metadata": {
    "papermill": {
     "duration": 0.003464,
     "end_time": "2023-10-30T16:52:58.411707",
     "exception": false,
     "start_time": "2023-10-30T16:52:58.408243",
     "status": "completed"
    },
    "tags": []
   },
   "source": [
    "#### Carga de datos"
   ]
  },
  {
   "cell_type": "code",
   "execution_count": 1,
   "id": "92e7ab4c",
   "metadata": {
    "execution": {
     "iopub.execute_input": "2023-10-30T16:52:58.419957Z",
     "iopub.status.busy": "2023-10-30T16:52:58.419464Z",
     "iopub.status.idle": "2023-10-30T16:52:59.523916Z",
     "shell.execute_reply": "2023-10-30T16:52:59.523299Z"
    },
    "papermill": {
     "duration": 1.110255,
     "end_time": "2023-10-30T16:52:59.525362",
     "exception": false,
     "start_time": "2023-10-30T16:52:58.415107",
     "status": "completed"
    },
    "tags": []
   },
   "outputs": [
    {
     "name": "stdout",
     "output_type": "stream",
     "text": [
      "CPU_COUNT: 16; NODE: enderlab; sys.version: 3.10.11 (main, May 16 2023, 00:28:57) [GCC 11.2.0]\n",
      "LOKY_MAX_CPU_COUNT is not set.\n",
      "OMP_NUM_THREADS is not set.\n"
     ]
    }
   ],
   "source": [
    "import os\n",
    "import numpy as np\n",
    "import pandas as pd\n",
    "import datetime\n",
    "import sklearn\n",
    "import logging\n",
    "import warnings\n",
    "\n",
    "from sklearn.pipeline import Pipeline\n",
    "from sklearn.model_selection import RandomizedSearchCV, KFold, cross_val_score, train_test_split\n",
    "from sklearn.metrics import accuracy_score, confusion_matrix, classification_report, roc_auc_score\n",
    "\n",
    "#  cargar algoritmos para aprendizaje supervisado\n",
    "from sklearn.feature_selection import SelectKBest, f_classif, SelectFromModel, mutual_info_classif\n",
    "from sklearn.svm import SVC\n",
    "from sklearn.ensemble import RandomForestClassifier\n",
    "from sklearn.linear_model import LogisticRegression,LogisticRegressionCV\n",
    "\n",
    "# importar fichero con utilidades propias\n",
    "from commons import myfunctions as myfunc\n"
   ]
  },
  {
   "cell_type": "markdown",
   "id": "b60e9d19",
   "metadata": {
    "papermill": {
     "duration": 0.003644,
     "end_time": "2023-10-30T16:52:59.533104",
     "exception": false,
     "start_time": "2023-10-30T16:52:59.529460",
     "status": "completed"
    },
    "tags": []
   },
   "source": [
    "#### Parámetros a utilizar en el entrenamiento.\n",
    "\n",
    "Se indican los 3 algoritmos de *selección de características* (eval_selector_xxx) y los 3 algoritmos para la _clasificación_ (eval_clasifier_xxx)\n",
    "\n",
    "En *param_distributions* se indicar los parámetros que utilizan los algoritmos en la función RandomSearchCV.\n",
    "\n",
    "Esta celda tiene la etiqueta **parameters** que servirá para poder lanzar los entrenamientos con la utilidad **papermill** pasándole un fichero con los parámetros. Los nuevos parámetros se situarán tras esta celda para tener prevalencia."
   ]
  },
  {
   "cell_type": "code",
   "execution_count": 2,
   "id": "00e56277",
   "metadata": {
    "execution": {
     "iopub.execute_input": "2023-10-30T16:52:59.541458Z",
     "iopub.status.busy": "2023-10-30T16:52:59.541034Z",
     "iopub.status.idle": "2023-10-30T16:52:59.549488Z",
     "shell.execute_reply": "2023-10-30T16:52:59.548942Z"
    },
    "papermill": {
     "duration": 0.01419,
     "end_time": "2023-10-30T16:52:59.550746",
     "exception": false,
     "start_time": "2023-10-30T16:52:59.536556",
     "status": "completed"
    },
    "tags": [
     "parameters"
    ]
   },
   "outputs": [
    {
     "name": "stdout",
     "output_type": "stream",
     "text": [
      "20231030T175259 : enderlab : INFO : Utilizando parámetros de mul_m\n"
     ]
    }
   ],
   "source": [
    "#  Parametros para el entrenamiento\n",
    "\n",
    "SEMILLA=        42\n",
    "M_TIPO=         \"mul_m\"\n",
    "M_SELECT=       \"MI\"\n",
    "M_CLASIF=       \"SVM\"\n",
    "R_FICHERO=      \"resultados\"\n",
    "M_FICHERO=      \"metricas\"\n",
    "PRE_DATA_FILE=  \"rows_transpose_norm_by_gene_id_with_target_num_\"\n",
    "SCORING=        \"roc_auc_ovr\" \n",
    "MAX_ITERS=      100\n",
    "\n",
    "def mutual_info_classif_state(X, y):\n",
    "    return mutual_info_classif(X, y, random_state=SEMILLA)\n",
    "\n",
    "eval_selector_mi = \"SelectKBest(score_func=mutual_info_classif_state)\"\n",
    "eval_selector_rf=  \"SelectFromModel(estimator=RandomForestClassifier(random_state=SEMILLA), threshold=-np.inf)\"\n",
    "eval_selector_anova=  \"SelectKBest(score_func=f_classif)\"\n",
    "\n",
    "eval_clasifier_svm= \"SVC(probability=True, random_state=SEMILLA)\"\n",
    "eval_clasifier_rf= \"RandomForestClassifier(random_state=SEMILLA)\"\n",
    "eval_clasifier_lr= \"LogisticRegressionCV(random_state=SEMILLA)\"\n",
    "\n",
    "if M_TIPO.startswith(\"bin_m\"):\n",
    "    myfunc.verbose(f\"Utilizando parámetros de {M_TIPO}\")\n",
    "    eval_selector = eval_selector_mi\n",
    "    eval_clasifier = eval_clasifier_svm\n",
    "\n",
    "    SEMILLA = 6578\n",
    "    M_SELECT = \"MI\"\n",
    "    M_CLASIF = \"SVM\"\n",
    "    param_distributions = {'selector__k': [1000], \n",
    "         'clasifier__kernel': ['rbf'], 'clasifier__gamma': [0.01], 'clasifier__C': [100]}\n",
    "elif M_TIPO.startswith(\"bin_s\"):\n",
    "    myfunc.verbose(f\"Utilizando parámetros de {M_TIPO}\")\n",
    "    eval_selector = eval_selector_rf\n",
    "    eval_clasifier = eval_clasifier_lr\n",
    "\n",
    "    SEMILLA = 6191\n",
    "    M_SELECT = \"RF\"\n",
    "    M_CLASIF = \"LR_L2\"\n",
    "    param_distributions = {'selector__max_features': [1000], 'selector__estimator__n_estimators': [200], \n",
    "        'clasifier__solver': ['lbfgs'], 'clasifier__penalty': ['l2'], 'clasifier__max_iter': [10000]}\n",
    "\n",
    "elif M_TIPO.startswith(\"mul_m\"):\n",
    "    myfunc.verbose(f\"Utilizando parámetros de {M_TIPO}\")\n",
    " \n",
    "    eval_selector = eval_selector_rf\n",
    "    eval_clasifier = eval_clasifier_lr\n",
    "\n",
    "    SEMILLA = 6191\n",
    "    M_SELECT = \"RF\"\n",
    "    M_CLASIF = \"LR_L2\"\n",
    "    param_distributions = {'selector__max_features': [1000], 'selector__estimator__n_estimators': [400], \n",
    "        'clasifier__solver': ['lbfgs'], 'clasifier__penalty': ['l2'], 'clasifier__max_iter': [10000]}\n",
    "\n",
    "else:\n",
    "    # M_TIPO.startswith(\"mul_s\"):\n",
    "    myfunc.verbose(f\"Utilizando parámetros de {M_TIPO}\")\n",
    "    eval_selector = eval_selector_anova\n",
    "    eval_clasifier = eval_clasifier_lr\n",
    "\n",
    "    SEMILLA = 1860\n",
    "    M_SELECT = \"ANOVA\"\n",
    "    M_CLASIF = \"LR_L2\"\n",
    "    param_distributions = {'selector__k': [1000], \n",
    "        'clasifier__solver': ['saga'], 'clasifier__penalty': ['l2'], 'clasifier__max_iter': [10000]}\n",
    "\n"
   ]
  },
  {
   "cell_type": "code",
   "execution_count": 3,
   "id": "73920ccc",
   "metadata": {
    "execution": {
     "iopub.execute_input": "2023-10-30T16:52:59.558986Z",
     "iopub.status.busy": "2023-10-30T16:52:59.558529Z",
     "iopub.status.idle": "2023-10-30T16:52:59.562435Z",
     "shell.execute_reply": "2023-10-30T16:52:59.561913Z"
    },
    "papermill": {
     "duration": 0.009345,
     "end_time": "2023-10-30T16:52:59.563660",
     "exception": false,
     "start_time": "2023-10-30T16:52:59.554315",
     "status": "completed"
    },
    "tags": [
     "injected-parameters"
    ]
   },
   "outputs": [],
   "source": [
    "# Parameters\n",
    "M_TIPO = \"mul_s\"\n",
    "M_SELECT = \"RF\"\n",
    "M_CLASIF = \"SVM\"\n",
    "P_FICHERO = \"param_0000_7265_mul_s_RF_SVM.yaml\"\n",
    "R_FICHERO = \"resultados_7265\"\n",
    "M_FICHERO = \"metricas_7265\"\n",
    "PRE_DATA_FILE = \"rows_transpose_norm_by_gene_id_with_target_num_\"\n",
    "SCORING = \"roc_auc_ovr\"\n",
    "SEMILLA = 7265\n",
    "MAX_ITERS = 500\n",
    "eval_selector = \"SelectFromModel(estimator=RandomForestClassifier(random_state=SEMILLA), threshold=-np.inf)\"\n",
    "eval_clasifier = \"SVC(probability=True, random_state=SEMILLA)\"\n",
    "param_distributions = {\n",
    "    \"selector__max_features\": [200],\n",
    "    \"selector__estimator__n_estimators\": [100],\n",
    "    \"clasifier__kernel\": [\"rbf\"],\n",
    "    \"clasifier__gamma\": [0.01],\n",
    "    \"clasifier__C\": [10],\n",
    "}\n"
   ]
  },
  {
   "cell_type": "code",
   "execution_count": 4,
   "id": "adceec4a",
   "metadata": {
    "execution": {
     "iopub.execute_input": "2023-10-30T16:52:59.572088Z",
     "iopub.status.busy": "2023-10-30T16:52:59.571696Z",
     "iopub.status.idle": "2023-10-30T16:52:59.574859Z",
     "shell.execute_reply": "2023-10-30T16:52:59.574347Z"
    },
    "papermill": {
     "duration": 0.008767,
     "end_time": "2023-10-30T16:52:59.576070",
     "exception": false,
     "start_time": "2023-10-30T16:52:59.567303",
     "status": "completed"
    },
    "tags": []
   },
   "outputs": [],
   "source": [
    "DATA_FILE = PRE_DATA_FILE + M_TIPO\n",
    "\n",
    "# si viene \"None\" en el parámetro max_depth, se le quitan las comillas para que no sea entendido por el algoritmo como un texto\n",
    "if \"clasifier__max_depth\" in param_distributions:\n",
    "    param_distributions['clasifier__max_depth'] = [None if x == 'None' else x for x in param_distributions['clasifier__max_depth']]"
   ]
  },
  {
   "cell_type": "markdown",
   "id": "0cae785b",
   "metadata": {
    "papermill": {
     "duration": 0.003718,
     "end_time": "2023-10-30T16:52:59.583343",
     "exception": false,
     "start_time": "2023-10-30T16:52:59.579625",
     "status": "completed"
    },
    "tags": []
   },
   "source": [
    "Asignar los algoritmos que se utilizarán en la función RandomSearchCV"
   ]
  },
  {
   "cell_type": "code",
   "execution_count": 5,
   "id": "b87688da",
   "metadata": {
    "execution": {
     "iopub.execute_input": "2023-10-30T16:52:59.591590Z",
     "iopub.status.busy": "2023-10-30T16:52:59.591125Z",
     "iopub.status.idle": "2023-10-30T16:52:59.593942Z",
     "shell.execute_reply": "2023-10-30T16:52:59.593438Z"
    },
    "papermill": {
     "duration": 0.008219,
     "end_time": "2023-10-30T16:52:59.595202",
     "exception": false,
     "start_time": "2023-10-30T16:52:59.586983",
     "status": "completed"
    },
    "tags": []
   },
   "outputs": [],
   "source": [
    "algor_selector=eval(eval_selector)\n",
    "algor_clasifier=eval(eval_clasifier)"
   ]
  },
  {
   "cell_type": "markdown",
   "id": "82e7e637",
   "metadata": {
    "papermill": {
     "duration": 0.003782,
     "end_time": "2023-10-30T16:52:59.602521",
     "exception": false,
     "start_time": "2023-10-30T16:52:59.598739",
     "status": "completed"
    },
    "tags": []
   },
   "source": [
    "#### Comprobar el entorno y leer fichero de muestras"
   ]
  },
  {
   "cell_type": "code",
   "execution_count": 6,
   "id": "382bb093",
   "metadata": {
    "execution": {
     "iopub.execute_input": "2023-10-30T16:52:59.610914Z",
     "iopub.status.busy": "2023-10-30T16:52:59.610375Z",
     "iopub.status.idle": "2023-10-30T16:52:59.785465Z",
     "shell.execute_reply": "2023-10-30T16:52:59.784846Z"
    },
    "papermill": {
     "duration": 0.180662,
     "end_time": "2023-10-30T16:52:59.786787",
     "exception": false,
     "start_time": "2023-10-30T16:52:59.606125",
     "status": "completed"
    },
    "tags": []
   },
   "outputs": [
    {
     "name": "stdout",
     "output_type": "stream",
     "text": [
      "20231030T175259 : enderlab : INFO : Encontrada carpeta DATA_DIR=../tfm_git/datos\n",
      "20231030T175259 : enderlab : INFO : Encontrada carpeta CFDNA_DIR=../tfm_git/datos/cfDNA_5hmC\n",
      "20231030T175259 : enderlab : INFO : Encontrada carpeta GENCODE_DIR=../tfm_git/datos/gencode\n",
      "20231030T175259 : enderlab : INFO : Encontrada carpeta H5_DIR=../tfm_git/datos/h5\n",
      "20231030T175259 : enderlab : INFO : Encontrada carpeta LOG_DIR=../tfm_git/datos/logs\n",
      "20231030T175259 : enderlab : INFO : Encontrada carpeta CSV_DIR=../tfm_git/datos/csv\n",
      "20231030T175259 : enderlab : INFO : Encontrada carpeta MODEL_DIR=../tfm_git/ejecuciones/modelos\n",
      "20231030T175259 : enderlab : INFO : Encontrada carpeta EXEC_DIR=../tfm_git/ejecuciones\n",
      "20231030T175259 : enderlab : INFO : Encontrada carpeta MET_DIR=../tfm_git/ejecuciones/metricas\n",
      "20231030T175259 : enderlab : INFO : Inicio leer fichero h5 ../tfm_git/datos/h5/rows_transpose_norm_by_gene_id_with_target_num_mul_s.h5\n",
      "20231030T175259 : enderlab : INFO : Leyendo clave /df\n"
     ]
    },
    {
     "name": "stdout",
     "output_type": "stream",
     "text": [
      "20231030T175259 : enderlab : INFO : Tamaño (259, 18876)\n",
      "20231030T175259 : enderlab : INFO : Fin leer fichero h5 ../tfm_git/datos/h5/rows_transpose_norm_by_gene_id_with_target_num_mul_s.h5\n"
     ]
    },
    {
     "data": {
      "text/plain": [
       "target\n",
       "0    37\n",
       "1    37\n",
       "2    37\n",
       "3    37\n",
       "4    37\n",
       "5    37\n",
       "6    37\n",
       "dtype: int64"
      ]
     },
     "metadata": {},
     "output_type": "display_data"
    },
    {
     "name": "stdout",
     "output_type": "stream",
     "text": [
      "Shape df: (259, 18876)\n"
     ]
    },
    {
     "name": "stdout",
     "output_type": "stream",
     "text": [
      "Shape X_train: (207, 18875)\n",
      "Shape X_test: (52, 18875)\n"
     ]
    }
   ],
   "source": [
    "start_time = datetime.datetime.now()\n",
    "\n",
    "myfunc.reset_vars()\n",
    "\n",
    "myfunc.NOTEBK_FILENAME = myfunc.get_nb_name()\n",
    "\n",
    "myfunc.check_enviroment(myfunc.DATA_DIR, myfunc.CFDNA_DIR, myfunc.GENCODE_DIR, myfunc.H5_DIR, myfunc.LOG_DIR, myfunc.CSV_DIR, myfunc.MODEL_DIR, myfunc.EXEC_DIR, myfunc.MET_DIR)\n",
    "\n",
    "# Leer fichero con las muestras\n",
    "df_t = myfunc.read_h5_to_df(DATA_FILE, myfunc.H5_DIR)\n",
    "display(df_t.groupby(\"target\").size())\n",
    "print(\"Shape df:\",df_t.shape)\n",
    "\n",
    "# Separar caracteristicas/genes de las etiquetas/tipos de cáncer\n",
    "X = df_t.iloc[:, :-1]  # Todas las columnas excepto la última\n",
    "y = df_t.iloc[:, -1]  # La última columna contiene los identificadores de los tipos de cáncer\n",
    "\n",
    "#  Crear el conjunto de datos de entrenamiento y de pruebas, y se fija la semilla para siempre coger el mismo juego de muestras\n",
    "X_train, X_test, y_train, y_test = train_test_split(X, y, test_size=0.2, shuffle=True, random_state=42)\n",
    "print(\"Shape X_train:\",X_train.shape)\n",
    "print(\"Shape X_test:\",X_test.shape)\n"
   ]
  },
  {
   "cell_type": "markdown",
   "id": "9f5197ba",
   "metadata": {
    "papermill": {
     "duration": 0.00409,
     "end_time": "2023-10-30T16:52:59.795390",
     "exception": false,
     "start_time": "2023-10-30T16:52:59.791300",
     "status": "completed"
    },
    "tags": []
   },
   "source": [
    "#### Selección de características y clasificación."
   ]
  },
  {
   "cell_type": "code",
   "execution_count": 7,
   "id": "44fc7ef5",
   "metadata": {
    "execution": {
     "iopub.execute_input": "2023-10-30T16:52:59.804503Z",
     "iopub.status.busy": "2023-10-30T16:52:59.804056Z",
     "iopub.status.idle": "2023-10-30T16:53:04.157410Z",
     "shell.execute_reply": "2023-10-30T16:53:04.156609Z"
    },
    "papermill": {
     "duration": 4.359576,
     "end_time": "2023-10-30T16:53:04.158920",
     "exception": false,
     "start_time": "2023-10-30T16:52:59.799344",
     "status": "completed"
    },
    "tags": []
   },
   "outputs": [
    {
     "name": "stdout",
     "output_type": "stream",
     "text": [
      "20231030T175259 : enderlab : INFO : Iniciando entrenamiento\n",
      "num_iter: 1 , max_iter: 1\n"
     ]
    },
    {
     "name": "stdout",
     "output_type": "stream",
     "text": [
      "Fitting 5 folds for each of 1 candidates, totalling 5 fits\n"
     ]
    },
    {
     "name": "stdout",
     "output_type": "stream",
     "text": [
      "Mejores Hiperparámetros: {'selector__max_features': 200, 'selector__estimator__n_estimators': 100, 'clasifier__kernel': 'rbf', 'clasifier__gamma': 0.01, 'clasifier__C': 10}\n",
      "Mejor Puntuación: 0.7694\n",
      "20231030T175304 : enderlab : INFO : Fin entrenamiento\n"
     ]
    }
   ],
   "source": [
    "myfunc.verbose(\"Iniciando entrenamiento\")\n",
    "\n",
    "kf = KFold(n_splits=5, shuffle=True, random_state=SEMILLA)\n",
    "\n",
    "# Crear el pipeline para el flujo de tareas\n",
    "tasks_pipeline = Pipeline([\n",
    "    ('selector', algor_selector),\n",
    "    ('clasifier', algor_clasifier)\n",
    "])\n",
    "\n",
    "# MAX_ITERS puede limitar el número de iteraciones si son excesivas para las combinaciones de parámetros buscando un óptimo local, \n",
    "# sino funcionaría como GridSearchCV al revisar todas las cominaciones de los parámetros\n",
    "num_iteraciones = 1\n",
    "num_iteraciones = num_iteraciones * np.prod([len(elemento1) for _, elemento1 in param_distributions.items()])\n",
    "max_iteraciones = num_iteraciones if num_iteraciones <= MAX_ITERS else MAX_ITERS\n",
    "print(\"num_iter:\",num_iteraciones,\", max_iter:\",max_iteraciones)\n",
    "\n",
    "random_search = RandomizedSearchCV(\n",
    "    tasks_pipeline, \n",
    "    param_distributions, \n",
    "    n_iter=max_iteraciones,\n",
    "    scoring=SCORING,\n",
    "    cv=kf,\n",
    "    verbose=3, \n",
    "    random_state=SEMILLA, \n",
    "    n_jobs=-1\n",
    "    )\n",
    "\n",
    "# Entrenar el modelo\n",
    "random_search.fit(X_train, y_train)\n",
    "\n",
    "# Ver los mejores hiperparámetros encontrados\n",
    "print(f'Mejores Hiperparámetros: {random_search.best_params_}')\n",
    "print(f'Mejor Puntuación: {random_search.best_score_:.4f}')\n",
    "\n",
    "# Nos quedamos con el mejor modelo para ver las métricas\n",
    "mejor_modelo = random_search.best_estimator_\n",
    "\n",
    "myfunc.verbose(\"Fin entrenamiento\")"
   ]
  },
  {
   "cell_type": "markdown",
   "id": "cac0edc2",
   "metadata": {
    "papermill": {
     "duration": 0.004248,
     "end_time": "2023-10-30T16:53:04.168874",
     "exception": false,
     "start_time": "2023-10-30T16:53:04.164626",
     "status": "completed"
    },
    "tags": []
   },
   "source": [
    "#### Guardar modelo"
   ]
  },
  {
   "cell_type": "code",
   "execution_count": 8,
   "id": "3c5757b3",
   "metadata": {
    "execution": {
     "iopub.execute_input": "2023-10-30T16:53:04.179094Z",
     "iopub.status.busy": "2023-10-30T16:53:04.178672Z",
     "iopub.status.idle": "2023-10-30T16:53:04.232113Z",
     "shell.execute_reply": "2023-10-30T16:53:04.231509Z"
    },
    "papermill": {
     "duration": 0.060514,
     "end_time": "2023-10-30T16:53:04.233530",
     "exception": false,
     "start_time": "2023-10-30T16:53:04.173016",
     "status": "completed"
    },
    "tags": []
   },
   "outputs": [
    {
     "name": "stdout",
     "output_type": "stream",
     "text": [
      "20231030T175304 : enderlab : INFO : Inicio guardar fichero ../tfm_git/ejecuciones/modelos/modelo_7265_mul_s_RF_SVM.pkl\n",
      "20231030T175304 : enderlab : INFO : Fin guardar fichero ../tfm_git/ejecuciones/modelos/modelo_7265_mul_s_RF_SVM.pkl\n"
     ]
    }
   ],
   "source": [
    "fichero_modelo = str.replace(\"modelo_\"+str(SEMILLA).zfill(4)+\"_\"+M_TIPO+\"_\"+M_SELECT+\"_\"+M_CLASIF+\".pkl\", \" \", \"_\")\n",
    "\n",
    "myfunc.save_modelo(mejor_modelo, myfunc.MODEL_DIR, fichero_modelo)"
   ]
  },
  {
   "cell_type": "markdown",
   "id": "9dad8225",
   "metadata": {
    "papermill": {
     "duration": 0.004423,
     "end_time": "2023-10-30T16:53:04.242403",
     "exception": false,
     "start_time": "2023-10-30T16:53:04.237980",
     "status": "completed"
    },
    "tags": []
   },
   "source": [
    "#### Ver resultados del las iteraciones hechas por RandomSearchCV"
   ]
  },
  {
   "cell_type": "code",
   "execution_count": 9,
   "id": "5dd1abc5",
   "metadata": {
    "execution": {
     "iopub.execute_input": "2023-10-30T16:53:04.252037Z",
     "iopub.status.busy": "2023-10-30T16:53:04.251492Z",
     "iopub.status.idle": "2023-10-30T16:53:04.258171Z",
     "shell.execute_reply": "2023-10-30T16:53:04.257616Z"
    },
    "papermill": {
     "duration": 0.012829,
     "end_time": "2023-10-30T16:53:04.259395",
     "exception": false,
     "start_time": "2023-10-30T16:53:04.246566",
     "status": "completed"
    },
    "tags": []
   },
   "outputs": [
    {
     "name": "stdout",
     "output_type": "stream",
     "text": [
      "20231030T175304 : enderlab : INFO : Inicio ver resultados\n",
      "Mejores Hiperparámetros: {'selector__max_features': 200, 'selector__estimator__n_estimators': 100, 'clasifier__kernel': 'rbf', 'clasifier__gamma': 0.01, 'clasifier__C': 10}\n",
      "Mejores puntuaciones: 0.7694 | Params: {'selector__max_features': 200, 'selector__estimator__n_estimators': 100, 'clasifier__kernel': 'rbf', 'clasifier__gamma': 0.01, 'clasifier__C': 10}\n",
      "Media de las puntuaciones: 0.7694 | Params: {'selector__max_features': 200, 'selector__estimator__n_estimators': 100, 'clasifier__kernel': 'rbf', 'clasifier__gamma': 0.01, 'clasifier__C': 10}\n",
      "20231030T175304 : enderlab : INFO : Fin resultados\n"
     ]
    }
   ],
   "source": [
    "myfunc.ver_resultados_search(random_search)"
   ]
  },
  {
   "cell_type": "markdown",
   "id": "96b11df5",
   "metadata": {
    "papermill": {
     "duration": 0.004202,
     "end_time": "2023-10-30T16:53:04.267820",
     "exception": false,
     "start_time": "2023-10-30T16:53:04.263618",
     "status": "completed"
    },
    "tags": []
   },
   "source": [
    "#### Ver métricas del mejor modelo"
   ]
  },
  {
   "cell_type": "code",
   "execution_count": 10,
   "id": "a212904f",
   "metadata": {
    "execution": {
     "iopub.execute_input": "2023-10-30T16:53:04.277678Z",
     "iopub.status.busy": "2023-10-30T16:53:04.277207Z",
     "iopub.status.idle": "2023-10-30T16:53:05.054869Z",
     "shell.execute_reply": "2023-10-30T16:53:05.054259Z"
    },
    "papermill": {
     "duration": 0.783964,
     "end_time": "2023-10-30T16:53:05.056292",
     "exception": false,
     "start_time": "2023-10-30T16:53:04.272328",
     "status": "completed"
    },
    "tags": []
   },
   "outputs": [
    {
     "name": "stdout",
     "output_type": "stream",
     "text": [
      "20231030T175304 : enderlab : INFO : Inicio ver métricas multiclase\n"
     ]
    },
    {
     "name": "stdout",
     "output_type": "stream",
     "text": [
      "              precision    recall  f1-score   support\n",
      "\n",
      "           0       0.25      0.09      0.13        11\n",
      "           1       0.80      0.50      0.62         8\n",
      "           2       0.29      0.25      0.27         8\n",
      "           3       0.25      0.40      0.31         5\n",
      "           4       0.50      0.75      0.60         8\n",
      "           5       0.43      0.50      0.46         6\n",
      "           6       0.22      0.33      0.27         6\n",
      "\n",
      "    accuracy                           0.38        52\n",
      "   macro avg       0.39      0.40      0.38        52\n",
      "weighted avg       0.40      0.38      0.37        52\n",
      "\n",
      "\n",
      "\n",
      "           Exactitud: 0.384615\n",
      "   Precisión (media): 0.390930\n",
      "      Recall (media): 0.403463\n",
      "    F1-score (media): 0.378755\n",
      "\n",
      "\n",
      "AUC para el tipo de cáncer 0-Control.... 0.5432\n",
      "AUC para el tipo de cáncer 1-Bladder.... 0.8153\n",
      "AUC para el tipo de cáncer 2-Breast..... 0.7472\n",
      "AUC para el tipo de cáncer 3-Colorectal. 0.7234\n",
      "AUC para el tipo de cáncer 4-Kidney..... 0.9034\n",
      "AUC para el tipo de cáncer 5-Lung....... 0.7899\n",
      "AUC para el tipo de cáncer 6-Prostate... 0.7246\n",
      "\n",
      "Media de AUC: 0.7496\n"
     ]
    },
    {
     "data": {
      "image/png": "[encoded data removed]",
      "text/plain": [
       "<Figure size 1000x600 with 1 Axes>"
      ]
     },
     "metadata": {},
     "output_type": "display_data"
    },
    {
     "name": "stdout",
     "output_type": "stream",
     "text": [
      "\n",
      "\n"
     ]
    },
    {
     "data": {
      "image/png": "[encoded data removed]",
      "text/plain": [
       "<Figure size 800x400 with 2 Axes>"
      ]
     },
     "metadata": {},
     "output_type": "display_data"
    },
    {
     "name": "stdout",
     "output_type": "stream",
     "text": [
      "\n",
      "\n",
      "Puntuación Jaccard para el cáncer tipo 0-Control.... 0.0714\n",
      "Puntuación Jaccard para el cáncer tipo 1-Bladder.... 0.4444\n",
      "Puntuación Jaccard para el cáncer tipo 2-Breast..... 0.1538\n",
      "Puntuación Jaccard para el cáncer tipo 3-Colorectal. 0.1818\n",
      "Puntuación Jaccard para el cáncer tipo 4-Kidney..... 0.4286\n",
      "Puntuación Jaccard para el cáncer tipo 5-Lung....... 0.3000\n",
      "Puntuación Jaccard para el cáncer tipo 6-Prostate... 0.1538\n",
      "\n",
      "Media de la puntuación de Jaccard: 0.2477\n"
     ]
    }
   ],
   "source": [
    "if M_TIPO.startswith(\"bin\"):\n",
    "    myfunc.ver_metricas(mejor_modelo, X_test, y_test)\n",
    "else:\n",
    "    myfunc.ver_metricas_multi(mejor_modelo, X_test, y_test)\n"
   ]
  },
  {
   "cell_type": "markdown",
   "id": "ee943d63",
   "metadata": {
    "papermill": {
     "duration": 0.006366,
     "end_time": "2023-10-30T16:53:05.073470",
     "exception": false,
     "start_time": "2023-10-30T16:53:05.067104",
     "status": "completed"
    },
    "tags": []
   },
   "source": [
    "#### Finalización del notebook"
   ]
  },
  {
   "cell_type": "code",
   "execution_count": 11,
   "id": "8b86ec8c",
   "metadata": {
    "execution": {
     "iopub.execute_input": "2023-10-30T16:53:05.087117Z",
     "iopub.status.busy": "2023-10-30T16:53:05.086673Z",
     "iopub.status.idle": "2023-10-30T16:53:05.090463Z",
     "shell.execute_reply": "2023-10-30T16:53:05.089895Z"
    },
    "papermill": {
     "duration": 0.012261,
     "end_time": "2023-10-30T16:53:05.091834",
     "exception": false,
     "start_time": "2023-10-30T16:53:05.079573",
     "status": "completed"
    },
    "tags": []
   },
   "outputs": [
    {
     "name": "stdout",
     "output_type": "stream",
     "text": [
      "20231030T175305 : enderlab : INFO : Notebook ha tardado 5 seconds\n"
     ]
    }
   ],
   "source": [
    "end_time = datetime.datetime.now()\n",
    "total_time = end_time - start_time\n",
    "myfunc.verbose(f\"Notebook ha tardado {total_time.seconds} seconds\")"
   ]
  },
  {
   "cell_type": "markdown",
   "id": "d8334700",
   "metadata": {
    "papermill": {
     "duration": 0.007384,
     "end_time": "2023-10-30T16:53:05.106320",
     "exception": false,
     "start_time": "2023-10-30T16:53:05.098936",
     "status": "completed"
    },
    "tags": []
   },
   "source": [
    "#### Guardar métricas"
   ]
  },
  {
   "cell_type": "code",
   "execution_count": 12,
   "id": "cdcfa61a",
   "metadata": {
    "execution": {
     "iopub.execute_input": "2023-10-30T16:53:05.120288Z",
     "iopub.status.busy": "2023-10-30T16:53:05.119678Z",
     "iopub.status.idle": "2023-10-30T16:53:05.481108Z",
     "shell.execute_reply": "2023-10-30T16:53:05.480538Z"
    },
    "papermill": {
     "duration": 0.369602,
     "end_time": "2023-10-30T16:53:05.482493",
     "exception": false,
     "start_time": "2023-10-30T16:53:05.112891",
     "status": "completed"
    },
    "tags": []
   },
   "outputs": [
    {
     "name": "stdout",
     "output_type": "stream",
     "text": [
      "20231030T175305 : enderlab : INFO : Inicio guardar métricas multiclase\n",
      "20231030T175305 : enderlab : INFO : Inicio leer fichero ../tfm_git/ejecuciones/metricas/metricas_7265.csv\n",
      "20231030T175305 : enderlab : INFO : Fin leer fichero ../tfm_git/ejecuciones/metricas/metricas_7265.csv\n"
     ]
    },
    {
     "name": "stdout",
     "output_type": "stream",
     "text": [
      "20231030T175305 : enderlab : INFO : Inicio guardar fichero ../tfm_git/ejecuciones/metricas/metricas_7265.csv\n",
      "20231030T175305 : enderlab : INFO : Fichero borrado ../tfm_git/ejecuciones/metricas/metricas_7265.csv\n",
      "20231030T175305 : enderlab : INFO : Fin guardar fichero ../tfm_git/ejecuciones/metricas/metricas_7265.csv\n",
      "20231030T175305 : enderlab : INFO : Fin guardar métricas multiclase\n",
      "20231030T175305 : enderlab : INFO : Inicio leer fichero ../tfm_git/ejecuciones/metricas/metricas_7265.csv\n",
      "20231030T175305 : enderlab : INFO : Fin leer fichero ../tfm_git/ejecuciones/metricas/metricas_7265.csv\n"
     ]
    },
    {
     "data": {
      "text/html": [
       "<div>\n",
       "<style scoped>\n",
       "    .dataframe tbody tr th:only-of-type {\n",
       "        vertical-align: middle;\n",
       "    }\n",
       "\n",
       "    .dataframe tbody tr th {\n",
       "        vertical-align: top;\n",
       "    }\n",
       "\n",
       "    .dataframe thead th {\n",
       "        text-align: right;\n",
       "    }\n",
       "</style>\n",
       "<table border=\"1\" class=\"dataframe\">\n",
       "  <thead>\n",
       "    <tr style=\"text-align: right;\">\n",
       "      <th></th>\n",
       "      <th>tipo</th>\n",
       "      <th>select</th>\n",
       "      <th>clasific</th>\n",
       "      <th>semilla</th>\n",
       "      <th>accuracy</th>\n",
       "      <th>precision</th>\n",
       "      <th>recall</th>\n",
       "      <th>f1_score</th>\n",
       "      <th>roc_auc</th>\n",
       "      <th>hostname</th>\n",
       "      <th>total_time_sec</th>\n",
       "      <th>datetime</th>\n",
       "      <th>fichero_modelo</th>\n",
       "      <th>params</th>\n",
       "      <th>shape</th>\n",
       "      <th>features</th>\n",
       "      <th>roc_auc_ovr</th>\n",
       "      <th>indices_auc</th>\n",
       "      <th>indices_jaccard</th>\n",
       "    </tr>\n",
       "  </thead>\n",
       "  <tbody>\n",
       "    <tr>\n",
       "      <th>0</th>\n",
       "      <td>mul_s</td>\n",
       "      <td>RF</td>\n",
       "      <td>SVM</td>\n",
       "      <td>7265</td>\n",
       "      <td>0.384615</td>\n",
       "      <td>0.390930</td>\n",
       "      <td>0.403463</td>\n",
       "      <td>0.378755</td>\n",
       "      <td>NaN</td>\n",
       "      <td>enderlab</td>\n",
       "      <td>5</td>\n",
       "      <td>2023-10-30 17:53:05.424347</td>\n",
       "      <td>modelo_7265_mul_s_RF_SVM.pkl</td>\n",
       "      <td>{'selector__max_features': 200, 'selector__est...</td>\n",
       "      <td>X_test:(52, 18875)</td>\n",
       "      <td>['ENSG00000005187.12', 'ENSG00000005812.11', '...</td>\n",
       "      <td>0.749578</td>\n",
       "      <td>[0.5432372505543237, 0.8153409090909092, 0.747...</td>\n",
       "      <td>[0.07142857142857142, 0.4444444444444444, 0.15...</td>\n",
       "    </tr>\n",
       "    <tr>\n",
       "      <th>0</th>\n",
       "      <td>mul_s</td>\n",
       "      <td>RF</td>\n",
       "      <td>RF</td>\n",
       "      <td>7265</td>\n",
       "      <td>0.461538</td>\n",
       "      <td>0.469182</td>\n",
       "      <td>0.465368</td>\n",
       "      <td>0.448087</td>\n",
       "      <td>NaN</td>\n",
       "      <td>enderlab</td>\n",
       "      <td>27</td>\n",
       "      <td>2023-10-30 17:52:52.843138</td>\n",
       "      <td>modelo_7265_mul_s_RF_RF.pkl</td>\n",
       "      <td>{'selector__max_features': 1000, 'selector__es...</td>\n",
       "      <td>X_test:(52, 18875)</td>\n",
       "      <td>['ENSG00000002587.10', 'ENSG00000004660.15', '...</td>\n",
       "      <td>0.760390</td>\n",
       "      <td>[0.4722838137472284, 0.8380681818181818, 0.758...</td>\n",
       "      <td>[0.07692307692307693, 0.5, 0.4, 0.0, 0.7, 0.3,...</td>\n",
       "    </tr>\n",
       "    <tr>\n",
       "      <th>0</th>\n",
       "      <td>mul_s</td>\n",
       "      <td>RF</td>\n",
       "      <td>LR_L2</td>\n",
       "      <td>7265</td>\n",
       "      <td>0.326923</td>\n",
       "      <td>0.315873</td>\n",
       "      <td>0.338095</td>\n",
       "      <td>0.317857</td>\n",
       "      <td>NaN</td>\n",
       "      <td>enderlab</td>\n",
       "      <td>15</td>\n",
       "      <td>2023-10-30 17:52:17.753748</td>\n",
       "      <td>modelo_7265_mul_s_RF_LR_L2.pkl</td>\n",
       "      <td>{'selector__max_features': 500, 'selector__est...</td>\n",
       "      <td>X_test:(52, 18875)</td>\n",
       "      <td>['ENSG00000004455.18', 'ENSG00000005187.12', '...</td>\n",
       "      <td>0.754268</td>\n",
       "      <td>[0.623059866962306, 0.8465909090909091, 0.5852...</td>\n",
       "      <td>[0.0, 0.5555555555555556, 0.07692307692307693,...</td>\n",
       "    </tr>\n",
       "  </tbody>\n",
       "</table>\n",
       "</div>"
      ],
      "text/plain": [
       "    tipo select clasific  semilla  accuracy  precision    recall  f1_score  \\\n",
       "0  mul_s     RF      SVM     7265  0.384615   0.390930  0.403463  0.378755   \n",
       "0  mul_s     RF       RF     7265  0.461538   0.469182  0.465368  0.448087   \n",
       "0  mul_s     RF    LR_L2     7265  0.326923   0.315873  0.338095  0.317857   \n",
       "\n",
       "   roc_auc  hostname  total_time_sec                    datetime  \\\n",
       "0      NaN  enderlab               5  2023-10-30 17:53:05.424347   \n",
       "0      NaN  enderlab              27  2023-10-30 17:52:52.843138   \n",
       "0      NaN  enderlab              15  2023-10-30 17:52:17.753748   \n",
       "\n",
       "                   fichero_modelo  \\\n",
       "0    modelo_7265_mul_s_RF_SVM.pkl   \n",
       "0     modelo_7265_mul_s_RF_RF.pkl   \n",
       "0  modelo_7265_mul_s_RF_LR_L2.pkl   \n",
       "\n",
       "                                              params               shape  \\\n",
       "0  {'selector__max_features': 200, 'selector__est...  X_test:(52, 18875)   \n",
       "0  {'selector__max_features': 1000, 'selector__es...  X_test:(52, 18875)   \n",
       "0  {'selector__max_features': 500, 'selector__est...  X_test:(52, 18875)   \n",
       "\n",
       "                                            features  roc_auc_ovr  \\\n",
       "0  ['ENSG00000005187.12', 'ENSG00000005812.11', '...     0.749578   \n",
       "0  ['ENSG00000002587.10', 'ENSG00000004660.15', '...     0.760390   \n",
       "0  ['ENSG00000004455.18', 'ENSG00000005187.12', '...     0.754268   \n",
       "\n",
       "                                         indices_auc  \\\n",
       "0  [0.5432372505543237, 0.8153409090909092, 0.747...   \n",
       "0  [0.4722838137472284, 0.8380681818181818, 0.758...   \n",
       "0  [0.623059866962306, 0.8465909090909091, 0.5852...   \n",
       "\n",
       "                                     indices_jaccard  \n",
       "0  [0.07142857142857142, 0.4444444444444444, 0.15...  \n",
       "0  [0.07692307692307693, 0.5, 0.4, 0.0, 0.7, 0.3,...  \n",
       "0  [0.0, 0.5555555555555556, 0.07692307692307693,...  "
      ]
     },
     "metadata": {},
     "output_type": "display_data"
    }
   ],
   "source": [
    "if M_TIPO.startswith(\"bin\"):\n",
    "    myfunc.save_metricas_to_csv(random_search, X_test, y_test, M_TIPO, M_SELECT, M_CLASIF, total_time, SEMILLA, myfunc.MET_DIR, M_FICHERO, fichero_modelo)\n",
    "else:\n",
    "    myfunc.save_metricas_multi_to_csv(random_search, X_test, y_test, M_TIPO, M_SELECT, M_CLASIF, total_time, SEMILLA, myfunc.MET_DIR, M_FICHERO, fichero_modelo)\n",
    "\n",
    "df1=myfunc.read_metricas_to_df(myfunc.MET_DIR,M_FICHERO)\n",
    "\n",
    "display(df1.sort_values(\"datetime\", ascending=False)[:3])\n"
   ]
  },
  {
   "cell_type": "markdown",
   "id": "720e527b",
   "metadata": {
    "papermill": {
     "duration": 0.006314,
     "end_time": "2023-10-30T16:53:05.495686",
     "exception": false,
     "start_time": "2023-10-30T16:53:05.489372",
     "status": "completed"
    },
    "tags": []
   },
   "source": [
    "#### Guardar resultados"
   ]
  },
  {
   "cell_type": "code",
   "execution_count": 13,
   "id": "bfabcc63",
   "metadata": {
    "execution": {
     "iopub.execute_input": "2023-10-30T16:53:05.509722Z",
     "iopub.status.busy": "2023-10-30T16:53:05.509063Z",
     "iopub.status.idle": "2023-10-30T16:53:05.519425Z",
     "shell.execute_reply": "2023-10-30T16:53:05.518825Z"
    },
    "papermill": {
     "duration": 0.018676,
     "end_time": "2023-10-30T16:53:05.520634",
     "exception": false,
     "start_time": "2023-10-30T16:53:05.501958",
     "status": "completed"
    },
    "tags": []
   },
   "outputs": [
    {
     "name": "stdout",
     "output_type": "stream",
     "text": [
      "20231030T175305 : enderlab : INFO : Inicio guardar resultados\n",
      "20231030T175305 : enderlab : INFO : Inicio guardar fichero ../tfm_git/ejecuciones/metricas/resultados_7265_mul_s-RF-SVM.csv\n",
      "20231030T175305 : enderlab : INFO : Fin guardar fichero ../tfm_git/ejecuciones/metricas/resultados_7265_mul_s-RF-SVM.csv\n",
      "20231030T175305 : enderlab : INFO : Fin guardar resultados\n"
     ]
    }
   ],
   "source": [
    "fichero_resultados=R_FICHERO+\"_\"+M_TIPO+\"-\"+M_SELECT+\"-\"+M_CLASIF+\".csv\"\n",
    "myfunc.save_resultados_to_csv(M_TIPO, M_SELECT, M_CLASIF,  random_search, myfunc.MET_DIR, fichero_resultados)\n"
   ]
  }
 ],
 "metadata": {
  "kernelspec": {
   "display_name": "Python 3 (ipykernel)",
   "language": "python",
   "name": "python3"
  },
  "language_info": {
   "codemirror_mode": {
    "name": "ipython",
    "version": 3
   },
   "file_extension": ".py",
   "mimetype": "text/x-python",
   "name": "python",
   "nbconvert_exporter": "python",
   "pygments_lexer": "ipython3",
   "version": "3.10.11"
  },
  "papermill": {
   "default_parameters": {},
   "duration": 10.938159,
   "end_time": "2023-10-30T16:53:08.146241",
   "environment_variables": {},
   "exception": null,
   "input_path": "03_entrenamiento.ipynb",
   "output_path": "ejecuciones/training/03_entrenamiento.20231030T175256.param_0000_7265_mul_s_RF_SVM.output.ipynb",
   "parameters": {
    "MAX_ITERS": 500,
    "M_CLASIF": "SVM",
    "M_FICHERO": "metricas_7265",
    "M_SELECT": "RF",
    "M_TIPO": "mul_s",
    "PRE_DATA_FILE": "rows_transpose_norm_by_gene_id_with_target_num_",
    "P_FICHERO": "param_0000_7265_mul_s_RF_SVM.yaml",
    "R_FICHERO": "resultados_7265",
    "SCORING": "roc_auc_ovr",
    "SEMILLA": 7265,
    "eval_clasifier": "SVC(probability=True, random_state=SEMILLA)",
    "eval_selector": "SelectFromModel(estimator=RandomForestClassifier(random_state=SEMILLA), threshold=-np.inf)",
    "param_distributions": {
     "clasifier__C": [
      10
     ],
     "clasifier__gamma": [
      0.01
     ],
     "clasifier__kernel": [
      "rbf"
     ],
     "selector__estimator__n_estimators": [
      100
     ],
     "selector__max_features": [
      200
     ]
    }
   },
   "start_time": "2023-10-30T16:52:57.208082",
   "version": "2.4.0"
  }
 },
 "nbformat": 4,
 "nbformat_minor": 5
}