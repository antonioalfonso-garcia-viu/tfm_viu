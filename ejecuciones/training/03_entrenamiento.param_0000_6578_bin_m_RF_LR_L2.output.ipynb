{
 "cells": [
  {
   "cell_type": "markdown",
   "id": "a0ce6a13",
   "metadata": {
    "papermill": {
     "duration": 0.0,
     "end_time": "2023-10-30T13:53:06.701456",
     "exception": false,
     "start_time": "2023-10-30T13:53:06.701456",
     "status": "completed"
    },
    "tags": []
   },
   "source": [
    "##### Inicio"
   ]
  },
  {
   "cell_type": "markdown",
   "id": "3abfad9f",
   "metadata": {
    "papermill": {
     "duration": 0.0,
     "end_time": "2023-10-30T13:53:06.701456",
     "exception": false,
     "start_time": "2023-10-30T13:53:06.701456",
     "status": "completed"
    },
    "tags": []
   },
   "source": [
    "#### Carga de datos"
   ]
  },
  {
   "cell_type": "code",
   "execution_count": 1,
   "id": "89c745a9",
   "metadata": {
    "execution": {
     "iopub.execute_input": "2023-10-30T13:53:06.717083Z",
     "iopub.status.busy": "2023-10-30T13:53:06.717083Z",
     "iopub.status.idle": "2023-10-30T13:53:07.931547Z",
     "shell.execute_reply": "2023-10-30T13:53:07.931547Z"
    },
    "papermill": {
     "duration": 1.230091,
     "end_time": "2023-10-30T13:53:07.931547",
     "exception": false,
     "start_time": "2023-10-30T13:53:06.701456",
     "status": "completed"
    },
    "tags": []
   },
   "outputs": [
    {
     "name": "stdout",
     "output_type": "stream",
     "text": [
      "CPU_COUNT: 24; NODE: amilcar32; sys.version: 3.10.12 | packaged by Anaconda, Inc. | (main, Jul  5 2023, 19:09:20) [MSC v.1916 64 bit (AMD64)]\n",
      "LOKY_MAX_CPU_COUNT is not set.\n",
      "OMP_NUM_THREADS is not set.\n"
     ]
    }
   ],
   "source": [
    "import os\n",
    "import numpy as np\n",
    "import pandas as pd\n",
    "import datetime\n",
    "import sklearn\n",
    "import logging\n",
    "import warnings\n",
    "\n",
    "from sklearn.pipeline import Pipeline\n",
    "from sklearn.model_selection import RandomizedSearchCV, KFold, cross_val_score, train_test_split\n",
    "from sklearn.metrics import accuracy_score, confusion_matrix, classification_report, roc_auc_score\n",
    "\n",
    "#  cargar algoritmos para aprendizaje supervisado\n",
    "from sklearn.feature_selection import SelectKBest, f_classif, SelectFromModel, mutual_info_classif\n",
    "from sklearn.svm import SVC\n",
    "from sklearn.ensemble import RandomForestClassifier\n",
    "from sklearn.linear_model import LogisticRegression,LogisticRegressionCV\n",
    "\n",
    "# importar fichero con utilidades propias\n",
    "from commons import myfunctions as myfunc\n"
   ]
  },
  {
   "cell_type": "markdown",
   "id": "9761d30f",
   "metadata": {
    "papermill": {
     "duration": 0.0,
     "end_time": "2023-10-30T13:53:07.931547",
     "exception": false,
     "start_time": "2023-10-30T13:53:07.931547",
     "status": "completed"
    },
    "tags": []
   },
   "source": [
    "#### Parámetros a utilizar en el entrenamiento.\n",
    "\n",
    "Se indican los 3 algoritmos de *selección de características* (eval_selector_xxx) y los 3 algoritmos para la _clasificación_ (eval_clasifier_xxx)\n",
    "\n",
    "En *param_distributions* se indicar los parámetros que utilizan los algoritmos en la función RandomSearchCV.\n",
    "\n",
    "Esta celda tiene la etiqueta **parameters** que servirá para poder lanzar los entrenamientos con la utilidad **papermill** pasándole un fichero con los parámetros. Los nuevos parámetros se situarán tras esta celda para tener prevalencia."
   ]
  },
  {
   "cell_type": "code",
   "execution_count": 2,
   "id": "174613a9",
   "metadata": {
    "execution": {
     "iopub.execute_input": "2023-10-30T13:53:07.931547Z",
     "iopub.status.busy": "2023-10-30T13:53:07.931547Z",
     "iopub.status.idle": "2023-10-30T13:53:07.962791Z",
     "shell.execute_reply": "2023-10-30T13:53:07.962791Z"
    },
    "papermill": {
     "duration": 0.0335,
     "end_time": "2023-10-30T13:53:07.965047",
     "exception": false,
     "start_time": "2023-10-30T13:53:07.931547",
     "status": "completed"
    },
    "tags": [
     "parameters"
    ]
   },
   "outputs": [
    {
     "name": "stdout",
     "output_type": "stream",
     "text": [
      "20231030T145307 : amilcar32 : INFO : Utilizando parámetros de mul_m\n"
     ]
    }
   ],
   "source": [
    "#  Parametros para el entrenamiento\n",
    "\n",
    "SEMILLA=        42\n",
    "M_TIPO=         \"mul_m\"\n",
    "M_SELECT=       \"MI\"\n",
    "M_CLASIF=       \"SVM\"\n",
    "R_FICHERO=      \"resultados\"\n",
    "M_FICHERO=      \"metricas\"\n",
    "PRE_DATA_FILE=  \"rows_transpose_norm_by_gene_id_with_target_num_\"\n",
    "SCORING=        \"roc_auc_ovr\" \n",
    "MAX_ITERS=      100\n",
    "\n",
    "def mutual_info_classif_state(X, y):\n",
    "    return mutual_info_classif(X, y, random_state=SEMILLA)\n",
    "\n",
    "eval_selector_mi = \"SelectKBest(score_func=mutual_info_classif_state)\"\n",
    "eval_selector_rf=  \"SelectFromModel(estimator=RandomForestClassifier(random_state=SEMILLA), threshold=-np.inf)\"\n",
    "eval_selector_anova=  \"SelectKBest(score_func=f_classif)\"\n",
    "\n",
    "eval_clasifier_svm= \"SVC(probability=True, random_state=SEMILLA)\"\n",
    "eval_clasifier_rf= \"RandomForestClassifier(random_state=SEMILLA)\"\n",
    "eval_clasifier_lr= \"LogisticRegressionCV(random_state=SEMILLA)\"\n",
    "\n",
    "if M_TIPO.startswith(\"bin_m\"):\n",
    "    myfunc.verbose(f\"Utilizando parámetros de {M_TIPO}\")\n",
    "    eval_selector = eval_selector_mi\n",
    "    eval_clasifier = eval_clasifier_svm\n",
    "\n",
    "    SEMILLA = 6578\n",
    "    M_SELECT = \"MI\"\n",
    "    M_CLASIF = \"SVM\"\n",
    "    param_distributions = {'selector__k': [1000], \n",
    "         'clasifier__kernel': ['rbf'], 'clasifier__gamma': [0.01], 'clasifier__C': [100]}\n",
    "elif M_TIPO.startswith(\"bin_s\"):\n",
    "    myfunc.verbose(f\"Utilizando parámetros de {M_TIPO}\")\n",
    "    eval_selector = eval_selector_rf\n",
    "    eval_clasifier = eval_clasifier_lr\n",
    "\n",
    "    SEMILLA = 6191\n",
    "    M_SELECT = \"RF\"\n",
    "    M_CLASIF = \"LR_L2\"\n",
    "    param_distributions = {'selector__max_features': [1000], 'selector__estimator__n_estimators': [200], \n",
    "        'clasifier__solver': ['lbfgs'], 'clasifier__penalty': ['l2'], 'clasifier__max_iter': [10000]}\n",
    "\n",
    "elif M_TIPO.startswith(\"mul_m\"):\n",
    "    myfunc.verbose(f\"Utilizando parámetros de {M_TIPO}\")\n",
    " \n",
    "    eval_selector = eval_selector_rf\n",
    "    eval_clasifier = eval_clasifier_lr\n",
    "\n",
    "    SEMILLA = 6191\n",
    "    M_SELECT = \"RF\"\n",
    "    M_CLASIF = \"LR_L2\"\n",
    "    param_distributions = {'selector__max_features': [1000], 'selector__estimator__n_estimators': [400], \n",
    "        'clasifier__solver': ['lbfgs'], 'clasifier__penalty': ['l2'], 'clasifier__max_iter': [10000]}\n",
    "\n",
    "else:\n",
    "    # M_TIPO.startswith(\"mul_s\"):\n",
    "    myfunc.verbose(f\"Utilizando parámetros de {M_TIPO}\")\n",
    "    eval_selector = eval_selector_anova\n",
    "    eval_clasifier = eval_clasifier_lr\n",
    "\n",
    "    SEMILLA = 1860\n",
    "    M_SELECT = \"ANOVA\"\n",
    "    M_CLASIF = \"LR_L2\"\n",
    "    param_distributions = {'selector__k': [1000], \n",
    "        'clasifier__solver': ['saga'], 'clasifier__penalty': ['l2'], 'clasifier__max_iter': [10000]}\n",
    "\n"
   ]
  },
  {
   "cell_type": "code",
   "execution_count": 3,
   "id": "b94a10ee",
   "metadata": {
    "execution": {
     "iopub.execute_input": "2023-10-30T13:53:07.965047Z",
     "iopub.status.busy": "2023-10-30T13:53:07.965047Z",
     "iopub.status.idle": "2023-10-30T13:53:07.978933Z",
     "shell.execute_reply": "2023-10-30T13:53:07.978933Z"
    },
    "papermill": {
     "duration": 0.013886,
     "end_time": "2023-10-30T13:53:07.978933",
     "exception": false,
     "start_time": "2023-10-30T13:53:07.965047",
     "status": "completed"
    },
    "tags": [
     "injected-parameters"
    ]
   },
   "outputs": [],
   "source": [
    "# Parameters\n",
    "M_TIPO = \"bin_m\"\n",
    "M_SELECT = \"RF\"\n",
    "M_CLASIF = \"LR_L2\"\n",
    "P_FICHERO = \"param_0000_6578_bin_m_RF_LR_L2.yaml\"\n",
    "R_FICHERO = \"resultados_6578\"\n",
    "M_FICHERO = \"metricas_6578\"\n",
    "PRE_DATA_FILE = \"rows_transpose_norm_by_gene_id_with_target_num_\"\n",
    "SCORING = \"roc_auc_ovr\"\n",
    "SEMILLA = 6578\n",
    "MAX_ITERS = 500\n",
    "eval_selector = \"SelectFromModel(estimator=RandomForestClassifier(random_state=SEMILLA), threshold=-np.inf)\"\n",
    "eval_clasifier = \"LogisticRegressionCV(random_state=SEMILLA)\"\n",
    "param_distributions = {\n",
    "    \"selector__max_features\": [500],\n",
    "    \"selector__estimator__n_estimators\": [100],\n",
    "    \"clasifier__solver\": [\"lbfgs\"],\n",
    "    \"clasifier__penalty\": [\"l2\"],\n",
    "    \"clasifier__max_iter\": [10000],\n",
    "}\n"
   ]
  },
  {
   "cell_type": "code",
   "execution_count": 4,
   "id": "4daec74f",
   "metadata": {
    "execution": {
     "iopub.execute_input": "2023-10-30T13:53:07.982951Z",
     "iopub.status.busy": "2023-10-30T13:53:07.982951Z",
     "iopub.status.idle": "2023-10-30T13:53:07.995042Z",
     "shell.execute_reply": "2023-10-30T13:53:07.995042Z"
    },
    "papermill": {
     "duration": 0.012091,
     "end_time": "2023-10-30T13:53:07.995042",
     "exception": false,
     "start_time": "2023-10-30T13:53:07.982951",
     "status": "completed"
    },
    "tags": []
   },
   "outputs": [],
   "source": [
    "DATA_FILE = PRE_DATA_FILE + M_TIPO\n",
    "\n",
    "# si viene \"None\" en el parámetro max_depth, se le quitan las comillas para que no sea entendido por el algoritmo como un texto\n",
    "if \"clasifier__max_depth\" in param_distributions:\n",
    "    param_distributions['clasifier__max_depth'] = [None if x == 'None' else x for x in param_distributions['clasifier__max_depth']]"
   ]
  },
  {
   "cell_type": "markdown",
   "id": "6af69a20",
   "metadata": {
    "papermill": {
     "duration": 0.0,
     "end_time": "2023-10-30T13:53:07.995042",
     "exception": false,
     "start_time": "2023-10-30T13:53:07.995042",
     "status": "completed"
    },
    "tags": []
   },
   "source": [
    "Asignar los algoritmos que se utilizarán en la función RandomSearchCV"
   ]
  },
  {
   "cell_type": "code",
   "execution_count": 5,
   "id": "bae34e28",
   "metadata": {
    "execution": {
     "iopub.execute_input": "2023-10-30T13:53:08.010780Z",
     "iopub.status.busy": "2023-10-30T13:53:07.995042Z",
     "iopub.status.idle": "2023-10-30T13:53:08.026388Z",
     "shell.execute_reply": "2023-10-30T13:53:08.026388Z"
    },
    "papermill": {
     "duration": 0.031346,
     "end_time": "2023-10-30T13:53:08.026388",
     "exception": false,
     "start_time": "2023-10-30T13:53:07.995042",
     "status": "completed"
    },
    "tags": []
   },
   "outputs": [],
   "source": [
    "algor_selector=eval(eval_selector)\n",
    "algor_clasifier=eval(eval_clasifier)"
   ]
  },
  {
   "cell_type": "markdown",
   "id": "231af9ea",
   "metadata": {
    "papermill": {
     "duration": 0.015613,
     "end_time": "2023-10-30T13:53:08.042001",
     "exception": false,
     "start_time": "2023-10-30T13:53:08.026388",
     "status": "completed"
    },
    "tags": []
   },
   "source": [
    "#### Comprobar el entorno y leer fichero de muestras"
   ]
  },
  {
   "cell_type": "code",
   "execution_count": 6,
   "id": "1214f501",
   "metadata": {
    "execution": {
     "iopub.execute_input": "2023-10-30T13:53:08.057642Z",
     "iopub.status.busy": "2023-10-30T13:53:08.057642Z",
     "iopub.status.idle": "2023-10-30T13:53:08.293822Z",
     "shell.execute_reply": "2023-10-30T13:53:08.293822Z"
    },
    "papermill": {
     "duration": 0.251821,
     "end_time": "2023-10-30T13:53:08.293822",
     "exception": false,
     "start_time": "2023-10-30T13:53:08.042001",
     "status": "completed"
    },
    "tags": []
   },
   "outputs": [
    {
     "name": "stdout",
     "output_type": "stream",
     "text": [
      "20231030T145308 : amilcar32 : INFO : Encontrada carpeta DATA_DIR=..\\tfm_viu\\datos\n",
      "20231030T145308 : amilcar32 : INFO : Encontrada carpeta CFDNA_DIR=..\\tfm_viu\\datos\\cfDNA_5hmC\n",
      "20231030T145308 : amilcar32 : INFO : Encontrada carpeta GENCODE_DIR=..\\tfm_viu\\datos\\gencode\n",
      "20231030T145308 : amilcar32 : INFO : Encontrada carpeta H5_DIR=..\\tfm_viu\\datos\\h5\n",
      "20231030T145308 : amilcar32 : INFO : Encontrada carpeta LOG_DIR=..\\tfm_viu\\datos\\logs\n",
      "20231030T145308 : amilcar32 : INFO : Encontrada carpeta CSV_DIR=..\\tfm_viu\\datos\\csv\n",
      "20231030T145308 : amilcar32 : INFO : Encontrada carpeta MODEL_DIR=..\\tfm_viu\\ejecuciones\\modelos\n",
      "20231030T145308 : amilcar32 : INFO : Encontrada carpeta EXEC_DIR=..\\tfm_viu\\ejecuciones\n",
      "20231030T145308 : amilcar32 : INFO : Encontrada carpeta MET_DIR=..\\tfm_viu\\ejecuciones\\metricas\n",
      "20231030T145308 : amilcar32 : INFO : Inicio leer fichero h5 ..\\tfm_viu\\datos\\h5\\rows_transpose_norm_by_gene_id_with_target_num_bin_m.h5\n",
      "20231030T145308 : amilcar32 : INFO : Leyendo clave /df\n"
     ]
    },
    {
     "name": "stdout",
     "output_type": "stream",
     "text": [
      "20231030T145308 : amilcar32 : INFO : Tamaño (720, 18876)\n",
      "20231030T145308 : amilcar32 : INFO : Fin leer fichero h5 ..\\tfm_viu\\datos\\h5\\rows_transpose_norm_by_gene_id_with_target_num_bin_m.h5\n"
     ]
    },
    {
     "data": {
      "text/plain": [
       "target\n",
       "0    360\n",
       "1    360\n",
       "dtype: int64"
      ]
     },
     "metadata": {},
     "output_type": "display_data"
    },
    {
     "name": "stdout",
     "output_type": "stream",
     "text": [
      "Shape df: (720, 18876)\n"
     ]
    },
    {
     "name": "stdout",
     "output_type": "stream",
     "text": [
      "Shape X_train: (576, 18875)\n",
      "Shape X_test: (144, 18875)\n"
     ]
    }
   ],
   "source": [
    "start_time = datetime.datetime.now()\n",
    "\n",
    "myfunc.reset_vars()\n",
    "\n",
    "myfunc.NOTEBK_FILENAME = myfunc.get_nb_name()\n",
    "\n",
    "myfunc.check_enviroment(myfunc.DATA_DIR, myfunc.CFDNA_DIR, myfunc.GENCODE_DIR, myfunc.H5_DIR, myfunc.LOG_DIR, myfunc.CSV_DIR, myfunc.MODEL_DIR, myfunc.EXEC_DIR, myfunc.MET_DIR)\n",
    "\n",
    "# Leer fichero con las muestras\n",
    "df_t = myfunc.read_h5_to_df(DATA_FILE, myfunc.H5_DIR)\n",
    "display(df_t.groupby(\"target\").size())\n",
    "print(\"Shape df:\",df_t.shape)\n",
    "\n",
    "# Separar caracteristicas/genes de las etiquetas/tipos de cáncer\n",
    "X = df_t.iloc[:, :-1]  # Todas las columnas excepto la última\n",
    "y = df_t.iloc[:, -1]  # La última columna contiene los identificadores de los tipos de cáncer\n",
    "\n",
    "#  Crear el conjunto de datos de entrenamiento y de pruebas, y se fija la semilla para siempre coger el mismo juego de muestras\n",
    "X_train, X_test, y_train, y_test = train_test_split(X, y, test_size=0.2, shuffle=True, random_state=42)\n",
    "print(\"Shape X_train:\",X_train.shape)\n",
    "print(\"Shape X_test:\",X_test.shape)\n"
   ]
  },
  {
   "cell_type": "markdown",
   "id": "796f2395",
   "metadata": {
    "papermill": {
     "duration": 0.0,
     "end_time": "2023-10-30T13:53:08.293822",
     "exception": false,
     "start_time": "2023-10-30T13:53:08.293822",
     "status": "completed"
    },
    "tags": []
   },
   "source": [
    "#### Selección de características y clasificación."
   ]
  },
  {
   "cell_type": "code",
   "execution_count": 7,
   "id": "3056d265",
   "metadata": {
    "execution": {
     "iopub.execute_input": "2023-10-30T13:53:08.309520Z",
     "iopub.status.busy": "2023-10-30T13:53:08.309520Z",
     "iopub.status.idle": "2023-10-30T13:53:38.884682Z",
     "shell.execute_reply": "2023-10-30T13:53:38.884682Z"
    },
    "papermill": {
     "duration": 30.59086,
     "end_time": "2023-10-30T13:53:38.884682",
     "exception": false,
     "start_time": "2023-10-30T13:53:08.293822",
     "status": "completed"
    },
    "tags": []
   },
   "outputs": [
    {
     "name": "stdout",
     "output_type": "stream",
     "text": [
      "20231030T145308 : amilcar32 : INFO : Iniciando entrenamiento\n",
      "num_iter: 1 , max_iter: 1\n",
      "Fitting 5 folds for each of 1 candidates, totalling 5 fits\n"
     ]
    },
    {
     "name": "stdout",
     "output_type": "stream",
     "text": [
      "Mejores Hiperparámetros: {'selector__max_features': 500, 'selector__estimator__n_estimators': 100, 'clasifier__solver': 'lbfgs', 'clasifier__penalty': 'l2', 'clasifier__max_iter': 10000}\n",
      "Mejor Puntuación: 0.8457\n",
      "20231030T145338 : amilcar32 : INFO : Fin entrenamiento\n"
     ]
    }
   ],
   "source": [
    "myfunc.verbose(\"Iniciando entrenamiento\")\n",
    "\n",
    "kf = KFold(n_splits=5, shuffle=True, random_state=SEMILLA)\n",
    "\n",
    "# Crear el pipeline para el flujo de tareas\n",
    "tasks_pipeline = Pipeline([\n",
    "    ('selector', algor_selector),\n",
    "    ('clasifier', algor_clasifier)\n",
    "])\n",
    "\n",
    "# MAX_ITERS puede limitar el número de iteraciones si son excesivas para las combinaciones de parámetros buscando un óptimo local, \n",
    "# sino funcionaría como GridSearchCV al revisar todas las cominaciones de los parámetros\n",
    "num_iteraciones = 1\n",
    "num_iteraciones = num_iteraciones * np.prod([len(elemento1) for _, elemento1 in param_distributions.items()])\n",
    "max_iteraciones = num_iteraciones if num_iteraciones <= MAX_ITERS else MAX_ITERS\n",
    "print(\"num_iter:\",num_iteraciones,\", max_iter:\",max_iteraciones)\n",
    "\n",
    "random_search = RandomizedSearchCV(\n",
    "    tasks_pipeline, \n",
    "    param_distributions, \n",
    "    n_iter=max_iteraciones,\n",
    "    scoring=SCORING,\n",
    "    cv=kf,\n",
    "    verbose=3, \n",
    "    random_state=SEMILLA, \n",
    "    n_jobs=-1\n",
    "    )\n",
    "\n",
    "# Entrenar el modelo\n",
    "random_search.fit(X_train, y_train)\n",
    "\n",
    "# Ver los mejores hiperparámetros encontrados\n",
    "print(f'Mejores Hiperparámetros: {random_search.best_params_}')\n",
    "print(f'Mejor Puntuación: {random_search.best_score_:.4f}')\n",
    "\n",
    "# Nos quedamos con el mejor modelo para ver las métricas\n",
    "mejor_modelo = random_search.best_estimator_\n",
    "\n",
    "myfunc.verbose(\"Fin entrenamiento\")"
   ]
  },
  {
   "cell_type": "markdown",
   "id": "1b483d60",
   "metadata": {
    "papermill": {
     "duration": 0.0,
     "end_time": "2023-10-30T13:53:38.884682",
     "exception": false,
     "start_time": "2023-10-30T13:53:38.884682",
     "status": "completed"
    },
    "tags": []
   },
   "source": [
    "#### Guardar modelo"
   ]
  },
  {
   "cell_type": "code",
   "execution_count": 8,
   "id": "ffddcf88",
   "metadata": {
    "execution": {
     "iopub.execute_input": "2023-10-30T13:53:38.900301Z",
     "iopub.status.busy": "2023-10-30T13:53:38.900301Z",
     "iopub.status.idle": "2023-10-30T13:53:38.994426Z",
     "shell.execute_reply": "2023-10-30T13:53:38.994426Z"
    },
    "papermill": {
     "duration": 0.094125,
     "end_time": "2023-10-30T13:53:38.994426",
     "exception": false,
     "start_time": "2023-10-30T13:53:38.900301",
     "status": "completed"
    },
    "tags": []
   },
   "outputs": [
    {
     "name": "stdout",
     "output_type": "stream",
     "text": [
      "20231030T145338 : amilcar32 : INFO : Inicio guardar fichero ..\\tfm_viu\\ejecuciones\\modelos\\modelo_6578_bin_m_RF_LR_L2.pkl\n",
      "20231030T145338 : amilcar32 : INFO : Fin guardar fichero ..\\tfm_viu\\ejecuciones\\modelos\\modelo_6578_bin_m_RF_LR_L2.pkl\n"
     ]
    }
   ],
   "source": [
    "fichero_modelo = str.replace(\"modelo_\"+str(SEMILLA).zfill(4)+\"_\"+M_TIPO+\"_\"+M_SELECT+\"_\"+M_CLASIF+\".pkl\", \" \", \"_\")\n",
    "\n",
    "myfunc.save_modelo(mejor_modelo, myfunc.MODEL_DIR, fichero_modelo)"
   ]
  },
  {
   "cell_type": "markdown",
   "id": "ba9822e7",
   "metadata": {
    "papermill": {
     "duration": 0.015644,
     "end_time": "2023-10-30T13:53:39.010070",
     "exception": false,
     "start_time": "2023-10-30T13:53:38.994426",
     "status": "completed"
    },
    "tags": []
   },
   "source": [
    "#### Ver resultados del las iteraciones hechas por RandomSearchCV"
   ]
  },
  {
   "cell_type": "code",
   "execution_count": 9,
   "id": "31fccc90",
   "metadata": {
    "execution": {
     "iopub.execute_input": "2023-10-30T13:53:39.010070Z",
     "iopub.status.busy": "2023-10-30T13:53:39.010070Z",
     "iopub.status.idle": "2023-10-30T13:53:39.041377Z",
     "shell.execute_reply": "2023-10-30T13:53:39.041377Z"
    },
    "papermill": {
     "duration": 0.031307,
     "end_time": "2023-10-30T13:53:39.041377",
     "exception": false,
     "start_time": "2023-10-30T13:53:39.010070",
     "status": "completed"
    },
    "tags": []
   },
   "outputs": [
    {
     "name": "stdout",
     "output_type": "stream",
     "text": [
      "20231030T145339 : amilcar32 : INFO : Inicio ver resultados\n",
      "Mejores Hiperparámetros: {'selector__max_features': 500, 'selector__estimator__n_estimators': 100, 'clasifier__solver': 'lbfgs', 'clasifier__penalty': 'l2', 'clasifier__max_iter': 10000}\n",
      "Mejores puntuaciones: 0.8457 | Params: {'selector__max_features': 500, 'selector__estimator__n_estimators': 100, 'clasifier__solver': 'lbfgs', 'clasifier__penalty': 'l2', 'clasifier__max_iter': 10000}\n",
      "Media de las puntuaciones: 0.8457 | Params: {'selector__max_features': 500, 'selector__estimator__n_estimators': 100, 'clasifier__solver': 'lbfgs', 'clasifier__penalty': 'l2', 'clasifier__max_iter': 10000}\n",
      "20231030T145339 : amilcar32 : INFO : Fin resultados\n"
     ]
    }
   ],
   "source": [
    "myfunc.ver_resultados_search(random_search)"
   ]
  },
  {
   "cell_type": "markdown",
   "id": "300e6aac",
   "metadata": {
    "papermill": {
     "duration": 0.016238,
     "end_time": "2023-10-30T13:53:39.073793",
     "exception": false,
     "start_time": "2023-10-30T13:53:39.057555",
     "status": "completed"
    },
    "tags": []
   },
   "source": [
    "#### Ver métricas del mejor modelo"
   ]
  },
  {
   "cell_type": "code",
   "execution_count": 10,
   "id": "d8c447e8",
   "metadata": {
    "execution": {
     "iopub.execute_input": "2023-10-30T13:53:39.105120Z",
     "iopub.status.busy": "2023-10-30T13:53:39.105120Z",
     "iopub.status.idle": "2023-10-30T13:53:39.986275Z",
     "shell.execute_reply": "2023-10-30T13:53:39.986275Z"
    },
    "papermill": {
     "duration": 0.912482,
     "end_time": "2023-10-30T13:53:39.986275",
     "exception": false,
     "start_time": "2023-10-30T13:53:39.073793",
     "status": "completed"
    },
    "tags": []
   },
   "outputs": [
    {
     "name": "stdout",
     "output_type": "stream",
     "text": [
      "20231030T145339 : amilcar32 : INFO : Inicio ver métricas\n"
     ]
    },
    {
     "name": "stdout",
     "output_type": "stream",
     "text": [
      "              precision    recall  f1-score   support\n",
      "\n",
      "           0       0.89      0.89      0.89        82\n",
      "           1       0.85      0.85      0.85        62\n",
      "\n",
      "    accuracy                           0.88       144\n",
      "   macro avg       0.87      0.87      0.87       144\n",
      "weighted avg       0.88      0.88      0.88       144\n",
      "\n",
      "\n",
      "\n",
      "   Exactitud: 0.8750\n",
      "   Precisión: 0.8725\n",
      "Sensibilidad: 0.8725\n",
      "    F1-score: 0.8725\n",
      "     AUC ROC: 0.9178\n"
     ]
    },
    {
     "data": {
      "image/png": "[encoded data removed]",
      "text/plain": [
       "<Figure size 300x100 with 2 Axes>"
      ]
     },
     "metadata": {},
     "output_type": "display_data"
    },
    {
     "data": {
      "image/png": "[encoded data removed]",
      "text/plain": [
       "<Figure size 800x500 with 1 Axes>"
      ]
     },
     "metadata": {},
     "output_type": "display_data"
    },
    {
     "name": "stdout",
     "output_type": "stream",
     "text": [
      "20231030T145339 : amilcar32 : INFO : Fin ver métricas\n"
     ]
    }
   ],
   "source": [
    "if M_TIPO.startswith(\"bin\"):\n",
    "    myfunc.ver_metricas(mejor_modelo, X_test, y_test)\n",
    "else:\n",
    "    myfunc.ver_metricas_multi(mejor_modelo, X_test, y_test)\n"
   ]
  },
  {
   "cell_type": "markdown",
   "id": "3ab5c4e1",
   "metadata": {
    "papermill": {
     "duration": 0.015623,
     "end_time": "2023-10-30T13:53:40.001898",
     "exception": false,
     "start_time": "2023-10-30T13:53:39.986275",
     "status": "completed"
    },
    "tags": []
   },
   "source": [
    "#### Finalización del notebook"
   ]
  },
  {
   "cell_type": "code",
   "execution_count": 11,
   "id": "461584c1",
   "metadata": {
    "execution": {
     "iopub.execute_input": "2023-10-30T13:53:40.017139Z",
     "iopub.status.busy": "2023-10-30T13:53:40.017139Z",
     "iopub.status.idle": "2023-10-30T13:53:40.032824Z",
     "shell.execute_reply": "2023-10-30T13:53:40.032824Z"
    },
    "papermill": {
     "duration": 0.025771,
     "end_time": "2023-10-30T13:53:40.032824",
     "exception": false,
     "start_time": "2023-10-30T13:53:40.007053",
     "status": "completed"
    },
    "tags": []
   },
   "outputs": [
    {
     "name": "stdout",
     "output_type": "stream",
     "text": [
      "20231030T145340 : amilcar32 : INFO : Notebook ha tardado 31 seconds\n"
     ]
    }
   ],
   "source": [
    "end_time = datetime.datetime.now()\n",
    "total_time = end_time - start_time\n",
    "myfunc.verbose(f\"Notebook ha tardado {total_time.seconds} seconds\")"
   ]
  },
  {
   "cell_type": "markdown",
   "id": "5a8447fa",
   "metadata": {
    "papermill": {
     "duration": 0.020746,
     "end_time": "2023-10-30T13:53:40.053570",
     "exception": false,
     "start_time": "2023-10-30T13:53:40.032824",
     "status": "completed"
    },
    "tags": []
   },
   "source": [
    "#### Guardar métricas"
   ]
  },
  {
   "cell_type": "code",
   "execution_count": 12,
   "id": "3ff5e635",
   "metadata": {
    "execution": {
     "iopub.execute_input": "2023-10-30T13:53:40.080378Z",
     "iopub.status.busy": "2023-10-30T13:53:40.080378Z",
     "iopub.status.idle": "2023-10-30T13:53:40.725768Z",
     "shell.execute_reply": "2023-10-30T13:53:40.725768Z"
    },
    "papermill": {
     "duration": 0.661095,
     "end_time": "2023-10-30T13:53:40.725768",
     "exception": false,
     "start_time": "2023-10-30T13:53:40.064673",
     "status": "completed"
    },
    "tags": []
   },
   "outputs": [
    {
     "name": "stdout",
     "output_type": "stream",
     "text": [
      "20231030T145340 : amilcar32 : INFO : Inicio guardar métricas\n"
     ]
    },
    {
     "name": "stdout",
     "output_type": "stream",
     "text": [
      "20231030T145340 : amilcar32 : INFO : Inicio leer fichero ..\\tfm_viu\\ejecuciones\\metricas\\metricas_6578.csv\n",
      "20231030T145340 : amilcar32 : INFO : Fin leer fichero ..\\tfm_viu\\ejecuciones\\metricas\\metricas_6578.csv\n"
     ]
    },
    {
     "name": "stdout",
     "output_type": "stream",
     "text": [
      "20231030T145340 : amilcar32 : INFO : Inicio guardar fichero ..\\tfm_viu\\ejecuciones\\metricas\\metricas_6578.csv\n",
      "20231030T145340 : amilcar32 : INFO : Fichero borrado ..\\tfm_viu\\ejecuciones\\metricas\\metricas_6578.csv\n",
      "20231030T145340 : amilcar32 : INFO : Fin guardar fichero ..\\tfm_viu\\ejecuciones\\metricas\\metricas_6578.csv\n",
      "20231030T145340 : amilcar32 : INFO : Fin guardar métricas\n",
      "20231030T145340 : amilcar32 : INFO : Inicio leer fichero ..\\tfm_viu\\ejecuciones\\metricas\\metricas_6578.csv\n",
      "20231030T145340 : amilcar32 : INFO : Fin leer fichero ..\\tfm_viu\\ejecuciones\\metricas\\metricas_6578.csv\n"
     ]
    },
    {
     "data": {
      "text/html": [
       "<div>\n",
       "<style scoped>\n",
       "    .dataframe tbody tr th:only-of-type {\n",
       "        vertical-align: middle;\n",
       "    }\n",
       "\n",
       "    .dataframe tbody tr th {\n",
       "        vertical-align: top;\n",
       "    }\n",
       "\n",
       "    .dataframe thead th {\n",
       "        text-align: right;\n",
       "    }\n",
       "</style>\n",
       "<table border=\"1\" class=\"dataframe\">\n",
       "  <thead>\n",
       "    <tr style=\"text-align: right;\">\n",
       "      <th></th>\n",
       "      <th>tipo</th>\n",
       "      <th>select</th>\n",
       "      <th>clasific</th>\n",
       "      <th>semilla</th>\n",
       "      <th>accuracy</th>\n",
       "      <th>precision</th>\n",
       "      <th>recall</th>\n",
       "      <th>f1_score</th>\n",
       "      <th>roc_auc</th>\n",
       "      <th>hostname</th>\n",
       "      <th>total_time_sec</th>\n",
       "      <th>datetime</th>\n",
       "      <th>fichero_modelo</th>\n",
       "      <th>params</th>\n",
       "      <th>shape</th>\n",
       "      <th>features</th>\n",
       "    </tr>\n",
       "  </thead>\n",
       "  <tbody>\n",
       "    <tr>\n",
       "      <th>0</th>\n",
       "      <td>bin_m</td>\n",
       "      <td>RF</td>\n",
       "      <td>LR_L2</td>\n",
       "      <td>6578</td>\n",
       "      <td>0.875000</td>\n",
       "      <td>0.872541</td>\n",
       "      <td>0.872541</td>\n",
       "      <td>0.872541</td>\n",
       "      <td>0.917781</td>\n",
       "      <td>amilcar32</td>\n",
       "      <td>31</td>\n",
       "      <td>2023-10-30 14:53:40.662529</td>\n",
       "      <td>modelo_6578_bin_m_RF_LR_L2.pkl</td>\n",
       "      <td>{'selector__max_features': 500, 'selector__est...</td>\n",
       "      <td>X_test:(144, 18875)</td>\n",
       "      <td>['ENSG00000004468.13', 'ENSG00000005421.9', 'E...</td>\n",
       "    </tr>\n",
       "    <tr>\n",
       "      <th>0</th>\n",
       "      <td>bin_m</td>\n",
       "      <td>RF</td>\n",
       "      <td>LR_L1</td>\n",
       "      <td>6578</td>\n",
       "      <td>0.854167</td>\n",
       "      <td>0.851768</td>\n",
       "      <td>0.850315</td>\n",
       "      <td>0.850998</td>\n",
       "      <td>0.915028</td>\n",
       "      <td>amilcar32</td>\n",
       "      <td>435</td>\n",
       "      <td>2023-10-30 14:53:03.021055</td>\n",
       "      <td>modelo_6578_bin_m_RF_LR_L1.pkl</td>\n",
       "      <td>{'selector__max_features': 500, 'selector__est...</td>\n",
       "      <td>X_test:(144, 18875)</td>\n",
       "      <td>['ENSG00000004468.13', 'ENSG00000005421.9', 'E...</td>\n",
       "    </tr>\n",
       "    <tr>\n",
       "      <th>0</th>\n",
       "      <td>bin_m</td>\n",
       "      <td>RF</td>\n",
       "      <td>LR_EN</td>\n",
       "      <td>6578</td>\n",
       "      <td>0.868056</td>\n",
       "      <td>0.865989</td>\n",
       "      <td>0.864477</td>\n",
       "      <td>0.865188</td>\n",
       "      <td>0.914831</td>\n",
       "      <td>amilcar32</td>\n",
       "      <td>417</td>\n",
       "      <td>2023-10-30 14:45:42.064434</td>\n",
       "      <td>modelo_6578_bin_m_RF_LR_EN.pkl</td>\n",
       "      <td>{'selector__max_features': 500, 'selector__est...</td>\n",
       "      <td>X_test:(144, 18875)</td>\n",
       "      <td>['ENSG00000004468.13', 'ENSG00000005421.9', 'E...</td>\n",
       "    </tr>\n",
       "  </tbody>\n",
       "</table>\n",
       "</div>"
      ],
      "text/plain": [
       "    tipo select clasific  semilla  accuracy  precision    recall  f1_score  \\\n",
       "0  bin_m     RF    LR_L2     6578  0.875000   0.872541  0.872541  0.872541   \n",
       "0  bin_m     RF    LR_L1     6578  0.854167   0.851768  0.850315  0.850998   \n",
       "0  bin_m     RF    LR_EN     6578  0.868056   0.865989  0.864477  0.865188   \n",
       "\n",
       "    roc_auc   hostname  total_time_sec                    datetime  \\\n",
       "0  0.917781  amilcar32              31  2023-10-30 14:53:40.662529   \n",
       "0  0.915028  amilcar32             435  2023-10-30 14:53:03.021055   \n",
       "0  0.914831  amilcar32             417  2023-10-30 14:45:42.064434   \n",
       "\n",
       "                   fichero_modelo  \\\n",
       "0  modelo_6578_bin_m_RF_LR_L2.pkl   \n",
       "0  modelo_6578_bin_m_RF_LR_L1.pkl   \n",
       "0  modelo_6578_bin_m_RF_LR_EN.pkl   \n",
       "\n",
       "                                              params                shape  \\\n",
       "0  {'selector__max_features': 500, 'selector__est...  X_test:(144, 18875)   \n",
       "0  {'selector__max_features': 500, 'selector__est...  X_test:(144, 18875)   \n",
       "0  {'selector__max_features': 500, 'selector__est...  X_test:(144, 18875)   \n",
       "\n",
       "                                            features  \n",
       "0  ['ENSG00000004468.13', 'ENSG00000005421.9', 'E...  \n",
       "0  ['ENSG00000004468.13', 'ENSG00000005421.9', 'E...  \n",
       "0  ['ENSG00000004468.13', 'ENSG00000005421.9', 'E...  "
      ]
     },
     "metadata": {},
     "output_type": "display_data"
    }
   ],
   "source": [
    "if M_TIPO.startswith(\"bin\"):\n",
    "    myfunc.save_metricas_to_csv(random_search, X_test, y_test, M_TIPO, M_SELECT, M_CLASIF, total_time, SEMILLA, myfunc.MET_DIR, M_FICHERO, fichero_modelo)\n",
    "else:\n",
    "    myfunc.save_metricas_multi_to_csv(random_search, X_test, y_test, M_TIPO, M_SELECT, M_CLASIF, total_time, SEMILLA, myfunc.MET_DIR, M_FICHERO, fichero_modelo)\n",
    "\n",
    "df1=myfunc.read_metricas_to_df(myfunc.MET_DIR,M_FICHERO)\n",
    "\n",
    "display(df1.sort_values(\"datetime\", ascending=False)[:3])\n"
   ]
  },
  {
   "cell_type": "markdown",
   "id": "b78c79e2",
   "metadata": {
    "papermill": {
     "duration": 0.016185,
     "end_time": "2023-10-30T13:53:40.757511",
     "exception": false,
     "start_time": "2023-10-30T13:53:40.741326",
     "status": "completed"
    },
    "tags": []
   },
   "source": [
    "#### Guardar resultados"
   ]
  },
  {
   "cell_type": "code",
   "execution_count": 13,
   "id": "2926afbb",
   "metadata": {
    "execution": {
     "iopub.execute_input": "2023-10-30T13:53:40.773221Z",
     "iopub.status.busy": "2023-10-30T13:53:40.773221Z",
     "iopub.status.idle": "2023-10-30T13:53:40.804473Z",
     "shell.execute_reply": "2023-10-30T13:53:40.804473Z"
    },
    "papermill": {
     "duration": 0.031252,
     "end_time": "2023-10-30T13:53:40.804473",
     "exception": false,
     "start_time": "2023-10-30T13:53:40.773221",
     "status": "completed"
    },
    "tags": []
   },
   "outputs": [
    {
     "name": "stdout",
     "output_type": "stream",
     "text": [
      "20231030T145340 : amilcar32 : INFO : Inicio guardar resultados\n",
      "20231030T145340 : amilcar32 : INFO : Inicio guardar fichero ..\\tfm_viu\\ejecuciones\\metricas\\resultados_6578_bin_m-RF-LR_L2.csv\n",
      "20231030T145340 : amilcar32 : INFO : Fin guardar fichero ..\\tfm_viu\\ejecuciones\\metricas\\resultados_6578_bin_m-RF-LR_L2.csv\n",
      "20231030T145340 : amilcar32 : INFO : Fin guardar resultados\n"
     ]
    }
   ],
   "source": [
    "fichero_resultados=R_FICHERO+\"_\"+M_TIPO+\"-\"+M_SELECT+\"-\"+M_CLASIF+\".csv\"\n",
    "myfunc.save_resultados_to_csv(M_TIPO, M_SELECT, M_CLASIF,  random_search, myfunc.MET_DIR, fichero_resultados)\n"
   ]
  }
 ],
 "metadata": {
  "kernelspec": {
   "display_name": "Python 3 (ipykernel)",
   "language": "python",
   "name": "python3"
  },
  "language_info": {
   "codemirror_mode": {
    "name": "ipython",
    "version": 3
   },
   "file_extension": ".py",
   "mimetype": "text/x-python",
   "name": "python",
   "nbconvert_exporter": "python",
   "pygments_lexer": "ipython3",
   "version": "3.10.12"
  },
  "papermill": {
   "default_parameters": {},
   "duration": 36.967522,
   "end_time": "2023-10-30T13:53:41.828519",
   "environment_variables": {},
   "exception": null,
   "input_path": "03_entrenamiento.ipynb",
   "output_path": "ejecuciones\\training\\03_entrenamiento.20231030T145304.param_0000_6578_bin_m_RF_LR_L2.output.ipynb",
   "parameters": {
    "MAX_ITERS": 500,
    "M_CLASIF": "LR_L2",
    "M_FICHERO": "metricas_6578",
    "M_SELECT": "RF",
    "M_TIPO": "bin_m",
    "PRE_DATA_FILE": "rows_transpose_norm_by_gene_id_with_target_num_",
    "P_FICHERO": "param_0000_6578_bin_m_RF_LR_L2.yaml",
    "R_FICHERO": "resultados_6578",
    "SCORING": "roc_auc_ovr",
    "SEMILLA": 6578,
    "eval_clasifier": "LogisticRegressionCV(random_state=SEMILLA)",
    "eval_selector": "SelectFromModel(estimator=RandomForestClassifier(random_state=SEMILLA), threshold=-np.inf)",
    "param_distributions": {
     "clasifier__max_iter": [
      10000
     ],
     "clasifier__penalty": [
      "l2"
     ],
     "clasifier__solver": [
      "lbfgs"
     ],
     "selector__estimator__n_estimators": [
      100
     ],
     "selector__max_features": [
      500
     ]
    }
   },
   "start_time": "2023-10-30T13:53:04.860997",
   "version": "2.4.0"
  }
 },
 "nbformat": 4,
 "nbformat_minor": 5
}