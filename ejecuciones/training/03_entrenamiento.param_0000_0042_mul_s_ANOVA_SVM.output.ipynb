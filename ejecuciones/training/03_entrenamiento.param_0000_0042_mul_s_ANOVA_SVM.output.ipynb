{
 "cells": [
  {
   "cell_type": "markdown",
   "id": "039ba6b5",
   "metadata": {
    "papermill": {
     "duration": 0.00313,
     "end_time": "2023-10-27T22:16:48.410573",
     "exception": false,
     "start_time": "2023-10-27T22:16:48.407443",
     "status": "completed"
    },
    "tags": []
   },
   "source": [
    "##### Inicio"
   ]
  },
  {
   "cell_type": "markdown",
   "id": "3b5e280c",
   "metadata": {
    "papermill": {
     "duration": 0.002306,
     "end_time": "2023-10-27T22:16:48.415445",
     "exception": false,
     "start_time": "2023-10-27T22:16:48.413139",
     "status": "completed"
    },
    "tags": []
   },
   "source": [
    "#### Carga de datos"
   ]
  },
  {
   "cell_type": "code",
   "execution_count": 1,
   "id": "c15de455",
   "metadata": {
    "execution": {
     "iopub.execute_input": "2023-10-27T22:16:48.421342Z",
     "iopub.status.busy": "2023-10-27T22:16:48.421097Z",
     "iopub.status.idle": "2023-10-27T22:16:49.284830Z",
     "shell.execute_reply": "2023-10-27T22:16:49.284192Z"
    },
    "papermill": {
     "duration": 0.868415,
     "end_time": "2023-10-27T22:16:49.286236",
     "exception": false,
     "start_time": "2023-10-27T22:16:48.417821",
     "status": "completed"
    },
    "tags": []
   },
   "outputs": [
    {
     "name": "stdout",
     "output_type": "stream",
     "text": [
      "CPU_COUNT: 8; NODE: amilcar22; sys.version: 3.10.12 (main, Jul  5 2023, 19:22:19) [GCC 11.2.0]\n",
      "LOKY_MAX_CPU_COUNT: 6\n",
      "OMP_NUM_THREADS: 2\n"
     ]
    }
   ],
   "source": [
    "import os\n",
    "import numpy as np\n",
    "import pandas as pd\n",
    "import datetime\n",
    "import sklearn\n",
    "import logging\n",
    "import warnings\n",
    "\n",
    "from sklearn.pipeline import Pipeline\n",
    "from sklearn.model_selection import RandomizedSearchCV, KFold, cross_val_score, train_test_split\n",
    "from sklearn.metrics import accuracy_score, confusion_matrix, classification_report, roc_auc_score\n",
    "\n",
    "#  cargar algoritmos para aprendizaje supervisado\n",
    "from sklearn.feature_selection import SelectKBest, f_classif, SelectFromModel, mutual_info_classif\n",
    "from sklearn.svm import SVC\n",
    "from sklearn.ensemble import RandomForestClassifier\n",
    "from sklearn.linear_model import LogisticRegression,LogisticRegressionCV\n",
    "\n",
    "# importar fichero con utilidades propias\n",
    "from commons import myfunctions as myfunc\n"
   ]
  },
  {
   "cell_type": "markdown",
   "id": "be67c264",
   "metadata": {
    "papermill": {
     "duration": 0.002533,
     "end_time": "2023-10-27T22:16:49.291735",
     "exception": false,
     "start_time": "2023-10-27T22:16:49.289202",
     "status": "completed"
    },
    "tags": []
   },
   "source": [
    "#### Parámetros a utilizar en el entrenamiento.\n",
    "\n",
    "Se indican los 3 algoritmos de *selección de características* (eval_selector_xxx) y los 3 algoritmos para la _clasificación_ (eval_clasifier_xxx)\n",
    "\n",
    "En *param_distributions* se indicar los parámetros que utilizan los algoritmos en la función RandomSearchCV.\n",
    "\n",
    "Esta celda tiene la etiqueta **parameters** que servirá para poder lanzar los entrenamientos con la utilidad **papermill** pasándole un fichero con los parámetros. Los nuevos parámetros se situarán tras esta celda para tener prevalencia."
   ]
  },
  {
   "cell_type": "code",
   "execution_count": 2,
   "id": "cf522645",
   "metadata": {
    "execution": {
     "iopub.execute_input": "2023-10-27T22:16:49.297761Z",
     "iopub.status.busy": "2023-10-27T22:16:49.297467Z",
     "iopub.status.idle": "2023-10-27T22:16:49.304301Z",
     "shell.execute_reply": "2023-10-27T22:16:49.303852Z"
    },
    "papermill": {
     "duration": 0.011256,
     "end_time": "2023-10-27T22:16:49.305495",
     "exception": false,
     "start_time": "2023-10-27T22:16:49.294239",
     "status": "completed"
    },
    "tags": [
     "parameters"
    ]
   },
   "outputs": [
    {
     "name": "stdout",
     "output_type": "stream",
     "text": [
      "20231028T001649 : amilcar22 : INFO : Utilizando parámetros de mul_m\n"
     ]
    }
   ],
   "source": [
    "#  Parametros para el entrenamiento\n",
    "\n",
    "SEMILLA=        42\n",
    "M_TIPO=         \"mul_m\"\n",
    "M_SELECT=       \"MI\"\n",
    "M_CLASIF=       \"SVM\"\n",
    "R_FICHERO=      \"resultados\"\n",
    "M_FICHERO=      \"metricas\"\n",
    "PRE_DATA_FILE=  \"rows_transpose_norm_by_gene_id_with_target_num_\"\n",
    "SCORING=        \"roc_auc_ovr\" \n",
    "MAX_ITERS=      100\n",
    "\n",
    "def mutual_info_classif_state(X, y):\n",
    "    return mutual_info_classif(X, y, random_state=SEMILLA)\n",
    "\n",
    "eval_selector_mi = \"SelectKBest(score_func=mutual_info_classif_state)\"\n",
    "eval_selector_rf=  \"SelectFromModel(estimator=RandomForestClassifier(random_state=SEMILLA), threshold=-np.inf)\"\n",
    "eval_selector_anova=  \"SelectKBest(score_func=f_classif)\"\n",
    "\n",
    "eval_clasifier_svm= \"SVC(probability=True, random_state=SEMILLA)\"\n",
    "eval_clasifier_rf= \"RandomForestClassifier(random_state=SEMILLA)\"\n",
    "eval_clasifier_lr= \"LogisticRegressionCV(random_state=SEMILLA)\"\n",
    "\n",
    "if M_TIPO.startswith(\"bin_m\"):\n",
    "    myfunc.verbose(f\"Utilizando parámetros de {M_TIPO}\")\n",
    "    eval_selector = eval_selector_mi\n",
    "    eval_clasifier = eval_clasifier_svm\n",
    "\n",
    "    SEMILLA = 6578\n",
    "    M_SELECT = \"MI\"\n",
    "    M_CLASIF = \"SVM\"\n",
    "    param_distributions = {'selector__k': [1000], \n",
    "         'clasifier__kernel': ['rbf'], 'clasifier__gamma': [0.01], 'clasifier__C': [100]}\n",
    "elif M_TIPO.startswith(\"bin_s\"):\n",
    "    myfunc.verbose(f\"Utilizando parámetros de {M_TIPO}\")\n",
    "    eval_selector = eval_selector_rf\n",
    "    eval_clasifier = eval_clasifier_lr\n",
    "\n",
    "    SEMILLA = 6191\n",
    "    M_SELECT = \"RF\"\n",
    "    M_CLASIF = \"LR_L2\"\n",
    "    param_distributions = {'selector__max_features': [1000], 'selector__estimator__n_estimators': [200], \n",
    "        'clasifier__solver': ['lbfgs'], 'clasifier__penalty': ['l2'], 'clasifier__max_iter': [10000]}\n",
    "\n",
    "elif M_TIPO.startswith(\"mul_m\"):\n",
    "    myfunc.verbose(f\"Utilizando parámetros de {M_TIPO}\")\n",
    " \n",
    "    eval_selector = eval_selector_rf\n",
    "    eval_clasifier = eval_clasifier_lr\n",
    "\n",
    "    SEMILLA = 6191\n",
    "    M_SELECT = \"RF\"\n",
    "    M_CLASIF = \"LR_L2\"\n",
    "    param_distributions = {'selector__max_features': [1000], 'selector__estimator__n_estimators': [400], \n",
    "        'clasifier__solver': ['lbfgs'], 'clasifier__penalty': ['l2'], 'clasifier__max_iter': [10000]}\n",
    "\n",
    "else:\n",
    "    # M_TIPO.startswith(\"mul_s\"):\n",
    "    myfunc.verbose(f\"Utilizando parámetros de {M_TIPO}\")\n",
    "    eval_selector = eval_selector_anova\n",
    "    eval_clasifier = eval_clasifier_lr\n",
    "\n",
    "    SEMILLA = 1860\n",
    "    M_SELECT = \"ANOVA\"\n",
    "    M_CLASIF = \"LR_L2\"\n",
    "    param_distributions = {'selector__k': [1000], \n",
    "        'clasifier__solver': ['saga'], 'clasifier__penalty': ['l2'], 'clasifier__max_iter': [10000]}\n",
    "\n"
   ]
  },
  {
   "cell_type": "code",
   "execution_count": 3,
   "id": "f28a6995",
   "metadata": {
    "execution": {
     "iopub.execute_input": "2023-10-27T22:16:49.311672Z",
     "iopub.status.busy": "2023-10-27T22:16:49.311478Z",
     "iopub.status.idle": "2023-10-27T22:16:49.315089Z",
     "shell.execute_reply": "2023-10-27T22:16:49.314647Z"
    },
    "papermill": {
     "duration": 0.007967,
     "end_time": "2023-10-27T22:16:49.316263",
     "exception": false,
     "start_time": "2023-10-27T22:16:49.308296",
     "status": "completed"
    },
    "tags": [
     "injected-parameters"
    ]
   },
   "outputs": [],
   "source": [
    "# Parameters\n",
    "M_TIPO = \"mul_s\"\n",
    "M_SELECT = \"ANOVA\"\n",
    "M_CLASIF = \"SVM\"\n",
    "P_FICHERO = \"param_0000_0042_mul_s_ANOVA_SVM.yaml\"\n",
    "R_FICHERO = \"resultados_0042\"\n",
    "M_FICHERO = \"metricas_0042\"\n",
    "PRE_DATA_FILE = \"rows_transpose_norm_by_gene_id_with_target_num_\"\n",
    "SCORING = \"roc_auc_ovr\"\n",
    "SEMILLA = 42\n",
    "MAX_ITERS = 500\n",
    "eval_selector = \"SelectKBest(score_func=f_classif)\"\n",
    "eval_clasifier = \"SVC(probability=True, random_state=SEMILLA)\"\n",
    "param_distributions = {\n",
    "    \"selector__k\": [200],\n",
    "    \"clasifier__kernel\": [\"rbf\"],\n",
    "    \"clasifier__gamma\": [0.01],\n",
    "    \"clasifier__C\": [10],\n",
    "}\n"
   ]
  },
  {
   "cell_type": "code",
   "execution_count": 4,
   "id": "8e072828",
   "metadata": {
    "execution": {
     "iopub.execute_input": "2023-10-27T22:16:49.322352Z",
     "iopub.status.busy": "2023-10-27T22:16:49.322174Z",
     "iopub.status.idle": "2023-10-27T22:16:49.324945Z",
     "shell.execute_reply": "2023-10-27T22:16:49.324474Z"
    },
    "papermill": {
     "duration": 0.007164,
     "end_time": "2023-10-27T22:16:49.326183",
     "exception": false,
     "start_time": "2023-10-27T22:16:49.319019",
     "status": "completed"
    },
    "tags": []
   },
   "outputs": [],
   "source": [
    "DATA_FILE = PRE_DATA_FILE + M_TIPO\n",
    "\n",
    "# si viene \"None\" en el parámetro max_depth, se le quitan las comillas para que no sea entendido por el algoritmo como un texto\n",
    "if \"clasifier__max_depth\" in param_distributions:\n",
    "    param_distributions['clasifier__max_depth'] = [None if x == 'None' else x for x in param_distributions['clasifier__max_depth']]"
   ]
  },
  {
   "cell_type": "markdown",
   "id": "a9b4ac28",
   "metadata": {
    "papermill": {
     "duration": 0.002708,
     "end_time": "2023-10-27T22:16:49.331767",
     "exception": false,
     "start_time": "2023-10-27T22:16:49.329059",
     "status": "completed"
    },
    "tags": []
   },
   "source": [
    "Asignar los algoritmos que se utilizarán en la función RandomSearchCV"
   ]
  },
  {
   "cell_type": "code",
   "execution_count": 5,
   "id": "aec7d7d2",
   "metadata": {
    "execution": {
     "iopub.execute_input": "2023-10-27T22:16:49.338015Z",
     "iopub.status.busy": "2023-10-27T22:16:49.337855Z",
     "iopub.status.idle": "2023-10-27T22:16:49.340537Z",
     "shell.execute_reply": "2023-10-27T22:16:49.340047Z"
    },
    "papermill": {
     "duration": 0.007212,
     "end_time": "2023-10-27T22:16:49.341827",
     "exception": false,
     "start_time": "2023-10-27T22:16:49.334615",
     "status": "completed"
    },
    "tags": []
   },
   "outputs": [],
   "source": [
    "algor_selector=eval(eval_selector)\n",
    "algor_clasifier=eval(eval_clasifier)"
   ]
  },
  {
   "cell_type": "markdown",
   "id": "4f0dc428",
   "metadata": {
    "papermill": {
     "duration": 0.003218,
     "end_time": "2023-10-27T22:16:49.348259",
     "exception": false,
     "start_time": "2023-10-27T22:16:49.345041",
     "status": "completed"
    },
    "tags": []
   },
   "source": [
    "#### Comprobar el entorno y leer fichero de muestras"
   ]
  },
  {
   "cell_type": "code",
   "execution_count": 6,
   "id": "953c12df",
   "metadata": {
    "execution": {
     "iopub.execute_input": "2023-10-27T22:16:49.355425Z",
     "iopub.status.busy": "2023-10-27T22:16:49.355248Z",
     "iopub.status.idle": "2023-10-27T22:16:49.481351Z",
     "shell.execute_reply": "2023-10-27T22:16:49.480772Z"
    },
    "papermill": {
     "duration": 0.131325,
     "end_time": "2023-10-27T22:16:49.482773",
     "exception": false,
     "start_time": "2023-10-27T22:16:49.351448",
     "status": "completed"
    },
    "tags": []
   },
   "outputs": [
    {
     "name": "stdout",
     "output_type": "stream",
     "text": [
      "20231028T001649 : amilcar22 : INFO : Encontrada carpeta DATA_DIR=../tfm_git/datos\n",
      "20231028T001649 : amilcar22 : INFO : Encontrada carpeta CFDNA_DIR=../tfm_git/datos/cfDNA_5hmC\n",
      "20231028T001649 : amilcar22 : INFO : Encontrada carpeta GENCODE_DIR=../tfm_git/datos/gencode\n",
      "20231028T001649 : amilcar22 : INFO : Encontrada carpeta H5_DIR=../tfm_git/datos/h5\n",
      "20231028T001649 : amilcar22 : INFO : Encontrada carpeta LOG_DIR=../tfm_git/datos/logs\n",
      "20231028T001649 : amilcar22 : INFO : Encontrada carpeta CSV_DIR=../tfm_git/datos/csv\n",
      "20231028T001649 : amilcar22 : INFO : Encontrada carpeta MODEL_DIR=../tfm_git/ejecuciones/modelos\n",
      "20231028T001649 : amilcar22 : INFO : Encontrada carpeta EXEC_DIR=../tfm_git/ejecuciones\n",
      "20231028T001649 : amilcar22 : INFO : Encontrada carpeta MET_DIR=../tfm_git/ejecuciones/metricas\n",
      "20231028T001649 : amilcar22 : INFO : Inicio leer fichero h5 ../tfm_git/datos/h5/rows_transpose_norm_by_gene_id_with_target_num_mul_s.h5\n",
      "20231028T001649 : amilcar22 : INFO : Leyendo clave /df\n",
      "20231028T001649 : amilcar22 : INFO : Tamaño (259, 18876)\n",
      "20231028T001649 : amilcar22 : INFO : Fin leer fichero h5 ../tfm_git/datos/h5/rows_transpose_norm_by_gene_id_with_target_num_mul_s.h5\n"
     ]
    },
    {
     "data": {
      "text/plain": [
       "target\n",
       "0    37\n",
       "1    37\n",
       "2    37\n",
       "3    37\n",
       "4    37\n",
       "5    37\n",
       "6    37\n",
       "dtype: int64"
      ]
     },
     "metadata": {},
     "output_type": "display_data"
    },
    {
     "name": "stdout",
     "output_type": "stream",
     "text": [
      "Shape df: (259, 18876)\n",
      "Shape X_train: (207, 18875)\n",
      "Shape X_test: (52, 18875)\n"
     ]
    }
   ],
   "source": [
    "start_time = datetime.datetime.now()\n",
    "\n",
    "myfunc.reset_vars()\n",
    "\n",
    "myfunc.NOTEBK_FILENAME = myfunc.get_nb_name()\n",
    "\n",
    "myfunc.check_enviroment(myfunc.DATA_DIR, myfunc.CFDNA_DIR, myfunc.GENCODE_DIR, myfunc.H5_DIR, myfunc.LOG_DIR, myfunc.CSV_DIR, myfunc.MODEL_DIR, myfunc.EXEC_DIR, myfunc.MET_DIR)\n",
    "\n",
    "# Leer fichero con las muestras\n",
    "df_t = myfunc.read_h5_to_df(DATA_FILE, myfunc.H5_DIR)\n",
    "display(df_t.groupby(\"target\").size())\n",
    "print(\"Shape df:\",df_t.shape)\n",
    "\n",
    "# Separar caracteristicas/genes de las etiquetas/tipos de cáncer\n",
    "X = df_t.iloc[:, :-1]  # Todas las columnas excepto la última\n",
    "y = df_t.iloc[:, -1]  # La última columna contiene los identificadores de los tipos de cáncer\n",
    "\n",
    "#  Crear el conjunto de datos de entrenamiento y de pruebas\n",
    "X_train, X_test, y_train, y_test = train_test_split(X, y, test_size=0.2, shuffle=True, random_state=SEMILLA)\n",
    "print(\"Shape X_train:\",X_train.shape)\n",
    "print(\"Shape X_test:\",X_test.shape)\n"
   ]
  },
  {
   "cell_type": "markdown",
   "id": "7c8b6668",
   "metadata": {
    "papermill": {
     "duration": 0.002813,
     "end_time": "2023-10-27T22:16:49.488885",
     "exception": false,
     "start_time": "2023-10-27T22:16:49.486072",
     "status": "completed"
    },
    "tags": []
   },
   "source": [
    "#### Selección de características y clasificación."
   ]
  },
  {
   "cell_type": "code",
   "execution_count": 7,
   "id": "acd7ba63",
   "metadata": {
    "execution": {
     "iopub.execute_input": "2023-10-27T22:16:49.495304Z",
     "iopub.status.busy": "2023-10-27T22:16:49.495110Z",
     "iopub.status.idle": "2023-10-27T22:16:51.335610Z",
     "shell.execute_reply": "2023-10-27T22:16:51.334934Z"
    },
    "papermill": {
     "duration": 1.845339,
     "end_time": "2023-10-27T22:16:51.336997",
     "exception": false,
     "start_time": "2023-10-27T22:16:49.491658",
     "status": "completed"
    },
    "tags": []
   },
   "outputs": [
    {
     "name": "stdout",
     "output_type": "stream",
     "text": [
      "20231028T001649 : amilcar22 : INFO : Iniciando entrenamiento\n",
      "num_iter: 1 , max_iter: 1\n"
     ]
    },
    {
     "name": "stdout",
     "output_type": "stream",
     "text": [
      "Fitting 5 folds for each of 1 candidates, totalling 5 fits\n"
     ]
    },
    {
     "name": "stderr",
     "output_type": "stream",
     "text": [
      "/home/antonio/miniconda3/lib/python3.10/site-packages/sklearn/feature_selection/_univariate_selection.py:112: UserWarning: Features [  298  1508  1733  1846  2010  2222  2265  2266  2553  2688  2802  2803\n",
      "  2833  2896  3248  3415  3492  4075  5803  6053  6981  6984  7416  7418\n",
      "  8508  8510  8513  8890  9087  9490 10035 10475 11020 11613 11943 12249\n",
      " 12480 12831 12888 12940 13235 13259 13836 13959 14000 14015 14244 14245\n",
      " 14451 14789 14794 14795 14924 14941 15071 15401 15515 15516 15563 15824\n",
      " 15874 16235 16244 16245 16258 16262 16267 16268 16281 16287 16294 16312\n",
      " 16313 16323 16339 16350 16372 16630 16701 16731 16870 16905 16906 16968\n",
      " 17047 17091 17093 17231 17264 17274 17300 17312 17418 17520 17540 17741\n",
      " 18350 18368 18374 18375 18405 18486 18546 18592 18692 18698 18868] are constant.\n",
      "  warnings.warn(\"Features %s are constant.\" % constant_features_idx, UserWarning)\n",
      "/home/antonio/miniconda3/lib/python3.10/site-packages/sklearn/feature_selection/_univariate_selection.py:113: RuntimeWarning: invalid value encountered in divide\n",
      "  f = msb / msw\n",
      "/home/antonio/miniconda3/lib/python3.10/site-packages/sklearn/feature_selection/_univariate_selection.py:112: UserWarning: Features [  298  1508  1733  1846  2010  2222  2265  2266  2553  2688  2802  2803\n",
      "  2833  2896  2957  3248  3415  3492  3804  4075  5490  5803  6053  6981\n",
      "  6984  7418  8314  8508  8510  8511  8512  8513  8890  9087  9490 10475\n",
      " 10477 11020 11613 11943 12249 12480 12831 13235 13259 13300 13522 13836\n",
      " 13841 13959 14000 14015 14244 14245 14451 14559 14789 14795 14941 15153\n",
      " 15183 15515 15563 15824 15874 16258 16267 16268 16276 16277 16281 16287\n",
      " 16313 16318 16322 16323 16349 16350 16372 16630 16667 16679 16701 16905\n",
      " 16906 16968 17047 17091 17093 17231 17264 17273 17274 17300 17312 17540\n",
      " 17963 18153 18350 18368 18374 18375 18405 18421 18486 18592 18692 18868] are constant.\n",
      "  warnings.warn(\"Features %s are constant.\" % constant_features_idx, UserWarning)\n",
      "/home/antonio/miniconda3/lib/python3.10/site-packages/sklearn/feature_selection/_univariate_selection.py:113: RuntimeWarning: invalid value encountered in divide\n",
      "  f = msb / msw\n",
      "/home/antonio/miniconda3/lib/python3.10/site-packages/sklearn/feature_selection/_univariate_selection.py:112: UserWarning: Features [  298  1017  1508  1733  1846  2010  2222  2265  2266  2553  2688  2802\n",
      "  2803  2833  2896  3248  3415  3492  4075  5405  5668  5803  6053  6981\n",
      "  6984  6988  7418  8508  8510  8513  8791  8890  9087  9090  9490 10475\n",
      " 11020 11613 11943 12249 12433 12480 12489 12831 13047 13225 13235 13259\n",
      " 13577 13836 13860 13959 14000 14015 14244 14245 14451 14789 14795 14941\n",
      " 15515 15563 15824 15874 16018 16205 16229 16237 16258 16267 16268 16278\n",
      " 16279 16281 16287 16313 16323 16350 16372 16373 16520 16630 16701 16704\n",
      " 16819 16905 16906 16968 17047 17091 17093 17120 17231 17264 17274 17300\n",
      " 17312 17478 17540 17679 18350 18368 18374 18375 18405 18486 18530 18592\n",
      " 18692 18868] are constant.\n",
      "  warnings.warn(\"Features %s are constant.\" % constant_features_idx, UserWarning)\n",
      "/home/antonio/miniconda3/lib/python3.10/site-packages/sklearn/feature_selection/_univariate_selection.py:113: RuntimeWarning: invalid value encountered in divide\n",
      "  f = msb / msw\n"
     ]
    },
    {
     "name": "stderr",
     "output_type": "stream",
     "text": [
      "/home/antonio/miniconda3/lib/python3.10/site-packages/sklearn/feature_selection/_univariate_selection.py:112: UserWarning: Features [  298  1508  1733  1846  2010  2222  2265  2266  2553  2688  2725  2802\n",
      "  2803  2833  2896  3248  3415  3492  4075  5803  6053  6981  6984  7418\n",
      "  8508  8510  8513  8890  9087  9490 10475 11020 11022 11562 11565 11613\n",
      " 11943 12249 12307 12480 12518 12831 13235 13259 13836 13848 13959 14000\n",
      " 14015 14244 14245 14451 14789 14795 14941 15515 15563 15785 15824 15874\n",
      " 15881 16258 16267 16268 16281 16287 16313 16323 16330 16347 16350 16372\n",
      " 16565 16630 16701 16905 16906 16956 16968 17024 17047 17055 17075 17091\n",
      " 17093 17231 17264 17274 17300 17312 17540 17948 18245 18288 18350 18368\n",
      " 18374 18375 18405 18486 18592 18608 18679 18692 18868] are constant.\n",
      "  warnings.warn(\"Features %s are constant.\" % constant_features_idx, UserWarning)\n",
      "/home/antonio/miniconda3/lib/python3.10/site-packages/sklearn/feature_selection/_univariate_selection.py:113: RuntimeWarning: invalid value encountered in divide\n",
      "  f = msb / msw\n",
      "/home/antonio/miniconda3/lib/python3.10/site-packages/sklearn/feature_selection/_univariate_selection.py:112: UserWarning: Features [  298  1085  1508  1733  1846  2006  2010  2222  2265  2266  2553  2555\n",
      "  2688  2802  2803  2833  2896  3248  3415  3492  4075  4306  5533  5803\n",
      "  6053  6981  6984  7418  8508  8510  8513  8890  9087  9490 10475 11020\n",
      " 11613 11943 11996 12249 12480 12831 12973 13235 13259 13836 13959 14000\n",
      " 14015 14244 14245 14451 14735 14789 14795 14941 15397 15515 15563 15824\n",
      " 15874 16258 16260 16267 16268 16281 16287 16309 16313 16323 16350 16372\n",
      " 16630 16701 16905 16906 16968 17047 17091 17093 17231 17264 17274 17300\n",
      " 17312 17540 17566 18350 18368 18374 18375 18405 18486 18592 18692 18868] are constant.\n",
      "  warnings.warn(\"Features %s are constant.\" % constant_features_idx, UserWarning)\n",
      "/home/antonio/miniconda3/lib/python3.10/site-packages/sklearn/feature_selection/_univariate_selection.py:113: RuntimeWarning: invalid value encountered in divide\n",
      "  f = msb / msw\n"
     ]
    },
    {
     "name": "stdout",
     "output_type": "stream",
     "text": [
      "Mejores Hiperparámetros: {'selector__k': 200, 'clasifier__kernel': 'rbf', 'clasifier__gamma': 0.01, 'clasifier__C': 10}\n",
      "Mejor Puntuación: 0.7766\n",
      "20231028T001651 : amilcar22 : INFO : Fin entrenamiento\n"
     ]
    },
    {
     "name": "stderr",
     "output_type": "stream",
     "text": [
      "/home/antonio/miniconda3/lib/python3.10/site-packages/sklearn/feature_selection/_univariate_selection.py:112: UserWarning: Features [  298  1508  1733  1846  2010  2222  2265  2266  2553  2688  2802  2803\n",
      "  2833  2896  3248  3415  3492  4075  5803  6053  6981  6984  7418  8508\n",
      "  8510  8513  8890  9087  9490 10475 11020 11613 11943 12249 12480 12831\n",
      " 13235 13259 13836 13959 14000 14015 14244 14245 14451 14789 14795 14941\n",
      " 15515 15563 15824 15874 16258 16267 16268 16281 16287 16313 16323 16350\n",
      " 16372 16630 16701 16905 16906 16968 17047 17091 17093 17231 17264 17274\n",
      " 17300 17312 17540 18350 18368 18374 18375 18405 18486 18592 18692 18868] are constant.\n",
      "  warnings.warn(\"Features %s are constant.\" % constant_features_idx, UserWarning)\n",
      "/home/antonio/miniconda3/lib/python3.10/site-packages/sklearn/feature_selection/_univariate_selection.py:113: RuntimeWarning: invalid value encountered in divide\n",
      "  f = msb / msw\n"
     ]
    }
   ],
   "source": [
    "myfunc.verbose(\"Iniciando entrenamiento\")\n",
    "\n",
    "kf = KFold(n_splits=5, shuffle=True, random_state=SEMILLA)\n",
    "\n",
    "# Crear el pipeline para el flujo de tareas\n",
    "tasks_pipeline = Pipeline([\n",
    "    ('selector', algor_selector),\n",
    "    ('clasifier', algor_clasifier)\n",
    "])\n",
    "\n",
    "# MAX_ITERS puede limitar el número de iteraciones si son excesivas para las combinaciones de parámetros buscando un óptimo local, \n",
    "# sino funcionaría como GridSearchCV al revisar todas las cominaciones de los parámetros\n",
    "num_iteraciones = 1\n",
    "num_iteraciones = num_iteraciones * np.prod([len(elemento1) for _, elemento1 in param_distributions.items()])\n",
    "max_iteraciones = num_iteraciones if num_iteraciones <= MAX_ITERS else MAX_ITERS\n",
    "print(\"num_iter:\",num_iteraciones,\", max_iter:\",max_iteraciones)\n",
    "\n",
    "random_search = RandomizedSearchCV(\n",
    "    tasks_pipeline, \n",
    "    param_distributions, \n",
    "    n_iter=max_iteraciones,\n",
    "    scoring=SCORING,\n",
    "    cv=kf,\n",
    "    verbose=3, \n",
    "    random_state=SEMILLA, \n",
    "    n_jobs=-1\n",
    "    )\n",
    "\n",
    "# Entrenar el modelo\n",
    "random_search.fit(X_train, y_train)\n",
    "\n",
    "# Ver los mejores hiperparámetros encontrados\n",
    "print(f'Mejores Hiperparámetros: {random_search.best_params_}')\n",
    "print(f'Mejor Puntuación: {random_search.best_score_:.4f}')\n",
    "\n",
    "# Nos quedamos con el mejor modelo para ver las métricas\n",
    "mejor_modelo = random_search.best_estimator_\n",
    "\n",
    "myfunc.verbose(\"Fin entrenamiento\")"
   ]
  },
  {
   "cell_type": "markdown",
   "id": "78033431",
   "metadata": {
    "papermill": {
     "duration": 0.002995,
     "end_time": "2023-10-27T22:16:51.343674",
     "exception": false,
     "start_time": "2023-10-27T22:16:51.340679",
     "status": "completed"
    },
    "tags": []
   },
   "source": [
    "#### Guardar modelo"
   ]
  },
  {
   "cell_type": "code",
   "execution_count": 8,
   "id": "02e8c26a",
   "metadata": {
    "execution": {
     "iopub.execute_input": "2023-10-27T22:16:51.350708Z",
     "iopub.status.busy": "2023-10-27T22:16:51.350488Z",
     "iopub.status.idle": "2023-10-27T22:16:51.358165Z",
     "shell.execute_reply": "2023-10-27T22:16:51.357608Z"
    },
    "papermill": {
     "duration": 0.012726,
     "end_time": "2023-10-27T22:16:51.359430",
     "exception": false,
     "start_time": "2023-10-27T22:16:51.346704",
     "status": "completed"
    },
    "tags": []
   },
   "outputs": [
    {
     "name": "stdout",
     "output_type": "stream",
     "text": [
      "20231028T001651 : amilcar22 : INFO : Inicio guardar fichero ../tfm_git/ejecuciones/modelos/modelo_0042_mul_s_ANOVA_SVM.pkl\n",
      "20231028T001651 : amilcar22 : INFO : Fin guardar fichero ../tfm_git/ejecuciones/modelos/modelo_0042_mul_s_ANOVA_SVM.pkl\n"
     ]
    }
   ],
   "source": [
    "fichero_modelo = str.replace(\"modelo_\"+str(SEMILLA).zfill(4)+\"_\"+M_TIPO+\"_\"+M_SELECT+\"_\"+M_CLASIF+\".pkl\", \" \", \"_\")\n",
    "\n",
    "myfunc.save_modelo(mejor_modelo, myfunc.MODEL_DIR, fichero_modelo)"
   ]
  },
  {
   "cell_type": "markdown",
   "id": "ab8358fb",
   "metadata": {
    "papermill": {
     "duration": 0.003391,
     "end_time": "2023-10-27T22:16:51.366280",
     "exception": false,
     "start_time": "2023-10-27T22:16:51.362889",
     "status": "completed"
    },
    "tags": []
   },
   "source": [
    "#### Ver resultados del las iteraciones hechas por RandomSearchCV"
   ]
  },
  {
   "cell_type": "code",
   "execution_count": 9,
   "id": "a470f622",
   "metadata": {
    "execution": {
     "iopub.execute_input": "2023-10-27T22:16:51.373238Z",
     "iopub.status.busy": "2023-10-27T22:16:51.373019Z",
     "iopub.status.idle": "2023-10-27T22:16:51.379064Z",
     "shell.execute_reply": "2023-10-27T22:16:51.378629Z"
    },
    "papermill": {
     "duration": 0.010902,
     "end_time": "2023-10-27T22:16:51.380252",
     "exception": false,
     "start_time": "2023-10-27T22:16:51.369350",
     "status": "completed"
    },
    "tags": []
   },
   "outputs": [
    {
     "name": "stdout",
     "output_type": "stream",
     "text": [
      "20231028T001651 : amilcar22 : INFO : Inicio ver resultados\n",
      "Mejores Hiperparámetros: {'selector__k': 200, 'clasifier__kernel': 'rbf', 'clasifier__gamma': 0.01, 'clasifier__C': 10}\n",
      "Mejores puntuaciones: 0.7766 | Params: {'selector__k': 200, 'clasifier__kernel': 'rbf', 'clasifier__gamma': 0.01, 'clasifier__C': 10}\n",
      "Media de las puntuaciones: 0.7766 | Params: {'selector__k': 200, 'clasifier__kernel': 'rbf', 'clasifier__gamma': 0.01, 'clasifier__C': 10}\n",
      "20231028T001651 : amilcar22 : INFO : Fin resultados\n"
     ]
    }
   ],
   "source": [
    "myfunc.ver_resultados_search(random_search)"
   ]
  },
  {
   "cell_type": "markdown",
   "id": "cf95b8de",
   "metadata": {
    "papermill": {
     "duration": 0.003146,
     "end_time": "2023-10-27T22:16:51.386826",
     "exception": false,
     "start_time": "2023-10-27T22:16:51.383680",
     "status": "completed"
    },
    "tags": []
   },
   "source": [
    "#### Ver métricas del mejor modelo"
   ]
  },
  {
   "cell_type": "code",
   "execution_count": 10,
   "id": "88e3ac67",
   "metadata": {
    "execution": {
     "iopub.execute_input": "2023-10-27T22:16:51.393951Z",
     "iopub.status.busy": "2023-10-27T22:16:51.393757Z",
     "iopub.status.idle": "2023-10-27T22:16:51.989805Z",
     "shell.execute_reply": "2023-10-27T22:16:51.989306Z"
    },
    "papermill": {
     "duration": 0.601081,
     "end_time": "2023-10-27T22:16:51.991101",
     "exception": false,
     "start_time": "2023-10-27T22:16:51.390020",
     "status": "completed"
    },
    "tags": []
   },
   "outputs": [
    {
     "name": "stdout",
     "output_type": "stream",
     "text": [
      "20231028T001651 : amilcar22 : INFO : Inicio ver métricas multiclase\n"
     ]
    },
    {
     "name": "stdout",
     "output_type": "stream",
     "text": [
      "              precision    recall  f1-score   support\n",
      "\n",
      "           0       0.50      0.09      0.15        11\n",
      "           1       0.71      0.62      0.67         8\n",
      "           2       0.00      0.00      0.00         8\n",
      "           3       0.10      0.20      0.13         5\n",
      "           4       0.78      0.88      0.82         8\n",
      "           5       0.20      0.17      0.18         6\n",
      "           6       0.25      0.67      0.36         6\n",
      "\n",
      "    accuracy                           0.37        52\n",
      "   macro avg       0.36      0.37      0.33        52\n",
      "weighted avg       0.40      0.37      0.34        52\n",
      "\n",
      "\n",
      "\n",
      "           Exactitud: 0.365385\n",
      "   Precisión (media): 0.363152\n",
      "      Recall (media): 0.374892\n",
      "    F1-score (media): 0.331833\n",
      "\n",
      "\n",
      "AUC para el tipo de cáncer 0-Control.... 0.3969\n",
      "AUC para el tipo de cáncer 1-Bladder.... 0.8182\n",
      "AUC para el tipo de cáncer 2-Breast..... 0.6562\n",
      "AUC para el tipo de cáncer 3-Colorectal. 0.7830\n",
      "AUC para el tipo de cáncer 4-Kidney..... 0.9744\n",
      "AUC para el tipo de cáncer 5-Lung....... 0.8442\n",
      "AUC para el tipo de cáncer 6-Prostate... 0.7862\n"
     ]
    },
    {
     "name": "stdout",
     "output_type": "stream",
     "text": [
      "\n",
      "Media de AUC: 0.7513\n"
     ]
    },
    {
     "data": {
      "image/png": "[encoded data removed]",
      "text/plain": [
       "<Figure size 1000x600 with 1 Axes>"
      ]
     },
     "metadata": {},
     "output_type": "display_data"
    },
    {
     "name": "stdout",
     "output_type": "stream",
     "text": [
      "\n",
      "\n"
     ]
    },
    {
     "data": {
      "image/png": "[encoded data removed]",
      "text/plain": [
       "<Figure size 800x400 with 2 Axes>"
      ]
     },
     "metadata": {},
     "output_type": "display_data"
    },
    {
     "name": "stdout",
     "output_type": "stream",
     "text": [
      "\n",
      "\n",
      "Puntuación Jaccard para el cáncer tipo 0-Control.... 0.0833\n",
      "Puntuación Jaccard para el cáncer tipo 1-Bladder.... 0.5000\n",
      "Puntuación Jaccard para el cáncer tipo 2-Breast..... 0.0000\n",
      "Puntuación Jaccard para el cáncer tipo 3-Colorectal. 0.0714\n",
      "Puntuación Jaccard para el cáncer tipo 4-Kidney..... 0.7000\n",
      "Puntuación Jaccard para el cáncer tipo 5-Lung....... 0.1000\n",
      "Puntuación Jaccard para el cáncer tipo 6-Prostate... 0.2222\n",
      "\n",
      "Media de la puntuación de Jaccard: 0.2396\n"
     ]
    }
   ],
   "source": [
    "if M_TIPO.startswith(\"bin\"):\n",
    "    myfunc.ver_metricas(mejor_modelo, X_test, y_test)\n",
    "else:\n",
    "    myfunc.ver_metricas_multi(mejor_modelo, X_test, y_test)\n"
   ]
  },
  {
   "cell_type": "markdown",
   "id": "178fef19",
   "metadata": {
    "papermill": {
     "duration": 0.004286,
     "end_time": "2023-10-27T22:16:52.000447",
     "exception": false,
     "start_time": "2023-10-27T22:16:51.996161",
     "status": "completed"
    },
    "tags": []
   },
   "source": [
    "#### Finalización del notebook"
   ]
  },
  {
   "cell_type": "code",
   "execution_count": 11,
   "id": "c6a4b929",
   "metadata": {
    "execution": {
     "iopub.execute_input": "2023-10-27T22:16:52.009663Z",
     "iopub.status.busy": "2023-10-27T22:16:52.009494Z",
     "iopub.status.idle": "2023-10-27T22:16:52.012796Z",
     "shell.execute_reply": "2023-10-27T22:16:52.012354Z"
    },
    "papermill": {
     "duration": 0.009245,
     "end_time": "2023-10-27T22:16:52.013923",
     "exception": false,
     "start_time": "2023-10-27T22:16:52.004678",
     "status": "completed"
    },
    "tags": []
   },
   "outputs": [
    {
     "name": "stdout",
     "output_type": "stream",
     "text": [
      "20231028T001652 : amilcar22 : INFO : Notebook ha tardado 2 seconds\n"
     ]
    }
   ],
   "source": [
    "end_time = datetime.datetime.now()\n",
    "total_time = end_time - start_time\n",
    "myfunc.verbose(f\"Notebook ha tardado {total_time.seconds} seconds\")"
   ]
  },
  {
   "cell_type": "markdown",
   "id": "50650f0f",
   "metadata": {
    "papermill": {
     "duration": 0.004297,
     "end_time": "2023-10-27T22:16:52.022766",
     "exception": false,
     "start_time": "2023-10-27T22:16:52.018469",
     "status": "completed"
    },
    "tags": []
   },
   "source": [
    "#### Guardar métricas"
   ]
  },
  {
   "cell_type": "code",
   "execution_count": 12,
   "id": "183a97ee",
   "metadata": {
    "execution": {
     "iopub.execute_input": "2023-10-27T22:16:52.032313Z",
     "iopub.status.busy": "2023-10-27T22:16:52.032119Z",
     "iopub.status.idle": "2023-10-27T22:16:52.239153Z",
     "shell.execute_reply": "2023-10-27T22:16:52.238631Z"
    },
    "papermill": {
     "duration": 0.213287,
     "end_time": "2023-10-27T22:16:52.240433",
     "exception": false,
     "start_time": "2023-10-27T22:16:52.027146",
     "status": "completed"
    },
    "tags": []
   },
   "outputs": [
    {
     "name": "stdout",
     "output_type": "stream",
     "text": [
      "20231028T001652 : amilcar22 : INFO : Inicio guardar métricas multiclase\n",
      "20231028T001652 : amilcar22 : INFO : Inicio leer fichero ../tfm_git/ejecuciones/metricas/metricas_0042.csv\n",
      "20231028T001652 : amilcar22 : INFO : Fin leer fichero ../tfm_git/ejecuciones/metricas/metricas_0042.csv\n"
     ]
    },
    {
     "name": "stdout",
     "output_type": "stream",
     "text": [
      "20231028T001652 : amilcar22 : INFO : Inicio guardar fichero ../tfm_git/ejecuciones/metricas/metricas_0042.csv\n",
      "20231028T001652 : amilcar22 : INFO : Fichero borrado ../tfm_git/ejecuciones/metricas/metricas_0042.csv\n"
     ]
    },
    {
     "name": "stdout",
     "output_type": "stream",
     "text": [
      "20231028T001652 : amilcar22 : INFO : Fin guardar fichero ../tfm_git/ejecuciones/metricas/metricas_0042.csv\n",
      "20231028T001652 : amilcar22 : INFO : Fin guardar métricas multiclase\n",
      "20231028T001652 : amilcar22 : INFO : Inicio leer fichero ../tfm_git/ejecuciones/metricas/metricas_0042.csv\n",
      "20231028T001652 : amilcar22 : INFO : Fin leer fichero ../tfm_git/ejecuciones/metricas/metricas_0042.csv\n"
     ]
    },
    {
     "data": {
      "text/html": [
       "<div>\n",
       "<style scoped>\n",
       "    .dataframe tbody tr th:only-of-type {\n",
       "        vertical-align: middle;\n",
       "    }\n",
       "\n",
       "    .dataframe tbody tr th {\n",
       "        vertical-align: top;\n",
       "    }\n",
       "\n",
       "    .dataframe thead th {\n",
       "        text-align: right;\n",
       "    }\n",
       "</style>\n",
       "<table border=\"1\" class=\"dataframe\">\n",
       "  <thead>\n",
       "    <tr style=\"text-align: right;\">\n",
       "      <th></th>\n",
       "      <th>tipo</th>\n",
       "      <th>select</th>\n",
       "      <th>clasific</th>\n",
       "      <th>accuracy</th>\n",
       "      <th>precision</th>\n",
       "      <th>recall</th>\n",
       "      <th>f1_score</th>\n",
       "      <th>roc_auc</th>\n",
       "      <th>roc_auc_ovr</th>\n",
       "      <th>hostname</th>\n",
       "      <th>total_time_sec</th>\n",
       "      <th>datetime</th>\n",
       "      <th>fichero_modelo</th>\n",
       "      <th>params</th>\n",
       "      <th>shape</th>\n",
       "      <th>features</th>\n",
       "      <th>semilla</th>\n",
       "      <th>indices_auc</th>\n",
       "      <th>indices_jaccard</th>\n",
       "    </tr>\n",
       "  </thead>\n",
       "  <tbody>\n",
       "    <tr>\n",
       "      <th>0</th>\n",
       "      <td>mul_s</td>\n",
       "      <td>ANOVA</td>\n",
       "      <td>SVM</td>\n",
       "      <td>0.365385</td>\n",
       "      <td>0.363152</td>\n",
       "      <td>0.374892</td>\n",
       "      <td>0.331833</td>\n",
       "      <td>NaN</td>\n",
       "      <td>0.751310</td>\n",
       "      <td>amilcar22</td>\n",
       "      <td>2</td>\n",
       "      <td>2023-10-28 00:16:52.191244</td>\n",
       "      <td>modelo_0042_mul_s_ANOVA_SVM.pkl</td>\n",
       "      <td>{'selector__k': 200, 'clasifier__kernel': 'rbf...</td>\n",
       "      <td>X_test:(52, 18875)</td>\n",
       "      <td>['ENSG00000000938.13', 'ENSG00000005381.9', 'E...</td>\n",
       "      <td>42.0</td>\n",
       "      <td>[0.39689578713968954, 0.8181818181818181, 0.65...</td>\n",
       "      <td>[0.08333333333333333, 0.5, 0.0, 0.071428571428...</td>\n",
       "    </tr>\n",
       "    <tr>\n",
       "      <th>0</th>\n",
       "      <td>mul_s</td>\n",
       "      <td>ANOVA</td>\n",
       "      <td>RF</td>\n",
       "      <td>0.346154</td>\n",
       "      <td>0.323810</td>\n",
       "      <td>0.351082</td>\n",
       "      <td>0.320682</td>\n",
       "      <td>NaN</td>\n",
       "      <td>0.716026</td>\n",
       "      <td>amilcar22</td>\n",
       "      <td>7</td>\n",
       "      <td>2023-10-28 00:16:43.271972</td>\n",
       "      <td>modelo_0042_mul_s_ANOVA_RF.pkl</td>\n",
       "      <td>{'selector__k': 500, 'clasifier__n_estimators'...</td>\n",
       "      <td>X_test:(52, 18875)</td>\n",
       "      <td>['ENSG00000000938.13', 'ENSG00000002919.15', '...</td>\n",
       "      <td>42.0</td>\n",
       "      <td>[0.4722838137472284, 0.78125, 0.67045454545454...</td>\n",
       "      <td>[0.07692307692307693, 0.4166666666666667, 0.0,...</td>\n",
       "    </tr>\n",
       "    <tr>\n",
       "      <th>0</th>\n",
       "      <td>mul_s</td>\n",
       "      <td>ANOVA</td>\n",
       "      <td>LR_L2</td>\n",
       "      <td>0.576923</td>\n",
       "      <td>0.595563</td>\n",
       "      <td>0.591126</td>\n",
       "      <td>0.559642</td>\n",
       "      <td>NaN</td>\n",
       "      <td>0.840903</td>\n",
       "      <td>amilcar22</td>\n",
       "      <td>604</td>\n",
       "      <td>2023-10-28 00:16:29.499873</td>\n",
       "      <td>modelo_0042_mul_s_ANOVA_LR_L2.pkl</td>\n",
       "      <td>{'selector__k': 1000, 'clasifier__solver': 'sa...</td>\n",
       "      <td>X_test:(52, 18875)</td>\n",
       "      <td>['ENSG00000000938.13', 'ENSG00000002834.19', '...</td>\n",
       "      <td>42.0</td>\n",
       "      <td>[0.6452328159645233, 0.9034090909090908, 0.735...</td>\n",
       "      <td>[0.3125, 0.375, 0.2727272727272727, 0.3, 0.727...</td>\n",
       "    </tr>\n",
       "  </tbody>\n",
       "</table>\n",
       "</div>"
      ],
      "text/plain": [
       "    tipo select clasific  accuracy  precision    recall  f1_score  roc_auc  \\\n",
       "0  mul_s  ANOVA      SVM  0.365385   0.363152  0.374892  0.331833      NaN   \n",
       "0  mul_s  ANOVA       RF  0.346154   0.323810  0.351082  0.320682      NaN   \n",
       "0  mul_s  ANOVA    LR_L2  0.576923   0.595563  0.591126  0.559642      NaN   \n",
       "\n",
       "   roc_auc_ovr   hostname  total_time_sec                    datetime  \\\n",
       "0     0.751310  amilcar22               2  2023-10-28 00:16:52.191244   \n",
       "0     0.716026  amilcar22               7  2023-10-28 00:16:43.271972   \n",
       "0     0.840903  amilcar22             604  2023-10-28 00:16:29.499873   \n",
       "\n",
       "                      fichero_modelo  \\\n",
       "0    modelo_0042_mul_s_ANOVA_SVM.pkl   \n",
       "0     modelo_0042_mul_s_ANOVA_RF.pkl   \n",
       "0  modelo_0042_mul_s_ANOVA_LR_L2.pkl   \n",
       "\n",
       "                                              params               shape  \\\n",
       "0  {'selector__k': 200, 'clasifier__kernel': 'rbf...  X_test:(52, 18875)   \n",
       "0  {'selector__k': 500, 'clasifier__n_estimators'...  X_test:(52, 18875)   \n",
       "0  {'selector__k': 1000, 'clasifier__solver': 'sa...  X_test:(52, 18875)   \n",
       "\n",
       "                                            features  semilla  \\\n",
       "0  ['ENSG00000000938.13', 'ENSG00000005381.9', 'E...     42.0   \n",
       "0  ['ENSG00000000938.13', 'ENSG00000002919.15', '...     42.0   \n",
       "0  ['ENSG00000000938.13', 'ENSG00000002834.19', '...     42.0   \n",
       "\n",
       "                                         indices_auc  \\\n",
       "0  [0.39689578713968954, 0.8181818181818181, 0.65...   \n",
       "0  [0.4722838137472284, 0.78125, 0.67045454545454...   \n",
       "0  [0.6452328159645233, 0.9034090909090908, 0.735...   \n",
       "\n",
       "                                     indices_jaccard  \n",
       "0  [0.08333333333333333, 0.5, 0.0, 0.071428571428...  \n",
       "0  [0.07692307692307693, 0.4166666666666667, 0.0,...  \n",
       "0  [0.3125, 0.375, 0.2727272727272727, 0.3, 0.727...  "
      ]
     },
     "metadata": {},
     "output_type": "display_data"
    }
   ],
   "source": [
    "if M_TIPO.startswith(\"bin\"):\n",
    "    myfunc.save_metricas_to_csv(random_search, X_test, y_test, M_TIPO, M_SELECT, M_CLASIF, total_time, SEMILLA, myfunc.MET_DIR, M_FICHERO, fichero_modelo)\n",
    "else:\n",
    "    myfunc.save_metricas_multi_to_csv(random_search, X_test, y_test, M_TIPO, M_SELECT, M_CLASIF, total_time, SEMILLA, myfunc.MET_DIR, M_FICHERO, fichero_modelo)\n",
    "\n",
    "df1=myfunc.read_metricas_to_df(myfunc.MET_DIR,M_FICHERO)\n",
    "\n",
    "display(df1.sort_values(\"datetime\", ascending=False)[:3])\n"
   ]
  },
  {
   "cell_type": "markdown",
   "id": "2bcc6349",
   "metadata": {
    "papermill": {
     "duration": 0.004578,
     "end_time": "2023-10-27T22:16:52.250150",
     "exception": false,
     "start_time": "2023-10-27T22:16:52.245572",
     "status": "completed"
    },
    "tags": []
   },
   "source": [
    "#### Guardar resultados"
   ]
  },
  {
   "cell_type": "code",
   "execution_count": 13,
   "id": "235e0f41",
   "metadata": {
    "execution": {
     "iopub.execute_input": "2023-10-27T22:16:52.259987Z",
     "iopub.status.busy": "2023-10-27T22:16:52.259783Z",
     "iopub.status.idle": "2023-10-27T22:16:52.268042Z",
     "shell.execute_reply": "2023-10-27T22:16:52.267497Z"
    },
    "papermill": {
     "duration": 0.014658,
     "end_time": "2023-10-27T22:16:52.269322",
     "exception": false,
     "start_time": "2023-10-27T22:16:52.254664",
     "status": "completed"
    },
    "tags": []
   },
   "outputs": [
    {
     "name": "stdout",
     "output_type": "stream",
     "text": [
      "20231028T001652 : amilcar22 : INFO : Inicio guardar resultados\n",
      "20231028T001652 : amilcar22 : INFO : Inicio guardar fichero ../tfm_git/ejecuciones/metricas/resultados_0042_mul_s-ANOVA-SVM.csv\n",
      "20231028T001652 : amilcar22 : INFO : Fin guardar fichero ../tfm_git/ejecuciones/metricas/resultados_0042_mul_s-ANOVA-SVM.csv\n",
      "20231028T001652 : amilcar22 : INFO : Fin guardar resultados\n"
     ]
    }
   ],
   "source": [
    "fichero_resultados=R_FICHERO+\"_\"+M_TIPO+\"-\"+M_SELECT+\"-\"+M_CLASIF+\".csv\"\n",
    "myfunc.save_resultados_to_csv(M_TIPO, M_SELECT, M_CLASIF,  random_search, myfunc.MET_DIR, fichero_resultados)\n"
   ]
  }
 ],
 "metadata": {
  "kernelspec": {
   "display_name": "Python 3 (ipykernel)",
   "language": "python",
   "name": "python3"
  },
  "language_info": {
   "codemirror_mode": {
    "name": "ipython",
    "version": 3
   },
   "file_extension": ".py",
   "mimetype": "text/x-python",
   "name": "python",
   "nbconvert_exporter": "python",
   "pygments_lexer": "ipython3",
   "version": "3.10.12"
  },
  "papermill": {
   "default_parameters": {},
   "duration": 7.401689,
   "end_time": "2023-10-27T22:16:54.891562",
   "environment_variables": {},
   "exception": null,
   "input_path": "03_entrenamiento.ipynb",
   "output_path": "ejecuciones/training/03_entrenamiento.20231028T001647.param_0000_0042_mul_s_ANOVA_SVM.output.ipynb",
   "parameters": {
    "MAX_ITERS": 500,
    "M_CLASIF": "SVM",
    "M_FICHERO": "metricas_0042",
    "M_SELECT": "ANOVA",
    "M_TIPO": "mul_s",
    "PRE_DATA_FILE": "rows_transpose_norm_by_gene_id_with_target_num_",
    "P_FICHERO": "param_0000_0042_mul_s_ANOVA_SVM.yaml",
    "R_FICHERO": "resultados_0042",
    "SCORING": "roc_auc_ovr",
    "SEMILLA": 42,
    "eval_clasifier": "SVC(probability=True, random_state=SEMILLA)",
    "eval_selector": "SelectKBest(score_func=f_classif)",
    "param_distributions": {
     "clasifier__C": [
      10
     ],
     "clasifier__gamma": [
      0.01
     ],
     "clasifier__kernel": [
      "rbf"
     ],
     "selector__k": [
      200
     ]
    }
   },
   "start_time": "2023-10-27T22:16:47.489873",
   "version": "2.4.0"
  }
 },
 "nbformat": 4,
 "nbformat_minor": 5
}