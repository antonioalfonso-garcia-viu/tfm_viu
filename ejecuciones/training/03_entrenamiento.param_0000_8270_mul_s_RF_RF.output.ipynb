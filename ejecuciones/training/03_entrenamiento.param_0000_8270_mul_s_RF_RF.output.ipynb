{
 "cells": [
  {
   "cell_type": "markdown",
   "id": "96f06ae8",
   "metadata": {
    "papermill": {
     "duration": 0.005531,
     "end_time": "2023-10-30T01:33:28.390656",
     "exception": false,
     "start_time": "2023-10-30T01:33:28.385125",
     "status": "completed"
    },
    "tags": []
   },
   "source": [
    "##### Inicio"
   ]
  },
  {
   "cell_type": "markdown",
   "id": "051e1f82",
   "metadata": {
    "papermill": {
     "duration": 0.003409,
     "end_time": "2023-10-30T01:33:28.397780",
     "exception": false,
     "start_time": "2023-10-30T01:33:28.394371",
     "status": "completed"
    },
    "tags": []
   },
   "source": [
    "#### Carga de datos"
   ]
  },
  {
   "cell_type": "code",
   "execution_count": 1,
   "id": "10043012",
   "metadata": {
    "execution": {
     "iopub.execute_input": "2023-10-30T01:33:28.405929Z",
     "iopub.status.busy": "2023-10-30T01:33:28.405494Z",
     "iopub.status.idle": "2023-10-30T01:33:29.513525Z",
     "shell.execute_reply": "2023-10-30T01:33:29.512748Z"
    },
    "papermill": {
     "duration": 1.114025,
     "end_time": "2023-10-30T01:33:29.515223",
     "exception": false,
     "start_time": "2023-10-30T01:33:28.401198",
     "status": "completed"
    },
    "tags": []
   },
   "outputs": [
    {
     "name": "stdout",
     "output_type": "stream",
     "text": [
      "CPU_COUNT: 16; NODE: enderlab; sys.version: 3.10.11 (main, May 16 2023, 00:28:57) [GCC 11.2.0]\n",
      "LOKY_MAX_CPU_COUNT is not set.\n",
      "OMP_NUM_THREADS is not set.\n"
     ]
    }
   ],
   "source": [
    "import os\n",
    "import numpy as np\n",
    "import pandas as pd\n",
    "import datetime\n",
    "import sklearn\n",
    "import logging\n",
    "import warnings\n",
    "\n",
    "from sklearn.pipeline import Pipeline\n",
    "from sklearn.model_selection import RandomizedSearchCV, KFold, cross_val_score, train_test_split\n",
    "from sklearn.metrics import accuracy_score, confusion_matrix, classification_report, roc_auc_score\n",
    "\n",
    "#  cargar algoritmos para aprendizaje supervisado\n",
    "from sklearn.feature_selection import SelectKBest, f_classif, SelectFromModel, mutual_info_classif\n",
    "from sklearn.svm import SVC\n",
    "from sklearn.ensemble import RandomForestClassifier\n",
    "from sklearn.linear_model import LogisticRegression,LogisticRegressionCV\n",
    "\n",
    "# importar fichero con utilidades propias\n",
    "from commons import myfunctions as myfunc\n"
   ]
  },
  {
   "cell_type": "markdown",
   "id": "3949545e",
   "metadata": {
    "papermill": {
     "duration": 0.003683,
     "end_time": "2023-10-30T01:33:29.522921",
     "exception": false,
     "start_time": "2023-10-30T01:33:29.519238",
     "status": "completed"
    },
    "tags": []
   },
   "source": [
    "#### Parámetros a utilizar en el entrenamiento.\n",
    "\n",
    "Se indican los 3 algoritmos de *selección de características* (eval_selector_xxx) y los 3 algoritmos para la _clasificación_ (eval_clasifier_xxx)\n",
    "\n",
    "En *param_distributions* se indicar los parámetros que utilizan los algoritmos en la función RandomSearchCV.\n",
    "\n",
    "Esta celda tiene la etiqueta **parameters** que servirá para poder lanzar los entrenamientos con la utilidad **papermill** pasándole un fichero con los parámetros. Los nuevos parámetros se situarán tras esta celda para tener prevalencia."
   ]
  },
  {
   "cell_type": "code",
   "execution_count": 2,
   "id": "5a7814e0",
   "metadata": {
    "execution": {
     "iopub.execute_input": "2023-10-30T01:33:29.531609Z",
     "iopub.status.busy": "2023-10-30T01:33:29.531161Z",
     "iopub.status.idle": "2023-10-30T01:33:29.540130Z",
     "shell.execute_reply": "2023-10-30T01:33:29.539564Z"
    },
    "papermill": {
     "duration": 0.014972,
     "end_time": "2023-10-30T01:33:29.541377",
     "exception": false,
     "start_time": "2023-10-30T01:33:29.526405",
     "status": "completed"
    },
    "tags": [
     "parameters"
    ]
   },
   "outputs": [
    {
     "name": "stdout",
     "output_type": "stream",
     "text": [
      "20231030T023329 : enderlab : INFO : Utilizando parámetros de mul_m\n"
     ]
    }
   ],
   "source": [
    "#  Parametros para el entrenamiento\n",
    "\n",
    "SEMILLA=        42\n",
    "M_TIPO=         \"mul_m\"\n",
    "M_SELECT=       \"MI\"\n",
    "M_CLASIF=       \"SVM\"\n",
    "R_FICHERO=      \"resultados\"\n",
    "M_FICHERO=      \"metricas\"\n",
    "PRE_DATA_FILE=  \"rows_transpose_norm_by_gene_id_with_target_num_\"\n",
    "SCORING=        \"roc_auc_ovr\" \n",
    "MAX_ITERS=      100\n",
    "\n",
    "def mutual_info_classif_state(X, y):\n",
    "    return mutual_info_classif(X, y, random_state=SEMILLA)\n",
    "\n",
    "eval_selector_mi = \"SelectKBest(score_func=mutual_info_classif_state)\"\n",
    "eval_selector_rf=  \"SelectFromModel(estimator=RandomForestClassifier(random_state=SEMILLA), threshold=-np.inf)\"\n",
    "eval_selector_anova=  \"SelectKBest(score_func=f_classif)\"\n",
    "\n",
    "eval_clasifier_svm= \"SVC(probability=True, random_state=SEMILLA)\"\n",
    "eval_clasifier_rf= \"RandomForestClassifier(random_state=SEMILLA)\"\n",
    "eval_clasifier_lr= \"LogisticRegressionCV(random_state=SEMILLA)\"\n",
    "\n",
    "if M_TIPO.startswith(\"bin_m\"):\n",
    "    myfunc.verbose(f\"Utilizando parámetros de {M_TIPO}\")\n",
    "    eval_selector = eval_selector_mi\n",
    "    eval_clasifier = eval_clasifier_svm\n",
    "\n",
    "    SEMILLA = 6578\n",
    "    M_SELECT = \"MI\"\n",
    "    M_CLASIF = \"SVM\"\n",
    "    param_distributions = {'selector__k': [1000], \n",
    "         'clasifier__kernel': ['rbf'], 'clasifier__gamma': [0.01], 'clasifier__C': [100]}\n",
    "elif M_TIPO.startswith(\"bin_s\"):\n",
    "    myfunc.verbose(f\"Utilizando parámetros de {M_TIPO}\")\n",
    "    eval_selector = eval_selector_rf\n",
    "    eval_clasifier = eval_clasifier_lr\n",
    "\n",
    "    SEMILLA = 6191\n",
    "    M_SELECT = \"RF\"\n",
    "    M_CLASIF = \"LR_L2\"\n",
    "    param_distributions = {'selector__max_features': [1000], 'selector__estimator__n_estimators': [200], \n",
    "        'clasifier__solver': ['lbfgs'], 'clasifier__penalty': ['l2'], 'clasifier__max_iter': [10000]}\n",
    "\n",
    "elif M_TIPO.startswith(\"mul_m\"):\n",
    "    myfunc.verbose(f\"Utilizando parámetros de {M_TIPO}\")\n",
    " \n",
    "    eval_selector = eval_selector_rf\n",
    "    eval_clasifier = eval_clasifier_lr\n",
    "\n",
    "    SEMILLA = 6191\n",
    "    M_SELECT = \"RF\"\n",
    "    M_CLASIF = \"LR_L2\"\n",
    "    param_distributions = {'selector__max_features': [1000], 'selector__estimator__n_estimators': [400], \n",
    "        'clasifier__solver': ['lbfgs'], 'clasifier__penalty': ['l2'], 'clasifier__max_iter': [10000]}\n",
    "\n",
    "else:\n",
    "    # M_TIPO.startswith(\"mul_s\"):\n",
    "    myfunc.verbose(f\"Utilizando parámetros de {M_TIPO}\")\n",
    "    eval_selector = eval_selector_anova\n",
    "    eval_clasifier = eval_clasifier_lr\n",
    "\n",
    "    SEMILLA = 1860\n",
    "    M_SELECT = \"ANOVA\"\n",
    "    M_CLASIF = \"LR_L2\"\n",
    "    param_distributions = {'selector__k': [1000], \n",
    "        'clasifier__solver': ['saga'], 'clasifier__penalty': ['l2'], 'clasifier__max_iter': [10000]}\n",
    "\n"
   ]
  },
  {
   "cell_type": "code",
   "execution_count": 3,
   "id": "bad32583",
   "metadata": {
    "execution": {
     "iopub.execute_input": "2023-10-30T01:33:29.549769Z",
     "iopub.status.busy": "2023-10-30T01:33:29.549279Z",
     "iopub.status.idle": "2023-10-30T01:33:29.553519Z",
     "shell.execute_reply": "2023-10-30T01:33:29.552957Z"
    },
    "papermill": {
     "duration": 0.009739,
     "end_time": "2023-10-30T01:33:29.554737",
     "exception": false,
     "start_time": "2023-10-30T01:33:29.544998",
     "status": "completed"
    },
    "tags": [
     "injected-parameters"
    ]
   },
   "outputs": [],
   "source": [
    "# Parameters\n",
    "M_TIPO = \"mul_s\"\n",
    "M_SELECT = \"RF\"\n",
    "M_CLASIF = \"RF\"\n",
    "P_FICHERO = \"param_0000_8270_mul_s_RF_RF.yaml\"\n",
    "R_FICHERO = \"resultados_8270\"\n",
    "M_FICHERO = \"metricas_8270\"\n",
    "PRE_DATA_FILE = \"rows_transpose_norm_by_gene_id_with_target_num_\"\n",
    "SCORING = \"roc_auc_ovr\"\n",
    "SEMILLA = 8270\n",
    "MAX_ITERS = 500\n",
    "eval_selector = \"SelectFromModel(estimator=RandomForestClassifier(random_state=SEMILLA), threshold=-np.inf)\"\n",
    "eval_clasifier = \"RandomForestClassifier(random_state=SEMILLA)\"\n",
    "param_distributions = {\n",
    "    \"selector__max_features\": [1000],\n",
    "    \"selector__estimator__n_estimators\": [100],\n",
    "    \"clasifier__n_estimators\": [200],\n",
    "    \"clasifier__min_samples_split\": [10],\n",
    "    \"clasifier__min_samples_leaf\": [5],\n",
    "    \"clasifier__max_features\": [1000],\n",
    "    \"clasifier__max_depth\": [10],\n",
    "    \"clasifier__bootstrap\": [True],\n",
    "}\n"
   ]
  },
  {
   "cell_type": "code",
   "execution_count": 4,
   "id": "1a26ed54",
   "metadata": {
    "execution": {
     "iopub.execute_input": "2023-10-30T01:33:29.562968Z",
     "iopub.status.busy": "2023-10-30T01:33:29.562463Z",
     "iopub.status.idle": "2023-10-30T01:33:29.565808Z",
     "shell.execute_reply": "2023-10-30T01:33:29.565290Z"
    },
    "papermill": {
     "duration": 0.008793,
     "end_time": "2023-10-30T01:33:29.567025",
     "exception": false,
     "start_time": "2023-10-30T01:33:29.558232",
     "status": "completed"
    },
    "tags": []
   },
   "outputs": [],
   "source": [
    "DATA_FILE = PRE_DATA_FILE + M_TIPO\n",
    "\n",
    "# si viene \"None\" en el parámetro max_depth, se le quitan las comillas para que no sea entendido por el algoritmo como un texto\n",
    "if \"clasifier__max_depth\" in param_distributions:\n",
    "    param_distributions['clasifier__max_depth'] = [None if x == 'None' else x for x in param_distributions['clasifier__max_depth']]"
   ]
  },
  {
   "cell_type": "markdown",
   "id": "d9a19b40",
   "metadata": {
    "papermill": {
     "duration": 0.003645,
     "end_time": "2023-10-30T01:33:29.574200",
     "exception": false,
     "start_time": "2023-10-30T01:33:29.570555",
     "status": "completed"
    },
    "tags": []
   },
   "source": [
    "Asignar los algoritmos que se utilizarán en la función RandomSearchCV"
   ]
  },
  {
   "cell_type": "code",
   "execution_count": 5,
   "id": "6fda5bfa",
   "metadata": {
    "execution": {
     "iopub.execute_input": "2023-10-30T01:33:29.582646Z",
     "iopub.status.busy": "2023-10-30T01:33:29.582256Z",
     "iopub.status.idle": "2023-10-30T01:33:29.585278Z",
     "shell.execute_reply": "2023-10-30T01:33:29.584715Z"
    },
    "papermill": {
     "duration": 0.008566,
     "end_time": "2023-10-30T01:33:29.586489",
     "exception": false,
     "start_time": "2023-10-30T01:33:29.577923",
     "status": "completed"
    },
    "tags": []
   },
   "outputs": [],
   "source": [
    "algor_selector=eval(eval_selector)\n",
    "algor_clasifier=eval(eval_clasifier)"
   ]
  },
  {
   "cell_type": "markdown",
   "id": "cebcc6a2",
   "metadata": {
    "papermill": {
     "duration": 0.003645,
     "end_time": "2023-10-30T01:33:29.593732",
     "exception": false,
     "start_time": "2023-10-30T01:33:29.590087",
     "status": "completed"
    },
    "tags": []
   },
   "source": [
    "#### Comprobar el entorno y leer fichero de muestras"
   ]
  },
  {
   "cell_type": "code",
   "execution_count": 6,
   "id": "ad4acbd8",
   "metadata": {
    "execution": {
     "iopub.execute_input": "2023-10-30T01:33:29.603052Z",
     "iopub.status.busy": "2023-10-30T01:33:29.602649Z",
     "iopub.status.idle": "2023-10-30T01:33:29.786135Z",
     "shell.execute_reply": "2023-10-30T01:33:29.785443Z"
    },
    "papermill": {
     "duration": 0.189372,
     "end_time": "2023-10-30T01:33:29.787654",
     "exception": false,
     "start_time": "2023-10-30T01:33:29.598282",
     "status": "completed"
    },
    "tags": []
   },
   "outputs": [
    {
     "name": "stdout",
     "output_type": "stream",
     "text": [
      "20231030T023329 : enderlab : INFO : Encontrada carpeta DATA_DIR=../tfm_git/datos\n",
      "20231030T023329 : enderlab : INFO : Encontrada carpeta CFDNA_DIR=../tfm_git/datos/cfDNA_5hmC\n",
      "20231030T023329 : enderlab : INFO : Encontrada carpeta GENCODE_DIR=../tfm_git/datos/gencode\n",
      "20231030T023329 : enderlab : INFO : Encontrada carpeta H5_DIR=../tfm_git/datos/h5\n",
      "20231030T023329 : enderlab : INFO : Encontrada carpeta LOG_DIR=../tfm_git/datos/logs\n",
      "20231030T023329 : enderlab : INFO : Encontrada carpeta CSV_DIR=../tfm_git/datos/csv\n",
      "20231030T023329 : enderlab : INFO : Encontrada carpeta MODEL_DIR=../tfm_git/ejecuciones/modelos\n",
      "20231030T023329 : enderlab : INFO : Encontrada carpeta EXEC_DIR=../tfm_git/ejecuciones\n",
      "20231030T023329 : enderlab : INFO : Encontrada carpeta MET_DIR=../tfm_git/ejecuciones/metricas\n",
      "20231030T023329 : enderlab : INFO : Inicio leer fichero h5 ../tfm_git/datos/h5/rows_transpose_norm_by_gene_id_with_target_num_mul_s.h5\n",
      "20231030T023329 : enderlab : INFO : Leyendo clave /df\n"
     ]
    },
    {
     "name": "stdout",
     "output_type": "stream",
     "text": [
      "20231030T023329 : enderlab : INFO : Tamaño (259, 18876)\n",
      "20231030T023329 : enderlab : INFO : Fin leer fichero h5 ../tfm_git/datos/h5/rows_transpose_norm_by_gene_id_with_target_num_mul_s.h5\n"
     ]
    },
    {
     "data": {
      "text/plain": [
       "target\n",
       "0    37\n",
       "1    37\n",
       "2    37\n",
       "3    37\n",
       "4    37\n",
       "5    37\n",
       "6    37\n",
       "dtype: int64"
      ]
     },
     "metadata": {},
     "output_type": "display_data"
    },
    {
     "name": "stdout",
     "output_type": "stream",
     "text": [
      "Shape df: (259, 18876)\n",
      "Shape X_train: (207, 18875)\n",
      "Shape X_test: (52, 18875)\n"
     ]
    }
   ],
   "source": [
    "start_time = datetime.datetime.now()\n",
    "\n",
    "myfunc.reset_vars()\n",
    "\n",
    "myfunc.NOTEBK_FILENAME = myfunc.get_nb_name()\n",
    "\n",
    "myfunc.check_enviroment(myfunc.DATA_DIR, myfunc.CFDNA_DIR, myfunc.GENCODE_DIR, myfunc.H5_DIR, myfunc.LOG_DIR, myfunc.CSV_DIR, myfunc.MODEL_DIR, myfunc.EXEC_DIR, myfunc.MET_DIR)\n",
    "\n",
    "# Leer fichero con las muestras\n",
    "df_t = myfunc.read_h5_to_df(DATA_FILE, myfunc.H5_DIR)\n",
    "display(df_t.groupby(\"target\").size())\n",
    "print(\"Shape df:\",df_t.shape)\n",
    "\n",
    "# Separar caracteristicas/genes de las etiquetas/tipos de cáncer\n",
    "X = df_t.iloc[:, :-1]  # Todas las columnas excepto la última\n",
    "y = df_t.iloc[:, -1]  # La última columna contiene los identificadores de los tipos de cáncer\n",
    "\n",
    "#  Crear el conjunto de datos de entrenamiento y de pruebas, y se fija la semilla para siempre coger el mismo juego de muestras\n",
    "X_train, X_test, y_train, y_test = train_test_split(X, y, test_size=0.2, shuffle=True, random_state=42)\n",
    "print(\"Shape X_train:\",X_train.shape)\n",
    "print(\"Shape X_test:\",X_test.shape)\n"
   ]
  },
  {
   "cell_type": "markdown",
   "id": "63255c9c",
   "metadata": {
    "papermill": {
     "duration": 0.004079,
     "end_time": "2023-10-30T01:33:29.796952",
     "exception": false,
     "start_time": "2023-10-30T01:33:29.792873",
     "status": "completed"
    },
    "tags": []
   },
   "source": [
    "#### Selección de características y clasificación."
   ]
  },
  {
   "cell_type": "code",
   "execution_count": 7,
   "id": "34052a09",
   "metadata": {
    "execution": {
     "iopub.execute_input": "2023-10-30T01:33:29.806203Z",
     "iopub.status.busy": "2023-10-30T01:33:29.805639Z",
     "iopub.status.idle": "2023-10-30T01:33:57.029444Z",
     "shell.execute_reply": "2023-10-30T01:33:57.028595Z"
    },
    "papermill": {
     "duration": 27.23005,
     "end_time": "2023-10-30T01:33:57.030916",
     "exception": false,
     "start_time": "2023-10-30T01:33:29.800866",
     "status": "completed"
    },
    "tags": []
   },
   "outputs": [
    {
     "name": "stdout",
     "output_type": "stream",
     "text": [
      "20231030T023329 : enderlab : INFO : Iniciando entrenamiento\n",
      "num_iter: 1 , max_iter: 1\n"
     ]
    },
    {
     "name": "stdout",
     "output_type": "stream",
     "text": [
      "Fitting 5 folds for each of 1 candidates, totalling 5 fits\n"
     ]
    },
    {
     "name": "stdout",
     "output_type": "stream",
     "text": [
      "Mejores Hiperparámetros: {'selector__max_features': 1000, 'selector__estimator__n_estimators': 100, 'clasifier__n_estimators': 200, 'clasifier__min_samples_split': 10, 'clasifier__min_samples_leaf': 5, 'clasifier__max_features': 1000, 'clasifier__max_depth': 10, 'clasifier__bootstrap': True}\n",
      "Mejor Puntuación: 0.7798\n",
      "20231030T023357 : enderlab : INFO : Fin entrenamiento\n"
     ]
    }
   ],
   "source": [
    "myfunc.verbose(\"Iniciando entrenamiento\")\n",
    "\n",
    "kf = KFold(n_splits=5, shuffle=True, random_state=SEMILLA)\n",
    "\n",
    "# Crear el pipeline para el flujo de tareas\n",
    "tasks_pipeline = Pipeline([\n",
    "    ('selector', algor_selector),\n",
    "    ('clasifier', algor_clasifier)\n",
    "])\n",
    "\n",
    "# MAX_ITERS puede limitar el número de iteraciones si son excesivas para las combinaciones de parámetros buscando un óptimo local, \n",
    "# sino funcionaría como GridSearchCV al revisar todas las cominaciones de los parámetros\n",
    "num_iteraciones = 1\n",
    "num_iteraciones = num_iteraciones * np.prod([len(elemento1) for _, elemento1 in param_distributions.items()])\n",
    "max_iteraciones = num_iteraciones if num_iteraciones <= MAX_ITERS else MAX_ITERS\n",
    "print(\"num_iter:\",num_iteraciones,\", max_iter:\",max_iteraciones)\n",
    "\n",
    "random_search = RandomizedSearchCV(\n",
    "    tasks_pipeline, \n",
    "    param_distributions, \n",
    "    n_iter=max_iteraciones,\n",
    "    scoring=SCORING,\n",
    "    cv=kf,\n",
    "    verbose=3, \n",
    "    random_state=SEMILLA, \n",
    "    n_jobs=-1\n",
    "    )\n",
    "\n",
    "# Entrenar el modelo\n",
    "random_search.fit(X_train, y_train)\n",
    "\n",
    "# Ver los mejores hiperparámetros encontrados\n",
    "print(f'Mejores Hiperparámetros: {random_search.best_params_}')\n",
    "print(f'Mejor Puntuación: {random_search.best_score_:.4f}')\n",
    "\n",
    "# Nos quedamos con el mejor modelo para ver las métricas\n",
    "mejor_modelo = random_search.best_estimator_\n",
    "\n",
    "myfunc.verbose(\"Fin entrenamiento\")"
   ]
  },
  {
   "cell_type": "markdown",
   "id": "e0820281",
   "metadata": {
    "papermill": {
     "duration": 0.004154,
     "end_time": "2023-10-30T01:33:57.039869",
     "exception": false,
     "start_time": "2023-10-30T01:33:57.035715",
     "status": "completed"
    },
    "tags": []
   },
   "source": [
    "#### Guardar modelo"
   ]
  },
  {
   "cell_type": "code",
   "execution_count": 8,
   "id": "14d8ad28",
   "metadata": {
    "execution": {
     "iopub.execute_input": "2023-10-30T01:33:57.049785Z",
     "iopub.status.busy": "2023-10-30T01:33:57.049233Z",
     "iopub.status.idle": "2023-10-30T01:33:57.170838Z",
     "shell.execute_reply": "2023-10-30T01:33:57.170259Z"
    },
    "papermill": {
     "duration": 0.128233,
     "end_time": "2023-10-30T01:33:57.172123",
     "exception": false,
     "start_time": "2023-10-30T01:33:57.043890",
     "status": "completed"
    },
    "tags": []
   },
   "outputs": [
    {
     "name": "stdout",
     "output_type": "stream",
     "text": [
      "20231030T023357 : enderlab : INFO : Inicio guardar fichero ../tfm_git/ejecuciones/modelos/modelo_8270_mul_s_RF_RF.pkl\n",
      "20231030T023357 : enderlab : INFO : Fin guardar fichero ../tfm_git/ejecuciones/modelos/modelo_8270_mul_s_RF_RF.pkl\n"
     ]
    }
   ],
   "source": [
    "fichero_modelo = str.replace(\"modelo_\"+str(SEMILLA).zfill(4)+\"_\"+M_TIPO+\"_\"+M_SELECT+\"_\"+M_CLASIF+\".pkl\", \" \", \"_\")\n",
    "\n",
    "myfunc.save_modelo(mejor_modelo, myfunc.MODEL_DIR, fichero_modelo)"
   ]
  },
  {
   "cell_type": "markdown",
   "id": "36896185",
   "metadata": {
    "papermill": {
     "duration": 0.004266,
     "end_time": "2023-10-30T01:33:57.180864",
     "exception": false,
     "start_time": "2023-10-30T01:33:57.176598",
     "status": "completed"
    },
    "tags": []
   },
   "source": [
    "#### Ver resultados del las iteraciones hechas por RandomSearchCV"
   ]
  },
  {
   "cell_type": "code",
   "execution_count": 9,
   "id": "e988730a",
   "metadata": {
    "execution": {
     "iopub.execute_input": "2023-10-30T01:33:57.190449Z",
     "iopub.status.busy": "2023-10-30T01:33:57.189986Z",
     "iopub.status.idle": "2023-10-30T01:33:57.197430Z",
     "shell.execute_reply": "2023-10-30T01:33:57.196857Z"
    },
    "papermill": {
     "duration": 0.013694,
     "end_time": "2023-10-30T01:33:57.198702",
     "exception": false,
     "start_time": "2023-10-30T01:33:57.185008",
     "status": "completed"
    },
    "tags": []
   },
   "outputs": [
    {
     "name": "stdout",
     "output_type": "stream",
     "text": [
      "20231030T023357 : enderlab : INFO : Inicio ver resultados\n",
      "Mejores Hiperparámetros: {'selector__max_features': 1000, 'selector__estimator__n_estimators': 100, 'clasifier__n_estimators': 200, 'clasifier__min_samples_split': 10, 'clasifier__min_samples_leaf': 5, 'clasifier__max_features': 1000, 'clasifier__max_depth': 10, 'clasifier__bootstrap': True}\n",
      "Mejores puntuaciones: 0.7798 | Params: {'selector__max_features': 1000, 'selector__estimator__n_estimators': 100, 'clasifier__n_estimators': 200, 'clasifier__min_samples_split': 10, 'clasifier__min_samples_leaf': 5, 'clasifier__max_features': 1000, 'clasifier__max_depth': 10, 'clasifier__bootstrap': True}\n",
      "Media de las puntuaciones: 0.7798 | Params: {'selector__max_features': 1000, 'selector__estimator__n_estimators': 100, 'clasifier__n_estimators': 200, 'clasifier__min_samples_split': 10, 'clasifier__min_samples_leaf': 5, 'clasifier__max_features': 1000, 'clasifier__max_depth': 10, 'clasifier__bootstrap': True}\n",
      "20231030T023357 : enderlab : INFO : Fin resultados\n"
     ]
    }
   ],
   "source": [
    "myfunc.ver_resultados_search(random_search)"
   ]
  },
  {
   "cell_type": "markdown",
   "id": "f6756a69",
   "metadata": {
    "papermill": {
     "duration": 0.004175,
     "end_time": "2023-10-30T01:33:57.207118",
     "exception": false,
     "start_time": "2023-10-30T01:33:57.202943",
     "status": "completed"
    },
    "tags": []
   },
   "source": [
    "#### Ver métricas del mejor modelo"
   ]
  },
  {
   "cell_type": "code",
   "execution_count": 10,
   "id": "752eef04",
   "metadata": {
    "execution": {
     "iopub.execute_input": "2023-10-30T01:33:57.216809Z",
     "iopub.status.busy": "2023-10-30T01:33:57.216340Z",
     "iopub.status.idle": "2023-10-30T01:33:58.033794Z",
     "shell.execute_reply": "2023-10-30T01:33:58.033182Z"
    },
    "papermill": {
     "duration": 0.823786,
     "end_time": "2023-10-30T01:33:58.035160",
     "exception": false,
     "start_time": "2023-10-30T01:33:57.211374",
     "status": "completed"
    },
    "tags": []
   },
   "outputs": [
    {
     "name": "stdout",
     "output_type": "stream",
     "text": [
      "20231030T023357 : enderlab : INFO : Inicio ver métricas multiclase\n"
     ]
    },
    {
     "name": "stdout",
     "output_type": "stream",
     "text": [
      "              precision    recall  f1-score   support\n",
      "\n",
      "           0       0.25      0.09      0.13        11\n",
      "           1       0.62      0.62      0.62         8\n",
      "           2       0.43      0.38      0.40         8\n",
      "           3       0.12      0.20      0.15         5\n",
      "           4       0.64      0.88      0.74         8\n",
      "           5       0.43      0.50      0.46         6\n",
      "           6       0.29      0.33      0.31         6\n",
      "\n",
      "    accuracy                           0.42        52\n",
      "   macro avg       0.40      0.43      0.40        52\n",
      "weighted avg       0.41      0.42      0.40        52\n",
      "\n",
      "\n",
      "\n",
      "           Exactitud: 0.423077\n",
      "   Precisión (media): 0.397032\n",
      "      Recall (media): 0.428463\n",
      "    F1-score (media): 0.402607\n",
      "\n",
      "\n",
      "AUC para el tipo de cáncer 0-Control.... 0.4678\n",
      "AUC para el tipo de cáncer 1-Bladder.... 0.8523\n",
      "AUC para el tipo de cáncer 2-Breast..... 0.7642\n",
      "AUC para el tipo de cáncer 3-Colorectal. 0.7830\n",
      "AUC para el tipo de cáncer 4-Kidney..... 0.9517\n",
      "AUC para el tipo de cáncer 5-Lung....... 0.8007\n",
      "AUC para el tipo de cáncer 6-Prostate... 0.7428\n",
      "\n",
      "Media de AUC: 0.7661\n"
     ]
    },
    {
     "data": {
      "image/png": "[encoded data removed]",
      "text/plain": [
       "<Figure size 1000x600 with 1 Axes>"
      ]
     },
     "metadata": {},
     "output_type": "display_data"
    },
    {
     "name": "stdout",
     "output_type": "stream",
     "text": [
      "\n",
      "\n"
     ]
    },
    {
     "data": {
      "image/png": "[encoded data removed]",
      "text/plain": [
       "<Figure size 800x400 with 2 Axes>"
      ]
     },
     "metadata": {},
     "output_type": "display_data"
    },
    {
     "name": "stdout",
     "output_type": "stream",
     "text": [
      "\n",
      "\n",
      "Puntuación Jaccard para el cáncer tipo 0-Control.... 0.0714\n",
      "Puntuación Jaccard para el cáncer tipo 1-Bladder.... 0.4545\n",
      "Puntuación Jaccard para el cáncer tipo 2-Breast..... 0.2500\n",
      "Puntuación Jaccard para el cáncer tipo 3-Colorectal. 0.0833\n",
      "Puntuación Jaccard para el cáncer tipo 4-Kidney..... 0.5833\n",
      "Puntuación Jaccard para el cáncer tipo 5-Lung....... 0.3000\n",
      "Puntuación Jaccard para el cáncer tipo 6-Prostate... 0.1818\n",
      "\n",
      "Media de la puntuación de Jaccard: 0.2749\n"
     ]
    }
   ],
   "source": [
    "if M_TIPO.startswith(\"bin\"):\n",
    "    myfunc.ver_metricas(mejor_modelo, X_test, y_test)\n",
    "else:\n",
    "    myfunc.ver_metricas_multi(mejor_modelo, X_test, y_test)\n"
   ]
  },
  {
   "cell_type": "markdown",
   "id": "d3b94634",
   "metadata": {
    "papermill": {
     "duration": 0.006476,
     "end_time": "2023-10-30T01:33:58.049570",
     "exception": false,
     "start_time": "2023-10-30T01:33:58.043094",
     "status": "completed"
    },
    "tags": []
   },
   "source": [
    "#### Finalización del notebook"
   ]
  },
  {
   "cell_type": "code",
   "execution_count": 11,
   "id": "1cee149d",
   "metadata": {
    "execution": {
     "iopub.execute_input": "2023-10-30T01:33:58.062903Z",
     "iopub.status.busy": "2023-10-30T01:33:58.062444Z",
     "iopub.status.idle": "2023-10-30T01:33:58.066237Z",
     "shell.execute_reply": "2023-10-30T01:33:58.065703Z"
    },
    "papermill": {
     "duration": 0.011863,
     "end_time": "2023-10-30T01:33:58.067526",
     "exception": false,
     "start_time": "2023-10-30T01:33:58.055663",
     "status": "completed"
    },
    "tags": []
   },
   "outputs": [
    {
     "name": "stdout",
     "output_type": "stream",
     "text": [
      "20231030T023358 : enderlab : INFO : Notebook ha tardado 28 seconds\n"
     ]
    }
   ],
   "source": [
    "end_time = datetime.datetime.now()\n",
    "total_time = end_time - start_time\n",
    "myfunc.verbose(f\"Notebook ha tardado {total_time.seconds} seconds\")"
   ]
  },
  {
   "cell_type": "markdown",
   "id": "ccbec77d",
   "metadata": {
    "papermill": {
     "duration": 0.005631,
     "end_time": "2023-10-30T01:33:58.078896",
     "exception": false,
     "start_time": "2023-10-30T01:33:58.073265",
     "status": "completed"
    },
    "tags": []
   },
   "source": [
    "#### Guardar métricas"
   ]
  },
  {
   "cell_type": "code",
   "execution_count": 12,
   "id": "1de9143f",
   "metadata": {
    "execution": {
     "iopub.execute_input": "2023-10-30T01:33:58.091641Z",
     "iopub.status.busy": "2023-10-30T01:33:58.091125Z",
     "iopub.status.idle": "2023-10-30T01:33:58.495768Z",
     "shell.execute_reply": "2023-10-30T01:33:58.495170Z"
    },
    "papermill": {
     "duration": 0.412472,
     "end_time": "2023-10-30T01:33:58.497105",
     "exception": false,
     "start_time": "2023-10-30T01:33:58.084633",
     "status": "completed"
    },
    "tags": []
   },
   "outputs": [
    {
     "name": "stdout",
     "output_type": "stream",
     "text": [
      "20231030T023358 : enderlab : INFO : Inicio guardar métricas multiclase\n",
      "20231030T023358 : enderlab : INFO : Inicio leer fichero ../tfm_git/ejecuciones/metricas/metricas_8270.csv\n",
      "20231030T023358 : enderlab : INFO : Fin leer fichero ../tfm_git/ejecuciones/metricas/metricas_8270.csv\n"
     ]
    },
    {
     "name": "stdout",
     "output_type": "stream",
     "text": [
      "20231030T023358 : enderlab : INFO : Inicio guardar fichero ../tfm_git/ejecuciones/metricas/metricas_8270.csv\n",
      "20231030T023358 : enderlab : INFO : Fichero borrado ../tfm_git/ejecuciones/metricas/metricas_8270.csv\n",
      "20231030T023358 : enderlab : INFO : Fin guardar fichero ../tfm_git/ejecuciones/metricas/metricas_8270.csv\n",
      "20231030T023358 : enderlab : INFO : Fin guardar métricas multiclase\n",
      "20231030T023358 : enderlab : INFO : Inicio leer fichero ../tfm_git/ejecuciones/metricas/metricas_8270.csv\n",
      "20231030T023358 : enderlab : INFO : Fin leer fichero ../tfm_git/ejecuciones/metricas/metricas_8270.csv\n"
     ]
    },
    {
     "data": {
      "text/html": [
       "<div>\n",
       "<style scoped>\n",
       "    .dataframe tbody tr th:only-of-type {\n",
       "        vertical-align: middle;\n",
       "    }\n",
       "\n",
       "    .dataframe tbody tr th {\n",
       "        vertical-align: top;\n",
       "    }\n",
       "\n",
       "    .dataframe thead th {\n",
       "        text-align: right;\n",
       "    }\n",
       "</style>\n",
       "<table border=\"1\" class=\"dataframe\">\n",
       "  <thead>\n",
       "    <tr style=\"text-align: right;\">\n",
       "      <th></th>\n",
       "      <th>tipo</th>\n",
       "      <th>select</th>\n",
       "      <th>clasific</th>\n",
       "      <th>semilla</th>\n",
       "      <th>accuracy</th>\n",
       "      <th>precision</th>\n",
       "      <th>recall</th>\n",
       "      <th>f1_score</th>\n",
       "      <th>roc_auc</th>\n",
       "      <th>hostname</th>\n",
       "      <th>total_time_sec</th>\n",
       "      <th>datetime</th>\n",
       "      <th>fichero_modelo</th>\n",
       "      <th>params</th>\n",
       "      <th>shape</th>\n",
       "      <th>features</th>\n",
       "      <th>roc_auc_ovr</th>\n",
       "      <th>indices_auc</th>\n",
       "      <th>indices_jaccard</th>\n",
       "    </tr>\n",
       "  </thead>\n",
       "  <tbody>\n",
       "    <tr>\n",
       "      <th>0</th>\n",
       "      <td>mul_s</td>\n",
       "      <td>RF</td>\n",
       "      <td>RF</td>\n",
       "      <td>8270</td>\n",
       "      <td>0.423077</td>\n",
       "      <td>0.397032</td>\n",
       "      <td>0.428463</td>\n",
       "      <td>0.402607</td>\n",
       "      <td>NaN</td>\n",
       "      <td>enderlab</td>\n",
       "      <td>28</td>\n",
       "      <td>2023-10-30 02:33:58.438757</td>\n",
       "      <td>modelo_8270_mul_s_RF_RF.pkl</td>\n",
       "      <td>{'selector__max_features': 1000, 'selector__es...</td>\n",
       "      <td>X_test:(52, 18875)</td>\n",
       "      <td>['ENSG00000003989.18', 'ENSG00000005801.18', '...</td>\n",
       "      <td>0.766070</td>\n",
       "      <td>[0.46784922394678496, 0.8522727272727272, 0.76...</td>\n",
       "      <td>[0.07142857142857142, 0.45454545454545453, 0.2...</td>\n",
       "    </tr>\n",
       "    <tr>\n",
       "      <th>0</th>\n",
       "      <td>mul_s</td>\n",
       "      <td>RF</td>\n",
       "      <td>LR_L2</td>\n",
       "      <td>8270</td>\n",
       "      <td>0.423077</td>\n",
       "      <td>0.465399</td>\n",
       "      <td>0.418831</td>\n",
       "      <td>0.424280</td>\n",
       "      <td>NaN</td>\n",
       "      <td>enderlab</td>\n",
       "      <td>15</td>\n",
       "      <td>2023-10-30 02:33:22.849373</td>\n",
       "      <td>modelo_8270_mul_s_RF_LR_L2.pkl</td>\n",
       "      <td>{'selector__max_features': 500, 'selector__est...</td>\n",
       "      <td>X_test:(52, 18875)</td>\n",
       "      <td>['ENSG00000003402.21', 'ENSG00000003989.18', '...</td>\n",
       "      <td>0.803798</td>\n",
       "      <td>[0.6363636363636364, 0.8636363636363636, 0.664...</td>\n",
       "      <td>[0.125, 0.625, 0.15384615384615385, 0.0, 0.583...</td>\n",
       "    </tr>\n",
       "    <tr>\n",
       "      <th>0</th>\n",
       "      <td>mul_s</td>\n",
       "      <td>RF</td>\n",
       "      <td>LR_L1</td>\n",
       "      <td>8270</td>\n",
       "      <td>0.461538</td>\n",
       "      <td>0.475454</td>\n",
       "      <td>0.459199</td>\n",
       "      <td>0.457074</td>\n",
       "      <td>NaN</td>\n",
       "      <td>enderlab</td>\n",
       "      <td>397</td>\n",
       "      <td>2023-10-30 02:32:59.873688</td>\n",
       "      <td>modelo_8270_mul_s_RF_LR_L1.pkl</td>\n",
       "      <td>{'selector__max_features': 500, 'selector__est...</td>\n",
       "      <td>X_test:(52, 18875)</td>\n",
       "      <td>['ENSG00000003989.18', 'ENSG00000007866.22', '...</td>\n",
       "      <td>0.808355</td>\n",
       "      <td>[0.7361419068736142, 0.9119318181818182, 0.681...</td>\n",
       "      <td>[0.21428571428571427, 0.5, 0.3333333333333333,...</td>\n",
       "    </tr>\n",
       "  </tbody>\n",
       "</table>\n",
       "</div>"
      ],
      "text/plain": [
       "    tipo select clasific  semilla  accuracy  precision    recall  f1_score  \\\n",
       "0  mul_s     RF       RF     8270  0.423077   0.397032  0.428463  0.402607   \n",
       "0  mul_s     RF    LR_L2     8270  0.423077   0.465399  0.418831  0.424280   \n",
       "0  mul_s     RF    LR_L1     8270  0.461538   0.475454  0.459199  0.457074   \n",
       "\n",
       "   roc_auc  hostname  total_time_sec                    datetime  \\\n",
       "0      NaN  enderlab              28  2023-10-30 02:33:58.438757   \n",
       "0      NaN  enderlab              15  2023-10-30 02:33:22.849373   \n",
       "0      NaN  enderlab             397  2023-10-30 02:32:59.873688   \n",
       "\n",
       "                   fichero_modelo  \\\n",
       "0     modelo_8270_mul_s_RF_RF.pkl   \n",
       "0  modelo_8270_mul_s_RF_LR_L2.pkl   \n",
       "0  modelo_8270_mul_s_RF_LR_L1.pkl   \n",
       "\n",
       "                                              params               shape  \\\n",
       "0  {'selector__max_features': 1000, 'selector__es...  X_test:(52, 18875)   \n",
       "0  {'selector__max_features': 500, 'selector__est...  X_test:(52, 18875)   \n",
       "0  {'selector__max_features': 500, 'selector__est...  X_test:(52, 18875)   \n",
       "\n",
       "                                            features  roc_auc_ovr  \\\n",
       "0  ['ENSG00000003989.18', 'ENSG00000005801.18', '...     0.766070   \n",
       "0  ['ENSG00000003402.21', 'ENSG00000003989.18', '...     0.803798   \n",
       "0  ['ENSG00000003989.18', 'ENSG00000007866.22', '...     0.808355   \n",
       "\n",
       "                                         indices_auc  \\\n",
       "0  [0.46784922394678496, 0.8522727272727272, 0.76...   \n",
       "0  [0.6363636363636364, 0.8636363636363636, 0.664...   \n",
       "0  [0.7361419068736142, 0.9119318181818182, 0.681...   \n",
       "\n",
       "                                     indices_jaccard  \n",
       "0  [0.07142857142857142, 0.45454545454545453, 0.2...  \n",
       "0  [0.125, 0.625, 0.15384615384615385, 0.0, 0.583...  \n",
       "0  [0.21428571428571427, 0.5, 0.3333333333333333,...  "
      ]
     },
     "metadata": {},
     "output_type": "display_data"
    }
   ],
   "source": [
    "if M_TIPO.startswith(\"bin\"):\n",
    "    myfunc.save_metricas_to_csv(random_search, X_test, y_test, M_TIPO, M_SELECT, M_CLASIF, total_time, SEMILLA, myfunc.MET_DIR, M_FICHERO, fichero_modelo)\n",
    "else:\n",
    "    myfunc.save_metricas_multi_to_csv(random_search, X_test, y_test, M_TIPO, M_SELECT, M_CLASIF, total_time, SEMILLA, myfunc.MET_DIR, M_FICHERO, fichero_modelo)\n",
    "\n",
    "df1=myfunc.read_metricas_to_df(myfunc.MET_DIR,M_FICHERO)\n",
    "\n",
    "display(df1.sort_values(\"datetime\", ascending=False)[:3])\n"
   ]
  },
  {
   "cell_type": "markdown",
   "id": "75539490",
   "metadata": {
    "papermill": {
     "duration": 0.006252,
     "end_time": "2023-10-30T01:33:58.510097",
     "exception": false,
     "start_time": "2023-10-30T01:33:58.503845",
     "status": "completed"
    },
    "tags": []
   },
   "source": [
    "#### Guardar resultados"
   ]
  },
  {
   "cell_type": "code",
   "execution_count": 13,
   "id": "7e33ebe0",
   "metadata": {
    "execution": {
     "iopub.execute_input": "2023-10-30T01:33:58.524094Z",
     "iopub.status.busy": "2023-10-30T01:33:58.523573Z",
     "iopub.status.idle": "2023-10-30T01:33:58.533552Z",
     "shell.execute_reply": "2023-10-30T01:33:58.532982Z"
    },
    "papermill": {
     "duration": 0.018762,
     "end_time": "2023-10-30T01:33:58.535096",
     "exception": false,
     "start_time": "2023-10-30T01:33:58.516334",
     "status": "completed"
    },
    "tags": []
   },
   "outputs": [
    {
     "name": "stdout",
     "output_type": "stream",
     "text": [
      "20231030T023358 : enderlab : INFO : Inicio guardar resultados\n",
      "20231030T023358 : enderlab : INFO : Inicio guardar fichero ../tfm_git/ejecuciones/metricas/resultados_8270_mul_s-RF-RF.csv\n",
      "20231030T023358 : enderlab : INFO : Fin guardar fichero ../tfm_git/ejecuciones/metricas/resultados_8270_mul_s-RF-RF.csv\n",
      "20231030T023358 : enderlab : INFO : Fin guardar resultados\n"
     ]
    }
   ],
   "source": [
    "fichero_resultados=R_FICHERO+\"_\"+M_TIPO+\"-\"+M_SELECT+\"-\"+M_CLASIF+\".csv\"\n",
    "myfunc.save_resultados_to_csv(M_TIPO, M_SELECT, M_CLASIF,  random_search, myfunc.MET_DIR, fichero_resultados)\n"
   ]
  }
 ],
 "metadata": {
  "kernelspec": {
   "display_name": "Python 3 (ipykernel)",
   "language": "python",
   "name": "python3"
  },
  "language_info": {
   "codemirror_mode": {
    "name": "ipython",
    "version": 3
   },
   "file_extension": ".py",
   "mimetype": "text/x-python",
   "name": "python",
   "nbconvert_exporter": "python",
   "pygments_lexer": "ipython3",
   "version": "3.10.11"
  },
  "papermill": {
   "default_parameters": {},
   "duration": 33.957699,
   "end_time": "2023-10-30T01:34:01.159178",
   "environment_variables": {},
   "exception": null,
   "input_path": "03_entrenamiento.ipynb",
   "output_path": "ejecuciones/training/03_entrenamiento.20231030T023326.param_0000_8270_mul_s_RF_RF.output.ipynb",
   "parameters": {
    "MAX_ITERS": 500,
    "M_CLASIF": "RF",
    "M_FICHERO": "metricas_8270",
    "M_SELECT": "RF",
    "M_TIPO": "mul_s",
    "PRE_DATA_FILE": "rows_transpose_norm_by_gene_id_with_target_num_",
    "P_FICHERO": "param_0000_8270_mul_s_RF_RF.yaml",
    "R_FICHERO": "resultados_8270",
    "SCORING": "roc_auc_ovr",
    "SEMILLA": 8270,
    "eval_clasifier": "RandomForestClassifier(random_state=SEMILLA)",
    "eval_selector": "SelectFromModel(estimator=RandomForestClassifier(random_state=SEMILLA), threshold=-np.inf)",
    "param_distributions": {
     "clasifier__bootstrap": [
      true
     ],
     "clasifier__max_depth": [
      10
     ],
     "clasifier__max_features": [
      1000
     ],
     "clasifier__min_samples_leaf": [
      5
     ],
     "clasifier__min_samples_split": [
      10
     ],
     "clasifier__n_estimators": [
      200
     ],
     "selector__estimator__n_estimators": [
      100
     ],
     "selector__max_features": [
      1000
     ]
    }
   },
   "start_time": "2023-10-30T01:33:27.201479",
   "version": "2.4.0"
  }
 },
 "nbformat": 4,
 "nbformat_minor": 5
}