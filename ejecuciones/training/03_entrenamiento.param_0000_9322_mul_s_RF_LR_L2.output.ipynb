{
 "cells": [
  {
   "cell_type": "markdown",
   "id": "21e8eb2a",
   "metadata": {
    "papermill": {
     "duration": 0.005555,
     "end_time": "2023-10-30T07:40:34.815661",
     "exception": false,
     "start_time": "2023-10-30T07:40:34.810106",
     "status": "completed"
    },
    "tags": []
   },
   "source": [
    "##### Inicio"
   ]
  },
  {
   "cell_type": "markdown",
   "id": "1162e520",
   "metadata": {
    "papermill": {
     "duration": 0.003448,
     "end_time": "2023-10-30T07:40:34.822880",
     "exception": false,
     "start_time": "2023-10-30T07:40:34.819432",
     "status": "completed"
    },
    "tags": []
   },
   "source": [
    "#### Carga de datos"
   ]
  },
  {
   "cell_type": "code",
   "execution_count": 1,
   "id": "3ac7e4e7",
   "metadata": {
    "execution": {
     "iopub.execute_input": "2023-10-30T07:40:34.830990Z",
     "iopub.status.busy": "2023-10-30T07:40:34.830555Z",
     "iopub.status.idle": "2023-10-30T07:40:35.924575Z",
     "shell.execute_reply": "2023-10-30T07:40:35.923964Z"
    },
    "papermill": {
     "duration": 1.099774,
     "end_time": "2023-10-30T07:40:35.926044",
     "exception": false,
     "start_time": "2023-10-30T07:40:34.826270",
     "status": "completed"
    },
    "tags": []
   },
   "outputs": [
    {
     "name": "stdout",
     "output_type": "stream",
     "text": [
      "CPU_COUNT: 16; NODE: enderlab; sys.version: 3.10.11 (main, May 16 2023, 00:28:57) [GCC 11.2.0]\n",
      "LOKY_MAX_CPU_COUNT is not set.\n",
      "OMP_NUM_THREADS is not set.\n"
     ]
    }
   ],
   "source": [
    "import os\n",
    "import numpy as np\n",
    "import pandas as pd\n",
    "import datetime\n",
    "import sklearn\n",
    "import logging\n",
    "import warnings\n",
    "\n",
    "from sklearn.pipeline import Pipeline\n",
    "from sklearn.model_selection import RandomizedSearchCV, KFold, cross_val_score, train_test_split\n",
    "from sklearn.metrics import accuracy_score, confusion_matrix, classification_report, roc_auc_score\n",
    "\n",
    "#  cargar algoritmos para aprendizaje supervisado\n",
    "from sklearn.feature_selection import SelectKBest, f_classif, SelectFromModel, mutual_info_classif\n",
    "from sklearn.svm import SVC\n",
    "from sklearn.ensemble import RandomForestClassifier\n",
    "from sklearn.linear_model import LogisticRegression,LogisticRegressionCV\n",
    "\n",
    "# importar fichero con utilidades propias\n",
    "from commons import myfunctions as myfunc\n"
   ]
  },
  {
   "cell_type": "markdown",
   "id": "7900984c",
   "metadata": {
    "papermill": {
     "duration": 0.00362,
     "end_time": "2023-10-30T07:40:35.933787",
     "exception": false,
     "start_time": "2023-10-30T07:40:35.930167",
     "status": "completed"
    },
    "tags": []
   },
   "source": [
    "#### Parámetros a utilizar en el entrenamiento.\n",
    "\n",
    "Se indican los 3 algoritmos de *selección de características* (eval_selector_xxx) y los 3 algoritmos para la _clasificación_ (eval_clasifier_xxx)\n",
    "\n",
    "En *param_distributions* se indicar los parámetros que utilizan los algoritmos en la función RandomSearchCV.\n",
    "\n",
    "Esta celda tiene la etiqueta **parameters** que servirá para poder lanzar los entrenamientos con la utilidad **papermill** pasándole un fichero con los parámetros. Los nuevos parámetros se situarán tras esta celda para tener prevalencia."
   ]
  },
  {
   "cell_type": "code",
   "execution_count": 2,
   "id": "88b743e8",
   "metadata": {
    "execution": {
     "iopub.execute_input": "2023-10-30T07:40:35.942206Z",
     "iopub.status.busy": "2023-10-30T07:40:35.941808Z",
     "iopub.status.idle": "2023-10-30T07:40:35.950224Z",
     "shell.execute_reply": "2023-10-30T07:40:35.949697Z"
    },
    "papermill": {
     "duration": 0.014178,
     "end_time": "2023-10-30T07:40:35.951467",
     "exception": false,
     "start_time": "2023-10-30T07:40:35.937289",
     "status": "completed"
    },
    "tags": [
     "parameters"
    ]
   },
   "outputs": [
    {
     "name": "stdout",
     "output_type": "stream",
     "text": [
      "20231030T084035 : enderlab : INFO : Utilizando parámetros de mul_m\n"
     ]
    }
   ],
   "source": [
    "#  Parametros para el entrenamiento\n",
    "\n",
    "SEMILLA=        42\n",
    "M_TIPO=         \"mul_m\"\n",
    "M_SELECT=       \"MI\"\n",
    "M_CLASIF=       \"SVM\"\n",
    "R_FICHERO=      \"resultados\"\n",
    "M_FICHERO=      \"metricas\"\n",
    "PRE_DATA_FILE=  \"rows_transpose_norm_by_gene_id_with_target_num_\"\n",
    "SCORING=        \"roc_auc_ovr\" \n",
    "MAX_ITERS=      100\n",
    "\n",
    "def mutual_info_classif_state(X, y):\n",
    "    return mutual_info_classif(X, y, random_state=SEMILLA)\n",
    "\n",
    "eval_selector_mi = \"SelectKBest(score_func=mutual_info_classif_state)\"\n",
    "eval_selector_rf=  \"SelectFromModel(estimator=RandomForestClassifier(random_state=SEMILLA), threshold=-np.inf)\"\n",
    "eval_selector_anova=  \"SelectKBest(score_func=f_classif)\"\n",
    "\n",
    "eval_clasifier_svm= \"SVC(probability=True, random_state=SEMILLA)\"\n",
    "eval_clasifier_rf= \"RandomForestClassifier(random_state=SEMILLA)\"\n",
    "eval_clasifier_lr= \"LogisticRegressionCV(random_state=SEMILLA)\"\n",
    "\n",
    "if M_TIPO.startswith(\"bin_m\"):\n",
    "    myfunc.verbose(f\"Utilizando parámetros de {M_TIPO}\")\n",
    "    eval_selector = eval_selector_mi\n",
    "    eval_clasifier = eval_clasifier_svm\n",
    "\n",
    "    SEMILLA = 6578\n",
    "    M_SELECT = \"MI\"\n",
    "    M_CLASIF = \"SVM\"\n",
    "    param_distributions = {'selector__k': [1000], \n",
    "         'clasifier__kernel': ['rbf'], 'clasifier__gamma': [0.01], 'clasifier__C': [100]}\n",
    "elif M_TIPO.startswith(\"bin_s\"):\n",
    "    myfunc.verbose(f\"Utilizando parámetros de {M_TIPO}\")\n",
    "    eval_selector = eval_selector_rf\n",
    "    eval_clasifier = eval_clasifier_lr\n",
    "\n",
    "    SEMILLA = 6191\n",
    "    M_SELECT = \"RF\"\n",
    "    M_CLASIF = \"LR_L2\"\n",
    "    param_distributions = {'selector__max_features': [1000], 'selector__estimator__n_estimators': [200], \n",
    "        'clasifier__solver': ['lbfgs'], 'clasifier__penalty': ['l2'], 'clasifier__max_iter': [10000]}\n",
    "\n",
    "elif M_TIPO.startswith(\"mul_m\"):\n",
    "    myfunc.verbose(f\"Utilizando parámetros de {M_TIPO}\")\n",
    " \n",
    "    eval_selector = eval_selector_rf\n",
    "    eval_clasifier = eval_clasifier_lr\n",
    "\n",
    "    SEMILLA = 6191\n",
    "    M_SELECT = \"RF\"\n",
    "    M_CLASIF = \"LR_L2\"\n",
    "    param_distributions = {'selector__max_features': [1000], 'selector__estimator__n_estimators': [400], \n",
    "        'clasifier__solver': ['lbfgs'], 'clasifier__penalty': ['l2'], 'clasifier__max_iter': [10000]}\n",
    "\n",
    "else:\n",
    "    # M_TIPO.startswith(\"mul_s\"):\n",
    "    myfunc.verbose(f\"Utilizando parámetros de {M_TIPO}\")\n",
    "    eval_selector = eval_selector_anova\n",
    "    eval_clasifier = eval_clasifier_lr\n",
    "\n",
    "    SEMILLA = 1860\n",
    "    M_SELECT = \"ANOVA\"\n",
    "    M_CLASIF = \"LR_L2\"\n",
    "    param_distributions = {'selector__k': [1000], \n",
    "        'clasifier__solver': ['saga'], 'clasifier__penalty': ['l2'], 'clasifier__max_iter': [10000]}\n",
    "\n"
   ]
  },
  {
   "cell_type": "code",
   "execution_count": 3,
   "id": "092dd7cf",
   "metadata": {
    "execution": {
     "iopub.execute_input": "2023-10-30T07:40:35.960068Z",
     "iopub.status.busy": "2023-10-30T07:40:35.959558Z",
     "iopub.status.idle": "2023-10-30T07:40:35.963560Z",
     "shell.execute_reply": "2023-10-30T07:40:35.963022Z"
    },
    "papermill": {
     "duration": 0.009613,
     "end_time": "2023-10-30T07:40:35.964761",
     "exception": false,
     "start_time": "2023-10-30T07:40:35.955148",
     "status": "completed"
    },
    "tags": [
     "injected-parameters"
    ]
   },
   "outputs": [],
   "source": [
    "# Parameters\n",
    "M_TIPO = \"mul_s\"\n",
    "M_SELECT = \"RF\"\n",
    "M_CLASIF = \"LR_L2\"\n",
    "P_FICHERO = \"param_0000_9322_mul_s_RF_LR_L2.yaml\"\n",
    "R_FICHERO = \"resultados_9322\"\n",
    "M_FICHERO = \"metricas_9322\"\n",
    "PRE_DATA_FILE = \"rows_transpose_norm_by_gene_id_with_target_num_\"\n",
    "SCORING = \"roc_auc_ovr\"\n",
    "SEMILLA = 9322\n",
    "MAX_ITERS = 500\n",
    "eval_selector = \"SelectFromModel(estimator=RandomForestClassifier(random_state=SEMILLA), threshold=-np.inf)\"\n",
    "eval_clasifier = \"LogisticRegressionCV(random_state=SEMILLA)\"\n",
    "param_distributions = {\n",
    "    \"selector__max_features\": [500],\n",
    "    \"selector__estimator__n_estimators\": [200],\n",
    "    \"clasifier__solver\": [\"lbfgs\"],\n",
    "    \"clasifier__penalty\": [\"l2\"],\n",
    "    \"clasifier__max_iter\": [10000],\n",
    "}\n"
   ]
  },
  {
   "cell_type": "code",
   "execution_count": 4,
   "id": "cdc8377f",
   "metadata": {
    "execution": {
     "iopub.execute_input": "2023-10-30T07:40:35.972967Z",
     "iopub.status.busy": "2023-10-30T07:40:35.972602Z",
     "iopub.status.idle": "2023-10-30T07:40:35.975844Z",
     "shell.execute_reply": "2023-10-30T07:40:35.975332Z"
    },
    "papermill": {
     "duration": 0.008851,
     "end_time": "2023-10-30T07:40:35.977080",
     "exception": false,
     "start_time": "2023-10-30T07:40:35.968229",
     "status": "completed"
    },
    "tags": []
   },
   "outputs": [],
   "source": [
    "DATA_FILE = PRE_DATA_FILE + M_TIPO\n",
    "\n",
    "# si viene \"None\" en el parámetro max_depth, se le quitan las comillas para que no sea entendido por el algoritmo como un texto\n",
    "if \"clasifier__max_depth\" in param_distributions:\n",
    "    param_distributions['clasifier__max_depth'] = [None if x == 'None' else x for x in param_distributions['clasifier__max_depth']]"
   ]
  },
  {
   "cell_type": "markdown",
   "id": "9cb534f9",
   "metadata": {
    "papermill": {
     "duration": 0.003679,
     "end_time": "2023-10-30T07:40:35.984498",
     "exception": false,
     "start_time": "2023-10-30T07:40:35.980819",
     "status": "completed"
    },
    "tags": []
   },
   "source": [
    "Asignar los algoritmos que se utilizarán en la función RandomSearchCV"
   ]
  },
  {
   "cell_type": "code",
   "execution_count": 5,
   "id": "1d15b12a",
   "metadata": {
    "execution": {
     "iopub.execute_input": "2023-10-30T07:40:35.992752Z",
     "iopub.status.busy": "2023-10-30T07:40:35.992303Z",
     "iopub.status.idle": "2023-10-30T07:40:35.995157Z",
     "shell.execute_reply": "2023-10-30T07:40:35.994649Z"
    },
    "papermill": {
     "duration": 0.008217,
     "end_time": "2023-10-30T07:40:35.996401",
     "exception": false,
     "start_time": "2023-10-30T07:40:35.988184",
     "status": "completed"
    },
    "tags": []
   },
   "outputs": [],
   "source": [
    "algor_selector=eval(eval_selector)\n",
    "algor_clasifier=eval(eval_clasifier)"
   ]
  },
  {
   "cell_type": "markdown",
   "id": "f4b409c4",
   "metadata": {
    "papermill": {
     "duration": 0.003761,
     "end_time": "2023-10-30T07:40:36.003731",
     "exception": false,
     "start_time": "2023-10-30T07:40:35.999970",
     "status": "completed"
    },
    "tags": []
   },
   "source": [
    "#### Comprobar el entorno y leer fichero de muestras"
   ]
  },
  {
   "cell_type": "code",
   "execution_count": 6,
   "id": "9444f3d6",
   "metadata": {
    "execution": {
     "iopub.execute_input": "2023-10-30T07:40:36.012021Z",
     "iopub.status.busy": "2023-10-30T07:40:36.011539Z",
     "iopub.status.idle": "2023-10-30T07:40:36.184585Z",
     "shell.execute_reply": "2023-10-30T07:40:36.183941Z"
    },
    "papermill": {
     "duration": 0.17857,
     "end_time": "2023-10-30T07:40:36.185924",
     "exception": false,
     "start_time": "2023-10-30T07:40:36.007354",
     "status": "completed"
    },
    "tags": []
   },
   "outputs": [
    {
     "name": "stdout",
     "output_type": "stream",
     "text": [
      "20231030T084036 : enderlab : INFO : Encontrada carpeta DATA_DIR=../tfm_git/datos\n",
      "20231030T084036 : enderlab : INFO : Encontrada carpeta CFDNA_DIR=../tfm_git/datos/cfDNA_5hmC\n",
      "20231030T084036 : enderlab : INFO : Encontrada carpeta GENCODE_DIR=../tfm_git/datos/gencode\n",
      "20231030T084036 : enderlab : INFO : Encontrada carpeta H5_DIR=../tfm_git/datos/h5\n",
      "20231030T084036 : enderlab : INFO : Encontrada carpeta LOG_DIR=../tfm_git/datos/logs\n",
      "20231030T084036 : enderlab : INFO : Encontrada carpeta CSV_DIR=../tfm_git/datos/csv\n",
      "20231030T084036 : enderlab : INFO : Encontrada carpeta MODEL_DIR=../tfm_git/ejecuciones/modelos\n",
      "20231030T084036 : enderlab : INFO : Encontrada carpeta EXEC_DIR=../tfm_git/ejecuciones\n",
      "20231030T084036 : enderlab : INFO : Encontrada carpeta MET_DIR=../tfm_git/ejecuciones/metricas\n",
      "20231030T084036 : enderlab : INFO : Inicio leer fichero h5 ../tfm_git/datos/h5/rows_transpose_norm_by_gene_id_with_target_num_mul_s.h5\n",
      "20231030T084036 : enderlab : INFO : Leyendo clave /df\n"
     ]
    },
    {
     "name": "stdout",
     "output_type": "stream",
     "text": [
      "20231030T084036 : enderlab : INFO : Tamaño (259, 18876)\n",
      "20231030T084036 : enderlab : INFO : Fin leer fichero h5 ../tfm_git/datos/h5/rows_transpose_norm_by_gene_id_with_target_num_mul_s.h5\n"
     ]
    },
    {
     "data": {
      "text/plain": [
       "target\n",
       "0    37\n",
       "1    37\n",
       "2    37\n",
       "3    37\n",
       "4    37\n",
       "5    37\n",
       "6    37\n",
       "dtype: int64"
      ]
     },
     "metadata": {},
     "output_type": "display_data"
    },
    {
     "name": "stdout",
     "output_type": "stream",
     "text": [
      "Shape df: (259, 18876)\n"
     ]
    },
    {
     "name": "stdout",
     "output_type": "stream",
     "text": [
      "Shape X_train: (207, 18875)\n",
      "Shape X_test: (52, 18875)\n"
     ]
    }
   ],
   "source": [
    "start_time = datetime.datetime.now()\n",
    "\n",
    "myfunc.reset_vars()\n",
    "\n",
    "myfunc.NOTEBK_FILENAME = myfunc.get_nb_name()\n",
    "\n",
    "myfunc.check_enviroment(myfunc.DATA_DIR, myfunc.CFDNA_DIR, myfunc.GENCODE_DIR, myfunc.H5_DIR, myfunc.LOG_DIR, myfunc.CSV_DIR, myfunc.MODEL_DIR, myfunc.EXEC_DIR, myfunc.MET_DIR)\n",
    "\n",
    "# Leer fichero con las muestras\n",
    "df_t = myfunc.read_h5_to_df(DATA_FILE, myfunc.H5_DIR)\n",
    "display(df_t.groupby(\"target\").size())\n",
    "print(\"Shape df:\",df_t.shape)\n",
    "\n",
    "# Separar caracteristicas/genes de las etiquetas/tipos de cáncer\n",
    "X = df_t.iloc[:, :-1]  # Todas las columnas excepto la última\n",
    "y = df_t.iloc[:, -1]  # La última columna contiene los identificadores de los tipos de cáncer\n",
    "\n",
    "#  Crear el conjunto de datos de entrenamiento y de pruebas, y se fija la semilla para siempre coger el mismo juego de muestras\n",
    "X_train, X_test, y_train, y_test = train_test_split(X, y, test_size=0.2, shuffle=True, random_state=42)\n",
    "print(\"Shape X_train:\",X_train.shape)\n",
    "print(\"Shape X_test:\",X_test.shape)\n"
   ]
  },
  {
   "cell_type": "markdown",
   "id": "8dba4b9a",
   "metadata": {
    "papermill": {
     "duration": 0.004085,
     "end_time": "2023-10-30T07:40:36.194642",
     "exception": false,
     "start_time": "2023-10-30T07:40:36.190557",
     "status": "completed"
    },
    "tags": []
   },
   "source": [
    "#### Selección de características y clasificación."
   ]
  },
  {
   "cell_type": "code",
   "execution_count": 7,
   "id": "73c30ee1",
   "metadata": {
    "execution": {
     "iopub.execute_input": "2023-10-30T07:40:36.204011Z",
     "iopub.status.busy": "2023-10-30T07:40:36.203491Z",
     "iopub.status.idle": "2023-10-30T07:40:50.860804Z",
     "shell.execute_reply": "2023-10-30T07:40:50.859991Z"
    },
    "papermill": {
     "duration": 14.663833,
     "end_time": "2023-10-30T07:40:50.862455",
     "exception": false,
     "start_time": "2023-10-30T07:40:36.198622",
     "status": "completed"
    },
    "tags": []
   },
   "outputs": [
    {
     "name": "stdout",
     "output_type": "stream",
     "text": [
      "20231030T084036 : enderlab : INFO : Iniciando entrenamiento\n",
      "num_iter: 1 , max_iter: 1\n"
     ]
    },
    {
     "name": "stdout",
     "output_type": "stream",
     "text": [
      "Fitting 5 folds for each of 1 candidates, totalling 5 fits\n"
     ]
    },
    {
     "name": "stdout",
     "output_type": "stream",
     "text": [
      "Mejores Hiperparámetros: {'selector__max_features': 500, 'selector__estimator__n_estimators': 200, 'clasifier__solver': 'lbfgs', 'clasifier__penalty': 'l2', 'clasifier__max_iter': 10000}\n",
      "Mejor Puntuación: 0.8095\n",
      "20231030T084050 : enderlab : INFO : Fin entrenamiento\n"
     ]
    }
   ],
   "source": [
    "myfunc.verbose(\"Iniciando entrenamiento\")\n",
    "\n",
    "kf = KFold(n_splits=5, shuffle=True, random_state=SEMILLA)\n",
    "\n",
    "# Crear el pipeline para el flujo de tareas\n",
    "tasks_pipeline = Pipeline([\n",
    "    ('selector', algor_selector),\n",
    "    ('clasifier', algor_clasifier)\n",
    "])\n",
    "\n",
    "# MAX_ITERS puede limitar el número de iteraciones si son excesivas para las combinaciones de parámetros buscando un óptimo local, \n",
    "# sino funcionaría como GridSearchCV al revisar todas las cominaciones de los parámetros\n",
    "num_iteraciones = 1\n",
    "num_iteraciones = num_iteraciones * np.prod([len(elemento1) for _, elemento1 in param_distributions.items()])\n",
    "max_iteraciones = num_iteraciones if num_iteraciones <= MAX_ITERS else MAX_ITERS\n",
    "print(\"num_iter:\",num_iteraciones,\", max_iter:\",max_iteraciones)\n",
    "\n",
    "random_search = RandomizedSearchCV(\n",
    "    tasks_pipeline, \n",
    "    param_distributions, \n",
    "    n_iter=max_iteraciones,\n",
    "    scoring=SCORING,\n",
    "    cv=kf,\n",
    "    verbose=3, \n",
    "    random_state=SEMILLA, \n",
    "    n_jobs=-1\n",
    "    )\n",
    "\n",
    "# Entrenar el modelo\n",
    "random_search.fit(X_train, y_train)\n",
    "\n",
    "# Ver los mejores hiperparámetros encontrados\n",
    "print(f'Mejores Hiperparámetros: {random_search.best_params_}')\n",
    "print(f'Mejor Puntuación: {random_search.best_score_:.4f}')\n",
    "\n",
    "# Nos quedamos con el mejor modelo para ver las métricas\n",
    "mejor_modelo = random_search.best_estimator_\n",
    "\n",
    "myfunc.verbose(\"Fin entrenamiento\")"
   ]
  },
  {
   "cell_type": "markdown",
   "id": "8ae29d55",
   "metadata": {
    "papermill": {
     "duration": 0.004319,
     "end_time": "2023-10-30T07:40:50.872045",
     "exception": false,
     "start_time": "2023-10-30T07:40:50.867726",
     "status": "completed"
    },
    "tags": []
   },
   "source": [
    "#### Guardar modelo"
   ]
  },
  {
   "cell_type": "code",
   "execution_count": 8,
   "id": "bd4f3ef1",
   "metadata": {
    "execution": {
     "iopub.execute_input": "2023-10-30T07:40:50.881832Z",
     "iopub.status.busy": "2023-10-30T07:40:50.881481Z",
     "iopub.status.idle": "2023-10-30T07:40:50.967730Z",
     "shell.execute_reply": "2023-10-30T07:40:50.967140Z"
    },
    "papermill": {
     "duration": 0.092915,
     "end_time": "2023-10-30T07:40:50.969035",
     "exception": false,
     "start_time": "2023-10-30T07:40:50.876120",
     "status": "completed"
    },
    "tags": []
   },
   "outputs": [
    {
     "name": "stdout",
     "output_type": "stream",
     "text": [
      "20231030T084050 : enderlab : INFO : Inicio guardar fichero ../tfm_git/ejecuciones/modelos/modelo_9322_mul_s_RF_LR_L2.pkl\n",
      "20231030T084050 : enderlab : INFO : Fin guardar fichero ../tfm_git/ejecuciones/modelos/modelo_9322_mul_s_RF_LR_L2.pkl\n"
     ]
    }
   ],
   "source": [
    "fichero_modelo = str.replace(\"modelo_\"+str(SEMILLA).zfill(4)+\"_\"+M_TIPO+\"_\"+M_SELECT+\"_\"+M_CLASIF+\".pkl\", \" \", \"_\")\n",
    "\n",
    "myfunc.save_modelo(mejor_modelo, myfunc.MODEL_DIR, fichero_modelo)"
   ]
  },
  {
   "cell_type": "markdown",
   "id": "fe0d8061",
   "metadata": {
    "papermill": {
     "duration": 0.004443,
     "end_time": "2023-10-30T07:40:50.978060",
     "exception": false,
     "start_time": "2023-10-30T07:40:50.973617",
     "status": "completed"
    },
    "tags": []
   },
   "source": [
    "#### Ver resultados del las iteraciones hechas por RandomSearchCV"
   ]
  },
  {
   "cell_type": "code",
   "execution_count": 9,
   "id": "29a0a335",
   "metadata": {
    "execution": {
     "iopub.execute_input": "2023-10-30T07:40:50.987554Z",
     "iopub.status.busy": "2023-10-30T07:40:50.987116Z",
     "iopub.status.idle": "2023-10-30T07:40:50.993972Z",
     "shell.execute_reply": "2023-10-30T07:40:50.993442Z"
    },
    "papermill": {
     "duration": 0.012932,
     "end_time": "2023-10-30T07:40:50.995178",
     "exception": false,
     "start_time": "2023-10-30T07:40:50.982246",
     "status": "completed"
    },
    "tags": []
   },
   "outputs": [
    {
     "name": "stdout",
     "output_type": "stream",
     "text": [
      "20231030T084050 : enderlab : INFO : Inicio ver resultados\n",
      "Mejores Hiperparámetros: {'selector__max_features': 500, 'selector__estimator__n_estimators': 200, 'clasifier__solver': 'lbfgs', 'clasifier__penalty': 'l2', 'clasifier__max_iter': 10000}\n",
      "Mejores puntuaciones: 0.8095 | Params: {'selector__max_features': 500, 'selector__estimator__n_estimators': 200, 'clasifier__solver': 'lbfgs', 'clasifier__penalty': 'l2', 'clasifier__max_iter': 10000}\n",
      "Media de las puntuaciones: 0.8095 | Params: {'selector__max_features': 500, 'selector__estimator__n_estimators': 200, 'clasifier__solver': 'lbfgs', 'clasifier__penalty': 'l2', 'clasifier__max_iter': 10000}\n",
      "20231030T084050 : enderlab : INFO : Fin resultados\n"
     ]
    }
   ],
   "source": [
    "myfunc.ver_resultados_search(random_search)"
   ]
  },
  {
   "cell_type": "markdown",
   "id": "bcd74349",
   "metadata": {
    "papermill": {
     "duration": 0.006217,
     "end_time": "2023-10-30T07:40:51.005573",
     "exception": false,
     "start_time": "2023-10-30T07:40:50.999356",
     "status": "completed"
    },
    "tags": []
   },
   "source": [
    "#### Ver métricas del mejor modelo"
   ]
  },
  {
   "cell_type": "code",
   "execution_count": 10,
   "id": "4169e50a",
   "metadata": {
    "execution": {
     "iopub.execute_input": "2023-10-30T07:40:51.015890Z",
     "iopub.status.busy": "2023-10-30T07:40:51.015501Z",
     "iopub.status.idle": "2023-10-30T07:40:51.857901Z",
     "shell.execute_reply": "2023-10-30T07:40:51.857309Z"
    },
    "papermill": {
     "duration": 0.849449,
     "end_time": "2023-10-30T07:40:51.859773",
     "exception": false,
     "start_time": "2023-10-30T07:40:51.010324",
     "status": "completed"
    },
    "tags": []
   },
   "outputs": [
    {
     "name": "stdout",
     "output_type": "stream",
     "text": [
      "20231030T084051 : enderlab : INFO : Inicio ver métricas multiclase\n"
     ]
    },
    {
     "name": "stdout",
     "output_type": "stream",
     "text": [
      "              precision    recall  f1-score   support\n",
      "\n",
      "           0       0.20      0.18      0.19        11\n",
      "           1       0.75      0.38      0.50         8\n",
      "           2       0.29      0.25      0.27         8\n",
      "           3       0.00      0.00      0.00         5\n",
      "           4       0.58      0.88      0.70         8\n",
      "           5       0.33      0.33      0.33         6\n",
      "           6       0.43      0.50      0.46         6\n",
      "\n",
      "    accuracy                           0.37        52\n",
      "   macro avg       0.37      0.36      0.35        52\n",
      "weighted avg       0.38      0.37      0.36        52\n",
      "\n",
      "\n",
      "\n",
      "           Exactitud: 0.365385\n",
      "   Precisión (media): 0.368707\n",
      "      Recall (media): 0.359307\n",
      "    F1-score (media): 0.350288\n",
      "\n",
      "\n",
      "AUC para el tipo de cáncer 0-Control.... 0.6120\n",
      "AUC para el tipo de cáncer 1-Bladder.... 0.8011\n",
      "AUC para el tipo de cáncer 2-Breast..... 0.7642\n",
      "AUC para el tipo de cáncer 3-Colorectal. 0.5745\n",
      "AUC para el tipo de cáncer 4-Kidney..... 0.9403\n",
      "AUC para el tipo de cáncer 5-Lung....... 0.9384\n",
      "AUC para el tipo de cáncer 6-Prostate... 0.9312\n",
      "\n",
      "Media de AUC: 0.7945\n"
     ]
    },
    {
     "data": {
      "image/png": "[encoded data removed]",
      "text/plain": [
       "<Figure size 1000x600 with 1 Axes>"
      ]
     },
     "metadata": {},
     "output_type": "display_data"
    },
    {
     "name": "stdout",
     "output_type": "stream",
     "text": [
      "\n",
      "\n"
     ]
    },
    {
     "data": {
      "image/png": "[encoded data removed]",
      "text/plain": [
       "<Figure size 800x400 with 2 Axes>"
      ]
     },
     "metadata": {},
     "output_type": "display_data"
    },
    {
     "name": "stdout",
     "output_type": "stream",
     "text": [
      "\n",
      "\n",
      "Puntuación Jaccard para el cáncer tipo 0-Control.... 0.1053\n",
      "Puntuación Jaccard para el cáncer tipo 1-Bladder.... 0.3333\n",
      "Puntuación Jaccard para el cáncer tipo 2-Breast..... 0.1538\n",
      "Puntuación Jaccard para el cáncer tipo 3-Colorectal. 0.0000\n",
      "Puntuación Jaccard para el cáncer tipo 4-Kidney..... 0.5385\n",
      "Puntuación Jaccard para el cáncer tipo 5-Lung....... 0.2000\n",
      "Puntuación Jaccard para el cáncer tipo 6-Prostate... 0.3000\n",
      "\n",
      "Media de la puntuación de Jaccard: 0.2330\n"
     ]
    }
   ],
   "source": [
    "if M_TIPO.startswith(\"bin\"):\n",
    "    myfunc.ver_metricas(mejor_modelo, X_test, y_test)\n",
    "else:\n",
    "    myfunc.ver_metricas_multi(mejor_modelo, X_test, y_test)\n"
   ]
  },
  {
   "cell_type": "markdown",
   "id": "aa4b17bc",
   "metadata": {
    "papermill": {
     "duration": 0.006058,
     "end_time": "2023-10-30T07:40:51.874336",
     "exception": false,
     "start_time": "2023-10-30T07:40:51.868278",
     "status": "completed"
    },
    "tags": []
   },
   "source": [
    "#### Finalización del notebook"
   ]
  },
  {
   "cell_type": "code",
   "execution_count": 11,
   "id": "5a4d3f93",
   "metadata": {
    "execution": {
     "iopub.execute_input": "2023-10-30T07:40:51.887586Z",
     "iopub.status.busy": "2023-10-30T07:40:51.887032Z",
     "iopub.status.idle": "2023-10-30T07:40:51.890735Z",
     "shell.execute_reply": "2023-10-30T07:40:51.890194Z"
    },
    "papermill": {
     "duration": 0.011725,
     "end_time": "2023-10-30T07:40:51.891956",
     "exception": false,
     "start_time": "2023-10-30T07:40:51.880231",
     "status": "completed"
    },
    "tags": []
   },
   "outputs": [
    {
     "name": "stdout",
     "output_type": "stream",
     "text": [
      "20231030T084051 : enderlab : INFO : Notebook ha tardado 15 seconds\n"
     ]
    }
   ],
   "source": [
    "end_time = datetime.datetime.now()\n",
    "total_time = end_time - start_time\n",
    "myfunc.verbose(f\"Notebook ha tardado {total_time.seconds} seconds\")"
   ]
  },
  {
   "cell_type": "markdown",
   "id": "010c1e0d",
   "metadata": {
    "papermill": {
     "duration": 0.005909,
     "end_time": "2023-10-30T07:40:51.903615",
     "exception": false,
     "start_time": "2023-10-30T07:40:51.897706",
     "status": "completed"
    },
    "tags": []
   },
   "source": [
    "#### Guardar métricas"
   ]
  },
  {
   "cell_type": "code",
   "execution_count": 12,
   "id": "fb39ab78",
   "metadata": {
    "execution": {
     "iopub.execute_input": "2023-10-30T07:40:51.916627Z",
     "iopub.status.busy": "2023-10-30T07:40:51.916261Z",
     "iopub.status.idle": "2023-10-30T07:40:52.385486Z",
     "shell.execute_reply": "2023-10-30T07:40:52.384921Z"
    },
    "papermill": {
     "duration": 0.477153,
     "end_time": "2023-10-30T07:40:52.386786",
     "exception": false,
     "start_time": "2023-10-30T07:40:51.909633",
     "status": "completed"
    },
    "tags": []
   },
   "outputs": [
    {
     "name": "stdout",
     "output_type": "stream",
     "text": [
      "20231030T084051 : enderlab : INFO : Inicio guardar métricas multiclase\n",
      "20231030T084051 : enderlab : INFO : Inicio leer fichero ../tfm_git/ejecuciones/metricas/metricas_9322.csv\n",
      "20231030T084052 : enderlab : INFO : Fin leer fichero ../tfm_git/ejecuciones/metricas/metricas_9322.csv\n"
     ]
    },
    {
     "name": "stdout",
     "output_type": "stream",
     "text": [
      "20231030T084052 : enderlab : INFO : Inicio guardar fichero ../tfm_git/ejecuciones/metricas/metricas_9322.csv\n",
      "20231030T084052 : enderlab : INFO : Fichero borrado ../tfm_git/ejecuciones/metricas/metricas_9322.csv\n",
      "20231030T084052 : enderlab : INFO : Fin guardar fichero ../tfm_git/ejecuciones/metricas/metricas_9322.csv\n",
      "20231030T084052 : enderlab : INFO : Fin guardar métricas multiclase\n",
      "20231030T084052 : enderlab : INFO : Inicio leer fichero ../tfm_git/ejecuciones/metricas/metricas_9322.csv\n",
      "20231030T084052 : enderlab : INFO : Fin leer fichero ../tfm_git/ejecuciones/metricas/metricas_9322.csv\n"
     ]
    },
    {
     "data": {
      "text/html": [
       "<div>\n",
       "<style scoped>\n",
       "    .dataframe tbody tr th:only-of-type {\n",
       "        vertical-align: middle;\n",
       "    }\n",
       "\n",
       "    .dataframe tbody tr th {\n",
       "        vertical-align: top;\n",
       "    }\n",
       "\n",
       "    .dataframe thead th {\n",
       "        text-align: right;\n",
       "    }\n",
       "</style>\n",
       "<table border=\"1\" class=\"dataframe\">\n",
       "  <thead>\n",
       "    <tr style=\"text-align: right;\">\n",
       "      <th></th>\n",
       "      <th>tipo</th>\n",
       "      <th>select</th>\n",
       "      <th>clasific</th>\n",
       "      <th>semilla</th>\n",
       "      <th>accuracy</th>\n",
       "      <th>precision</th>\n",
       "      <th>recall</th>\n",
       "      <th>f1_score</th>\n",
       "      <th>roc_auc</th>\n",
       "      <th>hostname</th>\n",
       "      <th>total_time_sec</th>\n",
       "      <th>datetime</th>\n",
       "      <th>fichero_modelo</th>\n",
       "      <th>params</th>\n",
       "      <th>shape</th>\n",
       "      <th>features</th>\n",
       "      <th>roc_auc_ovr</th>\n",
       "      <th>indices_auc</th>\n",
       "      <th>indices_jaccard</th>\n",
       "    </tr>\n",
       "  </thead>\n",
       "  <tbody>\n",
       "    <tr>\n",
       "      <th>0</th>\n",
       "      <td>mul_s</td>\n",
       "      <td>RF</td>\n",
       "      <td>LR_L2</td>\n",
       "      <td>9322</td>\n",
       "      <td>0.365385</td>\n",
       "      <td>0.368707</td>\n",
       "      <td>0.359307</td>\n",
       "      <td>0.350288</td>\n",
       "      <td>NaN</td>\n",
       "      <td>enderlab</td>\n",
       "      <td>15</td>\n",
       "      <td>2023-10-30 08:40:52.330706</td>\n",
       "      <td>modelo_9322_mul_s_RF_LR_L2.pkl</td>\n",
       "      <td>{'selector__max_features': 500, 'selector__est...</td>\n",
       "      <td>X_test:(52, 18875)</td>\n",
       "      <td>['ENSG00000002549.13', 'ENSG00000006071.16', '...</td>\n",
       "      <td>0.794527</td>\n",
       "      <td>[0.6119733924611973, 0.8011363636363636, 0.764...</td>\n",
       "      <td>[0.10526315789473684, 0.3333333333333333, 0.15...</td>\n",
       "    </tr>\n",
       "    <tr>\n",
       "      <th>0</th>\n",
       "      <td>mul_s</td>\n",
       "      <td>RF</td>\n",
       "      <td>LR_L1</td>\n",
       "      <td>9322</td>\n",
       "      <td>0.442308</td>\n",
       "      <td>0.469898</td>\n",
       "      <td>0.442641</td>\n",
       "      <td>0.427586</td>\n",
       "      <td>NaN</td>\n",
       "      <td>enderlab</td>\n",
       "      <td>419</td>\n",
       "      <td>2023-10-30 08:40:29.221464</td>\n",
       "      <td>modelo_9322_mul_s_RF_LR_L1.pkl</td>\n",
       "      <td>{'selector__max_features': 500, 'selector__est...</td>\n",
       "      <td>X_test:(52, 18875)</td>\n",
       "      <td>['ENSG00000006016.12', 'ENSG00000006071.16', '...</td>\n",
       "      <td>0.751140</td>\n",
       "      <td>[0.5742793791574279, 0.6931818181818181, 0.715...</td>\n",
       "      <td>[0.125, 0.375, 0.23076923076923078, 0.0, 0.8, ...</td>\n",
       "    </tr>\n",
       "    <tr>\n",
       "      <th>0</th>\n",
       "      <td>mul_s</td>\n",
       "      <td>RF</td>\n",
       "      <td>LR_EN</td>\n",
       "      <td>9322</td>\n",
       "      <td>0.346154</td>\n",
       "      <td>0.404174</td>\n",
       "      <td>0.346320</td>\n",
       "      <td>0.350898</td>\n",
       "      <td>NaN</td>\n",
       "      <td>enderlab</td>\n",
       "      <td>358</td>\n",
       "      <td>2023-10-30 08:33:22.200250</td>\n",
       "      <td>modelo_9322_mul_s_RF_LR_EN.pkl</td>\n",
       "      <td>{'selector__max_features': 500, 'selector__est...</td>\n",
       "      <td>X_test:(52, 18875)</td>\n",
       "      <td>['ENSG00000002933.9', 'ENSG00000006740.18', 'E...</td>\n",
       "      <td>0.774965</td>\n",
       "      <td>[0.5565410199556541, 0.8579545454545455, 0.761...</td>\n",
       "      <td>[0.058823529411764705, 0.5, 0.0909090909090909...</td>\n",
       "    </tr>\n",
       "  </tbody>\n",
       "</table>\n",
       "</div>"
      ],
      "text/plain": [
       "    tipo select clasific  semilla  accuracy  precision    recall  f1_score  \\\n",
       "0  mul_s     RF    LR_L2     9322  0.365385   0.368707  0.359307  0.350288   \n",
       "0  mul_s     RF    LR_L1     9322  0.442308   0.469898  0.442641  0.427586   \n",
       "0  mul_s     RF    LR_EN     9322  0.346154   0.404174  0.346320  0.350898   \n",
       "\n",
       "   roc_auc  hostname  total_time_sec                    datetime  \\\n",
       "0      NaN  enderlab              15  2023-10-30 08:40:52.330706   \n",
       "0      NaN  enderlab             419  2023-10-30 08:40:29.221464   \n",
       "0      NaN  enderlab             358  2023-10-30 08:33:22.200250   \n",
       "\n",
       "                   fichero_modelo  \\\n",
       "0  modelo_9322_mul_s_RF_LR_L2.pkl   \n",
       "0  modelo_9322_mul_s_RF_LR_L1.pkl   \n",
       "0  modelo_9322_mul_s_RF_LR_EN.pkl   \n",
       "\n",
       "                                              params               shape  \\\n",
       "0  {'selector__max_features': 500, 'selector__est...  X_test:(52, 18875)   \n",
       "0  {'selector__max_features': 500, 'selector__est...  X_test:(52, 18875)   \n",
       "0  {'selector__max_features': 500, 'selector__est...  X_test:(52, 18875)   \n",
       "\n",
       "                                            features  roc_auc_ovr  \\\n",
       "0  ['ENSG00000002549.13', 'ENSG00000006071.16', '...     0.794527   \n",
       "0  ['ENSG00000006016.12', 'ENSG00000006071.16', '...     0.751140   \n",
       "0  ['ENSG00000002933.9', 'ENSG00000006740.18', 'E...     0.774965   \n",
       "\n",
       "                                         indices_auc  \\\n",
       "0  [0.6119733924611973, 0.8011363636363636, 0.764...   \n",
       "0  [0.5742793791574279, 0.6931818181818181, 0.715...   \n",
       "0  [0.5565410199556541, 0.8579545454545455, 0.761...   \n",
       "\n",
       "                                     indices_jaccard  \n",
       "0  [0.10526315789473684, 0.3333333333333333, 0.15...  \n",
       "0  [0.125, 0.375, 0.23076923076923078, 0.0, 0.8, ...  \n",
       "0  [0.058823529411764705, 0.5, 0.0909090909090909...  "
      ]
     },
     "metadata": {},
     "output_type": "display_data"
    }
   ],
   "source": [
    "if M_TIPO.startswith(\"bin\"):\n",
    "    myfunc.save_metricas_to_csv(random_search, X_test, y_test, M_TIPO, M_SELECT, M_CLASIF, total_time, SEMILLA, myfunc.MET_DIR, M_FICHERO, fichero_modelo)\n",
    "else:\n",
    "    myfunc.save_metricas_multi_to_csv(random_search, X_test, y_test, M_TIPO, M_SELECT, M_CLASIF, total_time, SEMILLA, myfunc.MET_DIR, M_FICHERO, fichero_modelo)\n",
    "\n",
    "df1=myfunc.read_metricas_to_df(myfunc.MET_DIR,M_FICHERO)\n",
    "\n",
    "display(df1.sort_values(\"datetime\", ascending=False)[:3])\n"
   ]
  },
  {
   "cell_type": "markdown",
   "id": "689994a2",
   "metadata": {
    "papermill": {
     "duration": 0.006244,
     "end_time": "2023-10-30T07:40:52.399670",
     "exception": false,
     "start_time": "2023-10-30T07:40:52.393426",
     "status": "completed"
    },
    "tags": []
   },
   "source": [
    "#### Guardar resultados"
   ]
  },
  {
   "cell_type": "code",
   "execution_count": 13,
   "id": "772d2295",
   "metadata": {
    "execution": {
     "iopub.execute_input": "2023-10-30T07:40:52.413222Z",
     "iopub.status.busy": "2023-10-30T07:40:52.412687Z",
     "iopub.status.idle": "2023-10-30T07:40:52.421626Z",
     "shell.execute_reply": "2023-10-30T07:40:52.421093Z"
    },
    "papermill": {
     "duration": 0.017008,
     "end_time": "2023-10-30T07:40:52.422851",
     "exception": false,
     "start_time": "2023-10-30T07:40:52.405843",
     "status": "completed"
    },
    "tags": []
   },
   "outputs": [
    {
     "name": "stdout",
     "output_type": "stream",
     "text": [
      "20231030T084052 : enderlab : INFO : Inicio guardar resultados\n",
      "20231030T084052 : enderlab : INFO : Inicio guardar fichero ../tfm_git/ejecuciones/metricas/resultados_9322_mul_s-RF-LR_L2.csv\n",
      "20231030T084052 : enderlab : INFO : Fin guardar fichero ../tfm_git/ejecuciones/metricas/resultados_9322_mul_s-RF-LR_L2.csv\n",
      "20231030T084052 : enderlab : INFO : Fin guardar resultados\n"
     ]
    }
   ],
   "source": [
    "fichero_resultados=R_FICHERO+\"_\"+M_TIPO+\"-\"+M_SELECT+\"-\"+M_CLASIF+\".csv\"\n",
    "myfunc.save_resultados_to_csv(M_TIPO, M_SELECT, M_CLASIF,  random_search, myfunc.MET_DIR, fichero_resultados)\n"
   ]
  }
 ],
 "metadata": {
  "kernelspec": {
   "display_name": "Python 3 (ipykernel)",
   "language": "python",
   "name": "python3"
  },
  "language_info": {
   "codemirror_mode": {
    "name": "ipython",
    "version": 3
   },
   "file_extension": ".py",
   "mimetype": "text/x-python",
   "name": "python",
   "nbconvert_exporter": "python",
   "pygments_lexer": "ipython3",
   "version": "3.10.11"
  },
  "papermill": {
   "default_parameters": {},
   "duration": 21.424193,
   "end_time": "2023-10-30T07:40:55.046408",
   "environment_variables": {},
   "exception": null,
   "input_path": "03_entrenamiento.ipynb",
   "output_path": "ejecuciones/training/03_entrenamiento.20231030T084033.param_0000_9322_mul_s_RF_LR_L2.output.ipynb",
   "parameters": {
    "MAX_ITERS": 500,
    "M_CLASIF": "LR_L2",
    "M_FICHERO": "metricas_9322",
    "M_SELECT": "RF",
    "M_TIPO": "mul_s",
    "PRE_DATA_FILE": "rows_transpose_norm_by_gene_id_with_target_num_",
    "P_FICHERO": "param_0000_9322_mul_s_RF_LR_L2.yaml",
    "R_FICHERO": "resultados_9322",
    "SCORING": "roc_auc_ovr",
    "SEMILLA": 9322,
    "eval_clasifier": "LogisticRegressionCV(random_state=SEMILLA)",
    "eval_selector": "SelectFromModel(estimator=RandomForestClassifier(random_state=SEMILLA), threshold=-np.inf)",
    "param_distributions": {
     "clasifier__max_iter": [
      10000
     ],
     "clasifier__penalty": [
      "l2"
     ],
     "clasifier__solver": [
      "lbfgs"
     ],
     "selector__estimator__n_estimators": [
      200
     ],
     "selector__max_features": [
      500
     ]
    }
   },
   "start_time": "2023-10-30T07:40:33.622215",
   "version": "2.4.0"
  }
 },
 "nbformat": 4,
 "nbformat_minor": 5
}