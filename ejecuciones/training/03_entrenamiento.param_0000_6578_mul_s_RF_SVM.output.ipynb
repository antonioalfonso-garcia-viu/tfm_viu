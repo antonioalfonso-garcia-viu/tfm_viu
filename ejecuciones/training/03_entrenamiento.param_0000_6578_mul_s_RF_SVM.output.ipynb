{
 "cells": [
  {
   "cell_type": "markdown",
   "id": "98afff5d",
   "metadata": {
    "papermill": {
     "duration": 0.00978,
     "end_time": "2023-10-30T19:14:59.540705",
     "exception": false,
     "start_time": "2023-10-30T19:14:59.530925",
     "status": "completed"
    },
    "tags": []
   },
   "source": [
    "##### Inicio"
   ]
  },
  {
   "cell_type": "markdown",
   "id": "db6f4f89",
   "metadata": {
    "papermill": {
     "duration": 0.004252,
     "end_time": "2023-10-30T19:14:59.549954",
     "exception": false,
     "start_time": "2023-10-30T19:14:59.545702",
     "status": "completed"
    },
    "tags": []
   },
   "source": [
    "#### Carga de datos"
   ]
  },
  {
   "cell_type": "code",
   "execution_count": 1,
   "id": "caa722c3",
   "metadata": {
    "execution": {
     "iopub.execute_input": "2023-10-30T19:14:59.555957Z",
     "iopub.status.busy": "2023-10-30T19:14:59.555957Z",
     "iopub.status.idle": "2023-10-30T19:15:00.761142Z",
     "shell.execute_reply": "2023-10-30T19:15:00.761142Z"
    },
    "papermill": {
     "duration": 1.211313,
     "end_time": "2023-10-30T19:15:00.763266",
     "exception": false,
     "start_time": "2023-10-30T19:14:59.551953",
     "status": "completed"
    },
    "tags": []
   },
   "outputs": [
    {
     "name": "stdout",
     "output_type": "stream",
     "text": [
      "CPU_COUNT: 24; NODE: amilcar32; sys.version: 3.10.12 | packaged by Anaconda, Inc. | (main, Jul  5 2023, 19:09:20) [MSC v.1916 64 bit (AMD64)]\n",
      "LOKY_MAX_CPU_COUNT is not set.\n",
      "OMP_NUM_THREADS is not set.\n"
     ]
    }
   ],
   "source": [
    "import os\n",
    "import numpy as np\n",
    "import pandas as pd\n",
    "import datetime\n",
    "import sklearn\n",
    "import logging\n",
    "import warnings\n",
    "\n",
    "from sklearn.pipeline import Pipeline\n",
    "from sklearn.model_selection import RandomizedSearchCV, KFold, cross_val_score, train_test_split\n",
    "from sklearn.metrics import accuracy_score, confusion_matrix, classification_report, roc_auc_score\n",
    "\n",
    "#  cargar algoritmos para aprendizaje supervisado\n",
    "from sklearn.feature_selection import SelectKBest, f_classif, SelectFromModel, mutual_info_classif\n",
    "from sklearn.svm import SVC\n",
    "from sklearn.ensemble import RandomForestClassifier\n",
    "from sklearn.linear_model import LogisticRegression,LogisticRegressionCV\n",
    "\n",
    "# importar fichero con utilidades propias\n",
    "from commons import myfunctions as myfunc\n"
   ]
  },
  {
   "cell_type": "markdown",
   "id": "0eb5ec17",
   "metadata": {
    "papermill": {
     "duration": 0.002506,
     "end_time": "2023-10-30T19:15:00.768777",
     "exception": false,
     "start_time": "2023-10-30T19:15:00.766271",
     "status": "completed"
    },
    "tags": []
   },
   "source": [
    "#### Parámetros a utilizar en el entrenamiento.\n",
    "\n",
    "Se indican los 3 algoritmos de *selección de características* (eval_selector_xxx) y los 3 algoritmos para la _clasificación_ (eval_clasifier_xxx)\n",
    "\n",
    "En *param_distributions* se indicar los parámetros que utilizan los algoritmos en la función RandomSearchCV.\n",
    "\n",
    "Esta celda tiene la etiqueta **parameters** que servirá para poder lanzar los entrenamientos con la utilidad **papermill** pasándole un fichero con los parámetros. Los nuevos parámetros se situarán tras esta celda para tener prevalencia."
   ]
  },
  {
   "cell_type": "code",
   "execution_count": 2,
   "id": "8a22076b",
   "metadata": {
    "execution": {
     "iopub.execute_input": "2023-10-30T19:15:00.774788Z",
     "iopub.status.busy": "2023-10-30T19:15:00.774788Z",
     "iopub.status.idle": "2023-10-30T19:15:00.800097Z",
     "shell.execute_reply": "2023-10-30T19:15:00.798787Z"
    },
    "papermill": {
     "duration": 0.030302,
     "end_time": "2023-10-30T19:15:00.802095",
     "exception": false,
     "start_time": "2023-10-30T19:15:00.771793",
     "status": "completed"
    },
    "tags": [
     "parameters"
    ]
   },
   "outputs": [
    {
     "name": "stdout",
     "output_type": "stream",
     "text": [
      "20231030T201500 : amilcar32 : INFO : Utilizando parámetros de mul_m\n"
     ]
    }
   ],
   "source": [
    "#  Parametros para el entrenamiento\n",
    "\n",
    "SEMILLA=        42\n",
    "M_TIPO=         \"mul_m\"\n",
    "M_SELECT=       \"MI\"\n",
    "M_CLASIF=       \"SVM\"\n",
    "R_FICHERO=      \"resultados\"\n",
    "M_FICHERO=      \"metricas\"\n",
    "PRE_DATA_FILE=  \"rows_transpose_norm_by_gene_id_with_target_num_\"\n",
    "SCORING=        \"roc_auc_ovr\" \n",
    "MAX_ITERS=      100\n",
    "\n",
    "def mutual_info_classif_state(X, y):\n",
    "    return mutual_info_classif(X, y, random_state=SEMILLA)\n",
    "\n",
    "eval_selector_mi = \"SelectKBest(score_func=mutual_info_classif_state)\"\n",
    "eval_selector_rf=  \"SelectFromModel(estimator=RandomForestClassifier(random_state=SEMILLA), threshold=-np.inf)\"\n",
    "eval_selector_anova=  \"SelectKBest(score_func=f_classif)\"\n",
    "\n",
    "eval_clasifier_svm= \"SVC(probability=True, random_state=SEMILLA)\"\n",
    "eval_clasifier_rf= \"RandomForestClassifier(random_state=SEMILLA)\"\n",
    "eval_clasifier_lr= \"LogisticRegressionCV(random_state=SEMILLA)\"\n",
    "\n",
    "if M_TIPO.startswith(\"bin_m\"):\n",
    "    myfunc.verbose(f\"Utilizando parámetros de {M_TIPO}\")\n",
    "    eval_selector = eval_selector_mi\n",
    "    eval_clasifier = eval_clasifier_svm\n",
    "\n",
    "    SEMILLA = 6578\n",
    "    M_SELECT = \"MI\"\n",
    "    M_CLASIF = \"SVM\"\n",
    "    param_distributions = {'selector__k': [1000], \n",
    "         'clasifier__kernel': ['rbf'], 'clasifier__gamma': [0.01], 'clasifier__C': [100]}\n",
    "elif M_TIPO.startswith(\"bin_s\"):\n",
    "    myfunc.verbose(f\"Utilizando parámetros de {M_TIPO}\")\n",
    "    eval_selector = eval_selector_rf\n",
    "    eval_clasifier = eval_clasifier_lr\n",
    "\n",
    "    SEMILLA = 6191\n",
    "    M_SELECT = \"RF\"\n",
    "    M_CLASIF = \"LR_L2\"\n",
    "    param_distributions = {'selector__max_features': [1000], 'selector__estimator__n_estimators': [200], \n",
    "        'clasifier__solver': ['lbfgs'], 'clasifier__penalty': ['l2'], 'clasifier__max_iter': [10000]}\n",
    "\n",
    "elif M_TIPO.startswith(\"mul_m\"):\n",
    "    myfunc.verbose(f\"Utilizando parámetros de {M_TIPO}\")\n",
    " \n",
    "    eval_selector = eval_selector_rf\n",
    "    eval_clasifier = eval_clasifier_lr\n",
    "\n",
    "    SEMILLA = 6191\n",
    "    M_SELECT = \"RF\"\n",
    "    M_CLASIF = \"LR_L2\"\n",
    "    param_distributions = {'selector__max_features': [1000], 'selector__estimator__n_estimators': [400], \n",
    "        'clasifier__solver': ['lbfgs'], 'clasifier__penalty': ['l2'], 'clasifier__max_iter': [10000]}\n",
    "\n",
    "else:\n",
    "    # M_TIPO.startswith(\"mul_s\"):\n",
    "    myfunc.verbose(f\"Utilizando parámetros de {M_TIPO}\")\n",
    "    eval_selector = eval_selector_anova\n",
    "    eval_clasifier = eval_clasifier_lr\n",
    "\n",
    "    SEMILLA = 1860\n",
    "    M_SELECT = \"ANOVA\"\n",
    "    M_CLASIF = \"LR_L2\"\n",
    "    param_distributions = {'selector__k': [1000], \n",
    "        'clasifier__solver': ['saga'], 'clasifier__penalty': ['l2'], 'clasifier__max_iter': [10000]}\n",
    "\n"
   ]
  },
  {
   "cell_type": "code",
   "execution_count": 3,
   "id": "cecb112b",
   "metadata": {
    "execution": {
     "iopub.execute_input": "2023-10-30T19:15:00.813461Z",
     "iopub.status.busy": "2023-10-30T19:15:00.813461Z",
     "iopub.status.idle": "2023-10-30T19:15:00.830306Z",
     "shell.execute_reply": "2023-10-30T19:15:00.829297Z"
    },
    "papermill": {
     "duration": 0.02369,
     "end_time": "2023-10-30T19:15:00.832308",
     "exception": false,
     "start_time": "2023-10-30T19:15:00.808618",
     "status": "completed"
    },
    "tags": [
     "injected-parameters"
    ]
   },
   "outputs": [],
   "source": [
    "# Parameters\n",
    "M_TIPO = \"mul_s\"\n",
    "M_SELECT = \"RF\"\n",
    "M_CLASIF = \"SVM\"\n",
    "P_FICHERO = \"param_0000_6578_mul_s_RF_SVM.yaml\"\n",
    "R_FICHERO = \"resultados_6578\"\n",
    "M_FICHERO = \"metricas_6578\"\n",
    "PRE_DATA_FILE = \"rows_transpose_norm_by_gene_id_with_target_num_\"\n",
    "SCORING = \"roc_auc_ovr\"\n",
    "SEMILLA = 6578\n",
    "MAX_ITERS = 500\n",
    "eval_selector = \"SelectFromModel(estimator=RandomForestClassifier(random_state=SEMILLA), threshold=-np.inf)\"\n",
    "eval_clasifier = \"SVC(probability=True, random_state=SEMILLA)\"\n",
    "param_distributions = {\n",
    "    \"selector__max_features\": [200],\n",
    "    \"selector__estimator__n_estimators\": [100],\n",
    "    \"clasifier__kernel\": [\"rbf\"],\n",
    "    \"clasifier__gamma\": [0.01],\n",
    "    \"clasifier__C\": [10],\n",
    "}\n"
   ]
  },
  {
   "cell_type": "code",
   "execution_count": 4,
   "id": "42638b92",
   "metadata": {
    "execution": {
     "iopub.execute_input": "2023-10-30T19:15:00.842454Z",
     "iopub.status.busy": "2023-10-30T19:15:00.842454Z",
     "iopub.status.idle": "2023-10-30T19:15:00.860780Z",
     "shell.execute_reply": "2023-10-30T19:15:00.859777Z"
    },
    "papermill": {
     "duration": 0.026479,
     "end_time": "2023-10-30T19:15:00.863424",
     "exception": false,
     "start_time": "2023-10-30T19:15:00.836945",
     "status": "completed"
    },
    "tags": []
   },
   "outputs": [],
   "source": [
    "DATA_FILE = PRE_DATA_FILE + M_TIPO\n",
    "\n",
    "# si viene \"None\" en el parámetro max_depth, se le quitan las comillas para que no sea entendido por el algoritmo como un texto\n",
    "if \"clasifier__max_depth\" in param_distributions:\n",
    "    param_distributions['clasifier__max_depth'] = [None if x == 'None' else x for x in param_distributions['clasifier__max_depth']]"
   ]
  },
  {
   "cell_type": "markdown",
   "id": "181e6b50",
   "metadata": {
    "papermill": {
     "duration": 0.0,
     "end_time": "2023-10-30T19:15:00.868497",
     "exception": false,
     "start_time": "2023-10-30T19:15:00.868497",
     "status": "completed"
    },
    "tags": []
   },
   "source": [
    "Asignar los algoritmos que se utilizarán en la función RandomSearchCV"
   ]
  },
  {
   "cell_type": "code",
   "execution_count": 5,
   "id": "874e8eea",
   "metadata": {
    "execution": {
     "iopub.execute_input": "2023-10-30T19:15:00.881916Z",
     "iopub.status.busy": "2023-10-30T19:15:00.881916Z",
     "iopub.status.idle": "2023-10-30T19:15:00.894204Z",
     "shell.execute_reply": "2023-10-30T19:15:00.894204Z"
    },
    "papermill": {
     "duration": 0.027702,
     "end_time": "2023-10-30T19:15:00.896199",
     "exception": false,
     "start_time": "2023-10-30T19:15:00.868497",
     "status": "completed"
    },
    "tags": []
   },
   "outputs": [],
   "source": [
    "algor_selector=eval(eval_selector)\n",
    "algor_clasifier=eval(eval_clasifier)"
   ]
  },
  {
   "cell_type": "markdown",
   "id": "fe57f5e6",
   "metadata": {
    "papermill": {
     "duration": 0.004005,
     "end_time": "2023-10-30T19:15:00.904731",
     "exception": false,
     "start_time": "2023-10-30T19:15:00.900726",
     "status": "completed"
    },
    "tags": []
   },
   "source": [
    "#### Comprobar el entorno y leer fichero de muestras"
   ]
  },
  {
   "cell_type": "code",
   "execution_count": 6,
   "id": "b47cccec",
   "metadata": {
    "execution": {
     "iopub.execute_input": "2023-10-30T19:15:00.911245Z",
     "iopub.status.busy": "2023-10-30T19:15:00.910243Z",
     "iopub.status.idle": "2023-10-30T19:15:01.035126Z",
     "shell.execute_reply": "2023-10-30T19:15:01.035126Z"
    },
    "papermill": {
     "duration": 0.129417,
     "end_time": "2023-10-30T19:15:01.036142",
     "exception": false,
     "start_time": "2023-10-30T19:15:00.906725",
     "status": "completed"
    },
    "tags": []
   },
   "outputs": [
    {
     "name": "stdout",
     "output_type": "stream",
     "text": [
      "20231030T201500 : amilcar32 : INFO : Encontrada carpeta DATA_DIR=..\\tfm_viu\\datos\n",
      "20231030T201500 : amilcar32 : INFO : Encontrada carpeta CFDNA_DIR=..\\tfm_viu\\datos\\cfDNA_5hmC\n",
      "20231030T201500 : amilcar32 : INFO : Encontrada carpeta GENCODE_DIR=..\\tfm_viu\\datos\\gencode\n",
      "20231030T201500 : amilcar32 : INFO : Encontrada carpeta H5_DIR=..\\tfm_viu\\datos\\h5\n",
      "20231030T201500 : amilcar32 : INFO : Encontrada carpeta LOG_DIR=..\\tfm_viu\\datos\\logs\n",
      "20231030T201500 : amilcar32 : INFO : Encontrada carpeta CSV_DIR=..\\tfm_viu\\datos\\csv\n",
      "20231030T201500 : amilcar32 : INFO : Encontrada carpeta MODEL_DIR=..\\tfm_viu\\ejecuciones\\modelos\n",
      "20231030T201500 : amilcar32 : INFO : Encontrada carpeta EXEC_DIR=..\\tfm_viu\\ejecuciones\n",
      "20231030T201500 : amilcar32 : INFO : Encontrada carpeta MET_DIR=..\\tfm_viu\\ejecuciones\\metricas\n",
      "20231030T201500 : amilcar32 : INFO : Inicio leer fichero h5 ..\\tfm_viu\\datos\\h5\\rows_transpose_norm_by_gene_id_with_target_num_mul_s.h5\n",
      "20231030T201500 : amilcar32 : INFO : Leyendo clave /df\n"
     ]
    },
    {
     "name": "stdout",
     "output_type": "stream",
     "text": [
      "20231030T201501 : amilcar32 : INFO : Tamaño (259, 18876)\n",
      "20231030T201501 : amilcar32 : INFO : Fin leer fichero h5 ..\\tfm_viu\\datos\\h5\\rows_transpose_norm_by_gene_id_with_target_num_mul_s.h5\n"
     ]
    },
    {
     "data": {
      "text/plain": [
       "target\n",
       "0    37\n",
       "1    37\n",
       "2    37\n",
       "3    37\n",
       "4    37\n",
       "5    37\n",
       "6    37\n",
       "dtype: int64"
      ]
     },
     "metadata": {},
     "output_type": "display_data"
    },
    {
     "name": "stdout",
     "output_type": "stream",
     "text": [
      "Shape df: (259, 18876)\n",
      "Shape X_train: (207, 18875)\n",
      "Shape X_test: (52, 18875)\n"
     ]
    }
   ],
   "source": [
    "start_time = datetime.datetime.now()\n",
    "\n",
    "myfunc.reset_vars()\n",
    "\n",
    "myfunc.NOTEBK_FILENAME = myfunc.get_nb_name()\n",
    "\n",
    "myfunc.check_enviroment(myfunc.DATA_DIR, myfunc.CFDNA_DIR, myfunc.GENCODE_DIR, myfunc.H5_DIR, myfunc.LOG_DIR, myfunc.CSV_DIR, myfunc.MODEL_DIR, myfunc.EXEC_DIR, myfunc.MET_DIR)\n",
    "\n",
    "# Leer fichero con las muestras\n",
    "df_t = myfunc.read_h5_to_df(DATA_FILE, myfunc.H5_DIR)\n",
    "display(df_t.groupby(\"target\").size())\n",
    "print(\"Shape df:\",df_t.shape)\n",
    "\n",
    "# Separar caracteristicas/genes de las etiquetas/tipos de cáncer\n",
    "X = df_t.iloc[:, :-1]  # Todas las columnas excepto la última\n",
    "y = df_t.iloc[:, -1]  # La última columna contiene los identificadores de los tipos de cáncer\n",
    "\n",
    "#  Crear el conjunto de datos de entrenamiento y de pruebas, y se fija la semilla para siempre coger el mismo juego de muestras\n",
    "X_train, X_test, y_train, y_test = train_test_split(X, y, test_size=0.2, shuffle=True, random_state=42)\n",
    "print(\"Shape X_train:\",X_train.shape)\n",
    "print(\"Shape X_test:\",X_test.shape)\n"
   ]
  },
  {
   "cell_type": "markdown",
   "id": "a96f2643",
   "metadata": {
    "papermill": {
     "duration": 0.003008,
     "end_time": "2023-10-30T19:15:01.042780",
     "exception": false,
     "start_time": "2023-10-30T19:15:01.039772",
     "status": "completed"
    },
    "tags": []
   },
   "source": [
    "#### Selección de características y clasificación."
   ]
  },
  {
   "cell_type": "code",
   "execution_count": 7,
   "id": "9b39178d",
   "metadata": {
    "execution": {
     "iopub.execute_input": "2023-10-30T19:15:01.050283Z",
     "iopub.status.busy": "2023-10-30T19:15:01.050283Z",
     "iopub.status.idle": "2023-10-30T19:15:09.738794Z",
     "shell.execute_reply": "2023-10-30T19:15:09.736944Z"
    },
    "papermill": {
     "duration": 8.697013,
     "end_time": "2023-10-30T19:15:09.742793",
     "exception": false,
     "start_time": "2023-10-30T19:15:01.045780",
     "status": "completed"
    },
    "tags": []
   },
   "outputs": [
    {
     "name": "stdout",
     "output_type": "stream",
     "text": [
      "20231030T201501 : amilcar32 : INFO : Iniciando entrenamiento\n",
      "num_iter: 1 , max_iter: 1\n",
      "Fitting 5 folds for each of 1 candidates, totalling 5 fits\n"
     ]
    },
    {
     "name": "stdout",
     "output_type": "stream",
     "text": [
      "Mejores Hiperparámetros: {'selector__max_features': 200, 'selector__estimator__n_estimators': 100, 'clasifier__kernel': 'rbf', 'clasifier__gamma': 0.01, 'clasifier__C': 10}\n",
      "Mejor Puntuación: 0.7740\n",
      "20231030T201509 : amilcar32 : INFO : Fin entrenamiento\n"
     ]
    }
   ],
   "source": [
    "myfunc.verbose(\"Iniciando entrenamiento\")\n",
    "\n",
    "kf = KFold(n_splits=5, shuffle=True, random_state=SEMILLA)\n",
    "\n",
    "# Crear el pipeline para el flujo de tareas\n",
    "tasks_pipeline = Pipeline([\n",
    "    ('selector', algor_selector),\n",
    "    ('clasifier', algor_clasifier)\n",
    "])\n",
    "\n",
    "# MAX_ITERS puede limitar el número de iteraciones si son excesivas para las combinaciones de parámetros buscando un óptimo local, \n",
    "# sino funcionaría como GridSearchCV al revisar todas las cominaciones de los parámetros\n",
    "num_iteraciones = 1\n",
    "num_iteraciones = num_iteraciones * np.prod([len(elemento1) for _, elemento1 in param_distributions.items()])\n",
    "max_iteraciones = num_iteraciones if num_iteraciones <= MAX_ITERS else MAX_ITERS\n",
    "print(\"num_iter:\",num_iteraciones,\", max_iter:\",max_iteraciones)\n",
    "\n",
    "random_search = RandomizedSearchCV(\n",
    "    tasks_pipeline, \n",
    "    param_distributions, \n",
    "    n_iter=max_iteraciones,\n",
    "    scoring=SCORING,\n",
    "    cv=kf,\n",
    "    verbose=3, \n",
    "    random_state=SEMILLA, \n",
    "    n_jobs=-1\n",
    "    )\n",
    "\n",
    "# Entrenar el modelo\n",
    "random_search.fit(X_train, y_train)\n",
    "\n",
    "# Ver los mejores hiperparámetros encontrados\n",
    "print(f'Mejores Hiperparámetros: {random_search.best_params_}')\n",
    "print(f'Mejor Puntuación: {random_search.best_score_:.4f}')\n",
    "\n",
    "# Nos quedamos con el mejor modelo para ver las métricas\n",
    "mejor_modelo = random_search.best_estimator_\n",
    "\n",
    "myfunc.verbose(\"Fin entrenamiento\")"
   ]
  },
  {
   "cell_type": "markdown",
   "id": "e0dad0fe",
   "metadata": {
    "papermill": {
     "duration": 0.007703,
     "end_time": "2023-10-30T19:15:09.763589",
     "exception": false,
     "start_time": "2023-10-30T19:15:09.755886",
     "status": "completed"
    },
    "tags": []
   },
   "source": [
    "#### Guardar modelo"
   ]
  },
  {
   "cell_type": "code",
   "execution_count": 8,
   "id": "68b9dbb1",
   "metadata": {
    "execution": {
     "iopub.execute_input": "2023-10-30T19:15:09.778611Z",
     "iopub.status.busy": "2023-10-30T19:15:09.778611Z",
     "iopub.status.idle": "2023-10-30T19:15:09.879535Z",
     "shell.execute_reply": "2023-10-30T19:15:09.879025Z"
    },
    "papermill": {
     "duration": 0.110597,
     "end_time": "2023-10-30T19:15:09.881577",
     "exception": false,
     "start_time": "2023-10-30T19:15:09.770980",
     "status": "completed"
    },
    "tags": []
   },
   "outputs": [
    {
     "name": "stdout",
     "output_type": "stream",
     "text": [
      "20231030T201509 : amilcar32 : INFO : Inicio guardar fichero ..\\tfm_viu\\ejecuciones\\modelos\\modelo_6578_mul_s_RF_SVM.pkl\n",
      "20231030T201509 : amilcar32 : INFO : Fin guardar fichero ..\\tfm_viu\\ejecuciones\\modelos\\modelo_6578_mul_s_RF_SVM.pkl\n"
     ]
    }
   ],
   "source": [
    "fichero_modelo = str.replace(\"modelo_\"+str(SEMILLA).zfill(4)+\"_\"+M_TIPO+\"_\"+M_SELECT+\"_\"+M_CLASIF+\".pkl\", \" \", \"_\")\n",
    "\n",
    "myfunc.save_modelo(mejor_modelo, myfunc.MODEL_DIR, fichero_modelo)"
   ]
  },
  {
   "cell_type": "markdown",
   "id": "4315a5d6",
   "metadata": {
    "papermill": {
     "duration": 0.012524,
     "end_time": "2023-10-30T19:15:09.902604",
     "exception": false,
     "start_time": "2023-10-30T19:15:09.890080",
     "status": "completed"
    },
    "tags": []
   },
   "source": [
    "#### Ver resultados del las iteraciones hechas por RandomSearchCV"
   ]
  },
  {
   "cell_type": "code",
   "execution_count": 9,
   "id": "9ddaa985",
   "metadata": {
    "execution": {
     "iopub.execute_input": "2023-10-30T19:15:09.933624Z",
     "iopub.status.busy": "2023-10-30T19:15:09.933624Z",
     "iopub.status.idle": "2023-10-30T19:15:09.959926Z",
     "shell.execute_reply": "2023-10-30T19:15:09.957817Z"
    },
    "papermill": {
     "duration": 0.044497,
     "end_time": "2023-10-30T19:15:09.963632",
     "exception": false,
     "start_time": "2023-10-30T19:15:09.919135",
     "status": "completed"
    },
    "tags": []
   },
   "outputs": [
    {
     "name": "stdout",
     "output_type": "stream",
     "text": [
      "20231030T201509 : amilcar32 : INFO : Inicio ver resultados\n",
      "Mejores Hiperparámetros: {'selector__max_features': 200, 'selector__estimator__n_estimators': 100, 'clasifier__kernel': 'rbf', 'clasifier__gamma': 0.01, 'clasifier__C': 10}\n",
      "Mejores puntuaciones: 0.7740 | Params: {'selector__max_features': 200, 'selector__estimator__n_estimators': 100, 'clasifier__kernel': 'rbf', 'clasifier__gamma': 0.01, 'clasifier__C': 10}\n",
      "Media de las puntuaciones: 0.7740 | Params: {'selector__max_features': 200, 'selector__estimator__n_estimators': 100, 'clasifier__kernel': 'rbf', 'clasifier__gamma': 0.01, 'clasifier__C': 10}\n",
      "20231030T201509 : amilcar32 : INFO : Fin resultados\n"
     ]
    }
   ],
   "source": [
    "myfunc.ver_resultados_search(random_search)"
   ]
  },
  {
   "cell_type": "markdown",
   "id": "09f2d919",
   "metadata": {
    "papermill": {
     "duration": 0.011066,
     "end_time": "2023-10-30T19:15:09.984747",
     "exception": false,
     "start_time": "2023-10-30T19:15:09.973681",
     "status": "completed"
    },
    "tags": []
   },
   "source": [
    "#### Ver métricas del mejor modelo"
   ]
  },
  {
   "cell_type": "code",
   "execution_count": 10,
   "id": "b647e145",
   "metadata": {
    "execution": {
     "iopub.execute_input": "2023-10-30T19:15:09.997090Z",
     "iopub.status.busy": "2023-10-30T19:15:09.997090Z",
     "iopub.status.idle": "2023-10-30T19:15:11.864012Z",
     "shell.execute_reply": "2023-10-30T19:15:11.863009Z"
    },
    "papermill": {
     "duration": 1.873917,
     "end_time": "2023-10-30T19:15:11.866008",
     "exception": false,
     "start_time": "2023-10-30T19:15:09.992091",
     "status": "completed"
    },
    "tags": []
   },
   "outputs": [
    {
     "name": "stdout",
     "output_type": "stream",
     "text": [
      "20231030T201509 : amilcar32 : INFO : Inicio ver métricas multiclase\n"
     ]
    },
    {
     "name": "stdout",
     "output_type": "stream",
     "text": [
      "              precision    recall  f1-score   support\n",
      "\n",
      "           0       0.50      0.09      0.15        11\n",
      "           1       0.80      0.50      0.62         8\n",
      "           2       0.25      0.25      0.25         8\n",
      "           3       0.20      0.40      0.27         5\n",
      "           4       0.58      0.88      0.70         8\n",
      "           5       0.57      0.67      0.62         6\n",
      "           6       0.25      0.33      0.29         6\n",
      "\n",
      "    accuracy                           0.42        52\n",
      "   macro avg       0.45      0.45      0.41        52\n",
      "weighted avg       0.47      0.42      0.40        52\n",
      "\n",
      "\n",
      "\n",
      "           Exactitud: 0.423077\n",
      "   Precisión (media): 0.450680\n",
      "      Recall (media): 0.445130\n",
      "    F1-score (media): 0.412428\n",
      "\n",
      "\n",
      "AUC para el tipo de cáncer 0-Control.... 0.5588\n",
      "AUC para el tipo de cáncer 1-Bladder.... 0.8153\n",
      "AUC para el tipo de cáncer 2-Breast..... 0.6875\n",
      "AUC para el tipo de cáncer 3-Colorectal. 0.6170\n",
      "AUC para el tipo de cáncer 4-Kidney..... 0.9688\n",
      "AUC para el tipo de cáncer 5-Lung....... 0.8623\n",
      "AUC para el tipo de cáncer 6-Prostate... 0.7428\n",
      "\n",
      "Media de AUC: 0.7503\n"
     ]
    },
    {
     "data": {
      "image/png": "[encoded data removed]",
      "text/plain": [
       "<Figure size 1000x600 with 1 Axes>"
      ]
     },
     "metadata": {},
     "output_type": "display_data"
    },
    {
     "name": "stdout",
     "output_type": "stream",
     "text": [
      "\n",
      "\n"
     ]
    },
    {
     "data": {
      "image/png": "[encoded data removed]",
      "text/plain": [
       "<Figure size 800x400 with 2 Axes>"
      ]
     },
     "metadata": {},
     "output_type": "display_data"
    },
    {
     "name": "stdout",
     "output_type": "stream",
     "text": [
      "\n",
      "\n",
      "Puntuación Jaccard para el cáncer tipo 0-Control.... 0.0833\n",
      "Puntuación Jaccard para el cáncer tipo 1-Bladder.... 0.4444\n",
      "Puntuación Jaccard para el cáncer tipo 2-Breast..... 0.1429\n",
      "Puntuación Jaccard para el cáncer tipo 3-Colorectal. 0.1538\n",
      "Puntuación Jaccard para el cáncer tipo 4-Kidney..... 0.5385\n",
      "Puntuación Jaccard para el cáncer tipo 5-Lung....... 0.4444\n",
      "Puntuación Jaccard para el cáncer tipo 6-Prostate... 0.1667\n",
      "\n",
      "Media de la puntuación de Jaccard: 0.2820\n"
     ]
    }
   ],
   "source": [
    "if M_TIPO.startswith(\"bin\"):\n",
    "    myfunc.ver_metricas(mejor_modelo, X_test, y_test)\n",
    "else:\n",
    "    myfunc.ver_metricas_multi(mejor_modelo, X_test, y_test)\n"
   ]
  },
  {
   "cell_type": "markdown",
   "id": "e222e361",
   "metadata": {
    "papermill": {
     "duration": 0.009518,
     "end_time": "2023-10-30T19:15:11.885037",
     "exception": false,
     "start_time": "2023-10-30T19:15:11.875519",
     "status": "completed"
    },
    "tags": []
   },
   "source": [
    "#### Finalización del notebook"
   ]
  },
  {
   "cell_type": "code",
   "execution_count": 11,
   "id": "cabe5adb",
   "metadata": {
    "execution": {
     "iopub.execute_input": "2023-10-30T19:15:11.902194Z",
     "iopub.status.busy": "2023-10-30T19:15:11.902194Z",
     "iopub.status.idle": "2023-10-30T19:15:11.909954Z",
     "shell.execute_reply": "2023-10-30T19:15:11.908730Z"
    },
    "papermill": {
     "duration": 0.020473,
     "end_time": "2023-10-30T19:15:11.913153",
     "exception": false,
     "start_time": "2023-10-30T19:15:11.892680",
     "status": "completed"
    },
    "tags": []
   },
   "outputs": [
    {
     "name": "stdout",
     "output_type": "stream",
     "text": [
      "20231030T201511 : amilcar32 : INFO : Notebook ha tardado 10 seconds\n"
     ]
    }
   ],
   "source": [
    "end_time = datetime.datetime.now()\n",
    "total_time = end_time - start_time\n",
    "myfunc.verbose(f\"Notebook ha tardado {total_time.seconds} seconds\")"
   ]
  },
  {
   "cell_type": "markdown",
   "id": "94ed4993",
   "metadata": {
    "papermill": {
     "duration": 0.015274,
     "end_time": "2023-10-30T19:15:11.945482",
     "exception": false,
     "start_time": "2023-10-30T19:15:11.930208",
     "status": "completed"
    },
    "tags": []
   },
   "source": [
    "#### Guardar métricas"
   ]
  },
  {
   "cell_type": "code",
   "execution_count": 12,
   "id": "c2d1493c",
   "metadata": {
    "execution": {
     "iopub.execute_input": "2023-10-30T19:15:11.970262Z",
     "iopub.status.busy": "2023-10-30T19:15:11.969256Z",
     "iopub.status.idle": "2023-10-30T19:15:12.759842Z",
     "shell.execute_reply": "2023-10-30T19:15:12.758918Z"
    },
    "papermill": {
     "duration": 0.802362,
     "end_time": "2023-10-30T19:15:12.761917",
     "exception": false,
     "start_time": "2023-10-30T19:15:11.959555",
     "status": "completed"
    },
    "tags": []
   },
   "outputs": [
    {
     "name": "stdout",
     "output_type": "stream",
     "text": [
      "20231030T201512"
     ]
    },
    {
     "name": "stdout",
     "output_type": "stream",
     "text": [
      " : amilcar32 : INFO : Inicio guardar métricas multiclase\n",
      "20231030T201512 : amilcar32 : INFO : Inicio leer fichero ..\\tfm_viu\\ejecuciones\\metricas\\metricas_6578.csv\n",
      "20231030T201512 : amilcar32 : INFO : Fin leer fichero ..\\tfm_viu\\ejecuciones\\metricas\\metricas_6578.csv\n"
     ]
    },
    {
     "name": "stdout",
     "output_type": "stream",
     "text": [
      "20231030T201512 : amilcar32 : INFO : Inicio guardar fichero ..\\tfm_viu\\ejecuciones\\metricas\\metricas_6578.csv\n",
      "20231030T201512 : amilcar32 : INFO : Fichero borrado ..\\tfm_viu\\ejecuciones\\metricas\\metricas_6578.csv\n",
      "20231030T201512 : amilcar32 : INFO : Fin guardar fichero ..\\tfm_viu\\ejecuciones\\metricas\\metricas_6578.csv\n",
      "20231030T201512 : amilcar32 : INFO : Fin guardar métricas multiclase\n",
      "20231030T201512 : amilcar32 : INFO : Inicio leer fichero ..\\tfm_viu\\ejecuciones\\metricas\\metricas_6578.csv\n",
      "20231030T201512 : amilcar32 : INFO : Fin leer fichero ..\\tfm_viu\\ejecuciones\\metricas\\metricas_6578.csv\n"
     ]
    },
    {
     "data": {
      "text/html": [
       "<div>\n",
       "<style scoped>\n",
       "    .dataframe tbody tr th:only-of-type {\n",
       "        vertical-align: middle;\n",
       "    }\n",
       "\n",
       "    .dataframe tbody tr th {\n",
       "        vertical-align: top;\n",
       "    }\n",
       "\n",
       "    .dataframe thead th {\n",
       "        text-align: right;\n",
       "    }\n",
       "</style>\n",
       "<table border=\"1\" class=\"dataframe\">\n",
       "  <thead>\n",
       "    <tr style=\"text-align: right;\">\n",
       "      <th></th>\n",
       "      <th>tipo</th>\n",
       "      <th>select</th>\n",
       "      <th>clasific</th>\n",
       "      <th>semilla</th>\n",
       "      <th>accuracy</th>\n",
       "      <th>precision</th>\n",
       "      <th>recall</th>\n",
       "      <th>f1_score</th>\n",
       "      <th>roc_auc</th>\n",
       "      <th>hostname</th>\n",
       "      <th>total_time_sec</th>\n",
       "      <th>datetime</th>\n",
       "      <th>fichero_modelo</th>\n",
       "      <th>params</th>\n",
       "      <th>shape</th>\n",
       "      <th>features</th>\n",
       "      <th>roc_auc_ovr</th>\n",
       "      <th>indices_auc</th>\n",
       "      <th>indices_jaccard</th>\n",
       "    </tr>\n",
       "  </thead>\n",
       "  <tbody>\n",
       "    <tr>\n",
       "      <th>0</th>\n",
       "      <td>mul_s</td>\n",
       "      <td>RF</td>\n",
       "      <td>SVM</td>\n",
       "      <td>6578</td>\n",
       "      <td>0.423077</td>\n",
       "      <td>0.450680</td>\n",
       "      <td>0.445130</td>\n",
       "      <td>0.412428</td>\n",
       "      <td>NaN</td>\n",
       "      <td>amilcar32</td>\n",
       "      <td>10</td>\n",
       "      <td>2023-10-30 20:15:12.646688</td>\n",
       "      <td>modelo_6578_mul_s_RF_SVM.pkl</td>\n",
       "      <td>{'selector__max_features': 200, 'selector__est...</td>\n",
       "      <td>X_test:(52, 18875)</td>\n",
       "      <td>['ENSG00000005381.9', 'ENSG00000007237.19', 'E...</td>\n",
       "      <td>0.750349</td>\n",
       "      <td>[0.5587583148558759, 0.8153409090909091, 0.687...</td>\n",
       "      <td>[0.08333333333333333, 0.4444444444444444, 0.14...</td>\n",
       "    </tr>\n",
       "    <tr>\n",
       "      <th>0</th>\n",
       "      <td>mul_s</td>\n",
       "      <td>RF</td>\n",
       "      <td>RF</td>\n",
       "      <td>6578</td>\n",
       "      <td>0.423077</td>\n",
       "      <td>0.425113</td>\n",
       "      <td>0.428463</td>\n",
       "      <td>0.410622</td>\n",
       "      <td>NaN</td>\n",
       "      <td>amilcar32</td>\n",
       "      <td>94</td>\n",
       "      <td>2023-10-30 20:14:54.985046</td>\n",
       "      <td>modelo_6578_mul_s_RF_RF.pkl</td>\n",
       "      <td>{'selector__max_features': 1000, 'selector__es...</td>\n",
       "      <td>X_test:(52, 18875)</td>\n",
       "      <td>['ENSG00000004142.12', 'ENSG00000004779.10', '...</td>\n",
       "      <td>0.758650</td>\n",
       "      <td>[0.5321507760532151, 0.8323863636363636, 0.735...</td>\n",
       "      <td>[0.07692307692307693, 0.45454545454545453, 0.2...</td>\n",
       "    </tr>\n",
       "    <tr>\n",
       "      <th>0</th>\n",
       "      <td>mul_s</td>\n",
       "      <td>RF</td>\n",
       "      <td>LR_L2</td>\n",
       "      <td>6578</td>\n",
       "      <td>0.326923</td>\n",
       "      <td>0.376587</td>\n",
       "      <td>0.322511</td>\n",
       "      <td>0.334450</td>\n",
       "      <td>NaN</td>\n",
       "      <td>amilcar32</td>\n",
       "      <td>32</td>\n",
       "      <td>2023-10-30 20:13:13.417781</td>\n",
       "      <td>modelo_6578_mul_s_RF_LR_L2.pkl</td>\n",
       "      <td>{'selector__max_features': 500, 'selector__est...</td>\n",
       "      <td>X_test:(52, 18875)</td>\n",
       "      <td>['ENSG00000002933.9', 'ENSG00000005381.9', 'EN...</td>\n",
       "      <td>0.796820</td>\n",
       "      <td>[0.6607538802660754, 0.8465909090909091, 0.738...</td>\n",
       "      <td>[0.05263157894736842, 0.5, 0.08333333333333333...</td>\n",
       "    </tr>\n",
       "  </tbody>\n",
       "</table>\n",
       "</div>"
      ],
      "text/plain": [
       "    tipo select clasific  semilla  accuracy  precision    recall  f1_score  \\\n",
       "0  mul_s     RF      SVM     6578  0.423077   0.450680  0.445130  0.412428   \n",
       "0  mul_s     RF       RF     6578  0.423077   0.425113  0.428463  0.410622   \n",
       "0  mul_s     RF    LR_L2     6578  0.326923   0.376587  0.322511  0.334450   \n",
       "\n",
       "   roc_auc   hostname  total_time_sec                    datetime  \\\n",
       "0      NaN  amilcar32              10  2023-10-30 20:15:12.646688   \n",
       "0      NaN  amilcar32              94  2023-10-30 20:14:54.985046   \n",
       "0      NaN  amilcar32              32  2023-10-30 20:13:13.417781   \n",
       "\n",
       "                   fichero_modelo  \\\n",
       "0    modelo_6578_mul_s_RF_SVM.pkl   \n",
       "0     modelo_6578_mul_s_RF_RF.pkl   \n",
       "0  modelo_6578_mul_s_RF_LR_L2.pkl   \n",
       "\n",
       "                                              params               shape  \\\n",
       "0  {'selector__max_features': 200, 'selector__est...  X_test:(52, 18875)   \n",
       "0  {'selector__max_features': 1000, 'selector__es...  X_test:(52, 18875)   \n",
       "0  {'selector__max_features': 500, 'selector__est...  X_test:(52, 18875)   \n",
       "\n",
       "                                            features  roc_auc_ovr  \\\n",
       "0  ['ENSG00000005381.9', 'ENSG00000007237.19', 'E...     0.750349   \n",
       "0  ['ENSG00000004142.12', 'ENSG00000004779.10', '...     0.758650   \n",
       "0  ['ENSG00000002933.9', 'ENSG00000005381.9', 'EN...     0.796820   \n",
       "\n",
       "                                         indices_auc  \\\n",
       "0  [0.5587583148558759, 0.8153409090909091, 0.687...   \n",
       "0  [0.5321507760532151, 0.8323863636363636, 0.735...   \n",
       "0  [0.6607538802660754, 0.8465909090909091, 0.738...   \n",
       "\n",
       "                                     indices_jaccard  \n",
       "0  [0.08333333333333333, 0.4444444444444444, 0.14...  \n",
       "0  [0.07692307692307693, 0.45454545454545453, 0.2...  \n",
       "0  [0.05263157894736842, 0.5, 0.08333333333333333...  "
      ]
     },
     "metadata": {},
     "output_type": "display_data"
    }
   ],
   "source": [
    "if M_TIPO.startswith(\"bin\"):\n",
    "    myfunc.save_metricas_to_csv(random_search, X_test, y_test, M_TIPO, M_SELECT, M_CLASIF, total_time, SEMILLA, myfunc.MET_DIR, M_FICHERO, fichero_modelo)\n",
    "else:\n",
    "    myfunc.save_metricas_multi_to_csv(random_search, X_test, y_test, M_TIPO, M_SELECT, M_CLASIF, total_time, SEMILLA, myfunc.MET_DIR, M_FICHERO, fichero_modelo)\n",
    "\n",
    "df1=myfunc.read_metricas_to_df(myfunc.MET_DIR,M_FICHERO)\n",
    "\n",
    "display(df1.sort_values(\"datetime\", ascending=False)[:3])\n"
   ]
  },
  {
   "cell_type": "markdown",
   "id": "f8a1a4cf",
   "metadata": {
    "papermill": {
     "duration": 0.017532,
     "end_time": "2023-10-30T19:15:12.799955",
     "exception": false,
     "start_time": "2023-10-30T19:15:12.782423",
     "status": "completed"
    },
    "tags": []
   },
   "source": [
    "#### Guardar resultados"
   ]
  },
  {
   "cell_type": "code",
   "execution_count": 13,
   "id": "bff3509f",
   "metadata": {
    "execution": {
     "iopub.execute_input": "2023-10-30T19:15:12.823788Z",
     "iopub.status.busy": "2023-10-30T19:15:12.823788Z",
     "iopub.status.idle": "2023-10-30T19:15:12.842060Z",
     "shell.execute_reply": "2023-10-30T19:15:12.840065Z"
    },
    "papermill": {
     "duration": 0.032397,
     "end_time": "2023-10-30T19:15:12.844586",
     "exception": false,
     "start_time": "2023-10-30T19:15:12.812189",
     "status": "completed"
    },
    "tags": []
   },
   "outputs": [
    {
     "name": "stdout",
     "output_type": "stream",
     "text": [
      "20231030T201512 : amilcar32 : INFO : Inicio guardar resultados\n",
      "20231030T201512 : amilcar32 : INFO : Inicio guardar fichero ..\\tfm_viu\\ejecuciones\\metricas\\resultados_6578_mul_s-RF-SVM.csv\n",
      "20231030T201512 : amilcar32 : INFO : Fin guardar fichero ..\\tfm_viu\\ejecuciones\\metricas\\resultados_6578_mul_s-RF-SVM.csv\n",
      "20231030T201512 : amilcar32 : INFO : Fin guardar resultados\n"
     ]
    }
   ],
   "source": [
    "fichero_resultados=R_FICHERO+\"_\"+M_TIPO+\"-\"+M_SELECT+\"-\"+M_CLASIF+\".csv\"\n",
    "myfunc.save_resultados_to_csv(M_TIPO, M_SELECT, M_CLASIF,  random_search, myfunc.MET_DIR, fichero_resultados)\n"
   ]
  }
 ],
 "metadata": {
  "kernelspec": {
   "display_name": "Python 3 (ipykernel)",
   "language": "python",
   "name": "python3"
  },
  "language_info": {
   "codemirror_mode": {
    "name": "ipython",
    "version": 3
   },
   "file_extension": ".py",
   "mimetype": "text/x-python",
   "name": "python",
   "nbconvert_exporter": "python",
   "pygments_lexer": "ipython3",
   "version": "3.10.12"
  },
  "papermill": {
   "default_parameters": {},
   "duration": 16.534686,
   "end_time": "2023-10-30T19:15:14.197164",
   "environment_variables": {},
   "exception": null,
   "input_path": "03_entrenamiento.ipynb",
   "output_path": "ejecuciones\\training\\03_entrenamiento.20231030T201456.param_0000_6578_mul_s_RF_SVM.output.ipynb",
   "parameters": {
    "MAX_ITERS": 500,
    "M_CLASIF": "SVM",
    "M_FICHERO": "metricas_6578",
    "M_SELECT": "RF",
    "M_TIPO": "mul_s",
    "PRE_DATA_FILE": "rows_transpose_norm_by_gene_id_with_target_num_",
    "P_FICHERO": "param_0000_6578_mul_s_RF_SVM.yaml",
    "R_FICHERO": "resultados_6578",
    "SCORING": "roc_auc_ovr",
    "SEMILLA": 6578,
    "eval_clasifier": "SVC(probability=True, random_state=SEMILLA)",
    "eval_selector": "SelectFromModel(estimator=RandomForestClassifier(random_state=SEMILLA), threshold=-np.inf)",
    "param_distributions": {
     "clasifier__C": [
      10
     ],
     "clasifier__gamma": [
      0.01
     ],
     "clasifier__kernel": [
      "rbf"
     ],
     "selector__estimator__n_estimators": [
      100
     ],
     "selector__max_features": [
      200
     ]
    }
   },
   "start_time": "2023-10-30T19:14:57.662478",
   "version": "2.4.0"
  }
 },
 "nbformat": 4,
 "nbformat_minor": 5
}