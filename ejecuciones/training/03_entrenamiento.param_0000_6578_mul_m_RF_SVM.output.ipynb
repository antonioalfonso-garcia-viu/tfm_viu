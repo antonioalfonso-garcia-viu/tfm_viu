{
 "cells": [
  {
   "cell_type": "markdown",
   "id": "5ed1592f",
   "metadata": {
    "papermill": {
     "duration": 0.009819,
     "end_time": "2023-10-30T17:15:23.063354",
     "exception": false,
     "start_time": "2023-10-30T17:15:23.053535",
     "status": "completed"
    },
    "tags": []
   },
   "source": [
    "##### Inicio"
   ]
  },
  {
   "cell_type": "markdown",
   "id": "d75678ce",
   "metadata": {
    "papermill": {
     "duration": 0.011881,
     "end_time": "2023-10-30T17:15:23.076192",
     "exception": false,
     "start_time": "2023-10-30T17:15:23.064311",
     "status": "completed"
    },
    "tags": []
   },
   "source": [
    "#### Carga de datos"
   ]
  },
  {
   "cell_type": "code",
   "execution_count": 1,
   "id": "4c8a07b6",
   "metadata": {
    "execution": {
     "iopub.execute_input": "2023-10-30T17:15:23.086772Z",
     "iopub.status.busy": "2023-10-30T17:15:23.086708Z",
     "iopub.status.idle": "2023-10-30T17:15:24.270415Z",
     "shell.execute_reply": "2023-10-30T17:15:24.270305Z"
    },
    "papermill": {
     "duration": 1.190757,
     "end_time": "2023-10-30T17:15:24.272463",
     "exception": false,
     "start_time": "2023-10-30T17:15:23.081706",
     "status": "completed"
    },
    "tags": []
   },
   "outputs": [
    {
     "name": "stdout",
     "output_type": "stream",
     "text": [
      "CPU_COUNT: 24; NODE: amilcar32; sys.version: 3.10.12 | packaged by Anaconda, Inc. | (main, Jul  5 2023, 19:09:20) [MSC v.1916 64 bit (AMD64)]\n",
      "LOKY_MAX_CPU_COUNT is not set.\n",
      "OMP_NUM_THREADS is not set.\n"
     ]
    }
   ],
   "source": [
    "import os\n",
    "import numpy as np\n",
    "import pandas as pd\n",
    "import datetime\n",
    "import sklearn\n",
    "import logging\n",
    "import warnings\n",
    "\n",
    "from sklearn.pipeline import Pipeline\n",
    "from sklearn.model_selection import RandomizedSearchCV, KFold, cross_val_score, train_test_split\n",
    "from sklearn.metrics import accuracy_score, confusion_matrix, classification_report, roc_auc_score\n",
    "\n",
    "#  cargar algoritmos para aprendizaje supervisado\n",
    "from sklearn.feature_selection import SelectKBest, f_classif, SelectFromModel, mutual_info_classif\n",
    "from sklearn.svm import SVC\n",
    "from sklearn.ensemble import RandomForestClassifier\n",
    "from sklearn.linear_model import LogisticRegression,LogisticRegressionCV\n",
    "\n",
    "# importar fichero con utilidades propias\n",
    "from commons import myfunctions as myfunc\n"
   ]
  },
  {
   "cell_type": "markdown",
   "id": "1e12322c",
   "metadata": {
    "papermill": {
     "duration": 0.004,
     "end_time": "2023-10-30T17:15:24.279470",
     "exception": false,
     "start_time": "2023-10-30T17:15:24.275470",
     "status": "completed"
    },
    "tags": []
   },
   "source": [
    "#### Parámetros a utilizar en el entrenamiento.\n",
    "\n",
    "Se indican los 3 algoritmos de *selección de características* (eval_selector_xxx) y los 3 algoritmos para la _clasificación_ (eval_clasifier_xxx)\n",
    "\n",
    "En *param_distributions* se indicar los parámetros que utilizan los algoritmos en la función RandomSearchCV.\n",
    "\n",
    "Esta celda tiene la etiqueta **parameters** que servirá para poder lanzar los entrenamientos con la utilidad **papermill** pasándole un fichero con los parámetros. Los nuevos parámetros se situarán tras esta celda para tener prevalencia."
   ]
  },
  {
   "cell_type": "code",
   "execution_count": 2,
   "id": "3ee042ad",
   "metadata": {
    "execution": {
     "iopub.execute_input": "2023-10-30T17:15:24.290055Z",
     "iopub.status.busy": "2023-10-30T17:15:24.290055Z",
     "iopub.status.idle": "2023-10-30T17:15:24.301398Z",
     "shell.execute_reply": "2023-10-30T17:15:24.301398Z"
    },
    "papermill": {
     "duration": 0.018387,
     "end_time": "2023-10-30T17:15:24.302382",
     "exception": false,
     "start_time": "2023-10-30T17:15:24.283995",
     "status": "completed"
    },
    "tags": [
     "parameters"
    ]
   },
   "outputs": [
    {
     "name": "stdout",
     "output_type": "stream",
     "text": [
      "20231030T181524 : amilcar32 : INFO : Utilizando parámetros de mul_m\n"
     ]
    }
   ],
   "source": [
    "#  Parametros para el entrenamiento\n",
    "\n",
    "SEMILLA=        42\n",
    "M_TIPO=         \"mul_m\"\n",
    "M_SELECT=       \"MI\"\n",
    "M_CLASIF=       \"SVM\"\n",
    "R_FICHERO=      \"resultados\"\n",
    "M_FICHERO=      \"metricas\"\n",
    "PRE_DATA_FILE=  \"rows_transpose_norm_by_gene_id_with_target_num_\"\n",
    "SCORING=        \"roc_auc_ovr\" \n",
    "MAX_ITERS=      100\n",
    "\n",
    "def mutual_info_classif_state(X, y):\n",
    "    return mutual_info_classif(X, y, random_state=SEMILLA)\n",
    "\n",
    "eval_selector_mi = \"SelectKBest(score_func=mutual_info_classif_state)\"\n",
    "eval_selector_rf=  \"SelectFromModel(estimator=RandomForestClassifier(random_state=SEMILLA), threshold=-np.inf)\"\n",
    "eval_selector_anova=  \"SelectKBest(score_func=f_classif)\"\n",
    "\n",
    "eval_clasifier_svm= \"SVC(probability=True, random_state=SEMILLA)\"\n",
    "eval_clasifier_rf= \"RandomForestClassifier(random_state=SEMILLA)\"\n",
    "eval_clasifier_lr= \"LogisticRegressionCV(random_state=SEMILLA)\"\n",
    "\n",
    "if M_TIPO.startswith(\"bin_m\"):\n",
    "    myfunc.verbose(f\"Utilizando parámetros de {M_TIPO}\")\n",
    "    eval_selector = eval_selector_mi\n",
    "    eval_clasifier = eval_clasifier_svm\n",
    "\n",
    "    SEMILLA = 6578\n",
    "    M_SELECT = \"MI\"\n",
    "    M_CLASIF = \"SVM\"\n",
    "    param_distributions = {'selector__k': [1000], \n",
    "         'clasifier__kernel': ['rbf'], 'clasifier__gamma': [0.01], 'clasifier__C': [100]}\n",
    "elif M_TIPO.startswith(\"bin_s\"):\n",
    "    myfunc.verbose(f\"Utilizando parámetros de {M_TIPO}\")\n",
    "    eval_selector = eval_selector_rf\n",
    "    eval_clasifier = eval_clasifier_lr\n",
    "\n",
    "    SEMILLA = 6191\n",
    "    M_SELECT = \"RF\"\n",
    "    M_CLASIF = \"LR_L2\"\n",
    "    param_distributions = {'selector__max_features': [1000], 'selector__estimator__n_estimators': [200], \n",
    "        'clasifier__solver': ['lbfgs'], 'clasifier__penalty': ['l2'], 'clasifier__max_iter': [10000]}\n",
    "\n",
    "elif M_TIPO.startswith(\"mul_m\"):\n",
    "    myfunc.verbose(f\"Utilizando parámetros de {M_TIPO}\")\n",
    " \n",
    "    eval_selector = eval_selector_rf\n",
    "    eval_clasifier = eval_clasifier_lr\n",
    "\n",
    "    SEMILLA = 6191\n",
    "    M_SELECT = \"RF\"\n",
    "    M_CLASIF = \"LR_L2\"\n",
    "    param_distributions = {'selector__max_features': [1000], 'selector__estimator__n_estimators': [400], \n",
    "        'clasifier__solver': ['lbfgs'], 'clasifier__penalty': ['l2'], 'clasifier__max_iter': [10000]}\n",
    "\n",
    "else:\n",
    "    # M_TIPO.startswith(\"mul_s\"):\n",
    "    myfunc.verbose(f\"Utilizando parámetros de {M_TIPO}\")\n",
    "    eval_selector = eval_selector_anova\n",
    "    eval_clasifier = eval_clasifier_lr\n",
    "\n",
    "    SEMILLA = 1860\n",
    "    M_SELECT = \"ANOVA\"\n",
    "    M_CLASIF = \"LR_L2\"\n",
    "    param_distributions = {'selector__k': [1000], \n",
    "        'clasifier__solver': ['saga'], 'clasifier__penalty': ['l2'], 'clasifier__max_iter': [10000]}\n",
    "\n"
   ]
  },
  {
   "cell_type": "code",
   "execution_count": 3,
   "id": "8bdf7d11",
   "metadata": {
    "execution": {
     "iopub.execute_input": "2023-10-30T17:15:24.310384Z",
     "iopub.status.busy": "2023-10-30T17:15:24.310384Z",
     "iopub.status.idle": "2023-10-30T17:15:24.321635Z",
     "shell.execute_reply": "2023-10-30T17:15:24.320446Z"
    },
    "papermill": {
     "duration": 0.018242,
     "end_time": "2023-10-30T17:15:24.323634",
     "exception": false,
     "start_time": "2023-10-30T17:15:24.305392",
     "status": "completed"
    },
    "tags": [
     "injected-parameters"
    ]
   },
   "outputs": [],
   "source": [
    "# Parameters\n",
    "M_TIPO = \"mul_m\"\n",
    "M_SELECT = \"RF\"\n",
    "M_CLASIF = \"SVM\"\n",
    "P_FICHERO = \"param_0000_6578_mul_m_RF_SVM.yaml\"\n",
    "R_FICHERO = \"resultados_6578\"\n",
    "M_FICHERO = \"metricas_6578\"\n",
    "PRE_DATA_FILE = \"rows_transpose_norm_by_gene_id_with_target_num_\"\n",
    "SCORING = \"roc_auc_ovr\"\n",
    "SEMILLA = 6578\n",
    "MAX_ITERS = 500\n",
    "eval_selector = \"SelectFromModel(estimator=RandomForestClassifier(random_state=SEMILLA), threshold=-np.inf)\"\n",
    "eval_clasifier = \"SVC(probability=True, random_state=SEMILLA)\"\n",
    "param_distributions = {\n",
    "    \"selector__max_features\": [200],\n",
    "    \"selector__estimator__n_estimators\": [400],\n",
    "    \"clasifier__kernel\": [\"rbf\"],\n",
    "    \"clasifier__gamma\": [0.01],\n",
    "    \"clasifier__C\": [10],\n",
    "}\n"
   ]
  },
  {
   "cell_type": "code",
   "execution_count": 4,
   "id": "b1608a3f",
   "metadata": {
    "execution": {
     "iopub.execute_input": "2023-10-30T17:15:24.333141Z",
     "iopub.status.busy": "2023-10-30T17:15:24.333141Z",
     "iopub.status.idle": "2023-10-30T17:15:24.336147Z",
     "shell.execute_reply": "2023-10-30T17:15:24.336147Z"
    },
    "papermill": {
     "duration": 0.008514,
     "end_time": "2023-10-30T17:15:24.337146",
     "exception": false,
     "start_time": "2023-10-30T17:15:24.328632",
     "status": "completed"
    },
    "tags": []
   },
   "outputs": [],
   "source": [
    "DATA_FILE = PRE_DATA_FILE + M_TIPO\n",
    "\n",
    "# si viene \"None\" en el parámetro max_depth, se le quitan las comillas para que no sea entendido por el algoritmo como un texto\n",
    "if \"clasifier__max_depth\" in param_distributions:\n",
    "    param_distributions['clasifier__max_depth'] = [None if x == 'None' else x for x in param_distributions['clasifier__max_depth']]"
   ]
  },
  {
   "cell_type": "markdown",
   "id": "33fefbee",
   "metadata": {
    "papermill": {
     "duration": 0.0,
     "end_time": "2023-10-30T17:15:24.340186",
     "exception": false,
     "start_time": "2023-10-30T17:15:24.340186",
     "status": "completed"
    },
    "tags": []
   },
   "source": [
    "Asignar los algoritmos que se utilizarán en la función RandomSearchCV"
   ]
  },
  {
   "cell_type": "code",
   "execution_count": 5,
   "id": "08cc383a",
   "metadata": {
    "execution": {
     "iopub.execute_input": "2023-10-30T17:15:24.351620Z",
     "iopub.status.busy": "2023-10-30T17:15:24.350275Z",
     "iopub.status.idle": "2023-10-30T17:15:24.362641Z",
     "shell.execute_reply": "2023-10-30T17:15:24.362641Z"
    },
    "papermill": {
     "duration": 0.015367,
     "end_time": "2023-10-30T17:15:24.362641",
     "exception": false,
     "start_time": "2023-10-30T17:15:24.347274",
     "status": "completed"
    },
    "tags": []
   },
   "outputs": [],
   "source": [
    "algor_selector=eval(eval_selector)\n",
    "algor_clasifier=eval(eval_clasifier)"
   ]
  },
  {
   "cell_type": "markdown",
   "id": "fbf3ac09",
   "metadata": {
    "papermill": {
     "duration": 0.007505,
     "end_time": "2023-10-30T17:15:24.370146",
     "exception": false,
     "start_time": "2023-10-30T17:15:24.362641",
     "status": "completed"
    },
    "tags": []
   },
   "source": [
    "#### Comprobar el entorno y leer fichero de muestras"
   ]
  },
  {
   "cell_type": "code",
   "execution_count": 6,
   "id": "3ee58d14",
   "metadata": {
    "execution": {
     "iopub.execute_input": "2023-10-30T17:15:24.378777Z",
     "iopub.status.busy": "2023-10-30T17:15:24.378777Z",
     "iopub.status.idle": "2023-10-30T17:15:24.547152Z",
     "shell.execute_reply": "2023-10-30T17:15:24.547152Z"
    },
    "papermill": {
     "duration": 0.174384,
     "end_time": "2023-10-30T17:15:24.549164",
     "exception": false,
     "start_time": "2023-10-30T17:15:24.374780",
     "status": "completed"
    },
    "tags": []
   },
   "outputs": [
    {
     "name": "stdout",
     "output_type": "stream",
     "text": [
      "20231030T181524 : amilcar32 : INFO : Encontrada carpeta DATA_DIR=..\\tfm_viu\\datos\n",
      "20231030T181524 : amilcar32 : INFO : Encontrada carpeta CFDNA_DIR=..\\tfm_viu\\datos\\cfDNA_5hmC\n",
      "20231030T181524 : amilcar32 : INFO : Encontrada carpeta GENCODE_DIR=..\\tfm_viu\\datos\\gencode\n",
      "20231030T181524 : amilcar32 : INFO : Encontrada carpeta H5_DIR=..\\tfm_viu\\datos\\h5\n",
      "20231030T181524 : amilcar32 : INFO : Encontrada carpeta LOG_DIR=..\\tfm_viu\\datos\\logs\n",
      "20231030T181524 : amilcar32 : INFO : Encontrada carpeta CSV_DIR=..\\tfm_viu\\datos\\csv\n",
      "20231030T181524 : amilcar32 : INFO : Encontrada carpeta MODEL_DIR=..\\tfm_viu\\ejecuciones\\modelos\n",
      "20231030T181524 : amilcar32 : INFO : Encontrada carpeta EXEC_DIR=..\\tfm_viu\\ejecuciones\n",
      "20231030T181524 : amilcar32 : INFO : Encontrada carpeta MET_DIR=..\\tfm_viu\\ejecuciones\\metricas\n",
      "20231030T181524 : amilcar32 : INFO : Inicio leer fichero h5 ..\\tfm_viu\\datos\\h5\\rows_transpose_norm_by_gene_id_with_target_num_mul_m.h5\n",
      "20231030T181524 : amilcar32 : INFO : Leyendo clave /df\n"
     ]
    },
    {
     "name": "stdout",
     "output_type": "stream",
     "text": [
      "20231030T181524 : amilcar32 : INFO : Tamaño (434, 18876)\n",
      "20231030T181524 : amilcar32 : INFO : Fin leer fichero h5 ..\\tfm_viu\\datos\\h5\\rows_transpose_norm_by_gene_id_with_target_num_mul_m.h5\n"
     ]
    },
    {
     "data": {
      "text/plain": [
       "target\n",
       "0    62\n",
       "1    62\n",
       "2    62\n",
       "3    62\n",
       "4    62\n",
       "5    62\n",
       "6    62\n",
       "dtype: int64"
      ]
     },
     "metadata": {},
     "output_type": "display_data"
    },
    {
     "name": "stdout",
     "output_type": "stream",
     "text": [
      "Shape df: (434, 18876)\n",
      "Shape X_train: (347, 18875)\n",
      "Shape X_test: (87, 18875)\n"
     ]
    }
   ],
   "source": [
    "start_time = datetime.datetime.now()\n",
    "\n",
    "myfunc.reset_vars()\n",
    "\n",
    "myfunc.NOTEBK_FILENAME = myfunc.get_nb_name()\n",
    "\n",
    "myfunc.check_enviroment(myfunc.DATA_DIR, myfunc.CFDNA_DIR, myfunc.GENCODE_DIR, myfunc.H5_DIR, myfunc.LOG_DIR, myfunc.CSV_DIR, myfunc.MODEL_DIR, myfunc.EXEC_DIR, myfunc.MET_DIR)\n",
    "\n",
    "# Leer fichero con las muestras\n",
    "df_t = myfunc.read_h5_to_df(DATA_FILE, myfunc.H5_DIR)\n",
    "display(df_t.groupby(\"target\").size())\n",
    "print(\"Shape df:\",df_t.shape)\n",
    "\n",
    "# Separar caracteristicas/genes de las etiquetas/tipos de cáncer\n",
    "X = df_t.iloc[:, :-1]  # Todas las columnas excepto la última\n",
    "y = df_t.iloc[:, -1]  # La última columna contiene los identificadores de los tipos de cáncer\n",
    "\n",
    "#  Crear el conjunto de datos de entrenamiento y de pruebas, y se fija la semilla para siempre coger el mismo juego de muestras\n",
    "X_train, X_test, y_train, y_test = train_test_split(X, y, test_size=0.2, shuffle=True, random_state=42)\n",
    "print(\"Shape X_train:\",X_train.shape)\n",
    "print(\"Shape X_test:\",X_test.shape)\n"
   ]
  },
  {
   "cell_type": "markdown",
   "id": "2260d2d7",
   "metadata": {
    "papermill": {
     "duration": 0.003009,
     "end_time": "2023-10-30T17:15:24.555427",
     "exception": false,
     "start_time": "2023-10-30T17:15:24.552418",
     "status": "completed"
    },
    "tags": []
   },
   "source": [
    "#### Selección de características y clasificación."
   ]
  },
  {
   "cell_type": "code",
   "execution_count": 7,
   "id": "84820583",
   "metadata": {
    "execution": {
     "iopub.execute_input": "2023-10-30T17:15:24.562996Z",
     "iopub.status.busy": "2023-10-30T17:15:24.561936Z",
     "iopub.status.idle": "2023-10-30T17:16:00.149235Z",
     "shell.execute_reply": "2023-10-30T17:16:00.148241Z"
    },
    "papermill": {
     "duration": 35.59299,
     "end_time": "2023-10-30T17:16:00.151416",
     "exception": false,
     "start_time": "2023-10-30T17:15:24.558426",
     "status": "completed"
    },
    "tags": []
   },
   "outputs": [
    {
     "name": "stdout",
     "output_type": "stream",
     "text": [
      "20231030T181524 : amilcar32 : INFO : Iniciando entrenamiento\n",
      "num_iter: 1 , max_iter: 1\n"
     ]
    },
    {
     "name": "stdout",
     "output_type": "stream",
     "text": [
      "Fitting 5 folds for each of 1 candidates, totalling 5 fits\n"
     ]
    },
    {
     "name": "stdout",
     "output_type": "stream",
     "text": [
      "Mejores Hiperparámetros: {'selector__max_features': 200, 'selector__estimator__n_estimators': 400, 'clasifier__kernel': 'rbf', 'clasifier__gamma': 0.01, 'clasifier__C': 10}\n",
      "Mejor Puntuación: 0.8504\n",
      "20231030T181600 : amilcar32 : INFO : Fin entrenamiento\n"
     ]
    }
   ],
   "source": [
    "myfunc.verbose(\"Iniciando entrenamiento\")\n",
    "\n",
    "kf = KFold(n_splits=5, shuffle=True, random_state=SEMILLA)\n",
    "\n",
    "# Crear el pipeline para el flujo de tareas\n",
    "tasks_pipeline = Pipeline([\n",
    "    ('selector', algor_selector),\n",
    "    ('clasifier', algor_clasifier)\n",
    "])\n",
    "\n",
    "# MAX_ITERS puede limitar el número de iteraciones si son excesivas para las combinaciones de parámetros buscando un óptimo local, \n",
    "# sino funcionaría como GridSearchCV al revisar todas las cominaciones de los parámetros\n",
    "num_iteraciones = 1\n",
    "num_iteraciones = num_iteraciones * np.prod([len(elemento1) for _, elemento1 in param_distributions.items()])\n",
    "max_iteraciones = num_iteraciones if num_iteraciones <= MAX_ITERS else MAX_ITERS\n",
    "print(\"num_iter:\",num_iteraciones,\", max_iter:\",max_iteraciones)\n",
    "\n",
    "random_search = RandomizedSearchCV(\n",
    "    tasks_pipeline, \n",
    "    param_distributions, \n",
    "    n_iter=max_iteraciones,\n",
    "    scoring=SCORING,\n",
    "    cv=kf,\n",
    "    verbose=3, \n",
    "    random_state=SEMILLA, \n",
    "    n_jobs=-1\n",
    "    )\n",
    "\n",
    "# Entrenar el modelo\n",
    "random_search.fit(X_train, y_train)\n",
    "\n",
    "# Ver los mejores hiperparámetros encontrados\n",
    "print(f'Mejores Hiperparámetros: {random_search.best_params_}')\n",
    "print(f'Mejor Puntuación: {random_search.best_score_:.4f}')\n",
    "\n",
    "# Nos quedamos con el mejor modelo para ver las métricas\n",
    "mejor_modelo = random_search.best_estimator_\n",
    "\n",
    "myfunc.verbose(\"Fin entrenamiento\")"
   ]
  },
  {
   "cell_type": "markdown",
   "id": "9ae3908d",
   "metadata": {
    "papermill": {
     "duration": 0.003998,
     "end_time": "2023-10-30T17:16:00.160414",
     "exception": false,
     "start_time": "2023-10-30T17:16:00.156416",
     "status": "completed"
    },
    "tags": []
   },
   "source": [
    "#### Guardar modelo"
   ]
  },
  {
   "cell_type": "code",
   "execution_count": 8,
   "id": "2cf62e74",
   "metadata": {
    "execution": {
     "iopub.execute_input": "2023-10-30T17:16:00.162509Z",
     "iopub.status.busy": "2023-10-30T17:16:00.162509Z",
     "iopub.status.idle": "2023-10-30T17:16:00.301310Z",
     "shell.execute_reply": "2023-10-30T17:16:00.301310Z"
    },
    "papermill": {
     "duration": 0.139801,
     "end_time": "2023-10-30T17:16:00.302310",
     "exception": false,
     "start_time": "2023-10-30T17:16:00.162509",
     "status": "completed"
    },
    "tags": []
   },
   "outputs": [
    {
     "name": "stdout",
     "output_type": "stream",
     "text": [
      "20231030T181600 : amilcar32 : INFO : Inicio guardar fichero ..\\tfm_viu\\ejecuciones\\modelos\\modelo_6578_mul_m_RF_SVM.pkl\n",
      "20231030T181600 : amilcar32 : INFO : Fin guardar fichero ..\\tfm_viu\\ejecuciones\\modelos\\modelo_6578_mul_m_RF_SVM.pkl\n"
     ]
    }
   ],
   "source": [
    "fichero_modelo = str.replace(\"modelo_\"+str(SEMILLA).zfill(4)+\"_\"+M_TIPO+\"_\"+M_SELECT+\"_\"+M_CLASIF+\".pkl\", \" \", \"_\")\n",
    "\n",
    "myfunc.save_modelo(mejor_modelo, myfunc.MODEL_DIR, fichero_modelo)"
   ]
  },
  {
   "cell_type": "markdown",
   "id": "e7bdcc13",
   "metadata": {
    "papermill": {
     "duration": 0.002821,
     "end_time": "2023-10-30T17:16:00.311238",
     "exception": false,
     "start_time": "2023-10-30T17:16:00.308417",
     "status": "completed"
    },
    "tags": []
   },
   "source": [
    "#### Ver resultados del las iteraciones hechas por RandomSearchCV"
   ]
  },
  {
   "cell_type": "code",
   "execution_count": 9,
   "id": "43e233ee",
   "metadata": {
    "execution": {
     "iopub.execute_input": "2023-10-30T17:16:00.318625Z",
     "iopub.status.busy": "2023-10-30T17:16:00.318625Z",
     "iopub.status.idle": "2023-10-30T17:16:00.332678Z",
     "shell.execute_reply": "2023-10-30T17:16:00.332678Z"
    },
    "papermill": {
     "duration": 0.019061,
     "end_time": "2023-10-30T17:16:00.333679",
     "exception": false,
     "start_time": "2023-10-30T17:16:00.314618",
     "status": "completed"
    },
    "tags": []
   },
   "outputs": [
    {
     "name": "stdout",
     "output_type": "stream",
     "text": [
      "20231030T181600 : amilcar32 : INFO : Inicio ver resultados\n",
      "Mejores Hiperparámetros: {'selector__max_features': 200, 'selector__estimator__n_estimators': 400, 'clasifier__kernel': 'rbf', 'clasifier__gamma': 0.01, 'clasifier__C': 10}\n",
      "Mejores puntuaciones: 0.8504 | Params: {'selector__max_features': 200, 'selector__estimator__n_estimators': 400, 'clasifier__kernel': 'rbf', 'clasifier__gamma': 0.01, 'clasifier__C': 10}\n",
      "Media de las puntuaciones: 0.8504 | Params: {'selector__max_features': 200, 'selector__estimator__n_estimators': 400, 'clasifier__kernel': 'rbf', 'clasifier__gamma': 0.01, 'clasifier__C': 10}\n",
      "20231030T181600 : amilcar32 : INFO : Fin resultados\n"
     ]
    }
   ],
   "source": [
    "myfunc.ver_resultados_search(random_search)"
   ]
  },
  {
   "cell_type": "markdown",
   "id": "7bc59271",
   "metadata": {
    "papermill": {
     "duration": 0.004378,
     "end_time": "2023-10-30T17:16:00.341463",
     "exception": false,
     "start_time": "2023-10-30T17:16:00.337085",
     "status": "completed"
    },
    "tags": []
   },
   "source": [
    "#### Ver métricas del mejor modelo"
   ]
  },
  {
   "cell_type": "code",
   "execution_count": 10,
   "id": "c0f54523",
   "metadata": {
    "execution": {
     "iopub.execute_input": "2023-10-30T17:16:00.349462Z",
     "iopub.status.busy": "2023-10-30T17:16:00.349462Z",
     "iopub.status.idle": "2023-10-30T17:16:01.200393Z",
     "shell.execute_reply": "2023-10-30T17:16:01.200393Z"
    },
    "papermill": {
     "duration": 0.855934,
     "end_time": "2023-10-30T17:16:01.201399",
     "exception": false,
     "start_time": "2023-10-30T17:16:00.345465",
     "status": "completed"
    },
    "tags": []
   },
   "outputs": [
    {
     "name": "stdout",
     "output_type": "stream",
     "text": [
      "20231030T181600 : amilcar32 : INFO : Inicio ver métricas multiclase\n"
     ]
    },
    {
     "name": "stdout",
     "output_type": "stream",
     "text": [
      "              precision    recall  f1-score   support\n",
      "\n",
      "           0       0.22      0.12      0.16        16\n",
      "           1       0.69      0.60      0.64        15\n",
      "           2       0.36      0.36      0.36        11\n",
      "           3       0.25      0.60      0.35         5\n",
      "           4       0.53      0.69      0.60        13\n",
      "           5       0.64      0.78      0.70         9\n",
      "           6       0.64      0.50      0.56        18\n",
      "\n",
      "    accuracy                           0.49        87\n",
      "   macro avg       0.48      0.52      0.48        87\n",
      "weighted avg       0.50      0.49      0.48        87\n",
      "\n",
      "\n",
      "\n",
      "           Exactitud: 0.494253\n",
      "   Precisión (media): 0.476686\n",
      "      Recall (media): 0.522675\n",
      "    F1-score (media): 0.483134\n",
      "\n",
      "\n",
      "AUC para el tipo de cáncer 0-Control.... 0.6884\n",
      "AUC para el tipo de cáncer 1-Bladder.... 0.9139\n",
      "AUC para el tipo de cáncer 2-Breast..... 0.7440\n",
      "AUC para el tipo de cáncer 3-Colorectal. 0.8537\n",
      "AUC para el tipo de cáncer 4-Kidney..... 0.8617\n",
      "AUC para el tipo de cáncer 5-Lung....... 0.9245\n",
      "AUC para el tipo de cáncer 6-Prostate... 0.8156\n",
      "\n",
      "Media de AUC: 0.8288\n"
     ]
    },
    {
     "data": {
      "image/png": "[encoded data removed]",
      "text/plain": [
       "<Figure size 1000x600 with 1 Axes>"
      ]
     },
     "metadata": {},
     "output_type": "display_data"
    },
    {
     "name": "stdout",
     "output_type": "stream",
     "text": [
      "\n",
      "\n"
     ]
    },
    {
     "data": {
      "image/png": "[encoded data removed]",
      "text/plain": [
       "<Figure size 800x400 with 2 Axes>"
      ]
     },
     "metadata": {},
     "output_type": "display_data"
    },
    {
     "name": "stdout",
     "output_type": "stream",
     "text": [
      "\n",
      "\n",
      "Puntuación Jaccard para el cáncer tipo 0-Control.... 0.0870\n",
      "Puntuación Jaccard para el cáncer tipo 1-Bladder.... 0.4737\n",
      "Puntuación Jaccard para el cáncer tipo 2-Breast..... 0.2222\n",
      "Puntuación Jaccard para el cáncer tipo 3-Colorectal. 0.2143\n",
      "Puntuación Jaccard para el cáncer tipo 4-Kidney..... 0.4286\n",
      "Puntuación Jaccard para el cáncer tipo 5-Lung....... 0.5385\n",
      "Puntuación Jaccard para el cáncer tipo 6-Prostate... 0.3913\n",
      "\n",
      "Media de la puntuación de Jaccard: 0.3365\n"
     ]
    }
   ],
   "source": [
    "if M_TIPO.startswith(\"bin\"):\n",
    "    myfunc.ver_metricas(mejor_modelo, X_test, y_test)\n",
    "else:\n",
    "    myfunc.ver_metricas_multi(mejor_modelo, X_test, y_test)\n"
   ]
  },
  {
   "cell_type": "markdown",
   "id": "296990de",
   "metadata": {
    "papermill": {
     "duration": 0.004502,
     "end_time": "2023-10-30T17:16:01.210908",
     "exception": false,
     "start_time": "2023-10-30T17:16:01.206406",
     "status": "completed"
    },
    "tags": []
   },
   "source": [
    "#### Finalización del notebook"
   ]
  },
  {
   "cell_type": "code",
   "execution_count": 11,
   "id": "11719e74",
   "metadata": {
    "execution": {
     "iopub.execute_input": "2023-10-30T17:16:01.221502Z",
     "iopub.status.busy": "2023-10-30T17:16:01.221502Z",
     "iopub.status.idle": "2023-10-30T17:16:01.231335Z",
     "shell.execute_reply": "2023-10-30T17:16:01.231335Z"
    },
    "papermill": {
     "duration": 0.016333,
     "end_time": "2023-10-30T17:16:01.232327",
     "exception": false,
     "start_time": "2023-10-30T17:16:01.215994",
     "status": "completed"
    },
    "tags": []
   },
   "outputs": [
    {
     "name": "stdout",
     "output_type": "stream",
     "text": [
      "20231030T181601 : amilcar32 : INFO : Notebook ha tardado 36 seconds\n"
     ]
    }
   ],
   "source": [
    "end_time = datetime.datetime.now()\n",
    "total_time = end_time - start_time\n",
    "myfunc.verbose(f\"Notebook ha tardado {total_time.seconds} seconds\")"
   ]
  },
  {
   "cell_type": "markdown",
   "id": "496e1488",
   "metadata": {
    "papermill": {
     "duration": 0.004508,
     "end_time": "2023-10-30T17:16:01.241941",
     "exception": false,
     "start_time": "2023-10-30T17:16:01.237433",
     "status": "completed"
    },
    "tags": []
   },
   "source": [
    "#### Guardar métricas"
   ]
  },
  {
   "cell_type": "code",
   "execution_count": 12,
   "id": "1d2e9785",
   "metadata": {
    "execution": {
     "iopub.execute_input": "2023-10-30T17:16:01.252448Z",
     "iopub.status.busy": "2023-10-30T17:16:01.252448Z",
     "iopub.status.idle": "2023-10-30T17:16:01.904281Z",
     "shell.execute_reply": "2023-10-30T17:16:01.904281Z"
    },
    "papermill": {
     "duration": 0.658332,
     "end_time": "2023-10-30T17:16:01.905282",
     "exception": false,
     "start_time": "2023-10-30T17:16:01.246950",
     "status": "completed"
    },
    "tags": []
   },
   "outputs": [
    {
     "name": "stdout",
     "output_type": "stream",
     "text": [
      "20231030T181601 : amilcar32 : INFO : Inicio guardar métricas multiclase\n",
      "20231030T181601 : amilcar32 : INFO : Inicio leer fichero ..\\tfm_viu\\ejecuciones\\metricas\\metricas_6578.csv\n",
      "20231030T181601 : amilcar32 : INFO : Fin leer fichero ..\\tfm_viu\\ejecuciones\\metricas\\metricas_6578.csv\n"
     ]
    },
    {
     "name": "stdout",
     "output_type": "stream",
     "text": [
      "20231030T181601 : amilcar32 : INFO : Inicio guardar fichero ..\\tfm_viu\\ejecuciones\\metricas\\metricas_6578.csv\n",
      "20231030T181601 : amilcar32 : INFO : Fichero borrado ..\\tfm_viu\\ejecuciones\\metricas\\metricas_6578.csv\n",
      "20231030T181601 : amilcar32 : INFO : Fin guardar fichero ..\\tfm_viu\\ejecuciones\\metricas\\metricas_6578.csv\n",
      "20231030T181601 : amilcar32 : INFO : Fin guardar métricas multiclase\n",
      "20231030T181601 : amilcar32 : INFO : Inicio leer fichero ..\\tfm_viu\\ejecuciones\\metricas\\metricas_6578.csv\n",
      "20231030T181601 : amilcar32 : INFO : Fin leer fichero ..\\tfm_viu\\ejecuciones\\metricas\\metricas_6578.csv\n"
     ]
    },
    {
     "data": {
      "text/html": [
       "<div>\n",
       "<style scoped>\n",
       "    .dataframe tbody tr th:only-of-type {\n",
       "        vertical-align: middle;\n",
       "    }\n",
       "\n",
       "    .dataframe tbody tr th {\n",
       "        vertical-align: top;\n",
       "    }\n",
       "\n",
       "    .dataframe thead th {\n",
       "        text-align: right;\n",
       "    }\n",
       "</style>\n",
       "<table border=\"1\" class=\"dataframe\">\n",
       "  <thead>\n",
       "    <tr style=\"text-align: right;\">\n",
       "      <th></th>\n",
       "      <th>tipo</th>\n",
       "      <th>select</th>\n",
       "      <th>clasific</th>\n",
       "      <th>semilla</th>\n",
       "      <th>accuracy</th>\n",
       "      <th>precision</th>\n",
       "      <th>recall</th>\n",
       "      <th>f1_score</th>\n",
       "      <th>roc_auc</th>\n",
       "      <th>hostname</th>\n",
       "      <th>total_time_sec</th>\n",
       "      <th>datetime</th>\n",
       "      <th>fichero_modelo</th>\n",
       "      <th>params</th>\n",
       "      <th>shape</th>\n",
       "      <th>features</th>\n",
       "      <th>roc_auc_ovr</th>\n",
       "      <th>indices_auc</th>\n",
       "      <th>indices_jaccard</th>\n",
       "    </tr>\n",
       "  </thead>\n",
       "  <tbody>\n",
       "    <tr>\n",
       "      <th>0</th>\n",
       "      <td>mul_m</td>\n",
       "      <td>RF</td>\n",
       "      <td>SVM</td>\n",
       "      <td>6578</td>\n",
       "      <td>0.494253</td>\n",
       "      <td>0.476686</td>\n",
       "      <td>0.522675</td>\n",
       "      <td>0.483134</td>\n",
       "      <td>NaN</td>\n",
       "      <td>amilcar32</td>\n",
       "      <td>36</td>\n",
       "      <td>2023-10-30 18:16:01.853227</td>\n",
       "      <td>modelo_6578_mul_m_RF_SVM.pkl</td>\n",
       "      <td>{'selector__max_features': 200, 'selector__est...</td>\n",
       "      <td>X_test:(87, 18875)</td>\n",
       "      <td>['ENSG00000008438.5', 'ENSG00000021762.20', 'E...</td>\n",
       "      <td>0.828831</td>\n",
       "      <td>[0.6883802816901409, 0.9138888888888889, 0.744...</td>\n",
       "      <td>[0.08695652173913043, 0.47368421052631576, 0.2...</td>\n",
       "    </tr>\n",
       "    <tr>\n",
       "      <th>0</th>\n",
       "      <td>mul_m</td>\n",
       "      <td>RF</td>\n",
       "      <td>RF</td>\n",
       "      <td>6578</td>\n",
       "      <td>0.505747</td>\n",
       "      <td>0.426811</td>\n",
       "      <td>0.533267</td>\n",
       "      <td>0.468204</td>\n",
       "      <td>NaN</td>\n",
       "      <td>amilcar32</td>\n",
       "      <td>53</td>\n",
       "      <td>2023-10-30 18:15:19.656390</td>\n",
       "      <td>modelo_6578_mul_m_RF_RF.pkl</td>\n",
       "      <td>{'selector__max_features': 500, 'selector__est...</td>\n",
       "      <td>X_test:(87, 18875)</td>\n",
       "      <td>['ENSG00000003137.9', 'ENSG00000005108.17', 'E...</td>\n",
       "      <td>0.828973</td>\n",
       "      <td>[0.6927816901408451, 0.875, 0.7870813397129186...</td>\n",
       "      <td>[0.0, 0.47619047619047616, 0.23529411764705882...</td>\n",
       "    </tr>\n",
       "    <tr>\n",
       "      <th>0</th>\n",
       "      <td>mul_m</td>\n",
       "      <td>RF</td>\n",
       "      <td>LR_L2</td>\n",
       "      <td>6578</td>\n",
       "      <td>0.586207</td>\n",
       "      <td>0.597506</td>\n",
       "      <td>0.590487</td>\n",
       "      <td>0.571154</td>\n",
       "      <td>NaN</td>\n",
       "      <td>amilcar32</td>\n",
       "      <td>52</td>\n",
       "      <td>2023-10-30 18:14:21.109524</td>\n",
       "      <td>modelo_6578_mul_m_RF_LR_L2.pkl</td>\n",
       "      <td>{'selector__max_features': 1000, 'selector__es...</td>\n",
       "      <td>X_test:(87, 18875)</td>\n",
       "      <td>['ENSG00000000971.17', 'ENSG00000003137.9', 'E...</td>\n",
       "      <td>0.863543</td>\n",
       "      <td>[0.8248239436619719, 0.8842592592592591, 0.708...</td>\n",
       "      <td>[0.36363636363636365, 0.5, 0.21428571428571427...</td>\n",
       "    </tr>\n",
       "  </tbody>\n",
       "</table>\n",
       "</div>"
      ],
      "text/plain": [
       "    tipo select clasific  semilla  accuracy  precision    recall  f1_score  \\\n",
       "0  mul_m     RF      SVM     6578  0.494253   0.476686  0.522675  0.483134   \n",
       "0  mul_m     RF       RF     6578  0.505747   0.426811  0.533267  0.468204   \n",
       "0  mul_m     RF    LR_L2     6578  0.586207   0.597506  0.590487  0.571154   \n",
       "\n",
       "   roc_auc   hostname  total_time_sec                    datetime  \\\n",
       "0      NaN  amilcar32              36  2023-10-30 18:16:01.853227   \n",
       "0      NaN  amilcar32              53  2023-10-30 18:15:19.656390   \n",
       "0      NaN  amilcar32              52  2023-10-30 18:14:21.109524   \n",
       "\n",
       "                   fichero_modelo  \\\n",
       "0    modelo_6578_mul_m_RF_SVM.pkl   \n",
       "0     modelo_6578_mul_m_RF_RF.pkl   \n",
       "0  modelo_6578_mul_m_RF_LR_L2.pkl   \n",
       "\n",
       "                                              params               shape  \\\n",
       "0  {'selector__max_features': 200, 'selector__est...  X_test:(87, 18875)   \n",
       "0  {'selector__max_features': 500, 'selector__est...  X_test:(87, 18875)   \n",
       "0  {'selector__max_features': 1000, 'selector__es...  X_test:(87, 18875)   \n",
       "\n",
       "                                            features  roc_auc_ovr  \\\n",
       "0  ['ENSG00000008438.5', 'ENSG00000021762.20', 'E...     0.828831   \n",
       "0  ['ENSG00000003137.9', 'ENSG00000005108.17', 'E...     0.828973   \n",
       "0  ['ENSG00000000971.17', 'ENSG00000003137.9', 'E...     0.863543   \n",
       "\n",
       "                                         indices_auc  \\\n",
       "0  [0.6883802816901409, 0.9138888888888889, 0.744...   \n",
       "0  [0.6927816901408451, 0.875, 0.7870813397129186...   \n",
       "0  [0.8248239436619719, 0.8842592592592591, 0.708...   \n",
       "\n",
       "                                     indices_jaccard  \n",
       "0  [0.08695652173913043, 0.47368421052631576, 0.2...  \n",
       "0  [0.0, 0.47619047619047616, 0.23529411764705882...  \n",
       "0  [0.36363636363636365, 0.5, 0.21428571428571427...  "
      ]
     },
     "metadata": {},
     "output_type": "display_data"
    }
   ],
   "source": [
    "if M_TIPO.startswith(\"bin\"):\n",
    "    myfunc.save_metricas_to_csv(random_search, X_test, y_test, M_TIPO, M_SELECT, M_CLASIF, total_time, SEMILLA, myfunc.MET_DIR, M_FICHERO, fichero_modelo)\n",
    "else:\n",
    "    myfunc.save_metricas_multi_to_csv(random_search, X_test, y_test, M_TIPO, M_SELECT, M_CLASIF, total_time, SEMILLA, myfunc.MET_DIR, M_FICHERO, fichero_modelo)\n",
    "\n",
    "df1=myfunc.read_metricas_to_df(myfunc.MET_DIR,M_FICHERO)\n",
    "\n",
    "display(df1.sort_values(\"datetime\", ascending=False)[:3])\n"
   ]
  },
  {
   "cell_type": "markdown",
   "id": "4fd610b6",
   "metadata": {
    "papermill": {
     "duration": 0.007517,
     "end_time": "2023-10-30T17:16:01.921374",
     "exception": false,
     "start_time": "2023-10-30T17:16:01.913857",
     "status": "completed"
    },
    "tags": []
   },
   "source": [
    "#### Guardar resultados"
   ]
  },
  {
   "cell_type": "code",
   "execution_count": 13,
   "id": "c0327707",
   "metadata": {
    "execution": {
     "iopub.execute_input": "2023-10-30T17:16:01.936204Z",
     "iopub.status.busy": "2023-10-30T17:16:01.936204Z",
     "iopub.status.idle": "2023-10-30T17:16:01.947586Z",
     "shell.execute_reply": "2023-10-30T17:16:01.947315Z"
    },
    "papermill": {
     "duration": 0.020213,
     "end_time": "2023-10-30T17:16:01.948587",
     "exception": false,
     "start_time": "2023-10-30T17:16:01.928374",
     "status": "completed"
    },
    "tags": []
   },
   "outputs": [
    {
     "name": "stdout",
     "output_type": "stream",
     "text": [
      "20231030T181601 : amilcar32 : INFO : Inicio guardar resultados\n",
      "20231030T181601 : amilcar32 : INFO : Inicio guardar fichero ..\\tfm_viu\\ejecuciones\\metricas\\resultados_6578_mul_m-RF-SVM.csv\n",
      "20231030T181601 : amilcar32 : INFO : Fin guardar fichero ..\\tfm_viu\\ejecuciones\\metricas\\resultados_6578_mul_m-RF-SVM.csv\n",
      "20231030T181601 : amilcar32 : INFO : Fin guardar resultados\n"
     ]
    }
   ],
   "source": [
    "fichero_resultados=R_FICHERO+\"_\"+M_TIPO+\"-\"+M_SELECT+\"-\"+M_CLASIF+\".csv\"\n",
    "myfunc.save_resultados_to_csv(M_TIPO, M_SELECT, M_CLASIF,  random_search, myfunc.MET_DIR, fichero_resultados)\n"
   ]
  }
 ],
 "metadata": {
  "kernelspec": {
   "display_name": "Python 3 (ipykernel)",
   "language": "python",
   "name": "python3"
  },
  "language_info": {
   "codemirror_mode": {
    "name": "ipython",
    "version": 3
   },
   "file_extension": ".py",
   "mimetype": "text/x-python",
   "name": "python",
   "nbconvert_exporter": "python",
   "pygments_lexer": "ipython3",
   "version": "3.10.12"
  },
  "papermill": {
   "default_parameters": {},
   "duration": 41.325451,
   "end_time": "2023-10-30T17:16:02.519384",
   "environment_variables": {},
   "exception": null,
   "input_path": "03_entrenamiento.ipynb",
   "output_path": "ejecuciones\\training\\03_entrenamiento.20231030T181520.param_0000_6578_mul_m_RF_SVM.output.ipynb",
   "parameters": {
    "MAX_ITERS": 500,
    "M_CLASIF": "SVM",
    "M_FICHERO": "metricas_6578",
    "M_SELECT": "RF",
    "M_TIPO": "mul_m",
    "PRE_DATA_FILE": "rows_transpose_norm_by_gene_id_with_target_num_",
    "P_FICHERO": "param_0000_6578_mul_m_RF_SVM.yaml",
    "R_FICHERO": "resultados_6578",
    "SCORING": "roc_auc_ovr",
    "SEMILLA": 6578,
    "eval_clasifier": "SVC(probability=True, random_state=SEMILLA)",
    "eval_selector": "SelectFromModel(estimator=RandomForestClassifier(random_state=SEMILLA), threshold=-np.inf)",
    "param_distributions": {
     "clasifier__C": [
      10
     ],
     "clasifier__gamma": [
      0.01
     ],
     "clasifier__kernel": [
      "rbf"
     ],
     "selector__estimator__n_estimators": [
      400
     ],
     "selector__max_features": [
      200
     ]
    }
   },
   "start_time": "2023-10-30T17:15:21.193933",
   "version": "2.4.0"
  }
 },
 "nbformat": 4,
 "nbformat_minor": 5
}