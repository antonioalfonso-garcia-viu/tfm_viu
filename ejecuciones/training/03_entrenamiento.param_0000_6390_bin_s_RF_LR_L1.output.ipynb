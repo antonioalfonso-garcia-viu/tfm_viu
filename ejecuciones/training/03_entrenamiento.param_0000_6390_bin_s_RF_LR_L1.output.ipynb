{
 "cells": [
  {
   "cell_type": "markdown",
   "id": "bc51a23f",
   "metadata": {
    "papermill": {
     "duration": 0.004503,
     "end_time": "2023-10-30T13:05:53.977677",
     "exception": false,
     "start_time": "2023-10-30T13:05:53.973174",
     "status": "completed"
    },
    "tags": []
   },
   "source": [
    "##### Inicio"
   ]
  },
  {
   "cell_type": "markdown",
   "id": "051eb6dc",
   "metadata": {
    "papermill": {
     "duration": 0.003679,
     "end_time": "2023-10-30T13:05:53.985333",
     "exception": false,
     "start_time": "2023-10-30T13:05:53.981654",
     "status": "completed"
    },
    "tags": []
   },
   "source": [
    "#### Carga de datos"
   ]
  },
  {
   "cell_type": "code",
   "execution_count": 1,
   "id": "aba40081",
   "metadata": {
    "execution": {
     "iopub.execute_input": "2023-10-30T13:05:53.994062Z",
     "iopub.status.busy": "2023-10-30T13:05:53.993818Z",
     "iopub.status.idle": "2023-10-30T13:05:54.864420Z",
     "shell.execute_reply": "2023-10-30T13:05:54.863886Z"
    },
    "papermill": {
     "duration": 0.8766,
     "end_time": "2023-10-30T13:05:54.865703",
     "exception": false,
     "start_time": "2023-10-30T13:05:53.989103",
     "status": "completed"
    },
    "tags": []
   },
   "outputs": [
    {
     "name": "stdout",
     "output_type": "stream",
     "text": [
      "CPU_COUNT: 8; NODE: amilcar22; sys.version: 3.10.12 (main, Jul  5 2023, 19:22:19) [GCC 11.2.0]\n",
      "LOKY_MAX_CPU_COUNT: 6\n",
      "OMP_NUM_THREADS: 2\n"
     ]
    }
   ],
   "source": [
    "import os\n",
    "import numpy as np\n",
    "import pandas as pd\n",
    "import datetime\n",
    "import sklearn\n",
    "import logging\n",
    "import warnings\n",
    "\n",
    "from sklearn.pipeline import Pipeline\n",
    "from sklearn.model_selection import RandomizedSearchCV, KFold, cross_val_score, train_test_split\n",
    "from sklearn.metrics import accuracy_score, confusion_matrix, classification_report, roc_auc_score\n",
    "\n",
    "#  cargar algoritmos para aprendizaje supervisado\n",
    "from sklearn.feature_selection import SelectKBest, f_classif, SelectFromModel, mutual_info_classif\n",
    "from sklearn.svm import SVC\n",
    "from sklearn.ensemble import RandomForestClassifier\n",
    "from sklearn.linear_model import LogisticRegression,LogisticRegressionCV\n",
    "\n",
    "# importar fichero con utilidades propias\n",
    "from commons import myfunctions as myfunc\n"
   ]
  },
  {
   "cell_type": "markdown",
   "id": "6bf2ca6f",
   "metadata": {
    "papermill": {
     "duration": 0.002576,
     "end_time": "2023-10-30T13:05:54.871235",
     "exception": false,
     "start_time": "2023-10-30T13:05:54.868659",
     "status": "completed"
    },
    "tags": []
   },
   "source": [
    "#### Parámetros a utilizar en el entrenamiento.\n",
    "\n",
    "Se indican los 3 algoritmos de *selección de características* (eval_selector_xxx) y los 3 algoritmos para la _clasificación_ (eval_clasifier_xxx)\n",
    "\n",
    "En *param_distributions* se indicar los parámetros que utilizan los algoritmos en la función RandomSearchCV.\n",
    "\n",
    "Esta celda tiene la etiqueta **parameters** que servirá para poder lanzar los entrenamientos con la utilidad **papermill** pasándole un fichero con los parámetros. Los nuevos parámetros se situarán tras esta celda para tener prevalencia."
   ]
  },
  {
   "cell_type": "code",
   "execution_count": 2,
   "id": "62f5d643",
   "metadata": {
    "execution": {
     "iopub.execute_input": "2023-10-30T13:05:54.877354Z",
     "iopub.status.busy": "2023-10-30T13:05:54.877121Z",
     "iopub.status.idle": "2023-10-30T13:05:54.883603Z",
     "shell.execute_reply": "2023-10-30T13:05:54.883121Z"
    },
    "papermill": {
     "duration": 0.011132,
     "end_time": "2023-10-30T13:05:54.884883",
     "exception": false,
     "start_time": "2023-10-30T13:05:54.873751",
     "status": "completed"
    },
    "tags": [
     "parameters"
    ]
   },
   "outputs": [
    {
     "name": "stdout",
     "output_type": "stream",
     "text": [
      "20231030T140554 : amilcar22 : INFO : Utilizando parámetros de mul_m\n"
     ]
    }
   ],
   "source": [
    "#  Parametros para el entrenamiento\n",
    "\n",
    "SEMILLA=        42\n",
    "M_TIPO=         \"mul_m\"\n",
    "M_SELECT=       \"MI\"\n",
    "M_CLASIF=       \"SVM\"\n",
    "R_FICHERO=      \"resultados\"\n",
    "M_FICHERO=      \"metricas\"\n",
    "PRE_DATA_FILE=  \"rows_transpose_norm_by_gene_id_with_target_num_\"\n",
    "SCORING=        \"roc_auc_ovr\" \n",
    "MAX_ITERS=      100\n",
    "\n",
    "def mutual_info_classif_state(X, y):\n",
    "    return mutual_info_classif(X, y, random_state=SEMILLA)\n",
    "\n",
    "eval_selector_mi = \"SelectKBest(score_func=mutual_info_classif_state)\"\n",
    "eval_selector_rf=  \"SelectFromModel(estimator=RandomForestClassifier(random_state=SEMILLA), threshold=-np.inf)\"\n",
    "eval_selector_anova=  \"SelectKBest(score_func=f_classif)\"\n",
    "\n",
    "eval_clasifier_svm= \"SVC(probability=True, random_state=SEMILLA)\"\n",
    "eval_clasifier_rf= \"RandomForestClassifier(random_state=SEMILLA)\"\n",
    "eval_clasifier_lr= \"LogisticRegressionCV(random_state=SEMILLA)\"\n",
    "\n",
    "if M_TIPO.startswith(\"bin_m\"):\n",
    "    myfunc.verbose(f\"Utilizando parámetros de {M_TIPO}\")\n",
    "    eval_selector = eval_selector_mi\n",
    "    eval_clasifier = eval_clasifier_svm\n",
    "\n",
    "    SEMILLA = 6578\n",
    "    M_SELECT = \"MI\"\n",
    "    M_CLASIF = \"SVM\"\n",
    "    param_distributions = {'selector__k': [1000], \n",
    "         'clasifier__kernel': ['rbf'], 'clasifier__gamma': [0.01], 'clasifier__C': [100]}\n",
    "elif M_TIPO.startswith(\"bin_s\"):\n",
    "    myfunc.verbose(f\"Utilizando parámetros de {M_TIPO}\")\n",
    "    eval_selector = eval_selector_rf\n",
    "    eval_clasifier = eval_clasifier_lr\n",
    "\n",
    "    SEMILLA = 6191\n",
    "    M_SELECT = \"RF\"\n",
    "    M_CLASIF = \"LR_L2\"\n",
    "    param_distributions = {'selector__max_features': [1000], 'selector__estimator__n_estimators': [200], \n",
    "        'clasifier__solver': ['lbfgs'], 'clasifier__penalty': ['l2'], 'clasifier__max_iter': [10000]}\n",
    "\n",
    "elif M_TIPO.startswith(\"mul_m\"):\n",
    "    myfunc.verbose(f\"Utilizando parámetros de {M_TIPO}\")\n",
    " \n",
    "    eval_selector = eval_selector_rf\n",
    "    eval_clasifier = eval_clasifier_lr\n",
    "\n",
    "    SEMILLA = 6191\n",
    "    M_SELECT = \"RF\"\n",
    "    M_CLASIF = \"LR_L2\"\n",
    "    param_distributions = {'selector__max_features': [1000], 'selector__estimator__n_estimators': [400], \n",
    "        'clasifier__solver': ['lbfgs'], 'clasifier__penalty': ['l2'], 'clasifier__max_iter': [10000]}\n",
    "\n",
    "else:\n",
    "    # M_TIPO.startswith(\"mul_s\"):\n",
    "    myfunc.verbose(f\"Utilizando parámetros de {M_TIPO}\")\n",
    "    eval_selector = eval_selector_anova\n",
    "    eval_clasifier = eval_clasifier_lr\n",
    "\n",
    "    SEMILLA = 1860\n",
    "    M_SELECT = \"ANOVA\"\n",
    "    M_CLASIF = \"LR_L2\"\n",
    "    param_distributions = {'selector__k': [1000], \n",
    "        'clasifier__solver': ['saga'], 'clasifier__penalty': ['l2'], 'clasifier__max_iter': [10000]}\n",
    "\n"
   ]
  },
  {
   "cell_type": "code",
   "execution_count": 3,
   "id": "e9776389",
   "metadata": {
    "execution": {
     "iopub.execute_input": "2023-10-30T13:05:54.890852Z",
     "iopub.status.busy": "2023-10-30T13:05:54.890680Z",
     "iopub.status.idle": "2023-10-30T13:05:54.894319Z",
     "shell.execute_reply": "2023-10-30T13:05:54.893794Z"
    },
    "papermill": {
     "duration": 0.008023,
     "end_time": "2023-10-30T13:05:54.895577",
     "exception": false,
     "start_time": "2023-10-30T13:05:54.887554",
     "status": "completed"
    },
    "tags": [
     "injected-parameters"
    ]
   },
   "outputs": [],
   "source": [
    "# Parameters\n",
    "M_TIPO = \"bin_s\"\n",
    "M_SELECT = \"RF\"\n",
    "M_CLASIF = \"LR_L1\"\n",
    "P_FICHERO = \"param_0000_6390_bin_s_RF_LR_L1.yaml\"\n",
    "R_FICHERO = \"resultados_6390\"\n",
    "M_FICHERO = \"metricas_6390\"\n",
    "PRE_DATA_FILE = \"rows_transpose_norm_by_gene_id_with_target_num_\"\n",
    "SCORING = \"roc_auc_ovr\"\n",
    "SEMILLA = 6390\n",
    "MAX_ITERS = 500\n",
    "eval_selector = \"SelectFromModel(estimator=RandomForestClassifier(random_state=SEMILLA), threshold=-np.inf)\"\n",
    "eval_clasifier = \"LogisticRegressionCV(random_state=SEMILLA)\"\n",
    "param_distributions = {\n",
    "    \"selector__max_features\": [1000],\n",
    "    \"selector__estimator__n_estimators\": [100],\n",
    "    \"clasifier__solver\": [\"saga\"],\n",
    "    \"clasifier__penalty\": [\"l1\"],\n",
    "    \"clasifier__max_iter\": [10000],\n",
    "}\n"
   ]
  },
  {
   "cell_type": "code",
   "execution_count": 4,
   "id": "b773ab61",
   "metadata": {
    "execution": {
     "iopub.execute_input": "2023-10-30T13:05:54.901653Z",
     "iopub.status.busy": "2023-10-30T13:05:54.901497Z",
     "iopub.status.idle": "2023-10-30T13:05:54.904339Z",
     "shell.execute_reply": "2023-10-30T13:05:54.903807Z"
    },
    "papermill": {
     "duration": 0.007332,
     "end_time": "2023-10-30T13:05:54.905609",
     "exception": false,
     "start_time": "2023-10-30T13:05:54.898277",
     "status": "completed"
    },
    "tags": []
   },
   "outputs": [],
   "source": [
    "DATA_FILE = PRE_DATA_FILE + M_TIPO\n",
    "\n",
    "# si viene \"None\" en el parámetro max_depth, se le quitan las comillas para que no sea entendido por el algoritmo como un texto\n",
    "if \"clasifier__max_depth\" in param_distributions:\n",
    "    param_distributions['clasifier__max_depth'] = [None if x == 'None' else x for x in param_distributions['clasifier__max_depth']]"
   ]
  },
  {
   "cell_type": "markdown",
   "id": "3805e178",
   "metadata": {
    "papermill": {
     "duration": 0.0028,
     "end_time": "2023-10-30T13:05:54.911353",
     "exception": false,
     "start_time": "2023-10-30T13:05:54.908553",
     "status": "completed"
    },
    "tags": []
   },
   "source": [
    "Asignar los algoritmos que se utilizarán en la función RandomSearchCV"
   ]
  },
  {
   "cell_type": "code",
   "execution_count": 5,
   "id": "4a4387e6",
   "metadata": {
    "execution": {
     "iopub.execute_input": "2023-10-30T13:05:54.917705Z",
     "iopub.status.busy": "2023-10-30T13:05:54.917533Z",
     "iopub.status.idle": "2023-10-30T13:05:54.920378Z",
     "shell.execute_reply": "2023-10-30T13:05:54.919778Z"
    },
    "papermill": {
     "duration": 0.007503,
     "end_time": "2023-10-30T13:05:54.921722",
     "exception": false,
     "start_time": "2023-10-30T13:05:54.914219",
     "status": "completed"
    },
    "tags": []
   },
   "outputs": [],
   "source": [
    "algor_selector=eval(eval_selector)\n",
    "algor_clasifier=eval(eval_clasifier)"
   ]
  },
  {
   "cell_type": "markdown",
   "id": "e8a1e832",
   "metadata": {
    "papermill": {
     "duration": 0.003332,
     "end_time": "2023-10-30T13:05:54.928384",
     "exception": false,
     "start_time": "2023-10-30T13:05:54.925052",
     "status": "completed"
    },
    "tags": []
   },
   "source": [
    "#### Comprobar el entorno y leer fichero de muestras"
   ]
  },
  {
   "cell_type": "code",
   "execution_count": 6,
   "id": "d4340d8d",
   "metadata": {
    "execution": {
     "iopub.execute_input": "2023-10-30T13:05:54.935820Z",
     "iopub.status.busy": "2023-10-30T13:05:54.935627Z",
     "iopub.status.idle": "2023-10-30T13:05:55.099371Z",
     "shell.execute_reply": "2023-10-30T13:05:55.098738Z"
    },
    "papermill": {
     "duration": 0.169054,
     "end_time": "2023-10-30T13:05:55.100751",
     "exception": false,
     "start_time": "2023-10-30T13:05:54.931697",
     "status": "completed"
    },
    "tags": []
   },
   "outputs": [
    {
     "name": "stdout",
     "output_type": "stream",
     "text": [
      "20231030T140554 : amilcar22 : INFO : Encontrada carpeta DATA_DIR=../tfm_git/datos\n",
      "20231030T140554 : amilcar22 : INFO : Encontrada carpeta CFDNA_DIR=../tfm_git/datos/cfDNA_5hmC\n",
      "20231030T140554 : amilcar22 : INFO : Encontrada carpeta GENCODE_DIR=../tfm_git/datos/gencode\n",
      "20231030T140554 : amilcar22 : INFO : Encontrada carpeta H5_DIR=../tfm_git/datos/h5\n",
      "20231030T140554 : amilcar22 : INFO : Encontrada carpeta LOG_DIR=../tfm_git/datos/logs\n",
      "20231030T140554 : amilcar22 : INFO : Encontrada carpeta CSV_DIR=../tfm_git/datos/csv\n",
      "20231030T140554 : amilcar22 : INFO : Encontrada carpeta MODEL_DIR=../tfm_git/ejecuciones/modelos\n",
      "20231030T140554 : amilcar22 : INFO : Encontrada carpeta EXEC_DIR=../tfm_git/ejecuciones\n",
      "20231030T140554 : amilcar22 : INFO : Encontrada carpeta MET_DIR=../tfm_git/ejecuciones/metricas\n",
      "20231030T140554 : amilcar22 : INFO : Inicio leer fichero h5 ../tfm_git/datos/h5/rows_transpose_norm_by_gene_id_with_target_num_bin_s.h5\n",
      "20231030T140554 : amilcar22 : INFO : Leyendo clave /df\n",
      "20231030T140555 : amilcar22 : INFO : Tamaño (443, 18876)\n",
      "20231030T140555 : amilcar22 : INFO : Fin leer fichero h5 ../tfm_git/datos/h5/rows_transpose_norm_by_gene_id_with_target_num_bin_s.h5\n"
     ]
    },
    {
     "data": {
      "text/plain": [
       "target\n",
       "0    221\n",
       "1    222\n",
       "dtype: int64"
      ]
     },
     "metadata": {},
     "output_type": "display_data"
    },
    {
     "name": "stdout",
     "output_type": "stream",
     "text": [
      "Shape df: (443, 18876)\n"
     ]
    },
    {
     "name": "stdout",
     "output_type": "stream",
     "text": [
      "Shape X_train: (354, 18875)\n",
      "Shape X_test: (89, 18875)\n"
     ]
    }
   ],
   "source": [
    "start_time = datetime.datetime.now()\n",
    "\n",
    "myfunc.reset_vars()\n",
    "\n",
    "myfunc.NOTEBK_FILENAME = myfunc.get_nb_name()\n",
    "\n",
    "myfunc.check_enviroment(myfunc.DATA_DIR, myfunc.CFDNA_DIR, myfunc.GENCODE_DIR, myfunc.H5_DIR, myfunc.LOG_DIR, myfunc.CSV_DIR, myfunc.MODEL_DIR, myfunc.EXEC_DIR, myfunc.MET_DIR)\n",
    "\n",
    "# Leer fichero con las muestras\n",
    "df_t = myfunc.read_h5_to_df(DATA_FILE, myfunc.H5_DIR)\n",
    "display(df_t.groupby(\"target\").size())\n",
    "print(\"Shape df:\",df_t.shape)\n",
    "\n",
    "# Separar caracteristicas/genes de las etiquetas/tipos de cáncer\n",
    "X = df_t.iloc[:, :-1]  # Todas las columnas excepto la última\n",
    "y = df_t.iloc[:, -1]  # La última columna contiene los identificadores de los tipos de cáncer\n",
    "\n",
    "#  Crear el conjunto de datos de entrenamiento y de pruebas, y se fija la semilla para siempre coger el mismo juego de muestras\n",
    "X_train, X_test, y_train, y_test = train_test_split(X, y, test_size=0.2, shuffle=True, random_state=42)\n",
    "print(\"Shape X_train:\",X_train.shape)\n",
    "print(\"Shape X_test:\",X_test.shape)\n"
   ]
  },
  {
   "cell_type": "markdown",
   "id": "19c82a93",
   "metadata": {
    "papermill": {
     "duration": 0.003047,
     "end_time": "2023-10-30T13:05:55.107143",
     "exception": false,
     "start_time": "2023-10-30T13:05:55.104096",
     "status": "completed"
    },
    "tags": []
   },
   "source": [
    "#### Selección de características y clasificación."
   ]
  },
  {
   "cell_type": "code",
   "execution_count": 7,
   "id": "38bce3e5",
   "metadata": {
    "execution": {
     "iopub.execute_input": "2023-10-30T13:05:55.113647Z",
     "iopub.status.busy": "2023-10-30T13:05:55.113468Z",
     "iopub.status.idle": "2023-10-30T13:13:48.674052Z",
     "shell.execute_reply": "2023-10-30T13:13:48.673430Z"
    },
    "papermill": {
     "duration": 473.56538,
     "end_time": "2023-10-30T13:13:48.675348",
     "exception": false,
     "start_time": "2023-10-30T13:05:55.109968",
     "status": "completed"
    },
    "tags": []
   },
   "outputs": [
    {
     "name": "stdout",
     "output_type": "stream",
     "text": [
      "20231030T140555 : amilcar22 : INFO : Iniciando entrenamiento\n",
      "num_iter: 1 , max_iter: 1\n",
      "Fitting 5 folds for each of 1 candidates, totalling 5 fits\n"
     ]
    },
    {
     "name": "stdout",
     "output_type": "stream",
     "text": [
      "[CV 1/5] END clasifier__max_iter=10000, clasifier__penalty=l1, clasifier__solver=saga, selector__estimator__n_estimators=100, selector__max_features=1000;, score=0.788 total time= 2.9min\n"
     ]
    },
    {
     "name": "stdout",
     "output_type": "stream",
     "text": [
      "Mejores Hiperparámetros: {'selector__max_features': 1000, 'selector__estimator__n_estimators': 100, 'clasifier__solver': 'saga', 'clasifier__penalty': 'l1', 'clasifier__max_iter': 10000}\n",
      "Mejor Puntuación: 0.7528\n",
      "20231030T141348 : amilcar22 : INFO : Fin entrenamiento\n"
     ]
    }
   ],
   "source": [
    "myfunc.verbose(\"Iniciando entrenamiento\")\n",
    "\n",
    "kf = KFold(n_splits=5, shuffle=True, random_state=SEMILLA)\n",
    "\n",
    "# Crear el pipeline para el flujo de tareas\n",
    "tasks_pipeline = Pipeline([\n",
    "    ('selector', algor_selector),\n",
    "    ('clasifier', algor_clasifier)\n",
    "])\n",
    "\n",
    "# MAX_ITERS puede limitar el número de iteraciones si son excesivas para las combinaciones de parámetros buscando un óptimo local, \n",
    "# sino funcionaría como GridSearchCV al revisar todas las cominaciones de los parámetros\n",
    "num_iteraciones = 1\n",
    "num_iteraciones = num_iteraciones * np.prod([len(elemento1) for _, elemento1 in param_distributions.items()])\n",
    "max_iteraciones = num_iteraciones if num_iteraciones <= MAX_ITERS else MAX_ITERS\n",
    "print(\"num_iter:\",num_iteraciones,\", max_iter:\",max_iteraciones)\n",
    "\n",
    "random_search = RandomizedSearchCV(\n",
    "    tasks_pipeline, \n",
    "    param_distributions, \n",
    "    n_iter=max_iteraciones,\n",
    "    scoring=SCORING,\n",
    "    cv=kf,\n",
    "    verbose=3, \n",
    "    random_state=SEMILLA, \n",
    "    n_jobs=-1\n",
    "    )\n",
    "\n",
    "# Entrenar el modelo\n",
    "random_search.fit(X_train, y_train)\n",
    "\n",
    "# Ver los mejores hiperparámetros encontrados\n",
    "print(f'Mejores Hiperparámetros: {random_search.best_params_}')\n",
    "print(f'Mejor Puntuación: {random_search.best_score_:.4f}')\n",
    "\n",
    "# Nos quedamos con el mejor modelo para ver las métricas\n",
    "mejor_modelo = random_search.best_estimator_\n",
    "\n",
    "myfunc.verbose(\"Fin entrenamiento\")"
   ]
  },
  {
   "cell_type": "markdown",
   "id": "4cdceb0e",
   "metadata": {
    "papermill": {
     "duration": 0.003099,
     "end_time": "2023-10-30T13:13:48.681770",
     "exception": false,
     "start_time": "2023-10-30T13:13:48.678671",
     "status": "completed"
    },
    "tags": []
   },
   "source": [
    "#### Guardar modelo"
   ]
  },
  {
   "cell_type": "code",
   "execution_count": 8,
   "id": "d09f8210",
   "metadata": {
    "execution": {
     "iopub.execute_input": "2023-10-30T13:13:48.688689Z",
     "iopub.status.busy": "2023-10-30T13:13:48.688477Z",
     "iopub.status.idle": "2023-10-30T13:13:48.728219Z",
     "shell.execute_reply": "2023-10-30T13:13:48.727648Z"
    },
    "papermill": {
     "duration": 0.044746,
     "end_time": "2023-10-30T13:13:48.729476",
     "exception": false,
     "start_time": "2023-10-30T13:13:48.684730",
     "status": "completed"
    },
    "tags": []
   },
   "outputs": [
    {
     "name": "stdout",
     "output_type": "stream",
     "text": [
      "20231030T141348 : amilcar22 : INFO : Inicio guardar fichero ../tfm_git/ejecuciones/modelos/modelo_6390_bin_s_RF_LR_L1.pkl\n",
      "20231030T141348 : amilcar22 : INFO : Fin guardar fichero ../tfm_git/ejecuciones/modelos/modelo_6390_bin_s_RF_LR_L1.pkl\n"
     ]
    }
   ],
   "source": [
    "fichero_modelo = str.replace(\"modelo_\"+str(SEMILLA).zfill(4)+\"_\"+M_TIPO+\"_\"+M_SELECT+\"_\"+M_CLASIF+\".pkl\", \" \", \"_\")\n",
    "\n",
    "myfunc.save_modelo(mejor_modelo, myfunc.MODEL_DIR, fichero_modelo)"
   ]
  },
  {
   "cell_type": "markdown",
   "id": "a581ee68",
   "metadata": {
    "papermill": {
     "duration": 0.002934,
     "end_time": "2023-10-30T13:13:48.735917",
     "exception": false,
     "start_time": "2023-10-30T13:13:48.732983",
     "status": "completed"
    },
    "tags": []
   },
   "source": [
    "#### Ver resultados del las iteraciones hechas por RandomSearchCV"
   ]
  },
  {
   "cell_type": "code",
   "execution_count": 9,
   "id": "3e1930f9",
   "metadata": {
    "execution": {
     "iopub.execute_input": "2023-10-30T13:13:48.742688Z",
     "iopub.status.busy": "2023-10-30T13:13:48.742491Z",
     "iopub.status.idle": "2023-10-30T13:13:48.748663Z",
     "shell.execute_reply": "2023-10-30T13:13:48.748090Z"
    },
    "papermill": {
     "duration": 0.011008,
     "end_time": "2023-10-30T13:13:48.749841",
     "exception": false,
     "start_time": "2023-10-30T13:13:48.738833",
     "status": "completed"
    },
    "tags": []
   },
   "outputs": [
    {
     "name": "stdout",
     "output_type": "stream",
     "text": [
      "20231030T141348 : amilcar22 : INFO : Inicio ver resultados\n",
      "Mejores Hiperparámetros: {'selector__max_features': 1000, 'selector__estimator__n_estimators': 100, 'clasifier__solver': 'saga', 'clasifier__penalty': 'l1', 'clasifier__max_iter': 10000}\n",
      "Mejores puntuaciones: 0.7528 | Params: {'selector__max_features': 1000, 'selector__estimator__n_estimators': 100, 'clasifier__solver': 'saga', 'clasifier__penalty': 'l1', 'clasifier__max_iter': 10000}\n",
      "Media de las puntuaciones: 0.7528 | Params: {'selector__max_features': 1000, 'selector__estimator__n_estimators': 100, 'clasifier__solver': 'saga', 'clasifier__penalty': 'l1', 'clasifier__max_iter': 10000}\n",
      "20231030T141348 : amilcar22 : INFO : Fin resultados\n"
     ]
    }
   ],
   "source": [
    "myfunc.ver_resultados_search(random_search)"
   ]
  },
  {
   "cell_type": "markdown",
   "id": "43a79254",
   "metadata": {
    "papermill": {
     "duration": 0.00318,
     "end_time": "2023-10-30T13:13:48.756363",
     "exception": false,
     "start_time": "2023-10-30T13:13:48.753183",
     "status": "completed"
    },
    "tags": []
   },
   "source": [
    "#### Ver métricas del mejor modelo"
   ]
  },
  {
   "cell_type": "code",
   "execution_count": 10,
   "id": "61c25846",
   "metadata": {
    "execution": {
     "iopub.execute_input": "2023-10-30T13:13:48.763292Z",
     "iopub.status.busy": "2023-10-30T13:13:48.763101Z",
     "iopub.status.idle": "2023-10-30T13:13:49.220967Z",
     "shell.execute_reply": "2023-10-30T13:13:49.220419Z"
    },
    "papermill": {
     "duration": 0.462836,
     "end_time": "2023-10-30T13:13:49.222281",
     "exception": false,
     "start_time": "2023-10-30T13:13:48.759445",
     "status": "completed"
    },
    "tags": []
   },
   "outputs": [
    {
     "name": "stdout",
     "output_type": "stream",
     "text": [
      "20231030T141348 : amilcar22 : INFO : Inicio ver métricas\n"
     ]
    },
    {
     "name": "stdout",
     "output_type": "stream",
     "text": [
      "              precision    recall  f1-score   support\n",
      "\n",
      "           0       0.70      0.83      0.76        46\n",
      "           1       0.77      0.63      0.69        43\n",
      "\n",
      "    accuracy                           0.73        89\n",
      "   macro avg       0.74      0.73      0.73        89\n",
      "weighted avg       0.74      0.73      0.73        89\n",
      "\n",
      "\n",
      "\n",
      "   Exactitud: 0.7303\n",
      "   Precisión: 0.7376\n",
      "Sensibilidad: 0.7270\n",
      "    F1-score: 0.7262\n",
      "     AUC ROC: 0.8074\n"
     ]
    },
    {
     "data": {
      "image/png": "[encoded data removed]",
      "text/plain": [
       "<Figure size 300x100 with 2 Axes>"
      ]
     },
     "metadata": {},
     "output_type": "display_data"
    },
    {
     "data": {
      "image/png": "[encoded data removed]",
      "text/plain": [
       "<Figure size 800x500 with 1 Axes>"
      ]
     },
     "metadata": {},
     "output_type": "display_data"
    },
    {
     "name": "stdout",
     "output_type": "stream",
     "text": [
      "20231030T141349 : amilcar22 : INFO : Fin ver métricas\n"
     ]
    }
   ],
   "source": [
    "if M_TIPO.startswith(\"bin\"):\n",
    "    myfunc.ver_metricas(mejor_modelo, X_test, y_test)\n",
    "else:\n",
    "    myfunc.ver_metricas_multi(mejor_modelo, X_test, y_test)\n"
   ]
  },
  {
   "cell_type": "markdown",
   "id": "5e03d7a4",
   "metadata": {
    "papermill": {
     "duration": 0.003628,
     "end_time": "2023-10-30T13:13:49.230260",
     "exception": false,
     "start_time": "2023-10-30T13:13:49.226632",
     "status": "completed"
    },
    "tags": []
   },
   "source": [
    "#### Finalización del notebook"
   ]
  },
  {
   "cell_type": "code",
   "execution_count": 11,
   "id": "4f36b9f8",
   "metadata": {
    "execution": {
     "iopub.execute_input": "2023-10-30T13:13:49.238434Z",
     "iopub.status.busy": "2023-10-30T13:13:49.238234Z",
     "iopub.status.idle": "2023-10-30T13:13:49.241512Z",
     "shell.execute_reply": "2023-10-30T13:13:49.241098Z"
    },
    "papermill": {
     "duration": 0.008919,
     "end_time": "2023-10-30T13:13:49.242725",
     "exception": false,
     "start_time": "2023-10-30T13:13:49.233806",
     "status": "completed"
    },
    "tags": []
   },
   "outputs": [
    {
     "name": "stdout",
     "output_type": "stream",
     "text": [
      "20231030T141349 : amilcar22 : INFO : Notebook ha tardado 474 seconds\n"
     ]
    }
   ],
   "source": [
    "end_time = datetime.datetime.now()\n",
    "total_time = end_time - start_time\n",
    "myfunc.verbose(f\"Notebook ha tardado {total_time.seconds} seconds\")"
   ]
  },
  {
   "cell_type": "markdown",
   "id": "125695c9",
   "metadata": {
    "papermill": {
     "duration": 0.003788,
     "end_time": "2023-10-30T13:13:49.250492",
     "exception": false,
     "start_time": "2023-10-30T13:13:49.246704",
     "status": "completed"
    },
    "tags": []
   },
   "source": [
    "#### Guardar métricas"
   ]
  },
  {
   "cell_type": "code",
   "execution_count": 12,
   "id": "b63256a9",
   "metadata": {
    "execution": {
     "iopub.execute_input": "2023-10-30T13:13:49.258613Z",
     "iopub.status.busy": "2023-10-30T13:13:49.258414Z",
     "iopub.status.idle": "2023-10-30T13:13:49.516037Z",
     "shell.execute_reply": "2023-10-30T13:13:49.515522Z"
    },
    "papermill": {
     "duration": 0.263132,
     "end_time": "2023-10-30T13:13:49.517286",
     "exception": false,
     "start_time": "2023-10-30T13:13:49.254154",
     "status": "completed"
    },
    "tags": []
   },
   "outputs": [
    {
     "name": "stdout",
     "output_type": "stream",
     "text": [
      "20231030T141349 : amilcar22 : INFO : Inicio guardar métricas\n",
      "20231030T141349 : amilcar22 : INFO : Inicio leer fichero ../tfm_git/ejecuciones/metricas/metricas_6390.csv\n",
      "20231030T141349 : amilcar22 : INFO : Fin leer fichero ../tfm_git/ejecuciones/metricas/metricas_6390.csv\n"
     ]
    },
    {
     "name": "stdout",
     "output_type": "stream",
     "text": [
      "20231030T141349 : amilcar22 : INFO : Inicio guardar fichero ../tfm_git/ejecuciones/metricas/metricas_6390.csv\n"
     ]
    },
    {
     "name": "stdout",
     "output_type": "stream",
     "text": [
      "20231030T141349 : amilcar22 : INFO : Fichero borrado ../tfm_git/ejecuciones/metricas/metricas_6390.csv\n",
      "20231030T141349 : amilcar22 : INFO : Fin guardar fichero ../tfm_git/ejecuciones/metricas/metricas_6390.csv\n",
      "20231030T141349 : amilcar22 : INFO : Fin guardar métricas\n",
      "20231030T141349 : amilcar22 : INFO : Inicio leer fichero ../tfm_git/ejecuciones/metricas/metricas_6390.csv\n",
      "20231030T141349 : amilcar22 : INFO : Fin leer fichero ../tfm_git/ejecuciones/metricas/metricas_6390.csv\n"
     ]
    },
    {
     "data": {
      "text/html": [
       "<div>\n",
       "<style scoped>\n",
       "    .dataframe tbody tr th:only-of-type {\n",
       "        vertical-align: middle;\n",
       "    }\n",
       "\n",
       "    .dataframe tbody tr th {\n",
       "        vertical-align: top;\n",
       "    }\n",
       "\n",
       "    .dataframe thead th {\n",
       "        text-align: right;\n",
       "    }\n",
       "</style>\n",
       "<table border=\"1\" class=\"dataframe\">\n",
       "  <thead>\n",
       "    <tr style=\"text-align: right;\">\n",
       "      <th></th>\n",
       "      <th>tipo</th>\n",
       "      <th>select</th>\n",
       "      <th>clasific</th>\n",
       "      <th>semilla</th>\n",
       "      <th>accuracy</th>\n",
       "      <th>precision</th>\n",
       "      <th>recall</th>\n",
       "      <th>f1_score</th>\n",
       "      <th>roc_auc</th>\n",
       "      <th>hostname</th>\n",
       "      <th>total_time_sec</th>\n",
       "      <th>datetime</th>\n",
       "      <th>fichero_modelo</th>\n",
       "      <th>params</th>\n",
       "      <th>shape</th>\n",
       "      <th>features</th>\n",
       "    </tr>\n",
       "  </thead>\n",
       "  <tbody>\n",
       "    <tr>\n",
       "      <th>0</th>\n",
       "      <td>bin_s</td>\n",
       "      <td>RF</td>\n",
       "      <td>LR_L1</td>\n",
       "      <td>6390</td>\n",
       "      <td>0.730337</td>\n",
       "      <td>0.737566</td>\n",
       "      <td>0.726997</td>\n",
       "      <td>0.726154</td>\n",
       "      <td>0.807381</td>\n",
       "      <td>amilcar22</td>\n",
       "      <td>474</td>\n",
       "      <td>2023-10-30 14:13:49.492530</td>\n",
       "      <td>modelo_6390_bin_s_RF_LR_L1.pkl</td>\n",
       "      <td>{'selector__max_features': 1000, 'selector__es...</td>\n",
       "      <td>X_test:(89, 18875)</td>\n",
       "      <td>['ENSG00000000938.13', 'ENSG00000002587.10', '...</td>\n",
       "    </tr>\n",
       "    <tr>\n",
       "      <th>0</th>\n",
       "      <td>bin_s</td>\n",
       "      <td>RF</td>\n",
       "      <td>LR_EN</td>\n",
       "      <td>6390</td>\n",
       "      <td>0.707865</td>\n",
       "      <td>0.729885</td>\n",
       "      <td>0.702224</td>\n",
       "      <td>0.696803</td>\n",
       "      <td>0.807381</td>\n",
       "      <td>amilcar22</td>\n",
       "      <td>196</td>\n",
       "      <td>2023-10-30 14:05:48.878703</td>\n",
       "      <td>modelo_6390_bin_s_RF_LR_EN.pkl</td>\n",
       "      <td>{'selector__max_features': 500, 'selector__est...</td>\n",
       "      <td>X_test:(89, 18875)</td>\n",
       "      <td>['ENSG00000003987.14', 'ENSG00000007237.19', '...</td>\n",
       "    </tr>\n",
       "    <tr>\n",
       "      <th>0</th>\n",
       "      <td>bin_s</td>\n",
       "      <td>MI</td>\n",
       "      <td>SVM</td>\n",
       "      <td>6390</td>\n",
       "      <td>0.696629</td>\n",
       "      <td>0.708333</td>\n",
       "      <td>0.692113</td>\n",
       "      <td>0.688932</td>\n",
       "      <td>0.743175</td>\n",
       "      <td>amilcar22</td>\n",
       "      <td>84</td>\n",
       "      <td>2023-10-30 14:02:25.814334</td>\n",
       "      <td>modelo_6390_bin_s_MI_SVM.pkl</td>\n",
       "      <td>{'selector__k': 150, 'clasifier__kernel': 'rbf...</td>\n",
       "      <td>X_test:(89, 18875)</td>\n",
       "      <td>['ENSG00000003402.21', 'ENSG00000006712.15', '...</td>\n",
       "    </tr>\n",
       "  </tbody>\n",
       "</table>\n",
       "</div>"
      ],
      "text/plain": [
       "    tipo select clasific  semilla  accuracy  precision    recall  f1_score  \\\n",
       "0  bin_s     RF    LR_L1     6390  0.730337   0.737566  0.726997  0.726154   \n",
       "0  bin_s     RF    LR_EN     6390  0.707865   0.729885  0.702224  0.696803   \n",
       "0  bin_s     MI      SVM     6390  0.696629   0.708333  0.692113  0.688932   \n",
       "\n",
       "    roc_auc   hostname  total_time_sec                    datetime  \\\n",
       "0  0.807381  amilcar22             474  2023-10-30 14:13:49.492530   \n",
       "0  0.807381  amilcar22             196  2023-10-30 14:05:48.878703   \n",
       "0  0.743175  amilcar22              84  2023-10-30 14:02:25.814334   \n",
       "\n",
       "                   fichero_modelo  \\\n",
       "0  modelo_6390_bin_s_RF_LR_L1.pkl   \n",
       "0  modelo_6390_bin_s_RF_LR_EN.pkl   \n",
       "0    modelo_6390_bin_s_MI_SVM.pkl   \n",
       "\n",
       "                                              params               shape  \\\n",
       "0  {'selector__max_features': 1000, 'selector__es...  X_test:(89, 18875)   \n",
       "0  {'selector__max_features': 500, 'selector__est...  X_test:(89, 18875)   \n",
       "0  {'selector__k': 150, 'clasifier__kernel': 'rbf...  X_test:(89, 18875)   \n",
       "\n",
       "                                            features  \n",
       "0  ['ENSG00000000938.13', 'ENSG00000002587.10', '...  \n",
       "0  ['ENSG00000003987.14', 'ENSG00000007237.19', '...  \n",
       "0  ['ENSG00000003402.21', 'ENSG00000006712.15', '...  "
      ]
     },
     "metadata": {},
     "output_type": "display_data"
    }
   ],
   "source": [
    "if M_TIPO.startswith(\"bin\"):\n",
    "    myfunc.save_metricas_to_csv(random_search, X_test, y_test, M_TIPO, M_SELECT, M_CLASIF, total_time, SEMILLA, myfunc.MET_DIR, M_FICHERO, fichero_modelo)\n",
    "else:\n",
    "    myfunc.save_metricas_multi_to_csv(random_search, X_test, y_test, M_TIPO, M_SELECT, M_CLASIF, total_time, SEMILLA, myfunc.MET_DIR, M_FICHERO, fichero_modelo)\n",
    "\n",
    "df1=myfunc.read_metricas_to_df(myfunc.MET_DIR,M_FICHERO)\n",
    "\n",
    "display(df1.sort_values(\"datetime\", ascending=False)[:3])\n"
   ]
  },
  {
   "cell_type": "markdown",
   "id": "b24f81bb",
   "metadata": {
    "papermill": {
     "duration": 0.003997,
     "end_time": "2023-10-30T13:13:49.526014",
     "exception": false,
     "start_time": "2023-10-30T13:13:49.522017",
     "status": "completed"
    },
    "tags": []
   },
   "source": [
    "#### Guardar resultados"
   ]
  },
  {
   "cell_type": "code",
   "execution_count": 13,
   "id": "b8dd2432",
   "metadata": {
    "execution": {
     "iopub.execute_input": "2023-10-30T13:13:49.534864Z",
     "iopub.status.busy": "2023-10-30T13:13:49.534676Z",
     "iopub.status.idle": "2023-10-30T13:13:49.542643Z",
     "shell.execute_reply": "2023-10-30T13:13:49.542174Z"
    },
    "papermill": {
     "duration": 0.013832,
     "end_time": "2023-10-30T13:13:49.543781",
     "exception": false,
     "start_time": "2023-10-30T13:13:49.529949",
     "status": "completed"
    },
    "tags": []
   },
   "outputs": [
    {
     "name": "stdout",
     "output_type": "stream",
     "text": [
      "20231030T141349 : amilcar22 : INFO : Inicio guardar resultados\n",
      "20231030T141349 : amilcar22 : INFO : Inicio guardar fichero ../tfm_git/ejecuciones/metricas/resultados_6390_bin_s-RF-LR_L1.csv\n",
      "20231030T141349 : amilcar22 : INFO : Fin guardar fichero ../tfm_git/ejecuciones/metricas/resultados_6390_bin_s-RF-LR_L1.csv\n",
      "20231030T141349 : amilcar22 : INFO : Fin guardar resultados\n"
     ]
    }
   ],
   "source": [
    "fichero_resultados=R_FICHERO+\"_\"+M_TIPO+\"-\"+M_SELECT+\"-\"+M_CLASIF+\".csv\"\n",
    "myfunc.save_resultados_to_csv(M_TIPO, M_SELECT, M_CLASIF,  random_search, myfunc.MET_DIR, fichero_resultados)\n"
   ]
  }
 ],
 "metadata": {
  "kernelspec": {
   "display_name": "Python 3 (ipykernel)",
   "language": "python",
   "name": "python3"
  },
  "language_info": {
   "codemirror_mode": {
    "name": "ipython",
    "version": 3
   },
   "file_extension": ".py",
   "mimetype": "text/x-python",
   "name": "python",
   "nbconvert_exporter": "python",
   "pygments_lexer": "ipython3",
   "version": "3.10.12"
  },
  "papermill": {
   "default_parameters": {},
   "duration": 479.107733,
   "end_time": "2023-10-30T13:13:52.165366",
   "environment_variables": {},
   "exception": null,
   "input_path": "03_entrenamiento.ipynb",
   "output_path": "ejecuciones/training/03_entrenamiento.20231030T140552.param_0000_6390_bin_s_RF_LR_L1.output.ipynb",
   "parameters": {
    "MAX_ITERS": 500,
    "M_CLASIF": "LR_L1",
    "M_FICHERO": "metricas_6390",
    "M_SELECT": "RF",
    "M_TIPO": "bin_s",
    "PRE_DATA_FILE": "rows_transpose_norm_by_gene_id_with_target_num_",
    "P_FICHERO": "param_0000_6390_bin_s_RF_LR_L1.yaml",
    "R_FICHERO": "resultados_6390",
    "SCORING": "roc_auc_ovr",
    "SEMILLA": 6390,
    "eval_clasifier": "LogisticRegressionCV(random_state=SEMILLA)",
    "eval_selector": "SelectFromModel(estimator=RandomForestClassifier(random_state=SEMILLA), threshold=-np.inf)",
    "param_distributions": {
     "clasifier__max_iter": [
      10000
     ],
     "clasifier__penalty": [
      "l1"
     ],
     "clasifier__solver": [
      "saga"
     ],
     "selector__estimator__n_estimators": [
      100
     ],
     "selector__max_features": [
      1000
     ]
    }
   },
   "start_time": "2023-10-30T13:05:53.057633",
   "version": "2.4.0"
  }
 },
 "nbformat": 4,
 "nbformat_minor": 5
}