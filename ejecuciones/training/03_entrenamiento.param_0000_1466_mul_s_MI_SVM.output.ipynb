{
 "cells": [
  {
   "cell_type": "markdown",
   "id": "488c6371",
   "metadata": {
    "papermill": {
     "duration": 0.004455,
     "end_time": "2023-10-30T04:11:56.139753",
     "exception": false,
     "start_time": "2023-10-30T04:11:56.135298",
     "status": "completed"
    },
    "tags": []
   },
   "source": [
    "##### Inicio"
   ]
  },
  {
   "cell_type": "markdown",
   "id": "11dd989e",
   "metadata": {
    "papermill": {
     "duration": 0.003501,
     "end_time": "2023-10-30T04:11:56.147051",
     "exception": false,
     "start_time": "2023-10-30T04:11:56.143550",
     "status": "completed"
    },
    "tags": []
   },
   "source": [
    "#### Carga de datos"
   ]
  },
  {
   "cell_type": "code",
   "execution_count": 1,
   "id": "a0d50374",
   "metadata": {
    "execution": {
     "iopub.execute_input": "2023-10-30T04:11:56.155467Z",
     "iopub.status.busy": "2023-10-30T04:11:56.155218Z",
     "iopub.status.idle": "2023-10-30T04:11:57.028008Z",
     "shell.execute_reply": "2023-10-30T04:11:57.027537Z"
    },
    "papermill": {
     "duration": 0.878601,
     "end_time": "2023-10-30T04:11:57.029286",
     "exception": false,
     "start_time": "2023-10-30T04:11:56.150685",
     "status": "completed"
    },
    "tags": []
   },
   "outputs": [
    {
     "name": "stdout",
     "output_type": "stream",
     "text": [
      "CPU_COUNT: 8; NODE: amilcar22; sys.version: 3.10.12 (main, Jul  5 2023, 19:22:19) [GCC 11.2.0]\n",
      "LOKY_MAX_CPU_COUNT: 6\n",
      "OMP_NUM_THREADS: 2\n"
     ]
    }
   ],
   "source": [
    "import os\n",
    "import numpy as np\n",
    "import pandas as pd\n",
    "import datetime\n",
    "import sklearn\n",
    "import logging\n",
    "import warnings\n",
    "\n",
    "from sklearn.pipeline import Pipeline\n",
    "from sklearn.model_selection import RandomizedSearchCV, KFold, cross_val_score, train_test_split\n",
    "from sklearn.metrics import accuracy_score, confusion_matrix, classification_report, roc_auc_score\n",
    "\n",
    "#  cargar algoritmos para aprendizaje supervisado\n",
    "from sklearn.feature_selection import SelectKBest, f_classif, SelectFromModel, mutual_info_classif\n",
    "from sklearn.svm import SVC\n",
    "from sklearn.ensemble import RandomForestClassifier\n",
    "from sklearn.linear_model import LogisticRegression,LogisticRegressionCV\n",
    "\n",
    "# importar fichero con utilidades propias\n",
    "from commons import myfunctions as myfunc\n"
   ]
  },
  {
   "cell_type": "markdown",
   "id": "da23fec4",
   "metadata": {
    "papermill": {
     "duration": 0.00251,
     "end_time": "2023-10-30T04:11:57.034717",
     "exception": false,
     "start_time": "2023-10-30T04:11:57.032207",
     "status": "completed"
    },
    "tags": []
   },
   "source": [
    "#### Parámetros a utilizar en el entrenamiento.\n",
    "\n",
    "Se indican los 3 algoritmos de *selección de características* (eval_selector_xxx) y los 3 algoritmos para la _clasificación_ (eval_clasifier_xxx)\n",
    "\n",
    "En *param_distributions* se indicar los parámetros que utilizan los algoritmos en la función RandomSearchCV.\n",
    "\n",
    "Esta celda tiene la etiqueta **parameters** que servirá para poder lanzar los entrenamientos con la utilidad **papermill** pasándole un fichero con los parámetros. Los nuevos parámetros se situarán tras esta celda para tener prevalencia."
   ]
  },
  {
   "cell_type": "code",
   "execution_count": 2,
   "id": "81182a16",
   "metadata": {
    "execution": {
     "iopub.execute_input": "2023-10-30T04:11:57.040678Z",
     "iopub.status.busy": "2023-10-30T04:11:57.040374Z",
     "iopub.status.idle": "2023-10-30T04:11:57.047217Z",
     "shell.execute_reply": "2023-10-30T04:11:57.046805Z"
    },
    "papermill": {
     "duration": 0.011224,
     "end_time": "2023-10-30T04:11:57.048406",
     "exception": false,
     "start_time": "2023-10-30T04:11:57.037182",
     "status": "completed"
    },
    "tags": [
     "parameters"
    ]
   },
   "outputs": [
    {
     "name": "stdout",
     "output_type": "stream",
     "text": [
      "20231030T051157 : amilcar22 : INFO : Utilizando parámetros de mul_m\n"
     ]
    }
   ],
   "source": [
    "#  Parametros para el entrenamiento\n",
    "\n",
    "SEMILLA=        42\n",
    "M_TIPO=         \"mul_m\"\n",
    "M_SELECT=       \"MI\"\n",
    "M_CLASIF=       \"SVM\"\n",
    "R_FICHERO=      \"resultados\"\n",
    "M_FICHERO=      \"metricas\"\n",
    "PRE_DATA_FILE=  \"rows_transpose_norm_by_gene_id_with_target_num_\"\n",
    "SCORING=        \"roc_auc_ovr\" \n",
    "MAX_ITERS=      100\n",
    "\n",
    "def mutual_info_classif_state(X, y):\n",
    "    return mutual_info_classif(X, y, random_state=SEMILLA)\n",
    "\n",
    "eval_selector_mi = \"SelectKBest(score_func=mutual_info_classif_state)\"\n",
    "eval_selector_rf=  \"SelectFromModel(estimator=RandomForestClassifier(random_state=SEMILLA), threshold=-np.inf)\"\n",
    "eval_selector_anova=  \"SelectKBest(score_func=f_classif)\"\n",
    "\n",
    "eval_clasifier_svm= \"SVC(probability=True, random_state=SEMILLA)\"\n",
    "eval_clasifier_rf= \"RandomForestClassifier(random_state=SEMILLA)\"\n",
    "eval_clasifier_lr= \"LogisticRegressionCV(random_state=SEMILLA)\"\n",
    "\n",
    "if M_TIPO.startswith(\"bin_m\"):\n",
    "    myfunc.verbose(f\"Utilizando parámetros de {M_TIPO}\")\n",
    "    eval_selector = eval_selector_mi\n",
    "    eval_clasifier = eval_clasifier_svm\n",
    "\n",
    "    SEMILLA = 6578\n",
    "    M_SELECT = \"MI\"\n",
    "    M_CLASIF = \"SVM\"\n",
    "    param_distributions = {'selector__k': [1000], \n",
    "         'clasifier__kernel': ['rbf'], 'clasifier__gamma': [0.01], 'clasifier__C': [100]}\n",
    "elif M_TIPO.startswith(\"bin_s\"):\n",
    "    myfunc.verbose(f\"Utilizando parámetros de {M_TIPO}\")\n",
    "    eval_selector = eval_selector_rf\n",
    "    eval_clasifier = eval_clasifier_lr\n",
    "\n",
    "    SEMILLA = 6191\n",
    "    M_SELECT = \"RF\"\n",
    "    M_CLASIF = \"LR_L2\"\n",
    "    param_distributions = {'selector__max_features': [1000], 'selector__estimator__n_estimators': [200], \n",
    "        'clasifier__solver': ['lbfgs'], 'clasifier__penalty': ['l2'], 'clasifier__max_iter': [10000]}\n",
    "\n",
    "elif M_TIPO.startswith(\"mul_m\"):\n",
    "    myfunc.verbose(f\"Utilizando parámetros de {M_TIPO}\")\n",
    " \n",
    "    eval_selector = eval_selector_rf\n",
    "    eval_clasifier = eval_clasifier_lr\n",
    "\n",
    "    SEMILLA = 6191\n",
    "    M_SELECT = \"RF\"\n",
    "    M_CLASIF = \"LR_L2\"\n",
    "    param_distributions = {'selector__max_features': [1000], 'selector__estimator__n_estimators': [400], \n",
    "        'clasifier__solver': ['lbfgs'], 'clasifier__penalty': ['l2'], 'clasifier__max_iter': [10000]}\n",
    "\n",
    "else:\n",
    "    # M_TIPO.startswith(\"mul_s\"):\n",
    "    myfunc.verbose(f\"Utilizando parámetros de {M_TIPO}\")\n",
    "    eval_selector = eval_selector_anova\n",
    "    eval_clasifier = eval_clasifier_lr\n",
    "\n",
    "    SEMILLA = 1860\n",
    "    M_SELECT = \"ANOVA\"\n",
    "    M_CLASIF = \"LR_L2\"\n",
    "    param_distributions = {'selector__k': [1000], \n",
    "        'clasifier__solver': ['saga'], 'clasifier__penalty': ['l2'], 'clasifier__max_iter': [10000]}\n",
    "\n"
   ]
  },
  {
   "cell_type": "code",
   "execution_count": 3,
   "id": "597574b3",
   "metadata": {
    "execution": {
     "iopub.execute_input": "2023-10-30T04:11:57.054545Z",
     "iopub.status.busy": "2023-10-30T04:11:57.054342Z",
     "iopub.status.idle": "2023-10-30T04:11:57.057932Z",
     "shell.execute_reply": "2023-10-30T04:11:57.057516Z"
    },
    "papermill": {
     "duration": 0.007901,
     "end_time": "2023-10-30T04:11:57.059092",
     "exception": false,
     "start_time": "2023-10-30T04:11:57.051191",
     "status": "completed"
    },
    "tags": [
     "injected-parameters"
    ]
   },
   "outputs": [],
   "source": [
    "# Parameters\n",
    "M_TIPO = \"mul_s\"\n",
    "M_SELECT = \"MI\"\n",
    "M_CLASIF = \"SVM\"\n",
    "P_FICHERO = \"param_0000_1466_mul_s_MI_SVM.yaml\"\n",
    "R_FICHERO = \"resultados_1466\"\n",
    "M_FICHERO = \"metricas_1466\"\n",
    "PRE_DATA_FILE = \"rows_transpose_norm_by_gene_id_with_target_num_\"\n",
    "SCORING = \"roc_auc_ovr\"\n",
    "SEMILLA = 1466\n",
    "MAX_ITERS = 500\n",
    "eval_selector = \"SelectKBest(score_func=mutual_info_classif_state)\"\n",
    "eval_clasifier = \"SVC(probability=True, random_state=SEMILLA)\"\n",
    "param_distributions = {\n",
    "    \"selector__k\": [1000],\n",
    "    \"clasifier__kernel\": [\"rbf\"],\n",
    "    \"clasifier__gamma\": [0.001],\n",
    "    \"clasifier__C\": [100],\n",
    "}\n"
   ]
  },
  {
   "cell_type": "code",
   "execution_count": 4,
   "id": "6406d39f",
   "metadata": {
    "execution": {
     "iopub.execute_input": "2023-10-30T04:11:57.065269Z",
     "iopub.status.busy": "2023-10-30T04:11:57.065094Z",
     "iopub.status.idle": "2023-10-30T04:11:57.067954Z",
     "shell.execute_reply": "2023-10-30T04:11:57.067513Z"
    },
    "papermill": {
     "duration": 0.007251,
     "end_time": "2023-10-30T04:11:57.069110",
     "exception": false,
     "start_time": "2023-10-30T04:11:57.061859",
     "status": "completed"
    },
    "tags": []
   },
   "outputs": [],
   "source": [
    "DATA_FILE = PRE_DATA_FILE + M_TIPO\n",
    "\n",
    "# si viene \"None\" en el parámetro max_depth, se le quitan las comillas para que no sea entendido por el algoritmo como un texto\n",
    "if \"clasifier__max_depth\" in param_distributions:\n",
    "    param_distributions['clasifier__max_depth'] = [None if x == 'None' else x for x in param_distributions['clasifier__max_depth']]"
   ]
  },
  {
   "cell_type": "markdown",
   "id": "d97deed1",
   "metadata": {
    "papermill": {
     "duration": 0.0027,
     "end_time": "2023-10-30T04:11:57.074605",
     "exception": false,
     "start_time": "2023-10-30T04:11:57.071905",
     "status": "completed"
    },
    "tags": []
   },
   "source": [
    "Asignar los algoritmos que se utilizarán en la función RandomSearchCV"
   ]
  },
  {
   "cell_type": "code",
   "execution_count": 5,
   "id": "10c0d397",
   "metadata": {
    "execution": {
     "iopub.execute_input": "2023-10-30T04:11:57.080753Z",
     "iopub.status.busy": "2023-10-30T04:11:57.080586Z",
     "iopub.status.idle": "2023-10-30T04:11:57.083271Z",
     "shell.execute_reply": "2023-10-30T04:11:57.082798Z"
    },
    "papermill": {
     "duration": 0.00712,
     "end_time": "2023-10-30T04:11:57.084493",
     "exception": false,
     "start_time": "2023-10-30T04:11:57.077373",
     "status": "completed"
    },
    "tags": []
   },
   "outputs": [],
   "source": [
    "algor_selector=eval(eval_selector)\n",
    "algor_clasifier=eval(eval_clasifier)"
   ]
  },
  {
   "cell_type": "markdown",
   "id": "9b9138ca",
   "metadata": {
    "papermill": {
     "duration": 0.003228,
     "end_time": "2023-10-30T04:11:57.090936",
     "exception": false,
     "start_time": "2023-10-30T04:11:57.087708",
     "status": "completed"
    },
    "tags": []
   },
   "source": [
    "#### Comprobar el entorno y leer fichero de muestras"
   ]
  },
  {
   "cell_type": "code",
   "execution_count": 6,
   "id": "7f2d0df5",
   "metadata": {
    "execution": {
     "iopub.execute_input": "2023-10-30T04:11:57.098094Z",
     "iopub.status.busy": "2023-10-30T04:11:57.097907Z",
     "iopub.status.idle": "2023-10-30T04:11:57.224108Z",
     "shell.execute_reply": "2023-10-30T04:11:57.223483Z"
    },
    "papermill": {
     "duration": 0.131283,
     "end_time": "2023-10-30T04:11:57.225405",
     "exception": false,
     "start_time": "2023-10-30T04:11:57.094122",
     "status": "completed"
    },
    "tags": []
   },
   "outputs": [
    {
     "name": "stdout",
     "output_type": "stream",
     "text": [
      "20231030T051157 : amilcar22 : INFO : Encontrada carpeta DATA_DIR=../tfm_git/datos\n",
      "20231030T051157 : amilcar22 : INFO : Encontrada carpeta CFDNA_DIR=../tfm_git/datos/cfDNA_5hmC\n",
      "20231030T051157 : amilcar22 : INFO : Encontrada carpeta GENCODE_DIR=../tfm_git/datos/gencode\n",
      "20231030T051157 : amilcar22 : INFO : Encontrada carpeta H5_DIR=../tfm_git/datos/h5\n",
      "20231030T051157 : amilcar22 : INFO : Encontrada carpeta LOG_DIR=../tfm_git/datos/logs\n",
      "20231030T051157 : amilcar22 : INFO : Encontrada carpeta CSV_DIR=../tfm_git/datos/csv\n",
      "20231030T051157 : amilcar22 : INFO : Encontrada carpeta MODEL_DIR=../tfm_git/ejecuciones/modelos\n",
      "20231030T051157 : amilcar22 : INFO : Encontrada carpeta EXEC_DIR=../tfm_git/ejecuciones\n",
      "20231030T051157 : amilcar22 : INFO : Encontrada carpeta MET_DIR=../tfm_git/ejecuciones/metricas\n",
      "20231030T051157 : amilcar22 : INFO : Inicio leer fichero h5 ../tfm_git/datos/h5/rows_transpose_norm_by_gene_id_with_target_num_mul_s.h5\n",
      "20231030T051157 : amilcar22 : INFO : Leyendo clave /df\n",
      "20231030T051157 : amilcar22 : INFO : Tamaño (259, 18876)\n",
      "20231030T051157 : amilcar22 : INFO : Fin leer fichero h5 ../tfm_git/datos/h5/rows_transpose_norm_by_gene_id_with_target_num_mul_s.h5\n"
     ]
    },
    {
     "data": {
      "text/plain": [
       "target\n",
       "0    37\n",
       "1    37\n",
       "2    37\n",
       "3    37\n",
       "4    37\n",
       "5    37\n",
       "6    37\n",
       "dtype: int64"
      ]
     },
     "metadata": {},
     "output_type": "display_data"
    },
    {
     "name": "stdout",
     "output_type": "stream",
     "text": [
      "Shape df: (259, 18876)\n",
      "Shape X_train: (207, 18875)\n",
      "Shape X_test: (52, 18875)\n"
     ]
    }
   ],
   "source": [
    "start_time = datetime.datetime.now()\n",
    "\n",
    "myfunc.reset_vars()\n",
    "\n",
    "myfunc.NOTEBK_FILENAME = myfunc.get_nb_name()\n",
    "\n",
    "myfunc.check_enviroment(myfunc.DATA_DIR, myfunc.CFDNA_DIR, myfunc.GENCODE_DIR, myfunc.H5_DIR, myfunc.LOG_DIR, myfunc.CSV_DIR, myfunc.MODEL_DIR, myfunc.EXEC_DIR, myfunc.MET_DIR)\n",
    "\n",
    "# Leer fichero con las muestras\n",
    "df_t = myfunc.read_h5_to_df(DATA_FILE, myfunc.H5_DIR)\n",
    "display(df_t.groupby(\"target\").size())\n",
    "print(\"Shape df:\",df_t.shape)\n",
    "\n",
    "# Separar caracteristicas/genes de las etiquetas/tipos de cáncer\n",
    "X = df_t.iloc[:, :-1]  # Todas las columnas excepto la última\n",
    "y = df_t.iloc[:, -1]  # La última columna contiene los identificadores de los tipos de cáncer\n",
    "\n",
    "#  Crear el conjunto de datos de entrenamiento y de pruebas, y se fija la semilla para siempre coger el mismo juego de muestras\n",
    "X_train, X_test, y_train, y_test = train_test_split(X, y, test_size=0.2, shuffle=True, random_state=42)\n",
    "print(\"Shape X_train:\",X_train.shape)\n",
    "print(\"Shape X_test:\",X_test.shape)\n"
   ]
  },
  {
   "cell_type": "markdown",
   "id": "f13d1e57",
   "metadata": {
    "papermill": {
     "duration": 0.002702,
     "end_time": "2023-10-30T04:11:57.231539",
     "exception": false,
     "start_time": "2023-10-30T04:11:57.228837",
     "status": "completed"
    },
    "tags": []
   },
   "source": [
    "#### Selección de características y clasificación."
   ]
  },
  {
   "cell_type": "code",
   "execution_count": 7,
   "id": "e1ca7e93",
   "metadata": {
    "execution": {
     "iopub.execute_input": "2023-10-30T04:11:57.238014Z",
     "iopub.status.busy": "2023-10-30T04:11:57.237815Z",
     "iopub.status.idle": "2023-10-30T04:15:07.115985Z",
     "shell.execute_reply": "2023-10-30T04:15:07.115388Z"
    },
    "papermill": {
     "duration": 189.885305,
     "end_time": "2023-10-30T04:15:07.119630",
     "exception": false,
     "start_time": "2023-10-30T04:11:57.234325",
     "status": "completed"
    },
    "tags": []
   },
   "outputs": [
    {
     "name": "stdout",
     "output_type": "stream",
     "text": [
      "20231030T051157 : amilcar22 : INFO : Iniciando entrenamiento\n",
      "num_iter: 1 , max_iter: 1\n"
     ]
    },
    {
     "name": "stdout",
     "output_type": "stream",
     "text": [
      "Fitting 5 folds for each of 1 candidates, totalling 5 fits\n"
     ]
    },
    {
     "name": "stdout",
     "output_type": "stream",
     "text": [
      "Mejores Hiperparámetros: {'selector__k': 1000, 'clasifier__kernel': 'rbf', 'clasifier__gamma': 0.001, 'clasifier__C': 100}\n",
      "Mejor Puntuación: 0.7487\n",
      "20231030T051507 : amilcar22 : INFO : Fin entrenamiento\n"
     ]
    }
   ],
   "source": [
    "myfunc.verbose(\"Iniciando entrenamiento\")\n",
    "\n",
    "kf = KFold(n_splits=5, shuffle=True, random_state=SEMILLA)\n",
    "\n",
    "# Crear el pipeline para el flujo de tareas\n",
    "tasks_pipeline = Pipeline([\n",
    "    ('selector', algor_selector),\n",
    "    ('clasifier', algor_clasifier)\n",
    "])\n",
    "\n",
    "# MAX_ITERS puede limitar el número de iteraciones si son excesivas para las combinaciones de parámetros buscando un óptimo local, \n",
    "# sino funcionaría como GridSearchCV al revisar todas las cominaciones de los parámetros\n",
    "num_iteraciones = 1\n",
    "num_iteraciones = num_iteraciones * np.prod([len(elemento1) for _, elemento1 in param_distributions.items()])\n",
    "max_iteraciones = num_iteraciones if num_iteraciones <= MAX_ITERS else MAX_ITERS\n",
    "print(\"num_iter:\",num_iteraciones,\", max_iter:\",max_iteraciones)\n",
    "\n",
    "random_search = RandomizedSearchCV(\n",
    "    tasks_pipeline, \n",
    "    param_distributions, \n",
    "    n_iter=max_iteraciones,\n",
    "    scoring=SCORING,\n",
    "    cv=kf,\n",
    "    verbose=3, \n",
    "    random_state=SEMILLA, \n",
    "    n_jobs=-1\n",
    "    )\n",
    "\n",
    "# Entrenar el modelo\n",
    "random_search.fit(X_train, y_train)\n",
    "\n",
    "# Ver los mejores hiperparámetros encontrados\n",
    "print(f'Mejores Hiperparámetros: {random_search.best_params_}')\n",
    "print(f'Mejor Puntuación: {random_search.best_score_:.4f}')\n",
    "\n",
    "# Nos quedamos con el mejor modelo para ver las métricas\n",
    "mejor_modelo = random_search.best_estimator_\n",
    "\n",
    "myfunc.verbose(\"Fin entrenamiento\")"
   ]
  },
  {
   "cell_type": "markdown",
   "id": "8e2811e3",
   "metadata": {
    "papermill": {
     "duration": 0.002902,
     "end_time": "2023-10-30T04:15:07.125505",
     "exception": false,
     "start_time": "2023-10-30T04:15:07.122603",
     "status": "completed"
    },
    "tags": []
   },
   "source": [
    "#### Guardar modelo"
   ]
  },
  {
   "cell_type": "code",
   "execution_count": 8,
   "id": "1571f8e3",
   "metadata": {
    "execution": {
     "iopub.execute_input": "2023-10-30T04:15:07.132484Z",
     "iopub.status.busy": "2023-10-30T04:15:07.132259Z",
     "iopub.status.idle": "2023-10-30T04:15:07.141105Z",
     "shell.execute_reply": "2023-10-30T04:15:07.140537Z"
    },
    "papermill": {
     "duration": 0.013703,
     "end_time": "2023-10-30T04:15:07.142385",
     "exception": false,
     "start_time": "2023-10-30T04:15:07.128682",
     "status": "completed"
    },
    "tags": []
   },
   "outputs": [
    {
     "name": "stdout",
     "output_type": "stream",
     "text": [
      "20231030T051507 : amilcar22 : INFO : Inicio guardar fichero ../tfm_git/ejecuciones/modelos/modelo_1466_mul_s_MI_SVM.pkl\n",
      "20231030T051507 : amilcar22 : INFO : Fin guardar fichero ../tfm_git/ejecuciones/modelos/modelo_1466_mul_s_MI_SVM.pkl\n"
     ]
    }
   ],
   "source": [
    "fichero_modelo = str.replace(\"modelo_\"+str(SEMILLA).zfill(4)+\"_\"+M_TIPO+\"_\"+M_SELECT+\"_\"+M_CLASIF+\".pkl\", \" \", \"_\")\n",
    "\n",
    "myfunc.save_modelo(mejor_modelo, myfunc.MODEL_DIR, fichero_modelo)"
   ]
  },
  {
   "cell_type": "markdown",
   "id": "c9fa372a",
   "metadata": {
    "papermill": {
     "duration": 0.003103,
     "end_time": "2023-10-30T04:15:07.148827",
     "exception": false,
     "start_time": "2023-10-30T04:15:07.145724",
     "status": "completed"
    },
    "tags": []
   },
   "source": [
    "#### Ver resultados del las iteraciones hechas por RandomSearchCV"
   ]
  },
  {
   "cell_type": "code",
   "execution_count": 9,
   "id": "f6f1a77e",
   "metadata": {
    "execution": {
     "iopub.execute_input": "2023-10-30T04:15:07.155626Z",
     "iopub.status.busy": "2023-10-30T04:15:07.155441Z",
     "iopub.status.idle": "2023-10-30T04:15:07.161349Z",
     "shell.execute_reply": "2023-10-30T04:15:07.160880Z"
    },
    "papermill": {
     "duration": 0.010813,
     "end_time": "2023-10-30T04:15:07.162567",
     "exception": false,
     "start_time": "2023-10-30T04:15:07.151754",
     "status": "completed"
    },
    "tags": []
   },
   "outputs": [
    {
     "name": "stdout",
     "output_type": "stream",
     "text": [
      "20231030T051507 : amilcar22 : INFO : Inicio ver resultados\n",
      "Mejores Hiperparámetros: {'selector__k': 1000, 'clasifier__kernel': 'rbf', 'clasifier__gamma': 0.001, 'clasifier__C': 100}\n",
      "Mejores puntuaciones: 0.7487 | Params: {'selector__k': 1000, 'clasifier__kernel': 'rbf', 'clasifier__gamma': 0.001, 'clasifier__C': 100}\n",
      "Media de las puntuaciones: 0.7487 | Params: {'selector__k': 1000, 'clasifier__kernel': 'rbf', 'clasifier__gamma': 0.001, 'clasifier__C': 100}\n",
      "20231030T051507 : amilcar22 : INFO : Fin resultados\n"
     ]
    }
   ],
   "source": [
    "myfunc.ver_resultados_search(random_search)"
   ]
  },
  {
   "cell_type": "markdown",
   "id": "63e250c4",
   "metadata": {
    "papermill": {
     "duration": 0.003458,
     "end_time": "2023-10-30T04:15:07.169600",
     "exception": false,
     "start_time": "2023-10-30T04:15:07.166142",
     "status": "completed"
    },
    "tags": []
   },
   "source": [
    "#### Ver métricas del mejor modelo"
   ]
  },
  {
   "cell_type": "code",
   "execution_count": 10,
   "id": "34087e00",
   "metadata": {
    "execution": {
     "iopub.execute_input": "2023-10-30T04:15:07.177454Z",
     "iopub.status.busy": "2023-10-30T04:15:07.177253Z",
     "iopub.status.idle": "2023-10-30T04:15:07.793905Z",
     "shell.execute_reply": "2023-10-30T04:15:07.793485Z"
    },
    "papermill": {
     "duration": 0.622099,
     "end_time": "2023-10-30T04:15:07.795193",
     "exception": false,
     "start_time": "2023-10-30T04:15:07.173094",
     "status": "completed"
    },
    "tags": []
   },
   "outputs": [
    {
     "name": "stdout",
     "output_type": "stream",
     "text": [
      "20231030T051507 : amilcar22 : INFO : Inicio ver métricas multiclase\n"
     ]
    },
    {
     "name": "stdout",
     "output_type": "stream",
     "text": [
      "              precision    recall  f1-score   support\n",
      "\n",
      "           0       0.33      0.18      0.24        11\n",
      "           1       0.80      0.50      0.62         8\n",
      "           2       0.00      0.00      0.00         8\n",
      "           3       0.29      0.40      0.33         5\n",
      "           4       0.67      1.00      0.80         8\n",
      "           5       0.67      0.67      0.67         6\n",
      "           6       0.11      0.17      0.13         6\n",
      "\n",
      "    accuracy                           0.40        52\n",
      "   macro avg       0.41      0.42      0.40        52\n",
      "weighted avg       0.41      0.40      0.39        52\n",
      "\n",
      "\n",
      "\n",
      "           Exactitud: 0.403846\n",
      "   Precisión (media): 0.409070\n",
      "      Recall (media): 0.416450\n",
      "    F1-score (media): 0.397716\n",
      "\n",
      "\n",
      "AUC para el tipo de cáncer 0-Control.... 0.5322\n",
      "AUC para el tipo de cáncer 1-Bladder.... 0.8494\n"
     ]
    },
    {
     "name": "stdout",
     "output_type": "stream",
     "text": [
      "AUC para el tipo de cáncer 2-Breast..... 0.6648\n",
      "AUC para el tipo de cáncer 3-Colorectal. 0.6894\n",
      "AUC para el tipo de cáncer 4-Kidney..... 0.9744\n",
      "AUC para el tipo de cáncer 5-Lung....... 0.8370\n",
      "AUC para el tipo de cáncer 6-Prostate... 0.7826\n",
      "\n",
      "Media de AUC: 0.7614\n"
     ]
    },
    {
     "data": {
      "image/png": "[encoded data removed]",
      "text/plain": [
       "<Figure size 1000x600 with 1 Axes>"
      ]
     },
     "metadata": {},
     "output_type": "display_data"
    },
    {
     "name": "stdout",
     "output_type": "stream",
     "text": [
      "\n",
      "\n"
     ]
    },
    {
     "data": {
      "image/png": "[encoded data removed]",
      "text/plain": [
       "<Figure size 800x400 with 2 Axes>"
      ]
     },
     "metadata": {},
     "output_type": "display_data"
    },
    {
     "name": "stdout",
     "output_type": "stream",
     "text": [
      "\n",
      "\n",
      "Puntuación Jaccard para el cáncer tipo 0-Control.... 0.1333\n",
      "Puntuación Jaccard para el cáncer tipo 1-Bladder.... 0.4444\n",
      "Puntuación Jaccard para el cáncer tipo 2-Breast..... 0.0000\n",
      "Puntuación Jaccard para el cáncer tipo 3-Colorectal. 0.2000\n",
      "Puntuación Jaccard para el cáncer tipo 4-Kidney..... 0.6667\n",
      "Puntuación Jaccard para el cáncer tipo 5-Lung....... 0.5000\n",
      "Puntuación Jaccard para el cáncer tipo 6-Prostate... 0.0714\n",
      "\n",
      "Media de la puntuación de Jaccard: 0.2880\n"
     ]
    }
   ],
   "source": [
    "if M_TIPO.startswith(\"bin\"):\n",
    "    myfunc.ver_metricas(mejor_modelo, X_test, y_test)\n",
    "else:\n",
    "    myfunc.ver_metricas_multi(mejor_modelo, X_test, y_test)\n"
   ]
  },
  {
   "cell_type": "markdown",
   "id": "c6ea6f70",
   "metadata": {
    "papermill": {
     "duration": 0.00408,
     "end_time": "2023-10-30T04:15:07.804033",
     "exception": false,
     "start_time": "2023-10-30T04:15:07.799953",
     "status": "completed"
    },
    "tags": []
   },
   "source": [
    "#### Finalización del notebook"
   ]
  },
  {
   "cell_type": "code",
   "execution_count": 11,
   "id": "9548cb85",
   "metadata": {
    "execution": {
     "iopub.execute_input": "2023-10-30T04:15:07.813000Z",
     "iopub.status.busy": "2023-10-30T04:15:07.812798Z",
     "iopub.status.idle": "2023-10-30T04:15:07.815850Z",
     "shell.execute_reply": "2023-10-30T04:15:07.815438Z"
    },
    "papermill": {
     "duration": 0.009,
     "end_time": "2023-10-30T04:15:07.817069",
     "exception": false,
     "start_time": "2023-10-30T04:15:07.808069",
     "status": "completed"
    },
    "tags": []
   },
   "outputs": [
    {
     "name": "stdout",
     "output_type": "stream",
     "text": [
      "20231030T051507 : amilcar22 : INFO : Notebook ha tardado 190 seconds\n"
     ]
    }
   ],
   "source": [
    "end_time = datetime.datetime.now()\n",
    "total_time = end_time - start_time\n",
    "myfunc.verbose(f\"Notebook ha tardado {total_time.seconds} seconds\")"
   ]
  },
  {
   "cell_type": "markdown",
   "id": "40b3e420",
   "metadata": {
    "papermill": {
     "duration": 0.004087,
     "end_time": "2023-10-30T04:15:07.825578",
     "exception": false,
     "start_time": "2023-10-30T04:15:07.821491",
     "status": "completed"
    },
    "tags": []
   },
   "source": [
    "#### Guardar métricas"
   ]
  },
  {
   "cell_type": "code",
   "execution_count": 12,
   "id": "12d6738d",
   "metadata": {
    "execution": {
     "iopub.execute_input": "2023-10-30T04:15:07.834574Z",
     "iopub.status.busy": "2023-10-30T04:15:07.834389Z",
     "iopub.status.idle": "2023-10-30T04:15:08.032316Z",
     "shell.execute_reply": "2023-10-30T04:15:08.031883Z"
    },
    "papermill": {
     "duration": 0.203918,
     "end_time": "2023-10-30T04:15:08.033603",
     "exception": false,
     "start_time": "2023-10-30T04:15:07.829685",
     "status": "completed"
    },
    "tags": []
   },
   "outputs": [
    {
     "name": "stdout",
     "output_type": "stream",
     "text": [
      "20231030T051507 : amilcar22 : INFO : Inicio guardar métricas multiclase\n",
      "20231030T051507 : amilcar22 : INFO : Inicio leer fichero ../tfm_git/ejecuciones/metricas/metricas_1466.csv\n",
      "20231030T051507 : amilcar22 : INFO : Fin leer fichero ../tfm_git/ejecuciones/metricas/metricas_1466.csv\n"
     ]
    },
    {
     "name": "stdout",
     "output_type": "stream",
     "text": [
      "20231030T051508 : amilcar22 : INFO : Inicio guardar fichero ../tfm_git/ejecuciones/metricas/metricas_1466.csv\n",
      "20231030T051508 : amilcar22 : INFO : Fichero borrado ../tfm_git/ejecuciones/metricas/metricas_1466.csv\n",
      "20231030T051508 : amilcar22 : INFO : Fin guardar fichero ../tfm_git/ejecuciones/metricas/metricas_1466.csv\n",
      "20231030T051508 : amilcar22 : INFO : Fin guardar métricas multiclase\n",
      "20231030T051508 : amilcar22 : INFO : Inicio leer fichero ../tfm_git/ejecuciones/metricas/metricas_1466.csv\n"
     ]
    },
    {
     "name": "stdout",
     "output_type": "stream",
     "text": [
      "20231030T051508 : amilcar22 : INFO : Fin leer fichero ../tfm_git/ejecuciones/metricas/metricas_1466.csv\n"
     ]
    },
    {
     "data": {
      "text/html": [
       "<div>\n",
       "<style scoped>\n",
       "    .dataframe tbody tr th:only-of-type {\n",
       "        vertical-align: middle;\n",
       "    }\n",
       "\n",
       "    .dataframe tbody tr th {\n",
       "        vertical-align: top;\n",
       "    }\n",
       "\n",
       "    .dataframe thead th {\n",
       "        text-align: right;\n",
       "    }\n",
       "</style>\n",
       "<table border=\"1\" class=\"dataframe\">\n",
       "  <thead>\n",
       "    <tr style=\"text-align: right;\">\n",
       "      <th></th>\n",
       "      <th>tipo</th>\n",
       "      <th>select</th>\n",
       "      <th>clasific</th>\n",
       "      <th>semilla</th>\n",
       "      <th>accuracy</th>\n",
       "      <th>precision</th>\n",
       "      <th>recall</th>\n",
       "      <th>f1_score</th>\n",
       "      <th>roc_auc</th>\n",
       "      <th>hostname</th>\n",
       "      <th>total_time_sec</th>\n",
       "      <th>datetime</th>\n",
       "      <th>fichero_modelo</th>\n",
       "      <th>params</th>\n",
       "      <th>shape</th>\n",
       "      <th>features</th>\n",
       "      <th>roc_auc_ovr</th>\n",
       "      <th>indices_auc</th>\n",
       "      <th>indices_jaccard</th>\n",
       "    </tr>\n",
       "  </thead>\n",
       "  <tbody>\n",
       "    <tr>\n",
       "      <th>0</th>\n",
       "      <td>mul_s</td>\n",
       "      <td>MI</td>\n",
       "      <td>SVM</td>\n",
       "      <td>1466</td>\n",
       "      <td>0.403846</td>\n",
       "      <td>0.409070</td>\n",
       "      <td>0.416450</td>\n",
       "      <td>0.397716</td>\n",
       "      <td>NaN</td>\n",
       "      <td>amilcar22</td>\n",
       "      <td>190</td>\n",
       "      <td>2023-10-30 05:15:07.998642</td>\n",
       "      <td>modelo_1466_mul_s_MI_SVM.pkl</td>\n",
       "      <td>{'selector__k': 1000, 'clasifier__kernel': 'rb...</td>\n",
       "      <td>X_test:(52, 18875)</td>\n",
       "      <td>['ENSG00000003137.9', 'ENSG00000005513.10', 'E...</td>\n",
       "      <td>0.761388</td>\n",
       "      <td>[0.5321507760532151, 0.8494318181818181, 0.664...</td>\n",
       "      <td>[0.13333333333333333, 0.4444444444444444, 0.0,...</td>\n",
       "    </tr>\n",
       "    <tr>\n",
       "      <th>0</th>\n",
       "      <td>mul_s</td>\n",
       "      <td>MI</td>\n",
       "      <td>RF</td>\n",
       "      <td>1466</td>\n",
       "      <td>0.403846</td>\n",
       "      <td>0.332792</td>\n",
       "      <td>0.398701</td>\n",
       "      <td>0.346656</td>\n",
       "      <td>NaN</td>\n",
       "      <td>amilcar22</td>\n",
       "      <td>212</td>\n",
       "      <td>2023-10-30 05:11:51.030618</td>\n",
       "      <td>modelo_1466_mul_s_MI_RF.pkl</td>\n",
       "      <td>{'selector__k': 500, 'clasifier__n_estimators'...</td>\n",
       "      <td>X_test:(52, 18875)</td>\n",
       "      <td>['ENSG00000005513.10', 'ENSG00000006025.13', '...</td>\n",
       "      <td>0.691190</td>\n",
       "      <td>[0.4168514412416851, 0.7698863636363636, 0.625...</td>\n",
       "      <td>[0.07692307692307693, 0.35714285714285715, 0.2...</td>\n",
       "    </tr>\n",
       "    <tr>\n",
       "      <th>0</th>\n",
       "      <td>mul_s</td>\n",
       "      <td>MI</td>\n",
       "      <td>LR_L2</td>\n",
       "      <td>1466</td>\n",
       "      <td>0.480769</td>\n",
       "      <td>0.522959</td>\n",
       "      <td>0.500758</td>\n",
       "      <td>0.489795</td>\n",
       "      <td>NaN</td>\n",
       "      <td>amilcar22</td>\n",
       "      <td>566</td>\n",
       "      <td>2023-10-30 05:08:12.343924</td>\n",
       "      <td>modelo_1466_mul_s_MI_LR_L2.pkl</td>\n",
       "      <td>{'selector__k': 500, 'clasifier__solver': 'sag...</td>\n",
       "      <td>X_test:(52, 18875)</td>\n",
       "      <td>['ENSG00000005513.10', 'ENSG00000006025.13', '...</td>\n",
       "      <td>0.840886</td>\n",
       "      <td>[0.6829268292682927, 0.9005681818181819, 0.741...</td>\n",
       "      <td>[0.25, 0.5, 0.15384615384615385, 0.3, 0.416666...</td>\n",
       "    </tr>\n",
       "  </tbody>\n",
       "</table>\n",
       "</div>"
      ],
      "text/plain": [
       "    tipo select clasific  semilla  accuracy  precision    recall  f1_score  \\\n",
       "0  mul_s     MI      SVM     1466  0.403846   0.409070  0.416450  0.397716   \n",
       "0  mul_s     MI       RF     1466  0.403846   0.332792  0.398701  0.346656   \n",
       "0  mul_s     MI    LR_L2     1466  0.480769   0.522959  0.500758  0.489795   \n",
       "\n",
       "   roc_auc   hostname  total_time_sec                    datetime  \\\n",
       "0      NaN  amilcar22             190  2023-10-30 05:15:07.998642   \n",
       "0      NaN  amilcar22             212  2023-10-30 05:11:51.030618   \n",
       "0      NaN  amilcar22             566  2023-10-30 05:08:12.343924   \n",
       "\n",
       "                   fichero_modelo  \\\n",
       "0    modelo_1466_mul_s_MI_SVM.pkl   \n",
       "0     modelo_1466_mul_s_MI_RF.pkl   \n",
       "0  modelo_1466_mul_s_MI_LR_L2.pkl   \n",
       "\n",
       "                                              params               shape  \\\n",
       "0  {'selector__k': 1000, 'clasifier__kernel': 'rb...  X_test:(52, 18875)   \n",
       "0  {'selector__k': 500, 'clasifier__n_estimators'...  X_test:(52, 18875)   \n",
       "0  {'selector__k': 500, 'clasifier__solver': 'sag...  X_test:(52, 18875)   \n",
       "\n",
       "                                            features  roc_auc_ovr  \\\n",
       "0  ['ENSG00000003137.9', 'ENSG00000005513.10', 'E...     0.761388   \n",
       "0  ['ENSG00000005513.10', 'ENSG00000006025.13', '...     0.691190   \n",
       "0  ['ENSG00000005513.10', 'ENSG00000006025.13', '...     0.840886   \n",
       "\n",
       "                                         indices_auc  \\\n",
       "0  [0.5321507760532151, 0.8494318181818181, 0.664...   \n",
       "0  [0.4168514412416851, 0.7698863636363636, 0.625...   \n",
       "0  [0.6829268292682927, 0.9005681818181819, 0.741...   \n",
       "\n",
       "                                     indices_jaccard  \n",
       "0  [0.13333333333333333, 0.4444444444444444, 0.0,...  \n",
       "0  [0.07692307692307693, 0.35714285714285715, 0.2...  \n",
       "0  [0.25, 0.5, 0.15384615384615385, 0.3, 0.416666...  "
      ]
     },
     "metadata": {},
     "output_type": "display_data"
    }
   ],
   "source": [
    "if M_TIPO.startswith(\"bin\"):\n",
    "    myfunc.save_metricas_to_csv(random_search, X_test, y_test, M_TIPO, M_SELECT, M_CLASIF, total_time, SEMILLA, myfunc.MET_DIR, M_FICHERO, fichero_modelo)\n",
    "else:\n",
    "    myfunc.save_metricas_multi_to_csv(random_search, X_test, y_test, M_TIPO, M_SELECT, M_CLASIF, total_time, SEMILLA, myfunc.MET_DIR, M_FICHERO, fichero_modelo)\n",
    "\n",
    "df1=myfunc.read_metricas_to_df(myfunc.MET_DIR,M_FICHERO)\n",
    "\n",
    "display(df1.sort_values(\"datetime\", ascending=False)[:3])\n"
   ]
  },
  {
   "cell_type": "markdown",
   "id": "ff53d30d",
   "metadata": {
    "papermill": {
     "duration": 0.004451,
     "end_time": "2023-10-30T04:15:08.043186",
     "exception": false,
     "start_time": "2023-10-30T04:15:08.038735",
     "status": "completed"
    },
    "tags": []
   },
   "source": [
    "#### Guardar resultados"
   ]
  },
  {
   "cell_type": "code",
   "execution_count": 13,
   "id": "46f10699",
   "metadata": {
    "execution": {
     "iopub.execute_input": "2023-10-30T04:15:08.052735Z",
     "iopub.status.busy": "2023-10-30T04:15:08.052496Z",
     "iopub.status.idle": "2023-10-30T04:15:08.060954Z",
     "shell.execute_reply": "2023-10-30T04:15:08.060418Z"
    },
    "papermill": {
     "duration": 0.014724,
     "end_time": "2023-10-30T04:15:08.062216",
     "exception": false,
     "start_time": "2023-10-30T04:15:08.047492",
     "status": "completed"
    },
    "tags": []
   },
   "outputs": [
    {
     "name": "stdout",
     "output_type": "stream",
     "text": [
      "20231030T051508 : amilcar22 : INFO : Inicio guardar resultados\n",
      "20231030T051508 : amilcar22 : INFO : Inicio guardar fichero ../tfm_git/ejecuciones/metricas/resultados_1466_mul_s-MI-SVM.csv\n",
      "20231030T051508 : amilcar22 : INFO : Fin guardar fichero ../tfm_git/ejecuciones/metricas/resultados_1466_mul_s-MI-SVM.csv\n",
      "20231030T051508 : amilcar22 : INFO : Fin guardar resultados\n"
     ]
    }
   ],
   "source": [
    "fichero_resultados=R_FICHERO+\"_\"+M_TIPO+\"-\"+M_SELECT+\"-\"+M_CLASIF+\".csv\"\n",
    "myfunc.save_resultados_to_csv(M_TIPO, M_SELECT, M_CLASIF,  random_search, myfunc.MET_DIR, fichero_resultados)\n"
   ]
  }
 ],
 "metadata": {
  "kernelspec": {
   "display_name": "Python 3 (ipykernel)",
   "language": "python",
   "name": "python3"
  },
  "language_info": {
   "codemirror_mode": {
    "name": "ipython",
    "version": 3
   },
   "file_extension": ".py",
   "mimetype": "text/x-python",
   "name": "python",
   "nbconvert_exporter": "python",
   "pygments_lexer": "ipython3",
   "version": "3.10.12"
  },
  "papermill": {
   "default_parameters": {},
   "duration": 195.459977,
   "end_time": "2023-10-30T04:15:10.684556",
   "environment_variables": {},
   "exception": null,
   "input_path": "03_entrenamiento.ipynb",
   "output_path": "ejecuciones/training/03_entrenamiento.20231030T051154.param_0000_1466_mul_s_MI_SVM.output.ipynb",
   "parameters": {
    "MAX_ITERS": 500,
    "M_CLASIF": "SVM",
    "M_FICHERO": "metricas_1466",
    "M_SELECT": "MI",
    "M_TIPO": "mul_s",
    "PRE_DATA_FILE": "rows_transpose_norm_by_gene_id_with_target_num_",
    "P_FICHERO": "param_0000_1466_mul_s_MI_SVM.yaml",
    "R_FICHERO": "resultados_1466",
    "SCORING": "roc_auc_ovr",
    "SEMILLA": 1466,
    "eval_clasifier": "SVC(probability=True, random_state=SEMILLA)",
    "eval_selector": "SelectKBest(score_func=mutual_info_classif_state)",
    "param_distributions": {
     "clasifier__C": [
      100
     ],
     "clasifier__gamma": [
      0.001
     ],
     "clasifier__kernel": [
      "rbf"
     ],
     "selector__k": [
      1000
     ]
    }
   },
   "start_time": "2023-10-30T04:11:55.224579",
   "version": "2.4.0"
  }
 },
 "nbformat": 4,
 "nbformat_minor": 5
}