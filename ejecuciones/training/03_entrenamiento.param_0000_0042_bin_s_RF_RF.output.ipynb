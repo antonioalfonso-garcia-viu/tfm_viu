{
 "cells": [
  {
   "cell_type": "markdown",
   "id": "de8cb158",
   "metadata": {
    "papermill": {
     "duration": 0.004221,
     "end_time": "2023-10-27T17:58:13.630475",
     "exception": false,
     "start_time": "2023-10-27T17:58:13.626254",
     "status": "completed"
    },
    "tags": []
   },
   "source": [
    "##### Inicio"
   ]
  },
  {
   "cell_type": "markdown",
   "id": "6359d084",
   "metadata": {
    "papermill": {
     "duration": 0.003393,
     "end_time": "2023-10-27T17:58:13.637535",
     "exception": false,
     "start_time": "2023-10-27T17:58:13.634142",
     "status": "completed"
    },
    "tags": []
   },
   "source": [
    "#### Carga de datos"
   ]
  },
  {
   "cell_type": "code",
   "execution_count": 1,
   "id": "e0730d80",
   "metadata": {
    "execution": {
     "iopub.execute_input": "2023-10-27T17:58:13.645747Z",
     "iopub.status.busy": "2023-10-27T17:58:13.645505Z",
     "iopub.status.idle": "2023-10-27T17:58:14.525476Z",
     "shell.execute_reply": "2023-10-27T17:58:14.524760Z"
    },
    "papermill": {
     "duration": 0.885886,
     "end_time": "2023-10-27T17:58:14.526918",
     "exception": false,
     "start_time": "2023-10-27T17:58:13.641032",
     "status": "completed"
    },
    "tags": []
   },
   "outputs": [
    {
     "name": "stdout",
     "output_type": "stream",
     "text": [
      "CPU_COUNT: 8; NODE: amilcar22; sys.version: 3.10.12 (main, Jul  5 2023, 19:22:19) [GCC 11.2.0]\n",
      "LOKY_MAX_CPU_COUNT: 6\n",
      "OMP_NUM_THREADS: 2\n"
     ]
    }
   ],
   "source": [
    "import os\n",
    "import numpy as np\n",
    "import pandas as pd\n",
    "import datetime\n",
    "import sklearn\n",
    "import logging\n",
    "import warnings\n",
    "\n",
    "from sklearn.pipeline import Pipeline\n",
    "from sklearn.model_selection import RandomizedSearchCV, KFold, cross_val_score, train_test_split\n",
    "from sklearn.metrics import accuracy_score, confusion_matrix, classification_report, roc_auc_score\n",
    "\n",
    "#  cargar algoritmos para aprendizaje supervisado\n",
    "from sklearn.feature_selection import SelectKBest, f_classif, SelectFromModel, mutual_info_classif\n",
    "from sklearn.svm import SVC\n",
    "from sklearn.ensemble import RandomForestClassifier\n",
    "from sklearn.linear_model import LogisticRegression,LogisticRegressionCV\n",
    "\n",
    "# importar fichero con utilidades propias\n",
    "from commons import myfunctions as myfunc\n"
   ]
  },
  {
   "cell_type": "markdown",
   "id": "e9fc429e",
   "metadata": {
    "papermill": {
     "duration": 0.002563,
     "end_time": "2023-10-27T17:58:14.532342",
     "exception": false,
     "start_time": "2023-10-27T17:58:14.529779",
     "status": "completed"
    },
    "tags": []
   },
   "source": [
    "#### Parámetros a utilizar en el entrenamiento.\n",
    "\n",
    "Se indican los 3 algoritmos de *selección de características* (eval_selector_xxx) y los 3 algoritmos para la _clasificación_ (eval_clasifier_xxx)\n",
    "\n",
    "En *param_distributions* se indicar los parámetros que utilizan los algoritmos en la función RandomSearchCV.\n",
    "\n",
    "Esta celda tiene la etiqueta **parameters** que servirá para poder lanzar los entrenamientos con la utilidad **papermill** pasándole un fichero con los parámetros. Los nuevos parámetros se situarán tras esta celda para tener prevalencia."
   ]
  },
  {
   "cell_type": "code",
   "execution_count": 2,
   "id": "2d5db49b",
   "metadata": {
    "execution": {
     "iopub.execute_input": "2023-10-27T17:58:14.538308Z",
     "iopub.status.busy": "2023-10-27T17:58:14.538045Z",
     "iopub.status.idle": "2023-10-27T17:58:14.544805Z",
     "shell.execute_reply": "2023-10-27T17:58:14.544319Z"
    },
    "papermill": {
     "duration": 0.011177,
     "end_time": "2023-10-27T17:58:14.545974",
     "exception": false,
     "start_time": "2023-10-27T17:58:14.534797",
     "status": "completed"
    },
    "tags": [
     "parameters"
    ]
   },
   "outputs": [
    {
     "name": "stdout",
     "output_type": "stream",
     "text": [
      "20231027T195814 : amilcar22 : INFO : Utilizando parámetros de mul_m\n"
     ]
    }
   ],
   "source": [
    "#  Parametros para el entrenamiento\n",
    "\n",
    "SEMILLA=        42\n",
    "M_TIPO=         \"mul_m\"\n",
    "M_SELECT=       \"MI\"\n",
    "M_CLASIF=       \"SVM\"\n",
    "R_FICHERO=      \"resultados\"\n",
    "M_FICHERO=      \"metricas\"\n",
    "PRE_DATA_FILE=  \"rows_transpose_norm_by_gene_id_with_target_num_\"\n",
    "SCORING=        \"roc_auc_ovr\" \n",
    "MAX_ITERS=      100\n",
    "\n",
    "def mutual_info_classif_state(X, y):\n",
    "    return mutual_info_classif(X, y, random_state=SEMILLA)\n",
    "\n",
    "eval_selector_mi = \"SelectKBest(score_func=mutual_info_classif_state)\"\n",
    "eval_selector_rf=  \"SelectFromModel(estimator=RandomForestClassifier(random_state=SEMILLA), threshold=-np.inf)\"\n",
    "eval_selector_anova=  \"SelectKBest(score_func=f_classif)\"\n",
    "\n",
    "eval_clasifier_svm= \"SVC(probability=True, random_state=SEMILLA)\"\n",
    "eval_clasifier_rf= \"RandomForestClassifier(random_state=SEMILLA)\"\n",
    "eval_clasifier_lr= \"LogisticRegressionCV(random_state=SEMILLA)\"\n",
    "\n",
    "if M_TIPO.startswith(\"bin_m\"):\n",
    "    myfunc.verbose(f\"Utilizando parámetros de {M_TIPO}\")\n",
    "    eval_selector = eval_selector_mi\n",
    "    eval_clasifier = eval_clasifier_svm\n",
    "\n",
    "    SEMILLA = 6578\n",
    "    M_SELECT = \"MI\"\n",
    "    M_CLASIF = \"SVM\"\n",
    "    param_distributions = {'selector__k': [1000], \n",
    "         'clasifier__kernel': ['rbf'], 'clasifier__gamma': [0.01], 'clasifier__C': [100]}\n",
    "elif M_TIPO.startswith(\"bin_s\"):\n",
    "    myfunc.verbose(f\"Utilizando parámetros de {M_TIPO}\")\n",
    "    eval_selector = eval_selector_rf\n",
    "    eval_clasifier = eval_clasifier_lr\n",
    "\n",
    "    SEMILLA = 6191\n",
    "    M_SELECT = \"RF\"\n",
    "    M_CLASIF = \"LR_L2\"\n",
    "    param_distributions = {'selector__max_features': [1000], 'selector__estimator__n_estimators': [200], \n",
    "        'clasifier__solver': ['lbfgs'], 'clasifier__penalty': ['l2'], 'clasifier__max_iter': [10000]}\n",
    "\n",
    "elif M_TIPO.startswith(\"mul_m\"):\n",
    "    myfunc.verbose(f\"Utilizando parámetros de {M_TIPO}\")\n",
    " \n",
    "    eval_selector = eval_selector_rf\n",
    "    eval_clasifier = eval_clasifier_lr\n",
    "\n",
    "    SEMILLA = 6191\n",
    "    M_SELECT = \"RF\"\n",
    "    M_CLASIF = \"LR_L2\"\n",
    "    param_distributions = {'selector__max_features': [1000], 'selector__estimator__n_estimators': [400], \n",
    "        'clasifier__solver': ['lbfgs'], 'clasifier__penalty': ['l2'], 'clasifier__max_iter': [10000]}\n",
    "\n",
    "else:\n",
    "    # M_TIPO.startswith(\"mul_s\"):\n",
    "    myfunc.verbose(f\"Utilizando parámetros de {M_TIPO}\")\n",
    "    eval_selector = eval_selector_anova\n",
    "    eval_clasifier = eval_clasifier_lr\n",
    "\n",
    "    SEMILLA = 1860\n",
    "    M_SELECT = \"ANOVA\"\n",
    "    M_CLASIF = \"LR_L2\"\n",
    "    param_distributions = {'selector__k': [1000], \n",
    "        'clasifier__solver': ['saga'], 'clasifier__penalty': ['l2'], 'clasifier__max_iter': [10000]}\n",
    "\n"
   ]
  },
  {
   "cell_type": "code",
   "execution_count": 3,
   "id": "0cb92470",
   "metadata": {
    "execution": {
     "iopub.execute_input": "2023-10-27T17:58:14.551910Z",
     "iopub.status.busy": "2023-10-27T17:58:14.551728Z",
     "iopub.status.idle": "2023-10-27T17:58:14.555326Z",
     "shell.execute_reply": "2023-10-27T17:58:14.554887Z"
    },
    "papermill": {
     "duration": 0.007887,
     "end_time": "2023-10-27T17:58:14.556490",
     "exception": false,
     "start_time": "2023-10-27T17:58:14.548603",
     "status": "completed"
    },
    "tags": [
     "injected-parameters"
    ]
   },
   "outputs": [],
   "source": [
    "# Parameters\n",
    "M_TIPO = \"bin_s\"\n",
    "M_SELECT = \"RF\"\n",
    "M_CLASIF = \"RF\"\n",
    "P_FICHERO = \"param_0000_0042_bin_s_RF_RF.yaml\"\n",
    "R_FICHERO = \"resultados_0042\"\n",
    "M_FICHERO = \"metricas_0042\"\n",
    "PRE_DATA_FILE = \"rows_transpose_norm_by_gene_id_with_target_num_\"\n",
    "SCORING = \"roc_auc_ovr\"\n",
    "SEMILLA = 42\n",
    "MAX_ITERS = 500\n",
    "eval_selector = \"SelectFromModel(estimator=RandomForestClassifier(random_state=SEMILLA), threshold=-np.inf)\"\n",
    "eval_clasifier = \"RandomForestClassifier(random_state=SEMILLA)\"\n",
    "param_distributions = {\n",
    "    \"selector__max_features\": [500],\n",
    "    \"selector__estimator__n_estimators\": [400],\n",
    "    \"clasifier__n_estimators\": [400],\n",
    "    \"clasifier__min_samples_split\": [10],\n",
    "    \"clasifier__min_samples_leaf\": [5],\n",
    "    \"clasifier__max_features\": [200],\n",
    "    \"clasifier__max_depth\": [10],\n",
    "    \"clasifier__bootstrap\": [True],\n",
    "}\n"
   ]
  },
  {
   "cell_type": "code",
   "execution_count": 4,
   "id": "a42a055f",
   "metadata": {
    "execution": {
     "iopub.execute_input": "2023-10-27T17:58:14.562525Z",
     "iopub.status.busy": "2023-10-27T17:58:14.562337Z",
     "iopub.status.idle": "2023-10-27T17:58:14.565343Z",
     "shell.execute_reply": "2023-10-27T17:58:14.564820Z"
    },
    "papermill": {
     "duration": 0.007478,
     "end_time": "2023-10-27T17:58:14.566601",
     "exception": false,
     "start_time": "2023-10-27T17:58:14.559123",
     "status": "completed"
    },
    "tags": []
   },
   "outputs": [],
   "source": [
    "DATA_FILE = PRE_DATA_FILE + M_TIPO\n",
    "\n",
    "# si viene \"None\" en el parámetro max_depth, se le quitan las comillas para que no sea entendido por el algoritmo como un texto\n",
    "if \"clasifier__max_depth\" in param_distributions:\n",
    "    param_distributions['clasifier__max_depth'] = [None if x == 'None' else x for x in param_distributions['clasifier__max_depth']]"
   ]
  },
  {
   "cell_type": "markdown",
   "id": "2bf58c41",
   "metadata": {
    "papermill": {
     "duration": 0.002532,
     "end_time": "2023-10-27T17:58:14.571750",
     "exception": false,
     "start_time": "2023-10-27T17:58:14.569218",
     "status": "completed"
    },
    "tags": []
   },
   "source": [
    "Asignar los algoritmos que se utilizarán en la función RandomSearchCV"
   ]
  },
  {
   "cell_type": "code",
   "execution_count": 5,
   "id": "372ff8f0",
   "metadata": {
    "execution": {
     "iopub.execute_input": "2023-10-27T17:58:14.577711Z",
     "iopub.status.busy": "2023-10-27T17:58:14.577523Z",
     "iopub.status.idle": "2023-10-27T17:58:14.580138Z",
     "shell.execute_reply": "2023-10-27T17:58:14.579715Z"
    },
    "papermill": {
     "duration": 0.006938,
     "end_time": "2023-10-27T17:58:14.581285",
     "exception": false,
     "start_time": "2023-10-27T17:58:14.574347",
     "status": "completed"
    },
    "tags": []
   },
   "outputs": [],
   "source": [
    "algor_selector=eval(eval_selector)\n",
    "algor_clasifier=eval(eval_clasifier)"
   ]
  },
  {
   "cell_type": "markdown",
   "id": "0b0c870a",
   "metadata": {
    "papermill": {
     "duration": 0.002623,
     "end_time": "2023-10-27T17:58:14.586521",
     "exception": false,
     "start_time": "2023-10-27T17:58:14.583898",
     "status": "completed"
    },
    "tags": []
   },
   "source": [
    "#### Comprobar el entorno y leer fichero de muestras"
   ]
  },
  {
   "cell_type": "code",
   "execution_count": 6,
   "id": "7d867be2",
   "metadata": {
    "execution": {
     "iopub.execute_input": "2023-10-27T17:58:14.592514Z",
     "iopub.status.busy": "2023-10-27T17:58:14.592328Z",
     "iopub.status.idle": "2023-10-27T17:58:14.747636Z",
     "shell.execute_reply": "2023-10-27T17:58:14.747097Z"
    },
    "papermill": {
     "duration": 0.15982,
     "end_time": "2023-10-27T17:58:14.748922",
     "exception": false,
     "start_time": "2023-10-27T17:58:14.589102",
     "status": "completed"
    },
    "tags": []
   },
   "outputs": [
    {
     "name": "stdout",
     "output_type": "stream",
     "text": [
      "20231027T195814 : amilcar22 : INFO : Encontrada carpeta DATA_DIR=../tfm_git/datos\n",
      "20231027T195814 : amilcar22 : INFO : Encontrada carpeta CFDNA_DIR=../tfm_git/datos/cfDNA_5hmC\n",
      "20231027T195814 : amilcar22 : INFO : Encontrada carpeta GENCODE_DIR=../tfm_git/datos/gencode\n",
      "20231027T195814 : amilcar22 : INFO : Encontrada carpeta H5_DIR=../tfm_git/datos/h5\n",
      "20231027T195814 : amilcar22 : INFO : Encontrada carpeta LOG_DIR=../tfm_git/datos/logs\n",
      "20231027T195814 : amilcar22 : INFO : Encontrada carpeta CSV_DIR=../tfm_git/datos/csv\n",
      "20231027T195814 : amilcar22 : INFO : Encontrada carpeta MODEL_DIR=../tfm_git/ejecuciones/modelos\n",
      "20231027T195814 : amilcar22 : INFO : Encontrada carpeta EXEC_DIR=../tfm_git/ejecuciones\n",
      "20231027T195814 : amilcar22 : INFO : Encontrada carpeta MET_DIR=../tfm_git/ejecuciones/metricas\n",
      "20231027T195814 : amilcar22 : INFO : Inicio leer fichero h5 ../tfm_git/datos/h5/rows_transpose_norm_by_gene_id_with_target_num_bin_s.h5\n",
      "20231027T195814 : amilcar22 : INFO : Leyendo clave /df\n",
      "20231027T195814 : amilcar22 : INFO : Tamaño (443, 18876)\n",
      "20231027T195814 : amilcar22 : INFO : Fin leer fichero h5 ../tfm_git/datos/h5/rows_transpose_norm_by_gene_id_with_target_num_bin_s.h5\n"
     ]
    },
    {
     "data": {
      "text/plain": [
       "target\n",
       "0    221\n",
       "1    222\n",
       "dtype: int64"
      ]
     },
     "metadata": {},
     "output_type": "display_data"
    },
    {
     "name": "stdout",
     "output_type": "stream",
     "text": [
      "Shape df: (443, 18876)\n"
     ]
    },
    {
     "name": "stdout",
     "output_type": "stream",
     "text": [
      "Shape X_train: (354, 18875)\n",
      "Shape X_test: (89, 18875)\n"
     ]
    }
   ],
   "source": [
    "start_time = datetime.datetime.now()\n",
    "\n",
    "myfunc.reset_vars()\n",
    "\n",
    "myfunc.NOTEBK_FILENAME = myfunc.get_nb_name()\n",
    "\n",
    "myfunc.check_enviroment(myfunc.DATA_DIR, myfunc.CFDNA_DIR, myfunc.GENCODE_DIR, myfunc.H5_DIR, myfunc.LOG_DIR, myfunc.CSV_DIR, myfunc.MODEL_DIR, myfunc.EXEC_DIR, myfunc.MET_DIR)\n",
    "\n",
    "# Leer fichero con las muestras\n",
    "df_t = myfunc.read_h5_to_df(DATA_FILE, myfunc.H5_DIR)\n",
    "display(df_t.groupby(\"target\").size())\n",
    "print(\"Shape df:\",df_t.shape)\n",
    "\n",
    "# Separar caracteristicas/genes de las etiquetas/tipos de cáncer\n",
    "X = df_t.iloc[:, :-1]  # Todas las columnas excepto la última\n",
    "y = df_t.iloc[:, -1]  # La última columna contiene los identificadores de los tipos de cáncer\n",
    "\n",
    "#  Crear el conjunto de datos de entrenamiento y de pruebas\n",
    "X_train, X_test, y_train, y_test = train_test_split(X, y, test_size=0.2, shuffle=True, random_state=SEMILLA)\n",
    "print(\"Shape X_train:\",X_train.shape)\n",
    "print(\"Shape X_test:\",X_test.shape)\n"
   ]
  },
  {
   "cell_type": "markdown",
   "id": "c2b0e20b",
   "metadata": {
    "papermill": {
     "duration": 0.002821,
     "end_time": "2023-10-27T17:58:14.755144",
     "exception": false,
     "start_time": "2023-10-27T17:58:14.752323",
     "status": "completed"
    },
    "tags": []
   },
   "source": [
    "#### Selección de características y clasificación."
   ]
  },
  {
   "cell_type": "code",
   "execution_count": 7,
   "id": "13f15fab",
   "metadata": {
    "execution": {
     "iopub.execute_input": "2023-10-27T17:58:14.761710Z",
     "iopub.status.busy": "2023-10-27T17:58:14.761516Z",
     "iopub.status.idle": "2023-10-27T17:58:43.716176Z",
     "shell.execute_reply": "2023-10-27T17:58:43.715471Z"
    },
    "papermill": {
     "duration": 28.959559,
     "end_time": "2023-10-27T17:58:43.717516",
     "exception": false,
     "start_time": "2023-10-27T17:58:14.757957",
     "status": "completed"
    },
    "tags": []
   },
   "outputs": [
    {
     "name": "stdout",
     "output_type": "stream",
     "text": [
      "20231027T195814 : amilcar22 : INFO : Iniciando entrenamiento\n",
      "num_iter: 1 , max_iter: 1\n",
      "Fitting 5 folds for each of 1 candidates, totalling 5 fits\n"
     ]
    },
    {
     "name": "stdout",
     "output_type": "stream",
     "text": [
      "Mejores Hiperparámetros: {'selector__max_features': 500, 'selector__estimator__n_estimators': 400, 'clasifier__n_estimators': 400, 'clasifier__min_samples_split': 10, 'clasifier__min_samples_leaf': 5, 'clasifier__max_features': 200, 'clasifier__max_depth': 10, 'clasifier__bootstrap': True}\n",
      "Mejor Puntuación: 0.7851\n",
      "20231027T195843 : amilcar22 : INFO : Fin entrenamiento\n"
     ]
    }
   ],
   "source": [
    "myfunc.verbose(\"Iniciando entrenamiento\")\n",
    "\n",
    "kf = KFold(n_splits=5, shuffle=True, random_state=SEMILLA)\n",
    "\n",
    "# Crear el pipeline para el flujo de tareas\n",
    "tasks_pipeline = Pipeline([\n",
    "    ('selector', algor_selector),\n",
    "    ('clasifier', algor_clasifier)\n",
    "])\n",
    "\n",
    "# MAX_ITERS puede limitar el número de iteraciones si son excesivas para las combinaciones de parámetros buscando un óptimo local, \n",
    "# sino funcionaría como GridSearchCV al revisar todas las cominaciones de los parámetros\n",
    "num_iteraciones = 1\n",
    "num_iteraciones = num_iteraciones * np.prod([len(elemento1) for _, elemento1 in param_distributions.items()])\n",
    "max_iteraciones = num_iteraciones if num_iteraciones <= MAX_ITERS else MAX_ITERS\n",
    "print(\"num_iter:\",num_iteraciones,\", max_iter:\",max_iteraciones)\n",
    "\n",
    "random_search = RandomizedSearchCV(\n",
    "    tasks_pipeline, \n",
    "    param_distributions, \n",
    "    n_iter=max_iteraciones,\n",
    "    scoring=SCORING,\n",
    "    cv=kf,\n",
    "    verbose=3, \n",
    "    random_state=SEMILLA, \n",
    "    n_jobs=-1\n",
    "    )\n",
    "\n",
    "# Entrenar el modelo\n",
    "random_search.fit(X_train, y_train)\n",
    "\n",
    "# Ver los mejores hiperparámetros encontrados\n",
    "print(f'Mejores Hiperparámetros: {random_search.best_params_}')\n",
    "print(f'Mejor Puntuación: {random_search.best_score_:.4f}')\n",
    "\n",
    "# Nos quedamos con el mejor modelo para ver las métricas\n",
    "mejor_modelo = random_search.best_estimator_\n",
    "\n",
    "myfunc.verbose(\"Fin entrenamiento\")"
   ]
  },
  {
   "cell_type": "markdown",
   "id": "eed6014e",
   "metadata": {
    "papermill": {
     "duration": 0.002945,
     "end_time": "2023-10-27T17:58:43.724223",
     "exception": false,
     "start_time": "2023-10-27T17:58:43.721278",
     "status": "completed"
    },
    "tags": []
   },
   "source": [
    "#### Guardar modelo"
   ]
  },
  {
   "cell_type": "code",
   "execution_count": 8,
   "id": "ee18a28e",
   "metadata": {
    "execution": {
     "iopub.execute_input": "2023-10-27T17:58:43.730995Z",
     "iopub.status.busy": "2023-10-27T17:58:43.730768Z",
     "iopub.status.idle": "2023-10-27T17:58:43.973441Z",
     "shell.execute_reply": "2023-10-27T17:58:43.972803Z"
    },
    "papermill": {
     "duration": 0.247784,
     "end_time": "2023-10-27T17:58:43.974846",
     "exception": false,
     "start_time": "2023-10-27T17:58:43.727062",
     "status": "completed"
    },
    "tags": []
   },
   "outputs": [
    {
     "name": "stdout",
     "output_type": "stream",
     "text": [
      "20231027T195843 : amilcar22 : INFO : Inicio guardar fichero ../tfm_git/ejecuciones/modelos/modelo_0042_bin_s_RF_RF.pkl\n"
     ]
    },
    {
     "name": "stdout",
     "output_type": "stream",
     "text": [
      "20231027T195843 : amilcar22 : INFO : Fin guardar fichero ../tfm_git/ejecuciones/modelos/modelo_0042_bin_s_RF_RF.pkl\n"
     ]
    }
   ],
   "source": [
    "fichero_modelo = str.replace(\"modelo_\"+str(SEMILLA).zfill(4)+\"_\"+M_TIPO+\"_\"+M_SELECT+\"_\"+M_CLASIF+\".pkl\", \" \", \"_\")\n",
    "\n",
    "myfunc.save_modelo(mejor_modelo, myfunc.MODEL_DIR, fichero_modelo)"
   ]
  },
  {
   "cell_type": "markdown",
   "id": "0e21fb50",
   "metadata": {
    "papermill": {
     "duration": 0.003099,
     "end_time": "2023-10-27T17:58:43.981454",
     "exception": false,
     "start_time": "2023-10-27T17:58:43.978355",
     "status": "completed"
    },
    "tags": []
   },
   "source": [
    "#### Ver resultados del las iteraciones hechas por RandomSearchCV"
   ]
  },
  {
   "cell_type": "code",
   "execution_count": 9,
   "id": "85465254",
   "metadata": {
    "execution": {
     "iopub.execute_input": "2023-10-27T17:58:43.988309Z",
     "iopub.status.busy": "2023-10-27T17:58:43.988089Z",
     "iopub.status.idle": "2023-10-27T17:58:43.994158Z",
     "shell.execute_reply": "2023-10-27T17:58:43.993621Z"
    },
    "papermill": {
     "duration": 0.011009,
     "end_time": "2023-10-27T17:58:43.995420",
     "exception": false,
     "start_time": "2023-10-27T17:58:43.984411",
     "status": "completed"
    },
    "tags": []
   },
   "outputs": [
    {
     "name": "stdout",
     "output_type": "stream",
     "text": [
      "20231027T195843 : amilcar22 : INFO : Inicio ver resultados\n",
      "Mejores Hiperparámetros: {'selector__max_features': 500, 'selector__estimator__n_estimators': 400, 'clasifier__n_estimators': 400, 'clasifier__min_samples_split': 10, 'clasifier__min_samples_leaf': 5, 'clasifier__max_features': 200, 'clasifier__max_depth': 10, 'clasifier__bootstrap': True}\n",
      "Mejores puntuaciones: 0.7851 | Params: {'selector__max_features': 500, 'selector__estimator__n_estimators': 400, 'clasifier__n_estimators': 400, 'clasifier__min_samples_split': 10, 'clasifier__min_samples_leaf': 5, 'clasifier__max_features': 200, 'clasifier__max_depth': 10, 'clasifier__bootstrap': True}\n",
      "Media de las puntuaciones: 0.7851 | Params: {'selector__max_features': 500, 'selector__estimator__n_estimators': 400, 'clasifier__n_estimators': 400, 'clasifier__min_samples_split': 10, 'clasifier__min_samples_leaf': 5, 'clasifier__max_features': 200, 'clasifier__max_depth': 10, 'clasifier__bootstrap': True}\n",
      "20231027T195843 : amilcar22 : INFO : Fin resultados\n"
     ]
    }
   ],
   "source": [
    "myfunc.ver_resultados_search(random_search)"
   ]
  },
  {
   "cell_type": "markdown",
   "id": "b4e08390",
   "metadata": {
    "papermill": {
     "duration": 0.003055,
     "end_time": "2023-10-27T17:58:44.001937",
     "exception": false,
     "start_time": "2023-10-27T17:58:43.998882",
     "status": "completed"
    },
    "tags": []
   },
   "source": [
    "#### Ver métricas del mejor modelo"
   ]
  },
  {
   "cell_type": "code",
   "execution_count": 10,
   "id": "3b59ef18",
   "metadata": {
    "execution": {
     "iopub.execute_input": "2023-10-27T17:58:44.008805Z",
     "iopub.status.busy": "2023-10-27T17:58:44.008606Z",
     "iopub.status.idle": "2023-10-27T17:58:44.895756Z",
     "shell.execute_reply": "2023-10-27T17:58:44.895248Z"
    },
    "papermill": {
     "duration": 0.892052,
     "end_time": "2023-10-27T17:58:44.897049",
     "exception": false,
     "start_time": "2023-10-27T17:58:44.004997",
     "status": "completed"
    },
    "tags": []
   },
   "outputs": [
    {
     "name": "stdout",
     "output_type": "stream",
     "text": [
      "20231027T195844 : amilcar22 : INFO : Inicio ver métricas\n"
     ]
    },
    {
     "name": "stdout",
     "output_type": "stream",
     "text": [
      "              precision    recall  f1-score   support\n",
      "\n",
      "           0       0.59      0.63      0.61        46\n",
      "           1       0.57      0.53      0.55        43\n",
      "\n",
      "    accuracy                           0.58        89\n",
      "   macro avg       0.58      0.58      0.58        89\n",
      "weighted avg       0.58      0.58      0.58        89\n",
      "\n",
      "\n",
      "\n",
      "   Exactitud: 0.5843\n",
      "   Precisión: 0.5834\n",
      "Sensibilidad: 0.5827\n",
      "    F1-score: 0.5824\n",
      "     AUC ROC: 0.7123\n"
     ]
    },
    {
     "data": {
      "image/png": "[encoded data removed]",
      "text/plain": [
       "<Figure size 300x100 with 2 Axes>"
      ]
     },
     "metadata": {},
     "output_type": "display_data"
    },
    {
     "data": {
      "image/png": "[encoded data removed]",
      "text/plain": [
       "<Figure size 800x500 with 1 Axes>"
      ]
     },
     "metadata": {},
     "output_type": "display_data"
    },
    {
     "name": "stdout",
     "output_type": "stream",
     "text": [
      "20231027T195844 : amilcar22 : INFO : Fin ver métricas\n"
     ]
    }
   ],
   "source": [
    "if M_TIPO.startswith(\"bin\"):\n",
    "    myfunc.ver_metricas(mejor_modelo, X_test, y_test)\n",
    "else:\n",
    "    myfunc.ver_metricas_multi(mejor_modelo, X_test, y_test)\n"
   ]
  },
  {
   "cell_type": "markdown",
   "id": "aaf63414",
   "metadata": {
    "papermill": {
     "duration": 0.003793,
     "end_time": "2023-10-27T17:58:44.905426",
     "exception": false,
     "start_time": "2023-10-27T17:58:44.901633",
     "status": "completed"
    },
    "tags": []
   },
   "source": [
    "#### Finalización del notebook"
   ]
  },
  {
   "cell_type": "code",
   "execution_count": 11,
   "id": "c073f28d",
   "metadata": {
    "execution": {
     "iopub.execute_input": "2023-10-27T17:58:44.913510Z",
     "iopub.status.busy": "2023-10-27T17:58:44.913310Z",
     "iopub.status.idle": "2023-10-27T17:58:44.916948Z",
     "shell.execute_reply": "2023-10-27T17:58:44.916438Z"
    },
    "papermill": {
     "duration": 0.009088,
     "end_time": "2023-10-27T17:58:44.918169",
     "exception": false,
     "start_time": "2023-10-27T17:58:44.909081",
     "status": "completed"
    },
    "tags": []
   },
   "outputs": [
    {
     "name": "stdout",
     "output_type": "stream",
     "text": [
      "20231027T195844 : amilcar22 : INFO : Notebook ha tardado 30 seconds\n"
     ]
    }
   ],
   "source": [
    "end_time = datetime.datetime.now()\n",
    "total_time = end_time - start_time\n",
    "myfunc.verbose(f\"Notebook ha tardado {total_time.seconds} seconds\")"
   ]
  },
  {
   "cell_type": "markdown",
   "id": "b4cb3866",
   "metadata": {
    "papermill": {
     "duration": 0.003717,
     "end_time": "2023-10-27T17:58:44.925805",
     "exception": false,
     "start_time": "2023-10-27T17:58:44.922088",
     "status": "completed"
    },
    "tags": []
   },
   "source": [
    "#### Guardar métricas"
   ]
  },
  {
   "cell_type": "code",
   "execution_count": 12,
   "id": "b86e6d71",
   "metadata": {
    "execution": {
     "iopub.execute_input": "2023-10-27T17:58:44.933842Z",
     "iopub.status.busy": "2023-10-27T17:58:44.933654Z",
     "iopub.status.idle": "2023-10-27T17:58:45.717625Z",
     "shell.execute_reply": "2023-10-27T17:58:45.717007Z"
    },
    "papermill": {
     "duration": 0.789406,
     "end_time": "2023-10-27T17:58:45.718881",
     "exception": false,
     "start_time": "2023-10-27T17:58:44.929475",
     "status": "completed"
    },
    "tags": []
   },
   "outputs": [
    {
     "name": "stdout",
     "output_type": "stream",
     "text": [
      "20231027T195845 : amilcar22 : INFO : Inicio guardar métricas\n",
      "20231027T195845 : amilcar22 : INFO : Inicio leer fichero ../tfm_git/ejecuciones/metricas/metricas_0042.csv\n"
     ]
    },
    {
     "name": "stdout",
     "output_type": "stream",
     "text": [
      "20231027T195845 : amilcar22 : INFO : Fin leer fichero ../tfm_git/ejecuciones/metricas/metricas_0042.csv\n"
     ]
    },
    {
     "name": "stdout",
     "output_type": "stream",
     "text": [
      "20231027T195845 : amilcar22 : INFO : Inicio guardar fichero ../tfm_git/ejecuciones/metricas/metricas_0042.csv\n",
      "20231027T195845 : amilcar22 : INFO : Fichero borrado ../tfm_git/ejecuciones/metricas/metricas_0042.csv\n",
      "20231027T195845 : amilcar22 : INFO : Fin guardar fichero ../tfm_git/ejecuciones/metricas/metricas_0042.csv\n",
      "20231027T195845 : amilcar22 : INFO : Fin guardar métricas\n",
      "20231027T195845 : amilcar22 : INFO : Inicio leer fichero ../tfm_git/ejecuciones/metricas/metricas_0042.csv\n",
      "20231027T195845 : amilcar22 : INFO : Fin leer fichero ../tfm_git/ejecuciones/metricas/metricas_0042.csv\n"
     ]
    },
    {
     "data": {
      "text/html": [
       "<div>\n",
       "<style scoped>\n",
       "    .dataframe tbody tr th:only-of-type {\n",
       "        vertical-align: middle;\n",
       "    }\n",
       "\n",
       "    .dataframe tbody tr th {\n",
       "        vertical-align: top;\n",
       "    }\n",
       "\n",
       "    .dataframe thead th {\n",
       "        text-align: right;\n",
       "    }\n",
       "</style>\n",
       "<table border=\"1\" class=\"dataframe\">\n",
       "  <thead>\n",
       "    <tr style=\"text-align: right;\">\n",
       "      <th></th>\n",
       "      <th>tipo</th>\n",
       "      <th>select</th>\n",
       "      <th>clasific</th>\n",
       "      <th>accuracy</th>\n",
       "      <th>precision</th>\n",
       "      <th>recall</th>\n",
       "      <th>f1_score</th>\n",
       "      <th>roc_auc</th>\n",
       "      <th>roc_auc_ovr</th>\n",
       "      <th>hostname</th>\n",
       "      <th>total_time_sec</th>\n",
       "      <th>datetime</th>\n",
       "      <th>fichero_modelo</th>\n",
       "      <th>params</th>\n",
       "      <th>shape</th>\n",
       "      <th>features</th>\n",
       "      <th>semilla</th>\n",
       "    </tr>\n",
       "  </thead>\n",
       "  <tbody>\n",
       "    <tr>\n",
       "      <th>0</th>\n",
       "      <td>bin_s</td>\n",
       "      <td>RF</td>\n",
       "      <td>RF</td>\n",
       "      <td>0.584270</td>\n",
       "      <td>0.583418</td>\n",
       "      <td>0.582659</td>\n",
       "      <td>0.582372</td>\n",
       "      <td>0.712336</td>\n",
       "      <td>NaN</td>\n",
       "      <td>amilcar22</td>\n",
       "      <td>30</td>\n",
       "      <td>2023-10-27 19:58:45.677199</td>\n",
       "      <td>modelo_0042_bin_s_RF_RF.pkl</td>\n",
       "      <td>{'selector__max_features': 500, 'selector__est...</td>\n",
       "      <td>X_test:(89, 18875)</td>\n",
       "      <td>['ENSG00000002587.10', 'ENSG00000003393.16', '...</td>\n",
       "      <td>42.0</td>\n",
       "    </tr>\n",
       "    <tr>\n",
       "      <th>0</th>\n",
       "      <td>bin_s</td>\n",
       "      <td>RF</td>\n",
       "      <td>LR_L2</td>\n",
       "      <td>0.730337</td>\n",
       "      <td>0.731795</td>\n",
       "      <td>0.728514</td>\n",
       "      <td>0.728659</td>\n",
       "      <td>0.787159</td>\n",
       "      <td>NaN</td>\n",
       "      <td>amilcar22</td>\n",
       "      <td>13</td>\n",
       "      <td>2023-10-27 19:58:08.515342</td>\n",
       "      <td>modelo_0042_bin_s_RF_LR_L2.pkl</td>\n",
       "      <td>{'selector__max_features': 1000, 'selector__es...</td>\n",
       "      <td>X_test:(89, 18875)</td>\n",
       "      <td>['ENSG00000002587.10', 'ENSG00000003393.16', '...</td>\n",
       "      <td>42.0</td>\n",
       "    </tr>\n",
       "    <tr>\n",
       "      <th>0</th>\n",
       "      <td>bin_s</td>\n",
       "      <td>RF</td>\n",
       "      <td>LR_L1</td>\n",
       "      <td>0.674157</td>\n",
       "      <td>0.674235</td>\n",
       "      <td>0.672649</td>\n",
       "      <td>0.672670</td>\n",
       "      <td>0.776542</td>\n",
       "      <td>NaN</td>\n",
       "      <td>amilcar22</td>\n",
       "      <td>427</td>\n",
       "      <td>2023-10-27 19:57:48.880886</td>\n",
       "      <td>modelo_0042_bin_s_RF_LR_L1.pkl</td>\n",
       "      <td>{'selector__max_features': 1000, 'selector__es...</td>\n",
       "      <td>X_test:(89, 18875)</td>\n",
       "      <td>['ENSG00000001561.7', 'ENSG00000002587.10', 'E...</td>\n",
       "      <td>42.0</td>\n",
       "    </tr>\n",
       "  </tbody>\n",
       "</table>\n",
       "</div>"
      ],
      "text/plain": [
       "    tipo select clasific  accuracy  precision    recall  f1_score   roc_auc  \\\n",
       "0  bin_s     RF       RF  0.584270   0.583418  0.582659  0.582372  0.712336   \n",
       "0  bin_s     RF    LR_L2  0.730337   0.731795  0.728514  0.728659  0.787159   \n",
       "0  bin_s     RF    LR_L1  0.674157   0.674235  0.672649  0.672670  0.776542   \n",
       "\n",
       "   roc_auc_ovr   hostname  total_time_sec                    datetime  \\\n",
       "0          NaN  amilcar22              30  2023-10-27 19:58:45.677199   \n",
       "0          NaN  amilcar22              13  2023-10-27 19:58:08.515342   \n",
       "0          NaN  amilcar22             427  2023-10-27 19:57:48.880886   \n",
       "\n",
       "                   fichero_modelo  \\\n",
       "0     modelo_0042_bin_s_RF_RF.pkl   \n",
       "0  modelo_0042_bin_s_RF_LR_L2.pkl   \n",
       "0  modelo_0042_bin_s_RF_LR_L1.pkl   \n",
       "\n",
       "                                              params               shape  \\\n",
       "0  {'selector__max_features': 500, 'selector__est...  X_test:(89, 18875)   \n",
       "0  {'selector__max_features': 1000, 'selector__es...  X_test:(89, 18875)   \n",
       "0  {'selector__max_features': 1000, 'selector__es...  X_test:(89, 18875)   \n",
       "\n",
       "                                            features  semilla  \n",
       "0  ['ENSG00000002587.10', 'ENSG00000003393.16', '...     42.0  \n",
       "0  ['ENSG00000002587.10', 'ENSG00000003393.16', '...     42.0  \n",
       "0  ['ENSG00000001561.7', 'ENSG00000002587.10', 'E...     42.0  "
      ]
     },
     "metadata": {},
     "output_type": "display_data"
    }
   ],
   "source": [
    "if M_TIPO.startswith(\"bin\"):\n",
    "    myfunc.save_metricas_to_csv(random_search, X_test, y_test, M_TIPO, M_SELECT, M_CLASIF, total_time, SEMILLA, myfunc.MET_DIR, M_FICHERO, fichero_modelo)\n",
    "else:\n",
    "    myfunc.save_metricas_multi_to_csv(random_search, X_test, y_test, M_TIPO, M_SELECT, M_CLASIF, total_time, SEMILLA, myfunc.MET_DIR, M_FICHERO, fichero_modelo)\n",
    "\n",
    "df1=myfunc.read_metricas_to_df(myfunc.MET_DIR,M_FICHERO)\n",
    "\n",
    "display(df1.sort_values(\"datetime\", ascending=False)[:3])\n"
   ]
  },
  {
   "cell_type": "markdown",
   "id": "6866e132",
   "metadata": {
    "papermill": {
     "duration": 0.004027,
     "end_time": "2023-10-27T17:58:45.727642",
     "exception": false,
     "start_time": "2023-10-27T17:58:45.723615",
     "status": "completed"
    },
    "tags": []
   },
   "source": [
    "#### Guardar resultados"
   ]
  },
  {
   "cell_type": "code",
   "execution_count": 13,
   "id": "97c9f5eb",
   "metadata": {
    "execution": {
     "iopub.execute_input": "2023-10-27T17:58:45.736567Z",
     "iopub.status.busy": "2023-10-27T17:58:45.736327Z",
     "iopub.status.idle": "2023-10-27T17:58:45.745139Z",
     "shell.execute_reply": "2023-10-27T17:58:45.744635Z"
    },
    "papermill": {
     "duration": 0.014656,
     "end_time": "2023-10-27T17:58:45.746370",
     "exception": false,
     "start_time": "2023-10-27T17:58:45.731714",
     "status": "completed"
    },
    "tags": []
   },
   "outputs": [
    {
     "name": "stdout",
     "output_type": "stream",
     "text": [
      "20231027T195845 : amilcar22 : INFO : Inicio guardar resultados\n",
      "20231027T195845 : amilcar22 : INFO : Inicio guardar fichero ../tfm_git/ejecuciones/metricas/resultados_0042_bin_s-RF-RF.csv\n",
      "20231027T195845 : amilcar22 : INFO : Fin guardar fichero ../tfm_git/ejecuciones/metricas/resultados_0042_bin_s-RF-RF.csv\n",
      "20231027T195845 : amilcar22 : INFO : Fin guardar resultados\n"
     ]
    }
   ],
   "source": [
    "fichero_resultados=R_FICHERO+\"_\"+M_TIPO+\"-\"+M_SELECT+\"-\"+M_CLASIF+\".csv\"\n",
    "myfunc.save_resultados_to_csv(M_TIPO, M_SELECT, M_CLASIF,  random_search, myfunc.MET_DIR, fichero_resultados)\n"
   ]
  }
 ],
 "metadata": {
  "kernelspec": {
   "display_name": "Python 3 (ipykernel)",
   "language": "python",
   "name": "python3"
  },
  "language_info": {
   "codemirror_mode": {
    "name": "ipython",
    "version": 3
   },
   "file_extension": ".py",
   "mimetype": "text/x-python",
   "name": "python",
   "nbconvert_exporter": "python",
   "pygments_lexer": "ipython3",
   "version": "3.10.12"
  },
  "papermill": {
   "default_parameters": {},
   "duration": 35.664352,
   "end_time": "2023-10-27T17:58:48.368400",
   "environment_variables": {},
   "exception": null,
   "input_path": "03_entrenamiento.ipynb",
   "output_path": "ejecuciones/training/03_entrenamiento.20231027T195812.param_0000_0042_bin_s_RF_RF.output.ipynb",
   "parameters": {
    "MAX_ITERS": 500,
    "M_CLASIF": "RF",
    "M_FICHERO": "metricas_0042",
    "M_SELECT": "RF",
    "M_TIPO": "bin_s",
    "PRE_DATA_FILE": "rows_transpose_norm_by_gene_id_with_target_num_",
    "P_FICHERO": "param_0000_0042_bin_s_RF_RF.yaml",
    "R_FICHERO": "resultados_0042",
    "SCORING": "roc_auc_ovr",
    "SEMILLA": 42,
    "eval_clasifier": "RandomForestClassifier(random_state=SEMILLA)",
    "eval_selector": "SelectFromModel(estimator=RandomForestClassifier(random_state=SEMILLA), threshold=-np.inf)",
    "param_distributions": {
     "clasifier__bootstrap": [
      true
     ],
     "clasifier__max_depth": [
      10
     ],
     "clasifier__max_features": [
      200
     ],
     "clasifier__min_samples_leaf": [
      5
     ],
     "clasifier__min_samples_split": [
      10
     ],
     "clasifier__n_estimators": [
      400
     ],
     "selector__estimator__n_estimators": [
      400
     ],
     "selector__max_features": [
      500
     ]
    }
   },
   "start_time": "2023-10-27T17:58:12.704048",
   "version": "2.4.0"
  }
 },
 "nbformat": 4,
 "nbformat_minor": 5
}