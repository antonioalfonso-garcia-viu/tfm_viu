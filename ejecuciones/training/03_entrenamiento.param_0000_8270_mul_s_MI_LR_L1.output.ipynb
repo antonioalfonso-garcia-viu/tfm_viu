{
 "cells": [
  {
   "cell_type": "markdown",
   "id": "4ba2e3be",
   "metadata": {
    "papermill": {
     "duration": 0.005336,
     "end_time": "2023-10-30T00:33:00.791749",
     "exception": false,
     "start_time": "2023-10-30T00:33:00.786413",
     "status": "completed"
    },
    "tags": []
   },
   "source": [
    "##### Inicio"
   ]
  },
  {
   "cell_type": "markdown",
   "id": "8b726ab0",
   "metadata": {
    "papermill": {
     "duration": 0.003415,
     "end_time": "2023-10-30T00:33:00.798824",
     "exception": false,
     "start_time": "2023-10-30T00:33:00.795409",
     "status": "completed"
    },
    "tags": []
   },
   "source": [
    "#### Carga de datos"
   ]
  },
  {
   "cell_type": "code",
   "execution_count": 1,
   "id": "a382dd75",
   "metadata": {
    "execution": {
     "iopub.execute_input": "2023-10-30T00:33:00.806752Z",
     "iopub.status.busy": "2023-10-30T00:33:00.806266Z",
     "iopub.status.idle": "2023-10-30T00:33:01.932822Z",
     "shell.execute_reply": "2023-10-30T00:33:01.932215Z"
    },
    "papermill": {
     "duration": 1.132219,
     "end_time": "2023-10-30T00:33:01.934353",
     "exception": false,
     "start_time": "2023-10-30T00:33:00.802134",
     "status": "completed"
    },
    "tags": []
   },
   "outputs": [
    {
     "name": "stdout",
     "output_type": "stream",
     "text": [
      "CPU_COUNT: 16; NODE: enderlab; sys.version: 3.10.11 (main, May 16 2023, 00:28:57) [GCC 11.2.0]\n",
      "LOKY_MAX_CPU_COUNT is not set.\n",
      "OMP_NUM_THREADS is not set.\n"
     ]
    }
   ],
   "source": [
    "import os\n",
    "import numpy as np\n",
    "import pandas as pd\n",
    "import datetime\n",
    "import sklearn\n",
    "import logging\n",
    "import warnings\n",
    "\n",
    "from sklearn.pipeline import Pipeline\n",
    "from sklearn.model_selection import RandomizedSearchCV, KFold, cross_val_score, train_test_split\n",
    "from sklearn.metrics import accuracy_score, confusion_matrix, classification_report, roc_auc_score\n",
    "\n",
    "#  cargar algoritmos para aprendizaje supervisado\n",
    "from sklearn.feature_selection import SelectKBest, f_classif, SelectFromModel, mutual_info_classif\n",
    "from sklearn.svm import SVC\n",
    "from sklearn.ensemble import RandomForestClassifier\n",
    "from sklearn.linear_model import LogisticRegression,LogisticRegressionCV\n",
    "\n",
    "# importar fichero con utilidades propias\n",
    "from commons import myfunctions as myfunc\n"
   ]
  },
  {
   "cell_type": "markdown",
   "id": "36ab6dcb",
   "metadata": {
    "papermill": {
     "duration": 0.003552,
     "end_time": "2023-10-30T00:33:01.941975",
     "exception": false,
     "start_time": "2023-10-30T00:33:01.938423",
     "status": "completed"
    },
    "tags": []
   },
   "source": [
    "#### Parámetros a utilizar en el entrenamiento.\n",
    "\n",
    "Se indican los 3 algoritmos de *selección de características* (eval_selector_xxx) y los 3 algoritmos para la _clasificación_ (eval_clasifier_xxx)\n",
    "\n",
    "En *param_distributions* se indicar los parámetros que utilizan los algoritmos en la función RandomSearchCV.\n",
    "\n",
    "Esta celda tiene la etiqueta **parameters** que servirá para poder lanzar los entrenamientos con la utilidad **papermill** pasándole un fichero con los parámetros. Los nuevos parámetros se situarán tras esta celda para tener prevalencia."
   ]
  },
  {
   "cell_type": "code",
   "execution_count": 2,
   "id": "016a7d53",
   "metadata": {
    "execution": {
     "iopub.execute_input": "2023-10-30T00:33:01.950412Z",
     "iopub.status.busy": "2023-10-30T00:33:01.949857Z",
     "iopub.status.idle": "2023-10-30T00:33:01.958452Z",
     "shell.execute_reply": "2023-10-30T00:33:01.957884Z"
    },
    "papermill": {
     "duration": 0.014965,
     "end_time": "2023-10-30T00:33:01.960419",
     "exception": false,
     "start_time": "2023-10-30T00:33:01.945454",
     "status": "completed"
    },
    "tags": [
     "parameters"
    ]
   },
   "outputs": [
    {
     "name": "stdout",
     "output_type": "stream",
     "text": [
      "20231030T013301 : enderlab : INFO : Utilizando parámetros de mul_m\n"
     ]
    }
   ],
   "source": [
    "#  Parametros para el entrenamiento\n",
    "\n",
    "SEMILLA=        42\n",
    "M_TIPO=         \"mul_m\"\n",
    "M_SELECT=       \"MI\"\n",
    "M_CLASIF=       \"SVM\"\n",
    "R_FICHERO=      \"resultados\"\n",
    "M_FICHERO=      \"metricas\"\n",
    "PRE_DATA_FILE=  \"rows_transpose_norm_by_gene_id_with_target_num_\"\n",
    "SCORING=        \"roc_auc_ovr\" \n",
    "MAX_ITERS=      100\n",
    "\n",
    "def mutual_info_classif_state(X, y):\n",
    "    return mutual_info_classif(X, y, random_state=SEMILLA)\n",
    "\n",
    "eval_selector_mi = \"SelectKBest(score_func=mutual_info_classif_state)\"\n",
    "eval_selector_rf=  \"SelectFromModel(estimator=RandomForestClassifier(random_state=SEMILLA), threshold=-np.inf)\"\n",
    "eval_selector_anova=  \"SelectKBest(score_func=f_classif)\"\n",
    "\n",
    "eval_clasifier_svm= \"SVC(probability=True, random_state=SEMILLA)\"\n",
    "eval_clasifier_rf= \"RandomForestClassifier(random_state=SEMILLA)\"\n",
    "eval_clasifier_lr= \"LogisticRegressionCV(random_state=SEMILLA)\"\n",
    "\n",
    "if M_TIPO.startswith(\"bin_m\"):\n",
    "    myfunc.verbose(f\"Utilizando parámetros de {M_TIPO}\")\n",
    "    eval_selector = eval_selector_mi\n",
    "    eval_clasifier = eval_clasifier_svm\n",
    "\n",
    "    SEMILLA = 6578\n",
    "    M_SELECT = \"MI\"\n",
    "    M_CLASIF = \"SVM\"\n",
    "    param_distributions = {'selector__k': [1000], \n",
    "         'clasifier__kernel': ['rbf'], 'clasifier__gamma': [0.01], 'clasifier__C': [100]}\n",
    "elif M_TIPO.startswith(\"bin_s\"):\n",
    "    myfunc.verbose(f\"Utilizando parámetros de {M_TIPO}\")\n",
    "    eval_selector = eval_selector_rf\n",
    "    eval_clasifier = eval_clasifier_lr\n",
    "\n",
    "    SEMILLA = 6191\n",
    "    M_SELECT = \"RF\"\n",
    "    M_CLASIF = \"LR_L2\"\n",
    "    param_distributions = {'selector__max_features': [1000], 'selector__estimator__n_estimators': [200], \n",
    "        'clasifier__solver': ['lbfgs'], 'clasifier__penalty': ['l2'], 'clasifier__max_iter': [10000]}\n",
    "\n",
    "elif M_TIPO.startswith(\"mul_m\"):\n",
    "    myfunc.verbose(f\"Utilizando parámetros de {M_TIPO}\")\n",
    " \n",
    "    eval_selector = eval_selector_rf\n",
    "    eval_clasifier = eval_clasifier_lr\n",
    "\n",
    "    SEMILLA = 6191\n",
    "    M_SELECT = \"RF\"\n",
    "    M_CLASIF = \"LR_L2\"\n",
    "    param_distributions = {'selector__max_features': [1000], 'selector__estimator__n_estimators': [400], \n",
    "        'clasifier__solver': ['lbfgs'], 'clasifier__penalty': ['l2'], 'clasifier__max_iter': [10000]}\n",
    "\n",
    "else:\n",
    "    # M_TIPO.startswith(\"mul_s\"):\n",
    "    myfunc.verbose(f\"Utilizando parámetros de {M_TIPO}\")\n",
    "    eval_selector = eval_selector_anova\n",
    "    eval_clasifier = eval_clasifier_lr\n",
    "\n",
    "    SEMILLA = 1860\n",
    "    M_SELECT = \"ANOVA\"\n",
    "    M_CLASIF = \"LR_L2\"\n",
    "    param_distributions = {'selector__k': [1000], \n",
    "        'clasifier__solver': ['saga'], 'clasifier__penalty': ['l2'], 'clasifier__max_iter': [10000]}\n",
    "\n"
   ]
  },
  {
   "cell_type": "code",
   "execution_count": 3,
   "id": "7158e86d",
   "metadata": {
    "execution": {
     "iopub.execute_input": "2023-10-30T00:33:01.969399Z",
     "iopub.status.busy": "2023-10-30T00:33:01.968881Z",
     "iopub.status.idle": "2023-10-30T00:33:01.973309Z",
     "shell.execute_reply": "2023-10-30T00:33:01.972627Z"
    },
    "papermill": {
     "duration": 0.010397,
     "end_time": "2023-10-30T00:33:01.974616",
     "exception": false,
     "start_time": "2023-10-30T00:33:01.964219",
     "status": "completed"
    },
    "tags": [
     "injected-parameters"
    ]
   },
   "outputs": [],
   "source": [
    "# Parameters\n",
    "M_TIPO = \"mul_s\"\n",
    "M_SELECT = \"MI\"\n",
    "M_CLASIF = \"LR_L1\"\n",
    "P_FICHERO = \"param_0000_8270_mul_s_MI_LR_L1.yaml\"\n",
    "R_FICHERO = \"resultados_8270\"\n",
    "M_FICHERO = \"metricas_8270\"\n",
    "PRE_DATA_FILE = \"rows_transpose_norm_by_gene_id_with_target_num_\"\n",
    "SCORING = \"roc_auc_ovr\"\n",
    "SEMILLA = 8270\n",
    "MAX_ITERS = 500\n",
    "eval_selector = \"SelectKBest(score_func=mutual_info_classif_state)\"\n",
    "eval_clasifier = \"LogisticRegressionCV(random_state=SEMILLA)\"\n",
    "param_distributions = {\n",
    "    \"selector__k\": [500],\n",
    "    \"clasifier__solver\": [\"saga\"],\n",
    "    \"clasifier__penalty\": [\"l1\"],\n",
    "    \"clasifier__max_iter\": [10000],\n",
    "}\n"
   ]
  },
  {
   "cell_type": "code",
   "execution_count": 4,
   "id": "c83a88d7",
   "metadata": {
    "execution": {
     "iopub.execute_input": "2023-10-30T00:33:01.984486Z",
     "iopub.status.busy": "2023-10-30T00:33:01.984131Z",
     "iopub.status.idle": "2023-10-30T00:33:01.987928Z",
     "shell.execute_reply": "2023-10-30T00:33:01.987361Z"
    },
    "papermill": {
     "duration": 0.011072,
     "end_time": "2023-10-30T00:33:01.989435",
     "exception": false,
     "start_time": "2023-10-30T00:33:01.978363",
     "status": "completed"
    },
    "tags": []
   },
   "outputs": [],
   "source": [
    "DATA_FILE = PRE_DATA_FILE + M_TIPO\n",
    "\n",
    "# si viene \"None\" en el parámetro max_depth, se le quitan las comillas para que no sea entendido por el algoritmo como un texto\n",
    "if \"clasifier__max_depth\" in param_distributions:\n",
    "    param_distributions['clasifier__max_depth'] = [None if x == 'None' else x for x in param_distributions['clasifier__max_depth']]"
   ]
  },
  {
   "cell_type": "markdown",
   "id": "1116014e",
   "metadata": {
    "papermill": {
     "duration": 0.003815,
     "end_time": "2023-10-30T00:33:01.997166",
     "exception": false,
     "start_time": "2023-10-30T00:33:01.993351",
     "status": "completed"
    },
    "tags": []
   },
   "source": [
    "Asignar los algoritmos que se utilizarán en la función RandomSearchCV"
   ]
  },
  {
   "cell_type": "code",
   "execution_count": 5,
   "id": "26d12209",
   "metadata": {
    "execution": {
     "iopub.execute_input": "2023-10-30T00:33:02.006578Z",
     "iopub.status.busy": "2023-10-30T00:33:02.006025Z",
     "iopub.status.idle": "2023-10-30T00:33:02.009530Z",
     "shell.execute_reply": "2023-10-30T00:33:02.008908Z"
    },
    "papermill": {
     "duration": 0.010239,
     "end_time": "2023-10-30T00:33:02.011337",
     "exception": false,
     "start_time": "2023-10-30T00:33:02.001098",
     "status": "completed"
    },
    "tags": []
   },
   "outputs": [],
   "source": [
    "algor_selector=eval(eval_selector)\n",
    "algor_clasifier=eval(eval_clasifier)"
   ]
  },
  {
   "cell_type": "markdown",
   "id": "a1a7b5cb",
   "metadata": {
    "papermill": {
     "duration": 0.005444,
     "end_time": "2023-10-30T00:33:02.023024",
     "exception": false,
     "start_time": "2023-10-30T00:33:02.017580",
     "status": "completed"
    },
    "tags": []
   },
   "source": [
    "#### Comprobar el entorno y leer fichero de muestras"
   ]
  },
  {
   "cell_type": "code",
   "execution_count": 6,
   "id": "cac0251b",
   "metadata": {
    "execution": {
     "iopub.execute_input": "2023-10-30T00:33:02.037450Z",
     "iopub.status.busy": "2023-10-30T00:33:02.036808Z",
     "iopub.status.idle": "2023-10-30T00:33:02.218810Z",
     "shell.execute_reply": "2023-10-30T00:33:02.218157Z"
    },
    "papermill": {
     "duration": 0.191191,
     "end_time": "2023-10-30T00:33:02.220293",
     "exception": false,
     "start_time": "2023-10-30T00:33:02.029102",
     "status": "completed"
    },
    "tags": []
   },
   "outputs": [
    {
     "name": "stdout",
     "output_type": "stream",
     "text": [
      "20231030T013302 : enderlab : INFO : Encontrada carpeta DATA_DIR=../tfm_git/datos\n",
      "20231030T013302 : enderlab : INFO : Encontrada carpeta CFDNA_DIR=../tfm_git/datos/cfDNA_5hmC\n",
      "20231030T013302 : enderlab : INFO : Encontrada carpeta GENCODE_DIR=../tfm_git/datos/gencode\n",
      "20231030T013302 : enderlab : INFO : Encontrada carpeta H5_DIR=../tfm_git/datos/h5\n",
      "20231030T013302 : enderlab : INFO : Encontrada carpeta LOG_DIR=../tfm_git/datos/logs\n",
      "20231030T013302 : enderlab : INFO : Encontrada carpeta CSV_DIR=../tfm_git/datos/csv\n",
      "20231030T013302 : enderlab : INFO : Encontrada carpeta MODEL_DIR=../tfm_git/ejecuciones/modelos\n",
      "20231030T013302 : enderlab : INFO : Encontrada carpeta EXEC_DIR=../tfm_git/ejecuciones\n",
      "20231030T013302 : enderlab : INFO : Encontrada carpeta MET_DIR=../tfm_git/ejecuciones/metricas\n",
      "20231030T013302 : enderlab : INFO : Inicio leer fichero h5 ../tfm_git/datos/h5/rows_transpose_norm_by_gene_id_with_target_num_mul_s.h5\n",
      "20231030T013302 : enderlab : INFO : Leyendo clave /df\n"
     ]
    },
    {
     "name": "stdout",
     "output_type": "stream",
     "text": [
      "20231030T013302 : enderlab : INFO : Tamaño (259, 18876)\n",
      "20231030T013302 : enderlab : INFO : Fin leer fichero h5 ../tfm_git/datos/h5/rows_transpose_norm_by_gene_id_with_target_num_mul_s.h5\n"
     ]
    },
    {
     "data": {
      "text/plain": [
       "target\n",
       "0    37\n",
       "1    37\n",
       "2    37\n",
       "3    37\n",
       "4    37\n",
       "5    37\n",
       "6    37\n",
       "dtype: int64"
      ]
     },
     "metadata": {},
     "output_type": "display_data"
    },
    {
     "name": "stdout",
     "output_type": "stream",
     "text": [
      "Shape df: (259, 18876)\n",
      "Shape X_train: (207, 18875)\n",
      "Shape X_test: (52, 18875)\n"
     ]
    }
   ],
   "source": [
    "start_time = datetime.datetime.now()\n",
    "\n",
    "myfunc.reset_vars()\n",
    "\n",
    "myfunc.NOTEBK_FILENAME = myfunc.get_nb_name()\n",
    "\n",
    "myfunc.check_enviroment(myfunc.DATA_DIR, myfunc.CFDNA_DIR, myfunc.GENCODE_DIR, myfunc.H5_DIR, myfunc.LOG_DIR, myfunc.CSV_DIR, myfunc.MODEL_DIR, myfunc.EXEC_DIR, myfunc.MET_DIR)\n",
    "\n",
    "# Leer fichero con las muestras\n",
    "df_t = myfunc.read_h5_to_df(DATA_FILE, myfunc.H5_DIR)\n",
    "display(df_t.groupby(\"target\").size())\n",
    "print(\"Shape df:\",df_t.shape)\n",
    "\n",
    "# Separar caracteristicas/genes de las etiquetas/tipos de cáncer\n",
    "X = df_t.iloc[:, :-1]  # Todas las columnas excepto la última\n",
    "y = df_t.iloc[:, -1]  # La última columna contiene los identificadores de los tipos de cáncer\n",
    "\n",
    "#  Crear el conjunto de datos de entrenamiento y de pruebas, y se fija la semilla para siempre coger el mismo juego de muestras\n",
    "X_train, X_test, y_train, y_test = train_test_split(X, y, test_size=0.2, shuffle=True, random_state=42)\n",
    "print(\"Shape X_train:\",X_train.shape)\n",
    "print(\"Shape X_test:\",X_test.shape)\n"
   ]
  },
  {
   "cell_type": "markdown",
   "id": "725bbdac",
   "metadata": {
    "papermill": {
     "duration": 0.00407,
     "end_time": "2023-10-30T00:33:02.229086",
     "exception": false,
     "start_time": "2023-10-30T00:33:02.225016",
     "status": "completed"
    },
    "tags": []
   },
   "source": [
    "#### Selección de características y clasificación."
   ]
  },
  {
   "cell_type": "code",
   "execution_count": 7,
   "id": "3e11c259",
   "metadata": {
    "execution": {
     "iopub.execute_input": "2023-10-30T00:33:02.238807Z",
     "iopub.status.busy": "2023-10-30T00:33:02.238202Z",
     "iopub.status.idle": "2023-10-30T00:44:31.864655Z",
     "shell.execute_reply": "2023-10-30T00:44:31.863654Z"
    },
    "papermill": {
     "duration": 689.637177,
     "end_time": "2023-10-30T00:44:31.870249",
     "exception": false,
     "start_time": "2023-10-30T00:33:02.233072",
     "status": "completed"
    },
    "tags": []
   },
   "outputs": [
    {
     "name": "stdout",
     "output_type": "stream",
     "text": [
      "20231030T013302 : enderlab : INFO : Iniciando entrenamiento\n",
      "num_iter: 1 , max_iter: 1\n"
     ]
    },
    {
     "name": "stdout",
     "output_type": "stream",
     "text": [
      "Fitting 5 folds for each of 1 candidates, totalling 5 fits\n"
     ]
    },
    {
     "name": "stdout",
     "output_type": "stream",
     "text": [
      "[CV 3/5] END clasifier__max_iter=10000, clasifier__penalty=l1, clasifier__solver=saga, selector__k=500;, score=0.700 total time= 3.9min\n"
     ]
    },
    {
     "name": "stdout",
     "output_type": "stream",
     "text": [
      "[CV 4/5] END clasifier__max_iter=10000, clasifier__penalty=l1, clasifier__solver=saga, selector__k=500;, score=0.777 total time= 4.7min\n"
     ]
    },
    {
     "name": "stdout",
     "output_type": "stream",
     "text": [
      "[CV 5/5] END clasifier__max_iter=10000, clasifier__penalty=l1, clasifier__solver=saga, selector__k=500;, score=0.783 total time= 4.8min\n"
     ]
    },
    {
     "name": "stdout",
     "output_type": "stream",
     "text": [
      "[CV 1/5] END clasifier__max_iter=10000, clasifier__penalty=l1, clasifier__solver=saga, selector__k=500;, score=0.844 total time= 4.9min\n"
     ]
    },
    {
     "name": "stdout",
     "output_type": "stream",
     "text": [
      "[CV 2/5] END clasifier__max_iter=10000, clasifier__penalty=l1, clasifier__solver=saga, selector__k=500;, score=0.748 total time= 5.0min\n"
     ]
    },
    {
     "name": "stdout",
     "output_type": "stream",
     "text": [
      "Mejores Hiperparámetros: {'selector__k': 500, 'clasifier__solver': 'saga', 'clasifier__penalty': 'l1', 'clasifier__max_iter': 10000}\n",
      "Mejor Puntuación: 0.7706\n",
      "20231030T014431 : enderlab : INFO : Fin entrenamiento\n"
     ]
    }
   ],
   "source": [
    "myfunc.verbose(\"Iniciando entrenamiento\")\n",
    "\n",
    "kf = KFold(n_splits=5, shuffle=True, random_state=SEMILLA)\n",
    "\n",
    "# Crear el pipeline para el flujo de tareas\n",
    "tasks_pipeline = Pipeline([\n",
    "    ('selector', algor_selector),\n",
    "    ('clasifier', algor_clasifier)\n",
    "])\n",
    "\n",
    "# MAX_ITERS puede limitar el número de iteraciones si son excesivas para las combinaciones de parámetros buscando un óptimo local, \n",
    "# sino funcionaría como GridSearchCV al revisar todas las cominaciones de los parámetros\n",
    "num_iteraciones = 1\n",
    "num_iteraciones = num_iteraciones * np.prod([len(elemento1) for _, elemento1 in param_distributions.items()])\n",
    "max_iteraciones = num_iteraciones if num_iteraciones <= MAX_ITERS else MAX_ITERS\n",
    "print(\"num_iter:\",num_iteraciones,\", max_iter:\",max_iteraciones)\n",
    "\n",
    "random_search = RandomizedSearchCV(\n",
    "    tasks_pipeline, \n",
    "    param_distributions, \n",
    "    n_iter=max_iteraciones,\n",
    "    scoring=SCORING,\n",
    "    cv=kf,\n",
    "    verbose=3, \n",
    "    random_state=SEMILLA, \n",
    "    n_jobs=-1\n",
    "    )\n",
    "\n",
    "# Entrenar el modelo\n",
    "random_search.fit(X_train, y_train)\n",
    "\n",
    "# Ver los mejores hiperparámetros encontrados\n",
    "print(f'Mejores Hiperparámetros: {random_search.best_params_}')\n",
    "print(f'Mejor Puntuación: {random_search.best_score_:.4f}')\n",
    "\n",
    "# Nos quedamos con el mejor modelo para ver las métricas\n",
    "mejor_modelo = random_search.best_estimator_\n",
    "\n",
    "myfunc.verbose(\"Fin entrenamiento\")"
   ]
  },
  {
   "cell_type": "markdown",
   "id": "d0ed8b49",
   "metadata": {
    "papermill": {
     "duration": 0.004404,
     "end_time": "2023-10-30T00:44:31.879461",
     "exception": false,
     "start_time": "2023-10-30T00:44:31.875057",
     "status": "completed"
    },
    "tags": []
   },
   "source": [
    "#### Guardar modelo"
   ]
  },
  {
   "cell_type": "code",
   "execution_count": 8,
   "id": "c0e9f5ab",
   "metadata": {
    "execution": {
     "iopub.execute_input": "2023-10-30T00:44:31.889871Z",
     "iopub.status.busy": "2023-10-30T00:44:31.889484Z",
     "iopub.status.idle": "2023-10-30T00:44:31.901456Z",
     "shell.execute_reply": "2023-10-30T00:44:31.900899Z"
    },
    "papermill": {
     "duration": 0.019217,
     "end_time": "2023-10-30T00:44:31.902968",
     "exception": false,
     "start_time": "2023-10-30T00:44:31.883751",
     "status": "completed"
    },
    "tags": []
   },
   "outputs": [
    {
     "name": "stdout",
     "output_type": "stream",
     "text": [
      "20231030T014431 : enderlab : INFO : Inicio guardar fichero ../tfm_git/ejecuciones/modelos/modelo_8270_mul_s_MI_LR_L1.pkl\n",
      "20231030T014431 : enderlab : INFO : Fin guardar fichero ../tfm_git/ejecuciones/modelos/modelo_8270_mul_s_MI_LR_L1.pkl\n"
     ]
    }
   ],
   "source": [
    "fichero_modelo = str.replace(\"modelo_\"+str(SEMILLA).zfill(4)+\"_\"+M_TIPO+\"_\"+M_SELECT+\"_\"+M_CLASIF+\".pkl\", \" \", \"_\")\n",
    "\n",
    "myfunc.save_modelo(mejor_modelo, myfunc.MODEL_DIR, fichero_modelo)"
   ]
  },
  {
   "cell_type": "markdown",
   "id": "d88a962a",
   "metadata": {
    "papermill": {
     "duration": 0.004532,
     "end_time": "2023-10-30T00:44:31.912140",
     "exception": false,
     "start_time": "2023-10-30T00:44:31.907608",
     "status": "completed"
    },
    "tags": []
   },
   "source": [
    "#### Ver resultados del las iteraciones hechas por RandomSearchCV"
   ]
  },
  {
   "cell_type": "code",
   "execution_count": 9,
   "id": "2fba9be5",
   "metadata": {
    "execution": {
     "iopub.execute_input": "2023-10-30T00:44:31.922556Z",
     "iopub.status.busy": "2023-10-30T00:44:31.922010Z",
     "iopub.status.idle": "2023-10-30T00:44:31.929296Z",
     "shell.execute_reply": "2023-10-30T00:44:31.928751Z"
    },
    "papermill": {
     "duration": 0.014035,
     "end_time": "2023-10-30T00:44:31.930637",
     "exception": false,
     "start_time": "2023-10-30T00:44:31.916602",
     "status": "completed"
    },
    "tags": []
   },
   "outputs": [
    {
     "name": "stdout",
     "output_type": "stream",
     "text": [
      "20231030T014431 : enderlab : INFO : Inicio ver resultados\n",
      "Mejores Hiperparámetros: {'selector__k': 500, 'clasifier__solver': 'saga', 'clasifier__penalty': 'l1', 'clasifier__max_iter': 10000}\n",
      "Mejores puntuaciones: 0.7706 | Params: {'selector__k': 500, 'clasifier__solver': 'saga', 'clasifier__penalty': 'l1', 'clasifier__max_iter': 10000}\n",
      "Media de las puntuaciones: 0.7706 | Params: {'selector__k': 500, 'clasifier__solver': 'saga', 'clasifier__penalty': 'l1', 'clasifier__max_iter': 10000}\n",
      "20231030T014431 : enderlab : INFO : Fin resultados\n"
     ]
    }
   ],
   "source": [
    "myfunc.ver_resultados_search(random_search)"
   ]
  },
  {
   "cell_type": "markdown",
   "id": "085ea207",
   "metadata": {
    "papermill": {
     "duration": 0.004522,
     "end_time": "2023-10-30T00:44:31.939695",
     "exception": false,
     "start_time": "2023-10-30T00:44:31.935173",
     "status": "completed"
    },
    "tags": []
   },
   "source": [
    "#### Ver métricas del mejor modelo"
   ]
  },
  {
   "cell_type": "code",
   "execution_count": 10,
   "id": "b74d7888",
   "metadata": {
    "execution": {
     "iopub.execute_input": "2023-10-30T00:44:31.949846Z",
     "iopub.status.busy": "2023-10-30T00:44:31.949420Z",
     "iopub.status.idle": "2023-10-30T00:44:32.669082Z",
     "shell.execute_reply": "2023-10-30T00:44:32.668479Z"
    },
    "papermill": {
     "duration": 0.726309,
     "end_time": "2023-10-30T00:44:32.670451",
     "exception": false,
     "start_time": "2023-10-30T00:44:31.944142",
     "status": "completed"
    },
    "tags": []
   },
   "outputs": [
    {
     "name": "stdout",
     "output_type": "stream",
     "text": [
      "20231030T014431 : enderlab : INFO : Inicio ver métricas multiclase\n"
     ]
    },
    {
     "name": "stdout",
     "output_type": "stream",
     "text": [
      "              precision    recall  f1-score   support\n",
      "\n",
      "           0       0.60      0.27      0.37        11\n",
      "           1       1.00      0.50      0.67         8\n",
      "           2       0.17      0.12      0.14         8\n",
      "           3       0.30      0.60      0.40         5\n",
      "           4       0.67      1.00      0.80         8\n",
      "           5       0.75      0.50      0.60         6\n",
      "           6       0.36      0.67      0.47         6\n",
      "\n",
      "    accuracy                           0.50        52\n",
      "   macro avg       0.55      0.52      0.49        52\n",
      "weighted avg       0.57      0.50      0.49        52\n",
      "\n",
      "\n",
      "\n",
      "           Exactitud: 0.500000\n",
      "   Precisión (media): 0.549567\n",
      "      Recall (media): 0.523485\n",
      "    F1-score (media): 0.493587\n",
      "\n",
      "\n",
      "AUC para el tipo de cáncer 0-Control.... 0.6341\n",
      "AUC para el tipo de cáncer 1-Bladder.... 0.9091\n",
      "AUC para el tipo de cáncer 2-Breast..... 0.7102\n",
      "AUC para el tipo de cáncer 3-Colorectal. 0.7234\n",
      "AUC para el tipo de cáncer 4-Kidney..... 0.9347\n",
      "AUC para el tipo de cáncer 5-Lung....... 0.9601\n"
     ]
    },
    {
     "name": "stdout",
     "output_type": "stream",
     "text": [
      "AUC para el tipo de cáncer 6-Prostate... 0.8514\n",
      "\n",
      "Media de AUC: 0.8176\n"
     ]
    },
    {
     "data": {
      "image/png": "[encoded data removed]",
      "text/plain": [
       "<Figure size 1000x600 with 1 Axes>"
      ]
     },
     "metadata": {},
     "output_type": "display_data"
    },
    {
     "name": "stdout",
     "output_type": "stream",
     "text": [
      "\n",
      "\n"
     ]
    },
    {
     "data": {
      "image/png": "[encoded data removed]",
      "text/plain": [
       "<Figure size 800x400 with 2 Axes>"
      ]
     },
     "metadata": {},
     "output_type": "display_data"
    },
    {
     "name": "stdout",
     "output_type": "stream",
     "text": [
      "\n",
      "\n",
      "Puntuación Jaccard para el cáncer tipo 0-Control.... 0.2308\n",
      "Puntuación Jaccard para el cáncer tipo 1-Bladder.... 0.5000\n",
      "Puntuación Jaccard para el cáncer tipo 2-Breast..... 0.0769\n",
      "Puntuación Jaccard para el cáncer tipo 3-Colorectal. 0.2500\n",
      "Puntuación Jaccard para el cáncer tipo 4-Kidney..... 0.6667\n",
      "Puntuación Jaccard para el cáncer tipo 5-Lung....... 0.4286\n",
      "Puntuación Jaccard para el cáncer tipo 6-Prostate... 0.3077\n",
      "\n",
      "Media de la puntuación de Jaccard: 0.3515\n"
     ]
    }
   ],
   "source": [
    "if M_TIPO.startswith(\"bin\"):\n",
    "    myfunc.ver_metricas(mejor_modelo, X_test, y_test)\n",
    "else:\n",
    "    myfunc.ver_metricas_multi(mejor_modelo, X_test, y_test)\n"
   ]
  },
  {
   "cell_type": "markdown",
   "id": "c62f79fd",
   "metadata": {
    "papermill": {
     "duration": 0.006297,
     "end_time": "2023-10-30T00:44:32.683568",
     "exception": false,
     "start_time": "2023-10-30T00:44:32.677271",
     "status": "completed"
    },
    "tags": []
   },
   "source": [
    "#### Finalización del notebook"
   ]
  },
  {
   "cell_type": "code",
   "execution_count": 11,
   "id": "b94d49c1",
   "metadata": {
    "execution": {
     "iopub.execute_input": "2023-10-30T00:44:32.696952Z",
     "iopub.status.busy": "2023-10-30T00:44:32.696466Z",
     "iopub.status.idle": "2023-10-30T00:44:32.700242Z",
     "shell.execute_reply": "2023-10-30T00:44:32.699697Z"
    },
    "papermill": {
     "duration": 0.011893,
     "end_time": "2023-10-30T00:44:32.701478",
     "exception": false,
     "start_time": "2023-10-30T00:44:32.689585",
     "status": "completed"
    },
    "tags": []
   },
   "outputs": [
    {
     "name": "stdout",
     "output_type": "stream",
     "text": [
      "20231030T014432 : enderlab : INFO : Notebook ha tardado 690 seconds\n"
     ]
    }
   ],
   "source": [
    "end_time = datetime.datetime.now()\n",
    "total_time = end_time - start_time\n",
    "myfunc.verbose(f\"Notebook ha tardado {total_time.seconds} seconds\")"
   ]
  },
  {
   "cell_type": "markdown",
   "id": "afb33ddd",
   "metadata": {
    "papermill": {
     "duration": 0.006125,
     "end_time": "2023-10-30T00:44:32.713565",
     "exception": false,
     "start_time": "2023-10-30T00:44:32.707440",
     "status": "completed"
    },
    "tags": []
   },
   "source": [
    "#### Guardar métricas"
   ]
  },
  {
   "cell_type": "code",
   "execution_count": 12,
   "id": "250559ed",
   "metadata": {
    "execution": {
     "iopub.execute_input": "2023-10-30T00:44:32.729589Z",
     "iopub.status.busy": "2023-10-30T00:44:32.729128Z",
     "iopub.status.idle": "2023-10-30T00:44:32.977190Z",
     "shell.execute_reply": "2023-10-30T00:44:32.976609Z"
    },
    "papermill": {
     "duration": 0.258809,
     "end_time": "2023-10-30T00:44:32.978566",
     "exception": false,
     "start_time": "2023-10-30T00:44:32.719757",
     "status": "completed"
    },
    "tags": []
   },
   "outputs": [
    {
     "name": "stdout",
     "output_type": "stream",
     "text": [
      "20231030T014432 : enderlab : INFO : Inicio guardar métricas multiclase\n",
      "20231030T014432 : enderlab : INFO : Inicio leer fichero ../tfm_git/ejecuciones/metricas/metricas_8270.csv\n",
      "20231030T014432 : enderlab : INFO : Fin leer fichero ../tfm_git/ejecuciones/metricas/metricas_8270.csv\n"
     ]
    },
    {
     "name": "stdout",
     "output_type": "stream",
     "text": [
      "20231030T014432 : enderlab : INFO : Inicio guardar fichero ../tfm_git/ejecuciones/metricas/metricas_8270.csv\n",
      "20231030T014432 : enderlab : INFO : Fichero borrado ../tfm_git/ejecuciones/metricas/metricas_8270.csv\n"
     ]
    },
    {
     "name": "stdout",
     "output_type": "stream",
     "text": [
      "20231030T014432 : enderlab : INFO : Fin guardar fichero ../tfm_git/ejecuciones/metricas/metricas_8270.csv\n",
      "20231030T014432 : enderlab : INFO : Fin guardar métricas multiclase\n",
      "20231030T014432 : enderlab : INFO : Inicio leer fichero ../tfm_git/ejecuciones/metricas/metricas_8270.csv\n",
      "20231030T014432 : enderlab : INFO : Fin leer fichero ../tfm_git/ejecuciones/metricas/metricas_8270.csv\n"
     ]
    },
    {
     "data": {
      "text/html": [
       "<div>\n",
       "<style scoped>\n",
       "    .dataframe tbody tr th:only-of-type {\n",
       "        vertical-align: middle;\n",
       "    }\n",
       "\n",
       "    .dataframe tbody tr th {\n",
       "        vertical-align: top;\n",
       "    }\n",
       "\n",
       "    .dataframe thead th {\n",
       "        text-align: right;\n",
       "    }\n",
       "</style>\n",
       "<table border=\"1\" class=\"dataframe\">\n",
       "  <thead>\n",
       "    <tr style=\"text-align: right;\">\n",
       "      <th></th>\n",
       "      <th>tipo</th>\n",
       "      <th>select</th>\n",
       "      <th>clasific</th>\n",
       "      <th>semilla</th>\n",
       "      <th>accuracy</th>\n",
       "      <th>precision</th>\n",
       "      <th>recall</th>\n",
       "      <th>f1_score</th>\n",
       "      <th>roc_auc</th>\n",
       "      <th>hostname</th>\n",
       "      <th>total_time_sec</th>\n",
       "      <th>datetime</th>\n",
       "      <th>fichero_modelo</th>\n",
       "      <th>params</th>\n",
       "      <th>shape</th>\n",
       "      <th>features</th>\n",
       "      <th>roc_auc_ovr</th>\n",
       "      <th>indices_auc</th>\n",
       "      <th>indices_jaccard</th>\n",
       "    </tr>\n",
       "  </thead>\n",
       "  <tbody>\n",
       "    <tr>\n",
       "      <th>0</th>\n",
       "      <td>mul_s</td>\n",
       "      <td>MI</td>\n",
       "      <td>LR_L1</td>\n",
       "      <td>8270</td>\n",
       "      <td>0.500000</td>\n",
       "      <td>0.549567</td>\n",
       "      <td>0.523485</td>\n",
       "      <td>0.493587</td>\n",
       "      <td>NaN</td>\n",
       "      <td>enderlab</td>\n",
       "      <td>690</td>\n",
       "      <td>2023-10-30 01:44:32.923359</td>\n",
       "      <td>modelo_8270_mul_s_MI_LR_L1.pkl</td>\n",
       "      <td>{'selector__k': 500, 'clasifier__solver': 'sag...</td>\n",
       "      <td>X_test:(52, 18875)</td>\n",
       "      <td>['ENSG00000005513.10', 'ENSG00000006453.14', '...</td>\n",
       "      <td>0.817589</td>\n",
       "      <td>[0.6341463414634146, 0.9090909090909091, 0.710...</td>\n",
       "      <td>[0.23076923076923078, 0.5, 0.07692307692307693...</td>\n",
       "    </tr>\n",
       "    <tr>\n",
       "      <th>0</th>\n",
       "      <td>mul_s</td>\n",
       "      <td>MI</td>\n",
       "      <td>LR_EN</td>\n",
       "      <td>8270</td>\n",
       "      <td>0.557692</td>\n",
       "      <td>0.589683</td>\n",
       "      <td>0.556494</td>\n",
       "      <td>0.530612</td>\n",
       "      <td>NaN</td>\n",
       "      <td>enderlab</td>\n",
       "      <td>1139</td>\n",
       "      <td>2023-10-30 01:32:55.249206</td>\n",
       "      <td>modelo_8270_mul_s_MI_LR_EN.pkl</td>\n",
       "      <td>{'selector__k': 1000, 'clasifier__solver': 'sa...</td>\n",
       "      <td>X_test:(52, 18875)</td>\n",
       "      <td>['ENSG00000003137.9', 'ENSG00000004864.14', 'E...</td>\n",
       "      <td>0.842853</td>\n",
       "      <td>[0.713968957871397, 0.9375, 0.7386363636363635...</td>\n",
       "      <td>[0.4, 0.5555555555555556, 0.09090909090909091,...</td>\n",
       "    </tr>\n",
       "    <tr>\n",
       "      <th>0</th>\n",
       "      <td>mul_s</td>\n",
       "      <td>ANOVA</td>\n",
       "      <td>SVM</td>\n",
       "      <td>8270</td>\n",
       "      <td>0.365385</td>\n",
       "      <td>0.363152</td>\n",
       "      <td>0.374892</td>\n",
       "      <td>0.331833</td>\n",
       "      <td>NaN</td>\n",
       "      <td>enderlab</td>\n",
       "      <td>2</td>\n",
       "      <td>2023-10-30 01:13:48.408465</td>\n",
       "      <td>modelo_8270_mul_s_ANOVA_SVM.pkl</td>\n",
       "      <td>{'selector__k': 200, 'clasifier__kernel': 'rbf...</td>\n",
       "      <td>X_test:(52, 18875)</td>\n",
       "      <td>['ENSG00000000938.13', 'ENSG00000005381.9', 'E...</td>\n",
       "      <td>0.764106</td>\n",
       "      <td>[0.43458980044345896, 0.8352272727272727, 0.67...</td>\n",
       "      <td>[0.08333333333333333, 0.5, 0.0, 0.071428571428...</td>\n",
       "    </tr>\n",
       "  </tbody>\n",
       "</table>\n",
       "</div>"
      ],
      "text/plain": [
       "    tipo select clasific  semilla  accuracy  precision    recall  f1_score  \\\n",
       "0  mul_s     MI    LR_L1     8270  0.500000   0.549567  0.523485  0.493587   \n",
       "0  mul_s     MI    LR_EN     8270  0.557692   0.589683  0.556494  0.530612   \n",
       "0  mul_s  ANOVA      SVM     8270  0.365385   0.363152  0.374892  0.331833   \n",
       "\n",
       "   roc_auc  hostname  total_time_sec                    datetime  \\\n",
       "0      NaN  enderlab             690  2023-10-30 01:44:32.923359   \n",
       "0      NaN  enderlab            1139  2023-10-30 01:32:55.249206   \n",
       "0      NaN  enderlab               2  2023-10-30 01:13:48.408465   \n",
       "\n",
       "                    fichero_modelo  \\\n",
       "0   modelo_8270_mul_s_MI_LR_L1.pkl   \n",
       "0   modelo_8270_mul_s_MI_LR_EN.pkl   \n",
       "0  modelo_8270_mul_s_ANOVA_SVM.pkl   \n",
       "\n",
       "                                              params               shape  \\\n",
       "0  {'selector__k': 500, 'clasifier__solver': 'sag...  X_test:(52, 18875)   \n",
       "0  {'selector__k': 1000, 'clasifier__solver': 'sa...  X_test:(52, 18875)   \n",
       "0  {'selector__k': 200, 'clasifier__kernel': 'rbf...  X_test:(52, 18875)   \n",
       "\n",
       "                                            features  roc_auc_ovr  \\\n",
       "0  ['ENSG00000005513.10', 'ENSG00000006453.14', '...     0.817589   \n",
       "0  ['ENSG00000003137.9', 'ENSG00000004864.14', 'E...     0.842853   \n",
       "0  ['ENSG00000000938.13', 'ENSG00000005381.9', 'E...     0.764106   \n",
       "\n",
       "                                         indices_auc  \\\n",
       "0  [0.6341463414634146, 0.9090909090909091, 0.710...   \n",
       "0  [0.713968957871397, 0.9375, 0.7386363636363635...   \n",
       "0  [0.43458980044345896, 0.8352272727272727, 0.67...   \n",
       "\n",
       "                                     indices_jaccard  \n",
       "0  [0.23076923076923078, 0.5, 0.07692307692307693...  \n",
       "0  [0.4, 0.5555555555555556, 0.09090909090909091,...  \n",
       "0  [0.08333333333333333, 0.5, 0.0, 0.071428571428...  "
      ]
     },
     "metadata": {},
     "output_type": "display_data"
    }
   ],
   "source": [
    "if M_TIPO.startswith(\"bin\"):\n",
    "    myfunc.save_metricas_to_csv(random_search, X_test, y_test, M_TIPO, M_SELECT, M_CLASIF, total_time, SEMILLA, myfunc.MET_DIR, M_FICHERO, fichero_modelo)\n",
    "else:\n",
    "    myfunc.save_metricas_multi_to_csv(random_search, X_test, y_test, M_TIPO, M_SELECT, M_CLASIF, total_time, SEMILLA, myfunc.MET_DIR, M_FICHERO, fichero_modelo)\n",
    "\n",
    "df1=myfunc.read_metricas_to_df(myfunc.MET_DIR,M_FICHERO)\n",
    "\n",
    "display(df1.sort_values(\"datetime\", ascending=False)[:3])\n"
   ]
  },
  {
   "cell_type": "markdown",
   "id": "1f494c79",
   "metadata": {
    "papermill": {
     "duration": 0.009363,
     "end_time": "2023-10-30T00:44:32.996543",
     "exception": false,
     "start_time": "2023-10-30T00:44:32.987180",
     "status": "completed"
    },
    "tags": []
   },
   "source": [
    "#### Guardar resultados"
   ]
  },
  {
   "cell_type": "code",
   "execution_count": 13,
   "id": "fcc0788e",
   "metadata": {
    "execution": {
     "iopub.execute_input": "2023-10-30T00:44:33.012274Z",
     "iopub.status.busy": "2023-10-30T00:44:33.011878Z",
     "iopub.status.idle": "2023-10-30T00:44:33.021661Z",
     "shell.execute_reply": "2023-10-30T00:44:33.021090Z"
    },
    "papermill": {
     "duration": 0.01958,
     "end_time": "2023-10-30T00:44:33.023060",
     "exception": false,
     "start_time": "2023-10-30T00:44:33.003480",
     "status": "completed"
    },
    "tags": []
   },
   "outputs": [
    {
     "name": "stdout",
     "output_type": "stream",
     "text": [
      "20231030T014433 : enderlab : INFO : Inicio guardar resultados\n",
      "20231030T014433 : enderlab : INFO : Inicio guardar fichero ../tfm_git/ejecuciones/metricas/resultados_8270_mul_s-MI-LR_L1.csv\n",
      "20231030T014433 : enderlab : INFO : Fin guardar fichero ../tfm_git/ejecuciones/metricas/resultados_8270_mul_s-MI-LR_L1.csv\n",
      "20231030T014433 : enderlab : INFO : Fin guardar resultados\n"
     ]
    }
   ],
   "source": [
    "fichero_resultados=R_FICHERO+\"_\"+M_TIPO+\"-\"+M_SELECT+\"-\"+M_CLASIF+\".csv\"\n",
    "myfunc.save_resultados_to_csv(M_TIPO, M_SELECT, M_CLASIF,  random_search, myfunc.MET_DIR, fichero_resultados)\n"
   ]
  }
 ],
 "metadata": {
  "kernelspec": {
   "display_name": "Python 3 (ipykernel)",
   "language": "python",
   "name": "python3"
  },
  "language_info": {
   "codemirror_mode": {
    "name": "ipython",
    "version": 3
   },
   "file_extension": ".py",
   "mimetype": "text/x-python",
   "name": "python",
   "nbconvert_exporter": "python",
   "pygments_lexer": "ipython3",
   "version": "3.10.11"
  },
  "papermill": {
   "default_parameters": {},
   "duration": 696.047952,
   "end_time": "2023-10-30T00:44:35.649578",
   "environment_variables": {},
   "exception": null,
   "input_path": "03_entrenamiento.ipynb",
   "output_path": "ejecuciones/training/03_entrenamiento.20231030T013259.param_0000_8270_mul_s_MI_LR_L1.output.ipynb",
   "parameters": {
    "MAX_ITERS": 500,
    "M_CLASIF": "LR_L1",
    "M_FICHERO": "metricas_8270",
    "M_SELECT": "MI",
    "M_TIPO": "mul_s",
    "PRE_DATA_FILE": "rows_transpose_norm_by_gene_id_with_target_num_",
    "P_FICHERO": "param_0000_8270_mul_s_MI_LR_L1.yaml",
    "R_FICHERO": "resultados_8270",
    "SCORING": "roc_auc_ovr",
    "SEMILLA": 8270,
    "eval_clasifier": "LogisticRegressionCV(random_state=SEMILLA)",
    "eval_selector": "SelectKBest(score_func=mutual_info_classif_state)",
    "param_distributions": {
     "clasifier__max_iter": [
      10000
     ],
     "clasifier__penalty": [
      "l1"
     ],
     "clasifier__solver": [
      "saga"
     ],
     "selector__k": [
      500
     ]
    }
   },
   "start_time": "2023-10-30T00:32:59.601626",
   "version": "2.4.0"
  }
 },
 "nbformat": 4,
 "nbformat_minor": 5
}