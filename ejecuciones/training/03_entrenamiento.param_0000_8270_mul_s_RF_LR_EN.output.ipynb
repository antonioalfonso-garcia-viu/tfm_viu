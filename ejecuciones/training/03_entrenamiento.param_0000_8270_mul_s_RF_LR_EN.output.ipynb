{
 "cells": [
  {
   "cell_type": "markdown",
   "id": "e363bd3f",
   "metadata": {
    "papermill": {
     "duration": 0.005533,
     "end_time": "2023-10-30T01:20:10.006067",
     "exception": false,
     "start_time": "2023-10-30T01:20:10.000534",
     "status": "completed"
    },
    "tags": []
   },
   "source": [
    "##### Inicio"
   ]
  },
  {
   "cell_type": "markdown",
   "id": "aa570df1",
   "metadata": {
    "papermill": {
     "duration": 0.003469,
     "end_time": "2023-10-30T01:20:10.013261",
     "exception": false,
     "start_time": "2023-10-30T01:20:10.009792",
     "status": "completed"
    },
    "tags": []
   },
   "source": [
    "#### Carga de datos"
   ]
  },
  {
   "cell_type": "code",
   "execution_count": 1,
   "id": "dba96685",
   "metadata": {
    "execution": {
     "iopub.execute_input": "2023-10-30T01:20:10.021930Z",
     "iopub.status.busy": "2023-10-30T01:20:10.021183Z",
     "iopub.status.idle": "2023-10-30T01:20:11.134239Z",
     "shell.execute_reply": "2023-10-30T01:20:11.133628Z"
    },
    "papermill": {
     "duration": 1.119055,
     "end_time": "2023-10-30T01:20:11.135696",
     "exception": false,
     "start_time": "2023-10-30T01:20:10.016641",
     "status": "completed"
    },
    "tags": []
   },
   "outputs": [
    {
     "name": "stdout",
     "output_type": "stream",
     "text": [
      "CPU_COUNT: 16; NODE: enderlab; sys.version: 3.10.11 (main, May 16 2023, 00:28:57) [GCC 11.2.0]\n",
      "LOKY_MAX_CPU_COUNT is not set.\n",
      "OMP_NUM_THREADS is not set.\n"
     ]
    }
   ],
   "source": [
    "import os\n",
    "import numpy as np\n",
    "import pandas as pd\n",
    "import datetime\n",
    "import sklearn\n",
    "import logging\n",
    "import warnings\n",
    "\n",
    "from sklearn.pipeline import Pipeline\n",
    "from sklearn.model_selection import RandomizedSearchCV, KFold, cross_val_score, train_test_split\n",
    "from sklearn.metrics import accuracy_score, confusion_matrix, classification_report, roc_auc_score\n",
    "\n",
    "#  cargar algoritmos para aprendizaje supervisado\n",
    "from sklearn.feature_selection import SelectKBest, f_classif, SelectFromModel, mutual_info_classif\n",
    "from sklearn.svm import SVC\n",
    "from sklearn.ensemble import RandomForestClassifier\n",
    "from sklearn.linear_model import LogisticRegression,LogisticRegressionCV\n",
    "\n",
    "# importar fichero con utilidades propias\n",
    "from commons import myfunctions as myfunc\n"
   ]
  },
  {
   "cell_type": "markdown",
   "id": "4be5227d",
   "metadata": {
    "papermill": {
     "duration": 0.003599,
     "end_time": "2023-10-30T01:20:11.143497",
     "exception": false,
     "start_time": "2023-10-30T01:20:11.139898",
     "status": "completed"
    },
    "tags": []
   },
   "source": [
    "#### Parámetros a utilizar en el entrenamiento.\n",
    "\n",
    "Se indican los 3 algoritmos de *selección de características* (eval_selector_xxx) y los 3 algoritmos para la _clasificación_ (eval_clasifier_xxx)\n",
    "\n",
    "En *param_distributions* se indicar los parámetros que utilizan los algoritmos en la función RandomSearchCV.\n",
    "\n",
    "Esta celda tiene la etiqueta **parameters** que servirá para poder lanzar los entrenamientos con la utilidad **papermill** pasándole un fichero con los parámetros. Los nuevos parámetros se situarán tras esta celda para tener prevalencia."
   ]
  },
  {
   "cell_type": "code",
   "execution_count": 2,
   "id": "ee6d39c5",
   "metadata": {
    "execution": {
     "iopub.execute_input": "2023-10-30T01:20:11.152320Z",
     "iopub.status.busy": "2023-10-30T01:20:11.151812Z",
     "iopub.status.idle": "2023-10-30T01:20:11.160430Z",
     "shell.execute_reply": "2023-10-30T01:20:11.159844Z"
    },
    "papermill": {
     "duration": 0.014457,
     "end_time": "2023-10-30T01:20:11.161713",
     "exception": false,
     "start_time": "2023-10-30T01:20:11.147256",
     "status": "completed"
    },
    "tags": [
     "parameters"
    ]
   },
   "outputs": [
    {
     "name": "stdout",
     "output_type": "stream",
     "text": [
      "20231030T022011 : enderlab : INFO : Utilizando parámetros de mul_m\n"
     ]
    }
   ],
   "source": [
    "#  Parametros para el entrenamiento\n",
    "\n",
    "SEMILLA=        42\n",
    "M_TIPO=         \"mul_m\"\n",
    "M_SELECT=       \"MI\"\n",
    "M_CLASIF=       \"SVM\"\n",
    "R_FICHERO=      \"resultados\"\n",
    "M_FICHERO=      \"metricas\"\n",
    "PRE_DATA_FILE=  \"rows_transpose_norm_by_gene_id_with_target_num_\"\n",
    "SCORING=        \"roc_auc_ovr\" \n",
    "MAX_ITERS=      100\n",
    "\n",
    "def mutual_info_classif_state(X, y):\n",
    "    return mutual_info_classif(X, y, random_state=SEMILLA)\n",
    "\n",
    "eval_selector_mi = \"SelectKBest(score_func=mutual_info_classif_state)\"\n",
    "eval_selector_rf=  \"SelectFromModel(estimator=RandomForestClassifier(random_state=SEMILLA), threshold=-np.inf)\"\n",
    "eval_selector_anova=  \"SelectKBest(score_func=f_classif)\"\n",
    "\n",
    "eval_clasifier_svm= \"SVC(probability=True, random_state=SEMILLA)\"\n",
    "eval_clasifier_rf= \"RandomForestClassifier(random_state=SEMILLA)\"\n",
    "eval_clasifier_lr= \"LogisticRegressionCV(random_state=SEMILLA)\"\n",
    "\n",
    "if M_TIPO.startswith(\"bin_m\"):\n",
    "    myfunc.verbose(f\"Utilizando parámetros de {M_TIPO}\")\n",
    "    eval_selector = eval_selector_mi\n",
    "    eval_clasifier = eval_clasifier_svm\n",
    "\n",
    "    SEMILLA = 6578\n",
    "    M_SELECT = \"MI\"\n",
    "    M_CLASIF = \"SVM\"\n",
    "    param_distributions = {'selector__k': [1000], \n",
    "         'clasifier__kernel': ['rbf'], 'clasifier__gamma': [0.01], 'clasifier__C': [100]}\n",
    "elif M_TIPO.startswith(\"bin_s\"):\n",
    "    myfunc.verbose(f\"Utilizando parámetros de {M_TIPO}\")\n",
    "    eval_selector = eval_selector_rf\n",
    "    eval_clasifier = eval_clasifier_lr\n",
    "\n",
    "    SEMILLA = 6191\n",
    "    M_SELECT = \"RF\"\n",
    "    M_CLASIF = \"LR_L2\"\n",
    "    param_distributions = {'selector__max_features': [1000], 'selector__estimator__n_estimators': [200], \n",
    "        'clasifier__solver': ['lbfgs'], 'clasifier__penalty': ['l2'], 'clasifier__max_iter': [10000]}\n",
    "\n",
    "elif M_TIPO.startswith(\"mul_m\"):\n",
    "    myfunc.verbose(f\"Utilizando parámetros de {M_TIPO}\")\n",
    " \n",
    "    eval_selector = eval_selector_rf\n",
    "    eval_clasifier = eval_clasifier_lr\n",
    "\n",
    "    SEMILLA = 6191\n",
    "    M_SELECT = \"RF\"\n",
    "    M_CLASIF = \"LR_L2\"\n",
    "    param_distributions = {'selector__max_features': [1000], 'selector__estimator__n_estimators': [400], \n",
    "        'clasifier__solver': ['lbfgs'], 'clasifier__penalty': ['l2'], 'clasifier__max_iter': [10000]}\n",
    "\n",
    "else:\n",
    "    # M_TIPO.startswith(\"mul_s\"):\n",
    "    myfunc.verbose(f\"Utilizando parámetros de {M_TIPO}\")\n",
    "    eval_selector = eval_selector_anova\n",
    "    eval_clasifier = eval_clasifier_lr\n",
    "\n",
    "    SEMILLA = 1860\n",
    "    M_SELECT = \"ANOVA\"\n",
    "    M_CLASIF = \"LR_L2\"\n",
    "    param_distributions = {'selector__k': [1000], \n",
    "        'clasifier__solver': ['saga'], 'clasifier__penalty': ['l2'], 'clasifier__max_iter': [10000]}\n",
    "\n"
   ]
  },
  {
   "cell_type": "code",
   "execution_count": 3,
   "id": "d28c6e08",
   "metadata": {
    "execution": {
     "iopub.execute_input": "2023-10-30T01:20:11.170035Z",
     "iopub.status.busy": "2023-10-30T01:20:11.169682Z",
     "iopub.status.idle": "2023-10-30T01:20:11.173685Z",
     "shell.execute_reply": "2023-10-30T01:20:11.173142Z"
    },
    "papermill": {
     "duration": 0.009557,
     "end_time": "2023-10-30T01:20:11.174874",
     "exception": false,
     "start_time": "2023-10-30T01:20:11.165317",
     "status": "completed"
    },
    "tags": [
     "injected-parameters"
    ]
   },
   "outputs": [],
   "source": [
    "# Parameters\n",
    "M_TIPO = \"mul_s\"\n",
    "M_SELECT = \"RF\"\n",
    "M_CLASIF = \"LR_EN\"\n",
    "P_FICHERO = \"param_0000_8270_mul_s_RF_LR_EN.yaml\"\n",
    "R_FICHERO = \"resultados_8270\"\n",
    "M_FICHERO = \"metricas_8270\"\n",
    "PRE_DATA_FILE = \"rows_transpose_norm_by_gene_id_with_target_num_\"\n",
    "SCORING = \"roc_auc_ovr\"\n",
    "SEMILLA = 8270\n",
    "MAX_ITERS = 500\n",
    "eval_selector = \"SelectFromModel(estimator=RandomForestClassifier(random_state=SEMILLA), threshold=-np.inf)\"\n",
    "eval_clasifier = \"LogisticRegressionCV(random_state=SEMILLA)\"\n",
    "param_distributions = {\n",
    "    \"selector__max_features\": [500],\n",
    "    \"selector__estimator__n_estimators\": [400],\n",
    "    \"clasifier__solver\": [\"saga\"],\n",
    "    \"clasifier__penalty\": [\"elasticnet\"],\n",
    "    \"clasifier__max_iter\": [10000],\n",
    "    \"clasifier__l1_ratios\": [[0.1]],\n",
    "}\n"
   ]
  },
  {
   "cell_type": "code",
   "execution_count": 4,
   "id": "97f53439",
   "metadata": {
    "execution": {
     "iopub.execute_input": "2023-10-30T01:20:11.182897Z",
     "iopub.status.busy": "2023-10-30T01:20:11.182596Z",
     "iopub.status.idle": "2023-10-30T01:20:11.185808Z",
     "shell.execute_reply": "2023-10-30T01:20:11.185263Z"
    },
    "papermill": {
     "duration": 0.008599,
     "end_time": "2023-10-30T01:20:11.187056",
     "exception": false,
     "start_time": "2023-10-30T01:20:11.178457",
     "status": "completed"
    },
    "tags": []
   },
   "outputs": [],
   "source": [
    "DATA_FILE = PRE_DATA_FILE + M_TIPO\n",
    "\n",
    "# si viene \"None\" en el parámetro max_depth, se le quitan las comillas para que no sea entendido por el algoritmo como un texto\n",
    "if \"clasifier__max_depth\" in param_distributions:\n",
    "    param_distributions['clasifier__max_depth'] = [None if x == 'None' else x for x in param_distributions['clasifier__max_depth']]"
   ]
  },
  {
   "cell_type": "markdown",
   "id": "e8c92b46",
   "metadata": {
    "papermill": {
     "duration": 0.003563,
     "end_time": "2023-10-30T01:20:11.194140",
     "exception": false,
     "start_time": "2023-10-30T01:20:11.190577",
     "status": "completed"
    },
    "tags": []
   },
   "source": [
    "Asignar los algoritmos que se utilizarán en la función RandomSearchCV"
   ]
  },
  {
   "cell_type": "code",
   "execution_count": 5,
   "id": "b4c7d8b0",
   "metadata": {
    "execution": {
     "iopub.execute_input": "2023-10-30T01:20:11.203669Z",
     "iopub.status.busy": "2023-10-30T01:20:11.203202Z",
     "iopub.status.idle": "2023-10-30T01:20:11.206199Z",
     "shell.execute_reply": "2023-10-30T01:20:11.205654Z"
    },
    "papermill": {
     "duration": 0.009845,
     "end_time": "2023-10-30T01:20:11.207536",
     "exception": false,
     "start_time": "2023-10-30T01:20:11.197691",
     "status": "completed"
    },
    "tags": []
   },
   "outputs": [],
   "source": [
    "algor_selector=eval(eval_selector)\n",
    "algor_clasifier=eval(eval_clasifier)"
   ]
  },
  {
   "cell_type": "markdown",
   "id": "27458281",
   "metadata": {
    "papermill": {
     "duration": 0.003571,
     "end_time": "2023-10-30T01:20:11.215103",
     "exception": false,
     "start_time": "2023-10-30T01:20:11.211532",
     "status": "completed"
    },
    "tags": []
   },
   "source": [
    "#### Comprobar el entorno y leer fichero de muestras"
   ]
  },
  {
   "cell_type": "code",
   "execution_count": 6,
   "id": "cf7ffe7a",
   "metadata": {
    "execution": {
     "iopub.execute_input": "2023-10-30T01:20:11.223404Z",
     "iopub.status.busy": "2023-10-30T01:20:11.223061Z",
     "iopub.status.idle": "2023-10-30T01:20:11.404960Z",
     "shell.execute_reply": "2023-10-30T01:20:11.404340Z"
    },
    "papermill": {
     "duration": 0.187524,
     "end_time": "2023-10-30T01:20:11.406273",
     "exception": false,
     "start_time": "2023-10-30T01:20:11.218749",
     "status": "completed"
    },
    "tags": []
   },
   "outputs": [
    {
     "name": "stdout",
     "output_type": "stream",
     "text": [
      "20231030T022011 : enderlab : INFO : Encontrada carpeta DATA_DIR=../tfm_git/datos\n",
      "20231030T022011 : enderlab : INFO : Encontrada carpeta CFDNA_DIR=../tfm_git/datos/cfDNA_5hmC\n",
      "20231030T022011 : enderlab : INFO : Encontrada carpeta GENCODE_DIR=../tfm_git/datos/gencode\n",
      "20231030T022011 : enderlab : INFO : Encontrada carpeta H5_DIR=../tfm_git/datos/h5\n",
      "20231030T022011 : enderlab : INFO : Encontrada carpeta LOG_DIR=../tfm_git/datos/logs\n",
      "20231030T022011 : enderlab : INFO : Encontrada carpeta CSV_DIR=../tfm_git/datos/csv\n",
      "20231030T022011 : enderlab : INFO : Encontrada carpeta MODEL_DIR=../tfm_git/ejecuciones/modelos\n",
      "20231030T022011 : enderlab : INFO : Encontrada carpeta EXEC_DIR=../tfm_git/ejecuciones\n",
      "20231030T022011 : enderlab : INFO : Encontrada carpeta MET_DIR=../tfm_git/ejecuciones/metricas\n",
      "20231030T022011 : enderlab : INFO : Inicio leer fichero h5 ../tfm_git/datos/h5/rows_transpose_norm_by_gene_id_with_target_num_mul_s.h5\n",
      "20231030T022011 : enderlab : INFO : Leyendo clave /df\n"
     ]
    },
    {
     "name": "stdout",
     "output_type": "stream",
     "text": [
      "20231030T022011 : enderlab : INFO : Tamaño (259, 18876)\n",
      "20231030T022011 : enderlab : INFO : Fin leer fichero h5 ../tfm_git/datos/h5/rows_transpose_norm_by_gene_id_with_target_num_mul_s.h5\n"
     ]
    },
    {
     "data": {
      "text/plain": [
       "target\n",
       "0    37\n",
       "1    37\n",
       "2    37\n",
       "3    37\n",
       "4    37\n",
       "5    37\n",
       "6    37\n",
       "dtype: int64"
      ]
     },
     "metadata": {},
     "output_type": "display_data"
    },
    {
     "name": "stdout",
     "output_type": "stream",
     "text": [
      "Shape df: (259, 18876)\n",
      "Shape X_train: (207, 18875)\n",
      "Shape X_test: (52, 18875)\n"
     ]
    }
   ],
   "source": [
    "start_time = datetime.datetime.now()\n",
    "\n",
    "myfunc.reset_vars()\n",
    "\n",
    "myfunc.NOTEBK_FILENAME = myfunc.get_nb_name()\n",
    "\n",
    "myfunc.check_enviroment(myfunc.DATA_DIR, myfunc.CFDNA_DIR, myfunc.GENCODE_DIR, myfunc.H5_DIR, myfunc.LOG_DIR, myfunc.CSV_DIR, myfunc.MODEL_DIR, myfunc.EXEC_DIR, myfunc.MET_DIR)\n",
    "\n",
    "# Leer fichero con las muestras\n",
    "df_t = myfunc.read_h5_to_df(DATA_FILE, myfunc.H5_DIR)\n",
    "display(df_t.groupby(\"target\").size())\n",
    "print(\"Shape df:\",df_t.shape)\n",
    "\n",
    "# Separar caracteristicas/genes de las etiquetas/tipos de cáncer\n",
    "X = df_t.iloc[:, :-1]  # Todas las columnas excepto la última\n",
    "y = df_t.iloc[:, -1]  # La última columna contiene los identificadores de los tipos de cáncer\n",
    "\n",
    "#  Crear el conjunto de datos de entrenamiento y de pruebas, y se fija la semilla para siempre coger el mismo juego de muestras\n",
    "X_train, X_test, y_train, y_test = train_test_split(X, y, test_size=0.2, shuffle=True, random_state=42)\n",
    "print(\"Shape X_train:\",X_train.shape)\n",
    "print(\"Shape X_test:\",X_test.shape)\n"
   ]
  },
  {
   "cell_type": "markdown",
   "id": "68a70e05",
   "metadata": {
    "papermill": {
     "duration": 0.004079,
     "end_time": "2023-10-30T01:20:11.414872",
     "exception": false,
     "start_time": "2023-10-30T01:20:11.410793",
     "status": "completed"
    },
    "tags": []
   },
   "source": [
    "#### Selección de características y clasificación."
   ]
  },
  {
   "cell_type": "code",
   "execution_count": 7,
   "id": "1531b5fa",
   "metadata": {
    "execution": {
     "iopub.execute_input": "2023-10-30T01:20:11.424559Z",
     "iopub.status.busy": "2023-10-30T01:20:11.423989Z",
     "iopub.status.idle": "2023-10-30T01:26:13.137429Z",
     "shell.execute_reply": "2023-10-30T01:26:13.136437Z"
    },
    "papermill": {
     "duration": 361.723609,
     "end_time": "2023-10-30T01:26:13.142439",
     "exception": false,
     "start_time": "2023-10-30T01:20:11.418830",
     "status": "completed"
    },
    "tags": []
   },
   "outputs": [
    {
     "name": "stdout",
     "output_type": "stream",
     "text": [
      "20231030T022011 : enderlab : INFO : Iniciando entrenamiento\n",
      "num_iter: 1 , max_iter: 1\n"
     ]
    },
    {
     "name": "stdout",
     "output_type": "stream",
     "text": [
      "Fitting 5 folds for each of 1 candidates, totalling 5 fits\n"
     ]
    },
    {
     "name": "stdout",
     "output_type": "stream",
     "text": [
      "Mejores Hiperparámetros: {'selector__max_features': 500, 'selector__estimator__n_estimators': 400, 'clasifier__solver': 'saga', 'clasifier__penalty': 'elasticnet', 'clasifier__max_iter': 10000, 'clasifier__l1_ratios': [0.1]}\n",
      "Mejor Puntuación: 0.7867\n",
      "20231030T022613 : enderlab : INFO : Fin entrenamiento\n"
     ]
    }
   ],
   "source": [
    "myfunc.verbose(\"Iniciando entrenamiento\")\n",
    "\n",
    "kf = KFold(n_splits=5, shuffle=True, random_state=SEMILLA)\n",
    "\n",
    "# Crear el pipeline para el flujo de tareas\n",
    "tasks_pipeline = Pipeline([\n",
    "    ('selector', algor_selector),\n",
    "    ('clasifier', algor_clasifier)\n",
    "])\n",
    "\n",
    "# MAX_ITERS puede limitar el número de iteraciones si son excesivas para las combinaciones de parámetros buscando un óptimo local, \n",
    "# sino funcionaría como GridSearchCV al revisar todas las cominaciones de los parámetros\n",
    "num_iteraciones = 1\n",
    "num_iteraciones = num_iteraciones * np.prod([len(elemento1) for _, elemento1 in param_distributions.items()])\n",
    "max_iteraciones = num_iteraciones if num_iteraciones <= MAX_ITERS else MAX_ITERS\n",
    "print(\"num_iter:\",num_iteraciones,\", max_iter:\",max_iteraciones)\n",
    "\n",
    "random_search = RandomizedSearchCV(\n",
    "    tasks_pipeline, \n",
    "    param_distributions, \n",
    "    n_iter=max_iteraciones,\n",
    "    scoring=SCORING,\n",
    "    cv=kf,\n",
    "    verbose=3, \n",
    "    random_state=SEMILLA, \n",
    "    n_jobs=-1\n",
    "    )\n",
    "\n",
    "# Entrenar el modelo\n",
    "random_search.fit(X_train, y_train)\n",
    "\n",
    "# Ver los mejores hiperparámetros encontrados\n",
    "print(f'Mejores Hiperparámetros: {random_search.best_params_}')\n",
    "print(f'Mejor Puntuación: {random_search.best_score_:.4f}')\n",
    "\n",
    "# Nos quedamos con el mejor modelo para ver las métricas\n",
    "mejor_modelo = random_search.best_estimator_\n",
    "\n",
    "myfunc.verbose(\"Fin entrenamiento\")"
   ]
  },
  {
   "cell_type": "markdown",
   "id": "f0b273c6",
   "metadata": {
    "papermill": {
     "duration": 0.004165,
     "end_time": "2023-10-30T01:26:13.151747",
     "exception": false,
     "start_time": "2023-10-30T01:26:13.147582",
     "status": "completed"
    },
    "tags": []
   },
   "source": [
    "#### Guardar modelo"
   ]
  },
  {
   "cell_type": "code",
   "execution_count": 8,
   "id": "47f7faec",
   "metadata": {
    "execution": {
     "iopub.execute_input": "2023-10-30T01:26:13.161766Z",
     "iopub.status.busy": "2023-10-30T01:26:13.161233Z",
     "iopub.status.idle": "2023-10-30T01:26:13.318540Z",
     "shell.execute_reply": "2023-10-30T01:26:13.317904Z"
    },
    "papermill": {
     "duration": 0.164099,
     "end_time": "2023-10-30T01:26:13.319889",
     "exception": false,
     "start_time": "2023-10-30T01:26:13.155790",
     "status": "completed"
    },
    "tags": []
   },
   "outputs": [
    {
     "name": "stdout",
     "output_type": "stream",
     "text": [
      "20231030T022613 : enderlab : INFO : Inicio guardar fichero ../tfm_git/ejecuciones/modelos/modelo_8270_mul_s_RF_LR_EN.pkl\n",
      "20231030T022613 : enderlab : INFO : Fin guardar fichero ../tfm_git/ejecuciones/modelos/modelo_8270_mul_s_RF_LR_EN.pkl\n"
     ]
    }
   ],
   "source": [
    "fichero_modelo = str.replace(\"modelo_\"+str(SEMILLA).zfill(4)+\"_\"+M_TIPO+\"_\"+M_SELECT+\"_\"+M_CLASIF+\".pkl\", \" \", \"_\")\n",
    "\n",
    "myfunc.save_modelo(mejor_modelo, myfunc.MODEL_DIR, fichero_modelo)"
   ]
  },
  {
   "cell_type": "markdown",
   "id": "8cea7003",
   "metadata": {
    "papermill": {
     "duration": 0.004176,
     "end_time": "2023-10-30T01:26:13.328412",
     "exception": false,
     "start_time": "2023-10-30T01:26:13.324236",
     "status": "completed"
    },
    "tags": []
   },
   "source": [
    "#### Ver resultados del las iteraciones hechas por RandomSearchCV"
   ]
  },
  {
   "cell_type": "code",
   "execution_count": 9,
   "id": "f1e1470b",
   "metadata": {
    "execution": {
     "iopub.execute_input": "2023-10-30T01:26:13.337736Z",
     "iopub.status.busy": "2023-10-30T01:26:13.337255Z",
     "iopub.status.idle": "2023-10-30T01:26:13.344962Z",
     "shell.execute_reply": "2023-10-30T01:26:13.344438Z"
    },
    "papermill": {
     "duration": 0.013681,
     "end_time": "2023-10-30T01:26:13.346150",
     "exception": false,
     "start_time": "2023-10-30T01:26:13.332469",
     "status": "completed"
    },
    "tags": []
   },
   "outputs": [
    {
     "name": "stdout",
     "output_type": "stream",
     "text": [
      "20231030T022613 : enderlab : INFO : Inicio ver resultados\n",
      "Mejores Hiperparámetros: {'selector__max_features': 500, 'selector__estimator__n_estimators': 400, 'clasifier__solver': 'saga', 'clasifier__penalty': 'elasticnet', 'clasifier__max_iter': 10000, 'clasifier__l1_ratios': [0.1]}\n",
      "Mejores puntuaciones: 0.7867 | Params: {'selector__max_features': 500, 'selector__estimator__n_estimators': 400, 'clasifier__solver': 'saga', 'clasifier__penalty': 'elasticnet', 'clasifier__max_iter': 10000, 'clasifier__l1_ratios': [0.1]}\n",
      "Media de las puntuaciones: 0.7867 | Params: {'selector__max_features': 500, 'selector__estimator__n_estimators': 400, 'clasifier__solver': 'saga', 'clasifier__penalty': 'elasticnet', 'clasifier__max_iter': 10000, 'clasifier__l1_ratios': [0.1]}\n",
      "20231030T022613 : enderlab : INFO : Fin resultados\n"
     ]
    }
   ],
   "source": [
    "myfunc.ver_resultados_search(random_search)"
   ]
  },
  {
   "cell_type": "markdown",
   "id": "b2a1f07d",
   "metadata": {
    "papermill": {
     "duration": 0.004098,
     "end_time": "2023-10-30T01:26:13.354372",
     "exception": false,
     "start_time": "2023-10-30T01:26:13.350274",
     "status": "completed"
    },
    "tags": []
   },
   "source": [
    "#### Ver métricas del mejor modelo"
   ]
  },
  {
   "cell_type": "code",
   "execution_count": 10,
   "id": "e84d52a7",
   "metadata": {
    "execution": {
     "iopub.execute_input": "2023-10-30T01:26:13.364010Z",
     "iopub.status.busy": "2023-10-30T01:26:13.363486Z",
     "iopub.status.idle": "2023-10-30T01:26:14.469532Z",
     "shell.execute_reply": "2023-10-30T01:26:14.468950Z"
    },
    "papermill": {
     "duration": 1.112285,
     "end_time": "2023-10-30T01:26:14.470825",
     "exception": false,
     "start_time": "2023-10-30T01:26:13.358540",
     "status": "completed"
    },
    "tags": []
   },
   "outputs": [
    {
     "name": "stdout",
     "output_type": "stream",
     "text": [
      "20231030T022613 : enderlab : INFO : Inicio ver métricas multiclase\n"
     ]
    },
    {
     "name": "stdout",
     "output_type": "stream",
     "text": [
      "              precision    recall  f1-score   support\n",
      "\n",
      "           0       0.14      0.09      0.11        11\n",
      "           1       0.62      0.62      0.62         8\n",
      "           2       0.12      0.12      0.12         8\n",
      "           3       0.18      0.40      0.25         5\n",
      "           4       0.75      0.75      0.75         8\n",
      "           5       0.75      0.50      0.60         6\n",
      "           6       0.17      0.17      0.17         6\n",
      "\n",
      "    accuracy                           0.37        52\n",
      "   macro avg       0.39      0.38      0.38        52\n",
      "weighted avg       0.38      0.37      0.37        52\n",
      "\n",
      "\n",
      "\n",
      "           Exactitud: 0.365385\n",
      "   Precisión (media): 0.391620\n",
      "      Recall (media): 0.379654\n",
      "    F1-score (media): 0.375397\n",
      "\n",
      "\n",
      "AUC para el tipo de cáncer 0-Control.... 0.5188\n",
      "AUC para el tipo de cáncer 1-Bladder.... 0.8267\n",
      "AUC para el tipo de cáncer 2-Breast..... 0.6591\n",
      "AUC para el tipo de cáncer 3-Colorectal. 0.6255\n",
      "AUC para el tipo de cáncer 4-Kidney..... 0.9432\n",
      "AUC para el tipo de cáncer 5-Lung....... 0.9674\n",
      "AUC para el tipo de cáncer 6-Prostate... 0.7862\n",
      "\n",
      "Media de AUC: 0.7610\n"
     ]
    },
    {
     "data": {
      "image/png": "[encoded data removed]",
      "text/plain": [
       "<Figure size 1000x600 with 1 Axes>"
      ]
     },
     "metadata": {},
     "output_type": "display_data"
    },
    {
     "name": "stdout",
     "output_type": "stream",
     "text": [
      "\n",
      "\n"
     ]
    },
    {
     "data": {
      "image/png": "[encoded data removed]",
      "text/plain": [
       "<Figure size 800x400 with 2 Axes>"
      ]
     },
     "metadata": {},
     "output_type": "display_data"
    },
    {
     "name": "stdout",
     "output_type": "stream",
     "text": [
      "\n",
      "\n",
      "Puntuación Jaccard para el cáncer tipo 0-Control.... 0.0588\n",
      "Puntuación Jaccard para el cáncer tipo 1-Bladder.... 0.4545\n",
      "Puntuación Jaccard para el cáncer tipo 2-Breast..... 0.0667\n",
      "Puntuación Jaccard para el cáncer tipo 3-Colorectal. 0.1429\n",
      "Puntuación Jaccard para el cáncer tipo 4-Kidney..... 0.6000\n",
      "Puntuación Jaccard para el cáncer tipo 5-Lung....... 0.4286\n",
      "Puntuación Jaccard para el cáncer tipo 6-Prostate... 0.0909\n",
      "\n",
      "Media de la puntuación de Jaccard: 0.2632\n"
     ]
    }
   ],
   "source": [
    "if M_TIPO.startswith(\"bin\"):\n",
    "    myfunc.ver_metricas(mejor_modelo, X_test, y_test)\n",
    "else:\n",
    "    myfunc.ver_metricas_multi(mejor_modelo, X_test, y_test)\n"
   ]
  },
  {
   "cell_type": "markdown",
   "id": "7fe80a5c",
   "metadata": {
    "papermill": {
     "duration": 0.005819,
     "end_time": "2023-10-30T01:26:14.483078",
     "exception": false,
     "start_time": "2023-10-30T01:26:14.477259",
     "status": "completed"
    },
    "tags": []
   },
   "source": [
    "#### Finalización del notebook"
   ]
  },
  {
   "cell_type": "code",
   "execution_count": 11,
   "id": "5c67567f",
   "metadata": {
    "execution": {
     "iopub.execute_input": "2023-10-30T01:26:14.495900Z",
     "iopub.status.busy": "2023-10-30T01:26:14.495425Z",
     "iopub.status.idle": "2023-10-30T01:26:14.499386Z",
     "shell.execute_reply": "2023-10-30T01:26:14.498840Z"
    },
    "papermill": {
     "duration": 0.011661,
     "end_time": "2023-10-30T01:26:14.500596",
     "exception": false,
     "start_time": "2023-10-30T01:26:14.488935",
     "status": "completed"
    },
    "tags": []
   },
   "outputs": [
    {
     "name": "stdout",
     "output_type": "stream",
     "text": [
      "20231030T022614 : enderlab : INFO : Notebook ha tardado 363 seconds\n"
     ]
    }
   ],
   "source": [
    "end_time = datetime.datetime.now()\n",
    "total_time = end_time - start_time\n",
    "myfunc.verbose(f\"Notebook ha tardado {total_time.seconds} seconds\")"
   ]
  },
  {
   "cell_type": "markdown",
   "id": "af558bb1",
   "metadata": {
    "papermill": {
     "duration": 0.005652,
     "end_time": "2023-10-30T01:26:14.511917",
     "exception": false,
     "start_time": "2023-10-30T01:26:14.506265",
     "status": "completed"
    },
    "tags": []
   },
   "source": [
    "#### Guardar métricas"
   ]
  },
  {
   "cell_type": "code",
   "execution_count": 12,
   "id": "ce388587",
   "metadata": {
    "execution": {
     "iopub.execute_input": "2023-10-30T01:26:14.524938Z",
     "iopub.status.busy": "2023-10-30T01:26:14.524342Z",
     "iopub.status.idle": "2023-10-30T01:26:15.414379Z",
     "shell.execute_reply": "2023-10-30T01:26:15.413813Z"
    },
    "papermill": {
     "duration": 0.897972,
     "end_time": "2023-10-30T01:26:15.415685",
     "exception": false,
     "start_time": "2023-10-30T01:26:14.517713",
     "status": "completed"
    },
    "tags": []
   },
   "outputs": [
    {
     "name": "stdout",
     "output_type": "stream",
     "text": [
      "20231030T022614 : enderlab : INFO : Inicio guardar métricas multiclase\n",
      "20231030T022614 : enderlab : INFO : Inicio leer fichero ../tfm_git/ejecuciones/metricas/metricas_8270.csv\n",
      "20231030T022614 : enderlab : INFO : Fin leer fichero ../tfm_git/ejecuciones/metricas/metricas_8270.csv\n"
     ]
    },
    {
     "name": "stdout",
     "output_type": "stream",
     "text": [
      "20231030T022615 : enderlab : INFO : Inicio guardar fichero ../tfm_git/ejecuciones/metricas/metricas_8270.csv\n",
      "20231030T022615 : enderlab : INFO : Fichero borrado ../tfm_git/ejecuciones/metricas/metricas_8270.csv\n",
      "20231030T022615 : enderlab : INFO : Fin guardar fichero ../tfm_git/ejecuciones/metricas/metricas_8270.csv\n",
      "20231030T022615 : enderlab : INFO : Fin guardar métricas multiclase\n",
      "20231030T022615 : enderlab : INFO : Inicio leer fichero ../tfm_git/ejecuciones/metricas/metricas_8270.csv\n",
      "20231030T022615 : enderlab : INFO : Fin leer fichero ../tfm_git/ejecuciones/metricas/metricas_8270.csv\n"
     ]
    },
    {
     "data": {
      "text/html": [
       "<div>\n",
       "<style scoped>\n",
       "    .dataframe tbody tr th:only-of-type {\n",
       "        vertical-align: middle;\n",
       "    }\n",
       "\n",
       "    .dataframe tbody tr th {\n",
       "        vertical-align: top;\n",
       "    }\n",
       "\n",
       "    .dataframe thead th {\n",
       "        text-align: right;\n",
       "    }\n",
       "</style>\n",
       "<table border=\"1\" class=\"dataframe\">\n",
       "  <thead>\n",
       "    <tr style=\"text-align: right;\">\n",
       "      <th></th>\n",
       "      <th>tipo</th>\n",
       "      <th>select</th>\n",
       "      <th>clasific</th>\n",
       "      <th>semilla</th>\n",
       "      <th>accuracy</th>\n",
       "      <th>precision</th>\n",
       "      <th>recall</th>\n",
       "      <th>f1_score</th>\n",
       "      <th>roc_auc</th>\n",
       "      <th>hostname</th>\n",
       "      <th>total_time_sec</th>\n",
       "      <th>datetime</th>\n",
       "      <th>fichero_modelo</th>\n",
       "      <th>params</th>\n",
       "      <th>shape</th>\n",
       "      <th>features</th>\n",
       "      <th>roc_auc_ovr</th>\n",
       "      <th>indices_auc</th>\n",
       "      <th>indices_jaccard</th>\n",
       "    </tr>\n",
       "  </thead>\n",
       "  <tbody>\n",
       "    <tr>\n",
       "      <th>0</th>\n",
       "      <td>mul_s</td>\n",
       "      <td>RF</td>\n",
       "      <td>LR_EN</td>\n",
       "      <td>8270</td>\n",
       "      <td>0.365385</td>\n",
       "      <td>0.391620</td>\n",
       "      <td>0.379654</td>\n",
       "      <td>0.375397</td>\n",
       "      <td>NaN</td>\n",
       "      <td>enderlab</td>\n",
       "      <td>363</td>\n",
       "      <td>2023-10-30 02:26:15.357972</td>\n",
       "      <td>modelo_8270_mul_s_RF_LR_EN.pkl</td>\n",
       "      <td>{'selector__max_features': 500, 'selector__est...</td>\n",
       "      <td>X_test:(52, 18875)</td>\n",
       "      <td>['ENSG00000008438.5', 'ENSG00000008516.18', 'E...</td>\n",
       "      <td>0.760997</td>\n",
       "      <td>[0.5188470066518847, 0.8267045454545455, 0.659...</td>\n",
       "      <td>[0.058823529411764705, 0.45454545454545453, 0....</td>\n",
       "    </tr>\n",
       "    <tr>\n",
       "      <th>0</th>\n",
       "      <td>mul_s</td>\n",
       "      <td>MI</td>\n",
       "      <td>SVM</td>\n",
       "      <td>8270</td>\n",
       "      <td>0.442308</td>\n",
       "      <td>0.445166</td>\n",
       "      <td>0.447294</td>\n",
       "      <td>0.432284</td>\n",
       "      <td>NaN</td>\n",
       "      <td>enderlab</td>\n",
       "      <td>203</td>\n",
       "      <td>2023-10-30 02:20:04.467564</td>\n",
       "      <td>modelo_8270_mul_s_MI_SVM.pkl</td>\n",
       "      <td>{'selector__k': 1000, 'clasifier__kernel': 'rb...</td>\n",
       "      <td>X_test:(52, 18875)</td>\n",
       "      <td>['ENSG00000003137.9', 'ENSG00000004864.14', 'E...</td>\n",
       "      <td>0.773087</td>\n",
       "      <td>[0.5609756097560976, 0.8607954545454546, 0.698...</td>\n",
       "      <td>[0.2, 0.36363636363636365, 0.07692307692307693...</td>\n",
       "    </tr>\n",
       "    <tr>\n",
       "      <th>0</th>\n",
       "      <td>mul_s</td>\n",
       "      <td>MI</td>\n",
       "      <td>RF</td>\n",
       "      <td>8270</td>\n",
       "      <td>0.346154</td>\n",
       "      <td>0.322815</td>\n",
       "      <td>0.345130</td>\n",
       "      <td>0.319834</td>\n",
       "      <td>NaN</td>\n",
       "      <td>enderlab</td>\n",
       "      <td>231</td>\n",
       "      <td>2023-10-30 02:16:33.835372</td>\n",
       "      <td>modelo_8270_mul_s_MI_RF.pkl</td>\n",
       "      <td>{'selector__k': 500, 'clasifier__n_estimators'...</td>\n",
       "      <td>X_test:(52, 18875)</td>\n",
       "      <td>['ENSG00000005513.10', 'ENSG00000006453.14', '...</td>\n",
       "      <td>0.708333</td>\n",
       "      <td>[0.4523281596452328, 0.7897727272727273, 0.642...</td>\n",
       "      <td>[0.07142857142857142, 0.35714285714285715, 0.0...</td>\n",
       "    </tr>\n",
       "  </tbody>\n",
       "</table>\n",
       "</div>"
      ],
      "text/plain": [
       "    tipo select clasific  semilla  accuracy  precision    recall  f1_score  \\\n",
       "0  mul_s     RF    LR_EN     8270  0.365385   0.391620  0.379654  0.375397   \n",
       "0  mul_s     MI      SVM     8270  0.442308   0.445166  0.447294  0.432284   \n",
       "0  mul_s     MI       RF     8270  0.346154   0.322815  0.345130  0.319834   \n",
       "\n",
       "   roc_auc  hostname  total_time_sec                    datetime  \\\n",
       "0      NaN  enderlab             363  2023-10-30 02:26:15.357972   \n",
       "0      NaN  enderlab             203  2023-10-30 02:20:04.467564   \n",
       "0      NaN  enderlab             231  2023-10-30 02:16:33.835372   \n",
       "\n",
       "                   fichero_modelo  \\\n",
       "0  modelo_8270_mul_s_RF_LR_EN.pkl   \n",
       "0    modelo_8270_mul_s_MI_SVM.pkl   \n",
       "0     modelo_8270_mul_s_MI_RF.pkl   \n",
       "\n",
       "                                              params               shape  \\\n",
       "0  {'selector__max_features': 500, 'selector__est...  X_test:(52, 18875)   \n",
       "0  {'selector__k': 1000, 'clasifier__kernel': 'rb...  X_test:(52, 18875)   \n",
       "0  {'selector__k': 500, 'clasifier__n_estimators'...  X_test:(52, 18875)   \n",
       "\n",
       "                                            features  roc_auc_ovr  \\\n",
       "0  ['ENSG00000008438.5', 'ENSG00000008516.18', 'E...     0.760997   \n",
       "0  ['ENSG00000003137.9', 'ENSG00000004864.14', 'E...     0.773087   \n",
       "0  ['ENSG00000005513.10', 'ENSG00000006453.14', '...     0.708333   \n",
       "\n",
       "                                         indices_auc  \\\n",
       "0  [0.5188470066518847, 0.8267045454545455, 0.659...   \n",
       "0  [0.5609756097560976, 0.8607954545454546, 0.698...   \n",
       "0  [0.4523281596452328, 0.7897727272727273, 0.642...   \n",
       "\n",
       "                                     indices_jaccard  \n",
       "0  [0.058823529411764705, 0.45454545454545453, 0....  \n",
       "0  [0.2, 0.36363636363636365, 0.07692307692307693...  \n",
       "0  [0.07142857142857142, 0.35714285714285715, 0.0...  "
      ]
     },
     "metadata": {},
     "output_type": "display_data"
    }
   ],
   "source": [
    "if M_TIPO.startswith(\"bin\"):\n",
    "    myfunc.save_metricas_to_csv(random_search, X_test, y_test, M_TIPO, M_SELECT, M_CLASIF, total_time, SEMILLA, myfunc.MET_DIR, M_FICHERO, fichero_modelo)\n",
    "else:\n",
    "    myfunc.save_metricas_multi_to_csv(random_search, X_test, y_test, M_TIPO, M_SELECT, M_CLASIF, total_time, SEMILLA, myfunc.MET_DIR, M_FICHERO, fichero_modelo)\n",
    "\n",
    "df1=myfunc.read_metricas_to_df(myfunc.MET_DIR,M_FICHERO)\n",
    "\n",
    "display(df1.sort_values(\"datetime\", ascending=False)[:3])\n"
   ]
  },
  {
   "cell_type": "markdown",
   "id": "488d467b",
   "metadata": {
    "papermill": {
     "duration": 0.006218,
     "end_time": "2023-10-30T01:26:15.428565",
     "exception": false,
     "start_time": "2023-10-30T01:26:15.422347",
     "status": "completed"
    },
    "tags": []
   },
   "source": [
    "#### Guardar resultados"
   ]
  },
  {
   "cell_type": "code",
   "execution_count": 13,
   "id": "ae27a982",
   "metadata": {
    "execution": {
     "iopub.execute_input": "2023-10-30T01:26:15.442086Z",
     "iopub.status.busy": "2023-10-30T01:26:15.441520Z",
     "iopub.status.idle": "2023-10-30T01:26:15.450970Z",
     "shell.execute_reply": "2023-10-30T01:26:15.450420Z"
    },
    "papermill": {
     "duration": 0.017519,
     "end_time": "2023-10-30T01:26:15.452190",
     "exception": false,
     "start_time": "2023-10-30T01:26:15.434671",
     "status": "completed"
    },
    "tags": []
   },
   "outputs": [
    {
     "name": "stdout",
     "output_type": "stream",
     "text": [
      "20231030T022615 : enderlab : INFO : Inicio guardar resultados\n",
      "20231030T022615 : enderlab : INFO : Inicio guardar fichero ../tfm_git/ejecuciones/metricas/resultados_8270_mul_s-RF-LR_EN.csv\n",
      "20231030T022615 : enderlab : INFO : Fin guardar fichero ../tfm_git/ejecuciones/metricas/resultados_8270_mul_s-RF-LR_EN.csv\n",
      "20231030T022615 : enderlab : INFO : Fin guardar resultados\n"
     ]
    }
   ],
   "source": [
    "fichero_resultados=R_FICHERO+\"_\"+M_TIPO+\"-\"+M_SELECT+\"-\"+M_CLASIF+\".csv\"\n",
    "myfunc.save_resultados_to_csv(M_TIPO, M_SELECT, M_CLASIF,  random_search, myfunc.MET_DIR, fichero_resultados)\n"
   ]
  }
 ],
 "metadata": {
  "kernelspec": {
   "display_name": "Python 3 (ipykernel)",
   "language": "python",
   "name": "python3"
  },
  "language_info": {
   "codemirror_mode": {
    "name": "ipython",
    "version": 3
   },
   "file_extension": ".py",
   "mimetype": "text/x-python",
   "name": "python",
   "nbconvert_exporter": "python",
   "pygments_lexer": "ipython3",
   "version": "3.10.11"
  },
  "papermill": {
   "default_parameters": {},
   "duration": 369.256812,
   "end_time": "2023-10-30T01:26:18.076030",
   "environment_variables": {},
   "exception": null,
   "input_path": "03_entrenamiento.ipynb",
   "output_path": "ejecuciones/training/03_entrenamiento.20231030T022008.param_0000_8270_mul_s_RF_LR_EN.output.ipynb",
   "parameters": {
    "MAX_ITERS": 500,
    "M_CLASIF": "LR_EN",
    "M_FICHERO": "metricas_8270",
    "M_SELECT": "RF",
    "M_TIPO": "mul_s",
    "PRE_DATA_FILE": "rows_transpose_norm_by_gene_id_with_target_num_",
    "P_FICHERO": "param_0000_8270_mul_s_RF_LR_EN.yaml",
    "R_FICHERO": "resultados_8270",
    "SCORING": "roc_auc_ovr",
    "SEMILLA": 8270,
    "eval_clasifier": "LogisticRegressionCV(random_state=SEMILLA)",
    "eval_selector": "SelectFromModel(estimator=RandomForestClassifier(random_state=SEMILLA), threshold=-np.inf)",
    "param_distributions": {
     "clasifier__l1_ratios": [
      [
       0.1
      ]
     ],
     "clasifier__max_iter": [
      10000
     ],
     "clasifier__penalty": [
      "elasticnet"
     ],
     "clasifier__solver": [
      "saga"
     ],
     "selector__estimator__n_estimators": [
      400
     ],
     "selector__max_features": [
      500
     ]
    }
   },
   "start_time": "2023-10-30T01:20:08.819218",
   "version": "2.4.0"
  }
 },
 "nbformat": 4,
 "nbformat_minor": 5
}