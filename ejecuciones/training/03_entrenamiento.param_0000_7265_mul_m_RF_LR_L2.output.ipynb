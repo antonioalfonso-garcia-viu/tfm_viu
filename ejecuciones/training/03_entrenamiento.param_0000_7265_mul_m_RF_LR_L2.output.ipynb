{
 "cells": [
  {
   "cell_type": "markdown",
   "id": "e66ba1f5",
   "metadata": {
    "papermill": {
     "duration": 0.005703,
     "end_time": "2023-10-30T15:11:17.547217",
     "exception": false,
     "start_time": "2023-10-30T15:11:17.541514",
     "status": "completed"
    },
    "tags": []
   },
   "source": [
    "##### Inicio"
   ]
  },
  {
   "cell_type": "markdown",
   "id": "aa821a20",
   "metadata": {
    "papermill": {
     "duration": 0.003433,
     "end_time": "2023-10-30T15:11:17.554428",
     "exception": false,
     "start_time": "2023-10-30T15:11:17.550995",
     "status": "completed"
    },
    "tags": []
   },
   "source": [
    "#### Carga de datos"
   ]
  },
  {
   "cell_type": "code",
   "execution_count": 1,
   "id": "9ed2ead4",
   "metadata": {
    "execution": {
     "iopub.execute_input": "2023-10-30T15:11:17.562539Z",
     "iopub.status.busy": "2023-10-30T15:11:17.561982Z",
     "iopub.status.idle": "2023-10-30T15:11:18.675801Z",
     "shell.execute_reply": "2023-10-30T15:11:18.675172Z"
    },
    "papermill": {
     "duration": 1.119434,
     "end_time": "2023-10-30T15:11:18.677232",
     "exception": false,
     "start_time": "2023-10-30T15:11:17.557798",
     "status": "completed"
    },
    "tags": []
   },
   "outputs": [
    {
     "name": "stdout",
     "output_type": "stream",
     "text": [
      "CPU_COUNT: 16; NODE: enderlab; sys.version: 3.10.11 (main, May 16 2023, 00:28:57) [GCC 11.2.0]\n",
      "LOKY_MAX_CPU_COUNT is not set.\n",
      "OMP_NUM_THREADS is not set.\n"
     ]
    }
   ],
   "source": [
    "import os\n",
    "import numpy as np\n",
    "import pandas as pd\n",
    "import datetime\n",
    "import sklearn\n",
    "import logging\n",
    "import warnings\n",
    "\n",
    "from sklearn.pipeline import Pipeline\n",
    "from sklearn.model_selection import RandomizedSearchCV, KFold, cross_val_score, train_test_split\n",
    "from sklearn.metrics import accuracy_score, confusion_matrix, classification_report, roc_auc_score\n",
    "\n",
    "#  cargar algoritmos para aprendizaje supervisado\n",
    "from sklearn.feature_selection import SelectKBest, f_classif, SelectFromModel, mutual_info_classif\n",
    "from sklearn.svm import SVC\n",
    "from sklearn.ensemble import RandomForestClassifier\n",
    "from sklearn.linear_model import LogisticRegression,LogisticRegressionCV\n",
    "\n",
    "# importar fichero con utilidades propias\n",
    "from commons import myfunctions as myfunc\n"
   ]
  },
  {
   "cell_type": "markdown",
   "id": "2beb1f55",
   "metadata": {
    "papermill": {
     "duration": 0.003575,
     "end_time": "2023-10-30T15:11:18.684906",
     "exception": false,
     "start_time": "2023-10-30T15:11:18.681331",
     "status": "completed"
    },
    "tags": []
   },
   "source": [
    "#### Parámetros a utilizar en el entrenamiento.\n",
    "\n",
    "Se indican los 3 algoritmos de *selección de características* (eval_selector_xxx) y los 3 algoritmos para la _clasificación_ (eval_clasifier_xxx)\n",
    "\n",
    "En *param_distributions* se indicar los parámetros que utilizan los algoritmos en la función RandomSearchCV.\n",
    "\n",
    "Esta celda tiene la etiqueta **parameters** que servirá para poder lanzar los entrenamientos con la utilidad **papermill** pasándole un fichero con los parámetros. Los nuevos parámetros se situarán tras esta celda para tener prevalencia."
   ]
  },
  {
   "cell_type": "code",
   "execution_count": 2,
   "id": "dc821aa1",
   "metadata": {
    "execution": {
     "iopub.execute_input": "2023-10-30T15:11:18.693293Z",
     "iopub.status.busy": "2023-10-30T15:11:18.692977Z",
     "iopub.status.idle": "2023-10-30T15:11:18.701829Z",
     "shell.execute_reply": "2023-10-30T15:11:18.701222Z"
    },
    "papermill": {
     "duration": 0.014739,
     "end_time": "2023-10-30T15:11:18.703085",
     "exception": false,
     "start_time": "2023-10-30T15:11:18.688346",
     "status": "completed"
    },
    "tags": [
     "parameters"
    ]
   },
   "outputs": [
    {
     "name": "stdout",
     "output_type": "stream",
     "text": [
      "20231030T161118 : enderlab : INFO : Utilizando parámetros de mul_m\n"
     ]
    }
   ],
   "source": [
    "#  Parametros para el entrenamiento\n",
    "\n",
    "SEMILLA=        42\n",
    "M_TIPO=         \"mul_m\"\n",
    "M_SELECT=       \"MI\"\n",
    "M_CLASIF=       \"SVM\"\n",
    "R_FICHERO=      \"resultados\"\n",
    "M_FICHERO=      \"metricas\"\n",
    "PRE_DATA_FILE=  \"rows_transpose_norm_by_gene_id_with_target_num_\"\n",
    "SCORING=        \"roc_auc_ovr\" \n",
    "MAX_ITERS=      100\n",
    "\n",
    "def mutual_info_classif_state(X, y):\n",
    "    return mutual_info_classif(X, y, random_state=SEMILLA)\n",
    "\n",
    "eval_selector_mi = \"SelectKBest(score_func=mutual_info_classif_state)\"\n",
    "eval_selector_rf=  \"SelectFromModel(estimator=RandomForestClassifier(random_state=SEMILLA), threshold=-np.inf)\"\n",
    "eval_selector_anova=  \"SelectKBest(score_func=f_classif)\"\n",
    "\n",
    "eval_clasifier_svm= \"SVC(probability=True, random_state=SEMILLA)\"\n",
    "eval_clasifier_rf= \"RandomForestClassifier(random_state=SEMILLA)\"\n",
    "eval_clasifier_lr= \"LogisticRegressionCV(random_state=SEMILLA)\"\n",
    "\n",
    "if M_TIPO.startswith(\"bin_m\"):\n",
    "    myfunc.verbose(f\"Utilizando parámetros de {M_TIPO}\")\n",
    "    eval_selector = eval_selector_mi\n",
    "    eval_clasifier = eval_clasifier_svm\n",
    "\n",
    "    SEMILLA = 6578\n",
    "    M_SELECT = \"MI\"\n",
    "    M_CLASIF = \"SVM\"\n",
    "    param_distributions = {'selector__k': [1000], \n",
    "         'clasifier__kernel': ['rbf'], 'clasifier__gamma': [0.01], 'clasifier__C': [100]}\n",
    "elif M_TIPO.startswith(\"bin_s\"):\n",
    "    myfunc.verbose(f\"Utilizando parámetros de {M_TIPO}\")\n",
    "    eval_selector = eval_selector_rf\n",
    "    eval_clasifier = eval_clasifier_lr\n",
    "\n",
    "    SEMILLA = 6191\n",
    "    M_SELECT = \"RF\"\n",
    "    M_CLASIF = \"LR_L2\"\n",
    "    param_distributions = {'selector__max_features': [1000], 'selector__estimator__n_estimators': [200], \n",
    "        'clasifier__solver': ['lbfgs'], 'clasifier__penalty': ['l2'], 'clasifier__max_iter': [10000]}\n",
    "\n",
    "elif M_TIPO.startswith(\"mul_m\"):\n",
    "    myfunc.verbose(f\"Utilizando parámetros de {M_TIPO}\")\n",
    " \n",
    "    eval_selector = eval_selector_rf\n",
    "    eval_clasifier = eval_clasifier_lr\n",
    "\n",
    "    SEMILLA = 6191\n",
    "    M_SELECT = \"RF\"\n",
    "    M_CLASIF = \"LR_L2\"\n",
    "    param_distributions = {'selector__max_features': [1000], 'selector__estimator__n_estimators': [400], \n",
    "        'clasifier__solver': ['lbfgs'], 'clasifier__penalty': ['l2'], 'clasifier__max_iter': [10000]}\n",
    "\n",
    "else:\n",
    "    # M_TIPO.startswith(\"mul_s\"):\n",
    "    myfunc.verbose(f\"Utilizando parámetros de {M_TIPO}\")\n",
    "    eval_selector = eval_selector_anova\n",
    "    eval_clasifier = eval_clasifier_lr\n",
    "\n",
    "    SEMILLA = 1860\n",
    "    M_SELECT = \"ANOVA\"\n",
    "    M_CLASIF = \"LR_L2\"\n",
    "    param_distributions = {'selector__k': [1000], \n",
    "        'clasifier__solver': ['saga'], 'clasifier__penalty': ['l2'], 'clasifier__max_iter': [10000]}\n",
    "\n"
   ]
  },
  {
   "cell_type": "code",
   "execution_count": 3,
   "id": "9be916a8",
   "metadata": {
    "execution": {
     "iopub.execute_input": "2023-10-30T15:11:18.711663Z",
     "iopub.status.busy": "2023-10-30T15:11:18.711156Z",
     "iopub.status.idle": "2023-10-30T15:11:18.715117Z",
     "shell.execute_reply": "2023-10-30T15:11:18.714605Z"
    },
    "papermill": {
     "duration": 0.0095,
     "end_time": "2023-10-30T15:11:18.716309",
     "exception": false,
     "start_time": "2023-10-30T15:11:18.706809",
     "status": "completed"
    },
    "tags": [
     "injected-parameters"
    ]
   },
   "outputs": [],
   "source": [
    "# Parameters\n",
    "M_TIPO = \"mul_m\"\n",
    "M_SELECT = \"RF\"\n",
    "M_CLASIF = \"LR_L2\"\n",
    "P_FICHERO = \"param_0000_7265_mul_m_RF_LR_L2.yaml\"\n",
    "R_FICHERO = \"resultados_7265\"\n",
    "M_FICHERO = \"metricas_7265\"\n",
    "PRE_DATA_FILE = \"rows_transpose_norm_by_gene_id_with_target_num_\"\n",
    "SCORING = \"roc_auc_ovr\"\n",
    "SEMILLA = 7265\n",
    "MAX_ITERS = 500\n",
    "eval_selector = \"SelectFromModel(estimator=RandomForestClassifier(random_state=SEMILLA), threshold=-np.inf)\"\n",
    "eval_clasifier = \"LogisticRegressionCV(random_state=SEMILLA)\"\n",
    "param_distributions = {\n",
    "    \"selector__max_features\": [1000],\n",
    "    \"selector__estimator__n_estimators\": [400],\n",
    "    \"clasifier__solver\": [\"lbfgs\"],\n",
    "    \"clasifier__penalty\": [\"l2\"],\n",
    "    \"clasifier__max_iter\": [10000],\n",
    "}\n"
   ]
  },
  {
   "cell_type": "code",
   "execution_count": 4,
   "id": "ce65e131",
   "metadata": {
    "execution": {
     "iopub.execute_input": "2023-10-30T15:11:18.724476Z",
     "iopub.status.busy": "2023-10-30T15:11:18.724121Z",
     "iopub.status.idle": "2023-10-30T15:11:18.727320Z",
     "shell.execute_reply": "2023-10-30T15:11:18.726798Z"
    },
    "papermill": {
     "duration": 0.008786,
     "end_time": "2023-10-30T15:11:18.728591",
     "exception": false,
     "start_time": "2023-10-30T15:11:18.719805",
     "status": "completed"
    },
    "tags": []
   },
   "outputs": [],
   "source": [
    "DATA_FILE = PRE_DATA_FILE + M_TIPO\n",
    "\n",
    "# si viene \"None\" en el parámetro max_depth, se le quitan las comillas para que no sea entendido por el algoritmo como un texto\n",
    "if \"clasifier__max_depth\" in param_distributions:\n",
    "    param_distributions['clasifier__max_depth'] = [None if x == 'None' else x for x in param_distributions['clasifier__max_depth']]"
   ]
  },
  {
   "cell_type": "markdown",
   "id": "c8aaeb1c",
   "metadata": {
    "papermill": {
     "duration": 0.003651,
     "end_time": "2023-10-30T15:11:18.735807",
     "exception": false,
     "start_time": "2023-10-30T15:11:18.732156",
     "status": "completed"
    },
    "tags": []
   },
   "source": [
    "Asignar los algoritmos que se utilizarán en la función RandomSearchCV"
   ]
  },
  {
   "cell_type": "code",
   "execution_count": 5,
   "id": "41d412f4",
   "metadata": {
    "execution": {
     "iopub.execute_input": "2023-10-30T15:11:18.743976Z",
     "iopub.status.busy": "2023-10-30T15:11:18.743623Z",
     "iopub.status.idle": "2023-10-30T15:11:18.746526Z",
     "shell.execute_reply": "2023-10-30T15:11:18.746001Z"
    },
    "papermill": {
     "duration": 0.008345,
     "end_time": "2023-10-30T15:11:18.747806",
     "exception": false,
     "start_time": "2023-10-30T15:11:18.739461",
     "status": "completed"
    },
    "tags": []
   },
   "outputs": [],
   "source": [
    "algor_selector=eval(eval_selector)\n",
    "algor_clasifier=eval(eval_clasifier)"
   ]
  },
  {
   "cell_type": "markdown",
   "id": "c492f921",
   "metadata": {
    "papermill": {
     "duration": 0.003596,
     "end_time": "2023-10-30T15:11:18.754956",
     "exception": false,
     "start_time": "2023-10-30T15:11:18.751360",
     "status": "completed"
    },
    "tags": []
   },
   "source": [
    "#### Comprobar el entorno y leer fichero de muestras"
   ]
  },
  {
   "cell_type": "code",
   "execution_count": 6,
   "id": "6f71848d",
   "metadata": {
    "execution": {
     "iopub.execute_input": "2023-10-30T15:11:18.763248Z",
     "iopub.status.busy": "2023-10-30T15:11:18.762742Z",
     "iopub.status.idle": "2023-10-30T15:11:19.005927Z",
     "shell.execute_reply": "2023-10-30T15:11:19.005329Z"
    },
    "papermill": {
     "duration": 0.248655,
     "end_time": "2023-10-30T15:11:19.007182",
     "exception": false,
     "start_time": "2023-10-30T15:11:18.758527",
     "status": "completed"
    },
    "tags": []
   },
   "outputs": [
    {
     "name": "stdout",
     "output_type": "stream",
     "text": [
      "20231030T161118 : enderlab : INFO : Encontrada carpeta DATA_DIR=../tfm_git/datos\n",
      "20231030T161118 : enderlab : INFO : Encontrada carpeta CFDNA_DIR=../tfm_git/datos/cfDNA_5hmC\n",
      "20231030T161118 : enderlab : INFO : Encontrada carpeta GENCODE_DIR=../tfm_git/datos/gencode\n",
      "20231030T161118 : enderlab : INFO : Encontrada carpeta H5_DIR=../tfm_git/datos/h5\n",
      "20231030T161118 : enderlab : INFO : Encontrada carpeta LOG_DIR=../tfm_git/datos/logs\n",
      "20231030T161118 : enderlab : INFO : Encontrada carpeta CSV_DIR=../tfm_git/datos/csv\n",
      "20231030T161118 : enderlab : INFO : Encontrada carpeta MODEL_DIR=../tfm_git/ejecuciones/modelos\n",
      "20231030T161118 : enderlab : INFO : Encontrada carpeta EXEC_DIR=../tfm_git/ejecuciones\n",
      "20231030T161118 : enderlab : INFO : Encontrada carpeta MET_DIR=../tfm_git/ejecuciones/metricas\n",
      "20231030T161118 : enderlab : INFO : Inicio leer fichero h5 ../tfm_git/datos/h5/rows_transpose_norm_by_gene_id_with_target_num_mul_m.h5\n",
      "20231030T161118 : enderlab : INFO : Leyendo clave /df\n"
     ]
    },
    {
     "name": "stdout",
     "output_type": "stream",
     "text": [
      "20231030T161118 : enderlab : INFO : Tamaño (434, 18876)\n",
      "20231030T161118 : enderlab : INFO : Fin leer fichero h5 ../tfm_git/datos/h5/rows_transpose_norm_by_gene_id_with_target_num_mul_m.h5\n"
     ]
    },
    {
     "data": {
      "text/plain": [
       "target\n",
       "0    62\n",
       "1    62\n",
       "2    62\n",
       "3    62\n",
       "4    62\n",
       "5    62\n",
       "6    62\n",
       "dtype: int64"
      ]
     },
     "metadata": {},
     "output_type": "display_data"
    },
    {
     "name": "stdout",
     "output_type": "stream",
     "text": [
      "Shape df: (434, 18876)\n"
     ]
    },
    {
     "name": "stdout",
     "output_type": "stream",
     "text": [
      "Shape X_train: (347, 18875)\n",
      "Shape X_test: (87, 18875)\n"
     ]
    }
   ],
   "source": [
    "start_time = datetime.datetime.now()\n",
    "\n",
    "myfunc.reset_vars()\n",
    "\n",
    "myfunc.NOTEBK_FILENAME = myfunc.get_nb_name()\n",
    "\n",
    "myfunc.check_enviroment(myfunc.DATA_DIR, myfunc.CFDNA_DIR, myfunc.GENCODE_DIR, myfunc.H5_DIR, myfunc.LOG_DIR, myfunc.CSV_DIR, myfunc.MODEL_DIR, myfunc.EXEC_DIR, myfunc.MET_DIR)\n",
    "\n",
    "# Leer fichero con las muestras\n",
    "df_t = myfunc.read_h5_to_df(DATA_FILE, myfunc.H5_DIR)\n",
    "display(df_t.groupby(\"target\").size())\n",
    "print(\"Shape df:\",df_t.shape)\n",
    "\n",
    "# Separar caracteristicas/genes de las etiquetas/tipos de cáncer\n",
    "X = df_t.iloc[:, :-1]  # Todas las columnas excepto la última\n",
    "y = df_t.iloc[:, -1]  # La última columna contiene los identificadores de los tipos de cáncer\n",
    "\n",
    "#  Crear el conjunto de datos de entrenamiento y de pruebas, y se fija la semilla para siempre coger el mismo juego de muestras\n",
    "X_train, X_test, y_train, y_test = train_test_split(X, y, test_size=0.2, shuffle=True, random_state=42)\n",
    "print(\"Shape X_train:\",X_train.shape)\n",
    "print(\"Shape X_test:\",X_test.shape)\n"
   ]
  },
  {
   "cell_type": "markdown",
   "id": "39657658",
   "metadata": {
    "papermill": {
     "duration": 0.00408,
     "end_time": "2023-10-30T15:11:19.015801",
     "exception": false,
     "start_time": "2023-10-30T15:11:19.011721",
     "status": "completed"
    },
    "tags": []
   },
   "source": [
    "#### Selección de características y clasificación."
   ]
  },
  {
   "cell_type": "code",
   "execution_count": 7,
   "id": "f0e40a26",
   "metadata": {
    "execution": {
     "iopub.execute_input": "2023-10-30T15:11:19.025067Z",
     "iopub.status.busy": "2023-10-30T15:11:19.024503Z",
     "iopub.status.idle": "2023-10-30T15:12:03.143768Z",
     "shell.execute_reply": "2023-10-30T15:12:03.143073Z"
    },
    "papermill": {
     "duration": 44.125904,
     "end_time": "2023-10-30T15:12:03.145646",
     "exception": false,
     "start_time": "2023-10-30T15:11:19.019742",
     "status": "completed"
    },
    "tags": []
   },
   "outputs": [
    {
     "name": "stdout",
     "output_type": "stream",
     "text": [
      "20231030T161119 : enderlab : INFO : Iniciando entrenamiento\n",
      "num_iter: 1 , max_iter: 1\n",
      "Fitting 5 folds for each of 1 candidates, totalling 5 fits\n"
     ]
    },
    {
     "name": "stdout",
     "output_type": "stream",
     "text": [
      "Mejores Hiperparámetros: {'selector__max_features': 1000, 'selector__estimator__n_estimators': 400, 'clasifier__solver': 'lbfgs', 'clasifier__penalty': 'l2', 'clasifier__max_iter': 10000}\n",
      "Mejor Puntuación: 0.8686\n",
      "20231030T161203 : enderlab : INFO : Fin entrenamiento\n"
     ]
    }
   ],
   "source": [
    "myfunc.verbose(\"Iniciando entrenamiento\")\n",
    "\n",
    "kf = KFold(n_splits=5, shuffle=True, random_state=SEMILLA)\n",
    "\n",
    "# Crear el pipeline para el flujo de tareas\n",
    "tasks_pipeline = Pipeline([\n",
    "    ('selector', algor_selector),\n",
    "    ('clasifier', algor_clasifier)\n",
    "])\n",
    "\n",
    "# MAX_ITERS puede limitar el número de iteraciones si son excesivas para las combinaciones de parámetros buscando un óptimo local, \n",
    "# sino funcionaría como GridSearchCV al revisar todas las cominaciones de los parámetros\n",
    "num_iteraciones = 1\n",
    "num_iteraciones = num_iteraciones * np.prod([len(elemento1) for _, elemento1 in param_distributions.items()])\n",
    "max_iteraciones = num_iteraciones if num_iteraciones <= MAX_ITERS else MAX_ITERS\n",
    "print(\"num_iter:\",num_iteraciones,\", max_iter:\",max_iteraciones)\n",
    "\n",
    "random_search = RandomizedSearchCV(\n",
    "    tasks_pipeline, \n",
    "    param_distributions, \n",
    "    n_iter=max_iteraciones,\n",
    "    scoring=SCORING,\n",
    "    cv=kf,\n",
    "    verbose=3, \n",
    "    random_state=SEMILLA, \n",
    "    n_jobs=-1\n",
    "    )\n",
    "\n",
    "# Entrenar el modelo\n",
    "random_search.fit(X_train, y_train)\n",
    "\n",
    "# Ver los mejores hiperparámetros encontrados\n",
    "print(f'Mejores Hiperparámetros: {random_search.best_params_}')\n",
    "print(f'Mejor Puntuación: {random_search.best_score_:.4f}')\n",
    "\n",
    "# Nos quedamos con el mejor modelo para ver las métricas\n",
    "mejor_modelo = random_search.best_estimator_\n",
    "\n",
    "myfunc.verbose(\"Fin entrenamiento\")"
   ]
  },
  {
   "cell_type": "markdown",
   "id": "0feb72be",
   "metadata": {
    "papermill": {
     "duration": 0.004163,
     "end_time": "2023-10-30T15:12:03.155059",
     "exception": false,
     "start_time": "2023-10-30T15:12:03.150896",
     "status": "completed"
    },
    "tags": []
   },
   "source": [
    "#### Guardar modelo"
   ]
  },
  {
   "cell_type": "code",
   "execution_count": 8,
   "id": "0d463be6",
   "metadata": {
    "execution": {
     "iopub.execute_input": "2023-10-30T15:12:03.164589Z",
     "iopub.status.busy": "2023-10-30T15:12:03.164255Z",
     "iopub.status.idle": "2023-10-30T15:12:03.335487Z",
     "shell.execute_reply": "2023-10-30T15:12:03.334776Z"
    },
    "papermill": {
     "duration": 0.177807,
     "end_time": "2023-10-30T15:12:03.336946",
     "exception": false,
     "start_time": "2023-10-30T15:12:03.159139",
     "status": "completed"
    },
    "tags": []
   },
   "outputs": [
    {
     "name": "stdout",
     "output_type": "stream",
     "text": [
      "20231030T161203 : enderlab : INFO : Inicio guardar fichero ../tfm_git/ejecuciones/modelos/modelo_7265_mul_m_RF_LR_L2.pkl\n",
      "20231030T161203 : enderlab : INFO : Fin guardar fichero ../tfm_git/ejecuciones/modelos/modelo_7265_mul_m_RF_LR_L2.pkl\n"
     ]
    }
   ],
   "source": [
    "fichero_modelo = str.replace(\"modelo_\"+str(SEMILLA).zfill(4)+\"_\"+M_TIPO+\"_\"+M_SELECT+\"_\"+M_CLASIF+\".pkl\", \" \", \"_\")\n",
    "\n",
    "myfunc.save_modelo(mejor_modelo, myfunc.MODEL_DIR, fichero_modelo)"
   ]
  },
  {
   "cell_type": "markdown",
   "id": "2b02f581",
   "metadata": {
    "papermill": {
     "duration": 0.004154,
     "end_time": "2023-10-30T15:12:03.345807",
     "exception": false,
     "start_time": "2023-10-30T15:12:03.341653",
     "status": "completed"
    },
    "tags": []
   },
   "source": [
    "#### Ver resultados del las iteraciones hechas por RandomSearchCV"
   ]
  },
  {
   "cell_type": "code",
   "execution_count": 9,
   "id": "c5a7bb9a",
   "metadata": {
    "execution": {
     "iopub.execute_input": "2023-10-30T15:12:03.356359Z",
     "iopub.status.busy": "2023-10-30T15:12:03.355806Z",
     "iopub.status.idle": "2023-10-30T15:12:03.362765Z",
     "shell.execute_reply": "2023-10-30T15:12:03.362209Z"
    },
    "papermill": {
     "duration": 0.014246,
     "end_time": "2023-10-30T15:12:03.364162",
     "exception": false,
     "start_time": "2023-10-30T15:12:03.349916",
     "status": "completed"
    },
    "tags": []
   },
   "outputs": [
    {
     "name": "stdout",
     "output_type": "stream",
     "text": [
      "20231030T161203 : enderlab : INFO : Inicio ver resultados\n",
      "Mejores Hiperparámetros: {'selector__max_features': 1000, 'selector__estimator__n_estimators': 400, 'clasifier__solver': 'lbfgs', 'clasifier__penalty': 'l2', 'clasifier__max_iter': 10000}\n",
      "Mejores puntuaciones: 0.8686 | Params: {'selector__max_features': 1000, 'selector__estimator__n_estimators': 400, 'clasifier__solver': 'lbfgs', 'clasifier__penalty': 'l2', 'clasifier__max_iter': 10000}\n",
      "Media de las puntuaciones: 0.8686 | Params: {'selector__max_features': 1000, 'selector__estimator__n_estimators': 400, 'clasifier__solver': 'lbfgs', 'clasifier__penalty': 'l2', 'clasifier__max_iter': 10000}\n",
      "20231030T161203 : enderlab : INFO : Fin resultados\n"
     ]
    }
   ],
   "source": [
    "myfunc.ver_resultados_search(random_search)"
   ]
  },
  {
   "cell_type": "markdown",
   "id": "a78052a7",
   "metadata": {
    "papermill": {
     "duration": 0.004238,
     "end_time": "2023-10-30T15:12:03.372544",
     "exception": false,
     "start_time": "2023-10-30T15:12:03.368306",
     "status": "completed"
    },
    "tags": []
   },
   "source": [
    "#### Ver métricas del mejor modelo"
   ]
  },
  {
   "cell_type": "code",
   "execution_count": 10,
   "id": "09e722a5",
   "metadata": {
    "execution": {
     "iopub.execute_input": "2023-10-30T15:12:03.382218Z",
     "iopub.status.busy": "2023-10-30T15:12:03.381689Z",
     "iopub.status.idle": "2023-10-30T15:12:04.434653Z",
     "shell.execute_reply": "2023-10-30T15:12:04.434062Z"
    },
    "papermill": {
     "duration": 1.059907,
     "end_time": "2023-10-30T15:12:04.436601",
     "exception": false,
     "start_time": "2023-10-30T15:12:03.376694",
     "status": "completed"
    },
    "tags": []
   },
   "outputs": [
    {
     "name": "stdout",
     "output_type": "stream",
     "text": [
      "20231030T161203 : enderlab : INFO : Inicio ver métricas multiclase\n"
     ]
    },
    {
     "name": "stdout",
     "output_type": "stream",
     "text": [
      "              precision    recall  f1-score   support\n",
      "\n",
      "           0       0.57      0.50      0.53        16\n",
      "           1       0.82      0.60      0.69        15\n",
      "           2       0.43      0.27      0.33        11\n",
      "           3       0.27      0.80      0.40         5\n",
      "           4       0.69      0.69      0.69        13\n",
      "           5       0.80      0.89      0.84         9\n",
      "           6       0.65      0.61      0.63        18\n",
      "\n",
      "    accuracy                           0.60        87\n",
      "   macro avg       0.60      0.62      0.59        87\n",
      "weighted avg       0.64      0.60      0.60        87\n",
      "\n",
      "\n",
      "\n",
      "           Exactitud: 0.597701\n",
      "   Precisión (media): 0.603459\n",
      "      Recall (media): 0.623576\n",
      "    F1-score (media): 0.588851\n",
      "\n",
      "\n",
      "AUC para el tipo de cáncer 0-Control.... 0.8820\n",
      "AUC para el tipo de cáncer 1-Bladder.... 0.8917\n",
      "AUC para el tipo de cáncer 2-Breast..... 0.7703\n",
      "AUC para el tipo de cáncer 3-Colorectal. 0.8537\n",
      "AUC para el tipo de cáncer 4-Kidney..... 0.9012\n",
      "AUC para el tipo de cáncer 5-Lung....... 0.9886\n",
      "AUC para el tipo de cáncer 6-Prostate... 0.8446\n",
      "\n",
      "Media de AUC: 0.8760\n"
     ]
    },
    {
     "data": {
      "image/png": "[encoded data removed]",
      "text/plain": [
       "<Figure size 1000x600 with 1 Axes>"
      ]
     },
     "metadata": {},
     "output_type": "display_data"
    },
    {
     "name": "stdout",
     "output_type": "stream",
     "text": [
      "\n",
      "\n"
     ]
    },
    {
     "data": {
      "image/png": "[encoded data removed]",
      "text/plain": [
       "<Figure size 800x400 with 2 Axes>"
      ]
     },
     "metadata": {},
     "output_type": "display_data"
    },
    {
     "name": "stdout",
     "output_type": "stream",
     "text": [
      "\n",
      "\n",
      "Puntuación Jaccard para el cáncer tipo 0-Control.... 0.3636\n",
      "Puntuación Jaccard para el cáncer tipo 1-Bladder.... 0.5294\n",
      "Puntuación Jaccard para el cáncer tipo 2-Breast..... 0.2000\n",
      "Puntuación Jaccard para el cáncer tipo 3-Colorectal. 0.2500\n",
      "Puntuación Jaccard para el cáncer tipo 4-Kidney..... 0.5294\n",
      "Puntuación Jaccard para el cáncer tipo 5-Lung....... 0.7273\n",
      "Puntuación Jaccard para el cáncer tipo 6-Prostate... 0.4583\n",
      "\n",
      "Media de la puntuación de Jaccard: 0.4369\n"
     ]
    }
   ],
   "source": [
    "if M_TIPO.startswith(\"bin\"):\n",
    "    myfunc.ver_metricas(mejor_modelo, X_test, y_test)\n",
    "else:\n",
    "    myfunc.ver_metricas_multi(mejor_modelo, X_test, y_test)\n"
   ]
  },
  {
   "cell_type": "markdown",
   "id": "a47dbf7b",
   "metadata": {
    "papermill": {
     "duration": 0.009743,
     "end_time": "2023-10-30T15:12:04.456999",
     "exception": false,
     "start_time": "2023-10-30T15:12:04.447256",
     "status": "completed"
    },
    "tags": []
   },
   "source": [
    "#### Finalización del notebook"
   ]
  },
  {
   "cell_type": "code",
   "execution_count": 11,
   "id": "7b92d9ab",
   "metadata": {
    "execution": {
     "iopub.execute_input": "2023-10-30T15:12:04.477262Z",
     "iopub.status.busy": "2023-10-30T15:12:04.476749Z",
     "iopub.status.idle": "2023-10-30T15:12:04.480584Z",
     "shell.execute_reply": "2023-10-30T15:12:04.480031Z"
    },
    "papermill": {
     "duration": 0.015872,
     "end_time": "2023-10-30T15:12:04.482321",
     "exception": false,
     "start_time": "2023-10-30T15:12:04.466449",
     "status": "completed"
    },
    "tags": []
   },
   "outputs": [
    {
     "name": "stdout",
     "output_type": "stream",
     "text": [
      "20231030T161204 : enderlab : INFO : Notebook ha tardado 45 seconds\n"
     ]
    }
   ],
   "source": [
    "end_time = datetime.datetime.now()\n",
    "total_time = end_time - start_time\n",
    "myfunc.verbose(f\"Notebook ha tardado {total_time.seconds} seconds\")"
   ]
  },
  {
   "cell_type": "markdown",
   "id": "5650f2bd",
   "metadata": {
    "papermill": {
     "duration": 0.009601,
     "end_time": "2023-10-30T15:12:04.501385",
     "exception": false,
     "start_time": "2023-10-30T15:12:04.491784",
     "status": "completed"
    },
    "tags": []
   },
   "source": [
    "#### Guardar métricas"
   ]
  },
  {
   "cell_type": "code",
   "execution_count": 12,
   "id": "8f558c5c",
   "metadata": {
    "execution": {
     "iopub.execute_input": "2023-10-30T15:12:04.521661Z",
     "iopub.status.busy": "2023-10-30T15:12:04.521151Z",
     "iopub.status.idle": "2023-10-30T15:12:05.246019Z",
     "shell.execute_reply": "2023-10-30T15:12:05.245328Z"
    },
    "papermill": {
     "duration": 0.736566,
     "end_time": "2023-10-30T15:12:05.247467",
     "exception": false,
     "start_time": "2023-10-30T15:12:04.510901",
     "status": "completed"
    },
    "tags": []
   },
   "outputs": [
    {
     "name": "stdout",
     "output_type": "stream",
     "text": [
      "20231030T161204 : enderlab : INFO : Inicio guardar métricas multiclase\n",
      "20231030T161204 : enderlab : INFO : Inicio leer fichero ../tfm_git/ejecuciones/metricas/metricas_7265.csv\n",
      "20231030T161204 : enderlab : INFO : Fin leer fichero ../tfm_git/ejecuciones/metricas/metricas_7265.csv\n"
     ]
    },
    {
     "name": "stdout",
     "output_type": "stream",
     "text": [
      "20231030T161205 : enderlab : INFO : Inicio guardar fichero ../tfm_git/ejecuciones/metricas/metricas_7265.csv\n",
      "20231030T161205 : enderlab : INFO : Fichero borrado ../tfm_git/ejecuciones/metricas/metricas_7265.csv\n",
      "20231030T161205 : enderlab : INFO : Fin guardar fichero ../tfm_git/ejecuciones/metricas/metricas_7265.csv\n",
      "20231030T161205 : enderlab : INFO : Fin guardar métricas multiclase\n",
      "20231030T161205 : enderlab : INFO : Inicio leer fichero ../tfm_git/ejecuciones/metricas/metricas_7265.csv\n",
      "20231030T161205 : enderlab : INFO : Fin leer fichero ../tfm_git/ejecuciones/metricas/metricas_7265.csv\n"
     ]
    },
    {
     "data": {
      "text/html": [
       "<div>\n",
       "<style scoped>\n",
       "    .dataframe tbody tr th:only-of-type {\n",
       "        vertical-align: middle;\n",
       "    }\n",
       "\n",
       "    .dataframe tbody tr th {\n",
       "        vertical-align: top;\n",
       "    }\n",
       "\n",
       "    .dataframe thead th {\n",
       "        text-align: right;\n",
       "    }\n",
       "</style>\n",
       "<table border=\"1\" class=\"dataframe\">\n",
       "  <thead>\n",
       "    <tr style=\"text-align: right;\">\n",
       "      <th></th>\n",
       "      <th>tipo</th>\n",
       "      <th>select</th>\n",
       "      <th>clasific</th>\n",
       "      <th>semilla</th>\n",
       "      <th>accuracy</th>\n",
       "      <th>precision</th>\n",
       "      <th>recall</th>\n",
       "      <th>f1_score</th>\n",
       "      <th>roc_auc</th>\n",
       "      <th>hostname</th>\n",
       "      <th>total_time_sec</th>\n",
       "      <th>datetime</th>\n",
       "      <th>fichero_modelo</th>\n",
       "      <th>params</th>\n",
       "      <th>shape</th>\n",
       "      <th>features</th>\n",
       "      <th>roc_auc_ovr</th>\n",
       "      <th>indices_auc</th>\n",
       "      <th>indices_jaccard</th>\n",
       "    </tr>\n",
       "  </thead>\n",
       "  <tbody>\n",
       "    <tr>\n",
       "      <th>0</th>\n",
       "      <td>mul_m</td>\n",
       "      <td>RF</td>\n",
       "      <td>LR_L2</td>\n",
       "      <td>7265</td>\n",
       "      <td>0.597701</td>\n",
       "      <td>0.603459</td>\n",
       "      <td>0.623576</td>\n",
       "      <td>0.588851</td>\n",
       "      <td>NaN</td>\n",
       "      <td>enderlab</td>\n",
       "      <td>45</td>\n",
       "      <td>2023-10-30 16:12:05.196603</td>\n",
       "      <td>modelo_7265_mul_m_RF_LR_L2.pkl</td>\n",
       "      <td>{'selector__max_features': 1000, 'selector__es...</td>\n",
       "      <td>X_test:(87, 18875)</td>\n",
       "      <td>['ENSG00000000938.13', 'ENSG00000001084.13', '...</td>\n",
       "      <td>0.876023</td>\n",
       "      <td>[0.8820422535211268, 0.8916666666666666, 0.770...</td>\n",
       "      <td>[0.36363636363636365, 0.5294117647058824, 0.2,...</td>\n",
       "    </tr>\n",
       "    <tr>\n",
       "      <th>0</th>\n",
       "      <td>mul_m</td>\n",
       "      <td>RF</td>\n",
       "      <td>LR_L1</td>\n",
       "      <td>7265</td>\n",
       "      <td>0.586207</td>\n",
       "      <td>0.583403</td>\n",
       "      <td>0.620127</td>\n",
       "      <td>0.574900</td>\n",
       "      <td>NaN</td>\n",
       "      <td>enderlab</td>\n",
       "      <td>1724</td>\n",
       "      <td>2023-10-30 16:11:12.016643</td>\n",
       "      <td>modelo_7265_mul_m_RF_LR_L1.pkl</td>\n",
       "      <td>{'selector__max_features': 1000, 'selector__es...</td>\n",
       "      <td>X_test:(87, 18875)</td>\n",
       "      <td>['ENSG00000000938.13', 'ENSG00000001084.13', '...</td>\n",
       "      <td>0.851490</td>\n",
       "      <td>[0.8336267605633803, 0.8925925925925926, 0.721...</td>\n",
       "      <td>[0.3157894736842105, 0.5, 0.16666666666666666,...</td>\n",
       "    </tr>\n",
       "    <tr>\n",
       "      <th>0</th>\n",
       "      <td>mul_m</td>\n",
       "      <td>RF</td>\n",
       "      <td>LR_EN</td>\n",
       "      <td>7265</td>\n",
       "      <td>0.574713</td>\n",
       "      <td>0.570101</td>\n",
       "      <td>0.604254</td>\n",
       "      <td>0.567065</td>\n",
       "      <td>NaN</td>\n",
       "      <td>enderlab</td>\n",
       "      <td>1673</td>\n",
       "      <td>2023-10-30 15:42:20.077570</td>\n",
       "      <td>modelo_7265_mul_m_RF_LR_EN.pkl</td>\n",
       "      <td>{'selector__max_features': 1000, 'selector__es...</td>\n",
       "      <td>X_test:(87, 18875)</td>\n",
       "      <td>['ENSG00000000938.13', 'ENSG00000001084.13', '...</td>\n",
       "      <td>0.858221</td>\n",
       "      <td>[0.8477112676056339, 0.8972222222222223, 0.729...</td>\n",
       "      <td>[0.2608695652173913, 0.5263157894736842, 0.187...</td>\n",
       "    </tr>\n",
       "  </tbody>\n",
       "</table>\n",
       "</div>"
      ],
      "text/plain": [
       "    tipo select clasific  semilla  accuracy  precision    recall  f1_score  \\\n",
       "0  mul_m     RF    LR_L2     7265  0.597701   0.603459  0.623576  0.588851   \n",
       "0  mul_m     RF    LR_L1     7265  0.586207   0.583403  0.620127  0.574900   \n",
       "0  mul_m     RF    LR_EN     7265  0.574713   0.570101  0.604254  0.567065   \n",
       "\n",
       "   roc_auc  hostname  total_time_sec                    datetime  \\\n",
       "0      NaN  enderlab              45  2023-10-30 16:12:05.196603   \n",
       "0      NaN  enderlab            1724  2023-10-30 16:11:12.016643   \n",
       "0      NaN  enderlab            1673  2023-10-30 15:42:20.077570   \n",
       "\n",
       "                   fichero_modelo  \\\n",
       "0  modelo_7265_mul_m_RF_LR_L2.pkl   \n",
       "0  modelo_7265_mul_m_RF_LR_L1.pkl   \n",
       "0  modelo_7265_mul_m_RF_LR_EN.pkl   \n",
       "\n",
       "                                              params               shape  \\\n",
       "0  {'selector__max_features': 1000, 'selector__es...  X_test:(87, 18875)   \n",
       "0  {'selector__max_features': 1000, 'selector__es...  X_test:(87, 18875)   \n",
       "0  {'selector__max_features': 1000, 'selector__es...  X_test:(87, 18875)   \n",
       "\n",
       "                                            features  roc_auc_ovr  \\\n",
       "0  ['ENSG00000000938.13', 'ENSG00000001084.13', '...     0.876023   \n",
       "0  ['ENSG00000000938.13', 'ENSG00000001084.13', '...     0.851490   \n",
       "0  ['ENSG00000000938.13', 'ENSG00000001084.13', '...     0.858221   \n",
       "\n",
       "                                         indices_auc  \\\n",
       "0  [0.8820422535211268, 0.8916666666666666, 0.770...   \n",
       "0  [0.8336267605633803, 0.8925925925925926, 0.721...   \n",
       "0  [0.8477112676056339, 0.8972222222222223, 0.729...   \n",
       "\n",
       "                                     indices_jaccard  \n",
       "0  [0.36363636363636365, 0.5294117647058824, 0.2,...  \n",
       "0  [0.3157894736842105, 0.5, 0.16666666666666666,...  \n",
       "0  [0.2608695652173913, 0.5263157894736842, 0.187...  "
      ]
     },
     "metadata": {},
     "output_type": "display_data"
    }
   ],
   "source": [
    "if M_TIPO.startswith(\"bin\"):\n",
    "    myfunc.save_metricas_to_csv(random_search, X_test, y_test, M_TIPO, M_SELECT, M_CLASIF, total_time, SEMILLA, myfunc.MET_DIR, M_FICHERO, fichero_modelo)\n",
    "else:\n",
    "    myfunc.save_metricas_multi_to_csv(random_search, X_test, y_test, M_TIPO, M_SELECT, M_CLASIF, total_time, SEMILLA, myfunc.MET_DIR, M_FICHERO, fichero_modelo)\n",
    "\n",
    "df1=myfunc.read_metricas_to_df(myfunc.MET_DIR,M_FICHERO)\n",
    "\n",
    "display(df1.sort_values(\"datetime\", ascending=False)[:3])\n"
   ]
  },
  {
   "cell_type": "markdown",
   "id": "25e96342",
   "metadata": {
    "papermill": {
     "duration": 0.006732,
     "end_time": "2023-10-30T15:12:05.260892",
     "exception": false,
     "start_time": "2023-10-30T15:12:05.254160",
     "status": "completed"
    },
    "tags": []
   },
   "source": [
    "#### Guardar resultados"
   ]
  },
  {
   "cell_type": "code",
   "execution_count": 13,
   "id": "f9f88942",
   "metadata": {
    "execution": {
     "iopub.execute_input": "2023-10-30T15:12:05.274552Z",
     "iopub.status.busy": "2023-10-30T15:12:05.274008Z",
     "iopub.status.idle": "2023-10-30T15:12:05.284158Z",
     "shell.execute_reply": "2023-10-30T15:12:05.283564Z"
    },
    "papermill": {
     "duration": 0.018438,
     "end_time": "2023-10-30T15:12:05.285402",
     "exception": false,
     "start_time": "2023-10-30T15:12:05.266964",
     "status": "completed"
    },
    "tags": []
   },
   "outputs": [
    {
     "name": "stdout",
     "output_type": "stream",
     "text": [
      "20231030T161205 : enderlab : INFO : Inicio guardar resultados\n",
      "20231030T161205 : enderlab : INFO : Inicio guardar fichero ../tfm_git/ejecuciones/metricas/resultados_7265_mul_m-RF-LR_L2.csv\n",
      "20231030T161205 : enderlab : INFO : Fin guardar fichero ../tfm_git/ejecuciones/metricas/resultados_7265_mul_m-RF-LR_L2.csv\n",
      "20231030T161205 : enderlab : INFO : Fin guardar resultados\n"
     ]
    }
   ],
   "source": [
    "fichero_resultados=R_FICHERO+\"_\"+M_TIPO+\"-\"+M_SELECT+\"-\"+M_CLASIF+\".csv\"\n",
    "myfunc.save_resultados_to_csv(M_TIPO, M_SELECT, M_CLASIF,  random_search, myfunc.MET_DIR, fichero_resultados)\n"
   ]
  }
 ],
 "metadata": {
  "kernelspec": {
   "display_name": "Python 3 (ipykernel)",
   "language": "python",
   "name": "python3"
  },
  "language_info": {
   "codemirror_mode": {
    "name": "ipython",
    "version": 3
   },
   "file_extension": ".py",
   "mimetype": "text/x-python",
   "name": "python",
   "nbconvert_exporter": "python",
   "pygments_lexer": "ipython3",
   "version": "3.10.11"
  },
  "papermill": {
   "default_parameters": {},
   "duration": 51.552379,
   "end_time": "2023-10-30T15:12:07.909255",
   "environment_variables": {},
   "exception": null,
   "input_path": "03_entrenamiento.ipynb",
   "output_path": "ejecuciones/training/03_entrenamiento.20231030T161115.param_0000_7265_mul_m_RF_LR_L2.output.ipynb",
   "parameters": {
    "MAX_ITERS": 500,
    "M_CLASIF": "LR_L2",
    "M_FICHERO": "metricas_7265",
    "M_SELECT": "RF",
    "M_TIPO": "mul_m",
    "PRE_DATA_FILE": "rows_transpose_norm_by_gene_id_with_target_num_",
    "P_FICHERO": "param_0000_7265_mul_m_RF_LR_L2.yaml",
    "R_FICHERO": "resultados_7265",
    "SCORING": "roc_auc_ovr",
    "SEMILLA": 7265,
    "eval_clasifier": "LogisticRegressionCV(random_state=SEMILLA)",
    "eval_selector": "SelectFromModel(estimator=RandomForestClassifier(random_state=SEMILLA), threshold=-np.inf)",
    "param_distributions": {
     "clasifier__max_iter": [
      10000
     ],
     "clasifier__penalty": [
      "l2"
     ],
     "clasifier__solver": [
      "lbfgs"
     ],
     "selector__estimator__n_estimators": [
      400
     ],
     "selector__max_features": [
      1000
     ]
    }
   },
   "start_time": "2023-10-30T15:11:16.356876",
   "version": "2.4.0"
  }
 },
 "nbformat": 4,
 "nbformat_minor": 5
}