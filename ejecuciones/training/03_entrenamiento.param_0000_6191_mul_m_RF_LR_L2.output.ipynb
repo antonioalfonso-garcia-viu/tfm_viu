{
 "cells": [
  {
   "cell_type": "markdown",
   "id": "3e5fb2d3",
   "metadata": {
    "papermill": {
     "duration": 0.004226,
     "end_time": "2023-10-30T09:36:47.720703",
     "exception": false,
     "start_time": "2023-10-30T09:36:47.716477",
     "status": "completed"
    },
    "tags": []
   },
   "source": [
    "##### Inicio"
   ]
  },
  {
   "cell_type": "markdown",
   "id": "ee2fe955",
   "metadata": {
    "papermill": {
     "duration": 0.003389,
     "end_time": "2023-10-30T09:36:47.727832",
     "exception": false,
     "start_time": "2023-10-30T09:36:47.724443",
     "status": "completed"
    },
    "tags": []
   },
   "source": [
    "#### Carga de datos"
   ]
  },
  {
   "cell_type": "code",
   "execution_count": 1,
   "id": "db77eaf4",
   "metadata": {
    "execution": {
     "iopub.execute_input": "2023-10-30T09:36:47.736021Z",
     "iopub.status.busy": "2023-10-30T09:36:47.735776Z",
     "iopub.status.idle": "2023-10-30T09:36:48.603871Z",
     "shell.execute_reply": "2023-10-30T09:36:48.603352Z"
    },
    "papermill": {
     "duration": 0.873875,
     "end_time": "2023-10-30T09:36:48.605222",
     "exception": false,
     "start_time": "2023-10-30T09:36:47.731347",
     "status": "completed"
    },
    "tags": []
   },
   "outputs": [
    {
     "name": "stdout",
     "output_type": "stream",
     "text": [
      "CPU_COUNT: 8; NODE: amilcar22; sys.version: 3.10.12 (main, Jul  5 2023, 19:22:19) [GCC 11.2.0]\n",
      "LOKY_MAX_CPU_COUNT: 6\n",
      "OMP_NUM_THREADS: 2\n"
     ]
    }
   ],
   "source": [
    "import os\n",
    "import numpy as np\n",
    "import pandas as pd\n",
    "import datetime\n",
    "import sklearn\n",
    "import logging\n",
    "import warnings\n",
    "\n",
    "from sklearn.pipeline import Pipeline\n",
    "from sklearn.model_selection import RandomizedSearchCV, KFold, cross_val_score, train_test_split\n",
    "from sklearn.metrics import accuracy_score, confusion_matrix, classification_report, roc_auc_score\n",
    "\n",
    "#  cargar algoritmos para aprendizaje supervisado\n",
    "from sklearn.feature_selection import SelectKBest, f_classif, SelectFromModel, mutual_info_classif\n",
    "from sklearn.svm import SVC\n",
    "from sklearn.ensemble import RandomForestClassifier\n",
    "from sklearn.linear_model import LogisticRegression,LogisticRegressionCV\n",
    "\n",
    "# importar fichero con utilidades propias\n",
    "from commons import myfunctions as myfunc\n"
   ]
  },
  {
   "cell_type": "markdown",
   "id": "a9ee8e9c",
   "metadata": {
    "papermill": {
     "duration": 0.002571,
     "end_time": "2023-10-30T09:36:48.610759",
     "exception": false,
     "start_time": "2023-10-30T09:36:48.608188",
     "status": "completed"
    },
    "tags": []
   },
   "source": [
    "#### Parámetros a utilizar en el entrenamiento.\n",
    "\n",
    "Se indican los 3 algoritmos de *selección de características* (eval_selector_xxx) y los 3 algoritmos para la _clasificación_ (eval_clasifier_xxx)\n",
    "\n",
    "En *param_distributions* se indicar los parámetros que utilizan los algoritmos en la función RandomSearchCV.\n",
    "\n",
    "Esta celda tiene la etiqueta **parameters** que servirá para poder lanzar los entrenamientos con la utilidad **papermill** pasándole un fichero con los parámetros. Los nuevos parámetros se situarán tras esta celda para tener prevalencia."
   ]
  },
  {
   "cell_type": "code",
   "execution_count": 2,
   "id": "0f3620f1",
   "metadata": {
    "execution": {
     "iopub.execute_input": "2023-10-30T09:36:48.616693Z",
     "iopub.status.busy": "2023-10-30T09:36:48.616376Z",
     "iopub.status.idle": "2023-10-30T09:36:48.623301Z",
     "shell.execute_reply": "2023-10-30T09:36:48.622817Z"
    },
    "papermill": {
     "duration": 0.01119,
     "end_time": "2023-10-30T09:36:48.624434",
     "exception": false,
     "start_time": "2023-10-30T09:36:48.613244",
     "status": "completed"
    },
    "tags": [
     "parameters"
    ]
   },
   "outputs": [
    {
     "name": "stdout",
     "output_type": "stream",
     "text": [
      "20231030T103648 : amilcar22 : INFO : Utilizando parámetros de mul_m\n"
     ]
    }
   ],
   "source": [
    "#  Parametros para el entrenamiento\n",
    "\n",
    "SEMILLA=        42\n",
    "M_TIPO=         \"mul_m\"\n",
    "M_SELECT=       \"MI\"\n",
    "M_CLASIF=       \"SVM\"\n",
    "R_FICHERO=      \"resultados\"\n",
    "M_FICHERO=      \"metricas\"\n",
    "PRE_DATA_FILE=  \"rows_transpose_norm_by_gene_id_with_target_num_\"\n",
    "SCORING=        \"roc_auc_ovr\" \n",
    "MAX_ITERS=      100\n",
    "\n",
    "def mutual_info_classif_state(X, y):\n",
    "    return mutual_info_classif(X, y, random_state=SEMILLA)\n",
    "\n",
    "eval_selector_mi = \"SelectKBest(score_func=mutual_info_classif_state)\"\n",
    "eval_selector_rf=  \"SelectFromModel(estimator=RandomForestClassifier(random_state=SEMILLA), threshold=-np.inf)\"\n",
    "eval_selector_anova=  \"SelectKBest(score_func=f_classif)\"\n",
    "\n",
    "eval_clasifier_svm= \"SVC(probability=True, random_state=SEMILLA)\"\n",
    "eval_clasifier_rf= \"RandomForestClassifier(random_state=SEMILLA)\"\n",
    "eval_clasifier_lr= \"LogisticRegressionCV(random_state=SEMILLA)\"\n",
    "\n",
    "if M_TIPO.startswith(\"bin_m\"):\n",
    "    myfunc.verbose(f\"Utilizando parámetros de {M_TIPO}\")\n",
    "    eval_selector = eval_selector_mi\n",
    "    eval_clasifier = eval_clasifier_svm\n",
    "\n",
    "    SEMILLA = 6578\n",
    "    M_SELECT = \"MI\"\n",
    "    M_CLASIF = \"SVM\"\n",
    "    param_distributions = {'selector__k': [1000], \n",
    "         'clasifier__kernel': ['rbf'], 'clasifier__gamma': [0.01], 'clasifier__C': [100]}\n",
    "elif M_TIPO.startswith(\"bin_s\"):\n",
    "    myfunc.verbose(f\"Utilizando parámetros de {M_TIPO}\")\n",
    "    eval_selector = eval_selector_rf\n",
    "    eval_clasifier = eval_clasifier_lr\n",
    "\n",
    "    SEMILLA = 6191\n",
    "    M_SELECT = \"RF\"\n",
    "    M_CLASIF = \"LR_L2\"\n",
    "    param_distributions = {'selector__max_features': [1000], 'selector__estimator__n_estimators': [200], \n",
    "        'clasifier__solver': ['lbfgs'], 'clasifier__penalty': ['l2'], 'clasifier__max_iter': [10000]}\n",
    "\n",
    "elif M_TIPO.startswith(\"mul_m\"):\n",
    "    myfunc.verbose(f\"Utilizando parámetros de {M_TIPO}\")\n",
    " \n",
    "    eval_selector = eval_selector_rf\n",
    "    eval_clasifier = eval_clasifier_lr\n",
    "\n",
    "    SEMILLA = 6191\n",
    "    M_SELECT = \"RF\"\n",
    "    M_CLASIF = \"LR_L2\"\n",
    "    param_distributions = {'selector__max_features': [1000], 'selector__estimator__n_estimators': [400], \n",
    "        'clasifier__solver': ['lbfgs'], 'clasifier__penalty': ['l2'], 'clasifier__max_iter': [10000]}\n",
    "\n",
    "else:\n",
    "    # M_TIPO.startswith(\"mul_s\"):\n",
    "    myfunc.verbose(f\"Utilizando parámetros de {M_TIPO}\")\n",
    "    eval_selector = eval_selector_anova\n",
    "    eval_clasifier = eval_clasifier_lr\n",
    "\n",
    "    SEMILLA = 1860\n",
    "    M_SELECT = \"ANOVA\"\n",
    "    M_CLASIF = \"LR_L2\"\n",
    "    param_distributions = {'selector__k': [1000], \n",
    "        'clasifier__solver': ['saga'], 'clasifier__penalty': ['l2'], 'clasifier__max_iter': [10000]}\n",
    "\n"
   ]
  },
  {
   "cell_type": "code",
   "execution_count": 3,
   "id": "a295ea7f",
   "metadata": {
    "execution": {
     "iopub.execute_input": "2023-10-30T09:36:48.630622Z",
     "iopub.status.busy": "2023-10-30T09:36:48.630424Z",
     "iopub.status.idle": "2023-10-30T09:36:48.633748Z",
     "shell.execute_reply": "2023-10-30T09:36:48.633350Z"
    },
    "papermill": {
     "duration": 0.007651,
     "end_time": "2023-10-30T09:36:48.634898",
     "exception": false,
     "start_time": "2023-10-30T09:36:48.627247",
     "status": "completed"
    },
    "tags": [
     "injected-parameters"
    ]
   },
   "outputs": [],
   "source": [
    "# Parameters\n",
    "M_TIPO = \"mul_m\"\n",
    "M_SELECT = \"RF\"\n",
    "M_CLASIF = \"LR_L2\"\n",
    "P_FICHERO = \"param_0000_6191_mul_m_RF_LR_L2.yaml\"\n",
    "R_FICHERO = \"resultados_6191\"\n",
    "M_FICHERO = \"metricas_6191\"\n",
    "PRE_DATA_FILE = \"rows_transpose_norm_by_gene_id_with_target_num_\"\n",
    "SCORING = \"roc_auc_ovr\"\n",
    "SEMILLA = 6191\n",
    "MAX_ITERS = 500\n",
    "eval_selector = \"SelectFromModel(estimator=RandomForestClassifier(random_state=SEMILLA), threshold=-np.inf)\"\n",
    "eval_clasifier = \"LogisticRegressionCV(random_state=SEMILLA)\"\n",
    "param_distributions = {\n",
    "    \"selector__max_features\": [1000],\n",
    "    \"selector__estimator__n_estimators\": [400],\n",
    "    \"clasifier__solver\": [\"lbfgs\"],\n",
    "    \"clasifier__penalty\": [\"l2\"],\n",
    "    \"clasifier__max_iter\": [10000],\n",
    "}\n"
   ]
  },
  {
   "cell_type": "code",
   "execution_count": 4,
   "id": "431fd023",
   "metadata": {
    "execution": {
     "iopub.execute_input": "2023-10-30T09:36:48.641112Z",
     "iopub.status.busy": "2023-10-30T09:36:48.640940Z",
     "iopub.status.idle": "2023-10-30T09:36:48.643819Z",
     "shell.execute_reply": "2023-10-30T09:36:48.643396Z"
    },
    "papermill": {
     "duration": 0.007302,
     "end_time": "2023-10-30T09:36:48.644966",
     "exception": false,
     "start_time": "2023-10-30T09:36:48.637664",
     "status": "completed"
    },
    "tags": []
   },
   "outputs": [],
   "source": [
    "DATA_FILE = PRE_DATA_FILE + M_TIPO\n",
    "\n",
    "# si viene \"None\" en el parámetro max_depth, se le quitan las comillas para que no sea entendido por el algoritmo como un texto\n",
    "if \"clasifier__max_depth\" in param_distributions:\n",
    "    param_distributions['clasifier__max_depth'] = [None if x == 'None' else x for x in param_distributions['clasifier__max_depth']]"
   ]
  },
  {
   "cell_type": "markdown",
   "id": "a8e38ec5",
   "metadata": {
    "papermill": {
     "duration": 0.002613,
     "end_time": "2023-10-30T09:36:48.650321",
     "exception": false,
     "start_time": "2023-10-30T09:36:48.647708",
     "status": "completed"
    },
    "tags": []
   },
   "source": [
    "Asignar los algoritmos que se utilizarán en la función RandomSearchCV"
   ]
  },
  {
   "cell_type": "code",
   "execution_count": 5,
   "id": "1299e461",
   "metadata": {
    "execution": {
     "iopub.execute_input": "2023-10-30T09:36:48.656174Z",
     "iopub.status.busy": "2023-10-30T09:36:48.655995Z",
     "iopub.status.idle": "2023-10-30T09:36:48.658800Z",
     "shell.execute_reply": "2023-10-30T09:36:48.658262Z"
    },
    "papermill": {
     "duration": 0.007114,
     "end_time": "2023-10-30T09:36:48.660050",
     "exception": false,
     "start_time": "2023-10-30T09:36:48.652936",
     "status": "completed"
    },
    "tags": []
   },
   "outputs": [],
   "source": [
    "algor_selector=eval(eval_selector)\n",
    "algor_clasifier=eval(eval_clasifier)"
   ]
  },
  {
   "cell_type": "markdown",
   "id": "05290eb2",
   "metadata": {
    "papermill": {
     "duration": 0.003256,
     "end_time": "2023-10-30T09:36:48.666516",
     "exception": false,
     "start_time": "2023-10-30T09:36:48.663260",
     "status": "completed"
    },
    "tags": []
   },
   "source": [
    "#### Comprobar el entorno y leer fichero de muestras"
   ]
  },
  {
   "cell_type": "code",
   "execution_count": 6,
   "id": "f08abf85",
   "metadata": {
    "execution": {
     "iopub.execute_input": "2023-10-30T09:36:48.673238Z",
     "iopub.status.busy": "2023-10-30T09:36:48.673045Z",
     "iopub.status.idle": "2023-10-30T09:36:48.836179Z",
     "shell.execute_reply": "2023-10-30T09:36:48.835662Z"
    },
    "papermill": {
     "duration": 0.167796,
     "end_time": "2023-10-30T09:36:48.837531",
     "exception": false,
     "start_time": "2023-10-30T09:36:48.669735",
     "status": "completed"
    },
    "tags": []
   },
   "outputs": [
    {
     "name": "stdout",
     "output_type": "stream",
     "text": [
      "20231030T103648 : amilcar22 : INFO : Encontrada carpeta DATA_DIR=../tfm_git/datos\n",
      "20231030T103648 : amilcar22 : INFO : Encontrada carpeta CFDNA_DIR=../tfm_git/datos/cfDNA_5hmC\n",
      "20231030T103648 : amilcar22 : INFO : Encontrada carpeta GENCODE_DIR=../tfm_git/datos/gencode\n",
      "20231030T103648 : amilcar22 : INFO : Encontrada carpeta H5_DIR=../tfm_git/datos/h5\n",
      "20231030T103648 : amilcar22 : INFO : Encontrada carpeta LOG_DIR=../tfm_git/datos/logs\n",
      "20231030T103648 : amilcar22 : INFO : Encontrada carpeta CSV_DIR=../tfm_git/datos/csv\n",
      "20231030T103648 : amilcar22 : INFO : Encontrada carpeta MODEL_DIR=../tfm_git/ejecuciones/modelos\n",
      "20231030T103648 : amilcar22 : INFO : Encontrada carpeta EXEC_DIR=../tfm_git/ejecuciones\n",
      "20231030T103648 : amilcar22 : INFO : Encontrada carpeta MET_DIR=../tfm_git/ejecuciones/metricas\n",
      "20231030T103648 : amilcar22 : INFO : Inicio leer fichero h5 ../tfm_git/datos/h5/rows_transpose_norm_by_gene_id_with_target_num_mul_m.h5\n",
      "20231030T103648 : amilcar22 : INFO : Leyendo clave /df\n",
      "20231030T103648 : amilcar22 : INFO : Tamaño (434, 18876)\n",
      "20231030T103648 : amilcar22 : INFO : Fin leer fichero h5 ../tfm_git/datos/h5/rows_transpose_norm_by_gene_id_with_target_num_mul_m.h5\n"
     ]
    },
    {
     "data": {
      "text/plain": [
       "target\n",
       "0    62\n",
       "1    62\n",
       "2    62\n",
       "3    62\n",
       "4    62\n",
       "5    62\n",
       "6    62\n",
       "dtype: int64"
      ]
     },
     "metadata": {},
     "output_type": "display_data"
    },
    {
     "name": "stdout",
     "output_type": "stream",
     "text": [
      "Shape df: (434, 18876)\n",
      "Shape X_train: (347, 18875)\n",
      "Shape X_test: (87, 18875)\n"
     ]
    }
   ],
   "source": [
    "start_time = datetime.datetime.now()\n",
    "\n",
    "myfunc.reset_vars()\n",
    "\n",
    "myfunc.NOTEBK_FILENAME = myfunc.get_nb_name()\n",
    "\n",
    "myfunc.check_enviroment(myfunc.DATA_DIR, myfunc.CFDNA_DIR, myfunc.GENCODE_DIR, myfunc.H5_DIR, myfunc.LOG_DIR, myfunc.CSV_DIR, myfunc.MODEL_DIR, myfunc.EXEC_DIR, myfunc.MET_DIR)\n",
    "\n",
    "# Leer fichero con las muestras\n",
    "df_t = myfunc.read_h5_to_df(DATA_FILE, myfunc.H5_DIR)\n",
    "display(df_t.groupby(\"target\").size())\n",
    "print(\"Shape df:\",df_t.shape)\n",
    "\n",
    "# Separar caracteristicas/genes de las etiquetas/tipos de cáncer\n",
    "X = df_t.iloc[:, :-1]  # Todas las columnas excepto la última\n",
    "y = df_t.iloc[:, -1]  # La última columna contiene los identificadores de los tipos de cáncer\n",
    "\n",
    "#  Crear el conjunto de datos de entrenamiento y de pruebas, y se fija la semilla para siempre coger el mismo juego de muestras\n",
    "X_train, X_test, y_train, y_test = train_test_split(X, y, test_size=0.2, shuffle=True, random_state=42)\n",
    "print(\"Shape X_train:\",X_train.shape)\n",
    "print(\"Shape X_test:\",X_test.shape)\n"
   ]
  },
  {
   "cell_type": "markdown",
   "id": "b40c6473",
   "metadata": {
    "papermill": {
     "duration": 0.002774,
     "end_time": "2023-10-30T09:36:48.843729",
     "exception": false,
     "start_time": "2023-10-30T09:36:48.840955",
     "status": "completed"
    },
    "tags": []
   },
   "source": [
    "#### Selección de características y clasificación."
   ]
  },
  {
   "cell_type": "code",
   "execution_count": 7,
   "id": "eb8f055d",
   "metadata": {
    "execution": {
     "iopub.execute_input": "2023-10-30T09:36:48.850165Z",
     "iopub.status.busy": "2023-10-30T09:36:48.849968Z",
     "iopub.status.idle": "2023-10-30T09:37:43.287620Z",
     "shell.execute_reply": "2023-10-30T09:37:43.286901Z"
    },
    "papermill": {
     "duration": 54.445094,
     "end_time": "2023-10-30T09:37:43.291624",
     "exception": false,
     "start_time": "2023-10-30T09:36:48.846530",
     "status": "completed"
    },
    "tags": []
   },
   "outputs": [
    {
     "name": "stdout",
     "output_type": "stream",
     "text": [
      "20231030T103648 : amilcar22 : INFO : Iniciando entrenamiento\n",
      "num_iter: 1 , max_iter: 1\n",
      "Fitting 5 folds for each of 1 candidates, totalling 5 fits\n"
     ]
    },
    {
     "name": "stdout",
     "output_type": "stream",
     "text": [
      "Mejores Hiperparámetros: {'selector__max_features': 1000, 'selector__estimator__n_estimators': 400, 'clasifier__solver': 'lbfgs', 'clasifier__penalty': 'l2', 'clasifier__max_iter': 10000}\n",
      "Mejor Puntuación: 0.8830\n",
      "20231030T103743 : amilcar22 : INFO : Fin entrenamiento\n"
     ]
    }
   ],
   "source": [
    "myfunc.verbose(\"Iniciando entrenamiento\")\n",
    "\n",
    "kf = KFold(n_splits=5, shuffle=True, random_state=SEMILLA)\n",
    "\n",
    "# Crear el pipeline para el flujo de tareas\n",
    "tasks_pipeline = Pipeline([\n",
    "    ('selector', algor_selector),\n",
    "    ('clasifier', algor_clasifier)\n",
    "])\n",
    "\n",
    "# MAX_ITERS puede limitar el número de iteraciones si son excesivas para las combinaciones de parámetros buscando un óptimo local, \n",
    "# sino funcionaría como GridSearchCV al revisar todas las cominaciones de los parámetros\n",
    "num_iteraciones = 1\n",
    "num_iteraciones = num_iteraciones * np.prod([len(elemento1) for _, elemento1 in param_distributions.items()])\n",
    "max_iteraciones = num_iteraciones if num_iteraciones <= MAX_ITERS else MAX_ITERS\n",
    "print(\"num_iter:\",num_iteraciones,\", max_iter:\",max_iteraciones)\n",
    "\n",
    "random_search = RandomizedSearchCV(\n",
    "    tasks_pipeline, \n",
    "    param_distributions, \n",
    "    n_iter=max_iteraciones,\n",
    "    scoring=SCORING,\n",
    "    cv=kf,\n",
    "    verbose=3, \n",
    "    random_state=SEMILLA, \n",
    "    n_jobs=-1\n",
    "    )\n",
    "\n",
    "# Entrenar el modelo\n",
    "random_search.fit(X_train, y_train)\n",
    "\n",
    "# Ver los mejores hiperparámetros encontrados\n",
    "print(f'Mejores Hiperparámetros: {random_search.best_params_}')\n",
    "print(f'Mejor Puntuación: {random_search.best_score_:.4f}')\n",
    "\n",
    "# Nos quedamos con el mejor modelo para ver las métricas\n",
    "mejor_modelo = random_search.best_estimator_\n",
    "\n",
    "myfunc.verbose(\"Fin entrenamiento\")"
   ]
  },
  {
   "cell_type": "markdown",
   "id": "8951c70d",
   "metadata": {
    "papermill": {
     "duration": 0.00298,
     "end_time": "2023-10-30T09:37:43.297793",
     "exception": false,
     "start_time": "2023-10-30T09:37:43.294813",
     "status": "completed"
    },
    "tags": []
   },
   "source": [
    "#### Guardar modelo"
   ]
  },
  {
   "cell_type": "code",
   "execution_count": 8,
   "id": "e7001953",
   "metadata": {
    "execution": {
     "iopub.execute_input": "2023-10-30T09:37:43.304934Z",
     "iopub.status.busy": "2023-10-30T09:37:43.304703Z",
     "iopub.status.idle": "2023-10-30T09:37:43.439352Z",
     "shell.execute_reply": "2023-10-30T09:37:43.438778Z"
    },
    "papermill": {
     "duration": 0.140073,
     "end_time": "2023-10-30T09:37:43.440753",
     "exception": false,
     "start_time": "2023-10-30T09:37:43.300680",
     "status": "completed"
    },
    "tags": []
   },
   "outputs": [
    {
     "name": "stdout",
     "output_type": "stream",
     "text": [
      "20231030T103743 : amilcar22 : INFO : Inicio guardar fichero ../tfm_git/ejecuciones/modelos/modelo_6191_mul_m_RF_LR_L2.pkl\n",
      "20231030T103743 : amilcar22 : INFO : Fin guardar fichero ../tfm_git/ejecuciones/modelos/modelo_6191_mul_m_RF_LR_L2.pkl\n"
     ]
    }
   ],
   "source": [
    "fichero_modelo = str.replace(\"modelo_\"+str(SEMILLA).zfill(4)+\"_\"+M_TIPO+\"_\"+M_SELECT+\"_\"+M_CLASIF+\".pkl\", \" \", \"_\")\n",
    "\n",
    "myfunc.save_modelo(mejor_modelo, myfunc.MODEL_DIR, fichero_modelo)"
   ]
  },
  {
   "cell_type": "markdown",
   "id": "09922c82",
   "metadata": {
    "papermill": {
     "duration": 0.002964,
     "end_time": "2023-10-30T09:37:43.447193",
     "exception": false,
     "start_time": "2023-10-30T09:37:43.444229",
     "status": "completed"
    },
    "tags": []
   },
   "source": [
    "#### Ver resultados del las iteraciones hechas por RandomSearchCV"
   ]
  },
  {
   "cell_type": "code",
   "execution_count": 9,
   "id": "f85e218d",
   "metadata": {
    "execution": {
     "iopub.execute_input": "2023-10-30T09:37:43.454015Z",
     "iopub.status.busy": "2023-10-30T09:37:43.453814Z",
     "iopub.status.idle": "2023-10-30T09:37:43.459675Z",
     "shell.execute_reply": "2023-10-30T09:37:43.459229Z"
    },
    "papermill": {
     "duration": 0.010586,
     "end_time": "2023-10-30T09:37:43.460857",
     "exception": false,
     "start_time": "2023-10-30T09:37:43.450271",
     "status": "completed"
    },
    "tags": []
   },
   "outputs": [
    {
     "name": "stdout",
     "output_type": "stream",
     "text": [
      "20231030T103743 : amilcar22 : INFO : Inicio ver resultados\n",
      "Mejores Hiperparámetros: {'selector__max_features': 1000, 'selector__estimator__n_estimators': 400, 'clasifier__solver': 'lbfgs', 'clasifier__penalty': 'l2', 'clasifier__max_iter': 10000}\n",
      "Mejores puntuaciones: 0.8830 | Params: {'selector__max_features': 1000, 'selector__estimator__n_estimators': 400, 'clasifier__solver': 'lbfgs', 'clasifier__penalty': 'l2', 'clasifier__max_iter': 10000}\n",
      "Media de las puntuaciones: 0.8830 | Params: {'selector__max_features': 1000, 'selector__estimator__n_estimators': 400, 'clasifier__solver': 'lbfgs', 'clasifier__penalty': 'l2', 'clasifier__max_iter': 10000}\n",
      "20231030T103743 : amilcar22 : INFO : Fin resultados\n"
     ]
    }
   ],
   "source": [
    "myfunc.ver_resultados_search(random_search)"
   ]
  },
  {
   "cell_type": "markdown",
   "id": "fdff8d7d",
   "metadata": {
    "papermill": {
     "duration": 0.002988,
     "end_time": "2023-10-30T09:37:43.466999",
     "exception": false,
     "start_time": "2023-10-30T09:37:43.464011",
     "status": "completed"
    },
    "tags": []
   },
   "source": [
    "#### Ver métricas del mejor modelo"
   ]
  },
  {
   "cell_type": "code",
   "execution_count": 10,
   "id": "76fb9815",
   "metadata": {
    "execution": {
     "iopub.execute_input": "2023-10-30T09:37:43.473719Z",
     "iopub.status.busy": "2023-10-30T09:37:43.473538Z",
     "iopub.status.idle": "2023-10-30T09:37:44.323179Z",
     "shell.execute_reply": "2023-10-30T09:37:44.322611Z"
    },
    "papermill": {
     "duration": 0.854478,
     "end_time": "2023-10-30T09:37:44.324440",
     "exception": false,
     "start_time": "2023-10-30T09:37:43.469962",
     "status": "completed"
    },
    "tags": []
   },
   "outputs": [
    {
     "name": "stdout",
     "output_type": "stream",
     "text": [
      "20231030T103743 : amilcar22 : INFO : Inicio ver métricas multiclase\n"
     ]
    },
    {
     "name": "stdout",
     "output_type": "stream",
     "text": [
      "              precision    recall  f1-score   support\n",
      "\n",
      "           0       0.44      0.25      0.32        16\n",
      "           1       0.91      0.67      0.77        15\n",
      "           2       0.38      0.55      0.44        11\n",
      "           3       0.33      0.80      0.47         5\n",
      "           4       0.62      0.62      0.62        13\n",
      "           5       0.78      0.78      0.78         9\n",
      "           6       0.65      0.61      0.63        18\n",
      "\n",
      "    accuracy                           0.57        87\n",
      "   macro avg       0.59      0.61      0.58        87\n",
      "weighted avg       0.61      0.57      0.58        87\n",
      "\n",
      "\n",
      "\n",
      "           Exactitud: 0.574713\n",
      "   Precisión (media): 0.586013\n",
      "      Recall (media): 0.609485\n",
      "    F1-score (media): 0.575142\n",
      "\n",
      "\n",
      "AUC para el tipo de cáncer 0-Control.... 0.7667\n",
      "AUC para el tipo de cáncer 1-Bladder.... 0.9009\n",
      "AUC para el tipo de cáncer 2-Breast..... 0.7488\n",
      "AUC para el tipo de cáncer 3-Colorectal. 0.8634\n",
      "AUC para el tipo de cáncer 4-Kidney..... 0.8836\n",
      "AUC para el tipo de cáncer 5-Lung....... 0.9672\n",
      "AUC para el tipo de cáncer 6-Prostate... 0.8583\n",
      "\n",
      "Media de AUC: 0.8556\n"
     ]
    },
    {
     "data": {
      "image/png": "[encoded data removed]",
      "text/plain": [
       "<Figure size 1000x600 with 1 Axes>"
      ]
     },
     "metadata": {},
     "output_type": "display_data"
    },
    {
     "name": "stdout",
     "output_type": "stream",
     "text": [
      "\n",
      "\n"
     ]
    },
    {
     "data": {
      "image/png": "[encoded data removed]",
      "text/plain": [
       "<Figure size 800x400 with 2 Axes>"
      ]
     },
     "metadata": {},
     "output_type": "display_data"
    },
    {
     "name": "stdout",
     "output_type": "stream",
     "text": [
      "\n",
      "\n",
      "Puntuación Jaccard para el cáncer tipo 0-Control.... 0.1905\n",
      "Puntuación Jaccard para el cáncer tipo 1-Bladder.... 0.6250\n",
      "Puntuación Jaccard para el cáncer tipo 2-Breast..... 0.2857\n",
      "Puntuación Jaccard para el cáncer tipo 3-Colorectal. 0.3077\n",
      "Puntuación Jaccard para el cáncer tipo 4-Kidney..... 0.4444\n",
      "Puntuación Jaccard para el cáncer tipo 5-Lung....... 0.6364\n",
      "Puntuación Jaccard para el cáncer tipo 6-Prostate... 0.4583\n",
      "\n",
      "Media de la puntuación de Jaccard: 0.4211\n"
     ]
    }
   ],
   "source": [
    "if M_TIPO.startswith(\"bin\"):\n",
    "    myfunc.ver_metricas(mejor_modelo, X_test, y_test)\n",
    "else:\n",
    "    myfunc.ver_metricas_multi(mejor_modelo, X_test, y_test)\n"
   ]
  },
  {
   "cell_type": "markdown",
   "id": "dbef386f",
   "metadata": {
    "papermill": {
     "duration": 0.004128,
     "end_time": "2023-10-30T09:37:44.333190",
     "exception": false,
     "start_time": "2023-10-30T09:37:44.329062",
     "status": "completed"
    },
    "tags": []
   },
   "source": [
    "#### Finalización del notebook"
   ]
  },
  {
   "cell_type": "code",
   "execution_count": 11,
   "id": "a22d87f4",
   "metadata": {
    "execution": {
     "iopub.execute_input": "2023-10-30T09:37:44.342194Z",
     "iopub.status.busy": "2023-10-30T09:37:44.342011Z",
     "iopub.status.idle": "2023-10-30T09:37:44.345327Z",
     "shell.execute_reply": "2023-10-30T09:37:44.344868Z"
    },
    "papermill": {
     "duration": 0.009106,
     "end_time": "2023-10-30T09:37:44.346395",
     "exception": false,
     "start_time": "2023-10-30T09:37:44.337289",
     "status": "completed"
    },
    "tags": []
   },
   "outputs": [
    {
     "name": "stdout",
     "output_type": "stream",
     "text": [
      "20231030T103744 : amilcar22 : INFO : Notebook ha tardado 55 seconds\n"
     ]
    }
   ],
   "source": [
    "end_time = datetime.datetime.now()\n",
    "total_time = end_time - start_time\n",
    "myfunc.verbose(f\"Notebook ha tardado {total_time.seconds} seconds\")"
   ]
  },
  {
   "cell_type": "markdown",
   "id": "89a56bbd",
   "metadata": {
    "papermill": {
     "duration": 0.00423,
     "end_time": "2023-10-30T09:37:44.355071",
     "exception": false,
     "start_time": "2023-10-30T09:37:44.350841",
     "status": "completed"
    },
    "tags": []
   },
   "source": [
    "#### Guardar métricas"
   ]
  },
  {
   "cell_type": "code",
   "execution_count": 12,
   "id": "938f8b65",
   "metadata": {
    "execution": {
     "iopub.execute_input": "2023-10-30T09:37:44.364055Z",
     "iopub.status.busy": "2023-10-30T09:37:44.363864Z",
     "iopub.status.idle": "2023-10-30T09:37:44.999006Z",
     "shell.execute_reply": "2023-10-30T09:37:44.998498Z"
    },
    "papermill": {
     "duration": 0.641078,
     "end_time": "2023-10-30T09:37:45.000285",
     "exception": false,
     "start_time": "2023-10-30T09:37:44.359207",
     "status": "completed"
    },
    "tags": []
   },
   "outputs": [
    {
     "name": "stdout",
     "output_type": "stream",
     "text": [
      "20231030T103744 : amilcar22 : INFO : Inicio guardar métricas multiclase\n",
      "20231030T103744 : amilcar22 : INFO : Inicio leer fichero ../tfm_git/ejecuciones/metricas/metricas_6191.csv\n",
      "20231030T103744 : amilcar22 : INFO : Fin leer fichero ../tfm_git/ejecuciones/metricas/metricas_6191.csv\n"
     ]
    },
    {
     "name": "stdout",
     "output_type": "stream",
     "text": [
      "20231030T103744 : amilcar22 : INFO : Inicio guardar fichero ../tfm_git/ejecuciones/metricas/metricas_6191.csv\n",
      "20231030T103744 : amilcar22 : INFO : Fichero borrado ../tfm_git/ejecuciones/metricas/metricas_6191.csv\n",
      "20231030T103744 : amilcar22 : INFO : Fin guardar fichero ../tfm_git/ejecuciones/metricas/metricas_6191.csv\n",
      "20231030T103744 : amilcar22 : INFO : Fin guardar métricas multiclase\n",
      "20231030T103744 : amilcar22 : INFO : Inicio leer fichero ../tfm_git/ejecuciones/metricas/metricas_6191.csv\n",
      "20231030T103744 : amilcar22 : INFO : Fin leer fichero ../tfm_git/ejecuciones/metricas/metricas_6191.csv\n"
     ]
    },
    {
     "data": {
      "text/html": [
       "<div>\n",
       "<style scoped>\n",
       "    .dataframe tbody tr th:only-of-type {\n",
       "        vertical-align: middle;\n",
       "    }\n",
       "\n",
       "    .dataframe tbody tr th {\n",
       "        vertical-align: top;\n",
       "    }\n",
       "\n",
       "    .dataframe thead th {\n",
       "        text-align: right;\n",
       "    }\n",
       "</style>\n",
       "<table border=\"1\" class=\"dataframe\">\n",
       "  <thead>\n",
       "    <tr style=\"text-align: right;\">\n",
       "      <th></th>\n",
       "      <th>tipo</th>\n",
       "      <th>select</th>\n",
       "      <th>clasific</th>\n",
       "      <th>semilla</th>\n",
       "      <th>accuracy</th>\n",
       "      <th>precision</th>\n",
       "      <th>recall</th>\n",
       "      <th>f1_score</th>\n",
       "      <th>roc_auc</th>\n",
       "      <th>hostname</th>\n",
       "      <th>total_time_sec</th>\n",
       "      <th>datetime</th>\n",
       "      <th>fichero_modelo</th>\n",
       "      <th>params</th>\n",
       "      <th>shape</th>\n",
       "      <th>features</th>\n",
       "      <th>roc_auc_ovr</th>\n",
       "      <th>indices_auc</th>\n",
       "      <th>indices_jaccard</th>\n",
       "    </tr>\n",
       "  </thead>\n",
       "  <tbody>\n",
       "    <tr>\n",
       "      <th>0</th>\n",
       "      <td>mul_m</td>\n",
       "      <td>RF</td>\n",
       "      <td>LR_L2</td>\n",
       "      <td>6191</td>\n",
       "      <td>0.574713</td>\n",
       "      <td>0.586013</td>\n",
       "      <td>0.609485</td>\n",
       "      <td>0.575142</td>\n",
       "      <td>NaN</td>\n",
       "      <td>amilcar22</td>\n",
       "      <td>55</td>\n",
       "      <td>2023-10-30 10:37:44.968517</td>\n",
       "      <td>modelo_6191_mul_m_RF_LR_L2.pkl</td>\n",
       "      <td>{'selector__max_features': 1000, 'selector__es...</td>\n",
       "      <td>X_test:(87, 18875)</td>\n",
       "      <td>['ENSG00000000938.13', 'ENSG00000002587.10', '...</td>\n",
       "      <td>0.855568</td>\n",
       "      <td>[0.766725352112676, 0.9009259259259259, 0.7488...</td>\n",
       "      <td>[0.19047619047619047, 0.625, 0.285714285714285...</td>\n",
       "    </tr>\n",
       "    <tr>\n",
       "      <th>0</th>\n",
       "      <td>mul_m</td>\n",
       "      <td>RF</td>\n",
       "      <td>LR_L1</td>\n",
       "      <td>6191</td>\n",
       "      <td>0.517241</td>\n",
       "      <td>0.519863</td>\n",
       "      <td>0.534593</td>\n",
       "      <td>0.518654</td>\n",
       "      <td>NaN</td>\n",
       "      <td>amilcar22</td>\n",
       "      <td>2012</td>\n",
       "      <td>2023-10-30 10:36:42.613722</td>\n",
       "      <td>modelo_6191_mul_m_RF_LR_L1.pkl</td>\n",
       "      <td>{'selector__max_features': 1000, 'selector__es...</td>\n",
       "      <td>X_test:(87, 18875)</td>\n",
       "      <td>['ENSG00000000938.13', 'ENSG00000002587.10', '...</td>\n",
       "      <td>0.823116</td>\n",
       "      <td>[0.7121478873239436, 0.8796296296296297, 0.688...</td>\n",
       "      <td>[0.18181818181818182, 0.47368421052631576, 0.2...</td>\n",
       "    </tr>\n",
       "    <tr>\n",
       "      <th>0</th>\n",
       "      <td>mul_m</td>\n",
       "      <td>RF</td>\n",
       "      <td>LR_EN</td>\n",
       "      <td>6191</td>\n",
       "      <td>0.574713</td>\n",
       "      <td>0.593421</td>\n",
       "      <td>0.580837</td>\n",
       "      <td>0.572806</td>\n",
       "      <td>NaN</td>\n",
       "      <td>amilcar22</td>\n",
       "      <td>1869</td>\n",
       "      <td>2023-10-30 10:03:03.638639</td>\n",
       "      <td>modelo_6191_mul_m_RF_LR_EN.pkl</td>\n",
       "      <td>{'selector__max_features': 1000, 'selector__es...</td>\n",
       "      <td>X_test:(87, 18875)</td>\n",
       "      <td>['ENSG00000000938.13', 'ENSG00000002587.10', '...</td>\n",
       "      <td>0.848677</td>\n",
       "      <td>[0.75, 0.889814814814815, 0.702153110047847, 0...</td>\n",
       "      <td>[0.30434782608695654, 0.6666666666666666, 0.28...</td>\n",
       "    </tr>\n",
       "  </tbody>\n",
       "</table>\n",
       "</div>"
      ],
      "text/plain": [
       "    tipo select clasific  semilla  accuracy  precision    recall  f1_score  \\\n",
       "0  mul_m     RF    LR_L2     6191  0.574713   0.586013  0.609485  0.575142   \n",
       "0  mul_m     RF    LR_L1     6191  0.517241   0.519863  0.534593  0.518654   \n",
       "0  mul_m     RF    LR_EN     6191  0.574713   0.593421  0.580837  0.572806   \n",
       "\n",
       "   roc_auc   hostname  total_time_sec                    datetime  \\\n",
       "0      NaN  amilcar22              55  2023-10-30 10:37:44.968517   \n",
       "0      NaN  amilcar22            2012  2023-10-30 10:36:42.613722   \n",
       "0      NaN  amilcar22            1869  2023-10-30 10:03:03.638639   \n",
       "\n",
       "                   fichero_modelo  \\\n",
       "0  modelo_6191_mul_m_RF_LR_L2.pkl   \n",
       "0  modelo_6191_mul_m_RF_LR_L1.pkl   \n",
       "0  modelo_6191_mul_m_RF_LR_EN.pkl   \n",
       "\n",
       "                                              params               shape  \\\n",
       "0  {'selector__max_features': 1000, 'selector__es...  X_test:(87, 18875)   \n",
       "0  {'selector__max_features': 1000, 'selector__es...  X_test:(87, 18875)   \n",
       "0  {'selector__max_features': 1000, 'selector__es...  X_test:(87, 18875)   \n",
       "\n",
       "                                            features  roc_auc_ovr  \\\n",
       "0  ['ENSG00000000938.13', 'ENSG00000002587.10', '...     0.855568   \n",
       "0  ['ENSG00000000938.13', 'ENSG00000002587.10', '...     0.823116   \n",
       "0  ['ENSG00000000938.13', 'ENSG00000002587.10', '...     0.848677   \n",
       "\n",
       "                                         indices_auc  \\\n",
       "0  [0.766725352112676, 0.9009259259259259, 0.7488...   \n",
       "0  [0.7121478873239436, 0.8796296296296297, 0.688...   \n",
       "0  [0.75, 0.889814814814815, 0.702153110047847, 0...   \n",
       "\n",
       "                                     indices_jaccard  \n",
       "0  [0.19047619047619047, 0.625, 0.285714285714285...  \n",
       "0  [0.18181818181818182, 0.47368421052631576, 0.2...  \n",
       "0  [0.30434782608695654, 0.6666666666666666, 0.28...  "
      ]
     },
     "metadata": {},
     "output_type": "display_data"
    }
   ],
   "source": [
    "if M_TIPO.startswith(\"bin\"):\n",
    "    myfunc.save_metricas_to_csv(random_search, X_test, y_test, M_TIPO, M_SELECT, M_CLASIF, total_time, SEMILLA, myfunc.MET_DIR, M_FICHERO, fichero_modelo)\n",
    "else:\n",
    "    myfunc.save_metricas_multi_to_csv(random_search, X_test, y_test, M_TIPO, M_SELECT, M_CLASIF, total_time, SEMILLA, myfunc.MET_DIR, M_FICHERO, fichero_modelo)\n",
    "\n",
    "df1=myfunc.read_metricas_to_df(myfunc.MET_DIR,M_FICHERO)\n",
    "\n",
    "display(df1.sort_values(\"datetime\", ascending=False)[:3])\n"
   ]
  },
  {
   "cell_type": "markdown",
   "id": "77cbd80b",
   "metadata": {
    "papermill": {
     "duration": 0.004528,
     "end_time": "2023-10-30T09:37:45.009930",
     "exception": false,
     "start_time": "2023-10-30T09:37:45.005402",
     "status": "completed"
    },
    "tags": []
   },
   "source": [
    "#### Guardar resultados"
   ]
  },
  {
   "cell_type": "code",
   "execution_count": 13,
   "id": "c931553d",
   "metadata": {
    "execution": {
     "iopub.execute_input": "2023-10-30T09:37:45.019584Z",
     "iopub.status.busy": "2023-10-30T09:37:45.019375Z",
     "iopub.status.idle": "2023-10-30T09:37:45.027650Z",
     "shell.execute_reply": "2023-10-30T09:37:45.027228Z"
    },
    "papermill": {
     "duration": 0.014483,
     "end_time": "2023-10-30T09:37:45.028776",
     "exception": false,
     "start_time": "2023-10-30T09:37:45.014293",
     "status": "completed"
    },
    "tags": []
   },
   "outputs": [
    {
     "name": "stdout",
     "output_type": "stream",
     "text": [
      "20231030T103745 : amilcar22 : INFO : Inicio guardar resultados\n",
      "20231030T103745 : amilcar22 : INFO : Inicio guardar fichero ../tfm_git/ejecuciones/metricas/resultados_6191_mul_m-RF-LR_L2.csv\n",
      "20231030T103745 : amilcar22 : INFO : Fin guardar fichero ../tfm_git/ejecuciones/metricas/resultados_6191_mul_m-RF-LR_L2.csv\n",
      "20231030T103745 : amilcar22 : INFO : Fin guardar resultados\n"
     ]
    }
   ],
   "source": [
    "fichero_resultados=R_FICHERO+\"_\"+M_TIPO+\"-\"+M_SELECT+\"-\"+M_CLASIF+\".csv\"\n",
    "myfunc.save_resultados_to_csv(M_TIPO, M_SELECT, M_CLASIF,  random_search, myfunc.MET_DIR, fichero_resultados)\n"
   ]
  }
 ],
 "metadata": {
  "kernelspec": {
   "display_name": "Python 3 (ipykernel)",
   "language": "python",
   "name": "python3"
  },
  "language_info": {
   "codemirror_mode": {
    "name": "ipython",
    "version": 3
   },
   "file_extension": ".py",
   "mimetype": "text/x-python",
   "name": "python",
   "nbconvert_exporter": "python",
   "pygments_lexer": "ipython3",
   "version": "3.10.12"
  },
  "papermill": {
   "default_parameters": {},
   "duration": 60.844491,
   "end_time": "2023-10-30T09:37:47.650174",
   "environment_variables": {},
   "exception": null,
   "input_path": "03_entrenamiento.ipynb",
   "output_path": "ejecuciones/training/03_entrenamiento.20231030T103646.param_0000_6191_mul_m_RF_LR_L2.output.ipynb",
   "parameters": {
    "MAX_ITERS": 500,
    "M_CLASIF": "LR_L2",
    "M_FICHERO": "metricas_6191",
    "M_SELECT": "RF",
    "M_TIPO": "mul_m",
    "PRE_DATA_FILE": "rows_transpose_norm_by_gene_id_with_target_num_",
    "P_FICHERO": "param_0000_6191_mul_m_RF_LR_L2.yaml",
    "R_FICHERO": "resultados_6191",
    "SCORING": "roc_auc_ovr",
    "SEMILLA": 6191,
    "eval_clasifier": "LogisticRegressionCV(random_state=SEMILLA)",
    "eval_selector": "SelectFromModel(estimator=RandomForestClassifier(random_state=SEMILLA), threshold=-np.inf)",
    "param_distributions": {
     "clasifier__max_iter": [
      10000
     ],
     "clasifier__penalty": [
      "l2"
     ],
     "clasifier__solver": [
      "lbfgs"
     ],
     "selector__estimator__n_estimators": [
      400
     ],
     "selector__max_features": [
      1000
     ]
    }
   },
   "start_time": "2023-10-30T09:36:46.805683",
   "version": "2.4.0"
  }
 },
 "nbformat": 4,
 "nbformat_minor": 5
}