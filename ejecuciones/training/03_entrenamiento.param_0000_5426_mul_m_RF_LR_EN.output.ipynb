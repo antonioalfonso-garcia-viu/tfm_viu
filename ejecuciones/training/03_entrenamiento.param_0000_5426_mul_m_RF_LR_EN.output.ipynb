{
 "cells": [
  {
   "cell_type": "markdown",
   "id": "643ca9bd",
   "metadata": {
    "papermill": {
     "duration": 0.0,
     "end_time": "2023-10-30T08:44:54.435857",
     "exception": false,
     "start_time": "2023-10-30T08:44:54.435857",
     "status": "completed"
    },
    "tags": []
   },
   "source": [
    "##### Inicio"
   ]
  },
  {
   "cell_type": "markdown",
   "id": "23d465a4",
   "metadata": {
    "papermill": {
     "duration": 0.00449,
     "end_time": "2023-10-30T08:44:54.456066",
     "exception": false,
     "start_time": "2023-10-30T08:44:54.451576",
     "status": "completed"
    },
    "tags": []
   },
   "source": [
    "#### Carga de datos"
   ]
  },
  {
   "cell_type": "code",
   "execution_count": 1,
   "id": "6765e314",
   "metadata": {
    "execution": {
     "iopub.execute_input": "2023-10-30T08:44:54.466152Z",
     "iopub.status.busy": "2023-10-30T08:44:54.456066Z",
     "iopub.status.idle": "2023-10-30T08:44:55.631647Z",
     "shell.execute_reply": "2023-10-30T08:44:55.631647Z"
    },
    "papermill": {
     "duration": 1.175581,
     "end_time": "2023-10-30T08:44:55.631647",
     "exception": false,
     "start_time": "2023-10-30T08:44:54.456066",
     "status": "completed"
    },
    "tags": []
   },
   "outputs": [
    {
     "name": "stdout",
     "output_type": "stream",
     "text": [
      "CPU_COUNT: 24; NODE: amilcar32; sys.version: 3.10.12 | packaged by Anaconda, Inc. | (main, Jul  5 2023, 19:09:20) [MSC v.1916 64 bit (AMD64)]\n",
      "LOKY_MAX_CPU_COUNT is not set.\n",
      "OMP_NUM_THREADS is not set.\n"
     ]
    }
   ],
   "source": [
    "import os\n",
    "import numpy as np\n",
    "import pandas as pd\n",
    "import datetime\n",
    "import sklearn\n",
    "import logging\n",
    "import warnings\n",
    "\n",
    "from sklearn.pipeline import Pipeline\n",
    "from sklearn.model_selection import RandomizedSearchCV, KFold, cross_val_score, train_test_split\n",
    "from sklearn.metrics import accuracy_score, confusion_matrix, classification_report, roc_auc_score\n",
    "\n",
    "#  cargar algoritmos para aprendizaje supervisado\n",
    "from sklearn.feature_selection import SelectKBest, f_classif, SelectFromModel, mutual_info_classif\n",
    "from sklearn.svm import SVC\n",
    "from sklearn.ensemble import RandomForestClassifier\n",
    "from sklearn.linear_model import LogisticRegression,LogisticRegressionCV\n",
    "\n",
    "# importar fichero con utilidades propias\n",
    "from commons import myfunctions as myfunc\n"
   ]
  },
  {
   "cell_type": "markdown",
   "id": "f1b969b9",
   "metadata": {
    "papermill": {
     "duration": 0.0,
     "end_time": "2023-10-30T08:44:55.631647",
     "exception": false,
     "start_time": "2023-10-30T08:44:55.631647",
     "status": "completed"
    },
    "tags": []
   },
   "source": [
    "#### Parámetros a utilizar en el entrenamiento.\n",
    "\n",
    "Se indican los 3 algoritmos de *selección de características* (eval_selector_xxx) y los 3 algoritmos para la _clasificación_ (eval_clasifier_xxx)\n",
    "\n",
    "En *param_distributions* se indicar los parámetros que utilizan los algoritmos en la función RandomSearchCV.\n",
    "\n",
    "Esta celda tiene la etiqueta **parameters** que servirá para poder lanzar los entrenamientos con la utilidad **papermill** pasándole un fichero con los parámetros. Los nuevos parámetros se situarán tras esta celda para tener prevalencia."
   ]
  },
  {
   "cell_type": "code",
   "execution_count": 2,
   "id": "e240521f",
   "metadata": {
    "execution": {
     "iopub.execute_input": "2023-10-30T08:44:55.631647Z",
     "iopub.status.busy": "2023-10-30T08:44:55.631647Z",
     "iopub.status.idle": "2023-10-30T08:44:55.662979Z",
     "shell.execute_reply": "2023-10-30T08:44:55.662979Z"
    },
    "papermill": {
     "duration": 0.031332,
     "end_time": "2023-10-30T08:44:55.662979",
     "exception": false,
     "start_time": "2023-10-30T08:44:55.631647",
     "status": "completed"
    },
    "tags": [
     "parameters"
    ]
   },
   "outputs": [
    {
     "name": "stdout",
     "output_type": "stream",
     "text": [
      "20231030T094455 : amilcar32 : INFO : Utilizando parámetros de mul_m\n"
     ]
    }
   ],
   "source": [
    "#  Parametros para el entrenamiento\n",
    "\n",
    "SEMILLA=        42\n",
    "M_TIPO=         \"mul_m\"\n",
    "M_SELECT=       \"MI\"\n",
    "M_CLASIF=       \"SVM\"\n",
    "R_FICHERO=      \"resultados\"\n",
    "M_FICHERO=      \"metricas\"\n",
    "PRE_DATA_FILE=  \"rows_transpose_norm_by_gene_id_with_target_num_\"\n",
    "SCORING=        \"roc_auc_ovr\" \n",
    "MAX_ITERS=      100\n",
    "\n",
    "def mutual_info_classif_state(X, y):\n",
    "    return mutual_info_classif(X, y, random_state=SEMILLA)\n",
    "\n",
    "eval_selector_mi = \"SelectKBest(score_func=mutual_info_classif_state)\"\n",
    "eval_selector_rf=  \"SelectFromModel(estimator=RandomForestClassifier(random_state=SEMILLA), threshold=-np.inf)\"\n",
    "eval_selector_anova=  \"SelectKBest(score_func=f_classif)\"\n",
    "\n",
    "eval_clasifier_svm= \"SVC(probability=True, random_state=SEMILLA)\"\n",
    "eval_clasifier_rf= \"RandomForestClassifier(random_state=SEMILLA)\"\n",
    "eval_clasifier_lr= \"LogisticRegressionCV(random_state=SEMILLA)\"\n",
    "\n",
    "if M_TIPO.startswith(\"bin_m\"):\n",
    "    myfunc.verbose(f\"Utilizando parámetros de {M_TIPO}\")\n",
    "    eval_selector = eval_selector_mi\n",
    "    eval_clasifier = eval_clasifier_svm\n",
    "\n",
    "    SEMILLA = 6578\n",
    "    M_SELECT = \"MI\"\n",
    "    M_CLASIF = \"SVM\"\n",
    "    param_distributions = {'selector__k': [1000], \n",
    "         'clasifier__kernel': ['rbf'], 'clasifier__gamma': [0.01], 'clasifier__C': [100]}\n",
    "elif M_TIPO.startswith(\"bin_s\"):\n",
    "    myfunc.verbose(f\"Utilizando parámetros de {M_TIPO}\")\n",
    "    eval_selector = eval_selector_rf\n",
    "    eval_clasifier = eval_clasifier_lr\n",
    "\n",
    "    SEMILLA = 6191\n",
    "    M_SELECT = \"RF\"\n",
    "    M_CLASIF = \"LR_L2\"\n",
    "    param_distributions = {'selector__max_features': [1000], 'selector__estimator__n_estimators': [200], \n",
    "        'clasifier__solver': ['lbfgs'], 'clasifier__penalty': ['l2'], 'clasifier__max_iter': [10000]}\n",
    "\n",
    "elif M_TIPO.startswith(\"mul_m\"):\n",
    "    myfunc.verbose(f\"Utilizando parámetros de {M_TIPO}\")\n",
    " \n",
    "    eval_selector = eval_selector_rf\n",
    "    eval_clasifier = eval_clasifier_lr\n",
    "\n",
    "    SEMILLA = 6191\n",
    "    M_SELECT = \"RF\"\n",
    "    M_CLASIF = \"LR_L2\"\n",
    "    param_distributions = {'selector__max_features': [1000], 'selector__estimator__n_estimators': [400], \n",
    "        'clasifier__solver': ['lbfgs'], 'clasifier__penalty': ['l2'], 'clasifier__max_iter': [10000]}\n",
    "\n",
    "else:\n",
    "    # M_TIPO.startswith(\"mul_s\"):\n",
    "    myfunc.verbose(f\"Utilizando parámetros de {M_TIPO}\")\n",
    "    eval_selector = eval_selector_anova\n",
    "    eval_clasifier = eval_clasifier_lr\n",
    "\n",
    "    SEMILLA = 1860\n",
    "    M_SELECT = \"ANOVA\"\n",
    "    M_CLASIF = \"LR_L2\"\n",
    "    param_distributions = {'selector__k': [1000], \n",
    "        'clasifier__solver': ['saga'], 'clasifier__penalty': ['l2'], 'clasifier__max_iter': [10000]}\n",
    "\n"
   ]
  },
  {
   "cell_type": "code",
   "execution_count": 3,
   "id": "4e4bdbcb",
   "metadata": {
    "execution": {
     "iopub.execute_input": "2023-10-30T08:44:55.662979Z",
     "iopub.status.busy": "2023-10-30T08:44:55.662979Z",
     "iopub.status.idle": "2023-10-30T08:44:55.678580Z",
     "shell.execute_reply": "2023-10-30T08:44:55.678580Z"
    },
    "papermill": {
     "duration": 0.015601,
     "end_time": "2023-10-30T08:44:55.678580",
     "exception": false,
     "start_time": "2023-10-30T08:44:55.662979",
     "status": "completed"
    },
    "tags": [
     "injected-parameters"
    ]
   },
   "outputs": [],
   "source": [
    "# Parameters\n",
    "M_TIPO = \"mul_m\"\n",
    "M_SELECT = \"RF\"\n",
    "M_CLASIF = \"LR_EN\"\n",
    "P_FICHERO = \"param_0000_5426_mul_m_RF_LR_EN.yaml\"\n",
    "R_FICHERO = \"resultados_5426\"\n",
    "M_FICHERO = \"metricas_5426\"\n",
    "PRE_DATA_FILE = \"rows_transpose_norm_by_gene_id_with_target_num_\"\n",
    "SCORING = \"roc_auc_ovr\"\n",
    "SEMILLA = 5426\n",
    "MAX_ITERS = 500\n",
    "eval_selector = \"SelectFromModel(estimator=RandomForestClassifier(random_state=SEMILLA), threshold=-np.inf)\"\n",
    "eval_clasifier = \"LogisticRegressionCV(random_state=SEMILLA)\"\n",
    "param_distributions = {\n",
    "    \"selector__max_features\": [1000],\n",
    "    \"selector__estimator__n_estimators\": [400],\n",
    "    \"clasifier__solver\": [\"saga\"],\n",
    "    \"clasifier__penalty\": [\"elasticnet\"],\n",
    "    \"clasifier__max_iter\": [10000],\n",
    "    \"clasifier__l1_ratios\": [[0.1]],\n",
    "}\n"
   ]
  },
  {
   "cell_type": "code",
   "execution_count": 4,
   "id": "3611abf8",
   "metadata": {
    "execution": {
     "iopub.execute_input": "2023-10-30T08:44:55.678580Z",
     "iopub.status.busy": "2023-10-30T08:44:55.678580Z",
     "iopub.status.idle": "2023-10-30T08:44:55.694232Z",
     "shell.execute_reply": "2023-10-30T08:44:55.694232Z"
    },
    "papermill": {
     "duration": 0.015652,
     "end_time": "2023-10-30T08:44:55.694232",
     "exception": false,
     "start_time": "2023-10-30T08:44:55.678580",
     "status": "completed"
    },
    "tags": []
   },
   "outputs": [],
   "source": [
    "DATA_FILE = PRE_DATA_FILE + M_TIPO\n",
    "\n",
    "# si viene \"None\" en el parámetro max_depth, se le quitan las comillas para que no sea entendido por el algoritmo como un texto\n",
    "if \"clasifier__max_depth\" in param_distributions:\n",
    "    param_distributions['clasifier__max_depth'] = [None if x == 'None' else x for x in param_distributions['clasifier__max_depth']]"
   ]
  },
  {
   "cell_type": "markdown",
   "id": "bd309e59",
   "metadata": {
    "papermill": {
     "duration": 0.0,
     "end_time": "2023-10-30T08:44:55.694232",
     "exception": false,
     "start_time": "2023-10-30T08:44:55.694232",
     "status": "completed"
    },
    "tags": []
   },
   "source": [
    "Asignar los algoritmos que se utilizarán en la función RandomSearchCV"
   ]
  },
  {
   "cell_type": "code",
   "execution_count": 5,
   "id": "321e94cb",
   "metadata": {
    "execution": {
     "iopub.execute_input": "2023-10-30T08:44:55.694232Z",
     "iopub.status.busy": "2023-10-30T08:44:55.694232Z",
     "iopub.status.idle": "2023-10-30T08:44:55.709857Z",
     "shell.execute_reply": "2023-10-30T08:44:55.709857Z"
    },
    "papermill": {
     "duration": 0.015625,
     "end_time": "2023-10-30T08:44:55.709857",
     "exception": false,
     "start_time": "2023-10-30T08:44:55.694232",
     "status": "completed"
    },
    "tags": []
   },
   "outputs": [],
   "source": [
    "algor_selector=eval(eval_selector)\n",
    "algor_clasifier=eval(eval_clasifier)"
   ]
  },
  {
   "cell_type": "markdown",
   "id": "1bb177dc",
   "metadata": {
    "papermill": {
     "duration": 0.0,
     "end_time": "2023-10-30T08:44:55.709857",
     "exception": false,
     "start_time": "2023-10-30T08:44:55.709857",
     "status": "completed"
    },
    "tags": []
   },
   "source": [
    "#### Comprobar el entorno y leer fichero de muestras"
   ]
  },
  {
   "cell_type": "code",
   "execution_count": 6,
   "id": "566d4329",
   "metadata": {
    "execution": {
     "iopub.execute_input": "2023-10-30T08:44:55.709857Z",
     "iopub.status.busy": "2023-10-30T08:44:55.709857Z",
     "iopub.status.idle": "2023-10-30T08:44:55.899315Z",
     "shell.execute_reply": "2023-10-30T08:44:55.899315Z"
    },
    "papermill": {
     "duration": 0.189458,
     "end_time": "2023-10-30T08:44:55.899315",
     "exception": false,
     "start_time": "2023-10-30T08:44:55.709857",
     "status": "completed"
    },
    "tags": []
   },
   "outputs": [
    {
     "name": "stdout",
     "output_type": "stream",
     "text": [
      "20231030T094455 : amilcar32 : INFO : Encontrada carpeta DATA_DIR=..\\tfm_viu\\datos\n",
      "20231030T094455 : amilcar32 : INFO : Encontrada carpeta CFDNA_DIR=..\\tfm_viu\\datos\\cfDNA_5hmC\n",
      "20231030T094455 : amilcar32 : INFO : Encontrada carpeta GENCODE_DIR=..\\tfm_viu\\datos\\gencode\n",
      "20231030T094455 : amilcar32 : INFO : Encontrada carpeta H5_DIR=..\\tfm_viu\\datos\\h5\n",
      "20231030T094455 : amilcar32 : INFO : Encontrada carpeta LOG_DIR=..\\tfm_viu\\datos\\logs\n",
      "20231030T094455 : amilcar32 : INFO : Encontrada carpeta CSV_DIR=..\\tfm_viu\\datos\\csv\n",
      "20231030T094455 : amilcar32 : INFO : Encontrada carpeta MODEL_DIR=..\\tfm_viu\\ejecuciones\\modelos\n",
      "20231030T094455 : amilcar32 : INFO : Encontrada carpeta EXEC_DIR=..\\tfm_viu\\ejecuciones\n",
      "20231030T094455 : amilcar32 : INFO : Encontrada carpeta MET_DIR=..\\tfm_viu\\ejecuciones\\metricas\n",
      "20231030T094455 : amilcar32 : INFO : Inicio leer fichero h5 ..\\tfm_viu\\datos\\h5\\rows_transpose_norm_by_gene_id_with_target_num_mul_m.h5\n",
      "20231030T094455 : amilcar32 : INFO : Leyendo clave /df\n"
     ]
    },
    {
     "name": "stdout",
     "output_type": "stream",
     "text": [
      "20231030T094455 : amilcar32 : INFO : Tamaño (434, 18876)\n",
      "20231030T094455 : amilcar32 : INFO : Fin leer fichero h5 ..\\tfm_viu\\datos\\h5\\rows_transpose_norm_by_gene_id_with_target_num_mul_m.h5\n"
     ]
    },
    {
     "data": {
      "text/plain": [
       "target\n",
       "0    62\n",
       "1    62\n",
       "2    62\n",
       "3    62\n",
       "4    62\n",
       "5    62\n",
       "6    62\n",
       "dtype: int64"
      ]
     },
     "metadata": {},
     "output_type": "display_data"
    },
    {
     "name": "stdout",
     "output_type": "stream",
     "text": [
      "Shape df: (434, 18876)\n",
      "Shape X_train: (347, 18875)\n",
      "Shape X_test: (87, 18875)\n"
     ]
    }
   ],
   "source": [
    "start_time = datetime.datetime.now()\n",
    "\n",
    "myfunc.reset_vars()\n",
    "\n",
    "myfunc.NOTEBK_FILENAME = myfunc.get_nb_name()\n",
    "\n",
    "myfunc.check_enviroment(myfunc.DATA_DIR, myfunc.CFDNA_DIR, myfunc.GENCODE_DIR, myfunc.H5_DIR, myfunc.LOG_DIR, myfunc.CSV_DIR, myfunc.MODEL_DIR, myfunc.EXEC_DIR, myfunc.MET_DIR)\n",
    "\n",
    "# Leer fichero con las muestras\n",
    "df_t = myfunc.read_h5_to_df(DATA_FILE, myfunc.H5_DIR)\n",
    "display(df_t.groupby(\"target\").size())\n",
    "print(\"Shape df:\",df_t.shape)\n",
    "\n",
    "# Separar caracteristicas/genes de las etiquetas/tipos de cáncer\n",
    "X = df_t.iloc[:, :-1]  # Todas las columnas excepto la última\n",
    "y = df_t.iloc[:, -1]  # La última columna contiene los identificadores de los tipos de cáncer\n",
    "\n",
    "#  Crear el conjunto de datos de entrenamiento y de pruebas, y se fija la semilla para siempre coger el mismo juego de muestras\n",
    "X_train, X_test, y_train, y_test = train_test_split(X, y, test_size=0.2, shuffle=True, random_state=42)\n",
    "print(\"Shape X_train:\",X_train.shape)\n",
    "print(\"Shape X_test:\",X_test.shape)\n"
   ]
  },
  {
   "cell_type": "markdown",
   "id": "8456a906",
   "metadata": {
    "papermill": {
     "duration": 0.0,
     "end_time": "2023-10-30T08:44:55.899315",
     "exception": false,
     "start_time": "2023-10-30T08:44:55.899315",
     "status": "completed"
    },
    "tags": []
   },
   "source": [
    "#### Selección de características y clasificación."
   ]
  },
  {
   "cell_type": "code",
   "execution_count": 7,
   "id": "02e8a116",
   "metadata": {
    "execution": {
     "iopub.execute_input": "2023-10-30T08:44:55.914976Z",
     "iopub.status.busy": "2023-10-30T08:44:55.914976Z",
     "iopub.status.idle": "2023-10-30T09:24:04.497704Z",
     "shell.execute_reply": "2023-10-30T09:24:04.488602Z"
    },
    "papermill": {
     "duration": 2348.598389,
     "end_time": "2023-10-30T09:24:04.497704",
     "exception": false,
     "start_time": "2023-10-30T08:44:55.899315",
     "status": "completed"
    },
    "tags": []
   },
   "outputs": [
    {
     "name": "stdout",
     "output_type": "stream",
     "text": [
      "20231030T094455 : amilcar32 : INFO : Iniciando entrenamiento\n",
      "num_iter: 1 , max_iter: 1\n",
      "Fitting 5 folds for each of 1 candidates, totalling 5 fits\n"
     ]
    },
    {
     "name": "stdout",
     "output_type": "stream",
     "text": [
      "Mejores Hiperparámetros: {'selector__max_features': 1000, 'selector__estimator__n_estimators': 400, 'clasifier__solver': 'saga', 'clasifier__penalty': 'elasticnet', 'clasifier__max_iter': 10000, 'clasifier__l1_ratios': [0.1]}\n",
      "Mejor Puntuación: 0.8672\n",
      "20231030T102404 : amilcar32 : INFO : Fin entrenamiento\n"
     ]
    }
   ],
   "source": [
    "myfunc.verbose(\"Iniciando entrenamiento\")\n",
    "\n",
    "kf = KFold(n_splits=5, shuffle=True, random_state=SEMILLA)\n",
    "\n",
    "# Crear el pipeline para el flujo de tareas\n",
    "tasks_pipeline = Pipeline([\n",
    "    ('selector', algor_selector),\n",
    "    ('clasifier', algor_clasifier)\n",
    "])\n",
    "\n",
    "# MAX_ITERS puede limitar el número de iteraciones si son excesivas para las combinaciones de parámetros buscando un óptimo local, \n",
    "# sino funcionaría como GridSearchCV al revisar todas las cominaciones de los parámetros\n",
    "num_iteraciones = 1\n",
    "num_iteraciones = num_iteraciones * np.prod([len(elemento1) for _, elemento1 in param_distributions.items()])\n",
    "max_iteraciones = num_iteraciones if num_iteraciones <= MAX_ITERS else MAX_ITERS\n",
    "print(\"num_iter:\",num_iteraciones,\", max_iter:\",max_iteraciones)\n",
    "\n",
    "random_search = RandomizedSearchCV(\n",
    "    tasks_pipeline, \n",
    "    param_distributions, \n",
    "    n_iter=max_iteraciones,\n",
    "    scoring=SCORING,\n",
    "    cv=kf,\n",
    "    verbose=3, \n",
    "    random_state=SEMILLA, \n",
    "    n_jobs=-1\n",
    "    )\n",
    "\n",
    "# Entrenar el modelo\n",
    "random_search.fit(X_train, y_train)\n",
    "\n",
    "# Ver los mejores hiperparámetros encontrados\n",
    "print(f'Mejores Hiperparámetros: {random_search.best_params_}')\n",
    "print(f'Mejor Puntuación: {random_search.best_score_:.4f}')\n",
    "\n",
    "# Nos quedamos con el mejor modelo para ver las métricas\n",
    "mejor_modelo = random_search.best_estimator_\n",
    "\n",
    "myfunc.verbose(\"Fin entrenamiento\")"
   ]
  },
  {
   "cell_type": "markdown",
   "id": "ca75c0de",
   "metadata": {
    "papermill": {
     "duration": 0.015725,
     "end_time": "2023-10-30T09:24:04.520523",
     "exception": false,
     "start_time": "2023-10-30T09:24:04.504798",
     "status": "completed"
    },
    "tags": []
   },
   "source": [
    "#### Guardar modelo"
   ]
  },
  {
   "cell_type": "code",
   "execution_count": 8,
   "id": "f95e3cd9",
   "metadata": {
    "execution": {
     "iopub.execute_input": "2023-10-30T09:24:04.551763Z",
     "iopub.status.busy": "2023-10-30T09:24:04.536142Z",
     "iopub.status.idle": "2023-10-30T09:24:04.898901Z",
     "shell.execute_reply": "2023-10-30T09:24:04.898901Z"
    },
    "papermill": {
     "duration": 0.362759,
     "end_time": "2023-10-30T09:24:04.898901",
     "exception": false,
     "start_time": "2023-10-30T09:24:04.536142",
     "status": "completed"
    },
    "tags": []
   },
   "outputs": [
    {
     "name": "stdout",
     "output_type": "stream",
     "text": [
      "20231030T102404 : amilcar32 : INFO : Inicio guardar fichero ..\\tfm_viu\\ejecuciones\\modelos\\modelo_5426_mul_m_RF_LR_EN.pkl\n"
     ]
    },
    {
     "name": "stdout",
     "output_type": "stream",
     "text": [
      "20231030T102404 : amilcar32 : INFO : Fin guardar fichero ..\\tfm_viu\\ejecuciones\\modelos\\modelo_5426_mul_m_RF_LR_EN.pkl\n"
     ]
    }
   ],
   "source": [
    "fichero_modelo = str.replace(\"modelo_\"+str(SEMILLA).zfill(4)+\"_\"+M_TIPO+\"_\"+M_SELECT+\"_\"+M_CLASIF+\".pkl\", \" \", \"_\")\n",
    "\n",
    "myfunc.save_modelo(mejor_modelo, myfunc.MODEL_DIR, fichero_modelo)"
   ]
  },
  {
   "cell_type": "markdown",
   "id": "e3c3ace8",
   "metadata": {
    "papermill": {
     "duration": 0.01562,
     "end_time": "2023-10-30T09:24:04.914521",
     "exception": false,
     "start_time": "2023-10-30T09:24:04.898901",
     "status": "completed"
    },
    "tags": []
   },
   "source": [
    "#### Ver resultados del las iteraciones hechas por RandomSearchCV"
   ]
  },
  {
   "cell_type": "code",
   "execution_count": 9,
   "id": "a61cf395",
   "metadata": {
    "execution": {
     "iopub.execute_input": "2023-10-30T09:24:04.914521Z",
     "iopub.status.busy": "2023-10-30T09:24:04.914521Z",
     "iopub.status.idle": "2023-10-30T09:24:04.945926Z",
     "shell.execute_reply": "2023-10-30T09:24:04.945926Z"
    },
    "papermill": {
     "duration": 0.031405,
     "end_time": "2023-10-30T09:24:04.945926",
     "exception": false,
     "start_time": "2023-10-30T09:24:04.914521",
     "status": "completed"
    },
    "tags": []
   },
   "outputs": [
    {
     "name": "stdout",
     "output_type": "stream",
     "text": [
      "20231030T102404 : amilcar32 : INFO : Inicio ver resultados\n",
      "Mejores Hiperparámetros: {'selector__max_features': 1000, 'selector__estimator__n_estimators': 400, 'clasifier__solver': 'saga', 'clasifier__penalty': 'elasticnet', 'clasifier__max_iter': 10000, 'clasifier__l1_ratios': [0.1]}\n",
      "Mejores puntuaciones: 0.8672 | Params: {'selector__max_features': 1000, 'selector__estimator__n_estimators': 400, 'clasifier__solver': 'saga', 'clasifier__penalty': 'elasticnet', 'clasifier__max_iter': 10000, 'clasifier__l1_ratios': [0.1]}\n",
      "Media de las puntuaciones: 0.8672 | Params: {'selector__max_features': 1000, 'selector__estimator__n_estimators': 400, 'clasifier__solver': 'saga', 'clasifier__penalty': 'elasticnet', 'clasifier__max_iter': 10000, 'clasifier__l1_ratios': [0.1]}\n",
      "20231030T102404 : amilcar32 : INFO : Fin resultados\n"
     ]
    }
   ],
   "source": [
    "myfunc.ver_resultados_search(random_search)"
   ]
  },
  {
   "cell_type": "markdown",
   "id": "11239d08",
   "metadata": {
    "papermill": {
     "duration": 0.015624,
     "end_time": "2023-10-30T09:24:04.977017",
     "exception": false,
     "start_time": "2023-10-30T09:24:04.961393",
     "status": "completed"
    },
    "tags": []
   },
   "source": [
    "#### Ver métricas del mejor modelo"
   ]
  },
  {
   "cell_type": "code",
   "execution_count": 10,
   "id": "f219a776",
   "metadata": {
    "execution": {
     "iopub.execute_input": "2023-10-30T09:24:04.999224Z",
     "iopub.status.busy": "2023-10-30T09:24:04.999224Z",
     "iopub.status.idle": "2023-10-30T09:24:07.309427Z",
     "shell.execute_reply": "2023-10-30T09:24:07.309427Z"
    },
    "papermill": {
     "duration": 2.33241,
     "end_time": "2023-10-30T09:24:07.309427",
     "exception": false,
     "start_time": "2023-10-30T09:24:04.977017",
     "status": "completed"
    },
    "tags": []
   },
   "outputs": [
    {
     "name": "stdout",
     "output_type": "stream",
     "text": [
      "20231030T102404 : amilcar32 : INFO : Inicio ver métricas multiclase\n"
     ]
    },
    {
     "name": "stdout",
     "output_type": "stream",
     "text": [
      "              precision    recall  f1-score   support\n",
      "\n",
      "           0       0.50      0.25      0.33        16\n",
      "           1       0.62      0.67      0.65        15\n",
      "           2       0.44      0.36      0.40        11\n",
      "           3       0.27      0.80      0.40         5\n",
      "           4       0.55      0.46      0.50        13\n",
      "           5       0.70      0.78      0.74         9\n",
      "           6       0.67      0.67      0.67        18\n",
      "\n",
      "    accuracy                           0.54        87\n",
      "   macro avg       0.54      0.57      0.53        87\n",
      "weighted avg       0.56      0.54      0.53        87\n",
      "\n",
      "\n",
      "\n",
      "           Exactitud: 0.540230\n",
      "   Precisión (media): 0.535462\n",
      "      Recall (media): 0.569469\n",
      "    F1-score (media): 0.526000\n",
      "\n",
      "\n",
      "AUC para el tipo de cáncer 0-Control.... 0.6884\n",
      "AUC para el tipo de cáncer 1-Bladder.... 0.8972\n",
      "AUC para el tipo de cáncer 2-Breast..... 0.6806\n",
      "AUC para el tipo de cáncer 3-Colorectal. 0.9024\n",
      "AUC para el tipo de cáncer 4-Kidney..... 0.8773\n",
      "AUC para el tipo de cáncer 5-Lung....... 0.9829\n",
      "AUC para el tipo de cáncer 6-Prostate... 0.8277\n",
      "\n",
      "Media de AUC: 0.8367\n"
     ]
    },
    {
     "data": {
      "image/png": "[encoded data removed]",
      "text/plain": [
       "<Figure size 1000x600 with 1 Axes>"
      ]
     },
     "metadata": {},
     "output_type": "display_data"
    },
    {
     "name": "stdout",
     "output_type": "stream",
     "text": [
      "\n",
      "\n"
     ]
    },
    {
     "data": {
      "image/png": "[encoded data removed]",
      "text/plain": [
       "<Figure size 800x400 with 2 Axes>"
      ]
     },
     "metadata": {},
     "output_type": "display_data"
    },
    {
     "name": "stdout",
     "output_type": "stream",
     "text": [
      "\n",
      "\n",
      "Puntuación Jaccard para el cáncer tipo 0-Control.... 0.2000\n",
      "Puntuación Jaccard para el cáncer tipo 1-Bladder.... 0.4762\n",
      "Puntuación Jaccard para el cáncer tipo 2-Breast..... 0.2500\n",
      "Puntuación Jaccard para el cáncer tipo 3-Colorectal. 0.2500\n",
      "Puntuación Jaccard para el cáncer tipo 4-Kidney..... 0.3333\n",
      "Puntuación Jaccard para el cáncer tipo 5-Lung....... 0.5833\n",
      "Puntuación Jaccard para el cáncer tipo 6-Prostate... 0.5000\n",
      "\n",
      "Media de la puntuación de Jaccard: 0.3704\n"
     ]
    }
   ],
   "source": [
    "if M_TIPO.startswith(\"bin\"):\n",
    "    myfunc.ver_metricas(mejor_modelo, X_test, y_test)\n",
    "else:\n",
    "    myfunc.ver_metricas_multi(mejor_modelo, X_test, y_test)\n"
   ]
  },
  {
   "cell_type": "markdown",
   "id": "9ddafa5c",
   "metadata": {
    "papermill": {
     "duration": 0.011163,
     "end_time": "2023-10-30T09:24:07.325262",
     "exception": false,
     "start_time": "2023-10-30T09:24:07.314099",
     "status": "completed"
    },
    "tags": []
   },
   "source": [
    "#### Finalización del notebook"
   ]
  },
  {
   "cell_type": "code",
   "execution_count": 11,
   "id": "151360a7",
   "metadata": {
    "execution": {
     "iopub.execute_input": "2023-10-30T09:24:07.340977Z",
     "iopub.status.busy": "2023-10-30T09:24:07.340977Z",
     "iopub.status.idle": "2023-10-30T09:24:07.356714Z",
     "shell.execute_reply": "2023-10-30T09:24:07.356714Z"
    },
    "papermill": {
     "duration": 0.031452,
     "end_time": "2023-10-30T09:24:07.356714",
     "exception": false,
     "start_time": "2023-10-30T09:24:07.325262",
     "status": "completed"
    },
    "tags": []
   },
   "outputs": [
    {
     "name": "stdout",
     "output_type": "stream",
     "text": [
      "20231030T102407 : amilcar32 : INFO : Notebook ha tardado 2351 seconds\n"
     ]
    }
   ],
   "source": [
    "end_time = datetime.datetime.now()\n",
    "total_time = end_time - start_time\n",
    "myfunc.verbose(f\"Notebook ha tardado {total_time.seconds} seconds\")"
   ]
  },
  {
   "cell_type": "markdown",
   "id": "2f98b7c3",
   "metadata": {
    "papermill": {
     "duration": 0.015521,
     "end_time": "2023-10-30T09:24:07.372235",
     "exception": false,
     "start_time": "2023-10-30T09:24:07.356714",
     "status": "completed"
    },
    "tags": []
   },
   "source": [
    "#### Guardar métricas"
   ]
  },
  {
   "cell_type": "code",
   "execution_count": 12,
   "id": "39e6a2a6",
   "metadata": {
    "execution": {
     "iopub.execute_input": "2023-10-30T09:24:07.404574Z",
     "iopub.status.busy": "2023-10-30T09:24:07.404574Z",
     "iopub.status.idle": "2023-10-30T09:24:09.296437Z",
     "shell.execute_reply": "2023-10-30T09:24:09.296437Z"
    },
    "papermill": {
     "duration": 1.908582,
     "end_time": "2023-10-30T09:24:09.296437",
     "exception": false,
     "start_time": "2023-10-30T09:24:07.387855",
     "status": "completed"
    },
    "tags": []
   },
   "outputs": [
    {
     "name": "stdout",
     "output_type": "stream",
     "text": [
      "20231030T102407 : amilcar32 : INFO : Inicio guardar métricas multiclase\n",
      "20231030T102407 : amilcar32 : INFO : Inicio leer fichero ..\\tfm_viu\\ejecuciones\\metricas\\metricas_5426.csv\n",
      "20231030T102408 : amilcar32 : INFO : Fin leer fichero ..\\tfm_viu\\ejecuciones\\metricas\\metricas_5426.csv\n"
     ]
    },
    {
     "name": "stdout",
     "output_type": "stream",
     "text": [
      "20231030T102409 : amilcar32 : INFO : Inicio guardar fichero ..\\tfm_viu\\ejecuciones\\metricas\\metricas_5426.csv\n",
      "20231030T102409 : amilcar32 : INFO : Fichero borrado ..\\tfm_viu\\ejecuciones\\metricas\\metricas_5426.csv\n",
      "20231030T102409 : amilcar32 : INFO : Fin guardar fichero ..\\tfm_viu\\ejecuciones\\metricas\\metricas_5426.csv\n",
      "20231030T102409 : amilcar32 : INFO : Fin guardar métricas multiclase\n",
      "20231030T102409 : amilcar32 : INFO : Inicio leer fichero ..\\tfm_viu\\ejecuciones\\metricas\\metricas_5426.csv\n",
      "20231030T102409 : amilcar32 : INFO : Fin leer fichero ..\\tfm_viu\\ejecuciones\\metricas\\metricas_5426.csv\n"
     ]
    },
    {
     "data": {
      "text/html": [
       "<div>\n",
       "<style scoped>\n",
       "    .dataframe tbody tr th:only-of-type {\n",
       "        vertical-align: middle;\n",
       "    }\n",
       "\n",
       "    .dataframe tbody tr th {\n",
       "        vertical-align: top;\n",
       "    }\n",
       "\n",
       "    .dataframe thead th {\n",
       "        text-align: right;\n",
       "    }\n",
       "</style>\n",
       "<table border=\"1\" class=\"dataframe\">\n",
       "  <thead>\n",
       "    <tr style=\"text-align: right;\">\n",
       "      <th></th>\n",
       "      <th>tipo</th>\n",
       "      <th>select</th>\n",
       "      <th>clasific</th>\n",
       "      <th>semilla</th>\n",
       "      <th>accuracy</th>\n",
       "      <th>precision</th>\n",
       "      <th>recall</th>\n",
       "      <th>f1_score</th>\n",
       "      <th>roc_auc</th>\n",
       "      <th>hostname</th>\n",
       "      <th>total_time_sec</th>\n",
       "      <th>datetime</th>\n",
       "      <th>fichero_modelo</th>\n",
       "      <th>params</th>\n",
       "      <th>shape</th>\n",
       "      <th>features</th>\n",
       "      <th>roc_auc_ovr</th>\n",
       "      <th>indices_auc</th>\n",
       "      <th>indices_jaccard</th>\n",
       "    </tr>\n",
       "  </thead>\n",
       "  <tbody>\n",
       "    <tr>\n",
       "      <th>0</th>\n",
       "      <td>mul_m</td>\n",
       "      <td>RF</td>\n",
       "      <td>LR_EN</td>\n",
       "      <td>5426</td>\n",
       "      <td>0.540230</td>\n",
       "      <td>0.535462</td>\n",
       "      <td>0.569469</td>\n",
       "      <td>0.526000</td>\n",
       "      <td>NaN</td>\n",
       "      <td>amilcar32</td>\n",
       "      <td>2351</td>\n",
       "      <td>2023-10-30 10:24:09.185670</td>\n",
       "      <td>modelo_5426_mul_m_RF_LR_EN.pkl</td>\n",
       "      <td>{'selector__max_features': 1000, 'selector__es...</td>\n",
       "      <td>X_test:(87, 18875)</td>\n",
       "      <td>['ENSG00000000938.13', 'ENSG00000002933.9', 'E...</td>\n",
       "      <td>0.836658</td>\n",
       "      <td>[0.6883802816901408, 0.8972222222222223, 0.680...</td>\n",
       "      <td>[0.2, 0.47619047619047616, 0.25, 0.25, 0.33333...</td>\n",
       "    </tr>\n",
       "    <tr>\n",
       "      <th>0</th>\n",
       "      <td>mul_m</td>\n",
       "      <td>MI</td>\n",
       "      <td>SVM</td>\n",
       "      <td>5426</td>\n",
       "      <td>0.517241</td>\n",
       "      <td>0.518911</td>\n",
       "      <td>0.538656</td>\n",
       "      <td>0.516977</td>\n",
       "      <td>NaN</td>\n",
       "      <td>amilcar32</td>\n",
       "      <td>293</td>\n",
       "      <td>2023-10-30 09:44:50.519058</td>\n",
       "      <td>modelo_5426_mul_m_MI_SVM.pkl</td>\n",
       "      <td>{'selector__k': 1000, 'clasifier__kernel': 'rb...</td>\n",
       "      <td>X_test:(87, 18875)</td>\n",
       "      <td>['ENSG00000001460.18', 'ENSG00000004660.15', '...</td>\n",
       "      <td>0.826674</td>\n",
       "      <td>[0.8169014084507042, 0.8092592592592592, 0.723...</td>\n",
       "      <td>[0.2, 0.42105263157894735, 0.14285714285714285...</td>\n",
       "    </tr>\n",
       "    <tr>\n",
       "      <th>0</th>\n",
       "      <td>mul_m</td>\n",
       "      <td>MI</td>\n",
       "      <td>RF</td>\n",
       "      <td>5426</td>\n",
       "      <td>0.425287</td>\n",
       "      <td>0.434134</td>\n",
       "      <td>0.447949</td>\n",
       "      <td>0.400020</td>\n",
       "      <td>NaN</td>\n",
       "      <td>amilcar32</td>\n",
       "      <td>376</td>\n",
       "      <td>2023-10-30 09:39:51.703645</td>\n",
       "      <td>modelo_5426_mul_m_MI_RF.pkl</td>\n",
       "      <td>{'selector__k': 1000, 'clasifier__n_estimators...</td>\n",
       "      <td>X_test:(87, 18875)</td>\n",
       "      <td>['ENSG00000001460.18', 'ENSG00000004660.15', '...</td>\n",
       "      <td>0.778884</td>\n",
       "      <td>[0.6285211267605634, 0.8462962962962963, 0.730...</td>\n",
       "      <td>[0.1111111111111111, 0.2631578947368421, 0.25,...</td>\n",
       "    </tr>\n",
       "  </tbody>\n",
       "</table>\n",
       "</div>"
      ],
      "text/plain": [
       "    tipo select clasific  semilla  accuracy  precision    recall  f1_score  \\\n",
       "0  mul_m     RF    LR_EN     5426  0.540230   0.535462  0.569469  0.526000   \n",
       "0  mul_m     MI      SVM     5426  0.517241   0.518911  0.538656  0.516977   \n",
       "0  mul_m     MI       RF     5426  0.425287   0.434134  0.447949  0.400020   \n",
       "\n",
       "   roc_auc   hostname  total_time_sec                    datetime  \\\n",
       "0      NaN  amilcar32            2351  2023-10-30 10:24:09.185670   \n",
       "0      NaN  amilcar32             293  2023-10-30 09:44:50.519058   \n",
       "0      NaN  amilcar32             376  2023-10-30 09:39:51.703645   \n",
       "\n",
       "                   fichero_modelo  \\\n",
       "0  modelo_5426_mul_m_RF_LR_EN.pkl   \n",
       "0    modelo_5426_mul_m_MI_SVM.pkl   \n",
       "0     modelo_5426_mul_m_MI_RF.pkl   \n",
       "\n",
       "                                              params               shape  \\\n",
       "0  {'selector__max_features': 1000, 'selector__es...  X_test:(87, 18875)   \n",
       "0  {'selector__k': 1000, 'clasifier__kernel': 'rb...  X_test:(87, 18875)   \n",
       "0  {'selector__k': 1000, 'clasifier__n_estimators...  X_test:(87, 18875)   \n",
       "\n",
       "                                            features  roc_auc_ovr  \\\n",
       "0  ['ENSG00000000938.13', 'ENSG00000002933.9', 'E...     0.836658   \n",
       "0  ['ENSG00000001460.18', 'ENSG00000004660.15', '...     0.826674   \n",
       "0  ['ENSG00000001460.18', 'ENSG00000004660.15', '...     0.778884   \n",
       "\n",
       "                                         indices_auc  \\\n",
       "0  [0.6883802816901408, 0.8972222222222223, 0.680...   \n",
       "0  [0.8169014084507042, 0.8092592592592592, 0.723...   \n",
       "0  [0.6285211267605634, 0.8462962962962963, 0.730...   \n",
       "\n",
       "                                     indices_jaccard  \n",
       "0  [0.2, 0.47619047619047616, 0.25, 0.25, 0.33333...  \n",
       "0  [0.2, 0.42105263157894735, 0.14285714285714285...  \n",
       "0  [0.1111111111111111, 0.2631578947368421, 0.25,...  "
      ]
     },
     "metadata": {},
     "output_type": "display_data"
    }
   ],
   "source": [
    "if M_TIPO.startswith(\"bin\"):\n",
    "    myfunc.save_metricas_to_csv(random_search, X_test, y_test, M_TIPO, M_SELECT, M_CLASIF, total_time, SEMILLA, myfunc.MET_DIR, M_FICHERO, fichero_modelo)\n",
    "else:\n",
    "    myfunc.save_metricas_multi_to_csv(random_search, X_test, y_test, M_TIPO, M_SELECT, M_CLASIF, total_time, SEMILLA, myfunc.MET_DIR, M_FICHERO, fichero_modelo)\n",
    "\n",
    "df1=myfunc.read_metricas_to_df(myfunc.MET_DIR,M_FICHERO)\n",
    "\n",
    "display(df1.sort_values(\"datetime\", ascending=False)[:3])\n"
   ]
  },
  {
   "cell_type": "markdown",
   "id": "e249af5b",
   "metadata": {
    "papermill": {
     "duration": 0.01572,
     "end_time": "2023-10-30T09:24:09.328346",
     "exception": false,
     "start_time": "2023-10-30T09:24:09.312626",
     "status": "completed"
    },
    "tags": []
   },
   "source": [
    "#### Guardar resultados"
   ]
  },
  {
   "cell_type": "code",
   "execution_count": 13,
   "id": "593f7f80",
   "metadata": {
    "execution": {
     "iopub.execute_input": "2023-10-30T09:24:09.359593Z",
     "iopub.status.busy": "2023-10-30T09:24:09.343967Z",
     "iopub.status.idle": "2023-10-30T09:24:09.375738Z",
     "shell.execute_reply": "2023-10-30T09:24:09.375738Z"
    },
    "papermill": {
     "duration": 0.047392,
     "end_time": "2023-10-30T09:24:09.375738",
     "exception": false,
     "start_time": "2023-10-30T09:24:09.328346",
     "status": "completed"
    },
    "tags": []
   },
   "outputs": [
    {
     "name": "stdout",
     "output_type": "stream",
     "text": [
      "20231030T102409 : amilcar32 : INFO : Inicio guardar resultados\n",
      "20231030T102409 : amilcar32 : INFO : Inicio guardar fichero ..\\tfm_viu\\ejecuciones\\metricas\\resultados_5426_mul_m-RF-LR_EN.csv\n",
      "20231030T102409 : amilcar32 : INFO : Fin guardar fichero ..\\tfm_viu\\ejecuciones\\metricas\\resultados_5426_mul_m-RF-LR_EN.csv\n",
      "20231030T102409 : amilcar32 : INFO : Fin guardar resultados\n"
     ]
    }
   ],
   "source": [
    "fichero_resultados=R_FICHERO+\"_\"+M_TIPO+\"-\"+M_SELECT+\"-\"+M_CLASIF+\".csv\"\n",
    "myfunc.save_resultados_to_csv(M_TIPO, M_SELECT, M_CLASIF,  random_search, myfunc.MET_DIR, fichero_resultados)\n"
   ]
  }
 ],
 "metadata": {
  "kernelspec": {
   "display_name": "Python 3 (ipykernel)",
   "language": "python",
   "name": "python3"
  },
  "language_info": {
   "codemirror_mode": {
    "name": "ipython",
    "version": 3
   },
   "file_extension": ".py",
   "mimetype": "text/x-python",
   "name": "python",
   "nbconvert_exporter": "python",
   "pygments_lexer": "ipython3",
   "version": "3.10.12"
  },
  "papermill": {
   "default_parameters": {},
   "duration": 2357.684628,
   "end_time": "2023-10-30T09:24:10.311543",
   "environment_variables": {},
   "exception": null,
   "input_path": "03_entrenamiento.ipynb",
   "output_path": "ejecuciones\\training\\03_entrenamiento.20231030T_94451.param_0000_5426_mul_m_RF_LR_EN.output.ipynb",
   "parameters": {
    "MAX_ITERS": 500,
    "M_CLASIF": "LR_EN",
    "M_FICHERO": "metricas_5426",
    "M_SELECT": "RF",
    "M_TIPO": "mul_m",
    "PRE_DATA_FILE": "rows_transpose_norm_by_gene_id_with_target_num_",
    "P_FICHERO": "param_0000_5426_mul_m_RF_LR_EN.yaml",
    "R_FICHERO": "resultados_5426",
    "SCORING": "roc_auc_ovr",
    "SEMILLA": 5426,
    "eval_clasifier": "LogisticRegressionCV(random_state=SEMILLA)",
    "eval_selector": "SelectFromModel(estimator=RandomForestClassifier(random_state=SEMILLA), threshold=-np.inf)",
    "param_distributions": {
     "clasifier__l1_ratios": [
      [
       0.1
      ]
     ],
     "clasifier__max_iter": [
      10000
     ],
     "clasifier__penalty": [
      "elasticnet"
     ],
     "clasifier__solver": [
      "saga"
     ],
     "selector__estimator__n_estimators": [
      400
     ],
     "selector__max_features": [
      1000
     ]
    }
   },
   "start_time": "2023-10-30T08:44:52.626915",
   "version": "2.4.0"
  }
 },
 "nbformat": 4,
 "nbformat_minor": 5
}