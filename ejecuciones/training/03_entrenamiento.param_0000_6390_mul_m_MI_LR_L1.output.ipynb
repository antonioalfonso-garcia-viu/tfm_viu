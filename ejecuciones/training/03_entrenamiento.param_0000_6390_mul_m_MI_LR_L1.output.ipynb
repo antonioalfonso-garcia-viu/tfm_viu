{
 "cells": [
  {
   "cell_type": "markdown",
   "id": "3a2a090d",
   "metadata": {
    "papermill": {
     "duration": 0.004227,
     "end_time": "2023-10-30T14:52:01.075555",
     "exception": false,
     "start_time": "2023-10-30T14:52:01.071328",
     "status": "completed"
    },
    "tags": []
   },
   "source": [
    "##### Inicio"
   ]
  },
  {
   "cell_type": "markdown",
   "id": "9ff84967",
   "metadata": {
    "papermill": {
     "duration": 0.002285,
     "end_time": "2023-10-30T14:52:01.080471",
     "exception": false,
     "start_time": "2023-10-30T14:52:01.078186",
     "status": "completed"
    },
    "tags": []
   },
   "source": [
    "#### Carga de datos"
   ]
  },
  {
   "cell_type": "code",
   "execution_count": 1,
   "id": "0f469c4c",
   "metadata": {
    "execution": {
     "iopub.execute_input": "2023-10-30T14:52:01.086381Z",
     "iopub.status.busy": "2023-10-30T14:52:01.086161Z",
     "iopub.status.idle": "2023-10-30T14:52:01.949465Z",
     "shell.execute_reply": "2023-10-30T14:52:01.948968Z"
    },
    "papermill": {
     "duration": 0.867886,
     "end_time": "2023-10-30T14:52:01.950731",
     "exception": false,
     "start_time": "2023-10-30T14:52:01.082845",
     "status": "completed"
    },
    "tags": []
   },
   "outputs": [
    {
     "name": "stdout",
     "output_type": "stream",
     "text": [
      "CPU_COUNT: 8; NODE: amilcar22; sys.version: 3.10.12 (main, Jul  5 2023, 19:22:19) [GCC 11.2.0]\n",
      "LOKY_MAX_CPU_COUNT: 6\n",
      "OMP_NUM_THREADS: 2\n"
     ]
    }
   ],
   "source": [
    "import os\n",
    "import numpy as np\n",
    "import pandas as pd\n",
    "import datetime\n",
    "import sklearn\n",
    "import logging\n",
    "import warnings\n",
    "\n",
    "from sklearn.pipeline import Pipeline\n",
    "from sklearn.model_selection import RandomizedSearchCV, KFold, cross_val_score, train_test_split\n",
    "from sklearn.metrics import accuracy_score, confusion_matrix, classification_report, roc_auc_score\n",
    "\n",
    "#  cargar algoritmos para aprendizaje supervisado\n",
    "from sklearn.feature_selection import SelectKBest, f_classif, SelectFromModel, mutual_info_classif\n",
    "from sklearn.svm import SVC\n",
    "from sklearn.ensemble import RandomForestClassifier\n",
    "from sklearn.linear_model import LogisticRegression,LogisticRegressionCV\n",
    "\n",
    "# importar fichero con utilidades propias\n",
    "from commons import myfunctions as myfunc\n"
   ]
  },
  {
   "cell_type": "markdown",
   "id": "0c2a0ffb",
   "metadata": {
    "papermill": {
     "duration": 0.002578,
     "end_time": "2023-10-30T14:52:01.956348",
     "exception": false,
     "start_time": "2023-10-30T14:52:01.953770",
     "status": "completed"
    },
    "tags": []
   },
   "source": [
    "#### Parámetros a utilizar en el entrenamiento.\n",
    "\n",
    "Se indican los 3 algoritmos de *selección de características* (eval_selector_xxx) y los 3 algoritmos para la _clasificación_ (eval_clasifier_xxx)\n",
    "\n",
    "En *param_distributions* se indicar los parámetros que utilizan los algoritmos en la función RandomSearchCV.\n",
    "\n",
    "Esta celda tiene la etiqueta **parameters** que servirá para poder lanzar los entrenamientos con la utilidad **papermill** pasándole un fichero con los parámetros. Los nuevos parámetros se situarán tras esta celda para tener prevalencia."
   ]
  },
  {
   "cell_type": "code",
   "execution_count": 2,
   "id": "aa3f5a3a",
   "metadata": {
    "execution": {
     "iopub.execute_input": "2023-10-30T14:52:01.962196Z",
     "iopub.status.busy": "2023-10-30T14:52:01.961923Z",
     "iopub.status.idle": "2023-10-30T14:52:01.968855Z",
     "shell.execute_reply": "2023-10-30T14:52:01.968336Z"
    },
    "papermill": {
     "duration": 0.011341,
     "end_time": "2023-10-30T14:52:01.970108",
     "exception": false,
     "start_time": "2023-10-30T14:52:01.958767",
     "status": "completed"
    },
    "tags": [
     "parameters"
    ]
   },
   "outputs": [
    {
     "name": "stdout",
     "output_type": "stream",
     "text": [
      "20231030T155201 : amilcar22 : INFO : Utilizando parámetros de mul_m\n"
     ]
    }
   ],
   "source": [
    "#  Parametros para el entrenamiento\n",
    "\n",
    "SEMILLA=        42\n",
    "M_TIPO=         \"mul_m\"\n",
    "M_SELECT=       \"MI\"\n",
    "M_CLASIF=       \"SVM\"\n",
    "R_FICHERO=      \"resultados\"\n",
    "M_FICHERO=      \"metricas\"\n",
    "PRE_DATA_FILE=  \"rows_transpose_norm_by_gene_id_with_target_num_\"\n",
    "SCORING=        \"roc_auc_ovr\" \n",
    "MAX_ITERS=      100\n",
    "\n",
    "def mutual_info_classif_state(X, y):\n",
    "    return mutual_info_classif(X, y, random_state=SEMILLA)\n",
    "\n",
    "eval_selector_mi = \"SelectKBest(score_func=mutual_info_classif_state)\"\n",
    "eval_selector_rf=  \"SelectFromModel(estimator=RandomForestClassifier(random_state=SEMILLA), threshold=-np.inf)\"\n",
    "eval_selector_anova=  \"SelectKBest(score_func=f_classif)\"\n",
    "\n",
    "eval_clasifier_svm= \"SVC(probability=True, random_state=SEMILLA)\"\n",
    "eval_clasifier_rf= \"RandomForestClassifier(random_state=SEMILLA)\"\n",
    "eval_clasifier_lr= \"LogisticRegressionCV(random_state=SEMILLA)\"\n",
    "\n",
    "if M_TIPO.startswith(\"bin_m\"):\n",
    "    myfunc.verbose(f\"Utilizando parámetros de {M_TIPO}\")\n",
    "    eval_selector = eval_selector_mi\n",
    "    eval_clasifier = eval_clasifier_svm\n",
    "\n",
    "    SEMILLA = 6578\n",
    "    M_SELECT = \"MI\"\n",
    "    M_CLASIF = \"SVM\"\n",
    "    param_distributions = {'selector__k': [1000], \n",
    "         'clasifier__kernel': ['rbf'], 'clasifier__gamma': [0.01], 'clasifier__C': [100]}\n",
    "elif M_TIPO.startswith(\"bin_s\"):\n",
    "    myfunc.verbose(f\"Utilizando parámetros de {M_TIPO}\")\n",
    "    eval_selector = eval_selector_rf\n",
    "    eval_clasifier = eval_clasifier_lr\n",
    "\n",
    "    SEMILLA = 6191\n",
    "    M_SELECT = \"RF\"\n",
    "    M_CLASIF = \"LR_L2\"\n",
    "    param_distributions = {'selector__max_features': [1000], 'selector__estimator__n_estimators': [200], \n",
    "        'clasifier__solver': ['lbfgs'], 'clasifier__penalty': ['l2'], 'clasifier__max_iter': [10000]}\n",
    "\n",
    "elif M_TIPO.startswith(\"mul_m\"):\n",
    "    myfunc.verbose(f\"Utilizando parámetros de {M_TIPO}\")\n",
    " \n",
    "    eval_selector = eval_selector_rf\n",
    "    eval_clasifier = eval_clasifier_lr\n",
    "\n",
    "    SEMILLA = 6191\n",
    "    M_SELECT = \"RF\"\n",
    "    M_CLASIF = \"LR_L2\"\n",
    "    param_distributions = {'selector__max_features': [1000], 'selector__estimator__n_estimators': [400], \n",
    "        'clasifier__solver': ['lbfgs'], 'clasifier__penalty': ['l2'], 'clasifier__max_iter': [10000]}\n",
    "\n",
    "else:\n",
    "    # M_TIPO.startswith(\"mul_s\"):\n",
    "    myfunc.verbose(f\"Utilizando parámetros de {M_TIPO}\")\n",
    "    eval_selector = eval_selector_anova\n",
    "    eval_clasifier = eval_clasifier_lr\n",
    "\n",
    "    SEMILLA = 1860\n",
    "    M_SELECT = \"ANOVA\"\n",
    "    M_CLASIF = \"LR_L2\"\n",
    "    param_distributions = {'selector__k': [1000], \n",
    "        'clasifier__solver': ['saga'], 'clasifier__penalty': ['l2'], 'clasifier__max_iter': [10000]}\n",
    "\n"
   ]
  },
  {
   "cell_type": "code",
   "execution_count": 3,
   "id": "17354e8d",
   "metadata": {
    "execution": {
     "iopub.execute_input": "2023-10-30T14:52:01.976202Z",
     "iopub.status.busy": "2023-10-30T14:52:01.976012Z",
     "iopub.status.idle": "2023-10-30T14:52:01.979332Z",
     "shell.execute_reply": "2023-10-30T14:52:01.978918Z"
    },
    "papermill": {
     "duration": 0.007595,
     "end_time": "2023-10-30T14:52:01.980535",
     "exception": false,
     "start_time": "2023-10-30T14:52:01.972940",
     "status": "completed"
    },
    "tags": [
     "injected-parameters"
    ]
   },
   "outputs": [],
   "source": [
    "# Parameters\n",
    "M_TIPO = \"mul_m\"\n",
    "M_SELECT = \"MI\"\n",
    "M_CLASIF = \"LR_L1\"\n",
    "P_FICHERO = \"param_0000_6390_mul_m_MI_LR_L1.yaml\"\n",
    "R_FICHERO = \"resultados_6390\"\n",
    "M_FICHERO = \"metricas_6390\"\n",
    "PRE_DATA_FILE = \"rows_transpose_norm_by_gene_id_with_target_num_\"\n",
    "SCORING = \"roc_auc_ovr\"\n",
    "SEMILLA = 6390\n",
    "MAX_ITERS = 500\n",
    "eval_selector = \"SelectKBest(score_func=mutual_info_classif_state)\"\n",
    "eval_clasifier = \"LogisticRegressionCV(random_state=SEMILLA)\"\n",
    "param_distributions = {\n",
    "    \"selector__k\": [1000],\n",
    "    \"clasifier__solver\": [\"saga\"],\n",
    "    \"clasifier__penalty\": [\"l1\"],\n",
    "    \"clasifier__max_iter\": [10000],\n",
    "}\n"
   ]
  },
  {
   "cell_type": "code",
   "execution_count": 4,
   "id": "a8daf212",
   "metadata": {
    "execution": {
     "iopub.execute_input": "2023-10-30T14:52:01.986557Z",
     "iopub.status.busy": "2023-10-30T14:52:01.986379Z",
     "iopub.status.idle": "2023-10-30T14:52:01.989416Z",
     "shell.execute_reply": "2023-10-30T14:52:01.988909Z"
    },
    "papermill": {
     "duration": 0.007383,
     "end_time": "2023-10-30T14:52:01.990646",
     "exception": false,
     "start_time": "2023-10-30T14:52:01.983263",
     "status": "completed"
    },
    "tags": []
   },
   "outputs": [],
   "source": [
    "DATA_FILE = PRE_DATA_FILE + M_TIPO\n",
    "\n",
    "# si viene \"None\" en el parámetro max_depth, se le quitan las comillas para que no sea entendido por el algoritmo como un texto\n",
    "if \"clasifier__max_depth\" in param_distributions:\n",
    "    param_distributions['clasifier__max_depth'] = [None if x == 'None' else x for x in param_distributions['clasifier__max_depth']]"
   ]
  },
  {
   "cell_type": "markdown",
   "id": "32b483d5",
   "metadata": {
    "papermill": {
     "duration": 0.00263,
     "end_time": "2023-10-30T14:52:01.996035",
     "exception": false,
     "start_time": "2023-10-30T14:52:01.993405",
     "status": "completed"
    },
    "tags": []
   },
   "source": [
    "Asignar los algoritmos que se utilizarán en la función RandomSearchCV"
   ]
  },
  {
   "cell_type": "code",
   "execution_count": 5,
   "id": "9d08936d",
   "metadata": {
    "execution": {
     "iopub.execute_input": "2023-10-30T14:52:02.001854Z",
     "iopub.status.busy": "2023-10-30T14:52:02.001702Z",
     "iopub.status.idle": "2023-10-30T14:52:02.004358Z",
     "shell.execute_reply": "2023-10-30T14:52:02.003897Z"
    },
    "papermill": {
     "duration": 0.006938,
     "end_time": "2023-10-30T14:52:02.005594",
     "exception": false,
     "start_time": "2023-10-30T14:52:01.998656",
     "status": "completed"
    },
    "tags": []
   },
   "outputs": [],
   "source": [
    "algor_selector=eval(eval_selector)\n",
    "algor_clasifier=eval(eval_clasifier)"
   ]
  },
  {
   "cell_type": "markdown",
   "id": "b2f73337",
   "metadata": {
    "papermill": {
     "duration": 0.002698,
     "end_time": "2023-10-30T14:52:02.011131",
     "exception": false,
     "start_time": "2023-10-30T14:52:02.008433",
     "status": "completed"
    },
    "tags": []
   },
   "source": [
    "#### Comprobar el entorno y leer fichero de muestras"
   ]
  },
  {
   "cell_type": "code",
   "execution_count": 6,
   "id": "2c790122",
   "metadata": {
    "execution": {
     "iopub.execute_input": "2023-10-30T14:52:02.017028Z",
     "iopub.status.busy": "2023-10-30T14:52:02.016867Z",
     "iopub.status.idle": "2023-10-30T14:52:02.172586Z",
     "shell.execute_reply": "2023-10-30T14:52:02.171996Z"
    },
    "papermill": {
     "duration": 0.160126,
     "end_time": "2023-10-30T14:52:02.173889",
     "exception": false,
     "start_time": "2023-10-30T14:52:02.013763",
     "status": "completed"
    },
    "tags": []
   },
   "outputs": [
    {
     "name": "stdout",
     "output_type": "stream",
     "text": [
      "20231030T155202 : amilcar22 : INFO : Encontrada carpeta DATA_DIR=../tfm_git/datos\n",
      "20231030T155202 : amilcar22 : INFO : Encontrada carpeta CFDNA_DIR=../tfm_git/datos/cfDNA_5hmC\n",
      "20231030T155202 : amilcar22 : INFO : Encontrada carpeta GENCODE_DIR=../tfm_git/datos/gencode\n",
      "20231030T155202 : amilcar22 : INFO : Encontrada carpeta H5_DIR=../tfm_git/datos/h5\n",
      "20231030T155202 : amilcar22 : INFO : Encontrada carpeta LOG_DIR=../tfm_git/datos/logs\n",
      "20231030T155202 : amilcar22 : INFO : Encontrada carpeta CSV_DIR=../tfm_git/datos/csv\n",
      "20231030T155202 : amilcar22 : INFO : Encontrada carpeta MODEL_DIR=../tfm_git/ejecuciones/modelos\n",
      "20231030T155202 : amilcar22 : INFO : Encontrada carpeta EXEC_DIR=../tfm_git/ejecuciones\n",
      "20231030T155202 : amilcar22 : INFO : Encontrada carpeta MET_DIR=../tfm_git/ejecuciones/metricas\n",
      "20231030T155202 : amilcar22 : INFO : Inicio leer fichero h5 ../tfm_git/datos/h5/rows_transpose_norm_by_gene_id_with_target_num_mul_m.h5\n",
      "20231030T155202 : amilcar22 : INFO : Leyendo clave /df\n",
      "20231030T155202 : amilcar22 : INFO : Tamaño (434, 18876)\n",
      "20231030T155202 : amilcar22 : INFO : Fin leer fichero h5 ../tfm_git/datos/h5/rows_transpose_norm_by_gene_id_with_target_num_mul_m.h5\n"
     ]
    },
    {
     "data": {
      "text/plain": [
       "target\n",
       "0    62\n",
       "1    62\n",
       "2    62\n",
       "3    62\n",
       "4    62\n",
       "5    62\n",
       "6    62\n",
       "dtype: int64"
      ]
     },
     "metadata": {},
     "output_type": "display_data"
    },
    {
     "name": "stdout",
     "output_type": "stream",
     "text": [
      "Shape df: (434, 18876)\n"
     ]
    },
    {
     "name": "stdout",
     "output_type": "stream",
     "text": [
      "Shape X_train: (347, 18875)\n",
      "Shape X_test: (87, 18875)\n"
     ]
    }
   ],
   "source": [
    "start_time = datetime.datetime.now()\n",
    "\n",
    "myfunc.reset_vars()\n",
    "\n",
    "myfunc.NOTEBK_FILENAME = myfunc.get_nb_name()\n",
    "\n",
    "myfunc.check_enviroment(myfunc.DATA_DIR, myfunc.CFDNA_DIR, myfunc.GENCODE_DIR, myfunc.H5_DIR, myfunc.LOG_DIR, myfunc.CSV_DIR, myfunc.MODEL_DIR, myfunc.EXEC_DIR, myfunc.MET_DIR)\n",
    "\n",
    "# Leer fichero con las muestras\n",
    "df_t = myfunc.read_h5_to_df(DATA_FILE, myfunc.H5_DIR)\n",
    "display(df_t.groupby(\"target\").size())\n",
    "print(\"Shape df:\",df_t.shape)\n",
    "\n",
    "# Separar caracteristicas/genes de las etiquetas/tipos de cáncer\n",
    "X = df_t.iloc[:, :-1]  # Todas las columnas excepto la última\n",
    "y = df_t.iloc[:, -1]  # La última columna contiene los identificadores de los tipos de cáncer\n",
    "\n",
    "#  Crear el conjunto de datos de entrenamiento y de pruebas, y se fija la semilla para siempre coger el mismo juego de muestras\n",
    "X_train, X_test, y_train, y_test = train_test_split(X, y, test_size=0.2, shuffle=True, random_state=42)\n",
    "print(\"Shape X_train:\",X_train.shape)\n",
    "print(\"Shape X_test:\",X_test.shape)\n"
   ]
  },
  {
   "cell_type": "markdown",
   "id": "f52acdf2",
   "metadata": {
    "papermill": {
     "duration": 0.002715,
     "end_time": "2023-10-30T14:52:02.179898",
     "exception": false,
     "start_time": "2023-10-30T14:52:02.177183",
     "status": "completed"
    },
    "tags": []
   },
   "source": [
    "#### Selección de características y clasificación."
   ]
  },
  {
   "cell_type": "code",
   "execution_count": 7,
   "id": "ce24f902",
   "metadata": {
    "execution": {
     "iopub.execute_input": "2023-10-30T14:52:02.186319Z",
     "iopub.status.busy": "2023-10-30T14:52:02.186138Z",
     "iopub.status.idle": "2023-10-30T15:24:34.047573Z",
     "shell.execute_reply": "2023-10-30T15:24:34.046901Z"
    },
    "papermill": {
     "duration": 1951.868749,
     "end_time": "2023-10-30T15:24:34.051452",
     "exception": false,
     "start_time": "2023-10-30T14:52:02.182703",
     "status": "completed"
    },
    "tags": []
   },
   "outputs": [
    {
     "name": "stdout",
     "output_type": "stream",
     "text": [
      "20231030T155202 : amilcar22 : INFO : Iniciando entrenamiento\n",
      "num_iter: 1 , max_iter: 1\n",
      "Fitting 5 folds for each of 1 candidates, totalling 5 fits\n"
     ]
    },
    {
     "name": "stdout",
     "output_type": "stream",
     "text": [
      "[CV 4/5] END clasifier__max_iter=10000, clasifier__penalty=l1, clasifier__solver=saga, selector__k=1000;, score=0.892 total time=13.5min\n"
     ]
    },
    {
     "name": "stdout",
     "output_type": "stream",
     "text": [
      "[CV 1/5] END clasifier__max_iter=10000, clasifier__penalty=l1, clasifier__solver=saga, selector__k=1000;, score=0.804 total time=13.6min\n"
     ]
    },
    {
     "name": "stdout",
     "output_type": "stream",
     "text": [
      "[CV 2/5] END clasifier__max_iter=10000, clasifier__penalty=l1, clasifier__solver=saga, selector__k=1000;, score=0.832 total time=16.2min\n"
     ]
    },
    {
     "name": "stdout",
     "output_type": "stream",
     "text": [
      "[CV 3/5] END clasifier__max_iter=10000, clasifier__penalty=l1, clasifier__solver=saga, selector__k=1000;, score=0.862 total time=16.4min\n"
     ]
    },
    {
     "name": "stdout",
     "output_type": "stream",
     "text": [
      "[CV 5/5] END clasifier__max_iter=10000, clasifier__penalty=l1, clasifier__solver=saga, selector__k=1000;, score=0.891 total time=17.5min\n"
     ]
    },
    {
     "name": "stdout",
     "output_type": "stream",
     "text": [
      "Mejores Hiperparámetros: {'selector__k': 1000, 'clasifier__solver': 'saga', 'clasifier__penalty': 'l1', 'clasifier__max_iter': 10000}\n",
      "Mejor Puntuación: 0.8564\n",
      "20231030T162434 : amilcar22 : INFO : Fin entrenamiento\n"
     ]
    }
   ],
   "source": [
    "myfunc.verbose(\"Iniciando entrenamiento\")\n",
    "\n",
    "kf = KFold(n_splits=5, shuffle=True, random_state=SEMILLA)\n",
    "\n",
    "# Crear el pipeline para el flujo de tareas\n",
    "tasks_pipeline = Pipeline([\n",
    "    ('selector', algor_selector),\n",
    "    ('clasifier', algor_clasifier)\n",
    "])\n",
    "\n",
    "# MAX_ITERS puede limitar el número de iteraciones si son excesivas para las combinaciones de parámetros buscando un óptimo local, \n",
    "# sino funcionaría como GridSearchCV al revisar todas las cominaciones de los parámetros\n",
    "num_iteraciones = 1\n",
    "num_iteraciones = num_iteraciones * np.prod([len(elemento1) for _, elemento1 in param_distributions.items()])\n",
    "max_iteraciones = num_iteraciones if num_iteraciones <= MAX_ITERS else MAX_ITERS\n",
    "print(\"num_iter:\",num_iteraciones,\", max_iter:\",max_iteraciones)\n",
    "\n",
    "random_search = RandomizedSearchCV(\n",
    "    tasks_pipeline, \n",
    "    param_distributions, \n",
    "    n_iter=max_iteraciones,\n",
    "    scoring=SCORING,\n",
    "    cv=kf,\n",
    "    verbose=3, \n",
    "    random_state=SEMILLA, \n",
    "    n_jobs=-1\n",
    "    )\n",
    "\n",
    "# Entrenar el modelo\n",
    "random_search.fit(X_train, y_train)\n",
    "\n",
    "# Ver los mejores hiperparámetros encontrados\n",
    "print(f'Mejores Hiperparámetros: {random_search.best_params_}')\n",
    "print(f'Mejor Puntuación: {random_search.best_score_:.4f}')\n",
    "\n",
    "# Nos quedamos con el mejor modelo para ver las métricas\n",
    "mejor_modelo = random_search.best_estimator_\n",
    "\n",
    "myfunc.verbose(\"Fin entrenamiento\")"
   ]
  },
  {
   "cell_type": "markdown",
   "id": "6f9e960e",
   "metadata": {
    "papermill": {
     "duration": 0.003086,
     "end_time": "2023-10-30T15:24:34.057786",
     "exception": false,
     "start_time": "2023-10-30T15:24:34.054700",
     "status": "completed"
    },
    "tags": []
   },
   "source": [
    "#### Guardar modelo"
   ]
  },
  {
   "cell_type": "code",
   "execution_count": 8,
   "id": "64605695",
   "metadata": {
    "execution": {
     "iopub.execute_input": "2023-10-30T15:24:34.065042Z",
     "iopub.status.busy": "2023-10-30T15:24:34.064832Z",
     "iopub.status.idle": "2023-10-30T15:24:34.074745Z",
     "shell.execute_reply": "2023-10-30T15:24:34.074177Z"
    },
    "papermill": {
     "duration": 0.015096,
     "end_time": "2023-10-30T15:24:34.076053",
     "exception": false,
     "start_time": "2023-10-30T15:24:34.060957",
     "status": "completed"
    },
    "tags": []
   },
   "outputs": [
    {
     "name": "stdout",
     "output_type": "stream",
     "text": [
      "20231030T162434 : amilcar22 : INFO : Inicio guardar fichero ../tfm_git/ejecuciones/modelos/modelo_6390_mul_m_MI_LR_L1.pkl\n",
      "20231030T162434 : amilcar22 : INFO : Fin guardar fichero ../tfm_git/ejecuciones/modelos/modelo_6390_mul_m_MI_LR_L1.pkl\n"
     ]
    }
   ],
   "source": [
    "fichero_modelo = str.replace(\"modelo_\"+str(SEMILLA).zfill(4)+\"_\"+M_TIPO+\"_\"+M_SELECT+\"_\"+M_CLASIF+\".pkl\", \" \", \"_\")\n",
    "\n",
    "myfunc.save_modelo(mejor_modelo, myfunc.MODEL_DIR, fichero_modelo)"
   ]
  },
  {
   "cell_type": "markdown",
   "id": "ca05cabf",
   "metadata": {
    "papermill": {
     "duration": 0.003242,
     "end_time": "2023-10-30T15:24:34.082852",
     "exception": false,
     "start_time": "2023-10-30T15:24:34.079610",
     "status": "completed"
    },
    "tags": []
   },
   "source": [
    "#### Ver resultados del las iteraciones hechas por RandomSearchCV"
   ]
  },
  {
   "cell_type": "code",
   "execution_count": 9,
   "id": "9c4c02aa",
   "metadata": {
    "execution": {
     "iopub.execute_input": "2023-10-30T15:24:34.089947Z",
     "iopub.status.busy": "2023-10-30T15:24:34.089748Z",
     "iopub.status.idle": "2023-10-30T15:24:34.095546Z",
     "shell.execute_reply": "2023-10-30T15:24:34.095127Z"
    },
    "papermill": {
     "duration": 0.010779,
     "end_time": "2023-10-30T15:24:34.096743",
     "exception": false,
     "start_time": "2023-10-30T15:24:34.085964",
     "status": "completed"
    },
    "tags": []
   },
   "outputs": [
    {
     "name": "stdout",
     "output_type": "stream",
     "text": [
      "20231030T162434 : amilcar22 : INFO : Inicio ver resultados\n",
      "Mejores Hiperparámetros: {'selector__k': 1000, 'clasifier__solver': 'saga', 'clasifier__penalty': 'l1', 'clasifier__max_iter': 10000}\n",
      "Mejores puntuaciones: 0.8564 | Params: {'selector__k': 1000, 'clasifier__solver': 'saga', 'clasifier__penalty': 'l1', 'clasifier__max_iter': 10000}\n",
      "Media de las puntuaciones: 0.8564 | Params: {'selector__k': 1000, 'clasifier__solver': 'saga', 'clasifier__penalty': 'l1', 'clasifier__max_iter': 10000}\n",
      "20231030T162434 : amilcar22 : INFO : Fin resultados\n"
     ]
    }
   ],
   "source": [
    "myfunc.ver_resultados_search(random_search)"
   ]
  },
  {
   "cell_type": "markdown",
   "id": "d08b1cfe",
   "metadata": {
    "papermill": {
     "duration": 0.003344,
     "end_time": "2023-10-30T15:24:34.103516",
     "exception": false,
     "start_time": "2023-10-30T15:24:34.100172",
     "status": "completed"
    },
    "tags": []
   },
   "source": [
    "#### Ver métricas del mejor modelo"
   ]
  },
  {
   "cell_type": "code",
   "execution_count": 10,
   "id": "02917de2",
   "metadata": {
    "execution": {
     "iopub.execute_input": "2023-10-30T15:24:34.110909Z",
     "iopub.status.busy": "2023-10-30T15:24:34.110701Z",
     "iopub.status.idle": "2023-10-30T15:24:34.704386Z",
     "shell.execute_reply": "2023-10-30T15:24:34.703924Z"
    },
    "papermill": {
     "duration": 0.598951,
     "end_time": "2023-10-30T15:24:34.705735",
     "exception": false,
     "start_time": "2023-10-30T15:24:34.106784",
     "status": "completed"
    },
    "tags": []
   },
   "outputs": [
    {
     "name": "stdout",
     "output_type": "stream",
     "text": [
      "20231030T162434 : amilcar22 : INFO : Inicio ver métricas multiclase\n"
     ]
    },
    {
     "name": "stdout",
     "output_type": "stream",
     "text": [
      "              precision    recall  f1-score   support\n",
      "\n",
      "           0       0.67      0.50      0.57        16\n",
      "           1       0.82      0.60      0.69        15\n",
      "           2       0.50      0.45      0.48        11\n",
      "           3       0.62      1.00      0.77         5\n",
      "           4       0.53      0.62      0.57        13\n",
      "           5       0.67      0.67      0.67         9\n",
      "           6       0.55      0.67      0.60        18\n",
      "\n",
      "    accuracy                           0.61        87\n",
      "   macro avg       0.62      0.64      0.62        87\n",
      "weighted avg       0.62      0.61      0.61        87\n",
      "\n",
      "\n",
      "\n",
      "           Exactitud: 0.609195\n",
      "   Precisión (media): 0.622186\n",
      "      Recall (media): 0.643323\n",
      "    F1-score (media): 0.621036\n",
      "\n",
      "\n",
      "AUC para el tipo de cáncer 0-Control.... 0.8847\n",
      "AUC para el tipo de cáncer 1-Bladder.... 0.8852\n",
      "AUC para el tipo de cáncer 2-Breast..... 0.8409\n",
      "AUC para el tipo de cáncer 3-Colorectal. 0.9927\n",
      "AUC para el tipo de cáncer 4-Kidney..... 0.8389\n",
      "AUC para el tipo de cáncer 5-Lung....... 0.9815\n",
      "AUC para el tipo de cáncer 6-Prostate... 0.8744\n"
     ]
    },
    {
     "name": "stdout",
     "output_type": "stream",
     "text": [
      "\n",
      "Media de AUC: 0.8997\n"
     ]
    },
    {
     "data": {
      "image/png": "[encoded data removed]",
      "text/plain": [
       "<Figure size 1000x600 with 1 Axes>"
      ]
     },
     "metadata": {},
     "output_type": "display_data"
    },
    {
     "name": "stdout",
     "output_type": "stream",
     "text": [
      "\n",
      "\n"
     ]
    },
    {
     "data": {
      "image/png": "[encoded data removed]",
      "text/plain": [
       "<Figure size 800x400 with 2 Axes>"
      ]
     },
     "metadata": {},
     "output_type": "display_data"
    },
    {
     "name": "stdout",
     "output_type": "stream",
     "text": [
      "\n",
      "\n",
      "Puntuación Jaccard para el cáncer tipo 0-Control.... 0.4000\n",
      "Puntuación Jaccard para el cáncer tipo 1-Bladder.... 0.5294\n",
      "Puntuación Jaccard para el cáncer tipo 2-Breast..... 0.3125\n",
      "Puntuación Jaccard para el cáncer tipo 3-Colorectal. 0.6250\n",
      "Puntuación Jaccard para el cáncer tipo 4-Kidney..... 0.4000\n",
      "Puntuación Jaccard para el cáncer tipo 5-Lung....... 0.5000\n",
      "Puntuación Jaccard para el cáncer tipo 6-Prostate... 0.4286\n",
      "\n",
      "Media de la puntuación de Jaccard: 0.4565\n"
     ]
    }
   ],
   "source": [
    "if M_TIPO.startswith(\"bin\"):\n",
    "    myfunc.ver_metricas(mejor_modelo, X_test, y_test)\n",
    "else:\n",
    "    myfunc.ver_metricas_multi(mejor_modelo, X_test, y_test)\n"
   ]
  },
  {
   "cell_type": "markdown",
   "id": "51eea5ff",
   "metadata": {
    "papermill": {
     "duration": 0.004384,
     "end_time": "2023-10-30T15:24:34.715010",
     "exception": false,
     "start_time": "2023-10-30T15:24:34.710626",
     "status": "completed"
    },
    "tags": []
   },
   "source": [
    "#### Finalización del notebook"
   ]
  },
  {
   "cell_type": "code",
   "execution_count": 11,
   "id": "8b1fcd0f",
   "metadata": {
    "execution": {
     "iopub.execute_input": "2023-10-30T15:24:34.724459Z",
     "iopub.status.busy": "2023-10-30T15:24:34.724256Z",
     "iopub.status.idle": "2023-10-30T15:24:34.727483Z",
     "shell.execute_reply": "2023-10-30T15:24:34.727067Z"
    },
    "papermill": {
     "duration": 0.009317,
     "end_time": "2023-10-30T15:24:34.728594",
     "exception": false,
     "start_time": "2023-10-30T15:24:34.719277",
     "status": "completed"
    },
    "tags": []
   },
   "outputs": [
    {
     "name": "stdout",
     "output_type": "stream",
     "text": [
      "20231030T162434 : amilcar22 : INFO : Notebook ha tardado 1952 seconds\n"
     ]
    }
   ],
   "source": [
    "end_time = datetime.datetime.now()\n",
    "total_time = end_time - start_time\n",
    "myfunc.verbose(f\"Notebook ha tardado {total_time.seconds} seconds\")"
   ]
  },
  {
   "cell_type": "markdown",
   "id": "bdc4045f",
   "metadata": {
    "papermill": {
     "duration": 0.004266,
     "end_time": "2023-10-30T15:24:34.737400",
     "exception": false,
     "start_time": "2023-10-30T15:24:34.733134",
     "status": "completed"
    },
    "tags": []
   },
   "source": [
    "#### Guardar métricas"
   ]
  },
  {
   "cell_type": "code",
   "execution_count": 12,
   "id": "56ca7778",
   "metadata": {
    "execution": {
     "iopub.execute_input": "2023-10-30T15:24:34.746874Z",
     "iopub.status.busy": "2023-10-30T15:24:34.746698Z",
     "iopub.status.idle": "2023-10-30T15:24:34.933462Z",
     "shell.execute_reply": "2023-10-30T15:24:34.932956Z"
    },
    "papermill": {
     "duration": 0.194125,
     "end_time": "2023-10-30T15:24:34.935807",
     "exception": false,
     "start_time": "2023-10-30T15:24:34.741682",
     "status": "completed"
    },
    "tags": []
   },
   "outputs": [
    {
     "name": "stdout",
     "output_type": "stream",
     "text": [
      "20231030T162434 : amilcar22 : INFO : Inicio guardar métricas multiclase\n",
      "20231030T162434 : amilcar22 : INFO : Inicio leer fichero ../tfm_git/ejecuciones/metricas/metricas_6390.csv\n",
      "20231030T162434 : amilcar22 : INFO : Fin leer fichero ../tfm_git/ejecuciones/metricas/metricas_6390.csv\n"
     ]
    },
    {
     "name": "stdout",
     "output_type": "stream",
     "text": [
      "20231030T162434 : amilcar22 : INFO : Inicio guardar fichero ../tfm_git/ejecuciones/metricas/metricas_6390.csv\n",
      "20231030T162434 : amilcar22 : INFO : Fichero borrado ../tfm_git/ejecuciones/metricas/metricas_6390.csv\n",
      "20231030T162434 : amilcar22 : INFO : Fin guardar fichero ../tfm_git/ejecuciones/metricas/metricas_6390.csv\n",
      "20231030T162434 : amilcar22 : INFO : Fin guardar métricas multiclase\n",
      "20231030T162434 : amilcar22 : INFO : Inicio leer fichero ../tfm_git/ejecuciones/metricas/metricas_6390.csv\n",
      "20231030T162434 : amilcar22 : INFO : Fin leer fichero ../tfm_git/ejecuciones/metricas/metricas_6390.csv\n"
     ]
    },
    {
     "data": {
      "text/html": [
       "<div>\n",
       "<style scoped>\n",
       "    .dataframe tbody tr th:only-of-type {\n",
       "        vertical-align: middle;\n",
       "    }\n",
       "\n",
       "    .dataframe tbody tr th {\n",
       "        vertical-align: top;\n",
       "    }\n",
       "\n",
       "    .dataframe thead th {\n",
       "        text-align: right;\n",
       "    }\n",
       "</style>\n",
       "<table border=\"1\" class=\"dataframe\">\n",
       "  <thead>\n",
       "    <tr style=\"text-align: right;\">\n",
       "      <th></th>\n",
       "      <th>tipo</th>\n",
       "      <th>select</th>\n",
       "      <th>clasific</th>\n",
       "      <th>semilla</th>\n",
       "      <th>accuracy</th>\n",
       "      <th>precision</th>\n",
       "      <th>recall</th>\n",
       "      <th>f1_score</th>\n",
       "      <th>roc_auc</th>\n",
       "      <th>hostname</th>\n",
       "      <th>total_time_sec</th>\n",
       "      <th>datetime</th>\n",
       "      <th>fichero_modelo</th>\n",
       "      <th>params</th>\n",
       "      <th>shape</th>\n",
       "      <th>features</th>\n",
       "      <th>roc_auc_ovr</th>\n",
       "      <th>indices_auc</th>\n",
       "      <th>indices_jaccard</th>\n",
       "    </tr>\n",
       "  </thead>\n",
       "  <tbody>\n",
       "    <tr>\n",
       "      <th>0</th>\n",
       "      <td>mul_m</td>\n",
       "      <td>MI</td>\n",
       "      <td>LR_L1</td>\n",
       "      <td>6390</td>\n",
       "      <td>0.609195</td>\n",
       "      <td>0.622186</td>\n",
       "      <td>0.643323</td>\n",
       "      <td>0.621036</td>\n",
       "      <td>NaN</td>\n",
       "      <td>amilcar22</td>\n",
       "      <td>1952</td>\n",
       "      <td>2023-10-30 16:24:34.904690</td>\n",
       "      <td>modelo_6390_mul_m_MI_LR_L1.pkl</td>\n",
       "      <td>{'selector__k': 1000, 'clasifier__solver': 'sa...</td>\n",
       "      <td>X_test:(87, 18875)</td>\n",
       "      <td>['ENSG00000001084.13', 'ENSG00000001460.18', '...</td>\n",
       "      <td>0.899745</td>\n",
       "      <td>[0.8846830985915493, 0.8851851851851852, 0.840...</td>\n",
       "      <td>[0.4, 0.5294117647058824, 0.3125, 0.625, 0.4, ...</td>\n",
       "    </tr>\n",
       "    <tr>\n",
       "      <th>0</th>\n",
       "      <td>mul_m</td>\n",
       "      <td>MI</td>\n",
       "      <td>LR_EN</td>\n",
       "      <td>6390</td>\n",
       "      <td>0.620690</td>\n",
       "      <td>0.626777</td>\n",
       "      <td>0.658601</td>\n",
       "      <td>0.632331</td>\n",
       "      <td>NaN</td>\n",
       "      <td>amilcar22</td>\n",
       "      <td>1789</td>\n",
       "      <td>2023-10-30 15:51:55.958749</td>\n",
       "      <td>modelo_6390_mul_m_MI_LR_EN.pkl</td>\n",
       "      <td>{'selector__k': 1000, 'clasifier__solver': 'sa...</td>\n",
       "      <td>X_test:(87, 18875)</td>\n",
       "      <td>['ENSG00000001084.13', 'ENSG00000001460.18', '...</td>\n",
       "      <td>0.900926</td>\n",
       "      <td>[0.8890845070422535, 0.8833333333333333, 0.843...</td>\n",
       "      <td>[0.45, 0.4444444444444444, 0.3125, 0.625, 0.42...</td>\n",
       "    </tr>\n",
       "    <tr>\n",
       "      <th>0</th>\n",
       "      <td>mul_m</td>\n",
       "      <td>ANOVA</td>\n",
       "      <td>SVM</td>\n",
       "      <td>6390</td>\n",
       "      <td>0.448276</td>\n",
       "      <td>0.466514</td>\n",
       "      <td>0.477284</td>\n",
       "      <td>0.454199</td>\n",
       "      <td>NaN</td>\n",
       "      <td>amilcar22</td>\n",
       "      <td>3</td>\n",
       "      <td>2023-10-30 15:22:00.673317</td>\n",
       "      <td>modelo_6390_mul_m_ANOVA_SVM.pkl</td>\n",
       "      <td>{'selector__k': 500, 'clasifier__kernel': 'rbf...</td>\n",
       "      <td>X_test:(87, 18875)</td>\n",
       "      <td>['ENSG00000000938.13', 'ENSG00000004660.15', '...</td>\n",
       "      <td>0.815873</td>\n",
       "      <td>[0.7130281690140845, 0.8833333333333334, 0.581...</td>\n",
       "      <td>[0.17391304347826086, 0.42105263157894735, 0.1...</td>\n",
       "    </tr>\n",
       "  </tbody>\n",
       "</table>\n",
       "</div>"
      ],
      "text/plain": [
       "    tipo select clasific  semilla  accuracy  precision    recall  f1_score  \\\n",
       "0  mul_m     MI    LR_L1     6390  0.609195   0.622186  0.643323  0.621036   \n",
       "0  mul_m     MI    LR_EN     6390  0.620690   0.626777  0.658601  0.632331   \n",
       "0  mul_m  ANOVA      SVM     6390  0.448276   0.466514  0.477284  0.454199   \n",
       "\n",
       "   roc_auc   hostname  total_time_sec                    datetime  \\\n",
       "0      NaN  amilcar22            1952  2023-10-30 16:24:34.904690   \n",
       "0      NaN  amilcar22            1789  2023-10-30 15:51:55.958749   \n",
       "0      NaN  amilcar22               3  2023-10-30 15:22:00.673317   \n",
       "\n",
       "                    fichero_modelo  \\\n",
       "0   modelo_6390_mul_m_MI_LR_L1.pkl   \n",
       "0   modelo_6390_mul_m_MI_LR_EN.pkl   \n",
       "0  modelo_6390_mul_m_ANOVA_SVM.pkl   \n",
       "\n",
       "                                              params               shape  \\\n",
       "0  {'selector__k': 1000, 'clasifier__solver': 'sa...  X_test:(87, 18875)   \n",
       "0  {'selector__k': 1000, 'clasifier__solver': 'sa...  X_test:(87, 18875)   \n",
       "0  {'selector__k': 500, 'clasifier__kernel': 'rbf...  X_test:(87, 18875)   \n",
       "\n",
       "                                            features  roc_auc_ovr  \\\n",
       "0  ['ENSG00000001084.13', 'ENSG00000001460.18', '...     0.899745   \n",
       "0  ['ENSG00000001084.13', 'ENSG00000001460.18', '...     0.900926   \n",
       "0  ['ENSG00000000938.13', 'ENSG00000004660.15', '...     0.815873   \n",
       "\n",
       "                                         indices_auc  \\\n",
       "0  [0.8846830985915493, 0.8851851851851852, 0.840...   \n",
       "0  [0.8890845070422535, 0.8833333333333333, 0.843...   \n",
       "0  [0.7130281690140845, 0.8833333333333334, 0.581...   \n",
       "\n",
       "                                     indices_jaccard  \n",
       "0  [0.4, 0.5294117647058824, 0.3125, 0.625, 0.4, ...  \n",
       "0  [0.45, 0.4444444444444444, 0.3125, 0.625, 0.42...  \n",
       "0  [0.17391304347826086, 0.42105263157894735, 0.1...  "
      ]
     },
     "metadata": {},
     "output_type": "display_data"
    }
   ],
   "source": [
    "if M_TIPO.startswith(\"bin\"):\n",
    "    myfunc.save_metricas_to_csv(random_search, X_test, y_test, M_TIPO, M_SELECT, M_CLASIF, total_time, SEMILLA, myfunc.MET_DIR, M_FICHERO, fichero_modelo)\n",
    "else:\n",
    "    myfunc.save_metricas_multi_to_csv(random_search, X_test, y_test, M_TIPO, M_SELECT, M_CLASIF, total_time, SEMILLA, myfunc.MET_DIR, M_FICHERO, fichero_modelo)\n",
    "\n",
    "df1=myfunc.read_metricas_to_df(myfunc.MET_DIR,M_FICHERO)\n",
    "\n",
    "display(df1.sort_values(\"datetime\", ascending=False)[:3])\n"
   ]
  },
  {
   "cell_type": "markdown",
   "id": "220f3e41",
   "metadata": {
    "papermill": {
     "duration": 0.010184,
     "end_time": "2023-10-30T15:24:34.956887",
     "exception": false,
     "start_time": "2023-10-30T15:24:34.946703",
     "status": "completed"
    },
    "tags": []
   },
   "source": [
    "#### Guardar resultados"
   ]
  },
  {
   "cell_type": "code",
   "execution_count": 13,
   "id": "c088e535",
   "metadata": {
    "execution": {
     "iopub.execute_input": "2023-10-30T15:24:34.973253Z",
     "iopub.status.busy": "2023-10-30T15:24:34.973036Z",
     "iopub.status.idle": "2023-10-30T15:24:34.981376Z",
     "shell.execute_reply": "2023-10-30T15:24:34.980790Z"
    },
    "papermill": {
     "duration": 0.015879,
     "end_time": "2023-10-30T15:24:34.982668",
     "exception": false,
     "start_time": "2023-10-30T15:24:34.966789",
     "status": "completed"
    },
    "tags": []
   },
   "outputs": [
    {
     "name": "stdout",
     "output_type": "stream",
     "text": [
      "20231030T162434 : amilcar22 : INFO : Inicio guardar resultados\n",
      "20231030T162434 : amilcar22 : INFO : Inicio guardar fichero ../tfm_git/ejecuciones/metricas/resultados_6390_mul_m-MI-LR_L1.csv\n",
      "20231030T162434 : amilcar22 : INFO : Fin guardar fichero ../tfm_git/ejecuciones/metricas/resultados_6390_mul_m-MI-LR_L1.csv\n",
      "20231030T162434 : amilcar22 : INFO : Fin guardar resultados\n"
     ]
    }
   ],
   "source": [
    "fichero_resultados=R_FICHERO+\"_\"+M_TIPO+\"-\"+M_SELECT+\"-\"+M_CLASIF+\".csv\"\n",
    "myfunc.save_resultados_to_csv(M_TIPO, M_SELECT, M_CLASIF,  random_search, myfunc.MET_DIR, fichero_resultados)\n"
   ]
  }
 ],
 "metadata": {
  "kernelspec": {
   "display_name": "Python 3 (ipykernel)",
   "language": "python",
   "name": "python3"
  },
  "language_info": {
   "codemirror_mode": {
    "name": "ipython",
    "version": 3
   },
   "file_extension": ".py",
   "mimetype": "text/x-python",
   "name": "python",
   "nbconvert_exporter": "python",
   "pygments_lexer": "ipython3",
   "version": "3.10.12"
  },
  "papermill": {
   "default_parameters": {},
   "duration": 1957.446831,
   "end_time": "2023-10-30T15:24:37.607504",
   "environment_variables": {},
   "exception": null,
   "input_path": "03_entrenamiento.ipynb",
   "output_path": "ejecuciones/training/03_entrenamiento.20231030T155159.param_0000_6390_mul_m_MI_LR_L1.output.ipynb",
   "parameters": {
    "MAX_ITERS": 500,
    "M_CLASIF": "LR_L1",
    "M_FICHERO": "metricas_6390",
    "M_SELECT": "MI",
    "M_TIPO": "mul_m",
    "PRE_DATA_FILE": "rows_transpose_norm_by_gene_id_with_target_num_",
    "P_FICHERO": "param_0000_6390_mul_m_MI_LR_L1.yaml",
    "R_FICHERO": "resultados_6390",
    "SCORING": "roc_auc_ovr",
    "SEMILLA": 6390,
    "eval_clasifier": "LogisticRegressionCV(random_state=SEMILLA)",
    "eval_selector": "SelectKBest(score_func=mutual_info_classif_state)",
    "param_distributions": {
     "clasifier__max_iter": [
      10000
     ],
     "clasifier__penalty": [
      "l1"
     ],
     "clasifier__solver": [
      "saga"
     ],
     "selector__k": [
      1000
     ]
    }
   },
   "start_time": "2023-10-30T14:52:00.160673",
   "version": "2.4.0"
  }
 },
 "nbformat": 4,
 "nbformat_minor": 5
}