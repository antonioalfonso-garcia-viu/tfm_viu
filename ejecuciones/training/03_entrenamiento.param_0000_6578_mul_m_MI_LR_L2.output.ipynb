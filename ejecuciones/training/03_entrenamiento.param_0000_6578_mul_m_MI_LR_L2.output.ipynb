{
 "cells": [
  {
   "cell_type": "markdown",
   "id": "a71b8342",
   "metadata": {
    "papermill": {
     "duration": 0.007639,
     "end_time": "2023-10-30T16:33:28.679498",
     "exception": false,
     "start_time": "2023-10-30T16:33:28.671859",
     "status": "completed"
    },
    "tags": []
   },
   "source": [
    "##### Inicio"
   ]
  },
  {
   "cell_type": "markdown",
   "id": "9b06d29f",
   "metadata": {
    "papermill": {
     "duration": 0.003309,
     "end_time": "2023-10-30T16:33:28.686316",
     "exception": false,
     "start_time": "2023-10-30T16:33:28.683007",
     "status": "completed"
    },
    "tags": []
   },
   "source": [
    "#### Carga de datos"
   ]
  },
  {
   "cell_type": "code",
   "execution_count": 1,
   "id": "705d239b",
   "metadata": {
    "execution": {
     "iopub.execute_input": "2023-10-30T16:33:28.692969Z",
     "iopub.status.busy": "2023-10-30T16:33:28.691969Z",
     "iopub.status.idle": "2023-10-30T16:33:29.873297Z",
     "shell.execute_reply": "2023-10-30T16:33:29.873188Z"
    },
    "papermill": {
     "duration": 1.185981,
     "end_time": "2023-10-30T16:33:29.874298",
     "exception": false,
     "start_time": "2023-10-30T16:33:28.688317",
     "status": "completed"
    },
    "tags": []
   },
   "outputs": [
    {
     "name": "stdout",
     "output_type": "stream",
     "text": [
      "CPU_COUNT: 24; NODE: amilcar32; sys.version: 3.10.12 | packaged by Anaconda, Inc. | (main, Jul  5 2023, 19:09:20) [MSC v.1916 64 bit (AMD64)]\n",
      "LOKY_MAX_CPU_COUNT is not set.\n",
      "OMP_NUM_THREADS is not set.\n"
     ]
    }
   ],
   "source": [
    "import os\n",
    "import numpy as np\n",
    "import pandas as pd\n",
    "import datetime\n",
    "import sklearn\n",
    "import logging\n",
    "import warnings\n",
    "\n",
    "from sklearn.pipeline import Pipeline\n",
    "from sklearn.model_selection import RandomizedSearchCV, KFold, cross_val_score, train_test_split\n",
    "from sklearn.metrics import accuracy_score, confusion_matrix, classification_report, roc_auc_score\n",
    "\n",
    "#  cargar algoritmos para aprendizaje supervisado\n",
    "from sklearn.feature_selection import SelectKBest, f_classif, SelectFromModel, mutual_info_classif\n",
    "from sklearn.svm import SVC\n",
    "from sklearn.ensemble import RandomForestClassifier\n",
    "from sklearn.linear_model import LogisticRegression,LogisticRegressionCV\n",
    "\n",
    "# importar fichero con utilidades propias\n",
    "from commons import myfunctions as myfunc\n"
   ]
  },
  {
   "cell_type": "markdown",
   "id": "b993ff76",
   "metadata": {
    "papermill": {
     "duration": 0.001992,
     "end_time": "2023-10-30T16:33:29.879297",
     "exception": false,
     "start_time": "2023-10-30T16:33:29.877305",
     "status": "completed"
    },
    "tags": []
   },
   "source": [
    "#### Parámetros a utilizar en el entrenamiento.\n",
    "\n",
    "Se indican los 3 algoritmos de *selección de características* (eval_selector_xxx) y los 3 algoritmos para la _clasificación_ (eval_clasifier_xxx)\n",
    "\n",
    "En *param_distributions* se indicar los parámetros que utilizan los algoritmos en la función RandomSearchCV.\n",
    "\n",
    "Esta celda tiene la etiqueta **parameters** que servirá para poder lanzar los entrenamientos con la utilidad **papermill** pasándole un fichero con los parámetros. Los nuevos parámetros se situarán tras esta celda para tener prevalencia."
   ]
  },
  {
   "cell_type": "code",
   "execution_count": 2,
   "id": "ce50b3d2",
   "metadata": {
    "execution": {
     "iopub.execute_input": "2023-10-30T16:33:29.886805Z",
     "iopub.status.busy": "2023-10-30T16:33:29.885819Z",
     "iopub.status.idle": "2023-10-30T16:33:29.904452Z",
     "shell.execute_reply": "2023-10-30T16:33:29.904452Z"
    },
    "papermill": {
     "duration": 0.022639,
     "end_time": "2023-10-30T16:33:29.905451",
     "exception": false,
     "start_time": "2023-10-30T16:33:29.882812",
     "status": "completed"
    },
    "tags": [
     "parameters"
    ]
   },
   "outputs": [
    {
     "name": "stdout",
     "output_type": "stream",
     "text": [
      "20231030T173329 : amilcar32 : INFO : Utilizando parámetros de mul_m\n"
     ]
    }
   ],
   "source": [
    "#  Parametros para el entrenamiento\n",
    "\n",
    "SEMILLA=        42\n",
    "M_TIPO=         \"mul_m\"\n",
    "M_SELECT=       \"MI\"\n",
    "M_CLASIF=       \"SVM\"\n",
    "R_FICHERO=      \"resultados\"\n",
    "M_FICHERO=      \"metricas\"\n",
    "PRE_DATA_FILE=  \"rows_transpose_norm_by_gene_id_with_target_num_\"\n",
    "SCORING=        \"roc_auc_ovr\" \n",
    "MAX_ITERS=      100\n",
    "\n",
    "def mutual_info_classif_state(X, y):\n",
    "    return mutual_info_classif(X, y, random_state=SEMILLA)\n",
    "\n",
    "eval_selector_mi = \"SelectKBest(score_func=mutual_info_classif_state)\"\n",
    "eval_selector_rf=  \"SelectFromModel(estimator=RandomForestClassifier(random_state=SEMILLA), threshold=-np.inf)\"\n",
    "eval_selector_anova=  \"SelectKBest(score_func=f_classif)\"\n",
    "\n",
    "eval_clasifier_svm= \"SVC(probability=True, random_state=SEMILLA)\"\n",
    "eval_clasifier_rf= \"RandomForestClassifier(random_state=SEMILLA)\"\n",
    "eval_clasifier_lr= \"LogisticRegressionCV(random_state=SEMILLA)\"\n",
    "\n",
    "if M_TIPO.startswith(\"bin_m\"):\n",
    "    myfunc.verbose(f\"Utilizando parámetros de {M_TIPO}\")\n",
    "    eval_selector = eval_selector_mi\n",
    "    eval_clasifier = eval_clasifier_svm\n",
    "\n",
    "    SEMILLA = 6578\n",
    "    M_SELECT = \"MI\"\n",
    "    M_CLASIF = \"SVM\"\n",
    "    param_distributions = {'selector__k': [1000], \n",
    "         'clasifier__kernel': ['rbf'], 'clasifier__gamma': [0.01], 'clasifier__C': [100]}\n",
    "elif M_TIPO.startswith(\"bin_s\"):\n",
    "    myfunc.verbose(f\"Utilizando parámetros de {M_TIPO}\")\n",
    "    eval_selector = eval_selector_rf\n",
    "    eval_clasifier = eval_clasifier_lr\n",
    "\n",
    "    SEMILLA = 6191\n",
    "    M_SELECT = \"RF\"\n",
    "    M_CLASIF = \"LR_L2\"\n",
    "    param_distributions = {'selector__max_features': [1000], 'selector__estimator__n_estimators': [200], \n",
    "        'clasifier__solver': ['lbfgs'], 'clasifier__penalty': ['l2'], 'clasifier__max_iter': [10000]}\n",
    "\n",
    "elif M_TIPO.startswith(\"mul_m\"):\n",
    "    myfunc.verbose(f\"Utilizando parámetros de {M_TIPO}\")\n",
    " \n",
    "    eval_selector = eval_selector_rf\n",
    "    eval_clasifier = eval_clasifier_lr\n",
    "\n",
    "    SEMILLA = 6191\n",
    "    M_SELECT = \"RF\"\n",
    "    M_CLASIF = \"LR_L2\"\n",
    "    param_distributions = {'selector__max_features': [1000], 'selector__estimator__n_estimators': [400], \n",
    "        'clasifier__solver': ['lbfgs'], 'clasifier__penalty': ['l2'], 'clasifier__max_iter': [10000]}\n",
    "\n",
    "else:\n",
    "    # M_TIPO.startswith(\"mul_s\"):\n",
    "    myfunc.verbose(f\"Utilizando parámetros de {M_TIPO}\")\n",
    "    eval_selector = eval_selector_anova\n",
    "    eval_clasifier = eval_clasifier_lr\n",
    "\n",
    "    SEMILLA = 1860\n",
    "    M_SELECT = \"ANOVA\"\n",
    "    M_CLASIF = \"LR_L2\"\n",
    "    param_distributions = {'selector__k': [1000], \n",
    "        'clasifier__solver': ['saga'], 'clasifier__penalty': ['l2'], 'clasifier__max_iter': [10000]}\n",
    "\n"
   ]
  },
  {
   "cell_type": "code",
   "execution_count": 3,
   "id": "1aae3add",
   "metadata": {
    "execution": {
     "iopub.execute_input": "2023-10-30T16:33:29.912088Z",
     "iopub.status.busy": "2023-10-30T16:33:29.912088Z",
     "iopub.status.idle": "2023-10-30T16:33:29.920866Z",
     "shell.execute_reply": "2023-10-30T16:33:29.920798Z"
    },
    "papermill": {
     "duration": 0.013354,
     "end_time": "2023-10-30T16:33:29.921804",
     "exception": false,
     "start_time": "2023-10-30T16:33:29.908450",
     "status": "completed"
    },
    "tags": [
     "injected-parameters"
    ]
   },
   "outputs": [],
   "source": [
    "# Parameters\n",
    "M_TIPO = \"mul_m\"\n",
    "M_SELECT = \"MI\"\n",
    "M_CLASIF = \"LR_L2\"\n",
    "P_FICHERO = \"param_0000_6578_mul_m_MI_LR_L2.yaml\"\n",
    "R_FICHERO = \"resultados_6578\"\n",
    "M_FICHERO = \"metricas_6578\"\n",
    "PRE_DATA_FILE = \"rows_transpose_norm_by_gene_id_with_target_num_\"\n",
    "SCORING = \"roc_auc_ovr\"\n",
    "SEMILLA = 6578\n",
    "MAX_ITERS = 500\n",
    "eval_selector = \"SelectKBest(score_func=mutual_info_classif_state)\"\n",
    "eval_clasifier = \"LogisticRegressionCV(random_state=SEMILLA)\"\n",
    "param_distributions = {\n",
    "    \"selector__k\": [1000],\n",
    "    \"clasifier__solver\": [\"lbfgs\"],\n",
    "    \"clasifier__penalty\": [\"l2\"],\n",
    "    \"clasifier__max_iter\": [10000],\n",
    "}\n"
   ]
  },
  {
   "cell_type": "code",
   "execution_count": 4,
   "id": "849586b9",
   "metadata": {
    "execution": {
     "iopub.execute_input": "2023-10-30T16:33:29.929804Z",
     "iopub.status.busy": "2023-10-30T16:33:29.928801Z",
     "iopub.status.idle": "2023-10-30T16:33:29.936214Z",
     "shell.execute_reply": "2023-10-30T16:33:29.936214Z"
    },
    "papermill": {
     "duration": 0.01354,
     "end_time": "2023-10-30T16:33:29.938350",
     "exception": false,
     "start_time": "2023-10-30T16:33:29.924810",
     "status": "completed"
    },
    "tags": []
   },
   "outputs": [],
   "source": [
    "DATA_FILE = PRE_DATA_FILE + M_TIPO\n",
    "\n",
    "# si viene \"None\" en el parámetro max_depth, se le quitan las comillas para que no sea entendido por el algoritmo como un texto\n",
    "if \"clasifier__max_depth\" in param_distributions:\n",
    "    param_distributions['clasifier__max_depth'] = [None if x == 'None' else x for x in param_distributions['clasifier__max_depth']]"
   ]
  },
  {
   "cell_type": "markdown",
   "id": "1904d7a4",
   "metadata": {
    "papermill": {
     "duration": 0.003003,
     "end_time": "2023-10-30T16:33:29.945378",
     "exception": false,
     "start_time": "2023-10-30T16:33:29.942375",
     "status": "completed"
    },
    "tags": []
   },
   "source": [
    "Asignar los algoritmos que se utilizarán en la función RandomSearchCV"
   ]
  },
  {
   "cell_type": "code",
   "execution_count": 5,
   "id": "61582241",
   "metadata": {
    "execution": {
     "iopub.execute_input": "2023-10-30T16:33:29.952887Z",
     "iopub.status.busy": "2023-10-30T16:33:29.952887Z",
     "iopub.status.idle": "2023-10-30T16:33:29.971041Z",
     "shell.execute_reply": "2023-10-30T16:33:29.971041Z"
    },
    "papermill": {
     "duration": 0.024671,
     "end_time": "2023-10-30T16:33:29.973048",
     "exception": false,
     "start_time": "2023-10-30T16:33:29.948377",
     "status": "completed"
    },
    "tags": []
   },
   "outputs": [],
   "source": [
    "algor_selector=eval(eval_selector)\n",
    "algor_clasifier=eval(eval_clasifier)"
   ]
  },
  {
   "cell_type": "markdown",
   "id": "f2ae1464",
   "metadata": {
    "papermill": {
     "duration": 0.003514,
     "end_time": "2023-10-30T16:33:29.981561",
     "exception": false,
     "start_time": "2023-10-30T16:33:29.978047",
     "status": "completed"
    },
    "tags": []
   },
   "source": [
    "#### Comprobar el entorno y leer fichero de muestras"
   ]
  },
  {
   "cell_type": "code",
   "execution_count": 6,
   "id": "f898d24c",
   "metadata": {
    "execution": {
     "iopub.execute_input": "2023-10-30T16:33:29.987971Z",
     "iopub.status.busy": "2023-10-30T16:33:29.987971Z",
     "iopub.status.idle": "2023-10-30T16:33:30.163148Z",
     "shell.execute_reply": "2023-10-30T16:33:30.163148Z"
    },
    "papermill": {
     "duration": 0.178575,
     "end_time": "2023-10-30T16:33:30.163148",
     "exception": false,
     "start_time": "2023-10-30T16:33:29.984573",
     "status": "completed"
    },
    "tags": []
   },
   "outputs": [
    {
     "name": "stdout",
     "output_type": "stream",
     "text": [
      "20231030T173329 : amilcar32 : INFO : Encontrada carpeta DATA_DIR=..\\tfm_viu\\datos\n",
      "20231030T173329 : amilcar32 : INFO : Encontrada carpeta CFDNA_DIR=..\\tfm_viu\\datos\\cfDNA_5hmC\n",
      "20231030T173329 : amilcar32 : INFO : Encontrada carpeta GENCODE_DIR=..\\tfm_viu\\datos\\gencode\n",
      "20231030T173329 : amilcar32 : INFO : Encontrada carpeta H5_DIR=..\\tfm_viu\\datos\\h5\n",
      "20231030T173329 : amilcar32 : INFO : Encontrada carpeta LOG_DIR=..\\tfm_viu\\datos\\logs\n",
      "20231030T173329 : amilcar32 : INFO : Encontrada carpeta CSV_DIR=..\\tfm_viu\\datos\\csv\n",
      "20231030T173329 : amilcar32 : INFO : Encontrada carpeta MODEL_DIR=..\\tfm_viu\\ejecuciones\\modelos\n",
      "20231030T173329 : amilcar32 : INFO : Encontrada carpeta EXEC_DIR=..\\tfm_viu\\ejecuciones\n",
      "20231030T173329 : amilcar32 : INFO : Encontrada carpeta MET_DIR=..\\tfm_viu\\ejecuciones\\metricas\n",
      "20231030T173329 : amilcar32 : INFO : Inicio leer fichero h5 ..\\tfm_viu\\datos\\h5\\rows_transpose_norm_by_gene_id_with_target_num_mul_m.h5\n",
      "20231030T173330 : amilcar32 : INFO : Leyendo clave /df\n"
     ]
    },
    {
     "name": "stdout",
     "output_type": "stream",
     "text": [
      "20231030T173330 : amilcar32 : INFO : Tamaño (434, 18876)\n",
      "20231030T173330 : amilcar32 : INFO : Fin leer fichero h5 ..\\tfm_viu\\datos\\h5\\rows_transpose_norm_by_gene_id_with_target_num_mul_m.h5\n"
     ]
    },
    {
     "data": {
      "text/plain": [
       "target\n",
       "0    62\n",
       "1    62\n",
       "2    62\n",
       "3    62\n",
       "4    62\n",
       "5    62\n",
       "6    62\n",
       "dtype: int64"
      ]
     },
     "metadata": {},
     "output_type": "display_data"
    },
    {
     "name": "stdout",
     "output_type": "stream",
     "text": [
      "Shape df: (434, 18876)\n",
      "Shape X_train: (347, 18875)\n",
      "Shape X_test: (87, 18875)\n"
     ]
    }
   ],
   "source": [
    "start_time = datetime.datetime.now()\n",
    "\n",
    "myfunc.reset_vars()\n",
    "\n",
    "myfunc.NOTEBK_FILENAME = myfunc.get_nb_name()\n",
    "\n",
    "myfunc.check_enviroment(myfunc.DATA_DIR, myfunc.CFDNA_DIR, myfunc.GENCODE_DIR, myfunc.H5_DIR, myfunc.LOG_DIR, myfunc.CSV_DIR, myfunc.MODEL_DIR, myfunc.EXEC_DIR, myfunc.MET_DIR)\n",
    "\n",
    "# Leer fichero con las muestras\n",
    "df_t = myfunc.read_h5_to_df(DATA_FILE, myfunc.H5_DIR)\n",
    "display(df_t.groupby(\"target\").size())\n",
    "print(\"Shape df:\",df_t.shape)\n",
    "\n",
    "# Separar caracteristicas/genes de las etiquetas/tipos de cáncer\n",
    "X = df_t.iloc[:, :-1]  # Todas las columnas excepto la última\n",
    "y = df_t.iloc[:, -1]  # La última columna contiene los identificadores de los tipos de cáncer\n",
    "\n",
    "#  Crear el conjunto de datos de entrenamiento y de pruebas, y se fija la semilla para siempre coger el mismo juego de muestras\n",
    "X_train, X_test, y_train, y_test = train_test_split(X, y, test_size=0.2, shuffle=True, random_state=42)\n",
    "print(\"Shape X_train:\",X_train.shape)\n",
    "print(\"Shape X_test:\",X_test.shape)\n"
   ]
  },
  {
   "cell_type": "markdown",
   "id": "a8b01596",
   "metadata": {
    "papermill": {
     "duration": 0.008017,
     "end_time": "2023-10-30T16:33:30.171165",
     "exception": false,
     "start_time": "2023-10-30T16:33:30.163148",
     "status": "completed"
    },
    "tags": []
   },
   "source": [
    "#### Selección de características y clasificación."
   ]
  },
  {
   "cell_type": "code",
   "execution_count": 7,
   "id": "1ec7abf8",
   "metadata": {
    "execution": {
     "iopub.execute_input": "2023-10-30T16:33:30.179366Z",
     "iopub.status.busy": "2023-10-30T16:33:30.178374Z",
     "iopub.status.idle": "2023-10-30T16:36:06.048725Z",
     "shell.execute_reply": "2023-10-30T16:36:06.048725Z"
    },
    "papermill": {
     "duration": 155.876351,
     "end_time": "2023-10-30T16:36:06.050727",
     "exception": false,
     "start_time": "2023-10-30T16:33:30.174376",
     "status": "completed"
    },
    "tags": []
   },
   "outputs": [
    {
     "name": "stdout",
     "output_type": "stream",
     "text": [
      "20231030T173330 : amilcar32 : INFO : Iniciando entrenamiento\n",
      "num_iter: 1 , max_iter: 1\n"
     ]
    },
    {
     "name": "stdout",
     "output_type": "stream",
     "text": [
      "Fitting 5 folds for each of 1 candidates, totalling 5 fits\n"
     ]
    },
    {
     "name": "stdout",
     "output_type": "stream",
     "text": [
      "Mejores Hiperparámetros: {'selector__k': 1000, 'clasifier__solver': 'lbfgs', 'clasifier__penalty': 'l2', 'clasifier__max_iter': 10000}\n",
      "Mejor Puntuación: 0.8755\n",
      "20231030T173606 : amilcar32 : INFO : Fin entrenamiento\n"
     ]
    }
   ],
   "source": [
    "myfunc.verbose(\"Iniciando entrenamiento\")\n",
    "\n",
    "kf = KFold(n_splits=5, shuffle=True, random_state=SEMILLA)\n",
    "\n",
    "# Crear el pipeline para el flujo de tareas\n",
    "tasks_pipeline = Pipeline([\n",
    "    ('selector', algor_selector),\n",
    "    ('clasifier', algor_clasifier)\n",
    "])\n",
    "\n",
    "# MAX_ITERS puede limitar el número de iteraciones si son excesivas para las combinaciones de parámetros buscando un óptimo local, \n",
    "# sino funcionaría como GridSearchCV al revisar todas las cominaciones de los parámetros\n",
    "num_iteraciones = 1\n",
    "num_iteraciones = num_iteraciones * np.prod([len(elemento1) for _, elemento1 in param_distributions.items()])\n",
    "max_iteraciones = num_iteraciones if num_iteraciones <= MAX_ITERS else MAX_ITERS\n",
    "print(\"num_iter:\",num_iteraciones,\", max_iter:\",max_iteraciones)\n",
    "\n",
    "random_search = RandomizedSearchCV(\n",
    "    tasks_pipeline, \n",
    "    param_distributions, \n",
    "    n_iter=max_iteraciones,\n",
    "    scoring=SCORING,\n",
    "    cv=kf,\n",
    "    verbose=3, \n",
    "    random_state=SEMILLA, \n",
    "    n_jobs=-1\n",
    "    )\n",
    "\n",
    "# Entrenar el modelo\n",
    "random_search.fit(X_train, y_train)\n",
    "\n",
    "# Ver los mejores hiperparámetros encontrados\n",
    "print(f'Mejores Hiperparámetros: {random_search.best_params_}')\n",
    "print(f'Mejor Puntuación: {random_search.best_score_:.4f}')\n",
    "\n",
    "# Nos quedamos con el mejor modelo para ver las métricas\n",
    "mejor_modelo = random_search.best_estimator_\n",
    "\n",
    "myfunc.verbose(\"Fin entrenamiento\")"
   ]
  },
  {
   "cell_type": "markdown",
   "id": "2a71e96e",
   "metadata": {
    "papermill": {
     "duration": 0.002992,
     "end_time": "2023-10-30T16:36:06.059236",
     "exception": false,
     "start_time": "2023-10-30T16:36:06.056244",
     "status": "completed"
    },
    "tags": []
   },
   "source": [
    "#### Guardar modelo"
   ]
  },
  {
   "cell_type": "code",
   "execution_count": 8,
   "id": "2d88aab8",
   "metadata": {
    "execution": {
     "iopub.execute_input": "2023-10-30T16:36:06.062745Z",
     "iopub.status.busy": "2023-10-30T16:36:06.062745Z",
     "iopub.status.idle": "2023-10-30T16:36:06.088012Z",
     "shell.execute_reply": "2023-10-30T16:36:06.086826Z"
    },
    "papermill": {
     "duration": 0.026269,
     "end_time": "2023-10-30T16:36:06.089014",
     "exception": false,
     "start_time": "2023-10-30T16:36:06.062745",
     "status": "completed"
    },
    "tags": []
   },
   "outputs": [
    {
     "name": "stdout",
     "output_type": "stream",
     "text": [
      "20231030T173606 : amilcar32 : INFO : Inicio guardar fichero ..\\tfm_viu\\ejecuciones\\modelos\\modelo_6578_mul_m_MI_LR_L2.pkl\n",
      "20231030T173606 : amilcar32 : INFO : Fin guardar fichero ..\\tfm_viu\\ejecuciones\\modelos\\modelo_6578_mul_m_MI_LR_L2.pkl\n"
     ]
    }
   ],
   "source": [
    "fichero_modelo = str.replace(\"modelo_\"+str(SEMILLA).zfill(4)+\"_\"+M_TIPO+\"_\"+M_SELECT+\"_\"+M_CLASIF+\".pkl\", \" \", \"_\")\n",
    "\n",
    "myfunc.save_modelo(mejor_modelo, myfunc.MODEL_DIR, fichero_modelo)"
   ]
  },
  {
   "cell_type": "markdown",
   "id": "5f825572",
   "metadata": {
    "papermill": {
     "duration": 0.002999,
     "end_time": "2023-10-30T16:36:06.098533",
     "exception": false,
     "start_time": "2023-10-30T16:36:06.095534",
     "status": "completed"
    },
    "tags": []
   },
   "source": [
    "#### Ver resultados del las iteraciones hechas por RandomSearchCV"
   ]
  },
  {
   "cell_type": "code",
   "execution_count": 9,
   "id": "c083f6f2",
   "metadata": {
    "execution": {
     "iopub.execute_input": "2023-10-30T16:36:06.106037Z",
     "iopub.status.busy": "2023-10-30T16:36:06.106037Z",
     "iopub.status.idle": "2023-10-30T16:36:06.118210Z",
     "shell.execute_reply": "2023-10-30T16:36:06.117186Z"
    },
    "papermill": {
     "duration": 0.018759,
     "end_time": "2023-10-30T16:36:06.120803",
     "exception": false,
     "start_time": "2023-10-30T16:36:06.102044",
     "status": "completed"
    },
    "tags": []
   },
   "outputs": [
    {
     "name": "stdout",
     "output_type": "stream",
     "text": [
      "20231030T173606 : amilcar32 : INFO : Inicio ver resultados\n",
      "Mejores Hiperparámetros: {'selector__k': 1000, 'clasifier__solver': 'lbfgs', 'clasifier__penalty': 'l2', 'clasifier__max_iter': 10000}\n",
      "Mejores puntuaciones: 0.8755 | Params: {'selector__k': 1000, 'clasifier__solver': 'lbfgs', 'clasifier__penalty': 'l2', 'clasifier__max_iter': 10000}\n",
      "Media de las puntuaciones: 0.8755 | Params: {'selector__k': 1000, 'clasifier__solver': 'lbfgs', 'clasifier__penalty': 'l2', 'clasifier__max_iter': 10000}\n",
      "20231030T173606 : amilcar32 : INFO : Fin resultados\n"
     ]
    }
   ],
   "source": [
    "myfunc.ver_resultados_search(random_search)"
   ]
  },
  {
   "cell_type": "markdown",
   "id": "52e42a0f",
   "metadata": {
    "papermill": {
     "duration": 0.005509,
     "end_time": "2023-10-30T16:36:06.133293",
     "exception": false,
     "start_time": "2023-10-30T16:36:06.127784",
     "status": "completed"
    },
    "tags": []
   },
   "source": [
    "#### Ver métricas del mejor modelo"
   ]
  },
  {
   "cell_type": "code",
   "execution_count": 10,
   "id": "ee0bc7c3",
   "metadata": {
    "execution": {
     "iopub.execute_input": "2023-10-30T16:36:06.143844Z",
     "iopub.status.busy": "2023-10-30T16:36:06.142843Z",
     "iopub.status.idle": "2023-10-30T16:36:06.647703Z",
     "shell.execute_reply": "2023-10-30T16:36:06.647703Z"
    },
    "papermill": {
     "duration": 0.510445,
     "end_time": "2023-10-30T16:36:06.648703",
     "exception": false,
     "start_time": "2023-10-30T16:36:06.138258",
     "status": "completed"
    },
    "tags": []
   },
   "outputs": [
    {
     "name": "stdout",
     "output_type": "stream",
     "text": [
      "20231030T173606 : amilcar32 : INFO : Inicio ver métricas multiclase\n"
     ]
    },
    {
     "name": "stdout",
     "output_type": "stream",
     "text": [
      "              precision    recall  f1-score   support\n",
      "\n",
      "           0       0.80      0.50      0.62        16\n",
      "           1       0.80      0.53      0.64        15\n",
      "           2       0.27      0.27      0.27        11\n",
      "           3       0.38      1.00      0.56         5\n",
      "           4       0.53      0.62      0.57        13\n",
      "           5       0.88      0.78      0.82         9\n",
      "           6       0.55      0.61      0.58        18\n",
      "\n",
      "    accuracy                           0.57        87\n",
      "   macro avg       0.60      0.62      0.58        87\n",
      "weighted avg       0.63      0.57      0.58        87\n",
      "\n",
      "\n",
      "\n",
      "           Exactitud: 0.574713\n",
      "   Precisión (media): 0.602239\n",
      "      Recall (media): 0.615762\n",
      "    F1-score (media): 0.579653\n",
      "\n",
      "\n",
      "AUC para el tipo de cáncer 0-Control.... 0.8706\n",
      "AUC para el tipo de cáncer 1-Bladder.... 0.8917\n",
      "AUC para el tipo de cáncer 2-Breast..... 0.7978\n",
      "AUC para el tipo de cáncer 3-Colorectal. 0.9829\n",
      "AUC para el tipo de cáncer 4-Kidney..... 0.8316\n",
      "AUC para el tipo de cáncer 5-Lung....... 0.9259\n",
      "AUC para el tipo de cáncer 6-Prostate... 0.8833\n",
      "\n",
      "Media de AUC: 0.8834\n"
     ]
    },
    {
     "data": {
      "image/png": "[encoded data removed]",
      "text/plain": [
       "<Figure size 1000x600 with 1 Axes>"
      ]
     },
     "metadata": {},
     "output_type": "display_data"
    },
    {
     "name": "stdout",
     "output_type": "stream",
     "text": [
      "\n",
      "\n"
     ]
    },
    {
     "data": {
      "image/png": "[encoded data removed]",
      "text/plain": [
       "<Figure size 800x400 with 2 Axes>"
      ]
     },
     "metadata": {},
     "output_type": "display_data"
    },
    {
     "name": "stdout",
     "output_type": "stream",
     "text": [
      "\n",
      "\n",
      "Puntuación Jaccard para el cáncer tipo 0-Control.... 0.4444\n",
      "Puntuación Jaccard para el cáncer tipo 1-Bladder.... 0.4706\n",
      "Puntuación Jaccard para el cáncer tipo 2-Breast..... 0.1579\n",
      "Puntuación Jaccard para el cáncer tipo 3-Colorectal. 0.3846\n",
      "Puntuación Jaccard para el cáncer tipo 4-Kidney..... 0.4000\n",
      "Puntuación Jaccard para el cáncer tipo 5-Lung....... 0.7000\n",
      "Puntuación Jaccard para el cáncer tipo 6-Prostate... 0.4074\n",
      "\n",
      "Media de la puntuación de Jaccard: 0.4236\n"
     ]
    }
   ],
   "source": [
    "if M_TIPO.startswith(\"bin\"):\n",
    "    myfunc.ver_metricas(mejor_modelo, X_test, y_test)\n",
    "else:\n",
    "    myfunc.ver_metricas_multi(mejor_modelo, X_test, y_test)\n"
   ]
  },
  {
   "cell_type": "markdown",
   "id": "181c9e19",
   "metadata": {
    "papermill": {
     "duration": 0.005011,
     "end_time": "2023-10-30T16:36:06.659025",
     "exception": false,
     "start_time": "2023-10-30T16:36:06.654014",
     "status": "completed"
    },
    "tags": []
   },
   "source": [
    "#### Finalización del notebook"
   ]
  },
  {
   "cell_type": "code",
   "execution_count": 11,
   "id": "dafa2caa",
   "metadata": {
    "execution": {
     "iopub.execute_input": "2023-10-30T16:36:06.670060Z",
     "iopub.status.busy": "2023-10-30T16:36:06.669059Z",
     "iopub.status.idle": "2023-10-30T16:36:06.678982Z",
     "shell.execute_reply": "2023-10-30T16:36:06.678982Z"
    },
    "papermill": {
     "duration": 0.015993,
     "end_time": "2023-10-30T16:36:06.680048",
     "exception": false,
     "start_time": "2023-10-30T16:36:06.664055",
     "status": "completed"
    },
    "tags": []
   },
   "outputs": [
    {
     "name": "stdout",
     "output_type": "stream",
     "text": [
      "20231030T173606 : amilcar32 : INFO : Notebook ha tardado 156 seconds\n"
     ]
    }
   ],
   "source": [
    "end_time = datetime.datetime.now()\n",
    "total_time = end_time - start_time\n",
    "myfunc.verbose(f\"Notebook ha tardado {total_time.seconds} seconds\")"
   ]
  },
  {
   "cell_type": "markdown",
   "id": "da71f17d",
   "metadata": {
    "papermill": {
     "duration": 0.004918,
     "end_time": "2023-10-30T16:36:06.689552",
     "exception": false,
     "start_time": "2023-10-30T16:36:06.684634",
     "status": "completed"
    },
    "tags": []
   },
   "source": [
    "#### Guardar métricas"
   ]
  },
  {
   "cell_type": "code",
   "execution_count": 12,
   "id": "699d117a",
   "metadata": {
    "execution": {
     "iopub.execute_input": "2023-10-30T16:36:06.700060Z",
     "iopub.status.busy": "2023-10-30T16:36:06.700060Z",
     "iopub.status.idle": "2023-10-30T16:36:06.917651Z",
     "shell.execute_reply": "2023-10-30T16:36:06.917651Z"
    },
    "papermill": {
     "duration": 0.225609,
     "end_time": "2023-10-30T16:36:06.919668",
     "exception": false,
     "start_time": "2023-10-30T16:36:06.694059",
     "status": "completed"
    },
    "tags": []
   },
   "outputs": [
    {
     "name": "stdout",
     "output_type": "stream",
     "text": [
      "20231030T173606 : amilcar32 : INFO : Inicio guardar métricas multiclase\n",
      "20231030T173606 : amilcar32 : INFO : Inicio leer fichero ..\\tfm_viu\\ejecuciones\\metricas\\metricas_6578.csv\n",
      "20231030T173606 : amilcar32 : INFO : Fin leer fichero ..\\tfm_viu\\ejecuciones\\metricas\\metricas_6578.csv\n"
     ]
    },
    {
     "name": "stdout",
     "output_type": "stream",
     "text": [
      "20231030T173606 : amilcar32 : INFO : Inicio guardar fichero ..\\tfm_viu\\ejecuciones\\metricas\\metricas_6578.csv\n"
     ]
    },
    {
     "name": "stdout",
     "output_type": "stream",
     "text": [
      "20231030T173606 : amilcar32 : INFO : Fichero borrado ..\\tfm_viu\\ejecuciones\\metricas\\metricas_6578.csv\n",
      "20231030T173606 : amilcar32 : INFO : Fin guardar fichero ..\\tfm_viu\\ejecuciones\\metricas\\metricas_6578.csv\n",
      "20231030T173606 : amilcar32 : INFO : Fin guardar métricas multiclase\n",
      "20231030T173606 : amilcar32 : INFO : Inicio leer fichero ..\\tfm_viu\\ejecuciones\\metricas\\metricas_6578.csv\n",
      "20231030T173606 : amilcar32 : INFO : Fin leer fichero ..\\tfm_viu\\ejecuciones\\metricas\\metricas_6578.csv\n"
     ]
    },
    {
     "data": {
      "text/html": [
       "<div>\n",
       "<style scoped>\n",
       "    .dataframe tbody tr th:only-of-type {\n",
       "        vertical-align: middle;\n",
       "    }\n",
       "\n",
       "    .dataframe tbody tr th {\n",
       "        vertical-align: top;\n",
       "    }\n",
       "\n",
       "    .dataframe thead th {\n",
       "        text-align: right;\n",
       "    }\n",
       "</style>\n",
       "<table border=\"1\" class=\"dataframe\">\n",
       "  <thead>\n",
       "    <tr style=\"text-align: right;\">\n",
       "      <th></th>\n",
       "      <th>tipo</th>\n",
       "      <th>select</th>\n",
       "      <th>clasific</th>\n",
       "      <th>semilla</th>\n",
       "      <th>accuracy</th>\n",
       "      <th>precision</th>\n",
       "      <th>recall</th>\n",
       "      <th>f1_score</th>\n",
       "      <th>roc_auc</th>\n",
       "      <th>hostname</th>\n",
       "      <th>total_time_sec</th>\n",
       "      <th>datetime</th>\n",
       "      <th>fichero_modelo</th>\n",
       "      <th>params</th>\n",
       "      <th>shape</th>\n",
       "      <th>features</th>\n",
       "      <th>roc_auc_ovr</th>\n",
       "      <th>indices_auc</th>\n",
       "      <th>indices_jaccard</th>\n",
       "    </tr>\n",
       "  </thead>\n",
       "  <tbody>\n",
       "    <tr>\n",
       "      <th>0</th>\n",
       "      <td>mul_m</td>\n",
       "      <td>MI</td>\n",
       "      <td>LR_L2</td>\n",
       "      <td>6578</td>\n",
       "      <td>0.574713</td>\n",
       "      <td>0.602239</td>\n",
       "      <td>0.615762</td>\n",
       "      <td>0.579653</td>\n",
       "      <td>NaN</td>\n",
       "      <td>amilcar32</td>\n",
       "      <td>156</td>\n",
       "      <td>2023-10-30 17:36:06.874853</td>\n",
       "      <td>modelo_6578_mul_m_MI_LR_L2.pkl</td>\n",
       "      <td>{'selector__k': 1000, 'clasifier__solver': 'lb...</td>\n",
       "      <td>X_test:(87, 18875)</td>\n",
       "      <td>['ENSG00000001084.13', 'ENSG00000001460.18', '...</td>\n",
       "      <td>0.883403</td>\n",
       "      <td>[0.8705985915492958, 0.8916666666666668, 0.797...</td>\n",
       "      <td>[0.4444444444444444, 0.47058823529411764, 0.15...</td>\n",
       "    </tr>\n",
       "    <tr>\n",
       "      <th>0</th>\n",
       "      <td>mul_m</td>\n",
       "      <td>MI</td>\n",
       "      <td>LR_L1</td>\n",
       "      <td>6578</td>\n",
       "      <td>0.563218</td>\n",
       "      <td>0.561405</td>\n",
       "      <td>0.589387</td>\n",
       "      <td>0.557971</td>\n",
       "      <td>NaN</td>\n",
       "      <td>amilcar32</td>\n",
       "      <td>1047</td>\n",
       "      <td>2023-10-30 17:33:25.450112</td>\n",
       "      <td>modelo_6578_mul_m_MI_LR_L1.pkl</td>\n",
       "      <td>{'selector__k': 1000, 'clasifier__solver': 'sa...</td>\n",
       "      <td>X_test:(87, 18875)</td>\n",
       "      <td>['ENSG00000001084.13', 'ENSG00000001460.18', '...</td>\n",
       "      <td>0.872027</td>\n",
       "      <td>[0.8573943661971831, 0.8796296296296297, 0.785...</td>\n",
       "      <td>[0.25, 0.5555555555555556, 0.2222222222222222,...</td>\n",
       "    </tr>\n",
       "    <tr>\n",
       "      <th>0</th>\n",
       "      <td>mul_m</td>\n",
       "      <td>MI</td>\n",
       "      <td>LR_EN</td>\n",
       "      <td>6578</td>\n",
       "      <td>0.597701</td>\n",
       "      <td>0.605733</td>\n",
       "      <td>0.617638</td>\n",
       "      <td>0.593517</td>\n",
       "      <td>NaN</td>\n",
       "      <td>amilcar32</td>\n",
       "      <td>977</td>\n",
       "      <td>2023-10-30 17:15:53.009642</td>\n",
       "      <td>modelo_6578_mul_m_MI_LR_EN.pkl</td>\n",
       "      <td>{'selector__k': 1000, 'clasifier__solver': 'sa...</td>\n",
       "      <td>X_test:(87, 18875)</td>\n",
       "      <td>['ENSG00000001084.13', 'ENSG00000001460.18', '...</td>\n",
       "      <td>0.881566</td>\n",
       "      <td>[0.8820422535211268, 0.8833333333333333, 0.796...</td>\n",
       "      <td>[0.4444444444444444, 0.5, 0.21052631578947367,...</td>\n",
       "    </tr>\n",
       "  </tbody>\n",
       "</table>\n",
       "</div>"
      ],
      "text/plain": [
       "    tipo select clasific  semilla  accuracy  precision    recall  f1_score  \\\n",
       "0  mul_m     MI    LR_L2     6578  0.574713   0.602239  0.615762  0.579653   \n",
       "0  mul_m     MI    LR_L1     6578  0.563218   0.561405  0.589387  0.557971   \n",
       "0  mul_m     MI    LR_EN     6578  0.597701   0.605733  0.617638  0.593517   \n",
       "\n",
       "   roc_auc   hostname  total_time_sec                    datetime  \\\n",
       "0      NaN  amilcar32             156  2023-10-30 17:36:06.874853   \n",
       "0      NaN  amilcar32            1047  2023-10-30 17:33:25.450112   \n",
       "0      NaN  amilcar32             977  2023-10-30 17:15:53.009642   \n",
       "\n",
       "                   fichero_modelo  \\\n",
       "0  modelo_6578_mul_m_MI_LR_L2.pkl   \n",
       "0  modelo_6578_mul_m_MI_LR_L1.pkl   \n",
       "0  modelo_6578_mul_m_MI_LR_EN.pkl   \n",
       "\n",
       "                                              params               shape  \\\n",
       "0  {'selector__k': 1000, 'clasifier__solver': 'lb...  X_test:(87, 18875)   \n",
       "0  {'selector__k': 1000, 'clasifier__solver': 'sa...  X_test:(87, 18875)   \n",
       "0  {'selector__k': 1000, 'clasifier__solver': 'sa...  X_test:(87, 18875)   \n",
       "\n",
       "                                            features  roc_auc_ovr  \\\n",
       "0  ['ENSG00000001084.13', 'ENSG00000001460.18', '...     0.883403   \n",
       "0  ['ENSG00000001084.13', 'ENSG00000001460.18', '...     0.872027   \n",
       "0  ['ENSG00000001084.13', 'ENSG00000001460.18', '...     0.881566   \n",
       "\n",
       "                                         indices_auc  \\\n",
       "0  [0.8705985915492958, 0.8916666666666668, 0.797...   \n",
       "0  [0.8573943661971831, 0.8796296296296297, 0.785...   \n",
       "0  [0.8820422535211268, 0.8833333333333333, 0.796...   \n",
       "\n",
       "                                     indices_jaccard  \n",
       "0  [0.4444444444444444, 0.47058823529411764, 0.15...  \n",
       "0  [0.25, 0.5555555555555556, 0.2222222222222222,...  \n",
       "0  [0.4444444444444444, 0.5, 0.21052631578947367,...  "
      ]
     },
     "metadata": {},
     "output_type": "display_data"
    }
   ],
   "source": [
    "if M_TIPO.startswith(\"bin\"):\n",
    "    myfunc.save_metricas_to_csv(random_search, X_test, y_test, M_TIPO, M_SELECT, M_CLASIF, total_time, SEMILLA, myfunc.MET_DIR, M_FICHERO, fichero_modelo)\n",
    "else:\n",
    "    myfunc.save_metricas_multi_to_csv(random_search, X_test, y_test, M_TIPO, M_SELECT, M_CLASIF, total_time, SEMILLA, myfunc.MET_DIR, M_FICHERO, fichero_modelo)\n",
    "\n",
    "df1=myfunc.read_metricas_to_df(myfunc.MET_DIR,M_FICHERO)\n",
    "\n",
    "display(df1.sort_values(\"datetime\", ascending=False)[:3])\n"
   ]
  },
  {
   "cell_type": "markdown",
   "id": "504127c3",
   "metadata": {
    "papermill": {
     "duration": 0.008955,
     "end_time": "2023-10-30T16:36:06.937143",
     "exception": false,
     "start_time": "2023-10-30T16:36:06.928188",
     "status": "completed"
    },
    "tags": []
   },
   "source": [
    "#### Guardar resultados"
   ]
  },
  {
   "cell_type": "code",
   "execution_count": 13,
   "id": "ddc29c11",
   "metadata": {
    "execution": {
     "iopub.execute_input": "2023-10-30T16:36:06.948679Z",
     "iopub.status.busy": "2023-10-30T16:36:06.948679Z",
     "iopub.status.idle": "2023-10-30T16:36:06.971227Z",
     "shell.execute_reply": "2023-10-30T16:36:06.970959Z"
    },
    "papermill": {
     "duration": 0.030555,
     "end_time": "2023-10-30T16:36:06.973233",
     "exception": false,
     "start_time": "2023-10-30T16:36:06.942678",
     "status": "completed"
    },
    "tags": []
   },
   "outputs": [
    {
     "name": "stdout",
     "output_type": "stream",
     "text": [
      "20231030T173606 : amilcar32 : INFO : Inicio guardar resultados\n",
      "20231030T173606 : amilcar32 : INFO : Inicio guardar fichero ..\\tfm_viu\\ejecuciones\\metricas\\resultados_6578_mul_m-MI-LR_L2.csv\n",
      "20231030T173606 : amilcar32 : INFO : Fin guardar fichero ..\\tfm_viu\\ejecuciones\\metricas\\resultados_6578_mul_m-MI-LR_L2.csv\n",
      "20231030T173606 : amilcar32 : INFO : Fin guardar resultados\n"
     ]
    }
   ],
   "source": [
    "fichero_resultados=R_FICHERO+\"_\"+M_TIPO+\"-\"+M_SELECT+\"-\"+M_CLASIF+\".csv\"\n",
    "myfunc.save_resultados_to_csv(M_TIPO, M_SELECT, M_CLASIF,  random_search, myfunc.MET_DIR, fichero_resultados)\n"
   ]
  }
 ],
 "metadata": {
  "kernelspec": {
   "display_name": "Python 3 (ipykernel)",
   "language": "python",
   "name": "python3"
  },
  "language_info": {
   "codemirror_mode": {
    "name": "ipython",
    "version": 3
   },
   "file_extension": ".py",
   "mimetype": "text/x-python",
   "name": "python",
   "nbconvert_exporter": "python",
   "pygments_lexer": "ipython3",
   "version": "3.10.12"
  },
  "papermill": {
   "default_parameters": {},
   "duration": 160.695208,
   "end_time": "2023-10-30T16:36:07.514301",
   "environment_variables": {},
   "exception": null,
   "input_path": "03_entrenamiento.ipynb",
   "output_path": "ejecuciones\\training\\03_entrenamiento.20231030T173326.param_0000_6578_mul_m_MI_LR_L2.output.ipynb",
   "parameters": {
    "MAX_ITERS": 500,
    "M_CLASIF": "LR_L2",
    "M_FICHERO": "metricas_6578",
    "M_SELECT": "MI",
    "M_TIPO": "mul_m",
    "PRE_DATA_FILE": "rows_transpose_norm_by_gene_id_with_target_num_",
    "P_FICHERO": "param_0000_6578_mul_m_MI_LR_L2.yaml",
    "R_FICHERO": "resultados_6578",
    "SCORING": "roc_auc_ovr",
    "SEMILLA": 6578,
    "eval_clasifier": "LogisticRegressionCV(random_state=SEMILLA)",
    "eval_selector": "SelectKBest(score_func=mutual_info_classif_state)",
    "param_distributions": {
     "clasifier__max_iter": [
      10000
     ],
     "clasifier__penalty": [
      "l2"
     ],
     "clasifier__solver": [
      "lbfgs"
     ],
     "selector__k": [
      1000
     ]
    }
   },
   "start_time": "2023-10-30T16:33:26.819093",
   "version": "2.4.0"
  }
 },
 "nbformat": 4,
 "nbformat_minor": 5
}