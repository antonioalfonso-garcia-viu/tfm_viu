{
 "cells": [
  {
   "cell_type": "markdown",
   "id": "539e8763",
   "metadata": {
    "papermill": {
     "duration": 0.0,
     "end_time": "2023-10-30T10:11:17.420279",
     "exception": false,
     "start_time": "2023-10-30T10:11:17.420279",
     "status": "completed"
    },
    "tags": []
   },
   "source": [
    "##### Inicio"
   ]
  },
  {
   "cell_type": "markdown",
   "id": "cdffd01f",
   "metadata": {
    "papermill": {
     "duration": 0.0,
     "end_time": "2023-10-30T10:11:17.435792",
     "exception": false,
     "start_time": "2023-10-30T10:11:17.435792",
     "status": "completed"
    },
    "tags": []
   },
   "source": [
    "#### Carga de datos"
   ]
  },
  {
   "cell_type": "code",
   "execution_count": 1,
   "id": "7cc677ac",
   "metadata": {
    "execution": {
     "iopub.execute_input": "2023-10-30T10:11:17.435792Z",
     "iopub.status.busy": "2023-10-30T10:11:17.435792Z",
     "iopub.status.idle": "2023-10-30T10:11:18.582654Z",
     "shell.execute_reply": "2023-10-30T10:11:18.582654Z"
    },
    "papermill": {
     "duration": 1.146862,
     "end_time": "2023-10-30T10:11:18.582654",
     "exception": false,
     "start_time": "2023-10-30T10:11:17.435792",
     "status": "completed"
    },
    "tags": []
   },
   "outputs": [
    {
     "name": "stdout",
     "output_type": "stream",
     "text": [
      "CPU_COUNT: 24; NODE: amilcar32; sys.version: 3.10.12 | packaged by Anaconda, Inc. | (main, Jul  5 2023, 19:09:20) [MSC v.1916 64 bit (AMD64)]\n",
      "LOKY_MAX_CPU_COUNT is not set.\n",
      "OMP_NUM_THREADS is not set.\n"
     ]
    }
   ],
   "source": [
    "import os\n",
    "import numpy as np\n",
    "import pandas as pd\n",
    "import datetime\n",
    "import sklearn\n",
    "import logging\n",
    "import warnings\n",
    "\n",
    "from sklearn.pipeline import Pipeline\n",
    "from sklearn.model_selection import RandomizedSearchCV, KFold, cross_val_score, train_test_split\n",
    "from sklearn.metrics import accuracy_score, confusion_matrix, classification_report, roc_auc_score\n",
    "\n",
    "#  cargar algoritmos para aprendizaje supervisado\n",
    "from sklearn.feature_selection import SelectKBest, f_classif, SelectFromModel, mutual_info_classif\n",
    "from sklearn.svm import SVC\n",
    "from sklearn.ensemble import RandomForestClassifier\n",
    "from sklearn.linear_model import LogisticRegression,LogisticRegressionCV\n",
    "\n",
    "# importar fichero con utilidades propias\n",
    "from commons import myfunctions as myfunc\n"
   ]
  },
  {
   "cell_type": "markdown",
   "id": "5ee61147",
   "metadata": {
    "papermill": {
     "duration": 0.0,
     "end_time": "2023-10-30T10:11:18.582654",
     "exception": false,
     "start_time": "2023-10-30T10:11:18.582654",
     "status": "completed"
    },
    "tags": []
   },
   "source": [
    "#### Parámetros a utilizar en el entrenamiento.\n",
    "\n",
    "Se indican los 3 algoritmos de *selección de características* (eval_selector_xxx) y los 3 algoritmos para la _clasificación_ (eval_clasifier_xxx)\n",
    "\n",
    "En *param_distributions* se indicar los parámetros que utilizan los algoritmos en la función RandomSearchCV.\n",
    "\n",
    "Esta celda tiene la etiqueta **parameters** que servirá para poder lanzar los entrenamientos con la utilidad **papermill** pasándole un fichero con los parámetros. Los nuevos parámetros se situarán tras esta celda para tener prevalencia."
   ]
  },
  {
   "cell_type": "code",
   "execution_count": 2,
   "id": "6a18307a",
   "metadata": {
    "execution": {
     "iopub.execute_input": "2023-10-30T10:11:18.597221Z",
     "iopub.status.busy": "2023-10-30T10:11:18.597221Z",
     "iopub.status.idle": "2023-10-30T10:11:18.614530Z",
     "shell.execute_reply": "2023-10-30T10:11:18.614530Z"
    },
    "papermill": {
     "duration": 0.031876,
     "end_time": "2023-10-30T10:11:18.614530",
     "exception": false,
     "start_time": "2023-10-30T10:11:18.582654",
     "status": "completed"
    },
    "tags": [
     "parameters"
    ]
   },
   "outputs": [
    {
     "name": "stdout",
     "output_type": "stream",
     "text": [
      "20231030T111118 : amilcar32 : INFO : Utilizando parámetros de mul_m\n"
     ]
    }
   ],
   "source": [
    "#  Parametros para el entrenamiento\n",
    "\n",
    "SEMILLA=        42\n",
    "M_TIPO=         \"mul_m\"\n",
    "M_SELECT=       \"MI\"\n",
    "M_CLASIF=       \"SVM\"\n",
    "R_FICHERO=      \"resultados\"\n",
    "M_FICHERO=      \"metricas\"\n",
    "PRE_DATA_FILE=  \"rows_transpose_norm_by_gene_id_with_target_num_\"\n",
    "SCORING=        \"roc_auc_ovr\" \n",
    "MAX_ITERS=      100\n",
    "\n",
    "def mutual_info_classif_state(X, y):\n",
    "    return mutual_info_classif(X, y, random_state=SEMILLA)\n",
    "\n",
    "eval_selector_mi = \"SelectKBest(score_func=mutual_info_classif_state)\"\n",
    "eval_selector_rf=  \"SelectFromModel(estimator=RandomForestClassifier(random_state=SEMILLA), threshold=-np.inf)\"\n",
    "eval_selector_anova=  \"SelectKBest(score_func=f_classif)\"\n",
    "\n",
    "eval_clasifier_svm= \"SVC(probability=True, random_state=SEMILLA)\"\n",
    "eval_clasifier_rf= \"RandomForestClassifier(random_state=SEMILLA)\"\n",
    "eval_clasifier_lr= \"LogisticRegressionCV(random_state=SEMILLA)\"\n",
    "\n",
    "if M_TIPO.startswith(\"bin_m\"):\n",
    "    myfunc.verbose(f\"Utilizando parámetros de {M_TIPO}\")\n",
    "    eval_selector = eval_selector_mi\n",
    "    eval_clasifier = eval_clasifier_svm\n",
    "\n",
    "    SEMILLA = 6578\n",
    "    M_SELECT = \"MI\"\n",
    "    M_CLASIF = \"SVM\"\n",
    "    param_distributions = {'selector__k': [1000], \n",
    "         'clasifier__kernel': ['rbf'], 'clasifier__gamma': [0.01], 'clasifier__C': [100]}\n",
    "elif M_TIPO.startswith(\"bin_s\"):\n",
    "    myfunc.verbose(f\"Utilizando parámetros de {M_TIPO}\")\n",
    "    eval_selector = eval_selector_rf\n",
    "    eval_clasifier = eval_clasifier_lr\n",
    "\n",
    "    SEMILLA = 6191\n",
    "    M_SELECT = \"RF\"\n",
    "    M_CLASIF = \"LR_L2\"\n",
    "    param_distributions = {'selector__max_features': [1000], 'selector__estimator__n_estimators': [200], \n",
    "        'clasifier__solver': ['lbfgs'], 'clasifier__penalty': ['l2'], 'clasifier__max_iter': [10000]}\n",
    "\n",
    "elif M_TIPO.startswith(\"mul_m\"):\n",
    "    myfunc.verbose(f\"Utilizando parámetros de {M_TIPO}\")\n",
    " \n",
    "    eval_selector = eval_selector_rf\n",
    "    eval_clasifier = eval_clasifier_lr\n",
    "\n",
    "    SEMILLA = 6191\n",
    "    M_SELECT = \"RF\"\n",
    "    M_CLASIF = \"LR_L2\"\n",
    "    param_distributions = {'selector__max_features': [1000], 'selector__estimator__n_estimators': [400], \n",
    "        'clasifier__solver': ['lbfgs'], 'clasifier__penalty': ['l2'], 'clasifier__max_iter': [10000]}\n",
    "\n",
    "else:\n",
    "    # M_TIPO.startswith(\"mul_s\"):\n",
    "    myfunc.verbose(f\"Utilizando parámetros de {M_TIPO}\")\n",
    "    eval_selector = eval_selector_anova\n",
    "    eval_clasifier = eval_clasifier_lr\n",
    "\n",
    "    SEMILLA = 1860\n",
    "    M_SELECT = \"ANOVA\"\n",
    "    M_CLASIF = \"LR_L2\"\n",
    "    param_distributions = {'selector__k': [1000], \n",
    "        'clasifier__solver': ['saga'], 'clasifier__penalty': ['l2'], 'clasifier__max_iter': [10000]}\n",
    "\n"
   ]
  },
  {
   "cell_type": "code",
   "execution_count": 3,
   "id": "ad1b4d24",
   "metadata": {
    "execution": {
     "iopub.execute_input": "2023-10-30T10:11:18.619059Z",
     "iopub.status.busy": "2023-10-30T10:11:18.619059Z",
     "iopub.status.idle": "2023-10-30T10:11:18.630627Z",
     "shell.execute_reply": "2023-10-30T10:11:18.630627Z"
    },
    "papermill": {
     "duration": 0.011568,
     "end_time": "2023-10-30T10:11:18.630627",
     "exception": false,
     "start_time": "2023-10-30T10:11:18.619059",
     "status": "completed"
    },
    "tags": [
     "injected-parameters"
    ]
   },
   "outputs": [],
   "source": [
    "# Parameters\n",
    "M_TIPO = \"mul_m\"\n",
    "M_SELECT = \"RF\"\n",
    "M_CLASIF = \"RF\"\n",
    "P_FICHERO = \"param_0000_5426_mul_m_RF_RF.yaml\"\n",
    "R_FICHERO = \"resultados_5426\"\n",
    "M_FICHERO = \"metricas_5426\"\n",
    "PRE_DATA_FILE = \"rows_transpose_norm_by_gene_id_with_target_num_\"\n",
    "SCORING = \"roc_auc_ovr\"\n",
    "SEMILLA = 5426\n",
    "MAX_ITERS = 500\n",
    "eval_selector = \"SelectFromModel(estimator=RandomForestClassifier(random_state=SEMILLA), threshold=-np.inf)\"\n",
    "eval_clasifier = \"RandomForestClassifier(random_state=SEMILLA)\"\n",
    "param_distributions = {\n",
    "    \"selector__max_features\": [500],\n",
    "    \"selector__estimator__n_estimators\": [200],\n",
    "    \"clasifier__n_estimators\": [400],\n",
    "    \"clasifier__min_samples_split\": [10],\n",
    "    \"clasifier__min_samples_leaf\": [5],\n",
    "    \"clasifier__max_features\": [200],\n",
    "    \"clasifier__max_depth\": [20],\n",
    "    \"clasifier__bootstrap\": [True],\n",
    "}\n"
   ]
  },
  {
   "cell_type": "code",
   "execution_count": 4,
   "id": "66274559",
   "metadata": {
    "execution": {
     "iopub.execute_input": "2023-10-30T10:11:18.630627Z",
     "iopub.status.busy": "2023-10-30T10:11:18.630627Z",
     "iopub.status.idle": "2023-10-30T10:11:18.646346Z",
     "shell.execute_reply": "2023-10-30T10:11:18.646346Z"
    },
    "papermill": {
     "duration": 0.015719,
     "end_time": "2023-10-30T10:11:18.646346",
     "exception": false,
     "start_time": "2023-10-30T10:11:18.630627",
     "status": "completed"
    },
    "tags": []
   },
   "outputs": [],
   "source": [
    "DATA_FILE = PRE_DATA_FILE + M_TIPO\n",
    "\n",
    "# si viene \"None\" en el parámetro max_depth, se le quitan las comillas para que no sea entendido por el algoritmo como un texto\n",
    "if \"clasifier__max_depth\" in param_distributions:\n",
    "    param_distributions['clasifier__max_depth'] = [None if x == 'None' else x for x in param_distributions['clasifier__max_depth']]"
   ]
  },
  {
   "cell_type": "markdown",
   "id": "4e078ddd",
   "metadata": {
    "papermill": {
     "duration": 0.0,
     "end_time": "2023-10-30T10:11:18.646346",
     "exception": false,
     "start_time": "2023-10-30T10:11:18.646346",
     "status": "completed"
    },
    "tags": []
   },
   "source": [
    "Asignar los algoritmos que se utilizarán en la función RandomSearchCV"
   ]
  },
  {
   "cell_type": "code",
   "execution_count": 5,
   "id": "5c33b722",
   "metadata": {
    "execution": {
     "iopub.execute_input": "2023-10-30T10:11:18.646346Z",
     "iopub.status.busy": "2023-10-30T10:11:18.646346Z",
     "iopub.status.idle": "2023-10-30T10:11:18.661931Z",
     "shell.execute_reply": "2023-10-30T10:11:18.661931Z"
    },
    "papermill": {
     "duration": 0.015585,
     "end_time": "2023-10-30T10:11:18.661931",
     "exception": false,
     "start_time": "2023-10-30T10:11:18.646346",
     "status": "completed"
    },
    "tags": []
   },
   "outputs": [],
   "source": [
    "algor_selector=eval(eval_selector)\n",
    "algor_clasifier=eval(eval_clasifier)"
   ]
  },
  {
   "cell_type": "markdown",
   "id": "d779e1e5",
   "metadata": {
    "papermill": {
     "duration": 0.0,
     "end_time": "2023-10-30T10:11:18.661931",
     "exception": false,
     "start_time": "2023-10-30T10:11:18.661931",
     "status": "completed"
    },
    "tags": []
   },
   "source": [
    "#### Comprobar el entorno y leer fichero de muestras"
   ]
  },
  {
   "cell_type": "code",
   "execution_count": 6,
   "id": "26338cc2",
   "metadata": {
    "execution": {
     "iopub.execute_input": "2023-10-30T10:11:18.677587Z",
     "iopub.status.busy": "2023-10-30T10:11:18.677587Z",
     "iopub.status.idle": "2023-10-30T10:11:18.850925Z",
     "shell.execute_reply": "2023-10-30T10:11:18.850925Z"
    },
    "papermill": {
     "duration": 0.188994,
     "end_time": "2023-10-30T10:11:18.850925",
     "exception": false,
     "start_time": "2023-10-30T10:11:18.661931",
     "status": "completed"
    },
    "tags": []
   },
   "outputs": [
    {
     "name": "stdout",
     "output_type": "stream",
     "text": [
      "20231030T111118 : amilcar32 : INFO : Encontrada carpeta DATA_DIR=..\\tfm_viu\\datos\n",
      "20231030T111118 : amilcar32 : INFO : Encontrada carpeta CFDNA_DIR=..\\tfm_viu\\datos\\cfDNA_5hmC\n",
      "20231030T111118 : amilcar32 : INFO : Encontrada carpeta GENCODE_DIR=..\\tfm_viu\\datos\\gencode\n",
      "20231030T111118 : amilcar32 : INFO : Encontrada carpeta H5_DIR=..\\tfm_viu\\datos\\h5\n",
      "20231030T111118 : amilcar32 : INFO : Encontrada carpeta LOG_DIR=..\\tfm_viu\\datos\\logs\n",
      "20231030T111118 : amilcar32 : INFO : Encontrada carpeta CSV_DIR=..\\tfm_viu\\datos\\csv\n",
      "20231030T111118 : amilcar32 : INFO : Encontrada carpeta MODEL_DIR=..\\tfm_viu\\ejecuciones\\modelos\n",
      "20231030T111118 : amilcar32 : INFO : Encontrada carpeta EXEC_DIR=..\\tfm_viu\\ejecuciones\n",
      "20231030T111118 : amilcar32 : INFO : Encontrada carpeta MET_DIR=..\\tfm_viu\\ejecuciones\\metricas\n",
      "20231030T111118 : amilcar32 : INFO : Inicio leer fichero h5 ..\\tfm_viu\\datos\\h5\\rows_transpose_norm_by_gene_id_with_target_num_mul_m.h5\n",
      "20231030T111118 : amilcar32 : INFO : Leyendo clave /df\n"
     ]
    },
    {
     "name": "stdout",
     "output_type": "stream",
     "text": [
      "20231030T111118 : amilcar32 : INFO : Tamaño (434, 18876)\n",
      "20231030T111118 : amilcar32 : INFO : Fin leer fichero h5 ..\\tfm_viu\\datos\\h5\\rows_transpose_norm_by_gene_id_with_target_num_mul_m.h5\n"
     ]
    },
    {
     "data": {
      "text/plain": [
       "target\n",
       "0    62\n",
       "1    62\n",
       "2    62\n",
       "3    62\n",
       "4    62\n",
       "5    62\n",
       "6    62\n",
       "dtype: int64"
      ]
     },
     "metadata": {},
     "output_type": "display_data"
    },
    {
     "name": "stdout",
     "output_type": "stream",
     "text": [
      "Shape df: (434, 18876)\n",
      "Shape X_train: (347, 18875)\n",
      "Shape X_test: (87, 18875)\n"
     ]
    }
   ],
   "source": [
    "start_time = datetime.datetime.now()\n",
    "\n",
    "myfunc.reset_vars()\n",
    "\n",
    "myfunc.NOTEBK_FILENAME = myfunc.get_nb_name()\n",
    "\n",
    "myfunc.check_enviroment(myfunc.DATA_DIR, myfunc.CFDNA_DIR, myfunc.GENCODE_DIR, myfunc.H5_DIR, myfunc.LOG_DIR, myfunc.CSV_DIR, myfunc.MODEL_DIR, myfunc.EXEC_DIR, myfunc.MET_DIR)\n",
    "\n",
    "# Leer fichero con las muestras\n",
    "df_t = myfunc.read_h5_to_df(DATA_FILE, myfunc.H5_DIR)\n",
    "display(df_t.groupby(\"target\").size())\n",
    "print(\"Shape df:\",df_t.shape)\n",
    "\n",
    "# Separar caracteristicas/genes de las etiquetas/tipos de cáncer\n",
    "X = df_t.iloc[:, :-1]  # Todas las columnas excepto la última\n",
    "y = df_t.iloc[:, -1]  # La última columna contiene los identificadores de los tipos de cáncer\n",
    "\n",
    "#  Crear el conjunto de datos de entrenamiento y de pruebas, y se fija la semilla para siempre coger el mismo juego de muestras\n",
    "X_train, X_test, y_train, y_test = train_test_split(X, y, test_size=0.2, shuffle=True, random_state=42)\n",
    "print(\"Shape X_train:\",X_train.shape)\n",
    "print(\"Shape X_test:\",X_test.shape)\n"
   ]
  },
  {
   "cell_type": "markdown",
   "id": "105e2585",
   "metadata": {
    "papermill": {
     "duration": 0.0,
     "end_time": "2023-10-30T10:11:18.850925",
     "exception": false,
     "start_time": "2023-10-30T10:11:18.850925",
     "status": "completed"
    },
    "tags": []
   },
   "source": [
    "#### Selección de características y clasificación."
   ]
  },
  {
   "cell_type": "code",
   "execution_count": 7,
   "id": "331d19bf",
   "metadata": {
    "execution": {
     "iopub.execute_input": "2023-10-30T10:11:18.869955Z",
     "iopub.status.busy": "2023-10-30T10:11:18.866552Z",
     "iopub.status.idle": "2023-10-30T10:12:49.765646Z",
     "shell.execute_reply": "2023-10-30T10:12:49.765646Z"
    },
    "papermill": {
     "duration": 90.914721,
     "end_time": "2023-10-30T10:12:49.765646",
     "exception": false,
     "start_time": "2023-10-30T10:11:18.850925",
     "status": "completed"
    },
    "tags": []
   },
   "outputs": [
    {
     "name": "stdout",
     "output_type": "stream",
     "text": [
      "20231030T111118 : amilcar32 : INFO : Iniciando entrenamiento\n",
      "num_iter: 1 , max_iter: 1\n",
      "Fitting 5 folds for each of 1 candidates, totalling 5 fits\n"
     ]
    },
    {
     "name": "stdout",
     "output_type": "stream",
     "text": [
      "Mejores Hiperparámetros: {'selector__max_features': 500, 'selector__estimator__n_estimators': 200, 'clasifier__n_estimators': 400, 'clasifier__min_samples_split': 10, 'clasifier__min_samples_leaf': 5, 'clasifier__max_features': 200, 'clasifier__max_depth': 20, 'clasifier__bootstrap': True}\n",
      "Mejor Puntuación: 0.8234\n",
      "20231030T111249 : amilcar32 : INFO : Fin entrenamiento\n"
     ]
    }
   ],
   "source": [
    "myfunc.verbose(\"Iniciando entrenamiento\")\n",
    "\n",
    "kf = KFold(n_splits=5, shuffle=True, random_state=SEMILLA)\n",
    "\n",
    "# Crear el pipeline para el flujo de tareas\n",
    "tasks_pipeline = Pipeline([\n",
    "    ('selector', algor_selector),\n",
    "    ('clasifier', algor_clasifier)\n",
    "])\n",
    "\n",
    "# MAX_ITERS puede limitar el número de iteraciones si son excesivas para las combinaciones de parámetros buscando un óptimo local, \n",
    "# sino funcionaría como GridSearchCV al revisar todas las cominaciones de los parámetros\n",
    "num_iteraciones = 1\n",
    "num_iteraciones = num_iteraciones * np.prod([len(elemento1) for _, elemento1 in param_distributions.items()])\n",
    "max_iteraciones = num_iteraciones if num_iteraciones <= MAX_ITERS else MAX_ITERS\n",
    "print(\"num_iter:\",num_iteraciones,\", max_iter:\",max_iteraciones)\n",
    "\n",
    "random_search = RandomizedSearchCV(\n",
    "    tasks_pipeline, \n",
    "    param_distributions, \n",
    "    n_iter=max_iteraciones,\n",
    "    scoring=SCORING,\n",
    "    cv=kf,\n",
    "    verbose=3, \n",
    "    random_state=SEMILLA, \n",
    "    n_jobs=-1\n",
    "    )\n",
    "\n",
    "# Entrenar el modelo\n",
    "random_search.fit(X_train, y_train)\n",
    "\n",
    "# Ver los mejores hiperparámetros encontrados\n",
    "print(f'Mejores Hiperparámetros: {random_search.best_params_}')\n",
    "print(f'Mejor Puntuación: {random_search.best_score_:.4f}')\n",
    "\n",
    "# Nos quedamos con el mejor modelo para ver las métricas\n",
    "mejor_modelo = random_search.best_estimator_\n",
    "\n",
    "myfunc.verbose(\"Fin entrenamiento\")"
   ]
  },
  {
   "cell_type": "markdown",
   "id": "18fe6c68",
   "metadata": {
    "papermill": {
     "duration": 0.0,
     "end_time": "2023-10-30T10:12:49.781267",
     "exception": false,
     "start_time": "2023-10-30T10:12:49.781267",
     "status": "completed"
    },
    "tags": []
   },
   "source": [
    "#### Guardar modelo"
   ]
  },
  {
   "cell_type": "code",
   "execution_count": 8,
   "id": "53f6e5e7",
   "metadata": {
    "execution": {
     "iopub.execute_input": "2023-10-30T10:12:49.803478Z",
     "iopub.status.busy": "2023-10-30T10:12:49.803478Z",
     "iopub.status.idle": "2023-10-30T10:12:50.254308Z",
     "shell.execute_reply": "2023-10-30T10:12:50.254308Z"
    },
    "papermill": {
     "duration": 0.457424,
     "end_time": "2023-10-30T10:12:50.254308",
     "exception": false,
     "start_time": "2023-10-30T10:12:49.796884",
     "status": "completed"
    },
    "tags": []
   },
   "outputs": [
    {
     "name": "stdout",
     "output_type": "stream",
     "text": [
      "20231030T111249 : amilcar32 : INFO : Inicio guardar fichero ..\\tfm_viu\\ejecuciones\\modelos\\modelo_5426_mul_m_RF_RF.pkl\n"
     ]
    },
    {
     "name": "stdout",
     "output_type": "stream",
     "text": [
      "20231030T111250 : amilcar32 : INFO : Fin guardar fichero ..\\tfm_viu\\ejecuciones\\modelos\\modelo_5426_mul_m_RF_RF.pkl\n"
     ]
    }
   ],
   "source": [
    "fichero_modelo = str.replace(\"modelo_\"+str(SEMILLA).zfill(4)+\"_\"+M_TIPO+\"_\"+M_SELECT+\"_\"+M_CLASIF+\".pkl\", \" \", \"_\")\n",
    "\n",
    "myfunc.save_modelo(mejor_modelo, myfunc.MODEL_DIR, fichero_modelo)"
   ]
  },
  {
   "cell_type": "markdown",
   "id": "2e2ebfae",
   "metadata": {
    "papermill": {
     "duration": 0.015614,
     "end_time": "2023-10-30T10:12:50.285553",
     "exception": false,
     "start_time": "2023-10-30T10:12:50.269939",
     "status": "completed"
    },
    "tags": []
   },
   "source": [
    "#### Ver resultados del las iteraciones hechas por RandomSearchCV"
   ]
  },
  {
   "cell_type": "code",
   "execution_count": 9,
   "id": "86ba9f17",
   "metadata": {
    "execution": {
     "iopub.execute_input": "2023-10-30T10:12:50.307416Z",
     "iopub.status.busy": "2023-10-30T10:12:50.307416Z",
     "iopub.status.idle": "2023-10-30T10:12:50.333237Z",
     "shell.execute_reply": "2023-10-30T10:12:50.333237Z"
    },
    "papermill": {
     "duration": 0.047684,
     "end_time": "2023-10-30T10:12:50.333237",
     "exception": false,
     "start_time": "2023-10-30T10:12:50.285553",
     "status": "completed"
    },
    "tags": []
   },
   "outputs": [
    {
     "name": "stdout",
     "output_type": "stream",
     "text": [
      "20231030T111250 : amilcar32 : INFO : Inicio ver resultados\n",
      "Mejores Hiperparámetros: {'selector__max_features': 500, 'selector__estimator__n_estimators': 200, 'clasifier__n_estimators': 400, 'clasifier__min_samples_split': 10, 'clasifier__min_samples_leaf': 5, 'clasifier__max_features': 200, 'clasifier__max_depth': 20, 'clasifier__bootstrap': True}\n",
      "Mejores puntuaciones: 0.8234 | Params: {'selector__max_features': 500, 'selector__estimator__n_estimators': 200, 'clasifier__n_estimators': 400, 'clasifier__min_samples_split': 10, 'clasifier__min_samples_leaf': 5, 'clasifier__max_features': 200, 'clasifier__max_depth': 20, 'clasifier__bootstrap': True}\n",
      "Media de las puntuaciones: 0.8234 | Params: {'selector__max_features': 500, 'selector__estimator__n_estimators': 200, 'clasifier__n_estimators': 400, 'clasifier__min_samples_split': 10, 'clasifier__min_samples_leaf': 5, 'clasifier__max_features': 200, 'clasifier__max_depth': 20, 'clasifier__bootstrap': True}\n",
      "20231030T111250 : amilcar32 : INFO : Fin resultados\n"
     ]
    }
   ],
   "source": [
    "myfunc.ver_resultados_search(random_search)"
   ]
  },
  {
   "cell_type": "markdown",
   "id": "3ec21278",
   "metadata": {
    "papermill": {
     "duration": 0.0,
     "end_time": "2023-10-30T10:12:50.333237",
     "exception": false,
     "start_time": "2023-10-30T10:12:50.333237",
     "status": "completed"
    },
    "tags": []
   },
   "source": [
    "#### Ver métricas del mejor modelo"
   ]
  },
  {
   "cell_type": "code",
   "execution_count": 10,
   "id": "8ba66e4d",
   "metadata": {
    "execution": {
     "iopub.execute_input": "2023-10-30T10:12:50.364471Z",
     "iopub.status.busy": "2023-10-30T10:12:50.364471Z",
     "iopub.status.idle": "2023-10-30T10:12:52.571955Z",
     "shell.execute_reply": "2023-10-30T10:12:52.571955Z"
    },
    "papermill": {
     "duration": 2.223101,
     "end_time": "2023-10-30T10:12:52.571955",
     "exception": false,
     "start_time": "2023-10-30T10:12:50.348854",
     "status": "completed"
    },
    "tags": []
   },
   "outputs": [
    {
     "name": "stdout",
     "output_type": "stream",
     "text": [
      "20231030T111250 : amilcar32 : INFO : Inicio ver métricas multiclase\n"
     ]
    },
    {
     "name": "stdout",
     "output_type": "stream",
     "text": [
      "              precision    recall  f1-score   support\n",
      "\n",
      "           0       0.00      0.00      0.00        16\n",
      "           1       0.62      0.53      0.57        15\n",
      "           2       0.43      0.55      0.48        11\n",
      "           3       0.31      0.80      0.44         5\n",
      "           4       0.47      0.69      0.56        13\n",
      "           5       0.64      0.78      0.70         9\n",
      "           6       0.62      0.56      0.59        18\n",
      "\n",
      "    accuracy                           0.51        87\n",
      "   macro avg       0.44      0.56      0.48        87\n",
      "weighted avg       0.44      0.51      0.46        87\n",
      "\n",
      "\n",
      "\n",
      "           Exactitud: 0.505747\n",
      "   Precisión (media): 0.440957\n",
      "      Recall (media): 0.557776\n",
      "    F1-score (media): 0.478087\n",
      "\n",
      "\n",
      "AUC para el tipo de cáncer 0-Control.... 0.6523\n",
      "AUC para el tipo de cáncer 1-Bladder.... 0.8852\n",
      "AUC para el tipo de cáncer 2-Breast..... 0.8242\n",
      "AUC para el tipo de cáncer 3-Colorectal. 0.8756\n",
      "AUC para el tipo de cáncer 4-Kidney..... 0.8638\n",
      "AUC para el tipo de cáncer 5-Lung....... 0.9117\n",
      "AUC para el tipo de cáncer 6-Prostate... 0.8454\n",
      "\n",
      "Media de AUC: 0.8369\n"
     ]
    },
    {
     "data": {
      "image/png": "[encoded data removed]",
      "text/plain": [
       "<Figure size 1000x600 with 1 Axes>"
      ]
     },
     "metadata": {},
     "output_type": "display_data"
    },
    {
     "name": "stdout",
     "output_type": "stream",
     "text": [
      "\n",
      "\n"
     ]
    },
    {
     "data": {
      "image/png": "[encoded data removed]",
      "text/plain": [
       "<Figure size 800x400 with 2 Axes>"
      ]
     },
     "metadata": {},
     "output_type": "display_data"
    },
    {
     "name": "stdout",
     "output_type": "stream",
     "text": [
      "\n",
      "\n",
      "Puntuación Jaccard para el cáncer tipo 0-Control.... 0.0000\n",
      "Puntuación Jaccard para el cáncer tipo 1-Bladder.... 0.4000\n",
      "Puntuación Jaccard para el cáncer tipo 2-Breast..... 0.3158\n",
      "Puntuación Jaccard para el cáncer tipo 3-Colorectal. 0.2857\n",
      "Puntuación Jaccard para el cáncer tipo 4-Kidney..... 0.3913\n",
      "Puntuación Jaccard para el cáncer tipo 5-Lung....... 0.5385\n",
      "Puntuación Jaccard para el cáncer tipo 6-Prostate... 0.4167\n",
      "\n",
      "Media de la puntuación de Jaccard: 0.3354\n"
     ]
    }
   ],
   "source": [
    "if M_TIPO.startswith(\"bin\"):\n",
    "    myfunc.ver_metricas(mejor_modelo, X_test, y_test)\n",
    "else:\n",
    "    myfunc.ver_metricas_multi(mejor_modelo, X_test, y_test)\n"
   ]
  },
  {
   "cell_type": "markdown",
   "id": "19f0aa13",
   "metadata": {
    "papermill": {
     "duration": 0.021183,
     "end_time": "2023-10-30T10:12:52.609832",
     "exception": false,
     "start_time": "2023-10-30T10:12:52.588649",
     "status": "completed"
    },
    "tags": []
   },
   "source": [
    "#### Finalización del notebook"
   ]
  },
  {
   "cell_type": "code",
   "execution_count": 11,
   "id": "b1f8c2e2",
   "metadata": {
    "execution": {
     "iopub.execute_input": "2023-10-30T10:12:52.619918Z",
     "iopub.status.busy": "2023-10-30T10:12:52.619918Z",
     "iopub.status.idle": "2023-10-30T10:12:52.651451Z",
     "shell.execute_reply": "2023-10-30T10:12:52.651451Z"
    },
    "papermill": {
     "duration": 0.031533,
     "end_time": "2023-10-30T10:12:52.651451",
     "exception": false,
     "start_time": "2023-10-30T10:12:52.619918",
     "status": "completed"
    },
    "tags": []
   },
   "outputs": [
    {
     "name": "stdout",
     "output_type": "stream",
     "text": [
      "20231030T111252 : amilcar32 : INFO : Notebook ha tardado 93 seconds\n"
     ]
    }
   ],
   "source": [
    "end_time = datetime.datetime.now()\n",
    "total_time = end_time - start_time\n",
    "myfunc.verbose(f\"Notebook ha tardado {total_time.seconds} seconds\")"
   ]
  },
  {
   "cell_type": "markdown",
   "id": "bc1a263a",
   "metadata": {
    "papermill": {
     "duration": 0.015608,
     "end_time": "2023-10-30T10:12:52.682505",
     "exception": false,
     "start_time": "2023-10-30T10:12:52.666897",
     "status": "completed"
    },
    "tags": []
   },
   "source": [
    "#### Guardar métricas"
   ]
  },
  {
   "cell_type": "code",
   "execution_count": 12,
   "id": "c4615ab1",
   "metadata": {
    "execution": {
     "iopub.execute_input": "2023-10-30T10:12:52.714255Z",
     "iopub.status.busy": "2023-10-30T10:12:52.714255Z",
     "iopub.status.idle": "2023-10-30T10:12:53.912623Z",
     "shell.execute_reply": "2023-10-30T10:12:53.911614Z"
    },
    "papermill": {
     "duration": 1.214479,
     "end_time": "2023-10-30T10:12:53.912623",
     "exception": false,
     "start_time": "2023-10-30T10:12:52.698144",
     "status": "completed"
    },
    "tags": []
   },
   "outputs": [
    {
     "name": "stdout",
     "output_type": "stream",
     "text": [
      "20231030T111252 : amilcar32 : INFO : Inicio guardar métricas multiclase\n",
      "20231030T111252 : amilcar32 : INFO : Inicio leer fichero ..\\tfm_viu\\ejecuciones\\metricas\\metricas_5426.csv\n",
      "20231030T111252 : amilcar32 : INFO : Fin leer fichero ..\\tfm_viu\\ejecuciones\\metricas\\metricas_5426.csv\n"
     ]
    },
    {
     "name": "stdout",
     "output_type": "stream",
     "text": [
      "20231030T111253 : amilcar32 : INFO : Inicio guardar fichero ..\\tfm_viu\\ejecuciones\\metricas\\metricas_5426.csv\n",
      "20231030T111253 : amilcar32 : INFO : Fichero borrado ..\\tfm_viu\\ejecuciones\\metricas\\metricas_5426.csv\n",
      "20231030T111253 : amilcar32 : INFO : Fin guardar fichero ..\\tfm_viu\\ejecuciones\\metricas\\metricas_5426.csv\n",
      "20231030T111253 : amilcar32 : INFO : Fin guardar métricas multiclase\n",
      "20231030T111253 : amilcar32 : INFO : Inicio leer fichero ..\\tfm_viu\\ejecuciones\\metricas\\metricas_5426.csv\n",
      "20231030T111253 : amilcar32 : INFO : Fin leer fichero ..\\tfm_viu\\ejecuciones\\metricas\\metricas_5426.csv\n"
     ]
    },
    {
     "data": {
      "text/html": [
       "<div>\n",
       "<style scoped>\n",
       "    .dataframe tbody tr th:only-of-type {\n",
       "        vertical-align: middle;\n",
       "    }\n",
       "\n",
       "    .dataframe tbody tr th {\n",
       "        vertical-align: top;\n",
       "    }\n",
       "\n",
       "    .dataframe thead th {\n",
       "        text-align: right;\n",
       "    }\n",
       "</style>\n",
       "<table border=\"1\" class=\"dataframe\">\n",
       "  <thead>\n",
       "    <tr style=\"text-align: right;\">\n",
       "      <th></th>\n",
       "      <th>tipo</th>\n",
       "      <th>select</th>\n",
       "      <th>clasific</th>\n",
       "      <th>semilla</th>\n",
       "      <th>accuracy</th>\n",
       "      <th>precision</th>\n",
       "      <th>recall</th>\n",
       "      <th>f1_score</th>\n",
       "      <th>roc_auc</th>\n",
       "      <th>hostname</th>\n",
       "      <th>total_time_sec</th>\n",
       "      <th>datetime</th>\n",
       "      <th>fichero_modelo</th>\n",
       "      <th>params</th>\n",
       "      <th>shape</th>\n",
       "      <th>features</th>\n",
       "      <th>roc_auc_ovr</th>\n",
       "      <th>indices_auc</th>\n",
       "      <th>indices_jaccard</th>\n",
       "    </tr>\n",
       "  </thead>\n",
       "  <tbody>\n",
       "    <tr>\n",
       "      <th>0</th>\n",
       "      <td>mul_m</td>\n",
       "      <td>RF</td>\n",
       "      <td>RF</td>\n",
       "      <td>5426</td>\n",
       "      <td>0.505747</td>\n",
       "      <td>0.440957</td>\n",
       "      <td>0.557776</td>\n",
       "      <td>0.478087</td>\n",
       "      <td>NaN</td>\n",
       "      <td>amilcar32</td>\n",
       "      <td>93</td>\n",
       "      <td>2023-10-30 11:12:53.832828</td>\n",
       "      <td>modelo_5426_mul_m_RF_RF.pkl</td>\n",
       "      <td>{'selector__max_features': 500, 'selector__est...</td>\n",
       "      <td>X_test:(87, 18875)</td>\n",
       "      <td>['ENSG00000005108.17', 'ENSG00000006007.12', '...</td>\n",
       "      <td>0.836880</td>\n",
       "      <td>[0.6522887323943661, 0.8851851851851852, 0.824...</td>\n",
       "      <td>[0.0, 0.4, 0.3157894736842105, 0.2857142857142...</td>\n",
       "    </tr>\n",
       "    <tr>\n",
       "      <th>0</th>\n",
       "      <td>mul_m</td>\n",
       "      <td>RF</td>\n",
       "      <td>LR_L2</td>\n",
       "      <td>5426</td>\n",
       "      <td>0.528736</td>\n",
       "      <td>0.538512</td>\n",
       "      <td>0.586226</td>\n",
       "      <td>0.528191</td>\n",
       "      <td>NaN</td>\n",
       "      <td>amilcar32</td>\n",
       "      <td>99</td>\n",
       "      <td>2023-10-30 11:11:13.407141</td>\n",
       "      <td>modelo_5426_mul_m_RF_LR_L2.pkl</td>\n",
       "      <td>{'selector__max_features': 1000, 'selector__es...</td>\n",
       "      <td>X_test:(87, 18875)</td>\n",
       "      <td>['ENSG00000000938.13', 'ENSG00000002933.9', 'E...</td>\n",
       "      <td>0.843174</td>\n",
       "      <td>[0.682218309859155, 0.8990740740740741, 0.7177...</td>\n",
       "      <td>[0.13636363636363635, 0.5555555555555556, 0.33...</td>\n",
       "    </tr>\n",
       "    <tr>\n",
       "      <th>0</th>\n",
       "      <td>mul_m</td>\n",
       "      <td>RF</td>\n",
       "      <td>LR_L1</td>\n",
       "      <td>5426</td>\n",
       "      <td>0.494253</td>\n",
       "      <td>0.511357</td>\n",
       "      <td>0.515090</td>\n",
       "      <td>0.488093</td>\n",
       "      <td>NaN</td>\n",
       "      <td>amilcar32</td>\n",
       "      <td>2710</td>\n",
       "      <td>2023-10-30 11:09:26.569612</td>\n",
       "      <td>modelo_5426_mul_m_RF_LR_L1.pkl</td>\n",
       "      <td>{'selector__max_features': 1000, 'selector__es...</td>\n",
       "      <td>X_test:(87, 18875)</td>\n",
       "      <td>['ENSG00000000938.13', 'ENSG00000002933.9', 'E...</td>\n",
       "      <td>0.803365</td>\n",
       "      <td>[0.625, 0.8916666666666667, 0.6291866028708134...</td>\n",
       "      <td>[0.18181818181818182, 0.5, 0.15, 0.15789473684...</td>\n",
       "    </tr>\n",
       "  </tbody>\n",
       "</table>\n",
       "</div>"
      ],
      "text/plain": [
       "    tipo select clasific  semilla  accuracy  precision    recall  f1_score  \\\n",
       "0  mul_m     RF       RF     5426  0.505747   0.440957  0.557776  0.478087   \n",
       "0  mul_m     RF    LR_L2     5426  0.528736   0.538512  0.586226  0.528191   \n",
       "0  mul_m     RF    LR_L1     5426  0.494253   0.511357  0.515090  0.488093   \n",
       "\n",
       "   roc_auc   hostname  total_time_sec                    datetime  \\\n",
       "0      NaN  amilcar32              93  2023-10-30 11:12:53.832828   \n",
       "0      NaN  amilcar32              99  2023-10-30 11:11:13.407141   \n",
       "0      NaN  amilcar32            2710  2023-10-30 11:09:26.569612   \n",
       "\n",
       "                   fichero_modelo  \\\n",
       "0     modelo_5426_mul_m_RF_RF.pkl   \n",
       "0  modelo_5426_mul_m_RF_LR_L2.pkl   \n",
       "0  modelo_5426_mul_m_RF_LR_L1.pkl   \n",
       "\n",
       "                                              params               shape  \\\n",
       "0  {'selector__max_features': 500, 'selector__est...  X_test:(87, 18875)   \n",
       "0  {'selector__max_features': 1000, 'selector__es...  X_test:(87, 18875)   \n",
       "0  {'selector__max_features': 1000, 'selector__es...  X_test:(87, 18875)   \n",
       "\n",
       "                                            features  roc_auc_ovr  \\\n",
       "0  ['ENSG00000005108.17', 'ENSG00000006007.12', '...     0.836880   \n",
       "0  ['ENSG00000000938.13', 'ENSG00000002933.9', 'E...     0.843174   \n",
       "0  ['ENSG00000000938.13', 'ENSG00000002933.9', 'E...     0.803365   \n",
       "\n",
       "                                         indices_auc  \\\n",
       "0  [0.6522887323943661, 0.8851851851851852, 0.824...   \n",
       "0  [0.682218309859155, 0.8990740740740741, 0.7177...   \n",
       "0  [0.625, 0.8916666666666667, 0.6291866028708134...   \n",
       "\n",
       "                                     indices_jaccard  \n",
       "0  [0.0, 0.4, 0.3157894736842105, 0.2857142857142...  \n",
       "0  [0.13636363636363635, 0.5555555555555556, 0.33...  \n",
       "0  [0.18181818181818182, 0.5, 0.15, 0.15789473684...  "
      ]
     },
     "metadata": {},
     "output_type": "display_data"
    }
   ],
   "source": [
    "if M_TIPO.startswith(\"bin\"):\n",
    "    myfunc.save_metricas_to_csv(random_search, X_test, y_test, M_TIPO, M_SELECT, M_CLASIF, total_time, SEMILLA, myfunc.MET_DIR, M_FICHERO, fichero_modelo)\n",
    "else:\n",
    "    myfunc.save_metricas_multi_to_csv(random_search, X_test, y_test, M_TIPO, M_SELECT, M_CLASIF, total_time, SEMILLA, myfunc.MET_DIR, M_FICHERO, fichero_modelo)\n",
    "\n",
    "df1=myfunc.read_metricas_to_df(myfunc.MET_DIR,M_FICHERO)\n",
    "\n",
    "display(df1.sort_values(\"datetime\", ascending=False)[:3])\n"
   ]
  },
  {
   "cell_type": "markdown",
   "id": "7978043c",
   "metadata": {
    "papermill": {
     "duration": 0.01508,
     "end_time": "2023-10-30T10:12:53.927703",
     "exception": false,
     "start_time": "2023-10-30T10:12:53.912623",
     "status": "completed"
    },
    "tags": []
   },
   "source": [
    "#### Guardar resultados"
   ]
  },
  {
   "cell_type": "code",
   "execution_count": 13,
   "id": "9be32036",
   "metadata": {
    "execution": {
     "iopub.execute_input": "2023-10-30T10:12:53.958969Z",
     "iopub.status.busy": "2023-10-30T10:12:53.958969Z",
     "iopub.status.idle": "2023-10-30T10:12:53.990297Z",
     "shell.execute_reply": "2023-10-30T10:12:53.990297Z"
    },
    "papermill": {
     "duration": 0.052529,
     "end_time": "2023-10-30T10:12:53.995872",
     "exception": false,
     "start_time": "2023-10-30T10:12:53.943343",
     "status": "completed"
    },
    "tags": []
   },
   "outputs": [
    {
     "name": "stdout",
     "output_type": "stream",
     "text": [
      "20231030T111253 : amilcar32 : INFO : Inicio guardar resultados\n",
      "20231030T111253 : amilcar32 : INFO : Inicio guardar fichero ..\\tfm_viu\\ejecuciones\\metricas\\resultados_5426_mul_m-RF-RF.csv\n",
      "20231030T111253 : amilcar32 : INFO : Fin guardar fichero ..\\tfm_viu\\ejecuciones\\metricas\\resultados_5426_mul_m-RF-RF.csv\n",
      "20231030T111253 : amilcar32 : INFO : Fin guardar resultados\n"
     ]
    }
   ],
   "source": [
    "fichero_resultados=R_FICHERO+\"_\"+M_TIPO+\"-\"+M_SELECT+\"-\"+M_CLASIF+\".csv\"\n",
    "myfunc.save_resultados_to_csv(M_TIPO, M_SELECT, M_CLASIF,  random_search, myfunc.MET_DIR, fichero_resultados)\n"
   ]
  }
 ],
 "metadata": {
  "kernelspec": {
   "display_name": "Python 3 (ipykernel)",
   "language": "python",
   "name": "python3"
  },
  "language_info": {
   "codemirror_mode": {
    "name": "ipython",
    "version": 3
   },
   "file_extension": ".py",
   "mimetype": "text/x-python",
   "name": "python",
   "nbconvert_exporter": "python",
   "pygments_lexer": "ipython3",
   "version": "3.10.12"
  },
  "papermill": {
   "default_parameters": {},
   "duration": 99.529753,
   "end_time": "2023-10-30T10:12:55.141032",
   "environment_variables": {},
   "exception": null,
   "input_path": "03_entrenamiento.ipynb",
   "output_path": "ejecuciones\\training\\03_entrenamiento.20231030T111114.param_0000_5426_mul_m_RF_RF.output.ipynb",
   "parameters": {
    "MAX_ITERS": 500,
    "M_CLASIF": "RF",
    "M_FICHERO": "metricas_5426",
    "M_SELECT": "RF",
    "M_TIPO": "mul_m",
    "PRE_DATA_FILE": "rows_transpose_norm_by_gene_id_with_target_num_",
    "P_FICHERO": "param_0000_5426_mul_m_RF_RF.yaml",
    "R_FICHERO": "resultados_5426",
    "SCORING": "roc_auc_ovr",
    "SEMILLA": 5426,
    "eval_clasifier": "RandomForestClassifier(random_state=SEMILLA)",
    "eval_selector": "SelectFromModel(estimator=RandomForestClassifier(random_state=SEMILLA), threshold=-np.inf)",
    "param_distributions": {
     "clasifier__bootstrap": [
      true
     ],
     "clasifier__max_depth": [
      20
     ],
     "clasifier__max_features": [
      200
     ],
     "clasifier__min_samples_leaf": [
      5
     ],
     "clasifier__min_samples_split": [
      10
     ],
     "clasifier__n_estimators": [
      400
     ],
     "selector__estimator__n_estimators": [
      200
     ],
     "selector__max_features": [
      500
     ]
    }
   },
   "start_time": "2023-10-30T10:11:15.611279",
   "version": "2.4.0"
  }
 },
 "nbformat": 4,
 "nbformat_minor": 5
}