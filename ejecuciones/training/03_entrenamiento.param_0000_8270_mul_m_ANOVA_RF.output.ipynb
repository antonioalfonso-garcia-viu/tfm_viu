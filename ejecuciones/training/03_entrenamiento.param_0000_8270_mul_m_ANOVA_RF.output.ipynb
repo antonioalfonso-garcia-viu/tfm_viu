{
 "cells": [
  {
   "cell_type": "markdown",
   "id": "a365b080",
   "metadata": {
    "papermill": {
     "duration": 0.005469,
     "end_time": "2023-10-29T21:31:51.709575",
     "exception": false,
     "start_time": "2023-10-29T21:31:51.704106",
     "status": "completed"
    },
    "tags": []
   },
   "source": [
    "##### Inicio"
   ]
  },
  {
   "cell_type": "markdown",
   "id": "ca07b3fc",
   "metadata": {
    "papermill": {
     "duration": 0.003433,
     "end_time": "2023-10-29T21:31:51.716812",
     "exception": false,
     "start_time": "2023-10-29T21:31:51.713379",
     "status": "completed"
    },
    "tags": []
   },
   "source": [
    "#### Carga de datos"
   ]
  },
  {
   "cell_type": "code",
   "execution_count": 1,
   "id": "52d12692",
   "metadata": {
    "execution": {
     "iopub.execute_input": "2023-10-29T21:31:51.725319Z",
     "iopub.status.busy": "2023-10-29T21:31:51.724722Z",
     "iopub.status.idle": "2023-10-29T21:31:52.845341Z",
     "shell.execute_reply": "2023-10-29T21:31:52.844722Z"
    },
    "papermill": {
     "duration": 1.126529,
     "end_time": "2023-10-29T21:31:52.846802",
     "exception": false,
     "start_time": "2023-10-29T21:31:51.720273",
     "status": "completed"
    },
    "tags": []
   },
   "outputs": [
    {
     "name": "stdout",
     "output_type": "stream",
     "text": [
      "CPU_COUNT: 16; NODE: enderlab; sys.version: 3.10.11 (main, May 16 2023, 00:28:57) [GCC 11.2.0]\n",
      "LOKY_MAX_CPU_COUNT is not set.\n",
      "OMP_NUM_THREADS is not set.\n"
     ]
    }
   ],
   "source": [
    "import os\n",
    "import numpy as np\n",
    "import pandas as pd\n",
    "import datetime\n",
    "import sklearn\n",
    "import logging\n",
    "import warnings\n",
    "\n",
    "from sklearn.pipeline import Pipeline\n",
    "from sklearn.model_selection import RandomizedSearchCV, KFold, cross_val_score, train_test_split\n",
    "from sklearn.metrics import accuracy_score, confusion_matrix, classification_report, roc_auc_score\n",
    "\n",
    "#  cargar algoritmos para aprendizaje supervisado\n",
    "from sklearn.feature_selection import SelectKBest, f_classif, SelectFromModel, mutual_info_classif\n",
    "from sklearn.svm import SVC\n",
    "from sklearn.ensemble import RandomForestClassifier\n",
    "from sklearn.linear_model import LogisticRegression,LogisticRegressionCV\n",
    "\n",
    "# importar fichero con utilidades propias\n",
    "from commons import myfunctions as myfunc\n"
   ]
  },
  {
   "cell_type": "markdown",
   "id": "1b28d578",
   "metadata": {
    "papermill": {
     "duration": 0.003747,
     "end_time": "2023-10-29T21:31:52.854615",
     "exception": false,
     "start_time": "2023-10-29T21:31:52.850868",
     "status": "completed"
    },
    "tags": []
   },
   "source": [
    "#### Parámetros a utilizar en el entrenamiento.\n",
    "\n",
    "Se indican los 3 algoritmos de *selección de características* (eval_selector_xxx) y los 3 algoritmos para la _clasificación_ (eval_clasifier_xxx)\n",
    "\n",
    "En *param_distributions* se indicar los parámetros que utilizan los algoritmos en la función RandomSearchCV.\n",
    "\n",
    "Esta celda tiene la etiqueta **parameters** que servirá para poder lanzar los entrenamientos con la utilidad **papermill** pasándole un fichero con los parámetros. Los nuevos parámetros se situarán tras esta celda para tener prevalencia."
   ]
  },
  {
   "cell_type": "code",
   "execution_count": 2,
   "id": "57cd3550",
   "metadata": {
    "execution": {
     "iopub.execute_input": "2023-10-29T21:31:52.862978Z",
     "iopub.status.busy": "2023-10-29T21:31:52.862584Z",
     "iopub.status.idle": "2023-10-29T21:31:52.871020Z",
     "shell.execute_reply": "2023-10-29T21:31:52.870463Z"
    },
    "papermill": {
     "duration": 0.014392,
     "end_time": "2023-10-29T21:31:52.872503",
     "exception": false,
     "start_time": "2023-10-29T21:31:52.858111",
     "status": "completed"
    },
    "tags": [
     "parameters"
    ]
   },
   "outputs": [
    {
     "name": "stdout",
     "output_type": "stream",
     "text": [
      "20231029T223152 : enderlab : INFO : Utilizando parámetros de mul_m\n"
     ]
    }
   ],
   "source": [
    "#  Parametros para el entrenamiento\n",
    "\n",
    "SEMILLA=        42\n",
    "M_TIPO=         \"mul_m\"\n",
    "M_SELECT=       \"MI\"\n",
    "M_CLASIF=       \"SVM\"\n",
    "R_FICHERO=      \"resultados\"\n",
    "M_FICHERO=      \"metricas\"\n",
    "PRE_DATA_FILE=  \"rows_transpose_norm_by_gene_id_with_target_num_\"\n",
    "SCORING=        \"roc_auc_ovr\" \n",
    "MAX_ITERS=      100\n",
    "\n",
    "def mutual_info_classif_state(X, y):\n",
    "    return mutual_info_classif(X, y, random_state=SEMILLA)\n",
    "\n",
    "eval_selector_mi = \"SelectKBest(score_func=mutual_info_classif_state)\"\n",
    "eval_selector_rf=  \"SelectFromModel(estimator=RandomForestClassifier(random_state=SEMILLA), threshold=-np.inf)\"\n",
    "eval_selector_anova=  \"SelectKBest(score_func=f_classif)\"\n",
    "\n",
    "eval_clasifier_svm= \"SVC(probability=True, random_state=SEMILLA)\"\n",
    "eval_clasifier_rf= \"RandomForestClassifier(random_state=SEMILLA)\"\n",
    "eval_clasifier_lr= \"LogisticRegressionCV(random_state=SEMILLA)\"\n",
    "\n",
    "if M_TIPO.startswith(\"bin_m\"):\n",
    "    myfunc.verbose(f\"Utilizando parámetros de {M_TIPO}\")\n",
    "    eval_selector = eval_selector_mi\n",
    "    eval_clasifier = eval_clasifier_svm\n",
    "\n",
    "    SEMILLA = 6578\n",
    "    M_SELECT = \"MI\"\n",
    "    M_CLASIF = \"SVM\"\n",
    "    param_distributions = {'selector__k': [1000], \n",
    "         'clasifier__kernel': ['rbf'], 'clasifier__gamma': [0.01], 'clasifier__C': [100]}\n",
    "elif M_TIPO.startswith(\"bin_s\"):\n",
    "    myfunc.verbose(f\"Utilizando parámetros de {M_TIPO}\")\n",
    "    eval_selector = eval_selector_rf\n",
    "    eval_clasifier = eval_clasifier_lr\n",
    "\n",
    "    SEMILLA = 6191\n",
    "    M_SELECT = \"RF\"\n",
    "    M_CLASIF = \"LR_L2\"\n",
    "    param_distributions = {'selector__max_features': [1000], 'selector__estimator__n_estimators': [200], \n",
    "        'clasifier__solver': ['lbfgs'], 'clasifier__penalty': ['l2'], 'clasifier__max_iter': [10000]}\n",
    "\n",
    "elif M_TIPO.startswith(\"mul_m\"):\n",
    "    myfunc.verbose(f\"Utilizando parámetros de {M_TIPO}\")\n",
    " \n",
    "    eval_selector = eval_selector_rf\n",
    "    eval_clasifier = eval_clasifier_lr\n",
    "\n",
    "    SEMILLA = 6191\n",
    "    M_SELECT = \"RF\"\n",
    "    M_CLASIF = \"LR_L2\"\n",
    "    param_distributions = {'selector__max_features': [1000], 'selector__estimator__n_estimators': [400], \n",
    "        'clasifier__solver': ['lbfgs'], 'clasifier__penalty': ['l2'], 'clasifier__max_iter': [10000]}\n",
    "\n",
    "else:\n",
    "    # M_TIPO.startswith(\"mul_s\"):\n",
    "    myfunc.verbose(f\"Utilizando parámetros de {M_TIPO}\")\n",
    "    eval_selector = eval_selector_anova\n",
    "    eval_clasifier = eval_clasifier_lr\n",
    "\n",
    "    SEMILLA = 1860\n",
    "    M_SELECT = \"ANOVA\"\n",
    "    M_CLASIF = \"LR_L2\"\n",
    "    param_distributions = {'selector__k': [1000], \n",
    "        'clasifier__solver': ['saga'], 'clasifier__penalty': ['l2'], 'clasifier__max_iter': [10000]}\n",
    "\n"
   ]
  },
  {
   "cell_type": "code",
   "execution_count": 3,
   "id": "d47a11c1",
   "metadata": {
    "execution": {
     "iopub.execute_input": "2023-10-29T21:31:52.880693Z",
     "iopub.status.busy": "2023-10-29T21:31:52.880319Z",
     "iopub.status.idle": "2023-10-29T21:31:52.884324Z",
     "shell.execute_reply": "2023-10-29T21:31:52.883803Z"
    },
    "papermill": {
     "duration": 0.009507,
     "end_time": "2023-10-29T21:31:52.885607",
     "exception": false,
     "start_time": "2023-10-29T21:31:52.876100",
     "status": "completed"
    },
    "tags": [
     "injected-parameters"
    ]
   },
   "outputs": [],
   "source": [
    "# Parameters\n",
    "M_TIPO = \"mul_m\"\n",
    "M_SELECT = \"ANOVA\"\n",
    "M_CLASIF = \"RF\"\n",
    "P_FICHERO = \"param_0000_8270_mul_m_ANOVA_RF.yaml\"\n",
    "R_FICHERO = \"resultados_8270\"\n",
    "M_FICHERO = \"metricas_8270\"\n",
    "PRE_DATA_FILE = \"rows_transpose_norm_by_gene_id_with_target_num_\"\n",
    "SCORING = \"roc_auc_ovr\"\n",
    "SEMILLA = 8270\n",
    "MAX_ITERS = 500\n",
    "eval_selector = \"SelectKBest(score_func=f_classif)\"\n",
    "eval_clasifier = \"RandomForestClassifier(random_state=SEMILLA)\"\n",
    "param_distributions = {\n",
    "    \"selector__k\": [1000],\n",
    "    \"clasifier__n_estimators\": [400],\n",
    "    \"clasifier__min_samples_split\": [10],\n",
    "    \"clasifier__min_samples_leaf\": [5],\n",
    "    \"clasifier__max_features\": [200],\n",
    "    \"clasifier__max_depth\": [10],\n",
    "    \"clasifier__bootstrap\": [True],\n",
    "}\n"
   ]
  },
  {
   "cell_type": "code",
   "execution_count": 4,
   "id": "61293794",
   "metadata": {
    "execution": {
     "iopub.execute_input": "2023-10-29T21:31:52.893754Z",
     "iopub.status.busy": "2023-10-29T21:31:52.893401Z",
     "iopub.status.idle": "2023-10-29T21:31:52.896593Z",
     "shell.execute_reply": "2023-10-29T21:31:52.896066Z"
    },
    "papermill": {
     "duration": 0.008679,
     "end_time": "2023-10-29T21:31:52.897850",
     "exception": false,
     "start_time": "2023-10-29T21:31:52.889171",
     "status": "completed"
    },
    "tags": []
   },
   "outputs": [],
   "source": [
    "DATA_FILE = PRE_DATA_FILE + M_TIPO\n",
    "\n",
    "# si viene \"None\" en el parámetro max_depth, se le quitan las comillas para que no sea entendido por el algoritmo como un texto\n",
    "if \"clasifier__max_depth\" in param_distributions:\n",
    "    param_distributions['clasifier__max_depth'] = [None if x == 'None' else x for x in param_distributions['clasifier__max_depth']]"
   ]
  },
  {
   "cell_type": "markdown",
   "id": "3e503707",
   "metadata": {
    "papermill": {
     "duration": 0.003743,
     "end_time": "2023-10-29T21:31:52.905148",
     "exception": false,
     "start_time": "2023-10-29T21:31:52.901405",
     "status": "completed"
    },
    "tags": []
   },
   "source": [
    "Asignar los algoritmos que se utilizarán en la función RandomSearchCV"
   ]
  },
  {
   "cell_type": "code",
   "execution_count": 5,
   "id": "17bea8aa",
   "metadata": {
    "execution": {
     "iopub.execute_input": "2023-10-29T21:31:52.913457Z",
     "iopub.status.busy": "2023-10-29T21:31:52.913053Z",
     "iopub.status.idle": "2023-10-29T21:31:52.915935Z",
     "shell.execute_reply": "2023-10-29T21:31:52.915410Z"
    },
    "papermill": {
     "duration": 0.008429,
     "end_time": "2023-10-29T21:31:52.917206",
     "exception": false,
     "start_time": "2023-10-29T21:31:52.908777",
     "status": "completed"
    },
    "tags": []
   },
   "outputs": [],
   "source": [
    "algor_selector=eval(eval_selector)\n",
    "algor_clasifier=eval(eval_clasifier)"
   ]
  },
  {
   "cell_type": "markdown",
   "id": "0158880e",
   "metadata": {
    "papermill": {
     "duration": 0.004048,
     "end_time": "2023-10-29T21:31:52.924883",
     "exception": false,
     "start_time": "2023-10-29T21:31:52.920835",
     "status": "completed"
    },
    "tags": []
   },
   "source": [
    "#### Comprobar el entorno y leer fichero de muestras"
   ]
  },
  {
   "cell_type": "code",
   "execution_count": 6,
   "id": "db879e51",
   "metadata": {
    "execution": {
     "iopub.execute_input": "2023-10-29T21:31:52.933288Z",
     "iopub.status.busy": "2023-10-29T21:31:52.932815Z",
     "iopub.status.idle": "2023-10-29T21:31:53.165327Z",
     "shell.execute_reply": "2023-10-29T21:31:53.164700Z"
    },
    "papermill": {
     "duration": 0.238154,
     "end_time": "2023-10-29T21:31:53.166741",
     "exception": false,
     "start_time": "2023-10-29T21:31:52.928587",
     "status": "completed"
    },
    "tags": []
   },
   "outputs": [
    {
     "name": "stdout",
     "output_type": "stream",
     "text": [
      "20231029T223152 : enderlab : INFO : Encontrada carpeta DATA_DIR=../tfm_git/datos\n",
      "20231029T223152 : enderlab : INFO : Encontrada carpeta CFDNA_DIR=../tfm_git/datos/cfDNA_5hmC\n",
      "20231029T223152 : enderlab : INFO : Encontrada carpeta GENCODE_DIR=../tfm_git/datos/gencode\n",
      "20231029T223152 : enderlab : INFO : Encontrada carpeta H5_DIR=../tfm_git/datos/h5\n",
      "20231029T223152 : enderlab : INFO : Encontrada carpeta LOG_DIR=../tfm_git/datos/logs\n",
      "20231029T223152 : enderlab : INFO : Encontrada carpeta CSV_DIR=../tfm_git/datos/csv\n",
      "20231029T223152 : enderlab : INFO : Encontrada carpeta MODEL_DIR=../tfm_git/ejecuciones/modelos\n",
      "20231029T223152 : enderlab : INFO : Encontrada carpeta EXEC_DIR=../tfm_git/ejecuciones\n",
      "20231029T223152 : enderlab : INFO : Encontrada carpeta MET_DIR=../tfm_git/ejecuciones/metricas\n",
      "20231029T223152 : enderlab : INFO : Inicio leer fichero h5 ../tfm_git/datos/h5/rows_transpose_norm_by_gene_id_with_target_num_mul_m.h5\n",
      "20231029T223152 : enderlab : INFO : Leyendo clave /df\n"
     ]
    },
    {
     "name": "stdout",
     "output_type": "stream",
     "text": [
      "20231029T223153 : enderlab : INFO : Tamaño (434, 18876)\n",
      "20231029T223153 : enderlab : INFO : Fin leer fichero h5 ../tfm_git/datos/h5/rows_transpose_norm_by_gene_id_with_target_num_mul_m.h5\n"
     ]
    },
    {
     "data": {
      "text/plain": [
       "target\n",
       "0    62\n",
       "1    62\n",
       "2    62\n",
       "3    62\n",
       "4    62\n",
       "5    62\n",
       "6    62\n",
       "dtype: int64"
      ]
     },
     "metadata": {},
     "output_type": "display_data"
    },
    {
     "name": "stdout",
     "output_type": "stream",
     "text": [
      "Shape df: (434, 18876)\n"
     ]
    },
    {
     "name": "stdout",
     "output_type": "stream",
     "text": [
      "Shape X_train: (347, 18875)\n",
      "Shape X_test: (87, 18875)\n"
     ]
    }
   ],
   "source": [
    "start_time = datetime.datetime.now()\n",
    "\n",
    "myfunc.reset_vars()\n",
    "\n",
    "myfunc.NOTEBK_FILENAME = myfunc.get_nb_name()\n",
    "\n",
    "myfunc.check_enviroment(myfunc.DATA_DIR, myfunc.CFDNA_DIR, myfunc.GENCODE_DIR, myfunc.H5_DIR, myfunc.LOG_DIR, myfunc.CSV_DIR, myfunc.MODEL_DIR, myfunc.EXEC_DIR, myfunc.MET_DIR)\n",
    "\n",
    "# Leer fichero con las muestras\n",
    "df_t = myfunc.read_h5_to_df(DATA_FILE, myfunc.H5_DIR)\n",
    "display(df_t.groupby(\"target\").size())\n",
    "print(\"Shape df:\",df_t.shape)\n",
    "\n",
    "# Separar caracteristicas/genes de las etiquetas/tipos de cáncer\n",
    "X = df_t.iloc[:, :-1]  # Todas las columnas excepto la última\n",
    "y = df_t.iloc[:, -1]  # La última columna contiene los identificadores de los tipos de cáncer\n",
    "\n",
    "#  Crear el conjunto de datos de entrenamiento y de pruebas, y se fija la semilla para siempre coger el mismo juego de muestras\n",
    "X_train, X_test, y_train, y_test = train_test_split(X, y, test_size=0.2, shuffle=True, random_state=42)\n",
    "print(\"Shape X_train:\",X_train.shape)\n",
    "print(\"Shape X_test:\",X_test.shape)\n"
   ]
  },
  {
   "cell_type": "markdown",
   "id": "6f963512",
   "metadata": {
    "papermill": {
     "duration": 0.004139,
     "end_time": "2023-10-29T21:31:53.175952",
     "exception": false,
     "start_time": "2023-10-29T21:31:53.171813",
     "status": "completed"
    },
    "tags": []
   },
   "source": [
    "#### Selección de características y clasificación."
   ]
  },
  {
   "cell_type": "code",
   "execution_count": 7,
   "id": "0282b5f5",
   "metadata": {
    "execution": {
     "iopub.execute_input": "2023-10-29T21:31:53.185282Z",
     "iopub.status.busy": "2023-10-29T21:31:53.184857Z",
     "iopub.status.idle": "2023-10-29T21:32:14.672190Z",
     "shell.execute_reply": "2023-10-29T21:32:14.671060Z"
    },
    "papermill": {
     "duration": 21.493938,
     "end_time": "2023-10-29T21:32:14.673857",
     "exception": false,
     "start_time": "2023-10-29T21:31:53.179919",
     "status": "completed"
    },
    "tags": []
   },
   "outputs": [
    {
     "name": "stdout",
     "output_type": "stream",
     "text": [
      "20231029T223153 : enderlab : INFO : Iniciando entrenamiento\n",
      "num_iter: 1 , max_iter: 1\n",
      "Fitting 5 folds for each of 1 candidates, totalling 5 fits\n"
     ]
    },
    {
     "name": "stderr",
     "output_type": "stream",
     "text": [
      "/home/expsiviu/miniconda3/envs/viu/lib/python3.10/site-packages/sklearn/feature_selection/_univariate_selection.py:112: UserWarning: Features [  298  1508  1733  2006  2010  2265  2266  2553  2803  2896  3415  3492\n",
      "  3804  4075  5405  5668  5803  6984  7416  8791  9087  9490 10475 11020\n",
      " 11613 11943 12249 12480 12831 13836 13848 13959 14000 14015 14245 14789\n",
      " 14795 14941 15397 15515 15563 15824 16018 16258 16276 16278 16279 16313\n",
      " 16323 16339 16372 16522 16630 16667 16701 16819 16870 16905 16906 16968\n",
      " 17024 17047 17091 17093 17231 17274 18368 18374 18405 18546 18608] are constant.\n",
      "  warnings.warn(\"Features %s are constant.\" % constant_features_idx, UserWarning)\n",
      "/home/expsiviu/miniconda3/envs/viu/lib/python3.10/site-packages/sklearn/feature_selection/_univariate_selection.py:113: RuntimeWarning: invalid value encountered in true_divide\n",
      "  f = msb / msw\n",
      "/home/expsiviu/miniconda3/envs/viu/lib/python3.10/site-packages/sklearn/feature_selection/_univariate_selection.py:112: UserWarning: Features [  298  1508  1733  2010  2265  2266  2268  2553  2803  2896  3415  4075\n",
      "  5803  6053  6984  7416  8791  9087  9490 10475 11020 11613 11943 12249\n",
      " 12433 12480 12831 13836 13848 13860 13959 14015 14795 14941 15397 15401\n",
      " 15515 15563 15824 16276 16313 16323 16339 16372 16679 16701 16870 16905\n",
      " 16906 17024 17093 17231 17264 17274 18245 18368 18374 18405 18608] are constant.\n",
      "  warnings.warn(\"Features %s are constant.\" % constant_features_idx, UserWarning)\n",
      "/home/expsiviu/miniconda3/envs/viu/lib/python3.10/site-packages/sklearn/feature_selection/_univariate_selection.py:113: RuntimeWarning: invalid value encountered in true_divide\n",
      "  f = msb / msw\n",
      "/home/expsiviu/miniconda3/envs/viu/lib/python3.10/site-packages/sklearn/feature_selection/_univariate_selection.py:112: UserWarning: Features [  298  1508  1733  2010  2265  2266  2553  2688  2803  2896  3248  3415\n",
      "  4075  5803  6984  7416  7418  8510  8791  9087  9490 10475 11020 11562\n",
      " 11613 11943 12249 12480 12831 13836 13848 13959 14015 14735 14795 14941\n",
      " 15397 15515 15516 15563 15824 15881 16260 16262 16267 16276 16313 16323\n",
      " 16339 16372 16520 16701 16870 16905 16906 17024 17093 17231 17274 17312\n",
      " 17418 18368 18374 18405 18608] are constant.\n",
      "  warnings.warn(\"Features %s are constant.\" % constant_features_idx, UserWarning)\n",
      "/home/expsiviu/miniconda3/envs/viu/lib/python3.10/site-packages/sklearn/feature_selection/_univariate_selection.py:113: RuntimeWarning: invalid value encountered in true_divide\n",
      "  f = msb / msw\n",
      "/home/expsiviu/miniconda3/envs/viu/lib/python3.10/site-packages/sklearn/feature_selection/_univariate_selection.py:112: UserWarning: Features [  298  1508  1733  1846  2010  2265  2266  2553  2803  2896  3415  4075\n",
      "  5533  5803  6981  6984  6993  7416  8791  9087  9490 10475 11020 11613\n",
      " 11943 12249 12480 12831 12888 13836 13848 13959 14015 14244 14795 14941\n",
      " 15397 15515 15563 15824 16276 16313 16323 16339 16372 16701 16870 16905\n",
      " 16906 16956 17024 17093 17231 17274 17566 18368 18374 18405 18608 18693\n",
      " 18868] are constant.\n",
      "  warnings.warn(\"Features %s are constant.\" % constant_features_idx, UserWarning)\n",
      "/home/expsiviu/miniconda3/envs/viu/lib/python3.10/site-packages/sklearn/feature_selection/_univariate_selection.py:113: RuntimeWarning: invalid value encountered in true_divide\n",
      "  f = msb / msw\n",
      "/home/expsiviu/miniconda3/envs/viu/lib/python3.10/site-packages/sklearn/feature_selection/_univariate_selection.py:112: UserWarning: Features [  298  1508  1733  2010  2222  2265  2266  2553  2803  2896  3415  4075\n",
      "  5803  6984  7416  7780  8513  8791  9087  9490 10035 10475 11020 11022\n",
      " 11613 11943 12249 12480 12831 13047 13235 13300 13836 13848 13959 14015\n",
      " 14795 14941 15183 15397 15515 15563 15824 16268 16276 16281 16287 16313\n",
      " 16323 16339 16372 16701 16704 16870 16905 16906 17024 17093 17231 17274\n",
      " 17540 18288 18350 18368 18374 18405 18530 18592 18608] are constant.\n",
      "  warnings.warn(\"Features %s are constant.\" % constant_features_idx, UserWarning)\n",
      "/home/expsiviu/miniconda3/envs/viu/lib/python3.10/site-packages/sklearn/feature_selection/_univariate_selection.py:113: RuntimeWarning: invalid value encountered in true_divide\n",
      "  f = msb / msw\n"
     ]
    },
    {
     "name": "stderr",
     "output_type": "stream",
     "text": [
      "/home/expsiviu/miniconda3/envs/viu/lib/python3.10/site-packages/sklearn/feature_selection/_univariate_selection.py:112: UserWarning: Features [  298  1508  1733  2010  2265  2266  2553  2803  2896  3415  4075  5803\n",
      "  6984  7416  8791  9087  9490 10475 11020 11613 11943 12249 12480 12831\n",
      " 13836 13848 13959 14015 14795 14941 15397 15515 15563 15824 16276 16313\n",
      " 16323 16339 16372 16701 16870 16905 16906 17024 17093 17231 17274 18368\n",
      " 18374 18405 18608] are constant.\n",
      "  warnings.warn(\"Features %s are constant.\" % constant_features_idx, UserWarning)\n",
      "/home/expsiviu/miniconda3/envs/viu/lib/python3.10/site-packages/sklearn/feature_selection/_univariate_selection.py:113: RuntimeWarning: invalid value encountered in true_divide\n",
      "  f = msb / msw\n"
     ]
    },
    {
     "name": "stdout",
     "output_type": "stream",
     "text": [
      "Mejores Hiperparámetros: {'selector__k': 1000, 'clasifier__n_estimators': 400, 'clasifier__min_samples_split': 10, 'clasifier__min_samples_leaf': 5, 'clasifier__max_features': 200, 'clasifier__max_depth': 10, 'clasifier__bootstrap': True}\n",
      "Mejor Puntuación: 0.8246\n",
      "20231029T223214 : enderlab : INFO : Fin entrenamiento\n"
     ]
    }
   ],
   "source": [
    "myfunc.verbose(\"Iniciando entrenamiento\")\n",
    "\n",
    "kf = KFold(n_splits=5, shuffle=True, random_state=SEMILLA)\n",
    "\n",
    "# Crear el pipeline para el flujo de tareas\n",
    "tasks_pipeline = Pipeline([\n",
    "    ('selector', algor_selector),\n",
    "    ('clasifier', algor_clasifier)\n",
    "])\n",
    "\n",
    "# MAX_ITERS puede limitar el número de iteraciones si son excesivas para las combinaciones de parámetros buscando un óptimo local, \n",
    "# sino funcionaría como GridSearchCV al revisar todas las cominaciones de los parámetros\n",
    "num_iteraciones = 1\n",
    "num_iteraciones = num_iteraciones * np.prod([len(elemento1) for _, elemento1 in param_distributions.items()])\n",
    "max_iteraciones = num_iteraciones if num_iteraciones <= MAX_ITERS else MAX_ITERS\n",
    "print(\"num_iter:\",num_iteraciones,\", max_iter:\",max_iteraciones)\n",
    "\n",
    "random_search = RandomizedSearchCV(\n",
    "    tasks_pipeline, \n",
    "    param_distributions, \n",
    "    n_iter=max_iteraciones,\n",
    "    scoring=SCORING,\n",
    "    cv=kf,\n",
    "    verbose=3, \n",
    "    random_state=SEMILLA, \n",
    "    n_jobs=-1\n",
    "    )\n",
    "\n",
    "# Entrenar el modelo\n",
    "random_search.fit(X_train, y_train)\n",
    "\n",
    "# Ver los mejores hiperparámetros encontrados\n",
    "print(f'Mejores Hiperparámetros: {random_search.best_params_}')\n",
    "print(f'Mejor Puntuación: {random_search.best_score_:.4f}')\n",
    "\n",
    "# Nos quedamos con el mejor modelo para ver las métricas\n",
    "mejor_modelo = random_search.best_estimator_\n",
    "\n",
    "myfunc.verbose(\"Fin entrenamiento\")"
   ]
  },
  {
   "cell_type": "markdown",
   "id": "fb870fea",
   "metadata": {
    "papermill": {
     "duration": 0.004481,
     "end_time": "2023-10-29T21:32:14.683383",
     "exception": false,
     "start_time": "2023-10-29T21:32:14.678902",
     "status": "completed"
    },
    "tags": []
   },
   "source": [
    "#### Guardar modelo"
   ]
  },
  {
   "cell_type": "code",
   "execution_count": 8,
   "id": "c9304222",
   "metadata": {
    "execution": {
     "iopub.execute_input": "2023-10-29T21:32:14.693840Z",
     "iopub.status.busy": "2023-10-29T21:32:14.693463Z",
     "iopub.status.idle": "2023-10-29T21:32:14.864089Z",
     "shell.execute_reply": "2023-10-29T21:32:14.863459Z"
    },
    "papermill": {
     "duration": 0.177896,
     "end_time": "2023-10-29T21:32:14.865582",
     "exception": false,
     "start_time": "2023-10-29T21:32:14.687686",
     "status": "completed"
    },
    "tags": []
   },
   "outputs": [
    {
     "name": "stdout",
     "output_type": "stream",
     "text": [
      "20231029T223214 : enderlab : INFO : Inicio guardar fichero ../tfm_git/ejecuciones/modelos/modelo_8270_mul_m_ANOVA_RF.pkl\n",
      "20231029T223214 : enderlab : INFO : Fin guardar fichero ../tfm_git/ejecuciones/modelos/modelo_8270_mul_m_ANOVA_RF.pkl\n"
     ]
    }
   ],
   "source": [
    "fichero_modelo = str.replace(\"modelo_\"+str(SEMILLA).zfill(4)+\"_\"+M_TIPO+\"_\"+M_SELECT+\"_\"+M_CLASIF+\".pkl\", \" \", \"_\")\n",
    "\n",
    "myfunc.save_modelo(mejor_modelo, myfunc.MODEL_DIR, fichero_modelo)"
   ]
  },
  {
   "cell_type": "markdown",
   "id": "1c1cd4ce",
   "metadata": {
    "papermill": {
     "duration": 0.004531,
     "end_time": "2023-10-29T21:32:14.874935",
     "exception": false,
     "start_time": "2023-10-29T21:32:14.870404",
     "status": "completed"
    },
    "tags": []
   },
   "source": [
    "#### Ver resultados del las iteraciones hechas por RandomSearchCV"
   ]
  },
  {
   "cell_type": "code",
   "execution_count": 9,
   "id": "32fab7b6",
   "metadata": {
    "execution": {
     "iopub.execute_input": "2023-10-29T21:32:14.885252Z",
     "iopub.status.busy": "2023-10-29T21:32:14.884811Z",
     "iopub.status.idle": "2023-10-29T21:32:14.895886Z",
     "shell.execute_reply": "2023-10-29T21:32:14.895308Z"
    },
    "papermill": {
     "duration": 0.017879,
     "end_time": "2023-10-29T21:32:14.897131",
     "exception": false,
     "start_time": "2023-10-29T21:32:14.879252",
     "status": "completed"
    },
    "tags": []
   },
   "outputs": [
    {
     "name": "stdout",
     "output_type": "stream",
     "text": [
      "20231029T223214 : enderlab : INFO : Inicio ver resultados\n",
      "Mejores Hiperparámetros: {'selector__k': 1000, 'clasifier__n_estimators': 400, 'clasifier__min_samples_split': 10, 'clasifier__min_samples_leaf': 5, 'clasifier__max_features': 200, 'clasifier__max_depth': 10, 'clasifier__bootstrap': True}\n",
      "Mejores puntuaciones: 0.8246 | Params: {'selector__k': 1000, 'clasifier__n_estimators': 400, 'clasifier__min_samples_split': 10, 'clasifier__min_samples_leaf': 5, 'clasifier__max_features': 200, 'clasifier__max_depth': 10, 'clasifier__bootstrap': True}\n",
      "Media de las puntuaciones: 0.8246 | Params: {'selector__k': 1000, 'clasifier__n_estimators': 400, 'clasifier__min_samples_split': 10, 'clasifier__min_samples_leaf': 5, 'clasifier__max_features': 200, 'clasifier__max_depth': 10, 'clasifier__bootstrap': True}\n",
      "20231029T223214 : enderlab : INFO : Fin resultados\n"
     ]
    }
   ],
   "source": [
    "myfunc.ver_resultados_search(random_search)"
   ]
  },
  {
   "cell_type": "markdown",
   "id": "2d0593e5",
   "metadata": {
    "papermill": {
     "duration": 0.004437,
     "end_time": "2023-10-29T21:32:14.906036",
     "exception": false,
     "start_time": "2023-10-29T21:32:14.901599",
     "status": "completed"
    },
    "tags": []
   },
   "source": [
    "#### Ver métricas del mejor modelo"
   ]
  },
  {
   "cell_type": "code",
   "execution_count": 10,
   "id": "fb795a59",
   "metadata": {
    "execution": {
     "iopub.execute_input": "2023-10-29T21:32:14.917029Z",
     "iopub.status.busy": "2023-10-29T21:32:14.916530Z",
     "iopub.status.idle": "2023-10-29T21:32:15.762806Z",
     "shell.execute_reply": "2023-10-29T21:32:15.762184Z"
    },
    "papermill": {
     "duration": 0.853554,
     "end_time": "2023-10-29T21:32:15.764868",
     "exception": false,
     "start_time": "2023-10-29T21:32:14.911314",
     "status": "completed"
    },
    "tags": []
   },
   "outputs": [
    {
     "name": "stdout",
     "output_type": "stream",
     "text": [
      "20231029T223214 : enderlab : INFO : Inicio ver métricas multiclase\n"
     ]
    },
    {
     "name": "stdout",
     "output_type": "stream",
     "text": [
      "              precision    recall  f1-score   support\n",
      "\n",
      "           0       0.00      0.00      0.00        16\n",
      "           1       0.56      0.60      0.58        15\n",
      "           2       0.57      0.36      0.44        11\n",
      "           3       0.19      0.60      0.29         5\n",
      "           4       0.42      0.62      0.50        13\n",
      "           5       0.60      0.67      0.63         9\n",
      "           6       0.53      0.50      0.51        18\n",
      "\n",
      "    accuracy                           0.45        87\n",
      "   macro avg       0.41      0.48      0.42        87\n",
      "weighted avg       0.41      0.45      0.42        87\n",
      "\n",
      "\n",
      "\n",
      "           Exactitud: 0.448276\n",
      "   Precisión (media): 0.410270\n",
      "      Recall (media): 0.477955\n",
      "    F1-score (media): 0.422381\n",
      "\n",
      "\n",
      "AUC para el tipo de cáncer 0-Control.... 0.5871\n",
      "AUC para el tipo de cáncer 1-Bladder.... 0.8704\n",
      "AUC para el tipo de cáncer 2-Breast..... 0.6639\n",
      "AUC para el tipo de cáncer 3-Colorectal. 0.8537\n",
      "AUC para el tipo de cáncer 4-Kidney..... 0.8191\n",
      "AUC para el tipo de cáncer 5-Lung....... 0.8775\n",
      "AUC para el tipo de cáncer 6-Prostate... 0.8253\n",
      "\n",
      "Media de AUC: 0.7853\n"
     ]
    },
    {
     "data": {
      "image/png": "[encoded data removed]",
      "text/plain": [
       "<Figure size 1000x600 with 1 Axes>"
      ]
     },
     "metadata": {},
     "output_type": "display_data"
    },
    {
     "name": "stdout",
     "output_type": "stream",
     "text": [
      "\n",
      "\n"
     ]
    },
    {
     "data": {
      "image/png": "[encoded data removed]",
      "text/plain": [
       "<Figure size 800x400 with 2 Axes>"
      ]
     },
     "metadata": {},
     "output_type": "display_data"
    },
    {
     "name": "stdout",
     "output_type": "stream",
     "text": [
      "\n",
      "\n",
      "Puntuación Jaccard para el cáncer tipo 0-Control.... 0.0000\n",
      "Puntuación Jaccard para el cáncer tipo 1-Bladder.... 0.4091\n",
      "Puntuación Jaccard para el cáncer tipo 2-Breast..... 0.2857\n",
      "Puntuación Jaccard para el cáncer tipo 3-Colorectal. 0.1667\n",
      "Puntuación Jaccard para el cáncer tipo 4-Kidney..... 0.3333\n",
      "Puntuación Jaccard para el cáncer tipo 5-Lung....... 0.4615\n",
      "Puntuación Jaccard para el cáncer tipo 6-Prostate... 0.3462\n",
      "\n",
      "Media de la puntuación de Jaccard: 0.2861\n"
     ]
    }
   ],
   "source": [
    "if M_TIPO.startswith(\"bin\"):\n",
    "    myfunc.ver_metricas(mejor_modelo, X_test, y_test)\n",
    "else:\n",
    "    myfunc.ver_metricas_multi(mejor_modelo, X_test, y_test)\n"
   ]
  },
  {
   "cell_type": "markdown",
   "id": "b7fbb673",
   "metadata": {
    "papermill": {
     "duration": 0.006697,
     "end_time": "2023-10-29T21:32:15.782147",
     "exception": false,
     "start_time": "2023-10-29T21:32:15.775450",
     "status": "completed"
    },
    "tags": []
   },
   "source": [
    "#### Finalización del notebook"
   ]
  },
  {
   "cell_type": "code",
   "execution_count": 11,
   "id": "89ab62fe",
   "metadata": {
    "execution": {
     "iopub.execute_input": "2023-10-29T21:32:15.796628Z",
     "iopub.status.busy": "2023-10-29T21:32:15.796006Z",
     "iopub.status.idle": "2023-10-29T21:32:15.799951Z",
     "shell.execute_reply": "2023-10-29T21:32:15.799367Z"
    },
    "papermill": {
     "duration": 0.012713,
     "end_time": "2023-10-29T21:32:15.801247",
     "exception": false,
     "start_time": "2023-10-29T21:32:15.788534",
     "status": "completed"
    },
    "tags": []
   },
   "outputs": [
    {
     "name": "stdout",
     "output_type": "stream",
     "text": [
      "20231029T223215 : enderlab : INFO : Notebook ha tardado 22 seconds\n"
     ]
    }
   ],
   "source": [
    "end_time = datetime.datetime.now()\n",
    "total_time = end_time - start_time\n",
    "myfunc.verbose(f\"Notebook ha tardado {total_time.seconds} seconds\")"
   ]
  },
  {
   "cell_type": "markdown",
   "id": "e6cfc7ab",
   "metadata": {
    "papermill": {
     "duration": 0.006204,
     "end_time": "2023-10-29T21:32:15.813719",
     "exception": false,
     "start_time": "2023-10-29T21:32:15.807515",
     "status": "completed"
    },
    "tags": []
   },
   "source": [
    "#### Guardar métricas"
   ]
  },
  {
   "cell_type": "code",
   "execution_count": 12,
   "id": "cc399a78",
   "metadata": {
    "execution": {
     "iopub.execute_input": "2023-10-29T21:32:15.827142Z",
     "iopub.status.busy": "2023-10-29T21:32:15.826599Z",
     "iopub.status.idle": "2023-10-29T21:32:16.161143Z",
     "shell.execute_reply": "2023-10-29T21:32:16.160547Z"
    },
    "papermill": {
     "duration": 0.342733,
     "end_time": "2023-10-29T21:32:16.162515",
     "exception": false,
     "start_time": "2023-10-29T21:32:15.819782",
     "status": "completed"
    },
    "tags": []
   },
   "outputs": [
    {
     "name": "stdout",
     "output_type": "stream",
     "text": [
      "20231029T223215 : enderlab : INFO : Inicio guardar métricas multiclase\n",
      "20231029T223215 : enderlab : INFO : Inicio leer fichero ../tfm_git/ejecuciones/metricas/metricas_8270.csv\n",
      "20231029T223215 : enderlab : INFO : Fin leer fichero ../tfm_git/ejecuciones/metricas/metricas_8270.csv\n"
     ]
    },
    {
     "name": "stdout",
     "output_type": "stream",
     "text": [
      "20231029T223216 : enderlab : INFO : Inicio guardar fichero ../tfm_git/ejecuciones/metricas/metricas_8270.csv\n",
      "20231029T223216 : enderlab : INFO : Fichero borrado ../tfm_git/ejecuciones/metricas/metricas_8270.csv\n",
      "20231029T223216 : enderlab : INFO : Fin guardar fichero ../tfm_git/ejecuciones/metricas/metricas_8270.csv\n",
      "20231029T223216 : enderlab : INFO : Fin guardar métricas multiclase\n",
      "20231029T223216 : enderlab : INFO : Inicio leer fichero ../tfm_git/ejecuciones/metricas/metricas_8270.csv\n",
      "20231029T223216 : enderlab : INFO : Fin leer fichero ../tfm_git/ejecuciones/metricas/metricas_8270.csv\n"
     ]
    },
    {
     "data": {
      "text/html": [
       "<div>\n",
       "<style scoped>\n",
       "    .dataframe tbody tr th:only-of-type {\n",
       "        vertical-align: middle;\n",
       "    }\n",
       "\n",
       "    .dataframe tbody tr th {\n",
       "        vertical-align: top;\n",
       "    }\n",
       "\n",
       "    .dataframe thead th {\n",
       "        text-align: right;\n",
       "    }\n",
       "</style>\n",
       "<table border=\"1\" class=\"dataframe\">\n",
       "  <thead>\n",
       "    <tr style=\"text-align: right;\">\n",
       "      <th></th>\n",
       "      <th>tipo</th>\n",
       "      <th>select</th>\n",
       "      <th>clasific</th>\n",
       "      <th>semilla</th>\n",
       "      <th>accuracy</th>\n",
       "      <th>precision</th>\n",
       "      <th>recall</th>\n",
       "      <th>f1_score</th>\n",
       "      <th>roc_auc</th>\n",
       "      <th>hostname</th>\n",
       "      <th>total_time_sec</th>\n",
       "      <th>datetime</th>\n",
       "      <th>fichero_modelo</th>\n",
       "      <th>params</th>\n",
       "      <th>shape</th>\n",
       "      <th>features</th>\n",
       "      <th>roc_auc_ovr</th>\n",
       "      <th>indices_auc</th>\n",
       "      <th>indices_jaccard</th>\n",
       "    </tr>\n",
       "  </thead>\n",
       "  <tbody>\n",
       "    <tr>\n",
       "      <th>0</th>\n",
       "      <td>mul_m</td>\n",
       "      <td>ANOVA</td>\n",
       "      <td>RF</td>\n",
       "      <td>8270</td>\n",
       "      <td>0.448276</td>\n",
       "      <td>0.410270</td>\n",
       "      <td>0.477955</td>\n",
       "      <td>0.422381</td>\n",
       "      <td>NaN</td>\n",
       "      <td>enderlab</td>\n",
       "      <td>22</td>\n",
       "      <td>2023-10-29 22:32:16.114307</td>\n",
       "      <td>modelo_8270_mul_m_ANOVA_RF.pkl</td>\n",
       "      <td>{'selector__k': 1000, 'clasifier__n_estimators...</td>\n",
       "      <td>X_test:(87, 18875)</td>\n",
       "      <td>['ENSG00000000938.13', 'ENSG00000002919.15', '...</td>\n",
       "      <td>0.785279</td>\n",
       "      <td>[0.5871478873239437, 0.8703703703703703, 0.663...</td>\n",
       "      <td>[0.0, 0.4090909090909091, 0.2857142857142857, ...</td>\n",
       "    </tr>\n",
       "    <tr>\n",
       "      <th>0</th>\n",
       "      <td>mul_m</td>\n",
       "      <td>ANOVA</td>\n",
       "      <td>LR_L2</td>\n",
       "      <td>8270</td>\n",
       "      <td>0.574713</td>\n",
       "      <td>0.575394</td>\n",
       "      <td>0.599781</td>\n",
       "      <td>0.570721</td>\n",
       "      <td>NaN</td>\n",
       "      <td>enderlab</td>\n",
       "      <td>31</td>\n",
       "      <td>2023-10-29 22:31:46.176461</td>\n",
       "      <td>modelo_8270_mul_m_ANOVA_LR_L2.pkl</td>\n",
       "      <td>{'selector__k': 1000, 'clasifier__solver': 'lb...</td>\n",
       "      <td>X_test:(87, 18875)</td>\n",
       "      <td>['ENSG00000000938.13', 'ENSG00000002919.15', '...</td>\n",
       "      <td>0.871233</td>\n",
       "      <td>[0.7790492957746479, 0.8796296296296297, 0.785...</td>\n",
       "      <td>[0.3, 0.5, 0.21052631578947367, 0.333333333333...</td>\n",
       "    </tr>\n",
       "    <tr>\n",
       "      <th>0</th>\n",
       "      <td>mul_m</td>\n",
       "      <td>ANOVA</td>\n",
       "      <td>LR_L1</td>\n",
       "      <td>8270</td>\n",
       "      <td>0.609195</td>\n",
       "      <td>0.609265</td>\n",
       "      <td>0.637569</td>\n",
       "      <td>0.613586</td>\n",
       "      <td>NaN</td>\n",
       "      <td>enderlab</td>\n",
       "      <td>1627</td>\n",
       "      <td>2023-10-29 22:31:07.234858</td>\n",
       "      <td>modelo_8270_mul_m_ANOVA_LR_L1.pkl</td>\n",
       "      <td>{'selector__k': 1000, 'clasifier__solver': 'sa...</td>\n",
       "      <td>X_test:(87, 18875)</td>\n",
       "      <td>['ENSG00000000938.13', 'ENSG00000002919.15', '...</td>\n",
       "      <td>0.865713</td>\n",
       "      <td>[0.7684859154929577, 0.8583333333333334, 0.785...</td>\n",
       "      <td>[0.3333333333333333, 0.47368421052631576, 0.27...</td>\n",
       "    </tr>\n",
       "  </tbody>\n",
       "</table>\n",
       "</div>"
      ],
      "text/plain": [
       "    tipo select clasific  semilla  accuracy  precision    recall  f1_score  \\\n",
       "0  mul_m  ANOVA       RF     8270  0.448276   0.410270  0.477955  0.422381   \n",
       "0  mul_m  ANOVA    LR_L2     8270  0.574713   0.575394  0.599781  0.570721   \n",
       "0  mul_m  ANOVA    LR_L1     8270  0.609195   0.609265  0.637569  0.613586   \n",
       "\n",
       "   roc_auc  hostname  total_time_sec                    datetime  \\\n",
       "0      NaN  enderlab              22  2023-10-29 22:32:16.114307   \n",
       "0      NaN  enderlab              31  2023-10-29 22:31:46.176461   \n",
       "0      NaN  enderlab            1627  2023-10-29 22:31:07.234858   \n",
       "\n",
       "                      fichero_modelo  \\\n",
       "0     modelo_8270_mul_m_ANOVA_RF.pkl   \n",
       "0  modelo_8270_mul_m_ANOVA_LR_L2.pkl   \n",
       "0  modelo_8270_mul_m_ANOVA_LR_L1.pkl   \n",
       "\n",
       "                                              params               shape  \\\n",
       "0  {'selector__k': 1000, 'clasifier__n_estimators...  X_test:(87, 18875)   \n",
       "0  {'selector__k': 1000, 'clasifier__solver': 'lb...  X_test:(87, 18875)   \n",
       "0  {'selector__k': 1000, 'clasifier__solver': 'sa...  X_test:(87, 18875)   \n",
       "\n",
       "                                            features  roc_auc_ovr  \\\n",
       "0  ['ENSG00000000938.13', 'ENSG00000002919.15', '...     0.785279   \n",
       "0  ['ENSG00000000938.13', 'ENSG00000002919.15', '...     0.871233   \n",
       "0  ['ENSG00000000938.13', 'ENSG00000002919.15', '...     0.865713   \n",
       "\n",
       "                                         indices_auc  \\\n",
       "0  [0.5871478873239437, 0.8703703703703703, 0.663...   \n",
       "0  [0.7790492957746479, 0.8796296296296297, 0.785...   \n",
       "0  [0.7684859154929577, 0.8583333333333334, 0.785...   \n",
       "\n",
       "                                     indices_jaccard  \n",
       "0  [0.0, 0.4090909090909091, 0.2857142857142857, ...  \n",
       "0  [0.3, 0.5, 0.21052631578947367, 0.333333333333...  \n",
       "0  [0.3333333333333333, 0.47368421052631576, 0.27...  "
      ]
     },
     "metadata": {},
     "output_type": "display_data"
    }
   ],
   "source": [
    "if M_TIPO.startswith(\"bin\"):\n",
    "    myfunc.save_metricas_to_csv(random_search, X_test, y_test, M_TIPO, M_SELECT, M_CLASIF, total_time, SEMILLA, myfunc.MET_DIR, M_FICHERO, fichero_modelo)\n",
    "else:\n",
    "    myfunc.save_metricas_multi_to_csv(random_search, X_test, y_test, M_TIPO, M_SELECT, M_CLASIF, total_time, SEMILLA, myfunc.MET_DIR, M_FICHERO, fichero_modelo)\n",
    "\n",
    "df1=myfunc.read_metricas_to_df(myfunc.MET_DIR,M_FICHERO)\n",
    "\n",
    "display(df1.sort_values(\"datetime\", ascending=False)[:3])\n"
   ]
  },
  {
   "cell_type": "markdown",
   "id": "d18d54c9",
   "metadata": {
    "papermill": {
     "duration": 0.006631,
     "end_time": "2023-10-29T21:32:16.176239",
     "exception": false,
     "start_time": "2023-10-29T21:32:16.169608",
     "status": "completed"
    },
    "tags": []
   },
   "source": [
    "#### Guardar resultados"
   ]
  },
  {
   "cell_type": "code",
   "execution_count": 13,
   "id": "a9ef38e1",
   "metadata": {
    "execution": {
     "iopub.execute_input": "2023-10-29T21:32:16.190660Z",
     "iopub.status.busy": "2023-10-29T21:32:16.190030Z",
     "iopub.status.idle": "2023-10-29T21:32:16.199732Z",
     "shell.execute_reply": "2023-10-29T21:32:16.199166Z"
    },
    "papermill": {
     "duration": 0.018225,
     "end_time": "2023-10-29T21:32:16.201004",
     "exception": false,
     "start_time": "2023-10-29T21:32:16.182779",
     "status": "completed"
    },
    "tags": []
   },
   "outputs": [
    {
     "name": "stdout",
     "output_type": "stream",
     "text": [
      "20231029T223216 : enderlab : INFO : Inicio guardar resultados\n",
      "20231029T223216 : enderlab : INFO : Inicio guardar fichero ../tfm_git/ejecuciones/metricas/resultados_8270_mul_m-ANOVA-RF.csv\n",
      "20231029T223216 : enderlab : INFO : Fin guardar fichero ../tfm_git/ejecuciones/metricas/resultados_8270_mul_m-ANOVA-RF.csv\n",
      "20231029T223216 : enderlab : INFO : Fin guardar resultados\n"
     ]
    }
   ],
   "source": [
    "fichero_resultados=R_FICHERO+\"_\"+M_TIPO+\"-\"+M_SELECT+\"-\"+M_CLASIF+\".csv\"\n",
    "myfunc.save_resultados_to_csv(M_TIPO, M_SELECT, M_CLASIF,  random_search, myfunc.MET_DIR, fichero_resultados)\n"
   ]
  }
 ],
 "metadata": {
  "kernelspec": {
   "display_name": "Python 3 (ipykernel)",
   "language": "python",
   "name": "python3"
  },
  "language_info": {
   "codemirror_mode": {
    "name": "ipython",
    "version": 3
   },
   "file_extension": ".py",
   "mimetype": "text/x-python",
   "name": "python",
   "nbconvert_exporter": "python",
   "pygments_lexer": "ipython3",
   "version": "3.10.11"
  },
  "papermill": {
   "default_parameters": {},
   "duration": 28.309149,
   "end_time": "2023-10-29T21:32:18.825606",
   "environment_variables": {},
   "exception": null,
   "input_path": "03_entrenamiento.ipynb",
   "output_path": "ejecuciones/training/03_entrenamiento.20231029T223150.param_0000_8270_mul_m_ANOVA_RF.output.ipynb",
   "parameters": {
    "MAX_ITERS": 500,
    "M_CLASIF": "RF",
    "M_FICHERO": "metricas_8270",
    "M_SELECT": "ANOVA",
    "M_TIPO": "mul_m",
    "PRE_DATA_FILE": "rows_transpose_norm_by_gene_id_with_target_num_",
    "P_FICHERO": "param_0000_8270_mul_m_ANOVA_RF.yaml",
    "R_FICHERO": "resultados_8270",
    "SCORING": "roc_auc_ovr",
    "SEMILLA": 8270,
    "eval_clasifier": "RandomForestClassifier(random_state=SEMILLA)",
    "eval_selector": "SelectKBest(score_func=f_classif)",
    "param_distributions": {
     "clasifier__bootstrap": [
      true
     ],
     "clasifier__max_depth": [
      10
     ],
     "clasifier__max_features": [
      200
     ],
     "clasifier__min_samples_leaf": [
      5
     ],
     "clasifier__min_samples_split": [
      10
     ],
     "clasifier__n_estimators": [
      400
     ],
     "selector__k": [
      1000
     ]
    }
   },
   "start_time": "2023-10-29T21:31:50.516457",
   "version": "2.4.0"
  }
 },
 "nbformat": 4,
 "nbformat_minor": 5
}