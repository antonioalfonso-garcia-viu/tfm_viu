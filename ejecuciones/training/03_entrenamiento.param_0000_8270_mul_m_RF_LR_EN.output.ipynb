{
 "cells": [
  {
   "cell_type": "markdown",
   "id": "360c9306",
   "metadata": {
    "papermill": {
     "duration": 0.005571,
     "end_time": "2023-10-29T22:37:39.933280",
     "exception": false,
     "start_time": "2023-10-29T22:37:39.927709",
     "status": "completed"
    },
    "tags": []
   },
   "source": [
    "##### Inicio"
   ]
  },
  {
   "cell_type": "markdown",
   "id": "b368c30f",
   "metadata": {
    "papermill": {
     "duration": 0.003354,
     "end_time": "2023-10-29T22:37:39.940460",
     "exception": false,
     "start_time": "2023-10-29T22:37:39.937106",
     "status": "completed"
    },
    "tags": []
   },
   "source": [
    "#### Carga de datos"
   ]
  },
  {
   "cell_type": "code",
   "execution_count": 1,
   "id": "bd3ce967",
   "metadata": {
    "execution": {
     "iopub.execute_input": "2023-10-29T22:37:39.948711Z",
     "iopub.status.busy": "2023-10-29T22:37:39.948191Z",
     "iopub.status.idle": "2023-10-29T22:37:41.077750Z",
     "shell.execute_reply": "2023-10-29T22:37:41.077136Z"
    },
    "papermill": {
     "duration": 1.135468,
     "end_time": "2023-10-29T22:37:41.079253",
     "exception": false,
     "start_time": "2023-10-29T22:37:39.943785",
     "status": "completed"
    },
    "tags": []
   },
   "outputs": [
    {
     "name": "stdout",
     "output_type": "stream",
     "text": [
      "CPU_COUNT: 16; NODE: enderlab; sys.version: 3.10.11 (main, May 16 2023, 00:28:57) [GCC 11.2.0]\n",
      "LOKY_MAX_CPU_COUNT is not set.\n",
      "OMP_NUM_THREADS is not set.\n"
     ]
    }
   ],
   "source": [
    "import os\n",
    "import numpy as np\n",
    "import pandas as pd\n",
    "import datetime\n",
    "import sklearn\n",
    "import logging\n",
    "import warnings\n",
    "\n",
    "from sklearn.pipeline import Pipeline\n",
    "from sklearn.model_selection import RandomizedSearchCV, KFold, cross_val_score, train_test_split\n",
    "from sklearn.metrics import accuracy_score, confusion_matrix, classification_report, roc_auc_score\n",
    "\n",
    "#  cargar algoritmos para aprendizaje supervisado\n",
    "from sklearn.feature_selection import SelectKBest, f_classif, SelectFromModel, mutual_info_classif\n",
    "from sklearn.svm import SVC\n",
    "from sklearn.ensemble import RandomForestClassifier\n",
    "from sklearn.linear_model import LogisticRegression,LogisticRegressionCV\n",
    "\n",
    "# importar fichero con utilidades propias\n",
    "from commons import myfunctions as myfunc\n"
   ]
  },
  {
   "cell_type": "markdown",
   "id": "9d8831fb",
   "metadata": {
    "papermill": {
     "duration": 0.003504,
     "end_time": "2023-10-29T22:37:41.086893",
     "exception": false,
     "start_time": "2023-10-29T22:37:41.083389",
     "status": "completed"
    },
    "tags": []
   },
   "source": [
    "#### Parámetros a utilizar en el entrenamiento.\n",
    "\n",
    "Se indican los 3 algoritmos de *selección de características* (eval_selector_xxx) y los 3 algoritmos para la _clasificación_ (eval_clasifier_xxx)\n",
    "\n",
    "En *param_distributions* se indicar los parámetros que utilizan los algoritmos en la función RandomSearchCV.\n",
    "\n",
    "Esta celda tiene la etiqueta **parameters** que servirá para poder lanzar los entrenamientos con la utilidad **papermill** pasándole un fichero con los parámetros. Los nuevos parámetros se situarán tras esta celda para tener prevalencia."
   ]
  },
  {
   "cell_type": "code",
   "execution_count": 2,
   "id": "65229590",
   "metadata": {
    "execution": {
     "iopub.execute_input": "2023-10-29T22:37:41.095123Z",
     "iopub.status.busy": "2023-10-29T22:37:41.094710Z",
     "iopub.status.idle": "2023-10-29T22:37:41.103467Z",
     "shell.execute_reply": "2023-10-29T22:37:41.102884Z"
    },
    "papermill": {
     "duration": 0.014439,
     "end_time": "2023-10-29T22:37:41.104698",
     "exception": false,
     "start_time": "2023-10-29T22:37:41.090259",
     "status": "completed"
    },
    "tags": [
     "parameters"
    ]
   },
   "outputs": [
    {
     "name": "stdout",
     "output_type": "stream",
     "text": [
      "20231029T233741 : enderlab : INFO : Utilizando parámetros de mul_m\n"
     ]
    }
   ],
   "source": [
    "#  Parametros para el entrenamiento\n",
    "\n",
    "SEMILLA=        42\n",
    "M_TIPO=         \"mul_m\"\n",
    "M_SELECT=       \"MI\"\n",
    "M_CLASIF=       \"SVM\"\n",
    "R_FICHERO=      \"resultados\"\n",
    "M_FICHERO=      \"metricas\"\n",
    "PRE_DATA_FILE=  \"rows_transpose_norm_by_gene_id_with_target_num_\"\n",
    "SCORING=        \"roc_auc_ovr\" \n",
    "MAX_ITERS=      100\n",
    "\n",
    "def mutual_info_classif_state(X, y):\n",
    "    return mutual_info_classif(X, y, random_state=SEMILLA)\n",
    "\n",
    "eval_selector_mi = \"SelectKBest(score_func=mutual_info_classif_state)\"\n",
    "eval_selector_rf=  \"SelectFromModel(estimator=RandomForestClassifier(random_state=SEMILLA), threshold=-np.inf)\"\n",
    "eval_selector_anova=  \"SelectKBest(score_func=f_classif)\"\n",
    "\n",
    "eval_clasifier_svm= \"SVC(probability=True, random_state=SEMILLA)\"\n",
    "eval_clasifier_rf= \"RandomForestClassifier(random_state=SEMILLA)\"\n",
    "eval_clasifier_lr= \"LogisticRegressionCV(random_state=SEMILLA)\"\n",
    "\n",
    "if M_TIPO.startswith(\"bin_m\"):\n",
    "    myfunc.verbose(f\"Utilizando parámetros de {M_TIPO}\")\n",
    "    eval_selector = eval_selector_mi\n",
    "    eval_clasifier = eval_clasifier_svm\n",
    "\n",
    "    SEMILLA = 6578\n",
    "    M_SELECT = \"MI\"\n",
    "    M_CLASIF = \"SVM\"\n",
    "    param_distributions = {'selector__k': [1000], \n",
    "         'clasifier__kernel': ['rbf'], 'clasifier__gamma': [0.01], 'clasifier__C': [100]}\n",
    "elif M_TIPO.startswith(\"bin_s\"):\n",
    "    myfunc.verbose(f\"Utilizando parámetros de {M_TIPO}\")\n",
    "    eval_selector = eval_selector_rf\n",
    "    eval_clasifier = eval_clasifier_lr\n",
    "\n",
    "    SEMILLA = 6191\n",
    "    M_SELECT = \"RF\"\n",
    "    M_CLASIF = \"LR_L2\"\n",
    "    param_distributions = {'selector__max_features': [1000], 'selector__estimator__n_estimators': [200], \n",
    "        'clasifier__solver': ['lbfgs'], 'clasifier__penalty': ['l2'], 'clasifier__max_iter': [10000]}\n",
    "\n",
    "elif M_TIPO.startswith(\"mul_m\"):\n",
    "    myfunc.verbose(f\"Utilizando parámetros de {M_TIPO}\")\n",
    " \n",
    "    eval_selector = eval_selector_rf\n",
    "    eval_clasifier = eval_clasifier_lr\n",
    "\n",
    "    SEMILLA = 6191\n",
    "    M_SELECT = \"RF\"\n",
    "    M_CLASIF = \"LR_L2\"\n",
    "    param_distributions = {'selector__max_features': [1000], 'selector__estimator__n_estimators': [400], \n",
    "        'clasifier__solver': ['lbfgs'], 'clasifier__penalty': ['l2'], 'clasifier__max_iter': [10000]}\n",
    "\n",
    "else:\n",
    "    # M_TIPO.startswith(\"mul_s\"):\n",
    "    myfunc.verbose(f\"Utilizando parámetros de {M_TIPO}\")\n",
    "    eval_selector = eval_selector_anova\n",
    "    eval_clasifier = eval_clasifier_lr\n",
    "\n",
    "    SEMILLA = 1860\n",
    "    M_SELECT = \"ANOVA\"\n",
    "    M_CLASIF = \"LR_L2\"\n",
    "    param_distributions = {'selector__k': [1000], \n",
    "        'clasifier__solver': ['saga'], 'clasifier__penalty': ['l2'], 'clasifier__max_iter': [10000]}\n",
    "\n"
   ]
  },
  {
   "cell_type": "code",
   "execution_count": 3,
   "id": "378909be",
   "metadata": {
    "execution": {
     "iopub.execute_input": "2023-10-29T22:37:41.112743Z",
     "iopub.status.busy": "2023-10-29T22:37:41.112348Z",
     "iopub.status.idle": "2023-10-29T22:37:41.116633Z",
     "shell.execute_reply": "2023-10-29T22:37:41.115949Z"
    },
    "papermill": {
     "duration": 0.009733,
     "end_time": "2023-10-29T22:37:41.117868",
     "exception": false,
     "start_time": "2023-10-29T22:37:41.108135",
     "status": "completed"
    },
    "tags": [
     "injected-parameters"
    ]
   },
   "outputs": [],
   "source": [
    "# Parameters\n",
    "M_TIPO = \"mul_m\"\n",
    "M_SELECT = \"RF\"\n",
    "M_CLASIF = \"LR_EN\"\n",
    "P_FICHERO = \"param_0000_8270_mul_m_RF_LR_EN.yaml\"\n",
    "R_FICHERO = \"resultados_8270\"\n",
    "M_FICHERO = \"metricas_8270\"\n",
    "PRE_DATA_FILE = \"rows_transpose_norm_by_gene_id_with_target_num_\"\n",
    "SCORING = \"roc_auc_ovr\"\n",
    "SEMILLA = 8270\n",
    "MAX_ITERS = 500\n",
    "eval_selector = \"SelectFromModel(estimator=RandomForestClassifier(random_state=SEMILLA), threshold=-np.inf)\"\n",
    "eval_clasifier = \"LogisticRegressionCV(random_state=SEMILLA)\"\n",
    "param_distributions = {\n",
    "    \"selector__max_features\": [1000],\n",
    "    \"selector__estimator__n_estimators\": [400],\n",
    "    \"clasifier__solver\": [\"saga\"],\n",
    "    \"clasifier__penalty\": [\"elasticnet\"],\n",
    "    \"clasifier__max_iter\": [10000],\n",
    "    \"clasifier__l1_ratios\": [[0.1]],\n",
    "}\n"
   ]
  },
  {
   "cell_type": "code",
   "execution_count": 4,
   "id": "1cb3768c",
   "metadata": {
    "execution": {
     "iopub.execute_input": "2023-10-29T22:37:41.125887Z",
     "iopub.status.busy": "2023-10-29T22:37:41.125524Z",
     "iopub.status.idle": "2023-10-29T22:37:41.128778Z",
     "shell.execute_reply": "2023-10-29T22:37:41.128258Z"
    },
    "papermill": {
     "duration": 0.008534,
     "end_time": "2023-10-29T22:37:41.129966",
     "exception": false,
     "start_time": "2023-10-29T22:37:41.121432",
     "status": "completed"
    },
    "tags": []
   },
   "outputs": [],
   "source": [
    "DATA_FILE = PRE_DATA_FILE + M_TIPO\n",
    "\n",
    "# si viene \"None\" en el parámetro max_depth, se le quitan las comillas para que no sea entendido por el algoritmo como un texto\n",
    "if \"clasifier__max_depth\" in param_distributions:\n",
    "    param_distributions['clasifier__max_depth'] = [None if x == 'None' else x for x in param_distributions['clasifier__max_depth']]"
   ]
  },
  {
   "cell_type": "markdown",
   "id": "1b0a80cf",
   "metadata": {
    "papermill": {
     "duration": 0.003538,
     "end_time": "2023-10-29T22:37:41.136970",
     "exception": false,
     "start_time": "2023-10-29T22:37:41.133432",
     "status": "completed"
    },
    "tags": []
   },
   "source": [
    "Asignar los algoritmos que se utilizarán en la función RandomSearchCV"
   ]
  },
  {
   "cell_type": "code",
   "execution_count": 5,
   "id": "ef1c3b86",
   "metadata": {
    "execution": {
     "iopub.execute_input": "2023-10-29T22:37:41.145065Z",
     "iopub.status.busy": "2023-10-29T22:37:41.144564Z",
     "iopub.status.idle": "2023-10-29T22:37:41.147502Z",
     "shell.execute_reply": "2023-10-29T22:37:41.146971Z"
    },
    "papermill": {
     "duration": 0.008217,
     "end_time": "2023-10-29T22:37:41.148716",
     "exception": false,
     "start_time": "2023-10-29T22:37:41.140499",
     "status": "completed"
    },
    "tags": []
   },
   "outputs": [],
   "source": [
    "algor_selector=eval(eval_selector)\n",
    "algor_clasifier=eval(eval_clasifier)"
   ]
  },
  {
   "cell_type": "markdown",
   "id": "7ceef3fc",
   "metadata": {
    "papermill": {
     "duration": 0.003651,
     "end_time": "2023-10-29T22:37:41.155908",
     "exception": false,
     "start_time": "2023-10-29T22:37:41.152257",
     "status": "completed"
    },
    "tags": []
   },
   "source": [
    "#### Comprobar el entorno y leer fichero de muestras"
   ]
  },
  {
   "cell_type": "code",
   "execution_count": 6,
   "id": "ff4cb29f",
   "metadata": {
    "execution": {
     "iopub.execute_input": "2023-10-29T22:37:41.164347Z",
     "iopub.status.busy": "2023-10-29T22:37:41.163867Z",
     "iopub.status.idle": "2023-10-29T22:37:41.400952Z",
     "shell.execute_reply": "2023-10-29T22:37:41.400347Z"
    },
    "papermill": {
     "duration": 0.242805,
     "end_time": "2023-10-29T22:37:41.402340",
     "exception": false,
     "start_time": "2023-10-29T22:37:41.159535",
     "status": "completed"
    },
    "tags": []
   },
   "outputs": [
    {
     "name": "stdout",
     "output_type": "stream",
     "text": [
      "20231029T233741 : enderlab : INFO : Encontrada carpeta DATA_DIR=../tfm_git/datos\n",
      "20231029T233741 : enderlab : INFO : Encontrada carpeta CFDNA_DIR=../tfm_git/datos/cfDNA_5hmC\n",
      "20231029T233741 : enderlab : INFO : Encontrada carpeta GENCODE_DIR=../tfm_git/datos/gencode\n",
      "20231029T233741 : enderlab : INFO : Encontrada carpeta H5_DIR=../tfm_git/datos/h5\n",
      "20231029T233741 : enderlab : INFO : Encontrada carpeta LOG_DIR=../tfm_git/datos/logs\n",
      "20231029T233741 : enderlab : INFO : Encontrada carpeta CSV_DIR=../tfm_git/datos/csv\n",
      "20231029T233741 : enderlab : INFO : Encontrada carpeta MODEL_DIR=../tfm_git/ejecuciones/modelos\n",
      "20231029T233741 : enderlab : INFO : Encontrada carpeta EXEC_DIR=../tfm_git/ejecuciones\n",
      "20231029T233741 : enderlab : INFO : Encontrada carpeta MET_DIR=../tfm_git/ejecuciones/metricas\n",
      "20231029T233741 : enderlab : INFO : Inicio leer fichero h5 ../tfm_git/datos/h5/rows_transpose_norm_by_gene_id_with_target_num_mul_m.h5\n",
      "20231029T233741 : enderlab : INFO : Leyendo clave /df\n"
     ]
    },
    {
     "name": "stdout",
     "output_type": "stream",
     "text": [
      "20231029T233741 : enderlab : INFO : Tamaño (434, 18876)\n",
      "20231029T233741 : enderlab : INFO : Fin leer fichero h5 ../tfm_git/datos/h5/rows_transpose_norm_by_gene_id_with_target_num_mul_m.h5\n"
     ]
    },
    {
     "data": {
      "text/plain": [
       "target\n",
       "0    62\n",
       "1    62\n",
       "2    62\n",
       "3    62\n",
       "4    62\n",
       "5    62\n",
       "6    62\n",
       "dtype: int64"
      ]
     },
     "metadata": {},
     "output_type": "display_data"
    },
    {
     "name": "stdout",
     "output_type": "stream",
     "text": [
      "Shape df: (434, 18876)\n"
     ]
    },
    {
     "name": "stdout",
     "output_type": "stream",
     "text": [
      "Shape X_train: (347, 18875)\n",
      "Shape X_test: (87, 18875)\n"
     ]
    }
   ],
   "source": [
    "start_time = datetime.datetime.now()\n",
    "\n",
    "myfunc.reset_vars()\n",
    "\n",
    "myfunc.NOTEBK_FILENAME = myfunc.get_nb_name()\n",
    "\n",
    "myfunc.check_enviroment(myfunc.DATA_DIR, myfunc.CFDNA_DIR, myfunc.GENCODE_DIR, myfunc.H5_DIR, myfunc.LOG_DIR, myfunc.CSV_DIR, myfunc.MODEL_DIR, myfunc.EXEC_DIR, myfunc.MET_DIR)\n",
    "\n",
    "# Leer fichero con las muestras\n",
    "df_t = myfunc.read_h5_to_df(DATA_FILE, myfunc.H5_DIR)\n",
    "display(df_t.groupby(\"target\").size())\n",
    "print(\"Shape df:\",df_t.shape)\n",
    "\n",
    "# Separar caracteristicas/genes de las etiquetas/tipos de cáncer\n",
    "X = df_t.iloc[:, :-1]  # Todas las columnas excepto la última\n",
    "y = df_t.iloc[:, -1]  # La última columna contiene los identificadores de los tipos de cáncer\n",
    "\n",
    "#  Crear el conjunto de datos de entrenamiento y de pruebas, y se fija la semilla para siempre coger el mismo juego de muestras\n",
    "X_train, X_test, y_train, y_test = train_test_split(X, y, test_size=0.2, shuffle=True, random_state=42)\n",
    "print(\"Shape X_train:\",X_train.shape)\n",
    "print(\"Shape X_test:\",X_test.shape)\n"
   ]
  },
  {
   "cell_type": "markdown",
   "id": "e2c9b7f6",
   "metadata": {
    "papermill": {
     "duration": 0.004079,
     "end_time": "2023-10-29T22:37:41.411001",
     "exception": false,
     "start_time": "2023-10-29T22:37:41.406922",
     "status": "completed"
    },
    "tags": []
   },
   "source": [
    "#### Selección de características y clasificación."
   ]
  },
  {
   "cell_type": "code",
   "execution_count": 7,
   "id": "b77a934f",
   "metadata": {
    "execution": {
     "iopub.execute_input": "2023-10-29T22:37:41.420967Z",
     "iopub.status.busy": "2023-10-29T22:37:41.420532Z",
     "iopub.status.idle": "2023-10-29T23:04:53.112244Z",
     "shell.execute_reply": "2023-10-29T23:04:53.111094Z"
    },
    "papermill": {
     "duration": 1631.702845,
     "end_time": "2023-10-29T23:04:53.117767",
     "exception": false,
     "start_time": "2023-10-29T22:37:41.414922",
     "status": "completed"
    },
    "tags": []
   },
   "outputs": [
    {
     "name": "stdout",
     "output_type": "stream",
     "text": [
      "20231029T233741 : enderlab : INFO : Iniciando entrenamiento\n",
      "num_iter: 1 , max_iter: 1\n",
      "Fitting 5 folds for each of 1 candidates, totalling 5 fits\n"
     ]
    },
    {
     "name": "stdout",
     "output_type": "stream",
     "text": [
      "[CV 1/5] END clasifier__l1_ratios=[0.1], clasifier__max_iter=10000, clasifier__penalty=elasticnet, clasifier__solver=saga, selector__estimator__n_estimators=400, selector__max_features=1000;, score=0.873 total time=10.8min\n"
     ]
    },
    {
     "name": "stdout",
     "output_type": "stream",
     "text": [
      "[CV 2/5] END clasifier__l1_ratios=[0.1], clasifier__max_iter=10000, clasifier__penalty=elasticnet, clasifier__solver=saga, selector__estimator__n_estimators=400, selector__max_features=1000;, score=0.893 total time=11.6min\n"
     ]
    },
    {
     "name": "stdout",
     "output_type": "stream",
     "text": [
      "[CV 3/5] END clasifier__l1_ratios=[0.1], clasifier__max_iter=10000, clasifier__penalty=elasticnet, clasifier__solver=saga, selector__estimator__n_estimators=400, selector__max_features=1000;, score=0.919 total time=12.1min\n"
     ]
    },
    {
     "name": "stdout",
     "output_type": "stream",
     "text": [
      "[CV 5/5] END clasifier__l1_ratios=[0.1], clasifier__max_iter=10000, clasifier__penalty=elasticnet, clasifier__solver=saga, selector__estimator__n_estimators=400, selector__max_features=1000;, score=0.856 total time=12.2min\n"
     ]
    },
    {
     "name": "stdout",
     "output_type": "stream",
     "text": [
      "[CV 4/5] END clasifier__l1_ratios=[0.1], clasifier__max_iter=10000, clasifier__penalty=elasticnet, clasifier__solver=saga, selector__estimator__n_estimators=400, selector__max_features=1000;, score=0.907 total time=12.5min\n"
     ]
    },
    {
     "name": "stdout",
     "output_type": "stream",
     "text": [
      "Mejores Hiperparámetros: {'selector__max_features': 1000, 'selector__estimator__n_estimators': 400, 'clasifier__solver': 'saga', 'clasifier__penalty': 'elasticnet', 'clasifier__max_iter': 10000, 'clasifier__l1_ratios': [0.1]}\n",
      "Mejor Puntuación: 0.8894\n",
      "20231030T000453 : enderlab : INFO : Fin entrenamiento\n"
     ]
    }
   ],
   "source": [
    "myfunc.verbose(\"Iniciando entrenamiento\")\n",
    "\n",
    "kf = KFold(n_splits=5, shuffle=True, random_state=SEMILLA)\n",
    "\n",
    "# Crear el pipeline para el flujo de tareas\n",
    "tasks_pipeline = Pipeline([\n",
    "    ('selector', algor_selector),\n",
    "    ('clasifier', algor_clasifier)\n",
    "])\n",
    "\n",
    "# MAX_ITERS puede limitar el número de iteraciones si son excesivas para las combinaciones de parámetros buscando un óptimo local, \n",
    "# sino funcionaría como GridSearchCV al revisar todas las cominaciones de los parámetros\n",
    "num_iteraciones = 1\n",
    "num_iteraciones = num_iteraciones * np.prod([len(elemento1) for _, elemento1 in param_distributions.items()])\n",
    "max_iteraciones = num_iteraciones if num_iteraciones <= MAX_ITERS else MAX_ITERS\n",
    "print(\"num_iter:\",num_iteraciones,\", max_iter:\",max_iteraciones)\n",
    "\n",
    "random_search = RandomizedSearchCV(\n",
    "    tasks_pipeline, \n",
    "    param_distributions, \n",
    "    n_iter=max_iteraciones,\n",
    "    scoring=SCORING,\n",
    "    cv=kf,\n",
    "    verbose=3, \n",
    "    random_state=SEMILLA, \n",
    "    n_jobs=-1\n",
    "    )\n",
    "\n",
    "# Entrenar el modelo\n",
    "random_search.fit(X_train, y_train)\n",
    "\n",
    "# Ver los mejores hiperparámetros encontrados\n",
    "print(f'Mejores Hiperparámetros: {random_search.best_params_}')\n",
    "print(f'Mejor Puntuación: {random_search.best_score_:.4f}')\n",
    "\n",
    "# Nos quedamos con el mejor modelo para ver las métricas\n",
    "mejor_modelo = random_search.best_estimator_\n",
    "\n",
    "myfunc.verbose(\"Fin entrenamiento\")"
   ]
  },
  {
   "cell_type": "markdown",
   "id": "29bf0556",
   "metadata": {
    "papermill": {
     "duration": 0.004998,
     "end_time": "2023-10-29T23:04:53.127334",
     "exception": false,
     "start_time": "2023-10-29T23:04:53.122336",
     "status": "completed"
    },
    "tags": []
   },
   "source": [
    "#### Guardar modelo"
   ]
  },
  {
   "cell_type": "code",
   "execution_count": 8,
   "id": "3fc7c882",
   "metadata": {
    "execution": {
     "iopub.execute_input": "2023-10-29T23:04:53.137869Z",
     "iopub.status.busy": "2023-10-29T23:04:53.137329Z",
     "iopub.status.idle": "2023-10-29T23:04:53.302224Z",
     "shell.execute_reply": "2023-10-29T23:04:53.301646Z"
    },
    "papermill": {
     "duration": 0.172057,
     "end_time": "2023-10-29T23:04:53.303567",
     "exception": false,
     "start_time": "2023-10-29T23:04:53.131510",
     "status": "completed"
    },
    "tags": []
   },
   "outputs": [
    {
     "name": "stdout",
     "output_type": "stream",
     "text": [
      "20231030T000453 : enderlab : INFO : Inicio guardar fichero ../tfm_git/ejecuciones/modelos/modelo_8270_mul_m_RF_LR_EN.pkl\n",
      "20231030T000453 : enderlab : INFO : Fin guardar fichero ../tfm_git/ejecuciones/modelos/modelo_8270_mul_m_RF_LR_EN.pkl\n"
     ]
    }
   ],
   "source": [
    "fichero_modelo = str.replace(\"modelo_\"+str(SEMILLA).zfill(4)+\"_\"+M_TIPO+\"_\"+M_SELECT+\"_\"+M_CLASIF+\".pkl\", \" \", \"_\")\n",
    "\n",
    "myfunc.save_modelo(mejor_modelo, myfunc.MODEL_DIR, fichero_modelo)"
   ]
  },
  {
   "cell_type": "markdown",
   "id": "754a1fd6",
   "metadata": {
    "papermill": {
     "duration": 0.004348,
     "end_time": "2023-10-29T23:04:53.312581",
     "exception": false,
     "start_time": "2023-10-29T23:04:53.308233",
     "status": "completed"
    },
    "tags": []
   },
   "source": [
    "#### Ver resultados del las iteraciones hechas por RandomSearchCV"
   ]
  },
  {
   "cell_type": "code",
   "execution_count": 9,
   "id": "8b22a03d",
   "metadata": {
    "execution": {
     "iopub.execute_input": "2023-10-29T23:04:53.322476Z",
     "iopub.status.busy": "2023-10-29T23:04:53.321891Z",
     "iopub.status.idle": "2023-10-29T23:04:53.331008Z",
     "shell.execute_reply": "2023-10-29T23:04:53.330478Z"
    },
    "papermill": {
     "duration": 0.015271,
     "end_time": "2023-10-29T23:04:53.332179",
     "exception": false,
     "start_time": "2023-10-29T23:04:53.316908",
     "status": "completed"
    },
    "tags": []
   },
   "outputs": [
    {
     "name": "stdout",
     "output_type": "stream",
     "text": [
      "20231030T000453 : enderlab : INFO : Inicio ver resultados\n",
      "Mejores Hiperparámetros: {'selector__max_features': 1000, 'selector__estimator__n_estimators': 400, 'clasifier__solver': 'saga', 'clasifier__penalty': 'elasticnet', 'clasifier__max_iter': 10000, 'clasifier__l1_ratios': [0.1]}\n",
      "Mejores puntuaciones: 0.8894 | Params: {'selector__max_features': 1000, 'selector__estimator__n_estimators': 400, 'clasifier__solver': 'saga', 'clasifier__penalty': 'elasticnet', 'clasifier__max_iter': 10000, 'clasifier__l1_ratios': [0.1]}\n",
      "Media de las puntuaciones: 0.8894 | Params: {'selector__max_features': 1000, 'selector__estimator__n_estimators': 400, 'clasifier__solver': 'saga', 'clasifier__penalty': 'elasticnet', 'clasifier__max_iter': 10000, 'clasifier__l1_ratios': [0.1]}\n",
      "20231030T000453 : enderlab : INFO : Fin resultados\n"
     ]
    }
   ],
   "source": [
    "myfunc.ver_resultados_search(random_search)"
   ]
  },
  {
   "cell_type": "markdown",
   "id": "ad143569",
   "metadata": {
    "papermill": {
     "duration": 0.00443,
     "end_time": "2023-10-29T23:04:53.340957",
     "exception": false,
     "start_time": "2023-10-29T23:04:53.336527",
     "status": "completed"
    },
    "tags": []
   },
   "source": [
    "#### Ver métricas del mejor modelo"
   ]
  },
  {
   "cell_type": "code",
   "execution_count": 10,
   "id": "9a782891",
   "metadata": {
    "execution": {
     "iopub.execute_input": "2023-10-29T23:04:53.350835Z",
     "iopub.status.busy": "2023-10-29T23:04:53.350430Z",
     "iopub.status.idle": "2023-10-29T23:04:54.506671Z",
     "shell.execute_reply": "2023-10-29T23:04:54.506082Z"
    },
    "papermill": {
     "duration": 1.162651,
     "end_time": "2023-10-29T23:04:54.508024",
     "exception": false,
     "start_time": "2023-10-29T23:04:53.345373",
     "status": "completed"
    },
    "tags": []
   },
   "outputs": [
    {
     "name": "stdout",
     "output_type": "stream",
     "text": [
      "20231030T000453 : enderlab : INFO : Inicio ver métricas multiclase\n"
     ]
    },
    {
     "name": "stdout",
     "output_type": "stream",
     "text": [
      "              precision    recall  f1-score   support\n",
      "\n",
      "           0       0.33      0.12      0.18        16\n",
      "           1       0.73      0.53      0.62        15\n",
      "           2       0.27      0.27      0.27        11\n",
      "           3       0.31      1.00      0.48         5\n",
      "           4       0.69      0.69      0.69        13\n",
      "           5       0.62      0.89      0.73         9\n",
      "           6       0.59      0.56      0.57        18\n",
      "\n",
      "    accuracy                           0.52        87\n",
      "   macro avg       0.51      0.58      0.51        87\n",
      "weighted avg       0.53      0.52      0.50        87\n",
      "\n",
      "\n",
      "\n",
      "           Exactitud: 0.517241\n",
      "   Precisión (media): 0.505966\n",
      "      Recall (media): 0.581116\n",
      "    F1-score (media): 0.505304\n",
      "\n",
      "\n",
      "AUC para el tipo de cáncer 0-Control.... 0.6646\n",
      "AUC para el tipo de cáncer 1-Bladder.... 0.8556\n",
      "AUC para el tipo de cáncer 2-Breast..... 0.7093\n",
      "AUC para el tipo de cáncer 3-Colorectal. 0.9415\n",
      "AUC para el tipo de cáncer 4-Kidney..... 0.9044\n",
      "AUC para el tipo de cáncer 5-Lung....... 0.9786\n",
      "AUC para el tipo de cáncer 6-Prostate... 0.8486\n",
      "\n",
      "Media de AUC: 0.8432\n"
     ]
    },
    {
     "data": {
      "image/png": "[encoded data removed]",
      "text/plain": [
       "<Figure size 1000x600 with 1 Axes>"
      ]
     },
     "metadata": {},
     "output_type": "display_data"
    },
    {
     "name": "stdout",
     "output_type": "stream",
     "text": [
      "\n",
      "\n"
     ]
    },
    {
     "data": {
      "image/png": "[encoded data removed]",
      "text/plain": [
       "<Figure size 800x400 with 2 Axes>"
      ]
     },
     "metadata": {},
     "output_type": "display_data"
    },
    {
     "name": "stdout",
     "output_type": "stream",
     "text": [
      "\n",
      "\n",
      "Puntuación Jaccard para el cáncer tipo 0-Control.... 0.1000\n",
      "Puntuación Jaccard para el cáncer tipo 1-Bladder.... 0.4444\n",
      "Puntuación Jaccard para el cáncer tipo 2-Breast..... 0.1579\n",
      "Puntuación Jaccard para el cáncer tipo 3-Colorectal. 0.3125\n",
      "Puntuación Jaccard para el cáncer tipo 4-Kidney..... 0.5294\n",
      "Puntuación Jaccard para el cáncer tipo 5-Lung....... 0.5714\n",
      "Puntuación Jaccard para el cáncer tipo 6-Prostate... 0.4000\n",
      "\n",
      "Media de la puntuación de Jaccard: 0.3594\n"
     ]
    }
   ],
   "source": [
    "if M_TIPO.startswith(\"bin\"):\n",
    "    myfunc.ver_metricas(mejor_modelo, X_test, y_test)\n",
    "else:\n",
    "    myfunc.ver_metricas_multi(mejor_modelo, X_test, y_test)\n"
   ]
  },
  {
   "cell_type": "markdown",
   "id": "e1d4e3ee",
   "metadata": {
    "papermill": {
     "duration": 0.006053,
     "end_time": "2023-10-29T23:04:54.520781",
     "exception": false,
     "start_time": "2023-10-29T23:04:54.514728",
     "status": "completed"
    },
    "tags": []
   },
   "source": [
    "#### Finalización del notebook"
   ]
  },
  {
   "cell_type": "code",
   "execution_count": 11,
   "id": "7c9892c2",
   "metadata": {
    "execution": {
     "iopub.execute_input": "2023-10-29T23:04:54.534016Z",
     "iopub.status.busy": "2023-10-29T23:04:54.533591Z",
     "iopub.status.idle": "2023-10-29T23:04:54.537201Z",
     "shell.execute_reply": "2023-10-29T23:04:54.536676Z"
    },
    "papermill": {
     "duration": 0.011502,
     "end_time": "2023-10-29T23:04:54.538450",
     "exception": false,
     "start_time": "2023-10-29T23:04:54.526948",
     "status": "completed"
    },
    "tags": []
   },
   "outputs": [
    {
     "name": "stdout",
     "output_type": "stream",
     "text": [
      "20231030T000454 : enderlab : INFO : Notebook ha tardado 1633 seconds\n"
     ]
    }
   ],
   "source": [
    "end_time = datetime.datetime.now()\n",
    "total_time = end_time - start_time\n",
    "myfunc.verbose(f\"Notebook ha tardado {total_time.seconds} seconds\")"
   ]
  },
  {
   "cell_type": "markdown",
   "id": "e77e7e58",
   "metadata": {
    "papermill": {
     "duration": 0.006141,
     "end_time": "2023-10-29T23:04:54.550486",
     "exception": false,
     "start_time": "2023-10-29T23:04:54.544345",
     "status": "completed"
    },
    "tags": []
   },
   "source": [
    "#### Guardar métricas"
   ]
  },
  {
   "cell_type": "code",
   "execution_count": 12,
   "id": "3782cfb1",
   "metadata": {
    "execution": {
     "iopub.execute_input": "2023-10-29T23:04:54.563727Z",
     "iopub.status.busy": "2023-10-29T23:04:54.563267Z",
     "iopub.status.idle": "2023-10-29T23:04:55.630818Z",
     "shell.execute_reply": "2023-10-29T23:04:55.630276Z"
    },
    "papermill": {
     "duration": 1.075709,
     "end_time": "2023-10-29T23:04:55.632303",
     "exception": false,
     "start_time": "2023-10-29T23:04:54.556594",
     "status": "completed"
    },
    "tags": []
   },
   "outputs": [
    {
     "name": "stdout",
     "output_type": "stream",
     "text": [
      "20231030T000454 : enderlab : INFO : Inicio guardar métricas multiclase\n",
      "20231030T000454 : enderlab : INFO : Inicio leer fichero ../tfm_git/ejecuciones/metricas/metricas_8270.csv\n",
      "20231030T000454 : enderlab : INFO : Fin leer fichero ../tfm_git/ejecuciones/metricas/metricas_8270.csv\n"
     ]
    },
    {
     "name": "stdout",
     "output_type": "stream",
     "text": [
      "20231030T000455 : enderlab : INFO : Inicio guardar fichero ../tfm_git/ejecuciones/metricas/metricas_8270.csv\n",
      "20231030T000455 : enderlab : INFO : Fichero borrado ../tfm_git/ejecuciones/metricas/metricas_8270.csv\n",
      "20231030T000455 : enderlab : INFO : Fin guardar fichero ../tfm_git/ejecuciones/metricas/metricas_8270.csv\n",
      "20231030T000455 : enderlab : INFO : Fin guardar métricas multiclase\n",
      "20231030T000455 : enderlab : INFO : Inicio leer fichero ../tfm_git/ejecuciones/metricas/metricas_8270.csv\n",
      "20231030T000455 : enderlab : INFO : Fin leer fichero ../tfm_git/ejecuciones/metricas/metricas_8270.csv\n"
     ]
    },
    {
     "data": {
      "text/html": [
       "<div>\n",
       "<style scoped>\n",
       "    .dataframe tbody tr th:only-of-type {\n",
       "        vertical-align: middle;\n",
       "    }\n",
       "\n",
       "    .dataframe tbody tr th {\n",
       "        vertical-align: top;\n",
       "    }\n",
       "\n",
       "    .dataframe thead th {\n",
       "        text-align: right;\n",
       "    }\n",
       "</style>\n",
       "<table border=\"1\" class=\"dataframe\">\n",
       "  <thead>\n",
       "    <tr style=\"text-align: right;\">\n",
       "      <th></th>\n",
       "      <th>tipo</th>\n",
       "      <th>select</th>\n",
       "      <th>clasific</th>\n",
       "      <th>semilla</th>\n",
       "      <th>accuracy</th>\n",
       "      <th>precision</th>\n",
       "      <th>recall</th>\n",
       "      <th>f1_score</th>\n",
       "      <th>roc_auc</th>\n",
       "      <th>hostname</th>\n",
       "      <th>total_time_sec</th>\n",
       "      <th>datetime</th>\n",
       "      <th>fichero_modelo</th>\n",
       "      <th>params</th>\n",
       "      <th>shape</th>\n",
       "      <th>features</th>\n",
       "      <th>roc_auc_ovr</th>\n",
       "      <th>indices_auc</th>\n",
       "      <th>indices_jaccard</th>\n",
       "    </tr>\n",
       "  </thead>\n",
       "  <tbody>\n",
       "    <tr>\n",
       "      <th>0</th>\n",
       "      <td>mul_m</td>\n",
       "      <td>RF</td>\n",
       "      <td>LR_EN</td>\n",
       "      <td>8270</td>\n",
       "      <td>0.517241</td>\n",
       "      <td>0.505966</td>\n",
       "      <td>0.581116</td>\n",
       "      <td>0.505304</td>\n",
       "      <td>NaN</td>\n",
       "      <td>enderlab</td>\n",
       "      <td>1633</td>\n",
       "      <td>2023-10-30 00:04:55.583566</td>\n",
       "      <td>modelo_8270_mul_m_RF_LR_EN.pkl</td>\n",
       "      <td>{'selector__max_features': 1000, 'selector__es...</td>\n",
       "      <td>X_test:(87, 18875)</td>\n",
       "      <td>['ENSG00000002933.9', 'ENSG00000006468.15', 'E...</td>\n",
       "      <td>0.843227</td>\n",
       "      <td>[0.664612676056338, 0.8555555555555555, 0.7093...</td>\n",
       "      <td>[0.1, 0.4444444444444444, 0.15789473684210525,...</td>\n",
       "    </tr>\n",
       "    <tr>\n",
       "      <th>0</th>\n",
       "      <td>mul_m</td>\n",
       "      <td>MI</td>\n",
       "      <td>SVM</td>\n",
       "      <td>8270</td>\n",
       "      <td>0.517241</td>\n",
       "      <td>0.544727</td>\n",
       "      <td>0.546989</td>\n",
       "      <td>0.538051</td>\n",
       "      <td>NaN</td>\n",
       "      <td>enderlab</td>\n",
       "      <td>226</td>\n",
       "      <td>2023-10-29 23:37:34.392882</td>\n",
       "      <td>modelo_8270_mul_m_MI_SVM.pkl</td>\n",
       "      <td>{'selector__k': 1000, 'clasifier__kernel': 'rb...</td>\n",
       "      <td>X_test:(87, 18875)</td>\n",
       "      <td>['ENSG00000001460.18', 'ENSG00000004660.15', '...</td>\n",
       "      <td>0.827736</td>\n",
       "      <td>[0.7904929577464789, 0.8240740740740741, 0.739...</td>\n",
       "      <td>[0.25, 0.3684210526315789, 0.14285714285714285...</td>\n",
       "    </tr>\n",
       "    <tr>\n",
       "      <th>0</th>\n",
       "      <td>mul_m</td>\n",
       "      <td>MI</td>\n",
       "      <td>RF</td>\n",
       "      <td>8270</td>\n",
       "      <td>0.436782</td>\n",
       "      <td>0.418818</td>\n",
       "      <td>0.469302</td>\n",
       "      <td>0.410786</td>\n",
       "      <td>NaN</td>\n",
       "      <td>enderlab</td>\n",
       "      <td>251</td>\n",
       "      <td>2023-10-29 23:33:40.799319</td>\n",
       "      <td>modelo_8270_mul_m_MI_RF.pkl</td>\n",
       "      <td>{'selector__k': 1000, 'clasifier__n_estimators...</td>\n",
       "      <td>X_test:(87, 18875)</td>\n",
       "      <td>['ENSG00000001460.18', 'ENSG00000004660.15', '...</td>\n",
       "      <td>0.786776</td>\n",
       "      <td>[0.5915492957746479, 0.8435185185185186, 0.710...</td>\n",
       "      <td>[0.05, 0.38095238095238093, 0.2666666666666666...</td>\n",
       "    </tr>\n",
       "  </tbody>\n",
       "</table>\n",
       "</div>"
      ],
      "text/plain": [
       "    tipo select clasific  semilla  accuracy  precision    recall  f1_score  \\\n",
       "0  mul_m     RF    LR_EN     8270  0.517241   0.505966  0.581116  0.505304   \n",
       "0  mul_m     MI      SVM     8270  0.517241   0.544727  0.546989  0.538051   \n",
       "0  mul_m     MI       RF     8270  0.436782   0.418818  0.469302  0.410786   \n",
       "\n",
       "   roc_auc  hostname  total_time_sec                    datetime  \\\n",
       "0      NaN  enderlab            1633  2023-10-30 00:04:55.583566   \n",
       "0      NaN  enderlab             226  2023-10-29 23:37:34.392882   \n",
       "0      NaN  enderlab             251  2023-10-29 23:33:40.799319   \n",
       "\n",
       "                   fichero_modelo  \\\n",
       "0  modelo_8270_mul_m_RF_LR_EN.pkl   \n",
       "0    modelo_8270_mul_m_MI_SVM.pkl   \n",
       "0     modelo_8270_mul_m_MI_RF.pkl   \n",
       "\n",
       "                                              params               shape  \\\n",
       "0  {'selector__max_features': 1000, 'selector__es...  X_test:(87, 18875)   \n",
       "0  {'selector__k': 1000, 'clasifier__kernel': 'rb...  X_test:(87, 18875)   \n",
       "0  {'selector__k': 1000, 'clasifier__n_estimators...  X_test:(87, 18875)   \n",
       "\n",
       "                                            features  roc_auc_ovr  \\\n",
       "0  ['ENSG00000002933.9', 'ENSG00000006468.15', 'E...     0.843227   \n",
       "0  ['ENSG00000001460.18', 'ENSG00000004660.15', '...     0.827736   \n",
       "0  ['ENSG00000001460.18', 'ENSG00000004660.15', '...     0.786776   \n",
       "\n",
       "                                         indices_auc  \\\n",
       "0  [0.664612676056338, 0.8555555555555555, 0.7093...   \n",
       "0  [0.7904929577464789, 0.8240740740740741, 0.739...   \n",
       "0  [0.5915492957746479, 0.8435185185185186, 0.710...   \n",
       "\n",
       "                                     indices_jaccard  \n",
       "0  [0.1, 0.4444444444444444, 0.15789473684210525,...  \n",
       "0  [0.25, 0.3684210526315789, 0.14285714285714285...  \n",
       "0  [0.05, 0.38095238095238093, 0.2666666666666666...  "
      ]
     },
     "metadata": {},
     "output_type": "display_data"
    }
   ],
   "source": [
    "if M_TIPO.startswith(\"bin\"):\n",
    "    myfunc.save_metricas_to_csv(random_search, X_test, y_test, M_TIPO, M_SELECT, M_CLASIF, total_time, SEMILLA, myfunc.MET_DIR, M_FICHERO, fichero_modelo)\n",
    "else:\n",
    "    myfunc.save_metricas_multi_to_csv(random_search, X_test, y_test, M_TIPO, M_SELECT, M_CLASIF, total_time, SEMILLA, myfunc.MET_DIR, M_FICHERO, fichero_modelo)\n",
    "\n",
    "df1=myfunc.read_metricas_to_df(myfunc.MET_DIR,M_FICHERO)\n",
    "\n",
    "display(df1.sort_values(\"datetime\", ascending=False)[:3])\n"
   ]
  },
  {
   "cell_type": "markdown",
   "id": "4b63aed8",
   "metadata": {
    "papermill": {
     "duration": 0.006522,
     "end_time": "2023-10-29T23:04:55.646032",
     "exception": false,
     "start_time": "2023-10-29T23:04:55.639510",
     "status": "completed"
    },
    "tags": []
   },
   "source": [
    "#### Guardar resultados"
   ]
  },
  {
   "cell_type": "code",
   "execution_count": 13,
   "id": "fef35b51",
   "metadata": {
    "execution": {
     "iopub.execute_input": "2023-10-29T23:04:55.659959Z",
     "iopub.status.busy": "2023-10-29T23:04:55.659381Z",
     "iopub.status.idle": "2023-10-29T23:04:55.668218Z",
     "shell.execute_reply": "2023-10-29T23:04:55.667680Z"
    },
    "papermill": {
     "duration": 0.017161,
     "end_time": "2023-10-29T23:04:55.669469",
     "exception": false,
     "start_time": "2023-10-29T23:04:55.652308",
     "status": "completed"
    },
    "tags": []
   },
   "outputs": [
    {
     "name": "stdout",
     "output_type": "stream",
     "text": [
      "20231030T000455 : enderlab : INFO : Inicio guardar resultados\n",
      "20231030T000455 : enderlab : INFO : Inicio guardar fichero ../tfm_git/ejecuciones/metricas/resultados_8270_mul_m-RF-LR_EN.csv\n",
      "20231030T000455 : enderlab : INFO : Fin guardar fichero ../tfm_git/ejecuciones/metricas/resultados_8270_mul_m-RF-LR_EN.csv\n",
      "20231030T000455 : enderlab : INFO : Fin guardar resultados\n"
     ]
    }
   ],
   "source": [
    "fichero_resultados=R_FICHERO+\"_\"+M_TIPO+\"-\"+M_SELECT+\"-\"+M_CLASIF+\".csv\"\n",
    "myfunc.save_resultados_to_csv(M_TIPO, M_SELECT, M_CLASIF,  random_search, myfunc.MET_DIR, fichero_resultados)\n"
   ]
  }
 ],
 "metadata": {
  "kernelspec": {
   "display_name": "Python 3 (ipykernel)",
   "language": "python",
   "name": "python3"
  },
  "language_info": {
   "codemirror_mode": {
    "name": "ipython",
    "version": 3
   },
   "file_extension": ".py",
   "mimetype": "text/x-python",
   "name": "python",
   "nbconvert_exporter": "python",
   "pygments_lexer": "ipython3",
   "version": "3.10.11"
  },
  "papermill": {
   "default_parameters": {},
   "duration": 1639.547116,
   "end_time": "2023-10-29T23:04:58.294646",
   "environment_variables": {},
   "exception": null,
   "input_path": "03_entrenamiento.ipynb",
   "output_path": "ejecuciones/training/03_entrenamiento.20231029T233738.param_0000_8270_mul_m_RF_LR_EN.output.ipynb",
   "parameters": {
    "MAX_ITERS": 500,
    "M_CLASIF": "LR_EN",
    "M_FICHERO": "metricas_8270",
    "M_SELECT": "RF",
    "M_TIPO": "mul_m",
    "PRE_DATA_FILE": "rows_transpose_norm_by_gene_id_with_target_num_",
    "P_FICHERO": "param_0000_8270_mul_m_RF_LR_EN.yaml",
    "R_FICHERO": "resultados_8270",
    "SCORING": "roc_auc_ovr",
    "SEMILLA": 8270,
    "eval_clasifier": "LogisticRegressionCV(random_state=SEMILLA)",
    "eval_selector": "SelectFromModel(estimator=RandomForestClassifier(random_state=SEMILLA), threshold=-np.inf)",
    "param_distributions": {
     "clasifier__l1_ratios": [
      [
       0.1
      ]
     ],
     "clasifier__max_iter": [
      10000
     ],
     "clasifier__penalty": [
      "elasticnet"
     ],
     "clasifier__solver": [
      "saga"
     ],
     "selector__estimator__n_estimators": [
      400
     ],
     "selector__max_features": [
      1000
     ]
    }
   },
   "start_time": "2023-10-29T22:37:38.747530",
   "version": "2.4.0"
  }
 },
 "nbformat": 4,
 "nbformat_minor": 5
}