{
 "cells": [
  {
   "cell_type": "markdown",
   "id": "41943d17",
   "metadata": {
    "papermill": {
     "duration": 0.004494,
     "end_time": "2023-10-30T03:58:45.043206",
     "exception": false,
     "start_time": "2023-10-30T03:58:45.038712",
     "status": "completed"
    },
    "tags": []
   },
   "source": [
    "##### Inicio"
   ]
  },
  {
   "cell_type": "markdown",
   "id": "f81557be",
   "metadata": {
    "papermill": {
     "duration": 0.003665,
     "end_time": "2023-10-30T03:58:45.050869",
     "exception": false,
     "start_time": "2023-10-30T03:58:45.047204",
     "status": "completed"
    },
    "tags": []
   },
   "source": [
    "#### Carga de datos"
   ]
  },
  {
   "cell_type": "code",
   "execution_count": 1,
   "id": "2355b383",
   "metadata": {
    "execution": {
     "iopub.execute_input": "2023-10-30T03:58:45.059585Z",
     "iopub.status.busy": "2023-10-30T03:58:45.059348Z",
     "iopub.status.idle": "2023-10-30T03:58:45.917073Z",
     "shell.execute_reply": "2023-10-30T03:58:45.916543Z"
    },
    "papermill": {
     "duration": 0.86372,
     "end_time": "2023-10-30T03:58:45.918350",
     "exception": false,
     "start_time": "2023-10-30T03:58:45.054630",
     "status": "completed"
    },
    "tags": []
   },
   "outputs": [
    {
     "name": "stdout",
     "output_type": "stream",
     "text": [
      "CPU_COUNT: 8; NODE: amilcar22; sys.version: 3.10.12 (main, Jul  5 2023, 19:22:19) [GCC 11.2.0]\n",
      "LOKY_MAX_CPU_COUNT: 6\n",
      "OMP_NUM_THREADS: 2\n"
     ]
    }
   ],
   "source": [
    "import os\n",
    "import numpy as np\n",
    "import pandas as pd\n",
    "import datetime\n",
    "import sklearn\n",
    "import logging\n",
    "import warnings\n",
    "\n",
    "from sklearn.pipeline import Pipeline\n",
    "from sklearn.model_selection import RandomizedSearchCV, KFold, cross_val_score, train_test_split\n",
    "from sklearn.metrics import accuracy_score, confusion_matrix, classification_report, roc_auc_score\n",
    "\n",
    "#  cargar algoritmos para aprendizaje supervisado\n",
    "from sklearn.feature_selection import SelectKBest, f_classif, SelectFromModel, mutual_info_classif\n",
    "from sklearn.svm import SVC\n",
    "from sklearn.ensemble import RandomForestClassifier\n",
    "from sklearn.linear_model import LogisticRegression,LogisticRegressionCV\n",
    "\n",
    "# importar fichero con utilidades propias\n",
    "from commons import myfunctions as myfunc\n"
   ]
  },
  {
   "cell_type": "markdown",
   "id": "44f3c312",
   "metadata": {
    "papermill": {
     "duration": 0.002614,
     "end_time": "2023-10-30T03:58:45.923973",
     "exception": false,
     "start_time": "2023-10-30T03:58:45.921359",
     "status": "completed"
    },
    "tags": []
   },
   "source": [
    "#### Parámetros a utilizar en el entrenamiento.\n",
    "\n",
    "Se indican los 3 algoritmos de *selección de características* (eval_selector_xxx) y los 3 algoritmos para la _clasificación_ (eval_clasifier_xxx)\n",
    "\n",
    "En *param_distributions* se indicar los parámetros que utilizan los algoritmos en la función RandomSearchCV.\n",
    "\n",
    "Esta celda tiene la etiqueta **parameters** que servirá para poder lanzar los entrenamientos con la utilidad **papermill** pasándole un fichero con los parámetros. Los nuevos parámetros se situarán tras esta celda para tener prevalencia."
   ]
  },
  {
   "cell_type": "code",
   "execution_count": 2,
   "id": "a747022e",
   "metadata": {
    "execution": {
     "iopub.execute_input": "2023-10-30T03:58:45.930336Z",
     "iopub.status.busy": "2023-10-30T03:58:45.929997Z",
     "iopub.status.idle": "2023-10-30T03:58:45.936826Z",
     "shell.execute_reply": "2023-10-30T03:58:45.936297Z"
    },
    "papermill": {
     "duration": 0.011537,
     "end_time": "2023-10-30T03:58:45.938090",
     "exception": false,
     "start_time": "2023-10-30T03:58:45.926553",
     "status": "completed"
    },
    "tags": [
     "parameters"
    ]
   },
   "outputs": [
    {
     "name": "stdout",
     "output_type": "stream",
     "text": [
      "20231030T045845 : amilcar22 : INFO : Utilizando parámetros de mul_m\n"
     ]
    }
   ],
   "source": [
    "#  Parametros para el entrenamiento\n",
    "\n",
    "SEMILLA=        42\n",
    "M_TIPO=         \"mul_m\"\n",
    "M_SELECT=       \"MI\"\n",
    "M_CLASIF=       \"SVM\"\n",
    "R_FICHERO=      \"resultados\"\n",
    "M_FICHERO=      \"metricas\"\n",
    "PRE_DATA_FILE=  \"rows_transpose_norm_by_gene_id_with_target_num_\"\n",
    "SCORING=        \"roc_auc_ovr\" \n",
    "MAX_ITERS=      100\n",
    "\n",
    "def mutual_info_classif_state(X, y):\n",
    "    return mutual_info_classif(X, y, random_state=SEMILLA)\n",
    "\n",
    "eval_selector_mi = \"SelectKBest(score_func=mutual_info_classif_state)\"\n",
    "eval_selector_rf=  \"SelectFromModel(estimator=RandomForestClassifier(random_state=SEMILLA), threshold=-np.inf)\"\n",
    "eval_selector_anova=  \"SelectKBest(score_func=f_classif)\"\n",
    "\n",
    "eval_clasifier_svm= \"SVC(probability=True, random_state=SEMILLA)\"\n",
    "eval_clasifier_rf= \"RandomForestClassifier(random_state=SEMILLA)\"\n",
    "eval_clasifier_lr= \"LogisticRegressionCV(random_state=SEMILLA)\"\n",
    "\n",
    "if M_TIPO.startswith(\"bin_m\"):\n",
    "    myfunc.verbose(f\"Utilizando parámetros de {M_TIPO}\")\n",
    "    eval_selector = eval_selector_mi\n",
    "    eval_clasifier = eval_clasifier_svm\n",
    "\n",
    "    SEMILLA = 6578\n",
    "    M_SELECT = \"MI\"\n",
    "    M_CLASIF = \"SVM\"\n",
    "    param_distributions = {'selector__k': [1000], \n",
    "         'clasifier__kernel': ['rbf'], 'clasifier__gamma': [0.01], 'clasifier__C': [100]}\n",
    "elif M_TIPO.startswith(\"bin_s\"):\n",
    "    myfunc.verbose(f\"Utilizando parámetros de {M_TIPO}\")\n",
    "    eval_selector = eval_selector_rf\n",
    "    eval_clasifier = eval_clasifier_lr\n",
    "\n",
    "    SEMILLA = 6191\n",
    "    M_SELECT = \"RF\"\n",
    "    M_CLASIF = \"LR_L2\"\n",
    "    param_distributions = {'selector__max_features': [1000], 'selector__estimator__n_estimators': [200], \n",
    "        'clasifier__solver': ['lbfgs'], 'clasifier__penalty': ['l2'], 'clasifier__max_iter': [10000]}\n",
    "\n",
    "elif M_TIPO.startswith(\"mul_m\"):\n",
    "    myfunc.verbose(f\"Utilizando parámetros de {M_TIPO}\")\n",
    " \n",
    "    eval_selector = eval_selector_rf\n",
    "    eval_clasifier = eval_clasifier_lr\n",
    "\n",
    "    SEMILLA = 6191\n",
    "    M_SELECT = \"RF\"\n",
    "    M_CLASIF = \"LR_L2\"\n",
    "    param_distributions = {'selector__max_features': [1000], 'selector__estimator__n_estimators': [400], \n",
    "        'clasifier__solver': ['lbfgs'], 'clasifier__penalty': ['l2'], 'clasifier__max_iter': [10000]}\n",
    "\n",
    "else:\n",
    "    # M_TIPO.startswith(\"mul_s\"):\n",
    "    myfunc.verbose(f\"Utilizando parámetros de {M_TIPO}\")\n",
    "    eval_selector = eval_selector_anova\n",
    "    eval_clasifier = eval_clasifier_lr\n",
    "\n",
    "    SEMILLA = 1860\n",
    "    M_SELECT = \"ANOVA\"\n",
    "    M_CLASIF = \"LR_L2\"\n",
    "    param_distributions = {'selector__k': [1000], \n",
    "        'clasifier__solver': ['saga'], 'clasifier__penalty': ['l2'], 'clasifier__max_iter': [10000]}\n",
    "\n"
   ]
  },
  {
   "cell_type": "code",
   "execution_count": 3,
   "id": "0a42ef2f",
   "metadata": {
    "execution": {
     "iopub.execute_input": "2023-10-30T03:58:45.944361Z",
     "iopub.status.busy": "2023-10-30T03:58:45.943983Z",
     "iopub.status.idle": "2023-10-30T03:58:45.947447Z",
     "shell.execute_reply": "2023-10-30T03:58:45.946982Z"
    },
    "papermill": {
     "duration": 0.007804,
     "end_time": "2023-10-30T03:58:45.948658",
     "exception": false,
     "start_time": "2023-10-30T03:58:45.940854",
     "status": "completed"
    },
    "tags": [
     "injected-parameters"
    ]
   },
   "outputs": [],
   "source": [
    "# Parameters\n",
    "M_TIPO = \"mul_s\"\n",
    "M_SELECT = \"MI\"\n",
    "M_CLASIF = \"LR_L2\"\n",
    "P_FICHERO = \"param_0000_1466_mul_s_MI_LR_L2.yaml\"\n",
    "R_FICHERO = \"resultados_1466\"\n",
    "M_FICHERO = \"metricas_1466\"\n",
    "PRE_DATA_FILE = \"rows_transpose_norm_by_gene_id_with_target_num_\"\n",
    "SCORING = \"roc_auc_ovr\"\n",
    "SEMILLA = 1466\n",
    "MAX_ITERS = 500\n",
    "eval_selector = \"SelectKBest(score_func=mutual_info_classif_state)\"\n",
    "eval_clasifier = \"LogisticRegressionCV(random_state=SEMILLA)\"\n",
    "param_distributions = {\n",
    "    \"selector__k\": [500],\n",
    "    \"clasifier__solver\": [\"saga\"],\n",
    "    \"clasifier__penalty\": [\"l2\"],\n",
    "    \"clasifier__max_iter\": [10000],\n",
    "}\n"
   ]
  },
  {
   "cell_type": "code",
   "execution_count": 4,
   "id": "a03f1910",
   "metadata": {
    "execution": {
     "iopub.execute_input": "2023-10-30T03:58:45.967594Z",
     "iopub.status.busy": "2023-10-30T03:58:45.967413Z",
     "iopub.status.idle": "2023-10-30T03:58:45.970661Z",
     "shell.execute_reply": "2023-10-30T03:58:45.970176Z"
    },
    "papermill": {
     "duration": 0.020467,
     "end_time": "2023-10-30T03:58:45.971893",
     "exception": false,
     "start_time": "2023-10-30T03:58:45.951426",
     "status": "completed"
    },
    "tags": []
   },
   "outputs": [],
   "source": [
    "DATA_FILE = PRE_DATA_FILE + M_TIPO\n",
    "\n",
    "# si viene \"None\" en el parámetro max_depth, se le quitan las comillas para que no sea entendido por el algoritmo como un texto\n",
    "if \"clasifier__max_depth\" in param_distributions:\n",
    "    param_distributions['clasifier__max_depth'] = [None if x == 'None' else x for x in param_distributions['clasifier__max_depth']]"
   ]
  },
  {
   "cell_type": "markdown",
   "id": "07072d73",
   "metadata": {
    "papermill": {
     "duration": 0.00312,
     "end_time": "2023-10-30T03:58:45.978189",
     "exception": false,
     "start_time": "2023-10-30T03:58:45.975069",
     "status": "completed"
    },
    "tags": []
   },
   "source": [
    "Asignar los algoritmos que se utilizarán en la función RandomSearchCV"
   ]
  },
  {
   "cell_type": "code",
   "execution_count": 5,
   "id": "5352d8c0",
   "metadata": {
    "execution": {
     "iopub.execute_input": "2023-10-30T03:58:45.985272Z",
     "iopub.status.busy": "2023-10-30T03:58:45.985084Z",
     "iopub.status.idle": "2023-10-30T03:58:45.988218Z",
     "shell.execute_reply": "2023-10-30T03:58:45.987569Z"
    },
    "papermill": {
     "duration": 0.008503,
     "end_time": "2023-10-30T03:58:45.989882",
     "exception": false,
     "start_time": "2023-10-30T03:58:45.981379",
     "status": "completed"
    },
    "tags": []
   },
   "outputs": [],
   "source": [
    "algor_selector=eval(eval_selector)\n",
    "algor_clasifier=eval(eval_clasifier)"
   ]
  },
  {
   "cell_type": "markdown",
   "id": "81ba46fc",
   "metadata": {
    "papermill": {
     "duration": 0.004091,
     "end_time": "2023-10-30T03:58:45.998251",
     "exception": false,
     "start_time": "2023-10-30T03:58:45.994160",
     "status": "completed"
    },
    "tags": []
   },
   "source": [
    "#### Comprobar el entorno y leer fichero de muestras"
   ]
  },
  {
   "cell_type": "code",
   "execution_count": 6,
   "id": "b3f983f2",
   "metadata": {
    "execution": {
     "iopub.execute_input": "2023-10-30T03:58:46.006750Z",
     "iopub.status.busy": "2023-10-30T03:58:46.006542Z",
     "iopub.status.idle": "2023-10-30T03:58:46.138441Z",
     "shell.execute_reply": "2023-10-30T03:58:46.137949Z"
    },
    "papermill": {
     "duration": 0.137602,
     "end_time": "2023-10-30T03:58:46.139743",
     "exception": false,
     "start_time": "2023-10-30T03:58:46.002141",
     "status": "completed"
    },
    "tags": []
   },
   "outputs": [
    {
     "name": "stdout",
     "output_type": "stream",
     "text": [
      "20231030T045846 : amilcar22 : INFO : Encontrada carpeta DATA_DIR=../tfm_git/datos\n",
      "20231030T045846 : amilcar22 : INFO : Encontrada carpeta CFDNA_DIR=../tfm_git/datos/cfDNA_5hmC\n",
      "20231030T045846 : amilcar22 : INFO : Encontrada carpeta GENCODE_DIR=../tfm_git/datos/gencode\n",
      "20231030T045846 : amilcar22 : INFO : Encontrada carpeta H5_DIR=../tfm_git/datos/h5\n",
      "20231030T045846 : amilcar22 : INFO : Encontrada carpeta LOG_DIR=../tfm_git/datos/logs\n",
      "20231030T045846 : amilcar22 : INFO : Encontrada carpeta CSV_DIR=../tfm_git/datos/csv\n",
      "20231030T045846 : amilcar22 : INFO : Encontrada carpeta MODEL_DIR=../tfm_git/ejecuciones/modelos\n",
      "20231030T045846 : amilcar22 : INFO : Encontrada carpeta EXEC_DIR=../tfm_git/ejecuciones\n",
      "20231030T045846 : amilcar22 : INFO : Encontrada carpeta MET_DIR=../tfm_git/ejecuciones/metricas\n",
      "20231030T045846 : amilcar22 : INFO : Inicio leer fichero h5 ../tfm_git/datos/h5/rows_transpose_norm_by_gene_id_with_target_num_mul_s.h5\n",
      "20231030T045846 : amilcar22 : INFO : Leyendo clave /df\n",
      "20231030T045846 : amilcar22 : INFO : Tamaño (259, 18876)\n",
      "20231030T045846 : amilcar22 : INFO : Fin leer fichero h5 ../tfm_git/datos/h5/rows_transpose_norm_by_gene_id_with_target_num_mul_s.h5\n"
     ]
    },
    {
     "data": {
      "text/plain": [
       "target\n",
       "0    37\n",
       "1    37\n",
       "2    37\n",
       "3    37\n",
       "4    37\n",
       "5    37\n",
       "6    37\n",
       "dtype: int64"
      ]
     },
     "metadata": {},
     "output_type": "display_data"
    },
    {
     "name": "stdout",
     "output_type": "stream",
     "text": [
      "Shape df: (259, 18876)\n"
     ]
    },
    {
     "name": "stdout",
     "output_type": "stream",
     "text": [
      "Shape X_train: (207, 18875)\n",
      "Shape X_test: (52, 18875)\n"
     ]
    }
   ],
   "source": [
    "start_time = datetime.datetime.now()\n",
    "\n",
    "myfunc.reset_vars()\n",
    "\n",
    "myfunc.NOTEBK_FILENAME = myfunc.get_nb_name()\n",
    "\n",
    "myfunc.check_enviroment(myfunc.DATA_DIR, myfunc.CFDNA_DIR, myfunc.GENCODE_DIR, myfunc.H5_DIR, myfunc.LOG_DIR, myfunc.CSV_DIR, myfunc.MODEL_DIR, myfunc.EXEC_DIR, myfunc.MET_DIR)\n",
    "\n",
    "# Leer fichero con las muestras\n",
    "df_t = myfunc.read_h5_to_df(DATA_FILE, myfunc.H5_DIR)\n",
    "display(df_t.groupby(\"target\").size())\n",
    "print(\"Shape df:\",df_t.shape)\n",
    "\n",
    "# Separar caracteristicas/genes de las etiquetas/tipos de cáncer\n",
    "X = df_t.iloc[:, :-1]  # Todas las columnas excepto la última\n",
    "y = df_t.iloc[:, -1]  # La última columna contiene los identificadores de los tipos de cáncer\n",
    "\n",
    "#  Crear el conjunto de datos de entrenamiento y de pruebas, y se fija la semilla para siempre coger el mismo juego de muestras\n",
    "X_train, X_test, y_train, y_test = train_test_split(X, y, test_size=0.2, shuffle=True, random_state=42)\n",
    "print(\"Shape X_train:\",X_train.shape)\n",
    "print(\"Shape X_test:\",X_test.shape)\n"
   ]
  },
  {
   "cell_type": "markdown",
   "id": "f2dcc2bf",
   "metadata": {
    "papermill": {
     "duration": 0.002734,
     "end_time": "2023-10-30T03:58:46.145772",
     "exception": false,
     "start_time": "2023-10-30T03:58:46.143038",
     "status": "completed"
    },
    "tags": []
   },
   "source": [
    "#### Selección de características y clasificación."
   ]
  },
  {
   "cell_type": "code",
   "execution_count": 7,
   "id": "de9c725e",
   "metadata": {
    "execution": {
     "iopub.execute_input": "2023-10-30T03:58:46.152341Z",
     "iopub.status.busy": "2023-10-30T03:58:46.151923Z",
     "iopub.status.idle": "2023-10-30T04:08:11.498770Z",
     "shell.execute_reply": "2023-10-30T04:08:11.498054Z"
    },
    "papermill": {
     "duration": 565.353959,
     "end_time": "2023-10-30T04:08:11.502477",
     "exception": false,
     "start_time": "2023-10-30T03:58:46.148518",
     "status": "completed"
    },
    "tags": []
   },
   "outputs": [
    {
     "name": "stdout",
     "output_type": "stream",
     "text": [
      "20231030T045846 : amilcar22 : INFO : Iniciando entrenamiento\n",
      "num_iter: 1 , max_iter: 1\n",
      "Fitting 5 folds for each of 1 candidates, totalling 5 fits\n"
     ]
    },
    {
     "name": "stdout",
     "output_type": "stream",
     "text": [
      "[CV 4/5] END clasifier__max_iter=10000, clasifier__penalty=l2, clasifier__solver=saga, selector__k=500;, score=0.754 total time= 3.5min\n"
     ]
    },
    {
     "name": "stdout",
     "output_type": "stream",
     "text": [
      "[CV 1/5] END clasifier__max_iter=10000, clasifier__penalty=l2, clasifier__solver=saga, selector__k=500;, score=0.773 total time= 3.8min\n"
     ]
    },
    {
     "name": "stdout",
     "output_type": "stream",
     "text": [
      "[CV 3/5] END clasifier__max_iter=10000, clasifier__penalty=l2, clasifier__solver=saga, selector__k=500;, score=0.716 total time= 4.0min\n"
     ]
    },
    {
     "name": "stdout",
     "output_type": "stream",
     "text": [
      "Mejores Hiperparámetros: {'selector__k': 500, 'clasifier__solver': 'saga', 'clasifier__penalty': 'l2', 'clasifier__max_iter': 10000}\n",
      "Mejor Puntuación: 0.7489\n",
      "20231030T050811 : amilcar22 : INFO : Fin entrenamiento\n"
     ]
    }
   ],
   "source": [
    "myfunc.verbose(\"Iniciando entrenamiento\")\n",
    "\n",
    "kf = KFold(n_splits=5, shuffle=True, random_state=SEMILLA)\n",
    "\n",
    "# Crear el pipeline para el flujo de tareas\n",
    "tasks_pipeline = Pipeline([\n",
    "    ('selector', algor_selector),\n",
    "    ('clasifier', algor_clasifier)\n",
    "])\n",
    "\n",
    "# MAX_ITERS puede limitar el número de iteraciones si son excesivas para las combinaciones de parámetros buscando un óptimo local, \n",
    "# sino funcionaría como GridSearchCV al revisar todas las cominaciones de los parámetros\n",
    "num_iteraciones = 1\n",
    "num_iteraciones = num_iteraciones * np.prod([len(elemento1) for _, elemento1 in param_distributions.items()])\n",
    "max_iteraciones = num_iteraciones if num_iteraciones <= MAX_ITERS else MAX_ITERS\n",
    "print(\"num_iter:\",num_iteraciones,\", max_iter:\",max_iteraciones)\n",
    "\n",
    "random_search = RandomizedSearchCV(\n",
    "    tasks_pipeline, \n",
    "    param_distributions, \n",
    "    n_iter=max_iteraciones,\n",
    "    scoring=SCORING,\n",
    "    cv=kf,\n",
    "    verbose=3, \n",
    "    random_state=SEMILLA, \n",
    "    n_jobs=-1\n",
    "    )\n",
    "\n",
    "# Entrenar el modelo\n",
    "random_search.fit(X_train, y_train)\n",
    "\n",
    "# Ver los mejores hiperparámetros encontrados\n",
    "print(f'Mejores Hiperparámetros: {random_search.best_params_}')\n",
    "print(f'Mejor Puntuación: {random_search.best_score_:.4f}')\n",
    "\n",
    "# Nos quedamos con el mejor modelo para ver las métricas\n",
    "mejor_modelo = random_search.best_estimator_\n",
    "\n",
    "myfunc.verbose(\"Fin entrenamiento\")"
   ]
  },
  {
   "cell_type": "markdown",
   "id": "98b38994",
   "metadata": {
    "papermill": {
     "duration": 0.002972,
     "end_time": "2023-10-30T04:08:11.508547",
     "exception": false,
     "start_time": "2023-10-30T04:08:11.505575",
     "status": "completed"
    },
    "tags": []
   },
   "source": [
    "#### Guardar modelo"
   ]
  },
  {
   "cell_type": "code",
   "execution_count": 8,
   "id": "d9676338",
   "metadata": {
    "execution": {
     "iopub.execute_input": "2023-10-30T04:08:11.515662Z",
     "iopub.status.busy": "2023-10-30T04:08:11.515443Z",
     "iopub.status.idle": "2023-10-30T04:08:11.524861Z",
     "shell.execute_reply": "2023-10-30T04:08:11.524260Z"
    },
    "papermill": {
     "duration": 0.014484,
     "end_time": "2023-10-30T04:08:11.526060",
     "exception": false,
     "start_time": "2023-10-30T04:08:11.511576",
     "status": "completed"
    },
    "tags": []
   },
   "outputs": [
    {
     "name": "stdout",
     "output_type": "stream",
     "text": [
      "20231030T050811 : amilcar22 : INFO : Inicio guardar fichero ../tfm_git/ejecuciones/modelos/modelo_1466_mul_s_MI_LR_L2.pkl\n",
      "20231030T050811 : amilcar22 : INFO : Fin guardar fichero ../tfm_git/ejecuciones/modelos/modelo_1466_mul_s_MI_LR_L2.pkl\n"
     ]
    }
   ],
   "source": [
    "fichero_modelo = str.replace(\"modelo_\"+str(SEMILLA).zfill(4)+\"_\"+M_TIPO+\"_\"+M_SELECT+\"_\"+M_CLASIF+\".pkl\", \" \", \"_\")\n",
    "\n",
    "myfunc.save_modelo(mejor_modelo, myfunc.MODEL_DIR, fichero_modelo)"
   ]
  },
  {
   "cell_type": "markdown",
   "id": "446d96e0",
   "metadata": {
    "papermill": {
     "duration": 0.003088,
     "end_time": "2023-10-30T04:08:11.532433",
     "exception": false,
     "start_time": "2023-10-30T04:08:11.529345",
     "status": "completed"
    },
    "tags": []
   },
   "source": [
    "#### Ver resultados del las iteraciones hechas por RandomSearchCV"
   ]
  },
  {
   "cell_type": "code",
   "execution_count": 9,
   "id": "7d60367d",
   "metadata": {
    "execution": {
     "iopub.execute_input": "2023-10-30T04:08:11.539405Z",
     "iopub.status.busy": "2023-10-30T04:08:11.539207Z",
     "iopub.status.idle": "2023-10-30T04:08:11.544911Z",
     "shell.execute_reply": "2023-10-30T04:08:11.544450Z"
    },
    "papermill": {
     "duration": 0.010599,
     "end_time": "2023-10-30T04:08:11.546070",
     "exception": false,
     "start_time": "2023-10-30T04:08:11.535471",
     "status": "completed"
    },
    "tags": []
   },
   "outputs": [
    {
     "name": "stdout",
     "output_type": "stream",
     "text": [
      "20231030T050811 : amilcar22 : INFO : Inicio ver resultados\n",
      "Mejores Hiperparámetros: {'selector__k': 500, 'clasifier__solver': 'saga', 'clasifier__penalty': 'l2', 'clasifier__max_iter': 10000}\n",
      "Mejores puntuaciones: 0.7489 | Params: {'selector__k': 500, 'clasifier__solver': 'saga', 'clasifier__penalty': 'l2', 'clasifier__max_iter': 10000}\n",
      "Media de las puntuaciones: 0.7489 | Params: {'selector__k': 500, 'clasifier__solver': 'saga', 'clasifier__penalty': 'l2', 'clasifier__max_iter': 10000}\n",
      "20231030T050811 : amilcar22 : INFO : Fin resultados\n"
     ]
    }
   ],
   "source": [
    "myfunc.ver_resultados_search(random_search)"
   ]
  },
  {
   "cell_type": "markdown",
   "id": "c45166ff",
   "metadata": {
    "papermill": {
     "duration": 0.003081,
     "end_time": "2023-10-30T04:08:11.552576",
     "exception": false,
     "start_time": "2023-10-30T04:08:11.549495",
     "status": "completed"
    },
    "tags": []
   },
   "source": [
    "#### Ver métricas del mejor modelo"
   ]
  },
  {
   "cell_type": "code",
   "execution_count": 10,
   "id": "762afd49",
   "metadata": {
    "execution": {
     "iopub.execute_input": "2023-10-30T04:08:11.559671Z",
     "iopub.status.busy": "2023-10-30T04:08:11.559466Z",
     "iopub.status.idle": "2023-10-30T04:08:12.149282Z",
     "shell.execute_reply": "2023-10-30T04:08:12.148729Z"
    },
    "papermill": {
     "duration": 0.594839,
     "end_time": "2023-10-30T04:08:12.150524",
     "exception": false,
     "start_time": "2023-10-30T04:08:11.555685",
     "status": "completed"
    },
    "tags": []
   },
   "outputs": [
    {
     "name": "stdout",
     "output_type": "stream",
     "text": [
      "20231030T050811 : amilcar22 : INFO : Inicio ver métricas multiclase\n",
      "              precision    recall  f1-score   support\n",
      "\n",
      "           0       0.44      0.36      0.40        11\n",
      "           1       1.00      0.50      0.67         8\n",
      "           2       0.29      0.25      0.27         8\n",
      "           3       0.38      0.60      0.46         5\n",
      "           4       0.56      0.62      0.59         8\n",
      "           5       0.60      0.50      0.55         6\n",
      "           6       0.40      0.67      0.50         6\n",
      "\n",
      "    accuracy                           0.48        52\n",
      "   macro avg       0.52      0.50      0.49        52\n",
      "weighted avg       0.53      0.48      0.48        52\n",
      "\n"
     ]
    },
    {
     "name": "stdout",
     "output_type": "stream",
     "text": [
      "\n",
      "\n",
      "           Exactitud: 0.480769\n",
      "   Precisión (media): 0.522959\n",
      "      Recall (media): 0.500758\n",
      "    F1-score (media): 0.489795\n",
      "\n",
      "\n",
      "AUC para el tipo de cáncer 0-Control.... 0.6829\n",
      "AUC para el tipo de cáncer 1-Bladder.... 0.9006\n",
      "AUC para el tipo de cáncer 2-Breast..... 0.7415\n",
      "AUC para el tipo de cáncer 3-Colorectal. 0.8085\n",
      "AUC para el tipo de cáncer 4-Kidney..... 0.9375\n",
      "AUC para el tipo de cáncer 5-Lung....... 0.9674\n",
      "AUC para el tipo de cáncer 6-Prostate... 0.8478\n",
      "\n",
      "Media de AUC: 0.8409\n"
     ]
    },
    {
     "data": {
      "image/png": "[encoded data removed]",
      "text/plain": [
       "<Figure size 1000x600 with 1 Axes>"
      ]
     },
     "metadata": {},
     "output_type": "display_data"
    },
    {
     "name": "stdout",
     "output_type": "stream",
     "text": [
      "\n",
      "\n"
     ]
    },
    {
     "data": {
      "image/png": "[encoded data removed]",
      "text/plain": [
       "<Figure size 800x400 with 2 Axes>"
      ]
     },
     "metadata": {},
     "output_type": "display_data"
    },
    {
     "name": "stdout",
     "output_type": "stream",
     "text": [
      "\n",
      "\n",
      "Puntuación Jaccard para el cáncer tipo 0-Control.... 0.2500\n",
      "Puntuación Jaccard para el cáncer tipo 1-Bladder.... 0.5000\n",
      "Puntuación Jaccard para el cáncer tipo 2-Breast..... 0.1538\n",
      "Puntuación Jaccard para el cáncer tipo 3-Colorectal. 0.3000\n",
      "Puntuación Jaccard para el cáncer tipo 4-Kidney..... 0.4167\n",
      "Puntuación Jaccard para el cáncer tipo 5-Lung....... 0.3750\n",
      "Puntuación Jaccard para el cáncer tipo 6-Prostate... 0.3333\n",
      "\n",
      "Media de la puntuación de Jaccard: 0.3327\n"
     ]
    }
   ],
   "source": [
    "if M_TIPO.startswith(\"bin\"):\n",
    "    myfunc.ver_metricas(mejor_modelo, X_test, y_test)\n",
    "else:\n",
    "    myfunc.ver_metricas_multi(mejor_modelo, X_test, y_test)\n"
   ]
  },
  {
   "cell_type": "markdown",
   "id": "6ea92dfc",
   "metadata": {
    "papermill": {
     "duration": 0.004106,
     "end_time": "2023-10-30T04:08:12.159416",
     "exception": false,
     "start_time": "2023-10-30T04:08:12.155310",
     "status": "completed"
    },
    "tags": []
   },
   "source": [
    "#### Finalización del notebook"
   ]
  },
  {
   "cell_type": "code",
   "execution_count": 11,
   "id": "d5abad0d",
   "metadata": {
    "execution": {
     "iopub.execute_input": "2023-10-30T04:08:12.168454Z",
     "iopub.status.busy": "2023-10-30T04:08:12.168245Z",
     "iopub.status.idle": "2023-10-30T04:08:12.171507Z",
     "shell.execute_reply": "2023-10-30T04:08:12.171084Z"
    },
    "papermill": {
     "duration": 0.00922,
     "end_time": "2023-10-30T04:08:12.172707",
     "exception": false,
     "start_time": "2023-10-30T04:08:12.163487",
     "status": "completed"
    },
    "tags": []
   },
   "outputs": [
    {
     "name": "stdout",
     "output_type": "stream",
     "text": [
      "20231030T050812 : amilcar22 : INFO : Notebook ha tardado 566 seconds\n"
     ]
    }
   ],
   "source": [
    "end_time = datetime.datetime.now()\n",
    "total_time = end_time - start_time\n",
    "myfunc.verbose(f\"Notebook ha tardado {total_time.seconds} seconds\")"
   ]
  },
  {
   "cell_type": "markdown",
   "id": "af2e0564",
   "metadata": {
    "papermill": {
     "duration": 0.004125,
     "end_time": "2023-10-30T04:08:12.181346",
     "exception": false,
     "start_time": "2023-10-30T04:08:12.177221",
     "status": "completed"
    },
    "tags": []
   },
   "source": [
    "#### Guardar métricas"
   ]
  },
  {
   "cell_type": "code",
   "execution_count": 12,
   "id": "93c8a08c",
   "metadata": {
    "execution": {
     "iopub.execute_input": "2023-10-30T04:08:12.190334Z",
     "iopub.status.busy": "2023-10-30T04:08:12.190128Z",
     "iopub.status.idle": "2023-10-30T04:08:12.378121Z",
     "shell.execute_reply": "2023-10-30T04:08:12.377580Z"
    },
    "papermill": {
     "duration": 0.19402,
     "end_time": "2023-10-30T04:08:12.379444",
     "exception": false,
     "start_time": "2023-10-30T04:08:12.185424",
     "status": "completed"
    },
    "tags": []
   },
   "outputs": [
    {
     "name": "stdout",
     "output_type": "stream",
     "text": [
      "20231030T050812 : amilcar22 : INFO : Inicio guardar métricas multiclase\n",
      "20231030T050812 : amilcar22 : INFO : Inicio leer fichero ../tfm_git/ejecuciones/metricas/metricas_1466.csv\n",
      "20231030T050812 : amilcar22 : INFO : Fin leer fichero ../tfm_git/ejecuciones/metricas/metricas_1466.csv\n",
      "20231030T050812 : amilcar22 : INFO : Inicio guardar fichero ../tfm_git/ejecuciones/metricas/metricas_1466.csv\n",
      "20231030T050812 : amilcar22 : INFO : Fichero borrado ../tfm_git/ejecuciones/metricas/metricas_1466.csv\n"
     ]
    },
    {
     "name": "stdout",
     "output_type": "stream",
     "text": [
      "20231030T050812 : amilcar22 : INFO : Fin guardar fichero ../tfm_git/ejecuciones/metricas/metricas_1466.csv\n",
      "20231030T050812 : amilcar22 : INFO : Fin guardar métricas multiclase\n",
      "20231030T050812 : amilcar22 : INFO : Inicio leer fichero ../tfm_git/ejecuciones/metricas/metricas_1466.csv\n",
      "20231030T050812 : amilcar22 : INFO : Fin leer fichero ../tfm_git/ejecuciones/metricas/metricas_1466.csv\n"
     ]
    },
    {
     "data": {
      "text/html": [
       "<div>\n",
       "<style scoped>\n",
       "    .dataframe tbody tr th:only-of-type {\n",
       "        vertical-align: middle;\n",
       "    }\n",
       "\n",
       "    .dataframe tbody tr th {\n",
       "        vertical-align: top;\n",
       "    }\n",
       "\n",
       "    .dataframe thead th {\n",
       "        text-align: right;\n",
       "    }\n",
       "</style>\n",
       "<table border=\"1\" class=\"dataframe\">\n",
       "  <thead>\n",
       "    <tr style=\"text-align: right;\">\n",
       "      <th></th>\n",
       "      <th>tipo</th>\n",
       "      <th>select</th>\n",
       "      <th>clasific</th>\n",
       "      <th>semilla</th>\n",
       "      <th>accuracy</th>\n",
       "      <th>precision</th>\n",
       "      <th>recall</th>\n",
       "      <th>f1_score</th>\n",
       "      <th>roc_auc</th>\n",
       "      <th>hostname</th>\n",
       "      <th>total_time_sec</th>\n",
       "      <th>datetime</th>\n",
       "      <th>fichero_modelo</th>\n",
       "      <th>params</th>\n",
       "      <th>shape</th>\n",
       "      <th>features</th>\n",
       "      <th>roc_auc_ovr</th>\n",
       "      <th>indices_auc</th>\n",
       "      <th>indices_jaccard</th>\n",
       "    </tr>\n",
       "  </thead>\n",
       "  <tbody>\n",
       "    <tr>\n",
       "      <th>0</th>\n",
       "      <td>mul_s</td>\n",
       "      <td>MI</td>\n",
       "      <td>LR_L2</td>\n",
       "      <td>1466</td>\n",
       "      <td>0.480769</td>\n",
       "      <td>0.522959</td>\n",
       "      <td>0.500758</td>\n",
       "      <td>0.489795</td>\n",
       "      <td>NaN</td>\n",
       "      <td>amilcar22</td>\n",
       "      <td>566</td>\n",
       "      <td>2023-10-30 05:08:12.343924</td>\n",
       "      <td>modelo_1466_mul_s_MI_LR_L2.pkl</td>\n",
       "      <td>{'selector__k': 500, 'clasifier__solver': 'sag...</td>\n",
       "      <td>X_test:(52, 18875)</td>\n",
       "      <td>['ENSG00000005513.10', 'ENSG00000006025.13', '...</td>\n",
       "      <td>0.840886</td>\n",
       "      <td>[0.6829268292682927, 0.9005681818181819, 0.741...</td>\n",
       "      <td>[0.25, 0.5, 0.15384615384615385, 0.3, 0.416666...</td>\n",
       "    </tr>\n",
       "    <tr>\n",
       "      <th>0</th>\n",
       "      <td>mul_s</td>\n",
       "      <td>MI</td>\n",
       "      <td>LR_L1</td>\n",
       "      <td>1466</td>\n",
       "      <td>0.480769</td>\n",
       "      <td>0.495635</td>\n",
       "      <td>0.495887</td>\n",
       "      <td>0.478458</td>\n",
       "      <td>NaN</td>\n",
       "      <td>amilcar22</td>\n",
       "      <td>774</td>\n",
       "      <td>2023-10-30 04:58:39.937730</td>\n",
       "      <td>modelo_1466_mul_s_MI_LR_L1.pkl</td>\n",
       "      <td>{'selector__k': 500, 'clasifier__solver': 'sag...</td>\n",
       "      <td>X_test:(52, 18875)</td>\n",
       "      <td>['ENSG00000005513.10', 'ENSG00000006025.13', '...</td>\n",
       "      <td>0.839464</td>\n",
       "      <td>[0.6829268292682927, 0.9034090909090909, 0.741...</td>\n",
       "      <td>[0.3125, 0.4444444444444444, 0.083333333333333...</td>\n",
       "    </tr>\n",
       "    <tr>\n",
       "      <th>0</th>\n",
       "      <td>mul_s</td>\n",
       "      <td>MI</td>\n",
       "      <td>LR_EN</td>\n",
       "      <td>1466</td>\n",
       "      <td>0.519231</td>\n",
       "      <td>0.512245</td>\n",
       "      <td>0.525758</td>\n",
       "      <td>0.497212</td>\n",
       "      <td>NaN</td>\n",
       "      <td>amilcar22</td>\n",
       "      <td>1470</td>\n",
       "      <td>2023-10-30 04:45:39.100576</td>\n",
       "      <td>modelo_1466_mul_s_MI_LR_EN.pkl</td>\n",
       "      <td>{'selector__k': 1000, 'clasifier__solver': 'sa...</td>\n",
       "      <td>X_test:(52, 18875)</td>\n",
       "      <td>['ENSG00000003137.9', 'ENSG00000005513.10', 'E...</td>\n",
       "      <td>0.813650</td>\n",
       "      <td>[0.5831485587583148, 0.9119318181818182, 0.647...</td>\n",
       "      <td>[0.26666666666666666, 0.4444444444444444, 0.16...</td>\n",
       "    </tr>\n",
       "  </tbody>\n",
       "</table>\n",
       "</div>"
      ],
      "text/plain": [
       "    tipo select clasific  semilla  accuracy  precision    recall  f1_score  \\\n",
       "0  mul_s     MI    LR_L2     1466  0.480769   0.522959  0.500758  0.489795   \n",
       "0  mul_s     MI    LR_L1     1466  0.480769   0.495635  0.495887  0.478458   \n",
       "0  mul_s     MI    LR_EN     1466  0.519231   0.512245  0.525758  0.497212   \n",
       "\n",
       "   roc_auc   hostname  total_time_sec                    datetime  \\\n",
       "0      NaN  amilcar22             566  2023-10-30 05:08:12.343924   \n",
       "0      NaN  amilcar22             774  2023-10-30 04:58:39.937730   \n",
       "0      NaN  amilcar22            1470  2023-10-30 04:45:39.100576   \n",
       "\n",
       "                   fichero_modelo  \\\n",
       "0  modelo_1466_mul_s_MI_LR_L2.pkl   \n",
       "0  modelo_1466_mul_s_MI_LR_L1.pkl   \n",
       "0  modelo_1466_mul_s_MI_LR_EN.pkl   \n",
       "\n",
       "                                              params               shape  \\\n",
       "0  {'selector__k': 500, 'clasifier__solver': 'sag...  X_test:(52, 18875)   \n",
       "0  {'selector__k': 500, 'clasifier__solver': 'sag...  X_test:(52, 18875)   \n",
       "0  {'selector__k': 1000, 'clasifier__solver': 'sa...  X_test:(52, 18875)   \n",
       "\n",
       "                                            features  roc_auc_ovr  \\\n",
       "0  ['ENSG00000005513.10', 'ENSG00000006025.13', '...     0.840886   \n",
       "0  ['ENSG00000005513.10', 'ENSG00000006025.13', '...     0.839464   \n",
       "0  ['ENSG00000003137.9', 'ENSG00000005513.10', 'E...     0.813650   \n",
       "\n",
       "                                         indices_auc  \\\n",
       "0  [0.6829268292682927, 0.9005681818181819, 0.741...   \n",
       "0  [0.6829268292682927, 0.9034090909090909, 0.741...   \n",
       "0  [0.5831485587583148, 0.9119318181818182, 0.647...   \n",
       "\n",
       "                                     indices_jaccard  \n",
       "0  [0.25, 0.5, 0.15384615384615385, 0.3, 0.416666...  \n",
       "0  [0.3125, 0.4444444444444444, 0.083333333333333...  \n",
       "0  [0.26666666666666666, 0.4444444444444444, 0.16...  "
      ]
     },
     "metadata": {},
     "output_type": "display_data"
    }
   ],
   "source": [
    "if M_TIPO.startswith(\"bin\"):\n",
    "    myfunc.save_metricas_to_csv(random_search, X_test, y_test, M_TIPO, M_SELECT, M_CLASIF, total_time, SEMILLA, myfunc.MET_DIR, M_FICHERO, fichero_modelo)\n",
    "else:\n",
    "    myfunc.save_metricas_multi_to_csv(random_search, X_test, y_test, M_TIPO, M_SELECT, M_CLASIF, total_time, SEMILLA, myfunc.MET_DIR, M_FICHERO, fichero_modelo)\n",
    "\n",
    "df1=myfunc.read_metricas_to_df(myfunc.MET_DIR,M_FICHERO)\n",
    "\n",
    "display(df1.sort_values(\"datetime\", ascending=False)[:3])\n"
   ]
  },
  {
   "cell_type": "markdown",
   "id": "16f2c974",
   "metadata": {
    "papermill": {
     "duration": 0.004475,
     "end_time": "2023-10-30T04:08:12.389245",
     "exception": false,
     "start_time": "2023-10-30T04:08:12.384770",
     "status": "completed"
    },
    "tags": []
   },
   "source": [
    "#### Guardar resultados"
   ]
  },
  {
   "cell_type": "code",
   "execution_count": 13,
   "id": "c36bdf4c",
   "metadata": {
    "execution": {
     "iopub.execute_input": "2023-10-30T04:08:12.398891Z",
     "iopub.status.busy": "2023-10-30T04:08:12.398682Z",
     "iopub.status.idle": "2023-10-30T04:08:12.406924Z",
     "shell.execute_reply": "2023-10-30T04:08:12.406381Z"
    },
    "papermill": {
     "duration": 0.014613,
     "end_time": "2023-10-30T04:08:12.408207",
     "exception": false,
     "start_time": "2023-10-30T04:08:12.393594",
     "status": "completed"
    },
    "tags": []
   },
   "outputs": [
    {
     "name": "stdout",
     "output_type": "stream",
     "text": [
      "20231030T050812 : amilcar22 : INFO : Inicio guardar resultados\n",
      "20231030T050812 : amilcar22 : INFO : Inicio guardar fichero ../tfm_git/ejecuciones/metricas/resultados_1466_mul_s-MI-LR_L2.csv\n",
      "20231030T050812 : amilcar22 : INFO : Fin guardar fichero ../tfm_git/ejecuciones/metricas/resultados_1466_mul_s-MI-LR_L2.csv\n",
      "20231030T050812 : amilcar22 : INFO : Fin guardar resultados\n"
     ]
    }
   ],
   "source": [
    "fichero_resultados=R_FICHERO+\"_\"+M_TIPO+\"-\"+M_SELECT+\"-\"+M_CLASIF+\".csv\"\n",
    "myfunc.save_resultados_to_csv(M_TIPO, M_SELECT, M_CLASIF,  random_search, myfunc.MET_DIR, fichero_resultados)\n"
   ]
  }
 ],
 "metadata": {
  "kernelspec": {
   "display_name": "Python 3 (ipykernel)",
   "language": "python",
   "name": "python3"
  },
  "language_info": {
   "codemirror_mode": {
    "name": "ipython",
    "version": 3
   },
   "file_extension": ".py",
   "mimetype": "text/x-python",
   "name": "python",
   "nbconvert_exporter": "python",
   "pygments_lexer": "ipython3",
   "version": "3.10.12"
  },
  "papermill": {
   "default_parameters": {},
   "duration": 570.905554,
   "end_time": "2023-10-30T04:08:15.032233",
   "environment_variables": {},
   "exception": null,
   "input_path": "03_entrenamiento.ipynb",
   "output_path": "ejecuciones/training/03_entrenamiento.20231030T045843.param_0000_1466_mul_s_MI_LR_L2.output.ipynb",
   "parameters": {
    "MAX_ITERS": 500,
    "M_CLASIF": "LR_L2",
    "M_FICHERO": "metricas_1466",
    "M_SELECT": "MI",
    "M_TIPO": "mul_s",
    "PRE_DATA_FILE": "rows_transpose_norm_by_gene_id_with_target_num_",
    "P_FICHERO": "param_0000_1466_mul_s_MI_LR_L2.yaml",
    "R_FICHERO": "resultados_1466",
    "SCORING": "roc_auc_ovr",
    "SEMILLA": 1466,
    "eval_clasifier": "LogisticRegressionCV(random_state=SEMILLA)",
    "eval_selector": "SelectKBest(score_func=mutual_info_classif_state)",
    "param_distributions": {
     "clasifier__max_iter": [
      10000
     ],
     "clasifier__penalty": [
      "l2"
     ],
     "clasifier__solver": [
      "saga"
     ],
     "selector__k": [
      500
     ]
    }
   },
   "start_time": "2023-10-30T03:58:44.126679",
   "version": "2.4.0"
  }
 },
 "nbformat": 4,
 "nbformat_minor": 5
}