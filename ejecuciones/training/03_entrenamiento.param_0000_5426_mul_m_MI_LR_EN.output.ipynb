{
 "cells": [
  {
   "cell_type": "markdown",
   "id": "5822ba86",
   "metadata": {
    "papermill": {
     "duration": 0.0,
     "end_time": "2023-10-30T06:49:35.180131",
     "exception": false,
     "start_time": "2023-10-30T06:49:35.180131",
     "status": "completed"
    },
    "tags": []
   },
   "source": [
    "##### Inicio"
   ]
  },
  {
   "cell_type": "markdown",
   "id": "e51dc34e",
   "metadata": {
    "papermill": {
     "duration": 0.0,
     "end_time": "2023-10-30T06:49:35.180131",
     "exception": false,
     "start_time": "2023-10-30T06:49:35.180131",
     "status": "completed"
    },
    "tags": []
   },
   "source": [
    "#### Carga de datos"
   ]
  },
  {
   "cell_type": "code",
   "execution_count": 1,
   "id": "f145f819",
   "metadata": {
    "execution": {
     "iopub.execute_input": "2023-10-30T06:49:35.195575Z",
     "iopub.status.busy": "2023-10-30T06:49:35.195575Z",
     "iopub.status.idle": "2023-10-30T06:49:36.326553Z",
     "shell.execute_reply": "2023-10-30T06:49:36.326553Z"
    },
    "papermill": {
     "duration": 1.130978,
     "end_time": "2023-10-30T06:49:36.326553",
     "exception": false,
     "start_time": "2023-10-30T06:49:35.195575",
     "status": "completed"
    },
    "tags": []
   },
   "outputs": [
    {
     "name": "stdout",
     "output_type": "stream",
     "text": [
      "CPU_COUNT: 24; NODE: amilcar32; sys.version: 3.10.12 | packaged by Anaconda, Inc. | (main, Jul  5 2023, 19:09:20) [MSC v.1916 64 bit (AMD64)]\n",
      "LOKY_MAX_CPU_COUNT is not set.\n",
      "OMP_NUM_THREADS is not set.\n"
     ]
    }
   ],
   "source": [
    "import os\n",
    "import numpy as np\n",
    "import pandas as pd\n",
    "import datetime\n",
    "import sklearn\n",
    "import logging\n",
    "import warnings\n",
    "\n",
    "from sklearn.pipeline import Pipeline\n",
    "from sklearn.model_selection import RandomizedSearchCV, KFold, cross_val_score, train_test_split\n",
    "from sklearn.metrics import accuracy_score, confusion_matrix, classification_report, roc_auc_score\n",
    "\n",
    "#  cargar algoritmos para aprendizaje supervisado\n",
    "from sklearn.feature_selection import SelectKBest, f_classif, SelectFromModel, mutual_info_classif\n",
    "from sklearn.svm import SVC\n",
    "from sklearn.ensemble import RandomForestClassifier\n",
    "from sklearn.linear_model import LogisticRegression,LogisticRegressionCV\n",
    "\n",
    "# importar fichero con utilidades propias\n",
    "from commons import myfunctions as myfunc\n"
   ]
  },
  {
   "cell_type": "markdown",
   "id": "28af1eeb",
   "metadata": {
    "papermill": {
     "duration": 0.0,
     "end_time": "2023-10-30T06:49:36.326553",
     "exception": false,
     "start_time": "2023-10-30T06:49:36.326553",
     "status": "completed"
    },
    "tags": []
   },
   "source": [
    "#### Parámetros a utilizar en el entrenamiento.\n",
    "\n",
    "Se indican los 3 algoritmos de *selección de características* (eval_selector_xxx) y los 3 algoritmos para la _clasificación_ (eval_clasifier_xxx)\n",
    "\n",
    "En *param_distributions* se indicar los parámetros que utilizan los algoritmos en la función RandomSearchCV.\n",
    "\n",
    "Esta celda tiene la etiqueta **parameters** que servirá para poder lanzar los entrenamientos con la utilidad **papermill** pasándole un fichero con los parámetros. Los nuevos parámetros se situarán tras esta celda para tener prevalencia."
   ]
  },
  {
   "cell_type": "code",
   "execution_count": 2,
   "id": "ea261cd3",
   "metadata": {
    "execution": {
     "iopub.execute_input": "2023-10-30T06:49:36.326553Z",
     "iopub.status.busy": "2023-10-30T06:49:36.326553Z",
     "iopub.status.idle": "2023-10-30T06:49:36.358371Z",
     "shell.execute_reply": "2023-10-30T06:49:36.358371Z"
    },
    "papermill": {
     "duration": 0.031818,
     "end_time": "2023-10-30T06:49:36.358371",
     "exception": false,
     "start_time": "2023-10-30T06:49:36.326553",
     "status": "completed"
    },
    "tags": [
     "parameters"
    ]
   },
   "outputs": [
    {
     "name": "stdout",
     "output_type": "stream",
     "text": [
      "20231030T074936 : amilcar32 : INFO : Utilizando parámetros de mul_m\n"
     ]
    }
   ],
   "source": [
    "#  Parametros para el entrenamiento\n",
    "\n",
    "SEMILLA=        42\n",
    "M_TIPO=         \"mul_m\"\n",
    "M_SELECT=       \"MI\"\n",
    "M_CLASIF=       \"SVM\"\n",
    "R_FICHERO=      \"resultados\"\n",
    "M_FICHERO=      \"metricas\"\n",
    "PRE_DATA_FILE=  \"rows_transpose_norm_by_gene_id_with_target_num_\"\n",
    "SCORING=        \"roc_auc_ovr\" \n",
    "MAX_ITERS=      100\n",
    "\n",
    "def mutual_info_classif_state(X, y):\n",
    "    return mutual_info_classif(X, y, random_state=SEMILLA)\n",
    "\n",
    "eval_selector_mi = \"SelectKBest(score_func=mutual_info_classif_state)\"\n",
    "eval_selector_rf=  \"SelectFromModel(estimator=RandomForestClassifier(random_state=SEMILLA), threshold=-np.inf)\"\n",
    "eval_selector_anova=  \"SelectKBest(score_func=f_classif)\"\n",
    "\n",
    "eval_clasifier_svm= \"SVC(probability=True, random_state=SEMILLA)\"\n",
    "eval_clasifier_rf= \"RandomForestClassifier(random_state=SEMILLA)\"\n",
    "eval_clasifier_lr= \"LogisticRegressionCV(random_state=SEMILLA)\"\n",
    "\n",
    "if M_TIPO.startswith(\"bin_m\"):\n",
    "    myfunc.verbose(f\"Utilizando parámetros de {M_TIPO}\")\n",
    "    eval_selector = eval_selector_mi\n",
    "    eval_clasifier = eval_clasifier_svm\n",
    "\n",
    "    SEMILLA = 6578\n",
    "    M_SELECT = \"MI\"\n",
    "    M_CLASIF = \"SVM\"\n",
    "    param_distributions = {'selector__k': [1000], \n",
    "         'clasifier__kernel': ['rbf'], 'clasifier__gamma': [0.01], 'clasifier__C': [100]}\n",
    "elif M_TIPO.startswith(\"bin_s\"):\n",
    "    myfunc.verbose(f\"Utilizando parámetros de {M_TIPO}\")\n",
    "    eval_selector = eval_selector_rf\n",
    "    eval_clasifier = eval_clasifier_lr\n",
    "\n",
    "    SEMILLA = 6191\n",
    "    M_SELECT = \"RF\"\n",
    "    M_CLASIF = \"LR_L2\"\n",
    "    param_distributions = {'selector__max_features': [1000], 'selector__estimator__n_estimators': [200], \n",
    "        'clasifier__solver': ['lbfgs'], 'clasifier__penalty': ['l2'], 'clasifier__max_iter': [10000]}\n",
    "\n",
    "elif M_TIPO.startswith(\"mul_m\"):\n",
    "    myfunc.verbose(f\"Utilizando parámetros de {M_TIPO}\")\n",
    " \n",
    "    eval_selector = eval_selector_rf\n",
    "    eval_clasifier = eval_clasifier_lr\n",
    "\n",
    "    SEMILLA = 6191\n",
    "    M_SELECT = \"RF\"\n",
    "    M_CLASIF = \"LR_L2\"\n",
    "    param_distributions = {'selector__max_features': [1000], 'selector__estimator__n_estimators': [400], \n",
    "        'clasifier__solver': ['lbfgs'], 'clasifier__penalty': ['l2'], 'clasifier__max_iter': [10000]}\n",
    "\n",
    "else:\n",
    "    # M_TIPO.startswith(\"mul_s\"):\n",
    "    myfunc.verbose(f\"Utilizando parámetros de {M_TIPO}\")\n",
    "    eval_selector = eval_selector_anova\n",
    "    eval_clasifier = eval_clasifier_lr\n",
    "\n",
    "    SEMILLA = 1860\n",
    "    M_SELECT = \"ANOVA\"\n",
    "    M_CLASIF = \"LR_L2\"\n",
    "    param_distributions = {'selector__k': [1000], \n",
    "        'clasifier__solver': ['saga'], 'clasifier__penalty': ['l2'], 'clasifier__max_iter': [10000]}\n",
    "\n"
   ]
  },
  {
   "cell_type": "code",
   "execution_count": 3,
   "id": "6e0fd8cb",
   "metadata": {
    "execution": {
     "iopub.execute_input": "2023-10-30T06:49:36.358371Z",
     "iopub.status.busy": "2023-10-30T06:49:36.358371Z",
     "iopub.status.idle": "2023-10-30T06:49:36.374064Z",
     "shell.execute_reply": "2023-10-30T06:49:36.374064Z"
    },
    "papermill": {
     "duration": 0.015693,
     "end_time": "2023-10-30T06:49:36.374064",
     "exception": false,
     "start_time": "2023-10-30T06:49:36.358371",
     "status": "completed"
    },
    "tags": [
     "injected-parameters"
    ]
   },
   "outputs": [],
   "source": [
    "# Parameters\n",
    "M_TIPO = \"mul_m\"\n",
    "M_SELECT = \"MI\"\n",
    "M_CLASIF = \"LR_EN\"\n",
    "P_FICHERO = \"param_0000_5426_mul_m_MI_LR_EN.yaml\"\n",
    "R_FICHERO = \"resultados_5426\"\n",
    "M_FICHERO = \"metricas_5426\"\n",
    "PRE_DATA_FILE = \"rows_transpose_norm_by_gene_id_with_target_num_\"\n",
    "SCORING = \"roc_auc_ovr\"\n",
    "SEMILLA = 5426\n",
    "MAX_ITERS = 500\n",
    "eval_selector = \"SelectKBest(score_func=mutual_info_classif_state)\"\n",
    "eval_clasifier = \"LogisticRegressionCV(random_state=SEMILLA)\"\n",
    "param_distributions = {\n",
    "    \"selector__k\": [1000],\n",
    "    \"clasifier__solver\": [\"saga\"],\n",
    "    \"clasifier__penalty\": [\"elasticnet\"],\n",
    "    \"clasifier__max_iter\": [10000],\n",
    "    \"clasifier__l1_ratios\": [[0.2]],\n",
    "}\n"
   ]
  },
  {
   "cell_type": "code",
   "execution_count": 4,
   "id": "5b46206b",
   "metadata": {
    "execution": {
     "iopub.execute_input": "2023-10-30T06:49:36.374064Z",
     "iopub.status.busy": "2023-10-30T06:49:36.374064Z",
     "iopub.status.idle": "2023-10-30T06:49:36.405345Z",
     "shell.execute_reply": "2023-10-30T06:49:36.405345Z"
    },
    "papermill": {
     "duration": 0.031281,
     "end_time": "2023-10-30T06:49:36.405345",
     "exception": false,
     "start_time": "2023-10-30T06:49:36.374064",
     "status": "completed"
    },
    "tags": []
   },
   "outputs": [],
   "source": [
    "DATA_FILE = PRE_DATA_FILE + M_TIPO\n",
    "\n",
    "# si viene \"None\" en el parámetro max_depth, se le quitan las comillas para que no sea entendido por el algoritmo como un texto\n",
    "if \"clasifier__max_depth\" in param_distributions:\n",
    "    param_distributions['clasifier__max_depth'] = [None if x == 'None' else x for x in param_distributions['clasifier__max_depth']]"
   ]
  },
  {
   "cell_type": "markdown",
   "id": "fc15e047",
   "metadata": {
    "papermill": {
     "duration": 0.015617,
     "end_time": "2023-10-30T06:49:36.420962",
     "exception": false,
     "start_time": "2023-10-30T06:49:36.405345",
     "status": "completed"
    },
    "tags": []
   },
   "source": [
    "Asignar los algoritmos que se utilizarán en la función RandomSearchCV"
   ]
  },
  {
   "cell_type": "code",
   "execution_count": 5,
   "id": "b4ea0543",
   "metadata": {
    "execution": {
     "iopub.execute_input": "2023-10-30T06:49:36.420962Z",
     "iopub.status.busy": "2023-10-30T06:49:36.420962Z",
     "iopub.status.idle": "2023-10-30T06:49:36.436722Z",
     "shell.execute_reply": "2023-10-30T06:49:36.436722Z"
    },
    "papermill": {
     "duration": 0.01576,
     "end_time": "2023-10-30T06:49:36.436722",
     "exception": false,
     "start_time": "2023-10-30T06:49:36.420962",
     "status": "completed"
    },
    "tags": []
   },
   "outputs": [],
   "source": [
    "algor_selector=eval(eval_selector)\n",
    "algor_clasifier=eval(eval_clasifier)"
   ]
  },
  {
   "cell_type": "markdown",
   "id": "1864d39f",
   "metadata": {
    "papermill": {
     "duration": 0.00408,
     "end_time": "2023-10-30T06:49:36.452907",
     "exception": false,
     "start_time": "2023-10-30T06:49:36.448827",
     "status": "completed"
    },
    "tags": []
   },
   "source": [
    "#### Comprobar el entorno y leer fichero de muestras"
   ]
  },
  {
   "cell_type": "code",
   "execution_count": 6,
   "id": "a4992b17",
   "metadata": {
    "execution": {
     "iopub.execute_input": "2023-10-30T06:49:36.468545Z",
     "iopub.status.busy": "2023-10-30T06:49:36.468545Z",
     "iopub.status.idle": "2023-10-30T06:49:36.657026Z",
     "shell.execute_reply": "2023-10-30T06:49:36.657026Z"
    },
    "papermill": {
     "duration": 0.204119,
     "end_time": "2023-10-30T06:49:36.657026",
     "exception": false,
     "start_time": "2023-10-30T06:49:36.452907",
     "status": "completed"
    },
    "tags": []
   },
   "outputs": [
    {
     "name": "stdout",
     "output_type": "stream",
     "text": [
      "20231030T074936 : amilcar32 : INFO : Encontrada carpeta DATA_DIR=..\\tfm_viu\\datos\n",
      "20231030T074936 : amilcar32 : INFO : Encontrada carpeta CFDNA_DIR=..\\tfm_viu\\datos\\cfDNA_5hmC\n",
      "20231030T074936 : amilcar32 : INFO : Encontrada carpeta GENCODE_DIR=..\\tfm_viu\\datos\\gencode\n",
      "20231030T074936 : amilcar32 : INFO : Encontrada carpeta H5_DIR=..\\tfm_viu\\datos\\h5\n",
      "20231030T074936 : amilcar32 : INFO : Encontrada carpeta LOG_DIR=..\\tfm_viu\\datos\\logs\n",
      "20231030T074936 : amilcar32 : INFO : Encontrada carpeta CSV_DIR=..\\tfm_viu\\datos\\csv\n",
      "20231030T074936 : amilcar32 : INFO : Encontrada carpeta MODEL_DIR=..\\tfm_viu\\ejecuciones\\modelos\n",
      "20231030T074936 : amilcar32 : INFO : Encontrada carpeta EXEC_DIR=..\\tfm_viu\\ejecuciones\n",
      "20231030T074936 : amilcar32 : INFO : Encontrada carpeta MET_DIR=..\\tfm_viu\\ejecuciones\\metricas\n",
      "20231030T074936 : amilcar32 : INFO : Inicio leer fichero h5 ..\\tfm_viu\\datos\\h5\\rows_transpose_norm_by_gene_id_with_target_num_mul_m.h5\n",
      "20231030T074936 : amilcar32 : INFO : Leyendo clave /df\n"
     ]
    },
    {
     "name": "stdout",
     "output_type": "stream",
     "text": [
      "20231030T074936 : amilcar32 : INFO : Tamaño (434, 18876)\n",
      "20231030T074936 : amilcar32 : INFO : Fin leer fichero h5 ..\\tfm_viu\\datos\\h5\\rows_transpose_norm_by_gene_id_with_target_num_mul_m.h5\n"
     ]
    },
    {
     "data": {
      "text/plain": [
       "target\n",
       "0    62\n",
       "1    62\n",
       "2    62\n",
       "3    62\n",
       "4    62\n",
       "5    62\n",
       "6    62\n",
       "dtype: int64"
      ]
     },
     "metadata": {},
     "output_type": "display_data"
    },
    {
     "name": "stdout",
     "output_type": "stream",
     "text": [
      "Shape df: (434, 18876)\n",
      "Shape X_train: (347, 18875)\n",
      "Shape X_test: (87, 18875)\n"
     ]
    }
   ],
   "source": [
    "start_time = datetime.datetime.now()\n",
    "\n",
    "myfunc.reset_vars()\n",
    "\n",
    "myfunc.NOTEBK_FILENAME = myfunc.get_nb_name()\n",
    "\n",
    "myfunc.check_enviroment(myfunc.DATA_DIR, myfunc.CFDNA_DIR, myfunc.GENCODE_DIR, myfunc.H5_DIR, myfunc.LOG_DIR, myfunc.CSV_DIR, myfunc.MODEL_DIR, myfunc.EXEC_DIR, myfunc.MET_DIR)\n",
    "\n",
    "# Leer fichero con las muestras\n",
    "df_t = myfunc.read_h5_to_df(DATA_FILE, myfunc.H5_DIR)\n",
    "display(df_t.groupby(\"target\").size())\n",
    "print(\"Shape df:\",df_t.shape)\n",
    "\n",
    "# Separar caracteristicas/genes de las etiquetas/tipos de cáncer\n",
    "X = df_t.iloc[:, :-1]  # Todas las columnas excepto la última\n",
    "y = df_t.iloc[:, -1]  # La última columna contiene los identificadores de los tipos de cáncer\n",
    "\n",
    "#  Crear el conjunto de datos de entrenamiento y de pruebas, y se fija la semilla para siempre coger el mismo juego de muestras\n",
    "X_train, X_test, y_train, y_test = train_test_split(X, y, test_size=0.2, shuffle=True, random_state=42)\n",
    "print(\"Shape X_train:\",X_train.shape)\n",
    "print(\"Shape X_test:\",X_test.shape)\n"
   ]
  },
  {
   "cell_type": "markdown",
   "id": "75c0cfce",
   "metadata": {
    "papermill": {
     "duration": 0.0,
     "end_time": "2023-10-30T06:49:36.657026",
     "exception": false,
     "start_time": "2023-10-30T06:49:36.657026",
     "status": "completed"
    },
    "tags": []
   },
   "source": [
    "#### Selección de características y clasificación."
   ]
  },
  {
   "cell_type": "code",
   "execution_count": 7,
   "id": "95c3b85b",
   "metadata": {
    "execution": {
     "iopub.execute_input": "2023-10-30T06:49:36.672751Z",
     "iopub.status.busy": "2023-10-30T06:49:36.672751Z",
     "iopub.status.idle": "2023-10-30T07:34:27.057669Z",
     "shell.execute_reply": "2023-10-30T07:34:27.057669Z"
    },
    "papermill": {
     "duration": 2690.416258,
     "end_time": "2023-10-30T07:34:27.073284",
     "exception": false,
     "start_time": "2023-10-30T06:49:36.657026",
     "status": "completed"
    },
    "tags": []
   },
   "outputs": [
    {
     "name": "stdout",
     "output_type": "stream",
     "text": [
      "20231030T074936 : amilcar32 : INFO : Iniciando entrenamiento\n",
      "num_iter: 1 , max_iter: 1\n",
      "Fitting 5 folds for each of 1 candidates, totalling 5 fits\n"
     ]
    },
    {
     "name": "stdout",
     "output_type": "stream",
     "text": [
      "Mejores Hiperparámetros: {'selector__k': 1000, 'clasifier__solver': 'saga', 'clasifier__penalty': 'elasticnet', 'clasifier__max_iter': 10000, 'clasifier__l1_ratios': [0.2]}\n",
      "Mejor Puntuación: 0.8622\n",
      "20231030T083427 : amilcar32 : INFO : Fin entrenamiento\n"
     ]
    }
   ],
   "source": [
    "myfunc.verbose(\"Iniciando entrenamiento\")\n",
    "\n",
    "kf = KFold(n_splits=5, shuffle=True, random_state=SEMILLA)\n",
    "\n",
    "# Crear el pipeline para el flujo de tareas\n",
    "tasks_pipeline = Pipeline([\n",
    "    ('selector', algor_selector),\n",
    "    ('clasifier', algor_clasifier)\n",
    "])\n",
    "\n",
    "# MAX_ITERS puede limitar el número de iteraciones si son excesivas para las combinaciones de parámetros buscando un óptimo local, \n",
    "# sino funcionaría como GridSearchCV al revisar todas las cominaciones de los parámetros\n",
    "num_iteraciones = 1\n",
    "num_iteraciones = num_iteraciones * np.prod([len(elemento1) for _, elemento1 in param_distributions.items()])\n",
    "max_iteraciones = num_iteraciones if num_iteraciones <= MAX_ITERS else MAX_ITERS\n",
    "print(\"num_iter:\",num_iteraciones,\", max_iter:\",max_iteraciones)\n",
    "\n",
    "random_search = RandomizedSearchCV(\n",
    "    tasks_pipeline, \n",
    "    param_distributions, \n",
    "    n_iter=max_iteraciones,\n",
    "    scoring=SCORING,\n",
    "    cv=kf,\n",
    "    verbose=3, \n",
    "    random_state=SEMILLA, \n",
    "    n_jobs=-1\n",
    "    )\n",
    "\n",
    "# Entrenar el modelo\n",
    "random_search.fit(X_train, y_train)\n",
    "\n",
    "# Ver los mejores hiperparámetros encontrados\n",
    "print(f'Mejores Hiperparámetros: {random_search.best_params_}')\n",
    "print(f'Mejor Puntuación: {random_search.best_score_:.4f}')\n",
    "\n",
    "# Nos quedamos con el mejor modelo para ver las métricas\n",
    "mejor_modelo = random_search.best_estimator_\n",
    "\n",
    "myfunc.verbose(\"Fin entrenamiento\")"
   ]
  },
  {
   "cell_type": "markdown",
   "id": "5a560c0b",
   "metadata": {
    "papermill": {
     "duration": 0.0,
     "end_time": "2023-10-30T07:34:27.073284",
     "exception": false,
     "start_time": "2023-10-30T07:34:27.073284",
     "status": "completed"
    },
    "tags": []
   },
   "source": [
    "#### Guardar modelo"
   ]
  },
  {
   "cell_type": "code",
   "execution_count": 8,
   "id": "ea554a01",
   "metadata": {
    "execution": {
     "iopub.execute_input": "2023-10-30T07:34:27.088912Z",
     "iopub.status.busy": "2023-10-30T07:34:27.088912Z",
     "iopub.status.idle": "2023-10-30T07:34:27.120920Z",
     "shell.execute_reply": "2023-10-30T07:34:27.120920Z"
    },
    "papermill": {
     "duration": 0.032008,
     "end_time": "2023-10-30T07:34:27.120920",
     "exception": false,
     "start_time": "2023-10-30T07:34:27.088912",
     "status": "completed"
    },
    "tags": []
   },
   "outputs": [
    {
     "name": "stdout",
     "output_type": "stream",
     "text": [
      "20231030T083427 : amilcar32 : INFO : Inicio guardar fichero ..\\tfm_viu\\ejecuciones\\modelos\\modelo_5426_mul_m_MI_LR_EN.pkl\n",
      "20231030T083427 : amilcar32 : INFO : Fin guardar fichero ..\\tfm_viu\\ejecuciones\\modelos\\modelo_5426_mul_m_MI_LR_EN.pkl\n"
     ]
    }
   ],
   "source": [
    "fichero_modelo = str.replace(\"modelo_\"+str(SEMILLA).zfill(4)+\"_\"+M_TIPO+\"_\"+M_SELECT+\"_\"+M_CLASIF+\".pkl\", \" \", \"_\")\n",
    "\n",
    "myfunc.save_modelo(mejor_modelo, myfunc.MODEL_DIR, fichero_modelo)"
   ]
  },
  {
   "cell_type": "markdown",
   "id": "0f6dda97",
   "metadata": {
    "papermill": {
     "duration": 0.015505,
     "end_time": "2023-10-30T07:34:27.136425",
     "exception": false,
     "start_time": "2023-10-30T07:34:27.120920",
     "status": "completed"
    },
    "tags": []
   },
   "source": [
    "#### Ver resultados del las iteraciones hechas por RandomSearchCV"
   ]
  },
  {
   "cell_type": "code",
   "execution_count": 9,
   "id": "6df3daab",
   "metadata": {
    "execution": {
     "iopub.execute_input": "2023-10-30T07:34:27.152047Z",
     "iopub.status.busy": "2023-10-30T07:34:27.152047Z",
     "iopub.status.idle": "2023-10-30T07:34:27.183404Z",
     "shell.execute_reply": "2023-10-30T07:34:27.183404Z"
    },
    "papermill": {
     "duration": 0.031357,
     "end_time": "2023-10-30T07:34:27.183404",
     "exception": false,
     "start_time": "2023-10-30T07:34:27.152047",
     "status": "completed"
    },
    "tags": []
   },
   "outputs": [
    {
     "name": "stdout",
     "output_type": "stream",
     "text": [
      "20231030T083427 : amilcar32 : INFO : Inicio ver resultados\n",
      "Mejores Hiperparámetros: {'selector__k': 1000, 'clasifier__solver': 'saga', 'clasifier__penalty': 'elasticnet', 'clasifier__max_iter': 10000, 'clasifier__l1_ratios': [0.2]}\n",
      "Mejores puntuaciones: 0.8622 | Params: {'selector__k': 1000, 'clasifier__solver': 'saga', 'clasifier__penalty': 'elasticnet', 'clasifier__max_iter': 10000, 'clasifier__l1_ratios': [0.2]}\n",
      "Media de las puntuaciones: 0.8622 | Params: {'selector__k': 1000, 'clasifier__solver': 'saga', 'clasifier__penalty': 'elasticnet', 'clasifier__max_iter': 10000, 'clasifier__l1_ratios': [0.2]}\n",
      "20231030T083427 : amilcar32 : INFO : Fin resultados\n"
     ]
    }
   ],
   "source": [
    "myfunc.ver_resultados_search(random_search)"
   ]
  },
  {
   "cell_type": "markdown",
   "id": "29910636",
   "metadata": {
    "papermill": {
     "duration": 0.01779,
     "end_time": "2023-10-30T07:34:27.201194",
     "exception": false,
     "start_time": "2023-10-30T07:34:27.183404",
     "status": "completed"
    },
    "tags": []
   },
   "source": [
    "#### Ver métricas del mejor modelo"
   ]
  },
  {
   "cell_type": "code",
   "execution_count": 10,
   "id": "e9de7e6d",
   "metadata": {
    "execution": {
     "iopub.execute_input": "2023-10-30T07:34:27.215284Z",
     "iopub.status.busy": "2023-10-30T07:34:27.215284Z",
     "iopub.status.idle": "2023-10-30T07:34:28.773733Z",
     "shell.execute_reply": "2023-10-30T07:34:28.773733Z"
    },
    "papermill": {
     "duration": 1.572539,
     "end_time": "2023-10-30T07:34:28.773733",
     "exception": false,
     "start_time": "2023-10-30T07:34:27.201194",
     "status": "completed"
    },
    "tags": []
   },
   "outputs": [
    {
     "name": "stdout",
     "output_type": "stream",
     "text": [
      "20231030T083427 : amilcar32 : INFO : Inicio ver métricas multiclase\n"
     ]
    },
    {
     "name": "stdout",
     "output_type": "stream",
     "text": [
      "              precision    recall  f1-score   support\n",
      "\n",
      "           0       0.64      0.44      0.52        16\n",
      "           1       0.79      0.73      0.76        15\n",
      "           2       0.50      0.27      0.35        11\n",
      "           3       0.36      0.80      0.50         5\n",
      "           4       0.70      0.54      0.61        13\n",
      "           5       0.64      0.78      0.70         9\n",
      "           6       0.50      0.67      0.57        18\n",
      "\n",
      "    accuracy                           0.59        87\n",
      "   macro avg       0.59      0.60      0.57        87\n",
      "weighted avg       0.61      0.59      0.58        87\n",
      "\n",
      "\n",
      "\n",
      "           Exactitud: 0.586207\n",
      "   Precisión (media): 0.588868\n",
      "      Recall (media): 0.603781\n",
      "    F1-score (media): 0.572886\n",
      "\n",
      "\n",
      "AUC para el tipo de cáncer 0-Control.... 0.8680\n",
      "AUC para el tipo de cáncer 1-Bladder.... 0.8981\n",
      "AUC para el tipo de cáncer 2-Breast..... 0.8194\n",
      "AUC para el tipo de cáncer 3-Colorectal. 0.8878\n",
      "AUC para el tipo de cáncer 4-Kidney..... 0.8254\n",
      "AUC para el tipo de cáncer 5-Lung....... 0.9074\n",
      "AUC para el tipo de cáncer 6-Prostate... 0.8824\n",
      "\n",
      "Media de AUC: 0.8698\n"
     ]
    },
    {
     "data": {
      "image/png": "[encoded data removed]",
      "text/plain": [
       "<Figure size 1000x600 with 1 Axes>"
      ]
     },
     "metadata": {},
     "output_type": "display_data"
    },
    {
     "name": "stdout",
     "output_type": "stream",
     "text": [
      "\n",
      "\n"
     ]
    },
    {
     "data": {
      "image/png": "[encoded data removed]",
      "text/plain": [
       "<Figure size 800x400 with 2 Axes>"
      ]
     },
     "metadata": {},
     "output_type": "display_data"
    },
    {
     "name": "stdout",
     "output_type": "stream",
     "text": [
      "\n",
      "\n",
      "Puntuación Jaccard para el cáncer tipo 0-Control.... 0.3500\n",
      "Puntuación Jaccard para el cáncer tipo 1-Bladder.... 0.6111\n",
      "Puntuación Jaccard para el cáncer tipo 2-Breast..... 0.2143\n",
      "Puntuación Jaccard para el cáncer tipo 3-Colorectal. 0.3333\n",
      "Puntuación Jaccard para el cáncer tipo 4-Kidney..... 0.4375\n",
      "Puntuación Jaccard para el cáncer tipo 5-Lung....... 0.5385\n",
      "Puntuación Jaccard para el cáncer tipo 6-Prostate... 0.4000\n",
      "\n",
      "Media de la puntuación de Jaccard: 0.4121\n"
     ]
    }
   ],
   "source": [
    "if M_TIPO.startswith(\"bin\"):\n",
    "    myfunc.ver_metricas(mejor_modelo, X_test, y_test)\n",
    "else:\n",
    "    myfunc.ver_metricas_multi(mejor_modelo, X_test, y_test)\n"
   ]
  },
  {
   "cell_type": "markdown",
   "id": "12528a52",
   "metadata": {
    "papermill": {
     "duration": 0.016092,
     "end_time": "2023-10-30T07:34:28.805271",
     "exception": false,
     "start_time": "2023-10-30T07:34:28.789179",
     "status": "completed"
    },
    "tags": []
   },
   "source": [
    "#### Finalización del notebook"
   ]
  },
  {
   "cell_type": "code",
   "execution_count": 11,
   "id": "8c636dde",
   "metadata": {
    "execution": {
     "iopub.execute_input": "2023-10-30T07:34:28.836607Z",
     "iopub.status.busy": "2023-10-30T07:34:28.836607Z",
     "iopub.status.idle": "2023-10-30T07:34:28.852306Z",
     "shell.execute_reply": "2023-10-30T07:34:28.852306Z"
    },
    "papermill": {
     "duration": 0.031311,
     "end_time": "2023-10-30T07:34:28.852306",
     "exception": false,
     "start_time": "2023-10-30T07:34:28.820995",
     "status": "completed"
    },
    "tags": []
   },
   "outputs": [
    {
     "name": "stdout",
     "output_type": "stream",
     "text": [
      "20231030T083428 : amilcar32 : INFO : Notebook ha tardado 2692 seconds\n"
     ]
    }
   ],
   "source": [
    "end_time = datetime.datetime.now()\n",
    "total_time = end_time - start_time\n",
    "myfunc.verbose(f\"Notebook ha tardado {total_time.seconds} seconds\")"
   ]
  },
  {
   "cell_type": "markdown",
   "id": "b6b483b4",
   "metadata": {
    "papermill": {
     "duration": 0.015629,
     "end_time": "2023-10-30T07:34:28.883492",
     "exception": false,
     "start_time": "2023-10-30T07:34:28.867863",
     "status": "completed"
    },
    "tags": []
   },
   "source": [
    "#### Guardar métricas"
   ]
  },
  {
   "cell_type": "code",
   "execution_count": 12,
   "id": "165a2db2",
   "metadata": {
    "execution": {
     "iopub.execute_input": "2023-10-30T07:34:28.915283Z",
     "iopub.status.busy": "2023-10-30T07:34:28.915283Z",
     "iopub.status.idle": "2023-10-30T07:34:29.418685Z",
     "shell.execute_reply": "2023-10-30T07:34:29.418685Z"
    },
    "papermill": {
     "duration": 0.512989,
     "end_time": "2023-10-30T07:34:29.418685",
     "exception": false,
     "start_time": "2023-10-30T07:34:28.905696",
     "status": "completed"
    },
    "tags": []
   },
   "outputs": [
    {
     "name": "stdout",
     "output_type": "stream",
     "text": [
      "20231030T083428 : amilcar32 : INFO : Inicio guardar métricas multiclase\n",
      "20231030T083428 : amilcar32 : INFO : Inicio leer fichero ..\\tfm_viu\\ejecuciones\\metricas\\metricas_5426.csv\n",
      "20231030T083428 : amilcar32 : INFO : Fin leer fichero ..\\tfm_viu\\ejecuciones\\metricas\\metricas_5426.csv\n"
     ]
    },
    {
     "name": "stdout",
     "output_type": "stream",
     "text": [
      "20231030T083429 : amilcar32 : INFO : Inicio guardar fichero ..\\tfm_viu\\ejecuciones\\metricas\\metricas_5426.csv\n",
      "20231030T083429 : amilcar32 : INFO : Fichero borrado ..\\tfm_viu\\ejecuciones\\metricas\\metricas_5426.csv\n",
      "20231030T083429 : amilcar32 : INFO : Fin guardar fichero ..\\tfm_viu\\ejecuciones\\metricas\\metricas_5426.csv\n",
      "20231030T083429 : amilcar32 : INFO : Fin guardar métricas multiclase\n",
      "20231030T083429 : amilcar32 : INFO : Inicio leer fichero ..\\tfm_viu\\ejecuciones\\metricas\\metricas_5426.csv\n",
      "20231030T083429 : amilcar32 : INFO : Fin leer fichero ..\\tfm_viu\\ejecuciones\\metricas\\metricas_5426.csv\n"
     ]
    },
    {
     "data": {
      "text/html": [
       "<div>\n",
       "<style scoped>\n",
       "    .dataframe tbody tr th:only-of-type {\n",
       "        vertical-align: middle;\n",
       "    }\n",
       "\n",
       "    .dataframe tbody tr th {\n",
       "        vertical-align: top;\n",
       "    }\n",
       "\n",
       "    .dataframe thead th {\n",
       "        text-align: right;\n",
       "    }\n",
       "</style>\n",
       "<table border=\"1\" class=\"dataframe\">\n",
       "  <thead>\n",
       "    <tr style=\"text-align: right;\">\n",
       "      <th></th>\n",
       "      <th>tipo</th>\n",
       "      <th>select</th>\n",
       "      <th>clasific</th>\n",
       "      <th>semilla</th>\n",
       "      <th>accuracy</th>\n",
       "      <th>precision</th>\n",
       "      <th>recall</th>\n",
       "      <th>f1_score</th>\n",
       "      <th>roc_auc</th>\n",
       "      <th>hostname</th>\n",
       "      <th>total_time_sec</th>\n",
       "      <th>datetime</th>\n",
       "      <th>fichero_modelo</th>\n",
       "      <th>params</th>\n",
       "      <th>shape</th>\n",
       "      <th>features</th>\n",
       "      <th>roc_auc_ovr</th>\n",
       "      <th>indices_auc</th>\n",
       "      <th>indices_jaccard</th>\n",
       "    </tr>\n",
       "  </thead>\n",
       "  <tbody>\n",
       "    <tr>\n",
       "      <th>0</th>\n",
       "      <td>mul_m</td>\n",
       "      <td>MI</td>\n",
       "      <td>LR_EN</td>\n",
       "      <td>5426</td>\n",
       "      <td>0.586207</td>\n",
       "      <td>0.588868</td>\n",
       "      <td>0.603781</td>\n",
       "      <td>0.572886</td>\n",
       "      <td>NaN</td>\n",
       "      <td>amilcar32</td>\n",
       "      <td>2692</td>\n",
       "      <td>2023-10-30 08:34:29.308463</td>\n",
       "      <td>modelo_5426_mul_m_MI_LR_EN.pkl</td>\n",
       "      <td>{'selector__k': 1000, 'clasifier__solver': 'sa...</td>\n",
       "      <td>X_test:(87, 18875)</td>\n",
       "      <td>['ENSG00000001460.18', 'ENSG00000004660.15', '...</td>\n",
       "      <td>0.869787</td>\n",
       "      <td>[0.8679577464788732, 0.8981481481481481, 0.819...</td>\n",
       "      <td>[0.35, 0.6111111111111112, 0.21428571428571427...</td>\n",
       "    </tr>\n",
       "    <tr>\n",
       "      <th>0</th>\n",
       "      <td>mul_m</td>\n",
       "      <td>ANOVA</td>\n",
       "      <td>SVM</td>\n",
       "      <td>5426</td>\n",
       "      <td>0.448276</td>\n",
       "      <td>0.466514</td>\n",
       "      <td>0.477284</td>\n",
       "      <td>0.454199</td>\n",
       "      <td>NaN</td>\n",
       "      <td>amilcar32</td>\n",
       "      <td>2</td>\n",
       "      <td>2023-10-30 07:49:32.015413</td>\n",
       "      <td>modelo_5426_mul_m_ANOVA_SVM.pkl</td>\n",
       "      <td>{'selector__k': 500, 'clasifier__kernel': 'rbf...</td>\n",
       "      <td>X_test:(87, 18875)</td>\n",
       "      <td>['ENSG00000000938.13', 'ENSG00000004660.15', '...</td>\n",
       "      <td>0.818296</td>\n",
       "      <td>[0.7235915492957746, 0.8796296296296297, 0.600...</td>\n",
       "      <td>[0.17391304347826086, 0.42105263157894735, 0.1...</td>\n",
       "    </tr>\n",
       "    <tr>\n",
       "      <th>0</th>\n",
       "      <td>mul_m</td>\n",
       "      <td>ANOVA</td>\n",
       "      <td>RF</td>\n",
       "      <td>5426</td>\n",
       "      <td>0.436782</td>\n",
       "      <td>0.384393</td>\n",
       "      <td>0.467854</td>\n",
       "      <td>0.405042</td>\n",
       "      <td>NaN</td>\n",
       "      <td>amilcar32</td>\n",
       "      <td>70</td>\n",
       "      <td>2023-10-30 07:49:23.784910</td>\n",
       "      <td>modelo_5426_mul_m_ANOVA_RF.pkl</td>\n",
       "      <td>{'selector__k': 1000, 'clasifier__n_estimators...</td>\n",
       "      <td>X_test:(87, 18875)</td>\n",
       "      <td>['ENSG00000000938.13', 'ENSG00000002919.15', '...</td>\n",
       "      <td>0.784442</td>\n",
       "      <td>[0.6038732394366197, 0.8564814814814814, 0.637...</td>\n",
       "      <td>[0.0, 0.42857142857142855, 0.13333333333333333...</td>\n",
       "    </tr>\n",
       "  </tbody>\n",
       "</table>\n",
       "</div>"
      ],
      "text/plain": [
       "    tipo select clasific  semilla  accuracy  precision    recall  f1_score  \\\n",
       "0  mul_m     MI    LR_EN     5426  0.586207   0.588868  0.603781  0.572886   \n",
       "0  mul_m  ANOVA      SVM     5426  0.448276   0.466514  0.477284  0.454199   \n",
       "0  mul_m  ANOVA       RF     5426  0.436782   0.384393  0.467854  0.405042   \n",
       "\n",
       "   roc_auc   hostname  total_time_sec                    datetime  \\\n",
       "0      NaN  amilcar32            2692  2023-10-30 08:34:29.308463   \n",
       "0      NaN  amilcar32               2  2023-10-30 07:49:32.015413   \n",
       "0      NaN  amilcar32              70  2023-10-30 07:49:23.784910   \n",
       "\n",
       "                    fichero_modelo  \\\n",
       "0   modelo_5426_mul_m_MI_LR_EN.pkl   \n",
       "0  modelo_5426_mul_m_ANOVA_SVM.pkl   \n",
       "0   modelo_5426_mul_m_ANOVA_RF.pkl   \n",
       "\n",
       "                                              params               shape  \\\n",
       "0  {'selector__k': 1000, 'clasifier__solver': 'sa...  X_test:(87, 18875)   \n",
       "0  {'selector__k': 500, 'clasifier__kernel': 'rbf...  X_test:(87, 18875)   \n",
       "0  {'selector__k': 1000, 'clasifier__n_estimators...  X_test:(87, 18875)   \n",
       "\n",
       "                                            features  roc_auc_ovr  \\\n",
       "0  ['ENSG00000001460.18', 'ENSG00000004660.15', '...     0.869787   \n",
       "0  ['ENSG00000000938.13', 'ENSG00000004660.15', '...     0.818296   \n",
       "0  ['ENSG00000000938.13', 'ENSG00000002919.15', '...     0.784442   \n",
       "\n",
       "                                         indices_auc  \\\n",
       "0  [0.8679577464788732, 0.8981481481481481, 0.819...   \n",
       "0  [0.7235915492957746, 0.8796296296296297, 0.600...   \n",
       "0  [0.6038732394366197, 0.8564814814814814, 0.637...   \n",
       "\n",
       "                                     indices_jaccard  \n",
       "0  [0.35, 0.6111111111111112, 0.21428571428571427...  \n",
       "0  [0.17391304347826086, 0.42105263157894735, 0.1...  \n",
       "0  [0.0, 0.42857142857142855, 0.13333333333333333...  "
      ]
     },
     "metadata": {},
     "output_type": "display_data"
    }
   ],
   "source": [
    "if M_TIPO.startswith(\"bin\"):\n",
    "    myfunc.save_metricas_to_csv(random_search, X_test, y_test, M_TIPO, M_SELECT, M_CLASIF, total_time, SEMILLA, myfunc.MET_DIR, M_FICHERO, fichero_modelo)\n",
    "else:\n",
    "    myfunc.save_metricas_multi_to_csv(random_search, X_test, y_test, M_TIPO, M_SELECT, M_CLASIF, total_time, SEMILLA, myfunc.MET_DIR, M_FICHERO, fichero_modelo)\n",
    "\n",
    "df1=myfunc.read_metricas_to_df(myfunc.MET_DIR,M_FICHERO)\n",
    "\n",
    "display(df1.sort_values(\"datetime\", ascending=False)[:3])\n"
   ]
  },
  {
   "cell_type": "markdown",
   "id": "2659fe28",
   "metadata": {
    "papermill": {
     "duration": 0.015624,
     "end_time": "2023-10-30T07:34:29.450033",
     "exception": false,
     "start_time": "2023-10-30T07:34:29.434409",
     "status": "completed"
    },
    "tags": []
   },
   "source": [
    "#### Guardar resultados"
   ]
  },
  {
   "cell_type": "code",
   "execution_count": 13,
   "id": "d821ab7a",
   "metadata": {
    "execution": {
     "iopub.execute_input": "2023-10-30T07:34:29.465650Z",
     "iopub.status.busy": "2023-10-30T07:34:29.465650Z",
     "iopub.status.idle": "2023-10-30T07:34:29.497002Z",
     "shell.execute_reply": "2023-10-30T07:34:29.497002Z"
    },
    "papermill": {
     "duration": 0.046969,
     "end_time": "2023-10-30T07:34:29.497002",
     "exception": false,
     "start_time": "2023-10-30T07:34:29.450033",
     "status": "completed"
    },
    "tags": []
   },
   "outputs": [
    {
     "name": "stdout",
     "output_type": "stream",
     "text": [
      "20231030T083429 : amilcar32 : INFO : Inicio guardar resultados\n",
      "20231030T083429 : amilcar32 : INFO : Inicio guardar fichero ..\\tfm_viu\\ejecuciones\\metricas\\resultados_5426_mul_m-MI-LR_EN.csv\n",
      "20231030T083429 : amilcar32 : INFO : Fin guardar fichero ..\\tfm_viu\\ejecuciones\\metricas\\resultados_5426_mul_m-MI-LR_EN.csv\n",
      "20231030T083429 : amilcar32 : INFO : Fin guardar resultados\n"
     ]
    }
   ],
   "source": [
    "fichero_resultados=R_FICHERO+\"_\"+M_TIPO+\"-\"+M_SELECT+\"-\"+M_CLASIF+\".csv\"\n",
    "myfunc.save_resultados_to_csv(M_TIPO, M_SELECT, M_CLASIF,  random_search, myfunc.MET_DIR, fichero_resultados)\n"
   ]
  }
 ],
 "metadata": {
  "kernelspec": {
   "display_name": "Python 3 (ipykernel)",
   "language": "python",
   "name": "python3"
  },
  "language_info": {
   "codemirror_mode": {
    "name": "ipython",
    "version": 3
   },
   "file_extension": ".py",
   "mimetype": "text/x-python",
   "name": "python",
   "nbconvert_exporter": "python",
   "pygments_lexer": "ipython3",
   "version": "3.10.12"
  },
  "papermill": {
   "default_parameters": {},
   "duration": 2697.029519,
   "end_time": "2023-10-30T07:34:30.413931",
   "environment_variables": {},
   "exception": null,
   "input_path": "03_entrenamiento.ipynb",
   "output_path": "ejecuciones\\training\\03_entrenamiento.20231030T_74932.param_0000_5426_mul_m_MI_LR_EN.output.ipynb",
   "parameters": {
    "MAX_ITERS": 500,
    "M_CLASIF": "LR_EN",
    "M_FICHERO": "metricas_5426",
    "M_SELECT": "MI",
    "M_TIPO": "mul_m",
    "PRE_DATA_FILE": "rows_transpose_norm_by_gene_id_with_target_num_",
    "P_FICHERO": "param_0000_5426_mul_m_MI_LR_EN.yaml",
    "R_FICHERO": "resultados_5426",
    "SCORING": "roc_auc_ovr",
    "SEMILLA": 5426,
    "eval_clasifier": "LogisticRegressionCV(random_state=SEMILLA)",
    "eval_selector": "SelectKBest(score_func=mutual_info_classif_state)",
    "param_distributions": {
     "clasifier__l1_ratios": [
      [
       0.2
      ]
     ],
     "clasifier__max_iter": [
      10000
     ],
     "clasifier__penalty": [
      "elasticnet"
     ],
     "clasifier__solver": [
      "saga"
     ],
     "selector__k": [
      1000
     ]
    }
   },
   "start_time": "2023-10-30T06:49:33.384412",
   "version": "2.4.0"
  }
 },
 "nbformat": 4,
 "nbformat_minor": 5
}