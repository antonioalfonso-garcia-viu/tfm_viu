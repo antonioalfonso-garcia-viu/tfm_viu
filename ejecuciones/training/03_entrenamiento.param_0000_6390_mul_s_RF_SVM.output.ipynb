{
 "cells": [
  {
   "cell_type": "markdown",
   "id": "4e8bbd54",
   "metadata": {
    "papermill": {
     "duration": 0.003114,
     "end_time": "2023-10-30T18:41:21.156116",
     "exception": false,
     "start_time": "2023-10-30T18:41:21.153002",
     "status": "completed"
    },
    "tags": []
   },
   "source": [
    "##### Inicio"
   ]
  },
  {
   "cell_type": "markdown",
   "id": "5ed01c33",
   "metadata": {
    "papermill": {
     "duration": 0.002347,
     "end_time": "2023-10-30T18:41:21.161073",
     "exception": false,
     "start_time": "2023-10-30T18:41:21.158726",
     "status": "completed"
    },
    "tags": []
   },
   "source": [
    "#### Carga de datos"
   ]
  },
  {
   "cell_type": "code",
   "execution_count": 1,
   "id": "6713bed8",
   "metadata": {
    "execution": {
     "iopub.execute_input": "2023-10-30T18:41:21.167028Z",
     "iopub.status.busy": "2023-10-30T18:41:21.166792Z",
     "iopub.status.idle": "2023-10-30T18:41:22.029746Z",
     "shell.execute_reply": "2023-10-30T18:41:22.029175Z"
    },
    "papermill": {
     "duration": 0.867558,
     "end_time": "2023-10-30T18:41:22.031049",
     "exception": false,
     "start_time": "2023-10-30T18:41:21.163491",
     "status": "completed"
    },
    "tags": []
   },
   "outputs": [
    {
     "name": "stdout",
     "output_type": "stream",
     "text": [
      "CPU_COUNT: 8; NODE: amilcar22; sys.version: 3.10.12 (main, Jul  5 2023, 19:22:19) [GCC 11.2.0]\n",
      "LOKY_MAX_CPU_COUNT: 6\n",
      "OMP_NUM_THREADS: 2\n"
     ]
    }
   ],
   "source": [
    "import os\n",
    "import numpy as np\n",
    "import pandas as pd\n",
    "import datetime\n",
    "import sklearn\n",
    "import logging\n",
    "import warnings\n",
    "\n",
    "from sklearn.pipeline import Pipeline\n",
    "from sklearn.model_selection import RandomizedSearchCV, KFold, cross_val_score, train_test_split\n",
    "from sklearn.metrics import accuracy_score, confusion_matrix, classification_report, roc_auc_score\n",
    "\n",
    "#  cargar algoritmos para aprendizaje supervisado\n",
    "from sklearn.feature_selection import SelectKBest, f_classif, SelectFromModel, mutual_info_classif\n",
    "from sklearn.svm import SVC\n",
    "from sklearn.ensemble import RandomForestClassifier\n",
    "from sklearn.linear_model import LogisticRegression,LogisticRegressionCV\n",
    "\n",
    "# importar fichero con utilidades propias\n",
    "from commons import myfunctions as myfunc\n"
   ]
  },
  {
   "cell_type": "markdown",
   "id": "eaa652dd",
   "metadata": {
    "papermill": {
     "duration": 0.002514,
     "end_time": "2023-10-30T18:41:22.036506",
     "exception": false,
     "start_time": "2023-10-30T18:41:22.033992",
     "status": "completed"
    },
    "tags": []
   },
   "source": [
    "#### Parámetros a utilizar en el entrenamiento.\n",
    "\n",
    "Se indican los 3 algoritmos de *selección de características* (eval_selector_xxx) y los 3 algoritmos para la _clasificación_ (eval_clasifier_xxx)\n",
    "\n",
    "En *param_distributions* se indicar los parámetros que utilizan los algoritmos en la función RandomSearchCV.\n",
    "\n",
    "Esta celda tiene la etiqueta **parameters** que servirá para poder lanzar los entrenamientos con la utilidad **papermill** pasándole un fichero con los parámetros. Los nuevos parámetros se situarán tras esta celda para tener prevalencia."
   ]
  },
  {
   "cell_type": "code",
   "execution_count": 2,
   "id": "df9fe583",
   "metadata": {
    "execution": {
     "iopub.execute_input": "2023-10-30T18:41:22.042600Z",
     "iopub.status.busy": "2023-10-30T18:41:22.042304Z",
     "iopub.status.idle": "2023-10-30T18:41:22.049305Z",
     "shell.execute_reply": "2023-10-30T18:41:22.048682Z"
    },
    "papermill": {
     "duration": 0.011599,
     "end_time": "2023-10-30T18:41:22.050558",
     "exception": false,
     "start_time": "2023-10-30T18:41:22.038959",
     "status": "completed"
    },
    "tags": [
     "parameters"
    ]
   },
   "outputs": [
    {
     "name": "stdout",
     "output_type": "stream",
     "text": [
      "20231030T194122 : amilcar22 : INFO : Utilizando parámetros de mul_m\n"
     ]
    }
   ],
   "source": [
    "#  Parametros para el entrenamiento\n",
    "\n",
    "SEMILLA=        42\n",
    "M_TIPO=         \"mul_m\"\n",
    "M_SELECT=       \"MI\"\n",
    "M_CLASIF=       \"SVM\"\n",
    "R_FICHERO=      \"resultados\"\n",
    "M_FICHERO=      \"metricas\"\n",
    "PRE_DATA_FILE=  \"rows_transpose_norm_by_gene_id_with_target_num_\"\n",
    "SCORING=        \"roc_auc_ovr\" \n",
    "MAX_ITERS=      100\n",
    "\n",
    "def mutual_info_classif_state(X, y):\n",
    "    return mutual_info_classif(X, y, random_state=SEMILLA)\n",
    "\n",
    "eval_selector_mi = \"SelectKBest(score_func=mutual_info_classif_state)\"\n",
    "eval_selector_rf=  \"SelectFromModel(estimator=RandomForestClassifier(random_state=SEMILLA), threshold=-np.inf)\"\n",
    "eval_selector_anova=  \"SelectKBest(score_func=f_classif)\"\n",
    "\n",
    "eval_clasifier_svm= \"SVC(probability=True, random_state=SEMILLA)\"\n",
    "eval_clasifier_rf= \"RandomForestClassifier(random_state=SEMILLA)\"\n",
    "eval_clasifier_lr= \"LogisticRegressionCV(random_state=SEMILLA)\"\n",
    "\n",
    "if M_TIPO.startswith(\"bin_m\"):\n",
    "    myfunc.verbose(f\"Utilizando parámetros de {M_TIPO}\")\n",
    "    eval_selector = eval_selector_mi\n",
    "    eval_clasifier = eval_clasifier_svm\n",
    "\n",
    "    SEMILLA = 6578\n",
    "    M_SELECT = \"MI\"\n",
    "    M_CLASIF = \"SVM\"\n",
    "    param_distributions = {'selector__k': [1000], \n",
    "         'clasifier__kernel': ['rbf'], 'clasifier__gamma': [0.01], 'clasifier__C': [100]}\n",
    "elif M_TIPO.startswith(\"bin_s\"):\n",
    "    myfunc.verbose(f\"Utilizando parámetros de {M_TIPO}\")\n",
    "    eval_selector = eval_selector_rf\n",
    "    eval_clasifier = eval_clasifier_lr\n",
    "\n",
    "    SEMILLA = 6191\n",
    "    M_SELECT = \"RF\"\n",
    "    M_CLASIF = \"LR_L2\"\n",
    "    param_distributions = {'selector__max_features': [1000], 'selector__estimator__n_estimators': [200], \n",
    "        'clasifier__solver': ['lbfgs'], 'clasifier__penalty': ['l2'], 'clasifier__max_iter': [10000]}\n",
    "\n",
    "elif M_TIPO.startswith(\"mul_m\"):\n",
    "    myfunc.verbose(f\"Utilizando parámetros de {M_TIPO}\")\n",
    " \n",
    "    eval_selector = eval_selector_rf\n",
    "    eval_clasifier = eval_clasifier_lr\n",
    "\n",
    "    SEMILLA = 6191\n",
    "    M_SELECT = \"RF\"\n",
    "    M_CLASIF = \"LR_L2\"\n",
    "    param_distributions = {'selector__max_features': [1000], 'selector__estimator__n_estimators': [400], \n",
    "        'clasifier__solver': ['lbfgs'], 'clasifier__penalty': ['l2'], 'clasifier__max_iter': [10000]}\n",
    "\n",
    "else:\n",
    "    # M_TIPO.startswith(\"mul_s\"):\n",
    "    myfunc.verbose(f\"Utilizando parámetros de {M_TIPO}\")\n",
    "    eval_selector = eval_selector_anova\n",
    "    eval_clasifier = eval_clasifier_lr\n",
    "\n",
    "    SEMILLA = 1860\n",
    "    M_SELECT = \"ANOVA\"\n",
    "    M_CLASIF = \"LR_L2\"\n",
    "    param_distributions = {'selector__k': [1000], \n",
    "        'clasifier__solver': ['saga'], 'clasifier__penalty': ['l2'], 'clasifier__max_iter': [10000]}\n",
    "\n"
   ]
  },
  {
   "cell_type": "code",
   "execution_count": 3,
   "id": "1f8f4b08",
   "metadata": {
    "execution": {
     "iopub.execute_input": "2023-10-30T18:41:22.056795Z",
     "iopub.status.busy": "2023-10-30T18:41:22.056624Z",
     "iopub.status.idle": "2023-10-30T18:41:22.060046Z",
     "shell.execute_reply": "2023-10-30T18:41:22.059632Z"
    },
    "papermill": {
     "duration": 0.007798,
     "end_time": "2023-10-30T18:41:22.061206",
     "exception": false,
     "start_time": "2023-10-30T18:41:22.053408",
     "status": "completed"
    },
    "tags": [
     "injected-parameters"
    ]
   },
   "outputs": [],
   "source": [
    "# Parameters\n",
    "M_TIPO = \"mul_s\"\n",
    "M_SELECT = \"RF\"\n",
    "M_CLASIF = \"SVM\"\n",
    "P_FICHERO = \"param_0000_6390_mul_s_RF_SVM.yaml\"\n",
    "R_FICHERO = \"resultados_6390\"\n",
    "M_FICHERO = \"metricas_6390\"\n",
    "PRE_DATA_FILE = \"rows_transpose_norm_by_gene_id_with_target_num_\"\n",
    "SCORING = \"roc_auc_ovr\"\n",
    "SEMILLA = 6390\n",
    "MAX_ITERS = 500\n",
    "eval_selector = \"SelectFromModel(estimator=RandomForestClassifier(random_state=SEMILLA), threshold=-np.inf)\"\n",
    "eval_clasifier = \"SVC(probability=True, random_state=SEMILLA)\"\n",
    "param_distributions = {\n",
    "    \"selector__max_features\": [200],\n",
    "    \"selector__estimator__n_estimators\": [100],\n",
    "    \"clasifier__kernel\": [\"rbf\"],\n",
    "    \"clasifier__gamma\": [0.01],\n",
    "    \"clasifier__C\": [10],\n",
    "}\n"
   ]
  },
  {
   "cell_type": "code",
   "execution_count": 4,
   "id": "a02e543a",
   "metadata": {
    "execution": {
     "iopub.execute_input": "2023-10-30T18:41:22.067306Z",
     "iopub.status.busy": "2023-10-30T18:41:22.067133Z",
     "iopub.status.idle": "2023-10-30T18:41:22.069927Z",
     "shell.execute_reply": "2023-10-30T18:41:22.069495Z"
    },
    "papermill": {
     "duration": 0.007165,
     "end_time": "2023-10-30T18:41:22.071108",
     "exception": false,
     "start_time": "2023-10-30T18:41:22.063943",
     "status": "completed"
    },
    "tags": []
   },
   "outputs": [],
   "source": [
    "DATA_FILE = PRE_DATA_FILE + M_TIPO\n",
    "\n",
    "# si viene \"None\" en el parámetro max_depth, se le quitan las comillas para que no sea entendido por el algoritmo como un texto\n",
    "if \"clasifier__max_depth\" in param_distributions:\n",
    "    param_distributions['clasifier__max_depth'] = [None if x == 'None' else x for x in param_distributions['clasifier__max_depth']]"
   ]
  },
  {
   "cell_type": "markdown",
   "id": "738349e0",
   "metadata": {
    "papermill": {
     "duration": 0.002537,
     "end_time": "2023-10-30T18:41:22.076454",
     "exception": false,
     "start_time": "2023-10-30T18:41:22.073917",
     "status": "completed"
    },
    "tags": []
   },
   "source": [
    "Asignar los algoritmos que se utilizarán en la función RandomSearchCV"
   ]
  },
  {
   "cell_type": "code",
   "execution_count": 5,
   "id": "bbbda512",
   "metadata": {
    "execution": {
     "iopub.execute_input": "2023-10-30T18:41:22.082388Z",
     "iopub.status.busy": "2023-10-30T18:41:22.082217Z",
     "iopub.status.idle": "2023-10-30T18:41:22.084917Z",
     "shell.execute_reply": "2023-10-30T18:41:22.084439Z"
    },
    "papermill": {
     "duration": 0.007024,
     "end_time": "2023-10-30T18:41:22.086106",
     "exception": false,
     "start_time": "2023-10-30T18:41:22.079082",
     "status": "completed"
    },
    "tags": []
   },
   "outputs": [],
   "source": [
    "algor_selector=eval(eval_selector)\n",
    "algor_clasifier=eval(eval_clasifier)"
   ]
  },
  {
   "cell_type": "markdown",
   "id": "7a22d3d8",
   "metadata": {
    "papermill": {
     "duration": 0.002708,
     "end_time": "2023-10-30T18:41:22.091658",
     "exception": false,
     "start_time": "2023-10-30T18:41:22.088950",
     "status": "completed"
    },
    "tags": []
   },
   "source": [
    "#### Comprobar el entorno y leer fichero de muestras"
   ]
  },
  {
   "cell_type": "code",
   "execution_count": 6,
   "id": "4cf96f0e",
   "metadata": {
    "execution": {
     "iopub.execute_input": "2023-10-30T18:41:22.097683Z",
     "iopub.status.busy": "2023-10-30T18:41:22.097513Z",
     "iopub.status.idle": "2023-10-30T18:41:22.216117Z",
     "shell.execute_reply": "2023-10-30T18:41:22.215525Z"
    },
    "papermill": {
     "duration": 0.123133,
     "end_time": "2023-10-30T18:41:22.217422",
     "exception": false,
     "start_time": "2023-10-30T18:41:22.094289",
     "status": "completed"
    },
    "tags": []
   },
   "outputs": [
    {
     "name": "stdout",
     "output_type": "stream",
     "text": [
      "20231030T194122 : amilcar22 : INFO : Encontrada carpeta DATA_DIR=../tfm_git/datos\n",
      "20231030T194122 : amilcar22 : INFO : Encontrada carpeta CFDNA_DIR=../tfm_git/datos/cfDNA_5hmC\n",
      "20231030T194122 : amilcar22 : INFO : Encontrada carpeta GENCODE_DIR=../tfm_git/datos/gencode\n",
      "20231030T194122 : amilcar22 : INFO : Encontrada carpeta H5_DIR=../tfm_git/datos/h5\n",
      "20231030T194122 : amilcar22 : INFO : Encontrada carpeta LOG_DIR=../tfm_git/datos/logs\n",
      "20231030T194122 : amilcar22 : INFO : Encontrada carpeta CSV_DIR=../tfm_git/datos/csv\n",
      "20231030T194122 : amilcar22 : INFO : Encontrada carpeta MODEL_DIR=../tfm_git/ejecuciones/modelos\n",
      "20231030T194122 : amilcar22 : INFO : Encontrada carpeta EXEC_DIR=../tfm_git/ejecuciones\n",
      "20231030T194122 : amilcar22 : INFO : Encontrada carpeta MET_DIR=../tfm_git/ejecuciones/metricas\n",
      "20231030T194122 : amilcar22 : INFO : Inicio leer fichero h5 ../tfm_git/datos/h5/rows_transpose_norm_by_gene_id_with_target_num_mul_s.h5\n",
      "20231030T194122 : amilcar22 : INFO : Leyendo clave /df\n",
      "20231030T194122 : amilcar22 : INFO : Tamaño (259, 18876)\n",
      "20231030T194122 : amilcar22 : INFO : Fin leer fichero h5 ../tfm_git/datos/h5/rows_transpose_norm_by_gene_id_with_target_num_mul_s.h5\n"
     ]
    },
    {
     "data": {
      "text/plain": [
       "target\n",
       "0    37\n",
       "1    37\n",
       "2    37\n",
       "3    37\n",
       "4    37\n",
       "5    37\n",
       "6    37\n",
       "dtype: int64"
      ]
     },
     "metadata": {},
     "output_type": "display_data"
    },
    {
     "name": "stdout",
     "output_type": "stream",
     "text": [
      "Shape df: (259, 18876)\n",
      "Shape X_train: (207, 18875)\n",
      "Shape X_test: (52, 18875)\n"
     ]
    }
   ],
   "source": [
    "start_time = datetime.datetime.now()\n",
    "\n",
    "myfunc.reset_vars()\n",
    "\n",
    "myfunc.NOTEBK_FILENAME = myfunc.get_nb_name()\n",
    "\n",
    "myfunc.check_enviroment(myfunc.DATA_DIR, myfunc.CFDNA_DIR, myfunc.GENCODE_DIR, myfunc.H5_DIR, myfunc.LOG_DIR, myfunc.CSV_DIR, myfunc.MODEL_DIR, myfunc.EXEC_DIR, myfunc.MET_DIR)\n",
    "\n",
    "# Leer fichero con las muestras\n",
    "df_t = myfunc.read_h5_to_df(DATA_FILE, myfunc.H5_DIR)\n",
    "display(df_t.groupby(\"target\").size())\n",
    "print(\"Shape df:\",df_t.shape)\n",
    "\n",
    "# Separar caracteristicas/genes de las etiquetas/tipos de cáncer\n",
    "X = df_t.iloc[:, :-1]  # Todas las columnas excepto la última\n",
    "y = df_t.iloc[:, -1]  # La última columna contiene los identificadores de los tipos de cáncer\n",
    "\n",
    "#  Crear el conjunto de datos de entrenamiento y de pruebas, y se fija la semilla para siempre coger el mismo juego de muestras\n",
    "X_train, X_test, y_train, y_test = train_test_split(X, y, test_size=0.2, shuffle=True, random_state=42)\n",
    "print(\"Shape X_train:\",X_train.shape)\n",
    "print(\"Shape X_test:\",X_test.shape)\n"
   ]
  },
  {
   "cell_type": "markdown",
   "id": "4e414d4b",
   "metadata": {
    "papermill": {
     "duration": 0.002795,
     "end_time": "2023-10-30T18:41:22.223568",
     "exception": false,
     "start_time": "2023-10-30T18:41:22.220773",
     "status": "completed"
    },
    "tags": []
   },
   "source": [
    "#### Selección de características y clasificación."
   ]
  },
  {
   "cell_type": "code",
   "execution_count": 7,
   "id": "edfab3e9",
   "metadata": {
    "execution": {
     "iopub.execute_input": "2023-10-30T18:41:22.230075Z",
     "iopub.status.busy": "2023-10-30T18:41:22.229875Z",
     "iopub.status.idle": "2023-10-30T18:41:26.304330Z",
     "shell.execute_reply": "2023-10-30T18:41:26.303706Z"
    },
    "papermill": {
     "duration": 4.079218,
     "end_time": "2023-10-30T18:41:26.305581",
     "exception": false,
     "start_time": "2023-10-30T18:41:22.226363",
     "status": "completed"
    },
    "tags": []
   },
   "outputs": [
    {
     "name": "stdout",
     "output_type": "stream",
     "text": [
      "20231030T194122 : amilcar22 : INFO : Iniciando entrenamiento\n",
      "num_iter: 1 , max_iter: 1\n",
      "Fitting 5 folds for each of 1 candidates, totalling 5 fits\n"
     ]
    },
    {
     "name": "stdout",
     "output_type": "stream",
     "text": [
      "Mejores Hiperparámetros: {'selector__max_features': 200, 'selector__estimator__n_estimators': 100, 'clasifier__kernel': 'rbf', 'clasifier__gamma': 0.01, 'clasifier__C': 10}\n",
      "Mejor Puntuación: 0.7392\n",
      "20231030T194126 : amilcar22 : INFO : Fin entrenamiento\n"
     ]
    }
   ],
   "source": [
    "myfunc.verbose(\"Iniciando entrenamiento\")\n",
    "\n",
    "kf = KFold(n_splits=5, shuffle=True, random_state=SEMILLA)\n",
    "\n",
    "# Crear el pipeline para el flujo de tareas\n",
    "tasks_pipeline = Pipeline([\n",
    "    ('selector', algor_selector),\n",
    "    ('clasifier', algor_clasifier)\n",
    "])\n",
    "\n",
    "# MAX_ITERS puede limitar el número de iteraciones si son excesivas para las combinaciones de parámetros buscando un óptimo local, \n",
    "# sino funcionaría como GridSearchCV al revisar todas las cominaciones de los parámetros\n",
    "num_iteraciones = 1\n",
    "num_iteraciones = num_iteraciones * np.prod([len(elemento1) for _, elemento1 in param_distributions.items()])\n",
    "max_iteraciones = num_iteraciones if num_iteraciones <= MAX_ITERS else MAX_ITERS\n",
    "print(\"num_iter:\",num_iteraciones,\", max_iter:\",max_iteraciones)\n",
    "\n",
    "random_search = RandomizedSearchCV(\n",
    "    tasks_pipeline, \n",
    "    param_distributions, \n",
    "    n_iter=max_iteraciones,\n",
    "    scoring=SCORING,\n",
    "    cv=kf,\n",
    "    verbose=3, \n",
    "    random_state=SEMILLA, \n",
    "    n_jobs=-1\n",
    "    )\n",
    "\n",
    "# Entrenar el modelo\n",
    "random_search.fit(X_train, y_train)\n",
    "\n",
    "# Ver los mejores hiperparámetros encontrados\n",
    "print(f'Mejores Hiperparámetros: {random_search.best_params_}')\n",
    "print(f'Mejor Puntuación: {random_search.best_score_:.4f}')\n",
    "\n",
    "# Nos quedamos con el mejor modelo para ver las métricas\n",
    "mejor_modelo = random_search.best_estimator_\n",
    "\n",
    "myfunc.verbose(\"Fin entrenamiento\")"
   ]
  },
  {
   "cell_type": "markdown",
   "id": "2e1f3144",
   "metadata": {
    "papermill": {
     "duration": 0.002857,
     "end_time": "2023-10-30T18:41:26.311752",
     "exception": false,
     "start_time": "2023-10-30T18:41:26.308895",
     "status": "completed"
    },
    "tags": []
   },
   "source": [
    "#### Guardar modelo"
   ]
  },
  {
   "cell_type": "code",
   "execution_count": 8,
   "id": "f865a381",
   "metadata": {
    "execution": {
     "iopub.execute_input": "2023-10-30T18:41:26.318582Z",
     "iopub.status.busy": "2023-10-30T18:41:26.318377Z",
     "iopub.status.idle": "2023-10-30T18:41:26.359472Z",
     "shell.execute_reply": "2023-10-30T18:41:26.358928Z"
    },
    "papermill": {
     "duration": 0.045937,
     "end_time": "2023-10-30T18:41:26.360684",
     "exception": false,
     "start_time": "2023-10-30T18:41:26.314747",
     "status": "completed"
    },
    "tags": []
   },
   "outputs": [
    {
     "name": "stdout",
     "output_type": "stream",
     "text": [
      "20231030T194126 : amilcar22 : INFO : Inicio guardar fichero ../tfm_git/ejecuciones/modelos/modelo_6390_mul_s_RF_SVM.pkl\n",
      "20231030T194126 : amilcar22 : INFO : Fin guardar fichero ../tfm_git/ejecuciones/modelos/modelo_6390_mul_s_RF_SVM.pkl\n"
     ]
    }
   ],
   "source": [
    "fichero_modelo = str.replace(\"modelo_\"+str(SEMILLA).zfill(4)+\"_\"+M_TIPO+\"_\"+M_SELECT+\"_\"+M_CLASIF+\".pkl\", \" \", \"_\")\n",
    "\n",
    "myfunc.save_modelo(mejor_modelo, myfunc.MODEL_DIR, fichero_modelo)"
   ]
  },
  {
   "cell_type": "markdown",
   "id": "6ae28d34",
   "metadata": {
    "papermill": {
     "duration": 0.003221,
     "end_time": "2023-10-30T18:41:26.367124",
     "exception": false,
     "start_time": "2023-10-30T18:41:26.363903",
     "status": "completed"
    },
    "tags": []
   },
   "source": [
    "#### Ver resultados del las iteraciones hechas por RandomSearchCV"
   ]
  },
  {
   "cell_type": "code",
   "execution_count": 9,
   "id": "1e335110",
   "metadata": {
    "execution": {
     "iopub.execute_input": "2023-10-30T18:41:26.373794Z",
     "iopub.status.busy": "2023-10-30T18:41:26.373595Z",
     "iopub.status.idle": "2023-10-30T18:41:26.379881Z",
     "shell.execute_reply": "2023-10-30T18:41:26.379350Z"
    },
    "papermill": {
     "duration": 0.011075,
     "end_time": "2023-10-30T18:41:26.381104",
     "exception": false,
     "start_time": "2023-10-30T18:41:26.370029",
     "status": "completed"
    },
    "tags": []
   },
   "outputs": [
    {
     "name": "stdout",
     "output_type": "stream",
     "text": [
      "20231030T194126 : amilcar22 : INFO : Inicio ver resultados\n",
      "Mejores Hiperparámetros: {'selector__max_features': 200, 'selector__estimator__n_estimators': 100, 'clasifier__kernel': 'rbf', 'clasifier__gamma': 0.01, 'clasifier__C': 10}\n",
      "Mejores puntuaciones: 0.7392 | Params: {'selector__max_features': 200, 'selector__estimator__n_estimators': 100, 'clasifier__kernel': 'rbf', 'clasifier__gamma': 0.01, 'clasifier__C': 10}\n",
      "Media de las puntuaciones: 0.7392 | Params: {'selector__max_features': 200, 'selector__estimator__n_estimators': 100, 'clasifier__kernel': 'rbf', 'clasifier__gamma': 0.01, 'clasifier__C': 10}\n",
      "20231030T194126 : amilcar22 : INFO : Fin resultados\n"
     ]
    }
   ],
   "source": [
    "myfunc.ver_resultados_search(random_search)"
   ]
  },
  {
   "cell_type": "markdown",
   "id": "4ae9523c",
   "metadata": {
    "papermill": {
     "duration": 0.00304,
     "end_time": "2023-10-30T18:41:26.387331",
     "exception": false,
     "start_time": "2023-10-30T18:41:26.384291",
     "status": "completed"
    },
    "tags": []
   },
   "source": [
    "#### Ver métricas del mejor modelo"
   ]
  },
  {
   "cell_type": "code",
   "execution_count": 10,
   "id": "6efee308",
   "metadata": {
    "execution": {
     "iopub.execute_input": "2023-10-30T18:41:26.394275Z",
     "iopub.status.busy": "2023-10-30T18:41:26.394088Z",
     "iopub.status.idle": "2023-10-30T18:41:27.037378Z",
     "shell.execute_reply": "2023-10-30T18:41:27.036822Z"
    },
    "papermill": {
     "duration": 0.648258,
     "end_time": "2023-10-30T18:41:27.038699",
     "exception": false,
     "start_time": "2023-10-30T18:41:26.390441",
     "status": "completed"
    },
    "tags": []
   },
   "outputs": [
    {
     "name": "stdout",
     "output_type": "stream",
     "text": [
      "20231030T194126 : amilcar22 : INFO : Inicio ver métricas multiclase\n"
     ]
    },
    {
     "name": "stdout",
     "output_type": "stream",
     "text": [
      "              precision    recall  f1-score   support\n",
      "\n",
      "           0       0.20      0.09      0.13        11\n",
      "           1       0.67      0.50      0.57         8\n",
      "           2       0.00      0.00      0.00         8\n",
      "           3       0.12      0.20      0.15         5\n",
      "           4       0.55      0.75      0.63         8\n",
      "           5       0.57      0.67      0.62         6\n",
      "           6       0.25      0.50      0.33         6\n",
      "\n",
      "    accuracy                           0.37        52\n",
      "   macro avg       0.34      0.39      0.35        52\n",
      "weighted avg       0.34      0.37      0.34        52\n",
      "\n",
      "\n",
      "\n",
      "           Exactitud: 0.365385\n",
      "   Precisión (media): 0.336936\n",
      "      Recall (media): 0.386797\n",
      "    F1-score (media): 0.347225\n",
      "\n",
      "\n",
      "AUC para el tipo de cáncer 0-Control.... 0.5322\n",
      "AUC para el tipo de cáncer 1-Bladder.... 0.8125\n",
      "AUC para el tipo de cáncer 2-Breast..... 0.6534\n",
      "AUC para el tipo de cáncer 3-Colorectal. 0.6426\n",
      "AUC para el tipo de cáncer 4-Kidney..... 0.9688\n",
      "AUC para el tipo de cáncer 5-Lung....... 0.9094\n",
      "AUC para el tipo de cáncer 6-Prostate... 0.7826\n",
      "\n",
      "Media de AUC: 0.7573\n"
     ]
    },
    {
     "data": {
      "image/png": "[encoded data removed]",
      "text/plain": [
       "<Figure size 1000x600 with 1 Axes>"
      ]
     },
     "metadata": {},
     "output_type": "display_data"
    },
    {
     "name": "stdout",
     "output_type": "stream",
     "text": [
      "\n",
      "\n"
     ]
    },
    {
     "data": {
      "image/png": "[encoded data removed]",
      "text/plain": [
       "<Figure size 800x400 with 2 Axes>"
      ]
     },
     "metadata": {},
     "output_type": "display_data"
    },
    {
     "name": "stdout",
     "output_type": "stream",
     "text": [
      "\n",
      "\n",
      "Puntuación Jaccard para el cáncer tipo 0-Control.... 0.0667\n",
      "Puntuación Jaccard para el cáncer tipo 1-Bladder.... 0.4000\n",
      "Puntuación Jaccard para el cáncer tipo 2-Breast..... 0.0000\n",
      "Puntuación Jaccard para el cáncer tipo 3-Colorectal. 0.0833\n",
      "Puntuación Jaccard para el cáncer tipo 4-Kidney..... 0.4615\n",
      "Puntuación Jaccard para el cáncer tipo 5-Lung....... 0.4444\n",
      "Puntuación Jaccard para el cáncer tipo 6-Prostate... 0.2000\n",
      "\n",
      "Media de la puntuación de Jaccard: 0.2366\n"
     ]
    }
   ],
   "source": [
    "if M_TIPO.startswith(\"bin\"):\n",
    "    myfunc.ver_metricas(mejor_modelo, X_test, y_test)\n",
    "else:\n",
    "    myfunc.ver_metricas_multi(mejor_modelo, X_test, y_test)\n"
   ]
  },
  {
   "cell_type": "markdown",
   "id": "447e23b0",
   "metadata": {
    "papermill": {
     "duration": 0.004167,
     "end_time": "2023-10-30T18:41:27.047672",
     "exception": false,
     "start_time": "2023-10-30T18:41:27.043505",
     "status": "completed"
    },
    "tags": []
   },
   "source": [
    "#### Finalización del notebook"
   ]
  },
  {
   "cell_type": "code",
   "execution_count": 11,
   "id": "ca6f33f5",
   "metadata": {
    "execution": {
     "iopub.execute_input": "2023-10-30T18:41:27.056830Z",
     "iopub.status.busy": "2023-10-30T18:41:27.056623Z",
     "iopub.status.idle": "2023-10-30T18:41:27.059922Z",
     "shell.execute_reply": "2023-10-30T18:41:27.059518Z"
    },
    "papermill": {
     "duration": 0.009259,
     "end_time": "2023-10-30T18:41:27.061103",
     "exception": false,
     "start_time": "2023-10-30T18:41:27.051844",
     "status": "completed"
    },
    "tags": []
   },
   "outputs": [
    {
     "name": "stdout",
     "output_type": "stream",
     "text": [
      "20231030T194127 : amilcar22 : INFO : Notebook ha tardado 4 seconds\n"
     ]
    }
   ],
   "source": [
    "end_time = datetime.datetime.now()\n",
    "total_time = end_time - start_time\n",
    "myfunc.verbose(f\"Notebook ha tardado {total_time.seconds} seconds\")"
   ]
  },
  {
   "cell_type": "markdown",
   "id": "26f9fac4",
   "metadata": {
    "papermill": {
     "duration": 0.00408,
     "end_time": "2023-10-30T18:41:27.069542",
     "exception": false,
     "start_time": "2023-10-30T18:41:27.065462",
     "status": "completed"
    },
    "tags": []
   },
   "source": [
    "#### Guardar métricas"
   ]
  },
  {
   "cell_type": "code",
   "execution_count": 12,
   "id": "c1155c80",
   "metadata": {
    "execution": {
     "iopub.execute_input": "2023-10-30T18:41:27.078652Z",
     "iopub.status.busy": "2023-10-30T18:41:27.078450Z",
     "iopub.status.idle": "2023-10-30T18:41:27.360859Z",
     "shell.execute_reply": "2023-10-30T18:41:27.360343Z"
    },
    "papermill": {
     "duration": 0.288357,
     "end_time": "2023-10-30T18:41:27.362091",
     "exception": false,
     "start_time": "2023-10-30T18:41:27.073734",
     "status": "completed"
    },
    "tags": []
   },
   "outputs": [
    {
     "name": "stdout",
     "output_type": "stream",
     "text": [
      "20231030T194127 : amilcar22 : INFO : Inicio guardar métricas multiclase\n",
      "20231030T194127 : amilcar22 : INFO : Inicio leer fichero ../tfm_git/ejecuciones/metricas/metricas_6390.csv\n",
      "20231030T194127 : amilcar22 : INFO : Fin leer fichero ../tfm_git/ejecuciones/metricas/metricas_6390.csv\n"
     ]
    },
    {
     "name": "stdout",
     "output_type": "stream",
     "text": [
      "20231030T194127 : amilcar22 : INFO : Inicio guardar fichero ../tfm_git/ejecuciones/metricas/metricas_6390.csv\n",
      "20231030T194127 : amilcar22 : INFO : Fichero borrado ../tfm_git/ejecuciones/metricas/metricas_6390.csv\n",
      "20231030T194127 : amilcar22 : INFO : Fin guardar fichero ../tfm_git/ejecuciones/metricas/metricas_6390.csv\n",
      "20231030T194127 : amilcar22 : INFO : Fin guardar métricas multiclase\n",
      "20231030T194127 : amilcar22 : INFO : Inicio leer fichero ../tfm_git/ejecuciones/metricas/metricas_6390.csv\n",
      "20231030T194127 : amilcar22 : INFO : Fin leer fichero ../tfm_git/ejecuciones/metricas/metricas_6390.csv\n"
     ]
    },
    {
     "data": {
      "text/html": [
       "<div>\n",
       "<style scoped>\n",
       "    .dataframe tbody tr th:only-of-type {\n",
       "        vertical-align: middle;\n",
       "    }\n",
       "\n",
       "    .dataframe tbody tr th {\n",
       "        vertical-align: top;\n",
       "    }\n",
       "\n",
       "    .dataframe thead th {\n",
       "        text-align: right;\n",
       "    }\n",
       "</style>\n",
       "<table border=\"1\" class=\"dataframe\">\n",
       "  <thead>\n",
       "    <tr style=\"text-align: right;\">\n",
       "      <th></th>\n",
       "      <th>tipo</th>\n",
       "      <th>select</th>\n",
       "      <th>clasific</th>\n",
       "      <th>semilla</th>\n",
       "      <th>accuracy</th>\n",
       "      <th>precision</th>\n",
       "      <th>recall</th>\n",
       "      <th>f1_score</th>\n",
       "      <th>roc_auc</th>\n",
       "      <th>hostname</th>\n",
       "      <th>total_time_sec</th>\n",
       "      <th>datetime</th>\n",
       "      <th>fichero_modelo</th>\n",
       "      <th>params</th>\n",
       "      <th>shape</th>\n",
       "      <th>features</th>\n",
       "      <th>roc_auc_ovr</th>\n",
       "      <th>indices_auc</th>\n",
       "      <th>indices_jaccard</th>\n",
       "    </tr>\n",
       "  </thead>\n",
       "  <tbody>\n",
       "    <tr>\n",
       "      <th>0</th>\n",
       "      <td>mul_s</td>\n",
       "      <td>RF</td>\n",
       "      <td>SVM</td>\n",
       "      <td>6390</td>\n",
       "      <td>0.365385</td>\n",
       "      <td>0.336936</td>\n",
       "      <td>0.386797</td>\n",
       "      <td>0.347225</td>\n",
       "      <td>NaN</td>\n",
       "      <td>amilcar22</td>\n",
       "      <td>4</td>\n",
       "      <td>2023-10-30 19:41:27.326836</td>\n",
       "      <td>modelo_6390_mul_s_RF_SVM.pkl</td>\n",
       "      <td>{'selector__max_features': 200, 'selector__est...</td>\n",
       "      <td>X_test:(52, 18875)</td>\n",
       "      <td>['ENSG00000005381.9', 'ENSG00000008988.11', 'E...</td>\n",
       "      <td>0.757342</td>\n",
       "      <td>[0.532150776053215, 0.8125, 0.6534090909090909...</td>\n",
       "      <td>[0.06666666666666667, 0.4, 0.0, 0.083333333333...</td>\n",
       "    </tr>\n",
       "    <tr>\n",
       "      <th>0</th>\n",
       "      <td>mul_s</td>\n",
       "      <td>RF</td>\n",
       "      <td>RF</td>\n",
       "      <td>6390</td>\n",
       "      <td>0.365385</td>\n",
       "      <td>0.359921</td>\n",
       "      <td>0.368939</td>\n",
       "      <td>0.353201</td>\n",
       "      <td>NaN</td>\n",
       "      <td>amilcar22</td>\n",
       "      <td>24</td>\n",
       "      <td>2023-10-30 19:41:16.037801</td>\n",
       "      <td>modelo_6390_mul_s_RF_RF.pkl</td>\n",
       "      <td>{'selector__max_features': 1000, 'selector__es...</td>\n",
       "      <td>X_test:(52, 18875)</td>\n",
       "      <td>['ENSG00000003056.8', 'ENSG00000005381.9', 'EN...</td>\n",
       "      <td>0.738825</td>\n",
       "      <td>[0.5144124168514412, 0.7982954545454545, 0.752...</td>\n",
       "      <td>[0.07142857142857142, 0.45454545454545453, 0.0...</td>\n",
       "    </tr>\n",
       "    <tr>\n",
       "      <th>0</th>\n",
       "      <td>mul_s</td>\n",
       "      <td>RF</td>\n",
       "      <td>LR_L2</td>\n",
       "      <td>6390</td>\n",
       "      <td>0.384615</td>\n",
       "      <td>0.416071</td>\n",
       "      <td>0.398810</td>\n",
       "      <td>0.366456</td>\n",
       "      <td>NaN</td>\n",
       "      <td>amilcar22</td>\n",
       "      <td>17</td>\n",
       "      <td>2023-10-30 19:40:45.128786</td>\n",
       "      <td>modelo_6390_mul_s_RF_LR_L2.pkl</td>\n",
       "      <td>{'selector__max_features': 500, 'selector__est...</td>\n",
       "      <td>X_test:(52, 18875)</td>\n",
       "      <td>['ENSG00000005073.6', 'ENSG00000005381.9', 'EN...</td>\n",
       "      <td>0.791294</td>\n",
       "      <td>[0.5565410199556541, 0.8806818181818181, 0.690...</td>\n",
       "      <td>[0.0, 0.625, 0.1111111111111111, 0.0, 0.636363...</td>\n",
       "    </tr>\n",
       "  </tbody>\n",
       "</table>\n",
       "</div>"
      ],
      "text/plain": [
       "    tipo select clasific  semilla  accuracy  precision    recall  f1_score  \\\n",
       "0  mul_s     RF      SVM     6390  0.365385   0.336936  0.386797  0.347225   \n",
       "0  mul_s     RF       RF     6390  0.365385   0.359921  0.368939  0.353201   \n",
       "0  mul_s     RF    LR_L2     6390  0.384615   0.416071  0.398810  0.366456   \n",
       "\n",
       "   roc_auc   hostname  total_time_sec                    datetime  \\\n",
       "0      NaN  amilcar22               4  2023-10-30 19:41:27.326836   \n",
       "0      NaN  amilcar22              24  2023-10-30 19:41:16.037801   \n",
       "0      NaN  amilcar22              17  2023-10-30 19:40:45.128786   \n",
       "\n",
       "                   fichero_modelo  \\\n",
       "0    modelo_6390_mul_s_RF_SVM.pkl   \n",
       "0     modelo_6390_mul_s_RF_RF.pkl   \n",
       "0  modelo_6390_mul_s_RF_LR_L2.pkl   \n",
       "\n",
       "                                              params               shape  \\\n",
       "0  {'selector__max_features': 200, 'selector__est...  X_test:(52, 18875)   \n",
       "0  {'selector__max_features': 1000, 'selector__es...  X_test:(52, 18875)   \n",
       "0  {'selector__max_features': 500, 'selector__est...  X_test:(52, 18875)   \n",
       "\n",
       "                                            features  roc_auc_ovr  \\\n",
       "0  ['ENSG00000005381.9', 'ENSG00000008988.11', 'E...     0.757342   \n",
       "0  ['ENSG00000003056.8', 'ENSG00000005381.9', 'EN...     0.738825   \n",
       "0  ['ENSG00000005073.6', 'ENSG00000005381.9', 'EN...     0.791294   \n",
       "\n",
       "                                         indices_auc  \\\n",
       "0  [0.532150776053215, 0.8125, 0.6534090909090909...   \n",
       "0  [0.5144124168514412, 0.7982954545454545, 0.752...   \n",
       "0  [0.5565410199556541, 0.8806818181818181, 0.690...   \n",
       "\n",
       "                                     indices_jaccard  \n",
       "0  [0.06666666666666667, 0.4, 0.0, 0.083333333333...  \n",
       "0  [0.07142857142857142, 0.45454545454545453, 0.0...  \n",
       "0  [0.0, 0.625, 0.1111111111111111, 0.0, 0.636363...  "
      ]
     },
     "metadata": {},
     "output_type": "display_data"
    }
   ],
   "source": [
    "if M_TIPO.startswith(\"bin\"):\n",
    "    myfunc.save_metricas_to_csv(random_search, X_test, y_test, M_TIPO, M_SELECT, M_CLASIF, total_time, SEMILLA, myfunc.MET_DIR, M_FICHERO, fichero_modelo)\n",
    "else:\n",
    "    myfunc.save_metricas_multi_to_csv(random_search, X_test, y_test, M_TIPO, M_SELECT, M_CLASIF, total_time, SEMILLA, myfunc.MET_DIR, M_FICHERO, fichero_modelo)\n",
    "\n",
    "df1=myfunc.read_metricas_to_df(myfunc.MET_DIR,M_FICHERO)\n",
    "\n",
    "display(df1.sort_values(\"datetime\", ascending=False)[:3])\n"
   ]
  },
  {
   "cell_type": "markdown",
   "id": "5cf697cc",
   "metadata": {
    "papermill": {
     "duration": 0.004371,
     "end_time": "2023-10-30T18:41:27.371496",
     "exception": false,
     "start_time": "2023-10-30T18:41:27.367125",
     "status": "completed"
    },
    "tags": []
   },
   "source": [
    "#### Guardar resultados"
   ]
  },
  {
   "cell_type": "code",
   "execution_count": 13,
   "id": "f77474e7",
   "metadata": {
    "execution": {
     "iopub.execute_input": "2023-10-30T18:41:27.380990Z",
     "iopub.status.busy": "2023-10-30T18:41:27.380784Z",
     "iopub.status.idle": "2023-10-30T18:41:27.389071Z",
     "shell.execute_reply": "2023-10-30T18:41:27.388593Z"
    },
    "papermill": {
     "duration": 0.014506,
     "end_time": "2023-10-30T18:41:27.390295",
     "exception": false,
     "start_time": "2023-10-30T18:41:27.375789",
     "status": "completed"
    },
    "tags": []
   },
   "outputs": [
    {
     "name": "stdout",
     "output_type": "stream",
     "text": [
      "20231030T194127 : amilcar22 : INFO : Inicio guardar resultados\n",
      "20231030T194127 : amilcar22 : INFO : Inicio guardar fichero ../tfm_git/ejecuciones/metricas/resultados_6390_mul_s-RF-SVM.csv\n",
      "20231030T194127 : amilcar22 : INFO : Fin guardar fichero ../tfm_git/ejecuciones/metricas/resultados_6390_mul_s-RF-SVM.csv\n",
      "20231030T194127 : amilcar22 : INFO : Fin guardar resultados\n"
     ]
    }
   ],
   "source": [
    "fichero_resultados=R_FICHERO+\"_\"+M_TIPO+\"-\"+M_SELECT+\"-\"+M_CLASIF+\".csv\"\n",
    "myfunc.save_resultados_to_csv(M_TIPO, M_SELECT, M_CLASIF,  random_search, myfunc.MET_DIR, fichero_resultados)\n"
   ]
  }
 ],
 "metadata": {
  "kernelspec": {
   "display_name": "Python 3 (ipykernel)",
   "language": "python",
   "name": "python3"
  },
  "language_info": {
   "codemirror_mode": {
    "name": "ipython",
    "version": 3
   },
   "file_extension": ".py",
   "mimetype": "text/x-python",
   "name": "python",
   "nbconvert_exporter": "python",
   "pygments_lexer": "ipython3",
   "version": "3.10.12"
  },
  "papermill": {
   "default_parameters": {},
   "duration": 9.771191,
   "end_time": "2023-10-30T18:41:30.011591",
   "environment_variables": {},
   "exception": null,
   "input_path": "03_entrenamiento.ipynb",
   "output_path": "ejecuciones/training/03_entrenamiento.20231030T194119.param_0000_6390_mul_s_RF_SVM.output.ipynb",
   "parameters": {
    "MAX_ITERS": 500,
    "M_CLASIF": "SVM",
    "M_FICHERO": "metricas_6390",
    "M_SELECT": "RF",
    "M_TIPO": "mul_s",
    "PRE_DATA_FILE": "rows_transpose_norm_by_gene_id_with_target_num_",
    "P_FICHERO": "param_0000_6390_mul_s_RF_SVM.yaml",
    "R_FICHERO": "resultados_6390",
    "SCORING": "roc_auc_ovr",
    "SEMILLA": 6390,
    "eval_clasifier": "SVC(probability=True, random_state=SEMILLA)",
    "eval_selector": "SelectFromModel(estimator=RandomForestClassifier(random_state=SEMILLA), threshold=-np.inf)",
    "param_distributions": {
     "clasifier__C": [
      10
     ],
     "clasifier__gamma": [
      0.01
     ],
     "clasifier__kernel": [
      "rbf"
     ],
     "selector__estimator__n_estimators": [
      100
     ],
     "selector__max_features": [
      200
     ]
    }
   },
   "start_time": "2023-10-30T18:41:20.240400",
   "version": "2.4.0"
  }
 },
 "nbformat": 4,
 "nbformat_minor": 5
}