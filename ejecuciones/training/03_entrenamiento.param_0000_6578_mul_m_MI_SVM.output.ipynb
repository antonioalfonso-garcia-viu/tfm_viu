{
 "cells": [
  {
   "cell_type": "markdown",
   "id": "fd2f257b",
   "metadata": {
    "papermill": {
     "duration": 0.008046,
     "end_time": "2023-10-30T16:39:16.837107",
     "exception": false,
     "start_time": "2023-10-30T16:39:16.829061",
     "status": "completed"
    },
    "tags": []
   },
   "source": [
    "##### Inicio"
   ]
  },
  {
   "cell_type": "markdown",
   "id": "1d1ebc13",
   "metadata": {
    "papermill": {
     "duration": 0.003003,
     "end_time": "2023-10-30T16:39:16.844905",
     "exception": false,
     "start_time": "2023-10-30T16:39:16.841902",
     "status": "completed"
    },
    "tags": []
   },
   "source": [
    "#### Carga de datos"
   ]
  },
  {
   "cell_type": "code",
   "execution_count": 1,
   "id": "c4c70120",
   "metadata": {
    "execution": {
     "iopub.execute_input": "2023-10-30T16:39:16.850897Z",
     "iopub.status.busy": "2023-10-30T16:39:16.850897Z",
     "iopub.status.idle": "2023-10-30T16:39:18.034771Z",
     "shell.execute_reply": "2023-10-30T16:39:18.034771Z"
    },
    "papermill": {
     "duration": 1.18886,
     "end_time": "2023-10-30T16:39:18.035765",
     "exception": false,
     "start_time": "2023-10-30T16:39:16.846905",
     "status": "completed"
    },
    "tags": []
   },
   "outputs": [
    {
     "name": "stdout",
     "output_type": "stream",
     "text": [
      "CPU_COUNT: 24; NODE: amilcar32; sys.version: 3.10.12 | packaged by Anaconda, Inc. | (main, Jul  5 2023, 19:09:20) [MSC v.1916 64 bit (AMD64)]\n",
      "LOKY_MAX_CPU_COUNT is not set.\n",
      "OMP_NUM_THREADS is not set.\n"
     ]
    }
   ],
   "source": [
    "import os\n",
    "import numpy as np\n",
    "import pandas as pd\n",
    "import datetime\n",
    "import sklearn\n",
    "import logging\n",
    "import warnings\n",
    "\n",
    "from sklearn.pipeline import Pipeline\n",
    "from sklearn.model_selection import RandomizedSearchCV, KFold, cross_val_score, train_test_split\n",
    "from sklearn.metrics import accuracy_score, confusion_matrix, classification_report, roc_auc_score\n",
    "\n",
    "#  cargar algoritmos para aprendizaje supervisado\n",
    "from sklearn.feature_selection import SelectKBest, f_classif, SelectFromModel, mutual_info_classif\n",
    "from sklearn.svm import SVC\n",
    "from sklearn.ensemble import RandomForestClassifier\n",
    "from sklearn.linear_model import LogisticRegression,LogisticRegressionCV\n",
    "\n",
    "# importar fichero con utilidades propias\n",
    "from commons import myfunctions as myfunc\n"
   ]
  },
  {
   "cell_type": "markdown",
   "id": "4a6e70b7",
   "metadata": {
    "papermill": {
     "duration": 0.002238,
     "end_time": "2023-10-30T16:39:18.042121",
     "exception": false,
     "start_time": "2023-10-30T16:39:18.039883",
     "status": "completed"
    },
    "tags": []
   },
   "source": [
    "#### Parámetros a utilizar en el entrenamiento.\n",
    "\n",
    "Se indican los 3 algoritmos de *selección de características* (eval_selector_xxx) y los 3 algoritmos para la _clasificación_ (eval_clasifier_xxx)\n",
    "\n",
    "En *param_distributions* se indicar los parámetros que utilizan los algoritmos en la función RandomSearchCV.\n",
    "\n",
    "Esta celda tiene la etiqueta **parameters** que servirá para poder lanzar los entrenamientos con la utilidad **papermill** pasándole un fichero con los parámetros. Los nuevos parámetros se situarán tras esta celda para tener prevalencia."
   ]
  },
  {
   "cell_type": "code",
   "execution_count": 2,
   "id": "31f40d55",
   "metadata": {
    "execution": {
     "iopub.execute_input": "2023-10-30T16:39:18.049113Z",
     "iopub.status.busy": "2023-10-30T16:39:18.049113Z",
     "iopub.status.idle": "2023-10-30T16:39:18.072347Z",
     "shell.execute_reply": "2023-10-30T16:39:18.070854Z"
    },
    "papermill": {
     "duration": 0.03075,
     "end_time": "2023-10-30T16:39:18.075863",
     "exception": false,
     "start_time": "2023-10-30T16:39:18.045113",
     "status": "completed"
    },
    "tags": [
     "parameters"
    ]
   },
   "outputs": [
    {
     "name": "stdout",
     "output_type": "stream",
     "text": [
      "20231030T173918 : amilcar32 : INFO : Utilizando parámetros de mul_m\n"
     ]
    }
   ],
   "source": [
    "#  Parametros para el entrenamiento\n",
    "\n",
    "SEMILLA=        42\n",
    "M_TIPO=         \"mul_m\"\n",
    "M_SELECT=       \"MI\"\n",
    "M_CLASIF=       \"SVM\"\n",
    "R_FICHERO=      \"resultados\"\n",
    "M_FICHERO=      \"metricas\"\n",
    "PRE_DATA_FILE=  \"rows_transpose_norm_by_gene_id_with_target_num_\"\n",
    "SCORING=        \"roc_auc_ovr\" \n",
    "MAX_ITERS=      100\n",
    "\n",
    "def mutual_info_classif_state(X, y):\n",
    "    return mutual_info_classif(X, y, random_state=SEMILLA)\n",
    "\n",
    "eval_selector_mi = \"SelectKBest(score_func=mutual_info_classif_state)\"\n",
    "eval_selector_rf=  \"SelectFromModel(estimator=RandomForestClassifier(random_state=SEMILLA), threshold=-np.inf)\"\n",
    "eval_selector_anova=  \"SelectKBest(score_func=f_classif)\"\n",
    "\n",
    "eval_clasifier_svm= \"SVC(probability=True, random_state=SEMILLA)\"\n",
    "eval_clasifier_rf= \"RandomForestClassifier(random_state=SEMILLA)\"\n",
    "eval_clasifier_lr= \"LogisticRegressionCV(random_state=SEMILLA)\"\n",
    "\n",
    "if M_TIPO.startswith(\"bin_m\"):\n",
    "    myfunc.verbose(f\"Utilizando parámetros de {M_TIPO}\")\n",
    "    eval_selector = eval_selector_mi\n",
    "    eval_clasifier = eval_clasifier_svm\n",
    "\n",
    "    SEMILLA = 6578\n",
    "    M_SELECT = \"MI\"\n",
    "    M_CLASIF = \"SVM\"\n",
    "    param_distributions = {'selector__k': [1000], \n",
    "         'clasifier__kernel': ['rbf'], 'clasifier__gamma': [0.01], 'clasifier__C': [100]}\n",
    "elif M_TIPO.startswith(\"bin_s\"):\n",
    "    myfunc.verbose(f\"Utilizando parámetros de {M_TIPO}\")\n",
    "    eval_selector = eval_selector_rf\n",
    "    eval_clasifier = eval_clasifier_lr\n",
    "\n",
    "    SEMILLA = 6191\n",
    "    M_SELECT = \"RF\"\n",
    "    M_CLASIF = \"LR_L2\"\n",
    "    param_distributions = {'selector__max_features': [1000], 'selector__estimator__n_estimators': [200], \n",
    "        'clasifier__solver': ['lbfgs'], 'clasifier__penalty': ['l2'], 'clasifier__max_iter': [10000]}\n",
    "\n",
    "elif M_TIPO.startswith(\"mul_m\"):\n",
    "    myfunc.verbose(f\"Utilizando parámetros de {M_TIPO}\")\n",
    " \n",
    "    eval_selector = eval_selector_rf\n",
    "    eval_clasifier = eval_clasifier_lr\n",
    "\n",
    "    SEMILLA = 6191\n",
    "    M_SELECT = \"RF\"\n",
    "    M_CLASIF = \"LR_L2\"\n",
    "    param_distributions = {'selector__max_features': [1000], 'selector__estimator__n_estimators': [400], \n",
    "        'clasifier__solver': ['lbfgs'], 'clasifier__penalty': ['l2'], 'clasifier__max_iter': [10000]}\n",
    "\n",
    "else:\n",
    "    # M_TIPO.startswith(\"mul_s\"):\n",
    "    myfunc.verbose(f\"Utilizando parámetros de {M_TIPO}\")\n",
    "    eval_selector = eval_selector_anova\n",
    "    eval_clasifier = eval_clasifier_lr\n",
    "\n",
    "    SEMILLA = 1860\n",
    "    M_SELECT = \"ANOVA\"\n",
    "    M_CLASIF = \"LR_L2\"\n",
    "    param_distributions = {'selector__k': [1000], \n",
    "        'clasifier__solver': ['saga'], 'clasifier__penalty': ['l2'], 'clasifier__max_iter': [10000]}\n",
    "\n"
   ]
  },
  {
   "cell_type": "code",
   "execution_count": 3,
   "id": "573e4bc9",
   "metadata": {
    "execution": {
     "iopub.execute_input": "2023-10-30T16:39:18.085023Z",
     "iopub.status.busy": "2023-10-30T16:39:18.085023Z",
     "iopub.status.idle": "2023-10-30T16:39:18.102777Z",
     "shell.execute_reply": "2023-10-30T16:39:18.101771Z"
    },
    "papermill": {
     "duration": 0.024905,
     "end_time": "2023-10-30T16:39:18.105779",
     "exception": false,
     "start_time": "2023-10-30T16:39:18.080874",
     "status": "completed"
    },
    "tags": [
     "injected-parameters"
    ]
   },
   "outputs": [],
   "source": [
    "# Parameters\n",
    "M_TIPO = \"mul_m\"\n",
    "M_SELECT = \"MI\"\n",
    "M_CLASIF = \"SVM\"\n",
    "P_FICHERO = \"param_0000_6578_mul_m_MI_SVM.yaml\"\n",
    "R_FICHERO = \"resultados_6578\"\n",
    "M_FICHERO = \"metricas_6578\"\n",
    "PRE_DATA_FILE = \"rows_transpose_norm_by_gene_id_with_target_num_\"\n",
    "SCORING = \"roc_auc_ovr\"\n",
    "SEMILLA = 6578\n",
    "MAX_ITERS = 500\n",
    "eval_selector = \"SelectKBest(score_func=mutual_info_classif_state)\"\n",
    "eval_clasifier = \"SVC(probability=True, random_state=SEMILLA)\"\n",
    "param_distributions = {\n",
    "    \"selector__k\": [1000],\n",
    "    \"clasifier__kernel\": [\"rbf\"],\n",
    "    \"clasifier__gamma\": [0.001],\n",
    "    \"clasifier__C\": [100],\n",
    "}\n"
   ]
  },
  {
   "cell_type": "code",
   "execution_count": 4,
   "id": "8bb4d707",
   "metadata": {
    "execution": {
     "iopub.execute_input": "2023-10-30T16:39:18.114375Z",
     "iopub.status.busy": "2023-10-30T16:39:18.114375Z",
     "iopub.status.idle": "2023-10-30T16:39:18.133927Z",
     "shell.execute_reply": "2023-10-30T16:39:18.132927Z"
    },
    "papermill": {
     "duration": 0.026157,
     "end_time": "2023-10-30T16:39:18.136929",
     "exception": false,
     "start_time": "2023-10-30T16:39:18.110772",
     "status": "completed"
    },
    "tags": []
   },
   "outputs": [],
   "source": [
    "DATA_FILE = PRE_DATA_FILE + M_TIPO\n",
    "\n",
    "# si viene \"None\" en el parámetro max_depth, se le quitan las comillas para que no sea entendido por el algoritmo como un texto\n",
    "if \"clasifier__max_depth\" in param_distributions:\n",
    "    param_distributions['clasifier__max_depth'] = [None if x == 'None' else x for x in param_distributions['clasifier__max_depth']]"
   ]
  },
  {
   "cell_type": "markdown",
   "id": "5142bd00",
   "metadata": {
    "papermill": {
     "duration": 0.003999,
     "end_time": "2023-10-30T16:39:18.146653",
     "exception": false,
     "start_time": "2023-10-30T16:39:18.142654",
     "status": "completed"
    },
    "tags": []
   },
   "source": [
    "Asignar los algoritmos que se utilizarán en la función RandomSearchCV"
   ]
  },
  {
   "cell_type": "code",
   "execution_count": 5,
   "id": "30b5126e",
   "metadata": {
    "execution": {
     "iopub.execute_input": "2023-10-30T16:39:18.153179Z",
     "iopub.status.busy": "2023-10-30T16:39:18.153179Z",
     "iopub.status.idle": "2023-10-30T16:39:18.172016Z",
     "shell.execute_reply": "2023-10-30T16:39:18.170879Z"
    },
    "papermill": {
     "duration": 0.025367,
     "end_time": "2023-10-30T16:39:18.175020",
     "exception": false,
     "start_time": "2023-10-30T16:39:18.149653",
     "status": "completed"
    },
    "tags": []
   },
   "outputs": [],
   "source": [
    "algor_selector=eval(eval_selector)\n",
    "algor_clasifier=eval(eval_clasifier)"
   ]
  },
  {
   "cell_type": "markdown",
   "id": "27366e05",
   "metadata": {
    "papermill": {
     "duration": 0.005916,
     "end_time": "2023-10-30T16:39:18.186932",
     "exception": false,
     "start_time": "2023-10-30T16:39:18.181016",
     "status": "completed"
    },
    "tags": []
   },
   "source": [
    "#### Comprobar el entorno y leer fichero de muestras"
   ]
  },
  {
   "cell_type": "code",
   "execution_count": 6,
   "id": "45878aa1",
   "metadata": {
    "execution": {
     "iopub.execute_input": "2023-10-30T16:39:18.194682Z",
     "iopub.status.busy": "2023-10-30T16:39:18.193710Z",
     "iopub.status.idle": "2023-10-30T16:39:18.371054Z",
     "shell.execute_reply": "2023-10-30T16:39:18.370971Z"
    },
    "papermill": {
     "duration": 0.181983,
     "end_time": "2023-10-30T16:39:18.372059",
     "exception": false,
     "start_time": "2023-10-30T16:39:18.190076",
     "status": "completed"
    },
    "tags": []
   },
   "outputs": [
    {
     "name": "stdout",
     "output_type": "stream",
     "text": [
      "20231030T173918 : amilcar32 : INFO : Encontrada carpeta DATA_DIR=..\\tfm_viu\\datos\n",
      "20231030T173918 : amilcar32 : INFO : Encontrada carpeta CFDNA_DIR=..\\tfm_viu\\datos\\cfDNA_5hmC\n",
      "20231030T173918 : amilcar32 : INFO : Encontrada carpeta GENCODE_DIR=..\\tfm_viu\\datos\\gencode\n",
      "20231030T173918 : amilcar32 : INFO : Encontrada carpeta H5_DIR=..\\tfm_viu\\datos\\h5\n",
      "20231030T173918 : amilcar32 : INFO : Encontrada carpeta LOG_DIR=..\\tfm_viu\\datos\\logs\n",
      "20231030T173918 : amilcar32 : INFO : Encontrada carpeta CSV_DIR=..\\tfm_viu\\datos\\csv\n",
      "20231030T173918 : amilcar32 : INFO : Encontrada carpeta MODEL_DIR=..\\tfm_viu\\ejecuciones\\modelos\n",
      "20231030T173918 : amilcar32 : INFO : Encontrada carpeta EXEC_DIR=..\\tfm_viu\\ejecuciones\n",
      "20231030T173918 : amilcar32 : INFO : Encontrada carpeta MET_DIR=..\\tfm_viu\\ejecuciones\\metricas\n",
      "20231030T173918 : amilcar32 : INFO : Inicio leer fichero h5 ..\\tfm_viu\\datos\\h5\\rows_transpose_norm_by_gene_id_with_target_num_mul_m.h5\n",
      "20231030T173918 : amilcar32 : INFO : Leyendo clave /df\n"
     ]
    },
    {
     "name": "stdout",
     "output_type": "stream",
     "text": [
      "20231030T173918 : amilcar32 : INFO : Tamaño (434, 18876)\n",
      "20231030T173918 : amilcar32 : INFO : Fin leer fichero h5 ..\\tfm_viu\\datos\\h5\\rows_transpose_norm_by_gene_id_with_target_num_mul_m.h5\n"
     ]
    },
    {
     "data": {
      "text/plain": [
       "target\n",
       "0    62\n",
       "1    62\n",
       "2    62\n",
       "3    62\n",
       "4    62\n",
       "5    62\n",
       "6    62\n",
       "dtype: int64"
      ]
     },
     "metadata": {},
     "output_type": "display_data"
    },
    {
     "name": "stdout",
     "output_type": "stream",
     "text": [
      "Shape df: (434, 18876)\n",
      "Shape X_train: (347, 18875)\n",
      "Shape X_test: (87, 18875)\n"
     ]
    }
   ],
   "source": [
    "start_time = datetime.datetime.now()\n",
    "\n",
    "myfunc.reset_vars()\n",
    "\n",
    "myfunc.NOTEBK_FILENAME = myfunc.get_nb_name()\n",
    "\n",
    "myfunc.check_enviroment(myfunc.DATA_DIR, myfunc.CFDNA_DIR, myfunc.GENCODE_DIR, myfunc.H5_DIR, myfunc.LOG_DIR, myfunc.CSV_DIR, myfunc.MODEL_DIR, myfunc.EXEC_DIR, myfunc.MET_DIR)\n",
    "\n",
    "# Leer fichero con las muestras\n",
    "df_t = myfunc.read_h5_to_df(DATA_FILE, myfunc.H5_DIR)\n",
    "display(df_t.groupby(\"target\").size())\n",
    "print(\"Shape df:\",df_t.shape)\n",
    "\n",
    "# Separar caracteristicas/genes de las etiquetas/tipos de cáncer\n",
    "X = df_t.iloc[:, :-1]  # Todas las columnas excepto la última\n",
    "y = df_t.iloc[:, -1]  # La última columna contiene los identificadores de los tipos de cáncer\n",
    "\n",
    "#  Crear el conjunto de datos de entrenamiento y de pruebas, y se fija la semilla para siempre coger el mismo juego de muestras\n",
    "X_train, X_test, y_train, y_test = train_test_split(X, y, test_size=0.2, shuffle=True, random_state=42)\n",
    "print(\"Shape X_train:\",X_train.shape)\n",
    "print(\"Shape X_test:\",X_test.shape)\n"
   ]
  },
  {
   "cell_type": "markdown",
   "id": "7865c236",
   "metadata": {
    "papermill": {
     "duration": 0.002999,
     "end_time": "2023-10-30T16:39:18.379063",
     "exception": false,
     "start_time": "2023-10-30T16:39:18.376064",
     "status": "completed"
    },
    "tags": []
   },
   "source": [
    "#### Selección de características y clasificación."
   ]
  },
  {
   "cell_type": "code",
   "execution_count": 7,
   "id": "3c41da31",
   "metadata": {
    "execution": {
     "iopub.execute_input": "2023-10-30T16:39:18.386077Z",
     "iopub.status.busy": "2023-10-30T16:39:18.386077Z",
     "iopub.status.idle": "2023-10-30T16:41:31.852078Z",
     "shell.execute_reply": "2023-10-30T16:41:31.852078Z"
    },
    "papermill": {
     "duration": 133.474505,
     "end_time": "2023-10-30T16:41:31.856070",
     "exception": false,
     "start_time": "2023-10-30T16:39:18.381565",
     "status": "completed"
    },
    "tags": []
   },
   "outputs": [
    {
     "name": "stdout",
     "output_type": "stream",
     "text": [
      "20231030T173918 : amilcar32 : INFO : Iniciando entrenamiento\n",
      "num_iter: 1 , max_iter: 1\n"
     ]
    },
    {
     "name": "stdout",
     "output_type": "stream",
     "text": [
      "Fitting 5 folds for each of 1 candidates, totalling 5 fits\n"
     ]
    },
    {
     "name": "stdout",
     "output_type": "stream",
     "text": [
      "Mejores Hiperparámetros: {'selector__k': 1000, 'clasifier__kernel': 'rbf', 'clasifier__gamma': 0.001, 'clasifier__C': 100}\n",
      "Mejor Puntuación: 0.8652\n",
      "20231030T174131 : amilcar32 : INFO : Fin entrenamiento\n"
     ]
    }
   ],
   "source": [
    "myfunc.verbose(\"Iniciando entrenamiento\")\n",
    "\n",
    "kf = KFold(n_splits=5, shuffle=True, random_state=SEMILLA)\n",
    "\n",
    "# Crear el pipeline para el flujo de tareas\n",
    "tasks_pipeline = Pipeline([\n",
    "    ('selector', algor_selector),\n",
    "    ('clasifier', algor_clasifier)\n",
    "])\n",
    "\n",
    "# MAX_ITERS puede limitar el número de iteraciones si son excesivas para las combinaciones de parámetros buscando un óptimo local, \n",
    "# sino funcionaría como GridSearchCV al revisar todas las cominaciones de los parámetros\n",
    "num_iteraciones = 1\n",
    "num_iteraciones = num_iteraciones * np.prod([len(elemento1) for _, elemento1 in param_distributions.items()])\n",
    "max_iteraciones = num_iteraciones if num_iteraciones <= MAX_ITERS else MAX_ITERS\n",
    "print(\"num_iter:\",num_iteraciones,\", max_iter:\",max_iteraciones)\n",
    "\n",
    "random_search = RandomizedSearchCV(\n",
    "    tasks_pipeline, \n",
    "    param_distributions, \n",
    "    n_iter=max_iteraciones,\n",
    "    scoring=SCORING,\n",
    "    cv=kf,\n",
    "    verbose=3, \n",
    "    random_state=SEMILLA, \n",
    "    n_jobs=-1\n",
    "    )\n",
    "\n",
    "# Entrenar el modelo\n",
    "random_search.fit(X_train, y_train)\n",
    "\n",
    "# Ver los mejores hiperparámetros encontrados\n",
    "print(f'Mejores Hiperparámetros: {random_search.best_params_}')\n",
    "print(f'Mejor Puntuación: {random_search.best_score_:.4f}')\n",
    "\n",
    "# Nos quedamos con el mejor modelo para ver las métricas\n",
    "mejor_modelo = random_search.best_estimator_\n",
    "\n",
    "myfunc.verbose(\"Fin entrenamiento\")"
   ]
  },
  {
   "cell_type": "markdown",
   "id": "f2510f9f",
   "metadata": {
    "papermill": {
     "duration": 0.001444,
     "end_time": "2023-10-30T16:41:31.862815",
     "exception": false,
     "start_time": "2023-10-30T16:41:31.861371",
     "status": "completed"
    },
    "tags": []
   },
   "source": [
    "#### Guardar modelo"
   ]
  },
  {
   "cell_type": "code",
   "execution_count": 8,
   "id": "39e79940",
   "metadata": {
    "execution": {
     "iopub.execute_input": "2023-10-30T16:41:31.872992Z",
     "iopub.status.busy": "2023-10-30T16:41:31.871992Z",
     "iopub.status.idle": "2023-10-30T16:41:31.886367Z",
     "shell.execute_reply": "2023-10-30T16:41:31.885777Z"
    },
    "papermill": {
     "duration": 0.024672,
     "end_time": "2023-10-30T16:41:31.887487",
     "exception": false,
     "start_time": "2023-10-30T16:41:31.862815",
     "status": "completed"
    },
    "tags": []
   },
   "outputs": [
    {
     "name": "stdout",
     "output_type": "stream",
     "text": [
      "20231030T174131 : amilcar32 : INFO : Inicio guardar fichero ..\\tfm_viu\\ejecuciones\\modelos\\modelo_6578_mul_m_MI_SVM.pkl\n",
      "20231030T174131 : amilcar32 : INFO : Fin guardar fichero ..\\tfm_viu\\ejecuciones\\modelos\\modelo_6578_mul_m_MI_SVM.pkl\n"
     ]
    }
   ],
   "source": [
    "fichero_modelo = str.replace(\"modelo_\"+str(SEMILLA).zfill(4)+\"_\"+M_TIPO+\"_\"+M_SELECT+\"_\"+M_CLASIF+\".pkl\", \" \", \"_\")\n",
    "\n",
    "myfunc.save_modelo(mejor_modelo, myfunc.MODEL_DIR, fichero_modelo)"
   ]
  },
  {
   "cell_type": "markdown",
   "id": "411d1d0b",
   "metadata": {
    "papermill": {
     "duration": 0.003989,
     "end_time": "2023-10-30T16:41:31.894972",
     "exception": false,
     "start_time": "2023-10-30T16:41:31.890983",
     "status": "completed"
    },
    "tags": []
   },
   "source": [
    "#### Ver resultados del las iteraciones hechas por RandomSearchCV"
   ]
  },
  {
   "cell_type": "code",
   "execution_count": 9,
   "id": "84159066",
   "metadata": {
    "execution": {
     "iopub.execute_input": "2023-10-30T16:41:31.902492Z",
     "iopub.status.busy": "2023-10-30T16:41:31.902492Z",
     "iopub.status.idle": "2023-10-30T16:41:31.916493Z",
     "shell.execute_reply": "2023-10-30T16:41:31.916493Z"
    },
    "papermill": {
     "duration": 0.020519,
     "end_time": "2023-10-30T16:41:31.918494",
     "exception": false,
     "start_time": "2023-10-30T16:41:31.897975",
     "status": "completed"
    },
    "tags": []
   },
   "outputs": [
    {
     "name": "stdout",
     "output_type": "stream",
     "text": [
      "20231030T174131 : amilcar32 : INFO : Inicio ver resultados\n",
      "Mejores Hiperparámetros: {'selector__k': 1000, 'clasifier__kernel': 'rbf', 'clasifier__gamma': 0.001, 'clasifier__C': 100}\n",
      "Mejores puntuaciones: 0.8652 | Params: {'selector__k': 1000, 'clasifier__kernel': 'rbf', 'clasifier__gamma': 0.001, 'clasifier__C': 100}\n",
      "Media de las puntuaciones: 0.8652 | Params: {'selector__k': 1000, 'clasifier__kernel': 'rbf', 'clasifier__gamma': 0.001, 'clasifier__C': 100}\n",
      "20231030T174131 : amilcar32 : INFO : Fin resultados\n"
     ]
    }
   ],
   "source": [
    "myfunc.ver_resultados_search(random_search)"
   ]
  },
  {
   "cell_type": "markdown",
   "id": "af92acae",
   "metadata": {
    "papermill": {
     "duration": 0.003019,
     "end_time": "2023-10-30T16:41:31.926029",
     "exception": false,
     "start_time": "2023-10-30T16:41:31.923010",
     "status": "completed"
    },
    "tags": []
   },
   "source": [
    "#### Ver métricas del mejor modelo"
   ]
  },
  {
   "cell_type": "code",
   "execution_count": 10,
   "id": "a0e840bf",
   "metadata": {
    "execution": {
     "iopub.execute_input": "2023-10-30T16:41:31.934523Z",
     "iopub.status.busy": "2023-10-30T16:41:31.934523Z",
     "iopub.status.idle": "2023-10-30T16:41:32.468641Z",
     "shell.execute_reply": "2023-10-30T16:41:32.468641Z"
    },
    "papermill": {
     "duration": 0.539629,
     "end_time": "2023-10-30T16:41:32.469642",
     "exception": false,
     "start_time": "2023-10-30T16:41:31.930013",
     "status": "completed"
    },
    "tags": []
   },
   "outputs": [
    {
     "name": "stdout",
     "output_type": "stream",
     "text": [
      "20231030T174131 : amilcar32 : INFO : Inicio ver métricas multiclase\n"
     ]
    },
    {
     "name": "stdout",
     "output_type": "stream",
     "text": [
      "              precision    recall  f1-score   support\n",
      "\n",
      "           0       0.36      0.25      0.30        16\n",
      "           1       0.70      0.47      0.56        15\n",
      "           2       0.33      0.36      0.35        11\n",
      "           3       0.50      0.80      0.62         5\n",
      "           4       0.47      0.62      0.53        13\n",
      "           5       0.67      0.67      0.67         9\n",
      "           6       0.55      0.61      0.58        18\n",
      "\n",
      "    accuracy                           0.51        87\n",
      "   macro avg       0.51      0.54      0.51        87\n",
      "weighted avg       0.51      0.51      0.50        87\n",
      "\n",
      "\n",
      "\n",
      "           Exactitud: 0.505747\n",
      "   Precisión (media): 0.512032\n",
      "      Recall (media): 0.539066\n",
      "    F1-score (media): 0.514065\n",
      "\n",
      "\n",
      "AUC para el tipo de cáncer 0-Control.... 0.7729\n",
      "AUC para el tipo de cáncer 1-Bladder.... 0.8361\n",
      "AUC para el tipo de cáncer 2-Breast..... 0.7237\n",
      "AUC para el tipo de cáncer 3-Colorectal. 0.8341\n",
      "AUC para el tipo de cáncer 4-Kidney..... 0.8035\n",
      "AUC para el tipo de cáncer 5-Lung....... 0.8875\n",
      "AUC para el tipo de cáncer 6-Prostate... 0.8833\n",
      "\n",
      "Media de AUC: 0.8202\n"
     ]
    },
    {
     "data": {
      "image/png": "[encoded data removed]",
      "text/plain": [
       "<Figure size 1000x600 with 1 Axes>"
      ]
     },
     "metadata": {},
     "output_type": "display_data"
    },
    {
     "name": "stdout",
     "output_type": "stream",
     "text": [
      "\n",
      "\n"
     ]
    },
    {
     "data": {
      "image/png": "[encoded data removed]",
      "text/plain": [
       "<Figure size 800x400 with 2 Axes>"
      ]
     },
     "metadata": {},
     "output_type": "display_data"
    },
    {
     "name": "stdout",
     "output_type": "stream",
     "text": [
      "\n",
      "\n",
      "Puntuación Jaccard para el cáncer tipo 0-Control.... 0.1739\n",
      "Puntuación Jaccard para el cáncer tipo 1-Bladder.... 0.3889\n",
      "Puntuación Jaccard para el cáncer tipo 2-Breast..... 0.2105\n",
      "Puntuación Jaccard para el cáncer tipo 3-Colorectal. 0.4444\n",
      "Puntuación Jaccard para el cáncer tipo 4-Kidney..... 0.3636\n",
      "Puntuación Jaccard para el cáncer tipo 5-Lung....... 0.5000\n",
      "Puntuación Jaccard para el cáncer tipo 6-Prostate... 0.4074\n",
      "\n",
      "Media de la puntuación de Jaccard: 0.3555\n"
     ]
    }
   ],
   "source": [
    "if M_TIPO.startswith(\"bin\"):\n",
    "    myfunc.ver_metricas(mejor_modelo, X_test, y_test)\n",
    "else:\n",
    "    myfunc.ver_metricas_multi(mejor_modelo, X_test, y_test)\n"
   ]
  },
  {
   "cell_type": "markdown",
   "id": "11853b7f",
   "metadata": {
    "papermill": {
     "duration": 0.005504,
     "end_time": "2023-10-30T16:41:32.480683",
     "exception": false,
     "start_time": "2023-10-30T16:41:32.475179",
     "status": "completed"
    },
    "tags": []
   },
   "source": [
    "#### Finalización del notebook"
   ]
  },
  {
   "cell_type": "code",
   "execution_count": 11,
   "id": "ceba8c3a",
   "metadata": {
    "execution": {
     "iopub.execute_input": "2023-10-30T16:41:32.490704Z",
     "iopub.status.busy": "2023-10-30T16:41:32.490704Z",
     "iopub.status.idle": "2023-10-30T16:41:32.500699Z",
     "shell.execute_reply": "2023-10-30T16:41:32.500699Z"
    },
    "papermill": {
     "duration": 0.018329,
     "end_time": "2023-10-30T16:41:32.503025",
     "exception": false,
     "start_time": "2023-10-30T16:41:32.484696",
     "status": "completed"
    },
    "tags": []
   },
   "outputs": [
    {
     "name": "stdout",
     "output_type": "stream",
     "text": [
      "20231030T174132 : amilcar32 : INFO : Notebook ha tardado 134 seconds\n"
     ]
    }
   ],
   "source": [
    "end_time = datetime.datetime.now()\n",
    "total_time = end_time - start_time\n",
    "myfunc.verbose(f\"Notebook ha tardado {total_time.seconds} seconds\")"
   ]
  },
  {
   "cell_type": "markdown",
   "id": "c1c2f9d5",
   "metadata": {
    "papermill": {
     "duration": 0.004829,
     "end_time": "2023-10-30T16:41:32.517095",
     "exception": false,
     "start_time": "2023-10-30T16:41:32.512266",
     "status": "completed"
    },
    "tags": []
   },
   "source": [
    "#### Guardar métricas"
   ]
  },
  {
   "cell_type": "code",
   "execution_count": 12,
   "id": "22dc3f5b",
   "metadata": {
    "execution": {
     "iopub.execute_input": "2023-10-30T16:41:32.527616Z",
     "iopub.status.busy": "2023-10-30T16:41:32.527616Z",
     "iopub.status.idle": "2023-10-30T16:41:32.748576Z",
     "shell.execute_reply": "2023-10-30T16:41:32.748576Z"
    },
    "papermill": {
     "duration": 0.226962,
     "end_time": "2023-10-30T16:41:32.749577",
     "exception": false,
     "start_time": "2023-10-30T16:41:32.522615",
     "status": "completed"
    },
    "tags": []
   },
   "outputs": [
    {
     "name": "stdout",
     "output_type": "stream",
     "text": [
      "20231030T174132 : amilcar32 : INFO : Inicio guardar métricas multiclase\n",
      "20231030T174132 : amilcar32 : INFO : Inicio leer fichero ..\\tfm_viu\\ejecuciones\\metricas\\metricas_6578.csv\n",
      "20231030T174132 : amilcar32 : INFO : Fin leer fichero ..\\tfm_viu\\ejecuciones\\metricas\\metricas_6578.csv\n"
     ]
    },
    {
     "name": "stdout",
     "output_type": "stream",
     "text": [
      "20231030T174132 : amilcar32 : INFO : Inicio guardar fichero ..\\tfm_viu\\ejecuciones\\metricas\\metricas_6578.csv\n",
      "20231030T174132 : amilcar32 : INFO : Fichero borrado ..\\tfm_viu\\ejecuciones\\metricas\\metricas_6578.csv\n",
      "20231030T174132 : amilcar32 : INFO : Fin guardar fichero ..\\tfm_viu\\ejecuciones\\metricas\\metricas_6578.csv\n",
      "20231030T174132 : amilcar32 : INFO : Fin guardar métricas multiclase\n",
      "20231030T174132 : amilcar32 : INFO : Inicio leer fichero ..\\tfm_viu\\ejecuciones\\metricas\\metricas_6578.csv\n",
      "20231030T174132 : amilcar32 : INFO : Fin leer fichero ..\\tfm_viu\\ejecuciones\\metricas\\metricas_6578.csv\n"
     ]
    },
    {
     "data": {
      "text/html": [
       "<div>\n",
       "<style scoped>\n",
       "    .dataframe tbody tr th:only-of-type {\n",
       "        vertical-align: middle;\n",
       "    }\n",
       "\n",
       "    .dataframe tbody tr th {\n",
       "        vertical-align: top;\n",
       "    }\n",
       "\n",
       "    .dataframe thead th {\n",
       "        text-align: right;\n",
       "    }\n",
       "</style>\n",
       "<table border=\"1\" class=\"dataframe\">\n",
       "  <thead>\n",
       "    <tr style=\"text-align: right;\">\n",
       "      <th></th>\n",
       "      <th>tipo</th>\n",
       "      <th>select</th>\n",
       "      <th>clasific</th>\n",
       "      <th>semilla</th>\n",
       "      <th>accuracy</th>\n",
       "      <th>precision</th>\n",
       "      <th>recall</th>\n",
       "      <th>f1_score</th>\n",
       "      <th>roc_auc</th>\n",
       "      <th>hostname</th>\n",
       "      <th>total_time_sec</th>\n",
       "      <th>datetime</th>\n",
       "      <th>fichero_modelo</th>\n",
       "      <th>params</th>\n",
       "      <th>shape</th>\n",
       "      <th>features</th>\n",
       "      <th>roc_auc_ovr</th>\n",
       "      <th>indices_auc</th>\n",
       "      <th>indices_jaccard</th>\n",
       "    </tr>\n",
       "  </thead>\n",
       "  <tbody>\n",
       "    <tr>\n",
       "      <th>0</th>\n",
       "      <td>mul_m</td>\n",
       "      <td>MI</td>\n",
       "      <td>SVM</td>\n",
       "      <td>6578</td>\n",
       "      <td>0.505747</td>\n",
       "      <td>0.512032</td>\n",
       "      <td>0.539066</td>\n",
       "      <td>0.514065</td>\n",
       "      <td>NaN</td>\n",
       "      <td>amilcar32</td>\n",
       "      <td>134</td>\n",
       "      <td>2023-10-30 17:41:32.706844</td>\n",
       "      <td>modelo_6578_mul_m_MI_SVM.pkl</td>\n",
       "      <td>{'selector__k': 1000, 'clasifier__kernel': 'rb...</td>\n",
       "      <td>X_test:(87, 18875)</td>\n",
       "      <td>['ENSG00000001084.13', 'ENSG00000001460.18', '...</td>\n",
       "      <td>0.820154</td>\n",
       "      <td>[0.772887323943662, 0.8361111111111111, 0.7236...</td>\n",
       "      <td>[0.17391304347826086, 0.3888888888888889, 0.21...</td>\n",
       "    </tr>\n",
       "    <tr>\n",
       "      <th>0</th>\n",
       "      <td>mul_m</td>\n",
       "      <td>MI</td>\n",
       "      <td>RF</td>\n",
       "      <td>6578</td>\n",
       "      <td>0.459770</td>\n",
       "      <td>0.467435</td>\n",
       "      <td>0.514265</td>\n",
       "      <td>0.455510</td>\n",
       "      <td>NaN</td>\n",
       "      <td>amilcar32</td>\n",
       "      <td>181</td>\n",
       "      <td>2023-10-30 17:39:13.461532</td>\n",
       "      <td>modelo_6578_mul_m_MI_RF.pkl</td>\n",
       "      <td>{'selector__k': 1000, 'clasifier__n_estimators...</td>\n",
       "      <td>X_test:(87, 18875)</td>\n",
       "      <td>['ENSG00000001084.13', 'ENSG00000001460.18', '...</td>\n",
       "      <td>0.783578</td>\n",
       "      <td>[0.5941901408450704, 0.8583333333333333, 0.721...</td>\n",
       "      <td>[0.14285714285714285, 0.3684210526315789, 0.25...</td>\n",
       "    </tr>\n",
       "    <tr>\n",
       "      <th>0</th>\n",
       "      <td>mul_m</td>\n",
       "      <td>MI</td>\n",
       "      <td>LR_L2</td>\n",
       "      <td>6578</td>\n",
       "      <td>0.574713</td>\n",
       "      <td>0.602239</td>\n",
       "      <td>0.615762</td>\n",
       "      <td>0.579653</td>\n",
       "      <td>NaN</td>\n",
       "      <td>amilcar32</td>\n",
       "      <td>156</td>\n",
       "      <td>2023-10-30 17:36:06.874853</td>\n",
       "      <td>modelo_6578_mul_m_MI_LR_L2.pkl</td>\n",
       "      <td>{'selector__k': 1000, 'clasifier__solver': 'lb...</td>\n",
       "      <td>X_test:(87, 18875)</td>\n",
       "      <td>['ENSG00000001084.13', 'ENSG00000001460.18', '...</td>\n",
       "      <td>0.883403</td>\n",
       "      <td>[0.8705985915492958, 0.8916666666666668, 0.797...</td>\n",
       "      <td>[0.4444444444444444, 0.47058823529411764, 0.15...</td>\n",
       "    </tr>\n",
       "  </tbody>\n",
       "</table>\n",
       "</div>"
      ],
      "text/plain": [
       "    tipo select clasific  semilla  accuracy  precision    recall  f1_score  \\\n",
       "0  mul_m     MI      SVM     6578  0.505747   0.512032  0.539066  0.514065   \n",
       "0  mul_m     MI       RF     6578  0.459770   0.467435  0.514265  0.455510   \n",
       "0  mul_m     MI    LR_L2     6578  0.574713   0.602239  0.615762  0.579653   \n",
       "\n",
       "   roc_auc   hostname  total_time_sec                    datetime  \\\n",
       "0      NaN  amilcar32             134  2023-10-30 17:41:32.706844   \n",
       "0      NaN  amilcar32             181  2023-10-30 17:39:13.461532   \n",
       "0      NaN  amilcar32             156  2023-10-30 17:36:06.874853   \n",
       "\n",
       "                   fichero_modelo  \\\n",
       "0    modelo_6578_mul_m_MI_SVM.pkl   \n",
       "0     modelo_6578_mul_m_MI_RF.pkl   \n",
       "0  modelo_6578_mul_m_MI_LR_L2.pkl   \n",
       "\n",
       "                                              params               shape  \\\n",
       "0  {'selector__k': 1000, 'clasifier__kernel': 'rb...  X_test:(87, 18875)   \n",
       "0  {'selector__k': 1000, 'clasifier__n_estimators...  X_test:(87, 18875)   \n",
       "0  {'selector__k': 1000, 'clasifier__solver': 'lb...  X_test:(87, 18875)   \n",
       "\n",
       "                                            features  roc_auc_ovr  \\\n",
       "0  ['ENSG00000001084.13', 'ENSG00000001460.18', '...     0.820154   \n",
       "0  ['ENSG00000001084.13', 'ENSG00000001460.18', '...     0.783578   \n",
       "0  ['ENSG00000001084.13', 'ENSG00000001460.18', '...     0.883403   \n",
       "\n",
       "                                         indices_auc  \\\n",
       "0  [0.772887323943662, 0.8361111111111111, 0.7236...   \n",
       "0  [0.5941901408450704, 0.8583333333333333, 0.721...   \n",
       "0  [0.8705985915492958, 0.8916666666666668, 0.797...   \n",
       "\n",
       "                                     indices_jaccard  \n",
       "0  [0.17391304347826086, 0.3888888888888889, 0.21...  \n",
       "0  [0.14285714285714285, 0.3684210526315789, 0.25...  \n",
       "0  [0.4444444444444444, 0.47058823529411764, 0.15...  "
      ]
     },
     "metadata": {},
     "output_type": "display_data"
    }
   ],
   "source": [
    "if M_TIPO.startswith(\"bin\"):\n",
    "    myfunc.save_metricas_to_csv(random_search, X_test, y_test, M_TIPO, M_SELECT, M_CLASIF, total_time, SEMILLA, myfunc.MET_DIR, M_FICHERO, fichero_modelo)\n",
    "else:\n",
    "    myfunc.save_metricas_multi_to_csv(random_search, X_test, y_test, M_TIPO, M_SELECT, M_CLASIF, total_time, SEMILLA, myfunc.MET_DIR, M_FICHERO, fichero_modelo)\n",
    "\n",
    "df1=myfunc.read_metricas_to_df(myfunc.MET_DIR,M_FICHERO)\n",
    "\n",
    "display(df1.sort_values(\"datetime\", ascending=False)[:3])\n"
   ]
  },
  {
   "cell_type": "markdown",
   "id": "6bb86904",
   "metadata": {
    "papermill": {
     "duration": 0.004008,
     "end_time": "2023-10-30T16:41:32.759093",
     "exception": false,
     "start_time": "2023-10-30T16:41:32.755085",
     "status": "completed"
    },
    "tags": []
   },
   "source": [
    "#### Guardar resultados"
   ]
  },
  {
   "cell_type": "code",
   "execution_count": 13,
   "id": "1f3ce0e5",
   "metadata": {
    "execution": {
     "iopub.execute_input": "2023-10-30T16:41:32.771002Z",
     "iopub.status.busy": "2023-10-30T16:41:32.771002Z",
     "iopub.status.idle": "2023-10-30T16:41:32.786757Z",
     "shell.execute_reply": "2023-10-30T16:41:32.786757Z"
    },
    "papermill": {
     "duration": 0.025158,
     "end_time": "2023-10-30T16:41:32.787966",
     "exception": false,
     "start_time": "2023-10-30T16:41:32.762808",
     "status": "completed"
    },
    "tags": []
   },
   "outputs": [
    {
     "name": "stdout",
     "output_type": "stream",
     "text": [
      "20231030T174132 : amilcar32 : INFO : Inicio guardar resultados\n",
      "20231030T174132 : amilcar32 : INFO : Inicio guardar fichero ..\\tfm_viu\\ejecuciones\\metricas\\resultados_6578_mul_m-MI-SVM.csv\n",
      "20231030T174132 : amilcar32 : INFO : Fin guardar fichero ..\\tfm_viu\\ejecuciones\\metricas\\resultados_6578_mul_m-MI-SVM.csv\n",
      "20231030T174132 : amilcar32 : INFO : Fin guardar resultados\n"
     ]
    }
   ],
   "source": [
    "fichero_resultados=R_FICHERO+\"_\"+M_TIPO+\"-\"+M_SELECT+\"-\"+M_CLASIF+\".csv\"\n",
    "myfunc.save_resultados_to_csv(M_TIPO, M_SELECT, M_CLASIF,  random_search, myfunc.MET_DIR, fichero_resultados)\n"
   ]
  }
 ],
 "metadata": {
  "kernelspec": {
   "display_name": "Python 3 (ipykernel)",
   "language": "python",
   "name": "python3"
  },
  "language_info": {
   "codemirror_mode": {
    "name": "ipython",
    "version": 3
   },
   "file_extension": ".py",
   "mimetype": "text/x-python",
   "name": "python",
   "nbconvert_exporter": "python",
   "pygments_lexer": "ipython3",
   "version": "3.10.12"
  },
  "papermill": {
   "default_parameters": {},
   "duration": 138.396244,
   "end_time": "2023-10-30T16:41:33.354831",
   "environment_variables": {},
   "exception": null,
   "input_path": "03_entrenamiento.ipynb",
   "output_path": "ejecuciones\\training\\03_entrenamiento.20231030T173914.param_0000_6578_mul_m_MI_SVM.output.ipynb",
   "parameters": {
    "MAX_ITERS": 500,
    "M_CLASIF": "SVM",
    "M_FICHERO": "metricas_6578",
    "M_SELECT": "MI",
    "M_TIPO": "mul_m",
    "PRE_DATA_FILE": "rows_transpose_norm_by_gene_id_with_target_num_",
    "P_FICHERO": "param_0000_6578_mul_m_MI_SVM.yaml",
    "R_FICHERO": "resultados_6578",
    "SCORING": "roc_auc_ovr",
    "SEMILLA": 6578,
    "eval_clasifier": "SVC(probability=True, random_state=SEMILLA)",
    "eval_selector": "SelectKBest(score_func=mutual_info_classif_state)",
    "param_distributions": {
     "clasifier__C": [
      100
     ],
     "clasifier__gamma": [
      0.001
     ],
     "clasifier__kernel": [
      "rbf"
     ],
     "selector__k": [
      1000
     ]
    }
   },
   "start_time": "2023-10-30T16:39:14.958587",
   "version": "2.4.0"
  }
 },
 "nbformat": 4,
 "nbformat_minor": 5
}