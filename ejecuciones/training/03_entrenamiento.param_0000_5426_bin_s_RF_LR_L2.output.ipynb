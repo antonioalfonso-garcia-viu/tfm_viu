{
 "cells": [
  {
   "cell_type": "markdown",
   "id": "0de3598a",
   "metadata": {
    "papermill": {
     "duration": 0.0,
     "end_time": "2023-10-30T05:20:11.801776",
     "exception": false,
     "start_time": "2023-10-30T05:20:11.801776",
     "status": "completed"
    },
    "tags": []
   },
   "source": [
    "##### Inicio"
   ]
  },
  {
   "cell_type": "markdown",
   "id": "68964802",
   "metadata": {
    "papermill": {
     "duration": 0.0,
     "end_time": "2023-10-30T05:20:11.801776",
     "exception": false,
     "start_time": "2023-10-30T05:20:11.801776",
     "status": "completed"
    },
    "tags": []
   },
   "source": [
    "#### Carga de datos"
   ]
  },
  {
   "cell_type": "code",
   "execution_count": 1,
   "id": "33a527bf",
   "metadata": {
    "execution": {
     "iopub.execute_input": "2023-10-30T05:20:11.817220Z",
     "iopub.status.busy": "2023-10-30T05:20:11.817220Z",
     "iopub.status.idle": "2023-10-30T05:20:12.990802Z",
     "shell.execute_reply": "2023-10-30T05:20:12.990802Z"
    },
    "papermill": {
     "duration": 1.173582,
     "end_time": "2023-10-30T05:20:12.990802",
     "exception": false,
     "start_time": "2023-10-30T05:20:11.817220",
     "status": "completed"
    },
    "tags": []
   },
   "outputs": [
    {
     "name": "stdout",
     "output_type": "stream",
     "text": [
      "CPU_COUNT: 24; NODE: amilcar32; sys.version: 3.10.12 | packaged by Anaconda, Inc. | (main, Jul  5 2023, 19:09:20) [MSC v.1916 64 bit (AMD64)]\n",
      "LOKY_MAX_CPU_COUNT is not set.\n",
      "OMP_NUM_THREADS is not set.\n"
     ]
    }
   ],
   "source": [
    "import os\n",
    "import numpy as np\n",
    "import pandas as pd\n",
    "import datetime\n",
    "import sklearn\n",
    "import logging\n",
    "import warnings\n",
    "\n",
    "from sklearn.pipeline import Pipeline\n",
    "from sklearn.model_selection import RandomizedSearchCV, KFold, cross_val_score, train_test_split\n",
    "from sklearn.metrics import accuracy_score, confusion_matrix, classification_report, roc_auc_score\n",
    "\n",
    "#  cargar algoritmos para aprendizaje supervisado\n",
    "from sklearn.feature_selection import SelectKBest, f_classif, SelectFromModel, mutual_info_classif\n",
    "from sklearn.svm import SVC\n",
    "from sklearn.ensemble import RandomForestClassifier\n",
    "from sklearn.linear_model import LogisticRegression,LogisticRegressionCV\n",
    "\n",
    "# importar fichero con utilidades propias\n",
    "from commons import myfunctions as myfunc\n"
   ]
  },
  {
   "cell_type": "markdown",
   "id": "202b7268",
   "metadata": {
    "papermill": {
     "duration": 0.0,
     "end_time": "2023-10-30T05:20:12.990802",
     "exception": false,
     "start_time": "2023-10-30T05:20:12.990802",
     "status": "completed"
    },
    "tags": []
   },
   "source": [
    "#### Parámetros a utilizar en el entrenamiento.\n",
    "\n",
    "Se indican los 3 algoritmos de *selección de características* (eval_selector_xxx) y los 3 algoritmos para la _clasificación_ (eval_clasifier_xxx)\n",
    "\n",
    "En *param_distributions* se indicar los parámetros que utilizan los algoritmos en la función RandomSearchCV.\n",
    "\n",
    "Esta celda tiene la etiqueta **parameters** que servirá para poder lanzar los entrenamientos con la utilidad **papermill** pasándole un fichero con los parámetros. Los nuevos parámetros se situarán tras esta celda para tener prevalencia."
   ]
  },
  {
   "cell_type": "code",
   "execution_count": 2,
   "id": "25a4704f",
   "metadata": {
    "execution": {
     "iopub.execute_input": "2023-10-30T05:20:13.006496Z",
     "iopub.status.busy": "2023-10-30T05:20:13.006496Z",
     "iopub.status.idle": "2023-10-30T05:20:13.022124Z",
     "shell.execute_reply": "2023-10-30T05:20:13.022124Z"
    },
    "papermill": {
     "duration": 0.031322,
     "end_time": "2023-10-30T05:20:13.022124",
     "exception": false,
     "start_time": "2023-10-30T05:20:12.990802",
     "status": "completed"
    },
    "tags": [
     "parameters"
    ]
   },
   "outputs": [
    {
     "name": "stdout",
     "output_type": "stream",
     "text": [
      "20231030T062013 : amilcar32 : INFO : Utilizando parámetros de mul_m\n"
     ]
    }
   ],
   "source": [
    "#  Parametros para el entrenamiento\n",
    "\n",
    "SEMILLA=        42\n",
    "M_TIPO=         \"mul_m\"\n",
    "M_SELECT=       \"MI\"\n",
    "M_CLASIF=       \"SVM\"\n",
    "R_FICHERO=      \"resultados\"\n",
    "M_FICHERO=      \"metricas\"\n",
    "PRE_DATA_FILE=  \"rows_transpose_norm_by_gene_id_with_target_num_\"\n",
    "SCORING=        \"roc_auc_ovr\" \n",
    "MAX_ITERS=      100\n",
    "\n",
    "def mutual_info_classif_state(X, y):\n",
    "    return mutual_info_classif(X, y, random_state=SEMILLA)\n",
    "\n",
    "eval_selector_mi = \"SelectKBest(score_func=mutual_info_classif_state)\"\n",
    "eval_selector_rf=  \"SelectFromModel(estimator=RandomForestClassifier(random_state=SEMILLA), threshold=-np.inf)\"\n",
    "eval_selector_anova=  \"SelectKBest(score_func=f_classif)\"\n",
    "\n",
    "eval_clasifier_svm= \"SVC(probability=True, random_state=SEMILLA)\"\n",
    "eval_clasifier_rf= \"RandomForestClassifier(random_state=SEMILLA)\"\n",
    "eval_clasifier_lr= \"LogisticRegressionCV(random_state=SEMILLA)\"\n",
    "\n",
    "if M_TIPO.startswith(\"bin_m\"):\n",
    "    myfunc.verbose(f\"Utilizando parámetros de {M_TIPO}\")\n",
    "    eval_selector = eval_selector_mi\n",
    "    eval_clasifier = eval_clasifier_svm\n",
    "\n",
    "    SEMILLA = 6578\n",
    "    M_SELECT = \"MI\"\n",
    "    M_CLASIF = \"SVM\"\n",
    "    param_distributions = {'selector__k': [1000], \n",
    "         'clasifier__kernel': ['rbf'], 'clasifier__gamma': [0.01], 'clasifier__C': [100]}\n",
    "elif M_TIPO.startswith(\"bin_s\"):\n",
    "    myfunc.verbose(f\"Utilizando parámetros de {M_TIPO}\")\n",
    "    eval_selector = eval_selector_rf\n",
    "    eval_clasifier = eval_clasifier_lr\n",
    "\n",
    "    SEMILLA = 6191\n",
    "    M_SELECT = \"RF\"\n",
    "    M_CLASIF = \"LR_L2\"\n",
    "    param_distributions = {'selector__max_features': [1000], 'selector__estimator__n_estimators': [200], \n",
    "        'clasifier__solver': ['lbfgs'], 'clasifier__penalty': ['l2'], 'clasifier__max_iter': [10000]}\n",
    "\n",
    "elif M_TIPO.startswith(\"mul_m\"):\n",
    "    myfunc.verbose(f\"Utilizando parámetros de {M_TIPO}\")\n",
    " \n",
    "    eval_selector = eval_selector_rf\n",
    "    eval_clasifier = eval_clasifier_lr\n",
    "\n",
    "    SEMILLA = 6191\n",
    "    M_SELECT = \"RF\"\n",
    "    M_CLASIF = \"LR_L2\"\n",
    "    param_distributions = {'selector__max_features': [1000], 'selector__estimator__n_estimators': [400], \n",
    "        'clasifier__solver': ['lbfgs'], 'clasifier__penalty': ['l2'], 'clasifier__max_iter': [10000]}\n",
    "\n",
    "else:\n",
    "    # M_TIPO.startswith(\"mul_s\"):\n",
    "    myfunc.verbose(f\"Utilizando parámetros de {M_TIPO}\")\n",
    "    eval_selector = eval_selector_anova\n",
    "    eval_clasifier = eval_clasifier_lr\n",
    "\n",
    "    SEMILLA = 1860\n",
    "    M_SELECT = \"ANOVA\"\n",
    "    M_CLASIF = \"LR_L2\"\n",
    "    param_distributions = {'selector__k': [1000], \n",
    "        'clasifier__solver': ['saga'], 'clasifier__penalty': ['l2'], 'clasifier__max_iter': [10000]}\n",
    "\n"
   ]
  },
  {
   "cell_type": "code",
   "execution_count": 3,
   "id": "59a6758a",
   "metadata": {
    "execution": {
     "iopub.execute_input": "2023-10-30T05:20:13.022124Z",
     "iopub.status.busy": "2023-10-30T05:20:13.022124Z",
     "iopub.status.idle": "2023-10-30T05:20:13.037747Z",
     "shell.execute_reply": "2023-10-30T05:20:13.037747Z"
    },
    "papermill": {
     "duration": 0.015623,
     "end_time": "2023-10-30T05:20:13.037747",
     "exception": false,
     "start_time": "2023-10-30T05:20:13.022124",
     "status": "completed"
    },
    "tags": [
     "injected-parameters"
    ]
   },
   "outputs": [],
   "source": [
    "# Parameters\n",
    "M_TIPO = \"bin_s\"\n",
    "M_SELECT = \"RF\"\n",
    "M_CLASIF = \"LR_L2\"\n",
    "P_FICHERO = \"param_0000_5426_bin_s_RF_LR_L2.yaml\"\n",
    "R_FICHERO = \"resultados_5426\"\n",
    "M_FICHERO = \"metricas_5426\"\n",
    "PRE_DATA_FILE = \"rows_transpose_norm_by_gene_id_with_target_num_\"\n",
    "SCORING = \"roc_auc_ovr\"\n",
    "SEMILLA = 5426\n",
    "MAX_ITERS = 500\n",
    "eval_selector = \"SelectFromModel(estimator=RandomForestClassifier(random_state=SEMILLA), threshold=-np.inf)\"\n",
    "eval_clasifier = \"LogisticRegressionCV(random_state=SEMILLA)\"\n",
    "param_distributions = {\n",
    "    \"selector__max_features\": [1000],\n",
    "    \"selector__estimator__n_estimators\": [200],\n",
    "    \"clasifier__solver\": [\"lbfgs\"],\n",
    "    \"clasifier__penalty\": [\"l2\"],\n",
    "    \"clasifier__max_iter\": [10000],\n",
    "}\n"
   ]
  },
  {
   "cell_type": "code",
   "execution_count": 4,
   "id": "f771321c",
   "metadata": {
    "execution": {
     "iopub.execute_input": "2023-10-30T05:20:13.037747Z",
     "iopub.status.busy": "2023-10-30T05:20:13.037747Z",
     "iopub.status.idle": "2023-10-30T05:20:13.053380Z",
     "shell.execute_reply": "2023-10-30T05:20:13.053380Z"
    },
    "papermill": {
     "duration": 0.015633,
     "end_time": "2023-10-30T05:20:13.053380",
     "exception": false,
     "start_time": "2023-10-30T05:20:13.037747",
     "status": "completed"
    },
    "tags": []
   },
   "outputs": [],
   "source": [
    "DATA_FILE = PRE_DATA_FILE + M_TIPO\n",
    "\n",
    "# si viene \"None\" en el parámetro max_depth, se le quitan las comillas para que no sea entendido por el algoritmo como un texto\n",
    "if \"clasifier__max_depth\" in param_distributions:\n",
    "    param_distributions['clasifier__max_depth'] = [None if x == 'None' else x for x in param_distributions['clasifier__max_depth']]"
   ]
  },
  {
   "cell_type": "markdown",
   "id": "3e5686db",
   "metadata": {
    "papermill": {
     "duration": 0.0,
     "end_time": "2023-10-30T05:20:13.057148",
     "exception": false,
     "start_time": "2023-10-30T05:20:13.057148",
     "status": "completed"
    },
    "tags": []
   },
   "source": [
    "Asignar los algoritmos que se utilizarán en la función RandomSearchCV"
   ]
  },
  {
   "cell_type": "code",
   "execution_count": 5,
   "id": "a2294854",
   "metadata": {
    "execution": {
     "iopub.execute_input": "2023-10-30T05:20:13.069293Z",
     "iopub.status.busy": "2023-10-30T05:20:13.069293Z",
     "iopub.status.idle": "2023-10-30T05:20:13.085003Z",
     "shell.execute_reply": "2023-10-30T05:20:13.085003Z"
    },
    "papermill": {
     "duration": 0.01571,
     "end_time": "2023-10-30T05:20:13.085003",
     "exception": false,
     "start_time": "2023-10-30T05:20:13.069293",
     "status": "completed"
    },
    "tags": []
   },
   "outputs": [],
   "source": [
    "algor_selector=eval(eval_selector)\n",
    "algor_clasifier=eval(eval_clasifier)"
   ]
  },
  {
   "cell_type": "markdown",
   "id": "cf42bb84",
   "metadata": {
    "papermill": {
     "duration": 0.0,
     "end_time": "2023-10-30T05:20:13.085003",
     "exception": false,
     "start_time": "2023-10-30T05:20:13.085003",
     "status": "completed"
    },
    "tags": []
   },
   "source": [
    "#### Comprobar el entorno y leer fichero de muestras"
   ]
  },
  {
   "cell_type": "code",
   "execution_count": 6,
   "id": "3f39d57e",
   "metadata": {
    "execution": {
     "iopub.execute_input": "2023-10-30T05:20:13.100626Z",
     "iopub.status.busy": "2023-10-30T05:20:13.100626Z",
     "iopub.status.idle": "2023-10-30T05:20:13.273027Z",
     "shell.execute_reply": "2023-10-30T05:20:13.273027Z"
    },
    "papermill": {
     "duration": 0.172401,
     "end_time": "2023-10-30T05:20:13.273027",
     "exception": false,
     "start_time": "2023-10-30T05:20:13.100626",
     "status": "completed"
    },
    "tags": []
   },
   "outputs": [
    {
     "name": "stdout",
     "output_type": "stream",
     "text": [
      "20231030T062013 : amilcar32 : INFO : Encontrada carpeta DATA_DIR=..\\tfm_viu\\datos\n",
      "20231030T062013 : amilcar32 : INFO : Encontrada carpeta CFDNA_DIR=..\\tfm_viu\\datos\\cfDNA_5hmC\n",
      "20231030T062013 : amilcar32 : INFO : Encontrada carpeta GENCODE_DIR=..\\tfm_viu\\datos\\gencode\n",
      "20231030T062013 : amilcar32 : INFO : Encontrada carpeta H5_DIR=..\\tfm_viu\\datos\\h5\n",
      "20231030T062013 : amilcar32 : INFO : Encontrada carpeta LOG_DIR=..\\tfm_viu\\datos\\logs\n",
      "20231030T062013 : amilcar32 : INFO : Encontrada carpeta CSV_DIR=..\\tfm_viu\\datos\\csv\n",
      "20231030T062013 : amilcar32 : INFO : Encontrada carpeta MODEL_DIR=..\\tfm_viu\\ejecuciones\\modelos\n",
      "20231030T062013 : amilcar32 : INFO : Encontrada carpeta EXEC_DIR=..\\tfm_viu\\ejecuciones\n",
      "20231030T062013 : amilcar32 : INFO : Encontrada carpeta MET_DIR=..\\tfm_viu\\ejecuciones\\metricas\n",
      "20231030T062013 : amilcar32 : INFO : Inicio leer fichero h5 ..\\tfm_viu\\datos\\h5\\rows_transpose_norm_by_gene_id_with_target_num_bin_s.h5\n",
      "20231030T062013 : amilcar32 : INFO : Leyendo clave /df\n"
     ]
    },
    {
     "name": "stdout",
     "output_type": "stream",
     "text": [
      "20231030T062013 : amilcar32 : INFO : Tamaño (443, 18876)\n",
      "20231030T062013 : amilcar32 : INFO : Fin leer fichero h5 ..\\tfm_viu\\datos\\h5\\rows_transpose_norm_by_gene_id_with_target_num_bin_s.h5\n"
     ]
    },
    {
     "data": {
      "text/plain": [
       "target\n",
       "0    221\n",
       "1    222\n",
       "dtype: int64"
      ]
     },
     "metadata": {},
     "output_type": "display_data"
    },
    {
     "name": "stdout",
     "output_type": "stream",
     "text": [
      "Shape df: (443, 18876)\n",
      "Shape X_train: (354, 18875)\n",
      "Shape X_test: (89, 18875)\n"
     ]
    }
   ],
   "source": [
    "start_time = datetime.datetime.now()\n",
    "\n",
    "myfunc.reset_vars()\n",
    "\n",
    "myfunc.NOTEBK_FILENAME = myfunc.get_nb_name()\n",
    "\n",
    "myfunc.check_enviroment(myfunc.DATA_DIR, myfunc.CFDNA_DIR, myfunc.GENCODE_DIR, myfunc.H5_DIR, myfunc.LOG_DIR, myfunc.CSV_DIR, myfunc.MODEL_DIR, myfunc.EXEC_DIR, myfunc.MET_DIR)\n",
    "\n",
    "# Leer fichero con las muestras\n",
    "df_t = myfunc.read_h5_to_df(DATA_FILE, myfunc.H5_DIR)\n",
    "display(df_t.groupby(\"target\").size())\n",
    "print(\"Shape df:\",df_t.shape)\n",
    "\n",
    "# Separar caracteristicas/genes de las etiquetas/tipos de cáncer\n",
    "X = df_t.iloc[:, :-1]  # Todas las columnas excepto la última\n",
    "y = df_t.iloc[:, -1]  # La última columna contiene los identificadores de los tipos de cáncer\n",
    "\n",
    "#  Crear el conjunto de datos de entrenamiento y de pruebas, y se fija la semilla para siempre coger el mismo juego de muestras\n",
    "X_train, X_test, y_train, y_test = train_test_split(X, y, test_size=0.2, shuffle=True, random_state=42)\n",
    "print(\"Shape X_train:\",X_train.shape)\n",
    "print(\"Shape X_test:\",X_test.shape)\n"
   ]
  },
  {
   "cell_type": "markdown",
   "id": "4cdd1fd8",
   "metadata": {
    "papermill": {
     "duration": 0.0,
     "end_time": "2023-10-30T05:20:13.273027",
     "exception": false,
     "start_time": "2023-10-30T05:20:13.273027",
     "status": "completed"
    },
    "tags": []
   },
   "source": [
    "#### Selección de características y clasificación."
   ]
  },
  {
   "cell_type": "code",
   "execution_count": 7,
   "id": "2584bfd6",
   "metadata": {
    "execution": {
     "iopub.execute_input": "2023-10-30T05:20:13.288514Z",
     "iopub.status.busy": "2023-10-30T05:20:13.288514Z",
     "iopub.status.idle": "2023-10-30T05:20:43.526796Z",
     "shell.execute_reply": "2023-10-30T05:20:43.526796Z"
    },
    "papermill": {
     "duration": 30.253769,
     "end_time": "2023-10-30T05:20:43.526796",
     "exception": false,
     "start_time": "2023-10-30T05:20:13.273027",
     "status": "completed"
    },
    "tags": []
   },
   "outputs": [
    {
     "name": "stdout",
     "output_type": "stream",
     "text": [
      "20231030T062013 : amilcar32 : INFO : Iniciando entrenamiento\n",
      "num_iter: 1 , max_iter: 1\n",
      "Fitting 5 folds for each of 1 candidates, totalling 5 fits\n"
     ]
    },
    {
     "name": "stdout",
     "output_type": "stream",
     "text": [
      "Mejores Hiperparámetros: {'selector__max_features': 1000, 'selector__estimator__n_estimators': 200, 'clasifier__solver': 'lbfgs', 'clasifier__penalty': 'l2', 'clasifier__max_iter': 10000}\n",
      "Mejor Puntuación: 0.7873\n",
      "20231030T062043 : amilcar32 : INFO : Fin entrenamiento\n"
     ]
    }
   ],
   "source": [
    "myfunc.verbose(\"Iniciando entrenamiento\")\n",
    "\n",
    "kf = KFold(n_splits=5, shuffle=True, random_state=SEMILLA)\n",
    "\n",
    "# Crear el pipeline para el flujo de tareas\n",
    "tasks_pipeline = Pipeline([\n",
    "    ('selector', algor_selector),\n",
    "    ('clasifier', algor_clasifier)\n",
    "])\n",
    "\n",
    "# MAX_ITERS puede limitar el número de iteraciones si son excesivas para las combinaciones de parámetros buscando un óptimo local, \n",
    "# sino funcionaría como GridSearchCV al revisar todas las cominaciones de los parámetros\n",
    "num_iteraciones = 1\n",
    "num_iteraciones = num_iteraciones * np.prod([len(elemento1) for _, elemento1 in param_distributions.items()])\n",
    "max_iteraciones = num_iteraciones if num_iteraciones <= MAX_ITERS else MAX_ITERS\n",
    "print(\"num_iter:\",num_iteraciones,\", max_iter:\",max_iteraciones)\n",
    "\n",
    "random_search = RandomizedSearchCV(\n",
    "    tasks_pipeline, \n",
    "    param_distributions, \n",
    "    n_iter=max_iteraciones,\n",
    "    scoring=SCORING,\n",
    "    cv=kf,\n",
    "    verbose=3, \n",
    "    random_state=SEMILLA, \n",
    "    n_jobs=-1\n",
    "    )\n",
    "\n",
    "# Entrenar el modelo\n",
    "random_search.fit(X_train, y_train)\n",
    "\n",
    "# Ver los mejores hiperparámetros encontrados\n",
    "print(f'Mejores Hiperparámetros: {random_search.best_params_}')\n",
    "print(f'Mejor Puntuación: {random_search.best_score_:.4f}')\n",
    "\n",
    "# Nos quedamos con el mejor modelo para ver las métricas\n",
    "mejor_modelo = random_search.best_estimator_\n",
    "\n",
    "myfunc.verbose(\"Fin entrenamiento\")"
   ]
  },
  {
   "cell_type": "markdown",
   "id": "a95a64e1",
   "metadata": {
    "papermill": {
     "duration": 0.01721,
     "end_time": "2023-10-30T05:20:43.544006",
     "exception": false,
     "start_time": "2023-10-30T05:20:43.526796",
     "status": "completed"
    },
    "tags": []
   },
   "source": [
    "#### Guardar modelo"
   ]
  },
  {
   "cell_type": "code",
   "execution_count": 8,
   "id": "cfc0c0ec",
   "metadata": {
    "execution": {
     "iopub.execute_input": "2023-10-30T05:20:43.558591Z",
     "iopub.status.busy": "2023-10-30T05:20:43.558591Z",
     "iopub.status.idle": "2023-10-30T05:20:43.699479Z",
     "shell.execute_reply": "2023-10-30T05:20:43.699479Z"
    },
    "papermill": {
     "duration": 0.140888,
     "end_time": "2023-10-30T05:20:43.699479",
     "exception": false,
     "start_time": "2023-10-30T05:20:43.558591",
     "status": "completed"
    },
    "tags": []
   },
   "outputs": [
    {
     "name": "stdout",
     "output_type": "stream",
     "text": [
      "20231030T062043 : amilcar32 : INFO : Inicio guardar fichero ..\\tfm_viu\\ejecuciones\\modelos\\modelo_5426_bin_s_RF_LR_L2.pkl\n",
      "20231030T062043 : amilcar32 : INFO : Fin guardar fichero ..\\tfm_viu\\ejecuciones\\modelos\\modelo_5426_bin_s_RF_LR_L2.pkl\n"
     ]
    }
   ],
   "source": [
    "fichero_modelo = str.replace(\"modelo_\"+str(SEMILLA).zfill(4)+\"_\"+M_TIPO+\"_\"+M_SELECT+\"_\"+M_CLASIF+\".pkl\", \" \", \"_\")\n",
    "\n",
    "myfunc.save_modelo(mejor_modelo, myfunc.MODEL_DIR, fichero_modelo)"
   ]
  },
  {
   "cell_type": "markdown",
   "id": "87e02696",
   "metadata": {
    "papermill": {
     "duration": 0.015633,
     "end_time": "2023-10-30T05:20:43.730571",
     "exception": false,
     "start_time": "2023-10-30T05:20:43.714938",
     "status": "completed"
    },
    "tags": []
   },
   "source": [
    "#### Ver resultados del las iteraciones hechas por RandomSearchCV"
   ]
  },
  {
   "cell_type": "code",
   "execution_count": 9,
   "id": "6f51bf7d",
   "metadata": {
    "execution": {
     "iopub.execute_input": "2023-10-30T05:20:43.746187Z",
     "iopub.status.busy": "2023-10-30T05:20:43.746187Z",
     "iopub.status.idle": "2023-10-30T05:20:43.777442Z",
     "shell.execute_reply": "2023-10-30T05:20:43.777442Z"
    },
    "papermill": {
     "duration": 0.046871,
     "end_time": "2023-10-30T05:20:43.777442",
     "exception": false,
     "start_time": "2023-10-30T05:20:43.730571",
     "status": "completed"
    },
    "tags": []
   },
   "outputs": [
    {
     "name": "stdout",
     "output_type": "stream",
     "text": [
      "20231030T062043 : amilcar32 : INFO : Inicio ver resultados\n",
      "Mejores Hiperparámetros: {'selector__max_features': 1000, 'selector__estimator__n_estimators': 200, 'clasifier__solver': 'lbfgs', 'clasifier__penalty': 'l2', 'clasifier__max_iter': 10000}\n",
      "Mejores puntuaciones: 0.7873 | Params: {'selector__max_features': 1000, 'selector__estimator__n_estimators': 200, 'clasifier__solver': 'lbfgs', 'clasifier__penalty': 'l2', 'clasifier__max_iter': 10000}\n",
      "Media de las puntuaciones: 0.7873 | Params: {'selector__max_features': 1000, 'selector__estimator__n_estimators': 200, 'clasifier__solver': 'lbfgs', 'clasifier__penalty': 'l2', 'clasifier__max_iter': 10000}\n",
      "20231030T062043 : amilcar32 : INFO : Fin resultados\n"
     ]
    }
   ],
   "source": [
    "myfunc.ver_resultados_search(random_search)"
   ]
  },
  {
   "cell_type": "markdown",
   "id": "c5e6003e",
   "metadata": {
    "papermill": {
     "duration": 0.015639,
     "end_time": "2023-10-30T05:20:43.808702",
     "exception": false,
     "start_time": "2023-10-30T05:20:43.793063",
     "status": "completed"
    },
    "tags": []
   },
   "source": [
    "#### Ver métricas del mejor modelo"
   ]
  },
  {
   "cell_type": "code",
   "execution_count": 10,
   "id": "38626b6c",
   "metadata": {
    "execution": {
     "iopub.execute_input": "2023-10-30T05:20:43.824309Z",
     "iopub.status.busy": "2023-10-30T05:20:43.824309Z",
     "iopub.status.idle": "2023-10-30T05:20:45.186467Z",
     "shell.execute_reply": "2023-10-30T05:20:45.186467Z"
    },
    "papermill": {
     "duration": 1.377765,
     "end_time": "2023-10-30T05:20:45.186467",
     "exception": false,
     "start_time": "2023-10-30T05:20:43.808702",
     "status": "completed"
    },
    "tags": []
   },
   "outputs": [
    {
     "name": "stdout",
     "output_type": "stream",
     "text": [
      "20231030T062043 : amilcar32 : INFO : Inicio ver métricas\n"
     ]
    },
    {
     "name": "stdout",
     "output_type": "stream",
     "text": [
      "              precision    recall  f1-score   support\n",
      "\n",
      "           0       0.71      0.78      0.74        46\n",
      "           1       0.74      0.65      0.69        43\n",
      "\n",
      "    accuracy                           0.72        89\n",
      "   macro avg       0.72      0.72      0.72        89\n",
      "weighted avg       0.72      0.72      0.72        89\n",
      "\n",
      "\n",
      "\n",
      "   Exactitud: 0.7191\n",
      "   Precisión: 0.7214\n",
      "Sensibilidad: 0.7169\n",
      "    F1-score: 0.7168\n",
      "     AUC ROC: 0.7887\n"
     ]
    },
    {
     "data": {
      "image/png": "[encoded data removed]",
      "text/plain": [
       "<Figure size 300x100 with 2 Axes>"
      ]
     },
     "metadata": {},
     "output_type": "display_data"
    },
    {
     "data": {
      "image/png": "[encoded data removed]",
      "text/plain": [
       "<Figure size 800x500 with 1 Axes>"
      ]
     },
     "metadata": {},
     "output_type": "display_data"
    },
    {
     "name": "stdout",
     "output_type": "stream",
     "text": [
      "20231030T062045 : amilcar32 : INFO : Fin ver métricas\n"
     ]
    }
   ],
   "source": [
    "if M_TIPO.startswith(\"bin\"):\n",
    "    myfunc.ver_metricas(mejor_modelo, X_test, y_test)\n",
    "else:\n",
    "    myfunc.ver_metricas_multi(mejor_modelo, X_test, y_test)\n"
   ]
  },
  {
   "cell_type": "markdown",
   "id": "1c854b30",
   "metadata": {
    "papermill": {
     "duration": 0.015622,
     "end_time": "2023-10-30T05:20:45.217548",
     "exception": false,
     "start_time": "2023-10-30T05:20:45.201926",
     "status": "completed"
    },
    "tags": []
   },
   "source": [
    "#### Finalización del notebook"
   ]
  },
  {
   "cell_type": "code",
   "execution_count": 11,
   "id": "17268b66",
   "metadata": {
    "execution": {
     "iopub.execute_input": "2023-10-30T05:20:45.233164Z",
     "iopub.status.busy": "2023-10-30T05:20:45.233164Z",
     "iopub.status.idle": "2023-10-30T05:20:45.248778Z",
     "shell.execute_reply": "2023-10-30T05:20:45.248778Z"
    },
    "papermill": {
     "duration": 0.015614,
     "end_time": "2023-10-30T05:20:45.248778",
     "exception": false,
     "start_time": "2023-10-30T05:20:45.233164",
     "status": "completed"
    },
    "tags": []
   },
   "outputs": [
    {
     "name": "stdout",
     "output_type": "stream",
     "text": [
      "20231030T062045 : amilcar32 : INFO : Notebook ha tardado 32 seconds\n"
     ]
    }
   ],
   "source": [
    "end_time = datetime.datetime.now()\n",
    "total_time = end_time - start_time\n",
    "myfunc.verbose(f\"Notebook ha tardado {total_time.seconds} seconds\")"
   ]
  },
  {
   "cell_type": "markdown",
   "id": "4a08988e",
   "metadata": {
    "papermill": {
     "duration": 0.015592,
     "end_time": "2023-10-30T05:20:45.280614",
     "exception": false,
     "start_time": "2023-10-30T05:20:45.265022",
     "status": "completed"
    },
    "tags": []
   },
   "source": [
    "#### Guardar métricas"
   ]
  },
  {
   "cell_type": "code",
   "execution_count": 12,
   "id": "ac7b3405",
   "metadata": {
    "execution": {
     "iopub.execute_input": "2023-10-30T05:20:45.311959Z",
     "iopub.status.busy": "2023-10-30T05:20:45.311959Z",
     "iopub.status.idle": "2023-10-30T05:20:46.268804Z",
     "shell.execute_reply": "2023-10-30T05:20:46.267289Z"
    },
    "papermill": {
     "duration": 0.972471,
     "end_time": "2023-10-30T05:20:46.268804",
     "exception": false,
     "start_time": "2023-10-30T05:20:45.296333",
     "status": "completed"
    },
    "tags": []
   },
   "outputs": [
    {
     "name": "stdout",
     "output_type": "stream",
     "text": [
      "20231030T062045 : amilcar32 : INFO : Inicio guardar métricas\n",
      "20231030T062045 : amilcar32 : INFO : Inicio leer fichero ..\\tfm_viu\\ejecuciones\\metricas\\metricas_5426.csv\n",
      "20231030T062045 : amilcar32 : INFO : Fin leer fichero ..\\tfm_viu\\ejecuciones\\metricas\\metricas_5426.csv\n"
     ]
    },
    {
     "name": "stdout",
     "output_type": "stream",
     "text": [
      "20231030T062046 : amilcar32 : INFO : Inicio guardar fichero ..\\tfm_viu\\ejecuciones\\metricas\\metricas_5426.csv\n",
      "20231030T062046 : amilcar32 : INFO : Fichero borrado ..\\tfm_viu\\ejecuciones\\metricas\\metricas_5426.csv\n",
      "20231030T062046 : amilcar32 : INFO : Fin guardar fichero ..\\tfm_viu\\ejecuciones\\metricas\\metricas_5426.csv\n",
      "20231030T062046 : amilcar32 : INFO : Fin guardar métricas\n",
      "20231030T062046 : amilcar32 : INFO : Inicio leer fichero ..\\tfm_viu\\ejecuciones\\metricas\\metricas_5426.csv\n",
      "20231030T062046 : amilcar32 : INFO : Fin leer fichero ..\\tfm_viu\\ejecuciones\\metricas\\metricas_5426.csv\n"
     ]
    },
    {
     "data": {
      "text/html": [
       "<div>\n",
       "<style scoped>\n",
       "    .dataframe tbody tr th:only-of-type {\n",
       "        vertical-align: middle;\n",
       "    }\n",
       "\n",
       "    .dataframe tbody tr th {\n",
       "        vertical-align: top;\n",
       "    }\n",
       "\n",
       "    .dataframe thead th {\n",
       "        text-align: right;\n",
       "    }\n",
       "</style>\n",
       "<table border=\"1\" class=\"dataframe\">\n",
       "  <thead>\n",
       "    <tr style=\"text-align: right;\">\n",
       "      <th></th>\n",
       "      <th>tipo</th>\n",
       "      <th>select</th>\n",
       "      <th>clasific</th>\n",
       "      <th>semilla</th>\n",
       "      <th>accuracy</th>\n",
       "      <th>precision</th>\n",
       "      <th>recall</th>\n",
       "      <th>f1_score</th>\n",
       "      <th>roc_auc</th>\n",
       "      <th>hostname</th>\n",
       "      <th>total_time_sec</th>\n",
       "      <th>datetime</th>\n",
       "      <th>fichero_modelo</th>\n",
       "      <th>params</th>\n",
       "      <th>shape</th>\n",
       "      <th>features</th>\n",
       "    </tr>\n",
       "  </thead>\n",
       "  <tbody>\n",
       "    <tr>\n",
       "      <th>0</th>\n",
       "      <td>bin_s</td>\n",
       "      <td>RF</td>\n",
       "      <td>LR_L2</td>\n",
       "      <td>5426</td>\n",
       "      <td>0.719101</td>\n",
       "      <td>0.721362</td>\n",
       "      <td>0.716886</td>\n",
       "      <td>0.716813</td>\n",
       "      <td>0.788675</td>\n",
       "      <td>amilcar32</td>\n",
       "      <td>32</td>\n",
       "      <td>2023-10-30 06:20:46.173597</td>\n",
       "      <td>modelo_5426_bin_s_RF_LR_L2.pkl</td>\n",
       "      <td>{'selector__max_features': 1000, 'selector__es...</td>\n",
       "      <td>X_test:(89, 18875)</td>\n",
       "      <td>['ENSG00000000971.17', 'ENSG00000002726.21', '...</td>\n",
       "    </tr>\n",
       "    <tr>\n",
       "      <th>0</th>\n",
       "      <td>bin_s</td>\n",
       "      <td>RF</td>\n",
       "      <td>LR_L1</td>\n",
       "      <td>5426</td>\n",
       "      <td>0.651685</td>\n",
       "      <td>0.651531</td>\n",
       "      <td>0.650152</td>\n",
       "      <td>0.650095</td>\n",
       "      <td>0.711325</td>\n",
       "      <td>amilcar32</td>\n",
       "      <td>489</td>\n",
       "      <td>2023-10-30 06:20:07.967146</td>\n",
       "      <td>modelo_5426_bin_s_RF_LR_L1.pkl</td>\n",
       "      <td>{'selector__max_features': 1000, 'selector__es...</td>\n",
       "      <td>X_test:(89, 18875)</td>\n",
       "      <td>['ENSG00000000971.17', 'ENSG00000002726.21', '...</td>\n",
       "    </tr>\n",
       "    <tr>\n",
       "      <th>0</th>\n",
       "      <td>bin_s</td>\n",
       "      <td>RF</td>\n",
       "      <td>LR_EN</td>\n",
       "      <td>5426</td>\n",
       "      <td>0.730337</td>\n",
       "      <td>0.730437</td>\n",
       "      <td>0.729272</td>\n",
       "      <td>0.729483</td>\n",
       "      <td>0.817998</td>\n",
       "      <td>amilcar32</td>\n",
       "      <td>247</td>\n",
       "      <td>2023-10-30 06:11:52.745601</td>\n",
       "      <td>modelo_5426_bin_s_RF_LR_EN.pkl</td>\n",
       "      <td>{'selector__max_features': 500, 'selector__est...</td>\n",
       "      <td>X_test:(89, 18875)</td>\n",
       "      <td>['ENSG00000000971.17', 'ENSG00000006611.17', '...</td>\n",
       "    </tr>\n",
       "  </tbody>\n",
       "</table>\n",
       "</div>"
      ],
      "text/plain": [
       "    tipo select clasific  semilla  accuracy  precision    recall  f1_score  \\\n",
       "0  bin_s     RF    LR_L2     5426  0.719101   0.721362  0.716886  0.716813   \n",
       "0  bin_s     RF    LR_L1     5426  0.651685   0.651531  0.650152  0.650095   \n",
       "0  bin_s     RF    LR_EN     5426  0.730337   0.730437  0.729272  0.729483   \n",
       "\n",
       "    roc_auc   hostname  total_time_sec                    datetime  \\\n",
       "0  0.788675  amilcar32              32  2023-10-30 06:20:46.173597   \n",
       "0  0.711325  amilcar32             489  2023-10-30 06:20:07.967146   \n",
       "0  0.817998  amilcar32             247  2023-10-30 06:11:52.745601   \n",
       "\n",
       "                   fichero_modelo  \\\n",
       "0  modelo_5426_bin_s_RF_LR_L2.pkl   \n",
       "0  modelo_5426_bin_s_RF_LR_L1.pkl   \n",
       "0  modelo_5426_bin_s_RF_LR_EN.pkl   \n",
       "\n",
       "                                              params               shape  \\\n",
       "0  {'selector__max_features': 1000, 'selector__es...  X_test:(89, 18875)   \n",
       "0  {'selector__max_features': 1000, 'selector__es...  X_test:(89, 18875)   \n",
       "0  {'selector__max_features': 500, 'selector__est...  X_test:(89, 18875)   \n",
       "\n",
       "                                            features  \n",
       "0  ['ENSG00000000971.17', 'ENSG00000002726.21', '...  \n",
       "0  ['ENSG00000000971.17', 'ENSG00000002726.21', '...  \n",
       "0  ['ENSG00000000971.17', 'ENSG00000006611.17', '...  "
      ]
     },
     "metadata": {},
     "output_type": "display_data"
    }
   ],
   "source": [
    "if M_TIPO.startswith(\"bin\"):\n",
    "    myfunc.save_metricas_to_csv(random_search, X_test, y_test, M_TIPO, M_SELECT, M_CLASIF, total_time, SEMILLA, myfunc.MET_DIR, M_FICHERO, fichero_modelo)\n",
    "else:\n",
    "    myfunc.save_metricas_multi_to_csv(random_search, X_test, y_test, M_TIPO, M_SELECT, M_CLASIF, total_time, SEMILLA, myfunc.MET_DIR, M_FICHERO, fichero_modelo)\n",
    "\n",
    "df1=myfunc.read_metricas_to_df(myfunc.MET_DIR,M_FICHERO)\n",
    "\n",
    "display(df1.sort_values(\"datetime\", ascending=False)[:3])\n"
   ]
  },
  {
   "cell_type": "markdown",
   "id": "3f8c0623",
   "metadata": {
    "papermill": {
     "duration": 0.0,
     "end_time": "2023-10-30T05:20:46.283323",
     "exception": false,
     "start_time": "2023-10-30T05:20:46.283323",
     "status": "completed"
    },
    "tags": []
   },
   "source": [
    "#### Guardar resultados"
   ]
  },
  {
   "cell_type": "code",
   "execution_count": 13,
   "id": "129fb5db",
   "metadata": {
    "execution": {
     "iopub.execute_input": "2023-10-30T05:20:46.314672Z",
     "iopub.status.busy": "2023-10-30T05:20:46.314672Z",
     "iopub.status.idle": "2023-10-30T05:20:46.345923Z",
     "shell.execute_reply": "2023-10-30T05:20:46.345923Z"
    },
    "papermill": {
     "duration": 0.046873,
     "end_time": "2023-10-30T05:20:46.345923",
     "exception": false,
     "start_time": "2023-10-30T05:20:46.299050",
     "status": "completed"
    },
    "tags": []
   },
   "outputs": [
    {
     "name": "stdout",
     "output_type": "stream",
     "text": [
      "20231030T062046 : amilcar32 : INFO : Inicio guardar resultados\n",
      "20231030T062046 : amilcar32 : INFO : Inicio guardar fichero ..\\tfm_viu\\ejecuciones\\metricas\\resultados_5426_bin_s-RF-LR_L2.csv\n",
      "20231030T062046 : amilcar32 : INFO : Fin guardar fichero ..\\tfm_viu\\ejecuciones\\metricas\\resultados_5426_bin_s-RF-LR_L2.csv\n",
      "20231030T062046 : amilcar32 : INFO : Fin guardar resultados\n"
     ]
    }
   ],
   "source": [
    "fichero_resultados=R_FICHERO+\"_\"+M_TIPO+\"-\"+M_SELECT+\"-\"+M_CLASIF+\".csv\"\n",
    "myfunc.save_resultados_to_csv(M_TIPO, M_SELECT, M_CLASIF,  random_search, myfunc.MET_DIR, fichero_resultados)\n"
   ]
  }
 ],
 "metadata": {
  "kernelspec": {
   "display_name": "Python 3 (ipykernel)",
   "language": "python",
   "name": "python3"
  },
  "language_info": {
   "codemirror_mode": {
    "name": "ipython",
    "version": 3
   },
   "file_extension": ".py",
   "mimetype": "text/x-python",
   "name": "python",
   "nbconvert_exporter": "python",
   "pygments_lexer": "ipython3",
   "version": "3.10.12"
  },
  "papermill": {
   "default_parameters": {},
   "duration": 37.611379,
   "end_time": "2023-10-30T05:20:47.584406",
   "environment_variables": {},
   "exception": null,
   "input_path": "03_entrenamiento.ipynb",
   "output_path": "ejecuciones\\training\\03_entrenamiento.20231030T_62009.param_0000_5426_bin_s_RF_LR_L2.output.ipynb",
   "parameters": {
    "MAX_ITERS": 500,
    "M_CLASIF": "LR_L2",
    "M_FICHERO": "metricas_5426",
    "M_SELECT": "RF",
    "M_TIPO": "bin_s",
    "PRE_DATA_FILE": "rows_transpose_norm_by_gene_id_with_target_num_",
    "P_FICHERO": "param_0000_5426_bin_s_RF_LR_L2.yaml",
    "R_FICHERO": "resultados_5426",
    "SCORING": "roc_auc_ovr",
    "SEMILLA": 5426,
    "eval_clasifier": "LogisticRegressionCV(random_state=SEMILLA)",
    "eval_selector": "SelectFromModel(estimator=RandomForestClassifier(random_state=SEMILLA), threshold=-np.inf)",
    "param_distributions": {
     "clasifier__max_iter": [
      10000
     ],
     "clasifier__penalty": [
      "l2"
     ],
     "clasifier__solver": [
      "lbfgs"
     ],
     "selector__estimator__n_estimators": [
      200
     ],
     "selector__max_features": [
      1000
     ]
    }
   },
   "start_time": "2023-10-30T05:20:09.973027",
   "version": "2.4.0"
  }
 },
 "nbformat": 4,
 "nbformat_minor": 5
}