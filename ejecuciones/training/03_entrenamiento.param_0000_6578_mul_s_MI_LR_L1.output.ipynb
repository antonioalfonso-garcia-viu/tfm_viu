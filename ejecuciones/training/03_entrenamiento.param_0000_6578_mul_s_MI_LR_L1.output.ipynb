{
 "cells": [
  {
   "cell_type": "markdown",
   "id": "7a33ff74",
   "metadata": {
    "papermill": {
     "duration": 0.008722,
     "end_time": "2023-10-30T18:14:58.999757",
     "exception": false,
     "start_time": "2023-10-30T18:14:58.991035",
     "status": "completed"
    },
    "tags": []
   },
   "source": [
    "##### Inicio"
   ]
  },
  {
   "cell_type": "markdown",
   "id": "4795affb",
   "metadata": {
    "papermill": {
     "duration": 0.002997,
     "end_time": "2023-10-30T18:14:59.009698",
     "exception": false,
     "start_time": "2023-10-30T18:14:59.006701",
     "status": "completed"
    },
    "tags": []
   },
   "source": [
    "#### Carga de datos"
   ]
  },
  {
   "cell_type": "code",
   "execution_count": 1,
   "id": "ec1b7703",
   "metadata": {
    "execution": {
     "iopub.execute_input": "2023-10-30T18:14:59.016458Z",
     "iopub.status.busy": "2023-10-30T18:14:59.015465Z",
     "iopub.status.idle": "2023-10-30T18:15:00.225041Z",
     "shell.execute_reply": "2023-10-30T18:15:00.225041Z"
    },
    "papermill": {
     "duration": 1.213662,
     "end_time": "2023-10-30T18:15:00.226115",
     "exception": false,
     "start_time": "2023-10-30T18:14:59.012453",
     "status": "completed"
    },
    "tags": []
   },
   "outputs": [
    {
     "name": "stdout",
     "output_type": "stream",
     "text": [
      "CPU_COUNT: 24; NODE: amilcar32; sys.version: 3.10.12 | packaged by Anaconda, Inc. | (main, Jul  5 2023, 19:09:20) [MSC v.1916 64 bit (AMD64)]\n",
      "LOKY_MAX_CPU_COUNT is not set.\n",
      "OMP_NUM_THREADS is not set.\n"
     ]
    }
   ],
   "source": [
    "import os\n",
    "import numpy as np\n",
    "import pandas as pd\n",
    "import datetime\n",
    "import sklearn\n",
    "import logging\n",
    "import warnings\n",
    "\n",
    "from sklearn.pipeline import Pipeline\n",
    "from sklearn.model_selection import RandomizedSearchCV, KFold, cross_val_score, train_test_split\n",
    "from sklearn.metrics import accuracy_score, confusion_matrix, classification_report, roc_auc_score\n",
    "\n",
    "#  cargar algoritmos para aprendizaje supervisado\n",
    "from sklearn.feature_selection import SelectKBest, f_classif, SelectFromModel, mutual_info_classif\n",
    "from sklearn.svm import SVC\n",
    "from sklearn.ensemble import RandomForestClassifier\n",
    "from sklearn.linear_model import LogisticRegression,LogisticRegressionCV\n",
    "\n",
    "# importar fichero con utilidades propias\n",
    "from commons import myfunctions as myfunc\n"
   ]
  },
  {
   "cell_type": "markdown",
   "id": "9b203f7a",
   "metadata": {
    "papermill": {
     "duration": 0.003055,
     "end_time": "2023-10-30T18:15:00.232753",
     "exception": false,
     "start_time": "2023-10-30T18:15:00.229698",
     "status": "completed"
    },
    "tags": []
   },
   "source": [
    "#### Parámetros a utilizar en el entrenamiento.\n",
    "\n",
    "Se indican los 3 algoritmos de *selección de características* (eval_selector_xxx) y los 3 algoritmos para la _clasificación_ (eval_clasifier_xxx)\n",
    "\n",
    "En *param_distributions* se indicar los parámetros que utilizan los algoritmos en la función RandomSearchCV.\n",
    "\n",
    "Esta celda tiene la etiqueta **parameters** que servirá para poder lanzar los entrenamientos con la utilidad **papermill** pasándole un fichero con los parámetros. Los nuevos parámetros se situarán tras esta celda para tener prevalencia."
   ]
  },
  {
   "cell_type": "code",
   "execution_count": 2,
   "id": "1b76ac24",
   "metadata": {
    "execution": {
     "iopub.execute_input": "2023-10-30T18:15:00.238779Z",
     "iopub.status.busy": "2023-10-30T18:15:00.238779Z",
     "iopub.status.idle": "2023-10-30T18:15:00.255480Z",
     "shell.execute_reply": "2023-10-30T18:15:00.255480Z"
    },
    "papermill": {
     "duration": 0.020766,
     "end_time": "2023-10-30T18:15:00.256476",
     "exception": false,
     "start_time": "2023-10-30T18:15:00.235710",
     "status": "completed"
    },
    "tags": [
     "parameters"
    ]
   },
   "outputs": [
    {
     "name": "stdout",
     "output_type": "stream",
     "text": [
      "20231030T191500 : amilcar32 : INFO : Utilizando parámetros de mul_m\n"
     ]
    }
   ],
   "source": [
    "#  Parametros para el entrenamiento\n",
    "\n",
    "SEMILLA=        42\n",
    "M_TIPO=         \"mul_m\"\n",
    "M_SELECT=       \"MI\"\n",
    "M_CLASIF=       \"SVM\"\n",
    "R_FICHERO=      \"resultados\"\n",
    "M_FICHERO=      \"metricas\"\n",
    "PRE_DATA_FILE=  \"rows_transpose_norm_by_gene_id_with_target_num_\"\n",
    "SCORING=        \"roc_auc_ovr\" \n",
    "MAX_ITERS=      100\n",
    "\n",
    "def mutual_info_classif_state(X, y):\n",
    "    return mutual_info_classif(X, y, random_state=SEMILLA)\n",
    "\n",
    "eval_selector_mi = \"SelectKBest(score_func=mutual_info_classif_state)\"\n",
    "eval_selector_rf=  \"SelectFromModel(estimator=RandomForestClassifier(random_state=SEMILLA), threshold=-np.inf)\"\n",
    "eval_selector_anova=  \"SelectKBest(score_func=f_classif)\"\n",
    "\n",
    "eval_clasifier_svm= \"SVC(probability=True, random_state=SEMILLA)\"\n",
    "eval_clasifier_rf= \"RandomForestClassifier(random_state=SEMILLA)\"\n",
    "eval_clasifier_lr= \"LogisticRegressionCV(random_state=SEMILLA)\"\n",
    "\n",
    "if M_TIPO.startswith(\"bin_m\"):\n",
    "    myfunc.verbose(f\"Utilizando parámetros de {M_TIPO}\")\n",
    "    eval_selector = eval_selector_mi\n",
    "    eval_clasifier = eval_clasifier_svm\n",
    "\n",
    "    SEMILLA = 6578\n",
    "    M_SELECT = \"MI\"\n",
    "    M_CLASIF = \"SVM\"\n",
    "    param_distributions = {'selector__k': [1000], \n",
    "         'clasifier__kernel': ['rbf'], 'clasifier__gamma': [0.01], 'clasifier__C': [100]}\n",
    "elif M_TIPO.startswith(\"bin_s\"):\n",
    "    myfunc.verbose(f\"Utilizando parámetros de {M_TIPO}\")\n",
    "    eval_selector = eval_selector_rf\n",
    "    eval_clasifier = eval_clasifier_lr\n",
    "\n",
    "    SEMILLA = 6191\n",
    "    M_SELECT = \"RF\"\n",
    "    M_CLASIF = \"LR_L2\"\n",
    "    param_distributions = {'selector__max_features': [1000], 'selector__estimator__n_estimators': [200], \n",
    "        'clasifier__solver': ['lbfgs'], 'clasifier__penalty': ['l2'], 'clasifier__max_iter': [10000]}\n",
    "\n",
    "elif M_TIPO.startswith(\"mul_m\"):\n",
    "    myfunc.verbose(f\"Utilizando parámetros de {M_TIPO}\")\n",
    " \n",
    "    eval_selector = eval_selector_rf\n",
    "    eval_clasifier = eval_clasifier_lr\n",
    "\n",
    "    SEMILLA = 6191\n",
    "    M_SELECT = \"RF\"\n",
    "    M_CLASIF = \"LR_L2\"\n",
    "    param_distributions = {'selector__max_features': [1000], 'selector__estimator__n_estimators': [400], \n",
    "        'clasifier__solver': ['lbfgs'], 'clasifier__penalty': ['l2'], 'clasifier__max_iter': [10000]}\n",
    "\n",
    "else:\n",
    "    # M_TIPO.startswith(\"mul_s\"):\n",
    "    myfunc.verbose(f\"Utilizando parámetros de {M_TIPO}\")\n",
    "    eval_selector = eval_selector_anova\n",
    "    eval_clasifier = eval_clasifier_lr\n",
    "\n",
    "    SEMILLA = 1860\n",
    "    M_SELECT = \"ANOVA\"\n",
    "    M_CLASIF = \"LR_L2\"\n",
    "    param_distributions = {'selector__k': [1000], \n",
    "        'clasifier__solver': ['saga'], 'clasifier__penalty': ['l2'], 'clasifier__max_iter': [10000]}\n",
    "\n"
   ]
  },
  {
   "cell_type": "code",
   "execution_count": 3,
   "id": "e6ee911a",
   "metadata": {
    "execution": {
     "iopub.execute_input": "2023-10-30T18:15:00.264760Z",
     "iopub.status.busy": "2023-10-30T18:15:00.264760Z",
     "iopub.status.idle": "2023-10-30T18:15:00.270903Z",
     "shell.execute_reply": "2023-10-30T18:15:00.270903Z"
    },
    "papermill": {
     "duration": 0.012215,
     "end_time": "2023-10-30T18:15:00.272903",
     "exception": false,
     "start_time": "2023-10-30T18:15:00.260688",
     "status": "completed"
    },
    "tags": [
     "injected-parameters"
    ]
   },
   "outputs": [],
   "source": [
    "# Parameters\n",
    "M_TIPO = \"mul_s\"\n",
    "M_SELECT = \"MI\"\n",
    "M_CLASIF = \"LR_L1\"\n",
    "P_FICHERO = \"param_0000_6578_mul_s_MI_LR_L1.yaml\"\n",
    "R_FICHERO = \"resultados_6578\"\n",
    "M_FICHERO = \"metricas_6578\"\n",
    "PRE_DATA_FILE = \"rows_transpose_norm_by_gene_id_with_target_num_\"\n",
    "SCORING = \"roc_auc_ovr\"\n",
    "SEMILLA = 6578\n",
    "MAX_ITERS = 500\n",
    "eval_selector = \"SelectKBest(score_func=mutual_info_classif_state)\"\n",
    "eval_clasifier = \"LogisticRegressionCV(random_state=SEMILLA)\"\n",
    "param_distributions = {\n",
    "    \"selector__k\": [500],\n",
    "    \"clasifier__solver\": [\"saga\"],\n",
    "    \"clasifier__penalty\": [\"l1\"],\n",
    "    \"clasifier__max_iter\": [10000],\n",
    "}\n"
   ]
  },
  {
   "cell_type": "code",
   "execution_count": 4,
   "id": "76c4018b",
   "metadata": {
    "execution": {
     "iopub.execute_input": "2023-10-30T18:15:00.277906Z",
     "iopub.status.busy": "2023-10-30T18:15:00.277906Z",
     "iopub.status.idle": "2023-10-30T18:15:00.286426Z",
     "shell.execute_reply": "2023-10-30T18:15:00.286426Z"
    },
    "papermill": {
     "duration": 0.011603,
     "end_time": "2023-10-30T18:15:00.287511",
     "exception": false,
     "start_time": "2023-10-30T18:15:00.275908",
     "status": "completed"
    },
    "tags": []
   },
   "outputs": [],
   "source": [
    "DATA_FILE = PRE_DATA_FILE + M_TIPO\n",
    "\n",
    "# si viene \"None\" en el parámetro max_depth, se le quitan las comillas para que no sea entendido por el algoritmo como un texto\n",
    "if \"clasifier__max_depth\" in param_distributions:\n",
    "    param_distributions['clasifier__max_depth'] = [None if x == 'None' else x for x in param_distributions['clasifier__max_depth']]"
   ]
  },
  {
   "cell_type": "markdown",
   "id": "2d51b7ea",
   "metadata": {
    "papermill": {
     "duration": 0.003003,
     "end_time": "2023-10-30T18:15:00.293777",
     "exception": false,
     "start_time": "2023-10-30T18:15:00.290774",
     "status": "completed"
    },
    "tags": []
   },
   "source": [
    "Asignar los algoritmos que se utilizarán en la función RandomSearchCV"
   ]
  },
  {
   "cell_type": "code",
   "execution_count": 5,
   "id": "67eb7c5f",
   "metadata": {
    "execution": {
     "iopub.execute_input": "2023-10-30T18:15:00.299779Z",
     "iopub.status.busy": "2023-10-30T18:15:00.299779Z",
     "iopub.status.idle": "2023-10-30T18:15:00.317327Z",
     "shell.execute_reply": "2023-10-30T18:15:00.317327Z"
    },
    "papermill": {
     "duration": 0.02305,
     "end_time": "2023-10-30T18:15:00.319828",
     "exception": false,
     "start_time": "2023-10-30T18:15:00.296778",
     "status": "completed"
    },
    "tags": []
   },
   "outputs": [],
   "source": [
    "algor_selector=eval(eval_selector)\n",
    "algor_clasifier=eval(eval_clasifier)"
   ]
  },
  {
   "cell_type": "markdown",
   "id": "e981abe0",
   "metadata": {
    "papermill": {
     "duration": 0.003004,
     "end_time": "2023-10-30T18:15:00.325836",
     "exception": false,
     "start_time": "2023-10-30T18:15:00.322832",
     "status": "completed"
    },
    "tags": []
   },
   "source": [
    "#### Comprobar el entorno y leer fichero de muestras"
   ]
  },
  {
   "cell_type": "code",
   "execution_count": 6,
   "id": "46b3a3cb",
   "metadata": {
    "execution": {
     "iopub.execute_input": "2023-10-30T18:15:00.334064Z",
     "iopub.status.busy": "2023-10-30T18:15:00.334064Z",
     "iopub.status.idle": "2023-10-30T18:15:00.474682Z",
     "shell.execute_reply": "2023-10-30T18:15:00.474682Z"
    },
    "papermill": {
     "duration": 0.146847,
     "end_time": "2023-10-30T18:15:00.476683",
     "exception": false,
     "start_time": "2023-10-30T18:15:00.329836",
     "status": "completed"
    },
    "tags": []
   },
   "outputs": [
    {
     "name": "stdout",
     "output_type": "stream",
     "text": [
      "20231030T191500 : amilcar32 : INFO : Encontrada carpeta DATA_DIR=..\\tfm_viu\\datos\n",
      "20231030T191500 : amilcar32 : INFO : Encontrada carpeta CFDNA_DIR=..\\tfm_viu\\datos\\cfDNA_5hmC\n",
      "20231030T191500 : amilcar32 : INFO : Encontrada carpeta GENCODE_DIR=..\\tfm_viu\\datos\\gencode\n",
      "20231030T191500 : amilcar32 : INFO : Encontrada carpeta H5_DIR=..\\tfm_viu\\datos\\h5\n",
      "20231030T191500 : amilcar32 : INFO : Encontrada carpeta LOG_DIR=..\\tfm_viu\\datos\\logs\n",
      "20231030T191500 : amilcar32 : INFO : Encontrada carpeta CSV_DIR=..\\tfm_viu\\datos\\csv\n",
      "20231030T191500 : amilcar32 : INFO : Encontrada carpeta MODEL_DIR=..\\tfm_viu\\ejecuciones\\modelos\n",
      "20231030T191500 : amilcar32 : INFO : Encontrada carpeta EXEC_DIR=..\\tfm_viu\\ejecuciones\n",
      "20231030T191500 : amilcar32 : INFO : Encontrada carpeta MET_DIR=..\\tfm_viu\\ejecuciones\\metricas\n",
      "20231030T191500 : amilcar32 : INFO : Inicio leer fichero h5 ..\\tfm_viu\\datos\\h5\\rows_transpose_norm_by_gene_id_with_target_num_mul_s.h5\n",
      "20231030T191500 : amilcar32 : INFO : Leyendo clave /df\n",
      "20231030T191500 : amilcar32 : INFO : Tamaño (259, 18876)\n",
      "20231030T191500 : amilcar32 : INFO : Fin leer fichero h5 ..\\tfm_viu\\datos\\h5\\rows_transpose_norm_by_gene_id_with_target_num_mul_s.h5\n"
     ]
    },
    {
     "data": {
      "text/plain": [
       "target\n",
       "0    37\n",
       "1    37\n",
       "2    37\n",
       "3    37\n",
       "4    37\n",
       "5    37\n",
       "6    37\n",
       "dtype: int64"
      ]
     },
     "metadata": {},
     "output_type": "display_data"
    },
    {
     "name": "stdout",
     "output_type": "stream",
     "text": [
      "Shape df: (259, 18876)\n",
      "Shape X_train: (207, 18875)\n",
      "Shape X_test: (52, 18875)\n"
     ]
    }
   ],
   "source": [
    "start_time = datetime.datetime.now()\n",
    "\n",
    "myfunc.reset_vars()\n",
    "\n",
    "myfunc.NOTEBK_FILENAME = myfunc.get_nb_name()\n",
    "\n",
    "myfunc.check_enviroment(myfunc.DATA_DIR, myfunc.CFDNA_DIR, myfunc.GENCODE_DIR, myfunc.H5_DIR, myfunc.LOG_DIR, myfunc.CSV_DIR, myfunc.MODEL_DIR, myfunc.EXEC_DIR, myfunc.MET_DIR)\n",
    "\n",
    "# Leer fichero con las muestras\n",
    "df_t = myfunc.read_h5_to_df(DATA_FILE, myfunc.H5_DIR)\n",
    "display(df_t.groupby(\"target\").size())\n",
    "print(\"Shape df:\",df_t.shape)\n",
    "\n",
    "# Separar caracteristicas/genes de las etiquetas/tipos de cáncer\n",
    "X = df_t.iloc[:, :-1]  # Todas las columnas excepto la última\n",
    "y = df_t.iloc[:, -1]  # La última columna contiene los identificadores de los tipos de cáncer\n",
    "\n",
    "#  Crear el conjunto de datos de entrenamiento y de pruebas, y se fija la semilla para siempre coger el mismo juego de muestras\n",
    "X_train, X_test, y_train, y_test = train_test_split(X, y, test_size=0.2, shuffle=True, random_state=42)\n",
    "print(\"Shape X_train:\",X_train.shape)\n",
    "print(\"Shape X_test:\",X_test.shape)\n"
   ]
  },
  {
   "cell_type": "markdown",
   "id": "b3262237",
   "metadata": {
    "papermill": {
     "duration": 0.003012,
     "end_time": "2023-10-30T18:15:00.483188",
     "exception": false,
     "start_time": "2023-10-30T18:15:00.480176",
     "status": "completed"
    },
    "tags": []
   },
   "source": [
    "#### Selección de características y clasificación."
   ]
  },
  {
   "cell_type": "code",
   "execution_count": 7,
   "id": "1131f8d3",
   "metadata": {
    "execution": {
     "iopub.execute_input": "2023-10-30T18:15:00.490793Z",
     "iopub.status.busy": "2023-10-30T18:15:00.490793Z",
     "iopub.status.idle": "2023-10-30T18:31:15.882886Z",
     "shell.execute_reply": "2023-10-30T18:31:15.880876Z"
    },
    "papermill": {
     "duration": 975.398216,
     "end_time": "2023-10-30T18:31:15.884396",
     "exception": false,
     "start_time": "2023-10-30T18:15:00.486180",
     "status": "completed"
    },
    "tags": []
   },
   "outputs": [
    {
     "name": "stdout",
     "output_type": "stream",
     "text": [
      "20231030T191500 : amilcar32 : INFO : Iniciando entrenamiento\n",
      "num_iter: 1 , max_iter: 1\n",
      "Fitting 5 folds for each of 1 candidates, totalling 5 fits\n"
     ]
    },
    {
     "name": "stdout",
     "output_type": "stream",
     "text": [
      "Mejores Hiperparámetros: {'selector__k': 500, 'clasifier__solver': 'saga', 'clasifier__penalty': 'l1', 'clasifier__max_iter': 10000}\n",
      "Mejor Puntuación: 0.7905\n",
      "20231030T193115 : amilcar32 : INFO : Fin entrenamiento\n"
     ]
    }
   ],
   "source": [
    "myfunc.verbose(\"Iniciando entrenamiento\")\n",
    "\n",
    "kf = KFold(n_splits=5, shuffle=True, random_state=SEMILLA)\n",
    "\n",
    "# Crear el pipeline para el flujo de tareas\n",
    "tasks_pipeline = Pipeline([\n",
    "    ('selector', algor_selector),\n",
    "    ('clasifier', algor_clasifier)\n",
    "])\n",
    "\n",
    "# MAX_ITERS puede limitar el número de iteraciones si son excesivas para las combinaciones de parámetros buscando un óptimo local, \n",
    "# sino funcionaría como GridSearchCV al revisar todas las cominaciones de los parámetros\n",
    "num_iteraciones = 1\n",
    "num_iteraciones = num_iteraciones * np.prod([len(elemento1) for _, elemento1 in param_distributions.items()])\n",
    "max_iteraciones = num_iteraciones if num_iteraciones <= MAX_ITERS else MAX_ITERS\n",
    "print(\"num_iter:\",num_iteraciones,\", max_iter:\",max_iteraciones)\n",
    "\n",
    "random_search = RandomizedSearchCV(\n",
    "    tasks_pipeline, \n",
    "    param_distributions, \n",
    "    n_iter=max_iteraciones,\n",
    "    scoring=SCORING,\n",
    "    cv=kf,\n",
    "    verbose=3, \n",
    "    random_state=SEMILLA, \n",
    "    n_jobs=-1\n",
    "    )\n",
    "\n",
    "# Entrenar el modelo\n",
    "random_search.fit(X_train, y_train)\n",
    "\n",
    "# Ver los mejores hiperparámetros encontrados\n",
    "print(f'Mejores Hiperparámetros: {random_search.best_params_}')\n",
    "print(f'Mejor Puntuación: {random_search.best_score_:.4f}')\n",
    "\n",
    "# Nos quedamos con el mejor modelo para ver las métricas\n",
    "mejor_modelo = random_search.best_estimator_\n",
    "\n",
    "myfunc.verbose(\"Fin entrenamiento\")"
   ]
  },
  {
   "cell_type": "markdown",
   "id": "98da8b7b",
   "metadata": {
    "papermill": {
     "duration": 0.004001,
     "end_time": "2023-10-30T18:31:15.894309",
     "exception": false,
     "start_time": "2023-10-30T18:31:15.890308",
     "status": "completed"
    },
    "tags": []
   },
   "source": [
    "#### Guardar modelo"
   ]
  },
  {
   "cell_type": "code",
   "execution_count": 8,
   "id": "9550d709",
   "metadata": {
    "execution": {
     "iopub.execute_input": "2023-10-30T18:31:15.903834Z",
     "iopub.status.busy": "2023-10-30T18:31:15.903834Z",
     "iopub.status.idle": "2023-10-30T18:31:15.929808Z",
     "shell.execute_reply": "2023-10-30T18:31:15.928292Z"
    },
    "papermill": {
     "duration": 0.039066,
     "end_time": "2023-10-30T18:31:15.936367",
     "exception": false,
     "start_time": "2023-10-30T18:31:15.897301",
     "status": "completed"
    },
    "tags": []
   },
   "outputs": [
    {
     "name": "stdout",
     "output_type": "stream",
     "text": [
      "20231030T193115 : amilcar32 : INFO : Inicio guardar fichero ..\\tfm_viu\\ejecuciones\\modelos\\modelo_6578_mul_s_MI_LR_L1.pkl\n",
      "20231030T193115 : amilcar32 : INFO : Fin guardar fichero ..\\tfm_viu\\ejecuciones\\modelos\\modelo_6578_mul_s_MI_LR_L1.pkl\n"
     ]
    }
   ],
   "source": [
    "fichero_modelo = str.replace(\"modelo_\"+str(SEMILLA).zfill(4)+\"_\"+M_TIPO+\"_\"+M_SELECT+\"_\"+M_CLASIF+\".pkl\", \" \", \"_\")\n",
    "\n",
    "myfunc.save_modelo(mejor_modelo, myfunc.MODEL_DIR, fichero_modelo)"
   ]
  },
  {
   "cell_type": "markdown",
   "id": "c736950f",
   "metadata": {
    "papermill": {
     "duration": 0.012955,
     "end_time": "2023-10-30T18:31:15.962315",
     "exception": false,
     "start_time": "2023-10-30T18:31:15.949360",
     "status": "completed"
    },
    "tags": []
   },
   "source": [
    "#### Ver resultados del las iteraciones hechas por RandomSearchCV"
   ]
  },
  {
   "cell_type": "code",
   "execution_count": 9,
   "id": "b571c468",
   "metadata": {
    "execution": {
     "iopub.execute_input": "2023-10-30T18:31:15.980198Z",
     "iopub.status.busy": "2023-10-30T18:31:15.980198Z",
     "iopub.status.idle": "2023-10-30T18:31:15.992310Z",
     "shell.execute_reply": "2023-10-30T18:31:15.990306Z"
    },
    "papermill": {
     "duration": 0.02218,
     "end_time": "2023-10-30T18:31:15.994313",
     "exception": false,
     "start_time": "2023-10-30T18:31:15.972133",
     "status": "completed"
    },
    "tags": []
   },
   "outputs": [
    {
     "name": "stdout",
     "output_type": "stream",
     "text": [
      "20231030T193115 : amilcar32 : INFO : Inicio ver resultados\n",
      "Mejores Hiperparámetros: {'selector__k': 500, 'clasifier__solver': 'saga', 'clasifier__penalty': 'l1', 'clasifier__max_iter': 10000}\n",
      "Mejores puntuaciones: 0.7905 | Params: {'selector__k': 500, 'clasifier__solver': 'saga', 'clasifier__penalty': 'l1', 'clasifier__max_iter': 10000}\n",
      "Media de las puntuaciones: 0.7905 | Params: {'selector__k': 500, 'clasifier__solver': 'saga', 'clasifier__penalty': 'l1', 'clasifier__max_iter': 10000}\n",
      "20231030T193115 : amilcar32 : INFO : Fin resultados\n"
     ]
    }
   ],
   "source": [
    "myfunc.ver_resultados_search(random_search)"
   ]
  },
  {
   "cell_type": "markdown",
   "id": "9a298646",
   "metadata": {
    "papermill": {
     "duration": 0.010227,
     "end_time": "2023-10-30T18:31:16.013072",
     "exception": false,
     "start_time": "2023-10-30T18:31:16.002845",
     "status": "completed"
    },
    "tags": []
   },
   "source": [
    "#### Ver métricas del mejor modelo"
   ]
  },
  {
   "cell_type": "code",
   "execution_count": 10,
   "id": "ea8f8c28",
   "metadata": {
    "execution": {
     "iopub.execute_input": "2023-10-30T18:31:16.033041Z",
     "iopub.status.busy": "2023-10-30T18:31:16.033041Z",
     "iopub.status.idle": "2023-10-30T18:31:17.380419Z",
     "shell.execute_reply": "2023-10-30T18:31:17.377895Z"
    },
    "papermill": {
     "duration": 1.361459,
     "end_time": "2023-10-30T18:31:17.383423",
     "exception": false,
     "start_time": "2023-10-30T18:31:16.021964",
     "status": "completed"
    },
    "tags": []
   },
   "outputs": [
    {
     "name": "stdout",
     "output_type": "stream",
     "text": [
      "20231030T193116 : amilcar32 : INFO : Inicio ver métricas multiclase\n"
     ]
    },
    {
     "name": "stdout",
     "output_type": "stream",
     "text": [
      "              precision    recall  f1-score   support\n",
      "\n",
      "           0       0.40      0.36      0.38        11\n",
      "           1       1.00      0.50      0.67         8\n",
      "           2       0.17      0.12      0.14         8\n",
      "           3       0.43      0.60      0.50         5\n",
      "           4       0.58      0.88      0.70         8\n",
      "           5       0.50      0.33      0.40         6\n",
      "           6       0.44      0.67      0.53         6\n",
      "\n",
      "    accuracy                           0.48        52\n",
      "   macro avg       0.50      0.49      0.47        52\n",
      "weighted avg       0.50      0.48      0.47        52\n",
      "\n",
      "\n",
      "\n",
      "           Exactitud: 0.480769\n",
      "   Precisión (media): 0.503288\n",
      "      Recall (media): 0.494805\n",
      "    F1-score (media): 0.474830\n",
      "\n",
      "\n",
      "AUC para el tipo de cáncer 0-Control.... 0.6208\n",
      "AUC para el tipo de cáncer 1-Bladder.... 0.9034\n",
      "AUC para el tipo de cáncer 2-Breast..... 0.7443\n",
      "AUC para el tipo de cáncer 3-Colorectal. 0.8681\n",
      "AUC para el tipo de cáncer 4-Kidney..... 0.9290\n",
      "AUC para el tipo de cáncer 5-Lung....... 0.9130\n",
      "AUC para el tipo de cáncer 6-Prostate... 0.8841\n",
      "\n",
      "Media de AUC: 0.8375\n"
     ]
    },
    {
     "data": {
      "image/png": "[encoded data removed]",
      "text/plain": [
       "<Figure size 1000x600 with 1 Axes>"
      ]
     },
     "metadata": {},
     "output_type": "display_data"
    },
    {
     "name": "stdout",
     "output_type": "stream",
     "text": [
      "\n",
      "\n"
     ]
    },
    {
     "data": {
      "image/png": "[encoded data removed]",
      "text/plain": [
       "<Figure size 800x400 with 2 Axes>"
      ]
     },
     "metadata": {},
     "output_type": "display_data"
    },
    {
     "name": "stdout",
     "output_type": "stream",
     "text": [
      "\n",
      "\n",
      "Puntuación Jaccard para el cáncer tipo 0-Control.... 0.2353\n",
      "Puntuación Jaccard para el cáncer tipo 1-Bladder.... 0.5000\n",
      "Puntuación Jaccard para el cáncer tipo 2-Breast..... 0.0769\n",
      "Puntuación Jaccard para el cáncer tipo 3-Colorectal. 0.3333\n",
      "Puntuación Jaccard para el cáncer tipo 4-Kidney..... 0.5385\n",
      "Puntuación Jaccard para el cáncer tipo 5-Lung....... 0.2500\n",
      "Puntuación Jaccard para el cáncer tipo 6-Prostate... 0.3636\n",
      "\n",
      "Media de la puntuación de Jaccard: 0.3282\n"
     ]
    }
   ],
   "source": [
    "if M_TIPO.startswith(\"bin\"):\n",
    "    myfunc.ver_metricas(mejor_modelo, X_test, y_test)\n",
    "else:\n",
    "    myfunc.ver_metricas_multi(mejor_modelo, X_test, y_test)\n"
   ]
  },
  {
   "cell_type": "markdown",
   "id": "fd04dbe3",
   "metadata": {
    "papermill": {
     "duration": 0.009519,
     "end_time": "2023-10-30T18:31:17.406439",
     "exception": false,
     "start_time": "2023-10-30T18:31:17.396920",
     "status": "completed"
    },
    "tags": []
   },
   "source": [
    "#### Finalización del notebook"
   ]
  },
  {
   "cell_type": "code",
   "execution_count": 11,
   "id": "277cb2e2",
   "metadata": {
    "execution": {
     "iopub.execute_input": "2023-10-30T18:31:17.443245Z",
     "iopub.status.busy": "2023-10-30T18:31:17.443245Z",
     "iopub.status.idle": "2023-10-30T18:31:17.457291Z",
     "shell.execute_reply": "2023-10-30T18:31:17.455290Z"
    },
    "papermill": {
     "duration": 0.041117,
     "end_time": "2023-10-30T18:31:17.460813",
     "exception": false,
     "start_time": "2023-10-30T18:31:17.419696",
     "status": "completed"
    },
    "tags": []
   },
   "outputs": [
    {
     "name": "stdout",
     "output_type": "stream",
     "text": [
      "20231030T193117 : amilcar32 : INFO : Notebook ha tardado 977 seconds\n"
     ]
    }
   ],
   "source": [
    "end_time = datetime.datetime.now()\n",
    "total_time = end_time - start_time\n",
    "myfunc.verbose(f\"Notebook ha tardado {total_time.seconds} seconds\")"
   ]
  },
  {
   "cell_type": "markdown",
   "id": "063e460b",
   "metadata": {
    "papermill": {
     "duration": 0.017913,
     "end_time": "2023-10-30T18:31:17.497281",
     "exception": false,
     "start_time": "2023-10-30T18:31:17.479368",
     "status": "completed"
    },
    "tags": []
   },
   "source": [
    "#### Guardar métricas"
   ]
  },
  {
   "cell_type": "code",
   "execution_count": 12,
   "id": "81c4079d",
   "metadata": {
    "execution": {
     "iopub.execute_input": "2023-10-30T18:31:17.520677Z",
     "iopub.status.busy": "2023-10-30T18:31:17.519560Z",
     "iopub.status.idle": "2023-10-30T18:31:18.084348Z",
     "shell.execute_reply": "2023-10-30T18:31:18.082350Z"
    },
    "papermill": {
     "duration": 0.577834,
     "end_time": "2023-10-30T18:31:18.088756",
     "exception": false,
     "start_time": "2023-10-30T18:31:17.510922",
     "status": "completed"
    },
    "tags": []
   },
   "outputs": [
    {
     "name": "stdout",
     "output_type": "stream",
     "text": [
      "20231030T193117 : amilcar32 : INFO : Inicio guardar métricas multiclase\n",
      "20231030T193117 : amilcar32 : INFO : Inicio leer fichero ..\\tfm_viu\\ejecuciones\\metricas\\metricas_6578.csv\n",
      "20231030T193117 : amilcar32 : INFO : Fin leer fichero ..\\tfm_viu\\ejecuciones\\metricas\\metricas_6578.csv\n"
     ]
    },
    {
     "name": "stdout",
     "output_type": "stream",
     "text": [
      "20231030T193117 : amilcar32 : INFO : Inicio guardar fichero ..\\tfm_viu\\ejecuciones\\metricas\\metricas_6578.csv\n",
      "20231030T193117 : amilcar32 : INFO : Fichero borrado ..\\tfm_viu\\ejecuciones\\metricas\\metricas_6578.csv\n",
      "20231030T193117 : amilcar32 : INFO : Fin guardar fichero ..\\tfm_viu\\ejecuciones\\metricas\\metricas_6578.csv\n",
      "20231030T193117 : amilcar32 : INFO : Fin guardar métricas multiclase\n",
      "20231030T193117 : amilcar32 : INFO : Inicio leer fichero ..\\tfm_viu\\ejecuciones\\metricas\\metricas_6578.csv\n",
      "20231030T193118 : amilcar32 : INFO : Fin leer fichero ..\\tfm_viu\\ejecuciones\\metricas\\metricas_6578.csv\n"
     ]
    },
    {
     "data": {
      "text/html": [
       "<div>\n",
       "<style scoped>\n",
       "    .dataframe tbody tr th:only-of-type {\n",
       "        vertical-align: middle;\n",
       "    }\n",
       "\n",
       "    .dataframe tbody tr th {\n",
       "        vertical-align: top;\n",
       "    }\n",
       "\n",
       "    .dataframe thead th {\n",
       "        text-align: right;\n",
       "    }\n",
       "</style>\n",
       "<table border=\"1\" class=\"dataframe\">\n",
       "  <thead>\n",
       "    <tr style=\"text-align: right;\">\n",
       "      <th></th>\n",
       "      <th>tipo</th>\n",
       "      <th>select</th>\n",
       "      <th>clasific</th>\n",
       "      <th>semilla</th>\n",
       "      <th>accuracy</th>\n",
       "      <th>precision</th>\n",
       "      <th>recall</th>\n",
       "      <th>f1_score</th>\n",
       "      <th>roc_auc</th>\n",
       "      <th>hostname</th>\n",
       "      <th>total_time_sec</th>\n",
       "      <th>datetime</th>\n",
       "      <th>fichero_modelo</th>\n",
       "      <th>params</th>\n",
       "      <th>shape</th>\n",
       "      <th>features</th>\n",
       "      <th>roc_auc_ovr</th>\n",
       "      <th>indices_auc</th>\n",
       "      <th>indices_jaccard</th>\n",
       "    </tr>\n",
       "  </thead>\n",
       "  <tbody>\n",
       "    <tr>\n",
       "      <th>0</th>\n",
       "      <td>mul_s</td>\n",
       "      <td>MI</td>\n",
       "      <td>LR_L1</td>\n",
       "      <td>6578</td>\n",
       "      <td>0.480769</td>\n",
       "      <td>0.503288</td>\n",
       "      <td>0.494805</td>\n",
       "      <td>0.474830</td>\n",
       "      <td>NaN</td>\n",
       "      <td>amilcar32</td>\n",
       "      <td>977</td>\n",
       "      <td>2023-10-30 19:31:17.926450</td>\n",
       "      <td>modelo_6578_mul_s_MI_LR_L1.pkl</td>\n",
       "      <td>{'selector__k': 500, 'clasifier__solver': 'sag...</td>\n",
       "      <td>X_test:(52, 18875)</td>\n",
       "      <td>['ENSG00000005513.10', 'ENSG00000006453.14', '...</td>\n",
       "      <td>0.837533</td>\n",
       "      <td>[0.6208425720620842, 0.9034090909090909, 0.744...</td>\n",
       "      <td>[0.23529411764705882, 0.5, 0.07692307692307693...</td>\n",
       "    </tr>\n",
       "    <tr>\n",
       "      <th>0</th>\n",
       "      <td>mul_s</td>\n",
       "      <td>MI</td>\n",
       "      <td>LR_EN</td>\n",
       "      <td>6578</td>\n",
       "      <td>0.480769</td>\n",
       "      <td>0.506986</td>\n",
       "      <td>0.494913</td>\n",
       "      <td>0.465786</td>\n",
       "      <td>NaN</td>\n",
       "      <td>amilcar32</td>\n",
       "      <td>1520</td>\n",
       "      <td>2023-10-30 19:14:54.865998</td>\n",
       "      <td>modelo_6578_mul_s_MI_LR_EN.pkl</td>\n",
       "      <td>{'selector__k': 1000, 'clasifier__solver': 'sa...</td>\n",
       "      <td>X_test:(52, 18875)</td>\n",
       "      <td>['ENSG00000003137.9', 'ENSG00000005513.10', 'E...</td>\n",
       "      <td>0.853632</td>\n",
       "      <td>[0.6607538802660754, 0.9119318181818181, 0.727...</td>\n",
       "      <td>[0.2, 0.625, 0.08333333333333333, 0.2, 0.53846...</td>\n",
       "    </tr>\n",
       "    <tr>\n",
       "      <th>0</th>\n",
       "      <td>mul_s</td>\n",
       "      <td>ANOVA</td>\n",
       "      <td>SVM</td>\n",
       "      <td>6578</td>\n",
       "      <td>0.365385</td>\n",
       "      <td>0.363152</td>\n",
       "      <td>0.374892</td>\n",
       "      <td>0.331833</td>\n",
       "      <td>NaN</td>\n",
       "      <td>amilcar32</td>\n",
       "      <td>2</td>\n",
       "      <td>2023-10-30 18:49:29.375647</td>\n",
       "      <td>modelo_6578_mul_s_ANOVA_SVM.pkl</td>\n",
       "      <td>{'selector__k': 200, 'clasifier__kernel': 'rbf...</td>\n",
       "      <td>X_test:(52, 18875)</td>\n",
       "      <td>['ENSG00000000938.13', 'ENSG00000005381.9', 'E...</td>\n",
       "      <td>0.760575</td>\n",
       "      <td>[0.44345898004434586, 0.8210227272727272, 0.66...</td>\n",
       "      <td>[0.08333333333333333, 0.5, 0.0, 0.071428571428...</td>\n",
       "    </tr>\n",
       "  </tbody>\n",
       "</table>\n",
       "</div>"
      ],
      "text/plain": [
       "    tipo select clasific  semilla  accuracy  precision    recall  f1_score  \\\n",
       "0  mul_s     MI    LR_L1     6578  0.480769   0.503288  0.494805  0.474830   \n",
       "0  mul_s     MI    LR_EN     6578  0.480769   0.506986  0.494913  0.465786   \n",
       "0  mul_s  ANOVA      SVM     6578  0.365385   0.363152  0.374892  0.331833   \n",
       "\n",
       "   roc_auc   hostname  total_time_sec                    datetime  \\\n",
       "0      NaN  amilcar32             977  2023-10-30 19:31:17.926450   \n",
       "0      NaN  amilcar32            1520  2023-10-30 19:14:54.865998   \n",
       "0      NaN  amilcar32               2  2023-10-30 18:49:29.375647   \n",
       "\n",
       "                    fichero_modelo  \\\n",
       "0   modelo_6578_mul_s_MI_LR_L1.pkl   \n",
       "0   modelo_6578_mul_s_MI_LR_EN.pkl   \n",
       "0  modelo_6578_mul_s_ANOVA_SVM.pkl   \n",
       "\n",
       "                                              params               shape  \\\n",
       "0  {'selector__k': 500, 'clasifier__solver': 'sag...  X_test:(52, 18875)   \n",
       "0  {'selector__k': 1000, 'clasifier__solver': 'sa...  X_test:(52, 18875)   \n",
       "0  {'selector__k': 200, 'clasifier__kernel': 'rbf...  X_test:(52, 18875)   \n",
       "\n",
       "                                            features  roc_auc_ovr  \\\n",
       "0  ['ENSG00000005513.10', 'ENSG00000006453.14', '...     0.837533   \n",
       "0  ['ENSG00000003137.9', 'ENSG00000005513.10', 'E...     0.853632   \n",
       "0  ['ENSG00000000938.13', 'ENSG00000005381.9', 'E...     0.760575   \n",
       "\n",
       "                                         indices_auc  \\\n",
       "0  [0.6208425720620842, 0.9034090909090909, 0.744...   \n",
       "0  [0.6607538802660754, 0.9119318181818181, 0.727...   \n",
       "0  [0.44345898004434586, 0.8210227272727272, 0.66...   \n",
       "\n",
       "                                     indices_jaccard  \n",
       "0  [0.23529411764705882, 0.5, 0.07692307692307693...  \n",
       "0  [0.2, 0.625, 0.08333333333333333, 0.2, 0.53846...  \n",
       "0  [0.08333333333333333, 0.5, 0.0, 0.071428571428...  "
      ]
     },
     "metadata": {},
     "output_type": "display_data"
    }
   ],
   "source": [
    "if M_TIPO.startswith(\"bin\"):\n",
    "    myfunc.save_metricas_to_csv(random_search, X_test, y_test, M_TIPO, M_SELECT, M_CLASIF, total_time, SEMILLA, myfunc.MET_DIR, M_FICHERO, fichero_modelo)\n",
    "else:\n",
    "    myfunc.save_metricas_multi_to_csv(random_search, X_test, y_test, M_TIPO, M_SELECT, M_CLASIF, total_time, SEMILLA, myfunc.MET_DIR, M_FICHERO, fichero_modelo)\n",
    "\n",
    "df1=myfunc.read_metricas_to_df(myfunc.MET_DIR,M_FICHERO)\n",
    "\n",
    "display(df1.sort_values(\"datetime\", ascending=False)[:3])\n"
   ]
  },
  {
   "cell_type": "markdown",
   "id": "4fb11ec8",
   "metadata": {
    "papermill": {
     "duration": 0.018932,
     "end_time": "2023-10-30T18:31:18.135884",
     "exception": false,
     "start_time": "2023-10-30T18:31:18.116952",
     "status": "completed"
    },
    "tags": []
   },
   "source": [
    "#### Guardar resultados"
   ]
  },
  {
   "cell_type": "code",
   "execution_count": 13,
   "id": "0058efe7",
   "metadata": {
    "execution": {
     "iopub.execute_input": "2023-10-30T18:31:18.184289Z",
     "iopub.status.busy": "2023-10-30T18:31:18.180284Z",
     "iopub.status.idle": "2023-10-30T18:31:18.217769Z",
     "shell.execute_reply": "2023-10-30T18:31:18.217135Z"
    },
    "papermill": {
     "duration": 0.064335,
     "end_time": "2023-10-30T18:31:18.222424",
     "exception": false,
     "start_time": "2023-10-30T18:31:18.158089",
     "status": "completed"
    },
    "tags": []
   },
   "outputs": [
    {
     "name": "stdout",
     "output_type": "stream",
     "text": [
      "20231030T193118 : amilcar32 : INFO : Inicio guardar resultados\n",
      "20231030T193118 : amilcar32 : INFO : Inicio guardar fichero ..\\tfm_viu\\ejecuciones\\metricas\\resultados_6578_mul_s-MI-LR_L1.csv\n",
      "20231030T193118 : amilcar32 : INFO : Fin guardar fichero ..\\tfm_viu\\ejecuciones\\metricas\\resultados_6578_mul_s-MI-LR_L1.csv\n",
      "20231030T193118 : amilcar32 : INFO : Fin guardar resultados\n"
     ]
    }
   ],
   "source": [
    "fichero_resultados=R_FICHERO+\"_\"+M_TIPO+\"-\"+M_SELECT+\"-\"+M_CLASIF+\".csv\"\n",
    "myfunc.save_resultados_to_csv(M_TIPO, M_SELECT, M_CLASIF,  random_search, myfunc.MET_DIR, fichero_resultados)\n"
   ]
  }
 ],
 "metadata": {
  "kernelspec": {
   "display_name": "Python 3 (ipykernel)",
   "language": "python",
   "name": "python3"
  },
  "language_info": {
   "codemirror_mode": {
    "name": "ipython",
    "version": 3
   },
   "file_extension": ".py",
   "mimetype": "text/x-python",
   "name": "python",
   "nbconvert_exporter": "python",
   "pygments_lexer": "ipython3",
   "version": "3.10.12"
  },
  "papermill": {
   "default_parameters": {},
   "duration": 982.137721,
   "end_time": "2023-10-30T18:31:19.241924",
   "environment_variables": {},
   "exception": null,
   "input_path": "03_entrenamiento.ipynb",
   "output_path": "ejecuciones\\training\\03_entrenamiento.20231030T191456.param_0000_6578_mul_s_MI_LR_L1.output.ipynb",
   "parameters": {
    "MAX_ITERS": 500,
    "M_CLASIF": "LR_L1",
    "M_FICHERO": "metricas_6578",
    "M_SELECT": "MI",
    "M_TIPO": "mul_s",
    "PRE_DATA_FILE": "rows_transpose_norm_by_gene_id_with_target_num_",
    "P_FICHERO": "param_0000_6578_mul_s_MI_LR_L1.yaml",
    "R_FICHERO": "resultados_6578",
    "SCORING": "roc_auc_ovr",
    "SEMILLA": 6578,
    "eval_clasifier": "LogisticRegressionCV(random_state=SEMILLA)",
    "eval_selector": "SelectKBest(score_func=mutual_info_classif_state)",
    "param_distributions": {
     "clasifier__max_iter": [
      10000
     ],
     "clasifier__penalty": [
      "l1"
     ],
     "clasifier__solver": [
      "saga"
     ],
     "selector__k": [
      500
     ]
    }
   },
   "start_time": "2023-10-30T18:14:57.104203",
   "version": "2.4.0"
  }
 },
 "nbformat": 4,
 "nbformat_minor": 5
}