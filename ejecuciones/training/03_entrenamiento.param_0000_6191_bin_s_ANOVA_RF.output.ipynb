{
 "cells": [
  {
   "cell_type": "markdown",
   "id": "1d1271d1",
   "metadata": {
    "papermill": {
     "duration": 0.003511,
     "end_time": "2023-10-30T05:35:10.239388",
     "exception": false,
     "start_time": "2023-10-30T05:35:10.235877",
     "status": "completed"
    },
    "tags": []
   },
   "source": [
    "##### Inicio"
   ]
  },
  {
   "cell_type": "markdown",
   "id": "8e4ac649",
   "metadata": {
    "papermill": {
     "duration": 0.002715,
     "end_time": "2023-10-30T05:35:10.245057",
     "exception": false,
     "start_time": "2023-10-30T05:35:10.242342",
     "status": "completed"
    },
    "tags": []
   },
   "source": [
    "#### Carga de datos"
   ]
  },
  {
   "cell_type": "code",
   "execution_count": 1,
   "id": "178f6ba3",
   "metadata": {
    "execution": {
     "iopub.execute_input": "2023-10-30T05:35:10.251692Z",
     "iopub.status.busy": "2023-10-30T05:35:10.251470Z",
     "iopub.status.idle": "2023-10-30T05:35:11.115973Z",
     "shell.execute_reply": "2023-10-30T05:35:11.115334Z"
    },
    "papermill": {
     "duration": 0.869487,
     "end_time": "2023-10-30T05:35:11.117315",
     "exception": false,
     "start_time": "2023-10-30T05:35:10.247828",
     "status": "completed"
    },
    "tags": []
   },
   "outputs": [
    {
     "name": "stdout",
     "output_type": "stream",
     "text": [
      "CPU_COUNT: 8; NODE: amilcar22; sys.version: 3.10.12 (main, Jul  5 2023, 19:22:19) [GCC 11.2.0]\n",
      "LOKY_MAX_CPU_COUNT: 6\n",
      "OMP_NUM_THREADS: 2\n"
     ]
    }
   ],
   "source": [
    "import os\n",
    "import numpy as np\n",
    "import pandas as pd\n",
    "import datetime\n",
    "import sklearn\n",
    "import logging\n",
    "import warnings\n",
    "\n",
    "from sklearn.pipeline import Pipeline\n",
    "from sklearn.model_selection import RandomizedSearchCV, KFold, cross_val_score, train_test_split\n",
    "from sklearn.metrics import accuracy_score, confusion_matrix, classification_report, roc_auc_score\n",
    "\n",
    "#  cargar algoritmos para aprendizaje supervisado\n",
    "from sklearn.feature_selection import SelectKBest, f_classif, SelectFromModel, mutual_info_classif\n",
    "from sklearn.svm import SVC\n",
    "from sklearn.ensemble import RandomForestClassifier\n",
    "from sklearn.linear_model import LogisticRegression,LogisticRegressionCV\n",
    "\n",
    "# importar fichero con utilidades propias\n",
    "from commons import myfunctions as myfunc\n"
   ]
  },
  {
   "cell_type": "markdown",
   "id": "275127df",
   "metadata": {
    "papermill": {
     "duration": 0.002536,
     "end_time": "2023-10-30T05:35:11.122678",
     "exception": false,
     "start_time": "2023-10-30T05:35:11.120142",
     "status": "completed"
    },
    "tags": []
   },
   "source": [
    "#### Parámetros a utilizar en el entrenamiento.\n",
    "\n",
    "Se indican los 3 algoritmos de *selección de características* (eval_selector_xxx) y los 3 algoritmos para la _clasificación_ (eval_clasifier_xxx)\n",
    "\n",
    "En *param_distributions* se indicar los parámetros que utilizan los algoritmos en la función RandomSearchCV.\n",
    "\n",
    "Esta celda tiene la etiqueta **parameters** que servirá para poder lanzar los entrenamientos con la utilidad **papermill** pasándole un fichero con los parámetros. Los nuevos parámetros se situarán tras esta celda para tener prevalencia."
   ]
  },
  {
   "cell_type": "code",
   "execution_count": 2,
   "id": "20449b56",
   "metadata": {
    "execution": {
     "iopub.execute_input": "2023-10-30T05:35:11.128743Z",
     "iopub.status.busy": "2023-10-30T05:35:11.128435Z",
     "iopub.status.idle": "2023-10-30T05:35:11.135108Z",
     "shell.execute_reply": "2023-10-30T05:35:11.134563Z"
    },
    "papermill": {
     "duration": 0.011074,
     "end_time": "2023-10-30T05:35:11.136232",
     "exception": false,
     "start_time": "2023-10-30T05:35:11.125158",
     "status": "completed"
    },
    "tags": [
     "parameters"
    ]
   },
   "outputs": [
    {
     "name": "stdout",
     "output_type": "stream",
     "text": [
      "20231030T063511 : amilcar22 : INFO : Utilizando parámetros de mul_m\n"
     ]
    }
   ],
   "source": [
    "#  Parametros para el entrenamiento\n",
    "\n",
    "SEMILLA=        42\n",
    "M_TIPO=         \"mul_m\"\n",
    "M_SELECT=       \"MI\"\n",
    "M_CLASIF=       \"SVM\"\n",
    "R_FICHERO=      \"resultados\"\n",
    "M_FICHERO=      \"metricas\"\n",
    "PRE_DATA_FILE=  \"rows_transpose_norm_by_gene_id_with_target_num_\"\n",
    "SCORING=        \"roc_auc_ovr\" \n",
    "MAX_ITERS=      100\n",
    "\n",
    "def mutual_info_classif_state(X, y):\n",
    "    return mutual_info_classif(X, y, random_state=SEMILLA)\n",
    "\n",
    "eval_selector_mi = \"SelectKBest(score_func=mutual_info_classif_state)\"\n",
    "eval_selector_rf=  \"SelectFromModel(estimator=RandomForestClassifier(random_state=SEMILLA), threshold=-np.inf)\"\n",
    "eval_selector_anova=  \"SelectKBest(score_func=f_classif)\"\n",
    "\n",
    "eval_clasifier_svm= \"SVC(probability=True, random_state=SEMILLA)\"\n",
    "eval_clasifier_rf= \"RandomForestClassifier(random_state=SEMILLA)\"\n",
    "eval_clasifier_lr= \"LogisticRegressionCV(random_state=SEMILLA)\"\n",
    "\n",
    "if M_TIPO.startswith(\"bin_m\"):\n",
    "    myfunc.verbose(f\"Utilizando parámetros de {M_TIPO}\")\n",
    "    eval_selector = eval_selector_mi\n",
    "    eval_clasifier = eval_clasifier_svm\n",
    "\n",
    "    SEMILLA = 6578\n",
    "    M_SELECT = \"MI\"\n",
    "    M_CLASIF = \"SVM\"\n",
    "    param_distributions = {'selector__k': [1000], \n",
    "         'clasifier__kernel': ['rbf'], 'clasifier__gamma': [0.01], 'clasifier__C': [100]}\n",
    "elif M_TIPO.startswith(\"bin_s\"):\n",
    "    myfunc.verbose(f\"Utilizando parámetros de {M_TIPO}\")\n",
    "    eval_selector = eval_selector_rf\n",
    "    eval_clasifier = eval_clasifier_lr\n",
    "\n",
    "    SEMILLA = 6191\n",
    "    M_SELECT = \"RF\"\n",
    "    M_CLASIF = \"LR_L2\"\n",
    "    param_distributions = {'selector__max_features': [1000], 'selector__estimator__n_estimators': [200], \n",
    "        'clasifier__solver': ['lbfgs'], 'clasifier__penalty': ['l2'], 'clasifier__max_iter': [10000]}\n",
    "\n",
    "elif M_TIPO.startswith(\"mul_m\"):\n",
    "    myfunc.verbose(f\"Utilizando parámetros de {M_TIPO}\")\n",
    " \n",
    "    eval_selector = eval_selector_rf\n",
    "    eval_clasifier = eval_clasifier_lr\n",
    "\n",
    "    SEMILLA = 6191\n",
    "    M_SELECT = \"RF\"\n",
    "    M_CLASIF = \"LR_L2\"\n",
    "    param_distributions = {'selector__max_features': [1000], 'selector__estimator__n_estimators': [400], \n",
    "        'clasifier__solver': ['lbfgs'], 'clasifier__penalty': ['l2'], 'clasifier__max_iter': [10000]}\n",
    "\n",
    "else:\n",
    "    # M_TIPO.startswith(\"mul_s\"):\n",
    "    myfunc.verbose(f\"Utilizando parámetros de {M_TIPO}\")\n",
    "    eval_selector = eval_selector_anova\n",
    "    eval_clasifier = eval_clasifier_lr\n",
    "\n",
    "    SEMILLA = 1860\n",
    "    M_SELECT = \"ANOVA\"\n",
    "    M_CLASIF = \"LR_L2\"\n",
    "    param_distributions = {'selector__k': [1000], \n",
    "        'clasifier__solver': ['saga'], 'clasifier__penalty': ['l2'], 'clasifier__max_iter': [10000]}\n",
    "\n"
   ]
  },
  {
   "cell_type": "code",
   "execution_count": 3,
   "id": "822f89b9",
   "metadata": {
    "execution": {
     "iopub.execute_input": "2023-10-30T05:35:11.142271Z",
     "iopub.status.busy": "2023-10-30T05:35:11.141975Z",
     "iopub.status.idle": "2023-10-30T05:35:11.145553Z",
     "shell.execute_reply": "2023-10-30T05:35:11.145072Z"
    },
    "papermill": {
     "duration": 0.008007,
     "end_time": "2023-10-30T05:35:11.146862",
     "exception": false,
     "start_time": "2023-10-30T05:35:11.138855",
     "status": "completed"
    },
    "tags": [
     "injected-parameters"
    ]
   },
   "outputs": [],
   "source": [
    "# Parameters\n",
    "M_TIPO = \"bin_s\"\n",
    "M_SELECT = \"ANOVA\"\n",
    "M_CLASIF = \"RF\"\n",
    "P_FICHERO = \"param_0000_6191_bin_s_ANOVA_RF.yaml\"\n",
    "R_FICHERO = \"resultados_6191\"\n",
    "M_FICHERO = \"metricas_6191\"\n",
    "PRE_DATA_FILE = \"rows_transpose_norm_by_gene_id_with_target_num_\"\n",
    "SCORING = \"roc_auc_ovr\"\n",
    "SEMILLA = 6191\n",
    "MAX_ITERS = 500\n",
    "eval_selector = \"SelectKBest(score_func=f_classif)\"\n",
    "eval_clasifier = \"RandomForestClassifier(random_state=SEMILLA)\"\n",
    "param_distributions = {\n",
    "    \"selector__k\": [150],\n",
    "    \"clasifier__n_estimators\": [50],\n",
    "    \"clasifier__min_samples_split\": [20],\n",
    "    \"clasifier__min_samples_leaf\": [5],\n",
    "    \"clasifier__max_features\": [\"sqrt\"],\n",
    "    \"clasifier__max_depth\": [\"None\"],\n",
    "    \"clasifier__bootstrap\": [True],\n",
    "}\n"
   ]
  },
  {
   "cell_type": "code",
   "execution_count": 4,
   "id": "1ea0205a",
   "metadata": {
    "execution": {
     "iopub.execute_input": "2023-10-30T05:35:11.152853Z",
     "iopub.status.busy": "2023-10-30T05:35:11.152706Z",
     "iopub.status.idle": "2023-10-30T05:35:11.155443Z",
     "shell.execute_reply": "2023-10-30T05:35:11.154973Z"
    },
    "papermill": {
     "duration": 0.00703,
     "end_time": "2023-10-30T05:35:11.156536",
     "exception": false,
     "start_time": "2023-10-30T05:35:11.149506",
     "status": "completed"
    },
    "tags": []
   },
   "outputs": [],
   "source": [
    "DATA_FILE = PRE_DATA_FILE + M_TIPO\n",
    "\n",
    "# si viene \"None\" en el parámetro max_depth, se le quitan las comillas para que no sea entendido por el algoritmo como un texto\n",
    "if \"clasifier__max_depth\" in param_distributions:\n",
    "    param_distributions['clasifier__max_depth'] = [None if x == 'None' else x for x in param_distributions['clasifier__max_depth']]"
   ]
  },
  {
   "cell_type": "markdown",
   "id": "a6558828",
   "metadata": {
    "papermill": {
     "duration": 0.00261,
     "end_time": "2023-10-30T05:35:11.161764",
     "exception": false,
     "start_time": "2023-10-30T05:35:11.159154",
     "status": "completed"
    },
    "tags": []
   },
   "source": [
    "Asignar los algoritmos que se utilizarán en la función RandomSearchCV"
   ]
  },
  {
   "cell_type": "code",
   "execution_count": 5,
   "id": "a57faabe",
   "metadata": {
    "execution": {
     "iopub.execute_input": "2023-10-30T05:35:11.167996Z",
     "iopub.status.busy": "2023-10-30T05:35:11.167593Z",
     "iopub.status.idle": "2023-10-30T05:35:11.170634Z",
     "shell.execute_reply": "2023-10-30T05:35:11.169976Z"
    },
    "papermill": {
     "duration": 0.007713,
     "end_time": "2023-10-30T05:35:11.172102",
     "exception": false,
     "start_time": "2023-10-30T05:35:11.164389",
     "status": "completed"
    },
    "tags": []
   },
   "outputs": [],
   "source": [
    "algor_selector=eval(eval_selector)\n",
    "algor_clasifier=eval(eval_clasifier)"
   ]
  },
  {
   "cell_type": "markdown",
   "id": "f561f62b",
   "metadata": {
    "papermill": {
     "duration": 0.003467,
     "end_time": "2023-10-30T05:35:11.179032",
     "exception": false,
     "start_time": "2023-10-30T05:35:11.175565",
     "status": "completed"
    },
    "tags": []
   },
   "source": [
    "#### Comprobar el entorno y leer fichero de muestras"
   ]
  },
  {
   "cell_type": "code",
   "execution_count": 6,
   "id": "2ccdb484",
   "metadata": {
    "execution": {
     "iopub.execute_input": "2023-10-30T05:35:11.186589Z",
     "iopub.status.busy": "2023-10-30T05:35:11.186412Z",
     "iopub.status.idle": "2023-10-30T05:35:11.348967Z",
     "shell.execute_reply": "2023-10-30T05:35:11.348335Z"
    },
    "papermill": {
     "duration": 0.167844,
     "end_time": "2023-10-30T05:35:11.350282",
     "exception": false,
     "start_time": "2023-10-30T05:35:11.182438",
     "status": "completed"
    },
    "tags": []
   },
   "outputs": [
    {
     "name": "stdout",
     "output_type": "stream",
     "text": [
      "20231030T063511 : amilcar22 : INFO : Encontrada carpeta DATA_DIR=../tfm_git/datos\n",
      "20231030T063511 : amilcar22 : INFO : Encontrada carpeta CFDNA_DIR=../tfm_git/datos/cfDNA_5hmC\n",
      "20231030T063511 : amilcar22 : INFO : Encontrada carpeta GENCODE_DIR=../tfm_git/datos/gencode\n",
      "20231030T063511 : amilcar22 : INFO : Encontrada carpeta H5_DIR=../tfm_git/datos/h5\n",
      "20231030T063511 : amilcar22 : INFO : Encontrada carpeta LOG_DIR=../tfm_git/datos/logs\n",
      "20231030T063511 : amilcar22 : INFO : Encontrada carpeta CSV_DIR=../tfm_git/datos/csv\n",
      "20231030T063511 : amilcar22 : INFO : Encontrada carpeta MODEL_DIR=../tfm_git/ejecuciones/modelos\n",
      "20231030T063511 : amilcar22 : INFO : Encontrada carpeta EXEC_DIR=../tfm_git/ejecuciones\n",
      "20231030T063511 : amilcar22 : INFO : Encontrada carpeta MET_DIR=../tfm_git/ejecuciones/metricas\n",
      "20231030T063511 : amilcar22 : INFO : Inicio leer fichero h5 ../tfm_git/datos/h5/rows_transpose_norm_by_gene_id_with_target_num_bin_s.h5\n",
      "20231030T063511 : amilcar22 : INFO : Leyendo clave /df\n",
      "20231030T063511 : amilcar22 : INFO : Tamaño (443, 18876)\n",
      "20231030T063511 : amilcar22 : INFO : Fin leer fichero h5 ../tfm_git/datos/h5/rows_transpose_norm_by_gene_id_with_target_num_bin_s.h5\n"
     ]
    },
    {
     "data": {
      "text/plain": [
       "target\n",
       "0    221\n",
       "1    222\n",
       "dtype: int64"
      ]
     },
     "metadata": {},
     "output_type": "display_data"
    },
    {
     "name": "stdout",
     "output_type": "stream",
     "text": [
      "Shape df: (443, 18876)\n"
     ]
    },
    {
     "name": "stdout",
     "output_type": "stream",
     "text": [
      "Shape X_train: (354, 18875)\n",
      "Shape X_test: (89, 18875)\n"
     ]
    }
   ],
   "source": [
    "start_time = datetime.datetime.now()\n",
    "\n",
    "myfunc.reset_vars()\n",
    "\n",
    "myfunc.NOTEBK_FILENAME = myfunc.get_nb_name()\n",
    "\n",
    "myfunc.check_enviroment(myfunc.DATA_DIR, myfunc.CFDNA_DIR, myfunc.GENCODE_DIR, myfunc.H5_DIR, myfunc.LOG_DIR, myfunc.CSV_DIR, myfunc.MODEL_DIR, myfunc.EXEC_DIR, myfunc.MET_DIR)\n",
    "\n",
    "# Leer fichero con las muestras\n",
    "df_t = myfunc.read_h5_to_df(DATA_FILE, myfunc.H5_DIR)\n",
    "display(df_t.groupby(\"target\").size())\n",
    "print(\"Shape df:\",df_t.shape)\n",
    "\n",
    "# Separar caracteristicas/genes de las etiquetas/tipos de cáncer\n",
    "X = df_t.iloc[:, :-1]  # Todas las columnas excepto la última\n",
    "y = df_t.iloc[:, -1]  # La última columna contiene los identificadores de los tipos de cáncer\n",
    "\n",
    "#  Crear el conjunto de datos de entrenamiento y de pruebas, y se fija la semilla para siempre coger el mismo juego de muestras\n",
    "X_train, X_test, y_train, y_test = train_test_split(X, y, test_size=0.2, shuffle=True, random_state=42)\n",
    "print(\"Shape X_train:\",X_train.shape)\n",
    "print(\"Shape X_test:\",X_test.shape)\n"
   ]
  },
  {
   "cell_type": "markdown",
   "id": "03e6dbf4",
   "metadata": {
    "papermill": {
     "duration": 0.002789,
     "end_time": "2023-10-30T05:35:11.356254",
     "exception": false,
     "start_time": "2023-10-30T05:35:11.353465",
     "status": "completed"
    },
    "tags": []
   },
   "source": [
    "#### Selección de características y clasificación."
   ]
  },
  {
   "cell_type": "code",
   "execution_count": 7,
   "id": "e76a85e3",
   "metadata": {
    "execution": {
     "iopub.execute_input": "2023-10-30T05:35:11.362705Z",
     "iopub.status.busy": "2023-10-30T05:35:11.362533Z",
     "iopub.status.idle": "2023-10-30T05:35:13.442623Z",
     "shell.execute_reply": "2023-10-30T05:35:13.441935Z"
    },
    "papermill": {
     "duration": 2.084717,
     "end_time": "2023-10-30T05:35:13.443753",
     "exception": false,
     "start_time": "2023-10-30T05:35:11.359036",
     "status": "completed"
    },
    "tags": []
   },
   "outputs": [
    {
     "name": "stdout",
     "output_type": "stream",
     "text": [
      "20231030T063511 : amilcar22 : INFO : Iniciando entrenamiento\n",
      "num_iter: 1 , max_iter: 1\n",
      "Fitting 5 folds for each of 1 candidates, totalling 5 fits\n"
     ]
    },
    {
     "name": "stderr",
     "output_type": "stream",
     "text": [
      "/home/antonio/miniconda3/lib/python3.10/site-packages/sklearn/feature_selection/_univariate_selection.py:112: UserWarning: Features [ 2010  2222  2265  2266  2803  3492  5668  5803  6053  8314  8510  9490\n",
      " 10035 11021 11022 11565 11613 11943 12249 12480 12831 13235 13577 13836\n",
      " 14000 14245 14789 14794 15515 15824 15881 16018 16262 16267 16268 16281\n",
      " 16287 16313 16323 16630 16679 16701 16906 16956 16968 17047 17091 17231\n",
      " 17264 17274 17300 17312 17418 17566 18288 18405 18421 18608 18868] are constant.\n",
      "  warnings.warn(\"Features %s are constant.\" % constant_features_idx, UserWarning)\n",
      "/home/antonio/miniconda3/lib/python3.10/site-packages/sklearn/feature_selection/_univariate_selection.py:113: RuntimeWarning: invalid value encountered in divide\n",
      "  f = msb / msw\n",
      "/home/antonio/miniconda3/lib/python3.10/site-packages/sklearn/feature_selection/_univariate_selection.py:112: UserWarning: Features [ 2222  2265  2266  2803  2833  3415  3492  5668  5803  6053  8314  8510\n",
      "  9090  9490 10475 10477 11021 11565 11613 11943 11996 12249 12831 13235\n",
      " 13300 13836 14000 14245 14789 15397 15515 15824 15881 16018 16262 16267\n",
      " 16268 16277 16313 16322 16372 16630 16679 16701 16819 16905 16906 16968\n",
      " 17047 17091 17231 17264 17273 17274 17300 17312 17540 17679 17963 18374\n",
      " 18421 18530 18608 18868] are constant.\n",
      "  warnings.warn(\"Features %s are constant.\" % constant_features_idx, UserWarning)\n",
      "/home/antonio/miniconda3/lib/python3.10/site-packages/sklearn/feature_selection/_univariate_selection.py:113: RuntimeWarning: invalid value encountered in divide\n",
      "  f = msb / msw\n",
      "/home/antonio/miniconda3/lib/python3.10/site-packages/sklearn/feature_selection/_univariate_selection.py:112: UserWarning: Features [ 2222  2265  2266  2688  2725  2803  2896  3492  4306  5668  5803  6053\n",
      "  7418  8314  8508  8510  8791  9490 11021 11565 11613 11943 12249 12831\n",
      " 13047 13235 13836 13848 14000 14015 14245 14451 14789 15515 15563 15785\n",
      " 15824 15881 16018 16205 16262 16267 16268 16312 16313 16318 16630 16667\n",
      " 16679 16701 16870 16906 16968 17024 17047 17055 17075 17091 17123 17231\n",
      " 17264 17274 17300 17312 18375 18421 18486 18546 18608 18679 18692 18868] are constant.\n",
      "  warnings.warn(\"Features %s are constant.\" % constant_features_idx, UserWarning)\n",
      "/home/antonio/miniconda3/lib/python3.10/site-packages/sklearn/feature_selection/_univariate_selection.py:113: RuntimeWarning: invalid value encountered in divide\n",
      "  f = msb / msw\n"
     ]
    },
    {
     "name": "stderr",
     "output_type": "stream",
     "text": [
      "/home/antonio/miniconda3/lib/python3.10/site-packages/sklearn/feature_selection/_univariate_selection.py:112: UserWarning: Features [  298  1733  2222  2265  2266  2553  2803  3492  5668  5803  6053  6984\n",
      "  7416  8314  8510  9490 11020 11021 11565 11613 11943 12249 12831 12888\n",
      " 12973 13235 13836 14000 14245 14735 14789 14995 15401 15515 15824 15881\n",
      " 16018 16260 16262 16267 16268 16278 16279 16313 16630 16679 16701 16731\n",
      " 16906 16968 17047 17091 17231 17264 17274 17300 17312 17741 18245 18421\n",
      " 18592 18608 18698 18868] are constant.\n",
      "  warnings.warn(\"Features %s are constant.\" % constant_features_idx, UserWarning)\n",
      "/home/antonio/miniconda3/lib/python3.10/site-packages/sklearn/feature_selection/_univariate_selection.py:113: RuntimeWarning: invalid value encountered in divide\n",
      "  f = msb / msw\n",
      "/home/antonio/miniconda3/lib/python3.10/site-packages/sklearn/feature_selection/_univariate_selection.py:112: UserWarning: Features [ 1085  1508  2222  2265  2266  2803  3492  5533  5668  5803  6053  8314\n",
      "  8510  8513  9490 11021 11565 11613 11943 12249 12831 13235 13522 13836\n",
      " 13860 13959 14000 14244 14245 14480 14559 14789 14941 15183 15515 15824\n",
      " 15881 16018 16262 16267 16268 16294 16313 16519 16630 16679 16701 16906\n",
      " 16968 17047 17091 17093 17231 17264 17274 17300 17312 18421 18608 18868] are constant.\n",
      "  warnings.warn(\"Features %s are constant.\" % constant_features_idx, UserWarning)\n",
      "/home/antonio/miniconda3/lib/python3.10/site-packages/sklearn/feature_selection/_univariate_selection.py:113: RuntimeWarning: invalid value encountered in divide\n",
      "  f = msb / msw\n"
     ]
    },
    {
     "name": "stdout",
     "output_type": "stream",
     "text": [
      "Mejores Hiperparámetros: {'selector__k': 150, 'clasifier__n_estimators': 50, 'clasifier__min_samples_split': 20, 'clasifier__min_samples_leaf': 5, 'clasifier__max_features': 'sqrt', 'clasifier__max_depth': None, 'clasifier__bootstrap': True}\n",
      "Mejor Puntuación: 0.7437\n",
      "20231030T063513 : amilcar22 : INFO : Fin entrenamiento\n"
     ]
    },
    {
     "name": "stderr",
     "output_type": "stream",
     "text": [
      "/home/antonio/miniconda3/lib/python3.10/site-packages/sklearn/feature_selection/_univariate_selection.py:112: UserWarning: Features [ 2222  2265  2266  2803  3492  5668  5803  6053  8314  8510  9490 11021\n",
      " 11565 11613 11943 12249 12831 13235 13836 14000 14245 14789 15515 15824\n",
      " 15881 16018 16262 16267 16268 16313 16630 16679 16701 16906 16968 17047\n",
      " 17091 17231 17264 17274 17300 17312 18421 18608 18868] are constant.\n",
      "  warnings.warn(\"Features %s are constant.\" % constant_features_idx, UserWarning)\n",
      "/home/antonio/miniconda3/lib/python3.10/site-packages/sklearn/feature_selection/_univariate_selection.py:113: RuntimeWarning: invalid value encountered in divide\n",
      "  f = msb / msw\n"
     ]
    }
   ],
   "source": [
    "myfunc.verbose(\"Iniciando entrenamiento\")\n",
    "\n",
    "kf = KFold(n_splits=5, shuffle=True, random_state=SEMILLA)\n",
    "\n",
    "# Crear el pipeline para el flujo de tareas\n",
    "tasks_pipeline = Pipeline([\n",
    "    ('selector', algor_selector),\n",
    "    ('clasifier', algor_clasifier)\n",
    "])\n",
    "\n",
    "# MAX_ITERS puede limitar el número de iteraciones si son excesivas para las combinaciones de parámetros buscando un óptimo local, \n",
    "# sino funcionaría como GridSearchCV al revisar todas las cominaciones de los parámetros\n",
    "num_iteraciones = 1\n",
    "num_iteraciones = num_iteraciones * np.prod([len(elemento1) for _, elemento1 in param_distributions.items()])\n",
    "max_iteraciones = num_iteraciones if num_iteraciones <= MAX_ITERS else MAX_ITERS\n",
    "print(\"num_iter:\",num_iteraciones,\", max_iter:\",max_iteraciones)\n",
    "\n",
    "random_search = RandomizedSearchCV(\n",
    "    tasks_pipeline, \n",
    "    param_distributions, \n",
    "    n_iter=max_iteraciones,\n",
    "    scoring=SCORING,\n",
    "    cv=kf,\n",
    "    verbose=3, \n",
    "    random_state=SEMILLA, \n",
    "    n_jobs=-1\n",
    "    )\n",
    "\n",
    "# Entrenar el modelo\n",
    "random_search.fit(X_train, y_train)\n",
    "\n",
    "# Ver los mejores hiperparámetros encontrados\n",
    "print(f'Mejores Hiperparámetros: {random_search.best_params_}')\n",
    "print(f'Mejor Puntuación: {random_search.best_score_:.4f}')\n",
    "\n",
    "# Nos quedamos con el mejor modelo para ver las métricas\n",
    "mejor_modelo = random_search.best_estimator_\n",
    "\n",
    "myfunc.verbose(\"Fin entrenamiento\")"
   ]
  },
  {
   "cell_type": "markdown",
   "id": "0130f32a",
   "metadata": {
    "papermill": {
     "duration": 0.002938,
     "end_time": "2023-10-30T05:35:13.450072",
     "exception": false,
     "start_time": "2023-10-30T05:35:13.447134",
     "status": "completed"
    },
    "tags": []
   },
   "source": [
    "#### Guardar modelo"
   ]
  },
  {
   "cell_type": "code",
   "execution_count": 8,
   "id": "f85fe35f",
   "metadata": {
    "execution": {
     "iopub.execute_input": "2023-10-30T05:35:13.457077Z",
     "iopub.status.busy": "2023-10-30T05:35:13.456871Z",
     "iopub.status.idle": "2023-10-30T05:35:13.478473Z",
     "shell.execute_reply": "2023-10-30T05:35:13.478029Z"
    },
    "papermill": {
     "duration": 0.026762,
     "end_time": "2023-10-30T05:35:13.479800",
     "exception": false,
     "start_time": "2023-10-30T05:35:13.453038",
     "status": "completed"
    },
    "tags": []
   },
   "outputs": [
    {
     "name": "stdout",
     "output_type": "stream",
     "text": [
      "20231030T063513 : amilcar22 : INFO : Inicio guardar fichero ../tfm_git/ejecuciones/modelos/modelo_6191_bin_s_ANOVA_RF.pkl\n",
      "20231030T063513 : amilcar22 : INFO : Fin guardar fichero ../tfm_git/ejecuciones/modelos/modelo_6191_bin_s_ANOVA_RF.pkl\n"
     ]
    }
   ],
   "source": [
    "fichero_modelo = str.replace(\"modelo_\"+str(SEMILLA).zfill(4)+\"_\"+M_TIPO+\"_\"+M_SELECT+\"_\"+M_CLASIF+\".pkl\", \" \", \"_\")\n",
    "\n",
    "myfunc.save_modelo(mejor_modelo, myfunc.MODEL_DIR, fichero_modelo)"
   ]
  },
  {
   "cell_type": "markdown",
   "id": "00c4a84a",
   "metadata": {
    "papermill": {
     "duration": 0.003469,
     "end_time": "2023-10-30T05:35:13.486588",
     "exception": false,
     "start_time": "2023-10-30T05:35:13.483119",
     "status": "completed"
    },
    "tags": []
   },
   "source": [
    "#### Ver resultados del las iteraciones hechas por RandomSearchCV"
   ]
  },
  {
   "cell_type": "code",
   "execution_count": 9,
   "id": "241afe79",
   "metadata": {
    "execution": {
     "iopub.execute_input": "2023-10-30T05:35:13.493593Z",
     "iopub.status.busy": "2023-10-30T05:35:13.493386Z",
     "iopub.status.idle": "2023-10-30T05:35:13.499578Z",
     "shell.execute_reply": "2023-10-30T05:35:13.499099Z"
    },
    "papermill": {
     "duration": 0.011129,
     "end_time": "2023-10-30T05:35:13.500826",
     "exception": false,
     "start_time": "2023-10-30T05:35:13.489697",
     "status": "completed"
    },
    "tags": []
   },
   "outputs": [
    {
     "name": "stdout",
     "output_type": "stream",
     "text": [
      "20231030T063513 : amilcar22 : INFO : Inicio ver resultados\n",
      "Mejores Hiperparámetros: {'selector__k': 150, 'clasifier__n_estimators': 50, 'clasifier__min_samples_split': 20, 'clasifier__min_samples_leaf': 5, 'clasifier__max_features': 'sqrt', 'clasifier__max_depth': None, 'clasifier__bootstrap': True}\n",
      "Mejores puntuaciones: 0.7437 | Params: {'selector__k': 150, 'clasifier__n_estimators': 50, 'clasifier__min_samples_split': 20, 'clasifier__min_samples_leaf': 5, 'clasifier__max_features': 'sqrt', 'clasifier__max_depth': None, 'clasifier__bootstrap': True}\n",
      "Media de las puntuaciones: 0.7437 | Params: {'selector__k': 150, 'clasifier__n_estimators': 50, 'clasifier__min_samples_split': 20, 'clasifier__min_samples_leaf': 5, 'clasifier__max_features': 'sqrt', 'clasifier__max_depth': None, 'clasifier__bootstrap': True}\n",
      "20231030T063513 : amilcar22 : INFO : Fin resultados\n"
     ]
    }
   ],
   "source": [
    "myfunc.ver_resultados_search(random_search)"
   ]
  },
  {
   "cell_type": "markdown",
   "id": "42cb91fc",
   "metadata": {
    "papermill": {
     "duration": 0.00312,
     "end_time": "2023-10-30T05:35:13.507215",
     "exception": false,
     "start_time": "2023-10-30T05:35:13.504095",
     "status": "completed"
    },
    "tags": []
   },
   "source": [
    "#### Ver métricas del mejor modelo"
   ]
  },
  {
   "cell_type": "code",
   "execution_count": 10,
   "id": "abb3d75d",
   "metadata": {
    "execution": {
     "iopub.execute_input": "2023-10-30T05:35:13.514331Z",
     "iopub.status.busy": "2023-10-30T05:35:13.514162Z",
     "iopub.status.idle": "2023-10-30T05:35:13.921746Z",
     "shell.execute_reply": "2023-10-30T05:35:13.921177Z"
    },
    "papermill": {
     "duration": 0.41244,
     "end_time": "2023-10-30T05:35:13.922885",
     "exception": false,
     "start_time": "2023-10-30T05:35:13.510445",
     "status": "completed"
    },
    "tags": []
   },
   "outputs": [
    {
     "name": "stdout",
     "output_type": "stream",
     "text": [
      "20231030T063513 : amilcar22 : INFO : Inicio ver métricas\n"
     ]
    },
    {
     "name": "stdout",
     "output_type": "stream",
     "text": [
      "              precision    recall  f1-score   support\n",
      "\n",
      "           0       0.60      0.70      0.65        46\n",
      "           1       0.61      0.51      0.56        43\n",
      "\n",
      "    accuracy                           0.61        89\n",
      "   macro avg       0.61      0.60      0.60        89\n",
      "weighted avg       0.61      0.61      0.60        89\n",
      "\n"
     ]
    },
    {
     "name": "stdout",
     "output_type": "stream",
     "text": [
      "\n",
      "\n",
      "   Exactitud: 0.6067\n",
      "   Precisión: 0.6074\n",
      "Sensibilidad: 0.6036\n",
      "    F1-score: 0.6017\n",
      "     AUC ROC: 0.6830\n"
     ]
    },
    {
     "data": {
      "image/png": "[encoded data removed]",
      "text/plain": [
       "<Figure size 300x100 with 2 Axes>"
      ]
     },
     "metadata": {},
     "output_type": "display_data"
    },
    {
     "data": {
      "image/png": "[encoded data removed]",
      "text/plain": [
       "<Figure size 800x500 with 1 Axes>"
      ]
     },
     "metadata": {},
     "output_type": "display_data"
    },
    {
     "name": "stdout",
     "output_type": "stream",
     "text": [
      "20231030T063513 : amilcar22 : INFO : Fin ver métricas\n"
     ]
    }
   ],
   "source": [
    "if M_TIPO.startswith(\"bin\"):\n",
    "    myfunc.ver_metricas(mejor_modelo, X_test, y_test)\n",
    "else:\n",
    "    myfunc.ver_metricas_multi(mejor_modelo, X_test, y_test)\n"
   ]
  },
  {
   "cell_type": "markdown",
   "id": "7d2920c2",
   "metadata": {
    "papermill": {
     "duration": 0.003928,
     "end_time": "2023-10-30T05:35:13.931193",
     "exception": false,
     "start_time": "2023-10-30T05:35:13.927265",
     "status": "completed"
    },
    "tags": []
   },
   "source": [
    "#### Finalización del notebook"
   ]
  },
  {
   "cell_type": "code",
   "execution_count": 11,
   "id": "a13dfb45",
   "metadata": {
    "execution": {
     "iopub.execute_input": "2023-10-30T05:35:13.939637Z",
     "iopub.status.busy": "2023-10-30T05:35:13.939467Z",
     "iopub.status.idle": "2023-10-30T05:35:13.942600Z",
     "shell.execute_reply": "2023-10-30T05:35:13.942201Z"
    },
    "papermill": {
     "duration": 0.008716,
     "end_time": "2023-10-30T05:35:13.943797",
     "exception": false,
     "start_time": "2023-10-30T05:35:13.935081",
     "status": "completed"
    },
    "tags": []
   },
   "outputs": [
    {
     "name": "stdout",
     "output_type": "stream",
     "text": [
      "20231030T063513 : amilcar22 : INFO : Notebook ha tardado 2 seconds\n"
     ]
    }
   ],
   "source": [
    "end_time = datetime.datetime.now()\n",
    "total_time = end_time - start_time\n",
    "myfunc.verbose(f\"Notebook ha tardado {total_time.seconds} seconds\")"
   ]
  },
  {
   "cell_type": "markdown",
   "id": "31e4ea8a",
   "metadata": {
    "papermill": {
     "duration": 0.003966,
     "end_time": "2023-10-30T05:35:13.951833",
     "exception": false,
     "start_time": "2023-10-30T05:35:13.947867",
     "status": "completed"
    },
    "tags": []
   },
   "source": [
    "#### Guardar métricas"
   ]
  },
  {
   "cell_type": "code",
   "execution_count": 12,
   "id": "d925cf70",
   "metadata": {
    "execution": {
     "iopub.execute_input": "2023-10-30T05:35:13.960145Z",
     "iopub.status.busy": "2023-10-30T05:35:13.959975Z",
     "iopub.status.idle": "2023-10-30T05:35:14.127351Z",
     "shell.execute_reply": "2023-10-30T05:35:14.126804Z"
    },
    "papermill": {
     "duration": 0.173019,
     "end_time": "2023-10-30T05:35:14.128689",
     "exception": false,
     "start_time": "2023-10-30T05:35:13.955670",
     "status": "completed"
    },
    "tags": []
   },
   "outputs": [
    {
     "name": "stdout",
     "output_type": "stream",
     "text": [
      "20231030T063513 : amilcar22 : INFO : Inicio guardar métricas\n",
      "20231030T063513 : amilcar22 : INFO : Inicio leer fichero ../tfm_git/ejecuciones/metricas/metricas_6191.csv\n",
      "20231030T063513 : amilcar22 : INFO : Fin leer fichero ../tfm_git/ejecuciones/metricas/metricas_6191.csv\n",
      "20231030T063514 : amilcar22 : INFO : Inicio guardar fichero ../tfm_git/ejecuciones/metricas/metricas_6191.csv\n",
      "20231030T063514 : amilcar22 : INFO : Fichero borrado ../tfm_git/ejecuciones/metricas/metricas_6191.csv\n",
      "20231030T063514 : amilcar22 : INFO : Fin guardar fichero ../tfm_git/ejecuciones/metricas/metricas_6191.csv\n",
      "20231030T063514 : amilcar22 : INFO : Fin guardar métricas\n",
      "20231030T063514 : amilcar22 : INFO : Inicio leer fichero ../tfm_git/ejecuciones/metricas/metricas_6191.csv\n",
      "20231030T063514 : amilcar22 : INFO : Fin leer fichero ../tfm_git/ejecuciones/metricas/metricas_6191.csv\n"
     ]
    },
    {
     "data": {
      "text/html": [
       "<div>\n",
       "<style scoped>\n",
       "    .dataframe tbody tr th:only-of-type {\n",
       "        vertical-align: middle;\n",
       "    }\n",
       "\n",
       "    .dataframe tbody tr th {\n",
       "        vertical-align: top;\n",
       "    }\n",
       "\n",
       "    .dataframe thead th {\n",
       "        text-align: right;\n",
       "    }\n",
       "</style>\n",
       "<table border=\"1\" class=\"dataframe\">\n",
       "  <thead>\n",
       "    <tr style=\"text-align: right;\">\n",
       "      <th></th>\n",
       "      <th>tipo</th>\n",
       "      <th>select</th>\n",
       "      <th>clasific</th>\n",
       "      <th>semilla</th>\n",
       "      <th>accuracy</th>\n",
       "      <th>precision</th>\n",
       "      <th>recall</th>\n",
       "      <th>f1_score</th>\n",
       "      <th>roc_auc</th>\n",
       "      <th>hostname</th>\n",
       "      <th>total_time_sec</th>\n",
       "      <th>datetime</th>\n",
       "      <th>fichero_modelo</th>\n",
       "      <th>params</th>\n",
       "      <th>shape</th>\n",
       "      <th>features</th>\n",
       "    </tr>\n",
       "  </thead>\n",
       "  <tbody>\n",
       "    <tr>\n",
       "      <th>0</th>\n",
       "      <td>bin_s</td>\n",
       "      <td>ANOVA</td>\n",
       "      <td>RF</td>\n",
       "      <td>6191</td>\n",
       "      <td>0.606742</td>\n",
       "      <td>0.607442</td>\n",
       "      <td>0.603640</td>\n",
       "      <td>0.601713</td>\n",
       "      <td>0.683013</td>\n",
       "      <td>amilcar22</td>\n",
       "      <td>2</td>\n",
       "      <td>2023-10-30 06:35:14.106614</td>\n",
       "      <td>modelo_6191_bin_s_ANOVA_RF.pkl</td>\n",
       "      <td>{'selector__k': 150, 'clasifier__n_estimators'...</td>\n",
       "      <td>X_test:(89, 18875)</td>\n",
       "      <td>['ENSG00000000971.17', 'ENSG00000002587.10', '...</td>\n",
       "    </tr>\n",
       "    <tr>\n",
       "      <th>0</th>\n",
       "      <td>bin_s</td>\n",
       "      <td>ANOVA</td>\n",
       "      <td>LR_L2</td>\n",
       "      <td>6191</td>\n",
       "      <td>0.752809</td>\n",
       "      <td>0.757277</td>\n",
       "      <td>0.750253</td>\n",
       "      <td>0.750255</td>\n",
       "      <td>0.800303</td>\n",
       "      <td>amilcar22</td>\n",
       "      <td>7</td>\n",
       "      <td>2023-10-30 06:35:05.134238</td>\n",
       "      <td>modelo_6191_bin_s_ANOVA_LR_L2.pkl</td>\n",
       "      <td>{'selector__k': 1000, 'clasifier__solver': 'lb...</td>\n",
       "      <td>X_test:(89, 18875)</td>\n",
       "      <td>['ENSG00000000938.13', 'ENSG00000000971.17', '...</td>\n",
       "    </tr>\n",
       "    <tr>\n",
       "      <th>0</th>\n",
       "      <td>bin_s</td>\n",
       "      <td>ANOVA</td>\n",
       "      <td>LR_L1</td>\n",
       "      <td>6191</td>\n",
       "      <td>0.674157</td>\n",
       "      <td>0.675439</td>\n",
       "      <td>0.671891</td>\n",
       "      <td>0.671503</td>\n",
       "      <td>0.770981</td>\n",
       "      <td>amilcar22</td>\n",
       "      <td>103</td>\n",
       "      <td>2023-10-30 06:34:51.831372</td>\n",
       "      <td>modelo_6191_bin_s_ANOVA_LR_L1.pkl</td>\n",
       "      <td>{'selector__k': 200, 'clasifier__solver': 'sag...</td>\n",
       "      <td>X_test:(89, 18875)</td>\n",
       "      <td>['ENSG00000000971.17', 'ENSG00000002587.10', '...</td>\n",
       "    </tr>\n",
       "  </tbody>\n",
       "</table>\n",
       "</div>"
      ],
      "text/plain": [
       "    tipo select clasific  semilla  accuracy  precision    recall  f1_score  \\\n",
       "0  bin_s  ANOVA       RF     6191  0.606742   0.607442  0.603640  0.601713   \n",
       "0  bin_s  ANOVA    LR_L2     6191  0.752809   0.757277  0.750253  0.750255   \n",
       "0  bin_s  ANOVA    LR_L1     6191  0.674157   0.675439  0.671891  0.671503   \n",
       "\n",
       "    roc_auc   hostname  total_time_sec                    datetime  \\\n",
       "0  0.683013  amilcar22               2  2023-10-30 06:35:14.106614   \n",
       "0  0.800303  amilcar22               7  2023-10-30 06:35:05.134238   \n",
       "0  0.770981  amilcar22             103  2023-10-30 06:34:51.831372   \n",
       "\n",
       "                      fichero_modelo  \\\n",
       "0     modelo_6191_bin_s_ANOVA_RF.pkl   \n",
       "0  modelo_6191_bin_s_ANOVA_LR_L2.pkl   \n",
       "0  modelo_6191_bin_s_ANOVA_LR_L1.pkl   \n",
       "\n",
       "                                              params               shape  \\\n",
       "0  {'selector__k': 150, 'clasifier__n_estimators'...  X_test:(89, 18875)   \n",
       "0  {'selector__k': 1000, 'clasifier__solver': 'lb...  X_test:(89, 18875)   \n",
       "0  {'selector__k': 200, 'clasifier__solver': 'sag...  X_test:(89, 18875)   \n",
       "\n",
       "                                            features  \n",
       "0  ['ENSG00000000971.17', 'ENSG00000002587.10', '...  \n",
       "0  ['ENSG00000000938.13', 'ENSG00000000971.17', '...  \n",
       "0  ['ENSG00000000971.17', 'ENSG00000002587.10', '...  "
      ]
     },
     "metadata": {},
     "output_type": "display_data"
    }
   ],
   "source": [
    "if M_TIPO.startswith(\"bin\"):\n",
    "    myfunc.save_metricas_to_csv(random_search, X_test, y_test, M_TIPO, M_SELECT, M_CLASIF, total_time, SEMILLA, myfunc.MET_DIR, M_FICHERO, fichero_modelo)\n",
    "else:\n",
    "    myfunc.save_metricas_multi_to_csv(random_search, X_test, y_test, M_TIPO, M_SELECT, M_CLASIF, total_time, SEMILLA, myfunc.MET_DIR, M_FICHERO, fichero_modelo)\n",
    "\n",
    "df1=myfunc.read_metricas_to_df(myfunc.MET_DIR,M_FICHERO)\n",
    "\n",
    "display(df1.sort_values(\"datetime\", ascending=False)[:3])\n"
   ]
  },
  {
   "cell_type": "markdown",
   "id": "32560c03",
   "metadata": {
    "papermill": {
     "duration": 0.004074,
     "end_time": "2023-10-30T05:35:14.137201",
     "exception": false,
     "start_time": "2023-10-30T05:35:14.133127",
     "status": "completed"
    },
    "tags": []
   },
   "source": [
    "#### Guardar resultados"
   ]
  },
  {
   "cell_type": "code",
   "execution_count": 13,
   "id": "695910da",
   "metadata": {
    "execution": {
     "iopub.execute_input": "2023-10-30T05:35:14.146045Z",
     "iopub.status.busy": "2023-10-30T05:35:14.145859Z",
     "iopub.status.idle": "2023-10-30T05:35:14.154169Z",
     "shell.execute_reply": "2023-10-30T05:35:14.153639Z"
    },
    "papermill": {
     "duration": 0.014264,
     "end_time": "2023-10-30T05:35:14.155477",
     "exception": false,
     "start_time": "2023-10-30T05:35:14.141213",
     "status": "completed"
    },
    "tags": []
   },
   "outputs": [
    {
     "name": "stdout",
     "output_type": "stream",
     "text": [
      "20231030T063514 : amilcar22 : INFO : Inicio guardar resultados\n",
      "20231030T063514 : amilcar22 : INFO : Inicio guardar fichero ../tfm_git/ejecuciones/metricas/resultados_6191_bin_s-ANOVA-RF.csv\n",
      "20231030T063514 : amilcar22 : INFO : Fin guardar fichero ../tfm_git/ejecuciones/metricas/resultados_6191_bin_s-ANOVA-RF.csv\n",
      "20231030T063514 : amilcar22 : INFO : Fin guardar resultados\n"
     ]
    }
   ],
   "source": [
    "fichero_resultados=R_FICHERO+\"_\"+M_TIPO+\"-\"+M_SELECT+\"-\"+M_CLASIF+\".csv\"\n",
    "myfunc.save_resultados_to_csv(M_TIPO, M_SELECT, M_CLASIF,  random_search, myfunc.MET_DIR, fichero_resultados)\n"
   ]
  }
 ],
 "metadata": {
  "kernelspec": {
   "display_name": "Python 3 (ipykernel)",
   "language": "python",
   "name": "python3"
  },
  "language_info": {
   "codemirror_mode": {
    "name": "ipython",
    "version": 3
   },
   "file_extension": ".py",
   "mimetype": "text/x-python",
   "name": "python",
   "nbconvert_exporter": "python",
   "pygments_lexer": "ipython3",
   "version": "3.10.12"
  },
  "papermill": {
   "default_parameters": {},
   "duration": 7.457859,
   "end_time": "2023-10-30T05:35:16.777675",
   "environment_variables": {},
   "exception": null,
   "input_path": "03_entrenamiento.ipynb",
   "output_path": "ejecuciones/training/03_entrenamiento.20231030T063508.param_0000_6191_bin_s_ANOVA_RF.output.ipynb",
   "parameters": {
    "MAX_ITERS": 500,
    "M_CLASIF": "RF",
    "M_FICHERO": "metricas_6191",
    "M_SELECT": "ANOVA",
    "M_TIPO": "bin_s",
    "PRE_DATA_FILE": "rows_transpose_norm_by_gene_id_with_target_num_",
    "P_FICHERO": "param_0000_6191_bin_s_ANOVA_RF.yaml",
    "R_FICHERO": "resultados_6191",
    "SCORING": "roc_auc_ovr",
    "SEMILLA": 6191,
    "eval_clasifier": "RandomForestClassifier(random_state=SEMILLA)",
    "eval_selector": "SelectKBest(score_func=f_classif)",
    "param_distributions": {
     "clasifier__bootstrap": [
      true
     ],
     "clasifier__max_depth": [
      "None"
     ],
     "clasifier__max_features": [
      "sqrt"
     ],
     "clasifier__min_samples_leaf": [
      5
     ],
     "clasifier__min_samples_split": [
      20
     ],
     "clasifier__n_estimators": [
      50
     ],
     "selector__k": [
      150
     ]
    }
   },
   "start_time": "2023-10-30T05:35:09.319816",
   "version": "2.4.0"
  }
 },
 "nbformat": 4,
 "nbformat_minor": 5
}