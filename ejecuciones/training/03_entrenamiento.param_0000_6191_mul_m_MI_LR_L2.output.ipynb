{
 "cells": [
  {
   "cell_type": "markdown",
   "id": "6eca552f",
   "metadata": {
    "papermill": {
     "duration": 0.003468,
     "end_time": "2023-10-30T08:20:20.271130",
     "exception": false,
     "start_time": "2023-10-30T08:20:20.267662",
     "status": "completed"
    },
    "tags": []
   },
   "source": [
    "##### Inicio"
   ]
  },
  {
   "cell_type": "markdown",
   "id": "83591c85",
   "metadata": {
    "papermill": {
     "duration": 0.002724,
     "end_time": "2023-10-30T08:20:20.276784",
     "exception": false,
     "start_time": "2023-10-30T08:20:20.274060",
     "status": "completed"
    },
    "tags": []
   },
   "source": [
    "#### Carga de datos"
   ]
  },
  {
   "cell_type": "code",
   "execution_count": 1,
   "id": "b0e2e540",
   "metadata": {
    "execution": {
     "iopub.execute_input": "2023-10-30T08:20:20.283399Z",
     "iopub.status.busy": "2023-10-30T08:20:20.283154Z",
     "iopub.status.idle": "2023-10-30T08:20:21.144133Z",
     "shell.execute_reply": "2023-10-30T08:20:21.143624Z"
    },
    "papermill": {
     "duration": 0.865836,
     "end_time": "2023-10-30T08:20:21.145374",
     "exception": false,
     "start_time": "2023-10-30T08:20:20.279538",
     "status": "completed"
    },
    "tags": []
   },
   "outputs": [
    {
     "name": "stdout",
     "output_type": "stream",
     "text": [
      "CPU_COUNT: 8; NODE: amilcar22; sys.version: 3.10.12 (main, Jul  5 2023, 19:22:19) [GCC 11.2.0]\n",
      "LOKY_MAX_CPU_COUNT: 6\n",
      "OMP_NUM_THREADS: 2\n"
     ]
    }
   ],
   "source": [
    "import os\n",
    "import numpy as np\n",
    "import pandas as pd\n",
    "import datetime\n",
    "import sklearn\n",
    "import logging\n",
    "import warnings\n",
    "\n",
    "from sklearn.pipeline import Pipeline\n",
    "from sklearn.model_selection import RandomizedSearchCV, KFold, cross_val_score, train_test_split\n",
    "from sklearn.metrics import accuracy_score, confusion_matrix, classification_report, roc_auc_score\n",
    "\n",
    "#  cargar algoritmos para aprendizaje supervisado\n",
    "from sklearn.feature_selection import SelectKBest, f_classif, SelectFromModel, mutual_info_classif\n",
    "from sklearn.svm import SVC\n",
    "from sklearn.ensemble import RandomForestClassifier\n",
    "from sklearn.linear_model import LogisticRegression,LogisticRegressionCV\n",
    "\n",
    "# importar fichero con utilidades propias\n",
    "from commons import myfunctions as myfunc\n"
   ]
  },
  {
   "cell_type": "markdown",
   "id": "48abfb91",
   "metadata": {
    "papermill": {
     "duration": 0.002551,
     "end_time": "2023-10-30T08:20:21.150804",
     "exception": false,
     "start_time": "2023-10-30T08:20:21.148253",
     "status": "completed"
    },
    "tags": []
   },
   "source": [
    "#### Parámetros a utilizar en el entrenamiento.\n",
    "\n",
    "Se indican los 3 algoritmos de *selección de características* (eval_selector_xxx) y los 3 algoritmos para la _clasificación_ (eval_clasifier_xxx)\n",
    "\n",
    "En *param_distributions* se indicar los parámetros que utilizan los algoritmos en la función RandomSearchCV.\n",
    "\n",
    "Esta celda tiene la etiqueta **parameters** que servirá para poder lanzar los entrenamientos con la utilidad **papermill** pasándole un fichero con los parámetros. Los nuevos parámetros se situarán tras esta celda para tener prevalencia."
   ]
  },
  {
   "cell_type": "code",
   "execution_count": 2,
   "id": "a6b367cc",
   "metadata": {
    "execution": {
     "iopub.execute_input": "2023-10-30T08:20:21.156737Z",
     "iopub.status.busy": "2023-10-30T08:20:21.156431Z",
     "iopub.status.idle": "2023-10-30T08:20:21.163221Z",
     "shell.execute_reply": "2023-10-30T08:20:21.162748Z"
    },
    "papermill": {
     "duration": 0.011174,
     "end_time": "2023-10-30T08:20:21.164463",
     "exception": false,
     "start_time": "2023-10-30T08:20:21.153289",
     "status": "completed"
    },
    "tags": [
     "parameters"
    ]
   },
   "outputs": [
    {
     "name": "stdout",
     "output_type": "stream",
     "text": [
      "20231030T092021 : amilcar22 : INFO : Utilizando parámetros de mul_m\n"
     ]
    }
   ],
   "source": [
    "#  Parametros para el entrenamiento\n",
    "\n",
    "SEMILLA=        42\n",
    "M_TIPO=         \"mul_m\"\n",
    "M_SELECT=       \"MI\"\n",
    "M_CLASIF=       \"SVM\"\n",
    "R_FICHERO=      \"resultados\"\n",
    "M_FICHERO=      \"metricas\"\n",
    "PRE_DATA_FILE=  \"rows_transpose_norm_by_gene_id_with_target_num_\"\n",
    "SCORING=        \"roc_auc_ovr\" \n",
    "MAX_ITERS=      100\n",
    "\n",
    "def mutual_info_classif_state(X, y):\n",
    "    return mutual_info_classif(X, y, random_state=SEMILLA)\n",
    "\n",
    "eval_selector_mi = \"SelectKBest(score_func=mutual_info_classif_state)\"\n",
    "eval_selector_rf=  \"SelectFromModel(estimator=RandomForestClassifier(random_state=SEMILLA), threshold=-np.inf)\"\n",
    "eval_selector_anova=  \"SelectKBest(score_func=f_classif)\"\n",
    "\n",
    "eval_clasifier_svm= \"SVC(probability=True, random_state=SEMILLA)\"\n",
    "eval_clasifier_rf= \"RandomForestClassifier(random_state=SEMILLA)\"\n",
    "eval_clasifier_lr= \"LogisticRegressionCV(random_state=SEMILLA)\"\n",
    "\n",
    "if M_TIPO.startswith(\"bin_m\"):\n",
    "    myfunc.verbose(f\"Utilizando parámetros de {M_TIPO}\")\n",
    "    eval_selector = eval_selector_mi\n",
    "    eval_clasifier = eval_clasifier_svm\n",
    "\n",
    "    SEMILLA = 6578\n",
    "    M_SELECT = \"MI\"\n",
    "    M_CLASIF = \"SVM\"\n",
    "    param_distributions = {'selector__k': [1000], \n",
    "         'clasifier__kernel': ['rbf'], 'clasifier__gamma': [0.01], 'clasifier__C': [100]}\n",
    "elif M_TIPO.startswith(\"bin_s\"):\n",
    "    myfunc.verbose(f\"Utilizando parámetros de {M_TIPO}\")\n",
    "    eval_selector = eval_selector_rf\n",
    "    eval_clasifier = eval_clasifier_lr\n",
    "\n",
    "    SEMILLA = 6191\n",
    "    M_SELECT = \"RF\"\n",
    "    M_CLASIF = \"LR_L2\"\n",
    "    param_distributions = {'selector__max_features': [1000], 'selector__estimator__n_estimators': [200], \n",
    "        'clasifier__solver': ['lbfgs'], 'clasifier__penalty': ['l2'], 'clasifier__max_iter': [10000]}\n",
    "\n",
    "elif M_TIPO.startswith(\"mul_m\"):\n",
    "    myfunc.verbose(f\"Utilizando parámetros de {M_TIPO}\")\n",
    " \n",
    "    eval_selector = eval_selector_rf\n",
    "    eval_clasifier = eval_clasifier_lr\n",
    "\n",
    "    SEMILLA = 6191\n",
    "    M_SELECT = \"RF\"\n",
    "    M_CLASIF = \"LR_L2\"\n",
    "    param_distributions = {'selector__max_features': [1000], 'selector__estimator__n_estimators': [400], \n",
    "        'clasifier__solver': ['lbfgs'], 'clasifier__penalty': ['l2'], 'clasifier__max_iter': [10000]}\n",
    "\n",
    "else:\n",
    "    # M_TIPO.startswith(\"mul_s\"):\n",
    "    myfunc.verbose(f\"Utilizando parámetros de {M_TIPO}\")\n",
    "    eval_selector = eval_selector_anova\n",
    "    eval_clasifier = eval_clasifier_lr\n",
    "\n",
    "    SEMILLA = 1860\n",
    "    M_SELECT = \"ANOVA\"\n",
    "    M_CLASIF = \"LR_L2\"\n",
    "    param_distributions = {'selector__k': [1000], \n",
    "        'clasifier__solver': ['saga'], 'clasifier__penalty': ['l2'], 'clasifier__max_iter': [10000]}\n",
    "\n"
   ]
  },
  {
   "cell_type": "code",
   "execution_count": 3,
   "id": "18160c2c",
   "metadata": {
    "execution": {
     "iopub.execute_input": "2023-10-30T08:20:21.170519Z",
     "iopub.status.busy": "2023-10-30T08:20:21.170334Z",
     "iopub.status.idle": "2023-10-30T08:20:21.173813Z",
     "shell.execute_reply": "2023-10-30T08:20:21.173334Z"
    },
    "papermill": {
     "duration": 0.007704,
     "end_time": "2023-10-30T08:20:21.174928",
     "exception": false,
     "start_time": "2023-10-30T08:20:21.167224",
     "status": "completed"
    },
    "tags": [
     "injected-parameters"
    ]
   },
   "outputs": [],
   "source": [
    "# Parameters\n",
    "M_TIPO = \"mul_m\"\n",
    "M_SELECT = \"MI\"\n",
    "M_CLASIF = \"LR_L2\"\n",
    "P_FICHERO = \"param_0000_6191_mul_m_MI_LR_L2.yaml\"\n",
    "R_FICHERO = \"resultados_6191\"\n",
    "M_FICHERO = \"metricas_6191\"\n",
    "PRE_DATA_FILE = \"rows_transpose_norm_by_gene_id_with_target_num_\"\n",
    "SCORING = \"roc_auc_ovr\"\n",
    "SEMILLA = 6191\n",
    "MAX_ITERS = 500\n",
    "eval_selector = \"SelectKBest(score_func=mutual_info_classif_state)\"\n",
    "eval_clasifier = \"LogisticRegressionCV(random_state=SEMILLA)\"\n",
    "param_distributions = {\n",
    "    \"selector__k\": [1000],\n",
    "    \"clasifier__solver\": [\"lbfgs\"],\n",
    "    \"clasifier__penalty\": [\"l2\"],\n",
    "    \"clasifier__max_iter\": [10000],\n",
    "}\n"
   ]
  },
  {
   "cell_type": "code",
   "execution_count": 4,
   "id": "d25bc14c",
   "metadata": {
    "execution": {
     "iopub.execute_input": "2023-10-30T08:20:21.180875Z",
     "iopub.status.busy": "2023-10-30T08:20:21.180709Z",
     "iopub.status.idle": "2023-10-30T08:20:21.183569Z",
     "shell.execute_reply": "2023-10-30T08:20:21.183037Z"
    },
    "papermill": {
     "duration": 0.007254,
     "end_time": "2023-10-30T08:20:21.184822",
     "exception": false,
     "start_time": "2023-10-30T08:20:21.177568",
     "status": "completed"
    },
    "tags": []
   },
   "outputs": [],
   "source": [
    "DATA_FILE = PRE_DATA_FILE + M_TIPO\n",
    "\n",
    "# si viene \"None\" en el parámetro max_depth, se le quitan las comillas para que no sea entendido por el algoritmo como un texto\n",
    "if \"clasifier__max_depth\" in param_distributions:\n",
    "    param_distributions['clasifier__max_depth'] = [None if x == 'None' else x for x in param_distributions['clasifier__max_depth']]"
   ]
  },
  {
   "cell_type": "markdown",
   "id": "9ac482be",
   "metadata": {
    "papermill": {
     "duration": 0.002879,
     "end_time": "2023-10-30T08:20:21.190654",
     "exception": false,
     "start_time": "2023-10-30T08:20:21.187775",
     "status": "completed"
    },
    "tags": []
   },
   "source": [
    "Asignar los algoritmos que se utilizarán en la función RandomSearchCV"
   ]
  },
  {
   "cell_type": "code",
   "execution_count": 5,
   "id": "0f208cbe",
   "metadata": {
    "execution": {
     "iopub.execute_input": "2023-10-30T08:20:21.197151Z",
     "iopub.status.busy": "2023-10-30T08:20:21.196975Z",
     "iopub.status.idle": "2023-10-30T08:20:21.199815Z",
     "shell.execute_reply": "2023-10-30T08:20:21.199231Z"
    },
    "papermill": {
     "duration": 0.007476,
     "end_time": "2023-10-30T08:20:21.201073",
     "exception": false,
     "start_time": "2023-10-30T08:20:21.193597",
     "status": "completed"
    },
    "tags": []
   },
   "outputs": [],
   "source": [
    "algor_selector=eval(eval_selector)\n",
    "algor_clasifier=eval(eval_clasifier)"
   ]
  },
  {
   "cell_type": "markdown",
   "id": "287b6233",
   "metadata": {
    "papermill": {
     "duration": 0.003224,
     "end_time": "2023-10-30T08:20:21.207494",
     "exception": false,
     "start_time": "2023-10-30T08:20:21.204270",
     "status": "completed"
    },
    "tags": []
   },
   "source": [
    "#### Comprobar el entorno y leer fichero de muestras"
   ]
  },
  {
   "cell_type": "code",
   "execution_count": 6,
   "id": "95b5b524",
   "metadata": {
    "execution": {
     "iopub.execute_input": "2023-10-30T08:20:21.214642Z",
     "iopub.status.busy": "2023-10-30T08:20:21.214451Z",
     "iopub.status.idle": "2023-10-30T08:20:21.376813Z",
     "shell.execute_reply": "2023-10-30T08:20:21.376239Z"
    },
    "papermill": {
     "duration": 0.16741,
     "end_time": "2023-10-30T08:20:21.378088",
     "exception": false,
     "start_time": "2023-10-30T08:20:21.210678",
     "status": "completed"
    },
    "tags": []
   },
   "outputs": [
    {
     "name": "stdout",
     "output_type": "stream",
     "text": [
      "20231030T092021 : amilcar22 : INFO : Encontrada carpeta DATA_DIR=../tfm_git/datos\n",
      "20231030T092021 : amilcar22 : INFO : Encontrada carpeta CFDNA_DIR=../tfm_git/datos/cfDNA_5hmC\n",
      "20231030T092021 : amilcar22 : INFO : Encontrada carpeta GENCODE_DIR=../tfm_git/datos/gencode\n",
      "20231030T092021 : amilcar22 : INFO : Encontrada carpeta H5_DIR=../tfm_git/datos/h5\n",
      "20231030T092021 : amilcar22 : INFO : Encontrada carpeta LOG_DIR=../tfm_git/datos/logs\n",
      "20231030T092021 : amilcar22 : INFO : Encontrada carpeta CSV_DIR=../tfm_git/datos/csv\n",
      "20231030T092021 : amilcar22 : INFO : Encontrada carpeta MODEL_DIR=../tfm_git/ejecuciones/modelos\n",
      "20231030T092021 : amilcar22 : INFO : Encontrada carpeta EXEC_DIR=../tfm_git/ejecuciones\n",
      "20231030T092021 : amilcar22 : INFO : Encontrada carpeta MET_DIR=../tfm_git/ejecuciones/metricas\n",
      "20231030T092021 : amilcar22 : INFO : Inicio leer fichero h5 ../tfm_git/datos/h5/rows_transpose_norm_by_gene_id_with_target_num_mul_m.h5\n",
      "20231030T092021 : amilcar22 : INFO : Leyendo clave /df\n",
      "20231030T092021 : amilcar22 : INFO : Tamaño (434, 18876)\n",
      "20231030T092021 : amilcar22 : INFO : Fin leer fichero h5 ../tfm_git/datos/h5/rows_transpose_norm_by_gene_id_with_target_num_mul_m.h5\n"
     ]
    },
    {
     "data": {
      "text/plain": [
       "target\n",
       "0    62\n",
       "1    62\n",
       "2    62\n",
       "3    62\n",
       "4    62\n",
       "5    62\n",
       "6    62\n",
       "dtype: int64"
      ]
     },
     "metadata": {},
     "output_type": "display_data"
    },
    {
     "name": "stdout",
     "output_type": "stream",
     "text": [
      "Shape df: (434, 18876)\n"
     ]
    },
    {
     "name": "stdout",
     "output_type": "stream",
     "text": [
      "Shape X_train: (347, 18875)\n",
      "Shape X_test: (87, 18875)\n"
     ]
    }
   ],
   "source": [
    "start_time = datetime.datetime.now()\n",
    "\n",
    "myfunc.reset_vars()\n",
    "\n",
    "myfunc.NOTEBK_FILENAME = myfunc.get_nb_name()\n",
    "\n",
    "myfunc.check_enviroment(myfunc.DATA_DIR, myfunc.CFDNA_DIR, myfunc.GENCODE_DIR, myfunc.H5_DIR, myfunc.LOG_DIR, myfunc.CSV_DIR, myfunc.MODEL_DIR, myfunc.EXEC_DIR, myfunc.MET_DIR)\n",
    "\n",
    "# Leer fichero con las muestras\n",
    "df_t = myfunc.read_h5_to_df(DATA_FILE, myfunc.H5_DIR)\n",
    "display(df_t.groupby(\"target\").size())\n",
    "print(\"Shape df:\",df_t.shape)\n",
    "\n",
    "# Separar caracteristicas/genes de las etiquetas/tipos de cáncer\n",
    "X = df_t.iloc[:, :-1]  # Todas las columnas excepto la última\n",
    "y = df_t.iloc[:, -1]  # La última columna contiene los identificadores de los tipos de cáncer\n",
    "\n",
    "#  Crear el conjunto de datos de entrenamiento y de pruebas, y se fija la semilla para siempre coger el mismo juego de muestras\n",
    "X_train, X_test, y_train, y_test = train_test_split(X, y, test_size=0.2, shuffle=True, random_state=42)\n",
    "print(\"Shape X_train:\",X_train.shape)\n",
    "print(\"Shape X_test:\",X_test.shape)\n"
   ]
  },
  {
   "cell_type": "markdown",
   "id": "9423c992",
   "metadata": {
    "papermill": {
     "duration": 0.002832,
     "end_time": "2023-10-30T08:20:21.384314",
     "exception": false,
     "start_time": "2023-10-30T08:20:21.381482",
     "status": "completed"
    },
    "tags": []
   },
   "source": [
    "#### Selección de características y clasificación."
   ]
  },
  {
   "cell_type": "code",
   "execution_count": 7,
   "id": "f2f399ed",
   "metadata": {
    "execution": {
     "iopub.execute_input": "2023-10-30T08:20:21.390876Z",
     "iopub.status.busy": "2023-10-30T08:20:21.390696Z",
     "iopub.status.idle": "2023-10-30T08:24:25.405001Z",
     "shell.execute_reply": "2023-10-30T08:24:25.404278Z"
    },
    "papermill": {
     "duration": 244.021219,
     "end_time": "2023-10-30T08:24:25.408390",
     "exception": false,
     "start_time": "2023-10-30T08:20:21.387171",
     "status": "completed"
    },
    "tags": []
   },
   "outputs": [
    {
     "name": "stdout",
     "output_type": "stream",
     "text": [
      "20231030T092021 : amilcar22 : INFO : Iniciando entrenamiento\n",
      "num_iter: 1 , max_iter: 1\n",
      "Fitting 5 folds for each of 1 candidates, totalling 5 fits\n"
     ]
    },
    {
     "name": "stdout",
     "output_type": "stream",
     "text": [
      "Mejores Hiperparámetros: {'selector__k': 1000, 'clasifier__solver': 'lbfgs', 'clasifier__penalty': 'l2', 'clasifier__max_iter': 10000}\n",
      "Mejor Puntuación: 0.8762\n",
      "20231030T092425 : amilcar22 : INFO : Fin entrenamiento\n"
     ]
    }
   ],
   "source": [
    "myfunc.verbose(\"Iniciando entrenamiento\")\n",
    "\n",
    "kf = KFold(n_splits=5, shuffle=True, random_state=SEMILLA)\n",
    "\n",
    "# Crear el pipeline para el flujo de tareas\n",
    "tasks_pipeline = Pipeline([\n",
    "    ('selector', algor_selector),\n",
    "    ('clasifier', algor_clasifier)\n",
    "])\n",
    "\n",
    "# MAX_ITERS puede limitar el número de iteraciones si son excesivas para las combinaciones de parámetros buscando un óptimo local, \n",
    "# sino funcionaría como GridSearchCV al revisar todas las cominaciones de los parámetros\n",
    "num_iteraciones = 1\n",
    "num_iteraciones = num_iteraciones * np.prod([len(elemento1) for _, elemento1 in param_distributions.items()])\n",
    "max_iteraciones = num_iteraciones if num_iteraciones <= MAX_ITERS else MAX_ITERS\n",
    "print(\"num_iter:\",num_iteraciones,\", max_iter:\",max_iteraciones)\n",
    "\n",
    "random_search = RandomizedSearchCV(\n",
    "    tasks_pipeline, \n",
    "    param_distributions, \n",
    "    n_iter=max_iteraciones,\n",
    "    scoring=SCORING,\n",
    "    cv=kf,\n",
    "    verbose=3, \n",
    "    random_state=SEMILLA, \n",
    "    n_jobs=-1\n",
    "    )\n",
    "\n",
    "# Entrenar el modelo\n",
    "random_search.fit(X_train, y_train)\n",
    "\n",
    "# Ver los mejores hiperparámetros encontrados\n",
    "print(f'Mejores Hiperparámetros: {random_search.best_params_}')\n",
    "print(f'Mejor Puntuación: {random_search.best_score_:.4f}')\n",
    "\n",
    "# Nos quedamos con el mejor modelo para ver las métricas\n",
    "mejor_modelo = random_search.best_estimator_\n",
    "\n",
    "myfunc.verbose(\"Fin entrenamiento\")"
   ]
  },
  {
   "cell_type": "markdown",
   "id": "496d61c2",
   "metadata": {
    "papermill": {
     "duration": 0.003022,
     "end_time": "2023-10-30T08:24:25.414856",
     "exception": false,
     "start_time": "2023-10-30T08:24:25.411834",
     "status": "completed"
    },
    "tags": []
   },
   "source": [
    "#### Guardar modelo"
   ]
  },
  {
   "cell_type": "code",
   "execution_count": 8,
   "id": "0fb72847",
   "metadata": {
    "execution": {
     "iopub.execute_input": "2023-10-30T08:24:25.421892Z",
     "iopub.status.busy": "2023-10-30T08:24:25.421683Z",
     "iopub.status.idle": "2023-10-30T08:24:25.432277Z",
     "shell.execute_reply": "2023-10-30T08:24:25.431673Z"
    },
    "papermill": {
     "duration": 0.015506,
     "end_time": "2023-10-30T08:24:25.433404",
     "exception": false,
     "start_time": "2023-10-30T08:24:25.417898",
     "status": "completed"
    },
    "tags": []
   },
   "outputs": [
    {
     "name": "stdout",
     "output_type": "stream",
     "text": [
      "20231030T092425 : amilcar22 : INFO : Inicio guardar fichero ../tfm_git/ejecuciones/modelos/modelo_6191_mul_m_MI_LR_L2.pkl\n",
      "20231030T092425 : amilcar22 : INFO : Fin guardar fichero ../tfm_git/ejecuciones/modelos/modelo_6191_mul_m_MI_LR_L2.pkl\n"
     ]
    }
   ],
   "source": [
    "fichero_modelo = str.replace(\"modelo_\"+str(SEMILLA).zfill(4)+\"_\"+M_TIPO+\"_\"+M_SELECT+\"_\"+M_CLASIF+\".pkl\", \" \", \"_\")\n",
    "\n",
    "myfunc.save_modelo(mejor_modelo, myfunc.MODEL_DIR, fichero_modelo)"
   ]
  },
  {
   "cell_type": "markdown",
   "id": "882e8616",
   "metadata": {
    "papermill": {
     "duration": 0.003065,
     "end_time": "2023-10-30T08:24:25.439791",
     "exception": false,
     "start_time": "2023-10-30T08:24:25.436726",
     "status": "completed"
    },
    "tags": []
   },
   "source": [
    "#### Ver resultados del las iteraciones hechas por RandomSearchCV"
   ]
  },
  {
   "cell_type": "code",
   "execution_count": 9,
   "id": "7069c5ac",
   "metadata": {
    "execution": {
     "iopub.execute_input": "2023-10-30T08:24:25.446625Z",
     "iopub.status.busy": "2023-10-30T08:24:25.446428Z",
     "iopub.status.idle": "2023-10-30T08:24:25.452918Z",
     "shell.execute_reply": "2023-10-30T08:24:25.452291Z"
    },
    "papermill": {
     "duration": 0.011268,
     "end_time": "2023-10-30T08:24:25.454053",
     "exception": false,
     "start_time": "2023-10-30T08:24:25.442785",
     "status": "completed"
    },
    "tags": []
   },
   "outputs": [
    {
     "name": "stdout",
     "output_type": "stream",
     "text": [
      "20231030T092425 : amilcar22 : INFO : Inicio ver resultados\n",
      "Mejores Hiperparámetros: {'selector__k': 1000, 'clasifier__solver': 'lbfgs', 'clasifier__penalty': 'l2', 'clasifier__max_iter': 10000}\n",
      "Mejores puntuaciones: 0.8762 | Params: {'selector__k': 1000, 'clasifier__solver': 'lbfgs', 'clasifier__penalty': 'l2', 'clasifier__max_iter': 10000}\n",
      "Media de las puntuaciones: 0.8762 | Params: {'selector__k': 1000, 'clasifier__solver': 'lbfgs', 'clasifier__penalty': 'l2', 'clasifier__max_iter': 10000}\n",
      "20231030T092425 : amilcar22 : INFO : Fin resultados\n"
     ]
    }
   ],
   "source": [
    "myfunc.ver_resultados_search(random_search)"
   ]
  },
  {
   "cell_type": "markdown",
   "id": "8974458b",
   "metadata": {
    "papermill": {
     "duration": 0.003121,
     "end_time": "2023-10-30T08:24:25.460433",
     "exception": false,
     "start_time": "2023-10-30T08:24:25.457312",
     "status": "completed"
    },
    "tags": []
   },
   "source": [
    "#### Ver métricas del mejor modelo"
   ]
  },
  {
   "cell_type": "code",
   "execution_count": 10,
   "id": "764a1e18",
   "metadata": {
    "execution": {
     "iopub.execute_input": "2023-10-30T08:24:25.467495Z",
     "iopub.status.busy": "2023-10-30T08:24:25.467314Z",
     "iopub.status.idle": "2023-10-30T08:24:26.108766Z",
     "shell.execute_reply": "2023-10-30T08:24:26.108300Z"
    },
    "papermill": {
     "duration": 0.646373,
     "end_time": "2023-10-30T08:24:26.109978",
     "exception": false,
     "start_time": "2023-10-30T08:24:25.463605",
     "status": "completed"
    },
    "tags": []
   },
   "outputs": [
    {
     "name": "stdout",
     "output_type": "stream",
     "text": [
      "20231030T092425 : amilcar22 : INFO : Inicio ver métricas multiclase\n",
      "              precision    recall  f1-score   support\n",
      "\n",
      "           0       0.64      0.56      0.60        16\n",
      "           1       0.69      0.60      0.64        15\n",
      "           2       0.50      0.45      0.48        11\n",
      "           3       0.30      0.60      0.40         5\n",
      "           4       0.67      0.62      0.64        13\n",
      "           5       0.70      0.78      0.74         9\n",
      "           6       0.61      0.61      0.61        18\n",
      "\n",
      "    accuracy                           0.60        87\n",
      "   macro avg       0.59      0.60      0.59        87\n",
      "weighted avg       0.62      0.60      0.60        87\n",
      "\n",
      "\n",
      "\n",
      "           Exactitud: 0.597701\n",
      "   Precisión (media): 0.587563\n",
      "      Recall (media): 0.603046\n",
      "    F1-score (media): 0.586714\n",
      "\n",
      "\n"
     ]
    },
    {
     "name": "stdout",
     "output_type": "stream",
     "text": [
      "AUC para el tipo de cáncer 0-Control.... 0.8776\n",
      "AUC para el tipo de cáncer 1-Bladder.... 0.8861\n",
      "AUC para el tipo de cáncer 2-Breast..... 0.8194\n",
      "AUC para el tipo de cáncer 3-Colorectal. 0.9683\n",
      "AUC para el tipo de cáncer 4-Kidney..... 0.8742\n",
      "AUC para el tipo de cáncer 5-Lung....... 0.9558\n",
      "AUC para el tipo de cáncer 6-Prostate... 0.8720\n",
      "\n",
      "Media de AUC: 0.8934\n"
     ]
    },
    {
     "data": {
      "image/png": "[encoded data removed]",
      "text/plain": [
       "<Figure size 1000x600 with 1 Axes>"
      ]
     },
     "metadata": {},
     "output_type": "display_data"
    },
    {
     "name": "stdout",
     "output_type": "stream",
     "text": [
      "\n",
      "\n"
     ]
    },
    {
     "data": {
      "image/png": "[encoded data removed]",
      "text/plain": [
       "<Figure size 800x400 with 2 Axes>"
      ]
     },
     "metadata": {},
     "output_type": "display_data"
    },
    {
     "name": "stdout",
     "output_type": "stream",
     "text": [
      "\n",
      "\n"
     ]
    },
    {
     "name": "stdout",
     "output_type": "stream",
     "text": [
      "Puntuación Jaccard para el cáncer tipo 0-Control.... 0.4286\n",
      "Puntuación Jaccard para el cáncer tipo 1-Bladder.... 0.4737\n",
      "Puntuación Jaccard para el cáncer tipo 2-Breast..... 0.3125\n",
      "Puntuación Jaccard para el cáncer tipo 3-Colorectal. 0.2500\n",
      "Puntuación Jaccard para el cáncer tipo 4-Kidney..... 0.4706\n",
      "Puntuación Jaccard para el cáncer tipo 5-Lung....... 0.5833\n",
      "Puntuación Jaccard para el cáncer tipo 6-Prostate... 0.4400\n",
      "\n",
      "Media de la puntuación de Jaccard: 0.4227\n"
     ]
    }
   ],
   "source": [
    "if M_TIPO.startswith(\"bin\"):\n",
    "    myfunc.ver_metricas(mejor_modelo, X_test, y_test)\n",
    "else:\n",
    "    myfunc.ver_metricas_multi(mejor_modelo, X_test, y_test)\n"
   ]
  },
  {
   "cell_type": "markdown",
   "id": "03210ee3",
   "metadata": {
    "papermill": {
     "duration": 0.004281,
     "end_time": "2023-10-30T08:24:26.119232",
     "exception": false,
     "start_time": "2023-10-30T08:24:26.114951",
     "status": "completed"
    },
    "tags": []
   },
   "source": [
    "#### Finalización del notebook"
   ]
  },
  {
   "cell_type": "code",
   "execution_count": 11,
   "id": "535103ba",
   "metadata": {
    "execution": {
     "iopub.execute_input": "2023-10-30T08:24:26.128680Z",
     "iopub.status.busy": "2023-10-30T08:24:26.128452Z",
     "iopub.status.idle": "2023-10-30T08:24:26.132026Z",
     "shell.execute_reply": "2023-10-30T08:24:26.131575Z"
    },
    "papermill": {
     "duration": 0.009705,
     "end_time": "2023-10-30T08:24:26.133207",
     "exception": false,
     "start_time": "2023-10-30T08:24:26.123502",
     "status": "completed"
    },
    "tags": []
   },
   "outputs": [
    {
     "name": "stdout",
     "output_type": "stream",
     "text": [
      "20231030T092426 : amilcar22 : INFO : Notebook ha tardado 244 seconds\n"
     ]
    }
   ],
   "source": [
    "end_time = datetime.datetime.now()\n",
    "total_time = end_time - start_time\n",
    "myfunc.verbose(f\"Notebook ha tardado {total_time.seconds} seconds\")"
   ]
  },
  {
   "cell_type": "markdown",
   "id": "cf7e5dad",
   "metadata": {
    "papermill": {
     "duration": 0.004074,
     "end_time": "2023-10-30T08:24:26.141682",
     "exception": false,
     "start_time": "2023-10-30T08:24:26.137608",
     "status": "completed"
    },
    "tags": []
   },
   "source": [
    "#### Guardar métricas"
   ]
  },
  {
   "cell_type": "code",
   "execution_count": 12,
   "id": "824c1a4e",
   "metadata": {
    "execution": {
     "iopub.execute_input": "2023-10-30T08:24:26.150527Z",
     "iopub.status.busy": "2023-10-30T08:24:26.150334Z",
     "iopub.status.idle": "2023-10-30T08:24:26.335723Z",
     "shell.execute_reply": "2023-10-30T08:24:26.335135Z"
    },
    "papermill": {
     "duration": 0.191233,
     "end_time": "2023-10-30T08:24:26.336960",
     "exception": false,
     "start_time": "2023-10-30T08:24:26.145727",
     "status": "completed"
    },
    "tags": []
   },
   "outputs": [
    {
     "name": "stdout",
     "output_type": "stream",
     "text": [
      "20231030T092426 : amilcar22 : INFO : Inicio guardar métricas multiclase\n",
      "20231030T092426 : amilcar22 : INFO : Inicio leer fichero ../tfm_git/ejecuciones/metricas/metricas_6191.csv\n",
      "20231030T092426 : amilcar22 : INFO : Fin leer fichero ../tfm_git/ejecuciones/metricas/metricas_6191.csv\n",
      "20231030T092426 : amilcar22 : INFO : Inicio guardar fichero ../tfm_git/ejecuciones/metricas/metricas_6191.csv\n"
     ]
    },
    {
     "name": "stdout",
     "output_type": "stream",
     "text": [
      "20231030T092426 : amilcar22 : INFO : Fichero borrado ../tfm_git/ejecuciones/metricas/metricas_6191.csv\n",
      "20231030T092426 : amilcar22 : INFO : Fin guardar fichero ../tfm_git/ejecuciones/metricas/metricas_6191.csv\n",
      "20231030T092426 : amilcar22 : INFO : Fin guardar métricas multiclase\n",
      "20231030T092426 : amilcar22 : INFO : Inicio leer fichero ../tfm_git/ejecuciones/metricas/metricas_6191.csv\n",
      "20231030T092426 : amilcar22 : INFO : Fin leer fichero ../tfm_git/ejecuciones/metricas/metricas_6191.csv\n"
     ]
    },
    {
     "data": {
      "text/html": [
       "<div>\n",
       "<style scoped>\n",
       "    .dataframe tbody tr th:only-of-type {\n",
       "        vertical-align: middle;\n",
       "    }\n",
       "\n",
       "    .dataframe tbody tr th {\n",
       "        vertical-align: top;\n",
       "    }\n",
       "\n",
       "    .dataframe thead th {\n",
       "        text-align: right;\n",
       "    }\n",
       "</style>\n",
       "<table border=\"1\" class=\"dataframe\">\n",
       "  <thead>\n",
       "    <tr style=\"text-align: right;\">\n",
       "      <th></th>\n",
       "      <th>tipo</th>\n",
       "      <th>select</th>\n",
       "      <th>clasific</th>\n",
       "      <th>semilla</th>\n",
       "      <th>accuracy</th>\n",
       "      <th>precision</th>\n",
       "      <th>recall</th>\n",
       "      <th>f1_score</th>\n",
       "      <th>roc_auc</th>\n",
       "      <th>hostname</th>\n",
       "      <th>total_time_sec</th>\n",
       "      <th>datetime</th>\n",
       "      <th>fichero_modelo</th>\n",
       "      <th>params</th>\n",
       "      <th>shape</th>\n",
       "      <th>features</th>\n",
       "      <th>roc_auc_ovr</th>\n",
       "      <th>indices_auc</th>\n",
       "      <th>indices_jaccard</th>\n",
       "    </tr>\n",
       "  </thead>\n",
       "  <tbody>\n",
       "    <tr>\n",
       "      <th>0</th>\n",
       "      <td>mul_m</td>\n",
       "      <td>MI</td>\n",
       "      <td>LR_L2</td>\n",
       "      <td>6191</td>\n",
       "      <td>0.597701</td>\n",
       "      <td>0.587563</td>\n",
       "      <td>0.603046</td>\n",
       "      <td>0.586714</td>\n",
       "      <td>NaN</td>\n",
       "      <td>amilcar22</td>\n",
       "      <td>244</td>\n",
       "      <td>2023-10-30 09:24:26.305576</td>\n",
       "      <td>modelo_6191_mul_m_MI_LR_L2.pkl</td>\n",
       "      <td>{'selector__k': 1000, 'clasifier__solver': 'lb...</td>\n",
       "      <td>X_test:(87, 18875)</td>\n",
       "      <td>['ENSG00000001084.13', 'ENSG00000001460.18', '...</td>\n",
       "      <td>0.893352</td>\n",
       "      <td>[0.8776408450704225, 0.8861111111111111, 0.819...</td>\n",
       "      <td>[0.42857142857142855, 0.47368421052631576, 0.3...</td>\n",
       "    </tr>\n",
       "    <tr>\n",
       "      <th>0</th>\n",
       "      <td>mul_m</td>\n",
       "      <td>MI</td>\n",
       "      <td>LR_L1</td>\n",
       "      <td>6191</td>\n",
       "      <td>0.620690</td>\n",
       "      <td>0.622100</td>\n",
       "      <td>0.653839</td>\n",
       "      <td>0.618826</td>\n",
       "      <td>NaN</td>\n",
       "      <td>amilcar22</td>\n",
       "      <td>2005</td>\n",
       "      <td>2023-10-30 09:20:15.157233</td>\n",
       "      <td>modelo_6191_mul_m_MI_LR_L1.pkl</td>\n",
       "      <td>{'selector__k': 1000, 'clasifier__solver': 'sa...</td>\n",
       "      <td>X_test:(87, 18875)</td>\n",
       "      <td>['ENSG00000001084.13', 'ENSG00000001460.18', '...</td>\n",
       "      <td>0.893279</td>\n",
       "      <td>[0.8811619718309859, 0.8916666666666666, 0.812...</td>\n",
       "      <td>[0.45, 0.5555555555555556, 0.3125, 0.416666666...</td>\n",
       "    </tr>\n",
       "    <tr>\n",
       "      <th>0</th>\n",
       "      <td>mul_m</td>\n",
       "      <td>MI</td>\n",
       "      <td>LR_EN</td>\n",
       "      <td>6191</td>\n",
       "      <td>0.620690</td>\n",
       "      <td>0.620956</td>\n",
       "      <td>0.653839</td>\n",
       "      <td>0.618064</td>\n",
       "      <td>NaN</td>\n",
       "      <td>amilcar22</td>\n",
       "      <td>1967</td>\n",
       "      <td>2023-10-30 08:46:43.366956</td>\n",
       "      <td>modelo_6191_mul_m_MI_LR_EN.pkl</td>\n",
       "      <td>{'selector__k': 1000, 'clasifier__solver': 'sa...</td>\n",
       "      <td>X_test:(87, 18875)</td>\n",
       "      <td>['ENSG00000001084.13', 'ENSG00000001460.18', '...</td>\n",
       "      <td>0.897262</td>\n",
       "      <td>[0.880281690140845, 0.8925925925925925, 0.8181...</td>\n",
       "      <td>[0.45, 0.5555555555555556, 0.3125, 0.416666666...</td>\n",
       "    </tr>\n",
       "  </tbody>\n",
       "</table>\n",
       "</div>"
      ],
      "text/plain": [
       "    tipo select clasific  semilla  accuracy  precision    recall  f1_score  \\\n",
       "0  mul_m     MI    LR_L2     6191  0.597701   0.587563  0.603046  0.586714   \n",
       "0  mul_m     MI    LR_L1     6191  0.620690   0.622100  0.653839  0.618826   \n",
       "0  mul_m     MI    LR_EN     6191  0.620690   0.620956  0.653839  0.618064   \n",
       "\n",
       "   roc_auc   hostname  total_time_sec                    datetime  \\\n",
       "0      NaN  amilcar22             244  2023-10-30 09:24:26.305576   \n",
       "0      NaN  amilcar22            2005  2023-10-30 09:20:15.157233   \n",
       "0      NaN  amilcar22            1967  2023-10-30 08:46:43.366956   \n",
       "\n",
       "                   fichero_modelo  \\\n",
       "0  modelo_6191_mul_m_MI_LR_L2.pkl   \n",
       "0  modelo_6191_mul_m_MI_LR_L1.pkl   \n",
       "0  modelo_6191_mul_m_MI_LR_EN.pkl   \n",
       "\n",
       "                                              params               shape  \\\n",
       "0  {'selector__k': 1000, 'clasifier__solver': 'lb...  X_test:(87, 18875)   \n",
       "0  {'selector__k': 1000, 'clasifier__solver': 'sa...  X_test:(87, 18875)   \n",
       "0  {'selector__k': 1000, 'clasifier__solver': 'sa...  X_test:(87, 18875)   \n",
       "\n",
       "                                            features  roc_auc_ovr  \\\n",
       "0  ['ENSG00000001084.13', 'ENSG00000001460.18', '...     0.893352   \n",
       "0  ['ENSG00000001084.13', 'ENSG00000001460.18', '...     0.893279   \n",
       "0  ['ENSG00000001084.13', 'ENSG00000001460.18', '...     0.897262   \n",
       "\n",
       "                                         indices_auc  \\\n",
       "0  [0.8776408450704225, 0.8861111111111111, 0.819...   \n",
       "0  [0.8811619718309859, 0.8916666666666666, 0.812...   \n",
       "0  [0.880281690140845, 0.8925925925925925, 0.8181...   \n",
       "\n",
       "                                     indices_jaccard  \n",
       "0  [0.42857142857142855, 0.47368421052631576, 0.3...  \n",
       "0  [0.45, 0.5555555555555556, 0.3125, 0.416666666...  \n",
       "0  [0.45, 0.5555555555555556, 0.3125, 0.416666666...  "
      ]
     },
     "metadata": {},
     "output_type": "display_data"
    }
   ],
   "source": [
    "if M_TIPO.startswith(\"bin\"):\n",
    "    myfunc.save_metricas_to_csv(random_search, X_test, y_test, M_TIPO, M_SELECT, M_CLASIF, total_time, SEMILLA, myfunc.MET_DIR, M_FICHERO, fichero_modelo)\n",
    "else:\n",
    "    myfunc.save_metricas_multi_to_csv(random_search, X_test, y_test, M_TIPO, M_SELECT, M_CLASIF, total_time, SEMILLA, myfunc.MET_DIR, M_FICHERO, fichero_modelo)\n",
    "\n",
    "df1=myfunc.read_metricas_to_df(myfunc.MET_DIR,M_FICHERO)\n",
    "\n",
    "display(df1.sort_values(\"datetime\", ascending=False)[:3])\n"
   ]
  },
  {
   "cell_type": "markdown",
   "id": "61a6d097",
   "metadata": {
    "papermill": {
     "duration": 0.004495,
     "end_time": "2023-10-30T08:24:26.346494",
     "exception": false,
     "start_time": "2023-10-30T08:24:26.341999",
     "status": "completed"
    },
    "tags": []
   },
   "source": [
    "#### Guardar resultados"
   ]
  },
  {
   "cell_type": "code",
   "execution_count": 13,
   "id": "c5f9f457",
   "metadata": {
    "execution": {
     "iopub.execute_input": "2023-10-30T08:24:26.356132Z",
     "iopub.status.busy": "2023-10-30T08:24:26.355942Z",
     "iopub.status.idle": "2023-10-30T08:24:26.364443Z",
     "shell.execute_reply": "2023-10-30T08:24:26.363859Z"
    },
    "papermill": {
     "duration": 0.014749,
     "end_time": "2023-10-30T08:24:26.365617",
     "exception": false,
     "start_time": "2023-10-30T08:24:26.350868",
     "status": "completed"
    },
    "tags": []
   },
   "outputs": [
    {
     "name": "stdout",
     "output_type": "stream",
     "text": [
      "20231030T092426 : amilcar22 : INFO : Inicio guardar resultados\n",
      "20231030T092426 : amilcar22 : INFO : Inicio guardar fichero ../tfm_git/ejecuciones/metricas/resultados_6191_mul_m-MI-LR_L2.csv\n",
      "20231030T092426 : amilcar22 : INFO : Fin guardar fichero ../tfm_git/ejecuciones/metricas/resultados_6191_mul_m-MI-LR_L2.csv\n",
      "20231030T092426 : amilcar22 : INFO : Fin guardar resultados\n"
     ]
    }
   ],
   "source": [
    "fichero_resultados=R_FICHERO+\"_\"+M_TIPO+\"-\"+M_SELECT+\"-\"+M_CLASIF+\".csv\"\n",
    "myfunc.save_resultados_to_csv(M_TIPO, M_SELECT, M_CLASIF,  random_search, myfunc.MET_DIR, fichero_resultados)\n"
   ]
  }
 ],
 "metadata": {
  "kernelspec": {
   "display_name": "Python 3 (ipykernel)",
   "language": "python",
   "name": "python3"
  },
  "language_info": {
   "codemirror_mode": {
    "name": "ipython",
    "version": 3
   },
   "file_extension": ".py",
   "mimetype": "text/x-python",
   "name": "python",
   "nbconvert_exporter": "python",
   "pygments_lexer": "ipython3",
   "version": "3.10.12"
  },
  "papermill": {
   "default_parameters": {},
   "duration": 249.63564,
   "end_time": "2023-10-30T08:24:28.988793",
   "environment_variables": {},
   "exception": null,
   "input_path": "03_entrenamiento.ipynb",
   "output_path": "ejecuciones/training/03_entrenamiento.20231030T092018.param_0000_6191_mul_m_MI_LR_L2.output.ipynb",
   "parameters": {
    "MAX_ITERS": 500,
    "M_CLASIF": "LR_L2",
    "M_FICHERO": "metricas_6191",
    "M_SELECT": "MI",
    "M_TIPO": "mul_m",
    "PRE_DATA_FILE": "rows_transpose_norm_by_gene_id_with_target_num_",
    "P_FICHERO": "param_0000_6191_mul_m_MI_LR_L2.yaml",
    "R_FICHERO": "resultados_6191",
    "SCORING": "roc_auc_ovr",
    "SEMILLA": 6191,
    "eval_clasifier": "LogisticRegressionCV(random_state=SEMILLA)",
    "eval_selector": "SelectKBest(score_func=mutual_info_classif_state)",
    "param_distributions": {
     "clasifier__max_iter": [
      10000
     ],
     "clasifier__penalty": [
      "l2"
     ],
     "clasifier__solver": [
      "lbfgs"
     ],
     "selector__k": [
      1000
     ]
    }
   },
   "start_time": "2023-10-30T08:20:19.353153",
   "version": "2.4.0"
  }
 },
 "nbformat": 4,
 "nbformat_minor": 5
}