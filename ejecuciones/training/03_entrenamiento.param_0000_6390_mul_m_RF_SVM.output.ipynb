{
 "cells": [
  {
   "cell_type": "markdown",
   "id": "90ba4130",
   "metadata": {
    "papermill": {
     "duration": 0.003462,
     "end_time": "2023-10-30T16:43:40.863412",
     "exception": false,
     "start_time": "2023-10-30T16:43:40.859950",
     "status": "completed"
    },
    "tags": []
   },
   "source": [
    "##### Inicio"
   ]
  },
  {
   "cell_type": "markdown",
   "id": "8b6798ea",
   "metadata": {
    "papermill": {
     "duration": 0.002721,
     "end_time": "2023-10-30T16:43:40.869090",
     "exception": false,
     "start_time": "2023-10-30T16:43:40.866369",
     "status": "completed"
    },
    "tags": []
   },
   "source": [
    "#### Carga de datos"
   ]
  },
  {
   "cell_type": "code",
   "execution_count": 1,
   "id": "20b81a47",
   "metadata": {
    "execution": {
     "iopub.execute_input": "2023-10-30T16:43:40.875730Z",
     "iopub.status.busy": "2023-10-30T16:43:40.875489Z",
     "iopub.status.idle": "2023-10-30T16:43:41.738969Z",
     "shell.execute_reply": "2023-10-30T16:43:41.738476Z"
    },
    "papermill": {
     "duration": 0.868369,
     "end_time": "2023-10-30T16:43:41.740214",
     "exception": false,
     "start_time": "2023-10-30T16:43:40.871845",
     "status": "completed"
    },
    "tags": []
   },
   "outputs": [
    {
     "name": "stdout",
     "output_type": "stream",
     "text": [
      "CPU_COUNT: 8; NODE: amilcar22; sys.version: 3.10.12 (main, Jul  5 2023, 19:22:19) [GCC 11.2.0]\n",
      "LOKY_MAX_CPU_COUNT: 6\n",
      "OMP_NUM_THREADS: 2\n"
     ]
    }
   ],
   "source": [
    "import os\n",
    "import numpy as np\n",
    "import pandas as pd\n",
    "import datetime\n",
    "import sklearn\n",
    "import logging\n",
    "import warnings\n",
    "\n",
    "from sklearn.pipeline import Pipeline\n",
    "from sklearn.model_selection import RandomizedSearchCV, KFold, cross_val_score, train_test_split\n",
    "from sklearn.metrics import accuracy_score, confusion_matrix, classification_report, roc_auc_score\n",
    "\n",
    "#  cargar algoritmos para aprendizaje supervisado\n",
    "from sklearn.feature_selection import SelectKBest, f_classif, SelectFromModel, mutual_info_classif\n",
    "from sklearn.svm import SVC\n",
    "from sklearn.ensemble import RandomForestClassifier\n",
    "from sklearn.linear_model import LogisticRegression,LogisticRegressionCV\n",
    "\n",
    "# importar fichero con utilidades propias\n",
    "from commons import myfunctions as myfunc\n"
   ]
  },
  {
   "cell_type": "markdown",
   "id": "79ed9b08",
   "metadata": {
    "papermill": {
     "duration": 0.002516,
     "end_time": "2023-10-30T16:43:41.745645",
     "exception": false,
     "start_time": "2023-10-30T16:43:41.743129",
     "status": "completed"
    },
    "tags": []
   },
   "source": [
    "#### Parámetros a utilizar en el entrenamiento.\n",
    "\n",
    "Se indican los 3 algoritmos de *selección de características* (eval_selector_xxx) y los 3 algoritmos para la _clasificación_ (eval_clasifier_xxx)\n",
    "\n",
    "En *param_distributions* se indicar los parámetros que utilizan los algoritmos en la función RandomSearchCV.\n",
    "\n",
    "Esta celda tiene la etiqueta **parameters** que servirá para poder lanzar los entrenamientos con la utilidad **papermill** pasándole un fichero con los parámetros. Los nuevos parámetros se situarán tras esta celda para tener prevalencia."
   ]
  },
  {
   "cell_type": "code",
   "execution_count": 2,
   "id": "5c83440c",
   "metadata": {
    "execution": {
     "iopub.execute_input": "2023-10-30T16:43:41.751503Z",
     "iopub.status.busy": "2023-10-30T16:43:41.751247Z",
     "iopub.status.idle": "2023-10-30T16:43:41.758072Z",
     "shell.execute_reply": "2023-10-30T16:43:41.757626Z"
    },
    "papermill": {
     "duration": 0.01121,
     "end_time": "2023-10-30T16:43:41.759253",
     "exception": false,
     "start_time": "2023-10-30T16:43:41.748043",
     "status": "completed"
    },
    "tags": [
     "parameters"
    ]
   },
   "outputs": [
    {
     "name": "stdout",
     "output_type": "stream",
     "text": [
      "20231030T174341 : amilcar22 : INFO : Utilizando parámetros de mul_m\n"
     ]
    }
   ],
   "source": [
    "#  Parametros para el entrenamiento\n",
    "\n",
    "SEMILLA=        42\n",
    "M_TIPO=         \"mul_m\"\n",
    "M_SELECT=       \"MI\"\n",
    "M_CLASIF=       \"SVM\"\n",
    "R_FICHERO=      \"resultados\"\n",
    "M_FICHERO=      \"metricas\"\n",
    "PRE_DATA_FILE=  \"rows_transpose_norm_by_gene_id_with_target_num_\"\n",
    "SCORING=        \"roc_auc_ovr\" \n",
    "MAX_ITERS=      100\n",
    "\n",
    "def mutual_info_classif_state(X, y):\n",
    "    return mutual_info_classif(X, y, random_state=SEMILLA)\n",
    "\n",
    "eval_selector_mi = \"SelectKBest(score_func=mutual_info_classif_state)\"\n",
    "eval_selector_rf=  \"SelectFromModel(estimator=RandomForestClassifier(random_state=SEMILLA), threshold=-np.inf)\"\n",
    "eval_selector_anova=  \"SelectKBest(score_func=f_classif)\"\n",
    "\n",
    "eval_clasifier_svm= \"SVC(probability=True, random_state=SEMILLA)\"\n",
    "eval_clasifier_rf= \"RandomForestClassifier(random_state=SEMILLA)\"\n",
    "eval_clasifier_lr= \"LogisticRegressionCV(random_state=SEMILLA)\"\n",
    "\n",
    "if M_TIPO.startswith(\"bin_m\"):\n",
    "    myfunc.verbose(f\"Utilizando parámetros de {M_TIPO}\")\n",
    "    eval_selector = eval_selector_mi\n",
    "    eval_clasifier = eval_clasifier_svm\n",
    "\n",
    "    SEMILLA = 6578\n",
    "    M_SELECT = \"MI\"\n",
    "    M_CLASIF = \"SVM\"\n",
    "    param_distributions = {'selector__k': [1000], \n",
    "         'clasifier__kernel': ['rbf'], 'clasifier__gamma': [0.01], 'clasifier__C': [100]}\n",
    "elif M_TIPO.startswith(\"bin_s\"):\n",
    "    myfunc.verbose(f\"Utilizando parámetros de {M_TIPO}\")\n",
    "    eval_selector = eval_selector_rf\n",
    "    eval_clasifier = eval_clasifier_lr\n",
    "\n",
    "    SEMILLA = 6191\n",
    "    M_SELECT = \"RF\"\n",
    "    M_CLASIF = \"LR_L2\"\n",
    "    param_distributions = {'selector__max_features': [1000], 'selector__estimator__n_estimators': [200], \n",
    "        'clasifier__solver': ['lbfgs'], 'clasifier__penalty': ['l2'], 'clasifier__max_iter': [10000]}\n",
    "\n",
    "elif M_TIPO.startswith(\"mul_m\"):\n",
    "    myfunc.verbose(f\"Utilizando parámetros de {M_TIPO}\")\n",
    " \n",
    "    eval_selector = eval_selector_rf\n",
    "    eval_clasifier = eval_clasifier_lr\n",
    "\n",
    "    SEMILLA = 6191\n",
    "    M_SELECT = \"RF\"\n",
    "    M_CLASIF = \"LR_L2\"\n",
    "    param_distributions = {'selector__max_features': [1000], 'selector__estimator__n_estimators': [400], \n",
    "        'clasifier__solver': ['lbfgs'], 'clasifier__penalty': ['l2'], 'clasifier__max_iter': [10000]}\n",
    "\n",
    "else:\n",
    "    # M_TIPO.startswith(\"mul_s\"):\n",
    "    myfunc.verbose(f\"Utilizando parámetros de {M_TIPO}\")\n",
    "    eval_selector = eval_selector_anova\n",
    "    eval_clasifier = eval_clasifier_lr\n",
    "\n",
    "    SEMILLA = 1860\n",
    "    M_SELECT = \"ANOVA\"\n",
    "    M_CLASIF = \"LR_L2\"\n",
    "    param_distributions = {'selector__k': [1000], \n",
    "        'clasifier__solver': ['saga'], 'clasifier__penalty': ['l2'], 'clasifier__max_iter': [10000]}\n",
    "\n"
   ]
  },
  {
   "cell_type": "code",
   "execution_count": 3,
   "id": "e79481b4",
   "metadata": {
    "execution": {
     "iopub.execute_input": "2023-10-30T16:43:41.765498Z",
     "iopub.status.busy": "2023-10-30T16:43:41.765296Z",
     "iopub.status.idle": "2023-10-30T16:43:41.768862Z",
     "shell.execute_reply": "2023-10-30T16:43:41.768416Z"
    },
    "papermill": {
     "duration": 0.007967,
     "end_time": "2023-10-30T16:43:41.769975",
     "exception": false,
     "start_time": "2023-10-30T16:43:41.762008",
     "status": "completed"
    },
    "tags": [
     "injected-parameters"
    ]
   },
   "outputs": [],
   "source": [
    "# Parameters\n",
    "M_TIPO = \"mul_m\"\n",
    "M_SELECT = \"RF\"\n",
    "M_CLASIF = \"SVM\"\n",
    "P_FICHERO = \"param_0000_6390_mul_m_RF_SVM.yaml\"\n",
    "R_FICHERO = \"resultados_6390\"\n",
    "M_FICHERO = \"metricas_6390\"\n",
    "PRE_DATA_FILE = \"rows_transpose_norm_by_gene_id_with_target_num_\"\n",
    "SCORING = \"roc_auc_ovr\"\n",
    "SEMILLA = 6390\n",
    "MAX_ITERS = 500\n",
    "eval_selector = \"SelectFromModel(estimator=RandomForestClassifier(random_state=SEMILLA), threshold=-np.inf)\"\n",
    "eval_clasifier = \"SVC(probability=True, random_state=SEMILLA)\"\n",
    "param_distributions = {\n",
    "    \"selector__max_features\": [200],\n",
    "    \"selector__estimator__n_estimators\": [400],\n",
    "    \"clasifier__kernel\": [\"rbf\"],\n",
    "    \"clasifier__gamma\": [0.01],\n",
    "    \"clasifier__C\": [10],\n",
    "}\n"
   ]
  },
  {
   "cell_type": "code",
   "execution_count": 4,
   "id": "702ba3c2",
   "metadata": {
    "execution": {
     "iopub.execute_input": "2023-10-30T16:43:41.776166Z",
     "iopub.status.busy": "2023-10-30T16:43:41.776012Z",
     "iopub.status.idle": "2023-10-30T16:43:41.778933Z",
     "shell.execute_reply": "2023-10-30T16:43:41.778360Z"
    },
    "papermill": {
     "duration": 0.007381,
     "end_time": "2023-10-30T16:43:41.780132",
     "exception": false,
     "start_time": "2023-10-30T16:43:41.772751",
     "status": "completed"
    },
    "tags": []
   },
   "outputs": [],
   "source": [
    "DATA_FILE = PRE_DATA_FILE + M_TIPO\n",
    "\n",
    "# si viene \"None\" en el parámetro max_depth, se le quitan las comillas para que no sea entendido por el algoritmo como un texto\n",
    "if \"clasifier__max_depth\" in param_distributions:\n",
    "    param_distributions['clasifier__max_depth'] = [None if x == 'None' else x for x in param_distributions['clasifier__max_depth']]"
   ]
  },
  {
   "cell_type": "markdown",
   "id": "989c13b3",
   "metadata": {
    "papermill": {
     "duration": 0.002896,
     "end_time": "2023-10-30T16:43:41.785998",
     "exception": false,
     "start_time": "2023-10-30T16:43:41.783102",
     "status": "completed"
    },
    "tags": []
   },
   "source": [
    "Asignar los algoritmos que se utilizarán en la función RandomSearchCV"
   ]
  },
  {
   "cell_type": "code",
   "execution_count": 5,
   "id": "26d399b3",
   "metadata": {
    "execution": {
     "iopub.execute_input": "2023-10-30T16:43:41.792617Z",
     "iopub.status.busy": "2023-10-30T16:43:41.792434Z",
     "iopub.status.idle": "2023-10-30T16:43:41.795283Z",
     "shell.execute_reply": "2023-10-30T16:43:41.794746Z"
    },
    "papermill": {
     "duration": 0.007558,
     "end_time": "2023-10-30T16:43:41.796527",
     "exception": false,
     "start_time": "2023-10-30T16:43:41.788969",
     "status": "completed"
    },
    "tags": []
   },
   "outputs": [],
   "source": [
    "algor_selector=eval(eval_selector)\n",
    "algor_clasifier=eval(eval_clasifier)"
   ]
  },
  {
   "cell_type": "markdown",
   "id": "2259b771",
   "metadata": {
    "papermill": {
     "duration": 0.003261,
     "end_time": "2023-10-30T16:43:41.803009",
     "exception": false,
     "start_time": "2023-10-30T16:43:41.799748",
     "status": "completed"
    },
    "tags": []
   },
   "source": [
    "#### Comprobar el entorno y leer fichero de muestras"
   ]
  },
  {
   "cell_type": "code",
   "execution_count": 6,
   "id": "327da656",
   "metadata": {
    "execution": {
     "iopub.execute_input": "2023-10-30T16:43:41.810335Z",
     "iopub.status.busy": "2023-10-30T16:43:41.810148Z",
     "iopub.status.idle": "2023-10-30T16:43:41.971248Z",
     "shell.execute_reply": "2023-10-30T16:43:41.970775Z"
    },
    "papermill": {
     "duration": 0.166386,
     "end_time": "2023-10-30T16:43:41.972612",
     "exception": false,
     "start_time": "2023-10-30T16:43:41.806226",
     "status": "completed"
    },
    "tags": []
   },
   "outputs": [
    {
     "name": "stdout",
     "output_type": "stream",
     "text": [
      "20231030T174341 : amilcar22 : INFO : Encontrada carpeta DATA_DIR=../tfm_git/datos\n",
      "20231030T174341 : amilcar22 : INFO : Encontrada carpeta CFDNA_DIR=../tfm_git/datos/cfDNA_5hmC\n",
      "20231030T174341 : amilcar22 : INFO : Encontrada carpeta GENCODE_DIR=../tfm_git/datos/gencode\n",
      "20231030T174341 : amilcar22 : INFO : Encontrada carpeta H5_DIR=../tfm_git/datos/h5\n",
      "20231030T174341 : amilcar22 : INFO : Encontrada carpeta LOG_DIR=../tfm_git/datos/logs\n",
      "20231030T174341 : amilcar22 : INFO : Encontrada carpeta CSV_DIR=../tfm_git/datos/csv\n",
      "20231030T174341 : amilcar22 : INFO : Encontrada carpeta MODEL_DIR=../tfm_git/ejecuciones/modelos\n",
      "20231030T174341 : amilcar22 : INFO : Encontrada carpeta EXEC_DIR=../tfm_git/ejecuciones\n",
      "20231030T174341 : amilcar22 : INFO : Encontrada carpeta MET_DIR=../tfm_git/ejecuciones/metricas\n",
      "20231030T174341 : amilcar22 : INFO : Inicio leer fichero h5 ../tfm_git/datos/h5/rows_transpose_norm_by_gene_id_with_target_num_mul_m.h5\n",
      "20231030T174341 : amilcar22 : INFO : Leyendo clave /df\n",
      "20231030T174341 : amilcar22 : INFO : Tamaño (434, 18876)\n",
      "20231030T174341 : amilcar22 : INFO : Fin leer fichero h5 ../tfm_git/datos/h5/rows_transpose_norm_by_gene_id_with_target_num_mul_m.h5\n"
     ]
    },
    {
     "data": {
      "text/plain": [
       "target\n",
       "0    62\n",
       "1    62\n",
       "2    62\n",
       "3    62\n",
       "4    62\n",
       "5    62\n",
       "6    62\n",
       "dtype: int64"
      ]
     },
     "metadata": {},
     "output_type": "display_data"
    },
    {
     "name": "stdout",
     "output_type": "stream",
     "text": [
      "Shape df: (434, 18876)\n"
     ]
    },
    {
     "name": "stdout",
     "output_type": "stream",
     "text": [
      "Shape X_train: (347, 18875)\n",
      "Shape X_test: (87, 18875)\n"
     ]
    }
   ],
   "source": [
    "start_time = datetime.datetime.now()\n",
    "\n",
    "myfunc.reset_vars()\n",
    "\n",
    "myfunc.NOTEBK_FILENAME = myfunc.get_nb_name()\n",
    "\n",
    "myfunc.check_enviroment(myfunc.DATA_DIR, myfunc.CFDNA_DIR, myfunc.GENCODE_DIR, myfunc.H5_DIR, myfunc.LOG_DIR, myfunc.CSV_DIR, myfunc.MODEL_DIR, myfunc.EXEC_DIR, myfunc.MET_DIR)\n",
    "\n",
    "# Leer fichero con las muestras\n",
    "df_t = myfunc.read_h5_to_df(DATA_FILE, myfunc.H5_DIR)\n",
    "display(df_t.groupby(\"target\").size())\n",
    "print(\"Shape df:\",df_t.shape)\n",
    "\n",
    "# Separar caracteristicas/genes de las etiquetas/tipos de cáncer\n",
    "X = df_t.iloc[:, :-1]  # Todas las columnas excepto la última\n",
    "y = df_t.iloc[:, -1]  # La última columna contiene los identificadores de los tipos de cáncer\n",
    "\n",
    "#  Crear el conjunto de datos de entrenamiento y de pruebas, y se fija la semilla para siempre coger el mismo juego de muestras\n",
    "X_train, X_test, y_train, y_test = train_test_split(X, y, test_size=0.2, shuffle=True, random_state=42)\n",
    "print(\"Shape X_train:\",X_train.shape)\n",
    "print(\"Shape X_test:\",X_test.shape)\n"
   ]
  },
  {
   "cell_type": "markdown",
   "id": "4a0b9d8f",
   "metadata": {
    "papermill": {
     "duration": 0.002853,
     "end_time": "2023-10-30T16:43:41.978732",
     "exception": false,
     "start_time": "2023-10-30T16:43:41.975879",
     "status": "completed"
    },
    "tags": []
   },
   "source": [
    "#### Selección de características y clasificación."
   ]
  },
  {
   "cell_type": "code",
   "execution_count": 7,
   "id": "a85e54be",
   "metadata": {
    "execution": {
     "iopub.execute_input": "2023-10-30T16:43:41.985316Z",
     "iopub.status.busy": "2023-10-30T16:43:41.985115Z",
     "iopub.status.idle": "2023-10-30T16:44:00.235603Z",
     "shell.execute_reply": "2023-10-30T16:44:00.234966Z"
    },
    "papermill": {
     "duration": 18.25536,
     "end_time": "2023-10-30T16:44:00.236907",
     "exception": false,
     "start_time": "2023-10-30T16:43:41.981547",
     "status": "completed"
    },
    "tags": []
   },
   "outputs": [
    {
     "name": "stdout",
     "output_type": "stream",
     "text": [
      "20231030T174341 : amilcar22 : INFO : Iniciando entrenamiento\n",
      "num_iter: 1 , max_iter: 1\n",
      "Fitting 5 folds for each of 1 candidates, totalling 5 fits\n"
     ]
    },
    {
     "name": "stdout",
     "output_type": "stream",
     "text": [
      "Mejores Hiperparámetros: {'selector__max_features': 200, 'selector__estimator__n_estimators': 400, 'clasifier__kernel': 'rbf', 'clasifier__gamma': 0.01, 'clasifier__C': 10}\n",
      "Mejor Puntuación: 0.8554\n",
      "20231030T174400 : amilcar22 : INFO : Fin entrenamiento\n"
     ]
    }
   ],
   "source": [
    "myfunc.verbose(\"Iniciando entrenamiento\")\n",
    "\n",
    "kf = KFold(n_splits=5, shuffle=True, random_state=SEMILLA)\n",
    "\n",
    "# Crear el pipeline para el flujo de tareas\n",
    "tasks_pipeline = Pipeline([\n",
    "    ('selector', algor_selector),\n",
    "    ('clasifier', algor_clasifier)\n",
    "])\n",
    "\n",
    "# MAX_ITERS puede limitar el número de iteraciones si son excesivas para las combinaciones de parámetros buscando un óptimo local, \n",
    "# sino funcionaría como GridSearchCV al revisar todas las cominaciones de los parámetros\n",
    "num_iteraciones = 1\n",
    "num_iteraciones = num_iteraciones * np.prod([len(elemento1) for _, elemento1 in param_distributions.items()])\n",
    "max_iteraciones = num_iteraciones if num_iteraciones <= MAX_ITERS else MAX_ITERS\n",
    "print(\"num_iter:\",num_iteraciones,\", max_iter:\",max_iteraciones)\n",
    "\n",
    "random_search = RandomizedSearchCV(\n",
    "    tasks_pipeline, \n",
    "    param_distributions, \n",
    "    n_iter=max_iteraciones,\n",
    "    scoring=SCORING,\n",
    "    cv=kf,\n",
    "    verbose=3, \n",
    "    random_state=SEMILLA, \n",
    "    n_jobs=-1\n",
    "    )\n",
    "\n",
    "# Entrenar el modelo\n",
    "random_search.fit(X_train, y_train)\n",
    "\n",
    "# Ver los mejores hiperparámetros encontrados\n",
    "print(f'Mejores Hiperparámetros: {random_search.best_params_}')\n",
    "print(f'Mejor Puntuación: {random_search.best_score_:.4f}')\n",
    "\n",
    "# Nos quedamos con el mejor modelo para ver las métricas\n",
    "mejor_modelo = random_search.best_estimator_\n",
    "\n",
    "myfunc.verbose(\"Fin entrenamiento\")"
   ]
  },
  {
   "cell_type": "markdown",
   "id": "26112d02",
   "metadata": {
    "papermill": {
     "duration": 0.00286,
     "end_time": "2023-10-30T16:44:00.243067",
     "exception": false,
     "start_time": "2023-10-30T16:44:00.240207",
     "status": "completed"
    },
    "tags": []
   },
   "source": [
    "#### Guardar modelo"
   ]
  },
  {
   "cell_type": "code",
   "execution_count": 8,
   "id": "c476d629",
   "metadata": {
    "execution": {
     "iopub.execute_input": "2023-10-30T16:44:00.249788Z",
     "iopub.status.busy": "2023-10-30T16:44:00.249606Z",
     "iopub.status.idle": "2023-10-30T16:44:00.381384Z",
     "shell.execute_reply": "2023-10-30T16:44:00.380682Z"
    },
    "papermill": {
     "duration": 0.136702,
     "end_time": "2023-10-30T16:44:00.382646",
     "exception": false,
     "start_time": "2023-10-30T16:44:00.245944",
     "status": "completed"
    },
    "tags": []
   },
   "outputs": [
    {
     "name": "stdout",
     "output_type": "stream",
     "text": [
      "20231030T174400 : amilcar22 : INFO : Inicio guardar fichero ../tfm_git/ejecuciones/modelos/modelo_6390_mul_m_RF_SVM.pkl\n",
      "20231030T174400 : amilcar22 : INFO : Fin guardar fichero ../tfm_git/ejecuciones/modelos/modelo_6390_mul_m_RF_SVM.pkl\n"
     ]
    }
   ],
   "source": [
    "fichero_modelo = str.replace(\"modelo_\"+str(SEMILLA).zfill(4)+\"_\"+M_TIPO+\"_\"+M_SELECT+\"_\"+M_CLASIF+\".pkl\", \" \", \"_\")\n",
    "\n",
    "myfunc.save_modelo(mejor_modelo, myfunc.MODEL_DIR, fichero_modelo)"
   ]
  },
  {
   "cell_type": "markdown",
   "id": "401936cb",
   "metadata": {
    "papermill": {
     "duration": 0.003192,
     "end_time": "2023-10-30T16:44:00.389345",
     "exception": false,
     "start_time": "2023-10-30T16:44:00.386153",
     "status": "completed"
    },
    "tags": []
   },
   "source": [
    "#### Ver resultados del las iteraciones hechas por RandomSearchCV"
   ]
  },
  {
   "cell_type": "code",
   "execution_count": 9,
   "id": "985aca1f",
   "metadata": {
    "execution": {
     "iopub.execute_input": "2023-10-30T16:44:00.396030Z",
     "iopub.status.busy": "2023-10-30T16:44:00.395849Z",
     "iopub.status.idle": "2023-10-30T16:44:00.401415Z",
     "shell.execute_reply": "2023-10-30T16:44:00.400844Z"
    },
    "papermill": {
     "duration": 0.010312,
     "end_time": "2023-10-30T16:44:00.402558",
     "exception": false,
     "start_time": "2023-10-30T16:44:00.392246",
     "status": "completed"
    },
    "tags": []
   },
   "outputs": [
    {
     "name": "stdout",
     "output_type": "stream",
     "text": [
      "20231030T174400 : amilcar22 : INFO : Inicio ver resultados\n",
      "Mejores Hiperparámetros: {'selector__max_features': 200, 'selector__estimator__n_estimators': 400, 'clasifier__kernel': 'rbf', 'clasifier__gamma': 0.01, 'clasifier__C': 10}\n",
      "Mejores puntuaciones: 0.8554 | Params: {'selector__max_features': 200, 'selector__estimator__n_estimators': 400, 'clasifier__kernel': 'rbf', 'clasifier__gamma': 0.01, 'clasifier__C': 10}\n",
      "Media de las puntuaciones: 0.8554 | Params: {'selector__max_features': 200, 'selector__estimator__n_estimators': 400, 'clasifier__kernel': 'rbf', 'clasifier__gamma': 0.01, 'clasifier__C': 10}\n",
      "20231030T174400 : amilcar22 : INFO : Fin resultados\n"
     ]
    }
   ],
   "source": [
    "myfunc.ver_resultados_search(random_search)"
   ]
  },
  {
   "cell_type": "markdown",
   "id": "98389adb",
   "metadata": {
    "papermill": {
     "duration": 0.003001,
     "end_time": "2023-10-30T16:44:00.408640",
     "exception": false,
     "start_time": "2023-10-30T16:44:00.405639",
     "status": "completed"
    },
    "tags": []
   },
   "source": [
    "#### Ver métricas del mejor modelo"
   ]
  },
  {
   "cell_type": "code",
   "execution_count": 10,
   "id": "e7bcf56f",
   "metadata": {
    "execution": {
     "iopub.execute_input": "2023-10-30T16:44:00.415421Z",
     "iopub.status.busy": "2023-10-30T16:44:00.415253Z",
     "iopub.status.idle": "2023-10-30T16:44:01.378899Z",
     "shell.execute_reply": "2023-10-30T16:44:01.378472Z"
    },
    "papermill": {
     "duration": 0.968483,
     "end_time": "2023-10-30T16:44:01.380128",
     "exception": false,
     "start_time": "2023-10-30T16:44:00.411645",
     "status": "completed"
    },
    "tags": []
   },
   "outputs": [
    {
     "name": "stdout",
     "output_type": "stream",
     "text": [
      "20231030T174400 : amilcar22 : INFO : Inicio ver métricas multiclase\n"
     ]
    },
    {
     "name": "stdout",
     "output_type": "stream",
     "text": [
      "              precision    recall  f1-score   support\n",
      "\n",
      "           0       0.10      0.06      0.08        16\n",
      "           1       0.91      0.67      0.77        15\n",
      "           2       0.46      0.55      0.50        11\n",
      "           3       0.36      0.80      0.50         5\n",
      "           4       0.44      0.54      0.48        13\n",
      "           5       0.58      0.78      0.67         9\n",
      "           6       0.71      0.56      0.63        18\n",
      "\n",
      "    accuracy                           0.52        87\n",
      "   macro avg       0.51      0.56      0.52        87\n",
      "weighted avg       0.53      0.52      0.51        87\n",
      "\n",
      "\n",
      "\n",
      "           Exactitud: 0.517241\n",
      "   Precisión (media): 0.509912\n",
      "      Recall (media): 0.563774\n",
      "    F1-score (media): 0.517226\n",
      "\n",
      "\n",
      "AUC para el tipo de cáncer 0-Control.... 0.6813\n",
      "AUC para el tipo de cáncer 1-Bladder.... 0.9231\n",
      "AUC para el tipo de cáncer 2-Breast..... 0.7380\n",
      "AUC para el tipo de cáncer 3-Colorectal. 0.8927\n",
      "AUC para el tipo de cáncer 4-Kidney..... 0.8347\n",
      "AUC para el tipo de cáncer 5-Lung....... 0.9501\n",
      "AUC para el tipo de cáncer 6-Prostate... 0.8333\n",
      "\n",
      "Media de AUC: 0.8362\n"
     ]
    },
    {
     "data": {
      "image/png": "[encoded data removed]",
      "text/plain": [
       "<Figure size 1000x600 with 1 Axes>"
      ]
     },
     "metadata": {},
     "output_type": "display_data"
    },
    {
     "name": "stdout",
     "output_type": "stream",
     "text": [
      "\n",
      "\n"
     ]
    },
    {
     "data": {
      "image/png": "[encoded data removed]",
      "text/plain": [
       "<Figure size 800x400 with 2 Axes>"
      ]
     },
     "metadata": {},
     "output_type": "display_data"
    },
    {
     "name": "stdout",
     "output_type": "stream",
     "text": [
      "\n",
      "\n",
      "Puntuación Jaccard para el cáncer tipo 0-Control.... 0.0400\n",
      "Puntuación Jaccard para el cáncer tipo 1-Bladder.... 0.6250\n",
      "Puntuación Jaccard para el cáncer tipo 2-Breast..... 0.3333\n",
      "Puntuación Jaccard para el cáncer tipo 3-Colorectal. 0.3333\n",
      "Puntuación Jaccard para el cáncer tipo 4-Kidney..... 0.3182\n",
      "Puntuación Jaccard para el cáncer tipo 5-Lung....... 0.5000\n",
      "Puntuación Jaccard para el cáncer tipo 6-Prostate... 0.4545\n",
      "\n",
      "Media de la puntuación de Jaccard: 0.3721\n"
     ]
    }
   ],
   "source": [
    "if M_TIPO.startswith(\"bin\"):\n",
    "    myfunc.ver_metricas(mejor_modelo, X_test, y_test)\n",
    "else:\n",
    "    myfunc.ver_metricas_multi(mejor_modelo, X_test, y_test)\n"
   ]
  },
  {
   "cell_type": "markdown",
   "id": "31a9eeb6",
   "metadata": {
    "papermill": {
     "duration": 0.004083,
     "end_time": "2023-10-30T16:44:01.388814",
     "exception": false,
     "start_time": "2023-10-30T16:44:01.384731",
     "status": "completed"
    },
    "tags": []
   },
   "source": [
    "#### Finalización del notebook"
   ]
  },
  {
   "cell_type": "code",
   "execution_count": 11,
   "id": "6d11df0c",
   "metadata": {
    "execution": {
     "iopub.execute_input": "2023-10-30T16:44:01.397871Z",
     "iopub.status.busy": "2023-10-30T16:44:01.397689Z",
     "iopub.status.idle": "2023-10-30T16:44:01.400862Z",
     "shell.execute_reply": "2023-10-30T16:44:01.400315Z"
    },
    "papermill": {
     "duration": 0.009005,
     "end_time": "2023-10-30T16:44:01.401970",
     "exception": false,
     "start_time": "2023-10-30T16:44:01.392965",
     "status": "completed"
    },
    "tags": []
   },
   "outputs": [
    {
     "name": "stdout",
     "output_type": "stream",
     "text": [
      "20231030T174401 : amilcar22 : INFO : Notebook ha tardado 19 seconds\n"
     ]
    }
   ],
   "source": [
    "end_time = datetime.datetime.now()\n",
    "total_time = end_time - start_time\n",
    "myfunc.verbose(f\"Notebook ha tardado {total_time.seconds} seconds\")"
   ]
  },
  {
   "cell_type": "markdown",
   "id": "477b2394",
   "metadata": {
    "papermill": {
     "duration": 0.004077,
     "end_time": "2023-10-30T16:44:01.410225",
     "exception": false,
     "start_time": "2023-10-30T16:44:01.406148",
     "status": "completed"
    },
    "tags": []
   },
   "source": [
    "#### Guardar métricas"
   ]
  },
  {
   "cell_type": "code",
   "execution_count": 12,
   "id": "8cb1cfbb",
   "metadata": {
    "execution": {
     "iopub.execute_input": "2023-10-30T16:44:01.419173Z",
     "iopub.status.busy": "2023-10-30T16:44:01.419002Z",
     "iopub.status.idle": "2023-10-30T16:44:02.224666Z",
     "shell.execute_reply": "2023-10-30T16:44:02.224030Z"
    },
    "papermill": {
     "duration": 0.811607,
     "end_time": "2023-10-30T16:44:02.225917",
     "exception": false,
     "start_time": "2023-10-30T16:44:01.414310",
     "status": "completed"
    },
    "tags": []
   },
   "outputs": [
    {
     "name": "stdout",
     "output_type": "stream",
     "text": [
      "20231030T174401 : amilcar22 : INFO : Inicio guardar métricas multiclase\n",
      "20231030T174401 : amilcar22 : INFO : Inicio leer fichero ../tfm_git/ejecuciones/metricas/metricas_6390.csv\n",
      "20231030T174401 : amilcar22 : INFO : Fin leer fichero ../tfm_git/ejecuciones/metricas/metricas_6390.csv\n"
     ]
    },
    {
     "name": "stdout",
     "output_type": "stream",
     "text": [
      "20231030T174402 : amilcar22 : INFO : Inicio guardar fichero ../tfm_git/ejecuciones/metricas/metricas_6390.csv\n",
      "20231030T174402 : amilcar22 : INFO : Fichero borrado ../tfm_git/ejecuciones/metricas/metricas_6390.csv\n",
      "20231030T174402 : amilcar22 : INFO : Fin guardar fichero ../tfm_git/ejecuciones/metricas/metricas_6390.csv\n",
      "20231030T174402 : amilcar22 : INFO : Fin guardar métricas multiclase\n",
      "20231030T174402 : amilcar22 : INFO : Inicio leer fichero ../tfm_git/ejecuciones/metricas/metricas_6390.csv\n",
      "20231030T174402 : amilcar22 : INFO : Fin leer fichero ../tfm_git/ejecuciones/metricas/metricas_6390.csv\n"
     ]
    },
    {
     "data": {
      "text/html": [
       "<div>\n",
       "<style scoped>\n",
       "    .dataframe tbody tr th:only-of-type {\n",
       "        vertical-align: middle;\n",
       "    }\n",
       "\n",
       "    .dataframe tbody tr th {\n",
       "        vertical-align: top;\n",
       "    }\n",
       "\n",
       "    .dataframe thead th {\n",
       "        text-align: right;\n",
       "    }\n",
       "</style>\n",
       "<table border=\"1\" class=\"dataframe\">\n",
       "  <thead>\n",
       "    <tr style=\"text-align: right;\">\n",
       "      <th></th>\n",
       "      <th>tipo</th>\n",
       "      <th>select</th>\n",
       "      <th>clasific</th>\n",
       "      <th>semilla</th>\n",
       "      <th>accuracy</th>\n",
       "      <th>precision</th>\n",
       "      <th>recall</th>\n",
       "      <th>f1_score</th>\n",
       "      <th>roc_auc</th>\n",
       "      <th>hostname</th>\n",
       "      <th>total_time_sec</th>\n",
       "      <th>datetime</th>\n",
       "      <th>fichero_modelo</th>\n",
       "      <th>params</th>\n",
       "      <th>shape</th>\n",
       "      <th>features</th>\n",
       "      <th>roc_auc_ovr</th>\n",
       "      <th>indices_auc</th>\n",
       "      <th>indices_jaccard</th>\n",
       "    </tr>\n",
       "  </thead>\n",
       "  <tbody>\n",
       "    <tr>\n",
       "      <th>0</th>\n",
       "      <td>mul_m</td>\n",
       "      <td>RF</td>\n",
       "      <td>SVM</td>\n",
       "      <td>6390</td>\n",
       "      <td>0.517241</td>\n",
       "      <td>0.509912</td>\n",
       "      <td>0.563774</td>\n",
       "      <td>0.517226</td>\n",
       "      <td>NaN</td>\n",
       "      <td>amilcar22</td>\n",
       "      <td>19</td>\n",
       "      <td>2023-10-30 17:44:02.194336</td>\n",
       "      <td>modelo_6390_mul_m_RF_SVM.pkl</td>\n",
       "      <td>{'selector__max_features': 200, 'selector__est...</td>\n",
       "      <td>X_test:(87, 18875)</td>\n",
       "      <td>['ENSG00000000938.13', 'ENSG00000005381.9', 'E...</td>\n",
       "      <td>0.836200</td>\n",
       "      <td>[0.6813380281690141, 0.9231481481481483, 0.738...</td>\n",
       "      <td>[0.04, 0.625, 0.3333333333333333, 0.3333333333...</td>\n",
       "    </tr>\n",
       "    <tr>\n",
       "      <th>0</th>\n",
       "      <td>mul_m</td>\n",
       "      <td>RF</td>\n",
       "      <td>RF</td>\n",
       "      <td>6390</td>\n",
       "      <td>0.494253</td>\n",
       "      <td>0.423879</td>\n",
       "      <td>0.523743</td>\n",
       "      <td>0.460582</td>\n",
       "      <td>NaN</td>\n",
       "      <td>amilcar22</td>\n",
       "      <td>26</td>\n",
       "      <td>2023-10-30 17:43:35.762446</td>\n",
       "      <td>modelo_6390_mul_m_RF_RF.pkl</td>\n",
       "      <td>{'selector__max_features': 500, 'selector__est...</td>\n",
       "      <td>X_test:(87, 18875)</td>\n",
       "      <td>['ENSG00000000938.13', 'ENSG00000005381.9', 'E...</td>\n",
       "      <td>0.817936</td>\n",
       "      <td>[0.6073943661971831, 0.8731481481481482, 0.818...</td>\n",
       "      <td>[0.0, 0.45, 0.21052631578947367, 0.23076923076...</td>\n",
       "    </tr>\n",
       "    <tr>\n",
       "      <th>0</th>\n",
       "      <td>mul_m</td>\n",
       "      <td>RF</td>\n",
       "      <td>LR_L2</td>\n",
       "      <td>6390</td>\n",
       "      <td>0.540230</td>\n",
       "      <td>0.548989</td>\n",
       "      <td>0.551292</td>\n",
       "      <td>0.534838</td>\n",
       "      <td>NaN</td>\n",
       "      <td>amilcar22</td>\n",
       "      <td>57</td>\n",
       "      <td>2023-10-30 17:43:02.743249</td>\n",
       "      <td>modelo_6390_mul_m_RF_LR_L2.pkl</td>\n",
       "      <td>{'selector__max_features': 1000, 'selector__es...</td>\n",
       "      <td>X_test:(87, 18875)</td>\n",
       "      <td>['ENSG00000000938.13', 'ENSG00000004799.8', 'E...</td>\n",
       "      <td>0.846037</td>\n",
       "      <td>[0.7411971830985915, 0.8944444444444445, 0.706...</td>\n",
       "      <td>[0.20833333333333334, 0.5294117647058824, 0.22...</td>\n",
       "    </tr>\n",
       "  </tbody>\n",
       "</table>\n",
       "</div>"
      ],
      "text/plain": [
       "    tipo select clasific  semilla  accuracy  precision    recall  f1_score  \\\n",
       "0  mul_m     RF      SVM     6390  0.517241   0.509912  0.563774  0.517226   \n",
       "0  mul_m     RF       RF     6390  0.494253   0.423879  0.523743  0.460582   \n",
       "0  mul_m     RF    LR_L2     6390  0.540230   0.548989  0.551292  0.534838   \n",
       "\n",
       "   roc_auc   hostname  total_time_sec                    datetime  \\\n",
       "0      NaN  amilcar22              19  2023-10-30 17:44:02.194336   \n",
       "0      NaN  amilcar22              26  2023-10-30 17:43:35.762446   \n",
       "0      NaN  amilcar22              57  2023-10-30 17:43:02.743249   \n",
       "\n",
       "                   fichero_modelo  \\\n",
       "0    modelo_6390_mul_m_RF_SVM.pkl   \n",
       "0     modelo_6390_mul_m_RF_RF.pkl   \n",
       "0  modelo_6390_mul_m_RF_LR_L2.pkl   \n",
       "\n",
       "                                              params               shape  \\\n",
       "0  {'selector__max_features': 200, 'selector__est...  X_test:(87, 18875)   \n",
       "0  {'selector__max_features': 500, 'selector__est...  X_test:(87, 18875)   \n",
       "0  {'selector__max_features': 1000, 'selector__es...  X_test:(87, 18875)   \n",
       "\n",
       "                                            features  roc_auc_ovr  \\\n",
       "0  ['ENSG00000000938.13', 'ENSG00000005381.9', 'E...     0.836200   \n",
       "0  ['ENSG00000000938.13', 'ENSG00000005381.9', 'E...     0.817936   \n",
       "0  ['ENSG00000000938.13', 'ENSG00000004799.8', 'E...     0.846037   \n",
       "\n",
       "                                         indices_auc  \\\n",
       "0  [0.6813380281690141, 0.9231481481481483, 0.738...   \n",
       "0  [0.6073943661971831, 0.8731481481481482, 0.818...   \n",
       "0  [0.7411971830985915, 0.8944444444444445, 0.706...   \n",
       "\n",
       "                                     indices_jaccard  \n",
       "0  [0.04, 0.625, 0.3333333333333333, 0.3333333333...  \n",
       "0  [0.0, 0.45, 0.21052631578947367, 0.23076923076...  \n",
       "0  [0.20833333333333334, 0.5294117647058824, 0.22...  "
      ]
     },
     "metadata": {},
     "output_type": "display_data"
    }
   ],
   "source": [
    "if M_TIPO.startswith(\"bin\"):\n",
    "    myfunc.save_metricas_to_csv(random_search, X_test, y_test, M_TIPO, M_SELECT, M_CLASIF, total_time, SEMILLA, myfunc.MET_DIR, M_FICHERO, fichero_modelo)\n",
    "else:\n",
    "    myfunc.save_metricas_multi_to_csv(random_search, X_test, y_test, M_TIPO, M_SELECT, M_CLASIF, total_time, SEMILLA, myfunc.MET_DIR, M_FICHERO, fichero_modelo)\n",
    "\n",
    "df1=myfunc.read_metricas_to_df(myfunc.MET_DIR,M_FICHERO)\n",
    "\n",
    "display(df1.sort_values(\"datetime\", ascending=False)[:3])\n"
   ]
  },
  {
   "cell_type": "markdown",
   "id": "0720ae3b",
   "metadata": {
    "papermill": {
     "duration": 0.004562,
     "end_time": "2023-10-30T16:44:02.235174",
     "exception": false,
     "start_time": "2023-10-30T16:44:02.230612",
     "status": "completed"
    },
    "tags": []
   },
   "source": [
    "#### Guardar resultados"
   ]
  },
  {
   "cell_type": "code",
   "execution_count": 13,
   "id": "6758401e",
   "metadata": {
    "execution": {
     "iopub.execute_input": "2023-10-30T16:44:02.244763Z",
     "iopub.status.busy": "2023-10-30T16:44:02.244552Z",
     "iopub.status.idle": "2023-10-30T16:44:02.252620Z",
     "shell.execute_reply": "2023-10-30T16:44:02.252137Z"
    },
    "papermill": {
     "duration": 0.014295,
     "end_time": "2023-10-30T16:44:02.253845",
     "exception": false,
     "start_time": "2023-10-30T16:44:02.239550",
     "status": "completed"
    },
    "tags": []
   },
   "outputs": [
    {
     "name": "stdout",
     "output_type": "stream",
     "text": [
      "20231030T174402 : amilcar22 : INFO : Inicio guardar resultados\n",
      "20231030T174402 : amilcar22 : INFO : Inicio guardar fichero ../tfm_git/ejecuciones/metricas/resultados_6390_mul_m-RF-SVM.csv\n",
      "20231030T174402 : amilcar22 : INFO : Fin guardar fichero ../tfm_git/ejecuciones/metricas/resultados_6390_mul_m-RF-SVM.csv\n",
      "20231030T174402 : amilcar22 : INFO : Fin guardar resultados\n"
     ]
    }
   ],
   "source": [
    "fichero_resultados=R_FICHERO+\"_\"+M_TIPO+\"-\"+M_SELECT+\"-\"+M_CLASIF+\".csv\"\n",
    "myfunc.save_resultados_to_csv(M_TIPO, M_SELECT, M_CLASIF,  random_search, myfunc.MET_DIR, fichero_resultados)\n"
   ]
  }
 ],
 "metadata": {
  "kernelspec": {
   "display_name": "Python 3 (ipykernel)",
   "language": "python",
   "name": "python3"
  },
  "language_info": {
   "codemirror_mode": {
    "name": "ipython",
    "version": 3
   },
   "file_extension": ".py",
   "mimetype": "text/x-python",
   "name": "python",
   "nbconvert_exporter": "python",
   "pygments_lexer": "ipython3",
   "version": "3.10.12"
  },
  "papermill": {
   "default_parameters": {},
   "duration": 24.929564,
   "end_time": "2023-10-30T16:44:04.874434",
   "environment_variables": {},
   "exception": null,
   "input_path": "03_entrenamiento.ipynb",
   "output_path": "ejecuciones/training/03_entrenamiento.20231030T174339.param_0000_6390_mul_m_RF_SVM.output.ipynb",
   "parameters": {
    "MAX_ITERS": 500,
    "M_CLASIF": "SVM",
    "M_FICHERO": "metricas_6390",
    "M_SELECT": "RF",
    "M_TIPO": "mul_m",
    "PRE_DATA_FILE": "rows_transpose_norm_by_gene_id_with_target_num_",
    "P_FICHERO": "param_0000_6390_mul_m_RF_SVM.yaml",
    "R_FICHERO": "resultados_6390",
    "SCORING": "roc_auc_ovr",
    "SEMILLA": 6390,
    "eval_clasifier": "SVC(probability=True, random_state=SEMILLA)",
    "eval_selector": "SelectFromModel(estimator=RandomForestClassifier(random_state=SEMILLA), threshold=-np.inf)",
    "param_distributions": {
     "clasifier__C": [
      10
     ],
     "clasifier__gamma": [
      0.01
     ],
     "clasifier__kernel": [
      "rbf"
     ],
     "selector__estimator__n_estimators": [
      400
     ],
     "selector__max_features": [
      200
     ]
    }
   },
   "start_time": "2023-10-30T16:43:39.944870",
   "version": "2.4.0"
  }
 },
 "nbformat": 4,
 "nbformat_minor": 5
}