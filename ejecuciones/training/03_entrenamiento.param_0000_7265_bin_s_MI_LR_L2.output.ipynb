{
 "cells": [
  {
   "cell_type": "markdown",
   "id": "5fec5c24",
   "metadata": {
    "papermill": {
     "duration": 0.005842,
     "end_time": "2023-10-30T11:45:33.877704",
     "exception": false,
     "start_time": "2023-10-30T11:45:33.871862",
     "status": "completed"
    },
    "tags": []
   },
   "source": [
    "##### Inicio"
   ]
  },
  {
   "cell_type": "markdown",
   "id": "8dd22930",
   "metadata": {
    "papermill": {
     "duration": 0.003459,
     "end_time": "2023-10-30T11:45:33.885205",
     "exception": false,
     "start_time": "2023-10-30T11:45:33.881746",
     "status": "completed"
    },
    "tags": []
   },
   "source": [
    "#### Carga de datos"
   ]
  },
  {
   "cell_type": "code",
   "execution_count": 1,
   "id": "cf7fcb62",
   "metadata": {
    "execution": {
     "iopub.execute_input": "2023-10-30T11:45:33.895097Z",
     "iopub.status.busy": "2023-10-30T11:45:33.894486Z",
     "iopub.status.idle": "2023-10-30T11:45:35.033713Z",
     "shell.execute_reply": "2023-10-30T11:45:35.033080Z"
    },
    "papermill": {
     "duration": 1.146393,
     "end_time": "2023-10-30T11:45:35.035262",
     "exception": false,
     "start_time": "2023-10-30T11:45:33.888869",
     "status": "completed"
    },
    "tags": []
   },
   "outputs": [
    {
     "name": "stdout",
     "output_type": "stream",
     "text": [
      "CPU_COUNT: 16; NODE: enderlab; sys.version: 3.10.11 (main, May 16 2023, 00:28:57) [GCC 11.2.0]\n",
      "LOKY_MAX_CPU_COUNT is not set.\n",
      "OMP_NUM_THREADS is not set.\n"
     ]
    }
   ],
   "source": [
    "import os\n",
    "import numpy as np\n",
    "import pandas as pd\n",
    "import datetime\n",
    "import sklearn\n",
    "import logging\n",
    "import warnings\n",
    "\n",
    "from sklearn.pipeline import Pipeline\n",
    "from sklearn.model_selection import RandomizedSearchCV, KFold, cross_val_score, train_test_split\n",
    "from sklearn.metrics import accuracy_score, confusion_matrix, classification_report, roc_auc_score\n",
    "\n",
    "#  cargar algoritmos para aprendizaje supervisado\n",
    "from sklearn.feature_selection import SelectKBest, f_classif, SelectFromModel, mutual_info_classif\n",
    "from sklearn.svm import SVC\n",
    "from sklearn.ensemble import RandomForestClassifier\n",
    "from sklearn.linear_model import LogisticRegression,LogisticRegressionCV\n",
    "\n",
    "# importar fichero con utilidades propias\n",
    "from commons import myfunctions as myfunc\n"
   ]
  },
  {
   "cell_type": "markdown",
   "id": "9a914af5",
   "metadata": {
    "papermill": {
     "duration": 0.003702,
     "end_time": "2023-10-30T11:45:35.043080",
     "exception": false,
     "start_time": "2023-10-30T11:45:35.039378",
     "status": "completed"
    },
    "tags": []
   },
   "source": [
    "#### Parámetros a utilizar en el entrenamiento.\n",
    "\n",
    "Se indican los 3 algoritmos de *selección de características* (eval_selector_xxx) y los 3 algoritmos para la _clasificación_ (eval_clasifier_xxx)\n",
    "\n",
    "En *param_distributions* se indicar los parámetros que utilizan los algoritmos en la función RandomSearchCV.\n",
    "\n",
    "Esta celda tiene la etiqueta **parameters** que servirá para poder lanzar los entrenamientos con la utilidad **papermill** pasándole un fichero con los parámetros. Los nuevos parámetros se situarán tras esta celda para tener prevalencia."
   ]
  },
  {
   "cell_type": "code",
   "execution_count": 2,
   "id": "3a87a539",
   "metadata": {
    "execution": {
     "iopub.execute_input": "2023-10-30T11:45:35.051793Z",
     "iopub.status.busy": "2023-10-30T11:45:35.051217Z",
     "iopub.status.idle": "2023-10-30T11:45:35.059983Z",
     "shell.execute_reply": "2023-10-30T11:45:35.059422Z"
    },
    "papermill": {
     "duration": 0.01466,
     "end_time": "2023-10-30T11:45:35.061195",
     "exception": false,
     "start_time": "2023-10-30T11:45:35.046535",
     "status": "completed"
    },
    "tags": [
     "parameters"
    ]
   },
   "outputs": [
    {
     "name": "stdout",
     "output_type": "stream",
     "text": [
      "20231030T124535 : enderlab : INFO : Utilizando parámetros de mul_m\n"
     ]
    }
   ],
   "source": [
    "#  Parametros para el entrenamiento\n",
    "\n",
    "SEMILLA=        42\n",
    "M_TIPO=         \"mul_m\"\n",
    "M_SELECT=       \"MI\"\n",
    "M_CLASIF=       \"SVM\"\n",
    "R_FICHERO=      \"resultados\"\n",
    "M_FICHERO=      \"metricas\"\n",
    "PRE_DATA_FILE=  \"rows_transpose_norm_by_gene_id_with_target_num_\"\n",
    "SCORING=        \"roc_auc_ovr\" \n",
    "MAX_ITERS=      100\n",
    "\n",
    "def mutual_info_classif_state(X, y):\n",
    "    return mutual_info_classif(X, y, random_state=SEMILLA)\n",
    "\n",
    "eval_selector_mi = \"SelectKBest(score_func=mutual_info_classif_state)\"\n",
    "eval_selector_rf=  \"SelectFromModel(estimator=RandomForestClassifier(random_state=SEMILLA), threshold=-np.inf)\"\n",
    "eval_selector_anova=  \"SelectKBest(score_func=f_classif)\"\n",
    "\n",
    "eval_clasifier_svm= \"SVC(probability=True, random_state=SEMILLA)\"\n",
    "eval_clasifier_rf= \"RandomForestClassifier(random_state=SEMILLA)\"\n",
    "eval_clasifier_lr= \"LogisticRegressionCV(random_state=SEMILLA)\"\n",
    "\n",
    "if M_TIPO.startswith(\"bin_m\"):\n",
    "    myfunc.verbose(f\"Utilizando parámetros de {M_TIPO}\")\n",
    "    eval_selector = eval_selector_mi\n",
    "    eval_clasifier = eval_clasifier_svm\n",
    "\n",
    "    SEMILLA = 6578\n",
    "    M_SELECT = \"MI\"\n",
    "    M_CLASIF = \"SVM\"\n",
    "    param_distributions = {'selector__k': [1000], \n",
    "         'clasifier__kernel': ['rbf'], 'clasifier__gamma': [0.01], 'clasifier__C': [100]}\n",
    "elif M_TIPO.startswith(\"bin_s\"):\n",
    "    myfunc.verbose(f\"Utilizando parámetros de {M_TIPO}\")\n",
    "    eval_selector = eval_selector_rf\n",
    "    eval_clasifier = eval_clasifier_lr\n",
    "\n",
    "    SEMILLA = 6191\n",
    "    M_SELECT = \"RF\"\n",
    "    M_CLASIF = \"LR_L2\"\n",
    "    param_distributions = {'selector__max_features': [1000], 'selector__estimator__n_estimators': [200], \n",
    "        'clasifier__solver': ['lbfgs'], 'clasifier__penalty': ['l2'], 'clasifier__max_iter': [10000]}\n",
    "\n",
    "elif M_TIPO.startswith(\"mul_m\"):\n",
    "    myfunc.verbose(f\"Utilizando parámetros de {M_TIPO}\")\n",
    " \n",
    "    eval_selector = eval_selector_rf\n",
    "    eval_clasifier = eval_clasifier_lr\n",
    "\n",
    "    SEMILLA = 6191\n",
    "    M_SELECT = \"RF\"\n",
    "    M_CLASIF = \"LR_L2\"\n",
    "    param_distributions = {'selector__max_features': [1000], 'selector__estimator__n_estimators': [400], \n",
    "        'clasifier__solver': ['lbfgs'], 'clasifier__penalty': ['l2'], 'clasifier__max_iter': [10000]}\n",
    "\n",
    "else:\n",
    "    # M_TIPO.startswith(\"mul_s\"):\n",
    "    myfunc.verbose(f\"Utilizando parámetros de {M_TIPO}\")\n",
    "    eval_selector = eval_selector_anova\n",
    "    eval_clasifier = eval_clasifier_lr\n",
    "\n",
    "    SEMILLA = 1860\n",
    "    M_SELECT = \"ANOVA\"\n",
    "    M_CLASIF = \"LR_L2\"\n",
    "    param_distributions = {'selector__k': [1000], \n",
    "        'clasifier__solver': ['saga'], 'clasifier__penalty': ['l2'], 'clasifier__max_iter': [10000]}\n",
    "\n"
   ]
  },
  {
   "cell_type": "code",
   "execution_count": 3,
   "id": "c277a0c2",
   "metadata": {
    "execution": {
     "iopub.execute_input": "2023-10-30T11:45:35.069547Z",
     "iopub.status.busy": "2023-10-30T11:45:35.069062Z",
     "iopub.status.idle": "2023-10-30T11:45:35.073138Z",
     "shell.execute_reply": "2023-10-30T11:45:35.072601Z"
    },
    "papermill": {
     "duration": 0.009653,
     "end_time": "2023-10-30T11:45:35.074393",
     "exception": false,
     "start_time": "2023-10-30T11:45:35.064740",
     "status": "completed"
    },
    "tags": [
     "injected-parameters"
    ]
   },
   "outputs": [],
   "source": [
    "# Parameters\n",
    "M_TIPO = \"bin_s\"\n",
    "M_SELECT = \"MI\"\n",
    "M_CLASIF = \"LR_L2\"\n",
    "P_FICHERO = \"param_0000_7265_bin_s_MI_LR_L2.yaml\"\n",
    "R_FICHERO = \"resultados_7265\"\n",
    "M_FICHERO = \"metricas_7265\"\n",
    "PRE_DATA_FILE = \"rows_transpose_norm_by_gene_id_with_target_num_\"\n",
    "SCORING = \"roc_auc_ovr\"\n",
    "SEMILLA = 7265\n",
    "MAX_ITERS = 500\n",
    "eval_selector = \"SelectKBest(score_func=mutual_info_classif_state)\"\n",
    "eval_clasifier = \"LogisticRegressionCV(random_state=SEMILLA)\"\n",
    "param_distributions = {\n",
    "    \"selector__k\": [500],\n",
    "    \"clasifier__solver\": [\"saga\"],\n",
    "    \"clasifier__penalty\": [\"l2\"],\n",
    "    \"clasifier__max_iter\": [10000],\n",
    "}\n"
   ]
  },
  {
   "cell_type": "code",
   "execution_count": 4,
   "id": "624c634d",
   "metadata": {
    "execution": {
     "iopub.execute_input": "2023-10-30T11:45:35.083409Z",
     "iopub.status.busy": "2023-10-30T11:45:35.082834Z",
     "iopub.status.idle": "2023-10-30T11:45:35.086361Z",
     "shell.execute_reply": "2023-10-30T11:45:35.085823Z"
    },
    "papermill": {
     "duration": 0.009597,
     "end_time": "2023-10-30T11:45:35.087604",
     "exception": false,
     "start_time": "2023-10-30T11:45:35.078007",
     "status": "completed"
    },
    "tags": []
   },
   "outputs": [],
   "source": [
    "DATA_FILE = PRE_DATA_FILE + M_TIPO\n",
    "\n",
    "# si viene \"None\" en el parámetro max_depth, se le quitan las comillas para que no sea entendido por el algoritmo como un texto\n",
    "if \"clasifier__max_depth\" in param_distributions:\n",
    "    param_distributions['clasifier__max_depth'] = [None if x == 'None' else x for x in param_distributions['clasifier__max_depth']]"
   ]
  },
  {
   "cell_type": "markdown",
   "id": "813217cc",
   "metadata": {
    "papermill": {
     "duration": 0.00376,
     "end_time": "2023-10-30T11:45:35.094945",
     "exception": false,
     "start_time": "2023-10-30T11:45:35.091185",
     "status": "completed"
    },
    "tags": []
   },
   "source": [
    "Asignar los algoritmos que se utilizarán en la función RandomSearchCV"
   ]
  },
  {
   "cell_type": "code",
   "execution_count": 5,
   "id": "ffebab55",
   "metadata": {
    "execution": {
     "iopub.execute_input": "2023-10-30T11:45:35.103434Z",
     "iopub.status.busy": "2023-10-30T11:45:35.102952Z",
     "iopub.status.idle": "2023-10-30T11:45:35.106112Z",
     "shell.execute_reply": "2023-10-30T11:45:35.105563Z"
    },
    "papermill": {
     "duration": 0.008761,
     "end_time": "2023-10-30T11:45:35.107399",
     "exception": false,
     "start_time": "2023-10-30T11:45:35.098638",
     "status": "completed"
    },
    "tags": []
   },
   "outputs": [],
   "source": [
    "algor_selector=eval(eval_selector)\n",
    "algor_clasifier=eval(eval_clasifier)"
   ]
  },
  {
   "cell_type": "markdown",
   "id": "0841b230",
   "metadata": {
    "papermill": {
     "duration": 0.003667,
     "end_time": "2023-10-30T11:45:35.114765",
     "exception": false,
     "start_time": "2023-10-30T11:45:35.111098",
     "status": "completed"
    },
    "tags": []
   },
   "source": [
    "#### Comprobar el entorno y leer fichero de muestras"
   ]
  },
  {
   "cell_type": "code",
   "execution_count": 6,
   "id": "f6a47033",
   "metadata": {
    "execution": {
     "iopub.execute_input": "2023-10-30T11:45:35.123562Z",
     "iopub.status.busy": "2023-10-30T11:45:35.123020Z",
     "iopub.status.idle": "2023-10-30T11:45:35.364624Z",
     "shell.execute_reply": "2023-10-30T11:45:35.364001Z"
    },
    "papermill": {
     "duration": 0.247515,
     "end_time": "2023-10-30T11:45:35.365910",
     "exception": false,
     "start_time": "2023-10-30T11:45:35.118395",
     "status": "completed"
    },
    "tags": []
   },
   "outputs": [
    {
     "name": "stdout",
     "output_type": "stream",
     "text": [
      "20231030T124535 : enderlab : INFO : Encontrada carpeta DATA_DIR=../tfm_git/datos\n",
      "20231030T124535 : enderlab : INFO : Encontrada carpeta CFDNA_DIR=../tfm_git/datos/cfDNA_5hmC\n",
      "20231030T124535 : enderlab : INFO : Encontrada carpeta GENCODE_DIR=../tfm_git/datos/gencode\n",
      "20231030T124535 : enderlab : INFO : Encontrada carpeta H5_DIR=../tfm_git/datos/h5\n",
      "20231030T124535 : enderlab : INFO : Encontrada carpeta LOG_DIR=../tfm_git/datos/logs\n",
      "20231030T124535 : enderlab : INFO : Encontrada carpeta CSV_DIR=../tfm_git/datos/csv\n",
      "20231030T124535 : enderlab : INFO : Encontrada carpeta MODEL_DIR=../tfm_git/ejecuciones/modelos\n",
      "20231030T124535 : enderlab : INFO : Encontrada carpeta EXEC_DIR=../tfm_git/ejecuciones\n",
      "20231030T124535 : enderlab : INFO : Encontrada carpeta MET_DIR=../tfm_git/ejecuciones/metricas\n",
      "20231030T124535 : enderlab : INFO : Inicio leer fichero h5 ../tfm_git/datos/h5/rows_transpose_norm_by_gene_id_with_target_num_bin_s.h5\n",
      "20231030T124535 : enderlab : INFO : Leyendo clave /df\n"
     ]
    },
    {
     "name": "stdout",
     "output_type": "stream",
     "text": [
      "20231030T124535 : enderlab : INFO : Tamaño (443, 18876)\n",
      "20231030T124535 : enderlab : INFO : Fin leer fichero h5 ../tfm_git/datos/h5/rows_transpose_norm_by_gene_id_with_target_num_bin_s.h5\n"
     ]
    },
    {
     "data": {
      "text/plain": [
       "target\n",
       "0    221\n",
       "1    222\n",
       "dtype: int64"
      ]
     },
     "metadata": {},
     "output_type": "display_data"
    },
    {
     "name": "stdout",
     "output_type": "stream",
     "text": [
      "Shape df: (443, 18876)\n"
     ]
    },
    {
     "name": "stdout",
     "output_type": "stream",
     "text": [
      "Shape X_train: (354, 18875)\n",
      "Shape X_test: (89, 18875)\n"
     ]
    }
   ],
   "source": [
    "start_time = datetime.datetime.now()\n",
    "\n",
    "myfunc.reset_vars()\n",
    "\n",
    "myfunc.NOTEBK_FILENAME = myfunc.get_nb_name()\n",
    "\n",
    "myfunc.check_enviroment(myfunc.DATA_DIR, myfunc.CFDNA_DIR, myfunc.GENCODE_DIR, myfunc.H5_DIR, myfunc.LOG_DIR, myfunc.CSV_DIR, myfunc.MODEL_DIR, myfunc.EXEC_DIR, myfunc.MET_DIR)\n",
    "\n",
    "# Leer fichero con las muestras\n",
    "df_t = myfunc.read_h5_to_df(DATA_FILE, myfunc.H5_DIR)\n",
    "display(df_t.groupby(\"target\").size())\n",
    "print(\"Shape df:\",df_t.shape)\n",
    "\n",
    "# Separar caracteristicas/genes de las etiquetas/tipos de cáncer\n",
    "X = df_t.iloc[:, :-1]  # Todas las columnas excepto la última\n",
    "y = df_t.iloc[:, -1]  # La última columna contiene los identificadores de los tipos de cáncer\n",
    "\n",
    "#  Crear el conjunto de datos de entrenamiento y de pruebas, y se fija la semilla para siempre coger el mismo juego de muestras\n",
    "X_train, X_test, y_train, y_test = train_test_split(X, y, test_size=0.2, shuffle=True, random_state=42)\n",
    "print(\"Shape X_train:\",X_train.shape)\n",
    "print(\"Shape X_test:\",X_test.shape)\n"
   ]
  },
  {
   "cell_type": "markdown",
   "id": "87aa4b1d",
   "metadata": {
    "papermill": {
     "duration": 0.004155,
     "end_time": "2023-10-30T11:45:35.374681",
     "exception": false,
     "start_time": "2023-10-30T11:45:35.370526",
     "status": "completed"
    },
    "tags": []
   },
   "source": [
    "#### Selección de características y clasificación."
   ]
  },
  {
   "cell_type": "code",
   "execution_count": 7,
   "id": "a72b1ba6",
   "metadata": {
    "execution": {
     "iopub.execute_input": "2023-10-30T11:45:35.384952Z",
     "iopub.status.busy": "2023-10-30T11:45:35.384302Z",
     "iopub.status.idle": "2023-10-30T11:49:01.185232Z",
     "shell.execute_reply": "2023-10-30T11:49:01.183941Z"
    },
    "papermill": {
     "duration": 205.813285,
     "end_time": "2023-10-30T11:49:01.191973",
     "exception": false,
     "start_time": "2023-10-30T11:45:35.378688",
     "status": "completed"
    },
    "tags": []
   },
   "outputs": [
    {
     "name": "stdout",
     "output_type": "stream",
     "text": [
      "20231030T124535 : enderlab : INFO : Iniciando entrenamiento\n",
      "num_iter: 1 , max_iter: 1\n",
      "Fitting 5 folds for each of 1 candidates, totalling 5 fits\n"
     ]
    },
    {
     "name": "stdout",
     "output_type": "stream",
     "text": [
      "Mejores Hiperparámetros: {'selector__k': 500, 'clasifier__solver': 'saga', 'clasifier__penalty': 'l2', 'clasifier__max_iter': 10000}\n",
      "Mejor Puntuación: 0.7787\n",
      "20231030T124901 : enderlab : INFO : Fin entrenamiento\n"
     ]
    }
   ],
   "source": [
    "myfunc.verbose(\"Iniciando entrenamiento\")\n",
    "\n",
    "kf = KFold(n_splits=5, shuffle=True, random_state=SEMILLA)\n",
    "\n",
    "# Crear el pipeline para el flujo de tareas\n",
    "tasks_pipeline = Pipeline([\n",
    "    ('selector', algor_selector),\n",
    "    ('clasifier', algor_clasifier)\n",
    "])\n",
    "\n",
    "# MAX_ITERS puede limitar el número de iteraciones si son excesivas para las combinaciones de parámetros buscando un óptimo local, \n",
    "# sino funcionaría como GridSearchCV al revisar todas las cominaciones de los parámetros\n",
    "num_iteraciones = 1\n",
    "num_iteraciones = num_iteraciones * np.prod([len(elemento1) for _, elemento1 in param_distributions.items()])\n",
    "max_iteraciones = num_iteraciones if num_iteraciones <= MAX_ITERS else MAX_ITERS\n",
    "print(\"num_iter:\",num_iteraciones,\", max_iter:\",max_iteraciones)\n",
    "\n",
    "random_search = RandomizedSearchCV(\n",
    "    tasks_pipeline, \n",
    "    param_distributions, \n",
    "    n_iter=max_iteraciones,\n",
    "    scoring=SCORING,\n",
    "    cv=kf,\n",
    "    verbose=3, \n",
    "    random_state=SEMILLA, \n",
    "    n_jobs=-1\n",
    "    )\n",
    "\n",
    "# Entrenar el modelo\n",
    "random_search.fit(X_train, y_train)\n",
    "\n",
    "# Ver los mejores hiperparámetros encontrados\n",
    "print(f'Mejores Hiperparámetros: {random_search.best_params_}')\n",
    "print(f'Mejor Puntuación: {random_search.best_score_:.4f}')\n",
    "\n",
    "# Nos quedamos con el mejor modelo para ver las métricas\n",
    "mejor_modelo = random_search.best_estimator_\n",
    "\n",
    "myfunc.verbose(\"Fin entrenamiento\")"
   ]
  },
  {
   "cell_type": "markdown",
   "id": "0674b739",
   "metadata": {
    "papermill": {
     "duration": 0.004136,
     "end_time": "2023-10-30T11:49:01.200613",
     "exception": false,
     "start_time": "2023-10-30T11:49:01.196477",
     "status": "completed"
    },
    "tags": []
   },
   "source": [
    "#### Guardar modelo"
   ]
  },
  {
   "cell_type": "code",
   "execution_count": 8,
   "id": "cd9fbae8",
   "metadata": {
    "execution": {
     "iopub.execute_input": "2023-10-30T11:49:01.211431Z",
     "iopub.status.busy": "2023-10-30T11:49:01.210761Z",
     "iopub.status.idle": "2023-10-30T11:49:01.223025Z",
     "shell.execute_reply": "2023-10-30T11:49:01.222442Z"
    },
    "papermill": {
     "duration": 0.019549,
     "end_time": "2023-10-30T11:49:01.224263",
     "exception": false,
     "start_time": "2023-10-30T11:49:01.204714",
     "status": "completed"
    },
    "tags": []
   },
   "outputs": [
    {
     "name": "stdout",
     "output_type": "stream",
     "text": [
      "20231030T124901 : enderlab : INFO : Inicio guardar fichero ../tfm_git/ejecuciones/modelos/modelo_7265_bin_s_MI_LR_L2.pkl\n",
      "20231030T124901 : enderlab : INFO : Fin guardar fichero ../tfm_git/ejecuciones/modelos/modelo_7265_bin_s_MI_LR_L2.pkl\n"
     ]
    }
   ],
   "source": [
    "fichero_modelo = str.replace(\"modelo_\"+str(SEMILLA).zfill(4)+\"_\"+M_TIPO+\"_\"+M_SELECT+\"_\"+M_CLASIF+\".pkl\", \" \", \"_\")\n",
    "\n",
    "myfunc.save_modelo(mejor_modelo, myfunc.MODEL_DIR, fichero_modelo)"
   ]
  },
  {
   "cell_type": "markdown",
   "id": "37bc6bad",
   "metadata": {
    "papermill": {
     "duration": 0.004116,
     "end_time": "2023-10-30T11:49:01.232455",
     "exception": false,
     "start_time": "2023-10-30T11:49:01.228339",
     "status": "completed"
    },
    "tags": []
   },
   "source": [
    "#### Ver resultados del las iteraciones hechas por RandomSearchCV"
   ]
  },
  {
   "cell_type": "code",
   "execution_count": 9,
   "id": "229c51c0",
   "metadata": {
    "execution": {
     "iopub.execute_input": "2023-10-30T11:49:01.241777Z",
     "iopub.status.busy": "2023-10-30T11:49:01.241546Z",
     "iopub.status.idle": "2023-10-30T11:49:01.249620Z",
     "shell.execute_reply": "2023-10-30T11:49:01.249074Z"
    },
    "papermill": {
     "duration": 0.014187,
     "end_time": "2023-10-30T11:49:01.250814",
     "exception": false,
     "start_time": "2023-10-30T11:49:01.236627",
     "status": "completed"
    },
    "tags": []
   },
   "outputs": [
    {
     "name": "stdout",
     "output_type": "stream",
     "text": [
      "20231030T124901 : enderlab : INFO : Inicio ver resultados\n",
      "Mejores Hiperparámetros: {'selector__k': 500, 'clasifier__solver': 'saga', 'clasifier__penalty': 'l2', 'clasifier__max_iter': 10000}\n",
      "Mejores puntuaciones: 0.7787 | Params: {'selector__k': 500, 'clasifier__solver': 'saga', 'clasifier__penalty': 'l2', 'clasifier__max_iter': 10000}\n",
      "Media de las puntuaciones: 0.7787 | Params: {'selector__k': 500, 'clasifier__solver': 'saga', 'clasifier__penalty': 'l2', 'clasifier__max_iter': 10000}\n",
      "20231030T124901 : enderlab : INFO : Fin resultados\n"
     ]
    }
   ],
   "source": [
    "myfunc.ver_resultados_search(random_search)"
   ]
  },
  {
   "cell_type": "markdown",
   "id": "7215e795",
   "metadata": {
    "papermill": {
     "duration": 0.004162,
     "end_time": "2023-10-30T11:49:01.259127",
     "exception": false,
     "start_time": "2023-10-30T11:49:01.254965",
     "status": "completed"
    },
    "tags": []
   },
   "source": [
    "#### Ver métricas del mejor modelo"
   ]
  },
  {
   "cell_type": "code",
   "execution_count": 10,
   "id": "03bb94c1",
   "metadata": {
    "execution": {
     "iopub.execute_input": "2023-10-30T11:49:01.268845Z",
     "iopub.status.busy": "2023-10-30T11:49:01.268404Z",
     "iopub.status.idle": "2023-10-30T11:49:01.775584Z",
     "shell.execute_reply": "2023-10-30T11:49:01.774933Z"
    },
    "papermill": {
     "duration": 0.513525,
     "end_time": "2023-10-30T11:49:01.776854",
     "exception": false,
     "start_time": "2023-10-30T11:49:01.263329",
     "status": "completed"
    },
    "tags": []
   },
   "outputs": [
    {
     "name": "stdout",
     "output_type": "stream",
     "text": [
      "20231030T124901 : enderlab : INFO : Inicio ver métricas\n"
     ]
    },
    {
     "name": "stdout",
     "output_type": "stream",
     "text": [
      "              precision    recall  f1-score   support\n",
      "\n",
      "           0       0.69      0.74      0.72        46\n",
      "           1       0.70      0.65      0.67        43\n",
      "\n",
      "    accuracy                           0.70        89\n",
      "   macro avg       0.70      0.70      0.70        89\n",
      "weighted avg       0.70      0.70      0.70        89\n",
      "\n",
      "\n",
      "\n",
      "   Exactitud: 0.6966\n",
      "   Precisión: 0.6969\n",
      "Sensibilidad: 0.6951\n",
      "    F1-score: 0.6952\n",
      "     AUC ROC: 0.7872\n"
     ]
    },
    {
     "data": {
      "image/png": "[encoded data removed]",
      "text/plain": [
       "<Figure size 300x100 with 2 Axes>"
      ]
     },
     "metadata": {},
     "output_type": "display_data"
    },
    {
     "data": {
      "image/png": "[encoded data removed]",
      "text/plain": [
       "<Figure size 800x500 with 1 Axes>"
      ]
     },
     "metadata": {},
     "output_type": "display_data"
    },
    {
     "name": "stdout",
     "output_type": "stream",
     "text": [
      "20231030T124901 : enderlab : INFO : Fin ver métricas\n"
     ]
    }
   ],
   "source": [
    "if M_TIPO.startswith(\"bin\"):\n",
    "    myfunc.ver_metricas(mejor_modelo, X_test, y_test)\n",
    "else:\n",
    "    myfunc.ver_metricas_multi(mejor_modelo, X_test, y_test)\n"
   ]
  },
  {
   "cell_type": "markdown",
   "id": "2f342c6d",
   "metadata": {
    "papermill": {
     "duration": 0.005242,
     "end_time": "2023-10-30T11:49:01.787922",
     "exception": false,
     "start_time": "2023-10-30T11:49:01.782680",
     "status": "completed"
    },
    "tags": []
   },
   "source": [
    "#### Finalización del notebook"
   ]
  },
  {
   "cell_type": "code",
   "execution_count": 11,
   "id": "7461d7e0",
   "metadata": {
    "execution": {
     "iopub.execute_input": "2023-10-30T11:49:01.799459Z",
     "iopub.status.busy": "2023-10-30T11:49:01.799005Z",
     "iopub.status.idle": "2023-10-30T11:49:01.802936Z",
     "shell.execute_reply": "2023-10-30T11:49:01.802364Z"
    },
    "papermill": {
     "duration": 0.011119,
     "end_time": "2023-10-30T11:49:01.804146",
     "exception": false,
     "start_time": "2023-10-30T11:49:01.793027",
     "status": "completed"
    },
    "tags": []
   },
   "outputs": [
    {
     "name": "stdout",
     "output_type": "stream",
     "text": [
      "20231030T124901 : enderlab : INFO : Notebook ha tardado 206 seconds\n"
     ]
    }
   ],
   "source": [
    "end_time = datetime.datetime.now()\n",
    "total_time = end_time - start_time\n",
    "myfunc.verbose(f\"Notebook ha tardado {total_time.seconds} seconds\")"
   ]
  },
  {
   "cell_type": "markdown",
   "id": "636aee0a",
   "metadata": {
    "papermill": {
     "duration": 0.005145,
     "end_time": "2023-10-30T11:49:01.814455",
     "exception": false,
     "start_time": "2023-10-30T11:49:01.809310",
     "status": "completed"
    },
    "tags": []
   },
   "source": [
    "#### Guardar métricas"
   ]
  },
  {
   "cell_type": "code",
   "execution_count": 12,
   "id": "49511013",
   "metadata": {
    "execution": {
     "iopub.execute_input": "2023-10-30T11:49:01.826210Z",
     "iopub.status.busy": "2023-10-30T11:49:01.825584Z",
     "iopub.status.idle": "2023-10-30T11:49:02.043312Z",
     "shell.execute_reply": "2023-10-30T11:49:02.042750Z"
    },
    "papermill": {
     "duration": 0.224993,
     "end_time": "2023-10-30T11:49:02.044606",
     "exception": false,
     "start_time": "2023-10-30T11:49:01.819613",
     "status": "completed"
    },
    "tags": []
   },
   "outputs": [
    {
     "name": "stdout",
     "output_type": "stream",
     "text": [
      "20231030T124901 : enderlab : INFO : Inicio guardar métricas\n",
      "20231030T124901 : enderlab : INFO : Inicio leer fichero ../tfm_git/ejecuciones/metricas/metricas_7265.csv\n",
      "20231030T124901 : enderlab : INFO : Fin leer fichero ../tfm_git/ejecuciones/metricas/metricas_7265.csv\n"
     ]
    },
    {
     "name": "stdout",
     "output_type": "stream",
     "text": [
      "20231030T124902 : enderlab : INFO : Inicio guardar fichero ../tfm_git/ejecuciones/metricas/metricas_7265.csv\n",
      "20231030T124902 : enderlab : INFO : Fichero borrado ../tfm_git/ejecuciones/metricas/metricas_7265.csv\n",
      "20231030T124902 : enderlab : INFO : Fin guardar fichero ../tfm_git/ejecuciones/metricas/metricas_7265.csv\n",
      "20231030T124902 : enderlab : INFO : Fin guardar métricas\n",
      "20231030T124902 : enderlab : INFO : Inicio leer fichero ../tfm_git/ejecuciones/metricas/metricas_7265.csv\n",
      "20231030T124902 : enderlab : INFO : Fin leer fichero ../tfm_git/ejecuciones/metricas/metricas_7265.csv\n"
     ]
    },
    {
     "data": {
      "text/html": [
       "<div>\n",
       "<style scoped>\n",
       "    .dataframe tbody tr th:only-of-type {\n",
       "        vertical-align: middle;\n",
       "    }\n",
       "\n",
       "    .dataframe tbody tr th {\n",
       "        vertical-align: top;\n",
       "    }\n",
       "\n",
       "    .dataframe thead th {\n",
       "        text-align: right;\n",
       "    }\n",
       "</style>\n",
       "<table border=\"1\" class=\"dataframe\">\n",
       "  <thead>\n",
       "    <tr style=\"text-align: right;\">\n",
       "      <th></th>\n",
       "      <th>tipo</th>\n",
       "      <th>select</th>\n",
       "      <th>clasific</th>\n",
       "      <th>semilla</th>\n",
       "      <th>accuracy</th>\n",
       "      <th>precision</th>\n",
       "      <th>recall</th>\n",
       "      <th>f1_score</th>\n",
       "      <th>roc_auc</th>\n",
       "      <th>hostname</th>\n",
       "      <th>total_time_sec</th>\n",
       "      <th>datetime</th>\n",
       "      <th>fichero_modelo</th>\n",
       "      <th>params</th>\n",
       "      <th>shape</th>\n",
       "      <th>features</th>\n",
       "    </tr>\n",
       "  </thead>\n",
       "  <tbody>\n",
       "    <tr>\n",
       "      <th>0</th>\n",
       "      <td>bin_s</td>\n",
       "      <td>MI</td>\n",
       "      <td>LR_L2</td>\n",
       "      <td>7265</td>\n",
       "      <td>0.696629</td>\n",
       "      <td>0.696939</td>\n",
       "      <td>0.695147</td>\n",
       "      <td>0.695244</td>\n",
       "      <td>0.787159</td>\n",
       "      <td>enderlab</td>\n",
       "      <td>206</td>\n",
       "      <td>2023-10-30 12:49:02.004170</td>\n",
       "      <td>modelo_7265_bin_s_MI_LR_L2.pkl</td>\n",
       "      <td>{'selector__k': 500, 'clasifier__solver': 'sag...</td>\n",
       "      <td>X_test:(89, 18875)</td>\n",
       "      <td>['ENSG00000002933.9', 'ENSG00000003402.21', 'E...</td>\n",
       "    </tr>\n",
       "    <tr>\n",
       "      <th>0</th>\n",
       "      <td>bin_s</td>\n",
       "      <td>MI</td>\n",
       "      <td>LR_L1</td>\n",
       "      <td>7265</td>\n",
       "      <td>0.707865</td>\n",
       "      <td>0.711019</td>\n",
       "      <td>0.705258</td>\n",
       "      <td>0.704847</td>\n",
       "      <td>0.812942</td>\n",
       "      <td>enderlab</td>\n",
       "      <td>453</td>\n",
       "      <td>2023-10-30 12:45:28.270193</td>\n",
       "      <td>modelo_7265_bin_s_MI_LR_L1.pkl</td>\n",
       "      <td>{'selector__k': 1000, 'clasifier__solver': 'sa...</td>\n",
       "      <td>X_test:(89, 18875)</td>\n",
       "      <td>['ENSG00000002933.9', 'ENSG00000003402.21', 'E...</td>\n",
       "    </tr>\n",
       "    <tr>\n",
       "      <th>0</th>\n",
       "      <td>bin_s</td>\n",
       "      <td>MI</td>\n",
       "      <td>LR_EN</td>\n",
       "      <td>7265</td>\n",
       "      <td>0.696629</td>\n",
       "      <td>0.698400</td>\n",
       "      <td>0.694388</td>\n",
       "      <td>0.694158</td>\n",
       "      <td>0.767442</td>\n",
       "      <td>enderlab</td>\n",
       "      <td>254</td>\n",
       "      <td>2023-10-30 12:37:40.403157</td>\n",
       "      <td>modelo_7265_bin_s_MI_LR_EN.pkl</td>\n",
       "      <td>{'selector__k': 500, 'clasifier__solver': 'sag...</td>\n",
       "      <td>X_test:(89, 18875)</td>\n",
       "      <td>['ENSG00000002933.9', 'ENSG00000003402.21', 'E...</td>\n",
       "    </tr>\n",
       "  </tbody>\n",
       "</table>\n",
       "</div>"
      ],
      "text/plain": [
       "    tipo select clasific  semilla  accuracy  precision    recall  f1_score  \\\n",
       "0  bin_s     MI    LR_L2     7265  0.696629   0.696939  0.695147  0.695244   \n",
       "0  bin_s     MI    LR_L1     7265  0.707865   0.711019  0.705258  0.704847   \n",
       "0  bin_s     MI    LR_EN     7265  0.696629   0.698400  0.694388  0.694158   \n",
       "\n",
       "    roc_auc  hostname  total_time_sec                    datetime  \\\n",
       "0  0.787159  enderlab             206  2023-10-30 12:49:02.004170   \n",
       "0  0.812942  enderlab             453  2023-10-30 12:45:28.270193   \n",
       "0  0.767442  enderlab             254  2023-10-30 12:37:40.403157   \n",
       "\n",
       "                   fichero_modelo  \\\n",
       "0  modelo_7265_bin_s_MI_LR_L2.pkl   \n",
       "0  modelo_7265_bin_s_MI_LR_L1.pkl   \n",
       "0  modelo_7265_bin_s_MI_LR_EN.pkl   \n",
       "\n",
       "                                              params               shape  \\\n",
       "0  {'selector__k': 500, 'clasifier__solver': 'sag...  X_test:(89, 18875)   \n",
       "0  {'selector__k': 1000, 'clasifier__solver': 'sa...  X_test:(89, 18875)   \n",
       "0  {'selector__k': 500, 'clasifier__solver': 'sag...  X_test:(89, 18875)   \n",
       "\n",
       "                                            features  \n",
       "0  ['ENSG00000002933.9', 'ENSG00000003402.21', 'E...  \n",
       "0  ['ENSG00000002933.9', 'ENSG00000003402.21', 'E...  \n",
       "0  ['ENSG00000002933.9', 'ENSG00000003402.21', 'E...  "
      ]
     },
     "metadata": {},
     "output_type": "display_data"
    }
   ],
   "source": [
    "if M_TIPO.startswith(\"bin\"):\n",
    "    myfunc.save_metricas_to_csv(random_search, X_test, y_test, M_TIPO, M_SELECT, M_CLASIF, total_time, SEMILLA, myfunc.MET_DIR, M_FICHERO, fichero_modelo)\n",
    "else:\n",
    "    myfunc.save_metricas_multi_to_csv(random_search, X_test, y_test, M_TIPO, M_SELECT, M_CLASIF, total_time, SEMILLA, myfunc.MET_DIR, M_FICHERO, fichero_modelo)\n",
    "\n",
    "df1=myfunc.read_metricas_to_df(myfunc.MET_DIR,M_FICHERO)\n",
    "\n",
    "display(df1.sort_values(\"datetime\", ascending=False)[:3])\n"
   ]
  },
  {
   "cell_type": "markdown",
   "id": "7d00a71c",
   "metadata": {
    "papermill": {
     "duration": 0.005711,
     "end_time": "2023-10-30T11:49:02.056441",
     "exception": false,
     "start_time": "2023-10-30T11:49:02.050730",
     "status": "completed"
    },
    "tags": []
   },
   "source": [
    "#### Guardar resultados"
   ]
  },
  {
   "cell_type": "code",
   "execution_count": 13,
   "id": "f613b4a5",
   "metadata": {
    "execution": {
     "iopub.execute_input": "2023-10-30T11:49:02.068958Z",
     "iopub.status.busy": "2023-10-30T11:49:02.068635Z",
     "iopub.status.idle": "2023-10-30T11:49:02.078787Z",
     "shell.execute_reply": "2023-10-30T11:49:02.078235Z"
    },
    "papermill": {
     "duration": 0.018068,
     "end_time": "2023-10-30T11:49:02.080076",
     "exception": false,
     "start_time": "2023-10-30T11:49:02.062008",
     "status": "completed"
    },
    "tags": []
   },
   "outputs": [
    {
     "name": "stdout",
     "output_type": "stream",
     "text": [
      "20231030T124902 : enderlab : INFO : Inicio guardar resultados\n",
      "20231030T124902 : enderlab : INFO : Inicio guardar fichero ../tfm_git/ejecuciones/metricas/resultados_7265_bin_s-MI-LR_L2.csv\n",
      "20231030T124902 : enderlab : INFO : Fin guardar fichero ../tfm_git/ejecuciones/metricas/resultados_7265_bin_s-MI-LR_L2.csv\n",
      "20231030T124902 : enderlab : INFO : Fin guardar resultados\n"
     ]
    }
   ],
   "source": [
    "fichero_resultados=R_FICHERO+\"_\"+M_TIPO+\"-\"+M_SELECT+\"-\"+M_CLASIF+\".csv\"\n",
    "myfunc.save_resultados_to_csv(M_TIPO, M_SELECT, M_CLASIF,  random_search, myfunc.MET_DIR, fichero_resultados)\n"
   ]
  }
 ],
 "metadata": {
  "kernelspec": {
   "display_name": "Python 3 (ipykernel)",
   "language": "python",
   "name": "python3"
  },
  "language_info": {
   "codemirror_mode": {
    "name": "ipython",
    "version": 3
   },
   "file_extension": ".py",
   "mimetype": "text/x-python",
   "name": "python",
   "nbconvert_exporter": "python",
   "pygments_lexer": "ipython3",
   "version": "3.10.11"
  },
  "papermill": {
   "default_parameters": {},
   "duration": 212.038223,
   "end_time": "2023-10-30T11:49:04.704917",
   "environment_variables": {},
   "exception": null,
   "input_path": "03_entrenamiento.ipynb",
   "output_path": "ejecuciones/training/03_entrenamiento.20231030T124532.param_0000_7265_bin_s_MI_LR_L2.output.ipynb",
   "parameters": {
    "MAX_ITERS": 500,
    "M_CLASIF": "LR_L2",
    "M_FICHERO": "metricas_7265",
    "M_SELECT": "MI",
    "M_TIPO": "bin_s",
    "PRE_DATA_FILE": "rows_transpose_norm_by_gene_id_with_target_num_",
    "P_FICHERO": "param_0000_7265_bin_s_MI_LR_L2.yaml",
    "R_FICHERO": "resultados_7265",
    "SCORING": "roc_auc_ovr",
    "SEMILLA": 7265,
    "eval_clasifier": "LogisticRegressionCV(random_state=SEMILLA)",
    "eval_selector": "SelectKBest(score_func=mutual_info_classif_state)",
    "param_distributions": {
     "clasifier__max_iter": [
      10000
     ],
     "clasifier__penalty": [
      "l2"
     ],
     "clasifier__solver": [
      "saga"
     ],
     "selector__k": [
      500
     ]
    }
   },
   "start_time": "2023-10-30T11:45:32.666694",
   "version": "2.4.0"
  }
 },
 "nbformat": 4,
 "nbformat_minor": 5
}