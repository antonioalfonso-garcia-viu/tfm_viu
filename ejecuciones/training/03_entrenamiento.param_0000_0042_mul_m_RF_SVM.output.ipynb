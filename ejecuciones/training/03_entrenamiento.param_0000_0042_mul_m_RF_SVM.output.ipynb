{
 "cells": [
  {
   "cell_type": "markdown",
   "id": "9194a425",
   "metadata": {
    "papermill": {
     "duration": 0.004364,
     "end_time": "2023-10-27T21:28:52.556649",
     "exception": false,
     "start_time": "2023-10-27T21:28:52.552285",
     "status": "completed"
    },
    "tags": []
   },
   "source": [
    "##### Inicio"
   ]
  },
  {
   "cell_type": "markdown",
   "id": "406dd081",
   "metadata": {
    "papermill": {
     "duration": 0.00352,
     "end_time": "2023-10-27T21:28:52.563996",
     "exception": false,
     "start_time": "2023-10-27T21:28:52.560476",
     "status": "completed"
    },
    "tags": []
   },
   "source": [
    "#### Carga de datos"
   ]
  },
  {
   "cell_type": "code",
   "execution_count": 1,
   "id": "1596675f",
   "metadata": {
    "execution": {
     "iopub.execute_input": "2023-10-27T21:28:52.572617Z",
     "iopub.status.busy": "2023-10-27T21:28:52.572173Z",
     "iopub.status.idle": "2023-10-27T21:28:53.443936Z",
     "shell.execute_reply": "2023-10-27T21:28:53.443301Z"
    },
    "papermill": {
     "duration": 0.877744,
     "end_time": "2023-10-27T21:28:53.445364",
     "exception": false,
     "start_time": "2023-10-27T21:28:52.567620",
     "status": "completed"
    },
    "tags": []
   },
   "outputs": [
    {
     "name": "stdout",
     "output_type": "stream",
     "text": [
      "CPU_COUNT: 8; NODE: amilcar22; sys.version: 3.10.12 (main, Jul  5 2023, 19:22:19) [GCC 11.2.0]\n",
      "LOKY_MAX_CPU_COUNT: 6\n",
      "OMP_NUM_THREADS: 2\n"
     ]
    }
   ],
   "source": [
    "import os\n",
    "import numpy as np\n",
    "import pandas as pd\n",
    "import datetime\n",
    "import sklearn\n",
    "import logging\n",
    "import warnings\n",
    "\n",
    "from sklearn.pipeline import Pipeline\n",
    "from sklearn.model_selection import RandomizedSearchCV, KFold, cross_val_score, train_test_split\n",
    "from sklearn.metrics import accuracy_score, confusion_matrix, classification_report, roc_auc_score\n",
    "\n",
    "#  cargar algoritmos para aprendizaje supervisado\n",
    "from sklearn.feature_selection import SelectKBest, f_classif, SelectFromModel, mutual_info_classif\n",
    "from sklearn.svm import SVC\n",
    "from sklearn.ensemble import RandomForestClassifier\n",
    "from sklearn.linear_model import LogisticRegression,LogisticRegressionCV\n",
    "\n",
    "# importar fichero con utilidades propias\n",
    "from commons import myfunctions as myfunc\n"
   ]
  },
  {
   "cell_type": "markdown",
   "id": "750eb80a",
   "metadata": {
    "papermill": {
     "duration": 0.002569,
     "end_time": "2023-10-27T21:28:53.450931",
     "exception": false,
     "start_time": "2023-10-27T21:28:53.448362",
     "status": "completed"
    },
    "tags": []
   },
   "source": [
    "#### Parámetros a utilizar en el entrenamiento.\n",
    "\n",
    "Se indican los 3 algoritmos de *selección de características* (eval_selector_xxx) y los 3 algoritmos para la _clasificación_ (eval_clasifier_xxx)\n",
    "\n",
    "En *param_distributions* se indicar los parámetros que utilizan los algoritmos en la función RandomSearchCV.\n",
    "\n",
    "Esta celda tiene la etiqueta **parameters** que servirá para poder lanzar los entrenamientos con la utilidad **papermill** pasándole un fichero con los parámetros. Los nuevos parámetros se situarán tras esta celda para tener prevalencia."
   ]
  },
  {
   "cell_type": "code",
   "execution_count": 2,
   "id": "7c0dc5b7",
   "metadata": {
    "execution": {
     "iopub.execute_input": "2023-10-27T21:28:53.457024Z",
     "iopub.status.busy": "2023-10-27T21:28:53.456726Z",
     "iopub.status.idle": "2023-10-27T21:28:53.463654Z",
     "shell.execute_reply": "2023-10-27T21:28:53.463203Z"
    },
    "papermill": {
     "duration": 0.011367,
     "end_time": "2023-10-27T21:28:53.464799",
     "exception": false,
     "start_time": "2023-10-27T21:28:53.453432",
     "status": "completed"
    },
    "tags": [
     "parameters"
    ]
   },
   "outputs": [
    {
     "name": "stdout",
     "output_type": "stream",
     "text": [
      "20231027T232853 : amilcar22 : INFO : Utilizando parámetros de mul_m\n"
     ]
    }
   ],
   "source": [
    "#  Parametros para el entrenamiento\n",
    "\n",
    "SEMILLA=        42\n",
    "M_TIPO=         \"mul_m\"\n",
    "M_SELECT=       \"MI\"\n",
    "M_CLASIF=       \"SVM\"\n",
    "R_FICHERO=      \"resultados\"\n",
    "M_FICHERO=      \"metricas\"\n",
    "PRE_DATA_FILE=  \"rows_transpose_norm_by_gene_id_with_target_num_\"\n",
    "SCORING=        \"roc_auc_ovr\" \n",
    "MAX_ITERS=      100\n",
    "\n",
    "def mutual_info_classif_state(X, y):\n",
    "    return mutual_info_classif(X, y, random_state=SEMILLA)\n",
    "\n",
    "eval_selector_mi = \"SelectKBest(score_func=mutual_info_classif_state)\"\n",
    "eval_selector_rf=  \"SelectFromModel(estimator=RandomForestClassifier(random_state=SEMILLA), threshold=-np.inf)\"\n",
    "eval_selector_anova=  \"SelectKBest(score_func=f_classif)\"\n",
    "\n",
    "eval_clasifier_svm= \"SVC(probability=True, random_state=SEMILLA)\"\n",
    "eval_clasifier_rf= \"RandomForestClassifier(random_state=SEMILLA)\"\n",
    "eval_clasifier_lr= \"LogisticRegressionCV(random_state=SEMILLA)\"\n",
    "\n",
    "if M_TIPO.startswith(\"bin_m\"):\n",
    "    myfunc.verbose(f\"Utilizando parámetros de {M_TIPO}\")\n",
    "    eval_selector = eval_selector_mi\n",
    "    eval_clasifier = eval_clasifier_svm\n",
    "\n",
    "    SEMILLA = 6578\n",
    "    M_SELECT = \"MI\"\n",
    "    M_CLASIF = \"SVM\"\n",
    "    param_distributions = {'selector__k': [1000], \n",
    "         'clasifier__kernel': ['rbf'], 'clasifier__gamma': [0.01], 'clasifier__C': [100]}\n",
    "elif M_TIPO.startswith(\"bin_s\"):\n",
    "    myfunc.verbose(f\"Utilizando parámetros de {M_TIPO}\")\n",
    "    eval_selector = eval_selector_rf\n",
    "    eval_clasifier = eval_clasifier_lr\n",
    "\n",
    "    SEMILLA = 6191\n",
    "    M_SELECT = \"RF\"\n",
    "    M_CLASIF = \"LR_L2\"\n",
    "    param_distributions = {'selector__max_features': [1000], 'selector__estimator__n_estimators': [200], \n",
    "        'clasifier__solver': ['lbfgs'], 'clasifier__penalty': ['l2'], 'clasifier__max_iter': [10000]}\n",
    "\n",
    "elif M_TIPO.startswith(\"mul_m\"):\n",
    "    myfunc.verbose(f\"Utilizando parámetros de {M_TIPO}\")\n",
    " \n",
    "    eval_selector = eval_selector_rf\n",
    "    eval_clasifier = eval_clasifier_lr\n",
    "\n",
    "    SEMILLA = 6191\n",
    "    M_SELECT = \"RF\"\n",
    "    M_CLASIF = \"LR_L2\"\n",
    "    param_distributions = {'selector__max_features': [1000], 'selector__estimator__n_estimators': [400], \n",
    "        'clasifier__solver': ['lbfgs'], 'clasifier__penalty': ['l2'], 'clasifier__max_iter': [10000]}\n",
    "\n",
    "else:\n",
    "    # M_TIPO.startswith(\"mul_s\"):\n",
    "    myfunc.verbose(f\"Utilizando parámetros de {M_TIPO}\")\n",
    "    eval_selector = eval_selector_anova\n",
    "    eval_clasifier = eval_clasifier_lr\n",
    "\n",
    "    SEMILLA = 1860\n",
    "    M_SELECT = \"ANOVA\"\n",
    "    M_CLASIF = \"LR_L2\"\n",
    "    param_distributions = {'selector__k': [1000], \n",
    "        'clasifier__solver': ['saga'], 'clasifier__penalty': ['l2'], 'clasifier__max_iter': [10000]}\n",
    "\n"
   ]
  },
  {
   "cell_type": "code",
   "execution_count": 3,
   "id": "b4fcfd3b",
   "metadata": {
    "execution": {
     "iopub.execute_input": "2023-10-27T21:28:53.470863Z",
     "iopub.status.busy": "2023-10-27T21:28:53.470667Z",
     "iopub.status.idle": "2023-10-27T21:28:53.474239Z",
     "shell.execute_reply": "2023-10-27T21:28:53.473708Z"
    },
    "papermill": {
     "duration": 0.007916,
     "end_time": "2023-10-27T21:28:53.475477",
     "exception": false,
     "start_time": "2023-10-27T21:28:53.467561",
     "status": "completed"
    },
    "tags": [
     "injected-parameters"
    ]
   },
   "outputs": [],
   "source": [
    "# Parameters\n",
    "M_TIPO = \"mul_m\"\n",
    "M_SELECT = \"RF\"\n",
    "M_CLASIF = \"SVM\"\n",
    "P_FICHERO = \"param_0000_0042_mul_m_RF_SVM.yaml\"\n",
    "R_FICHERO = \"resultados_0042\"\n",
    "M_FICHERO = \"metricas_0042\"\n",
    "PRE_DATA_FILE = \"rows_transpose_norm_by_gene_id_with_target_num_\"\n",
    "SCORING = \"roc_auc_ovr\"\n",
    "SEMILLA = 42\n",
    "MAX_ITERS = 500\n",
    "eval_selector = \"SelectFromModel(estimator=RandomForestClassifier(random_state=SEMILLA), threshold=-np.inf)\"\n",
    "eval_clasifier = \"SVC(probability=True, random_state=SEMILLA)\"\n",
    "param_distributions = {\n",
    "    \"selector__max_features\": [200],\n",
    "    \"selector__estimator__n_estimators\": [400],\n",
    "    \"clasifier__kernel\": [\"rbf\"],\n",
    "    \"clasifier__gamma\": [0.01],\n",
    "    \"clasifier__C\": [10],\n",
    "}\n"
   ]
  },
  {
   "cell_type": "code",
   "execution_count": 4,
   "id": "e058b21e",
   "metadata": {
    "execution": {
     "iopub.execute_input": "2023-10-27T21:28:53.481627Z",
     "iopub.status.busy": "2023-10-27T21:28:53.481426Z",
     "iopub.status.idle": "2023-10-27T21:28:53.484583Z",
     "shell.execute_reply": "2023-10-27T21:28:53.484102Z"
    },
    "papermill": {
     "duration": 0.007681,
     "end_time": "2023-10-27T21:28:53.485864",
     "exception": false,
     "start_time": "2023-10-27T21:28:53.478183",
     "status": "completed"
    },
    "tags": []
   },
   "outputs": [],
   "source": [
    "DATA_FILE = PRE_DATA_FILE + M_TIPO\n",
    "\n",
    "# si viene \"None\" en el parámetro max_depth, se le quitan las comillas para que no sea entendido por el algoritmo como un texto\n",
    "if \"clasifier__max_depth\" in param_distributions:\n",
    "    param_distributions['clasifier__max_depth'] = [None if x == 'None' else x for x in param_distributions['clasifier__max_depth']]"
   ]
  },
  {
   "cell_type": "markdown",
   "id": "9ecbe5fc",
   "metadata": {
    "papermill": {
     "duration": 0.002781,
     "end_time": "2023-10-27T21:28:53.491553",
     "exception": false,
     "start_time": "2023-10-27T21:28:53.488772",
     "status": "completed"
    },
    "tags": []
   },
   "source": [
    "Asignar los algoritmos que se utilizarán en la función RandomSearchCV"
   ]
  },
  {
   "cell_type": "code",
   "execution_count": 5,
   "id": "7a3e5d89",
   "metadata": {
    "execution": {
     "iopub.execute_input": "2023-10-27T21:28:53.498024Z",
     "iopub.status.busy": "2023-10-27T21:28:53.497835Z",
     "iopub.status.idle": "2023-10-27T21:28:53.500573Z",
     "shell.execute_reply": "2023-10-27T21:28:53.500059Z"
    },
    "papermill": {
     "duration": 0.007391,
     "end_time": "2023-10-27T21:28:53.501859",
     "exception": false,
     "start_time": "2023-10-27T21:28:53.494468",
     "status": "completed"
    },
    "tags": []
   },
   "outputs": [],
   "source": [
    "algor_selector=eval(eval_selector)\n",
    "algor_clasifier=eval(eval_clasifier)"
   ]
  },
  {
   "cell_type": "markdown",
   "id": "b4d6818e",
   "metadata": {
    "papermill": {
     "duration": 0.003331,
     "end_time": "2023-10-27T21:28:53.508498",
     "exception": false,
     "start_time": "2023-10-27T21:28:53.505167",
     "status": "completed"
    },
    "tags": []
   },
   "source": [
    "#### Comprobar el entorno y leer fichero de muestras"
   ]
  },
  {
   "cell_type": "code",
   "execution_count": 6,
   "id": "60d60761",
   "metadata": {
    "execution": {
     "iopub.execute_input": "2023-10-27T21:28:53.515808Z",
     "iopub.status.busy": "2023-10-27T21:28:53.515622Z",
     "iopub.status.idle": "2023-10-27T21:28:53.680878Z",
     "shell.execute_reply": "2023-10-27T21:28:53.680255Z"
    },
    "papermill": {
     "duration": 0.170321,
     "end_time": "2023-10-27T21:28:53.682112",
     "exception": false,
     "start_time": "2023-10-27T21:28:53.511791",
     "status": "completed"
    },
    "tags": []
   },
   "outputs": [
    {
     "name": "stdout",
     "output_type": "stream",
     "text": [
      "20231027T232853 : amilcar22 : INFO : Encontrada carpeta DATA_DIR=../tfm_git/datos\n",
      "20231027T232853 : amilcar22 : INFO : Encontrada carpeta CFDNA_DIR=../tfm_git/datos/cfDNA_5hmC\n",
      "20231027T232853 : amilcar22 : INFO : Encontrada carpeta GENCODE_DIR=../tfm_git/datos/gencode\n",
      "20231027T232853 : amilcar22 : INFO : Encontrada carpeta H5_DIR=../tfm_git/datos/h5\n",
      "20231027T232853 : amilcar22 : INFO : Encontrada carpeta LOG_DIR=../tfm_git/datos/logs\n",
      "20231027T232853 : amilcar22 : INFO : Encontrada carpeta CSV_DIR=../tfm_git/datos/csv\n",
      "20231027T232853 : amilcar22 : INFO : Encontrada carpeta MODEL_DIR=../tfm_git/ejecuciones/modelos\n",
      "20231027T232853 : amilcar22 : INFO : Encontrada carpeta EXEC_DIR=../tfm_git/ejecuciones\n",
      "20231027T232853 : amilcar22 : INFO : Encontrada carpeta MET_DIR=../tfm_git/ejecuciones/metricas\n",
      "20231027T232853 : amilcar22 : INFO : Inicio leer fichero h5 ../tfm_git/datos/h5/rows_transpose_norm_by_gene_id_with_target_num_mul_m.h5\n",
      "20231027T232853 : amilcar22 : INFO : Leyendo clave /df\n",
      "20231027T232853 : amilcar22 : INFO : Tamaño (434, 18876)\n",
      "20231027T232853 : amilcar22 : INFO : Fin leer fichero h5 ../tfm_git/datos/h5/rows_transpose_norm_by_gene_id_with_target_num_mul_m.h5\n"
     ]
    },
    {
     "data": {
      "text/plain": [
       "target\n",
       "0    62\n",
       "1    62\n",
       "2    62\n",
       "3    62\n",
       "4    62\n",
       "5    62\n",
       "6    62\n",
       "dtype: int64"
      ]
     },
     "metadata": {},
     "output_type": "display_data"
    },
    {
     "name": "stdout",
     "output_type": "stream",
     "text": [
      "Shape df: (434, 18876)\n"
     ]
    },
    {
     "name": "stdout",
     "output_type": "stream",
     "text": [
      "Shape X_train: (347, 18875)\n",
      "Shape X_test: (87, 18875)\n"
     ]
    }
   ],
   "source": [
    "start_time = datetime.datetime.now()\n",
    "\n",
    "myfunc.reset_vars()\n",
    "\n",
    "myfunc.NOTEBK_FILENAME = myfunc.get_nb_name()\n",
    "\n",
    "myfunc.check_enviroment(myfunc.DATA_DIR, myfunc.CFDNA_DIR, myfunc.GENCODE_DIR, myfunc.H5_DIR, myfunc.LOG_DIR, myfunc.CSV_DIR, myfunc.MODEL_DIR, myfunc.EXEC_DIR, myfunc.MET_DIR)\n",
    "\n",
    "# Leer fichero con las muestras\n",
    "df_t = myfunc.read_h5_to_df(DATA_FILE, myfunc.H5_DIR)\n",
    "display(df_t.groupby(\"target\").size())\n",
    "print(\"Shape df:\",df_t.shape)\n",
    "\n",
    "# Separar caracteristicas/genes de las etiquetas/tipos de cáncer\n",
    "X = df_t.iloc[:, :-1]  # Todas las columnas excepto la última\n",
    "y = df_t.iloc[:, -1]  # La última columna contiene los identificadores de los tipos de cáncer\n",
    "\n",
    "#  Crear el conjunto de datos de entrenamiento y de pruebas\n",
    "X_train, X_test, y_train, y_test = train_test_split(X, y, test_size=0.2, shuffle=True, random_state=SEMILLA)\n",
    "print(\"Shape X_train:\",X_train.shape)\n",
    "print(\"Shape X_test:\",X_test.shape)\n"
   ]
  },
  {
   "cell_type": "markdown",
   "id": "75672744",
   "metadata": {
    "papermill": {
     "duration": 0.002878,
     "end_time": "2023-10-27T21:28:53.688440",
     "exception": false,
     "start_time": "2023-10-27T21:28:53.685562",
     "status": "completed"
    },
    "tags": []
   },
   "source": [
    "#### Selección de características y clasificación."
   ]
  },
  {
   "cell_type": "code",
   "execution_count": 7,
   "id": "da58da08",
   "metadata": {
    "execution": {
     "iopub.execute_input": "2023-10-27T21:28:53.694934Z",
     "iopub.status.busy": "2023-10-27T21:28:53.694739Z",
     "iopub.status.idle": "2023-10-27T21:29:11.779202Z",
     "shell.execute_reply": "2023-10-27T21:29:11.778627Z"
    },
    "papermill": {
     "duration": 18.089168,
     "end_time": "2023-10-27T21:29:11.780415",
     "exception": false,
     "start_time": "2023-10-27T21:28:53.691247",
     "status": "completed"
    },
    "tags": []
   },
   "outputs": [
    {
     "name": "stdout",
     "output_type": "stream",
     "text": [
      "20231027T232853 : amilcar22 : INFO : Iniciando entrenamiento\n",
      "num_iter: 1 , max_iter: 1\n",
      "Fitting 5 folds for each of 1 candidates, totalling 5 fits\n"
     ]
    },
    {
     "name": "stdout",
     "output_type": "stream",
     "text": [
      "Mejores Hiperparámetros: {'selector__max_features': 200, 'selector__estimator__n_estimators': 400, 'clasifier__kernel': 'rbf', 'clasifier__gamma': 0.01, 'clasifier__C': 10}\n",
      "Mejor Puntuación: 0.8484\n",
      "20231027T232911 : amilcar22 : INFO : Fin entrenamiento\n"
     ]
    }
   ],
   "source": [
    "myfunc.verbose(\"Iniciando entrenamiento\")\n",
    "\n",
    "kf = KFold(n_splits=5, shuffle=True, random_state=SEMILLA)\n",
    "\n",
    "# Crear el pipeline para el flujo de tareas\n",
    "tasks_pipeline = Pipeline([\n",
    "    ('selector', algor_selector),\n",
    "    ('clasifier', algor_clasifier)\n",
    "])\n",
    "\n",
    "# MAX_ITERS puede limitar el número de iteraciones si son excesivas para las combinaciones de parámetros buscando un óptimo local, \n",
    "# sino funcionaría como GridSearchCV al revisar todas las cominaciones de los parámetros\n",
    "num_iteraciones = 1\n",
    "num_iteraciones = num_iteraciones * np.prod([len(elemento1) for _, elemento1 in param_distributions.items()])\n",
    "max_iteraciones = num_iteraciones if num_iteraciones <= MAX_ITERS else MAX_ITERS\n",
    "print(\"num_iter:\",num_iteraciones,\", max_iter:\",max_iteraciones)\n",
    "\n",
    "random_search = RandomizedSearchCV(\n",
    "    tasks_pipeline, \n",
    "    param_distributions, \n",
    "    n_iter=max_iteraciones,\n",
    "    scoring=SCORING,\n",
    "    cv=kf,\n",
    "    verbose=3, \n",
    "    random_state=SEMILLA, \n",
    "    n_jobs=-1\n",
    "    )\n",
    "\n",
    "# Entrenar el modelo\n",
    "random_search.fit(X_train, y_train)\n",
    "\n",
    "# Ver los mejores hiperparámetros encontrados\n",
    "print(f'Mejores Hiperparámetros: {random_search.best_params_}')\n",
    "print(f'Mejor Puntuación: {random_search.best_score_:.4f}')\n",
    "\n",
    "# Nos quedamos con el mejor modelo para ver las métricas\n",
    "mejor_modelo = random_search.best_estimator_\n",
    "\n",
    "myfunc.verbose(\"Fin entrenamiento\")"
   ]
  },
  {
   "cell_type": "markdown",
   "id": "65493986",
   "metadata": {
    "papermill": {
     "duration": 0.00282,
     "end_time": "2023-10-27T21:29:11.786553",
     "exception": false,
     "start_time": "2023-10-27T21:29:11.783733",
     "status": "completed"
    },
    "tags": []
   },
   "source": [
    "#### Guardar modelo"
   ]
  },
  {
   "cell_type": "code",
   "execution_count": 8,
   "id": "c5982e67",
   "metadata": {
    "execution": {
     "iopub.execute_input": "2023-10-27T21:29:11.793230Z",
     "iopub.status.busy": "2023-10-27T21:29:11.793021Z",
     "iopub.status.idle": "2023-10-27T21:29:11.926354Z",
     "shell.execute_reply": "2023-10-27T21:29:11.925837Z"
    },
    "papermill": {
     "duration": 0.138141,
     "end_time": "2023-10-27T21:29:11.927512",
     "exception": false,
     "start_time": "2023-10-27T21:29:11.789371",
     "status": "completed"
    },
    "tags": []
   },
   "outputs": [
    {
     "name": "stdout",
     "output_type": "stream",
     "text": [
      "20231027T232911 : amilcar22 : INFO : Inicio guardar fichero ../tfm_git/ejecuciones/modelos/modelo_0042_mul_m_RF_SVM.pkl\n",
      "20231027T232911 : amilcar22 : INFO : Fin guardar fichero ../tfm_git/ejecuciones/modelos/modelo_0042_mul_m_RF_SVM.pkl\n"
     ]
    }
   ],
   "source": [
    "fichero_modelo = str.replace(\"modelo_\"+str(SEMILLA).zfill(4)+\"_\"+M_TIPO+\"_\"+M_SELECT+\"_\"+M_CLASIF+\".pkl\", \" \", \"_\")\n",
    "\n",
    "myfunc.save_modelo(mejor_modelo, myfunc.MODEL_DIR, fichero_modelo)"
   ]
  },
  {
   "cell_type": "markdown",
   "id": "115f0414",
   "metadata": {
    "papermill": {
     "duration": 0.003182,
     "end_time": "2023-10-27T21:29:11.934025",
     "exception": false,
     "start_time": "2023-10-27T21:29:11.930843",
     "status": "completed"
    },
    "tags": []
   },
   "source": [
    "#### Ver resultados del las iteraciones hechas por RandomSearchCV"
   ]
  },
  {
   "cell_type": "code",
   "execution_count": 9,
   "id": "16908fcd",
   "metadata": {
    "execution": {
     "iopub.execute_input": "2023-10-27T21:29:11.940649Z",
     "iopub.status.busy": "2023-10-27T21:29:11.940448Z",
     "iopub.status.idle": "2023-10-27T21:29:11.946838Z",
     "shell.execute_reply": "2023-10-27T21:29:11.946318Z"
    },
    "papermill": {
     "duration": 0.010975,
     "end_time": "2023-10-27T21:29:11.947883",
     "exception": false,
     "start_time": "2023-10-27T21:29:11.936908",
     "status": "completed"
    },
    "tags": []
   },
   "outputs": [
    {
     "name": "stdout",
     "output_type": "stream",
     "text": [
      "20231027T232911 : amilcar22 : INFO : Inicio ver resultados\n",
      "Mejores Hiperparámetros: {'selector__max_features': 200, 'selector__estimator__n_estimators': 400, 'clasifier__kernel': 'rbf', 'clasifier__gamma': 0.01, 'clasifier__C': 10}\n",
      "Mejores puntuaciones: 0.8484 | Params: {'selector__max_features': 200, 'selector__estimator__n_estimators': 400, 'clasifier__kernel': 'rbf', 'clasifier__gamma': 0.01, 'clasifier__C': 10}\n",
      "Media de las puntuaciones: 0.8484 | Params: {'selector__max_features': 200, 'selector__estimator__n_estimators': 400, 'clasifier__kernel': 'rbf', 'clasifier__gamma': 0.01, 'clasifier__C': 10}\n",
      "20231027T232911 : amilcar22 : INFO : Fin resultados\n"
     ]
    }
   ],
   "source": [
    "myfunc.ver_resultados_search(random_search)"
   ]
  },
  {
   "cell_type": "markdown",
   "id": "2d0c2e7e",
   "metadata": {
    "papermill": {
     "duration": 0.002962,
     "end_time": "2023-10-27T21:29:11.953944",
     "exception": false,
     "start_time": "2023-10-27T21:29:11.950982",
     "status": "completed"
    },
    "tags": []
   },
   "source": [
    "#### Ver métricas del mejor modelo"
   ]
  },
  {
   "cell_type": "code",
   "execution_count": 10,
   "id": "9afa8227",
   "metadata": {
    "execution": {
     "iopub.execute_input": "2023-10-27T21:29:11.960670Z",
     "iopub.status.busy": "2023-10-27T21:29:11.960506Z",
     "iopub.status.idle": "2023-10-27T21:29:12.901761Z",
     "shell.execute_reply": "2023-10-27T21:29:12.901302Z"
    },
    "papermill": {
     "duration": 0.946101,
     "end_time": "2023-10-27T21:29:12.903079",
     "exception": false,
     "start_time": "2023-10-27T21:29:11.956978",
     "status": "completed"
    },
    "tags": []
   },
   "outputs": [
    {
     "name": "stdout",
     "output_type": "stream",
     "text": [
      "20231027T232911 : amilcar22 : INFO : Inicio ver métricas multiclase\n"
     ]
    },
    {
     "name": "stdout",
     "output_type": "stream",
     "text": [
      "              precision    recall  f1-score   support\n",
      "\n",
      "           0       0.12      0.06      0.08        16\n",
      "           1       0.75      0.60      0.67        15\n",
      "           2       0.25      0.18      0.21        11\n",
      "           3       0.33      0.80      0.47         5\n",
      "           4       0.47      0.62      0.53        13\n",
      "           5       0.64      0.78      0.70         9\n",
      "           6       0.53      0.56      0.54        18\n",
      "\n",
      "    accuracy                           0.47        87\n",
      "   macro avg       0.44      0.51      0.46        87\n",
      "weighted avg       0.45      0.47      0.45        87\n",
      "\n",
      "\n",
      "\n",
      "           Exactitud: 0.471264\n",
      "   Precisión (media): 0.441657\n",
      "      Recall (media): 0.513291\n",
      "    F1-score (media): 0.457855\n",
      "\n",
      "\n",
      "AUC para el tipo de cáncer 0-Control.... 0.6444\n",
      "AUC para el tipo de cáncer 1-Bladder.... 0.9130\n",
      "AUC para el tipo de cáncer 2-Breast..... 0.6711\n",
      "AUC para el tipo de cáncer 3-Colorectal. 0.9488\n",
      "AUC para el tipo de cáncer 4-Kidney..... 0.8451\n",
      "AUC para el tipo de cáncer 5-Lung....... 0.9330\n",
      "AUC para el tipo de cáncer 6-Prostate... 0.8277\n",
      "\n",
      "Media de AUC: 0.8261\n"
     ]
    },
    {
     "data": {
      "image/png": "[encoded data removed]",
      "text/plain": [
       "<Figure size 1000x600 with 1 Axes>"
      ]
     },
     "metadata": {},
     "output_type": "display_data"
    },
    {
     "name": "stdout",
     "output_type": "stream",
     "text": [
      "\n",
      "\n"
     ]
    },
    {
     "data": {
      "image/png": "[encoded data removed]",
      "text/plain": [
       "<Figure size 800x400 with 2 Axes>"
      ]
     },
     "metadata": {},
     "output_type": "display_data"
    },
    {
     "name": "stdout",
     "output_type": "stream",
     "text": [
      "\n",
      "\n",
      "Puntuación Jaccard para el cáncer tipo 0-Control.... 0.0435\n",
      "Puntuación Jaccard para el cáncer tipo 1-Bladder.... 0.5000\n",
      "Puntuación Jaccard para el cáncer tipo 2-Breast..... 0.1176\n",
      "Puntuación Jaccard para el cáncer tipo 3-Colorectal. 0.3077\n",
      "Puntuación Jaccard para el cáncer tipo 4-Kidney..... 0.3636\n",
      "Puntuación Jaccard para el cáncer tipo 5-Lung....... 0.5385\n",
      "Puntuación Jaccard para el cáncer tipo 6-Prostate... 0.3704\n",
      "\n",
      "Media de la puntuación de Jaccard: 0.3202\n"
     ]
    }
   ],
   "source": [
    "if M_TIPO.startswith(\"bin\"):\n",
    "    myfunc.ver_metricas(mejor_modelo, X_test, y_test)\n",
    "else:\n",
    "    myfunc.ver_metricas_multi(mejor_modelo, X_test, y_test)\n"
   ]
  },
  {
   "cell_type": "markdown",
   "id": "80366da2",
   "metadata": {
    "papermill": {
     "duration": 0.003975,
     "end_time": "2023-10-27T21:29:12.911616",
     "exception": false,
     "start_time": "2023-10-27T21:29:12.907641",
     "status": "completed"
    },
    "tags": []
   },
   "source": [
    "#### Finalización del notebook"
   ]
  },
  {
   "cell_type": "code",
   "execution_count": 11,
   "id": "2ec4fc3c",
   "metadata": {
    "execution": {
     "iopub.execute_input": "2023-10-27T21:29:12.920641Z",
     "iopub.status.busy": "2023-10-27T21:29:12.920433Z",
     "iopub.status.idle": "2023-10-27T21:29:12.924350Z",
     "shell.execute_reply": "2023-10-27T21:29:12.923856Z"
    },
    "papermill": {
     "duration": 0.009866,
     "end_time": "2023-10-27T21:29:12.925600",
     "exception": false,
     "start_time": "2023-10-27T21:29:12.915734",
     "status": "completed"
    },
    "tags": []
   },
   "outputs": [
    {
     "name": "stdout",
     "output_type": "stream",
     "text": [
      "20231027T232912 : amilcar22 : INFO : Notebook ha tardado 19 seconds\n"
     ]
    }
   ],
   "source": [
    "end_time = datetime.datetime.now()\n",
    "total_time = end_time - start_time\n",
    "myfunc.verbose(f\"Notebook ha tardado {total_time.seconds} seconds\")"
   ]
  },
  {
   "cell_type": "markdown",
   "id": "f949c99d",
   "metadata": {
    "papermill": {
     "duration": 0.004265,
     "end_time": "2023-10-27T21:29:12.934377",
     "exception": false,
     "start_time": "2023-10-27T21:29:12.930112",
     "status": "completed"
    },
    "tags": []
   },
   "source": [
    "#### Guardar métricas"
   ]
  },
  {
   "cell_type": "code",
   "execution_count": 12,
   "id": "9798a4ea",
   "metadata": {
    "execution": {
     "iopub.execute_input": "2023-10-27T21:29:12.943399Z",
     "iopub.status.busy": "2023-10-27T21:29:12.943211Z",
     "iopub.status.idle": "2023-10-27T21:29:13.763699Z",
     "shell.execute_reply": "2023-10-27T21:29:13.763182Z"
    },
    "papermill": {
     "duration": 0.826441,
     "end_time": "2023-10-27T21:29:13.765003",
     "exception": false,
     "start_time": "2023-10-27T21:29:12.938562",
     "status": "completed"
    },
    "tags": []
   },
   "outputs": [
    {
     "name": "stdout",
     "output_type": "stream",
     "text": [
      "20231027T232913 : amilcar22 : INFO : Inicio guardar métricas multiclase\n",
      "20231027T232913 : amilcar22 : INFO : Inicio leer fichero ../tfm_git/ejecuciones/metricas/metricas_0042.csv\n",
      "20231027T232913 : amilcar22 : INFO : Fin leer fichero ../tfm_git/ejecuciones/metricas/metricas_0042.csv\n"
     ]
    },
    {
     "name": "stdout",
     "output_type": "stream",
     "text": [
      "20231027T232913 : amilcar22 : INFO : Inicio guardar fichero ../tfm_git/ejecuciones/metricas/metricas_0042.csv\n",
      "20231027T232913 : amilcar22 : INFO : Fichero borrado ../tfm_git/ejecuciones/metricas/metricas_0042.csv\n",
      "20231027T232913 : amilcar22 : INFO : Fin guardar fichero ../tfm_git/ejecuciones/metricas/metricas_0042.csv\n",
      "20231027T232913 : amilcar22 : INFO : Fin guardar métricas multiclase\n",
      "20231027T232913 : amilcar22 : INFO : Inicio leer fichero ../tfm_git/ejecuciones/metricas/metricas_0042.csv\n",
      "20231027T232913 : amilcar22 : INFO : Fin leer fichero ../tfm_git/ejecuciones/metricas/metricas_0042.csv\n"
     ]
    },
    {
     "data": {
      "text/html": [
       "<div>\n",
       "<style scoped>\n",
       "    .dataframe tbody tr th:only-of-type {\n",
       "        vertical-align: middle;\n",
       "    }\n",
       "\n",
       "    .dataframe tbody tr th {\n",
       "        vertical-align: top;\n",
       "    }\n",
       "\n",
       "    .dataframe thead th {\n",
       "        text-align: right;\n",
       "    }\n",
       "</style>\n",
       "<table border=\"1\" class=\"dataframe\">\n",
       "  <thead>\n",
       "    <tr style=\"text-align: right;\">\n",
       "      <th></th>\n",
       "      <th>tipo</th>\n",
       "      <th>select</th>\n",
       "      <th>clasific</th>\n",
       "      <th>accuracy</th>\n",
       "      <th>precision</th>\n",
       "      <th>recall</th>\n",
       "      <th>f1_score</th>\n",
       "      <th>roc_auc</th>\n",
       "      <th>roc_auc_ovr</th>\n",
       "      <th>hostname</th>\n",
       "      <th>total_time_sec</th>\n",
       "      <th>datetime</th>\n",
       "      <th>fichero_modelo</th>\n",
       "      <th>params</th>\n",
       "      <th>shape</th>\n",
       "      <th>features</th>\n",
       "      <th>semilla</th>\n",
       "      <th>indices_auc</th>\n",
       "      <th>indices_jaccard</th>\n",
       "    </tr>\n",
       "  </thead>\n",
       "  <tbody>\n",
       "    <tr>\n",
       "      <th>0</th>\n",
       "      <td>mul_m</td>\n",
       "      <td>RF</td>\n",
       "      <td>SVM</td>\n",
       "      <td>0.471264</td>\n",
       "      <td>0.441657</td>\n",
       "      <td>0.513291</td>\n",
       "      <td>0.457855</td>\n",
       "      <td>NaN</td>\n",
       "      <td>0.826146</td>\n",
       "      <td>amilcar22</td>\n",
       "      <td>19</td>\n",
       "      <td>2023-10-27 23:29:13.717425</td>\n",
       "      <td>modelo_0042_mul_m_RF_SVM.pkl</td>\n",
       "      <td>{'selector__max_features': 200, 'selector__est...</td>\n",
       "      <td>X_test:(87, 18875)</td>\n",
       "      <td>['ENSG00000011465.18', 'ENSG00000011600.12', '...</td>\n",
       "      <td>42.0</td>\n",
       "      <td>[0.6443661971830985, 0.912962962962963, 0.6710...</td>\n",
       "      <td>[0.043478260869565216, 0.5, 0.1176470588235294...</td>\n",
       "    </tr>\n",
       "    <tr>\n",
       "      <th>0</th>\n",
       "      <td>mul_m</td>\n",
       "      <td>RF</td>\n",
       "      <td>RF</td>\n",
       "      <td>0.494253</td>\n",
       "      <td>0.443295</td>\n",
       "      <td>0.546787</td>\n",
       "      <td>0.480045</td>\n",
       "      <td>NaN</td>\n",
       "      <td>0.831911</td>\n",
       "      <td>amilcar22</td>\n",
       "      <td>26</td>\n",
       "      <td>2023-10-27 23:28:47.407544</td>\n",
       "      <td>modelo_0042_mul_m_RF_RF.pkl</td>\n",
       "      <td>{'selector__max_features': 500, 'selector__est...</td>\n",
       "      <td>X_test:(87, 18875)</td>\n",
       "      <td>['ENSG00000000938.13', 'ENSG00000003989.18', '...</td>\n",
       "      <td>42.0</td>\n",
       "      <td>[0.6267605633802816, 0.8740740740740741, 0.809...</td>\n",
       "      <td>[0.0, 0.4, 0.3333333333333333, 0.3333333333333...</td>\n",
       "    </tr>\n",
       "    <tr>\n",
       "      <th>0</th>\n",
       "      <td>mul_m</td>\n",
       "      <td>RF</td>\n",
       "      <td>LR_L2</td>\n",
       "      <td>0.574713</td>\n",
       "      <td>0.584639</td>\n",
       "      <td>0.581725</td>\n",
       "      <td>0.570146</td>\n",
       "      <td>NaN</td>\n",
       "      <td>0.860975</td>\n",
       "      <td>amilcar22</td>\n",
       "      <td>55</td>\n",
       "      <td>2023-10-27 23:28:14.014362</td>\n",
       "      <td>modelo_0042_mul_m_RF_LR_L2.pkl</td>\n",
       "      <td>{'selector__max_features': 1000, 'selector__es...</td>\n",
       "      <td>X_test:(87, 18875)</td>\n",
       "      <td>['ENSG00000000938.13', 'ENSG00000003989.18', '...</td>\n",
       "      <td>42.0</td>\n",
       "      <td>[0.772887323943662, 0.85, 0.7811004784688995, ...</td>\n",
       "      <td>[0.3333333333333333, 0.5263157894736842, 0.222...</td>\n",
       "    </tr>\n",
       "  </tbody>\n",
       "</table>\n",
       "</div>"
      ],
      "text/plain": [
       "    tipo select clasific  accuracy  precision    recall  f1_score  roc_auc  \\\n",
       "0  mul_m     RF      SVM  0.471264   0.441657  0.513291  0.457855      NaN   \n",
       "0  mul_m     RF       RF  0.494253   0.443295  0.546787  0.480045      NaN   \n",
       "0  mul_m     RF    LR_L2  0.574713   0.584639  0.581725  0.570146      NaN   \n",
       "\n",
       "   roc_auc_ovr   hostname  total_time_sec                    datetime  \\\n",
       "0     0.826146  amilcar22              19  2023-10-27 23:29:13.717425   \n",
       "0     0.831911  amilcar22              26  2023-10-27 23:28:47.407544   \n",
       "0     0.860975  amilcar22              55  2023-10-27 23:28:14.014362   \n",
       "\n",
       "                   fichero_modelo  \\\n",
       "0    modelo_0042_mul_m_RF_SVM.pkl   \n",
       "0     modelo_0042_mul_m_RF_RF.pkl   \n",
       "0  modelo_0042_mul_m_RF_LR_L2.pkl   \n",
       "\n",
       "                                              params               shape  \\\n",
       "0  {'selector__max_features': 200, 'selector__est...  X_test:(87, 18875)   \n",
       "0  {'selector__max_features': 500, 'selector__est...  X_test:(87, 18875)   \n",
       "0  {'selector__max_features': 1000, 'selector__es...  X_test:(87, 18875)   \n",
       "\n",
       "                                            features  semilla  \\\n",
       "0  ['ENSG00000011465.18', 'ENSG00000011600.12', '...     42.0   \n",
       "0  ['ENSG00000000938.13', 'ENSG00000003989.18', '...     42.0   \n",
       "0  ['ENSG00000000938.13', 'ENSG00000003989.18', '...     42.0   \n",
       "\n",
       "                                         indices_auc  \\\n",
       "0  [0.6443661971830985, 0.912962962962963, 0.6710...   \n",
       "0  [0.6267605633802816, 0.8740740740740741, 0.809...   \n",
       "0  [0.772887323943662, 0.85, 0.7811004784688995, ...   \n",
       "\n",
       "                                     indices_jaccard  \n",
       "0  [0.043478260869565216, 0.5, 0.1176470588235294...  \n",
       "0  [0.0, 0.4, 0.3333333333333333, 0.3333333333333...  \n",
       "0  [0.3333333333333333, 0.5263157894736842, 0.222...  "
      ]
     },
     "metadata": {},
     "output_type": "display_data"
    }
   ],
   "source": [
    "if M_TIPO.startswith(\"bin\"):\n",
    "    myfunc.save_metricas_to_csv(random_search, X_test, y_test, M_TIPO, M_SELECT, M_CLASIF, total_time, SEMILLA, myfunc.MET_DIR, M_FICHERO, fichero_modelo)\n",
    "else:\n",
    "    myfunc.save_metricas_multi_to_csv(random_search, X_test, y_test, M_TIPO, M_SELECT, M_CLASIF, total_time, SEMILLA, myfunc.MET_DIR, M_FICHERO, fichero_modelo)\n",
    "\n",
    "df1=myfunc.read_metricas_to_df(myfunc.MET_DIR,M_FICHERO)\n",
    "\n",
    "display(df1.sort_values(\"datetime\", ascending=False)[:3])\n"
   ]
  },
  {
   "cell_type": "markdown",
   "id": "31475852",
   "metadata": {
    "papermill": {
     "duration": 0.004374,
     "end_time": "2023-10-27T21:29:13.774359",
     "exception": false,
     "start_time": "2023-10-27T21:29:13.769985",
     "status": "completed"
    },
    "tags": []
   },
   "source": [
    "#### Guardar resultados"
   ]
  },
  {
   "cell_type": "code",
   "execution_count": 13,
   "id": "d45c7e23",
   "metadata": {
    "execution": {
     "iopub.execute_input": "2023-10-27T21:29:13.783772Z",
     "iopub.status.busy": "2023-10-27T21:29:13.783559Z",
     "iopub.status.idle": "2023-10-27T21:29:13.791936Z",
     "shell.execute_reply": "2023-10-27T21:29:13.791455Z"
    },
    "papermill": {
     "duration": 0.014568,
     "end_time": "2023-10-27T21:29:13.793225",
     "exception": false,
     "start_time": "2023-10-27T21:29:13.778657",
     "status": "completed"
    },
    "tags": []
   },
   "outputs": [
    {
     "name": "stdout",
     "output_type": "stream",
     "text": [
      "20231027T232913 : amilcar22 : INFO : Inicio guardar resultados\n",
      "20231027T232913 : amilcar22 : INFO : Inicio guardar fichero ../tfm_git/ejecuciones/metricas/resultados_0042_mul_m-RF-SVM.csv\n",
      "20231027T232913 : amilcar22 : INFO : Fin guardar fichero ../tfm_git/ejecuciones/metricas/resultados_0042_mul_m-RF-SVM.csv\n",
      "20231027T232913 : amilcar22 : INFO : Fin guardar resultados\n"
     ]
    }
   ],
   "source": [
    "fichero_resultados=R_FICHERO+\"_\"+M_TIPO+\"-\"+M_SELECT+\"-\"+M_CLASIF+\".csv\"\n",
    "myfunc.save_resultados_to_csv(M_TIPO, M_SELECT, M_CLASIF,  random_search, myfunc.MET_DIR, fichero_resultados)\n"
   ]
  }
 ],
 "metadata": {
  "kernelspec": {
   "display_name": "Python 3 (ipykernel)",
   "language": "python",
   "name": "python3"
  },
  "language_info": {
   "codemirror_mode": {
    "name": "ipython",
    "version": 3
   },
   "file_extension": ".py",
   "mimetype": "text/x-python",
   "name": "python",
   "nbconvert_exporter": "python",
   "pygments_lexer": "ipython3",
   "version": "3.10.12"
  },
  "papermill": {
   "default_parameters": {},
   "duration": 24.783538,
   "end_time": "2023-10-27T21:29:16.415425",
   "environment_variables": {},
   "exception": null,
   "input_path": "03_entrenamiento.ipynb",
   "output_path": "ejecuciones/training/03_entrenamiento.20231027T232851.param_0000_0042_mul_m_RF_SVM.output.ipynb",
   "parameters": {
    "MAX_ITERS": 500,
    "M_CLASIF": "SVM",
    "M_FICHERO": "metricas_0042",
    "M_SELECT": "RF",
    "M_TIPO": "mul_m",
    "PRE_DATA_FILE": "rows_transpose_norm_by_gene_id_with_target_num_",
    "P_FICHERO": "param_0000_0042_mul_m_RF_SVM.yaml",
    "R_FICHERO": "resultados_0042",
    "SCORING": "roc_auc_ovr",
    "SEMILLA": 42,
    "eval_clasifier": "SVC(probability=True, random_state=SEMILLA)",
    "eval_selector": "SelectFromModel(estimator=RandomForestClassifier(random_state=SEMILLA), threshold=-np.inf)",
    "param_distributions": {
     "clasifier__C": [
      10
     ],
     "clasifier__gamma": [
      0.01
     ],
     "clasifier__kernel": [
      "rbf"
     ],
     "selector__estimator__n_estimators": [
      400
     ],
     "selector__max_features": [
      200
     ]
    }
   },
   "start_time": "2023-10-27T21:28:51.631887",
   "version": "2.4.0"
  }
 },
 "nbformat": 4,
 "nbformat_minor": 5
}