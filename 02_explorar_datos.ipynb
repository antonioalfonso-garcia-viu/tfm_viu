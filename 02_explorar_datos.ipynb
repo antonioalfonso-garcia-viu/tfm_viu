{
 "cells": [
  {
   "cell_type": "markdown",
   "metadata": {},
   "source": [
    "### Importar librerías"
   ]
  },
  {
   "cell_type": "code",
   "execution_count": null,
   "metadata": {},
   "outputs": [],
   "source": [
    "import numpy as np\n",
    "import pandas as pd\n",
    "import os\n",
    "import datetime\n",
    "import psutil\n",
    "from sklearn import preprocessing\n",
    "import matplotlib.pyplot as plt\n",
    "from scipy.stats import shapiro\n",
    "\n",
    "from commons import myfunctions as myfunc\n",
    "\n",
    "start_time = datetime.datetime.now()\n"
   ]
  },
  {
   "cell_type": "markdown",
   "metadata": {},
   "source": [
    "### Variables globales\n"
   ]
  },
  {
   "cell_type": "code",
   "execution_count": null,
   "metadata": {},
   "outputs": [],
   "source": [
    "myfunc.NOTEBK_FILENAME = myfunc.get_nb_name()\n",
    "\n",
    "myfunc.reset_vars()\n"
   ]
  },
  {
   "cell_type": "markdown",
   "metadata": {},
   "source": [
    "### Representación de los valores de metilación en algunas muestras"
   ]
  },
  {
   "cell_type": "markdown",
   "metadata": {},
   "source": [
    "Lee ficheros de metilación por genes"
   ]
  },
  {
   "cell_type": "code",
   "execution_count": null,
   "metadata": {},
   "outputs": [],
   "source": [
    "df_t = myfunc.read_h5_to_df(\"rows_transpose_by_gene_id_with_target_num\", myfunc.H5_DIR)\n"
   ]
  },
  {
   "cell_type": "markdown",
   "metadata": {},
   "source": [
    "Escoger zonas donde la varianza sea mayor"
   ]
  },
  {
   "cell_type": "code",
   "execution_count": null,
   "metadata": {},
   "outputs": [],
   "source": [
    "from sklearn.feature_selection import SelectKBest\n",
    "from sklearn.feature_selection import f_classif\n",
    "\n",
    "#  coger una muestra de cada tipo\n",
    "muestras=pd.DataFrame()\n",
    "\n",
    "for tipo1 in set(df_t.target):\n",
    "    muestra1 = df_t[df_t.target == tipo1].sample(1, random_state=42)\n",
    "    if muestras.empty:\n",
    "        muestras = muestra1.copy()\n",
    "    else:\n",
    "        muestras = pd.concat([muestras, muestra1], axis = 0)\n",
    "\n",
    "X = muestras.iloc[:, :-1]\n",
    "y = muestras.iloc[:, -1]\n",
    "\n",
    "# Seleccionar las características\n",
    "selector = SelectKBest(f_classif, k=100)\n",
    "X_selected = selector.fit_transform(X, y)\n",
    "\n",
    "mask_columnas_seleccionadas = selector.get_support()\n",
    "columnas_seleccionadas = X.columns[mask_columnas_seleccionadas]\n",
    "\n",
    "df1 = pd.merge(X[columnas_seleccionadas], y, left_index=True, right_index=True)\n"
   ]
  },
  {
   "cell_type": "markdown",
   "metadata": {},
   "source": [
    "Representación gráfica del perfil utilizando las muestras seleccionadas anteriormente"
   ]
  },
  {
   "cell_type": "code",
   "execution_count": null,
   "metadata": {},
   "outputs": [],
   "source": [
    "import pandas as pd\n",
    "import matplotlib.pyplot as plt\n",
    "\n",
    "muestras = df1.copy()\n",
    "\n",
    "max_value = muestras.max().max()\n",
    "\n",
    "fig, axes = plt.subplots(muestras.shape[0], 1, figsize=(14,10))\n",
    "\n",
    "for i in range(len(muestras)):\n",
    "    axes[i].bar(range(muestras.shape[1]), muestras.iloc[i])\n",
    "    axes[i].set_ylabel(f\"Tipo {int(muestras.iloc[i]['target'])}\")\n",
    "    axes[i].set_ylim([0, max_value])\n",
    "    axes[i].set_xticks([])\n",
    "\n",
    "# solo se muestran las etiquetas del eje x al final\n",
    "axes[-1].set_xticks(range(0, muestras.shape[1], 10))\n",
    "axes[-1].set_xlabel(\"Genes\")\n",
    "\n",
    "plt.show()\n"
   ]
  },
  {
   "cell_type": "markdown",
   "metadata": {},
   "source": [
    "Ver la normalidad de los datos utilizando la prueba de Shapiro-Wilk"
   ]
  },
  {
   "cell_type": "code",
   "execution_count": null,
   "metadata": {},
   "outputs": [],
   "source": [
    "plt.hist(df1)\n",
    "plt.show()\n",
    "\n",
    "shapiro_result = shapiro(df1)\n",
    "p_value = shapiro_result.pvalue\n",
    "\n",
    "if p_value > 0.05:\n",
    "    print(f\"Los datos parecen seguir una distribución normal {p_value}\")\n",
    "else:\n",
    "    print(f\"Los datos NO parecen seguir una distribución normal {p_value}\")\n"
   ]
  },
  {
   "cell_type": "markdown",
   "metadata": {},
   "source": [
    "### Explorar datos de las muestras"
   ]
  },
  {
   "cell_type": "markdown",
   "metadata": {},
   "source": [
    "Lee ficheros con todas las muestras"
   ]
  },
  {
   "cell_type": "code",
   "execution_count": null,
   "metadata": {},
   "outputs": [],
   "source": [
    "df_t = myfunc.read_h5_to_df(\"files_joined\", myfunc.H5_DIR)\n",
    "\n",
    "columns_to_drop = [\"Chr\", \"Start\", \"End\", \"Strand\", \"Length\"]\n",
    "df_t.drop(columns_to_drop, axis=1, inplace=True)\n",
    "\n",
    "df_t.set_index('id', inplace=True)\n",
    "\n",
    "df_t = df_t.transpose()\n",
    "\n",
    "display(df_t)\n"
   ]
  },
  {
   "cell_type": "markdown",
   "metadata": {},
   "source": [
    "Leer fichero de clases"
   ]
  },
  {
   "cell_type": "code",
   "execution_count": null,
   "metadata": {},
   "outputs": [],
   "source": [
    "df_c = myfunc.read_h5_to_df(\"classes_by_id\", myfunc.H5_DIR)\n",
    "\n",
    "display(df_c)\n"
   ]
  },
  {
   "cell_type": "markdown",
   "metadata": {},
   "source": [
    "Algunos estadísticos sobre las muestras"
   ]
  },
  {
   "cell_type": "code",
   "execution_count": null,
   "metadata": {},
   "outputs": [],
   "source": [
    "myfunc.verbose(\"Some statistics by rows\")\n",
    "\n",
    "df_calc = df_t.copy()\n",
    "\n",
    "df_calc['CntCols']       = df_t.count(axis=1)\n",
    "df_calc['CntZeros']      =(df_t == 0).sum(axis=1)\n",
    "df_calc['NonZeros']      =(df_t != 0).sum(axis=1)\n",
    "df_calc['CntNaN']        = df_t.isnull().sum(axis=1)\n",
    "df_calc['SumCols']       = df_t.sum(axis=1)\n",
    "df_calc['MaxValue']      = df_t.max(axis=1)\n",
    "df_calc['MinValue']      = df_t.min(axis=1)\n",
    "df_calc['VarValue']      = df_t.var(axis=1)\n",
    "df_calc['StdValue']      = df_t.std(axis=1)\n",
    "df_calc['MeanValue']     = df_t.mean(axis=1)\n",
    "df_calc['DistinctValues']= df_t.nunique(axis=1)\n",
    "\n",
    "display(df_calc)\n",
    "\n",
    "if myfunc.SHOW_DISPLAYS:\n",
    "    display(df_calc.shape)\n",
    "    df_calc.info()\n"
   ]
  },
  {
   "cell_type": "code",
   "execution_count": null,
   "metadata": {},
   "outputs": [],
   "source": [
    "display(df_calc.sort_values(\"MaxValue\"))"
   ]
  },
  {
   "cell_type": "markdown",
   "metadata": {},
   "source": [
    "#### Ver la distribución de algunas muestras en el stream"
   ]
  },
  {
   "cell_type": "markdown",
   "metadata": {},
   "source": [
    "### Para contar los distintos valores aplanamos el df"
   ]
  },
  {
   "cell_type": "code",
   "execution_count": null,
   "metadata": {},
   "outputs": [],
   "source": [
    "import matplotlib.pyplot as plt\n",
    "flattened_data = df_t.values.flatten()\n",
    "print(flattened_data.shape)\n"
   ]
  },
  {
   "cell_type": "code",
   "execution_count": null,
   "metadata": {},
   "outputs": [],
   "source": [
    "from collections import Counter\n",
    "display(flattened_data.shape)\n",
    "\n",
    "Conteo = Counter(flattened_data)\n",
    "\n",
    "top_10 = Conteo.most_common(10)\n",
    "total_elementos = len(flattened_data)\n",
    "\n",
    "porcentajes = [(numero, count, (count / total_elementos) * 100) for numero, count in top_10]\n",
    "\n",
    "for numero, count, porcentaje in porcentajes:\n",
    "    print(f\"Número: {numero}, Cantidad: {count}, Porcentaje: {porcentaje:.2f}%\")"
   ]
  },
  {
   "cell_type": "markdown",
   "metadata": {},
   "source": [
    "Ver el tramo entre 0 y 100"
   ]
  },
  {
   "cell_type": "code",
   "execution_count": null,
   "metadata": {},
   "outputs": [],
   "source": [
    "vmin=0\n",
    "vmax=100\n",
    "filtered_data = flattened_data[(flattened_data >= vmin) & (flattened_data <= vmax)]\n",
    "display(filtered_data.shape)\n",
    "\n",
    "plt.figure(figsize=(20,5))\n",
    "plt.hist(filtered_data, bins=range(vmin,vmax), edgecolor='black', alpha=0.7)\n",
    "plt.title('Histograma de Valores en el DataFrame')\n",
    "plt.xlabel('Valor')\n",
    "plt.ylabel('Frecuencia')\n",
    "plt.grid(True)\n",
    "plt.show()\n"
   ]
  },
  {
   "cell_type": "code",
   "execution_count": null,
   "metadata": {},
   "outputs": [],
   "source": [
    "vmin=100\n",
    "vmax=400\n",
    "filtered_data = flattened_data[(flattened_data >= vmin) & (flattened_data <= vmax)]\n",
    "display(filtered_data.shape)\n",
    "\n",
    "plt.figure(figsize=(20,5))\n",
    "plt.hist(filtered_data, bins=range(vmin,vmax), edgecolor='black', alpha=0.7)\n",
    "plt.title('Histograma de Valores en el DataFrame')\n",
    "plt.xlabel('Valor')\n",
    "plt.ylabel('Frecuencia')\n",
    "plt.grid(True)\n",
    "plt.show()\n"
   ]
  },
  {
   "cell_type": "code",
   "execution_count": null,
   "metadata": {},
   "outputs": [],
   "source": [
    "vmin=400\n",
    "vmax=1800\n",
    "filtered_data = flattened_data[(flattened_data >= vmin) & (flattened_data <= vmax)]\n",
    "display(filtered_data.shape)\n",
    "\n",
    "plt.figure(figsize=(20,5))\n",
    "plt.hist(filtered_data, bins=range(vmin,vmax), edgecolor='black', alpha=0.7)\n",
    "plt.title('Histograma de Valores en el DataFrame')\n",
    "plt.xlabel('Valor')\n",
    "plt.ylabel('Frecuencia')\n",
    "plt.grid(True)\n",
    "plt.show()\n"
   ]
  },
  {
   "cell_type": "markdown",
   "metadata": {},
   "source": [
    "### veamos el resultado quitando la muestra Z82"
   ]
  },
  {
   "cell_type": "code",
   "execution_count": null,
   "metadata": {},
   "outputs": [],
   "source": [
    "import matplotlib.pyplot as plt\n",
    "if \"Z8\" in df_t.columns:\n",
    "    flattened_data = df_t.drop('Z82').values.flatten()\n",
    "print(flattened_data.shape)\n"
   ]
  },
  {
   "cell_type": "code",
   "execution_count": null,
   "metadata": {},
   "outputs": [],
   "source": [
    "filtered_data = flattened_data[(flattened_data >= 56) & (flattened_data <= 2000)]\n",
    "display(filtered_data.shape)\n",
    "\n",
    "print(filtered_data.shape[0]/flattened_data.shape[0],'%')\n",
    "\n",
    "plt.figure(figsize=(20,5))\n",
    "plt.hist(filtered_data, bins=range(450,1005), edgecolor='black', alpha=0.7)\n",
    "plt.title('Histograma de Valores en el DataFrame')\n",
    "plt.xlabel('Valor')\n",
    "plt.ylabel('Frecuencia')\n",
    "plt.grid(True)\n",
    "plt.show()\n"
   ]
  },
  {
   "cell_type": "markdown",
   "metadata": {},
   "source": [
    "#### Finalización del notebook"
   ]
  },
  {
   "cell_type": "code",
   "execution_count": null,
   "metadata": {},
   "outputs": [],
   "source": [
    "end_time = datetime.datetime.now()\n",
    "total_time = end_time - start_time\n",
    "myfunc.verbose(f\"Notebook ha tardado {total_time} segundos\")\n"
   ]
  }
 ],
 "metadata": {
  "kernelspec": {
   "display_name": "base",
   "language": "python",
   "name": "python3"
  },
  "language_info": {
   "codemirror_mode": {
    "name": "ipython",
    "version": 3
   },
   "file_extension": ".py",
   "mimetype": "text/x-python",
   "name": "python",
   "nbconvert_exporter": "python",
   "pygments_lexer": "ipython3",
   "version": "3.10.11"
  },
  "orig_nbformat": 4
 },
 "nbformat": 4,
 "nbformat_minor": 2
}
