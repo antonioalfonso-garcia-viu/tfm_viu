{
 "cells": [
  {
   "cell_type": "markdown",
   "metadata": {},
   "source": [
    "### Importar librerías"
   ]
  },
  {
   "cell_type": "code",
   "execution_count": null,
   "metadata": {},
   "outputs": [],
   "source": [
    "import os\n",
    "import numpy as np\n",
    "import datetime\n",
    "import sklearn \n",
    "\n",
    "# importar fichero con utilidades propias\n",
    "from commons import myfunctions as myfunc\n"
   ]
  },
  {
   "cell_type": "markdown",
   "metadata": {},
   "source": [
    "#### Definición de parámetros"
   ]
  },
  {
   "cell_type": "markdown",
   "metadata": {},
   "source": [
    "Se indican cuales son los algoritmos que mayor estabilidad tienen con la utilización de muestras reales"
   ]
  },
  {
   "cell_type": "code",
   "execution_count": null,
   "metadata": {
    "tags": [
     "parameters"
    ]
   },
   "outputs": [],
   "source": [
    "# parametros\n",
    "SEMILLA = 42\n",
    "B_TIPO= \"bin_s\"\n",
    "M_TIPO= \"mul_s\"\n",
    "DATA_TIPO= \"mul_s\"\n",
    "PRE_DATA_FILE=  \"rows_transpose_norm_by_gene_id_with_target_num_\"\n",
    "\n",
    "modelo_binario=\"modelo_\"+str(SEMILLA).zfill(4)+\"_\"+B_TIPO+\"_ANOVA_LR_L2.pkl\"\n",
    "modelo_multi= \"modelo_\"+str(SEMILLA).zfill(4)+\"_\"+M_TIPO+\"_ANOVA_LR_L2.pkl\"\n"
   ]
  },
  {
   "cell_type": "markdown",
   "metadata": {},
   "source": [
    "Nombre del fichero con las muestras a utilizar"
   ]
  },
  {
   "cell_type": "code",
   "execution_count": null,
   "metadata": {},
   "outputs": [],
   "source": [
    "DATA_FILE= PRE_DATA_FILE + DATA_TIPO\n"
   ]
  },
  {
   "cell_type": "markdown",
   "metadata": {},
   "source": [
    "#### Incializar variables, comprobar entorno y leer el fichero con las muestras."
   ]
  },
  {
   "cell_type": "code",
   "execution_count": null,
   "metadata": {},
   "outputs": [],
   "source": [
    "start_time = datetime.datetime.now()\n",
    "\n",
    "myfunc.reset_vars()\n",
    "\n",
    "myfunc.NOTEBK_FILENAME = myfunc.get_nb_name()\n",
    "myfunc.EXEC_DIR = os.path.join(myfunc.EXEC_DIR, M_TIPO)\n",
    "\n",
    "myfunc.check_enviroment(myfunc.DATA_DIR, myfunc.CFDNA_DIR, myfunc.GENCODE_DIR, myfunc.H5_DIR, myfunc.LOG_DIR, myfunc.CSV_DIR, myfunc.MODEL_DIR, myfunc.EXEC_DIR, myfunc.MET_DIR)\n",
    "\n",
    "def mutual_info_classif_state(X, y):\n",
    "    return mutual_info_classif(X, y, random_state=SEMILLA)\n",
    "\n",
    "#  leer fichero de datos\n",
    "df_t = myfunc.read_h5_to_df(DATA_FILE, myfunc.H5_DIR)\n",
    "display(df_t.groupby(\"target\").size())\n",
    "print(\"Shape df:\",df_t.shape)\n"
   ]
  },
  {
   "cell_type": "markdown",
   "metadata": {},
   "source": [
    "Se separan las muestras utilizando la misma semilla que se utilizó para el entrenamiento del modelo.\n",
    "\n",
    "Se utilizan las muestras de _test_ para evaluar el rendimiento del modelo."
   ]
  },
  {
   "cell_type": "code",
   "execution_count": null,
   "metadata": {},
   "outputs": [],
   "source": [
    "from sklearn.model_selection import  train_test_split\n",
    "\n",
    "X = df_t.iloc[:, :-1]\n",
    "y = df_t.iloc[:, -1]\n",
    "\n",
    "X_train, X_test, y_train, y_test = train_test_split(X, y, test_size=0.2, shuffle=True, random_state=42)\n",
    "\n",
    "y_test_bin = y_test.copy()\n",
    "y_test_bin[y_test_bin != 0] = 1\n",
    "\n",
    "# y_train_bin = y_train.copy()\n",
    "# y_train_bin[y_train_bin != 0] = 1\n",
    "\n",
    "print(\"Shape X_test:\",X_test.shape)\n"
   ]
  },
  {
   "cell_type": "markdown",
   "metadata": {},
   "source": [
    "#### Leer modelos guardados de clasificación binaria y multiclase indicados en los parámetros"
   ]
  },
  {
   "cell_type": "code",
   "execution_count": null,
   "metadata": {},
   "outputs": [],
   "source": [
    "mejor_modelo_bin=myfunc.read_modelo(myfunc.MODEL_DIR, modelo_binario)\n",
    "\n",
    "mejor_modelo_mul=myfunc.read_modelo(myfunc.MODEL_DIR, modelo_multi)\n"
   ]
  },
  {
   "cell_type": "markdown",
   "metadata": {},
   "source": [
    "### Ver rendimiento en clasificación binaria"
   ]
  },
  {
   "cell_type": "code",
   "execution_count": null,
   "metadata": {},
   "outputs": [],
   "source": [
    "import sklearn\n",
    "\n",
    "# se obtienen las predicciones de la clasificación binaria\n",
    "predicciones_bin  = mejor_modelo_bin.predict(X_test)\n",
    "\n",
    "print(sklearn.metrics.classification_report(y_test_bin, predicciones_bin))\n",
    "\n",
    "conf_matrix = sklearn.metrics.confusion_matrix(y_test_bin, predicciones_bin)\n",
    "\n",
    "accuracy = sklearn.metrics.accuracy_score(y_test_bin, predicciones_bin)\n",
    "precision = sklearn.metrics.precision_score(y_test_bin, predicciones_bin, average=\"macro\")\n",
    "recall = sklearn.metrics.recall_score(y_test_bin, predicciones_bin, average=\"macro\")\n",
    "f1 = sklearn.metrics.f1_score(y_test_bin, predicciones_bin, average=\"macro\")\n",
    "\n",
    "print(\"\\n\")\n",
    "print(\"           Exactitud: %.6f\" % (accuracy)) \n",
    "print(\"   Precisión (media): %.6f\" % (precision))\n",
    "print(\"      Recall (media): %.6f\" % (recall))\n",
    "print(\"    F1-score (media): %.6f\" % (f1))\n",
    "\n",
    "myfunc.ver_metricas_bin_matriz_confusion(y_test_bin, predicciones_bin)"
   ]
  },
  {
   "cell_type": "markdown",
   "metadata": {},
   "source": [
    "### Ver rendimiento con el sistema de clasificación en dos fases y un modelo por fase"
   ]
  },
  {
   "cell_type": "markdown",
   "metadata": {},
   "source": [
    "Se define el *sistema* con la función *predict_pipelines* donde primero se hace la clasificación binaria y a continuación la clasificación del tipo de cáncer.\n",
    "\n",
    "La función *predict_proba_pipelines* también se ha definido para calcular las probabilidades y mostrar la matriz de confusión.\n",
    "\n",
    "Se muestran a continuación ambas funciones, pero realmente están incluidas en la función que muestra las métricas *myfunc.ver_metricas_multi_pipeline*."
   ]
  },
  {
   "cell_type": "code",
   "execution_count": null,
   "metadata": {},
   "outputs": [],
   "source": [
    "def predict_pipelines(modelo_bin, modelo_mul, X):\n",
    "    # se obtienen las predicciones de la clasificación binaria\n",
    "    predict_bin  = modelo_bin.predict(X)\n",
    "    # se obtienen las predicciones de la clasificación multiclase\n",
    "    predict_mul  = modelo_mul.predict(X)\n",
    "    # Finalmente se mezclan las muestras que han salido sanas del primer modelo con el resultado \n",
    "    # de las muestras de la clasificación multicáncer que indican el tipo de cáncer predicho\n",
    "    return np.where(predict_bin == 0, 0, predict_mul)\n"
   ]
  },
  {
   "cell_type": "markdown",
   "metadata": {},
   "source": [
    "#### Resultados de la ejecución completa del sistema en 2 fases"
   ]
  },
  {
   "cell_type": "code",
   "execution_count": null,
   "metadata": {},
   "outputs": [],
   "source": [
    "\n",
    "y_pred = predict_pipelines(mejor_modelo_bin, mejor_modelo_mul,X_test)\n",
    "\n",
    "print(sklearn.metrics.classification_report(y_test, y_pred, zero_division=0, digits=3))\n",
    "\n",
    "conf_matrix = sklearn.metrics.confusion_matrix(y_test, y_pred)\n",
    "\n",
    "accuracy = sklearn.metrics.accuracy_score(y_test, y_pred)\n",
    "precision = sklearn.metrics.precision_score(y_test, y_pred, average=\"macro\", zero_division=0)\n",
    "recall = sklearn.metrics.recall_score(y_test, y_pred, average=\"macro\", zero_division=0)\n",
    "f1 = sklearn.metrics.f1_score(y_test, y_pred, average=\"macro\", zero_division=0)\n",
    "\n",
    "print(\"\\n\")\n",
    "print(\"           Exactitud: %.6f\" % (accuracy)) \n",
    "print(\"   Precisión (media): %.6f\" % (precision))\n",
    "print(\"      Recall (media): %.6f\" % (recall))\n",
    "print(\"    F1-score (media): %.6f\" % (f1))\n",
    "\n",
    "myfunc.ver_metricas_multi_matriz_confusion(y_test,y_pred)"
   ]
  },
  {
   "cell_type": "markdown",
   "metadata": {},
   "source": [
    "#### Finalización del notebook"
   ]
  },
  {
   "cell_type": "code",
   "execution_count": null,
   "metadata": {},
   "outputs": [],
   "source": [
    "end_time = datetime.datetime.now()\n",
    "total_time = end_time - start_time\n",
    "myfunc.verbose(f\"Notebook ha tardado {total_time} segundos\")"
   ]
  }
 ],
 "metadata": {
  "kernelspec": {
   "display_name": "Python 3 (ipykernel)",
   "language": "python",
   "name": "python3"
  },
  "language_info": {
   "codemirror_mode": {
    "name": "ipython",
    "version": 3
   },
   "file_extension": ".py",
   "mimetype": "text/x-python",
   "name": "python",
   "nbconvert_exporter": "python",
   "pygments_lexer": "ipython3",
   "version": "3.10.11"
  }
 },
 "nbformat": 4,
 "nbformat_minor": 2
}
