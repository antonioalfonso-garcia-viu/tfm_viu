{
 "cells": [
  {
   "cell_type": "markdown",
   "metadata": {},
   "source": [
    "### Importar librerías"
   ]
  },
  {
   "cell_type": "code",
   "execution_count": null,
   "metadata": {},
   "outputs": [],
   "source": [
    "import numpy as np\n",
    "import pandas as pd\n",
    "import os\n",
    "import random\n",
    "\n",
    "from commons import myfunctions as myfunc\n"
   ]
  },
  {
   "cell_type": "markdown",
   "metadata": {},
   "source": [
    "#### Carpeta ejecuciones/parámetros"
   ]
  },
  {
   "cell_type": "markdown",
   "metadata": {},
   "source": [
    "Buscar fichero \"02_parametros.csv\" y genera ficheros yaml para utilizar con _papermill_ en la carpeta _parametros_"
   ]
  },
  {
   "cell_type": "markdown",
   "metadata": {},
   "source": [
    "El fichero CSV debe tener como mínimo las siguientes columnas:\n",
    "\n",
    "* num:      indice, no se utiliza.\n",
    "* orden:    si se quiere que se lancen en ese orden los notebooks (opcional)\n",
    "* M_TIPO:   identificador del tipo de conjunto de datos\n",
    "* M_SELECT: identificador del algoritmo de seleccion de características utilizado\n",
    "* M_CLASIF: identificador del algoritmo de clasificiación utilizado\n",
    "* eval_selector:    función scikit-learn a utilizar del algoritmo de selección y que será el argumento de la función eval()\n",
    "* eval_clasifier: función scikit-learn a utilizar del algirtmo de clasificación y que será el argumento de la función eval()\n"
   ]
  },
  {
   "cell_type": "markdown",
   "metadata": {},
   "source": [
    "El fichero YAML generado con los parámetros, además de las columnas anteriores tendrá:\n",
    "* P_FICHERO: nombre del fichero de parámetros\n",
    "* R_FICHERO: nombre del fichero donde dejará los resultados de la valoraciones del RandomSearchCV\n",
    "* M_FICHERO: nombre del fichero donde dejará las métricas\n",
    "* DATA_FILE: nombre del fichero con el conjunto de datos. Se concatenará con M_TIPO.\n",
    "* SCORING:   función de evaluación para el RandomSearchCV\n",
    "* MAX_ITERS: número máximo de iteraciones del RandomSearchCV a ejecutar"
   ]
  },
  {
   "cell_type": "markdown",
   "metadata": {},
   "source": [
    "Un ejemplo de las dos primeras líneas del fichero CSV:\n",
    "\n",
    "<pre>\n",
    "num;orden;M_TIPO;M_SELECT;M_CLASIF;eval_selector;eval_clasifier;param_distributions\n",
    "0;0;bin_m;ANOVA;SVM;SelectKBest(score_func=f_classif);SVC(probability=True, random_state=SEMILLA);{'selector__k': [500],  'clasifier__kernel': ['rbf'], 'clasifier__gamma': [0.01], 'clasifier__C': [100]}\n",
    "</pre>"
   ]
  },
  {
   "cell_type": "code",
   "execution_count": null,
   "metadata": {},
   "outputs": [],
   "source": [
    "# Inicializar semilla para el random\n",
    "np.random.seed(42)\n",
    "\n",
    "carpeta_origen = \"ejecuciones\"\n",
    "\n",
    "carpetah=os.path.join(carpeta_origen)\n",
    "if not os.path.exists(carpetah):\n",
    "    os.mkdir(carpetah)\n",
    "\n",
    "carpetah=os.path.join(carpeta_origen,\"training\")\n",
    "if not os.path.exists(carpetah):\n",
    "    os.mkdir(carpetah)\n",
    "\n",
    "carpetah=os.path.join(carpeta_origen,\"metricas\")\n",
    "if not os.path.exists(carpetah):\n",
    "    os.mkdir(carpetah)\n",
    "\n",
    "carpetah=os.path.join(carpeta_origen,\"modelos\")\n",
    "if not os.path.exists(carpetah):\n",
    "    os.mkdir(carpetah)\n",
    "\n",
    "carpetah=os.path.join(carpeta_origen,\"parametros\")\n",
    "if not os.path.exists(carpetah):\n",
    "    os.mkdir(carpetah)\n",
    "    os.mkdir(os.path.join(carpetah,\"error\"))\n",
    "    os.mkdir(os.path.join(carpetah,\"done\"))\n",
    "else:\n",
    "    print(\"Carpeta\",carpetah,\"ya existe.\")\n",
    "\n",
    "df1 = myfunc.read_csv_to_df_spa(\"02_parametros_definitivos.csv\", os.path.join(\".\"))\n",
    "\n",
    "display(df1.sample(3))\n",
    "\n"
   ]
  },
  {
   "cell_type": "markdown",
   "metadata": {},
   "source": [
    "Buscar semillas a utilizar"
   ]
  },
  {
   "cell_type": "code",
   "execution_count": null,
   "metadata": {},
   "outputs": [],
   "source": [
    "# Generar 10 valores para las semillas\n",
    "SEMILLAS = np.random.randint(1000, 9999, size=10)\n",
    "\n",
    "# Si solo se quiere la semilla 42\n",
    "SEMILLAS = [42]\n",
    "\n",
    "print(SEMILLAS)\n"
   ]
  },
  {
   "cell_type": "markdown",
   "metadata": {},
   "source": [
    "Generar los ficheros"
   ]
  },
  {
   "cell_type": "code",
   "execution_count": null,
   "metadata": {},
   "outputs": [],
   "source": [
    "\n",
    "print(\"Generando ficheros en \", carpetah)\n",
    "print(\"Semillas:\", end=\" \")\n",
    "for SEMILLA in SEMILLAS:\n",
    "  print(SEMILLA, end=\", \")\n",
    "\n",
    "  for i in range(len(df1)):\n",
    "    datos = df1.iloc[i]\n",
    "\n",
    "    if \"orden\" not in df1.columns:\n",
    "      orden=0\n",
    "    else:\n",
    "      orden=datos.orden\n",
    "\n",
    "    P_FICHERO = \"param_\"+str(orden).zfill(4)+\"_\"+str(SEMILLA).zfill(4)+\"_\"+datos.M_TIPO+\"_\"+datos.M_SELECT+\"_\"+datos.M_CLASIF+\".yaml\"\n",
    "    R_FICHERO = \"resultados_\"+str(SEMILLA).zfill(4)\n",
    "    M_FICHERO = \"metricas_\"+str(SEMILLA).zfill(4)\n",
    "    DATA_FILE = \"rows_transpose_norm_by_gene_id_with_target_num_\"\n",
    "    SCORING = \"roc_auc_ovr\"\n",
    "    MAX_ITERS = 500\n",
    "\n",
    "    fichero1=os.path.join(carpetah,P_FICHERO)\n",
    "    with open(fichero1, \"w\") as f:\n",
    "      f.write(f'M_TIPO: \"{datos.M_TIPO}\"\\n')\n",
    "      f.write(f'M_SELECT: \"{datos.M_SELECT}\"\\n')\n",
    "      f.write(f'M_CLASIF: \"{datos.M_CLASIF}\"\\n')\n",
    "      f.write(f'P_FICHERO: \"{P_FICHERO}\"\\n')    \n",
    "      f.write(f'R_FICHERO: \"{R_FICHERO}\"\\n')\n",
    "      f.write(f'M_FICHERO: \"{M_FICHERO}\"\\n')\n",
    "      f.write(f'PRE_DATA_FILE: \"{DATA_FILE}\"\\n')\n",
    "      f.write(f'SCORING: \"{SCORING}\"\\n')\n",
    "      f.write(f'SEMILLA: {str(SEMILLA)}\\n')\n",
    "      f.write(f'MAX_ITERS: {(MAX_ITERS)}\\n')\n",
    "      f.write(f'eval_selector: \"{datos.eval_selector}\"\\n')\n",
    "      f.write(f'eval_clasifier: \"{datos.eval_clasifier}\"\\n')\n",
    "      f.write(f'param_distributions: {datos.param_distributions}\\n')\n"
   ]
  }
 ],
 "metadata": {
  "kernelspec": {
   "display_name": "base",
   "language": "python",
   "name": "python3"
  },
  "language_info": {
   "codemirror_mode": {
    "name": "ipython",
    "version": 3
   },
   "file_extension": ".py",
   "mimetype": "text/x-python",
   "name": "python",
   "nbconvert_exporter": "python",
   "pygments_lexer": "ipython3",
   "version": "3.10.11"
  }
 },
 "nbformat": 4,
 "nbformat_minor": 2
}
