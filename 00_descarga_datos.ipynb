{
 "cells": [
  {
   "cell_type": "markdown",
   "metadata": {},
   "source": [
    "### Importar librerías"
   ]
  },
  {
   "cell_type": "code",
   "execution_count": null,
   "metadata": {},
   "outputs": [],
   "source": [
    "import os\n",
    "import platform\n",
    "import datetime\n",
    "import logging\n",
    "import gzip\n",
    "import shutil\n",
    "import urllib\n",
    "\n",
    "# importar fichero con utilidades propias\n",
    "from commons import myfunctions as myfunc\n",
    "\n",
    "start_time = datetime.datetime.now()\n"
   ]
  },
  {
   "cell_type": "markdown",
   "metadata": {},
   "source": [
    "### Variables globales\n"
   ]
  },
  {
   "cell_type": "code",
   "execution_count": null,
   "metadata": {},
   "outputs": [],
   "source": [
    "myfunc.reset_vars()\n",
    "myfunc.NOTEBK_FILENAME = myfunc.get_nb_name()\n",
    "\n",
    "myfunc.check_enviroment(myfunc.DATA_DIR, myfunc.CFDNA_DIR, myfunc.GENCODE_DIR, myfunc.H5_DIR, myfunc.LOG_DIR, myfunc.CSV_DIR, myfunc.MODEL_DIR, myfunc.EXEC_DIR, myfunc.MET_DIR)\n",
    "\n",
    "myfunc.print_vars()"
   ]
  },
  {
   "cell_type": "markdown",
   "metadata": {},
   "source": [
    "### Descargar los ficheros de Gene Expression Omnibus\n",
    "\n",
    "(https://www.ncbi.nlm.nih.gov/geo/query/acc.cgi)"
   ]
  },
  {
   "cell_type": "code",
   "execution_count": null,
   "metadata": {},
   "outputs": [],
   "source": [
    "direcciones = [ \"https://ftp.ncbi.nlm.nih.gov/geo/series/GSE202nnn/GSE202988/suppl/GSE202988_5hmC_ReadCount_BinnedGenome_Bladder.txt.gz\",\n",
    "                \"https://ftp.ncbi.nlm.nih.gov/geo/series/GSE202nnn/GSE202988/suppl/GSE202988_5hmC_ReadCount_BinnedGenome_Breast.txt.gz\",\n",
    "                \"https://ftp.ncbi.nlm.nih.gov/geo/series/GSE202nnn/GSE202988/suppl/GSE202988_5hmC_ReadCount_BinnedGenome_Colorectal.txt.gz\",\n",
    "                \"https://ftp.ncbi.nlm.nih.gov/geo/series/GSE202nnn/GSE202988/suppl/GSE202988_5hmC_ReadCount_BinnedGenome_Control.txt.gz\",\n",
    "                \"https://ftp.ncbi.nlm.nih.gov/geo/series/GSE202nnn/GSE202988/suppl/GSE202988_5hmC_ReadCount_BinnedGenome_Kidney.txt.gz\",\n",
    "                \"https://ftp.ncbi.nlm.nih.gov/geo/series/GSE202nnn/GSE202988/suppl/GSE202988_5hmC_ReadCount_BinnedGenome_Lung.txt.gz\",\n",
    "                \"https://ftp.ncbi.nlm.nih.gov/geo/series/GSE202nnn/GSE202988/suppl/GSE202988_5hmC_ReadCount_BinnedGenome_Prostate.txt.gz\"]\n",
    "\n",
    "for url1 in direcciones:\n",
    "    myfunc.verbose(f\"Descargando {url1}\")\n",
    "    nombre_fichero = os.path.basename(url1)\n",
    "    ubicacion_fichero = os.path.join(myfunc.CFDNA_DIR, nombre_fichero)\n",
    "    if os.path.exists(ubicacion_fichero):\n",
    "        myfunc.verbose(f\"Borre el fichero que ya existe '{ubicacion_fichero}' si quiere descargarlo de nuevo.\")\n",
    "    else:\n",
    "        urllib.request.urlretrieve(url1, ubicacion_fichero)\n",
    "        myfunc.verbose(f\"Guardado fichero {ubicacion_fichero}\")"
   ]
  },
  {
   "cell_type": "markdown",
   "metadata": {},
   "source": [
    "#### Descomprimir los ficheros"
   ]
  },
  {
   "cell_type": "code",
   "execution_count": null,
   "metadata": {},
   "outputs": [],
   "source": [
    "for url1 in direcciones:\n",
    "    nombre_fichero = os.path.basename(url1)\n",
    "    nombre_fichero_txt, _ = os.path.splitext(nombre_fichero)\n",
    "    ubicacion_fichero_entrada = os.path.join(myfunc.CFDNA_DIR, nombre_fichero)\n",
    "    ubicacion_fichero_salida = os.path.join(myfunc.CFDNA_DIR, f\"{nombre_fichero_txt}\")\n",
    "\n",
    "    with gzip.open(ubicacion_fichero_entrada, \"rb\") as fichero_entrada, open(ubicacion_fichero_salida, \"wb\") as fichero_salida:\n",
    "        shutil.copyfileobj(fichero_entrada, fichero_salida)\n",
    "\n",
    "    myfunc.verbose(f\"Descomprimido fichero {nombre_fichero} en {nombre_fichero_txt}\")\n"
   ]
  },
  {
   "cell_type": "markdown",
   "metadata": {},
   "source": [
    "### Descarga de fichero de GenCode \n",
    "\n",
    "(https://www.gencodegenes.org/human/)"
   ]
  },
  {
   "cell_type": "code",
   "execution_count": null,
   "metadata": {},
   "outputs": [],
   "source": [
    "\n",
    "direcciones = [\"https://ftp.ebi.ac.uk/pub/databases/gencode/Gencode_human/release_44/gencode.v44.primary_assembly.annotation.gtf.gz\"]\n",
    "\n",
    "for url1 in direcciones:\n",
    "    myfunc.verbose(f\"Descargando {url1}\")\n",
    "    nombre_fichero = os.path.basename(url1)\n",
    "    ubicacion_fichero = os.path.join(myfunc.GENCODE_DIR, nombre_fichero)\n",
    "    if os.path.exists(ubicacion_fichero):\n",
    "        myfunc.verbose(f\"Borre el fichero que ya existe '{ubicacion_fichero}' si quiere descargarlo de nuevo.\")\n",
    "    else:\n",
    "        urllib.request.urlretrieve(url1, ubicacion_fichero)\n",
    "        myfunc.verbose(f\"Guardado fichero {ubicacion_fichero}\")"
   ]
  },
  {
   "cell_type": "markdown",
   "metadata": {},
   "source": [
    "#### Descomprimir el fichero"
   ]
  },
  {
   "cell_type": "code",
   "execution_count": null,
   "metadata": {},
   "outputs": [],
   "source": [
    "for url1 in direcciones:\n",
    "    nombre_fichero = os.path.basename(url1)\n",
    "    nombre_fichero_txt, _ = os.path.splitext(nombre_fichero)\n",
    "    ubicacion_fichero_entrada = os.path.join(myfunc.GENCODE_DIR, nombre_fichero)\n",
    "    ubicacion_fichero_salida = os.path.join(myfunc.GENCODE_DIR, f\"{nombre_fichero_txt}\")\n",
    "\n",
    "    with gzip.open(ubicacion_fichero_entrada, \"rb\") as fichero_entrada, open(ubicacion_fichero_salida, \"wb\") as fichero_salida:\n",
    "        shutil.copyfileobj(fichero_entrada, fichero_salida)\n",
    "\n",
    "    myfunc.verbose(f\"Descomprimido fichero {nombre_fichero} en {nombre_fichero_txt}\")\n"
   ]
  },
  {
   "cell_type": "markdown",
   "metadata": {},
   "source": [
    "### Finalización"
   ]
  },
  {
   "cell_type": "code",
   "execution_count": null,
   "metadata": {},
   "outputs": [],
   "source": [
    "end_time = datetime.datetime.now()\n",
    "total_time = end_time - start_time\n",
    "myfunc.verbose(f\"Notebook ha tardado {total_time} segundos\")"
   ]
  }
 ],
 "metadata": {
  "kernelspec": {
   "display_name": "Python 3 (ipykernel)",
   "language": "python",
   "name": "python3"
  },
  "language_info": {
   "codemirror_mode": {
    "name": "ipython",
    "version": 3
   },
   "file_extension": ".py",
   "mimetype": "text/x-python",
   "name": "python",
   "nbconvert_exporter": "python",
   "pygments_lexer": "ipython3",
   "version": "3.10.11"
  }
 },
 "nbformat": 4,
 "nbformat_minor": 2
}
